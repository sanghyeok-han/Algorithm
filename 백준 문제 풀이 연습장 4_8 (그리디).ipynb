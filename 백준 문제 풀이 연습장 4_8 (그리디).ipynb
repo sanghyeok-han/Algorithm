{
 "cells": [
  {
   "cell_type": "markdown",
   "metadata": {},
   "source": [
    "### AB 12970"
   ]
  },
  {
   "cell_type": "code",
   "execution_count": null,
   "metadata": {},
   "outputs": [],
   "source": [
    "AAAAA 0\n",
    "ABAAA 1\n",
    "AABAA 2\n",
    "AAABA 3\n",
    "AAAAB 4\n",
    "ABAAB 4\n",
    "AABAB 5\n",
    "AAABB 6\n",
    "\n",
    "AAAAAA 0\n",
    "\n",
    "\n",
    "AABAABAAB 2+4+6"
   ]
  },
  {
   "cell_type": "code",
   "execution_count": null,
   "metadata": {},
   "outputs": [],
   "source": [
    "AAAAAAA\n",
    "AAABBBB 12\n",
    "AAAABBB 12\n",
    "AABBBBB 10\n",
    "\n",
    "\n",
    "3 * 4\n",
    "2 * 5\n",
    "1 * 6"
   ]
  },
  {
   "cell_type": "code",
   "execution_count": null,
   "metadata": {},
   "outputs": [],
   "source": [
    "7: 3 * 4 12\n",
    "8: 4 * 4 16"
   ]
  },
  {
   "cell_type": "code",
   "execution_count": null,
   "metadata": {},
   "outputs": [],
   "source": [
    "AAAAABBB  5 * 3\n",
    "AAAABBBB 4 * 4\n",
    "AAABBBBB 3 * 5\n",
    "\n",
    "\n",
    "AB 1\n",
    "BA 0\n",
    "\n",
    "ABA 0\n",
    "BAA 0\n",
    "\n",
    "ABB 2\n",
    "BAB 1\n"
   ]
  },
  {
   "cell_type": "code",
   "execution_count": null,
   "metadata": {},
   "outputs": [],
   "source": [
    "needed   4\n",
    "AAABBB   9\n",
    "AAAABB   8\n",
    "AAAAAB   5\n",
    "AAAABB   4"
   ]
  },
  {
   "cell_type": "code",
   "execution_count": null,
   "metadata": {},
   "outputs": [],
   "source": [
    "needed   6\n",
    "AAABBB   9\n",
    "AAAABB   8\n",
    "AAAAAB   5\n",
    "AABAAB   6\n"
   ]
  },
  {
   "cell_type": "code",
   "execution_count": null,
   "metadata": {},
   "outputs": [],
   "source": [
    "needed   8\n",
    "AAABBB   9\n",
    "AAAABB   8\n",
    "AAAAAB   5\n",
    "AABAAB   6"
   ]
  },
  {
   "cell_type": "code",
   "execution_count": null,
   "metadata": {},
   "outputs": [],
   "source": [
    "needed   2\n",
    "AAABBB   9\n",
    "AAAABB   8\n",
    "AAAAAB   5\n",
    "AAAAAA   0\n",
    "AAAABA"
   ]
  },
  {
   "cell_type": "code",
   "execution_count": null,
   "metadata": {},
   "outputs": [],
   "source": [
    "AAAABBB  12\n",
    "AAAAABB  10\n",
    "AAAAAAB  5"
   ]
  },
  {
   "cell_type": "code",
   "execution_count": 11,
   "metadata": {},
   "outputs": [
    {
     "name": "stdout",
     "output_type": "stream",
     "text": [
      "12 32\n",
      "AAAAAAAABBBB\n"
     ]
    }
   ],
   "source": [
    "def get_count(li):\n",
    "    total = 0\n",
    "    ca = 0\n",
    "    for v in li:\n",
    "        if v == 'A':\n",
    "            ca += 1\n",
    "        else:\n",
    "            total += ca\n",
    "            \n",
    "    return total\n",
    "\n",
    "n, k = map(int, input().split())\n",
    "\n",
    "if n % 2 == 0 and (n // 2) ** 2 < k:\n",
    "    print(-1)\n",
    "elif n % 2 == 1 and (n // 2) * (n // 2 + 1) < k:\n",
    "    print(-1)\n",
    "else:\n",
    "    ca = n // 2\n",
    "    if n % 2 == 1:\n",
    "        ca += 1\n",
    "    cb = n // 2\n",
    "\n",
    "    li = ['A'] * ca + ['B'] * cb\n",
    "\n",
    "    while True:\n",
    "        c = get_count(li)\n",
    "\n",
    "        if c == k:\n",
    "            break\n",
    "        if c > k:\n",
    "            for i in range(n):\n",
    "                if li[i] == 'B':\n",
    "                    li[i] = 'A'\n",
    "                    break\n",
    "        else:\n",
    "            for i in range(n):\n",
    "                if li[i] == 'A':\n",
    "                    nli = li.copy()\n",
    "                    nli[i] = 'B'\n",
    "                    nc = get_count(nli)\n",
    "                    if nc == k:\n",
    "                        li = nli.copy()\n",
    "                        break\n",
    "\n",
    "    print(''.join(li))"
   ]
  },
  {
   "cell_type": "code",
   "execution_count": null,
   "metadata": {},
   "outputs": [],
   "source": [
    "12 35\n",
    "AAAAAAABBBBB"
   ]
  },
  {
   "cell_type": "code",
   "execution_count": null,
   "metadata": {},
   "outputs": [],
   "source": [
    "12 34\n",
    "AAAAAABABBBB"
   ]
  },
  {
   "cell_type": "code",
   "execution_count": null,
   "metadata": {},
   "outputs": [],
   "source": [
    "12 33\n",
    "AAAAABAABBBB"
   ]
  },
  {
   "cell_type": "code",
   "execution_count": null,
   "metadata": {},
   "outputs": [],
   "source": [
    "ABBBBB 5\n",
    "AABBBB 8\n",
    "AAABBB 9\n",
    "AAAABB 8\n",
    "AAAAAB 5\n",
    "\n",
    "AAABAB 3+4 7\n",
    "AABAAB 2+4 6\n",
    "ABAAAB 1+4 5\n",
    "BAAAAB 4   4\n",
    "\n",
    "AAAAAABBBBBB 6*6  36\n",
    "AAAAAAABBBBB 7*5  35\n",
    "\n",
    "AAAAAAAABBBB 8*4  24\n",
    "AAAAAAAAABBB 9*3  27\n",
    "AAAAAAAAAABB 10*2 20\n",
    "AAAAAAAAAAAB 11*1 11"
   ]
  },
  {
   "cell_type": "markdown",
   "metadata": {},
   "source": [
    "### 고득점 3663"
   ]
  },
  {
   "cell_type": "code",
   "execution_count": 55,
   "metadata": {},
   "outputs": [
    {
     "name": "stdout",
     "output_type": "stream",
     "text": [
      "JAN\n",
      "23\n"
     ]
    }
   ],
   "source": [
    "from collections import deque\n",
    "import sys\n",
    "# input = lambda: sys.stdin.readline().rstrip()\n",
    "\n",
    "inf = float('inf')\n",
    "\n",
    "for _ in range(int(input())):\n",
    "    s = input()\n",
    "    n = len(s)\n",
    "\n",
    "    if s.count('A') == n:\n",
    "        print(0)\n",
    "    else:\n",
    "        r = 0\n",
    "        intv = []\n",
    "        for i in range(n):\n",
    "            num = ord(s[i])\n",
    "\n",
    "            t1 = num - 65\n",
    "            t2 = 91 - num\n",
    "\n",
    "            r += min(t1, t2)    \n",
    "\n",
    "            if s[i] != 'A' and i + 1 < n and s[i + 1] == 'A':\n",
    "                intv.append([i, n])\n",
    "            if intv and s[i] == 'A' and i + 1 < n and s[i + 1] != 'A':\n",
    "                intv[-1][-1] = i + 1\n",
    "\n",
    "        t1 = 0\n",
    "        for i in range(1, n):\n",
    "            if s[i] != 'A':\n",
    "                t1 = i\n",
    "\n",
    "        t2 = 0\n",
    "        for i in range(n - 1, -1, -1):\n",
    "            if s[i] != 'A':\n",
    "                t2 = n - i\n",
    "\n",
    "        t3 = inf\n",
    "        for s, e in intv:\n",
    "            aa = s\n",
    "            bb = n - e\n",
    "            t3 = min(t3, min(aa, bb) * 2 + max(aa, bb))\n",
    "\n",
    "        r += min(t1, t2, t3)\n",
    "\n",
    "        print(r)"
   ]
  },
  {
   "cell_type": "markdown",
   "metadata": {},
   "source": [
    "### 연금술사 19857"
   ]
  },
  {
   "cell_type": "code",
   "execution_count": null,
   "metadata": {},
   "outputs": [],
   "source": [
    "n = int(input())\n",
    "li = list(map(int, input().split()))\n",
    "\n",
    "sli = [0] * (n + 1)\n",
    "cumul = 0\n",
    "for i in range(n):\n",
    "    cumul += li[i]\n",
    "    sli[i] = cumul\n",
    "sli[-1] = sli[-2]\n",
    "\n",
    "if sli[-1] == 1:\n",
    "    r = 1\n",
    "    for i in range(n - 1, -1, -1):\n",
    "        if li[i] == 1:\n",
    "            r = max(i, r)\n",
    "            break\n",
    "    print(r)\n",
    "else:\n",
    "    start = 1\n",
    "    end = int(1e10)\n",
    "    max_r = 1\n",
    "    while start <= end:\n",
    "        mid = (start + end) // 2\n",
    "        nli = li.copy()\n",
    "\n",
    "        if mid <= n:\n",
    "            nli[0] += sli[-1] - sli[mid - 1]\n",
    "\n",
    "        per_needed = 0\n",
    "         \n",
    "        \n",
    "        \n",
    "        \n",
    "        for i in range(mid - 1, 0, -1):\n",
    "            nli[i] -= per_needed\n",
    "            if nli[i] < 1:\n",
    "                per_needed += 1 - nli[i]\n",
    "                nli[i] = 1\n",
    "            else:\n",
    "                nli[0] += nli[i] - 1\n",
    "                nli[i] = 1\n",
    "\n",
    "        nli[0] -= per_needed\n",
    "\n",
    "        if nli[0] >= 1:\n",
    "            max_r = mid\n",
    "            start = mid + 1\n",
    "        else:\n",
    "            end = mid - 1 \n",
    "\n",
    "    print(max_r)"
   ]
  },
  {
   "cell_type": "code",
   "execution_count": 1,
   "metadata": {},
   "outputs": [
    {
     "data": {
      "text/plain": [
       "1024"
      ]
     },
     "execution_count": 1,
     "metadata": {},
     "output_type": "execute_result"
    }
   ],
   "source": [
    "2 ** 10"
   ]
  },
  {
   "cell_type": "code",
   "execution_count": 2,
   "metadata": {},
   "outputs": [
    {
     "data": {
      "text/plain": [
       "1000000000.0"
      ]
     },
     "execution_count": 2,
     "metadata": {},
     "output_type": "execute_result"
    }
   ],
   "source": [
    "1e9"
   ]
  }
 ],
 "metadata": {
  "kernelspec": {
   "display_name": "Python 3",
   "language": "python",
   "name": "python3"
  },
  "language_info": {
   "codemirror_mode": {
    "name": "ipython",
    "version": 3
   },
   "file_extension": ".py",
   "mimetype": "text/x-python",
   "name": "python",
   "nbconvert_exporter": "python",
   "pygments_lexer": "ipython3",
   "version": "3.7.4"
  }
 },
 "nbformat": 4,
 "nbformat_minor": 2
}
