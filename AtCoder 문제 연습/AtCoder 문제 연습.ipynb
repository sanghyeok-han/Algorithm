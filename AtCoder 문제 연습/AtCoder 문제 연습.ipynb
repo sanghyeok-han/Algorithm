{
 "cells": [
  {
   "cell_type": "markdown",
   "metadata": {},
   "source": [
    "A - Welcome to AtCoder"
   ]
  },
  {
   "cell_type": "code",
   "execution_count": 2,
   "metadata": {},
   "outputs": [
    {
     "name": "stdout",
     "output_type": "stream",
     "text": [
      "72\n",
      "128 256\n",
      "myonmyon\n",
      "456 myonmyon\n"
     ]
    }
   ],
   "source": [
    "a = int(input())\n",
    "b, c = map(int, input().split())\n",
    "s = input()\n",
    "\n",
    "print(a + b + c, s)"
   ]
  },
  {
   "cell_type": "markdown",
   "metadata": {},
   "source": [
    "ABC221 A"
   ]
  },
  {
   "cell_type": "code",
   "execution_count": 2,
   "metadata": {},
   "outputs": [
    {
     "name": "stdout",
     "output_type": "stream",
     "text": [
      "5 5\n",
      "1\n"
     ]
    }
   ],
   "source": [
    "a, b = map(int, input().split())\n",
    "print(32 ** (a - b))"
   ]
  },
  {
   "cell_type": "markdown",
   "metadata": {},
   "source": [
    "ABC221 B"
   ]
  },
  {
   "cell_type": "code",
   "execution_count": 4,
   "metadata": {},
   "outputs": [
    {
     "name": "stdout",
     "output_type": "stream",
     "text": [
      "abc\n",
      "acb\n",
      "Yes\n"
     ]
    }
   ],
   "source": [
    "def check():\n",
    "    for i in range(1, n):\n",
    "        a[i - 1], a[i] = a[i], a[i - 1]\n",
    "        if a == b:\n",
    "            return True\n",
    "        a[i - 1], a[i] = a[i], a[i - 1]\n",
    "        \n",
    "    return False\n",
    "    \n",
    "\n",
    "a = list(input())\n",
    "b = list(input())\n",
    "n = len(a)\n",
    "\n",
    "if a == b:\n",
    "    print('Yes')\n",
    "else:\n",
    "    if check():\n",
    "        print('Yes')\n",
    "    else:\n",
    "        print('No')"
   ]
  },
  {
   "cell_type": "markdown",
   "metadata": {},
   "source": [
    "ABC221 C"
   ]
  },
  {
   "cell_type": "code",
   "execution_count": 35,
   "metadata": {},
   "outputs": [
    {
     "name": "stdout",
     "output_type": "stream",
     "text": [
      "23\n",
      "6\n"
     ]
    }
   ],
   "source": [
    "from itertools import permutations as perm\n",
    "\n",
    "def calcul(a, b):\n",
    "    a = ''.join(a)\n",
    "    b = ''.join(b)\n",
    "    \n",
    "    a, b = int(a), int(b)\n",
    "    return a * b\n",
    "    \n",
    "s = input()\n",
    "\n",
    "zero_count = s.count('0')\n",
    "s = s.replace(\"0\", \"\")\n",
    "n = len(s)\n",
    "\n",
    "p = perm(s, n)\n",
    "max_result = 0\n",
    "for case in p:\n",
    "    for i in range(n - 1):\n",
    "        value = calcul(case[:i + 1], case[i + 1:n])\n",
    "        max_result = max(max_result, value)\n",
    "        \n",
    "print(max_result * 10 ** zero_count)"
   ]
  },
  {
   "cell_type": "markdown",
   "metadata": {},
   "source": [
    "ABC221 D"
   ]
  },
  {
   "cell_type": "code",
   "execution_count": 47,
   "metadata": {},
   "outputs": [
    {
     "name": "stdout",
     "output_type": "stream",
     "text": [
      "2\n",
      "1000000000 1000000000\n",
      "1000000000 1000000000\n",
      "0 1000000000\n"
     ]
    }
   ],
   "source": [
    "n = int(input())\n",
    "info = []\n",
    "for _ in range(n):\n",
    "    a, b = map(int, input().split())\n",
    "    \n",
    "    start = a\n",
    "    end = a + b\n",
    "    \n",
    "    info.append((start, 1))\n",
    "    info.append((end, 0))\n",
    "\n",
    "info.sort()\n",
    "    \n",
    "popul = 1\n",
    "cur_day = info[0][0]\n",
    "\n",
    "counts = [0] * (n + 1)\n",
    "for i in range(1, n * 2):\n",
    "    day, status = info[i]\n",
    "    \n",
    "    diff = day - cur_day\n",
    "    counts[popul] += diff\n",
    "    \n",
    "    if status:\n",
    "        popul += 1\n",
    "    else:\n",
    "        popul -= 1\n",
    "        \n",
    "    cur_day = day\n",
    "        \n",
    "print(*counts[1:])"
   ]
  },
  {
   "cell_type": "markdown",
   "metadata": {},
   "source": [
    "ABC219 A"
   ]
  },
  {
   "cell_type": "code",
   "execution_count": 9,
   "metadata": {},
   "outputs": [
    {
     "name": "stdout",
     "output_type": "stream",
     "text": [
      "32\n",
      "8\n"
     ]
    }
   ],
   "source": [
    "from bisect import bisect\n",
    "\n",
    "li = [40, 70, 90]\n",
    "x = int(input())\n",
    "\n",
    "r = bisect(li, x)\n",
    "if r == 3:\n",
    "    print('expert')\n",
    "else:\n",
    "    print(li[r] - x)"
   ]
  },
  {
   "cell_type": "markdown",
   "metadata": {},
   "source": [
    "ABC219 B"
   ]
  },
  {
   "cell_type": "code",
   "execution_count": 12,
   "metadata": {},
   "outputs": [
    {
     "name": "stdout",
     "output_type": "stream",
     "text": [
      "mari\n",
      "to\n",
      "zzo\n",
      "1321\n",
      "marizzotomari\n"
     ]
    }
   ],
   "source": [
    "s1 = input()\n",
    "s2 = input()\n",
    "s3 = input()\n",
    "\n",
    "li = [s1, s2, s3]\n",
    "cms = list(map(lambda x: int(x) - 1, input()))\n",
    "\n",
    "r = ''\n",
    "for cm in cms:\n",
    "    r += li[cm]\n",
    "    \n",
    "print(r)"
   ]
  },
  {
   "cell_type": "markdown",
   "metadata": {},
   "source": [
    "ABC219 C"
   ]
  },
  {
   "cell_type": "code",
   "execution_count": 23,
   "metadata": {},
   "outputs": [
    {
     "name": "stdout",
     "output_type": "stream",
     "text": [
      "zyxwvutsrqponmlkjihgfedcba\n",
      "5\n",
      "a\n",
      "ab\n",
      "abc\n",
      "ac\n",
      "b\n",
      "b\n",
      "a\n",
      "ac\n",
      "ab\n",
      "abc\n"
     ]
    }
   ],
   "source": [
    "order = input()\n",
    "n = int(input())\n",
    "li = [input() for _ in range(n)]\n",
    "\n",
    "origin = 'abcdef'\n",
    "to_origin = {order[i]: chr(i + 97) for i in range(26)}\n",
    "\n",
    "nli = []\n",
    "for s in li:\n",
    "    ns = ''\n",
    "    for v in s:\n",
    "        ns += to_origin[v]\n",
    "    nli.append((ns, s))\n",
    "    \n",
    "nli.sort(key=lambda x: x[0])\n",
    "for v in nli:\n",
    "    print(v[1])"
   ]
  },
  {
   "cell_type": "markdown",
   "metadata": {},
   "source": [
    "D - Project Planning https://atcoder.jp/contests/abc227/tasks/abc227_d"
   ]
  },
  {
   "cell_type": "code",
   "execution_count": 13,
   "metadata": {},
   "outputs": [
    {
     "name": "stdout",
     "output_type": "stream",
     "text": [
      "5 2\n",
      "1 1 1 1 1\n",
      "2\n"
     ]
    }
   ],
   "source": [
    "n, k = map(int, input().split())\n",
    "li = list(map(int, input().split()))\n",
    "\n",
    "start = 0\n",
    "end = int(1e18)\n",
    "\n",
    "result = 0\n",
    "while start <= end:\n",
    "    mid = (start + end) // 2\n",
    "    \n",
    "    sv = 0 # sum value\n",
    "    for v in li:\n",
    "        sv += min(v, mid)\n",
    "        \n",
    "    if k * mid <= sv:\n",
    "        result = mid\n",
    "        start = mid + 1\n",
    "    else:\n",
    "        end = mid - 1\n",
    "        \n",
    "print(result)"
   ]
  },
  {
   "cell_type": "markdown",
   "metadata": {},
   "source": [
    "D - Count Interval https://atcoder.jp/contests/abc233/tasks/abc233_d"
   ]
  },
  {
   "cell_type": "code",
   "execution_count": 26,
   "metadata": {},
   "outputs": [
    {
     "name": "stdout",
     "output_type": "stream",
     "text": [
      "2 -1000000000000000\n",
      "1000000000 -1000000000\n",
      "0\n"
     ]
    }
   ],
   "source": [
    "from collections import defaultdict as dd\n",
    "\n",
    "n, k = map(int, input().split())\n",
    "li = list(map(int, input().split()))\n",
    "\n",
    "sum_li = [0]\n",
    "cumul = 0\n",
    "for i in range(n):\n",
    "    cumul += li[i]\n",
    "    sum_li.append(cumul)\n",
    "\n",
    "d = dd(int)\n",
    "total = 0\n",
    "for i in range(n + 1):\n",
    "    total += d[sum_li[i] - k]\n",
    "    d[sum_li[i]] += 1\n",
    "    \n",
    "print(total)"
   ]
  },
  {
   "cell_type": "code",
   "execution_count": 28,
   "metadata": {},
   "outputs": [
    {
     "name": "stdout",
     "output_type": "stream",
     "text": [
      "3 0\n",
      "0 0 0\n",
      "6\n"
     ]
    }
   ],
   "source": [
    "from collections import defaultdict as dd\n",
    "\n",
    "n, k = map(int, input().split())\n",
    "li = list(map(int, input().split()))\n",
    "\n",
    "cumul = 0\n",
    "d = dd(int)\n",
    "d[0] += 1\n",
    "total = 0\n",
    "for i in range(n):\n",
    "    cumul += li[i]\n",
    "    total += d[cumul - k]\n",
    "    d[cumul] += 1\n",
    "    \n",
    "print(total)"
   ]
  },
  {
   "cell_type": "markdown",
   "metadata": {},
   "source": [
    "### https://atcoder.jp/contests/abc183/tasks/abc183_d D - Water Heater"
   ]
  },
  {
   "cell_type": "code",
   "execution_count": 2,
   "metadata": {},
   "outputs": [
    {
     "name": "stdout",
     "output_type": "stream",
     "text": [
      "4 10\n",
      "1 3 5\n",
      "2 4 4\n",
      "3 10 6\n",
      "2 4 1\n",
      "No\n"
     ]
    }
   ],
   "source": [
    "import sys\n",
    "input = lambda: sys.stdin.readline().rstrip()\n",
    "\n",
    "n, w = map(int, input().split())\n",
    "\n",
    "deltas = [0] * (2 * int(1e5) + 1)\n",
    "for _ in range(n):\n",
    "    s, t, p = map(int, input().split())\n",
    "    \n",
    "    deltas[s] += p\n",
    "    deltas[t] -= p\n",
    "    \n",
    "cumul = 0\n",
    "ip = True\n",
    "for i in range(2 * int(1e5) + 1):\n",
    "    cumul += deltas[i]\n",
    "    if cumul > w:\n",
    "        ip = False\n",
    "        break\n",
    "        \n",
    "if ip:\n",
    "    print('Yes')\n",
    "else:\n",
    "    print('No')"
   ]
  },
  {
   "cell_type": "markdown",
   "metadata": {},
   "source": [
    "### https://atcoder.jp/contests/abc183/tasks/abc183_c C - Travel"
   ]
  },
  {
   "cell_type": "code",
   "execution_count": 3,
   "metadata": {},
   "outputs": [
    {
     "name": "stdout",
     "output_type": "stream",
     "text": [
      "4 330\n",
      "0 1 10 100\n",
      "1 0 20 200\n",
      "10 20 0 300\n",
      "10 20 0 300\n",
      "0\n"
     ]
    }
   ],
   "source": [
    "from itertools import permutations as perm\n",
    "\n",
    "n, k = map(int, input().split())\n",
    "li = [list(map(int, input().split())) for _ in range(n)]\n",
    "\n",
    "cases = perm(range(1, n))\n",
    "count = 0\n",
    "for case in cases:\n",
    "    total = 0\n",
    "    case = [0] + list(case) + [0]\n",
    "    for i in range(1, n + 1):\n",
    "        f, t = case[i - 1], case[i]\n",
    "        total += li[f][t]\n",
    "        \n",
    "    if total == k:\n",
    "        count += 1\n",
    "        \n",
    "r = count\n",
    "\n",
    "print(r)"
   ]
  },
  {
   "cell_type": "markdown",
   "metadata": {},
   "source": [
    "### https://atcoder.jp/contests/abc183/tasks/abc183_b B - Billiards"
   ]
  },
  {
   "cell_type": "code",
   "execution_count": 17,
   "metadata": {},
   "outputs": [
    {
     "name": "stdout",
     "output_type": "stream",
     "text": [
      "-9 99 -999 9999\n",
      "-18.705882352941178\n"
     ]
    }
   ],
   "source": [
    "sx, sy, gx, gy = map(int, input().split())\n",
    "\n",
    "tx = ((gx * sy) + (gy * sx)) / (sy + gy)\n",
    "\n",
    "print(tx)"
   ]
  },
  {
   "cell_type": "markdown",
   "metadata": {},
   "source": [
    "### https://atcoder.jp/contests/abc183/tasks/abc183_a A - ReLU"
   ]
  },
  {
   "cell_type": "code",
   "execution_count": null,
   "metadata": {},
   "outputs": [],
   "source": [
    "x = int(input())\n",
    "\n",
    "if x < 0:\n",
    "    print(0)\n",
    "else:\n",
    "    print(x)"
   ]
  },
  {
   "cell_type": "code",
   "execution_count": 20,
   "metadata": {},
   "outputs": [
    {
     "data": {
      "text/plain": [
       "81"
      ]
     },
     "execution_count": 20,
     "metadata": {},
     "output_type": "execute_result"
    }
   ],
   "source": [
    "18 + 5 + 6 + 42 + 10"
   ]
  },
  {
   "cell_type": "markdown",
   "metadata": {},
   "source": [
    "### 제출용"
   ]
  },
  {
   "cell_type": "code",
   "execution_count": null,
   "metadata": {},
   "outputs": [],
   "source": [
    "import os\n",
    "import sys\n",
    "from io import BytesIO, IOBase\n",
    " \n",
    "\n",
    "def main(): \n",
    "    order = input()\n",
    "    n = int(input())\n",
    "    li = [input() for _ in range(n)]\n",
    "\n",
    "    origin = 'abcdef'\n",
    "    to_origin = {order[i]: chr(i + 97) for i in range(26)}\n",
    "\n",
    "    nli = []\n",
    "    for s in li:\n",
    "        ns = ''\n",
    "        for v in s:\n",
    "            ns += to_origin[v]\n",
    "        nli.append((ns, s))\n",
    "\n",
    "    nli.sort(key=lambda x: x[0])\n",
    "    for v in nli:\n",
    "        print(v[1])\n",
    "    \n",
    "\n",
    "# region fastio\n",
    " \n",
    "BUFSIZE = 8192\n",
    " \n",
    "\n",
    "class FastIO(IOBase):\n",
    "    newlines = 0\n",
    " \n",
    "    def __init__(self, file):\n",
    "        self._fd = file.fileno()\n",
    "        self.buffer = BytesIO()\n",
    "        self.writable = \"x\" in file.mode or \"r\" not in file.mode\n",
    "        self.write = self.buffer.write if self.writable else None\n",
    " \n",
    "    def read(self):\n",
    "        while True:\n",
    "            b = os.read(self._fd, max(os.fstat(self._fd).st_size, BUFSIZE))\n",
    "            if not b:\n",
    "                break\n",
    "            ptr = self.buffer.tell()\n",
    "            self.buffer.seek(0, 2), self.buffer.write(b), self.buffer.seek(ptr)\n",
    "        self.newlines = 0\n",
    "        return self.buffer.read()\n",
    " \n",
    "    def readline(self):\n",
    "        while self.newlines == 0:\n",
    "            b = os.read(self._fd, max(os.fstat(self._fd).st_size, BUFSIZE))\n",
    "            self.newlines = b.count(b\"\\n\") + (not b)\n",
    "            ptr = self.buffer.tell()\n",
    "            self.buffer.seek(0, 2), self.buffer.write(b), self.buffer.seek(ptr)\n",
    "        self.newlines -= 1\n",
    "        return self.buffer.readline()\n",
    " \n",
    "    def flush(self):\n",
    "        if self.writable:\n",
    "            os.write(self._fd, self.buffer.getvalue())\n",
    "            self.buffer.truncate(0), self.buffer.seek(0)\n",
    " \n",
    " \n",
    "class IOWrapper(IOBase):\n",
    "    def __init__(self, file):\n",
    "        self.buffer = FastIO(file)\n",
    "        self.flush = self.buffer.flush\n",
    "        self.writable = self.buffer.writable\n",
    "        self.write = lambda s: self.buffer.write(s.encode(\"ascii\"))\n",
    "        self.read = lambda: self.buffer.read().decode(\"ascii\")\n",
    "        self.readline = lambda: self.buffer.readline().decode(\"ascii\")\n",
    " \n",
    " \n",
    "sys.stdin, sys.stdout = IOWrapper(sys.stdin), IOWrapper(sys.stdout)\n",
    "input = lambda: sys.stdin.readline().rstrip(\"\\r\\n\")\n",
    " \n",
    "# endregion\n",
    " \n",
    "if __name__ == \"__main__\":\n",
    "    main()"
   ]
  },
  {
   "cell_type": "markdown",
   "metadata": {},
   "source": [
    "### https://atcoder.jp/contests/abc106/tasks/abc106_c C - To Infinity"
   ]
  },
  {
   "cell_type": "code",
   "execution_count": 8,
   "metadata": {},
   "outputs": [
    {
     "name": "stdout",
     "output_type": "stream",
     "text": [
      "299792458\n",
      "9460730472580800\n",
      "2\n"
     ]
    }
   ],
   "source": [
    "li = list(map(int, input()))\n",
    "k = int(input())\n",
    "\n",
    "for i in range(len(li)):\n",
    "    if li[i] != 1:\n",
    "        print(li[i])\n",
    "        break\n",
    "    if i + 1 == k:\n",
    "        print(1)\n",
    "        break"
   ]
  },
  {
   "cell_type": "markdown",
   "metadata": {},
   "source": [
    "### C - Ubiquity https://atcoder.jp/contests/abc178/tasks/abc178_c"
   ]
  },
  {
   "cell_type": "code",
   "execution_count": 4,
   "metadata": {},
   "outputs": [
    {
     "name": "stdout",
     "output_type": "stream",
     "text": [
      "869121\n",
      "2511445\n"
     ]
    }
   ],
   "source": [
    "n = int(input())\n",
    "mod = int(1e9) + 7\n",
    "\n",
    "r = pow(10, n, mod) - 2 * pow(9, n, mod) + pow(8, n, mod)\n",
    "r %= mod\n",
    "\n",
    "print(r)"
   ]
  },
  {
   "cell_type": "markdown",
   "metadata": {},
   "source": [
    "### C - Digital Graffiti https://atcoder.jp/contests/abc191/tasks/abc191_c"
   ]
  },
  {
   "cell_type": "code",
   "execution_count": 28,
   "metadata": {},
   "outputs": [
    {
     "name": "stdout",
     "output_type": "stream",
     "text": [
      "5 5\n",
      ".....\n",
      ".###.\n",
      ".###.\n",
      ".###.\n",
      ".....\n",
      "4\n"
     ]
    }
   ],
   "source": [
    "n, m = map(int, input().split())\n",
    "li = [input() for _ in range(n)]\n",
    "\n",
    "nli = []\n",
    "for v in li:\n",
    "    temp = ''\n",
    "    for w in v:\n",
    "        temp += w * 2\n",
    "    nli.append(temp)\n",
    "    \n",
    "nnli = []\n",
    "for v in nli:\n",
    "    for _ in range(2):\n",
    "        nnli.append(v)\n",
    "        \n",
    "li = nnli.copy()\n",
    "\n",
    "dx = [-1, 1, 0, 0]\n",
    "dy = [0, 0, -1, 1]\n",
    "count = 0\n",
    "for i in range(n * 2):\n",
    "    for j in range(m * 2):\n",
    "        cb = 0\n",
    "        cw = 0\n",
    "        for d in range(4):\n",
    "            ni = i + dx[d]\n",
    "            nj = j + dy[d]\n",
    "                \n",
    "            if ni < 0 or ni >= n * 2 or nj < 0 or nj >= m * 2:\n",
    "                break\n",
    "            if li[ni][nj] == '#':\n",
    "                cb += 1\n",
    "            else:\n",
    "                cw += 1\n",
    "                \n",
    "        if cb + cw < 4:\n",
    "            continue\n",
    "            \n",
    "        if cb == 2 or cw == 2:\n",
    "            count += 1\n",
    "            \n",
    "r = count\n",
    "\n",
    "print(r)"
   ]
  },
  {
   "cell_type": "markdown",
   "metadata": {},
   "source": [
    "https://atcoder.jp/contests/abc230 7:23 시작"
   ]
  },
  {
   "cell_type": "code",
   "execution_count": null,
   "metadata": {},
   "outputs": [],
   "source": [
    "import sys\n",
    "input = lambda: sys.stdin.readline().rstrip()"
   ]
  },
  {
   "cell_type": "markdown",
   "metadata": {},
   "source": [
    "A"
   ]
  },
  {
   "cell_type": "code",
   "execution_count": 4,
   "metadata": {},
   "outputs": [
    {
     "name": "stdout",
     "output_type": "stream",
     "text": [
      "19\n",
      "AGC019\n"
     ]
    }
   ],
   "source": [
    "n = int(input())\n",
    "\n",
    "if n >= 42:\n",
    "    n += 1\n",
    "    \n",
    "print('AGC' + str(n).rjust(3, '0'))"
   ]
  },
  {
   "cell_type": "markdown",
   "metadata": {},
   "source": [
    "B"
   ]
  },
  {
   "cell_type": "code",
   "execution_count": 7,
   "metadata": {
    "scrolled": true
   },
   "outputs": [
    {
     "name": "stdout",
     "output_type": "stream",
     "text": [
      "ox\n",
      "Yes\n"
     ]
    }
   ],
   "source": [
    "t = 'oxx' * int(1e5)\n",
    "s = input()\n",
    "\n",
    "if s in t:\n",
    "    print('Yes')\n",
    "else:\n",
    "    print('No')"
   ]
  },
  {
   "cell_type": "markdown",
   "metadata": {},
   "source": [
    "https://atcoder.jp/contests/arc136/tasks/arc136_a"
   ]
  },
  {
   "cell_type": "code",
   "execution_count": 7,
   "metadata": {},
   "outputs": [
    {
     "name": "stdout",
     "output_type": "stream",
     "text": [
      "4\n",
      "CABA\n",
      "CAAB\n"
     ]
    }
   ],
   "source": [
    "n = int(input())\n",
    "s = input()\n",
    "\n",
    "stack = [s[0]]\n",
    "for i in range(1, n):\n",
    "    if s[i] == 'C':\n",
    "        stack.append('C')\n",
    "    elif s[i] == 'A':\n",
    "        if stack[-1] == 'B':\n",
    "            stack.pop()\n",
    "            stack.append('A')\n",
    "            stack.append('B')\n",
    "        else:\n",
    "            stack.append(s[i])\n",
    "    elif s[i] == 'B':\n",
    "        if stack[-1] == 'B':\n",
    "            stack.pop()\n",
    "            stack.append('A')\n",
    "        else:\n",
    "            stack.append(s[i])\n",
    "            \n",
    "r = ''.join(stack)\n",
    "\n",
    "print(r)"
   ]
  },
  {
   "cell_type": "markdown",
   "metadata": {},
   "source": [
    "https://atcoder.jp/contests/arc135/tasks/arc135_b"
   ]
  },
  {
   "cell_type": "code",
   "execution_count": 6,
   "metadata": {},
   "outputs": [
    {
     "name": "stdout",
     "output_type": "stream",
     "text": [
      "1\n",
      "10\n",
      "Yes\n",
      "0 0 10\n"
     ]
    }
   ],
   "source": [
    "n = int(input())\n",
    "li = list(map(int, input().split()))\n",
    "\n",
    "added = [0, 0]\n",
    "for i in range(n):\n",
    "    added.append(li[i] - added[-1] - added[-2])\n",
    "    \n",
    "x_mins = []\n",
    "for i in range(0, n + 2, 3):\n",
    "    x_mins.append(-added[i])\n",
    "    \n",
    "y_mins = []\n",
    "for i in range(1, n + 2, 3):\n",
    "    y_mins.append(-added[i])\n",
    "    \n",
    "x_y_sum_maxs = []\n",
    "for i in range(2, n + 2, 3):\n",
    "    x_y_sum_maxs.append(added[i])\n",
    "    \n",
    "x_min = max(x_mins)\n",
    "y_min = max(y_mins)\n",
    "x_y_sum_max = min(x_y_sum_maxs)\n",
    "\n",
    "if x_min + y_min > x_y_sum_max:\n",
    "    print('No')\n",
    "else:\n",
    "    r = []\n",
    "    x = x_min\n",
    "    y = y_min\n",
    "    \n",
    "    for i in range(n + 2):\n",
    "        if i % 3 == 0:\n",
    "            r.append(x + added[i])\n",
    "        elif i % 3 == 1:\n",
    "            r.append(y + added[i])\n",
    "        else:\n",
    "            r.append(added[i] - x - y)\n",
    "            \n",
    "    print('Yes')\n",
    "    print(*r)"
   ]
  },
  {
   "cell_type": "markdown",
   "metadata": {},
   "source": [
    "https://atcoder.jp/contests/abc241/tasks/abc241_d"
   ]
  },
  {
   "cell_type": "code",
   "execution_count": null,
   "metadata": {},
   "outputs": [],
   "source": [
    "import sys\n",
    "# input = lambda: sys.stdin.readline().rstrip()\n",
    "\n",
    "# https://github.com/tatyam-prime/SortedSet/blob/main/SortedMultiset.py\n",
    "import math\n",
    "from bisect import bisect_left, bisect_right, insort\n",
    "from typing import Generic, Iterable, Iterator, TypeVar, Union, List\n",
    "T = TypeVar('T')\n",
    "\n",
    "class SortedMultiset(Generic[T]):\n",
    "    BUCKET_RATIO = 50\n",
    "    REBUILD_RATIO = 170\n",
    "\n",
    "    def _build(self, a=None) -> None:\n",
    "        \"Evenly divide `a` into buckets.\"\n",
    "        if a is None: a = list(self)\n",
    "        size = self.size = len(a)\n",
    "        bucket_size = int(math.ceil(math.sqrt(size / self.BUCKET_RATIO)))\n",
    "        self.a = [a[size * i // bucket_size : size * (i + 1) // bucket_size] for i in range(bucket_size)]\n",
    "    \n",
    "    def __init__(self, a: Iterable[T] = []) -> None:\n",
    "        \"Make a new SortedMultiset from iterable. / O(N) if sorted / O(N log N)\"\n",
    "        a = list(a)\n",
    "        if not all(a[i] <= a[i + 1] for i in range(len(a) - 1)):\n",
    "            a = sorted(a)\n",
    "        self._build(a)\n",
    "\n",
    "    def __iter__(self) -> Iterator[T]:\n",
    "        for i in self.a:\n",
    "            for j in i: yield j\n",
    "\n",
    "    def __reversed__(self) -> Iterator[T]:\n",
    "        for i in reversed(self.a):\n",
    "            for j in reversed(i): yield j\n",
    "    \n",
    "    def __len__(self) -> int:\n",
    "        return self.size\n",
    "    \n",
    "    def __repr__(self) -> str:\n",
    "        return \"SortedMultiset\" + str(self.a)\n",
    "    \n",
    "    def __str__(self) -> str:\n",
    "        s = str(list(self))\n",
    "        return \"{\" + s[1 : len(s) - 1] + \"}\"\n",
    "\n",
    "    def _find_bucket(self, x: T) -> List[T]:\n",
    "        \"Find the bucket which should contain x. self must not be empty.\"\n",
    "        for a in self.a:\n",
    "            if x <= a[-1]: return a\n",
    "        return a\n",
    "\n",
    "    def __contains__(self, x: T) -> bool:\n",
    "        if self.size == 0: return False\n",
    "        a = self._find_bucket(x)\n",
    "        i = bisect_left(a, x)\n",
    "        return i != len(a) and a[i] == x\n",
    "\n",
    "    def count(self, x: T) -> int:\n",
    "        \"Count the number of x.\"\n",
    "        return self.index_right(x) - self.index(x)\n",
    "\n",
    "    def add(self, x: T) -> None:\n",
    "        \"Add an element. / O(√N)\"\n",
    "        if self.size == 0:\n",
    "            self.a = [[x]]\n",
    "            self.size = 1\n",
    "            return\n",
    "        a = self._find_bucket(x)\n",
    "        insort(a, x)\n",
    "        self.size += 1\n",
    "        if len(a) > len(self.a) * self.REBUILD_RATIO:\n",
    "            self._build()\n",
    "\n",
    "    def discard(self, x: T) -> bool:\n",
    "        \"Remove an element and return True if removed. / O(√N)\"\n",
    "        if self.size == 0: return False\n",
    "        a = self._find_bucket(x)\n",
    "        i = bisect_left(a, x)\n",
    "        if i == len(a) or a[i] != x: return False\n",
    "        a.pop(i)\n",
    "        self.size -= 1\n",
    "        if len(a) == 0: self._build()\n",
    "        return True\n",
    "\n",
    "    def lt(self, x: T) -> Union[T, None]:\n",
    "        \"Find the largest element < x, or None if it doesn't exist.\"\n",
    "        for a in reversed(self.a):\n",
    "            if a[0] < x:\n",
    "                return a[bisect_left(a, x) - 1]\n",
    "\n",
    "    def le(self, x: T) -> Union[T, None]:\n",
    "        \"Find the largest element <= x, or None if it doesn't exist.\"\n",
    "        for a in reversed(self.a):\n",
    "            if a[0] <= x:\n",
    "                return a[bisect_right(a, x) - 1]\n",
    "\n",
    "    def gt(self, x: T) -> Union[T, None]:\n",
    "        \"Find the smallest element > x, or None if it doesn't exist.\"\n",
    "        for a in self.a:\n",
    "            if a[-1] > x:\n",
    "                return a[bisect_right(a, x)]\n",
    "\n",
    "    def ge(self, x: T) -> Union[T, None]:\n",
    "        \"Find the smallest element >= x, or None if it doesn't exist.\"\n",
    "        for a in self.a:\n",
    "            if a[-1] >= x:\n",
    "                return a[bisect_left(a, x)]\n",
    "    \n",
    "    def __getitem__(self, x: int) -> T:\n",
    "        \"Return the x-th element, or IndexError if it doesn't exist.\"\n",
    "        if x < 0: x += self.size\n",
    "        if x < 0: raise IndexError\n",
    "        for a in self.a:\n",
    "            if x < len(a): return a[x]\n",
    "            x -= len(a)\n",
    "        raise IndexError\n",
    "\n",
    "    def index(self, x: T) -> int:\n",
    "        \"Count the number of elements < x.\"\n",
    "        ans = 0\n",
    "        for a in self.a:\n",
    "            if a[-1] >= x:\n",
    "                return ans + bisect_left(a, x)\n",
    "            ans += len(a)\n",
    "        return ans\n",
    "\n",
    "    def index_right(self, x: T) -> int:\n",
    "        \"Count the number of elements <= x.\"\n",
    "        ans = 0\n",
    "        for a in self.a:\n",
    "            if a[-1] > x:\n",
    "                return ans + bisect_right(a, x)\n",
    "            ans += len(a)\n",
    "        return ans\n",
    "\n",
    "q = int(input())\n",
    "\n",
    "ms = SortedMultiset()\n",
    "for _ in range(q):\n",
    "    qs = list(map(int, input().split()))\n",
    "    \n",
    "    if qs[0] == 1:\n",
    "        ms.add(qs[1])\n",
    "    elif qs[0] == 2:\n",
    "        index = ms.index_right(qs[1]) - 1\n",
    "        index -= (qs[2] - 1)\n",
    "        \n",
    "        if index >= 0:\n",
    "            print(ms[index])\n",
    "        else:\n",
    "            print(-1)\n",
    "    else:\n",
    "        index = ms.index(qs[1])\n",
    "        index += (qs[2] - 1)\n",
    "        \n",
    "        if index < len(ms):\n",
    "            print(ms[index])\n",
    "        else:\n",
    "            print(-1)"
   ]
  },
  {
   "cell_type": "markdown",
   "metadata": {},
   "source": [
    "https://atcoder.jp/contests/abc245/tasks/abc245_d"
   ]
  },
  {
   "cell_type": "code",
   "execution_count": 3,
   "metadata": {},
   "outputs": [
    {
     "name": "stdout",
     "output_type": "stream",
     "text": [
      "1 2\n",
      "0 1\n",
      "0 1 2 3\n",
      "1 2 3\n"
     ]
    }
   ],
   "source": [
    "n, m = map(int, input().split())\n",
    "a = list(map(int, input().split()))\n",
    "c = list(map(int, input().split()))\n",
    "\n",
    "b = [1000] * (m + 1)\n",
    "for cc in range(n + m + 1):\n",
    "    to_sub = 0\n",
    "    target = -1\n",
    "    for aa in range(101):\n",
    "        bb = cc - aa\n",
    "        if aa > n or bb > m or bb < 0:\n",
    "            continue\n",
    "        if a[aa] == 0:\n",
    "            continue\n",
    "        if b[bb] == 1000:\n",
    "            target = bb\n",
    "            to_divide = a[aa]\n",
    "        else:\n",
    "            to_sub += a[aa] * b[bb]\n",
    "            \n",
    "    if target != -1:\n",
    "        if to_divide == 0:\n",
    "            b[target] = 0\n",
    "        else:    \n",
    "            c[cc] -= to_sub\n",
    "            c[cc] //= to_divide\n",
    "            b[target] = c[cc]\n",
    "\n",
    "print(*b)"
   ]
  }
 ],
 "metadata": {
  "kernelspec": {
   "display_name": "Python 3",
   "language": "python",
   "name": "python3"
  },
  "language_info": {
   "codemirror_mode": {
    "name": "ipython",
    "version": 3
   },
   "file_extension": ".py",
   "mimetype": "text/x-python",
   "name": "python",
   "nbconvert_exporter": "python",
   "pygments_lexer": "ipython3",
   "version": "3.7.4"
  }
 },
 "nbformat": 4,
 "nbformat_minor": 4
}
