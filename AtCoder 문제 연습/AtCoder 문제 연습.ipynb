{
 "cells": [
  {
   "cell_type": "markdown",
   "metadata": {},
   "source": [
    "A - Welcome to AtCoder"
   ]
  },
  {
   "cell_type": "code",
   "execution_count": 2,
   "metadata": {},
   "outputs": [
    {
     "name": "stdout",
     "output_type": "stream",
     "text": [
      "72\n",
      "128 256\n",
      "myonmyon\n",
      "456 myonmyon\n"
     ]
    }
   ],
   "source": [
    "a = int(input())\n",
    "b, c = map(int, input().split())\n",
    "s = input()\n",
    "\n",
    "print(a + b + c, s)"
   ]
  },
  {
   "cell_type": "markdown",
   "metadata": {},
   "source": [
    "ABC221 A"
   ]
  },
  {
   "cell_type": "code",
   "execution_count": 2,
   "metadata": {},
   "outputs": [
    {
     "name": "stdout",
     "output_type": "stream",
     "text": [
      "5 5\n",
      "1\n"
     ]
    }
   ],
   "source": [
    "a, b = map(int, input().split())\n",
    "print(32 ** (a - b))"
   ]
  },
  {
   "cell_type": "markdown",
   "metadata": {},
   "source": [
    "ABC221 B"
   ]
  },
  {
   "cell_type": "code",
   "execution_count": 4,
   "metadata": {},
   "outputs": [
    {
     "name": "stdout",
     "output_type": "stream",
     "text": [
      "abc\n",
      "acb\n",
      "Yes\n"
     ]
    }
   ],
   "source": [
    "def check():\n",
    "    for i in range(1, n):\n",
    "        a[i - 1], a[i] = a[i], a[i - 1]\n",
    "        if a == b:\n",
    "            return True\n",
    "        a[i - 1], a[i] = a[i], a[i - 1]\n",
    "        \n",
    "    return False\n",
    "    \n",
    "\n",
    "a = list(input())\n",
    "b = list(input())\n",
    "n = len(a)\n",
    "\n",
    "if a == b:\n",
    "    print('Yes')\n",
    "else:\n",
    "    if check():\n",
    "        print('Yes')\n",
    "    else:\n",
    "        print('No')"
   ]
  },
  {
   "cell_type": "code",
   "execution_count": null,
   "metadata": {},
   "outputs": [],
   "source": [
    "ABC221 C"
   ]
  },
  {
   "cell_type": "code",
   "execution_count": 35,
   "metadata": {},
   "outputs": [
    {
     "name": "stdout",
     "output_type": "stream",
     "text": [
      "23\n",
      "6\n"
     ]
    }
   ],
   "source": [
    "from itertools import permutations as perm\n",
    "\n",
    "def calcul(a, b):\n",
    "    a = ''.join(a)\n",
    "    b = ''.join(b)\n",
    "    \n",
    "    a, b = int(a), int(b)\n",
    "    return a * b\n",
    "    \n",
    "s = input()\n",
    "\n",
    "zero_count = s.count('0')\n",
    "s = s.replace(\"0\", \"\")\n",
    "n = len(s)\n",
    "\n",
    "p = perm(s, n)\n",
    "max_result = 0\n",
    "for case in p:\n",
    "    for i in range(n - 1):\n",
    "        value = calcul(case[:i + 1], case[i + 1:n])\n",
    "        max_result = max(max_result, value)\n",
    "        \n",
    "print(max_result * 10 ** zero_count)"
   ]
  },
  {
   "cell_type": "markdown",
   "metadata": {},
   "source": [
    "ABC221 D"
   ]
  },
  {
   "cell_type": "code",
   "execution_count": 47,
   "metadata": {},
   "outputs": [
    {
     "name": "stdout",
     "output_type": "stream",
     "text": [
      "2\n",
      "1000000000 1000000000\n",
      "1000000000 1000000000\n",
      "0 1000000000\n"
     ]
    }
   ],
   "source": [
    "n = int(input())\n",
    "info = []\n",
    "for _ in range(n):\n",
    "    a, b = map(int, input().split())\n",
    "    \n",
    "    start = a\n",
    "    end = a + b\n",
    "    \n",
    "    info.append((start, 1))\n",
    "    info.append((end, 0))\n",
    "\n",
    "info.sort()\n",
    "    \n",
    "popul = 1\n",
    "cur_day = info[0][0]\n",
    "\n",
    "counts = [0] * (n + 1)\n",
    "for i in range(1, n * 2):\n",
    "    day, status = info[i]\n",
    "    \n",
    "    diff = day - cur_day\n",
    "    counts[popul] += diff\n",
    "    \n",
    "    if status:\n",
    "        popul += 1\n",
    "    else:\n",
    "        popul -= 1\n",
    "        \n",
    "    cur_day = day\n",
    "        \n",
    "print(*counts[1:])"
   ]
  },
  {
   "cell_type": "markdown",
   "metadata": {},
   "source": [
    "ABC219 A"
   ]
  },
  {
   "cell_type": "code",
   "execution_count": 9,
   "metadata": {},
   "outputs": [
    {
     "name": "stdout",
     "output_type": "stream",
     "text": [
      "32\n",
      "8\n"
     ]
    }
   ],
   "source": [
    "from bisect import bisect\n",
    "\n",
    "li = [40, 70, 90]\n",
    "x = int(input())\n",
    "\n",
    "r = bisect(li, x)\n",
    "if r == 3:\n",
    "    print('expert')\n",
    "else:\n",
    "    print(li[r] - x)"
   ]
  },
  {
   "cell_type": "markdown",
   "metadata": {},
   "source": [
    "ABC219 B"
   ]
  },
  {
   "cell_type": "code",
   "execution_count": 12,
   "metadata": {},
   "outputs": [
    {
     "name": "stdout",
     "output_type": "stream",
     "text": [
      "mari\n",
      "to\n",
      "zzo\n",
      "1321\n",
      "marizzotomari\n"
     ]
    }
   ],
   "source": [
    "s1 = input()\n",
    "s2 = input()\n",
    "s3 = input()\n",
    "\n",
    "li = [s1, s2, s3]\n",
    "cms = list(map(lambda x: int(x) - 1, input()))\n",
    "\n",
    "r = ''\n",
    "for cm in cms:\n",
    "    r += li[cm]\n",
    "    \n",
    "print(r)"
   ]
  },
  {
   "cell_type": "markdown",
   "metadata": {},
   "source": [
    "ABC219 C"
   ]
  },
  {
   "cell_type": "code",
   "execution_count": 23,
   "metadata": {},
   "outputs": [
    {
     "name": "stdout",
     "output_type": "stream",
     "text": [
      "zyxwvutsrqponmlkjihgfedcba\n",
      "5\n",
      "a\n",
      "ab\n",
      "abc\n",
      "ac\n",
      "b\n",
      "b\n",
      "a\n",
      "ac\n",
      "ab\n",
      "abc\n"
     ]
    }
   ],
   "source": [
    "order = input()\n",
    "n = int(input())\n",
    "li = [input() for _ in range(n)]\n",
    "\n",
    "origin = 'abcdef'\n",
    "to_origin = {order[i]: chr(i + 97) for i in range(26)}\n",
    "\n",
    "nli = []\n",
    "for s in li:\n",
    "    ns = ''\n",
    "    for v in s:\n",
    "        ns += to_origin[v]\n",
    "    nli.append((ns, s))\n",
    "    \n",
    "nli.sort(key=lambda x: x[0])\n",
    "for v in nli:\n",
    "    print(v[1])"
   ]
  },
  {
   "cell_type": "markdown",
   "metadata": {},
   "source": [
    "ABC219 D"
   ]
  },
  {
   "cell_type": "code",
   "execution_count": null,
   "metadata": {},
   "outputs": [],
   "source": []
  },
  {
   "cell_type": "markdown",
   "metadata": {},
   "source": [
    "### 제출용"
   ]
  },
  {
   "cell_type": "code",
   "execution_count": null,
   "metadata": {},
   "outputs": [],
   "source": [
    "import os\n",
    "import sys\n",
    "from io import BytesIO, IOBase\n",
    " \n",
    "\n",
    "def main(): \n",
    "    order = input()\n",
    "    n = int(input())\n",
    "    li = [input() for _ in range(n)]\n",
    "\n",
    "    origin = 'abcdef'\n",
    "    to_origin = {order[i]: chr(i + 97) for i in range(26)}\n",
    "\n",
    "    nli = []\n",
    "    for s in li:\n",
    "        ns = ''\n",
    "        for v in s:\n",
    "            ns += to_origin[v]\n",
    "        nli.append((ns, s))\n",
    "\n",
    "    nli.sort(key=lambda x: x[0])\n",
    "    for v in nli:\n",
    "        print(v[1])\n",
    "    \n",
    "\n",
    "# region fastio\n",
    " \n",
    "BUFSIZE = 8192\n",
    " \n",
    "\n",
    "class FastIO(IOBase):\n",
    "    newlines = 0\n",
    " \n",
    "    def __init__(self, file):\n",
    "        self._fd = file.fileno()\n",
    "        self.buffer = BytesIO()\n",
    "        self.writable = \"x\" in file.mode or \"r\" not in file.mode\n",
    "        self.write = self.buffer.write if self.writable else None\n",
    " \n",
    "    def read(self):\n",
    "        while True:\n",
    "            b = os.read(self._fd, max(os.fstat(self._fd).st_size, BUFSIZE))\n",
    "            if not b:\n",
    "                break\n",
    "            ptr = self.buffer.tell()\n",
    "            self.buffer.seek(0, 2), self.buffer.write(b), self.buffer.seek(ptr)\n",
    "        self.newlines = 0\n",
    "        return self.buffer.read()\n",
    " \n",
    "    def readline(self):\n",
    "        while self.newlines == 0:\n",
    "            b = os.read(self._fd, max(os.fstat(self._fd).st_size, BUFSIZE))\n",
    "            self.newlines = b.count(b\"\\n\") + (not b)\n",
    "            ptr = self.buffer.tell()\n",
    "            self.buffer.seek(0, 2), self.buffer.write(b), self.buffer.seek(ptr)\n",
    "        self.newlines -= 1\n",
    "        return self.buffer.readline()\n",
    " \n",
    "    def flush(self):\n",
    "        if self.writable:\n",
    "            os.write(self._fd, self.buffer.getvalue())\n",
    "            self.buffer.truncate(0), self.buffer.seek(0)\n",
    " \n",
    " \n",
    "class IOWrapper(IOBase):\n",
    "    def __init__(self, file):\n",
    "        self.buffer = FastIO(file)\n",
    "        self.flush = self.buffer.flush\n",
    "        self.writable = self.buffer.writable\n",
    "        self.write = lambda s: self.buffer.write(s.encode(\"ascii\"))\n",
    "        self.read = lambda: self.buffer.read().decode(\"ascii\")\n",
    "        self.readline = lambda: self.buffer.readline().decode(\"ascii\")\n",
    " \n",
    " \n",
    "sys.stdin, sys.stdout = IOWrapper(sys.stdin), IOWrapper(sys.stdout)\n",
    "input = lambda: sys.stdin.readline().rstrip(\"\\r\\n\")\n",
    " \n",
    "# endregion\n",
    " \n",
    "if __name__ == \"__main__\":\n",
    "    main()"
   ]
  }
 ],
 "metadata": {
  "kernelspec": {
   "display_name": "Python 3",
   "language": "python",
   "name": "python3"
  },
  "language_info": {
   "codemirror_mode": {
    "name": "ipython",
    "version": 3
   },
   "file_extension": ".py",
   "mimetype": "text/x-python",
   "name": "python",
   "nbconvert_exporter": "python",
   "pygments_lexer": "ipython3",
   "version": "3.7.3"
  }
 },
 "nbformat": 4,
 "nbformat_minor": 4
}
