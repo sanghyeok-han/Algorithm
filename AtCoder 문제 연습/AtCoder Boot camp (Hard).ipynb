{
 "cells": [
  {
   "cell_type": "markdown",
   "metadata": {},
   "source": [
    "1. D - Gathering Children"
   ]
  },
  {
   "cell_type": "code",
   "execution_count": 9,
   "metadata": {},
   "outputs": [
    {
     "name": "stdout",
     "output_type": "stream",
     "text": [
      "RL\n",
      "1 1\n"
     ]
    }
   ],
   "source": [
    "s = input()\n",
    "n = len(s)\n",
    "\n",
    "rlsi = [] # rl start indices\n",
    "\n",
    "cr = 0\n",
    "former = ''\n",
    "to_reflects = [[] for _ in range(n)]\n",
    "for i in range(n):\n",
    "    if s[i] == 'R':\n",
    "        cr += 1\n",
    "        former = 'R'\n",
    "    else:\n",
    "        if former == 'R':\n",
    "            rlsi.append(i - 1)\n",
    "            to_reflects[i - 1] = range(1, cr)\n",
    "        former = 'L'\n",
    "        cr = 0\n",
    "        \n",
    "cl = 0\n",
    "former = ''\n",
    "for i in range(n - 1, -1, -1):\n",
    "    if s[i] == 'L':\n",
    "        cl += 1\n",
    "        former = 'L'\n",
    "    else:\n",
    "        if former == 'L':\n",
    "            to_reflects[i + 1] = range(1, cl)\n",
    "        former = 'R'\n",
    "        cl = 0\n",
    "        \n",
    "cs = [0] * n # counts\n",
    "for index in rlsi:\n",
    "    cs[index] = 1\n",
    "    cs[index + 1] = 1\n",
    "    \n",
    "    for v in to_reflects[index]:\n",
    "        if v % 2 == 1:\n",
    "            cs[index + 1] += 1\n",
    "        else:\n",
    "            cs[index] += 1\n",
    "            \n",
    "    for v in to_reflects[index + 1]:\n",
    "        if v % 2 == 1:\n",
    "            cs[index] += 1\n",
    "        else:\n",
    "            cs[index + 1] += 1\n",
    "            \n",
    "print(*cs)"
   ]
  },
  {
   "cell_type": "markdown",
   "metadata": {},
   "source": [
    "2. B - Kleene Inversion"
   ]
  },
  {
   "cell_type": "code",
   "execution_count": 15,
   "metadata": {},
   "outputs": [
    {
     "name": "stdout",
     "output_type": "stream",
     "text": [
      "10 998244353\n",
      "10 9 8 7 5 6 3 4 2 1\n",
      "185297239\n"
     ]
    }
   ],
   "source": [
    "mod = int(1e9) + 7\n",
    "\n",
    "n, k = map(int, input().split())\n",
    "li = list(map(int, input().split()))\n",
    "\n",
    "curs = [0] * n\n",
    "for i in range(n):\n",
    "    for j in range(i + 1, n):\n",
    "        if li[i] > li[j]:\n",
    "            curs[i] += 1\n",
    "            \n",
    "nli = [(v, i) for i, v in enumerate(li)]\n",
    "nli.sort(key=lambda x: x[0])\n",
    "\n",
    "furs = [0] * n\n",
    "fm = -1\n",
    "cumul = 0\n",
    "for i in range(n):\n",
    "    if nli[i][0] != fm:\n",
    "        fm = nli[i][0]\n",
    "        cumul = i\n",
    "        furs[nli[i][1]] = cumul\n",
    "    else:\n",
    "        furs[nli[i][1]] = cumul\n",
    "        \n",
    "total = 0\n",
    "for v in curs:\n",
    "    temp = v * k % mod\n",
    "    total += temp\n",
    "    total %= mod\n",
    "    \n",
    "def get_sum(num):\n",
    "    return num * (num + 1) // 2\n",
    "\n",
    "w = get_sum(k - 1) % mod\n",
    "temp = sum(furs) % mod\n",
    "\n",
    "total += w * temp\n",
    "total %= mod\n",
    "\n",
    "print(total)"
   ]
  },
  {
   "cell_type": "markdown",
   "metadata": {},
   "source": [
    "3. A - Range Flip Find Route"
   ]
  },
  {
   "cell_type": "code",
   "execution_count": 25,
   "metadata": {},
   "outputs": [
    {
     "name": "stdout",
     "output_type": "stream",
     "text": [
      "4\n"
     ]
    }
   ],
   "source": [
    "h, w = map(int, input().split())\n",
    "li = [input() for _ in range(h)]\n",
    "\n",
    "# h, w = 5, 5\n",
    "# s = '''.#.#.\n",
    "# #.#.#\n",
    "# .#.#.\n",
    "# #.#.#\n",
    "# .#.#.'''\n",
    "# li = s.split('\\n')\n",
    "\n",
    "dp = [[float('inf')] * w for _ in range(h)]\n",
    "if li[0][0] == '#':\n",
    "    dp[0][0] = 1\n",
    "else:\n",
    "    dp[0][0] = 0\n",
    "    \n",
    "for i in range(h):\n",
    "    for j in range(w):\n",
    "        if i == 0 and j == 0:\n",
    "            continue\n",
    "        \n",
    "        t1 = float('inf')\n",
    "        if i - 1 >= 0:\n",
    "            temp = dp[i - 1][j]\n",
    "            if li[i - 1][j] == '.' and li[i][j] == '#':\n",
    "                temp += 1\n",
    "            t1 = temp\n",
    "            \n",
    "        t2 = float('inf')\n",
    "        if j - 1 >= 0:\n",
    "            temp = dp[i][j - 1]\n",
    "            if li[i][j - 1] == '.' and li[i][j] == '#':\n",
    "                temp += 1\n",
    "            t2 = temp\n",
    "        \n",
    "        dp[i][j] = min(t1, t2)\n",
    "        \n",
    "print(dp[h - 1][w - 1])"
   ]
  },
  {
   "cell_type": "markdown",
   "metadata": {},
   "source": [
    "4. B - Between a and b ..."
   ]
  },
  {
   "cell_type": "code",
   "execution_count": 34,
   "metadata": {},
   "outputs": [
    {
     "name": "stdout",
     "output_type": "stream",
     "text": [
      "1 1000000000000000000 3\n"
     ]
    }
   ],
   "source": [
    "a, b, x = map(int, input().split())\n",
    "\n",
    "temp = b // x - max(0, a - 1) // x\n",
    "if a == 0:\n",
    "    temp += 1\n",
    "    \n",
    "print(temp)"
   ]
  },
  {
   "cell_type": "markdown",
   "metadata": {},
   "source": [
    "5. D. Powerful Discount Tickets"
   ]
  },
  {
   "cell_type": "code",
   "execution_count": 44,
   "metadata": {},
   "outputs": [
    {
     "name": "stdout",
     "output_type": "stream",
     "text": [
      "10 1\n",
      "1000000000 1000000000 1000000000 1000000000 1000000000 1000000000 1000000000 1000000000 1000000000 1000000000\n",
      "9500000000\n"
     ]
    }
   ],
   "source": [
    "from heapq import heappush, heappop, heapify\n",
    "\n",
    "n, m = map(int, input().split())\n",
    "\n",
    "get_num = lambda x: -int(x)\n",
    "heap = list(map(get_num, input().split()))\n",
    "heapify(heap)\n",
    "\n",
    "for _ in range(m):\n",
    "    v = heappop(heap)\n",
    "    \n",
    "    nv = (-v) // 2\n",
    "    heappush(heap, -nv)\n",
    "    \n",
    "total = -sum(heap)\n",
    "\n",
    "print(total)"
   ]
  },
  {
   "cell_type": "markdown",
   "metadata": {},
   "source": [
    "6. C - Dubious Document 2"
   ]
  },
  {
   "cell_type": "code",
   "execution_count": 53,
   "metadata": {},
   "outputs": [
    {
     "name": "stdout",
     "output_type": "stream",
     "text": [
      "asdf\n",
      "f\n",
      "asdf\n"
     ]
    }
   ],
   "source": [
    "li = list(input())\n",
    "n = len(li)\n",
    "\n",
    "t = input()\n",
    "m = len(t)\n",
    "\n",
    "if n < m:\n",
    "    print('UNRESTORABLE')\n",
    "else:\n",
    "    for i in range(n - m, -1, -1):\n",
    "        ip = True\n",
    "        for j in range(i, i + m):\n",
    "            if li[j] == '?':\n",
    "                continue\n",
    "            if li[j] != t[j - i]:\n",
    "                ip = False\n",
    "                break\n",
    "        if ip:\n",
    "            for j in range(i, i + m):\n",
    "                if li[j] == '?':\n",
    "                    li[j] = t[j - i]\n",
    "            break\n",
    "                        \n",
    "    if ip:\n",
    "        for i in range(n):\n",
    "            if li[i] == '?':\n",
    "                li[i] = 'a'\n",
    "        print(''.join(li))\n",
    "    else:\n",
    "        print('UNRESTORABLE')"
   ]
  },
  {
   "cell_type": "markdown",
   "metadata": {},
   "source": [
    "7. D - Integer Cards"
   ]
  },
  {
   "cell_type": "code",
   "execution_count": 7,
   "metadata": {},
   "outputs": [
    {
     "name": "stdout",
     "output_type": "stream",
     "text": [
      "11 3\n",
      "1 1 1 1 1 1 1 1 1 1 1\n",
      "3 1000000000\n",
      "4 1000000000\n",
      "3 1000000000\n",
      "10000000001\n"
     ]
    }
   ],
   "source": [
    "n, m = map(int, input().split())\n",
    "li = sorted(map(int, input().split()))\n",
    "ops = [list(map(int, input().split())) for _ in range(m)]\n",
    "ops.sort(key=lambda x: -x[1])\n",
    "\n",
    "cands = []\n",
    "for i in range(m):\n",
    "    while len(cands) <= n and ops[i][0]:\n",
    "        cands.append(ops[i][1])\n",
    "        ops[i][0] -= 1\n",
    "        \n",
    "for i in range(min(len(cands), n)):\n",
    "    if li[i] < cands[i]:\n",
    "        li[i] = cands[i]\n",
    "        \n",
    "print(sum(li))"
   ]
  },
  {
   "cell_type": "markdown",
   "metadata": {},
   "source": [
    "8. E. Double Factorial"
   ]
  },
  {
   "cell_type": "code",
   "execution_count": 11,
   "metadata": {},
   "outputs": [
    {
     "name": "stdout",
     "output_type": "stream",
     "text": [
      "1000000000000000000\n",
      "124999999999999995\n"
     ]
    }
   ],
   "source": [
    "n = int(input())\n",
    "\n",
    "if n % 2 == 1:\n",
    "    print(0)\n",
    "else:\n",
    "    total = 0\n",
    "    cur = 10\n",
    "    while cur <= n:\n",
    "        total += n // cur\n",
    "        cur *= 5\n",
    "        \n",
    "    print(total)"
   ]
  },
  {
   "cell_type": "markdown",
   "metadata": {},
   "source": [
    "9. B - Template Matching"
   ]
  },
  {
   "cell_type": "code",
   "execution_count": 8,
   "metadata": {},
   "outputs": [
    {
     "name": "stdout",
     "output_type": "stream",
     "text": [
      "4 1\n",
      "....\n",
      "....\n",
      "....\n",
      "....\n",
      "#\n",
      "No\n"
     ]
    }
   ],
   "source": [
    "n, m = map(int, input().split())\n",
    "A = [input() for _ in range(n)]\n",
    "B = [input() for _ in range(m)]\n",
    "    \n",
    "def check(asx, asy):\n",
    "    for dx in range(m):\n",
    "        for dy in range(m):\n",
    "            if A[asx + dx][asy + dy] != B[dx][dy]:\n",
    "                return False\n",
    "    return True\n",
    "    \n",
    "is_in = False\n",
    "for asx in range(n - m + 1):\n",
    "    for asy in range(n - m + 1):\n",
    "        if check(asx, asy):\n",
    "            is_in = True\n",
    "            break\n",
    "            \n",
    "if is_in:\n",
    "    print('Yes')\n",
    "else:\n",
    "    print('No')"
   ]
  },
  {
   "cell_type": "markdown",
   "metadata": {},
   "source": [
    "10. D - Enough Array"
   ]
  },
  {
   "cell_type": "code",
   "execution_count": 12,
   "metadata": {},
   "outputs": [
    {
     "name": "stdout",
     "output_type": "stream",
     "text": [
      "10 53462\n",
      "103 35322 232 342 21099 90000 18843 9010 35221 19352\n",
      "36\n"
     ]
    }
   ],
   "source": [
    "n, k = map(int, input().split())\n",
    "li = list(map(int, input().split()))\n",
    "\n",
    "sum_li = [0]\n",
    "cumul = 0\n",
    "for i in range(n):\n",
    "    cumul += li[i]\n",
    "    sum_li.append(cumul)\n",
    "\n",
    "total = 0\n",
    "start = end = 0\n",
    "while start <= end < n:\n",
    "    value = sum_li[end + 1] - sum_li[start]\n",
    "    \n",
    "    if value >= k:\n",
    "        total += n - end\n",
    "        start += 1\n",
    "        if start > end:\n",
    "            end += 1\n",
    "    else:\n",
    "        end += 1\n",
    "        \n",
    "print(total)"
   ]
  },
  {
   "cell_type": "markdown",
   "metadata": {},
   "source": [
    "11. D - Disjoint Set of Common Divisors"
   ]
  },
  {
   "cell_type": "code",
   "execution_count": null,
   "metadata": {},
   "outputs": [],
   "source": [
    "from math import gcd\n",
    " \n",
    "def get_divisors(num):\n",
    "    divisors = set()\n",
    "    for mod in range(1, int(num ** 0.5) + 1):\n",
    "        if num % mod == 0:\n",
    "            divisors.add(mod)\n",
    "            divisors.add(num // mod)\n",
    " \n",
    "    return divisors\n",
    " \n",
    "a, b = map(int, input().split())\n",
    " \n",
    "g = gcd(a, b)\n",
    "divisors = get_divisors(g)\n",
    " \n",
    "divisors = sorted(divisors)\n",
    "to_delete = set()\n",
    " \n",
    "dvl = len(divisors)\n",
    "for i in range(1, dvl):\n",
    "    if i in to_delete:\n",
    "        continue\n",
    "    for j in range(i + 1, dvl):\n",
    "        if gcd(divisors[j], divisors[i]) >= 2:\n",
    "            to_delete.add(j)\n",
    "        \n",
    "print(dvl - len(to_delete))"
   ]
  },
  {
   "cell_type": "markdown",
   "metadata": {},
   "source": [
    "12. B - Counting of Trees"
   ]
  },
  {
   "cell_type": "code",
   "execution_count": 56,
   "metadata": {},
   "outputs": [
    {
     "name": "stdout",
     "output_type": "stream",
     "text": [
      "3\n",
      "0 0 1\n",
      "0\n"
     ]
    }
   ],
   "source": [
    "n = int(input())\n",
    "li = list(map(int, input().split()))\n",
    "\n",
    "mod = 998244353\n",
    "\n",
    "counts = [0] * n\n",
    "for v in li:\n",
    "    counts[v] += 1\n",
    "    \n",
    "ip = True\n",
    "for i in range(n - 1):\n",
    "    if counts[i + 1] >= 1 and counts[i] == 0:\n",
    "        ip = False\n",
    "        break\n",
    "\n",
    "def recur(num, exp):\n",
    "    if exp <= 1:\n",
    "        return num ** exp\n",
    "    \n",
    "    if exp % 2 == 0:\n",
    "        return recur(num, exp // 2) ** 2 % mod\n",
    "    else:\n",
    "        return recur(num, exp // 2) ** 2 * num % mod\n",
    "        \n",
    "if counts[0] >= 2 or li[0] != 0:\n",
    "    ip = False\n",
    "        \n",
    "if not ip:\n",
    "    print(0)\n",
    "else:\n",
    "    ws = []\n",
    "    for i in range(n - 1):\n",
    "        temp = recur(counts[i], counts[i + 1])\n",
    "        ws.append(temp)\n",
    "        \n",
    "    total = 1\n",
    "    for v in ws:\n",
    "        total *= v\n",
    "        total %= mod\n",
    "        \n",
    "    print(total)"
   ]
  },
  {
   "cell_type": "markdown",
   "metadata": {},
   "source": [
    "13. D - Lucky PIN"
   ]
  },
  {
   "cell_type": "code",
   "execution_count": 10,
   "metadata": {},
   "outputs": [
    {
     "name": "stdout",
     "output_type": "stream",
     "text": [
      "19\n",
      "3141592653589793238\n",
      "329\n"
     ]
    }
   ],
   "source": [
    "n = int(input())\n",
    "s = input()\n",
    "\n",
    "def check(to_check):\n",
    "    cur = 0\n",
    "    for v in s:\n",
    "        if v == to_check[cur]:\n",
    "            cur += 1\n",
    "            if cur == 3:\n",
    "                return True\n",
    "    return False\n",
    "\n",
    "count = 0\n",
    "for i in range(1000):\n",
    "    to_check = str(i).rjust(3, '0')\n",
    "    \n",
    "    if check(to_check):\n",
    "        count += 1\n",
    "    \n",
    "print(count)"
   ]
  },
  {
   "cell_type": "markdown",
   "metadata": {},
   "source": [
    "14. C - Digits in Multiplication"
   ]
  },
  {
   "cell_type": "code",
   "execution_count": 13,
   "metadata": {},
   "outputs": [
    {
     "name": "stdout",
     "output_type": "stream",
     "text": [
      "9876543210\n",
      "6\n"
     ]
    }
   ],
   "source": [
    "n = int(input())\n",
    "\n",
    "mr = float('inf') # min result\n",
    "for mod in range(1, int(n ** 0.5) + 1):\n",
    "    if n % mod == 0:\n",
    "        a = mod\n",
    "        b = n // mod\n",
    "        \n",
    "        temp = max(len(str(a)), len(str(b)))\n",
    "        mr = min(mr, temp)\n",
    "        \n",
    "print(mr)"
   ]
  },
  {
   "cell_type": "markdown",
   "metadata": {},
   "source": [
    "15. D - Flipping Signs"
   ]
  },
  {
   "cell_type": "code",
   "execution_count": 20,
   "metadata": {},
   "outputs": [
    {
     "name": "stdout",
     "output_type": "stream",
     "text": [
      "11\n",
      "-1000000000 1000000000 -1000000000 1000000000 -1000000000 0 1000000000 -1000000000 1000000000 -1000000000 1000000000\n",
      "10000000000\n"
     ]
    }
   ],
   "source": [
    "n = int(input())\n",
    "li = list(map(int, input().split()))\n",
    "\n",
    "c_0 = 0\n",
    "c_minus = 0\n",
    "for v in li:\n",
    "    if v == 0:\n",
    "        c_0 += 1\n",
    "    elif v < 0:\n",
    "        c_minus += 1\n",
    "        \n",
    "if c_0 >= 1 or c_minus % 2 == 0:\n",
    "    total = 0\n",
    "    for v in li:\n",
    "        total += abs(v)\n",
    "        \n",
    "    print(total)\n",
    "else:\n",
    "    li.sort(key=lambda x: abs(x))\n",
    "    \n",
    "    total = -abs(li[0])\n",
    "    for i in range(1, n):\n",
    "        total += abs(li[i])\n",
    "        \n",
    "    print(total)"
   ]
  },
  {
   "cell_type": "markdown",
   "metadata": {},
   "source": [
    "16. D - Line++"
   ]
  },
  {
   "cell_type": "code",
   "execution_count": 9,
   "metadata": {},
   "outputs": [
    {
     "name": "stdout",
     "output_type": "stream",
     "text": [
      "10 4 8\n",
      "10\n",
      "12\n",
      "10\n",
      "8\n",
      "4\n",
      "1\n",
      "0\n",
      "0\n",
      "0\n"
     ]
    }
   ],
   "source": [
    "n, x, y = map(int, input().split())\n",
    "x -= 1\n",
    "y -= 1\n",
    "\n",
    "counts = [0] * n\n",
    "\n",
    "for s in range(n):\n",
    "    for e in range(s + 1, n):\n",
    "        if s == x and e == y:\n",
    "            counts[1] += 1\n",
    "            continue\n",
    "        t1 = e - s\n",
    "        t2 = abs(s - x) + abs(e - y) + 1\n",
    "        \n",
    "        counts[min(t1, t2)] += 1\n",
    "        \n",
    "for i in range(1, n):\n",
    "    print(counts[i])"
   ]
  },
  {
   "cell_type": "markdown",
   "metadata": {},
   "source": [
    "17. C - AB Substrings"
   ]
  },
  {
   "cell_type": "code",
   "execution_count": null,
   "metadata": {},
   "outputs": [],
   "source": [
    "n = int(input())\n",
    "\n",
    "a_ends = 0\n",
    "b_starts = 0\n",
    "boths = 0\n",
    "\n",
    "total = 0\n",
    "for _ in range(n):\n",
    "    s = input()\n",
    "    \n",
    "    total += s.count('AB')\n",
    "    \n",
    "    if s[0] == 'B' and s[-1] == 'A':\n",
    "        boths += 1\n",
    "    elif s[0] == 'B':\n",
    "        b_starts += 1\n",
    "    elif s[-1] == 'A':\n",
    "        a_ends += 1\n",
    "        \n",
    "if boths:\n",
    "    total += boths - 1\n",
    "    boths = 1\n",
    "    \n",
    "if boths:\n",
    "    if a_ends:\n",
    "        total += 1\n",
    "        a_ends -= 1\n",
    "    \n",
    "    if b_starts:\n",
    "        total += 1\n",
    "        b_starts -= 1\n",
    "        \n",
    "total += min(a_ends, b_starts)\n",
    "\n",
    "print(total)"
   ]
  },
  {
   "cell_type": "markdown",
   "metadata": {},
   "source": [
    "18. C. Back and Forth"
   ]
  },
  {
   "cell_type": "code",
   "execution_count": null,
   "metadata": {},
   "outputs": [],
   "source": [
    "sx, sy, tx, ty = map(int, input().split())\n",
    " \n",
    "xdiff, ydiff = tx - sx, ty - sy\n",
    "t1 = 'U' * ydiff + 'R' * xdiff + 'D' * ydiff + 'L' * xdiff\n",
    "t2 = 'L' + 'U' * (ydiff + 1) + 'R' * (xdiff + 1) + 'D' + 'R' + 'D' * (ydiff + 1) + 'L' * (xdiff + 1) + 'U'\n",
    "r = t1 + t2\n",
    " \n",
    "print(r)"
   ]
  },
  {
   "cell_type": "markdown",
   "metadata": {},
   "source": [
    "19. D - Grid Coloring"
   ]
  },
  {
   "cell_type": "code",
   "execution_count": 6,
   "metadata": {},
   "outputs": [
    {
     "name": "stdout",
     "output_type": "stream",
     "text": [
      "3 5\n",
      "5\n",
      "1 2 3 4 5\n",
      "1 2 2 3 3\n",
      "4 4 4 4 3\n",
      "5 5 5 5 5\n"
     ]
    }
   ],
   "source": [
    "h, w = map(int, input().split())\n",
    "n = int(input())\n",
    "li = list(map(int, input().split()))\n",
    "\n",
    "r = [[0] * w for _ in range(h)]\n",
    "x = y = 0\n",
    "dy = 1\n",
    "for i in range(n):\n",
    "    num = i + 1\n",
    "    for _ in range(li[i]):\n",
    "        r[x][y] = num\n",
    "        y += dy\n",
    "        if y < 0:\n",
    "            y -= dy\n",
    "            dy = 1\n",
    "            x += 1\n",
    "        elif y >= w:\n",
    "            y -= dy\n",
    "            dy = -1\n",
    "            x += 1\n",
    "            \n",
    "for v in r:\n",
    "    print(*v)"
   ]
  }
 ],
 "metadata": {
  "kernelspec": {
   "display_name": "Python 3",
   "language": "python",
   "name": "python3"
  },
  "language_info": {
   "codemirror_mode": {
    "name": "ipython",
    "version": 3
   },
   "file_extension": ".py",
   "mimetype": "text/x-python",
   "name": "python",
   "nbconvert_exporter": "python",
   "pygments_lexer": "ipython3",
   "version": "3.7.4"
  }
 },
 "nbformat": 4,
 "nbformat_minor": 4
}
