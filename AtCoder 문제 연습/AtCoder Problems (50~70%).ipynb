{
 "cells": [
  {
   "cell_type": "markdown",
   "metadata": {},
   "source": [
    "### https://atcoder.jp/contests/abc236/tasks/abc236_d D - Dance"
   ]
  },
  {
   "cell_type": "code",
   "execution_count": 23,
   "metadata": {},
   "outputs": [
    {
     "name": "stdout",
     "output_type": "stream",
     "text": [
      "1073289207\n"
     ]
    }
   ],
   "source": [
    "def get_value(cur):\n",
    "    temp = 0\n",
    "    for i in range(0, 2 * n, 2):\n",
    "        temp ^= li[cur[i]][cur[i + 1]]\n",
    "        \n",
    "    return temp\n",
    "        \n",
    "def dfs(cands):\n",
    "    global max_value\n",
    "    \n",
    "    if not cands:\n",
    "        max_value = max(max_value, get_value(cur))\n",
    "        return\n",
    "    \n",
    "    mc = min(cands) # min cand\n",
    "    cands.discard(mc)\n",
    "    cur.append(mc)\n",
    "        \n",
    "    ncands = cands.copy()\n",
    "    for v in cands:\n",
    "        ncands.discard(v)\n",
    "        cur.append(v)\n",
    "        dfs(ncands)\n",
    "        cur.pop()\n",
    "        ncands.add(v)\n",
    "        \n",
    "    cur.pop()\n",
    "    cands.add(mc)\n",
    "\n",
    "n = int(input())\n",
    "li = [list(map(int, input().split())) for _ in range(n * 2 - 1)]\n",
    "    \n",
    "nli = [[-1] * (2 * n) for _ in range(2 * n)]\n",
    "for i in range(2 * n):\n",
    "    for j in range(2 * n):\n",
    "        try:\n",
    "            nli[i][i + j + 1] = li[i][j]\n",
    "        except:\n",
    "            pass   \n",
    "li = nli.copy()\n",
    "    \n",
    "cands = set(range(n * 2))\n",
    "max_value = 0\n",
    "cur = []\n",
    "dfs(cands)\n",
    "\n",
    "print(max_value)"
   ]
  },
  {
   "cell_type": "markdown",
   "metadata": {},
   "source": [
    "### https://atcoder.jp/contests/abc223/tasks/abc223_d D - Restricted Permutation"
   ]
  },
  {
   "cell_type": "code",
   "execution_count": 3,
   "metadata": {},
   "outputs": [
    {
     "name": "stdout",
     "output_type": "stream",
     "text": [
      "2 3\n",
      "1 2\n",
      "1 2\n",
      "2 1\n",
      "-1\n"
     ]
    }
   ],
   "source": [
    "from heapq import heappush, heappop\n",
    "import sys\n",
    "input = lambda: sys.stdin.readline().rstrip()\n",
    "\n",
    "n, m = map(int, input().split())\n",
    "\n",
    "indegree = [0] * (n + 1)\n",
    "posts = [[] for _ in range(n + 1)]\n",
    "for _ in range(m):\n",
    "    a, b = map(int, input().split())\n",
    "    \n",
    "    indegree[b] += 1\n",
    "    posts[a].append(b)\n",
    "    \n",
    "heap = []\n",
    "for i in range(1, n + 1):\n",
    "    if indegree[i] == 0:\n",
    "        heappush(heap, i)\n",
    "        \n",
    "r = []\n",
    "while heap:\n",
    "    value = heappop(heap)\n",
    "    r.append(value)\n",
    "    \n",
    "    for v in posts[value]:\n",
    "        indegree[v] -= 1\n",
    "        \n",
    "        if indegree[v] == 0:\n",
    "            heappush(heap, v)\n",
    "            \n",
    "if len(r) < n:\n",
    "    print(-1)\n",
    "else:\n",
    "    print(*r)"
   ]
  },
  {
   "cell_type": "markdown",
   "metadata": {},
   "source": [
    "### https://atcoder.jp/contests/abc219/tasks/abc219_d D - Strange Lunchbox"
   ]
  },
  {
   "cell_type": "code",
   "execution_count": 11,
   "metadata": {},
   "outputs": [
    {
     "name": "stdout",
     "output_type": "stream",
     "text": [
      "6\n",
      "100 100\n",
      "10 80\n",
      "10 80\n",
      "80 10\n",
      "80 10\n",
      "70 70\n",
      "70 70\n"
     ]
    }
   ],
   "source": [
    "n = int(input())\n",
    "x, y = map(int, input().split())\n",
    "li = [list(map(int, input().split())) for _ in range(n)]"
   ]
  },
  {
   "cell_type": "code",
   "execution_count": 43,
   "metadata": {},
   "outputs": [
    {
     "name": "stdout",
     "output_type": "stream",
     "text": [
      "3\n",
      "8 8\n",
      "3 4\n",
      "2 3\n",
      "2 1\n",
      "-1\n"
     ]
    }
   ],
   "source": [
    "n = int(input())\n",
    "x, y = map(int, input().split())\n",
    "li = [list(map(int, input().split())) for _ in range(n)]\n",
    " \n",
    "ta, tb = 0, 0\n",
    "for v in li:\n",
    "    ta += v[0]\n",
    "    tb += v[1]\n",
    "    \n",
    "if ta < x or tb < y:\n",
    "    print(-1)\n",
    "else:\n",
    "    dp = [[float('inf')] * (y + 1) for _ in range(x + 1)]\n",
    "    dp[0][0] = 0\n",
    "    \n",
    "    for i in range(n):\n",
    "        a, b = li[i] \n",
    "        for fa in range(x, -1, -1):\n",
    "            for fb in range(y, -1, -1):\n",
    "                na = fa + a\n",
    "                nb = fb + b\n",
    "                na = min(na, x)\n",
    "                nb = min(nb, y)\n",
    "                \n",
    "                dp[na][nb] = min(dp[na][nb], dp[fa][fb] + 1)\n",
    "                \n",
    "    r = dp[x][y]\n",
    "    \n",
    "    print(r)"
   ]
  },
  {
   "cell_type": "markdown",
   "metadata": {},
   "source": [
    "### https://atcoder.jp/contests/abc216/tasks/abc216_e E - Amusement Park"
   ]
  },
  {
   "cell_type": "code",
   "execution_count": 7,
   "metadata": {},
   "outputs": [
    {
     "name": "stdout",
     "output_type": "stream",
     "text": [
      "3 5\n",
      "100 50 102\n",
      "502\n"
     ]
    }
   ],
   "source": [
    "n, k = map(int, input().split())\n",
    "li = list(map(int, input().split()))\n",
    "\n",
    "get_sum = lambda x: x * (x + 1) // 2\n",
    "\n",
    "start = 1\n",
    "end = max(li)\n",
    "result = 0\n",
    "while start <= end:\n",
    "    mid = (start + end) // 2\n",
    "    \n",
    "    total = 0\n",
    "    count = 0\n",
    "    mid_count = 0\n",
    "    for v in li:\n",
    "        if v < mid:\n",
    "            continue\n",
    "        else:\n",
    "            total += get_sum(v) - get_sum(mid - 1)\n",
    "            count += v - (mid - 1)\n",
    "            mid_count += 1\n",
    "            \n",
    "    if count > k:\n",
    "        if count - k <= mid_count:\n",
    "            diff = count - k\n",
    "            count -= diff\n",
    "            total -= diff * mid\n",
    "            \n",
    "    if count > k:\n",
    "        start = mid + 1\n",
    "    else:\n",
    "        result = total\n",
    "        end = mid - 1\n",
    "        \n",
    "print(result)"
   ]
  },
  {
   "cell_type": "markdown",
   "metadata": {},
   "source": [
    "### https://atcoder.jp/contests/abc216/tasks/abc216_d D - Pair of Balls"
   ]
  },
  {
   "cell_type": "code",
   "execution_count": 9,
   "metadata": {},
   "outputs": [
    {
     "name": "stdout",
     "output_type": "stream",
     "text": [
      "2 2\n",
      "2\n",
      "1 2\n",
      "2\n",
      "2 1\n",
      "No\n"
     ]
    }
   ],
   "source": [
    "from collections import deque\n",
    "import sys\n",
    "input = lambda: sys.stdin.readline().rstrip()\n",
    "\n",
    "n, m = map(int, input().split())\n",
    "\n",
    "indegree = [0] * (n + 1)\n",
    "posts = [[] for _ in range(n + 1)]\n",
    "for _ in range(m):\n",
    "    k = int(input())\n",
    "    temp = list(map(int, input().split()))\n",
    "    \n",
    "    for i in range(k - 1):\n",
    "        a, b = temp[i], temp[i + 1]\n",
    "        indegree[b] += 1\n",
    "        posts[a].append(b)\n",
    "\n",
    "queue = deque()\n",
    "r = 0\n",
    "for i in range(1, n + 1):\n",
    "    if indegree[i] == 0:\n",
    "        queue.append(i)\n",
    "        \n",
    "while queue:\n",
    "    value = queue.popleft()\n",
    "    r += 1\n",
    "    \n",
    "    for po in posts[value]:\n",
    "        indegree[po] -= 1\n",
    "        \n",
    "        if indegree[po] == 0:\n",
    "            queue.append(po)\n",
    "            \n",
    "if r == n:\n",
    "    print('Yes')\n",
    "else:\n",
    "    print('No')"
   ]
  },
  {
   "cell_type": "markdown",
   "metadata": {},
   "source": [
    "### https://atcoder.jp/contests/abc208/tasks/abc208_d D - Shortest Path Queries 2"
   ]
  },
  {
   "cell_type": "code",
   "execution_count": 21,
   "metadata": {},
   "outputs": [
    {
     "name": "stdout",
     "output_type": "stream",
     "text": [
      "3 2\n",
      "1 2 3\n",
      "2 3 2\n",
      "25\n"
     ]
    }
   ],
   "source": [
    "import sys\n",
    "# input = lambda: sys.stdin.readline().rstrip()\n",
    "\n",
    "inf = float('inf')\n",
    "\n",
    "n, m = map(int, input().split())\n",
    "edges = [list(map(int, input().split())) for _ in range(m)]\n",
    "\n",
    "li = [[inf] * n for _ in range(n)]\n",
    "for a, b, c in edges:\n",
    "    a -= 1\n",
    "    b -= 1\n",
    "    li[a][b] = c\n",
    "    \n",
    "for i in range(n):\n",
    "    li[i][i] = 0\n",
    "    \n",
    "total = 0\n",
    "for mid in range(n):\n",
    "    for i in range(n):\n",
    "        for j in range(n):\n",
    "            li[i][j] = min(li[i][j], li[i][mid] + li[mid][j])\n",
    "            \n",
    "            if li[i][j] != inf:\n",
    "                total += li[i][j]\n",
    "                \n",
    "print(total)"
   ]
  },
  {
   "cell_type": "markdown",
   "metadata": {},
   "source": [
    "### https://atcoder.jp/contests/abc198/tasks/abc198_e E - Unique Color"
   ]
  },
  {
   "cell_type": "code",
   "execution_count": 41,
   "metadata": {},
   "outputs": [
    {
     "name": "stdout",
     "output_type": "stream",
     "text": [
      "6\n",
      "2 7 1 8 2 8\n",
      "1 2\n",
      "3 6\n",
      "3 2\n",
      "4 3\n",
      "2 5\n",
      "1\n",
      "2\n",
      "3\n",
      "4\n",
      "6\n"
     ]
    }
   ],
   "source": [
    "import os\n",
    "import sys\n",
    "from io import BytesIO, IOBase\n",
    "\n",
    "## PYRIVAL BOOTSTRAP\n",
    "# https://github.com/cheran-senthil/PyRival/blob/master/pyrival/misc/bootstrap.py\n",
    "# This decorator allows for recursion without actually doing recursion\n",
    "from types import GeneratorType\n",
    "## @bootstrap, yield when getting and returning value in recursive functions, end of functions\n",
    "\n",
    "\n",
    "def main():\n",
    "    from collections import defaultdict as dd\n",
    "    \n",
    "    n = int(input())\n",
    "    colors = [0] + list(map(int, input().split()))\n",
    "\n",
    "    li = [[] for _ in range(n + 1)]\n",
    "    for _ in range(n - 1):\n",
    "        a, b = map(int, input().split())\n",
    "        li[a].append(b)\n",
    "        li[b].append(a)\n",
    "\n",
    "    @bootstrap\n",
    "    def dfs(value):\n",
    "        if cdd[colors[value]] == 0:\n",
    "            possibles.append(value)\n",
    "        cdd[colors[value]] += 1\n",
    "\n",
    "        for v in li[value]:\n",
    "            if vt[v]:\n",
    "                continue\n",
    "            vt[v] = True\n",
    "            yield dfs(v)\n",
    "\n",
    "        cdd[colors[value]] -= 1\n",
    "        yield\n",
    "\n",
    "    possibles = []\n",
    "    cdd = dd(int) # color defaultdict\n",
    "\n",
    "    vt = [False] * (n + 1)\n",
    "    vt[1] = True\n",
    "\n",
    "    dfs(1)\n",
    "\n",
    "    possibles.sort()\n",
    "    possibles = '\\n'.join([str(v) for v in possibles])\n",
    "\n",
    "    print(possibles)\n",
    "\n",
    "    \n",
    "# region fastio\n",
    " \n",
    "BUFSIZE = 8192\n",
    " \n",
    "\n",
    "class FastIO(IOBase):\n",
    "    newlines = 0\n",
    " \n",
    "    def __init__(self, file):\n",
    "        self._fd = file.fileno()\n",
    "        self.buffer = BytesIO()\n",
    "        self.writable = \"x\" in file.mode or \"r\" not in file.mode\n",
    "        self.write = self.buffer.write if self.writable else None\n",
    " \n",
    "    def read(self):\n",
    "        while True:\n",
    "            b = os.read(self._fd, max(os.fstat(self._fd).st_size, BUFSIZE))\n",
    "            if not b:\n",
    "                break\n",
    "            ptr = self.buffer.tell()\n",
    "            self.buffer.seek(0, 2), self.buffer.write(b), self.buffer.seek(ptr)\n",
    "        self.newlines = 0\n",
    "        return self.buffer.read()\n",
    " \n",
    "    def readline(self):\n",
    "        while self.newlines == 0:\n",
    "            b = os.read(self._fd, max(os.fstat(self._fd).st_size, BUFSIZE))\n",
    "            self.newlines = b.count(b\"\\n\") + (not b)\n",
    "            ptr = self.buffer.tell()\n",
    "            self.buffer.seek(0, 2), self.buffer.write(b), self.buffer.seek(ptr)\n",
    "        self.newlines -= 1\n",
    "        return self.buffer.readline()\n",
    " \n",
    "    def flush(self):\n",
    "        if self.writable:\n",
    "            os.write(self._fd, self.buffer.getvalue())\n",
    "            self.buffer.truncate(0), self.buffer.seek(0)\n",
    " \n",
    " \n",
    "class IOWrapper(IOBase):\n",
    "    def __init__(self, file):\n",
    "        self.buffer = FastIO(file)\n",
    "        self.flush = self.buffer.flush\n",
    "        self.writable = self.buffer.writable\n",
    "        self.write = lambda s: self.buffer.write(s.encode(\"ascii\"))\n",
    "        self.read = lambda: self.buffer.read().decode(\"ascii\")\n",
    "        self.readline = lambda: self.buffer.readline().decode(\"ascii\")\n",
    " \n",
    " \n",
    "sys.stdin, sys.stdout = IOWrapper(sys.stdin), IOWrapper(sys.stdout)\n",
    "input = lambda: sys.stdin.readline().rstrip(\"\\r\\n\")\n",
    " \n",
    "# endregion\n",
    " \n",
    "if __name__ == \"__main__\":\n",
    "    def bootstrap(f, stack=[]):\n",
    "        def wrappedfunc(*args, **kwargs):\n",
    "            if stack:\n",
    "                return f(*args, **kwargs)\n",
    "            else:\n",
    "                to = f(*args, **kwargs)\n",
    "                while True:\n",
    "                    if type(to) is GeneratorType:\n",
    "                        stack.append(to)\n",
    "                        to = next(to)\n",
    "                    else:\n",
    "                        stack.pop()\n",
    "                        if not stack:\n",
    "                            break\n",
    "                        to = stack[-1].send(to)\n",
    "                return to\n",
    "        return wrappedfunc\n",
    "    \n",
    "    main()"
   ]
  },
  {
   "cell_type": "markdown",
   "metadata": {},
   "source": [
    "### https://atcoder.jp/contests/abc194/tasks/abc194_d D - Journey "
   ]
  },
  {
   "cell_type": "code",
   "execution_count": 66,
   "metadata": {},
   "outputs": [
    {
     "name": "stdout",
     "output_type": "stream",
     "text": [
      "3\n",
      "4.5\n"
     ]
    }
   ],
   "source": [
    "n = int(input())\n",
    "\n",
    "cur = 0\n",
    "for i in range(1, n):\n",
    "    cur += n / i\n",
    "    \n",
    "print(cur)"
   ]
  },
  {
   "cell_type": "markdown",
   "metadata": {},
   "source": [
    "### https://atcoder.jp/contests/abc126/tasks/abc126_d D - Even Relation"
   ]
  },
  {
   "cell_type": "code",
   "execution_count": null,
   "metadata": {},
   "outputs": [],
   "source": [
    "import os\n",
    "import sys\n",
    "from io import BytesIO, IOBase\n",
    "\n",
    "## PYRIVAL BOOTSTRAP\n",
    "# https://github.com/cheran-senthil/PyRival/blob/master/pyrival/misc/bootstrap.py\n",
    "# This decorator allows for recursion without actually doing recursion\n",
    "from types import GeneratorType\n",
    "## @bootstrap, yield when getting and returning value in recursive functions, end of functions\n",
    "\n",
    "\n",
    "def main():\n",
    "    @bootstrap\n",
    "    def dfs(value, dist):\n",
    "        for v, w in li[value]:\n",
    "            if dists[v] == float('inf'):\n",
    "                dists[v] = dist + w\n",
    "                yield dfs(v, dists[v])\n",
    "        yield\n",
    "\n",
    "    n = int(input())\n",
    "    li = [[] for _ in range(n + 1)]\n",
    "    for _ in range(n - 1):\n",
    "        a, b, w = map(int, input().split())\n",
    "\n",
    "        li[a].append((b, w))\n",
    "        li[b].append((a, w))    \n",
    "\n",
    "    inf = float('inf')\n",
    "    dists = [inf] * (n + 1)\n",
    "    dists[1] = 0\n",
    "    dfs(1, 0)\n",
    "\n",
    "    for i in range(1, n + 1):\n",
    "        if dists[i] % 2 == 0:\n",
    "            print(0)\n",
    "        else:\n",
    "            print(1)\n",
    "\n",
    "    \n",
    "# region fastio\n",
    " \n",
    "BUFSIZE = 8192\n",
    " \n",
    "\n",
    "class FastIO(IOBase):\n",
    "    newlines = 0\n",
    " \n",
    "    def __init__(self, file):\n",
    "        self._fd = file.fileno()\n",
    "        self.buffer = BytesIO()\n",
    "        self.writable = \"x\" in file.mode or \"r\" not in file.mode\n",
    "        self.write = self.buffer.write if self.writable else None\n",
    " \n",
    "    def read(self):\n",
    "        while True:\n",
    "            b = os.read(self._fd, max(os.fstat(self._fd).st_size, BUFSIZE))\n",
    "            if not b:\n",
    "                break\n",
    "            ptr = self.buffer.tell()\n",
    "            self.buffer.seek(0, 2), self.buffer.write(b), self.buffer.seek(ptr)\n",
    "        self.newlines = 0\n",
    "        return self.buffer.read()\n",
    " \n",
    "    def readline(self):\n",
    "        while self.newlines == 0:\n",
    "            b = os.read(self._fd, max(os.fstat(self._fd).st_size, BUFSIZE))\n",
    "            self.newlines = b.count(b\"\\n\") + (not b)\n",
    "            ptr = self.buffer.tell()\n",
    "            self.buffer.seek(0, 2), self.buffer.write(b), self.buffer.seek(ptr)\n",
    "        self.newlines -= 1\n",
    "        return self.buffer.readline()\n",
    " \n",
    "    def flush(self):\n",
    "        if self.writable:\n",
    "            os.write(self._fd, self.buffer.getvalue())\n",
    "            self.buffer.truncate(0), self.buffer.seek(0)\n",
    " \n",
    " \n",
    "class IOWrapper(IOBase):\n",
    "    def __init__(self, file):\n",
    "        self.buffer = FastIO(file)\n",
    "        self.flush = self.buffer.flush\n",
    "        self.writable = self.buffer.writable\n",
    "        self.write = lambda s: self.buffer.write(s.encode(\"ascii\"))\n",
    "        self.read = lambda: self.buffer.read().decode(\"ascii\")\n",
    "        self.readline = lambda: self.buffer.readline().decode(\"ascii\")\n",
    " \n",
    " \n",
    "sys.stdin, sys.stdout = IOWrapper(sys.stdin), IOWrapper(sys.stdout)\n",
    "input = lambda: sys.stdin.readline().rstrip(\"\\r\\n\")\n",
    " \n",
    "# endregion\n",
    " \n",
    "if __name__ == \"__main__\":\n",
    "    def bootstrap(f, stack=[]):\n",
    "        def wrappedfunc(*args, **kwargs):\n",
    "            if stack:\n",
    "                return f(*args, **kwargs)\n",
    "            else:\n",
    "                to = f(*args, **kwargs)\n",
    "                while True:\n",
    "                    if type(to) is GeneratorType:\n",
    "                        stack.append(to)\n",
    "                        to = next(to)\n",
    "                    else:\n",
    "                        stack.pop()\n",
    "                        if not stack:\n",
    "                            break\n",
    "                        to = stack[-1].send(to)\n",
    "                return to\n",
    "        return wrappedfunc\n",
    "    \n",
    "    main()"
   ]
  },
  {
   "cell_type": "markdown",
   "metadata": {},
   "source": [
    "### https://atcoder.jp/contests/agc024/tasks/agc024_c C - Sequence Growing Easy"
   ]
  },
  {
   "cell_type": "code",
   "execution_count": 21,
   "metadata": {},
   "outputs": [
    {
     "name": "stdout",
     "output_type": "stream",
     "text": [
      "9\n",
      "0\n",
      "1\n",
      "1\n",
      "0\n",
      "1\n",
      "2\n",
      "2\n",
      "1\n",
      "2\n"
     ]
    }
   ],
   "source": [
    "import sys\n",
    "input = lambda: sys.stdin.readline().rstrip()\n",
    "\n",
    "n = int(input())\n",
    "li = [int(input()) for _ in range(n)]\n",
    "\n",
    "ip = True\n",
    "c = 0\n",
    "if li[0] != 0:\n",
    "    ip = False\n",
    "else:\n",
    "    for i in range(1, n):\n",
    "        if li[i - 1] + 1 < li[i]:\n",
    "            ip = False\n",
    "        elif li[i - 1] + 1 == li[i]:\n",
    "            c += 1\n",
    "        else:\n",
    "            c += li[i]\n",
    "            \n",
    "if ip:\n",
    "    print(c)\n",
    "else:\n",
    "    print(-1)"
   ]
  },
  {
   "cell_type": "markdown",
   "metadata": {},
   "source": [
    "### https://atcoder.jp/contests/abc103/tasks/abc103_d D - Islands War"
   ]
  },
  {
   "cell_type": "code",
   "execution_count": 26,
   "metadata": {},
   "outputs": [
    {
     "name": "stdout",
     "output_type": "stream",
     "text": [
      "9 5\n",
      "1 8\n",
      "2 7\n",
      "3 5\n",
      "4 6\n",
      "7 9\n"
     ]
    }
   ],
   "source": [
    "import sys\n",
    "input = lambda: sys.stdin.readline().rstrip()\n",
    "\n",
    "n, m = map(int, input().split())\n",
    "\n",
    "li = [list(map(int, input().split())) for _ in range(m)]\n",
    "\n",
    "li.sort(key=lambda x: x[1])\n",
    "\n",
    "count = 0\n",
    "ccr = -1 # cur covered rightest\n",
    "for a, b in li:\n",
    "    if ccr < a:\n",
    "        ccr = b - 1\n",
    "        count += 1\n",
    "\n",
    "print(count)"
   ]
  },
  {
   "cell_type": "markdown",
   "metadata": {},
   "source": [
    "### https://atcoder.jp/contests/abc196/tasks/abc196_d D - Hanjo"
   ]
  },
  {
   "cell_type": "code",
   "execution_count": 84,
   "metadata": {},
   "outputs": [
    {
     "name": "stdout",
     "output_type": "stream",
     "text": [
      "4 4 8 0\n"
     ]
    }
   ],
   "source": [
    "h, w, a, b = map(int, input().split())"
   ]
  },
  {
   "cell_type": "code",
   "execution_count": 97,
   "metadata": {},
   "outputs": [
    {
     "name": "stdout",
     "output_type": "stream",
     "text": [
      "4 4 0 16\n",
      "0\n"
     ]
    }
   ],
   "source": [
    "# 시간 초과\n",
    "from itertools import combinations as comb\n",
    "from itertools import product\n",
    "\n",
    "def check():\n",
    "    global c\n",
    "    \n",
    "    nvt = set()\n",
    "    for i in range(a):\n",
    "        c += 1\n",
    "        if types[i] == 0:\n",
    "            if (remains_case[i] + 1) % w == 0:\n",
    "                return False\n",
    "            if remains_case[i] in vt or remains_case[i] in nvt:\n",
    "                return False\n",
    "            if remains_case[i] + 1 in vt or remains_case[i] + 1 in nvt:\n",
    "                return False\n",
    "            \n",
    "            nvt.add(remains_case[i])\n",
    "            nvt.add(remains_case[i] + 1)            \n",
    "        else:\n",
    "            if (remains_case[i] // w == h - 1):\n",
    "                return False\n",
    "            if remains_case[i] in vt or remains_case[i] in nvt:\n",
    "                return False\n",
    "            if remains_case[i] + w in vt or remains_case[i] + w in nvt:\n",
    "                return False\n",
    "            \n",
    "            nvt.add(remains_case[i])\n",
    "            nvt.add(remains_case[i] + w)\n",
    "    \n",
    "    return True\n",
    "\n",
    "h, w, a, b = map(int, input().split())\n",
    "\n",
    "c = 0\n",
    "total = set(range(h * w))\n",
    "cases = comb(total, b)\n",
    "count = 0\n",
    "for case in cases:\n",
    "    vt = set()\n",
    "    for v in case:\n",
    "        vt.add(v)\n",
    "    \n",
    "    remains = total - set(case)\n",
    "    for remains_case in comb(remains, a):\n",
    "        for types in product(*([range(2)] * a)):            \n",
    "            if check():\n",
    "                count += 1\n",
    "        \n",
    "# print(count)\n",
    "print(c)"
   ]
  },
  {
   "cell_type": "code",
   "execution_count": 106,
   "metadata": {},
   "outputs": [
    {
     "name": "stdout",
     "output_type": "stream",
     "text": [
      "4 4 8 0\n",
      "36\n"
     ]
    }
   ],
   "source": [
    "def bt(cur, a, b):\n",
    "    global count\n",
    "    \n",
    "    x = cur // w\n",
    "    y = cur % w\n",
    "    \n",
    "    if cur == h * w:\n",
    "        count += 1\n",
    "        return\n",
    "\n",
    "    if li[x][y]:\n",
    "        bt(cur + 1, a, b )\n",
    "        return\n",
    "    \n",
    "    li[x][y] = True\n",
    "    \n",
    "    if b:\n",
    "        bt(cur + 1, a, b - 1)\n",
    "    if a:\n",
    "        if y + 1 < w and not li[x][y + 1]:\n",
    "            li[x][y + 1] = True\n",
    "            bt(cur + 1, a - 1, b)\n",
    "            li[x][y + 1] = False\n",
    "        if x + 1 < h and not li[x + 1][y]:\n",
    "            li[x + 1][y] = True\n",
    "            bt(cur + 1, a - 1, b)\n",
    "            li[x + 1][y] = False\n",
    "            \n",
    "    li[x][y] = False\n",
    "\n",
    "h, w, a, b = map(int, input().split())\n",
    "\n",
    "count = 0\n",
    "li = [[False] * w for _ in range(h)]\n",
    "bt(0, a, b)\n",
    "\n",
    "print(count)"
   ]
  },
  {
   "cell_type": "markdown",
   "metadata": {},
   "source": [
    "### https://atcoder.jp/contests/abc184/tasks/abc184_d D - increment of coins"
   ]
  },
  {
   "cell_type": "code",
   "execution_count": 85,
   "metadata": {},
   "outputs": [
    {
     "name": "stdout",
     "output_type": "stream",
     "text": [
      "98 99 99\n",
      "1.3310810810810811\n"
     ]
    }
   ],
   "source": [
    "def get_needed(a, b, c):\n",
    "    if a == 100 or b == 100 or c == 100:\n",
    "        return 1\n",
    "    if dp[a][b][c] != -1:\n",
    "        return dp[a][b][c]\n",
    "    \n",
    "    t1 = get_needed(a + 1, b, c)\n",
    "    t2 = get_needed(a, b + 1, c)\n",
    "    t3 = get_needed(a, b, c + 1)\n",
    "    \n",
    "    total = (a + b + c)\n",
    "    dp[a][b][c] = (t1 * (a / total) + t2 * (b / total) + t3 * (c / total)) + 1\n",
    "    \n",
    "    return dp[a][b][c]\n",
    "\n",
    "a, b, c = map(int, input().split())\n",
    "\n",
    "dp = [[[-1] * 101 for _ in range(101)] for _ in range(101)]\n",
    "r = get_needed(a, b, c)\n",
    "\n",
    "print(r - 1)"
   ]
  },
  {
   "cell_type": "markdown",
   "metadata": {},
   "source": [
    "### C - Lamps https://atcoder.jp/contests/tokiomarine2020/tasks/tokiomarine2020_c "
   ]
  },
  {
   "cell_type": "code",
   "execution_count": 120,
   "metadata": {},
   "outputs": [
    {
     "name": "stdout",
     "output_type": "stream",
     "text": [
      "200000\n"
     ]
    }
   ],
   "source": [
    "n, k = map(int, input().split())\n",
    "li = list(map(int, input().split()))\n",
    "\n",
    "deltas = [0] * (n + 1)\n",
    "for _ in range(min(41, k)):\n",
    "    deltas = [0] * (n + 1)\n",
    "    for i in range(n):\n",
    "        deltas[max(0, i - li[i])] += 1\n",
    "        deltas[min(n, i + li[i] + 1)] -= 1\n",
    "\n",
    "    cumul = 0\n",
    "    for i in range(n):\n",
    "        cumul += deltas[i]\n",
    "        li[i] = cumul\n",
    "        deltas[i] = 0\n",
    "\n",
    "    deltas[n] = 0\n",
    "    \n",
    "print(*li)"
   ]
  },
  {
   "cell_type": "markdown",
   "metadata": {},
   "source": [
    "### B - Squares https://atcoder.jp/contests/arc125/tasks/arc125_b"
   ]
  },
  {
   "cell_type": "code",
   "execution_count": 71,
   "metadata": {},
   "outputs": [
    {
     "name": "stdout",
     "output_type": "stream",
     "text": [
      "10000000000\n",
      "52583544\n"
     ]
    }
   ],
   "source": [
    "mod = 998244353\n",
    "\n",
    "n = int(input())\n",
    "\n",
    "total = 0\n",
    "max_p = int(n ** 0.5)\n",
    "\n",
    "for p in range(1, max_p + 1):\n",
    "    if p % 2 == 0:\n",
    "        total += n // p // 2 - (p ** 2 - 1) // p // 2\n",
    "    else:\n",
    "        total += (n // p + 1) // 2 - ((p ** 2 - 1) // p + 1) // 2\n",
    "    total %= mod\n",
    "        \n",
    "print(total)"
   ]
  },
  {
   "cell_type": "markdown",
   "metadata": {},
   "source": [
    "### C - One-stroke Path https://atcoder.jp/contests/abc054/tasks/abc054_c"
   ]
  },
  {
   "cell_type": "code",
   "execution_count": 8,
   "metadata": {},
   "outputs": [
    {
     "name": "stdout",
     "output_type": "stream",
     "text": [
      "7 7\n",
      "1 3\n",
      "2 7\n",
      "3 4\n",
      "4 5\n",
      "4 6\n",
      "5 6\n",
      "6 7\n",
      "1\n"
     ]
    }
   ],
   "source": [
    "from itertools import permutations as perm\n",
    "import sys\n",
    "input = lambda: sys.stdin.readline().rstrip()\n",
    "\n",
    "n, m = map(int, input().split())\n",
    "li = [set() for _ in range(n + 1)]\n",
    "for _ in range(m):\n",
    "    a, b = map(int, input().split())\n",
    "    li[a].add(b)\n",
    "    li[b].add(a)\n",
    "    \n",
    "cases = perm(range(2, n + 1))\n",
    "count = 0\n",
    "for case in cases:\n",
    "    ip = True\n",
    "    cur = 1\n",
    "    for v in case:\n",
    "        if v in li[cur]:\n",
    "            cur = v\n",
    "        else:\n",
    "            ip = False\n",
    "    if ip:\n",
    "        count += 1\n",
    "        \n",
    "print(count)"
   ]
  },
  {
   "cell_type": "markdown",
   "metadata": {},
   "source": [
    "### https://atcoder.jp/contests/abc176/tasks/abc176_d D - Wizard in Maze"
   ]
  },
  {
   "cell_type": "code",
   "execution_count": 14,
   "metadata": {},
   "outputs": [
    {
     "name": "stdout",
     "output_type": "stream",
     "text": [
      "4 5\n",
      "1 2\n",
      "2 5\n",
      "#.###\n",
      "####.\n",
      "#..##\n",
      "#..##\n",
      "2\n"
     ]
    }
   ],
   "source": [
    "from collections import deque\n",
    "from heapq import heappush, heappop\n",
    "import sys\n",
    "input = lambda: sys.stdin.readline().rstrip()\n",
    "\n",
    "get_value = lambda x: int(x) - 1\n",
    "n, m = map(int, input().split())\n",
    "sx, sy = map(get_value, input().split())\n",
    "ex, ey = map(get_value, input().split())\n",
    "li = [input() for _ in range(n)]\n",
    "\n",
    "groups = [[-1] * m for _ in range(n)]\n",
    "next_num = 0\n",
    "\n",
    "dx = [0, 0, -1, 1]\n",
    "dy = [-1, 1, 0, 0]\n",
    "for i in range(n):\n",
    "    for j in range(m):\n",
    "        if li[i][j] == '#':\n",
    "            continue\n",
    "        if groups[i][j] != -1:\n",
    "            continue\n",
    "        groups[i][j] = next_num\n",
    "        next_num += 1\n",
    "        \n",
    "        queue = deque()\n",
    "        queue.append((i, j))\n",
    "        while queue:\n",
    "            x, y = queue.popleft()\n",
    "            \n",
    "            for d in range(4):\n",
    "                nx = x + dx[d]\n",
    "                ny = y + dy[d]\n",
    "                \n",
    "                if nx < 0 or nx >= n or ny < 0 or ny >= m:\n",
    "                    continue\n",
    "                if li[nx][ny] == '#':\n",
    "                    continue\n",
    "                if groups[nx][ny] == -1:\n",
    "                    groups[nx][ny] = groups[i][j]\n",
    "                    queue.append((nx, ny))\n",
    "\n",
    "min_magics = [[float('inf')] * m for _ in range(n)]\n",
    "min_magics[sx][sy] = 0\n",
    "\n",
    "heap = []\n",
    "heappush(heap, (0, sx, sy))\n",
    "while heap:\n",
    "    value, x, y = heappop(heap)\n",
    "    \n",
    "    if value > min_magics[x][y]:\n",
    "        continue\n",
    "    \n",
    "    for dx in range(-2, 3):\n",
    "        for dy in range(-2, 3):\n",
    "            nx = x + dx\n",
    "            ny = y + dy\n",
    "            \n",
    "            if nx < 0 or nx >= n or ny < 0 or ny >= m:\n",
    "                continue\n",
    "            if li[nx][ny] == '#':\n",
    "                continue\n",
    "            if groups[x][y] == groups[nx][ny]:\n",
    "                if value < min_magics[nx][ny]:\n",
    "                    min_magics[nx][ny] = value\n",
    "                    heappush(heap, (value, nx, ny))\n",
    "            else:\n",
    "                if value + 1 < min_magics[nx][ny]:\n",
    "                    min_magics[nx][ny] = value + 1\n",
    "                    heappush(heap, (value + 1, nx, ny))\n",
    "                    \n",
    "if min_magics[ex][ey] == float('inf'):\n",
    "    print(-1)\n",
    "else:\n",
    "    print(min_magics[ex][ey])"
   ]
  },
  {
   "cell_type": "markdown",
   "metadata": {},
   "source": [
    "### https://atcoder.jp/contests/abc179/tasks/abc179_d D - Leaping Tak"
   ]
  },
  {
   "cell_type": "code",
   "execution_count": null,
   "metadata": {},
   "outputs": [],
   "source": []
  }
 ],
 "metadata": {
  "kernelspec": {
   "display_name": "Python 3",
   "language": "python",
   "name": "python3"
  },
  "language_info": {
   "codemirror_mode": {
    "name": "ipython",
    "version": 3
   },
   "file_extension": ".py",
   "mimetype": "text/x-python",
   "name": "python",
   "nbconvert_exporter": "python",
   "pygments_lexer": "ipython3",
   "version": "3.7.4"
  }
 },
 "nbformat": 4,
 "nbformat_minor": 4
}
