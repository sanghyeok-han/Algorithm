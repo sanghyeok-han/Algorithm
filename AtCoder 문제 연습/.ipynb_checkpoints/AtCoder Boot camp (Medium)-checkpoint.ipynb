{
 "cells": [
  {
   "cell_type": "markdown",
   "metadata": {},
   "source": [
    "1. B - Trained?"
   ]
  },
  {
   "cell_type": "code",
   "execution_count": 20,
   "metadata": {},
   "outputs": [
    {
     "name": "stdout",
     "output_type": "stream",
     "text": [
      "3\n"
     ]
    }
   ],
   "source": [
    "n = int(input())\n",
    "li = [int(input()) - 1 for _ in range(n)]\n",
    "\n",
    "vt = [False] * n\n",
    "vt[0] = True\n",
    "\n",
    "cur = 0\n",
    "count = 0\n",
    "while True:\n",
    "    cur = li[cur]\n",
    "    count += 1\n",
    "    \n",
    "    if cur == 1:\n",
    "        break\n",
    "    if vt[cur]:\n",
    "        count = -1\n",
    "        break\n",
    "    vt[cur] = True\n",
    "    \n",
    "print(count)"
   ]
  },
  {
   "cell_type": "markdown",
   "metadata": {},
   "source": [
    "2. A. Irreversible operation"
   ]
  },
  {
   "cell_type": "code",
   "execution_count": 22,
   "metadata": {},
   "outputs": [
    {
     "name": "stdout",
     "output_type": "stream",
     "text": [
      "BWBWBW\n",
      "6\n"
     ]
    }
   ],
   "source": [
    "s = input()\n",
    "n = len(s)\n",
    "\n",
    "cb = 0\n",
    "total = 0\n",
    "for i in range(n):\n",
    "    if s[i] == 'B':\n",
    "        cb += 1\n",
    "    else:\n",
    "        total += cb\n",
    "        \n",
    "print(total)"
   ]
  },
  {
   "cell_type": "markdown",
   "metadata": {},
   "source": [
    "3. A - ><"
   ]
  },
  {
   "cell_type": "code",
   "execution_count": 34,
   "metadata": {},
   "outputs": [
    {
     "name": "stdout",
     "output_type": "stream",
     "text": [
      "<>>><<><<<<<>>><\n",
      "28\n"
     ]
    }
   ],
   "source": [
    "s = input()\n",
    "n = len(s)\n",
    "\n",
    "li = []\n",
    "former = ''\n",
    "cont_count = 0\n",
    "for i in range(n):\n",
    "    if s[i] != former:\n",
    "        li.append([1, s[i]])\n",
    "        former = s[i]\n",
    "    else:\n",
    "        li[-1][0] += 1\n",
    "        \n",
    "def get_sum(num):\n",
    "    return num * (num + 1) // 2\n",
    "\n",
    "total = 0\n",
    "if li[0][1] == '>':\n",
    "    total += get_sum(li[0][0])\n",
    "    li.pop(0)\n",
    "\n",
    "if li and li[-1][1] == '<':\n",
    "    total += get_sum(li[-1][0])\n",
    "    li.pop()\n",
    "    \n",
    "if li:\n",
    "    for i in range(0, len(li), 2):\n",
    "        total += get_sum(li[i][0] - 1) + get_sum(li[i + 1][0] - 1) + max(li[i][0], li[i + 1][0])\n",
    "        \n",
    "print(total)"
   ]
  },
  {
   "cell_type": "markdown",
   "metadata": {},
   "source": [
    "4. B - ss"
   ]
  },
  {
   "cell_type": "code",
   "execution_count": 5,
   "metadata": {},
   "outputs": [
    {
     "name": "stdout",
     "output_type": "stream",
     "text": [
      "abaababaab\n",
      "6\n"
     ]
    }
   ],
   "source": [
    "li = list(input())\n",
    "li.pop()\n",
    "\n",
    "while li:\n",
    "    n = len(li)\n",
    "    \n",
    "    if n % 2 == 1:\n",
    "        li.pop()\n",
    "        continue\n",
    "        \n",
    "    if li[:n // 2] == li[n // 2:]:\n",
    "        break\n",
    "    li.pop()\n",
    "        \n",
    "print(len(li))"
   ]
  },
  {
   "cell_type": "markdown",
   "metadata": {},
   "source": [
    "5. D - ModSum"
   ]
  },
  {
   "cell_type": "code",
   "execution_count": 14,
   "metadata": {},
   "outputs": [
    {
     "name": "stdout",
     "output_type": "stream",
     "text": [
      "13\n",
      "78\n"
     ]
    }
   ],
   "source": [
    "def get_sum(num):\n",
    "    return num * (num + 1) // 2\n",
    "\n",
    "n = int(input())\n",
    "\n",
    "print(get_sum(n - 1))"
   ]
  },
  {
   "cell_type": "markdown",
   "metadata": {},
   "source": [
    "6. B - Minesweeper"
   ]
  },
  {
   "cell_type": "code",
   "execution_count": 17,
   "metadata": {},
   "outputs": [
    {
     "name": "stdout",
     "output_type": "stream",
     "text": [
      "11211\n",
      "1#2#1\n",
      "11211\n"
     ]
    }
   ],
   "source": [
    "h, w = map(int, input().split())\n",
    "li = [input() for _ in range(h)]\n",
    "\n",
    "di = [-1, -1, -1, 0, 0, 1, 1, 1]\n",
    "dj = [-1, 0, 1, -1, 1, -1, 0, 1]\n",
    "r = [[0] * w for _ in range(h)]\n",
    "for i in range(h):\n",
    "    for j in range(w):\n",
    "        if li[i][j] == '#':\n",
    "            r[i][j] = '#'\n",
    "            continue\n",
    "            \n",
    "        c = 0\n",
    "        for d in range(8):\n",
    "            ni = i + di[d]\n",
    "            nj = j + dj[d]\n",
    "            \n",
    "            if ni < 0 or ni >= h or nj < 0 or nj >= w:\n",
    "                continue\n",
    "                \n",
    "            if li[ni][nj] == '#':\n",
    "                c += 1\n",
    "                \n",
    "        r[i][j] = c\n",
    "        \n",
    "for i in range(h):\n",
    "    r[i] = ''.join(map(str, r[i]))\n",
    "    print(r[i])"
   ]
  },
  {
   "cell_type": "markdown",
   "metadata": {},
   "source": [
    "7. B - Cut and Count"
   ]
  },
  {
   "cell_type": "code",
   "execution_count": 8,
   "metadata": {},
   "outputs": [
    {
     "name": "stdout",
     "output_type": "stream",
     "text": [
      "10\n",
      "aaaaaaaaaa\n",
      "1\n"
     ]
    }
   ],
   "source": [
    "n = int(input())\n",
    "s = input()\n",
    "\n",
    "mr = 0\n",
    "for mid in range(n):\n",
    "    a = s[:mid]\n",
    "    b = s[mid:]\n",
    "    \n",
    "    t = len(set(a) & set(b))\n",
    "    mr = max(mr, t)\n",
    "    \n",
    "print(mr)"
   ]
  },
  {
   "cell_type": "markdown",
   "metadata": {},
   "source": [
    "8. C - Colorful Leaderboard"
   ]
  },
  {
   "cell_type": "code",
   "execution_count": 11,
   "metadata": {},
   "outputs": [
    {
     "name": "stdout",
     "output_type": "stream",
     "text": [
      "20\n",
      "800 810 820 830 840 850 860 870 880 890 900 910 920 930 940 950 960 970 980 990\n",
      "1 1\n"
     ]
    }
   ],
   "source": [
    "criteria = [399, 799, 1199, 1599, 1999, 2399, 2799, 3199, 5000]\n",
    "\n",
    "n = int(input())\n",
    "li = list(map(int, input().split()))\n",
    "\n",
    "st = set()\n",
    "c3200 = 0\n",
    "for i in range(n):\n",
    "    cur_color = 0\n",
    "    while True:\n",
    "        if li[i] > criteria[cur_color]:\n",
    "            cur_color += 1\n",
    "        else:\n",
    "            break\n",
    "            \n",
    "    if cur_color < 8:\n",
    "        st.add(cur_color)\n",
    "    else:\n",
    "        c3200 += 1\n",
    "        \n",
    "print(max(1, len(st)), len(st) + c3200)"
   ]
  },
  {
   "cell_type": "markdown",
   "metadata": {},
   "source": [
    "9. B - Choose Integers"
   ]
  },
  {
   "cell_type": "code",
   "execution_count": 20,
   "metadata": {},
   "outputs": [
    {
     "name": "stdout",
     "output_type": "stream",
     "text": [
      "77 42 36\n",
      "NO\n"
     ]
    }
   ],
   "source": [
    "a, b, c = map(int, input().split())\n",
    "\n",
    "st = set()\n",
    "cur = a\n",
    "while True:\n",
    "    re = cur % b\n",
    "    \n",
    "    if re in st:\n",
    "        print('NO')\n",
    "        break\n",
    "    st.add(re)\n",
    "    \n",
    "    if re == c:\n",
    "        print('YES')\n",
    "        break\n",
    "        \n",
    "    cur += a"
   ]
  },
  {
   "cell_type": "markdown",
   "metadata": {},
   "source": [
    "10. C - Together"
   ]
  },
  {
   "cell_type": "code",
   "execution_count": 23,
   "metadata": {},
   "outputs": [
    {
     "name": "stdout",
     "output_type": "stream",
     "text": [
      "1\n",
      "99999\n"
     ]
    },
    {
     "data": {
      "text/plain": [
       "1"
      ]
     },
     "execution_count": 23,
     "metadata": {},
     "output_type": "execute_result"
    }
   ],
   "source": [
    "from collections import defaultdict as dd\n",
    "\n",
    "n = int(input())\n",
    "li = list(map(int, input().split()))\n",
    "\n",
    "d = dd(int)\n",
    "for v in li:\n",
    "    d[v - 1] += 1\n",
    "    d[v] += 1\n",
    "    d[v + 1] += 1\n",
    "    \n",
    "print(max(d.values()))"
   ]
  },
  {
   "cell_type": "markdown",
   "metadata": {},
   "source": [
    "11. B - Checkpoints"
   ]
  },
  {
   "cell_type": "code",
   "execution_count": 30,
   "metadata": {},
   "outputs": [
    {
     "name": "stdout",
     "output_type": "stream",
     "text": [
      "2 2\n",
      "2 0\n",
      "0 0\n",
      "-1 0\n",
      "1 0\n",
      "1\n",
      "0\n"
     ]
    }
   ],
   "source": [
    "n, m = map(int, input().split())\n",
    "\n",
    "sts = [list(map(int, input().split())) for _ in range(n)]\n",
    "checks = [list(map(int, input().split())) for _ in range(m)]\n",
    "\n",
    "def get_dist(st, ch):\n",
    "    a, b = st\n",
    "    c, d = ch\n",
    "    \n",
    "    return abs(a - c) + abs(b - d)\n",
    "\n",
    "for st in sts:\n",
    "    min_dist = float('inf')\n",
    "    min_dist_num = float('inf')\n",
    "    for c_num in range(m - 1, -1, -1):\n",
    "        dist = get_dist(st, checks[c_num])\n",
    "        \n",
    "        if dist <= min_dist:\n",
    "            min_dist = dist\n",
    "            min_dist_num = c_num\n",
    "            \n",
    "    print(min_dist_num + 1)"
   ]
  },
  {
   "cell_type": "markdown",
   "metadata": {},
   "source": [
    "### 제출용"
   ]
  },
  {
   "cell_type": "code",
   "execution_count": null,
   "metadata": {},
   "outputs": [],
   "source": [
    "import os\n",
    "import sys\n",
    "from io import BytesIO, IOBase\n",
    " \n",
    "\n",
    "def main(): \n",
    "    n = int(input())\n",
    "    li = [int(input()) - 1 for _ in range(n)]\n",
    "\n",
    "    vt = [False] * n\n",
    "    vt[0] = True\n",
    "\n",
    "    cur = 0\n",
    "    count = 0\n",
    "    while True:\n",
    "        cur = li[cur]\n",
    "        count += 1\n",
    "\n",
    "        if cur == 1:\n",
    "            break\n",
    "        if vt[cur]:\n",
    "            count = -1\n",
    "            break\n",
    "        vt[cur] = True\n",
    "\n",
    "    print(count)\n",
    "    \n",
    "\n",
    "# region fastio\n",
    " \n",
    "BUFSIZE = 8192\n",
    " \n",
    "\n",
    "class FastIO(IOBase):\n",
    "    newlines = 0\n",
    " \n",
    "    def __init__(self, file):\n",
    "        self._fd = file.fileno()\n",
    "        self.buffer = BytesIO()\n",
    "        self.writable = \"x\" in file.mode or \"r\" not in file.mode\n",
    "        self.write = self.buffer.write if self.writable else None\n",
    " \n",
    "    def read(self):\n",
    "        while True:\n",
    "            b = os.read(self._fd, max(os.fstat(self._fd).st_size, BUFSIZE))\n",
    "            if not b:\n",
    "                break\n",
    "            ptr = self.buffer.tell()\n",
    "            self.buffer.seek(0, 2), self.buffer.write(b), self.buffer.seek(ptr)\n",
    "        self.newlines = 0\n",
    "        return self.buffer.read()\n",
    " \n",
    "    def readline(self):\n",
    "        while self.newlines == 0:\n",
    "            b = os.read(self._fd, max(os.fstat(self._fd).st_size, BUFSIZE))\n",
    "            self.newlines = b.count(b\"\\n\") + (not b)\n",
    "            ptr = self.buffer.tell()\n",
    "            self.buffer.seek(0, 2), self.buffer.write(b), self.buffer.seek(ptr)\n",
    "        self.newlines -= 1\n",
    "        return self.buffer.readline()\n",
    " \n",
    "    def flush(self):\n",
    "        if self.writable:\n",
    "            os.write(self._fd, self.buffer.getvalue())\n",
    "            self.buffer.truncate(0), self.buffer.seek(0)\n",
    " \n",
    " \n",
    "class IOWrapper(IOBase):\n",
    "    def __init__(self, file):\n",
    "        self.buffer = FastIO(file)\n",
    "        self.flush = self.buffer.flush\n",
    "        self.writable = self.buffer.writable\n",
    "        self.write = lambda s: self.buffer.write(s.encode(\"ascii\"))\n",
    "        self.read = lambda: self.buffer.read().decode(\"ascii\")\n",
    "        self.readline = lambda: self.buffer.readline().decode(\"ascii\")\n",
    " \n",
    " \n",
    "sys.stdin, sys.stdout = IOWrapper(sys.stdin), IOWrapper(sys.stdout)\n",
    "input = lambda: sys.stdin.readline().rstrip(\"\\r\\n\")\n",
    " \n",
    "# endregion\n",
    " \n",
    "if __name__ == \"__main__\":\n",
    "    main()"
   ]
  }
 ],
 "metadata": {
  "kernelspec": {
   "display_name": "Python 3",
   "language": "python",
   "name": "python3"
  },
  "language_info": {
   "codemirror_mode": {
    "name": "ipython",
    "version": 3
   },
   "file_extension": ".py",
   "mimetype": "text/x-python",
   "name": "python",
   "nbconvert_exporter": "python",
   "pygments_lexer": "ipython3",
   "version": "3.7.3"
  }
 },
 "nbformat": 4,
 "nbformat_minor": 4
}
