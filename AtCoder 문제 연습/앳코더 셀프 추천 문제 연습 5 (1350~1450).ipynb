{
 "cells": [
  {
   "cell_type": "markdown",
   "metadata": {},
   "source": [
    "1350 1450 5\n",
    "1. https://atcoder.jp/contests/abc067/tasks/arc078_b   D. Fennec VS. Snuke\n",
    "\n",
    "2. https://atcoder.jp/contests/tenka1-2018-beginner/tasks/tenka1_2018_d   D. Crossing\n",
    "\n",
    "3. https://atcoder.jp/contests/abc117/tasks/abc117_d   D. XXOR\n",
    "\n",
    "4. https://atcoder.jp/contests/arc136/tasks/arc136_b   B. Triple Shift\n",
    "\n",
    "5. https://atcoder.jp/contests/abc120/tasks/abc120_d   D. Decayed Bridges"
   ]
  },
  {
   "cell_type": "markdown",
   "metadata": {},
   "source": [
    "1"
   ]
  },
  {
   "cell_type": "markdown",
   "metadata": {},
   "source": [
    "둘 사이가 직접 이어지는 엣지들(simple path)을 먼저 이어나감"
   ]
  },
  {
   "cell_type": "code",
   "execution_count": 34,
   "metadata": {},
   "outputs": [
    {
     "name": "stdout",
     "output_type": "stream",
     "text": [
      "4\n",
      "1 4\n",
      "4 2\n",
      "2 3\n",
      "Snuke\n"
     ]
    }
   ],
   "source": [
    "# 반복된 구현 실수로 여러번 틀렸음, 작은 테케 만들어서 틀린 부분 확인했음\n",
    "from collections import deque\n",
    "import sys\n",
    "input = lambda: sys.stdin.readline().rstrip()\n",
    "\n",
    "## PYRIVAL BOOTSTRAP\n",
    "# https://github.com/cheran-senthil/PyRival/blob/master/pyrival/misc/bootstrap.py\n",
    "# This decorator allows for recursion without actually doing recursion\n",
    "## @bootstrap, yield when getting and returning value in recursive functions, end of functions\n",
    "from types import GeneratorType\n",
    "\n",
    "def bootstrap(f, stack=[]):\n",
    "    def wrappedfunc(*args, **kwargs):\n",
    "        if stack:\n",
    "            return f(*args, **kwargs)\n",
    "        else:\n",
    "            to = f(*args, **kwargs)\n",
    "            while True:\n",
    "                if type(to) is GeneratorType:\n",
    "                    stack.append(to)\n",
    "                    to = next(to)\n",
    "                else:\n",
    "                    stack.pop()\n",
    "                    if not stack:\n",
    "                        break\n",
    "                    to = stack[-1].send(to)\n",
    "            return to\n",
    "    return wrappedfunc\n",
    "\n",
    "@bootstrap\n",
    "def dfs_to_find_simple_path(value):\n",
    "    global simple_path\n",
    "    \n",
    "    if value == n:\n",
    "        simple_path = deque(temp)\n",
    "        yield\n",
    "    \n",
    "    vt[value] = True\n",
    "    for v in li[value]:\n",
    "        if vt[v]:\n",
    "            continue\n",
    "        temp.append(v)\n",
    "        yield dfs_to_find_simple_path(v)\n",
    "        temp.pop()\n",
    "        \n",
    "    yield\n",
    "    \n",
    "@bootstrap\n",
    "def dfs_to_color(value):\n",
    "    vt[value] = True\n",
    "    \n",
    "    for v in li[value]:\n",
    "        if vt[v]:\n",
    "            continue\n",
    "        if colors[v] != -1:\n",
    "            continue\n",
    "        colors[v] = colors[value]\n",
    "        yield dfs_to_color(v)\n",
    "    yield\n",
    "\n",
    "n = int(input())\n",
    "li = [[] for _ in range(n + 1)]\n",
    "for _ in range(n - 1):\n",
    "    a, b = map(int, input().split())\n",
    "    \n",
    "    li[a].append(b)\n",
    "    li[b].append(a)\n",
    "\n",
    "colors = [-1] * (n + 1)\n",
    "colors[1] = 0\n",
    "colors[n] = 1\n",
    "simple_path = deque()\n",
    "\n",
    "vt = [False] * (n + 1)\n",
    "temp = [1]\n",
    "dfs_to_find_simple_path(1)\n",
    "\n",
    "simple_path.popleft()\n",
    "simple_path.pop()\n",
    "while simple_path:\n",
    "    colors[simple_path.popleft()] = 0\n",
    "    if not simple_path:\n",
    "        break\n",
    "    colors[simple_path.pop()] = 1\n",
    "\n",
    "vt = [False] * (n + 1)\n",
    "for i in range(1, n + 1):\n",
    "    if colors[i] == -1 or vt[i]:\n",
    "        continue\n",
    "    dfs_to_color(i)\n",
    "\n",
    "c0 = colors.count(0)\n",
    "c1 = colors.count(1)\n",
    "\n",
    "if c0 <= c1:\n",
    "    print('Snuke')\n",
    "else:\n",
    "    print('Fennec')"
   ]
  },
  {
   "cell_type": "markdown",
   "metadata": {},
   "source": [
    "2"
   ]
  },
  {
   "cell_type": "code",
   "execution_count": 26,
   "metadata": {},
   "outputs": [
    {
     "name": "stdout",
     "output_type": "stream",
     "text": [
      "1\n",
      "Yes\n",
      "2\n",
      "1 1\n",
      "1 1\n"
     ]
    }
   ],
   "source": [
    "n = int(input())\n",
    "\n",
    "ip = False\n",
    "row = 0\n",
    "for i in range(1, 1000000):\n",
    "    temp = i * (i + 1) // 2\n",
    "    if n < temp:\n",
    "        break\n",
    "    if n == temp:\n",
    "        row = (i + 1)\n",
    "        ip = True\n",
    "        \n",
    "if not ip:\n",
    "    print('No')\n",
    "else:\n",
    "    print('Yes')\n",
    "    print(row)\n",
    "    \n",
    "    li = [[] for _ in range(row)]\n",
    "    \n",
    "    cur = 1\n",
    "    for i in range(row - 1):\n",
    "        li[i].append(cur)\n",
    "        li[i + 1].append(cur)\n",
    "        cur += 1\n",
    "        \n",
    "    if n >= 2:\n",
    "        li[0].append(cur)\n",
    "        li[row - 1].append(cur)\n",
    "        cur += 1\n",
    "    \n",
    "    for i in range(row):\n",
    "        for j in range(i + 2, row):\n",
    "            if i == 0 and j == row - 1:\n",
    "                continue\n",
    "            li[i].append(cur)\n",
    "            li[j].append(cur)\n",
    "            cur += 1\n",
    "            \n",
    "    for v in li:\n",
    "        print(row - 1, *v)"
   ]
  },
  {
   "cell_type": "markdown",
   "metadata": {},
   "source": [
    "3"
   ]
  },
  {
   "cell_type": "code",
   "execution_count": 29,
   "metadata": {},
   "outputs": [
    {
     "name": "stdout",
     "output_type": "stream",
     "text": [
      "0 10\n",
      "1 9\n",
      "2 8\n",
      "3 7\n",
      "4 14\n",
      "5 13\n",
      "6 12\n",
      "7 11\n",
      "8 34\n",
      "9 33\n",
      "10 32\n",
      "11 31\n",
      "12 38\n",
      "13 37\n",
      "14 36\n",
      "15 35\n",
      "16 58\n",
      "17 57\n",
      "18 56\n",
      "19 55\n",
      "20 62\n",
      "21 61\n",
      "22 60\n",
      "23 59\n",
      "24 82\n",
      "25 81\n",
      "26 80\n",
      "27 79\n",
      "28 86\n",
      "29 85\n"
     ]
    }
   ],
   "source": [
    "for x in range(30):\n",
    "    temp = 0\n",
    "    for i in range(n):\n",
    "        temp += x ^ li[i]\n",
    "        \n",
    "    print(x, temp)"
   ]
  },
  {
   "cell_type": "code",
   "execution_count": 45,
   "metadata": {},
   "outputs": [
    {
     "name": "stdout",
     "output_type": "stream",
     "text": [
      "1 0\n",
      "10000\n",
      "10000\n"
     ]
    }
   ],
   "source": [
    "n, k = map(int, input().split())\n",
    "li = list(map(int, input().split()))\n",
    "\n",
    "max_cri = 0\n",
    "if n % 2 == 0:\n",
    "    max_cri = (n - 1) // 2\n",
    "else:\n",
    "    max_cri = n // 2\n",
    "\n",
    "cs = [0] * 41\n",
    "for v in li:\n",
    "    bv = bin(v)\n",
    "    cur = 0\n",
    "    for i in range(len(bv) - 1, -1, -1):\n",
    "        if bv[i] == 'b':\n",
    "            break\n",
    "        if bv[i] == '1':\n",
    "            cs[cur] += 1\n",
    "        cur += 1\n",
    "        \n",
    "cumul = 0\n",
    "for i in range(len(cs) - 1, -1, -1):\n",
    "    if cumul + 2 ** i > k:\n",
    "        continue\n",
    "        \n",
    "    if cs[i] <= max_cri:\n",
    "        cumul += 2 ** i\n",
    "    \n",
    "x = cumul\n",
    "r = 0\n",
    "for i in range(n):\n",
    "    r += x ^ li[i]\n",
    "    \n",
    "print(r)"
   ]
  },
  {
   "cell_type": "markdown",
   "metadata": {},
   "source": [
    "4"
   ]
  },
  {
   "cell_type": "code",
   "execution_count": 66,
   "metadata": {},
   "outputs": [],
   "source": [
    "def ts(i):\n",
    "    x, y, z = li[i], li[i + 1], li[i + 2]\n",
    "    li[i], li[i + 1], li[i + 2] = z, x, y\n",
    "    "
   ]
  },
  {
   "cell_type": "code",
   "execution_count": 69,
   "metadata": {},
   "outputs": [
    {
     "name": "stdout",
     "output_type": "stream",
     "text": [
      "[2, 3, 1, 4]\n"
     ]
    }
   ],
   "source": [
    "li = [1, 2, 3, 4]\n",
    "ts(0)\n",
    "ts(0)\n",
    "\n",
    "print(li)"
   ]
  },
  {
   "cell_type": "code",
   "execution_count": 77,
   "metadata": {},
   "outputs": [
    {
     "name": "stdout",
     "output_type": "stream",
     "text": [
      "{(2, 1, 4, 3), (2, 3, 1, 4), (4, 2, 1, 3), (1, 2, 3, 4), (3, 4, 1, 2), (1, 3, 4, 2), (3, 2, 4, 1), (1, 4, 2, 3), (2, 4, 3, 1), (4, 3, 2, 1), (3, 1, 2, 4), (4, 1, 3, 2)}\n"
     ]
    }
   ],
   "source": [
    "li = [1, 2, 3, 4]\n",
    "\n",
    "import random\n",
    "\n",
    "st = set()\n",
    "st.add(tuple(li))\n",
    "for _ in range(1000):\n",
    "    ts(random.randint(0, 1))\n",
    "    st.add(tuple(li))\n",
    "    \n",
    "print(st)"
   ]
  },
  {
   "cell_type": "code",
   "execution_count": 81,
   "metadata": {},
   "outputs": [
    {
     "name": "stdout",
     "output_type": "stream",
     "text": [
      "(2, 1, 4, 3)\n",
      "(2, 3, 1, 4)\n",
      "(4, 2, 1, 3)\n",
      "(1, 2, 3, 4)\n",
      "(3, 4, 1, 2)\n",
      "(1, 3, 4, 2)\n",
      "(3, 2, 4, 1)\n",
      "(1, 4, 2, 3)\n",
      "(2, 4, 3, 1)\n",
      "(4, 3, 2, 1)\n",
      "(3, 1, 2, 4)\n",
      "(4, 1, 3, 2)\n"
     ]
    }
   ],
   "source": [
    "for v in st:\n",
    "    print(v)"
   ]
  },
  {
   "cell_type": "code",
   "execution_count": 80,
   "metadata": {},
   "outputs": [
    {
     "name": "stdout",
     "output_type": "stream",
     "text": [
      "(4, 1, 2, 3)\n",
      "(1, 3, 2, 4)\n",
      "(3, 4, 1, 2)\n",
      "(1, 4, 2, 3)\n",
      "(4, 2, 3, 1)\n",
      "(2, 4, 1, 3)\n",
      "(4, 3, 1, 2)\n",
      "(2, 1, 3, 4)\n",
      "(3, 1, 4, 2)\n",
      "(3, 2, 4, 1)\n",
      "(1, 3, 4, 2)\n",
      "(1, 2, 4, 3)\n",
      "(2, 4, 3, 1)\n",
      "(3, 1, 2, 4)\n",
      "(4, 1, 3, 2)\n",
      "(2, 3, 1, 4)\n",
      "(4, 2, 1, 3)\n",
      "(1, 2, 3, 4)\n",
      "(1, 4, 3, 2)\n",
      "(3, 4, 2, 1)\n",
      "(2, 3, 4, 1)\n",
      "(4, 3, 2, 1)\n",
      "(3, 2, 1, 4)\n",
      "(2, 1, 4, 3)\n"
     ]
    }
   ],
   "source": [
    "for v in st2:\n",
    "    print(v)"
   ]
  },
  {
   "cell_type": "code",
   "execution_count": 90,
   "metadata": {},
   "outputs": [],
   "source": [
    "from itertools import permutations as perm\n",
    "\n",
    "st2 = set(perm(range(1, 5), 4))"
   ]
  },
  {
   "cell_type": "code",
   "execution_count": 83,
   "metadata": {},
   "outputs": [
    {
     "data": {
      "text/plain": [
       "[(1, 2, 3, 4),\n",
       " (1, 3, 4, 2),\n",
       " (1, 4, 2, 3),\n",
       " (2, 1, 4, 3),\n",
       " (2, 3, 1, 4),\n",
       " (2, 4, 3, 1),\n",
       " (3, 1, 2, 4),\n",
       " (3, 2, 4, 1),\n",
       " (3, 4, 1, 2),\n",
       " (4, 1, 3, 2),\n",
       " (4, 2, 1, 3),\n",
       " (4, 3, 2, 1)]"
      ]
     },
     "execution_count": 83,
     "metadata": {},
     "output_type": "execute_result"
    }
   ],
   "source": [
    "sorted(st)"
   ]
  },
  {
   "cell_type": "code",
   "execution_count": null,
   "metadata": {},
   "outputs": [],
   "source": [
    "[(1, 2, 3, 4),     s s s s\n",
    " (1, 3, 4, 2),     s d d t\n",
    " (1, 4, 2, 3),     s t d d\n",
    " (2, 1, 4, 3),     d d d d\n",
    " (2, 3, 1, 4),     d d t s\n",
    " (2, 4, 3, 1),     d t s d\n",
    " (3, 1, 2, 4),\n",
    " (3, 2, 4, 1),\n",
    " (3, 4, 1, 2),\n",
    " (4, 1, 3, 2),\n",
    " (4, 2, 1, 3),\n",
    " (4, 3, 2, 1)]"
   ]
  },
  {
   "cell_type": "code",
   "execution_count": null,
   "metadata": {},
   "outputs": [],
   "source": [
    "[(1, 2, 4, 3),    s s d d\n",
    " (1, 3, 2, 4),    s d d s\n",
    " (1, 4, 3, 2),    s t s t\n",
    " (2, 1, 3, 4),\n",
    " (2, 3, 4, 1),    d d d d\n",
    " (2, 4, 1, 3),\n",
    " (3, 1, 4, 2),\n",
    " (3, 2, 1, 4),\n",
    " (3, 4, 2, 1),\n",
    " (4, 1, 2, 3),\n",
    " (4, 2, 3, 1),\n",
    " (4, 3, 1, 2)]"
   ]
  },
  {
   "cell_type": "code",
   "execution_count": 84,
   "metadata": {},
   "outputs": [
    {
     "data": {
      "text/plain": [
       "[(1, 2, 4, 3),\n",
       " (1, 3, 2, 4),\n",
       " (1, 4, 3, 2),\n",
       " (2, 1, 3, 4),\n",
       " (2, 3, 4, 1),\n",
       " (2, 4, 1, 3),\n",
       " (3, 1, 4, 2),\n",
       " (3, 2, 1, 4),\n",
       " (3, 4, 2, 1),\n",
       " (4, 1, 2, 3),\n",
       " (4, 2, 3, 1),\n",
       " (4, 3, 1, 2)]"
      ]
     },
     "execution_count": 84,
     "metadata": {},
     "output_type": "execute_result"
    }
   ],
   "source": [
    "sorted(st2 - st)"
   ]
  },
  {
   "cell_type": "code",
   "execution_count": 85,
   "metadata": {},
   "outputs": [
    {
     "name": "stdout",
     "output_type": "stream",
     "text": [
      "{(4, 1, 2, 3), (2, 1, 3, 4), (3, 1, 4, 2), (1, 3, 2, 4), (1, 4, 3, 2), (1, 2, 4, 3), (3, 4, 2, 1), (2, 4, 1, 3), (2, 3, 4, 1), (4, 2, 3, 1), (3, 2, 1, 4), (4, 3, 1, 2)}\n"
     ]
    }
   ],
   "source": [
    "li = [1, 2, 4, 3]\n",
    "\n",
    "import random\n",
    "\n",
    "st3 = set()\n",
    "st3.add(tuple(li))\n",
    "for _ in range(1000):\n",
    "    ts(random.randint(0, 1))\n",
    "    st3.add(tuple(li))\n",
    "    \n",
    "print(st3)"
   ]
  },
  {
   "cell_type": "code",
   "execution_count": 88,
   "metadata": {},
   "outputs": [
    {
     "data": {
      "text/plain": [
       "set()"
      ]
     },
     "execution_count": 88,
     "metadata": {},
     "output_type": "execute_result"
    }
   ],
   "source": [
    "st & st3"
   ]
  },
  {
   "cell_type": "code",
   "execution_count": 89,
   "metadata": {},
   "outputs": [
    {
     "data": {
      "text/plain": [
       "(12, 12)"
      ]
     },
     "execution_count": 89,
     "metadata": {},
     "output_type": "execute_result"
    }
   ],
   "source": [
    "len(st), len(st3)"
   ]
  },
  {
   "cell_type": "code",
   "execution_count": null,
   "metadata": {},
   "outputs": [],
   "source": [
    "1, 2, 4, 3으로 만들 수 있는 것들은 못 만듦"
   ]
  },
  {
   "cell_type": "code",
   "execution_count": null,
   "metadata": {},
   "outputs": [],
   "source": [
    "1 2 2\n",
    "2 1 2\n",
    "\n",
    "2 2 1 1 1 1 2 2\n",
    "2 2 2 2 1 1 1 1"
   ]
  },
  {
   "cell_type": "code",
   "execution_count": 136,
   "metadata": {},
   "outputs": [
    {
     "name": "stdout",
     "output_type": "stream",
     "text": [
      "4\n",
      "2 2 2 1\n",
      "1 2 2 2\n",
      "Yes\n"
     ]
    }
   ],
   "source": [
    "n = int(input())\n",
    "a = list(map(int, input().split()))\n",
    "b = list(map(int, input().split()))\n",
    "\n",
    "is_last_possible = False\n",
    "for i in range(n - 2):\n",
    "    if a[i] == b[i]:\n",
    "        continue\n",
    "        \n",
    "    temp_diff = -1\n",
    "    is_done = False\n",
    "    for j in range(i, n):\n",
    "        if a[j] == b[i]:\n",
    "            if i % 2 == j % 2:\n",
    "                if not is_done:\n",
    "                    a.insert(i, a.pop(j))\n",
    "                    is_done = True\n",
    "            else:\n",
    "                temp_diff = j\n",
    "                \n",
    "    if not is_done:\n",
    "        if temp_diff != -1:\n",
    "            a.insert(i, a.pop(temp_diff))\n",
    "            a[-1], a[-2] = a[-2], a[-1]\n",
    "        else:\n",
    "            break\n",
    "    else:\n",
    "        if temp_diff != -1:\n",
    "            is_last_possible = True\n",
    "            \n",
    "if a == b:\n",
    "    print('Yes')\n",
    "else:\n",
    "    if is_last_possible:\n",
    "        a[-1], a[-2] = a[-2], a[-1]\n",
    "        if a == b:\n",
    "            print('Yes')\n",
    "        else:\n",
    "            print('No')\n",
    "    else:\n",
    "        print('No')"
   ]
  },
  {
   "cell_type": "markdown",
   "metadata": {},
   "source": [
    "5"
   ]
  },
  {
   "cell_type": "code",
   "execution_count": null,
   "metadata": {},
   "outputs": [],
   "source": [
    "import sys\n",
    "input = lambda: sys.stdin.readline().rstrip()\n",
    "\n",
    "## PYRIVAL BOOTSTRAP\n",
    "# https://github.com/cheran-senthil/PyRival/blob/master/pyrival/misc/bootstrap.py\n",
    "# This decorator allows for recursion without actually doing recursion\n",
    "## @bootstrap, yield when getting and returning value in recursive functions, end of functions\n",
    "from types import GeneratorType\n",
    "\n",
    "def bootstrap(f, stack=[]):\n",
    "    def wrappedfunc(*args, **kwargs):\n",
    "        if stack:\n",
    "            return f(*args, **kwargs)\n",
    "        else:\n",
    "            to = f(*args, **kwargs)\n",
    "            while True:\n",
    "                if type(to) is GeneratorType:\n",
    "                    stack.append(to)\n",
    "                    to = next(to)\n",
    "                else:\n",
    "                    stack.pop()\n",
    "                    if not stack:\n",
    "                        break\n",
    "                    to = stack[-1].send(to)\n",
    "            return to\n",
    "    return wrappedfunc\n",
    "\n",
    "@bootstrap\n",
    "def find(v):\n",
    "    if v == parent[v]:\n",
    "        yield v\n",
    "    parent[v] = yield find(parent[v])\n",
    "    yield parent[v]\n",
    "\n",
    "def union(a, b):\n",
    "    if a > b:\n",
    "        a, b = b, a\n",
    "    parent[b] = a\n",
    "    \n",
    "    temp =  ctd[a] * (ctd[a] - 1) // 2 + ctd[b] * (ctd[b] - 1) // 2\n",
    "    ctd[a] += ctd[b]\n",
    "    to_reduce = ctd[a] * (ctd[a] - 1) // 2 - temp\n",
    "    \n",
    "    return to_reduce\n",
    "\n",
    "n, m = map(int, input().split())\n",
    "edges = [list(map(int, input().split())) for _ in range(m)]\n",
    "\n",
    "parent = list(range(n + 1))\n",
    "ctd = [1] * (n + 1) # connected\n",
    "inconv = n * (n - 1) // 2 # inconvenience\n",
    "r = [0] * (m)\n",
    "r[m - 1] = inconv\n",
    "for i in range(m - 1, 0, -1):\n",
    "    a, b = edges[i]\n",
    "    \n",
    "    ra = find(a)\n",
    "    rb = find(b)\n",
    "    if ra == rb:\n",
    "        r[i - 1] = r[i]\n",
    "    else:\n",
    "        inconv -= union(ra, rb)\n",
    "        r[i - 1] = inconv\n",
    "        \n",
    "for v in r:\n",
    "    print(v)"
   ]
  }
 ],
 "metadata": {
  "kernelspec": {
   "display_name": "Python 3",
   "language": "python",
   "name": "python3"
  },
  "language_info": {
   "codemirror_mode": {
    "name": "ipython",
    "version": 3
   },
   "file_extension": ".py",
   "mimetype": "text/x-python",
   "name": "python",
   "nbconvert_exporter": "python",
   "pygments_lexer": "ipython3",
   "version": "3.7.4"
  }
 },
 "nbformat": 4,
 "nbformat_minor": 4
}
