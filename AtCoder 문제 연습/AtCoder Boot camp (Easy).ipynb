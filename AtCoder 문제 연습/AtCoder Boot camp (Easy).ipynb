{
 "cells": [
  {
   "cell_type": "markdown",
   "metadata": {},
   "source": [
    "1"
   ]
  },
  {
   "cell_type": "code",
   "execution_count": 88,
   "metadata": {},
   "outputs": [
    {
     "name": "stdout",
     "output_type": "stream",
     "text": [
      "19 20\n",
      "2\n"
     ]
    }
   ],
   "source": [
    "a, b = map(int, input().split())\n",
    "\n",
    "if b == 1:\n",
    "    print(0)\n",
    "else:\n",
    "    for num in range(1, 21):\n",
    "        value = (a - 1) *  (num - 1) + a\n",
    "        if value >= b:\n",
    "            break\n",
    "\n",
    "    print(num)"
   ]
  },
  {
   "cell_type": "markdown",
   "metadata": {},
   "source": [
    "2"
   ]
  },
  {
   "cell_type": "code",
   "execution_count": 90,
   "metadata": {},
   "outputs": [
    {
     "name": "stdout",
     "output_type": "stream",
     "text": [
      "7\n",
      "14 14 2 13 56 2 37\n",
      "2354\n"
     ]
    }
   ],
   "source": [
    "n = int(input())\n",
    "li = list(map(int, input().split()))\n",
    "\n",
    "left = min(li)\n",
    "right = max(li)\n",
    "\n",
    "msn = float('inf') # min_stamina_needed\n",
    "for loc in range(left, right + 1):\n",
    "    temp = 0\n",
    "    for v in li:\n",
    "        temp += (v - loc) ** 2\n",
    "    msn = min(msn, temp)\n",
    "    \n",
    "print(msn)"
   ]
  },
  {
   "cell_type": "markdown",
   "metadata": {},
   "source": [
    "3, B - Qualification simulator"
   ]
  },
  {
   "cell_type": "code",
   "execution_count": null,
   "metadata": {},
   "outputs": [],
   "source": [
    "n, a, b = map(int, input().split())\n",
    "s = input()\n",
    "\n",
    "ca = 0\n",
    "cb = 0\n",
    "for v in s:\n",
    "    if v == 'c':\n",
    "        print('No')\n",
    "    elif v == 'a':\n",
    "        if ca + cb < a + b:\n",
    "            ca += 1\n",
    "            print('Yes')\n",
    "        else:\n",
    "            print('No')\n",
    "    else:\n",
    "        if ca + cb < a + b and cb < b:\n",
    "            cb += 1\n",
    "            print('Yes')\n",
    "        else:\n",
    "            print('No')"
   ]
  },
  {
   "cell_type": "markdown",
   "metadata": {},
   "source": [
    "4. B - Tax Rate"
   ]
  },
  {
   "cell_type": "code",
   "execution_count": 20,
   "metadata": {},
   "outputs": [
    {
     "name": "stdout",
     "output_type": "stream",
     "text": [
      "1001\n",
      ":(\n"
     ]
    }
   ],
   "source": [
    "n = int(input())\n",
    "\n",
    "x = n / 1.08\n",
    "x = round(x, 10)\n",
    "\n",
    "if x == int(x):\n",
    "    print(int(x))\n",
    "else:\n",
    "    x = int(x) + 1\n",
    "    if int(x * 1.08) == n:\n",
    "        print(x)\n",
    "    else:\n",
    "        print(':(')"
   ]
  },
  {
   "cell_type": "markdown",
   "metadata": {},
   "source": [
    "5. B - Can you solve this?"
   ]
  },
  {
   "cell_type": "code",
   "execution_count": 23,
   "metadata": {},
   "outputs": [
    {
     "name": "stdout",
     "output_type": "stream",
     "text": [
      "2 3 -10\n",
      "1 2 3\n",
      "3 2 1\n",
      "1 2 2\n",
      "0\n"
     ]
    }
   ],
   "source": [
    "n, m, c = map(int, input().split())\n",
    "B = list(map(int, input().split()))\n",
    "\n",
    "count = 0\n",
    "for _ in range(n):\n",
    "    A = list(map(int, input().split()))\n",
    "    \n",
    "    total = 0\n",
    "    for i in range(m):\n",
    "        total += A[i] * B[i]\n",
    "        \n",
    "    total += c\n",
    "    \n",
    "    if total > 0:\n",
    "        count += 1\n",
    "        \n",
    "print(count)"
   ]
  },
  {
   "cell_type": "markdown",
   "metadata": {},
   "source": [
    "6. B - Bishop"
   ]
  },
  {
   "cell_type": "code",
   "execution_count": 41,
   "metadata": {},
   "outputs": [
    {
     "name": "stdout",
     "output_type": "stream",
     "text": [
      "3 3\n",
      "5\n"
     ]
    }
   ],
   "source": [
    "h, w = map(int, input().split())\n",
    "\n",
    "if h == 1 or w == 1:\n",
    "    print(1)\n",
    "elif w % 2 == 0:\n",
    "    print(w // 2 * h)\n",
    "else:\n",
    "    temp = (w // 2) * 2 + 1\n",
    "    r = h // 2 * temp\n",
    "    \n",
    "    if h % 2 == 1:\n",
    "        r += w // 2 + 1\n",
    "        \n",
    "    print(r)"
   ]
  },
  {
   "cell_type": "markdown",
   "metadata": {},
   "source": [
    "7. B - Bingo"
   ]
  },
  {
   "cell_type": "code",
   "execution_count": 46,
   "metadata": {},
   "outputs": [
    {
     "name": "stdout",
     "output_type": "stream",
     "text": [
      "Yes\n"
     ]
    }
   ],
   "source": [
    "li = [list(map(int, input().split())) for _ in range(3)]\n",
    "cur = [[False] * 3 for _ in range(3)]\n",
    "\n",
    "for _ in range(int(input())):\n",
    "    v = int(input())\n",
    "    \n",
    "    for i in range(3):\n",
    "        for j in range(3):\n",
    "            if li[i][j] == v:\n",
    "                cur[i][j] = True\n",
    "\n",
    "def check():\n",
    "    for i in range(3):\n",
    "        if sum(cur[i]) == 3:\n",
    "            return True\n",
    "        \n",
    "    for j in range(3):\n",
    "        temp = 0\n",
    "        for i in range(3):\n",
    "            temp += cur[i][j]\n",
    "            \n",
    "        if temp == 3:\n",
    "            return True\n",
    "        \n",
    "    if cur[0][0] + cur[1][1] + cur[2][2] == 3:\n",
    "        return True\n",
    "    \n",
    "    if cur[0][2] + cur[1][1] + cur[2][0] == 3:\n",
    "        return True\n",
    "    \n",
    "    return False\n",
    "\n",
    "if check():\n",
    "    print('Yes')\n",
    "else:\n",
    "    print('No')"
   ]
  },
  {
   "cell_type": "markdown",
   "metadata": {},
   "source": [
    "### 제출용"
   ]
  },
  {
   "cell_type": "code",
   "execution_count": null,
   "metadata": {},
   "outputs": [],
   "source": [
    "import os\n",
    "import sys\n",
    "from io import BytesIO, IOBase\n",
    " \n",
    "\n",
    "def main(): \n",
    "    li = [list(map(int, input().split())) for _ in range(3)]\n",
    "    cur = [[False] * 3 for _ in range(3)]\n",
    "\n",
    "    for _ in range(int(input())):\n",
    "        v = int(input())\n",
    "\n",
    "        for i in range(3):\n",
    "            for j in range(3):\n",
    "                if li[i][j] == v:\n",
    "                    cur[i][j] = True\n",
    "\n",
    "    def check():\n",
    "        for i in range(3):\n",
    "            if sum(cur[i]) == 3:\n",
    "                return True\n",
    "\n",
    "        for j in range(3):\n",
    "            temp = 0\n",
    "            for i in range(3):\n",
    "                temp += cur[i][j]\n",
    "\n",
    "            if temp == 3:\n",
    "                return True\n",
    "\n",
    "        if cur[0][0] + cur[1][1] + cur[2][2] == 3:\n",
    "            return True\n",
    "\n",
    "        if cur[0][2] + cur[1][1] + cur[2][0] == 3:\n",
    "            return True\n",
    "\n",
    "        return False\n",
    "\n",
    "    if check():\n",
    "        print('Yes')\n",
    "    else:\n",
    "        print('No')\n",
    "    \n",
    "\n",
    "# region fastio\n",
    " \n",
    "BUFSIZE = 8192\n",
    " \n",
    "\n",
    "class FastIO(IOBase):\n",
    "    newlines = 0\n",
    " \n",
    "    def __init__(self, file):\n",
    "        self._fd = file.fileno()\n",
    "        self.buffer = BytesIO()\n",
    "        self.writable = \"x\" in file.mode or \"r\" not in file.mode\n",
    "        self.write = self.buffer.write if self.writable else None\n",
    " \n",
    "    def read(self):\n",
    "        while True:\n",
    "            b = os.read(self._fd, max(os.fstat(self._fd).st_size, BUFSIZE))\n",
    "            if not b:\n",
    "                break\n",
    "            ptr = self.buffer.tell()\n",
    "            self.buffer.seek(0, 2), self.buffer.write(b), self.buffer.seek(ptr)\n",
    "        self.newlines = 0\n",
    "        return self.buffer.read()\n",
    " \n",
    "    def readline(self):\n",
    "        while self.newlines == 0:\n",
    "            b = os.read(self._fd, max(os.fstat(self._fd).st_size, BUFSIZE))\n",
    "            self.newlines = b.count(b\"\\n\") + (not b)\n",
    "            ptr = self.buffer.tell()\n",
    "            self.buffer.seek(0, 2), self.buffer.write(b), self.buffer.seek(ptr)\n",
    "        self.newlines -= 1\n",
    "        return self.buffer.readline()\n",
    " \n",
    "    def flush(self):\n",
    "        if self.writable:\n",
    "            os.write(self._fd, self.buffer.getvalue())\n",
    "            self.buffer.truncate(0), self.buffer.seek(0)\n",
    " \n",
    " \n",
    "class IOWrapper(IOBase):\n",
    "    def __init__(self, file):\n",
    "        self.buffer = FastIO(file)\n",
    "        self.flush = self.buffer.flush\n",
    "        self.writable = self.buffer.writable\n",
    "        self.write = lambda s: self.buffer.write(s.encode(\"ascii\"))\n",
    "        self.read = lambda: self.buffer.read().decode(\"ascii\")\n",
    "        self.readline = lambda: self.buffer.readline().decode(\"ascii\")\n",
    " \n",
    " \n",
    "sys.stdin, sys.stdout = IOWrapper(sys.stdin), IOWrapper(sys.stdout)\n",
    "input = lambda: sys.stdin.readline().rstrip(\"\\r\\n\")\n",
    " \n",
    "# endregion\n",
    " \n",
    "if __name__ == \"__main__\":\n",
    "    main()"
   ]
  }
 ],
 "metadata": {
  "kernelspec": {
   "display_name": "Python 3",
   "language": "python",
   "name": "python3"
  },
  "language_info": {
   "codemirror_mode": {
    "name": "ipython",
    "version": 3
   },
   "file_extension": ".py",
   "mimetype": "text/x-python",
   "name": "python",
   "nbconvert_exporter": "python",
   "pygments_lexer": "ipython3",
   "version": "3.7.3"
  }
 },
 "nbformat": 4,
 "nbformat_minor": 4
}
