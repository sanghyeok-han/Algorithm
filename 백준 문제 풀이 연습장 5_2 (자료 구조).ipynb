{
 "cells": [
  {
   "cell_type": "markdown",
   "metadata": {},
   "source": [
    "### 외계인의 기타 연주 2841\n",
    "- 스택"
   ]
  },
  {
   "cell_type": "markdown",
   "metadata": {},
   "source": [
    "리스트 안에 1번부터 6번 인덱스까지 스택이 있는 구조로 구현"
   ]
  },
  {
   "cell_type": "code",
   "execution_count": 4,
   "metadata": {},
   "outputs": [
    {
     "name": "stdout",
     "output_type": "stream",
     "text": [
      "7 15\n",
      "1 5\n",
      "2 3\n",
      "2 5\n",
      "2 7\n",
      "2 4\n",
      "1 5\n",
      "1 3\n",
      "9\n"
     ]
    }
   ],
   "source": [
    "import sys\n",
    "input = lambda: sys.stdin.readline().rstrip()\n",
    "\n",
    "n, _ = map(int, input().split())\n",
    "\n",
    "li = [[] for _ in range(7)]\n",
    "count = 0\n",
    "for _ in range(n):\n",
    "    row, p = map(int, input().split())\n",
    "    while True:\n",
    "        if not li[row]:\n",
    "            li[row].append(p)\n",
    "            count += 1\n",
    "            break\n",
    "        if li[row][-1] == p:\n",
    "            break\n",
    "        if li[row][-1] > p:\n",
    "            li[row].pop()\n",
    "            count += 1\n",
    "        else:\n",
    "            li[row].append(p)\n",
    "            count += 1\n",
    "print(count)"
   ]
  },
  {
   "cell_type": "markdown",
   "metadata": {},
   "source": [
    "### 이상한 하노이 탑 15500\n",
    "- 스택"
   ]
  },
  {
   "cell_type": "code",
   "execution_count": 5,
   "metadata": {},
   "outputs": [
    {
     "name": "stdout",
     "output_type": "stream",
     "text": [
      "3\n",
      "2 3 1\n",
      "1 2\n",
      "1 3\n",
      "1 3\n",
      "2 3\n"
     ]
    }
   ],
   "source": [
    "n = int(input())\n",
    "first = list(map(int, input().split()))\n",
    "second = []\n",
    "last = []\n",
    "\n",
    "result = []\n",
    "for i in range(n, 0, -1):\n",
    "    if i in first:\n",
    "        while True:\n",
    "            if first[-1] == i:\n",
    "                last.append(first.pop())\n",
    "                result.append('1 3')\n",
    "                break\n",
    "            second.append(first.pop())\n",
    "            result.append('1 2')\n",
    "    else:\n",
    "        while True:\n",
    "            if second[-1] == i:\n",
    "                last.append(second.pop())\n",
    "                result.append('2 3')\n",
    "                break\n",
    "            first.append(second.pop())\n",
    "            result.append('2 1')   \n",
    "            \n",
    "print(len(result))\n",
    "print('\\n'.join(result))"
   ]
  },
  {
   "cell_type": "markdown",
   "metadata": {},
   "source": [
    "### 후위 표기식2 1935\n",
    "- 스택"
   ]
  },
  {
   "cell_type": "code",
   "execution_count": 29,
   "metadata": {},
   "outputs": [
    {
     "name": "stdout",
     "output_type": "stream",
     "text": [
      "1\n",
      "AA+A+\n",
      "1\n",
      "3.00\n"
     ]
    }
   ],
   "source": [
    "n = int(input())\n",
    "s = input()\n",
    "values = [int(input()) for _ in range(n)]\n",
    "\n",
    "stack = []\n",
    "for v in s:\n",
    "    if 65 <= ord(v) <= 90:\n",
    "        stack.append(values[ord(v) - 65])\n",
    "    else:\n",
    "        b, a = stack.pop(), stack.pop()\n",
    "        stack.append(eval(f'{a}{v}{b}'))\n",
    "        \n",
    "result = stack[-1]\n",
    "print('{:.2f}'.format(result))"
   ]
  },
  {
   "cell_type": "markdown",
   "metadata": {},
   "source": [
    "### 옥상 정원 꾸미기 6198\n",
    "- 스택"
   ]
  },
  {
   "cell_type": "code",
   "execution_count": 34,
   "metadata": {},
   "outputs": [
    {
     "name": "stdout",
     "output_type": "stream",
     "text": [
      "3\n",
      "4\n",
      "3\n",
      "3\n",
      "2\n"
     ]
    }
   ],
   "source": [
    "import sys\n",
    "input = lambda: sys.stdin.readline().rstrip()\n",
    "\n",
    "n = int(input())\n",
    "li = [int(input()) for _ in range(n)]\n",
    "\n",
    "total = 0\n",
    "stack = [(li.pop(), 1)]\n",
    "while li:\n",
    "    count = 0\n",
    "    value = li.pop()\n",
    "    while stack:\n",
    "        if value > stack[-1][0]:\n",
    "            _, fc = stack.pop()\n",
    "            count += fc\n",
    "        else:\n",
    "            break\n",
    "    stack.append((value, count + 1))\n",
    "    total += count\n",
    "    \n",
    "print(total)"
   ]
  },
  {
   "cell_type": "markdown",
   "metadata": {},
   "source": [
    "### 후위 표기식 1918\n",
    "- 스택"
   ]
  },
  {
   "cell_type": "code",
   "execution_count": 42,
   "metadata": {},
   "outputs": [
    {
     "name": "stdout",
     "output_type": "stream",
     "text": [
      "A*(B+C)\n"
     ]
    }
   ],
   "source": [
    "li = list(input())"
   ]
  },
  {
   "cell_type": "code",
   "execution_count": 39,
   "metadata": {},
   "outputs": [
    {
     "data": {
      "text/plain": [
       "['A', '+', 'A', '*', 'B']"
      ]
     },
     "execution_count": 39,
     "metadata": {},
     "output_type": "execute_result"
    }
   ],
   "source": [
    "stack = []\n",
    "for i in range(len(li)):\n",
    "    if li[i] == '*' or li[i] == '/':\n",
    "        "
   ]
  },
  {
   "cell_type": "code",
   "execution_count": 67,
   "metadata": {},
   "outputs": [
    {
     "name": "stdout",
     "output_type": "stream",
     "text": [
      "A*B/(A+B)*(((A+B*C-E+A)/B/A)+A*C-B)+B\n",
      "AB*AB+/ABC*+E-A+B/A/AC*+B-*B+\n"
     ]
    }
   ],
   "source": [
    "import sys\n",
    "# sys.setrecursionlimit(1000000)\n",
    "\n",
    "def recur(s):\n",
    "    result = []\n",
    "    temp = []\n",
    "    stack = []\n",
    "    a = op = ''\n",
    "    for v in s:\n",
    "        if v == '(':\n",
    "            if stack:\n",
    "                temp.append('(')\n",
    "            stack.append(v)\n",
    "            continue\n",
    "        if v == ')':\n",
    "            stack.pop()\n",
    "            if not stack:\n",
    "                to_add = recur(temp[:])\n",
    "                temp = [] \n",
    "                if a:\n",
    "                    result.append(a + to_add + op)\n",
    "                    a = op = '' \n",
    "                else:\n",
    "                    result.append(to_add)\n",
    "            else:\n",
    "                temp.append(')')\n",
    "            continue\n",
    "        if stack:\n",
    "            temp.append(v)\n",
    "        else:\n",
    "            if v == '*' or v == '/':\n",
    "                a = result.pop()\n",
    "                op = v\n",
    "                continue\n",
    "            if a:\n",
    "                result.append(a + v + op)\n",
    "                a = op = ''\n",
    "            else:\n",
    "                result.append(v)\n",
    "    \n",
    "    nresult = []\n",
    "    a = op = ''\n",
    "    for v in result:\n",
    "        if v == '+' or v == '-':\n",
    "            a = nresult.pop()\n",
    "            op = v\n",
    "            continue\n",
    "        if a:\n",
    "            nresult.append(a + v + op)\n",
    "            a = op = ''\n",
    "        else:\n",
    "            nresult.append(v)\n",
    "    return nresult[0]\n",
    "\n",
    "s = input()\n",
    "print(recur(s))"
   ]
  },
  {
   "cell_type": "markdown",
   "metadata": {},
   "source": [
    "### 가희의 수열놀이 (Small) 17162"
   ]
  },
  {
   "cell_type": "code",
   "execution_count": 79,
   "metadata": {},
   "outputs": [
    {
     "name": "stdout",
     "output_type": "stream",
     "text": [
      "6 4\n",
      "1 2\n",
      "1 3\n",
      "3\n",
      "-1\n",
      "1 1\n",
      "1 4\n",
      "3\n",
      "4\n"
     ]
    }
   ],
   "source": [
    "# 시간 초과, 일단 포기\n",
    "import sys\n",
    "# input = lambda: sys.stdin.readline().rstrip()\n",
    "\n",
    "q, mod = map(int, input().split())\n",
    "stack = []\n",
    "counts = [0] * mod\n",
    "recent_possible_index = -1\n",
    "for _ in range(q):\n",
    "    temp = list(map(int, input().split()))\n",
    "    if len(temp) == 1:\n",
    "        if temp[0] == 2:\n",
    "            if stack:\n",
    "                stack.pop()\n",
    "        else:\n",
    "            if recent_possible_index == -1:\n",
    "                print(-1)\n",
    "            else:\n",
    "                print(len(stack) - recent_possible_index)\n",
    "    else:\n",
    "        temp[1] %= mod\n",
    "        counts[temp[1]]\n",
    "        stack.append(temp[1])"
   ]
  },
  {
   "cell_type": "markdown",
   "metadata": {},
   "source": [
    "### 문자열 폭발 9935"
   ]
  },
  {
   "cell_type": "code",
   "execution_count": 109,
   "metadata": {},
   "outputs": [
    {
     "name": "stdout",
     "output_type": "stream",
     "text": [
      "aababaabbbababaababbabfabgf\n",
      "ab\n",
      "fgf\n"
     ]
    }
   ],
   "source": [
    "# 맞았음, 해당하지 않는 값에서 check_index 초기화를 안해주어서 틀렸었음\n",
    "s = input()\n",
    "bomb = input()\n",
    "bomb_len = len(bomb)\n",
    "\n",
    "stack = []\n",
    "check_index = 0\n",
    "for value in s:\n",
    "    if bomb[check_index] == value:\n",
    "        check_index += 1\n",
    "        if check_index == bomb_len:\n",
    "            for _ in range(bomb_len - 1):\n",
    "                stack.pop()\n",
    "            if stack:\n",
    "                check_index = stack[-1][1]\n",
    "            else:\n",
    "                check_index = 0\n",
    "            continue\n",
    "    else:\n",
    "        if bomb[0] == value:\n",
    "            check_index = 1\n",
    "        else:\n",
    "            check_index = 0\n",
    "    stack.append((value, check_index))\n",
    "    \n",
    "result = ''.join([v[0] for v in stack])\n",
    "if not result:\n",
    "    print('FRULA')\n",
    "else:\n",
    "    print(result)"
   ]
  },
  {
   "cell_type": "markdown",
   "metadata": {},
   "source": [
    "### 줄서기 17178"
   ]
  },
  {
   "cell_type": "code",
   "execution_count": null,
   "metadata": {},
   "outputs": [],
   "source": []
  }
 ],
 "metadata": {
  "kernelspec": {
   "display_name": "Python 3",
   "language": "python",
   "name": "python3"
  },
  "language_info": {
   "codemirror_mode": {
    "name": "ipython",
    "version": 3
   },
   "file_extension": ".py",
   "mimetype": "text/x-python",
   "name": "python",
   "nbconvert_exporter": "python",
   "pygments_lexer": "ipython3",
   "version": "3.7.3"
  }
 },
 "nbformat": 4,
 "nbformat_minor": 4
}
