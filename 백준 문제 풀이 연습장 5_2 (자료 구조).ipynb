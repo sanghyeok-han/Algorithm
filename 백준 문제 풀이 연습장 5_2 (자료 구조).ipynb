{
 "cells": [
  {
   "cell_type": "markdown",
   "metadata": {},
   "source": [
    "### 외계인의 기타 연주 2841\n",
    "- 스택"
   ]
  },
  {
   "cell_type": "markdown",
   "metadata": {},
   "source": [
    "리스트 안에 1번부터 6번 인덱스까지 스택이 있는 구조로 구현"
   ]
  },
  {
   "cell_type": "code",
   "execution_count": 4,
   "metadata": {},
   "outputs": [
    {
     "name": "stdout",
     "output_type": "stream",
     "text": [
      "7 15\n",
      "1 5\n",
      "2 3\n",
      "2 5\n",
      "2 7\n",
      "2 4\n",
      "1 5\n",
      "1 3\n",
      "9\n"
     ]
    }
   ],
   "source": [
    "import sys\n",
    "input = lambda: sys.stdin.readline().rstrip()\n",
    "\n",
    "n, _ = map(int, input().split())\n",
    "\n",
    "li = [[] for _ in range(7)]\n",
    "count = 0\n",
    "for _ in range(n):\n",
    "    row, p = map(int, input().split())\n",
    "    while True:\n",
    "        if not li[row]:\n",
    "            li[row].append(p)\n",
    "            count += 1\n",
    "            break\n",
    "        if li[row][-1] == p:\n",
    "            break\n",
    "        if li[row][-1] > p:\n",
    "            li[row].pop()\n",
    "            count += 1\n",
    "        else:\n",
    "            li[row].append(p)\n",
    "            count += 1\n",
    "print(count)"
   ]
  },
  {
   "cell_type": "markdown",
   "metadata": {},
   "source": [
    "### 이상한 하노이 탑 15500\n",
    "- 스택"
   ]
  },
  {
   "cell_type": "code",
   "execution_count": 5,
   "metadata": {},
   "outputs": [
    {
     "name": "stdout",
     "output_type": "stream",
     "text": [
      "3\n",
      "2 3 1\n",
      "1 2\n",
      "1 3\n",
      "1 3\n",
      "2 3\n"
     ]
    }
   ],
   "source": [
    "n = int(input())\n",
    "first = list(map(int, input().split()))\n",
    "second = []\n",
    "last = []\n",
    "\n",
    "result = []\n",
    "for i in range(n, 0, -1):\n",
    "    if i in first:\n",
    "        while True:\n",
    "            if first[-1] == i:\n",
    "                last.append(first.pop())\n",
    "                result.append('1 3')\n",
    "                break\n",
    "            second.append(first.pop())\n",
    "            result.append('1 2')\n",
    "    else:\n",
    "        while True:\n",
    "            if second[-1] == i:\n",
    "                last.append(second.pop())\n",
    "                result.append('2 3')\n",
    "                break\n",
    "            first.append(second.pop())\n",
    "            result.append('2 1')   \n",
    "            \n",
    "print(len(result))\n",
    "print('\\n'.join(result))"
   ]
  },
  {
   "cell_type": "markdown",
   "metadata": {},
   "source": [
    "### 후위 표기식2 1935\n",
    "- 스택"
   ]
  },
  {
   "cell_type": "code",
   "execution_count": 29,
   "metadata": {},
   "outputs": [
    {
     "name": "stdout",
     "output_type": "stream",
     "text": [
      "1\n",
      "AA+A+\n",
      "1\n",
      "3.00\n"
     ]
    }
   ],
   "source": [
    "n = int(input())\n",
    "s = input()\n",
    "values = [int(input()) for _ in range(n)]\n",
    "\n",
    "stack = []\n",
    "for v in s:\n",
    "    if 65 <= ord(v) <= 90:\n",
    "        stack.append(values[ord(v) - 65])\n",
    "    else:\n",
    "        b, a = stack.pop(), stack.pop()\n",
    "        stack.append(eval(f'{a}{v}{b}'))\n",
    "        \n",
    "result = stack[-1]\n",
    "print('{:.2f}'.format(result))"
   ]
  },
  {
   "cell_type": "markdown",
   "metadata": {},
   "source": [
    "### 옥상 정원 꾸미기 6198\n",
    "- 스택"
   ]
  },
  {
   "cell_type": "code",
   "execution_count": 34,
   "metadata": {},
   "outputs": [
    {
     "name": "stdout",
     "output_type": "stream",
     "text": [
      "3\n",
      "4\n",
      "3\n",
      "3\n",
      "2\n"
     ]
    }
   ],
   "source": [
    "import sys\n",
    "input = lambda: sys.stdin.readline().rstrip()\n",
    "\n",
    "n = int(input())\n",
    "li = [int(input()) for _ in range(n)]\n",
    "\n",
    "total = 0\n",
    "stack = [(li.pop(), 1)]\n",
    "while li:\n",
    "    count = 0\n",
    "    value = li.pop()\n",
    "    while stack:\n",
    "        if value > stack[-1][0]:\n",
    "            _, fc = stack.pop()\n",
    "            count += fc\n",
    "        else:\n",
    "            break\n",
    "    stack.append((value, count + 1))\n",
    "    total += count\n",
    "    \n",
    "print(total)"
   ]
  },
  {
   "cell_type": "markdown",
   "metadata": {},
   "source": [
    "### 후위 표기식 1918\n",
    "- 스택"
   ]
  },
  {
   "cell_type": "code",
   "execution_count": 42,
   "metadata": {},
   "outputs": [
    {
     "name": "stdout",
     "output_type": "stream",
     "text": [
      "A*(B+C)\n"
     ]
    }
   ],
   "source": [
    "li = list(input())"
   ]
  },
  {
   "cell_type": "code",
   "execution_count": 39,
   "metadata": {},
   "outputs": [
    {
     "data": {
      "text/plain": [
       "['A', '+', 'A', '*', 'B']"
      ]
     },
     "execution_count": 39,
     "metadata": {},
     "output_type": "execute_result"
    }
   ],
   "source": [
    "stack = []\n",
    "for i in range(len(li)):\n",
    "    if li[i] == '*' or li[i] == '/':\n",
    "        "
   ]
  },
  {
   "cell_type": "code",
   "execution_count": 67,
   "metadata": {},
   "outputs": [
    {
     "name": "stdout",
     "output_type": "stream",
     "text": [
      "A*B/(A+B)*(((A+B*C-E+A)/B/A)+A*C-B)+B\n",
      "AB*AB+/ABC*+E-A+B/A/AC*+B-*B+\n"
     ]
    }
   ],
   "source": [
    "import sys\n",
    "# sys.setrecursionlimit(1000000)\n",
    "\n",
    "def recur(s):\n",
    "    result = []\n",
    "    temp = []\n",
    "    stack = []\n",
    "    a = op = ''\n",
    "    for v in s:\n",
    "        if v == '(':\n",
    "            if stack:\n",
    "                temp.append('(')\n",
    "            stack.append(v)\n",
    "            continue\n",
    "        if v == ')':\n",
    "            stack.pop()\n",
    "            if not stack:\n",
    "                to_add = recur(temp[:])\n",
    "                temp = [] \n",
    "                if a:\n",
    "                    result.append(a + to_add + op)\n",
    "                    a = op = '' \n",
    "                else:\n",
    "                    result.append(to_add)\n",
    "            else:\n",
    "                temp.append(')')\n",
    "            continue\n",
    "        if stack:\n",
    "            temp.append(v)\n",
    "        else:\n",
    "            if v == '*' or v == '/':\n",
    "                a = result.pop()\n",
    "                op = v\n",
    "                continue\n",
    "            if a:\n",
    "                result.append(a + v + op)\n",
    "                a = op = ''\n",
    "            else:\n",
    "                result.append(v)\n",
    "    \n",
    "    nresult = []\n",
    "    a = op = ''\n",
    "    for v in result:\n",
    "        if v == '+' or v == '-':\n",
    "            a = nresult.pop()\n",
    "            op = v\n",
    "            continue\n",
    "        if a:\n",
    "            nresult.append(a + v + op)\n",
    "            a = op = ''\n",
    "        else:\n",
    "            nresult.append(v)\n",
    "    return nresult[0]\n",
    "\n",
    "s = input()\n",
    "print(recur(s))"
   ]
  },
  {
   "cell_type": "markdown",
   "metadata": {},
   "source": [
    "### 가희의 수열놀이 (Small) 17162"
   ]
  },
  {
   "cell_type": "code",
   "execution_count": 79,
   "metadata": {},
   "outputs": [
    {
     "name": "stdout",
     "output_type": "stream",
     "text": [
      "6 4\n",
      "1 2\n",
      "1 3\n",
      "3\n",
      "-1\n",
      "1 1\n",
      "1 4\n",
      "3\n",
      "4\n"
     ]
    }
   ],
   "source": [
    "# 시간 초과, 일단 포기\n",
    "import sys\n",
    "# input = lambda: sys.stdin.readline().rstrip()\n",
    "\n",
    "q, mod = map(int, input().split())\n",
    "stack = []\n",
    "counts = [0] * mod\n",
    "recent_possible_index = -1\n",
    "for _ in range(q):\n",
    "    temp = list(map(int, input().split()))\n",
    "    if len(temp) == 1:\n",
    "        if temp[0] == 2:\n",
    "            if stack:\n",
    "                stack.pop()\n",
    "        else:\n",
    "            if recent_possible_index == -1:\n",
    "                print(-1)\n",
    "            else:\n",
    "                print(len(stack) - recent_possible_index)\n",
    "    else:\n",
    "        temp[1] %= mod\n",
    "        counts[temp[1]]\n",
    "        stack.append(temp[1])"
   ]
  },
  {
   "cell_type": "markdown",
   "metadata": {},
   "source": [
    "### 문자열 폭발 9935"
   ]
  },
  {
   "cell_type": "code",
   "execution_count": 109,
   "metadata": {},
   "outputs": [
    {
     "name": "stdout",
     "output_type": "stream",
     "text": [
      "aababaabbbababaababbabfabgf\n",
      "ab\n",
      "fgf\n"
     ]
    }
   ],
   "source": [
    "# 맞았음, 해당하지 않는 값에서 check_index 초기화를 안해주어서 틀렸었음\n",
    "s = input()\n",
    "bomb = input()\n",
    "bomb_len = len(bomb)\n",
    "\n",
    "stack = []\n",
    "check_index = 0\n",
    "for value in s:\n",
    "    if bomb[check_index] == value:\n",
    "        check_index += 1\n",
    "        if check_index == bomb_len:\n",
    "            for _ in range(bomb_len - 1):\n",
    "                stack.pop()\n",
    "            if stack:\n",
    "                check_index = stack[-1][1]\n",
    "            else:\n",
    "                check_index = 0\n",
    "            continue\n",
    "    else:\n",
    "        if bomb[0] == value:\n",
    "            check_index = 1\n",
    "        else:\n",
    "            check_index = 0\n",
    "    stack.append((value, check_index))\n",
    "    \n",
    "result = ''.join([v[0] for v in stack])\n",
    "if not result:\n",
    "    print('FRULA')\n",
    "else:\n",
    "    print(result)"
   ]
  },
  {
   "cell_type": "markdown",
   "metadata": {},
   "source": [
    "### 종이접기 1391"
   ]
  },
  {
   "cell_type": "code",
   "execution_count": 87,
   "metadata": {},
   "outputs": [
    {
     "name": "stdout",
     "output_type": "stream",
     "text": [
      "3\n",
      "1\n",
      "1\n",
      "YES\n",
      "2\n",
      "2 1\n",
      "YES\n",
      "3\n",
      "1 3 2\n",
      "NO\n"
     ]
    }
   ],
   "source": [
    "# 제출용\n",
    "for _ in range(int(input())):\n",
    "    n = int(input())\n",
    "    oli = list(map(int, input().split()))\n",
    "\n",
    "    if sorted(oli) != list(range(1, n + 1)):\n",
    "        print('NO')\n",
    "    else:\n",
    "        li = [0] * (n - 1) + oli + [0] * (n - 1)\n",
    "        \n",
    "        locs = [float('inf')] * (n + 1) # [위치 인덱스]\n",
    "        cri = float('inf')\n",
    "        for i in range(n * 3 - 2):\n",
    "            if li[i] >= 1:\n",
    "                locs[li[i]] = i\n",
    "\n",
    "                if li[i] == 1:\n",
    "                    cri = i\n",
    "\n",
    "        li = [[v] for v in li]\n",
    "        for temp in li:\n",
    "            if temp[0] == 0:\n",
    "                temp.pop()\n",
    "\n",
    "        for to_check in range(1, n):\n",
    "            f, t = locs[to_check], locs[to_check + 1]\n",
    "\n",
    "            diff = t - f\n",
    "            if diff == 0:\n",
    "                continue\n",
    "            if diff % 2 == 0:\n",
    "                break\n",
    "\n",
    "            if diff >= 0:\n",
    "                fsi = t - diff // 2 # folded start index\n",
    "                to_move = -1\n",
    "                for fi in range(fsi, n * 3 - 2):\n",
    "                    if not li[fi]:\n",
    "                        break\n",
    "\n",
    "                    ti = fi + to_move # target index\n",
    "                    while li[fi]:\n",
    "                        temp = li[fi].pop()\n",
    "                        locs[temp] = ti\n",
    "                        li[ti].append(temp)\n",
    "\n",
    "                    to_move -= 2\n",
    "\n",
    "            else:\n",
    "                fsi = t + abs(diff) // 2\n",
    "                to_move = 1\n",
    "                for fi in range(fsi, -1, -1):\n",
    "                    if not li[fi]:\n",
    "                        break\n",
    "\n",
    "                    ti = fi + to_move\n",
    "                    while li[fi]:\n",
    "                        temp = li[fi].pop()\n",
    "                        locs[temp] = ti\n",
    "                        li[ti].append(temp)\n",
    "\n",
    "                    to_move += 2\n",
    "\n",
    "        if li[cri] == list(range(1, n + 1)):\n",
    "            print(\"YES\")\n",
    "        else:\n",
    "            print('NO')"
   ]
  },
  {
   "cell_type": "code",
   "execution_count": null,
   "metadata": {},
   "outputs": [],
   "source": [
    "# 디버깅용\n",
    "n = 1\n",
    "s = '1'\n",
    "\n",
    "def move(f, t):\n",
    "    diff = t - f\n",
    "    \n",
    "    if diff >= 0:\n",
    "        fsi = t - diff // 2 # folded start index\n",
    "        to_move = -1\n",
    "        for fi in range(fsi, n * 3 - 2):\n",
    "            if not li[fi]:\n",
    "                break\n",
    "\n",
    "            ti = fi + to_move # target index\n",
    "            while li[fi]:\n",
    "                temp = li[fi].pop()\n",
    "                locs[temp] = ti\n",
    "                li[ti].append(temp)\n",
    "\n",
    "            to_move -= 2\n",
    "\n",
    "    else:\n",
    "        fsi = t + abs(diff) // 2\n",
    "        to_move = 1\n",
    "        for fi in range(fsi, -1, -1):\n",
    "            if not li[fi]:\n",
    "                break\n",
    "\n",
    "            ti = fi + to_move\n",
    "            while li[fi]:\n",
    "                temp = li[fi].pop()\n",
    "                locs[temp] = ti\n",
    "                li[ti].append(temp)\n",
    "\n",
    "            to_move += 2\n",
    "\n",
    "oli = list(map(int, s.split()))\n",
    "\n",
    "if sorted(oli) != list(range(1, n + 1)):\n",
    "    print('NO')\n",
    "else:\n",
    "    li = [0] * (n - 1) + oli + [0] * (n - 1)\n",
    "\n",
    "    locs = [float('inf')] * (n + 1) # [위치 인덱스]\n",
    "    cri = float('inf')\n",
    "    for i in range(n * 3 - 2):\n",
    "        if li[i] >= 1:\n",
    "            locs[li[i]] = i\n",
    "\n",
    "            if li[i] == 1:\n",
    "                cri = i\n",
    "\n",
    "    li = [[v] for v in li]\n",
    "    for temp in li:\n",
    "        if temp[0] == 0:\n",
    "            temp.pop()\n",
    "\n",
    "    for to_check in range(1, n):\n",
    "        f, t = locs[to_check], locs[to_check + 1]\n",
    "\n",
    "        diff = t - f\n",
    "        if diff == 0:\n",
    "            continue\n",
    "        if diff % 2 == 1:\n",
    "            move(f, t)\n",
    "        else:\n",
    "            if to_check + 2 <= n:\n",
    "                nf = locs[to_check + 2]\n",
    "                \n",
    "                diff = t - nf\n",
    "                if diff == 0:\n",
    "                    continue\n",
    "                \n",
    "            \n",
    "        \n",
    "\n",
    "    if li[cri] == list(range(1, n + 1)):\n",
    "        print(\"YES\")\n",
    "    else:\n",
    "        print('NO')"
   ]
  },
  {
   "cell_type": "markdown",
   "metadata": {},
   "source": [
    "### The Sound of Silence 2433 (다시 풀음)"
   ]
  },
  {
   "cell_type": "code",
   "execution_count": 23,
   "metadata": {},
   "outputs": [
    {
     "name": "stdout",
     "output_type": "stream",
     "text": [
      "7 2 0\n",
      "0 1 1 2 3 2 2\n",
      "2\n",
      "6\n"
     ]
    }
   ],
   "source": [
    "from collections import deque\n",
    "\n",
    "n, m, c = map(int, input().split())\n",
    "li = list(map(int, input().split()))\n",
    "\n",
    "for_max = deque()\n",
    "for_min = deque()\n",
    "result = []\n",
    "for i, v in enumerate(li):\n",
    "    while for_max:\n",
    "        if for_max[0][0] <= i - m:\n",
    "            for_max.popleft()\n",
    "        else:\n",
    "            break\n",
    "            \n",
    "    while for_max:\n",
    "        if for_max[-1][1] <= v:\n",
    "            for_max.pop()\n",
    "        else:\n",
    "            break\n",
    "            \n",
    "    for_max.append((i, v))\n",
    "            \n",
    "    while for_min:\n",
    "        if for_min[0][0] <= i - m:\n",
    "            for_min.popleft()\n",
    "        else:\n",
    "            break\n",
    "            \n",
    "    while for_min:\n",
    "        if for_min[-1][1] >= v:\n",
    "            for_min.pop()\n",
    "        else:\n",
    "            break\n",
    "            \n",
    "    for_min.append((i, v))\n",
    "    \n",
    "    if for_max[0][1] - for_min[0][1] <= c and i >= m - 1:\n",
    "        result.append(i - m + 2)\n",
    "        \n",
    "if not result:\n",
    "    print('NONE')\n",
    "else:\n",
    "    print('\\n'.join(map(str, result)))"
   ]
  },
  {
   "cell_type": "code",
   "execution_count": null,
   "metadata": {},
   "outputs": [],
   "source": [
    "from collections import deque\n",
    "\n",
    "n, m, c = map(int, input().split())\n",
    "li = list(map(int, input().split()))\n",
    "\n",
    "result = []\n",
    "\n",
    "min_deq = deque()\n",
    "max_deq = deque()\n",
    "for i, v in enumerate(li):\n",
    "    while min_deq:\n",
    "        if v <= li[min_deq[-1]]:\n",
    "            min_deq.pop()\n",
    "        else:\n",
    "            break\n",
    "    while max_deq:\n",
    "        if v > li[max_deq[-1]]:\n",
    "            max_deq.pop()\n",
    "        else:\n",
    "            break\n",
    "\n",
    "    while min_deq:\n",
    "        if min_deq[0] <= i - m:\n",
    "            min_deq.popleft()\n",
    "        else:\n",
    "            break\n",
    "\n",
    "    while max_deq:\n",
    "        if max_deq[0] <= i - m:\n",
    "            max_deq.popleft()\n",
    "        else:\n",
    "            break\n",
    "\n",
    "    min_deq.append(i)\n",
    "    max_deq.append(i)\n",
    "\n",
    "    if i >= m - 1:\n",
    "        if min_deq[0] != max_deq[0]:\n",
    "            if li[max_deq[0]] - li[min_deq[0]] <= c:\n",
    "                result.append(i - m + 2)\n",
    "\n",
    "if result:                \n",
    "    print('\\n'.join(map(str, result)))\n",
    "else:\n",
    "    print('NONE')"
   ]
  },
  {
   "cell_type": "markdown",
   "metadata": {},
   "source": [
    "### Running Away From the Barn 5862"
   ]
  },
  {
   "cell_type": "code",
   "execution_count": null,
   "metadata": {},
   "outputs": [],
   "source": [
    "from heapq import heappush, heappop\n",
    "import sys\n",
    "sys.setrecursionlimit(210000)\n",
    "input = lambda: sys.stdin.readline().rstrip()\n",
    "\n",
    "def find(v):\n",
    "    if v == parent[v]:\n",
    "        return v\n",
    "    parent[v] = find(parent[v])\n",
    "    return parent[v]\n",
    "\n",
    "def union(a, b):\n",
    "    if len(heaps[a]) > len(heaps[b]):\n",
    "        parent[b] = a\n",
    "        while heaps[b]:\n",
    "            heappush(heaps[a], -(-heappop(heaps[b]) + to_adds[b] - to_adds[a]))\n",
    "    else:\n",
    "        parent[a] = b\n",
    "        while heaps[a]:\n",
    "            heappush(heaps[b], -(-heappop(heaps[a]) + to_adds[a] - to_adds[b]))\n",
    "\n",
    "def dfs(value):\n",
    "    for v, d in li[value]:\n",
    "        dfs(v)\n",
    "        rvalue = find(value)\n",
    "        rv = find(v)\n",
    "        to_adds[rv] += d\n",
    "        union(rvalue, rv)\n",
    "        \n",
    "    rvalue = find(value)\n",
    "    while heaps[rvalue]:\n",
    "        if -heaps[rvalue][0] + to_adds[rvalue] > l:\n",
    "            heappop(heaps[rvalue])\n",
    "        else:\n",
    "            break\n",
    "            \n",
    "    r[value] = len(heaps[rvalue])\n",
    "\n",
    "n, l = map(int, input().split())\n",
    "li = [[] for _ in range(n + 1)]\n",
    "heaps = [[0] for i in range(n + 1)]\n",
    "to_adds = [0] * (n + 1)\n",
    "for i in range(n - 1):\n",
    "    num = i + 2\n",
    "    a, b = map(int, input().split())\n",
    "    li[a].append((num, b))\n",
    "    \n",
    "parent = list(range(n + 1))\n",
    "r = [0] * (n + 1)\n",
    "dfs(1)\n",
    "\n",
    "for i in range(1, n + 1):\n",
    "    print(r[i])"
   ]
  },
  {
   "cell_type": "markdown",
   "metadata": {},
   "source": [
    "### 히스토그램에서 가장 큰 직사각형 6549 (다시 풀음)"
   ]
  },
  {
   "cell_type": "code",
   "execution_count": 8,
   "metadata": {},
   "outputs": [
    {
     "name": "stdout",
     "output_type": "stream",
     "text": [
      "4 1000 1000 1000 1000\n"
     ]
    }
   ],
   "source": [
    "n, *li = list(map(int, input().split())) + [-1]"
   ]
  },
  {
   "cell_type": "code",
   "execution_count": 9,
   "metadata": {},
   "outputs": [
    {
     "name": "stdout",
     "output_type": "stream",
     "text": [
      "4000\n"
     ]
    }
   ],
   "source": [
    "import sys\n",
    "input = lambda: sys.stdin.readline().rstrip()\n",
    "\n",
    "while True:\n",
    "    n, *li = list(map(int, input().split())) + [-1]\n",
    "    if n == 0:\n",
    "        break\n",
    "\n",
    "    max_r = 0\n",
    "    stack = [[li[0], 1]]\n",
    "    for i in range(1, n + 1):\n",
    "        w = 0\n",
    "        while stack and stack[-1][0] >= li[i]:\n",
    "            fv, fw = stack.pop()\n",
    "\n",
    "            w += fw\n",
    "            max_r = max(max_r, fv * w)\n",
    "\n",
    "        stack.append([li[i], w + 1])\n",
    "\n",
    "    print(max_r)"
   ]
  },
  {
   "cell_type": "markdown",
   "metadata": {},
   "source": [
    "### 최대 직사각형 11873"
   ]
  },
  {
   "cell_type": "code",
   "execution_count": null,
   "metadata": {},
   "outputs": [],
   "source": [
    "import sys\n",
    "input = lambda: sys.stdin.readline().rstrip()\n",
    "\n",
    "while True:\n",
    "    n, m = map(int, input().split())\n",
    "    if n == 0 and m == 0:\n",
    "        break\n",
    "        \n",
    "    li = [list(map(int, input().split())) for _ in range(n)]\n",
    "\n",
    "    prefix = [[0] * (m + 1) for _ in range(n)]\n",
    "    for j in range(m):\n",
    "        cumul = 0\n",
    "        for i in range(n):\n",
    "            if li[i][j] == 1:\n",
    "                cumul += 1\n",
    "            else:\n",
    "                cumul = 0\n",
    "            prefix[i][j] = cumul\n",
    "\n",
    "    max_r = 0\n",
    "    for row in range(n):\n",
    "        prefix[row][m] = -1\n",
    "        stack = [[prefix[row][0], 1]]\n",
    "        for j in range(1, m + 1):\n",
    "            v = prefix[row][j]\n",
    "            w = 0\n",
    "            while stack and stack[-1][0] >= v:\n",
    "                fv, fw = stack.pop()\n",
    "\n",
    "                w += fw\n",
    "                max_r = max(max_r, fv * w)\n",
    "\n",
    "            stack.append([v, w + 1])\n",
    "\n",
    "    print(max_r)"
   ]
  },
  {
   "cell_type": "markdown",
   "metadata": {},
   "source": [
    "### 곰곰이와 자판기 25200"
   ]
  },
  {
   "cell_type": "code",
   "execution_count": 6,
   "metadata": {},
   "outputs": [
    {
     "name": "stdout",
     "output_type": "stream",
     "text": [
      "5 4\n",
      "1 3\n",
      "3 2\n",
      "4 3\n",
      "2 4\n",
      "4 4 4 3 5 "
     ]
    },
    {
     "data": {
      "text/plain": [
       "[None, None, None, None, None]"
      ]
     },
     "execution_count": 6,
     "metadata": {},
     "output_type": "execute_result"
    }
   ],
   "source": [
    "import sys\n",
    "input = lambda: sys.stdin.readline().rstrip()\n",
    "\n",
    "n, m = map(int, input().split())\n",
    "li = [list(map(int, input().split())) for _ in range(m)]\n",
    "\n",
    "rep = [[i] for i in range(n + 1)] # represent\n",
    "for i in range(m - 1, -1, -1):\n",
    "    x = li[i][0]\n",
    "    y = li[i][1]\n",
    "    \n",
    "    rep[x] = rep[y]\n",
    "        \n",
    "[print(v[0], end=' ') for v in rep[1:]]"
   ]
  }
 ],
 "metadata": {
  "kernelspec": {
   "display_name": "Python 3",
   "language": "python",
   "name": "python3"
  },
  "language_info": {
   "codemirror_mode": {
    "name": "ipython",
    "version": 3
   },
   "file_extension": ".py",
   "mimetype": "text/x-python",
   "name": "python",
   "nbconvert_exporter": "python",
   "pygments_lexer": "ipython3",
   "version": "3.7.4"
  }
 },
 "nbformat": 4,
 "nbformat_minor": 4
}
