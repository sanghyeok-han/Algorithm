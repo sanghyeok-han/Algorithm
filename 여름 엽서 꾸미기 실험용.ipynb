{
 "cells": [
  {
   "cell_type": "code",
   "execution_count": null,
   "metadata": {},
   "outputs": [],
   "source": [
    "아직 기여 안된 풀 대상 문제들\n",
    "https://www.acmicpc.net/problem/7426\n",
    "https://www.acmicpc.net/problem/19720\n",
    "https://www.acmicpc.net/problem/7465\n",
    "https://www.acmicpc.net/problem/3706\n",
    "https://www.acmicpc.net/problem/22591\n",
    "https://www.acmicpc.net/problem/22382\n",
    "21381\n",
    "21384\n",
    "21385\n",
    "https://www.acmicpc.net/problem/24925\n",
    "    \n",
    "https://www.acmicpc.net/problem/3958"
   ]
  },
  {
   "cell_type": "code",
   "execution_count": 10,
   "metadata": {},
   "outputs": [
    {
     "name": "stdout",
     "output_type": "stream",
     "text": [
      "20\n"
     ]
    }
   ],
   "source": [
    "sys.setrecursionlimit(210000)\n",
    "\n",
    "def dfs(value, d):\n",
    "    global tm\n",
    "    global total\n",
    "    \n",
    "    vt[value] = True\n",
    "    total += tm * d\n",
    "    tm += 1\n",
    "    \n",
    "    for v in li[value]:\n",
    "        if not vt[v]:\n",
    "            dfs(v, d + 1)\n",
    "\n",
    "n, m, r = map(int, input().split())\n",
    "\n",
    "li = [[] for _ in range(n + 1)]\n",
    "for _ in range(m):\n",
    "    u, v = map(int, input().split())\n",
    "    \n",
    "    li[u].append(v)\n",
    "    li[v].append(u)\n",
    "    \n",
    "for i in range(1, n + 1):\n",
    "    li[i].sort()\n",
    "    \n",
    "total = 0\n",
    "tm = 1\n",
    "vt = [False] * (n + 1)\n",
    "dfs(r, 0)\n",
    "\n",
    "print(total)"
   ]
  },
  {
   "cell_type": "code",
   "execution_count": 18,
   "metadata": {},
   "outputs": [
    {
     "name": "stdout",
     "output_type": "stream",
     "text": [
      "3\n",
      "255 0 0\n",
      "0 255 0\n",
      "0 0 255\n",
      "64 64 64\n",
      "63\n"
     ]
    }
   ],
   "source": [
    "from itertools import combinations as comb\n",
    "\n",
    "def get_dist(a, b):\n",
    "    dist = 0\n",
    "    for j in range(3):\n",
    "        dist += abs(a[j] - b[j])\n",
    "    return dist\n",
    "\n",
    "n = int(input())\n",
    "li = [list(map(int, input().split())) for _ in range(n)]\n",
    "target = list(map(int, input().split()))\n",
    "\n",
    "min_r = float('inf')\n",
    "for num in range(2, min(7, n) + 1):\n",
    "    for case in comb(li, num):\n",
    "        temp = [0, 0, 0]\n",
    "        for i in range(num):\n",
    "            for j in range(3):      \n",
    "                temp[j] += case[i][j]\n",
    "        for j in range(3):\n",
    "            temp[j] //= num\n",
    "            \n",
    "        dist = get_dist(target, temp)\n",
    "        min_r = min(min_r, dist)\n",
    "        \n",
    "print(min_r)"
   ]
  },
  {
   "cell_type": "code",
   "execution_count": 16,
   "metadata": {},
   "outputs": [
    {
     "name": "stdout",
     "output_type": "stream",
     "text": [
      "30 5\n",
      "142506\n"
     ]
    }
   ],
   "source": [
    "def nCr(n, r):\n",
    "    if n - r < r:\n",
    "        r = n - r\n",
    "        \n",
    "    num = 1\n",
    "    for i in range(n, n - r, -1):\n",
    "        num *= i\n",
    "    \n",
    "    denom = 1\n",
    "    for i in range(2, r + 1):\n",
    "        denom *= i\n",
    "        \n",
    "    return num // denom\n",
    "\n",
    "\n",
    "n, k = map(int, input().split())\n",
    "r = nCr(n, k)\n",
    "\n",
    "print(r)"
   ]
  },
  {
   "cell_type": "markdown",
   "metadata": {},
   "source": [
    "물수제비 (SUJEBI)"
   ]
  },
  {
   "cell_type": "code",
   "execution_count": 22,
   "metadata": {},
   "outputs": [
    {
     "name": "stdout",
     "output_type": "stream",
     "text": [
      "6\n",
      "2 -5 4 -4 6 2\n",
      "3 6\n"
     ]
    }
   ],
   "source": [
    "n = int(input())\n",
    "li = list(map(int, input().split()))\n",
    "\n",
    "max_sv = 0\n",
    "max_sv_d = -1\n",
    "for d in range(n, 0, -1):\n",
    "    sv = 0\n",
    "    for i in range(d - 1, n, d):\n",
    "        sv += li[i]\n",
    "        \n",
    "    if sv >= max_sv:\n",
    "        max_sv = sv\n",
    "        max_sv_d = d\n",
    "        \n",
    "if max_sv == 0:\n",
    "    print(0, 0)\n",
    "else:\n",
    "    print(max_sv_d, max_sv)"
   ]
  },
  {
   "cell_type": "markdown",
   "metadata": {},
   "source": [
    "제국 10776"
   ]
  },
  {
   "cell_type": "code",
   "execution_count": null,
   "metadata": {},
   "outputs": [],
   "source": [
    "from collections import deque\n",
    "import sys\n",
    "input = lambda: sys.stdin.readline().rstrip()\n",
    "\n",
    "inf = float('inf')\n",
    "\n",
    "k, n, m = map(int, input().split())\n",
    "\n",
    "li = [[] for _ in range(n + 1)]\n",
    "for _ in range(m):\n",
    "    a, b, t, h = map(int, input().split())\n",
    "    li[a].append((b, t, h))\n",
    "    li[b].append((a, t, h))\n",
    "    \n",
    "a, b = map(int, input().split())\n",
    "\n",
    "dp = [[inf] * k for _ in range(n + 1)]\n",
    "dp[a][0] = 0\n",
    "\n",
    "queue = deque()\n",
    "queue.append((a, 0, 0)) # start, tm, damaged \n",
    "while queue:\n",
    "    value, tm, dam = queue.popleft()\n",
    "    if tm > dp[value][dam]:\n",
    "        continue\n",
    "    \n",
    "    for v, added_tm, added_dam in li[value]:\n",
    "        ndam = dam + added_dam\n",
    "        ntm = tm + added_tm\n",
    "        if dam + added_dam >= k:\n",
    "            continue\n",
    "        if ntm < dp[v][ndam]:\n",
    "            dp[v][ndam] = ntm\n",
    "            queue.append((v, ntm, ndam))\n",
    "    \n",
    "min_r = inf\n",
    "for dam in range(k):\n",
    "    min_r = min(min_r, dp[b][dam])\n",
    "        \n",
    "if min_r == inf:\n",
    "    print(-1)\n",
    "else:\n",
    "    print(min_r)"
   ]
  },
  {
   "cell_type": "code",
   "execution_count": 25,
   "metadata": {},
   "outputs": [
    {
     "data": {
      "text/plain": [
       "1158"
      ]
     },
     "execution_count": 25,
     "metadata": {},
     "output_type": "execute_result"
    }
   ],
   "source": [
    "197 + 210 + 201 + 201 + 349"
   ]
  },
  {
   "cell_type": "markdown",
   "metadata": {},
   "source": [
    "## 기여 안된 문제들"
   ]
  },
  {
   "cell_type": "markdown",
   "metadata": {},
   "source": [
    "### Shuffles 11232"
   ]
  },
  {
   "cell_type": "code",
   "execution_count": null,
   "metadata": {},
   "outputs": [],
   "source": [
    "n = int(input())\n",
    "s = input()\n",
    "\n"
   ]
  },
  {
   "cell_type": "code",
   "execution_count": null,
   "metadata": {},
   "outputs": [],
   "source": [
    "1 2 3 4 5 6 7 8\n",
    "\n",
    "\n",
    "2 1 4 3 6 5 8 7"
   ]
  },
  {
   "cell_type": "markdown",
   "metadata": {},
   "source": [
    "### Evaluation (Small) 14310"
   ]
  },
  {
   "cell_type": "code",
   "execution_count": null,
   "metadata": {},
   "outputs": [],
   "source": [
    "from copy import deepcopy\n",
    "import sys\n",
    "input = lambda: sys.stdin.readline().rstrip()\n",
    "\n",
    "for tn in range(int(input())):\n",
    "    n = int(input())\n",
    "    li = []\n",
    "    for _ in range(n):\n",
    "        temp = input().split('=')\n",
    "        assi = temp[0]\n",
    "\n",
    "        start = temp[1].find('(')\n",
    "        end = temp[1].find(')')\n",
    "\n",
    "        varis = temp[1][start + 1:end]\n",
    "        varis = varis.split(',')\n",
    "\n",
    "        li.append((assi, varis))\n",
    "\n",
    "    vt_assi = set()\n",
    "    nli = []\n",
    "    for assi, varis in li:\n",
    "        if varis[0] == '':\n",
    "             vt_assi.add(assi)\n",
    "        else:\n",
    "            nli.append((assi, varis))\n",
    "\n",
    "    result = False\n",
    "    while True:\n",
    "        li = deepcopy(nli)\n",
    "        nli = []\n",
    "        is_ch = False\n",
    "\n",
    "        for assi, varis in li:\n",
    "            ip = True\n",
    "            for var in varis:\n",
    "                if var not in vt_assi:\n",
    "                    ip = False\n",
    "                    break\n",
    "            if ip:\n",
    "                vt_assi.add(assi)\n",
    "                is_ch = True\n",
    "            else:\n",
    "                nli.append((assi, varis))\n",
    "\n",
    "        if not nli:\n",
    "            result = 'GOOD'\n",
    "            break\n",
    "        if not is_ch:\n",
    "            result = 'BAD'\n",
    "            break\n",
    "\n",
    "    print(f'Case #{tn + 1}: {result}')"
   ]
  },
  {
   "cell_type": "code",
   "execution_count": null,
   "metadata": {},
   "outputs": [],
   "source": [
    "from copy import deepcopy\n",
    "import sys\n",
    "input = lambda: sys.stdin.readline().rstrip()\n",
    "\n",
    "for tn in range(int(input())):\n",
    "    n = int(input())\n",
    "    li = []\n",
    "    for _ in range(n):\n",
    "        temp = input().split('=')\n",
    "        assi = temp[0]\n",
    "\n",
    "        start = temp[1].find('(')\n",
    "        end = temp[1].find(')')\n",
    "\n",
    "        varis = temp[1][start + 1:end]\n",
    "        varis = varis.split(',')\n",
    "\n",
    "        li.append((assi, varis))\n",
    "\n",
    "    vt_assi = set()\n",
    "    nli = []\n",
    "    for assi, varis in li:\n",
    "        if varis[0] == '':\n",
    "             vt_assi.add(assi)\n",
    "        else:\n",
    "            nli.append((assi, varis))\n",
    "\n",
    "    result = False\n",
    "    while True:\n",
    "        li = deepcopy(nli)\n",
    "        nli = []\n",
    "        is_ch = False\n",
    "\n",
    "        for assi, varis in li:\n",
    "            ip = True\n",
    "            for var in varis:\n",
    "                if var not in vt_assi:\n",
    "                    ip = False\n",
    "                    break\n",
    "            if ip:\n",
    "                vt_assi.add(assi)\n",
    "                is_ch = True\n",
    "            else:\n",
    "                nli.append((assi, varis))\n",
    "\n",
    "        if not nli:\n",
    "            result = 'GOOD'\n",
    "            break\n",
    "        if not is_ch:\n",
    "            result = 'BAD'\n",
    "            break\n",
    "\n",
    "    print(f'Case #{tn + 1}: {result}')"
   ]
  },
  {
   "cell_type": "markdown",
   "metadata": {},
   "source": [
    "### Removing Pairs 23414"
   ]
  },
  {
   "cell_type": "code",
   "execution_count": 21,
   "metadata": {},
   "outputs": [
    {
     "name": "stdout",
     "output_type": "stream",
     "text": [
      "w\n",
      "uwwuu\n",
      "YES\n"
     ]
    }
   ],
   "source": [
    "s = input()\n",
    "t = input()\n",
    "\n",
    "s_len = len(s)\n",
    "t_len = len(t)\n",
    "\n",
    "ti = 0\n",
    "si = 0\n",
    "ip = False\n",
    "while True:\n",
    "    if s[si] == t[ti]:\n",
    "        si += 1\n",
    "        ti += 1\n",
    "    else:\n",
    "        ti += 2\n",
    "\n",
    "    if si == s_len:\n",
    "        if (t_len - ti) % 2 == 1:\n",
    "            ip = False\n",
    "        else:\n",
    "            ip = True\n",
    "        break\n",
    "    if ti >= t_len:\n",
    "        break\n",
    "        \n",
    "if ip:\n",
    "    print('YES')\n",
    "else:\n",
    "    print('NO')"
   ]
  },
  {
   "cell_type": "markdown",
   "metadata": {},
   "source": [
    "### Boxes on a Shelf 23415"
   ]
  },
  {
   "cell_type": "code",
   "execution_count": 128,
   "metadata": {},
   "outputs": [
    {
     "name": "stdout",
     "output_type": "stream",
     "text": [
      "2\n",
      "10 10\n",
      "10 10\n",
      "1\n",
      "0\n"
     ]
    }
   ],
   "source": [
    "import sys\n",
    "# input = lambda: sys.stdin.readline().rstrip()\n",
    "\n",
    "n = int(input())\n",
    "if n == 1:\n",
    "    print(1)\n",
    "else:\n",
    "    li = []\n",
    "    for _ in range(n):\n",
    "        a, b = map(int, input().split())\n",
    "\n",
    "        li.append(min(a, b))\n",
    "\n",
    "    l = int(input())\n",
    "    \n",
    "    li.sort()\n",
    "    cur = 0\n",
    "    for i in range(n - 1):\n",
    "        temp = li[i] // 2 + 1 + li[i + 1] // 2 + 1\n",
    "        if temp <= l:\n",
    "            cur = i + 2\n",
    "            l -= li[i]\n",
    "        else:\n",
    "            if i - 1 >= 0:\n",
    "                saved = li[i - 1] - (li[i - 1] // 2 + 1)\n",
    "                l += saved\n",
    "            if li[i] // 2 + 1 <= l:\n",
    "                cur = i + 1\n",
    "            break\n",
    "            \n",
    "    print(max(1, cur))"
   ]
  },
  {
   "cell_type": "code",
   "execution_count": 133,
   "metadata": {},
   "outputs": [
    {
     "name": "stdout",
     "output_type": "stream",
     "text": [
      "3\n",
      "1 1\n",
      "1 1\n",
      "1 1\n",
      "2\n",
      "2\n"
     ]
    }
   ],
   "source": [
    "import sys\n",
    "input = lambda: sys.stdin.readline().rstrip()\n",
    "\n",
    "n = int(input())\n",
    "\n",
    "li = []\n",
    "for _ in range(n):\n",
    "    a, b = map(int, input().split())\n",
    "    li.append(min(a, b))\n",
    "\n",
    "l = int(input())\n",
    "\n",
    "li.sort()\n",
    "cur_l = l\n",
    "r = -1\n",
    "for i in range(n):\n",
    "    to_check_l = cur_l\n",
    "    if i - 1 >= 0:\n",
    "        saved = li[i - 1] - (li[i - 1] // 2 + 1)\n",
    "        to_check_l += saved\n",
    "        \n",
    "    needed = li[i] // 2 + 1\n",
    "    if needed <= to_check_l:\n",
    "        cur_l -= li[i]\n",
    "        r = i + 1\n",
    "        if cur_l <= 0:\n",
    "            break\n",
    "    else:\n",
    "        break\n",
    "        \n",
    "r = max(r, 1)\n",
    "\n",
    "print(r)"
   ]
  },
  {
   "cell_type": "markdown",
   "metadata": {},
   "source": [
    "### Pairing Socks 17891"
   ]
  },
  {
   "cell_type": "code",
   "execution_count": 61,
   "metadata": {},
   "outputs": [
    {
     "name": "stdout",
     "output_type": "stream",
     "text": [
      "3\n",
      "5 5 5 5 5 5\n",
      "6\n"
     ]
    }
   ],
   "source": [
    "n = int(input())\n",
    "stack1 = list(map(int, input().split()))\n",
    "\n",
    "stack1.reverse()\n",
    "stack2 = []\n",
    "\n",
    "total = 0\n",
    "ip = False\n",
    "while stack1:\n",
    "    total += 1\n",
    "    if not stack2 or stack1[-1] != stack2[-1]:\n",
    "        stack2.append(stack1.pop())\n",
    "    else:\n",
    "        stack1.pop()\n",
    "        stack2.pop()\n",
    "        \n",
    "    if not stack1 and not stack2:\n",
    "        ip = True\n",
    "        break\n",
    "        \n",
    "if ip:\n",
    "    print(total)\n",
    "else:\n",
    "    print('impossible')"
   ]
  },
  {
   "cell_type": "markdown",
   "metadata": {},
   "source": [
    "https://www.acmicpc.net/problem/18582"
   ]
  },
  {
   "cell_type": "code",
   "execution_count": 78,
   "metadata": {},
   "outputs": [
    {
     "name": "stdout",
     "output_type": "stream",
     "text": [
      "4\n",
      "0\n"
     ]
    }
   ],
   "source": [
    "cri = 1e10\n",
    "\n",
    "num = 1\n",
    "st = set()\n",
    "while True:\n",
    "    num_s = num ** 2\n",
    "    \n",
    "    if num_s > cri:\n",
    "        break\n",
    "    st.add(num_s)\n",
    "    num += 1\n",
    "\n",
    "k = int(input())\n",
    "    \n",
    "r = set()\n",
    "for v in st:\n",
    "    if abs(v - k) in st:\n",
    "        r.add(v - k)\n",
    "        \n",
    "if not r:\n",
    "    print(0)\n",
    "else:\n",
    "    print(len(r))\n",
    "    print(*sorted(r))"
   ]
  },
  {
   "cell_type": "code",
   "execution_count": 81,
   "metadata": {},
   "outputs": [
    {
     "data": {
      "text/plain": [
       "199999"
      ]
     },
     "execution_count": 81,
     "metadata": {},
     "output_type": "execute_result"
    }
   ],
   "source": [
    "sss = sorted(st)\n",
    "sss[-1] - sss[-2]"
   ]
  },
  {
   "cell_type": "code",
   "execution_count": 84,
   "metadata": {},
   "outputs": [],
   "source": [
    "diff = []\n",
    "for i in range(len(sss) - 1):\n",
    "    diff.append(sss[i + 1] - sss[i])"
   ]
  },
  {
   "cell_type": "code",
   "execution_count": null,
   "metadata": {},
   "outputs": [],
   "source": [
    "1, 4, 9, 16, 25"
   ]
  },
  {
   "cell_type": "code",
   "execution_count": null,
   "metadata": {},
   "outputs": [],
   "source": [
    "a + k == resulting_sum\n",
    "a == resulting_sum - k"
   ]
  },
  {
   "cell_type": "code",
   "execution_count": 68,
   "metadata": {},
   "outputs": [
    {
     "data": {
      "text/plain": [
       "4"
      ]
     },
     "execution_count": 68,
     "metadata": {},
     "output_type": "execute_result"
    }
   ],
   "source": [
    "from math import gcd\n",
    "\n",
    "gcd(-4, -8)"
   ]
  },
  {
   "cell_type": "markdown",
   "metadata": {},
   "source": [
    "https://www.acmicpc.net/problem/19720"
   ]
  },
  {
   "cell_type": "code",
   "execution_count": null,
   "metadata": {},
   "outputs": [],
   "source": [
    "def find(v):\n",
    "    if v != parent[v]:\n",
    "        parent[v] = find(parent[v])\n",
    "        \n",
    "    return parent[v]\n",
    "\n",
    "def union(a, b):\n",
    "    if a > b:\n",
    "        a, b = b, a\n",
    "        parent[b] = a\n",
    "\n",
    "n, m, k = map(int, input().split())\n",
    "\n",
    "fr = [list(map(int, input().split())) for _ in range(m)]\n",
    "\n",
    "parent = list(range(n + 1))\n",
    "for _ in range(k):\n",
    "    a, b = map(int, input().split())\n",
    "    \n",
    "    ra = find(a)\n",
    "    rb = find(b)\n",
    "    union(ra, rb)\n",
    "\n",
    "fnums = [0] * (n + 1)\n",
    "for a, b in fr:\n",
    "    ra = find(a) \n",
    "    rb = find(b)\n",
    "    \n",
    "    if ra == rb:\n",
    "        fnums[a] += 1\n",
    "        fnums[b] += 1\n",
    "        \n",
    "q = int(input())\n",
    "for _ in range(q):\n",
    "    qu = input().split()\n",
    "    \n",
    "    tp = qu[0]\n",
    "    if tp == '?':\n",
    "        v = int(qu[1])\n",
    "        print(fnums[v])\n",
    "    elif tp == 'F':\n",
    "        a = int(qu[1])\n",
    "        b = int(qu[2])\n",
    "        \n",
    "        ra = find(a)\n",
    "        rb = find(b)\n",
    "        if ra == rb:\n",
    "            fnums[a] += 1\n",
    "            fnums[b] += 1\n",
    "    else:\n",
    "        a = int(qu[1])\n",
    "        b = int(qu[2])\n",
    "        \n",
    "        "
   ]
  },
  {
   "cell_type": "markdown",
   "metadata": {},
   "source": [
    "https://www.acmicpc.net/problem/22245"
   ]
  },
  {
   "cell_type": "code",
   "execution_count": 89,
   "metadata": {},
   "outputs": [
    {
     "name": "stdout",
     "output_type": "stream",
     "text": [
      "4\n",
      "2 1\n",
      "2 2\n",
      "2 3\n",
      "2 4\n",
      "3\n"
     ]
    }
   ],
   "source": [
    "import sys\n",
    "# input = lambda: sys.stdin.readline().rstrip()\n",
    "\n",
    "inf = float('inf')\n",
    "\n",
    "n = int(input())\n",
    "li = [list(map(int, input().split())) for _ in range(n)]\n",
    "\n",
    "li.sort(key=lambda x: -x[1])\n",
    "total = 0\n",
    "starts = [inf]\n",
    "for l, p in li:\n",
    "    if p <= starts[-1]:   \n",
    "        if p + l <= starts[-1]:\n",
    "            total += 1\n",
    "            starts.append(p)\n",
    "        else:\n",
    "            lacks = p + l - starts[-1]\n",
    "            total += 1\n",
    "            starts.append(p - lacks)\n",
    "    else:\n",
    "        if p + l <= starts[-2]:\n",
    "            starts[-1] = p\n",
    "        else:\n",
    "            lacks = p + l - starts[-2]\n",
    "            starts[-1] = max(starts[-1], p - lacks)\n",
    "                \n",
    "print(total)"
   ]
  },
  {
   "cell_type": "markdown",
   "metadata": {},
   "source": [
    "https://www.acmicpc.net/problem/7465"
   ]
  },
  {
   "cell_type": "code",
   "execution_count": 111,
   "metadata": {},
   "outputs": [
    {
     "name": "stdout",
     "output_type": "stream",
     "text": [
      "2030\n",
      "2\n",
      "4  21 22 23 24 \n",
      "3  25 26 27 \n"
     ]
    }
   ],
   "source": [
    "n = int(input())\n",
    "\n",
    "start = 1\n",
    "end = 1\n",
    "cur = 1\n",
    "r = []\n",
    "while start <= end:\n",
    "    if cur < n:\n",
    "        end += 1\n",
    "        cur += end ** 2\n",
    "    elif cur > n:\n",
    "        cur -= start ** 2\n",
    "        start += 1\n",
    "        if start > end:\n",
    "            break\n",
    "    else:\n",
    "        r.append([start, end + 1])\n",
    "        end += 1\n",
    "        cur += end ** 2\n",
    "\n",
    "print(len(r))\n",
    "for s, e in r:\n",
    "    print(e - s, end='  ')\n",
    "    for num in range(s, e):\n",
    "        print(num, end=' ')\n",
    "    print()"
   ]
  },
  {
   "cell_type": "markdown",
   "metadata": {},
   "source": [
    "https://www.acmicpc.net/problem/3706"
   ]
  },
  {
   "cell_type": "code",
   "execution_count": 112,
   "metadata": {},
   "outputs": [
    {
     "name": "stdout",
     "output_type": "stream",
     "text": [
      "1\n",
      "QWERTYUIOPASDFGHJKLZXCVBNM\n"
     ]
    }
   ],
   "source": [
    "n = int(input())\n",
    "s = input()"
   ]
  },
  {
   "cell_type": "code",
   "execution_count": 114,
   "metadata": {},
   "outputs": [
    {
     "data": {
      "text/plain": [
       "26"
      ]
     },
     "execution_count": 114,
     "metadata": {},
     "output_type": "execute_result"
    }
   ],
   "source": [
    "len(set(s))"
   ]
  },
  {
   "cell_type": "markdown",
   "metadata": {},
   "source": [
    "https://www.acmicpc.net/problem/22178"
   ]
  },
  {
   "cell_type": "code",
   "execution_count": 118,
   "metadata": {},
   "outputs": [
    {
     "name": "stdout",
     "output_type": "stream",
     "text": [
      "13\n"
     ]
    }
   ],
   "source": [
    "m, n = map(int, input().split())\n",
    "li = [input() for _ in range(n)]\n",
    "\n",
    "total = 0\n",
    "for i in range(n):\n",
    "    for j in range(m - 1):\n",
    "        if li[i][j] != li[i][j + 1]:\n",
    "            total += 1\n",
    "            \n",
    "for i in range(n - 1):\n",
    "    for j in range(m):\n",
    "        if li[i][j] != li[i + 1][j]:\n",
    "            total += 1        \n",
    "            \n",
    "print(total)"
   ]
  },
  {
   "cell_type": "markdown",
   "metadata": {},
   "source": [
    "https://www.acmicpc.net/problem/22733"
   ]
  },
  {
   "cell_type": "code",
   "execution_count": null,
   "metadata": {},
   "outputs": [],
   "source": [
    "import sys\n",
    "# input = lambda: sys.stdin.readline().rstrip()\n",
    "\n",
    "while True:\n",
    "    n = int(input())\n",
    "    if n == 0:\n",
    "        break\n",
    "    \n",
    "    cur = 1\n",
    "    while True:\n",
    "        cur_s = cur ** 2\n",
    "        if cur_s <= n:\n",
    "            print(cur_s)\n",
    "        else:\n",
    "            break\n",
    "        cur += 1\n",
    "        \n",
    "    print()"
   ]
  },
  {
   "cell_type": "markdown",
   "metadata": {},
   "source": [
    "https://www.acmicpc.net/problem/12293"
   ]
  },
  {
   "cell_type": "code",
   "execution_count": null,
   "metadata": {},
   "outputs": [],
   "source": [
    "n = int(input())\n",
    "li = list(map(int, input().split()))\n"
   ]
  },
  {
   "cell_type": "code",
   "execution_count": 136,
   "metadata": {},
   "outputs": [
    {
     "data": {
      "text/plain": [
       "0.6666666666666666"
      ]
     },
     "execution_count": 136,
     "metadata": {},
     "output_type": "execute_result"
    }
   ],
   "source": [
    "(11 - 9) / 3"
   ]
  },
  {
   "cell_type": "markdown",
   "metadata": {},
   "source": [
    "https://www.acmicpc.net/problem/12439"
   ]
  },
  {
   "cell_type": "code",
   "execution_count": 140,
   "metadata": {},
   "outputs": [
    {
     "data": {
      "text/plain": [
       "20"
      ]
     },
     "execution_count": 140,
     "metadata": {},
     "output_type": "execute_result"
    }
   ],
   "source": [
    "len('???????????? - ? = ?')"
   ]
  },
  {
   "cell_type": "markdown",
   "metadata": {},
   "source": [
    "https://www.acmicpc.net/problem/25039"
   ]
  },
  {
   "cell_type": "code",
   "execution_count": null,
   "metadata": {},
   "outputs": [],
   "source": [
    "from copy import deepcopy\n",
    "import sys\n",
    "input = lambda: sys.stdin.readline().rstrip()\n",
    "\n",
    "n = int(input())\n",
    "\n",
    "li = []\n",
    "for num in range(n):\n",
    "    name, *sc = input().split()\n",
    "    sc = sum(map(int, sc))\n",
    "    \n",
    "    li.append([sc, name, num])\n",
    "\n",
    "nli = deepcopy(li)\n",
    "nli.sort(key=lambda x: [-x[0], x[1]])\n",
    "\n",
    "for cur_num in range(n):\n",
    "    cur_sc = li[cur_num][0] + 500\n",
    "    cur_name = li[cur_num][1]\n",
    "    min_rank = n + 1\n",
    "    \n",
    "    for i in range(n - 1, -1, -1):\n",
    "        sc, name, num = nli[i]\n",
    "        if cur_sc > sc or cur_sc == sc and cur_name < name:\n",
    "            min_rank = i + 1\n",
    "        else:\n",
    "            break\n",
    "        \n",
    "    cur_sc = li[cur_num][0] - 500\n",
    "    cur_name = li[cur_num][1]\n",
    "    max_rank = n + 1\n",
    "    for i, (sc, name, num) in enumerate(nli):\n",
    "        if cur_sc > sc or cur_sc == sc and cur_name < name:\n",
    "            max_rank = i + 1\n",
    "            break\n",
    "    max_rank -= 1\n",
    "    \n",
    "    print(min_rank, max_rank)"
   ]
  },
  {
   "cell_type": "code",
   "execution_count": null,
   "metadata": {},
   "outputs": [],
   "source": [
    "3 1 5 2 4"
   ]
  },
  {
   "cell_type": "code",
   "execution_count": null,
   "metadata": {},
   "outputs": [],
   "source": [
    "out    2      1     in\n",
    "                   3 1 5 2 4\n",
    "    \n",
    "              3    1 5 2 4\n",
    "             1 3    5 2 4\n",
    "1            3      5 2 4\n",
    "1            5 3    2 4\n",
    "1           2 5 3    4\n",
    "1 2           5 3    4\n",
    "1 2    5      3      4\n",
    "1 2 3  5            4\n",
    "1 2 3  5      4     \n",
    "1 2 3 4  5\n",
    "1 2 3 4 5"
   ]
  },
  {
   "cell_type": "code",
   "execution_count": null,
   "metadata": {},
   "outputs": [],
   "source": [
    "out         2        1         in\n",
    "                             2 3 5 4 1\n",
    "           4 5 3     2\n",
    "                    3 5 4\n",
    "            \n",
    "            4 5"
   ]
  },
  {
   "cell_type": "code",
   "execution_count": 148,
   "metadata": {},
   "outputs": [
    {
     "name": "stdout",
     "output_type": "stream",
     "text": [
      "5\n",
      "3 1 5 2 4\n",
      "1\n",
      "1\n",
      "-1\n",
      "2\n",
      "1\n",
      "-1\n",
      "-1\n",
      "1\n",
      "-1\n",
      "-2\n"
     ]
    }
   ],
   "source": [
    "n = int(input())\n",
    "li = list(map(int, input().split()))\n",
    "li.reverse()\n",
    "\n",
    "cur = [[], [], li]\n",
    "cur_st = [set(), set()]\n",
    "\n",
    "cur_to_exit = 1\n",
    "while True:\n",
    "    if cur[0] and cur[0][-1] == cur_to_exit:\n",
    "        print(-2)\n",
    "        cur_to_exit += 1\n",
    "        cur_st[0].discard(cur[0].pop())\n",
    "        \n",
    "        if cur_to_exit > n:\n",
    "            break\n",
    "        continue\n",
    "    if cur[1] and cur[1][-1] == cur_to_exit:\n",
    "        print(-1)\n",
    "        cur_to_exit += 1\n",
    "        cur_st[1].discard(cur[1].pop())\n",
    "\n",
    "        if cur_to_exit > n:\n",
    "            break\n",
    "        continue\n",
    "        \n",
    "    if cur[-1]:\n",
    "        if not cur[1] or cur[-1][-1] < cur[1][-1]:\n",
    "            print(1)\n",
    "            cur[1].append(cur[-1].pop())\n",
    "            cur_st[1].add(cur[1][-1])\n",
    "        else:\n",
    "            print(2)\n",
    "            cur[0].append(cur[-1].pop())\n",
    "            cur_st[0].add(cur[0][-1])\n",
    "    else:\n",
    "        if cur_to_exit in cur_st[0]:\n",
    "            while cur[0][-1] != cur_to_exit:\n",
    "                print('21')\n",
    "                cur_st[0].discard(cur[0][-1])\n",
    "                cur[1].append(cur[0].pop())\n",
    "                cur_st[1].add(cur[1][-1])\n",
    "        else:\n",
    "            while cur[1][-1] != cur_to_exit:\n",
    "                print('12')\n",
    "                cur_st[1].discard(cur[1][-1])\n",
    "                cur[0].append(cur[1].pop())\n",
    "                cur_st[0].add(cur[0][-1])           \n",
    "        \n",
    "    if cur_to_exit == n + 1:\n",
    "        break"
   ]
  },
  {
   "cell_type": "markdown",
   "metadata": {},
   "source": [
    "https://www.acmicpc.net/problem/11230"
   ]
  },
  {
   "cell_type": "code",
   "execution_count": 154,
   "metadata": {},
   "outputs": [
    {
     "data": {
      "text/plain": [
       "25"
      ]
     },
     "execution_count": 154,
     "metadata": {},
     "output_type": "execute_result"
    }
   ],
   "source": [
    "ord('z') - ord('a')"
   ]
  },
  {
   "cell_type": "code",
   "execution_count": 156,
   "metadata": {},
   "outputs": [
    {
     "name": "stdout",
     "output_type": "stream",
     "text": [
      "26\n",
      "1\n"
     ]
    }
   ],
   "source": [
    "k = int(input())\n",
    "\n",
    "az_c = k // 25\n",
    "k %= 25\n",
    "\n",
    "print(az_c)"
   ]
  },
  {
   "cell_type": "code",
   "execution_count": null,
   "metadata": {},
   "outputs": [],
   "source": [
    "abaz\n",
    "aza"
   ]
  },
  {
   "cell_type": "code",
   "execution_count": null,
   "metadata": {},
   "outputs": [],
   "source": [
    "aza\n",
    "aya"
   ]
  },
  {
   "cell_type": "code",
   "execution_count": 162,
   "metadata": {},
   "outputs": [
    {
     "data": {
      "text/plain": [
       "'a'"
      ]
     },
     "execution_count": 162,
     "metadata": {},
     "output_type": "execute_result"
    }
   ],
   "source": [
    "chr(97)"
   ]
  },
  {
   "cell_type": "code",
   "execution_count": null,
   "metadata": {},
   "outputs": [],
   "source": [
    "aza\n",
    "azaz"
   ]
  },
  {
   "cell_type": "code",
   "execution_count": 210,
   "metadata": {},
   "outputs": [
    {
     "data": {
      "text/plain": [
       "[['a', 'a'],\n",
       " ['a', 'b'],\n",
       " ['a', 'c'],\n",
       " ['a', 'd'],\n",
       " ['a', 'e'],\n",
       " ['a', 'f'],\n",
       " ['a', 'g'],\n",
       " ['a', 'h'],\n",
       " ['a', 'i'],\n",
       " ['a', 'j'],\n",
       " ['a', 'k'],\n",
       " ['a', 'l'],\n",
       " ['a', 'm'],\n",
       " ['a', 'n'],\n",
       " ['a', 'o'],\n",
       " ['a', 'p'],\n",
       " ['a', 'q'],\n",
       " ['a', 'r'],\n",
       " ['a', 's'],\n",
       " ['a', 't'],\n",
       " ['a', 'u'],\n",
       " ['a', 'v'],\n",
       " ['a', 'w'],\n",
       " ['a', 'x'],\n",
       " ['a', 'y'],\n",
       " ['a', 'z'],\n",
       " ['a', 'n', 'a'],\n",
       " ['a', 'o', 'b'],\n",
       " ['a', 'o', 'a'],\n",
       " ['a', 'p', 'b'],\n",
       " ['a', 'p', 'a'],\n",
       " ['a', 'q', 'b'],\n",
       " ['a', 'q', 'a'],\n",
       " ['a', 'r', 'b'],\n",
       " ['a', 'r', 'a'],\n",
       " ['a', 's', 'b'],\n",
       " ['a', 's', 'a'],\n",
       " ['a', 't', 'b'],\n",
       " ['a', 't', 'a'],\n",
       " ['a', 'u', 'b'],\n",
       " ['a', 'u', 'a'],\n",
       " ['a', 'v', 'b'],\n",
       " ['a', 'v', 'a'],\n",
       " ['a', 'w', 'b'],\n",
       " ['a', 'w', 'a'],\n",
       " ['a', 'x', 'b'],\n",
       " ['a', 'x', 'a'],\n",
       " ['a', 'y', 'b'],\n",
       " ['a', 'y', 'a'],\n",
       " ['a', 'z', 'b'],\n",
       " ['a', 'z', 'a']]"
      ]
     },
     "execution_count": 210,
     "metadata": {},
     "output_type": "execute_result"
    }
   ],
   "source": [
    "mins = [[] for _ in range(51)]\n",
    "for a in range(97, 97 + 26):\n",
    "    for b in range(97, 97 + 26):\n",
    "        for c in range(97, 97 + 26):\n",
    "            sc = abs(a - b) + abs(b - c)\n",
    "            temp = (a, b, c)\n",
    "            \n",
    "            if not mins[sc]:\n",
    "                mins[sc] = temp\n",
    "            else:\n",
    "                if temp < mins[sc]:\n",
    "                    mins[sc] = temp\n",
    "\n",
    "nmins = []\n",
    "for v in mins:\n",
    "    if v:\n",
    "        temp = [chr(v[0]), chr(v[1]), chr(v[2])]\n",
    "    else:\n",
    "        temp = ''\n",
    "    nmins.append(temp)\n",
    "                    \n",
    "for i in range(26):\n",
    "    nmins[i] = nmins[i][1:]\n",
    "    \n",
    "nmins"
   ]
  },
  {
   "cell_type": "code",
   "execution_count": 196,
   "metadata": {},
   "outputs": [
    {
     "name": "stdout",
     "output_type": "stream",
     "text": [
      "ax\n"
     ]
    }
   ],
   "source": [
    "k = 23\n",
    "\n",
    "if k <= 50:\n",
    "    print(nmins[k])\n",
    "else:\n",
    "    "
   ]
  },
  {
   "cell_type": "code",
   "execution_count": 219,
   "metadata": {},
   "outputs": [
    {
     "name": "stdout",
     "output_type": "stream",
     "text": [
      "27 [0, 25, 0]\n"
     ]
    },
    {
     "data": {
      "text/plain": [
       "''"
      ]
     },
     "execution_count": 219,
     "metadata": {},
     "output_type": "execute_result"
    }
   ],
   "source": [
    "k = 77\n",
    "\n",
    "r = ''\n",
    "\n",
    "cur_k = k\n",
    "cand = [0]\n",
    "while cur_k >= 51:\n",
    "    if cand[-1] <= 1:\n",
    "        cur_k -= 25 - cand[-1]\n",
    "        cand.append(25)\n",
    "    else:\n",
    "        cand.append(0)\n",
    "        cur_k -= 25\n",
    "        \n",
    "print(cur_k, cand)\n",
    "\n",
    "for i in range(len(cand)):\n",
    "    cand[i] = chr(cand[i] + 97)\n",
    "    \n",
    "if nmins[cur_k][-1] == cand[0]:\n",
    "    temp = nmins[cur_k][:-1] + cand\n",
    "    if not r:\n",
    "        r = temp\n",
    "        \n",
    "r"
   ]
  },
  {
   "cell_type": "markdown",
   "metadata": {},
   "source": [
    "### UỐN VUÔNG 11028"
   ]
  },
  {
   "cell_type": "code",
   "execution_count": 220,
   "metadata": {},
   "outputs": [
    {
     "data": {
      "text/plain": [
       "True"
      ]
     },
     "execution_count": 220,
     "metadata": {},
     "output_type": "execute_result"
    }
   ],
   "source": [
    "3 ** 2 + 4 ** 2 == 5 ** 2"
   ]
  },
  {
   "cell_type": "markdown",
   "metadata": {},
   "source": [
    "https://www.acmicpc.net/problem/12980"
   ]
  },
  {
   "cell_type": "code",
   "execution_count": null,
   "metadata": {},
   "outputs": [],
   "source": [
    "https://www.acmicpc.net/problem/11449"
   ]
  },
  {
   "cell_type": "code",
   "execution_count": 225,
   "metadata": {},
   "outputs": [
    {
     "name": "stdout",
     "output_type": "stream",
     "text": [
      "5 2 4 1 3 5\n",
      "3\n"
     ]
    }
   ],
   "source": [
    "import sys\n",
    "input = lambda: sys.stdin.readline().rstrip()\n",
    "\n",
    "for _ in range(int(input())):\n",
    "    n, *li = list(map(int, input().split()))\n",
    "\n",
    "    cur = li[0]\n",
    "    r = 1\n",
    "    to_dec = True\n",
    "    for i in range(1, n):\n",
    "        if cur > li[i]:\n",
    "            if to_dec:\n",
    "                r += 1\n",
    "                to_dec = False\n",
    "        else:\n",
    "            if not to_dec:\n",
    "                r += 1\n",
    "                to_dec = True\n",
    "\n",
    "        cur = li[i]\n",
    "\n",
    "    print(r)"
   ]
  },
  {
   "cell_type": "markdown",
   "metadata": {},
   "source": [
    "https://www.acmicpc.net/problem/11449"
   ]
  },
  {
   "cell_type": "code",
   "execution_count": 231,
   "metadata": {},
   "outputs": [
    {
     "name": "stdout",
     "output_type": "stream",
     "text": [
      "5\n",
      "1 2\n",
      "3 2\n",
      "3 4\n",
      "3 1\n",
      "0 1\n",
      "2\n"
     ]
    }
   ],
   "source": [
    "import sys\n",
    "input = lambda: sys.stdin.readline().rstrip()\n",
    "\n",
    "for _ in range(int(input())):\n",
    "    n = int(input())\n",
    "    li = [list(map(int, input().split())) for _ in range(n)]\n",
    "    li = li + li\n",
    "\n",
    "    nn = n * 2\n",
    "    s = 0\n",
    "    e = 0\n",
    "    cur_fuel = li[0][0]\n",
    "    r = -1\n",
    "    while s <= e:\n",
    "        if cur_fuel >= li[e][1]:\n",
    "            if e - s + 1 == n:\n",
    "                r = s + 1\n",
    "                break\n",
    "            cur_fuel -= li[e][1]\n",
    "            e += 1\n",
    "            if e >= nn:\n",
    "                break\n",
    "            cur_fuel += li[e][0]\n",
    "        else:\n",
    "            cur_fuel += li[s][1]\n",
    "            cur_fuel -= li[s][0]\n",
    "            s += 1\n",
    "            if s > e:\n",
    "                e = s\n",
    "                if e >= nn:\n",
    "                    break\n",
    "                cur_fuel = li[s][0]\n",
    "\n",
    "    if r == -1:\n",
    "        print('IMPOSSIBLE')\n",
    "    else:\n",
    "        print(r)"
   ]
  },
  {
   "cell_type": "code",
   "execution_count": null,
   "metadata": {},
   "outputs": [],
   "source": [
    "3 4\n",
    "2 3\n",
    "4 3\n",
    "3 4\n",
    "2 3\n",
    "4 3"
   ]
  },
  {
   "cell_type": "markdown",
   "metadata": {},
   "source": [
    "https://www.acmicpc.net/problem/3145"
   ]
  },
  {
   "cell_type": "code",
   "execution_count": 243,
   "metadata": {
    "scrolled": true
   },
   "outputs": [
    {
     "name": "stdout",
     "output_type": "stream",
     "text": [
      "3 3\n",
      "x..\n",
      ".B.\n",
      ".Cx\n",
      "3 3 C\n",
      "1 1 B\n"
     ]
    }
   ],
   "source": [
    "dx = [-1, -1, -1, 0, 0, 1, 1, 1]\n",
    "dy = [-1, 0, 1, -1, 1, -1, 0, 1]\n",
    "\n",
    "n, m = map(int, input().split())\n",
    "li = [input() for _ in range(n)]\n",
    "\n",
    "names = []\n",
    "for i in range(n):\n",
    "    temp = []\n",
    "    adjs = set()\n",
    "    for j in range(m):\n",
    "        if 'A' <= li[i][j] <= 'Z':\n",
    "            temp.append(li[i][j])\n",
    "            for d in range(8):\n",
    "                ni = i + dx[d]\n",
    "                nj = j + dy[d]\n",
    "                \n",
    "                if ni < 0 or ni >= n or nj < 0 or nj >= m:\n",
    "                    continue\n",
    "                if li[ni][nj] == 'x':\n",
    "                    adjs.add((ni, nj))\n",
    "        else:\n",
    "            if temp:\n",
    "                temp = ''.join(temp)\n",
    "                names.append([temp, adjs])\n",
    "                temp = []\n",
    "                adjs = set()\n",
    "    if temp:\n",
    "        temp = ''.join(temp)\n",
    "        names.append([temp, adjs])\n",
    "        temp = []\n",
    "        adjs = set()\n",
    "        \n",
    "r = []\n",
    "while True:\n",
    "    tds = set()\n",
    "    for i in range(len(names) - 1, -1, -1):\n",
    "        if len(names[i][1]) == 1:\n",
    "            td = names[i][1].pop()\n",
    "            tds.add(td)\n",
    "            r.append((names[i][0], td))\n",
    "            del names[i]\n",
    "            \n",
    "    if not names:\n",
    "        break\n",
    "        \n",
    "    for i in range(len(names)):\n",
    "        names[i][1] -= tds\n",
    "        \n",
    "for name, coord in r:\n",
    "    print(coord[0] + 1, coord[1] + 1, name)"
   ]
  },
  {
   "cell_type": "code",
   "execution_count": null,
   "metadata": {},
   "outputs": [],
   "source": [
    "3 3\n",
    "AxB\n",
    "..x\n",
    "...\n",
    "1 2 A\n",
    "2 3 B"
   ]
  },
  {
   "cell_type": "code",
   "execution_count": 241,
   "metadata": {},
   "outputs": [
    {
     "data": {
      "text/plain": [
       "[['ZZ', {(0, 2), (1, 2)}],\n",
       " ['DD', {(0, 2), (1, 2), (2, 2)}],\n",
       " ['FF', {(1, 2), (2, 2)}]]"
      ]
     },
     "execution_count": 241,
     "metadata": {},
     "output_type": "execute_result"
    }
   ],
   "source": [
    "names"
   ]
  },
  {
   "cell_type": "code",
   "execution_count": 237,
   "metadata": {},
   "outputs": [
    {
     "data": {
      "text/plain": [
       "[['VELIKI', {(1, 0), (1, 6)}], ['MALI', {(1, 6)}]]"
      ]
     },
     "execution_count": 237,
     "metadata": {},
     "output_type": "execute_result"
    }
   ],
   "source": [
    "names"
   ]
  },
  {
   "cell_type": "code",
   "execution_count": 235,
   "metadata": {},
   "outputs": [
    {
     "data": {
      "text/plain": [
       "[['VELIKI', {(1, 0), (1, 6)}], ['MALI', {(1, 6)}]]"
      ]
     },
     "execution_count": 235,
     "metadata": {},
     "output_type": "execute_result"
    }
   ],
   "source": [
    "names"
   ]
  },
  {
   "cell_type": "code",
   "execution_count": null,
   "metadata": {},
   "outputs": [],
   "source": [
    ".VELIKI.\n",
    "x.....x.\n",
    "..MALI.."
   ]
  },
  {
   "cell_type": "markdown",
   "metadata": {},
   "source": [
    "https://www.acmicpc.net/problem/14432"
   ]
  },
  {
   "cell_type": "code",
   "execution_count": null,
   "metadata": {},
   "outputs": [],
   "source": [
    "import sys\n",
    "sys.setrecursionlimit(105000)\n",
    "input = lambda: sys.stdin.readline().rstrip()\n",
    "\n",
    "def dfs(value):\n",
    "    global total\n",
    "    \n",
    "    vt[value] = True\n",
    "    \n",
    "    max_needed = 0\n",
    "    to_d = 0\n",
    "    for v in li[value]:\n",
    "        if not vt[v]:\n",
    "            to_d += dfs(v)\n",
    "            max_needed = max(max_needed, needed[v])\n",
    "    \n",
    "    max_needed = max(0, max_needed)\n",
    "    needed[value] -= max_needed + to_d\n",
    "    total += max_needed\n",
    "    \n",
    "    return max_needed\n",
    "\n",
    "n, m = map(int, input().split())\n",
    "needed = list(map(int, input().split()))\n",
    "\n",
    "get_value = lambda x: int(x) - 1\n",
    "li = [[] for _ in range(n)]\n",
    "for _ in range(m):\n",
    "    a, b = map(get_value, input().split())\n",
    "    \n",
    "    li[a].append(b)\n",
    "    li[b].append(a)\n",
    "    \n",
    "total = 0\n",
    "vt = [False] * n\n",
    "for num in range(n):\n",
    "    if vt[num]:\n",
    "        continue\n",
    "    dfs(num)\n",
    "    \n",
    "    if needed[num] > 0:\n",
    "        total += needed[num]\n",
    "        \n",
    "print(total)"
   ]
  },
  {
   "cell_type": "code",
   "execution_count": 246,
   "metadata": {},
   "outputs": [],
   "source": [
    "li = '360 363 367 362 363 365 352 366 362 362 360 362 351'.split()\n",
    "li = list(map(int, li))\n",
    "li.sort()"
   ]
  },
  {
   "cell_type": "markdown",
   "metadata": {},
   "source": [
    "https://www.acmicpc.net/problem/16865"
   ]
  },
  {
   "cell_type": "code",
   "execution_count": 14,
   "metadata": {},
   "outputs": [
    {
     "name": "stdout",
     "output_type": "stream",
     "text": [
      "2 2 2\n",
      "2 3\n",
      "0 0\n"
     ]
    }
   ],
   "source": [
    "s, n, m = map(int, input().split())\n",
    "\n",
    "li = []\n",
    "while True:\n",
    "    try:\n",
    "        temp = list(map(int, input().split()))\n",
    "        li.extend(temp)\n",
    "    except:\n",
    "        break\n",
    "\n",
    "n -= 1\n",
    "m -= 1\n",
    "\n",
    "cup = 0\n",
    "cdown = 0\n",
    "for i in range(s):\n",
    "    is_up = True\n",
    "    is_down = True\n",
    "\n",
    "    for ni in range(i, i - n, -1):\n",
    "        if ni - 1 < 0 or li[ni - 1] > li[ni]:\n",
    "            is_up = False\n",
    "            break\n",
    "    for ni in range(i, i + n):\n",
    "        if ni + 1 >= s or li[ni] < li[ni + 1]:\n",
    "            is_up = False\n",
    "            break\n",
    "         \n",
    "    for ni in range(i, i - m, -1):\n",
    "        if ni - 1 < 0 or li[ni - 1] <= li[ni]:\n",
    "            is_down = False\n",
    "            break\n",
    "    for ni in range(i, i + m):\n",
    "        if ni + 1 >= s or li[ni] >= li[ni + 1]:\n",
    "            is_down = False\n",
    "            break\n",
    "\n",
    "    if is_up:\n",
    "        cup += 1\n",
    "    if is_down:\n",
    "        cdown += 1\n",
    "        \n",
    "print(cup, cdown)"
   ]
  },
  {
   "cell_type": "markdown",
   "metadata": {},
   "source": [
    "### Conversation Log 11482"
   ]
  },
  {
   "cell_type": "code",
   "execution_count": null,
   "metadata": {},
   "outputs": [],
   "source": [
    "from collections import defaultdict as dd\n",
    "import sys\n",
    "input = lambda: sys.stdin.readline().rstrip()\n",
    "\n",
    "used = dd(int)\n",
    "all_people = set()\n",
    "word_users = dd(set)\n",
    "\n",
    "n = int(input())\n",
    "for _ in range(n):\n",
    "    name, *words = input().split()\n",
    "    \n",
    "    all_people.add(name)\n",
    "    for v in words:\n",
    "        used[v] += 1\n",
    "        word_users[v].add(name)\n",
    "        \n",
    "people_num = len(all_people)\n",
    "cands = []\n",
    "for word in word_users:\n",
    "    if len(word_users[word]) == people_num:\n",
    "        cands.append((used[word], word))\n",
    "        \n",
    "cands.sort(key=lambda x: (-x[0], x[1]))\n",
    "\n",
    "if not cands:\n",
    "    print('ALL CLEAR')\n",
    "else:\n",
    "    for v in cands:\n",
    "        print(v[1])"
   ]
  },
  {
   "cell_type": "markdown",
   "metadata": {},
   "source": [
    "### 말아톤 2327"
   ]
  },
  {
   "cell_type": "code",
   "execution_count": null,
   "metadata": {},
   "outputs": [],
   "source": [
    "import sys\n",
    "input = lambda: sys.stdin.readline().rstrip()\n",
    "\n",
    "h, n = map(int, input().split())\n",
    "li = [list(map(int, input().split())) for _ in range(n)]\n",
    "\n",
    "li.sort(key=lambda x: -x[1])\n",
    "\n",
    "dp = [False] * (h + 1)\n",
    "dp[0] = True\n",
    "\n",
    "r = -1\n",
    "for hh, ss in li:\n",
    "    if hh > h:\n",
    "        continue\n",
    "    for i in range(h, hh - 1, -1):\n",
    "        if dp[i - hh]:\n",
    "            dp[i] = True\n",
    "            \n",
    "    if dp[h]:\n",
    "        r = ss\n",
    "        break\n",
    "        \n",
    "print(r)"
   ]
  },
  {
   "cell_type": "markdown",
   "metadata": {},
   "source": [
    "###"
   ]
  },
  {
   "cell_type": "code",
   "execution_count": 26,
   "metadata": {},
   "outputs": [
    {
     "name": "stdout",
     "output_type": "stream",
     "text": [
      "4\n",
      "1\n",
      "2\n",
      "3\n",
      "4\n",
      "1680\n"
     ]
    }
   ],
   "source": [
    "mod = int(1e9) + 7\n",
    "\n",
    "def nCr(n, r, mod):\n",
    "    if n - r < r:\n",
    "        r = n - r\n",
    "        \n",
    "    num = 1\n",
    "    for i in range(n, n - r, -1):\n",
    "        num *= i\n",
    "    \n",
    "    denom = 1\n",
    "    for i in range(2, r + 1):\n",
    "        denom *= i\n",
    "        \n",
    "    return num // denom % mod\n",
    "\n",
    "k = int(input())\n",
    "li = [int(input()) - 1 for _ in range(k)]\n",
    "\n",
    "w = 1\n",
    "cur = 1\n",
    "for i in range(k):\n",
    "    cur *= nCr(w + li[i] - 1, w - 1, mod)\n",
    "    cur %= mod\n",
    "    w += li[i] + 1\n",
    "    w %= mod\n",
    "    \n",
    "print(cur)"
   ]
  },
  {
   "cell_type": "markdown",
   "metadata": {},
   "source": [
    "### 차수열 2084"
   ]
  },
  {
   "cell_type": "code",
   "execution_count": 28,
   "metadata": {},
   "outputs": [
    {
     "name": "stdout",
     "output_type": "stream",
     "text": [
      "4\n",
      "2 2 2 3\n",
      "-1\n"
     ]
    }
   ],
   "source": [
    "from heapq import heapify, heappush, heappop\n",
    "\n",
    "n = int(input())\n",
    "li = list(map(int, input().split()))\n",
    "\n",
    "if sum(li) % 2 == 1:\n",
    "    print(-1)\n",
    "else:\n",
    "    heap = [[-li[i], i] for i in range(n)]\n",
    "    heapify(heap)\n",
    "    \n",
    "    r = [[0] * n for _ in range(n)]\n",
    "    while heap:\n",
    "        to_use, index = heappop(heap)\n",
    "        \n",
    "        temp = []\n",
    "        for _ in range(-to_use):\n",
    "            c, i = heappop(heap)\n",
    "            r[index][i] = 1\n",
    "            r[i][index] = 1\n",
    "            c += 1\n",
    "            if c != 0:\n",
    "                temp.append((c, i))\n",
    "        for c, i in temp:\n",
    "            heappush(heap, [c, i])\n",
    "            \n",
    "    for v in r:\n",
    "        print(*v)"
   ]
  },
  {
   "cell_type": "code",
   "execution_count": 35,
   "metadata": {},
   "outputs": [
    {
     "ename": "AttributeError",
     "evalue": "'str' object has no attribute 'is_upper'",
     "output_type": "error",
     "traceback": [
      "\u001b[1;31m---------------------------------------------------------------------------\u001b[0m",
      "\u001b[1;31mAttributeError\u001b[0m                            Traceback (most recent call last)",
      "\u001b[1;32m<ipython-input-35-f4f64d6cb9e5>\u001b[0m in \u001b[0;36m<module>\u001b[1;34m\u001b[0m\n\u001b[1;32m----> 1\u001b[1;33m \u001b[1;34m'a'\u001b[0m\u001b[1;33m.\u001b[0m\u001b[0mis_upper\u001b[0m\u001b[1;33m\u001b[0m\u001b[1;33m\u001b[0m\u001b[0m\n\u001b[0m",
      "\u001b[1;31mAttributeError\u001b[0m: 'str' object has no attribute 'is_upper'"
     ]
    }
   ],
   "source": [
    "'a'.isl"
   ]
  },
  {
   "cell_type": "code",
   "execution_count": 52,
   "metadata": {},
   "outputs": [
    {
     "name": "stdout",
     "output_type": "stream",
     "text": [
      "I rock at co-lour-ing\n",
      "Gah pockoh btuh colouriccah\n"
     ]
    }
   ],
   "source": [
    "hard = ['b', 'c', 'd', 'g', 'k', 'n', 'p', 't']\n",
    "hard_st = set(hard)\n",
    "ends = ['a', 'o', 'u']\n",
    "\n",
    "li = input().split()\n",
    "\n",
    "r = []\n",
    "for i in range(len(li)):\n",
    "    first = li[i][0]\n",
    "    is_first_upper = False\n",
    "    \n",
    "    if first.isupper():\n",
    "        is_first_upper = True\n",
    "        first = first.lower()\n",
    "    \n",
    "    if first not in hard_st:\n",
    "        md = 99 # min dist\n",
    "        mda = '' # min dist alpha\n",
    "        for j in range(len(hard) - 1, -1, -1):\n",
    "            d = abs(ord(hard[j]) - ord(first))\n",
    "            if d <= md:\n",
    "                md = d\n",
    "                mda = hard[j]\n",
    "                \n",
    "        nfirst = mda\n",
    "        if is_first_upper:\n",
    "            nfirst = nfirst.upper()\n",
    "            \n",
    "        li[i] = nfirst + li[i][1:]\n",
    "        \n",
    "    temp = li[i].split('-')\n",
    "    for j in range(1, len(temp)):\n",
    "        ntemp = list(temp[j])\n",
    "        for k in range(len(ntemp)):\n",
    "            if ntemp[k] in hard_st:\n",
    "                ntemp[k] = temp[0][0].lower()\n",
    "        temp[j] = ''.join(ntemp)\n",
    "\n",
    "    li[i] = ''.join(temp)\n",
    "\n",
    "    last = li[i][-1].lower()\n",
    "    if last in hard_st:\n",
    "        md = 99 # min dist\n",
    "        mda = '' # min dist alpha\n",
    "        for j in range(len(ends) - 1, -1, -1):\n",
    "            d = abs(ord(ends[j]) - ord(last))\n",
    "            if d <= md:\n",
    "                md = d\n",
    "                mda = ends[j]\n",
    "\n",
    "        li[i] += mda + 'h'\n",
    "        \n",
    "print(' '.join(li))"
   ]
  },
  {
   "cell_type": "code",
   "execution_count": 58,
   "metadata": {},
   "outputs": [],
   "source": [
    "s = '''7465  366점 1명 평범함\n",
    "14310 351점 2명 따봉\n",
    "14311 362점 1명 흐에에\n",
    "23414 360점 1명 손흔듦\n",
    "17891 362점 1명 손흔듦\n",
    "22245 362점 1명 따봉\n",
    "22178 352점 1명 평범함\n",
    "22733 365점 1명 손흔듦\n",
    "25039 363점 4명 따봉\n",
    "24865 362점 3명 따봉\n",
    "4237  367점 13명 흐에에\n",
    "11449 363점 15명 손흔듦\n",
    "14432 360점 57명 따봉'''"
   ]
  },
  {
   "cell_type": "code",
   "execution_count": 59,
   "metadata": {},
   "outputs": [],
   "source": [
    "li = s.split('\\n')"
   ]
  },
  {
   "cell_type": "code",
   "execution_count": 60,
   "metadata": {},
   "outputs": [],
   "source": [
    "for i in range(len(li)):\n",
    "    li[i] = li[i].split()\n",
    "    li[i][0] = int(li[i][0])"
   ]
  },
  {
   "cell_type": "code",
   "execution_count": 62,
   "metadata": {},
   "outputs": [],
   "source": [
    "li.sort(key=lambda x: x[0])"
   ]
  },
  {
   "cell_type": "code",
   "execution_count": 64,
   "metadata": {},
   "outputs": [],
   "source": [
    "for i in range(len(li)):\n",
    "    li[i][0] = str(li[i][0])\n",
    "    li[i] = ' '.join(li[i])"
   ]
  },
  {
   "cell_type": "code",
   "execution_count": 66,
   "metadata": {},
   "outputs": [],
   "source": [
    "s = '\\n'.join(li)"
   ]
  },
  {
   "cell_type": "code",
   "execution_count": 69,
   "metadata": {},
   "outputs": [
    {
     "name": "stdout",
     "output_type": "stream",
     "text": [
      "4237 367점 13명 흐에에\n",
      "7465 366점 1명 평범함\n",
      "11449 363점 15명 손흔듦\n",
      "14310 351점 2명 따봉\n",
      "14311 362점 1명 흐에에\n",
      "14432 360점 57명 따봉\n",
      "17891 362점 1명 손흔듦\n",
      "22178 352점 1명 평범함\n",
      "22245 362점 1명 따봉\n",
      "22733 365점 1명 손흔듦\n",
      "23414 360점 1명 손흔듦\n",
      "24865 362점 3명 따봉\n",
      "25039 363점 4명 따봉\n"
     ]
    }
   ],
   "source": [
    "print(s)"
   ]
  }
 ],
 "metadata": {
  "kernelspec": {
   "display_name": "Python 3",
   "language": "python",
   "name": "python3"
  },
  "language_info": {
   "codemirror_mode": {
    "name": "ipython",
    "version": 3
   },
   "file_extension": ".py",
   "mimetype": "text/x-python",
   "name": "python",
   "nbconvert_exporter": "python",
   "pygments_lexer": "ipython3",
   "version": "3.7.4"
  }
 },
 "nbformat": 4,
 "nbformat_minor": 2
}
