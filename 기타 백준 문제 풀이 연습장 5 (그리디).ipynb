{
 "cells": [
  {
   "cell_type": "markdown",
   "metadata": {},
   "source": [
    "### 햄버거 분배 19941"
   ]
  },
  {
   "cell_type": "code",
   "execution_count": 10,
   "metadata": {},
   "outputs": [
    {
     "name": "stdout",
     "output_type": "stream",
     "text": [
      "20 1\n",
      "HHPHPPHHPPHPPPHPHPHP\n",
      "8\n"
     ]
    }
   ],
   "source": [
    "n, k = map(int, input().split())\n",
    "s = input()\n",
    "\n",
    "is_available = list(map(lambda x: True if x == 'H' else False, s))\n",
    "\n",
    "count = 0\n",
    "for i in range(n):\n",
    "    if s[i] == 'H':\n",
    "        continue\n",
    "    for j in range(i - k, i + k + 1):\n",
    "        if j < 0 or j >= n:\n",
    "            continue\n",
    "        if is_available[j]:\n",
    "            is_available[j] = False\n",
    "            count += 1\n",
    "            break\n",
    "            \n",
    "print(count)"
   ]
  },
  {
   "cell_type": "markdown",
   "metadata": {},
   "source": [
    "### Wizards Unite 18729"
   ]
  },
  {
   "cell_type": "code",
   "execution_count": 19,
   "metadata": {},
   "outputs": [
    {
     "name": "stdout",
     "output_type": "stream",
     "text": [
      "2\n",
      "3 1\n",
      "1 3 2\n",
      "3\n",
      "3 2\n",
      "5 5 5\n",
      "5\n"
     ]
    }
   ],
   "source": [
    "T = int(input())\n",
    "for _ in range(T):\n",
    "    n, k = map(int, input().split())\n",
    "    li = list(map(int, input().split()))\n",
    "    li.sort(reverse=True)\n",
    "\n",
    "    for_silver = []\n",
    "    for_gold = []\n",
    "    for i in range(n):\n",
    "        if k:\n",
    "            for_silver.append(li[i])\n",
    "            k -= 1\n",
    "        else:\n",
    "            for_gold.append(li[i])\n",
    "\n",
    "    if for_silver:\n",
    "        print(max(max(for_silver), sum(for_gold)))\n",
    "    else:\n",
    "        print(sum(for_gold))"
   ]
  },
  {
   "cell_type": "markdown",
   "metadata": {},
   "source": [
    "### Vaccination Against Corona 20682"
   ]
  },
  {
   "cell_type": "code",
   "execution_count": 25,
   "metadata": {},
   "outputs": [
    {
     "name": "stdout",
     "output_type": "stream",
     "text": [
      "5 4\n",
      "1 2 4 6 8\n",
      "2\n"
     ]
    }
   ],
   "source": [
    "# 일단 포기\n",
    "n, l = map(int, input().split())\n",
    "li = list(map(int, input().split()))\n",
    "\n",
    "count = 0\n",
    "no_vaccine_person_loc = li[0]\n",
    "for i in range(1, n):\n",
    "    if li[i] - no_vaccine_person_loc < l:\n",
    "        count += 1\n",
    "    else:\n",
    "        no_vaccine_person_loc = li[i]\n",
    "        \n",
    "print(count)"
   ]
  },
  {
   "cell_type": "markdown",
   "metadata": {},
   "source": [
    "### 신입 사원 1946"
   ]
  },
  {
   "cell_type": "code",
   "execution_count": null,
   "metadata": {},
   "outputs": [],
   "source": []
  }
 ],
 "metadata": {
  "kernelspec": {
   "display_name": "Python 3",
   "language": "python",
   "name": "python3"
  },
  "language_info": {
   "codemirror_mode": {
    "name": "ipython",
    "version": 3
   },
   "file_extension": ".py",
   "mimetype": "text/x-python",
   "name": "python",
   "nbconvert_exporter": "python",
   "pygments_lexer": "ipython3",
   "version": "3.7.3"
  }
 },
 "nbformat": 4,
 "nbformat_minor": 4
}
