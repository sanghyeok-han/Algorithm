{
 "cells": [
  {
   "cell_type": "code",
   "execution_count": 1,
   "metadata": {},
   "outputs": [
    {
     "data": {
      "text/plain": [
       "0"
      ]
     },
     "execution_count": 1,
     "metadata": {},
     "output_type": "execute_result"
    }
   ],
   "source": [
    "0 % 5"
   ]
  },
  {
   "cell_type": "code",
   "execution_count": 2,
   "metadata": {},
   "outputs": [
    {
     "data": {
      "text/plain": [
       "4"
      ]
     },
     "execution_count": 2,
     "metadata": {},
     "output_type": "execute_result"
    }
   ],
   "source": [
    "-1 % 5"
   ]
  },
  {
   "cell_type": "code",
   "execution_count": 5,
   "metadata": {},
   "outputs": [
    {
     "data": {
      "text/plain": [
       "0"
      ]
     },
     "execution_count": 5,
     "metadata": {},
     "output_type": "execute_result"
    }
   ],
   "source": [
    "ord('A') - 65"
   ]
  },
  {
   "cell_type": "code",
   "execution_count": 6,
   "metadata": {},
   "outputs": [
    {
     "data": {
      "text/plain": [
       "25"
      ]
     },
     "execution_count": 6,
     "metadata": {},
     "output_type": "execute_result"
    }
   ],
   "source": [
    "ord('Z') - 65"
   ]
  },
  {
   "cell_type": "code",
   "execution_count": null,
   "metadata": {},
   "outputs": [],
   "source": [
    "B -> A\n"
   ]
  },
  {
   "cell_type": "code",
   "execution_count": 9,
   "metadata": {},
   "outputs": [
    {
     "data": {
      "text/plain": [
       "1"
      ]
     },
     "execution_count": 9,
     "metadata": {},
     "output_type": "execute_result"
    }
   ],
   "source": [
    "(ord('B') - ord('A')) % 26"
   ]
  },
  {
   "cell_type": "code",
   "execution_count": 10,
   "metadata": {},
   "outputs": [
    {
     "data": {
      "text/plain": [
       "25"
      ]
     },
     "execution_count": 10,
     "metadata": {},
     "output_type": "execute_result"
    }
   ],
   "source": [
    "(ord('A') - ord('B')) % 26"
   ]
  },
  {
   "cell_type": "code",
   "execution_count": 2,
   "metadata": {},
   "outputs": [],
   "source": [
    "from collections import deque\n",
    "\n",
    "deq = deque([1, 2, 3])\n",
    "deq2 = deq.copy()\n",
    "deq2.rotate(3)"
   ]
  },
  {
   "cell_type": "code",
   "execution_count": 5,
   "metadata": {},
   "outputs": [
    {
     "data": {
      "text/plain": [
       "[(5, 2), (3, 1), (4, 1)]"
      ]
     },
     "execution_count": 5,
     "metadata": {},
     "output_type": "execute_result"
    }
   ],
   "source": [
    "from collections import Counter\n",
    "\n",
    "c = Counter([3, 4, 5, 5])\n",
    "c.most_common()"
   ]
  },
  {
   "cell_type": "code",
   "execution_count": 77,
   "metadata": {},
   "outputs": [],
   "source": [
    "def solution1(tickets):\n",
    "    answer = []\n",
    "    start = 'ICN'\n",
    "    tickets.sort(reverse=True)\n",
    "    answer = dfs(start,tickets,answer,len(tickets))\n",
    "    return answer\n",
    "\n",
    "def dfs(start,tickets,answer,tickets_cnt):\n",
    "    st = []\n",
    "    answer.append(start)\n",
    "    if tickets != []:\n",
    "        for i in range(len(tickets)-1,-1,-1):\n",
    "            if tickets[i][0] == start:\n",
    "                st.append(i)\n",
    "    \n",
    "    if len(answer) <= tickets_cnt:\n",
    "        for i in st: \n",
    "            dfs(tickets[i][1], [tickets[x] for x in range(0,len(tickets)) if x != i], answer, tickets_cnt)\n",
    "            return answer\n",
    "    \n",
    "        "
   ]
  },
  {
   "cell_type": "code",
   "execution_count": 78,
   "metadata": {},
   "outputs": [],
   "source": [
    "def solution2(tickets):\n",
    "    from collections import defaultdict, deque\n",
    "    \n",
    "    total_count = len(tickets)\n",
    "    d = defaultdict(list)\n",
    "    to_s = []\n",
    "    for index, (_from, _to) in enumerate(tickets):\n",
    "        d[_from].append((index, _to))\n",
    "        to_s.append(_to)\n",
    "    \n",
    "    queue = deque()\n",
    "    queue.append(('ICN', [], [False] * total_count)) # 출발지, route, visited\n",
    "    \n",
    "    result_route = ''\n",
    "    while queue:\n",
    "        value, route, visited = queue.popleft()\n",
    "        \n",
    "        if len(route) == total_count:\n",
    "            candidate = ' '.join(map(lambda x: to_s[x], route))\n",
    "            if not result_route:\n",
    "                result_route = candidate\n",
    "            else:\n",
    "                if candidate < result_route:\n",
    "                    result_route = candidate\n",
    "            continue\n",
    "        \n",
    "        for v in d[value]:\n",
    "            new_visited = visited[:]\n",
    "            new_route = route[:]\n",
    "            if not new_visited[v[0]]:\n",
    "                new_visited[v[0]] = True\n",
    "                new_route.append(v[0])\n",
    "                queue.append((v[1], new_route, new_visited))\n",
    "\n",
    "    return ['ICN'] + result_route.split()"
   ]
  },
  {
   "cell_type": "code",
   "execution_count": 79,
   "metadata": {},
   "outputs": [
    {
     "data": {
      "text/plain": [
       "['ICN', 'AAA']"
      ]
     },
     "execution_count": 79,
     "metadata": {},
     "output_type": "execute_result"
    }
   ],
   "source": [
    "solution1(tickets)"
   ]
  },
  {
   "cell_type": "code",
   "execution_count": 80,
   "metadata": {},
   "outputs": [
    {
     "data": {
      "text/plain": [
       "['ICN', 'BBB', 'ICN', 'AAA']"
      ]
     },
     "execution_count": 80,
     "metadata": {},
     "output_type": "execute_result"
    }
   ],
   "source": [
    "solution2(tickets)"
   ]
  },
  {
   "cell_type": "code",
   "execution_count": 68,
   "metadata": {},
   "outputs": [],
   "source": [
    "tickets = [[\"ICN\", \"AAA\"], [\"ICN\", \"BBB\"], [\"BBB\", \"ICN\"]]"
   ]
  },
  {
   "cell_type": "code",
   "execution_count": 61,
   "metadata": {},
   "outputs": [],
   "source": [
    "tickets = [[\"ICN\", \"AAA\"], ['ICN', 'EEE'], ['AAA', 'BBB'], [\"EEE\", \"ZZZ\"], [\"ZZZ\", \"ICN\"], ['BBB', 'ICN']]"
   ]
  },
  {
   "cell_type": "code",
   "execution_count": 63,
   "metadata": {},
   "outputs": [],
   "source": [
    "tickets = [[\"ICN\", \"AAA\"], ['ICN', 'AAA'], ['ICN', 'AAA'], [\"AAA\", \"ICN\"]]"
   ]
  },
  {
   "cell_type": "code",
   "execution_count": 55,
   "metadata": {},
   "outputs": [],
   "source": [
    "tickets.sort(reverse=True)"
   ]
  },
  {
   "cell_type": "code",
   "execution_count": 67,
   "metadata": {},
   "outputs": [
    {
     "data": {
      "text/plain": [
       "[['ICN', 'AAA'], ['ICN', 'BBB'], ['BBB', 'ICN']]"
      ]
     },
     "execution_count": 67,
     "metadata": {},
     "output_type": "execute_result"
    }
   ],
   "source": [
    "tickets"
   ]
  },
  {
   "cell_type": "code",
   "execution_count": 8,
   "metadata": {},
   "outputs": [
    {
     "data": {
      "text/plain": [
       "1"
      ]
     },
     "execution_count": 8,
     "metadata": {},
     "output_type": "execute_result"
    }
   ],
   "source": [
    "A"
   ]
  },
  {
   "cell_type": "code",
   "execution_count": 9,
   "metadata": {},
   "outputs": [
    {
     "data": {
      "text/plain": [
       "1"
      ]
     },
     "execution_count": 9,
     "metadata": {},
     "output_type": "execute_result"
    }
   ],
   "source": [
    "B"
   ]
  },
  {
   "cell_type": "code",
   "execution_count": 5,
   "metadata": {},
   "outputs": [
    {
     "data": {
      "text/plain": [
       "'0b10101'"
      ]
     },
     "execution_count": 5,
     "metadata": {},
     "output_type": "execute_result"
    }
   ],
   "source": [
    "bin(A)"
   ]
  },
  {
   "cell_type": "code",
   "execution_count": 6,
   "metadata": {},
   "outputs": [
    {
     "data": {
      "text/plain": [
       "'0b101101'"
      ]
     },
     "execution_count": 6,
     "metadata": {},
     "output_type": "execute_result"
    }
   ],
   "source": [
    "bin(B)"
   ]
  },
  {
   "cell_type": "code",
   "execution_count": 3,
   "metadata": {},
   "outputs": [
    {
     "data": {
      "text/plain": [
       "1000000000000.0"
      ]
     },
     "execution_count": 3,
     "metadata": {},
     "output_type": "execute_result"
    }
   ],
   "source": [
    "1e12"
   ]
  },
  {
   "cell_type": "code",
   "execution_count": 7,
   "metadata": {},
   "outputs": [
    {
     "data": {
      "text/plain": [
       "32000004000000"
      ]
     },
     "execution_count": 7,
     "metadata": {},
     "output_type": "execute_result"
    }
   ],
   "source": [
    "n = 8000000\n",
    "n * (n + 1) // 2"
   ]
  },
  {
   "cell_type": "code",
   "execution_count": 8,
   "metadata": {},
   "outputs": [
    {
     "name": "stdout",
     "output_type": "stream",
     "text": [
      "1414214\n"
     ]
    }
   ],
   "source": [
    "n = 1\n",
    "while True:\n",
    "    if n * (n + 1) // 2 >= 1e12:\n",
    "        break\n",
    "    n += 1\n",
    "print(n)"
   ]
  },
  {
   "cell_type": "code",
   "execution_count": 11,
   "metadata": {},
   "outputs": [
    {
     "name": "stdout",
     "output_type": "stream",
     "text": [
      "2\n",
      "10\n",
      "Case #1: 2\n",
      "125\n",
      "Case #2: 4\n"
     ]
    }
   ],
   "source": [
    "for t in range(int(input())):\n",
    "    g = int(input())\n",
    "    \n",
    "    count = 0\n",
    "    for day_count in range(0, 1414215):\n",
    "        start = 1\n",
    "        end = 1414215 - day_count\n",
    "        \n",
    "        while start <= end:\n",
    "            mid = (start + end) // 2\n",
    "            temp_result = (mid + day_count) * (mid + day_count + 1) // 2\n",
    "            to_substract = (mid - 1) * mid // 2\n",
    "            temp_result -= to_substract\n",
    "            \n",
    "            if temp_result == g:\n",
    "                count += 1\n",
    "                break\n",
    "            elif temp_result < g:\n",
    "                start = mid + 1\n",
    "            else:\n",
    "                end = mid - 1\n",
    "        \n",
    "    print(f'Case #{t + 1}: {count}')"
   ]
  },
  {
   "cell_type": "code",
   "execution_count": 3,
   "metadata": {},
   "outputs": [
    {
     "name": "stdout",
     "output_type": "stream",
     "text": [
      "ㄱ,ㄴ,ㄷ,ㄹ\n",
      "3\n",
      "['ㄱㄴㄷ', 'ㄱㄴㄹ', 'ㄱㄷㄹ', 'ㄴㄷㄹ']\n",
      "4\n"
     ]
    }
   ],
   "source": [
    "from itertools import combinations as comb\n",
    "\n",
    "li = input().split(',')\n",
    "k = int(input())\n",
    "c = comb(li, k)\n",
    "result = list(c)\n",
    "result = [''.join(v) for v in result]\n",
    "\n",
    "print(str(result))\n",
    "print(len(result))"
   ]
  }
 ],
 "metadata": {
  "kernelspec": {
   "display_name": "Python 3",
   "language": "python",
   "name": "python3"
  },
  "language_info": {
   "codemirror_mode": {
    "name": "ipython",
    "version": 3
   },
   "file_extension": ".py",
   "mimetype": "text/x-python",
   "name": "python",
   "nbconvert_exporter": "python",
   "pygments_lexer": "ipython3",
   "version": "3.7.3"
  }
 },
 "nbformat": 4,
 "nbformat_minor": 4
}
