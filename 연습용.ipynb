{
 "cells": [
  {
   "cell_type": "code",
   "execution_count": 1,
   "metadata": {},
   "outputs": [
    {
     "data": {
      "text/plain": [
       "0"
      ]
     },
     "execution_count": 1,
     "metadata": {},
     "output_type": "execute_result"
    }
   ],
   "source": [
    "0 % 5"
   ]
  },
  {
   "cell_type": "code",
   "execution_count": 2,
   "metadata": {},
   "outputs": [
    {
     "data": {
      "text/plain": [
       "4"
      ]
     },
     "execution_count": 2,
     "metadata": {},
     "output_type": "execute_result"
    }
   ],
   "source": [
    "-1 % 5"
   ]
  },
  {
   "cell_type": "code",
   "execution_count": 5,
   "metadata": {},
   "outputs": [
    {
     "data": {
      "text/plain": [
       "0"
      ]
     },
     "execution_count": 5,
     "metadata": {},
     "output_type": "execute_result"
    }
   ],
   "source": [
    "ord('A') - 65"
   ]
  },
  {
   "cell_type": "code",
   "execution_count": 6,
   "metadata": {},
   "outputs": [
    {
     "data": {
      "text/plain": [
       "25"
      ]
     },
     "execution_count": 6,
     "metadata": {},
     "output_type": "execute_result"
    }
   ],
   "source": [
    "ord('Z') - 65"
   ]
  },
  {
   "cell_type": "code",
   "execution_count": null,
   "metadata": {},
   "outputs": [],
   "source": [
    "B -> A\n"
   ]
  },
  {
   "cell_type": "code",
   "execution_count": 9,
   "metadata": {},
   "outputs": [
    {
     "data": {
      "text/plain": [
       "1"
      ]
     },
     "execution_count": 9,
     "metadata": {},
     "output_type": "execute_result"
    }
   ],
   "source": [
    "(ord('B') - ord('A')) % 26"
   ]
  },
  {
   "cell_type": "code",
   "execution_count": 10,
   "metadata": {},
   "outputs": [
    {
     "data": {
      "text/plain": [
       "25"
      ]
     },
     "execution_count": 10,
     "metadata": {},
     "output_type": "execute_result"
    }
   ],
   "source": [
    "(ord('A') - ord('B')) % 26"
   ]
  },
  {
   "cell_type": "code",
   "execution_count": 2,
   "metadata": {},
   "outputs": [],
   "source": [
    "from collections import deque\n",
    "\n",
    "deq = deque([1, 2, 3])\n",
    "deq2 = deq.copy()\n",
    "deq2.rotate(3)"
   ]
  },
  {
   "cell_type": "code",
   "execution_count": 5,
   "metadata": {},
   "outputs": [
    {
     "data": {
      "text/plain": [
       "[(5, 2), (3, 1), (4, 1)]"
      ]
     },
     "execution_count": 5,
     "metadata": {},
     "output_type": "execute_result"
    }
   ],
   "source": [
    "from collections import Counter\n",
    "\n",
    "c = Counter([3, 4, 5, 5])\n",
    "c.most_common()"
   ]
  },
  {
   "cell_type": "code",
   "execution_count": 77,
   "metadata": {},
   "outputs": [],
   "source": [
    "def solution1(tickets):\n",
    "    answer = []\n",
    "    start = 'ICN'\n",
    "    tickets.sort(reverse=True)\n",
    "    answer = dfs(start,tickets,answer,len(tickets))\n",
    "    return answer\n",
    "\n",
    "def dfs(start,tickets,answer,tickets_cnt):\n",
    "    st = []\n",
    "    answer.append(start)\n",
    "    if tickets != []:\n",
    "        for i in range(len(tickets)-1,-1,-1):\n",
    "            if tickets[i][0] == start:\n",
    "                st.append(i)\n",
    "    \n",
    "    if len(answer) <= tickets_cnt:\n",
    "        for i in st: \n",
    "            dfs(tickets[i][1], [tickets[x] for x in range(0,len(tickets)) if x != i], answer, tickets_cnt)\n",
    "            return answer\n",
    "    \n",
    "        "
   ]
  },
  {
   "cell_type": "code",
   "execution_count": 78,
   "metadata": {},
   "outputs": [],
   "source": [
    "def solution2(tickets):\n",
    "    from collections import defaultdict, deque\n",
    "    \n",
    "    total_count = len(tickets)\n",
    "    d = defaultdict(list)\n",
    "    to_s = []\n",
    "    for index, (_from, _to) in enumerate(tickets):\n",
    "        d[_from].append((index, _to))\n",
    "        to_s.append(_to)\n",
    "    \n",
    "    queue = deque()\n",
    "    queue.append(('ICN', [], [False] * total_count)) # 출발지, route, visited\n",
    "    \n",
    "    result_route = ''\n",
    "    while queue:\n",
    "        value, route, visited = queue.popleft()\n",
    "        \n",
    "        if len(route) == total_count:\n",
    "            candidate = ' '.join(map(lambda x: to_s[x], route))\n",
    "            if not result_route:\n",
    "                result_route = candidate\n",
    "            else:\n",
    "                if candidate < result_route:\n",
    "                    result_route = candidate\n",
    "            continue\n",
    "        \n",
    "        for v in d[value]:\n",
    "            new_visited = visited[:]\n",
    "            new_route = route[:]\n",
    "            if not new_visited[v[0]]:\n",
    "                new_visited[v[0]] = True\n",
    "                new_route.append(v[0])\n",
    "                queue.append((v[1], new_route, new_visited))\n",
    "\n",
    "    return ['ICN'] + result_route.split()"
   ]
  },
  {
   "cell_type": "code",
   "execution_count": 79,
   "metadata": {},
   "outputs": [
    {
     "data": {
      "text/plain": [
       "['ICN', 'AAA']"
      ]
     },
     "execution_count": 79,
     "metadata": {},
     "output_type": "execute_result"
    }
   ],
   "source": [
    "solution1(tickets)"
   ]
  },
  {
   "cell_type": "code",
   "execution_count": 80,
   "metadata": {},
   "outputs": [
    {
     "data": {
      "text/plain": [
       "['ICN', 'BBB', 'ICN', 'AAA']"
      ]
     },
     "execution_count": 80,
     "metadata": {},
     "output_type": "execute_result"
    }
   ],
   "source": [
    "solution2(tickets)"
   ]
  },
  {
   "cell_type": "code",
   "execution_count": 68,
   "metadata": {},
   "outputs": [],
   "source": [
    "tickets = [[\"ICN\", \"AAA\"], [\"ICN\", \"BBB\"], [\"BBB\", \"ICN\"]]"
   ]
  },
  {
   "cell_type": "code",
   "execution_count": 61,
   "metadata": {},
   "outputs": [],
   "source": [
    "tickets = [[\"ICN\", \"AAA\"], ['ICN', 'EEE'], ['AAA', 'BBB'], [\"EEE\", \"ZZZ\"], [\"ZZZ\", \"ICN\"], ['BBB', 'ICN']]"
   ]
  },
  {
   "cell_type": "code",
   "execution_count": 63,
   "metadata": {},
   "outputs": [],
   "source": [
    "tickets = [[\"ICN\", \"AAA\"], ['ICN', 'AAA'], ['ICN', 'AAA'], [\"AAA\", \"ICN\"]]"
   ]
  },
  {
   "cell_type": "code",
   "execution_count": 55,
   "metadata": {},
   "outputs": [],
   "source": [
    "tickets.sort(reverse=True)"
   ]
  },
  {
   "cell_type": "code",
   "execution_count": 67,
   "metadata": {},
   "outputs": [
    {
     "data": {
      "text/plain": [
       "[['ICN', 'AAA'], ['ICN', 'BBB'], ['BBB', 'ICN']]"
      ]
     },
     "execution_count": 67,
     "metadata": {},
     "output_type": "execute_result"
    }
   ],
   "source": [
    "tickets"
   ]
  },
  {
   "cell_type": "code",
   "execution_count": 8,
   "metadata": {},
   "outputs": [
    {
     "data": {
      "text/plain": [
       "1"
      ]
     },
     "execution_count": 8,
     "metadata": {},
     "output_type": "execute_result"
    }
   ],
   "source": [
    "A"
   ]
  },
  {
   "cell_type": "code",
   "execution_count": 9,
   "metadata": {},
   "outputs": [
    {
     "data": {
      "text/plain": [
       "1"
      ]
     },
     "execution_count": 9,
     "metadata": {},
     "output_type": "execute_result"
    }
   ],
   "source": [
    "B"
   ]
  },
  {
   "cell_type": "code",
   "execution_count": 5,
   "metadata": {},
   "outputs": [
    {
     "data": {
      "text/plain": [
       "'0b10101'"
      ]
     },
     "execution_count": 5,
     "metadata": {},
     "output_type": "execute_result"
    }
   ],
   "source": [
    "bin(A)"
   ]
  },
  {
   "cell_type": "code",
   "execution_count": 6,
   "metadata": {},
   "outputs": [
    {
     "data": {
      "text/plain": [
       "'0b101101'"
      ]
     },
     "execution_count": 6,
     "metadata": {},
     "output_type": "execute_result"
    }
   ],
   "source": [
    "bin(B)"
   ]
  },
  {
   "cell_type": "code",
   "execution_count": 3,
   "metadata": {},
   "outputs": [
    {
     "data": {
      "text/plain": [
       "1000000000000.0"
      ]
     },
     "execution_count": 3,
     "metadata": {},
     "output_type": "execute_result"
    }
   ],
   "source": [
    "1e12"
   ]
  },
  {
   "cell_type": "code",
   "execution_count": 7,
   "metadata": {},
   "outputs": [
    {
     "data": {
      "text/plain": [
       "32000004000000"
      ]
     },
     "execution_count": 7,
     "metadata": {},
     "output_type": "execute_result"
    }
   ],
   "source": [
    "n = 8000000\n",
    "n * (n + 1) // 2"
   ]
  },
  {
   "cell_type": "code",
   "execution_count": 8,
   "metadata": {},
   "outputs": [
    {
     "name": "stdout",
     "output_type": "stream",
     "text": [
      "1414214\n"
     ]
    }
   ],
   "source": [
    "n = 1\n",
    "while True:\n",
    "    if n * (n + 1) // 2 >= 1e12:\n",
    "        break\n",
    "    n += 1\n",
    "print(n)"
   ]
  },
  {
   "cell_type": "code",
   "execution_count": 11,
   "metadata": {},
   "outputs": [
    {
     "name": "stdout",
     "output_type": "stream",
     "text": [
      "2\n",
      "10\n",
      "Case #1: 2\n",
      "125\n",
      "Case #2: 4\n"
     ]
    }
   ],
   "source": [
    "for t in range(int(input())):\n",
    "    g = int(input())\n",
    "    \n",
    "    count = 0\n",
    "    for day_count in range(0, 1414215):\n",
    "        start = 1\n",
    "        end = 1414215 - day_count\n",
    "        \n",
    "        while start <= end:\n",
    "            mid = (start + end) // 2\n",
    "            temp_result = (mid + day_count) * (mid + day_count + 1) // 2\n",
    "            to_substract = (mid - 1) * mid // 2\n",
    "            temp_result -= to_substract\n",
    "            \n",
    "            if temp_result == g:\n",
    "                count += 1\n",
    "                break\n",
    "            elif temp_result < g:\n",
    "                start = mid + 1\n",
    "            else:\n",
    "                end = mid - 1\n",
    "        \n",
    "    print(f'Case #{t + 1}: {count}')"
   ]
  },
  {
   "cell_type": "code",
   "execution_count": 3,
   "metadata": {},
   "outputs": [
    {
     "name": "stdout",
     "output_type": "stream",
     "text": [
      "ㄱ,ㄴ,ㄷ,ㄹ\n",
      "3\n",
      "['ㄱㄴㄷ', 'ㄱㄴㄹ', 'ㄱㄷㄹ', 'ㄴㄷㄹ']\n",
      "4\n"
     ]
    }
   ],
   "source": [
    "from itertools import combinations as comb\n",
    "\n",
    "li = input().split(',')\n",
    "k = int(input())\n",
    "c = comb(li, k)\n",
    "result = list(c)\n",
    "result = [''.join(v) for v in result]\n",
    "\n",
    "print(str(result))\n",
    "print(len(result))"
   ]
  },
  {
   "cell_type": "code",
   "execution_count": 27,
   "metadata": {},
   "outputs": [
    {
     "name": "stdout",
     "output_type": "stream",
     "text": [
      "10101010101010\n",
      "7\n"
     ]
    }
   ],
   "source": [
    "s = input()\n",
    "seq = list(s)\n",
    "\n",
    "cnt = 0\n",
    "tp = [i for i in range(1, len(seq)) if seq[i] != seq[i - 1]]\n",
    "\n",
    "odd = len(tp)%2  # odd means seq[0] != seq[-1]\n",
    "seq0=0\n",
    "seq1=0\n",
    "\n",
    "if seq[0] == '0':\n",
    "    if odd:\n",
    "        seq0 = len(tp) // 2 + 1\n",
    "        seq1 = len(tp) // 2 + 1\n",
    "    else:\n",
    "        seq0 = len(tp) // 2 + 1\n",
    "        seq1 = len(tp) // 2\n",
    "else:\n",
    "    if odd:\n",
    "        seq0 = len(tp) // 2 + 1\n",
    "        seq1 = len(tp) // 2 + 1\n",
    "    else:\n",
    "        seq0 = len(tp) // 2\n",
    "        seq1 = len(tp) // 2 + 1\n",
    "\n",
    "tp = [i for i in range(1, len(seq)) if seq[i] != seq[i-1]]\n",
    "\n",
    "print(min(seq0, seq1))"
   ]
  },
  {
   "cell_type": "code",
   "execution_count": null,
   "metadata": {},
   "outputs": [],
   "source": [
    "0\n",
    "1\n",
    "01\n",
    "010\n",
    "0101\n",
    "01010\n",
    "10\n",
    "101\n",
    "1010\n",
    "10101"
   ]
  },
  {
   "cell_type": "code",
   "execution_count": 1,
   "metadata": {},
   "outputs": [
    {
     "data": {
      "text/plain": [
       "13612"
      ]
     },
     "execution_count": 1,
     "metadata": {},
     "output_type": "execute_result"
    }
   ],
   "source": [
    "332 * 41"
   ]
  },
  {
   "cell_type": "code",
   "execution_count": 2,
   "metadata": {},
   "outputs": [
    {
     "data": {
      "text/plain": [
       "13803"
      ]
     },
     "execution_count": 2,
     "metadata": {},
     "output_type": "execute_result"
    }
   ],
   "source": [
    "43 * 321"
   ]
  },
  {
   "cell_type": "code",
   "execution_count": 3,
   "metadata": {},
   "outputs": [
    {
     "data": {
      "text/plain": [
       "13902"
      ]
     },
     "execution_count": 3,
     "metadata": {},
     "output_type": "execute_result"
    }
   ],
   "source": [
    "42 * 331"
   ]
  },
  {
   "cell_type": "code",
   "execution_count": null,
   "metadata": {},
   "outputs": [],
   "source": [
    "[]"
   ]
  },
  {
   "cell_type": "code",
   "execution_count": 3,
   "metadata": {},
   "outputs": [
    {
     "name": "stdout",
     "output_type": "stream",
     "text": [
      "862567276 9743 88532\n",
      "862567276 9743 88532\n",
      "862565496 8853 97432\n",
      "862565496 8853 97432\n",
      "862488486 9742 88533\n",
      "862477296 9753 88432\n",
      "862477296 9753 88432\n",
      "862476916 8852 97433\n",
      "862475476 8843 97532\n",
      "862475476 8843 97532\n",
      "862398616 9752 88433\n",
      "862386786 8842 97533\n",
      "861779286 9733 88542\n",
      "861777528 8854 97332\n",
      "861700476 9732 88543\n",
      "861700476 9732 88543\n",
      "861590328 9754 88332\n",
      "861588486 8833 97542\n",
      "861577476 9843 87532\n",
      "861577476 9843 87532\n",
      "861577476 9843 87532\n",
      "861577476 9843 87532\n",
      "861575296 8753 98432\n",
      "861575296 8753 98432\n",
      "861575296 8753 98432\n",
      "861575296 8753 98432\n",
      "861499786 9842 87533\n",
      "861499786 9842 87533\n",
      "861499776 8832 97543\n",
      "861499776 8832 97543\n",
      "861485616 8752 98433\n",
      "861485616 8752 98433\n",
      "861467496 9853 87432\n",
      "861467496 9853 87432\n",
      "861467496 9853 87432\n",
      "861467496 9853 87432\n",
      "861465276 8743 98532\n",
      "861465276 8743 98532\n",
      "861465276 8743 98532\n",
      "861465276 8743 98532\n",
      "861389916 9852 87433\n",
      "861389916 9852 87433\n",
      "861375486 8742 98533\n",
      "861375486 8742 98533\n",
      "860800486 9833 87542\n",
      "860800486 9833 87542\n",
      "860798328 8754 98332\n",
      "860798328 8754 98332\n",
      "860722776 9832 87543\n",
      "860722776 9832 87543\n",
      "860722776 9832 87543\n",
      "860722776 9832 87543\n",
      "860569528 9854 87332\n",
      "860569528 9854 87332\n",
      "860567286 8733 98542\n",
      "860567286 8733 98542\n",
      "860477476 8732 98543\n",
      "860477476 8732 98543\n",
      "860477476 8732 98543\n",
      "860477476 8732 98543\n",
      "846769476 9543 88732\n",
      "846769476 9543 88732\n",
      "846768136 8873 95432\n",
      "846768136 8873 95432\n",
      "846690286 9542 88733\n",
      "846681576 8872 95433\n",
      "845977486 9533 88742\n",
      "845976168 8874 95332\n",
      "845898276 9532 88743\n",
      "845898276 9532 88743\n",
      "843470136 9873 85432\n",
      "843470136 9873 85432\n",
      "843470136 9873 85432\n",
      "843470136 9873 85432\n",
      "843467476 8543 98732\n",
      "843467476 8543 98732\n",
      "843467476 8543 98732\n",
      "843467476 8543 98732\n",
      "843394576 9872 85433\n",
      "843394576 9872 85433\n",
      "843377286 8542 98733\n",
      "843377286 8542 98733\n",
      "842568168 9874 85332\n",
      "842568168 9874 85332\n",
      "842565486 8533 98742\n",
      "842565486 8533 98742\n",
      "842475276 8532 98743\n",
      "842475276 8532 98743\n",
      "842475276 8532 98743\n",
      "842475276 8532 98743\n",
      "837197616 9433 88752\n",
      "837196500 8875 94332\n",
      "837118296 9432 88753\n",
      "837118296 9432 88753\n",
      "832778500 9875 84332\n",
      "832778500 9875 84332\n",
      "832775616 8433 98752\n",
      "832775616 8433 98752\n",
      "832685296 8432 98753\n",
      "832685296 8432 98753\n",
      "832685296 8432 98753\n",
      "832685296 8432 98753\n",
      "828252328 9332 88754\n",
      "822818328 8332 98754\n",
      "822818328 8332 98754\n",
      "745494456 9883 75432\n",
      "745494456 9883 75432\n",
      "745489776 7543 98832\n",
      "745489776 7543 98832\n",
      "745428906 9882 75433\n",
      "745398486 7542 98833\n",
      "744581488 9884 75332\n",
      "744576786 7533 98842\n",
      "744485476 7532 98843\n",
      "744485476 7532 98843\n",
      "734771820 9885 74332\n",
      "734766916 7433 98852\n",
      "734675496 7432 98853\n",
      "734675496 7432 98853\n",
      "724797528 7332 98854\n",
      "537180484 9887 54332\n",
      "537171576 5433 98872\n",
      "537078136 5432 98873\n",
      "537078136 5432 98873\n",
      "527196168 5332 98874\n",
      "428326500 4332 98875\n"
     ]
    }
   ],
   "source": [
    "li = [8, 6, 5, 4, 3, 2, 1]\n",
    "li = [9, 7, 5, 4, 3, 2, 1]\n",
    "li = [9, 8, 8, 7, 5, 4, 3, 3, 2]\n",
    "# li = []\n",
    "\n",
    "# li = [9, 5, 4, 3, 2, 1]\n",
    "# li = [9, 8, 7, 6, 5, 3]\n",
    "    \n",
    "n = len(li)\n",
    "s = set(range(n))\n",
    "r = []\n",
    "for i in range(n):\n",
    "    for j in range(i + 1, n):\n",
    "        for k in range(j + 1, n):\n",
    "            for l in range(k + 1, n):\n",
    "                st = {i, j, k, l}\n",
    "                other_st = set(range(n)) - st\n",
    "\n",
    "                a = [li[ii] for ii in st]\n",
    "                b = [li[ii] for ii in other_st]\n",
    "\n",
    "                a.sort(reverse=True)\n",
    "                b.sort(reverse=True)\n",
    "\n",
    "                a = int(''.join(map(str, a)))\n",
    "                b = int(''.join(map(str, b)))\n",
    "\n",
    "                r.append([a * b, a, b])\n",
    "        \n",
    "r.sort(key=lambda x: -x[0])\n",
    "for v in r:\n",
    "    print(*v)"
   ]
  },
  {
   "cell_type": "code",
   "execution_count": 46,
   "metadata": {},
   "outputs": [
    {
     "data": {
      "text/plain": [
       "([6, 3, 1], [5, 4, 2])"
      ]
     },
     "execution_count": 46,
     "metadata": {},
     "output_type": "execute_result"
    }
   ],
   "source": [
    "from collections import deque\n",
    "\n",
    "li = [8, 7, 6, 5, 4, 3, 2, 1]\n",
    "\n",
    "li.sort(reverse=True)\n",
    "deq = deque(li)\n",
    "\n",
    "a = []\n",
    "b = []\n",
    "n = len(li)\n",
    "if n % 2 == 0:\n",
    "    a.append(deq.popleft())\n",
    "    cur = 0\n",
    "else:\n",
    "    a.append(deq.popleft())  \n",
    "    cur = 1\n",
    "    \n",
    "while len(a) < n // 2:\n",
    "    if cur == 0:\n",
    "        a.append(deq.pop())\n",
    "    else:\n",
    "        b.append(deq.pop())\n",
    "    cur ^= 1\n",
    "\n",
    "while deq:\n",
    "    b.append(deq.pop())    \n",
    "\n",
    "a.sort(reverse=True)\n",
    "b.sort(reverse=True)\n"
   ]
  },
  {
   "cell_type": "code",
   "execution_count": 14,
   "metadata": {},
   "outputs": [
    {
     "name": "stdout",
     "output_type": "stream",
     "text": [
      "862567276\n"
     ]
    }
   ],
   "source": [
    "from itertools import combinations as comb\n",
    "\n",
    "nli = [9, 8, 8, 7, 5, 4, 3, 3, 2]\n",
    "\n",
    "nn = len(nli)\n",
    "\n",
    "cases = comb(range(nn), nn // 2)\n",
    "\n",
    "st = set(range(nn))\n",
    "max_value = 0\n",
    "for case in cases:\n",
    "    a = [nli[i] for i in case]\n",
    "    b = [nli[i] for i in (st - set(case))]\n",
    "    \n",
    "    aa = int(''.join(map(str, a)))\n",
    "    bb = int(''.join(map(str, b)))\n",
    "    \n",
    "    max_value = max(max_value, aa * bb)\n",
    "    \n",
    "print(max_value * (10 ** c0))"
   ]
  },
  {
   "cell_type": "code",
   "execution_count": 18,
   "metadata": {},
   "outputs": [
    {
     "name": "stdout",
     "output_type": "stream",
     "text": [
      "1\n",
      "999999999999999999\n",
      "999999998000000001\n"
     ]
    }
   ],
   "source": [
    "from itertools import combinations as comb\n",
    "\n",
    "for _ in range(int(input())):\n",
    "    li = list(map(int, input()))\n",
    "    n = len(li)\n",
    "\n",
    "    nli = []\n",
    "    c0 = 0\n",
    "    for v in li:\n",
    "        if v == 0:\n",
    "            c0 += 1\n",
    "        elif v == 6:\n",
    "            nli.append(9)\n",
    "        else:\n",
    "            nli.append(v)\n",
    "\n",
    "    nli.sort(reverse=True)\n",
    "    nn = len(nli)\n",
    "\n",
    "    if c0 >= n - 1:\n",
    "        print(0)\n",
    "    else:\n",
    "        cases = comb(range(nn), nn // 2)\n",
    "\n",
    "        st = set(range(nn))\n",
    "        max_value = 0\n",
    "        for case in cases:\n",
    "            a = [nli[i] for i in case]\n",
    "            b = [nli[i] for i in (st - set(case))]\n",
    "\n",
    "            aa = int(''.join(map(str, a)))\n",
    "            bb = int(''.join(map(str, b)))\n",
    "            max_value = max(max_value, aa * bb)\n",
    "\n",
    "        print(max_value * (10 ** c0))"
   ]
  },
  {
   "cell_type": "code",
   "execution_count": 8,
   "metadata": {},
   "outputs": [
    {
     "name": "stdout",
     "output_type": "stream",
     "text": [
      "6\n"
     ]
    }
   ],
   "source": [
    "h, w, n, m = map(int, input().split())\n",
    "\n",
    "cw = 0\n",
    "for i in range(0, w, m + 1):\n",
    "    cw += 1\n",
    "\n",
    "ch = 0\n",
    "for i in range(0, h, n + 1):\n",
    "    ch += 1\n",
    "\n",
    "print(cw * ch)"
   ]
  },
  {
   "cell_type": "code",
   "execution_count": 32,
   "metadata": {},
   "outputs": [
    {
     "name": "stdout",
     "output_type": "stream",
     "text": [
      "36 3\n",
      "54\n"
     ]
    }
   ],
   "source": [
    "k, n = map(int, input().split())\n",
    "\n",
    "if n == 1:\n",
    "    print(-1)\n",
    "else:\n",
    "    cri = k * n // (n - 1)\n",
    "\n",
    "    print(cri)"
   ]
  },
  {
   "cell_type": "code",
   "execution_count": 3,
   "metadata": {},
   "outputs": [
    {
     "name": "stdout",
     "output_type": "stream",
     "text": [
      "4 1\n",
      "3 3\n",
      "2 2\n",
      "NO\n"
     ]
    }
   ],
   "source": [
    "n, m = map(int, input().split())\n",
    "sx, sy = map(int, input().split())\n",
    "ex, ey = map(int, input().split())\n",
    "\n",
    "if (sx == ex and sy == ey):\n",
    "    print('YES')\n",
    "elif n == 1 or m == 1:\n",
    "    print('NO')\n",
    "else:\n",
    "    if (sx + sy) % 2 == (ex + ey) % 2:\n",
    "        print('YES')\n",
    "    else:\n",
    "        print('NO')"
   ]
  },
  {
   "cell_type": "code",
   "execution_count": 9,
   "metadata": {},
   "outputs": [
    {
     "name": "stdout",
     "output_type": "stream",
     "text": [
      "2\n"
     ]
    }
   ],
   "source": [
    "from collections import Counter, deque\n",
    "\n",
    "p = [3, 2, 1, 4, 5]\n",
    "n = len(p)\n",
    "\n",
    "li = [(value, count) for value, count in Counter(p).items()]\n",
    "li.sort(key=lambda x: x[0])\n",
    "\n",
    "deq = deque(li)\n",
    "total = 0\n",
    "while len(deq) >= 2:\n",
    "    v1, c1 = deq.popleft()\n",
    "    v2, c2 = deq.popleft()\n",
    "    \n",
    "    used = min(c1, c2)\n",
    "    total += used\n",
    "    \n",
    "    c1 -= used\n",
    "    c2 -= used\n",
    "    if c1:\n",
    "        deq.append((v1, c1))\n",
    "    elif c2:\n",
    "        deq.append((v1, c2))\n",
    "        \n",
    "print(total)"
   ]
  },
  {
   "cell_type": "code",
   "execution_count": 10,
   "metadata": {},
   "outputs": [
    {
     "data": {
      "text/plain": [
       "deque([(5, 1)])"
      ]
     },
     "execution_count": 10,
     "metadata": {},
     "output_type": "execute_result"
    }
   ],
   "source": [
    "1 2 3 4 5 1 2 3 4 5"
   ]
  },
  {
   "cell_type": "code",
   "execution_count": 21,
   "metadata": {},
   "outputs": [
    {
     "name": "stdout",
     "output_type": "stream",
     "text": [
      "7\n"
     ]
    }
   ],
   "source": [
    "li = [103, 101, 103, 103, 101, 102, 100, 100, 101, 104]\n",
    "n = len(li)\n",
    "\n",
    "bigger_count = 0\n",
    "cont = 0\n",
    "fv = -1\n",
    "total = 0\n",
    "\n",
    "li.sort(reverse=True)\n",
    "\n",
    "for i in range(n):\n",
    "    if li[i] != fv:\n",
    "        total += min(bigger_count, cont)\n",
    "        \n",
    "        bigger_count = i\n",
    "        fv = li[i]\n",
    "        cont = 1\n",
    "    else:\n",
    "        cont += 1\n",
    "        \n",
    "total += min(bigger_count, cont)\n",
    "\n",
    "print(total)"
   ]
  },
  {
   "cell_type": "code",
   "execution_count": null,
   "metadata": {},
   "outputs": [],
   "source": []
  },
  {
   "cell_type": "code",
   "execution_count": 17,
   "metadata": {},
   "outputs": [
    {
     "data": {
      "text/plain": [
       "[100, 100, 101, 101, 101, 102, 103, 103, 103, 104]"
      ]
     },
     "execution_count": 17,
     "metadata": {},
     "output_type": "execute_result"
    }
   ],
   "source": [
    "li.sort()\n",
    "li"
   ]
  },
  {
   "cell_type": "code",
   "execution_count": null,
   "metadata": {},
   "outputs": [],
   "source": [
    "100 101 102 103 104 100 101 103 101 103\n",
    "\n",
    "100 2 완료\n",
    "101 3 완료\n",
    "102 1 완료\n",
    "103 1"
   ]
  },
  {
   "cell_type": "markdown",
   "metadata": {},
   "source": [
    "A"
   ]
  },
  {
   "cell_type": "code",
   "execution_count": 4,
   "metadata": {},
   "outputs": [
    {
     "name": "stdout",
     "output_type": "stream",
     "text": [
      "13\n"
     ]
    }
   ],
   "source": [
    "skills = [5, 8, 3, 1]\n",
    "team = [4, 3]\n",
    "k = 2\n",
    "\n",
    "skills_len = len(skills)\n",
    "team_len = len(team)\n",
    "team_st = set(team)\n",
    "in_team_c = 0\n",
    "cur = 0\n",
    "for i in range(k):\n",
    "    cur += skills[i]\n",
    "    if i + 1 in team_st:\n",
    "        in_team_c += 1\n",
    "    \n",
    "max_r = cur * (1 + (in_team_c == team_len))\n",
    "for i in range(k, skills_len):\n",
    "    cur -= skills[i - k]\n",
    "    if i - k + 1 in team_st:\n",
    "        in_team_c -= 1\n",
    "\n",
    "    cur += skills[i]\n",
    "    if i + 1 in team_st:\n",
    "        in_team_c += 1\n",
    "        \n",
    "    max_r = max(max_r, cur * (1 + (in_team_c == team_len)))\n",
    "    \n",
    "print(max_r)"
   ]
  },
  {
   "cell_type": "markdown",
   "metadata": {},
   "source": [
    "B"
   ]
  },
  {
   "cell_type": "code",
   "execution_count": 7,
   "metadata": {},
   "outputs": [
    {
     "name": "stdout",
     "output_type": "stream",
     "text": [
      "4\n"
     ]
    }
   ],
   "source": [
    "m = 20\n",
    "load = [16, 15, 9, 17, 1, 3]\n",
    "load.sort()\n",
    "\n",
    "if load[-1] > m:\n",
    "    print(-1)\n",
    "else:\n",
    "    total = 0\n",
    "    while load:\n",
    "        total += 1\n",
    "        cur_m = m\n",
    "        for i in range(len(load) - 1, -1, -1):\n",
    "            if load[i] <= cur_m:\n",
    "                cur_m -= load[i]\n",
    "                del load[i]\n",
    "                \n",
    "    print(total)"
   ]
  },
  {
   "cell_type": "markdown",
   "metadata": {},
   "source": [
    "C"
   ]
  },
  {
   "cell_type": "code",
   "execution_count": 8,
   "metadata": {},
   "outputs": [
    {
     "data": {
      "text/plain": [
       "49252500"
      ]
     },
     "execution_count": 8,
     "metadata": {},
     "output_type": "execute_result"
    }
   ],
   "source": [
    "def get_sum(num):\n",
    "    return num * (num - 1) // 2\n",
    "\n",
    "50 * 50 * get_sum(199)"
   ]
  },
  {
   "cell_type": "code",
   "execution_count": null,
   "metadata": {},
   "outputs": [],
   "source": [
    "d[(송금 대상 유저, 송금 금액)][송금한 유저] = [시간들]"
   ]
  },
  {
   "cell_type": "code",
   "execution_count": 36,
   "metadata": {},
   "outputs": [
    {
     "name": "stdout",
     "output_type": "stream",
     "text": [
      "3 3 2 2\n"
     ]
    }
   ],
   "source": [
    "from datetime import datetime\n",
    "from collections import defaultdict as dd, deque\n",
    "\n",
    "def to_total_sec(tm):\n",
    "    return int(datetime.strptime(tm, '%Y-%m-%d %H:%M:%S').timestamp())\n",
    "\n",
    "n = 4\n",
    "m = 6\n",
    "li = [\n",
    "    [0, 3, 1000000, '2020-07-28 07:29:59'],\n",
    "    [1, 3, 1000000, '2020-07-28 07:32:11'],\n",
    "    [0, 3, 1100000, '2020-08-01 02:04:30'],\n",
    "    [2, 3, 1100000, '2020-08-01 02:14:05'],\n",
    "    [3, 2, 1300000, '2021-11-14 22:10:20'],\n",
    "    [1, 2, 1300000, '2021-11-14 22:13:11']\n",
    "]\n",
    "\n",
    "for i in range(m):\n",
    "    li[i][3] = to_total_sec(li[i][3])\n",
    "    \n",
    "c_info = set() # connected info\n",
    "d = dd(lambda: dd(list))\n",
    "for from_, to_, amount, tm in li:\n",
    "    d[(to_, amount)][from_].append(tm)\n",
    "    \n",
    "for key in d:\n",
    "    for nkey in d[key]:\n",
    "        d[key][nkey].sort()\n",
    "        \n",
    "    nkeys = list(d[key].keys())\n",
    "    nkeys_len = len(nkeys)\n",
    "    \n",
    "    for ai in range(nkeys_len):\n",
    "        for bi in range(ai + 1, nkeys_len):\n",
    "            a = nkeys[ai]\n",
    "            b = nkeys[bi]\n",
    "            \n",
    "            if a > b:\n",
    "                a, b = b, a\n",
    "            if (a, b) in c_info:\n",
    "                continue\n",
    "            \n",
    "            tm1 = d[key][a]\n",
    "            tm2 = d[key][b]\n",
    "            \n",
    "            tm1_len = len(tm1)\n",
    "            tm2_len = len(tm2)\n",
    "\n",
    "            tm1i = 0\n",
    "            tm2i = 0\n",
    "            is_connected = False\n",
    "            while True:\n",
    "                tm1v = tm1[tm1i]\n",
    "                tm2v = tm2[tm2i]\n",
    "\n",
    "                if abs(tm1v - tm2v) <= 600:\n",
    "                    is_connected = True\n",
    "                    break\n",
    "\n",
    "                if tm1v < tm2v:\n",
    "                    tm1i += 1\n",
    "                    if tm1i >= tm1_len:\n",
    "                        break\n",
    "                else:\n",
    "                    tm2i += 1\n",
    "                    if tm2i >= tm2_len:\n",
    "                        break\n",
    "                        \n",
    "            if is_connected:\n",
    "                c_info.add((a, b))\n",
    "                \n",
    "graph = [[] for _ in range(n)]\n",
    "for u, v in c_info:\n",
    "    graph[u].append(v)\n",
    "    graph[v].append(u)\n",
    "    \n",
    "result = [0] * n\n",
    "for value in range(n):\n",
    "    vt = {value}\n",
    "    queue = deque()\n",
    "    for v in graph[value]:\n",
    "        queue.append(v)\n",
    "        vt.add(v)\n",
    "    \n",
    "    for _ in range(len(queue)):\n",
    "        v = queue.popleft()\n",
    "        for vv in graph[v]:\n",
    "            if vv not in vt:\n",
    "                vt.add(vv)\n",
    "            \n",
    "    result[value] = len(vt) - 1\n",
    "    \n",
    "print(*result)"
   ]
  },
  {
   "cell_type": "code",
   "execution_count": null,
   "metadata": {},
   "outputs": [],
   "source": [
    "0, 1\n",
    "0, 2\n",
    "1, 3"
   ]
  },
  {
   "cell_type": "code",
   "execution_count": null,
   "metadata": {},
   "outputs": [],
   "source": [
    "(0, 1) (0, 2) (1, 3)"
   ]
  }
 ],
 "metadata": {
  "kernelspec": {
   "display_name": "Python 3",
   "language": "python",
   "name": "python3"
  },
  "language_info": {
   "codemirror_mode": {
    "name": "ipython",
    "version": 3
   },
   "file_extension": ".py",
   "mimetype": "text/x-python",
   "name": "python",
   "nbconvert_exporter": "python",
   "pygments_lexer": "ipython3",
   "version": "3.7.4"
  }
 },
 "nbformat": 4,
 "nbformat_minor": 4
}
