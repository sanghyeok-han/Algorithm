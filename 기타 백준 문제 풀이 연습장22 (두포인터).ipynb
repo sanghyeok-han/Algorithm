{
 "cells": [
  {
   "cell_type": "markdown",
   "metadata": {},
   "source": [
    "### 부분합"
   ]
  },
  {
   "cell_type": "code",
   "execution_count": 15,
   "metadata": {},
   "outputs": [
    {
     "name": "stdout",
     "output_type": "stream",
     "text": [
      "5 5\n",
      "1 1 1 1 1\n",
      "5\n"
     ]
    }
   ],
   "source": [
    "n, s = map(int, input().split())\n",
    "li = list(map(int, input().split()))\n",
    "\n",
    "start = end = 0\n",
    "current_sum = li[start]\n",
    "min_length = float('inf')\n",
    "while start <= end:\n",
    "    if current_sum >= s:\n",
    "        min_length = min(min_length, end - start + 1)\n",
    "        current_sum -= li[start]\n",
    "        start += 1\n",
    "    else:\n",
    "        end += 1\n",
    "        if end >= n:\n",
    "            break\n",
    "        \n",
    "        current_sum += li[end]\n",
    "        \n",
    "if min_length == float('inf'):\n",
    "    print(0)\n",
    "else:\n",
    "    print(min_length)"
   ]
  },
  {
   "cell_type": "markdown",
   "metadata": {},
   "source": [
    "### 두 수의 합"
   ]
  },
  {
   "cell_type": "code",
   "execution_count": 28,
   "metadata": {},
   "outputs": [
    {
     "name": "stdout",
     "output_type": "stream",
     "text": [
      "4 20\n",
      "1 7 3 5\n",
      "1\n"
     ]
    }
   ],
   "source": [
    "for _ in range(int(input())):\n",
    "    n, k = map(int, input().split())\n",
    "    li = list(map(int, input().split()))\n",
    "    li.sort()\n",
    "\n",
    "    def get_distance(start, end):\n",
    "        return abs(li[start] + li[end] - k)\n",
    "\n",
    "    start = 0\n",
    "    end = n - 1\n",
    "    min_d = float('inf')\n",
    "    min_d_count = 0\n",
    "\n",
    "    while start < end:\n",
    "        sum_value = li[start] + li[end]\n",
    "        d = get_distance(start, end)\n",
    "\n",
    "        if sum_value == k:\n",
    "            start += 1\n",
    "            end -= 1\n",
    "        elif sum_value < k:\n",
    "            start += 1\n",
    "        else:\n",
    "            end -= 1 \n",
    "\n",
    "        if d <= min_d:\n",
    "            if d == min_d:\n",
    "                min_d_count += 1\n",
    "            else:\n",
    "                min_d = d\n",
    "                min_d_count = 1\n",
    "\n",
    "    print(min_d_count)"
   ]
  },
  {
   "cell_type": "markdown",
   "metadata": {},
   "source": [
    "### 두 용액 2470"
   ]
  },
  {
   "cell_type": "code",
   "execution_count": 51,
   "metadata": {},
   "outputs": [
    {
     "name": "stdout",
     "output_type": "stream",
     "text": [
      "5\n",
      "-99 -2 -1 4 98\n",
      "-99 98\n"
     ]
    }
   ],
   "source": [
    "n = int(input())\n",
    "li = list(map(int, input().split()))\n",
    "li.sort()\n",
    "\n",
    "start = 0\n",
    "end = n - 1\n",
    "closest_d = float('inf')\n",
    "num1 = num2 = float('inf')\n",
    "while start < end:\n",
    "    sum_value = li[start] + li[end]\n",
    "    d = abs(sum_value)\n",
    "    \n",
    "    if d < closest_d:\n",
    "        closest_d = d\n",
    "        num1 = li[start]\n",
    "        num2 = li[end]\n",
    "    \n",
    "    if sum_value == 0:\n",
    "        start += 1\n",
    "        end -= 1\n",
    "    elif sum_value < 0:\n",
    "        start += 1\n",
    "    else:\n",
    "        end -= 1\n",
    "        \n",
    "print(num1, num2)"
   ]
  },
  {
   "cell_type": "markdown",
   "metadata": {},
   "source": [
    "### 용액 합성하기 14921"
   ]
  },
  {
   "cell_type": "code",
   "execution_count": 41,
   "metadata": {},
   "outputs": [
    {
     "name": "stdout",
     "output_type": "stream",
     "text": [
      "5\n",
      "-101 -3 -1 5 93\n",
      "2\n"
     ]
    }
   ],
   "source": [
    "n = int(input())\n",
    "li = list(map(int, input().split()))\n",
    "li.sort()\n",
    "\n",
    "closest_num = float('inf')\n",
    "result = float('inf')\n",
    "start = 0\n",
    "end = n - 1\n",
    "while start < end:\n",
    "    sum_value = li[start] + li[end]\n",
    "    d = abs(sum_value)\n",
    "    if d < closest_num:\n",
    "        closest_num = d\n",
    "        result = sum_value\n",
    "    \n",
    "    if sum_value == 0:\n",
    "        start += 1\n",
    "        end -= 1\n",
    "    elif sum_value < 0:\n",
    "        start += 1\n",
    "    else:\n",
    "        end -= 1\n",
    "        \n",
    "print(result)"
   ]
  },
  {
   "cell_type": "markdown",
   "metadata": {},
   "source": [
    "### 수 고르기"
   ]
  },
  {
   "cell_type": "code",
   "execution_count": 49,
   "metadata": {},
   "outputs": [
    {
     "name": "stdout",
     "output_type": "stream",
     "text": [
      "3 3\n",
      "1\n",
      "5\n",
      "3\n",
      "4\n"
     ]
    }
   ],
   "source": [
    "import sys\n",
    "# input = sys.stdin.readline\n",
    "\n",
    "n, m = map(int, input().rstrip().split())\n",
    "li = [int(input().rstrip()) for _ in range(n)]\n",
    "li.sort()\n",
    "\n",
    "start = 0\n",
    "end = 0\n",
    "min_possible_num = float('inf')\n",
    "while start <= end:\n",
    "    diff = li[end] - li[start]\n",
    "    if m <= diff < min_possible_num:\n",
    "        min_possible_num = diff\n",
    "        \n",
    "    if diff >= m:\n",
    "        start += 1\n",
    "    else:\n",
    "        end += 1\n",
    "        if end >= n:\n",
    "            break\n",
    "        \n",
    "print(min_possible_num)"
   ]
  },
  {
   "cell_type": "markdown",
   "metadata": {},
   "source": [
    "### 용액 2467"
   ]
  },
  {
   "cell_type": "code",
   "execution_count": 53,
   "metadata": {},
   "outputs": [
    {
     "name": "stdout",
     "output_type": "stream",
     "text": [
      "5\n",
      "-99 -2 -1 4 98\n",
      "-99 98\n"
     ]
    }
   ],
   "source": [
    "n = int(input())\n",
    "li = list(map(int, input().split()))\n",
    "\n",
    "start = 0\n",
    "end = n - 1\n",
    "closest_d = float('inf')\n",
    "num1 = num2 = float('inf')\n",
    "while start < end:\n",
    "    sum_value = li[start] + li[end]\n",
    "    d = abs(sum_value)\n",
    "    \n",
    "    if d < closest_d:\n",
    "        closest_d = d\n",
    "        num1 = li[start]\n",
    "        num2 = li[end]\n",
    "    \n",
    "    if sum_value == 0:\n",
    "        start += 1\n",
    "        end -= 1\n",
    "    elif sum_value < 0:\n",
    "        start += 1\n",
    "    else:\n",
    "        end -= 1\n",
    "        \n",
    "print(num1, num2)"
   ]
  },
  {
   "cell_type": "markdown",
   "metadata": {},
   "source": [
    "### 수들의 합 5 2018"
   ]
  },
  {
   "cell_type": "code",
   "execution_count": null,
   "metadata": {},
   "outputs": [],
   "source": [
    "n = int(input())\n",
    "\n",
    "def get_sum(i, j):\n",
    "    sum_1 = (i - 1) * i // 2\n",
    "    sum_2 = j * (j + 1) // 2\n",
    "    return sum_2 - sum_1\n",
    "\n",
    "i = 1\n",
    "j = 1\n",
    "count = 0\n",
    "while i <= j <= n:\n",
    "    sum_value = get_sum(i, j)\n",
    "    if sum_value <= n:\n",
    "        if sum_value == n:\n",
    "            count += 1\n",
    "        j += 1\n",
    "    else:\n",
    "        i += 1\n",
    "        \n",
    "print(count)"
   ]
  }
 ],
 "metadata": {
  "kernelspec": {
   "display_name": "Python 3",
   "language": "python",
   "name": "python3"
  },
  "language_info": {
   "codemirror_mode": {
    "name": "ipython",
    "version": 3
   },
   "file_extension": ".py",
   "mimetype": "text/x-python",
   "name": "python",
   "nbconvert_exporter": "python",
   "pygments_lexer": "ipython3",
   "version": "3.7.3"
  }
 },
 "nbformat": 4,
 "nbformat_minor": 4
}
