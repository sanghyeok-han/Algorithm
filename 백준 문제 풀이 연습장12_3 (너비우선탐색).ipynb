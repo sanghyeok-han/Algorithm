{
 "cells": [
  {
   "cell_type": "markdown",
   "metadata": {},
   "source": [
    "### 열쇠 9328"
   ]
  },
  {
   "cell_type": "raw",
   "metadata": {},
   "source": [
    "먼저 모든 공간을 순회하면서\n",
    "  문서를 만나는 경우 1부터 차례대로 번호를 매김\n",
    "  가장자리에서 열쇠 가진 door 또는 빈 칸을 만나면 queue에 추가해줌\n",
    "  \n",
    "keys는 전역으로 관리함\n",
    "visited에는 keys를 넣음\n",
    "queue는 (x, y)처럼 관리함\n",
    "queue에서 돌면서\n",
    "  키를 발견하면 키를 습득하고 found_door_locs에서 해당 키로 열 수 있는 모든 door들을 추가해줌\n",
    "  문 발견하면 found_door_locs에 추가해줌 또한\n",
    "    키가 있을 시 해당 door로 연결되는 다른 모든 door들을 추가해줌\n",
    "    키가 없을 시 continue\n",
    "  (nx, ny)를 queue에 추가해줌"
   ]
  },
  {
   "cell_type": "code",
   "execution_count": null,
   "metadata": {},
   "outputs": [],
   "source": [
    "all_keys = (1 << len(lowers)) - 1"
   ]
  },
  {
   "cell_type": "code",
   "execution_count": 2,
   "metadata": {},
   "outputs": [
    {
     "name": "stdout",
     "output_type": "stream",
     "text": [
      "1\n",
      "1 6\n",
      "A$*a..\n",
      "0\n",
      "1\n"
     ]
    }
   ],
   "source": [
    "from collections import deque\n",
    "import sys\n",
    "# input = lambda: sys.stdin.readline().rstrip()\n",
    "\n",
    "lowers = 'abcdefghijklmnopqrstuvwxyz'\n",
    "uppers = lowers.upper()\n",
    "d = {v: 1 << lowers.index(v) for v in lowers}\n",
    "    \n",
    "for _ in range(int(input())):\n",
    "    n, m = map(int, input().split())\n",
    "    li = [list(input()) for _ in range(n)]\n",
    "    given = set(input())\n",
    "    \n",
    "    keys = 0\n",
    "    if given != {'0'}:\n",
    "        for key in given:\n",
    "            keys |= d[key]\n",
    "\n",
    "    found_door_locs = {v: set() for v in uppers}\n",
    "    queue = deque()\n",
    "    docu_num = '1'\n",
    "    collected = set()\n",
    "    for i in range(n):\n",
    "        for j in range(m):\n",
    "            if li[i][j] == '$':\n",
    "                li[i][j] = docu_num\n",
    "                docu_num = int(docu_num)\n",
    "                docu_num += 1\n",
    "                docu_num = str(docu_num)\n",
    "            \n",
    "            if i == 0 or i == n - 1 or j == 0 or j == m - 1:\n",
    "                if li[i][j] == '.' or li[i][j].isdigit() or li[i][j].islower():\n",
    "                    queue.append((i, j))\n",
    "                    if li[i][j].isdigit():\n",
    "                        collected.add(li[i][j])\n",
    "                    elif li[i][j].islower():\n",
    "                        keys |= d[li[i][j]]\n",
    "                elif li[i][j].isupper():\n",
    "                    found_door_locs[li[i][j]].add((i, j))\n",
    "                    if li[i][j].lower() in given:\n",
    "                        queue.append((i, j))\n",
    "\n",
    "    visited = [[set() for _ in range(m)] for _ in range(n)]\n",
    "    for x, y in queue:\n",
    "        visited[x][y].add(keys)\n",
    "\n",
    "    dx = [-1, 1, 0, 0]\n",
    "    dy = [0, 0, -1, 1]\n",
    "\n",
    "    while queue:\n",
    "        x, y = queue.popleft()\n",
    "        for i in range(4):\n",
    "            nx = x + dx[i]\n",
    "            ny = y + dy[i]\n",
    "\n",
    "            if nx < 0 or nx >= n or ny < 0 or ny >= m:\n",
    "                continue\n",
    "            if li[nx][ny] == '*':\n",
    "                continue\n",
    "            if keys in visited[nx][ny]:\n",
    "                continue        \n",
    "            visited[nx][ny].add(keys)\n",
    "\n",
    "            if li[nx][ny].isdigit():\n",
    "                collected.add(li[nx][ny])\n",
    "            elif li[nx][ny].isupper():\n",
    "                found_door_locs[li[nx][ny]].add((nx, ny))\n",
    "                if not (d[li[nx][ny].lower()] & keys):\n",
    "                    continue\n",
    "            elif li[nx][ny].islower():\n",
    "                keys |= d[li[nx][ny]]\n",
    "                queue.extend(found_door_locs[li[nx][ny].upper()])\n",
    "            queue.append((nx, ny))\n",
    "\n",
    "    print(len(collected))"
   ]
  },
  {
   "cell_type": "markdown",
   "metadata": {},
   "source": [
    "### 그대, 그머가 되어 14496"
   ]
  },
  {
   "cell_type": "code",
   "execution_count": 4,
   "metadata": {},
   "outputs": [
    {
     "name": "stdout",
     "output_type": "stream",
     "text": [
      "2 3\n",
      "3 3\n",
      "1 2\n",
      "1 3\n",
      "3 2\n",
      "1\n"
     ]
    }
   ],
   "source": [
    "from collections import deque\n",
    "import sys\n",
    "# input = lambda: sys.stdin.readline().rstrip()\n",
    "\n",
    "s, e = map(int, input().split())\n",
    "n, m = map(int, input().split())\n",
    "li = [[] for _ in range(n + 1)]\n",
    "for _ in range(m):\n",
    "    a, b = map(int, input().split())\n",
    "    li[a].append(b)\n",
    "    li[b].append(a)\n",
    "\n",
    "def bfs():    \n",
    "    dists = [float('inf')] * (n + 1)\n",
    "    dists[s] = 0\n",
    "    queue = deque()\n",
    "    queue.append(s)\n",
    "    while queue:\n",
    "        value = queue.popleft()\n",
    "        if value == e:\n",
    "            return dists[value]\n",
    "        \n",
    "        for v in li[value]:\n",
    "            if dists[v] == float('inf'):\n",
    "                dists[v] = dists[value] + 1\n",
    "                queue.append(v)\n",
    "    return -1\n",
    "\n",
    "print(bfs())"
   ]
  },
  {
   "cell_type": "markdown",
   "metadata": {},
   "source": [
    "### 현수막 14716"
   ]
  },
  {
   "cell_type": "code",
   "execution_count": 8,
   "metadata": {},
   "outputs": [
    {
     "name": "stdout",
     "output_type": "stream",
     "text": [
      "8 19\n",
      "3\n"
     ]
    }
   ],
   "source": [
    "from collections import deque\n",
    "\n",
    "n, m = map(int, input().split())\n",
    "li = [list(map(int, input().split())) for _ in range(n)]\n",
    "\n",
    "dx = [-1, 0, 1, -1, 1, -1, 0, 1]\n",
    "dy = [-1, -1, -1, 0, 0, 1, 1, 1]\n",
    "\n",
    "count = 0\n",
    "visited = [[False] * m for _ in range(n)]\n",
    "for i in range(n):\n",
    "    for j in range(m):\n",
    "        if li[i][j] == 0:\n",
    "            continue\n",
    "        if visited[i][j]:\n",
    "            continue\n",
    "        visited[i][j] = True\n",
    "        count += 1\n",
    "        \n",
    "        queue = deque()\n",
    "        queue.append((i, j))\n",
    "        while queue:\n",
    "            x, y = queue.popleft()\n",
    "            for k in range(8):\n",
    "                nx = x + dx[k]\n",
    "                ny = y + dy[k]\n",
    "                if nx < 0 or nx >= n or ny < 0 or ny >= m:\n",
    "                    continue\n",
    "                if li[nx][ny] == 0:\n",
    "                    continue\n",
    "                if visited[nx][ny]:\n",
    "                    continue\n",
    "                visited[nx][ny] = True\n",
    "                queue.append((nx, ny))\n",
    "                \n",
    "print(count)"
   ]
  },
  {
   "cell_type": "markdown",
   "metadata": {},
   "source": [
    "### 점프 게임 15558"
   ]
  },
  {
   "cell_type": "code",
   "execution_count": 15,
   "metadata": {},
   "outputs": [
    {
     "name": "stdout",
     "output_type": "stream",
     "text": [
      "6 2\n",
      "110101\n",
      "011001\n",
      "0\n"
     ]
    }
   ],
   "source": [
    "from collections import deque\n",
    "\n",
    "n, k = map(int, input().split())\n",
    "li = [list(map(int, input())), list(map(int, input()))]\n",
    "\n",
    "def bfs():\n",
    "    visited = [[False] * n for _ in range(2)]\n",
    "    visited[0][0] = True\n",
    "    queue = deque()\n",
    "    queue.append((0, 0))\n",
    "    t = 0\n",
    "    while queue:\n",
    "        for _ in range(len(queue)):\n",
    "            is_on_right, x = queue.popleft()\n",
    "\n",
    "            dr = [0, 0, 1]\n",
    "            dx = [-1, 1, k]\n",
    "            for i in range(3):\n",
    "                nr = is_on_right ^ dr[i]\n",
    "                nx = x + dx[i]\n",
    "\n",
    "                if nx <= t:\n",
    "                    continue\n",
    "                if nx >= n:\n",
    "                    return 1\n",
    "\n",
    "                if li[nr][nx] == 0:\n",
    "                    continue\n",
    "                if visited[nr][nx]:\n",
    "                    continue\n",
    "                visited[nr][nx] = True\n",
    "                queue.append((nr, nx))\n",
    "        t += 1\n",
    "    return 0\n",
    "          \n",
    "print(bfs())"
   ]
  },
  {
   "cell_type": "markdown",
   "metadata": {},
   "source": [
    "### 4연산 14395"
   ]
  },
  {
   "cell_type": "code",
   "execution_count": 45,
   "metadata": {},
   "outputs": [
    {
     "name": "stdout",
     "output_type": "stream",
     "text": [
      "10 1\n",
      "/\n"
     ]
    }
   ],
   "source": [
    "# 맞았음\n",
    "from collections import deque\n",
    "\n",
    "def dfs(value, route):\n",
    "    global result_route\n",
    "    \n",
    "    if value == t:\n",
    "        if not result_route or len(route) < len(result_route):\n",
    "            result_route = route[:]\n",
    "        return\n",
    "    \n",
    "    dx = [lambda x: x * x, lambda x: x * 2]\n",
    "    dr = ['*', '+']\n",
    "    \n",
    "    for i in range(2):\n",
    "        v = dx[i](value)\n",
    "        if v > t:\n",
    "            continue\n",
    "        if v in st:\n",
    "            continue\n",
    "        route.append(dr[i])\n",
    "        dfs(v, route)\n",
    "        route.pop()\n",
    "        \n",
    "s, t = map(int, input().split())\n",
    "\n",
    "if s == t:\n",
    "    print(0)\n",
    "else:\n",
    "    is_ended = False\n",
    "    result_route = []\n",
    "    st = {s, 0, 1}\n",
    "    dfs(s, [])\n",
    "    dfs(0, ['-'])\n",
    "    dfs(1, ['/'])\n",
    "    \n",
    "    if result_route:\n",
    "        print(''.join(result_route))\n",
    "    else:\n",
    "        print(-1)"
   ]
  },
  {
   "cell_type": "code",
   "execution_count": 64,
   "metadata": {},
   "outputs": [
    {
     "name": "stdout",
     "output_type": "stream",
     "text": [
      "7 392\n",
      "+*+\n"
     ]
    }
   ],
   "source": [
    "# 맞았음\n",
    "from collections import deque\n",
    "\n",
    "def bfs():\n",
    "    st = {s, 0, 1}\n",
    "    \n",
    "    dx = [lambda x: x * x, lambda x: x * 2]\n",
    "    dr = ['*', '+']\n",
    "    \n",
    "    queue = deque()\n",
    "    queue.extend([(s * s, ['*']), (s + s, ['+']), (0, ['-']), (1, ['/'])])\n",
    "    \n",
    "    while queue:\n",
    "        value, route = queue.popleft()\n",
    "        if value == t:\n",
    "            return route\n",
    "        \n",
    "        for i in range(2):\n",
    "            v = dx[i](value)\n",
    "            if v > t:\n",
    "                continue\n",
    "            if v in st:\n",
    "                continue\n",
    "\n",
    "            nroute = route[:]\n",
    "            nroute.append(dr[i])\n",
    "            queue.append((v, nroute))\n",
    "    \n",
    "    return []\n",
    "    \n",
    "\n",
    "s, t = map(int, input().split())\n",
    "        \n",
    "if s == t:\n",
    "    print(0)\n",
    "else:\n",
    "    result_route = bfs()\n",
    "    \n",
    "    if result_route:\n",
    "        print(''.join(result_route))\n",
    "    else:\n",
    "        print(-1)"
   ]
  },
  {
   "cell_type": "markdown",
   "metadata": {},
   "source": [
    "### 두 로봇 15971"
   ]
  },
  {
   "cell_type": "code",
   "execution_count": 90,
   "metadata": {},
   "outputs": [
    {
     "name": "stdout",
     "output_type": "stream",
     "text": [
      "5 1 5\n",
      "1 2 1\n",
      "2 3 2\n",
      "3 4 3\n",
      "4 5 4\n",
      "6\n"
     ]
    }
   ],
   "source": [
    "from collections import deque\n",
    "import sys\n",
    "input = lambda: sys.stdin.readline().rstrip()\n",
    "\n",
    "n, s, e = map(int, input().split())\n",
    "li = [[] for _ in range(n + 1)]\n",
    "\n",
    "for _ in range(n - 1):\n",
    "    a, b, d = map(int, input().split())\n",
    "    li[a].append((b, d))\n",
    "    li[b].append((a, d))\n",
    "    \n",
    "def bfs(start, end):    \n",
    "    dists = [-1] * (n + 1)\n",
    "    dists[start] = 0\n",
    "    queue = deque()\n",
    "    queue.append((start, 0)) # node, max dist edge \n",
    "    while queue:\n",
    "        value, mde = queue.popleft()\n",
    "        if value == e:\n",
    "            return dists[value] - mde\n",
    "\n",
    "        for v, d in li[value]:\n",
    "            if dists[v] == -1:\n",
    "                nmde = max(mde, d)\n",
    "                dists[v] = dists[value] + d\n",
    "                queue.append((v, nmde))\n",
    "        \n",
    "print(bfs(s, e))"
   ]
  },
  {
   "cell_type": "markdown",
   "metadata": {},
   "source": [
    "### 움직이는 미로 탈출 16954"
   ]
  },
  {
   "cell_type": "code",
   "execution_count": 6,
   "metadata": {},
   "outputs": [
    {
     "name": "stdout",
     "output_type": "stream",
     "text": [
      "........\n",
      "........\n",
      "........\n",
      "........\n",
      "#.......\n",
      ".#######\n",
      "#.......\n",
      "........\n",
      "0\n"
     ]
    }
   ],
   "source": [
    "from collections import deque\n",
    "\n",
    "li = [input() for _ in range(8)]\n",
    "\n",
    "n = 8\n",
    "dx = [-1, -1, -1, 0, 0, 0, 1, 1, 1]\n",
    "dy = [-1, 0, 1, -1, 0, 1, -1, 0, 1]\n",
    "\n",
    "def move_walls():\n",
    "    for i in range(7, 0, -1):\n",
    "        li[i] = li[i - 1]\n",
    "    li[0] = '.' * 8\n",
    "\n",
    "def bfs():\n",
    "    queue = deque()\n",
    "    queue.append((n - 1, 0))\n",
    "    while True:\n",
    "        visited = [[False] * n for _ in range(n)]\n",
    "        for _ in range(len(queue)):\n",
    "            x, y = queue.popleft()\n",
    "            if li[x][y] == '#':\n",
    "                continue\n",
    "                \n",
    "            for i in range(9):\n",
    "                nx = x + dx[i]\n",
    "                ny = y + dy[i]    \n",
    "                if nx < 0 or nx >= n or ny < 0 or ny >= n:\n",
    "                    continue\n",
    "                if li[nx][ny] == '#':\n",
    "                    continue\n",
    "                if nx == 0 and ny == n - 1:\n",
    "                    return 1\n",
    "                if not visited[nx][ny]:\n",
    "                    visited[nx][ny] = True\n",
    "                    queue.append((nx, ny))\n",
    "                    \n",
    "        if not queue:\n",
    "            return 0\n",
    "        move_walls()\n",
    "        \n",
    "print(bfs())"
   ]
  },
  {
   "cell_type": "markdown",
   "metadata": {},
   "source": [
    "### 직사각형 탈출 16973"
   ]
  },
  {
   "cell_type": "code",
   "execution_count": 13,
   "metadata": {},
   "outputs": [
    {
     "name": "stdout",
     "output_type": "stream",
     "text": [
      "7\n"
     ]
    }
   ],
   "source": [
    "# 맞았음, 누적합 이용도 가능함\n",
    "from collections import deque\n",
    "import sys\n",
    "# input = lambda: sys.stdin.readline().rstrip()\n",
    "\n",
    "n, m = map(int, input().split())\n",
    "li = [list(map(int, input().split())) for _ in range(n)]\n",
    "h, w, sr, sc, fr, fc = map(int, input().split())\n",
    "\n",
    "sr, sc, fr, fc = sr - 1, sc - 1, fr - 1, fc - 1\n",
    "\n",
    "def check(x, y, d):\n",
    "    if d == 0:\n",
    "        for j in range(y, y + w):\n",
    "            if li[x][j] == 1:\n",
    "                return False\n",
    "    elif d == 1:\n",
    "        for j in range(y, y + w):\n",
    "            if li[x + h - 1][j] == 1:\n",
    "                return False\n",
    "    elif d == 2:\n",
    "        for i in range(x, x + h):\n",
    "            if li[i][y] == 1:\n",
    "                return False\n",
    "    else:\n",
    "        for i in range(x, x + h):\n",
    "            if li[i][y + w - 1] == 1:\n",
    "                return False\n",
    "            \n",
    "    return True\n",
    "\n",
    "dx = [-1, 1, 0, 0]\n",
    "dy = [0, 0, -1, 1]\n",
    "\n",
    "dists = [[-1] * m for _ in range(n)]\n",
    "dists[sr][sc] = 0\n",
    "queue = deque()\n",
    "queue.append((sr, sc))\n",
    "\n",
    "result = -1\n",
    "while queue:\n",
    "    x, y = queue.popleft()\n",
    "    if x == fr and y == fc:\n",
    "        result = dists[x][y]\n",
    "        break\n",
    "        \n",
    "    for d in range(4):\n",
    "        nx, ny = x + dx[d], y + dy[d]\n",
    "        if nx < 0 or nx + h - 1 >= n or ny < 0 or ny + w - 1 >= m:\n",
    "            continue\n",
    "        if dists[nx][ny] != -1:\n",
    "            continue\n",
    "        if check(nx, ny, d):\n",
    "            dists[nx][ny] = dists[x][y] + 1\n",
    "            queue.append((nx, ny))\n",
    "            \n",
    "print(result)"
   ]
  }
 ],
 "metadata": {
  "kernelspec": {
   "display_name": "Python 3",
   "language": "python",
   "name": "python3"
  },
  "language_info": {
   "codemirror_mode": {
    "name": "ipython",
    "version": 3
   },
   "file_extension": ".py",
   "mimetype": "text/x-python",
   "name": "python",
   "nbconvert_exporter": "python",
   "pygments_lexer": "ipython3",
   "version": "3.7.3"
  }
 },
 "nbformat": 4,
 "nbformat_minor": 4
}
