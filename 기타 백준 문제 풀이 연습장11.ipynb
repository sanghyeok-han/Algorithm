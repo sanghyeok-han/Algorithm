{
 "cells": [
  {
   "cell_type": "markdown",
   "metadata": {},
   "source": [
    "https://www.acmicpc.net/problem/25690 트리를 복잡하게 색칠하는 최소 비용"
   ]
  },
  {
   "cell_type": "code",
   "execution_count": null,
   "metadata": {},
   "outputs": [],
   "source": [
    "import sys\n",
    "sys.setrecursionlimit(110000)\n",
    "input = lambda: sys.stdin.readline().rstrip()\n",
    "\n",
    "inf = float('inf')\n",
    "\n",
    "def dfs(value):\n",
    "    total_w = ws[value]\n",
    "    total_b = bs[value]\n",
    "    for v in li[value]:\n",
    "        dfs(v)\n",
    "        total_w += min(dp[v])\n",
    "        total_b += dp[v][0]\n",
    "\n",
    "    dp[value][0] = total_w\n",
    "    dp[value][1] = total_b\n",
    "        \n",
    "n = int(input())\n",
    "\n",
    "li = [[] for _ in range(n)]\n",
    "for _ in range(n - 1):\n",
    "    p, c = map(int, input().split())\n",
    "    li[p].append(c)\n",
    "    \n",
    "ws = [0] * n\n",
    "bs = [0] * n\n",
    "for i in range(n):\n",
    "    w, b = map(int, input().split())\n",
    "    \n",
    "    ws[i] = w\n",
    "    bs[i] = b\n",
    "    \n",
    "dp = [[inf] * 2 for _ in range(n)] # [w, b]\n",
    "dfs(0)\n",
    "\n",
    "r = min(dp[0])\n",
    "\n",
    "print(r)"
   ]
  },
  {
   "cell_type": "markdown",
   "metadata": {},
   "source": [
    "https://www.acmicpc.net/problem/25691 k개 트리 노드에서 사과를 최대로 수확하기 "
   ]
  },
  {
   "cell_type": "code",
   "execution_count": null,
   "metadata": {},
   "outputs": [],
   "source": [
    "from itertools import combinations as comb\n",
    "from collections import deque\n",
    "\n",
    "n, k = map(int, input().split())\n",
    "\n",
    "li = [[] for _ in range(n)]\n",
    "for _ in range(n - 1):\n",
    "    p, c = map(int, input().split())\n",
    "    li[p].append(c)\n",
    "info = list(map(int, input().split()))\n",
    "    \n",
    "max_r = 0\n",
    "for case in comb(range(n), k):\n",
    "    case = set(case)\n",
    "    \n",
    "    if 0 not in case:\n",
    "        continue\n",
    "    case.discard(0)\n",
    "    \n",
    "    temp_r = info[0]\n",
    "    \n",
    "    queue = deque()\n",
    "    queue.append(0)\n",
    "    while queue:\n",
    "        value = queue.popleft()\n",
    "        \n",
    "        for v in li[value]:\n",
    "            if v in case:\n",
    "                case.discard(v)\n",
    "                temp_r += info[v]\n",
    "                queue.append(v)\n",
    "                \n",
    "    max_r = max(max_r, temp_r)\n",
    "    \n",
    "print(max_r)"
   ]
  },
  {
   "cell_type": "markdown",
   "metadata": {},
   "source": [
    "https://www.acmicpc.net/problem/2533 사회망 서비스(SNS) (다시 풀음)"
   ]
  },
  {
   "cell_type": "code",
   "execution_count": null,
   "metadata": {},
   "outputs": [],
   "source": [
    "import sys\n",
    "input = lambda: sys.stdin.readline().rstrip()\n",
    "\n",
    "## PYRIVAL BOOTSTRAP\n",
    "# https://github.com/cheran-senthil/PyRival/blob/master/pyrival/misc/bootstrap.py\n",
    "# This decorator allows for recursion without actually doing recursion\n",
    "## @bootstrap, yield when getting and returning value in recursive functions, end of functions\n",
    "from types import GeneratorType\n",
    "\n",
    "def bootstrap(f, stack=[]):\n",
    "    def wrappedfunc(*args, **kwargs):\n",
    "        if stack:\n",
    "            return f(*args, **kwargs)\n",
    "        else:\n",
    "            to = f(*args, **kwargs)\n",
    "            while True:\n",
    "                if type(to) is GeneratorType:\n",
    "                    stack.append(to)\n",
    "                    to = next(to)\n",
    "                else:\n",
    "                    stack.pop()\n",
    "                    if not stack:\n",
    "                        break\n",
    "                    to = stack[-1].send(to)\n",
    "            return to\n",
    "    return wrappedfunc\n",
    "\n",
    "inf = float('inf')\n",
    "\n",
    "@bootstrap\n",
    "def dfs(value):\n",
    "    vt[value] = True\n",
    "    \n",
    "    c = 1\n",
    "    c_not = 0\n",
    "    for v in li[value]:\n",
    "        if not vt[v]:\n",
    "            yield dfs(v)\n",
    "            c += min(dp[v], dp_not[v])\n",
    "            c_not += dp[v]\n",
    "            \n",
    "    dp[value] = c\n",
    "    dp_not[value] = c_not\n",
    "    \n",
    "    yield\n",
    "        \n",
    "n = int(input())\n",
    "\n",
    "li = [[] for _ in range(n + 1)]\n",
    "for _ in range(n - 1):\n",
    "    u, v = map(int, input().split())\n",
    "    \n",
    "    li[u].append(v)\n",
    "    li[v].append(u)\n",
    "    \n",
    "dp = [0] * (n + 1)\n",
    "dp_not = [0] * (n + 1)\n",
    "\n",
    "vt = [False] * (n + 1)\n",
    "dfs(1)\n",
    "\n",
    "r = min(dp[1], dp_not[1])\n",
    "print(r)"
   ]
  },
  {
   "cell_type": "markdown",
   "metadata": {},
   "source": [
    "https://www.acmicpc.net/problem/19590 비드맨"
   ]
  },
  {
   "cell_type": "code",
   "execution_count": 24,
   "metadata": {},
   "outputs": [
    {
     "name": "stdout",
     "output_type": "stream",
     "text": [
      "1\n",
      "100\n",
      "100\n"
     ]
    }
   ],
   "source": [
    "import sys\n",
    "input = lambda: sys.stdin.readline().rstrip()\n",
    "\n",
    "n = int(input())\n",
    "li = [int(input()) for _ in range(n)]\n",
    "\n",
    "sv = sum(li)\n",
    "max_v = max(li)\n",
    "remained_v = sv - max_v\n",
    "\n",
    "can_del = 0\n",
    "if remained_v >= max_v:\n",
    "    if sv % 2 == 1:\n",
    "        r = 1\n",
    "    else:\n",
    "        r = 0\n",
    "else:\n",
    "    r = max_v - remained_v\n",
    "    \n",
    "print(r)"
   ]
  },
  {
   "cell_type": "code",
   "execution_count": 26,
   "metadata": {},
   "outputs": [
    {
     "name": "stdout",
     "output_type": "stream",
     "text": [
      "4\n",
      "2 1 4 2\n",
      "2\n"
     ]
    }
   ],
   "source": [
    "from collections import Counter\n",
    "\n",
    "n = int(input())\n",
    "ct = Counter(map(int, input().split()))\n",
    "\n",
    "r = max(ct.values())\n",
    "\n",
    "print(r)"
   ]
  },
  {
   "cell_type": "markdown",
   "metadata": {},
   "source": [
    "https://www.acmicpc.net/problem/24913 개표"
   ]
  },
  {
   "cell_type": "code",
   "execution_count": 78,
   "metadata": {},
   "outputs": [
    {
     "name": "stdout",
     "output_type": "stream",
     "text": [
      "2 5\n",
      "1 5 1\n",
      "1 7 2\n",
      "1 3 3\n",
      "2 5 1\n",
      "YES\n",
      "2 5 3\n",
      "NO\n"
     ]
    }
   ],
   "source": [
    "import sys\n",
    "input = lambda: sys.stdin.readline().rstrip()\n",
    "\n",
    "n, q = map(int, input().split())\n",
    "\n",
    "ct = [0] * (n + 2)\n",
    "\n",
    "cur = 0\n",
    "co_sum = 0\n",
    "co_max = 0 # cur other max\n",
    "for _ in range(q):\n",
    "    tp, *qu = list(map(int, input().split()))\n",
    "    \n",
    "    if tp == 1:\n",
    "        x, p = qu\n",
    "        \n",
    "        if p == n + 1:\n",
    "            cur += x\n",
    "        else:       \n",
    "            ct[p] += x\n",
    "            co_max = max(co_max, ct[p])\n",
    "            co_sum += x\n",
    "    else:\n",
    "        x, y = qu\n",
    "        \n",
    "        cri = cur + x\n",
    "        \n",
    "        free = (cri - 1) * n - co_sum\n",
    "        \n",
    "        ip = True\n",
    "        if free < y:\n",
    "            ip = False\n",
    "        \n",
    "        if co_max >= cri:\n",
    "            ip = False\n",
    "            \n",
    "        if ip:\n",
    "            print('YES')\n",
    "        else:\n",
    "            print('NO')"
   ]
  },
  {
   "cell_type": "code",
   "execution_count": null,
   "metadata": {},
   "outputs": [],
   "source": [
    "import sys\n",
    "input = lambda: sys.stdin.readline().rstrip()\n",
    "\n",
    "# https://github.com/tatyam-prime/SortedSet/blob/main/SortedMultiset.py\n",
    "import math\n",
    "from bisect import bisect_left, bisect_right, insort\n",
    "from typing import Generic, Iterable, Iterator, TypeVar, Union, List\n",
    "T = TypeVar('T')\n",
    "\n",
    "class SortedMultiset(Generic[T]):\n",
    "    BUCKET_RATIO = 50\n",
    "    REBUILD_RATIO = 170\n",
    "\n",
    "    def _build(self, a=None) -> None:\n",
    "        \"Evenly divide `a` into buckets.\"\n",
    "        if a is None: a = list(self)\n",
    "        size = self.size = len(a)\n",
    "        bucket_size = int(math.ceil(math.sqrt(size / self.BUCKET_RATIO)))\n",
    "        self.a = [a[size * i // bucket_size : size * (i + 1) // bucket_size] for i in range(bucket_size)]\n",
    "    \n",
    "    def __init__(self, a: Iterable[T] = []) -> None:\n",
    "        \"Make a new SortedMultiset from iterable. / O(N) if sorted / O(N log N)\"\n",
    "        a = list(a)\n",
    "        if not all(a[i] <= a[i + 1] for i in range(len(a) - 1)):\n",
    "            a = sorted(a)\n",
    "        self._build(a)\n",
    "\n",
    "    def __iter__(self) -> Iterator[T]:\n",
    "        for i in self.a:\n",
    "            for j in i: yield j\n",
    "\n",
    "    def __reversed__(self) -> Iterator[T]:\n",
    "        for i in reversed(self.a):\n",
    "            for j in reversed(i): yield j\n",
    "    \n",
    "    def __len__(self) -> int:\n",
    "        return self.size\n",
    "    \n",
    "    def __repr__(self) -> str:\n",
    "        return \"SortedMultiset\" + str(self.a)\n",
    "    \n",
    "    def __str__(self) -> str:\n",
    "        s = str(list(self))\n",
    "        return \"{\" + s[1 : len(s) - 1] + \"}\"\n",
    "\n",
    "    def _find_bucket(self, x: T) -> List[T]:\n",
    "        \"Find the bucket which should contain x. self must not be empty.\"\n",
    "        for a in self.a:\n",
    "            if x <= a[-1]: return a\n",
    "        return a\n",
    "\n",
    "    def __contains__(self, x: T) -> bool:\n",
    "        if self.size == 0: return False\n",
    "        a = self._find_bucket(x)\n",
    "        i = bisect_left(a, x)\n",
    "        return i != len(a) and a[i] == x\n",
    "\n",
    "    def count(self, x: T) -> int:\n",
    "        \"Count the number of x.\"\n",
    "        return self.index_right(x) - self.index(x)\n",
    "\n",
    "    def add(self, x: T) -> None:\n",
    "        \"Add an element. / O(√N)\"\n",
    "        if self.size == 0:\n",
    "            self.a = [[x]]\n",
    "            self.size = 1\n",
    "            return\n",
    "        a = self._find_bucket(x)\n",
    "        insort(a, x)\n",
    "        self.size += 1\n",
    "        if len(a) > len(self.a) * self.REBUILD_RATIO:\n",
    "            self._build()\n",
    "\n",
    "    def discard(self, x: T) -> bool:\n",
    "        \"Remove an element and return True if removed. / O(√N)\"\n",
    "        if self.size == 0: return False\n",
    "        a = self._find_bucket(x)\n",
    "        i = bisect_left(a, x)\n",
    "        if i == len(a) or a[i] != x: return False\n",
    "        a.pop(i)\n",
    "        self.size -= 1\n",
    "        if len(a) == 0: self._build()\n",
    "        return True\n",
    "\n",
    "    def lt(self, x: T) -> Union[T, None]:\n",
    "        \"Find the largest element < x, or None if it doesn't exist.\"\n",
    "        for a in reversed(self.a):\n",
    "            if a[0] < x:\n",
    "                return a[bisect_left(a, x) - 1]\n",
    "\n",
    "    def le(self, x: T) -> Union[T, None]:\n",
    "        \"Find the largest element <= x, or None if it doesn't exist.\"\n",
    "        for a in reversed(self.a):\n",
    "            if a[0] <= x:\n",
    "                return a[bisect_right(a, x) - 1]\n",
    "\n",
    "    def gt(self, x: T) -> Union[T, None]:\n",
    "        \"Find the smallest element > x, or None if it doesn't exist.\"\n",
    "        for a in self.a:\n",
    "            if a[-1] > x:\n",
    "                return a[bisect_right(a, x)]\n",
    "\n",
    "    def ge(self, x: T) -> Union[T, None]:\n",
    "        \"Find the smallest element >= x, or None if it doesn't exist.\"\n",
    "        for a in self.a:\n",
    "            if a[-1] >= x:\n",
    "                return a[bisect_left(a, x)]\n",
    "    \n",
    "    def __getitem__(self, x: int) -> T:\n",
    "        \"Return the x-th element, or IndexError if it doesn't exist.\"\n",
    "        if x < 0: x += self.size\n",
    "        if x < 0: raise IndexError\n",
    "        for a in self.a:\n",
    "            if x < len(a): return a[x]\n",
    "            x -= len(a)\n",
    "        raise IndexError\n",
    "\n",
    "    def index(self, x: T) -> int:\n",
    "        \"Count the number of elements < x.\"\n",
    "        ans = 0\n",
    "        for a in self.a:\n",
    "            if a[-1] >= x:\n",
    "                return ans + bisect_left(a, x)\n",
    "            ans += len(a)\n",
    "        return ans\n",
    "\n",
    "    def index_right(self, x: T) -> int:\n",
    "        \"Count the number of elements <= x.\"\n",
    "        ans = 0\n",
    "        for a in self.a:\n",
    "            if a[-1] > x:\n",
    "                return ans + bisect_right(a, x)\n",
    "            ans += len(a)\n",
    "        return ans\n",
    "    \n",
    "ms = SortedMultiset()\n",
    "\n",
    "n, q = map(int, input().split())\n",
    "gots = [0] * (n + 2)\n",
    "\n",
    "for _ in range(n):\n",
    "    ms.add(0)\n",
    "\n",
    "for _ in range(q):\n",
    "    qt, x, y = map(int, input().split())\n",
    "    \n",
    "    if qt == 1:\n",
    "        if y == n + 1:\n",
    "            gots[n + 1] += x\n",
    "        else:\n",
    "            ms.discard(gots[y])\n",
    "            gots[y] += x\n",
    "            ms.add(gots[y])\n",
    "    else:\n",
    "        cri = gots[n + 1] + x\n",
    "        \n",
    "        temp = max(ms[0] + y, ms[-1])\n",
    "            \n",
    "        if cri > temp:\n",
    "            print('YES')\n",
    "        else:\n",
    "            print('NO')"
   ]
  },
  {
   "cell_type": "markdown",
   "metadata": {},
   "source": [
    "https://www.acmicpc.net/contest/problem/855/5"
   ]
  },
  {
   "cell_type": "code",
   "execution_count": 4,
   "metadata": {},
   "outputs": [
    {
     "name": "stdout",
     "output_type": "stream",
     "text": [
      "5\n",
      "7 9 5 1 3\n",
      "16\n"
     ]
    }
   ],
   "source": [
    "n = int(input())\n",
    "li = sorted(map(int, input().split()))\n",
    "\n",
    "li.append(li[0])\n",
    "\n",
    "total = 0\n",
    "for i in range(n):\n",
    "    total += abs(li[i] - li[i + 1])\n",
    "    \n",
    "print(total)"
   ]
  },
  {
   "cell_type": "markdown",
   "metadata": {},
   "source": [
    "https://www.acmicpc.net/contest/problem/855/6"
   ]
  },
  {
   "cell_type": "code",
   "execution_count": 17,
   "metadata": {},
   "outputs": [
    {
     "name": "stdout",
     "output_type": "stream",
     "text": [
      "58\n"
     ]
    }
   ],
   "source": [
    "from itertools import combinations as comb\n",
    "\n",
    "inf = float('inf')\n",
    "\n",
    "n, m = map(int, input().split())\n",
    "li = [list(map(int, input().split())) for _ in range(n)]\n",
    "\n",
    "pre_is = []\n",
    "for i in range(n):\n",
    "    pre_is.append(sum(li[i]))\n",
    "    \n",
    "pre_js = []\n",
    "for j in range(m):\n",
    "    sv = 0\n",
    "    for i in range(n):\n",
    "        sv += li[i][j]\n",
    "    pre_js.append(sv)\n",
    "\n",
    "max_r = -inf\n",
    "for ca_n in comb(range(n), 2):\n",
    "    i1, i2 = ca_n\n",
    "    for ca_m in comb(range(m), 2):\n",
    "        j1, j2 = ca_m\n",
    "        \n",
    "        temp = pre_is[i1] + pre_is[i2] + pre_js[j1] + pre_js[j2]\n",
    "        temp -= li[i1][j1] + li[i1][j2] + li[i2][j1] + li[i2][j2]\n",
    "        \n",
    "        temp += (i2 - i1 - 1) * (j2 - j1 - 1)\n",
    "        \n",
    "        max_r = max(max_r, temp)\n",
    "        \n",
    "print(max_r)"
   ]
  },
  {
   "cell_type": "markdown",
   "metadata": {},
   "source": [
    "https://www.acmicpc.net/contest/problem/855/1"
   ]
  },
  {
   "cell_type": "code",
   "execution_count": 19,
   "metadata": {},
   "outputs": [
    {
     "name": "stdout",
     "output_type": "stream",
     "text": [
      "4\n",
      "int a;\n",
      "int *ptr = &a;\n",
      "int **ptr2 = &ptr;\n",
      "int ***ptr3 = &ptr2;\n",
      "int ****ptr4 = &ptr3;\n"
     ]
    }
   ],
   "source": [
    "n = int(input())\n",
    "\n",
    "print('int a;')\n",
    "print('int *ptr = &a;')\n",
    "\n",
    "if n >= 2:\n",
    "    print('int **ptr2 = &ptr;')\n",
    "    \n",
    "    for c in range(3, n + 1):\n",
    "        print(f\"int {'*' * c}ptr{c} = &ptr{c - 1};\")"
   ]
  },
  {
   "cell_type": "markdown",
   "metadata": {},
   "source": [
    "https://www.acmicpc.net/contest/problem/855/2"
   ]
  },
  {
   "cell_type": "code",
   "execution_count": 32,
   "metadata": {},
   "outputs": [
    {
     "name": "stdout",
     "output_type": "stream",
     "text": [
      "12\n",
      "50000\n",
      "45000\n"
     ]
    }
   ],
   "source": [
    "n = int(input())\n",
    "p = int(input())\n",
    "\n",
    "funcs = [lambda x: x - 500, lambda x: x // 10 * 9, lambda x: x - 2000, lambda x: x // 100 * 75]\n",
    "\n",
    "min_r = p\n",
    "if n < 5:\n",
    "    pass\n",
    "elif n < 10:\n",
    "    for i in range(1):\n",
    "        min_r = min(min_r, funcs[i](p))\n",
    "elif n < 15:\n",
    "    for i in range(2):\n",
    "        min_r = min(min_r, funcs[i](p))\n",
    "elif n < 20:\n",
    "    for i in range(3):\n",
    "        min_r = min(min_r, funcs[i](p))\n",
    "else:\n",
    "    for i in range(4):\n",
    "        min_r = min(min_r, funcs[i](p))\n",
    "    \n",
    "min_r = max(0, min_r)\n",
    "\n",
    "print(min_r)"
   ]
  },
  {
   "cell_type": "markdown",
   "metadata": {},
   "source": [
    "https://www.acmicpc.net/contest/problem/855/3"
   ]
  },
  {
   "cell_type": "code",
   "execution_count": 37,
   "metadata": {},
   "outputs": [
    {
     "name": "stdout",
     "output_type": "stream",
     "text": [
      "14\n",
      "inhauniversity\n",
      "5\n",
      "igrus\n",
      "-1\n"
     ]
    }
   ],
   "source": [
    "n = int(input())\n",
    "ros = input()\n",
    "m = int(input())\n",
    "s = input()\n",
    "\n",
    "ros_i = 0\n",
    "si = 0\n",
    "\n",
    "r = -1\n",
    "for cur in range(20000):\n",
    "    if s[si] == ros[ros_i]:\n",
    "        si += 1\n",
    "        if si == m:\n",
    "            r = cur + 1\n",
    "            break\n",
    "        \n",
    "    ros_i += 1\n",
    "    ros_i %= n\n",
    "    \n",
    "print(r)"
   ]
  },
  {
   "cell_type": "markdown",
   "metadata": {},
   "source": [
    "https://www.acmicpc.net/contest/problem/855/4"
   ]
  },
  {
   "cell_type": "code",
   "execution_count": 40,
   "metadata": {},
   "outputs": [
    {
     "name": "stdout",
     "output_type": "stream",
     "text": [
      "1\n",
      "200\n",
      "1\n"
     ]
    }
   ],
   "source": [
    "n = int(input())\n",
    "li = list(map(int, input().split()))\n",
    "\n",
    "dp = [0] * n\n",
    "for i in range(n - 1, -1, -1):\n",
    "    to_check = i + 1 + li[i]\n",
    "    \n",
    "    if to_check >= n:\n",
    "        dp[i] = 1\n",
    "    else:\n",
    "        dp[i] = dp[to_check] + 1\n",
    "        \n",
    "print(*dp)"
   ]
  },
  {
   "cell_type": "markdown",
   "metadata": {},
   "source": [
    "https://www.acmicpc.net/contest/problem/855/7"
   ]
  },
  {
   "cell_type": "code",
   "execution_count": 44,
   "metadata": {},
   "outputs": [
    {
     "name": "stdout",
     "output_type": "stream",
     "text": [
      "1000000000\n",
      "1\n"
     ]
    }
   ],
   "source": [
    "n = int(input())\n",
    "\n",
    "c = 0\n",
    "while True:\n",
    "    sn = str(n)\n",
    "    c1 = sn.count('1')\n",
    "    c += c1\n",
    "    \n",
    "    sn = sn.replace('1', '')\n",
    "    if not sn:\n",
    "        break\n",
    "        \n",
    "    n = int(sn)\n",
    "    if n == 0:\n",
    "        break\n",
    "        \n",
    "    n -= 1\n",
    "    c += 1\n",
    "    \n",
    "print(c)"
   ]
  },
  {
   "cell_type": "markdown",
   "metadata": {},
   "source": [
    "https://www.acmicpc.net/contest/problem/855/8"
   ]
  },
  {
   "cell_type": "code",
   "execution_count": 52,
   "metadata": {},
   "outputs": [
    {
     "name": "stdout",
     "output_type": "stream",
     "text": [
      "4\n",
      "1 19 3 10\n",
      "12\n"
     ]
    }
   ],
   "source": [
    "n = int(input())\n",
    "li = list(map(int, input().split()))\n",
    "\n",
    "ct = [0] * 1000\n",
    "for v in li:\n",
    "    ct[v] += 1\n",
    "    \n",
    "nli = []\n",
    "for i in range(1, 1000):\n",
    "    if ct[i] == 1:\n",
    "        nli.append(i)\n",
    "    elif ct[i] >= 2:\n",
    "        nli.append(i)\n",
    "        nli.append(i)\n",
    "\n",
    "nn = len(nli)\n",
    "max_r = 0\n",
    "for i in range(nn):\n",
    "    for j in range(i + 1, nn):\n",
    "        temp = nli[i] * nli[j]\n",
    "        \n",
    "        temp_r = sum(map(int, str(temp)))\n",
    "        max_r = max(max_r, temp_r)\n",
    "        \n",
    "print(max_r)"
   ]
  },
  {
   "cell_type": "markdown",
   "metadata": {},
   "source": [
    "https://www.acmicpc.net/contest/problem/855/9"
   ]
  },
  {
   "cell_type": "code",
   "execution_count": 55,
   "metadata": {},
   "outputs": [
    {
     "name": "stdout",
     "output_type": "stream",
     "text": [
      "6 4\n",
      "2 6 8 11 16 19\n",
      "3 7 9 5 5 12\n",
      "2 5\n",
      "23.485281374238575\n",
      "6 3\n",
      "23.485281374238575\n",
      "4 5\n",
      "10.000000000000004\n",
      "6 1\n",
      "41.10105448010248\n"
     ]
    }
   ],
   "source": [
    "import sys\n",
    "input = lambda: sys.stdin.readline().rstrip()\n",
    "\n",
    "get_dist = lambda x1, x2, y1, y2: ((x1 - x2) ** 2 + (y1 - y2) ** 2) ** 0.5\n",
    "\n",
    "n, q = map(int, input().split())\n",
    "xs = list(map(int, input().split()))\n",
    "ys = list(map(int, input().split()))\n",
    "\n",
    "dists = []\n",
    "for i in range(n - 1):\n",
    "    x1, x2 = xs[i], xs[i + 1]\n",
    "    y1, y2 = ys[i], ys[i + 1]\n",
    "    \n",
    "    dist = get_dist(x1, x2, y1, y2)\n",
    "    \n",
    "    if y1 < y2:\n",
    "        dist *= 3\n",
    "    elif y1 == y2:\n",
    "        dist *= 2\n",
    "    \n",
    "    dists.append(dist)\n",
    "\n",
    "sdists = [0]\n",
    "cumul = 0\n",
    "for i in range(n - 1):\n",
    "    cumul += dists[i]\n",
    "    sdists.append(cumul)\n",
    "\n",
    "xs.reverse()\n",
    "ys.reverse()\n",
    "\n",
    "dists_r = []\n",
    "for i in range(n - 1):\n",
    "    x1, x2 = xs[i], xs[i + 1]\n",
    "    y1, y2 = ys[i], ys[i + 1]\n",
    "    \n",
    "    dist = get_dist(x1, x2, y1, y2)\n",
    "    \n",
    "    if y1 < y2:\n",
    "        dist *= 3\n",
    "    elif y1 == y2:\n",
    "        dist *= 2\n",
    "    \n",
    "    dists_r.append(dist)\n",
    "\n",
    "sdists_r = [0]\n",
    "cumul = 0\n",
    "for i in range(n - 1):\n",
    "    cumul += dists_r[i]\n",
    "    sdists_r.append(cumul)\n",
    "\n",
    "for _ in range(q):\n",
    "    f, t = map(int, input().split())\n",
    "    \n",
    "    if f < t: \n",
    "        f -= 1\n",
    "        t -= 2\n",
    "\n",
    "        dist = sdists[t + 1] - sdists[f]\n",
    "        \n",
    "        print(dist)\n",
    "    else:\n",
    "        f -= 1\n",
    "        t -= 1\n",
    "        \n",
    "        f = n - 1 - f\n",
    "        t = n - 1 - t\n",
    "        \n",
    "        t -= 1\n",
    "        \n",
    "        dist = sdists_r[t + 1] - sdists_r[f]\n",
    "        \n",
    "        print(dist)        "
   ]
  },
  {
   "cell_type": "markdown",
   "metadata": {},
   "source": [
    "https://www.acmicpc.net/contest/problem/855/10"
   ]
  },
  {
   "cell_type": "code",
   "execution_count": null,
   "metadata": {},
   "outputs": [],
   "source": [
    "import sys\n",
    "input = lambda: sys.stdin.readline().rstrip()\n",
    "\n",
    "n, m = map(int, input().split())\n",
    "ms = list(map(int, input().split()))\n",
    "info = [list(map(int, input().split())) for _ in range(m)]\n",
    "\n",
    "dp = [[False] * (ms[i] // 2) for i in range(m)]\n",
    "for i in range(ms[0] // 2):\n",
    "    dp[0][i] = True\n",
    "    \n",
    "for j in range(1, m):\n",
    "    for cur_i in range(ms[j] // 2):\n",
    "        for f_i in range(ms[j - 1] // 2):\n",
    "            if not dp[j - 1][f_i]:\n",
    "                continue\n",
    "            \n",
    "            f_s = info[j - 1][f_i * 2]\n",
    "            f_e = info[j - 1][f_i * 2 + 1]\n",
    "            \n",
    "            cur_s = info[j][cur_i * 2]\n",
    "            cur_e = info[j][cur_i * 2 + 1]\n",
    "            \n",
    "            if f_s <= cur_s <= f_e or f_s <= cur_e <= f_e or cur_s <= f_s <= cur_e or cur_s <= f_e <= cur_e:\n",
    "                dp[j][cur_i] = True\n",
    "                \n",
    "r = any(dp[m - 1])\n",
    "\n",
    "if r:\n",
    "    print('YES')\n",
    "else:\n",
    "    print('NO')"
   ]
  },
  {
   "cell_type": "markdown",
   "metadata": {},
   "source": [
    "https://www.acmicpc.net/contest/problem/855/11"
   ]
  },
  {
   "cell_type": "code",
   "execution_count": 69,
   "metadata": {},
   "outputs": [
    {
     "name": "stdout",
     "output_type": "stream",
     "text": [
      "2 2 \n",
      "3\n",
      "2 2 2 2\n",
      "2 2 2 2\n",
      "2 2 2 2\n",
      "3\n"
     ]
    }
   ],
   "source": [
    "import sys\n",
    "input = lambda: sys.stdin.readline().rstrip()\n",
    "\n",
    "inf = float('inf')\n",
    "\n",
    "n, m = map(int, input().split())\n",
    "k = int(input())\n",
    "\n",
    "get_value = lambda x: int(x) - 1\n",
    "\n",
    "li = [[set() for _ in range(m)] for _ in range(n)]\n",
    "for num in range(k):\n",
    "    x1, y1, x2, y2 = map(get_value, input().split())\n",
    "    \n",
    "    for i in range(x1, x2 + 1):\n",
    "        li[i][y1].add(num)\n",
    "        \n",
    "    for j in range(y1, y2 + 1):\n",
    "        li[x1][j].add(num)\n",
    "        \n",
    "dp = [[inf] * m for _ in range(n)]\n",
    "dp[0][0] = len(li[0][0])\n",
    "\n",
    "for i in range(n):\n",
    "    for j in range(m):\n",
    "        if i == j == 0:\n",
    "            continue\n",
    "        \n",
    "        t1 = inf\n",
    "        if i - 1 >= 0:\n",
    "            t1 = dp[i - 1][j] + len(li[i][j] - li[i - 1][j])\n",
    "            \n",
    "        t2 = inf\n",
    "        if j - 1 >= 0:\n",
    "            t2 = dp[i][j - 1] + len(li[i][j] - li[i][j - 1])\n",
    "            \n",
    "        dp[i][j] = min(t1, t2)\n",
    "        \n",
    "print(dp[n - 1][m - 1])"
   ]
  },
  {
   "cell_type": "markdown",
   "metadata": {},
   "source": [
    "https://www.acmicpc.net/problem/6416 트리인가?"
   ]
  },
  {
   "cell_type": "code",
   "execution_count": 2,
   "metadata": {},
   "outputs": [
    {
     "name": "stdout",
     "output_type": "stream",
     "text": [
      "6 8  5 3  5 2  6 4\n",
      "5 6  0 0\n"
     ]
    }
   ],
   "source": [
    "import sys\n",
    "input = lambda: sys.stdin.readline().rstrip()\n",
    "\n",
    "def solve():\n",
    "    tn = 1\n",
    "    while True:\n",
    "        tos = []\n",
    "        nums = set()\n",
    "        max_num = -1\n",
    "        while True:\n",
    "            is_end = False\n",
    "            temp = list(map(int, input().split()))\n",
    "            if not temp:\n",
    "                continue\n",
    "            if temp[0] == -1:\n",
    "                is_end = True\n",
    "                return\n",
    "\n",
    "            if temp[-1] == 0:\n",
    "                temp.pop()\n",
    "                temp.pop()\n",
    "                is_end = True\n",
    "\n",
    "            for v in temp:\n",
    "                nums.add(v)\n",
    "            for i in range(0, len(temp), 2):\n",
    "                tos.append(temp[i + 1])\n",
    "\n",
    "            if is_end:\n",
    "                break\n",
    "\n",
    "        nums = list(nums)\n",
    "\n",
    "        r = ' '\n",
    "        if not nums:\n",
    "            r = ' '\n",
    "        else:\n",
    "            reduce = {nums[i]: i for i in range(len(nums))}    \n",
    "            n = len(nums)\n",
    "\n",
    "            indegree = [0] * n\n",
    "            for v in tos:\n",
    "                w = reduce[v]\n",
    "                indegree[w] += 1\n",
    "\n",
    "            c0 = c1 = c_over1 = 0\n",
    "            for i in range(n):\n",
    "                if indegree[i] == 0:\n",
    "                    c0 += 1\n",
    "                elif indegree[i] == 1:\n",
    "                    c1 += 1\n",
    "                else:\n",
    "                    c_over1 += 1\n",
    "\n",
    "            if c0 == 1 and c1 == n - 1:\n",
    "                r = ' '\n",
    "            else:\n",
    "                r = ' not '\n",
    "\n",
    "        print(f'Case {tn} is{r}a tree.')\n",
    "        tn += 1\n",
    "\n",
    "        to_check = input()\n",
    "        if to_check:\n",
    "            break\n",
    "            \n",
    "solve()"
   ]
  },
  {
   "cell_type": "markdown",
   "metadata": {},
   "source": [
    "https://www.acmicpc.net/contest/problem/882/8 H번 - Set and Sequence and Query"
   ]
  },
  {
   "cell_type": "code",
   "execution_count": 6,
   "metadata": {},
   "outputs": [
    {
     "name": "stdout",
     "output_type": "stream",
     "text": [
      "3\n",
      "1 1\n",
      "1\n",
      "\n",
      "1 2\n",
      "3\n",
      "\n",
      "2 1\n",
      "1\n",
      "\n"
     ]
    }
   ],
   "source": [
    "import io, os, sys\n",
    "from io import BytesIO, IOBase\n",
    " \n",
    "BUFSIZE = 8192\n",
    "\n",
    "class FastIO(IOBase):\n",
    "    newlines = 0\n",
    " \n",
    "    def __init__(self, file):\n",
    "        self._fd = file.fileno()\n",
    "        self.buffer = BytesIO()\n",
    "        self.writable = \"x\" in file.mode or \"r\" not in file.mode\n",
    "        self.write = self.buffer.write if self.writable else None\n",
    " \n",
    "    def read(self):\n",
    "        while True:\n",
    "            b = os.read(self._fd, max(os.fstat(self._fd).st_size, BUFSIZE))\n",
    "            if not b:\n",
    "                break\n",
    "            ptr = self.buffer.tell()\n",
    "            self.buffer.seek(0, 2), self.buffer.write(b), self.buffer.seek(ptr)\n",
    "        self.newlines = 0\n",
    "        return self.buffer.read()\n",
    " \n",
    "    def readline(self):\n",
    "        while self.newlines == 0:\n",
    "            b = os.read(self._fd, max(os.fstat(self._fd).st_size, BUFSIZE))\n",
    "            self.newlines = b.count(b\"\\n\") + (not b)\n",
    "            ptr = self.buffer.tell()\n",
    "            self.buffer.seek(0, 2), self.buffer.write(b), self.buffer.seek(ptr)\n",
    "        self.newlines -= 1\n",
    "        return self.buffer.readline()\n",
    " \n",
    "    def flush(self):\n",
    "        if self.writable:\n",
    "            os.write(self._fd, self.buffer.getvalue())\n",
    "            self.buffer.truncate(0), self.buffer.seek(0)\n",
    " \n",
    " \n",
    "class IOWrapper(IOBase):\n",
    "    def __init__(self, file):\n",
    "        self.buffer = FastIO(file)\n",
    "        self.flush = self.buffer.flush\n",
    "        self.writable = self.buffer.writable\n",
    "        self.write = lambda s: self.buffer.write(s.encode(\"ascii\"))\n",
    "        self.read = lambda: self.buffer.read().decode(\"ascii\")\n",
    "        self.readline = lambda: self.buffer.readline().decode(\"ascii\")\n",
    "\n",
    "sys.stdin, sys.stdout = IOWrapper(sys.stdin), IOWrapper(sys.stdout)\n",
    "input = io.BytesIO(os.read(0,os.fstat(0).st_size)).readline\n",
    "print = sys.stdout.write\n",
    "\n",
    "# https://github.com/tatyam-prime/SortedSet/blob/main/SortedSet.py\n",
    "import math\n",
    "from bisect import bisect_left, bisect_right\n",
    "from typing import Generic, Iterable, Iterator, TypeVar, Union, List\n",
    "T = TypeVar('T')\n",
    "\n",
    "class SortedSet(Generic[T]):\n",
    "    BUCKET_RATIO = 50\n",
    "    REBUILD_RATIO = 170\n",
    "\n",
    "    def _build(self, a=None) -> None:\n",
    "        \"Evenly divide `a` into buckets.\"\n",
    "        if a is None: a = list(self)\n",
    "        size = self.size = len(a)\n",
    "        bucket_size = int(math.ceil(math.sqrt(size / self.BUCKET_RATIO)))\n",
    "        self.a = [a[size * i // bucket_size : size * (i + 1) // bucket_size] for i in range(bucket_size)]\n",
    "    \n",
    "    def __init__(self, a: Iterable[T] = []) -> None:\n",
    "        \"Make a new SortedSet from iterable. / O(N) if sorted and unique / O(N log N)\"\n",
    "        a = list(a)\n",
    "        if not all(a[i] < a[i + 1] for i in range(len(a) - 1)):\n",
    "            a = sorted(set(a))\n",
    "        self._build(a)\n",
    "\n",
    "    def __iter__(self) -> Iterator[T]:\n",
    "        for i in self.a:\n",
    "            for j in i: yield j\n",
    "\n",
    "    def __reversed__(self) -> Iterator[T]:\n",
    "        for i in reversed(self.a):\n",
    "            for j in reversed(i): yield j\n",
    "    \n",
    "    def __len__(self) -> int:\n",
    "        return self.size\n",
    "    \n",
    "    def __repr__(self) -> str:\n",
    "        return \"SortedSet\" + str(self.a)\n",
    "    \n",
    "    def __str__(self) -> str:\n",
    "        s = str(list(self))\n",
    "        return \"{\" + s[1 : len(s) - 1] + \"}\"\n",
    "\n",
    "    def _find_bucket(self, x: T) -> List[T]:\n",
    "        \"Find the bucket which should contain x. self must not be empty.\"\n",
    "        for a in self.a:\n",
    "            if x <= a[-1]: return a\n",
    "        return a\n",
    "\n",
    "    def __contains__(self, x: T) -> bool:\n",
    "        if self.size == 0: return False\n",
    "        a = self._find_bucket(x)\n",
    "        i = bisect_left(a, x)\n",
    "        return i != len(a) and a[i] == x\n",
    "\n",
    "    def add(self, x: T) -> bool:\n",
    "        \"Add an element and return True if added. / O(√N)\"\n",
    "        if self.size == 0:\n",
    "            self.a = [[x]]\n",
    "            self.size = 1\n",
    "            return True\n",
    "        a = self._find_bucket(x)\n",
    "        i = bisect_left(a, x)\n",
    "        if i != len(a) and a[i] == x: return False\n",
    "        a.insert(i, x)\n",
    "        self.size += 1\n",
    "        if len(a) > len(self.a) * self.REBUILD_RATIO:\n",
    "            self._build()\n",
    "        return True\n",
    "\n",
    "    def discard(self, x: T) -> bool:\n",
    "        \"Remove an element and return True if removed. / O(√N)\"\n",
    "        if self.size == 0: return False\n",
    "        a = self._find_bucket(x)\n",
    "        i = bisect_left(a, x)\n",
    "        if i == len(a) or a[i] != x: return False\n",
    "        a.pop(i)\n",
    "        self.size -= 1\n",
    "        if len(a) == 0: self._build()\n",
    "        return True\n",
    "    \n",
    "    def lt(self, x: T) -> Union[T, None]:\n",
    "        \"Find the largest element < x, or None if it doesn't exist.\"\n",
    "        for a in reversed(self.a):\n",
    "            if a[0] < x:\n",
    "                return a[bisect_left(a, x) - 1]\n",
    "\n",
    "    def le(self, x: T) -> Union[T, None]:\n",
    "        \"Find the largest element <= x, or None if it doesn't exist.\"\n",
    "        for a in reversed(self.a):\n",
    "            if a[0] <= x:\n",
    "                return a[bisect_right(a, x) - 1]\n",
    "\n",
    "    def gt(self, x: T) -> Union[T, None]:\n",
    "        \"Find the smallest element > x, or None if it doesn't exist.\"\n",
    "        for a in self.a:\n",
    "            if a[-1] > x:\n",
    "                return a[bisect_right(a, x)]\n",
    "\n",
    "    def ge(self, x: T) -> Union[T, None]:\n",
    "        \"Find the smallest element >= x, or None if it doesn't exist.\"\n",
    "        for a in self.a:\n",
    "            if a[-1] >= x:\n",
    "                return a[bisect_left(a, x)]\n",
    "    \n",
    "    def __getitem__(self, x: int) -> T:\n",
    "        \"Return the x-th element, or IndexError if it doesn't exist.\"\n",
    "        if x < 0: x += self.size\n",
    "        if x < 0: raise IndexError\n",
    "        for a in self.a:\n",
    "            if x < len(a): return a[x]\n",
    "            x -= len(a)\n",
    "        raise IndexError\n",
    "    \n",
    "    def index(self, x: T) -> int:\n",
    "        \"Count the number of elements < x.\"\n",
    "        ans = 0\n",
    "        for a in self.a:\n",
    "            if a[-1] >= x:\n",
    "                return ans + bisect_left(a, x)\n",
    "            ans += len(a)\n",
    "        return ans\n",
    "\n",
    "    def index_right(self, x: T) -> int:\n",
    "        \"Count the number of elements <= x.\"\n",
    "        ans = 0\n",
    "        for a in self.a:\n",
    "            if a[-1] > x:\n",
    "                return ans + bisect_right(a, x)\n",
    "            ans += len(a)\n",
    "        return \n",
    "\n",
    "def get_sum(num):\n",
    "    return num * (num + 1) // 2\n",
    "\n",
    "sst = SortedSet()\n",
    "\n",
    "n = int(input())\n",
    "\n",
    "cur = 0\n",
    "for _ in range(n):\n",
    "    tp, x = map(int, input().split())\n",
    "    \n",
    "    # add\n",
    "    if tp == 1:\n",
    "        index = sst.index((x, x))\n",
    "        \n",
    "        ns, ne = x, x\n",
    "        if index < len(sst):\n",
    "            s, e = sst[index]\n",
    "            if s - 1 == x:\n",
    "                ne = e\n",
    "                sst.discard((s, e))\n",
    "                length = e - s + 1\n",
    "                cur -= get_sum(length)           \n",
    "        if index - 1 >= 0:\n",
    "            s, e = sst[index - 1]\n",
    "            if e + 1 == x:\n",
    "                ns = s\n",
    "                sst.discard((s, e))\n",
    "                length = e - s + 1\n",
    "                cur -= get_sum(length)\n",
    "            \n",
    "        sst.add((ns, ne))\n",
    "        cur += get_sum(ne - ns + 1)\n",
    "    # delete\n",
    "    else:\n",
    "        index = sst.index((x, x))\n",
    "        \n",
    "        to_divide_im1 = False\n",
    "        if index - 1 >= 0:\n",
    "            s, e = sst[index - 1]\n",
    "            if x <= e:\n",
    "                to_divide_im1 = True\n",
    "            \n",
    "                cur -= get_sum(e - s + 1)\n",
    "                sst.discard((s, e))\n",
    "\n",
    "                if s <= x - 1:\n",
    "                    cur += get_sum(x - s)\n",
    "                    sst.add((s, x - 1))\n",
    "                if x + 1 <= e:\n",
    "                    cur += get_sum(e - x)\n",
    "                    sst.add((x + 1, e))\n",
    "                    \n",
    "        if not to_divide_im1:\n",
    "            s, e = sst[index]\n",
    "            \n",
    "            cur -= get_sum(e - s + 1)\n",
    "            sst.discard((s, e))\n",
    "            \n",
    "            if s < e:\n",
    "                ns = s + 1\n",
    "                ne = e\n",
    "                cur += get_sum(ne - ns + 1)\n",
    "                sst.add((ns, ne))\n",
    "            \n",
    "    print(str(cur) + '\\n')"
   ]
  },
  {
   "cell_type": "markdown",
   "metadata": {},
   "source": [
    "https://www.acmicpc.net/contest/problem/882/4 D번 - Histogram Sequence 4"
   ]
  },
  {
   "cell_type": "code",
   "execution_count": 30,
   "metadata": {},
   "outputs": [
    {
     "name": "stdout",
     "output_type": "stream",
     "text": [
      "1 8213912883 0 28318\n",
      "NO\n"
     ]
    }
   ],
   "source": [
    "n, a, l, r = map(int, input().split())\n",
    "\n",
    "base = l * n\n",
    "\n",
    "if a < base:\n",
    "    print('NO')\n",
    "else:\n",
    "    for row_len in range(1, n + 1):\n",
    "        result = []\n",
    "        if a % row_len == 0:\n",
    "            col_len = a // row_len\n",
    "            \n",
    "            if l <= col_len <= r:\n",
    "                result = [l] * n\n",
    "                for i in range(row_len):\n",
    "                    result[i] = col_len\n",
    "                break\n",
    "                \n",
    "    if not result:\n",
    "        print('NO')\n",
    "    else:\n",
    "        print('YES')\n",
    "        print(*result)"
   ]
  },
  {
   "cell_type": "markdown",
   "metadata": {},
   "source": [
    "https://www.acmicpc.net/problem/2836 수상 택시"
   ]
  },
  {
   "cell_type": "code",
   "execution_count": null,
   "metadata": {},
   "outputs": [],
   "source": [
    "앞쪽으로 다시 갈 필요가 없으면 한번 끝까지 가는 걸로 충분함\n",
    "\n",
    "오른쪽으로 가는 것은 어차피 0에서 m으로 가야하므로 고려할 필요 없음"
   ]
  },
  {
   "cell_type": "code",
   "execution_count": null,
   "metadata": {},
   "outputs": [],
   "source": [
    "import sys\n",
    "input = lambda: sys.stdin.readline().rstrip()\n",
    "\n",
    "n, m = map(int, input().split())\n",
    "li = [list(map(int, input().split())) for _ in range(n)]\n",
    "\n",
    "li.sort(key=lambda x: x[0])\n",
    "\n",
    "stack = []\n",
    "for f, t in li:\n",
    "    if f <= t:\n",
    "        continue\n",
    "    \n",
    "    nt = t\n",
    "    while stack and nt < stack[-1][0]:\n",
    "        ff, ft = stack.pop()\n",
    "        nt = min(nt, ft)\n",
    "        \n",
    "    stack.append((f, nt))\n",
    "    \n",
    "total = m\n",
    "for f, t in stack:\n",
    "    total += (f - t) * 2\n",
    "    \n",
    "print(total)"
   ]
  },
  {
   "cell_type": "markdown",
   "metadata": {},
   "source": [
    "https://www.acmicpc.net/problem/9505 엔터프라이즈호 탈출"
   ]
  },
  {
   "cell_type": "code",
   "execution_count": null,
   "metadata": {},
   "outputs": [],
   "source": [
    "from heapq import heappush, heappop\n",
    "import sys\n",
    "input = lambda: sys.stdin.readline().rstrip()\n",
    "\n",
    "inf = float('inf')\n",
    "\n",
    "for _ in range(int(input())):\n",
    "    k, w, h = map(int, input().split())\n",
    "\n",
    "    classes = dict()\n",
    "    for _ in range(k):\n",
    "        alpha, cost = input().split()\n",
    "        classes[alpha] = int(cost)\n",
    "    classes['E'] = 0\n",
    "\n",
    "    li = [input() for _ in range(h)]\n",
    "    nli = [0] * (w * h)\n",
    "    sx = sy = 0\n",
    "    for i in range(h):\n",
    "        for j in range(w):\n",
    "            temp = classes[li[i][j]]\n",
    "            nli[i * w + j] = temp\n",
    "            if temp == 0:\n",
    "                sx, sy = i, j\n",
    "            \n",
    "    dx = [-1, 1, 0, 0]\n",
    "    dy = [0, 0, -1, 1]\n",
    "\n",
    "    costs = [inf] * (w * h)\n",
    "    costs[sx * w + sy] = 0\n",
    "    heap = []\n",
    "    heappush(heap, (0, sx * w + sy)) # cost, xy\n",
    "    while heap:\n",
    "        cost, xy = heappop(heap)\n",
    "        x = xy // w\n",
    "        y = xy % w\n",
    "        \n",
    "        if cost > costs[xy]:\n",
    "            continue\n",
    "\n",
    "        for i in range(4):\n",
    "            nx, ny = x + dx[i], y + dy[i]\n",
    "            if nx < 0 or nx >= h or ny < 0 or ny >= w:\n",
    "                continue\n",
    "                \n",
    "            nxy = nx * w + ny\n",
    "            ncost = cost + nli[nxy]\n",
    "            if ncost < costs[nxy]:\n",
    "                costs[nxy] = ncost\n",
    "                \n",
    "                heappush(heap, (ncost, nxy))\n",
    "                \n",
    "    min_r = inf\n",
    "    for i in range(h):\n",
    "        for j in range(w):\n",
    "            if i == 0 or i == h - 1 or j == 0 or j == w - 1:\n",
    "                min_r = min(min_r, costs[i * w + j])\n",
    "\n",
    "    print(min_r)"
   ]
  },
  {
   "cell_type": "markdown",
   "metadata": {},
   "source": [
    "https://www.acmicpc.net/problem/9328 열쇠"
   ]
  },
  {
   "cell_type": "code",
   "execution_count": 11,
   "metadata": {},
   "outputs": [
    {
     "name": "stdout",
     "output_type": "stream",
     "text": [
      "1\n",
      "3 3\n",
      "a**\n",
      "*$A\n",
      "***\n",
      "0\n",
      "1\n"
     ]
    }
   ],
   "source": [
    "from collections import deque\n",
    "import sys\n",
    "# input = lambda: sys.stdin.readline().rstrip()\n",
    "\n",
    "lowers = 'abcdefghijklmnopqrstuvwxyz'\n",
    "uppers = lowers.upper()\n",
    "d = {v: 1 << lowers.index(v) for v in lowers}\n",
    "    \n",
    "for _ in range(int(input())):\n",
    "    n, m = map(int, input().split())\n",
    "    li = [list(input()) for _ in range(n)]\n",
    "    given = set(input())\n",
    "    \n",
    "    keys = 0\n",
    "    if given != {'0'}:\n",
    "        for key in given:\n",
    "            keys |= d[key]\n",
    "\n",
    "    found_door_locs = {v: set() for v in uppers}\n",
    "    queue = deque()\n",
    "    docu_num = '1'\n",
    "    collected = set()\n",
    "    for i in range(n):\n",
    "        for j in range(m):\n",
    "            if li[i][j] == '$':\n",
    "                li[i][j] = docu_num\n",
    "                docu_num = int(docu_num)\n",
    "                docu_num += 1\n",
    "                docu_num = str(docu_num)\n",
    "            \n",
    "            if i == 0 or i == n - 1 or j == 0 or j == m - 1:\n",
    "                if li[i][j] == '.' or li[i][j].isdigit() or li[i][j].islower():\n",
    "                    queue.append((i, j))\n",
    "                    if li[i][j].isdigit():\n",
    "                        collected.add(li[i][j])\n",
    "                    elif li[i][j].islower():\n",
    "                        keys |= d[li[i][j]]\n",
    "                elif li[i][j].isupper():\n",
    "                    found_door_locs[li[i][j]].add((i, j))\n",
    "                    if li[i][j].lower() in given:\n",
    "                        queue.append((i, j))\n",
    "                        found_door_locs[li[i][j]].discard((i, j))\n",
    "                        \n",
    "    for alpha in uppers:\n",
    "        if d[alpha.lower()] & keys:\n",
    "            queue.extend(found_door_locs[alpha])\n",
    "            found_door_locs[alpha]= set()\n",
    "                        \n",
    "    visited = [[set() for _ in range(m)] for _ in range(n)]\n",
    "    for x, y in queue:\n",
    "        visited[x][y].add(keys)\n",
    "\n",
    "    dx = [-1, 1, 0, 0]\n",
    "    dy = [0, 0, -1, 1]\n",
    "\n",
    "    while queue:\n",
    "        x, y = queue.popleft()\n",
    "        for i in range(4):\n",
    "            nx = x + dx[i]\n",
    "            ny = y + dy[i]\n",
    "\n",
    "            if nx < 0 or nx >= n or ny < 0 or ny >= m:\n",
    "                continue\n",
    "            if li[nx][ny] == '*':\n",
    "                continue\n",
    "            if keys in visited[nx][ny]:\n",
    "                continue        \n",
    "            visited[nx][ny].add(keys)\n",
    "\n",
    "            if li[nx][ny].isdigit():\n",
    "                collected.add(li[nx][ny])\n",
    "            elif li[nx][ny].isupper():\n",
    "                found_door_locs[li[nx][ny]].add((nx, ny))\n",
    "                if not (d[li[nx][ny].lower()] & keys):\n",
    "                    continue\n",
    "            elif li[nx][ny].islower():\n",
    "                keys |= d[li[nx][ny]]\n",
    "                queue.extend(found_door_locs[li[nx][ny].upper()])\n",
    "                found_door_locs[li[nx][ny]]= set()\n",
    "            queue.append((nx, ny))\n",
    "\n",
    "    print(len(collected))"
   ]
  },
  {
   "cell_type": "markdown",
   "metadata": {},
   "source": [
    "https://www.acmicpc.net/problem/2263 트리의 순회"
   ]
  },
  {
   "cell_type": "markdown",
   "metadata": {},
   "source": [
    "post 오더 in 오더보다 나중에 방문하는게 현재 노드가 됨"
   ]
  },
  {
   "cell_type": "markdown",
   "metadata": {},
   "source": [
    "https://www.acmicpc.net/problem/1325 효율적인 해킹 (다시 풀음)"
   ]
  },
  {
   "cell_type": "code",
   "execution_count": 77,
   "metadata": {},
   "outputs": [
    {
     "name": "stdout",
     "output_type": "stream",
     "text": [
      "1\n"
     ]
    }
   ],
   "source": [
    "import sys\n",
    "sys.setrecursionlimit(110000)\n",
    "input = lambda: sys.stdin.readline().rstrip()\n",
    "\n",
    "def find(v):\n",
    "    if v != parent[v]:\n",
    "        parent[v] = find(parent[v])\n",
    "        \n",
    "    return parent[v]\n",
    "\n",
    "def union(a, b):\n",
    "    if rank[a] < rank[b]:\n",
    "        a, b = b, a\n",
    "        \n",
    "    parent[b] = a\n",
    "    if rank[a] == rank[b]:\n",
    "        rank[a] += 1\n",
    "\n",
    "def dfs(value):\n",
    "    vt[value] = True\n",
    "    stack.append(value)\n",
    "    on_stack[value] = True\n",
    "    \n",
    "    c = 0\n",
    "    for v in li[value]:\n",
    "        if not vt[v]:\n",
    "            c += dfs(v)\n",
    "        else:\n",
    "            if not on_stack[v]:\n",
    "                rv = find(v)\n",
    "                c += dp[rv]\n",
    "            else:\n",
    "                index = stack.index(v)\n",
    "                for i in range(index, len(stack)):\n",
    "                    vv = stack[i]\n",
    "                    \n",
    "                    rv = find(v)\n",
    "                    rvv = find(vv)\n",
    "                    union(rv, rvv)\n",
    "         \n",
    "    rvalue = find(value)\n",
    "    dp[rvalue] = c + 1\n",
    "    stack.pop()\n",
    "    on_stack[value] = False\n",
    "    return c + 1\n",
    "\n",
    "n, m = map(int, input().split())\n",
    "\n",
    "li = [[] for _ in range(n + 1)]\n",
    "for _ in range(m):\n",
    "    a, b = map(int, input().split())\n",
    "    li[b].append(a)\n",
    "    \n",
    "vt = [False] * (n + 1)\n",
    "on_stack = [False] * (n + 1)\n",
    "stack = []\n",
    "dp = [0] * (n + 1)\n",
    "max_r = -1\n",
    "max_r_nums = []\n",
    "parent = list(range(n + 1))\n",
    "rank = [0] * (n + 1)\n",
    "for i in range(1, n + 1):\n",
    "    if not vt[i]:\n",
    "        dfs(i)\n",
    "    ri = find(i)\n",
    "    r = dp[ri]\n",
    "    if r > max_r:\n",
    "        max_r = r\n",
    "        max_r_nums = [i]\n",
    "    elif r == max_r:\n",
    "        max_r_nums.append(i)\n",
    "\n",
    "print(*max_r_nums)"
   ]
  },
  {
   "cell_type": "code",
   "execution_count": 73,
   "metadata": {},
   "outputs": [
    {
     "data": {
      "text/plain": [
       "[[], [2], [3], [4], [5], [6, 3], [7], [8, 2], [6]]"
      ]
     },
     "execution_count": 73,
     "metadata": {},
     "output_type": "execute_result"
    }
   ],
   "source": [
    "li"
   ]
  },
  {
   "cell_type": "code",
   "execution_count": 63,
   "metadata": {},
   "outputs": [
    {
     "data": {
      "text/plain": [
       "[[0], [8], [7], [7], [7], [7], [7], [7], [1]]"
      ]
     },
     "execution_count": 63,
     "metadata": {},
     "output_type": "execute_result"
    }
   ],
   "source": [
    "8 10\n",
    "2 1\n",
    "3 2\n",
    "4 3\n",
    "5 4\n",
    "6 5\n",
    "7 6\n",
    "8 7\n",
    "3 5\n",
    "2 7\n",
    "6 8\n",
    "1"
   ]
  },
  {
   "cell_type": "code",
   "execution_count": 54,
   "metadata": {},
   "outputs": [
    {
     "data": {
      "text/plain": [
       "[[7], [7], [7], [7], [7], [2], [3], [4]]"
      ]
     },
     "execution_count": 54,
     "metadata": {},
     "output_type": "execute_result"
    }
   ],
   "source": [
    "2 1\n",
    "3 2\n",
    "4 3\n",
    "5 4\n",
    "6 5\n",
    "7 6\n",
    "3 7"
   ]
  },
  {
   "cell_type": "markdown",
   "metadata": {},
   "source": [
    "https://www.acmicpc.net/problem/25214 크림 파스타"
   ]
  },
  {
   "cell_type": "code",
   "execution_count": 87,
   "metadata": {},
   "outputs": [
    {
     "name": "stdout",
     "output_type": "stream",
     "text": [
      "6\n",
      "3 3 2 8 3 1000000000\n",
      "0 0 0 6 6 999999998\n"
     ]
    }
   ],
   "source": [
    "n = int(input())\n",
    "li = list(map(int, input().split()))\n",
    "\n",
    "cur_min = li[0]\n",
    "cur_max_r = 0\n",
    "result = [0] * n\n",
    "for i in range(n):\n",
    "    v = li[i]\n",
    "    cur_min = min(cur_min, v)\n",
    "    cur_max_r = max(cur_max_r, v - cur_min)\n",
    "    result[i] = cur_max_r\n",
    "    \n",
    "print(*result)"
   ]
  },
  {
   "cell_type": "markdown",
   "metadata": {},
   "source": [
    "https://www.acmicpc.net/problem/2223 금화"
   ]
  },
  {
   "cell_type": "code",
   "execution_count": 17,
   "metadata": {},
   "outputs": [
    {
     "name": "stdout",
     "output_type": "stream",
     "text": [
      "7 1 1\n",
      "10 3\n",
      "5\n"
     ]
    }
   ],
   "source": [
    "import sys\n",
    "# input = lambda: sys.stdin.readline().rstrip()\n",
    "\n",
    "inf = float('inf')\n",
    "\n",
    "t, x, m = map(int, input().split())\n",
    "mons = [list(map(int, input().split())) for _ in range(m)]\n",
    "\n",
    "min_p = inf\n",
    "for d, s in mons:\n",
    "    temp = d // s\n",
    "    if d % s == 0:\n",
    "        temp -= 1\n",
    "        \n",
    "    min_p = min(min_p, temp)\n",
    "    \n",
    "total = min(t, min_p) * x\n",
    "if min_p >= 1:\n",
    "    diff = t - min(t, min_p)\n",
    "    total += (diff // 2) * x\n",
    "        \n",
    "print(total)"
   ]
  },
  {
   "cell_type": "markdown",
   "metadata": {},
   "source": [
    "https://www.acmicpc.net/problem/23337 Drunk Passenger"
   ]
  },
  {
   "cell_type": "code",
   "execution_count": null,
   "metadata": {},
   "outputs": [],
   "source": [
    "dp[n] = n번째 승객이 자기 자리 뺏길 확률"
   ]
  },
  {
   "cell_type": "code",
   "execution_count": 56,
   "metadata": {},
   "outputs": [
    {
     "name": "stdout",
     "output_type": "stream",
     "text": [
      "4\n",
      "0.6666666666666666\n"
     ]
    }
   ],
   "source": [
    "n = int(input())\n",
    "\n",
    "if n == 1:\n",
    "    print(0)\n",
    "elif n == 2:\n",
    "    print(1)\n",
    "else:\n",
    "    dp = [0] * (n + 1)\n",
    "    dp[1] = 0\n",
    "    dp[2] = 1 / (n - 1)\n",
    "    for i in range(3, n + 1):\n",
    "        cur = 1 / (n - 1)\n",
    "        for j in range(2, i):\n",
    "            cur += dp[j] * (1 / (n - (j - 1)))\n",
    "        dp[i] = cur\n",
    "        \n",
    "    print(dp[n])"
   ]
  },
  {
   "cell_type": "markdown",
   "metadata": {},
   "source": [
    "https://www.acmicpc.net/problem/13250 주사위 게임"
   ]
  },
  {
   "cell_type": "code",
   "execution_count": 88,
   "metadata": {},
   "outputs": [
    {
     "name": "stdout",
     "output_type": "stream",
     "text": [
      "7\n",
      "2.521626371742112\n"
     ]
    }
   ],
   "source": [
    "n = int(input())\n",
    "\n",
    "dp = [0] * (n + 1)\n",
    "for i in range(1, n + 1):\n",
    "    r = (7 - min(i, 7)) / 6\n",
    "    for j in range(i - 6, i):\n",
    "        if j < 1:\n",
    "            continue\n",
    "        r += (1 / 6) * (dp[j] + 1)\n",
    "        \n",
    "    dp[i] = temp\n",
    "    \n",
    "print(dp[n])"
   ]
  },
  {
   "cell_type": "markdown",
   "metadata": {},
   "source": [
    "https://www.acmicpc.net/contest/problem/878/1 A"
   ]
  },
  {
   "cell_type": "code",
   "execution_count": 24,
   "metadata": {},
   "outputs": [
    {
     "name": "stdout",
     "output_type": "stream",
     "text": [
      "2 10 10 100\n",
      "1000\n"
     ]
    }
   ],
   "source": [
    "mod = 100000\n",
    "\n",
    "def check_case(used_w_c, used_d_c):\n",
    "    global max_r\n",
    "    \n",
    "    if used_w_c == used_d_c == n:\n",
    "        cur = a % mod\n",
    "        for v in stack:\n",
    "            if not v:\n",
    "                cur += b\n",
    "                cur %= mod\n",
    "            else:\n",
    "                cur *= c\n",
    "                cur %= mod\n",
    "                \n",
    "        max_r = max(max_r, cur)\n",
    "        return\n",
    "    \n",
    "    if used_w_c < n:\n",
    "        stack.append(0)\n",
    "        check_case(used_w_c + 1, used_d_c)\n",
    "        stack.pop()\n",
    "    if used_d_c < n and used_d_c + 1 <= used_w_c:\n",
    "        stack.append(1)\n",
    "        check_case(used_w_c, used_d_c + 1)\n",
    "        stack.pop()\n",
    "    \n",
    "    \n",
    "n, a, b, c = map(int, input().split())\n",
    "\n",
    "max_r = -1\n",
    "stack = []\n",
    "check_case(0, 0)\n",
    "\n",
    "print(max_r)"
   ]
  },
  {
   "cell_type": "markdown",
   "metadata": {},
   "source": [
    "A"
   ]
  },
  {
   "cell_type": "code",
   "execution_count": null,
   "metadata": {},
   "outputs": [],
   "source": [
    "w = 2*3\n"
   ]
  },
  {
   "cell_type": "code",
   "execution_count": null,
   "metadata": {},
   "outputs": [],
   "source": [
    "r c\n",
    "2 3\n",
    "\n",
    "\n",
    "iter_c = 2 + 2 - 1\n",
    "\n",
    "white = 3 + 2 + 3\n",
    "dark = 2 + 3 + 2\n",
    "\n",
    "3 "
   ]
  },
  {
   "cell_type": "code",
   "execution_count": null,
   "metadata": {},
   "outputs": [],
   "source": [
    "r c\n",
    "3 4\n",
    "\n",
    "ic = 3 + 3 - 1 = 5\n",
    "w = 4,3,4,3,4\n",
    "d = 3,4,3,4,3\n",
    "\n",
    "r c\n",
    "2 3\n",
    "\n",
    "ic = 2 + 2 - 1 = 3\n",
    "w = 3,2,3\n",
    "d = 2,3,2\n",
    "\n",
    "r c\n",
    "1 2\n",
    "\n",
    "ic = 1 + 1 - 1 = 1\n",
    "w = 2\n",
    "d = 1"
   ]
  },
  {
   "cell_type": "code",
   "execution_count": 27,
   "metadata": {},
   "outputs": [
    {
     "data": {
      "text/plain": [
       "(18, 8, 2)"
      ]
     },
     "execution_count": 27,
     "metadata": {},
     "output_type": "execute_result"
    }
   ],
   "source": [
    "4 3 4 3 4\n",
    "  3 2 3\n",
    "    2\n",
    "4 6 8 6 4\n",
    "\n",
    "\n",
    "4 3 * 1개\n",
    "3 2 * 2개\n",
    "2 1 * 2개"
   ]
  },
  {
   "cell_type": "code",
   "execution_count": null,
   "metadata": {},
   "outputs": [],
   "source": [
    "6 3\n",
    "\n",
    "3 2 3 2 3 2 3 2 3 2 3\n",
    "  2 1 2 1 2 1 2 1 2\n",
    "    1 0 1 0 1 0 1"
   ]
  },
  {
   "cell_type": "code",
   "execution_count": null,
   "metadata": {},
   "outputs": [],
   "source": [
    "3 6\n",
    "\n",
    "6 5 6 5 6\n",
    "  5 4 5\n",
    "    4\n",
    "    \n",
    "6이 3 * 1개\n",
    "5이 2 * 2개\n",
    "4이 1 * 2개"
   ]
  },
  {
   "cell_type": "code",
   "execution_count": null,
   "metadata": {},
   "outputs": [],
   "source": [
    "3 2\n",
    "\n",
    "3 2 3\n",
    "  2\n",
    "    \n",
    "3 2개\n",
    "2 2 * 2개"
   ]
  },
  {
   "cell_type": "code",
   "execution_count": null,
   "metadata": {},
   "outputs": [],
   "source": [
    "3 2 3 2 3\n",
    "  2 1 2\n",
    "    1\n",
    "    \n",
    "3 3 * 1개\n",
    "2 2 * 2개\n",
    "1 1 * 2개"
   ]
  },
  {
   "cell_type": "code",
   "execution_count": null,
   "metadata": {},
   "outputs": [],
   "source": [
    "6*5\n",
    "\n",
    "5 4 5 4 5 4 5 4 5 4 5\n",
    "  4 3 4 3 4 3 4 3 4\n",
    "    3 2 3 2 3 2 3\n",
    "      2 1 2 1 2\n",
    "        1 0 1\n",
    "        \n",
    "5 6 * 1개\n",
    "4 5 * 2개\n",
    "3 4 * 2개\n",
    "2 3 * 2개\n",
    "1 2 * 2개\n",
    "\n",
    "5 8 11 12 12"
   ]
  },
  {
   "cell_type": "code",
   "execution_count": null,
   "metadata": {},
   "outputs": [],
   "source": [
    "c가 r개\n",
    "c - 1이 (r - 1) * 2개 \n",
    "c - 2이 (r - 2) * 2개\n",
    "..."
   ]
  },
  {
   "cell_type": "code",
   "execution_count": 1,
   "metadata": {},
   "outputs": [
    {
     "name": "stdout",
     "output_type": "stream",
     "text": [
      "2\n",
      "2 3\n",
      "10 8\n",
      "10 10\n",
      "670 660\n"
     ]
    }
   ],
   "source": [
    "import io, os, sys\n",
    "input = io.BytesIO(os.read(0,os.fstat(0).st_size)).readline\n",
    "\n",
    "def get_sum(num):\n",
    "    return num * (num + 1) // 2\n",
    "\n",
    "def get_s_sum(num):\n",
    "    return num * (num + 1) * (2 * num + 1) // 6\n",
    "\n",
    "for _ in range(int(input())):\n",
    "    r, c = map(int, input().split())\n",
    "    \n",
    "    if r > c:\n",
    "        r, c = c, r\n",
    "\n",
    "    wc = c * r\n",
    "\n",
    "    c -= 1\n",
    "    r -= 1\n",
    "\n",
    "    if c >= 1:    \n",
    "        max_num = c\n",
    "        min_num = c - r + 1\n",
    "\n",
    "        diff = c - r\n",
    "\n",
    "        t1 = get_s_sum(max_num) - get_s_sum(min_num - 1)\n",
    "        t2 = get_sum(max_num) - get_sum(min_num - 1)\n",
    "\n",
    "        wc += (t1 - t2 * diff) * 2\n",
    "\n",
    "    dc = wc - (r + 1)\n",
    "\n",
    "    print(wc, dc)"
   ]
  },
  {
   "cell_type": "markdown",
   "metadata": {},
   "source": [
    "https://www.acmicpc.net/problem/13308 주유소"
   ]
  },
  {
   "cell_type": "code",
   "execution_count": 3,
   "metadata": {},
   "outputs": [
    {
     "name": "stdout",
     "output_type": "stream",
     "text": [
      "4 3\n",
      "5 2 5 2\n",
      "1 2 2\n",
      "2 3 3\n",
      "3 4 1\n",
      "18\n"
     ]
    }
   ],
   "source": [
    "from heapq import heappush, heappop\n",
    "import io, os, sys\n",
    "input = io.BytesIO(os.read(0,os.fstat(0).st_size)).readline\n",
    "\n",
    "inf = float('inf')\n",
    "\n",
    "def reduce(cp, minp, num):\n",
    "    return (cp * 2501 + minp) * 2500 + num\n",
    "\n",
    "def expand(v):\n",
    "    mulled = 2501 * 2500\n",
    "    cp = v // mulled\n",
    "    v %= mulled\n",
    "    minp = v // 2500\n",
    "    num = v % 2500\n",
    "    \n",
    "    return cp, minp, num\n",
    "\n",
    "n, m = map(int, input().split())\n",
    "prices = list(map(int, input().split()))\n",
    "li = [[] for _ in range(n)]\n",
    "for _ in range(m):\n",
    "    a, b, d = map(int, input().split())\n",
    "    a -= 1\n",
    "    b -= 1\n",
    "    li[a].append((b, d))\n",
    "    li[b].append((a, d))\n",
    "    \n",
    "dp = [[inf] * 2501 for _ in range(n)]\n",
    "dp[0][prices[0]] = 0\n",
    "\n",
    "heap = []\n",
    "heappush(heap, reduce(0, prices[0], 0)) # (누적 비용, 최소 기름 비용, 노드 번호)\n",
    "\n",
    "while heap:\n",
    "    reduced = heappop(heap)\n",
    "    cumul_cost, min_cost, value = expand(reduced)\n",
    "    \n",
    "    if cumul_cost > dp[value][min_cost]:\n",
    "        continue\n",
    "    \n",
    "    for v, d in li[value]:\n",
    "        n_cumul_cost = cumul_cost + min_cost * d\n",
    "        n_min_cost = min(prices[v], min_cost)\n",
    "        \n",
    "        if n_cumul_cost < dp[v][n_min_cost]:\n",
    "            dp[v][n_min_cost] = n_cumul_cost\n",
    "            heappush(heap, reduce(n_cumul_cost, n_min_cost, v))\n",
    "\n",
    "print(min(dp[-1]))"
   ]
  },
  {
   "cell_type": "code",
   "execution_count": 1,
   "metadata": {},
   "outputs": [
    {
     "data": {
      "text/plain": [
       "(100, 30, 23)"
      ]
     },
     "execution_count": 1,
     "metadata": {},
     "output_type": "execute_result"
    }
   ],
   "source": [
    "def reduce(cp, minp, num):\n",
    "    return (cp * 2501 + minp) * 2500 + num\n",
    "\n",
    "def expand(v):\n",
    "    mulled = 2501 * 2500\n",
    "    cp = v // mulled\n",
    "    v %= mulled\n",
    "    minp = v // 2500\n",
    "    num = v % 2500\n",
    "    \n",
    "    return cp, minp, num\n",
    "\n",
    "\n",
    "\n",
    "expand(reduce(100, 30, 23))"
   ]
  },
  {
   "cell_type": "markdown",
   "metadata": {},
   "source": [
    "https://www.acmicpc.net/problem/15972 물탱크"
   ]
  },
  {
   "cell_type": "code",
   "execution_count": 11,
   "metadata": {},
   "outputs": [
    {
     "name": "stdout",
     "output_type": "stream",
     "text": [
      "1 5 10\n",
      "5 -1 -1 -1 6\n",
      "-1 7 -1 6 -1\n",
      "-1 2 8 4 2 3\n",
      "20\n"
     ]
    }
   ],
   "source": [
    "from heapq import heappush, heappop\n",
    "import io, os, sys\n",
    "input = io.BytesIO(os.read(0,os.fstat(0).st_size)).readline\n",
    "\n",
    "def reduce(v, x1, y1, x2, y2):\n",
    "    return (((v * 1005 + x1) * 1005 + y1) * 1005 + x2) * 1005 + y2\n",
    "\n",
    "def expand(reduced):\n",
    "    mulled = 1005 ** 4\n",
    "    \n",
    "    v = reduced // mulled\n",
    "    reduced %= mulled\n",
    "    mulled //= 1005\n",
    "    \n",
    "    x1 = reduced // mulled\n",
    "    reduced %= mulled\n",
    "    mulled //= 1005\n",
    "    \n",
    "    y1 = reduced // mulled\n",
    "    reduced %= mulled\n",
    "    mulled //= 1005\n",
    "    \n",
    "    x2 = reduced // mulled\n",
    "    reduced %= mulled\n",
    "    \n",
    "    y2 = reduced % mulled\n",
    "    \n",
    "    return v, x1, y1, x2, y2\n",
    "\n",
    "n, m, h = map(int, input().split())\n",
    "n += 2\n",
    "m += 2\n",
    "\n",
    "waters = [[h] * m for _ in range(n)]\n",
    "for j in range(m):\n",
    "    waters[0][j] = 0\n",
    "    waters[n - 1][j] = 0\n",
    "    \n",
    "for i in range(n):\n",
    "    waters[i][0] = 0\n",
    "    waters[i][m - 1] = 0\n",
    "\n",
    "ct = [[[] for _ in range(m)] for _ in range(n)] # connected\n",
    "\n",
    "for i in range(n - 1):\n",
    "    temp = list(map(int, input().split()))\n",
    "    \n",
    "    for j in range(m - 2):\n",
    "        if temp[j] != -1:\n",
    "            ct[i][j + 1].append((temp[j], i + 1, j + 1))\n",
    "            ct[i + 1][j + 1].append((temp[j], i, j + 1))\n",
    "\n",
    "for i in range(n - 2):\n",
    "    temp = list(map(int, input().split()))\n",
    "    \n",
    "    for j in range(m - 1):\n",
    "        if temp[j] != -1:\n",
    "            ct[i + 1][j].append((temp[j], i + 1, j + 1))\n",
    "            ct[i + 1][j + 1].append((temp[j], i + 1 , j))\n",
    "    \n",
    "heap = []\n",
    "\n",
    "for j in range(m):\n",
    "    for v, x2, y2 in ct[0][j]:\n",
    "        heappush(heap, reduce(v, 0, j, x2, y2))\n",
    "    \n",
    "    for v, x2, y2 in ct[n - 1][j]:\n",
    "        heappush(heap, reduce(v, n - 1, j, x2, y2))\n",
    "    \n",
    "for i in range(n):\n",
    "    for v, x2, y2 in ct[i][0]:\n",
    "        heappush(heap, reduce(v, i, 0, x2, y2))\n",
    "        \n",
    "    for v, x2, y2 in ct[i][m - 1]:\n",
    "        heappush(heap, reduce(v, i, m - 1, x2, y2))\n",
    "    \n",
    "while heap:\n",
    "    reduced = heappop(heap)\n",
    "    value, x1, y1, x2, y2 = expand(reduced)\n",
    "    \n",
    "    if waters[x1][y1] >= waters[x2][y2] or value >= waters[x2][y2]:\n",
    "        continue\n",
    "        \n",
    "    nwater = max(waters[x1][y1], value)\n",
    "    waters[x2][y2] = nwater\n",
    "    for v, x3, y3 in ct[x2][y2]:\n",
    "        heappush(heap, reduce(v, x2, y2, x3, y3))\n",
    "    \n",
    "total = 0\n",
    "for i in range(n):\n",
    "    total += sum(waters[i])\n",
    "    \n",
    "print(total)"
   ]
  }
 ],
 "metadata": {
  "kernelspec": {
   "display_name": "Python 3",
   "language": "python",
   "name": "python3"
  },
  "language_info": {
   "codemirror_mode": {
    "name": "ipython",
    "version": 3
   },
   "file_extension": ".py",
   "mimetype": "text/x-python",
   "name": "python",
   "nbconvert_exporter": "python",
   "pygments_lexer": "ipython3",
   "version": "3.7.4"
  }
 },
 "nbformat": 4,
 "nbformat_minor": 2
}
