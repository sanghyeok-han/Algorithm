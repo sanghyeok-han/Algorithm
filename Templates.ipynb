{
 "cells": [
  {
   "cell_type": "markdown",
   "metadata": {},
   "source": [
    "### * 빠른 입력"
   ]
  },
  {
   "cell_type": "code",
   "execution_count": null,
   "metadata": {},
   "outputs": [],
   "source": [
    "import io, os, sys\n",
    "input = io.BytesIO(os.read(0, os.fstat(0).st_size)).readline\n",
    "\n",
    "# 스트링 처리 시 input().decode().rstrip()\n",
    "# 인터렉티브 문제에서는 사용 불가"
   ]
  },
  {
   "cell_type": "code",
   "execution_count": null,
   "metadata": {},
   "outputs": [],
   "source": [
    "import sys\n",
    "input = lambda: sys.stdin.readline().rstrip()"
   ]
  },
  {
   "cell_type": "markdown",
   "metadata": {},
   "source": [
    "### * 깊은 재귀시 이용"
   ]
  },
  {
   "cell_type": "code",
   "execution_count": null,
   "metadata": {},
   "outputs": [],
   "source": [
    "sys.setrecursionlimit(100000)"
   ]
  },
  {
   "cell_type": "code",
   "execution_count": null,
   "metadata": {},
   "outputs": [],
   "source": [
    "## PYRIVAL BOOTSTRAP\n",
    "# https://github.com/cheran-senthil/PyRival/blob/master/pyrival/misc/bootstrap.py\n",
    "# This decorator allows for recursion without actually doing recursion\n",
    "## @bootstrap, yield when getting and returning value in recursive functions, end of functions\n",
    "from types import GeneratorType\n",
    "\n",
    "def bootstrap(f, stack=[]):\n",
    "    def wrappedfunc(*args, **kwargs):\n",
    "        if stack:\n",
    "            return f(*args, **kwargs)\n",
    "        else:\n",
    "            to = f(*args, **kwargs)\n",
    "            while True:\n",
    "                if type(to) is GeneratorType:\n",
    "                    stack.append(to)\n",
    "                    to = next(to)\n",
    "                else:\n",
    "                    stack.pop()\n",
    "                    if not stack:\n",
    "                        break\n",
    "                    to = stack[-1].send(to)\n",
    "            return to\n",
    "    return wrappedfunc"
   ]
  },
  {
   "cell_type": "markdown",
   "metadata": {},
   "source": [
    "### 약수 구하기"
   ]
  },
  {
   "cell_type": "code",
   "execution_count": 7,
   "metadata": {},
   "outputs": [
    {
     "data": {
      "text/plain": [
       "[1, 2, 3, 4, 6, 12]"
      ]
     },
     "execution_count": 7,
     "metadata": {},
     "output_type": "execute_result"
    }
   ],
   "source": [
    "def get_divisors(num):\n",
    "    divisors = set()\n",
    "    for mod in range(1, int(num ** 0.5) + 1):\n",
    "        if num % mod == 0:\n",
    "            divisors.add(mod)\n",
    "            divisors.add(num // mod)\n",
    "            \n",
    "    return sorted(divisors)\n",
    "\n",
    "get_divisors(12)"
   ]
  },
  {
   "cell_type": "code",
   "execution_count": 8,
   "metadata": {},
   "outputs": [
    {
     "data": {
      "text/plain": [
       "[1, 2, 3, 4, 6, 12]"
      ]
     },
     "execution_count": 8,
     "metadata": {},
     "output_type": "execute_result"
    }
   ],
   "source": [
    "def get_divisors(num):\n",
    "    divisors = []\n",
    "    for mod in range(1, int(num ** 0.5)):\n",
    "        if num % mod == 0:\n",
    "            divisors.append(mod)\n",
    "            divisors.append(num // mod)\n",
    "            \n",
    "    mod = int(num ** 0.5)\n",
    "    if num % mod == 0:\n",
    "        divisors.append(mod)\n",
    "        if num // mod != mod:\n",
    "            divisors.append(num // mod)\n",
    "            \n",
    "    return sorted(divisors)\n",
    "\n",
    "get_divisors(12)"
   ]
  },
  {
   "cell_type": "markdown",
   "metadata": {},
   "source": [
    "### 에라토스테네스의 체"
   ]
  },
  {
   "cell_type": "code",
   "execution_count": 1,
   "metadata": {},
   "outputs": [
    {
     "name": "stdout",
     "output_type": "stream",
     "text": [
      "[2, 3, 5, 7, 11, 13, 17, 19, 23, 29, 31, 37, 41, 43, 47, 53, 59, 61, 67, 71, 73, 79, 83, 89, 97]\n"
     ]
    }
   ],
   "source": [
    "max_num = 100\n",
    "ip = [True] * (max_num + 1)\n",
    "ip[0] = ip[1] = False\n",
    "for mod1 in range(2, int((max_num + 1) ** 0.5) + 1):\n",
    "    if ip[mod1]:\n",
    "        for v in range(mod1 * mod1, max_num + 1, mod1):\n",
    "            ip[v] = False\n",
    "            \n",
    "primes = [i for i, v in enumerate(ip) if v]\n",
    "\n",
    "print(primes)"
   ]
  },
  {
   "cell_type": "markdown",
   "metadata": {},
   "source": [
    "### 오일러의 체"
   ]
  },
  {
   "cell_type": "code",
   "execution_count": 1,
   "metadata": {},
   "outputs": [
    {
     "name": "stdout",
     "output_type": "stream",
     "text": [
      "[2, 3, 5, 7, 11, 13, 17, 19, 23, 29, 31, 37, 41, 43, 47, 53, 59, 61, 67, 71, 73, 79, 83, 89, 97]\n"
     ]
    }
   ],
   "source": [
    "max_num = 100\n",
    "sp = [0] * (max_num + 1)\n",
    "primes = []\n",
    "for i in range(2, max_num + 1):\n",
    "    if sp[i] == 0:\n",
    "        sp[i] = i\n",
    "        primes.append(i)\n",
    "        \n",
    "    j = 0\n",
    "    while j < len(primes) and i * primes[j] <= max_num and primes[j] <= sp[i]:\n",
    "        sp[i * primes[j]] = primes[j]\n",
    "        j += 1\n",
    "        \n",
    "print(primes)"
   ]
  },
  {
   "cell_type": "markdown",
   "metadata": {},
   "source": [
    "### 오일러의 체를 이용한 소인수분해"
   ]
  },
  {
   "cell_type": "code",
   "execution_count": 6,
   "metadata": {},
   "outputs": [
    {
     "name": "stdout",
     "output_type": "stream",
     "text": [
      "[2, 2, 3]\n"
     ]
    }
   ],
   "source": [
    "num = 12\n",
    "r = []\n",
    "while num > 1:\n",
    "    r.append(sp[num])\n",
    "    num //= sp[num]\n",
    "    \n",
    "print(r)"
   ]
  },
  {
   "cell_type": "markdown",
   "metadata": {},
   "source": [
    "### 기본 소인수분해"
   ]
  },
  {
   "cell_type": "code",
   "execution_count": 7,
   "metadata": {},
   "outputs": [
    {
     "data": {
      "text/plain": [
       "[2, 2, 2]"
      ]
     },
     "execution_count": 7,
     "metadata": {},
     "output_type": "execute_result"
    }
   ],
   "source": [
    "def p_facto(num):\n",
    "    r = []\n",
    "    for mod in range(2, int(num ** 0.5) + 1):\n",
    "        while num % mod == 0:\n",
    "            num //= mod\n",
    "            r.append(mod)\n",
    "    \n",
    "    if num != 1:\n",
    "        r.append(num)\n",
    "        \n",
    "    return r\n",
    "\n",
    "p_facto(8)"
   ]
  },
  {
   "cell_type": "markdown",
   "metadata": {},
   "source": [
    "### nCk"
   ]
  },
  {
   "cell_type": "code",
   "execution_count": 3,
   "metadata": {},
   "outputs": [
    {
     "name": "stdout",
     "output_type": "stream",
     "text": [
      "10\n"
     ]
    }
   ],
   "source": [
    "def nCk(n, k):\n",
    "    if n < k:\n",
    "        return 0\n",
    "    if k < 0:\n",
    "        return 0\n",
    "    \n",
    "    if n - k < k:\n",
    "        k = n - k\n",
    "        \n",
    "    num = 1\n",
    "    for i in range(n, n - k, -1):\n",
    "        num *= i\n",
    "    \n",
    "    denom = 1\n",
    "    for i in range(2, k + 1):\n",
    "        denom *= i\n",
    "        \n",
    "    return num // denom\n",
    "\n",
    "r = nCk(5, 3)\n",
    "print(r)"
   ]
  },
  {
   "cell_type": "markdown",
   "metadata": {},
   "source": [
    "### 모듈러 곱셈 역원 nCk"
   ]
  },
  {
   "cell_type": "code",
   "execution_count": null,
   "metadata": {},
   "outputs": [],
   "source": [
    "mod = 1000000007\n",
    "max_num = 1000\n",
    "\n",
    "factos = [0] * (max_num + 1)\n",
    "factos[0] = 1\n",
    "invs = [0] * (max_num + 1)\n",
    "cur = 1\n",
    "for i in range(1, max_num + 1):\n",
    "    cur *= i\n",
    "    cur %= mod\n",
    "    factos[i] = cur\n",
    "    \n",
    "invs[max_num] = pow(factos[max_num], mod - 2, mod)\n",
    "for i in range(max_num - 1, -1, -1):\n",
    "    invs[i] = (i + 1) * invs[i + 1] % mod\n",
    "\n",
    "def nCk(n, k):\n",
    "    if n < k:\n",
    "        return 0\n",
    "    if k < 0:\n",
    "        return 0\n",
    "    return factos[n] * invs[k] * invs[n - k] % mod\n",
    "\n",
    "r = nCk(5, 3)\n",
    "    \n",
    "print(r)"
   ]
  },
  {
   "cell_type": "markdown",
   "metadata": {},
   "source": [
    "### dp nCk"
   ]
  },
  {
   "cell_type": "code",
   "execution_count": 1,
   "metadata": {},
   "outputs": [],
   "source": [
    "max_n = 5\n",
    "max_k = 4\n",
    "\n",
    "c_dp = [[0] * (max_k + 1) for _ in range(max_n + 1)]\n",
    "for nn in range(max_n + 1):\n",
    "    c_dp[nn][0] = 1\n",
    "    cur = 1\n",
    "    for kk in range(1, max_k + 1):\n",
    "        if kk > nn:\n",
    "            break\n",
    "        cur = cur * (nn - (kk - 1)) // kk\n",
    "        c_dp[nn][kk] = cur\n",
    "\n",
    "nCk = lambda n, k: c_dp[n][k]\n",
    "\n",
    "r = nCk(3, 2)"
   ]
  },
  {
   "cell_type": "markdown",
   "metadata": {},
   "source": [
    "### 확장 유클리드 호제법"
   ]
  },
  {
   "cell_type": "code",
   "execution_count": null,
   "metadata": {},
   "outputs": [],
   "source": [
    "# 역원이 존재할 때 역원만 구할시\n",
    "pow(a, -1, mod)"
   ]
  },
  {
   "cell_type": "code",
   "execution_count": 21,
   "metadata": {},
   "outputs": [
    {
     "name": "stdout",
     "output_type": "stream",
     "text": [
      "26 11\n",
      "15 19\n"
     ]
    }
   ],
   "source": [
    "from math import gcd\n",
    "\n",
    "def extended_euclid(a, b):\n",
    "    r1, r2, s1, s2, t1, t2 = a, b, 1, 0, 0, 1\n",
    "    while r2:\n",
    "        q = r1 // r2\n",
    "        r = r1 % r2\n",
    "        r1 = r2\n",
    "        r2 = r\n",
    "        \n",
    "        s = s1 - q * s2\n",
    "        s1 = s2\n",
    "        s2 = s\n",
    "        \n",
    "        t = t1 - q * t2\n",
    "        t1 = t2\n",
    "        t2 = t\n",
    "    \n",
    "    inv = float('inf') # multiplicative inverse of a when r1 == 1\n",
    "    \n",
    "    if r1 == 1:\n",
    "        inv = s1\n",
    "        if inv < 0:\n",
    "            inv += b\n",
    "        \n",
    "    return r1, s1, t1, inv\n",
    "\n",
    "mod, a = map(int, input().split())\n",
    "\n",
    "r1 = (-a) % mod\n",
    "\n",
    "g, x, y, r2 = extended_euclid(a, mod)\n",
    "\n",
    "if g != 1:\n",
    "    r2 = -1\n",
    "    \n",
    "print(r1, r2)"
   ]
  },
  {
   "cell_type": "markdown",
   "metadata": {},
   "source": [
    "### 다익스트라"
   ]
  },
  {
   "cell_type": "code",
   "execution_count": null,
   "metadata": {},
   "outputs": [],
   "source": [
    "from heapq import heappush, heappop\n",
    "\n",
    "inf = float('inf')\n",
    "\n",
    "dists = [inf] * (n + 1)\n",
    "dists[start] = 0\n",
    "\n",
    "heap = []\n",
    "heappush(heap, (0, start))\n",
    "\n",
    "while heap:\n",
    "    dist, value = heappop(heap)\n",
    "    \n",
    "    if dist > dists[value]:\n",
    "        continue\n",
    "        \n",
    "    for v, d in li[value]:\n",
    "        ndist = dist + d\n",
    "        if ndist < dists[v]:\n",
    "            dists[v] = ndist\n",
    "            heappush(heap, (ndist, v))\n",
    "            \n",
    "print(dists)"
   ]
  },
  {
   "cell_type": "markdown",
   "metadata": {},
   "source": [
    "### 플로이드 워셜"
   ]
  },
  {
   "cell_type": "code",
   "execution_count": null,
   "metadata": {},
   "outputs": [],
   "source": [
    "inf = float('inf')\n",
    "\n",
    "nli = [[inf] * n for _ in range(n)]\n",
    "for i in range(n):\n",
    "    nli[i][i] = 0\n",
    "    \n",
    "for mid in range(n):\n",
    "    for i in range(n):\n",
    "        for j in range(n):\n",
    "            nli[i][j] = min(nli[i][j], nli[i][mid] + nli[mid][j])\n",
    "            \n",
    "for v in nli:\n",
    "    print(v)"
   ]
  },
  {
   "cell_type": "markdown",
   "metadata": {},
   "source": [
    "### 삼분 탐색"
   ]
  },
  {
   "cell_type": "code",
   "execution_count": null,
   "metadata": {},
   "outputs": [],
   "source": [
    "def get_value(mid):\n",
    "    cur = 0\n",
    "    sv = 0\n",
    "    for i in range(1, n):\n",
    "        cur += mid\n",
    "        sv += abs(li[i] - cur)\n",
    "        \n",
    "    return sv\n",
    "\n",
    "n = int(input())\n",
    "li = list(map(int, input().split()))\n",
    "\n",
    "start = 1\n",
    "end = 1000000000\n",
    "result = float('inf')\n",
    "while start <= end:\n",
    "    mid1 = (start * 2 + end) // 3\n",
    "    mid2 = (start + end * 2) // 3\n",
    "    \n",
    "    t1 = get_value(mid1)\n",
    "    t2 = get_value(mid2)\n",
    "    \n",
    "    result = min(result, t1, t2)\n",
    "    \n",
    "    if end - start <= 5:\n",
    "        for mid in range(start, end + 1):\n",
    "            result = min(result, get_value(mid))\n",
    "        break\n",
    "    \n",
    "    if t1 >= t2:\n",
    "        start = mid1\n",
    "    else:\n",
    "        end = mid2\n",
    "        \n",
    "print(result)"
   ]
  },
  {
   "cell_type": "markdown",
   "metadata": {},
   "source": [
    "### Sorted multiset"
   ]
  },
  {
   "cell_type": "code",
   "execution_count": 1,
   "metadata": {},
   "outputs": [],
   "source": [
    "# https://github.com/tatyam-prime/SortedSet/blob/main/SortedMultiset.py\n",
    "import math\n",
    "from bisect import bisect_left, bisect_right, insort\n",
    "from typing import Generic, Iterable, Iterator, TypeVar, Union, List\n",
    "T = TypeVar('T')\n",
    "\n",
    "class SortedMultiset(Generic[T]):\n",
    "    BUCKET_RATIO = 50\n",
    "    REBUILD_RATIO = 170\n",
    "\n",
    "    def _build(self, a=None) -> None:\n",
    "        \"Evenly divide `a` into buckets.\"\n",
    "        if a is None: a = list(self)\n",
    "        size = self.size = len(a)\n",
    "        bucket_size = int(math.ceil(math.sqrt(size / self.BUCKET_RATIO)))\n",
    "        self.a = [a[size * i // bucket_size : size * (i + 1) // bucket_size] for i in range(bucket_size)]\n",
    "    \n",
    "    def __init__(self, a: Iterable[T] = []) -> None:\n",
    "        \"Make a new SortedMultiset from iterable. / O(N) if sorted / O(N log N)\"\n",
    "        a = list(a)\n",
    "        if not all(a[i] <= a[i + 1] for i in range(len(a) - 1)):\n",
    "            a = sorted(a)\n",
    "        self._build(a)\n",
    "\n",
    "    def __iter__(self) -> Iterator[T]:\n",
    "        for i in self.a:\n",
    "            for j in i: yield j\n",
    "\n",
    "    def __reversed__(self) -> Iterator[T]:\n",
    "        for i in reversed(self.a):\n",
    "            for j in reversed(i): yield j\n",
    "    \n",
    "    def __len__(self) -> int:\n",
    "        return self.size\n",
    "    \n",
    "    def __repr__(self) -> str:\n",
    "        return \"SortedMultiset\" + str(self.a)\n",
    "    \n",
    "    def __str__(self) -> str:\n",
    "        s = str(list(self))\n",
    "        return \"{\" + s[1 : len(s) - 1] + \"}\"\n",
    "\n",
    "    def _find_bucket(self, x: T) -> List[T]:\n",
    "        \"Find the bucket which should contain x. self must not be empty.\"\n",
    "        for a in self.a:\n",
    "            if x <= a[-1]: return a\n",
    "        return a\n",
    "\n",
    "    def __contains__(self, x: T) -> bool:\n",
    "        if self.size == 0: return False\n",
    "        a = self._find_bucket(x)\n",
    "        i = bisect_left(a, x)\n",
    "        return i != len(a) and a[i] == x\n",
    "\n",
    "    def count(self, x: T) -> int:\n",
    "        \"Count the number of x.\"\n",
    "        return self.index_right(x) - self.index(x)\n",
    "\n",
    "    def add(self, x: T) -> None:\n",
    "        \"Add an element. / O(√N)\"\n",
    "        if self.size == 0:\n",
    "            self.a = [[x]]\n",
    "            self.size = 1\n",
    "            return\n",
    "        a = self._find_bucket(x)\n",
    "        insort(a, x)\n",
    "        self.size += 1\n",
    "        if len(a) > len(self.a) * self.REBUILD_RATIO:\n",
    "            self._build()\n",
    "\n",
    "    def discard(self, x: T) -> bool:\n",
    "        \"Remove an element and return True if removed. / O(√N)\"\n",
    "        if self.size == 0: return False\n",
    "        a = self._find_bucket(x)\n",
    "        i = bisect_left(a, x)\n",
    "        if i == len(a) or a[i] != x: return False\n",
    "        a.pop(i)\n",
    "        self.size -= 1\n",
    "        if len(a) == 0: self._build()\n",
    "        return True\n",
    "\n",
    "    def lt(self, x: T) -> Union[T, None]:\n",
    "        \"Find the largest element < x, or None if it doesn't exist.\"\n",
    "        for a in reversed(self.a):\n",
    "            if a[0] < x:\n",
    "                return a[bisect_left(a, x) - 1]\n",
    "\n",
    "    def le(self, x: T) -> Union[T, None]:\n",
    "        \"Find the largest element <= x, or None if it doesn't exist.\"\n",
    "        for a in reversed(self.a):\n",
    "            if a[0] <= x:\n",
    "                return a[bisect_right(a, x) - 1]\n",
    "\n",
    "    def gt(self, x: T) -> Union[T, None]:\n",
    "        \"Find the smallest element > x, or None if it doesn't exist.\"\n",
    "        for a in self.a:\n",
    "            if a[-1] > x:\n",
    "                return a[bisect_right(a, x)]\n",
    "\n",
    "    def ge(self, x: T) -> Union[T, None]:\n",
    "        \"Find the smallest element >= x, or None if it doesn't exist.\"\n",
    "        for a in self.a:\n",
    "            if a[-1] >= x:\n",
    "                return a[bisect_left(a, x)]\n",
    "    \n",
    "    def __getitem__(self, x: int) -> T:\n",
    "        \"Return the x-th element, or IndexError if it doesn't exist.\"\n",
    "        if x < 0: x += self.size\n",
    "        if x < 0: raise IndexError\n",
    "        for a in self.a:\n",
    "            if x < len(a): return a[x]\n",
    "            x -= len(a)\n",
    "        raise IndexError\n",
    "\n",
    "    def index(self, x: T) -> int:\n",
    "        \"Count the number of elements < x.\"\n",
    "        ans = 0\n",
    "        for a in self.a:\n",
    "            if a[-1] >= x:\n",
    "                return ans + bisect_left(a, x)\n",
    "            ans += len(a)\n",
    "        return ans\n",
    "\n",
    "    def index_right(self, x: T) -> int:\n",
    "        \"Count the number of elements <= x.\"\n",
    "        ans = 0\n",
    "        for a in self.a:\n",
    "            if a[-1] > x:\n",
    "                return ans + bisect_right(a, x)\n",
    "            ans += len(a)\n",
    "        return ans\n",
    "    \n",
    "ms = SortedMultiset()\n",
    "ms.add(1)\n",
    "ms.index(1)\n",
    "ms.index_right(1)"
   ]
  },
  {
   "cell_type": "markdown",
   "metadata": {},
   "source": [
    "### Sorted Set"
   ]
  },
  {
   "cell_type": "code",
   "execution_count": null,
   "metadata": {},
   "outputs": [],
   "source": [
    "# https://github.com/tatyam-prime/SortedSet/blob/main/SortedSet.py\n",
    "import math\n",
    "from bisect import bisect_left, bisect_right\n",
    "from typing import Generic, Iterable, Iterator, TypeVar, Union, List\n",
    "T = TypeVar('T')\n",
    "\n",
    "class SortedSet(Generic[T]):\n",
    "    BUCKET_RATIO = 50\n",
    "    REBUILD_RATIO = 170\n",
    "\n",
    "    def _build(self, a=None) -> None:\n",
    "        \"Evenly divide `a` into buckets.\"\n",
    "        if a is None: a = list(self)\n",
    "        size = self.size = len(a)\n",
    "        bucket_size = int(math.ceil(math.sqrt(size / self.BUCKET_RATIO)))\n",
    "        self.a = [a[size * i // bucket_size : size * (i + 1) // bucket_size] for i in range(bucket_size)]\n",
    "    \n",
    "    def __init__(self, a: Iterable[T] = []) -> None:\n",
    "        \"Make a new SortedSet from iterable. / O(N) if sorted and unique / O(N log N)\"\n",
    "        a = list(a)\n",
    "        if not all(a[i] < a[i + 1] for i in range(len(a) - 1)):\n",
    "            a = sorted(set(a))\n",
    "        self._build(a)\n",
    "\n",
    "    def __iter__(self) -> Iterator[T]:\n",
    "        for i in self.a:\n",
    "            for j in i: yield j\n",
    "\n",
    "    def __reversed__(self) -> Iterator[T]:\n",
    "        for i in reversed(self.a):\n",
    "            for j in reversed(i): yield j\n",
    "    \n",
    "    def __len__(self) -> int:\n",
    "        return self.size\n",
    "    \n",
    "    def __repr__(self) -> str:\n",
    "        return \"SortedSet\" + str(self.a)\n",
    "    \n",
    "    def __str__(self) -> str:\n",
    "        s = str(list(self))\n",
    "        return \"{\" + s[1 : len(s) - 1] + \"}\"\n",
    "\n",
    "    def _find_bucket(self, x: T) -> List[T]:\n",
    "        \"Find the bucket which should contain x. self must not be empty.\"\n",
    "        for a in self.a:\n",
    "            if x <= a[-1]: return a\n",
    "        return a\n",
    "\n",
    "    def __contains__(self, x: T) -> bool:\n",
    "        if self.size == 0: return False\n",
    "        a = self._find_bucket(x)\n",
    "        i = bisect_left(a, x)\n",
    "        return i != len(a) and a[i] == x\n",
    "\n",
    "    def add(self, x: T) -> bool:\n",
    "        \"Add an element and return True if added. / O(√N)\"\n",
    "        if self.size == 0:\n",
    "            self.a = [[x]]\n",
    "            self.size = 1\n",
    "            return True\n",
    "        a = self._find_bucket(x)\n",
    "        i = bisect_left(a, x)\n",
    "        if i != len(a) and a[i] == x: return False\n",
    "        a.insert(i, x)\n",
    "        self.size += 1\n",
    "        if len(a) > len(self.a) * self.REBUILD_RATIO:\n",
    "            self._build()\n",
    "        return True\n",
    "\n",
    "    def discard(self, x: T) -> bool:\n",
    "        \"Remove an element and return True if removed. / O(√N)\"\n",
    "        if self.size == 0: return False\n",
    "        a = self._find_bucket(x)\n",
    "        i = bisect_left(a, x)\n",
    "        if i == len(a) or a[i] != x: return False\n",
    "        a.pop(i)\n",
    "        self.size -= 1\n",
    "        if len(a) == 0: self._build()\n",
    "        return True\n",
    "    \n",
    "    def lt(self, x: T) -> Union[T, None]:\n",
    "        \"Find the largest element < x, or None if it doesn't exist.\"\n",
    "        for a in reversed(self.a):\n",
    "            if a[0] < x:\n",
    "                return a[bisect_left(a, x) - 1]\n",
    "\n",
    "    def le(self, x: T) -> Union[T, None]:\n",
    "        \"Find the largest element <= x, or None if it doesn't exist.\"\n",
    "        for a in reversed(self.a):\n",
    "            if a[0] <= x:\n",
    "                return a[bisect_right(a, x) - 1]\n",
    "\n",
    "    def gt(self, x: T) -> Union[T, None]:\n",
    "        \"Find the smallest element > x, or None if it doesn't exist.\"\n",
    "        for a in self.a:\n",
    "            if a[-1] > x:\n",
    "                return a[bisect_right(a, x)]\n",
    "\n",
    "    def ge(self, x: T) -> Union[T, None]:\n",
    "        \"Find the smallest element >= x, or None if it doesn't exist.\"\n",
    "        for a in self.a:\n",
    "            if a[-1] >= x:\n",
    "                return a[bisect_left(a, x)]\n",
    "    \n",
    "    def __getitem__(self, x: int) -> T:\n",
    "        \"Return the x-th element, or IndexError if it doesn't exist.\"\n",
    "        if x < 0: x += self.size\n",
    "        if x < 0: raise IndexError\n",
    "        for a in self.a:\n",
    "            if x < len(a): return a[x]\n",
    "            x -= len(a)\n",
    "        raise IndexError\n",
    "    \n",
    "    def index(self, x: T) -> int:\n",
    "        \"Count the number of elements < x.\"\n",
    "        ans = 0\n",
    "        for a in self.a:\n",
    "            if a[-1] >= x:\n",
    "                return ans + bisect_left(a, x)\n",
    "            ans += len(a)\n",
    "        return ans\n",
    "\n",
    "    def index_right(self, x: T) -> int:\n",
    "        \"Count the number of elements <= x.\"\n",
    "        ans = 0\n",
    "        for a in self.a:\n",
    "            if a[-1] > x:\n",
    "                return ans + bisect_right(a, x)\n",
    "            ans += len(a)\n",
    "        return "
   ]
  },
  {
   "cell_type": "markdown",
   "metadata": {},
   "source": [
    "### 세그먼트 트리"
   ]
  },
  {
   "cell_type": "markdown",
   "metadata": {},
   "source": [
    "https://codeforces.com/contest/1691/submission/159088060 참고"
   ]
  },
  {
   "cell_type": "code",
   "execution_count": null,
   "metadata": {},
   "outputs": [],
   "source": [
    "class SegmentTree:\n",
    "    def __init__(self, data, default=10**15, func=lambda a, b: max(a,b)):\n",
    "        \"\"\"initialize the segment tree with data\"\"\"\n",
    "        self._default = default\n",
    "        self._func = func\n",
    "        self._len = len(data)\n",
    "        self._size = _size = 1 << (self._len - 1).bit_length()\n",
    " \n",
    "        self.data = [default] * (2 * _size)\n",
    "        self.data[_size:_size + self._len] = data\n",
    "        for i in reversed(range(_size)):\n",
    "            self.data[i] = func(self.data[i + i], self.data[i + i + 1])\n",
    " \n",
    "    def __delitem__(self, idx):\n",
    "        self[idx] = self._default\n",
    " \n",
    "    def __getitem__(self, idx):\n",
    "        return self.data[idx + self._size]\n",
    " \n",
    "    def __setitem__(self, idx, value):\n",
    "        idx += self._size\n",
    "        self.data[idx] = value\n",
    "        idx >>= 1\n",
    "        while idx:\n",
    "            self.data[idx] = self._func(self.data[2 * idx], self.data[2 * idx + 1])\n",
    "            idx >>= 1\n",
    " \n",
    "    def __len__(self):\n",
    "        return self._len\n",
    " \n",
    "    def query(self, start, stop):\n",
    "        if start == stop:\n",
    "            return self.__getitem__(start)\n",
    "        stop += 1\n",
    "        start += self._size\n",
    "        stop += self._size\n",
    " \n",
    "        res = self._default\n",
    "        while start < stop:\n",
    "            if start & 1:\n",
    "                res = self._func(res, self.data[start])\n",
    "                start += 1\n",
    "            if stop & 1:\n",
    "                stop -= 1\n",
    "                res = self._func(res, self.data[stop])\n",
    "            start >>= 1\n",
    "            stop >>= 1\n",
    "        return res\n",
    " \n",
    "    def __repr__(self):\n",
    "        return \"SegmentTree({0})\".format(self.data)\n",
    "    \n",
    "func = lambda a, b: a * b\n",
    "segtree = SegmentTree(li, -inf, func=func)\n",
    "segtree.query(l, r)"
   ]
  },
  {
   "cell_type": "markdown",
   "metadata": {},
   "source": [
    "### 펜웍 트리"
   ]
  },
  {
   "cell_type": "code",
   "execution_count": null,
   "metadata": {},
   "outputs": [],
   "source": [
    "def get_sum(i):\n",
    "    total = 0\n",
    "    while i > 0:\n",
    "        total += tree[i]\n",
    "        i -= i & (-i)\n",
    "        \n",
    "    return total\n",
    "\n",
    "def update(i, diff):\n",
    "    while i < n + 1:\n",
    "        tree[i] += diff\n",
    "        i += i & (-i)\n",
    "\n",
    "n, m = map(int, input().split())\n",
    "\n",
    "li = [0] * (n + 1)\n",
    "tree = [0] * (n + 1)\n",
    "\n",
    "# 합계시\n",
    "sv = get_sum(b) - get_sum(a - 1) # 누적합과 비슷\n",
    "\n",
    "# 변경시\n",
    "diff = nv - li[index]\n",
    "li[index] = nv\n",
    "update(index + 1, diff)"
   ]
  },
  {
   "cell_type": "markdown",
   "metadata": {},
   "source": [
    "### LIS (nlogn)"
   ]
  },
  {
   "cell_type": "code",
   "execution_count": null,
   "metadata": {},
   "outputs": [],
   "source": [
    "from bisect import bisect_left\n",
    "\n",
    "n = int(input())\n",
    "li = list(map(int, input().split()))\n",
    "\n",
    "nli = [li[0]]\n",
    "for i in range(1, len(li)):\n",
    "    index = bisect_left(nli, li[i])\n",
    "    \n",
    "    if index == len(nli):\n",
    "        nli.append(li[i])\n",
    "    else:\n",
    "        nli[index] = li[i]\n",
    "        \n",
    "print(len(nli))"
   ]
  },
  {
   "cell_type": "markdown",
   "metadata": {},
   "source": [
    "### Counting Inversions"
   ]
  },
  {
   "cell_type": "code",
   "execution_count": null,
   "metadata": {},
   "outputs": [],
   "source": [
    "def merge_sort(li):\n",
    "    global count\n",
    "    \n",
    "    if len(li) == 1:\n",
    "        return li\n",
    "    \n",
    "    left = merge_sort(li[:len(li) // 2])\n",
    "    right = merge_sort(li[len(li) // 2:])\n",
    "    \n",
    "    nl = len(left)\n",
    "    nr = len(right)\n",
    "    \n",
    "    nli = []\n",
    "    l_i = r_i = 0\n",
    "    while True:\n",
    "        if left[l_i] <= right[r_i]:\n",
    "            nli.append(left[l_i])\n",
    "            count += r_i\n",
    "            l_i += 1\n",
    "            \n",
    "            if l_i == nl:\n",
    "                while r_i < nr:\n",
    "                    nli.append(right[r_i])\n",
    "                    r_i += 1\n",
    "                break    \n",
    "        else:\n",
    "            nli.append(right[r_i])\n",
    "            r_i += 1\n",
    "            \n",
    "            if r_i == nr:\n",
    "                while l_i < nl:\n",
    "                    nli.append(left[l_i])\n",
    "                    count += r_i\n",
    "                    l_i += 1\n",
    "                break\n",
    "    return nli \n",
    "    \n",
    "count = 0\n",
    "merge_sort(li)\n",
    "\n",
    "print(count)"
   ]
  },
  {
   "cell_type": "markdown",
   "metadata": {},
   "source": [
    "### CCW"
   ]
  },
  {
   "cell_type": "code",
   "execution_count": null,
   "metadata": {},
   "outputs": [],
   "source": [
    "def ccw(x1, y1, x2, y2, x3, y3):\n",
    "    temp = x1 * y2 + x2 * y3 + x3 * y1 - x2 * y1 - x3 * y2 - x1 * y3\n",
    "    \n",
    "    if temp < 0:\n",
    "        return -1\n",
    "    elif temp > 0:\n",
    "        return 1\n",
    "    else:\n",
    "        return 0"
   ]
  },
  {
   "cell_type": "markdown",
   "metadata": {},
   "source": [
    "### 교란 순열"
   ]
  },
  {
   "cell_type": "markdown",
   "metadata": {},
   "source": [
    "- 각자가 자신의 것을 제외한 모든 다른 것을 이용할 수 있는 경우"
   ]
  },
  {
   "cell_type": "code",
   "execution_count": null,
   "metadata": {},
   "outputs": [],
   "source": [
    "mod = 1000000000\n",
    "\n",
    "dp = [0] * 1000001\n",
    "dp[:4] = [1, 0, 1, 2]\n",
    "for i in range(4, 1000001):\n",
    "    dp[i] = (dp[i - 2] + dp[i - 1]) * (i - 1) % mod\n",
    "    \n",
    "n = int(input())\n",
    "\n",
    "print(dp[n])"
   ]
  },
  {
   "cell_type": "markdown",
   "metadata": {},
   "source": [
    "### 커스텀 기준 정렬"
   ]
  },
  {
   "cell_type": "code",
   "execution_count": null,
   "metadata": {},
   "outputs": [],
   "source": [
    "import functools\n",
    "\n",
    "def compare(u, v):\n",
    "    ua, ub = u\n",
    "    va, vb = v\n",
    "    \n",
    "    r1 = va * ub\n",
    "    r2 = ua * vb\n",
    "    \n",
    "    if ua == 0:\n",
    "        return 1\n",
    "    elif va == 0:\n",
    "        return -1\n",
    "    elif ub == vb == 0:\n",
    "        if ua > va:\n",
    "            return 1\n",
    "        else:\n",
    "            return -1\n",
    "    else:\n",
    "        return r1 - r2\n",
    "    \n",
    "li.sort(key=functools.cmp_to_key(compare))"
   ]
  },
  {
   "cell_type": "markdown",
   "metadata": {},
   "source": [
    "### 분할 정복을 이용한 행렬 거듭제곱"
   ]
  },
  {
   "cell_type": "code",
   "execution_count": null,
   "metadata": {},
   "outputs": [],
   "source": [
    "def recur(n, size):\n",
    "    global init_mul_mat\n",
    "    \n",
    "    if n == 1:\n",
    "        return init_mul_mat\n",
    "    \n",
    "    mat = recur(n // 2, size)\n",
    "    \n",
    "    mul_mat = [[0] * size for _ in range(size)]\n",
    "    for i in range(size):\n",
    "        for j in range(size):\n",
    "            temp = 0\n",
    "            for k in range(size):\n",
    "                temp += mat[i][k] * mat[k][j]\n",
    "                temp %= mod\n",
    "            mul_mat[i][j] = temp\n",
    "            \n",
    "    if n % 2 == 1:\n",
    "        nmul_mat = [[0] * size for _ in range(size)]\n",
    "        for i in range(size):\n",
    "            for j in range(size):\n",
    "                temp = 0\n",
    "                for k in range(size):\n",
    "                    temp += mul_mat[i][k] * init_mul_mat[k][j]\n",
    "                    temp %= mod\n",
    "                nmul_mat[i][j] = temp\n",
    "                \n",
    "        return nmul_mat\n",
    "    else:\n",
    "        return mul_mat"
   ]
  },
  {
   "cell_type": "markdown",
   "metadata": {},
   "source": [
    "### 강한 연결 요소"
   ]
  },
  {
   "cell_type": "code",
   "execution_count": null,
   "metadata": {},
   "outputs": [],
   "source": [
    "import sys\n",
    "sys.setrecursionlimit(int(1e5) + 100)\n",
    "# input = lambda: sys.stdin.readline().rstrip()\n",
    "\n",
    "def dfs(value):\n",
    "    global next_id\n",
    "    \n",
    "    stack.append(value)\n",
    "    on_stack[value] = True\n",
    "    min_id = ids[value]\n",
    "    \n",
    "    for v in li[value]:\n",
    "        if ids[v] != 0:\n",
    "            if not on_stack[v]:\n",
    "                continue\n",
    "            min_id = min(min_id, low_ids[v])\n",
    "        else:\n",
    "            ids[v] = next_id\n",
    "            low_ids[v] = next_id\n",
    "            next_id += 1\n",
    "            temp = dfs(v)\n",
    "            min_id = min(min_id, temp)\n",
    "        \n",
    "    low_ids[value] = min_id\n",
    "         \n",
    "    if ids[value] == low_ids[value]:\n",
    "        temp_r = []\n",
    "        while True:\n",
    "            v = stack.pop()\n",
    "            temp_r.append(v)\n",
    "            on_stack[v] = False\n",
    "            \n",
    "            if value == v:\n",
    "                break\n",
    "        r.append(temp_r)\n",
    "        \n",
    "    return min_id\n",
    "    \n",
    "n, m = map(int, input().split())\n",
    "li = [[] for _ in range(n + 1)]\n",
    "for _ in range(m):\n",
    "    a, b = map(int, input().split())\n",
    "    \n",
    "    li[a].append(b)\n",
    "    \n",
    "ids = [0] * (n + 1)\n",
    "low_ids = [0] * (n + 1)\n",
    "on_stack = [False] * (n + 1)\n",
    "stack = []\n",
    "r = []\n",
    "next_id = 1\n",
    "\n",
    "for i in range(1, n + 1):\n",
    "    if ids[i] == 0:\n",
    "        ids[i] = next_id\n",
    "        low_ids[i] = next_id\n",
    "        next_id += 1\n",
    "        dfs(i)\n",
    "        \n",
    "for v in r:\n",
    "    v.sort()\n",
    "r.sort()\n",
    "\n",
    "print(len(r))\n",
    "for v in r:\n",
    "    print(*v, -1)"
   ]
  },
  {
   "cell_type": "markdown",
   "metadata": {},
   "source": [
    "### kmp"
   ]
  },
  {
   "cell_type": "code",
   "execution_count": null,
   "metadata": {},
   "outputs": [],
   "source": [
    "def get_mc(p):\n",
    "    '''get matched counts, p: 패턴'''\n",
    "    \n",
    "    n = len(p)\n",
    "    mcs = [0] * n # matched_counts\n",
    "    j = 0\n",
    "    for i in range(1, n):\n",
    "        while j > 0 and p[i] != p[j]:\n",
    "            j = mcs[j - 1]\n",
    "        if p[i] == p[j]:\n",
    "            j += 1\n",
    "            mcs[i] = j\n",
    "    \n",
    "    return mcs\n",
    "\n",
    "def kmp(s, p):\n",
    "    n, m = len(s), len(p)\n",
    "    mcs = get_mc(p)\n",
    "    \n",
    "    pi = 0\n",
    "    for si in range(n):\n",
    "        while pi > 0 and p[pi] != s[si]:\n",
    "            pi = mcs[pi - 1]\n",
    "        if p[pi] == s[si]:\n",
    "            pi += 1\n",
    "            if pi == m:\n",
    "                return 1\n",
    "    return 0"
   ]
  },
  {
   "cell_type": "markdown",
   "metadata": {},
   "source": [
    "### 빠른 입출력"
   ]
  },
  {
   "cell_type": "code",
   "execution_count": null,
   "metadata": {},
   "outputs": [],
   "source": [
    "import io, os, sys\n",
    "from io import BytesIO, IOBase\n",
    " \n",
    "BUFSIZE = 8192\n",
    "\n",
    "class FastIO(IOBase):\n",
    "    newlines = 0\n",
    " \n",
    "    def __init__(self, file):\n",
    "        self._fd = file.fileno()\n",
    "        self.buffer = BytesIO()\n",
    "        self.writable = \"x\" in file.mode or \"r\" not in file.mode\n",
    "        self.write = self.buffer.write if self.writable else None\n",
    " \n",
    "    def read(self):\n",
    "        while True:\n",
    "            b = os.read(self._fd, max(os.fstat(self._fd).st_size, BUFSIZE))\n",
    "            if not b:\n",
    "                break\n",
    "            ptr = self.buffer.tell()\n",
    "            self.buffer.seek(0, 2), self.buffer.write(b), self.buffer.seek(ptr)\n",
    "        self.newlines = 0\n",
    "        return self.buffer.read()\n",
    " \n",
    "    def readline(self):\n",
    "        while self.newlines == 0:\n",
    "            b = os.read(self._fd, max(os.fstat(self._fd).st_size, BUFSIZE))\n",
    "            self.newlines = b.count(b\"\\n\") + (not b)\n",
    "            ptr = self.buffer.tell()\n",
    "            self.buffer.seek(0, 2), self.buffer.write(b), self.buffer.seek(ptr)\n",
    "        self.newlines -= 1\n",
    "        return self.buffer.readline()\n",
    " \n",
    "    def flush(self):\n",
    "        if self.writable:\n",
    "            os.write(self._fd, self.buffer.getvalue())\n",
    "            self.buffer.truncate(0), self.buffer.seek(0)\n",
    "\n",
    "class IOWrapper(IOBase):\n",
    "    def __init__(self, file):\n",
    "        self.buffer = FastIO(file)\n",
    "        self.flush = self.buffer.flush\n",
    "        self.writable = self.buffer.writable\n",
    "        self.write = lambda s: self.buffer.write(s.encode(\"ascii\"))\n",
    "        self.read = lambda: self.buffer.read().decode(\"ascii\")\n",
    "        self.readline = lambda: self.buffer.readline().decode(\"ascii\")\n",
    "\n",
    "sys.stdin, sys.stdout = IOWrapper(sys.stdin), IOWrapper(sys.stdout)\n",
    "input = io.BytesIO(os.read(0,os.fstat(0).st_size)).readline\n",
    "print = sys.stdout.write"
   ]
  },
  {
   "cell_type": "markdown",
   "metadata": {},
   "source": [
    "### defaultdict과 비슷하지만 없는 키 단순 접근시 새로 추가하지 않는 class"
   ]
  },
  {
   "cell_type": "code",
   "execution_count": 10,
   "metadata": {},
   "outputs": [
    {
     "name": "stdout",
     "output_type": "stream",
     "text": [
      "0 0 1\n",
      "{3: 1, 5: 3}\n"
     ]
    }
   ],
   "source": [
    "class dict_(dict):\n",
    "    def __missing__(self, key):\n",
    "        return 0\n",
    "    \n",
    "d = dict_()\n",
    "\n",
    "d[3] = 1\n",
    "\n",
    "print(d[1], d[2], d[3])\n",
    "d[5] += 3\n",
    "\n",
    "print(d)"
   ]
  },
  {
   "cell_type": "markdown",
   "metadata": {},
   "source": [
    "### 수열 규칙 추론"
   ]
  },
  {
   "cell_type": "code",
   "execution_count": null,
   "metadata": {},
   "outputs": [],
   "source": [
    "https://oeis.org/ 에서 수열 검색 후 FORMULA 확인"
   ]
  },
  {
   "cell_type": "markdown",
   "metadata": {},
   "source": [
    "### 비트연산 특징"
   ]
  },
  {
   "cell_type": "markdown",
   "metadata": {},
   "source": [
    "a+b=(a or b)+(a and  b)\n",
    "기타: https://codeforces.com/blog/entry/94470"
   ]
  },
  {
   "cell_type": "markdown",
   "metadata": {},
   "source": [
    "### 특이한 순열 특성"
   ]
  },
  {
   "cell_type": "markdown",
   "metadata": {},
   "source": [
    "거의 정렬된 순열의 경우 비트 연산 표현 가능함 참고: https://codeforces.com/blog/entry/89644 - 1508B - Almost Sorted"
   ]
  },
  {
   "cell_type": "markdown",
   "metadata": {},
   "source": [
    "### 베주 항등식"
   ]
  },
  {
   "cell_type": "markdown",
   "metadata": {},
   "source": [
    "gcd 이용 https://codeforces.com/problemset/problem/1477/A - A. Nezzar and Board"
   ]
  },
  {
   "cell_type": "markdown",
   "metadata": {},
   "source": [
    "### 복잡한 시그마 식 분해"
   ]
  },
  {
   "cell_type": "markdown",
   "metadata": {},
   "source": [
    "관련 없는 것 분해 및 순서 바꾸기 https://codeforces.com/problemset/problem/1466/E - E. Apollo versus Pan"
   ]
  },
  {
   "cell_type": "markdown",
   "metadata": {},
   "source": [
    "### 중복 있는 수열의 유니크한 순열의 수"
   ]
  },
  {
   "cell_type": "markdown",
   "metadata": {},
   "source": [
    "a가 3개, b가 3개, c가 2개라면 경우의 수는 (3 + 3 + 2)! / 3! * 2! * 2! https://codeforces.com/problemset/problem/1648/C - C. Tyler and Strings"
   ]
  },
  {
   "cell_type": "markdown",
   "metadata": {},
   "source": [
    "### 순열의 parity"
   ]
  },
  {
   "cell_type": "markdown",
   "metadata": {},
   "source": [
    "짝수번의 값 교환으로 만들 수 있는 순열: 짝순열 - https://codeforces.com/problemset/problem/1585/D"
   ]
  },
  {
   "cell_type": "markdown",
   "metadata": {},
   "source": [
    "### Zeckendorf's theorem"
   ]
  },
  {
   "cell_type": "markdown",
   "metadata": {},
   "source": [
    "서로 이웃하지 않은 피보나치 수의 합 이용 - https://codeforces.com/problemset/problem/1718/B"
   ]
  }
 ],
 "metadata": {
  "kernelspec": {
   "display_name": "Python 3",
   "language": "python",
   "name": "python3"
  },
  "language_info": {
   "codemirror_mode": {
    "name": "ipython",
    "version": 3
   },
   "file_extension": ".py",
   "mimetype": "text/x-python",
   "name": "python",
   "nbconvert_exporter": "python",
   "pygments_lexer": "ipython3",
   "version": "3.8.3"
  }
 },
 "nbformat": 4,
 "nbformat_minor": 2
}
