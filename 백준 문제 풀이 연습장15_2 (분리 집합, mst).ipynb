{
 "cells": [
  {
   "cell_type": "markdown",
   "metadata": {},
   "source": [
    "### 여러분의 다리가 되어 드리겠습니다!  17352"
   ]
  },
  {
   "cell_type": "code",
   "execution_count": 3,
   "metadata": {},
   "outputs": [
    {
     "name": "stdout",
     "output_type": "stream",
     "text": [
      "2\n",
      "1 2\n"
     ]
    }
   ],
   "source": [
    "import sys\n",
    "# input = sys.stdin.readline\n",
    "\n",
    "n = int(input().rstrip())\n",
    "parent = list(range(n))\n",
    "rank = [0] * n\n",
    "\n",
    "def get_node_num(x):\n",
    "    return int(x) - 1\n",
    "\n",
    "def find(v):\n",
    "    if v == parent[v]:\n",
    "        return v\n",
    "    parent[v] = find(parent[v])\n",
    "    return parent[v]\n",
    "\n",
    "def union(a, b):\n",
    "    if rank[a] >= rank[b]:\n",
    "        if rank[a] == rank[b]:\n",
    "            rank[a] += 1\n",
    "        parent[b] = a\n",
    "    else:\n",
    "        parent[a] = b\n",
    "\n",
    "for _ in range(n - 2):\n",
    "    a, b = map(get_node_num, input().rstrip().split())\n",
    "    union(find(a), find(b))\n",
    "\n",
    "for i in range(n):\n",
    "    find(i)\n",
    "    if i >= 1 and parent[i] != parent[i - 1]:\n",
    "        print(i, i + 1)\n",
    "        break"
   ]
  },
  {
   "cell_type": "markdown",
   "metadata": {},
   "source": [
    "### 동방 프로젝트 (Large) 14595"
   ]
  },
  {
   "cell_type": "code",
   "execution_count": null,
   "metadata": {},
   "outputs": [],
   "source": [
    "parent는 무조건 앞쪽으로\n",
    "연결할 때마다 가장 뒤쪽으로 넘어갈 번호를 적어놓음\n"
   ]
  },
  {
   "cell_type": "code",
   "execution_count": null,
   "metadata": {},
   "outputs": [],
   "source": [
    "리스트를 가지고 있는데 뒤에서 더 큰 값을 가지는 리스트를 만나면 리스트의 값을  그 값으로 바꾸고 그 값으로 넘어감\n",
    "뒤의 값이 리스트가 없다면 리스트를 만들어주면서 넘어감\n",
    "리스트에 값이 있으면 그 값으로 바로 넘어감. 값이 없으면 그 값과 그 다음 값을 합치는데 그 다음 값에 리스트가 있으면 리스트 값을 씀"
   ]
  },
  {
   "cell_type": "code",
   "execution_count": null,
   "metadata": {},
   "outputs": [],
   "source": [
    "import sys\n",
    "sys.setrecursionlimit(2000000)\n",
    "input = sys.stdin.readline\n",
    "\n",
    "def get_node_num(v):\n",
    "    return int(v) - 1\n",
    "    \n",
    "def find(v):\n",
    "    if parent[v] == v:\n",
    "        return v\n",
    "    parent[v] = find(parent[v])\n",
    "    return parent[v]\n",
    "\n",
    "def union(a, b):\n",
    "    parent[a] = b\n",
    "\n",
    "n = int(input().rstrip())\n",
    "m = int(input().rstrip())\n",
    "\n",
    "parent = list(range(n))\n",
    "\n",
    "for i in range(m):\n",
    "    _from, _to = map(get_node_num, input().rstrip().split())\n",
    "    \n",
    "    current = _from\n",
    "    while current < _to:\n",
    "        current = find(current)\n",
    "        if current >= _to:\n",
    "            break\n",
    "            \n",
    "        nxt = find(current + 1)\n",
    "        union(current, nxt)\n",
    "        current = nxt\n",
    "    \n",
    "st = set()\n",
    "for i in range(n):\n",
    "    st.add(find(i))\n",
    "    \n",
    "print(len(st))"
   ]
  },
  {
   "cell_type": "code",
   "execution_count": null,
   "metadata": {},
   "outputs": [],
   "source": [
    "import sys\n",
    "sys.setrecursionlimit(2000000)\n",
    "# input = sys.stdin.readline\n",
    "\n",
    "def get_node_num(v):\n",
    "    return int(v) - 1\n",
    "    \n",
    "def find(v):\n",
    "    if parent[v] == v:\n",
    "        return v\n",
    "    parent[v] = find(parent[v])\n",
    "    return parent[v]\n",
    "\n",
    "def union(a, b):\n",
    "    parent[b] = a\n",
    "\n",
    "n = int(input().rstrip())\n",
    "m = int(input().rstrip())\n",
    "\n",
    "parent = list(range(n))\n",
    "\n",
    "li = []\n",
    "for i in range(m):\n",
    "    _from, _to = map(get_node_num, input().rstrip().split())\n",
    "    li.append((_from, _to))\n",
    "li.sort()\n",
    "\n",
    "current = 0\n",
    "for _from, _to in li:\n",
    "    if _to <= current:\n",
    "        continue\n",
    "    for v in max(current, _from), _to"
   ]
  },
  {
   "cell_type": "code",
   "execution_count": null,
   "metadata": {},
   "outputs": [],
   "source": [
    "import sys\n",
    "# input = sys.stdin.readline\n",
    "\n",
    "p = lambda x: input().rstrip()\n",
    "n = int(p(1))\n",
    "m = int(p(1))\n",
    "\n",
    "li = []\n",
    "for i in range(m):\n",
    "    _from, _to = map(int, p(1).split())\n",
    "    li.append((_from, _to))\n",
    "li.sort()\n",
    "\n",
    "current_to = 1\n",
    "count = 1\n",
    "for _from, _to in li:\n",
    "    if _from <= current_to:\n",
    "        current_to = max(current_to, _to)\n",
    "    else:\n",
    "        count += _from - current_to\n",
    "        current_to = _to\n",
    "count += n - current_to\n",
    "print(count)"
   ]
  },
  {
   "cell_type": "code",
   "execution_count": 40,
   "metadata": {},
   "outputs": [
    {
     "name": "stdout",
     "output_type": "stream",
     "text": [
      "5\n",
      "1\n",
      "1 5\n",
      "1\n"
     ]
    }
   ],
   "source": [
    "import sys\n",
    "\n",
    "p = lambda x: sys.stdin.readline().rstrip()\n",
    "n, m = int(p(1)), int(p(1))\n",
    "\n",
    "li = sorted([tuple(map(int, p(1).split())) for _ in range(m)])\n",
    "ct = r = 1\n",
    "for f, t in li:\n",
    "    if f <= ct:\n",
    "        ct = max(ct, t)\n",
    "    else:\n",
    "        r += f - ct\n",
    "        ct = t\n",
    "r += n - ct\n",
    "print(r)"
   ]
  },
  {
   "cell_type": "markdown",
   "metadata": {},
   "source": [
    "### 교수님은 기다리지 않는다 3830"
   ]
  },
  {
   "cell_type": "code",
   "execution_count": null,
   "metadata": {},
   "outputs": [],
   "source": [
    "find 함수로 path compression을 진행하는 과정에서 무거운 쪽에 가벼운 쪽의 가중치를 추가해주면서 나감\n",
    "find 함수에 return을?\n",
    "\n",
    "쿼리가 !일 경우에 둘이 이미 연결되어있으면 그냥 넘어감\n",
    "아니면 두 parent 더 가벼운 것을 parent로 만듦"
   ]
  },
  {
   "cell_type": "code",
   "execution_count": 47,
   "metadata": {},
   "outputs": [
    {
     "name": "stdout",
     "output_type": "stream",
     "text": [
      "4 7\n",
      "! 1 2 100\n",
      "? 2 3\n",
      "UNKNOWN\n",
      "! 2 3 100\n",
      "? 2 3\n",
      "100\n",
      "? 1 3\n",
      "200\n",
      "! 4 3 150\n",
      "? 4 1\n",
      "-50\n"
     ]
    }
   ],
   "source": [
    "import sys\n",
    "sys.setrecursionlimit(100001)\n",
    "# input = lambda: sys.stdin.readline().rstrip()\n",
    "\n",
    "def find(v):\n",
    "    if p[v] == v:\n",
    "        return v, 0\n",
    "    added = weights[p[v]]\n",
    "    p[v], w = find(p[v])\n",
    "    added += w\n",
    "    weights[v] += added\n",
    "    return p[v], added\n",
    "\n",
    "def union(a, b):\n",
    "    p[b] = a\n",
    "\n",
    "while True:\n",
    "    n, m = map(int, input().split())\n",
    "    if n == 0 and m == 0:\n",
    "        break\n",
    "    \n",
    "    weights = [0] * (n + 1)\n",
    "    p = list(range(n + 1))\n",
    "    for _ in range(m):\n",
    "        query = input().split()\n",
    "        if query[0] == '?':\n",
    "            a, b = int(query[1]), int(query[2])\n",
    "            ra, _ = find(a)\n",
    "            rb, _ = find(b)\n",
    "            if ra != rb:\n",
    "                print('UNKNOWN')\n",
    "            else:\n",
    "                print(weights[b] - weights[a])\n",
    "        else:\n",
    "            a, b, diff = map(int, query[1:])\n",
    "            ra, _ = find(a)\n",
    "            rb, _ = find(b)\n",
    "            if ra == rb:\n",
    "                continue\n",
    "            weights[rb] = diff - weights[b] + weights[a]\n",
    "            union(ra, rb)"
   ]
  },
  {
   "cell_type": "markdown",
   "metadata": {},
   "source": [
    "### 비용 2463"
   ]
  },
  {
   "cell_type": "code",
   "execution_count": 26,
   "metadata": {},
   "outputs": [
    {
     "name": "stdout",
     "output_type": "stream",
     "text": [
      "256\n"
     ]
    }
   ],
   "source": [
    "import sys\n",
    "# input = lambda: sys.stdin.readline().rstrip()\n",
    "\n",
    "n, m = map(int, input().split())\n",
    "li = [list(map(int, input().split())) for _ in range(m)]\n",
    "li.sort(key=lambda x: -x[2])\n",
    "\n",
    "parent = list(range(n + 1))\n",
    "included = [1] * (n + 1)\n",
    "\n",
    "def find(v):\n",
    "    if v == parent[v]:\n",
    "        return v\n",
    "    parent[v] = find(parent[v])\n",
    "    return parent[v]\n",
    "\n",
    "def union(a, b):\n",
    "    parent[b] = a\n",
    "    included[a] += included[b]\n",
    "\n",
    "comb_count = 0\n",
    "total = 0\n",
    "for x, y, w in li:\n",
    "    rx = find(x)\n",
    "    ry = find(y)\n",
    "    if rx != ry:\n",
    "        comb_count += included[rx] * included[ry]\n",
    "        union(rx, ry)\n",
    "    total += w * comb_count\n",
    "    \n",
    "print(total % 1000000000)"
   ]
  }
 ],
 "metadata": {
  "kernelspec": {
   "display_name": "Python 3",
   "language": "python",
   "name": "python3"
  },
  "language_info": {
   "codemirror_mode": {
    "name": "ipython",
    "version": 3
   },
   "file_extension": ".py",
   "mimetype": "text/x-python",
   "name": "python",
   "nbconvert_exporter": "python",
   "pygments_lexer": "ipython3",
   "version": "3.7.3"
  }
 },
 "nbformat": 4,
 "nbformat_minor": 4
}
