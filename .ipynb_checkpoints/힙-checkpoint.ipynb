{
 "cells": [
  {
   "cell_type": "markdown",
   "metadata": {},
   "source": [
    "힙: 데이터에서 최대값과 최소값을 빠르게 찾기 위해 고안된 완전 이진 트리"
   ]
  },
  {
   "cell_type": "markdown",
   "metadata": {},
   "source": [
    "힙을 사용하는 이유\n",
    "- 배열에 데이터를 넣고, 최대값과 최소값을 찾으려면 O(n)이 걸리는 반면에\n",
    "- 이에 반해, 힙에 데이터를 넣고, 최대값과 최소값을 찾으면, O($logn$)이 결림\n",
    "- 우선순위 큐와 같이 최대값 또는 최소값을 빠르게 찾아야 하는 자료구조 및 알고리즘 구현 등에 활용됨"
   ]
  },
  {
   "cell_type": "markdown",
   "metadata": {},
   "source": [
    "힙은 최대값을 구하기 위한 최대 힙과 최소값을 구하기 위한 최소 힙으로 분류될 수 있음"
   ]
  },
  {
   "cell_type": "markdown",
   "metadata": {},
   "source": [
    "- 힙은 각 노드의 값은 해당 노드의 자식 노드가 가진 값보다 크거나 같다. (최대 힙의 경우)\n",
    "- 최소 힙의 경우에는 반대\n",
    "- 완전 이진 트리의 형태를 가짐 (데이터를 넣을 때 항상 왼쪽 최하단부 노드부터 채워가게 되어있음\n",
    "- 이진 탐색 트리는 탐색을 위한 구조, 힙은 최대/최소값 검색을 위한 구조 중 하나이다."
   ]
  },
  {
   "cell_type": "markdown",
   "metadata": {},
   "source": [
    "## 힙 동작"
   ]
  },
  {
   "cell_type": "markdown",
   "metadata": {},
   "source": [
    "힙에 데이터를 삽입하는 경우에는 먼저 완전이진트리 형식을 맞추어서 넣은 다음에\n",
    "그 후에 삽입된 노드와 부모 노드와의 swap 과정을 반복하여 순서가 맞도록 한다."
   ]
  },
  {
   "cell_type": "markdown",
   "metadata": {},
   "source": [
    "힙에서 데이터를 제거하는 경우는 일반적으로 최상단 노드를 삭제하는 것이 일반적이며, \n",
    "최상단 노드를 제거시 가장 마지막에 추가한 값을 루트 노드로 올린 후에 자식 노드들 중 더 큰 값하고 swap함"
   ]
  },
  {
   "cell_type": "markdown",
   "metadata": {},
   "source": [
    "## 힙의 구현"
   ]
  },
  {
   "cell_type": "markdown",
   "metadata": {},
   "source": [
    "- 일반적으로 힙 구현시 배열 자료구조를 활용함.\n",
    "- 배열은 인덱스가 0번부터 시작하지만, 힙 구현의 편의를 위해, root 노드 인덱스 번호를 1로 지정하면 구현이 좀 더 수월함\n",
    "- 부모 노드 인덱스 번호 = 자식 노드 인덱스 번호 // 2\n",
    "- 왼쪽 자식 노드 인덱스 번호 = 부모 노드 인덱스 번호 * 2\n",
    "- 오른쪽 자식 노드 인덱스 번호 = 부모 노드 인덱스 번호 *  2  + 1"
   ]
  },
  {
   "cell_type": "code",
   "execution_count": 168,
   "metadata": {},
   "outputs": [],
   "source": [
    "# heap 구현\n",
    "class Heap:\n",
    "    def __init__(self, data):\n",
    "        self.heap_array = list()\n",
    "        self.heap_array.append(None)\n",
    "        self.heap_array.append(data)\n",
    "        \n",
    "    \n",
    "    def move_up(self, inserted_idx):\n",
    "        if inserted_idx <= 1:\n",
    "            return False\n",
    "        \n",
    "        parent_idx = inserted_idx // 2\n",
    "        if self.heap_array[inserted_idx] > self.heap_array[parent_idx]:\n",
    "            return True\n",
    "        else:\n",
    "            return False\n",
    "        \n",
    "    def insert(self, data):\n",
    "        if len(self.heap_array) == 0:\n",
    "            self.heap_array.append(None)\n",
    "            self.heap_array.append(data)\n",
    "            return True\n",
    "        \n",
    "        self.heap_array.append(data)\n",
    "        \n",
    "        inserted_idx = len(self.heap_array) - 1\n",
    "        \n",
    "        while self.move_up(inserted_idx):\n",
    "            parent_idx = inserted_idx // 2\n",
    "            self.heap_array[inserted_idx],  self.heap_array[parent_idx] = self.heap_array[parent_idx],  self.heap_array[inserted_idx]\n",
    "            inserted_idx = parent_idx\n",
    "        \n",
    "        return True\n",
    "    \n",
    "    \n",
    "    ## 노드 삭제 직접 구현\n",
    "    def delete(self):\n",
    "        import numpy as np\n",
    "        \n",
    "        if len(heap_array) == 1:\n",
    "            return None\n",
    "        \n",
    "        max_num = self.heap_array[1]\n",
    "        del self.heap_array[1]\n",
    "        self.heap_array.insert(1, self.heap_array[-1])\n",
    "        del self.heap_array[-1]\n",
    "        \n",
    "        current_index = 1\n",
    "        children_indices = [current_index * 2, current_index * 2 + 1]\n",
    "        \n",
    "        while True:     \n",
    "            if len(self.heap_array) - 1 < current_index * 2:\n",
    "                break\n",
    "            elif len(self.heap_array) - 1 == current_index * 2:\n",
    "                if self.heap_array[current_index] < self.heap_array[children_indices[0]]:\n",
    "                    self.heap_array[current_index], self.heap_array[children_indices[0]] = self.heap_array[children_indices[0]], self.heap_array[current_index]\n",
    "                    break\n",
    "                else:\n",
    "                    break\n",
    "            else:\n",
    "                if self.heap_array[current_index] < max(self.heap_array[children_indices[0]], self.heap_array[children_indices[1]]):\n",
    "                    selected_child_index = children_indices[np.argmax([self.heap_array[children_indices[0]], self.heap_array[children_indices[1]]])]\n",
    "                    self.heap_array[current_index], self.heap_array[selected_child_index] = self.heap_array[selected_child_index], self.heap_array[current_index]\n",
    "                    current_index = selected_child_index\n",
    "                    children_indices = [current_index * 2, current_index * 2 + 1]\n",
    "                else:\n",
    "                    break\n",
    "        \n",
    "        return max_num"
   ]
  },
  {
   "cell_type": "code",
   "execution_count": 169,
   "metadata": {},
   "outputs": [
    {
     "data": {
      "text/plain": [
       "[None, 1]"
      ]
     },
     "execution_count": 169,
     "metadata": {},
     "output_type": "execute_result"
    }
   ],
   "source": [
    "head = Heap(1)\n",
    "head.heap_array"
   ]
  },
  {
   "cell_type": "code",
   "execution_count": 170,
   "metadata": {},
   "outputs": [
    {
     "name": "stdout",
     "output_type": "stream",
     "text": [
      "[None, 20, 10, 15, 5, 4, 8]\n"
     ]
    }
   ],
   "source": [
    "heap = Heap(15)\n",
    "\n",
    "for i in [10, 8, 5, 4, 20]:\n",
    "    heap.insert(i)\n",
    "\n",
    "print(heap.heap_array)"
   ]
  },
  {
   "cell_type": "code",
   "execution_count": 171,
   "metadata": {},
   "outputs": [
    {
     "name": "stdout",
     "output_type": "stream",
     "text": [
      "[None, 20, 10, 15, 5, 4, 8]\n"
     ]
    }
   ],
   "source": [
    "print(heap.heap_array)"
   ]
  },
  {
   "cell_type": "code",
   "execution_count": 182,
   "metadata": {},
   "outputs": [
    {
     "name": "stdout",
     "output_type": "stream",
     "text": [
      "[None] 1 [2, 3]\n"
     ]
    },
    {
     "data": {
      "text/plain": [
       "4"
      ]
     },
     "execution_count": 182,
     "metadata": {},
     "output_type": "execute_result"
    }
   ],
   "source": [
    "heap.delete()"
   ]
  },
  {
   "cell_type": "code",
   "execution_count": 183,
   "metadata": {},
   "outputs": [
    {
     "data": {
      "text/plain": [
       "[None]"
      ]
     },
     "execution_count": 183,
     "metadata": {},
     "output_type": "execute_result"
    }
   ],
   "source": [
    "heap.heap_array"
   ]
  },
  {
   "cell_type": "code",
   "execution_count": null,
   "metadata": {},
   "outputs": [],
   "source": [
    "3"
   ]
  },
  {
   "cell_type": "code",
   "execution_count": 70,
   "metadata": {},
   "outputs": [],
   "source": [
    "## heap 직접 구현\n",
    "class Heap:\n",
    "    def __init__(self, data):\n",
    "        self.data = [None, data]\n",
    "    def insert(self, data):\n",
    "        self.data.append(data)\n",
    "        \n",
    "        current_num = len(self.data) - 1\n",
    "        parent_num = current_num // 2\n",
    " \n",
    "        while self.data[current_num] > self.data[parent_num]:\n",
    "            self.data[current_num], self.data[parent_num] = self.data[parent_num], self.data[current_num]\n",
    "            current_num = parent_num\n",
    "            parent_num = current_num // 2\n",
    "            \n",
    "            if parent_num == 0:\n",
    "                break\n",
    "\n",
    "## heap 직접 구현2\n",
    "class Heap:\n",
    "    def __init__(self, data):\n",
    "        self.data = [None, data]\n",
    "        \n",
    "    def insert(self, data):\n",
    "        self.data.append(data)\n",
    "        \n",
    "        current_num = len(self.data) - 1\n",
    "        parent_num = current_num // 2\n",
    "        while self.data[current_num] > self.data[parent_num]:    \n",
    "            self.data[current_num], self.data[parent_num] = self.data[parent_num], self.data[current_num]\n",
    "            current_num = parent_num\n",
    "            parent_num = current_num // 2\n",
    "            \n",
    "            if current_num <= 1:\n",
    "                break               "
   ]
  }
 ],
 "metadata": {
  "kernelspec": {
   "display_name": "Python 3",
   "language": "python",
   "name": "python3"
  },
  "language_info": {
   "codemirror_mode": {
    "name": "ipython",
    "version": 3
   },
   "file_extension": ".py",
   "mimetype": "text/x-python",
   "name": "python",
   "nbconvert_exporter": "python",
   "pygments_lexer": "ipython3",
   "version": "3.7.3"
  }
 },
 "nbformat": 4,
 "nbformat_minor": 4
}
