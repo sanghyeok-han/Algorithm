{
 "cells": [
  {
   "cell_type": "code",
   "execution_count": null,
   "metadata": {},
   "outputs": [],
   "source": []
  },
  {
   "cell_type": "code",
   "execution_count": 12,
   "metadata": {},
   "outputs": [
    {
     "name": "stdout",
     "output_type": "stream",
     "text": [
      "5\n",
      "1 1 2 1 3\n",
      "3\n",
      "1 5\n",
      "2 4\n",
      "3 5\n",
      "3\n",
      "2\n",
      "3\n"
     ]
    }
   ],
   "source": [
    "import io, os, sys\n",
    "# input = io.BytesIO(os.read(0,os.fstat(0).st_size)).readline\n",
    "\n",
    "get_value = lambda x: int(x) - 1\n",
    "\n",
    "def add(i):\n",
    "    global cur_diff_c\n",
    "    \n",
    "    ct[li[i]] += 1\n",
    "    if ct[li[i]] == 1:\n",
    "        cur_diff_c += 1\n",
    "        \n",
    "def sub(i):\n",
    "    global cur_diff_c\n",
    "    \n",
    "    ct[li[i]] -= 1\n",
    "    if ct[li[i]] == 0:\n",
    "        cur_diff_c -= 1\n",
    "        \n",
    "n = int(input())\n",
    "li = list(map(int, input().split()))\n",
    "\n",
    "m = int(input())\n",
    "qu = [list(map(get_value, input().split())) + [i] for i in range(m)]\n",
    "\n",
    "sn = int(n ** 0.5)\n",
    "qu.sort(key=lambda x: (x[0] // sn, x[1]))\n",
    "\n",
    "ct = [0] * 1000001\n",
    "cur_diff_c = 0\n",
    "\n",
    "result = [-1] * m\n",
    "\n",
    "s, e, o_qi = qu[0]\n",
    "for i in range(s, e + 1):\n",
    "    add(i)\n",
    "result[o_qi] = cur_diff_c  \n",
    "    \n",
    "fs, fe = s, e\n",
    "for qi in range(1, m):\n",
    "    s, e, o_qi = qu[qi]\n",
    "    \n",
    "    if fs < s:\n",
    "        for i in range(fs, s):\n",
    "            sub(i)\n",
    "    elif fs > s:\n",
    "        for i in range(fs - 1, s - 1, -1):\n",
    "            add(i)\n",
    "            \n",
    "    if fe < e:\n",
    "        for i in range(fe + 1, e + 1):\n",
    "            add(i)\n",
    "    elif fe > e:\n",
    "        for i in range(fe, e, -1):\n",
    "            sub(i)\n",
    "            \n",
    "    result[o_qi] = cur_diff_c\n",
    "    \n",
    "    fs, fe = s, e\n",
    "    \n",
    "print('\\n'.join(map(str, result)))"
   ]
  },
  {
   "cell_type": "code",
   "execution_count": null,
   "metadata": {},
   "outputs": [],
   "source": []
  }
 ],
 "metadata": {
  "kernelspec": {
   "display_name": "Python 3",
   "language": "python",
   "name": "python3"
  },
  "language_info": {
   "codemirror_mode": {
    "name": "ipython",
    "version": 3
   },
   "file_extension": ".py",
   "mimetype": "text/x-python",
   "name": "python",
   "nbconvert_exporter": "python",
   "pygments_lexer": "ipython3",
   "version": "3.7.4"
  }
 },
 "nbformat": 4,
 "nbformat_minor": 2
}
