{
 "cells": [
  {
   "cell_type": "markdown",
   "metadata": {},
   "source": [
    "### 선 긋기 2170"
   ]
  },
  {
   "cell_type": "code",
   "execution_count": null,
   "metadata": {},
   "outputs": [],
   "source": [
    "import sys\n",
    "# input = lambda: sys.stdin.readline().rstrip()\n",
    "\n",
    "n = int(input())\n",
    "li = [list(map(int, input().split())) for _ in range(n)]\n",
    "\n",
    "li.sort()\n",
    "\n",
    "ss = li[0][0]\n",
    "to_minus = 0\n",
    "cur_s = ss\n",
    "cur_e = li[0][1]\n",
    "for s, e in li:\n",
    "    if s <= cur_e:\n",
    "        cur_e = max(cur_e, e)\n",
    "        continue\n",
    "    \n",
    "    to_minus += s - cur_e\n",
    "    cur_e = e\n",
    "    \n",
    "total = cur_e - ss - to_minus\n",
    "\n",
    "print(total)"
   ]
  },
  {
   "cell_type": "markdown",
   "metadata": {},
   "source": [
    "### 팩토리얼 분해 2057"
   ]
  },
  {
   "cell_type": "code",
   "execution_count": 17,
   "metadata": {},
   "outputs": [
    {
     "name": "stdout",
     "output_type": "stream",
     "text": [
      "2\n",
      "YES\n"
     ]
    }
   ],
   "source": [
    "n = int(input())\n",
    "\n",
    "if n == 0:\n",
    "    print('NO')\n",
    "else:\n",
    "    limit = 1000000000000000000\n",
    "    cur = 1\n",
    "    w = 2\n",
    "    li = [1]\n",
    "    while True:\n",
    "        li.append(cur)\n",
    "        cur *= w\n",
    "        w += 1\n",
    "\n",
    "        if cur > limit:\n",
    "            break\n",
    "\n",
    "    for i in range(len(li) - 1, -1, -1):\n",
    "        v = li[i]\n",
    "        \n",
    "        if n >= v:\n",
    "            n -= v\n",
    "\n",
    "    if n == 0:\n",
    "        print('YES')\n",
    "    else:\n",
    "        print('NO')"
   ]
  },
  {
   "cell_type": "markdown",
   "metadata": {},
   "source": [
    "### 국기 인식 3100"
   ]
  },
  {
   "cell_type": "code",
   "execution_count": null,
   "metadata": {},
   "outputs": [],
   "source": [
    "from itertools import product as prod\n",
    "\n",
    "li = [input() for _ in range(6)]\n",
    "\n",
    "min_count = float('inf')\n",
    "for case in prod(*[range(65, 91)] * 3):\n",
    "    a, b, c = map(chr, case)\n",
    "    if a == b or b == c:\n",
    "        continue\n",
    "    \n",
    "    count = 0\n",
    "    for i in range(2):\n",
    "        for j in range(9):\n",
    "            if li[i][j] != a:\n",
    "                count += 1\n",
    "    for i in range(2, 4):\n",
    "        for j in range(9):\n",
    "            if li[i][j] != b:\n",
    "                count += 1\n",
    "    for i in range(4, 6):\n",
    "        for j in range(9):\n",
    "            if li[i][j] != c:\n",
    "                count += 1\n",
    "                \n",
    "    min_count = min(min_count, count)\n",
    "      \n",
    "    count = 0\n",
    "    for j in range(3):\n",
    "        for i in range(6):\n",
    "            if li[i][j] != a:\n",
    "                count += 1\n",
    "    for j in range(3, 6):\n",
    "        for i in range(6):\n",
    "            if li[i][j] != b:\n",
    "                count += 1\n",
    "    for j in range(6, 9):\n",
    "        for i in range(6):\n",
    "            if li[i][j] != c:\n",
    "                count += 1\n",
    "                \n",
    "    min_count = min(min_count, count)\n",
    "\n",
    "print(min_count)"
   ]
  },
  {
   "cell_type": "markdown",
   "metadata": {},
   "source": [
    "### 로봇 조립 18116"
   ]
  },
  {
   "cell_type": "code",
   "execution_count": 3,
   "metadata": {},
   "outputs": [
    {
     "name": "stdout",
     "output_type": "stream",
     "text": [
      "4\n",
      "I 1 2\n",
      "I 3 2\n",
      "Q 1\n",
      "3\n",
      "Q 4\n",
      "1\n"
     ]
    }
   ],
   "source": [
    "import sys\n",
    "input = lambda: sys.stdin.readline().rstrip()\n",
    "\n",
    "## PYRIVAL BOOTSTRAP\n",
    "# https://github.com/cheran-senthil/PyRival/blob/master/pyrival/misc/bootstrap.py\n",
    "# This decorator allows for recursion without actually doing recursion\n",
    "## @bootstrap, yield when getting and returning value in recursive functions, end of functions\n",
    "from types import GeneratorType\n",
    "\n",
    "def bootstrap(f, stack=[]):\n",
    "    def wrappedfunc(*args, **kwargs):\n",
    "        if stack:\n",
    "            return f(*args, **kwargs)\n",
    "        else:\n",
    "            to = f(*args, **kwargs)\n",
    "            while True:\n",
    "                if type(to) is GeneratorType:\n",
    "                    stack.append(to)\n",
    "                    to = next(to)\n",
    "                else:\n",
    "                    stack.pop()\n",
    "                    if not stack:\n",
    "                        break\n",
    "                    to = stack[-1].send(to)\n",
    "            return to\n",
    "    return wrappedfunc\n",
    "\n",
    "@bootstrap\n",
    "def find(v):\n",
    "    if v == parent[v]:\n",
    "        yield v\n",
    "    parent[v] = yield find(parent[v])\n",
    "    yield parent[v]\n",
    "\n",
    "def union(a, b):\n",
    "    if a > b:\n",
    "        a, b = b, a\n",
    "    \n",
    "    parent[b] = a\n",
    "    counts[a] += counts[b] \n",
    "\n",
    "n = int(input())\n",
    "\n",
    "max_num = int(1e6)\n",
    "parent = list(range(max_num + 1))\n",
    "counts = [1] * (max_num + 1)\n",
    "for _ in range(n):\n",
    "    qu = input().split()\n",
    "    \n",
    "    tp = qu[0]\n",
    "    \n",
    "    if tp == 'I':\n",
    "        a, b = int(qu[1]), int(qu[2])\n",
    "        \n",
    "        ra = find(a)\n",
    "        rb = find(b)\n",
    "        \n",
    "        if ra != rb:\n",
    "            union(ra, rb)\n",
    "    else:\n",
    "        a = int(qu[1])\n",
    "        ra = find(a)\n",
    "        \n",
    "        print(counts[ra])"
   ]
  },
  {
   "cell_type": "markdown",
   "metadata": {},
   "source": [
    "### 영어 시험 25288"
   ]
  },
  {
   "cell_type": "code",
   "execution_count": 3,
   "metadata": {},
   "outputs": [
    {
     "name": "stdout",
     "output_type": "stream",
     "text": [
      "2\n",
      "ba\n",
      "baba\n"
     ]
    }
   ],
   "source": [
    "n = int(input())\n",
    "s = input()\n",
    "\n",
    "r = s * n\n",
    "\n",
    "print(r)"
   ]
  },
  {
   "cell_type": "markdown",
   "metadata": {},
   "source": [
    "### 가장 긴 등차 부분 수열 25289"
   ]
  },
  {
   "cell_type": "code",
   "execution_count": 7,
   "metadata": {},
   "outputs": [
    {
     "name": "stdout",
     "output_type": "stream",
     "text": [
      "3\n",
      "1 2 4\n",
      "2\n"
     ]
    }
   ],
   "source": [
    "n = int(input())\n",
    "li = list(map(int, input().split()))\n",
    "\n",
    "if n <= 2:\n",
    "    print(n)\n",
    "else:\n",
    "    r = 2\n",
    "    for term in range(-49, 50):\n",
    "        dp = [0] * 101\n",
    "        for i in range(n):\n",
    "            fv = li[i] - term\n",
    "            if 1 <= fv <= 100:\n",
    "                dp[li[i]] = max(dp[li[i]], dp[fv] + 1)\n",
    "            if dp[li[i]] == 0:\n",
    "                dp[li[i]] = 1\n",
    "                \n",
    "        r = max(r, max(dp))\n",
    "        \n",
    "    print(r)"
   ]
  },
  {
   "cell_type": "markdown",
   "metadata": {},
   "source": [
    "### 서로소의 개수 1750 (다시 풀음)"
   ]
  },
  {
   "cell_type": "code",
   "execution_count": null,
   "metadata": {},
   "outputs": [],
   "source": [
    "차례대로 보면서 자기 자신이 1이면 1 추가,\n",
    "현재 숫자와의 최대공약수가 1이 되는 이전 숫자들은 어떤 조합으로 선택해도 되고\n",
    "1이 안되는 수도 위의 조합과 같이 쓰면 어떤 조합으로 선택해도 됨"
   ]
  },
  {
   "cell_type": "code",
   "execution_count": 39,
   "metadata": {},
   "outputs": [
    {
     "name": "stdout",
     "output_type": "stream",
     "text": [
      "3\n",
      "2\n",
      "3\n",
      "6\n",
      "1\n"
     ]
    }
   ],
   "source": [
    "from math import gcd\n",
    "\n",
    "mod = 10000003\n",
    "n = int(input())\n",
    "li = [int(input()) for _ in range(n)]\n",
    "\n",
    "total = 0\n",
    "for i in range(n):\n",
    "    if li[i] == 1:\n",
    "        total += 1\n",
    "    \n",
    "    c1 = 0\n",
    "    c2 = 0\n",
    "    for j in range(i):\n",
    "        if gcd(li[j], li[i]) == 1:\n",
    "            c1 += 1\n",
    "        else:\n",
    "            c2 += 1\n",
    "    \n",
    "    total += (pow(2, c1, mod) - 1) * pow(2, c2, mod)\n",
    "    \n",
    "    total %= mod\n",
    "    \n",
    "print(total)"
   ]
  },
  {
   "cell_type": "code",
   "execution_count": 40,
   "metadata": {},
   "outputs": [
    {
     "name": "stdout",
     "output_type": "stream",
     "text": [
      "3\n",
      "2\n",
      "3\n",
      "6\n",
      "2\n"
     ]
    }
   ],
   "source": [
    "from math import gcd\n",
    "\n",
    "mod = 10000003\n",
    "\n",
    "n = int(input())\n",
    "li = [int(input()) for _ in range(n)]\n",
    "\n",
    "dp = [[0] * 100001]\n",
    "dp[0][li[0]] = 1\n",
    "for i in range(1, n):\n",
    "    num = li[i]\n",
    "    dp.append(dp[-1].copy())\n",
    "    for fnum in range(1, 100001):\n",
    "        g = gcd(fnum, num)\n",
    "        \n",
    "        dp[i][g] += dp[i - 1][fnum]\n",
    "        dp[i][g] %= mod\n",
    "        \n",
    "    dp[i][num] += 1\n",
    "        \n",
    "r = dp[n - 1][1]\n",
    "\n",
    "print(r)"
   ]
  },
  {
   "cell_type": "code",
   "execution_count": null,
   "metadata": {},
   "outputs": [],
   "source": [
    "3\n",
    "2\n",
    "3\n",
    "6\n",
    "\n",
    "1, 2 차이"
   ]
  },
  {
   "cell_type": "code",
   "execution_count": 63,
   "metadata": {},
   "outputs": [
    {
     "name": "stdout",
     "output_type": "stream",
     "text": [
      "3\n",
      "2\n",
      "6\n",
      "15\n",
      "2\n"
     ]
    }
   ],
   "source": [
    "from math import gcd\n",
    "\n",
    "mod = 10000003\n",
    "\n",
    "n = int(input())\n",
    "li = [int(input()) for _ in range(n)]\n",
    "\n",
    "dp = [[0] * 100001]\n",
    "for i in range(n):\n",
    "    dp.append(dp[-1].copy())\n",
    "    for g in range(1, 100001):\n",
    "        if dp[-2][g]:\n",
    "            ng = gcd(g, li[i])\n",
    "            dp[-1][ng] += dp[-2][g]\n",
    "            dp[-1][ng] %= mod\n",
    "    dp[-1][li[i]] += 1\n",
    "    dp[-1][li[i]] %= mod\n",
    "    \n",
    "print(dp[-1][1])"
   ]
  },
  {
   "cell_type": "markdown",
   "metadata": {},
   "source": [
    "https://www.acmicpc.net/contest/problem/833/1"
   ]
  },
  {
   "cell_type": "code",
   "execution_count": 42,
   "metadata": {},
   "outputs": [
    {
     "name": "stdout",
     "output_type": "stream",
     "text": [
      "250000\n",
      "4\n",
      "20000 5\n",
      "30000 2\n",
      "10000 6\n",
      "5000 8\n",
      "No\n"
     ]
    }
   ],
   "source": [
    "x = int(input())\n",
    "n = int(input())\n",
    "\n",
    "total = 0\n",
    "for _ in range(n):\n",
    "    a, b = map(int, input().split())\n",
    "    \n",
    "    total += a * b\n",
    "    \n",
    "if x == total:\n",
    "    print('Yes')\n",
    "else:\n",
    "    print('No')"
   ]
  },
  {
   "cell_type": "markdown",
   "metadata": {},
   "source": [
    "https://www.acmicpc.net/contest/problem/833/2"
   ]
  },
  {
   "cell_type": "code",
   "execution_count": 43,
   "metadata": {},
   "outputs": [
    {
     "name": "stdout",
     "output_type": "stream",
     "text": [
      "5 2\n",
      "100 76 85 93 98\n",
      "98\n"
     ]
    }
   ],
   "source": [
    "n, k = map(int, input().split())\n",
    "li = sorted(map(int, input().split()), reverse=True)\n",
    "\n",
    "r = li[k - 1]\n",
    "\n",
    "print(r)"
   ]
  },
  {
   "cell_type": "markdown",
   "metadata": {},
   "source": [
    "https://www.acmicpc.net/contest/problem/833/3"
   ]
  },
  {
   "cell_type": "code",
   "execution_count": null,
   "metadata": {},
   "outputs": [],
   "source": [
    "cur = 0\n",
    "for i in range(1, 100):\n",
    "    cur ^= i\n",
    "    \n",
    "    if cur == 0:\n",
    "        print(i)"
   ]
  },
  {
   "cell_type": "code",
   "execution_count": 51,
   "metadata": {},
   "outputs": [],
   "source": [
    "def get_xor_sum(num):\n",
    "    sum_zero = -1\n",
    "    for i in range(num, -1, -1):\n",
    "        if i % 4 == 3:\n",
    "            sum_zero = i\n",
    "            break\n",
    "            \n",
    "    cur = 0\n",
    "    for i in range(sum_zero + 1, num + 1):\n",
    "        cur ^= i\n",
    "        \n",
    "    return cur"
   ]
  },
  {
   "cell_type": "code",
   "execution_count": null,
   "metadata": {},
   "outputs": [],
   "source": [
    "0 1 2 3 4 5 a 7 8 9 b 10 11 12"
   ]
  },
  {
   "cell_type": "code",
   "execution_count": null,
   "metadata": {},
   "outputs": [],
   "source": [
    "b까지 xor한 값 xor (a - 1)까지 xor한 값"
   ]
  },
  {
   "cell_type": "code",
   "execution_count": 57,
   "metadata": {},
   "outputs": [
    {
     "name": "stdout",
     "output_type": "stream",
     "text": [
      "3 5\n",
      "2\n"
     ]
    }
   ],
   "source": [
    "a, b = map(int, input().split())\n",
    "\n",
    "r = get_xor_sum(b) ^ get_xor_sum(a - 1)\n",
    "\n",
    "print(r)"
   ]
  },
  {
   "cell_type": "markdown",
   "metadata": {},
   "source": [
    "https://www.acmicpc.net/contest/problem/833/4"
   ]
  },
  {
   "cell_type": "code",
   "execution_count": null,
   "metadata": {},
   "outputs": [],
   "source": [
    "먼저 마네킹 위치들로부터 bfs해서 각 칸별 마네킹까지의 최소 위치를 구함\n",
    "\n",
    "시루를 bfs하면서 의자 도착까지의 최소 도착 시간을 구함"
   ]
  },
  {
   "cell_type": "code",
   "execution_count": null,
   "metadata": {},
   "outputs": [],
   "source": [
    "from collections import deque\n",
    "import sys\n",
    "input = lambda: sys.stdin.readline().rstrip()\n",
    "\n",
    "dx = [-1, 1, 0, 0]\n",
    "dy = [0, 0, -1, 1]\n",
    "\n",
    "inf = float('inf')\n",
    "\n",
    "n, m, k = map(int, input().split())\n",
    "li = [list(map(int, input().split())) for _ in range(n)]\n",
    "\n",
    "sx = -1\n",
    "sy = -1\n",
    "queue_mas = deque()\n",
    "dfm = [[inf] * m for _ in range(n)] # dist from mas\n",
    "for i in range(n):\n",
    "    for j in range(m):\n",
    "        if li[i][j] == 3:\n",
    "            dfm[i][j] = 0\n",
    "            queue_mas.append((i, j))\n",
    "        elif li[i][j] == 4:\n",
    "            sx = i\n",
    "            sy = j\n",
    "            \n",
    "while queue_mas:\n",
    "    x, y = queue_mas.popleft()\n",
    "    \n",
    "    for d in range(4):\n",
    "        nx = x + dx[d]\n",
    "        ny = y + dy[d]\n",
    "        \n",
    "        if nx < 0 or nx >= n or ny < 0 or ny >= m:\n",
    "            continue\n",
    "        if dfm[x][y] + 1 < dfm[nx][ny]:\n",
    "            dfm[nx][ny] = dfm[x][y] + 1\n",
    "            queue_mas.append((nx, ny))\n",
    "            \n",
    "\n",
    "vt = [[False] * m for _ in range(n)]\n",
    "vt[sx][sy] = True\n",
    "\n",
    "queue = deque()\n",
    "queue.append((sx, sy, 0))\n",
    "r = -1\n",
    "while queue:\n",
    "    x, y, dist = queue.popleft()\n",
    "    \n",
    "    if li[x][y] == 2:\n",
    "        r = dist\n",
    "        break\n",
    "    \n",
    "    for d in range(4):\n",
    "        nx = x + dx[d]\n",
    "        ny = y + dy[d]\n",
    "        \n",
    "        if nx < 0 or nx >= n or ny < 0 or ny >= m:\n",
    "            continue\n",
    "        if li[nx][ny] == 1:\n",
    "            continue\n",
    "        if dfm[nx][ny] <= k:\n",
    "            continue\n",
    "        if not vt[nx][ny]:\n",
    "            vt[nx][ny] = True\n",
    "            queue.append((nx, ny, dist + 1))\n",
    "            \n",
    "print(r)"
   ]
  },
  {
   "cell_type": "markdown",
   "metadata": {},
   "source": [
    "### 마스크가 필요해 19580"
   ]
  },
  {
   "cell_type": "code",
   "execution_count": 3,
   "metadata": {},
   "outputs": [
    {
     "name": "stdout",
     "output_type": "stream",
     "text": [
      "5 1\n",
      "1 2\n",
      "1 3\n",
      "1 4\n",
      "1 5\n",
      "1 6\n",
      "1 5\n",
      "5\n"
     ]
    }
   ],
   "source": [
    "from heapq import heappush, heappop\n",
    "import os\n",
    "import sys\n",
    "from io import BytesIO, IOBase\n",
    " \n",
    "BUFSIZE = 8192\n",
    "\n",
    "class FastIO(IOBase):\n",
    "    newlines = 0\n",
    " \n",
    "    def __init__(self, file):\n",
    "        self._fd = file.fileno()\n",
    "        self.buffer = BytesIO()\n",
    "        self.writable = \"x\" in file.mode or \"r\" not in file.mode\n",
    "        self.write = self.buffer.write if self.writable else None\n",
    " \n",
    "    def read(self):\n",
    "        while True:\n",
    "            b = os.read(self._fd, max(os.fstat(self._fd).st_size, BUFSIZE))\n",
    "            if not b:\n",
    "                break\n",
    "            ptr = self.buffer.tell()\n",
    "            self.buffer.seek(0, 2), self.buffer.write(b), self.buffer.seek(ptr)\n",
    "        self.newlines = 0\n",
    "        return self.buffer.read()\n",
    " \n",
    "    def readline(self):\n",
    "        while self.newlines == 0:\n",
    "            b = os.read(self._fd, max(os.fstat(self._fd).st_size, BUFSIZE))\n",
    "            self.newlines = b.count(b\"\\n\") + (not b)\n",
    "            ptr = self.buffer.tell()\n",
    "            self.buffer.seek(0, 2), self.buffer.write(b), self.buffer.seek(ptr)\n",
    "        self.newlines -= 1\n",
    "        return self.buffer.readline()\n",
    " \n",
    "    def flush(self):\n",
    "        if self.writable:\n",
    "            os.write(self._fd, self.buffer.getvalue())\n",
    "            self.buffer.truncate(0), self.buffer.seek(0)\n",
    " \n",
    " \n",
    "class IOWrapper(IOBase):\n",
    "    def __init__(self, file):\n",
    "        self.buffer = FastIO(file)\n",
    "        self.flush = self.buffer.flush\n",
    "        self.writable = self.buffer.writable\n",
    "        self.write = lambda s: self.buffer.write(s.encode(\"ascii\"))\n",
    "        self.read = lambda: self.buffer.read().decode(\"ascii\")\n",
    "        self.readline = lambda: self.buffer.readline().decode(\"ascii\")\n",
    "\n",
    "# sys.stdin, sys.stdout = IOWrapper(sys.stdin), IOWrapper(sys.stdout)\n",
    "# input = lambda: sys.stdin.readline().rstrip(\"\\r\\n\")\n",
    "\n",
    "n, m = map(int, input().split())\n",
    "li = [list(map(int, input().split())) for _ in range(n)]\n",
    "li.sort(key=lambda x: x[0])\n",
    "\n",
    "price = [list(map(int, input().split())) for _ in range(m)]\n",
    "\n",
    "heap = []\n",
    "total = 0\n",
    "i = 0\n",
    "for p, c in sorted(price, key=lambda x: x[0]):\n",
    "    if i < n:\n",
    "        cur_l = li[i][0]\n",
    "        cur_r = li[i][1]\n",
    "    while i < ncur_l <= p:\n",
    "        cur_l = li[i][0]\n",
    "        cur_r = li[i][1]\n",
    "        if i >= n:\n",
    "            break\n",
    "        heappush(heap, cur_r)\n",
    "        i += 1\n",
    "\n",
    "    for _ in range(len(heap)):\n",
    "        if heap[0] < p:\n",
    "            heappop(heap)\n",
    "        else:\n",
    "            break\n",
    "            \n",
    "    for _ in range(min(c, len(heap))):\n",
    "        heappop(heap)\n",
    "        total += 1\n",
    "            \n",
    "print(total)"
   ]
  },
  {
   "cell_type": "markdown",
   "metadata": {},
   "source": [
    "### 영화 수집 3653"
   ]
  },
  {
   "cell_type": "code",
   "execution_count": null,
   "metadata": {},
   "outputs": [],
   "source": [
    "import sys\n",
    "# input = lambda: sys.stdin.readline().rstrip()\n",
    "\n",
    "# https://github.com/tatyam-prime/SortedSet/blob/main/SortedMultiset.py\n",
    "import math\n",
    "from bisect import bisect_left, bisect_right, insort\n",
    "from typing import Generic, Iterable, Iterator, TypeVar, Union, List\n",
    "T = TypeVar('T')\n",
    "\n",
    "class SortedMultiset(Generic[T]):\n",
    "    BUCKET_RATIO = 50\n",
    "    REBUILD_RATIO = 170\n",
    "\n",
    "    def _build(self, a=None) -> None:\n",
    "        \"Evenly divide `a` into buckets.\"\n",
    "        if a is None: a = list(self)\n",
    "        size = self.size = len(a)\n",
    "        bucket_size = int(math.ceil(math.sqrt(size / self.BUCKET_RATIO)))\n",
    "        self.a = [a[size * i // bucket_size : size * (i + 1) // bucket_size] for i in range(bucket_size)]\n",
    "    \n",
    "    def __init__(self, a: Iterable[T] = []) -> None:\n",
    "        \"Make a new SortedMultiset from iterable. / O(N) if sorted / O(N log N)\"\n",
    "        a = list(a)\n",
    "        if not all(a[i] <= a[i + 1] for i in range(len(a) - 1)):\n",
    "            a = sorted(a)\n",
    "        self._build(a)\n",
    "\n",
    "    def __iter__(self) -> Iterator[T]:\n",
    "        for i in self.a:\n",
    "            for j in i: yield j\n",
    "\n",
    "    def __reversed__(self) -> Iterator[T]:\n",
    "        for i in reversed(self.a):\n",
    "            for j in reversed(i): yield j\n",
    "    \n",
    "    def __len__(self) -> int:\n",
    "        return self.size\n",
    "    \n",
    "    def __repr__(self) -> str:\n",
    "        return \"SortedMultiset\" + str(self.a)\n",
    "    \n",
    "    def __str__(self) -> str:\n",
    "        s = str(list(self))\n",
    "        return \"{\" + s[1 : len(s) - 1] + \"}\"\n",
    "\n",
    "    def _find_bucket(self, x: T) -> List[T]:\n",
    "        \"Find the bucket which should contain x. self must not be empty.\"\n",
    "        for a in self.a:\n",
    "            if x <= a[-1]: return a\n",
    "        return a\n",
    "\n",
    "    def __contains__(self, x: T) -> bool:\n",
    "        if self.size == 0: return False\n",
    "        a = self._find_bucket(x)\n",
    "        i = bisect_left(a, x)\n",
    "        return i != len(a) and a[i] == x\n",
    "\n",
    "    def count(self, x: T) -> int:\n",
    "        \"Count the number of x.\"\n",
    "        return self.index_right(x) - self.index(x)\n",
    "\n",
    "    def add(self, x: T) -> None:\n",
    "        \"Add an element. / O(√N)\"\n",
    "        if self.size == 0:\n",
    "            self.a = [[x]]\n",
    "            self.size = 1\n",
    "            return\n",
    "        a = self._find_bucket(x)\n",
    "        insort(a, x)\n",
    "        self.size += 1\n",
    "        if len(a) > len(self.a) * self.REBUILD_RATIO:\n",
    "            self._build()\n",
    "\n",
    "    def discard(self, x: T) -> bool:\n",
    "        \"Remove an element and return True if removed. / O(√N)\"\n",
    "        if self.size == 0: return False\n",
    "        a = self._find_bucket(x)\n",
    "        i = bisect_left(a, x)\n",
    "        if i == len(a) or a[i] != x: return False\n",
    "        a.pop(i)\n",
    "        self.size -= 1\n",
    "        if len(a) == 0: self._build()\n",
    "        return True\n",
    "\n",
    "    def lt(self, x: T) -> Union[T, None]:\n",
    "        \"Find the largest element < x, or None if it doesn't exist.\"\n",
    "        for a in reversed(self.a):\n",
    "            if a[0] < x:\n",
    "                return a[bisect_left(a, x) - 1]\n",
    "\n",
    "    def le(self, x: T) -> Union[T, None]:\n",
    "        \"Find the largest element <= x, or None if it doesn't exist.\"\n",
    "        for a in reversed(self.a):\n",
    "            if a[0] <= x:\n",
    "                return a[bisect_right(a, x) - 1]\n",
    "\n",
    "    def gt(self, x: T) -> Union[T, None]:\n",
    "        \"Find the smallest element > x, or None if it doesn't exist.\"\n",
    "        for a in self.a:\n",
    "            if a[-1] > x:\n",
    "                return a[bisect_right(a, x)]\n",
    "\n",
    "    def ge(self, x: T) -> Union[T, None]:\n",
    "        \"Find the smallest element >= x, or None if it doesn't exist.\"\n",
    "        for a in self.a:\n",
    "            if a[-1] >= x:\n",
    "                return a[bisect_left(a, x)]\n",
    "    \n",
    "    def __getitem__(self, x: int) -> T:\n",
    "        \"Return the x-th element, or IndexError if it doesn't exist.\"\n",
    "        if x < 0: x += self.size\n",
    "        if x < 0: raise IndexError\n",
    "        for a in self.a:\n",
    "            if x < len(a): return a[x]\n",
    "            x -= len(a)\n",
    "        raise IndexError\n",
    "\n",
    "    def index(self, x: T) -> int:\n",
    "        \"Count the number of elements < x.\"\n",
    "        ans = 0\n",
    "        for a in self.a:\n",
    "            if a[-1] >= x:\n",
    "                return ans + bisect_left(a, x)\n",
    "            ans += len(a)\n",
    "        return ans\n",
    "\n",
    "    def index_right(self, x: T) -> int:\n",
    "        \"Count the number of elements <= x.\"\n",
    "        ans = 0\n",
    "        for a in self.a:\n",
    "            if a[-1] > x:\n",
    "                return ans + bisect_right(a, x)\n",
    "            ans += len(a)\n",
    "        return ans\n",
    "    \n",
    "for _ in range(int(input())):\n",
    "    n, m = map(int, input().split())\n",
    "    li = list(map(int, input().split()))\n",
    "\n",
    "    cur_match = list(range(n + 1))\n",
    "\n",
    "    ms = SortedMultiset()\n",
    "    for i in range(1, n + 1):\n",
    "        ms.add(i)\n",
    "\n",
    "    r = []\n",
    "    nxt = 0\n",
    "    for v in li:\n",
    "        w = cur_match[v]\n",
    "\n",
    "        c = ms.index(w)\n",
    "        r.append(c)\n",
    "\n",
    "        ms.discard(w)\n",
    "        cur_match[v] = nxt\n",
    "        ms.add(nxt)\n",
    "        nxt -= 1\n",
    "\n",
    "    print(*r)"
   ]
  },
  {
   "cell_type": "markdown",
   "metadata": {},
   "source": [
    "H번 - 특별상"
   ]
  },
  {
   "cell_type": "code",
   "execution_count": 4,
   "metadata": {},
   "outputs": [
    {
     "name": "stdout",
     "output_type": "stream",
     "text": [
      "7 2 3\n",
      "4 7\n",
      "7 8\n",
      "2 1\n",
      "9 3\n",
      "6 0\n",
      "10 4\n",
      "3 6\n",
      "33\n"
     ]
    }
   ],
   "source": [
    "import sys\n",
    "input = lambda: sys.stdin.readline().rstrip()\n",
    "\n",
    "n, m, k = map(int, input().split())\n",
    "li = [list(map(int, input().split())) for _ in range(n)]\n",
    "\n",
    "li.sort(key=lambda x: x[1])\n",
    "\n",
    "total = 0\n",
    "for _ in range(k):\n",
    "    a, b = li.pop()\n",
    "    total += a\n",
    "    \n",
    "li.sort(key=lambda x: x[0])\n",
    "for _ in range(m):\n",
    "    a, b = li.pop()\n",
    "    total += a\n",
    "    \n",
    "print(total)"
   ]
  },
  {
   "cell_type": "markdown",
   "metadata": {},
   "source": [
    "https://www.acmicpc.net/contest/problem/830/12"
   ]
  },
  {
   "cell_type": "code",
   "execution_count": 8,
   "metadata": {},
   "outputs": [
    {
     "name": "stdout",
     "output_type": "stream",
     "text": [
      "5 3\n",
      "1 2 4 5 8\n",
      "2 1 2 2 3\n",
      "1 2 3 4\n"
     ]
    }
   ],
   "source": [
    "from collections import deque\n",
    "\n",
    "n, s = map(int, input().split())\n",
    "s -= 1\n",
    "\n",
    "xs = list(map(int, input().split()))\n",
    "hs = list(map(int, input().split()))\n",
    "\n",
    "l_end = s\n",
    "r_end = s\n",
    "\n",
    "queue = deque()\n",
    "queue.append(s)\n",
    "while queue:\n",
    "    value = queue.popleft()\n",
    "    \n",
    "    while l_end > 0:\n",
    "        dist = abs(xs[value] - xs[l_end - 1])\n",
    "        if dist <= hs[value]:\n",
    "            queue.append(l_end - 1)\n",
    "            l_end -= 1\n",
    "        else:\n",
    "            break\n",
    "            \n",
    "    while r_end < n - 1:\n",
    "        dist = abs(xs[value] - xs[r_end + 1])\n",
    "        if dist <= hs[value]:\n",
    "            queue.append(r_end + 1)\n",
    "            r_end += 1\n",
    "        else:\n",
    "            break\n",
    "            \n",
    "l_end += 1\n",
    "r_end += 1\n",
    "result = list(range(l_end, r_end + 1))\n",
    "\n",
    "print(*result)"
   ]
  },
  {
   "cell_type": "markdown",
   "metadata": {},
   "source": [
    "J번 - 교집합 만들기"
   ]
  },
  {
   "cell_type": "code",
   "execution_count": null,
   "metadata": {},
   "outputs": [],
   "source": [
    "해당 구간이 정확이 있으면 1\n",
    "아니면 2 또는 -1"
   ]
  },
  {
   "cell_type": "code",
   "execution_count": 15,
   "metadata": {},
   "outputs": [
    {
     "name": "stdout",
     "output_type": "stream",
     "text": [
      "3\n",
      "0 10\n",
      "2 6\n",
      "4 8\n",
      "3\n",
      "4 6\n",
      "2\n",
      "2 8\n",
      "-1\n",
      "1 9\n",
      "-1\n"
     ]
    }
   ],
   "source": [
    "from collections import defaultdict as dd\n",
    "import sys\n",
    "input = lambda: sys.stdin.readline().rstrip()\n",
    "\n",
    "n = int(input())\n",
    "\n",
    "find_start = dd(list)\n",
    "find_end = dd(list)\n",
    "st = set()\n",
    "for _ in range(n):\n",
    "    l, r = map(int, input().split())\n",
    "    st.add((l, r))\n",
    "    find_start[r].append(l)\n",
    "    find_end[l].append(r)\n",
    "    \n",
    "for key in find_start:\n",
    "    find_start[key].sort()\n",
    "    \n",
    "for key in find_end:\n",
    "    find_end[key].sort()\n",
    "    \n",
    "q = int(input())\n",
    "for _ in range(q):\n",
    "    l, r = map(int, input().split())\n",
    "    \n",
    "    if (l, r) in st:\n",
    "        print(1)\n",
    "    else:\n",
    "        if r not in find_start or l not in find_end:\n",
    "            print(-1)\n",
    "            continue\n",
    "        if l < find_start[r][0]:\n",
    "            print(-1)\n",
    "            continue\n",
    "        if find_end[l][-1] < r:\n",
    "            print(-1)\n",
    "            continue\n",
    "            \n",
    "        print(2)"
   ]
  },
  {
   "cell_type": "markdown",
   "metadata": {},
   "source": [
    "I번 - 사건의 지평선"
   ]
  },
  {
   "cell_type": "code",
   "execution_count": 26,
   "metadata": {},
   "outputs": [
    {
     "name": "stdout",
     "output_type": "stream",
     "text": [
      "4\n",
      "1 2 3 4\n",
      "3 4\n",
      "3 3\n",
      "2 3\n",
      "1 2\n",
      "4 3 3 4\n"
     ]
    }
   ],
   "source": [
    "# 시간 초과\n",
    "import sys\n",
    "input = lambda: sys.stdin.readline().rstrip()\n",
    "\n",
    "inf = float('inf')\n",
    "\n",
    "class SegmentTree:\n",
    "    def __init__(self, data, default=10**15, func=lambda a, b: max(a,b)):\n",
    "        \"\"\"initialize the segment tree with data\"\"\"\n",
    "        self._default = default\n",
    "        self._func = func\n",
    "        self._len = len(data)\n",
    "        self._size = _size = 1 << (self._len - 1).bit_length()\n",
    " \n",
    "        self.data = [default] * (2 * _size)\n",
    "        self.data[_size:_size + self._len] = data\n",
    "        for i in reversed(range(_size)):\n",
    "            self.data[i] = func(self.data[i + i], self.data[i + i + 1])\n",
    " \n",
    "    def __delitem__(self, idx):\n",
    "        self[idx] = self._default\n",
    " \n",
    "    def __getitem__(self, idx):\n",
    "        return self.data[idx + self._size]\n",
    " \n",
    "    def __setitem__(self, idx, value):\n",
    "        idx += self._size\n",
    "        self.data[idx] = value\n",
    "        idx >>= 1\n",
    "        while idx:\n",
    "            self.data[idx] = self._func(self.data[2 * idx], self.data[2 * idx + 1])\n",
    "            idx >>= 1\n",
    " \n",
    "    def __len__(self):\n",
    "        return self._len\n",
    " \n",
    "    def query(self, start, stop):\n",
    "        if start == stop:\n",
    "            return self.__getitem__(start)\n",
    "        stop += 1\n",
    "        start += self._size\n",
    "        stop += self._size\n",
    " \n",
    "        res = self._default\n",
    "        while start < stop:\n",
    "            if start & 1:\n",
    "                res = self._func(res, self.data[start])\n",
    "                start += 1\n",
    "            if stop & 1:\n",
    "                stop -= 1\n",
    "                res = self._func(res, self.data[stop])\n",
    "            start >>= 1\n",
    "            stop >>= 1\n",
    "        return res\n",
    " \n",
    "    def __repr__(self):\n",
    "        return \"SegmentTree({0})\".format(self.data)\n",
    "\n",
    "get_value = lambda x: int(x) - 1\n",
    "\n",
    "n = int(input())\n",
    "li = list(map(int, input().split()))\n",
    "to_change = [list(map(get_value, input().split())) for _ in range(n)]\n",
    "\n",
    "cur_max = [-1] * n\n",
    "func = lambda a, b: max(a, b)\n",
    "for tm in range(40):\n",
    "    nli = [0] * n\n",
    "    segtree = SegmentTree(li, -inf, func=func)\n",
    "    for i in range(n):\n",
    "        l = to_change[i][0]\n",
    "        r = to_change[i][1]\n",
    "        \n",
    "        nli[i] = segtree.query(l, r)\n",
    "        if tm >= 20:\n",
    "            cur_max[i] = max(cur_max[i], nli[i])\n",
    "                 \n",
    "    li = nli.copy()\n",
    "        \n",
    "print(*cur_max)"
   ]
  },
  {
   "cell_type": "markdown",
   "metadata": {},
   "source": [
    "### 비숍 1560 "
   ]
  },
  {
   "cell_type": "code",
   "execution_count": 3,
   "metadata": {},
   "outputs": [
    {
     "name": "stdout",
     "output_type": "stream",
     "text": [
      "4\n",
      "6\n"
     ]
    }
   ],
   "source": [
    "n = int(input())\n",
    "\n",
    "if n == 2:\n",
    "    print(2)\n",
    "else:\n",
    "    r = n + n - 2\n",
    "    \n",
    "    print(r)"
   ]
  },
  {
   "cell_type": "markdown",
   "metadata": {},
   "source": [
    "### Feeding Time 6031"
   ]
  },
  {
   "cell_type": "code",
   "execution_count": null,
   "metadata": {},
   "outputs": [],
   "source": [
    "from collections import deque\n",
    "import sys\n",
    "input = lambda: sys.stdin.readline().rstrip()\n",
    "\n",
    "w, h = map(int, input().split())\n",
    "li = [input() for _ in range(h)]\n",
    "\n",
    "dx = [-1, -1, -1, 0, 0, 1, 1, 1]\n",
    "dy = [-1, 0, 1, -1, 1, -1, 0, 1]\n",
    "\n",
    "vt = [[False] * w for _ in range(h)]\n",
    "max_r = 0\n",
    "for i in range(h):\n",
    "    for j in range(w):\n",
    "        if li[i][j] == '*':\n",
    "            continue\n",
    "        if vt[i][j]:\n",
    "            continue\n",
    "        vt[i][j] = True\n",
    "        \n",
    "        c = 1\n",
    "        queue = deque()\n",
    "        queue.append((i, j))\n",
    "        while queue:\n",
    "            x, y = queue.popleft()\n",
    "            \n",
    "            for d in range(8):\n",
    "                nx = x + dx[d]\n",
    "                ny = y + dy[d]\n",
    "                \n",
    "                if nx < 0 or nx >= h or ny < 0 or ny >= w:\n",
    "                    continue\n",
    "                if li[nx][ny] == '*':\n",
    "                    continue\n",
    "                if not vt[nx][ny]:\n",
    "                    vt[nx][ny] = True\n",
    "                    c += 1\n",
    "                    queue.append((nx, ny))\n",
    "                    \n",
    "        max_r = max(max_r, c)\n",
    "        \n",
    "print(max_r)"
   ]
  },
  {
   "cell_type": "markdown",
   "metadata": {},
   "source": [
    "C번 - DKSH를 찾아라"
   ]
  },
  {
   "cell_type": "code",
   "execution_count": 1,
   "metadata": {},
   "outputs": [
    {
     "name": "stdout",
     "output_type": "stream",
     "text": [
      "11\n",
      "DABKCDSEFHH\n",
      "2\n"
     ]
    }
   ],
   "source": [
    "n = int(input())\n",
    "s = input()\n",
    "\n",
    "cs = [0] * 4\n",
    "for v in s:\n",
    "    if v == 'D':\n",
    "        cs[0] += 1\n",
    "    elif v == 'K':\n",
    "        cs[1] += cs[0]\n",
    "    elif v == 'S':\n",
    "        cs[2] += cs[1]\n",
    "    elif v == 'H':\n",
    "        cs[3] += cs[2]\n",
    "        \n",
    "print(cs[3])"
   ]
  },
  {
   "cell_type": "code",
   "execution_count": 7,
   "metadata": {},
   "outputs": [
    {
     "name": "stdout",
     "output_type": "stream",
     "text": [
      "5\n",
      "1 3\n",
      "2 2\n",
      "1 2\n",
      "2 3\n",
      "1\n",
      "4\n",
      "5\n",
      "2\n",
      "3\n"
     ]
    }
   ],
   "source": [
    "import sys\n",
    "input = lambda: sys.stdin.readline().rstrip()\n",
    "\n",
    "n = int(input())\n",
    "\n",
    "begin = list(range(n, 0, -1))\n",
    "washed = []\n",
    "dried = []\n",
    "\n",
    "left = n\n",
    "while True:\n",
    "    tp, c = map(int, input().split())\n",
    "    \n",
    "    if tp == 1:\n",
    "        for _ in range(c):\n",
    "            washed.append(begin.pop())\n",
    "    else:\n",
    "        left -= c\n",
    "        for _ in range(c):\n",
    "            dried.append(washed.pop())\n",
    "          \n",
    "    if left == 0:\n",
    "        break\n",
    "            \n",
    "for v in reversed(dried):\n",
    "    print(v)"
   ]
  },
  {
   "cell_type": "code",
   "execution_count": 12,
   "metadata": {},
   "outputs": [
    {
     "name": "stdout",
     "output_type": "stream",
     "text": [
      "5\n",
      "0 1\n",
      "1 2\n",
      "2 3\n",
      "3 2\n",
      "6 1\n",
      "2\n"
     ]
    }
   ],
   "source": [
    "import sys\n",
    "input = lambda: sys.stdin.readline().rstrip()\n",
    "\n",
    "n = int(input())\n",
    "li = [list(map(int, input().split()))[1] for _ in range(n)]\n",
    "\n",
    "stack = []\n",
    "for i in range(n):\n",
    "    while stack and li[i] < stack[-1]:\n",
    "        stack.pop()\n",
    "    stack.append(li[i])\n",
    "        \n",
    "print(len(stack))"
   ]
  },
  {
   "cell_type": "code",
   "execution_count": 22,
   "metadata": {},
   "outputs": [
    {
     "name": "stdout",
     "output_type": "stream",
     "text": [
      "1\n",
      "1 QFT 1 QF 7 FAQFDFQ\n",
      "Case #1: [F, D, T]\n"
     ]
    }
   ],
   "source": [
    "from collections import deque, defaultdict as dd\n",
    "import sys\n",
    "input = lambda: sys.stdin.readline().rstrip()\n",
    "\n",
    "for tn in range(int(input())):\n",
    "    temp = deque(input().split())\n",
    "\n",
    "    combine_c = int(temp.popleft())\n",
    "    combine = dict()\n",
    "    for _ in range(combine_c):\n",
    "        cond = temp.popleft()\n",
    "        combine[''.join(sorted(cond[:2]))] = cond[2]\n",
    "\n",
    "    oppose_c = int(temp.popleft())\n",
    "    oppose = dd(set)\n",
    "    for _ in range(oppose_c):\n",
    "        cond = temp.popleft()\n",
    "        a = cond[0]\n",
    "        b = cond[1]\n",
    "        oppose[a].add(b)\n",
    "        oppose[b].add(a)\n",
    "\n",
    "    n = int(temp.popleft())\n",
    "    s = temp.popleft()\n",
    "\n",
    "    stack = []\n",
    "    ct = dd(int)\n",
    "    for v in s:\n",
    "        if stack:\n",
    "            temp = ''.join(sorted([v, stack[-1]]))\n",
    "            if temp in combine:\n",
    "                ct[stack.pop()] -= 1\n",
    "                ct[combine[temp]] += 1\n",
    "                stack.append(combine[temp])\n",
    "                continue\n",
    "\n",
    "            is_opposed = False\n",
    "            for w in oppose[v]:\n",
    "                if ct[w] >= 1:\n",
    "                    is_opposed = True\n",
    "                    break\n",
    "\n",
    "            if is_opposed:\n",
    "                stack = []\n",
    "                ct = dd(int)\n",
    "                continue\n",
    "\n",
    "        stack.append(v)\n",
    "        ct[v] += 1\n",
    "\n",
    "    r = ', '.join(stack)\n",
    "    r = f'Case #{tn + 1}: [{r}]'\n",
    "    print(r)"
   ]
  },
  {
   "cell_type": "code",
   "execution_count": 27,
   "metadata": {},
   "outputs": [
    {
     "name": "stdout",
     "output_type": "stream",
     "text": [
      "*\n",
      "0\n"
     ]
    }
   ],
   "source": [
    "import sys\n",
    "input = lambda: sys.stdin.readline().rstrip()\n",
    "\n",
    "s = input()\n",
    "\n",
    "opened = 0\n",
    "to_check = -1\n",
    "for v in s:\n",
    "    if v == '(':\n",
    "        opened += 1\n",
    "    elif v == ')':\n",
    "        opened -= 1\n",
    "    else:\n",
    "        print(opened)\n",
    "        break"
   ]
  },
  {
   "cell_type": "code",
   "execution_count": 34,
   "metadata": {},
   "outputs": [
    {
     "name": "stdout",
     "output_type": "stream",
     "text": [
      "4\n",
      "(t|f) = f\n",
      "1: Bad brain\n",
      "((t|f)&((f|t)&f)) = f\n",
      "2: Good brain\n",
      "((f&f)|(f|!(t&f))) = t\n",
      "3: Good brain\n",
      "(f|(f|t)) = f\n",
      "4: Bad brain\n"
     ]
    }
   ],
   "source": [
    "import sys\n",
    "input = lambda: sys.stdin.readline().rstrip()\n",
    "\n",
    "for tn in range(int(input())):\n",
    "    s = input()\n",
    "\n",
    "    ns = s.replace('t', 'True').replace('f', 'False').replace('|', ' or ').replace('&', ' and ').replace('!', ' not ').replace('=', ' == ')\n",
    "\n",
    "    r = eval(ns)\n",
    "\n",
    "    if r:\n",
    "        result = 'Good'\n",
    "    else:\n",
    "        result = 'Bad'\n",
    "\n",
    "    result = f'{tn + 1}: {result} brain'\n",
    "\n",
    "    print(result)"
   ]
  },
  {
   "cell_type": "code",
   "execution_count": 36,
   "metadata": {},
   "outputs": [
    {
     "name": "stdout",
     "output_type": "stream",
     "text": [
      "4 ><<>\n",
      "illegal\n"
     ]
    }
   ],
   "source": [
    "import sys\n",
    "input = lambda: sys.stdin.readline().rstrip()\n",
    "\n",
    "for _ in range(int(input())):\n",
    "    n, s = input().split()\n",
    "    n = int(n)\n",
    "\n",
    "    ip = True\n",
    "    opened = 0\n",
    "    for v in s:\n",
    "        if v == '>':\n",
    "            opened += 1\n",
    "        else:\n",
    "            if opened:\n",
    "                opened -= 1\n",
    "            else:\n",
    "                ip = False\n",
    "                break\n",
    "\n",
    "    if opened:\n",
    "        ip = False\n",
    "\n",
    "    if ip:\n",
    "        print('legal')\n",
    "    else:\n",
    "        print('illegal')"
   ]
  },
  {
   "cell_type": "code",
   "execution_count": 40,
   "metadata": {},
   "outputs": [
    {
     "name": "stdout",
     "output_type": "stream",
     "text": [
      "9\n",
      "4 6 6 6 6 8 9 9 9\n",
      "1 1 2 4 5 1 1 3 9\n"
     ]
    }
   ],
   "source": [
    "import sys\n",
    "input = lambda: sys.stdin.readline().rstrip()\n",
    "\n",
    "for _ in range(int(input())):\n",
    "    n = int(input())\n",
    "    li = list(map(int, input().split()))\n",
    "\n",
    "    cur = 0\n",
    "    nli = []\n",
    "    for v in li:\n",
    "        nli.extend('(' * (v - cur))\n",
    "        nli.append(')')\n",
    "        cur = v\n",
    "\n",
    "    stack = []\n",
    "    result = []\n",
    "    for v in nli:\n",
    "        if v == '(':\n",
    "            stack.append(1)\n",
    "        else:\n",
    "            temp = stack.pop()\n",
    "            result.append(temp)\n",
    "            if stack:\n",
    "                stack[-1] += temp\n",
    "\n",
    "    print(*result)"
   ]
  },
  {
   "cell_type": "code",
   "execution_count": 46,
   "metadata": {},
   "outputs": [
    {
     "name": "stdout",
     "output_type": "stream",
     "text": [
      "while(sum < 200) { sum += data[test(sum]); }\n",
      "Illegal\n"
     ]
    }
   ],
   "source": [
    "import sys\n",
    "input = lambda: sys.stdin.readline().rstrip()\n",
    "\n",
    "while True:\n",
    "    s = input()\n",
    "    if s == '#':\n",
    "        break\n",
    "\n",
    "    stack = []\n",
    "    opens = {'(', '{', '['}\n",
    "    closes = {')', '}', ']'}\n",
    "    to_find = {')': '(', '}': '{', ']': '['}\n",
    "    ip = True\n",
    "    for v in s:\n",
    "        if v in opens:\n",
    "            stack.append(v)\n",
    "        elif v in closes:\n",
    "            if not stack or stack[-1] != to_find[v]:\n",
    "                ip = False\n",
    "                break\n",
    "            stack.pop()\n",
    "\n",
    "    if stack:\n",
    "        ip = False\n",
    "\n",
    "    if ip:\n",
    "        print('Legal')\n",
    "    else:\n",
    "        print('Illegal')"
   ]
  },
  {
   "cell_type": "code",
   "execution_count": 51,
   "metadata": {},
   "outputs": [
    {
     "name": "stdout",
     "output_type": "stream",
     "text": [
      "- * - + - * -\n",
      "50\n"
     ]
    }
   ],
   "source": [
    "import sys\n",
    "input = lambda: sys.stdin.readline().rstrip()\n",
    "\n",
    "values = {'.': 1, '-': 5, ':': 2, '=': 10}\n",
    "\n",
    "op_n = int(input())\n",
    "s = input()\n",
    "\n",
    "li = []\n",
    "temp = []\n",
    "for v in s:\n",
    "    if v == ' ':\n",
    "        continue\n",
    "        \n",
    "    if v == '+' or v == '*':\n",
    "        value = 0\n",
    "        for w in temp:\n",
    "            value += values[w]\n",
    "        li.append(str(value))\n",
    "            \n",
    "        temp = []\n",
    "        li.append(v)\n",
    "    else:\n",
    "        temp.append(v)\n",
    "        \n",
    "value = 0\n",
    "for w in temp:\n",
    "    value += values[w]\n",
    "li.append(str(value))\n",
    "\n",
    "r = eval(''.join(li))\n",
    "\n",
    "print(r)"
   ]
  },
  {
   "cell_type": "code",
   "execution_count": null,
   "metadata": {},
   "outputs": [],
   "source": [
    "import sys\n",
    "input = lambda: sys.stdin.readline().rstrip()\n",
    "\n",
    "n = int(input())\n",
    "queries = [input().split() for _ in range(n)]\n",
    "\n",
    "stack = []\n",
    "regi = 0\n",
    "\n",
    "cur = 0\n",
    "while True:\n",
    "    qu = queries[cur]\n",
    "    \n",
    "    tp = qu[0]\n",
    "    if tp == 'PUSH':\n",
    "        stack.append(int(qu[1]))\n",
    "    elif tp == 'STORE':\n",
    "        regi = stack.pop()\n",
    "    elif tp == 'LOAD':\n",
    "        stack.append(regi)\n",
    "    elif tp == 'PLUS':\n",
    "        temp = stack.pop() + stack.pop()\n",
    "        stack.append(temp)\n",
    "    elif tp == 'TIMES':\n",
    "        temp = stack.pop() * stack.pop()\n",
    "        stack.append(temp)        \n",
    "    elif tp == 'IFZERO':\n",
    "        to_check = stack.pop()\n",
    "        if to_check == 0:\n",
    "            cur = int(qu[1])\n",
    "            continue\n",
    "    elif tp == 'DONE':\n",
    "        print(stack.pop())\n",
    "        break\n",
    "        \n",
    "    cur += 1"
   ]
  },
  {
   "cell_type": "code",
   "execution_count": 60,
   "metadata": {},
   "outputs": [
    {
     "name": "stdout",
     "output_type": "stream",
     "text": [
      "1\n",
      "uldrurdl\n",
      "Data Set 1:\n",
      "No\n",
      "\n"
     ]
    }
   ],
   "source": [
    "import sys\n",
    "input = lambda: sys.stdin.readline().rstrip()\n",
    "\n",
    "for tn in range(int(input())):\n",
    "    s = input()\n",
    "\n",
    "    to_find = {'r': 'l', 'l': 'r', 'u': 'd', 'd': 'u'}\n",
    "    stack = []\n",
    "    for v in s:\n",
    "        if stack and stack[-1] == to_find[v]:\n",
    "            stack.pop()\n",
    "        else:\n",
    "            stack.append(v)\n",
    "\n",
    "    print(f'Data Set {tn + 1}:')\n",
    "    if stack:\n",
    "        print('No')\n",
    "    else:\n",
    "        print('Yes')\n",
    "    print()"
   ]
  },
  {
   "cell_type": "code",
   "execution_count": 62,
   "metadata": {},
   "outputs": [
    {
     "name": "stdout",
     "output_type": "stream",
     "text": [
      "10\n",
      "1 3 3 4 2 4 1 3 7 1\n",
      "2\n"
     ]
    }
   ],
   "source": [
    "import sys\n",
    "input = lambda: sys.stdin.readline().rstrip()\n",
    "\n",
    "n = int(input())\n",
    "li = list(map(int, input().split()))\n",
    "\n",
    "stack = []\n",
    "for v in li:\n",
    "    if stack and (stack[-1] + v) % 2 == 0:\n",
    "        stack.pop()\n",
    "    else:\n",
    "        stack.append(v)\n",
    "        \n",
    "print(len(stack))"
   ]
  },
  {
   "cell_type": "code",
   "execution_count": null,
   "metadata": {},
   "outputs": [],
   "source": [
    "import sys\n",
    "# input = lambda: sys.stdin.readline().rstrip()\n",
    "\n",
    "while True:\n",
    "    try:\n",
    "        s = input()\n",
    "\n",
    "        r = eval(s)\n",
    "\n",
    "        print(r)\n",
    "    except:\n",
    "        break"
   ]
  },
  {
   "cell_type": "code",
   "execution_count": 68,
   "metadata": {},
   "outputs": [
    {
     "data": {
      "text/plain": [
       "'03'"
      ]
     },
     "execution_count": 68,
     "metadata": {},
     "output_type": "execute_result"
    }
   ],
   "source": [
    "'3'.rjust(2, '0')"
   ]
  },
  {
   "cell_type": "code",
   "execution_count": 69,
   "metadata": {},
   "outputs": [
    {
     "name": "stdout",
     "output_type": "stream",
     "text": [
      "5 3\n"
     ]
    }
   ],
   "source": [
    "def check(cur):\n",
    "    h = cur // 3600\n",
    "    cur %= 3600\n",
    "    \n",
    "    m = cur // 60\n",
    "    s = cur % 60\n",
    "\n",
    "    if sk in str(h).rjust(2, '0'):\n",
    "        return True\n",
    "    if sk in str(m).rjust(2, '0'):\n",
    "        return True\n",
    "    if sk in str(s).rjust(2, '0'):\n",
    "        return True\n",
    "    return False\n",
    "    \n",
    "n, k = map(int, input().split())\n",
    "sk = str(k)\n",
    "\n",
    "max_v = 60 * 60 * (n + 1)\n",
    "total = 0\n",
    "for cur in range(max_v):\n",
    "    if check(cur):\n",
    "        total += 1\n",
    "        \n",
    "print(total)"
   ]
  },
  {
   "cell_type": "code",
   "execution_count": 75,
   "metadata": {},
   "outputs": [
    {
     "name": "stdout",
     "output_type": "stream",
     "text": [
      "HPC PJVYMIY\n",
      "BLMRGJIASOPZEFDCKWYHUNXQTV\n",
      "ACM CONTEST\n"
     ]
    }
   ],
   "source": [
    "import sys\n",
    "input = lambda: sys.stdin.readline().rstrip()\n",
    "\n",
    "for _ in range(int(input())):\n",
    "    li = list(input())\n",
    "    seq = input()\n",
    "\n",
    "    to_original = {chr(65 + i): seq[i] for i in range(26)}\n",
    "    to_original.update({' ': ' '})\n",
    "\n",
    "    for i in range(len(li)):\n",
    "        li[i] = to_original[li[i]]\n",
    "\n",
    "    r = ''.join(li)\n",
    "\n",
    "    print(r)"
   ]
  },
  {
   "cell_type": "code",
   "execution_count": 81,
   "metadata": {},
   "outputs": [
    {
     "name": "stdout",
     "output_type": "stream",
     "text": [
      "3\n",
      "3 bottles of beer on the wall, 3 bottles of beer.\n",
      "Take one down and pass it around, 2 bottles of beer on the wall.\n",
      "\n",
      "2 bottles of beer on the wall, 2 bottles of beer.\n",
      "Take one down and pass it around, 1 bottle of beer on the wall.\n",
      "\n",
      "1 bottle of beer on the wall, 1 bottle of beer.\n",
      "Take one down and pass it around, no more bottles of beer on the wall.\n",
      "\n",
      "No more bottles of beer on the wall, no more bottles of beer.\n",
      "Go to the store and buy some more, 3 bottles of beer on the wall.\n",
      "\n"
     ]
    }
   ],
   "source": [
    "def add(cur, is_cap=False):\n",
    "    if cur == 1:\n",
    "        return '1 bottle'\n",
    "    elif cur == 0:\n",
    "        if is_cap:\n",
    "            return 'No more bottles'\n",
    "        else:\n",
    "            return 'no more bottles'\n",
    "    else:\n",
    "        return f'{cur} bottles'\n",
    "\n",
    "n = int(input())\n",
    "\n",
    "for cur in range(n, -1, -1):\n",
    "    r1 = f'{add(cur, True)} of beer on the wall, {add(cur)} of beer.'\n",
    "    \n",
    "    if cur > 0:\n",
    "        r2 = f'Take one down and pass it around, {add(cur - 1)} of beer on the wall.'\n",
    "    else:\n",
    "        r2 = f'Go to the store and buy some more, {add(n)} of beer on the wall.'\n",
    "    \n",
    "    print(r1)\n",
    "    print(r2)\n",
    "    print()"
   ]
  },
  {
   "cell_type": "code",
   "execution_count": 84,
   "metadata": {},
   "outputs": [
    {
     "name": "stdout",
     "output_type": "stream",
     "text": [
      "asvdge ef ofmdofn\n",
      "f\n"
     ]
    }
   ],
   "source": [
    "from collections import Counter\n",
    "import sys\n",
    "input = lambda: sys.stdin.readline().rstrip()\n",
    "\n",
    "for _ in range(int(input())):\n",
    "    s = input()\n",
    "\n",
    "    ct = Counter(s)\n",
    "    if ' ' in ct:\n",
    "        del ct[' ']\n",
    "\n",
    "    mosts = ct.most_common()\n",
    "    most_recur_c = mosts[0][1]\n",
    "\n",
    "    cands = []\n",
    "    for alpha, c in mosts:\n",
    "        if c == most_recur_c:\n",
    "            cands.append(alpha)\n",
    "\n",
    "    if len(cands) >= 2:\n",
    "        print('?')\n",
    "    else:\n",
    "        print(cands[0])"
   ]
  },
  {
   "cell_type": "code",
   "execution_count": 94,
   "metadata": {},
   "outputs": [
    {
     "name": "stdout",
     "output_type": "stream",
     "text": [
      "3\n",
      "aaaa\n",
      "0 4\n",
      "bbbb\n",
      "4 0\n",
      "    \n",
      "0 0\n"
     ]
    }
   ],
   "source": [
    "import sys\n",
    "# input = lambda: sys.stdin.readline().rstrip()\n",
    "\n",
    "vowels = {'A' 'E', 'I', 'O', 'U', 'a', 'e', 'i', 'o', 'u'}\n",
    "\n",
    "for _ in range(int(input())):\n",
    "    s = input()\n",
    "\n",
    "    cv = 0\n",
    "    cc = 0\n",
    "    for value in s:\n",
    "        if value == ' ':\n",
    "            continue\n",
    "        if value in vowels:\n",
    "            cv += 1\n",
    "        else:\n",
    "            cc += 1\n",
    "\n",
    "    print(cc, cv)"
   ]
  },
  {
   "cell_type": "code",
   "execution_count": 89,
   "metadata": {},
   "outputs": [
    {
     "name": "stdout",
     "output_type": "stream",
     "text": [
      "3\n",
      "ABC 4\n",
      "BCD 2\n",
      "CDE 3\n",
      "BCD\n"
     ]
    }
   ],
   "source": [
    "n = int(input())\n",
    "\n",
    "li = []\n",
    "for _ in range(n):\n",
    "    temp = input().split()\n",
    "    temp[-1] = int(temp[-1])\n",
    "    \n",
    "    li.append(temp)\n",
    "    \n",
    "li.sort(key=lambda x: x[1])\n",
    "\n",
    "r = li[0][0]\n",
    "\n",
    "print(r)"
   ]
  },
  {
   "cell_type": "code",
   "execution_count": 92,
   "metadata": {},
   "outputs": [
    {
     "name": "stdout",
     "output_type": "stream",
     "text": [
      "ali ja sam i jucer jeo\n",
      "AJSJJ\n"
     ]
    }
   ],
   "source": [
    "not_impo = {'i', 'pa', 'te', 'ni', 'niti', 'a', 'ali', 'nego', 'no', 'ili'}\n",
    "\n",
    "li = input().split()\n",
    "\n",
    "for i in range(len(li) - 1, -1, -1):\n",
    "    if i > 0 and li[i] in not_impo:\n",
    "        del li[i]\n",
    "    \n",
    "r = []\n",
    "for v in li:\n",
    "    r.append(v[0])\n",
    "    \n",
    "r = ''.join(r)\n",
    "r = r.upper()\n",
    "\n",
    "print(r)"
   ]
  },
  {
   "cell_type": "code",
   "execution_count": 97,
   "metadata": {},
   "outputs": [
    {
     "name": "stdout",
     "output_type": "stream",
     "text": [
      "7 3\n",
      "12 5 -1 0 -4 3 -10\n",
      "1 2 7\n",
      "-7\n",
      "2 1 4 2 3\n",
      "12\n",
      "2 1 7 3 4\n",
      "6\n"
     ]
    }
   ],
   "source": [
    "import sys\n",
    "input = lambda: sys.stdin.readline().rstrip()\n",
    "\n",
    "class SegmentTree:\n",
    "    def __init__(self, data, default=10**15, func=lambda a, b: max(a,b)):\n",
    "        \"\"\"initialize the segment tree with data\"\"\"\n",
    "        self._default = default\n",
    "        self._func = func\n",
    "        self._len = len(data)\n",
    "        self._size = _size = 1 << (self._len - 1).bit_length()\n",
    " \n",
    "        self.data = [default] * (2 * _size)\n",
    "        self.data[_size:_size + self._len] = data\n",
    "        for i in reversed(range(_size)):\n",
    "            self.data[i] = func(self.data[i + i], self.data[i + i + 1])\n",
    " \n",
    "    def __delitem__(self, idx):\n",
    "        self[idx] = self._default\n",
    " \n",
    "    def __getitem__(self, idx):\n",
    "        return self.data[idx + self._size]\n",
    " \n",
    "    def __setitem__(self, idx, value):\n",
    "        idx += self._size\n",
    "        self.data[idx] = value\n",
    "        idx >>= 1\n",
    "        while idx:\n",
    "            self.data[idx] = self._func(self.data[2 * idx], self.data[2 * idx + 1])\n",
    "            idx >>= 1\n",
    " \n",
    "    def __len__(self):\n",
    "        return self._len\n",
    " \n",
    "    def query(self, start, stop):\n",
    "        if start == stop:\n",
    "            return self.__getitem__(start)\n",
    "        stop += 1\n",
    "        start += self._size\n",
    "        stop += self._size\n",
    " \n",
    "        res = self._default\n",
    "        while start < stop:\n",
    "            if start & 1:\n",
    "                res = self._func(res, self.data[start])\n",
    "                start += 1\n",
    "            if stop & 1:\n",
    "                stop -= 1\n",
    "                res = self._func(res, self.data[stop])\n",
    "            start >>= 1\n",
    "            stop >>= 1\n",
    "        return res\n",
    " \n",
    "    def __repr__(self):\n",
    "        return \"SegmentTree({0})\".format(self.data)\n",
    "    \n",
    "n, q = map(int, input().split())\n",
    "li = list(map(int, input().split()))\n",
    "\n",
    "func = lambda a, b: a + b\n",
    "seg = SegmentTree(li, 0, func=func)\n",
    "\n",
    "for _ in range(q):\n",
    "    qu = list(map(int, input().split()))\n",
    "    \n",
    "    tp = qu[0]\n",
    "    if tp == 1:\n",
    "        qu[1] -= 1\n",
    "        qu[2] -= 1\n",
    "        \n",
    "        r = seg.query(qu[1], qu[2])\n",
    "        \n",
    "        seg[qu[1]], seg[qu[2]] = seg[qu[2]], seg[qu[1]]\n",
    "    else:\n",
    "        a, b, c, d = qu[1:]\n",
    "        a -= 1\n",
    "        b -= 1\n",
    "        c -= 1\n",
    "        d -= 1\n",
    "        \n",
    "        r = seg.query(a, b) - seg.query(c, d)\n",
    "        \n",
    "    print(r)"
   ]
  },
  {
   "cell_type": "code",
   "execution_count": 102,
   "metadata": {},
   "outputs": [
    {
     "name": "stdout",
     "output_type": "stream",
     "text": [
      "1001\n",
      "2\n"
     ]
    }
   ],
   "source": [
    "import sys\n",
    "input = lambda: sys.stdin.readline().rstrip()\n",
    "\n",
    "for _ in range(int(input())):\n",
    "    n = int(input())\n",
    "\n",
    "    cur = 1\n",
    "    for num in range(1, n + 1):\n",
    "        cur *= num\n",
    "        while cur % 10 == 0:\n",
    "            cur //= 10\n",
    "\n",
    "        cur %= 1000000000000\n",
    "\n",
    "    r = cur % 10\n",
    "\n",
    "    print(r)"
   ]
  },
  {
   "cell_type": "code",
   "execution_count": 104,
   "metadata": {},
   "outputs": [
    {
     "name": "stdout",
     "output_type": "stream",
     "text": [
      "8 3\n",
      "0 0 0 0 0 0 0 0\n",
      "1 2 1\n",
      "1 4 1\n",
      "2 2 4\n",
      "0 0 1 0 0 0 0 0\n"
     ]
    }
   ],
   "source": [
    "import sys\n",
    "input = lambda: sys.stdin.readline().rstrip()\n",
    "\n",
    "n, m = map(int, input().split())\n",
    "li = list(map(int, input().split()))\n",
    "\n",
    "for _ in range(m):\n",
    "    a, b, c = map(int, input().split())\n",
    "    b -= 1\n",
    "    if a != 1:\n",
    "        c -= 1\n",
    "    \n",
    "    if a == 1:\n",
    "        li[b] = c\n",
    "    elif a == 2:\n",
    "        for i in range(b, c + 1):\n",
    "            li[i] ^= 1\n",
    "    elif a == 3:\n",
    "        for i in range(b, c + 1):\n",
    "            li[i] = 0\n",
    "    else:\n",
    "        for i in range(b, c + 1):\n",
    "            li[i] = 1\n",
    "            \n",
    "print(*li)"
   ]
  },
  {
   "cell_type": "code",
   "execution_count": 106,
   "metadata": {},
   "outputs": [
    {
     "name": "stdout",
     "output_type": "stream",
     "text": [
      "3\n",
      "iabucdpefcg\n",
      "iupc\n"
     ]
    }
   ],
   "source": [
    "k = int(input())\n",
    "s = input()\n",
    "\n",
    "r = []\n",
    "for i in range(0, len(s), k):\n",
    "    r.append(s[i])\n",
    "\n",
    "print(''.join(r))"
   ]
  },
  {
   "cell_type": "code",
   "execution_count": null,
   "metadata": {},
   "outputs": [],
   "source": [
    "d1, d2, d3\n",
    "\n",
    "a + b = d1\n",
    "a + c = d2\n",
    "b + c = d3\n",
    "\n"
   ]
  },
  {
   "cell_type": "code",
   "execution_count": null,
   "metadata": {},
   "outputs": [],
   "source": [
    "2a + 2b + 2c = d1 + d2 + d3\n",
    "2b + 2c = 2d3\n",
    "\n",
    "2a = d1 + d2 - d3\n",
    "\n",
    "a = (d1 + d2 - d3) / 2\n",
    "\n",
    "b = d1 - a\n",
    "c = d3 - b\n",
    "\n",
    "print('{:.1f}'.format(a), '{:.1f}'.format(b), '{:.1f}'.format(c))"
   ]
  },
  {
   "cell_type": "code",
   "execution_count": 115,
   "metadata": {},
   "outputs": [
    {
     "name": "stdout",
     "output_type": "stream",
     "text": [
      "4 4 4\n",
      "2.0 2.0 2.0\n"
     ]
    }
   ],
   "source": [
    "d1, d2, d3 = map(int, input().split())\n",
    "\n",
    "max_v = max(d1, d2, d3)\n",
    "sv = d1 + d2 + d3\n",
    "\n",
    "if sv - max_v <= max_v:\n",
    "    print(-1)\n",
    "else:\n",
    "    a = (d1 + d2 - d3) / 2\n",
    "    b = d1 - a\n",
    "    c = d3 - b\n",
    "    \n",
    "    print(1)\n",
    "    print('{:.1f}'.format(a), '{:.1f}'.format(b), '{:.1f}'.format(c))"
   ]
  },
  {
   "cell_type": "code",
   "execution_count": 117,
   "metadata": {},
   "outputs": [
    {
     "name": "stdout",
     "output_type": "stream",
     "text": [
      "5 4 2\n",
      "XXX.\n",
      "X..X\n",
      "XXX.\n",
      "X..X\n",
      "XXX>\n",
      "XXXXXX..\n",
      "XXXXXX..\n",
      "XX....XX\n",
      "XX....XX\n",
      "XXXXXX..\n",
      "XXXXXX..\n",
      "XX....XX\n",
      "XX....XX\n",
      "XXXXXX>>\n",
      "XXXXXX>>\n"
     ]
    }
   ],
   "source": [
    "import sys\n",
    "input = lambda: sys.stdin.readline().rstrip()\n",
    "\n",
    "n, m, k = map(int, input().split())\n",
    "li = [input() for _ in range(n)]\n",
    "\n",
    "for i in range(n):\n",
    "    temp = []\n",
    "    for j in range(m):\n",
    "        temp.extend(li[i][j] * k)\n",
    "        \n",
    "    temp = ''.join(temp)\n",
    "    for _ in range(k):\n",
    "        print(temp)"
   ]
  },
  {
   "cell_type": "code",
   "execution_count": 122,
   "metadata": {},
   "outputs": [
    {
     "name": "stdout",
     "output_type": "stream",
     "text": [
      "1\n",
      "Simon says raise your left hand.\n",
      " raise your left hand.\n"
     ]
    }
   ],
   "source": [
    "import sys\n",
    "input = lambda: sys.stdin.readline().rstrip()\n",
    "\n",
    "to_check = 'Simon says'\n",
    "\n",
    "for _ in range(int(input())):\n",
    "    s = input()\n",
    "    \n",
    "    if s[:len(to_check)] == to_check:\n",
    "        print(s[len(to_check):])"
   ]
  },
  {
   "cell_type": "code",
   "execution_count": null,
   "metadata": {},
   "outputs": [],
   "source": [
    "import sys\n",
    "input = lambda: sys.stdin.readline().rstrip()\n",
    "\n",
    "for tm in range(int(input())):\n",
    "    n = int(input())\n",
    "    li = [input() for _ in range(n)]\n",
    "\n",
    "    total = 0\n",
    "    while True:\n",
    "        is_ch = False\n",
    "        for i in range(n - 1):\n",
    "            if li[i] > li[i + 1]:\n",
    "                li[i], li[i + 1] = li[i + 1], li[i]\n",
    "                total += 1\n",
    "                is_ch = True\n",
    "\n",
    "        for i in range(n - 1, 0, -1):\n",
    "            if li[i - 1] > li[i]:\n",
    "                li[i], li[i - 1] = li[i - 1], li[i]\n",
    "                total += 1\n",
    "                is_ch = True\n",
    "\n",
    "        if not is_ch:\n",
    "            break\n",
    "\n",
    "    r = f'Case #{tm + 1}: {total}'\n",
    "    print(r)"
   ]
  },
  {
   "cell_type": "code",
   "execution_count": 137,
   "metadata": {},
   "outputs": [
    {
     "name": "stdout",
     "output_type": "stream",
     "text": [
      "153920529\n",
      "153,920,529\n"
     ]
    }
   ],
   "source": [
    "li = list(input())\n",
    "n = len(li)\n",
    "\n",
    "cur = 0\n",
    "for i in range(n - 1, 0, -1):\n",
    "    cur += 1\n",
    "    if cur % 3 == 0:\n",
    "        li.insert(i, ',')\n",
    "        \n",
    "r = ''.join(li)\n",
    "\n",
    "print(r)"
   ]
  },
  {
   "cell_type": "code",
   "execution_count": 136,
   "metadata": {},
   "outputs": [
    {
     "data": {
      "text/plain": [
       "['1', '5', '3', ',', '9', '2', '0', ',', '5', '2', '9']"
      ]
     },
     "execution_count": 136,
     "metadata": {},
     "output_type": "execute_result"
    }
   ],
   "source": [
    "li"
   ]
  },
  {
   "cell_type": "code",
   "execution_count": 129,
   "metadata": {},
   "outputs": [],
   "source": [
    "li = ['2', '2', '2', '2']\n",
    "li.insert(3, '1')"
   ]
  },
  {
   "cell_type": "code",
   "execution_count": 130,
   "metadata": {},
   "outputs": [
    {
     "data": {
      "text/plain": [
       "['2', '2', '2', '1', '2']"
      ]
     },
     "execution_count": 130,
     "metadata": {},
     "output_type": "execute_result"
    }
   ],
   "source": [
    "li"
   ]
  },
  {
   "cell_type": "code",
   "execution_count": 142,
   "metadata": {},
   "outputs": [
    {
     "name": "stdout",
     "output_type": "stream",
     "text": [
      "17\n",
      "25 12 18 15 16 17\n"
     ]
    }
   ],
   "source": [
    "import sys\n",
    "input = lambda: sys.stdin.readline().rstrip()\n",
    "\n",
    "while True:\n",
    "    n = int(input())\n",
    "    if n == 0:\n",
    "        break\n",
    "    \n",
    "    start = 1\n",
    "    end = 50\n",
    "    result = []\n",
    "    while start <= end:\n",
    "        mid = (start + end) // 2\n",
    "        result.append(mid)\n",
    "\n",
    "        if mid < n:\n",
    "            start = mid + 1\n",
    "        elif mid > n:\n",
    "            end = mid - 1\n",
    "        else:\n",
    "            break\n",
    "\n",
    "    print(*result)"
   ]
  },
  {
   "cell_type": "code",
   "execution_count": 149,
   "metadata": {},
   "outputs": [
    {
     "name": "stdout",
     "output_type": "stream",
     "text": [
      "1\n",
      "8 100\n",
      "19 28 31 49 51 61 72 81\n",
      "Case #1: 3\n"
     ]
    }
   ],
   "source": [
    "from collections import defaultdict as dd\n",
    "import sys\n",
    "input = lambda: sys.stdin.readline().rstrip()\n",
    "\n",
    "for tm in range(int(input())):\n",
    "    n, m = map(int, input().split())\n",
    "    li = list(map(int, input().split()))\n",
    "\n",
    "    d = dd(int)\n",
    "    for v in li:\n",
    "        d[v] += 1\n",
    "\n",
    "    total = 0\n",
    "    for key in list(d.keys()):\n",
    "        nkey = m - key\n",
    "\n",
    "        if key == nkey:\n",
    "            total += d[key] * (d[key] - 1)\n",
    "        else:\n",
    "            total += d[key] * d[nkey]\n",
    "\n",
    "    total //= 2\n",
    "\n",
    "    r = f'Case #{tm + 1}: {total}'\n",
    "    \n",
    "    print(r)"
   ]
  },
  {
   "cell_type": "code",
   "execution_count": 150,
   "metadata": {},
   "outputs": [
    {
     "name": "stdout",
     "output_type": "stream",
     "text": [
      "3 8\n",
      "5 7 3\n",
      "14\n"
     ]
    }
   ],
   "source": [
    "n, m = map(int, input().split())\n",
    "li = list(map(int, input().split()))\n",
    "\n",
    "start = 1\n",
    "end = 1000000 * 1000000 * 10\n",
    "r = end + 1\n",
    "while start <= end:\n",
    "    mid = (start + end) // 2\n",
    "    \n",
    "    can_make = 0\n",
    "    for v in li:\n",
    "        can_make += mid // v\n",
    "        \n",
    "    if can_make >= m:\n",
    "        r = mid\n",
    "        end = mid - 1\n",
    "    else:\n",
    "        start = mid + 1\n",
    "        \n",
    "print(r)"
   ]
  },
  {
   "cell_type": "code",
   "execution_count": 171,
   "metadata": {},
   "outputs": [
    {
     "name": "stdout",
     "output_type": "stream",
     "text": [
      "11\n"
     ]
    }
   ],
   "source": [
    "from bisect import bisect_left, bisect\n",
    "\n",
    "n, m, k = map(int, input().split())\n",
    "a = sorted(map(int, input().split()))\n",
    "b = sorted(map(int, input().split()))\n",
    "\n",
    "total = 0\n",
    "for av in a:\n",
    "    min_v = av - k\n",
    "    max_v = av + k\n",
    "    \n",
    "    min_p = bisect_left(b, min_v)\n",
    "    max_p = bisect(b, max_v) - 1\n",
    "    \n",
    "    if min_p <= max_p:\n",
    "        total += max_p - min_p + 1\n",
    "    \n",
    "print(total)"
   ]
  },
  {
   "cell_type": "code",
   "execution_count": 156,
   "metadata": {},
   "outputs": [
    {
     "data": {
      "text/plain": [
       "([2, 5, 7, 15], [1, 1, 5, 10, 15])"
      ]
     },
     "execution_count": 156,
     "metadata": {},
     "output_type": "execute_result"
    }
   ],
   "source": [
    "a, b"
   ]
  },
  {
   "cell_type": "code",
   "execution_count": 166,
   "metadata": {},
   "outputs": [
    {
     "data": {
      "text/plain": [
       "5"
      ]
     },
     "execution_count": 166,
     "metadata": {},
     "output_type": "execute_result"
    }
   ],
   "source": [
    "from bisect import bisect\n",
    "\n",
    "bisect([2, 3, 3, 4, 4, 4], 4) - 1"
   ]
  },
  {
   "cell_type": "code",
   "execution_count": 172,
   "metadata": {},
   "outputs": [
    {
     "name": "stdout",
     "output_type": "stream",
     "text": [
      "hey\n",
      "heey\n"
     ]
    }
   ],
   "source": [
    "s = input()\n",
    "\n",
    "r = []\n",
    "for v in s:\n",
    "    if v == 'e':\n",
    "        r.append('e')\n",
    "        r.append('e')\n",
    "    else:\n",
    "        r.append(v)\n",
    "        \n",
    "print(''.join(r))"
   ]
  },
  {
   "cell_type": "code",
   "execution_count": 173,
   "metadata": {},
   "outputs": [
    {
     "data": {
      "text/plain": [
       "'M'"
      ]
     },
     "execution_count": 173,
     "metadata": {},
     "output_type": "execute_result"
    }
   ],
   "source": [
    "chr(65 + 12)"
   ]
  },
  {
   "cell_type": "code",
   "execution_count": 177,
   "metadata": {},
   "outputs": [
    {
     "name": "stdout",
     "output_type": "stream",
     "text": [
      "4 15\n",
      "KEK\n",
      "LMAO\n",
      "LEL\n",
      "LOL\n",
      "1\n"
     ]
    }
   ],
   "source": [
    "import sys\n",
    "input = lambda: sys.stdin.readline().rstrip()\n",
    "\n",
    "n, m = map(int, input().split())\n",
    "li = [input() for _ in range(n)]\n",
    "\n",
    "cri = chr(65 + m - 1)\n",
    "total = 0\n",
    "for v in li:\n",
    "    if len(set(v)) != len(v):\n",
    "        continue\n",
    "    ip = True\n",
    "    for w in v:\n",
    "        if w > cri:\n",
    "            ip = False\n",
    "            break\n",
    "            \n",
    "    if ip:\n",
    "        total += 1\n",
    "        \n",
    "print(total)"
   ]
  },
  {
   "cell_type": "code",
   "execution_count": 178,
   "metadata": {},
   "outputs": [
    {
     "name": "stdout",
     "output_type": "stream",
     "text": [
      "9\n",
      "she sheared a sheep herd and he helped her\n",
      "3\n"
     ]
    }
   ],
   "source": [
    "banned = {'he', 'him', 'she', 'her'}\n",
    "\n",
    "n = int(input())\n",
    "li = input().split()\n",
    "\n",
    "total = 0\n",
    "for v in li:\n",
    "    if v in banned:\n",
    "        total += 1\n",
    "        \n",
    "print(total)"
   ]
  },
  {
   "cell_type": "code",
   "execution_count": null,
   "metadata": {},
   "outputs": [],
   "source": [
    "import sys\n",
    "input = lambda: sys.stdin.readline().rstrip()\n",
    "\n",
    "for tm in range(int(input())):\n",
    "    n, m = map(int, input().split())\n",
    "    names = {input() for _ in range(n)}\n",
    "    li = [input().split() for _ in range(m)]\n",
    "\n",
    "    d = dict()\n",
    "    for name in names:\n",
    "        d[name] = 0\n",
    "\n",
    "    for temp in li:\n",
    "        temp[1] = int(temp[1])\n",
    "        d[temp[0]] += temp[1]\n",
    "\n",
    "    most_num = -1\n",
    "    most_name = ''\n",
    "    most_count = 0\n",
    "    for key in d:\n",
    "        if d[key] > most_num:\n",
    "            most_num = d[key]\n",
    "            most_name = key\n",
    "            most_count = 1\n",
    "        elif d[key] == most_num:\n",
    "            most_count += 1\n",
    "\n",
    "    if most_count >= 2:\n",
    "        r = 'THERE IS A DILEMMA'\n",
    "    else:\n",
    "        r = f'THE WINNER IS {most_name} {most_num}'\n",
    "\n",
    "    print('VOTE', f'{tm + 1}:', r)"
   ]
  },
  {
   "cell_type": "code",
   "execution_count": 179,
   "metadata": {},
   "outputs": [],
   "source": [
    "s = '''Lost Luggage\tL\t120\n",
    "Struck by Stewardess\tS\t150\n",
    "Overbooked and bumped off flight after checking in\tB\t150\n",
    "Not greeted by name\tN\t40\n",
    "Not given seat in class paid for\tC\t160\n",
    "Drinks trolley ran into passenger\tD\t100\n",
    "Stewardess rude\tR\t100\n",
    "No space in overhead locker\tO\t100'''.split('\\n')"
   ]
  },
  {
   "cell_type": "code",
   "execution_count": 184,
   "metadata": {},
   "outputs": [
    {
     "name": "stdout",
     "output_type": "stream",
     "text": [
      "['L', '120']\n",
      "['S', '150']\n",
      "['B', '150']\n",
      "['N', '40']\n",
      "['C', '160']\n",
      "['D', '100']\n",
      "['R', '100']\n",
      "['O', '100']\n",
      "{'L': 120, 'S': 150, 'B': 150, 'N': 40, 'C': 160, 'D': 100, 'R': 100, 'O': 100}\n"
     ]
    }
   ],
   "source": [
    "d = dict()\n",
    "for v in s:\n",
    "    temp = v.split('\\t')[1:]\n",
    "    d[temp[0]] = int(temp[1])\n",
    "    \n",
    "print(d)"
   ]
  },
  {
   "cell_type": "code",
   "execution_count": null,
   "metadata": {},
   "outputs": [],
   "source": [
    "import sys\n",
    "input = lambda: sys.stdin.readline().rstrip()\n",
    "\n",
    "to_num = {'L': 120, 'S': 150, 'B': 150, 'N': 40, 'C': 160, 'D': 100, 'R': 100, 'O': 100}\n",
    "\n",
    "while True:\n",
    "    key = input()\n",
    "    if key == '#':\n",
    "        break\n",
    "    \n",
    "    sv = 0\n",
    "    d = dict()\n",
    "    while True:\n",
    "        temp = input()\n",
    "        tp = temp[-1]\n",
    "        seat = temp.split()[0]\n",
    "        if seat == '00A':\n",
    "            break\n",
    "            \n",
    "        if tp not in to_num:\n",
    "            continue\n",
    "            \n",
    "        if seat not in d:\n",
    "            d[seat] = to_num[tp]\n",
    "        else:\n",
    "            d[seat] += to_num[tp]\n",
    "            if d[seat] >= 200:\n",
    "                sv += 1\n",
    "                d[seat] -= 200\n",
    "        \n",
    "    print(key, sv)"
   ]
  },
  {
   "cell_type": "code",
   "execution_count": null,
   "metadata": {},
   "outputs": [],
   "source": [
    "import sys\n",
    "input = lambda: sys.stdin.readline().rstrip()\n",
    "\n",
    "n = int(input())\n",
    "li = [list(map(int, input().split())) for _ in range(n)]\n",
    "\n",
    "li = [v[1] for v in li]\n",
    "\n",
    "r = len(set(li))\n",
    "\n",
    "print(r)"
   ]
  },
  {
   "cell_type": "code",
   "execution_count": null,
   "metadata": {},
   "outputs": [],
   "source": [
    "import sys\n",
    "input = lambda: sys.stdin.readline().rstrip()\n",
    "\n",
    "tn = 1\n",
    "while True:\n",
    "    n = int(input())\n",
    "    if n == 0:\n",
    "        break\n",
    "        \n",
    "    st = {input() for _ in range(n)}\n",
    "\n",
    "    print('Week', tn, len(st))\n",
    "    tn += 1"
   ]
  },
  {
   "cell_type": "code",
   "execution_count": null,
   "metadata": {},
   "outputs": [],
   "source": [
    "import sys\n",
    "input = lambda: sys.stdin.readline().rstrip()\n",
    "\n",
    "n = int(input())\n",
    "d = dict()\n",
    "for _ in range(n):\n",
    "    a, b = input().split()\n",
    "    \n",
    "    d[a] = b\n",
    "    \n",
    "r = []\n",
    "for _ in range(int(input())):\n",
    "    temp = input()\n",
    "    \n",
    "    if temp in d:\n",
    "        r.append(d[temp])\n",
    "    else:\n",
    "        r.append(temp)\n",
    "        \n",
    "print(''.join(r))"
   ]
  },
  {
   "cell_type": "code",
   "execution_count": 185,
   "metadata": {},
   "outputs": [
    {
     "name": "stdout",
     "output_type": "stream",
     "text": [
      "3\n",
      "asdf\n",
      "sdf\n",
      "sdf\n",
      "2\n"
     ]
    }
   ],
   "source": [
    "import sys\n",
    "input = lambda: sys.stdin.readline().rstrip()\n",
    "\n",
    "n = int(input())\n",
    "li = [input() for _ in range(n)]\n",
    "\n",
    "st = set()\n",
    "for i in range(n):\n",
    "    li[i] = li[i].replace('-', '').lower()\n",
    "    st.add(li[i])\n",
    "    \n",
    "print(len(st))"
   ]
  },
  {
   "cell_type": "code",
   "execution_count": null,
   "metadata": {},
   "outputs": [],
   "source": [
    "import sys\n",
    "input = lambda: sys.stdin.readline().rstrip()\n",
    "\n",
    "n = int(input())\n",
    "li = [input().split() for _ in range(n)]\n",
    "\n",
    "d = dict()\n",
    "for i in range(n):\n",
    "    alpha = li[i][0]\n",
    "    count = int(li[i][1])\n",
    "    \n",
    "    if alpha not in d:\n",
    "        d[alpha] = count\n",
    "    else:\n",
    "        d[alpha] += count\n",
    "        \n",
    "for key in sorted(d.keys()):\n",
    "    print(key, d[key])"
   ]
  },
  {
   "cell_type": "code",
   "execution_count": null,
   "metadata": {},
   "outputs": [],
   "source": [
    "n = int(input())\n",
    "a = input().split()\n",
    "b = input().split()\n",
    "\n",
    "d = dict()\n",
    "ip = True\n",
    "for i in range(n):\n",
    "    av = a[i]\n",
    "    bv = b[i]\n",
    "    \n",
    "    if av == bv:\n",
    "        ip = False\n",
    "        break\n",
    "    \n",
    "    if av not in d and bv not in d:\n",
    "        d[av] = bv\n",
    "        d[bv] = av\n",
    "    elif av in d and bv in d:\n",
    "        if d[av] != bv:\n",
    "            ip = False\n",
    "            break\n",
    "    else:\n",
    "        ip = False\n",
    "        break\n",
    "        \n",
    "if ip:\n",
    "    print('good')\n",
    "else:\n",
    "    print('bad')"
   ]
  },
  {
   "cell_type": "code",
   "execution_count": null,
   "metadata": {},
   "outputs": [],
   "source": [
    "import sys\n",
    "input = lambda: sys.stdin.readline().rstrip()\n",
    "\n",
    "n = int(input())\n",
    "\n",
    "d = dict()\n",
    "for _ in range(n):\n",
    "    temp = input().split()\n",
    "    \n",
    "    d[temp[0]] = temp[2]\n",
    "    \n",
    "for _ in range(int(input())):\n",
    "    nn = int(input())\n",
    "    li = input().split()\n",
    "    li = [d[v] for v in li]\n",
    "    \n",
    "    print(' '.join(li))"
   ]
  },
  {
   "cell_type": "code",
   "execution_count": 191,
   "metadata": {},
   "outputs": [
    {
     "name": "stdout",
     "output_type": "stream",
     "text": [
      "10 4\n",
      "8 8 8 8 8 8 8 8 2 1\n",
      "8 2 1 8\n"
     ]
    }
   ],
   "source": [
    "from collections import Counter\n",
    "\n",
    "n, m = map(int, input().split())\n",
    "li = list(map(int, input().split()))\n",
    "\n",
    "ct = Counter(li)\n",
    "\n",
    "result = []\n",
    "used = 0\n",
    "while True:\n",
    "    to_dels = []\n",
    "    for key in ct.keys():\n",
    "        used += 1\n",
    "        result.append(key)\n",
    "        \n",
    "        if used == m:\n",
    "            break\n",
    "            \n",
    "        ct[key] -= 1\n",
    "        if ct[key] == 0:\n",
    "            to_dels.append(key)\n",
    "            \n",
    "    for v in to_dels:\n",
    "        del ct[v]\n",
    "        \n",
    "    if used == m:\n",
    "        break\n",
    "        \n",
    "print(*result)"
   ]
  },
  {
   "cell_type": "code",
   "execution_count": 189,
   "metadata": {},
   "outputs": [
    {
     "data": {
      "text/plain": [
       "Counter({1: 2, 2: 1})"
      ]
     },
     "execution_count": 189,
     "metadata": {},
     "output_type": "execute_result"
    }
   ],
   "source": [
    "import sys\n",
    "input = lambda: sys.stdin.readline().rstrip()\n",
    "\n",
    "n = int(input())\n",
    "names = {input() for _ in range(n)}\n",
    "\n",
    "status = 1\n",
    "for _ in range(int(input())):\n",
    "    s = input()\n",
    "    \n",
    "    if s not in names:\n",
    "        print('Unknown', s)\n",
    "    else:\n",
    "        if status:\n",
    "            print('Opened by', s)\n",
    "        else:\n",
    "            print('Closed by', s)\n",
    "            \n",
    "        status ^= 1"
   ]
  },
  {
   "cell_type": "code",
   "execution_count": null,
   "metadata": {},
   "outputs": [],
   "source": [
    "import sys\n",
    "input = lambda: sys.stdin.readline().rstrip()\n",
    "\n",
    "n, m = map(int, input().split())\n",
    "\n",
    "d = dict()\n",
    "for _ in range(n):\n",
    "    word, salary = input().split()\n",
    "    \n",
    "    salary = int(salary)\n",
    "    d[word] = salary\n",
    "    \n",
    "for _ in range(m):\n",
    "    total = 0\n",
    "    while True:\n",
    "        li = input().split()\n",
    "        if li and li[0] == '.':\n",
    "            break\n",
    "        for word in li:\n",
    "            if word in d:\n",
    "                total += d[word]\n",
    "                \n",
    "    print(total)"
   ]
  },
  {
   "cell_type": "code",
   "execution_count": null,
   "metadata": {},
   "outputs": [],
   "source": [
    "import sys\n",
    "input = lambda: sys.stdin.readline().rstrip()\n",
    "\n",
    "while True:\n",
    "    temp = input()\n",
    "    if temp == '0':\n",
    "        break\n",
    "    \n",
    "    max_p, s = temp.split()\n",
    "    max_p = int(max_p)\n",
    "\n",
    "    total = 0\n",
    "    st = set()\n",
    "    leaved = set()\n",
    "    c = 0\n",
    "    for v in s:\n",
    "        if v not in st:\n",
    "            if c == max_p:\n",
    "                if v not in leaved:\n",
    "                    leaved.add(v)\n",
    "                    total += 1\n",
    "            else:\n",
    "                st.add(v)\n",
    "                c += 1\n",
    "        else:\n",
    "            st.discard(v)\n",
    "            c -= 1\n",
    "\n",
    "    if total == 0:\n",
    "        print('All customers tanned successfully.')\n",
    "    else:\n",
    "        print(f'{total} customer(s) walked away.')"
   ]
  },
  {
   "cell_type": "code",
   "execution_count": 193,
   "metadata": {},
   "outputs": [
    {
     "data": {
      "text/plain": [
       "'03'"
      ]
     },
     "execution_count": 193,
     "metadata": {},
     "output_type": "execute_result"
    }
   ],
   "source": [
    "'3'.rjust(2, '0')"
   ]
  },
  {
   "cell_type": "code",
   "execution_count": null,
   "metadata": {},
   "outputs": [],
   "source": [
    "from collections import defaultdict as dd\n",
    "import sys\n",
    "input = lambda: sys.stdin.readline().rstrip()\n",
    "\n",
    "def to_num(s):\n",
    "    s = s[1:]\n",
    "    do, ce = map(int, s.split('.'))\n",
    "    \n",
    "    return do * 100 + ce\n",
    "\n",
    "def to_dol(num):\n",
    "    do = num // 100\n",
    "    ce = num % 100\n",
    "    \n",
    "    s = '$' + str(do) + '.' + str(ce).rjust(2, '0')\n",
    "    return s\n",
    "\n",
    "for tm in range(int(input())):\n",
    "    n, m = map(int, input().split())\n",
    "\n",
    "    qs = dd(int)\n",
    "    saveds = dd(int)\n",
    "    for _ in range(n):\n",
    "        temp = input()\n",
    "        c = 0\n",
    "        for i in range(len(temp)):\n",
    "            if temp[i] == ' ':\n",
    "                c += 1\n",
    "            if c == 3:\n",
    "                break\n",
    "\n",
    "        q, ori, new = temp[:i].split()\n",
    "        q = int(q)\n",
    "        name = temp[i + 1:].lower()\n",
    "\n",
    "        saved = to_num(ori) - to_num(new)\n",
    "        qs[name] += q\n",
    "        saveds[name] = saved\n",
    "\n",
    "    total_saved = 0\n",
    "    for _ in range(m):\n",
    "        temp = input()\n",
    "        for i in range(len(temp)):\n",
    "            if temp[i] == ' ':\n",
    "                break   \n",
    "\n",
    "        amount = int(temp[:i])\n",
    "        name = temp[i + 1:].lower()\n",
    "\n",
    "        can_buy = min(qs[name], amount)\n",
    "        saved = saveds[name] * can_buy\n",
    "        total_saved += saved\n",
    "\n",
    "\n",
    "        qs[name] -= can_buy\n",
    "\n",
    "    print(f'Data Set {tm + 1}:')\n",
    "    print(to_dol(total_saved))\n",
    "    print()"
   ]
  },
  {
   "cell_type": "code",
   "execution_count": 1,
   "metadata": {},
   "outputs": [
    {
     "name": "stdout",
     "output_type": "stream",
     "text": [
      "3\n",
      "You can win this thing\n",
      "12 6\n",
      "May be too optimistic\n",
      "10 8\n",
      "Just try to have fun\n",
      "11 5\n"
     ]
    }
   ],
   "source": [
    "vowels = ['a', 'e', 'i', 'o', 'u']\n",
    "\n",
    "for _ in range(int(input())):\n",
    "    s = input().lower()\n",
    "    \n",
    "    cc = 0\n",
    "    cv = 0\n",
    "    for value in s:\n",
    "        if value in vowels:\n",
    "            cv += 1\n",
    "        elif value.isalpha():\n",
    "            cc += 1\n",
    "            \n",
    "    print(cc, cv)"
   ]
  },
  {
   "cell_type": "code",
   "execution_count": 5,
   "metadata": {},
   "outputs": [
    {
     "data": {
      "text/plain": [
       "['AE', 'I', 'O', 'U']"
      ]
     },
     "execution_count": 5,
     "metadata": {},
     "output_type": "execute_result"
    }
   ],
   "source": [
    "a = ['A' 'E', 'I', 'O', 'U']\n",
    "a"
   ]
  },
  {
   "cell_type": "code",
   "execution_count": 6,
   "metadata": {},
   "outputs": [],
   "source": [
    "a = ['A' 'E' 'G']"
   ]
  },
  {
   "cell_type": "code",
   "execution_count": 3,
   "metadata": {},
   "outputs": [
    {
     "data": {
      "text/plain": [
       "5"
      ]
     },
     "execution_count": 3,
     "metadata": {},
     "output_type": "execute_result"
    }
   ],
   "source": [
    "(2+10+7+1) // 4"
   ]
  },
  {
   "cell_type": "code",
   "execution_count": 4,
   "metadata": {},
   "outputs": [
    {
     "name": "stdout",
     "output_type": "stream",
     "text": [
      "4\n",
      "2\n",
      "10\n",
      "7\n",
      "1\n",
      "7\n"
     ]
    }
   ],
   "source": [
    "import sys\n",
    "input = lambda: sys.stdin.readline().rstrip()\n",
    "\n",
    "n = int(input())\n",
    "li = [int(input()) for _ in range(n)]\n",
    "\n",
    "avg = sum(li) // n\n",
    "total = 0\n",
    "for v in li:\n",
    "    total += abs(v - avg)\n",
    "    \n",
    "print(total // 2)"
   ]
  },
  {
   "cell_type": "code",
   "execution_count": 5,
   "metadata": {},
   "outputs": [
    {
     "name": "stdout",
     "output_type": "stream",
     "text": [
      "1 6\n",
      "6\n"
     ]
    }
   ],
   "source": [
    "a, b = map(int, input().split())\n",
    "\n",
    "r = 0\n",
    "for e in range(1, 63):\n",
    "    if e <= a:\n",
    "        continue\n",
    "    \n",
    "    if int(str(2 ** e)[0]) == b:\n",
    "        r = e\n",
    "        break\n",
    "        \n",
    "print(r)"
   ]
  },
  {
   "cell_type": "code",
   "execution_count": 17,
   "metadata": {},
   "outputs": [
    {
     "name": "stdout",
     "output_type": "stream",
     "text": [
      "1+0=0\n",
      "False\n"
     ]
    }
   ],
   "source": [
    "import sys\n",
    "input = lambda: sys.stdin.readline().rstrip()\n",
    "\n",
    "while True:\n",
    "    s = input()\n",
    "    if s == '0+0=0':\n",
    "        print('True')\n",
    "        break\n",
    "\n",
    "    s = s[::-1]\n",
    "    li = s.split('=')\n",
    "\n",
    "    left = int(li[0])\n",
    "    right = list(map(int, li[1].split('+')))\n",
    "\n",
    "    if left == sum(right):\n",
    "        print('True')\n",
    "    else:\n",
    "        print('False')"
   ]
  },
  {
   "cell_type": "code",
   "execution_count": 24,
   "metadata": {},
   "outputs": [
    {
     "name": "stdout",
     "output_type": "stream",
     "text": [
      "10 3\n",
      "2 4 1\n",
      "6 1 5\n",
      "3 3 3\n",
      "6\n",
      "7\n",
      "7\n"
     ]
    }
   ],
   "source": [
    "import sys\n",
    "input = lambda: sys.stdin.readline().rstrip()\n",
    "\n",
    "n, k = map(int, input().split())\n",
    "li = [list(map(int, input().split())) for _ in range(k)]\n",
    "\n",
    "for s, t, r in li:\n",
    "    nn = n\n",
    "    \n",
    "    temp = nn // (s * t)\n",
    "    if nn % (s * t) == 0:\n",
    "        temp -= 1\n",
    "    \n",
    "    total = temp * (t + r)\n",
    "    nn -= temp * (s * t)\n",
    "    \n",
    "    temp = nn // s\n",
    "    if nn % s:\n",
    "        temp += 1\n",
    "        \n",
    "    total += temp\n",
    "    \n",
    "    print(total)"
   ]
  },
  {
   "cell_type": "code",
   "execution_count": 39,
   "metadata": {},
   "outputs": [
    {
     "name": "stdout",
     "output_type": "stream",
     "text": [
      "1\n",
      "305 794\n",
      "1\n"
     ]
    }
   ],
   "source": [
    "import sys\n",
    "# input = lambda: sys.stdin.readline().rstrip()\n",
    "\n",
    "for _ in range(int(input())):\n",
    "    a, b = input().split()\n",
    "\n",
    "    a = a[::-1]\n",
    "    b = b[::-1]\n",
    "    \n",
    "    a0 = 0\n",
    "    for i in range(len(a)):\n",
    "        if a[i] == '0':\n",
    "            a0 += 1\n",
    "        else:\n",
    "            break\n",
    "            \n",
    "    b0 = 0\n",
    "    for i in range(len(b)):\n",
    "        if b[i] == '0':\n",
    "            b0 += 1\n",
    "        else:\n",
    "            break\n",
    "            \n",
    "    left_0c = max(a0, b0)\n",
    "            \n",
    "    r = str(int(a) + int(b))[::-1]\n",
    "    r = r.lstrip('0')\n",
    "    r += '0' * left_0c\n",
    "\n",
    "    print(r)"
   ]
  },
  {
   "cell_type": "code",
   "execution_count": 40,
   "metadata": {},
   "outputs": [
    {
     "name": "stdout",
     "output_type": "stream",
     "text": [
      "SHINS\n",
      "YES\n"
     ]
    }
   ],
   "source": [
    "st = {'I', 'O', 'S', 'H', 'Z', 'X', 'N'}\n",
    "\n",
    "s = input()\n",
    "\n",
    "ip = True\n",
    "for v in s:\n",
    "    if v not in st:\n",
    "        ip = False\n",
    "        break\n",
    "        \n",
    "if ip:\n",
    "    print('YES')\n",
    "else:\n",
    "    print('NO')"
   ]
  },
  {
   "cell_type": "code",
   "execution_count": 42,
   "metadata": {},
   "outputs": [
    {
     "name": "stdout",
     "output_type": "stream",
     "text": [
      "5\n",
      "1 2 4 8 16\n",
      "no\n"
     ]
    }
   ],
   "source": [
    "def check():\n",
    "    for i in range(n):\n",
    "        for j in range(n):\n",
    "            for k in range(n):\n",
    "                if i == k or i == k or j == k:\n",
    "                    continue\n",
    "\n",
    "                if (li[i] - li[j]) % li[k] != 0:\n",
    "                    return False\n",
    "    return True\n",
    "\n",
    "n = int(input())\n",
    "li = list(map(int, input().split()))\n",
    "\n",
    "if check():\n",
    "    print('yes')\n",
    "else:\n",
    "    print('no')"
   ]
  },
  {
   "cell_type": "code",
   "execution_count": 43,
   "metadata": {},
   "outputs": [
    {
     "data": {
      "text/plain": [
       "420"
      ]
     },
     "execution_count": 43,
     "metadata": {},
     "output_type": "execute_result"
    }
   ],
   "source": [
    "n, m = map(int, input().split())\n",
    "a = list(map(int, input().split()))\n",
    "b = list(map(int, input().split()))\n",
    "\n",
    "r = sum(a) + sum(b)\n",
    "\n",
    "print(r)"
   ]
  },
  {
   "cell_type": "code",
   "execution_count": 6,
   "metadata": {},
   "outputs": [
    {
     "name": "stdout",
     "output_type": "stream",
     "text": [
      "22 44 88\n",
      "85184\n"
     ]
    }
   ],
   "source": [
    "a, b, c = map(int, input().split())\n",
    "\n",
    "if a % 2 == 1 or b % 2 == 1 or c % 2 == 1:\n",
    "    temp = 1\n",
    "    if a % 2 == 1:\n",
    "        temp *= a\n",
    "    if b % 2 == 1:\n",
    "        temp *= b\n",
    "    if c % 2 == 1:\n",
    "        temp *= c\n",
    "else:\n",
    "    temp = a * b * c\n",
    "    \n",
    "print(temp)"
   ]
  },
  {
   "cell_type": "code",
   "execution_count": 8,
   "metadata": {},
   "outputs": [
    {
     "name": "stdout",
     "output_type": "stream",
     "text": [
      "1 2 3\n",
      "2700\n"
     ]
    }
   ],
   "source": [
    "li = list(map(int, input().split()))\n",
    "\n",
    "cts = [0, 0, 0]\n",
    "for v in li:\n",
    "    cts[v - 1] += 1\n",
    "\n",
    "cur = 5000\n",
    "values = [500, 800, 1000]\n",
    "for i in range(3):\n",
    "    cur -= cts[i] * values[i]\n",
    "\n",
    "print(cur)"
   ]
  },
  {
   "cell_type": "code",
   "execution_count": 9,
   "metadata": {},
   "outputs": [
    {
     "name": "stdout",
     "output_type": "stream",
     "text": [
      "1\n",
      "1047\n",
      "1047 4\n"
     ]
    }
   ],
   "source": [
    "def get_divisors_c(num):\n",
    "    divisors = set()\n",
    "    for mod in range(1, int(num ** 0.5) + 1):\n",
    "        if num % mod == 0:\n",
    "            divisors.add(mod)\n",
    "            divisors.add(num // mod)\n",
    "            \n",
    "    return len(divisors)\n",
    "\n",
    "for _ in range(int(input())):\n",
    "    n = int(input())\n",
    "    \n",
    "    print(n, get_divisors_c(n))"
   ]
  },
  {
   "cell_type": "code",
   "execution_count": null,
   "metadata": {},
   "outputs": [],
   "source": [
    "2 4 6\n",
    " 3  6\n",
    "\n",
    "    \n",
    "10"
   ]
  },
  {
   "cell_type": "code",
   "execution_count": 10,
   "metadata": {},
   "outputs": [
    {
     "name": "stdout",
     "output_type": "stream",
     "text": [
      "4\n",
      "0\n",
      "1\n",
      "0\n",
      "1\n"
     ]
    }
   ],
   "source": [
    "n = int(input())\n",
    "m = int(input())\n",
    "\n",
    "if n >= 6:\n",
    "    print('Love is open door')\n",
    "else:\n",
    "    cur = m ^ 1\n",
    "    for _ in range(n - 1):\n",
    "        print(cur)\n",
    "        \n",
    "        cur ^= 1"
   ]
  },
  {
   "cell_type": "code",
   "execution_count": 12,
   "metadata": {},
   "outputs": [
    {
     "data": {
      "text/plain": [
       "267.82758492218437"
      ]
     },
     "execution_count": 12,
     "metadata": {},
     "output_type": "execute_result"
    }
   ],
   "source": [
    "P = 21\n",
    "9.23076 * (26.7 - P) ** 1.935"
   ]
  },
  {
   "cell_type": "code",
   "execution_count": 13,
   "metadata": {},
   "outputs": [
    {
     "name": "stdout",
     "output_type": "stream",
     "text": [
      "1\n",
      "23 - 1 = 22\n",
      "Case 1: YES\n"
     ]
    }
   ],
   "source": [
    "import sys\n",
    "# input = lambda: sys.stdin.readline().rstrip()\n",
    "\n",
    "for tn in range(int(input())):\n",
    "    s = input()\n",
    "\n",
    "    s = s.replace('=', '==')\n",
    "\n",
    "    r = 'NO'\n",
    "    if eval(s):\n",
    "        r = 'YES'\n",
    "\n",
    "    print(f'Case {tn + 1}: {r}')"
   ]
  },
  {
   "cell_type": "code",
   "execution_count": 14,
   "metadata": {},
   "outputs": [
    {
     "name": "stdout",
     "output_type": "stream",
     "text": [
      "20\n",
      "1 2 3 4 5 6 7 8 9 10 11 12 13 14 15 16 17 18 19 20\n",
      "190\n"
     ]
    }
   ],
   "source": [
    "n = int(input())\n",
    "li = sorted(map(int, input().split()))\n",
    "\n",
    "li.pop()\n",
    "\n",
    "print(sum(li))"
   ]
  },
  {
   "cell_type": "code",
   "execution_count": 17,
   "metadata": {},
   "outputs": [
    {
     "name": "stdout",
     "output_type": "stream",
     "text": [
      "1\n",
      "10000\n",
      "1\n",
      "1\n",
      "10000\n"
     ]
    }
   ],
   "source": [
    "l = int(input())\n",
    "d = int(input())\n",
    "x = int(input())\n",
    "\n",
    "r1 = 0\n",
    "for num in range(l, d + 1):\n",
    "    snum = str(num)\n",
    "    temp = list(map(int, snum))\n",
    "    \n",
    "    if sum(temp) == x:\n",
    "        r1 = num\n",
    "        break\n",
    "        \n",
    "r2 = 0\n",
    "for num in range(d, l - 1, -1):\n",
    "    snum = str(num)\n",
    "    temp = list(map(int, snum))\n",
    "    \n",
    "    if sum(temp) == x:\n",
    "        r2 = num\n",
    "        break\n",
    "        \n",
    "print(r1)\n",
    "print(r2)"
   ]
  },
  {
   "cell_type": "code",
   "execution_count": 19,
   "metadata": {},
   "outputs": [
    {
     "name": "stdout",
     "output_type": "stream",
     "text": [
      "5 4\n",
      "NO\n"
     ]
    }
   ],
   "source": [
    "n, m = map(int, input().split())\n",
    "\n",
    "if n % 3 == 0 or m % 3 == 0:\n",
    "    print('YES')\n",
    "else:\n",
    "    print('NO')"
   ]
  },
  {
   "cell_type": "code",
   "execution_count": 23,
   "metadata": {},
   "outputs": [
    {
     "name": "stdout",
     "output_type": "stream",
     "text": [
      "2\n",
      "7\n",
      "Case 1:\n",
      "(1,6)\n",
      "(2,5)\n",
      "(3,4)\n",
      "5\n",
      "Case 2:\n",
      "(1,4)\n",
      "(2,3)\n"
     ]
    }
   ],
   "source": [
    "import sys\n",
    "input = lambda: sys.stdin.readline().rstrip()\n",
    "\n",
    "for tn in range(int(input())):\n",
    "    n = int(input())\n",
    "\n",
    "    print(f'Case {tn + 1}:')\n",
    "    for i in range(1, 7):\n",
    "        for j in range(i, 7):\n",
    "            if i + j == n:\n",
    "                print(f'({i},{j})')"
   ]
  },
  {
   "cell_type": "code",
   "execution_count": 25,
   "metadata": {},
   "outputs": [
    {
     "name": "stdout",
     "output_type": "stream",
     "text": [
      "100 20\n",
      "3800\n"
     ]
    }
   ],
   "source": [
    "import sys\n",
    "input = lambda: sys.stdin.readline().rstrip()\n",
    "\n",
    "while True:\n",
    "    c, d = map(int, input().split())\n",
    "    if c == 0 and d == 0:\n",
    "        break\n",
    "\n",
    "    r1 = 30 * c + 40 * d\n",
    "    r2 = 35 * c + 30 * d\n",
    "    r3 = 40 * c + 20 * d\n",
    "\n",
    "    r = min(r1, r2, r3)\n",
    "    print(r)"
   ]
  },
  {
   "cell_type": "code",
   "execution_count": null,
   "metadata": {},
   "outputs": [],
   "source": [
    "1 2 3 4 5\n",
    "1 3 5 7 \n",
    "1 4 7"
   ]
  },
  {
   "cell_type": "code",
   "execution_count": 27,
   "metadata": {},
   "outputs": [
    {
     "name": "stdout",
     "output_type": "stream",
     "text": [
      "3 4\n",
      "15\n"
     ]
    }
   ],
   "source": [
    "a, b = map(int, input().split())\n",
    "\n",
    "n = b + 1\n",
    "start = 1\n",
    "d = a - 2\n",
    "\n",
    "r = n * (2 * start + (n - 1) * d) // 2\n",
    "\n",
    "print(r)"
   ]
  },
  {
   "cell_type": "code",
   "execution_count": 30,
   "metadata": {},
   "outputs": [
    {
     "name": "stdout",
     "output_type": "stream",
     "text": [
      "3\n",
      "C\n",
      "A\n",
      "Z\n",
      "4\n"
     ]
    }
   ],
   "source": [
    "n = int(input())\n",
    "li = [input() for _ in range(n)]\n",
    "\n",
    "fv = ''\n",
    "nli = []\n",
    "for v in li:\n",
    "    if v == fv:\n",
    "        continue\n",
    "    else:\n",
    "        nli.append(v)\n",
    "        fv = v\n",
    "        \n",
    "r = len(nli) + 1\n",
    "\n",
    "print(r)"
   ]
  },
  {
   "cell_type": "code",
   "execution_count": 32,
   "metadata": {},
   "outputs": [
    {
     "name": "stdout",
     "output_type": "stream",
     "text": [
      "CTCC\n",
      "CCCT\n"
     ]
    }
   ],
   "source": [
    "from collections import deque\n",
    "import sys\n",
    "input = lambda: sys.stdin.readline().rstrip()\n",
    "\n",
    "for _ in range(int(input())):\n",
    "    deq = deque(input())\n",
    "\n",
    "    min_r = ''.join(deq)\n",
    "    for _ in range(len(deq) - 1):\n",
    "        deq.rotate()\n",
    "        min_r = min(min_r, ''.join(deq))\n",
    "\n",
    "    print(min_r)"
   ]
  },
  {
   "cell_type": "code",
   "execution_count": 33,
   "metadata": {},
   "outputs": [
    {
     "name": "stdout",
     "output_type": "stream",
     "text": [
      "ABABA\n",
      "0\n"
     ]
    }
   ],
   "source": [
    "s = input()\n",
    "n = len(s)\n",
    "\n",
    "total = 0\n",
    "for i in range(n // 2):\n",
    "    if s[i] != s[n - 1 - i]:\n",
    "        total += 1\n",
    "        \n",
    "print(total)"
   ]
  },
  {
   "cell_type": "code",
   "execution_count": 39,
   "metadata": {
    "scrolled": true
   },
   "outputs": [
    {
     "name": "stdout",
     "output_type": "stream",
     "text": [
      "2\n",
      "2\n",
      "A\n",
      "B\n",
      "Case #1: A\n",
      "2\n",
      "B\n",
      "A\n",
      "Case #2: A\n"
     ]
    }
   ],
   "source": [
    "import sys\n",
    "input = lambda: sys.stdin.readline().rstrip()\n",
    "\n",
    "for tm in range(int(input())):\n",
    "    n = int(input())\n",
    "    li = [input() for _ in range(n)]\n",
    "\n",
    "    li.sort(key=lambda x: (-len(set(x)), ''.join(x)))\n",
    "\n",
    "    print(f'Case #{tm + 1}: {li[0]}')"
   ]
  },
  {
   "cell_type": "code",
   "execution_count": 41,
   "metadata": {},
   "outputs": [
    {
     "name": "stdout",
     "output_type": "stream",
     "text": [
      "This is a piece of sample text for the New Zealand Programming Contest 2017. Plot a graph to show its letter frequency.\n",
      "A | *******\n",
      "B | \n",
      "C | ***\n",
      "D | *\n",
      "E | ************\n",
      "F | ***\n",
      "G | ***\n",
      "H | ****\n",
      "I | *****\n",
      "J | \n",
      "K | \n",
      "L | ****\n",
      "M | ***\n",
      "N | *****\n",
      "O | *******\n",
      "P | *****\n",
      "Q | *\n",
      "R | ******\n",
      "S | ******\n",
      "T | ***********\n",
      "U | *\n",
      "V | \n",
      "W | **\n",
      "X | *\n",
      "Y | *\n",
      "Z | *\n"
     ]
    }
   ],
   "source": [
    "from collections import defaultdict as dd\n",
    "\n",
    "alphas = [chr(65 + i) for i in range(26)]\n",
    "\n",
    "s = input().upper()\n",
    "\n",
    "ct = dd(int)\n",
    "for v in s:\n",
    "    ct[v] += 1\n",
    "\n",
    "for v in alphas:\n",
    "    print(v, '|', '*' * ct[v])"
   ]
  },
  {
   "cell_type": "code",
   "execution_count": 43,
   "metadata": {},
   "outputs": [
    {
     "name": "stdout",
     "output_type": "stream",
     "text": [
      "4 4\n",
      "#..#\n",
      "..X.\n",
      "..X.\n",
      "#XX#\n",
      "1\n",
      "1\n",
      "2\n",
      "1\n",
      "0\n"
     ]
    }
   ],
   "source": [
    "n, m = map(int, input().split())\n",
    "li = [input() for _ in range(n)]\n",
    "\n",
    "r = [0] * 5\n",
    "for i in range(n - 1):\n",
    "    for j in range(m - 1):\n",
    "        temp = [li[i][j], li[i + 1][j], li[i][j + 1], li[i + 1][j + 1]]\n",
    "        if '#' in temp:\n",
    "            continue\n",
    "        r[temp.count('X')] += 1\n",
    "        \n",
    "for v in r:\n",
    "    print(v)"
   ]
  },
  {
   "cell_type": "code",
   "execution_count": 46,
   "metadata": {},
   "outputs": [
    {
     "name": "stdout",
     "output_type": "stream",
     "text": [
      "21\n",
      "1 2 3 4 5 7\n",
      "1\n"
     ]
    }
   ],
   "source": [
    "import sys\n",
    "input = lambda: sys.stdin.readline().rstrip()\n",
    "\n",
    "for _ in range(int(input())):\n",
    "    n = int(input())\n",
    "    li = list(map(int, input().split()))\n",
    "\n",
    "    sv = sum(li)\n",
    "\n",
    "    day = 1\n",
    "    while True:\n",
    "        if n < sv:\n",
    "            break\n",
    "        sv *= 4\n",
    "        day += 1\n",
    "\n",
    "    print(day)"
   ]
  },
  {
   "cell_type": "code",
   "execution_count": 58,
   "metadata": {},
   "outputs": [
    {
     "name": "stdout",
     "output_type": "stream",
     "text": [
      "6174\n",
      "0\n"
     ]
    }
   ],
   "source": [
    "import sys\n",
    "input = lambda: sys.stdin.readline().rstrip()\n",
    "\n",
    "for _ in range(int(input())):\n",
    "    n = int(input())\n",
    "\n",
    "    c = 0\n",
    "    while n != 6174:\n",
    "        c += 1\n",
    "\n",
    "        sn = str(n).rjust(4, '0')\n",
    "        li = list(map(int, sn))\n",
    "\n",
    "        a = sorted(li)\n",
    "        b = sorted(li, reverse=True)\n",
    "\n",
    "        aa = int(''.join(map(str, a)))\n",
    "        bb = int(''.join(map(str, b)))\n",
    "\n",
    "        n = bb - aa\n",
    "\n",
    "    print(c)"
   ]
  },
  {
   "cell_type": "code",
   "execution_count": 61,
   "metadata": {},
   "outputs": [
    {
     "data": {
      "text/plain": [
       "[['A', 'B', 'C', 'D'],\n",
       " ['E', 'F', 'G', 'H'],\n",
       " ['I', 'J', 'K', 'L'],\n",
       " ['M', 'N', 'O', '.']]"
      ]
     },
     "execution_count": 61,
     "metadata": {},
     "output_type": "execute_result"
    }
   ],
   "source": [
    "s = '''A\tB\tC\tD\n",
    "E\tF\tG\tH\n",
    "I\tJ\tK\tL\n",
    "M\tN\tO\t.'''\n",
    "\n",
    "li = []\n",
    "for v in s.split('\\n'):\n",
    "    li.append(v.split())\n",
    "    \n",
    "li"
   ]
  },
  {
   "cell_type": "code",
   "execution_count": 62,
   "metadata": {},
   "outputs": [
    {
     "data": {
      "text/plain": [
       "{'A': (0, 0),\n",
       " 'B': (0, 1),\n",
       " 'C': (0, 2),\n",
       " 'D': (0, 3),\n",
       " 'E': (1, 0),\n",
       " 'F': (1, 1),\n",
       " 'G': (1, 2),\n",
       " 'H': (1, 3),\n",
       " 'I': (2, 0),\n",
       " 'J': (2, 1),\n",
       " 'K': (2, 2),\n",
       " 'L': (2, 3),\n",
       " 'M': (3, 0),\n",
       " 'N': (3, 1),\n",
       " 'O': (3, 2),\n",
       " '.': (3, 3)}"
      ]
     },
     "execution_count": 62,
     "metadata": {},
     "output_type": "execute_result"
    }
   ],
   "source": [
    "d = dict()\n",
    "for i in range(4):\n",
    "    for j in range(4):\n",
    "        d[li[i][j]] = (i, j)\n",
    "        \n",
    "d"
   ]
  },
  {
   "cell_type": "code",
   "execution_count": 71,
   "metadata": {},
   "outputs": [
    {
     "name": "stdout",
     "output_type": "stream",
     "text": [
      "6\n"
     ]
    }
   ],
   "source": [
    "d = {'A': (0, 0),\n",
    " 'B': (0, 1),\n",
    " 'C': (0, 2),\n",
    " 'D': (0, 3),\n",
    " 'E': (1, 0),\n",
    " 'F': (1, 1),\n",
    " 'G': (1, 2),\n",
    " 'H': (1, 3),\n",
    " 'I': (2, 0),\n",
    " 'J': (2, 1),\n",
    " 'K': (2, 2),\n",
    " 'L': (2, 3),\n",
    " 'M': (3, 0),\n",
    " 'N': (3, 1),\n",
    " 'O': (3, 2),\n",
    " '.': (3, 3)}\n",
    "\n",
    "li = [input() for _ in range(4)]\n",
    "\n",
    "total = 0\n",
    "for i in range(4):\n",
    "    for j in range(4):\n",
    "        if li[i][j] == '.':\n",
    "            continue\n",
    "        \n",
    "        sx, sy = i, j\n",
    "        tx, ty = d[li[i][j]]\n",
    "        \n",
    "        total += abs(sx - tx) + abs(sy - ty)\n",
    "        \n",
    "print(total)"
   ]
  }
 ],
 "metadata": {
  "kernelspec": {
   "display_name": "Python 3",
   "language": "python",
   "name": "python3"
  },
  "language_info": {
   "codemirror_mode": {
    "name": "ipython",
    "version": 3
   },
   "file_extension": ".py",
   "mimetype": "text/x-python",
   "name": "python",
   "nbconvert_exporter": "python",
   "pygments_lexer": "ipython3",
   "version": "3.7.4"
  }
 },
 "nbformat": 4,
 "nbformat_minor": 4
}
