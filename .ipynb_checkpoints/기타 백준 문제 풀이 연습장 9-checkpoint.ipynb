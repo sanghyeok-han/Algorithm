{
 "cells": [
  {
   "cell_type": "markdown",
   "metadata": {},
   "source": [
    "### 선 긋기 2170"
   ]
  },
  {
   "cell_type": "code",
   "execution_count": null,
   "metadata": {},
   "outputs": [],
   "source": [
    "import sys\n",
    "# input = lambda: sys.stdin.readline().rstrip()\n",
    "\n",
    "n = int(input())\n",
    "li = [list(map(int, input().split())) for _ in range(n)]\n",
    "\n",
    "li.sort()\n",
    "\n",
    "ss = li[0][0]\n",
    "to_minus = 0\n",
    "cur_s = ss\n",
    "cur_e = li[0][1]\n",
    "for s, e in li:\n",
    "    if s <= cur_e:\n",
    "        cur_e = max(cur_e, e)\n",
    "        continue\n",
    "    \n",
    "    to_minus += s - cur_e\n",
    "    cur_e = e\n",
    "    \n",
    "total = cur_e - ss - to_minus\n",
    "\n",
    "print(total)"
   ]
  },
  {
   "cell_type": "markdown",
   "metadata": {},
   "source": [
    "### 팩토리얼 분해 2057"
   ]
  },
  {
   "cell_type": "code",
   "execution_count": 17,
   "metadata": {},
   "outputs": [
    {
     "name": "stdout",
     "output_type": "stream",
     "text": [
      "2\n",
      "YES\n"
     ]
    }
   ],
   "source": [
    "n = int(input())\n",
    "\n",
    "if n == 0:\n",
    "    print('NO')\n",
    "else:\n",
    "    limit = 1000000000000000000\n",
    "    cur = 1\n",
    "    w = 2\n",
    "    li = [1]\n",
    "    while True:\n",
    "        li.append(cur)\n",
    "        cur *= w\n",
    "        w += 1\n",
    "\n",
    "        if cur > limit:\n",
    "            break\n",
    "\n",
    "    for i in range(len(li) - 1, -1, -1):\n",
    "        v = li[i]\n",
    "        \n",
    "        if n >= v:\n",
    "            n -= v\n",
    "\n",
    "    if n == 0:\n",
    "        print('YES')\n",
    "    else:\n",
    "        print('NO')"
   ]
  },
  {
   "cell_type": "markdown",
   "metadata": {},
   "source": [
    "### 국기 인식 3100"
   ]
  },
  {
   "cell_type": "code",
   "execution_count": null,
   "metadata": {},
   "outputs": [],
   "source": [
    "from itertools import product as prod\n",
    "\n",
    "li = [input() for _ in range(6)]\n",
    "\n",
    "min_count = float('inf')\n",
    "for case in prod(*[range(65, 91)] * 3):\n",
    "    a, b, c = map(chr, case)\n",
    "    if a == b or b == c:\n",
    "        continue\n",
    "    \n",
    "    count = 0\n",
    "    for i in range(2):\n",
    "        for j in range(9):\n",
    "            if li[i][j] != a:\n",
    "                count += 1\n",
    "    for i in range(2, 4):\n",
    "        for j in range(9):\n",
    "            if li[i][j] != b:\n",
    "                count += 1\n",
    "    for i in range(4, 6):\n",
    "        for j in range(9):\n",
    "            if li[i][j] != c:\n",
    "                count += 1\n",
    "                \n",
    "    min_count = min(min_count, count)\n",
    "      \n",
    "    count = 0\n",
    "    for j in range(3):\n",
    "        for i in range(6):\n",
    "            if li[i][j] != a:\n",
    "                count += 1\n",
    "    for j in range(3, 6):\n",
    "        for i in range(6):\n",
    "            if li[i][j] != b:\n",
    "                count += 1\n",
    "    for j in range(6, 9):\n",
    "        for i in range(6):\n",
    "            if li[i][j] != c:\n",
    "                count += 1\n",
    "                \n",
    "    min_count = min(min_count, count)\n",
    "\n",
    "print(min_count)"
   ]
  },
  {
   "cell_type": "markdown",
   "metadata": {},
   "source": [
    "### 로봇 조립 18116"
   ]
  },
  {
   "cell_type": "code",
   "execution_count": 3,
   "metadata": {},
   "outputs": [
    {
     "name": "stdout",
     "output_type": "stream",
     "text": [
      "4\n",
      "I 1 2\n",
      "I 3 2\n",
      "Q 1\n",
      "3\n",
      "Q 4\n",
      "1\n"
     ]
    }
   ],
   "source": [
    "import sys\n",
    "input = lambda: sys.stdin.readline().rstrip()\n",
    "\n",
    "## PYRIVAL BOOTSTRAP\n",
    "# https://github.com/cheran-senthil/PyRival/blob/master/pyrival/misc/bootstrap.py\n",
    "# This decorator allows for recursion without actually doing recursion\n",
    "## @bootstrap, yield when getting and returning value in recursive functions, end of functions\n",
    "from types import GeneratorType\n",
    "\n",
    "def bootstrap(f, stack=[]):\n",
    "    def wrappedfunc(*args, **kwargs):\n",
    "        if stack:\n",
    "            return f(*args, **kwargs)\n",
    "        else:\n",
    "            to = f(*args, **kwargs)\n",
    "            while True:\n",
    "                if type(to) is GeneratorType:\n",
    "                    stack.append(to)\n",
    "                    to = next(to)\n",
    "                else:\n",
    "                    stack.pop()\n",
    "                    if not stack:\n",
    "                        break\n",
    "                    to = stack[-1].send(to)\n",
    "            return to\n",
    "    return wrappedfunc\n",
    "\n",
    "@bootstrap\n",
    "def find(v):\n",
    "    if v == parent[v]:\n",
    "        yield v\n",
    "    parent[v] = yield find(parent[v])\n",
    "    yield parent[v]\n",
    "\n",
    "def union(a, b):\n",
    "    if a > b:\n",
    "        a, b = b, a\n",
    "    \n",
    "    parent[b] = a\n",
    "    counts[a] += counts[b] \n",
    "\n",
    "n = int(input())\n",
    "\n",
    "max_num = int(1e6)\n",
    "parent = list(range(max_num + 1))\n",
    "counts = [1] * (max_num + 1)\n",
    "for _ in range(n):\n",
    "    qu = input().split()\n",
    "    \n",
    "    tp = qu[0]\n",
    "    \n",
    "    if tp == 'I':\n",
    "        a, b = int(qu[1]), int(qu[2])\n",
    "        \n",
    "        ra = find(a)\n",
    "        rb = find(b)\n",
    "        \n",
    "        if ra != rb:\n",
    "            union(ra, rb)\n",
    "    else:\n",
    "        a = int(qu[1])\n",
    "        ra = find(a)\n",
    "        \n",
    "        print(counts[ra])"
   ]
  },
  {
   "cell_type": "markdown",
   "metadata": {},
   "source": [
    "### 영어 시험 25288"
   ]
  },
  {
   "cell_type": "code",
   "execution_count": 3,
   "metadata": {},
   "outputs": [
    {
     "name": "stdout",
     "output_type": "stream",
     "text": [
      "2\n",
      "ba\n",
      "baba\n"
     ]
    }
   ],
   "source": [
    "n = int(input())\n",
    "s = input()\n",
    "\n",
    "r = s * n\n",
    "\n",
    "print(r)"
   ]
  },
  {
   "cell_type": "markdown",
   "metadata": {},
   "source": [
    "### 가장 긴 등차 부분 수열 25289"
   ]
  },
  {
   "cell_type": "code",
   "execution_count": 7,
   "metadata": {},
   "outputs": [
    {
     "name": "stdout",
     "output_type": "stream",
     "text": [
      "3\n",
      "1 2 4\n",
      "2\n"
     ]
    }
   ],
   "source": [
    "n = int(input())\n",
    "li = list(map(int, input().split()))\n",
    "\n",
    "if n <= 2:\n",
    "    print(n)\n",
    "else:\n",
    "    r = 2\n",
    "    for term in range(-49, 50):\n",
    "        dp = [0] * 101\n",
    "        for i in range(n):\n",
    "            fv = li[i] - term\n",
    "            if 1 <= fv <= 100:\n",
    "                dp[li[i]] = max(dp[li[i]], dp[fv] + 1)\n",
    "            if dp[li[i]] == 0:\n",
    "                dp[li[i]] = 1\n",
    "                \n",
    "        r = max(r, max(dp))\n",
    "        \n",
    "    print(r)"
   ]
  },
  {
   "cell_type": "markdown",
   "metadata": {},
   "source": [
    "### 서로소의 개수 1750 (다시 풀음)"
   ]
  },
  {
   "cell_type": "code",
   "execution_count": null,
   "metadata": {},
   "outputs": [],
   "source": [
    "차례대로 보면서 자기 자신이 1이면 1 추가,\n",
    "현재 숫자와의 최대공약수가 1이 되는 이전 숫자들은 어떤 조합으로 선택해도 되고\n",
    "1이 안되는 수도 위의 조합과 같이 쓰면 어떤 조합으로 선택해도 됨"
   ]
  },
  {
   "cell_type": "code",
   "execution_count": 39,
   "metadata": {},
   "outputs": [
    {
     "name": "stdout",
     "output_type": "stream",
     "text": [
      "3\n",
      "2\n",
      "3\n",
      "6\n",
      "1\n"
     ]
    }
   ],
   "source": [
    "from math import gcd\n",
    "\n",
    "mod = 10000003\n",
    "n = int(input())\n",
    "li = [int(input()) for _ in range(n)]\n",
    "\n",
    "total = 0\n",
    "for i in range(n):\n",
    "    if li[i] == 1:\n",
    "        total += 1\n",
    "    \n",
    "    c1 = 0\n",
    "    c2 = 0\n",
    "    for j in range(i):\n",
    "        if gcd(li[j], li[i]) == 1:\n",
    "            c1 += 1\n",
    "        else:\n",
    "            c2 += 1\n",
    "    \n",
    "    total += (pow(2, c1, mod) - 1) * pow(2, c2, mod)\n",
    "    \n",
    "    total %= mod\n",
    "    \n",
    "print(total)"
   ]
  },
  {
   "cell_type": "code",
   "execution_count": 40,
   "metadata": {},
   "outputs": [
    {
     "name": "stdout",
     "output_type": "stream",
     "text": [
      "3\n",
      "2\n",
      "3\n",
      "6\n",
      "2\n"
     ]
    }
   ],
   "source": [
    "from math import gcd\n",
    "\n",
    "mod = 10000003\n",
    "\n",
    "n = int(input())\n",
    "li = [int(input()) for _ in range(n)]\n",
    "\n",
    "dp = [[0] * 100001]\n",
    "dp[0][li[0]] = 1\n",
    "for i in range(1, n):\n",
    "    num = li[i]\n",
    "    dp.append(dp[-1].copy())\n",
    "    for fnum in range(1, 100001):\n",
    "        g = gcd(fnum, num)\n",
    "        \n",
    "        dp[i][g] += dp[i - 1][fnum]\n",
    "        dp[i][g] %= mod\n",
    "        \n",
    "    dp[i][num] += 1\n",
    "        \n",
    "r = dp[n - 1][1]\n",
    "\n",
    "print(r)"
   ]
  },
  {
   "cell_type": "code",
   "execution_count": null,
   "metadata": {},
   "outputs": [],
   "source": [
    "3\n",
    "2\n",
    "3\n",
    "6\n",
    "\n",
    "1, 2 차이"
   ]
  },
  {
   "cell_type": "code",
   "execution_count": 63,
   "metadata": {},
   "outputs": [
    {
     "name": "stdout",
     "output_type": "stream",
     "text": [
      "3\n",
      "2\n",
      "6\n",
      "15\n",
      "2\n"
     ]
    }
   ],
   "source": [
    "from math import gcd\n",
    "\n",
    "mod = 10000003\n",
    "\n",
    "n = int(input())\n",
    "li = [int(input()) for _ in range(n)]\n",
    "\n",
    "dp = [[0] * 100001]\n",
    "for i in range(n):\n",
    "    dp.append(dp[-1].copy())\n",
    "    for g in range(1, 100001):\n",
    "        if dp[-2][g]:\n",
    "            ng = gcd(g, li[i])\n",
    "            dp[-1][ng] += dp[-2][g]\n",
    "            dp[-1][ng] %= mod\n",
    "    dp[-1][li[i]] += 1\n",
    "    dp[-1][li[i]] %= mod\n",
    "    \n",
    "print(dp[-1][1])"
   ]
  },
  {
   "cell_type": "markdown",
   "metadata": {},
   "source": [
    "https://www.acmicpc.net/contest/problem/833/1"
   ]
  },
  {
   "cell_type": "code",
   "execution_count": 42,
   "metadata": {},
   "outputs": [
    {
     "name": "stdout",
     "output_type": "stream",
     "text": [
      "250000\n",
      "4\n",
      "20000 5\n",
      "30000 2\n",
      "10000 6\n",
      "5000 8\n",
      "No\n"
     ]
    }
   ],
   "source": [
    "x = int(input())\n",
    "n = int(input())\n",
    "\n",
    "total = 0\n",
    "for _ in range(n):\n",
    "    a, b = map(int, input().split())\n",
    "    \n",
    "    total += a * b\n",
    "    \n",
    "if x == total:\n",
    "    print('Yes')\n",
    "else:\n",
    "    print('No')"
   ]
  },
  {
   "cell_type": "markdown",
   "metadata": {},
   "source": [
    "https://www.acmicpc.net/contest/problem/833/2"
   ]
  },
  {
   "cell_type": "code",
   "execution_count": 43,
   "metadata": {},
   "outputs": [
    {
     "name": "stdout",
     "output_type": "stream",
     "text": [
      "5 2\n",
      "100 76 85 93 98\n",
      "98\n"
     ]
    }
   ],
   "source": [
    "n, k = map(int, input().split())\n",
    "li = sorted(map(int, input().split()), reverse=True)\n",
    "\n",
    "r = li[k - 1]\n",
    "\n",
    "print(r)"
   ]
  },
  {
   "cell_type": "markdown",
   "metadata": {},
   "source": [
    "https://www.acmicpc.net/contest/problem/833/3"
   ]
  },
  {
   "cell_type": "code",
   "execution_count": null,
   "metadata": {},
   "outputs": [],
   "source": [
    "cur = 0\n",
    "for i in range(1, 100):\n",
    "    cur ^= i\n",
    "    \n",
    "    if cur == 0:\n",
    "        print(i)"
   ]
  },
  {
   "cell_type": "code",
   "execution_count": 51,
   "metadata": {},
   "outputs": [],
   "source": [
    "def get_xor_sum(num):\n",
    "    sum_zero = -1\n",
    "    for i in range(num, -1, -1):\n",
    "        if i % 4 == 3:\n",
    "            sum_zero = i\n",
    "            break\n",
    "            \n",
    "    cur = 0\n",
    "    for i in range(sum_zero + 1, num + 1):\n",
    "        cur ^= i\n",
    "        \n",
    "    return cur"
   ]
  },
  {
   "cell_type": "code",
   "execution_count": null,
   "metadata": {},
   "outputs": [],
   "source": [
    "0 1 2 3 4 5 a 7 8 9 b 10 11 12"
   ]
  },
  {
   "cell_type": "code",
   "execution_count": null,
   "metadata": {},
   "outputs": [],
   "source": [
    "b까지 xor한 값 xor (a - 1)까지 xor한 값"
   ]
  },
  {
   "cell_type": "code",
   "execution_count": 57,
   "metadata": {},
   "outputs": [
    {
     "name": "stdout",
     "output_type": "stream",
     "text": [
      "3 5\n",
      "2\n"
     ]
    }
   ],
   "source": [
    "a, b = map(int, input().split())\n",
    "\n",
    "r = get_xor_sum(b) ^ get_xor_sum(a - 1)\n",
    "\n",
    "print(r)"
   ]
  },
  {
   "cell_type": "markdown",
   "metadata": {},
   "source": [
    "https://www.acmicpc.net/contest/problem/833/4"
   ]
  },
  {
   "cell_type": "code",
   "execution_count": null,
   "metadata": {},
   "outputs": [],
   "source": [
    "먼저 마네킹 위치들로부터 bfs해서 각 칸별 마네킹까지의 최소 위치를 구함\n",
    "\n",
    "시루를 bfs하면서 의자 도착까지의 최소 도착 시간을 구함"
   ]
  },
  {
   "cell_type": "code",
   "execution_count": null,
   "metadata": {},
   "outputs": [],
   "source": [
    "from collections import deque\n",
    "import sys\n",
    "input = lambda: sys.stdin.readline().rstrip()\n",
    "\n",
    "dx = [-1, 1, 0, 0]\n",
    "dy = [0, 0, -1, 1]\n",
    "\n",
    "inf = float('inf')\n",
    "\n",
    "n, m, k = map(int, input().split())\n",
    "li = [list(map(int, input().split())) for _ in range(n)]\n",
    "\n",
    "sx = -1\n",
    "sy = -1\n",
    "queue_mas = deque()\n",
    "dfm = [[inf] * m for _ in range(n)] # dist from mas\n",
    "for i in range(n):\n",
    "    for j in range(m):\n",
    "        if li[i][j] == 3:\n",
    "            dfm[i][j] = 0\n",
    "            queue_mas.append((i, j))\n",
    "        elif li[i][j] == 4:\n",
    "            sx = i\n",
    "            sy = j\n",
    "            \n",
    "while queue_mas:\n",
    "    x, y = queue_mas.popleft()\n",
    "    \n",
    "    for d in range(4):\n",
    "        nx = x + dx[d]\n",
    "        ny = y + dy[d]\n",
    "        \n",
    "        if nx < 0 or nx >= n or ny < 0 or ny >= m:\n",
    "            continue\n",
    "        if dfm[x][y] + 1 < dfm[nx][ny]:\n",
    "            dfm[nx][ny] = dfm[x][y] + 1\n",
    "            queue_mas.append((nx, ny))\n",
    "            \n",
    "\n",
    "vt = [[False] * m for _ in range(n)]\n",
    "vt[sx][sy] = True\n",
    "\n",
    "queue = deque()\n",
    "queue.append((sx, sy, 0))\n",
    "r = -1\n",
    "while queue:\n",
    "    x, y, dist = queue.popleft()\n",
    "    \n",
    "    if li[x][y] == 2:\n",
    "        r = dist\n",
    "        break\n",
    "    \n",
    "    for d in range(4):\n",
    "        nx = x + dx[d]\n",
    "        ny = y + dy[d]\n",
    "        \n",
    "        if nx < 0 or nx >= n or ny < 0 or ny >= m:\n",
    "            continue\n",
    "        if li[nx][ny] == 1:\n",
    "            continue\n",
    "        if dfm[nx][ny] <= k:\n",
    "            continue\n",
    "        if not vt[nx][ny]:\n",
    "            vt[nx][ny] = True\n",
    "            queue.append((nx, ny, dist + 1))\n",
    "            \n",
    "print(r)"
   ]
  },
  {
   "cell_type": "markdown",
   "metadata": {},
   "source": [
    "### 마스크가 필요해 19580"
   ]
  },
  {
   "cell_type": "code",
   "execution_count": 3,
   "metadata": {},
   "outputs": [
    {
     "name": "stdout",
     "output_type": "stream",
     "text": [
      "5 1\n",
      "1 2\n",
      "1 3\n",
      "1 4\n",
      "1 5\n",
      "1 6\n",
      "1 5\n",
      "5\n"
     ]
    }
   ],
   "source": [
    "from heapq import heappush, heappop\n",
    "import os\n",
    "import sys\n",
    "from io import BytesIO, IOBase\n",
    " \n",
    "BUFSIZE = 8192\n",
    "\n",
    "class FastIO(IOBase):\n",
    "    newlines = 0\n",
    " \n",
    "    def __init__(self, file):\n",
    "        self._fd = file.fileno()\n",
    "        self.buffer = BytesIO()\n",
    "        self.writable = \"x\" in file.mode or \"r\" not in file.mode\n",
    "        self.write = self.buffer.write if self.writable else None\n",
    " \n",
    "    def read(self):\n",
    "        while True:\n",
    "            b = os.read(self._fd, max(os.fstat(self._fd).st_size, BUFSIZE))\n",
    "            if not b:\n",
    "                break\n",
    "            ptr = self.buffer.tell()\n",
    "            self.buffer.seek(0, 2), self.buffer.write(b), self.buffer.seek(ptr)\n",
    "        self.newlines = 0\n",
    "        return self.buffer.read()\n",
    " \n",
    "    def readline(self):\n",
    "        while self.newlines == 0:\n",
    "            b = os.read(self._fd, max(os.fstat(self._fd).st_size, BUFSIZE))\n",
    "            self.newlines = b.count(b\"\\n\") + (not b)\n",
    "            ptr = self.buffer.tell()\n",
    "            self.buffer.seek(0, 2), self.buffer.write(b), self.buffer.seek(ptr)\n",
    "        self.newlines -= 1\n",
    "        return self.buffer.readline()\n",
    " \n",
    "    def flush(self):\n",
    "        if self.writable:\n",
    "            os.write(self._fd, self.buffer.getvalue())\n",
    "            self.buffer.truncate(0), self.buffer.seek(0)\n",
    " \n",
    " \n",
    "class IOWrapper(IOBase):\n",
    "    def __init__(self, file):\n",
    "        self.buffer = FastIO(file)\n",
    "        self.flush = self.buffer.flush\n",
    "        self.writable = self.buffer.writable\n",
    "        self.write = lambda s: self.buffer.write(s.encode(\"ascii\"))\n",
    "        self.read = lambda: self.buffer.read().decode(\"ascii\")\n",
    "        self.readline = lambda: self.buffer.readline().decode(\"ascii\")\n",
    "\n",
    "# sys.stdin, sys.stdout = IOWrapper(sys.stdin), IOWrapper(sys.stdout)\n",
    "# input = lambda: sys.stdin.readline().rstrip(\"\\r\\n\")\n",
    "\n",
    "n, m = map(int, input().split())\n",
    "li = [list(map(int, input().split())) for _ in range(n)]\n",
    "li.sort(key=lambda x: x[0])\n",
    "\n",
    "price = [list(map(int, input().split())) for _ in range(m)]\n",
    "\n",
    "heap = []\n",
    "total = 0\n",
    "i = 0\n",
    "for p, c in sorted(price, key=lambda x: x[0]):\n",
    "    if i < n:\n",
    "        cur_l = li[i][0]\n",
    "        cur_r = li[i][1]\n",
    "    while i < ncur_l <= p:\n",
    "        cur_l = li[i][0]\n",
    "        cur_r = li[i][1]\n",
    "        if i >= n:\n",
    "            break\n",
    "        heappush(heap, cur_r)\n",
    "        i += 1\n",
    "\n",
    "\n",
    "\n",
    "    for _ in range(len(heap)):\n",
    "        if heap[0] < p:\n",
    "            heappop(heap)\n",
    "        else:\n",
    "            break\n",
    "            \n",
    "    for _ in range(min(c, len(heap))):\n",
    "        heappop(heap)\n",
    "        total += 1\n",
    "            \n",
    "print(total)"
   ]
  }
 ],
 "metadata": {
  "kernelspec": {
   "display_name": "Python 3",
   "language": "python",
   "name": "python3"
  },
  "language_info": {
   "codemirror_mode": {
    "name": "ipython",
    "version": 3
   },
   "file_extension": ".py",
   "mimetype": "text/x-python",
   "name": "python",
   "nbconvert_exporter": "python",
   "pygments_lexer": "ipython3",
   "version": "3.7.4"
  }
 },
 "nbformat": 4,
 "nbformat_minor": 4
}
