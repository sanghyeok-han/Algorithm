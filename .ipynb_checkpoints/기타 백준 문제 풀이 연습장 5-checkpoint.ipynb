{
 "cells": [
  {
   "cell_type": "markdown",
   "metadata": {},
   "source": [
    "### 드래곤 앤 던전 16434"
   ]
  },
  {
   "cell_type": "raw",
   "metadata": {},
   "source": [
    "매개 변수 탐색, 시뮬레이션\n",
    "\n",
    "start = 1\n",
    "end = 1000000 * 1000000 * 123456 + 1000000"
   ]
  },
  {
   "cell_type": "code",
   "execution_count": 3,
   "metadata": {},
   "outputs": [
    {
     "data": {
      "text/plain": [
       "123456000001000000"
      ]
     },
     "execution_count": 3,
     "metadata": {},
     "output_type": "execute_result"
    }
   ],
   "source": [
    "1000000 * 1000000 * 123456 + 1000000"
   ]
  },
  {
   "cell_type": "code",
   "execution_count": null,
   "metadata": {},
   "outputs": [],
   "source": [
    "용사가 때려야 하는 횟수: 몬스터 생명력 // 용사의 공격력 (만약 나머지가 있는 경우 + 1)\n",
    "용사가 맞는 횟수: 용사가 때려야 하는 횟수 - 1\n",
    "용사가 먹는 종합 데미지: 용사가 맞은 횟수 * 몬스터 공격력"
   ]
  },
  {
   "cell_type": "code",
   "execution_count": 7,
   "metadata": {},
   "outputs": [
    {
     "name": "stdout",
     "output_type": "stream",
     "text": [
      "1 1\n",
      "1 1000000 1000000\n",
      "999999000001\n"
     ]
    }
   ],
   "source": [
    "import sys\n",
    "# input = lambda: sys.stdin.readline().rstrip()\n",
    "\n",
    "n, o_atk = map(int, input().split())\n",
    "rooms = [list(map(int, input().split())) for _ in range(n)]\n",
    "\n",
    "start = 1\n",
    "end = 1000000 * 1000000 * 123456 + 1000000\n",
    "result = float('inf')\n",
    "while start <= end:\n",
    "    max_hp = (start + end) // 2\n",
    "    \n",
    "    hp = max_hp\n",
    "    atk = o_atk\n",
    "    is_cleared = True\n",
    "    for t, a, h in rooms:\n",
    "        if t == 1:\n",
    "            count_player_attck = h // atk\n",
    "            if h % atk:\n",
    "                count_player_attck += 1\n",
    "            count_monster_attck = count_player_attck - 1\n",
    "            damaged = count_monster_attck * a\n",
    "            if hp <= damaged:\n",
    "                is_cleared = False\n",
    "                break\n",
    "            else:\n",
    "                hp -= damaged\n",
    "        else:\n",
    "            atk += a\n",
    "            hp = min(max_hp, hp + h)\n",
    "    \n",
    "    if is_cleared:\n",
    "        result = max_hp\n",
    "        end = max_hp - 1\n",
    "    else:\n",
    "        start = max_hp + 1\n",
    "        \n",
    "print(result)"
   ]
  },
  {
   "cell_type": "markdown",
   "metadata": {},
   "source": [
    "### 놀이 공원 1561"
   ]
  },
  {
   "cell_type": "raw",
   "metadata": {},
   "source": [
    "b최소공배수 구함, n을 해당 최소공배수로 나눈 나머지를 구함\n",
    "해당 나머지에서 차례대로 1씩 빼면서 heap에 (끝나는 시간, 기구 번호)를 넣어줌\n",
    "남는 값이 있다면 끝나는 시간을 계속 놀이 시간만큼 추가해주면서 heap에다가 넣음\n",
    "\n",
    "만약 놀이 기구가 하나라면 무조건 그 놀이기구를 타게 됨\n",
    "\n",
    "->\n",
    "\n",
    "현재 끝날 때의 시간을 이분 탐색으로 파악함\n",
    "이분 탐색 돌리면서 각 놀이기구가 몇 번씩 돌아갔는지 파악하며 총합 횟수도 파악함 (이 과정을 한 번에 하며,\n",
    "이 과정에서 마지막 인원이 탄 놀이기구는 현재 해당 놀이기구가 가장 마지막으로 끝날 때의 끝난 시간 - 해당 놀이기구 운행 시간)의 최댓값 중 가장 번호가 작은 놀이기구"
   ]
  },
  {
   "cell_type": "code",
   "execution_count": null,
   "metadata": {},
   "outputs": [],
   "source": [
    "# 시간 초과, 1부터 30까지의 최소공배수가 시간 초과 나는 한도를 많이 넘김\n",
    "from math import gcd\n",
    "from heapq import heappush, heappop\n",
    "\n",
    "# n, m = map(int, input().split())\n",
    "# li = list(map(int, input().split()))\n",
    "\n",
    "n, m = 200000000, 10000\n",
    "li = list(range(1, 31)) + [1] * 9970\n",
    "\n",
    "if m == 1:\n",
    "    print(1)\n",
    "else:\n",
    "    temp = li[0] * li[1] // gcd(li[0], li[1])\n",
    "    for i in range(2, m):\n",
    "        temp = temp * li[i] // gcd(temp, li[i])\n",
    "\n",
    "    lcm = temp\n",
    "    batch = 0\n",
    "    for t in li:\n",
    "        batch += lcm // t\n",
    "\n",
    "    n %= batch\n",
    "    if n == 0:\n",
    "        print(m)\n",
    "    else:\n",
    "        result = 0\n",
    "        heap = []\n",
    "        for i in range(m):\n",
    "            heappush(heap, [li[i], i])\n",
    "            n -= 1\n",
    "            if n == 0:\n",
    "                result = i + 1\n",
    "                break\n",
    "\n",
    "        if not result:\n",
    "            while n:\n",
    "                print(n)\n",
    "                temp = heappop(heap)\n",
    "                temp[0] += li[temp[1]]\n",
    "                heappush(heap, temp)\n",
    "                n -= 1 \n",
    "\n",
    "            result = temp[1] + 1\n",
    "\n",
    "        print(result)"
   ]
  },
  {
   "cell_type": "code",
   "execution_count": 141,
   "metadata": {},
   "outputs": [
    {
     "name": "stdout",
     "output_type": "stream",
     "text": [
      "1 1\n",
      "4\n",
      "1\n"
     ]
    }
   ],
   "source": [
    "# 맞았음\n",
    "n, m = map(int, input().split())\n",
    "li = list(map(int, input().split()))\n",
    "\n",
    "start = 0\n",
    "end = 2000000000 * 30 + 1\n",
    "result = -1\n",
    "while start <= end:\n",
    "    current_time = (start + end) // 2\n",
    "    \n",
    "    people_count = 0\n",
    "    last_used_num = -1\n",
    "    temp = []\n",
    "    for i in range(m):\n",
    "        complete_count = current_time // li[i]\n",
    "        if li[i] * complete_count == current_time: \n",
    "            temp.append(i) # 놀이기구 번호 - 1\n",
    "        people_count += complete_count + 1\n",
    "        \n",
    "    if people_count >= n:\n",
    "        if temp:\n",
    "            if 0 <= len(temp) - (people_count - n + 1) < len(temp):\n",
    "                result = temp[len(temp) - (people_count - n + 1)]\n",
    "        end = current_time - 1\n",
    "    else:\n",
    "        start = current_time + 1\n",
    "        \n",
    "print(result + 1)"
   ]
  },
  {
   "cell_type": "markdown",
   "metadata": {},
   "source": [
    "### 왕복 18311"
   ]
  },
  {
   "cell_type": "code",
   "execution_count": 14,
   "metadata": {},
   "outputs": [
    {
     "name": "stdout",
     "output_type": "stream",
     "text": [
      "4\n"
     ]
    }
   ],
   "source": [
    "n, k = map(int, input().split())\n",
    "li = list(map(int, input().split()))\n",
    "li += li[::-1]\n",
    "\n",
    "current = 0\n",
    "result = 0\n",
    "for i in range(n * 2):\n",
    "    current += li[i]\n",
    "    if k < current:\n",
    "        result = i\n",
    "        break\n",
    "    elif  k == current:\n",
    "        result = i + 1\n",
    "        break\n",
    "\n",
    "if result >= n:\n",
    "    print(n * 2 - result)\n",
    "else:\n",
    "    print(result + 1)"
   ]
  },
  {
   "cell_type": "markdown",
   "metadata": {},
   "source": [
    "### 비밀번호 발음하기 4659"
   ]
  },
  {
   "cell_type": "code",
   "execution_count": 20,
   "metadata": {},
   "outputs": [
    {
     "name": "stdout",
     "output_type": "stream",
     "text": [
      "a\n",
      "<a> is acceptable.\n",
      "tv\n",
      "<tv> is not acceptable.\n",
      "ptoui\n",
      "<ptoui> is not acceptable.\n",
      "bontres\n",
      "<bontres> is not acceptable.\n",
      "zoggax\n",
      "<zoggax> is not acceptable.\n",
      "wiinq\n",
      "<wiinq> is not acceptable.\n",
      "eep\n",
      "<eep> is acceptable.\n",
      "houctuh\n",
      "<houctuh> is acceptable.\n",
      "end\n"
     ]
    }
   ],
   "source": [
    "vowels = {'a', 'e', 'i', 'o', 'u'}\n",
    "\n",
    "while True:\n",
    "    s = input()\n",
    "    if s == 'end':\n",
    "        break\n",
    "\n",
    "    is_acceptable = True\n",
    "    if not (set(s) & vowels):\n",
    "        is_acceptable = False\n",
    "    else:\n",
    "        vowel_stack = []\n",
    "        consonant_stack = []\n",
    "        recent = ''\n",
    "        for v in s:\n",
    "            if recent == v and v != 'e' and v != 'o':\n",
    "                is_acceptable = False\n",
    "                break\n",
    "            recent = v\n",
    "\n",
    "            if v in vowels:\n",
    "                vowel_stack.append(v)\n",
    "                if len(vowel_stack) >= 3:\n",
    "                    is_acceptable = False\n",
    "                    break\n",
    "                consonant_stack = []\n",
    "            else:\n",
    "                consonant_stack.append(v)\n",
    "                if len(consonant_stack) >= 3:\n",
    "                    is_acceptable = False\n",
    "                    break\n",
    "                vowel_stack = []       \n",
    "\n",
    "    to_add = ' ' if is_acceptable else ' not '\n",
    "    print(f'<{s}> is{to_add}acceptable.')"
   ]
  },
  {
   "cell_type": "markdown",
   "metadata": {},
   "source": [
    "### ROT13 4446"
   ]
  },
  {
   "cell_type": "code",
   "execution_count": 30,
   "metadata": {},
   "outputs": [
    {
     "name": "stdout",
     "output_type": "stream",
     "text": [
      "aAaaA\n",
      "eEeeE\n"
     ]
    }
   ],
   "source": [
    "vowels = ('a', 'i', 'y', 'e', 'o', 'u')\n",
    "vowels_lower = ''.join(vowels)\n",
    "vowels_upper = vowels_lower.upper()\n",
    "\n",
    "consonants = ('b', 'k', 'x', 'z', 'n', 'h', 'd', 'c', 'w', 'g', 'p', 'v', 'j', 'q', 't', 's', 'r', 'l', 'm', 'f')\n",
    "consonants_lower = ''.join(consonants)\n",
    "consonants_upper = consonants_lower.upper()\n",
    "\n",
    "while True:\n",
    "    try:\n",
    "        s = input()\n",
    "\n",
    "        result = []\n",
    "        for v in s:\n",
    "            if v.lower() in vowels:\n",
    "                if v.islower():\n",
    "                    result.append(vowels_lower[(vowels_lower.index(v) - 3) % len(vowels_lower)])\n",
    "                else:\n",
    "                    result.append(vowels_upper[(vowels_upper.index(v) - 3) % len(vowels_upper)])\n",
    "            elif v.lower() in consonants:\n",
    "                if v.islower():\n",
    "                    result.append(consonants_lower[(consonants_lower.index(v) - 10) % len(consonants_lower)])\n",
    "                else:\n",
    "                    result.append(consonants_upper[(consonants_upper.index(v) - 10) % len(consonants_upper)])\n",
    "            else:\n",
    "                result.append(v)\n",
    "\n",
    "        print(''.join(result))\n",
    "    except:\n",
    "        break"
   ]
  },
  {
   "cell_type": "markdown",
   "metadata": {},
   "source": [
    "### IF문 좀 대신 써줘 19637"
   ]
  },
  {
   "cell_type": "code",
   "execution_count": 44,
   "metadata": {},
   "outputs": [
    {
     "name": "stdout",
     "output_type": "stream",
     "text": [
      "3 5\n",
      "B 100\n",
      "A 100\n",
      "C 1000\n",
      "99\n",
      "B\n",
      "100\n",
      "B\n",
      "101\n",
      "C\n",
      "500\n",
      "C\n",
      "1000\n",
      "C\n"
     ]
    }
   ],
   "source": [
    "from bisect import bisect_left\n",
    "import sys\n",
    "input = lambda: sys.stdin.readline().rstrip()\n",
    "\n",
    "n, m = map(int, input().split())\n",
    "\n",
    "names = []\n",
    "powers = []\n",
    "for _ in range(n):\n",
    "    name, power = input().split()\n",
    "    names.append(name)\n",
    "    powers.append(int(power))\n",
    "    \n",
    "for _ in range(m):\n",
    "    value = int(input())\n",
    "    print(names[bisect_left(powers, value)])"
   ]
  },
  {
   "cell_type": "markdown",
   "metadata": {},
   "source": [
    "### 상어 초등학교 21608"
   ]
  },
  {
   "cell_type": "code",
   "execution_count": null,
   "metadata": {},
   "outputs": [],
   "source": []
  }
 ],
 "metadata": {
  "kernelspec": {
   "display_name": "Python 3",
   "language": "python",
   "name": "python3"
  },
  "language_info": {
   "codemirror_mode": {
    "name": "ipython",
    "version": 3
   },
   "file_extension": ".py",
   "mimetype": "text/x-python",
   "name": "python",
   "nbconvert_exporter": "python",
   "pygments_lexer": "ipython3",
   "version": "3.7.3"
  }
 },
 "nbformat": 4,
 "nbformat_minor": 4
}
