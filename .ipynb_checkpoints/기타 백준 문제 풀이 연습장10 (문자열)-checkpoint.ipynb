{
 "cells": [
  {
   "cell_type": "markdown",
   "metadata": {},
   "source": [
    "### Contact 1013"
   ]
  },
  {
   "cell_type": "code",
   "execution_count": null,
   "metadata": {},
   "outputs": [],
   "source": [
    "# 틀렸음\n",
    "import re\n",
    "\n",
    "def checker(s):\n",
    "    s = re.sub('100+1+', \" \", s)\n",
    "    s = re.sub('01', \"\", s)\n",
    "    s = re.sub(' ', '', s)\n",
    "\n",
    "    if s:\n",
    "        return 'NO'\n",
    "    else:\n",
    "        return 'YES'\n",
    "\n",
    "T = int(input())\n",
    "for _ in range(T):\n",
    "    s = input()\n",
    "    print(checker(s))"
   ]
  },
  {
   "cell_type": "code",
   "execution_count": 30,
   "metadata": {},
   "outputs": [],
   "source": [
    "s = '10000011111101010110011101'\n",
    "result = re.findall(\"100+1+|01\", s)"
   ]
  },
  {
   "cell_type": "code",
   "execution_count": 34,
   "metadata": {},
   "outputs": [
    {
     "data": {
      "text/plain": [
       "True"
      ]
     },
     "execution_count": 34,
     "metadata": {},
     "output_type": "execute_result"
    }
   ],
   "source": [
    "\"\".join(result)"
   ]
  },
  {
   "cell_type": "code",
   "execution_count": 42,
   "metadata": {},
   "outputs": [
    {
     "data": {
      "text/plain": [
       "'0'"
      ]
     },
     "execution_count": 42,
     "metadata": {},
     "output_type": "execute_result"
    }
   ],
   "source": [
    "s = '011000100110001'\n",
    "s = re.sub('100+1+', \" \", s)\n",
    "s = re.sub('01', \"\", s)\n",
    "s = re.sub(' ', '', s)\n",
    "s"
   ]
  },
  {
   "cell_type": "markdown",
   "metadata": {},
   "source": [
    "### 잠수함식별 2671"
   ]
  },
  {
   "cell_type": "code",
   "execution_count": 53,
   "metadata": {},
   "outputs": [
    {
     "name": "stdout",
     "output_type": "stream",
     "text": [
      "100101100000011111010\n",
      "NOISE\n"
     ]
    }
   ],
   "source": [
    "import re\n",
    "\n",
    "s = input()\n",
    "r = re.findall(\"100+1+|01\", s)\n",
    "r = \"\".join(r)\n",
    "if s and s == r:\n",
    "    print('SUBMARINE')\n",
    "else:\n",
    "    print('NOISE')"
   ]
  },
  {
   "cell_type": "markdown",
   "metadata": {},
   "source": [
    "### Java vs C++ 3613"
   ]
  },
  {
   "cell_type": "code",
   "execution_count": 22,
   "metadata": {},
   "outputs": [
    {
     "name": "stdout",
     "output_type": "stream",
     "text": [
      "asdffef_\n",
      "Error!\n"
     ]
    }
   ],
   "source": [
    "s = input()\n",
    "\n",
    "def check(s):\n",
    "    if s[0].isupper() or s[0] == '_' or s[-1] == '_' or '__' in s:\n",
    "        return 'Error!'\n",
    "    \n",
    "    if '_' in s:\n",
    "        for v in s:\n",
    "            if v.isupper():\n",
    "                return 'Error!'\n",
    "        else:\n",
    "            return 'C++'\n",
    "    else:\n",
    "        return 'Java'\n",
    "\n",
    "s_type = check(s)\n",
    "\n",
    "if s_type == 'Error!':\n",
    "    print(s_type)\n",
    "else:\n",
    "    if s_type == 'C++':\n",
    "        new_li = [s[0]]\n",
    "        for i in range(1, len(s)):\n",
    "            if s[i - 1] == '_':\n",
    "                new_li.append(s[i].upper())\n",
    "            else:\n",
    "                new_li.append(s[i])\n",
    "                \n",
    "        s = \"\".join(new_li)\n",
    "        s = s.replace('_', \"\")\n",
    "\n",
    "    elif s_type == 'Java':\n",
    "        new_li = []\n",
    "        for i in range(len(s)):\n",
    "            if s[i].isupper():\n",
    "                new_li.append(\"_\")\n",
    "                new_li.append(s[i].lower())\n",
    "            else:\n",
    "                new_li.append(s[i])\n",
    "                \n",
    "        s = \"\".join(new_li)\n",
    "        \n",
    "    print(s)"
   ]
  },
  {
   "cell_type": "code",
   "execution_count": 2,
   "metadata": {},
   "outputs": [
    {
     "data": {
      "text/plain": [
       "False"
      ]
     },
     "execution_count": 2,
     "metadata": {},
     "output_type": "execute_result"
    }
   ],
   "source": [
    "\"_\".isupper()"
   ]
  },
  {
   "cell_type": "code",
   "execution_count": 5,
   "metadata": {},
   "outputs": [
    {
     "data": {
      "text/plain": [
       "'A'"
      ]
     },
     "execution_count": 5,
     "metadata": {},
     "output_type": "execute_result"
    }
   ],
   "source": [
    "\"a\".upper()"
   ]
  }
 ],
 "metadata": {
  "kernelspec": {
   "display_name": "Python 3",
   "language": "python",
   "name": "python3"
  },
  "language_info": {
   "codemirror_mode": {
    "name": "ipython",
    "version": 3
   },
   "file_extension": ".py",
   "mimetype": "text/x-python",
   "name": "python",
   "nbconvert_exporter": "python",
   "pygments_lexer": "ipython3",
   "version": "3.7.3"
  }
 },
 "nbformat": 4,
 "nbformat_minor": 4
}
