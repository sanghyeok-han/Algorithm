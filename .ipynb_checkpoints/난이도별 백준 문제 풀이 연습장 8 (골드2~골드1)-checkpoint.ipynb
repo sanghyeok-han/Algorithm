{
 "cells": [
  {
   "cell_type": "markdown",
   "metadata": {},
   "source": [
    "### 1의 개수 세기 9527"
   ]
  },
  {
   "cell_type": "code",
   "execution_count": null,
   "metadata": {},
   "outputs": [],
   "source": [
    "하나만 구할 수 있으면 나머지는 빼서 구할 수 있음"
   ]
  },
  {
   "cell_type": "code",
   "execution_count": 67,
   "metadata": {},
   "outputs": [
    {
     "name": "stdout",
     "output_type": "stream",
     "text": [
      "10000000 20000000000\n",
      "338471819723\n"
     ]
    }
   ],
   "source": [
    "from bisect import bisect\n",
    "\n",
    "d = dict()\n",
    "d[0] = 0\n",
    "cur = 1\n",
    "fcur = 0\n",
    "while cur <= 1e16:\n",
    "    d[cur] = d[fcur] * 2 + cur - fcur\n",
    "    fcur = cur\n",
    "    cur = cur * 2 + 1\n",
    "    \n",
    "cands = list(d.keys())\n",
    "\n",
    "def get_sum(n):\n",
    "    if n in d:\n",
    "        return d[n]\n",
    "    \n",
    "    cri = cands[bisect(cands, n) - 1]\n",
    "    \n",
    "    return d[cri] + n - cri + get_sum(n - cri - 1)\n",
    "\n",
    "a, b = map(int, input().split())\n",
    "\n",
    "print(get_sum(b) - get_sum(a - 1))"
   ]
  },
  {
   "cell_type": "code",
   "execution_count": null,
   "metadata": {},
   "outputs": [],
   "source": []
  },
  {
   "cell_type": "code",
   "execution_count": null,
   "metadata": {},
   "outputs": [],
   "source": [
    "a, b = map(int, input().split())"
   ]
  },
  {
   "cell_type": "code",
   "execution_count": 28,
   "metadata": {},
   "outputs": [
    {
     "data": {
      "text/plain": [
       "193"
      ]
     },
     "execution_count": 28,
     "metadata": {},
     "output_type": "execute_result"
    }
   ],
   "source": [
    "def get_sum(n):\n",
    "    t = 0\n",
    "    for i in range(1, n + 1):\n",
    "        t += bin(i).count('1')\n",
    "    return t\n",
    "\n",
    "get_sum(64)"
   ]
  },
  {
   "cell_type": "code",
   "execution_count": 32,
   "metadata": {},
   "outputs": [],
   "source": [
    "d = dict()\n",
    "d[0] = 0\n",
    "cur = 1\n",
    "fcur = 0\n",
    "while cur <= 1e16:\n",
    "    d[cur] = d[fcur] * 2 + cur - fcur\n",
    "    fcur = cur\n",
    "    cur = cur * 2 + 1"
   ]
  },
  {
   "cell_type": "code",
   "execution_count": 37,
   "metadata": {},
   "outputs": [],
   "source": [
    "cands = list(d.keys())"
   ]
  },
  {
   "cell_type": "code",
   "execution_count": 62,
   "metadata": {},
   "outputs": [
    {
     "data": {
      "text/plain": [
       "1"
      ]
     },
     "execution_count": 62,
     "metadata": {},
     "output_type": "execute_result"
    }
   ],
   "source": [
    "from bisect import bisect\n",
    "\n",
    "li = [1, 2, 3]\n",
    "bisect(li, 2) - 1"
   ]
  },
  {
   "cell_type": "code",
   "execution_count": 52,
   "metadata": {},
   "outputs": [
    {
     "data": {
      "text/plain": [
       "127"
      ]
     },
     "execution_count": 52,
     "metadata": {},
     "output_type": "execute_result"
    }
   ],
   "source": [
    "bisect_left(cands, cands[7] - 2)\n",
    "cands[7]"
   ]
  },
  {
   "cell_type": "code",
   "execution_count": 64,
   "metadata": {},
   "outputs": [
    {
     "data": {
      "text/plain": [
       "193"
      ]
     },
     "execution_count": 64,
     "metadata": {},
     "output_type": "execute_result"
    }
   ],
   "source": [
    "from bisect import bisect\n",
    "\n",
    "def get_sum(n):\n",
    "    if n in d:\n",
    "        return d[n]\n",
    "    \n",
    "    cri = cands[bisect(cands, n) - 1]\n",
    "    \n",
    "    return d[cri] + n - cri + get_sum(n - cri - 1)\n",
    "\n",
    "get_sum(64)"
   ]
  },
  {
   "cell_type": "code",
   "execution_count": 42,
   "metadata": {},
   "outputs": [
    {
     "data": {
      "text/plain": [
       "6"
      ]
     },
     "execution_count": 42,
     "metadata": {},
     "output_type": "execute_result"
    }
   ],
   "source": [
    "bisect_left(cands, 34)"
   ]
  },
  {
   "cell_type": "code",
   "execution_count": 43,
   "metadata": {},
   "outputs": [
    {
     "data": {
      "text/plain": [
       "63"
      ]
     },
     "execution_count": 43,
     "metadata": {},
     "output_type": "execute_result"
    }
   ],
   "source": [
    "cands[bisect_left(cands, 34)]"
   ]
  },
  {
   "cell_type": "code",
   "execution_count": null,
   "metadata": {},
   "outputs": [],
   "source": [
    "1: 1\n",
    "3: 4\n",
    "7: 12\n",
    "15: 32\n",
    "31: 80\n",
    "63: 192\n",
    "64: 193"
   ]
  },
  {
   "cell_type": "code",
   "execution_count": 29,
   "metadata": {},
   "outputs": [
    {
     "data": {
      "text/plain": [
       "193"
      ]
     },
     "execution_count": 29,
     "metadata": {},
     "output_type": "execute_result"
    }
   ],
   "source": [
    "get_sum(63) + 64 - 63 + get_sum(64 - 63 - 1)"
   ]
  },
  {
   "cell_type": "code",
   "execution_count": 27,
   "metadata": {},
   "outputs": [
    {
     "data": {
      "text/plain": [
       "202"
      ]
     },
     "execution_count": 27,
     "metadata": {},
     "output_type": "execute_result"
    }
   ],
   "source": [
    "get_sum(63) + 68 - 63 + get_sum(68 - 63 - 1)"
   ]
  },
  {
   "cell_type": "code",
   "execution_count": null,
   "metadata": {},
   "outputs": [],
   "source": [
    "get_sum(n) = get_sum(n 직전 가능한 수) + n - n 직전 가능한 수 + get_sum(n - n 직전 가능한 수 - 1)"
   ]
  },
  {
   "cell_type": "code",
   "execution_count": 15,
   "metadata": {},
   "outputs": [
    {
     "data": {
      "text/plain": [
       "192"
      ]
     },
     "execution_count": 15,
     "metadata": {},
     "output_type": "execute_result"
    }
   ],
   "source": [
    "80 * 2 + 63 - 31"
   ]
  },
  {
   "cell_type": "code",
   "execution_count": null,
   "metadata": {},
   "outputs": [],
   "source": [
    "get_sum() = get_sum(31) * 2 + cur"
   ]
  },
  {
   "cell_type": "code",
   "execution_count": null,
   "metadata": {},
   "outputs": [],
   "source": []
  },
  {
   "cell_type": "code",
   "execution_count": 38,
   "metadata": {},
   "outputs": [
    {
     "data": {
      "text/plain": [
       "[0,\n",
       " 1,\n",
       " 3,\n",
       " 7,\n",
       " 15,\n",
       " 31,\n",
       " 63,\n",
       " 127,\n",
       " 255,\n",
       " 511,\n",
       " 1023,\n",
       " 2047,\n",
       " 4095,\n",
       " 8191,\n",
       " 16383,\n",
       " 32767,\n",
       " 65535,\n",
       " 131071,\n",
       " 262143,\n",
       " 524287,\n",
       " 1048575,\n",
       " 2097151,\n",
       " 4194303,\n",
       " 8388607,\n",
       " 16777215,\n",
       " 33554431,\n",
       " 67108863,\n",
       " 134217727,\n",
       " 268435455,\n",
       " 536870911,\n",
       " 1073741823,\n",
       " 2147483647,\n",
       " 4294967295,\n",
       " 8589934591,\n",
       " 17179869183,\n",
       " 34359738367,\n",
       " 68719476735,\n",
       " 137438953471,\n",
       " 274877906943,\n",
       " 549755813887,\n",
       " 1099511627775,\n",
       " 2199023255551,\n",
       " 4398046511103,\n",
       " 8796093022207,\n",
       " 17592186044415,\n",
       " 35184372088831,\n",
       " 70368744177663,\n",
       " 140737488355327,\n",
       " 281474976710655,\n",
       " 562949953421311,\n",
       " 1125899906842623,\n",
       " 2251799813685247,\n",
       " 4503599627370495,\n",
       " 9007199254740991]"
      ]
     },
     "execution_count": 38,
     "metadata": {},
     "output_type": "execute_result"
    }
   ],
   "source": [
    "cands"
   ]
  }
 ],
 "metadata": {
  "kernelspec": {
   "display_name": "Python 3",
   "language": "python",
   "name": "python3"
  },
  "language_info": {
   "codemirror_mode": {
    "name": "ipython",
    "version": 3
   },
   "file_extension": ".py",
   "mimetype": "text/x-python",
   "name": "python",
   "nbconvert_exporter": "python",
   "pygments_lexer": "ipython3",
   "version": "3.7.3"
  }
 },
 "nbformat": 4,
 "nbformat_minor": 4
}
