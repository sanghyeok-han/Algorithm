{
 "cells": [
  {
   "cell_type": "code",
   "execution_count": 3,
   "metadata": {},
   "outputs": [],
   "source": [
    "import pickle\n",
    "\n",
    "with open('exp_dict', 'rb') as file:\n",
    "    exp_dict = pickle.load(file)\n",
    "with open('count_dict', 'rb') as file:\n",
    "    count_dict = pickle.load(file)"
   ]
  },
  {
   "cell_type": "code",
   "execution_count": 19,
   "metadata": {},
   "outputs": [
    {
     "name": "stdout",
     "output_type": "stream",
     "text": [
      "387115\n"
     ]
    }
   ],
   "source": [
    "target = 500000\n",
    "\n",
    "solved = {\n",
    " 'Bronze V': 0,\n",
    " 'Bronze IV': 0,\n",
    " 'Bronze III': 0,\n",
    " 'Bronze II': 0,\n",
    " 'Bronze I': 0,\n",
    " 'Silver V': 0,\n",
    " 'Silver IV': 0,\n",
    " 'Silver III': 0,\n",
    " 'Silver II': 0,\n",
    " 'Silver I': 0,\n",
    " 'Gold V': 0,\n",
    " 'Gold IV': 0,\n",
    " 'Gold III': 0,\n",
    " 'Gold II': 0,\n",
    " 'Gold I': 1,\n",
    " 'Platinum V': 0,\n",
    " 'Platinum IV': 0,\n",
    " 'Platinum III': 0,\n",
    " 'Platinum II': 0,\n",
    " 'Platinum I': 0,\n",
    " 'Diamond V': 0,\n",
    " 'Diamond IV': 0,\n",
    " 'Diamond III': 0,\n",
    " 'Diamond II': 0,\n",
    " 'Diamond I': 0,\n",
    " 'Ruby V': 0,\n",
    " 'Ruby IV': 0,\n",
    " 'Ruby III': 0,\n",
    " 'Ruby II': 0,\n",
    " 'Ruby I': 0\n",
    "}\n",
    "\n",
    "total_exp = 0\n",
    "for tier, solved_count in solved.items():\n",
    "    total_exp += exp_dict[tier] * solved_count\n",
    "    \n",
    "print(target - total_exp)"
   ]
  }
 ],
 "metadata": {
  "kernelspec": {
   "display_name": "Python 3",
   "language": "python",
   "name": "python3"
  },
  "language_info": {
   "codemirror_mode": {
    "name": "ipython",
    "version": 3
   },
   "file_extension": ".py",
   "mimetype": "text/x-python",
   "name": "python",
   "nbconvert_exporter": "python",
   "pygments_lexer": "ipython3",
   "version": "3.7.3"
  }
 },
 "nbformat": 4,
 "nbformat_minor": 4
}
