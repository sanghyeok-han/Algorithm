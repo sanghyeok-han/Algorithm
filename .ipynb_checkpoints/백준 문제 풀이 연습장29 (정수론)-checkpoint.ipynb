{
 "cells": [
  {
   "cell_type": "markdown",
   "metadata": {},
   "source": [
    "### Even or Odd? 18005"
   ]
  },
  {
   "cell_type": "code",
   "execution_count": 10,
   "metadata": {},
   "outputs": [
    {
     "name": "stdout",
     "output_type": "stream",
     "text": [
      "7\n",
      "0\n"
     ]
    }
   ],
   "source": [
    "n = int(input())\n",
    "\n",
    "if n % 2:\n",
    "    print(0)\n",
    "else:\n",
    "    if n % 4:\n",
    "        print(1)\n",
    "    else:\n",
    "        print(2)"
   ]
  },
  {
   "cell_type": "markdown",
   "metadata": {},
   "source": [
    "### Number Game 1975"
   ]
  },
  {
   "cell_type": "code",
   "execution_count": 14,
   "metadata": {},
   "outputs": [
    {
     "name": "stdout",
     "output_type": "stream",
     "text": [
      "2\n",
      "5\n",
      "1\n",
      "10\n",
      "3\n"
     ]
    }
   ],
   "source": [
    "import sys\n",
    "# input = lambda: sys.stdin.readline().rstrip()\n",
    "\n",
    "for _ in range(int(input())):\n",
    "    n = int(input())\n",
    "\n",
    "    total = 0\n",
    "    for i in range(2, n + 1):\n",
    "        mod = i \n",
    "        while True:\n",
    "            if n % mod == 0:\n",
    "                total += 1\n",
    "                mod *= i\n",
    "            else:\n",
    "                break\n",
    "\n",
    "    print(total)"
   ]
  },
  {
   "cell_type": "markdown",
   "metadata": {},
   "source": [
    "### 텔레프라임 7789"
   ]
  },
  {
   "cell_type": "code",
   "execution_count": 28,
   "metadata": {},
   "outputs": [
    {
     "data": {
      "text/plain": [
       "False"
      ]
     },
     "execution_count": 28,
     "metadata": {},
     "output_type": "execute_result"
    }
   ],
   "source": [
    "# 제출 대기\n",
    "n = 9999999\n",
    "\n",
    "is_primes = [True] * (n + 1)\n",
    "is_primes[0] = is_primes[1] = 0\n",
    "\n",
    "for mod in range(2, int(n ** 0.5) + 1):\n",
    "    if is_primes[mod]:\n",
    "        for v in range(mod * mod, n + 1, mod):\n",
    "            is_primes[v] = False\n",
    "\n",
    "ori, added = map(int, input().split())\n",
    "new = int(str(added) + str(ori))\n",
    "\n",
    "if is_primes[ori] and is_primes[new]:\n",
    "    print('Yes')\n",
    "else:\n",
    "    print('No')"
   ]
  },
  {
   "cell_type": "markdown",
   "metadata": {},
   "source": [
    "### Bedtime Reading, I 14782"
   ]
  },
  {
   "cell_type": "code",
   "execution_count": 17,
   "metadata": {},
   "outputs": [
    {
     "name": "stdout",
     "output_type": "stream",
     "text": [
      "946859 2\n",
      "Yes\n"
     ]
    }
   ],
   "source": [
    "# 제출 대기\n",
    "n = int(input())\n",
    "\n",
    "total = 0\n",
    "for mod in range(1, int(n ** 0.5) + 1):\n",
    "    if n % mod == 0:\n",
    "        total += mod + n // mod\n",
    "        \n",
    "value = n ** 0.5\n",
    "if value == int(value):\n",
    "    total -= int(value)\n",
    "    \n",
    "print(total)"
   ]
  },
  {
   "cell_type": "markdown",
   "metadata": {},
   "source": [
    "### Fan Death 15633"
   ]
  },
  {
   "cell_type": "code",
   "execution_count": null,
   "metadata": {},
   "outputs": [],
   "source": [
    "# 제출 대기\n",
    "n = int(input())\n",
    "\n",
    "total = 0\n",
    "for mod in range(1, int(n ** 0.5) + 1):\n",
    "    if n % mod:\n",
    "        total += mod + n // mod\n",
    "\n",
    "value = n ** 0.5\n",
    "if value == int(value):\n",
    "    total -= int(value)\n",
    "    \n",
    "print(total * 5 - 24)"
   ]
  },
  {
   "cell_type": "markdown",
   "metadata": {},
   "source": [
    "### 잉여역수 구하기 15995"
   ]
  },
  {
   "cell_type": "code",
   "execution_count": 31,
   "metadata": {},
   "outputs": [
    {
     "name": "stdout",
     "output_type": "stream",
     "text": [
      "9999 10000\n",
      "9999\n"
     ]
    }
   ],
   "source": [
    "a, b = map(int, input().split())\n",
    "\n",
    "x = 1\n",
    "while True:\n",
    "    if a * x % b == 1:\n",
    "        print(x)\n",
    "        break\n",
    "    x += 1"
   ]
  },
  {
   "cell_type": "markdown",
   "metadata": {},
   "source": [
    "### 만취한 상범 6359"
   ]
  },
  {
   "cell_type": "code",
   "execution_count": 34,
   "metadata": {},
   "outputs": [
    {
     "name": "stdout",
     "output_type": "stream",
     "text": [
      "2\n",
      "5\n",
      "2\n",
      "100\n",
      "10\n"
     ]
    }
   ],
   "source": [
    "# get_divisor_count\n",
    "def gdc(num):\n",
    "    count = 0\n",
    "    for i in range(1, int(num ** 0.5) + 1):\n",
    "        if num % i == 0:\n",
    "            count += 2\n",
    "    if num ** 0.5 == int(num ** 0.5):\n",
    "        count -= 1\n",
    "    return count\n",
    "\n",
    "for _ in range(int(input())):\n",
    "    n = int(input())\n",
    "    ec = 0 # escaped_count\n",
    "    for i in range(1, n + 1):\n",
    "        if gdc(i) % 2 == 1:\n",
    "            ec += 1\n",
    "\n",
    "    print(ec)"
   ]
  },
  {
   "cell_type": "markdown",
   "metadata": {},
   "source": [
    "### 짝수? 홀수? 11815"
   ]
  },
  {
   "cell_type": "code",
   "execution_count": 4,
   "metadata": {},
   "outputs": [
    {
     "name": "stdout",
     "output_type": "stream",
     "text": [
      "3\n",
      "1 2 3\n",
      "1 0 0 "
     ]
    }
   ],
   "source": [
    "t = int(input())\n",
    "li = list(map(int, input().split()))\n",
    "\n",
    "for v in li:\n",
    "    print(int(int(v ** 0.5) ** 2 == v), end=' ')"
   ]
  },
  {
   "cell_type": "markdown",
   "metadata": {},
   "source": [
    "### 카잉 달력 6064"
   ]
  },
  {
   "cell_type": "code",
   "execution_count": null,
   "metadata": {},
   "outputs": [],
   "source": [
    "0번째 해가 <0, 0>이라고 했을 때\n",
    "\n",
    "마지막 해는\n",
    "해를 m으로 나는 나머지가 m - 1 이어야 하고\n",
    "해를 n으로 나눈 나머지가 n - 1이어야 한다.\n",
    "\n",
    "주어진 해는\n",
    "해를 m으로 나눈 나머지가 x - 1여아 하고\n",
    "해를 n으로 나눈 나머지가 y - 1여야 한다.\n",
    "\n",
    "주어진 해는 마지막 해를 넘길 수 없으며\n",
    "넘기지 않으면 답은 해당 해 + 1이 된다."
   ]
  },
  {
   "cell_type": "code",
   "execution_count": 30,
   "metadata": {},
   "outputs": [
    {
     "name": "stdout",
     "output_type": "stream",
     "text": [
      "3\n",
      "10 12 3 9\n",
      "33\n",
      "10 12 7 2\n",
      "-1\n",
      "13 11 5 6\n",
      "83\n"
     ]
    }
   ],
   "source": [
    "import sys\n",
    "input = lambda: sys.stdin.readline().rstrip()\n",
    "\n",
    "for _ in range(int(input())):\n",
    "    m, n, x, y = map(int, input().split())\n",
    "\n",
    "    last_year = 0\n",
    "    year = m - 1\n",
    "    while True:\n",
    "        if year % n == n - 1:\n",
    "            last_year = year\n",
    "            break\n",
    "        year += m\n",
    "\n",
    "    nx = x - 1\n",
    "    ny = y - 1\n",
    "    year = nx\n",
    "    result = 0\n",
    "    while year <= last_year:\n",
    "        if year % n == ny:\n",
    "            result = year + 1\n",
    "            break\n",
    "        year += m\n",
    "    else:\n",
    "        result = -1\n",
    "\n",
    "    print(result)"
   ]
  },
  {
   "cell_type": "markdown",
   "metadata": {},
   "source": [
    "### 완전수 14563"
   ]
  },
  {
   "cell_type": "code",
   "execution_count": 43,
   "metadata": {},
   "outputs": [
    {
     "name": "stdout",
     "output_type": "stream",
     "text": [
      "3\n",
      "28 21 36\n",
      "Perfect\n",
      "Deficient\n",
      "Abundant\n"
     ]
    }
   ],
   "source": [
    "def gdt(num):\n",
    "    \"\"\"\n",
    "    get divisor total\n",
    "    \"\"\"\n",
    "    \n",
    "    total = 1\n",
    "    for mod in range(2, int(num ** 0.5) + 1):\n",
    "        if num % mod == 0:\n",
    "            total += mod + num // mod\n",
    "    if int(num ** 0.5) ** 2 == num:\n",
    "        total -= int(num ** 0.5)\n",
    "        \n",
    "    return total\n",
    "    \n",
    "input()\n",
    "li = list(map(int, input().split()))\n",
    "for num in li:\n",
    "    total = gdt(num)\n",
    "    if total == num:\n",
    "        print('Perfect')\n",
    "    elif total < num:\n",
    "        print('Deficient')\n",
    "    else:\n",
    "        print('Abundant')"
   ]
  },
  {
   "cell_type": "code",
   "execution_count": 59,
   "metadata": {},
   "outputs": [
    {
     "name": "stdout",
     "output_type": "stream",
     "text": [
      "4\n",
      "2\n",
      "6\n",
      "12\n",
      "18\n",
      "5\n"
     ]
    }
   ],
   "source": [
    "from math import gcd\n",
    "import sys\n",
    "input = lambda: sys.stdin.readline().rstrip()\n",
    "\n",
    "n = int(input())\n",
    "li = [int(input()) for _ in range(n)]\n",
    "diff = [a - b for a, b in zip(li[1:], li[:-1])]\n",
    "\n",
    "cur = diff[0]\n",
    "for i in range(1, n - 1):\n",
    "    cur = gcd(cur, diff[i])\n",
    "    \n",
    "count = 0\n",
    "for v in diff:\n",
    "    count += v // cur - 1\n",
    "    \n",
    "print(count)"
   ]
  },
  {
   "cell_type": "markdown",
   "metadata": {},
   "source": [
    "### 교수가 된 현우 3474"
   ]
  },
  {
   "cell_type": "code",
   "execution_count": 65,
   "metadata": {},
   "outputs": [
    {
     "name": "stdout",
     "output_type": "stream",
     "text": [
      "8735373\n",
      "2183837\n"
     ]
    }
   ],
   "source": [
    "import sys\n",
    "input = lambda: sys.stdin.readline().rstrip()\n",
    "\n",
    "for _ in range(int(input())):\n",
    "    n = int(input())\n",
    "\n",
    "    count_2 = 0\n",
    "    cur = 1\n",
    "    while 2 ** cur <= n:\n",
    "        count_2 += n // (2 ** cur)\n",
    "        cur += 1\n",
    "\n",
    "    count_5 = 0\n",
    "    cur = 1\n",
    "    while 5 ** cur <= n:\n",
    "        count_5 += n // (5 ** cur)\n",
    "        cur += 1\n",
    "\n",
    "    print(min(count_2, count_5))"
   ]
  },
  {
   "cell_type": "markdown",
   "metadata": {},
   "source": [
    "### LCM 5347"
   ]
  },
  {
   "cell_type": "code",
   "execution_count": 66,
   "metadata": {},
   "outputs": [
    {
     "name": "stdout",
     "output_type": "stream",
     "text": [
      "3\n",
      "15 21\n",
      "105\n",
      "33 22\n",
      "66\n",
      "9 10\n",
      "90\n"
     ]
    }
   ],
   "source": [
    "from math import gcd\n",
    "\n",
    "for _ in range(int(input())):\n",
    "    a, b = map(int, input().split())\n",
    "    print(a * b // gcd(a, b))"
   ]
  },
  {
   "cell_type": "markdown",
   "metadata": {},
   "source": [
    "### 백대열 14490"
   ]
  },
  {
   "cell_type": "code",
   "execution_count": 68,
   "metadata": {},
   "outputs": [
    {
     "name": "stdout",
     "output_type": "stream",
     "text": [
      "18:24\n",
      "3:4\n"
     ]
    }
   ],
   "source": [
    "from math import gcd\n",
    "\n",
    "a, b = map(int, input().split(':'))\n",
    "\n",
    "g = gcd(a, b)\n",
    "na = a // g\n",
    "nb = b // g\n",
    "\n",
    "print(f'{na}:{nb}')"
   ]
  },
  {
   "cell_type": "markdown",
   "metadata": {},
   "source": [
    "### 언더프라임 1124"
   ]
  },
  {
   "cell_type": "code",
   "execution_count": 8,
   "metadata": {},
   "outputs": [
    {
     "name": "stdout",
     "output_type": "stream",
     "text": [
      "2 10\n",
      "5\n"
     ]
    }
   ],
   "source": [
    "# 맞았음\n",
    "n = 100000\n",
    "is_primes = [True] * (n + 1)\n",
    "is_primes[0] = is_primes[1] = False\n",
    "\n",
    "for mod in range(2, int(n ** 0.5) + 1):\n",
    "    if is_primes[mod]:\n",
    "        for v in range(mod * mod, n + 1, mod):\n",
    "            is_primes[v] = False\n",
    "            \n",
    "def gpfc(num):\n",
    "    \"\"\"get_prime_factor_count\"\"\"\n",
    "    \n",
    "    count = 0\n",
    "    mod = 2\n",
    "    while True:\n",
    "        if num % mod == 0:\n",
    "            num //= mod\n",
    "            count += 1\n",
    "        else:\n",
    "            mod += 1\n",
    "        if mod * mod > num:\n",
    "            break\n",
    "    \n",
    "    if num != 1:\n",
    "        count += 1\n",
    "        \n",
    "    return count\n",
    "\n",
    "a, b = map(int, input().split())\n",
    "\n",
    "result = 0\n",
    "for num in range(a, b + 1):\n",
    "    result += is_primes[gpfc(num)]\n",
    "    \n",
    "print(result)"
   ]
  },
  {
   "cell_type": "code",
   "execution_count": 19,
   "metadata": {},
   "outputs": [
    {
     "name": "stdout",
     "output_type": "stream",
     "text": [
      "2 10\n",
      "5\n"
     ]
    }
   ],
   "source": [
    "# 맞았음, 에라토스테네스의 체를 이용해서 구한 소수들을 이용해서 소인수분해에 활용했음\n",
    "n = int(100000 ** 0.5) + 1\n",
    "is_primes = [True] * (n + 1)\n",
    "is_primes[0] = is_primes[1] = False\n",
    "\n",
    "for mod in range(2, int(n ** 0.5) + 1):\n",
    "    if is_primes[mod]:\n",
    "        for v in range(mod * mod, n + 1, mod):\n",
    "            is_primes[v] = False\n",
    "primes = [i for i, v in enumerate(is_primes) if v]\n",
    "        \n",
    "def gpfc(num):\n",
    "    \"\"\"get_prime_factor_count\"\"\"\n",
    "    \n",
    "    count = 0\n",
    "    p_index = 0\n",
    "    while True:\n",
    "        mod = primes[p_index]\n",
    "        if num % mod == 0:\n",
    "            num //= mod\n",
    "            count += 1\n",
    "        else:\n",
    "            p_index += 1\n",
    "        if mod * mod > num:\n",
    "            break\n",
    "    \n",
    "    if num != 1:\n",
    "        count += 1\n",
    "        \n",
    "    return count\n",
    "\n",
    "a, b = map(int, input().split())\n",
    "\n",
    "result = 0\n",
    "for num in range(a, b + 1):\n",
    "    result += is_primes[gpfc(num)]\n",
    "    \n",
    "print(result)"
   ]
  },
  {
   "cell_type": "markdown",
   "metadata": {},
   "source": [
    "### 분수 합 1735"
   ]
  },
  {
   "cell_type": "code",
   "execution_count": 1,
   "metadata": {},
   "outputs": [
    {
     "name": "stdout",
     "output_type": "stream",
     "text": [
      "2 7\n",
      "3 5\n",
      "31 35\n"
     ]
    }
   ],
   "source": [
    "from math import gcd\n",
    "\n",
    "a1, b1 = map(int, input().split())\n",
    "a2, b2 = map(int, input().split())\n",
    "\n",
    "numer = b2 * a1 + b1 * a2\n",
    "denom = b1 * b2\n",
    "\n",
    "g = gcd(numer, denom)\n",
    "\n",
    "rn = numer // g\n",
    "rd = denom // g\n",
    "\n",
    "print(rn, rd)"
   ]
  },
  {
   "cell_type": "markdown",
   "metadata": {},
   "source": [
    "### 파스칼 2986"
   ]
  },
  {
   "cell_type": "raw",
   "metadata": {},
   "source": [
    "n의 자신을 제외한 가장 큰 약수를 구한다."
   ]
  },
  {
   "cell_type": "code",
   "execution_count": 25,
   "metadata": {},
   "outputs": [
    {
     "name": "stdout",
     "output_type": "stream",
     "text": [
      "1\n",
      "0\n"
     ]
    }
   ],
   "source": [
    "n = int(input())\n",
    "\n",
    "divisor = 0\n",
    "for i in range(2, int(n ** 0.5) + 1):\n",
    "    if n % i == 0:\n",
    "        divisor = n // i\n",
    "        break\n",
    "else:\n",
    "    divisor = 1\n",
    "\n",
    "print(n - divisor)"
   ]
  },
  {
   "cell_type": "markdown",
   "metadata": {},
   "source": [
    "### 세 개의 소수 문제 11502"
   ]
  },
  {
   "cell_type": "code",
   "execution_count": 35,
   "metadata": {},
   "outputs": [
    {
     "name": "stdout",
     "output_type": "stream",
     "text": [
      "3\n",
      "7\n",
      "2 2 3\n",
      "11\n",
      "2 2 7\n",
      "25\n",
      "3 3 19\n"
     ]
    }
   ],
   "source": [
    "import sys\n",
    "# input = lambda: sys.stdin.readline().rstrip()\n",
    "\n",
    "def check(num):\n",
    "    for i in range(p_len):\n",
    "        for j in range(i, p_len):\n",
    "            for k in range(j, p_len):\n",
    "                if p[i] + p[j] + p[k] == num:\n",
    "                    return p[i], p[j], p[k]\n",
    "    return False\n",
    "\n",
    "n = 1000\n",
    "ip = [True] * (n + 1) # is primes\n",
    "ip[0] = ip[1] = False\n",
    "\n",
    "for mod in range(2, int(n ** 0.5) + 1):\n",
    "    if ip[mod]:\n",
    "        for v in range(mod * mod, n + 1, mod):\n",
    "            ip[v] = False\n",
    "\n",
    "p = [i for i, v in enumerate(ip) if v]\n",
    "p_len = len(p)\n",
    "\n",
    "for _ in range(int(input())):\n",
    "    n = int(input())\n",
    "    result = check(n)\n",
    "    if result:\n",
    "        print(*result)\n",
    "    else:\n",
    "        print(0)"
   ]
  },
  {
   "cell_type": "markdown",
   "metadata": {},
   "source": [
    "### 최대공약수 1850"
   ]
  },
  {
   "cell_type": "code",
   "execution_count": 76,
   "metadata": {},
   "outputs": [
    {
     "name": "stdout",
     "output_type": "stream",
     "text": [
      "2\n",
      "6\n",
      "2 1\n",
      "3 1\n",
      "24\n",
      "2 3\n",
      "3 1\n"
     ]
    }
   ],
   "source": [
    "from collections import defaultdict\n",
    "import sys\n",
    "# input = lambda: sys.stdin.readline().rstrip()\n",
    "\n",
    "def pf(num):\n",
    "    \"\"\"prime factorization\"\"\"\n",
    "    \n",
    "    counts = defaultdict(int)\n",
    "    cur = 2\n",
    "    while True:\n",
    "        if num % cur == 0:\n",
    "            num //= cur\n",
    "            counts[cur] += 1\n",
    "        else:\n",
    "            cur += 1\n",
    "        \n",
    "        if cur * cur > num:\n",
    "            break\n",
    "            \n",
    "    if num != 1:\n",
    "        counts[num] += 1\n",
    "        \n",
    "    counts = sorted(counts.items())\n",
    "    for v in counts:\n",
    "        print(*v)\n",
    "\n",
    "for _ in range(int(input())):\n",
    "    n = int(input())\n",
    "    counts = pf(n)"
   ]
  },
  {
   "cell_type": "markdown",
   "metadata": {},
   "source": [
    "### 보이는 점의 개수 2725"
   ]
  },
  {
   "cell_type": "code",
   "execution_count": 79,
   "metadata": {},
   "outputs": [
    {
     "name": "stdout",
     "output_type": "stream",
     "text": [
      "4\n",
      "2\n",
      "5\n",
      "4\n",
      "13\n",
      "5\n",
      "21\n",
      "231\n",
      "32549\n"
     ]
    }
   ],
   "source": [
    "from math import gcd\n",
    "import sys\n",
    "# input = lambda: sys.stdin.readline().rstrip()\n",
    "\n",
    "dp = [0, 3]\n",
    "for i in range(2, 1001):\n",
    "    temp = 0\n",
    "    for j in range(1, i):\n",
    "        if gcd(i, j) == 1:\n",
    "            temp += 1\n",
    "    dp.append(dp[-1] + temp * 2)\n",
    "    \n",
    "for _ in range(int(input())):\n",
    "    print(dp[int(input())])"
   ]
  },
  {
   "cell_type": "markdown",
   "metadata": {},
   "source": [
    "### 퍼거슨과 사과 2942"
   ]
  },
  {
   "cell_type": "code",
   "execution_count": null,
   "metadata": {},
   "outputs": [],
   "source": [
    "gcd의 모든 약수를 구함"
   ]
  },
  {
   "cell_type": "code",
   "execution_count": 111,
   "metadata": {},
   "outputs": [
    {
     "name": "stdout",
     "output_type": "stream",
     "text": [
      "42 105\n",
      "1 42 105\n",
      "21 2 5\n",
      "3 14 35\n",
      "7 6 15\n"
     ]
    }
   ],
   "source": [
    "from math import gcd\n",
    "\n",
    "def solve(num):\n",
    "    is_duplicated = False\n",
    "    if int(num ** 0.5) ** 2 == num:\n",
    "        is_duplicated = True\n",
    "    \n",
    "    for mod in range(1, int(num ** 0.5) + 1):\n",
    "        if num % mod == 0:\n",
    "            print(mod, r // mod, g // mod)\n",
    "            \n",
    "            if is_duplicated and mod == int(num ** 0.5):\n",
    "                continue\n",
    "            print(num // mod, r // (num // mod), g // (num // mod))\n",
    "\n",
    "r, g = map(int, input().split())\n",
    "\n",
    "solve(gcd(r, g))"
   ]
  },
  {
   "cell_type": "markdown",
   "metadata": {},
   "source": [
    "### 베르트랑 공준 4948"
   ]
  },
  {
   "cell_type": "code",
   "execution_count": 115,
   "metadata": {},
   "outputs": [
    {
     "name": "stdout",
     "output_type": "stream",
     "text": [
      "1\n",
      "1\n",
      "10\n",
      "4\n",
      "13\n",
      "3\n",
      "100\n",
      "21\n",
      "1000\n",
      "135\n",
      "10000\n",
      "1033\n",
      "100000\n",
      "8392\n",
      "0\n"
     ]
    }
   ],
   "source": [
    "import sys\n",
    "input = lambda: sys.stdin.readline().rstrip()\n",
    "\n",
    "n = 123456 * 2\n",
    "\n",
    "ip = [True] * (n + 1)\n",
    "for mod in range(2, int(n ** 0.5) + 1):\n",
    "    if ip[mod]:\n",
    "        for num in range(mod * mod, n + 1, mod):\n",
    "            ip[num] = False\n",
    "            \n",
    "sum_li = [0] * (n + 1)\n",
    "for num in range(1, n + 1):\n",
    "    if ip[num]:\n",
    "        sum_li[num] = sum_li[num - 1] + 1\n",
    "    else:\n",
    "        sum_li[num] = sum_li[num - 1]\n",
    "\n",
    "while True:\n",
    "    value = int(input())\n",
    "    if value == 0:\n",
    "        break\n",
    "    \n",
    "    print(sum_li[2 * value] - sum_li[value])"
   ]
  },
  {
   "cell_type": "markdown",
   "metadata": {},
   "source": [
    "### 관중석 10166"
   ]
  },
  {
   "cell_type": "code",
   "execution_count": 132,
   "metadata": {},
   "outputs": [
    {
     "name": "stdout",
     "output_type": "stream",
     "text": [
      "3 6\n",
      "10\n"
     ]
    }
   ],
   "source": [
    "# 일단 포기\n",
    "from math import gcd\n",
    "\n",
    "d1, d2 = map(int, input().split())\n",
    "\n",
    "sum_counts = [0] * (d2 + 1)\n",
    "for i in range(1, d2 + 1):\n",
    "    count = 0\n",
    "    for j in range(1, i + 1):\n",
    "        if gcd(i, j) == 1:\n",
    "            count += 1\n",
    "    sum_counts[i] = sum_counts[i - 1] + count\n",
    "            \n",
    "print(sum_counts[d2] - sum_counts[d1 - 1])"
   ]
  }
 ],
 "metadata": {
  "kernelspec": {
   "display_name": "Python 3",
   "language": "python",
   "name": "python3"
  },
  "language_info": {
   "codemirror_mode": {
    "name": "ipython",
    "version": 3
   },
   "file_extension": ".py",
   "mimetype": "text/x-python",
   "name": "python",
   "nbconvert_exporter": "python",
   "pygments_lexer": "ipython3",
   "version": "3.7.3"
  }
 },
 "nbformat": 4,
 "nbformat_minor": 4
}
