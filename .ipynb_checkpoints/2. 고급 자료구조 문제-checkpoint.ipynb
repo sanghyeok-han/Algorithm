{
 "cells": [
  {
   "cell_type": "markdown",
   "metadata": {},
   "source": [
    "* 추천 풀이 시간: 실전에서 써 먹을 수 있는 시간\n",
    "* 추천 풀이 시간 * 2 초과시 문제 접근법을 다시 배우는 것이 좋음"
   ]
  },
  {
   "cell_type": "markdown",
   "metadata": {},
   "source": [
    "## SHA-256"
   ]
  },
  {
   "cell_type": "markdown",
   "metadata": {},
   "source": [
    "##### 10930번"
   ]
  },
  {
   "cell_type": "markdown",
   "metadata": {},
   "source": [
    "7:22"
   ]
  },
  {
   "cell_type": "code",
   "execution_count": 15,
   "metadata": {},
   "outputs": [
    {
     "name": "stdout",
     "output_type": "stream",
     "text": [
      "Baekjoon\n",
      "9944e1862efbb2a4e2486392dc6701896416b251eccdecb8332deb7f4cf2a857\n"
     ]
    }
   ],
   "source": [
    "## 맞았음\n",
    "from hashlib import sha256\n",
    "\n",
    "value = input()\n",
    "value = sha256(value.encode())\n",
    "print(value.hexdigest())"
   ]
  },
  {
   "cell_type": "markdown",
   "metadata": {},
   "source": [
    "## 수 찾기"
   ]
  },
  {
   "cell_type": "markdown",
   "metadata": {},
   "source": [
    "##### 1920번"
   ]
  },
  {
   "cell_type": "code",
   "execution_count": 47,
   "metadata": {},
   "outputs": [],
   "source": [
    "n = 5\n",
    "A = [4, 1, 5, 2, 3]\n",
    "M = 5\n",
    "to_search = [1, 3, 7, 9, 5]"
   ]
  },
  {
   "cell_type": "code",
   "execution_count": 50,
   "metadata": {},
   "outputs": [
    {
     "name": "stdout",
     "output_type": "stream",
     "text": [
      "5\n",
      "4 1 5 2 3\n",
      "5\n",
      "1\n"
     ]
    }
   ],
   "source": [
    "# 시간초과\n",
    "n = int(input())\n",
    "A = list(map(int, input().split(\" \")))\n",
    "M = int(input())\n",
    "to_search = list(map(int, input().split(\" \")))\n",
    "\n",
    "for v in to_search:\n",
    "    try:\n",
    "        A.index(v)\n",
    "    except:\n",
    "        print(0)\n",
    "    else:\n",
    "        print(1)"
   ]
  },
  {
   "cell_type": "code",
   "execution_count": 71,
   "metadata": {},
   "outputs": [
    {
     "name": "stdout",
     "output_type": "stream",
     "text": [
      "5\n",
      "4 1 5 2 3\n",
      "5\n",
      "1 3 7 9 5\n",
      "1\n",
      "1\n",
      "0\n",
      "0\n",
      "1\n"
     ]
    }
   ],
   "source": [
    "# 맞았음\n",
    "from collections import defaultdict\n",
    "\n",
    "n = int(input())\n",
    "A = list(map(int, input().split(\" \")))\n",
    "M = int(input())\n",
    "to_search = list(map(int, input().split(\" \")))\n",
    "d = defaultdict(int)\n",
    "for v in A:\n",
    "    d[v] = 1\n",
    "for s in to_search:\n",
    "    print(d[s])"
   ]
  },
  {
   "cell_type": "code",
   "execution_count": 81,
   "metadata": {},
   "outputs": [
    {
     "name": "stdout",
     "output_type": "stream",
     "text": [
      "5\n",
      "4 1 5 2 3\n",
      "5\n",
      "1 3 7 9 5\n",
      "1\n",
      "1\n",
      "0\n",
      "0\n",
      "1\n"
     ]
    }
   ],
   "source": [
    "# 예시 정답\n",
    "## set 자료형 사용시 in이 좀 더 빨라짐\n",
    "n = int(input())\n",
    "array = list(map(int, input().split(\" \")))\n",
    "m = int(input())\n",
    "x = list(map(int, input().split(\" \")))\n",
    "\n",
    "for i in x:\n",
    "    if i not in array:\n",
    "        print(\"0\")\n",
    "    else:\n",
    "        print(\"1\")"
   ]
  },
  {
   "cell_type": "markdown",
   "metadata": {},
   "source": [
    "## 친구 네트워크\n",
    "\n",
    "##### 4195번"
   ]
  },
  {
   "cell_type": "markdown",
   "metadata": {},
   "source": [
    "9:06 "
   ]
  },
  {
   "cell_type": "code",
   "execution_count": 101,
   "metadata": {},
   "outputs": [
    {
     "name": "stdout",
     "output_type": "stream",
     "text": [
      "2\n",
      "3\n",
      "Fred Barney\n",
      "2\n",
      "Barney Betty\n",
      "3\n",
      "Betty Wilma\n",
      "4\n",
      "3\n",
      "Fred Barney\n",
      "2\n",
      "Betty Wilma\n",
      "2\n",
      "Barney Betty\n",
      "4\n"
     ]
    }
   ],
   "source": [
    "# 시간 초과\n",
    "case_num = int(input())\n",
    "\n",
    "for _ in range(case_num):\n",
    "    F = int(input())\n",
    "    a = []\n",
    "    for _ in range(F):\n",
    "        given = set(input().split(\" \"))\n",
    "        selected_indices = []\n",
    "        for i in range(len(a)):\n",
    "            if a[i] & given:\n",
    "                selected_indices.append(i)\n",
    "\n",
    "        if len(selected_indices) == 2:\n",
    "            merged_set = a.pop(selected_indices[1]) | a.pop(selected_indices[0]) | given\n",
    "            print(len(merged_set))\n",
    "            a.append(merged_set)\n",
    "        elif len(selected_indices) == 1:\n",
    "            merged_set = a.pop(selected_indices[0]) | given\n",
    "            print(len(merged_set))\n",
    "            a.append(merged_set)\n",
    "        else:\n",
    "            print(len(given))\n",
    "            a.append(given)"
   ]
  },
  {
   "cell_type": "code",
   "execution_count": 1,
   "metadata": {},
   "outputs": [],
   "source": [
    "## 예시 union find 알고리즘\n",
    "\n",
    "def find(x):\n",
    "    if x == parent[x]:\n",
    "        return x\n",
    "    else:\n",
    "        p = find(parent[x])\n",
    "        parent[x] = p\n",
    "        return parent[x]\n",
    "    \n",
    "def union(x, y):\n",
    "    x = find(x)\n",
    "    y = find(y)\n",
    "    \n",
    "    parent[y] = x\n",
    "    \n",
    "parent = []\n",
    "\n",
    "for i in range(0, 5):\n",
    "    parent.append(i)\n",
    "    \n",
    "union(1, 4)\n",
    "union(2, 4)\n",
    "\n",
    "for i in range(1, len(parent)):\n",
    "    print(fine(i), end=' ')"
   ]
  },
  {
   "cell_type": "code",
   "execution_count": null,
   "metadata": {},
   "outputs": [],
   "source": [
    "case_num = int(input())\n",
    "\n",
    "for _ in range(case_num):\n",
    "    F = int(input())\n",
    "    parent = []\n",
    "    for _ in range(F):\n",
    "        a, b = input().split(\" \")\n",
    "        find(a)\n",
    "        find(b)"
   ]
  },
  {
   "cell_type": "code",
   "execution_count": null,
   "metadata": {},
   "outputs": [],
   "source": [
    "import time\n",
    "while True:\n",
    "    time.sleep(2)"
   ]
  }
 ],
 "metadata": {
  "kernelspec": {
   "display_name": "Python 3",
   "language": "python",
   "name": "python3"
  },
  "language_info": {
   "codemirror_mode": {
    "name": "ipython",
    "version": 3
   },
   "file_extension": ".py",
   "mimetype": "text/x-python",
   "name": "python",
   "nbconvert_exporter": "python",
   "pygments_lexer": "ipython3",
   "version": "3.7.3"
  }
 },
 "nbformat": 4,
 "nbformat_minor": 4
}
