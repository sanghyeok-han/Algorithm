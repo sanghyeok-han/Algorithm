{
 "cells": [
  {
   "cell_type": "markdown",
   "metadata": {},
   "source": [
    "A"
   ]
  },
  {
   "cell_type": "code",
   "execution_count": 1,
   "metadata": {},
   "outputs": [
    {
     "name": "stdout",
     "output_type": "stream",
     "text": [
      "10\n",
      "6 7 10 12 13 14 15 20 21 22\n",
      "48\n"
     ]
    }
   ],
   "source": [
    "n = int(input())\n",
    "li = list(map(int, input().split()))\n",
    "\n",
    "cur_min = li[0]\n",
    "result = 0\n",
    "for i in range(1, n):\n",
    "    if li[i - 1] + 1 != li[i]:\n",
    "        result += cur_min\n",
    "        cur_min = li[i]\n",
    "\n",
    "result += cur_min\n",
    "\n",
    "print(result)"
   ]
  },
  {
   "cell_type": "markdown",
   "metadata": {},
   "source": [
    "B"
   ]
  },
  {
   "cell_type": "code",
   "execution_count": 2,
   "metadata": {},
   "outputs": [
    {
     "name": "stdout",
     "output_type": "stream",
     "text": [
      "3\n",
      "B 2\n",
      "P 4\n",
      "B 3\n",
      "YES\n"
     ]
    }
   ],
   "source": [
    "from collections import defaultdict as dd\n",
    "import sys\n",
    "input = lambda: sys.stdin.readline().rstrip()\n",
    "\n",
    "n = int(input())\n",
    "ct = dd(int)\n",
    "\n",
    "for _ in range(n):\n",
    "    name, c = input().split()\n",
    "    c = int(c)\n",
    "    \n",
    "    ct[name] += c\n",
    "    \n",
    "result = False\n",
    "for v in ct.values():\n",
    "    if v == 5:\n",
    "        result = True\n",
    "        break\n",
    "        \n",
    "if result:\n",
    "    print('YES')\n",
    "else:\n",
    "    print('NO')"
   ]
  },
  {
   "cell_type": "markdown",
   "metadata": {},
   "source": [
    "C"
   ]
  },
  {
   "cell_type": "code",
   "execution_count": null,
   "metadata": {},
   "outputs": [],
   "source": [
    "import sys\n",
    "input = lambda: sys.stdin.readline().rstrip()\n",
    "\n",
    "n = int(input())\n",
    "\n",
    "tm = 1\n",
    "is_reved = 0\n",
    "for _ in range(n):\n",
    "    tp, card = input().split()\n",
    "    \n",
    "    card = int(card)\n",
    "    \n",
    "    if tp == 'HOURGLASS' and card == tm:\n",
    "        print(tm, 'NO')\n",
    "    elif tp == 'HOURGLASS':\n",
    "        print(tm, 'NO')\n",
    "        is_reved ^= 1\n",
    "    elif card == tm:\n",
    "        print(tm, 'YES')\n",
    "    else:\n",
    "        print(tm, 'NO')\n",
    "        \n",
    "    if is_reved:\n",
    "        tm -= 1\n",
    "    else:\n",
    "        tm += 1\n",
    "        \n",
    "    if tm == 0:\n",
    "        tm = 12\n",
    "    elif tm == 13:\n",
    "        tm = 1"
   ]
  },
  {
   "cell_type": "markdown",
   "metadata": {},
   "source": [
    "E"
   ]
  },
  {
   "cell_type": "code",
   "execution_count": 17,
   "metadata": {},
   "outputs": [
    {
     "name": "stdout",
     "output_type": "stream",
     "text": [
      "3 4 5\n",
      "1 2\n",
      "4 -1\n",
      "1 5\n",
      "NO\n"
     ]
    }
   ],
   "source": [
    "import io, os, sys\n",
    "input = io.BytesIO(os.read(0,os.fstat(0).st_size)).readline\n",
    "\n",
    "n, a, l = map(int, input().split())\n",
    "li = [list(map(int, input().split())) for _ in range(n)]\n",
    "\n",
    "dp = [[-1] * 5001 for _ in range(n + 1)]\n",
    "dp[0][l] = a\n",
    "\n",
    "from_ = [[()] * 5001 for _ in range(n + 1)] # 1: 이전에 A 선택, 2: 이전에 L 선택\n",
    "for i in range(n):\n",
    "    x, y = li[i]\n",
    "    \n",
    "    for cur_l in range(1, 5001):\n",
    "        cur_a = dp[i][cur_l]\n",
    "\n",
    "        if cur_a == -1:\n",
    "            continue\n",
    "        \n",
    "        if x != -1 and y != -1:\n",
    "            if cur_a >= x:\n",
    "                n_a = cur_a - x\n",
    "                n_l = cur_l\n",
    "                \n",
    "                if n_a > dp[i + 1][n_l]:\n",
    "                    dp[i + 1][n_l] = n_a\n",
    "                    from_[i + 1][n_l] = (cur_l, 'A')\n",
    "\n",
    "            if cur_l - y > 0:\n",
    "                n_a = cur_a\n",
    "                n_l = cur_l - y\n",
    "\n",
    "                if n_a > dp[i + 1][n_l]:\n",
    "                    dp[i + 1][n_l] = n_a\n",
    "                    from_[i + 1][n_l] = (cur_l, 'L')\n",
    "        elif y == -1:\n",
    "            n_a = cur_a - x\n",
    "            n_a = max(0, n_a)\n",
    "            n_l = cur_l\n",
    "            \n",
    "            if n_a > dp[i + 1][n_l]:\n",
    "                dp[i + 1][n_l] = n_a\n",
    "                from_[i + 1][n_l] = (cur_l, 'A')\n",
    "        elif x == -1:\n",
    "            if cur_l - y > 0:\n",
    "                n_a = cur_a\n",
    "                n_l = cur_l - y\n",
    "                \n",
    "            if n_a > dp[i + 1][n_l]:\n",
    "                dp[i + 1][n_l] = n_a\n",
    "                from_[i + 1][n_l] = (cur_l, 'L')\n",
    "                \n",
    "i = n\n",
    "ip = False\n",
    "seq = []\n",
    "for cur_l in range(1, 5001):\n",
    "    if dp[i][cur_l] >= 0:\n",
    "        ip = True\n",
    "        \n",
    "        for cur_seq in range(n, 0, -1):\n",
    "            f_l, used = from_[cur_seq][cur_l]\n",
    "                \n",
    "            seq.append(used)\n",
    "            cur_l = f_l\n",
    "            \n",
    "        break\n",
    "\n",
    "if not seq:\n",
    "    print('NO')\n",
    "else:        \n",
    "    print('YES')\n",
    "    \n",
    "    seq = ''.join(reversed(seq))\n",
    "    print(seq)"
   ]
  },
  {
   "cell_type": "markdown",
   "metadata": {},
   "source": [
    "D"
   ]
  },
  {
   "cell_type": "code",
   "execution_count": 23,
   "metadata": {},
   "outputs": [
    {
     "name": "stdout",
     "output_type": "stream",
     "text": [
      "NNNNYNNNNYNN\n",
      "6 6 1\n",
      "10\n"
     ]
    }
   ],
   "source": [
    "from collections import Counter\n",
    "\n",
    "def get_v(li, tp):\n",
    "    if tp <= 5:\n",
    "        return li.count(tp + 1) * (tp + 1)\n",
    "    \n",
    "    sli = sorted(li)\n",
    "    ct = Counter(li)\n",
    "    mc = ct.most_common()\n",
    "    if tp == 6:\n",
    "        if mc[0][1] >= 4:\n",
    "            return mc[0][0] * 4\n",
    "        else:\n",
    "            return 0\n",
    "    elif tp == 7:\n",
    "        if len(mc) == 2 and mc[0][1] == 3 and mc[1][1] == 2:\n",
    "            return sum(li)\n",
    "        else:\n",
    "            return 0\n",
    "    elif tp == 8:\n",
    "        if sli == [1, 2, 3, 4, 5]:\n",
    "            return 30\n",
    "        else:\n",
    "            return 0\n",
    "    elif tp == 9:\n",
    "        if sli == [2, 3, 4, 5, 6]:\n",
    "            return 30\n",
    "        else:\n",
    "            return 0\n",
    "    elif tp == 10:\n",
    "        if mc[0][1] == 5:\n",
    "            return 50\n",
    "        else:\n",
    "            return 0\n",
    "    elif tp == 11:\n",
    "        return sum(li)\n",
    "    \n",
    "    \n",
    "s = input()\n",
    "li = list(map(int, input().split()))\n",
    "\n",
    "max_sc = 0\n",
    "for a in range(1, 7):\n",
    "    for b in range(1, 7):\n",
    "        nli = li + [a, b]\n",
    "        \n",
    "        for i in range(12):\n",
    "            if s[i] == 'Y':\n",
    "                sc = get_v(nli, i)\n",
    "                \n",
    "                max_sc = max(max_sc, sc)\n",
    "                \n",
    "print(max_sc)"
   ]
  },
  {
   "cell_type": "markdown",
   "metadata": {},
   "source": [
    "N"
   ]
  },
  {
   "cell_type": "code",
   "execution_count": null,
   "metadata": {},
   "outputs": [],
   "source": [
    "a, b일 때\n",
    "\n",
    "a가 b의 약수면 승리\n",
    "b가 a의 약수면 패배\n",
    "둘 다 아니면 무승부"
   ]
  },
  {
   "cell_type": "code",
   "execution_count": 33,
   "metadata": {},
   "outputs": [
    {
     "name": "stdout",
     "output_type": "stream",
     "text": [
      "4\n",
      "7 23 8 6\n",
      "0 0 0 0\n"
     ]
    }
   ],
   "source": [
    "n = int(input())\n",
    "li = list(map(int, input().split()))\n",
    "\n",
    "v_to_i = [-1] * 1000001\n",
    "for i in range(n):\n",
    "    v = li[i]\n",
    "    \n",
    "    v_to_i[v] = i\n",
    "    \n",
    "scs = [0] * n\n",
    "    \n",
    "st = set(li)\n",
    "\n",
    "for cur in li:\n",
    "    oppo = cur\n",
    "    while True:\n",
    "        oppo += cur\n",
    "        if oppo > 1000000:\n",
    "            break\n",
    "        \n",
    "        if oppo in st:\n",
    "            cur_i = v_to_i[cur]\n",
    "            oppo_i = v_to_i[oppo]\n",
    "            \n",
    "            scs[cur_i] += 1\n",
    "            scs[oppo_i] -= 1\n",
    "        \n",
    "print(*scs)"
   ]
  },
  {
   "cell_type": "markdown",
   "metadata": {},
   "source": [
    "G"
   ]
  },
  {
   "cell_type": "code",
   "execution_count": 40,
   "metadata": {},
   "outputs": [
    {
     "name": "stdout",
     "output_type": "stream",
     "text": [
      "3\n",
      "2 0 0 2\n",
      "3\n",
      "NO\n"
     ]
    }
   ],
   "source": [
    "n = int(input())\n",
    "li = list(map(int, input().split()))\n",
    "x = int(input())\n",
    "\n",
    "st = set()\n",
    "for i in range(n + 1):\n",
    "    if li[i] == 1:\n",
    "        st.add(i)\n",
    "        \n",
    "st_len = len(st)\n",
    "        \n",
    "if st_len >= 3:\n",
    "    print('NO')\n",
    "elif st_len == 2:\n",
    "    left, right = sorted(st)\n",
    "    \n",
    "    if left + x == right:\n",
    "        print('YES')\n",
    "        print(left, right)\n",
    "    else:\n",
    "        print('NO')\n",
    "elif st_len == 1:\n",
    "    v = st.pop()\n",
    "    \n",
    "    if v - x >= 0 and li[v - x] >= 3:\n",
    "        print('YES')\n",
    "        print(v - x, v)\n",
    "    elif v + x < n and li[v + x] != 0:\n",
    "        print('YES')\n",
    "        print(v, v + x)\n",
    "    else:\n",
    "        print('NO')\n",
    "elif st_len == 0:\n",
    "    ip = False\n",
    "    for i in range(n + 1 - x):\n",
    "        if li[i] >= 3 and li[i + x] != 0:\n",
    "            ip = True\n",
    "            \n",
    "            print('YES')\n",
    "            print(i, i + x)\n",
    "            break\n",
    "    \n",
    "    if not ip:\n",
    "        print('NO')"
   ]
  },
  {
   "cell_type": "markdown",
   "metadata": {},
   "source": [
    "https://www.acmicpc.net/problem/27210 신을 모시는 사당"
   ]
  },
  {
   "cell_type": "code",
   "execution_count": 7,
   "metadata": {},
   "outputs": [
    {
     "name": "stdout",
     "output_type": "stream",
     "text": [
      "2\n",
      "1 2\n",
      "1\n"
     ]
    }
   ],
   "source": [
    "n = int(input())\n",
    "li = list(map(int, input().split()))\n",
    "\n",
    "def two_p(to_find):\n",
    "    start = 0\n",
    "    end = 0\n",
    "    cur = 0\n",
    "    max_r = 0\n",
    "\n",
    "    if li[start] == to_find:\n",
    "        cur = 1\n",
    "    else:\n",
    "        cur = -1\n",
    "\n",
    "    max_r = max(max_r, cur)\n",
    "    while True:\n",
    "        if cur <= 0:\n",
    "            start = end + 1\n",
    "            if start >= n:\n",
    "                break\n",
    "            cur = 0\n",
    "            end = start\n",
    "            if li[end] == to_find:\n",
    "                cur += 1\n",
    "            else:\n",
    "                cur -= 1\n",
    "            max_r = max(max_r, cur)\n",
    "        else:\n",
    "            end += 1\n",
    "            if end >= n:\n",
    "                break\n",
    "            if li[end] == to_find:\n",
    "                cur += 1\n",
    "            else:\n",
    "                cur -= 1\n",
    "            max_r = max(max_r, cur)\n",
    "\n",
    "    return max_r\n",
    "\n",
    "r = max(two_p(1), two_p(2))\n",
    "\n",
    "print(r)"
   ]
  },
  {
   "cell_type": "code",
   "execution_count": null,
   "metadata": {},
   "outputs": [],
   "source": [
    "n = int(input())\n",
    "li = list(map(int, input().split()))\n",
    "\n",
    "def get_max_v(target):\n",
    "    max_cumul = 0\n",
    "    cumul = 0\n",
    "    for v in li:\n",
    "        if v == target:\n",
    "            cumul += 1\n",
    "        else:\n",
    "            cumul -= 1\n",
    "\n",
    "        max_cumul = max(max_cumul, cumul)\n",
    "        cumul = max(0, cumul)\n",
    "\n",
    "    return max_cumul\n",
    "\n",
    "r = max(get_max_v(1), get_max_v(2))\n",
    "\n",
    "print(r)"
   ]
  },
  {
   "cell_type": "markdown",
   "metadata": {},
   "source": [
    "https://www.acmicpc.net/problem/25574 ABC 배열 놀이"
   ]
  },
  {
   "cell_type": "code",
   "execution_count": 26,
   "metadata": {},
   "outputs": [
    {
     "data": {
      "text/plain": [
       "131"
      ]
     },
     "execution_count": 26,
     "metadata": {},
     "output_type": "execute_result"
    }
   ],
   "source": [
    "n = 10\n",
    "\n",
    "def reduce(i, cur_i, j):\n",
    "    return i * 3 * 4 + cur_i * 4 + j\n",
    "\n",
    "reduce(n, 2, 3)"
   ]
  },
  {
   "cell_type": "code",
   "execution_count": 21,
   "metadata": {},
   "outputs": [
    {
     "name": "stdout",
     "output_type": "stream",
     "text": [
      "7 2 2 2\n",
      "0 1 -2 3 -4 5 -6\n",
      "1\n"
     ]
    }
   ],
   "source": [
    "from itertools import permutations as perm\n",
    "from copy import deepcopy\n",
    "import io, os, sys\n",
    "input = io.BytesIO(os.read(0,os.fstat(0).st_size)).readline\n",
    "\n",
    "inf = float('inf')\n",
    "\n",
    "for _ in range(int(input())):\n",
    "    n, a, b, c  = list(map(int, input().split()))\n",
    "    li = list(map(int, input().split()))\n",
    "\n",
    "    prefix = [0] * (n + 1)\n",
    "    cumul = 0\n",
    "    for i in range(n):\n",
    "        cumul += li[i]\n",
    "        prefix[i + 1] = cumul\n",
    "\n",
    "    max_r = -inf\n",
    "    for cur in perm([a, b, c]):\n",
    "        dp = [[[inf] * 4 for _ in range(3)]] # + 절댓값 최대, + 절댓값 최소, - 절댓값 최대, - 절댓값 최소\n",
    "\n",
    "        for i in range(n):\n",
    "            if i >= 1:\n",
    "                dp.append(deepcopy(dp[i - 1]))\n",
    "\n",
    "            if i + 1 - cur[0] >= 0:\n",
    "                s = i - cur[0] + 1\n",
    "                e = i\n",
    "\n",
    "                sv = prefix[e + 1] - prefix[s]\n",
    "\n",
    "                if sv >= 0:\n",
    "                    if dp[i][0][0] == inf:\n",
    "                        dp[i][0][0] = sv\n",
    "                    else:\n",
    "                        dp[i][0][0] = max(dp[i][0][0], sv)\n",
    "\n",
    "                    if dp[i][0][1] == inf:\n",
    "                        dp[i][0][1] = sv\n",
    "                    else:\n",
    "                        dp[i][0][1] = min(dp[i][0][1], sv)\n",
    "                else:\n",
    "                    if dp[i][0][2] == inf:\n",
    "                        dp[i][0][2] = sv\n",
    "                    else:\n",
    "                        dp[i][0][2] = min(dp[i][0][2], sv)\n",
    "\n",
    "                    if dp[i][0][3] == inf:\n",
    "                        dp[i][0][3] = sv\n",
    "                    else:\n",
    "                        dp[i][0][3] = max(dp[i][0][3], sv)\n",
    "\n",
    "            for cur_i in range(1, 3):\n",
    "                if i - cur[cur_i] >= 0:\n",
    "                    s = i - cur[cur_i] + 1\n",
    "                    e = i\n",
    "\n",
    "                    sv = prefix[e + 1] - prefix[s]\n",
    "                    fi = i - cur[cur_i]\n",
    "\n",
    "                    nsvs = []\n",
    "                    for j in range(4):\n",
    "                        if dp[fi][cur_i - 1][j] != inf:\n",
    "                            nsvs.append(dp[fi][cur_i - 1][j] * sv)\n",
    "\n",
    "                    for nsv in nsvs:\n",
    "                        if nsv >= 0:\n",
    "                            if dp[i][cur_i][0] == inf:\n",
    "                                dp[i][cur_i][0] = nsv\n",
    "                            else:\n",
    "                                dp[i][cur_i][0] = max(dp[i][cur_i][0], nsv)\n",
    "\n",
    "                            if dp[i][cur_i][1] == inf:\n",
    "                                dp[i][cur_i][1] = nsv\n",
    "                            else:\n",
    "                                dp[i][cur_i][1] = min(dp[i][cur_i][1], nsv)\n",
    "                        else:\n",
    "                            if dp[i][cur_i][2] == inf:\n",
    "                                dp[i][cur_i][2] = nsv\n",
    "                            else:\n",
    "                                dp[i][cur_i][2] = min(dp[i][cur_i][2], nsv)\n",
    "\n",
    "                            if dp[i][cur_i][3] == inf:\n",
    "                                dp[i][cur_i][3] = nsv\n",
    "                            else:\n",
    "                                dp[i][cur_i][3] = max(dp[i][cur_i][3], nsv)\n",
    "\n",
    "        for j in range(4):\n",
    "            if dp[n - 1][2][j] != inf:\n",
    "                max_r = max(max_r, dp[n - 1][2][j])\n",
    "\n",
    "    print(max_r)"
   ]
  },
  {
   "cell_type": "code",
   "execution_count": null,
   "metadata": {},
   "outputs": [],
   "source": [
    "from itertools import permutations as perm\n",
    "from copy import deepcopy\n",
    "import io, os, sys\n",
    "input = io.BytesIO(os.read(0,os.fstat(0).st_size)).readline\n",
    "\n",
    "inf = float('inf')\n",
    "\n",
    "int t;\n",
    "int n, a, b, c;\n",
    "vector<ll> vec\n",
    "\n",
    "for _ in range(int(input())):\n",
    "    n, a, b, c  = list(map(int, input().split()))\n",
    "    li = list(map(int, input().split()))\n",
    "\n",
    "    prefix = [0] * (n + 1)\n",
    "    cumul = 0\n",
    "    for i in range(n):\n",
    "        cumul += li[i]\n",
    "        prefix[i + 1] = cumul\n",
    "\n",
    "    max_r = -inf\n",
    "    for cur in perm([a, b, c]):\n",
    "        dp = [[[inf] * 4 for _ in range(3)]] # + 절댓값 최대, + 절댓값 최소, - 절댓값 최대, - 절댓값 최소\n",
    "\n",
    "        for i in range(n):\n",
    "            if i >= 1:\n",
    "                dp.append(deepcopy(dp[i - 1]))\n",
    "\n",
    "            if i + 1 - cur[0] >= 0:\n",
    "                s = i - cur[0] + 1\n",
    "                e = i\n",
    "\n",
    "                sv = prefix[e + 1] - prefix[s]\n",
    "\n",
    "                if sv >= 0:\n",
    "                    if dp[i][0][0] == inf:\n",
    "                        dp[i][0][0] = sv\n",
    "                    else:\n",
    "                        dp[i][0][0] = max(dp[i][0][0], sv)\n",
    "\n",
    "                    if dp[i][0][1] == inf:\n",
    "                        dp[i][0][1] = sv\n",
    "                    else:\n",
    "                        dp[i][0][1] = min(dp[i][0][1], sv)\n",
    "                else:\n",
    "                    if dp[i][0][2] == inf:\n",
    "                        dp[i][0][2] = sv\n",
    "                    else:\n",
    "                        dp[i][0][2] = min(dp[i][0][2], sv)\n",
    "\n",
    "                    if dp[i][0][3] == inf:\n",
    "                        dp[i][0][3] = sv\n",
    "                    else:\n",
    "                        dp[i][0][3] = max(dp[i][0][3], sv)\n",
    "\n",
    "            for cur_i in range(1, 3):\n",
    "                if i - cur[cur_i] >= 0:\n",
    "                    s = i - cur[cur_i] + 1\n",
    "                    e = i\n",
    "\n",
    "                    sv = prefix[e + 1] - prefix[s]\n",
    "                    fi = i - cur[cur_i]\n",
    "\n",
    "                    nsvs = []\n",
    "                    for j in range(4):\n",
    "                        if dp[fi][cur_i - 1][j] != inf:\n",
    "                            nsvs.append(dp[fi][cur_i - 1][j] * sv)\n",
    "\n",
    "                    for nsv in nsvs:\n",
    "                        if nsv >= 0:\n",
    "                            if dp[i][cur_i][0] == inf:\n",
    "                                dp[i][cur_i][0] = nsv\n",
    "                            else:\n",
    "                                dp[i][cur_i][0] = max(dp[i][cur_i][0], nsv)\n",
    "\n",
    "                            if dp[i][cur_i][1] == inf:\n",
    "                                dp[i][cur_i][1] = nsv\n",
    "                            else:\n",
    "                                dp[i][cur_i][1] = min(dp[i][cur_i][1], nsv)\n",
    "                        else:\n",
    "                            if dp[i][cur_i][2] == inf:\n",
    "                                dp[i][cur_i][2] = nsv\n",
    "                            else:\n",
    "                                dp[i][cur_i][2] = min(dp[i][cur_i][2], nsv)\n",
    "\n",
    "                            if dp[i][cur_i][3] == inf:\n",
    "                                dp[i][cur_i][3] = nsv\n",
    "                            else:\n",
    "                                dp[i][cur_i][3] = max(dp[i][cur_i][3], nsv)\n",
    "\n",
    "        for j in range(4):\n",
    "            if dp[n - 1][2][j] != inf:\n",
    "                max_r = max(max_r, dp[n - 1][2][j])\n",
    "\n",
    "    print(max_r)"
   ]
  },
  {
   "cell_type": "markdown",
   "metadata": {},
   "source": [
    "https://www.acmicpc.net/problem/1112 진법 변환"
   ]
  },
  {
   "cell_type": "code",
   "execution_count": 48,
   "metadata": {},
   "outputs": [
    {
     "name": "stdout",
     "output_type": "stream",
     "text": [
      "-3 -3\n",
      "10\n"
     ]
    }
   ],
   "source": [
    "x, b = map(int, input().split())\n",
    "\n",
    "if b > 0:\n",
    "    result = []\n",
    "    \n",
    "    is_minused = x < 0\n",
    "    \n",
    "    if is_minused:\n",
    "        x = -x\n",
    "    \n",
    "    while x:\n",
    "        result.append(x % b)\n",
    "        x //= b\n",
    "        \n",
    "    if not result:\n",
    "        result.append(0)\n",
    "        \n",
    "    result = int(''.join(map(str, reversed(result))))\n",
    "\n",
    "    if is_minused:\n",
    "        result = -result\n",
    "    \n",
    "    print(result)\n",
    "else:\n",
    "    result = []\n",
    "    \n",
    "    while x:\n",
    "        quo = x // b\n",
    "        rem = x % b\n",
    "        \n",
    "        x = quo\n",
    "        if rem < 0:\n",
    "            x += 1\n",
    "            rem -= b\n",
    "            \n",
    "        result.append(rem)\n",
    "    \n",
    "    if not result:\n",
    "        result.append(0)\n",
    "    \n",
    "    result = int(''.join(map(str, reversed(result))))\n",
    "    \n",
    "    print(result)"
   ]
  },
  {
   "cell_type": "code",
   "execution_count": 26,
   "metadata": {},
   "outputs": [
    {
     "data": {
      "text/plain": [
       "-2"
      ]
     },
     "execution_count": 26,
     "metadata": {},
     "output_type": "execute_result"
    }
   ],
   "source": [
    "10 % -3"
   ]
  },
  {
   "cell_type": "code",
   "execution_count": 27,
   "metadata": {},
   "outputs": [
    {
     "data": {
      "text/plain": [
       "-4"
      ]
     },
     "execution_count": 27,
     "metadata": {},
     "output_type": "execute_result"
    }
   ],
   "source": [
    "10 // -3"
   ]
  },
  {
   "cell_type": "code",
   "execution_count": 36,
   "metadata": {},
   "outputs": [
    {
     "data": {
      "text/plain": [
       "10"
      ]
     },
     "execution_count": 36,
     "metadata": {},
     "output_type": "execute_result"
    }
   ],
   "source": [
    "(-3 * -4) + -2"
   ]
  },
  {
   "cell_type": "code",
   "execution_count": 38,
   "metadata": {},
   "outputs": [
    {
     "data": {
      "text/plain": [
       "10"
      ]
     },
     "execution_count": 38,
     "metadata": {},
     "output_type": "execute_result"
    }
   ],
   "source": [
    "(-3 * -3) + 1"
   ]
  },
  {
   "cell_type": "markdown",
   "metadata": {},
   "source": [
    "https://www.acmicpc.net/problem/12758 천상용섬"
   ]
  },
  {
   "cell_type": "code",
   "execution_count": 50,
   "metadata": {},
   "outputs": [
    {
     "data": {
      "text/plain": [
       "9000000.0"
      ]
     },
     "execution_count": 50,
     "metadata": {},
     "output_type": "execute_result"
    }
   ],
   "source": [
    "(1000000 ** 0.5) * 300 * 30"
   ]
  },
  {
   "cell_type": "code",
   "execution_count": 57,
   "metadata": {},
   "outputs": [
    {
     "name": "stdout",
     "output_type": "stream",
     "text": [
      "2\n",
      "3\n",
      "2 4 6\n",
      "12\n",
      "2\n",
      "2 3\n",
      "3\n"
     ]
    }
   ],
   "source": [
    "import io, os, sys\n",
    "input = io.BytesIO(os.read(0,os.fstat(0).st_size)).readline\n",
    "\n",
    "mod = 1000000007\n",
    "\n",
    "def get_divisors(num):\n",
    "    divisors = []\n",
    "    for mod in range(1, int(num ** 0.5)):\n",
    "        if num % mod == 0:\n",
    "            divisors.append(mod)\n",
    "            divisors.append(num // mod)\n",
    "            \n",
    "    mod = int(num ** 0.5)\n",
    "    if num % mod == 0:\n",
    "        divisors.append(mod)\n",
    "        if num // mod != mod:\n",
    "            divisors.append(num // mod)\n",
    "            \n",
    "    return sorted(divisors)\n",
    "\n",
    "for _ in range(int(input())):\n",
    "    n = int(input())\n",
    "    li = list(map(int, input().split()))\n",
    "\n",
    "    divisors = []\n",
    "    dp = []\n",
    "    for v in li:\n",
    "        divs = get_divisors(v)\n",
    "        divisors.append(divs)\n",
    "        dp.append({w: 0 for w in divs})\n",
    "\n",
    "    for key in dp[0]:\n",
    "        dp[0][key] = 1\n",
    "\n",
    "    for i in range(1, n):\n",
    "        fdiv_i = 0\n",
    "        fdivs_len = len(divisors[i - 1])\n",
    "\n",
    "        cumul = 0\n",
    "        for div in divisors[i]:\n",
    "            while fdiv_i != fdivs_len and divisors[i - 1][fdiv_i] <= div:\n",
    "                cumul += dp[i - 1][divisors[i - 1][fdiv_i]]\n",
    "                cumul %= mod\n",
    "\n",
    "                fdiv_i += 1\n",
    "\n",
    "            dp[i][div] = cumul\n",
    "\n",
    "    result = sum(dp[n - 1].values()) % mod\n",
    "\n",
    "    print(result)"
   ]
  },
  {
   "cell_type": "markdown",
   "metadata": {},
   "source": [
    "https://www.acmicpc.net/problem/9343 랜덤 걷기"
   ]
  },
  {
   "cell_type": "code",
   "execution_count": null,
   "metadata": {},
   "outputs": [],
   "source": [
    "# 길이가 2n인 올바른 괄호의 쌍의 개수를 구하면 됨"
   ]
  },
  {
   "cell_type": "code",
   "execution_count": 68,
   "metadata": {},
   "outputs": [
    {
     "name": "stdout",
     "output_type": "stream",
     "text": [
      "3\n",
      "1\n",
      "1\n",
      "3\n",
      "5\n",
      "6\n",
      "132\n"
     ]
    }
   ],
   "source": [
    "import io, os, sys\n",
    "input = io.BytesIO(os.read(0,os.fstat(0).st_size)).readline\n",
    "\n",
    "mod = 1000000007\n",
    "\n",
    "dp = [0] * 1000001\n",
    "dp[0] = dp[1] = 1\n",
    "\n",
    "for i in range(2, 1000001):\n",
    "    nr = dp[i - 1] * (2 * i) * (2 * i - 1) % mod\n",
    "    de = i * (i + 1) % mod\n",
    "    \n",
    "    temp = nr * pow(de, mod - 2, mod) % mod\n",
    "    dp[i] = temp\n",
    "    \n",
    "for _ in range(int(input())):\n",
    "    n = int(input())\n",
    "    \n",
    "    print(dp[n])"
   ]
  },
  {
   "cell_type": "markdown",
   "metadata": {},
   "source": [
    "https://www.acmicpc.net/problem/10244 최대공약수들"
   ]
  },
  {
   "cell_type": "code",
   "execution_count": 80,
   "metadata": {},
   "outputs": [
    {
     "name": "stdout",
     "output_type": "stream",
     "text": [
      "3\n",
      "3 6 8\n",
      "5\n"
     ]
    }
   ],
   "source": [
    "from math import gcd\n",
    "import io, os, sys\n",
    "input = io.BytesIO(os.read(0,os.fstat(0).st_size)).readline\n",
    "\n",
    "while True:\n",
    "    n = int(input())\n",
    "    if n == 0:\n",
    "        break\n",
    "    \n",
    "    li = [int(input()) for _ in range(n)]\n",
    "\n",
    "    is_can_makes = [False] * 101\n",
    "    for to_make in range(1, 101):\n",
    "        i = 0\n",
    "        cur = li[i]\n",
    "        while True:\n",
    "            if li[i] % to_make != 0:\n",
    "                i += 1\n",
    "                if i == n:\n",
    "                    break\n",
    "                cur = li[i]\n",
    "            else:\n",
    "                cur = gcd(cur, li[i])\n",
    "\n",
    "                if cur == to_make:\n",
    "                    is_can_makes[to_make] = True\n",
    "                    break\n",
    "                i += 1\n",
    "                if i == n:\n",
    "                    break\n",
    "\n",
    "    result = sum(is_can_makes)\n",
    "\n",
    "    print(result)"
   ]
  },
  {
   "cell_type": "markdown",
   "metadata": {},
   "source": [
    "https://www.acmicpc.net/problem/19577 수학은 재밌어"
   ]
  },
  {
   "cell_type": "code",
   "execution_count": 85,
   "metadata": {},
   "outputs": [
    {
     "name": "stdout",
     "output_type": "stream",
     "text": [
      "20\n",
      "5\n"
     ]
    }
   ],
   "source": [
    "def get_divisors(num):\n",
    "    divisors = []\n",
    "    for mod in range(1, int(num ** 0.5)):\n",
    "        if num % mod == 0:\n",
    "            divisors.append(mod)\n",
    "            divisors.append(num // mod)\n",
    "            \n",
    "    mod = int(num ** 0.5)\n",
    "    if num % mod == 0:\n",
    "        divisors.append(mod)\n",
    "        if num // mod != mod:\n",
    "            divisors.append(num // mod)\n",
    "            \n",
    "    return sorted(divisors)\n",
    "\n",
    "def p_facto(num):\n",
    "    r = set()\n",
    "    for mod in range(2, int(num ** 0.5) + 1):\n",
    "        while num % mod == 0:\n",
    "            num //= mod\n",
    "            r.add(mod)\n",
    "    \n",
    "    if num != 1:\n",
    "        r.add(num)\n",
    "        \n",
    "    return r\n",
    "\n",
    "def ep(num):\n",
    "    cur = num\n",
    "    for pf in p_facto(num):\n",
    "        cur *= (1 - 1 / pf)\n",
    "        \n",
    "    cur = round(cur)\n",
    "    \n",
    "    return cur\n",
    "\n",
    "n = int(input())\n",
    "\n",
    "result = -1\n",
    "for x in get_divisors(n):\n",
    "    target = n // x\n",
    "    \n",
    "    if ep(x) == target:\n",
    "        result = x\n",
    "        break\n",
    "        \n",
    "print(result)"
   ]
  }
 ],
 "metadata": {
  "kernelspec": {
   "display_name": "Python 3",
   "language": "python",
   "name": "python3"
  },
  "language_info": {
   "codemirror_mode": {
    "name": "ipython",
    "version": 3
   },
   "file_extension": ".py",
   "mimetype": "text/x-python",
   "name": "python",
   "nbconvert_exporter": "python",
   "pygments_lexer": "ipython3",
   "version": "3.7.4"
  }
 },
 "nbformat": 4,
 "nbformat_minor": 2
}
