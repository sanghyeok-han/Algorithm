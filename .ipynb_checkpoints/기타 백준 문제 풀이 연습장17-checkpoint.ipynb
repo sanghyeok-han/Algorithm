{
 "cells": [
  {
   "cell_type": "markdown",
   "metadata": {},
   "source": [
    "D"
   ]
  },
  {
   "cell_type": "code",
   "execution_count": 3,
   "metadata": {},
   "outputs": [
    {
     "name": "stdout",
     "output_type": "stream",
     "text": [
      "5\n",
      "0 2 4\n",
      "1 6 1\n",
      "2 4 4\n",
      "3 8 10\n",
      "4 5 2\n",
      "11\n"
     ]
    }
   ],
   "source": [
    "from collections import defaultdict as dd\n",
    "import io, os, sys\n",
    "# input = io.BytesIO(os.read(0,os.fstat(0).st_size)).readline\n",
    "\n",
    "n = int(input())\n",
    "li = [list(map(int, input().split())) for _ in range(n)]\n",
    "\n",
    "d = dd(int)\n",
    "for x, t, c in li:\n",
    "    d[x - t] += c\n",
    "    \n",
    "r = max(d.values())\n",
    "\n",
    "print(r)"
   ]
  },
  {
   "cell_type": "markdown",
   "metadata": {},
   "source": [
    "E"
   ]
  },
  {
   "cell_type": "code",
   "execution_count": 4,
   "metadata": {},
   "outputs": [
    {
     "name": "stdout",
     "output_type": "stream",
     "text": [
      "2\n",
      "0 0 10\n",
      "1 0 3\n"
     ]
    },
    {
     "data": {
      "text/plain": [
       "[[0, 0, 10, 0], [1, 0, 3, -1]]"
      ]
     },
     "execution_count": 4,
     "metadata": {},
     "output_type": "execute_result"
    }
   ],
   "source": [
    "import io, os, sys\n",
    "# input = io.BytesIO(os.read(0,os.fstat(0).st_size)).readline\n",
    "\n",
    "n = int(input())\n",
    "li = [list(map(int, input().split())) for _ in range(n)]\n",
    "\n",
    "li = [v + [v[1] - v[0]] for v in li]\n",
    "\n",
    "li.sort(key=lambda x: x[0])\n",
    "\n",
    "for i in range(n):\n",
    "    c, t_m_x = li[2], li[3]\n",
    "\n",
    "    \n",
    "nli = []\n",
    "for i in range(1, len(li)):\n",
    "    index = bisect_left(nli, li[i])\n",
    "    \n",
    "    if index == len(nli):\n",
    "        nli.append(li[i])\n",
    "    else:\n",
    "        nli[index] = li[i]\n",
    "        \n",
    "print(len(nli))"
   ]
  },
  {
   "cell_type": "code",
   "execution_count": 68,
   "metadata": {},
   "outputs": [
    {
     "name": "stdout",
     "output_type": "stream",
     "text": [
      "18\n"
     ]
    }
   ],
   "source": [
    "import io, os, sys\n",
    "input = io.BytesIO(os.read(0,os.fstat(0).st_size)).readline\n",
    "\n",
    "inf = float('inf')\n",
    "\n",
    "class SegmentTree:\n",
    "    def __init__(self, data, default=10**15, func=lambda a, b: max(a,b)):\n",
    "        \"\"\"initialize the segment tree with data\"\"\"\n",
    "        self._default = default\n",
    "        self._func = func\n",
    "        self._len = len(data)\n",
    "        self._size = _size = 1 << (self._len - 1).bit_length()\n",
    " \n",
    "        self.data = [default] * (2 * _size)\n",
    "        self.data[_size:_size + self._len] = data\n",
    "        for i in reversed(range(_size)):\n",
    "            self.data[i] = func(self.data[i + i], self.data[i + i + 1])\n",
    " \n",
    "    def __delitem__(self, idx):\n",
    "        self[idx] = self._default\n",
    " \n",
    "    def __getitem__(self, idx):\n",
    "        return self.data[idx + self._size]\n",
    " \n",
    "    def __setitem__(self, idx, value):\n",
    "        idx += self._size\n",
    "        self.data[idx] = value\n",
    "        idx >>= 1\n",
    "        while idx:\n",
    "            self.data[idx] = self._func(self.data[2 * idx], self.data[2 * idx + 1])\n",
    "            idx >>= 1\n",
    " \n",
    "    def __len__(self):\n",
    "        return self._len\n",
    " \n",
    "    def query(self, start, stop):\n",
    "        if start == stop:\n",
    "            return self.__getitem__(start)\n",
    "        stop += 1\n",
    "        start += self._size\n",
    "        stop += self._size\n",
    " \n",
    "        res = self._default\n",
    "        while start < stop:\n",
    "            if start & 1:\n",
    "                res = self._func(res, self.data[start])\n",
    "                start += 1\n",
    "            if stop & 1:\n",
    "                stop -= 1\n",
    "                res = self._func(res, self.data[stop])\n",
    "            start >>= 1\n",
    "            stop >>= 1\n",
    "        return res\n",
    " \n",
    "    def __repr__(self):\n",
    "        return \"SegmentTree({0})\".format(self.data)\n",
    "    \n",
    "func = lambda a, b: max(a, b)\n",
    "\n",
    "n = int(input())\n",
    "li = [list(map(int, input().split())) for _ in range(n)]\n",
    "\n",
    "li = [v + [v[1] - v[0]] for v in li]\n",
    "li.sort(key=lambda x: x[0])\n",
    "\n",
    "diffs = set()\n",
    "for i in range(n):\n",
    "    diffs.add(li[i][3])\n",
    "    \n",
    "to_origin = sorted(diffs)\n",
    "to_reduce = {to_origin[i]: i for i in range(len(diffs))}\n",
    "\n",
    "segtree = SegmentTree([0] * n, -inf, func=func)\n",
    "for i in range(n):\n",
    "    c, diff = li[i][2], li[i][3]\n",
    "    \n",
    "    reduced_diff = to_reduce[diff]\n",
    "    max_v = segtree.query(0, reduced_diff)\n",
    "    \n",
    "    nv = max_v + c\n",
    "    segtree[reduced_diff] = nv\n",
    "    \n",
    "result = max(segtree)\n",
    "\n",
    "print(result)"
   ]
  },
  {
   "cell_type": "code",
   "execution_count": null,
   "metadata": {},
   "outputs": [],
   "source": [
    "to"
   ]
  },
  {
   "cell_type": "code",
   "execution_count": 64,
   "metadata": {},
   "outputs": [
    {
     "data": {
      "text/plain": [
       "{0: True}"
      ]
     },
     "execution_count": 64,
     "metadata": {},
     "output_type": "execute_result"
    }
   ],
   "source": [
    "to_reduce = {to_origin[i]: i for i in range(n)}\n",
    "to_reduce"
   ]
  },
  {
   "cell_type": "code",
   "execution_count": 62,
   "metadata": {},
   "outputs": [
    {
     "data": {
      "text/plain": [
       "{0: True}"
      ]
     },
     "execution_count": 62,
     "metadata": {},
     "output_type": "execute_result"
    }
   ],
   "source": [
    "to_reduce"
   ]
  },
  {
   "cell_type": "code",
   "execution_count": 61,
   "metadata": {},
   "outputs": [
    {
     "data": {
      "text/plain": [
       "[-1, 0]"
      ]
     },
     "execution_count": 61,
     "metadata": {},
     "output_type": "execute_result"
    }
   ],
   "source": [
    "to_origin"
   ]
  },
  {
   "cell_type": "markdown",
   "metadata": {},
   "source": [
    "A"
   ]
  },
  {
   "cell_type": "code",
   "execution_count": 7,
   "metadata": {},
   "outputs": [
    {
     "name": "stdout",
     "output_type": "stream",
     "text": [
      "6\n",
      "bigdatabigdatabigdatasecuritysecuritysecurity\n",
      "bigdata? security!\n"
     ]
    }
   ],
   "source": [
    "n = int(input())\n",
    "s = input()\n",
    "\n",
    "cb = s.count('bigdata')\n",
    "cs = s.count('security')\n",
    "\n",
    "if cb > cs:\n",
    "    print('bigdata?')\n",
    "elif cb < cs:\n",
    "    print('security!')\n",
    "else:\n",
    "    print('bigdata? security!')"
   ]
  },
  {
   "cell_type": "markdown",
   "metadata": {},
   "source": [
    "B"
   ]
  },
  {
   "cell_type": "code",
   "execution_count": 16,
   "metadata": {},
   "outputs": [
    {
     "name": "stdout",
     "output_type": "stream",
     "text": [
      "4\n",
      "sef sfs\n",
      "afsf efw\n",
      "wefewfga sfs\n",
      "asdf fef\n",
      "afsf efw\n",
      "asdf fef\n",
      "sef sfs\n",
      "wefewfga sfs\n"
     ]
    }
   ],
   "source": [
    "import functools\n",
    "import sys\n",
    "input = lambda: sys.stdin.readline().rstrip()\n",
    "\n",
    "def compare(u, v):\n",
    "    ua, ub = u\n",
    "    va, vb = v\n",
    "    \n",
    "    ua_l = len(ua)\n",
    "    ub_l = len(ub)\n",
    "    va_l = len(va)\n",
    "    vb_l = len(vb)\n",
    "    \n",
    "    for i in range(min(ua_l, va_l)):\n",
    "        if ua[i] < va[i]:\n",
    "            return -1\n",
    "        if ua[i] > va[i]:\n",
    "            return 1\n",
    "    if ua_l < va_l:\n",
    "        return -1\n",
    "    if ua_l > va_l:\n",
    "        return 1\n",
    "    \n",
    "    for i in range(min(ub_l, vb_l)):\n",
    "        if ub[i] > vb[i]:\n",
    "            return -1\n",
    "        if ub[i] < vb[i]:\n",
    "            return 1\n",
    "    if ub_l > vb_l:\n",
    "        return -1\n",
    "    if ub_l < vb_l:\n",
    "        return 1\n",
    "    \n",
    "    return -1\n",
    "\n",
    "n = int(input())\n",
    "li = [list(input().split()) for _ in range(n)]\n",
    "\n",
    "li.sort(key=functools.cmp_to_key(compare))\n",
    "\n",
    "for v in li:\n",
    "    print(*v)"
   ]
  },
  {
   "cell_type": "markdown",
   "metadata": {},
   "source": [
    "C"
   ]
  },
  {
   "cell_type": "code",
   "execution_count": 52,
   "metadata": {},
   "outputs": [
    {
     "name": "stdout",
     "output_type": "stream",
     "text": [
      "BIGDATASECURITY\n",
      "UNVYMMFHZONWXOK\n",
      "SEOUL\n"
     ]
    }
   ],
   "source": [
    "def get_divisors(num):\n",
    "    divisors = set()\n",
    "    for mod in range(1, int(num ** 0.5) + 1):\n",
    "        if num % mod == 0:\n",
    "            divisors.add(mod)\n",
    "            divisors.add(num // mod)\n",
    "            \n",
    "    return sorted(divisors)\n",
    "\n",
    "a = input()\n",
    "b = input()\n",
    "\n",
    "n = len(a)\n",
    "\n",
    "li = [0] * n\n",
    "for i in range(n):\n",
    "    diff = ord(b[i]) - ord(a[i])\n",
    "    \n",
    "    if diff < 0:\n",
    "        diff += 26\n",
    "        \n",
    "    li[i] = diff\n",
    "    \n",
    "r = 1\n",
    "for cand in get_divisors(n):\n",
    "    if li[:cand] * (n // cand) == li:\n",
    "        r = cand\n",
    "        break\n",
    "        \n",
    "result = [0] * r\n",
    "for i in range(r):\n",
    "    temp = li[i] + 64\n",
    "    if chr(temp) == '@':\n",
    "        result[i] = 'Z'\n",
    "    else:\n",
    "        result[i] = chr(temp)\n",
    "    \n",
    "print(''.join(result))"
   ]
  },
  {
   "cell_type": "markdown",
   "metadata": {},
   "source": [
    "https://www.acmicpc.net/problem/14554 The Other Way"
   ]
  },
  {
   "cell_type": "code",
   "execution_count": 103,
   "metadata": {},
   "outputs": [
    {
     "name": "stdout",
     "output_type": "stream",
     "text": [
      "3\n"
     ]
    }
   ],
   "source": [
    "from heapq import heappush, heappop\n",
    "import io, os, sys\n",
    "sys.setrecursionlimit(110000)\n",
    "input = io.BytesIO(os.read(0,os.fstat(0).st_size)).readline\n",
    "\n",
    "mod = int(1e9) + 9\n",
    "inf = float('inf')\n",
    "\n",
    "def dfs(cur):\n",
    "    total = 0\n",
    "    \n",
    "    for fcur in from_[cur]:\n",
    "        if dp[fcur] == -1:\n",
    "            dfs(fcur)\n",
    "            \n",
    "        total += dp[fcur]\n",
    "        total %= mod\n",
    "        \n",
    "    dp[cur] = total\n",
    "\n",
    "n, m, s, e = map(int, input().split())\n",
    "\n",
    "li = [[] for _ in range(n + 1)]\n",
    "for _ in range(m):\n",
    "    a, b, c = map(int, input().split())\n",
    "    \n",
    "    li[a].append((b, c))\n",
    "    li[b].append((a, c))\n",
    "\n",
    "dists = [inf] * (n + 1)\n",
    "dists[s] = 0\n",
    "\n",
    "from_ = [[] for _ in range(n + 1)]\n",
    "\n",
    "heap = []\n",
    "heappush(heap, (0, s))\n",
    "\n",
    "while heap:\n",
    "    dist, value = heappop(heap)\n",
    "    \n",
    "    if dist > dists[value]:\n",
    "        continue\n",
    "        \n",
    "    for v, d in li[value]:\n",
    "        ndist = dist + d\n",
    "        if ndist < dists[v]:\n",
    "            dists[v] = ndist\n",
    "            from_[v] = [value]\n",
    "            heappush(heap, (ndist, v))\n",
    "        elif ndist == dists[v]:\n",
    "            from_[v].append(value)\n",
    "    \n",
    "dp = [-1] * (n + 1)\n",
    "dp[s] = 1\n",
    "\n",
    "dfs(e)\n",
    "\n",
    "result = dp[e]\n",
    "\n",
    "print(result)"
   ]
  },
  {
   "cell_type": "markdown",
   "metadata": {},
   "source": [
    "https://www.acmicpc.net/problem/10654 Cow Jog"
   ]
  },
  {
   "cell_type": "code",
   "execution_count": 104,
   "metadata": {},
   "outputs": [
    {
     "name": "stdout",
     "output_type": "stream",
     "text": [
      "5 3\n",
      "0 1\n",
      "1 2\n",
      "2 3\n",
      "3 2\n",
      "6 1\n",
      "3\n"
     ]
    }
   ],
   "source": [
    "import io, os, sys\n",
    "input = io.BytesIO(os.read(0,os.fstat(0).st_size)).readline\n",
    "\n",
    "inf = float('inf')\n",
    "\n",
    "n, t = map(int, input().split())\n",
    "li = [list(map(int, input().split())) for _ in range(n)]\n",
    "\n",
    "group_c = 0\n",
    "cur_min = inf\n",
    "for i in range(n - 1, -1, -1):\n",
    "    x, sp = li[i]\n",
    "    \n",
    "    np = x + sp * t\n",
    "    if np < cur_min:\n",
    "        cur_min = np\n",
    "        group_c += 1\n",
    "        \n",
    "print(group_c)"
   ]
  },
  {
   "cell_type": "markdown",
   "metadata": {},
   "source": [
    "https://www.acmicpc.net/problem/16934 게임 닉네임"
   ]
  },
  {
   "cell_type": "code",
   "execution_count": 106,
   "metadata": {},
   "outputs": [
    {
     "name": "stdout",
     "output_type": "stream",
     "text": [
      "b\n",
      "s\n",
      "bak\n",
      "be\n",
      "baekjoon2\n"
     ]
    }
   ],
   "source": [
    "from collections import Counter\n",
    "import sys\n",
    "input = lambda: sys.stdin.readline().rstrip()\n",
    "\n",
    "class Node():\n",
    "    def __init__(self, value):\n",
    "        self.value = value\n",
    "        self.children = {}\n",
    "        \n",
    "n = int(input())\n",
    "li = [input() for _ in range(n)]\n",
    "\n",
    "ct = Counter()\n",
    "root = Node('')\n",
    "for i in range(n):\n",
    "    s = li[i]\n",
    "    sn = len(s)\n",
    "    \n",
    "    ct[s] += 1\n",
    "    \n",
    "    result = ''\n",
    "    cur = root\n",
    "    for j in range(sn):\n",
    "        if s[j] in cur.children:\n",
    "            cur = cur.children[s[j]]\n",
    "        else:\n",
    "            if not result:\n",
    "                result = s[:j + 1]\n",
    "            cur.children[s[j]] = Node(s[j])\n",
    "            cur = cur.children[s[j]]\n",
    "            \n",
    "    if result:\n",
    "        print(result)\n",
    "    else:\n",
    "        if ct[s] == 1:\n",
    "            print(s)\n",
    "        else:\n",
    "            print(s + str(ct[s]))"
   ]
  },
  {
   "cell_type": "code",
   "execution_count": 5,
   "metadata": {},
   "outputs": [
    {
     "name": "stdout",
     "output_type": "stream",
     "text": [
      "100\n",
      "0\n",
      "100\n"
     ]
    }
   ],
   "source": [
    "import sys\n",
    "input = lambda: sys.stdin.readline().rstrip()\n",
    "\n",
    "n = int(input())\n",
    "m = int(input())\n",
    "\n",
    "li = []\n",
    "for i in range(m):\n",
    "    _from, _to = map(int, input().split())\n",
    "    li.append((_from, _to))\n",
    "\n",
    "li.sort()\n",
    "\n",
    "current_to = 1\n",
    "count = 1\n",
    "for _from, _to in li:\n",
    "    if _from <= current_to:\n",
    "        current_to = max(current_to, _to)\n",
    "    else:\n",
    "        count += _from - current_to\n",
    "        current_to = _to\n",
    "count += n - current_to\n",
    "\n",
    "print(count)"
   ]
  },
  {
   "cell_type": "markdown",
   "metadata": {},
   "source": [
    "https://www.acmicpc.net/problem/26712 Palindrom"
   ]
  },
  {
   "cell_type": "code",
   "execution_count": null,
   "metadata": {},
   "outputs": [],
   "source": [
    "2.38 하나만 주어진 문자열에서 팰린드롬으로 만들면 나머지 빈 부분도 자연스럽게 팰린드롬이 됨"
   ]
  },
  {
   "cell_type": "code",
   "execution_count": 11,
   "metadata": {},
   "outputs": [
    {
     "name": "stdout",
     "output_type": "stream",
     "text": [
      "abbbba\n",
      "0\n"
     ]
    }
   ],
   "source": [
    "s = input()\n",
    "n = len(s)\n",
    "\n",
    "ca = s.count('a')\n",
    "cb = n - ca\n",
    "\n",
    "if n % 2 == 0 and ca % 2 == 1:\n",
    "    print(-1)\n",
    "else:\n",
    "    if cb % 2 == 1:\n",
    "        cri = 'b'\n",
    "        c_cri = cb\n",
    "    else:\n",
    "        cri = 'a'\n",
    "        c_cri = ca\n",
    "        \n",
    "    indices = []\n",
    "    for i in range(n):\n",
    "        if s[i] == cri:\n",
    "            indices.append(i)\n",
    "            \n",
    "    total = 0\n",
    "    for i in range(c_cri // 2):\n",
    "        d1 = indices[i]\n",
    "        d2 = n - 1 - indices[c_cri - 1 - i]\n",
    "        \n",
    "        total += abs(d1 - d2)\n",
    "        \n",
    "    if n % 2 == 1:\n",
    "        from_ = indices[c_cri // 2]\n",
    "        to_ = n // 2\n",
    "        \n",
    "        total += abs(from_ - to_)\n",
    "        \n",
    "    print(total)"
   ]
  },
  {
   "cell_type": "markdown",
   "metadata": {},
   "source": [
    "https://www.acmicpc.net/contest/problem/921/1 A"
   ]
  },
  {
   "cell_type": "code",
   "execution_count": null,
   "metadata": {},
   "outputs": [],
   "source": [
    "s = input()\n",
    "\n",
    "print(s.count(s[0]))"
   ]
  },
  {
   "cell_type": "markdown",
   "metadata": {},
   "source": [
    "B"
   ]
  },
  {
   "cell_type": "code",
   "execution_count": 48,
   "metadata": {},
   "outputs": [
    {
     "name": "stdout",
     "output_type": "stream",
     "text": [
      "16\n",
      "7 2 9 4\n",
      "8 0\n"
     ]
    }
   ],
   "source": [
    "n = int(input())\n",
    "a, pa, b, pb = map(int, input().split())\n",
    "\n",
    "max_v = -1\n",
    "rca = rcb = 0\n",
    "\n",
    "for ca in range(n + 1):\n",
    "    total_pa = ca * pa\n",
    "    if total_pa > n:\n",
    "        break\n",
    "        \n",
    "    nn = n - total_pa\n",
    "    \n",
    "    cb = nn // pb\n",
    "    \n",
    "    v = ca * a + cb * b\n",
    "    if v > max_v:\n",
    "        max_v = v\n",
    "        rca, rcb = ca, cb\n",
    "        \n",
    "print(rca, rcb)"
   ]
  },
  {
   "cell_type": "code",
   "execution_count": null,
   "metadata": {},
   "outputs": [],
   "source": [
    "import sys\n",
    "input = lambda: sys.stdin.readline().rstrip()\n",
    "\n",
    "n = int(input())\n",
    "\n",
    "d = {}\n",
    "for _ in range(n):\n",
    "    s, c = input().split()\n",
    "    c = int(c)\n",
    "    \n",
    "    if s not in d:\n",
    "        d[s] = c\n",
    "    else:\n",
    "        d[s] += c\n",
    "    \n",
    "li = list(d.values())\n",
    "li_len = len(li)\n",
    "ip = False\n",
    "for i in range(li_len):\n",
    "    for j in range(i + 1, li_len):\n",
    "        if int(li[i] * 1.618) == li[j] or int(li[j] * 1.618) == li[i]:\n",
    "            ip = True\n",
    "            \n",
    "if ip:\n",
    "    print('Delicious!')\n",
    "else:\n",
    "    print('Not Delicious...')"
   ]
  },
  {
   "cell_type": "markdown",
   "metadata": {},
   "source": [
    "https://www.acmicpc.net/contest/problem/921/4 D"
   ]
  },
  {
   "cell_type": "code",
   "execution_count": 57,
   "metadata": {},
   "outputs": [
    {
     "name": "stdout",
     "output_type": "stream",
     "text": [
      "3\n",
      "7 ^\n",
      "5 v\n",
      "Paradox!\n",
      "2\n"
     ]
    }
   ],
   "source": [
    "import sys\n",
    "input = lambda: sys.stdin.readline().rstrip()\n",
    "\n",
    "s = -int(1e18)\n",
    "e = int(1e18)\n",
    "\n",
    "r_status = 'Hmm...'\n",
    "r_num = -1\n",
    "for num in range(int(input())):\n",
    "    x, status = input().split()\n",
    "    x = int(x)\n",
    "    \n",
    "    if status == '^':\n",
    "        s = max(s, x + 1)\n",
    "    else:\n",
    "        e = min(e, x - 1)\n",
    "        \n",
    "    if s > e:\n",
    "        r_status = 'Paradox!'\n",
    "        r_num = num + 1\n",
    "        break\n",
    "    \n",
    "    if s == e and r_status == 'Hmm...':\n",
    "        r_status = 'I got it!'\n",
    "        r_num = num + 1\n",
    "        \n",
    "print(r_status)\n",
    "if r_status != 'Hmm...':\n",
    "    print(r_num)"
   ]
  },
  {
   "cell_type": "markdown",
   "metadata": {},
   "source": [
    "E"
   ]
  },
  {
   "cell_type": "code",
   "execution_count": 78,
   "metadata": {},
   "outputs": [
    {
     "name": "stdout",
     "output_type": "stream",
     "text": [
      "2 2\n",
      "AA\n",
      "BB\n",
      "dd\n"
     ]
    }
   ],
   "source": [
    "import sys\n",
    "# input = lambda: sys.stdin.readline().rstrip()\n",
    "\n",
    "def check():\n",
    "    for i in range(n):\n",
    "        for j in range(m):\n",
    "            if vt[i][j]:\n",
    "                continue\n",
    "\n",
    "            cri = li[i][j]\n",
    "\n",
    "            end_i = n - 1\n",
    "            end_j = m - 1\n",
    "            for ni in range(i, n):\n",
    "                if j - 1 >= 0 and li[i][j - 1] == cri:\n",
    "                    return False\n",
    "                \n",
    "                if li[ni][j] != cri:\n",
    "                    end_i = ni - 1\n",
    "                    break\n",
    "\n",
    "            for nj in range(j, m):\n",
    "                if i - 1 >= 0 and li[i - 1][j] == cri:\n",
    "                    return False\n",
    "                \n",
    "                if li[i][nj] != cri:\n",
    "                    end_j = nj - 1\n",
    "                    break\n",
    "\n",
    "            for ni in range(i, end_i + 1):\n",
    "                for nj in range(j, end_j + 1):\n",
    "                    if vt[ni][nj] or li[ni][nj] != cri:\n",
    "                        return False\n",
    "                    vt[ni][nj] = True\n",
    "    return True\n",
    "\n",
    "n, m = map(int, input().split())\n",
    "li = [input() for _ in range(n)]\n",
    "\n",
    "vt = [[False] * m for _ in range(n)]\n",
    "ip = check()\n",
    "\n",
    "if ip:\n",
    "    print('dd')\n",
    "else:\n",
    "    print('BaboBabo')"
   ]
  },
  {
   "cell_type": "markdown",
   "metadata": {},
   "source": [
    "https://www.acmicpc.net/problem/26599 용 조련사 룰루"
   ]
  },
  {
   "cell_type": "code",
   "execution_count": 9,
   "metadata": {},
   "outputs": [
    {
     "name": "stdout",
     "output_type": "stream",
     "text": [
      "3 5\n",
      "1 11 10\n",
      "NO\n"
     ]
    }
   ],
   "source": [
    "n, m = map(int, input().split())\n",
    "li = list(map(int, input().split()))\n",
    "\n",
    "nli = [(li[i], i + 1) for i in range(n)]\n",
    "nli.sort(key=lambda x: x[0])\n",
    "\n",
    "if n == 1:\n",
    "    print('YES')\n",
    "    print(1)\n",
    "elif n == 2:\n",
    "    print('YES')\n",
    "    print(1, 2)\n",
    "elif n == 3:\n",
    "    cont_c = 0\n",
    "    for i in range(n - 1, 0, -1):\n",
    "        if nli[i - 1][0] + m < nli[i][0]:\n",
    "            break\n",
    "        else:\n",
    "            cont_c += 1\n",
    "            \n",
    "    if cont_c == 2:\n",
    "        print('YES')\n",
    "        for i in range(n):\n",
    "            print(nli[i][1])\n",
    "    else:\n",
    "        print('NO')\n",
    "else:\n",
    "    cont_c = 0\n",
    "    for i in range(n - 1, 0, -1):\n",
    "        if nli[i - 1][0] + m < nli[i][0]:\n",
    "            break\n",
    "        else:\n",
    "            cont_c += 1\n",
    "    \n",
    "    if cont_c >= 3:\n",
    "        print('YES')\n",
    "        \n",
    "        result = [nli[n - 1][1], nli[n - 2][1]]\n",
    "        for i in range(n - 5, -1, -1):\n",
    "            result.append(nli[i][1])\n",
    "        result.extend([nli[n - 3][1], nli[n - 4][1]])\n",
    "        \n",
    "        print(*result)\n",
    "    else:\n",
    "        print('NO')"
   ]
  },
  {
   "cell_type": "markdown",
   "metadata": {},
   "source": [
    "https://www.acmicpc.net/contest/problem/919/1 A"
   ]
  },
  {
   "cell_type": "code",
   "execution_count": 4,
   "metadata": {},
   "outputs": [
    {
     "name": "stdout",
     "output_type": "stream",
     "text": [
      "-7\n",
      "-9 -6 -7 -8\n",
      "No\n"
     ]
    }
   ],
   "source": [
    "k = int(input())\n",
    "a, b, c, d = list(map(int, input().split()))\n",
    "\n",
    "if a * k + b == c * k + d:\n",
    "    print('Yes', a * k + b)\n",
    "else:\n",
    "    print('No')"
   ]
  },
  {
   "cell_type": "markdown",
   "metadata": {},
   "source": [
    "https://www.acmicpc.net/contest/problem/919/7 G"
   ]
  },
  {
   "cell_type": "code",
   "execution_count": 38,
   "metadata": {},
   "outputs": [
    {
     "data": {
      "text/plain": [
       "[505, 488, 491, 546, 507, 472, 457, 508, 521, 505, 0]"
      ]
     },
     "execution_count": 38,
     "metadata": {},
     "output_type": "execute_result"
    }
   ],
   "source": [
    "with open('sample-distrib.in', 'r') as file:\n",
    "    data = file.read().rstrip()\n",
    "    \n",
    "data = data.split('\\n')\n",
    "data = list(map(get_value, data))\n",
    "\n",
    "ct = [0] * 11\n",
    "\n",
    "for v in data:\n",
    "    ct[int(v)] += 1\n",
    "    \n",
    "ct"
   ]
  },
  {
   "cell_type": "code",
   "execution_count": 39,
   "metadata": {},
   "outputs": [
    {
     "ename": "SyntaxError",
     "evalue": "invalid syntax (<ipython-input-39-d567fc0c03fd>, line 22)",
     "output_type": "error",
     "traceback": [
      "\u001b[1;36m  File \u001b[1;32m\"<ipython-input-39-d567fc0c03fd>\"\u001b[1;36m, line \u001b[1;32m22\u001b[0m\n\u001b[1;33m    if (c4 + c5) - (c0 + c9) < 400\u001b[0m\n\u001b[1;37m                                  ^\u001b[0m\n\u001b[1;31mSyntaxError\u001b[0m\u001b[1;31m:\u001b[0m invalid syntax\n"
     ]
    }
   ],
   "source": [
    "import sys\n",
    "input = lambda: sys.stdin.readline().rstrip()\n",
    "\n",
    "get_value = lambda x: float(x) * 10\n",
    "for _ in range(100):\n",
    "    li = [get_value(input()) for _ in range(5000)] \n",
    "    \n",
    "    c0 = 0\n",
    "    c9 = 0\n",
    "    c4 = 0\n",
    "    c5 = 0\n",
    "    for v in li:\n",
    "        if v < 1:\n",
    "            c0 += 1\n",
    "        elif v >= 9:\n",
    "            c9 += 1\n",
    "        elif 4 <= v < 5:\n",
    "            c4 += 1\n",
    "        elif 5 <= v < 6:\n",
    "            c5 += 1\n",
    "\n",
    "    if c0 + c9 >= 800:\n",
    "        print('A')\n",
    "    else:\n",
    "        print('B') "
   ]
  },
  {
   "cell_type": "code",
   "execution_count": 32,
   "metadata": {},
   "outputs": [],
   "source": [
    "\n",
    "n = 5000\n",
    "\n",
    "get_value = lambda x: float(x) * 10\n",
    "li = [get_value(input()) for _ in range(n)]\n",
    "\n",
    "c0 = 0\n",
    "c9 = 0\n",
    "c4 = 0\n",
    "c5 = 0\n",
    "for v in li:\n",
    "    if v < 1:\n",
    "        c0 += 1\n",
    "    elif v >= 9:\n",
    "        c9 += 1\n",
    "    elif 4 <= v < 5:\n",
    "        c4 += 1\n",
    "    elif 5 <= v < 6:\n",
    "        c5 += 1\n",
    "        \n",
    "if c0 + c9 >= 800:\n",
    "    print('A')\n",
    "else:\n",
    "    print('B')"
   ]
  },
  {
   "cell_type": "code",
   "execution_count": 35,
   "metadata": {},
   "outputs": [
    {
     "name": "stdout",
     "output_type": "stream",
     "text": [
      "505\n",
      "A\n"
     ]
    }
   ],
   "source": [
    "c = 0\n",
    "for v in data:\n",
    "    if v < 1:\n",
    "        c += 1\n",
    "        \n",
    "if c >= 400:\n",
    "    print('A')\n",
    "else:\n",
    "    print('B')"
   ]
  },
  {
   "cell_type": "markdown",
   "metadata": {},
   "source": [
    "https://www.acmicpc.net/problem/20973 Uddered but not Herd"
   ]
  },
  {
   "cell_type": "code",
   "execution_count": 5,
   "metadata": {},
   "outputs": [
    {
     "name": "stdout",
     "output_type": "stream",
     "text": [
      "abcdefghijklmnopqrstuvwxyz\n",
      "mood\n",
      "2\n"
     ]
    }
   ],
   "source": [
    "seq = input()\n",
    "s = input()\n",
    "\n",
    "li = []\n",
    "for v in s:\n",
    "    li.append(seq.find(v))\n",
    "\n",
    "total = 1\n",
    "fv = li[0]\n",
    "for i in range(1, len(s)):\n",
    "    if li[i] <= fv:\n",
    "        total += 1\n",
    "    fv = li[i]\n",
    "    \n",
    "print(total)"
   ]
  },
  {
   "cell_type": "markdown",
   "metadata": {},
   "source": [
    "https://www.acmicpc.net/problem/20974 Even More Odd Photos"
   ]
  },
  {
   "cell_type": "code",
   "execution_count": null,
   "metadata": {},
   "outputs": [],
   "source": [
    "even, odd, even, odd"
   ]
  },
  {
   "cell_type": "code",
   "execution_count": null,
   "metadata": {},
   "outputs": [],
   "source": [
    "odd 7개\n",
    "even 4개\n",
    "\n"
   ]
  },
  {
   "cell_type": "code",
   "execution_count": null,
   "metadata": {},
   "outputs": [],
   "source": [
    "odd + even은 odd\n",
    "\n",
    "odd + odd는 even\n",
    "even + even은 even"
   ]
  },
  {
   "cell_type": "code",
   "execution_count": null,
   "metadata": {},
   "outputs": [],
   "source": [
    "만약 even이 부족하다면 odd + odd를 대신 사용 가능"
   ]
  },
  {
   "cell_type": "code",
   "execution_count": 10,
   "metadata": {},
   "outputs": [
    {
     "name": "stdout",
     "output_type": "stream",
     "text": [
      "7\n",
      "1 3 5 7 9 11 13\n",
      "3\n"
     ]
    }
   ],
   "source": [
    "n = int(input())\n",
    "li = list(map(int, input().split()))\n",
    "\n",
    "c0 = 0\n",
    "c1 = 0\n",
    "for v in li:\n",
    "    if v % 2 == 0:\n",
    "        c0 += 1\n",
    "    else:\n",
    "        c1 += 1\n",
    "\n",
    "total = 0\n",
    "while True:\n",
    "    cur_to_match = 0\n",
    "    if c0 >= 1:\n",
    "        c0 -= 1\n",
    "        total += 1\n",
    "    elif c1 >= 2:\n",
    "        c1 -= 2\n",
    "        total += 1\n",
    "    else:\n",
    "        break\n",
    "    \n",
    "    cur_to_match = 1\n",
    "    if c1 >= 1:\n",
    "        c1 -= 1\n",
    "        total += 1\n",
    "    else:\n",
    "        break\n",
    "\n",
    "if c1:\n",
    "    total -= 1\n",
    "    \n",
    "print(total)"
   ]
  },
  {
   "cell_type": "markdown",
   "metadata": {},
   "source": [
    "https://www.acmicpc.net/problem/20970 Dance Mooves"
   ]
  },
  {
   "cell_type": "code",
   "execution_count": 30,
   "metadata": {},
   "outputs": [
    {
     "name": "stdout",
     "output_type": "stream",
     "text": [
      "5 4\n",
      "1 3\n",
      "1 2\n",
      "2 3\n",
      "2 4\n",
      "4\n",
      "4\n",
      "3\n",
      "4\n",
      "1\n"
     ]
    }
   ],
   "source": [
    "import io, os, sys\n",
    "input = io.BytesIO(os.read(0,os.fstat(0).st_size)).readline\n",
    "print = sys.stdout.write\n",
    "\n",
    "n, k = map(int, input().split())\n",
    "moves = [list(map(int, input().split())) for _ in range(k)]\n",
    "\n",
    "cow_to_loc = list(range(n + 1))\n",
    "loc_to_cow = list(range(n + 1))\n",
    "vt_locs = [{i} for i in range(n + 1)]\n",
    "for loc1, loc2 in moves:\n",
    "    a = loc_to_cow[loc1]\n",
    "    b = loc_to_cow[loc2]\n",
    "    \n",
    "    cow_to_loc[a] = loc2\n",
    "    cow_to_loc[b] = loc1\n",
    "    \n",
    "    loc_to_cow[loc2] = a\n",
    "    loc_to_cow[loc1] = b\n",
    "    \n",
    "    vt_locs[a].add(cow_to_loc[a])\n",
    "    vt_locs[b].add(cow_to_loc[b])\n",
    "    \n",
    "vt = [False] * (n + 1)\n",
    "result = [0] * (n + 1)\n",
    "for cow_num in range(1, n + 1):\n",
    "    if vt[cow_num]:\n",
    "        continue\n",
    "    vt[cow_num] = True\n",
    "    \n",
    "    cur = cow_num\n",
    "    cycle = [cur]\n",
    "    while True:\n",
    "        ncur = cow_to_loc[cur]\n",
    "        if vt[ncur]:\n",
    "            break\n",
    "        vt[ncur] = True\n",
    "        cycle.append(ncur)\n",
    "        cur = ncur\n",
    "        \n",
    "    vt_st = set()\n",
    "    for v in cycle:\n",
    "        for loc in vt_locs[v]:\n",
    "            vt_st.add(loc)\n",
    "            \n",
    "    vt_c = len(vt_st)\n",
    "    for v in cycle:\n",
    "        result[v] = vt_c\n",
    "    \n",
    "for i in range(1, n + 1):\n",
    "    print(str(result[i]) + '\\n')"
   ]
  },
  {
   "cell_type": "markdown",
   "metadata": {},
   "source": [
    "https://www.acmicpc.net/problem/20971 No Time to Paint"
   ]
  },
  {
   "cell_type": "code",
   "execution_count": 41,
   "metadata": {},
   "outputs": [
    {
     "name": "stdout",
     "output_type": "stream",
     "text": [
      "8 2\n",
      "ABBAABCB\n",
      "3 6\n",
      "4\n",
      "1 4\n",
      "3\n"
     ]
    }
   ],
   "source": [
    "import sys\n",
    "# input = lambda: sys.stdin.readline().rstrip()\n",
    "\n",
    "n, q = map(int, input().split())\n",
    "s = input()\n",
    "\n",
    "prefix = [0] * (n + 1)\n",
    "\n",
    "prefix[1] = 1\n",
    "cumul = 1\n",
    "stack = [s[0]]\n",
    "for i in range(1, n):\n",
    "    if s[i - 1] < s[i]:\n",
    "        stack.append(s[i])\n",
    "        cumul += 1\n",
    "    else:\n",
    "        while stack and stack[-1] > s[i]:\n",
    "            stack.pop()\n",
    "            \n",
    "        if not stack or stack[-1] < s[i]:\n",
    "            cumul += 1\n",
    "            stack.append(s[i])\n",
    "        \n",
    "    prefix[i + 1] = cumul\n",
    "    \n",
    "s_r = list(reversed(s))\n",
    "\n",
    "prefix_r = [0] * (n + 1)\n",
    "\n",
    "prefix_r[1] = 1\n",
    "cumul = 1\n",
    "stack = [s_r[0]]\n",
    "for i in range(1, n):\n",
    "    if s_r[i - 1] < s_r[i]:\n",
    "        stack.append(s_r[i])\n",
    "        cumul += 1\n",
    "    else:\n",
    "        while stack and stack[-1] > s_r[i]:\n",
    "            stack.pop()\n",
    "            \n",
    "        if not stack or stack[-1] < s_r[i]:\n",
    "            cumul += 1\n",
    "            stack.append(s_r[i])\n",
    "        \n",
    "    prefix_r[i + 1] = cumul\n",
    "    \n",
    "    \n",
    "for _ in range(q):\n",
    "    a, b = map(int, input().split())\n",
    "    a -= 1\n",
    "    b -= 1\n",
    "    \n",
    "    r1 = prefix[a]\n",
    "    r2 = prefix_r[n - 1 - b]\n",
    "    \n",
    "    result = r1 + r2\n",
    "    \n",
    "    print(result)"
   ]
  },
  {
   "cell_type": "markdown",
   "metadata": {},
   "source": [
    "https://www.acmicpc.net/problem/20972 Spaced Out"
   ]
  },
  {
   "cell_type": "code",
   "execution_count": null,
   "metadata": {},
   "outputs": [],
   "source": [
    "c.c.\n",
    ".c.c\n",
    ".c.c\n",
    "c.c.\n",
    "\n",
    "c.c.\n",
    "c.c.\n",
    "c.c.\n",
    "c.c.\n",
    "\n",
    ".c.c\n",
    ".c.c\n",
    ".c.c\n",
    ".c.c\n",
    "\n",
    "c.c.\n",
    ".c.c\n",
    "c.c.\n",
    "c.c.\n",
    "\n",
    "cc..\n",
    "..cc\n",
    "cc..\n",
    "..cc\n",
    "\n",
    "cc.c.\n",
    "..c.\n",
    "cc.c\n",
    "..c.\n",
    "\n",
    "\n",
    "cccc\n",
    "....\n",
    "cccc\n",
    "...."
   ]
  },
  {
   "cell_type": "code",
   "execution_count": 1,
   "metadata": {},
   "outputs": [
    {
     "name": "stdout",
     "output_type": "stream",
     "text": [
      "4\n",
      "3 3 1 1\n",
      "1 1 3 1\n",
      "3 3 1 1\n",
      "1 1 3 3\n",
      "22\n"
     ]
    }
   ],
   "source": [
    "import io, os, sys\n",
    "input = io.BytesIO(os.read(0,os.fstat(0).st_size)).readline\n",
    "\n",
    "n = int(input())\n",
    "li = [list(map(int, input().split())) for _ in range(n)]\n",
    "\n",
    "t1 = 0\n",
    "for i in range(n):\n",
    "    sv0 = 0\n",
    "    sv1 = 0\n",
    "    for j in range(n):\n",
    "        if j % 2 == 0:\n",
    "            sv0 += li[i][j]\n",
    "        else:\n",
    "            sv1 += li[i][j]\n",
    "    \n",
    "    t1 += max(sv0, sv1)\n",
    "    \n",
    "t2 = 0\n",
    "for j in range(n):\n",
    "    sv0 = 0\n",
    "    sv1 = 0\n",
    "    for i in range(n):\n",
    "        if i % 2 == 0:\n",
    "            sv0 += li[i][j]\n",
    "        else:\n",
    "            sv1 += li[i][j]\n",
    "    \n",
    "    t2 += max(sv0, sv1)\n",
    "    \n",
    "result = max(t1, t2)\n",
    "\n",
    "print(result)"
   ]
  },
  {
   "cell_type": "markdown",
   "metadata": {},
   "source": [
    "https://www.acmicpc.net/problem/20968 Telephone"
   ]
  },
  {
   "cell_type": "code",
   "execution_count": null,
   "metadata": {},
   "outputs": [],
   "source": [
    "3.34 n이 50000이므로 n * n개의 간선을 만들면 시간 초과됨\n",
    "3.39 1 2 3 3 4 5 순으로 있을 때 1 -> 4 > 3 > 2에서 어떤 3을 골라도 소요 시간은 같음\n",
    "3.48 이동할 필요가 있는 간선들만 추릴 수 있나?\n",
    "3.57 한번 방문한 종은 다시 방문할 필요 없음\n",
    "4.59 양쪽으로 가장 가까운 종 + 가능하면 끝점만 방문하는게 가장 나을 수 있음"
   ]
  },
  {
   "cell_type": "code",
   "execution_count": 12,
   "metadata": {},
   "outputs": [
    {
     "name": "stdout",
     "output_type": "stream",
     "text": [
      "6\n"
     ]
    }
   ],
   "source": [
    "from heapq import heappush, heappop\n",
    "import io, os, sys\n",
    "input = io.BytesIO(os.read(0,os.fstat(0).st_size)).readline\n",
    "\n",
    "inf = float('inf')\n",
    "\n",
    "n, k = map(int, input().split())\n",
    "\n",
    "get_value = lambda x: int(x) - 1\n",
    "cows = list(map(get_value, input().split()))\n",
    "S = [list(map(int, input().decode().rstrip())) for _ in range(k)]\n",
    "\n",
    "li = [[] for _ in range(n)]\n",
    "\n",
    "last_tp = cows[n - 1]\n",
    "recent = [-1] * k\n",
    "for i in range(n):\n",
    "    tp = cows[i]\n",
    "    for ntp in range(k):\n",
    "        if tp != ntp and S[tp][ntp] and recent[ntp] != -1:\n",
    "            li[i].append(recent[ntp])\n",
    "            \n",
    "    recent[tp] = i\n",
    "    \n",
    "recent = [-1] * (k)\n",
    "for i in range(n - 1, -1, -1):\n",
    "    tp = cows[i]\n",
    "    for ntp in range(k):\n",
    "        if tp != ntp and S[tp][ntp] and recent[ntp] != -1:\n",
    "            li[i].append(recent[ntp])\n",
    "     \n",
    "    if S[tp][last_tp]:\n",
    "        li[i].append(n - 1)\n",
    "    \n",
    "    recent[tp] = i\n",
    "    \n",
    "dists = [inf] * (n + 1)\n",
    "dists[0] = 0\n",
    "\n",
    "heap = []\n",
    "heappush(heap, (0, 0))\n",
    "\n",
    "while heap:\n",
    "    dist, value = heappop(heap)\n",
    "    \n",
    "    if dist > dists[value]:\n",
    "        continue\n",
    "        \n",
    "    for v in li[value]:\n",
    "        d = abs(value - v)\n",
    "        \n",
    "        ndist = dist + d\n",
    "        if ndist < dists[v]:\n",
    "            dists[v] = ndist\n",
    "            heappush(heap, (ndist, v))\n",
    "            \n",
    "result = dists[n - 1]\n",
    "\n",
    "if result == inf:\n",
    "    print(-1)\n",
    "else:\n",
    "    print(result)"
   ]
  },
  {
   "cell_type": "markdown",
   "metadata": {},
   "source": [
    "https://www.acmicpc.net/problem/20969 Dance Mooves"
   ]
  },
  {
   "cell_type": "code",
   "execution_count": null,
   "metadata": {},
   "outputs": [],
   "source": [
    "import io, os, sys\n",
    "# input = io.BytesIO(os.read(0,os.fstat(0).st_size)).readline\n",
    "# print = sys.stdout.write\n",
    "\n",
    "n, k = map(int, input().split())\n",
    "moves = [list(map(int, input().split())) for _ in range(k)]\n",
    "\n",
    "cow_to_loc = list(range(n + 1))\n",
    "loc_to_cow = list(range(n + 1))\n",
    "vt_locs = [{i} for i in range(n + 1)]\n",
    "for loc1, loc2 in moves:\n",
    "    a = loc_to_cow[loc1]\n",
    "    b = loc_to_cow[loc2]\n",
    "    \n",
    "    cow_to_loc[a] = loc2\n",
    "    cow_to_loc[b] = loc1\n",
    "    \n",
    "    loc_to_cow[loc2] = a\n",
    "    loc_to_cow[loc1] = b\n",
    "    \n",
    "    vt_locs[a].add(cow_to_loc[a])\n",
    "    vt_locs[b].add(cow_to_loc[b])\n",
    "    \n",
    "vt = [False] * (n + 1)\n",
    "result = [0] * (n + 1)\n",
    "for cow_num in range(1, n + 1):\n",
    "    if vt[cow_num]:\n",
    "        continue\n",
    "    vt[cow_num] = True\n",
    "    \n",
    "    cur = cow_num\n",
    "    cycle = [cur]\n",
    "    while True:\n",
    "        ncur = cow_to_loc[cur]\n",
    "        if vt[ncur]:\n",
    "            break\n",
    "        vt[ncur] = True\n",
    "        cycle.append(ncur)\n",
    "        cur = ncur\n",
    "        \n",
    "    vt_st = set()\n",
    "    for v in cycle:\n",
    "        for loc in vt_locs[v]:\n",
    "            vt_st.add(loc)\n",
    "            \n",
    "    vt_c = len(vt_st)\n",
    "    for v in cycle:\n",
    "        result[v] = vt_c\n",
    "    \n",
    "for i in range(1, n + 1):\n",
    "    print(str(result[i]) + '\\n')"
   ]
  },
  {
   "cell_type": "markdown",
   "metadata": {},
   "source": [
    "A"
   ]
  },
  {
   "cell_type": "code",
   "execution_count": 18,
   "metadata": {},
   "outputs": [
    {
     "name": "stdout",
     "output_type": "stream",
     "text": [
      "3\n",
      "2022\n",
      "Good Bye\n",
      "2023\n",
      "BOJ 2022\n",
      "2044\n",
      "Good Bye\n"
     ]
    }
   ],
   "source": [
    "import io, os, sys\n",
    "input = io.BytesIO(os.read(0,os.fstat(0).st_size)).readline\n",
    "\n",
    "def get_divisors(num):\n",
    "    divisors = set()\n",
    "    for mod in range(1, int(num ** 0.5) + 1):\n",
    "        if num % mod == 0:\n",
    "            divisors.add(mod)\n",
    "            divisors.add(num // mod)\n",
    "            \n",
    "    return divisors - {num}\n",
    "\n",
    "def get_divisors_sum(num):\n",
    "    divisors = []\n",
    "    for mod in range(1, int(num ** 0.5)):\n",
    "        if num % mod == 0:\n",
    "            divisors.append(mod)\n",
    "            divisors.append(num // mod)\n",
    "            \n",
    "    mod = int(num ** 0.5)\n",
    "    if num % mod == 0:\n",
    "        divisors.append(mod)\n",
    "        if num // mod != mod:\n",
    "            divisors.append(num // mod)\n",
    "            \n",
    "    return sum(divisors) - num\n",
    "\n",
    "status = [0] * 5001\n",
    "\n",
    "for num in range(1, 5001):\n",
    "    sv = get_divisors_sum(num)\n",
    "    \n",
    "    if sv < num:\n",
    "        status[num] = -1\n",
    "    elif sv > num:\n",
    "        status[num] = 1\n",
    "    else:\n",
    "        status[num] = 0\n",
    "    \n",
    "for _ in range(int(input())):\n",
    "    num = int(input())\n",
    "    \n",
    "    if status[num] != 1:\n",
    "        print(\"BOJ 2022\")\n",
    "    else:\n",
    "        ip = True\n",
    "        for div in get_divisors(num):\n",
    "            if status[div] == 1:\n",
    "                ip = False\n",
    "                break\n",
    "                \n",
    "        if ip:\n",
    "            print('Good Bye')\n",
    "        else:\n",
    "            print('BOJ 2022')"
   ]
  },
  {
   "cell_type": "markdown",
   "metadata": {},
   "source": [
    "B"
   ]
  },
  {
   "cell_type": "code",
   "execution_count": null,
   "metadata": {},
   "outputs": [],
   "source": [
    "1 2 3 4\n",
    "\n",
    "1 2   3  4\n",
    "\n",
    "1.5  3   4\n",
    "\n",
    "2  4\n"
   ]
  },
  {
   "cell_type": "code",
   "execution_count": null,
   "metadata": {},
   "outputs": [],
   "source": [
    "1 2 5 9\n",
    "\n",
    "1 2    5    91"
   ]
  },
  {
   "cell_type": "code",
   "execution_count": null,
   "metadata": {},
   "outputs": [],
   "source": [
    "0 2 2 2\n",
    "2 2 2"
   ]
  },
  {
   "cell_type": "code",
   "execution_count": null,
   "metadata": {},
   "outputs": [],
   "source": [
    "1 2 10\n",
    "\n"
   ]
  },
  {
   "cell_type": "code",
   "execution_count": 20,
   "metadata": {},
   "outputs": [
    {
     "name": "stdout",
     "output_type": "stream",
     "text": [
      "2\n",
      "1 2\n",
      "1.5\n"
     ]
    }
   ],
   "source": [
    "n = int(input())\n",
    "li = sorted(map(int, input().split()))\n",
    "\n",
    "if n == 1:\n",
    "    print(li[0])\n",
    "else:\n",
    "    t1 = li[-2]\n",
    "    t2 = sum(li) / n\n",
    "    \n",
    "    r = max(t1, t2)\n",
    "    \n",
    "    print(r)"
   ]
  },
  {
   "cell_type": "markdown",
   "metadata": {},
   "source": [
    "C"
   ]
  },
  {
   "cell_type": "code",
   "execution_count": 25,
   "metadata": {},
   "outputs": [
    {
     "name": "stdout",
     "output_type": "stream",
     "text": [
      "5\n",
      "4 2 1 3 5\n",
      "3 4 2 1 5\n",
      "5 4 2 3 1\n",
      "4 2 3 1 5\n"
     ]
    }
   ],
   "source": [
    "n = int(input())\n",
    "a = list(map(int, input().split()))\n",
    "b = list(map(int, input().split()))\n",
    "c = list(map(int, input().split()))\n",
    "\n",
    "result = []\n",
    "st = set()\n",
    "for i in range(n - 1, -1, -1):\n",
    "    if a[i] == b[i] == c[i]:\n",
    "        result.append(a[i])\n",
    "    elif a[i] == b[i]:\n",
    "        if a[i] not in st:\n",
    "            result.append(a[i])\n",
    "        if c[i] not in st:\n",
    "            result.append(c[i])\n",
    "    elif a[i] == c[i]:\n",
    "        if a[i] not in st:\n",
    "            result.append(a[i])\n",
    "        if b[i] not in st:\n",
    "            result.append(b[i])            \n",
    "    elif b[i] == c[i]:\n",
    "        if b[i] not in st:\n",
    "            result.append(b[i])\n",
    "        if a[i] not in st:\n",
    "            result.append(a[i])\n",
    "    else:\n",
    "        if a[i] not in st:\n",
    "            result.append(a[i])   \n",
    "        if b[i] not in st:\n",
    "            result.append(b[i])\n",
    "        if c[i] not in st:\n",
    "            result.append(c[i])\n",
    "            \n",
    "    st.add(a[i])\n",
    "    st.add(b[i])\n",
    "    st.add(c[i])\n",
    "            \n",
    "print(*reversed(result))"
   ]
  },
  {
   "cell_type": "markdown",
   "metadata": {},
   "source": [
    "D"
   ]
  },
  {
   "cell_type": "code",
   "execution_count": null,
   "metadata": {},
   "outputs": [],
   "source": [
    "k개 이하의 구역만 x로 바꿀 수 있다.\n",
    "\n",
    "인접한 두 구열의 선명도의 차이의 최댓값은 최소로 해야한다."
   ]
  },
  {
   "cell_type": "code",
   "execution_count": 62,
   "metadata": {},
   "outputs": [
    {
     "data": {
      "text/plain": [
       "160000000"
      ]
     },
     "execution_count": 62,
     "metadata": {},
     "output_type": "execute_result"
    }
   ],
   "source": [
    "n, m, k, x"
   ]
  },
  {
   "cell_type": "markdown",
   "metadata": {},
   "source": [
    "E"
   ]
  },
  {
   "cell_type": "code",
   "execution_count": null,
   "metadata": {},
   "outputs": [],
   "source": [
    "승리와 패배는 항상 승리시 더 많은 승점을 가지는 것으로 치환할 수 있다.\n",
    "최댓값 구할 때는 팀 번호를 1로, 최솟값 구할 때는 팀 번호를 n으로 두면 된다.\n",
    "\n",
    "무승부 > 승리 > 패배\n",
    ":\n",
    "    최댓값: 모두 비김\n",
    "    최솟값: 패배 최대화, 나머지는 승리\n",
    "\n",
    "        \n",
    "승리 > 무승부 > 패배\n",
    ":\n",
    "    최댓값: 승리 최대화, 나머지는 무승부\n",
    "    최솟값: 패배 최대화, 나머지는 무승부\n",
    "    \n",
    "    \n",
    "승리 > 패배 > 무승부\n",
    ":\n",
    "    최댓값: 승리 최대화, 나머지는 패배\n",
    "    최솟값: 모두 비김\n",
    "        \n",
    "승리 최대화시 자신과 자신 위 모든 팀은 자신의 아래팀을 전부 이긴 걸로 가정해도 되므로\n",
    "자신이 자신 포함 그 윗팀들하고만의 경기에서 꼴등이라고 생각해도 됨.\n",
    " - 승리 다음 무승부를 최대화시킨다면 여기서 그 위와의 경기는 전부 비겼다고\n",
    "    가정해도 됨, 승리 다음 패배를 최대화시킨다면 여기서 그 위와의 경기는 전부 패배라고 가정해도 됨"
   ]
  },
  {
   "cell_type": "code",
   "execution_count": 59,
   "metadata": {},
   "outputs": [
    {
     "name": "stdout",
     "output_type": "stream",
     "text": [
      "2 0 5 5 2\n",
      "17 0\n"
     ]
    }
   ],
   "source": [
    "import io, os, sys\n",
    "input = io.BytesIO(os.read(0,os.fstat(0).st_size)).readline\n",
    "\n",
    "for _ in range(int(input())):\n",
    "    a, b, c, n, k = map(int, input().split())\n",
    "    if a < c:\n",
    "        a, c = c, a\n",
    "\n",
    "    upper_c = k - 1\n",
    "    lower_c = n - k\n",
    "\n",
    "    # 승리 >= 패배 >= 무승부\n",
    "    if a >= c >= b:\n",
    "        min_r = b * (n - 1)\n",
    "\n",
    "        max_r = 0\n",
    "\n",
    "        base_max = lower_c * a\n",
    "\n",
    "        start = 0\n",
    "        end = upper_c\n",
    "        added_win = 0\n",
    "        while start <= end:\n",
    "            mid = (start + end) // 2\n",
    "\n",
    "            win_total = mid * (upper_c + 1)\n",
    "            remained_total = (upper_c + 1) * upper_c - win_total\n",
    "\n",
    "            if win_total > remained_total:\n",
    "                end = mid - 1\n",
    "            else:\n",
    "                start = mid + 1\n",
    "                added_win = mid\n",
    "\n",
    "        added_remain = upper_c - added_win\n",
    "\n",
    "        max_r = base_max + added_win * a + added_remain * c\n",
    "    # 무승부 >= 승리 >= 패배\n",
    "    elif b >= a >= c:\n",
    "        max_r = b * (n - 1)\n",
    "\n",
    "        min_r = 0\n",
    "\n",
    "        base_min = upper_c * c\n",
    "\n",
    "        start = 0\n",
    "        end = lower_c\n",
    "        added_lose = 0\n",
    "        while start <= end:\n",
    "            mid = (start + end) // 2\n",
    "\n",
    "            lose_total = mid * (lower_c + 1)\n",
    "            remained_total = (lower_c + 1) * lower_c - lose_total\n",
    "\n",
    "            if lose_total > remained_total:\n",
    "                end = mid - 1\n",
    "            else:\n",
    "                start = mid + 1\n",
    "                added_lose = mid\n",
    "\n",
    "        added_remain = lower_c - added_lose\n",
    "\n",
    "        min_r = base_min + added_lose * c + added_remain * a\n",
    "    # 승리 > 무승부 > 패배\n",
    "    else:\n",
    "        max_r = 0\n",
    "\n",
    "        base_max = lower_c * a\n",
    "\n",
    "        t1 = upper_c * b\n",
    "\n",
    "        po = upper_c // 2 # 가능한 승리, 패배 세트의 수\n",
    "\n",
    "        t2 = (upper_c - po * 2) * b + (a + c) * po\n",
    "\n",
    "        max_r = base_max + max(t1, t2)\n",
    "\n",
    "\n",
    "        min_r = 0\n",
    "\n",
    "        base_min = upper_c * c\n",
    "\n",
    "        t1 = lower_c * b\n",
    "\n",
    "        po = lower_c // 2\n",
    "\n",
    "        t2 = (lower_c - po * 2) * b + (a + c) * po\n",
    "\n",
    "        min_r = base_min + min(t1, t2)\n",
    "\n",
    "    print(max_r, min_r)"
   ]
  },
  {
   "cell_type": "markdown",
   "metadata": {},
   "source": [
    "A"
   ]
  },
  {
   "cell_type": "code",
   "execution_count": null,
   "metadata": {
    "scrolled": true
   },
   "outputs": [],
   "source": [
    "from collections import Counter\n",
    "\n",
    "mod = int(1e9) + 7\n",
    "\n",
    "n = int(input())\n",
    "li = list(map(int, input().split()))\n",
    "\n",
    "ct = Counter(li)\n",
    "\n",
    "num = 1\n",
    "denom_temp = 0\n",
    "for c in ct.values():\n",
    "    denom_temp += c\n",
    "\n",
    "    num *= c + 1\n",
    "    num %= mod\n",
    "        \n",
    "num -= 1\n",
    "denom = pow(2, denom_temp, mod)\n",
    "\n",
    "to_mul = pow(2, n, mod)\n",
    "\n",
    "result = num * to_mul * pow(denom, mod - 2, mod)\n",
    "result %= mod\n",
    "\n",
    "print(result)"
   ]
  },
  {
   "cell_type": "code",
   "execution_count": 22,
   "metadata": {},
   "outputs": [
    {
     "data": {
      "text/plain": [
       "Counter({1: 2, 2: 1, 3: 1})"
      ]
     },
     "execution_count": 22,
     "metadata": {},
     "output_type": "execute_result"
    }
   ],
   "source": [
    "ct"
   ]
  },
  {
   "cell_type": "code",
   "execution_count": 21,
   "metadata": {},
   "outputs": [
    {
     "data": {
      "text/plain": [
       "5"
      ]
     },
     "execution_count": 21,
     "metadata": {},
     "output_type": "execute_result"
    }
   ],
   "source": [
    "denom_temp"
   ]
  },
  {
   "cell_type": "code",
   "execution_count": 20,
   "metadata": {},
   "outputs": [
    {
     "data": {
      "text/plain": [
       "(11, 32, 16)"
      ]
     },
     "execution_count": 20,
     "metadata": {},
     "output_type": "execute_result"
    }
   ],
   "source": [
    "num, denom, to_mul"
   ]
  },
  {
   "cell_type": "code",
   "execution_count": 7,
   "metadata": {},
   "outputs": [
    {
     "data": {
      "text/plain": [
       "(3, 8)"
      ]
     },
     "execution_count": 7,
     "metadata": {},
     "output_type": "execute_result"
    }
   ],
   "source": [
    "num, denom"
   ]
  },
  {
   "cell_type": "markdown",
   "metadata": {},
   "source": [
    "B"
   ]
  },
  {
   "cell_type": "code",
   "execution_count": 29,
   "metadata": {},
   "outputs": [
    {
     "name": "stdout",
     "output_type": "stream",
     "text": [
      "10 5\n",
      "5 -1 -1 -1 0 1 -1 1 -1 5\n",
      "5\n"
     ]
    }
   ],
   "source": [
    "n, s = map(int, input().split())\n",
    "li = list(map(int, input().split()))\n",
    "\n",
    "s -= 1\n",
    "\n",
    "max_r = 0\n",
    "cur = 0\n",
    "for i in range(s + 1, n):\n",
    "    cur += li[i]\n",
    "    \n",
    "    if cur < 0:\n",
    "        break\n",
    "    max_r = max(max_r, cur)\n",
    "    \n",
    "cur = 0\n",
    "for i in range(s - 1, -1, -1):\n",
    "    cur += li[i]\n",
    "    \n",
    "    if cur < 0:\n",
    "        break\n",
    "    max_r = max(max_r, cur)\n",
    "    \n",
    "print(max_r)"
   ]
  },
  {
   "cell_type": "code",
   "execution_count": 36,
   "metadata": {},
   "outputs": [
    {
     "name": "stdout",
     "output_type": "stream",
     "text": [
      "5 2\n",
      "-1 0 3 -2 5\n",
      "6\n"
     ]
    }
   ],
   "source": [
    "n, s = map(int, input().split())\n",
    "li = list(map(int, input().split()))\n",
    "\n",
    "s -= 1\n",
    "\n",
    "prefix = [0] * n\n",
    "prefix_max = [0] * n\n",
    "\n",
    "cumul = 0\n",
    "cumul_max = 0\n",
    "for i in range(s + 1, n):\n",
    "    cumul += li[i]\n",
    "    cumul_max = max(cumul_max, cumul)\n",
    "    \n",
    "    prefix[i] = cumul\n",
    "    prefix_max[i] = cumul_max\n",
    "\n",
    "cumul = 0\n",
    "cumul_max = 0\n",
    "for i in range(s - 1, -1, -1):\n",
    "    cumul += li[i]\n",
    "    cumul_max = max(cumul_max, cumul)\n",
    "    \n",
    "    prefix[i] = cumul\n",
    "    prefix_max[i] = cumul_max\n",
    "    \n",
    "cur_l = cur_r = s\n",
    "while True:\n",
    "    is_moved = False\n",
    "    \n",
    "    have = prefix[cur_l] + prefix_max[cur_r]\n",
    "    for i in range(cur_l - 1, -1, -1):\n",
    "        if li[i] >= 0 or li[i] < 0 and -li[i] <= have:\n",
    "            is_moved = True\n",
    "            have += li[i]\n",
    "            cur_l -= 1\n",
    "        else:\n",
    "            break\n",
    "            \n",
    "    have = prefix_max[cur_l] + prefix[cur_r]\n",
    "    for i in range(cur_r + 1, n):\n",
    "        if li[i] >= 0 or li[i] < 0 and -li[i] <= have:\n",
    "            is_moved = True\n",
    "            have += li[i]\n",
    "            cur_r += 1\n",
    "        else:\n",
    "            break\n",
    "\n",
    "    if not is_moved:\n",
    "        break\n",
    "\n",
    "        \n",
    "result = prefix_max[cur_l] + prefix_max[cur_r]\n",
    "\n",
    "print(result)"
   ]
  },
  {
   "cell_type": "code",
   "execution_count": null,
   "metadata": {},
   "outputs": [],
   "source": [
    "10 5\n",
    "5 -1 -1 -1 0 -1 -1 -1 -1 5\n",
    "0"
   ]
  },
  {
   "cell_type": "code",
   "execution_count": null,
   "metadata": {},
   "outputs": [],
   "source": [
    "12 6\n",
    "5 -4 3 -2 1 0 -1 2 -3 4 -5 10\n",
    "10"
   ]
  },
  {
   "cell_type": "code",
   "execution_count": 7,
   "metadata": {},
   "outputs": [
    {
     "data": {
      "text/plain": [
       "[0, 0, 3, 3, 4]"
      ]
     },
     "execution_count": 7,
     "metadata": {},
     "output_type": "execute_result"
    }
   ],
   "source": [
    "prefix_max"
   ]
  },
  {
   "cell_type": "markdown",
   "metadata": {},
   "source": [
    "D"
   ]
  },
  {
   "cell_type": "code",
   "execution_count": 5,
   "metadata": {},
   "outputs": [
    {
     "name": "stdout",
     "output_type": "stream",
     "text": [
      "2 2 2 2\n",
      "1\n"
     ]
    }
   ],
   "source": [
    "import io, os, sys\n",
    "input = io.BytesIO(os.read(0,os.fstat(0).st_size)).readline\n",
    "\n",
    "for _ in range(int(input())):\n",
    "    a, b, c, p = map(int, input().split())\n",
    "\n",
    "    if a % p == 0 and b % p == 0 or a % p == 0 and c % p == 0 or b % p == 0 and c % p == 0:\n",
    "        print(1)\n",
    "    else:\n",
    "        print(0)"
   ]
  },
  {
   "cell_type": "markdown",
   "metadata": {},
   "source": [
    "C"
   ]
  },
  {
   "cell_type": "code",
   "execution_count": null,
   "metadata": {},
   "outputs": [],
   "source": [
    "수학 토끼의 경우 브루트포스로 구하면 됨\n",
    "\n",
    "차이가 없는 경우 0 차이가 1이라도 있는 경우 y가 추가됨\n",
    "\n",
    "\n",
    "정렬함\n",
    "순회하면서 현재의 몫의 cumul과 나머지의 상태들을 구함."
   ]
  },
  {
   "cell_type": "code",
   "execution_count": 106,
   "metadata": {},
   "outputs": [
    {
     "name": "stdout",
     "output_type": "stream",
     "text": [
      "4 20 3\n",
      "54 71 32 100\n",
      "42 12\n"
     ]
    }
   ],
   "source": [
    "from collections import Counter\n",
    "\n",
    "mod = 998244353\n",
    "\n",
    "def query_helper(cur_s, cur_e, rem):\n",
    "    if cur_s <= cur_e:\n",
    "        return seg_remainder.query(cur_e - (rem - 1), cur_e)\n",
    "    else:\n",
    "        start = cur_e - (rem - 1)\n",
    "        \n",
    "        if start >= 0:\n",
    "            return seg_remainder.query(start, cur_e)\n",
    "        else:\n",
    "            start += x\n",
    "            return seg_remainder.query(start, x - 1) + seg_remainder.query(0, cur_e)\n",
    "        \n",
    "class SegmentTree:\n",
    "    def __init__(self, data, default=10**15, func=lambda a, b: max(a,b)):\n",
    "        \"\"\"initialize the segment tree with data\"\"\"\n",
    "        self._default = default\n",
    "        self._func = func\n",
    "        self._len = len(data)\n",
    "        self._size = _size = 1 << (self._len - 1).bit_length()\n",
    " \n",
    "        self.data = [default] * (2 * _size)\n",
    "        self.data[_size:_size + self._len] = data\n",
    "        for i in reversed(range(_size)):\n",
    "            self.data[i] = func(self.data[i + i], self.data[i + i + 1])\n",
    " \n",
    "    def __delitem__(self, idx):\n",
    "        self[idx] = self._default\n",
    " \n",
    "    def __getitem__(self, idx):\n",
    "        return self.data[idx + self._size]\n",
    " \n",
    "    def __setitem__(self, idx, value):\n",
    "        idx += self._size\n",
    "        self.data[idx] = value\n",
    "        idx >>= 1\n",
    "        while idx:\n",
    "            self.data[idx] = self._func(self.data[2 * idx], self.data[2 * idx + 1])\n",
    "            idx >>= 1\n",
    " \n",
    "    def __len__(self):\n",
    "        return self._len\n",
    " \n",
    "    def query(self, start, stop):\n",
    "        if start == stop:\n",
    "            return self.__getitem__(start)\n",
    "        stop += 1\n",
    "        start += self._size\n",
    "        stop += self._size\n",
    " \n",
    "        res = self._default\n",
    "        while start < stop:\n",
    "            if start & 1:\n",
    "                res = self._func(res, self.data[start])\n",
    "                start += 1\n",
    "            if stop & 1:\n",
    "                stop -= 1\n",
    "                res = self._func(res, self.data[stop])\n",
    "            start >>= 1\n",
    "            stop >>= 1\n",
    "        return res\n",
    " \n",
    "    def __repr__(self):\n",
    "        return \"SegmentTree({0})\".format(self.data)\n",
    "\n",
    "n, x, y = map(int, input().split())\n",
    "li = list(map(int, input().split()))\n",
    "\n",
    "cri = li[0]\n",
    "r2 = 0\n",
    "for i in range(1, n):\n",
    "    diff = li[i] - cri\n",
    "    if diff <= 0:\n",
    "        continue\n",
    "    \n",
    "    q = diff // x\n",
    "    \n",
    "    r2 += q + 1\n",
    "    r2 %= mod\n",
    "        \n",
    "r2 = r2 * y % mod\n",
    "\n",
    "li.sort()\n",
    "\n",
    "func = lambda a, b: a + b\n",
    "seg_remainder = SegmentTree([0] * x, 0, func=func)\n",
    "\n",
    "cur_s = 0\n",
    "cur_e = x - 1\n",
    "\n",
    "cumul_q = 0\n",
    "r1 = 0\n",
    "for i in range(1, n):\n",
    "    diff = li[i] - li[i - 1]\n",
    "    \n",
    "    q = diff // x\n",
    "    rem = diff % x\n",
    "    \n",
    "    cumul_q = cumul_q + q * (i - 1) + query_helper(cur_s, cur_e, rem) + q\n",
    "    \n",
    "#     print(i, diff, q, rem, cumul_q, query_helper(cur_s, cur_e, rem))\n",
    "    \n",
    "    r1 += cumul_q\n",
    "    r1 %= mod\n",
    "    \n",
    "    cur_s -= rem\n",
    "    cur_e -= rem\n",
    "    \n",
    "    cur_s %= x\n",
    "    cur_e %= x\n",
    "    \n",
    "    seg_remainder[cur_s] = 0\n",
    "    \n",
    "    if rem != 0:\n",
    "        seg_remainder[(cur_s + rem) % x] += 1\n",
    "        \n",
    "#     if cur_s <= cur_e:\n",
    "#         for i in range(cur_s, cur_e + 1):\n",
    "#             print(seg_remainder[i], end=\" \")\n",
    "#     else:\n",
    "#         for i in range(cur_s, x):\n",
    "#             print(seg_remainder[i], end=\" \")\n",
    "#         for i in range(cur_e + 1):\n",
    "#             print(seg_remainder[i], end=\" \")\n",
    "\n",
    "#     print()\n",
    "        \n",
    "all_case = n * (n - 1) // 2\n",
    "same_case = 0\n",
    "\n",
    "ct = Counter(li)\n",
    "for v in ct.values():\n",
    "    if v >= 2:\n",
    "        same_case += v * (v - 1) // 2\n",
    "        \n",
    "all_case -= same_case\n",
    "\n",
    "r1 += all_case\n",
    "r1 %= mod\n",
    "\n",
    "r1 *= y\n",
    "r1 %= mod\n",
    "\n",
    "print(r1, r2)"
   ]
  },
  {
   "cell_type": "code",
   "execution_count": 96,
   "metadata": {},
   "outputs": [
    {
     "data": {
      "text/plain": [
       "16"
      ]
     },
     "execution_count": 96,
     "metadata": {},
     "output_type": "execute_result"
    }
   ],
   "source": [
    "(19 + 17) % 20"
   ]
  },
  {
   "cell_type": "code",
   "execution_count": 54,
   "metadata": {},
   "outputs": [
    {
     "data": {
      "text/plain": [
       "(22, 17, 29)"
      ]
     },
     "execution_count": 54,
     "metadata": {},
     "output_type": "execute_result"
    }
   ],
   "source": [
    "54 - 32, 71 - 54, 100 - 71"
   ]
  },
  {
   "cell_type": "code",
   "execution_count": 56,
   "metadata": {},
   "outputs": [
    {
     "data": {
      "text/plain": [
       "1"
      ]
     },
     "execution_count": 56,
     "metadata": {},
     "output_type": "execute_result"
    }
   ],
   "source": [
    "22 // 20"
   ]
  },
  {
   "cell_type": "code",
   "execution_count": 50,
   "metadata": {},
   "outputs": [
    {
     "data": {
      "text/plain": [
       "3"
      ]
     },
     "execution_count": 50,
     "metadata": {},
     "output_type": "execute_result"
    }
   ],
   "source": [
    "n * (n - 1) // 2"
   ]
  },
  {
   "cell_type": "code",
   "execution_count": 48,
   "metadata": {},
   "outputs": [
    {
     "data": {
      "text/plain": [
       "(-9577, 9580)"
      ]
     },
     "execution_count": 48,
     "metadata": {},
     "output_type": "execute_result"
    }
   ],
   "source": [
    "all_case, same_case"
   ]
  },
  {
   "cell_type": "markdown",
   "metadata": {},
   "source": [
    "G"
   ]
  },
  {
   "cell_type": "code",
   "execution_count": null,
   "metadata": {},
   "outputs": [],
   "source": [
    "from heapq import heappush, heappop\n",
    "import io, os, sys\n",
    "input = io.BytesIO(os.read(0,os.fstat(0).st_size)).readline\n",
    "\n",
    "inf = float('inf')\n",
    "\n",
    "get_value = lambda x: int(x) - 1\n",
    "\n",
    "dx = [0, 0, -1, 1]\n",
    "dy = [-1, 1, 0 , 0]\n",
    "\n",
    "n, m = map(int, input().split())\n",
    "sx, sy = map(get_value, input().split())\n",
    "\n",
    "li = [[inf] * m for _ in range(n)]\n",
    "\n",
    "k = int(input())\n",
    "items = []\n",
    "for _ in range(k):\n",
    "    a, b = map(get_value, input().split())\n",
    "    \n",
    "    items.append((a, b))\n",
    "    \n",
    "t = int(input())\n",
    "for _ in range(t):\n",
    "    a, b, w = map(get_value, input().split())\n",
    "    w += 1\n",
    "    \n",
    "    li[a][b] = w\n",
    "    \n",
    "max_cans = [[-1] * m for _ in range(n)]\n",
    "max_cans[sx][sy] = li[sx][sy]\n",
    "\n",
    "heap = [(-li[sx][sy], sx, sy)]\n",
    "while heap:\n",
    "    max_can, x, y = heappop(heap)\n",
    "    max_can = -max_can\n",
    "    \n",
    "    if max_can < max_cans[x][y]:\n",
    "        continue\n",
    "        \n",
    "    for d in range(4):\n",
    "        nx = x + dx[d]\n",
    "        ny = y + dy[d]\n",
    "        \n",
    "        if nx < 0 or nx >= n or ny < 0 or ny >= m:\n",
    "            continue\n",
    "        n_max_can = min(max_can, li[nx][ny])\n",
    "        \n",
    "        if n_max_can > max_cans[nx][ny]:\n",
    "            max_cans[nx][ny] = n_max_can\n",
    "            \n",
    "            heappush(heap, (-n_max_can, nx, ny))\n",
    "    \n",
    "items_ws = []\n",
    "for x, y in items:\n",
    "    items_ws.append(max_cans[x][y] - 1)\n",
    "    \n",
    "items_ws.sort()\n",
    "\n",
    "cur_c = 0\n",
    "for w in items_ws:\n",
    "    if cur_c < w:\n",
    "        cur_c += 1\n",
    "        \n",
    "print(cur_c)"
   ]
  },
  {
   "cell_type": "code",
   "execution_count": null,
   "metadata": {},
   "outputs": [],
   "source": [
    "0 4 i 3 i 2 i 1 i"
   ]
  },
  {
   "cell_type": "code",
   "execution_count": null,
   "metadata": {},
   "outputs": [],
   "source": [
    "1 11\n",
    "1 2\n",
    "6\n",
    "1 1\n",
    "1 3\n",
    "1 5\n",
    "1 7\n",
    "1 9\n",
    "1 11\n",
    "4\n",
    "1 4 4\n",
    "1 6 3\n",
    "1 8 2\n",
    "1 10 1"
   ]
  },
  {
   "cell_type": "markdown",
   "metadata": {},
   "source": [
    "나는코더다 2022 송년대회"
   ]
  },
  {
   "cell_type": "markdown",
   "metadata": {},
   "source": [
    "A"
   ]
  },
  {
   "cell_type": "code",
   "execution_count": 117,
   "metadata": {},
   "outputs": [
    {
     "name": "stdout",
     "output_type": "stream",
     "text": [
      "4 1 4\n",
      "0 4\n",
      "1 3\n",
      "3 1\n",
      "2 2\n",
      "4\n"
     ]
    }
   ],
   "source": [
    "inf = float('inf')\n",
    "\n",
    "n, k, x = map(int, input().split())\n",
    "li = [list(map(int, input().split()))[0] for _ in range(n)]\n",
    "\n",
    "dp = set()\n",
    "cands = set()\n",
    "for i in range(n):\n",
    "    v = li[i]\n",
    "    \n",
    "    to_add = set()\n",
    "    for popul, sv in dp:\n",
    "        nsv = v + sv\n",
    "        npopul = popul + 1\n",
    "        \n",
    "        if npopul == k:\n",
    "            cands.add(nsv)\n",
    "        else:\n",
    "            to_add.add((npopul, nsv))\n",
    "            \n",
    "    for popul, sv in to_add:\n",
    "        dp.add((popul, sv))\n",
    "    \n",
    "    if k == 1:\n",
    "        cands.add(v)\n",
    "    else:\n",
    "        dp.add((1, v))\n",
    "    \n",
    "total = x * k\n",
    "mid = total // 2\n",
    "if total % 2:\n",
    "    mid += 0.5\n",
    "    \n",
    "min_diff = inf\n",
    "min_diff_sv = -1\n",
    "for sv in cands:\n",
    "    diff = abs(mid - sv)\n",
    "    \n",
    "    if diff < min_diff:\n",
    "        min_diff = diff\n",
    "        min_diff_sv = sv\n",
    "        \n",
    "sv1 = min_diff_sv\n",
    "sv2 = total - min_diff_sv\n",
    "\n",
    "result = sv1 * sv2\n",
    "\n",
    "print(result)"
   ]
  },
  {
   "cell_type": "markdown",
   "metadata": {},
   "source": [
    "I"
   ]
  },
  {
   "cell_type": "markdown",
   "metadata": {},
   "source": [
    "임의의 두 칸을 잇는 경로는 정확히 1개 있음으로 주어지는 격자 형태를 트리 형태로 바꿀 수 있음"
   ]
  },
  {
   "cell_type": "code",
   "execution_count": null,
   "metadata": {},
   "outputs": [],
   "source": [
    "from collections import deque\n",
    "import io, os, sys\n",
    "sys.setrecursionlimit(100100)\n",
    "input = io.BytesIO(os.read(0,os.fstat(0).st_size)).readline\n",
    "\n",
    "def dfs(value, depth):\n",
    "    vt[value] = True\n",
    "    depths[value] = depth\n",
    "    \n",
    "    for v in li[value]:\n",
    "        if not vt[v]:    \n",
    "            parents[v][0] = value\n",
    "            dists[v][0] = 1\n",
    "            dfs(v, depth + 1)\n",
    "\n",
    "def lca(a, b):\n",
    "    if depths[a] < depths[b]:\n",
    "        a, b = b, a\n",
    "    \n",
    "    total = 0\n",
    "    \n",
    "    for cur_times in range(max_times, -1, -1):\n",
    "        if depths[a] - 2 ** cur_times >= depths[b]:\n",
    "            total += dists[a][cur_times]\n",
    "            a = parents[a][cur_times]\n",
    "        \n",
    "    for cur_times in range(max_times, -1, -1):\n",
    "        if parents[a][cur_times] != parents[b][cur_times]:\n",
    "            total += dists[a][cur_times] + dists[b][cur_times]\n",
    "            a = parents[a][cur_times]\n",
    "            b = parents[b][cur_times]\n",
    "    \n",
    "    if a != b:\n",
    "        total += dists[a][0] + dists[b][0]\n",
    "        a = parents[a][0]\n",
    "        b = parents[b][0]\n",
    "        \n",
    "    return total\n",
    "\n",
    "n, m, t = map(int, input().split())\n",
    "rows = [list(map(int, input().split())) for _ in range(n - 1)]\n",
    "cols = [list(map(int, input().split())) for _ in range(n)]\n",
    "\n",
    "nums = [[0] * m for _ in range(n)]\n",
    "nxt_num = 0\n",
    "\n",
    "edges = []\n",
    "for i in range(n):\n",
    "    for j in range(m):\n",
    "        nums[i][j] = nxt_num\n",
    "        nxt_num += 1\n",
    "        \n",
    "dx = [-1, 1, 0, 0]\n",
    "dy = [0, 0, -1, 1]\n",
    "        \n",
    "vt = [[False] * m for _ in range(n)]\n",
    "vt[0][0] = True\n",
    "\n",
    "queue = deque()\n",
    "queue.append((0, 0))\n",
    "while queue:\n",
    "    x, y = queue.popleft()\n",
    "\n",
    "    for d in range(4):\n",
    "        nx = x + dx[d]\n",
    "        ny = y + dy[d]\n",
    "        \n",
    "        if nx < 0 or nx >= n or ny < 0 or ny >= m:\n",
    "            continue\n",
    "            \n",
    "        if vt[nx][ny]:\n",
    "            continue\n",
    "        if d == 0 and rows[nx][y] == 0 or d == 1 and rows[x][y] == 0 or d == 2 and cols[x][ny] == 0 or d == 3 and cols[x][y] == 0:\n",
    "            vt[nx][ny] = True\n",
    "            \n",
    "            edges.append((nums[x][y], nums[nx][ny]))\n",
    "            queue.append((nx, ny))\n",
    "        \n",
    "nn = n * m\n",
    "li = [[] for _ in range(nn)]\n",
    "for u, v in edges:\n",
    "    li[u].append(v)\n",
    "    li[v].append(u)\n",
    "\n",
    "depths = [-1] * nn\n",
    "vt = [False] * nn\n",
    "\n",
    "max_times = 16\n",
    "parents = [[0] * (max_times + 1) for _ in range(nn)] \n",
    "dists = [[0] * (max_times + 1) for _ in range(nn)]\n",
    "\n",
    "root = 0\n",
    "dfs(root, 0)\n",
    "\n",
    "for cur_times in range(1, max_times + 1):\n",
    "    for i in range(nn):\n",
    "        p1 = parents[i][cur_times - 1]\n",
    "        p2 = parents[p1][cur_times - 1]\n",
    "        parents[i][cur_times] = p2\n",
    "        \n",
    "        d1 = dists[i][cur_times - 1]\n",
    "        d2 = dists[p1][cur_times - 1]\n",
    "        dists[i][cur_times] = d1 + d2\n",
    "    \n",
    "k = int(input())\n",
    "\n",
    "deltas = [0] * (t + 2)\n",
    "for _ in range(k):\n",
    "    s, e, a, b, c, d, v = map(int, input().split())\n",
    "    \n",
    "    aa = nums[a][b]\n",
    "    bb = nums[c][d]\n",
    "    \n",
    "    dist = lca(aa, bb) + 1  \n",
    "    to_add = dist * v\n",
    "    \n",
    "    deltas[s] += to_add\n",
    "    deltas[e + 1] -= to_add\n",
    "    \n",
    "cumul = 0\n",
    "visit_cs = [0] * (t + 1)\n",
    "for i in range(t + 1):\n",
    "    cumul += deltas[i]\n",
    "    visit_cs[i] = cumul\n",
    "    \n",
    "for i in range(1, t + 1):\n",
    "    print(visit_cs[i])"
   ]
  },
  {
   "cell_type": "markdown",
   "metadata": {},
   "source": [
    "B"
   ]
  },
  {
   "cell_type": "code",
   "execution_count": 135,
   "metadata": {},
   "outputs": [
    {
     "name": "stdout",
     "output_type": "stream",
     "text": [
      "5 5 2\n",
      "1 6\n",
      "3 2\n",
      "4 8\n",
      "5 7\n",
      "10 10\n",
      "1 6 4 3 1.3333333333333333\n",
      "3 2 0 5 0.0\n",
      "4 8 6 6 1.0\n",
      "5 7 5 7 0.7142857142857143\n",
      "10 10 8 12 0.6666666666666666\n",
      "\n",
      "1 6 2 5 0.4\n",
      "3 2 -2 7 -0.2857142857142857\n",
      "4 8 4 8 0.5\n",
      "5 7 3 9 0.3333333333333333\n",
      "10 10 6 14 0.42857142857142855\n",
      "\n",
      "1 6 0 7 0.0\n",
      "3 2 -4 9 -0.4444444444444444\n",
      "4 8 2 10 0.2\n",
      "5 7 1 11 0.09090909090909091\n",
      "10 10 4 16 0.25\n",
      "\n",
      "1 6 -2 9 -0.2222222222222222\n",
      "3 2 -6 11 -0.5454545454545454\n",
      "4 8 0 12 0.0\n",
      "5 7 -1 13 -0.07692307692307693\n",
      "10 10 2 18 0.1111111111111111\n",
      "\n",
      "1 6 -4 11 -0.36363636363636365\n",
      "3 2 -8 13 -0.6153846153846154\n",
      "4 8 -2 14 -0.14285714285714285\n",
      "5 7 -3 15 -0.2\n",
      "10 10 0 20 0.0\n",
      "\n"
     ]
    }
   ],
   "source": [
    "n, m, k = map(int, input().split())\n",
    "li = [list(map(int, input().split())) for _ in range(n)]\n",
    "\n",
    "for x in range(1, m + 1):\n",
    "    for i in range(n):\n",
    "        a, b = li[i]\n",
    "        \n",
    "        num = b - k * x\n",
    "        denom = a + k * x\n",
    "        \n",
    "        print(a, b, num, denom, num / denom)\n",
    "    print()"
   ]
  },
  {
   "cell_type": "markdown",
   "metadata": {},
   "source": [
    "E"
   ]
  },
  {
   "cell_type": "code",
   "execution_count": 202,
   "metadata": {
    "scrolled": true
   },
   "outputs": [
    {
     "name": "stdout",
     "output_type": "stream",
     "text": [
      "2 2 2\n",
      "1 2 4\n",
      "1\n",
      "0\n",
      "1\n",
      "0\n",
      "['1', '0', '1', '0']\n"
     ]
    }
   ],
   "source": [
    "import sys\n",
    "# print = sys.stdout.write\n",
    "\n",
    "n, m, k = map(int, input().split())\n",
    "li = list(map(int, input().split())) + [0] * 32\n",
    "n += 32\n",
    "    \n",
    "result = [0] * n\n",
    "for i in range(n - 1, -1, -1):\n",
    "    cur_w = 1\n",
    "    have = 0\n",
    "    for before in range(31, -1, -1):\n",
    "        fi = i - before\n",
    "        if fi >= 0:\n",
    "            have += li[fi] * cur_w\n",
    "        cur_w *= k\n",
    "    cur_w //= k\n",
    "    \n",
    "    can_use = have // cur_w\n",
    "    can_perform = can_use // m\n",
    "    \n",
    "    result[i] = can_perform\n",
    "    \n",
    "    if can_perform >= 1:\n",
    "        needed = can_perform * m\n",
    "        \n",
    "        for before in range(0, 32):\n",
    "            fi = i - before\n",
    "            if fi < 0:\n",
    "                break\n",
    "\n",
    "            to_use = min(needed, li[fi])\n",
    "            li[fi] -= to_use\n",
    "            needed -= to_use\n",
    "\n",
    "            needed *= k\n",
    "            \n",
    "        assert needed == 0\n",
    "    \n",
    "is_start = False\n",
    "nresult = []\n",
    "for i in range(n - 1, -1, -1):\n",
    "    if result[i]:\n",
    "        is_start = True\n",
    "        \n",
    "    if is_start:\n",
    "        print(str(result[i]))\n",
    "        nresult.append(str(result[i]))\n",
    "\n",
    "if not is_start:\n",
    "    print('0')\n",
    "    \n",
    "print(nresult)"
   ]
  },
  {
   "cell_type": "code",
   "execution_count": null,
   "metadata": {},
   "outputs": [],
   "source": [
    "6 2 3\n",
    "0 0 0 0 9 9 9\n",
    "2\n",
    "0\n",
    "1\n",
    "1\n",
    "0\n",
    "0\n",
    "0\n",
    "0"
   ]
  },
  {
   "cell_type": "code",
   "execution_count": null,
   "metadata": {},
   "outputs": [],
   "source": [
    "6 2 3\n",
    "9 9 9 9 9 9 9\n",
    "2\n",
    "0\n",
    "2\n",
    "0\n",
    "2\n",
    "0\n",
    "1\n",
    "1"
   ]
  },
  {
   "cell_type": "markdown",
   "metadata": {},
   "source": [
    "D"
   ]
  },
  {
   "cell_type": "code",
   "execution_count": 1,
   "metadata": {},
   "outputs": [
    {
     "name": "stdout",
     "output_type": "stream",
     "text": [
      "8 8\n",
      "1 8 L\n",
      "1 8 L\n",
      "1 8 L\n",
      "YES\n"
     ]
    }
   ],
   "source": [
    "import sys\n",
    "input = lambda: sys.stdin.readline().rstrip()\n",
    "\n",
    "n, m = map(int, input().split())\n",
    "\n",
    "cur_loc = 1\n",
    "for _ in range(n - 1):\n",
    "    c, *temp = input().split()\n",
    "    c = int(c)\n",
    "    \n",
    "    if c == 1:\n",
    "        ax = int(temp[0])\n",
    "        ad = temp[1]\n",
    "        \n",
    "        if ad == 'L':\n",
    "            if cur_loc <= ax:\n",
    "                cur_loc = ax + 1\n",
    "        else:\n",
    "            if cur_loc >= ax:\n",
    "                cur_loc = m + 1\n",
    "    elif c == 2:\n",
    "        ax = int(temp[0])\n",
    "        ad = temp[1]\n",
    "        bx = int(temp[2])\n",
    "        bd = temp[3]\n",
    "        \n",
    "        if ad == 'L' and bd == 'L':\n",
    "            if cur_loc <= bx:\n",
    "                cur_loc = bx + 1\n",
    "        elif ad == 'R' and bd == 'R':\n",
    "            if cur_loc >= ax:\n",
    "                cur_loc = m + 1\n",
    "        elif ad == 'L' and bd == 'R':\n",
    "            if cur_loc <= ax:\n",
    "                cur_loc = ax + 1\n",
    "                \n",
    "            if ax + 1 <= cur_loc <= bx - 1:\n",
    "                continue\n",
    "            else:\n",
    "                cur_loc = m + 1\n",
    "        elif ad == 'R' and bd == 'L':\n",
    "            if cur_loc < ax:\n",
    "                continue\n",
    "            elif cur_loc <= bx:\n",
    "                cur_loc = bx + 1\n",
    "\n",
    "if cur_loc != m + 1:\n",
    "    print('YES')\n",
    "else:\n",
    "    print('NO')"
   ]
  },
  {
   "cell_type": "markdown",
   "metadata": {},
   "source": [
    "A"
   ]
  },
  {
   "cell_type": "code",
   "execution_count": 3,
   "metadata": {},
   "outputs": [
    {
     "name": "stdout",
     "output_type": "stream",
     "text": [
      "10\n",
      "9 8 7\n",
      "24\n"
     ]
    }
   ],
   "source": [
    "n = int(input())\n",
    "li = list(map(int, input().split()))\n",
    "\n",
    "total = 0\n",
    "for v in li:\n",
    "    total += min(v, n)\n",
    "    \n",
    "print(total)"
   ]
  },
  {
   "cell_type": "markdown",
   "metadata": {},
   "source": [
    "B"
   ]
  },
  {
   "cell_type": "code",
   "execution_count": 5,
   "metadata": {},
   "outputs": [
    {
     "name": "stdout",
     "output_type": "stream",
     "text": [
      "8\n",
      "1 1\n",
      "2 1\n",
      "1 1\n",
      "4 1\n",
      "3 0\n",
      "5 1\n",
      "4 0\n",
      "1 0\n",
      "4\n"
     ]
    }
   ],
   "source": [
    "import io, os, sys\n",
    "input = io.BytesIO(os.read(0,os.fstat(0).st_size)).readline\n",
    "\n",
    "n = int(input())\n",
    "\n",
    "st = set()\n",
    "c = 0\n",
    "\n",
    "for _ in range(n):\n",
    "    a, b = map(int, input().split())\n",
    "    \n",
    "    if b == 1:\n",
    "        if a in st:\n",
    "            c += 1\n",
    "        else:\n",
    "            st.add(a)\n",
    "    else:\n",
    "        if a not in st:\n",
    "            c += 1\n",
    "        else:\n",
    "            st.discard(a)\n",
    "        \n",
    "c += len(st)\n",
    "            \n",
    "print(c)"
   ]
  },
  {
   "cell_type": "markdown",
   "metadata": {},
   "source": [
    "C"
   ]
  },
  {
   "cell_type": "code",
   "execution_count": 40,
   "metadata": {},
   "outputs": [
    {
     "name": "stdout",
     "output_type": "stream",
     "text": [
      "3\n",
      "3 3\n",
      "5 5\n",
      "6 6\n",
      "-1\n"
     ]
    }
   ],
   "source": [
    "import io, os, sys\n",
    "# input = io.BytesIO(os.read(0,os.fstat(0).st_size)).readline\n",
    "\n",
    "def is_weekday(tm):\n",
    "    tm %= 7\n",
    "    \n",
    "    if tm <= 4:\n",
    "        return True\n",
    "    return False\n",
    "\n",
    "n = int(input())\n",
    "\n",
    "li = [list(map(int, input().split())) for _ in range(n)]\n",
    "li.sort(key=lambda x: x[0])\n",
    "\n",
    "needed = 0\n",
    "cur_tm = 0\n",
    "ip = True\n",
    "for d, t in li:\n",
    "    while t and cur_tm < d:\n",
    "        cur_tm += 1\n",
    "        if is_weekday(cur_tm):\n",
    "            t -= 1\n",
    "            \n",
    "    if t:\n",
    "        needed += t\n",
    "        \n",
    "        if needed > cur_tm:\n",
    "            ip = False\n",
    "            break\n",
    "    \n",
    "if not ip:\n",
    "    print(-1)\n",
    "else:\n",
    "    print(needed)"
   ]
  },
  {
   "cell_type": "markdown",
   "metadata": {},
   "source": [
    "https://www.acmicpc.net/problem/1625 조명기구"
   ]
  },
  {
   "cell_type": "code",
   "execution_count": null,
   "metadata": {},
   "outputs": [],
   "source": [
    "행 연산과 열 연산은 서로 독립적이다.\n",
    "\n",
    "즉, 각 행별로 0와 1의 개수에 따라 먼저 행 연산을 전부 진행해줄 수 있다."
   ]
  },
  {
   "cell_type": "code",
   "execution_count": 14,
   "metadata": {},
   "outputs": [],
   "source": [
    "del input"
   ]
  },
  {
   "cell_type": "code",
   "execution_count": 61,
   "metadata": {},
   "outputs": [
    {
     "name": "stdout",
     "output_type": "stream",
     "text": [
      "3 6\n",
      "1 1 1 0 0 0\n",
      "1 1 1 0 0 0\n",
      "1 1 1 0 0 0\n",
      "0 0 0 1 1 1\n",
      "0 0 0 1 1 1\n",
      "0 0 0 1 1 1\n",
      "3\n",
      "1 1 4\n",
      "1 2 5\n",
      "1 3 6\n"
     ]
    }
   ],
   "source": [
    "from collections import Counter\n",
    "from copy import deepcopy\n",
    "import io, os, sys\n",
    "# input = io.BytesIO(os.read(0,os.fstat(0).st_size)).readline\n",
    "\n",
    "n, m = map(int, input().split())\n",
    "oa = [list(map(int, input().split())) for _ in range(n)]\n",
    "b = [list(map(int, input().split())) for _ in range(n)]\n",
    "\n",
    "a = deepcopy(oa)\n",
    "\n",
    "ip = True\n",
    "result = []\n",
    "for i in range(n):\n",
    "    c1_a = a[i].count(1)\n",
    "    c1_b = b[i].count(1)\n",
    "    \n",
    "    c0_a = m - c1_a\n",
    "    c0_b = m - c1_b\n",
    "    \n",
    "    if c1_a == c1_b:\n",
    "        continue\n",
    "    \n",
    "    if c1_a == c0_b:\n",
    "        result.append((0, i + 1))\n",
    "        for j in range(m):\n",
    "            a[i][j] ^= 1\n",
    "    else:\n",
    "        ip = False\n",
    "        break\n",
    "    \n",
    "assert ip # 통과함\n",
    "    \n",
    "if ip:\n",
    "    col_to_indices = dict()\n",
    "    index_to_col = [() for _ in range(m)]\n",
    "    for j in range(m):\n",
    "        temp = []\n",
    "        for i in range(n):\n",
    "            temp.append(a[i][j])\n",
    "\n",
    "        temp = tuple(temp)\n",
    "        if temp in col_to_indices:\n",
    "            col_to_indices[temp].add(j)\n",
    "        else:\n",
    "            col_to_indices[temp] = {j}\n",
    "            \n",
    "        index_to_col[j] = temp\n",
    "\n",
    "    for j in range(m):\n",
    "        temp_b = []\n",
    "        for i in range(n):\n",
    "            temp_b.append(b[i][j])\n",
    "            \n",
    "        temp_b = tuple(temp_b)\n",
    "\n",
    "        if temp_b == index_to_col[j]:\n",
    "            col_to_indices[temp_b].remove(j)\n",
    "            continue\n",
    "        else:\n",
    "            if temp_b not in col_to_indices or not col_to_indices[temp_b]:\n",
    "                ip = False\n",
    "                break\n",
    "            else:\n",
    "                to_ex = col_to_indices[temp_b].pop()\n",
    "                \n",
    "                assert j < to_ex # 통과함\n",
    "                result.append((1, j + 1, to_ex + 1))\n",
    "\n",
    "                col_to_indices[index_to_col[j]].remove(j)\n",
    "                col_to_indices[index_to_col[j]].add(to_ex)\n",
    "                \n",
    "                index_to_col[j], index_to_col[to_ex] = index_to_col[to_ex], index_to_col[j]\n",
    "        \n",
    "if not ip:\n",
    "    print(-1)\n",
    "else:\n",
    "    ct = Counter(result)\n",
    "    if ct:\n",
    "        assert ct.most_common()[0][1] <= 2 # 통과함\n",
    "    \n",
    "    for v in result:\n",
    "        if v[0] == 0:\n",
    "            i = v[1] - 1\n",
    "            \n",
    "            for j in range(m):\n",
    "                oa[i][j] ^= 1\n",
    "        else:\n",
    "            j1, j2 = v[1] - 1, v[2] - 1\n",
    "            \n",
    "            for i in range(n):\n",
    "                oa[i][j1], oa[i][j2] = oa[i][j2], oa[i][j1]\n",
    "            \n",
    "    is_diff = False\n",
    "    for i in range(n):\n",
    "        for j in range(m):\n",
    "            if oa[i][j] != b[i][j]:\n",
    "                is_diff = True\n",
    "                break\n",
    "            \n",
    "    assert not is_diff # 통과함\n",
    "            \n",
    "    print(len(result))\n",
    "    \n",
    "    for v in result:\n",
    "        print(*v)"
   ]
  },
  {
   "cell_type": "code",
   "execution_count": 34,
   "metadata": {},
   "outputs": [
    {
     "data": {
      "text/plain": [
       "{(0, 0, 0): set(), (1, 1, 1): set()}"
      ]
     },
     "execution_count": 34,
     "metadata": {},
     "output_type": "execute_result"
    }
   ],
   "source": [
    "col_to_indices"
   ]
  },
  {
   "cell_type": "code",
   "execution_count": 11,
   "metadata": {},
   "outputs": [
    {
     "data": {
      "text/plain": [
       "[[0, 0, 0], [0, 0, 0], [0, 0, 0]]"
      ]
     },
     "execution_count": 11,
     "metadata": {},
     "output_type": "execute_result"
    }
   ],
   "source": [
    "가능한데 불가능하다고 판단하는 로직?\n",
    "\n",
    "- 한번 a와 b의 열 정보를 서로 정렬 후 확인해보기\n",
    "\n",
    "만약 열 정보가 서로 같다면 무조건 가능하고 서로 다르다면 무조건 불가능함\n",
    "\n",
    "그러므로 열 정보가 서로 같은데 불가능하다고 하는지 확인하면 됨"
   ]
  }
 ],
 "metadata": {
  "kernelspec": {
   "display_name": "Python 3",
   "language": "python",
   "name": "python3"
  },
  "language_info": {
   "codemirror_mode": {
    "name": "ipython",
    "version": 3
   },
   "file_extension": ".py",
   "mimetype": "text/x-python",
   "name": "python",
   "nbconvert_exporter": "python",
   "pygments_lexer": "ipython3",
   "version": "3.7.4"
  }
 },
 "nbformat": 4,
 "nbformat_minor": 2
}
