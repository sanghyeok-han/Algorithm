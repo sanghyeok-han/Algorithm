{
 "cells": [
  {
   "cell_type": "raw",
   "metadata": {},
   "source": [
    "(solved_by:yuiop8747|solved_by:wannabe|solved_by:rottoy) tier:b5.. - solved_by:$me\n",
    "(solved_by:yuiop8747|solved_by:wannabe|solved_by:rottoy) tier:b1.. - solved_by:$me"
   ]
  },
  {
   "cell_type": "markdown",
   "metadata": {},
   "source": [
    "### Hawk eyes 13698"
   ]
  },
  {
   "cell_type": "code",
   "execution_count": 9,
   "metadata": {},
   "outputs": [
    {
     "name": "stdout",
     "output_type": "stream",
     "text": [
      "AB\n",
      "2\n",
      "4\n"
     ]
    }
   ],
   "source": [
    "li = [1, 0, 0, 2]\n",
    "\n",
    "def swap(a, b):\n",
    "    li[a], li[b] = li[b], li[a]\n",
    "\n",
    "s = input()\n",
    "tec = [(0, 1), (0, 2), (0, 3), (1, 2), (1, 3), (2, 3)] # to exchange\n",
    "for v in s:\n",
    "    swap(*tec[ord(v) - 65])\n",
    "    \n",
    "print(li.index(1) + 1)\n",
    "print(li.index(2) + 1)"
   ]
  },
  {
   "cell_type": "markdown",
   "metadata": {},
   "source": [
    "### Delayed Work 15115"
   ]
  },
  {
   "cell_type": "code",
   "execution_count": 22,
   "metadata": {},
   "outputs": [
    {
     "name": "stdout",
     "output_type": "stream",
     "text": [
      "3 4 5\n",
      "16.000\n"
     ]
    }
   ],
   "source": [
    "k, p, x = map(int, input().split())\n",
    "\n",
    "min_cost = float('inf')\n",
    "popul = 1\n",
    "while True:\n",
    "    cost = x * popul + (k / popul) * p\n",
    "    if cost < min_cost:\n",
    "        min_cost = cost\n",
    "    else:\n",
    "        break\n",
    "    popul += 1\n",
    "        \n",
    "print('{:.3f}'.format(min_cost))"
   ]
  },
  {
   "cell_type": "markdown",
   "metadata": {},
   "source": [
    "### 맞았는데 왜 틀리죠? 15820"
   ]
  },
  {
   "cell_type": "code",
   "execution_count": 23,
   "metadata": {},
   "outputs": [
    {
     "name": "stdout",
     "output_type": "stream",
     "text": [
      "2 0\n",
      "1 1\n",
      "-1 -1\n",
      "Accepted\n"
     ]
    }
   ],
   "source": [
    "s1, s2 = map(int, input().split())\n",
    "\n",
    "def check():\n",
    "    for _ in range(s1):\n",
    "        a, b = map(int, input().split())\n",
    "        if a != b:\n",
    "            return 'Wrong Answer'\n",
    "    for _ in range(s2):\n",
    "        a, b = map(int, input().split())\n",
    "        if a != b:\n",
    "            return 'Why Wrong!!!'\n",
    "    return 'Accepted'\n",
    "\n",
    "print(check())"
   ]
  },
  {
   "cell_type": "markdown",
   "metadata": {},
   "source": [
    "### 줄 세우기 1681"
   ]
  },
  {
   "cell_type": "code",
   "execution_count": 26,
   "metadata": {},
   "outputs": [
    {
     "name": "stdout",
     "output_type": "stream",
     "text": [
      "10 1\n",
      "22\n"
     ]
    }
   ],
   "source": [
    "n, k = map(int, input().split())\n",
    "k = str(k)\n",
    "\n",
    "c = 0\n",
    "cur = 0\n",
    "while True:\n",
    "    cur += 1\n",
    "    if k in str(cur):\n",
    "        continue\n",
    "    c += 1\n",
    "    if c == n:\n",
    "        break\n",
    "        \n",
    "print(cur)"
   ]
  },
  {
   "cell_type": "markdown",
   "metadata": {},
   "source": [
    "### 헤일스톤 수열 3943"
   ]
  },
  {
   "cell_type": "code",
   "execution_count": 30,
   "metadata": {},
   "outputs": [
    {
     "name": "stdout",
     "output_type": "stream",
     "text": [
      "4\n",
      "1\n",
      "1\n",
      "3\n",
      "16\n",
      "9999\n",
      "101248\n",
      "100000\n",
      "100000\n"
     ]
    }
   ],
   "source": [
    "import sys\n",
    "input = lambda: sys.stdin.readline().rstrip()\n",
    "\n",
    "def get_value(cur):\n",
    "    max_value = cur\n",
    "    while cur != 1:\n",
    "        if cur % 2 == 0:\n",
    "            cur //= 2\n",
    "        else:\n",
    "            cur = cur * 3 + 1\n",
    "            max_value = max(max_value, cur)\n",
    "    return max_value\n",
    "\n",
    "li = [0] * 100001\n",
    "for start in range(1, 100001):\n",
    "    value = get_value(start)\n",
    "    li[start] = value\n",
    "    \n",
    "t = int(input())\n",
    "for _ in range(t):\n",
    "    n = int(input())\n",
    "    \n",
    "    print(li[n])"
   ]
  },
  {
   "cell_type": "markdown",
   "metadata": {},
   "source": [
    "### 풍선 놀이 6246"
   ]
  },
  {
   "cell_type": "code",
   "execution_count": 34,
   "metadata": {},
   "outputs": [
    {
     "name": "stdout",
     "output_type": "stream",
     "text": [
      "30 3\n",
      "1 3\n",
      "3 7\n",
      "1 4\n",
      "13\n"
     ]
    }
   ],
   "source": [
    "n, q = map(int, input().split())\n",
    "\n",
    "li = [1] * n\n",
    "for _ in range(q):\n",
    "    L, I = map(int, input().split())\n",
    "    L -= 1\n",
    "    for i in range(L, n, I):\n",
    "        li[i] = 0\n",
    "        \n",
    "print(sum(li))"
   ]
  },
  {
   "cell_type": "markdown",
   "metadata": {},
   "source": [
    "### Odd Palindrome 15104"
   ]
  },
  {
   "cell_type": "code",
   "execution_count": 47,
   "metadata": {},
   "outputs": [
    {
     "name": "stdout",
     "output_type": "stream",
     "text": [
      "amanaplanacanalpanama\n",
      "Odd.\n"
     ]
    }
   ],
   "source": [
    "def check(s):\n",
    "    m = len(s)\n",
    "    for i in range(m):\n",
    "        if s[i] != s[m - i - 1]:\n",
    "            return False\n",
    "    return True\n",
    "\n",
    "def solve():\n",
    "    n = len(s)\n",
    "    for start in range(n):\n",
    "        for end in range(start + 1, n, 2):\n",
    "            if check(s[start:end + 1]):\n",
    "                return 'Or not.'\n",
    "    return 'Odd.'\n",
    "      \n",
    "s = input()\n",
    "\n",
    "print(solve())"
   ]
  },
  {
   "cell_type": "markdown",
   "metadata": {},
   "source": [
    "### 아무래도이문제는A번난이도인것같다 1402"
   ]
  },
  {
   "cell_type": "code",
   "execution_count": 1,
   "metadata": {},
   "outputs": [
    {
     "name": "stdout",
     "output_type": "stream",
     "text": [
      "1\n",
      "6 5\n",
      "yes\n"
     ]
    }
   ],
   "source": [
    "t = int(input())\n",
    "for _ in range(t):\n",
    "    input()\n",
    "    print('yes')"
   ]
  },
  {
   "cell_type": "markdown",
   "metadata": {},
   "source": [
    "### 동전 게임 2684"
   ]
  },
  {
   "cell_type": "code",
   "execution_count": 12,
   "metadata": {},
   "outputs": [
    {
     "name": "stdout",
     "output_type": "stream",
     "text": [
      "4\n",
      "HHHHHHHHHHHHHHHHHHHHHHHHHHHHHHHHHHHHHHHH\n",
      "0 0 0 0 0 0 0 38 \n",
      "TTTTTTTTTTTTTTTTTTTTTTTTTTTTTTTTTTTTTTTT\n",
      "38 0 0 0 0 0 0 0 \n",
      "HHTTTHHTTTHTHHTHHTTHTTTHHHTHTTHTTHTTTHTH\n",
      "4 7 6 4 7 4 5 1 \n",
      "HTHTHHHTHHHTHTHHHHTTTHTTTTTHHTTTTHTHHHHT\n",
      "6 3 4 5 3 6 5 6 \n"
     ]
    }
   ],
   "source": [
    "import sys\n",
    "# input = lambda: sys.stdin.readline().rstrip()\n",
    "\n",
    "def append_mc(p):\n",
    "    mc = [0] * 3\n",
    "    j = 0\n",
    "    for i in range(1, 3):\n",
    "        while j > 0 and p[i] != p[j]:\n",
    "            j = mc[j - 1]\n",
    "        if p[i] == p[j]:\n",
    "            j += 1\n",
    "            mc[i] = j\n",
    "    mcs.append(mc)\n",
    "\n",
    "def kmp(s, mci):\n",
    "    pi = 0\n",
    "    c = 0\n",
    "    for si in range(40):\n",
    "        while pi > 0 and s[si] != cases[mci][pi]:\n",
    "            pi = mcs[mci][pi - 1]\n",
    "        if s[si] == cases[mci][pi]:\n",
    "            pi += 1\n",
    "            if pi == 3:\n",
    "                c += 1\n",
    "                pi = mcs[mci][pi - 1]\n",
    "    return c\n",
    "    \n",
    "cases = ['TTT', 'TTH', 'THT', 'THH', 'HTT', 'HTH', 'HHT', 'HHH']\n",
    "mcs = []\n",
    "for case in cases:\n",
    "    append_mc(case)\n",
    "    \n",
    "for _ in range(int(input())):\n",
    "    s = input()\n",
    "    for i in range(8):\n",
    "        print(kmp(s, i), end=' ')\n",
    "    print()"
   ]
  },
  {
   "cell_type": "code",
   "execution_count": 16,
   "metadata": {},
   "outputs": [
    {
     "name": "stdout",
     "output_type": "stream",
     "text": [
      "1\n",
      "HTHTHHHTHHHTHTHHHHTTTHTTTTTHHTTTTHTHHHHT\n",
      "6 3 4 5 3 6 5 6 \n"
     ]
    }
   ],
   "source": [
    "cases = ['TTT', 'TTH', 'THT', 'THH', 'HTT', 'HTH', 'HHT', 'HHH']\n",
    "\n",
    "for _ in range(int(input())):\n",
    "    s = input()\n",
    "    for i in range(8):\n",
    "        c = 0  \n",
    "        for start in range(38):\n",
    "            if s[start:start+3] == cases[i]:\n",
    "                c += 1\n",
    "        print(c, end=' ')\n",
    "    print()  "
   ]
  },
  {
   "cell_type": "markdown",
   "metadata": {},
   "source": [
    "### iCow 6161"
   ]
  },
  {
   "cell_type": "code",
   "execution_count": 18,
   "metadata": {},
   "outputs": [
    {
     "name": "stdout",
     "output_type": "stream",
     "text": [
      "3 4\n",
      "10\n",
      "8\n",
      "11\n",
      "3\n",
      "1\n",
      "2\n",
      "3\n"
     ]
    }
   ],
   "source": [
    "import sys\n",
    "# input = lambda: sys.stdin.readline().rstrip()\n",
    "\n",
    "n, t = map(int, input().split())\n",
    "ratings = [int(input()) for _ in range(n)]\n",
    "\n",
    "for _ in range(t):\n",
    "    ti = ratings.index(max(ratings)) # target index\n",
    "    print(ti + 1)\n",
    "    \n",
    "    same = ratings[ti] // (n - 1)\n",
    "    diff = ratings[ti] % (n - 1)\n",
    "    for i in range(n):\n",
    "        if i == ti:\n",
    "            continue\n",
    "        ratings[i] += same\n",
    "        if diff:\n",
    "            ratings[i] += 1\n",
    "            diff -= 1\n",
    "    ratings[ti] = 0"
   ]
  },
  {
   "cell_type": "markdown",
   "metadata": {},
   "source": [
    "### Dream Counting 6212"
   ]
  },
  {
   "cell_type": "code",
   "execution_count": 20,
   "metadata": {},
   "outputs": [
    {
     "name": "stdout",
     "output_type": "stream",
     "text": [
      "129 137\n",
      "1 10 2 9 1 1 1 1 0 1\n"
     ]
    }
   ],
   "source": [
    "m, n = map(int, input().split())\n",
    "\n",
    "counts = [0] * 10\n",
    "for num in range(m, n + 1):\n",
    "    for v in str(num):\n",
    "        counts[int(v)] += 1\n",
    "        \n",
    "print(*counts)"
   ]
  },
  {
   "cell_type": "markdown",
   "metadata": {},
   "source": [
    "### Q-인덱스 13333"
   ]
  },
  {
   "cell_type": "code",
   "execution_count": 26,
   "metadata": {},
   "outputs": [
    {
     "name": "stdout",
     "output_type": "stream",
     "text": [
      "1\n",
      "0\n",
      "0\n"
     ]
    }
   ],
   "source": [
    "n = int(input())\n",
    "li = sorted(map(int, input().split()), reverse=True)\n",
    "\n",
    "cur = 0\n",
    "for i in range(n):\n",
    "    if li[i] >= i + 1:\n",
    "        cur = i + 1\n",
    "\n",
    "print(cur)"
   ]
  },
  {
   "cell_type": "markdown",
   "metadata": {},
   "source": [
    "### Latin Squares 15117"
   ]
  },
  {
   "cell_type": "code",
   "execution_count": 42,
   "metadata": {},
   "outputs": [
    {
     "name": "stdout",
     "output_type": "stream",
     "text": [
      "3\n",
      "333\n",
      "333\n",
      "333\n",
      "1 3\n",
      "No\n"
     ]
    }
   ],
   "source": [
    "def get_num(v):\n",
    "    if ord(v) < 65:\n",
    "        return int(v)\n",
    "    else:\n",
    "        return ord(v) - 65 + 10\n",
    "\n",
    "def check_latin():\n",
    "    for i in range(n):\n",
    "        if len(set(li[i])) != n:\n",
    "            return False\n",
    "    for i in range(n):\n",
    "        if len(set(li_t[i])) != n:\n",
    "            return False\n",
    "    return True\n",
    "        \n",
    "def check_reduced():\n",
    "    if li[0] != list(range(n)):\n",
    "        return False\n",
    "    if list(li_t[0]) != list(range(n)):\n",
    "        return False\n",
    "    return True\n",
    "    \n",
    "n = int(input())\n",
    "li = [list(input()) for _ in range(n)]\n",
    "\n",
    "for i in range(n):\n",
    "    for j in range(n):\n",
    "        li[i][j] = get_num(li[i][j])\n",
    "li_t = list(zip(*li))\n",
    "        \n",
    "if not check_latin():\n",
    "    print('No')\n",
    "else:\n",
    "    if check_reduced():\n",
    "        print('Reduced')\n",
    "    else:\n",
    "        print('Not Reduced')"
   ]
  },
  {
   "cell_type": "markdown",
   "metadata": {},
   "source": [
    "### Olivander 15366"
   ]
  },
  {
   "cell_type": "code",
   "execution_count": 44,
   "metadata": {},
   "outputs": [
    {
     "name": "stdout",
     "output_type": "stream",
     "text": [
      "3\n",
      "7 9 5\n",
      "6 13 10\n",
      "DA\n"
     ]
    }
   ],
   "source": [
    "n = int(input())\n",
    "xs = sorted(map(int, input().split()))\n",
    "ys = sorted(map(int, input().split()))\n",
    "\n",
    "def check():\n",
    "    for i in range(n):\n",
    "        if xs[i] > ys[i]:\n",
    "            return False\n",
    "    return True\n",
    "\n",
    "if check():\n",
    "    print('DA')\n",
    "else:\n",
    "    print('NE')"
   ]
  },
  {
   "cell_type": "markdown",
   "metadata": {},
   "source": [
    "### 우유가 넘어지면? 17363"
   ]
  },
  {
   "cell_type": "code",
   "execution_count": 75,
   "metadata": {},
   "outputs": [
    {
     "name": "stdout",
     "output_type": "stream",
     "text": [
      "O\\\n",
      ".-\n"
     ]
    }
   ],
   "source": [
    "def rotate(li):\n",
    "    nli = [[0] * n for _ in range(m)]\n",
    "    for i in range(m):\n",
    "        for j in range(n):\n",
    "            nli[i][j] = li[j][m - 1 - i]\n",
    "    return nli\n",
    "\n",
    "f = ['.', 'O', '-', '|', '/', '\\\\', '^', '<', 'v', '>']\n",
    "t = ['.', 'O', '|', '-', '\\\\', '/', '<', 'v', '>', '^']\n",
    "d = {f[i]: t[i] for i in range(10)}\n",
    "\n",
    "n, m = map(int, input().split())\n",
    "li = [list(input()) for _ in range(n)]\n",
    "\n",
    "nli = rotate(li)\n",
    "for i in range(m):\n",
    "    for j in range(n):\n",
    "        nli[i][j] = d[nli[i][j]]\n",
    "\n",
    "print('\\n'.join([''.join(v) for v in nli]))"
   ]
  },
  {
   "cell_type": "markdown",
   "metadata": {},
   "source": [
    "### Balanced String 17520"
   ]
  },
  {
   "cell_type": "code",
   "execution_count": 84,
   "metadata": {},
   "outputs": [
    {
     "name": "stdout",
     "output_type": "stream",
     "text": [
      "101\n",
      "393256\n"
     ]
    }
   ],
   "source": [
    "n = int(input())\n",
    "\n",
    "k = (n + 1) // 2\n",
    "\n",
    "cur = 1\n",
    "for i in range(k):\n",
    "    cur *= 2\n",
    "    cur %= 16769023\n",
    "    \n",
    "print(cur)"
   ]
  },
  {
   "cell_type": "markdown",
   "metadata": {},
   "source": [
    "### Star Arrangements 15121"
   ]
  },
  {
   "cell_type": "code",
   "execution_count": 9,
   "metadata": {},
   "outputs": [
    {
     "name": "stdout",
     "output_type": "stream",
     "text": [
      "51\n",
      "51:\n",
      "2,1\n",
      "3,3\n",
      "9,8\n",
      "17,17\n",
      "26,25\n"
     ]
    }
   ],
   "source": [
    "n = int(input())\n",
    "\n",
    "print(f'{n}:')\n",
    "for r1 in range(2, n // 2 + 2):\n",
    "    for r2 in range(r1 - 1, r1 + 1):\n",
    "        to_print = False\n",
    "        if r1 == r2 + 1:\n",
    "            if n - r1 >= 1 and (n - r1) % (r1 + r2) == 0:\n",
    "                to_print = True\n",
    "            if n % (r1 + r2) == 0:\n",
    "                to_print = True\n",
    "        else:\n",
    "            if n % r1 == 0:\n",
    "                to_print = True\n",
    "                \n",
    "        if to_print:\n",
    "            print(f'{r1},{r2}')"
   ]
  },
  {
   "cell_type": "markdown",
   "metadata": {},
   "source": [
    "### Forbidden Zero 15122"
   ]
  },
  {
   "cell_type": "code",
   "execution_count": 11,
   "metadata": {},
   "outputs": [
    {
     "name": "stdout",
     "output_type": "stream",
     "text": [
      "1234\n",
      "1235\n"
     ]
    }
   ],
   "source": [
    "n = int(input())\n",
    "\n",
    "n += 1\n",
    "while '0' in str(n):\n",
    "    n += 1\n",
    "    \n",
    "print(n)"
   ]
  },
  {
   "cell_type": "markdown",
   "metadata": {},
   "source": [
    "### Košnja 15322"
   ]
  },
  {
   "cell_type": "code",
   "execution_count": 14,
   "metadata": {},
   "outputs": [
    {
     "name": "stdout",
     "output_type": "stream",
     "text": [
      "2\n",
      "5 8\n",
      "8\n",
      "6 4\n",
      "6\n"
     ]
    }
   ],
   "source": [
    "import sys\n",
    "# input = lambda: sys.stdin.readline().rstrip()\n",
    "\n",
    "t = int(input())\n",
    "for _ in range(t):\n",
    "    n, m = map(int, input().split())\n",
    "    v = min(n, m)\n",
    "\n",
    "    print((v - 2) * 2 + 2)"
   ]
  },
  {
   "cell_type": "markdown",
   "metadata": {},
   "source": [
    "### 야바위 대장 15814"
   ]
  },
  {
   "cell_type": "code",
   "execution_count": 16,
   "metadata": {},
   "outputs": [
    {
     "name": "stdout",
     "output_type": "stream",
     "text": [
      "Youngmaan-good\n",
      "2\n",
      "1 3\n",
      "9 2\n",
      "Yn-ogmaanugood\n"
     ]
    }
   ],
   "source": [
    "li = list(input())\n",
    "t = int(input())\n",
    "for _ in range(t):\n",
    "    a, b = map(int, input().split())\n",
    "    li[a], li[b] = li[b], li[a]\n",
    "    \n",
    "print(''.join(li))"
   ]
  }
 ],
 "metadata": {
  "kernelspec": {
   "display_name": "Python 3",
   "language": "python",
   "name": "python3"
  },
  "language_info": {
   "codemirror_mode": {
    "name": "ipython",
    "version": 3
   },
   "file_extension": ".py",
   "mimetype": "text/x-python",
   "name": "python",
   "nbconvert_exporter": "python",
   "pygments_lexer": "ipython3",
   "version": "3.7.3"
  }
 },
 "nbformat": 4,
 "nbformat_minor": 4
}
