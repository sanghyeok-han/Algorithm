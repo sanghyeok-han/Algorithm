{
 "cells": [
  {
   "cell_type": "markdown",
   "metadata": {},
   "source": [
    "### Count Circle Groups 10216"
   ]
  },
  {
   "cell_type": "code",
   "execution_count": 42,
   "metadata": {},
   "outputs": [
    {
     "name": "stdout",
     "output_type": "stream",
     "text": [
      "2\n",
      "2\n",
      "0 0 1\n",
      "1 0 1\n",
      "1\n",
      "3\n",
      "0 0 1\n",
      "2 0 1\n",
      "10 0 5\n",
      "2\n"
     ]
    }
   ],
   "source": [
    "# 맞았음\n",
    "import sys\n",
    "# input = sys.stdin.readline\n",
    "\n",
    "T = int(input())\n",
    "for _ in range(T):\n",
    "    n = int(input())\n",
    "\n",
    "    parent_li = list(range(n))\n",
    "    rank_li = [0] * n\n",
    "\n",
    "    def find(v):\n",
    "        if v == parent_li[v]:\n",
    "            return v\n",
    "        else:\n",
    "            parent_li[v] = find(parent_li[v])\n",
    "            return parent_li[v]\n",
    "\n",
    "    def union(a, b):\n",
    "        a = find(a)\n",
    "        b = find(b)\n",
    "\n",
    "        if a != b:\n",
    "            if rank_li[a] >= rank_li[b]:\n",
    "                parent_li[b] = a\n",
    "\n",
    "                if rank_li[a] == rank_li[b]:\n",
    "                    rank_li[a] += 1\n",
    "            else:\n",
    "                parent_li[a] = b\n",
    "\n",
    "    li = []\n",
    "    for _ in range(n):\n",
    "        li.append(tuple(map(int, input().split())))\n",
    "    \n",
    "    for i, value in enumerate(li):\n",
    "        \n",
    "        a2, b2, r2 = value\n",
    "        for j, v in enumerate(li):\n",
    "            if i < j:\n",
    "                a1, b1, r1 = v\n",
    "                if (a1 - a2) ** 2 + (b1 - b2) ** 2 <= (r1 + r2) ** 2:\n",
    "                    union(i, j)\n",
    "                    \n",
    "    for i in range(n):\n",
    "        find(i)\n",
    "\n",
    "    print(len(set(parent_li)))"
   ]
  },
  {
   "cell_type": "code",
   "execution_count": 48,
   "metadata": {},
   "outputs": [
    {
     "name": "stdout",
     "output_type": "stream",
     "text": [
      "2\n",
      "2\n",
      "0 0 1\n",
      "1 0 1\n",
      "1\n",
      "3\n",
      "0 0 1\n",
      "2 0 1\n",
      "10 0 5\n",
      "2\n"
     ]
    }
   ],
   "source": [
    "# 맞았음, a1 - a2를 a1 - b1로 쓴 것과 마지막에 li.append(value) 안써준 것 때문에 늦었음\n",
    "# 또한 마지막에 전부 find 해줘야함\n",
    "import sys\n",
    "# input = sys.stdin.readline\n",
    "\n",
    "T = int(input())\n",
    "for _ in range(T):\n",
    "    n = int(input())\n",
    "\n",
    "    parent_li = list(range(n))\n",
    "    rank_li = [0] * n\n",
    "\n",
    "    def find(v):\n",
    "        if v == parent_li[v]:\n",
    "            return v\n",
    "        else:\n",
    "            parent_li[v] = find(parent_li[v])\n",
    "            return parent_li[v]\n",
    "\n",
    "    def union(a, b):\n",
    "        a = find(a)\n",
    "        b = find(b)\n",
    "\n",
    "        if a != b:\n",
    "            if rank_li[a] >= rank_li[b]:\n",
    "                parent_li[b] = a\n",
    "\n",
    "                if rank_li[a] == rank_li[b]:\n",
    "                    rank_li[a] += 1\n",
    "            else:\n",
    "                parent_li[a] = b\n",
    "\n",
    "    li = []\n",
    "    for i in range(n):\n",
    "        value = tuple(map(int, input().split()))\n",
    "        if not li:\n",
    "            li.append(value)\n",
    "        else:\n",
    "            a2, b2, r2 = value\n",
    "            for j, v in enumerate(li):\n",
    "                a1, b1, r1 = v\n",
    "                if (a1 - a2) ** 2 + (b1 - b2) ** 2 <= (r1 + r2) ** 2:\n",
    "                    union(i, j)\n",
    "            li.append(value)\n",
    "\n",
    "        for i in range(n):\n",
    "            find(i)\n",
    "\n",
    "    print(len(set(parent_li)))"
   ]
  },
  {
   "cell_type": "code",
   "execution_count": null,
   "metadata": {},
   "outputs": [],
   "source": [
    "# 다른 사람 코드 (hs980414) x 좌표와 y 좌표와 반지름 길이를 미리 저장해두는 방식으로 해서\n",
    "# 원소들을 unpacking 안해도 되게 하여 시간을 더 짧게 하였음\n",
    "import sys\n",
    "input = sys.stdin.readline\n",
    "\n",
    "def union(a, b):\n",
    "    parent_a = find(a)\n",
    "    parent_b = find(b)\n",
    "\n",
    "    if parent_a != parent_b:\n",
    "        parent[parent_b] = parent_a\n",
    "\n",
    "def find(node):\n",
    "    if parent[node] == node:\n",
    "        return node\n",
    "\n",
    "    p = find(parent[node])\n",
    "    parent[node] = p\n",
    "    return p\n",
    "\n",
    "for _ in range(int(input())):\n",
    "    n = int(input())\n",
    "\n",
    "    parent = [i for i in range(n)]\n",
    "    ypos = [0 for i in range(n)]\n",
    "    xpos = [0 for i in range(n)]\n",
    "    radius = [0 for i in range(n)]\n",
    "\n",
    "    for i in range(n):\n",
    "        y, x, r = map(int, input().split())\n",
    "        ypos[i] = y\n",
    "        xpos[i] = x\n",
    "        radius[i] = r\n",
    "\n",
    "    ans = n\n",
    "    for i in range(n):\n",
    "        for j in range(i+1, n):\n",
    "            ydif = ypos[i] - ypos[j]\n",
    "            xdif = xpos[i] - xpos[j]\n",
    "            r = radius[i] + radius[j]\n",
    "\n",
    "            if (ydif*ydif + xdif*xdif) <= (r*r):\n",
    "                if find(i) != find(j):\n",
    "                    union(i, j)\n",
    "                    ans -= 1\n",
    "\n",
    "    print(ans)"
   ]
  },
  {
   "cell_type": "markdown",
   "metadata": {},
   "source": [
    "### 전국시대 15809"
   ]
  },
  {
   "cell_type": "code",
   "execution_count": null,
   "metadata": {},
   "outputs": [],
   "source": [
    "# 일단 포기\n",
    "n, m = map(int, input().split())\n",
    "\n",
    "parent_li = list(range(n + 1))\n",
    "is_deleted_li = [True] + [False] * n\n",
    "\n",
    "people_num = []\n",
    "for _ in range(n):\n",
    "    people_num.append(int(input()))\n",
    "    \n",
    "\n",
    "def find(v):\n",
    "    if v == parent_li[v]:\n",
    "        return v\n",
    "    else:\n",
    "        parent_li[v] = find(parent_li[v])\n",
    "        return parent_li[v]\n",
    "\n",
    "def union(a, b, h):\n",
    "    a = find(a)\n",
    "    b = find(b)\n",
    "\n",
    "    if h == 2:\n",
    "        if people_num[a] == people_num[b]:\n",
    "            is_deleted_li[a] = True\n",
    "            is_deleted_li[b] = True\n",
    "            \n",
    "            \n",
    "\n",
    "            if rank_li[a] == rank_li[b]:\n",
    "                rank_li[a] += 1\n",
    "        else:\n",
    "            parent_li[a] = bb"
   ]
  },
  {
   "cell_type": "markdown",
   "metadata": {},
   "source": [
    "### 네트워크 연결 1922\n",
    "- 최소 스패닝 트리"
   ]
  },
  {
   "cell_type": "code",
   "execution_count": 51,
   "metadata": {},
   "outputs": [
    {
     "name": "stdout",
     "output_type": "stream",
     "text": [
      "6\n",
      "9\n",
      "1 2 5\n",
      "1 3 4\n",
      "2 3 2\n",
      "2 4 7\n",
      "3 4 6\n",
      "3 5 11\n",
      "4 5 3\n",
      "4 6 8\n",
      "5 6 8\n",
      "23\n"
     ]
    }
   ],
   "source": [
    "import sys\n",
    "# input = sys.stdin.readline\n",
    "\n",
    "n = int(input())\n",
    "m = int(input())\n",
    "\n",
    "parent_li = list(range(n + 1))\n",
    "rank_li = [0] * (n + 1)\n",
    "\n",
    "def find(v):\n",
    "    if v == parent_li[v]:\n",
    "        return v\n",
    "    else:\n",
    "        parent_li[v] = find(parent_li[v])\n",
    "        return parent_li[v]\n",
    "\n",
    "def union(a, b):\n",
    "    a = find(a)\n",
    "    b = find(b)\n",
    "\n",
    "    if a != b:\n",
    "        if rank_li[a] >= rank_li[b]:\n",
    "            parent_li[b] = a\n",
    "\n",
    "            if rank_li[a] == rank_li[b]:\n",
    "                rank_li[a] += 1\n",
    "        else:\n",
    "            parent_li[a] = b\n",
    "            \n",
    "li = []\n",
    "for _ in range(m):\n",
    "    li.append(tuple(map(int, input().split())))\n",
    "    \n",
    "li.sort(key=lambda x: x[2])\n",
    "\n",
    "total_cost = 0\n",
    "for a, b, c in li:\n",
    "    if find(a) != find(b):\n",
    "        union(a, b)\n",
    "        total_cost += c\n",
    "        \n",
    "print(total_cost)"
   ]
  },
  {
   "cell_type": "markdown",
   "metadata": {},
   "source": [
    "### 별자리 만들기 4386\n",
    "- 최소 스패닝 트리"
   ]
  },
  {
   "cell_type": "code",
   "execution_count": 54,
   "metadata": {},
   "outputs": [
    {
     "name": "stdout",
     "output_type": "stream",
     "text": [
      "3\n",
      "1.0 1.0\n",
      "2.0 2.0\n",
      "2.0 4.0\n",
      "3.41\n"
     ]
    }
   ],
   "source": [
    "n = int(input())\n",
    "\n",
    "parent_li = list(range(n))\n",
    "rank_li = [0] * n\n",
    "\n",
    "def find(v):\n",
    "    if v == parent_li[v]:\n",
    "        return v\n",
    "    else:\n",
    "        parent_li[v] = find(parent_li[v])\n",
    "        return parent_li[v]\n",
    "\n",
    "def union(a, b):\n",
    "    a = find(a)\n",
    "    b = find(b)\n",
    "\n",
    "    if a != b:\n",
    "        if rank_li[a] >= rank_li[b]:\n",
    "            parent_li[b] = a\n",
    "\n",
    "            if rank_li[a] == rank_li[b]:\n",
    "                rank_li[a] += 1\n",
    "        else:\n",
    "            parent_li[a] = b\n",
    "    \n",
    "li = []\n",
    "for _ in range(n):\n",
    "    li.append(tuple(map(float, input().split())))\n",
    "    \n",
    "edges = []\n",
    "for i, value in enumerate(li):\n",
    "    for j, v in enumerate(li):\n",
    "        if i < j:\n",
    "            x1, y1 = value\n",
    "            x2, y2 = v\n",
    "            c = ((x1 - x2) ** 2 + (y1 - y2) ** 2) ** (0.5)\n",
    "            edges.append((i, j, c))\n",
    "\n",
    "edges.sort(key=lambda x: x[2])\n",
    "\n",
    "total_cost = 0\n",
    "for a, b, c in edges:\n",
    "    if find(a) != find(b):\n",
    "        union(a, b)\n",
    "        total_cost += c\n",
    "        \n",
    "print(\"%.2f\" % total_cost)"
   ]
  },
  {
   "cell_type": "markdown",
   "metadata": {},
   "source": [
    "### 전력난 6497\n",
    "- 최소 스패닝 트리"
   ]
  },
  {
   "cell_type": "code",
   "execution_count": 1,
   "metadata": {},
   "outputs": [
    {
     "name": "stdout",
     "output_type": "stream",
     "text": [
      "7 11\n",
      "0 1 7\n",
      "0 3 5\n",
      "1 2 8\n",
      "1 3 9\n",
      "1 4 7\n",
      "2 4 5\n",
      "3 4 15\n",
      "3 5 6\n",
      "4 5 8\n",
      "4 6 9\n",
      "5 6 11\n",
      "51\n",
      "0 0\n"
     ]
    }
   ],
   "source": [
    "import sys\n",
    "# input = sys.stdin.readline\n",
    "\n",
    "while True:\n",
    "    m, n = map(int, input().split())\n",
    "    if m == 0 and n == 0:\n",
    "        break\n",
    "\n",
    "    parent_li = list(range(n))\n",
    "    rank_li = [0] * n\n",
    "\n",
    "    def find(v):\n",
    "        if v == parent_li[v]:\n",
    "            return v\n",
    "        else:\n",
    "            parent_li[v] = find(parent_li[v])\n",
    "            return parent_li[v]\n",
    "\n",
    "    def union(a, b):\n",
    "        a = find(a)\n",
    "        b = find(b)\n",
    "\n",
    "        if a != b:\n",
    "            if rank_li[a] >= rank_li[b]:\n",
    "                parent_li[b] = a\n",
    "\n",
    "                if rank_li[a] == rank_li[b]:\n",
    "                    rank_li[a] += 1\n",
    "            else:\n",
    "                parent_li[a] = b\n",
    "\n",
    "    li = []\n",
    "    for _ in range(n):\n",
    "        li.append(tuple(map(int, input().split())))\n",
    "        \n",
    "    original_cost = sum((v[2] for v in li))\n",
    "    li.sort(key=lambda x: x[2])\n",
    "    min_cost = 0\n",
    "    for a, b, c in li:\n",
    "        if find(a) != find(b):\n",
    "            union(a, b)\n",
    "            min_cost += c\n",
    "\n",
    "    print(original_cost - min_cost)"
   ]
  },
  {
   "cell_type": "markdown",
   "metadata": {},
   "source": [
    "### 행성 연결\n",
    "- 최소 스패닝 트리"
   ]
  },
  {
   "cell_type": "code",
   "execution_count": 3,
   "metadata": {},
   "outputs": [
    {
     "name": "stdout",
     "output_type": "stream",
     "text": [
      "3\n",
      "0 2 3\n",
      "2 0 1\n",
      "3 1 0\n"
     ]
    }
   ],
   "source": [
    "n = int(input())\n",
    "li = []\n",
    "for _ in range(n):\n",
    "    li.append(tuple(map(int, input().split())))"
   ]
  },
  {
   "cell_type": "code",
   "execution_count": 4,
   "metadata": {},
   "outputs": [],
   "source": [
    "edges = []\n",
    "for i in range(n - 1):\n",
    "    for j in range(i + 1, n):\n",
    "        edges.append((i, j, li[i][j]))"
   ]
  },
  {
   "cell_type": "code",
   "execution_count": 7,
   "metadata": {},
   "outputs": [
    {
     "name": "stdout",
     "output_type": "stream",
     "text": [
      "5\n",
      "0 6 8 1 3\n",
      "6 0 5 7 3\n",
      "8 5 0 9 4\n",
      "1 7 9 0 6\n",
      "3 3 4 6 0\n",
      "11\n"
     ]
    }
   ],
   "source": [
    "import sys\n",
    "# input = sys.stdin.readline\n",
    "\n",
    "n = int(input())\n",
    "\n",
    "parent_li = list(range(n))\n",
    "rank_li = [0] * n\n",
    "\n",
    "li = []\n",
    "for _ in range(n):\n",
    "    li.append(tuple(map(int, input().split())))\n",
    "    \n",
    "edges = []\n",
    "for i in range(n - 1):\n",
    "    for j in range(i + 1, n):\n",
    "        edges.append((i, j, li[i][j]))\n",
    "\n",
    "def find(v):\n",
    "    if v == parent_li[v]:\n",
    "        return v\n",
    "    else:\n",
    "        parent_li[v] = find(parent_li[v])\n",
    "        return parent_li[v]\n",
    "\n",
    "def union(a, b):\n",
    "    a = find(a)\n",
    "    b = find(b)\n",
    "\n",
    "    if a != b:\n",
    "        if rank_li[a] >= rank_li[b]:\n",
    "            parent_li[b] = a\n",
    "\n",
    "            if rank_li[a] == rank_li[b]:\n",
    "                rank_li[a] += 1\n",
    "        else:\n",
    "            parent_li[a] = b\n",
    "            \n",
    "edges.sort(key=lambda x: x[2])\n",
    "\n",
    "total_cost = 0\n",
    "for a, b, c in edges:\n",
    "    if find(a) != find(b):\n",
    "        union(a, b)\n",
    "        total_cost += c\n",
    "        \n",
    "print(total_cost)"
   ]
  },
  {
   "cell_type": "markdown",
   "metadata": {},
   "source": [
    "### Jungle Roads 4650"
   ]
  },
  {
   "cell_type": "code",
   "execution_count": 18,
   "metadata": {},
   "outputs": [
    {
     "name": "stdout",
     "output_type": "stream",
     "text": [
      "3\n",
      "A 2 B 10 C 40\n",
      "B 1 C 20\n",
      "30\n",
      "0\n"
     ]
    }
   ],
   "source": [
    "import sys\n",
    "# input = sys.stdin.readline\n",
    "\n",
    "def change(alpha):\n",
    "    return ord(alpha) - 65\n",
    "\n",
    "def find(v):\n",
    "    if v == parent_li[v]:\n",
    "        return v\n",
    "    else:\n",
    "        parent_li[v] = find(parent_li[v])\n",
    "        return parent_li[v]\n",
    "\n",
    "def union(a, b):\n",
    "    a = find(a)\n",
    "    b = find(b)\n",
    "\n",
    "    if a != b:\n",
    "        if rank_li[a] >= rank_li[b]:\n",
    "            parent_li[b] = a\n",
    "\n",
    "            if rank_li[a] == rank_li[b]:\n",
    "                rank_li[a] += 1\n",
    "        else:\n",
    "            parent_li[a] = b\n",
    "\n",
    "while True:\n",
    "    n = int(input())\n",
    "    if n == 0:\n",
    "        break\n",
    "\n",
    "    li = []\n",
    "    for _ in range(n - 1):\n",
    "        value = input().split()\n",
    "        a = value[0]\n",
    "\n",
    "        value = value[2:]\n",
    "        if value:\n",
    "            b_s = [v for i, v in enumerate(value) if i % 2 == 0]\n",
    "            costs = [int(v) for i, v in enumerate(value) if i % 2 == 1]\n",
    "\n",
    "            for i in range(len(b_s)):\n",
    "                li.append((change(a), change(b_s[i]), costs[i]))\n",
    "\n",
    "    li.sort(key=lambda x: x[2])\n",
    "\n",
    "    parent_li = list(range(n))\n",
    "    rank_li = [0] * n\n",
    "    \n",
    "    total_cost = 0\n",
    "    for a, b, c in li:\n",
    "        if find(a) != find(b):\n",
    "            union(a, b)\n",
    "            total_cost += c    \n",
    "\n",
    "    print(total_cost)"
   ]
  },
  {
   "cell_type": "markdown",
   "metadata": {},
   "source": [
    "### Bad Cowtractors 7044"
   ]
  },
  {
   "cell_type": "code",
   "execution_count": 21,
   "metadata": {},
   "outputs": [
    {
     "name": "stdout",
     "output_type": "stream",
     "text": [
      "5 8\n",
      "1 2 3\n",
      "1 3 7\n",
      "2 3 10\n",
      "2 4 4\n",
      "2 5 8\n",
      "3 4 6\n",
      "3 5 2\n",
      "4 5 17\n",
      "42\n"
     ]
    }
   ],
   "source": [
    "import sys\n",
    "# input = sys.stdin.readline\n",
    "\n",
    "n, m = map(int, input().split())\n",
    "\n",
    "li = []\n",
    "for _ in range(m):\n",
    "    li.append(tuple(map(int, input().split())))\n",
    "\n",
    "def find(v):\n",
    "    if v == parent_li[v]:\n",
    "        return v\n",
    "    else:\n",
    "        parent_li[v] = find(parent_li[v])\n",
    "        return parent_li[v]\n",
    "\n",
    "def union(a, b):\n",
    "    a = find(a)\n",
    "    b = find(b)\n",
    "\n",
    "    if a != b:\n",
    "        if rank_li[a] >= rank_li[b]:\n",
    "            parent_li[b] = a\n",
    "\n",
    "            if rank_li[a] == rank_li[b]:\n",
    "                rank_li[a] += 1\n",
    "        else:\n",
    "            parent_li[a] = b\n",
    "            \n",
    "parent_li = list(range(n + 1))\n",
    "rank_li = [0] * (n + 1)\n",
    "\n",
    "li.sort(key=lambda x: x[2], reverse=True)\n",
    "\n",
    "total_cost = 0\n",
    "for a, b, c in li:\n",
    "    if find(a) != find(b):\n",
    "        union(a, b)\n",
    "        total_cost += c\n",
    "        \n",
    "for i in range(1, n + 1):\n",
    "    find(i)\n",
    "\n",
    "if len(set(parent_li[1:])) == 1:\n",
    "    print(total_cost)\n",
    "else:\n",
    "    print(-1)"
   ]
  },
  {
   "cell_type": "markdown",
   "metadata": {},
   "source": [
    "### 공항 10775\n",
    "- 그리디, 분리 집합"
   ]
  },
  {
   "cell_type": "code",
   "execution_count": 6,
   "metadata": {},
   "outputs": [
    {
     "name": "stdout",
     "output_type": "stream",
     "text": [
      "4\n",
      "6\n",
      "2\n",
      "2\n",
      "3\n",
      "3\n",
      "4\n",
      "4\n",
      "3\n"
     ]
    }
   ],
   "source": [
    "import sys\n",
    "# input = sys.stdin.readline\n",
    "\n",
    "g = int(input().strip())\n",
    "p = int(input().strip())\n",
    "\n",
    "parent = list(range(g + 1))\n",
    "\n",
    "def find(v):\n",
    "    if parent[v] == v:\n",
    "        return v\n",
    "    else:\n",
    "        parent[v] = find(parent[v])\n",
    "        return parent[v]\n",
    "    \n",
    "def union(a, b):\n",
    "    a = find(a)\n",
    "    b = find(b)\n",
    "    \n",
    "    parent[b] = a\n",
    "\n",
    "count = 0\n",
    "is_ended = False\n",
    "for _ in range(p):\n",
    "    value = int(input().strip())\n",
    "    \n",
    "    if not is_ended:\n",
    "        value = find(value)\n",
    "        if value == 0:\n",
    "            is_ended = True\n",
    "        else:\n",
    "            union(value - 1, value)\n",
    "            count += 1\n",
    "    \n",
    "print(count)"
   ]
  },
  {
   "cell_type": "markdown",
   "metadata": {},
   "source": [
    "### 도시 분할 계획 1647\n",
    "- 최소 스패닝 트리"
   ]
  },
  {
   "cell_type": "code",
   "execution_count": 4,
   "metadata": {},
   "outputs": [
    {
     "name": "stdout",
     "output_type": "stream",
     "text": [
      "8\n"
     ]
    }
   ],
   "source": [
    "import sys\n",
    "# input = sys.stdin.readline\n",
    "\n",
    "n, m = map(int, input().rstrip().split())\n",
    "\n",
    "li = []\n",
    "for _ in range(m):\n",
    "    li.append(tuple(map(int, input().rstrip().split())))\n",
    "    \n",
    "li.sort(key=lambda x: x[2])\n",
    "\n",
    "parent = list(range(n + 1))\n",
    "rank = [0] * (n + 1)\n",
    "\n",
    "def find(v):\n",
    "    if v == parent[v]:\n",
    "        return v\n",
    "    else:\n",
    "        parent[v] = find(parent[v])\n",
    "        return parent[v]\n",
    "    \n",
    "def union(a, b):\n",
    "    if rank[a] >= rank[b]:\n",
    "        parent[b] = a\n",
    "        \n",
    "        if rank[a] == rank[b]:\n",
    "            rank[a] += 1\n",
    "    else:\n",
    "        parent[a] = b\n",
    "        \n",
    "last_cost = 0\n",
    "total_cost = 0\n",
    "for a, b, c in li:\n",
    "    a = find(a)\n",
    "    b = find(b)\n",
    "    \n",
    "    if a != b:\n",
    "        last_cost = c\n",
    "        total_cost += c\n",
    "        union(a, b)\n",
    "        \n",
    "print(total_cost - last_cost)"
   ]
  },
  {
   "cell_type": "markdown",
   "metadata": {},
   "source": [
    "### 사이클 게임 20040\n",
    "- 분리 집합"
   ]
  },
  {
   "cell_type": "code",
   "execution_count": 5,
   "metadata": {},
   "outputs": [
    {
     "name": "stdout",
     "output_type": "stream",
     "text": [
      "6 5\n"
     ]
    }
   ],
   "source": [
    "n, m = map(int, input().split())"
   ]
  },
  {
   "cell_type": "code",
   "execution_count": 8,
   "metadata": {},
   "outputs": [
    {
     "name": "stdout",
     "output_type": "stream",
     "text": [
      "0 1\n",
      "1 2\n",
      "1 3\n",
      "0 3\n",
      "4\n"
     ]
    }
   ],
   "source": [
    "import sys\n",
    "# input = sys.stdin.readline\n",
    "\n",
    "n, m = map(int, input().rstrip().split())\n",
    "\n",
    "parent = list(range(n))\n",
    "rank = [0] * n\n",
    "\n",
    "def find(v):\n",
    "    if v == parent[v]:\n",
    "        return v\n",
    "    else:\n",
    "        parent[v] = find(parent[v])\n",
    "        return parent[v]\n",
    "\n",
    "def union(a, b):\n",
    "    if rank[a] >= rank[b]:\n",
    "        parent[b] = a\n",
    "        \n",
    "        if rank[a] == rank[b]:\n",
    "            rank[a] += 1\n",
    "    else:\n",
    "        parent[a] = b\n",
    "    \n",
    "result = 0\n",
    "for i in range(1, m + 1):\n",
    "    a, b = map(int, input().rstrip().split())\n",
    "    \n",
    "    a = find(a)\n",
    "    b = find(b)\n",
    "    \n",
    "    if a != b:\n",
    "        union(a, b)\n",
    "    else:\n",
    "        result = i\n",
    "        break\n",
    "        \n",
    "print(result)"
   ]
  },
  {
   "cell_type": "markdown",
   "metadata": {},
   "source": [
    "### 행성 터널 2887\n",
    "- 정렬, 최소 스패닝 트리"
   ]
  },
  {
   "cell_type": "code",
   "execution_count": 12,
   "metadata": {},
   "outputs": [
    {
     "name": "stdout",
     "output_type": "stream",
     "text": [
      "5\n",
      "11 -15 -15\n",
      "14 -5 -15\n",
      "-1 -1 -5\n",
      "10 -4 -1\n",
      "19 -4 19\n"
     ]
    }
   ],
   "source": [
    "n = int(input())\n",
    "\n",
    "li = []\n",
    "for i in range(n):\n",
    "    a, b, c = map(int, input().split())\n",
    "    li.append((i, a, b, c))"
   ]
  },
  {
   "cell_type": "code",
   "execution_count": 18,
   "metadata": {},
   "outputs": [
    {
     "name": "stdout",
     "output_type": "stream",
     "text": [
      "4\n"
     ]
    }
   ],
   "source": [
    "import sys\n",
    "# input = sys.stdin.readline\n",
    "\n",
    "n = int(input().rstrip())\n",
    "\n",
    "li = []\n",
    "for i in range(n):\n",
    "    a, b, c = map(int, input().rstrip().split())\n",
    "    li.append((i, a, b, c))\n",
    "\n",
    "case1 = sorted(li, key=lambda x: x[1])\n",
    "case2 = sorted(li, key=lambda x: x[2])\n",
    "case3 = sorted(li, key=lambda x: x[3])\n",
    "\n",
    "edges = []\n",
    "for i in range(1, n):\n",
    "    cost1 = abs(case1[i][1] - case1[i - 1][1])\n",
    "    edges.append((case1[i][0], case1[i - 1][0], cost1))\n",
    "    \n",
    "    cost2 = abs(case2[i][2] - case2[i - 1][2])\n",
    "    edges.append((case2[i][0], case2[i - 1][0], cost2))\n",
    "    \n",
    "    cost3 = abs(case3[i][3] - case3[i - 1][3])\n",
    "    edges.append((case3[i][0], case3[i - 1][0], cost3))\n",
    "    \n",
    "edges.sort(key=lambda x: x[2])\n",
    "\n",
    "parent = list(range(n))\n",
    "rank = [0] * n\n",
    "\n",
    "def find(v):\n",
    "    if v == parent[v]:\n",
    "        return v\n",
    "    else:\n",
    "        parent[v] = find(parent[v])\n",
    "        return parent[v]\n",
    "    \n",
    "def union(a, b):\n",
    "    if rank[a] >= rank[b]:\n",
    "        parent[b] = a\n",
    "        if rank[a] == rank[b]:\n",
    "            rank[a] += 1\n",
    "    else:\n",
    "        parent[a] = b\n",
    "        \n",
    "min_total_cost = 0\n",
    "for a, b, cost in edges:\n",
    "    a = find(a)\n",
    "    b = find(b)\n",
    "    if find(a) != find(b):\n",
    "        union(a, b)\n",
    "        min_total_cost += cost\n",
    "            \n",
    "print(min_total_cost)"
   ]
  },
  {
   "cell_type": "markdown",
   "metadata": {},
   "source": [
    "### 다리 만들기 2 17472\n",
    "- 브루트포스, 너비 우선 탐색, 깊이 우선 탐색, 최소 스패닝 트리"
   ]
  },
  {
   "cell_type": "code",
   "execution_count": 69,
   "metadata": {},
   "outputs": [
    {
     "name": "stdout",
     "output_type": "stream",
     "text": [
      "7 8\n",
      "9\n"
     ]
    }
   ],
   "source": [
    "from collections import deque\n",
    "\n",
    "n, m = map(int, input().split())\n",
    "li = [list(map(int, input().split())) for _ in range(n)]\n",
    "\n",
    "# s = '''0 0 0 0 0 0 1 1\n",
    "# 1 1 0 0 0 0 1 1\n",
    "# 1 1 0 0 0 0 0 0\n",
    "# 1 1 0 0 0 1 1 0\n",
    "# 0 0 0 0 0 1 1 0\n",
    "# 0 0 0 0 0 0 0 0\n",
    "# 1 1 1 1 1 1 1 1'''\n",
    "# li = s.split('\\n')\n",
    "# li = [list(map(int, v.split())) for v in li]\n",
    "\n",
    "islands = []\n",
    "for i in range(n):\n",
    "    for j in range(m):\n",
    "        if li[i][j] == 1:\n",
    "            islands.append((i, j))\n",
    "    \n",
    "dx = [0, 0, -1, 1]\n",
    "dy = [-1, 1, 0, 0]\n",
    "\n",
    "visited = [[False] * m for _ in range(n)]\n",
    "\n",
    "current_island_num = 1\n",
    "max_island_num = 1\n",
    "for sx, sy in islands:\n",
    "    if visited[sx][sy]:\n",
    "        continue\n",
    "    \n",
    "    visited[sx][sy] = True\n",
    "    li[sx][sy] = current_island_num\n",
    "    \n",
    "    queue = deque()\n",
    "    queue.append((sx, sy))\n",
    "    \n",
    "    while queue:\n",
    "        x, y = queue.popleft()\n",
    "        \n",
    "        for i in range(4):\n",
    "            nx = x + dx[i]\n",
    "            ny = y + dy[i]\n",
    "            \n",
    "            if 0 <= nx < n and 0 <= ny < m:\n",
    "                if not visited[nx][ny]:\n",
    "                    visited[nx][ny] = True\n",
    "                    \n",
    "                    if li[nx][ny] == 1:\n",
    "                        li[nx][ny] = current_island_num\n",
    "                        queue.append((nx, ny))\n",
    "     \n",
    "    max_island_num = current_island_num\n",
    "    current_island_num += 1\n",
    "    \n",
    "edges = []\n",
    "for sx, sy in islands:\n",
    "    current_island_num = li[sx][sy]\n",
    "    queue = deque()\n",
    "    queue.extend(((sx, sy, 0, i) for i in range(4))) # (x, y, 다리 길이, 진행방향), 0: 왼쪽, 1: 오른쪽, 2: 위쪽, 3: 아래쪽\n",
    "    \n",
    "    while queue:\n",
    "        x, y, length, d = queue.popleft()\n",
    "        \n",
    "        nx = x + dx[d]\n",
    "        ny = y + dy[d]\n",
    "        \n",
    "        if 0 <= nx < n and 0 <= ny < m:\n",
    "            if li[nx][ny] == current_island_num:\n",
    "                continue\n",
    "            if li[nx][ny] == 0:\n",
    "                queue.append((nx, ny, length + 1, d))\n",
    "            else:\n",
    "                if length >= 2:\n",
    "                    edges.append((current_island_num, li[nx][ny], length))\n",
    "                    \n",
    "edges.sort(key=lambda x: x[2])\n",
    "\n",
    "parent = list(range(max_island_num + 1))\n",
    "rank = [0] * (max_island_num + 1)\n",
    "\n",
    "def find(v):\n",
    "    if v == parent[v]:\n",
    "        return v\n",
    "    else:\n",
    "        parent[v] = find(parent[v])\n",
    "        return parent[v]\n",
    "    \n",
    "def union(a, b):\n",
    "    if rank[a] >= rank[b]:\n",
    "        parent[b] = a\n",
    "        if rank[a] == rank[b]:\n",
    "            rank[a] += 1\n",
    "    else:\n",
    "        parent[a] = b\n",
    "        \n",
    "min_total_cost = 0\n",
    "for a, b, cost in edges:\n",
    "    a = find(a)\n",
    "    b = find(b)\n",
    "    \n",
    "    if a != b:\n",
    "        union(a, b)\n",
    "        min_total_cost += cost\n",
    "\n",
    "for i in range(1, max_island_num + 1):\n",
    "    find(i)\n",
    "    \n",
    "if len(set(parent[1:])) == 1:\n",
    "    print(min_total_cost)\n",
    "else:\n",
    "    print(-1)"
   ]
  },
  {
   "cell_type": "code",
   "execution_count": 67,
   "metadata": {},
   "outputs": [
    {
     "data": {
      "text/plain": [
       "2"
      ]
     },
     "execution_count": 67,
     "metadata": {},
     "output_type": "execute_result"
    }
   ],
   "source": [
    "max_island_num"
   ]
  },
  {
   "cell_type": "code",
   "execution_count": 65,
   "metadata": {},
   "outputs": [
    {
     "data": {
      "text/plain": [
       "[[1, 1, 1, 1, 1],\n",
       " [1, 0, 0, 0, 1],\n",
       " [1, 0, 2, 0, 1],\n",
       " [1, 0, 0, 0, 1],\n",
       " [1, 1, 1, 1, 1]]"
      ]
     },
     "execution_count": 65,
     "metadata": {},
     "output_type": "execute_result"
    }
   ],
   "source": [
    "li"
   ]
  },
  {
   "cell_type": "code",
   "execution_count": null,
   "metadata": {},
   "outputs": [],
   "source": []
  }
 ],
 "metadata": {
  "kernelspec": {
   "display_name": "Python 3",
   "language": "python",
   "name": "python3"
  },
  "language_info": {
   "codemirror_mode": {
    "name": "ipython",
    "version": 3
   },
   "file_extension": ".py",
   "mimetype": "text/x-python",
   "name": "python",
   "nbconvert_exporter": "python",
   "pygments_lexer": "ipython3",
   "version": "3.7.3"
  }
 },
 "nbformat": 4,
 "nbformat_minor": 4
}
