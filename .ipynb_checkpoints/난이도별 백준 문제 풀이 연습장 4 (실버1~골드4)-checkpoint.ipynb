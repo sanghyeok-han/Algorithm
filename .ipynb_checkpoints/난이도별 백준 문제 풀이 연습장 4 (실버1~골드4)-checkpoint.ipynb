{
 "cells": [
  {
   "cell_type": "markdown",
   "metadata": {},
   "source": [
    "### 램프 1034"
   ]
  },
  {
   "cell_type": "raw",
   "metadata": {},
   "source": [
    "다른 형태의 행은 절대 같이 켜져있는 상태가 될 수 없음\n",
    "0이 짝수 개 있을 때 k가 홀수거나 0이 홀수 개 있을 때 k가 짝수라면 해당 k로는 해당 행을 켤 수 없음\n",
    "또한 0의 수가 k보다 크다면 해당 행을 켤 수 없음\n",
    "\n",
    "해당 k로 켜는 것이 가능한 행 중 가장 많이 있는 행의 수가 정답이 됨\n",
    "\n",
    "(행 모양, 해당 행 모양 개수, 0 개수)"
   ]
  },
  {
   "cell_type": "code",
   "execution_count": 16,
   "metadata": {},
   "outputs": [
    {
     "name": "stdout",
     "output_type": "stream",
     "text": [
      "3 2\n",
      "01\n",
      "10\n",
      "10\n",
      "1\n",
      "2\n"
     ]
    }
   ],
   "source": [
    "from collections import Counter\n",
    "\n",
    "n, m = map(int, input().split())\n",
    "li = [input() for _ in range(n)]\n",
    "k = int(input())\n",
    "\n",
    "c = Counter(li)\n",
    "rows = c.items()\n",
    "rows = [(row[1], row[0].count('0')) for row in rows] # [(해당 모양 행의 개수, 0의 개수), ...]\n",
    "rows = [row[0] for row in rows if (row[1] + k) % 2 == 0 and row[1] <= k] # 주어진 k로 변환 가능한 행만 남기기\n",
    "\n",
    "if not rows:\n",
    "    print(0)\n",
    "else:\n",
    "    print(max(rows))"
   ]
  },
  {
   "cell_type": "markdown",
   "metadata": {},
   "source": [
    "### 주사위 쌓기 2116"
   ]
  },
  {
   "cell_type": "code",
   "execution_count": 3,
   "metadata": {},
   "outputs": [
    {
     "name": "stdout",
     "output_type": "stream",
     "text": [
      "5\n",
      "2 3 1 6 5 4\n",
      "3 1 2 4 6 5\n",
      "5 6 4 1 3 2\n",
      "1 3 6 2 4 5\n",
      "4 1 6 5 2 3\n"
     ]
    }
   ],
   "source": [
    "n = int(input())\n",
    "li = [list(map(int, input().split())) for _ in range(n)]"
   ]
  },
  {
   "cell_type": "code",
   "execution_count": 15,
   "metadata": {},
   "outputs": [
    {
     "name": "stdout",
     "output_type": "stream",
     "text": [
      "29\n"
     ]
    }
   ],
   "source": [
    "import sys\n",
    "# input = lambda: sys.stdin.readline().rstrip()\n",
    "\n",
    "n = int(input())\n",
    "li = [list(map(int, input().split())) for _ in range(n)]\n",
    "\n",
    "def get_info(v):\n",
    "    d = dict()\n",
    "    c = [0, 5, 1, 3, 2, 4]\n",
    "    for i in range(0, 6, 2):\n",
    "        d[v[c[i]]] = v[c[i + 1]]\n",
    "        d[v[c[i + 1]]] = v[c[i]]\n",
    "    \n",
    "    return d\n",
    "\n",
    "# 각 주사위의 각 눈별 반댓면 숫자 정보를 가지고 있음\n",
    "nli = []\n",
    "for v in li:\n",
    "    nli.append(get_info(v))\n",
    "    \n",
    "all_st = set(range(1, 7))\n",
    "dp = [[0] * 7 for _ in range(n)] # dp[층수][윗면] = 총점\n",
    "\n",
    "# 1층의 경우 윗면별 총점을 계산해줌\n",
    "for i in range(1, 7):\n",
    "    sides = all_st - {i, nli[0][i]}\n",
    "    score = max(sides)\n",
    "    dp[0][i] = score\n",
    "    \n",
    "for i in range(1, n):\n",
    "    # dn: downside num\n",
    "    for dn in range(1, 7):\n",
    "        un = nli[i][dn] # upside num\n",
    "        sides = all_st - {dn, un}\n",
    "        dp[i][un] = dp[i - 1][dn] + max(sides)\n",
    "        \n",
    "print(max(dp[-1]))"
   ]
  },
  {
   "cell_type": "markdown",
   "metadata": {},
   "source": [
    "### 머리 톡톡 1241"
   ]
  },
  {
   "cell_type": "code",
   "execution_count": 11,
   "metadata": {},
   "outputs": [
    {
     "name": "stdout",
     "output_type": "stream",
     "text": [
      "2\n",
      "0\n",
      "2\n",
      "1\n",
      "3\n"
     ]
    }
   ],
   "source": [
    "from collections import Counter\n",
    "import sys\n",
    "# input = lambda: sys.stdin.readline().rstrip()\n",
    "\n",
    "def get_divisors(num):\n",
    "    sq = num ** 0.5\n",
    "    \n",
    "    for mod in range(1, int(sq) + 1):\n",
    "        if num % mod == 0:\n",
    "            yield mod         \n",
    "            if mod != sq:\n",
    "                yield num // mod\n",
    "\n",
    "n = int(input())\n",
    "li = [int(input()) for _ in range(n)]\n",
    "c = Counter(li)\n",
    "for value in li:\n",
    "    count = 0\n",
    "    for v in get_divisors(value):\n",
    "        if v in c:\n",
    "            count += c[v]\n",
    "            \n",
    "    print(count - 1)"
   ]
  },
  {
   "cell_type": "markdown",
   "metadata": {},
   "source": [
    "### 추월 2002"
   ]
  },
  {
   "cell_type": "code",
   "execution_count": null,
   "metadata": {},
   "outputs": [],
   "source": [
    "들어가는 쪽을 a, 나가는 쪽을 b라고 함\n",
    "a에서 가장 처음을 저장하고 b에서 그것이 나오기 전까지 st에 추가하고 count를 추가해나감\n",
    "그것이 나오면 st에 추가해줌\n",
    "\n",
    "그 후로 a에서 빼면서 이미 st에 있는 것이면 패스함"
   ]
  },
  {
   "cell_type": "code",
   "execution_count": 11,
   "metadata": {},
   "outputs": [
    {
     "name": "stdout",
     "output_type": "stream",
     "text": [
      "3\n",
      "a\n",
      "b\n",
      "c\n",
      "c\n",
      "b\n",
      "a\n",
      "2\n"
     ]
    }
   ],
   "source": [
    "import sys\n",
    "# input = lambda: sys.stdin.readline().rstrip()\n",
    "\n",
    "n = int(input())\n",
    "\n",
    "a = [input() for _ in range(n)]\n",
    "b = [input() for _ in range(n)]\n",
    "\n",
    "a_index = 0\n",
    "b_index = 0\n",
    "cur = ''\n",
    "st = set()\n",
    "count = 0\n",
    "while a_index < n:\n",
    "    cur = a[a_index]\n",
    "    if cur in st:\n",
    "        a_index += 1\n",
    "        continue\n",
    "    while True:\n",
    "        to_check = b[b_index]\n",
    "        st.add(to_check)\n",
    "        if cur != to_check:\n",
    "            count += 1\n",
    "            b_index += 1\n",
    "        else:\n",
    "            a_index += 1\n",
    "            b_index += 1\n",
    "            break\n",
    "            \n",
    "print(count)"
   ]
  },
  {
   "cell_type": "markdown",
   "metadata": {},
   "source": [
    "### 제곱수 찾기 1025"
   ]
  },
  {
   "cell_type": "code",
   "execution_count": 86,
   "metadata": {},
   "outputs": [
    {
     "name": "stdout",
     "output_type": "stream",
     "text": [
      "1 1\n",
      "1\n",
      "1\n"
     ]
    }
   ],
   "source": [
    "n, m = map(int, input().split())\n",
    "li = [list(map(int, input())) for _ in range(n)]\n",
    "\n",
    "result = -1\n",
    "\n",
    "for i in range(n):\n",
    "    for j in range(m):\n",
    "        value = li[i][j] ** 0.5 \n",
    "        if value == int(value):\n",
    "            result = max(result, li[i][j])\n",
    "\n",
    "for x_term in range(-n, n + 1):\n",
    "    for y_term in range(-m, m + 1):\n",
    "        if x_term == 0 and y_term == 0:\n",
    "            continue\n",
    "        for sx in range(n):\n",
    "            for sy in range(m):\n",
    "                x, y = sx, sy\n",
    "                selected = str(li[x][y])\n",
    "                while True:\n",
    "                    x += x_term\n",
    "                    y += y_term\n",
    "                    if x < 0 or x >= n or y < 0 or y >= m:\n",
    "                        break\n",
    "                    selected += str(li[x][y])\n",
    "                    value = int(selected) ** 0.5 \n",
    "                    if value == int(value):\n",
    "                        result = max(result, int(selected))\n",
    "\n",
    "print(result)"
   ]
  },
  {
   "cell_type": "markdown",
   "metadata": {},
   "source": [
    "### 경사로 14890"
   ]
  },
  {
   "cell_type": "code",
   "execution_count": 49,
   "metadata": {
    "scrolled": true
   },
   "outputs": [
    {
     "name": "stdout",
     "output_type": "stream",
     "text": [
      "2 1\n",
      "1 2\n",
      "2 3\n",
      "4\n"
     ]
    }
   ],
   "source": [
    "def check(part):\n",
    "    cont_count = 1\n",
    "    in_cont_count_check = False\n",
    "    for i in range(1, n):\n",
    "        if not in_cont_count_check:\n",
    "            if part[i - 1] == part[i]:\n",
    "                cont_count += 1\n",
    "            elif part[i - 1] + 1 == part[i]:\n",
    "                if cont_count >= l:\n",
    "                    cont_count = 1\n",
    "                else:\n",
    "                    return False\n",
    "            elif part[i - 1] == part[i] + 1:\n",
    "                if l == 1:\n",
    "                    cont_count = 0\n",
    "                else:\n",
    "                    cont_count = 1\n",
    "                    in_cont_count_check = True\n",
    "            else:\n",
    "                return False\n",
    "        else:\n",
    "            if part[i - 1] == part[i]:\n",
    "                cont_count += 1\n",
    "                if cont_count == l:\n",
    "                    cont_count = 0\n",
    "                    in_cont_count_check = False\n",
    "            else:\n",
    "                return False\n",
    "    if in_cont_count_check:\n",
    "        return False\n",
    "    \n",
    "    return True\n",
    "\n",
    "n, l = map(int, input().split())\n",
    "li = [list(map(int, input().split())) for _ in range(n)]\n",
    "\n",
    "# n, l = 6, 2\n",
    "# s = '''3 3 3 3 3 3\n",
    "# 2 3 3 3 3 3\n",
    "# 2 2 2 3 2 3\n",
    "# 1 1 1 2 2 2\n",
    "# 1 1 1 3 3 1\n",
    "# 1 1 2 3 3 2'''\n",
    "# li = [list(map(int, v.split())) for v in s.split('\\n')]\n",
    "\n",
    "count = 0\n",
    "for v in li:\n",
    "    if check(v):\n",
    "#         print(v)\n",
    "        count += 1\n",
    "        \n",
    "for v in zip(*li):\n",
    "    if check(v):\n",
    "#         print(v)\n",
    "        count += 1\n",
    "        \n",
    "print(count)"
   ]
  }
 ],
 "metadata": {
  "kernelspec": {
   "display_name": "Python 3",
   "language": "python",
   "name": "python3"
  },
  "language_info": {
   "codemirror_mode": {
    "name": "ipython",
    "version": 3
   },
   "file_extension": ".py",
   "mimetype": "text/x-python",
   "name": "python",
   "nbconvert_exporter": "python",
   "pygments_lexer": "ipython3",
   "version": "3.7.3"
  }
 },
 "nbformat": 4,
 "nbformat_minor": 4
}
