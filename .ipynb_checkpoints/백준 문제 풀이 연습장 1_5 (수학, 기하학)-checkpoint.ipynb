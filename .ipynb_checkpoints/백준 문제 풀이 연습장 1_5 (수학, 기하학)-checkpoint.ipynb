{
 "cells": [
  {
   "cell_type": "markdown",
   "metadata": {},
   "source": [
    "https://solved.ac/search?query=tag%3Amath+tier%3Ag4+-+%40%24me+-+tag%3Ageometry&sort=solved&direction=desc&page=1"
   ]
  },
  {
   "cell_type": "markdown",
   "metadata": {},
   "source": [
    "https://www.acmicpc.net/problem/4233 가짜소수"
   ]
  },
  {
   "cell_type": "code",
   "execution_count": 35,
   "metadata": {},
   "outputs": [
    {
     "name": "stdout",
     "output_type": "stream",
     "text": [
      "341 2\n",
      "yes\n",
      "341 3\n",
      "no\n",
      "1105 3\n",
      "yes\n",
      "1105 2\n",
      "yes\n",
      "0 0\n"
     ]
    }
   ],
   "source": [
    "# 시간 초과\n",
    "import sys\n",
    "# input = lambda: sys.stdin.readline().rstrip()\n",
    "\n",
    "while True:\n",
    "    p, a = map(int, input().split())\n",
    "    if p == a == 0:\n",
    "        break\n",
    "\n",
    "    cur = a\n",
    "    iter_len = -1\n",
    "    for i in range(p - 1):\n",
    "        cur *= a\n",
    "        cur %= p\n",
    "\n",
    "        if cur == a:\n",
    "            iter_len = i + 1\n",
    "            break\n",
    "\n",
    "    p -= 1\n",
    "    temp = p % iter_len\n",
    "\n",
    "    if temp == 0:\n",
    "        print('yes')\n",
    "    else:\n",
    "        print('no')"
   ]
  },
  {
   "cell_type": "code",
   "execution_count": null,
   "metadata": {},
   "outputs": [],
   "source": [
    "import sys\n",
    "# input = lambda: sys.stdin.readline().rstrip()\n",
    "\n",
    "while True:\n",
    "    p, a = map(int, input().split())\n",
    "    if p == a == 0:\n",
    "        break\n",
    "        \n",
    "    ip = True\n",
    "    for mod in range(2, int(p ** 0.5) + 1):\n",
    "        if p % mod == 0:\n",
    "            ip = False\n",
    "            break\n",
    "            \n",
    "    if ip:\n",
    "        print('no')\n",
    "    else:\n",
    "        r = pow(a, p, p)\n",
    "\n",
    "        if r == a:\n",
    "            print('yes')\n",
    "        else:\n",
    "            print('no')"
   ]
  },
  {
   "cell_type": "markdown",
   "metadata": {},
   "source": [
    "https://www.acmicpc.net/problem/1630 오민식"
   ]
  },
  {
   "cell_type": "code",
   "execution_count": 31,
   "metadata": {},
   "outputs": [
    {
     "name": "stdout",
     "output_type": "stream",
     "text": [
      "100000\n",
      "210925494\n"
     ]
    }
   ],
   "source": [
    "from collections import defaultdict as dd\n",
    "\n",
    "max_num = 1000001\n",
    "sp = [0] * (max_num + 1)\n",
    "primes = []\n",
    "for i in range(2, max_num + 1):\n",
    "    if sp[i] == 0:\n",
    "        sp[i] = i\n",
    "        primes.append(i)\n",
    "        \n",
    "    j = 0\n",
    "    while j < len(primes) and i * primes[j] <= max_num and primes[j] <= sp[i]:\n",
    "        sp[i * primes[j]] = primes[j]\n",
    "        j += 1\n",
    "\n",
    "mod = 987654321\n",
    "\n",
    "n = int(input())\n",
    "\n",
    "needed = [0] * (n + 1)\n",
    "\n",
    "for num in range(2, n + 1):\n",
    "    ct = dd(int)\n",
    "    while num > 1:\n",
    "        ct[sp[num]] += 1\n",
    "        num //= sp[num]\n",
    "        \n",
    "    for key in ct:\n",
    "        needed[key] = max(needed[key], ct[key])\n",
    "        \n",
    "cur = 1\n",
    "for num in range(1, n + 1):\n",
    "    for _ in range(needed[num]):\n",
    "        cur *= num\n",
    "        cur %= mod\n",
    "        \n",
    "print(cur)"
   ]
  },
  {
   "cell_type": "code",
   "execution_count": 39,
   "metadata": {},
   "outputs": [
    {
     "name": "stdout",
     "output_type": "stream",
     "text": [
      "1\n",
      "1\n"
     ]
    }
   ],
   "source": [
    "max_num = 1000001\n",
    "ip = [True] * (max_num + 1)\n",
    "ip[0] = ip[1] = False\n",
    "for mod in range(2, int(max_num ** 0.5) + 1):\n",
    "    if ip[mod]:\n",
    "        for v in range(mod * mod, max_num + 1, mod):\n",
    "            ip[v] = False\n",
    "            \n",
    "primes = [i for i, v in enumerate(ip) if v]\n",
    "mod = 987654321\n",
    "\n",
    "n = int(input())\n",
    "\n",
    "r = 1\n",
    "for p in primes:\n",
    "    cur = 1\n",
    "    while cur * p <= n:\n",
    "        r *= p\n",
    "        r %= mod        \n",
    "        cur *= p\n",
    "\n",
    "print(r)"
   ]
  },
  {
   "cell_type": "markdown",
   "metadata": {},
   "source": [
    "https://www.acmicpc.net/problem/10881 프로도의 선물 포장"
   ]
  },
  {
   "cell_type": "code",
   "execution_count": 2,
   "metadata": {},
   "outputs": [
    {
     "name": "stdout",
     "output_type": "stream",
     "text": [
      "2\n",
      "3 4\n",
      "5 6\n",
      "4 1\n",
      "50\n",
      "3 3\n",
      "2 2\n",
      "1 1\n",
      "15\n"
     ]
    }
   ],
   "source": [
    "from itertools import permutations as perm, product\n",
    "import sys\n",
    "# input = lambda: sys.stdin.readline().rstrip()\n",
    "\n",
    "inf = float('inf')\n",
    "\n",
    "for _ in range(int(input())):\n",
    "    li = [list(map(int, input().split())) for _ in range(3)]\n",
    "    \n",
    "    min_r = inf\n",
    "    for case1 in perm(li):\n",
    "        for case2 in product(*[range(2)] * 3):\n",
    "            if case2[0] == 0:\n",
    "                a1 = case1[0][0]\n",
    "                a2 = case1[0][1]\n",
    "            else:\n",
    "                a1 = case1[0][1]\n",
    "                a2 = case1[0][0]\n",
    "\n",
    "            if case2[1] == 0:\n",
    "                b1 = case1[1][0]\n",
    "                b2 = case1[1][1]\n",
    "            else:\n",
    "                b1 = case1[1][1]\n",
    "                b2 = case1[1][0]\n",
    "\n",
    "            if case2[2] == 0:\n",
    "                c1 = case1[2][0]\n",
    "                c2 = case1[2][1]\n",
    "            else:\n",
    "                c1 = case1[2][1]\n",
    "                c2 = case1[2][0]\n",
    "\n",
    "            if a1 >= b1 + c1:\n",
    "                temp = a1 * (a2 + max(b2, c2))\n",
    "                min_r = min(min_r, temp)\n",
    "\n",
    "#             if a1 + c1 >= b1:\n",
    "#                 temp = (a1 + c1) * (max(a2, c2) + b2)\n",
    "#                 min_r = min(min_r, temp)\n",
    "                \n",
    "            temp = (a1 + b1 + c1) * max(a2, b2, c2)\n",
    "            min_r = min(min_r, temp)\n",
    "\n",
    "    print(min_r)"
   ]
  },
  {
   "cell_type": "markdown",
   "metadata": {},
   "source": [
    "https://www.acmicpc.net/problem/10253 헨리"
   ]
  },
  {
   "cell_type": "code",
   "execution_count": 10,
   "metadata": {},
   "outputs": [
    {
     "name": "stdout",
     "output_type": "stream",
     "text": [
      "8 11\n",
      "4070\n"
     ]
    }
   ],
   "source": [
    "import sys\n",
    "input = lambda: sys.stdin.readline().rstrip()\n",
    "\n",
    "for _ in range(int(input())):\n",
    "    a, b = map(int, input().split())\n",
    "\n",
    "    num = a\n",
    "    denom = b\n",
    "\n",
    "    while num != 0:\n",
    "        x = b // a\n",
    "        if b % a:\n",
    "            x += 1\n",
    "\n",
    "        num = a * x - b\n",
    "        denom = b * x\n",
    "\n",
    "        if num == 0:\n",
    "            break\n",
    "\n",
    "        a = num\n",
    "        b = denom\n",
    "\n",
    "    print(x)"
   ]
  },
  {
   "cell_type": "markdown",
   "metadata": {},
   "source": [
    "https://www.acmicpc.net/problem/17394 핑거 스냅"
   ]
  },
  {
   "cell_type": "code",
   "execution_count": 15,
   "metadata": {},
   "outputs": [
    {
     "name": "stdout",
     "output_type": "stream",
     "text": [
      "98765 500 550\n",
      "12\n"
     ]
    }
   ],
   "source": [
    "from collections import deque\n",
    "import sys\n",
    "input = lambda: sys.stdin.readline().rstrip()\n",
    "\n",
    "inf = float('inf')\n",
    "\n",
    "max_num = 100001\n",
    "ip = [True] * (max_num + 1)\n",
    "ip[0] = ip[1] = False\n",
    "for mod in range(2, int(max_num ** 0.5) + 1):\n",
    "    if ip[mod]:\n",
    "        for v in range(mod * mod, max_num + 1, mod):\n",
    "            ip[v] = False\n",
    "            \n",
    "primes = {i for i, v in enumerate(ip) if v}\n",
    "\n",
    "for _ in range(int(input())):\n",
    "    n, a, b = map(int, input().split())\n",
    "    dists = [inf] * 2000001\n",
    "    dists[n] = 0\n",
    "\n",
    "    queue = deque()\n",
    "    queue.append(n)\n",
    "    r = -1\n",
    "    while queue:\n",
    "        value = queue.popleft()\n",
    "\n",
    "        if a <= value <= b and value in primes:\n",
    "            r = dists[value]\n",
    "            break\n",
    "\n",
    "        v = value // 2\n",
    "        if dists[v] == inf:\n",
    "            dists[v] = dists[value] + 1\n",
    "            queue.append(v)\n",
    "\n",
    "        v = value // 3\n",
    "        if dists[v] == inf:\n",
    "            dists[v] = dists[value] + 1\n",
    "            queue.append(v)\n",
    "\n",
    "        v = value + 1\n",
    "        if v <= 2000000 and dists[v] == inf:\n",
    "            dists[v] = dists[value] + 1\n",
    "            queue.append(v)\n",
    "\n",
    "        v = value - 1\n",
    "        if v >= 0 and dists[v] == inf:\n",
    "            dists[v] = dists[value] + 1\n",
    "            queue.append(v)\n",
    "\n",
    "    print(r)"
   ]
  },
  {
   "cell_type": "markdown",
   "metadata": {},
   "source": [
    "https://www.acmicpc.net/problem/5710 전기 요금"
   ]
  },
  {
   "cell_type": "code",
   "execution_count": 23,
   "metadata": {},
   "outputs": [
    {
     "name": "stdout",
     "output_type": "stream",
     "text": [
      "0 0\n",
      "0\n"
     ]
    }
   ],
   "source": [
    "import sys\n",
    "input = lambda: sys.stdin.readline().rstrip()\n",
    "\n",
    "def get_used(cost):\n",
    "    total = 0\n",
    "    \n",
    "    used1 = min(cost // 2, 100)\n",
    "    cost -= used1 * 2\n",
    "    \n",
    "    used2 = min(cost // 3, 9900)\n",
    "    cost -= used2 * 3\n",
    "    \n",
    "    used3 = min(cost // 5, 990000)\n",
    "    cost -= used3 * 5\n",
    "    \n",
    "    used4 = cost // 7\n",
    "    \n",
    "    used = used1 + used2 + used3 + used4\n",
    "    \n",
    "    return used\n",
    "\n",
    "def get_cost(used):\n",
    "    total = 0\n",
    "    \n",
    "    if used > 1000000:\n",
    "        total += (used - 1000000) * 7\n",
    "        used = 1000000\n",
    "        \n",
    "    if used >= 10001:\n",
    "        total += (used - 10000) * 5\n",
    "        used = 10000\n",
    "        \n",
    "    if used >= 101:\n",
    "        total += (used - 100) * 3\n",
    "        used = 100\n",
    "        \n",
    "    total += used * 2\n",
    "    \n",
    "    return total\n",
    "\n",
    "while True:\n",
    "    a, b = map(int, input().split())\n",
    "    if a == b == 0:\n",
    "        break\n",
    "\n",
    "    total_used = get_used(a)\n",
    "\n",
    "    start = 0\n",
    "    end = total_used // 2\n",
    "    r = -1\n",
    "    while start <= end:\n",
    "        mid = (start + end) // 2\n",
    "\n",
    "        used1 = mid\n",
    "        used2 = total_used - mid\n",
    "\n",
    "        cost1 = get_cost(used1)\n",
    "        cost2 = get_cost(used2)\n",
    "\n",
    "        abs_diff = abs(cost2 - cost1)\n",
    "\n",
    "        if abs_diff > b:\n",
    "            start = mid + 1\n",
    "        elif abs_diff < b:\n",
    "            end = mid - 1\n",
    "        else:\n",
    "            r = mid\n",
    "            break\n",
    "\n",
    "    result = get_cost(r)\n",
    "\n",
    "    print(result)"
   ]
  },
  {
   "cell_type": "markdown",
   "metadata": {},
   "source": [
    "https://www.acmicpc.net/problem/14622 소수 게임"
   ]
  },
  {
   "cell_type": "code",
   "execution_count": 41,
   "metadata": {},
   "outputs": [
    {
     "data": {
      "text/plain": [
       "-3"
      ]
     },
     "execution_count": 41,
     "metadata": {},
     "output_type": "execute_result"
    }
   ],
   "source": [
    "from heapq import heappush, heappop, heapify\n",
    "\n",
    "heap = [-1, -2, -3]\n",
    "heapify(heap)\n",
    "heappop(heap)"
   ]
  },
  {
   "cell_type": "code",
   "execution_count": null,
   "metadata": {},
   "outputs": [],
   "source": [
    "from heapq import heappush, heappop\n",
    "import sys\n",
    "input = lambda: sys.stdin.readline().rstrip()\n",
    "\n",
    "max_num = 5000001\n",
    "ip = [True] * (max_num + 1)\n",
    "ip[0] = ip[1] = False\n",
    "for mod in range(2, int(max_num ** 0.5) + 1):\n",
    "    if ip[mod]:\n",
    "        for v in range(mod * mod, max_num + 1, mod):\n",
    "            ip[v] = False\n",
    "            \n",
    "primes = {i for i, v in enumerate(ip) if v}\n",
    "\n",
    "a_sc = 0\n",
    "b_sc = 0\n",
    "\n",
    "a_sayed = []\n",
    "b_sayed = []\n",
    "total_sayed = set()\n",
    "\n",
    "n = int(input())\n",
    "for _ in range(n):\n",
    "    a, b = map(int, input().split())\n",
    "    \n",
    "    if a not in primes:\n",
    "        if len(b_sayed) <= 2:\n",
    "            b_sc += 1000\n",
    "        else:\n",
    "            b_sc += b_sayed[0]\n",
    "    elif a in total_sayed:\n",
    "        a_sc -= 1000\n",
    "    else:\n",
    "        heappush(a_sayed, a)\n",
    "        if len(a_sayed) >= 4:\n",
    "            heappop(a_sayed)\n",
    "        total_sayed.add(a)\n",
    "        \n",
    "    if b not in primes:\n",
    "        if len(a_sayed) <= 2:\n",
    "            a_sc += 1000\n",
    "        else:\n",
    "            a_sc += a_sayed[0]\n",
    "    elif b in total_sayed:\n",
    "        b_sc -= 1000\n",
    "    else:\n",
    "        heappush(b_sayed, b)\n",
    "        if len(b_sayed) >= 4:\n",
    "            heappop(b_sayed)\n",
    "        total_sayed.add(b)\n",
    "        \n",
    "if a_sc > b_sc:\n",
    "    print('소수의 신 갓대웅')\n",
    "elif a_sc < b_sc:\n",
    "    print('소수 마스터 갓규성')\n",
    "else:\n",
    "    print('우열을 가릴 수 없음')"
   ]
  },
  {
   "cell_type": "markdown",
   "metadata": {},
   "source": [
    "https://www.acmicpc.net/problem/4913 페르마의 크리스마스 정리"
   ]
  },
  {
   "cell_type": "code",
   "execution_count": 71,
   "metadata": {},
   "outputs": [
    {
     "name": "stdout",
     "output_type": "stream",
     "text": [
      "10 10\n",
      "10 10 0 0\n",
      "-1 -1\n"
     ]
    }
   ],
   "source": [
    "import sys\n",
    "# input = lambda: sys.stdin.readline().rstrip()\n",
    "\n",
    "max_num = 1000000\n",
    "ip = [True] * (max_num + 1)\n",
    "ip[0] = ip[1] = False\n",
    "for mod in range(2, int(max_num ** 0.5) + 1):\n",
    "    if ip[mod]:\n",
    "        for v in range(mod * mod, max_num + 1, mod):\n",
    "            ip[v] = False\n",
    "primes = {i for i, v in enumerate(ip) if v}\n",
    "            \n",
    "isp = [False] * (max_num + 1)\n",
    "for a in range(1, 1001):\n",
    "    sa = a ** 2\n",
    "    for b in range(a, 1001):\n",
    "        sb = b ** 2\n",
    "        \n",
    "        sv = sa + sb\n",
    "        if sv > 1000000:\n",
    "            break\n",
    "        if sv in primes:\n",
    "            isp[sv] = True\n",
    "\n",
    "s_ip = [0] * (max_num + 2)\n",
    "s_isp = [0] * (max_num + 2)\n",
    "cumul_ip = 0\n",
    "cumul_isp = 0\n",
    "for i in range(max_num + 1):\n",
    "    cumul_ip += ip[i]\n",
    "    cumul_isp += isp[i]\n",
    "    \n",
    "    s_ip[i + 1] = cumul_ip\n",
    "    s_isp[i + 1] = cumul_isp\n",
    "\n",
    "while True:\n",
    "    ol, ou = map(int, input().split())\n",
    "    if ol == ou == -1:\n",
    "        break\n",
    "    \n",
    "    l, u = ol, ou\n",
    "\n",
    "    if u <= 0:\n",
    "        print(ol, ou, 0, 0)\n",
    "    else:\n",
    "        l = max(0, l)\n",
    "\n",
    "        r1 = s_ip[u + 1] - s_ip[l]\n",
    "        r2 = s_isp[u + 1] - s_isp[l]\n",
    "\n",
    "        print(ol, ou, r1, r2)"
   ]
  },
  {
   "cell_type": "markdown",
   "metadata": {},
   "source": [
    "https://www.acmicpc.net/problem/1229 육각수"
   ]
  },
  {
   "cell_type": "code",
   "execution_count": 106,
   "metadata": {},
   "outputs": [
    {
     "name": "stdout",
     "output_type": "stream",
     "text": [
      "145530\n",
      "1\n"
     ]
    }
   ],
   "source": [
    "inf = float('inf')\n",
    "\n",
    "sixes = [1]\n",
    "w = 5\n",
    "cur = 1\n",
    "while True:\n",
    "    cur += w\n",
    "    if cur > 1000001:\n",
    "        break\n",
    "    sixes.append(cur)\n",
    "    w += 4\n",
    "    \n",
    "dp = [inf] * 131\n",
    "dp[0] = 0\n",
    "\n",
    "for v in sixes:\n",
    "    if v > 130:\n",
    "        break\n",
    "    for i in range(v, 131):\n",
    "        dp[i] = min(dp[i], dp[i - v] + 1)\n",
    "        \n",
    "n = int(input())\n",
    "\n",
    "if n <= 130:\n",
    "    r = dp[n]\n",
    "    \n",
    "    print(r)\n",
    "else:\n",
    "    six1 = set(sixes)\n",
    "    \n",
    "    six2 = set()\n",
    "    for a in six1:\n",
    "        for b in six1:\n",
    "            sv = a + b\n",
    "            if sv <= 1000000:\n",
    "                six2.add(sv)\n",
    "                \n",
    "    if n in six1:\n",
    "        print(1)\n",
    "    elif n in six2:\n",
    "        print(2)\n",
    "    else:\n",
    "        ip = False\n",
    "        for s1 in six1:\n",
    "            to_find = n - s1\n",
    "            if to_find in six2:\n",
    "                ip = True\n",
    "                break\n",
    "        if ip:\n",
    "            print(3)\n",
    "        else:\n",
    "            print(4)"
   ]
  },
  {
   "cell_type": "markdown",
   "metadata": {},
   "source": [
    "https://www.acmicpc.net/problem/12888 완전 이진 트리 도로 네트워크"
   ]
  },
  {
   "cell_type": "code",
   "execution_count": 6,
   "metadata": {},
   "outputs": [
    {
     "name": "stdout",
     "output_type": "stream",
     "text": [
      "4\n",
      "11\n"
     ]
    }
   ],
   "source": [
    "dp = [0] * 61\n",
    "\n",
    "dp[0] = 1\n",
    "dp[1] = 1\n",
    "for cur_h in range(2, 61):\n",
    "    temp = 1\n",
    "    for n_h in range(cur_h - 1):\n",
    "        temp += dp[n_h] * 2\n",
    "    dp[cur_h] = temp\n",
    "    \n",
    "h = int(input())\n",
    "\n",
    "r = dp[h]\n",
    "\n",
    "print(r)"
   ]
  },
  {
   "cell_type": "markdown",
   "metadata": {},
   "source": [
    "https://www.acmicpc.net/problem/2737 연속 합"
   ]
  },
  {
   "cell_type": "code",
   "execution_count": 7,
   "metadata": {},
   "outputs": [
    {
     "data": {
      "text/plain": [
       "2147483648"
      ]
     },
     "execution_count": 7,
     "metadata": {},
     "output_type": "execute_result"
    }
   ],
   "source": [
    "2 ** 31"
   ]
  },
  {
   "cell_type": "code",
   "execution_count": 42,
   "metadata": {},
   "outputs": [
    {
     "name": "stdout",
     "output_type": "stream",
     "text": [
      "3\n",
      "1\n",
      "0\n",
      "2\n",
      "0\n",
      "3\n",
      "1\n"
     ]
    }
   ],
   "source": [
    "import sys\n",
    "input = lambda: sys.stdin.readline().rstrip()\n",
    "\n",
    "def get_sum(num):\n",
    "    return num * (num + 1) // 2\n",
    "\n",
    "for _ in range(int(input())):\n",
    "    n = int(input())\n",
    "\n",
    "    r = 0\n",
    "    for cont in range(2, 70001):\n",
    "        to_minus = get_sum(cont - 1)\n",
    "\n",
    "        if n < to_minus:\n",
    "            break\n",
    "\n",
    "        nn = n - to_minus\n",
    "        if nn > 0 and nn % cont == 0:\n",
    "            r += 1\n",
    "\n",
    "    print(r)"
   ]
  },
  {
   "cell_type": "markdown",
   "metadata": {},
   "source": [
    "https://www.acmicpc.net/problem/24270 미니 버킷 리스트"
   ]
  },
  {
   "cell_type": "code",
   "execution_count": null,
   "metadata": {},
   "outputs": [],
   "source": [
    "mod = 1000000007\n",
    "\n",
    "def solve(n, r):\n",
    "    global on\n",
    "    \n",
    "    if n - r < r:\n",
    "        r = n - r\n",
    "        \n",
    "    num = 1\n",
    "    for i in range(n, n - r, -1):\n",
    "        num *= i\n",
    "        \n",
    "    for i in range(1, on + 1):\n",
    "        num *= i\n",
    "    \n",
    "    denom = 1\n",
    "    for i in range(2, r + 1):\n",
    "        denom *= i\n",
    "        denom %= mod\n",
    "        \n",
    "    return num // denom % mod\n",
    "\n",
    "on, k = map(int, input().split())\n",
    "li = list(map(int, input().split()))\n",
    "\n",
    "total = sum(li)\n",
    "\n",
    "place_c = on + 1\n",
    "space_c = k - total\n",
    "    \n",
    "r = solve(place_c + space_c - 1, space_c)\n",
    "\n",
    "print(r)"
   ]
  },
  {
   "cell_type": "code",
   "execution_count": 43,
   "metadata": {},
   "outputs": [
    {
     "name": "stdout",
     "output_type": "stream",
     "text": [
      "2 6\n",
      "2 3\n",
      "6\n"
     ]
    }
   ],
   "source": [
    "mod = 1000000007\n",
    "\n",
    "def nPk(n, k):\n",
    "    cur = 1\n",
    "    for num in range(n, n - k, -1):\n",
    "        cur *= num\n",
    "        cur %= mod\n",
    "        \n",
    "    return cur\n",
    "\n",
    "n, k = map(int, input().split())\n",
    "li = list(map(int, input().split()))\n",
    "\n",
    "sv = sum(li)\n",
    "remained = k - sv\n",
    "\n",
    "r = nPk((remained + n), n)\n",
    "\n",
    "print(r)"
   ]
  },
  {
   "cell_type": "markdown",
   "metadata": {},
   "source": [
    "https://www.acmicpc.net/problem/10589 마법의 체스판"
   ]
  },
  {
   "cell_type": "code",
   "execution_count": null,
   "metadata": {},
   "outputs": [],
   "source": [
    "ab\n",
    "ba\n",
    "\n",
    "->\n",
    "\n",
    "ba\n",
    "ba\n",
    "\n",
    "->\n",
    "\n",
    "aa\n",
    "aa"
   ]
  },
  {
   "cell_type": "code",
   "execution_count": null,
   "metadata": {},
   "outputs": [],
   "source": [
    "ababab\n",
    "bababa\n",
    "\n",
    "->\n",
    "\n",
    "aababb\n",
    "bbabaa\n",
    "\n",
    "->\n",
    "\n",
    "aaabbb\n",
    "bbbaaa\n",
    "\n",
    "->\n",
    "\n",
    "aaaaaaa\n",
    "aaaaaaa"
   ]
  },
  {
   "cell_type": "code",
   "execution_count": null,
   "metadata": {},
   "outputs": [],
   "source": [
    "ababa\n",
    "babab\n",
    "\n",
    "->\n",
    "\n",
    "aabaa\n",
    "bbabb\n",
    "\n",
    "->\n",
    "\n",
    "aaaaa\n",
    "bbbbb\n",
    "\n",
    "->\n",
    "\n",
    "aaaaa\n",
    "aaaaa"
   ]
  },
  {
   "cell_type": "code",
   "execution_count": null,
   "metadata": {},
   "outputs": [],
   "source": [
    "aba\n",
    "bab\n",
    "aba\n",
    "\n",
    "->\n",
    "\n",
    "aaa\n",
    "bbb\n",
    "aaa\n",
    "\n",
    "->\n",
    "\n",
    "aaa\n",
    "aaa\n",
    "aaa"
   ]
  },
  {
   "cell_type": "code",
   "execution_count": null,
   "metadata": {},
   "outputs": [],
   "source": [
    "aba\n",
    "bab\n",
    "aba\n",
    "\n",
    "->\n",
    "\n",
    "aba\n",
    "aba\n",
    "aba\n",
    "\n",
    "->\n",
    "\n",
    "aaa\n",
    "aaa\n",
    "aaa"
   ]
  },
  {
   "cell_type": "code",
   "execution_count": null,
   "metadata": {},
   "outputs": [],
   "source": [
    "abababa\n",
    "bababab\n",
    "\n",
    "->\n",
    "\n",
    "aababaa\n",
    "bbababb\n",
    "\n",
    "->\n",
    "\n",
    "aaabaaa\n",
    "bbbabbb\n",
    "\n",
    "->\n",
    "\n",
    "aaaaaaa\n",
    "bbbbbbb\n",
    "\n",
    "->\n",
    "\n",
    "aaaaaaa\n",
    "aaaaaaa"
   ]
  },
  {
   "cell_type": "code",
   "execution_count": null,
   "metadata": {},
   "outputs": [],
   "source": [
    "abababa\n",
    "bababab\n",
    "abababa\n",
    "\n",
    "->\n",
    "\n",
    "aababaa\n",
    "bbababb\n",
    "aababaa\n",
    "\n",
    "->\n",
    "\n",
    "aaabaaa\n",
    "bbbabbb\n",
    "aababaa\n",
    "\n",
    "->\n",
    "\n",
    "aaaaaaa\n",
    "bbbbbbb\n",
    "aaaaaaa\n",
    "\n",
    "->\n",
    "\n",
    "aaaaaaa\n",
    "aaaaaaa\n",
    "aaaaaaa"
   ]
  },
  {
   "cell_type": "code",
   "execution_count": null,
   "metadata": {},
   "outputs": [],
   "source": [
    "abababa\n",
    "bababab\n",
    "abababa\n",
    "\n",
    "->\n",
    "\n",
    "abababa\n",
    "abababa\n",
    "abababa\n",
    "\n",
    "->\n",
    "\n",
    "aababaa\n",
    "aababaa\n",
    "aababaa\n",
    "\n",
    "->\n",
    "\n",
    "aaabaaa\n",
    "aaabaaa\n",
    "aaabaaa\n",
    "\n",
    "->\n",
    "\n",
    "aaaaaaa\n",
    "aaaaaaa\n",
    "aaaaaaa"
   ]
  },
  {
   "cell_type": "code",
   "execution_count": null,
   "metadata": {},
   "outputs": [],
   "source": [
    "abab\n",
    "baba\n",
    "abab\n",
    "baba\n",
    "\n",
    "->\n",
    "\n",
    "aabb\n",
    "bbaa\n",
    "aabb\n",
    "bbaa\n",
    "\n",
    "-> -> -> -> .."
   ]
  },
  {
   "cell_type": "code",
   "execution_count": null,
   "metadata": {},
   "outputs": [],
   "source": [
    "abab\n",
    "baba\n",
    "abab\n",
    "baba\n",
    "\n",
    "-> ->\n",
    "\n",
    "aaaa\n",
    "bbbb\n",
    "aaaa\n",
    "bbbb\n",
    "\n",
    "-> -> .."
   ]
  },
  {
   "cell_type": "code",
   "execution_count": 3,
   "metadata": {},
   "outputs": [
    {
     "name": "stdout",
     "output_type": "stream",
     "text": [
      "3 3\n",
      "2\n",
      "2 1 2 3\n",
      "1 2 3 2\n"
     ]
    }
   ],
   "source": [
    "n, m = map(int, input().split())\n",
    "\n",
    "result = []\n",
    "\n",
    "for i in range(1, n, 2):\n",
    "    result.append((i + 1, 1, i + 1, m))\n",
    "    \n",
    "for j in range(1, m, 2):\n",
    "    result.append((1, j + 1, n, j + 1))\n",
    "    \n",
    "print(len(result))\n",
    "for v in result:\n",
    "    print(*v)"
   ]
  },
  {
   "cell_type": "markdown",
   "metadata": {},
   "source": [
    "https://www.acmicpc.net/problem/11881 지우개"
   ]
  },
  {
   "cell_type": "code",
   "execution_count": null,
   "metadata": {},
   "outputs": [],
   "source": [
    "각 수의 개수를 고려하여 유니크한 값들의 가중치를 다시 매김"
   ]
  },
  {
   "cell_type": "code",
   "execution_count": 16,
   "metadata": {},
   "outputs": [
    {
     "name": "stdout",
     "output_type": "stream",
     "text": [
      "4\n",
      "3 1 1 2\n",
      "12\n"
     ]
    }
   ],
   "source": [
    "mod = 1000000007\n",
    "\n",
    "n = int(input())\n",
    "li = sorted(map(int, input().split()))\n",
    "\n",
    "nli = []\n",
    "fv = li[0]\n",
    "c = 0\n",
    "for v in li:\n",
    "    if v == fv:\n",
    "        c += 1\n",
    "    else:\n",
    "        nli.append(fv * c)\n",
    "        fv = v\n",
    "        c = 1\n",
    "        \n",
    "nli.append(fv * c)\n",
    "\n",
    "nli_len = len(nli)\n",
    "s_nli = [0]\n",
    "cumul = 0\n",
    "for v in nli:\n",
    "    cumul += v\n",
    "    s_nli.append(cumul)\n",
    "    \n",
    "total = 0\n",
    "w = 0\n",
    "for i in range(nli_len - 2, -1, -1):\n",
    "    w += nli[i + 1] * (s_nli[-1] - s_nli[i + 2])\n",
    "    w %= mod\n",
    "    \n",
    "    total += nli[i] * w\n",
    "    total %= mod\n",
    "    \n",
    "print(total)"
   ]
  },
  {
   "cell_type": "code",
   "execution_count": null,
   "metadata": {},
   "outputs": [],
   "source": [
    "1 2 3 4 5\n",
    "\n",
    "1*2*3\n",
    "1*2*4\n",
    "1*2*5\n",
    "\n",
    "1*3*4\n",
    "1*3*5\n",
    "\n",
    "1*4*5\n",
    "\n",
    "1 * (2*3 + 2*4 + 2*5 + 3*4 + 3*5 + 4*5)\n",
    "-> 1 * (2 * (3 + 4 + 5) + 3 * (4 + 5) + 4 * 5)\n",
    "\n",
    "\n",
    "2*3*4\n",
    "2*3*5\n",
    "\n",
    "2*4*5\n",
    "\n",
    "-> 2 * (3 * (4 + 5) + 4 * 5)\n",
    "\n",
    "\n",
    "3*4*5\n",
    "\n",
    "-> 3 * (4 * 5)"
   ]
  },
  {
   "cell_type": "markdown",
   "metadata": {},
   "source": [
    "https://www.acmicpc.net/problem/13018 특이한 수열"
   ]
  },
  {
   "cell_type": "code",
   "execution_count": 6,
   "metadata": {},
   "outputs": [
    {
     "name": "stdout",
     "output_type": "stream",
     "text": [
      "6 6\n",
      "Impossible\n"
     ]
    }
   ],
   "source": [
    "n, k = map(int, input().split())\n",
    "\n",
    "nk = n - k\n",
    "\n",
    "if nk == 0:\n",
    "    print('Impossible')\n",
    "elif nk % 2 == 0:\n",
    "    result = []\n",
    "    for cur in range(1, nk + 1, 2):\n",
    "        result.append(cur + 1)\n",
    "        result.append(cur)\n",
    "        \n",
    "    cur = nk + 1\n",
    "    result.extend(range(cur, n + 1))\n",
    "    \n",
    "    print(*result)\n",
    "else:\n",
    "    result = [1]\n",
    "    for cur in range(2, nk + 1, 2):\n",
    "        result.append(cur + 1)\n",
    "        result.append(cur)\n",
    "    cur = nk + 1\n",
    "    result.extend(range(cur, n + 1))\n",
    "\n",
    "    print(*result)"
   ]
  },
  {
   "cell_type": "markdown",
   "metadata": {},
   "source": [
    "https://www.acmicpc.net/problem/1930 정사면체"
   ]
  },
  {
   "cell_type": "code",
   "execution_count": 65,
   "metadata": {},
   "outputs": [
    {
     "name": "stdout",
     "output_type": "stream",
     "text": [
      "3\n",
      "1 2 3 4 1 2 3 4\n",
      "1\n",
      "4 1 2 3 4 3 2 1\n",
      "0\n",
      "1 2 3 4 3 4 1 2\n",
      "1\n"
     ]
    }
   ],
   "source": [
    "import sys\n",
    "# input = lambda: sys.stdin.readline().rstrip()\n",
    "\n",
    "for _ in range(int(input())):\n",
    "    li = list(map(int, input().split()))\n",
    "\n",
    "    to = li[4:]\n",
    "    li = li[:4]\n",
    "\n",
    "    ps = set()\n",
    "\n",
    "    ps.add((li[0], li[1], li[2], li[3]))\n",
    "    ps.add((li[0], li[2], li[3], li[1]))\n",
    "    ps.add((li[0], li[3], li[1], li[2]))\n",
    "    ps.add((li[1], li[0], li[3], li[2]))\n",
    "    ps.add((li[1], li[3], li[2], li[0]))\n",
    "    ps.add((li[1], li[2], li[0], li[3]))\n",
    "    ps.add((li[2], li[0], li[1], li[3]))\n",
    "    ps.add((li[2], li[1], li[3], li[0]))\n",
    "    ps.add((li[2], li[3], li[0], li[1]))\n",
    "    ps.add((li[3], li[0], li[2], li[1]))\n",
    "    ps.add((li[3], li[1], li[0], li[2]))\n",
    "    ps.add((li[3], li[2], li[1], li[0]))\n",
    "\n",
    "    if tuple(to) in ps:\n",
    "        print(1)\n",
    "    else:\n",
    "        print(0)"
   ]
  },
  {
   "cell_type": "markdown",
   "metadata": {},
   "source": [
    "https://www.acmicpc.net/problem/3343 장미"
   ]
  },
  {
   "cell_type": "code",
   "execution_count": 81,
   "metadata": {},
   "outputs": [
    {
     "name": "stdout",
     "output_type": "stream",
     "text": [
      "22 2 3 10 14\n",
      "31\n"
     ]
    }
   ],
   "source": [
    "inf = float('inf')\n",
    "\n",
    "n, a, b, c, d = map(int, input().split())\n",
    "\n",
    "if a * d < b * c:\n",
    "    a, c = c, a\n",
    "    b, d = d, b\n",
    "\n",
    "min_cost = inf\n",
    "for cur_y in range(100002):\n",
    "    cost = cur_y * d\n",
    "    needed = n - (cur_y * c)\n",
    "    needed = max(0, needed)\n",
    "    \n",
    "    if needed == 0:\n",
    "        min_cost = min(min_cost, cost)\n",
    "        break\n",
    "    else:\n",
    "        cur_x = needed // a\n",
    "        if needed % a:\n",
    "            cur_x += 1\n",
    "            \n",
    "        cost += cur_x * b\n",
    "        min_cost = min(min_cost, cost)\n",
    "        \n",
    "print(min_cost)"
   ]
  },
  {
   "cell_type": "code",
   "execution_count": 75,
   "metadata": {},
   "outputs": [
    {
     "data": {
      "text/plain": [
       "(10, 14, 2, 3)"
      ]
     },
     "execution_count": 75,
     "metadata": {},
     "output_type": "execute_result"
    }
   ],
   "source": [
    "a, b, c, d"
   ]
  },
  {
   "cell_type": "code",
   "execution_count": null,
   "metadata": {},
   "outputs": [],
   "source": [
    "n부터 n + 100000개까지 구매하는 경우를 각각 구함"
   ]
  },
  {
   "cell_type": "code",
   "execution_count": null,
   "metadata": {},
   "outputs": [],
   "source": [
    "a*x + c*y = n\n",
    "b*x + d*y의 최솟값"
   ]
  },
  {
   "cell_type": "markdown",
   "metadata": {},
   "source": [
    "https://www.acmicpc.net/problem/23327 리그전 오브 레전드"
   ]
  },
  {
   "cell_type": "code",
   "execution_count": 11,
   "metadata": {},
   "outputs": [
    {
     "name": "stdout",
     "output_type": "stream",
     "text": [
      "5 3\n",
      "5 1 2 3 2\n",
      "2 4\n",
      "11\n",
      "4 5\n",
      "6\n",
      "1 5\n",
      "63\n"
     ]
    }
   ],
   "source": [
    "import sys\n",
    "input = lambda: sys.stdin.readline().rstrip()\n",
    "\n",
    "n, q = map(int, input().split())\n",
    "li = list(map(int, input().split()))\n",
    "\n",
    "sli = [0]\n",
    "cumul = 0\n",
    "for v in li:\n",
    "    cumul += v\n",
    "    sli.append(cumul)\n",
    "    \n",
    "sv = sli[-1]\n",
    "total = 0\n",
    "nli = []\n",
    "for v in li:\n",
    "    temp = (sv - v) * v\n",
    "    nli.append(temp)\n",
    "    total += (sv -  v) * v\n",
    "total //= 2\n",
    "\n",
    "s_nli = [0]\n",
    "cumul = 0\n",
    "for v in nli:\n",
    "    cumul += v\n",
    "    s_nli.append(cumul)\n",
    "    \n",
    "for _ in range(q):\n",
    "    l, r = map(int, input().split())\n",
    "    l -= 1\n",
    "    r -= 1\n",
    "    \n",
    "    t1 = sli[l] + sli[-1] - sli[r + 1]\n",
    "    t2 = sli[r + 1] - sli[l]\n",
    "    \n",
    "    to_minus1 = t1 * t2\n",
    "    \n",
    "    t1 = s_nli[l] + s_nli[-1] - s_nli[r + 1]\n",
    "    t2 = (sli[r + 1] - sli[l]) * (sli[l] + sli[-1] - sli[r + 1])\n",
    "    \n",
    "    to_minus2 = (t1 - t2) // 2\n",
    "    \n",
    "    result = total - to_minus1 - to_minus2\n",
    "    \n",
    "    print(result)"
   ]
  },
  {
   "cell_type": "code",
   "execution_count": 15,
   "metadata": {},
   "outputs": [
    {
     "name": "stdout",
     "output_type": "stream",
     "text": [
      "5 3\n",
      "5 1 2 3 2\n",
      "2 4\n",
      "11\n",
      "4 5\n",
      "6\n",
      "1 5\n",
      "63\n"
     ]
    }
   ],
   "source": [
    "import sys\n",
    "# input = lambda: sys.stdin.readline().rstrip()\n",
    "\n",
    "n, q = map(int, input().split())\n",
    "li = list(map(int, input().split()))\n",
    "\n",
    "sli = [0]\n",
    "sli_s = [0]\n",
    "cumul1 = 0\n",
    "cumul2 = 0\n",
    "for v in li:\n",
    "    cumul1 += v\n",
    "    cumul2 += v ** 2\n",
    "    sli.append(cumul1)\n",
    "    sli_s.append(cumul2)\n",
    "    \n",
    "for _ in range(q):\n",
    "    l, r = map(int, input().split())\n",
    "    l -= 1\n",
    "    r -= 1\n",
    "    \n",
    "    sv_s = sli_s[r + 1] - sli_s[l]\n",
    "    sv = sli[r + 1] - sli[l]\n",
    "    \n",
    "    result = (sv ** 2 - sv_s) // 2\n",
    "    \n",
    "    print(result)"
   ]
  },
  {
   "cell_type": "markdown",
   "metadata": {},
   "source": [
    "https://www.acmicpc.net/problem/25342 최대 최소공배수"
   ]
  },
  {
   "cell_type": "code",
   "execution_count": 17,
   "metadata": {},
   "outputs": [
    {
     "name": "stdout",
     "output_type": "stream",
     "text": [
      "4\n",
      "12\n"
     ]
    }
   ],
   "source": [
    "# 틀렸음\n",
    "from math import gcd\n",
    "import sys\n",
    "input = lambda: sys.stdin.readline().rstrip()\n",
    "\n",
    "lcm = lambda a, b: a * b // gcd(a, b)\n",
    "\n",
    "for _ in range(int(input())):\n",
    "    n = int(input())\n",
    "\n",
    "    cur = lcm(n, n - 1)\n",
    "    max_r = -1\n",
    "    for num in range(n - 2, n - 1200, -1):\n",
    "        if num == 0:\n",
    "            break\n",
    "\n",
    "        max_r = max(max_r, lcm(cur, num))\n",
    "\n",
    "    print(max_r)"
   ]
  },
  {
   "cell_type": "code",
   "execution_count": 31,
   "metadata": {},
   "outputs": [
    {
     "name": "stdout",
     "output_type": "stream",
     "text": [
      "3\n",
      "6\n"
     ]
    }
   ],
   "source": [
    "# 틀렸음\n",
    "import sys\n",
    "input = lambda: sys.stdin.readline().rstrip()\n",
    "\n",
    "max_num = 100001\n",
    "ip = [True] * (max_num + 1)\n",
    "ip[0] = ip[1] = False\n",
    "for mod in range(2, int(max_num ** 0.5) + 1):\n",
    "    if ip[mod]:\n",
    "        for v in range(mod * mod, max_num + 1, mod):\n",
    "            ip[v] = False\n",
    "            \n",
    "primes = [i for i, v in enumerate(ip) if v]\n",
    "\n",
    "for _ in range(int(input())):\n",
    "    n = int(input())\n",
    "\n",
    "    temp = []\n",
    "    for p in primes:\n",
    "        if p > n:\n",
    "            break\n",
    "\n",
    "        cur = p\n",
    "        while cur * p <= n:\n",
    "            cur *= p\n",
    "\n",
    "        temp.append(cur)\n",
    "\n",
    "    temp.sort()\n",
    "\n",
    "    r = 1\n",
    "    for v in temp[-3:]:\n",
    "        r *= v\n",
    "\n",
    "    print(r)"
   ]
  },
  {
   "cell_type": "code",
   "execution_count": 35,
   "metadata": {},
   "outputs": [
    {
     "name": "stdout",
     "output_type": "stream",
     "text": [
      "2\n",
      "3\n",
      "6\n",
      "4\n",
      "12\n"
     ]
    }
   ],
   "source": [
    "from math import gcd\n",
    "import sys\n",
    "# input = lambda: sys.stdin.readline().rstrip()\n",
    "\n",
    "lcm = lambda a, b: a * b // gcd(a, b)\n",
    "\n",
    "for _ in range(int(input())):\n",
    "    n = int(input())\n",
    "    \n",
    "    if n % 2 == 0:\n",
    "        if n % 3 == 0:\n",
    "            r = lcm(lcm(n - 1, n - 2), n - 3)\n",
    "        else:\n",
    "            r = lcm(lcm(n, n - 1), n - 3)\n",
    "    else:\n",
    "        r = lcm(lcm(n, n - 1), n - 2)\n",
    "    \n",
    "    print(r)"
   ]
  },
  {
   "cell_type": "markdown",
   "metadata": {},
   "source": [
    "https://www.acmicpc.net/problem/13258 복권 + 은행"
   ]
  },
  {
   "cell_type": "code",
   "execution_count": 49,
   "metadata": {},
   "outputs": [
    {
     "name": "stdout",
     "output_type": "stream",
     "text": [
      "10\n",
      "1 2 3 4 5 6 7 8 9 10\n",
      "100\n",
      "20\n",
      "37.36363636363636\n"
     ]
    }
   ],
   "source": [
    "from collections import defaultdict as dd, deque\n",
    "\n",
    "n = int(input())\n",
    "li = list(map(int, input().split()))\n",
    "j = int(input())\n",
    "c = int(input())\n",
    "\n",
    "a = li[0]\n",
    "b = sum(li[1:])\n",
    "\n",
    "queue = deque()\n",
    "queue.append((a, b))\n",
    "d = dd(int)\n",
    "d[(a, b)] = 1\n",
    "\n",
    "for _ in range(c):\n",
    "    for _ in range(len(queue)):\n",
    "        a, b = queue.popleft()\n",
    "\n",
    "        case1 = (a + j, b)\n",
    "        case2 = (a, b + j)\n",
    "        \n",
    "        p1 = (a / (a + b)) * d[(a, b)]\n",
    "        p2 = d[(a, b)] - p1\n",
    "        \n",
    "        if case1 in d:\n",
    "            d[case1] += p1\n",
    "        else:\n",
    "            d[case1] = p1\n",
    "            queue.append(case1)\n",
    "        \n",
    "        if case2 in d:\n",
    "            d[case2] += p2\n",
    "        else:\n",
    "            d[case2] = p2\n",
    "            queue.append(case2)\n",
    "            \n",
    "result = 0\n",
    "for case in queue:\n",
    "    result += d[case] * case[0]\n",
    "    \n",
    "print(result)"
   ]
  },
  {
   "cell_type": "markdown",
   "metadata": {},
   "source": [
    "https://www.acmicpc.net/problem/11688 최소공배수 찾기"
   ]
  },
  {
   "cell_type": "code",
   "execution_count": 59,
   "metadata": {},
   "outputs": [
    {
     "name": "stdout",
     "output_type": "stream",
     "text": [
      "30 40 720\n",
      "144\n"
     ]
    }
   ],
   "source": [
    "from math import gcd\n",
    "from collections import defaultdict as dd\n",
    "\n",
    "lcm = lambda a, b: a * b // gcd(a, b)\n",
    "\n",
    "a, b, L = map(int, input().split())\n",
    "\n",
    "ct1 = dd(int)\n",
    "\n",
    "lcm_ab = lcm(a, b)\n",
    "for mod in range(2, int(lcm_ab ** 0.5) + 1):\n",
    "    c = 0\n",
    "    while lcm_ab % mod == 0:\n",
    "        c += 1\n",
    "        lcm_ab //= mod\n",
    "    \n",
    "    if c >= 1:\n",
    "        ct1[mod] = c\n",
    "\n",
    "if lcm_ab != 1:\n",
    "    ct1[lcm_ab] = 1\n",
    "    \n",
    "\n",
    "ct2 = dd(int)\n",
    "for mod in range(2, int(L ** 0.5) + 1):\n",
    "    c = 0\n",
    "    while L % mod == 0:\n",
    "        c += 1\n",
    "        L //= mod\n",
    "    \n",
    "    if c >= 1:\n",
    "        ct2[mod] = c\n",
    "\n",
    "if L != 1:\n",
    "    ct2[L] = 1\n",
    "    \n",
    "st1 = set(ct1.keys())\n",
    "st2 = set(ct2.keys())\n",
    "\n",
    "if len(st1 - st2) >= 1:\n",
    "    print(-1)\n",
    "else:\n",
    "    r = 1\n",
    "    ip = True\n",
    "    for key in ct2.keys():\n",
    "        if ct1[key] > ct2[key]:\n",
    "            ip = False\n",
    "            break\n",
    "        \n",
    "        if ct1[key] < ct2[key]:\n",
    "            r *= key ** ct2[key]\n",
    "            \n",
    "    if not ip:\n",
    "        print(-1)\n",
    "    else:\n",
    "        print(r)"
   ]
  },
  {
   "cell_type": "markdown",
   "metadata": {},
   "source": [
    "https://www.acmicpc.net/problem/13273 로마숫자"
   ]
  },
  {
   "cell_type": "code",
   "execution_count": 64,
   "metadata": {},
   "outputs": [
    {
     "name": "stdout",
     "output_type": "stream",
     "text": [
      "3\n",
      "999\n",
      "CMXCIX\n",
      "MMXVI\n",
      "2016\n",
      "MMMCLXXVIII\n",
      "3178\n"
     ]
    }
   ],
   "source": [
    "import sys\n",
    "input = lambda: sys.stdin.readline().rstrip()\n",
    "\n",
    "cases = [\n",
    "    ['', 'I', 'II', 'III', 'IV', 'V', 'VI', 'VII', 'VIII', 'IX'],\n",
    "    ['', 'X', 'XX', 'XXX', 'XL', 'L', 'LX', 'LXX', 'LXXX', 'XC'],\n",
    "    ['', 'C', 'CC', 'CCC', 'CD', 'D', 'DC', 'DCC', 'DCCC', 'CM'],\n",
    "    ['', 'M', 'MM', 'MMM']\n",
    "]\n",
    "\n",
    "to_num = dict()\n",
    "to_roman = dict()\n",
    "for n in range(1, 4000):\n",
    "    sn = str(n).rjust(4, '0')[::-1]\n",
    "    sli = list(map(int, sn))\n",
    "\n",
    "    temp = ''\n",
    "    for i in range(3, -1, -1):\n",
    "        temp += cases[i][sli[i]]\n",
    "    \n",
    "    to_num[temp] = n\n",
    "    to_roman[n] = temp\n",
    "    \n",
    "for _ in range(int(input())):\n",
    "    value = input()\n",
    "    \n",
    "    if value[0].isalpha():\n",
    "        r = to_num[value]\n",
    "    else:\n",
    "        r = to_roman[int(value)]\n",
    "        \n",
    "    print(r)"
   ]
  }
 ],
 "metadata": {
  "kernelspec": {
   "display_name": "Python 3",
   "language": "python",
   "name": "python3"
  },
  "language_info": {
   "codemirror_mode": {
    "name": "ipython",
    "version": 3
   },
   "file_extension": ".py",
   "mimetype": "text/x-python",
   "name": "python",
   "nbconvert_exporter": "python",
   "pygments_lexer": "ipython3",
   "version": "3.7.4"
  }
 },
 "nbformat": 4,
 "nbformat_minor": 2
}
