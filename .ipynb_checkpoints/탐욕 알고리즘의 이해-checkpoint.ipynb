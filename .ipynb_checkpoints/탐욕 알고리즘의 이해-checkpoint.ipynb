{
 "cells": [
  {
   "cell_type": "markdown",
   "metadata": {},
   "source": [
    "### 1. 탐욕 알고리즘이란?\n",
    "\n",
    "*  Gredy algorithm 또는 탐욕 알고리즘이라고 불임\n",
    "*  최적의 해에 가까운 값을 구하기 위해 사용됨\n",
    "*  여러 경우 중 하나를 결정해야할 때마다, <b>매순간 최적이라고 생각되는 경우를 선택</b>하는 방식으로 진행해서 최종적인 값을 구하는 방식"
   ]
  },
  {
   "cell_type": "markdown",
   "metadata": {},
   "source": [
    "### 2. 탐욕 알고리즘 예"
   ]
  },
  {
   "cell_type": "markdown",
   "metadata": {},
   "source": [
    "### 문제1: 동적 문제\n",
    "    \n",
    "* 지불해야 하는 값이 4720원 일 때 1원, 50월, 500원 동전으로 동전의 수가 가장 적게 지불하시요.\n",
    "  * 가장 큰 동전부터 최대한 지불해야 하는 값을 채우는 방식으로 구현 가능\n",
    "  * 탐욕 알고리즘으로 매순간 최적이라고 생각되는 경우를 선택하면 됨"
   ]
  },
  {
   "cell_type": "code",
   "execution_count": null,
   "metadata": {},
   "outputs": [],
   "source": [
    "동전의 수가 가장 적게 지불하시요.ㄱㄱ"
   ]
  }
 ],
 "metadata": {
  "kernelspec": {
   "display_name": "Python 3",
   "language": "python",
   "name": "python3"
  },
  "language_info": {
   "codemirror_mode": {
    "name": "ipython",
    "version": 3
   },
   "file_extension": ".py",
   "mimetype": "text/x-python",
   "name": "python",
   "nbconvert_exporter": "python",
   "pygments_lexer": "ipython3",
   "version": "3.7.3"
  }
 },
 "nbformat": 4,
 "nbformat_minor": 4
}
