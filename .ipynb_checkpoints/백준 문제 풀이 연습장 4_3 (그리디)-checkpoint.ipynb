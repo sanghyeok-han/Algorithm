{
 "cells": [
  {
   "cell_type": "markdown",
   "metadata": {},
   "source": [
    "### 라면 사기 (Large) 18186"
   ]
  },
  {
   "cell_type": "code",
   "execution_count": null,
   "metadata": {},
   "outputs": [],
   "source": [
    "4 3 2\n",
    "\n",
    "1 3 2 2\n",
    "\n",
    "앞쪽부터\n",
    "BCC\n",
    "BC\n",
    "B\n",
    "\n",
    "보단\n",
    "\n",
    "뒤쪽부터\n",
    "BCC\n",
    " BC\n",
    "  B\n",
    "\n",
    "가 우위\n",
    "\n",
    "비슷한 케이스: \n",
    "1 3 2 4\n",
    "    \n",
    "반대 케이스:\n",
    "2 2 3 1\n",
    "\n",
    "양쪽 결합 코드도 통과 못함\n",
    "(1 3 2 2 0 2 2 3 1)"
   ]
  },
  {
   "cell_type": "code",
   "execution_count": null,
   "metadata": {},
   "outputs": [],
   "source": [
    "9 3 2\n",
    "1 3 2 2 0 2 2 3 1\n",
    "개수: 6, 10\n",
    "\n",
    "7 3 2 \n",
    "3 4 2 2 5 3 3\n",
    "개수 9, 13"
   ]
  },
  {
   "cell_type": "markdown",
   "metadata": {},
   "source": [
    "반례: 3 4 2 2 5 3 3\n",
    "    \n",
    "output: 10, 12\n",
    "개수: 9, 13"
   ]
  },
  {
   "cell_type": "code",
   "execution_count": 5,
   "metadata": {},
   "outputs": [
    {
     "name": "stdout",
     "output_type": "stream",
     "text": [
      "4 3 2\n",
      "1 3 2 2\n",
      "20 4 4\n"
     ]
    }
   ],
   "source": [
    "n, b, c = map(int, input().split())\n",
    "li = list(map(int, input().split()))\n",
    "\n",
    "if b <= c:\n",
    "    print(sum(li) * b)\n",
    "else:\n",
    "    b_count = 0\n",
    "    c_count = 0\n",
    "    for i in range(n):\n",
    "        if i + 2 < n:\n",
    "            value = min(li[i], li[i + 1], li[i + 2])\n",
    "            b_count += value\n",
    "            c_count += value * 2\n",
    "            li[i] -= value\n",
    "            li[i + 1] -= value\n",
    "            li[i + 2] -= value\n",
    "        \n",
    "        if i + 1 < n:\n",
    "            value = min(li[i], li[i + 1])\n",
    "            b_count += value\n",
    "            c_count += value\n",
    "            li[i] -= value\n",
    "            li[i + 1] -= value\n",
    "        \n",
    "        b_count += li[i]\n",
    "        li[i] = 0\n",
    "        \n",
    "    spent = b * b_count + c * c_count\n",
    "    print(spent, b_count, c_count)"
   ]
  },
  {
   "cell_type": "code",
   "execution_count": 6,
   "metadata": {
    "scrolled": false
   },
   "outputs": [
    {
     "name": "stdout",
     "output_type": "stream",
     "text": [
      "9 3 2\n",
      "1 3 2 2 0 2 2 3 1\n",
      "39 7 9\n"
     ]
    }
   ],
   "source": [
    "n, b, c = map(int, input().split())\n",
    "li = list(map(int, input().split()))\n",
    "\n",
    "if b <= c:\n",
    "    print(sum(li) * b)\n",
    "else:\n",
    "    b_count = 0\n",
    "    c_count = 0\n",
    "    for i in range(n - 1, -1, -1):\n",
    "        if i - 2 >= 0:\n",
    "            value = min(li[i], li[i - 1], li[i - 2])\n",
    "            b_count += value\n",
    "            c_count += value * 2\n",
    "            li[i] -= value\n",
    "            li[i - 1] -= value\n",
    "            li[i - 2] -= value\n",
    "        \n",
    "        if i - 1 >= 0:\n",
    "            value = min(li[i], li[i - 1])\n",
    "            b_count += value\n",
    "            c_count += value\n",
    "            li[i] -= value\n",
    "            li[i - 1] -= value\n",
    "        \n",
    "        b_count += li[i]\n",
    "        li[i] = 0\n",
    "        \n",
    "    spent = b * b_count + c * c_count\n",
    "    print(spent, b_count, c_count)"
   ]
  },
  {
   "cell_type": "code",
   "execution_count": 29,
   "metadata": {},
   "outputs": [
    {
     "name": "stdout",
     "output_type": "stream",
     "text": [
      "5 3 2\n",
      "1 1 1 0 2\n",
      "13\n"
     ]
    }
   ],
   "source": [
    "# 맞았음\n",
    "n, b, c = map(int, input().split())\n",
    "li = list(map(int, input().split())) + [0] * 4\n",
    "\n",
    "if b <= c:\n",
    "    print(sum(li) * b)\n",
    "else:\n",
    "    bc = 0\n",
    "    cc = 0\n",
    "    i = 0\n",
    "    while i <= n + 1:\n",
    "        if i - 2 >= 0:\n",
    "            if li[i - 2] >= 1:\n",
    "                temp = min(li[i - 2], li[i - 1], li[i])\n",
    "                \n",
    "                if temp:\n",
    "                    bc += temp\n",
    "                    cc += temp * 2\n",
    "                    li[i - 2] -= temp\n",
    "                    li[i - 1] -= temp\n",
    "                    li[i] -= temp\n",
    "               \n",
    "            if li[i - 2] >= 1:\n",
    "                temp = min(li[i - 2], li[i - 1])\n",
    "                \n",
    "                if temp:\n",
    "                    bc += temp\n",
    "                    cc += temp\n",
    "                    li[i - 2] -= temp\n",
    "                    li[i - 1] -= temp\n",
    "                    \n",
    "            if li[i - 2] >= 1:\n",
    "                bc += li[i - 2]\n",
    "                li[i - 2] = 0\n",
    "                \n",
    "        if li[i] >= li[i + 1]:\n",
    "            temp = min(li[i], li[i + 1], li[i + 2])\n",
    "            \n",
    "            if i - 1 >= 0:\n",
    "                temp = min(temp, li[i] - li[i - 1])\n",
    "                temp = max(temp, 0)\n",
    "            \n",
    "            if temp:\n",
    "                bc += temp\n",
    "                cc += temp * 2\n",
    "                li[i] -= temp\n",
    "                li[i + 1] -= temp\n",
    "                li[i + 2] -= temp\n",
    "            i += 1\n",
    "        else:\n",
    "            i += 1\n",
    "            \n",
    "    print(b * bc + c * cc)"
   ]
  },
  {
   "cell_type": "code",
   "execution_count": null,
   "metadata": {},
   "outputs": [],
   "source": [
    "# 다른 사람 코드, https://www.acmicpc.net/source/35498851\n",
    "n, b, c = map(int, input().split())\n",
    "if c > b: c = b\n",
    "t1, t2, t3 = 0, 0, 0\n",
    "cost = 0\n",
    "\n",
    "for v in map(int, input().split()):\n",
    "    nt2 = min(t1, v)\n",
    "    v -= nt2\n",
    "    cost += c*nt2\n",
    "    \n",
    "    nt3 = min(t2, v)\n",
    "    v -= nt3\n",
    "    cost += c*nt3\n",
    "    \n",
    "    nt1 = v\n",
    "    cost += b*nt1\n",
    "    \n",
    "    t1, t2, t3 = nt1, nt2, nt3\n",
    "\n",
    "print(cost)"
   ]
  },
  {
   "cell_type": "markdown",
   "metadata": {},
   "source": [
    "### 라면 사기 (Small) 18185"
   ]
  },
  {
   "cell_type": "code",
   "execution_count": 31,
   "metadata": {},
   "outputs": [
    {
     "name": "stdout",
     "output_type": "stream",
     "text": [
      "5\n",
      "1 1 1 0 2\n",
      "13\n"
     ]
    }
   ],
   "source": [
    "n = int(input())\n",
    "li = list(map(int, input().split())) + [0] * 4\n",
    "\n",
    "c1 = 0\n",
    "c2 = 0\n",
    "i = 0\n",
    "while i <= n + 1:\n",
    "    if i - 2 >= 0:\n",
    "        if li[i - 2] >= 1:\n",
    "            temp = min(li[i - 2], li[i - 1], li[i])\n",
    "\n",
    "            if temp:\n",
    "                c1 += temp\n",
    "                c2 += temp * 2\n",
    "                li[i - 2] -= temp\n",
    "                li[i - 1] -= temp\n",
    "                li[i] -= temp\n",
    "\n",
    "        if li[i - 2] >= 1:\n",
    "            temp = min(li[i - 2], li[i - 1])\n",
    "\n",
    "            if temp:\n",
    "                c1 += temp\n",
    "                c2 += temp\n",
    "                li[i - 2] -= temp\n",
    "                li[i - 1] -= temp\n",
    "\n",
    "        if li[i - 2] >= 1:\n",
    "            c1 += li[i - 2]\n",
    "            li[i - 2] = 0\n",
    "\n",
    "    if li[i] >= li[i + 1]:\n",
    "        temp = min(li[i], li[i + 1], li[i + 2])\n",
    "\n",
    "        if i - 1 >= 0:\n",
    "            temp = min(temp, li[i] - li[i - 1])\n",
    "            temp = max(temp, 0)\n",
    "\n",
    "        if temp:\n",
    "            c1 += temp\n",
    "            c2 += temp * 2\n",
    "            li[i] -= temp\n",
    "            li[i + 1] -= temp\n",
    "            li[i + 2] -= temp\n",
    "        i += 1\n",
    "    else:\n",
    "        i += 1\n",
    "\n",
    "print(3 * c1 + 2 * c2)"
   ]
  },
  {
   "cell_type": "markdown",
   "metadata": {},
   "source": [
    "### 통나무 건너뛰기 11497"
   ]
  },
  {
   "cell_type": "code",
   "execution_count": 5,
   "metadata": {},
   "outputs": [
    {
     "name": "stdout",
     "output_type": "stream",
     "text": [
      "5\n",
      "6 6 6 6 6\n",
      "0\n"
     ]
    }
   ],
   "source": [
    "from collections import deque\n",
    "import sys\n",
    "input = lambda: sys.stdin.readline().rstrip()\n",
    "\n",
    "for _ in range(int(input())):\n",
    "    n = int(input())\n",
    "    li = sorted(map(int, input().split()))\n",
    "\n",
    "    deq = deque()\n",
    "    for i in range(n):\n",
    "        if i % 2 == 0:\n",
    "            deq.append(li[i])\n",
    "        else:\n",
    "            deq.appendleft(li[i])\n",
    "\n",
    "    max_diff = abs(deq[0] - deq[-1])\n",
    "    for i in range(n - 1):\n",
    "        max_diff = max(max_diff, abs(deq[i] - deq[i + 1]))\n",
    "\n",
    "    print(max_diff)"
   ]
  },
  {
   "cell_type": "markdown",
   "metadata": {},
   "source": [
    "### 삭삽 정렬 13884"
   ]
  },
  {
   "cell_type": "code",
   "execution_count": null,
   "metadata": {},
   "outputs": [],
   "source": [
    "차례대로 갈 수 있는 것 제외 전부 뒤로 가야함"
   ]
  },
  {
   "cell_type": "code",
   "execution_count": 10,
   "metadata": {},
   "outputs": [
    {
     "name": "stdout",
     "output_type": "stream",
     "text": [
      "1\n",
      "1 3\n",
      "1 3 2\n",
      "1 1\n"
     ]
    }
   ],
   "source": [
    "import sys\n",
    "input = lambda: sys.stdin.readline().rstrip()\n",
    "\n",
    "for _ in range(int(input())):\n",
    "    k, n = map(int, input().split())\n",
    "    li = []\n",
    "    for _ in range((n - 1) // 10 + 1):\n",
    "        li.extend(map(int, input().split()))\n",
    "\n",
    "    target = sorted(li)\n",
    "    ti = 0\n",
    "    for v in li:\n",
    "        if v == target[ti]:\n",
    "            ti += 1\n",
    "\n",
    "    print(k, n - ti)"
   ]
  },
  {
   "cell_type": "markdown",
   "metadata": {},
   "source": [
    "### 배 2853"
   ]
  },
  {
   "cell_type": "code",
   "execution_count": 17,
   "metadata": {},
   "outputs": [
    {
     "name": "stdout",
     "output_type": "stream",
     "text": [
      "3\n",
      "1\n",
      "500000000\n",
      "999999999\n",
      "1\n"
     ]
    }
   ],
   "source": [
    "import sys\n",
    "input = lambda: sys.stdin.readline().rstrip()\n",
    "\n",
    "n = int(input())\n",
    "get_value = lambda x: int(x) - 1\n",
    "li = [get_value(input()) for _ in range(n)]\n",
    "\n",
    "li.pop(0)\n",
    "st = set(li)\n",
    "c = 0\n",
    "for v in li:\n",
    "    if v in st:\n",
    "        c += 1\n",
    "        st.discard(v)\n",
    "    \n",
    "        to_delete = []\n",
    "        for w in st:\n",
    "            if w % v == 0:\n",
    "                to_delete.append(w)\n",
    "        for w in to_delete:\n",
    "            st.discard(w)\n",
    "            \n",
    "print(c)"
   ]
  },
  {
   "cell_type": "markdown",
   "metadata": {},
   "source": [
    "### 계단 21600"
   ]
  },
  {
   "cell_type": "code",
   "execution_count": 19,
   "metadata": {},
   "outputs": [
    {
     "name": "stdout",
     "output_type": "stream",
     "text": [
      "13\n",
      "3 1 4 1 5 9 2 6 5 3 5 8 9\n",
      "6\n"
     ]
    }
   ],
   "source": [
    "n = int(input())\n",
    "li = list(map(int, input().split()))\n",
    "\n",
    "cur = 0\n",
    "max_l = 0\n",
    "for v in li:\n",
    "    if cur < v:\n",
    "        cur += 1\n",
    "        max_l = max(max_l, cur)\n",
    "    else:\n",
    "        cur = v\n",
    "        \n",
    "print(max_l)"
   ]
  },
  {
   "cell_type": "markdown",
   "metadata": {},
   "source": [
    "### 저울 추 만들기 2205"
   ]
  },
  {
   "cell_type": "code",
   "execution_count": 33,
   "metadata": {},
   "outputs": [
    {
     "name": "stdout",
     "output_type": "stream",
     "text": [
      "3\n",
      "3\n",
      "2\n",
      "1\n"
     ]
    }
   ],
   "source": [
    "n = int(input())\n",
    "\n",
    "check = 1\n",
    "value = n * 2\n",
    "while True:\n",
    "    if check >= value:\n",
    "        break\n",
    "    check *= 2\n",
    "\n",
    "result = []\n",
    "st = set(range(1, n + 1))\n",
    "for num in range(n, 0, -1):\n",
    "    while True:\n",
    "        value = check - num\n",
    "        if value in st:\n",
    "            st.discard(value)\n",
    "            result.append(value)\n",
    "            break\n",
    "        else:\n",
    "            check //= 2\n",
    "            \n",
    "print('\\n'.join(map(str, reversed(result))))"
   ]
  },
  {
   "cell_type": "markdown",
   "metadata": {},
   "source": [
    "### 이동하기 5 20035"
   ]
  },
  {
   "cell_type": "code",
   "execution_count": 43,
   "metadata": {},
   "outputs": [
    {
     "name": "stdout",
     "output_type": "stream",
     "text": [
      "55000000068\n"
     ]
    }
   ],
   "source": [
    "n, m = map(int, input().split())\n",
    "a = list(map(int, input().split()))\n",
    "b = list(map(int, input().split()))\n",
    "\n",
    "if m == 1:\n",
    "    print(sum(a) * int(1e9) + b[0] * n)\n",
    "else:\n",
    "    total = 0\n",
    "    \n",
    "    max_a = -1\n",
    "    max_a_indices = []\n",
    "    for i in range(n):\n",
    "        if a[i] == max_a:\n",
    "            max_a_indices.append(i)\n",
    "        elif a[i] > max_a:\n",
    "            max_a = a[i]\n",
    "            max_a_indices = [i]\n",
    "    \n",
    "    sum_a = sum(a)\n",
    "    temp = sum_a + max_a * (m - 1)\n",
    "    total += temp * int(1e9)\n",
    "    \n",
    "    if len(max_a_indices) == 1:\n",
    "        sum_b = sum(b)\n",
    "        total += sum_b\n",
    "        total += b[0] * max_a_indices[0] + b[-1] * (n - 1 - max_a_indices[0])\n",
    "    else:\n",
    "        sum_b = sum(b)\n",
    "        total += sum_b\n",
    "        max_b = max(b)\n",
    "        total += b[0] * max_a_indices[0] + b[-1] * (n - 1 - max_a_indices[-1])\n",
    "        total += max_b * (max_a_indices[-1] - max_a_indices[0])\n",
    "        \n",
    "    print(total)"
   ]
  },
  {
   "cell_type": "markdown",
   "metadata": {},
   "source": [
    "### Gazzzua 17939"
   ]
  },
  {
   "cell_type": "code",
   "execution_count": 49,
   "metadata": {},
   "outputs": [
    {
     "name": "stdout",
     "output_type": "stream",
     "text": [
      "6\n",
      "1 5 10 2 4 3\n",
      "16\n"
     ]
    }
   ],
   "source": [
    "n = int(input())\n",
    "li = list(map(int, input().split()))\n",
    "\n",
    "fmax = [0] * n # future max\n",
    "cur_max = 0\n",
    "for i in range(n - 1, -1, -1):\n",
    "    cur_max = max(cur_max, li[i])\n",
    "    fmax[i] = cur_max\n",
    "\n",
    "needed = 0\n",
    "coin = 0\n",
    "profit = 0\n",
    "for i in range(n):\n",
    "    if li[i] == fmax[i]:\n",
    "        profit += coin * li[i]\n",
    "        coin = 0\n",
    "    else:\n",
    "        needed += li[i]\n",
    "        coin += 1\n",
    "        \n",
    "print(profit - needed)"
   ]
  },
  {
   "cell_type": "markdown",
   "metadata": {},
   "source": [
    "### 도어맨 5002"
   ]
  },
  {
   "cell_type": "code",
   "execution_count": 59,
   "metadata": {},
   "outputs": [
    {
     "name": "stdout",
     "output_type": "stream",
     "text": [
      "1\n",
      "MWWMWMMWM\n",
      "9\n"
     ]
    }
   ],
   "source": [
    "from collections import deque\n",
    "\n",
    "max_diff = int(input())\n",
    "s = input()\n",
    "\n",
    "deq = deque()\n",
    "for v in s:\n",
    "    if v == 'M':\n",
    "        deq.append(0)\n",
    "    else:\n",
    "        deq.append(1)\n",
    "\n",
    "c = [0, 0]\n",
    "temp = -1\n",
    "while deq:\n",
    "    v = deq.popleft()\n",
    "    if temp == -1:\n",
    "        temp = v\n",
    "    else:\n",
    "        if c[v] >= c[v ^ 1]:\n",
    "            c[temp] += 1\n",
    "            temp = v\n",
    "            if abs(c[1] - c[0]) > max_diff:\n",
    "                c[temp] -= 1\n",
    "                break\n",
    "        else:\n",
    "            c[v] += 1\n",
    "else:\n",
    "    if abs(c[temp] + 1 - c[temp ^ 1]) <= max_diff:\n",
    "        c[temp] += 1\n",
    "            \n",
    "print(c[0] + c[1])"
   ]
  },
  {
   "cell_type": "markdown",
   "metadata": {},
   "source": [
    "### ONE 3264"
   ]
  },
  {
   "cell_type": "code",
   "execution_count": 72,
   "metadata": {},
   "outputs": [
    {
     "name": "stdout",
     "output_type": "stream",
     "text": [
      "5 2\n",
      "1 2 1\n",
      "2 3 2\n",
      "3 4 2\n",
      "4 5 1\n",
      "7\n"
     ]
    }
   ],
   "source": [
    "import sys\n",
    "# input = lambda: sys.stdin.readline().rstrip()\n",
    "\n",
    "n, s = map(int, input().split())\n",
    "li = [[] for _ in range(n + 1)]\n",
    "\n",
    "tc = 0 # total c\n",
    "for _ in range(n - 1):\n",
    "    a, b, c = map(int, input().split())\n",
    "    li[a].append((b, c))\n",
    "    li[b].append((a, c))\n",
    "    tc += c\n",
    "    \n",
    "vt = [False] * (n + 1)\n",
    "vt[s] = True\n",
    "\n",
    "def dfs(value, cost):\n",
    "    temp = []\n",
    "    for v, c in li[value]:\n",
    "        if vt[v]:\n",
    "            continue\n",
    "        vt[v] = True\n",
    "        temp.append(dfs(v, c))\n",
    "        \n",
    "    if not temp:\n",
    "        return cost\n",
    "    elif len(temp) == 1:\n",
    "        return cost + temp[0]\n",
    "    else:\n",
    "        return cost + max(temp)\n",
    "        \n",
    "print(tc * 2 - dfs(s, 0))"
   ]
  },
  {
   "cell_type": "markdown",
   "metadata": {},
   "source": [
    "### Vaccination Against Corona 20682"
   ]
  },
  {
   "cell_type": "code",
   "execution_count": 74,
   "metadata": {},
   "outputs": [
    {
     "name": "stdout",
     "output_type": "stream",
     "text": [
      "5 4\n",
      "1 2 4 6 8\n",
      "3\n"
     ]
    }
   ],
   "source": [
    "n, l = map(int, input().split())\n",
    "li = sorted(map(int, input().split()))\n",
    "\n",
    "count = 0\n",
    "lu = -float('inf') # last unvaccinated\n",
    "for v in li:\n",
    "    if v - lu >= l:\n",
    "        lu = v\n",
    "    else:\n",
    "        count += 1\n",
    "        \n",
    "print(count)"
   ]
  },
  {
   "cell_type": "markdown",
   "metadata": {},
   "source": [
    "### 방탈출 15729"
   ]
  },
  {
   "cell_type": "code",
   "execution_count": 1,
   "metadata": {},
   "outputs": [
    {
     "name": "stdout",
     "output_type": "stream",
     "text": [
      "7\n",
      "0 0 1 0 0 1 0\n",
      "2\n"
     ]
    }
   ],
   "source": [
    "n = int(input())\n",
    "li = list(map(int, input().split()))\n",
    "\n",
    "count = 0\n",
    "for i in range(n):\n",
    "    if li[i]:\n",
    "        count += 1\n",
    "        if i + 1 < n:\n",
    "            li[i + 1] ^= 1\n",
    "        if i + 2 < n:\n",
    "            li[i + 2] ^= 1\n",
    "            \n",
    "print(count)"
   ]
  },
  {
   "cell_type": "markdown",
   "metadata": {},
   "source": [
    "### 롤케이크 16206"
   ]
  },
  {
   "cell_type": "code",
   "execution_count": null,
   "metadata": {},
   "outputs": [],
   "source": [
    "10인건 그대로 두고 길이가 10의 배수이면서 가장 작은 것부터 자름"
   ]
  },
  {
   "cell_type": "code",
   "execution_count": 9,
   "metadata": {},
   "outputs": [
    {
     "name": "stdout",
     "output_type": "stream",
     "text": [
      "5 8\n",
      "34 45 56 12 23\n",
      "8\n"
     ]
    }
   ],
   "source": [
    "n, m = map(int, input().split())\n",
    "li = list(map(int, input().split()))\n",
    "\n",
    "li = [v for v in li if v >= 10]\n",
    "\n",
    "li_end_with_0 = [v for v in li if v % 10 == 0]\n",
    "li_else = [v for v in li if v % 10 != 0]\n",
    "\n",
    "li_end_with_0.sort(reverse=True)\n",
    "\n",
    "count = 0\n",
    "while li_end_with_0 and m:\n",
    "    value = li_end_with_0.pop()\n",
    "    if value == 10:\n",
    "        count += 1\n",
    "    else:\n",
    "        m -= 1\n",
    "        if value == 20:\n",
    "            count += 2\n",
    "        else:\n",
    "            count += 1\n",
    "            li_end_with_0.append(value - 10)\n",
    "        \n",
    "while li_else and m:\n",
    "    value = li_else.pop()\n",
    "    if value < 10:\n",
    "        continue\n",
    "    m -= 1\n",
    "    count += 1\n",
    "    li_else.append(value - 10)\n",
    "    \n",
    "print(count)"
   ]
  },
  {
   "cell_type": "markdown",
   "metadata": {},
   "source": [
    "### 김인천씨의 식료품가게 (Large) 12034"
   ]
  },
  {
   "cell_type": "code",
   "execution_count": 2,
   "metadata": {},
   "outputs": [
    {
     "data": {
      "text/plain": [
       "75"
      ]
     },
     "execution_count": 2,
     "metadata": {},
     "output_type": "execute_result"
    }
   ],
   "source": [
    "int(100 * 3/4)"
   ]
  },
  {
   "cell_type": "code",
   "execution_count": 5,
   "metadata": {},
   "outputs": [
    {
     "name": "stdout",
     "output_type": "stream",
     "text": [
      "1\n",
      "3\n",
      "15 20 60 75 80 100\n",
      "Case #1: 15 60 75\n"
     ]
    }
   ],
   "source": [
    "get_discounted = lambda x: int(x * 3/4)\n",
    "\n",
    "for t in range(int(input())):\n",
    "    n = int(input())\n",
    "    li = list(map(int, input().split()))\n",
    "\n",
    "    result = []\n",
    "    while li:\n",
    "        original = li.pop()\n",
    "        discounted = get_discounted(original)\n",
    "        result.append(discounted)\n",
    "        to_delete = li.index(discounted)\n",
    "        del li[to_delete]\n",
    "\n",
    "    print(f\"Case #{t + 1}: {' '.join(map(str, sorted(result)))}\")"
   ]
  },
  {
   "cell_type": "markdown",
   "metadata": {},
   "source": [
    "### 패스트 푸드 상금 9329"
   ]
  },
  {
   "cell_type": "code",
   "execution_count": 8,
   "metadata": {},
   "outputs": [
    {
     "name": "stdout",
     "output_type": "stream",
     "text": [
      "3 6\n",
      "2 1 2 100\n",
      "3 3 4 5 200\n",
      "1 6 300\n",
      "1 2 0 4 5 6\n",
      "1900\n"
     ]
    }
   ],
   "source": [
    "import sys\n",
    "input = lambda: sys.stdin.readline().rstrip()\n",
    "\n",
    "for _ in range(int(input())):\n",
    "    n, m = map(int, input().split())\n",
    "    li = [list(map(int, input().split())) for _ in range(n)]\n",
    "    items = [0] + list(map(int, input().split()))\n",
    "\n",
    "    total = 0\n",
    "    for v in li:\n",
    "        sts = v[1:v[0] + 1]\n",
    "        min_count = float('inf')\n",
    "        for w in sts:\n",
    "            min_count = min(min_count, items[w])\n",
    "\n",
    "        total += min_count * v[-1]\n",
    "\n",
    "    print(total)"
   ]
  },
  {
   "cell_type": "markdown",
   "metadata": {},
   "source": [
    "### 5학년은 다니기 싫어요 23028"
   ]
  },
  {
   "cell_type": "code",
   "execution_count": 10,
   "metadata": {
    "scrolled": true
   },
   "outputs": [
    {
     "name": "stdout",
     "output_type": "stream",
     "text": [
      "6 46 120\n",
      "3 3\n",
      "3 5\n",
      "6 2\n",
      "2 2\n",
      "3 1\n",
      "2 3\n",
      "1 6\n",
      "5 2\n",
      "2 3\n",
      "3 2\n",
      "Nice\n"
     ]
    }
   ],
   "source": [
    "n, a, b = map(int, input().split())\n",
    "li = [list(map(int, input().split())) for _ in range(10)]\n",
    "\n",
    "for i in range(8 - n):\n",
    "    x, y = li[i]\n",
    "    \n",
    "    total = 6\n",
    "    nx = min(6, x)\n",
    "    total -= nx\n",
    "    a += nx * 3\n",
    "    b += nx * 3\n",
    "    \n",
    "    ny = min(total, y)\n",
    "    b += ny * 3\n",
    "    \n",
    "if a >= 66 and b >= 130:\n",
    "    print('Nice')\n",
    "else:\n",
    "    print('Nae ga wae')"
   ]
  },
  {
   "cell_type": "markdown",
   "metadata": {},
   "source": [
    "### 불꽃놀이 21557"
   ]
  },
  {
   "cell_type": "code",
   "execution_count": 16,
   "metadata": {},
   "outputs": [
    {
     "name": "stdout",
     "output_type": "stream",
     "text": [
      "3\n",
      "7 7 3\n",
      "6\n"
     ]
    }
   ],
   "source": [
    "n = int(input())\n",
    "li = list(map(int, input().split()))\n",
    "\n",
    "start = 1\n",
    "end = n - 2\n",
    "while start <= end:\n",
    "    if start == end:\n",
    "        li[0] -= 1\n",
    "        li[-1] -= 1\n",
    "        break\n",
    "    \n",
    "    if li[0] < li[-1]:\n",
    "        li[-1] -= 1\n",
    "        end -= 1\n",
    "    else:\n",
    "        li[0] -= 1\n",
    "        start += 1\n",
    "\n",
    "print(max(li[0], li[-1]))"
   ]
  },
  {
   "cell_type": "markdown",
   "metadata": {},
   "source": [
    "### 떡국 20937"
   ]
  },
  {
   "cell_type": "code",
   "execution_count": 34,
   "metadata": {},
   "outputs": [
    {
     "name": "stdout",
     "output_type": "stream",
     "text": [
      "10\n",
      "1 2 3 4 5 1 2 3 4 5\n",
      "2\n"
     ]
    }
   ],
   "source": [
    "from collections import Counter\n",
    "\n",
    "n = int(input())\n",
    "c = Counter(map(int, input().split()))\n",
    "\n",
    "li = c.values()\n",
    "\n",
    "print(max(li))"
   ]
  },
  {
   "cell_type": "markdown",
   "metadata": {},
   "source": [
    "### 가희와 3단 고음 16162"
   ]
  },
  {
   "cell_type": "code",
   "execution_count": 37,
   "metadata": {},
   "outputs": [
    {
     "name": "stdout",
     "output_type": "stream",
     "text": [
      "3 1 2\n",
      "1 3 5\n",
      "3\n"
     ]
    }
   ],
   "source": [
    "n, a, d = map(int, input().split())\n",
    "li = list(map(int, input().split()))\n",
    "\n",
    "cur_check = a\n",
    "count = 0\n",
    "for v in li:\n",
    "    if v == cur_check:\n",
    "        count += 1\n",
    "        cur_check += d\n",
    "        \n",
    "print(count)"
   ]
  },
  {
   "cell_type": "markdown",
   "metadata": {},
   "source": [
    "### 라디오 3135"
   ]
  },
  {
   "cell_type": "code",
   "execution_count": 39,
   "metadata": {},
   "outputs": [
    {
     "name": "stdout",
     "output_type": "stream",
     "text": [
      "88 17\n",
      "3\n",
      "18\n",
      "1\n",
      "42\n"
     ]
    }
   ],
   "source": [
    "a, b = map(int, input().split())\n",
    "n = int(input())\n",
    "li = [int(input()) for _ in range(n)]\n"
   ]
  },
  {
   "cell_type": "code",
   "execution_count": 43,
   "metadata": {},
   "outputs": [
    {
     "name": "stdout",
     "output_type": "stream",
     "text": [
      "64 120\n",
      "1\n",
      "567\n",
      "56\n"
     ]
    }
   ],
   "source": [
    "def get_count(cur, target):\n",
    "    return abs(target - cur)\n",
    "\n",
    "a, b = map(int, input().split())\n",
    "n = int(input())\n",
    "li = [int(input()) for _ in range(n)]\n",
    "\n",
    "min_c = abs(a - b)\n",
    "for v in li:\n",
    "    min_c = min(min_c, get_count(v, b) + 1)\n",
    "    \n",
    "print(min_c)"
   ]
  },
  {
   "cell_type": "markdown",
   "metadata": {},
   "source": [
    "### 선물 5911"
   ]
  },
  {
   "cell_type": "code",
   "execution_count": 1,
   "metadata": {},
   "outputs": [
    {
     "name": "stdout",
     "output_type": "stream",
     "text": [
      "5 24\n",
      "4 2\n",
      "2 0\n",
      "8 1\n",
      "6 3\n",
      "12 5\n"
     ]
    }
   ],
   "source": [
    "n, b = map(int, input().split())\n",
    "\n",
    "li = [list(map(int, input().split())) for _ in range(n)]\n",
    "\n",
    "li.sort(key=lambda x: sum(x))\n"
   ]
  },
  {
   "cell_type": "code",
   "execution_count": 14,
   "metadata": {},
   "outputs": [
    {
     "name": "stdout",
     "output_type": "stream",
     "text": [
      "5 24\n",
      "4 2\n",
      "2 0\n",
      "8 1\n",
      "6 3\n",
      "12 5\n",
      "4\n"
     ]
    }
   ],
   "source": [
    "import sys\n",
    "input = lambda: sys.stdin.readline().rstrip()\n",
    "\n",
    "n, b = map(int, input().split())\n",
    "li = [list(map(int, input().split())) for _ in range(n)]\n",
    "\n",
    "li.sort(key=lambda x: sum(x))\n",
    "\n",
    "count = 0\n",
    "for i in range(n):\n",
    "    sv = sum(li[i])\n",
    "    if sv <= b:\n",
    "        count += 1\n",
    "        b -= sv\n",
    "    else:\n",
    "        i -= 1\n",
    "        break\n",
    "        \n",
    "end_index = i\n",
    "for i in range(end_index + 1, n):\n",
    "    sv = li[i][0] // 2 + li[i][1]\n",
    "    \n",
    "    if sv <= b:\n",
    "        count += 1\n",
    "        break\n",
    "else:\n",
    "    if end_index <= n - 1: \n",
    "        md = 0 # max discounted\n",
    "        for i in range(end_index + 1):\n",
    "            d = li[i][0] - li[i][0] // 2 # discounted\n",
    "            md = max(md, d)\n",
    "\n",
    "        b += md\n",
    "        if sum(li[end_index + 1]) <= b:\n",
    "            count += 1\n",
    "            \n",
    "print(count)"
   ]
  },
  {
   "cell_type": "markdown",
   "metadata": {},
   "source": [
    "### 회의실 배정 1931 (다시 풀음)"
   ]
  },
  {
   "cell_type": "code",
   "execution_count": 3,
   "metadata": {},
   "outputs": [
    {
     "name": "stdout",
     "output_type": "stream",
     "text": [
      "11\n",
      "1 4\n",
      "3 5\n",
      "0 6\n",
      "5 7\n",
      "3 8\n",
      "5 9\n",
      "6 10\n",
      "8 11\n",
      "8 12\n",
      "2 13\n",
      "12 14\n",
      "4\n"
     ]
    }
   ],
   "source": [
    "import sys\n",
    "input = lambda: sys.stdin.readline().rstrip()\n",
    "\n",
    "n = int(input())\n",
    "li = [list(map(int, input().split())) for _ in range(n)]\n",
    "li.sort(key=lambda x: (x[1], x[0]))\n",
    "\n",
    "count = 0\n",
    "cur_end = -1\n",
    "for s, e in li:\n",
    "    if cur_end <= s:\n",
    "        count += 1\n",
    "        cur_end = e\n",
    "        \n",
    "print(count)"
   ]
  },
  {
   "cell_type": "markdown",
   "metadata": {},
   "source": [
    "### 크게 만들기 2812 (다시 풀음)"
   ]
  },
  {
   "cell_type": "code",
   "execution_count": 10,
   "metadata": {},
   "outputs": [
    {
     "name": "stdout",
     "output_type": "stream",
     "text": [
      "4 2\n",
      "4321\n",
      "43\n"
     ]
    }
   ],
   "source": [
    "n, k = map(int, input().split())\n",
    "li = list(map(int, input()))\n",
    "\n",
    "stack = []\n",
    "for v in li:\n",
    "    while k and stack and stack[-1] < v:\n",
    "        stack.pop()\n",
    "        k -= 1\n",
    "        \n",
    "    stack.append(v)\n",
    "    \n",
    "for _ in range(k):\n",
    "    stack.pop()\n",
    "    \n",
    "print(''.join(map(str, stack)))"
   ]
  },
  {
   "cell_type": "markdown",
   "metadata": {},
   "source": [
    "### 제271회 웰노운컵 16225 (다시 풀음)"
   ]
  },
  {
   "cell_type": "code",
   "execution_count": 6,
   "metadata": {},
   "outputs": [
    {
     "name": "stdout",
     "output_type": "stream",
     "text": [
      "4\n",
      "4 2 8 6\n",
      "6 5 7 8\n",
      "10\n"
     ]
    }
   ],
   "source": [
    "from heapq import heappush, heappop\n",
    "\n",
    "n = int(input())\n",
    "li = [list(map(int, input().split())) for _ in range(2)]\n",
    "li = list(zip(*li))\n",
    "\n",
    "li.sort(key=lambda x: -x[1])\n",
    "heap = []\n",
    "for i in range(n):\n",
    "    heappush(heap, li[i][0])\n",
    "    if i % 2 == 0:\n",
    "        heappop(heap)\n",
    "        \n",
    "print(sum(heap))"
   ]
  },
  {
   "cell_type": "markdown",
   "metadata": {},
   "source": [
    "### 괄호 채우기 11882"
   ]
  },
  {
   "cell_type": "code",
   "execution_count": 7,
   "metadata": {},
   "outputs": [
    {
     "data": {
      "text/plain": [
       "100000000000"
      ]
     },
     "execution_count": 7,
     "metadata": {},
     "output_type": "execute_result"
    }
   ],
   "source": [
    "100000 * 1000000"
   ]
  },
  {
   "cell_type": "code",
   "execution_count": 20,
   "metadata": {},
   "outputs": [
    {
     "name": "stdout",
     "output_type": "stream",
     "text": [
      "6\n",
      "((())?\n",
      "5 6\n",
      "6\n",
      "((()))\n"
     ]
    }
   ],
   "source": [
    "from heapq import heappush, heappop\n",
    "from collections import deque\n",
    "import sys\n",
    "input = lambda: sys.stdin.readline().rstrip()\n",
    "\n",
    "ln = 1000000000000 # large num\n",
    "\n",
    "n = int(input())\n",
    "s = input()\n",
    "\n",
    "li = []\n",
    "diffs = []\n",
    "for v in s:\n",
    "    if v == '?':\n",
    "        l, r = map(int, input().split())\n",
    "        li.append((l, r))\n",
    "        diffs.append(l - r)\n",
    "    elif v == '(':\n",
    "        li.append((0, ln))\n",
    "        diffs.append(-ln)\n",
    "    else:\n",
    "        li.append((ln, 0))\n",
    "        diffs.append(ln)\n",
    "        \n",
    "heap = []\n",
    "sao = set() # selected as open\n",
    "for i in range(n):\n",
    "    heappush(heap, (diffs[i], i))\n",
    "    if i % 2 == 0:\n",
    "        _, index = heappop(heap)\n",
    "        sao.add(index)\n",
    "    \n",
    "total = 0\n",
    "rs = '' # result string\n",
    "for i in range(n):\n",
    "    if i in sao:\n",
    "        total += li[i][0]\n",
    "        rs += '('\n",
    "    else:\n",
    "        total += li[i][1]\n",
    "        rs += ')'\n",
    "        \n",
    "print(total)\n",
    "print(rs)"
   ]
  },
  {
   "cell_type": "markdown",
   "metadata": {},
   "source": [
    "### 백업 1150"
   ]
  },
  {
   "cell_type": "code",
   "execution_count": 133,
   "metadata": {},
   "outputs": [
    {
     "name": "stdout",
     "output_type": "stream",
     "text": [
      "6\n"
     ]
    }
   ],
   "source": [
    "from heapq import heappush, heappop\n",
    "import sys\n",
    "# input = lambda: sys.stdin.readline().rstrip()\n",
    "\n",
    "# n, k = map(int, input().split())\n",
    "# li = [int(input()) for _ in range(n)]\n",
    "\n",
    "# li = [b - a for a, b in zip(li[:-1], li[1:])]\n",
    "# n -= 1\n",
    "\n",
    "k = 2\n",
    "s = '5 5 5 2 1 2 5'\n",
    "\n",
    "li = list(map(int, s.split()))\n",
    "n = len(li)\n",
    "\n",
    "heap = []\n",
    "for i in range(n - (k * 2 - 1)):\n",
    "    heappush(heap, (li[i], i))\n",
    "    \n",
    "imed = True # is must be extracted\n",
    "st = set()\n",
    "for i in range(n - (k * 2 - 1), n):\n",
    "    heappush(heap, (li[i], i))\n",
    "    \n",
    "    if imed:\n",
    "        while True:\n",
    "            v, index = heappop(heap)\n",
    "\n",
    "            if (index - 1) in st or (index + 1) in st:\n",
    "                continue\n",
    "            else:\n",
    "                st.add(index)\n",
    "                break\n",
    "            \n",
    "        imed = False\n",
    "    else:\n",
    "        imed = True\n",
    "        \n",
    "for i in range(1, n):\n",
    "    if i not in st:\n",
    "        continue\n",
    "        \n",
    "    if i + 2 < n and (i + 2) in st and (i - 2) not in st:\n",
    "        t1 = li[i] + li[i + 2]\n",
    "        t2 = li[i - 1] + li[i + 1]\n",
    "        \n",
    "        if t2 <= t1:\n",
    "            st.discard(i)\n",
    "            st.discard(i + 2)\n",
    "            st.add(i - 1)\n",
    "            st.add(i + 1)\n",
    "            \n",
    "    if (i - 2) not in st:\n",
    "        if li[i - 1] <= li[i]:\n",
    "            st.discard(i)\n",
    "            st.add(i - 1)\n",
    "            \n",
    "for i in range(n - 2, -1, -1):\n",
    "    if i not in st:\n",
    "        continue\n",
    "        \n",
    "    if i - 2 >= 0 and (i - 2) in st and (i + 2) not in st:\n",
    "        t1 = li[i] + li[i - 2]\n",
    "        t2 = li[i + 1] + li[i - 1]\n",
    "        \n",
    "        if t2 <= t1:\n",
    "            st.discard(i)\n",
    "            st.discard(i - 2)\n",
    "            st.add(i + 1)\n",
    "            st.add(i - 1)\n",
    "            \n",
    "    if (i + 2) not in st:\n",
    "        if li[i + 1] <= li[i]:\n",
    "            st.discard(i)\n",
    "            st.add(i + 1)\n",
    "            \n",
    "mr = 0 # min result\n",
    "for index in st:\n",
    "    mr += li[index]\n",
    "    \n",
    "print(mr)"
   ]
  },
  {
   "cell_type": "code",
   "execution_count": 157,
   "metadata": {},
   "outputs": [
    {
     "name": "stdout",
     "output_type": "stream",
     "text": [
      "5 2\n",
      "1\n",
      "3\n",
      "4\n",
      "6\n",
      "12\n",
      "4\n"
     ]
    }
   ],
   "source": [
    "from heapq import heappush, heappop\n",
    "import sys\n",
    "input = lambda: sys.stdin.readline().rstrip()\n",
    "\n",
    "n, k = map(int, input().split())\n",
    "li = [int(input()) for _ in range(n)]\n",
    "\n",
    "li = [b - a for a, b in zip(li[:-1], li[1:])]\n",
    "n -= 1\n",
    "\n",
    "# k = 3\n",
    "# s = '3 1 3 1 3'\n",
    "\n",
    "# li = list(map(int, s.split()))\n",
    "# n = len(li)\n",
    "\n",
    "heap = []\n",
    "    \n",
    "st = set()\n",
    "selected = []\n",
    "for i in range(n):\n",
    "    heappush(heap, (li[i], i))\n",
    "\n",
    "    v, index = heappop(heap)\n",
    "    if len(st) < k:\n",
    "        if (index - 1) in st or (index + 1) in st:\n",
    "            continue\n",
    "        else:\n",
    "            st.add(index)\n",
    "            heappush(selected, (-v, -index))\n",
    "    else:\n",
    "        vv, ii = heappop(selected)\n",
    "        st.discard(-ii)\n",
    "\n",
    "        if -vv <= v or (index - 1) in st or (index + 1) in st:\n",
    "            st.add(-ii)\n",
    "            heappush(selected, (vv, ii))\n",
    "        else:\n",
    "            st.add(index)\n",
    "            heappush(selected, (-v, -index))\n",
    "        \n",
    "for i in range(1, n):\n",
    "    if i not in st:\n",
    "        continue\n",
    "        \n",
    "    if i + 2 < n and (i + 2) in st and (i - 2) not in st:\n",
    "        t1 = li[i] + li[i + 2]\n",
    "        t2 = li[i - 1] + li[i + 1]\n",
    "        \n",
    "        if t2 <= t1:\n",
    "            st.discard(i)\n",
    "            st.discard(i + 2)\n",
    "            st.add(i - 1)\n",
    "            st.add(i + 1)\n",
    "            \n",
    "    if (i - 2) not in st:\n",
    "        if li[i - 1] <= li[i]:\n",
    "            st.discard(i)\n",
    "            st.add(i - 1)\n",
    "            \n",
    "for i in range(n - 2, -1, -1):\n",
    "    if i not in st:\n",
    "        continue\n",
    "        \n",
    "    if i - 2 >= 0 and (i - 2) in st and (i + 2) not in st:\n",
    "        t1 = li[i] + li[i - 2]\n",
    "        t2 = li[i + 1] + li[i - 1]\n",
    "        \n",
    "        if t2 <= t1:\n",
    "            st.discard(i)\n",
    "            st.discard(i - 2)\n",
    "            st.add(i + 1)\n",
    "            st.add(i - 1)\n",
    "            \n",
    "    if (i + 2) not in st:\n",
    "        if li[i + 1] <= li[i]:\n",
    "            st.discard(i)\n",
    "            st.add(i + 1)\n",
    "            \n",
    "mr = 0 # min result\n",
    "for index in st:\n",
    "    mr += li[index]\n",
    "    \n",
    "print(mr)"
   ]
  },
  {
   "cell_type": "code",
   "execution_count": 142,
   "metadata": {},
   "outputs": [
    {
     "data": {
      "text/plain": [
       "{1, 4}"
      ]
     },
     "execution_count": 142,
     "metadata": {},
     "output_type": "execute_result"
    }
   ],
   "source": [
    "5 5 5 2 1 2 5"
   ]
  },
  {
   "cell_type": "code",
   "execution_count": 91,
   "metadata": {},
   "outputs": [
    {
     "data": {
      "text/plain": [
       "[1, 2, 9, 2]"
      ]
     },
     "execution_count": 91,
     "metadata": {},
     "output_type": "execute_result"
    }
   ],
   "source": [
    "k = 2\n",
    "s = '5 2 1 2 5'\n",
    "output 6\n",
    "답: 4"
   ]
  },
  {
   "cell_type": "code",
   "execution_count": null,
   "metadata": {},
   "outputs": [],
   "source": [
    "k = 2\n",
    "s = '5 5 5 2 1 2 5'\n",
    "output 6\n",
    "답: 4"
   ]
  },
  {
   "cell_type": "code",
   "execution_count": 51,
   "metadata": {},
   "outputs": [
    {
     "data": {
      "text/plain": [
       "[3, 1, 3, 8, 4, 8]"
      ]
     },
     "execution_count": 51,
     "metadata": {},
     "output_type": "execute_result"
    }
   ],
   "source": [
    "li"
   ]
  },
  {
   "cell_type": "code",
   "execution_count": 135,
   "metadata": {},
   "outputs": [
    {
     "data": {
      "text/plain": [
       "{1, 4}"
      ]
     },
     "execution_count": 135,
     "metadata": {},
     "output_type": "execute_result"
    }
   ],
   "source": [
    "st"
   ]
  },
  {
   "cell_type": "code",
   "execution_count": 25,
   "metadata": {},
   "outputs": [
    {
     "name": "stdout",
     "output_type": "stream",
     "text": [
      "4\n"
     ]
    }
   ],
   "source": [
    "for i in range(1, n - 2):\n",
    "    if i + 2 >= n:\n",
    "        break\n",
    "        \n",
    "    if i in st and (i + 2) in st:\n",
    "        t1 = li[i] + li[i + 2]\n",
    "        t2 = li[i - 1] + li[i + 1]\n",
    "        \n",
    "        if t2 <= t1:\n",
    "            st.discard(i)\n",
    "            st.discard(i + 2)\n",
    "            st.add(i - 1)\n",
    "            st.add(i + 1)\n",
    "            \n",
    "mr = 0 # min result\n",
    "for index in st:\n",
    "    mr += li[index]\n",
    "    \n",
    "print(mr)"
   ]
  },
  {
   "cell_type": "markdown",
   "metadata": {},
   "source": [
    "### 키 1129"
   ]
  },
  {
   "cell_type": "code",
   "execution_count": 63,
   "metadata": {},
   "outputs": [
    {
     "name": "stdout",
     "output_type": "stream",
     "text": [
      "5\n",
      "1 3 4 5 7\n",
      "1 3 5 7 4\n"
     ]
    }
   ],
   "source": [
    "from collections import deque\n",
    "\n",
    "n = int(input())\n",
    "oli = sorted(map(int, input().split()))\n",
    "\n",
    "li = oli.copy()\n",
    "deq = deque()\n",
    "while li:\n",
    "    deq.append(li.pop())\n",
    "    if not li:\n",
    "        break\n",
    "    deq.appendleft(li.pop())\n",
    "    \n",
    "max_diff = abs(deq[0] - deq[n - 1])\n",
    "for i in range(n - 1):\n",
    "    max_diff = max(max_diff, abs(deq[i + 1] - deq[i]))\n",
    "    \n",
    "temp = deque()\n",
    "temp.append(oli[0])\n",
    "for i in range(1, n - 1):\n",
    "    if abs(oli[i + 1] - temp[0]) <= max_diff:\n",
    "        temp.append(oli[i])\n",
    "    else:\n",
    "        temp.appendleft(oli[i])\n",
    "        \n",
    "temp.append(oli[n - 1])\n",
    "\n",
    "cands = []\n",
    "for _ in range(n):\n",
    "    cands.append(list(temp))\n",
    "    temp.rotate(1)\n",
    "    \n",
    "cands.sort()\n",
    "\n",
    "print(*cands[0])"
   ]
  },
  {
   "cell_type": "code",
   "execution_count": null,
   "metadata": {},
   "outputs": [],
   "source": [
    "1 2 8 14 17 24 29 31 27 22 16 9 7"
   ]
  },
  {
   "cell_type": "code",
   "execution_count": 42,
   "metadata": {},
   "outputs": [],
   "source": [
    "max_diff = abs(cands[0][0] - cands[0][n - 1])\n",
    "for i in range(n - 1):\n",
    "    max_diff = max(max_diff, abs(cands[0][i + 1] - cands[0][i]))"
   ]
  },
  {
   "cell_type": "code",
   "execution_count": 43,
   "metadata": {},
   "outputs": [
    {
     "data": {
      "text/plain": [
       "7"
      ]
     },
     "execution_count": 43,
     "metadata": {},
     "output_type": "execute_result"
    }
   ],
   "source": [
    "max_diff"
   ]
  },
  {
   "cell_type": "code",
   "execution_count": null,
   "metadata": {},
   "outputs": [],
   "source": [
    "7\n",
    "1 2 7 8 9 14 16\n",
    "output 1 2 8 14 16 9 7 답 거리: 7\n",
    "대안 1 2 7 14 16 9 8   답 거리: 7\n",
    "대안 1 2 7 9 16 14 8\n",
    "\n",
    "6\n",
    "1 2 3 100 101 102\n",
    "1 2 100 102 101 3\n",
    "\n",
    "6\n",
    "1 2 3 4 100 103\n",
    "1 2 4 103 100 3\n",
    "\n",
    "8\n",
    "1 2 3 7 8 9 10 11"
   ]
  },
  {
   "cell_type": "markdown",
   "metadata": {},
   "source": [
    "### NMK 1201"
   ]
  },
  {
   "cell_type": "code",
   "execution_count": 208,
   "metadata": {},
   "outputs": [
    {
     "data": {
      "text/plain": [
       "{(3, 3),\n",
       " (4, 2),\n",
       " (4, 3),\n",
       " (4, 4),\n",
       " (5, 2),\n",
       " (5, 3),\n",
       " (5, 4),\n",
       " (6, 2),\n",
       " (6, 3),\n",
       " (7, 2),\n",
       " (8, 1)}"
      ]
     },
     "execution_count": 208,
     "metadata": {},
     "output_type": "execute_result"
    }
   ],
   "source": [
    "### 케이스 체크용\n",
    "from itertools import permutations as perm\n",
    "\n",
    "def get_i(li):\n",
    "    dp = []\n",
    "\n",
    "    for v in li:\n",
    "        possible_former_values_count = [count for value, count in dp if value < v]\n",
    "        if possible_former_values_count:\n",
    "            dp.append((v, max(possible_former_values_count) + 1))\n",
    "        else:\n",
    "            dp.append((v, 1))\n",
    "\n",
    "    dp = sorted(dp, key=lambda x: x[1], reverse=True)\n",
    "    return dp[0][1]\n",
    "\n",
    "\n",
    "def get_d(li):\n",
    "    dp = [0] * n\n",
    "    dp[0] = 1\n",
    "\n",
    "    max_value = 1\n",
    "    for i in range(1, n):\n",
    "        candidates = [dp[index] for index in range(i) if li[index] > li[i]]\n",
    "        dp[i] = max(candidates) + 1 if candidates else 1\n",
    "        max_value = max(max_value, dp[i])\n",
    "\n",
    "    return max_value\n",
    "\n",
    "n = 8\n",
    "cases = perm(range(1, n + 1), n)\n",
    "st = set()\n",
    "\n",
    "for li in cases:\n",
    "    ii, dd = get_i(li), get_d(li)\n",
    "    \n",
    "    if ii >= dd:\n",
    "        st.add((ii, dd))\n",
    "        \n",
    "st"
   ]
  },
  {
   "cell_type": "code",
   "execution_count": 97,
   "metadata": {},
   "outputs": [
    {
     "data": {
      "text/plain": [
       "(4, 4)"
      ]
     },
     "execution_count": 97,
     "metadata": {},
     "output_type": "execute_result"
    }
   ],
   "source": [
    "n = 16\n",
    "li = [4,3,2,1,8,7,6,5,12,11,10,9,16,15,14,13]\n",
    "get_i(li), get_d(li)"
   ]
  },
  {
   "cell_type": "code",
   "execution_count": 102,
   "metadata": {},
   "outputs": [
    {
     "data": {
      "text/plain": [
       "(8, 5)"
      ]
     },
     "execution_count": 102,
     "metadata": {},
     "output_type": "execute_result"
    }
   ],
   "source": [
    "n = 16\n",
    "li = [1,2,3,4,5,6,11,10,9,8,7,16,15,14,13,12]\n",
    "get_i(li), get_d(li)"
   ]
  },
  {
   "cell_type": "code",
   "execution_count": 119,
   "metadata": {},
   "outputs": [
    {
     "data": {
      "text/plain": [
       "(3, 4)"
      ]
     },
     "execution_count": 119,
     "metadata": {},
     "output_type": "execute_result"
    }
   ],
   "source": [
    "n = 10\n",
    "li = [2, 1, 6, 5, 4, 3, 10, 9, 8, 7]\n",
    "get_i(li), get_d(li)"
   ]
  },
  {
   "cell_type": "code",
   "execution_count": 121,
   "metadata": {},
   "outputs": [
    {
     "data": {
      "text/plain": [
       "(7, 4)"
      ]
     },
     "execution_count": 121,
     "metadata": {},
     "output_type": "execute_result"
    }
   ],
   "source": [
    "n = 10\n",
    "li = [1, 2, 3, 4, 5, 6, 10, 9, 8, 7]\n",
    "get_i(li), get_d(li)"
   ]
  },
  {
   "cell_type": "code",
   "execution_count": null,
   "metadata": {},
   "outputs": [],
   "source": [
    "7, 4\n",
    "4, 4"
   ]
  },
  {
   "cell_type": "code",
   "execution_count": 82,
   "metadata": {},
   "outputs": [
    {
     "data": {
      "text/plain": [
       "(5, 2)"
      ]
     },
     "execution_count": 82,
     "metadata": {},
     "output_type": "execute_result"
    }
   ],
   "source": [
    "n = 10\n",
    "li = [2, 1, 4, 3, 6, 5, 8, 7, 10, 9]\n",
    "get_i(li), get_d(li)"
   ]
  },
  {
   "cell_type": "code",
   "execution_count": null,
   "metadata": {},
   "outputs": [],
   "source": [
    "n=1\n",
    "1 1"
   ]
  },
  {
   "cell_type": "code",
   "execution_count": null,
   "metadata": {},
   "outputs": [],
   "source": [
    "n=2\n",
    "2 1"
   ]
  },
  {
   "cell_type": "code",
   "execution_count": null,
   "metadata": {},
   "outputs": [],
   "source": [
    "n=3\n",
    "3 1\n",
    "2 2"
   ]
  },
  {
   "cell_type": "code",
   "execution_count": null,
   "metadata": {},
   "outputs": [],
   "source": [
    "n=4\n",
    "4 1\n",
    "3 2\n",
    "\n",
    "2 2"
   ]
  },
  {
   "cell_type": "code",
   "execution_count": null,
   "metadata": {},
   "outputs": [],
   "source": [
    "n=5\n",
    "5 1\n",
    "4 2\n",
    "3 3\n",
    "\n",
    "3 2"
   ]
  },
  {
   "cell_type": "code",
   "execution_count": null,
   "metadata": {},
   "outputs": [],
   "source": [
    "n=6\n",
    "6 1\n",
    "5 2\n",
    "4 3\n",
    "\n",
    "4 2\n",
    "3 3\n",
    "\n",
    "3 2"
   ]
  },
  {
   "cell_type": "code",
   "execution_count": null,
   "metadata": {},
   "outputs": [],
   "source": [
    "n = 7\n",
    "7 1\n",
    "6 2\n",
    "5 3\n",
    "4 4\n",
    "\n",
    "5 2\n",
    "4 3\n",
    "\n",
    "4 2\n",
    "3 3"
   ]
  },
  {
   "cell_type": "code",
   "execution_count": null,
   "metadata": {},
   "outputs": [],
   "source": [
    "n = 8\n",
    "8 1\n",
    "7 2\n",
    "6 3\n",
    "5 4\n",
    "\n",
    "6 2\n",
    "5 3\n",
    "4 4\n",
    "\n",
    "5 2\n",
    "4 3\n",
    "\n",
    "4 2\n",
    "3 3"
   ]
  },
  {
   "cell_type": "code",
   "execution_count": null,
   "metadata": {},
   "outputs": [],
   "source": [
    "n = 9\n",
    "9 1 [1, 2, 3, 4, 5, 6, 7, 8, 9]\n",
    "8 2 [2, 1, 3, 4, 5, 6, 7, 8, 9]\n",
    "7 3 [3, 2, 1, 4, 5, 6, 7, 8, 9]\n",
    "6 4 [4, 3, 2, 1, 5, 6, 7, 8, 9]\n",
    "5 5 [5, 4, 3, 2, 1, 6, 7, 8, 9]\n",
    "\n",
    "7 2 [2, 1, 3, 4, 5, 6, 7, 9, 8]\n",
    "6 3 [3, 2, 1, 4, 5, 6, 7, 9, 8]\n",
    "5 4 [4, 3, 2, 1, 5, 6, 7, 9, 8]\n",
    "\n",
    "6 2 [2, 1, 3, 4, 5, 7, 6, 9, 8]\n",
    "5 3 [3, 2, 1, 4, 5, 7, 6, 9, 8]\n",
    "4 4 [4, 3, 2, 1, 5, 7, 6, 9, 8]\n",
    "\n",
    "5 2 [2, 1, 3, 5, 4, 7, 6, 9, 8]\n",
    "4 3 [3, 2, 1, 5, 4, 7, 6, 9, 8]\n",
    "\n",
    "3 3 [3, 2, 1, 6, 5, 4, 9, 8, 7]"
   ]
  },
  {
   "cell_type": "code",
   "execution_count": null,
   "metadata": {},
   "outputs": [],
   "source": [
    "n = 10\n",
    "{(4, 3),\n",
    " (4, 4),\n",
    " (5, 2),\n",
    " (5, 3),\n",
    " (5, 4),\n",
    " (5, 5),\n",
    " (6, 2),\n",
    " (6, 3),\n",
    " (6, 4),\n",
    " (6, 5),\n",
    " (7, 2),\n",
    " (7, 3),\n",
    " (7, 4),\n",
    " (8, 2),\n",
    " (8, 3),\n",
    " (9, 2),\n",
    " (10, 1)}\n",
    "\n",
    "(5, 2)까지 뒤 2개씩 묶는 거로 커버 가능함"
   ]
  },
  {
   "cell_type": "code",
   "execution_count": 262,
   "metadata": {},
   "outputs": [],
   "source": [
    "def solve(n, m, k):\n",
    "    is_reversed = False\n",
    "    if m < k:\n",
    "        is_reversed = True\n",
    "        m, k = k, m\n",
    "\n",
    "    if not check_init_possibility():\n",
    "        return [-1]\n",
    "    else:\n",
    "        is_possible = False\n",
    "\n",
    "        to_bundle = k\n",
    "        bundle_effect = to_bundle - 1\n",
    "\n",
    "        bundle_count = 1\n",
    "        additional_adjustment = 0\n",
    "        cur_m = n + 1 - k\n",
    "        while True:\n",
    "            if cur_m == m:\n",
    "                is_possible = True\n",
    "                break\n",
    "\n",
    "            bundle_count += 1\n",
    "            if n - bundle_count * to_bundle < 0 or cur_m - bundle_effect < m:\n",
    "                bundle_count -= 1\n",
    "                break\n",
    "            cur_m -= bundle_effect\n",
    "\n",
    "        while cur_m != m:\n",
    "            additional_adjustment += 1\n",
    "            if bundle_count * to_bundle + additional_adjustment > n or additional_adjustment >= to_bundle:\n",
    "                break\n",
    "            cur_m -= 1\n",
    "\n",
    "            if cur_m == m:\n",
    "                is_possible = True\n",
    "                break\n",
    "\n",
    "        if not is_possible:\n",
    "            return [-1]\n",
    "        else:\n",
    "            cur = n\n",
    "            end_temp = deque()\n",
    "            while bundle_count:\n",
    "                end_temp.extendleft(list(range(cur - to_bundle + 1, cur + 1)))\n",
    "                bundle_count -= 1\n",
    "                cur -= to_bundle\n",
    "\n",
    "            start_num = min(additional_adjustment + 1, cur)\n",
    "            start_temp = list(range(start_num, 0, -1))\n",
    "\n",
    "            mid_temp = list(range(start_num + 1, cur + 1))\n",
    "\n",
    "            result = start_temp + mid_temp + list(end_temp)\n",
    "            if m != get_i(result) or k != get_d(result):\n",
    "                return [-1]\n",
    "            else:\n",
    "                if is_reversed:\n",
    "                    result.reverse()\n",
    "\n",
    "                return result"
   ]
  },
  {
   "cell_type": "code",
   "execution_count": 269,
   "metadata": {},
   "outputs": [],
   "source": [
    "st8 = {(3, 3),\n",
    " (4, 2),\n",
    " (4, 3),\n",
    " (4, 4),\n",
    " (5, 2),\n",
    " (5, 3),\n",
    " (5, 4),\n",
    " (6, 2),\n",
    " (6, 3),\n",
    " (7, 2),\n",
    " (8, 1)}\n",
    "\n",
    "st9 = {(3, 3),\n",
    " (4, 3),\n",
    " (4, 4),\n",
    " (5, 2),\n",
    " (5, 3),\n",
    " (5, 4),\n",
    " (5, 5),\n",
    " (6, 2),\n",
    " (6, 3),\n",
    " (6, 4),\n",
    " (7, 2),\n",
    " (7, 3),\n",
    " (8, 2),\n",
    " (9, 1)}\n",
    "\n",
    "st10 ={(4, 3),\n",
    " (4, 4),\n",
    " (5, 2),\n",
    " (5, 3),\n",
    " (5, 4),\n",
    " (5, 5),\n",
    " (6, 2),\n",
    " (6, 3),\n",
    " (6, 4),\n",
    " (6, 5),\n",
    " (7, 2),\n",
    " (7, 3),\n",
    " (7, 4),\n",
    " (8, 2),\n",
    " (8, 3),\n",
    " (9, 2),\n",
    " (10, 1)}\n",
    "\n",
    "for n in range(1, 11):\n",
    "    cases = perm(range(1, n + 1), n)\n",
    "\n",
    "    if n <= 8:\n",
    "        st = set() \n",
    "        for li in cases:\n",
    "            ii, dd = get_i(li), get_d(li)\n",
    "\n",
    "            if ii >= dd:\n",
    "                st.add((ii, dd))\n",
    "    elif n == 9:\n",
    "        st = st9.copy()\n",
    "    elif n == 10:\n",
    "        st = st10.copy()\n",
    "\n",
    "    for k in range(1, n + 1):\n",
    "        for m in range(k, n + 1):\n",
    "            li = solve(n, m, k)\n",
    "            if li[0] == -1:\n",
    "                if (m, k) in st:\n",
    "                    print('만들 수 있는걸 못만들었음', n, m, k)\n",
    "            elif (m, k) not in st and li[0] != -1:\n",
    "                print('만들 수 없는걸 만들었음', m, k)\n",
    "            elif m != get_i(li) or k != get_d(li):\n",
    "                print(n, m, k, get_i(li), get_d(li))"
   ]
  },
  {
   "cell_type": "code",
   "execution_count": null,
   "metadata": {},
   "outputs": [],
   "source": [
    "n = 9\n",
    "9 1 [1, 2, 3, 4, 5, 6, 7, 8, 9]\n",
    "8 2 [2, 1, 3, 4, 5, 6, 7, 8, 9]\n",
    "7 3 [3, 2, 1, 4, 5, 6, 7, 8, 9]\n",
    "6 4 [4, 3, 2, 1, 5, 6, 7, 8, 9]\n",
    "5 5 [5, 4, 3, 2, 1, 6, 7, 8, 9]\n",
    "\n",
    "7 2 [2, 1, 3, 4, 5, 6, 7, 9, 8]\n",
    "6 3 [3, 2, 1, 4, 5, 6, 7, 9, 8]\n",
    "5 4 [4, 3, 2, 1, 5, 6, 7, 9, 8]\n",
    "\n",
    "6 2 [2, 1, 3, 4, 5, 7, 6, 9, 8]\n",
    "5 3 [3, 2, 1, 4, 5, 7, 6, 9, 8]\n",
    "4 4 [4, 3, 2, 1, 5, 7, 6, 9, 8]\n",
    "\n",
    "5 2 [2, 1, 3, 5, 4, 7, 6, 9, 8]\n",
    "4 3 [3, 2, 1, 5, 4, 7, 6, 9, 8]\n",
    "\n",
    "3 3 [3, 2, 1, 6, 5, 4, 9, 8, 7]"
   ]
  },
  {
   "cell_type": "code",
   "execution_count": 271,
   "metadata": {},
   "outputs": [
    {
     "data": {
      "text/plain": [
       "(7, 5, 3)"
      ]
     },
     "execution_count": 271,
     "metadata": {},
     "output_type": "execute_result"
    }
   ],
   "source": [
    "n = 7\n",
    "s = '1 2 3 4 7 6 5'\n",
    "li = list(map(int, s.split()))\n",
    "n, get_i(li), get_d(li)"
   ]
  },
  {
   "cell_type": "code",
   "execution_count": 273,
   "metadata": {},
   "outputs": [
    {
     "data": {
      "text/plain": [
       "(7, 5, 3)"
      ]
     },
     "execution_count": 273,
     "metadata": {},
     "output_type": "execute_result"
    }
   ],
   "source": [
    "n = 7\n",
    "s = '3 2 1 4 5 6 7'\n",
    "li = list(map(int, s.split()))\n",
    "n, get_i(li), get_d(li)"
   ]
  },
  {
   "cell_type": "code",
   "execution_count": 227,
   "metadata": {},
   "outputs": [
    {
     "data": {
      "text/plain": [
       "(10, 5, 3)"
      ]
     },
     "execution_count": 227,
     "metadata": {},
     "output_type": "execute_result"
    }
   ],
   "source": [
    "n = 10\n",
    "li = [2, 1, 3, 4, 7, 6, 5, 10, 9, 8]\n",
    "n, get_i(li), get_d(li)"
   ]
  },
  {
   "cell_type": "code",
   "execution_count": 248,
   "metadata": {
    "scrolled": true
   },
   "outputs": [
    {
     "name": "stdout",
     "output_type": "stream",
     "text": [
      "7 3 2\n",
      "4 3\n",
      "1 3 2 5 4 7 6\n"
     ]
    }
   ],
   "source": [
    "# 제출본\n",
    "from collections import deque\n",
    "\n",
    "def get_i(li):\n",
    "    dp = []\n",
    "\n",
    "    for v in li:\n",
    "        possible_former_values_count = [count for value, count in dp if value < v]\n",
    "        if possible_former_values_count:\n",
    "            dp.append((v, max(possible_former_values_count) + 1))\n",
    "        else:\n",
    "            dp.append((v, 1))\n",
    "\n",
    "    dp = sorted(dp, key=lambda x: x[1], reverse=True)\n",
    "    \n",
    "    return dp[0][1]\n",
    "\n",
    "def get_d(li):\n",
    "    dp = [0] * n\n",
    "    dp[0] = 1\n",
    "\n",
    "    max_value = 1\n",
    "    for i in range(1, n):\n",
    "        candidates = [dp[index] for index in range(i) if li[index] > li[i]]\n",
    "        dp[i] = max(candidates) + 1 if candidates else 1\n",
    "        max_value = max(max_value, dp[i])\n",
    "\n",
    "    return max_value\n",
    "\n",
    "def check_init_possibility():\n",
    "    if k == 1:\n",
    "        if m == n:\n",
    "            return True\n",
    "        else:\n",
    "            return False\n",
    "    else:\n",
    "        if m + k > n + 1:\n",
    "            return False\n",
    "        else:\n",
    "            return True\n",
    "        \n",
    "n, m, k = map(int, input().split())\n",
    "\n",
    "is_reversed = False\n",
    "if m < k:\n",
    "    is_reversed = True\n",
    "    m, k = k, m\n",
    "    \n",
    "if not check_init_possibility():\n",
    "    print(-1)\n",
    "else:\n",
    "    is_possible = False\n",
    "    \n",
    "    to_bundle = k\n",
    "    bundle_effect = to_bundle - 1\n",
    "    \n",
    "    bundle_count = 1\n",
    "    additional_adjustment = 0\n",
    "    cur_m = n + 1 - k\n",
    "    while True:\n",
    "        if cur_m == m:\n",
    "            is_possible = True\n",
    "            break\n",
    "        \n",
    "        bundle_count += 1\n",
    "        if n - bundle_count * to_bundle < 0 or cur_m - bundle_effect < m:\n",
    "            bundle_count -= 1\n",
    "            break\n",
    "        cur_m -= bundle_effect\n",
    " \n",
    "    while cur_m != m:\n",
    "        additional_adjustment += 1\n",
    "        if bundle_count * to_bundle + additional_adjustment > n or additional_adjustment >= to_bundle:\n",
    "            break\n",
    "        cur_m -= 1\n",
    "        \n",
    "        if cur_m == m:\n",
    "            is_possible = True\n",
    "            break\n",
    "        \n",
    "    if not is_possible:\n",
    "        print(-1)\n",
    "    else:\n",
    "        cur = n\n",
    "        end_temp = deque()\n",
    "        while bundle_count:\n",
    "            end_temp.extendleft(list(range(cur - to_bundle + 1, cur + 1)))\n",
    "            bundle_count -= 1\n",
    "            cur -= to_bundle\n",
    "            \n",
    "        start_num = min(additional_adjustment + 1, cur)\n",
    "        start_temp = list(range(start_num, 0, -1))\n",
    "        \n",
    "        mid_temp = list(range(start_num + 1, cur + 1))\n",
    "        \n",
    "        result = start_temp + mid_temp + list(end_temp)\n",
    "        \n",
    "        if m != get_i(result) or k != get_d(result):\n",
    "            print(-1)\n",
    "        else:\n",
    "            if is_reversed:\n",
    "                result.reverse()\n",
    "\n",
    "            print(*result)"
   ]
  }
 ],
 "metadata": {
  "kernelspec": {
   "display_name": "Python 3",
   "language": "python",
   "name": "python3"
  },
  "language_info": {
   "codemirror_mode": {
    "name": "ipython",
    "version": 3
   },
   "file_extension": ".py",
   "mimetype": "text/x-python",
   "name": "python",
   "nbconvert_exporter": "python",
   "pygments_lexer": "ipython3",
   "version": "3.7.4"
  }
 },
 "nbformat": 4,
 "nbformat_minor": 4
}
