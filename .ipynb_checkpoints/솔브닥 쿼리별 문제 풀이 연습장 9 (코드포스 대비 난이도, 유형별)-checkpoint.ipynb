{
 "cells": [
  {
   "cell_type": "markdown",
   "metadata": {},
   "source": [
    "tier:g5..g4 (tag:math|tag:dp|tag:binary_search|tag:greedy|tag:prefix_sum) - solved_by:hsh8086"
   ]
  },
  {
   "cell_type": "markdown",
   "metadata": {},
   "source": [
    "### 행렬 제곱 10830"
   ]
  },
  {
   "cell_type": "code",
   "execution_count": 32,
   "metadata": {},
   "outputs": [
    {
     "name": "stdout",
     "output_type": "stream",
     "text": [
      "2 1\n",
      "1000 1000\n",
      "1000 1000\n",
      "0 0\n",
      "0 0\n"
     ]
    }
   ],
   "source": [
    "mod = 1000\n",
    "\n",
    "n, b = map(int, input().split())\n",
    "li = [list(map(int, input().split())) for _ in range(n)]\n",
    "\n",
    "def calcul(li1, li2):\n",
    "    nli = [[0] * n for _ in range(n)]\n",
    "    for ni in range(n):\n",
    "        for nj in range(n):\n",
    "            sv = 0\n",
    "            for i in range(n):\n",
    "                sv += li1[ni][i] * li2[i][nj]\n",
    "                sv %= mod\n",
    "            nli[ni][nj] = sv\n",
    "    return nli\n",
    "        \n",
    "def recur(b):\n",
    "    if b == 1:\n",
    "        return li\n",
    "    \n",
    "    temp = recur(b // 2)\n",
    "    \n",
    "    if b % 2 == 0:\n",
    "        return calcul(temp, temp)\n",
    "    else:\n",
    "        return calcul(calcul(temp, temp), li)\n",
    "    \n",
    "r = recur(b)\n",
    "for v in r:\n",
    "    nv = [w % mod for w in v]\n",
    "    print(*nv)"
   ]
  },
  {
   "cell_type": "markdown",
   "metadata": {},
   "source": [
    "### A와 B 12904"
   ]
  },
  {
   "cell_type": "code",
   "execution_count": 34,
   "metadata": {},
   "outputs": [
    {
     "name": "stdout",
     "output_type": "stream",
     "text": [
      "AB\n",
      "ABB\n",
      "0\n"
     ]
    }
   ],
   "source": [
    "a = input()\n",
    "b = list(input())\n",
    "\n",
    "while len(a) < len(b):\n",
    "    if b[-1] == 'B':\n",
    "        b.pop()\n",
    "        b.reverse()\n",
    "    else:\n",
    "        b.pop()\n",
    "        \n",
    "b = ''.join(b)\n",
    "\n",
    "if a == b:\n",
    "    print(1)\n",
    "else:\n",
    "    print(0)"
   ]
  },
  {
   "cell_type": "markdown",
   "metadata": {},
   "source": [
    "### 색상환 2482"
   ]
  },
  {
   "cell_type": "code",
   "execution_count": 94,
   "metadata": {},
   "outputs": [
    {
     "name": "stdout",
     "output_type": "stream",
     "text": [
      "4\n",
      "2\n",
      "2\n"
     ]
    }
   ],
   "source": [
    "mod = 1000000003\n",
    "\n",
    "def get_dp(n, k):\n",
    "    if k == 0:\n",
    "        return 1\n",
    "    elif n == 0 and k >= 1:\n",
    "        return 0\n",
    "    \n",
    "    dp = [[0] * k for _ in range(n)]\n",
    "    for i in range(min(n, 2)):\n",
    "        dp[i][0] = i + 1\n",
    "    for i in range(2, n):\n",
    "        for j in range(k - 1, -1, -1):\n",
    "            if j - 1 >= 0:\n",
    "                dp[i][j] = dp[i - 2][j - 1] + dp[i - 1][j]\n",
    "                dp[i][j] %= mod\n",
    "            else:\n",
    "                dp[i][j] = dp[i - 1][j]\n",
    "\n",
    "        dp[i][0] += 1\n",
    "        dp[i][0] %= mod\n",
    "        \n",
    "    return dp[-1][-1]\n",
    "    \n",
    "n = int(input())\n",
    "k = int(input())\n",
    "\n",
    "if k == 1:\n",
    "    print(n)\n",
    "else:\n",
    "    r = get_dp(n, k) - get_dp(n - 4, k - 2)\n",
    "    r %= mod\n",
    "\n",
    "    print(r)"
   ]
  },
  {
   "cell_type": "markdown",
   "metadata": {},
   "source": [
    "### 소형기관차 2616"
   ]
  },
  {
   "cell_type": "code",
   "execution_count": 112,
   "metadata": {},
   "outputs": [
    {
     "name": "stdout",
     "output_type": "stream",
     "text": [
      "8\n",
      "1 2 3 1 2 3 1 2\n",
      "2\n",
      "13\n"
     ]
    }
   ],
   "source": [
    "n = int(input())\n",
    "li = list(map(int, input().split()))\n",
    "k = int(input())\n",
    "\n",
    "sli = [0] * (n + 1)\n",
    "cumul = 0\n",
    "for i in range(n):\n",
    "    cumul += li[i]\n",
    "    sli[i + 1] = cumul\n",
    "    \n",
    "dp = [[0] * 3 for _ in range(n)]\n",
    "\n",
    "for i in range(k - 1, n):\n",
    "    temp = sli[i + 1] - sli[i - k + 1]\n",
    "    for j in range(3):\n",
    "        t1 = 0\n",
    "        if i - 1 >= 0:\n",
    "            t1 = dp[i - 1][j]\n",
    "        \n",
    "        t2 = 0\n",
    "        if i - k >= 0 and j - 1 >= 0:\n",
    "            t2 = dp[i - k][j - 1] + temp\n",
    "            \n",
    "        dp[i][j] = max(t1, t2)\n",
    "        \n",
    "    dp[i][0] = max(dp[i][0], temp)\n",
    "    \n",
    "print(dp[-1][-1])"
   ]
  },
  {
   "cell_type": "markdown",
   "metadata": {},
   "source": [
    "### 무한 수열 1351"
   ]
  },
  {
   "cell_type": "code",
   "execution_count": 12,
   "metadata": {},
   "outputs": [
    {
     "name": "stdout",
     "output_type": "stream",
     "text": [
      "1000000 2 3\n",
      "80406\n"
     ]
    }
   ],
   "source": [
    "## PYRIVAL BOOTSTRAP\n",
    "# https://github.com/cheran-senthil/PyRival/blob/master/pyrival/misc/bootstrap.py\n",
    "# This decorator allows for recursion without actually doing recursion\n",
    "## @bootstrap, yield when getting and returning value in recursive functions, end of functions\n",
    "from types import GeneratorType\n",
    "\n",
    "def bootstrap(f, stack=[]):\n",
    "    def wrappedfunc(*args, **kwargs):\n",
    "        if stack:\n",
    "            return f(*args, **kwargs)\n",
    "        else:\n",
    "            to = f(*args, **kwargs)\n",
    "            while True:\n",
    "                if type(to) is GeneratorType:\n",
    "                    stack.append(to)\n",
    "                    to = next(to)\n",
    "                else:\n",
    "                    stack.pop()\n",
    "                    if not stack:\n",
    "                        break\n",
    "                    to = stack[-1].send(to)\n",
    "            return to\n",
    "    return wrappedfunc\n",
    "\n",
    "@bootstrap\n",
    "def recur(n):\n",
    "    if n in d:\n",
    "        yield d[n]\n",
    "    \n",
    "    d[n] = (yield recur(n // p)) + (yield recur(n // q))\n",
    "    yield d[n]\n",
    "\n",
    "n, p, q = map(int, input().split())\n",
    "\n",
    "d = dict()\n",
    "d[0] = 1\n",
    "r = recur(n)\n",
    "\n",
    "print(r)"
   ]
  },
  {
   "cell_type": "markdown",
   "metadata": {},
   "source": [
    "### 돌다리 건너기 2602"
   ]
  },
  {
   "cell_type": "code",
   "execution_count": 13,
   "metadata": {},
   "outputs": [
    {
     "name": "stdout",
     "output_type": "stream",
     "text": [
      "RGS\n",
      "RINGSR\n",
      "GRGGNS\n",
      "3\n"
     ]
    }
   ],
   "source": [
    "s = input()\n",
    "ns = len(s)\n",
    "\n",
    "a = input()\n",
    "b = input()\n",
    "n = len(a)\n",
    "\n",
    "dp_a = [[0] * ns for _ in range(n)]\n",
    "dp_b = [[0] * ns for _ in range(n)]\n",
    "\n",
    "if a[0] == s[0]:\n",
    "    dp_a[0][0] = 1\n",
    "if b[0] == s[0]:\n",
    "    dp_b[0][0] = 1\n",
    "    \n",
    "for i in range(1, n):\n",
    "    for j in range(1, ns):\n",
    "        dp_a[i][j] = dp_a[i - 1][j]\n",
    "        if a[i] == s[j]:\n",
    "            dp_a[i][j] += dp_b[i - 1][j - 1]\n",
    "        dp_b[i][j] = dp_b[i - 1][j]\n",
    "        if b[i] == s[j]:\n",
    "            dp_b[i][j] += dp_a[i - 1][j - 1]\n",
    "            \n",
    "    dp_a[i][0] = dp_a[i - 1][0]\n",
    "    dp_b[i][0] = dp_b[i - 1][0]\n",
    "\n",
    "    if a[i] == s[0]:\n",
    "        dp_a[i][0] += 1\n",
    "    if b[i] == s[0]:\n",
    "        dp_b[i][0] += 1\n",
    "                \n",
    "r = dp_a[-1][-1] + dp_b[-1][-1]\n",
    "\n",
    "print(r)"
   ]
  },
  {
   "cell_type": "markdown",
   "metadata": {},
   "source": [
    "### 리조트 13302"
   ]
  },
  {
   "cell_type": "code",
   "execution_count": 18,
   "metadata": {},
   "outputs": [
    {
     "name": "stdout",
     "output_type": "stream",
     "text": [
      "50 10\n",
      "3 5 7 11 15 16 22 23 24 34\n",
      "288000\n"
     ]
    }
   ],
   "source": [
    "from collections import deque, defaultdict as dd\n",
    "\n",
    "inf = float('inf')\n",
    "get_value = lambda x: int(x) - 1\n",
    "\n",
    "n, m = map(int, input().split())\n",
    "\n",
    "to_buy = [True] * n\n",
    "if m:\n",
    "    li = list(map(get_value, input().split()))\n",
    "    for v in li:\n",
    "        to_buy[v] = False\n",
    "\n",
    "queue = deque()\n",
    "queue.append((0, 0, 0)) # cur, price, coupon\n",
    "dp = dd(lambda: inf)\n",
    "r = float('inf')\n",
    "while queue:\n",
    "    cur, price, coupon = queue.popleft()\n",
    "    \n",
    "    if cur == n:\n",
    "        r = min(r, price)\n",
    "        continue\n",
    "    if not to_buy[cur]:\n",
    "        temp = (cur + 1, coupon)\n",
    "        if price < dp[temp]:\n",
    "            dp[temp] = price\n",
    "            queue.append((cur + 1, price, coupon))\n",
    "        continue\n",
    "        \n",
    "    if coupon >= 3:\n",
    "        ncoupon = coupon - 3\n",
    "        temp = (cur + 1, ncoupon)\n",
    "        if price < dp[temp]:\n",
    "            dp[temp] = price\n",
    "            queue.append((cur + 1, price, ncoupon))\n",
    "\n",
    "    nprice = price + 10000\n",
    "    temp = (cur + 1, coupon)\n",
    "    if nprice < dp[temp]:\n",
    "        dp[temp] = nprice\n",
    "        queue.append((cur + 1, nprice, coupon))    \n",
    "            \n",
    "    ncur = min(n, cur + 3)\n",
    "    nprice = price + 25000\n",
    "    temp = (ncur, coupon + 1)\n",
    "    if nprice < dp[temp]:\n",
    "        dp[temp] = nprice\n",
    "        queue.append((ncur, nprice, coupon + 1))\n",
    "        \n",
    "    ncur = min(n, cur + 5)\n",
    "    nprice = price + 37000\n",
    "    temp = (ncur, coupon + 2)\n",
    "    if nprice < dp[temp]:\n",
    "        dp[temp] = nprice\n",
    "        queue.append((ncur, nprice, coupon + 2))\n",
    "        \n",
    "print(r)"
   ]
  },
  {
   "cell_type": "markdown",
   "metadata": {},
   "source": [
    "### 인접한 비트의 개수 2698"
   ]
  },
  {
   "cell_type": "code",
   "execution_count": 27,
   "metadata": {},
   "outputs": [
    {
     "name": "stdout",
     "output_type": "stream",
     "text": [
      "50 37\n",
      "44874764\n"
     ]
    }
   ],
   "source": [
    "import sys\n",
    "input = lambda: sys.stdin.readline().rstrip()\n",
    "\n",
    "for _ in range(int(input())):\n",
    "    n, k = map(int, input().split())\n",
    "\n",
    "    dp_1 = [[0] * (k + 1) for _ in range(n)]\n",
    "    dp_0 = [[0] * (k + 1) for _ in range(n)]\n",
    "\n",
    "    dp_1[0][0] = 1\n",
    "    dp_0[0][0] = 1\n",
    "\n",
    "    for i in range(1, n):\n",
    "        for j in range(k + 1):\n",
    "            dp_1[i][j] = dp_0[i - 1][j]\n",
    "            if j - 1 >= 0:\n",
    "                dp_1[i][j] += dp_1[i - 1][j - 1]\n",
    "\n",
    "            dp_0[i][j] = dp_0[i - 1][j] + dp_1[i - 1][j]\n",
    "\n",
    "    r = dp_1[-1][-1] + dp_0[-1][-1]\n",
    "\n",
    "    print(r)"
   ]
  },
  {
   "cell_type": "markdown",
   "metadata": {},
   "source": [
    "### 행복 유치원 13164"
   ]
  },
  {
   "cell_type": "code",
   "execution_count": 29,
   "metadata": {},
   "outputs": [
    {
     "name": "stdout",
     "output_type": "stream",
     "text": [
      "5 3\n",
      "1 3 5 6 10\n",
      "3\n"
     ]
    }
   ],
   "source": [
    "n, k = map(int, input().split())\n",
    "li = list(map(int, input().split()))\n",
    "\n",
    "diffs = []\n",
    "for i in range(n - 1):\n",
    "    diffs.append(li[i + 1] - li[i])\n",
    "    \n",
    "diffs.sort()\n",
    "r = li[-1] - li[0]\n",
    "\n",
    "for _ in range(k - 1):\n",
    "    r -= diffs.pop()\n",
    "    \n",
    "print(r)"
   ]
  },
  {
   "cell_type": "markdown",
   "metadata": {},
   "source": [
    "### 개근상 1563"
   ]
  },
  {
   "cell_type": "code",
   "execution_count": 33,
   "metadata": {},
   "outputs": [
    {
     "name": "stdout",
     "output_type": "stream",
     "text": [
      "4\n",
      "43\n"
     ]
    }
   ],
   "source": [
    "mod = 1000000\n",
    "\n",
    "n = int(input())\n",
    "\n",
    "dp = [[[0] * 3 for _ in range(2)] for _ in range(n)] # cur, ls, as\n",
    "dp[0][0][0] = 1\n",
    "dp[0][0][1] = 1\n",
    "dp[0][1][0] = 1\n",
    "for i in range(1, n):\n",
    "    # cur o\n",
    "    for lc in range(2):\n",
    "        dp[i][lc][0] += dp[i - 1][lc][0] + dp[i - 1][lc][1] + dp[i - 1][lc][2]\n",
    "        dp[i][lc][0] %= mod\n",
    "    \n",
    "    # cur l\n",
    "    dp[i][1][0] += dp[i - 1][0][0] + dp[i - 1][0][1] + dp[i - 1][0][2]\n",
    "    dp[i][1][0] %= mod\n",
    "    \n",
    "    # cur a:\n",
    "    for lc in range(2):\n",
    "        dp[i][lc][2] += dp[i - 1][lc][1]\n",
    "        dp[i][lc][2] %= mod\n",
    "        dp[i][lc][1] += dp[i - 1][lc][0]\n",
    "        dp[i][lc][1] %= mod\n",
    "\n",
    "r = 0\n",
    "for lc in range(2):\n",
    "    for ac in range(3):\n",
    "        r += dp[-1][lc][ac]\n",
    "        \n",
    "r %= mod\n",
    "\n",
    "print(r)"
   ]
  },
  {
   "cell_type": "markdown",
   "metadata": {},
   "source": [
    "### PPAP 16120"
   ]
  },
  {
   "cell_type": "code",
   "execution_count": 42,
   "metadata": {},
   "outputs": [
    {
     "name": "stdout",
     "output_type": "stream",
     "text": [
      "PPAPPAP\n",
      "PPAP\n"
     ]
    }
   ],
   "source": [
    "s = input()\n",
    "n = len(s)\n",
    "\n",
    "pc = 0\n",
    "ip = True\n",
    "for i in range(n):\n",
    "    if s[i] == 'P':\n",
    "        pc += 1\n",
    "    else:\n",
    "        if i + 1 < n and s[i + 1] == 'P' and pc >= 2:\n",
    "            pc -= 2\n",
    "        else:\n",
    "            ip = False\n",
    "            break\n",
    "            \n",
    "if pc != 1:\n",
    "    ip = False\n",
    "            \n",
    "if ip:\n",
    "    print('PPAP')\n",
    "else:\n",
    "    print('NP')"
   ]
  },
  {
   "cell_type": "markdown",
   "metadata": {},
   "source": [
    "### 색종이 올려 놓기 2643"
   ]
  },
  {
   "cell_type": "code",
   "execution_count": null,
   "metadata": {},
   "outputs": [],
   "source": [
    "n = int(input())\n",
    "\n",
    "li = []\n",
    "for _ in range(n):\n",
    "    a, b = map(int, input().split())\n",
    "    \n",
    "    if a > b:\n",
    "        a, b = b, a\n",
    "        \n",
    "    li.append((a, b))\n",
    "    \n",
    "li.sort(key=lambda x: (x[1], x[0]))\n",
    "li = [v[0] for v in li]\n",
    "\n",
    "dp = []\n",
    "for i in range(n):\n",
    "    max_c = 1\n",
    "    for v, c in dp:\n",
    "        if v <= li[i]:\n",
    "            max_c = max(max_c, c + 1)\n",
    "            \n",
    "    dp.append((li[i], max_c))\n",
    "    \n",
    "r = max(v[1] for v in dp)\n",
    "\n",
    "print(r)"
   ]
  },
  {
   "cell_type": "markdown",
   "metadata": {},
   "source": [
    "### 숫자카드 2591"
   ]
  },
  {
   "cell_type": "code",
   "execution_count": 46,
   "metadata": {},
   "outputs": [
    {
     "name": "stdout",
     "output_type": "stream",
     "text": [
      "2020\n",
      "1\n"
     ]
    }
   ],
   "source": [
    "li = list(input())\n",
    "n = len(li)\n",
    "\n",
    "dp = [[0] * 2 for _ in range(n)]\n",
    "dp[0][0] = 1\n",
    "for i in range(1, n):\n",
    "    if li[i] != '0':\n",
    "        dp[i][0] = dp[i - 1][0] + dp[i - 1][1]\n",
    "    if li[i - 1] != '0' and int(li[i - 1] + li[i]) <= 34:\n",
    "        if i - 2 >= 0:\n",
    "            dp[i][1] = dp[i - 2][0] + dp[i - 2][1]\n",
    "        else:\n",
    "            dp[i][1] = 1\n",
    "            \n",
    "r = dp[-1][0] + dp[-1][1]\n",
    "\n",
    "print(r)"
   ]
  }
 ],
 "metadata": {
  "kernelspec": {
   "display_name": "Python 3",
   "language": "python",
   "name": "python3"
  },
  "language_info": {
   "codemirror_mode": {
    "name": "ipython",
    "version": 3
   },
   "file_extension": ".py",
   "mimetype": "text/x-python",
   "name": "python",
   "nbconvert_exporter": "python",
   "pygments_lexer": "ipython3",
   "version": "3.7.4"
  }
 },
 "nbformat": 4,
 "nbformat_minor": 4
}
