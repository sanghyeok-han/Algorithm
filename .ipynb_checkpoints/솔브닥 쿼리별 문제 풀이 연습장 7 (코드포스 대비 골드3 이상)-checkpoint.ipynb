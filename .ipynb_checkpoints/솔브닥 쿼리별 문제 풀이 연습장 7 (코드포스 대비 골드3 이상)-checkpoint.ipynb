{
 "cells": [
  {
   "cell_type": "code",
   "execution_count": null,
   "metadata": {},
   "outputs": [],
   "source": [
    "tag:greedy tag:two_pointer tag:binary_search tag:prefix_sum tag:dp"
   ]
  },
  {
   "cell_type": "markdown",
   "metadata": {},
   "source": [
    "tier:g3.. tag:two_pointer - solved_by:hsh8086"
   ]
  },
  {
   "cell_type": "markdown",
   "metadata": {},
   "source": [
    "### ㅋㅋ루ㅋㅋ 20442"
   ]
  },
  {
   "cell_type": "code",
   "execution_count": null,
   "metadata": {},
   "outputs": [],
   "source": [
    "RRRRR\n",
    "KRRRRRK\n",
    "KKRRRRRKK\n"
   ]
  },
  {
   "cell_type": "code",
   "execution_count": null,
   "metadata": {},
   "outputs": [],
   "source": [
    "중간에 버리는 것은 K만 버리면 됨\n",
    "\n",
    "양 끝에서 ~start까지 앞부분 k 숫자, end~까지 뒷부분 k 숫자\n",
    "\n",
    "start 또는 end 위치에 k가 있으면 바로 해당 쪽으로 편입시킴\n",
    "둘 다 R일 때 두 k 개수가 같거나 왼쪽의 k개수가 더 적다면  start + 1을 함\n",
    "             오른쪽의 k 개수가 더 적다면 end - 1를 함\n",
    "\n",
    "처음 위치는 -1, n + 1\n",
    "\n",
    "양 끝을 중간 시작 위치로 두면 더 좋을 것 같음\n",
    "\n",
    "누적합 구해놓음\n",
    "\n",
    "~ l - 1,  l ~ r,   r + 1 ~\n",
    "\n",
    "ccs[l], ccs[r + 1] - ccs[l], ccs[n] - ccs[r]"
   ]
  },
  {
   "cell_type": "code",
   "execution_count": null,
   "metadata": {},
   "outputs": [],
   "source": [
    "RRRR"
   ]
  },
  {
   "cell_type": "code",
   "execution_count": 11,
   "metadata": {},
   "outputs": [
    {
     "name": "stdout",
     "output_type": "stream",
     "text": [
      "KRKRRRKRRRKRKRK\n",
      "11\n"
     ]
    }
   ],
   "source": [
    "s = input()\n",
    "n = len(s)\n",
    "\n",
    "li = [0] * n\n",
    "ccs = [[0, 0] for _ in range(n + 1)] # cumul counts\n",
    "cumul = [0, 0]\n",
    "for i in range(n):\n",
    "    if s[i] == 'K':\n",
    "        li[i] = 1\n",
    "    else:\n",
    "        li[i] = 0\n",
    "        \n",
    "    cumul[li[i]] += 1\n",
    "    ccs[i + 1][0] = cumul[0]\n",
    "    ccs[i + 1][1] = cumul[1]\n",
    "    \n",
    "start = 0\n",
    "end = n - 1\n",
    "max_value = 0\n",
    "while start <= end:\n",
    "    left_k = ccs[start][1]\n",
    "    right_k = ccs[n][1] - ccs[end][1]\n",
    "    mid_r = ccs[end + 1][0] - ccs[start][0]\n",
    "    \n",
    "    if mid_r != 0:\n",
    "        kc = min(left_k, right_k) * 2\n",
    "        max_value = max(max_value, kc + mid_r)\n",
    "        \n",
    "    if li[start]:\n",
    "        start += 1\n",
    "        continue\n",
    "    if li[end]:\n",
    "        end -= 1\n",
    "        continue\n",
    "        \n",
    "    if left_k <= right_k:\n",
    "        start += 1\n",
    "    else:\n",
    "        end -= 1\n",
    "        \n",
    "print(max_value)"
   ]
  },
  {
   "cell_type": "markdown",
   "metadata": {},
   "source": [
    "### 고냥이 16472"
   ]
  },
  {
   "cell_type": "code",
   "execution_count": null,
   "metadata": {},
   "outputs": [],
   "source": [
    "while start <= end < n:\n",
    "    if 종류가 너무 많으면\n",
    "        start += 1\n",
    "        continue\n",
    "    개수 구해서 최대치 갱신\n",
    "    end += 1"
   ]
  },
  {
   "cell_type": "code",
   "execution_count": 13,
   "metadata": {},
   "outputs": [
    {
     "data": {
      "text/plain": [
       "97"
      ]
     },
     "execution_count": 13,
     "metadata": {},
     "output_type": "execute_result"
    }
   ],
   "source": [
    "ord('a')"
   ]
  },
  {
   "cell_type": "code",
   "execution_count": 20,
   "metadata": {},
   "outputs": [
    {
     "name": "stdout",
     "output_type": "stream",
     "text": [
      "3\n",
      "aaa\n",
      "3\n"
     ]
    }
   ],
   "source": [
    "k = int(input())\n",
    "s = input()\n",
    "n = len(s)\n",
    "\n",
    "li = [0] * n\n",
    "for i in range(n):\n",
    "    li[i] = ord(s[i]) - 97\n",
    "\n",
    "cs = [0] * 26\n",
    "cs[li[0]] += 1\n",
    "start = 0\n",
    "end = 0\n",
    "\n",
    "max_value = 0\n",
    "while start <= end < n:\n",
    "    tc = len([v for v in cs if v]) # type count\n",
    "    if tc > k:\n",
    "        cs[li[start]] -= 1\n",
    "        start += 1\n",
    "        continue\n",
    "        \n",
    "    max_value = max(max_value, sum(cs))\n",
    "    end += 1\n",
    "    if end >= n:\n",
    "        break\n",
    "    cs[li[end]] += 1\n",
    "    \n",
    "print(max_value)"
   ]
  },
  {
   "cell_type": "markdown",
   "metadata": {},
   "source": [
    "### 카드 팩 구매하기 15823"
   ]
  },
  {
   "cell_type": "code",
   "execution_count": null,
   "metadata": {},
   "outputs": [],
   "source": [
    "이분탐색\n",
    "두포인터"
   ]
  },
  {
   "cell_type": "code",
   "execution_count": 35,
   "metadata": {},
   "outputs": [
    {
     "name": "stdout",
     "output_type": "stream",
     "text": [
      "5 1 4 1\n",
      "2 1 1 4\n",
      "1 2 1 10\n",
      "1\n"
     ]
    }
   ],
   "source": [
    "n, m = map(int, input().split())\n",
    "li = list(map(int, input().split()))\n",
    "\n",
    "result = 0\n",
    "start = 1\n",
    "end = n\n",
    "while start <= end:\n",
    "    mid = (start + end) // 2\n",
    "    \n",
    "    left = 0\n",
    "    right = 0\n",
    "    st = {li[0]}\n",
    "    cur_pending = 0\n",
    "    c = 0\n",
    "    while left <= right < n:\n",
    "        if cur_pending:\n",
    "            if li[left] == cur_pending:\n",
    "                cur_pending = 0\n",
    "            else:\n",
    "                st.discard(li[left])\n",
    "\n",
    "            left += 1\n",
    "            continue\n",
    "\n",
    "        if len(st) == mid:\n",
    "            c += 1\n",
    "            left = right + 1\n",
    "            right = right + 1\n",
    "\n",
    "            if right == n:\n",
    "                break\n",
    "            st = {li[right]}\n",
    "            continue\n",
    "\n",
    "        right += 1\n",
    "        if right == n:\n",
    "            break\n",
    "        if li[right] in st:\n",
    "            cur_pending = li[right]\n",
    "        else:\n",
    "            st.add(li[right])\n",
    "\n",
    "    if c >= m:\n",
    "        result = mid\n",
    "        start = mid + 1\n",
    "    else:\n",
    "        end = mid - 1\n",
    "        \n",
    "print(result)"
   ]
  },
  {
   "cell_type": "code",
   "execution_count": null,
   "metadata": {},
   "outputs": [],
   "source": [
    "10 5\n",
    "1 2 3 4 5 6 9 9 9 10\n",
    "1"
   ]
  },
  {
   "cell_type": "code",
   "execution_count": null,
   "metadata": {},
   "outputs": [],
   "source": [
    "10 2\n",
    "1 2 3 4 5 6 7 9 9 10\n",
    "4"
   ]
  },
  {
   "cell_type": "code",
   "execution_count": null,
   "metadata": {},
   "outputs": [],
   "source": [
    "이분탐색, 매개변수탐색, 해시를 이용한 집합과 맵, 두포인터"
   ]
  },
  {
   "cell_type": "markdown",
   "metadata": {},
   "source": [
    "### 같이 눈사람 만들래? 20366"
   ]
  },
  {
   "cell_type": "code",
   "execution_count": 75,
   "metadata": {},
   "outputs": [
    {
     "name": "stdout",
     "output_type": "stream",
     "text": [
      "4\n",
      "1 5 6 7\n",
      "3\n"
     ]
    }
   ],
   "source": [
    "n = int(input())\n",
    "li = sorted(map(int, input().split()))\n",
    "\n",
    "min_diff = float('inf')\n",
    "for a in range(n):\n",
    "    for b in range(a + 1, n):\n",
    "        sv = li[a] + li[b]\n",
    "        \n",
    "        start = 0\n",
    "        end = n - 1\n",
    "        while start < end:\n",
    "            if start == a:\n",
    "                start += 1\n",
    "                continue\n",
    "            if end == b:\n",
    "                end -= 1\n",
    "                continue\n",
    "                \n",
    "            if start == b:\n",
    "                break\n",
    "            if end == a:\n",
    "                break\n",
    "                \n",
    "            nsv = li[start] + li[end]\n",
    "            diff = abs(sv - nsv)\n",
    "            min_diff = min(diff, min_diff)\n",
    "            \n",
    "            if nsv >= sv:\n",
    "                end -= 1\n",
    "            else:\n",
    "                start += 1\n",
    "                \n",
    "print(min_diff)"
   ]
  },
  {
   "cell_type": "markdown",
   "metadata": {},
   "source": [
    "### List of Unique Numbers 13144"
   ]
  },
  {
   "cell_type": "code",
   "execution_count": 90,
   "metadata": {},
   "outputs": [
    {
     "name": "stdout",
     "output_type": "stream",
     "text": [
      "5\n",
      "1 1 1 1 1\n",
      "5\n"
     ]
    }
   ],
   "source": [
    "n = int(input())\n",
    "li = list(map(int, input().split()))\n",
    "\n",
    "def get_count(num):\n",
    "    return num * (num + 1) // 2 \n",
    "\n",
    "cur_pending = 0\n",
    "ldl = 0 # last duplicated length\n",
    "start = 0\n",
    "end = 0\n",
    "st = {li[0]}\n",
    "total = 0\n",
    "while start <= end:\n",
    "    if cur_pending:\n",
    "        if li[start] == cur_pending:\n",
    "            ldl = end - start - 1\n",
    "            cur_pending = 0\n",
    "        else:\n",
    "            st.discard(li[start])\n",
    "        start += 1\n",
    "        continue\n",
    "    \n",
    "    end += 1\n",
    "    if end >= n:\n",
    "        total += get_count(end - start) - get_count(ldl)\n",
    "        break\n",
    "    if li[end] not in st:\n",
    "        st.add(li[end])\n",
    "    else:\n",
    "        cur_pending = li[end]\n",
    "        total += get_count(end - start) - get_count(ldl)\n",
    "        \n",
    "print(total)"
   ]
  },
  {
   "cell_type": "code",
   "execution_count": null,
   "metadata": {},
   "outputs": [],
   "source": []
  }
 ],
 "metadata": {
  "kernelspec": {
   "display_name": "Python 3",
   "language": "python",
   "name": "python3"
  },
  "language_info": {
   "codemirror_mode": {
    "name": "ipython",
    "version": 3
   },
   "file_extension": ".py",
   "mimetype": "text/x-python",
   "name": "python",
   "nbconvert_exporter": "python",
   "pygments_lexer": "ipython3",
   "version": "3.7.4"
  }
 },
 "nbformat": 4,
 "nbformat_minor": 4
}
