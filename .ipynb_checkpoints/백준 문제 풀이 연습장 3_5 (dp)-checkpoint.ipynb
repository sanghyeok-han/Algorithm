{
 "cells": [
  {
   "cell_type": "markdown",
   "metadata": {},
   "source": [
    "### 카드게임 10835"
   ]
  },
  {
   "cell_type": "code",
   "execution_count": 61,
   "metadata": {},
   "outputs": [
    {
     "name": "stdout",
     "output_type": "stream",
     "text": [
      "4\n",
      "1 2 3 4\n",
      "4 1 2 3\n",
      "6\n"
     ]
    }
   ],
   "source": [
    "import sys\n",
    "sys.setrecursionlimit(30000)\n",
    "\n",
    "def recur(ai, bi):\n",
    "    if ai >= n or bi >= n:\n",
    "        return 0\n",
    "    if dp[ai][bi] != -1:\n",
    "        return dp[ai][bi]\n",
    "    \n",
    "    temp = 0\n",
    "    if a[ai] > b[bi]:\n",
    "        temp = max(temp, recur(ai, bi + 1) + b[bi])\n",
    "    else:\n",
    "        temp = max(temp, recur(ai + 1, bi + 1))\n",
    "    temp = max(temp, recur(ai + 1, bi))\n",
    "            \n",
    "    dp[ai][bi] = temp\n",
    "    return temp\n",
    "        \n",
    "n = int(input())\n",
    "a = list(map(int, input().split()))\n",
    "b = list(map(int, input().split()))\n",
    "\n",
    "dp = [[-1] * n for _ in range(n)]\n",
    "r = recur(0, 0)\n",
    "\n",
    "print(r)"
   ]
  },
  {
   "cell_type": "code",
   "execution_count": null,
   "metadata": {},
   "outputs": [],
   "source": [
    "9 9\n",
    "2 10\n",
    "2 3\n",
    "2 3\n",
    "10 4"
   ]
  },
  {
   "cell_type": "code",
   "execution_count": null,
   "metadata": {},
   "outputs": [],
   "source": [
    "9 9\n",
    "1 9\n",
    "1 1\n",
    "1 1\n",
    "1 1"
   ]
  },
  {
   "cell_type": "code",
   "execution_count": null,
   "metadata": {},
   "outputs": [],
   "source": [
    "9 9\n",
    "2 10\n",
    "2 3\n",
    "2 3\n",
    "10 2"
   ]
  },
  {
   "cell_type": "markdown",
   "metadata": {},
   "source": [
    "### 문자판 2186"
   ]
  },
  {
   "cell_type": "code",
   "execution_count": 12,
   "metadata": {},
   "outputs": [
    {
     "name": "stdout",
     "output_type": "stream",
     "text": [
      "3\n"
     ]
    }
   ],
   "source": [
    "from collections import defaultdict as dd\n",
    "\n",
    "n, m, k = map(int, input().split())\n",
    "li = [input() for _ in range(n)]\n",
    "s = input()\n",
    "\n",
    "d = dd(list)\n",
    "for i in range(n):\n",
    "    for j in range(m):\n",
    "        d[li[i][j]].append((i, j))\n",
    "    \n",
    "dp = [[[0] * len(s) for _ in range(m)] for _ in range(n)]\n",
    "for i, j in d[s[0]]:\n",
    "    dp[i][j][0] = 1\n",
    "    \n",
    "for si in range(1, len(s)):\n",
    "    for i, j in d[s[si]]:\n",
    "        sv = 0\n",
    "        for ni in range(i - 1, i - k - 1, -1):\n",
    "            if ni < 0:\n",
    "                break\n",
    "            if li[ni][j] == s[si - 1]:\n",
    "                sv += dp[ni][j][si - 1]\n",
    "            \n",
    "        for ni in range(i + 1, i + k + 1):\n",
    "            if ni >= n:\n",
    "                break\n",
    "                \n",
    "            if li[ni][j] == s[si - 1]:\n",
    "                sv += dp[ni][j][si - 1]\n",
    "        \n",
    "        for nj in range(j - 1, j - k - 1, -1):\n",
    "            if nj < 0:\n",
    "                break\n",
    "                \n",
    "            if li[i][nj] == s[si - 1]:\n",
    "                sv += dp[i][nj][si - 1]\n",
    "            \n",
    "        for nj in range(j + 1, j + k + 1):\n",
    "            if nj >= m:\n",
    "                break\n",
    "                \n",
    "            if li[i][nj] == s[si - 1]:\n",
    "                sv += dp[i][nj][si - 1]\n",
    "            \n",
    "        dp[i][j][si] = sv\n",
    "        \n",
    "total = 0\n",
    "for i in range(n):\n",
    "    for j in range(m):\n",
    "        total += dp[i][j][-1]\n",
    "        \n",
    "print(total)"
   ]
  },
  {
   "cell_type": "markdown",
   "metadata": {},
   "source": [
    "### 선물 전달 1947"
   ]
  },
  {
   "cell_type": "code",
   "execution_count": 35,
   "metadata": {},
   "outputs": [
    {
     "name": "stdout",
     "output_type": "stream",
     "text": [
      "3\n",
      "2\n"
     ]
    }
   ],
   "source": [
    "mod = 1000000000\n",
    "\n",
    "n = int(input())\n",
    "\n",
    "if n == 1:\n",
    "    print(0)\n",
    "else:\n",
    "    w = 1\n",
    "    if n % 2 == 1:\n",
    "        w = -1\n",
    "\n",
    "    cur = 1\n",
    "    cumul = 1 * w\n",
    "    if w == 1:\n",
    "        w = -1\n",
    "    else:\n",
    "        w = 1\n",
    "    for num in range(n, 2, -1):\n",
    "        cur *= num\n",
    "        cur %= mod\n",
    "\n",
    "        cumul += w * cur\n",
    "        cumul %= mod\n",
    "\n",
    "        if w == 1:\n",
    "            w = -1\n",
    "        else:\n",
    "            w = 1\n",
    "\n",
    "    print(cumul)"
   ]
  },
  {
   "cell_type": "code",
   "execution_count": 40,
   "metadata": {},
   "outputs": [
    {
     "name": "stdout",
     "output_type": "stream",
     "text": [
      "5\n",
      "44\n"
     ]
    }
   ],
   "source": [
    "mod = 1000000000\n",
    "\n",
    "dp = [0] * 1000001\n",
    "dp[:4] = [1, 0, 1, 2]\n",
    "for i in range(4, 1000001):\n",
    "    dp[i] = (dp[i - 2] + dp[i - 1]) * (i - 1) % mod\n",
    "    \n",
    "n = int(input())\n",
    "\n",
    "print(dp[n])"
   ]
  },
  {
   "cell_type": "markdown",
   "metadata": {},
   "source": [
    "### 방 번호 1082"
   ]
  },
  {
   "cell_type": "code",
   "execution_count": 60,
   "metadata": {},
   "outputs": [
    {
     "name": "stdout",
     "output_type": "stream",
     "text": [
      "10\n",
      "1 1 1 1 1 1 1 1 1 1\n",
      "50\n",
      "99999999999999999999999999999999999999999999999999\n"
     ]
    }
   ],
   "source": [
    "def to_num(s):\n",
    "    li = sorted(s, reverse=True)\n",
    "    ns = str(init) + ''.join(li)\n",
    "    return int(ns)\n",
    "\n",
    "n = int(input())\n",
    "price = list(map(int, input().split()))\n",
    "m = int(input())\n",
    "\n",
    "d = dict()\n",
    "for num in range(n):\n",
    "    if price[num] > m:\n",
    "        continue\n",
    "    if price[num] in d:\n",
    "        d[price[num]] = max(d[price[num]], num)\n",
    "    else:\n",
    "        d[price[num]] = num\n",
    "    \n",
    "max_r = 0\n",
    "for p in d:\n",
    "    init = d[p]\n",
    "    if init == 0:\n",
    "        continue\n",
    "    mm = m\n",
    "    mm -= p\n",
    "    \n",
    "    dp = [''] * (mm + 1)\n",
    "    for mi in range(1, mm + 1):\n",
    "        dp[mi] = dp[mi - 1]\n",
    "        for p in d:\n",
    "            if mi - p < 0:\n",
    "                continue\n",
    "            \n",
    "            temp = dp[mi - p] + str(d[p])\n",
    "            if to_num(temp) > to_num(dp[mi]):\n",
    "                dp[mi] = temp\n",
    "                \n",
    "    max_r = max(max_r, to_num(dp[-1]))\n",
    "    \n",
    "print(max_r)"
   ]
  },
  {
   "cell_type": "markdown",
   "metadata": {},
   "source": [
    "### 이진수 찾기 2248"
   ]
  },
  {
   "cell_type": "code",
   "execution_count": 22,
   "metadata": {},
   "outputs": [
    {
     "name": "stdout",
     "output_type": "stream",
     "text": [
      "3 2 1\n",
      "000\n"
     ]
    }
   ],
   "source": [
    "def nCr(n, r):\n",
    "    if n - r < r:\n",
    "        r = n - r\n",
    "        \n",
    "    num = 1\n",
    "    for i in range(n, n - r, -1):\n",
    "        num *= i\n",
    "    \n",
    "    denom = 1\n",
    "    for i in range(2, r + 1):\n",
    "        denom *= i\n",
    "        \n",
    "    return num // denom\n",
    "\n",
    "n, k, q = map(int, input().split())\n",
    "\n",
    "r = [0] * n\n",
    "for i in range(n):\n",
    "    cur_n = n - i - 1\n",
    "    c = 0\n",
    "    for used_1 in range(k + 1):\n",
    "        if cur_n >= used_1:\n",
    "            c += nCr(cur_n, used_1)\n",
    "        \n",
    "    if q == c:\n",
    "        for j in range(i + 1, n):\n",
    "            if k:\n",
    "                r[j] = 1\n",
    "                k -= 1\n",
    "            else:\n",
    "                r[j] = 0\n",
    "        break\n",
    "    elif q > c:\n",
    "        r[i] = 1\n",
    "        k -= 1\n",
    "        q -= c\n",
    "        \n",
    "r = ''.join(map(str, r))\n",
    "\n",
    "print(r)"
   ]
  },
  {
   "cell_type": "markdown",
   "metadata": {},
   "source": [
    "### 좋은 수 5624"
   ]
  },
  {
   "cell_type": "code",
   "execution_count": 27,
   "metadata": {},
   "outputs": [
    {
     "name": "stdout",
     "output_type": "stream",
     "text": [
      "3\n",
      "-1 2 0\n",
      "1\n"
     ]
    }
   ],
   "source": [
    "n = int(input())\n",
    "li = list(map(int, input().split()))\n",
    "\n",
    "st = set()\n",
    "total = 0\n",
    "for i in range(n):\n",
    "    for j in range(i):\n",
    "        to_find = li[i] - li[j]\n",
    "        if to_find in st:\n",
    "            total += 1\n",
    "            break\n",
    "    \n",
    "    for j in range(i, -1, -1):\n",
    "        st.add(li[i] + li[j])\n",
    "        \n",
    "print(total)"
   ]
  },
  {
   "cell_type": "markdown",
   "metadata": {},
   "source": [
    "### Acka 12996"
   ]
  },
  {
   "cell_type": "code",
   "execution_count": 79,
   "metadata": {},
   "outputs": [
    {
     "name": "stdout",
     "output_type": "stream",
     "text": [
      "3 2 1 1\n",
      "15\n"
     ]
    }
   ],
   "source": [
    "from itertools import combinations as comb\n",
    "\n",
    "n, a, b, c = map(int, input().split())\n",
    "\n",
    "total = 0\n",
    "for c1 in comb(range(n), a):\n",
    "    for c2 in comb(range(n), b):\n",
    "        for c3 in comb(range(n), c):\n",
    "            used = set()\n",
    "            for v in c1:\n",
    "                used.add(v)\n",
    "            for v in c2:\n",
    "                used.add(v)\n",
    "            for v in c3:\n",
    "                used.add(v)\n",
    "                \n",
    "            if set(range(n)) == used:\n",
    "                total += 1\n",
    "                \n",
    "print(total)"
   ]
  },
  {
   "cell_type": "code",
   "execution_count": 86,
   "metadata": {},
   "outputs": [
    {
     "name": "stdout",
     "output_type": "stream",
     "text": [
      "50 10 10 10\n",
      "0\n"
     ]
    }
   ],
   "source": [
    "mod = 1000000007\n",
    "\n",
    "def recur(nn, aa, bb, cc):\n",
    "    if dp[nn][aa][bb][cc] != -1:\n",
    "        return dp[nn][aa][bb][cc]\n",
    "    \n",
    "    temp = 0\n",
    "    if nn < n:\n",
    "        if aa < a:\n",
    "            temp += recur(nn + 1, aa + 1, bb, cc)\n",
    "        if bb < b:\n",
    "            temp += recur(nn + 1, aa, bb + 1, cc)\n",
    "        if cc < c:\n",
    "            temp += recur(nn + 1, aa, bb, cc + 1)\n",
    "        if aa < a and bb < b:\n",
    "            temp += recur(nn + 1, aa + 1, bb + 1, cc)\n",
    "        if aa < a and cc < c:\n",
    "            temp += recur(nn + 1, aa + 1, bb, cc + 1)\n",
    "        if bb < b and cc < c:\n",
    "            temp += recur(nn + 1, aa, bb + 1, cc + 1)\n",
    "        if aa < a and bb < b and cc < c:\n",
    "            temp += recur(nn + 1, aa + 1, bb + 1, cc + 1)\n",
    "\n",
    "    temp %= mod\n",
    "    dp[nn][aa][bb][cc] = temp\n",
    "    return temp\n",
    "            \n",
    "n, a, b, c = map(int, input().split())\n",
    "\n",
    "dp = [[[[-1] * (c + 1) for _ in range(b + 1)] for _ in range(a + 1)] for _ in range(n + 1)]\n",
    "dp[n][a][b][c] = 1\n",
    "\n",
    "recur(0, 0, 0, 0)\n",
    "\n",
    "print(dp[0][0][0][0])"
   ]
  },
  {
   "cell_type": "markdown",
   "metadata": {},
   "source": [
    "### 최소 편집 15483"
   ]
  },
  {
   "cell_type": "code",
   "execution_count": 27,
   "metadata": {},
   "outputs": [
    {
     "name": "stdout",
     "output_type": "stream",
     "text": [
      "aa\n",
      "bbbbaab\n",
      "5\n"
     ]
    }
   ],
   "source": [
    "import sys\n",
    "sys.setrecursionlimit(10000)\n",
    "\n",
    "inf = float('inf')\n",
    "\n",
    "def recur(ai, bi):\n",
    "    if dp[ai][bi] != -1:\n",
    "        return dp[ai][bi]\n",
    "    \n",
    "    min_temp = inf\n",
    "    if ai - 1 >= 0:\n",
    "        min_temp = min(min_temp, recur(ai - 1, bi) + 1)\n",
    "    if bi - 1 >= 0:\n",
    "        min_temp = min(min_temp , recur(ai, bi - 1) + 1)\n",
    "    if ai - 1 >= 0 and bi - 1 >= 0:\n",
    "        temp = recur(ai - 1, bi - 1)\n",
    "        if a[ai - 1] != b[bi - 1]:\n",
    "            temp += 1\n",
    "        min_temp = min(min_temp, temp)\n",
    "        \n",
    "    dp[ai][bi] = min_temp\n",
    "    return min_temp\n",
    "\n",
    "a = input()\n",
    "b = input()\n",
    "\n",
    "alen = len(a)\n",
    "blen = len(b)\n",
    "\n",
    "dp = [[-1] * (blen + 1) for _ in range(alen + 1)]\n",
    "dp[0][0] = 0\n",
    "r = recur(alen, blen)\n",
    "\n",
    "print(r)"
   ]
  },
  {
   "cell_type": "code",
   "execution_count": 10,
   "metadata": {},
   "outputs": [
    {
     "name": "stdout",
     "output_type": "stream",
     "text": [
      "asdf\n",
      "asdf\n",
      "0\n"
     ]
    }
   ],
   "source": [
    "a = input()\n",
    "b = input()\n",
    "\n",
    "alen = len(a)\n",
    "blen = len(b)\n",
    "\n",
    "dp = [[0] * (blen + 1) for _ in range(alen + 1)]\n",
    "for i in range(alen + 1):\n",
    "    dp[i][0] = i\n",
    "for i in range(blen + 1):\n",
    "    dp[0][i] = i\n",
    "    \n",
    "for ai in range(1, alen + 1):\n",
    "    for bi in range(1, blen + 1):\n",
    "        if a[ai - 1] == b[bi - 1]:\n",
    "            dp[ai][bi] = dp[ai - 1][bi - 1]\n",
    "        else:\n",
    "            dp[ai][bi] = min(dp[ai - 1][bi - 1], dp[ai - 1][bi], dp[ai][bi - 1]) + 1\n",
    "            \n",
    "print(dp[-1][-1])"
   ]
  },
  {
   "cell_type": "markdown",
   "metadata": {},
   "source": [
    "### 기지국 2300"
   ]
  },
  {
   "cell_type": "code",
   "execution_count": 31,
   "metadata": {},
   "outputs": [
    {
     "name": "stdout",
     "output_type": "stream",
     "text": [
      "7\n",
      "-2 -1\n",
      "-4 -1\n",
      "0 2\n",
      "3 1\n",
      "5 1\n",
      "1 -1\n",
      "8 -1\n",
      "9\n"
     ]
    }
   ],
   "source": [
    "from collections import defaultdict as dd\n",
    "\n",
    "n = int(input())\n",
    "d = dd(int)\n",
    "for _ in range(n):\n",
    "    x, y = map(int, input().split())\n",
    "    \n",
    "    y = abs(y)\n",
    "    d[x] = max(d[x], y)\n",
    "    \n",
    "li = []\n",
    "for v in sorted(d):\n",
    "    li.append((v, d[v]))\n",
    "    \n",
    "n = len(li)\n",
    "dp = [-1] * (n + 1)\n",
    "dp[0] = 0\n",
    "for i in range(n):\n",
    "    dp[i + 1] = dp[i] + li[i][1] * 2\n",
    "    \n",
    "    cur_max_h = li[i][1]\n",
    "    for j in range(i - 1, -1, -1):\n",
    "        cur_max_h = max(cur_max_h, li[j][1])\n",
    "        temp = dp[j]\n",
    "        temp += max(cur_max_h * 2, li[i][0] - li[j][0])\n",
    "        dp[i + 1] = min(dp[i + 1], temp)\n",
    "        \n",
    "print(dp[-1])"
   ]
  },
  {
   "cell_type": "markdown",
   "metadata": {},
   "source": [
    "### 나누기 21757"
   ]
  },
  {
   "cell_type": "code",
   "execution_count": 37,
   "metadata": {},
   "outputs": [
    {
     "data": {
      "text/plain": [
       "3"
      ]
     },
     "execution_count": 37,
     "metadata": {},
     "output_type": "execute_result"
    }
   ],
   "source": [
    "li = [4, -1, 2, 1, -3, 1, 2, 2, 1, 3]\n",
    "sum(li) // 4"
   ]
  },
  {
   "cell_type": "code",
   "execution_count": null,
   "metadata": {},
   "outputs": [],
   "source": [
    "      4     -1    2    1    -3    1    2   2    1    3      3으로 맞춰야함\n",
    "\n",
    "1    4,0   3,1   5,1  6,1   3,2   4,2  6,2 8,2  9,2  12,2  \n",
    "2                2,0  3,1   0,1   1,1  3,2 5,2  6,2  9,2\n",
    "                                  1,1  3,2 5,2  6,2  9,2\n",
    "3\n",
    "4"
   ]
  },
  {
   "cell_type": "code",
   "execution_count": null,
   "metadata": {},
   "outputs": [],
   "source": [
    "1 -1 1 -1 1 -1 1 -1 1 -1 1 -"
   ]
  },
  {
   "cell_type": "code",
   "execution_count": null,
   "metadata": {},
   "outputs": [],
   "source": [
    "0011000111101000100110001111111111101101"
   ]
  },
  {
   "cell_type": "code",
   "execution_count": 46,
   "metadata": {},
   "outputs": [
    {
     "name": "stdout",
     "output_type": "stream",
     "text": [
      "5\n",
      "0 0 0 0 0\n",
      "4\n"
     ]
    }
   ],
   "source": [
    "n = int(input())\n",
    "li = list(map(int, input().split()))\n",
    "\n",
    "sv = sum(li)\n",
    "cri1 = sv // 4\n",
    "cri2 = cri1 * 2\n",
    "cri3 = cri1 * 3\n",
    "\n",
    "sli = [0] * n\n",
    "cumul = 0\n",
    "for i in range(n):\n",
    "    cumul += li[i]\n",
    "    sli[i] = cumul\n",
    "    \n",
    "cur1 = 0\n",
    "cur2 = 0\n",
    "cur3 = 0\n",
    "for i in range(n - 1):\n",
    "    if sli[i] == cri3:\n",
    "        cur3 += cur2\n",
    "    if sli[i] == cri2:\n",
    "        cur2 += cur1\n",
    "    if sli[i] == cri1:\n",
    "        cur1 += 1\n",
    "        \n",
    "print(cur3)"
   ]
  },
  {
   "cell_type": "markdown",
   "metadata": {},
   "source": [
    "### 이친수 찾기 2201"
   ]
  },
  {
   "cell_type": "code",
   "execution_count": null,
   "metadata": {},
   "outputs": [],
   "source": [
    "0   x\n",
    "1\n",
    "10\n",
    "100\n",
    "101\n",
    "1000\n",
    "1001\n",
    "1010\n",
    "10000\n",
    "10001\n",
    "10010\n",
    "10100\n",
    "10101\n",
    "100000\n",
    "100001\n",
    "100010\n",
    "100100\n",
    "100101"
   ]
  },
  {
   "cell_type": "code",
   "execution_count": null,
   "metadata": {},
   "outputs": [],
   "source": [
    "[[2, 2], [1, 3], [2, 5], [3, 8]]"
   ]
  },
  {
   "cell_type": "code",
   "execution_count": 160,
   "metadata": {},
   "outputs": [
    {
     "name": "stdout",
     "output_type": "stream",
     "text": [
      "10000000000\n",
      "100100010100001010101000100001010010000100100101\n"
     ]
    }
   ],
   "source": [
    "from bisect import bisect_left\n",
    "\n",
    "cri = 1000000000000000000\n",
    "dp = [[2, 2], [1, 3]]\n",
    "while True:\n",
    "    na = dp[-2][1]\n",
    "    nb = dp[-1][-1] + na\n",
    "    \n",
    "    dp.append([na, nb])\n",
    "    if na > cri:\n",
    "        break\n",
    "        \n",
    "sdp = []\n",
    "cumul = 0\n",
    "for i in range(len(dp)):\n",
    "    cumul += dp[i][0]\n",
    "    sdp.append(cumul)\n",
    "\n",
    "k = int(input())\n",
    "    \n",
    "k += 1\n",
    "init = bisect_left(sdp, k)\n",
    "r = [0] * (init + 1)\n",
    "r[-1] = 1\n",
    "\n",
    "cur = init\n",
    "while cur >= 2:\n",
    "    k -= sdp[cur - 1]\n",
    "    cur = bisect_left(sdp, k)\n",
    "    \n",
    "    if cur == 0:\n",
    "        if k == 2:\n",
    "            r[0] = 1\n",
    "        break\n",
    "    else:\n",
    "        r[cur] = 1\n",
    "\n",
    "r.reverse()\n",
    "r = ''.join(map(str, r))\n",
    "\n",
    "print(r)"
   ]
  },
  {
   "cell_type": "code",
   "execution_count": 114,
   "metadata": {},
   "outputs": [
    {
     "data": {
      "text/plain": [
       "[2, 3, 5, 8, 13, 21, 34, 55, 89, 144, 233, 377]"
      ]
     },
     "execution_count": 114,
     "metadata": {},
     "output_type": "execute_result"
    }
   ],
   "source": [
    "sdp"
   ]
  },
  {
   "cell_type": "markdown",
   "metadata": {},
   "source": [
    "### 서로 다른 소수의 합 3908"
   ]
  },
  {
   "cell_type": "code",
   "execution_count": 165,
   "metadata": {},
   "outputs": [
    {
     "name": "stdout",
     "output_type": "stream",
     "text": [
      "2079324314\n"
     ]
    }
   ],
   "source": [
    "import sys\n",
    "input = lambda: sys.stdin.readline().rstrip()\n",
    "\n",
    "max_num = 1120\n",
    "ip = [True] * (max_num + 1)\n",
    "ip[0] = ip[1] = False\n",
    "for mod in range(2, int(max_num ** 0.5) + 1):\n",
    "    if ip[mod]:\n",
    "        for v in range(mod * mod, max_num + 1, mod):\n",
    "            ip[v] = False\n",
    "            \n",
    "primes = [i for i, v in enumerate(ip) if v]\n",
    "\n",
    "dp = [[0] * (15) for _ in range(1121)]\n",
    "dp[0][0] = 1\n",
    "\n",
    "for p in primes:\n",
    "    for i in range(1120, p - 1, -1):\n",
    "        fi = i - p\n",
    "        for j in range(14, 0, -1):\n",
    "            fj = j - 1\n",
    "            dp[i][j] += dp[fi][fj]\n",
    "            \n",
    "for _ in range(int(input())):\n",
    "    n, k = map(int, input().split())\n",
    "    \n",
    "    print(dp[n][k])"
   ]
  },
  {
   "cell_type": "markdown",
   "metadata": {},
   "source": [
    "### 문자열과 점수 2216"
   ]
  },
  {
   "cell_type": "code",
   "execution_count": 181,
   "metadata": {},
   "outputs": [
    {
     "name": "stdout",
     "output_type": "stream",
     "text": [
      "10 -1 -5\n",
      "abc\n",
      "dc\n",
      "3 2\n",
      "2 1\n",
      "1 0\n",
      "1 1\n",
      "0 1\n",
      "2 0\n",
      "2 2\n",
      "1 2\n",
      "0 2\n",
      "3 1\n",
      "3 0\n",
      "7\n"
     ]
    }
   ],
   "source": [
    "import sys\n",
    "sys.setrecursionlimit(8000)\n",
    "\n",
    "inf = float('inf')\n",
    "\n",
    "def recur(xi, yi):\n",
    "    if dp[xi][yi] != -inf:\n",
    "        return dp[xi][yi]\n",
    "    \n",
    "    max_temp = -inf\n",
    "    if xi >= 1 and yi >= 1:\n",
    "        temp = dp[xi - 1][yi - 1]\n",
    "        if temp == -inf:\n",
    "            temp = recur(xi - 1, yi - 1)\n",
    "        if x[xi - 1] == y[yi - 1]:\n",
    "            temp += a\n",
    "            return temp\n",
    "        else:\n",
    "            temp += c\n",
    "        max_temp = max(max_temp, temp)\n",
    "        \n",
    "    if xi >= 1:\n",
    "        temp = dp[xi - 1][yi]\n",
    "        if temp == -inf:\n",
    "            temp = recur(xi - 1, yi)\n",
    "        max_temp = max(max_temp, temp + b)\n",
    "    \n",
    "    if yi >= 1:\n",
    "        temp = dp[xi][yi - 1]\n",
    "        if temp == -inf:\n",
    "            temp = recur(xi, yi - 1)\n",
    "        max_temp = max(max_temp, temp + b)\n",
    "        \n",
    "    dp[xi][yi] = max_temp\n",
    "    return max_temp\n",
    "        \n",
    "a, b, c = map(int, input().split())\n",
    "x = input()\n",
    "y = input()\n",
    "\n",
    "xlen = len(x)\n",
    "ylen = len(y)\n",
    "dp = [[-inf] * (ylen + 1) for _ in range(xlen + 1)]\n",
    "dp[0][0] = 0\n",
    "\n",
    "r = recur(xlen, ylen)\n",
    "\n",
    "print(r)"
   ]
  },
  {
   "cell_type": "code",
   "execution_count": 184,
   "metadata": {},
   "outputs": [
    {
     "name": "stdout",
     "output_type": "stream",
     "text": [
      "10 -1 -5\n",
      "abc\n",
      "dc\n",
      "7\n"
     ]
    }
   ],
   "source": [
    "a, b, c = map(int, input().split())\n",
    "x = input()\n",
    "y = input()\n",
    "\n",
    "xlen = len(x)\n",
    "ylen = len(y)\n",
    "\n",
    "dp = [[0] * (ylen + 1) for _ in range(xlen + 1)]\n",
    "\n",
    "for i in range(xlen + 1):\n",
    "    dp[i][0] = b * i\n",
    "for i in range(ylen + 1):\n",
    "    dp[0][i] = b * i\n",
    "    \n",
    "for xi in range(1, xlen + 1):\n",
    "    for yi in range(1, ylen + 1):\n",
    "        if x[xi - 1] == y[yi - 1]:\n",
    "            dp[xi][yi] = dp[xi - 1][yi - 1] + a\n",
    "        else:\n",
    "            dp[xi][yi] = max(dp[xi - 1][yi - 1] + c, dp[xi][yi - 1] + b, dp[xi - 1][yi] + b)\n",
    "            \n",
    "print(dp[-1][-1])"
   ]
  },
  {
   "cell_type": "markdown",
   "metadata": {},
   "source": [
    "### 팰린드롬 개수 구하기 (Small) 14505"
   ]
  },
  {
   "cell_type": "code",
   "execution_count": null,
   "metadata": {},
   "outputs": [],
   "source": [
    "s = input()\n",
    "n = len(s)\n",
    "\n",
    "dp = [[0] * n for _ in range(n)]\n",
    "for i in range(n):\n",
    "    dp[i][i] = 1\n",
    "    \n",
    "for i in range(n - 1):\n",
    "    temp = 2\n",
    "    if s[i] == s[i + 1]:\n",
    "        temp += 1\n",
    "    \n",
    "    dp[i][i + 1] = temp\n",
    "    \n",
    "for term in range(2, n):\n",
    "    for start in range(n - term):\n",
    "        end = start + term\n",
    "        \n",
    "        t1 = dp[start][end - 1]\n",
    "        t2 = dp[start + 1][end]\n",
    "        t3 = dp[start + 1][end - 1]\n",
    "        \n",
    "        temp = t1 + t2\n",
    "        if s[start] != s[end]:\n",
    "            temp -= t3\n",
    "        else:\n",
    "            temp += 1\n",
    "            \n",
    "        dp[start][end] = temp\n",
    "        \n",
    "print(dp[0][n - 1])"
   ]
  },
  {
   "cell_type": "markdown",
   "metadata": {},
   "source": [
    "### 서로소의 개수 1750"
   ]
  },
  {
   "cell_type": "code",
   "execution_count": null,
   "metadata": {},
   "outputs": [],
   "source": [
    "from math import gcd\n",
    "\n",
    "mod = 10000003\n",
    "\n",
    "n = int(input())\n",
    "li = [int(input()) for _ in range(n)]\n",
    "\n",
    "dp = [[0] * 100001]\n",
    "dp[0][li[0]] = 1\n",
    "for i in range(1, n):\n",
    "    num = li[i]\n",
    "    dp.append(dp[-1].copy())\n",
    "    for fnum in range(1, 100001):\n",
    "        g = gcd(fnum, num)\n",
    "        \n",
    "        dp[i][g] += dp[i - 1][fnum]\n",
    "        dp[i][g] %= mod\n",
    "        \n",
    "    dp[i][num] += 1\n",
    "        \n",
    "r = dp[n - 1][1]\n",
    "\n",
    "print(r)"
   ]
  },
  {
   "cell_type": "markdown",
   "metadata": {},
   "source": [
    "### 보드게임 2572"
   ]
  },
  {
   "cell_type": "code",
   "execution_count": null,
   "metadata": {},
   "outputs": [],
   "source": [
    "import sys\n",
    "input = lambda: sys.stdin.readline().rstrip()\n",
    "\n",
    "inf = float('inf')\n",
    "\n",
    "n = int(input())\n",
    "cards = input().split()\n",
    "m, k = map(int, input().split())\n",
    "\n",
    "li = [[] for _ in range(m + 1)]\n",
    "for _ in range(k):\n",
    "    a, b, c = input().split()\n",
    "    a = int(a)\n",
    "    b = int(b)\n",
    "\n",
    "    li[a].append((b, c))\n",
    "    li[b].append((a, c))\n",
    "\n",
    "dp = [[-inf] * (m + 1) for _ in range(n + 1)]\n",
    "dp[0][1] = 0\n",
    "\n",
    "for i in range(n):\n",
    "    color = cards[i]\n",
    "\n",
    "    for num in range(1, m + 1):\n",
    "        for fnum, c in li[num]:\n",
    "            temp = dp[i][fnum]\n",
    "\n",
    "            if c == color:\n",
    "                temp += 10        \n",
    "            dp[i + 1][num] = max(dp[i + 1][num], temp)\n",
    "\n",
    "r = max(0, max(dp[n]))\n",
    "\n",
    "print(r)"
   ]
  },
  {
   "cell_type": "markdown",
   "metadata": {},
   "source": [
    "### 미팅의 저주 17268"
   ]
  },
  {
   "cell_type": "code",
   "execution_count": null,
   "metadata": {},
   "outputs": [],
   "source": [
    "mod = 987654321\n",
    "\n",
    "dp = [0] * 5001\n",
    "dp[0] = 1\n",
    "dp[1] = 1\n",
    "dp[2] = 2\n",
    "\n",
    "for i in range(3, 5001):\n",
    "    temp = 0\n",
    "    sv = i - 1\n",
    "    for a in range(i):\n",
    "        b = sv - a\n",
    "        temp += dp[a] * dp[b]\n",
    "        temp %= mod\n",
    "        \n",
    "    dp[i] = temp % mod\n",
    "        \n",
    "n = int(input())\n",
    "n //= 2\n",
    "\n",
    "print(dp[n])"
   ]
  },
  {
   "cell_type": "markdown",
   "metadata": {},
   "source": [
    "### Balance 14556"
   ]
  },
  {
   "cell_type": "code",
   "execution_count": null,
   "metadata": {},
   "outputs": [],
   "source": [
    "3.\n",
    "\n",
    "1 2 3\n",
    "-\n",
    "\n",
    "1 3 2\n",
    "-\n",
    "    2\n",
    "1 3 \n",
    "-\n",
    " 1\n",
    "2  3\n",
    "-\n",
    "  \n",
    "2 1 3\n",
    "-\n",
    "\n",
    "2 3 1\n",
    "-\n",
    "    1\n",
    "2 3\n",
    "-\n",
    "\n",
    "3 1 2\n",
    "-\n",
    "  1\n",
    "3   2\n",
    "-\n",
    "  1 2\n",
    "3\n",
    "_\n",
    "    2\n",
    "3 1\n",
    "-\n",
    "\n",
    "3 2 1\n",
    "-\n",
    "    1\n",
    "3 2 \n",
    "-\n",
    "  2\n",
    "3   1\n",
    "-\n",
    "  2 1\n",
    "3 "
   ]
  },
  {
   "cell_type": "code",
   "execution_count": 1,
   "metadata": {},
   "outputs": [
    {
     "data": {
      "text/plain": [
       "5"
      ]
     },
     "execution_count": 1,
     "metadata": {},
     "output_type": "execute_result"
    }
   ],
   "source": [
    "3\n",
    "2 ** 2\n",
    "1 ** 2 + 2 ** 2"
   ]
  },
  {
   "cell_type": "code",
   "execution_count": null,
   "metadata": {},
   "outputs": [],
   "source": [
    "2.\n",
    "\n",
    "1 2\n",
    "-\n",
    "  1\n",
    "2 \n",
    "-\n",
    "  \n",
    "2 1"
   ]
  },
  {
   "cell_type": "markdown",
   "metadata": {},
   "source": [
    "앞을 고정시키는 것이 아닌 뒷 숫자를 고정시키면 쉬워짐"
   ]
  },
  {
   "cell_type": "code",
   "execution_count": null,
   "metadata": {},
   "outputs": [],
   "source": [
    "3.\n",
    "\n",
    "2,3  1\n",
    "\n",
    "     1\n",
    "2,3\n",
    "\n",
    "1,3  2\n",
    "\n",
    "     2\n",
    "1,3\n",
    "\n",
    "1,2  3"
   ]
  },
  {
   "cell_type": "code",
   "execution_count": 14,
   "metadata": {},
   "outputs": [
    {
     "name": "stdout",
     "output_type": "stream",
     "text": [
      "3\n",
      "15\n"
     ]
    }
   ],
   "source": [
    "mod = 1000000009\n",
    "\n",
    "dp = [0, 1, 3]\n",
    "for i in range(3, 50001):\n",
    "    temp = dp[-1] * 2 * (i - 1) + dp[-1]\n",
    "    temp %= mod\n",
    "    dp.append(temp)\n",
    "    \n",
    "n = int(input())\n",
    "    \n",
    "print(dp[n])"
   ]
  },
  {
   "cell_type": "markdown",
   "metadata": {},
   "source": [
    "### Messi Gimossi 17297"
   ]
  },
  {
   "cell_type": "code",
   "execution_count": 49,
   "metadata": {},
   "outputs": [],
   "source": [
    "dp = ['', 'Messi', 'Messi Gimossi']\n",
    "\n",
    "for _ in range(5):\n",
    "    dp.append(dp[-1] + ' ' + dp[-2])"
   ]
  },
  {
   "cell_type": "code",
   "execution_count": 50,
   "metadata": {},
   "outputs": [
    {
     "data": {
      "text/plain": [
       "['',\n",
       " 'Messi',\n",
       " 'Messi Gimossi',\n",
       " 'Messi Gimossi Messi',\n",
       " 'Messi Gimossi Messi Messi Gimossi',\n",
       " 'Messi Gimossi Messi Messi Gimossi Messi Gimossi Messi',\n",
       " 'Messi Gimossi Messi Messi Gimossi Messi Gimossi Messi Messi Gimossi Messi Messi Gimossi',\n",
       " 'Messi Gimossi Messi Messi Gimossi Messi Gimossi Messi Messi Gimossi Messi Messi Gimossi Messi Gimossi Messi Messi Gimossi Messi Gimossi Messi']"
      ]
     },
     "execution_count": 50,
     "metadata": {},
     "output_type": "execute_result"
    }
   ],
   "source": [
    "dp"
   ]
  },
  {
   "cell_type": "code",
   "execution_count": 22,
   "metadata": {},
   "outputs": [],
   "source": [
    "ndp = [0, 5, 13]\n",
    "cri = 2 ** 30 - 1\n",
    "while True:\n",
    "    temp = ndp[-1] + ndp[-2] + 1\n",
    "    if temp > cri:\n",
    "        break\n",
    "        \n",
    "    ndp.append(temp)"
   ]
  },
  {
   "cell_type": "code",
   "execution_count": 29,
   "metadata": {},
   "outputs": [
    {
     "data": {
      "text/plain": [
       "[0, 5, 13, 19, 33, 53, 87, 141, 229, 371]"
      ]
     },
     "execution_count": 29,
     "metadata": {},
     "output_type": "execute_result"
    }
   ],
   "source": [
    "ndp[:10]"
   ]
  },
  {
   "cell_type": "code",
   "execution_count": 42,
   "metadata": {},
   "outputs": [],
   "source": [
    "from bisect import bisect_left\n",
    "\n",
    "m = 15\n",
    "\n",
    "index = bisect_left(ndp, m)"
   ]
  },
  {
   "cell_type": "code",
   "execution_count": 65,
   "metadata": {},
   "outputs": [
    {
     "name": "stdout",
     "output_type": "stream",
     "text": [
      "Messi Gimossi Messi Messi Gimossi Messi Gimossi Messi Messi Gimossi Messi Messi Gimossi Messi Gimos\n"
     ]
    }
   ],
   "source": [
    "r = []\n",
    "for m in range(1, 100):\n",
    "    while True:\n",
    "        index = bisect_left(ndp, m)\n",
    "\n",
    "        if index >= 3:\n",
    "            m -= ndp[index - 1]\n",
    "\n",
    "            if m == 1:\n",
    "                r.append(' ')\n",
    "                break\n",
    "            m -= 1\n",
    "        else:\n",
    "            r.append(origin[m - 1])\n",
    "            break\n",
    "            \n",
    "print(''.join(r))"
   ]
  },
  {
   "cell_type": "code",
   "execution_count": 64,
   "metadata": {},
   "outputs": [
    {
     "name": "stdout",
     "output_type": "stream",
     "text": [
      "2\n",
      "e\n"
     ]
    }
   ],
   "source": [
    "from bisect import bisect_left\n",
    "\n",
    "dp = [0, 5, 13]\n",
    "cri = 2 ** 30 - 1\n",
    "while True:\n",
    "    temp = dp[-1] + dp[-2] + 1\n",
    "    if temp > cri:\n",
    "        break\n",
    "        \n",
    "    dp.append(temp)\n",
    "\n",
    "origin = 'Messi Gimossi'\n",
    "\n",
    "m = int(input())\n",
    "\n",
    "r = ''\n",
    "while True:\n",
    "    index = bisect_left(dp, m)\n",
    "\n",
    "    if index >= 3:\n",
    "        m -= dp[index - 1]\n",
    "\n",
    "        if m == 1:\n",
    "            r = ' '\n",
    "            break\n",
    "        m -= 1\n",
    "    else:\n",
    "        r = origin[m - 1]\n",
    "        break\n",
    "        \n",
    "if r == ' ':\n",
    "    print('Messi Messi Gimossi')\n",
    "else:\n",
    "    print(r)"
   ]
  },
  {
   "cell_type": "code",
   "execution_count": 70,
   "metadata": {},
   "outputs": [
    {
     "name": "stdout",
     "output_type": "stream",
     "text": [
      "3\n",
      "1 1\n",
      "2 1\n",
      "3 1\n",
      "1\n"
     ]
    }
   ],
   "source": [
    "import sys\n",
    "input = lambda: sys.stdin.readline().rstrip()\n",
    "\n",
    "for _ in range(3):\n",
    "    n = int(input())\n",
    "\n",
    "    total = 0\n",
    "    li = []\n",
    "    for _ in range(n):\n",
    "        value, count = map(int, input().split())\n",
    "        total += value * count\n",
    "        li.append((value, count))\n",
    "\n",
    "    if total % 2 != 0:\n",
    "        print(0)\n",
    "    else:\n",
    "        nn = total // 2\n",
    "        dp = [False] * (nn + 1)\n",
    "        dp[0] = True\n",
    "        for value, count in li:\n",
    "            vt = [False] * (nn + 1)\n",
    "            for i in range(nn + 1 - value):\n",
    "                if not dp[i]:\n",
    "                    continue\n",
    "                if vt[i]:\n",
    "                    continue\n",
    "                vt[i] = True\n",
    "\n",
    "                cur = i\n",
    "                used = 0\n",
    "                while True:\n",
    "                    if used < count:\n",
    "                        used += 1\n",
    "                        cur += value\n",
    "\n",
    "                        if cur > nn:\n",
    "                            break\n",
    "                        vt[cur] = True\n",
    "                        if not dp[cur]:\n",
    "                            dp[cur] = 1\n",
    "                        else:\n",
    "                            used = 0\n",
    "                    else:\n",
    "                        break\n",
    "\n",
    "        if dp[nn]:\n",
    "            print(1)\n",
    "        else:\n",
    "            print(0)"
   ]
  },
  {
   "cell_type": "code",
   "execution_count": null,
   "metadata": {},
   "outputs": [],
   "source": [
    "1 10\n",
    "2 4\n",
    "\n",
    "1 2 3 4 5 6 7 8 9 10\n",
    "2 4 6 8"
   ]
  },
  {
   "cell_type": "code",
   "execution_count": null,
   "metadata": {},
   "outputs": [],
   "source": [
    "[1, 0, 0, 1, 0, 0, 1, 0, 0, 0, 1, 0, 0, 0, 0, 0, 1, 0, 1, 1, 0, 0]"
   ]
  }
 ],
 "metadata": {
  "kernelspec": {
   "display_name": "Python 3",
   "language": "python",
   "name": "python3"
  },
  "language_info": {
   "codemirror_mode": {
    "name": "ipython",
    "version": 3
   },
   "file_extension": ".py",
   "mimetype": "text/x-python",
   "name": "python",
   "nbconvert_exporter": "python",
   "pygments_lexer": "ipython3",
   "version": "3.7.4"
  }
 },
 "nbformat": 4,
 "nbformat_minor": 4
}
