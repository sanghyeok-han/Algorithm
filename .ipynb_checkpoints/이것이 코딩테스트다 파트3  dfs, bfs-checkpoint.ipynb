{
 "cells": [
  {
   "cell_type": "markdown",
   "metadata": {},
   "source": [
    "### 특정 거리의 도시 찾기"
   ]
  },
  {
   "cell_type": "code",
   "execution_count": 4,
   "metadata": {},
   "outputs": [
    {
     "name": "stdout",
     "output_type": "stream",
     "text": [
      "4 4 2 1\n",
      "1 2\n",
      "1 3\n",
      "2 3\n",
      "2 4\n",
      "4\n"
     ]
    }
   ],
   "source": [
    "from collections import deque\n",
    "import sys\n",
    "# input = sys.stdin.readline\n",
    "\n",
    "n, m, k, x = map(int, input().rstrip().split())\n",
    "li = [[] for _ in range(n + 1)]\n",
    "for _ in range(m):\n",
    "    a, b = map(int, input().rstrip().split())\n",
    "    li[a].append(b)\n",
    "\n",
    "distances = [float('inf')] * (n + 1)\n",
    "distances[x] = 0\n",
    "\n",
    "queue = deque()\n",
    "queue.append(x)\n",
    "\n",
    "while queue:\n",
    "    value = queue.popleft()\n",
    "    for v in li[value]:\n",
    "        if distances[v] == float('inf'):\n",
    "            distances[v] = distances[value] + 1\n",
    "            queue.append(v)\n",
    "            \n",
    "result = [i for i, v in enumerate(distances) if v == k]\n",
    "result.sort()\n",
    "if not result:\n",
    "    print(-1)\n",
    "else:\n",
    "    print('\\n'.join(map(str, result)))"
   ]
  },
  {
   "cell_type": "markdown",
   "metadata": {},
   "source": [
    "### 연구소"
   ]
  },
  {
   "cell_type": "code",
   "execution_count": 24,
   "metadata": {},
   "outputs": [
    {
     "name": "stdout",
     "output_type": "stream",
     "text": [
      "4 6\n",
      "0 0 0 0 0 0\n",
      "1 0 0 0 0 2\n",
      "1 1 1 0 0 2\n",
      "0 0 0 0 0 2\n",
      "9\n"
     ]
    }
   ],
   "source": [
    "from itertools import combinations as comb\n",
    "from collections import deque\n",
    "from copy import deepcopy\n",
    "\n",
    "n, m = map(int, input().split())\n",
    "li = [list(map(int, input().split())) for _ in range(n)]\n",
    "\n",
    "dx = [0, 0, -1, 1]\n",
    "dy = [-1, 1, 0, 0]\n",
    "\n",
    "def bfs(virus):\n",
    "    queue = deque()\n",
    "    queue.append(virus)\n",
    "    while queue:\n",
    "        x, y = queue.popleft()\n",
    "        for i in range(4):\n",
    "            nx = x + dx[i]\n",
    "            ny = y + dy[i]\n",
    "            if nx < 0 or nx >= n or ny < 0 or ny >= m:\n",
    "                continue\n",
    "            if new_li[nx][ny] == 0:\n",
    "                new_li[nx][ny] = 2\n",
    "                queue.append((nx, ny))\n",
    "\n",
    "def get_safe_count(new_li):\n",
    "    new_li = sum(new_li, [])\n",
    "    return new_li.count(0)\n",
    "                \n",
    "empties = []\n",
    "viruses = []\n",
    "for i in range(n):\n",
    "    for j in range(m):\n",
    "        if li[i][j] == 0:\n",
    "            empties.append((i, j))\n",
    "        elif li[i][j] == 2:\n",
    "            viruses.append((i, j))\n",
    "            \n",
    "max_safe_count = 0\n",
    "cases = comb(empties, 3)\n",
    "for case in cases:\n",
    "    new_li = deepcopy(li)\n",
    "    for x, y in case:\n",
    "        new_li[x][y] = 1\n",
    "    for virus in viruses:\n",
    "        bfs(virus)\n",
    "    max_safe_count = max(max_safe_count, get_safe_count(new_li))\n",
    "        \n",
    "print(max_safe_count)"
   ]
  },
  {
   "cell_type": "markdown",
   "metadata": {},
   "source": [
    "### 경쟁적 전염"
   ]
  },
  {
   "cell_type": "code",
   "execution_count": 50,
   "metadata": {},
   "outputs": [
    {
     "name": "stdout",
     "output_type": "stream",
     "text": [
      "3 3\n",
      "1 0 2\n",
      "0 0 0\n",
      "3 0 0\n",
      "2 3 2\n",
      "3\n",
      "c 28\n"
     ]
    }
   ],
   "source": [
    "from collections import deque\n",
    "count = 0\n",
    "\n",
    "n, k = map(int, input().split())\n",
    "li = [list(map(int, input().split())) for _ in range(n)]\n",
    "s, target_x, target_y = map(int, input().split())\n",
    "target_x -= 1\n",
    "target_y -= 1\n",
    "\n",
    "dx = [0, 0, -1, 1]\n",
    "dy = [-1, 1, 0, 0]\n",
    "\n",
    "viruses = []\n",
    "for i in range(n):\n",
    "    for j in range(n):\n",
    "        if li[i][j] >= 1:\n",
    "            viruses.append((li[i][j], i, j, 0))\n",
    "viruses.sort()\n",
    "\n",
    "if s >= 1:\n",
    "    queue = deque()\n",
    "    queue.extend(viruses)\n",
    "    while queue:\n",
    "        virus_num, x, y, second = queue.popleft()\n",
    "\n",
    "        for i in range(4):\n",
    "            count += 1\n",
    "            nx = x + dx[i]\n",
    "            ny = y + dy[i]\n",
    "            if nx < 0 or nx >= n or ny < 0 or ny >= n:\n",
    "                continue\n",
    "\n",
    "            if li[nx][ny] == 0:\n",
    "                li[nx][ny] = virus_num\n",
    "                if second + 1 < s:\n",
    "                    queue.append((virus_num, nx, ny, second + 1))\n",
    "            \n",
    "print(li[target_x][target_y])\n",
    "print('c', count)"
   ]
  },
  {
   "cell_type": "markdown",
   "metadata": {},
   "source": [
    "### 괄호 변환"
   ]
  },
  {
   "cell_type": "code",
   "execution_count": null,
   "metadata": {},
   "outputs": [],
   "source": [
    "def disjoint(p):\n",
    "    counts = [0, 0] # open_count, close_count\n",
    "    for i in range(len(p)):\n",
    "        if p[i] == '(':\n",
    "            counts[0] += 1\n",
    "        else:\n",
    "            counts[1] += 1\n",
    "        if counts[0] >= 1 and counts[0] == counts[1]:\n",
    "            return p[:i + 1], p[i + 1:]\n",
    "\n",
    "def check(s):\n",
    "    stack = []\n",
    "    for v in s:\n",
    "        if v == '(':\n",
    "            stack.append('(')\n",
    "        else:\n",
    "            if stack:\n",
    "                stack.pop()\n",
    "            else:\n",
    "                return False\n",
    "    return True\n",
    "        \n",
    "def reverse(s):\n",
    "    new_s = []\n",
    "    for v in s:\n",
    "        if v == '(':\n",
    "            new_s.append(')')\n",
    "        else:\n",
    "            new_s.append('(')\n",
    "    return ''.join(new_s)\n",
    "    \n",
    "def recur(p):\n",
    "    if not p:\n",
    "        return p\n",
    "    \n",
    "    u, v = disjoint(p)\n",
    "    if check(u):\n",
    "        return u + recur(v)\n",
    "    else:\n",
    "        return '(' + recur(v) + ')' + reverse(u[1:-1])\n",
    "\n",
    "def solution(p):\n",
    "    return recur(p)"
   ]
  },
  {
   "cell_type": "markdown",
   "metadata": {},
   "source": [
    "### 연산자 끼워 넣기"
   ]
  },
  {
   "cell_type": "code",
   "execution_count": 28,
   "metadata": {},
   "outputs": [
    {
     "name": "stdout",
     "output_type": "stream",
     "text": [
      "6\n",
      "1 2 3 4 5 6\n",
      "2 1 1 1\n",
      "54\n",
      "-24\n"
     ]
    }
   ],
   "source": [
    "# 효율성 개선\n",
    "n = int(input())\n",
    "nums = list(map(int, input().split()))\n",
    "operators = list(map(int, input().split()))\n",
    "\n",
    "max_value = -float('inf')\n",
    "min_value = float('inf')\n",
    "\n",
    "# +-*/\n",
    "def dfs(index, temp, add, minus, mul, div):\n",
    "    global max_value\n",
    "    global min_value\n",
    "    \n",
    "    if index == n - 1:\n",
    "        max_value = max(max_value, temp)\n",
    "        min_value = min(min_value, temp)\n",
    "        return\n",
    "        \n",
    "    if add:\n",
    "        dfs(index + 1, temp + nums[index + 1], add - 1, minus, mul, div)   \n",
    "    if minus:\n",
    "        dfs(index + 1, temp - nums[index + 1], add, minus - 1, mul, div)      \n",
    "    if mul:\n",
    "        dfs(index + 1, temp * nums[index + 1], add, minus, mul - 1, div) \n",
    "    if div:\n",
    "        temp = -(-temp // nums[index + 1]) if temp < 0 else temp // nums[index + 1]\n",
    "        dfs(index + 1, temp, add, minus, mul, div - 1)\n",
    "\n",
    "add, minus, mul, div = operators\n",
    "dfs(0, nums[0], add, minus, mul, div)\n",
    "    \n",
    "print(max_value)\n",
    "print(min_value)"
   ]
  },
  {
   "cell_type": "markdown",
   "metadata": {},
   "source": [
    "### 감시 피하기"
   ]
  },
  {
   "cell_type": "code",
   "execution_count": 31,
   "metadata": {},
   "outputs": [
    {
     "name": "stdout",
     "output_type": "stream",
     "text": [
      "5\n",
      "X S X X T\n",
      "T X S X X\n",
      "X X X X X\n",
      "X T X X X\n",
      "X X T X X\n",
      "YES\n"
     ]
    }
   ],
   "source": [
    "from itertools import combinations as comb\n",
    "\n",
    "n = int(input())\n",
    "li = [input().split() for _ in range(n)]\n",
    "\n",
    "teachers = []\n",
    "blanks = []\n",
    "for i in range(n):\n",
    "    for j in range(n):\n",
    "        if li[i][j] == 'X':\n",
    "            blanks.append((i, j))\n",
    "        elif li[i][j] == 'T':\n",
    "            teachers.append((i, j))\n",
    "\n",
    "dx = [-1, 1, 0, 0]\n",
    "dy = [0, 0, -1, 1]\n",
    "            \n",
    "def solve():\n",
    "    cases = comb(blanks, 3)\n",
    "    for case in cases:\n",
    "        case = set(case)\n",
    "        found_students = set()\n",
    "        \n",
    "        for x, y in teachers:\n",
    "            for i in range(4):\n",
    "                nx, ny = x, y\n",
    "                while True:\n",
    "                    nx += dx[i]\n",
    "                    ny += dy[i]\n",
    "                    if nx < 0 or nx >= n or ny < 0 or ny >= n:\n",
    "                        break\n",
    "                    if (nx, ny) in case:\n",
    "                        break\n",
    "                    if li[nx][ny] == 'S':\n",
    "                        found_students.add((nx, ny))\n",
    "        if len(found_students) == 0:\n",
    "            return 'YES'\n",
    "    return 'NO'\n",
    "\n",
    "print(solve())"
   ]
  },
  {
   "cell_type": "markdown",
   "metadata": {},
   "source": [
    "### 인구 이동"
   ]
  },
  {
   "cell_type": "code",
   "execution_count": 83,
   "metadata": {},
   "outputs": [
    {
     "name": "stdout",
     "output_type": "stream",
     "text": [
      "4 10 50\n",
      "10 100 20 90\n",
      "80 100 60 70\n",
      "70 20 30 40\n",
      "50 20 100 10\n",
      "3\n"
     ]
    }
   ],
   "source": [
    "# 각 반복마다 탐색을 시작할 필요가 있는 곳만 추려서 효율성 개선함\n",
    "from collections import deque\n",
    "from itertools import product\n",
    "from copy import deepcopy\n",
    "\n",
    "n, l, r = map(int, input().split())\n",
    "li = [list(map(int, input().split())) for _ in range(n)]\n",
    "\n",
    "dx = [-1, 1, 0, 0]\n",
    "dy = [0, 0, -1, 1]\n",
    "\n",
    "to_search = product(range(n), range(n))\n",
    "count = 0\n",
    "while True:\n",
    "    is_moved = False\n",
    "    visited = [[False] * n for _ in range(n)]\n",
    "    new_to_search = []\n",
    "    for i, j in to_search:\n",
    "        if visited[i][j]:\n",
    "            continue\n",
    "        visited[i][j] = True    \n",
    "        team = [(i, j)]\n",
    "        popul = li[i][j]\n",
    "\n",
    "        queue = deque()\n",
    "        queue.append((i, j))\n",
    "        while queue:\n",
    "            x, y = queue.popleft()\n",
    "            for k in range(4):\n",
    "                nx = x + dx[k]\n",
    "                ny = y + dy[k]\n",
    "\n",
    "                if nx < 0 or nx >= n or ny < 0 or ny >= n:\n",
    "                    continue    \n",
    "                if l <= abs(li[nx][ny] - li[x][y]) <= r:\n",
    "                    if visited[nx][ny]:\n",
    "                        continue\n",
    "                    visited[nx][ny] = True\n",
    "                    queue.append((nx, ny))\n",
    "                    team.append((nx, ny))\n",
    "                    popul += li[nx][ny]\n",
    "        if len(team) >= 2:\n",
    "            is_moved = True\n",
    "            avg = popul // len(team)\n",
    "            for x, y in team:\n",
    "                li[x][y] = avg\n",
    "            new_to_search.extend(team)\n",
    "    if is_moved:\n",
    "        count += 1\n",
    "        to_search = deepcopy(new_to_search)\n",
    "    else:\n",
    "        break\n",
    "        \n",
    "print(count)"
   ]
  },
  {
   "cell_type": "markdown",
   "metadata": {},
   "source": [
    "### 블록 이동하기"
   ]
  },
  {
   "cell_type": "code",
   "execution_count": null,
   "metadata": {},
   "outputs": [],
   "source": [
    "from collections import deque\n",
    "\n",
    "def solution(board):\n",
    "    n = len(board)\n",
    "    m = len(board[0])\n",
    "    INF = float('inf')\n",
    "    \n",
    "    # 상, 하, 좌, 우\n",
    "    dx = [-1, 1, 0, 0]\n",
    "    dy = [0, 0, -1, 1]\n",
    "    \n",
    "    d = [[[INF] * m for _ in range(n)] for _ in range(2)] # d[state][x][y]\n",
    "    d[0][0][0] = d[0][0][1] = 0\n",
    "    \n",
    "    queue = deque()\n",
    "    queue.append((0, 0, 0, 1, 0, 0)) # sx, sy, ex, ey, state (1: 가로, 2: 세로), count  * 가로의 경우 왼쪽, 세로의 경우 위쪽이 sx, sy\n",
    "    while queue:\n",
    "        sx, sy, ex, ey, state, count = queue.popleft()\n",
    "        if ex == n - 1 and ey == m - 1:\n",
    "            return min(d[0][ex][ey], d[1][ex][ey])\n",
    "        \n",
    "        for i in range(4):\n",
    "            nsx, nsy, nex, ney = sx + dx[i], sy + dy[i], ex + dx[i], ey + dy[i]\n",
    "            if nsx < 0 or nsx >= n or nsy < 0 or nsy >= m or nex < 0 or nex >= m or nex < 0 or ney >= m:\n",
    "                continue\n",
    "            if board[nsx][nsy] or board[nex][ney]:\n",
    "                continue\n",
    "                \n",
    "            if d[state][nsx][nsy] == INF or d[state][nex][ney] == INF:\n",
    "                d[state][nsx][nsy] = min(d[state][nsx][nsy], count + 1)\n",
    "                d[state][nex][ney] = min(d[state][nex][ney], count + 1)\n",
    "                queue.append((nsx, nsy, nex, ney, state, count + 1))\n",
    "\n",
    "            nstate = state ^ 1\n",
    "            if (state == 0 and (i == 0 or i == 1)) or (state == 1 and (i == 2 or i == 3)):\n",
    "                for c in [(sx, sy, nsx, nsy), (ex, ey, nex, ney)]:\n",
    "                    if d[nstate][c[2]][c[3]] == INF or d[nstate][c[0]][c[1]] == INF:\n",
    "                        d[nstate][c[2]][c[3]] = min(d[nstate][c[2]][c[3]], count + 1)\n",
    "                        d[nstate][c[0]][c[1]] = min(d[nstate][c[0]][c[1]], count + 1)\n",
    "                        queue.append((min(c[0], c[2]), min(c[1], c[3]), max(c[0], c[2]), max(c[1], c[3]), nstate, count + 1))"
   ]
  }
 ],
 "metadata": {
  "kernelspec": {
   "display_name": "Python 3",
   "language": "python",
   "name": "python3"
  },
  "language_info": {
   "codemirror_mode": {
    "name": "ipython",
    "version": 3
   },
   "file_extension": ".py",
   "mimetype": "text/x-python",
   "name": "python",
   "nbconvert_exporter": "python",
   "pygments_lexer": "ipython3",
   "version": "3.7.3"
  }
 },
 "nbformat": 4,
 "nbformat_minor": 4
}
