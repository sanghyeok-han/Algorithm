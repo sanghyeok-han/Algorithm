{
 "cells": [
  {
   "cell_type": "markdown",
   "metadata": {},
   "source": [
    "### 히스토그램에서 가장 큰 직사각형 6549 (다시 풀음)"
   ]
  },
  {
   "cell_type": "code",
   "execution_count": 41,
   "metadata": {},
   "outputs": [
    {
     "name": "stdout",
     "output_type": "stream",
     "text": [
      "4 1000 1000 1000 1000\n",
      "4000\n",
      "0\n"
     ]
    }
   ],
   "source": [
    "import sys\n",
    "# input = lambda: sys.stdin.readline().rstrip()\n",
    "\n",
    "def recur(l, r):\n",
    "    if l == r:\n",
    "        return li[l]\n",
    "    elif l + 1 == r:\n",
    "        return max(max(li[l], li[r]), min(li[l], li[r]) * 2)\n",
    "    \n",
    "    half = (l + r) // 2\n",
    "    \n",
    "    t1 = recur(l, half - 1)\n",
    "    t2 = recur(half + 1, r)\n",
    "    \n",
    "    cur_l = half\n",
    "    cur_r = half\n",
    "    t3 = li[half]\n",
    "    cur_h = li[half]\n",
    "    while l < cur_l and cur_r < r:        \n",
    "        if li[cur_l - 1] <= li[cur_r + 1]:\n",
    "            cur_r += 1\n",
    "            cur_h = min(cur_h, li[cur_r])\n",
    "        else:\n",
    "            cur_l -= 1\n",
    "            cur_h = min(cur_h, li[cur_l])\n",
    "            \n",
    "        t3 = max(t3, cur_h * (cur_r - cur_l + 1))\n",
    "        \n",
    "        \n",
    "    while l < cur_l:\n",
    "        cur_l -= 1\n",
    "        cur_h = min(cur_h, li[cur_l])\n",
    "        \n",
    "        t3 = max(t3, cur_h * (cur_r - cur_l + 1))\n",
    "\n",
    "    while cur_r < r:\n",
    "        cur_r += 1\n",
    "        cur_h = min(cur_h, li[cur_r])\n",
    "        \n",
    "        t3 = max(t3, cur_h * (cur_r - cur_l + 1))\n",
    "\n",
    "    return max(t1, t2, t3)\n",
    "    \n",
    "while True:\n",
    "    n, *li = map(int, input().split())\n",
    "    if n == 0:\n",
    "        break\n",
    "    \n",
    "    print(recur(0, n - 1))"
   ]
  },
  {
   "cell_type": "markdown",
   "metadata": {},
   "source": [
    "### 가장 가까운 두 점 2261"
   ]
  },
  {
   "cell_type": "code",
   "execution_count": 1,
   "metadata": {},
   "outputs": [
    {
     "name": "stdout",
     "output_type": "stream",
     "text": [
      "4\n",
      "0 0\n",
      "10 10\n",
      "0 10\n",
      "10 0\n"
     ]
    }
   ],
   "source": [
    "# 일단 포기\n",
    "n = int(input())\n",
    "\n",
    "x_to_ys = [[] for _ in range(20001)] # x_to_ys[x] = [y1, y2, y3...]\n",
    "for _ in range(n):\n",
    "    x, y = map(int, input().split())\n",
    "    x += 10000\n",
    "    y += 10000\n",
    "    \n",
    "    x_to_ys[x].append(y)\n",
    "    \n",
    "for i in range(20001):\n",
    "    x_to_ys[i].sort()"
   ]
  },
  {
   "cell_type": "markdown",
   "metadata": {},
   "source": [
    "### 버블 소트 1517"
   ]
  },
  {
   "cell_type": "code",
   "execution_count": 8,
   "metadata": {},
   "outputs": [
    {
     "name": "stdout",
     "output_type": "stream",
     "text": [
      "7\n",
      "4 2 7 1 5 6 3\n",
      "10\n"
     ]
    }
   ],
   "source": [
    "n = int(input())\n",
    "li = list(map(int, input().split()))\n",
    "\n",
    "def merge_sort(li):\n",
    "    global count\n",
    "    \n",
    "    if len(li) == 1:\n",
    "        return li\n",
    "    \n",
    "    left = merge_sort(li[:len(li) // 2])\n",
    "    right = merge_sort(li[len(li) // 2:])\n",
    "    \n",
    "    nl = len(left)\n",
    "    nr = len(right)\n",
    "    \n",
    "    nli = []\n",
    "    l_i = r_i = 0\n",
    "    while True:\n",
    "        if left[l_i] <= right[r_i]:\n",
    "            nli.append(left[l_i])\n",
    "            count += r_i\n",
    "            l_i += 1\n",
    "            \n",
    "            if l_i == nl:\n",
    "                while r_i < nr:\n",
    "                    nli.append(right[r_i])\n",
    "                    r_i += 1\n",
    "                break    \n",
    "        else:\n",
    "            nli.append(right[r_i])\n",
    "            r_i += 1\n",
    "            \n",
    "            if r_i == nr:\n",
    "                while l_i < nl:\n",
    "                    nli.append(left[l_i])\n",
    "                    count += r_i\n",
    "                    l_i += 1\n",
    "                break\n",
    "    return nli \n",
    "    \n",
    "count = 0\n",
    "merge_sort(li)\n",
    "\n",
    "print(count)"
   ]
  }
 ],
 "metadata": {
  "kernelspec": {
   "display_name": "Python 3",
   "language": "python",
   "name": "python3"
  },
  "language_info": {
   "codemirror_mode": {
    "name": "ipython",
    "version": 3
   },
   "file_extension": ".py",
   "mimetype": "text/x-python",
   "name": "python",
   "nbconvert_exporter": "python",
   "pygments_lexer": "ipython3",
   "version": "3.7.4"
  }
 },
 "nbformat": 4,
 "nbformat_minor": 4
}
