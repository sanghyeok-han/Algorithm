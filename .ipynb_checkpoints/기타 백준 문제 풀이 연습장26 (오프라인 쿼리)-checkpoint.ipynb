{
 "cells": [
  {
   "cell_type": "markdown",
   "metadata": {},
   "source": [
    "### 트리 13306"
   ]
  },
  {
   "cell_type": "code",
   "execution_count": 17,
   "metadata": {},
   "outputs": [
    {
     "name": "stdout",
     "output_type": "stream",
     "text": [
      "NO\n",
      "YES\n",
      "YES\n",
      "NO\n",
      "YES\n"
     ]
    }
   ],
   "source": [
    "import sys\n",
    "# input = lambda: sys.stdin.readline().rstrip()\n",
    "\n",
    "n, q = map(int, input().split())\n",
    "d = {}\n",
    "for i in range(n - 1):\n",
    "    d.update({i + 2: int(input())})\n",
    "queries = [list(map(int, input().split())) for _ in range(q + n - 1)]\n",
    "\n",
    "parent = list(range(n + 1))\n",
    "rank = [0] * (n + 1)\n",
    "\n",
    "def find(v):\n",
    "    if v == parent[v]:\n",
    "        return v\n",
    "    parent[v] = find(parent[v])\n",
    "    return parent[v]\n",
    "\n",
    "def union(a, b):\n",
    "    if rank[a] >= rank[b]:\n",
    "        if rank[a] == rank[b]:\n",
    "            rank[a] += 1\n",
    "        parent[b] = a\n",
    "    else:\n",
    "        parent[a] = b\n",
    "        \n",
    "result = []\n",
    "for i in range(q + n - 2, -1, -1):\n",
    "    query = queries[i]\n",
    "    if query[0] == 1:\n",
    "        if find(query[1]) == find(query[2]):\n",
    "            result.append('YES')\n",
    "        else:\n",
    "            result.append('NO')\n",
    "    else:\n",
    "        union(find(query[1]), find(d[query[1]]))\n",
    "        \n",
    "print('\\n'.join(reversed(result)))"
   ]
  },
  {
   "cell_type": "markdown",
   "metadata": {},
   "source": [
    "### 꼬리달린 박성원숭이 2105"
   ]
  },
  {
   "cell_type": "code",
   "execution_count": null,
   "metadata": {},
   "outputs": [],
   "source": [
    "먼저 연결되어있는 경우를 다 받아서 dict으로 카운트까지 관리함 (정렬시켜서 저장)\n",
    "또한 동시에 어느 손으로 어느 원숭이를 잡고 있는지에 대한 정보도 저장함\n",
    "제거되는 경우 다 받아서 원숭이로 다시 변환하고 저장함 (순서 기억함)\n",
    "맨 위의 dict 복사 후 dict에서 빼줌\n",
    "dict 다 돌면서 값이 1 이상이면 전부 연결해줌\n",
    "\n",
    "find, union 만듦\n",
    "정답을 담을 리스트 만듦 (처음에는 전부 -1)\n",
    "parent 만듦\n",
    "temp_connected [{}, {}, {} ...] 만듦\n",
    "지우는 쿼리 마지막부터 연결해주기 시작함\n",
    "\n",
    "1은 temp_connected에서 집합 처리 X\n",
    "1 만나면 만난 것 + 가지고 있던 집합을 temp_connected에서 집합 처리 해줌\n",
    "2 안만나면 번호 작은 노드에 집합 다 옮기고 큰 번호 추가하고 temp_connected에서\n",
    "  큰 번호 노드 집합 set()으로 만들어줌"
   ]
  },
  {
   "cell_type": "code",
   "execution_count": null,
   "metadata": {},
   "outputs": [],
   "source": [
    "import sys\n",
    "input = lambda: sys.stdin.readline().rstrip()\n",
    "\n",
    "n, m = map(int, input().split())\n",
    "st = set()\n",
    "left_right_info = dict()\n",
    "\n",
    "for i in range(n):\n",
    "    left, right = map(int, input().split())\n",
    "    if left != -1:\n",
    "        st.add((i + 1, left))\n",
    "        left_right_info[(i + 1, 1)] = left\n",
    "    if right != -1:\n",
    "        st.add((i + 1, right))\n",
    "        left_right_info[(i + 1, 2)] = right  \n",
    "        \n",
    "deleted = []\n",
    "for _ in range(m):\n",
    "    a, hand = list(map(int, input().split()))\n",
    "    b = left_right_info[(a, hand)]\n",
    "    deleted.append((a, b))\n",
    "    st.discard((a, b))\n",
    "del left_right_info\n",
    "\n",
    "def find(v):\n",
    "    if parent[v] == v:\n",
    "        return v\n",
    "    parent[v] = find(parent[v])\n",
    "    return parent[v]\n",
    "\n",
    "def union(ra, rb, option=0):\n",
    "    if rb < ra:\n",
    "        ra, rb = rb, ra\n",
    "    \n",
    "    parent[rb] = ra\n",
    "    \n",
    "    if ra != 1:\n",
    "        for v in temp_connected[rb]:\n",
    "            temp_connected[ra].add(v)\n",
    "        temp_connected[ra].add(rb)\n",
    "    else:\n",
    "        if option:\n",
    "            temp_connected[rb].add(rb)\n",
    "            for node in temp_connected[rb]:\n",
    "                result[node - 1] = t\n",
    "    temp_connected[rb] = set()\n",
    "    \n",
    "parent = list(range(n + 1))\n",
    "temp_connected = [set() for _ in range(n + 1)]\n",
    "result = [-1] * n\n",
    "\n",
    "for a, b in st:\n",
    "    if a > b:\n",
    "        a, b = b, a\n",
    "    ra, rb = find(a), find(b)\n",
    "    if ra == rb:\n",
    "        continue\n",
    "    union(ra, rb)\n",
    "    \n",
    "for t in range(m - 1, -1, -1):\n",
    "    a, b = deleted[t]\n",
    "    if a > b:\n",
    "        a, b = b, a\n",
    "    ra, rb = find(a), find(b)\n",
    "    if ra == rb:\n",
    "        continue\n",
    "    union(ra, rb, 1)\n",
    "    \n",
    "print('\\n'.join(map(str, result)))"
   ]
  },
  {
   "cell_type": "code",
   "execution_count": null,
   "metadata": {},
   "outputs": [],
   "source": [
    "3 2\n",
    "-1 3\n",
    "3 -1\n",
    "1 2\n",
    "1 2\n",
    "3 1\n",
    "-1\n",
    "1\n",
    "1"
   ]
  },
  {
   "cell_type": "code",
   "execution_count": 39,
   "metadata": {},
   "outputs": [
    {
     "data": {
      "text/plain": [
       "{(1, 2): 3, (2, 1): 3, (3, 1): 1, (3, 2): 2}"
      ]
     },
     "execution_count": 39,
     "metadata": {},
     "output_type": "execute_result"
    }
   ],
   "source": [
    "left_right_info"
   ]
  },
  {
   "cell_type": "code",
   "execution_count": 78,
   "metadata": {},
   "outputs": [],
   "source": [
    "a = set([3, 4])\n",
    "b = set([2, 5])\n",
    "\n"
   ]
  },
  {
   "cell_type": "code",
   "execution_count": 64,
   "metadata": {},
   "outputs": [
    {
     "data": {
      "text/plain": [
       "{2, 3, 4, 5}"
      ]
     },
     "execution_count": 64,
     "metadata": {},
     "output_type": "execute_result"
    }
   ],
   "source": [
    "a.union(b)"
   ]
  },
  {
   "cell_type": "code",
   "execution_count": 65,
   "metadata": {},
   "outputs": [
    {
     "data": {
      "text/plain": [
       "{3, 4}"
      ]
     },
     "execution_count": 65,
     "metadata": {},
     "output_type": "execute_result"
    }
   ],
   "source": [
    "a"
   ]
  },
  {
   "cell_type": "code",
   "execution_count": 75,
   "metadata": {},
   "outputs": [
    {
     "ename": "AttributeError",
     "evalue": "'NoneType' object has no attribute 'difference_update'",
     "output_type": "error",
     "traceback": [
      "\u001b[1;31m---------------------------------------------------------------------------\u001b[0m",
      "\u001b[1;31mAttributeError\u001b[0m                            Traceback (most recent call last)",
      "\u001b[1;32m<ipython-input-75-b40e603056ed>\u001b[0m in \u001b[0;36m<module>\u001b[1;34m\u001b[0m\n\u001b[1;32m----> 1\u001b[1;33m \u001b[0ma\u001b[0m\u001b[1;33m.\u001b[0m\u001b[0mdifference_update\u001b[0m\u001b[1;33m(\u001b[0m\u001b[0mb\u001b[0m\u001b[1;33m)\u001b[0m\u001b[1;33m\u001b[0m\u001b[1;33m\u001b[0m\u001b[0m\n\u001b[0m",
      "\u001b[1;31mAttributeError\u001b[0m: 'NoneType' object has no attribute 'difference_update'"
     ]
    }
   ],
   "source": [
    "a.difference_update(b)"
   ]
  },
  {
   "cell_type": "code",
   "execution_count": 87,
   "metadata": {},
   "outputs": [],
   "source": [
    "result = [[-1] for _ in range(10)]"
   ]
  },
  {
   "cell_type": "code",
   "execution_count": 81,
   "metadata": {},
   "outputs": [
    {
     "data": {
      "text/plain": [
       "[[-1], [-1], [-1], [-1], [-1], [-1], [-1], [-1], [-1], [-1]]"
      ]
     },
     "execution_count": 81,
     "metadata": {},
     "output_type": "execute_result"
    }
   ],
   "source": [
    "result"
   ]
  },
  {
   "cell_type": "code",
   "execution_count": 91,
   "metadata": {},
   "outputs": [
    {
     "data": {
      "text/plain": [
       "789939372168"
      ]
     },
     "execution_count": 91,
     "metadata": {},
     "output_type": "execute_result"
    }
   ],
   "source": [
    "id(result[3])"
   ]
  },
  {
   "cell_type": "code",
   "execution_count": null,
   "metadata": {},
   "outputs": [],
   "source": []
  },
  {
   "cell_type": "code",
   "execution_count": 89,
   "metadata": {},
   "outputs": [
    {
     "data": {
      "text/plain": [
       "[[-1], [-1], [-1], [2], [2], [2], [2], [-1], [-1], [-1]]"
      ]
     },
     "execution_count": 89,
     "metadata": {},
     "output_type": "execute_result"
    }
   ],
   "source": [
    "result[3] = result[4]\n",
    "result[5] = result[6]\n",
    "result[3] = result[5]"
   ]
  },
  {
   "cell_type": "code",
   "execution_count": 84,
   "metadata": {},
   "outputs": [
    {
     "data": {
      "text/plain": [
       "[[-1], [-1], [-1], [2], [2], [2], [-1], [2], [-1], [-1]]"
      ]
     },
     "execution_count": 84,
     "metadata": {},
     "output_type": "execute_result"
    }
   ],
   "source": [
    "result"
   ]
  },
  {
   "cell_type": "code",
   "execution_count": 77,
   "metadata": {},
   "outputs": [
    {
     "data": {
      "text/plain": [
       "{2, 5}"
      ]
     },
     "execution_count": 77,
     "metadata": {},
     "output_type": "execute_result"
    }
   ],
   "source": [
    "b"
   ]
  },
  {
   "cell_type": "markdown",
   "metadata": {},
   "source": [
    "### 마블 2843"
   ]
  },
  {
   "cell_type": "code",
   "execution_count": null,
   "metadata": {},
   "outputs": [],
   "source": [
    "먼저 모든 간선을 딕셔너리로 d[출발] = 도착 방식으로 저장함\n",
    "d의 복사본 new_d를 만듦\n",
    "쿼리 돌리면서 리스트로 저장하며, 2가 나올 경우 해당 간선을 위의 new_d에서 제거함\n",
    "\n",
    "new_d에서에 남아있는 간선들의 key와 value가 각각 a, b라면 a의 parent는 b인 식으로 연결해줌.\n",
    "이때 b의 root가 a인 경우 a의 parent를 바로 0으로 만들어줌 (사이클임을 표시하기 위해)\n",
    "\n",
    "쿼리 종류가 1인 경우 해당 쿼리의 루트를 result로 저장함 (0인 경우 답은 CIKLUS)\n",
    "쿼리 종류가 2인 경우 d를 통해 넘어가는 간선을 찾아서 위와 같은 방식으로 연결해줌"
   ]
  },
  {
   "cell_type": "code",
   "execution_count": 12,
   "metadata": {},
   "outputs": [
    {
     "name": "stdout",
     "output_type": "stream",
     "text": [
      "3\n",
      "2 3 1\n",
      "7\n",
      "1 1\n",
      "1 2\n",
      "2 1\n",
      "1 2\n",
      "1 1\n",
      "2 2\n",
      "1 2\n",
      "CIKLUS\n",
      "CIKLUS\n",
      "1\n",
      "1\n",
      "2\n"
     ]
    }
   ],
   "source": [
    "import sys\n",
    "sys.setrecursionlimit(300001)\n",
    "# input = lambda: sys.stdin.readline().rstrip()\n",
    "\n",
    "n = int(input())\n",
    "outs = list(map(int, input().split()))\n",
    "d = dict()\n",
    "for i in range(n):\n",
    "    if outs[i] != 0:\n",
    "        d[i + 1] = outs[i]\n",
    "del outs\n",
    "q = int(input())\n",
    "\n",
    "queries = []\n",
    "deleted = dict()\n",
    "for _ in range(q):\n",
    "    qt, num = map(int, input().split())\n",
    "    queries.append((qt, num))\n",
    "    if qt == 2:\n",
    "        deleted[num] = d[num]\n",
    "        del d[num] \n",
    "        \n",
    "def find(v):\n",
    "    if p[v] == v:\n",
    "        return v\n",
    "    p[v] = find(p[v])\n",
    "    return p[v]\n",
    "\n",
    "def union(a, rb):\n",
    "    if a == rb:\n",
    "        p[a] = 0\n",
    "    else:\n",
    "        p[a] = rb\n",
    "    \n",
    "p = list(range(n + 1))\n",
    "\n",
    "d_len = len(d)\n",
    "for _ in range(d_len):\n",
    "    a, b = d.popitem()\n",
    "    rb = find(b)\n",
    "    union(a, rb)\n",
    "del d\n",
    "\n",
    "result = []\n",
    "for _ in range(q):\n",
    "    qt, a = queries.pop()\n",
    "    if qt == 1:\n",
    "        ra = find(a)\n",
    "        result.append(ra)\n",
    "    else:\n",
    "        b = deleted[a]\n",
    "        del deleted[a]\n",
    "        rb = find(b)\n",
    "        union(a, rb)\n",
    "del p\n",
    "del queries\n",
    "\n",
    "for v in reversed(result):\n",
    "    if v:\n",
    "        print(v)\n",
    "    else:\n",
    "        print('CIKLUS')"
   ]
  }
 ],
 "metadata": {
  "kernelspec": {
   "display_name": "Python 3",
   "language": "python",
   "name": "python3"
  },
  "language_info": {
   "codemirror_mode": {
    "name": "ipython",
    "version": 3
   },
   "file_extension": ".py",
   "mimetype": "text/x-python",
   "name": "python",
   "nbconvert_exporter": "python",
   "pygments_lexer": "ipython3",
   "version": "3.7.3"
  }
 },
 "nbformat": 4,
 "nbformat_minor": 4
}
