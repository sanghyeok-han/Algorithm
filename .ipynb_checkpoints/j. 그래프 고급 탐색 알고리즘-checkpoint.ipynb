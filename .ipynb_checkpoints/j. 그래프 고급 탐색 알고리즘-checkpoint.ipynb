{
 "cells": [
  {
   "cell_type": "markdown",
   "metadata": {},
   "source": [
    "### 해킹 10282"
   ]
  },
  {
   "cell_type": "markdown",
   "metadata": {},
   "source": [
    "3:03 3:09      3:23 3:47"
   ]
  },
  {
   "cell_type": "code",
   "execution_count": 1,
   "metadata": {},
   "outputs": [],
   "source": [
    "import heapq"
   ]
  },
  {
   "cell_type": "code",
   "execution_count": 2,
   "metadata": {},
   "outputs": [
    {
     "name": "stdout",
     "output_type": "stream",
     "text": [
      "3 2 2\n"
     ]
    }
   ],
   "source": [
    "n, d, c = map(int, input().split())"
   ]
  },
  {
   "cell_type": "code",
   "execution_count": 6,
   "metadata": {},
   "outputs": [],
   "source": [
    "adj = [[] for _ in range(n + 1)]"
   ]
  },
  {
   "cell_type": "code",
   "execution_count": 7,
   "metadata": {},
   "outputs": [
    {
     "name": "stdout",
     "output_type": "stream",
     "text": [
      "2 1 5\n",
      "3 2 5\n"
     ]
    }
   ],
   "source": [
    "for _ in range(d):\n",
    "    a, b, s = map(int, input().split())\n",
    "    adj[b].append((a, s))"
   ]
  },
  {
   "cell_type": "code",
   "execution_count": 51,
   "metadata": {},
   "outputs": [
    {
     "name": "stdout",
     "output_type": "stream",
     "text": [
      "2\n",
      "3 2 2\n",
      "2 1 5\n",
      "3 2 5\n",
      "2 5\n",
      "3 3 1\n",
      "2 1 2\n",
      "3 1 8\n",
      "3 2 4\n",
      "3 6\n"
     ]
    }
   ],
   "source": [
    "# 맞았음\n",
    "import heapq\n",
    "\n",
    "T = int(input())\n",
    "\n",
    "for _ in range(T):\n",
    "    n, d, c = map(int, input().split())\n",
    "    adj = [[] for _ in range(n + 1)]\n",
    "\n",
    "    for _ in range(d):\n",
    "        a, b, s = map(int, input().split())\n",
    "        adj[b].append((a, s))\n",
    "\n",
    "    shortest_li = [float('inf') for _ in range(n + 1)]\n",
    "    heap = []\n",
    "\n",
    "    shortest_li[c] = 0\n",
    "    heapq.heappush(heap, (0, c)) # 시간, 노드\n",
    "\n",
    "    while heap:\n",
    "        time, node = heapq.heappop(heap)\n",
    "        for new_node, t in adj[node]:\n",
    "            if time + t < shortest_li[new_node]:\n",
    "                shortest_li[new_node] = time + t\n",
    "                heapq.heappush(heap, (time + t, new_node))\n",
    "\n",
    "    print(len([v for v in shortest_li if v != float('inf')]), end=\" \")\n",
    "    print(max([v for v in shortest_li if v != float('inf')]))"
   ]
  },
  {
   "cell_type": "code",
   "execution_count": null,
   "metadata": {},
   "outputs": [],
   "source": [
    "## 예시 정답\n",
    "\n",
    "\n",
    "while heap_data:\n",
    "    dist, now = heapq.heappop(heap_data)\n",
    "    \n",
    "    ## 이 부분이 추가되어있음\n",
    "    if distance[now] < dist:\n",
    "        continue"
   ]
  },
  {
   "cell_type": "markdown",
   "metadata": {},
   "source": [
    "### 거의 최단 경로 5719"
   ]
  },
  {
   "cell_type": "code",
   "execution_count": null,
   "metadata": {},
   "outputs": [],
   "source": [
    "# 틀렸음\n",
    "import heapq\n",
    "from collections import deque\n",
    "from copy import deepcopy\n",
    "import sys\n",
    "# input = sys.stdin.readline\n",
    "\n",
    "\n",
    "def daj(adj, start):\n",
    "    distances = {node: float('inf') for node in range(n)}\n",
    "    former_paths = [[] for _ in range(n)]\n",
    "    distances[start] = 0\n",
    "\n",
    "    heap = []\n",
    "    heapq.heappush(heap, (0, start))\n",
    "\n",
    "    while heap:\n",
    "        dist, node = heapq.heappop(heap)\n",
    "\n",
    "        if dist > distances[node]:\n",
    "            continue\n",
    "\n",
    "        for new_node, d in adj[node]:\n",
    "            if dist + d == distances[new_node]:\n",
    "                former_paths[new_node].append(node)\n",
    "\n",
    "            if dist + d < distances[new_node]:       \n",
    "                distances[new_node] = dist + d\n",
    "                former_paths[new_node] = [node]\n",
    "                heapq.heappush(heap, (dist + d, new_node))  \n",
    "                    \n",
    "    return former_paths, distances\n",
    "\n",
    "while True:\n",
    "    n, m = map(int, input().split())\n",
    "    if n == 0 and m == 0:\n",
    "        break\n",
    "    \n",
    "    start, end = map(int, input().split())\n",
    "\n",
    "    adj = [[] for _ in range(n)]\n",
    "    for _ in range(m):\n",
    "        u, v, dist = map(int, input().split())\n",
    "        adj[u].append((v, dist))\n",
    "\n",
    "    former_paths, _ = daj(adj, start)\n",
    "\n",
    "    new_adj = deepcopy(adj)\n",
    "    visited = [False] * n\n",
    "    queue = deque([])\n",
    "    queue.extend(former_paths[end])\n",
    "    for v in former_paths[end]:\n",
    "        new_adj[v] = [w for w in new_adj[v] if w[0] != end]\n",
    "\n",
    "    while queue:\n",
    "        node = queue.popleft()\n",
    "        visited[node] = True\n",
    "\n",
    "        for v in former_paths[node]:\n",
    "#             if not visited[v]:\n",
    "            visited[v] = True\n",
    "            new_adj[v] = [w for w in new_adj[v] if w[0] != node]\n",
    "            queue.append(v)\n",
    "\n",
    "    _, distances = daj(new_adj, start)\n",
    "\n",
    "    if distances[end] == float(\"inf\"):\n",
    "        print(-1)\n",
    "    else:\n",
    "        print(distances[end])"
   ]
  },
  {
   "cell_type": "code",
   "execution_count": 237,
   "metadata": {},
   "outputs": [
    {
     "name": "stdout",
     "output_type": "stream",
     "text": [
      "4 7\n",
      "0 3\n",
      "0 1 5\n",
      "0 2 1\n",
      "0 3 3\n",
      "1 2 5\n",
      "1 3 1\n",
      "2 1 1\n",
      "2 3 5\n"
     ]
    }
   ],
   "source": [
    "n, m = map(int, input().split())\n",
    "start, end = map(int, input().split())\n",
    "\n",
    "adj = [[] for _ in range(n)]\n",
    "for _ in range(m):\n",
    "    u, v, dist = map(int, input().split())\n",
    "    adj[u].append((v, dist))"
   ]
  },
  {
   "cell_type": "code",
   "execution_count": 279,
   "metadata": {},
   "outputs": [
    {
     "name": "stdout",
     "output_type": "stream",
     "text": [
      "15\n"
     ]
    }
   ],
   "source": [
    "# 디버깅\n",
    "import heapq\n",
    "from collections import deque\n",
    "from copy import deepcopy\n",
    "\n",
    "\n",
    "def daj(adj, start):\n",
    "    distances = {node: float('inf') for node in range(n)}\n",
    "    former_paths = [[] for _ in range(n)]\n",
    "    distances[start] = 0\n",
    "\n",
    "    heap = []\n",
    "    heapq.heappush(heap, (0, start))\n",
    "\n",
    "    while heap:\n",
    "        dist, node = heapq.heappop(heap)\n",
    "\n",
    "        if dist > distances[node]:\n",
    "            continue\n",
    "\n",
    "        for new_node, d in adj[node]:\n",
    "            if dist + d == distances[new_node]:\n",
    "                former_paths[new_node].append(node)\n",
    "\n",
    "            if dist + d < distances[new_node]:       \n",
    "                distances[new_node] = dist + d\n",
    "                former_paths[new_node] = [node]\n",
    "                heapq.heappush(heap, (dist + d, new_node))  \n",
    "                    \n",
    "    return former_paths, distances\n",
    "\n",
    "\n",
    "former_paths, _ = daj(adj, start)\n",
    "\n",
    "new_adj = deepcopy(adj)\n",
    "visited = [False] * n\n",
    "queue = deque([])\n",
    "queue.append(end)\n",
    "for v in former_paths[end]:\n",
    "    new_adj[v] = [w for w in new_adj[v] if w[0] != end]\n",
    "\n",
    "while queue:\n",
    "    node = queue.popleft()\n",
    "    visited[node] = True\n",
    "\n",
    "    for v in former_paths[node]:\n",
    "        new_adj[v] = [w for w in new_adj[v] if w[0] != node]\n",
    "        if not visited[v]:\n",
    "            visited[v] = True    \n",
    "            queue.append(v)\n",
    "\n",
    "_, distances = daj(new_adj, start)\n",
    "\n",
    "if distances[end] == float(\"inf\"):\n",
    "    print(-1)\n",
    "else:\n",
    "    print(distances[end])"
   ]
  },
  {
   "cell_type": "code",
   "execution_count": 264,
   "metadata": {},
   "outputs": [
    {
     "data": {
      "text/plain": [
       "[[], [2], [0], [0, 1]]"
      ]
     },
     "execution_count": 264,
     "metadata": {},
     "output_type": "execute_result"
    }
   ],
   "source": [
    "former_paths"
   ]
  },
  {
   "cell_type": "code",
   "execution_count": 260,
   "metadata": {},
   "outputs": [
    {
     "data": {
      "text/plain": [
       "[[(1, 5), (2, 1), (3, 3)], [(2, 5), (3, 1)], [(1, 1), (3, 5)], []]"
      ]
     },
     "execution_count": 260,
     "metadata": {},
     "output_type": "execute_result"
    }
   ],
   "source": [
    "adj"
   ]
  },
  {
   "cell_type": "code",
   "execution_count": 261,
   "metadata": {},
   "outputs": [
    {
     "data": {
      "text/plain": [
       "[[(1, 5)], [(2, 5)], [(3, 5)], []]"
      ]
     },
     "execution_count": 261,
     "metadata": {},
     "output_type": "execute_result"
    }
   ],
   "source": [
    "new_adj"
   ]
  },
  {
   "cell_type": "code",
   "execution_count": null,
   "metadata": {},
   "outputs": [],
   "source": [
    "# 맞았음\n",
    "import heapq\n",
    "from collections import deque\n",
    "import sys\n",
    "input = sys.stdin.readline\n",
    "\n",
    "\n",
    "def daj(adj, start):\n",
    "    distances = {node: float('inf') for node in range(n)}\n",
    "    former_paths = [[] for _ in range(n)]\n",
    "    distances[start] = 0\n",
    "\n",
    "    heap = []\n",
    "    heapq.heappush(heap, (0, start))\n",
    "\n",
    "    while heap:\n",
    "        dist, node = heapq.heappop(heap)\n",
    "\n",
    "        if dist > distances[node]:\n",
    "            continue\n",
    "\n",
    "        for new_node, d in adj[node]:\n",
    "            if dist + d == distances[new_node]:\n",
    "                former_paths[new_node].append(node)\n",
    "\n",
    "            if dist + d < distances[new_node]:       \n",
    "                distances[new_node] = dist + d\n",
    "                former_paths[new_node] = [node]\n",
    "                heapq.heappush(heap, (dist + d, new_node))  \n",
    "                    \n",
    "    return former_paths, distances\n",
    "\n",
    "while True:\n",
    "    n, m = map(int, input().split())\n",
    "    if n == 0 and m == 0:\n",
    "        break\n",
    "    \n",
    "    start, end = map(int, input().split())\n",
    "\n",
    "    adj = [[] for _ in range(n)]\n",
    "    for _ in range(m):\n",
    "        u, v, dist = map(int, input().split())\n",
    "        adj[u].append((v, dist))\n",
    "\n",
    "    former_paths, _ = daj(adj, start)\n",
    "\n",
    "    visited = [False] * n\n",
    "    queue = deque([])\n",
    "    queue.extend(former_paths[end])\n",
    "    for v in former_paths[end]:\n",
    "        adj[v] = [w for w in adj[v] if w[0] != end]\n",
    "\n",
    "    while queue:\n",
    "        node = queue.popleft()\n",
    "        visited[node] = True\n",
    "\n",
    "        for v in former_paths[node]:\n",
    "            adj[v] = [w for w in adj[v] if w[0] != node]\n",
    "            if not visited[v]:\n",
    "                visited[v] = True    \n",
    "                queue.append(v)\n",
    "\n",
    "    _, distances = daj(adj, start)\n",
    "\n",
    "    if distances[end] == float(\"inf\"):\n",
    "        print(-1)\n",
    "    else:\n",
    "        print(distances[end])"
   ]
  },
  {
   "cell_type": "code",
   "execution_count": null,
   "metadata": {},
   "outputs": [],
   "source": [
    "# 예시 정답\n",
    "\n",
    "from collections import deque\n",
    "import heapq\n",
    "import sys\n",
    "# input = sys.stdin.readline\n",
    "\n",
    "def dijkstra():\n",
    "    heap_data = []\n",
    "    heapq.heappush(heap_data, (0, start))\n",
    "    distance[start] = 0\n",
    "    while heap_data:\n",
    "        dist, now = heapq.heappop(heap_data)\n",
    "        if distance[now] < dist:\n",
    "            continue\n",
    "        for i in adj[now]:\n",
    "            cost = dist + i[1]\n",
    "            if distance[i[0]] > cost and not dropped[now][i[0]]:\n",
    "                distance[i[0]] = cost\n",
    "                heapq.heappush(heap_data, (cost, i[0]))\n",
    "\n",
    "def bfs():\n",
    "    q = deque()\n",
    "    q.append(end)\n",
    "    while q:\n",
    "        now = q.popleft()\n",
    "        if now == start:\n",
    "            continue\n",
    "        for prev, cost in reverse_adj[now]:\n",
    "            if distance[now] == distance[prev] + cost:\n",
    "                dropped[prev][now] = True\n",
    "                q.append(prev)\n",
    "                \n",
    "\n",
    "while True:\n",
    "    n, m = map(int, input().split())\n",
    "    if n == 0:\n",
    "        break\n",
    "    start, end = map(int, input().split())\n",
    "    adj = [[] for _ in range(n + 1)]\n",
    "    reverse_adj = [[] for _ in range(n + 1)]\n",
    "    for _ in range(m):\n",
    "        x, y, cost = map(int, input().split())\n",
    "        adj[x].append((y, cost))\n",
    "        reverse_adj[y].append((x, cost))\n",
    "    dropped = [[False] * (n + 1) for _ in range(n + 1)]\n",
    "    distance = [1e9] * (n + 1)\n",
    "    dijkstra()\n",
    "    bfs()\n",
    "    distance = [1e9] * (n - 1)\n",
    "    dijkstra()\n",
    "    if distance[end] != 1e9:\n",
    "        print(distance[end])\n",
    "    else:\n",
    "        print(-1)"
   ]
  },
  {
   "cell_type": "markdown",
   "metadata": {},
   "source": [
    "### 우주신과의 교감 1774"
   ]
  },
  {
   "cell_type": "code",
   "execution_count": null,
   "metadata": {},
   "outputs": [],
   "source": [
    "2:38"
   ]
  },
  {
   "cell_type": "code",
   "execution_count": 26,
   "metadata": {},
   "outputs": [
    {
     "name": "stdout",
     "output_type": "stream",
     "text": [
      "4 1\n",
      "1 1\n",
      "3 1\n",
      "2 3\n",
      "4 3\n",
      "1 4\n",
      "4.00\n"
     ]
    }
   ],
   "source": [
    "## coords_dict, parent_dict을 list로 바꾸고 list 여러 개를 tuple로 바꿔서 시간 초과 -> 맞았음\n",
    "\n",
    "from itertools import combinations\n",
    "import sys\n",
    "# input = sys.stdin.readline\n",
    "\n",
    "n, m = map(int, input().split())\n",
    "\n",
    "coords_li = [()]\n",
    "for i in range(1, n + 1):\n",
    "    coord = tuple(map(int, input().split()))\n",
    "    coords_li.append(coord)\n",
    "    \n",
    "candidates = list(combinations(range(1, n + 1), 2))\n",
    "parent_li = [i for i in range(0, n + 1)]\n",
    "rank_li = [0] * (n + 1)\n",
    "    \n",
    "    \n",
    "def find(node):\n",
    "    if parent_li[node] == node:\n",
    "        return node\n",
    "    else:\n",
    "        parent_li[node] = find(parent_li[node])\n",
    "        return parent_li[node]\n",
    "    \n",
    "    \n",
    "def union(a, b):\n",
    "    a = find(a)\n",
    "    b = find(b)\n",
    "    \n",
    "    if rank_li[a] >= rank_li[b]:\n",
    "        parent_li[b] = a\n",
    "        \n",
    "        if rank_li[a] == rank_li[b]:\n",
    "            rank_li[a] += 1\n",
    "    else:\n",
    "        parent_li[a] = b\n",
    "        \n",
    "    \n",
    "for _ in range(m):\n",
    "    already_linked = tuple(map(int, input().split()))\n",
    "    union(already_linked[0], already_linked[1])\n",
    "    \n",
    "    if already_linked in candidates:\n",
    "        candidates.remove(already_linked)\n",
    "    else:\n",
    "        candidates.remove((already_linked[1], already_linked[0]))\n",
    "        \n",
    "def add_distance(candidate):\n",
    "    a, b = candidate\n",
    "    x1, y1 = coords_li[a]\n",
    "    x2, y2 = coords_li[b]   \n",
    "    dist = ((x2 - x1) ** 2 + (y2 - y1) ** 2) ** (1/2)\n",
    "    return candidate + tuple([dist])\n",
    "\n",
    "\n",
    "for i in range(len(candidates)):\n",
    "    candidates[i] = add_distance(candidates[i])\n",
    "    \n",
    "candidates = sorted(candidates, key=lambda x: x[2])\n",
    "\n",
    "total_dist = 0\n",
    "for candidate in candidates:\n",
    "    a, b, dist = candidate\n",
    "    \n",
    "    if find(a) != find(b):\n",
    "        union(a, b)\n",
    "        total_dist += dist\n",
    "\n",
    "print(\"%.2f\" % total_dist)"
   ]
  },
  {
   "cell_type": "code",
   "execution_count": null,
   "metadata": {},
   "outputs": [],
   "source": [
    "## 변경1 (나중에 find() != find()를 하므로 already_linked를 미리 지워줄 필요가 없으므로 remove 부분을 삭제함)\n",
    "\n",
    "from itertools import combinations\n",
    "import sys\n",
    "# input = sys.stdin.readline\n",
    "\n",
    "n, m = map(int, input().split())\n",
    "\n",
    "coords_li = [()]\n",
    "for i in range(1, n + 1):\n",
    "    coord = tuple(map(int, input().split()))\n",
    "    coords_li.append(coord)\n",
    "    \n",
    "candidates = list(combinations(range(1, n + 1), 2))\n",
    "parent_li = [i for i in range(0, n + 1)]\n",
    "rank_li = [0] * (n + 1)\n",
    "    \n",
    "    \n",
    "def find(node):\n",
    "    if parent_li[node] == node:\n",
    "        return node\n",
    "    else:\n",
    "        parent_li[node] = find(parent_li[node])\n",
    "        return parent_li[node]\n",
    "    \n",
    "    \n",
    "def union(a, b):\n",
    "    a = find(a)\n",
    "    b = find(b)\n",
    "    \n",
    "    if rank_li[a] >= rank_li[b]:\n",
    "        parent_li[b] = a\n",
    "        \n",
    "        if rank_li[a] == rank_li[b]:\n",
    "            rank_li[a] += 1\n",
    "    else:\n",
    "        parent_li[a] = b\n",
    "        \n",
    "    \n",
    "for _ in range(m):\n",
    "    a, b = tuple(map(int, input().split()))\n",
    "    union(a, b)\n",
    "    \n",
    "        \n",
    "def add_distance(candidate):\n",
    "    a, b = candidate\n",
    "    x1, y1 = coords_li[a]\n",
    "    x2, y2 = coords_li[b]   \n",
    "    dist = ((x2 - x1) ** 2 + (y2 - y1) ** 2) ** (1/2)\n",
    "    return candidate + tuple([dist])\n",
    "\n",
    "\n",
    "for i in range(len(candidates)):\n",
    "    candidates[i] = add_distance(candidates[i])\n",
    "    \n",
    "candidates = sorted(candidates, key=lambda x: x[2])\n",
    "\n",
    "total_dist = 0\n",
    "for candidate in candidates:\n",
    "    a, b, dist = candidate\n",
    "    \n",
    "    if find(a) != find(b):\n",
    "        union(a, b)\n",
    "        total_dist += dist\n",
    "\n",
    "print(\"%.2f\" % total_dist)"
   ]
  },
  {
   "cell_type": "code",
   "execution_count": 3,
   "metadata": {},
   "outputs": [
    {
     "name": "stdout",
     "output_type": "stream",
     "text": [
      "4 1\n",
      "1 1\n",
      "3 1\n",
      "2 3\n",
      "4 3\n",
      "1 4\n",
      "4.00\n"
     ]
    }
   ],
   "source": [
    "# 변경2  (변경1에서 combinations를 직접 구현하면서 distances를 바로바로 추가해줌, 쓸모없는 tuple() 삭제)\n",
    "import sys\n",
    "# input = sys.stdin.readline\n",
    "\n",
    "n, m = map(int, input().split())\n",
    "\n",
    "coords_li = [()]\n",
    "for i in range(1, n + 1):\n",
    "    coord = tuple(map(int, input().split()))\n",
    "    coords_li.append(coord)\n",
    "    \n",
    "\n",
    "def get_distance(a, b):\n",
    "    x1, y1 = coords_li[a]\n",
    "    x2, y2 = coords_li[b]   \n",
    "    dist = ((x2 - x1) ** 2 + (y2 - y1) ** 2) ** (1/2)\n",
    "    return dist\n",
    "\n",
    "candidates = []\n",
    "for i in range(1, n):\n",
    "    for j in range(i + 1, n + 1):\n",
    "        candidates.append((i, j, get_distance(i, j)))\n",
    "    \n",
    "parent_li = [i for i in range(0, n + 1)]\n",
    "rank_li = [0] * (n + 1)\n",
    "    \n",
    "\n",
    "def find(node):\n",
    "    if parent_li[node] == node:\n",
    "        return node\n",
    "    else:\n",
    "        parent_li[node] = find(parent_li[node])\n",
    "        return parent_li[node]\n",
    "    \n",
    "    \n",
    "def union(a, b):\n",
    "    a = find(a)\n",
    "    b = find(b)\n",
    "    \n",
    "    if rank_li[a] >= rank_li[b]:\n",
    "        parent_li[b] = a\n",
    "        \n",
    "        if rank_li[a] == rank_li[b]:\n",
    "            rank_li[a] += 1\n",
    "    else:\n",
    "        parent_li[a] = b\n",
    "        \n",
    "    \n",
    "for _ in range(m):\n",
    "    a, b = map(int, input().split())\n",
    "    union(a, b)\n",
    "    \n",
    "candidates = sorted(candidates, key=lambda x: x[2])\n",
    "\n",
    "total_dist = 0\n",
    "for candidate in candidates:\n",
    "    a, b, dist = candidate\n",
    "    \n",
    "    if find(a) != find(b):\n",
    "        union(a, b)\n",
    "        total_dist += dist\n",
    "\n",
    "print(\"%.2f\" % total_dist)"
   ]
  },
  {
   "cell_type": "code",
   "execution_count": 53,
   "metadata": {},
   "outputs": [
    {
     "data": {
      "text/plain": [
       "'4.00'"
      ]
     },
     "execution_count": 53,
     "metadata": {},
     "output_type": "execute_result"
    }
   ],
   "source": [
    "# 예시 정답\n",
    "\n",
    "import math\n",
    "import sys\n",
    "input = sys.stdin.readline\n",
    "\n",
    "def get_distance(p1, p2):\n",
    "    a = p1[0] - p2[0]\n",
    "    b = p1[1] = p2[1]\n",
    "    return math.sqrt((a * a) + (b * b))\n",
    "\n",
    "def get_parent(parent, n):\n",
    "    if parent[n] == n:\n",
    "        return n\n",
    "    return get_parent(parent, parent[n])\n",
    "\n",
    "def union_parent(parent, a, b):\n",
    "    a = get_parent(parent, a)\n",
    "    b = get_parent(parent, b)\n",
    "    if a < b:\n",
    "        parent[b] = a\n",
    "    else:\n",
    "        parent[a] = b\n",
    "        \n",
    "def find_parent(parent, a, b):\n",
    "    a = get_parent(parent, a)\n",
    "    b = get_parent(parent, b)\n",
    "    if a == b:\n",
    "        return True\n",
    "    else:\n",
    "        return False\n",
    "    \n",
    "edges = []\n",
    "parent = {}\n",
    "locations []\n",
    "n, m = map(int, input().split())\n",
    "\n",
    "for _ in range(n):\n",
    "    x, y = map(int, input().split())\n",
    "    locations.append(x, y)\n",
    "    \n",
    "length = len(locations)\n",
    "\n",
    "for i in range(length - 1):\n",
    "    for j in range(i + 1, length):\n",
    "        edges.append((i + 1, j + 1, get_distance(locations[i], locations[j])))\n",
    "        \n",
    "for i in range(1, n + 1):\n",
    "    union_parent(parent, a, b)\n",
    "    \n",
    "edges.sort(key=lambda data: data[2])\n",
    "\n",
    "result = 0\n",
    "for a, b, cost in edges:\n",
    "    if not find_parent(parent, a, b):\n",
    "        union_parent(parent, a, b)\n",
    "        result += cost\n",
    "        \n",
    "print(\"%0.2f\"% result)"
   ]
  }
 ],
 "metadata": {
  "kernelspec": {
   "display_name": "Python 3",
   "language": "python",
   "name": "python3"
  },
  "language_info": {
   "codemirror_mode": {
    "name": "ipython",
    "version": 3
   },
   "file_extension": ".py",
   "mimetype": "text/x-python",
   "name": "python",
   "nbconvert_exporter": "python",
   "pygments_lexer": "ipython3",
   "version": "3.7.3"
  }
 },
 "nbformat": 4,
 "nbformat_minor": 4
}
