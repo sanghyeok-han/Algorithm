{
 "cells": [
  {
   "cell_type": "markdown",
   "metadata": {},
   "source": [
    "### 열쇠 9328"
   ]
  },
  {
   "cell_type": "raw",
   "metadata": {},
   "source": [
    "먼저 모든 공간을 순회하면서\n",
    "  문서를 만나는 경우 1부터 차례대로 번호를 매김\n",
    "  가장자리에서 열쇠 가진 door 또는 빈 칸을 만나면 queue에 추가해줌\n",
    "  \n",
    "keys는 전역으로 관리함\n",
    "visited에는 keys를 넣음\n",
    "queue는 (x, y)처럼 관리함\n",
    "queue에서 돌면서\n",
    "  키를 발견하면 키를 습득하고 found_door_locs에서 해당 키로 열 수 있는 모든 door들을 추가해줌\n",
    "  문 발견하면 found_door_locs에 추가해줌 또한\n",
    "    키가 있을 시 해당 door로 연결되는 다른 모든 door들을 추가해줌\n",
    "    키가 없을 시 continue\n",
    "  (nx, ny)를 queue에 추가해줌"
   ]
  },
  {
   "cell_type": "code",
   "execution_count": null,
   "metadata": {},
   "outputs": [],
   "source": [
    "\n",
    "all_keys = (1 << len(lowers)) - 1"
   ]
  },
  {
   "cell_type": "code",
   "execution_count": 2,
   "metadata": {},
   "outputs": [
    {
     "name": "stdout",
     "output_type": "stream",
     "text": [
      "1\n",
      "1 6\n",
      "A$*a..\n",
      "0\n",
      "1\n"
     ]
    }
   ],
   "source": [
    "from collections import deque\n",
    "import sys\n",
    "# input = lambda: sys.stdin.readline().rstrip()\n",
    "\n",
    "lowers = 'abcdefghijklmnopqrstuvwxyz'\n",
    "uppers = lowers.upper()\n",
    "d = {v: 1 << lowers.index(v) for v in lowers}\n",
    "    \n",
    "for _ in range(int(input())):\n",
    "    n, m = map(int, input().split())\n",
    "    li = [list(input()) for _ in range(n)]\n",
    "    given = set(input())\n",
    "    \n",
    "    keys = 0\n",
    "    if given != {'0'}:\n",
    "        for key in given:\n",
    "            keys |= d[key]\n",
    "\n",
    "    found_door_locs = {v: set() for v in uppers}\n",
    "    queue = deque()\n",
    "    docu_num = '1'\n",
    "    collected = set()\n",
    "    for i in range(n):\n",
    "        for j in range(m):\n",
    "            if li[i][j] == '$':\n",
    "                li[i][j] = docu_num\n",
    "                docu_num = int(docu_num)\n",
    "                docu_num += 1\n",
    "                docu_num = str(docu_num)\n",
    "            \n",
    "            if i == 0 or i == n - 1 or j == 0 or j == m - 1:\n",
    "                if li[i][j] == '.' or li[i][j].isdigit() or li[i][j].islower():\n",
    "                    queue.append((i, j))\n",
    "                    if li[i][j].isdigit():\n",
    "                        collected.add(li[i][j])\n",
    "                    elif li[i][j].islower():\n",
    "                        keys |= d[li[i][j]]\n",
    "                elif li[i][j].isupper():\n",
    "                    found_door_locs[li[i][j]].add((i, j))\n",
    "                    if li[i][j].lower() in given:\n",
    "                        queue.append((i, j))\n",
    "\n",
    "    visited = [[set() for _ in range(m)] for _ in range(n)]\n",
    "    for x, y in queue:\n",
    "        visited[x][y].add(keys)\n",
    "\n",
    "    dx = [-1, 1, 0, 0]\n",
    "    dy = [0, 0, -1, 1]\n",
    "\n",
    "    while queue:\n",
    "        x, y = queue.popleft()\n",
    "        for i in range(4):\n",
    "            nx = x + dx[i]\n",
    "            ny = y + dy[i]\n",
    "\n",
    "            if nx < 0 or nx >= n or ny < 0 or ny >= m:\n",
    "                continue\n",
    "            if li[nx][ny] == '*':\n",
    "                continue\n",
    "            if keys in visited[nx][ny]:\n",
    "                continue        \n",
    "            visited[nx][ny].add(keys)\n",
    "\n",
    "            if li[nx][ny].isdigit():\n",
    "                collected.add(li[nx][ny])\n",
    "            elif li[nx][ny].isupper():\n",
    "                found_door_locs[li[nx][ny]].add((nx, ny))\n",
    "                if not (d[li[nx][ny].lower()] & keys):\n",
    "                    continue\n",
    "            elif li[nx][ny].islower():\n",
    "                keys |= d[li[nx][ny]]\n",
    "                queue.extend(found_door_locs[li[nx][ny].upper()])\n",
    "            queue.append((nx, ny))\n",
    "\n",
    "    print(len(collected))"
   ]
  },
  {
   "cell_type": "code",
   "execution_count": null,
   "metadata": {},
   "outputs": [],
   "source": [
    "1\n",
    "2 2\n",
    "$$\n",
    "$$\n",
    "abc"
   ]
  },
  {
   "cell_type": "code",
   "execution_count": 8,
   "metadata": {},
   "outputs": [
    {
     "name": "stdout",
     "output_type": "stream",
     "text": [
      "3\n",
      "3\n",
      "3\n",
      "3\n"
     ]
    }
   ],
   "source": [
    "for i in range(n):\n",
    "    for j in range(m):\n",
    "        if i == 0 or i == n - 1 or j == 0 or j == m - 1:\n",
    "            if li[i][j] == '.' or li[i][j].isdigit() or li[i][j].islower():\n",
    "                print(3)"
   ]
  },
  {
   "cell_type": "code",
   "execution_count": 6,
   "metadata": {},
   "outputs": [
    {
     "data": {
      "text/plain": [
       "[['1', '2'], ['3', '4']]"
      ]
     },
     "execution_count": 6,
     "metadata": {},
     "output_type": "execute_result"
    }
   ],
   "source": [
    "li"
   ]
  },
  {
   "cell_type": "code",
   "execution_count": 50,
   "metadata": {},
   "outputs": [
    {
     "data": {
      "text/plain": [
       "deque([(2, 12)])"
      ]
     },
     "execution_count": 50,
     "metadata": {},
     "output_type": "execute_result"
    }
   ],
   "source": [
    "queue"
   ]
  },
  {
   "cell_type": "code",
   "execution_count": 48,
   "metadata": {},
   "outputs": [
    {
     "data": {
      "text/plain": [
       "(2, 12)"
      ]
     },
     "execution_count": 48,
     "metadata": {},
     "output_type": "execute_result"
    }
   ],
   "source": [
    "x, y"
   ]
  },
  {
   "cell_type": "code",
   "execution_count": 45,
   "metadata": {},
   "outputs": [
    {
     "data": {
      "text/plain": [
       "{'0'}"
      ]
     },
     "execution_count": 45,
     "metadata": {},
     "output_type": "execute_result"
    }
   ],
   "source": [
    "given"
   ]
  },
  {
   "cell_type": "code",
   "execution_count": 42,
   "metadata": {},
   "outputs": [
    {
     "data": {
      "text/plain": [
       "{'1', '2', '4'}"
      ]
     },
     "execution_count": 42,
     "metadata": {},
     "output_type": "execute_result"
    }
   ],
   "source": [
    "collected"
   ]
  },
  {
   "cell_type": "code",
   "execution_count": 43,
   "metadata": {},
   "outputs": [
    {
     "name": "stdout",
     "output_type": "stream",
     "text": [
      "['*', '*', '*', '*', '*', '*', '*', '*', '*', '*', '*', '*', '*', '*', '*', '*', '*']\n",
      "['.', '.', '.', '.', '.', '.', '.', '.', '.', '.', '.', '.', '.', '*', '*', '1', '*']\n",
      "['*', 'B', '*', 'A', '*', 'P', '*', 'C', '*', '*', 'X', '*', 'Y', '*', '.', 'X', '.']\n",
      "['*', 'y', '*', 'x', '*', 'a', '*', 'p', '*', '*', '2', '*', '3', '*', '*', '4', '*']\n",
      "['*', '*', '*', '*', '*', '*', '*', '*', '*', '*', '*', '*', '*', '*', '*', '*', '*']\n"
     ]
    }
   ],
   "source": [
    "for v in li:\n",
    "    print(v)"
   ]
  },
  {
   "cell_type": "code",
   "execution_count": 33,
   "metadata": {},
   "outputs": [
    {
     "data": {
      "text/plain": [
       "{'1', '2', '3', '4'}"
      ]
     },
     "execution_count": 33,
     "metadata": {},
     "output_type": "execute_result"
    }
   ],
   "source": [
    "collected"
   ]
  },
  {
   "cell_type": "code",
   "execution_count": null,
   "metadata": {},
   "outputs": [],
   "source": [
    "*****************\n",
    ".............**$*\n",
    "*B*A*P*C**X*Y*.X.\n",
    "*y*x*a*p**$*$**$*\n",
    "*****************"
   ]
  },
  {
   "cell_type": "code",
   "execution_count": null,
   "metadata": {},
   "outputs": [],
   "source": [
    "'s'.isupper"
   ]
  }
 ],
 "metadata": {
  "kernelspec": {
   "display_name": "Python 3",
   "language": "python",
   "name": "python3"
  },
  "language_info": {
   "codemirror_mode": {
    "name": "ipython",
    "version": 3
   },
   "file_extension": ".py",
   "mimetype": "text/x-python",
   "name": "python",
   "nbconvert_exporter": "python",
   "pygments_lexer": "ipython3",
   "version": "3.7.3"
  }
 },
 "nbformat": 4,
 "nbformat_minor": 4
}
