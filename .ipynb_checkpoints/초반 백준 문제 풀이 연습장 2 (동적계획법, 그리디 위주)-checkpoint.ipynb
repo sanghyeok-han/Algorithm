{
 "cells": [
  {
   "cell_type": "markdown",
   "metadata": {},
   "source": [
    "### 나는 위대한 슈퍼스타K 2865\n",
    "- 자료 구조, 그리디, 정렬, 우선순위 큐"
   ]
  },
  {
   "cell_type": "code",
   "execution_count": 2,
   "metadata": {},
   "outputs": [
    {
     "name": "stdout",
     "output_type": "stream",
     "text": [
      "4 4 3\n"
     ]
    }
   ],
   "source": [
    "n, m, k = map(int, input().split())"
   ]
  },
  {
   "cell_type": "code",
   "execution_count": 3,
   "metadata": {},
   "outputs": [
    {
     "name": "stdout",
     "output_type": "stream",
     "text": [
      "4 5.0 2 4.0 3 2.0 1 1.0\n",
      "2 2.0 3 1.0 1 0.5 4 0.3\n",
      "4 6.0 3 5.0 2 2.0 1 0.0\n",
      "1 4.0 2 3.0 4 0.6 3 0.3\n"
     ]
    }
   ],
   "source": [
    "li = []\n",
    "for _ in range(m):\n",
    "    li.append(input())"
   ]
  },
  {
   "cell_type": "code",
   "execution_count": 6,
   "metadata": {},
   "outputs": [],
   "source": [
    "s = \" \".join(li)"
   ]
  },
  {
   "cell_type": "code",
   "execution_count": 9,
   "metadata": {},
   "outputs": [],
   "source": [
    "import re\n",
    "\n",
    "max_scores = []\n",
    "for i in range(1, n + 1):\n",
    "    max_scores.append(max(map(float, re.findall(f\"{i} (\\d+\\.\\d+)\", s))))"
   ]
  },
  {
   "cell_type": "code",
   "execution_count": 11,
   "metadata": {},
   "outputs": [],
   "source": [
    "max_scores.sort(reverse=True)"
   ]
  },
  {
   "cell_type": "code",
   "execution_count": 16,
   "metadata": {},
   "outputs": [],
   "source": [
    "result = sum(max_scores[:k])"
   ]
  },
  {
   "cell_type": "code",
   "execution_count": 58,
   "metadata": {},
   "outputs": [
    {
     "name": "stdout",
     "output_type": "stream",
     "text": [
      "1.2\n"
     ]
    }
   ],
   "source": [
    "result += 1e-9\n",
    "print(round(result, 1))"
   ]
  },
  {
   "cell_type": "code",
   "execution_count": 71,
   "metadata": {},
   "outputs": [
    {
     "name": "stdout",
     "output_type": "stream",
     "text": [
      "2 2 2\n",
      "1 1.5 2 2.5\n",
      "2 3.3 1 2.4\n",
      "5.7\n"
     ]
    }
   ],
   "source": [
    "# 틀렸음\n",
    "import re\n",
    "\n",
    "n, m, k = map(int, input().split())\n",
    "li = []\n",
    "for _ in range(m):\n",
    "    li.append(input())\n",
    "    \n",
    "s = \" \".join(li)\n",
    "max_scores = []\n",
    "for i in range(1, n + 1):\n",
    "    max_scores.append(max(map(float, re.findall(f\"{str(i)} (\\d+\\.\\d+)\", s))))\n",
    "    \n",
    "max_scores.sort(reverse=True)\n",
    "result = sum(max_scores[:k])\n",
    "result += 1e-9\n",
    "print(round(result, 1))"
   ]
  },
  {
   "cell_type": "code",
   "execution_count": 1,
   "metadata": {},
   "outputs": [
    {
     "name": "stdout",
     "output_type": "stream",
     "text": [
      "4 4 3\n",
      "4 5.0 2 4.0 3 2.0 1 1.0\n",
      "2 2.0 3 1.0 1 0.5 4 0.3\n",
      "4 6.0 3 5.0 2 2.0 1 0.0\n",
      "1 4.0 2 3.0 4 0.6 3 0.3\n"
     ]
    }
   ],
   "source": [
    "n, m, k = map(int, input().split())\n",
    "li = []\n",
    "for _ in range(m):\n",
    "    li.append(input().split(' '))"
   ]
  },
  {
   "cell_type": "code",
   "execution_count": 3,
   "metadata": {},
   "outputs": [],
   "source": [
    "from itertools import chain\n",
    "li = list(chain(*li))"
   ]
  },
  {
   "cell_type": "code",
   "execution_count": 9,
   "metadata": {},
   "outputs": [],
   "source": [
    "evens = [v for i, v in enumerate(li) if i % 2 == 0]\n",
    "odds = [v for i, v in enumerate(li) if i % 2 == 1]"
   ]
  },
  {
   "cell_type": "code",
   "execution_count": 44,
   "metadata": {},
   "outputs": [],
   "source": [
    "import heapq\n",
    "\n",
    "evens = list(map(int, evens))\n",
    "odds = list(map(float, odds))\n",
    "heap = list(zip(odds, evens))\n",
    "heapq.heapify(heap)"
   ]
  },
  {
   "cell_type": "code",
   "execution_count": 46,
   "metadata": {},
   "outputs": [],
   "source": [
    "d = {i: 0 for i in range(1, n + 1)}\n",
    "\n",
    "while heap:\n",
    "    ability, num = heapq.heappop(heap)\n",
    "    \n",
    "    if d[num] < ability:\n",
    "        d[num] = ability"
   ]
  },
  {
   "cell_type": "code",
   "execution_count": 56,
   "metadata": {},
   "outputs": [
    {
     "name": "stdout",
     "output_type": "stream",
     "text": [
      "15.0\n"
     ]
    }
   ],
   "source": [
    "result = sum(sorted(d.values(), reverse=True)[:k])\n",
    "result += 1e-15\n",
    "print(round(result, 1))"
   ]
  },
  {
   "cell_type": "code",
   "execution_count": 57,
   "metadata": {},
   "outputs": [
    {
     "name": "stdout",
     "output_type": "stream",
     "text": [
      "2 2 2\n",
      "1 3.4 2 1.2\n",
      "2 1.4 1 4.5\n",
      "5.9\n"
     ]
    }
   ],
   "source": [
    "# 맞았음\n",
    "from itertools import chain\n",
    "import heapq\n",
    "\n",
    "n, m, k = map(int, input().split())\n",
    "li = []\n",
    "for _ in range(m):\n",
    "    li.append(input().split(' '))\n",
    "\n",
    "li = list(chain(*li))\n",
    "\n",
    "evens = [v for i, v in enumerate(li) if i % 2 == 0]\n",
    "odds = [v for i, v in enumerate(li) if i % 2 == 1]\n",
    "\n",
    "evens = list(map(int, evens))\n",
    "odds = list(map(float, odds))\n",
    "heap = list(zip(odds, evens))\n",
    "heapq.heapify(heap)\n",
    "\n",
    "d = {i: 0 for i in range(1, n + 1)}\n",
    "\n",
    "while heap:\n",
    "    ability, num = heapq.heappop(heap)\n",
    "    \n",
    "    if d[num] < ability:\n",
    "        d[num] = ability\n",
    "        \n",
    "result = sum(sorted(d.values(), reverse=True)[:k])\n",
    "result += 1e-15\n",
    "print(round(result, 1))"
   ]
  },
  {
   "cell_type": "markdown",
   "metadata": {},
   "source": [
    "### 도서관 1461\n",
    "- 그리디"
   ]
  },
  {
   "cell_type": "code",
   "execution_count": 58,
   "metadata": {},
   "outputs": [
    {
     "name": "stdout",
     "output_type": "stream",
     "text": [
      "7 2\n"
     ]
    }
   ],
   "source": [
    "n, m = map(int, input().split())"
   ]
  },
  {
   "cell_type": "code",
   "execution_count": 59,
   "metadata": {},
   "outputs": [
    {
     "name": "stdout",
     "output_type": "stream",
     "text": [
      "-37 2 -6 -39 -29 11 -28\n"
     ]
    }
   ],
   "source": [
    "li = list(map(int, input().split()))"
   ]
  },
  {
   "cell_type": "code",
   "execution_count": 95,
   "metadata": {},
   "outputs": [
    {
     "data": {
      "text/plain": [
       "[-39, -37, -29, -28, -6, 2, 11]"
      ]
     },
     "execution_count": 95,
     "metadata": {},
     "output_type": "execute_result"
    }
   ],
   "source": [
    "sorted(li)"
   ]
  },
  {
   "cell_type": "code",
   "execution_count": 87,
   "metadata": {},
   "outputs": [],
   "source": [
    "minuses = sorted([-v for v in li if v < 0])\n",
    "pluses = sorted([v for v in li if v > 0])"
   ]
  },
  {
   "cell_type": "code",
   "execution_count": 88,
   "metadata": {},
   "outputs": [
    {
     "data": {
      "text/plain": [
       "[6, 28, 29, 37, 39]"
      ]
     },
     "execution_count": 88,
     "metadata": {},
     "output_type": "execute_result"
    }
   ],
   "source": [
    "minuses"
   ]
  },
  {
   "cell_type": "code",
   "execution_count": 89,
   "metadata": {},
   "outputs": [
    {
     "data": {
      "text/plain": [
       "[2, 11]"
      ]
     },
     "execution_count": 89,
     "metadata": {},
     "output_type": "execute_result"
    }
   ],
   "source": [
    "pluses"
   ]
  },
  {
   "cell_type": "code",
   "execution_count": 90,
   "metadata": {},
   "outputs": [],
   "source": [
    "count = 0\n",
    "if not minuses or pluses[-1] >= minuses[-1]:\n",
    "    count += pluses[-1]\n",
    "    for _ in range(m):\n",
    "        pluses.pop()\n",
    "        if not pluses:\n",
    "            break\n",
    "elif not pluses or minuses[-1] > pluses[-1]:\n",
    "    count += minuses[-1]\n",
    "    for _ in range(m):\n",
    "        minuses.pop()\n",
    "        if not minuses:\n",
    "            break"
   ]
  },
  {
   "cell_type": "code",
   "execution_count": 91,
   "metadata": {},
   "outputs": [
    {
     "data": {
      "text/plain": [
       "[6, 28, 29]"
      ]
     },
     "execution_count": 91,
     "metadata": {},
     "output_type": "execute_result"
    }
   ],
   "source": [
    "minuses"
   ]
  },
  {
   "cell_type": "code",
   "execution_count": 92,
   "metadata": {},
   "outputs": [
    {
     "data": {
      "text/plain": [
       "[2, 11]"
      ]
     },
     "execution_count": 92,
     "metadata": {},
     "output_type": "execute_result"
    }
   ],
   "source": [
    "pluses"
   ]
  },
  {
   "cell_type": "code",
   "execution_count": 93,
   "metadata": {},
   "outputs": [
    {
     "name": "stdout",
     "output_type": "stream",
     "text": [
      "29\n",
      "6\n",
      "11\n"
     ]
    }
   ],
   "source": [
    "while minuses:\n",
    "    count += 2 * minuses[-1]\n",
    "    print(minuses[-1])\n",
    "    for _ in range(m):\n",
    "        minuses.pop()\n",
    "        if not minuses:\n",
    "            break\n",
    "            \n",
    "while pluses:\n",
    "    count += 2 * pluses[-1]\n",
    "    print(pluses[-1])\n",
    "    for _ in range(m):\n",
    "        pluses.pop()\n",
    "        if not pluses:\n",
    "            break"
   ]
  },
  {
   "cell_type": "code",
   "execution_count": 85,
   "metadata": {},
   "outputs": [
    {
     "data": {
      "text/plain": [
       "92"
      ]
     },
     "execution_count": 85,
     "metadata": {},
     "output_type": "execute_result"
    }
   ],
   "source": [
    "count"
   ]
  },
  {
   "cell_type": "code",
   "execution_count": 96,
   "metadata": {},
   "outputs": [
    {
     "data": {
      "text/plain": [
       "131"
      ]
     },
     "execution_count": 96,
     "metadata": {},
     "output_type": "execute_result"
    }
   ],
   "source": [
    "29 + 29 + 6 + 6 + 11 + 11 + 39"
   ]
  },
  {
   "cell_type": "code",
   "execution_count": 108,
   "metadata": {},
   "outputs": [
    {
     "name": "stdout",
     "output_type": "stream",
     "text": [
      "4 2\n",
      "-4 -3 -2 -1\n",
      "8\n"
     ]
    }
   ],
   "source": [
    "n, m = map(int, input().split())\n",
    "li = list(map(int, input().split()))\n",
    "\n",
    "minuses = sorted([-v for v in li if v < 0])\n",
    "pluses = sorted([v for v in li if v > 0])\n",
    "\n",
    "count = 0\n",
    "if not minuses:\n",
    "    count += pluses[-1]\n",
    "    for _ in range(m):\n",
    "        pluses.pop()\n",
    "        if not pluses:\n",
    "            break\n",
    "elif not pluses:\n",
    "    count += minuses[-1]\n",
    "    for _ in range(m):\n",
    "        minuses.pop()\n",
    "        if not minuses:\n",
    "            break\n",
    "elif pluses[-1] >= minuses[-1]:\n",
    "    count += pluses[-1]\n",
    "    for _ in range(m):\n",
    "        pluses.pop()\n",
    "        if not pluses:\n",
    "            break\n",
    "elif minuses[-1] > pluses[-1]:\n",
    "    count += minuses[-1]\n",
    "    for _ in range(m):\n",
    "        minuses.pop()\n",
    "        if not minuses:\n",
    "            break\n",
    "\n",
    "while minuses:\n",
    "    count += 2 * minuses[-1]\n",
    "    for _ in range(m):\n",
    "        minuses.pop()\n",
    "        if not minuses:\n",
    "            break\n",
    "            \n",
    "while pluses:\n",
    "    count += 2 * pluses[-1]\n",
    "    for _ in range(m):\n",
    "        pluses.pop()\n",
    "        if not pluses:\n",
    "            break\n",
    "            \n",
    "print(count)"
   ]
  },
  {
   "cell_type": "code",
   "execution_count": 113,
   "metadata": {},
   "outputs": [
    {
     "ename": "KeyboardInterrupt",
     "evalue": "",
     "output_type": "error",
     "traceback": [
      "\u001b[1;31m---------------------------------------------------------------------------\u001b[0m",
      "\u001b[1;31mKeyboardInterrupt\u001b[0m                         Traceback (most recent call last)",
      "\u001b[1;32m<ipython-input-113-b720dfb88603>\u001b[0m in \u001b[0;36m<module>\u001b[1;34m\u001b[0m\n\u001b[0;32m      1\u001b[0m \u001b[1;32mimport\u001b[0m \u001b[0mtime\u001b[0m\u001b[1;33m\u001b[0m\u001b[1;33m\u001b[0m\u001b[0m\n\u001b[0;32m      2\u001b[0m \u001b[1;32mwhile\u001b[0m \u001b[1;32mTrue\u001b[0m\u001b[1;33m:\u001b[0m\u001b[1;33m\u001b[0m\u001b[1;33m\u001b[0m\u001b[0m\n\u001b[1;32m----> 3\u001b[1;33m     \u001b[0mtime\u001b[0m\u001b[1;33m.\u001b[0m\u001b[0msleep\u001b[0m\u001b[1;33m(\u001b[0m\u001b[1;36m0.5\u001b[0m\u001b[1;33m)\u001b[0m\u001b[1;33m\u001b[0m\u001b[1;33m\u001b[0m\u001b[0m\n\u001b[0m",
      "\u001b[1;31mKeyboardInterrupt\u001b[0m: "
     ]
    }
   ],
   "source": [
    "import time\n",
    "while True:\n",
    "    time.sleep(0.5)"
   ]
  },
  {
   "cell_type": "markdown",
   "metadata": {},
   "source": [
    "### BABBA 9625\n",
    "- 다이나믹 프로그래밍"
   ]
  },
  {
   "cell_type": "code",
   "execution_count": 10,
   "metadata": {},
   "outputs": [
    {
     "name": "stdout",
     "output_type": "stream",
     "text": [
      "1\n",
      "0 1\n"
     ]
    }
   ],
   "source": [
    "a, b = 1, 0\n",
    "\n",
    "k = int(input())\n",
    "\n",
    "for _ in range(k):\n",
    "    a, b = b, a + b\n",
    "    \n",
    "print(a, b)"
   ]
  },
  {
   "cell_type": "markdown",
   "metadata": {},
   "source": [
    "### 타일 장식물 13301"
   ]
  },
  {
   "cell_type": "code",
   "execution_count": 18,
   "metadata": {},
   "outputs": [
    {
     "name": "stdout",
     "output_type": "stream",
     "text": [
      "2\n",
      "6\n"
     ]
    }
   ],
   "source": [
    "dp = [1, 1, 2]\n",
    "\n",
    "n = int(input())\n",
    "\n",
    "for _ in range(3, n + 1):\n",
    "    dp.append(dp[-2] + dp[-1])\n",
    "    \n",
    "print((dp[n - 1] + dp[n]) * 2)"
   ]
  },
  {
   "cell_type": "markdown",
   "metadata": {},
   "source": [
    "### 퇴사 14501\n",
    "- 다이다믹 프로그래밍, 브루트포스"
   ]
  },
  {
   "cell_type": "code",
   "execution_count": 24,
   "metadata": {},
   "outputs": [
    {
     "name": "stdout",
     "output_type": "stream",
     "text": [
      "1\n",
      "2 20\n",
      "0\n"
     ]
    }
   ],
   "source": [
    "n = int(input())\n",
    "\n",
    "li = []\n",
    "for i in range(n):\n",
    "    term, price = map(int, input().split())\n",
    "    if i == 0:\n",
    "        li = [[term, price], [0, 0]]\n",
    "    else:\n",
    "        no_0 = [[v[0] - 1, v[1]] for v in li if v[0] != 0]\n",
    "        yes_0 = [v for v in li if v[0] == 0]\n",
    "        \n",
    "        became_0 = [v for v in no_0 if v[0] == 0]\n",
    "        remain_no_0 = [v for v in no_0 if v[0] != 0]\n",
    "\n",
    "        total_0 = yes_0 + became_0\n",
    "        total_0.sort(key=lambda x: x[1], reverse=True)\n",
    "        max_0 = total_0[0]\n",
    "        li = remain_no_0 + [max_0, [term + max_0[0], price + max_0[1]]]\n",
    "        \n",
    "result_li = [v for v in li if v[0] <= 1]\n",
    "result_li.sort(key=lambda x: x[1], reverse=True)\n",
    "print(result_li[0][1])"
   ]
  },
  {
   "cell_type": "markdown",
   "metadata": {},
   "source": [
    "### 다리 놓기 1010\n",
    "- 수학, 다이나믹 프로그래밍, 조합론"
   ]
  },
  {
   "cell_type": "code",
   "execution_count": 25,
   "metadata": {},
   "outputs": [],
   "source": [
    "n, m = 1, 5"
   ]
  },
  {
   "cell_type": "code",
   "execution_count": null,
   "metadata": {},
   "outputs": [],
   "source": [
    "m C n"
   ]
  },
  {
   "cell_type": "code",
   "execution_count": 29,
   "metadata": {},
   "outputs": [],
   "source": [
    "nom_set = set([i for i in range(m, m - n, -1)])\n",
    "denom_set = set([i for i in range(1, n + 1)])\n",
    "\n",
    "nom_set -= denom_set\n",
    "denom_set -= nom_set"
   ]
  },
  {
   "cell_type": "code",
   "execution_count": 62,
   "metadata": {},
   "outputs": [
    {
     "name": "stdout",
     "output_type": "stream",
     "text": [
      "2\n",
      "2 3\n",
      "3\n",
      "2 2\n",
      "1\n"
     ]
    }
   ],
   "source": [
    "from functools import reduce\n",
    "\n",
    "T = int(input())\n",
    "\n",
    "for _ in range(T):\n",
    "    n, m = map(int, input().split())\n",
    "\n",
    "    if n == m:\n",
    "        print(1)\n",
    "    else:\n",
    "        nom_set = set([i for i in range(m, m - n, -1)])\n",
    "        denom_set = set([i for i in range(1, n + 1)])\n",
    "\n",
    "        common_set = nom_set & denom_set\n",
    "        nom_set -= common_set\n",
    "        denom_set -= common_set \n",
    "\n",
    "        nom = reduce(lambda x, y: x * y, nom_set)\n",
    "        denom = reduce(lambda x, y: x * y, denom_set)\n",
    "\n",
    "        print(nom // denom)"
   ]
  },
  {
   "cell_type": "markdown",
   "metadata": {},
   "source": [
    "### 돌 게임 9655"
   ]
  },
  {
   "cell_type": "code",
   "execution_count": 63,
   "metadata": {},
   "outputs": [
    {
     "name": "stdout",
     "output_type": "stream",
     "text": [
      "5\n",
      "SK\n"
     ]
    }
   ],
   "source": [
    "n = int(input())\n",
    "if n % 2 == 1:\n",
    "    print('SK')\n",
    "else:\n",
    "    print('CY')"
   ]
  },
  {
   "cell_type": "code",
   "execution_count": 78,
   "metadata": {},
   "outputs": [
    {
     "name": "stdout",
     "output_type": "stream",
     "text": [
      "3\n",
      "SK\n"
     ]
    }
   ],
   "source": [
    "# 숏코딩\n",
    "(lambda x:print('SK')if x%2==1 else print('CY'))(int(input()))"
   ]
  },
  {
   "cell_type": "markdown",
   "metadata": {},
   "source": [
    "### 파스칼 삼각형 15489\n",
    "- 다이나믹 프로그래밍"
   ]
  },
  {
   "cell_type": "code",
   "execution_count": 92,
   "metadata": {},
   "outputs": [
    {
     "name": "stdout",
     "output_type": "stream",
     "text": [
      "3 1 4\n"
     ]
    }
   ],
   "source": [
    "r, c, w = map(int, input().split())"
   ]
  },
  {
   "cell_type": "code",
   "execution_count": 90,
   "metadata": {},
   "outputs": [],
   "source": [
    "li = [[1], [1, 1]]\n",
    "for _ in range(28):\n",
    "    value = li[-1]\n",
    "    new_value = []\n",
    "    for i in range(len(value) - 1):\n",
    "        new_value.append(value[i] + value[i + 1])\n",
    "    new_value = [1] + new_value + [1]\n",
    "    li.append(new_value)"
   ]
  },
  {
   "cell_type": "code",
   "execution_count": 96,
   "metadata": {},
   "outputs": [
    {
     "name": "stdout",
     "output_type": "stream",
     "text": [
      "42\n"
     ]
    }
   ],
   "source": [
    "count = 1\n",
    "total = 0\n",
    "for i in range(r - 1, r - 1 + w):\n",
    "    total += sum(li[i][c - 1:c - 1 + count])\n",
    "    count += 1\n",
    "    \n",
    "print(total)"
   ]
  },
  {
   "cell_type": "code",
   "execution_count": 97,
   "metadata": {},
   "outputs": [
    {
     "name": "stdout",
     "output_type": "stream",
     "text": [
      "3 1 4\n",
      "42\n"
     ]
    }
   ],
   "source": [
    "r, c, w = map(int, input().split())\n",
    "\n",
    "li = [[1], [1, 1]]\n",
    "for _ in range(28):\n",
    "    value = li[-1]\n",
    "    new_value = []\n",
    "    for i in range(len(value) - 1):\n",
    "        new_value.append(value[i] + value[i + 1])\n",
    "    new_value = [1] + new_value + [1]\n",
    "    li.append(new_value)\n",
    "    \n",
    "count = 1\n",
    "total = 0\n",
    "for i in range(r - 1, r - 1 + w):\n",
    "    total += sum(li[i][c - 1:c - 1 + count])\n",
    "    count += 1\n",
    "    \n",
    "print(total)"
   ]
  },
  {
   "cell_type": "markdown",
   "metadata": {},
   "source": [
    "### 투자의 귀재 배주형 19947\n",
    "- 다이다믹 프로그래밍"
   ]
  },
  {
   "cell_type": "code",
   "execution_count": 117,
   "metadata": {},
   "outputs": [
    {
     "name": "stdout",
     "output_type": "stream",
     "text": [
      "25542 10\n"
     ]
    }
   ],
   "source": [
    "h, y = map(int, input().split())"
   ]
  },
  {
   "cell_type": "code",
   "execution_count": 173,
   "metadata": {},
   "outputs": [
    {
     "name": "stdout",
     "output_type": "stream",
     "text": [
      "25542 10\n",
      "46550\n"
     ]
    }
   ],
   "source": [
    "# 소수점에서 예시와 차이가 나는데 이유 파악 못했음. 일단 포기\n",
    "h, y = map(int, input().split())\n",
    "\n",
    "dp = []\n",
    "for i in range(y + 1):\n",
    "    if i == 0:\n",
    "        dp.append((h, 0, 0))\n",
    "    elif i <= 2:\n",
    "        dp.append((max(dp[-1]) * 1.05, 0, 0))\n",
    "    elif 3 <= i <= 4:\n",
    "        dp.append((max(dp[-1]) * 1.05, max(dp[-3]) * 1.2, 0))\n",
    "    else:\n",
    "        dp.append((max(dp[-1]) * 1.05, max(dp[-3]) * 1.2, max(dp[-5]) * 1.35))\n",
    "        \n",
    "print(int(max(dp[-1])))"
   ]
  },
  {
   "cell_type": "markdown",
   "metadata": {},
   "source": [
    "### 연속부분최대곱 2670\n",
    "- 다이나믹 프로그래밍"
   ]
  },
  {
   "cell_type": "code",
   "execution_count": 174,
   "metadata": {},
   "outputs": [
    {
     "name": "stdout",
     "output_type": "stream",
     "text": [
      "8\n",
      "1.1\n",
      "0.7\n",
      "1.3\n",
      "0.9\n",
      "1.4\n",
      "0.8\n",
      "0.7\n",
      "1.4\n"
     ]
    }
   ],
   "source": [
    "n = int(input())\n",
    "\n",
    "li = []\n",
    "for _ in range(n):\n",
    "    li.append(float(input()))"
   ]
  },
  {
   "cell_type": "code",
   "execution_count": 175,
   "metadata": {},
   "outputs": [
    {
     "data": {
      "text/plain": [
       "[1.1, 0.7, 1.3, 0.9, 1.4, 0.8, 0.7, 1.4]"
      ]
     },
     "execution_count": 175,
     "metadata": {},
     "output_type": "execute_result"
    }
   ],
   "source": [
    "li"
   ]
  },
  {
   "cell_type": "code",
   "execution_count": 191,
   "metadata": {},
   "outputs": [],
   "source": [
    "dp = [(1, 1, 1)]"
   ]
  },
  {
   "cell_type": "code",
   "execution_count": 182,
   "metadata": {},
   "outputs": [],
   "source": [
    "for v in li:\n",
    "    dp.append((v, max(dp[-1]) * v))"
   ]
  },
  {
   "cell_type": "code",
   "execution_count": 190,
   "metadata": {},
   "outputs": [
    {
     "data": {
      "text/plain": [
       "1.638"
      ]
     },
     "execution_count": 190,
     "metadata": {},
     "output_type": "execute_result"
    }
   ],
   "source": [
    "from itertools import chain\n",
    "\n",
    "round(max(tuple(chain(*dp))) + 1e-8, 3)"
   ]
  },
  {
   "cell_type": "code",
   "execution_count": 211,
   "metadata": {},
   "outputs": [
    {
     "name": "stdout",
     "output_type": "stream",
     "text": [
      "2\n",
      "1\n",
      "3\n",
      "3.000\n"
     ]
    }
   ],
   "source": [
    "from decimal import Decimal, getcontext\n",
    "from itertools import chain\n",
    "import sys\n",
    "getcontext().prec = 1000\n",
    "# input = sys.stdin.readline\n",
    "\n",
    "n = int(input())\n",
    "\n",
    "li = []\n",
    "for _ in range(n):\n",
    "    li.append(Decimal(float(input())))\n",
    "\n",
    "dp = []\n",
    "for i in range(len(li)):\n",
    "    if i == 0:\n",
    "        dp.append((Decimal(li[0]), Decimal(li[0])))\n",
    "    else:\n",
    "        dp.append((Decimal(li[i]), Decimal(max(dp[-1])) * Decimal(li[i])))\n",
    "        \n",
    "print(round(max(tuple(chain(*dp))), 3))"
   ]
  },
  {
   "cell_type": "code",
   "execution_count": 197,
   "metadata": {},
   "outputs": [
    {
     "name": "stdout",
     "output_type": "stream",
     "text": [
      "1.638\n"
     ]
    }
   ],
   "source": [
    "dp = []\n",
    "for i in range(len(li)):\n",
    "    if i == 0:\n",
    "        dp.append((li[0], li[0]))\n",
    "    else:\n",
    "        dp.append((li[i], max(dp[-1]) * li[i]))\n",
    "        \n",
    "print(round(max(tuple(chain(*dp))) + 1e-8, 3))"
   ]
  },
  {
   "cell_type": "markdown",
   "metadata": {},
   "source": [
    "##### 다른 사람 중 .format으로 맞은 사람 있음"
   ]
  },
  {
   "cell_type": "markdown",
   "metadata": {},
   "source": [
    "### 악수 8394\n",
    "- 다이나믹 프로그래밍"
   ]
  },
  {
   "cell_type": "code",
   "execution_count": 227,
   "metadata": {},
   "outputs": [
    {
     "name": "stdout",
     "output_type": "stream",
     "text": [
      "23\n",
      "8\n"
     ]
    }
   ],
   "source": [
    "n = int(input())\n",
    "\n",
    "if n == 1:\n",
    "    print(0)\n",
    "else:\n",
    "    a = b = 1\n",
    "    for _ in range(n - 2):\n",
    "        a, b = a + b, a\n",
    "        a %= 10\n",
    "        b %= 10\n",
    "        \n",
    "    print((a + b) % 10)"
   ]
  },
  {
   "cell_type": "markdown",
   "metadata": {},
   "source": [
    "### 점화식 13699\n",
    "- 다이나믹 프로그래밍"
   ]
  },
  {
   "cell_type": "code",
   "execution_count": 236,
   "metadata": {},
   "outputs": [
    {
     "name": "stdout",
     "output_type": "stream",
     "text": [
      "3\n",
      "5\n"
     ]
    }
   ],
   "source": [
    "n = int(input())\n",
    "\n",
    "def func(i):\n",
    "    total = 0\n",
    "    for j in range(i):\n",
    "        total += dp[j] * dp[i - 1 - j]\n",
    "    dp.append(total)\n",
    "\n",
    "    \n",
    "dp = [1]\n",
    "\n",
    "for i in range(1, 36):\n",
    "    func(i)\n",
    "    \n",
    "print(dp[n])"
   ]
  },
  {
   "cell_type": "markdown",
   "metadata": {},
   "source": [
    "### 1, 2, 3 더하기 9095 (다시 풀음)\n",
    "- 다이나믹 프로그래밍"
   ]
  },
  {
   "cell_type": "code",
   "execution_count": 244,
   "metadata": {},
   "outputs": [
    {
     "name": "stdout",
     "output_type": "stream",
     "text": [
      "2\n",
      "1\n",
      "1\n",
      "3\n",
      "4\n"
     ]
    }
   ],
   "source": [
    "n = 10\n",
    "dp = [1, 2, 4]\n",
    "\n",
    "for _ in range(n - 3):\n",
    "    dp.append(sum(dp[-3:]))\n",
    "\n",
    "T = int(input())\n",
    "\n",
    "for _ in range(T):\n",
    "    print(dp[int(input()) - 1])"
   ]
  },
  {
   "cell_type": "markdown",
   "metadata": {},
   "source": [
    "### 1, 2, 3 더하기 3 15988\n",
    "- 다이나믹 프로그래밍"
   ]
  },
  {
   "cell_type": "code",
   "execution_count": 245,
   "metadata": {},
   "outputs": [
    {
     "name": "stdout",
     "output_type": "stream",
     "text": [
      "3\n",
      "4\n",
      "7\n",
      "7\n",
      "44\n",
      "10\n",
      "274\n"
     ]
    }
   ],
   "source": [
    "n = 1000000\n",
    "dp = [1, 2, 4]\n",
    "\n",
    "for _ in range(n - 3):\n",
    "    dp.append(sum(dp[-3:]) % 1000000009)\n",
    "\n",
    "T = int(input())\n",
    "\n",
    "for _ in range(T):\n",
    "    print(dp[int(input()) - 1])"
   ]
  },
  {
   "cell_type": "markdown",
   "metadata": {},
   "source": [
    "### 1, 2, 3 더하기 4 15989\n",
    "- 다이나믹 프로그래밍"
   ]
  },
  {
   "cell_type": "code",
   "execution_count": 258,
   "metadata": {},
   "outputs": [
    {
     "name": "stdout",
     "output_type": "stream",
     "text": [
      "3\n",
      "4\n",
      "4\n",
      "7\n",
      "8\n",
      "10\n",
      "14\n"
     ]
    }
   ],
   "source": [
    "dp = [1, 2, 3]\n",
    "\n",
    "count_1 = 1\n",
    "for i in range(4, 10001):\n",
    "    count_2 = i // 2\n",
    "    count_3 = dp[i - 4]\n",
    "    dp.append(count_1 + count_2 + count_3)\n",
    "    \n",
    "T = int(input())\n",
    "\n",
    "for _ in range(T):\n",
    "    n = int(input())\n",
    "    print(dp[n - 1])"
   ]
  },
  {
   "cell_type": "markdown",
   "metadata": {},
   "source": [
    "### 다이나믹이 뭐예요? 14494\n",
    "- 다이나믹 프로그래밍"
   ]
  },
  {
   "cell_type": "code",
   "execution_count": 259,
   "metadata": {},
   "outputs": [],
   "source": [
    "dp = [[1] * 1001 for _ in range(1001)]"
   ]
  },
  {
   "cell_type": "code",
   "execution_count": 262,
   "metadata": {},
   "outputs": [],
   "source": [
    "for i in range(2, 1001):\n",
    "    for j in range(2, 1001):\n",
    "        dp[i][j] = (dp[i - 1][j] + dp[i][j - 1] + dp[i - 1][j - 1]) % 1000000007"
   ]
  },
  {
   "cell_type": "code",
   "execution_count": 266,
   "metadata": {},
   "outputs": [
    {
     "data": {
      "text/plain": [
       "910657857"
      ]
     },
     "execution_count": 266,
     "metadata": {},
     "output_type": "execute_result"
    }
   ],
   "source": [
    "dp[1000][1000]"
   ]
  },
  {
   "cell_type": "code",
   "execution_count": 267,
   "metadata": {},
   "outputs": [
    {
     "name": "stdout",
     "output_type": "stream",
     "text": [
      "1000 1000\n",
      "910657857\n"
     ]
    }
   ],
   "source": [
    "dp = [[1] * 1001 for _ in range(1001)]\n",
    "\n",
    "for i in range(2, 1001):\n",
    "    for j in range(2, 1001):\n",
    "        dp[i][j] = (dp[i - 1][j] + dp[i][j - 1] + dp[i - 1][j - 1]) % 1000000007\n",
    "        \n",
    "n, m = map(int, input().split())\n",
    "print(dp[n][m])"
   ]
  },
  {
   "cell_type": "markdown",
   "metadata": {},
   "source": [
    "### 하와와 대학생쨩 하와이로 가는 거시와요~ 16456"
   ]
  },
  {
   "cell_type": "code",
   "execution_count": 279,
   "metadata": {},
   "outputs": [
    {
     "name": "stdout",
     "output_type": "stream",
     "text": [
      "5\n",
      "4\n"
     ]
    }
   ],
   "source": [
    "n = int(input())\n",
    "\n",
    "if n <= 2:\n",
    "    print(1)\n",
    "else:\n",
    "    dp = (1, 1, 0, 0) # (1, 출발 2, 복귀 2, -1)\n",
    "    for _ in range(n - 2):\n",
    "        value = (dp[0] + dp[2]) % 1000000009\n",
    "        dp = (value, value, dp[3] % 1000000009, dp[1] % 1000000009)\n",
    "    print((dp[0] + dp[2] + dp[3]) % 1000000009)"
   ]
  },
  {
   "cell_type": "code",
   "execution_count": null,
   "metadata": {},
   "outputs": [],
   "source": [
    "### 다른 사람 코드 (cereme)\n",
    "\n",
    "import sys\n",
    "sys.setrecursionlimit(1000000)\n",
    "memo = [None] * 500001\n",
    "memo[0] = 1\n",
    "memo[1] = 1\n",
    "memo[2] = 2\n",
    "\n",
    "def get_hawawa(n):\n",
    "    if memo[n] is not None:\n",
    "        return memo[n]\n",
    "    memo[n] = get_hawawa(n-1) + get_hawawa(n-3)\n",
    "    return memo[n]\n",
    "\n",
    "print(get_hawawa(int(input())-1)%1000000009)"
   ]
  },
  {
   "cell_type": "markdown",
   "metadata": {},
   "source": [
    "### 타일 채우기 2133\n",
    "- 다이나믹 프로그래밍"
   ]
  },
  {
   "cell_type": "code",
   "execution_count": null,
   "metadata": {},
   "outputs": [],
   "source": [
    "n = int(input())\n",
    "\n",
    "if n % 2 == 1:\n",
    "    print(0)\n",
    "else:\n",
    "    d = {2: 3, 4: 11} \n",
    "    "
   ]
  },
  {
   "cell_type": "code",
   "execution_count": 2,
   "metadata": {},
   "outputs": [],
   "source": [
    "d = {2: 3, 4: 11}"
   ]
  },
  {
   "cell_type": "code",
   "execution_count": 21,
   "metadata": {},
   "outputs": [],
   "source": [
    "d[4] = d[2] ** 2 + 2\n",
    "d[6] = d[2] ** 3 + d[2] * 2 * 2 + 2\n",
    "d[6] = d[2] ** 3 + d[2] * 6 + 2\n",
    "d[8] = d[2] ** 4 + d[2] * 2 * 2 + 2 * 2 + d[2] ** 2 * 2 * 3 + 2\n",
    "d[8] = d[2] ** 4 + d[2] ** 3 * 2 + d[2] * 2 * 2 + 2 * 2 + 2\n",
    "\n",
    "d[10]"
   ]
  },
  {
   "cell_type": "code",
   "execution_count": 24,
   "metadata": {},
   "outputs": [
    {
     "data": {
      "text/plain": [
       "{2: 3, 4: 11, 6: 41, 8: 153}"
      ]
     },
     "execution_count": 24,
     "metadata": {},
     "output_type": "execute_result"
    }
   ],
   "source": [
    "dd[4] "
   ]
  },
  {
   "cell_type": "code",
   "execution_count": 25,
   "metadata": {},
   "outputs": [
    {
     "data": {
      "text/plain": [
       "41"
      ]
     },
     "execution_count": 25,
     "metadata": {},
     "output_type": "execute_result"
    }
   ],
   "source": [
    "d[4] * 3 + 3 * 2 + 2 "
   ]
  },
  {
   "cell_type": "code",
   "execution_count": 26,
   "metadata": {},
   "outputs": [
    {
     "data": {
      "text/plain": [
       "135"
      ]
     },
     "execution_count": 26,
     "metadata": {},
     "output_type": "execute_result"
    }
   ],
   "source": [
    "d[6] * 3 + 3 * 2 + 2 * 2 + 2"
   ]
  },
  {
   "cell_type": "code",
   "execution_count": 23,
   "metadata": {},
   "outputs": [
    {
     "data": {
      "text/plain": [
       "153"
      ]
     },
     "execution_count": 23,
     "metadata": {},
     "output_type": "execute_result"
    }
   ],
   "source": [
    "d[2] ** 4 + d[2] * 2 * 2 + 2 * 2 + d[2] ** 2 * 2 * 3 + 2"
   ]
  },
  {
   "cell_type": "code",
   "execution_count": 27,
   "metadata": {},
   "outputs": [
    {
     "data": {
      "text/plain": [
       "135"
      ]
     },
     "execution_count": 27,
     "metadata": {},
     "output_type": "execute_result"
    }
   ],
   "source": [
    "d[4] ** 2 + 3 * 2 * 2 + 2"
   ]
  },
  {
   "cell_type": "code",
   "execution_count": 29,
   "metadata": {},
   "outputs": [
    {
     "data": {
      "text/plain": [
       "153"
      ]
     },
     "execution_count": 29,
     "metadata": {},
     "output_type": "execute_result"
    }
   ],
   "source": [
    "d[6] * 3 + d[4] * 2 + 2 * 3 + 2"
   ]
  },
  {
   "cell_type": "code",
   "execution_count": 34,
   "metadata": {},
   "outputs": [
    {
     "name": "stdout",
     "output_type": "stream",
     "text": [
      "3\n",
      "0\n"
     ]
    }
   ],
   "source": [
    "n = int(input())\n",
    "\n",
    "if n % 2 == 1:\n",
    "    print(0)\n",
    "else:\n",
    "    d = {2: 3} \n",
    "    for i in range(4, 31, 2):\n",
    "        total = d[i - 2] * d[2]\n",
    "        for j in range(i - 4, 1, -2):\n",
    "            total += d[j] * 2\n",
    "        total += 2\n",
    "        d[i] = total\n",
    "        \n",
    "    print(d[n])"
   ]
  },
  {
   "cell_type": "markdown",
   "metadata": {},
   "source": [
    "### 타일링 1793\n",
    "- 다이나믹 프로그래밍"
   ]
  },
  {
   "cell_type": "markdown",
   "metadata": {},
   "source": [
    "2:46 3.11"
   ]
  },
  {
   "cell_type": "code",
   "execution_count": 2,
   "metadata": {},
   "outputs": [
    {
     "name": "stdout",
     "output_type": "stream",
     "text": [
      "0\n",
      "0\n",
      "0\n",
      "0\n",
      "1\n",
      "1\n",
      "2\n"
     ]
    }
   ],
   "source": [
    "d = {2: 3, 3: 5}\n",
    "for i in range(4, 251):\n",
    "    d[i] = d[i - 1] + d[i - 2] * 2\n",
    "\n",
    "while True:\n",
    "    try:\n",
    "        n = int(input())\n",
    "        if n <= 1:\n",
    "            print(1)\n",
    "        else:\n",
    "            print(d[n])\n",
    "    except:\n",
    "        break"
   ]
  },
  {
   "cell_type": "markdown",
   "metadata": {},
   "source": [
    "### 2×n 타일링 2 11727\n",
    "- 다이나믹 프로그래밍"
   ]
  },
  {
   "cell_type": "code",
   "execution_count": 6,
   "metadata": {},
   "outputs": [
    {
     "name": "stdout",
     "output_type": "stream",
     "text": [
      "9\n",
      "341\n"
     ]
    }
   ],
   "source": [
    "n = int(input())\n",
    "\n",
    "if n == 1:\n",
    "    print(1)\n",
    "else:\n",
    "    d = {2: 3, 3: 5}\n",
    "    for i in range(4, 1001):\n",
    "        d[i] = (d[i - 1] + d[i - 2] * 2) % 10007\n",
    "    print(d[n])"
   ]
  },
  {
   "cell_type": "markdown",
   "metadata": {},
   "source": [
    "### 가장 큰 정사각형 1915\n",
    "- 다이나믹 프로그래밍"
   ]
  },
  {
   "cell_type": "markdown",
   "metadata": {},
   "source": [
    "3:38 4:14"
   ]
  },
  {
   "cell_type": "code",
   "execution_count": 1,
   "metadata": {},
   "outputs": [
    {
     "name": "stdout",
     "output_type": "stream",
     "text": [
      "5 7\n"
     ]
    }
   ],
   "source": [
    "n, m = map(int, input().split())"
   ]
  },
  {
   "cell_type": "code",
   "execution_count": 6,
   "metadata": {},
   "outputs": [
    {
     "name": "stdout",
     "output_type": "stream",
     "text": [
      "1111011\n",
      "1101111\n",
      "1111111\n",
      "1010111\n",
      "1111111\n"
     ]
    }
   ],
   "source": [
    "li = []\n",
    "for _ in range(n):\n",
    "    li.append(list(map(int, list(input()))))"
   ]
  },
  {
   "cell_type": "code",
   "execution_count": 27,
   "metadata": {},
   "outputs": [],
   "source": [
    "dp = [[0] * m] \n",
    "for v in li:\n",
    "    new = dp[-1][:]\n",
    "    for i, num in enumerate(v):\n",
    "        if num == '1':\n",
    "            new[i] += 1\n",
    "        else:\n",
    "            new[i] = 0\n",
    "    dp.append(new)"
   ]
  },
  {
   "cell_type": "code",
   "execution_count": 28,
   "metadata": {},
   "outputs": [
    {
     "data": {
      "text/plain": [
       "[[0, 0, 0, 0, 0, 0, 0],\n",
       " [1, 1, 1, 1, 0, 1, 1],\n",
       " [2, 2, 0, 2, 1, 2, 2],\n",
       " [3, 3, 1, 3, 2, 3, 3],\n",
       " [4, 0, 2, 0, 3, 4, 4],\n",
       " [5, 1, 3, 1, 4, 5, 5]]"
      ]
     },
     "execution_count": 28,
     "metadata": {},
     "output_type": "execute_result"
    }
   ],
   "source": [
    "dp"
   ]
  },
  {
   "cell_type": "code",
   "execution_count": 32,
   "metadata": {},
   "outputs": [],
   "source": [
    "flattened_dp = []\n",
    "for v in dp:\n",
    "    flattened_dp.extend(v)\n",
    "    flattened_dp += [0]"
   ]
  },
  {
   "cell_type": "code",
   "execution_count": 33,
   "metadata": {},
   "outputs": [],
   "source": [
    "s = \"\".join(map(str, flattened_dp))"
   ]
  },
  {
   "cell_type": "code",
   "execution_count": 35,
   "metadata": {},
   "outputs": [],
   "source": [
    "start = max(s)"
   ]
  },
  {
   "cell_type": "code",
   "execution_count": 40,
   "metadata": {},
   "outputs": [
    {
     "data": {
      "text/plain": [
       "False"
      ]
     },
     "execution_count": 40,
     "metadata": {},
     "output_type": "execute_result"
    }
   ],
   "source": [
    "for i in range(start, -1):\n",
    "    for j in range(len(flattened_dp)):\n",
    "        \n",
    "        "
   ]
  },
  {
   "cell_type": "code",
   "execution_count": 25,
   "metadata": {},
   "outputs": [
    {
     "name": "stdout",
     "output_type": "stream",
     "text": [
      "2\n",
      "0\n",
      "0\n"
     ]
    }
   ],
   "source": [
    "start = 0\n",
    "end = min(n, m)\n",
    "\n",
    "result = 0\n",
    "while start <= end:\n",
    "    mid = (start + end) // 2\n",
    "    if [mid] * mid in flattened_dp:\n",
    "        result = mid\n",
    "        start = mid + 1\n",
    "    else:\n",
    "        end = mid - 1\n",
    "        \n",
    "print(result)"
   ]
  },
  {
   "cell_type": "code",
   "execution_count": 30,
   "metadata": {},
   "outputs": [
    {
     "name": "stdout",
     "output_type": "stream",
     "text": [
      "2 1\n",
      "0\n",
      "0\n",
      "0\n"
     ]
    }
   ],
   "source": [
    "n, m = map(int, input().split())\n",
    "\n",
    "li = []\n",
    "for _ in range(n):\n",
    "    li.append(list(map(int, list(input()))))\n",
    "\n",
    "for i in range(1, n):\n",
    "    for j in range(1, m):\n",
    "        if li[i][j] == 1:\n",
    "            min_value = min((li[i - 1][j - 1]), li[i - 1][j], li[i][j - 1])\n",
    "            if min_value >= 1:\n",
    "                li[i][j] = min_value + 1\n",
    "                \n",
    "print(max((max(v) for v in li)) ** 2)"
   ]
  },
  {
   "cell_type": "markdown",
   "metadata": {},
   "source": [
    "### 합분해 2225\n",
    "- 다이나믹 프로그래밍"
   ]
  },
  {
   "cell_type": "code",
   "execution_count": 32,
   "metadata": {},
   "outputs": [],
   "source": [
    "dp = [([0, 1] + [0] * 199) for _ in range(201)]"
   ]
  },
  {
   "cell_type": "code",
   "execution_count": 35,
   "metadata": {},
   "outputs": [],
   "source": [
    "dp[0] = [0] + [1] * 200"
   ]
  },
  {
   "cell_type": "code",
   "execution_count": null,
   "metadata": {},
   "outputs": [],
   "source": [
    "dp = [([0, 1] + [0] * 199) for _ in range(201)]\n",
    "dp[0] = [0] + [1] * 200\n",
    "\n",
    "for j in range(2, 201):\n",
    "    for i in range(1, 201):\n",
    "        total = 0\n",
    "        for sub_i in range(0, i + 1):\n",
    "            total += dp[sub_i][j - 1]\n",
    "            total %= 1000000000\n",
    "        dp[i][j] = total\n",
    "        \n",
    "n, k = map(int, input().split())\n",
    "print(dp[n][k])"
   ]
  },
  {
   "cell_type": "code",
   "execution_count": null,
   "metadata": {},
   "outputs": [],
   "source": [
    "# 다른 사람 코드 (cndqjacndqja)\n",
    "\n",
    "n, k = map(int, input().split())\n",
    "\n",
    "dp = [[0 for _ in range(201)] for _ in range(201)]\n",
    "\n",
    "for i in range(201):\n",
    "    dp[1][i] = 1\n",
    "    dp[2][i] = i+1\n",
    "\n",
    "for i in range(2, 201):\n",
    "    dp[i][1] = i\n",
    "    for j in range(2, 201):\n",
    "        dp[i][j] = dp[i][j-1] + dp[i-1][j]\n",
    "\n",
    "print(dp[k][n] % 1000000000)"
   ]
  },
  {
   "cell_type": "markdown",
   "metadata": {},
   "source": [
    "### 타일 코드 1720\n",
    "- 다이나믹 프로그래밍"
   ]
  },
  {
   "cell_type": "code",
   "execution_count": 10,
   "metadata": {},
   "outputs": [],
   "source": [
    "dp_all = [1, 1, 3] + [0] * 28\n",
    "dp = [1, 1, 3, 3, 8] + [0] * 28"
   ]
  },
  {
   "cell_type": "code",
   "execution_count": 11,
   "metadata": {},
   "outputs": [
    {
     "data": {
      "text/plain": [
       "31"
      ]
     },
     "execution_count": 11,
     "metadata": {},
     "output_type": "execute_result"
    }
   ],
   "source": [
    "len(dp_all)"
   ]
  },
  {
   "cell_type": "code",
   "execution_count": 12,
   "metadata": {},
   "outputs": [],
   "source": [
    "for i in range(3, 31):\n",
    "    dp_all[i] = dp_all[i - 1] + 2 * dp_all[i - 2]"
   ]
  },
  {
   "cell_type": "code",
   "execution_count": 13,
   "metadata": {},
   "outputs": [],
   "source": [
    "for j in range(5, 31):\n",
    "    dp[i] = dp_all[i - 1] + dp_all[i - 4] * 3"
   ]
  },
  {
   "cell_type": "code",
   "execution_count": 14,
   "metadata": {},
   "outputs": [
    {
     "data": {
      "text/plain": [
       "3"
      ]
     },
     "execution_count": 14,
     "metadata": {},
     "output_type": "execute_result"
    }
   ],
   "source": [
    "dp[2]"
   ]
  },
  {
   "cell_type": "code",
   "execution_count": 23,
   "metadata": {},
   "outputs": [
    {
     "name": "stdout",
     "output_type": "stream",
     "text": [
      "7\n",
      "58\n"
     ]
    }
   ],
   "source": [
    "n = int(input())\n",
    "\n",
    "dp_all = [1, 1, 3] + [0] * 28\n",
    "dp = [1, 1, 3, 3, 8] + [0] * 26\n",
    "\n",
    "for i in range(3, 31):\n",
    "    dp_all[i] = dp_all[i - 1] + 2 * dp_all[i - 2]\n",
    "    \n",
    "for i in range(5, 31):\n",
    "    dp[i] = dp_all[i - 1] + dp_all[i - 4] * 3\n",
    "    \n",
    "print(dp[n])"
   ]
  },
  {
   "cell_type": "code",
   "execution_count": 1,
   "metadata": {},
   "outputs": [
    {
     "name": "stdout",
     "output_type": "stream",
     "text": [
      "4\n",
      "8\n"
     ]
    }
   ],
   "source": [
    "# 맞았음\n",
    "n = int(input())\n",
    "\n",
    "dp_all = [1, 1, 3] + [0] * 28\n",
    "dp = [1, 1, 3, 3] + [0] * 27\n",
    "\n",
    "for i in range(3, 31):\n",
    "    dp_all[i] = dp_all[i - 1] + 2 * dp_all[i - 2]\n",
    "    \n",
    "for i in range(4, 31):\n",
    "    dp[i] = dp[i - 2] + dp_all[i - 3] * 2 + dp[i - 4] * 2 + dp_all[i - 4]\n",
    "    \n",
    "print(dp[n])"
   ]
  },
  {
   "cell_type": "markdown",
   "metadata": {},
   "source": [
    "### Common Subsequence 3793"
   ]
  },
  {
   "cell_type": "code",
   "execution_count": 4,
   "metadata": {},
   "outputs": [
    {
     "name": "stdout",
     "output_type": "stream",
     "text": [
      "abcfbc abfcab\n"
     ]
    }
   ],
   "source": [
    "a, b = input().split()"
   ]
  },
  {
   "cell_type": "code",
   "execution_count": 13,
   "metadata": {},
   "outputs": [
    {
     "name": "stdout",
     "output_type": "stream",
     "text": [
      "aaaaa aa    aaa     aaa\n"
     ]
    }
   ],
   "source": [
    "li = list(input().split())"
   ]
  },
  {
   "cell_type": "code",
   "execution_count": 14,
   "metadata": {},
   "outputs": [
    {
     "data": {
      "text/plain": [
       "['aaaaa', 'aa', 'aaa', 'aaa']"
      ]
     },
     "execution_count": 14,
     "metadata": {},
     "output_type": "execute_result"
    }
   ],
   "source": [
    "li"
   ]
  },
  {
   "cell_type": "code",
   "execution_count": 18,
   "metadata": {},
   "outputs": [
    {
     "name": "stdout",
     "output_type": "stream",
     "text": [
      "d\n"
     ]
    }
   ],
   "source": [
    "import re\n",
    "\n",
    "s = ''\n",
    "while True:\n",
    "    try:\n",
    "        value = input()\n",
    "        s = s + \" \" + value\n",
    "    except:\n",
    "        break\n",
    "        \n",
    "li = re.findall(\"\\w+\", s)\n",
    "\n",
    "for i in range(0, len(li), 2):\n",
    "    a, b = li[i], li[i + 1]\n",
    "\n",
    "    dp = [[0] * (len(b) + 1) for _ in range(len(a) + 1)]\n",
    "    for i in range(1, len(a) + 1):\n",
    "        for j in range(1, len(b) + 1):\n",
    "            if a[i - 1] == b[j - 1]:\n",
    "                dp[i][j] = max((dp[i - 1][j], dp[i][j - 1], dp[i - 1][j - 1] + 1))\n",
    "            else:\n",
    "                dp[i][j] = max((dp[i - 1][j], dp[i][j - 1]))\n",
    "\n",
    "    print(dp[-1][-1])"
   ]
  },
  {
   "cell_type": "code",
   "execution_count": null,
   "metadata": {},
   "outputs": [],
   "source": [
    "# 맞았음\n",
    "import re\n",
    "\n",
    "s = ''\n",
    "while True:\n",
    "    try:\n",
    "        value = input()\n",
    "        s = s + \" \" + value\n",
    "    except:\n",
    "        break\n",
    "        \n",
    "li = re.findall(\"\\w+\", s)\n",
    "\n",
    "for i in range(0, len(li), 2):\n",
    "    a, b = li[i], li[i + 1]\n",
    "\n",
    "    dp = [[0] * (len(b) + 1) for _ in range(len(a) + 1)]\n",
    "    for i in range(1, len(a) + 1):\n",
    "        for j in range(1, len(b) + 1):\n",
    "            if a[i - 1] == b[j - 1]:\n",
    "                dp[i][j] = max((dp[i - 1][j], dp[i][j - 1], dp[i - 1][j - 1] + 1))\n",
    "            else:\n",
    "                dp[i][j] = max((dp[i - 1][j], dp[i][j - 1]))\n",
    "\n",
    "    print(dp[-1][-1])"
   ]
  },
  {
   "cell_type": "code",
   "execution_count": 26,
   "metadata": {},
   "outputs": [
    {
     "name": "stdout",
     "output_type": "stream",
     "text": [
      "0 1\n",
      "2 3\n"
     ]
    }
   ],
   "source": [
    "for i in range(0, 4, 2):\n",
    "    print(i, i + 1)"
   ]
  },
  {
   "cell_type": "markdown",
   "metadata": {},
   "source": [
    "### LCS 2 9252\n",
    "- 다이나믹 프로그래밍"
   ]
  },
  {
   "cell_type": "code",
   "execution_count": 44,
   "metadata": {},
   "outputs": [
    {
     "name": "stdout",
     "output_type": "stream",
     "text": [
      "CCCA\n",
      "ACCC\n",
      "3\n",
      "CCCA\n",
      "\n"
     ]
    }
   ],
   "source": [
    "# 틀렸음\n",
    "a = input()\n",
    "b = input()\n",
    "\n",
    "dp = [[0] * (len(b) + 1) for _ in range(len(a) + 1)]\n",
    "result_s1 = ''\n",
    "result_s2 = ''\n",
    "current_a_index = -1\n",
    "current_b_index = -1\n",
    "for i in range(1, len(a) + 1):\n",
    "    for j in range(1, len(b) + 1):\n",
    "        if a[i - 1] == b[j - 1]:\n",
    "            up_left_value = max(dp[i - 1][j], dp[i][j - 1])\n",
    "            diagonal_value =  dp[i - 1][j - 1] + 1\n",
    "            if diagonal_value > up_left_value:\n",
    "                if i - 1 > current_a_index:\n",
    "                    result_s1 += a[i - 1]\n",
    "                    current_a_index = i - 1\n",
    "                elif j - 1 > current_b_index:\n",
    "                    result_s2 += b[j - 1]\n",
    "                    current_b_index = j - 1\n",
    "                \n",
    "            dp[i][j] = max((dp[i - 1][j], dp[i][j - 1], dp[i - 1][j - 1] + 1))\n",
    "        else:\n",
    "            dp[i][j] = max((dp[i - 1][j], dp[i][j - 1]))\n",
    "            \n",
    "print(dp[-1][-1])\n",
    "print(result_s1)\n",
    "print(result_s2)\n",
    "# if len(result_s) >= 1:\n",
    "#     print(result_s)"
   ]
  },
  {
   "cell_type": "code",
   "execution_count": 26,
   "metadata": {},
   "outputs": [
    {
     "name": "stdout",
     "output_type": "stream",
     "text": [
      "aba\n",
      "bca\n",
      "2\n",
      "a\n"
     ]
    }
   ],
   "source": [
    "a = input()\n",
    "b = input()\n",
    "\n",
    "if len(a) > len(b):\n",
    "    a, b = b, a\n",
    "\n",
    "dp = [[0] * (len(b) + 1) for _ in range(len(a) + 1)]\n",
    "result_s = ''\n",
    "current_b_index = -1\n",
    "for i in range(1, len(a) + 1):\n",
    "    for j in range(1, len(b) + 1):\n",
    "        if a[i - 1] == b[j - 1]:\n",
    "            up_left_value = max(dp[i - 1][j], dp[i][j - 1])\n",
    "            diagonal_value =  dp[i - 1][j - 1] + 1\n",
    "            if diagonal_value > up_left_value:\n",
    "                if j - 1 > current_b_index:\n",
    "                    result_s += b[j - 1]\n",
    "                    current_b_index = j - 1\n",
    "                \n",
    "            dp[i][j] = max((dp[i - 1][j], dp[i][j - 1], dp[i - 1][j - 1] + 1))\n",
    "        else:\n",
    "            dp[i][j] = max((dp[i - 1][j], dp[i][j - 1]))\n",
    "            \n",
    "print(dp[-1][-1])\n",
    "if len(result_s) >= 1:\n",
    "    print(result_s)"
   ]
  },
  {
   "cell_type": "code",
   "execution_count": null,
   "metadata": {},
   "outputs": [],
   "source": [
    "[[], []]"
   ]
  },
  {
   "cell_type": "code",
   "execution_count": 11,
   "metadata": {},
   "outputs": [
    {
     "name": "stdout",
     "output_type": "stream",
     "text": [
      "{'cb', 'ca'}\n"
     ]
    }
   ],
   "source": [
    "print(set(map(lambda x: \"c\" + x, {\"a\", \"b\"})))"
   ]
  },
  {
   "cell_type": "code",
   "execution_count": 10,
   "metadata": {},
   "outputs": [
    {
     "name": "stdout",
     "output_type": "stream",
     "text": [
      "aab\n",
      "bba\n",
      "set()\n",
      "set()\n",
      "set()\n",
      "set()\n",
      "set()\n"
     ]
    }
   ],
   "source": [
    "a = input()\n",
    "b = input()\n",
    "\n",
    "dp = [[set()] * (len(b) + 1) for _ in range(len(a) + 1)]\n",
    "for i in range(1, len(a) + 1):\n",
    "    for j in range(1, len(b) + 1):\n",
    "        if a[i - 1] == b[j - 1]:\n",
    "            if not dp[i][j]:\n",
    "                dp[i][]\n",
    "            print(set(map(lambda x: a[i - 1] + x, (dp[i - 1][j] | dp[i][j - 1] | dp[i - 1][j - 1]))))\n",
    "            dp[i][j] = set(map(lambda x: a[i - 1] + x, (dp[i - 1][j] | dp[i][j - 1] | dp[i - 1][j - 1])))\n",
    "        else:\n",
    "            dp[i][j] = dp[i - 1][j] | dp[i][j - 1] | dp[i - 1][j - 1]\n",
    "\n",
    "print(dp[-1][-1])"
   ]
  },
  {
   "cell_type": "code",
   "execution_count": 9,
   "metadata": {},
   "outputs": [
    {
     "data": {
      "text/plain": [
       "[[set(), set(), set(), set()],\n",
       " [set(), set(), set(), set()],\n",
       " [set(), set(), set(), set()],\n",
       " [set(), set(), set(), set()]]"
      ]
     },
     "execution_count": 9,
     "metadata": {},
     "output_type": "execute_result"
    }
   ],
   "source": [
    "dp"
   ]
  },
  {
   "cell_type": "markdown",
   "metadata": {},
   "source": [
    "### 크게 만들기 2812\n",
    "- 그리디"
   ]
  },
  {
   "cell_type": "code",
   "execution_count": 59,
   "metadata": {},
   "outputs": [
    {
     "name": "stdout",
     "output_type": "stream",
     "text": [
      "4 2\n",
      "1924\n"
     ]
    }
   ],
   "source": [
    "n, k = map(int, input().split())\n",
    "li = list(map(int, list(input())))"
   ]
  },
  {
   "cell_type": "code",
   "execution_count": 60,
   "metadata": {},
   "outputs": [],
   "source": [
    "li = [[v, i] for i, v in enumerate(li)]"
   ]
  },
  {
   "cell_type": "code",
   "execution_count": 50,
   "metadata": {},
   "outputs": [
    {
     "data": {
      "text/plain": [
       "[[8, 0], [8, 1], [8, 2], [8, 3], [1, 4], [9, 5], [1, 6], [2, 7], [9, 8]]"
      ]
     },
     "execution_count": 50,
     "metadata": {},
     "output_type": "execute_result"
    }
   ],
   "source": [
    "li"
   ]
  },
  {
   "cell_type": "code",
   "execution_count": 61,
   "metadata": {},
   "outputs": [],
   "source": [
    "remained_k = k\n",
    "for i in range(1, n):\n",
    "    candidates = [v for v in li[:i] if v[0] < li[i][0]]\n",
    "    if candidates:\n",
    "        candidates.sort(key=lambda x: x[0])\n",
    "        \n",
    "        for c in candidates:\n",
    "            li[c[1]][0] = 10\n",
    "            remained_k -= 1\n",
    "            \n",
    "            if remained_k == 0:\n",
    "                break\n",
    "    if remained_k == 0:\n",
    "        break\n",
    "        \n",
    "if remained_k:\n",
    "    li = li[:-remained_k]\n",
    "    \n",
    "print(\"\".join(map(str, [v[0] for v in li if v[0] != 10])))"
   ]
  },
  {
   "cell_type": "code",
   "execution_count": null,
   "metadata": {},
   "outputs": [],
   "source": [
    "# 시간 초과 예상\n",
    "\n",
    "# n, k = map(int, input().split())\n",
    "# li = list(map(int, list(input())))\n",
    "\n",
    "n, k = 500000, 400000\n",
    "li = [8] * n\n",
    "\n",
    "li = [[v, i] for i, v in enumerate(li)]\n",
    "\n",
    "remained_k = k\n",
    "for i in range(1, n):\n",
    "    candidates = [v for v in li[:i] if v[0] < li[i][0]]\n",
    "    if candidates:\n",
    "        candidates.sort(key=lambda x: x[0])\n",
    "        \n",
    "        for c in candidates:\n",
    "            li[c[1]][0] = 10\n",
    "            remained_k -= 1\n",
    "            \n",
    "            if remained_k == 0:\n",
    "                break\n",
    "    if remained_k == 0:\n",
    "        break\n",
    "        \n",
    "if remained_k:\n",
    "    li = li[:-remained_k]\n",
    "    \n",
    "print(\"\".join(map(str, [v[0] for v in li if v[0] != 10])))"
   ]
  },
  {
   "cell_type": "code",
   "execution_count": 135,
   "metadata": {},
   "outputs": [
    {
     "name": "stdout",
     "output_type": "stream",
     "text": [
      "6 5\n",
      "241413\n",
      "5 [[2, 0]]\n",
      "4 [[4, 1]]\n",
      "4 [[1, 2], [4, 1]]\n",
      "3 [[4, 1]]\n",
      "3 [[4, 1], [4, 3]]\n",
      "3 [[1, 4], [4, 3], [4, 1]]\n",
      "2 [[4, 1], [4, 3]]\n",
      "[[10, 0], [4, 1], [10, 2], [4, 3], [10, 4], [3, 5]] 2\n",
      "44\n"
     ]
    }
   ],
   "source": [
    "# 틀렸음, 반례가 뭔지 모르겠음\n",
    "import heapq\n",
    "\n",
    "n, k = map(int, input().split())\n",
    "li = list(map(int, list(input())))\n",
    "\n",
    "li = [[v, i] for i, v in enumerate(li)]\n",
    "\n",
    "candidates = []\n",
    "\n",
    "remained_k = k\n",
    "for i in range(1, n):\n",
    "    heapq.heappush(candidates, li[i - 1])\n",
    "    \n",
    "    while True:\n",
    "        print(remained_k, candidates)\n",
    "        candidate = heapq.heappop(candidates)\n",
    "        \n",
    "        if candidate[0] < li[i][0]:\n",
    "            li[candidate[1]][0] = 10\n",
    "            remained_k -= 1\n",
    "        else:\n",
    "            heapq.heappush(candidates, candidate)\n",
    "            break\n",
    "        \n",
    "        if remained_k == 0 or not candidates:\n",
    "            break\n",
    "    if remained_k == 0:\n",
    "        break\n",
    "\n",
    "print(li, remained_k)\n",
    "if remained_k:\n",
    "    li = li[:-remained_k]\n",
    "\n",
    "print(\"\".join(map(str, [v[0] for v in li if v[0] != 10])))"
   ]
  },
  {
   "cell_type": "code",
   "execution_count": 139,
   "metadata": {},
   "outputs": [
    {
     "name": "stdout",
     "output_type": "stream",
     "text": [
      "6 5\n",
      "241413\n",
      "4\n"
     ]
    }
   ],
   "source": [
    "# 맞았음\n",
    "import heapq\n",
    "\n",
    "n, k = map(int, input().split())\n",
    "li = list(map(int, list(input())))\n",
    "\n",
    "li = [[v, i] for i, v in enumerate(li)]\n",
    "\n",
    "candidates = []\n",
    "remained_k = k\n",
    "for i in range(1, n):\n",
    "    heapq.heappush(candidates, li[i - 1])\n",
    "    \n",
    "    while True:\n",
    "        candidate = heapq.heappop(candidates)\n",
    "        \n",
    "        if candidate[0] < li[i][0]:\n",
    "            li[candidate[1]][0] = 10\n",
    "            remained_k -= 1\n",
    "        else:\n",
    "            heapq.heappush(candidates, candidate)\n",
    "            break\n",
    "        \n",
    "        if remained_k == 0 or not candidates:\n",
    "            break\n",
    "    if remained_k == 0:\n",
    "        break\n",
    "\n",
    "result = \"\".join(map(str, [v[0] for v in li if v[0] != 10]))\n",
    "          \n",
    "if remained_k:\n",
    "    result = result[:-remained_k]\n",
    "\n",
    "print(result)"
   ]
  },
  {
   "cell_type": "code",
   "execution_count": null,
   "metadata": {},
   "outputs": [],
   "source": [
    "# 다른 사람 코드 (jmkk27) (들여쓰기, 씌어쓰기, 엔터 수정) \n",
    "\n",
    "n, k = map(int,input().split())\n",
    "m = n - k\n",
    "a = [*map(int,input())]\n",
    "\n",
    "s = []\n",
    "for i in range(n):\n",
    "    while k and s and s[-1] < a[i]:\n",
    "        s.pop()\n",
    "        k -= 1\n",
    "        \n",
    "    if len(s) < m:\n",
    "        s.append(a[i])\n",
    "        \n",
    "print(''.join(map(str,s)))"
   ]
  },
  {
   "cell_type": "code",
   "execution_count": null,
   "metadata": {},
   "outputs": [],
   "source": [
    "# 다른 사람 코드 (mmm3)\n",
    "\n",
    "N, K = map(int, input().split())\n",
    "num = list(input().strip())\n",
    "\n",
    "res = []\n",
    "\n",
    "for i in range(N):\n",
    "    while K > 0 and res and res[-1] < num[i]:\n",
    "        del res[-1]\n",
    "        K -= 1\n",
    "    res.append(num[i])\n",
    "\n",
    "print(\"\".join(res[:len(res)-K]))"
   ]
  },
  {
   "cell_type": "markdown",
   "metadata": {},
   "source": [
    "### 한글 LCS 15482"
   ]
  },
  {
   "cell_type": "code",
   "execution_count": 3,
   "metadata": {},
   "outputs": [
    {
     "name": "stdout",
     "output_type": "stream",
     "text": [
      "가나다라가나다라\n",
      "가다나가다라\n",
      "5\n"
     ]
    }
   ],
   "source": [
    "a = input()\n",
    "b = input()\n",
    "\n",
    "dp = [[0] * (len(b) + 1) for _ in range(len(a) + 1)]\n",
    "for i in range(1, len(a) + 1):\n",
    "    for j in range(1, len(b) + 1):\n",
    "        if a[i - 1] == b[j - 1]:\n",
    "            dp[i][j] = max((dp[i - 1][j], dp[i][j - 1], dp[i - 1][j - 1] + 1))\n",
    "        else:\n",
    "            dp[i][j] = max((dp[i - 1][j], dp[i][j - 1]))\n",
    "\n",
    "print(dp[-1][-1])"
   ]
  },
  {
   "cell_type": "markdown",
   "metadata": {},
   "source": [
    "### 단어 수학 1339\n",
    "- 그리디"
   ]
  },
  {
   "cell_type": "markdown",
   "metadata": {},
   "source": [
    "4:07"
   ]
  },
  {
   "cell_type": "code",
   "execution_count": 38,
   "metadata": {},
   "outputs": [
    {
     "name": "stdout",
     "output_type": "stream",
     "text": [
      "3\n",
      "ABCBF\n",
      "DEDD\n",
      "GG\n"
     ]
    }
   ],
   "source": [
    "n = int(input())\n",
    "\n",
    "li = []\n",
    "for _ in range(n):\n",
    "    li.append(list(input()))"
   ]
  },
  {
   "cell_type": "code",
   "execution_count": 39,
   "metadata": {},
   "outputs": [
    {
     "data": {
      "text/plain": [
       "{'A', 'B', 'C', 'D', 'E', 'F', 'G'}"
      ]
     },
     "execution_count": 39,
     "metadata": {},
     "output_type": "execute_result"
    }
   ],
   "source": [
    "from itertools import chain\n",
    "set(chain(*li))"
   ]
  },
  {
   "cell_type": "code",
   "execution_count": 43,
   "metadata": {},
   "outputs": [],
   "source": [
    "import string\n",
    "alpha_dict = {v: 0 for v in set(chain(*li))}\n",
    "\n",
    "for v in li:\n",
    "    value = v[:]\n",
    "    value.reverse()\n",
    "    for i in range(len(value)):\n",
    "        alpha_dict[value[i]] += (10 ** i)"
   ]
  },
  {
   "cell_type": "code",
   "execution_count": 44,
   "metadata": {},
   "outputs": [
    {
     "data": {
      "text/plain": [
       "[['A', 'B', 'C', 'B', 'F'], ['D', 'E', 'D', 'D'], ['G', 'G']]"
      ]
     },
     "execution_count": 44,
     "metadata": {},
     "output_type": "execute_result"
    }
   ],
   "source": [
    "li"
   ]
  },
  {
   "cell_type": "code",
   "execution_count": 45,
   "metadata": {},
   "outputs": [
    {
     "data": {
      "text/plain": [
       "[('A', 10000),\n",
       " ('D', 1011),\n",
       " ('B', 1010),\n",
       " ('C', 100),\n",
       " ('E', 100),\n",
       " ('G', 11),\n",
       " ('F', 1)]"
      ]
     },
     "execution_count": 45,
     "metadata": {},
     "output_type": "execute_result"
    }
   ],
   "source": [
    "weight_li = sorted(alpha_dict.items(), key=lambda x: x[1], reverse=True)\n",
    "weight_li"
   ]
  },
  {
   "cell_type": "code",
   "execution_count": 48,
   "metadata": {},
   "outputs": [],
   "source": [
    "result_alpha_dict = {v: 0 for v in set(chain(*li))}\n",
    "\n",
    "current = 9\n",
    "for v in weight_li:\n",
    "    result_alpha_dict[v[0]] = current\n",
    "    current -= 1"
   ]
  },
  {
   "cell_type": "code",
   "execution_count": 49,
   "metadata": {},
   "outputs": [
    {
     "data": {
      "text/plain": [
       "{'D': 8, 'A': 9, 'B': 7, 'F': 3, 'G': 4, 'C': 6, 'E': 5}"
      ]
     },
     "execution_count": 49,
     "metadata": {},
     "output_type": "execute_result"
    }
   ],
   "source": [
    "result_alpha_dict"
   ]
  },
  {
   "cell_type": "code",
   "execution_count": 52,
   "metadata": {},
   "outputs": [
    {
     "ename": "KeyError",
     "evalue": "9",
     "output_type": "error",
     "traceback": [
      "\u001b[1;31m---------------------------------------------------------------------------\u001b[0m",
      "\u001b[1;31mKeyError\u001b[0m                                  Traceback (most recent call last)",
      "\u001b[1;32m<ipython-input-52-21d2897e034d>\u001b[0m in \u001b[0;36m<module>\u001b[1;34m\u001b[0m\n\u001b[0;32m      1\u001b[0m \u001b[1;32mfor\u001b[0m \u001b[0mi\u001b[0m \u001b[1;32min\u001b[0m \u001b[0mrange\u001b[0m\u001b[1;33m(\u001b[0m\u001b[0mlen\u001b[0m\u001b[1;33m(\u001b[0m\u001b[0mli\u001b[0m\u001b[1;33m)\u001b[0m\u001b[1;33m)\u001b[0m\u001b[1;33m:\u001b[0m\u001b[1;33m\u001b[0m\u001b[1;33m\u001b[0m\u001b[0m\n\u001b[0;32m      2\u001b[0m     \u001b[1;32mfor\u001b[0m \u001b[0mj\u001b[0m \u001b[1;32min\u001b[0m \u001b[0mrange\u001b[0m\u001b[1;33m(\u001b[0m\u001b[0mlen\u001b[0m\u001b[1;33m(\u001b[0m\u001b[0mli\u001b[0m\u001b[1;33m[\u001b[0m\u001b[0mi\u001b[0m\u001b[1;33m]\u001b[0m\u001b[1;33m)\u001b[0m\u001b[1;33m)\u001b[0m\u001b[1;33m:\u001b[0m\u001b[1;33m\u001b[0m\u001b[1;33m\u001b[0m\u001b[0m\n\u001b[1;32m----> 3\u001b[1;33m         \u001b[0mli\u001b[0m\u001b[1;33m[\u001b[0m\u001b[0mi\u001b[0m\u001b[1;33m]\u001b[0m\u001b[1;33m[\u001b[0m\u001b[0mj\u001b[0m\u001b[1;33m]\u001b[0m \u001b[1;33m=\u001b[0m \u001b[0mresult_alpha_dict\u001b[0m\u001b[1;33m[\u001b[0m\u001b[0mli\u001b[0m\u001b[1;33m[\u001b[0m\u001b[0mi\u001b[0m\u001b[1;33m]\u001b[0m\u001b[1;33m[\u001b[0m\u001b[0mj\u001b[0m\u001b[1;33m]\u001b[0m\u001b[1;33m]\u001b[0m\u001b[1;33m\u001b[0m\u001b[1;33m\u001b[0m\u001b[0m\n\u001b[0m",
      "\u001b[1;31mKeyError\u001b[0m: 9"
     ]
    }
   ],
   "source": [
    "for i in range(len(li)):\n",
    "    for j in range(len(li[i])):\n",
    "        li[i][j] = result_alpha_dict[li[i][j]]"
   ]
  },
  {
   "cell_type": "code",
   "execution_count": 54,
   "metadata": {},
   "outputs": [],
   "source": [
    "result_li = [int(\"\".join(map(str, v))) for v in li]"
   ]
  },
  {
   "cell_type": "code",
   "execution_count": 57,
   "metadata": {},
   "outputs": [
    {
     "data": {
      "text/plain": [
       "106305"
      ]
     },
     "execution_count": 57,
     "metadata": {},
     "output_type": "execute_result"
    }
   ],
   "source": [
    "sum(result_li)"
   ]
  },
  {
   "cell_type": "code",
   "execution_count": 1,
   "metadata": {},
   "outputs": [
    {
     "name": "stdout",
     "output_type": "stream",
     "text": [
      "2\n",
      "AA\n",
      "AA\n",
      "198\n"
     ]
    }
   ],
   "source": [
    "from itertools import chain\n",
    "\n",
    "n = int(input())\n",
    "\n",
    "li = []\n",
    "for _ in range(n):\n",
    "    li.append(list(input()))\n",
    "\n",
    "alpha_dict = {v: 0 for v in set(chain(*li))}\n",
    "\n",
    "for v in li:\n",
    "    value = v[:]\n",
    "    value.reverse()\n",
    "    for i in range(len(value)):\n",
    "        alpha_dict[value[i]] += (10 ** i)\n",
    "        \n",
    "weight_li = sorted(alpha_dict.items(), key=lambda x: x[1], reverse=True)\n",
    "\n",
    "result_alpha_dict = {v: 0 for v in set(chain(*li))}\n",
    "current = 9\n",
    "for v in weight_li:\n",
    "    result_alpha_dict[v[0]] = current\n",
    "    current -= 1\n",
    "    \n",
    "for i in range(len(li)):\n",
    "    for j in range(len(li[i])):\n",
    "        li[i][j] = result_alpha_dict[li[i][j]]\n",
    "        \n",
    "result_li = [int(\"\".join(map(str, v))) for v in li]\n",
    "\n",
    "print(sum(result_li))"
   ]
  },
  {
   "cell_type": "markdown",
   "metadata": {},
   "source": [
    "### 수 묶기 1744\n",
    "- 그리디, 정렬"
   ]
  },
  {
   "cell_type": "code",
   "execution_count": null,
   "metadata": {},
   "outputs": [],
   "source": [
    "# 문제 이해 잘못해서 바로 전의 수하고만 묶을 수 있게 만들었음\n",
    "\n",
    "n = int(input())\n",
    "\n",
    "li = []\n",
    "\n",
    "for _ in range(n):\n",
    "    li.append(int(input()))\n",
    "\n",
    "if n == 1:\n",
    "    print(li[0])\n",
    "else:\n",
    "\n",
    "    dp = [[0, 0] for _ in range(n)]\n",
    "    dp[0][0] = -float('inf')\n",
    "    \n",
    "    for i in range(1, len(li)):\n",
    "        dp[i][0] = dp[i - 1][1] + li[i - 1] * li[i]\n",
    "        dp[i][1] = max((dp[i - 1][0], dp[i - 1][1] + li[i - 1]))\n",
    "\n",
    "    print(max((dp[-1][0], dp[-1][1] + li[-1])))"
   ]
  },
  {
   "cell_type": "code",
   "execution_count": 19,
   "metadata": {},
   "outputs": [
    {
     "name": "stdout",
     "output_type": "stream",
     "text": [
      "7\n",
      "-5\n",
      "-4\n",
      "-2\n",
      "-1\n",
      "0\n",
      "1\n",
      "2\n"
     ]
    }
   ],
   "source": [
    "n = int(input())\n",
    "\n",
    "li = []\n",
    "\n",
    "for _ in range(n):\n",
    "    li.append(int(input()))"
   ]
  },
  {
   "cell_type": "code",
   "execution_count": 20,
   "metadata": {},
   "outputs": [],
   "source": [
    "zero_or_minuses_li = sorted([v for v in li if v <= 0])\n",
    "pluses_li = sorted([v for v in li if v > 0], reverse=True)"
   ]
  },
  {
   "cell_type": "code",
   "execution_count": 21,
   "metadata": {},
   "outputs": [
    {
     "data": {
      "text/plain": [
       "[2, 1]"
      ]
     },
     "execution_count": 21,
     "metadata": {},
     "output_type": "execute_result"
    }
   ],
   "source": [
    "pluses_li"
   ]
  },
  {
   "cell_type": "code",
   "execution_count": 22,
   "metadata": {},
   "outputs": [
    {
     "data": {
      "text/plain": [
       "[-5, -4, -2, -1, 0]"
      ]
     },
     "execution_count": 22,
     "metadata": {},
     "output_type": "execute_result"
    }
   ],
   "source": [
    "zero_or_minuses_li"
   ]
  },
  {
   "cell_type": "code",
   "execution_count": 2,
   "metadata": {},
   "outputs": [
    {
     "name": "stdout",
     "output_type": "stream",
     "text": [
      "4\n",
      "-2\n",
      "-1\n",
      "1\n",
      "3\n",
      "6\n"
     ]
    }
   ],
   "source": [
    "# 맞았음, 1의 경우를 헷갈렸었음\n",
    "n = int(input())\n",
    "\n",
    "li = []\n",
    "for _ in range(n):\n",
    "    li.append(int(input()))\n",
    "\n",
    "zero_or_minuses_li = sorted([v for v in li if v <= 0])\n",
    "over_one_li = sorted([v for v in li if v > 1], reverse=True)\n",
    "one_li = [v for v in li if v == 1]\n",
    "\n",
    "total = 0\n",
    "\n",
    "if len(zero_or_minuses_li) % 2 == 1:\n",
    "    total += zero_or_minuses_li.pop()\n",
    "    \n",
    "if zero_or_minuses_li:\n",
    "    for i in range(0, len(zero_or_minuses_li) - 1, 2):\n",
    "        total += zero_or_minuses_li[i] *  zero_or_minuses_li[i + 1]\n",
    "\n",
    "if len(over_one_li) % 2 == 1:\n",
    "    total += over_one_li.pop()\n",
    "\n",
    "if over_one_li:\n",
    "    for i in range(0, len(over_one_li) - 1, 2):\n",
    "        total += over_one_li[i] *  over_one_li[i + 1]\n",
    "    \n",
    "if one_li:\n",
    "    total += sum(one_li)\n",
    "    \n",
    "        \n",
    "print(total)"
   ]
  },
  {
   "cell_type": "markdown",
   "metadata": {},
   "source": [
    "### 순회강연 2109\n",
    "- 그리디, 정렬"
   ]
  },
  {
   "cell_type": "code",
   "execution_count": 35,
   "metadata": {},
   "outputs": [
    {
     "name": "stdout",
     "output_type": "stream",
     "text": [
      "7\n",
      "20 1\n",
      "2 1\n",
      "10 3\n",
      "100 2\n",
      "8 2\n",
      "5 20\n",
      "50 10\n"
     ]
    }
   ],
   "source": [
    "n = int(input())\n",
    "\n",
    "li = []\n",
    "\n",
    "for _ in range(n):\n",
    "    li.append(tuple(map(int, input().split())))"
   ]
  },
  {
   "cell_type": "code",
   "execution_count": 36,
   "metadata": {},
   "outputs": [
    {
     "data": {
      "text/plain": [
       "20"
      ]
     },
     "execution_count": 36,
     "metadata": {},
     "output_type": "execute_result"
    }
   ],
   "source": [
    "max_date = max(li, key=lambda x: x[1])[1]\n",
    "max_date"
   ]
  },
  {
   "cell_type": "code",
   "execution_count": 54,
   "metadata": {},
   "outputs": [
    {
     "name": "stdout",
     "output_type": "stream",
     "text": [
      "0\n",
      "0\n"
     ]
    }
   ],
   "source": [
    "# 맞았음, 처음부터가 아니라 마지막 일부터 차례대로 선택하는 방식으로 해서 풀 수 있었음, 리스트 대신 defaultdict 써서 시간복잡도 줄였음,\n",
    "# n이 0 인 케이스 생각 못하고 한 번 틀렸음\n",
    "\n",
    "from collections import defaultdict\n",
    "import heapq\n",
    "import sys\n",
    "# input = sys.stdin.readline\n",
    "\n",
    "n = int(input())\n",
    "\n",
    "if n == 0:\n",
    "    print(0)\n",
    "else:\n",
    "    di = defaultdict(list)\n",
    "    for _ in range(n):\n",
    "        p, d = map(int, input().split())\n",
    "        di[d].append(p)\n",
    "\n",
    "    max_date = max(di.keys())\n",
    "\n",
    "    heap = []\n",
    "    result = 0\n",
    "    for i in range(max_date, 0, -1):\n",
    "        for p in di[i]:\n",
    "            heapq.heappush(heap, -p)\n",
    "\n",
    "        if heap:\n",
    "            p = heapq.heappop(heap)\n",
    "            result += -p\n",
    "\n",
    "    print(result)"
   ]
  },
  {
   "cell_type": "code",
   "execution_count": null,
   "metadata": {},
   "outputs": [],
   "source": [
    "# 다른 사람 코드(kong2520)\n",
    "# 만약 heapq에 5개가 있는데 가장 마지막에 들어온거의 기한이 4일이면 하나는 못하므로 하나를 빼는 방식\n",
    "\n",
    "import heapq\n",
    "\n",
    "n = int(input())\n",
    "arr = []\n",
    "\n",
    "for _ in range(n):\n",
    "    arr.append(list(map(int,input().split())))\n",
    "\n",
    "arr.sort(key=lambda x : x[1])\n",
    "lst = []\n",
    "\n",
    "for i in arr:\n",
    "    heapq.heappush(lst,i[0])\n",
    "    if (len(lst) > i[1]):\n",
    "        heapq.heappop(lst)\n",
    "\n",
    "print(sum(lst))"
   ]
  },
  {
   "cell_type": "code",
   "execution_count": null,
   "metadata": {},
   "outputs": [],
   "source": [
    "# 다른 사람 코드(gozj3319)\n",
    "\n",
    "def getParent(x):\n",
    "    if parent[x] == x:\n",
    "        return x\n",
    "    else:\n",
    "        parent[x] = getParent(parent[x])\n",
    "        return parent[x]\n",
    "    \n",
    "def unionParent(a, b):\n",
    "    a = getParent(a)\n",
    "    b = getParent(b)\n",
    "    if a < b:\n",
    "        parent[b] = a\n",
    "    else:\n",
    "        parent[a] = b\n",
    "\n",
    "n = int(input())\n",
    "array = [list(map(int, input().split())) for _ in range(n)]\n",
    "array.sort(key = lambda _ : -_[0])\n",
    "parent = [i for i in range(10001)]\n",
    "\n",
    "result = 0\n",
    "for curr in array:\n",
    "    parent_ = getParent(curr[1])\n",
    "    if parent_ > 0:\n",
    "        result += curr[0]\n",
    "        unionParent(parent_, parent_ - 1)\n",
    "        \n",
    "print(result)"
   ]
  },
  {
   "cell_type": "markdown",
   "metadata": {},
   "source": [
    "### 절댓값 힙 11286\n",
    "- 구현, 자료 구조, 우선순위 큐"
   ]
  },
  {
   "cell_type": "code",
   "execution_count": null,
   "metadata": {},
   "outputs": [],
   "source": [
    "import heapq\n",
    "\n",
    "n = int(input())\n",
    "\n",
    "heap = []\n",
    "for _ in range(n):\n",
    "    value = int(input())\n",
    "    if value != 0:\n",
    "        heapq.heappush(heap, (abs(value + 0.1), value))\n",
    "    else:\n",
    "            if heap:\n",
    "            print(heapq.heappop(heap)[1])\n",
    "        else:\n",
    "            print(0)"
   ]
  },
  {
   "cell_type": "markdown",
   "metadata": {},
   "source": [
    "### 카드 합체 놀이 15903\n",
    "- 그리디"
   ]
  },
  {
   "cell_type": "markdown",
   "metadata": {},
   "source": [
    "11:11 ~ 11:27"
   ]
  },
  {
   "cell_type": "code",
   "execution_count": 6,
   "metadata": {},
   "outputs": [
    {
     "name": "stdout",
     "output_type": "stream",
     "text": [
      "2 0\n",
      "3 6\n",
      "9\n"
     ]
    }
   ],
   "source": [
    "# 문제 1번 조건의 (x ≠ y)를 각각 x번, y번이 아니라 x, y가 같은 숫자인 경우로 잘못 알았어서 좀 더 오래 걸렸음\n",
    "\n",
    "import heapq\n",
    "\n",
    "n, m = map(int, input().split())\n",
    "\n",
    "heap = list(map(int, input().split()))\n",
    "heapq.heapify(heap)\n",
    "    \n",
    "for _ in range(m):\n",
    "    a = heapq.heappop(heap)\n",
    "    b = heapq.heappop(heap)\n",
    "    \n",
    "    new_value = a + b\n",
    "    heapq.heappush(heap, new_value)\n",
    "    heapq.heappush(heap, new_value)\n",
    "    \n",
    "print(sum(heap))"
   ]
  },
  {
   "cell_type": "markdown",
   "metadata": {},
   "source": [
    "### 강의실 배정 11000\n",
    "- 그리디"
   ]
  },
  {
   "cell_type": "markdown",
   "metadata": {},
   "source": [
    "11:31 ~ 12:16"
   ]
  },
  {
   "cell_type": "code",
   "execution_count": 19,
   "metadata": {},
   "outputs": [
    {
     "name": "stdout",
     "output_type": "stream",
     "text": [
      "4\n",
      "1 4\n",
      "1 3\n",
      "1 2\n",
      "1 5\n",
      "4\n"
     ]
    }
   ],
   "source": [
    "# 시간 초과 예상\n",
    "n = int(input())\n",
    "\n",
    "li = []\n",
    "for _ in range(n):\n",
    "    li.append(tuple(map(int, input().split())))\n",
    "    \n",
    "li.sort(key=lambda x: (x[0], x[1]))\n",
    "\n",
    "class_num = 0\n",
    "while li:\n",
    "    indice_to_delete = []\n",
    "    \n",
    "    class_num += 1\n",
    "    _, end = li.pop(0)\n",
    "    for i, v in enumerate(li):\n",
    "        s, e = v\n",
    "        if end <= s:\n",
    "            indice_to_delete.append(i)\n",
    "            end = e\n",
    "     \n",
    "    if indice_to_delete:\n",
    "        indice_to_delete.reverse()\n",
    "        for i in indice_to_delete:\n",
    "            del li[i]\n",
    "            \n",
    "print(class_num)"
   ]
  },
  {
   "cell_type": "code",
   "execution_count": 16,
   "metadata": {},
   "outputs": [
    {
     "name": "stdout",
     "output_type": "stream",
     "text": [
      "4\n",
      "1 3\n",
      "1 4\n",
      "2 5\n",
      "3 6\n",
      "3\n"
     ]
    }
   ],
   "source": [
    "# 시간 초과 (defaultdict 사용시는 먼저 메모리 초과)\n",
    "import sys\n",
    "# input = sys.stdin.readline\n",
    "\n",
    "n = int(input())\n",
    "\n",
    "li = []\n",
    "for _ in range(n):\n",
    "    li.append(tuple(map(int, input().split())))\n",
    "    \n",
    "li.sort(key=lambda x: (x[0]))\n",
    "\n",
    "d = dict()\n",
    "\n",
    "current_start = 1\n",
    "current_rooms = 0\n",
    "max_room = 0\n",
    "for v in li:\n",
    "    start, end = v\n",
    "    \n",
    "    while current_start < start :\n",
    "        current_start += 1\n",
    "        if current_start in d:      \n",
    "            current_rooms -= d[current_start]\n",
    "\n",
    "    if end not in d:\n",
    "        d.update({end: 0})\n",
    "        \n",
    "    d[end] += 1\n",
    "    current_rooms += 1\n",
    "    if current_rooms > max_room:\n",
    "        max_room = current_rooms\n",
    "\n",
    "print(max_room)"
   ]
  },
  {
   "cell_type": "code",
   "execution_count": null,
   "metadata": {},
   "outputs": [],
   "source": [
    "# 맞았음, heapq를 써가지고 d[1], d[2] 하나씩 저장하고 찾을걸 저번 end보다 작은 것들을 쉽게 차례대로 제거할 수 있음\n",
    "import heapq\n",
    "import sys\n",
    "# input = sys.stdin.readline\n",
    "\n",
    "n = int(input())\n",
    "\n",
    "li = []\n",
    "for _ in range(n):\n",
    "    li.append(tuple(map(int, input().split())))\n",
    "    \n",
    "li.sort(key=lambda x: (x[0]))\n",
    "\n",
    "current_start = 1\n",
    "max_current_room = 0\n",
    "heap = []\n",
    "for v in li:\n",
    "    start, end = v\n",
    "    \n",
    "    while True:\n",
    "        if heap:\n",
    "            e = heapq.heappop(heap)\n",
    "            if e > start:\n",
    "                heapq.heappush(heap, e)\n",
    "                break\n",
    "        else:\n",
    "            break\n",
    "    \n",
    "    heapq.heappush(heap, end)\n",
    "    \n",
    "    if len(heap) > max_current_room:\n",
    "        max_current_room = len(heap)\n",
    "\n",
    "print(max_current_room)"
   ]
  },
  {
   "cell_type": "markdown",
   "metadata": {},
   "source": [
    "### 오늘 날짜 10699\n",
    "- 구현"
   ]
  },
  {
   "cell_type": "code",
   "execution_count": 21,
   "metadata": {},
   "outputs": [
    {
     "name": "stdout",
     "output_type": "stream",
     "text": [
      "2021-02-14\n"
     ]
    }
   ],
   "source": [
    "from datetime import datetime, timezone, timedelta\n",
    "now = datetime.now()\n",
    "KST = timezone(timedelta(hours=9))\n",
    "                        \n",
    "print(datetime.strftime(datetime.now().astimezone(tz=KST), \"%Y-%m-%d\"))"
   ]
  },
  {
   "cell_type": "markdown",
   "metadata": {},
   "source": [
    "### 행렬 1080\n",
    "- 그리디"
   ]
  },
  {
   "cell_type": "markdown",
   "metadata": {},
   "source": [
    "1:13 ~ 1:48"
   ]
  },
  {
   "cell_type": "code",
   "execution_count": 24,
   "metadata": {},
   "outputs": [
    {
     "name": "stdout",
     "output_type": "stream",
     "text": [
      "5 5\n",
      "00000\n",
      "00000\n",
      "00000\n",
      "00000\n",
      "00000\n",
      "11100\n",
      "11100\n",
      "11011\n",
      "00111\n",
      "00111\n",
      "-1\n"
     ]
    }
   ],
   "source": [
    "# 일단 포기\n",
    "n, m = map(int, input().split())\n",
    "\n",
    "a = []\n",
    "for _ in range(n):\n",
    "    a.append(list(map(int, tuple(input()))))\n",
    "\n",
    "b = []\n",
    "for _ in range(n):\n",
    "    b.append(list(map(int, tuple(input()))))\n",
    "\n",
    "def change(x):\n",
    "    return 1^x\n",
    "\n",
    "\n",
    "if n < 3 or m < 3:\n",
    "    if a == b:\n",
    "        print(0)\n",
    "    else:\n",
    "        print(-1)\n",
    "else:\n",
    "    count = 0\n",
    "    for i in range(1, n - 1):\n",
    "        for j in range(1, m - 1):\n",
    "            sub_a = (a[i - 1][j - 1: j + 2], a[i][j - 1: j + 2], a[i + 1][j - 1: j + 2])\n",
    "            sub_b = (b[i - 1][j - 1: j + 2], b[i][j - 1: j + 2], b[i + 1][j - 1: j + 2])\n",
    "            \n",
    "            if sub_a != sub_b:\n",
    "                a[i - 1][j - 1: j + 2] = map(change, a[i - 1][j - 1: j + 2])\n",
    "                a[i][j - 1: j + 2] = map(change, a[i][j - 1: j + 2])\n",
    "                a[i + 1][j - 1: j + 2] = map(change, a[i + 1][j - 1: j + 2])\n",
    "                count += 1\n",
    "            \n",
    "if a != b:\n",
    "    print(-1)\n",
    "else:\n",
    "    print(count)"
   ]
  },
  {
   "cell_type": "markdown",
   "metadata": {},
   "source": [
    "### 보석 도둑 1202\n",
    "- 그리디"
   ]
  },
  {
   "cell_type": "code",
   "execution_count": null,
   "metadata": {},
   "outputs": [],
   "source": [
    "가방이 적은 것부터 큰 순으로 담을 수 있는 가장 높은 가치의 보석을 담는다면?"
   ]
  },
  {
   "cell_type": "code",
   "execution_count": 47,
   "metadata": {},
   "outputs": [
    {
     "name": "stdout",
     "output_type": "stream",
     "text": [
      "3 2\n",
      "1 65\n",
      "5 23\n",
      "2 99\n",
      "10\n",
      "2\n"
     ]
    }
   ],
   "source": [
    "n, k = map(int, input().split())\n",
    "\n",
    "juwels = []\n",
    "for _ in range(n):\n",
    "    juwels.append(tuple(map(int, input().split())))\n",
    "    \n",
    "bags = []\n",
    "for _ in range(k):\n",
    "    bags.append(int(input()))"
   ]
  },
  {
   "cell_type": "code",
   "execution_count": 57,
   "metadata": {},
   "outputs": [],
   "source": [
    "bags = o_bag[:]"
   ]
  },
  {
   "cell_type": "code",
   "execution_count": 59,
   "metadata": {},
   "outputs": [
    {
     "name": "stdout",
     "output_type": "stream",
     "text": [
      "3 2\n",
      "1 65\n",
      "5 23\n",
      "2 99\n",
      "10\n",
      "2\n",
      "164\n"
     ]
    }
   ],
   "source": [
    "import heapq\n",
    "from collections import deque\n",
    "import sys\n",
    "# input = sys.stdin.readline\n",
    "\n",
    "n, k = map(int, input().strip().split())\n",
    "\n",
    "juwels = []\n",
    "for _ in range(n):\n",
    "    juwels.append(tuple(map(int, input().strip().split())))\n",
    "    \n",
    "bags = []\n",
    "for _ in range(k):\n",
    "    bags.append(int(input().strip()))\n",
    "\n",
    "bags.sort()\n",
    "juwels.sort(key=lambda x: x[0])\n",
    "\n",
    "bags = deque(bags)\n",
    "heap = []\n",
    "\n",
    "total = 0\n",
    "cji = 0 # curent juwel index\n",
    "current_bag = bags.popleft()\n",
    "while True:\n",
    "    if current_bag >= juwels[cji][0]:\n",
    "        heapq.heappush(heap, -juwels[cji][1])\n",
    "        cji += 1\n",
    "        if cji == len(juwels):\n",
    "            left = min(len(bags) + 1, len(heap))\n",
    "\n",
    "            for _ in range(left):\n",
    "                total += -heapq.heappop(heap)\n",
    "            break      \n",
    "    else:\n",
    "        if heap:\n",
    "            total += -heapq.heappop(heap)\n",
    "        if len(bags) >= 1:\n",
    "            current_bag = bags.popleft()\n",
    "        else:\n",
    "            break\n",
    "            \n",
    "print(total)"
   ]
  }
 ],
 "metadata": {
  "kernelspec": {
   "display_name": "Python 3",
   "language": "python",
   "name": "python3"
  },
  "language_info": {
   "codemirror_mode": {
    "name": "ipython",
    "version": 3
   },
   "file_extension": ".py",
   "mimetype": "text/x-python",
   "name": "python",
   "nbconvert_exporter": "python",
   "pygments_lexer": "ipython3",
   "version": "3.7.3"
  }
 },
 "nbformat": 4,
 "nbformat_minor": 4
}
