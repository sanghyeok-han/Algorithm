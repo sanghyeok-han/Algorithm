{
 "cells": [
  {
   "cell_type": "markdown",
   "metadata": {},
   "source": [
    "### 햄버거 분배 19941"
   ]
  },
  {
   "cell_type": "code",
   "execution_count": 10,
   "metadata": {},
   "outputs": [
    {
     "name": "stdout",
     "output_type": "stream",
     "text": [
      "20 1\n",
      "HHPHPPHHPPHPPPHPHPHP\n",
      "8\n"
     ]
    }
   ],
   "source": [
    "n, k = map(int, input().split())\n",
    "s = input()\n",
    "\n",
    "is_available = list(map(lambda x: True if x == 'H' else False, s))\n",
    "\n",
    "count = 0\n",
    "for i in range(n):\n",
    "    if s[i] == 'H':\n",
    "        continue\n",
    "    for j in range(i - k, i + k + 1):\n",
    "        if j < 0 or j >= n:\n",
    "            continue\n",
    "        if is_available[j]:\n",
    "            is_available[j] = False\n",
    "            count += 1\n",
    "            break\n",
    "            \n",
    "print(count)"
   ]
  },
  {
   "cell_type": "markdown",
   "metadata": {},
   "source": [
    "### Wizards Unite 18729"
   ]
  },
  {
   "cell_type": "code",
   "execution_count": 19,
   "metadata": {},
   "outputs": [
    {
     "name": "stdout",
     "output_type": "stream",
     "text": [
      "2\n",
      "3 1\n",
      "1 3 2\n",
      "3\n",
      "3 2\n",
      "5 5 5\n",
      "5\n"
     ]
    }
   ],
   "source": [
    "T = int(input())\n",
    "for _ in range(T):\n",
    "    n, k = map(int, input().split())\n",
    "    li = list(map(int, input().split()))\n",
    "    li.sort(reverse=True)\n",
    "\n",
    "    for_silver = []\n",
    "    for_gold = []\n",
    "    for i in range(n):\n",
    "        if k:\n",
    "            for_silver.append(li[i])\n",
    "            k -= 1\n",
    "        else:\n",
    "            for_gold.append(li[i])\n",
    "\n",
    "    if for_silver:\n",
    "        print(max(max(for_silver), sum(for_gold)))\n",
    "    else:\n",
    "        print(sum(for_gold))"
   ]
  },
  {
   "cell_type": "markdown",
   "metadata": {},
   "source": [
    "### Vaccination Against Corona 20682"
   ]
  },
  {
   "cell_type": "code",
   "execution_count": 25,
   "metadata": {},
   "outputs": [
    {
     "name": "stdout",
     "output_type": "stream",
     "text": [
      "5 4\n",
      "1 2 4 6 8\n",
      "2\n"
     ]
    }
   ],
   "source": [
    "# 일단 포기\n",
    "n, l = map(int, input().split())\n",
    "li = list(map(int, input().split()))\n",
    "\n",
    "count = 0\n",
    "no_vaccine_person_loc = li[0]\n",
    "for i in range(1, n):\n",
    "    if li[i] - no_vaccine_person_loc < l:\n",
    "        count += 1\n",
    "    else:\n",
    "        no_vaccine_person_loc = li[i]\n",
    "        \n",
    "print(count)"
   ]
  },
  {
   "cell_type": "markdown",
   "metadata": {},
   "source": [
    "### 신입 사원 1946\n",
    "- 정렬"
   ]
  },
  {
   "cell_type": "code",
   "execution_count": 6,
   "metadata": {},
   "outputs": [
    {
     "name": "stdout",
     "output_type": "stream",
     "text": [
      "2\n",
      "5\n",
      "3 2\n",
      "1 4\n",
      "4 1\n",
      "2 3\n",
      "5 5\n",
      "4\n",
      "7\n",
      "3 6\n",
      "7 3\n",
      "4 2\n",
      "1 4\n",
      "5 7\n",
      "2 5\n",
      "6 1\n",
      "3\n"
     ]
    }
   ],
   "source": [
    "import sys\n",
    "input = sys.stdin.readline\n",
    "\n",
    "T = int(input().rstrip())\n",
    "for _ in range(T):\n",
    "    n = int(input().rstrip())\n",
    "    li = [list(map(int, input().rstrip().split())) for _ in range(n)]\n",
    "    li.sort()\n",
    "    \n",
    "    count = 0\n",
    "    min_b = float('inf')\n",
    "    for _, b in li:\n",
    "        if b < min_b:\n",
    "            min_b = b\n",
    "            count += 1\n",
    "\n",
    "    print(count)"
   ]
  },
  {
   "cell_type": "markdown",
   "metadata": {},
   "source": [
    "### 피보나치 9009"
   ]
  },
  {
   "cell_type": "code",
   "execution_count": 16,
   "metadata": {},
   "outputs": [
    {
     "name": "stdout",
     "output_type": "stream",
     "text": [
      "2\n",
      "2\n",
      "2\n",
      "3\n",
      "3\n"
     ]
    }
   ],
   "source": [
    "dp = [0, 1]\n",
    "while True:\n",
    "    value = dp[-2] + dp[-1]\n",
    "    if value > 1000000000:\n",
    "        break\n",
    "    dp.append(value)\n",
    "\n",
    "T = int(input())\n",
    "for _ in range(T):\n",
    "    n = int(input())\n",
    "    \n",
    "    result = []\n",
    "    for i in range(len(dp) - 1, 0, -1):\n",
    "        if dp[i] <= n:\n",
    "            result.append(dp[i])\n",
    "            n -= dp[i]\n",
    "\n",
    "    print(\" \".join(map(str, sorted(result))))"
   ]
  },
  {
   "cell_type": "markdown",
   "metadata": {},
   "source": [
    "### 주사위 1041"
   ]
  },
  {
   "cell_type": "code",
   "execution_count": 40,
   "metadata": {},
   "outputs": [
    {
     "name": "stdout",
     "output_type": "stream",
     "text": [
      "10\n",
      "1 1 1 1 50 1\n",
      "500\n"
     ]
    }
   ],
   "source": [
    "n = int(input())\n",
    "li = list(map(int, input().split()))\n",
    "A, B, C, D, E, F = li\n",
    "\n",
    "if n == 1:\n",
    "    print(sum(li) - max(li))\n",
    "else:\n",
    "    # A, F 동시 불가, B, E 동시 불가, C, D 동시 불가\n",
    "    one = min(li)\n",
    "    two = min([A + B, A + C, A + D, A + E, B + C, B + D, B + F, C + E, C + F, D + E, D + F, E + F])\n",
    "    three = min([A + B + C, A + B + D, A + C + E, A + D + E, B + C + F, B + D + F, C + E + F, D + E + F])\n",
    "    \n",
    "    if n == 2:\n",
    "        print(three * 4 + two * 4)      \n",
    "    else:\n",
    "        one_result = (((n - 2) ** 2) * 5 + (n - 2) * 4) * one\n",
    "        two_result = ((n - 2) * 8 + 4) * two\n",
    "        three_result = 4 * three\n",
    "\n",
    "        print(one_result + two_result + three_result)"
   ]
  },
  {
   "cell_type": "markdown",
   "metadata": {},
   "source": [
    "### 과제 13904"
   ]
  },
  {
   "cell_type": "code",
   "execution_count": 1,
   "metadata": {},
   "outputs": [],
   "source": [
    "import heapq"
   ]
  },
  {
   "cell_type": "code",
   "execution_count": 15,
   "metadata": {},
   "outputs": [
    {
     "name": "stdout",
     "output_type": "stream",
     "text": [
      "7\n",
      "4 60\n",
      "4 40\n",
      "1 20\n",
      "2 50\n",
      "3 30\n",
      "4 10\n",
      "6 5\n",
      "185\n"
     ]
    }
   ],
   "source": [
    "import heapq\n",
    "import sys\n",
    "input = sys.stdin.readline\n",
    "\n",
    "n = int(input().rstrip())\n",
    "heap = []\n",
    "for _ in range(n):\n",
    "    d, w = map(int, input().rstrip().split())\n",
    "    \n",
    "    heapq.heappush(heap, (-d, w))\n",
    "\n",
    "d, w = heapq.heappop(heap)\n",
    "current_d = -d\n",
    "heapq.heappush(heap, (d, w))\n",
    "\n",
    "candidates = []\n",
    "total_score = 0\n",
    "while current_d >= 1:\n",
    "    while True:\n",
    "        if not heap:\n",
    "            break\n",
    "        \n",
    "        d, w = heapq.heappop(heap)\n",
    "        if -d < current_d:\n",
    "            heapq.heappush(heap, (d, w))\n",
    "            break\n",
    "        heapq.heappush(candidates, -w)\n",
    "    \n",
    "    if candidates:\n",
    "        total_score += -heapq.heappop(candidates)\n",
    "        \n",
    "    current_d -= 1\n",
    "    \n",
    "print(total_score)"
   ]
  },
  {
   "cell_type": "code",
   "execution_count": 16,
   "metadata": {
    "scrolled": true
   },
   "outputs": [
    {
     "name": "stdout",
     "output_type": "stream",
     "text": [
      "7\n",
      "4 60\n",
      "4 40\n",
      "1 20\n",
      "2 50\n",
      "3 30\n",
      "4 10\n",
      "6 5\n",
      "185\n"
     ]
    }
   ],
   "source": [
    "import heapq\n",
    "import sys\n",
    "# input = sys.stdin.readline\n",
    "\n",
    "n = int(input())\n",
    "\n",
    "li = []\n",
    "for _ in range(n):\n",
    "    d, r = map(int, input().split())\n",
    "    li.append((d, r))\n",
    "\n",
    "li.sort(key=lambda x: x[0])\n",
    "\n",
    "heap = []\n",
    "for d, r in li:\n",
    "    heapq.heappush(heap, r)  \n",
    "    if len(heap) > d:\n",
    "        heapq.heappop(heap)\n",
    "\n",
    "print(sum(heap))"
   ]
  },
  {
   "cell_type": "markdown",
   "metadata": {},
   "source": [
    "### 책 나눠주기 9576\n",
    "- 이분 매칭"
   ]
  },
  {
   "cell_type": "markdown",
   "metadata": {},
   "source": [
    "min(범위) 가 x보다 같거나 낮은 것들이 있다면 (범위에 포함되어있는 경우) 그 중에서 max(범위)가 가장 작은 것을 선택함"
   ]
  },
  {
   "cell_type": "code",
   "execution_count": null,
   "metadata": {},
   "outputs": [],
   "source": [
    "import heapq\n",
    "\n",
    "n, m = map(int, input().split())\n",
    "heap = [tuple(map(int, input().split())) for _ in range(m)]\n",
    "heapq.heapify(heap)"
   ]
  },
  {
   "cell_type": "code",
   "execution_count": 30,
   "metadata": {},
   "outputs": [
    {
     "name": "stdout",
     "output_type": "stream",
     "text": [
      "1\n",
      "2 3\n",
      "1 2\n",
      "1 2\n",
      "1 2\n",
      "2\n"
     ]
    }
   ],
   "source": [
    "import heapq\n",
    "import sys\n",
    "input = sys.stdin.readline\n",
    "\n",
    "T = int(input().rstrip())\n",
    "for _ in range(T):\n",
    "    n, m = map(int, input().rstrip().split())\n",
    "    heap = [tuple(map(int, input().rstrip().split())) for _ in range(m)]\n",
    "    heapq.heapify(heap)\n",
    "\n",
    "    candidates = []\n",
    "    count = 0\n",
    "    for i in range(1, n + 1):\n",
    "        while True:\n",
    "            if heap:\n",
    "                start, end = heapq.heappop(heap)\n",
    "                if start <= i <= end:\n",
    "                    heapq.heappush(candidates, (end, start))\n",
    "                else:\n",
    "                    heapq.heappush(heap, (start, end))\n",
    "                    break\n",
    "            else:\n",
    "                break  \n",
    "\n",
    "        while True:\n",
    "            if candidates:\n",
    "                end, start = heapq.heappop(candidates)\n",
    "                if end < i:\n",
    "                    continue\n",
    "                else:\n",
    "                    count += 1\n",
    "                    break\n",
    "            else:\n",
    "                break\n",
    "\n",
    "    print(count)"
   ]
  },
  {
   "cell_type": "markdown",
   "metadata": {},
   "source": [
    "### 택배 8980\n",
    "- 정렬"
   ]
  },
  {
   "cell_type": "code",
   "execution_count": null,
   "metadata": {},
   "outputs": [],
   "source": [
    "### 도착을 먼저하는 것부터, 그 후로 출발을 늦게하는 것부터 고려"
   ]
  },
  {
   "cell_type": "code",
   "execution_count": 32,
   "metadata": {},
   "outputs": [
    {
     "name": "stdout",
     "output_type": "stream",
     "text": [
      "4 40\n",
      "6\n",
      "3 4 20\n",
      "1 2 10\n",
      "1 3 20\n",
      "1 4 30\n",
      "2 3 10\n",
      "2 4 20\n"
     ]
    }
   ],
   "source": [
    "n, c = map(int, input().split())\n",
    "m = int(input())\n",
    "li= [tuple(map(int, input().split())) for _ in range(m)]"
   ]
  },
  {
   "cell_type": "code",
   "execution_count": 47,
   "metadata": {},
   "outputs": [
    {
     "name": "stdout",
     "output_type": "stream",
     "text": [
      "70\n"
     ]
    }
   ],
   "source": [
    "import sys\n",
    "# input = sys.stdin.readline\n",
    "\n",
    "n, c = map(int, input().rstrip().split())\n",
    "m = int(input())\n",
    "li= [tuple(map(int, input().rstrip().split())) for _ in range(m)]\n",
    "\n",
    "li.sort(key=lambda x: (x[1], -x[0]))\n",
    "\n",
    "vil = [0] * (n + 1)\n",
    "total = 0\n",
    "for _from, _to, amount in li:\n",
    "    available = c - max(vil[_from:_to])\n",
    "    to_add = min(available, amount)\n",
    "    total += to_add\n",
    "    for i in range(_from, _to):\n",
    "        vil[i] += to_add\n",
    "        \n",
    "print(total)"
   ]
  },
  {
   "cell_type": "markdown",
   "metadata": {},
   "source": [
    "### 통학버스 2513"
   ]
  },
  {
   "cell_type": "code",
   "execution_count": null,
   "metadata": {},
   "outputs": [],
   "source": [
    "# 맞았음\n",
    "from collections import deque\n",
    "import sys\n",
    "# input = sys.stdin.readline\n",
    "\n",
    "n, k, s = map(int, input().rstrip().split())\n",
    "left_coords = deque()\n",
    "left_people_counts = deque()\n",
    "right_coords = deque()\n",
    "right_people_counts = deque()\n",
    "\n",
    "li = [list(map(int, input().rstrip().split())) for _ in range(n)]\n",
    "li.sort()\n",
    "\n",
    "for i in range(n):\n",
    "    coord, count = li[i]\n",
    "    \n",
    "    if coord < s:\n",
    "        left_coords.append(coord)\n",
    "        left_people_counts.append(count)\n",
    "    else:\n",
    "        right_coords.append(coord)\n",
    "        right_people_counts.append(count)\n",
    "        \n",
    "right_coords.reverse()\n",
    "right_people_counts.reverse()\n",
    "\n",
    "total_distance = 0\n",
    "while left_coords:\n",
    "    distance = (left_people_counts[0] // k) * (s - left_coords[0]) * 2\n",
    "    \n",
    "    remained = 0\n",
    "    if left_people_counts[0] % k:\n",
    "        distance += (s - left_coords[0]) * 2\n",
    "        remained = k - left_people_counts[0] % k\n",
    "\n",
    "    left_coords.popleft()\n",
    "    left_people_counts.popleft()\n",
    "    \n",
    "    while remained and left_coords:\n",
    "        additional_count = min(left_people_counts[0], remained)\n",
    "\n",
    "        left_people_counts[0] -= additional_count\n",
    "        remained -= additional_count\n",
    "\n",
    "        if left_people_counts[0] == 0:\n",
    "            left_coords.popleft()\n",
    "            left_people_counts.popleft()\n",
    "                \n",
    "    total_distance += distance\n",
    "\n",
    "while right_coords:\n",
    "    distance = (right_people_counts[0] // k) * (right_coords[0] - s) * 2\n",
    "    \n",
    "    remained = 0\n",
    "    if right_people_counts[0] % k:\n",
    "        distance += (right_coords[0] - s) * 2\n",
    "        remained = k - right_people_counts[0] % k\n",
    "            \n",
    "    right_coords.popleft()\n",
    "    right_people_counts.popleft()\n",
    "    \n",
    "    while remained and right_coords:\n",
    "        additional_count = min(right_people_counts[0], remained)\n",
    "\n",
    "        right_people_counts[0] -= additional_count\n",
    "        remained -= additional_count\n",
    "\n",
    "        if right_people_counts[0] == 0:\n",
    "            right_coords.popleft()\n",
    "            right_people_counts.popleft()\n",
    "            \n",
    "    total_distance += distance\n",
    "            \n",
    "print(total_distance)"
   ]
  },
  {
   "cell_type": "code",
   "execution_count": 51,
   "metadata": {},
   "outputs": [
    {
     "name": "stdout",
     "output_type": "stream",
     "text": [
      "2 15 2\n",
      "3 10\n",
      "4 5\n",
      "4\n"
     ]
    }
   ],
   "source": [
    "# 맞았음, 코드 좀 더 간략화 시켰음\n",
    "from collections import deque\n",
    "import sys\n",
    "# input = sys.stdin.readline\n",
    "\n",
    "n, k, s = map(int, input().rstrip().split())\n",
    "left_coords = deque()\n",
    "left_people_counts = deque()\n",
    "right_coords = deque()\n",
    "right_people_counts = deque()\n",
    "\n",
    "li = [list(map(int, input().rstrip().split())) for _ in range(n)]\n",
    "li.sort()\n",
    "\n",
    "for i in range(n):\n",
    "    coord, count = li[i]\n",
    "    \n",
    "    if coord < s:\n",
    "        left_coords.append(coord)\n",
    "        left_people_counts.append(count)\n",
    "    else:\n",
    "        right_coords.append(coord)\n",
    "        right_people_counts.append(count)\n",
    "        \n",
    "right_coords.reverse()\n",
    "right_people_counts.reverse()\n",
    "\n",
    "def add_distance(coords, counts):\n",
    "    total_distance = 0\n",
    "    while coords:\n",
    "        distance = (counts[0] // k) * (abs(s - coords[0])) * 2\n",
    "\n",
    "        remained = 0\n",
    "        if counts[0] % k:\n",
    "            distance += (abs(s - coords[0])) * 2\n",
    "            remained = k - counts[0] % k\n",
    "\n",
    "        coords.popleft()\n",
    "        counts.popleft()\n",
    "\n",
    "        while remained and coords:\n",
    "            additional_count = min(counts[0], remained)\n",
    "\n",
    "            counts[0] -= additional_count\n",
    "            remained -= additional_count\n",
    "\n",
    "            if counts[0] == 0:\n",
    "                coords.popleft()\n",
    "                counts.popleft()\n",
    "                \n",
    "        total_distance += distance\n",
    "        \n",
    "    return total_distance\n",
    "        \n",
    "print(add_distance(left_coords, left_people_counts) + add_distance(right_coords, right_people_counts))"
   ]
  },
  {
   "cell_type": "markdown",
   "metadata": {},
   "source": [
    "### 댄스 파티 2831"
   ]
  },
  {
   "cell_type": "code",
   "execution_count": 61,
   "metadata": {},
   "outputs": [
    {
     "name": "stdout",
     "output_type": "stream",
     "text": [
      "3\n",
      "2 4 3\n",
      "-3 -4 -5\n",
      "3\n"
     ]
    }
   ],
   "source": [
    "n = int(input())\n",
    "\n",
    "males = list(map(int, input().split()))\n",
    "females = list(map(int, input().split()))\n",
    "\n",
    "male_minus = [-v for v in males if v < 0]\n",
    "male_plus = [v for v in males if v > 0]\n",
    "female_minus = [-v for v in females if v < 0]\n",
    "female_plus = [v for v in females if v > 0]\n",
    "\n",
    "male_minus.sort()\n",
    "male_plus.sort()\n",
    "female_minus.sort()\n",
    "female_plus.sort()\n",
    "\n",
    "def get_count(minuses, pluses):\n",
    "    count = 0\n",
    "    while minuses and pluses:\n",
    "        minus = minuses.pop()\n",
    "    \n",
    "        while pluses:\n",
    "            plus = pluses.pop()\n",
    "            if plus < minus:\n",
    "                count += 1\n",
    "                break\n",
    "    return count\n",
    "    \n",
    "print(get_count(male_minus, female_plus) + get_count(female_minus, male_plus))"
   ]
  },
  {
   "cell_type": "markdown",
   "metadata": {},
   "source": [
    "### 토너먼트 만들기 2262"
   ]
  },
  {
   "cell_type": "code",
   "execution_count": null,
   "metadata": {},
   "outputs": [],
   "source": [
    "# 일단 포기\n",
    "n = int(input())\n",
    "li = list(map(int, input().split()))\n",
    "\n",
    "min_result = 0\n",
    "while len(li) > 1:\n",
    "    if len(li) == 2:\n",
    "        min_result += max(li) - min(li)\n",
    "        break\n",
    "        \n",
    "    new_li = []\n",
    "    i = 0\n",
    "    while i + 2 < len(li)\n",
    "        diff1 = abs(li[i] - li[i + 1])\n",
    "        diff2 = abs(li[i + 1] - li[i + 2])\n",
    "        \n",
    "        if diff1 <= diff2:\n",
    "            min_result += diff1\n",
    "            new_li.append(min(li[i], li[i + 1]))\n",
    "            i += 2\n",
    "        else:\n",
    "            new_li.append(li[i])\n",
    "            min_result += diff2\n",
    "            new_li.append(min(li[i + 1], li[i + 2]))\n",
    "            i += 3"
   ]
  },
  {
   "cell_type": "markdown",
   "metadata": {},
   "source": [
    "### 뒤집기 3 1464"
   ]
  },
  {
   "cell_type": "code",
   "execution_count": 72,
   "metadata": {},
   "outputs": [
    {
     "name": "stdout",
     "output_type": "stream",
     "text": [
      "BCDAF\n"
     ]
    }
   ],
   "source": [
    "## 일단 시간초과 예상, 일단 포기\n",
    "\n",
    "s = input()\n",
    "s_li = list(s)\n",
    "\n",
    "def chr_to_num(x):\n",
    "    return ord(x) - 64\n",
    "\n",
    "li = list(map(chr_to_num, s))\n",
    "\n",
    "def get_min_index(li):   \n",
    "    index = 0\n",
    "    min_value = float('inf')\n",
    "    for i, v in enumerate(li):\n",
    "        if v < min_value:\n",
    "            min_value = v\n",
    "            index = i\n",
    "    return index\n",
    "\n",
    "def get_max_index(li):   \n",
    "    index = 0\n",
    "    max_value = 0\n",
    "    for i, v in enumerate(li):\n",
    "        if v > max_value:\n",
    "            max_value = v\n",
    "            index = i\n",
    "    return index\n",
    "\n",
    "sequence = []\n",
    "index = len(li)\n",
    "while True:\n",
    "    index = get_min_index(li[:index])\n",
    "    sequence.append(index)\n",
    "    \n",
    "    if index == 0:\n",
    "        break\n",
    "        \n",
    "    index = get_max_index(li[:index])\n",
    "    sequence.append(index)\n",
    "    \n",
    "    if index == 0:\n",
    "        break\n",
    "        \n",
    "for v in reversed(sequence):\n",
    "    pass"
   ]
  },
  {
   "cell_type": "code",
   "execution_count": 74,
   "metadata": {},
   "outputs": [
    {
     "name": "stdout",
     "output_type": "stream",
     "text": [
      "[0, 2, 3]\n"
     ]
    }
   ],
   "source": [
    "sequence.reverse()\n",
    "print(sequence)"
   ]
  }
 ],
 "metadata": {
  "kernelspec": {
   "display_name": "Python 3",
   "language": "python",
   "name": "python3"
  },
  "language_info": {
   "codemirror_mode": {
    "name": "ipython",
    "version": 3
   },
   "file_extension": ".py",
   "mimetype": "text/x-python",
   "name": "python",
   "nbconvert_exporter": "python",
   "pygments_lexer": "ipython3",
   "version": "3.7.3"
  }
 },
 "nbformat": 4,
 "nbformat_minor": 4
}
