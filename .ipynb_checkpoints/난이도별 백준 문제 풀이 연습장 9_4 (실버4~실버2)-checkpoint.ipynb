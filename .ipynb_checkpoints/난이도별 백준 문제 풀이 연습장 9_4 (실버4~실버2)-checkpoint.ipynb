{
 "cells": [
  {
   "cell_type": "markdown",
   "metadata": {},
   "source": [
    "tier:s2 solved:100.. - solved_by:hsh8086 - id:15353"
   ]
  },
  {
   "cell_type": "markdown",
   "metadata": {},
   "source": [
    "### 순열 사이클 10451"
   ]
  },
  {
   "cell_type": "code",
   "execution_count": 4,
   "metadata": {},
   "outputs": [
    {
     "name": "stdout",
     "output_type": "stream",
     "text": [
      "10\n",
      "2 1 3 4 5 6 7 9 10 8\n",
      "7\n"
     ]
    }
   ],
   "source": [
    "import sys\n",
    "input = lambda: sys.stdin.readline().rstrip()\n",
    "\n",
    "get_value = lambda x: int(x) - 1\n",
    "\n",
    "for _ in range(int(input())):\n",
    "    n = int(input())\n",
    "    li = list(map(get_value, input().split()))\n",
    "\n",
    "    vt = [False] * n\n",
    "    count = 0\n",
    "    for i in range(n):\n",
    "        if vt[i]:\n",
    "            continue\n",
    "        vt[i] = True\n",
    "        count += 1\n",
    "\n",
    "        v = i\n",
    "        while True:\n",
    "            v = li[v]\n",
    "            if vt[v]:\n",
    "                break\n",
    "            vt[v] = True\n",
    "\n",
    "    print(count)"
   ]
  },
  {
   "cell_type": "markdown",
   "metadata": {},
   "source": [
    "### Cow Baseball 9873"
   ]
  },
  {
   "cell_type": "code",
   "execution_count": 10,
   "metadata": {},
   "outputs": [
    {
     "name": "stdout",
     "output_type": "stream",
     "text": [
      "5\n",
      "3\n",
      "1\n",
      "10\n",
      "7\n",
      "4\n",
      "4\n"
     ]
    }
   ],
   "source": [
    "from bisect import bisect, bisect_left\n",
    "import sys\n",
    "input = lambda: sys.stdin.readline().rstrip()\n",
    "\n",
    "n = int(input())\n",
    "li = [int(input()) for _ in range(n)]\n",
    "li.sort()\n",
    "\n",
    "total = 0\n",
    "for i in range(n):\n",
    "    for j in range(i + 1, n):\n",
    "        diff = li[j] - li[i]\n",
    "        \n",
    "        s = bisect_left(li, li[j] + diff,  lo=j + 1)\n",
    "        e = bisect(li, li[j] + diff * 2, lo=j + 1)\n",
    "        \n",
    "        total += e - s\n",
    "        \n",
    "print(total)"
   ]
  },
  {
   "cell_type": "markdown",
   "metadata": {},
   "source": [
    "### 한 줄로 서기 1138"
   ]
  },
  {
   "cell_type": "code",
   "execution_count": 11,
   "metadata": {},
   "outputs": [
    {
     "name": "stdout",
     "output_type": "stream",
     "text": [
      "10\n",
      "0 0 0 0 0 0 0 0 0 0\n",
      "1 2 3 4 5 6 7 8 9 10\n"
     ]
    }
   ],
   "source": [
    "from itertools import permutations as perm\n",
    "\n",
    "def check(case):\n",
    "    cur = []\n",
    "    for num in case:\n",
    "        c = 0\n",
    "        for v in cur:\n",
    "            if v > num:\n",
    "                c += 1\n",
    "        if c != li[num - 1]:\n",
    "            return False\n",
    "        cur.append(num)\n",
    "    return True\n",
    "\n",
    "n = int(input())\n",
    "li = list(map(int, input().split()))\n",
    "\n",
    "cases = perm(range(1, n + 1))\n",
    "for case in cases:\n",
    "    if check(case):\n",
    "        print(*case)\n",
    "        break"
   ]
  },
  {
   "cell_type": "markdown",
   "metadata": {},
   "source": [
    "### 숫자판 점프 2210"
   ]
  },
  {
   "cell_type": "code",
   "execution_count": 13,
   "metadata": {},
   "outputs": [
    {
     "name": "stdout",
     "output_type": "stream",
     "text": [
      "1 1 1 1 1\n",
      "1 1 1 1 1\n",
      "1 1 1 1 1\n",
      "1 1 1 1 1\n",
      "1 1 1 1 1\n"
     ]
    }
   ],
   "source": [
    "li = [list(map(int, input().split())) for _ in range(5)]\n",
    "\n"
   ]
  },
  {
   "cell_type": "code",
   "execution_count": 26,
   "metadata": {},
   "outputs": [
    {
     "name": "stdout",
     "output_type": "stream",
     "text": [
      "1 1 1 1 1\n",
      "1 1 1 1 1\n",
      "1 1 1 1 1\n",
      "1 1 1 2 1\n",
      "1 1 1 1 1\n",
      "15\n"
     ]
    }
   ],
   "source": [
    "from itertools import product\n",
    "\n",
    "li = [list(map(int, input().split())) for _ in range(5)]\n",
    "\n",
    "dx = [-1, 1, 0, 0]\n",
    "dy = [0, 0, -1, 1]\n",
    "\n",
    "st = set()\n",
    "for sx in range(5):\n",
    "    for sy in range(5):\n",
    "        p = product(*([range(4)] * 5))\n",
    "        for seq in p:\n",
    "            x, y = sx, sy\n",
    "            temp = str(li[x][y])\n",
    "            for d in seq:\n",
    "                nx, ny = x + dx[d], y + dy[d]\n",
    "                if nx < 0 or nx >= 5 or ny < 0 or ny >= 5:\n",
    "                    break\n",
    "                x, y = nx, ny\n",
    "                temp += str(li[x][y])\n",
    "                \n",
    "            if len(temp) == 6:\n",
    "                st.add(temp)\n",
    "            \n",
    "r = len(st)\n",
    "\n",
    "print(r)"
   ]
  },
  {
   "cell_type": "markdown",
   "metadata": {},
   "source": [
    "### 창고 다각형 2304"
   ]
  },
  {
   "cell_type": "code",
   "execution_count": 60,
   "metadata": {},
   "outputs": [
    {
     "name": "stdout",
     "output_type": "stream",
     "text": [
      "4\n"
     ]
    }
   ],
   "source": [
    "import sys\n",
    "input = lambda: sys.stdin.readline().rstrip()\n",
    "\n",
    "n = int(input())\n",
    "li = [list(map(int, input().split())) for _ in range(n)]\n",
    "\n",
    "li.sort()\n",
    "\n",
    "max_h = 0\n",
    "max_h_locs = []\n",
    "for loc, h in li:\n",
    "    if h > max_h:\n",
    "        max_h = h\n",
    "        max_h_locs = [loc]\n",
    "    elif h == max_h:\n",
    "        max_h_locs.append(loc)\n",
    "\n",
    "nhs = [0] * 1001 # needed heights\n",
    "cur_h = 0\n",
    "floc = -1\n",
    "for loc, h in li:\n",
    "    if cur_h == 0:\n",
    "        cur_h = h\n",
    "        nhs[loc] = cur_h\n",
    "    else:\n",
    "        for v in range(floc + 1, loc):\n",
    "            nhs[v] = cur_h\n",
    "        cur_h = max(cur_h, h)\n",
    "        nhs[loc] = cur_h\n",
    "        \n",
    "    floc = loc\n",
    "    if loc == max_h_locs[0]:\n",
    "        break\n",
    "        \n",
    "for loc in range(max_h_locs[0], max_h_locs[-1] + 1):\n",
    "    nhs[loc] = max_h\n",
    "        \n",
    "cur_h = 0\n",
    "floc = -1\n",
    "for loc, h in reversed(li):\n",
    "    if cur_h == 0:\n",
    "        cur_h = h\n",
    "        nhs[loc] = cur_h\n",
    "    else:\n",
    "        for v in range(floc - 1, loc, -1):\n",
    "            nhs[v] = cur_h\n",
    "        cur_h = max(cur_h, h)\n",
    "        nhs[loc] = cur_h\n",
    "        \n",
    "    floc = loc\n",
    "    if loc == max_h_locs[-1]:\n",
    "        break\n",
    "        \n",
    "r = sum(nhs)\n",
    "\n",
    "print(r)"
   ]
  },
  {
   "cell_type": "code",
   "execution_count": 71,
   "metadata": {},
   "outputs": [
    {
     "name": "stdout",
     "output_type": "stream",
     "text": [
      "1\n",
      "3 3\n",
      "3\n"
     ]
    }
   ],
   "source": [
    "import sys\n",
    "# input = lambda: sys.stdin.readline().rstrip()\n",
    "\n",
    "n = int(input())\n",
    "li = [list(map(int, input().split())) for _ in range(n)]\n",
    "\n",
    "li.sort()\n",
    "\n",
    "max_h = max([v[1] for v in li])\n",
    "\n",
    "nli = [0] * 1001\n",
    "for loc, h in li:\n",
    "    nli[loc] = h\n",
    "\n",
    "cur_h = 0\n",
    "mle = -1 # max left end\n",
    "for loc in range(1001):\n",
    "    if nli[loc] == max_h:\n",
    "        mle = loc\n",
    "        break\n",
    "    cur_h = max(cur_h, nli[loc])\n",
    "    nli[loc] = cur_h\n",
    "    \n",
    "cur_h = 0\n",
    "mre = -1 # max right end\n",
    "for loc in range(1000, -1, -1):\n",
    "    if nli[loc] == max_h:\n",
    "        mre = loc\n",
    "        break\n",
    "    cur_h = max(cur_h, nli[loc])\n",
    "    nli[loc] = cur_h\n",
    "    \n",
    "for loc in range(mle, mre + 1):\n",
    "    nli[loc] = max_h\n",
    "    \n",
    "r = sum(nli)\n",
    "\n",
    "print(r)"
   ]
  },
  {
   "cell_type": "markdown",
   "metadata": {},
   "source": [
    "### 후보 추천하기 1713"
   ]
  },
  {
   "cell_type": "code",
   "execution_count": 75,
   "metadata": {},
   "outputs": [
    {
     "name": "stdout",
     "output_type": "stream",
     "text": [
      "2 6 7\n"
     ]
    }
   ],
   "source": [
    "n = int(input())\n",
    "m = int(input())\n",
    "li = list(map(int, input().split()))\n",
    "\n",
    "cur = [] # [처음 등재된 순서, 학생 번호, 추천 수]\n",
    "st = set()\n",
    "for i in range(m):\n",
    "    if li[i] in st:\n",
    "        for j in range(len(cur)):\n",
    "            if cur[j][1] == li[i]:\n",
    "                cur[j][2] += 1\n",
    "                break\n",
    "        continue\n",
    "    st.add(li[i])\n",
    "    \n",
    "    if len(cur) == n:\n",
    "        mrc = float('inf') # min recommended count\n",
    "        oldest_seq = float('inf')\n",
    "        ti = float('inf') # target index\n",
    "        \n",
    "        for index, (seq, num, c) in enumerate(cur):\n",
    "            if c < mrc:\n",
    "                mrc = c\n",
    "                oldest_seq = seq\n",
    "                ti = index\n",
    "            elif c == mrc:\n",
    "                if seq < oldest_seq:\n",
    "                    oldest_seq = seq\n",
    "                    ti = index\n",
    "        st.discard(cur[ti][1])\n",
    "        del cur[ti]\n",
    "        \n",
    "    cur.append([i, li[i], 1])\n",
    "    \n",
    "r = [v[1] for v in cur]\n",
    "r.sort()\n",
    "\n",
    "print(*r)"
   ]
  },
  {
   "cell_type": "markdown",
   "metadata": {},
   "source": [
    "### 배열 돌리기 1 16926"
   ]
  },
  {
   "cell_type": "markdown",
   "metadata": {},
   "source": [
    "배열을 겹별로 deque로 분리하고서 회전한다음 다시 재구성"
   ]
  },
  {
   "cell_type": "code",
   "execution_count": 100,
   "metadata": {},
   "outputs": [
    {
     "name": "stdout",
     "output_type": "stream",
     "text": [
      "2 2 2\n",
      "1 1\n",
      "1 1\n",
      "1 1\n",
      "1 1\n"
     ]
    }
   ],
   "source": [
    "from collections import deque\n",
    "\n",
    "# for n in range(2, 6):\n",
    "#     for m in range(2, 6):\n",
    "#         if min(n, m) % 2 == 1:\n",
    "#             continue\n",
    "            \n",
    "#         print(n, m)\n",
    "\n",
    "# temp = [1] * m\n",
    "# for _ in range(n):\n",
    "#     li.append(deque(temp))\n",
    "\n",
    "n, m, r = map(int, input().split())\n",
    "li = [deque(map(int, input().split())) for _ in range(n)]\n",
    "\n",
    "deqs = []\n",
    "cur_s = 0\n",
    "cur_e = n - 1\n",
    "while True:\n",
    "    temp = deque()\n",
    "\n",
    "    while li[cur_s]:\n",
    "        temp.append(li[cur_s].popleft())\n",
    "    for i in range(cur_s + 1, cur_e):\n",
    "        temp.append(li[i].pop())\n",
    "    while li[cur_e]:\n",
    "        temp.append(li[cur_e].pop())\n",
    "    for i in range(cur_e - 1, cur_s, -1):\n",
    "        temp.append(li[i].popleft())\n",
    "    deqs.append(temp.copy())\n",
    "\n",
    "    cur_s += 1\n",
    "    cur_e -= 1\n",
    "    if cur_s >= cur_e:\n",
    "        break\n",
    "    if not li[cur_s]:\n",
    "        break\n",
    "\n",
    "for v in deqs:\n",
    "    v.rotate(-r)\n",
    "\n",
    "ans = deque()\n",
    "while deqs:\n",
    "    cur_m = m - (len(deqs) - 1) * 2\n",
    "    cur_n = n - (len(deqs) - 1) * 2\n",
    "\n",
    "    deq = deqs.pop()\n",
    "    temp = deque()\n",
    "    for _ in range(cur_m):\n",
    "        temp.append(deq.popleft())\n",
    "    ans.appendleft(temp.copy())\n",
    "\n",
    "    for i in range(1, cur_n - 1):\n",
    "        if len(ans) == i:\n",
    "            ans.append(deque())\n",
    "        ans[i].append(deq.popleft())\n",
    "\n",
    "    temp = deque()\n",
    "    for _ in range(cur_m):\n",
    "        temp.append(deq.popleft())\n",
    "    ans.append(deque(reversed(temp)))\n",
    "\n",
    "    for i in range(len(ans) - 2, 0, -1):\n",
    "        ans[i].appendleft(deq.popleft())\n",
    "\n",
    "for v in ans:\n",
    "    print(*v)"
   ]
  },
  {
   "cell_type": "code",
   "execution_count": 4,
   "metadata": {},
   "outputs": [
    {
     "name": "stdout",
     "output_type": "stream",
     "text": [
      "FFFBBBRFFFBBB\n",
      "9\n"
     ]
    }
   ],
   "source": [
    "# 북, 서, 남, 동\n",
    "dx = [-1, 0, 1, 0]\n",
    "dy = [0, -1, 0, 1]\n",
    "\n",
    "for _ in range(int(input())):\n",
    "    s = input()\n",
    "\n",
    "    d = 0\n",
    "    x = 1000\n",
    "    y = 1000\n",
    "\n",
    "    xmin = x\n",
    "    xmax = x\n",
    "    ymin = y\n",
    "    ymax = y\n",
    "\n",
    "    for v in s:\n",
    "        if v == 'F':\n",
    "            x += dx[d]\n",
    "            y += dy[d]\n",
    "        elif v == 'B':\n",
    "            x -= dx[d]\n",
    "            y -= dy[d]\n",
    "        elif v == 'L':\n",
    "            d -= 1\n",
    "            d %= 4\n",
    "        else:\n",
    "            d += 1\n",
    "            d %= 4\n",
    "\n",
    "        xmin = min(xmin, x)\n",
    "        xmax = max(xmax, x)\n",
    "        ymin = min(ymin, y)\n",
    "        ymax = max(ymax, y)\n",
    "\n",
    "    r = (xmax - xmin) * (ymax - ymin)\n",
    "\n",
    "    print(r)"
   ]
  },
  {
   "cell_type": "markdown",
   "metadata": {},
   "source": [
    "### 지구 온난화 5212"
   ]
  },
  {
   "cell_type": "code",
   "execution_count": 20,
   "metadata": {},
   "outputs": [
    {
     "name": "stdout",
     "output_type": "stream",
     "text": [
      "5 3\n",
      "...\n",
      ".X.\n",
      ".X.\n",
      ".X.\n",
      "...\n",
      "X\n"
     ]
    }
   ],
   "source": [
    "n, m = map(int, input().split())\n",
    "li = [list(input()) for _ in range(n)]\n",
    "\n",
    "dx = [-1, 1, 0, 0]\n",
    "dy = [0, 0, -1, 1]\n",
    "\n",
    "wbs = [] # will become sea\n",
    "for i in range(n):\n",
    "    for j in range(m):\n",
    "        count = 0\n",
    "        for d in range(4):\n",
    "            ni = i + dx[d]\n",
    "            nj = j + dy[d]\n",
    "            \n",
    "            if ni < 0 or ni >= n or nj < 0 or nj >= m:\n",
    "                count += 1\n",
    "                continue\n",
    "            if li[ni][nj] == '.':\n",
    "                count += 1\n",
    "                \n",
    "        if count >= 3:\n",
    "            wbs.append((i, j))\n",
    "            \n",
    "for i, j in wbs:\n",
    "    li[i][j] = '.'\n",
    "    \n",
    "while True:\n",
    "    is_x = False\n",
    "    for j in range(m):\n",
    "        if li[0][j] == 'X':\n",
    "            is_x = True\n",
    "            break\n",
    "    if is_x:\n",
    "        break\n",
    "            \n",
    "    del li[0]\n",
    "    \n",
    "while True:\n",
    "    is_x = False\n",
    "    for j in range(m):\n",
    "        if li[-1][j] == 'X':\n",
    "            is_x = True\n",
    "            break\n",
    "            \n",
    "    if is_x:\n",
    "        break\n",
    "            \n",
    "    li.pop()\n",
    "    \n",
    "nn = len(li) \n",
    "while True:\n",
    "    is_x = False\n",
    "    for i in range(nn):\n",
    "        if li[i][0] == 'X':\n",
    "            is_x = True\n",
    "            break\n",
    "            \n",
    "    if is_x:\n",
    "        break\n",
    "            \n",
    "    for i in range(nn):\n",
    "        del li[i][0]\n",
    "        \n",
    "while True:\n",
    "    is_x = False\n",
    "    for i in range(nn):\n",
    "        if li[i][-1] == 'X':\n",
    "            is_x = True\n",
    "            break\n",
    "            \n",
    "    if is_x:\n",
    "        break\n",
    "    \n",
    "    for i in range(nn):\n",
    "        li[i].pop()\n",
    "        \n",
    "for v in li:\n",
    "    print(''.join(v))"
   ]
  },
  {
   "cell_type": "markdown",
   "metadata": {},
   "source": [
    "### 별 찍기 - 22 10997"
   ]
  },
  {
   "cell_type": "code",
   "execution_count": 42,
   "metadata": {},
   "outputs": [
    {
     "name": "stdout",
     "output_type": "stream",
     "text": [
      "*************\n",
      "*\n",
      "* ***********\n",
      "* *         *\n",
      "* * ******* *\n",
      "* * *     * *\n",
      "* * * *** * *\n",
      "* * * * * * *\n",
      "* * * * * * *\n",
      "* * *   * * *\n",
      "* * ***** * *\n",
      "* *       * *\n",
      "* ********* *\n",
      "*           *\n",
      "*************\n"
     ]
    }
   ],
   "source": [
    "from collections import deque\n",
    "\n",
    "n = int(input())\n",
    "\n",
    "if n == 1:\n",
    "    print('*')\n",
    "else:\n",
    "    s = '''*****\n",
    "*\n",
    "* ***\n",
    "* * *\n",
    "* * *\n",
    "*   *\n",
    "*****'''\n",
    "\n",
    "    deq = deque(deque(v.ljust(5, ' ')) for v in s.split('\\n'))\n",
    "    \n",
    "    cur_len = 9\n",
    "    for _ in range(n - 2):\n",
    "        for i in range(len(deq)):\n",
    "            deq[i].appendleft(' ')\n",
    "            deq[i].appendleft('*')\n",
    "            deq[i].append(' ')\n",
    "            deq[i].append('*')\n",
    "        deq[0][-2] = '*'\n",
    "    \n",
    "        deq.appendleft(deque('*' + ' ' * (cur_len - 1)))\n",
    "        deq.appendleft(deque('*' * cur_len))\n",
    "        deq.append(deque('*' + ' ' * (cur_len - 2) + '*'))\n",
    "        deq.append(deque('*' * cur_len))\n",
    "        \n",
    "        cur_len += 4\n",
    "       \n",
    "    for v in deq:\n",
    "        print(''.join(v).rstrip())"
   ]
  },
  {
   "cell_type": "markdown",
   "metadata": {},
   "source": [
    "### LCD Test 2290"
   ]
  },
  {
   "cell_type": "code",
   "execution_count": 48,
   "metadata": {},
   "outputs": [
    {
     "name": "stdout",
     "output_type": "stream",
     "text": [
      "2 0123456789\n",
      " --        --   --        --   --   --   --   --  \n",
      "|  |    |    |    | |  | |    |       | |  | |  | \n",
      "|  |    |    |    | |  | |    |       | |  | |  | \n",
      "           --   --   --   --   --        --   --  \n",
      "|  |    | |       |    |    | |  |    | |  |    | \n",
      "|  |    | |       |    |    | |  |    | |  |    | \n",
      " --        --   --        --   --        --   --  \n"
     ]
    },
    {
     "data": {
      "text/plain": [
       "[None, None, None, None, None, None, None]"
      ]
     },
     "execution_count": 48,
     "metadata": {},
     "output_type": "execute_result"
    }
   ],
   "source": [
    "s, n = input().split()\n",
    "\n",
    "s = int(s)\n",
    "li = list(map(int, n))\n",
    "\n",
    "ta = ' ' * (s + 2) + ' '\n",
    "tb = ' ' + '-' * s + '  '\n",
    "ua = '|' + ' ' * (s + 1) + ' '\n",
    "ub = ' ' * (s + 1) + '|' + ' '\n",
    "uc = '|' + ' ' * s + '|' + ' '\n",
    "\n",
    "top = [tb, ta, tb, tb, ta, tb, tb, tb, tb, tb]\n",
    "up = [uc, ub, ub, ub, uc, ua, ua, ub, uc, uc]\n",
    "mid = [ta, ta, tb, tb, tb, tb, tb, ta, tb, tb]\n",
    "lw = [uc, ub, ua, ub, ub, ub, uc, ub, uc, ub]\n",
    "bo = [tb, ta, tb, tb, ta, tb, tb, ta, tb, tb]\n",
    "\n",
    "r = ['' for _ in range(2 * s + 3)]\n",
    "for v in li:\n",
    "    r[0] += top[v]\n",
    "    for i in range(1, s + 1):\n",
    "        r[i] += up[v]\n",
    "    r[i + 1] += mid[v]\n",
    "    i += 2\n",
    "    for j in range(i, s + i):\n",
    "        r[j] += lw[v]\n",
    "    r[-1] += bo[v]\n",
    "    \n",
    "[print(v) for v in r]"
   ]
  },
  {
   "cell_type": "markdown",
   "metadata": {},
   "source": [
    "### Pizza Boxes 14754"
   ]
  },
  {
   "cell_type": "code",
   "execution_count": 29,
   "metadata": {},
   "outputs": [
    {
     "name": "stdout",
     "output_type": "stream",
     "text": [
      "1 1\n",
      "3\n",
      "0\n"
     ]
    }
   ],
   "source": [
    "import sys\n",
    "# input = lambda: sys.stdin.readline().rstrip()\n",
    "\n",
    "n, m = map(int, input().split())\n",
    "li = [list(map(int, input().split())) for _ in range(n)]\n",
    "\n",
    "x_maxs = [0] * n\n",
    "y_maxs = [0] * m\n",
    "\n",
    "can_remove = 0\n",
    "for i in range(n):\n",
    "    for j in range(m):\n",
    "        x_maxs[i] = max(x_maxs[i], li[i][j])\n",
    "        can_remove += li[i][j]\n",
    "    \n",
    "for j in range(m):\n",
    "    for i in range(n):\n",
    "        y_maxs[j] = max(y_maxs[j], li[i][j])\n",
    "        \n",
    "ixs = set() # important xs\n",
    "iys = set() # important ys\n",
    "\n",
    "for i in range(n):\n",
    "    for j in range(m):\n",
    "        if x_maxs[i] == li[i][j] and y_maxs[j] == li[i][j]:\n",
    "            if i not in ixs and j not in iys:\n",
    "                can_remove -= li[i][j]\n",
    "                ixs.add(i)\n",
    "                iys.add(j)\n",
    "                \n",
    "for i in range(n):\n",
    "    if i not in ixs:\n",
    "        can_remove -= x_maxs[i]\n",
    "        \n",
    "for j in range(m):\n",
    "    if j not in iys:\n",
    "        can_remove -= y_maxs[j]\n",
    "        \n",
    "r = can_remove\n",
    "\n",
    "print(r)"
   ]
  },
  {
   "cell_type": "markdown",
   "metadata": {},
   "source": [
    "### 222-풀링 17829"
   ]
  },
  {
   "cell_type": "code",
   "execution_count": 9,
   "metadata": {},
   "outputs": [
    {
     "name": "stdout",
     "output_type": "stream",
     "text": [
      "4\n",
      "-6 -8 7 -4\n",
      "-5 -5 14 11\n",
      "11 11 -1 -1\n",
      "4 9 -2 -4\n",
      "11\n"
     ]
    }
   ],
   "source": [
    "import sys\n",
    "input = lambda: sys.stdin.readline().rstrip()\n",
    "\n",
    "n = int(input())\n",
    "li = [list(map(int, input().split())) for _ in range(n)]\n",
    "\n",
    "def recur(cur, li):\n",
    "    if cur == 2:\n",
    "        temp = sorted(sum(li, []))\n",
    "        return temp[2]\n",
    "    \n",
    "    r = []\n",
    "    half = cur // 2\n",
    "    \n",
    "    nli1 = []\n",
    "    for i in range(half):\n",
    "        temp = []\n",
    "        for j in range(half):\n",
    "            temp.append(li[i][j])\n",
    "        nli1.append(temp.copy())\n",
    "        \n",
    "    r.append(recur(half, nli1))\n",
    "    \n",
    "    nli2 = []\n",
    "    for i in range(half):\n",
    "        temp = []\n",
    "        for j in range(half, cur):\n",
    "            temp.append(li[i][j])\n",
    "        nli2.append(temp.copy())\n",
    "    r.append(recur(half, nli2))\n",
    "\n",
    "    \n",
    "    nli3 = []\n",
    "    for i in range(half, cur):\n",
    "        temp = []\n",
    "        for j in range(half):\n",
    "            temp.append(li[i][j])\n",
    "        nli3.append(temp.copy())\n",
    "    r.append(recur(half, nli3))\n",
    "\n",
    "  \n",
    "    nli4 = []\n",
    "    for i in range(half, cur):\n",
    "        temp = []\n",
    "        for j in range(half, cur):\n",
    "            temp.append(li[i][j])\n",
    "        nli4.append(temp.copy())\n",
    "    r.append(recur(half, nli4))\n",
    "    \n",
    "    return sorted(r)[2]\n",
    "\n",
    "r = recur(n, li)\n",
    "\n",
    "print(r)"
   ]
  },
  {
   "cell_type": "markdown",
   "metadata": {},
   "source": [
    "### 유턴 싫어 2823"
   ]
  },
  {
   "cell_type": "code",
   "execution_count": null,
   "metadata": {},
   "outputs": [],
   "source": [
    "def dfs(x, y):\n",
    "    for d in range(4):\n",
    "        nx = x + dx[d]\n",
    "        ny = y + dy[d]\n",
    "\n",
    "        if nx < 0 or nx >= n or ny < 0 or ny >= m:\n",
    "            continue\n",
    "        if li[nx][ny] == 'X':\n",
    "            continue\n",
    "        if not vt[nx][ny]:\n",
    "            vt[nx][ny] = True\n",
    "            dfs(nx, ny)\n",
    "\n",
    "n, m = map(int, input().split())\n",
    "li = [input() for _ in range(n)]\n",
    "\n",
    "dx = [-1, 1, 0, 0]\n",
    "dy = [0, 0, -1, 1]\n",
    "\n",
    "ip = True\n",
    "for i in range(n):\n",
    "    for j in range(m):\n",
    "        if li[i][j] == 'X':\n",
    "            continue\n",
    "        cmc = 0 # can't move count\n",
    "        for d in range(4):\n",
    "            ni = i + dx[d]\n",
    "            nj = j + dy[d]\n",
    "\n",
    "            if ni < 0 or ni >= n or nj < 0 or nj >= m:\n",
    "                cmc += 1\n",
    "                continue\n",
    "            if li[ni][nj] == 'X':\n",
    "                cmc += 1\n",
    "                \n",
    "        if cmc >= 3:\n",
    "            ip = False\n",
    "            break\n",
    "    \n",
    "if ip:\n",
    "    sx, sy = -1, -1\n",
    "    for i in range(n):\n",
    "        for j in range(m):\n",
    "            if li[i][j] == '.':\n",
    "                sx, sy = i, j\n",
    "                break\n",
    "        if sx != -1:\n",
    "            break\n",
    "            \n",
    "    vt = [[False] * m for _ in range(n)]\n",
    "    vt[sx][sy] = True\n",
    "    dfs(sx, sy)\n",
    "    \n",
    "    for i in range(n):\n",
    "        for j in range(m):\n",
    "            if li[i][j] == 'X':\n",
    "                continue\n",
    "            if not vt[i][j]:\n",
    "                ip = False\n",
    "                break\n",
    "            \n",
    "if ip:\n",
    "    print(0)\n",
    "else:\n",
    "    print(1)"
   ]
  }
 ],
 "metadata": {
  "kernelspec": {
   "display_name": "Python 3",
   "language": "python",
   "name": "python3"
  },
  "language_info": {
   "codemirror_mode": {
    "name": "ipython",
    "version": 3
   },
   "file_extension": ".py",
   "mimetype": "text/x-python",
   "name": "python",
   "nbconvert_exporter": "python",
   "pygments_lexer": "ipython3",
   "version": "3.7.4"
  }
 },
 "nbformat": 4,
 "nbformat_minor": 4
}
