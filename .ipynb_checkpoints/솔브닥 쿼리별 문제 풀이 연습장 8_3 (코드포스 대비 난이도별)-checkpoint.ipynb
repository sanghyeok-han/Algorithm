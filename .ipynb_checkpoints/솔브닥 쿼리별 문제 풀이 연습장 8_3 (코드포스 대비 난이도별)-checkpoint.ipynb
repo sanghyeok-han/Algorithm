{
 "cells": [
  {
   "cell_type": "markdown",
   "metadata": {},
   "source": [
    "tag:two_pointer tier:s1.. - solved_by:hsh8086"
   ]
  },
  {
   "cell_type": "markdown",
   "metadata": {},
   "source": [
    "### 회전 초밥 2531"
   ]
  },
  {
   "cell_type": "code",
   "execution_count": null,
   "metadata": {},
   "outputs": [],
   "source": [
    "쿠폰에 해당하는 건 이미 선택한 것으로 침\n",
    "슬라이딩 윈도우, 딕셔너리\n",
    "k이 n인 경우를 제외하면 n가지 서로 다른 지점에서 시작하는 것이 모두 다른 경우가 됨"
   ]
  },
  {
   "cell_type": "code",
   "execution_count": 4,
   "metadata": {},
   "outputs": [
    {
     "name": "stdout",
     "output_type": "stream",
     "text": [
      "8 50 4 7\n",
      "2\n",
      "7\n",
      "9\n",
      "25\n",
      "7\n",
      "9\n",
      "7\n",
      "30\n",
      "4\n"
     ]
    }
   ],
   "source": [
    "import sys\n",
    "input = lambda: sys.stdin.readline().rstrip()\n",
    "\n",
    "n, d, k, c = map(int, input().split())\n",
    "li = [int(input()) for _ in range(n)]\n",
    "li.extend(li)\n",
    "\n",
    "d = dict()\n",
    "d[c] = 1\n",
    "mv = 1 # max count\n",
    "\n",
    "start = 0\n",
    "end = k - 1\n",
    "for i in range(k):\n",
    "    if li[i] not in d: \n",
    "        d[li[i]] = 1\n",
    "    else:\n",
    "        d[li[i]] += 1\n",
    "        \n",
    "mv = len(d)\n",
    "for i in range(n - 1):\n",
    "    end += 1\n",
    "    if li[end] not in d: \n",
    "        d[li[end]] = 1\n",
    "    else:\n",
    "        d[li[end]] += 1\n",
    "        \n",
    "    d[li[start]] -= 1\n",
    "    if d[li[start]] == 0:\n",
    "        del d[li[start]]\n",
    "    start += 1\n",
    "        \n",
    "    mv = max(mv, len(d))\n",
    "    \n",
    "print(mv)"
   ]
  },
  {
   "cell_type": "markdown",
   "metadata": {},
   "source": [
    "### 준표의 조약돌 15831"
   ]
  },
  {
   "cell_type": "code",
   "execution_count": 7,
   "metadata": {},
   "outputs": [
    {
     "name": "stdout",
     "output_type": "stream",
     "text": [
      "7 2 4\n",
      "WBBBBBW\n",
      "0\n"
     ]
    }
   ],
   "source": [
    "n, b, w = map(int, input().split())\n",
    "s = input()\n",
    "\n",
    "li = []\n",
    "for v in s:\n",
    "    if v == 'W':\n",
    "        li.append(0)\n",
    "    else:\n",
    "        li.append(1)\n",
    "\n",
    "mc = 0 # max count\n",
    "\n",
    "cs = [0, 0] # W 개수, B 개수\n",
    "start = 0\n",
    "end = 0\n",
    "while start <= end < n:\n",
    "    cs[li[end]] += 1\n",
    "    \n",
    "    while cs[1] > b:\n",
    "        cs[li[start]] -= 1\n",
    "        start += 1\n",
    "        \n",
    "    if end < start:\n",
    "        end += 1\n",
    "        continue\n",
    "        \n",
    "    if cs[0] >= w:\n",
    "        mc = max(mc, sum(cs))\n",
    "    end += 1\n",
    "    \n",
    "print(mc)"
   ]
  },
  {
   "cell_type": "code",
   "execution_count": 18,
   "metadata": {},
   "outputs": [
    {
     "name": "stdout",
     "output_type": "stream",
     "text": [
      "10 3\n",
      "1 2 2 2 1 2 1 2 2 1\n",
      "6\n"
     ]
    }
   ],
   "source": [
    "n, k = map(int, input().split())\n",
    "li = list(map(int, input().split()))\n",
    "\n",
    "cs = [0, 0, 0]\n",
    "start = 0\n",
    "end = 0\n",
    "cs[li[start]] = 1\n",
    "mv = float('inf') # min value\n",
    "while start <= end < n:\n",
    "    if li[start] == 2:\n",
    "        cs[li[start]] -= 1\n",
    "        start += 1\n",
    "        if end < start:\n",
    "            end += 1\n",
    "            if end >= n:\n",
    "                break\n",
    "            cs[li[end]] += 1\n",
    "        continue\n",
    "        \n",
    "    while cs[1] > k:\n",
    "        cs[li[start]] -= 1\n",
    "        start += 1\n",
    "        \n",
    "    if cs[1] == k:\n",
    "        mv = min(mv, cs[1] + cs[2])\n",
    "        cs[li[start]] -= 1\n",
    "        start += 1\n",
    "        \n",
    "    end += 1\n",
    "    if end >= n:\n",
    "        break\n",
    "    cs[li[end]] += 1\n",
    "        \n",
    "if mv == float('inf'):\n",
    "    print(-1)\n",
    "else:\n",
    "    print(mv)"
   ]
  },
  {
   "cell_type": "markdown",
   "metadata": {},
   "source": [
    "### 대표 선수 2461"
   ]
  },
  {
   "cell_type": "code",
   "execution_count": null,
   "metadata": {},
   "outputs": [],
   "source": [
    "import sys\n",
    "input = lambda: sys.stdin.readline().rstrip()\n",
    "\n",
    "n, m = map(int, input().split())\n",
    "li = []\n",
    "for i in range(n):\n",
    "    temp = list(map(int, input().split()))\n",
    "    for v in temp:\n",
    "        li.append((v, i))\n",
    "li.sort(key=lambda x: x[0])\n",
    "\n",
    "if n == 1:\n",
    "    print(0)\n",
    "else:\n",
    "    start = 0\n",
    "    end = 0\n",
    "    d = dict()\n",
    "    d[li[0][1]] = 1\n",
    "\n",
    "    min_range = float('inf')\n",
    "    while start <= end:\n",
    "        while d[li[start][1]] >= 2:\n",
    "            d[li[start][1]] -= 1\n",
    "            start += 1\n",
    "\n",
    "        if len(d) < n:\n",
    "            end += 1\n",
    "            if end >= n * m:\n",
    "                break\n",
    "            if li[end][1] in d:\n",
    "                d[li[end][1]] += 1\n",
    "            else:\n",
    "                d[li[end][1]] = 1\n",
    "        else:\n",
    "            min_range = min(min_range, li[end][0] - li[start][0])\n",
    "            if d[li[start][1]] >= 2:\n",
    "                d[li[start][1]] -= 1\n",
    "            else:\n",
    "                del d[li[start][1]]\n",
    "            start += 1\n",
    "\n",
    "    print(min_range)"
   ]
  },
  {
   "cell_type": "markdown",
   "metadata": {},
   "source": [
    "tag:prefix_sum tier:s1.. - solved_by:hsh8086"
   ]
  },
  {
   "cell_type": "code",
   "execution_count": null,
   "metadata": {},
   "outputs": [],
   "source": [
    "누적합 탬플릿\n",
    "\n",
    "sli = [[0] * (m + 1) for _ in range(n + 1)]\n",
    "for i in range(n):\n",
    "    temp = 0\n",
    "    for j in range(m):\n",
    "        temp += li[i][j]\n",
    "        sli[i + 1][j + 1] = sli[i][j + 1] + temp\n",
    "        \n",
    "r1, c1, r2, c2 = map(int, input().split()) # 왼쪽 위, 오른쪽 아래\n",
    "r = sli[r2 + 1][c2 + 1] - sli[r2 + 1][c1] - sli[r1][c2 + 1] + sli[r1][c1]"
   ]
  },
  {
   "cell_type": "markdown",
   "metadata": {},
   "source": [
    "### 어두운 건 무서워 16507"
   ]
  },
  {
   "cell_type": "code",
   "execution_count": null,
   "metadata": {},
   "outputs": [],
   "source": [
    "import sys\n",
    "# input = lambda: sys.stdin.readline().rstrip()\n",
    "\n",
    "n, m, q = map(int, input().split())\n",
    "li = [list(map(int, input().split())) for _ in range(n)]\n",
    "\n",
    "sli = [[0] * (m + 1) for _ in range(n + 1)]\n",
    "for i in range(n):\n",
    "    temp = 0\n",
    "    for j in range(m):\n",
    "        temp += li[i][j]\n",
    "        sli[i + 1][j + 1] = sli[i][j + 1] + temp\n",
    "        \n",
    "get_value = lambda x: int(x) - 1\n",
    "for _ in range(q):  \n",
    "    r1, c1, r2, c2 = map(get_value, input().split())\n",
    "\n",
    "    r = sli[r2 + 1][c2 + 1] - sli[r2 + 1][c1] - sli[r1][c2 + 1] + sli[r1][c1]\n",
    "\n",
    "    print(r // ((r2 - r1 + 1) * (c2 - c1 + 1)))"
   ]
  },
  {
   "cell_type": "markdown",
   "metadata": {},
   "source": [
    "### 합 구하기 11441"
   ]
  },
  {
   "cell_type": "code",
   "execution_count": 28,
   "metadata": {},
   "outputs": [
    {
     "name": "stdout",
     "output_type": "stream",
     "text": [
      "5\n",
      "10 20 30 40 50\n",
      "5\n",
      "1 3\n",
      "60\n",
      "2 4\n",
      "90\n",
      "3 5\n",
      "120\n",
      "1 5\n",
      "150\n",
      "4 4\n",
      "40\n"
     ]
    }
   ],
   "source": [
    "import sys\n",
    "# input = lambda: sys.stdin.readline().rstrip()\n",
    "\n",
    "n = int(input())\n",
    "li = list(map(int, input().split()))\n",
    "\n",
    "sli = [0] * (n + 1)\n",
    "cumul = 0\n",
    "for i in range(n):\n",
    "    cumul += li[i]\n",
    "    sli[i + 1] = cumul\n",
    "\n",
    "for _ in range(int(input())):\n",
    "    i, j = map(int, input().split())\n",
    "    \n",
    "    i -= 1\n",
    "    j -= 1\n",
    "    \n",
    "    r = sli[j + 1] - sli[i]\n",
    "    print(r)"
   ]
  },
  {
   "cell_type": "markdown",
   "metadata": {},
   "source": [
    "### 수들의 합 4 2015"
   ]
  },
  {
   "cell_type": "code",
   "execution_count": 22,
   "metadata": {},
   "outputs": [
    {
     "name": "stdout",
     "output_type": "stream",
     "text": [
      "6 5\n",
      "1 2 3 4 5 0\n",
      "3\n"
     ]
    }
   ],
   "source": [
    "n, k = map(int, input().split())\n",
    "li = list(map(int, input().split()))\n",
    "\n",
    "d = {0: 1}\n",
    "cumul = 0\n",
    "total = 0\n",
    "for i in range(n):\n",
    "    cumul += li[i]\n",
    "    \n",
    "    if cumul - k in d:\n",
    "        total += d[cumul - k]\n",
    "    \n",
    "    if cumul in d:\n",
    "        d[cumul] += 1\n",
    "    else:\n",
    "        d[cumul] = 1\n",
    "\n",
    "print(total)"
   ]
  },
  {
   "cell_type": "markdown",
   "metadata": {},
   "source": [
    "### 직사각형으로 나누기 1451"
   ]
  },
  {
   "cell_type": "code",
   "execution_count": 20,
   "metadata": {},
   "outputs": [
    {
     "name": "stdout",
     "output_type": "stream",
     "text": [
      "189\n"
     ]
    }
   ],
   "source": [
    "n, m = map(int, input().split())\n",
    "\n",
    "li = [list(map(int, input())) for _ in range(n)]\n",
    "\n",
    "sli = [[0] * (m + 1) for _ in range(n + 1)]\n",
    "for i in range(n):\n",
    "    temp = 0\n",
    "    for j in range(m):\n",
    "        temp += li[i][j]\n",
    "        sli[i + 1][j + 1] = sli[i][j + 1] + temp\n",
    "\n",
    "max_value = 0\n",
    "get_area_sum = lambda r1, c1, r2, c2: sli[r2 + 1][c2 + 1] - sli[r2 + 1][c1] - sli[r1][c2 + 1] + sli[r1][c1]\n",
    "   \n",
    "# 1 2\n",
    "# 3 2\n",
    "for ex1 in range(n - 1):\n",
    "    for ey1 in range(m - 1):\n",
    "        temp = get_area_sum(0, 0, ex1, ey1) * get_area_sum(0, ey1 + 1, n - 1, m - 1) * get_area_sum(ex1 + 1, 0, n - 1, ey1)\n",
    "        max_value = max(max_value, temp)\n",
    "\n",
    "# 1 2\n",
    "# 1 3\n",
    "for ex2 in range(n - 1):\n",
    "    for ey1 in range(m - 1):\n",
    "        temp = get_area_sum(0, 0, n - 1, ey1) * get_area_sum(0, ey1 + 1, ex2, m - 1) * get_area_sum(ex2 + 1, ey1 + 1, n - 1, m - 1)\n",
    "        max_value = max(max_value, temp)\n",
    "        \n",
    "# 1 1\n",
    "# 2 3\n",
    "for ex1 in range(n - 1):\n",
    "    for ey2 in range(m - 1):\n",
    "        temp = get_area_sum(0, 0, ex1, m - 1) * get_area_sum(ex1 + 1, 0, n - 1, ey2) * get_area_sum(ex1 + 1, ey2 + 1, n - 1, m - 1)\n",
    "        max_value = max(max_value, temp)\n",
    "        \n",
    "# 1 2\n",
    "# 3 3\n",
    "for ex1 in range(n - 1):\n",
    "    for ey1 in range(m - 1):\n",
    "        temp = get_area_sum(0, 0, ex1, ey1) * get_area_sum(0, ey1 + 1, ex1, m - 1) * get_area_sum(ex1 + 1, 0, n - 1, m - 1)\n",
    "        max_value = max(max_value, temp)\n",
    "        \n",
    "# 1 2 3\n",
    "# 1 2 3\n",
    "for ey1 in range(m - 1):\n",
    "    for ey2 in range(ey1 + 1, m - 1):\n",
    "        temp = get_area_sum(0, 0, n - 1, ey1) * get_area_sum(0, ey1 + 1, n - 1, ey2) * get_area_sum(0, ey2 + 1, n - 1, m - 1)\n",
    "        max_value = max(max_value, temp)\n",
    "        \n",
    "# 1 1\n",
    "# 2 2\n",
    "# 3 3\n",
    "for ex1 in range(n - 1):\n",
    "    for ex2 in range(ex1 + 1, n - 1):\n",
    "        temp = get_area_sum(0, 0, ex1, m - 1) * get_area_sum(ex1 + 1, 0, ex2, m - 1) * get_area_sum(ex2 + 1, 0, n - 1, m - 1)\n",
    "        max_value = max(max_value, temp)\n",
    "        \n",
    "print(max_value)"
   ]
  },
  {
   "cell_type": "markdown",
   "metadata": {},
   "source": [
    "### 기차 여행 10713"
   ]
  },
  {
   "cell_type": "code",
   "execution_count": 36,
   "metadata": {},
   "outputs": [
    {
     "name": "stdout",
     "output_type": "stream",
     "text": [
      "550\n"
     ]
    }
   ],
   "source": [
    "n, m = 4, 4\n",
    "\n",
    "to_rights = [set() for _ in range(n + 1)]\n",
    "to_lefts = [set() for _ in range(n + 1)]\n",
    "\n",
    "route = [1, 3, 2, 4]\n",
    "\n",
    "s = '''120 90 100\n",
    "110 50 80\n",
    "250 70 130'''\n",
    "prices = [list(map(int, v.split())) for v in s.split('\\n')]\n",
    "\n",
    "for i in range(m - 1):\n",
    "    f, t = route[i], route[i + 1]\n",
    "    \n",
    "    if f < t:\n",
    "        to_rights[f].add(i)\n",
    "        to_rights[t].add(i)\n",
    "    else:\n",
    "        to_lefts[f].add(i)\n",
    "        to_lefts[t].add(i)\n",
    "        \n",
    "cs = [0] * (n + 1) # counts\n",
    "\n",
    "cur_st = set()\n",
    "for i in range(n + 1):\n",
    "    for v in to_rights[i]:\n",
    "        if v in cur_st:\n",
    "            cur_st.discard(v)\n",
    "        else:\n",
    "            cur_st.add(v)\n",
    "    cs[i] += len(cur_st)\n",
    "    \n",
    "cur_st = set()\n",
    "for i in range(n, 0, -1):\n",
    "    for v in to_lefts[i]:\n",
    "        if v in cur_st:\n",
    "            cur_st.discard(v)\n",
    "        else:\n",
    "            cur_st.add(v)\n",
    "    cs[i - 1] += len(cur_st)    \n",
    "    \n",
    "min_total = 0\n",
    "for i in range(1, n):\n",
    "    using_t, using_ic, ic_price = prices[i - 1]\n",
    "    \n",
    "    t1 = ic_price + using_ic * cs[i]\n",
    "    t2 = using_t * cs[i]\n",
    "    \n",
    "    min_total += min(t1, t2)\n",
    "    \n",
    "print(min_total)"
   ]
  },
  {
   "cell_type": "code",
   "execution_count": 37,
   "metadata": {},
   "outputs": [
    {
     "name": "stdout",
     "output_type": "stream",
     "text": [
      "4 4\n",
      "1 3 2 4\n",
      "120 90 100\n",
      "110 50 80\n",
      "250 70 130\n",
      "550\n"
     ]
    }
   ],
   "source": [
    "import sys\n",
    "# input = lambda: sys.stdin.readline().rstrip()\n",
    "\n",
    "n, m = map(int, input().split())\n",
    "route = list(map(int, input().split()))\n",
    "prices = [list(map(int, input().split())) for _ in range(n - 1)]\n",
    "\n",
    "to_rights = [set() for _ in range(n + 1)]\n",
    "to_lefts = [set() for _ in range(n + 1)]\n",
    "for i in range(m - 1):\n",
    "    f, t = route[i], route[i + 1]\n",
    "    \n",
    "    if f < t:\n",
    "        to_rights[f].add(i)\n",
    "        to_rights[t].add(i)\n",
    "    else:\n",
    "        to_lefts[f].add(i)\n",
    "        to_lefts[t].add(i)\n",
    "        \n",
    "cs = [0] * (n + 1) # counts\n",
    "\n",
    "cur_st = set()\n",
    "for i in range(n + 1):\n",
    "    for v in to_rights[i]:\n",
    "        if v in cur_st:\n",
    "            cur_st.discard(v)\n",
    "        else:\n",
    "            cur_st.add(v)\n",
    "    cs[i] += len(cur_st)\n",
    "    \n",
    "cur_st = set()\n",
    "for i in range(n, 0, -1):\n",
    "    for v in to_lefts[i]:\n",
    "        if v in cur_st:\n",
    "            cur_st.discard(v)\n",
    "        else:\n",
    "            cur_st.add(v)\n",
    "    cs[i - 1] += len(cur_st)    \n",
    "    \n",
    "min_total = 0\n",
    "for i in range(1, n):\n",
    "    using_t, using_ic, ic_price = prices[i - 1]\n",
    "    \n",
    "    t1 = ic_price + using_ic * cs[i]\n",
    "    t2 = using_t * cs[i]\n",
    "    \n",
    "    min_total += min(t1, t2)\n",
    "    \n",
    "print(min_total)"
   ]
  },
  {
   "cell_type": "markdown",
   "metadata": {},
   "source": [
    "### 동작 그만. 밑장 빼기냐? 20159"
   ]
  },
  {
   "cell_type": "code",
   "execution_count": 72,
   "metadata": {},
   "outputs": [
    {
     "name": "stdout",
     "output_type": "stream",
     "text": [
      "6\n",
      "3 2 5 2 1 3\n",
      "11\n"
     ]
    }
   ],
   "source": [
    "n = int(input())\n",
    "li = list(map(int, input().split()))\n",
    "\n",
    "t1 = 0\n",
    "for i in range(0, n, 2):\n",
    "    t1 += li[i]\n",
    "    \n",
    "t2 = 0\n",
    "\n",
    "last = li.pop()\n",
    "n -= 1\n",
    "\n",
    "evens = li.copy()\n",
    "for i in range(n):\n",
    "    if i % 2 == 1:\n",
    "        evens[i] = 0\n",
    "\n",
    "ep = [0] * (n + 1) # evens prefix sum\n",
    "cumul = 0\n",
    "for i in range(n):\n",
    "    cumul += evens[i]\n",
    "    ep[i + 1] = cumul\n",
    "        \n",
    "odds = li.copy()\n",
    "for i in range(n):\n",
    "    if i % 2 == 0:\n",
    "        odds[i] = 0\n",
    "    \n",
    "op = [0] * (n + 1) # odds prefix sum\n",
    "cumul = 0\n",
    "for i in range(n):\n",
    "    cumul += odds[i]\n",
    "    op[i + 1] = cumul\n",
    "    \n",
    "t2 = 0\n",
    "for ti in range(n):\n",
    "    if ti % 2 == 0:\n",
    "        if ti == 0:\n",
    "            even_end = 0\n",
    "        else:\n",
    "            even_end = ti - 1\n",
    "            \n",
    "        temp = ep[even_end]\n",
    "        temp += op[n] - op[ti + 1]\n",
    "        temp += last\n",
    "        \n",
    "        t2 = max(t2, temp)\n",
    "    else:\n",
    "        temp = ep[ti]\n",
    "        temp += op[n] - op[ti]\n",
    "                \n",
    "        t2 = max(t2, temp)\n",
    "        \n",
    "print(max(t1, t2))"
   ]
  },
  {
   "cell_type": "code",
   "execution_count": null,
   "metadata": {},
   "outputs": [],
   "source": [
    "4\n",
    "4 4 1 1\n",
    "5"
   ]
  },
  {
   "cell_type": "code",
   "execution_count": 45,
   "metadata": {},
   "outputs": [
    {
     "data": {
      "text/plain": [
       "[3, 0, 5, 0, 1]"
      ]
     },
     "execution_count": 45,
     "metadata": {},
     "output_type": "execute_result"
    }
   ],
   "source": [
    "evens"
   ]
  },
  {
   "cell_type": "code",
   "execution_count": 59,
   "metadata": {},
   "outputs": [
    {
     "data": {
      "text/plain": [
       "[0, 4, 0]"
      ]
     },
     "execution_count": 59,
     "metadata": {},
     "output_type": "execute_result"
    }
   ],
   "source": [
    "odds"
   ]
  },
  {
   "cell_type": "code",
   "execution_count": null,
   "metadata": {},
   "outputs": [],
   "source": [
    "0번째부터 시작\n",
    "\n",
    "0번째 내 차례에 밑장: 짝수 안가짐, 밑장 가짐, 1부터 홀수\n",
    "1번째 상대 차례에 밑장: 짝수 0까지, 1부터 홀수\n",
    "2번째 내 차례에 밑장: 짝수 0까지, 밑장 가짐, 3부터 홀수\n",
    "3번째 상대 차례에 밑장: 짝수 2까지, 3부터 홀수\n",
    "4번째 내 차례에 밑장: 짝수 2까지, 밑장 가짐 5부터 홀수"
   ]
  },
  {
   "cell_type": "markdown",
   "metadata": {},
   "source": [
    "### 꿀 따기 21758"
   ]
  },
  {
   "cell_type": "code",
   "execution_count": null,
   "metadata": {},
   "outputs": [],
   "source": [
    "벌통은 한쪽 끝에다 놓기,\n",
    "벌 한 마리는 반대쪽 끝에 놓기\n",
    "다른 벌 한 마리의 위치를 탐색해봄\n",
    "\n",
    "벌이 양쪽 끝에 각각 있는 경우의 벌통 위치도 탐색해봄"
   ]
  },
  {
   "cell_type": "code",
   "execution_count": 7,
   "metadata": {},
   "outputs": [
    {
     "name": "stdout",
     "output_type": "stream",
     "text": [
      "3\n",
      "2 5 4\n",
      "10\n"
     ]
    }
   ],
   "source": [
    "def get_max():\n",
    "    mxv = 0 # max value\n",
    "\n",
    "    lrp = [0] # left to right prefix sum\n",
    "    cumul = 0\n",
    "    for v in li:\n",
    "        cumul += v\n",
    "        lrp.append(cumul)\n",
    "\n",
    "    init = lrp[n] - lrp[1]\n",
    "    for i in range(1, n):\n",
    "        temp = lrp[n] - lrp[i + 1]\n",
    "        v = init + temp - li[i]\n",
    "        mxv = max(mxv, v)\n",
    "        \n",
    "    return mxv\n",
    "\n",
    "n = int(input())\n",
    "li = list(map(int, input().split()))\n",
    "\n",
    "mxv = get_max()\n",
    "li.reverse()\n",
    "mxv = max(mxv, get_max())\n",
    "\n",
    "temp = sum(li) - li[0] - li[n - 1] + max(li[1:n - 1])\n",
    "mxv = max(mxv, temp)\n",
    "\n",
    "print(mxv)"
   ]
  },
  {
   "cell_type": "markdown",
   "metadata": {},
   "source": [
    "### 피아노 체조 21318"
   ]
  },
  {
   "cell_type": "code",
   "execution_count": 9,
   "metadata": {},
   "outputs": [
    {
     "name": "stdout",
     "output_type": "stream",
     "text": [
      "6\n",
      "573 33283 5572 346 906 567\n",
      "5\n",
      "5 6\n",
      "1\n",
      "1 3\n",
      "1\n",
      "2 2\n",
      "0\n",
      "1 6\n",
      "3\n",
      "3 6\n",
      "2\n"
     ]
    }
   ],
   "source": [
    "import sys\n",
    "# input = lambda: sys.stdin.readline().rstrip()\n",
    "\n",
    "n = int(input())\n",
    "li = list(map(int, input().split()))\n",
    "\n",
    "mistakes = [0] * n\n",
    "for i in range(n - 1):\n",
    "    if li[i] > li[i + 1]:\n",
    "        mistakes[i] = 1\n",
    "        \n",
    "sm = [0] * (n + 1) # sum mistakes\n",
    "cumul = 0\n",
    "for i in range(n):\n",
    "    cumul += mistakes[i]\n",
    "    sm[i + 1] = cumul\n",
    "    \n",
    "q = int(input())\n",
    "for _ in range(q):\n",
    "    x, y = map(int, input().split())\n",
    "    x -= 1\n",
    "    y -= 1\n",
    "    \n",
    "    r = sm[y] - sm[x]\n",
    "    \n",
    "    print(r)"
   ]
  },
  {
   "cell_type": "markdown",
   "metadata": {},
   "source": [
    "### 태상이의 훈련소 생활 19951"
   ]
  },
  {
   "cell_type": "code",
   "execution_count": 13,
   "metadata": {
    "scrolled": true
   },
   "outputs": [
    {
     "name": "stdout",
     "output_type": "stream",
     "text": [
      "10 3\n",
      "1 2 3 4 5 -1 -2 -3 -4 -5\n",
      "1 5 -3\n",
      "6 10 5\n",
      "2 7 2\n",
      "-2 1 2 3 4 6 5 2 1 0\n"
     ]
    }
   ],
   "source": [
    "import sys\n",
    "input = lambda: sys.stdin.readline().rstrip()\n",
    "\n",
    "n, m = map(int, input().split())\n",
    "li = list(map(int, input().split()))\n",
    "\n",
    "added = [0] * (n + 1)\n",
    "for _ in range(m):\n",
    "    a, b, k = map(int, input().split())\n",
    "    \n",
    "    a -= 1\n",
    "    b -= 1\n",
    "    \n",
    "    added[a] += k\n",
    "    added[b + 1] -= k\n",
    "    \n",
    "cur = 0\n",
    "for i in range(n):\n",
    "    cur += added[i]\n",
    "    li[i] += cur\n",
    "    \n",
    "print(*li)"
   ]
  },
  {
   "cell_type": "markdown",
   "metadata": {},
   "source": [
    "### 약수의 합 17425"
   ]
  },
  {
   "cell_type": "code",
   "execution_count": null,
   "metadata": {},
   "outputs": [],
   "source": [
    "1  1\n",
    "2  1 2\n",
    "3  1 3\n",
    "4  1 2 4\n",
    "5  1 5\n",
    "6  1 2 3 6\n",
    "7  1 7\n",
    "8  1 2 4 8\n",
    "9  1 3 9\n",
    "1  1 2 5 10\n",
    "11 1 11\n",
    "12 1 2 3 4 6 12\n",
    "20 1 2 4 5 10 20\n",
    "81 1 9 81"
   ]
  },
  {
   "cell_type": "code",
   "execution_count": null,
   "metadata": {},
   "outputs": [],
   "source": [
    "def get_divisors_sum(num):\n",
    "    total = 0\n",
    "    for i in range(1, int(num ** 0.5) + 1):\n",
    "        if num % i == 0:\n",
    "            total += i + num // i\n",
    "            \n",
    "    return total\n",
    "\n",
    "total = 0\n",
    "for i in range(1, 1000001):\n",
    "    total += get_divisors_sum(i)"
   ]
  },
  {
   "cell_type": "code",
   "execution_count": 18,
   "metadata": {},
   "outputs": [
    {
     "data": {
      "text/plain": [
       "203715798380"
      ]
     },
     "execution_count": 18,
     "metadata": {},
     "output_type": "execute_result"
    }
   ],
   "source": [
    "total"
   ]
  },
  {
   "cell_type": "code",
   "execution_count": 24,
   "metadata": {},
   "outputs": [
    {
     "name": "stdout",
     "output_type": "stream",
     "text": [
      "5\n",
      "1\n",
      "1\n",
      "2\n",
      "4\n",
      "10\n",
      "87\n",
      "70\n",
      "4065\n",
      "10000\n",
      "82256014\n"
     ]
    }
   ],
   "source": [
    "import sys\n",
    "# input = lambda: sys.stdin.readline().rstrip()\n",
    "\n",
    "li = [1] * 1000001\n",
    "li[0] = 0\n",
    "\n",
    "for mod in range(2, 1000001):\n",
    "    for i in range(mod, 1000001, mod):\n",
    "        li[i] += mod\n",
    "        \n",
    "sum_li = [0] * 1000001\n",
    "cumul = 0\n",
    "for i in range(1000001):\n",
    "    cumul += li[i]\n",
    "    sum_li[i] = cumul\n",
    "\n",
    "for _ in range(int(input())):\n",
    "    n = int(input())\n",
    "    \n",
    "    print(sum_li[n])"
   ]
  },
  {
   "cell_type": "markdown",
   "metadata": {},
   "source": [
    "### Subsequences Summing to Sevens 11974"
   ]
  },
  {
   "cell_type": "code",
   "execution_count": 47,
   "metadata": {},
   "outputs": [
    {
     "name": "stdout",
     "output_type": "stream",
     "text": [
      "3\n",
      "7\n",
      "7\n",
      "7\n",
      "3\n"
     ]
    }
   ],
   "source": [
    "import sys\n",
    "# input = lambda: sys.stdin.readline().rstrip()\n",
    "\n",
    "n = int(input())\n",
    "li = [int(input()) for _ in range(n)]\n",
    "\n",
    "nli = [0] * n\n",
    "for i in range(n):\n",
    "    nli[i] = li[i] % 7\n",
    "\n",
    "sli = [0] * (n + 1)\n",
    "cumul = 0\n",
    "for i in range(n):\n",
    "    cumul += nli[i]\n",
    "    cumul %= 7\n",
    "    sli[i + 1] = cumul\n",
    "    \n",
    "firsts = [float('inf')] * 7\n",
    "firsts[0] = 0\n",
    "max_length = 0\n",
    "for i in range(1, n + 1):\n",
    "    to_search = sli[i]\n",
    "    if firsts[to_search] != float('inf'):\n",
    "        max_length = max(max_length, i - firsts[to_search])\n",
    "    else:\n",
    "        firsts[to_search] = i\n",
    "        \n",
    "print(max_length)"
   ]
  },
  {
   "cell_type": "markdown",
   "metadata": {},
   "source": [
    "### 소형기관차 2616"
   ]
  },
  {
   "cell_type": "code",
   "execution_count": 59,
   "metadata": {},
   "outputs": [
    {
     "name": "stdout",
     "output_type": "stream",
     "text": [
      "7\n",
      "35 40 50 10 30 45 60\n",
      "2\n"
     ]
    }
   ],
   "source": [
    "n = int(input())\n",
    "li = list(map(int, input().split()))\n",
    "m = int(input())"
   ]
  },
  {
   "cell_type": "code",
   "execution_count": 60,
   "metadata": {},
   "outputs": [],
   "source": [
    "from collections import deque\n",
    "\n",
    "cumul = 0\n",
    "for i in range(m):\n",
    "    cumul += li[i]\n",
    "    \n",
    "sli = [cumul]\n",
    "for i in range(m, n):\n",
    "    cumul -= li[i - m]\n",
    "    cumul += li[i]\n",
    "    sli.append(cumul)\n",
    "\n",
    "cur_1_max = 0\n",
    "cur_2_max = 0\n",
    "cur_3_max = 0\n",
    "\n",
    "waiting1 = deque() # (인덱스, 값)\n",
    "waiting2 = deque()\n",
    "waiting3 = deque()\n",
    "ready1 = list()\n",
    "ready2 = list()\n",
    "ready3 = list()\n",
    "for i in range(len(sli)):\n",
    "    if waiting3 and waiting3[0][0] < i"
   ]
  },
  {
   "cell_type": "code",
   "execution_count": null,
   "metadata": {},
   "outputs": [],
   "source": [
    "cur_n_max보다 작으면 n번째 기차로 추가할 필요가 없음\n"
   ]
  },
  {
   "cell_type": "code",
   "execution_count": 61,
   "metadata": {
    "scrolled": true
   },
   "outputs": [
    {
     "data": {
      "text/plain": [
       "[75, 90, 60, 40, 75, 105]"
      ]
     },
     "execution_count": 61,
     "metadata": {},
     "output_type": "execute_result"
    }
   ],
   "source": [
    "sli"
   ]
  }
 ],
 "metadata": {
  "kernelspec": {
   "display_name": "Python 3",
   "language": "python",
   "name": "python3"
  },
  "language_info": {
   "codemirror_mode": {
    "name": "ipython",
    "version": 3
   },
   "file_extension": ".py",
   "mimetype": "text/x-python",
   "name": "python",
   "nbconvert_exporter": "python",
   "pygments_lexer": "ipython3",
   "version": "3.7.4"
  }
 },
 "nbformat": 4,
 "nbformat_minor": 4
}
