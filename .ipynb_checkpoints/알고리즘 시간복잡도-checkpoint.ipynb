{
 "cells": [
  {
   "cell_type": "markdown",
   "metadata": {},
   "source": [
    "## 더블 링크드 리스트"
   ]
  },
  {
   "cell_type": "code",
   "execution_count": 62,
   "metadata": {},
   "outputs": [],
   "source": [
    "class Node:\n",
    "    def __init__(self, data, prev=None, next=None):\n",
    "        self.prev = prev\n",
    "        self.data = data\n",
    "        self.next = next\n",
    "class NodeMgmt:\n",
    "    def __init__(self, data):\n",
    "        self.head = Node(data)\n",
    "        self.tail = self.head\n",
    "            \n",
    "    # 끝에 새로운 노드 추가\n",
    "    def insert(self, data):\n",
    "        if self.head == None:\n",
    "            self.head = Node(data)\n",
    "            self.tail = self.head\n",
    "        else:\n",
    "            node = self.head\n",
    "            while node.next:\n",
    "                node = node.next\n",
    "            new = Node(data)\n",
    "            node.next = new\n",
    "            new.prev = node\n",
    "            self.tail = new\n",
    "            \n",
    "    # 모든 데이터 처음부터 출력\n",
    "    def desc(self):\n",
    "        node = self.head\n",
    "        while node:\n",
    "            print(node.data)\n",
    "            node = node.next\n",
    "    \n",
    "    # 앞에서부터 특정 노드를 검색\n",
    "    def search_from_head(self, data):\n",
    "        if self.head == None:\n",
    "            return False\n",
    "        \n",
    "        node = self.head\n",
    "        while node:\n",
    "            if node.data == data:\n",
    "                return node\n",
    "            else:\n",
    "                node = node.next\n",
    "        return False\n",
    "                \n",
    "    # 뒤에서부터 특정 노드를 검색\n",
    "    def search_from_tail(self, data):\n",
    "        if self.tail == None:\n",
    "            return False\n",
    "        \n",
    "        node = self.tail\n",
    "        while node:\n",
    "            if node.data == data:\n",
    "                return node\n",
    "            else:\n",
    "                node = node.prev\n",
    "        return False\n",
    "    \n",
    "    # 노드 데이터가 특정 숫자인 노드 앞에 데이터를 추가\n",
    "    def insert_before(self, data, before_data):\n",
    "        if self.head == None:\n",
    "            self.head = Node(data)\n",
    "            return True\n",
    "        else:\n",
    "            node = self.tail\n",
    "            while node.data != before_data:\n",
    "                node = node.prev\n",
    "                if node == None:\n",
    "                    return False\n",
    "            new = Node(data)\n",
    "            before_new = node.prev\n",
    "            before_new.next = new\n",
    "            new.prev = before_new\n",
    "            new.next = node\n",
    "            node.prev = new\n",
    "            return True\n",
    "    \n",
    "    # 노드 데이터가 특정 숫자인 노드 뒤에 데이터를 추가 직접 구현\n",
    "    def insert_after(self, data, after_data):\n",
    "        if self.head == None:\n",
    "            self.head = Node(data)\n",
    "            return True\n",
    "        else:\n",
    "            node = self.head\n",
    "            while node.data != after_data:\n",
    "                node = node.next\n",
    "                if node == None:\n",
    "                    return False\n",
    "            new = Node(data)\n",
    "            after_new = node.next\n",
    "            after_new.prev = new\n",
    "            new.next = after_new\n",
    "            new.prev = node\n",
    "            node.next = new     \n",
    "            return True"
   ]
  },
  {
   "cell_type": "code",
   "execution_count": null,
   "metadata": {},
   "outputs": [],
   "source": [
    "    # 끝에 새로운 노드 추가 직접 구현\n",
    "    def insert(self, data):\n",
    "        if self.head == None:\n",
    "            self.head = Node(data)\n",
    "            self.tail = self.head\n",
    "        else:\n",
    "            node = self.tail\n",
    "            node.next = Node(data, prev=node)\n",
    "            self.tail = node.next\n",
    "            \n",
    "    # 노드 데이터가 특정 숫자인 노드 앞에 데이터를 추가 직접 구현\n",
    "    def insert_before(self, data, target):\n",
    "        node = self.tail\n",
    "        \n",
    "        if self.tail == None:\n",
    "            print(\"해당하는 타겟이 없습니다.\")\n",
    "            return\n",
    "        \n",
    "        while node:\n",
    "            if node.data == target:\n",
    "                prev_node = node.prev\n",
    "                new = Node(data, prev=prev_node, next=node)\n",
    "                node.prev = new\n",
    "                prev_node.next = new    \n",
    "                break\n",
    "            node = node.prev\n",
    "        else:\n",
    "            print(\"해당하는 타겟이 없습니다.\")"
   ]
  },
  {
   "cell_type": "code",
   "execution_count": 58,
   "metadata": {},
   "outputs": [
    {
     "name": "stdout",
     "output_type": "stream",
     "text": [
      "0\n",
      "1\n",
      "2\n",
      "3\n",
      "4\n",
      "5\n",
      "6\n",
      "7\n",
      "8\n",
      "9\n"
     ]
    }
   ],
   "source": [
    "double_linked_list = NodeMgmt(0)\n",
    "for data in range(1, 10):\n",
    "    double_linked_list.insert(data)\n",
    "double_linked_list.desc()"
   ]
  },
  {
   "cell_type": "code",
   "execution_count": 51,
   "metadata": {},
   "outputs": [
    {
     "name": "stdout",
     "output_type": "stream",
     "text": [
      "No Data\n"
     ]
    }
   ],
   "source": [
    "node_3 = double_linked_list.search_from_head(10)\n",
    "if node_3:\n",
    "    print(node_3.data)\n",
    "else:\n",
    "    print(\"No Data\")"
   ]
  },
  {
   "cell_type": "code",
   "execution_count": 53,
   "metadata": {},
   "outputs": [
    {
     "name": "stdout",
     "output_type": "stream",
     "text": [
      "5\n"
     ]
    }
   ],
   "source": [
    "node_5 = double_linked_list.search_from_tail(5)\n",
    "if node_5:\n",
    "    print(node_5.data)\n",
    "else:\n",
    "    print(\"No Data\")"
   ]
  },
  {
   "cell_type": "code",
   "execution_count": 55,
   "metadata": {},
   "outputs": [
    {
     "name": "stdout",
     "output_type": "stream",
     "text": [
      "0\n",
      "1\n",
      "2\n",
      "3\n",
      "4\n",
      "5\n",
      "6\n",
      "7\n",
      "8\n",
      "9\n"
     ]
    }
   ],
   "source": [
    "double_linked_list.desc()"
   ]
  },
  {
   "cell_type": "code",
   "execution_count": 59,
   "metadata": {},
   "outputs": [
    {
     "data": {
      "text/plain": [
       "True"
      ]
     },
     "execution_count": 59,
     "metadata": {},
     "output_type": "execute_result"
    }
   ],
   "source": [
    "double_linked_list.insert_before(1.5, 2)"
   ]
  },
  {
   "cell_type": "code",
   "execution_count": 61,
   "metadata": {},
   "outputs": [
    {
     "name": "stdout",
     "output_type": "stream",
     "text": [
      "0\n",
      "1\n",
      "1.5\n",
      "2\n",
      "3\n",
      "4\n",
      "5\n",
      "6\n",
      "7\n",
      "8\n",
      "9\n"
     ]
    }
   ],
   "source": [
    "double_linked_list.desc()"
   ]
  },
  {
   "cell_type": "code",
   "execution_count": null,
   "metadata": {},
   "outputs": [],
   "source": []
  }
 ],
 "metadata": {
  "kernelspec": {
   "display_name": "Python 3",
   "language": "python",
   "name": "python3"
  },
  "language_info": {
   "codemirror_mode": {
    "name": "ipython",
    "version": 3
   },
   "file_extension": ".py",
   "mimetype": "text/x-python",
   "name": "python",
   "nbconvert_exporter": "python",
   "pygments_lexer": "ipython3",
   "version": "3.7.3"
  }
 },
 "nbformat": 4,
 "nbformat_minor": 4
}
