{
 "cells": [
  {
   "cell_type": "markdown",
   "metadata": {},
   "source": [
    "A"
   ]
  },
  {
   "cell_type": "code",
   "execution_count": null,
   "metadata": {},
   "outputs": [],
   "source": [
    "4 2 3 5 1 6\n",
    "\n",
    "4 0 1 2 0 5"
   ]
  },
  {
   "cell_type": "code",
   "execution_count": null,
   "metadata": {},
   "outputs": [],
   "source": [
    "6 1 2 3 4 5\n",
    "6 0 1 1 1 1\n",
    "\n",
    "6 1 5 2 4 3\n",
    "6 0 4 0 2 0\n",
    "\n",
    "12"
   ]
  },
  {
   "cell_type": "code",
   "execution_count": 2,
   "metadata": {},
   "outputs": [
    {
     "name": "stdout",
     "output_type": "stream",
     "text": [
      "6\n",
      "1 4 3 5 6 2\n",
      "12\n"
     ]
    }
   ],
   "source": [
    "from collections import deque\n",
    "\n",
    "n = int(input())\n",
    "deq = deque(sorted(map(int, input().split())))\n",
    "\n",
    "r = []\n",
    "while deq:\n",
    "    r.append(deq.pop())\n",
    "    \n",
    "    if not deq:\n",
    "        break\n",
    "        \n",
    "    r.append(deq.popleft())\n",
    "    \n",
    "result = r[0]\n",
    "for i in range(1, n):\n",
    "    result += max(0, r[i] - r[i - 1])\n",
    "    \n",
    "print(result)"
   ]
  },
  {
   "cell_type": "markdown",
   "metadata": {},
   "source": [
    "B"
   ]
  },
  {
   "cell_type": "code",
   "execution_count": 25,
   "metadata": {},
   "outputs": [
    {
     "name": "stdout",
     "output_type": "stream",
     "text": [
      "26\n"
     ]
    }
   ],
   "source": [
    "import io, os, sys\n",
    "input = io.BytesIO(os.read(0, os.fstat(0).st_size)).readline\n",
    "\n",
    "n, m = map(int, input().split())\n",
    "li = list(map(int, input().split()))\n",
    "info = [list(map(int, input().split())) for _ in range(m)]\n",
    "\n",
    "cumul = 0\n",
    "prefix = [0] * (n + 1)\n",
    "for i in range(n):\n",
    "    cumul += li[i]\n",
    "    prefix[i + 1] = cumul\n",
    "\n",
    "sv = prefix[n]\n",
    "max_needed = -1\n",
    "for i in range(m):\n",
    "    s, e, c = info[i]\n",
    "    s -= 1\n",
    "    e -= 1\n",
    "    \n",
    "    nc = c - prefix[s]\n",
    "    nc = max(0, nc)\n",
    "    \n",
    "    turn = nc // sv\n",
    "    if nc % sv:\n",
    "        turn += 1\n",
    "    \n",
    "    needed = turn * sv + prefix[s]\n",
    "    \n",
    "    if s <= e:\n",
    "        needed += prefix[e] - prefix[s]\n",
    "    else:\n",
    "        needed += (sv - prefix[s]) + prefix[e]\n",
    "        \n",
    "    max_needed = max(max_needed, needed)\n",
    "    \n",
    "print(max_needed)"
   ]
  },
  {
   "cell_type": "code",
   "execution_count": 9,
   "metadata": {},
   "outputs": [
    {
     "data": {
      "text/plain": [
       "13"
      ]
     },
     "execution_count": 9,
     "metadata": {},
     "output_type": "execute_result"
    }
   ],
   "source": [
    "sv"
   ]
  },
  {
   "cell_type": "markdown",
   "metadata": {},
   "source": [
    "C"
   ]
  },
  {
   "cell_type": "code",
   "execution_count": 31,
   "metadata": {},
   "outputs": [
    {
     "name": "stdout",
     "output_type": "stream",
     "text": [
      "5 4\n",
      "1 2 3 3 4\n",
      "1 2 1 1\n",
      "False\n"
     ]
    }
   ],
   "source": [
    "n, m = map(int, input().split())\n",
    "A = sorted(map(int, input().split()))\n",
    "B = sorted(map(int, input().split()))\n",
    "\n",
    "ip = True\n",
    "for bi in range(m - 1, -1, -1):\n",
    "    min_cri = bi + 1\n",
    "    for _ in range(B[bi]):\n",
    "        if not A or A[-1] < min_cri:\n",
    "            ip = False\n",
    "            break\n",
    "        A.pop()\n",
    "        \n",
    "    if not ip:\n",
    "        break\n",
    "        \n",
    "if ip:\n",
    "    print('YES')\n",
    "else:\n",
    "    print('NO')"
   ]
  },
  {
   "cell_type": "markdown",
   "metadata": {},
   "source": [
    "D"
   ]
  },
  {
   "cell_type": "code",
   "execution_count": 35,
   "metadata": {},
   "outputs": [
    {
     "name": "stdout",
     "output_type": "stream",
     "text": [
      "4 4\n",
      "5 7\n",
      "4 6\n",
      "5 8\n",
      "6 1\n",
      "[7, 7, 15, 1]\n",
      "[0, 6, 8, 1]\n",
      "[0, 0, 8, 1]\n",
      "[0, 0, 0, 1]\n"
     ]
    }
   ],
   "source": [
    "import io, os, sys\n",
    "input = io.BytesIO(os.read(0, os.fstat(0).st_size)).readline\n",
    "\n",
    "inf = float('inf')\n",
    "\n",
    "n, m = map(int, input().split())\n",
    "li = [list(map(int, input().split())) for _ in range(n)]\n",
    "\n",
    "info = [[0] * n for _ in range(n)]\n",
    "\n",
    "for s in range(n):\n",
    "    max_h = 0\n",
    "    p_sv = 0\n",
    "    for e in range(s, n):\n",
    "        h, p = li[e]\n",
    "        \n",
    "        if h > max_h:\n",
    "            max_h = h\n",
    "            p_sv = p\n",
    "        elif h == max_h:\n",
    "            p_sv += p\n",
    "            \n",
    "        info[s][e] = p_sv\n",
    "        \n",
    "dp = [[-inf] * n for _ in range(m)]\n",
    "\n",
    "cur_m = 0\n",
    "for i in range(n):\n",
    "    dp[cur_m][i] = info[0][i]\n",
    "    \n",
    "for cur_m in range(1, m):\n",
    "    for i in range(cur_m, n):\n",
    "        max_v = -inf\n",
    "        for cur_group_s in range(cur_m, i + 1):\n",
    "            v = dp[cur_m - 1][cur_group_s - 1] + info[cur_group_s][i]\n",
    "            max_v = max(max_v, v)\n",
    "            \n",
    "        dp[cur_m][i] = max_v\n",
    "        \n",
    "result = dp[m - 1][n - 1]\n",
    "\n",
    "print(result)"
   ]
  },
  {
   "cell_type": "markdown",
   "metadata": {},
   "source": [
    "E"
   ]
  },
  {
   "cell_type": "code",
   "execution_count": 36,
   "metadata": {},
   "outputs": [
    {
     "name": "stdout",
     "output_type": "stream",
     "text": [
      "4 4 6\n",
      "1 2 3 4\n",
      "1 3 4 3\n",
      "3 4 1 2\n",
      "2 3 2 1\n",
      "2\n"
     ]
    }
   ],
   "source": [
    "from heapq import heappush, heappop\n",
    "import io, os, sys\n",
    "input = io.BytesIO(os.read(0, os.fstat(0).st_size)).readline\n",
    "\n",
    "inf = float('inf')\n",
    "\n",
    "def check(max_comp):\n",
    "    spents = [inf] * (n + 1)\n",
    "    spents[1] = 0\n",
    "\n",
    "    heap = []\n",
    "    heappush(heap, (0, 1))\n",
    "\n",
    "    while heap:\n",
    "        spent, value = heappop(heap)\n",
    "\n",
    "        if spent > spents[value]:\n",
    "            continue\n",
    "\n",
    "        for v, t, s in li[value]:\n",
    "            if s > max_comp:\n",
    "                t += s - max_comp\n",
    "            \n",
    "            nspent = spent + t\n",
    "            if nspent < spents[v]:\n",
    "                spents[v] = nspent\n",
    "                heappush(heap, (nspent, v))\n",
    "                \n",
    "    if spents[n] <= k:\n",
    "        return True\n",
    "    else:\n",
    "        return False\n",
    "\n",
    "n, m, k = map(int, input().split())\n",
    "                \n",
    "li = [[] for _ in range(n + 1)]\n",
    "for _ in range(m):\n",
    "    u, v, t, s = map(int, input().split())\n",
    "    li[u].append((v, t, s))\n",
    "    li[v].append((u, t, s))\n",
    "    \n",
    "start = 0\n",
    "end = int(1e9)\n",
    "r = -1\n",
    "while start <= end:\n",
    "    mid = (start + end) // 2\n",
    "    \n",
    "    if check(mid):\n",
    "        r = mid\n",
    "        end = mid - 1\n",
    "    else:\n",
    "        start = mid + 1\n",
    "        \n",
    "print(r)"
   ]
  },
  {
   "cell_type": "markdown",
   "metadata": {},
   "source": [
    "F"
   ]
  },
  {
   "cell_type": "code",
   "execution_count": null,
   "metadata": {},
   "outputs": [],
   "source": [
    "두 종목 이상에서 승리를 차지한 팀이 우승이 됨\n",
    "\n",
    "즉, 두 종목을 이기면 나머지 한 종목의 결과는 상관 없으므로\n",
    "A가 두 종목을 이기는 3개의 경우에 대해서만 확인해보면 됨\n",
    "-> A가 두 종목에만 집중에서 나머지 팀들도 해당 두 종목에만 집중하다가\n",
    "오히려 A가 나머지 한 종목해서 이기게 될 수도 있으므로 안됨\n",
    "\n",
    "한 명이 특정 종목에서 월등하게 다른 팀원의 합을 이길 수 있으면 해당 종목에는 해당 인원만 집중해도 됨.\n",
    "\n",
    "혹시 a, b, c, d 범위가 낮은 것을 이용할 수 있나?"
   ]
  },
  {
   "cell_type": "code",
   "execution_count": null,
   "metadata": {},
   "outputs": [],
   "source": [
    "A  B  C  D\n",
    "15 15 15 15"
   ]
  },
  {
   "cell_type": "code",
   "execution_count": null,
   "metadata": {},
   "outputs": [],
   "source": [
    "a1 15 15 15\n",
    "a2 15 15 15\n",
    "a3 15 15 15\n",
    "a4 15 15 15\n",
    "a5 15 15 15\n",
    "..\n",
    "a15 15 15 15"
   ]
  },
  {
   "cell_type": "code",
   "execution_count": 48,
   "metadata": {},
   "outputs": [
    {
     "data": {
      "text/plain": [
       "225"
      ]
     },
     "execution_count": 48,
     "metadata": {},
     "output_type": "execute_result"
    }
   ],
   "source": [
    "#  실력  명수  종목\n",
    "(15  *  5  * 3)"
   ]
  },
  {
   "cell_type": "code",
   "execution_count": 47,
   "metadata": {},
   "outputs": [
    {
     "data": {
      "text/plain": [
       "225"
      ]
     },
     "execution_count": 47,
     "metadata": {},
     "output_type": "execute_result"
    }
   ],
   "source": [
    "15 * 5 * 3"
   ]
  },
  {
   "cell_type": "code",
   "execution_count": 42,
   "metadata": {},
   "outputs": [
    {
     "data": {
      "text/plain": [
       "3003"
      ]
     },
     "execution_count": 42,
     "metadata": {},
     "output_type": "execute_result"
    }
   ],
   "source": [
    "15 C 5\n",
    "\n",
    "15 * 14 * 13 * 12 * 11 // (5*4*3*2*1)"
   ]
  },
  {
   "cell_type": "code",
   "execution_count": 44,
   "metadata": {},
   "outputs": [
    {
     "data": {
      "text/plain": [
       "252"
      ]
     },
     "execution_count": 44,
     "metadata": {},
     "output_type": "execute_result"
    }
   ],
   "source": [
    "10 C 5\n",
    "\n",
    "10 * 9 * 8 * 7 * 6 // (5*4*3*2*1)"
   ]
  },
  {
   "cell_type": "code",
   "execution_count": 49,
   "metadata": {},
   "outputs": [
    {
     "data": {
      "text/plain": [
       "170270100"
      ]
     },
     "execution_count": 49,
     "metadata": {},
     "output_type": "execute_result"
    }
   ],
   "source": [
    "3003 * 252 * 225"
   ]
  },
  {
   "cell_type": "markdown",
   "metadata": {},
   "source": [
    "G"
   ]
  },
  {
   "cell_type": "code",
   "execution_count": null,
   "metadata": {},
   "outputs": [],
   "source": [
    "간선 개수가 짝수인 사이클에 소속된 간선 정보는 바꿀 수 없음\n",
    "간선 개수가 홀수인 사이클에 소속된 간선들 중 하나는 바꾸어야만 함\n",
    "\n",
    "간선 개수가 홀수인 사이클이 있는 컴포넌트가 2개 이상이면 불가능함\n",
    "-> 전체 컴포넌트 개수는 모든 경우에서 1개일 수 있음\n",
    "-> 그렇지 않음\n",
    "\n",
    "현재 노드를 거짓말쟁이라고 한다면 현재 노드로부터 가는 모든 노드의 팀 정보가 invert됨\n",
    "\n",
    "사이클이 있다면 각 노드가 사이클에 속해있는지의 여부 및 사이클 길이 정보를 저장함\n",
    "-> 사이클은 있을 수밖에 없음\n",
    "\n",
    "두 팀 중 적어도 하나의 팀의 최소 인원수가 M 이상이어야 한다면 한 팀에 모든 인원을 최대한 몰아주면 됨"
   ]
  },
  {
   "cell_type": "code",
   "execution_count": null,
   "metadata": {},
   "outputs": [],
   "source": [
    "get_value = lambda x: int(x) - 1\n",
    "\n",
    "n, m = map(int, input())\n",
    "li = list(map(get_value, input().split()))\n",
    "\n",
    "vt = [False] * n\n",
    "\n",
    "cycle_len = 0\n",
    "\n",
    "for num in range(n):\n",
    "    \n",
    "    \n",
    "    route = []"
   ]
  },
  {
   "cell_type": "markdown",
   "metadata": {},
   "source": [
    "https://www.acmicpc.net/problem/3211 kino"
   ]
  },
  {
   "cell_type": "code",
   "execution_count": 9,
   "metadata": {},
   "outputs": [
    {
     "name": "stdout",
     "output_type": "stream",
     "text": [
      "5\n",
      "3\n",
      "4\n",
      "3\n",
      "3\n",
      "3\n",
      "4\n"
     ]
    }
   ],
   "source": [
    "import io, os, sys\n",
    "input = io.BytesIO(os.read(0, os.fstat(0).st_size)).readline\n",
    "\n",
    "n = int(input())\n",
    "li = [int(input()) for _ in range(n)]\n",
    "\n",
    "li.sort()\n",
    "\n",
    "r = 0\n",
    "for i in range(n):\n",
    "    if li[i] <= i:\n",
    "        r = i + 1\n",
    "        break\n",
    "        \n",
    "print(r)"
   ]
  },
  {
   "cell_type": "markdown",
   "metadata": {},
   "source": [
    "https://www.acmicpc.net/problem/25571 지그재그 부분배열"
   ]
  },
  {
   "cell_type": "code",
   "execution_count": 6,
   "metadata": {},
   "outputs": [
    {
     "name": "stdout",
     "output_type": "stream",
     "text": [
      "7\n",
      "1 2 1 2 1 2 1\n",
      "21\n"
     ]
    }
   ],
   "source": [
    "import io, os, sys\n",
    "input = io.BytesIO(os.read(0, os.fstat(0).st_size)).readline\n",
    "\n",
    "def nCk(n, k):\n",
    "    if n < k:\n",
    "        return 0\n",
    "    if k < 0:\n",
    "        return 0\n",
    "    \n",
    "    if n - k < k:\n",
    "        k = n - k\n",
    "        \n",
    "    num = 1\n",
    "    for i in range(n, n - k, -1):\n",
    "        num *= i\n",
    "    \n",
    "    denom = 1\n",
    "    for i in range(2, k + 1):\n",
    "        denom *= i\n",
    "        \n",
    "    return num // denom\n",
    "\n",
    "for _ in range(int(input())):\n",
    "    n = int(input())\n",
    "    li = list(map(int, input().split()))\n",
    "\n",
    "    c = 1\n",
    "    last = -1 # -1: no, 0: up, 1: down\n",
    "    result = 0\n",
    "    for i in range(1, n):\n",
    "        if last == -1:\n",
    "            if li[i - 1] < li[i]:\n",
    "                c += 1\n",
    "                last = 0\n",
    "            elif li[i - 1] > li[i]:\n",
    "                c += 1\n",
    "                last = 1\n",
    "            else:\n",
    "                result += nCk(c, 2)\n",
    "                c = 1\n",
    "                last = -1\n",
    "        elif last == 0:\n",
    "            if li[i - 1] < li[i]:\n",
    "                result += nCk(c, 2)\n",
    "                c = 2\n",
    "                last = 0\n",
    "            elif li[i - 1] > li[i]:\n",
    "                c += 1\n",
    "                last = 1\n",
    "            else:\n",
    "                result += nCk(c, 2)\n",
    "                c = 1\n",
    "                last = -1\n",
    "        else:\n",
    "            if li[i - 1] < li[i]:\n",
    "                c += 1\n",
    "                last = 0\n",
    "            elif li[i - 1] > li[i]:\n",
    "                result += nCk(c, 2)\n",
    "                c = 2\n",
    "                last = 1          \n",
    "            else:\n",
    "                result += nCk(c, 2)\n",
    "                c = 1\n",
    "                last = -1   \n",
    "\n",
    "    result += nCk(c, 2)\n",
    "\n",
    "    print(result)"
   ]
  },
  {
   "cell_type": "markdown",
   "metadata": {},
   "source": [
    "https://www.acmicpc.net/problem/24838 배열 구간합 놀이"
   ]
  },
  {
   "cell_type": "code",
   "execution_count": null,
   "metadata": {},
   "outputs": [],
   "source": [
    "imos 방식으로 각각의 인덱스의 가중치를 구함\n",
    "\n",
    "n개의 원소는 모두 다름. 즉, 인덱스의 가중치가 같은 수의 팩토리얼로 경우의 수가 생김"
   ]
  },
  {
   "cell_type": "code",
   "execution_count": 19,
   "metadata": {},
   "outputs": [
    {
     "name": "stdout",
     "output_type": "stream",
     "text": [
      "13 1\n",
      "1 2 3 4 5 6 7 8 9 10 11 12 13\n",
      "1 13\n",
      "91 227020758\n"
     ]
    }
   ],
   "source": [
    "import io, os, sys\n",
    "input = io.BytesIO(os.read(0, os.fstat(0).st_size)).readline\n",
    "\n",
    "mod = int(1e9) + 7\n",
    "\n",
    "facts = [0] * 200001\n",
    "facts[0] = facts[1] = 1\n",
    "for num in range(2, 200001):\n",
    "    facts[num] = facts[num - 1] * num % mod\n",
    "\n",
    "for _ in range(int(input())):\n",
    "    n, m = map(int, input().split())\n",
    "    li = list(map(int, input().split()))\n",
    "\n",
    "    deltas = [0] * (n + 2)\n",
    "    for _ in range(m):\n",
    "        x, y = map(int, input().split())\n",
    "        deltas[x] += 1\n",
    "        deltas[y + 1] -= 1\n",
    "\n",
    "    weights = [0] * (n + 1)\n",
    "    cumul = 0\n",
    "    for i in range(n + 1):\n",
    "        cumul += deltas[i]\n",
    "        weights[i] = cumul\n",
    "\n",
    "    weights = sorted(weights[1:])\n",
    "    li.sort()\n",
    "\n",
    "    r1 = 0\n",
    "    w_ct = [0] * (m + 1)\n",
    "    for i in range(n):\n",
    "        w = weights[i]\n",
    "        r1 += w * li[i]\n",
    "        w_ct[w] += 1\n",
    "\n",
    "    r2 = 1\n",
    "    for i in range(m + 1):\n",
    "        r2 *= facts[w_ct[i]]\n",
    "        r2 %= mod\n",
    "\n",
    "    print(r1, r2)"
   ]
  },
  {
   "cell_type": "markdown",
   "metadata": {},
   "source": [
    "D"
   ]
  },
  {
   "cell_type": "code",
   "execution_count": 2,
   "metadata": {},
   "outputs": [
    {
     "name": "stdout",
     "output_type": "stream",
     "text": [
      "1 3\n",
      "1\n",
      "3\n",
      "7\n",
      "6\n",
      "3\n"
     ]
    }
   ],
   "source": [
    "import io, os, sys\n",
    "input = io.BytesIO(os.read(0, os.fstat(0).st_size)).readline\n",
    "\n",
    "n, m = map(int, input().split())\n",
    "li = [list(map(int, input().split())) for _ in range(m)]\n",
    "\n",
    "total = 0\n",
    "result = []\n",
    "for j in range(n):\n",
    "    temp = []\n",
    "    for i in range(m):\n",
    "        temp.append(li[i][j])\n",
    "    \n",
    "    temp.sort()\n",
    "    \n",
    "    r = temp[(m - 1) // 2]\n",
    "    \n",
    "    for i in range(m):\n",
    "        total += abs(r - temp[i])\n",
    "    \n",
    "    result.append(r)\n",
    "    \n",
    "print(total)\n",
    "print(*result)"
   ]
  },
  {
   "cell_type": "markdown",
   "metadata": {},
   "source": [
    "E"
   ]
  },
  {
   "cell_type": "code",
   "execution_count": null,
   "metadata": {},
   "outputs": [],
   "source": [
    "3을 만드는 방법: 3 3 3"
   ]
  },
  {
   "cell_type": "code",
   "execution_count": null,
   "metadata": {},
   "outputs": [],
   "source": [
    "dp[타겟 숫자][자릿수][최솟값과 ]"
   ]
  },
  {
   "cell_type": "code",
   "execution_count": 28,
   "metadata": {},
   "outputs": [
    {
     "name": "stdout",
     "output_type": "stream",
     "text": [
      "(0, 0, 0, 0, 0, 1, 0, 1, 1) 3 15 23\n",
      "(0, 0, 0, 0, 1, 0, 0, 1, 1) 3 18 22\n",
      "(0, 0, 0, 0, 1, 1, 0, 0, 1) 3 24 20\n",
      "(0, 0, 0, 0, 1, 1, 0, 1, 0) 3 27 19\n",
      "(0, 0, 0, 0, 1, 1, 1, 1, 1) 5 21 35\n",
      "(0, 0, 0, 1, 1, 1, 0, 1, 1) 5 12 32\n",
      "(0, 0, 1, 0, 1, 1, 0, 1, 1) 5 9 31\n",
      "(0, 1, 0, 0, 1, 1, 0, 1, 1) 5 6 30\n",
      "(0, 1, 1, 0, 0, 1, 0, 0, 1) 4 3 20\n",
      "(0, 1, 1, 0, 1, 0, 0, 1, 0) 4 3 18\n",
      "(1, 0, 0, 0, 1, 1, 0, 1, 1) 5 3 29\n",
      "(1, 0, 1, 0, 0, 1, 0, 0, 1) 4 6 19\n",
      "(1, 0, 1, 0, 1, 0, 0, 1, 0) 4 6 17\n",
      "(1, 1, 0, 0, 0, 1, 0, 0, 1) 4 9 18\n",
      "(1, 1, 0, 0, 1, 0, 0, 1, 0) 4 9 16\n",
      "(1, 1, 1, 0, 0, 0, 0, 0, 1) 4 18 15\n",
      "(1, 1, 1, 0, 0, 0, 0, 1, 0) 4 15 14\n",
      "(1, 1, 1, 0, 0, 1, 0, 0, 0) 4 27 12\n",
      "(1, 1, 1, 0, 0, 1, 0, 1, 1) 6 24 29\n",
      "(1, 1, 1, 0, 0, 1, 1, 0, 1) 6 21 28\n",
      "(1, 1, 1, 0, 1, 0, 0, 0, 0) 4 24 11\n",
      "(1, 1, 1, 0, 1, 0, 0, 1, 1) 6 27 28\n",
      "(1, 1, 1, 0, 1, 0, 1, 1, 0) 6 21 26\n",
      "(1, 1, 1, 0, 1, 1, 0, 0, 1) 6 15 26\n",
      "(1, 1, 1, 0, 1, 1, 0, 1, 0) 6 18 25\n",
      "(1, 1, 1, 1, 0, 1, 0, 0, 1) 6 12 25\n",
      "(1, 1, 1, 1, 1, 0, 0, 1, 0) 6 12 23\n"
     ]
    }
   ],
   "source": [
    "from itertools import product as prod\n",
    "\n",
    "to_bit = {1: '0010010', 2: '1011101', 3: '1011011', 4: '0111010', 5: '1101011',\n",
    "          6: '1101111', 7: '1110010', 8: '1111111', 9: '1111011'}\n",
    "\n",
    "for num in to_bit:\n",
    "    to_bit[num] = int(to_bit[num], 2)\n",
    "to_num = {v: key for key, v in to_bit.items()}\n",
    "    \n",
    "values = set(to_bit.values())\n",
    "\n",
    "other_cases = {}\n",
    "for case in prod(*[range(2)] * 9):\n",
    "    if sum(case) <= 1:\n",
    "        continue\n",
    "    \n",
    "    cur = 0\n",
    "    num_sums = 0\n",
    "    for ci in range(9):\n",
    "        num = ci + 1\n",
    "        \n",
    "        if case[ci] == 1:\n",
    "            num_sums += num\n",
    "            cur ^= to_bit[num]\n",
    "\n",
    "    if cur in values:\n",
    "        target_num = to_num[cur]\n",
    "        \n",
    "        other_cases[target_num]\n",
    "        \n",
    "        print(case, sum(case), target_num * 3, num_sums)"
   ]
  },
  {
   "cell_type": "code",
   "execution_count": 1,
   "metadata": {},
   "outputs": [],
   "source": [
    "max_num = 100000\n",
    "ip = [True] * (max_num + 1)\n",
    "ip[0] = ip[1] = False\n",
    "for mod1 in range(2, int((max_num + 1) ** 0.5) + 1):\n",
    "    if ip[mod1]:\n",
    "        for v in range(mod1 * mod1, max_num + 1, mod1):\n",
    "            ip[v] = False\n",
    "            \n",
    "primes = [i for i, v in enumerate(ip) if v]"
   ]
  },
  {
   "cell_type": "code",
   "execution_count": 3,
   "metadata": {},
   "outputs": [
    {
     "name": "stdout",
     "output_type": "stream",
     "text": [
      "1121\n"
     ]
    }
   ],
   "source": [
    "n = 671\n",
    "\n",
    "k = -1\n",
    "for i, prime in enumerate(primes):\n",
    "    if (n + 2) % prime == 0:\n",
    "        k = i + 1\n",
    "        break\n",
    "\n",
    "r = 999 + k\n",
    "\n",
    "print(r)"
   ]
  },
  {
   "cell_type": "markdown",
   "metadata": {},
   "source": [
    "ATM 4013"
   ]
  },
  {
   "cell_type": "code",
   "execution_count": 13,
   "metadata": {},
   "outputs": [
    {
     "name": "stdout",
     "output_type": "stream",
     "text": [
      "6 7\n",
      "1 2\n",
      "2 3\n",
      "3 5\n",
      "2 4\n",
      "4 1\n",
      "2 6\n",
      "6 5\n",
      "10\n",
      "12\n",
      "8\n",
      "16\n",
      "1\n",
      "5\n",
      "2 4\n",
      "4 3 5 6\n",
      "47\n"
     ]
    }
   ],
   "source": [
    "import io, os, sys\n",
    "input = io.BytesIO(os.read(0, os.fstat(0).st_size)).readline\n",
    "\n",
    "## PYRIVAL BOOTSTRAP\n",
    "# https://github.com/cheran-senthil/PyRival/blob/master/pyrival/misc/bootstrap.py\n",
    "# This decorator allows for recursion without actually doing recursion\n",
    "## @bootstrap, yield when getting and returning value in recursive functions, end of functions\n",
    "from types import GeneratorType\n",
    "\n",
    "def bootstrap(f, stack=[]):\n",
    "    def wrappedfunc(*args, **kwargs):\n",
    "        if stack:\n",
    "            return f(*args, **kwargs)\n",
    "        else:\n",
    "            to = f(*args, **kwargs)\n",
    "            while True:\n",
    "                if type(to) is GeneratorType:\n",
    "                    stack.append(to)\n",
    "                    to = next(to)\n",
    "                else:\n",
    "                    stack.pop()\n",
    "                    if not stack:\n",
    "                        break\n",
    "                    to = stack[-1].send(to)\n",
    "            return to\n",
    "    return wrappedfunc\n",
    "\n",
    "@bootstrap\n",
    "def dfs(value):\n",
    "    for v in li[value]:\n",
    "        if vt[v]:\n",
    "            continue\n",
    "        vt[v] = True\n",
    "        yield dfs(v)\n",
    "        \n",
    "    stack.append(value)\n",
    "    \n",
    "    yield\n",
    "\n",
    "@bootstrap\n",
    "def dfs2(value):\n",
    "    for v in rli[value]:\n",
    "        if vt[v]:\n",
    "            continue\n",
    "        vt[v] = True\n",
    "        temp.append(v)\n",
    "        yield dfs2(v)\n",
    "        \n",
    "    yield\n",
    "    \n",
    "@bootstrap\n",
    "def dfs3(value):\n",
    "    vt[value] = True\n",
    "    \n",
    "    to_add = -1\n",
    "    for v in li[value]:\n",
    "        if not vt[v]:\n",
    "            yield dfs3(v)  \n",
    "        to_add = max(to_add, max_cans[v])\n",
    "        \n",
    "    max_can = -1\n",
    "    if value in rests or to_add != -1:\n",
    "         max_can = moneys[value] + max(to_add, 0)\n",
    "            \n",
    "    max_cans[value] = max_can\n",
    "    \n",
    "    yield\n",
    "    \n",
    "n, m = map(int, input().split())\n",
    "li = [set() for _ in range(n + 1)]\n",
    "rli = [set() for _ in range(n + 1)]\n",
    "for _ in range(m):\n",
    "    a, b = map(int, input().split())\n",
    "    \n",
    "    li[a].add(b)\n",
    "    rli[b].add(a)\n",
    "    \n",
    "moneys = [0] + [int(input()) for _ in range(n)]\n",
    "s, p = map(int, input().split())\n",
    "rests = set(map(int, input().split()))\n",
    "    \n",
    "stack = []\n",
    "vt = [False] * (n + 1)\n",
    "for i in [s] + list(range(1, n + 1)):\n",
    "    if vt[i]:\n",
    "        continue\n",
    "    vt[i] = True\n",
    "    dfs(i)\n",
    "    \n",
    "vt = [False] * (n + 1)\n",
    "scc = []\n",
    "while stack:\n",
    "    value = stack.pop()\n",
    "    if vt[value]:\n",
    "        continue\n",
    "    vt[value] = True\n",
    "        \n",
    "    temp = [value]\n",
    "    dfs2(value)\n",
    "    scc.append(temp.copy())\n",
    "\n",
    "reps = dict()\n",
    "for group in scc:\n",
    "    is_rest_in = False\n",
    "    sum_v = 0\n",
    "    for v in group:\n",
    "        sum_v += moneys[v]\n",
    "        \n",
    "        if v in rests:\n",
    "            is_rest_in = True\n",
    "            \n",
    "    others_st = set(group)\n",
    "    if s in others_st:\n",
    "        rep = s\n",
    "    else:\n",
    "        rep = group[0]\n",
    "        \n",
    "    others_st.discard(rep)\n",
    "    \n",
    "    for other in others_st:\n",
    "        reps[other] = rep\n",
    "    \n",
    "    moneys[rep] = sum_v\n",
    "    if is_rest_in:\n",
    "        rests.add(rep)\n",
    "        \n",
    "for value in range(1, n + 1):    \n",
    "    changed = set()\n",
    "    to_dels = set()\n",
    "    for v in li[value]:\n",
    "        if v in reps:\n",
    "            changed.add(reps[v])\n",
    "            to_dels.add(v)\n",
    "            \n",
    "    li[value] -= to_dels\n",
    "    li[value] |= changed\n",
    "    \n",
    "    li[value].discard(value)\n",
    "    \n",
    "for value in range(1, n + 1):\n",
    "    if value in reps:\n",
    "        li[reps[value]] |= li[value]\n",
    "        li[value] = set()     \n",
    "    \n",
    "vt = [False] * (n + 1)\n",
    "max_cans = [-1] * (n + 1)\n",
    "dfs3(s)\n",
    "result = max_cans[s]\n",
    "\n",
    "print(result)"
   ]
  },
  {
   "cell_type": "markdown",
   "metadata": {},
   "source": [
    "A"
   ]
  },
  {
   "cell_type": "code",
   "execution_count": 4,
   "metadata": {},
   "outputs": [
    {
     "name": "stdout",
     "output_type": "stream",
     "text": [
      ":chino_very_shock:\n",
      "30\n"
     ]
    }
   ],
   "source": [
    "s=input()\n",
    "print(len(s)+s.count('_')*5+2)"
   ]
  },
  {
   "cell_type": "markdown",
   "metadata": {},
   "source": [
    "B"
   ]
  },
  {
   "cell_type": "code",
   "execution_count": null,
   "metadata": {},
   "outputs": [],
   "source": [
    "from copy import deepcopy\n",
    "import sys\n",
    "# input = lambda: sys.stdin.readline().rstrip()\n",
    "\n",
    "inf = float('inf')\n",
    "\n",
    "def check():\n",
    "    for i in range(n):\n",
    "        for j in range(n):\n",
    "            if nli[i][j] != to_check[i][j]:\n",
    "                return False\n",
    "    return True\n",
    "\n",
    "for _ in range(int(input())):\n",
    "    n, m = map(int, input().split())\n",
    "    li = [list(input()) for _ in range(n)]\n",
    "\n",
    "    sx = inf\n",
    "    ex = -1\n",
    "    sy = inf\n",
    "    ey = -1\n",
    "\n",
    "    for i in range(n):\n",
    "        for j in range(m):\n",
    "            if li[i][j] == '#':\n",
    "                sx = min(i, sx)\n",
    "                ex = max(i, ex)\n",
    "                sy = min(j, sy)\n",
    "                ey = max(j, ey)\n",
    "\n",
    "    if sx == inf:\n",
    "        print(0)\n",
    "    else:           \n",
    "        size_x = ex - sx + 1\n",
    "        size_y = ey - sy + 1\n",
    "\n",
    "        if size_x != size_y:\n",
    "            print(0)\n",
    "        else:\n",
    "            n = size_x\n",
    "\n",
    "            nli = []\n",
    "            for i in range(sx, ex + 1):\n",
    "                nli.append(li[i][sy:ey + 1])\n",
    "\n",
    "            ori = [['#'] * n for _ in range(n)]\n",
    "\n",
    "            ip = False\n",
    "\n",
    "            for m in range(1, n):\n",
    "                to_check = deepcopy(ori)\n",
    "                for i in range(m):\n",
    "                    for j in range(m):\n",
    "                        to_check[i][j] = '.'         \n",
    "                if check():\n",
    "                    ip = True\n",
    "\n",
    "                to_check = deepcopy(ori)\n",
    "                for i in range(m):\n",
    "                    for j in range(n - 1, n - 1 - m, -1):\n",
    "                        to_check[i][j] = '.'  \n",
    "                if check():\n",
    "                    ip = True \n",
    "\n",
    "                to_check = deepcopy(ori)\n",
    "                for i in range(n - 1, n - 1 - m, -1):\n",
    "                    for j in range(m):\n",
    "                        to_check[i][j] = '.'  \n",
    "                if check():\n",
    "                    ip = True                  \n",
    "\n",
    "                to_check = deepcopy(ori)\n",
    "                for i in range(n - 1, n - 1 - m, -1):\n",
    "                    for j in range(n - 1, n - 1 - m, -1):\n",
    "                        to_check[i][j] = '.'  \n",
    "                if check():\n",
    "                    ip = True    \n",
    "\n",
    "            if ip:\n",
    "                print(1)\n",
    "            else:\n",
    "                print(0)"
   ]
  },
  {
   "cell_type": "markdown",
   "metadata": {},
   "source": [
    "C"
   ]
  },
  {
   "cell_type": "code",
   "execution_count": null,
   "metadata": {},
   "outputs": [],
   "source": [
    "import sys\n",
    "input = lambda: sys.stdin.readline().rstrip()\n",
    "\n",
    "m, n, q = map(int, input().split())\n",
    "li = list(map(int, input().split()))\n",
    "\n",
    "result = []\n",
    "for i in range(1, m + 1):\n",
    "    print('?', i, i)\n",
    "    sys.stdout.flush()\n",
    "    \n",
    "    r = int(input())\n",
    "    \n",
    "    if r == 1:\n",
    "        result.append(2)\n",
    "    else:\n",
    "        result.append(1)\n",
    "        \n",
    "result.extend([1] * (n - m))\n",
    "        \n",
    "print('!', *result)\n",
    "sys.stdout.flush()"
   ]
  },
  {
   "cell_type": "markdown",
   "metadata": {},
   "source": [
    "D"
   ]
  },
  {
   "cell_type": "code",
   "execution_count": 22,
   "metadata": {},
   "outputs": [
    {
     "name": "stdout",
     "output_type": "stream",
     "text": [
      "2 3 4\n",
      "9 9\n",
      "0\n"
     ]
    }
   ],
   "source": [
    "def check(mid):\n",
    "    cur = mid - 1\n",
    "    \n",
    "    needed = 0\n",
    "    while cur >= 0:\n",
    "        needed += li[cur]\n",
    "        \n",
    "        for _ in range(k):\n",
    "            if cur >= 0:\n",
    "                cur -= 1\n",
    "            else:\n",
    "                break\n",
    "                \n",
    "    if needed <= m:\n",
    "        return True\n",
    "    return False\n",
    "\n",
    "n, m, k = map(int, input().split())\n",
    "li = sorted(map(int, input().split()))\n",
    "\n",
    "start = 1\n",
    "end = n\n",
    "r = 0\n",
    "while start <= end:\n",
    "    mid = (start + end) // 2\n",
    "    \n",
    "    if check(mid):\n",
    "        r = mid\n",
    "        start = mid + 1\n",
    "    else:\n",
    "        end = mid - 1\n",
    "        \n",
    "print(r)"
   ]
  },
  {
   "cell_type": "markdown",
   "metadata": {},
   "source": [
    "E"
   ]
  },
  {
   "cell_type": "code",
   "execution_count": 26,
   "metadata": {},
   "outputs": [
    {
     "name": "stdout",
     "output_type": "stream",
     "text": [
      "1\n"
     ]
    }
   ],
   "source": [
    "from collections import deque\n",
    "import sys\n",
    "input = lambda: sys.stdin.readline().rstrip()\n",
    "\n",
    "inf = float('inf')\n",
    "\n",
    "dx = [-1, 1, 0, 0]\n",
    "dy = [0, 0, -1, 1]\n",
    "\n",
    "n, m = map(int, input().split())\n",
    "li = [input() for _ in range(n)]\n",
    "\n",
    "outs = []\n",
    "hx = hy = -1\n",
    "for i in range(n):\n",
    "    for j in range(m):\n",
    "        if li[i][j] == '#':\n",
    "            outs.append((i, j))\n",
    "        elif li[i][j] == 'H':\n",
    "            hx = i\n",
    "            hy = j\n",
    "    \n",
    "max_r = 0\n",
    "for out_x, out_y in outs:\n",
    "    dists = [[inf] * m for _ in range(n)]\n",
    "    dists[out_x][out_y] = 0\n",
    "    \n",
    "    queue = deque()\n",
    "    queue.append((out_x, out_y))\n",
    "    \n",
    "    h_dist = -1\n",
    "    p_dists = []\n",
    "    while queue:\n",
    "        x, y = queue.popleft()\n",
    "        \n",
    "        for d in range(4):\n",
    "            nx = x + dx[d]\n",
    "            ny = y + dy[d]\n",
    "            \n",
    "            if nx < 0 or nx >= n or ny < 0 or ny >= m:\n",
    "                continue\n",
    "            if li[nx][ny] == 'X':\n",
    "                continue\n",
    "            if dists[nx][ny] == inf:\n",
    "                dists[nx][ny] = dists[x][y] + 1\n",
    "                \n",
    "                if li[nx][ny] == 'H':\n",
    "                    h_dist = dists[nx][ny]\n",
    "                elif li[nx][ny] == 'P':\n",
    "                    p_dists.append(dists[nx][ny])\n",
    "                    \n",
    "                queue.append((nx, ny))\n",
    "        \n",
    "    c = 0\n",
    "    for pd in p_dists:\n",
    "        if pd <= h_dist:\n",
    "            c += 1\n",
    "            \n",
    "    max_r = max(max_r, c)\n",
    "    \n",
    "print(max_r)"
   ]
  },
  {
   "cell_type": "markdown",
   "metadata": {},
   "source": [
    "F"
   ]
  },
  {
   "cell_type": "code",
   "execution_count": 29,
   "metadata": {},
   "outputs": [
    {
     "name": "stdout",
     "output_type": "stream",
     "text": [
      "2 2\n",
      "1 3 1 1\n",
      "4 2 0 0\n",
      "2 5\n",
      "-1\n"
     ]
    }
   ],
   "source": [
    "from heapq import heappush, heappop\n",
    "import io, os, sys\n",
    "input = io.BytesIO(os.read(0, os.fstat(0).st_size)).readline\n",
    "\n",
    "n, m = map(int, input().split())\n",
    "li = []\n",
    "for i in range(n):\n",
    "    d, p, t, e = map(int, input().split())\n",
    "\n",
    "    if e:\n",
    "        d = (d + 1) // 2\n",
    "        p //= 2\n",
    "        \n",
    "    if t:\n",
    "        p = 0\n",
    "        \n",
    "    li.append((d, p))\n",
    "    \n",
    "hd, hp = map(int, input().split())\n",
    "\n",
    "li.sort(key=lambda x: -x[0])\n",
    "\n",
    "ip = True\n",
    "c_wa = 0\n",
    "heap = []\n",
    "for _ in range(m):\n",
    "    while li and li[-1][0] <= hd:\n",
    "        d, p = li.pop()\n",
    "        heappush(heap, p)\n",
    "        \n",
    "    if not heap:\n",
    "        ip = False\n",
    "        break\n",
    "        \n",
    "    p = heappop(heap)\n",
    "    if p > hp:\n",
    "        c_wa += p - hp\n",
    "    \n",
    "    hd += 1\n",
    "    hp += 1\n",
    "    \n",
    "if not ip:\n",
    "    print(-1)\n",
    "else:\n",
    "    print(c_wa)"
   ]
  },
  {
   "cell_type": "code",
   "execution_count": 68,
   "metadata": {},
   "outputs": [
    {
     "name": "stdout",
     "output_type": "stream",
     "text": [
      "2\n",
      "3 4\n",
      "YES\n"
     ]
    }
   ],
   "source": [
    "n = int(input())\n",
    "li = list(map(int, input().split()))\n",
    "\n",
    "curs = {(-1, -2, 0)}\n",
    "vt = set()\n",
    "\n",
    "for i in range(n):\n",
    "    v = li[i]\n",
    "    \n",
    "    ncurs = set()\n",
    "    for last_started, can_cover, next_can_start in curs:\n",
    "        if v <= can_cover:\n",
    "            ncurs.add((last_started, can_cover, next_can_start))\n",
    "        elif v >= next_can_start:\n",
    "            next_len = can_cover - last_started + 2\n",
    "            \n",
    "            cur_next_can_start = next_can_start\n",
    "            cur_next_len = next_len\n",
    "            \n",
    "            is_vt = False\n",
    "            while True:\n",
    "                min_to_start = max(cur_next_can_start, v - cur_next_len + 1)\n",
    "                \n",
    "                if v < min_to_start:\n",
    "                    break\n",
    "                \n",
    "                for next_start in range(min_to_start, v + 1):\n",
    "                    if (next_start, cur_next_len) in vt:\n",
    "                        is_vt = True\n",
    "                        break\n",
    "                    vt.add((next_start, cur_next_len))\n",
    "                    \n",
    "                    next_can_cover = next_start + cur_next_len - 1\n",
    "                    n_next_can_start = next_can_cover + cur_next_len + 1\n",
    "\n",
    "                    ncurs.add((next_start, next_can_cover, n_next_can_start))\n",
    "                    \n",
    "                cur_next_can_start = cur_next_can_start + cur_next_len * 2\n",
    "                cur_next_len += 1\n",
    "                \n",
    "                if is_vt:\n",
    "                    break\n",
    "                \n",
    "    curs = ncurs.copy()\n",
    "    \n",
    "if curs:\n",
    "    print('YES')\n",
    "else:\n",
    "    print('NO')"
   ]
  },
  {
   "cell_type": "markdown",
   "metadata": {},
   "source": [
    "#### 고려대학교 프로그래밍 경시대회 (KCPC mini)"
   ]
  },
  {
   "cell_type": "markdown",
   "metadata": {},
   "source": [
    "C"
   ]
  },
  {
   "cell_type": "code",
   "execution_count": 1,
   "metadata": {},
   "outputs": [
    {
     "name": "stdout",
     "output_type": "stream",
     "text": [
      "17\n",
      "1 5\n",
      "14\n"
     ]
    }
   ],
   "source": [
    "import io, os, sys\n",
    "input = io.BytesIO(os.read(0, os.fstat(0).st_size)).readline\n",
    "\n",
    "for _ in range(int(input())):\n",
    "    n = int(input())\n",
    "    s, t = map(int, input().split())\n",
    "\n",
    "    r = 0\n",
    "    while n:\n",
    "        if n % 2 == 1:\n",
    "            n -= 1\n",
    "            r += s\n",
    "        else:\n",
    "            if (n // 2) * s <= t:\n",
    "                r += n * s\n",
    "                break\n",
    "            else:\n",
    "                r += t\n",
    "                n //= 2\n",
    "\n",
    "    print(r)"
   ]
  },
  {
   "cell_type": "markdown",
   "metadata": {},
   "source": [
    "E"
   ]
  },
  {
   "cell_type": "code",
   "execution_count": null,
   "metadata": {},
   "outputs": [],
   "source": [
    "n, k = map(int, input().split())\n",
    "\n",
    "li = list(map(int, input().split()))\n",
    "is_gs = list(map(int, input().split()))\n",
    "\n",
    "li += li\n",
    "is_gs += is_gs\n",
    "nn = n * 2\n",
    "\n",
    "start = 0\n",
    "end = 0\n",
    "max_r = 0\n",
    "\n",
    "cur_p = li[0]\n",
    "cur_c = is_gs[0]\n",
    "while start <= end:\n",
    "    if cur_c < k:\n",
    "        end += 1\n",
    "        if end >= nn:\n",
    "            break\n",
    "        cur_p += li[end]\n",
    "        cur_c += is_gs[end]\n",
    "    else:\n",
    "        max_r = max(max_r, cur_p)\n",
    "\n",
    "        if "
   ]
  },
  {
   "cell_type": "code",
   "execution_count": 23,
   "metadata": {},
   "outputs": [
    {
     "name": "stdout",
     "output_type": "stream",
     "text": [
      "7\n",
      "12\n",
      "18\n"
     ]
    }
   ],
   "source": [
    "# https://www.geeksforgeeks.org/range-maximum-query-using-sparse-table/\n",
    "# Python3 implementation of the approach\n",
    "from math import log\n",
    "MAX = 500\n",
    " \n",
    "# lookup[i][j] is going to store maximum\n",
    "# value in arr[i..j]. Ideally lookup table\n",
    "# size should not be fixed and should be\n",
    "# determined using n Log n. It is kept\n",
    "# constant to keep code simple.\n",
    "lookup = [[0 for i in range(MAX)]\n",
    "             for i in range(MAX)]\n",
    " \n",
    "# Fills lookup array lookup[][]\n",
    "# in bottom up manner\n",
    "def buildSparseTable(arr, n):\n",
    " \n",
    "    # Initialize M for the intervals\n",
    "    # with length 1\n",
    "    for i in range(n):\n",
    "        lookup[i][0] = arr[i]\n",
    " \n",
    "    # Compute values from smaller\n",
    "    # to bigger intervals\n",
    "    i, j = 0, 1\n",
    "    while (1 << j) <= n:\n",
    " \n",
    "        # Compute maximum value for\n",
    "        # all intervals with size 2^j\n",
    "        while (i + (1 << j) - 1) < n:\n",
    " \n",
    "            # For arr[2][10], we compare arr[lookup[0][7]]\n",
    "            # and arr[lookup[3][10]]\n",
    "            if (lookup[i][j - 1] >\n",
    "                lookup[i + (1 << (j - 1))][j - 1]):\n",
    "                lookup[i][j] = lookup[i][j - 1]\n",
    "            else:\n",
    "                lookup[i][j] = lookup[i + (1 << (j - 1))][j - 1]\n",
    "            i += 1\n",
    "        j += 1\n",
    "\n",
    "# Returns maximum of arr[L..R]\n",
    "def query(L, R):\n",
    "     \n",
    "    # Find highest power of 2 that is smaller\n",
    "    # than or equal to count of elements in given\n",
    "    # range\n",
    "    # For [2, 10], j = 3\n",
    "    j = int(log(R - L + 1))\n",
    " \n",
    "    # Compute maximum of last 2^j elements with first\n",
    "    # 2^j elements in range\n",
    "    # For [2, 10], we compare arr[lookup[0][3]] and\n",
    "    # arr[lookup[3][3]]\n",
    "    if (lookup[L][j] >= lookup[R - (1 << j) + 1][j]):\n",
    "        return lookup[L][j]\n",
    " \n",
    "    else:\n",
    "        return lookup[R - (1 << j) + 1][j]\n",
    "\n",
    "# Driver Code\n",
    "a = [7, 2, -3, 0, 5, 10, 3, 12, 18]\n",
    "n = len(a)\n",
    " \n",
    "buildSparseTable(a, n);\n",
    " \n",
    "print(query(0, 4))\n",
    "print(query(4, 7))\n",
    "print(query(7, 8))\n",
    " \n",
    "# This code is contributed by Mohit Kumar"
   ]
  },
  {
   "cell_type": "code",
   "execution_count": 28,
   "metadata": {},
   "outputs": [
    {
     "data": {
      "text/plain": [
       "1048576"
      ]
     },
     "execution_count": 28,
     "metadata": {},
     "output_type": "execute_result"
    }
   ],
   "source": [
    "2 ** 20"
   ]
  },
  {
   "cell_type": "code",
   "execution_count": null,
   "metadata": {},
   "outputs": [],
   "source": [
    "import io, os, sys\n",
    "input = io.BytesIO(os.read(0, os.fstat(0).st_size)).readline\n",
    "\n",
    "# https://www.geeksforgeeks.org/range-maximum-query-using-sparse-table/\n",
    "# Python3 implementation of the approach\n",
    "from math import log\n",
    " \n",
    "inf = float('inf')\n",
    "    \n",
    "# lookup[i][j] is going to store maximum\n",
    "# value in arr[i..j]. Ideally lookup table\n",
    "# size should not be fixed and should be\n",
    "# determined using n Log n. It is kept\n",
    "# constant to keep code simple.\n",
    "lookup = [[0 for i in range(25)] for i in range(1100000)]\n",
    " \n",
    "# Fills lookup array lookup[][]\n",
    "# in bottom up manner\n",
    "def buildSparseTable(arr, n):\n",
    " \n",
    "    # Initialize M for the intervals\n",
    "    # with length 1\n",
    "    for i in range(n):\n",
    "        lookup[i][0] = arr[i]\n",
    " \n",
    "    # Compute values from smaller\n",
    "    # to bigger intervals\n",
    "    i, j = 0, 1\n",
    "    while (1 << j) <= n:\n",
    " \n",
    "        # Compute maximum value for\n",
    "        # all intervals with size 2^j\n",
    "        while (i + (1 << j) - 1) < n:\n",
    " \n",
    "            # For arr[2][10], we compare arr[lookup[0][7]]\n",
    "            # and arr[lookup[3][10]]\n",
    "            if (lookup[i][j - 1] >\n",
    "                lookup[i + (1 << (j - 1))][j - 1]):\n",
    "                lookup[i][j] = lookup[i][j - 1]\n",
    "            else:\n",
    "                lookup[i][j] = lookup[i + (1 << (j - 1))][j - 1]\n",
    "            i += 1\n",
    "        j += 1\n",
    "\n",
    "# Returns maximum of arr[L..R]\n",
    "def query(L, R):\n",
    "     \n",
    "    # Find highest power of 2 that is smaller\n",
    "    # than or equal to count of elements in given\n",
    "    # range\n",
    "    # For [2, 10], j = 3\n",
    "    j = int(log(R - L + 1))\n",
    " \n",
    "    # Compute maximum of last 2^j elements with first\n",
    "    # 2^j elements in range\n",
    "    # For [2, 10], we compare arr[lookup[0][3]] and\n",
    "    # arr[lookup[3][3]]\n",
    "    if (lookup[L][j] >= lookup[R - (1 << j) + 1][j]):\n",
    "        return lookup[L][j]\n",
    " \n",
    "    else:\n",
    "        return lookup[R - (1 << j) + 1][j]\n",
    "\n",
    "# This code is contributed by Mohit Kumar\n",
    "\n",
    "\n",
    "\n",
    "n, k = map(int, input().split())\n",
    "\n",
    "li = list(map(int, input().split()))\n",
    "is_gs = list(map(int, input().split()))\n",
    "\n",
    "li += li\n",
    "is_gs += is_gs\n",
    "nn = n * 2\n",
    "\n",
    "buildSparseTable(li, nn)\n",
    "\n",
    "start = 0\n",
    "end = 0\n",
    "max_r = -inf\n",
    "\n",
    "cur_p = li[0]\n",
    "cur_c = is_gs[0]\n",
    "\n",
    "while start <= end:\n",
    "    if cur_c < k:\n",
    "        end += 1\n",
    "        if end >= nn:\n",
    "            break\n",
    "        cur_p += li[end]\n",
    "        cur_c += is_gs[end]\n",
    "    else:\n",
    "        cur_included_c = end - start + 1\n",
    "        can_include_c = n - cur_included_c\n",
    "\n",
    "        find_start = end + 1\n",
    "        find_end = min(nn - 1, end + can_include_c)\n",
    "\n",
    "        mss = 0\n",
    "        if find_start <= find_end: \n",
    "            mss = max(0, query(find_start, find_end))\n",
    "\n",
    "        r = cur_p + mss\n",
    "        max_r = max(max_r, r)\n",
    "\n",
    "        cur_p -= li[start]\n",
    "        cur_c -= is_gs[start]\n",
    "        start += 1\n",
    "        if start > end:\n",
    "            end = start\n",
    "\n",
    "            if end >= nn:\n",
    "                break\n",
    "            cur_p += li[end]\n",
    "            cur_c += is_gs[end]\n",
    "\n",
    "    while (end - start + 1) > n:\n",
    "        cur_p -= li[start]\n",
    "        cur_c -= is_gs[start]\n",
    "        start += 1\n",
    "\n",
    "print(max_r)"
   ]
  }
 ],
 "metadata": {
  "kernelspec": {
   "display_name": "Python 3",
   "language": "python",
   "name": "python3"
  },
  "language_info": {
   "codemirror_mode": {
    "name": "ipython",
    "version": 3
   },
   "file_extension": ".py",
   "mimetype": "text/x-python",
   "name": "python",
   "nbconvert_exporter": "python",
   "pygments_lexer": "ipython3",
   "version": "3.7.4"
  }
 },
 "nbformat": 4,
 "nbformat_minor": 2
}
