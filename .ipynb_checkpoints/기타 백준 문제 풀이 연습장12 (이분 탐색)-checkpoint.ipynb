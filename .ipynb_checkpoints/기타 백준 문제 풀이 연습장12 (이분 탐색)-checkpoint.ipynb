{
 "cells": [
  {
   "cell_type": "markdown",
   "metadata": {},
   "source": [
    "### 가장 긴 증가하는 부분 수열 2 12015\n",
    "- LIS nlog(n)"
   ]
  },
  {
   "cell_type": "code",
   "execution_count": null,
   "metadata": {},
   "outputs": [],
   "source": [
    "n = int(input())\n",
    "li = list(map(int, input().split()))\n",
    "tail = [0] * (n + 1)\n",
    "\n",
    "current_max_length = 0\n",
    "for i in range(n):\n",
    "    if i == 0:\n",
    "        tail[1] = li[0]\n",
    "        current_max_length = 1\n",
    "    else:\n",
    "        if li[i] == tail[1] or li[i] == tail[current_max_length]:\n",
    "            continue\n",
    "        elif li[i] < tail[1]:\n",
    "            tail[1] = li[i]\n",
    "        elif li[i] > tail[current_max_length]:\n",
    "            tail[current_max_length + 1] = li[i]\n",
    "            current_max_length += 1\n",
    "        else:\n",
    "            min_index = 1\n",
    "            max_index = current_max_length - 1\n",
    "\n",
    "            result_index = -1\n",
    "            while min_index <= max_index:\n",
    "                mid = (max_index + min_index) // 2\n",
    "\n",
    "                if tail[mid] < li[i]:\n",
    "                    result_index = mid\n",
    "                    min_index = mid + 1\n",
    "                else:\n",
    "                    max_index = mid - 1\n",
    "                    \n",
    "            tail[result_index + 1] = li[i]\n",
    "            \n",
    "print(current_max_length)"
   ]
  },
  {
   "cell_type": "markdown",
   "metadata": {},
   "source": [
    "### 가장 긴 증가하는 부분 수열 5 14003\n",
    "- LIS nlog(n)"
   ]
  },
  {
   "cell_type": "code",
   "execution_count": 180,
   "metadata": {},
   "outputs": [
    {
     "name": "stdout",
     "output_type": "stream",
     "text": [
      "10\n",
      "3\n",
      "[1, 3, -3, 2, -1, -3, -1, 4, -1, -6]\n",
      "-6 -1 4\n"
     ]
    }
   ],
   "source": [
    "# 틀린 후 디버깅 중이었음\n",
    "import random\n",
    "\n",
    "n = int(input())\n",
    "# li = list(map(int, input().split()))\n",
    "li = []\n",
    "for _ in range(n):\n",
    "    li.append(random.randint(-10, 10))\n",
    "tail = [0] * (n + 1)\n",
    "\n",
    "current_max_length = 0\n",
    "last = []\n",
    "for i in range(n):\n",
    "    if i == 0:\n",
    "        tail[1] = li[0]\n",
    "        current_max_length = 1\n",
    "        last.append(li[0])\n",
    "    else:\n",
    "        if li[i] == tail[1] or li[i] == tail[current_max_length]:\n",
    "            continue\n",
    "        elif li[i] < tail[1]:\n",
    "            tail[1] = li[i]\n",
    "        elif li[i] > tail[current_max_length]:\n",
    "            tail[current_max_length + 1] = li[i]\n",
    "            current_max_length += 1\n",
    "#             last.append(li[i])\n",
    "        else:\n",
    "            min_index = 1\n",
    "            max_index = current_max_length - 1\n",
    "\n",
    "            result_index = -1\n",
    "            while min_index <= max_index:\n",
    "                mid = (max_index + min_index) // 2\n",
    "\n",
    "                if tail[mid] < li[i]:\n",
    "                    result_index = mid\n",
    "                    min_index = mid + 1\n",
    "                else:\n",
    "                    max_index = mid - 1\n",
    "                    \n",
    "            tail[result_index + 1] = li[i]\n",
    "            \n",
    "print(current_max_length)\n",
    "print(li)\n",
    "print(\" \".join(map(str, tail[1:current_max_length + 1])))"
   ]
  },
  {
   "cell_type": "code",
   "execution_count": 30,
   "metadata": {},
   "outputs": [
    {
     "name": "stdout",
     "output_type": "stream",
     "text": [
      "4\n",
      "2 1 2 1\n",
      "2\n",
      "1 2\n"
     ]
    }
   ],
   "source": [
    "# 맞았음\n",
    "n = int(input())\n",
    "li = list(map(int, input().split()))\n",
    "tail = [0] * (n + 1)\n",
    "memory = []\n",
    "\n",
    "current_max_length = 0\n",
    "for i in range(n):\n",
    "    if i == 0:\n",
    "        tail[1] = li[0]\n",
    "        current_max_length = 1\n",
    "        memory.append((1, li[i]))\n",
    "    else:\n",
    "        if li[i] == tail[1] or li[i] == tail[current_max_length]:\n",
    "            continue\n",
    "        elif li[i] < tail[1]:\n",
    "            tail[1] = li[i]\n",
    "            memory.append((1, li[i]))\n",
    "        elif li[i] > tail[current_max_length]:\n",
    "            tail[current_max_length + 1] = li[i]\n",
    "            memory.append((current_max_length + 1, li[i]))\n",
    "            current_max_length += 1\n",
    "        else:\n",
    "            min_index = 1\n",
    "            max_index = current_max_length - 1\n",
    "\n",
    "            result_index = -1\n",
    "            while min_index <= max_index:\n",
    "                mid = (max_index + min_index) // 2\n",
    "\n",
    "                if tail[mid] < li[i]:\n",
    "                    result_index = mid\n",
    "                    min_index = mid + 1\n",
    "                else:\n",
    "                    max_index = mid - 1\n",
    "                    \n",
    "            tail[result_index + 1] = li[i]\n",
    "            memory.append((result_index + 1, li[i]))\n",
    "            \n",
    "print(current_max_length)\n",
    "\n",
    "current_place = current_max_length\n",
    "memory_length = len(memory)\n",
    "result = []\n",
    "for i in range(memory_length - 1, -1, -1):\n",
    "    if memory[i][0] == current_place:\n",
    "        result.append(memory[i][1])\n",
    "        current_place -= 1\n",
    "        \n",
    "        if current_place == 0:\n",
    "            break\n",
    "            \n",
    "result.reverse()\n",
    "print(\" \".join(map(str, result)))"
   ]
  },
  {
   "cell_type": "markdown",
   "metadata": {},
   "source": [
    "### 반도체 설계 2352\n",
    "- LIS nlog(n)"
   ]
  },
  {
   "cell_type": "code",
   "execution_count": 184,
   "metadata": {},
   "outputs": [
    {
     "name": "stdout",
     "output_type": "stream",
     "text": [
      "6\n",
      "4 2 6 3 1 5\n",
      "3\n"
     ]
    }
   ],
   "source": [
    "n = int(input())\n",
    "li = list(map(int, input().split()))\n",
    "tail = [0] * (n + 1)\n",
    "\n",
    "current_max_length = 0\n",
    "for i in range(n):\n",
    "    if i == 0:\n",
    "        tail[1] = li[0]\n",
    "        current_max_length = 1\n",
    "    else:\n",
    "        if li[i] == tail[1] or li[i] == tail[current_max_length]:\n",
    "            continue\n",
    "        elif li[i] < tail[1]:\n",
    "            tail[1] = li[i]\n",
    "        elif li[i] > tail[current_max_length]:\n",
    "            tail[current_max_length + 1] = li[i]\n",
    "            current_max_length += 1\n",
    "        else:\n",
    "            min_index = 1\n",
    "            max_index = current_max_length - 1\n",
    "\n",
    "            result_index = -1\n",
    "            while min_index <= max_index:\n",
    "                mid = (max_index + min_index) // 2\n",
    "\n",
    "                if tail[mid] < li[i]:\n",
    "                    result_index = mid\n",
    "                    min_index = mid + 1\n",
    "                else:\n",
    "                    max_index = mid - 1\n",
    "                    \n",
    "            tail[result_index + 1] = li[i]\n",
    "            \n",
    "print(current_max_length)"
   ]
  },
  {
   "cell_type": "markdown",
   "metadata": {},
   "source": [
    "### 오름세 3745\n",
    "- LIS nlog(n)"
   ]
  },
  {
   "cell_type": "code",
   "execution_count": null,
   "metadata": {},
   "outputs": [],
   "source": [
    "while True:\n",
    "    try:\n",
    "        n = int(input())\n",
    "        li = list(map(int, input().split()))\n",
    "        tail = [0] * (n + 1)\n",
    "\n",
    "        current_max_length = 0\n",
    "        for i in range(n):\n",
    "            if i == 0:\n",
    "                tail[1] = li[0]\n",
    "                current_max_length = 1\n",
    "            else:\n",
    "                if li[i] == tail[1] or li[i] == tail[current_max_length]:\n",
    "                    continue\n",
    "                elif li[i] < tail[1]:\n",
    "                    tail[1] = li[i]\n",
    "                elif li[i] > tail[current_max_length]:\n",
    "                    tail[current_max_length + 1] = li[i]\n",
    "                    current_max_length += 1\n",
    "                else:\n",
    "                    min_index = 1\n",
    "                    max_index = current_max_length - 1\n",
    "\n",
    "                    result_index = -1\n",
    "                    while min_index <= max_index:\n",
    "                        mid = (max_index + min_index) // 2\n",
    "\n",
    "                        if tail[mid] < li[i]:\n",
    "                            result_index = mid\n",
    "                            min_index = mid + 1\n",
    "                        else:\n",
    "                            max_index = mid - 1\n",
    "\n",
    "                    tail[result_index + 1] = li[i]\n",
    "\n",
    "        print(current_max_length)\n",
    "    except:\n",
    "        break"
   ]
  },
  {
   "cell_type": "markdown",
   "metadata": {},
   "source": [
    "### 주식 12014\n",
    "- LIS nlog(n)"
   ]
  },
  {
   "cell_type": "code",
   "execution_count": 186,
   "metadata": {},
   "outputs": [
    {
     "name": "stdout",
     "output_type": "stream",
     "text": [
      "3\n",
      "Case #1\n",
      "10 6\n",
      "100 50 70 90 75 87 105 78 110 60\n",
      "1\n",
      "Case #2\n",
      "6 3\n",
      "100 90 80 70 60 50\n",
      "0\n",
      "Case #3\n",
      "10 4\n",
      "8 11 9 7 4 6 12 13 5 10\n",
      "1\n"
     ]
    }
   ],
   "source": [
    "T = int(input())\n",
    "for i in range(1, T + 1):\n",
    "    print(f\"Case #{str(i)}\")\n",
    "    n, k = map(int, input().split())\n",
    "    li = list(map(int, input().split()))\n",
    "    tail = [0] * (n + 1)\n",
    "\n",
    "    current_max_length = 0\n",
    "    for i in range(n):\n",
    "        if i == 0:\n",
    "            tail[1] = li[0]\n",
    "            current_max_length = 1\n",
    "        else:\n",
    "            if li[i] == tail[1] or li[i] == tail[current_max_length]:\n",
    "                continue\n",
    "            elif li[i] < tail[1]:\n",
    "                tail[1] = li[i]\n",
    "            elif li[i] > tail[current_max_length]:\n",
    "                tail[current_max_length + 1] = li[i]\n",
    "                current_max_length += 1\n",
    "            else:\n",
    "                min_index = 1\n",
    "                max_index = current_max_length - 1\n",
    "\n",
    "                result_index = -1\n",
    "                while min_index <= max_index:\n",
    "                    mid = (max_index + min_index) // 2\n",
    "\n",
    "                    if tail[mid] < li[i]:\n",
    "                        result_index = mid\n",
    "                        min_index = mid + 1\n",
    "                    else:\n",
    "                        max_index = mid - 1\n",
    "\n",
    "                tail[result_index + 1] = li[i]\n",
    "\n",
    "    if k <= current_max_length:\n",
    "        print(1)\n",
    "    else:\n",
    "        print(0)"
   ]
  },
  {
   "cell_type": "markdown",
   "metadata": {},
   "source": [
    "### 꼬인 전깃줄 1365\n",
    "- LIS nlog(n)"
   ]
  },
  {
   "cell_type": "code",
   "execution_count": 188,
   "metadata": {},
   "outputs": [
    {
     "name": "stdout",
     "output_type": "stream",
     "text": [
      "4\n",
      "2 3 4 1\n",
      "1\n"
     ]
    }
   ],
   "source": [
    "n = int(input())\n",
    "li = list(map(int, input().split()))\n",
    "\n",
    "tail = [0] * (n + 1)\n",
    "\n",
    "current_max_length = 0\n",
    "for i in range(n):\n",
    "    if i == 0:\n",
    "        tail[1] = li[0]\n",
    "        current_max_length = 1\n",
    "    else:\n",
    "        if li[i] == tail[1] or li[i] == tail[current_max_length]:\n",
    "            continue\n",
    "        elif li[i] < tail[1]:\n",
    "            tail[1] = li[i]\n",
    "        elif li[i] > tail[current_max_length]:\n",
    "            tail[current_max_length + 1] = li[i]\n",
    "            current_max_length += 1\n",
    "        else:\n",
    "            min_index = 1\n",
    "            max_index = current_max_length - 1\n",
    "\n",
    "            result_index = -1\n",
    "            while min_index <= max_index:\n",
    "                mid = (max_index + min_index) // 2\n",
    "\n",
    "                if tail[mid] < li[i]:\n",
    "                    result_index = mid\n",
    "                    min_index = mid + 1\n",
    "                else:\n",
    "                    max_index = mid - 1\n",
    "\n",
    "            tail[result_index + 1] = li[i]\n",
    "\n",
    "print(n - current_max_length)"
   ]
  },
  {
   "cell_type": "markdown",
   "metadata": {},
   "source": [
    "### 브리징 시그널 3066\n",
    "- LIS nlog(n)"
   ]
  },
  {
   "cell_type": "code",
   "execution_count": null,
   "metadata": {},
   "outputs": [],
   "source": [
    "import sys\n",
    "# input = sys.stdin.readline\n",
    "\n",
    "T = int(input())\n",
    "for _ in range(T):\n",
    "    n = int(input())\n",
    "    \n",
    "    li = []\n",
    "    for _ in range(n):\n",
    "        li.append(int(input()))\n",
    "    \n",
    "    tail = [0] * (n + 1)\n",
    "\n",
    "    current_max_length = 0\n",
    "    for i in range(n):\n",
    "        if i == 0:\n",
    "            tail[1] = li[0]\n",
    "            current_max_length = 1\n",
    "        else:\n",
    "            if li[i] == tail[1] or li[i] == tail[current_max_length]:\n",
    "                continue\n",
    "            elif li[i] < tail[1]:\n",
    "                tail[1] = li[i]\n",
    "            elif li[i] > tail[current_max_length]:\n",
    "                tail[current_max_length + 1] = li[i]\n",
    "                current_max_length += 1\n",
    "            else:\n",
    "                min_index = 1\n",
    "                max_index = current_max_length - 1\n",
    "\n",
    "                result_index = -1\n",
    "                while min_index <= max_index:\n",
    "                    mid = (max_index + min_index) // 2\n",
    "\n",
    "                    if tail[mid] < li[i]:\n",
    "                        result_index = mid\n",
    "                        min_index = mid + 1\n",
    "                    else:\n",
    "                        max_index = mid - 1\n",
    "\n",
    "                tail[result_index + 1] = li[i]\n",
    "                \n",
    "    print(current_max_length)"
   ]
  },
  {
   "cell_type": "markdown",
   "metadata": {},
   "source": [
    "### 책정리 1818\n",
    "- LIS nlog(n)"
   ]
  },
  {
   "cell_type": "code",
   "execution_count": 191,
   "metadata": {},
   "outputs": [
    {
     "name": "stdout",
     "output_type": "stream",
     "text": [
      "5\n",
      "2 1 4 5 3\n",
      "2\n"
     ]
    }
   ],
   "source": [
    "n = int(input())\n",
    "li = list(map(int, input().split()))\n",
    "   \n",
    "tail = [0] * (n + 1)\n",
    "\n",
    "current_max_length = 0\n",
    "for i in range(n):\n",
    "    if i == 0:\n",
    "        tail[1] = li[0]\n",
    "        current_max_length = 1\n",
    "    else:\n",
    "        if li[i] == tail[1] or li[i] == tail[current_max_length]:\n",
    "            continue\n",
    "        elif li[i] < tail[1]:\n",
    "            tail[1] = li[i]\n",
    "        elif li[i] > tail[current_max_length]:\n",
    "            tail[current_max_length + 1] = li[i]\n",
    "            current_max_length += 1\n",
    "        else:\n",
    "            min_index = 1\n",
    "            max_index = current_max_length - 1\n",
    "\n",
    "            result_index = -1\n",
    "            while min_index <= max_index:\n",
    "                mid = (max_index + min_index) // 2\n",
    "\n",
    "                if tail[mid] < li[i]:\n",
    "                    result_index = mid\n",
    "                    min_index = mid + 1\n",
    "                else:\n",
    "                    max_index = mid - 1\n",
    "\n",
    "            tail[result_index + 1] = li[i]\n",
    "\n",
    "print(n - current_max_length)"
   ]
  },
  {
   "cell_type": "markdown",
   "metadata": {},
   "source": [
    "### 병사 배치하기 18353"
   ]
  },
  {
   "cell_type": "code",
   "execution_count": 1,
   "metadata": {},
   "outputs": [
    {
     "name": "stdout",
     "output_type": "stream",
     "text": [
      "7\n",
      "15 11 4 8 5 2 4\n",
      "2\n"
     ]
    }
   ],
   "source": [
    "n = int(input())\n",
    "li = list(map(int, input().split()))\n",
    "   \n",
    "tail = [0] * (n + 1)\n",
    "\n",
    "current_max_length = 0\n",
    "for i in range(n):\n",
    "    if i == 0:\n",
    "        tail[1] = li[0]\n",
    "        current_max_length = 1\n",
    "    else:\n",
    "        if li[i] == tail[1] or li[i] == tail[current_max_length]:\n",
    "            continue\n",
    "        elif li[i] > tail[1]:\n",
    "            tail[1] = li[i]\n",
    "        elif li[i] < tail[current_max_length]:\n",
    "            tail[current_max_length + 1] = li[i]\n",
    "            current_max_length += 1\n",
    "        else:\n",
    "            min_index = 1\n",
    "            max_index = current_max_length - 1\n",
    "\n",
    "            result_index = -1\n",
    "            while min_index <= max_index:\n",
    "                mid = (max_index + min_index) // 2\n",
    "\n",
    "                if tail[mid] > li[i]:\n",
    "                    result_index = mid\n",
    "                    min_index = mid + 1\n",
    "                else:\n",
    "                    max_index = mid - 1\n",
    "\n",
    "            tail[result_index + 1] = li[i]\n",
    "\n",
    "print(n - current_max_length)"
   ]
  },
  {
   "cell_type": "markdown",
   "metadata": {},
   "source": [
    "### 전깃줄 - 2 2568\n",
    "- LIS nlog(n)"
   ]
  },
  {
   "cell_type": "code",
   "execution_count": 53,
   "metadata": {},
   "outputs": [
    {
     "name": "stdout",
     "output_type": "stream",
     "text": [
      "2\n",
      "1 4\n",
      "3 2\n",
      "1\n",
      "3\n"
     ]
    }
   ],
   "source": [
    "n = int(input())\n",
    "\n",
    "li = []\n",
    "for _ in range(n):\n",
    "    li.append(tuple(map(int, input().split())))\n",
    "\n",
    "li.sort(key=lambda x: x[1])\n",
    "li = [v[0] for v in li]\n",
    "\n",
    "tail = [0] * (n + 1)\n",
    "memory = []\n",
    "\n",
    "current_max_length = 0\n",
    "for i in range(n):\n",
    "    if i == 0:\n",
    "        tail[1] = li[0]\n",
    "        current_max_length = 1\n",
    "        memory.append((1, li[i]))\n",
    "    else:\n",
    "        if li[i] < tail[1]:\n",
    "            tail[1] = li[i]\n",
    "            memory.append((1, li[i]))\n",
    "        elif li[i] > tail[current_max_length]:\n",
    "            tail[current_max_length + 1] = li[i]\n",
    "            memory.append((current_max_length + 1, li[i]))\n",
    "            current_max_length += 1\n",
    "        else:\n",
    "            min_index = 1\n",
    "            max_index = current_max_length - 1\n",
    "\n",
    "            result_index = -1\n",
    "            while min_index <= max_index:\n",
    "                mid = (max_index + min_index) // 2\n",
    "\n",
    "                if tail[mid] < li[i]:\n",
    "                    result_index = mid\n",
    "                    min_index = mid + 1\n",
    "                else:\n",
    "                    max_index = mid - 1\n",
    "                    \n",
    "            tail[result_index + 1] = li[i]\n",
    "            memory.append((result_index + 1, li[i]))\n",
    "            \n",
    "print(n - current_max_length)\n",
    "\n",
    "current_place = current_max_length\n",
    "memory_length = len(memory)\n",
    "to_save = []\n",
    "for i in range(memory_length - 1, -1, -1):\n",
    "    if memory[i][0] == current_place:\n",
    "        to_save.append(memory[i][1])\n",
    "        current_place -= 1\n",
    "        \n",
    "        if current_place == 0:\n",
    "            break\n",
    "            \n",
    "to_save.reverse()\n",
    "\n",
    "if n - current_max_length > 0:\n",
    "    print(\"\\n\".join(map(str, sorted(set(li) - set(to_save)))))"
   ]
  },
  {
   "cell_type": "markdown",
   "metadata": {},
   "source": [
    "### 표절 2428"
   ]
  },
  {
   "cell_type": "code",
   "execution_count": 9,
   "metadata": {},
   "outputs": [
    {
     "name": "stdout",
     "output_type": "stream",
     "text": [
      "1\n",
      "1\n",
      "0\n"
     ]
    }
   ],
   "source": [
    "n = int(input())\n",
    "li = list(map(int, input().split()))\n",
    "\n",
    "if n == 1:\n",
    "    print(0)\n",
    "else:\n",
    "    li.sort()\n",
    "\n",
    "    count = 0\n",
    "    for i in range(n - 1):\n",
    "        start = i + 1\n",
    "        end = n - 1\n",
    "\n",
    "        rightest_possible = i\n",
    "        while start <= end:\n",
    "            mid = (start + end) // 2\n",
    "\n",
    "            if li[i] >= 0.9 * li[mid]:\n",
    "                rightest_possible = mid\n",
    "                start = mid + 1\n",
    "            else:\n",
    "                end = mid - 1\n",
    "\n",
    "        count += rightest_possible - i\n",
    "\n",
    "    print(count)"
   ]
  }
 ],
 "metadata": {
  "kernelspec": {
   "display_name": "Python 3",
   "language": "python",
   "name": "python3"
  },
  "language_info": {
   "codemirror_mode": {
    "name": "ipython",
    "version": 3
   },
   "file_extension": ".py",
   "mimetype": "text/x-python",
   "name": "python",
   "nbconvert_exporter": "python",
   "pygments_lexer": "ipython3",
   "version": "3.7.3"
  }
 },
 "nbformat": 4,
 "nbformat_minor": 4
}
