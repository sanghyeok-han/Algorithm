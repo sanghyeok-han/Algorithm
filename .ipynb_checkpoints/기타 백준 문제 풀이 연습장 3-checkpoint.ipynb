{
 "cells": [
  {
   "cell_type": "markdown",
   "metadata": {},
   "source": [
    "### 가장 긴 바이토닉 부분 수열 11054\n",
    "- 다이나믹 프로그래밍"
   ]
  },
  {
   "cell_type": "code",
   "execution_count": 7,
   "metadata": {},
   "outputs": [
    {
     "name": "stdout",
     "output_type": "stream",
     "text": [
      "10\n",
      "1 5 2 1 4 3 4 5 2 1\n",
      "7\n"
     ]
    }
   ],
   "source": [
    "# 맞았음\n",
    "from itertools import chain\n",
    "\n",
    "n = int(input())\n",
    "li = list(map(int, input().split()))\n",
    "dp = [[1, 1] for _ in range(n)] # [[increse, dicrese], ...]\n",
    "\n",
    "for i in range(1, n):\n",
    "    for j in range(i):\n",
    "        if li[j] < li[i]:\n",
    "            dp[i][0] = max(dp[i][0], dp[j][0] + 1)\n",
    "        elif li[j] > li[i]:\n",
    "            dp[i][1] = max(dp[i][1], dp[j][0] + 1, dp[j][1] + 1)\n",
    "            \n",
    "print(max(chain(*dp)))"
   ]
  },
  {
   "cell_type": "markdown",
   "metadata": {},
   "source": [
    "### 숫자 카드 10815\n",
    "- 이분 탐색"
   ]
  },
  {
   "cell_type": "code",
   "execution_count": 8,
   "metadata": {},
   "outputs": [
    {
     "name": "stdout",
     "output_type": "stream",
     "text": [
      "5\n",
      "6 3 2 10 -10\n",
      "8\n",
      "10 9 -5 2 3 4 5 -10\n",
      "1 0 0 1 1 0 0 1\n"
     ]
    }
   ],
   "source": [
    "n = int(input())\n",
    "li1 = tuple(map(int, input().split()))\n",
    "m = int(input())\n",
    "li2 = tuple(map(int, input().split()))\n",
    "\n",
    "def check(x):\n",
    "    if x in li1:\n",
    "        return \"1\"\n",
    "    else:\n",
    "        return \"0\"\n",
    "\n",
    "print(\" \".join(tuple(map(check, li2))))"
   ]
  },
  {
   "cell_type": "code",
   "execution_count": 9,
   "metadata": {},
   "outputs": [
    {
     "name": "stdout",
     "output_type": "stream",
     "text": [
      "1 0 0 1 1 0 0 1 "
     ]
    }
   ],
   "source": [
    "from collections import defaultdict\n",
    "\n",
    "n = int(input())\n",
    "li1 = tuple(map(int, input().split()))\n",
    "m = int(input())\n",
    "li2 = tuple(map(int, input().split()))\n",
    "\n",
    "d = defaultdict(int)\n",
    "\n",
    "for v in li1:\n",
    "    d[v] = 1\n",
    "\n",
    "for v in li2:\n",
    "    print(d[v], end=\" \")"
   ]
  },
  {
   "cell_type": "markdown",
   "metadata": {},
   "source": [
    "### 숨바꼭질 2 12851"
   ]
  },
  {
   "cell_type": "code",
   "execution_count": 55,
   "metadata": {},
   "outputs": [
    {
     "name": "stdout",
     "output_type": "stream",
     "text": [
      "1 7\n",
      "4\n",
      "4\n"
     ]
    }
   ],
   "source": [
    "# 맞았음\n",
    "from collections import deque\n",
    "\n",
    "n, k = map(int, input().split())\n",
    "\n",
    "if n == k:\n",
    "    print(0)\n",
    "    print(1)\n",
    "else:\n",
    "    queue = deque([n])\n",
    "    min_times = [0] * 100001\n",
    "    count = 0\n",
    "\n",
    "    while queue:\n",
    "        current_value = queue.popleft()\n",
    "\n",
    "        for new_value in (current_value + 1, current_value - 1, current_value * 2):\n",
    "            if 0 <= new_value <= 100000:\n",
    "                if (min_times[new_value] == 0 or new_value == k or\n",
    "                    min_times[new_value] == min_times[current_value] + 1):\n",
    "                    min_times[new_value] = min_times[current_value] + 1\n",
    "\n",
    "                    if new_value == k:\n",
    "                        if count == 0:\n",
    "                            count += 1\n",
    "                            min_value = min_times[new_value]\n",
    "                            print(min_value)\n",
    "                        else:\n",
    "                            if min_times[new_value] == min_value:\n",
    "                                count += 1\n",
    "                            else:\n",
    "                                print(count)\n",
    "                                exit()\n",
    "                        continue\n",
    "\n",
    "                    queue.append(new_value)\n",
    "    print(count)"
   ]
  },
  {
   "cell_type": "markdown",
   "metadata": {},
   "source": [
    "### A/B - 2 15792"
   ]
  },
  {
   "cell_type": "code",
   "execution_count": 59,
   "metadata": {},
   "outputs": [
    {
     "name": "stdout",
     "output_type": "stream",
     "text": [
      "4 5\n",
      "0.8\n"
     ]
    }
   ],
   "source": [
    "from decimal import getcontext, Decimal\n",
    "\n",
    "getcontext().prec = 1500\n",
    "\n",
    "a, b = map(int, input().split())\n",
    "\n",
    "value = str(Decimal(a) / Decimal(b))\n",
    "print(value)"
   ]
  },
  {
   "cell_type": "markdown",
   "metadata": {},
   "source": [
    "### 세제곱근 3783"
   ]
  },
  {
   "cell_type": "code",
   "execution_count": null,
   "metadata": {},
   "outputs": [],
   "source": [
    "# 맞았음\n",
    "from decimal import getcontext, Decimal\n",
    "\n",
    "getcontext().prec = 100000\n",
    "\n",
    "T = int(input())\n",
    "\n",
    "for _ in range(T): \n",
    "    n = int(input())\n",
    "    value = Decimal(n) ** (Decimal(1) / Decimal(3))\n",
    "    value = round(value, 90000)\n",
    "    value = str(value)\n",
    "    value = value[:value.index(\".\") + 11]\n",
    "    print(value)"
   ]
  },
  {
   "cell_type": "markdown",
   "metadata": {},
   "source": [
    "### 기타 문제들"
   ]
  },
  {
   "cell_type": "code",
   "execution_count": 2,
   "metadata": {},
   "outputs": [
    {
     "name": "stdout",
     "output_type": "stream",
     "text": [
      "893724358493284 238947328947329\n",
      "213553048277135320552236238436\n"
     ]
    }
   ],
   "source": [
    "a, b = map(int, input().split())\n",
    "print(a * b)"
   ]
  },
  {
   "cell_type": "code",
   "execution_count": 3,
   "metadata": {},
   "outputs": [
    {
     "name": "stdout",
     "output_type": "stream",
     "text": [
      "1\n",
      "-1\n",
      "0\n",
      "2\n",
      "-1\n"
     ]
    }
   ],
   "source": [
    "a = int(input())\n",
    "b = int(input())\n",
    "\n",
    "print(a + b)\n",
    "print(a - b)\n",
    "print(a * b)"
   ]
  },
  {
   "cell_type": "code",
   "execution_count": 4,
   "metadata": {},
   "outputs": [
    {
     "name": "stdout",
     "output_type": "stream",
     "text": [
      "1000 100\n",
      "10\n",
      "0\n"
     ]
    }
   ],
   "source": [
    "a, b = map(int, input().split())\n",
    "\n",
    "print(\"\\n\".join(map(str, divmod(a, b))))"
   ]
  },
  {
   "cell_type": "markdown",
   "metadata": {},
   "source": [
    "### Ax+Bsin(x)=C 13705"
   ]
  },
  {
   "cell_type": "code",
   "execution_count": null,
   "metadata": {},
   "outputs": [],
   "source": [
    "x - x^3/3! + x^5/5! - x^7/7! + x^9/9!"
   ]
  },
  {
   "cell_type": "code",
   "execution_count": 131,
   "metadata": {},
   "outputs": [
    {
     "data": {
      "text/plain": [
       "Decimal('6')"
      ]
     },
     "execution_count": 131,
     "metadata": {},
     "output_type": "execute_result"
    }
   ],
   "source": [
    "Decimal(math.factorial(3))"
   ]
  },
  {
   "cell_type": "code",
   "execution_count": 158,
   "metadata": {},
   "outputs": [
    {
     "data": {
      "text/plain": [
       "Decimal('0.295520206661339546183597803974407725036144256591796875')"
      ]
     },
     "execution_count": 158,
     "metadata": {},
     "output_type": "execute_result"
    }
   ],
   "source": [
    "Decimal(math.sin(0.3))"
   ]
  },
  {
   "cell_type": "code",
   "execution_count": 157,
   "metadata": {},
   "outputs": [
    {
     "data": {
      "text/plain": [
       "Decimal('0.2955202066613395644989550808')"
      ]
     },
     "execution_count": 157,
     "metadata": {},
     "output_type": "execute_result"
    }
   ],
   "source": [
    "sin(0.3)"
   ]
  },
  {
   "cell_type": "code",
   "execution_count": 141,
   "metadata": {},
   "outputs": [],
   "source": [
    "def s(v, operator):\n",
    "    return f\"(x ** Decimal('{v}')) / Decimal(math.factorial({v})){operator}\""
   ]
  },
  {
   "cell_type": "code",
   "execution_count": null,
   "metadata": {},
   "outputs": [],
   "source": []
  },
  {
   "cell_type": "code",
   "execution_count": 167,
   "metadata": {},
   "outputs": [
    {
     "data": {
      "text/plain": [
       "\"(x -(x ** Decimal('3')) / Decimal(math.factorial(3))+(x ** Decimal('5')) / Decimal(math.factorial(5))-(x ** Decimal('7')) / Decimal(math.factorial(7))+(x ** Decimal('9')) / Decimal(math.factorial(9))-(x ** Decimal('11')) / Decimal(math.factorial(11))+(x ** Decimal('13')) / Decimal(math.factorial(13))-(x ** Decimal('15')) / Decimal(math.factorial(15))+(x ** Decimal('17')) / Decimal(math.factorial(17))-(x ** Decimal('19')) / Decimal(math.factorial(19))+(x ** Decimal('21')) / Decimal(math.factorial(21))-(x ** Decimal('23')) / Decimal(math.factorial(23))+(x ** Decimal('25')) / Decimal(math.factorial(25))-(x ** Decimal('27')) / Decimal(math.factorial(27))+(x ** Decimal('29')) / Decimal(math.factorial(29))-(x ** Decimal('31')) / Decimal(math.factorial(31))+(x ** Decimal('33')) / Decimal(math.factorial(33))-(x ** Decimal('35')) / Decimal(math.factorial(35))+(x ** Decimal('37')) / Decimal(math.factorial(37))-(x ** Decimal('39')) / Decimal(math.factorial(39))+(x ** Decimal('41')) / Decimal(math.factorial(41))-(x ** Decimal('43')) / Decimal(math.factorial(43))+(x ** Decimal('45')) / Decimal(math.factorial(45))-(x ** Decimal('47')) / Decimal(math.factorial(47))+(x ** Decimal('49')) / Decimal(math.factorial(49))-(x ** Decimal('51')) / Decimal(math.factorial(51))+(x ** Decimal('53')) / Decimal(math.factorial(53))-(x ** Decimal('55')) / Decimal(math.factorial(55))+(x ** Decimal('57')) / Decimal(math.factorial(57))-(x ** Decimal('59')) / Decimal(math.factorial(59))+(x ** Decimal('61')) / Decimal(math.factorial(61))-(x ** Decimal('63')) / Decimal(math.factorial(63))+(x ** Decimal('65')) / Decimal(math.factorial(65))-(x ** Decimal('67')) / Decimal(math.factorial(67))+(x ** Decimal('69')) / Decimal(math.factorial(69))-(x ** Decimal('71')) / Decimal(math.factorial(71))+(x ** Decimal('73')) / Decimal(math.factorial(73))-(x ** Decimal('75')) / Decimal(math.factorial(75))+(x ** Decimal('77')) / Decimal(math.factorial(77))-(x ** Decimal('79')) / Decimal(math.factorial(79))+(x ** Decimal('81')) / Decimal(math.factorial(81))-(x ** Decimal('83')) / Decimal(math.factorial(83))+(x ** Decimal('85')) / Decimal(math.factorial(85))-(x ** Decimal('87')) / Decimal(math.factorial(87))+(x ** Decimal('89')) / Decimal(math.factorial(89)))\""
      ]
     },
     "execution_count": 167,
     "metadata": {},
     "output_type": "execute_result"
    }
   ],
   "source": [
    "def sin(x):\n",
    "    x = Decimal(x)\n",
    "    \n",
    "    string = '(x -'\n",
    "    for i in range(3, 90, 4):\n",
    "        string += s(i, \"+\") + s(i + 2, \"-\")\n",
    "\n",
    "    string = string[:-1] + \")\"\n",
    "    return string\n",
    "sin(1)"
   ]
  },
  {
   "cell_type": "code",
   "execution_count": 170,
   "metadata": {},
   "outputs": [],
   "source": [
    "def sin(x):\n",
    "    x = Decimal(x)\n",
    "    \n",
    "    return Decimal(x -(x ** Decimal('3')) / Decimal(math.factorial(3))+(x ** Decimal('5')) / Decimal(math.factorial(5))-(x ** Decimal('7')) / Decimal(math.factorial(7))+(x ** Decimal('9')) / Decimal(math.factorial(9))-(x ** Decimal('11')) / Decimal(math.factorial(11))+(x ** Decimal('13')) / Decimal(math.factorial(13))-(x ** Decimal('15')) / Decimal(math.factorial(15))+(x ** Decimal('17')) / Decimal(math.factorial(17))-(x ** Decimal('19')) / Decimal(math.factorial(19))+(x ** Decimal('21')) / Decimal(math.factorial(21))-(x ** Decimal('23')) / Decimal(math.factorial(23))+(x ** Decimal('25')) / Decimal(math.factorial(25))-(x ** Decimal('27')) / Decimal(math.factorial(27))+(x ** Decimal('29')) / Decimal(math.factorial(29))-(x ** Decimal('31')) / Decimal(math.factorial(31))+(x ** Decimal('33')) / Decimal(math.factorial(33))-(x ** Decimal('35')) / Decimal(math.factorial(35))+(x ** Decimal('37')) / Decimal(math.factorial(37))-(x ** Decimal('39')) / Decimal(math.factorial(39))+(x ** Decimal('41')) / Decimal(math.factorial(41))-(x ** Decimal('43')) / Decimal(math.factorial(43))+(x ** Decimal('45')) / Decimal(math.factorial(45))-(x ** Decimal('47')) / Decimal(math.factorial(47))+(x ** Decimal('49')) / Decimal(math.factorial(49))-(x ** Decimal('51')) / Decimal(math.factorial(51))+(x ** Decimal('53')) / Decimal(math.factorial(53))-(x ** Decimal('55')) / Decimal(math.factorial(55))+(x ** Decimal('57')) / Decimal(math.factorial(57))-(x ** Decimal('59')) / Decimal(math.factorial(59))+(x ** Decimal('61')) / Decimal(math.factorial(61))-(x ** Decimal('63')) / Decimal(math.factorial(63))+(x ** Decimal('65')) / Decimal(math.factorial(65))-(x ** Decimal('67')) / Decimal(math.factorial(67))+(x ** Decimal('69')) / Decimal(math.factorial(69))-(x ** Decimal('71')) / Decimal(math.factorial(71))+(x ** Decimal('73')) / Decimal(math.factorial(73))-(x ** Decimal('75')) / Decimal(math.factorial(75))+(x ** Decimal('77')) / Decimal(math.factorial(77))-(x ** Decimal('79')) / Decimal(math.factorial(79))+(x ** Decimal('81')) / Decimal(math.factorial(81))-(x ** Decimal('83')) / Decimal(math.factorial(83))+(x ** Decimal('85')) / Decimal(math.factorial(85))-(x ** Decimal('87')) / Decimal(math.factorial(87))+(x ** Decimal('89')) / Decimal(math.factorial(89)))"
   ]
  },
  {
   "cell_type": "code",
   "execution_count": 174,
   "metadata": {},
   "outputs": [
    {
     "data": {
      "text/plain": [
       "Decimal('0.2955202066613395751053207458')"
      ]
     },
     "execution_count": 174,
     "metadata": {},
     "output_type": "execute_result"
    }
   ],
   "source": [
    "sin('0.3')"
   ]
  },
  {
   "cell_type": "code",
   "execution_count": 153,
   "metadata": {},
   "outputs": [
    {
     "name": "stdout",
     "output_type": "stream",
     "text": [
      "1 1 20\n",
      "19.441787\n",
      "19.4417867100477904929167749514817842282354831695556640625\n"
     ]
    }
   ],
   "source": [
    "# 0 <= x <= 100000\n",
    "\n",
    "import math\n",
    "from decimal import getcontext, Decimal\n",
    "getcontext().prec = 100\n",
    "\n",
    "a, b, c = input().split()\n",
    "c = Decimal(c)\n",
    "\n",
    "start = Decimal(\"0\")\n",
    "end = Decimal(\"100000\")\n",
    "\n",
    "pi = '3.141592653589793238462643383279502884197169399375105820974944592307816406286208998628034825342117067982148086513282306647093844609550582231725359408128481117450284102701938521105559644622948954'\n",
    "pi = Decimal(pi)\n",
    "\n",
    "\n",
    "def s(v, operator):\n",
    "    return f\"(x ** Decimal('{v}')) / Decimal(math.factorial({v})){operator}\"\n",
    "\n",
    "\n",
    "def sin(x):\n",
    "    x = Decimal(x)\n",
    "    \n",
    "    string = '(x -'\n",
    "    for i in range(3, 60, 4):\n",
    "        string += s(i, \"+\") + s(i + 2, \"-\")\n",
    "\n",
    "    string = string[:-1] + \")\"\n",
    "    \n",
    "    return eval(string)\n",
    "\n",
    "\n",
    "while True:\n",
    "    x = (start + end) / Decimal(\"2\")\n",
    "    \n",
    "    left = Decimal(a) * Decimal(x) + Decimal(b) * Decimal(math.sin(x))\n",
    "    \n",
    "    if left - Decimal(\"0.0000000000001\") <= c <= left + Decimal(\"0.0000000000001\"):\n",
    "        break\n",
    "    elif left < c:\n",
    "        start = x\n",
    "    else:\n",
    "        end = x\n",
    "        \n",
    "\n",
    "print(str(round(Decimal(x), 6)))\n",
    "print(x)"
   ]
  },
  {
   "cell_type": "code",
   "execution_count": 45,
   "metadata": {},
   "outputs": [
    {
     "name": "stdout",
     "output_type": "stream",
     "text": [
      "50000\n"
     ]
    }
   ],
   "source": [
    "print(x)"
   ]
  },
  {
   "cell_type": "markdown",
   "metadata": {},
   "source": [
    "### 미로 탐색 2178\n",
    "- 그래프 이론, 그래프 탐색, 너비 우선 탐색"
   ]
  },
  {
   "cell_type": "code",
   "execution_count": 35,
   "metadata": {},
   "outputs": [
    {
     "name": "stdout",
     "output_type": "stream",
     "text": [
      "4 6\n",
      "110110\n",
      "110110\n",
      "111111\n",
      "111101\n",
      "16\n"
     ]
    }
   ],
   "source": [
    "n, m = map(int, input().split())\n",
    "coords = []\n",
    "\n",
    "def dfs(coord, count = 0):\n",
    "    global result\n",
    "    x, y = coord\n",
    "    if (x, y) == (n - 1, m - 1):\n",
    "        result = count\n",
    "        return\n",
    "    \n",
    "    visited[x][y] = True\n",
    "    \n",
    "    for a, b in ((x-1, y), (x+1, y), (x, y-1), (x, y+1)):\n",
    "        if 0 <= a < n and 0 <= b < m:\n",
    "            if coords[a][b] == \"1\" and not visited[a][b]:\n",
    "                dfs((a, b), count + 1)\n",
    "\n",
    "for _ in range(n):\n",
    "    coords.append(list(input()))\n",
    "    \n",
    "visited = [[False] * m for _ in range(n)]\n",
    "\n",
    "\n",
    "dfs((0, 0))\n",
    "print(result + 1)"
   ]
  },
  {
   "cell_type": "code",
   "execution_count": 48,
   "metadata": {},
   "outputs": [
    {
     "name": "stdout",
     "output_type": "stream",
     "text": [
      "2 25\n",
      "1011101110111011101110111\n",
      "1110111011101110111011101\n"
     ]
    }
   ],
   "source": [
    "n, m = map(int, input().split())\n",
    "coords = []\n",
    "\n",
    "for _ in range(n):\n",
    "    coords.append(list(input()))"
   ]
  },
  {
   "cell_type": "code",
   "execution_count": 49,
   "metadata": {},
   "outputs": [
    {
     "name": "stdout",
     "output_type": "stream",
     "text": [
      "38\n"
     ]
    }
   ],
   "source": [
    "# 맞았음\n",
    "from collections import deque\n",
    "\n",
    "n, m = map(int, input().split())\n",
    "coords = []\n",
    "\n",
    "for _ in range(n):\n",
    "    coords.append(list(input()))\n",
    "\n",
    "def bfs(coord):\n",
    "    x, y = coord\n",
    "    if (x, y) == (n - 1, m - 1):\n",
    "        return\n",
    "    \n",
    "    queue = deque([(x, y)])\n",
    "    while queue:\n",
    "        a, b = queue.popleft()\n",
    "        visited[a][b] += 1\n",
    "        for v, w in ((a-1, b), (a+1, b), (a, b-1), (a, b+1)):\n",
    "            if 0 <= v < n and 0 <= w < m:\n",
    "                if coords[v][w] == \"1\" and not visited[v][w]:\n",
    "                    visited[v][w] += visited[a][b]\n",
    "                    queue.append((v, w))\n",
    "                \n",
    "visited = [[0] * m for _ in range(n)]\n",
    "\n",
    "bfs((0, 0))\n",
    "print(visited[-1][-1])"
   ]
  },
  {
   "cell_type": "markdown",
   "metadata": {},
   "source": [
    "### 단지번호붙이기 2667\n",
    "- 그래프 이론, 그래프 탐색, 너비 우선 탐색, 깊이 우선 탐색"
   ]
  },
  {
   "cell_type": "code",
   "execution_count": null,
   "metadata": {},
   "outputs": [],
   "source": [
    "8.28 8.53"
   ]
  },
  {
   "cell_type": "code",
   "execution_count": 51,
   "metadata": {},
   "outputs": [
    {
     "name": "stdout",
     "output_type": "stream",
     "text": [
      "5\n",
      "01101\n",
      "01101\n",
      "00010\n",
      "00000\n",
      "00000\n"
     ]
    }
   ],
   "source": [
    "n = int(input())\n",
    "\n",
    "coords = []\n",
    "for _ in range(n):\n",
    "    coords.append(list(input()))"
   ]
  },
  {
   "cell_type": "code",
   "execution_count": 70,
   "metadata": {},
   "outputs": [
    {
     "name": "stdout",
     "output_type": "stream",
     "text": [
      "7\n",
      "0110100\n",
      "0110101\n",
      "1110101\n",
      "0000111\n",
      "0100000\n",
      "0111110\n",
      "0111000\n",
      "3\n",
      "7\n",
      "8\n",
      "9\n"
     ]
    }
   ],
   "source": [
    "from collections import deque\n",
    "\n",
    "n = int(input())\n",
    "\n",
    "coords = []\n",
    "for _ in range(n):\n",
    "    coords.append(list(input()))\n",
    "\n",
    "visited = [[0] * n for _ in range(n)]\n",
    "\n",
    "def bfs(coord):\n",
    "    x, y = coord\n",
    "    visited[x][y] = 1\n",
    "    danji_count_li[-1] += 1\n",
    "    queue = deque([coord]) # queue는 다음 것 알아볼 좌표들\n",
    "    \n",
    "    while queue:\n",
    "        a, b = queue.popleft()\n",
    "        for v, w in ((a-1, b), (a+1, b), (a, b-1), (a, b+1)):\n",
    "            if 0 <= v < n and 0 <= w < n:\n",
    "                if coords[v][w] == \"1\" and not visited[v][w]:\n",
    "                    visited[v][w] = 1\n",
    "                    danji_count_li[-1] += 1\n",
    "                    queue.append((v, w))\n",
    "    \n",
    "danji_count_li = []\n",
    "for x in range(n):\n",
    "    for y in range(n):\n",
    "        if coords[x][y] == \"1\" and not visited[x][y]:\n",
    "            danji_count_li.append(0)\n",
    "            bfs((x, y))\n",
    "\n",
    "print(len(danji_count_li))\n",
    "print(\"\\n\".join(map(str, sorted(danji_count_li))))"
   ]
  },
  {
   "cell_type": "markdown",
   "metadata": {},
   "source": [
    "### 숨바꼭질 3 13549\n",
    "* 그래프 이론, 자료 구조, 너비 우선 탐색, 다익스트라, 0-1 너비 우선 탐색"
   ]
  },
  {
   "cell_type": "code",
   "execution_count": 20,
   "metadata": {},
   "outputs": [
    {
     "name": "stdout",
     "output_type": "stream",
     "text": [
      "1 1\n",
      "0\n"
     ]
    }
   ],
   "source": [
    "# 맞았음\n",
    "from collections import deque\n",
    "\n",
    "n, k = map(int, input().split())\n",
    "\n",
    "if n == k:\n",
    "    print(0)\n",
    "else:\n",
    "    queue = deque([n])\n",
    "    min_times = [0] * 100001\n",
    "    visited = [False] * 100001\n",
    "\n",
    "    while queue:\n",
    "        current_value = queue.popleft()\n",
    "\n",
    "        new_value = current_value * 2\n",
    "        if 0 <= new_value <= 100000:\n",
    "            if not visited[new_value] or min_times[new_value] > min_times[current_value]:\n",
    "                visited[new_value] = True\n",
    "                min_times[new_value] = min_times[current_value]\n",
    "                queue.append(new_value)\n",
    "\n",
    "        for new_value in (current_value + 1, current_value - 1):\n",
    "            if 0 <= new_value <= 100000:\n",
    "                if not visited[new_value] or min_times[new_value] > min_times[current_value] + 1:\n",
    "                    visited[new_value] = True\n",
    "                    min_times[new_value] = min_times[current_value] + 1\n",
    "                    queue.append(new_value)\n",
    "\n",
    "    print(min_times[k])"
   ]
  },
  {
   "cell_type": "markdown",
   "metadata": {},
   "source": [
    "### 숨바꼭질 4 13913\n",
    "- 너비 우선 탐색, 그래프 이론, 그래프 탐색"
   ]
  },
  {
   "cell_type": "code",
   "execution_count": 122,
   "metadata": {},
   "outputs": [
    {
     "name": "stdout",
     "output_type": "stream",
     "text": [
      "0 8\n",
      "4\n",
      "0 1 2 4 8\n"
     ]
    }
   ],
   "source": [
    "# 맞았음\n",
    "from collections import deque\n",
    "\n",
    "n, k = map(int, input().split())\n",
    "\n",
    "if n == k:\n",
    "    print(0)\n",
    "    print(k)\n",
    "else:\n",
    "    queue = deque([n])\n",
    "    from_li = [-1] * 100001\n",
    "\n",
    "    while queue:\n",
    "        current_value = queue.popleft()\n",
    "\n",
    "        if current_value == k:\n",
    "            break\n",
    "        \n",
    "        new_value = current_value - 1\n",
    "        if 0 <= new_value <= 100000 and from_li[new_value] == -1:\n",
    "            queue.append(new_value)\n",
    "            from_li[new_value] = current_value\n",
    "            \n",
    "        for new_value in (current_value + 1, current_value * 2):\n",
    "            if 0 <= new_value <= 100000 and from_li[new_value] == -1:\n",
    "                if current_value < k:\n",
    "                    queue.append(new_value)\n",
    "                    from_li[new_value] = current_value\n",
    "\n",
    "    result_li = [k]\n",
    "    value = k\n",
    "    while True:\n",
    "        value = from_li[value]\n",
    "        result_li.append(value)\n",
    "        if value == n:\n",
    "            break\n",
    "\n",
    "    print(len(result_li) - 1)\n",
    "    print(\" \".join(map(str, reversed(result_li))))"
   ]
  },
  {
   "cell_type": "markdown",
   "metadata": {},
   "source": [
    "### 토마토 7576"
   ]
  },
  {
   "cell_type": "markdown",
   "metadata": {},
   "source": [
    "12.02"
   ]
  },
  {
   "cell_type": "code",
   "execution_count": 2,
   "metadata": {},
   "outputs": [
    {
     "name": "stdout",
     "output_type": "stream",
     "text": [
      "3 3\n",
      "0 0 -1\n",
      "0 -1 0\n",
      "1 0 1\n"
     ]
    }
   ],
   "source": [
    "m, n = map(int, input().split())\n",
    "coords = []\n",
    "\n",
    "for _ in range(n):\n",
    "    coords.append(list(map(int, input().split())))"
   ]
  },
  {
   "cell_type": "code",
   "execution_count": 189,
   "metadata": {},
   "outputs": [
    {
     "name": "stdout",
     "output_type": "stream",
     "text": [
      "-1\n"
     ]
    }
   ],
   "source": [
    "# 안돌려봐도 실패, 0을 1로 못바꿈\n",
    "possible = set()\n",
    "for x in range(n):\n",
    "    for y in range(m):\n",
    "        if coords[x][y] == 1:\n",
    "            possible.add((x, y))\n",
    "\n",
    "if len(possible) == n * m:\n",
    "    print(0)\n",
    "else:        \n",
    "    count = 1\n",
    "    while True:\n",
    "        former_len = len(possible)\n",
    "        possible = {(x+1, y) for x, y in possible if 0 <= x+1 < n and 0 <= y < m and coords[x+1][y] == 0}.union(\n",
    "        {(x-1, y) for x, y in possible if 0 <= x-1 < n and 0 <= y < m and coords[x-1][y] == 0}).union(\n",
    "        {(x, y+1) for x, y in possible if 0 <= x < n and 0 <= y+1 < m and coords[x][y+1] == 0}).union(\n",
    "        {(x, y-1) for x, y in possible if 0 <= x < n and 0 <= y-1 < m and coords[x][y-1] == 0})\n",
    "        if len(possible) == n * m:\n",
    "            print(count)\n",
    "            break\n",
    "        elif len(possible) == former_len:\n",
    "            print(-1)\n",
    "            break\n",
    "        else:\n",
    "            count += 1"
   ]
  },
  {
   "cell_type": "code",
   "execution_count": 27,
   "metadata": {},
   "outputs": [
    {
     "name": "stdout",
     "output_type": "stream",
     "text": [
      "5 5\n",
      "-1 1 0 0 0\n",
      "0 -1 -1 -1 0\n",
      "0 -1 -1 -1 0\n",
      "0 -1 -1 -1 0\n",
      "0 0 0 0 0\n",
      "14\n"
     ]
    }
   ],
   "source": [
    "# 맞았음\n",
    "from collections import deque\n",
    "from itertools import chain\n",
    "\n",
    "m, n = map(int, input().split())\n",
    "coords = []\n",
    "\n",
    "for _ in range(n):\n",
    "    coords.append(list(map(int, input().split())))\n",
    "\n",
    "queue = deque()\n",
    "for x in range(n):\n",
    "    for y in range(m):\n",
    "        if coords[x][y] == 1:\n",
    "            queue.append((x, y))\n",
    "\n",
    "if 0 not in chain(*coords):\n",
    "    print(0)\n",
    "else:\n",
    "    count = 0\n",
    "    \n",
    "    while True:\n",
    "        o_queue = queue.copy()\n",
    "        queue = deque()\n",
    "        while o_queue:\n",
    "            x, y = o_queue.popleft()\n",
    "            for a, b in ((x+1, y), (x-1, y), (x, y-1), (x, y+1)):\n",
    "                if 0 <= a < n and 0 <= b < m:\n",
    "                    if coords[a][b] == 0:\n",
    "                        coords[a][b] = 1\n",
    "                        queue.append((a, b))\n",
    "        if not queue:\n",
    "            break\n",
    "\n",
    "        count += 1\n",
    "\n",
    "    if 0 in chain(*coords):\n",
    "        print(-1)\n",
    "    else:\n",
    "        print(count)"
   ]
  },
  {
   "cell_type": "code",
   "execution_count": 31,
   "metadata": {},
   "outputs": [
    {
     "name": "stdout",
     "output_type": "stream",
     "text": [
      "5 5\n",
      "-1 1 0 0 0\n",
      "0 -1 -1 -1 0\n",
      "0 -1 -1 -1 0\n",
      "0 -1 -1 -1 0\n",
      "0 0 0 0 0\n",
      "[[-1, 1, 2, 3, 4], [15, -1, -1, -1, 5], [14, -1, -1, -1, 6], [13, -1, -1, -1, 7], [12, 11, 10, 9, 8]]\n",
      "14\n"
     ]
    }
   ],
   "source": [
    "# 다른 사람(figure97) 코드\n",
    "# 토마토가 익은 자리에 1씩 계속 더해주는 식으로 일자를 반영해서 풀었음 \n",
    "from collections import deque\n",
    "\n",
    "def cal_date(graph):\n",
    "    dx = [-1, 1, 0, 0]\n",
    "    dy = [0, 0, -1 ,1]\n",
    "    while ripe:\n",
    "        x, y = ripe.popleft()\n",
    "        for i in range(4):\n",
    "            nx = x+dx[i]\n",
    "            ny = y+dy[i]\n",
    "            if nx<0 or nx>=n or ny<0 or ny>=m:\n",
    "                continue\n",
    "            if graph[nx][ny] == 0:\n",
    "                graph[nx][ny] = graph[x][y] + 1\n",
    "                ripe.append((nx, ny))\n",
    "            else:\n",
    "                continue\n",
    "    # find max period for ripe\n",
    "    date = 0\n",
    "    print(graph)\n",
    "    for g in graph:\n",
    "        if 0 in g:\n",
    "            return -1\n",
    "            break\n",
    "        else:\n",
    "            if max(g) > date:\n",
    "                date = max(g)\n",
    "    return date-1\n",
    "\n",
    "m, n = map(int, input().split())\n",
    "tomato = []\n",
    "ripe = deque()\n",
    "for _ in range(n):\n",
    "    tomato.append(list(map(int, input().split())))\n",
    "for i in range(n):\n",
    "    for j in range(m):\n",
    "        if tomato[i][j] == 1:\n",
    "            ripe.append((i,j))\n",
    "\n",
    "date = cal_date(tomato)\n",
    "print(date)\n"
   ]
  },
  {
   "cell_type": "markdown",
   "metadata": {},
   "source": [
    "### 기타 문제들"
   ]
  },
  {
   "cell_type": "code",
   "execution_count": 195,
   "metadata": {},
   "outputs": [
    {
     "name": "stdout",
     "output_type": "stream",
     "text": [
      "10,20,30,50,100\n",
      "210\n"
     ]
    }
   ],
   "source": [
    "import re\n",
    "s = input()\n",
    "print(sum(map(int, re.findall(\"\\d+\", s))))"
   ]
  },
  {
   "cell_type": "code",
   "execution_count": null,
   "metadata": {},
   "outputs": [],
   "source": [
    "import re\n",
    "\n",
    "total_s = \"\"\n",
    "while True:\n",
    "    try:\n",
    "        s = input()\n",
    "        total_s += s\n",
    "    except:\n",
    "        break\n",
    "    \n",
    "print(sum(map(int, re.findall(\"\\d+\", total_s))))"
   ]
  },
  {
   "cell_type": "code",
   "execution_count": 196,
   "metadata": {},
   "outputs": [
    {
     "name": "stdout",
     "output_type": "stream",
     "text": [
      "10,20,\n",
      "3\n",
      "0,50\n",
      ",1\n",
      "00\n",
      "210\n"
     ]
    }
   ],
   "source": [
    "total_s = \"\"\n",
    "for _ in range(5):\n",
    "    s = input()\n",
    "    total_s += s\n",
    "\n",
    "import re\n",
    "print(sum(map(int, re.findall(\"\\d+\", total_s))))"
   ]
  },
  {
   "cell_type": "code",
   "execution_count": 203,
   "metadata": {},
   "outputs": [
    {
     "name": "stdout",
     "output_type": "stream",
     "text": [
      "sdfsd\n",
      "sdfsd\n"
     ]
    }
   ],
   "source": [
    "s = input()\n",
    "\n",
    "start = 0\n",
    "end = 10\n",
    "\n",
    "while True:\n",
    "    front = s[start: end]\n",
    "    if not len(front):\n",
    "        break\n",
    "    print(front)\n",
    "    start += 10\n",
    "    end += 10"
   ]
  },
  {
   "cell_type": "code",
   "execution_count": 206,
   "metadata": {},
   "outputs": [
    {
     "name": "stdout",
     "output_type": "stream",
     "text": [
      "sdf\n",
      "sdf\n"
     ]
    }
   ],
   "source": [
    "while True:\n",
    "    try:\n",
    "        s = input()\n",
    "        print(s)\n",
    "    except:\n",
    "        break"
   ]
  },
  {
   "cell_type": "code",
   "execution_count": 207,
   "metadata": {},
   "outputs": [
    {
     "data": {
      "text/plain": [
       "16"
      ]
     },
     "execution_count": 207,
     "metadata": {},
     "output_type": "execute_result"
    }
   ],
   "source": [
    "int('0x10', 16)"
   ]
  },
  {
   "cell_type": "code",
   "execution_count": 208,
   "metadata": {},
   "outputs": [
    {
     "data": {
      "text/plain": [
       "8"
      ]
     },
     "execution_count": 208,
     "metadata": {},
     "output_type": "execute_result"
    }
   ],
   "source": [
    "int(\"010\", 8)"
   ]
  },
  {
   "cell_type": "code",
   "execution_count": 215,
   "metadata": {},
   "outputs": [
    {
     "name": "stdout",
     "output_type": "stream",
     "text": [
      "0x3f6\n",
      "1014\n"
     ]
    }
   ],
   "source": [
    "import re\n",
    "\n",
    "s = input()\n",
    "\n",
    "if re.match(\"0x\", s):\n",
    "    print(int(s, 16))\n",
    "elif re.match(\"0\", s):\n",
    "    print(int(s, 8))\n",
    "else:\n",
    "    print(s)"
   ]
  },
  {
   "cell_type": "code",
   "execution_count": 221,
   "metadata": {},
   "outputs": [
    {
     "name": "stdout",
     "output_type": "stream",
     "text": [
      "20 10 30\n"
     ]
    },
    {
     "data": {
      "text/plain": [
       "20"
      ]
     },
     "execution_count": 221,
     "metadata": {},
     "output_type": "execute_result"
    }
   ],
   "source": [
    "print(sorted(map(int, input().split()))[1])"
   ]
  },
  {
   "cell_type": "code",
   "execution_count": 223,
   "metadata": {},
   "outputs": [
    {
     "name": "stdout",
     "output_type": "stream",
     "text": [
      "C\n",
      "67\n"
     ]
    }
   ],
   "source": [
    "s = input()\n",
    "print(ord(s))"
   ]
  },
  {
   "cell_type": "code",
   "execution_count": 224,
   "metadata": {},
   "outputs": [
    {
     "name": "stdout",
     "output_type": "stream",
     "text": [
      "baekjoon\n"
     ]
    }
   ],
   "source": [
    "s = input()"
   ]
  },
  {
   "cell_type": "code",
   "execution_count": 236,
   "metadata": {},
   "outputs": [
    {
     "name": "stdout",
     "output_type": "stream",
     "text": [
      "baekjoon\n",
      "1 1 0 0 1 0 0 0 0 1 1 0 0 1 2 0 0 0 0 0 0 0 0 0 0 0 "
     ]
    }
   ],
   "source": [
    "import string\n",
    "from collections import Counter, defaultdict\n",
    "\n",
    "s = input()\n",
    "d = defaultdict(int)\n",
    "d.update(Counter(s))\n",
    "\n",
    "for v in string.ascii_lowercase:\n",
    "    print(d[v], end=\" \")"
   ]
  },
  {
   "cell_type": "markdown",
   "metadata": {},
   "source": [
    "### 연결 요소의 개수 11724\n",
    "- 그래프 이론, 그래프 탐색, 너비 우선 탐색, 깊이 우선 탐색"
   ]
  },
  {
   "cell_type": "code",
   "execution_count": 37,
   "metadata": {},
   "outputs": [
    {
     "name": "stdout",
     "output_type": "stream",
     "text": [
      "6 8\n",
      "1 2\n",
      "2 5\n",
      "5 1\n",
      "3 4\n",
      "4 6\n",
      "5 4\n",
      "2 4\n",
      "2 3\n",
      "1\n"
     ]
    }
   ],
   "source": [
    "n, m = map(int, input().split())\n",
    "\n",
    "parent_dict = {i: i for i in range(1, n + 1)} \n",
    "rank_li = [0] * (n + 1)\n",
    "\n",
    "def find(n):\n",
    "    if parent_dict[n] == n:\n",
    "        return n\n",
    "    else:\n",
    "        parent_dict[n] = find(parent_dict[n])\n",
    "        return parent_dict[n]\n",
    "    \n",
    "def union(a, b):\n",
    "    a = find(a)\n",
    "    b = find(b)\n",
    "    \n",
    "    if rank_li[a] >= rank_li[b]:\n",
    "        parent_dict[b] = a\n",
    "        \n",
    "        if rank_li[a] == rank_li[b]:\n",
    "            rank_li[a] += 1\n",
    "    else:\n",
    "        parent_dict[a] = b\n",
    "\n",
    "        \n",
    "for _ in range(m):\n",
    "    a, b = map(int, input().split())\n",
    "    union(a, b)\n",
    "    \n",
    "for i in range(1, n + 1):\n",
    "    find(i)\n",
    "    \n",
    "print(len(set(parent_dict.values())))"
   ]
  },
  {
   "cell_type": "code",
   "execution_count": 38,
   "metadata": {},
   "outputs": [
    {
     "data": {
      "text/plain": [
       "{1: 1, 2: 1, 3: 1, 4: 1, 5: 1, 6: 1}"
      ]
     },
     "execution_count": 38,
     "metadata": {},
     "output_type": "execute_result"
    }
   ],
   "source": [
    "# 다른 사람 코드(skdus531) 모든 노드별 for문에서 이미 지나간 적 있으면 넘어가고 없으면 dfs로 방문하는 식으로 구현\n",
    "import sys\n",
    "input = sys.stdin.readline\n",
    "sys.setrecursionlimit(10**6)\n",
    "v,e = map(int,input().split())\n",
    "graph = [[] for _ in range(v+1)]\n",
    "visited = [False]*(v+1)\n",
    "\n",
    "def dfs(vertex):\n",
    "    visited[vertex] = True\n",
    "    for i in graph[vertex]:\n",
    "        if not visited[i]:\n",
    "            dfs(i)\n",
    "\n",
    "for _ in range(e):\n",
    "    a,b = map(int,input().split())\n",
    "    graph[a].append(b)\n",
    "    graph[b].append(a)\n",
    "cnt = 0\n",
    "\n",
    "for i in range(1,v+1):\n",
    "    if not visited[i]:\n",
    "        dfs(i)\n",
    "        cnt += 1\n",
    "print(cnt)"
   ]
  },
  {
   "cell_type": "code",
   "execution_count": 40,
   "metadata": {},
   "outputs": [
    {
     "data": {
      "text/plain": [
       "0"
      ]
     },
     "execution_count": 40,
     "metadata": {},
     "output_type": "execute_result"
    }
   ],
   "source": [
    "round(0.49999)"
   ]
  },
  {
   "cell_type": "code",
   "execution_count": 41,
   "metadata": {},
   "outputs": [
    {
     "data": {
      "text/plain": [
       "1"
      ]
     },
     "execution_count": 41,
     "metadata": {},
     "output_type": "execute_result"
    }
   ],
   "source": [
    "round(0.5000000001)"
   ]
  },
  {
   "cell_type": "code",
   "execution_count": 42,
   "metadata": {},
   "outputs": [
    {
     "data": {
      "text/plain": [
       "0"
      ]
     },
     "execution_count": 42,
     "metadata": {},
     "output_type": "execute_result"
    }
   ],
   "source": [
    "round(0.5)"
   ]
  },
  {
   "cell_type": "code",
   "execution_count": 3,
   "metadata": {},
   "outputs": [
    {
     "name": "stdout",
     "output_type": "stream",
     "text": [
      "0 4 2 5 6\n",
      "1\n"
     ]
    }
   ],
   "source": [
    "li = list(map(int, input().split()))\n",
    "print(sum(map(lambda x: x ** 2, li)) % 10)"
   ]
  },
  {
   "cell_type": "code",
   "execution_count": 7,
   "metadata": {},
   "outputs": [
    {
     "name": "stdout",
     "output_type": "stream",
     "text": [
      "24 18\n"
     ]
    }
   ],
   "source": [
    "a, b = map(int, input().split())"
   ]
  },
  {
   "cell_type": "code",
   "execution_count": 8,
   "metadata": {},
   "outputs": [
    {
     "name": "stdout",
     "output_type": "stream",
     "text": [
      "6\n",
      "72\n"
     ]
    }
   ],
   "source": [
    "a, b = map(int, input().split())\n",
    "\n",
    "r1 = 1\n",
    "r2 = 1\n",
    "for i in range(min(a, b), 0, -1):\n",
    "    if a % i == 0 and b % i == 0:\n",
    "        r1 *= i\n",
    "        a //= i\n",
    "        b //= i\n",
    "        \n",
    "r2 = r1 * a * b\n",
    "print(r1)\n",
    "print(r2)"
   ]
  },
  {
   "cell_type": "markdown",
   "metadata": {},
   "source": [
    "### 랜선 자르기 1654\n",
    "* 이분 탐색"
   ]
  },
  {
   "cell_type": "code",
   "execution_count": 4,
   "metadata": {},
   "outputs": [
    {
     "name": "stdout",
     "output_type": "stream",
     "text": [
      "4 11\n",
      "802\n",
      "743\n",
      "457\n",
      "539\n"
     ]
    }
   ],
   "source": [
    "k, n = map(int, input().split())\n",
    "\n",
    "li = []\n",
    "for _ in range(k):\n",
    "    li.append(int(input()))"
   ]
  },
  {
   "cell_type": "code",
   "execution_count": 10,
   "metadata": {},
   "outputs": [
    {
     "name": "stdout",
     "output_type": "stream",
     "text": [
      "4 11\n",
      "802\n",
      "743\n",
      "457\n",
      "539\n",
      "200\n"
     ]
    }
   ],
   "source": [
    "k, n = map(int, input().split())\n",
    "\n",
    "li = []\n",
    "for _ in range(k):\n",
    "    li.append(int(input()))\n",
    "\n",
    "start = 1\n",
    "end = max(li)\n",
    "\n",
    "result = 0\n",
    "while start <= end:\n",
    "    mid = (start + end) // 2\n",
    "    maximum_same_num = sum(list(map(lambda x: x // mid, li)))\n",
    "    if maximum_same_num >= n:\n",
    "        result = mid\n",
    "        start = mid + 1\n",
    "    else:\n",
    "        end = mid - 1\n",
    "\n",
    "print(result)"
   ]
  },
  {
   "cell_type": "code",
   "execution_count": 6,
   "metadata": {},
   "outputs": [
    {
     "data": {
      "text/plain": [
       "11"
      ]
     },
     "execution_count": 6,
     "metadata": {},
     "output_type": "execute_result"
    }
   ],
   "source": [
    "mid = 200\n",
    "sum(list(map(lambda x: x // mid, li)))"
   ]
  },
  {
   "cell_type": "markdown",
   "metadata": {},
   "source": [
    "### 숫자 카드 2 10816\n",
    "- 자료 구조, 이분 탐색, 해시를 사용한 집합과 맵"
   ]
  },
  {
   "cell_type": "code",
   "execution_count": 21,
   "metadata": {},
   "outputs": [
    {
     "name": "stdout",
     "output_type": "stream",
     "text": [
      "10\n",
      "6 3 2 10 10 10 -10 -10 7 3\n",
      "8\n",
      "10 9 -5 2 3 4 5 -10\n",
      "3 0 0 1 2 0 0 2\n"
     ]
    }
   ],
   "source": [
    "# 맞았음\n",
    "from collections import Counter\n",
    "\n",
    "n = int(input())\n",
    "cards = map(int, input().split())\n",
    "m = int(input())\n",
    "li = list(map(int, input().split()))\n",
    "\n",
    "c = Counter(cards)\n",
    "print(\" \".join(map(str, [c[v] for v in li])))"
   ]
  },
  {
   "cell_type": "code",
   "execution_count": null,
   "metadata": {},
   "outputs": [],
   "source": [
    "# 다른 사람 코드(f2f42020)\n",
    "from bisect import bisect_left, bisect_right\n",
    "n = int(input())\n",
    "array = list(map(int,input().split()))\n",
    "m = int(input())\n",
    "target = list(map(int,input().split()))\n",
    "\n",
    "array.sort()\n",
    "\n",
    "for x in target:\n",
    "    a = bisect_left(array,x)\n",
    "    b = bisect_right(array,x)\n",
    "    print(b-a, end = ' ')"
   ]
  },
  {
   "cell_type": "code",
   "execution_count": null,
   "metadata": {},
   "outputs": [],
   "source": [
    "# 다른 사람 코드(ssol2906)\n",
    "import sys\n",
    "\n",
    "\n",
    "\n",
    "\n",
    "N = int(sys.stdin.readline())\n",
    "cards = list(map(int, sys.stdin.readline().split()))\n",
    "M = int(sys.stdin.readline())\n",
    "targets = list(map(int, sys.stdin.readline().split()))\n",
    "\n",
    "cards.sort()\n",
    "counted_cards = [[cards[0],0]]\n",
    "results = []\n",
    "\n",
    "for card in cards:\n",
    "    if counted_cards[-1][0] == card:\n",
    "        counted_cards[-1][1] += 1\n",
    "    else:\n",
    "        counted_cards.append([card,1])\n",
    "\n",
    "\n",
    "for m in targets:\n",
    "    found = False\n",
    "    f_idx = 0\n",
    "    b_idx = len(counted_cards) - 1\n",
    "\n",
    "    while not found and f_idx <= b_idx:\n",
    "        mid = (f_idx + b_idx) // 2\n",
    "        #print(\"f : \", f_idx, \"\\tb : \", b_idx)\n",
    "        #print(\"mid : \", mid)\n",
    "        if counted_cards[mid][0] == m:\n",
    "            found = True\n",
    "        elif counted_cards[mid][0] > m:\n",
    "            b_idx = mid - 1\n",
    "        else:\n",
    "            f_idx = mid + 1\n",
    "    if found:\n",
    "        results.append(counted_cards[mid][1])\n",
    "    else:\n",
    "        results.append(0)\n",
    "    #print( \"appending :\", counted_cards[mid])\n",
    "\n",
    "for elem in results:\n",
    "    print(elem, end=' ')\n"
   ]
  },
  {
   "cell_type": "code",
   "execution_count": 22,
   "metadata": {},
   "outputs": [
    {
     "name": "stdout",
     "output_type": "stream",
     "text": [
      "10\n",
      "6 3 2 10 10 10 -10 -10 7 3\n",
      "8\n",
      "10 9 -5 2 3 4 5 -10\n"
     ]
    }
   ],
   "source": [
    "N = int(input())\n",
    "cards = list(map(int, input().split()))\n",
    "M = int(input())\n",
    "targets = list(map(int, input().split()))\n",
    "\n",
    "cards.sort()\n",
    "counted_cards = [[cards[0],0]]\n",
    "results = []\n",
    "\n",
    "for card in cards:\n",
    "    if counted_cards[-1][0] == card:\n",
    "        counted_cards[-1][1] += 1\n",
    "    else:\n",
    "        counted_cards.append([card,1])\n"
   ]
  },
  {
   "cell_type": "code",
   "execution_count": 24,
   "metadata": {},
   "outputs": [
    {
     "data": {
      "text/plain": [
       "[[-10, 2], [2, 1], [3, 2], [6, 1], [7, 1], [10, 3]]"
      ]
     },
     "execution_count": 24,
     "metadata": {},
     "output_type": "execute_result"
    }
   ],
   "source": [
    "counted_cards"
   ]
  },
  {
   "cell_type": "markdown",
   "metadata": {},
   "source": [
    "### RGB 거리 1149\n",
    "- 다이나믹 프로그래밍"
   ]
  },
  {
   "cell_type": "code",
   "execution_count": 34,
   "metadata": {},
   "outputs": [
    {
     "name": "stdout",
     "output_type": "stream",
     "text": [
      "3\n",
      "26 40 83\n",
      "49 60 57\n",
      "13 89 99\n",
      "96\n"
     ]
    }
   ],
   "source": [
    "# 맞았음\n",
    "from collections import deque\n",
    "\n",
    "n = int(input())\n",
    "queue = deque([])\n",
    "for _ in range(n):\n",
    "    queue.append(list(map(int, input().split())))\n",
    "\n",
    "total = queue.popleft()\n",
    "\n",
    "for i in range(n - 1):\n",
    "    current = queue.popleft()\n",
    "    for j in range(3):\n",
    "        current[j] += min([v for index, v in enumerate(total) if index != j])\n",
    "        \n",
    "    total = current[:]\n",
    "        \n",
    "print(min(total))"
   ]
  },
  {
   "cell_type": "markdown",
   "metadata": {},
   "source": [
    "### 계단 오르기 2579\n",
    "- 다이나믹 프로그래밍"
   ]
  },
  {
   "cell_type": "code",
   "execution_count": 35,
   "metadata": {},
   "outputs": [
    {
     "name": "stdout",
     "output_type": "stream",
     "text": [
      "6\n",
      "10\n",
      "20\n",
      "15\n",
      "25\n",
      "10\n",
      "20\n"
     ]
    }
   ],
   "source": [
    "n = int(input())\n",
    "li = []\n",
    "for _ in range(n):\n",
    "    li.append(int(input()))"
   ]
  },
  {
   "cell_type": "code",
   "execution_count": 19,
   "metadata": {},
   "outputs": [
    {
     "name": "stdout",
     "output_type": "stream",
     "text": [
      "3\n",
      "10\n",
      "60\n",
      "40\n",
      "50\n"
     ]
    }
   ],
   "source": [
    "# 맞았음\n",
    "n = int(input())\n",
    "\n",
    "li = []\n",
    "for _ in range(n):\n",
    "    li.append(int(input()))\n",
    "\n",
    "li.reverse()\n",
    "\n",
    "score_li = [(li[0], li[0])]\n",
    "\n",
    "for i, v in enumerate(li[1:], 1):\n",
    "    new_value1 = v + score_li[-1][1]\n",
    "    if len(score_li) >= 2:\n",
    "        new_value2 = v + max(score_li[-2])\n",
    "    else:\n",
    "        new_value2 = -float(\"inf\")\n",
    "        \n",
    "    score_li.append((new_value1, new_value2))\n",
    "\n",
    "if len(score_li) <= 1:\n",
    "    print(max(score_li[-1]))\n",
    "else:\n",
    "    print(max(score_li[-2] + score_li[-1]))"
   ]
  },
  {
   "cell_type": "markdown",
   "metadata": {},
   "source": [
    "### 14502 연구소\n",
    "- 그래프 이론, 그래프 탐색, 브루트포스 알고리즘, 너비 우선 탐색"
   ]
  },
  {
   "cell_type": "markdown",
   "metadata": {},
   "source": [
    "7:01 7:13  7:22 7.42"
   ]
  },
  {
   "cell_type": "code",
   "execution_count": 72,
   "metadata": {},
   "outputs": [
    {
     "name": "stdout",
     "output_type": "stream",
     "text": [
      "4 6\n",
      "0 0 0 0 0 0\n",
      "1 0 0 0 0 2\n",
      "1 1 1 0 0 2\n",
      "0 0 0 0 0 2\n"
     ]
    }
   ],
   "source": [
    "n, m = map(int, input().split())\n",
    "o_coords = [] # original coords\n",
    "for _ in range(n):\n",
    "    o_coords.append(list(map(int, input().split())))"
   ]
  },
  {
   "cell_type": "code",
   "execution_count": 2,
   "metadata": {},
   "outputs": [
    {
     "name": "stdout",
     "output_type": "stream",
     "text": [
      "8 8\n",
      "2 0 0 0 0 0 0 2\n",
      "2 0 0 0 0 0 0 2\n",
      "2 0 0 0 0 0 0 2\n",
      "2 0 0 0 0 0 0 2\n",
      "2 0 0 0 0 0 0 2\n",
      "0 0 0 0 0 0 0 0\n",
      "0 0 0 0 0 0 0 0\n",
      "0 0 0 0 0 0 0 0\n",
      "3\n"
     ]
    }
   ],
   "source": [
    "from collections import deque\n",
    "from itertools import combinations\n",
    "import copy\n",
    "\n",
    "\n",
    "n, m = map(int, input().split())\n",
    "o_coords = [] # original coords\n",
    "for _ in range(n):\n",
    "    o_coords.append(list(map(int, input().split())))\n",
    "\n",
    "safes = []\n",
    "viruses = []\n",
    "\n",
    "\n",
    "for i in range(n):\n",
    "    for j in range(m):\n",
    "        if o_coords[i][j] == 0:\n",
    "            safes.append((i, j))\n",
    "        elif o_coords[i][j] == 2:\n",
    "            viruses.append((i, j))\n",
    "            \n",
    "cases = list(combinations(safes, 3))\n",
    "\n",
    "\n",
    "def bfs(coords):\n",
    "    queue = deque()\n",
    "    queue.extend(viruses)\n",
    "    \n",
    "    while queue:\n",
    "        x, y = queue.popleft()\n",
    "        \n",
    "        for a, b in ((x-1, y), (x+1, y), (x, y-1), (x, y+1)):\n",
    "            if 0 <= a < n and 0 <= b < m:\n",
    "                if coords[a][b] == 0:\n",
    "                    coords[a][b] = 2\n",
    "                    queue.append((a, b))\n",
    "        \n",
    "    count = 0\n",
    "    for i in range(n):\n",
    "        for j in range(m):\n",
    "            if coords[i][j] == 0:\n",
    "                count += 1\n",
    "    return count\n",
    "\n",
    "\n",
    "max_safe_count = 0\n",
    "\n",
    "for case in cases:\n",
    "    coords = copy.deepcopy(o_coords)\n",
    "    for wall in case:\n",
    "        x, y = wall\n",
    "        coords[x][y] = 1\n",
    "    safe_count = bfs(coords)\n",
    "    if safe_count > max_safe_count:\n",
    "        max_safe_count = safe_count\n",
    "        \n",
    "print(max_safe_count)"
   ]
  },
  {
   "cell_type": "markdown",
   "metadata": {},
   "source": [
    "### 연구소 2 17141\n",
    "- 그래프 이론, 그래프 탐색, 브루트포스 알고리즘, 너비 우선 탐색"
   ]
  },
  {
   "cell_type": "code",
   "execution_count": 2,
   "metadata": {},
   "outputs": [
    {
     "name": "stdout",
     "output_type": "stream",
     "text": [
      "7 2\n",
      "2 0 2 0 1 1 0\n",
      "0 0 1 0 1 0 0\n",
      "0 1 1 1 1 0 0\n",
      "2 1 0 0 0 0 2\n",
      "1 0 0 0 0 1 1\n",
      "0 1 0 0 0 0 0\n",
      "2 1 0 0 2 0 2\n",
      "-1\n"
     ]
    }
   ],
   "source": [
    "from collections import deque\n",
    "import copy\n",
    "from itertools import combinations, chain\n",
    "\n",
    "\n",
    "n, m = map(int, input().split())\n",
    "o_coords = [] # original coords\n",
    "for _ in range(n):\n",
    "    o_coords.append(list(map(int, input().split())))\n",
    "\n",
    "can_viruses = []\n",
    "\n",
    "for i in range(n):\n",
    "    for j in range(n):\n",
    "        if o_coords[i][j] == 2:\n",
    "            can_viruses.append((i, j))\n",
    "\n",
    "            \n",
    "def bfs(viruses):\n",
    "    coords = copy.deepcopy(o_coords)\n",
    "    queue = deque()\n",
    "    queue.extend(viruses)\n",
    "    \n",
    "    for virus in viruses:\n",
    "        x, y = virus\n",
    "        coords[x][y] = -1\n",
    "    \n",
    "    while queue:\n",
    "        x, y = queue.popleft()        \n",
    "        for a, b in ((x-1, y), (x+1, y), (x, y-1), (x, y+1)):\n",
    "            if 0 <= a < n and 0 <= b < n:\n",
    "                \n",
    "                if coords[a][b] == 0 or coords[a][b] == 2:\n",
    "                    coords[a][b] = coords[x][y] - 1\n",
    "                    queue.append((a, b))\n",
    "    \n",
    "    result = tuple(chain(*coords))\n",
    "    if 0 in result or 2 in result:\n",
    "        return float('inf')\n",
    "    else:\n",
    "        return min(result) * (-1) - 1\n",
    "    \n",
    "\n",
    "            \n",
    "cases = list(combinations(can_viruses, m))\n",
    "minimum_time = float('inf')\n",
    "\n",
    "for viruses in cases:\n",
    "    time = bfs(viruses)\n",
    "    if time < minimum_time:\n",
    "        minimum_time = time\n",
    "\n",
    "if minimum_time == float('inf'):\n",
    "    print(-1)\n",
    "else:\n",
    "    print(minimum_time)"
   ]
  },
  {
   "cell_type": "markdown",
   "metadata": {},
   "source": [
    "### ATM 11399\n",
    "- 그리디 알고리즘, 정렬"
   ]
  },
  {
   "cell_type": "markdown",
   "metadata": {},
   "source": [
    "9:46 9.51"
   ]
  },
  {
   "cell_type": "code",
   "execution_count": 4,
   "metadata": {},
   "outputs": [
    {
     "name": "stdout",
     "output_type": "stream",
     "text": [
      "5\n",
      "3 1 4 3 2\n",
      "32\n"
     ]
    }
   ],
   "source": [
    "n = int(input())\n",
    "li = list(map(int, input().split()))\n",
    "\n",
    "li.sort()\n",
    "\n",
    "total = 0\n",
    "for i, v in enumerate(li):\n",
    "    total += v * (n - i)\n",
    "    \n",
    "print(total)"
   ]
  },
  {
   "cell_type": "markdown",
   "metadata": {},
   "source": [
    "### 동전 0 11047\n",
    "- 그리디 알고리즘"
   ]
  },
  {
   "cell_type": "code",
   "execution_count": 13,
   "metadata": {},
   "outputs": [
    {
     "name": "stdout",
     "output_type": "stream",
     "text": [
      "10 4200\n",
      "1\n",
      "5\n",
      "10\n",
      "50\n",
      "100\n",
      "500\n",
      "1000\n",
      "5000\n",
      "10000\n",
      "50000\n",
      "6\n"
     ]
    }
   ],
   "source": [
    "n, k = map(int, input().split())\n",
    "\n",
    "coins = []\n",
    "for _ in range(n):\n",
    "    coins.append(int(input()))\n",
    "\n",
    "coins = [v for v in coins if v <= k]\n",
    "\n",
    "count = 0\n",
    "for coin in reversed(coins):\n",
    "    count += k // coin\n",
    "    k %= coin\n",
    "    \n",
    "    if k == 0:\n",
    "        break\n",
    "        \n",
    "print(count)"
   ]
  },
  {
   "cell_type": "markdown",
   "metadata": {},
   "source": [
    "### 곱셈 1629\n",
    "- 수학, 분할 정복을 이용한 거듭제곱"
   ]
  },
  {
   "cell_type": "code",
   "execution_count": 44,
   "metadata": {},
   "outputs": [
    {
     "name": "stdout",
     "output_type": "stream",
     "text": [
      "10 11 12\n",
      "4\n"
     ]
    }
   ],
   "source": [
    "# 맞았음\n",
    "a, b, c = map(int, input().split())\n",
    "\n",
    "def func(a, b, c):\n",
    "    if b == 1:\n",
    "        return a % c\n",
    "    else:\n",
    "        if b % 2 == 1:\n",
    "            value = func(a, b // 2, c) % c\n",
    "            return (((value * value) % c) * a) % c\n",
    "        else:\n",
    "            value = func(a, b // 2, c) % c\n",
    "            return (value * value) % c\n",
    "\n",
    "print(func(a, b, c))"
   ]
  },
  {
   "cell_type": "markdown",
   "metadata": {},
   "source": [
    "### 섬의 개수 4963\n",
    "- 그래프 이론, 그래프 탐색, 너비 우선 탐색, 깊이 우선 탐색"
   ]
  },
  {
   "cell_type": "code",
   "execution_count": 77,
   "metadata": {},
   "outputs": [
    {
     "name": "stdout",
     "output_type": "stream",
     "text": [
      "5 4\n",
      "1 1 1 0 1\n",
      "1 0 1 0 1\n",
      "1 0 1 0 1\n",
      "1 0 1 1 1\n",
      "1\n",
      "5 5\n",
      "1 0 1 0 1\n",
      "0 0 0 0 0\n",
      "1 0 1 0 1\n",
      "0 0 0 0 0\n",
      "1 0 1 0 1\n",
      "9\n",
      "0 0\n"
     ]
    }
   ],
   "source": [
    "from collections import deque\n",
    "\n",
    "\n",
    "while True:\n",
    "    w, h = map(int, input().split())\n",
    "    if w == 0 and h == 0:\n",
    "        break\n",
    "\n",
    "    coords = []\n",
    "    for _ in range(h):\n",
    "        coords.append(tuple(map(int, input().split())))\n",
    "\n",
    "    visited = [[False] * w for _ in range(h)]\n",
    "\n",
    "    lands = []\n",
    "    for i in range(h):\n",
    "        for j in range(w):\n",
    "            if coords[i][j] == 1:\n",
    "                lands.append((i, j))\n",
    "\n",
    "    def bfs(land):\n",
    "        queue = deque()\n",
    "        queue.append(land)\n",
    "        while queue:\n",
    "            x, y = queue.popleft()\n",
    "\n",
    "            for a, b in ((x-1, y-1), (x-1, y), (x-1, y+1), (x, y-1), (x, y+1), (x+1, y-1), (x+1, y), (x+1, y+1)):\n",
    "                if 0 <= a < h and 0 <= b < w:\n",
    "                    if coords[a][b] == 1 and not visited[a][b]:\n",
    "                        visited[a][b] = True\n",
    "                        queue.append((a, b))\n",
    "\n",
    "    count = 0\n",
    "    for land in lands:\n",
    "        x, y = land\n",
    "        if not visited[x][y]:\n",
    "            count += 1\n",
    "            bfs(land)\n",
    "\n",
    "    print(count)"
   ]
  },
  {
   "cell_type": "markdown",
   "metadata": {},
   "source": [
    "### 경로 찾기 11403\n",
    "- 플로이드-와샬, 그래프 이론"
   ]
  },
  {
   "cell_type": "code",
   "execution_count": 1,
   "metadata": {},
   "outputs": [
    {
     "name": "stdout",
     "output_type": "stream",
     "text": [
      "7\n",
      "0 0 0 1 0 0 0\n",
      "0 0 0 0 0 0 1\n",
      "0 0 0 0 0 0 0\n",
      "0 0 0 0 1 1 0\n",
      "1 0 0 0 0 0 0\n",
      "0 0 0 0 0 0 1\n",
      "0 0 1 0 0 0 0\n",
      "1 0 1 1 1 1 1\n",
      "0 0 1 0 0 0 1\n",
      "0 0 0 0 0 0 0\n",
      "1 0 1 1 1 1 1\n",
      "1 0 1 1 1 1 1\n",
      "0 0 1 0 0 0 1\n",
      "0 0 1 0 0 0 0\n"
     ]
    }
   ],
   "source": [
    "from collections import deque\n",
    "import copy\n",
    "\n",
    "\n",
    "n = int(input())\n",
    "li = []\n",
    "for _ in range(n):\n",
    "    li.append([i for i, v in enumerate(input().split()) if v == \"1\"])\n",
    "\n",
    "\n",
    "def bfs(i):\n",
    "    visited = [False] * n\n",
    "    \n",
    "    queue = deque()\n",
    "    queue.append(i)\n",
    "    \n",
    "    while queue:\n",
    "        value = queue.popleft()\n",
    "        visited[value] = True\n",
    "        \n",
    "        for v in li[value]:\n",
    "            result_li[i].add(v)\n",
    "            if not visited[v]:\n",
    "                visited[v] = True\n",
    "                queue.append(v)\n",
    "\n",
    "                \n",
    "result_li = copy.deepcopy(li)\n",
    "result_li = [set(v) for v in result_li]\n",
    "for i in range(n):\n",
    "    bfs(i)\n",
    "\n",
    "for i in range(n):\n",
    "    for j in range(n):\n",
    "        if j == n - 1:\n",
    "            end=\"\"\n",
    "        else:\n",
    "            end=\" \"\n",
    "\n",
    "        if j in result_li[i]:\n",
    "            print(1, end=end)\n",
    "        else:\n",
    "            print(0, end=end)\n",
    "    print()"
   ]
  },
  {
   "cell_type": "code",
   "execution_count": null,
   "metadata": {},
   "outputs": [],
   "source": [
    "## 다른 사람 알고리즘(mskim17)\n",
    "\n",
    "import sys\n",
    "from collections import deque\n",
    "rl = sys.stdin.readline\n",
    "\n",
    "n = int(rl())\n",
    "graph = dict()\n",
    "for i in range(n):  graph[i] = set()\n",
    "for i in range(n):\n",
    "    adjacent = list(map(int, rl().split()))\n",
    "    for j in range(n):\n",
    "        if adjacent[j]:\n",
    "            graph[i].add(j)\n",
    "\n",
    "for i in range(n):\n",
    "    visited = [0]*n\n",
    "    checklist = deque([i])\n",
    "    while checklist:\n",
    "        node = checklist.popleft()\n",
    "        for child in graph[node]:\n",
    "            if not visited[child]:\n",
    "                visited[child] = 1\n",
    "                checklist.append(child)\n",
    "    print(\" \".join(map(str,visited)))"
   ]
  },
  {
   "cell_type": "markdown",
   "metadata": {},
   "source": [
    "### 최단경로 1753\n",
    "- 그래프 이론, 다익스트라"
   ]
  },
  {
   "cell_type": "code",
   "execution_count": 7,
   "metadata": {},
   "outputs": [
    {
     "name": "stdout",
     "output_type": "stream",
     "text": [
      "5 6\n",
      "1\n",
      "5 1 1\n",
      "1 2 2\n",
      "1 3 3\n",
      "2 3 4\n",
      "2 4 5\n",
      "3 4 6\n",
      "0\n",
      "2\n",
      "3\n",
      "7\n",
      "INF\n"
     ]
    }
   ],
   "source": [
    "import heapq\n",
    "\n",
    "\n",
    "v, e = map(int, input().split())\n",
    "start = int(input())\n",
    "adj = [[] for _ in range(v + 1)]\n",
    "for _ in range(e):\n",
    "    a, b, w = map(int, input().split())\n",
    "    adj[a].append((b, w))\n",
    "\n",
    "def dij():\n",
    "    min_distance_dict = {i: float('inf') for i in range(v + 1)}\n",
    "    \n",
    "    heap = []\n",
    "    heapq.heappush(heap, (0, start))\n",
    "    min_distance_dict[start] = 0\n",
    "    \n",
    "    while heap:\n",
    "        dist, node = heapq.heappop(heap)\n",
    "        for n, d in adj[node]:\n",
    "            if dist + d < min_distance_dict[n]:\n",
    "                min_distance_dict[n] = dist + d\n",
    "                heapq.heappush(heap, (dist + d, n))\n",
    "                \n",
    "    return min_distance_dict\n",
    "\n",
    "mdd = dij()\n",
    "for i in range(1, v + 1):\n",
    "    value = mdd[i]\n",
    "    if value == float(\"inf\"):\n",
    "        print(\"INF\")\n",
    "    else:\n",
    "        print(value)"
   ]
  },
  {
   "cell_type": "markdown",
   "metadata": {},
   "source": [
    "### 최단경로 1753\n",
    "- 그래프 이론, 다익스트라"
   ]
  },
  {
   "cell_type": "code",
   "execution_count": 14,
   "metadata": {},
   "outputs": [],
   "source": [
    "heap = []\n",
    "heapq.heappush(heap, (0, start))\n",
    "a, b= heapq.heappop(heap)"
   ]
  },
  {
   "cell_type": "code",
   "execution_count": 18,
   "metadata": {},
   "outputs": [
    {
     "name": "stdout",
     "output_type": "stream",
     "text": [
      "5\n",
      "8\n",
      "1 2 2\n",
      "1 3 3\n",
      "1 4 1\n",
      "1 5 10\n",
      "2 4 2\n",
      "3 4 1\n",
      "3 5 1\n",
      "4 5 3\n",
      "1 5\n",
      "4\n"
     ]
    }
   ],
   "source": [
    "import heapq\n",
    "\n",
    "n = int(input())\n",
    "m = int(input())\n",
    "adj = [[] for _ in range(n + 1)]\n",
    "\n",
    "for _ in range(m):\n",
    "    a, b, w = map(int, input().split())\n",
    "    adj[a].append((b, w))\n",
    "    \n",
    "start, end = map(int, input().split())\n",
    "\n",
    "def dij():\n",
    "    distance_dict = {i: float(\"inf\") for i in range(n + 1)}\n",
    "    distance_dict[start] = 0\n",
    "    \n",
    "    heap = []\n",
    "    heapq.heappush(heap, (0, start))\n",
    "    while heap:\n",
    "        dist, node = heapq.heappop(heap)\n",
    "        for v, d in adj[node]:\n",
    "            if dist + d < distance_dict[v]:\n",
    "                distance_dict[v] = dist + d\n",
    "                heapq.heappush(heap, (dist + d, v))\n",
    "                \n",
    "    return distance_dict\n",
    "\n",
    "distance_dict = dij()\n",
    "print(distance_dict[end])"
   ]
  },
  {
   "cell_type": "markdown",
   "metadata": {},
   "source": [
    "### 알고스팟 1261\n",
    "- 그래프 이론, 다익스트라\n",
    "- 0-1 너비 우선 탐색 (아직 추가 X)"
   ]
  },
  {
   "cell_type": "code",
   "execution_count": 24,
   "metadata": {},
   "outputs": [
    {
     "name": "stdout",
     "output_type": "stream",
     "text": [
      "2\n"
     ]
    },
    {
     "data": {
      "text/plain": [
       "['2']"
      ]
     },
     "execution_count": 24,
     "metadata": {},
     "output_type": "execute_result"
    }
   ],
   "source": [
    "input().split()"
   ]
  },
  {
   "cell_type": "code",
   "execution_count": 23,
   "metadata": {},
   "outputs": [
    {
     "name": "stdout",
     "output_type": "stream",
     "text": [
      "34\n"
     ]
    },
    {
     "data": {
      "text/plain": [
       "('3', '4')"
      ]
     },
     "execution_count": 23,
     "metadata": {},
     "output_type": "execute_result"
    }
   ],
   "source": [
    "tuple(*input().split())"
   ]
  },
  {
   "cell_type": "code",
   "execution_count": 57,
   "metadata": {},
   "outputs": [
    {
     "name": "stdout",
     "output_type": "stream",
     "text": [
      "3 3\n",
      "011\n",
      "111\n",
      "110\n",
      "3\n"
     ]
    }
   ],
   "source": [
    "# 맞았음, Value Error는 sys.stdin.readline을 없애니까 해결되었음\n",
    "import heapq\n",
    "\n",
    "m, n = map(int, input().split())\n",
    "# m: 가로 크기, n: 세로 크기\n",
    "\n",
    "\n",
    "def dij():\n",
    "    distance_dict = {(i, j): float(\"inf\") for i in range(n) for j in range(m)}\n",
    "    distance_dict[start] = 0\n",
    "    \n",
    "    heap = []\n",
    "    heapq.heappush(heap, (0, start))\n",
    "    while heap:\n",
    "        dist, (x, y) = heapq.heappop(heap)\n",
    "        for v, d in adj[x][y]:\n",
    "            if dist + d < distance_dict[v]:\n",
    "                distance_dict[v] = dist + d\n",
    "                heapq.heappush(heap, (dist + d, v))\n",
    "                \n",
    "    print(distance_dict[end])\n",
    "\n",
    "    \n",
    "if m + n <= 3:\n",
    "    for _ in range(n):\n",
    "        input()\n",
    "    print(0)\n",
    "elif m == 1:\n",
    "    li = []\n",
    "    for _ in range(n):\n",
    "        li.append(int(input()))\n",
    "    print(sum(li))\n",
    "elif n == 1:\n",
    "    li = tuple(map(int, tuple(input())))\n",
    "    print(sum(li))\n",
    "else:\n",
    "    li = []\n",
    "    for _ in range(n):\n",
    "        value = tuple(map(int, tuple(input())))\n",
    "        li.append(value)\n",
    "\n",
    "    adj = [[[] for _ in range(m)] for _ in range(n)]\n",
    "    for i in range(n):\n",
    "        for j in range(m):\n",
    "            if i == 0 and j == 0:\n",
    "                adj[i][j].append(((i, j+1), li[i][j+1]))\n",
    "                adj[i][j+1].append(((i, j), li[i][j]))\n",
    "                adj[i][j].append(((i+1, j), li[i+1][j]))\n",
    "                adj[i+1][j].append(((i, j), li[i][j]))\n",
    "            elif i == 0 and j == m - 1:\n",
    "                adj[i][j].append(((i, j-1), li[i][j-1]))\n",
    "                adj[i][j-1].append(((i, j), li[i][j]))\n",
    "                adj[i][j].append(((i+1, j), li[i+1][j]))\n",
    "                adj[i+1][j].append(((i, j), li[i][j]))\n",
    "            elif i == n - 1 and j == 0:\n",
    "                adj[i][j].append(((i, j+1), li[i][j+1]))\n",
    "                adj[i][j+1].append(((i, j), li[i][j]))\n",
    "                adj[i][j].append(((i-1, j), li[i-1][j]))\n",
    "                adj[i-1][j].append(((i, j), li[i][j]))   \n",
    "            elif i == n - 1 and j == m - 1:\n",
    "                adj[i][j].append(((i, j-1), li[i][j-1]))\n",
    "                adj[i][j-1].append(((i, j), li[i][j]))\n",
    "                adj[i][j].append(((i-1, j), li[i-1][j]))\n",
    "                adj[i-1][j].append(((i, j), li[i][j]))      \n",
    "            elif i == 0:\n",
    "                adj[i][j].append(((i, j-1), li[i][j-1]))\n",
    "                adj[i][j-1].append(((i, j), li[i][j]))\n",
    "                adj[i][j].append(((i, j+1), li[i][j+1]))\n",
    "                adj[i][j+1].append(((i, j), li[i][j]))\n",
    "                adj[i][j].append(((i+1, j), li[i+1][j]))\n",
    "                adj[i+1][j].append(((i, j), li[i][j]))\n",
    "            elif j == 0:\n",
    "                adj[i][j].append(((i, j+1), li[i][j+1]))\n",
    "                adj[i][j+1].append(((i, j), li[i][j]))\n",
    "                adj[i][j].append(((i-1, j), li[i-1][j]))\n",
    "                adj[i-1][j].append(((i, j), li[i][j]))   \n",
    "                adj[i][j].append(((i+1, j), li[i+1][j]))\n",
    "                adj[i+1][j].append(((i, j), li[i][j]))   \n",
    "            elif i == n - 1:\n",
    "                adj[i][j].append(((i, j-1), li[i][j-1]))\n",
    "                adj[i][j-1].append(((i, j), li[i][j]))\n",
    "                adj[i][j].append(((i, j+1), li[i][j+1]))\n",
    "                adj[i][j+1].append(((i, j), li[i][j]))            \n",
    "                adj[i][j].append(((i-1, j), li[i-1][j]))\n",
    "                adj[i-1][j].append(((i, j), li[i][j]))       \n",
    "            elif j == m - 1:\n",
    "                adj[i][j].append(((i, j-1), li[i][j-1]))\n",
    "                adj[i][j-1].append(((i, j), li[i][j]))   \n",
    "                adj[i][j].append(((i-1, j), li[i-1][j]))\n",
    "                adj[i-1][j].append(((i, j), li[i][j]))   \n",
    "                adj[i][j].append(((i+1, j), li[i+1][j]))\n",
    "                adj[i+1][j].append(((i, j), li[i][j]))\n",
    "            else:\n",
    "                adj[i][j].append(((i, j-1), li[i][j-1]))\n",
    "                adj[i][j-1].append(((i, j), li[i][j]))   \n",
    "                adj[i][j].append(((i, j+1), li[i][j+1]))\n",
    "                adj[i][j+1].append(((i, j), li[i][j]))  \n",
    "                adj[i][j].append(((i-1, j), li[i-1][j]))\n",
    "                adj[i-1][j].append(((i, j), li[i][j]))   \n",
    "                adj[i][j].append(((i+1, j), li[i+1][j]))\n",
    "                adj[i+1][j].append(((i, j), li[i][j]))\n",
    "                \n",
    "    start = (0, 0)\n",
    "    end = (n - 1, m - 1)  \n",
    "    dij()"
   ]
  },
  {
   "cell_type": "code",
   "execution_count": 59,
   "metadata": {},
   "outputs": [
    {
     "data": {
      "text/plain": [
       "[(0, 1, 1), (1, 1, 1), (1, 1, 0)]"
      ]
     },
     "execution_count": 59,
     "metadata": {},
     "output_type": "execute_result"
    }
   ],
   "source": [
    "li"
   ]
  },
  {
   "cell_type": "code",
   "execution_count": 58,
   "metadata": {},
   "outputs": [
    {
     "data": {
      "text/plain": [
       "[[[((0, 1), 1), ((1, 0), 1), ((0, 1), 1), ((1, 0), 1)],\n",
       "  [((0, 0), 0),\n",
       "   ((0, 0), 0),\n",
       "   ((0, 2), 1),\n",
       "   ((1, 1), 1),\n",
       "   ((0, 2), 1),\n",
       "   ((1, 1), 1)],\n",
       "  [((0, 1), 1), ((0, 1), 1), ((1, 2), 1), ((1, 2), 1)]],\n",
       " [[((0, 0), 0),\n",
       "   ((1, 1), 1),\n",
       "   ((0, 0), 0),\n",
       "   ((2, 0), 1),\n",
       "   ((1, 1), 1),\n",
       "   ((2, 0), 1)],\n",
       "  [((0, 1), 1),\n",
       "   ((1, 0), 1),\n",
       "   ((1, 0), 1),\n",
       "   ((1, 2), 1),\n",
       "   ((0, 1), 1),\n",
       "   ((2, 1), 1),\n",
       "   ((1, 2), 1),\n",
       "   ((2, 1), 1)],\n",
       "  [((0, 2), 1),\n",
       "   ((1, 1), 1),\n",
       "   ((1, 1), 1),\n",
       "   ((0, 2), 1),\n",
       "   ((2, 2), 0),\n",
       "   ((2, 2), 0)]],\n",
       " [[((1, 0), 1), ((2, 1), 1), ((1, 0), 1), ((2, 1), 1)],\n",
       "  [((1, 1), 1),\n",
       "   ((2, 0), 1),\n",
       "   ((2, 0), 1),\n",
       "   ((2, 2), 0),\n",
       "   ((1, 1), 1),\n",
       "   ((2, 2), 0)],\n",
       "  [((1, 2), 1), ((2, 1), 1), ((2, 1), 1), ((1, 2), 1)]]]"
      ]
     },
     "execution_count": 58,
     "metadata": {},
     "output_type": "execute_result"
    }
   ],
   "source": [
    "adj"
   ]
  },
  {
   "cell_type": "code",
   "execution_count": null,
   "metadata": {},
   "outputs": [],
   "source": [
    "# 다른 사람 코드(windowed)1\n",
    "from queue import PriorityQueue\n",
    "\n",
    "M, N = map(int, input().split())\n",
    "maze = []\n",
    "dir_x = [1, 0, -1, 0]\n",
    "dir_y = [0, 1, 0, -1]\n",
    "dis = [[987654321 for i in range(M)] for j in range(N)]\n",
    "\n",
    "for i in range(N):\n",
    "    maze.append(list(map(int, input())))\n",
    "\n",
    "def dijkstra(x, y):\n",
    "    global res\n",
    "    Q = PriorityQueue()\n",
    "    Q.put([x, y])\n",
    "    dis[y][x] = 0\n",
    "\n",
    "    while Q.empty() == False:\n",
    "        e = Q.get()\n",
    "        x = e[0]\n",
    "        y = e[1]\n",
    "\n",
    "        for i in range(4):\n",
    "            nx = x + dir_x[i]\n",
    "            ny = y + dir_y[i]\n",
    "\n",
    "            if nx >=0 and nx < M and ny >= 0 and ny < N:\n",
    "                if maze[ny][nx] == 1:\n",
    "                    if dis[ny][nx] > dis[y][x] + 1:\n",
    "                        dis[ny][nx] = dis[y][x] + 1\n",
    "                        Q.put([nx, ny])\n",
    "                else:\n",
    "                    if dis[ny][nx] > dis[y][x]:\n",
    "                        dis[ny][nx] = dis[y][x]\n",
    "                        Q.put([nx, ny])\n",
    "\n",
    "dijkstra(0, 0)\n",
    "print(dis[N-1][M-1])"
   ]
  },
  {
   "cell_type": "code",
   "execution_count": null,
   "metadata": {},
   "outputs": [],
   "source": [
    "# 다른 사람 코드(windowed)2\n",
    "from queue import PriorityQueue\n",
    "from sys import stdin\n",
    "\n",
    "M, N = map(int, input().split())\n",
    "maze = [[] for i in range(N)]\n",
    "dir_x = [1, 0, -1, 0]\n",
    "dir_y = [0, 1, 0, -1]\n",
    "res = 987654312\n",
    "visited = [[False for i in range(M)] for j in range(N)]\n",
    "\n",
    "for i in range(N):\n",
    "    maze[i] = list(map(int, input()))\n",
    "\n",
    "def BFS(x, y, cnt):\n",
    "    Q = PriorityQueue()\n",
    "    Q.put([cnt, x, y])\n",
    "\n",
    "    while Q.empty() == False:\n",
    "        e = Q.get()\n",
    "        cnt = e[0]\n",
    "        x = e[1]\n",
    "        y = e[2]\n",
    "\n",
    "        if x == M-1 and y == N-1:\n",
    "            return cnt\n",
    "\n",
    "        for i in range(4):\n",
    "            nx = x + dir_x[i]\n",
    "            ny = y + dir_y[i]\n",
    "\n",
    "            if nx >=0 and nx < M and ny >= 0 and ny < N and not visited[ny][nx]:\n",
    "                if maze[ny][nx] == 1:\n",
    "                    Q.put([cnt + 1, nx, ny])\n",
    "                else:\n",
    "                    Q.put([cnt, nx, ny])\n",
    "                visited[ny][nx] = True\n",
    "\n",
    "res = BFS(0, 0, 0)\n",
    "print(res)"
   ]
  },
  {
   "cell_type": "code",
   "execution_count": 52,
   "metadata": {},
   "outputs": [
    {
     "name": "stdout",
     "output_type": "stream",
     "text": [
      "3 3\n",
      "011\n",
      "111\n",
      "110\n",
      "3\n"
     ]
    }
   ],
   "source": [
    "# 다른 사람 코드(koalakid)\n",
    "# 다음 좌표를 xm ym과 같이 해서 지정함\n",
    "\n",
    "import heapq\n",
    "import sys\n",
    "\n",
    "\n",
    "def dijkstra(x, y):\n",
    "    xm = [1, -1, 0, 0]\n",
    "    ym = [0, 0, 1, -1]\n",
    "    dp[x][y] = 0\n",
    "    heapq.heappush(heap, (0, x, y))\n",
    "    while heap:\n",
    "        now_weight, now_x, now_y = heapq.heappop(heap)\n",
    "        if now_weight <= dp[now_x][now_y] and now_x != N-1 or now_y != M-1:\n",
    "            for i in range(4):\n",
    "                next_x = now_x + xm[i]\n",
    "                next_y = now_y + ym[i]\n",
    "                if 0 <= next_x < N and 0 <= next_y < M:\n",
    "                    next_weight = now_weight + graph[next_x][next_y]\n",
    "                    if dp[next_x][next_y] > next_weight:\n",
    "                        dp[next_x][next_y] = next_weight\n",
    "                        heapq.heappush(heap, (next_weight, next_x, next_y))\n",
    "\n",
    "\n",
    "if __name__ == \"__main__\":\n",
    "#     input = sys.stdin.readline\n",
    "    M, N = map(int, input().strip().split())\n",
    "    graph = [list(map(int, list(input().strip()))) for _ in range(N)]\n",
    "    visited = [[False for _ in range(M)] for _ in range(N)]\n",
    "\n",
    "    INF = sys.maxsize\n",
    "    dp = [[INF for _ in range(M)] for _ in range(N)]\n",
    "    heap = []\n",
    "    dijkstra(0, 0)\n",
    "    print(dp[N-1][M-1])"
   ]
  },
  {
   "cell_type": "code",
   "execution_count": 54,
   "metadata": {},
   "outputs": [
    {
     "data": {
      "text/plain": [
       "[[0, 1, 1], [1, 1, 1], [1, 1, 0]]"
      ]
     },
     "execution_count": 54,
     "metadata": {},
     "output_type": "execute_result"
    }
   ],
   "source": [
    "graph"
   ]
  },
  {
   "cell_type": "code",
   "execution_count": 56,
   "metadata": {},
   "outputs": [
    {
     "data": {
      "text/plain": [
       "[[0, 1, 2], [1, 2, 3], [2, 3, 3]]"
      ]
     },
     "execution_count": 56,
     "metadata": {},
     "output_type": "execute_result"
    }
   ],
   "source": [
    "dp"
   ]
  },
  {
   "cell_type": "markdown",
   "metadata": {},
   "source": [
    "### NN 11944"
   ]
  },
  {
   "cell_type": "code",
   "execution_count": 49,
   "metadata": {},
   "outputs": [
    {
     "name": "stdout",
     "output_type": "stream",
     "text": [
      "20 16\n",
      "2020202020202020\n"
     ]
    }
   ],
   "source": [
    "n, m = input().split()\n",
    "m = int(m)\n",
    "\n",
    "print((n * int(n))[:m])"
   ]
  },
  {
   "cell_type": "markdown",
   "metadata": {},
   "source": [
    "### 기타 문제들"
   ]
  },
  {
   "cell_type": "code",
   "execution_count": 68,
   "metadata": {},
   "outputs": [
    {
     "name": "stdout",
     "output_type": "stream",
     "text": [
      "0L1A2S3T4L5I6N7E8\n",
      "0 8 9 0\n"
     ]
    }
   ],
   "source": [
    "while True:\n",
    "    try:\n",
    "        s = input()\n",
    "\n",
    "        lc = 0\n",
    "        uc = 0\n",
    "        nc = 0\n",
    "        sc = 0\n",
    "        for v in s:\n",
    "            if v.islower():\n",
    "                lc += 1\n",
    "            elif v.isupper():\n",
    "                uc += 1\n",
    "            elif v.isnumeric():\n",
    "                nc += 1\n",
    "            elif v.isspace():\n",
    "                sc += 1\n",
    "        print(lc, uc, nc, sc)\n",
    "    except:\n",
    "        break"
   ]
  },
  {
   "cell_type": "code",
   "execution_count": 111,
   "metadata": {},
   "outputs": [
    {
     "name": "stdout",
     "output_type": "stream",
     "text": [
      "5\n",
      "1 1\n",
      "1\n",
      "2 2\n",
      "4\n",
      "3 3\n",
      "7\n",
      "5 5\n",
      "5\n",
      "10 3\n",
      "0\n"
     ]
    }
   ],
   "source": [
    "T = int(input())\n",
    "\n",
    "for _ in range(T):\n",
    "    a, b = map(int, input().split())\n",
    "\n",
    "    li = []\n",
    "    for i in range(1, 20):\n",
    "        value = int(str(a ** i)[-1])\n",
    "\n",
    "        if value in li:\n",
    "            break\n",
    "\n",
    "        li.append(value)\n",
    "\n",
    "    if b % len(li) == 0:\n",
    "        result = li[-1]\n",
    "    else:\n",
    "        result = li[b % len(li) - 1]\n",
    "        \n",
    "    if result == 0:\n",
    "        print(10)\n",
    "    else:\n",
    "        print(result)"
   ]
  },
  {
   "cell_type": "code",
   "execution_count": 110,
   "metadata": {},
   "outputs": [
    {
     "name": "stdout",
     "output_type": "stream",
     "text": [
      "7\n",
      "9\n",
      "3\n",
      "1\n",
      "7\n",
      "9\n",
      "3\n",
      "1\n",
      "7\n",
      "9\n",
      "3\n",
      "1\n",
      "7\n",
      "9\n",
      "3\n",
      "1\n",
      "7\n",
      "9\n",
      "3\n"
     ]
    }
   ],
   "source": [
    "for i in range(1, 20):\n",
    "       print(int(str(97 ** i)[-1]))"
   ]
  },
  {
   "cell_type": "markdown",
   "metadata": {},
   "source": [
    "### 녹색 옷 입은 애가 젤다지? 4485"
   ]
  },
  {
   "cell_type": "code",
   "execution_count": 14,
   "metadata": {},
   "outputs": [],
   "source": [
    "start = (0, 0)"
   ]
  },
  {
   "cell_type": "code",
   "execution_count": 18,
   "metadata": {},
   "outputs": [
    {
     "name": "stdout",
     "output_type": "stream",
     "text": [
      "3\n",
      "1 2 3\n",
      "4 5 6\n",
      "7 8 9\n",
      "Problem 1: 21\n",
      "0\n"
     ]
    }
   ],
   "source": [
    "import heapq\n",
    "\n",
    "def dij():\n",
    "    nx = [0, 0, -1, 1]\n",
    "    ny = [-1, 1, 0, 0]\n",
    "    \n",
    "    distances = [[float(\"inf\") for _ in range(n)] for _ in range(n)]\n",
    "    \n",
    "    heap = []\n",
    "    heapq.heappush(heap, (0, start))\n",
    "    x, y = start\n",
    "    distances[x][y] = 0\n",
    "    \n",
    "    while heap:\n",
    "        dist, (x, y) = heapq.heappop(heap)\n",
    "        \n",
    "        for i in range(4):\n",
    "            a = x + nx[i]\n",
    "            b = y + ny[i]\n",
    "            \n",
    "            if 0 <= a < n and 0 <= b < n:\n",
    "                if dist + li[a][b] < distances[a][b]:\n",
    "                    distances[a][b] = dist + li[a][b]\n",
    "                    heapq.heappush(heap, (dist + li[a][b], (a, b)))\n",
    "                    \n",
    "    return distances\n",
    "\n",
    "\n",
    "count = 1\n",
    "while True:\n",
    "    n = int(input())\n",
    "    if n == 0:\n",
    "        break\n",
    "        \n",
    "    li = []\n",
    "    for _ in range(n):\n",
    "        li.append(tuple(map(int, input().split())))\n",
    "\n",
    "    start = (0, 0)\n",
    "\n",
    "    ds = dij()\n",
    "    print(f'Problem {count}: {ds[n - 1][n - 1] + li[0][0]}')\n",
    "    count += 1"
   ]
  },
  {
   "cell_type": "markdown",
   "metadata": {},
   "source": [
    "### 지름길 1446"
   ]
  },
  {
   "cell_type": "markdown",
   "metadata": {},
   "source": [
    "문제 예제 이해도 못했음"
   ]
  },
  {
   "cell_type": "code",
   "execution_count": 46,
   "metadata": {},
   "outputs": [
    {
     "name": "stdout",
     "output_type": "stream",
     "text": [
      "5 150\n"
     ]
    }
   ],
   "source": [
    "n, d = map(int, input().split())"
   ]
  },
  {
   "cell_type": "code",
   "execution_count": 59,
   "metadata": {},
   "outputs": [
    {
     "name": "stdout",
     "output_type": "stream",
     "text": [
      "0 50 10\n",
      "0 50 20\n",
      "50 100 10\n",
      "100 151 10\n",
      "110 140 90\n"
     ]
    }
   ],
   "source": [
    "from collections import defaultdict\n",
    "\n",
    "adj = defaultdict(list)\n",
    "di = {}\n",
    "for _ in range(n):\n",
    "    a, b, w = map(int, input().split())\n",
    "    adj[a].append((b, w))\n",
    "    di.update({a: float('inf')})\n",
    "    \n",
    "start = 0\n",
    "end = d + 1    \n",
    "    \n",
    "di.update({end: float('inf')})"
   ]
  },
  {
   "cell_type": "code",
   "execution_count": 62,
   "metadata": {},
   "outputs": [],
   "source": [
    "o_di = di.copy()"
   ]
  },
  {
   "cell_type": "code",
   "execution_count": 63,
   "metadata": {},
   "outputs": [
    {
     "name": "stdout",
     "output_type": "stream",
     "text": [
      "{0: 0, 50: inf, 100: inf, 110: inf, 151: inf}\n",
      "10 inf\n",
      "{0: 0, 50: 10, 100: inf, 110: inf, 151: inf}\n",
      "20 10\n",
      "{0: 0, 50: 10, 100: inf, 110: inf, 151: inf}\n",
      "20 inf\n",
      "{0: 0, 50: 10, 100: 20, 110: inf, 151: inf}\n",
      "30 inf\n",
      "{0: 0, 50: 10, 100: 20, 110: inf, 151: 30}\n"
     ]
    }
   ],
   "source": [
    "import heapq\n",
    "\n",
    "start = 0\n",
    "end = d + 1\n",
    "\n",
    "\n",
    "def dij():\n",
    "    heap = []\n",
    "    heapq.heappush(heap, (0, start))\n",
    "    di[start] = 0\n",
    "    \n",
    "    while heap:\n",
    "        dist, node = heapq.heappop(heap)\n",
    "        for v, d in adj[node]:\n",
    "            print(di)\n",
    "            print(dist + d, di[v])\n",
    "            if dist + d < di[v]:\n",
    "                di[v] = dist + d\n",
    "                heapq.heappush(heap, (dist + d, v))\n",
    "    print(di)\n",
    "    \n",
    "dij()"
   ]
  },
  {
   "cell_type": "code",
   "execution_count": null,
   "metadata": {},
   "outputs": [],
   "source": [
    "import heapq\n",
    "\n",
    "n, m, x = map(int, input().split())\n",
    "\n",
    "adj = [[] for _ in range(n + 1)]\n",
    "for _ in range(m):\n",
    "    a, b, w = map(int, input().split())\n",
    "    adj[a].append((b, w))"
   ]
  },
  {
   "cell_type": "code",
   "execution_count": 68,
   "metadata": {},
   "outputs": [
    {
     "name": "stdout",
     "output_type": "stream",
     "text": [
      "10\n"
     ]
    }
   ],
   "source": [
    "import heapq\n",
    "\n",
    "n, m, x = map(int, input().split())\n",
    "\n",
    "adj = [[] for _ in range(n + 1)]\n",
    "for _ in range(m):\n",
    "    a, b, w = map(int, input().split())\n",
    "    adj[a].append((b, w))\n",
    "\n",
    "distance_li = [[float(\"inf\") for _ in range(n + 1)] for _ in range(n + 1)]\n",
    "\n",
    "\n",
    "def dij(start):\n",
    "    heap = []\n",
    "    heapq.heappush(heap, (0, start))\n",
    "    distance_li[start][start] = 0\n",
    "    \n",
    "    while heap:\n",
    "        dist, node = heapq.heappop(heap)\n",
    "        for v, d in adj[node]:\n",
    "            new_dist = dist + d\n",
    "            if new_dist < distance_li[start][v]:\n",
    "                distance_li[start][v] = new_dist\n",
    "                heapq.heappush(heap, (new_dist, v))\n",
    "    \n",
    "for i in range(1, n + 1):\n",
    "    start = i\n",
    "    dij(start)\n",
    "\n",
    "result_li = []\n",
    "for i in range(1, n + 1):\n",
    "    result_li.append(distance_li[i][x] + distance_li[x][i])\n",
    "    \n",
    "print(max(result_li))"
   ]
  },
  {
   "cell_type": "code",
   "execution_count": null,
   "metadata": {},
   "outputs": [],
   "source": [
    "# 다른 사람 코드(yhwcs)\n",
    "\n",
    "from heapq import heappush, heappop\n",
    "INF = 1e9\n",
    "\n",
    "def dijkstra(X, road, distance):\n",
    "    distance[X] = 0\n",
    "    q = []\n",
    "    heappush(q, [0, X])\n",
    "\n",
    "    while q:\n",
    "        w, u = heappop(q)\n",
    "\n",
    "        for v, d in road[u]:\n",
    "            d += w\n",
    "            if d < distance[v]:\n",
    "                distance[v] = d\n",
    "                heappush(q, [d, v])\n",
    "\n",
    "\n",
    "N, M, X = map(int, input().split())\n",
    "\n",
    "road = [[] for _ in range(N+1)]\n",
    "road_r = [[] for _ in range(N+1)]\n",
    "\n",
    "distance = [INF] * (N + 1)\n",
    "distance_r = [INF] * (N + 1)\n",
    "\n",
    "for _ in range(M):\n",
    "    u, v, w = map(int, input().split())\n",
    "    road[u].append([v, w])\n",
    "    road_r[v].append([u, w])\n",
    "\n",
    "dijkstra(X, road, distance)\n",
    "dijkstra(X, road_r, distance_r)\n",
    "\n",
    "answer = 0\n",
    "for i in range(1, N+1):\n",
    "    answer = max(answer, distance[i]+distance_r[i])\n",
    "print(answer)\n"
   ]
  },
  {
   "cell_type": "markdown",
   "metadata": {},
   "source": [
    "### K번째 최단경로 찾기 1854"
   ]
  },
  {
   "cell_type": "code",
   "execution_count": null,
   "metadata": {},
   "outputs": [],
   "source": [
    "import heapq\n",
    "\n",
    "n, m, k = map(int, input().split())\n",
    "\n",
    "adj = [[] for _ in range(n + 1)]\n",
    "for _ in range(m):\n",
    "    a, b, w = map(int, input().split())\n",
    "    adj[a].append((b, w))"
   ]
  },
  {
   "cell_type": "code",
   "execution_count": 128,
   "metadata": {},
   "outputs": [
    {
     "name": "stdout",
     "output_type": "stream",
     "text": [
      "2 2 3\n",
      "1 2 1\n",
      "2 1 2\n"
     ]
    }
   ],
   "source": [
    "import heapq\n",
    "\n",
    "n, m, k = map(int, input().split())\n",
    "\n",
    "adj = [[] for _ in range(n + 1)]\n",
    "for _ in range(m):\n",
    "    a, b, w = map(int, input().split())\n",
    "    adj[a].append((b, w))"
   ]
  },
  {
   "cell_type": "code",
   "execution_count": 6,
   "metadata": {},
   "outputs": [
    {
     "name": "stdout",
     "output_type": "stream",
     "text": [
      "5 10 2\n",
      "1 2 2\n",
      "1 3 7\n",
      "1 4 5\n",
      "1 5 6\n",
      "2 4 2\n",
      "2 3 4\n",
      "3 4 6\n",
      "3 5 8\n",
      "5 2 4\n",
      "5 4 1\n",
      "-1\n",
      "10\n",
      "7\n",
      "5\n",
      "14\n"
     ]
    }
   ],
   "source": [
    "import heapq\n",
    "\n",
    "n, m, k = map(int, input().split())\n",
    "\n",
    "adj = [[] for _ in range(n + 1)]\n",
    "for _ in range(m):\n",
    "    a, b, w = map(int, input().split())\n",
    "    adj[a].append((b, w))\n",
    "\n",
    "distance_li = [[] for _ in range(n + 1)]\n",
    "\n",
    "\n",
    "def dij():\n",
    "    heap = []\n",
    "    heapq.heappush(heap, (0, start, []))\n",
    "    distance_li[start].append(0)\n",
    "    \n",
    "    while heap:\n",
    "        dist, node, route = heapq.heappop(heap)\n",
    "        for v, d in adj[node]:\n",
    "            c_route = route[:]\n",
    "            new_dist = dist + d\n",
    "            if v not in c_route:\n",
    "                distance_li[v].append(new_dist)\n",
    "                c_route.append(v)\n",
    "\n",
    "            if len(distance_li[v]) > k + 10:\n",
    "                return\n",
    "\n",
    "            if len(c_route) < n:\n",
    "                heapq.heappush(heap, (new_dist, v, c_route))\n",
    "\n",
    "start = 1\n",
    "dij()\n",
    "\n",
    "distance_li = [sorted(li) for li in distance_li]\n",
    "\n",
    "for i in range(1, n + 1):\n",
    "    if len(distance_li[i]) < k:\n",
    "        print(-1)\n",
    "    else:\n",
    "        print(distance_li[i][k - 1])"
   ]
  },
  {
   "cell_type": "code",
   "execution_count": null,
   "metadata": {
    "scrolled": true
   },
   "outputs": [],
   "source": [
    "# 맞았음\n",
    "import heapq\n",
    "import sys\n",
    "input = sys.stdin.readline\n",
    "\n",
    "n, m, k = map(int, input().split())\n",
    "\n",
    "adj = [[] for _ in range(n + 1)]\n",
    "for _ in range(m):\n",
    "    a, b, w = map(int, input().split())\n",
    "    adj[a].append((b, w))\n",
    "\n",
    "distance_li = [[0, 0] for _ in range(n + 1)] # [몇 번째인지, 가장 최근 값]\n",
    "\n",
    "\n",
    "def dij():\n",
    "    heap = []\n",
    "    heapq.heappush(heap, (0, start))\n",
    "    is_update_needless = [True] + [False] * (n)\n",
    "    \n",
    "    while heap:\n",
    "        dist, node = heapq.heappop(heap)\n",
    "        \n",
    "        if is_update_needless[node]:\n",
    "            continue\n",
    "            \n",
    "        distance_li[node][1] = dist\n",
    "        distance_li[node][0] += 1\n",
    "        \n",
    "        if distance_li[node][0] >= k:\n",
    "                is_update_needless[node] = True\n",
    "    \n",
    "        for v, d in adj[node]:\n",
    "            new_dist = dist + d\n",
    "            heapq.heappush(heap, (new_dist, v))\n",
    "                \n",
    "start = 1\n",
    "dij()\n",
    "\n",
    "for i in range(1, n + 1):\n",
    "    if distance_li[i][0] < k:\n",
    "        print(-1)\n",
    "    else:\n",
    "        print(distance_li[i][1])"
   ]
  }
 ],
 "metadata": {
  "kernelspec": {
   "display_name": "Python 3",
   "language": "python",
   "name": "python3"
  },
  "language_info": {
   "codemirror_mode": {
    "name": "ipython",
    "version": 3
   },
   "file_extension": ".py",
   "mimetype": "text/x-python",
   "name": "python",
   "nbconvert_exporter": "python",
   "pygments_lexer": "ipython3",
   "version": "3.7.3"
  }
 },
 "nbformat": 4,
 "nbformat_minor": 4
}
