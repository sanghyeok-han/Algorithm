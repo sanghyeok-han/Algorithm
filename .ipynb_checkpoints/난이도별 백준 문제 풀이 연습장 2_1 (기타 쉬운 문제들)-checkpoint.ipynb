{
 "cells": [
  {
   "cell_type": "code",
   "execution_count": 4,
   "metadata": {},
   "outputs": [
    {
     "name": "stdout",
     "output_type": "stream",
     "text": [
      "Nat tan\n",
      "Yes\n"
     ]
    }
   ],
   "source": [
    "def check(s):\n",
    "    n = len(s)\n",
    "    \n",
    "    for i in range(n // 2):\n",
    "        if s[i] != s[n - i - 1]:\n",
    "            return False\n",
    "    return True\n",
    "\n",
    "for _ in range(int(input())):\n",
    "    s = input().lower()\n",
    "\n",
    "    if check(s):\n",
    "        print('Yes')\n",
    "    else:\n",
    "        print('No')"
   ]
  },
  {
   "cell_type": "code",
   "execution_count": 9,
   "metadata": {},
   "outputs": [
    {
     "name": "stdout",
     "output_type": "stream",
     "text": [
      "wd\n",
      "false\n"
     ]
    }
   ],
   "source": [
    "def check(s):\n",
    "    n = len(s)\n",
    "    \n",
    "    for i in range(n // 2):\n",
    "        if s[i] != s[n - i - 1]:\n",
    "            return False\n",
    "    return True\n",
    "\n",
    "s = input()\n",
    "\n",
    "if check(s):\n",
    "    print('true')\n",
    "else:\n",
    "    print('false')"
   ]
  },
  {
   "cell_type": "code",
   "execution_count": 2,
   "metadata": {},
   "outputs": [
    {
     "name": "stdout",
     "output_type": "stream",
     "text": [
      "21\n",
      "14\n"
     ]
    }
   ],
   "source": [
    "def check(num):\n",
    "    if num % sum(map(int, str(num))) == 0:\n",
    "        return True\n",
    "    return False\n",
    "\n",
    "n = int(input())\n",
    "\n",
    "count = 0\n",
    "for i in range(1, n + 1):\n",
    "    if check(i):\n",
    "        count += 1\n",
    "        \n",
    "print(count)"
   ]
  },
  {
   "cell_type": "code",
   "execution_count": 3,
   "metadata": {},
   "outputs": [
    {
     "name": "stdout",
     "output_type": "stream",
     "text": [
      "-2 0 21 3 8 17 32 -8 7 0\n",
      "6\n"
     ]
    }
   ],
   "source": [
    "li = list(map(int, input().split()))\n",
    "\n",
    "li = [v for v in li if v > 0]\n",
    "\n",
    "print(len(li))"
   ]
  },
  {
   "cell_type": "code",
   "execution_count": null,
   "metadata": {},
   "outputs": [],
   "source": [
    "import sys\n",
    "input = lambda: sys.stdin.readline().rstrip()\n",
    "\n",
    "for _ in range(int(input())):\n",
    "    n = int(input())\n",
    "\n",
    "    total = 0\n",
    "    for _ in range(n):\n",
    "        li = list(map(int, input().split()))\n",
    "\n",
    "        mv = max(li)\n",
    "        if mv > 0:\n",
    "            total += mv\n",
    "\n",
    "    print(total)"
   ]
  },
  {
   "cell_type": "code",
   "execution_count": 10,
   "metadata": {},
   "outputs": [
    {
     "name": "stdout",
     "output_type": "stream",
     "text": [
      "10 9\n",
      "-1\n"
     ]
    }
   ],
   "source": [
    "for _ in range(int(input())):\n",
    "    n, m = map(int, input().split())\n",
    "\n",
    "    if n < 12 or m < 4:\n",
    "        print(-1)\n",
    "    else:\n",
    "        li = [[0] * m for _ in range(n)]\n",
    "\n",
    "        for i in range(n):\n",
    "            for j in range(m):\n",
    "                li[i][j] = i * m + j + 1\n",
    "\n",
    "        print(li[11][3])"
   ]
  },
  {
   "cell_type": "code",
   "execution_count": 11,
   "metadata": {},
   "outputs": [
    {
     "name": "stdout",
     "output_type": "stream",
     "text": [
      "3 4\n",
      "1 2 3 4\n",
      "5 6 7 8\n",
      "9 10 11 12\n"
     ]
    }
   ],
   "source": [
    "n, m = map(int, input().split())\n",
    "\n",
    "li = [[0] * m for _ in range(n)]\n",
    "for i in range(n):\n",
    "    for j in range(m):\n",
    "        li[i][j] = i * m + j + 1\n",
    "\n",
    "for v in li:\n",
    "    print(*v)"
   ]
  },
  {
   "cell_type": "code",
   "execution_count": 12,
   "metadata": {},
   "outputs": [
    {
     "name": "stdout",
     "output_type": "stream",
     "text": [
      "INFP\n",
      "ESTJ\n"
     ]
    }
   ],
   "source": [
    "s = input()\n",
    "\n",
    "d = {'E': 'I', 'S': 'N', 'T': 'F', 'J': 'P'}\n",
    "\n",
    "nd = d.copy()\n",
    "for key in d:\n",
    "    nd[d[key]] = key\n",
    "    \n",
    "ns = ''\n",
    "for v in s:\n",
    "    ns += nd[v]\n",
    "    \n",
    "print(ns)"
   ]
  },
  {
   "cell_type": "code",
   "execution_count": null,
   "metadata": {},
   "outputs": [],
   "source": [
    "n, a, b = map(int, input().split())\n",
    "li = [list(map(int, input().split())) for _ in range(n)]\n",
    "\n",
    "a -= 1\n",
    "b -= 1\n",
    "\n",
    "is_found = False\n",
    "cri = li[a][b]\n",
    "for i in range(n):\n",
    "    if li[a][i] > cri:\n",
    "        is_found = True\n",
    "    if li[i][b] > cri:\n",
    "        is_found = True\n",
    "        \n",
    "if is_found:\n",
    "    print('ANGRY')\n",
    "else:\n",
    "    print('HAPPY')"
   ]
  },
  {
   "cell_type": "code",
   "execution_count": 8,
   "metadata": {},
   "outputs": [
    {
     "name": "stdout",
     "output_type": "stream",
     "text": [
      "100 8\n",
      "113\n"
     ]
    }
   ],
   "source": [
    "n, m = map(int, input().split())\n",
    "\n",
    "total = n\n",
    "while n >= m:\n",
    "    total += n // m\n",
    "    n //= m\n",
    "\n",
    "print(total)"
   ]
  },
  {
   "cell_type": "code",
   "execution_count": 14,
   "metadata": {},
   "outputs": [
    {
     "name": "stdout",
     "output_type": "stream",
     "text": [
      "1000000 5\n",
      "16\n"
     ]
    }
   ],
   "source": [
    "import sys\n",
    "input = lambda: sys.stdin.readline().rstrip()\n",
    "\n",
    "while True:\n",
    "    b, n = map(int, input().split())\n",
    "    if b == 0 and n == 0:\n",
    "        break\n",
    "\n",
    "    md = float('inf') # min diff\n",
    "    mda = 0 # min diff a\n",
    "    a = 0\n",
    "    while True:\n",
    "        temp = a ** n\n",
    "\n",
    "        if temp >= b:\n",
    "            if temp - b < md:\n",
    "                md = temp - b\n",
    "                mda = a\n",
    "            break\n",
    "\n",
    "        if b - temp < md:\n",
    "            md = b - temp\n",
    "            mda = a\n",
    "        a += 1\n",
    "\n",
    "    r = mda\n",
    "\n",
    "    print(r)"
   ]
  },
  {
   "cell_type": "code",
   "execution_count": 1,
   "metadata": {},
   "outputs": [
    {
     "name": "stdout",
     "output_type": "stream",
     "text": [
      "7\n",
      "21\n"
     ]
    }
   ],
   "source": [
    "n = int(input())\n",
    "\n",
    "c = 0\n",
    "for i in range(n):\n",
    "    for j in range(i + 1, n):\n",
    "        c += 1\n",
    "         \n",
    "print(c)"
   ]
  },
  {
   "cell_type": "code",
   "execution_count": 5,
   "metadata": {},
   "outputs": [
    {
     "name": "stdout",
     "output_type": "stream",
     "text": [
      "1\n",
      "0\n",
      "2\n"
     ]
    }
   ],
   "source": [
    "n = int(input())\n",
    "\n",
    "r = n * (n - 1) // 2\n",
    "\n",
    "print(r)\n",
    "print(2)"
   ]
  }
 ],
 "metadata": {
  "kernelspec": {
   "display_name": "Python 3",
   "language": "python",
   "name": "python3"
  },
  "language_info": {
   "codemirror_mode": {
    "name": "ipython",
    "version": 3
   },
   "file_extension": ".py",
   "mimetype": "text/x-python",
   "name": "python",
   "nbconvert_exporter": "python",
   "pygments_lexer": "ipython3",
   "version": "3.7.4"
  }
 },
 "nbformat": 4,
 "nbformat_minor": 4
}
