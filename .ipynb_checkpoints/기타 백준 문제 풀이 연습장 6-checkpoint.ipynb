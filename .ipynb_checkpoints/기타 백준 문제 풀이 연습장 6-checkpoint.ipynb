{
 "cells": [
  {
   "cell_type": "markdown",
   "metadata": {},
   "source": [
    "### 색종이 2563"
   ]
  },
  {
   "cell_type": "code",
   "execution_count": 2,
   "metadata": {},
   "outputs": [
    {
     "name": "stdout",
     "output_type": "stream",
     "text": [
      "3\n",
      "3 7\n",
      "15 7\n",
      "5 2\n",
      "260\n"
     ]
    }
   ],
   "source": [
    "p = [[0] * 101 for _ in range(101)] # paper\n",
    "for _ in range(int(input())):\n",
    "    ox, oy = map(int, input().split())\n",
    "    \n",
    "    x = 100 - oy\n",
    "    y = ox\n",
    "    \n",
    "    for i in range(x, x - 10, -1):\n",
    "        for j in range(y, y + 10):\n",
    "            p[i][j] = 1\n",
    "            \n",
    "print(sum(sum(p, [])))"
   ]
  },
  {
   "cell_type": "markdown",
   "metadata": {},
   "source": [
    "### 종이자르기 2628"
   ]
  },
  {
   "cell_type": "code",
   "execution_count": 13,
   "metadata": {},
   "outputs": [
    {
     "name": "stdout",
     "output_type": "stream",
     "text": [
      "10 8\n",
      "3\n",
      "0 3\n",
      "1 4\n",
      "0 2\n",
      "30\n"
     ]
    }
   ],
   "source": [
    "r, c = map(int, input().split())\n",
    "n = int(input())\n",
    "\n",
    "rows = [0]\n",
    "cols = [0]\n",
    "for _ in range(n):\n",
    "    t, v = map(int, input().split())\n",
    "    if t == 0:\n",
    "        rows.append(v)\n",
    "    else:\n",
    "        cols.append(v)\n",
    "        \n",
    "rows.append(c)\n",
    "cols.append(r)\n",
    "\n",
    "rows.sort()\n",
    "cols.sort()\n",
    "\n",
    "rdiffs = [a - b for a, b in zip(rows[1:], rows[:-1])]\n",
    "cdiffs = [a - b for a, b in zip(cols[1:], cols[:-1])]\n",
    "\n",
    "max_area = 0\n",
    "for i in range(len(rdiffs)):\n",
    "    for j in range(len(cdiffs)):\n",
    "        area = rdiffs[i] * cdiffs[j]\n",
    "        max_area = max(max_area, area)\n",
    "        \n",
    "print(max_area)"
   ]
  },
  {
   "cell_type": "markdown",
   "metadata": {},
   "source": [
    "### 지뢰 찾기 4396"
   ]
  },
  {
   "cell_type": "code",
   "execution_count": null,
   "metadata": {},
   "outputs": [],
   "source": [
    "mines 배열을 받음\n",
    "process 배열을 받음\n",
    "\n",
    "전부 .로만 되어있는 cur (current) 배열을 만듦\n",
    "지뢰를 제외한 모든 칸의 값을 숫자로 표현한 ar (all_revealed) 배열을 만듦\n",
    "all_revealed에서 지뢰가 있는 칸은 *로 만들어줌\n",
    "\n",
    "\n",
    "\n",
    "cur에서 process에서 x가 되어있는 칸은 숫자로 바꿔줌\n",
    "지뢰를 선택했다면 cur 지뢰 위치를 전부 *로 표시해줌"
   ]
  },
  {
   "cell_type": "code",
   "execution_count": 14,
   "metadata": {},
   "outputs": [
    {
     "name": "stdout",
     "output_type": "stream",
     "text": [
      "8\n",
      "...**..*\n",
      "......*.\n",
      "....*...\n",
      "........\n",
      "........\n",
      ".....*..\n",
      "...**.*.\n",
      ".....*..\n",
      "xxx.....\n",
      "xxxx....\n",
      "xxxx....\n",
      "xxxxx...\n",
      "xxxxx...\n",
      "xxxxx...\n",
      "xxx.....\n",
      "xxxxx...\n",
      "001.....\n",
      "0013....\n",
      "0001....\n",
      "00011...\n",
      "00001...\n",
      "00123...\n",
      "001.....\n",
      "00123...\n"
     ]
    }
   ],
   "source": [
    "n = int(input())\n",
    "\n",
    "mines = [input() for _ in range(n)]\n",
    "process = [input() for _ in range(n)]\n",
    "\n",
    "cur = [['.'] * n for _ in range(n)]\n",
    "ar = [['.'] * n for _ in range(n)] # all revealed\n",
    "\n",
    "di = [-1, -1, -1, 0, 0, 1, 1, 1]\n",
    "dj = [-1, 0, 1, -1, 1, -1, 0, 1]\n",
    "\n",
    "is_mine_founded = False\n",
    "for i in range(n):\n",
    "    for j in range(n):\n",
    "        if mines[i][j] == '*':\n",
    "            ar[i][j] = '*'\n",
    "        else:\n",
    "            count = 0\n",
    "            for k in range(8):\n",
    "                ni = i + di[k]\n",
    "                nj = j + dj[k]\n",
    "                \n",
    "                if ni < 0 or ni >= n or nj < 0 or nj >= n:\n",
    "                    continue\n",
    "                if mines[ni][nj] == '*':\n",
    "                    count += 1\n",
    "            ar[i][j] = count\n",
    "            \n",
    "        if process[i][j] == 'x':\n",
    "            if ar[i][j] == '*':\n",
    "                is_mine_founded = True\n",
    "            else:\n",
    "                cur[i][j] = ar[i][j]\n",
    "                \n",
    "if is_mine_founded:\n",
    "    for i in range(n):\n",
    "        for j in range(n):\n",
    "            if mines[i][j] == '*':\n",
    "                cur[i][j] = '*'\n",
    "                \n",
    "for v in cur:\n",
    "    print(''.join(map(str, v)))"
   ]
  },
  {
   "cell_type": "markdown",
   "metadata": {},
   "source": [
    "### 간판 5534"
   ]
  },
  {
   "cell_type": "code",
   "execution_count": 16,
   "metadata": {},
   "outputs": [
    {
     "name": "stdout",
     "output_type": "stream",
     "text": [
      "4\n",
      "bar\n",
      "abracadabra\n",
      "bear\n",
      "bar\n",
      "baraxbara\n"
     ]
    }
   ],
   "source": [
    "def check(old, name):\n",
    "    n, m = len(name), len(old)\n",
    "    \n",
    "    for i in range(m):\n",
    "        if old[i] == name[0]:\n",
    "            n_old = old[i:]\n",
    "            interval = 1\n",
    "            while True:\n",
    "                cand = []\n",
    "                for j in range(0, len(n_old), interval):\n",
    "                    cand.append(n_old[j])\n",
    "                    if len(cand) == n:\n",
    "                        if ''.join(cand) == name:\n",
    "                            return True\n",
    "                if len(cand) == 1:\n",
    "                    break\n",
    "                interval += 1\n",
    "    return False\n",
    "    \n",
    "\n",
    "n = int(input())\n",
    "name = input()\n",
    "\n",
    "olds = [input() for _ in range(n)]\n",
    "count = 0\n",
    "for old in olds:\n",
    "    if check(old, name):\n",
    "        count += 1\n",
    "        \n",
    "print(count)"
   ]
  },
  {
   "cell_type": "markdown",
   "metadata": {},
   "source": [
    "### 호텔 방 번호 5671"
   ]
  },
  {
   "cell_type": "code",
   "execution_count": null,
   "metadata": {},
   "outputs": [],
   "source": [
    "while True:\n",
    "    try:\n",
    "        n, m = map(int, input().split())\n",
    "\n",
    "        count = 0\n",
    "        for num in range(n, m + 1):\n",
    "            s = str(num)\n",
    "            if len(s) == len(set(s)):\n",
    "                count += 1\n",
    "                \n",
    "        print(count)\n",
    "    except:\n",
    "        break"
   ]
  },
  {
   "cell_type": "markdown",
   "metadata": {},
   "source": [
    "### 무한 문자열 12871"
   ]
  },
  {
   "cell_type": "code",
   "execution_count": 23,
   "metadata": {},
   "outputs": [
    {
     "name": "stdout",
     "output_type": "stream",
     "text": [
      "aaa\n",
      "aaaa\n",
      "1\n"
     ]
    }
   ],
   "source": [
    "from math import gcd\n",
    "\n",
    "s = input()\n",
    "t = input()\n",
    "\n",
    "n, m = len(s), len(t)\n",
    "g = gcd(n, m)\n",
    "lcm = n * m // g\n",
    "\n",
    "ns = s\n",
    "while len(ns) < lcm:\n",
    "    ns += s\n",
    "nt = t\n",
    "while len(nt) < lcm:\n",
    "    nt += t\n",
    "\n",
    "if ns == nt:\n",
    "    print(1)\n",
    "else:\n",
    "    print(0)"
   ]
  },
  {
   "cell_type": "markdown",
   "metadata": {},
   "source": [
    "### 어두운 굴다리 17266"
   ]
  },
  {
   "cell_type": "code",
   "execution_count": 78,
   "metadata": {},
   "outputs": [
    {
     "name": "stdout",
     "output_type": "stream",
     "text": [
      "3\n",
      "1\n",
      "0\n",
      "3\n"
     ]
    }
   ],
   "source": [
    "n = int(input())\n",
    "m = int(input())\n",
    "\n",
    "li = [0] + list(map(int, input().split())) + [n]\n",
    "diffs = [a - b for a, b in zip(li[1:], li[:-1])]\n",
    "for i in range(1, len(diffs) - 1):\n",
    "    temp = diffs[i] // 2\n",
    "    if diffs[i] % 2:\n",
    "        temp += 1\n",
    "    diffs[i] = temp\n",
    "    \n",
    "print(max(diffs))"
   ]
  },
  {
   "cell_type": "markdown",
   "metadata": {},
   "source": [
    "### (중략) 21966"
   ]
  },
  {
   "cell_type": "code",
   "execution_count": 85,
   "metadata": {},
   "outputs": [
    {
     "name": "stdout",
     "output_type": "stream",
     "text": [
      "29\n",
      "IamInevitable.And,IamIronMan.\n",
      "IamInevit......amIronMan.\n"
     ]
    }
   ],
   "source": [
    "n = int(input())\n",
    "s = list(input())\n",
    "\n",
    "if n <= 25:\n",
    "    result = s\n",
    "else:\n",
    "    temp = s[11:-11]\n",
    "    if '.' not in temp[:-1]:\n",
    "        result = s[:11] + ['.'] * 3 + s[-11:]\n",
    "    else:\n",
    "        result = s[:9] + ['.'] * 6 + s[-10:]\n",
    "        \n",
    "print(''.join(result))"
   ]
  },
  {
   "cell_type": "markdown",
   "metadata": {},
   "source": [
    "### 다음 소수 4134"
   ]
  },
  {
   "cell_type": "code",
   "execution_count": 104,
   "metadata": {},
   "outputs": [
    {
     "name": "stdout",
     "output_type": "stream",
     "text": [
      "3\n",
      "6\n",
      "7\n",
      "20\n",
      "23\n",
      "100\n",
      "101\n"
     ]
    }
   ],
   "source": [
    "def check(n):\n",
    "    if n <= 1:\n",
    "        return False\n",
    "    \n",
    "    for mod in range(2, int(n ** 0.5) + 1):\n",
    "        if n % mod == 0:\n",
    "            return False\n",
    "    return True\n",
    "\n",
    "t = int(input())\n",
    "for _ in range(t):\n",
    "    n = int(input())\n",
    "    while True:\n",
    "        if check(n):\n",
    "            print(n)\n",
    "            break\n",
    "        n += 1"
   ]
  },
  {
   "cell_type": "markdown",
   "metadata": {},
   "source": [
    "### 파닭파닭 14627"
   ]
  },
  {
   "cell_type": "code",
   "execution_count": 105,
   "metadata": {},
   "outputs": [
    {
     "name": "stdout",
     "output_type": "stream",
     "text": [
      "3 5\n",
      "440\n",
      "350\n",
      "230\n"
     ]
    }
   ],
   "source": [
    "import sys\n",
    "input = lambda: sys.stdin.readline().rstrip()\n",
    "\n",
    "n, m = map(int, input().split())\n",
    "li = [int(input()) for _ in range(n)]\n",
    "\n",
    "def check(mid):\n",
    "    c = 0\n",
    "    for v in li:\n",
    "        c += v // mid\n",
    "        if c >= m:\n",
    "            return True\n",
    "    return False\n",
    "\n",
    "total = sum(li)\n",
    "result = 0\n",
    "start = 1\n",
    "end = 1000000000\n",
    "while start <= end:\n",
    "    mid = (start + end) // 2\n",
    "    if check(mid):\n",
    "        result = mid\n",
    "        start = mid + 1\n",
    "    else:\n",
    "        end = mid - 1\n",
    "        \n",
    "print(total - result * m)"
   ]
  },
  {
   "cell_type": "markdown",
   "metadata": {},
   "source": [
    "### 에너지 드링크 20115"
   ]
  },
  {
   "cell_type": "code",
   "execution_count": 110,
   "metadata": {},
   "outputs": [
    {
     "name": "stdout",
     "output_type": "stream",
     "text": [
      "100\n",
      "100 9 77 65 39 27 45 1 80 495\n",
      "716.5\n"
     ]
    }
   ],
   "source": [
    "n = int(input())\n",
    "li = sorted(map(int, input().split()))\n",
    "print(sum(li[:-1]) / 2 + li[-1])"
   ]
  },
  {
   "cell_type": "markdown",
   "metadata": {},
   "source": [
    "### 원상 복구 (small) 22858"
   ]
  },
  {
   "cell_type": "code",
   "execution_count": 1,
   "metadata": {},
   "outputs": [
    {
     "name": "stdout",
     "output_type": "stream",
     "text": [
      "4 1\n",
      "4 3 2 1\n",
      "4 3 2 1\n",
      "1 2 3 4\n"
     ]
    }
   ],
   "source": [
    "n, k = map(int, input().split())\n",
    "s = list(map(int, input().split()))\n",
    "d = list(map(lambda x: int(x) - 1, input().split()))\n",
    "\n",
    "def rp(s):\n",
    "    \"\"\"rp: reverse process\"\"\"\n",
    "    \n",
    "    p = [0] * n\n",
    "    for i in range(n):\n",
    "        p[d[i]] = s[i]\n",
    "    return p\n",
    "\n",
    "ns = s\n",
    "for _ in range(k):\n",
    "    ns = rp(ns)\n",
    "    \n",
    "print(*ns)"
   ]
  },
  {
   "cell_type": "markdown",
   "metadata": {},
   "source": [
    "### 원상 복구 (large) 22863\n",
    "- 자료 구조, 희소 배열, 순열 사이클 분할"
   ]
  },
  {
   "cell_type": "code",
   "execution_count": null,
   "metadata": {},
   "outputs": [],
   "source": [
    "# 일단 포기\n",
    "n, k = map(int, input().split())\n",
    "s = list(map(int, input().split()))\n",
    "d = list(map(lambda x: int(x) - 1, input().split()))\n",
    "\n",
    "def rp(s):\n",
    "    \"\"\"rp: reverse process\"\"\"\n",
    "    \n",
    "    p = [0] * n\n",
    "    for i in range(n):\n",
    "        p[d[i]] = s[i]\n",
    "    return p\n",
    "\n",
    "ns = s\n",
    "st = set()\n",
    "li = []\n",
    "for _ in range(k):\n",
    "    ns = rp(ns)\n",
    "    if ns[0] in st:\n",
    "        break\n",
    "    st.add(ns[0])\n",
    "    li.append(ns)\n",
    "    print(ns)\n",
    "    \n",
    "print(*li[(k - 1) % len(li)])"
   ]
  },
  {
   "cell_type": "markdown",
   "metadata": {},
   "source": [
    "### 비슷한 단어 2607"
   ]
  },
  {
   "cell_type": "code",
   "execution_count": 22,
   "metadata": {},
   "outputs": [
    {
     "name": "stdout",
     "output_type": "stream",
     "text": [
      "4\n",
      "dog\n",
      "doll\n",
      "dol\n",
      "ooo\n",
      "1\n"
     ]
    }
   ],
   "source": [
    "from collections import Counter\n",
    "\n",
    "def check(diff1, diff2):\n",
    "    if len(diff1) >= 2 or len(diff2) >= 2:\n",
    "        return False\n",
    "    if diff1 and diff1[0] >= 2:\n",
    "        return False\n",
    "    if diff2 and diff2[0] >= 2:\n",
    "        return False\n",
    "    \n",
    "    return True\n",
    "    \n",
    "n = int(input())\n",
    "a = input()\n",
    "\n",
    "ca = Counter(a)\n",
    "result = 0\n",
    "for _ in range(n - 1):\n",
    "    b = input()\n",
    "    \n",
    "    cb = Counter(b)\n",
    "    \n",
    "    diff1 = []\n",
    "    for v in (ca - cb).values():\n",
    "        diff1.append(v)\n",
    "        \n",
    "    diff2 = []\n",
    "    for v in (cb - ca).values():\n",
    "        diff2.append(v)\n",
    "        \n",
    "    if check(diff1, diff2):\n",
    "        result += 1\n",
    "        \n",
    "print(result)"
   ]
  },
  {
   "cell_type": "markdown",
   "metadata": {},
   "source": [
    "### 사칙연산 13420"
   ]
  },
  {
   "cell_type": "code",
   "execution_count": 7,
   "metadata": {},
   "outputs": [
    {
     "name": "stdout",
     "output_type": "stream",
     "text": [
      "4\n",
      "3*2=6\n",
      "correct\n",
      "11+11=11\n",
      "wrong answer\n",
      "7-9=-2\n",
      "correct\n",
      "3*0=0\n",
      "correct\n"
     ]
    }
   ],
   "source": [
    "for _ in range(int(input())):\n",
    "    s = input().replace(\"=\", \"==\")\n",
    "    print('correct') if eval(s) else print('wrong answer')"
   ]
  },
  {
   "cell_type": "markdown",
   "metadata": {},
   "source": [
    "### 항체 인식 22352"
   ]
  },
  {
   "cell_type": "code",
   "execution_count": 8,
   "metadata": {},
   "outputs": [
    {
     "name": "stdout",
     "output_type": "stream",
     "text": [
      "2 2\n",
      "1 1\n",
      "1 1\n",
      "2 2\n",
      "2 2\n",
      "YES\n"
     ]
    }
   ],
   "source": [
    "from collections import deque\n",
    "\n",
    "n, m = map(int, input().split())\n",
    "before = [list(map(int, input().split())) for _ in range(n)]\n",
    "after = [list(map(int, input().split())) for _ in range(n)]\n",
    "\n",
    "# n, m = 3, 5\n",
    "# s1 = '''1 1 1 3 3\n",
    "# 1 1 2 3 3\n",
    "# 1 1 2 2 4'''\n",
    "# s2 = '''1 1 1 4 4\n",
    "# 1 1 2 4 4\n",
    "# 1 1 2 2 4'''\n",
    "# before = [list(map(int, v.split())) for v in s1.split('\\n')]\n",
    "# after = [list(map(int, v.split())) for v in s2.split('\\n')]\n",
    "\n",
    "\n",
    "st = set()\n",
    "coords = set()\n",
    "for i in range(n):\n",
    "    for j in range(m):\n",
    "        if before[i][j] != after[i][j]:\n",
    "            st.add((before[i][j], after[i][j]))\n",
    "            coords.add((i, j))\n",
    "            \n",
    "if len(st) == 0:\n",
    "    print('YES')\n",
    "elif len(st) >= 2:\n",
    "    print('NO')\n",
    "else:\n",
    "    def check():  \n",
    "        dx = [0, 0, -1, 1]\n",
    "        dy = [-1, 1, 0, 0]\n",
    "\n",
    "        sx, sy = coords.pop()\n",
    "        b, a = before[sx][sy], after[sx][sy]\n",
    "        vt = [[False] * m for _ in range(n)]\n",
    "        vt[sx][sy] = True\n",
    "\n",
    "        queue = deque()\n",
    "        queue.append((sx, sy))\n",
    "        while queue:\n",
    "            x, y = queue.popleft()\n",
    "\n",
    "            for i in range(4):\n",
    "                nx = x + dx[i]\n",
    "                ny = y + dy[i]\n",
    "                if nx < 0 or nx >= n or ny < 0 or ny >= m:\n",
    "                    continue\n",
    "                if before[nx][ny] != b:\n",
    "                    continue\n",
    "                if vt[nx][ny]:\n",
    "                    continue\n",
    "                vt[nx][ny] = True\n",
    "            \n",
    "                if (nx, ny) not in coords:\n",
    "                    return False\n",
    "                queue.append((nx, ny))\n",
    "                coords.discard((nx, ny))\n",
    "                \n",
    "        if not coords:\n",
    "            return True\n",
    "        else:\n",
    "            return False\n",
    "                    \n",
    "    if check():\n",
    "        print('YES')\n",
    "    else:\n",
    "        print('NO')"
   ]
  },
  {
   "cell_type": "markdown",
   "metadata": {},
   "source": [
    "### 공격 1430"
   ]
  },
  {
   "cell_type": "code",
   "execution_count": 16,
   "metadata": {},
   "outputs": [
    {
     "name": "stdout",
     "output_type": "stream",
     "text": [
      "4 1 100 10 10\n",
      "10 12\n",
      "12 10\n",
      "10 8\n",
      "8 10\n",
      "0.0\n"
     ]
    }
   ],
   "source": [
    "from collections import deque\n",
    "\n",
    "n, r, d, x, y = map(int, input().split())\n",
    "towers = [list(map(int, input().split())) for _ in range(n)]\n",
    "\n",
    "def get_dist(a, b, aa, bb):\n",
    "    return ((a - aa) ** 2 + (b - bb) ** 2) ** 0.5\n",
    "\n",
    "not_vt = set(range(n))\n",
    "counts = [0] * n # [에너지 이동 필요의 수] = 해당 타워 수\n",
    "queue = deque()\n",
    "for index, (i, j) in enumerate(towers):\n",
    "    dist = get_dist(i, j, x, y)\n",
    "    if dist <= r:\n",
    "        counts[0] += 1\n",
    "        not_vt.discard(index)\n",
    "        queue.append((i, j, 0))\n",
    "        \n",
    "while queue:\n",
    "    i, j, reduced_w = queue.popleft()\n",
    "    \n",
    "    to_delete = set()\n",
    "    for index in not_vt:\n",
    "        ni, nj = towers[index]\n",
    "        dist = get_dist(i, j, ni, nj)\n",
    "        if dist <= r:\n",
    "            counts[reduced_w + 1] += 1\n",
    "            to_delete.add(index)\n",
    "            queue.append((ni, nj, reduced_w + 1))\n",
    "            \n",
    "    for index in to_delete:\n",
    "        not_vt.discard(index)\n",
    "            \n",
    "result = 0\n",
    "for i, v in enumerate(counts):\n",
    "    damage = d * v / (2 ** i)\n",
    "    result += damage\n",
    "    \n",
    "print(result)"
   ]
  },
  {
   "cell_type": "markdown",
   "metadata": {},
   "source": [
    "### 화분 부수기 3088"
   ]
  },
  {
   "cell_type": "code",
   "execution_count": 19,
   "metadata": {},
   "outputs": [
    {
     "name": "stdout",
     "output_type": "stream",
     "text": [
      "5\n",
      "3 4 1\n",
      "2 5 6\n",
      "7 2 8\n",
      "2 1 9\n",
      "11 10 9\n",
      "2\n"
     ]
    }
   ],
   "source": [
    "import sys\n",
    "# input = lambda: sys.stdin.readline().rstrip()\n",
    "\n",
    "n = int(input())\n",
    "li = [set(map(int, input().split())) for _ in range(n)]\n",
    "\n",
    "st = set()\n",
    "count = 0\n",
    "for i in range(n):\n",
    "    is_included = False\n",
    "    for v in li[i]:\n",
    "        if v in st:\n",
    "            is_included = True\n",
    "        else:\n",
    "            st.add(v)\n",
    "    if not is_included:\n",
    "        count += 1\n",
    "        \n",
    "print(count)"
   ]
  },
  {
   "cell_type": "markdown",
   "metadata": {},
   "source": [
    "### 지뢰찾기 9082"
   ]
  },
  {
   "cell_type": "code",
   "execution_count": 21,
   "metadata": {},
   "outputs": [
    {
     "name": "stdout",
     "output_type": "stream",
     "text": [
      "5\n",
      "23321\n",
      "#####\n",
      "4\n"
     ]
    }
   ],
   "source": [
    "import sys\n",
    "input = lambda: sys.stdin.readline().rstrip()\n",
    "\n",
    "for _ in range(int(input())):\n",
    "    n = int(input())\n",
    "    f = [10] + list(map(int, input())) + [10]\n",
    "    s = ' ' + input() + ' '\n",
    "\n",
    "    count = 0\n",
    "    for i in range(1, n + 1):\n",
    "        if s[i] == '*':\n",
    "            count += 1\n",
    "            for j in range(i - 1, i + 2):\n",
    "                f[j] -= 1\n",
    "\n",
    "    def check(i):\n",
    "        for j in range(i - 1, i + 2):\n",
    "            if not f[j]:\n",
    "                return False\n",
    "        return True\n",
    "\n",
    "    for i in range(1, n + 1):\n",
    "        if s[i] == '#':\n",
    "            if check(i):\n",
    "                count += 1\n",
    "                for j in range(i - 1, i + 2):\n",
    "                    f[j] -= 1\n",
    "\n",
    "    print(count)"
   ]
  },
  {
   "cell_type": "markdown",
   "metadata": {},
   "source": [
    "### 수강변경 23305"
   ]
  },
  {
   "cell_type": "code",
   "execution_count": 2,
   "metadata": {},
   "outputs": [
    {
     "name": "stdout",
     "output_type": "stream",
     "text": [
      "5\n",
      "2 2 3 3 3\n",
      "3 3 1 2 2\n",
      "1\n"
     ]
    }
   ],
   "source": [
    "n = int(input())\n",
    "a = list(map(int, input().split()))\n",
    "b = list(map(int, input().split()))\n",
    "\n",
    "counts = [0] * 1000001\n",
    "for v in a:\n",
    "    counts[v] += 1\n",
    "    \n",
    "result = 0\n",
    "for v in b:\n",
    "    if counts[v] >= 1:\n",
    "        counts[v] -= 1\n",
    "    else:\n",
    "        result += 1\n",
    "        \n",
    "print(result)"
   ]
  },
  {
   "cell_type": "markdown",
   "metadata": {},
   "source": [
    "### 아카라카 23304"
   ]
  },
  {
   "cell_type": "code",
   "execution_count": 54,
   "metadata": {},
   "outputs": [
    {
     "name": "stdout",
     "output_type": "stream",
     "text": [
      "baabbaab\n",
      "IPSELENTI\n"
     ]
    }
   ],
   "source": [
    "s = input()\n",
    "\n",
    "def check(s):\n",
    "    if len(s) == 1:\n",
    "        return True\n",
    "    \n",
    "    value = s[:len(s) // 2]\n",
    "    if value != s[len(s) - (len(s) // 2):]:\n",
    "        return False\n",
    "   \n",
    "    n = len(value)\n",
    "    for i in range(n // 2):\n",
    "        if value[i] != value[n - 1 - i]:\n",
    "            return False\n",
    "        \n",
    "    if not check(value):\n",
    "        return False\n",
    "    \n",
    "    return True\n",
    "    \n",
    "\n",
    "if check(s):\n",
    "    print('AKARAKA')\n",
    "else:\n",
    "    print('IPSELENTI')"
   ]
  },
  {
   "cell_type": "markdown",
   "metadata": {},
   "source": [
    "### 소가 길을 건너간 이유 2 14468"
   ]
  },
  {
   "cell_type": "code",
   "execution_count": 13,
   "metadata": {},
   "outputs": [
    {
     "name": "stdout",
     "output_type": "stream",
     "text": [
      "ABCABCDDEEFFGGHHIIJJKKLLMMNNOOPPQQRRSSTTUUVVWWXXYYZZ\n",
      "3\n"
     ]
    }
   ],
   "source": [
    "s = input()\n",
    "\n",
    "alphas = 'ABCDEFGHIJKLMNOPQRSTUVWXYZ'\n",
    "r = 0\n",
    "for a in alphas:\n",
    "    is_start = False\n",
    "    temp = set()\n",
    "    for b in s:\n",
    "        if not is_start and b == a:\n",
    "            is_start = True\n",
    "            continue\n",
    "        if is_start:\n",
    "            if b == a:\n",
    "                break\n",
    "            else:\n",
    "                if b in temp:\n",
    "                    temp.discard(b)\n",
    "                else:\n",
    "                    temp.add(b)\n",
    "    r += len(temp)\n",
    "    \n",
    "print(r // 2)"
   ]
  },
  {
   "cell_type": "markdown",
   "metadata": {},
   "source": [
    "### 아시아 정보올림피아드 2535"
   ]
  },
  {
   "cell_type": "code",
   "execution_count": 1,
   "metadata": {},
   "outputs": [
    {
     "name": "stdout",
     "output_type": "stream",
     "text": [
      "9\n",
      "1 1 230\n",
      "1 2 210\n",
      "1 3 205\n",
      "2 1 100\n",
      "2 2 150\n",
      "3 1 175\n",
      "3 2 190\n",
      "3 3 180\n",
      "3 4 195\n",
      "1 1\n",
      "1 2\n",
      "3 4\n",
      "3 2\n",
      "2 2\n",
      "2 1\n"
     ]
    }
   ],
   "source": [
    "from collections import defaultdict as dd\n",
    "\n",
    "n = int(input())\n",
    "li = [list(map(int, input().split())) for _ in range(n)]\n",
    "li.sort(key=lambda x: (-x[2]))\n",
    "\n",
    "c = dd(int)\n",
    "medal_c = 0\n",
    "for cnum, stnum, _ in li:\n",
    "    if c[cnum] == 2:\n",
    "        continue\n",
    "    c[cnum] += 1\n",
    "    medal_c += 1\n",
    "    \n",
    "    print(cnum, stnum)    \n",
    "    \n",
    "    if medal_c == 3:\n",
    "        break"
   ]
  },
  {
   "cell_type": "markdown",
   "metadata": {},
   "source": [
    "### Sort 마스터 배지훈의 후계자 20551"
   ]
  },
  {
   "cell_type": "code",
   "execution_count": 3,
   "metadata": {},
   "outputs": [
    {
     "name": "stdout",
     "output_type": "stream",
     "text": [
      "8 4\n",
      "3\n",
      "3\n",
      "4\n",
      "9\n",
      "2\n",
      "5\n",
      "3\n",
      "4\n",
      "3\n",
      "1\n",
      "10\n",
      "-1\n",
      "4\n",
      "4\n",
      "2\n",
      "0\n"
     ]
    }
   ],
   "source": [
    "import sys\n",
    "input = lambda: sys.stdin.readline().rstrip()\n",
    "\n",
    "n, m = map(int, input().split())\n",
    "li = sorted([int(input()) for _ in range(n)])\n",
    "\n",
    "dc = dict()\n",
    "for i in range(n):\n",
    "    if li[i] in dc:\n",
    "        continue\n",
    "    dc[li[i]] = i\n",
    "\n",
    "for _ in range(m):\n",
    "    d = int(input())\n",
    "    \n",
    "    if d not in dc:\n",
    "        print(-1)\n",
    "    else:\n",
    "        print(dc[d])"
   ]
  },
  {
   "cell_type": "markdown",
   "metadata": {},
   "source": [
    "### 지영 공주님의 마법 거울 11586"
   ]
  },
  {
   "cell_type": "code",
   "execution_count": 10,
   "metadata": {},
   "outputs": [
    {
     "name": "stdout",
     "output_type": "stream",
     "text": [
      "3\n",
      "AOO\n",
      "OOO\n",
      "OOO\n",
      "2\n",
      "OOA\n",
      "OOO\n",
      "OOO\n"
     ]
    }
   ],
   "source": [
    "n = int(input())\n",
    "li = [input() for _ in range(n)]\n",
    "k = int(input())\n",
    "    \n",
    "if k == 2:\n",
    "    for i in range(n):\n",
    "        li[i] = li[i][::-1]\n",
    "elif k == 3:\n",
    "    li.reverse()\n",
    "    \n",
    "print('\\n'.join(li))"
   ]
  },
  {
   "cell_type": "markdown",
   "metadata": {},
   "source": [
    "### 텀 프로젝트 (다시 풀음)"
   ]
  },
  {
   "cell_type": "code",
   "execution_count": 6,
   "metadata": {},
   "outputs": [
    {
     "name": "stdout",
     "output_type": "stream",
     "text": [
      "8\n",
      "1 2 3 4 5 6 7 8\n",
      "0\n"
     ]
    }
   ],
   "source": [
    "import sys\n",
    "input = lambda: sys.stdin.readline().rstrip()\n",
    "\n",
    "for _ in range(int(input())):\n",
    "    n = int(input())\n",
    "    get_value = lambda x: int(x) - 1\n",
    "    li = list(map(get_value, input().split()))\n",
    "\n",
    "    vt = [False] * n\n",
    "    solo = 0\n",
    "    for i in range(n):\n",
    "        if vt[i]:\n",
    "            continue\n",
    "        vt[i] = True\n",
    "        temp = [i]\n",
    "        temp_st = set()\n",
    "        temp_st.add(i)\n",
    "        while True:\n",
    "            i = li[i]\n",
    "            if i in temp_st:\n",
    "                solo += temp.index(i)\n",
    "                break\n",
    "            if vt[i]:\n",
    "                solo += len(temp)\n",
    "                break\n",
    "\n",
    "            vt[i] = True\n",
    "            temp.append(i)\n",
    "            temp_st.add(i)\n",
    "\n",
    "    print(solo)"
   ]
  },
  {
   "cell_type": "markdown",
   "metadata": {},
   "source": [
    "### 농장 관리 1245"
   ]
  },
  {
   "cell_type": "code",
   "execution_count": 5,
   "metadata": {},
   "outputs": [
    {
     "name": "stdout",
     "output_type": "stream",
     "text": [
      "3\n"
     ]
    }
   ],
   "source": [
    "from collections import deque\n",
    "\n",
    "def bfs(i, j):\n",
    "    r = True\n",
    "    queue = deque()\n",
    "    queue.append((i, j))\n",
    "    while queue:\n",
    "        x, y = queue.popleft()\n",
    "\n",
    "        for d in range(8):\n",
    "            nx = x + dx[d]\n",
    "            ny = y + dy[d]\n",
    "            if nx < 0 or nx >= n or ny < 0 or ny >= m:\n",
    "                continue\n",
    "            if li[nx][ny] > li[x][y]:\n",
    "                r = False\n",
    "                continue\n",
    "            if li[nx][ny] < li[x][y]:\n",
    "                continue\n",
    "            if not vt[nx][ny]:\n",
    "                vt[nx][ny] = True\n",
    "                queue.append((nx, ny))\n",
    "    return r\n",
    "\n",
    "n, m = map(int, input().split())\n",
    "li = [list(map(int, input().split())) for _ in range(n)]\n",
    "\n",
    "dx = [-1, -1, -1, 0, 0, 1, 1, 1]\n",
    "dy = [-1, 0, 1, -1, 1, -1, 0, 1]  \n",
    "\n",
    "vt = [[False] * m for _ in range(n)]\n",
    "count = 0\n",
    "for i in range(n):\n",
    "    for j in range(m):\n",
    "        if vt[i][j]:\n",
    "            continue\n",
    "        vt[i][j] = True\n",
    "        if bfs(i, j):\n",
    "            count += 1\n",
    "            \n",
    "print(count)"
   ]
  },
  {
   "cell_type": "code",
   "execution_count": 8,
   "metadata": {},
   "outputs": [
    {
     "name": "stdout",
     "output_type": "stream",
     "text": [
      "1 1000\n",
      "30 10\n",
      "10\n"
     ]
    }
   ],
   "source": [
    "import sys\n",
    "input = lambda: sys.stdin.readline().rstrip()\n",
    "\n",
    "n, x = map(int, input().split())\n",
    "li = []\n",
    "\n",
    "total = 0\n",
    "for _ in range(n):\n",
    "    value = list(map(int, input().split()))\n",
    "    diff = value[0] - value[1]\n",
    "    if diff <= 0:\n",
    "        x -= 1000\n",
    "        total += value[1]\n",
    "    else:\n",
    "        value.append(diff)\n",
    "        li.append(value)\n",
    "    \n",
    "li.sort(key=lambda x: -x[2])\n",
    "while li:\n",
    "    if len(li) * 5000 <= x:\n",
    "        break\n",
    "    \n",
    "    a, b, _ = li.pop()\n",
    "    \n",
    "    x -= 1000\n",
    "    total += b\n",
    "    \n",
    "for v in li:\n",
    "    total += v[0]\n",
    "    \n",
    "print(total)"
   ]
  },
  {
   "cell_type": "markdown",
   "metadata": {},
   "source": [
    "### 거리의 합 2339"
   ]
  },
  {
   "cell_type": "code",
   "execution_count": 42,
   "metadata": {},
   "outputs": [
    {
     "name": "stdout",
     "output_type": "stream",
     "text": [
      "5\n",
      "1 5 2 3 4\n",
      "40\n"
     ]
    }
   ],
   "source": [
    "n = int(input())\n",
    "li = sorted(map(int, input().split()))\n",
    "\n",
    "diff = [0] * (n - 1)\n",
    "for i in range(n - 1):\n",
    "    diff[i] = li[i + 1] - li[i]\n",
    "        \n",
    "s = [0] * (n - 1)\n",
    "cumul = 0\n",
    "for i in range(n - 1):\n",
    "    cumul += diff[i]\n",
    "    s[i] = cumul\n",
    "\n",
    "total = 0\n",
    "cur = n - 1\n",
    "for i in range(n - 2, -1, -1):\n",
    "    total += s[i] * cur\n",
    "    cur -= 2\n",
    "    \n",
    "print(total * 2)"
   ]
  },
  {
   "cell_type": "markdown",
   "metadata": {},
   "source": [
    "### 2×n 타일링 11726 (다시 풀음)"
   ]
  },
  {
   "cell_type": "code",
   "execution_count": 4,
   "metadata": {},
   "outputs": [
    {
     "name": "stdout",
     "output_type": "stream",
     "text": [
      "1000\n",
      "1115\n"
     ]
    }
   ],
   "source": [
    "dp = [0, 1, 2]\n",
    "for _ in range(999):\n",
    "    temp = (dp[-1] + dp[-2]) % 10007\n",
    "    dp.append(temp)\n",
    "\n",
    "n = int(input())\n",
    "    \n",
    "print(dp[n])"
   ]
  },
  {
   "cell_type": "markdown",
   "metadata": {},
   "source": [
    "### 삼삼한 수 2 (다시 풀음)"
   ]
  },
  {
   "cell_type": "code",
   "execution_count": 7,
   "metadata": {},
   "outputs": [
    {
     "name": "stdout",
     "output_type": "stream",
     "text": [
      "0\n",
      "YES\n"
     ]
    }
   ],
   "source": [
    "n = int(input())\n",
    "\n",
    "if n == 0:\n",
    "    print('NO')\n",
    "else:\n",
    "    while n:\n",
    "        if n % 3 == 2:\n",
    "            print('NO')\n",
    "            break\n",
    "        elif n % 3 == 1:\n",
    "            n -= 1\n",
    "\n",
    "        n //= 3\n",
    "    else:\n",
    "        print('YES')"
   ]
  },
  {
   "cell_type": "markdown",
   "metadata": {},
   "source": [
    "### 로봇 청소기 14503 (다시 풀음)"
   ]
  },
  {
   "cell_type": "code",
   "execution_count": 59,
   "metadata": {},
   "outputs": [
    {
     "name": "stdout",
     "output_type": "stream",
     "text": [
      "3 3\n",
      "1 1 0\n",
      "1 1 1\n",
      "1 0 1\n",
      "1 1 1\n",
      "1\n"
     ]
    }
   ],
   "source": [
    "n, m = map(int, input().split())\n",
    "x, y, d = map(int, input().split())\n",
    "li = [list(map(int, input().split())) for _ in range(n)]\n",
    "\n",
    "cleaned = [[False] * m for _ in range(n)]\n",
    "\n",
    "# 북, 동, 남, 서\n",
    "dx = [-1, 0, 1, 0]\n",
    "dy = [0, 1, 0, -1]\n",
    "\n",
    "while True:\n",
    "    cleaned[x][y] = True\n",
    "    \n",
    "    ifd = False # is found\n",
    "    for i in range(1, 5):\n",
    "        nd = d - i\n",
    "        if nd < 0:\n",
    "            nd += 4\n",
    "        \n",
    "        nx, ny = x + dx[nd], y + dy[nd]\n",
    "        if li[nx][ny]:\n",
    "            continue\n",
    "        if not cleaned[nx][ny]:\n",
    "            d = nd\n",
    "            x, y = nx, ny\n",
    "            ifd = True\n",
    "            break\n",
    "    \n",
    "    if not ifd:\n",
    "        nd = d - 2\n",
    "        if nd < 0:\n",
    "            nd += 4\n",
    "            \n",
    "        nx, ny = x + dx[nd], y + dy[nd]\n",
    "        if li[nx][ny]:\n",
    "            break\n",
    "        x, y = nx, ny\n",
    "    \n",
    "c = 0\n",
    "for v in cleaned:\n",
    "    c += sum(v)\n",
    "    \n",
    "print(c)"
   ]
  },
  {
   "cell_type": "markdown",
   "metadata": {},
   "source": [
    "### 친구 1058"
   ]
  },
  {
   "cell_type": "code",
   "execution_count": 47,
   "metadata": {},
   "outputs": [
    {
     "name": "stdout",
     "output_type": "stream",
     "text": [
      "8\n"
     ]
    }
   ],
   "source": [
    "# n = int(input())\n",
    "# li = [list(input()) for _ in range(n)]\n",
    "\n",
    "n = 10\n",
    "s = '''NNNNYNNNNN\n",
    "NNNNYNYYNN\n",
    "NNNYYYNNNN\n",
    "NNYNNNNNNN\n",
    "YYYNNNNNNY\n",
    "NNYNNNNNYN\n",
    "NYNNNNNYNN\n",
    "NYNNNNYNNN\n",
    "NNNNNYNNNN\n",
    "NNNNYNNNNN'''\n",
    "\n",
    "li = [list(v) for v in s.split('\\n')]\n",
    "dists = [[float('inf')] * n for _ in range(n)]\n",
    "for i in range(n):\n",
    "    for j in range(n):\n",
    "        if li[i][j] == 'N':\n",
    "            li[i][j] = 0\n",
    "        else:\n",
    "            li[i][j] = 1\n",
    "            dists[i][j] = 1\n",
    "\n",
    "for i in range(n):\n",
    "    dists[i][i] = 0\n",
    "        \n",
    "for mid in range(n):\n",
    "    for i in range(n):\n",
    "        for j in range(n):\n",
    "            if dists[i][mid] + dists[mid][j] < dists[i][j]:\n",
    "                dists[i][j] = dists[i][mid] + dists[mid][j]   \n",
    "                \n",
    "mc = 0\n",
    "for i in range(n):\n",
    "    c = -1\n",
    "    for j in range(n):\n",
    "        if dists[i][j] <= 2:\n",
    "            c += 1\n",
    "    mc = max(mc, c)\n",
    "    \n",
    "print(mc)"
   ]
  },
  {
   "cell_type": "markdown",
   "metadata": {},
   "source": [
    "### 크게 만들기 2812"
   ]
  },
  {
   "cell_type": "code",
   "execution_count": 76,
   "metadata": {},
   "outputs": [
    {
     "name": "stdout",
     "output_type": "stream",
     "text": [
      "5 4\n",
      "54321\n",
      "5\n"
     ]
    }
   ],
   "source": [
    "n, k = map(int, input().split())\n",
    "li = list(map(int, input()))\n",
    "\n",
    "stack = []\n",
    "for v in li:\n",
    "    while stack and k and stack[-1] < v:\n",
    "        stack.pop()\n",
    "        k -= 1\n",
    "    stack.append(v)\n",
    "    \n",
    "for _ in range(k):\n",
    "    stack.pop()\n",
    "    \n",
    "print(''.join(map(str, stack)))"
   ]
  }
 ],
 "metadata": {
  "kernelspec": {
   "display_name": "Python 3",
   "language": "python",
   "name": "python3"
  },
  "language_info": {
   "codemirror_mode": {
    "name": "ipython",
    "version": 3
   },
   "file_extension": ".py",
   "mimetype": "text/x-python",
   "name": "python",
   "nbconvert_exporter": "python",
   "pygments_lexer": "ipython3",
   "version": "3.7.3"
  }
 },
 "nbformat": 4,
 "nbformat_minor": 4
}
