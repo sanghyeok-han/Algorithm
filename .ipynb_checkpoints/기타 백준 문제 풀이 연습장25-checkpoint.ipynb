{
 "cells": [
  {
   "cell_type": "markdown",
   "metadata": {},
   "source": [
    "https://www.acmicpc.net/problem/28303 자석"
   ]
  },
  {
   "cell_type": "code",
   "execution_count": 9,
   "metadata": {},
   "outputs": [
    {
     "name": "stdout",
     "output_type": "stream",
     "text": [
      "2 2000\n",
      "0 1000\n",
      "-1000\n"
     ]
    }
   ],
   "source": [
    "from collections import defaultdict as dd\n",
    "\n",
    "inf = float('inf')\n",
    "\n",
    "n, k = map(int, input().split())\n",
    "li = list(map(int, input().split()))\n",
    "\n",
    "result = -inf\n",
    "\n",
    "min_to_upper = inf\n",
    "for i in range(n):\n",
    "    v = li[i]\n",
    "    nv = v - k * i\n",
    "    \n",
    "    result = max(result, nv - min_to_upper)\n",
    "    min_to_upper = min(min_to_upper, nv)\n",
    "    \n",
    "min_to_upper = inf\n",
    "rli = li[::-1]\n",
    "for i in range(n):\n",
    "    v = rli[i]\n",
    "    nv = v - k * i\n",
    "    \n",
    "    result = max(result, nv - min_to_upper)\n",
    "    min_to_upper = min(min_to_upper, nv)\n",
    "    \n",
    "print(result)"
   ]
  },
  {
   "cell_type": "markdown",
   "metadata": {},
   "source": [
    "https://www.acmicpc.net/problem/25378 조약돌"
   ]
  },
  {
   "cell_type": "code",
   "execution_count": 19,
   "metadata": {},
   "outputs": [
    {
     "name": "stdout",
     "output_type": "stream",
     "text": [
      "4\n",
      "1 10 9 2\n",
      "3\n"
     ]
    }
   ],
   "source": [
    "# 틀렸음\n",
    "n = int(input())\n",
    "li = list(map(int, input().split()))\n",
    "\n",
    "cur_i = 0\n",
    "result = 0\n",
    "while cur_i < n:\n",
    "    if li[cur_i] == 0:\n",
    "        cur_i += 1\n",
    "        continue\n",
    "        \n",
    "    if cur_i + 1 < n and li[cur_i] <= li[cur_i + 1]:\n",
    "        li[cur_i + 1] -= li[cur_i]\n",
    "        li[cur_i] = 0\n",
    "        result += 1\n",
    "        cur_i + 1\n",
    "        continue\n",
    "    else:\n",
    "        li[cur_i] = 0\n",
    "        result += 1\n",
    "        cur_i += 1\n",
    "        \n",
    "print(result)"
   ]
  },
  {
   "cell_type": "code",
   "execution_count": 34,
   "metadata": {},
   "outputs": [
    {
     "name": "stdout",
     "output_type": "stream",
     "text": [
      "4\n",
      "1 1 1 1\n",
      "2\n"
     ]
    }
   ],
   "source": [
    "n = int(input())\n",
    "li = list(map(int, input().split()))\n",
    "\n",
    "dp = [[] for _ in range(n)]\n",
    "dp[0] = [li[0]]\n",
    "\n",
    "cur_r = n\n",
    "for i in range(1, n):\n",
    "    \n",
    "    is_new_start = False\n",
    "    v = li[i]\n",
    "    for fv in dp[i - 1]:\n",
    "        if fv <= v:\n",
    "            nv = v - fv\n",
    "            \n",
    "            if nv >= 1:\n",
    "                dp[i].append(nv)\n",
    "            else:\n",
    "                cur_r -= 1\n",
    "                dp[i] = []\n",
    "                is_new_start = True\n",
    "                break\n",
    "                \n",
    "    if not is_new_start:            \n",
    "        dp[i].append(v)\n",
    "    \n",
    "print(cur_r)"
   ]
  },
  {
   "cell_type": "markdown",
   "metadata": {},
   "source": [
    "https://www.acmicpc.net/problem/17367 공교육 도박"
   ]
  },
  {
   "cell_type": "code",
   "execution_count": 16,
   "metadata": {},
   "outputs": [
    {
     "name": "stdout",
     "output_type": "stream",
     "text": [
      "10\n",
      "3300.6452814214686\n"
     ]
    }
   ],
   "source": [
    "inf = float('inf')\n",
    "\n",
    "def get_score(a, b, c):\n",
    "    a, b, c = sorted([a, b, c])\n",
    "    \n",
    "    if a == c:\n",
    "        return 10000 + a * 1000\n",
    "    elif a == b or b == c:\n",
    "        return 1000 + b * 100\n",
    "    else:\n",
    "        return c * 100\n",
    "        \n",
    "def recur(a, b, remained):\n",
    "    if dp[a][b][remained] != -1:\n",
    "        return dp[a][b][remained]\n",
    "\n",
    "    sv = 0\n",
    "    for c in range(1, 7):\n",
    "        v = max(get_score(a, b, c), recur(b, c, remained - 1))\n",
    "        sv += v\n",
    "\n",
    "    dp[a][b][remained] = sv / 6\n",
    "    return sv / 6\n",
    "\n",
    "n = int(input())\n",
    "\n",
    "dp = [[[-1] * n for _ in range(7)] for _ in range(7)]\n",
    "\n",
    "for a in range(7):\n",
    "    for b in range(7):\n",
    "        dp[a][b][0] = -inf\n",
    "\n",
    "sums = 0\n",
    "for init_a in range(1, 7):\n",
    "    for init_b in range(1, 7):\n",
    "        sums += recur(init_a, init_b, n - 2)\n",
    "        \n",
    "result = sums / 36\n",
    "\n",
    "print(result)"
   ]
  },
  {
   "cell_type": "markdown",
   "metadata": {},
   "source": [
    "https://www.acmicpc.net/problem/28296 물류창고"
   ]
  },
  {
   "cell_type": "code",
   "execution_count": null,
   "metadata": {},
   "outputs": [],
   "source": [
    "import io, os, sys\n",
    "# input = io.BytesIO(os.read(0, os.fstat(0).st_size)).readline\n",
    "# print = sys.stdout.write\n",
    "\n",
    "def find(v):\n",
    "    while v != pa[v]:\n",
    "        pa[v] = pa[pa[v]]\n",
    "        v = pa[v]\n",
    "        \n",
    "    return v\n",
    "\n",
    "def union(a, b, w):\n",
    "    global total\n",
    "    \n",
    "    if rank[a] < rank[b]:\n",
    "        a, b = b, a\n",
    "    pa[b] = a\n",
    "    \n",
    "    if rank[a] == rank[b]:\n",
    "        rank[a] += 1\n",
    "        \n",
    "    for company in checked[b]:\n",
    "        if company in checked[a]:\n",
    "            totals[company - 1] += checked[a][company] * checked[b][company] * w\n",
    "            checked[a][company] += checked[b][company]\n",
    "        else:\n",
    "            checked[a][company] = checked[b][company]\n",
    "\n",
    "n, k, m = map(int, input().split())\n",
    "owns = [-1] + list(map(int, input().split()))\n",
    "\n",
    "edges = [list(map(int, input().split())) for _ in range(m)]\n",
    "edges.sort(key=lambda x: -x[2])\n",
    "\n",
    "pa = list(range(n + 1))\n",
    "rank = [0] * (n + 1)\n",
    "checked = [{owns[i]: 1} for i in range(n + 1)]\n",
    "totals = [0] * k\n",
    "\n",
    "for a, b, w in edges:\n",
    "    ra = find(a)\n",
    "    rb = find(b)\n",
    "    \n",
    "    if ra == rb:\n",
    "        continue\n",
    "        \n",
    "    union(ra, rb, w)\n",
    "    \n",
    "print('\\n'.join(map(str, totals)))"
   ]
  },
  {
   "cell_type": "markdown",
   "metadata": {},
   "source": [
    "https://www.acmicpc.net/problem/2320 끝말잇기"
   ]
  },
  {
   "cell_type": "code",
   "execution_count": 1,
   "metadata": {},
   "outputs": [
    {
     "data": {
      "text/plain": [
       "65536"
      ]
     },
     "execution_count": 1,
     "metadata": {},
     "output_type": "execute_result"
    }
   ],
   "source": [
    "2 ** 16"
   ]
  },
  {
   "cell_type": "code",
   "execution_count": 3,
   "metadata": {},
   "outputs": [
    {
     "data": {
      "text/plain": [
       "65536"
      ]
     },
     "execution_count": 3,
     "metadata": {},
     "output_type": "execute_result"
    }
   ],
   "source": [
    "1 << 16"
   ]
  },
  {
   "cell_type": "code",
   "execution_count": 9,
   "metadata": {},
   "outputs": [
    {
     "data": {
      "text/plain": [
       "8"
      ]
     },
     "execution_count": 9,
     "metadata": {},
     "output_type": "execute_result"
    }
   ],
   "source": [
    "1 << 3"
   ]
  },
  {
   "cell_type": "code",
   "execution_count": 11,
   "metadata": {},
   "outputs": [
    {
     "data": {
      "text/plain": [
       "7"
      ]
     },
     "execution_count": 11,
     "metadata": {},
     "output_type": "execute_result"
    }
   ],
   "source": [
    "int('111', 2)"
   ]
  },
  {
   "cell_type": "code",
   "execution_count": 18,
   "metadata": {},
   "outputs": [
    {
     "name": "stdout",
     "output_type": "stream",
     "text": [
      "5\n",
      "IOO\n",
      "IUUO\n",
      "AI\n",
      "OIOOI\n",
      "AOOI\n",
      "16\n"
     ]
    }
   ],
   "source": [
    "def to_nums(s):\n",
    "    li = []\n",
    "    alphas = 'AEIOU'\n",
    "    for v in s:\n",
    "        li.append(alphas.index(v))\n",
    "        \n",
    "    return li\n",
    "        \n",
    "n = int(input())\n",
    "li = [to_nums(input()) for _ in range(n)]\n",
    "\n",
    "dp = [[-1] * 5 for _ in range(1 << n)] # dp[useds][last]\n",
    "for last in range(5):\n",
    "    dp[0][last] = 0\n",
    "    \n",
    "def recur(useds, last):\n",
    "    if dp[useds][last] != -1:\n",
    "        return dp[useds][last]\n",
    "    \n",
    "    max_sc = 0\n",
    "    for bit_loc in range(n):\n",
    "        if useds & (1 << bit_loc) > 0 and li[bit_loc][-1] == last:\n",
    "            fuseds = useds - (1 << bit_loc)\n",
    "            \n",
    "            sc = recur(fuseds, li[bit_loc][0]) + len(li[bit_loc])\n",
    "            max_sc = max(max_sc, sc)\n",
    "            \n",
    "    dp[useds][last] = max_sc\n",
    "    \n",
    "    return dp[useds][last]\n",
    "    \n",
    "max_r = 0\n",
    "for useds in range(1 << n):\n",
    "    for last in range(5):\n",
    "        max_r = max(max_r, recur(useds, last))\n",
    "        \n",
    "print(max_r)"
   ]
  },
  {
   "cell_type": "markdown",
   "metadata": {},
   "source": [
    "https://www.acmicpc.net/problem/2398 3인통화"
   ]
  },
  {
   "cell_type": "code",
   "execution_count": null,
   "metadata": {},
   "outputs": [],
   "source": [
    "from heapq import heappush, heappop\n",
    "import io, os, sys\n",
    "input = io.BytesIO(os.read(0, os.fstat(0).st_size)).readline\n",
    "\n",
    "inf = float('inf')\n",
    "\n",
    "def dij(costs, _from, start):\n",
    "    costs[start] = 0\n",
    "    heap = [(0, start)]\n",
    "    \n",
    "    while heap:\n",
    "        cost, value = heappop(heap)\n",
    "        if cost > costs[value]:\n",
    "            continue\n",
    "        \n",
    "        for v, c in li[value]:\n",
    "            ncost = cost + c\n",
    "            \n",
    "            if ncost < costs[v]:\n",
    "                costs[v] = ncost\n",
    "                _from[v] = value\n",
    "                heappush(heap, (ncost, v))\n",
    "                \n",
    "def get_route(_from, start, end):\n",
    "    cur = end\n",
    "    while cur != start:\n",
    "        fcur = _from[cur]\n",
    "        route.append((fcur, cur))\n",
    "        \n",
    "        cur = fcur\n",
    "    \n",
    "n, m = map(int, input().split())\n",
    "\n",
    "li = [[] for _ in range(n + 1)]\n",
    "for _ in range(m):\n",
    "    u, v, w = map(int, input().split())\n",
    "    \n",
    "    li[u].append((v, w))\n",
    "    li[v].append((u, w))\n",
    "    \n",
    "a, b, c = map(int, input().split())\n",
    "\n",
    "costs_a = [inf] * (n + 1)\n",
    "costs_b = [inf] * (n + 1)\n",
    "costs_c = [inf] * (n + 1)\n",
    "from_a = [inf] * (n + 1)\n",
    "from_b = [inf] * (n + 1)\n",
    "from_c = [inf] * (n + 1)\n",
    "\n",
    "dij(costs_a, from_a, a)\n",
    "dij(costs_b, from_b, b)\n",
    "dij(costs_c, from_c, c)\n",
    "\n",
    "min_sum_mid = -1\n",
    "min_sum = inf\n",
    "for i in range(1, n + 1):\n",
    "    sc = costs_a[i] + costs_b[i] + costs_c[i]\n",
    "    \n",
    "    if sc < min_sum:\n",
    "        min_sum = sc\n",
    "        min_sum_mid = i\n",
    "        \n",
    "min_r = min_sum\n",
    "route = []\n",
    "\n",
    "get_route(from_a, a, min_sum_mid)\n",
    "get_route(from_b, b, min_sum_mid)\n",
    "get_route(from_c, c, min_sum_mid)\n",
    "\n",
    "print(min_r, len(route))\n",
    "for v in route:\n",
    "    print(*v)"
   ]
  },
  {
   "cell_type": "markdown",
   "metadata": {},
   "source": [
    "https://www.acmicpc.net/problem/5425 자리합"
   ]
  },
  {
   "cell_type": "code",
   "execution_count": null,
   "metadata": {},
   "outputs": [],
   "source": [
    "각각 구해서 빼는 식으로 하면 어떨까?"
   ]
  },
  {
   "cell_type": "code",
   "execution_count": 110,
   "metadata": {},
   "outputs": [
    {
     "name": "stdout",
     "output_type": "stream",
     "text": [
      "1\n",
      "0 3\n",
      "6\n"
     ]
    }
   ],
   "source": [
    "def get_sum(n):\n",
    "    return n * (n + 1) // 2\n",
    "\n",
    "dp = {str(num): get_sum(num) for num in range(10)} # until\n",
    "\n",
    "for nine_c in range(2, 17):\n",
    "    to_get = '9' * nine_c\n",
    "    \n",
    "    v = get_sum(9) * (10 ** (nine_c - 1))  + dp['9' * (nine_c - 1)] * 10\n",
    "    dp[to_get] = v\n",
    "    \n",
    "dp[''] = 0\n",
    "\n",
    "def get_total(s):\n",
    "    s = str(s)\n",
    "    \n",
    "    s_len = len(s)\n",
    "    cumul = 0\n",
    "    total = 0\n",
    "    for i in range(len(s)):\n",
    "        digit = int(s[i])\n",
    "\n",
    "        left_c = s_len - i - 1\n",
    "\n",
    "        total += digit * dp['9' * left_c] + get_sum(digit - 1) * (10 ** left_c)\n",
    "\n",
    "        temp = s[i + 1:]\n",
    "        if temp:\n",
    "            total += digit * (int(temp) + 1)\n",
    "        else:\n",
    "            total += digit\n",
    "\n",
    "    return total\n",
    "\n",
    "for _ in range(int(input())):\n",
    "    a, b = map(int, input().split())\n",
    "\n",
    "    if a == 0:\n",
    "        result = get_total(b)\n",
    "    else:\n",
    "        result = get_total(b) - get_total(a - 1)\n",
    "\n",
    "    print(result)"
   ]
  },
  {
   "cell_type": "code",
   "execution_count": 113,
   "metadata": {},
   "outputs": [
    {
     "name": "stdout",
     "output_type": "stream",
     "text": [
      "24660 308357171\n",
      "11379854844\n"
     ]
    }
   ],
   "source": [
    "def get_sum(n):\n",
    "    return n * (n + 1) // 2\n",
    "\n",
    "dp = {str(num): get_sum(num) for num in range(10)} # until\n",
    "\n",
    "for nine_c in range(2, 17):\n",
    "    to_get = '9' * nine_c\n",
    "    \n",
    "    v = get_sum(9) * (10 ** (nine_c - 1))  + dp['9' * (nine_c - 1)] * 10\n",
    "    dp[to_get] = v\n",
    "    \n",
    "dp[''] = 0\n",
    "\n",
    "def get_total(s):\n",
    "    s = str(s)\n",
    "    \n",
    "    s_len = len(s)\n",
    "    cumul = 0\n",
    "    total = 0\n",
    "    for i in range(len(s)):\n",
    "        digit = int(s[i])\n",
    "\n",
    "        left_c = s_len - i - 1\n",
    "\n",
    "        total += digit * dp['9' * left_c] + get_sum(digit - 1) * (10 ** left_c)\n",
    "\n",
    "        temp = s[i + 1:]\n",
    "        if temp:\n",
    "            total += digit * (int(temp) + 1)\n",
    "        else:\n",
    "            total += digit\n",
    "\n",
    "    return total\n",
    "\n",
    "a, b = map(int, input().split())\n",
    "\n",
    "if a == 0:\n",
    "    result = get_total(b)\n",
    "else:\n",
    "    result = get_total(b) - get_total(a - 1)\n",
    "\n",
    "print(result)"
   ]
  },
  {
   "cell_type": "markdown",
   "metadata": {},
   "source": [
    "https://www.acmicpc.net/problem/9460 메탈"
   ]
  },
  {
   "cell_type": "code",
   "execution_count": null,
   "metadata": {},
   "outputs": [],
   "source": [
    "k가 n 이상이면 답은 0이 됨"
   ]
  },
  {
   "cell_type": "code",
   "execution_count": 125,
   "metadata": {},
   "outputs": [
    {
     "name": "stdout",
     "output_type": "stream",
     "text": [
      "3 100\n",
      "-1 0 0 0 1 0\n",
      "0.0\n"
     ]
    }
   ],
   "source": [
    "import io, os, sys\n",
    "input = io.BytesIO(os.read(0, os.fstat(0).st_size)).readline\n",
    "\n",
    "inf = float('inf')\n",
    "\n",
    "def check(mid):\n",
    "    min_v = inf\n",
    "    max_v = -inf\n",
    "    \n",
    "    c = 1\n",
    "    for i in range(n):\n",
    "        min_v = min(min_v, nli[i])\n",
    "        max_v = max(max_v, nli[i])\n",
    "\n",
    "        diff = max_v - min_v\n",
    "        \n",
    "        if diff > mid:\n",
    "            c += 1\n",
    "            min_v = nli[i]\n",
    "            max_v = nli[i]\n",
    "            \n",
    "    if c <= k:\n",
    "        return True\n",
    "    else:\n",
    "        return False\n",
    "     \n",
    "for _ in range(int(input())):\n",
    "    n, k = map(int, input().split())\n",
    "    li = list(map(int, input().split()))\n",
    "\n",
    "    nli = []\n",
    "    for i in range(0, n * 2, 2):\n",
    "        tp = (li[i], li[i + 1])\n",
    "        nli.append(tp)\n",
    "\n",
    "    nli.sort(key=lambda x: x[0])\n",
    "\n",
    "    nli = [v[1] for v in nli]\n",
    "\n",
    "    start = 0\n",
    "    end = 200000002\n",
    "    result = end\n",
    "    while start <= end:\n",
    "        mid = (start + end) // 2\n",
    "\n",
    "        if check(mid):\n",
    "            result = mid\n",
    "            end = mid - 1\n",
    "        else:\n",
    "             start = mid + 1\n",
    "\n",
    "    if result % 2 == 0:\n",
    "        nresult = f'{result // 2}.0'\n",
    "    else:\n",
    "        nresult = f'{result // 2}.5'\n",
    "\n",
    "    print(nresult)"
   ]
  },
  {
   "cell_type": "markdown",
   "metadata": {},
   "source": [
    "https://www.acmicpc.net/problem/10840 구간 성분"
   ]
  },
  {
   "cell_type": "code",
   "execution_count": 189,
   "metadata": {},
   "outputs": [
    {
     "name": "stdout",
     "output_type": "stream",
     "text": [
      "19999897\n"
     ]
    }
   ],
   "source": [
    "max_num = 20000000\n",
    "sp = [0] * (max_num + 1)\n",
    "primes = []\n",
    "for i in range(2, max_num + 1):\n",
    "    if sp[i] == 0:\n",
    "        sp[i] = i\n",
    "        primes.append(i)\n",
    "        \n",
    "    j = 0\n",
    "    while j < len(primes) and i * primes[j] <= max_num and primes[j] <= sp[i]:\n",
    "        sp[i * primes[j]] = primes[j]\n",
    "        j += 1\n",
    "        \n",
    "print(primes[-6])"
   ]
  },
  {
   "cell_type": "code",
   "execution_count": 187,
   "metadata": {},
   "outputs": [
    {
     "name": "stdout",
     "output_type": "stream",
     "text": [
      "computersystem\n",
      "sesystuercomplexity\n",
      "11\n"
     ]
    }
   ],
   "source": [
    "mod = 9999991 * 9999991\n",
    "\n",
    "max_num = 200\n",
    "ip = [True] * (max_num + 1)\n",
    "ip[0] = ip[1] = False\n",
    "for mod1 in range(2, int((max_num + 1) ** 0.5) + 1):\n",
    "    if ip[mod1]:\n",
    "        for v in range(mod1 * mod1, max_num + 1, mod1):\n",
    "            ip[v] = False\n",
    "            \n",
    "primes = [i for i, v in enumerate(ip) if v]\n",
    "primes = primes[:28]\n",
    "    \n",
    "s = input()\n",
    "t = input()\n",
    "\n",
    "s_len = len(s)\n",
    "t_len = len(t)\n",
    "\n",
    "st = set()\n",
    "for start in range(s_len):\n",
    "    cur = 1\n",
    "    for end in range(start, s_len):\n",
    "        v = s[end]\n",
    "        mul = primes[ord(v) - 97]\n",
    "        cur *= mul\n",
    "        cur %= mod\n",
    "        st.add(cur)\n",
    "\n",
    "max_r = 0\n",
    "for start in range(t_len):\n",
    "    cur = 1\n",
    "    for end in range(start, t_len):\n",
    "        v = t[end]\n",
    "        mul = primes[ord(v) - 97]\n",
    "        cur *= mul\n",
    "        cur %= mod\n",
    "        if cur in st:\n",
    "            max_r = max(max_r, end - start + 1)\n",
    "                \n",
    "print(max_r)"
   ]
  },
  {
   "cell_type": "markdown",
   "metadata": {},
   "source": [
    "https://www.acmicpc.net/problem/12013 248 게임"
   ]
  },
  {
   "cell_type": "code",
   "execution_count": 200,
   "metadata": {},
   "outputs": [
    {
     "name": "stdout",
     "output_type": "stream",
     "text": [
      "4\n",
      "1\n",
      "1\n",
      "1\n",
      "2\n",
      "3\n"
     ]
    }
   ],
   "source": [
    "import io, os, sys\n",
    "input = io.BytesIO(os.read(0, os.fstat(0).st_size)).readline\n",
    "\n",
    "n = int(input())\n",
    "li = [int(input()) for _ in range(n)]\n",
    "\n",
    "dp_ip = [[False] * n for _ in range(n)]\n",
    "dp_v = [[-1] * n for _ in range(n)]\n",
    "\n",
    "for i in range(n):\n",
    "    dp_ip[i][i] = True\n",
    "    dp_v[i][i] = li[i]\n",
    "    \n",
    "for term in range(1, n):\n",
    "    for left_start in range(n - term):\n",
    "        right_end = left_start + term\n",
    "        if right_end >= n:\n",
    "            break\n",
    "        \n",
    "        for left_end in range(left_start, right_end):\n",
    "            if dp_ip[left_start][left_end] and dp_ip[left_end + 1][right_end]:\n",
    "                if dp_v[left_start][left_end] == dp_v[left_end + 1][right_end]:\n",
    "                    dp_ip[left_start][right_end] = True\n",
    "                    dp_v[left_start][right_end] = dp_v[left_start][left_end] + 1\n",
    "\n",
    "max_r = 0\n",
    "for i in range(n):\n",
    "    max_r = max(max_r, max(dp_v[i]))\n",
    "    \n",
    "print(max_r)"
   ]
  },
  {
   "cell_type": "markdown",
   "metadata": {},
   "source": [
    "https://www.acmicpc.net/problem/1231 주식왕 동호"
   ]
  },
  {
   "cell_type": "markdown",
   "metadata": {},
   "source": [
    "7:56  그때 그때의 주식의 환산 가치를 최대화하기\n",
    "8.02  전날과의 비교를 이용해 전날 얻을 수 있는 최대를 가방의 크기로 하고\n",
    "      전날 주식의 비용을 무게로 하고 오늘과 전날의 차를 value로 하는 배낭 dp를\n",
    "      2일날부터 마지막 일까지 사용함\n",
    "      \n",
    "      "
   ]
  },
  {
   "cell_type": "code",
   "execution_count": 2,
   "metadata": {},
   "outputs": [
    {
     "data": {
      "text/plain": [
       "225000000"
      ]
     },
     "execution_count": 2,
     "metadata": {},
     "output_type": "execute_result"
    }
   ],
   "source": [
    "500000 * 50 * 9"
   ]
  },
  {
   "cell_type": "code",
   "execution_count": null,
   "metadata": {},
   "outputs": [],
   "source": [
    "inf = float('inf')\n",
    "\n",
    "c, d, cur = map(int, input().split())\n",
    "li = [list(map(int, input().split())) for _ in range(c)]\n",
    "\n",
    "for t in range(1, d):\n",
    "    dp = [-inf] * (cur + 1)\n",
    "    dp[0] = 0\n",
    "    \n",
    "    ncur = 0\n",
    "    for i in range(c):\n",
    "        fcost = li[i][t - 1]\n",
    "        cost = li[i][t]\n",
    "        diff = cost - fcost\n",
    "        if diff <= 0:\n",
    "            continue\n",
    "        \n",
    "        for j in range(fcost, cur + 1):\n",
    "            dp[j] = max(dp[j], dp[j - fcost] + diff)\n",
    "            ncur = max(ncur, dp[j])\n",
    "            \n",
    "    cur += ncur\n",
    "    \n",
    "print(cur)"
   ]
  },
  {
   "cell_type": "markdown",
   "metadata": {},
   "source": [
    "https://www.acmicpc.net/problem/1884 고속도로"
   ]
  },
  {
   "cell_type": "code",
   "execution_count": null,
   "metadata": {},
   "outputs": [],
   "source": [
    "from heapq import heappush, heappop\n",
    "import io, os, sys\n",
    "input = io.BytesIO(os.read(0, os.fstat(0).st_size)).readline\n",
    "\n",
    "inf = float('inf')\n",
    "\n",
    "k = int(input())\n",
    "n = int(input())\n",
    "r = int(input())\n",
    "\n",
    "li = [[] for _ in range(n + 1)]\n",
    "for _ in range(r):\n",
    "    s, d, l, t = map(int, input().split())\n",
    "    li[s].append((d, l, t))\n",
    "\n",
    "dists = [[inf] * (k + 1) for _ in range(n + 1)] # dists[num][cost]\n",
    "dists[1][0] = 0\n",
    "\n",
    "heap = [(0, 0, 1)] # dist, cost, num \n",
    "while heap:\n",
    "    dist, cost, value = heappop(heap)\n",
    "    \n",
    "    if value == n:\n",
    "        break\n",
    "    if dist > dists[value][cost]:\n",
    "        continue\n",
    "        \n",
    "    for v, l, t in li[value]:\n",
    "        ncost = cost + t\n",
    "        ndist = dist + l\n",
    "        \n",
    "        if ncost > k:\n",
    "            continue\n",
    "        if ndist < dists[v][ncost]:\n",
    "            dists[v][ncost] = ndist\n",
    "            heappush(heap, (ndist, ncost, v))\n",
    "            \n",
    "r = min(dists[n])\n",
    "\n",
    "if r == inf:\n",
    "    print(-1)\n",
    "else:\n",
    "    print(r)"
   ]
  },
  {
   "cell_type": "markdown",
   "metadata": {},
   "source": [
    "https://www.acmicpc.net/problem/1945 직사각형"
   ]
  },
  {
   "cell_type": "code",
   "execution_count": 40,
   "metadata": {},
   "outputs": [
    {
     "name": "stdout",
     "output_type": "stream",
     "text": [
      "2\n",
      "3 3 4 4\n",
      "3 9 4 10\n",
      "[[(4, 3), (3, 4), 1], [(4, 9), (3, 10), 1]]\n",
      "1\n"
     ]
    }
   ],
   "source": [
    "from copy import deepcopy\n",
    "import functools\n",
    "import io, os, sys\n",
    "input = io.BytesIO(os.read(0, os.fstat(0).st_size)).readline\n",
    "\n",
    "def compare(u, v):\n",
    "    (x1, y1), tp1 = u\n",
    "    (x2, y2), tp2 = v\n",
    "    \n",
    "    r1 = y1 * x2\n",
    "    r2 = x1 * y2\n",
    "    \n",
    "    if r1 < r2:\n",
    "        return -1\n",
    "    elif r1 == r2:\n",
    "        if tp1 == -1 and tp2 == 1:\n",
    "            return 1\n",
    "        else:\n",
    "            return -1\n",
    "    else:\n",
    "        return 1\n",
    "\n",
    "n = int(input())\n",
    "\n",
    "li = []\n",
    "for i in range(n):\n",
    "    xbl, ybl, xtr, ytr = list(map(int, input().split()))\n",
    "    \n",
    "    li.append([(xtr, ybl), 1])\n",
    "    li.append([(xbl, ytr), -1])\n",
    "    \n",
    "li.sort(key=functools.cmp_to_key(compare))\n",
    "\n",
    "max_c = 0\n",
    "c = 0\n",
    "for i in range(n * 2):\n",
    "    if li[i][1] == 1:\n",
    "        c += 1\n",
    "    else:\n",
    "        c -= 1\n",
    "        \n",
    "    max_c = max(max_c, c)\n",
    "    \n",
    "print(max_c)"
   ]
  },
  {
   "cell_type": "markdown",
   "metadata": {},
   "source": [
    "https://www.acmicpc.net/problem/2066 카드놀이"
   ]
  },
  {
   "cell_type": "code",
   "execution_count": null,
   "metadata": {},
   "outputs": [],
   "source": [
    "li = [list(map(lambda x: x[0], input().split())) for _ in range(9)]\n",
    "\n",
    "dp = {tuple([3] * 9): 1}\n",
    "\n",
    "for _ in range(18):\n",
    "    ndp = {}\n",
    "    for key, value in dp.items():\n",
    "        c = 0\n",
    "        temp = {}\n",
    "        for i in range(9):\n",
    "            for j in range(i + 1, 9):\n",
    "                h1 = key[i]\n",
    "                h2 = key[j]\n",
    "                \n",
    "                if h1 == -1 or h2 == -1:\n",
    "                    continue\n",
    "                \n",
    "                if li[i][h1] == li[j][h2]:\n",
    "                    nkey = list(key)\n",
    "                    nkey[i] -= 1\n",
    "                    nkey[j] -= 1\n",
    "                    nkey = tuple(nkey)\n",
    "                    \n",
    "                    if nkey in temp:\n",
    "                        temp[nkey] += 1\n",
    "                    else:\n",
    "                        temp[nkey] = 1\n",
    "                                      \n",
    "                    c += 1\n",
    "                    \n",
    "        for key in temp:\n",
    "            nvalue = value * temp[key] / c\n",
    "            \n",
    "            if key in ndp:\n",
    "                ndp[key] += nvalue\n",
    "            else:\n",
    "                ndp[key] = nvalue\n",
    "        \n",
    "    dp = ndp.copy()\n",
    "    \n",
    "last_state = tuple([-1] * 9)\n",
    "\n",
    "if last_state not in dp:\n",
    "    print(0)\n",
    "else:\n",
    "    print(dp[last_state])"
   ]
  },
  {
   "cell_type": "markdown",
   "metadata": {},
   "source": [
    "https://www.acmicpc.net/contest/problem/1074/1 A번 - Hasty Santa Claus"
   ]
  },
  {
   "cell_type": "code",
   "execution_count": 5,
   "metadata": {},
   "outputs": [
    {
     "name": "stdout",
     "output_type": "stream",
     "text": [
      "6 2\n",
      "24 25\n",
      "24 25\n",
      "24 25\n",
      "25 26\n",
      "25 26\n",
      "25 26\n",
      "24\n",
      "24\n",
      "25\n",
      "25\n",
      "26\n",
      "26\n"
     ]
    }
   ],
   "source": [
    "import io, os, sys\n",
    "input = io.BytesIO(os.read(0, os.fstat(0).st_size)).readline\n",
    "\n",
    "n, k = map(int, input().split())\n",
    "li = [list(map(int, input().split())) + [i] for i in range(n)]\n",
    "\n",
    "li.sort(key=lambda x: (x[1], x[0]))\n",
    "\n",
    "used_cs = [0] * 32\n",
    "result = [0] * n\n",
    "for i in range(n):\n",
    "    a, b, index = li[i]\n",
    "    \n",
    "    for day in range(a, b + 1):\n",
    "        if used_cs[day] < k:\n",
    "            used_cs[day] += 1\n",
    "            result[index] = day\n",
    "            break\n",
    "            \n",
    "for i in range(n):\n",
    "    print(result[i])"
   ]
  },
  {
   "cell_type": "markdown",
   "metadata": {},
   "source": [
    "https://www.acmicpc.net/problem/2499 의좋은 형제"
   ]
  },
  {
   "cell_type": "code",
   "execution_count": 7,
   "metadata": {},
   "outputs": [
    {
     "data": {
      "text/plain": [
       "16000000"
      ]
     },
     "execution_count": 7,
     "metadata": {},
     "output_type": "execute_result"
    }
   ],
   "source": [
    "(100 * 20 * 20) * 20 * 20"
   ]
  },
  {
   "cell_type": "code",
   "execution_count": null,
   "metadata": {},
   "outputs": [],
   "source": [
    "n = int(input())\n",
    "li = [list(map(int, input().split())) for _ in range(n)]\n",
    "\n",
    "total_sv = 0\n",
    "for i in range(n):\n",
    "    for j in range(n):\n",
    "        total_sv += li[i][j]\n",
    "        \n",
    "froms = [[[-1] * (total_sv + 1) for _ in range(n)] for _ in range(n)]\n",
    "\n",
    "j = 0\n",
    "sv = 0\n",
    "for i in range(n - 1, -1, -1):\n",
    "    sv += li[i][j]\n",
    "\n",
    "    froms[i][j][sv] = 0\n",
    "        \n",
    "i = n - 1\n",
    "sv = li[n - 1][0]\n",
    "for j in range(1, n):\n",
    "    sv += li[i][j]\n",
    "    \n",
    "    froms[i][j][sv] = n - 1\n",
    "    \n",
    "for j in range(1, n):\n",
    "    for i in range(n - 2, -1, -1):\n",
    "        for fsv in range(total_sv + 1):\n",
    "            sv = fsv + li[i][j]\n",
    "            if froms[i + 1][j][fsv] != -1:\n",
    "                froms[i][j][sv] = froms[i + 1][j][fsv]\n",
    "                \n",
    "            if froms[i][j - 1][fsv] != -1:\n",
    "                froms[i][j][sv] = \n",
    "                \n"
   ]
  },
  {
   "cell_type": "code",
   "execution_count": null,
   "metadata": {},
   "outputs": [],
   "source": [
    "5 1\n",
    "4\n",
    "\n",
    "\n",
    "5, 1\n",
    "1\n",
    "\n",
    "5, 1\n",
    "4\n"
   ]
  },
  {
   "cell_type": "code",
   "execution_count": null,
   "metadata": {},
   "outputs": [],
   "source": [
    "주변이 너무 작음 -> 주변을 max로, 현재가 너무 작음 -> 현재를 max로, 주변이 너무 작음 -> 주변을 max로\n",
    "현재가 너무 작음 -> 현재를 max로, 주변이 너무 작음 -> 주변을 max로, 현재가 너무 작음 -> 현재를 max로"
   ]
  },
  {
   "cell_type": "code",
   "execution_count": 13,
   "metadata": {},
   "outputs": [
    {
     "name": "stdout",
     "output_type": "stream",
     "text": [
      "1 1 0 5\n",
      "1\n",
      "0\n"
     ]
    }
   ],
   "source": [
    "from collections import deque\n",
    "from copy import deepcopy\n",
    "\n",
    "dx = [0, 0, -1, 1]\n",
    "dy = [-1, 1, 0, 0]\n",
    "\n",
    "def check(mid):\n",
    "    nli = deepcopy(li)\n",
    "    \n",
    "    c = 0\n",
    "    \n",
    "    vt = [[False] * m for _ in range(n)]\n",
    "    vt[0][0] = True\n",
    "    \n",
    "    queue = deque()\n",
    "    queue.append((0, 0))\n",
    "    while queue:\n",
    "        x, y = queue.popleft()\n",
    "        \n",
    "        for d in range(4):\n",
    "            nx = x + dx[d]\n",
    "            ny = y + dy[d]\n",
    "            \n",
    "            if nx < 0 or nx >= n or ny < 0 or ny >= m:\n",
    "                continue\n",
    "            \n",
    "            if nli[nx][ny] + mid < nli[x][y]:\n",
    "                nli[nx][ny] = max_v\n",
    "                c += 1\n",
    "                \n",
    "                vt[nx][ny] = True\n",
    "                queue.append((nx, ny))\n",
    "                \n",
    "            if not vt[nx][ny]:\n",
    "                vt[nx][ny] = True\n",
    "                queue.append((nx, ny))\n",
    "    \n",
    "    if c <= k:\n",
    "        return True\n",
    "    else:\n",
    "        return False\n",
    "           \n",
    "n, m, k, max_v = map(int, input().split())\n",
    "li = [list(map(int, input().split())) for _ in range(n)]\n",
    "\n",
    "start = 0\n",
    "end = max_v\n",
    "result = end\n",
    "while start <= end:\n",
    "    mid = (start + end) // 2\n",
    "    \n",
    "    if check(mid):\n",
    "        result = mid\n",
    "        end = mid - 1\n",
    "    else:\n",
    "        start = mid + 1\n",
    "        \n",
    "print(result)"
   ]
  },
  {
   "cell_type": "code",
   "execution_count": null,
   "metadata": {},
   "outputs": [],
   "source": [
    "10 9 8 1\n",
    "\n",
    "     100 100"
   ]
  },
  {
   "cell_type": "markdown",
   "metadata": {},
   "source": [
    "A번 - 10!"
   ]
  },
  {
   "cell_type": "code",
   "execution_count": 3,
   "metadata": {},
   "outputs": [
    {
     "name": "stdout",
     "output_type": "stream",
     "text": [
      "17\n",
      "588107520\n"
     ]
    }
   ],
   "source": [
    "n = int(input())\n",
    "\n",
    "r = 6\n",
    "for i in range(11, n + 1):\n",
    "    r *= i\n",
    "    \n",
    "print(r)"
   ]
  },
  {
   "cell_type": "code",
   "execution_count": 5,
   "metadata": {},
   "outputs": [
    {
     "name": "stdout",
     "output_type": "stream",
     "text": [
      "17\n",
      "588107520\n"
     ]
    }
   ],
   "source": [
    "r=6\n",
    "for i in range(11,int(input())+1):r*=i\n",
    "print(r)"
   ]
  },
  {
   "cell_type": "markdown",
   "metadata": {},
   "source": [
    "https://www.acmicpc.net/problem/28421 곱하기와 쿼리"
   ]
  },
  {
   "cell_type": "code",
   "execution_count": null,
   "metadata": {},
   "outputs": [],
   "source": [
    "# 작성중\n",
    "from collections import Counter\n",
    "\n",
    "def get_divisors(num):\n",
    "    divisors = []\n",
    "    for mod in range(1, int(num ** 0.5)):\n",
    "        if num % mod == 0:\n",
    "            divisors.append(mod)\n",
    "            divisors.append(num // mod)\n",
    "            \n",
    "    mod = int(num ** 0.5)\n",
    "    if num % mod == 0:\n",
    "        divisors.append(mod)\n",
    "        if num // mod != mod:\n",
    "            divisors.append(num // mod)\n",
    "            \n",
    "    return sorted(divisors)\n",
    "\n",
    "get_divisors(12)\n",
    "\n",
    "n, q = map(int, input().split())\n",
    "li = list(map(int, input().split()))\n",
    "\n",
    "ct = Counter(li)\n",
    "\n"
   ]
  }
 ],
 "metadata": {
  "kernelspec": {
   "display_name": "Python 3",
   "language": "python",
   "name": "python3"
  },
  "language_info": {
   "codemirror_mode": {
    "name": "ipython",
    "version": 3
   },
   "file_extension": ".py",
   "mimetype": "text/x-python",
   "name": "python",
   "nbconvert_exporter": "python",
   "pygments_lexer": "ipython3",
   "version": "3.8.3"
  }
 },
 "nbformat": 4,
 "nbformat_minor": 4
}
