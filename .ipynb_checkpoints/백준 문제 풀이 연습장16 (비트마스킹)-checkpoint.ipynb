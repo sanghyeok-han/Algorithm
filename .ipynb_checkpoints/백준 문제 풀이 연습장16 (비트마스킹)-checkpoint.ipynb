{
 "cells": [
  {
   "cell_type": "markdown",
   "metadata": {},
   "source": [
    "#### - 비트에서 1 빨리 세는 법 참고\n",
    "https://stackoverflow.com/questions/8871204/count-number-of-1s-in-binary-representation"
   ]
  },
  {
   "cell_type": "markdown",
   "metadata": {},
   "source": [
    "### 이진수 연산 12813\n",
    "- 문자열"
   ]
  },
  {
   "cell_type": "code",
   "execution_count": null,
   "metadata": {},
   "outputs": [],
   "source": [
    "s1 = input()\n",
    "s2 = input()\n",
    "\n",
    "a = int(s1, 2)\n",
    "b = int(s2, 2)\n",
    "\n",
    "print(\"{:0>100000}\".format(bin(a & b)[2:]))\n",
    "print(\"{:0>100000}\".format(bin(a | b)[2:]))\n",
    "print(\"{:0>100000}\".format(bin(a ^ b)[2:]))\n",
    "\n",
    "bin_a = \"{:0>100000}\".format(bin(a)[2:])\n",
    "bin_b = \"{:0>100000}\".format(bin(b)[2:])\n",
    "\n",
    "result_bin_a = \"\"\n",
    "for v in bin_a:\n",
    "    result_bin_a += str(1 ^ int(v))\n",
    "    \n",
    "result_bin_b = \"\"\n",
    "for v in bin_b:\n",
    "    result_bin_b += str(1 ^ int(v))\n",
    "    \n",
    "print(result_bin_a)\n",
    "print(result_bin_b)"
   ]
  },
  {
   "cell_type": "code",
   "execution_count": null,
   "metadata": {},
   "outputs": [],
   "source": [
    "# 다른 사람 코드 (hijae, https://www.acmicpc.net/source/27629312)\n",
    "a=int(input(),2)\n",
    "b=int(input(),2)\n",
    "\n",
    "n = 100000\n",
    "mask=2**n-1\n",
    "\n",
    "print(format(a&b,'b').zfill(n))\n",
    "print(format(a|b,'b').zfill(n))\n",
    "print(format(a^b,'b').zfill(n))\n",
    "print(format(a^mask,'b').zfill(n))\n",
    "print(format(b^mask,'b').zfill(n))"
   ]
  },
  {
   "cell_type": "markdown",
   "metadata": {},
   "source": [
    "### 집합 11723 (다시 풀음)"
   ]
  },
  {
   "cell_type": "code",
   "execution_count": null,
   "metadata": {},
   "outputs": [],
   "source": [
    "import sys\n",
    "sys.stdin.readline"
   ]
  },
  {
   "cell_type": "code",
   "execution_count": null,
   "metadata": {},
   "outputs": [],
   "source": [
    "import sys\n",
    "input = lambda: sys.stdin.readline().rstrip()\n",
    "print = sys.stdout.write\n",
    "\n",
    "m = int(input())\n",
    "\n",
    "st = 1048576 # 1 << 20\n",
    "for _ in range(m):\n",
    "    q = input().split()\n",
    "    if q[0] == 'all':\n",
    "        st = 2097151 # 1 << 21 - 1\n",
    "    elif q[0] == 'empty':\n",
    "        st = 1048576 # 1 << 20\n",
    "    else:\n",
    "        value = int(q[1])\n",
    "        if q[0] == 'add':\n",
    "            st |= 1 << (value - 1)\n",
    "        elif q[0] == 'remove':\n",
    "            st &= 2097151 ^ (1 << (value - 1))\n",
    "        elif q[0] == 'check':\n",
    "            if st & (1 << (value - 1)):\n",
    "                print('1\\n')\n",
    "            else:\n",
    "                print('0\\n')\n",
    "        else:\n",
    "            st ^= 1 << (value - 1)"
   ]
  },
  {
   "cell_type": "markdown",
   "metadata": {},
   "source": [
    "https://www.acmicpc.net/problem/2825 수업시간에 교수님 몰래 교실을 나간 상근이"
   ]
  },
  {
   "cell_type": "code",
   "execution_count": 30,
   "metadata": {},
   "outputs": [
    {
     "name": "stdout",
     "output_type": "stream",
     "text": [
      "4\n",
      "32\n",
      "51\n",
      "123\n",
      "282\n",
      "4\n"
     ]
    }
   ],
   "source": [
    "from collections import defaultdict as dd\n",
    "import sys\n",
    "input = lambda: sys.stdin.readline().rstrip()\n",
    "\n",
    "n = int(input())\n",
    "li = [input() for _ in range(n)]\n",
    "\n",
    "ct = dd(int)\n",
    "for v in li:\n",
    "    temp = ['0'] * 10\n",
    "    for w in map(int, v):\n",
    "        temp[w] = '1'\n",
    "    \n",
    "    w = 1\n",
    "    total = 0\n",
    "    for v in temp:\n",
    "        total += w * int(v)\n",
    "        w *= 2\n",
    "        \n",
    "    ct[total] += 1\n",
    "    \n",
    "keys = list(ct)\n",
    "keys_len = len(keys)\n",
    "\n",
    "total = 0\n",
    "for i in range(keys_len):\n",
    "    for j in range(i + 1, keys_len):\n",
    "        if keys[i] & keys[j] != 0:\n",
    "            total += ct[keys[i]] * ct[keys[j]]\n",
    "            \n",
    "for key in keys:\n",
    "    c = ct[key]\n",
    "    total += c * (c - 1) // 2\n",
    "    \n",
    "print(total)"
   ]
  },
  {
   "cell_type": "markdown",
   "metadata": {},
   "source": [
    "https://www.acmicpc.net/problem/12944 재미있는 숫자 놀이"
   ]
  },
  {
   "cell_type": "code",
   "execution_count": 45,
   "metadata": {},
   "outputs": [
    {
     "name": "stdout",
     "output_type": "stream",
     "text": [
      "100 3\n",
      "2 3 7\n",
      "72\n"
     ]
    }
   ],
   "source": [
    "from itertools import combinations as comb\n",
    "from math import gcd\n",
    "\n",
    "lcm = lambda a, b: a * b // gcd(a, b)\n",
    "\n",
    "n, k = map(int, input().split())\n",
    "li = list(map(int, input().split()))\n",
    "\n",
    "ct = [0] * (k + 1)\n",
    "for c in range(1, k + 1):\n",
    "    for case in comb(li, c):\n",
    "        cur = case[0]\n",
    "        for i in range(1, c):\n",
    "            cur = lcm(cur, case[i])\n",
    "            \n",
    "        ct[c] += n // cur\n",
    "        \n",
    "total = 0\n",
    "for i in range(1, k + 1):\n",
    "    if i % 2 == 1:\n",
    "        total += ct[i]\n",
    "    else:\n",
    "        total -= ct[i]\n",
    "        \n",
    "print(total)"
   ]
  },
  {
   "cell_type": "markdown",
   "metadata": {},
   "source": [
    "https://www.acmicpc.net/problem/23948 The Equation"
   ]
  },
  {
   "cell_type": "code",
   "execution_count": 69,
   "metadata": {},
   "outputs": [
    {
     "name": "stdout",
     "output_type": "stream",
     "text": [
      "1\n",
      "3 27\n",
      "8 2 4\n",
      "Case #1: 12\n"
     ]
    }
   ],
   "source": [
    "import sys\n",
    "input = lambda: sys.stdin.readline().rstrip()\n",
    "\n",
    "for tn in range(int(input())):\n",
    "    n, m = map(int, input().split())\n",
    "    li = list(map(int, input().split()))\n",
    "\n",
    "    ct1 = [0] * 50\n",
    "    for num in li:\n",
    "        bn = bin(num)\n",
    "\n",
    "        cur = 0\n",
    "        for i in range(len(bn) - 1, 1, -1):\n",
    "            ct1[cur] += int(bn[i])\n",
    "            cur += 1\n",
    "\n",
    "    r = [0] * 50\n",
    "    cur = 0\n",
    "    w = 1\n",
    "    for i in range(50):\n",
    "        c1 = ct1[i]\n",
    "        c0 = n - ct1[i]\n",
    "\n",
    "        if c1 >= c0:\n",
    "            r[i] = 1\n",
    "            cur += w * c0\n",
    "        else:\n",
    "            r[i] = 0\n",
    "            cur += w * c1\n",
    "\n",
    "        w *= 2\n",
    "\n",
    "    if cur > m:\n",
    "        result = -1\n",
    "    else:\n",
    "        w = 2 ** 49\n",
    "        for i in range(49, -1, -1):\n",
    "            c1 = ct1[i]\n",
    "            c0 = n - ct1[i]\n",
    "\n",
    "            if r[i] == 0:\n",
    "                ncur = cur\n",
    "                ncur -= w * c1\n",
    "                ncur += w * c0\n",
    "\n",
    "                if ncur <= m:\n",
    "                    cur = ncur\n",
    "                    r[i] = 1\n",
    "\n",
    "            w //= 2\n",
    "\n",
    "        total = 0\n",
    "        w = 1\n",
    "        for i in range(50):\n",
    "            total += w * r[i]\n",
    "\n",
    "            w *= 2\n",
    "\n",
    "        result = total\n",
    "\n",
    "    print(f'Case #{tn + 1}: {result}')"
   ]
  },
  {
   "cell_type": "markdown",
   "metadata": {},
   "source": [
    "https://www.acmicpc.net/problem/3997 하이퍼드롬"
   ]
  },
  {
   "cell_type": "code",
   "execution_count": 3,
   "metadata": {},
   "outputs": [
    {
     "data": {
      "text/plain": [
       "(97, 122, 65, 90)"
      ]
     },
     "execution_count": 3,
     "metadata": {},
     "output_type": "execute_result"
    }
   ],
   "source": [
    "ord('a'), ord('z'), ord('A'), ord('Z')"
   ]
  },
  {
   "cell_type": "code",
   "execution_count": 4,
   "metadata": {},
   "outputs": [],
   "source": []
  },
  {
   "cell_type": "code",
   "execution_count": 15,
   "metadata": {},
   "outputs": [
    {
     "name": "stdout",
     "output_type": "stream",
     "text": [
      "3\n",
      "aAA\n",
      "5\n"
     ]
    }
   ],
   "source": [
    "to_num = dict()\n",
    "cur = 1\n",
    "for i in range(97, 123):\n",
    "    to_num[i] = cur\n",
    "    cur *= 2\n",
    "    \n",
    "for i in range(65, 91):\n",
    "    to_num[i] = cur\n",
    "    cur *= 2\n",
    "\n",
    "odd_len_checker = list(to_num.values())\n",
    "    \n",
    "n = int(input())\n",
    "s = input()\n",
    "\n",
    "ct_even = dict()\n",
    "ct_odd = dict()\n",
    "ct_odd[0] = 1\n",
    "\n",
    "total = 0\n",
    "cumul = 0\n",
    "for i in range(n):\n",
    "    num = to_num[ord(s[i])]\n",
    "    cumul ^= num\n",
    "    \n",
    "    if i % 2 == 0:\n",
    "        for v in odd_len_checker:\n",
    "            if cumul ^ v in ct_odd:\n",
    "                total += ct_odd[cumul ^ v]\n",
    "        \n",
    "        if cumul in ct_even:\n",
    "            total += ct_even[cumul]\n",
    "        \n",
    "        if cumul not in ct_even:\n",
    "            ct_even[cumul] = 1\n",
    "        else:\n",
    "            ct_even[cumul] += 1\n",
    "    else:\n",
    "        for v in odd_len_checker:\n",
    "            if cumul ^ v in ct_even:\n",
    "                total += ct_even[cumul ^ v]\n",
    "        \n",
    "        if cumul in ct_odd:\n",
    "            total += ct_odd[cumul]\n",
    "        \n",
    "        if cumul not in ct_odd:\n",
    "            ct_odd[cumul] = 1\n",
    "        else:\n",
    "            ct_odd[cumul] += 1\n",
    "        \n",
    "print(total)"
   ]
  },
  {
   "cell_type": "markdown",
   "metadata": {},
   "source": [
    "https://www.acmicpc.net/problem/23042 AND와 OR"
   ]
  },
  {
   "cell_type": "code",
   "execution_count": 17,
   "metadata": {},
   "outputs": [
    {
     "data": {
      "text/plain": [
       "(50, 56)"
      ]
     },
     "execution_count": 17,
     "metadata": {},
     "output_type": "execute_result"
    }
   ],
   "source": [
    "10*5, 7*8"
   ]
  },
  {
   "cell_type": "code",
   "execution_count": 19,
   "metadata": {},
   "outputs": [
    {
     "data": {
      "text/plain": [
       "(384, 256, 240)"
      ]
     },
     "execution_count": 19,
     "metadata": {},
     "output_type": "execute_result"
    }
   ],
   "source": [
    "2*4*6*8, 2*2*8*8, 2*2*6*10"
   ]
  },
  {
   "cell_type": "markdown",
   "metadata": {},
   "source": [
    "비트를 최대한 큰 쪽으로 몰아야 함"
   ]
  },
  {
   "cell_type": "code",
   "execution_count": 24,
   "metadata": {},
   "outputs": [
    {
     "name": "stdout",
     "output_type": "stream",
     "text": [
      "3\n",
      "3 6 10\n",
      "60\n"
     ]
    }
   ],
   "source": [
    "mod = int(1e9) + 7\n",
    "\n",
    "def get_bli(num):\n",
    "    bn = bin(num)\n",
    "    \n",
    "    cur = 0\n",
    "    temp = [0] * 30\n",
    "    for i in range(len(bn) - 1, 1, -1):\n",
    "        temp[cur] = int(bn[i])\n",
    "        cur += 1\n",
    "        \n",
    "    return temp\n",
    "\n",
    "def get_num(bli):\n",
    "    w = 1\n",
    "    temp = 0\n",
    "    for v in bli:\n",
    "        temp += w * v\n",
    "        w *= 2\n",
    "    return temp\n",
    "\n",
    "n = int(input())\n",
    "li = list(map(int, input().split()))\n",
    "\n",
    "nli = [get_bli(v) for v in li]\n",
    "r = [[0] * 30 for _ in range(n)]\n",
    "for bi in range(30):\n",
    "    c = 0\n",
    "    for i in range(n):\n",
    "        c += nli[i][bi]\n",
    "        \n",
    "    for i in range(c):\n",
    "        r[i][bi] = 1\n",
    "\n",
    "cur = 1\n",
    "for bli in r:\n",
    "    cur *= get_num(bli)\n",
    "    cur %= mod\n",
    "    \n",
    "print(cur)"
   ]
  },
  {
   "cell_type": "markdown",
   "metadata": {},
   "source": [
    "https://www.acmicpc.net/problem/2087 암호문"
   ]
  },
  {
   "cell_type": "code",
   "execution_count": 6,
   "metadata": {},
   "outputs": [
    {
     "data": {
      "text/plain": [
       "12"
      ]
     },
     "execution_count": 6,
     "metadata": {},
     "output_type": "execute_result"
    }
   ],
   "source": [
    "int('001100', 2)"
   ]
  },
  {
   "cell_type": "code",
   "execution_count": 7,
   "metadata": {},
   "outputs": [
    {
     "data": {
      "text/plain": [
       "'0b1100'"
      ]
     },
     "execution_count": 7,
     "metadata": {},
     "output_type": "execute_result"
    }
   ],
   "source": [
    "bin(12)"
   ]
  },
  {
   "cell_type": "code",
   "execution_count": 14,
   "metadata": {},
   "outputs": [
    {
     "name": "stdout",
     "output_type": "stream",
     "text": [
      "01111\n"
     ]
    }
   ],
   "source": [
    "from itertools import product\n",
    "import sys\n",
    "input = lambda: sys.stdin.readline().rstrip()\n",
    "\n",
    "n = int(input())\n",
    "li = [int(input()) for _ in range(n)]\n",
    "k = int(input())\n",
    "\n",
    "a = li[:n // 2]\n",
    "b = li[n // 2:]\n",
    "\n",
    "a_len = len(a)\n",
    "b_len = len(b)\n",
    "\n",
    "ad = dict()\n",
    "for case in product(*[range(2)] * a_len):\n",
    "    bit = ''.join(map(str, case))\n",
    "    num = int(bit, 2)\n",
    "    \n",
    "    temp = 0\n",
    "    for i in range(a_len):\n",
    "        if case[i]:\n",
    "            temp += a[i]\n",
    "            \n",
    "    ad[temp] = num\n",
    "    \n",
    "bd = dict()\n",
    "for case in product(*[range(2)] * b_len):\n",
    "    bit = ''.join(map(str, case))\n",
    "    num = int(bit, 2)\n",
    "    \n",
    "    temp = 0\n",
    "    for i in range(b_len):\n",
    "        if case[i]:\n",
    "            temp += b[i]\n",
    "            \n",
    "    bd[temp] = num\n",
    "    \n",
    "result = ''\n",
    "for akey in ad:\n",
    "    if k - akey in bd:\n",
    "        anum = ad[akey]\n",
    "        bnum = bd[k - akey]\n",
    "        \n",
    "        abit = bin(anum)[2:].rjust(a_len, '0')\n",
    "        bbit = bin(bnum)[2:].rjust(b_len, '0')\n",
    "        \n",
    "        result = abit + bbit\n",
    "        break\n",
    "        \n",
    "print(result)"
   ]
  },
  {
   "cell_type": "markdown",
   "metadata": {},
   "source": [
    "https://www.acmicpc.net/problem/23116 AND"
   ]
  },
  {
   "cell_type": "code",
   "execution_count": null,
   "metadata": {},
   "outputs": [],
   "source": [
    "0 있으면 0 2 0 3 0 4 이런 식으로 0을 추가해줌"
   ]
  },
  {
   "cell_type": "code",
   "execution_count": 24,
   "metadata": {},
   "outputs": [
    {
     "data": {
      "text/plain": [
       "2"
      ]
     },
     "execution_count": 24,
     "metadata": {},
     "output_type": "execute_result"
    }
   ],
   "source": [
    "3 & 6 & 2"
   ]
  },
  {
   "cell_type": "code",
   "execution_count": null,
   "metadata": {},
   "outputs": [],
   "source": [
    "모든거의 and, 값 모든거의 and, 값 ..."
   ]
  },
  {
   "cell_type": "code",
   "execution_count": 27,
   "metadata": {},
   "outputs": [
    {
     "name": "stdout",
     "output_type": "stream",
     "text": [
      "2\n",
      "1 2\n",
      "-1\n"
     ]
    }
   ],
   "source": [
    "import sys\n",
    "input = lambda: sys.stdin.readline().rstrip()\n",
    "\n",
    "for _ in range(int(input())):\n",
    "    n = int(input())\n",
    "    li = list(map(int, input().split()))\n",
    "\n",
    "    min_v = min(li)\n",
    "    cur = li[0]\n",
    "    for i in range(1, n):\n",
    "        cur &= li[i]\n",
    "\n",
    "    if cur != min_v:\n",
    "        print(-1)\n",
    "    else:\n",
    "        print(n * 2)\n",
    "        result = []\n",
    "        for v in li:\n",
    "            result.append(min_v)\n",
    "            result.append(v)\n",
    "\n",
    "        print(*result)"
   ]
  },
  {
   "cell_type": "markdown",
   "metadata": {},
   "source": [
    "https://www.acmicpc.net/problem/15981 상자 열기"
   ]
  },
  {
   "cell_type": "code",
   "execution_count": 38,
   "metadata": {},
   "outputs": [
    {
     "name": "stdout",
     "output_type": "stream",
     "text": [
      "2\n",
      "2 1 2\n",
      "2 1 3\n"
     ]
    }
   ],
   "source": [
    "from copy import deepcopy\n",
    "\n",
    "n = int(input())\n",
    "\n",
    "li = [list(range(1, n + 1))]\n",
    "\n",
    "result = []\n",
    "while len(li[0]) != 1:\n",
    "    cur_len = len(li[0])\n",
    "    divided_size = cur_len // 2\n",
    "    if cur_len % 2 != 0:\n",
    "        divided_size += 1\n",
    "        \n",
    "    nli = []\n",
    "    to_test = []\n",
    "    for part in li:\n",
    "        npart1 = part[:divided_size]\n",
    "        npart2 = part[divided_size:]\n",
    "        \n",
    "        to_test.extend(npart1)\n",
    "        \n",
    "        nli.append(npart1)\n",
    "        if npart2:\n",
    "            nli.append(npart2)\n",
    "            \n",
    "    li = deepcopy(nli)\n",
    "    \n",
    "    result.append(to_test)\n",
    "    \n",
    "print(len(result))\n",
    "for v in result:\n",
    "    print(len(v), *v)"
   ]
  },
  {
   "cell_type": "markdown",
   "metadata": {},
   "source": [
    "https://www.acmicpc.net/problem/13710 XOR 합 3"
   ]
  },
  {
   "cell_type": "code",
   "execution_count": 42,
   "metadata": {},
   "outputs": [
    {
     "data": {
      "text/plain": [
       "True"
      ]
     },
     "execution_count": 42,
     "metadata": {},
     "output_type": "execute_result"
    }
   ],
   "source": [
    "1e9 < 2**30"
   ]
  },
  {
   "cell_type": "code",
   "execution_count": 49,
   "metadata": {},
   "outputs": [
    {
     "name": "stdout",
     "output_type": "stream",
     "text": [
      "2\n",
      "1 2\n",
      "6\n"
     ]
    }
   ],
   "source": [
    "def get_bli(num):\n",
    "    bn = bin(num)\n",
    "    cur = 0\n",
    "    temp = [0] * 30\n",
    "    for i in range(len(bn) - 1, 1, -1):\n",
    "        temp[cur] = int(bn[i])\n",
    "        cur += 1\n",
    "        \n",
    "    return temp\n",
    "\n",
    "n = int(input())\n",
    "li = list(map(int, input().split()))\n",
    "\n",
    "nli = [get_bli(v) for v in li]\n",
    "\n",
    "total = 0\n",
    "w = 1\n",
    "for bi in range(30):\n",
    "    temp = 0\n",
    "    c0 = 1\n",
    "    c1 = 0\n",
    "    cumul = 0\n",
    "    for i in range(n):\n",
    "        v = nli[i][bi]\n",
    "        cumul ^= v\n",
    "        \n",
    "        if cumul == 0:\n",
    "            temp += c1\n",
    "        else:\n",
    "            temp += c0\n",
    "            \n",
    "        if cumul == 0:\n",
    "            c0 += 1\n",
    "        else:\n",
    "            c1 += 1\n",
    "        \n",
    "    total += temp * w\n",
    "    w *= 2\n",
    "    \n",
    "print(total)"
   ]
  },
  {
   "cell_type": "markdown",
   "metadata": {},
   "source": [
    "https://www.acmicpc.net/problem/24043 XOR 기계"
   ]
  },
  {
   "cell_type": "code",
   "execution_count": 64,
   "metadata": {},
   "outputs": [
    {
     "name": "stdout",
     "output_type": "stream",
     "text": [
      "2\n",
      "1 1\n",
      "1\n",
      "1\n"
     ]
    }
   ],
   "source": [
    "def recur(n):\n",
    "    if n == -1:\n",
    "        return []\n",
    "    elif n == 0:\n",
    "        return [0]\n",
    "    else:\n",
    "        temp = recur(n - 1)\n",
    "        return temp + [n] + temp\n",
    "        \n",
    "n = int(input())\n",
    "li = list(map(int, input().split()))\n",
    "\n",
    "used = []\n",
    "st = {0}\n",
    "\n",
    "for i in range(n):\n",
    "    if li[i] not in st:\n",
    "        used.append(i + 1)\n",
    "        nst = set()\n",
    "        for v in st:\n",
    "            nst.add(v ^ li[i])\n",
    "        st |= nst\n",
    "        \n",
    "indices = recur(len(used) - 1)\n",
    "result = [str(used[index]) for index in indices]\n",
    "\n",
    "print(len(result))\n",
    "print('\\n'.join(result))"
   ]
  }
 ],
 "metadata": {
  "kernelspec": {
   "display_name": "Python 3",
   "language": "python",
   "name": "python3"
  },
  "language_info": {
   "codemirror_mode": {
    "name": "ipython",
    "version": 3
   },
   "file_extension": ".py",
   "mimetype": "text/x-python",
   "name": "python",
   "nbconvert_exporter": "python",
   "pygments_lexer": "ipython3",
   "version": "3.7.4"
  }
 },
 "nbformat": 4,
 "nbformat_minor": 4
}
