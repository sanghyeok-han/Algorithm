{
 "cells": [
  {
   "cell_type": "markdown",
   "metadata": {},
   "source": [
    "### 기본 탐색 알고리즘 1543번"
   ]
  },
  {
   "cell_type": "code",
   "execution_count": 3,
   "metadata": {},
   "outputs": [
    {
     "name": "stdout",
     "output_type": "stream",
     "text": [
      "2\n"
     ]
    }
   ],
   "source": [
    "# 맞았음\n",
    "import re\n",
    "\n",
    "s = input()\n",
    "keyword = input()\n",
    "\n",
    "print(len(re.findall(keyword, s)))"
   ]
  },
  {
   "cell_type": "code",
   "execution_count": 34,
   "metadata": {},
   "outputs": [
    {
     "name": "stdout",
     "output_type": "stream",
     "text": [
      "ababababa\n",
      "aba\n",
      "3 bababa\n",
      "6 ba\n",
      "2\n"
     ]
    }
   ],
   "source": [
    "# 맞았음\n",
    "original_s = input()\n",
    "s = original_s\n",
    "keyword = input()\n",
    "\n",
    "count = 0\n",
    "current_index = 0\n",
    "\n",
    "while current_index < len(original_s):\n",
    "    try:\n",
    "        index = s.index(keyword)\n",
    "    except:\n",
    "        break\n",
    "    else:\n",
    "        count += 1\n",
    "        s = s[index + len(keyword):]\n",
    "        current_index += len(keyword)\n",
    "\n",
    "print(count)"
   ]
  },
  {
   "cell_type": "code",
   "execution_count": 45,
   "metadata": {},
   "outputs": [
    {
     "name": "stdout",
     "output_type": "stream",
     "text": [
      "abababa\n",
      "aba\n",
      "2\n"
     ]
    }
   ],
   "source": [
    "# 맞았음\n",
    "s = input()\n",
    "keyword = input()\n",
    "\n",
    "count = 0\n",
    "current_index = 0\n",
    "\n",
    "while current_index < len(s):\n",
    "    if s[current_index: current_index + len(keyword)] == keyword:\n",
    "        count += 1\n",
    "        current_index += len(keyword)\n",
    "    else:\n",
    "        current_index += 1\n",
    "\n",
    "print(count)"
   ]
  },
  {
   "cell_type": "code",
   "execution_count": 44,
   "metadata": {},
   "outputs": [
    {
     "data": {
      "text/plain": [
       "[2, 3, 4]"
      ]
     },
     "execution_count": 44,
     "metadata": {},
     "output_type": "execute_result"
    }
   ],
   "source": [
    "li = [2, 3, 4]\n",
    "li[:7]"
   ]
  },
  {
   "cell_type": "code",
   "execution_count": 46,
   "metadata": {},
   "outputs": [
    {
     "data": {
      "text/plain": [
       "2"
      ]
     },
     "execution_count": 46,
     "metadata": {},
     "output_type": "execute_result"
    }
   ],
   "source": [
    "\"ababa\".count(\"ab\")"
   ]
  },
  {
   "cell_type": "code",
   "execution_count": null,
   "metadata": {},
   "outputs": [],
   "source": [
    "## 예시 정답\n",
    "document = input()\n",
    "word = input()\n",
    "\n",
    "index = 0\n",
    "result = 0\n",
    "\n",
    "while len(document) - index >= len(word):\n",
    "    if document[index: index + len(word)] == word:\n",
    "        result += 1\n",
    "        index += len(word)\n",
    "    else:\n",
    "        index += 1\n",
    "print(result)"
   ]
  },
  {
   "cell_type": "code",
   "execution_count": null,
   "metadata": {},
   "outputs": [],
   "source": [
    "len(document)  >= len(word) + index"
   ]
  },
  {
   "cell_type": "code",
   "execution_count": null,
   "metadata": {},
   "outputs": [],
   "source": [
    "index + len(word) <= len(document)"
   ]
  },
  {
   "cell_type": "markdown",
   "metadata": {},
   "source": [
    "### 새 1568번"
   ]
  },
  {
   "cell_type": "code",
   "execution_count": 57,
   "metadata": {},
   "outputs": [
    {
     "name": "stdout",
     "output_type": "stream",
     "text": [
      "14\n",
      "7\n"
     ]
    }
   ],
   "source": [
    "# 맞았음\n",
    "n = int(input())\n",
    "\n",
    "bundle = 1\n",
    "count = 0\n",
    "while n != 0:\n",
    "    if n - bundle < 0:\n",
    "        bundle = 1\n",
    "        \n",
    "    n -= bundle\n",
    "    count += 1\n",
    "    bundle += 1\n",
    "print(count)"
   ]
  },
  {
   "cell_type": "code",
   "execution_count": 56,
   "metadata": {},
   "outputs": [
    {
     "name": "stdout",
     "output_type": "stream",
     "text": [
      "14\n",
      "7\n"
     ]
    }
   ],
   "source": [
    "# 예시 정답\n",
    "n = int(input())\n",
    "result = 0\n",
    "k = 1\n",
    "\n",
    "while n != 0:\n",
    "    if k > n:\n",
    "        k = 1\n",
    "        \n",
    "    n -= k\n",
    "    k += 1\n",
    "    result += 1\n",
    "print(result)"
   ]
  },
  {
   "cell_type": "markdown",
   "metadata": {},
   "source": [
    "### 베스트셀러 1302"
   ]
  },
  {
   "cell_type": "code",
   "execution_count": 76,
   "metadata": {},
   "outputs": [
    {
     "name": "stdout",
     "output_type": "stream",
     "text": [
      "3\n",
      "b\n",
      "a\n",
      "c\n",
      "b\n"
     ]
    }
   ],
   "source": [
    "# 맞았음\n",
    "from collections import Counter\n",
    "\n",
    "n = int(input())\n",
    "\n",
    "li = []\n",
    "for _ in range(n):\n",
    "    li.append(input())\n",
    "\n",
    "print(sorted([key for key, freq in Counter(li).most_common() if freq == Counter(li).most_common()[0][1]])[0])"
   ]
  },
  {
   "cell_type": "code",
   "execution_count": 79,
   "metadata": {},
   "outputs": [
    {
     "name": "stdout",
     "output_type": "stream",
     "text": [
      "5\n",
      "b\n",
      "b\n",
      "a\n",
      "a\n",
      "c\n",
      "a\n"
     ]
    }
   ],
   "source": [
    "# 예시 정답\n",
    "n = int(input())\n",
    "\n",
    "books = {}\n",
    "\n",
    "for _ in range(n):\n",
    "    book = input()\n",
    "    if book not in books:\n",
    "        books[book] = 1\n",
    "    else:\n",
    "        books[book] += 1\n",
    "\n",
    "target = max(books.values())\n",
    "array = []\n",
    "\n",
    "for book, number in books.items():\n",
    "    if number == target:\n",
    "        array.append(book)\n",
    "        \n",
    "print(sorted(array)[0])"
   ]
  },
  {
   "cell_type": "markdown",
   "metadata": {},
   "source": [
    "### 트로피 진열 1668"
   ]
  },
  {
   "cell_type": "code",
   "execution_count": 96,
   "metadata": {},
   "outputs": [
    {
     "name": "stdout",
     "output_type": "stream",
     "text": [
      "7\n",
      "3\n",
      "4\n",
      "6\n",
      "4\n",
      "3\n",
      "7\n",
      "2\n",
      "5\n",
      "3\n"
     ]
    }
   ],
   "source": [
    "# 맞았음\n",
    "n = int(input())\n",
    "li = []\n",
    "\n",
    "left_count = 0\n",
    "right_count = 0\n",
    "\n",
    "for _ in range(n):\n",
    "    li.append(int(input()))\n",
    "\n",
    "max_value = 0\n",
    "for v in li:\n",
    "    if v <= max_value:\n",
    "        pass\n",
    "    else:\n",
    "        max_value = v\n",
    "        left_count += 1\n",
    "\n",
    "li = list(reversed(li))\n",
    "\n",
    "max_value = 0\n",
    "for v in li:\n",
    "    if v <= max_value:\n",
    "        pass\n",
    "    else:\n",
    "        max_value = v\n",
    "        right_count += 1\n",
    "        \n",
    "print(left_count)\n",
    "print(right_count)"
   ]
  },
  {
   "cell_type": "code",
   "execution_count": 97,
   "metadata": {},
   "outputs": [
    {
     "name": "stdout",
     "output_type": "stream",
     "text": [
      "4\n",
      "1\n",
      "2\n",
      "4\n",
      "2\n",
      "3\n",
      "2\n"
     ]
    }
   ],
   "source": [
    "# 예시 정답\n",
    "def ascending(array):\n",
    "    now = array[0]\n",
    "    result = 1\n",
    "    for i in range(1, len(array)):\n",
    "        if now < array[i]:\n",
    "            result += 1\n",
    "            now = array[i]\n",
    "    return result\n",
    "    \n",
    "n = int(input())\n",
    "array = []\n",
    "\n",
    "for _ in range(n):\n",
    "    array.append(int(input()))\n",
    "    \n",
    "print(ascending(array))\n",
    "array.reverse()\n",
    "print(ascending(array))"
   ]
  },
  {
   "cell_type": "markdown",
   "metadata": {},
   "source": [
    "### 성 지키기 1236"
   ]
  },
  {
   "cell_type": "code",
   "execution_count": 102,
   "metadata": {},
   "outputs": [
    {
     "name": "stdout",
     "output_type": "stream",
     "text": [
      "3 3\n",
      "XXX\n",
      "...\n",
      "...\n"
     ]
    }
   ],
   "source": [
    "n, m = map(int, input().split(' '))\n",
    "\n",
    "castle = []\n",
    "for _ in range(n):\n",
    "    castle.append(list(input()))"
   ]
  },
  {
   "cell_type": "code",
   "execution_count": 103,
   "metadata": {},
   "outputs": [
    {
     "data": {
      "text/plain": [
       "[['X', 'X', 'X'], ['.', '.', '.'], ['.', '.', '.']]"
      ]
     },
     "execution_count": 103,
     "metadata": {},
     "output_type": "execute_result"
    }
   ],
   "source": [
    "castle"
   ]
  },
  {
   "cell_type": "code",
   "execution_count": 107,
   "metadata": {},
   "outputs": [],
   "source": [
    "empty_rows = []\n",
    "for i, row in enumerate(castle):\n",
    "    if \"X\" not in row:\n",
    "        empty_rows.append(i)"
   ]
  },
  {
   "cell_type": "code",
   "execution_count": 106,
   "metadata": {},
   "outputs": [],
   "source": [
    "empty_cols = []\n",
    "for i, col in enumerate(list(zip(*castle))):\n",
    "    if \"X\" not in col:\n",
    "        empty_cols.append(i) "
   ]
  },
  {
   "cell_type": "code",
   "execution_count": 108,
   "metadata": {},
   "outputs": [
    {
     "data": {
      "text/plain": [
       "[1, 2]"
      ]
     },
     "execution_count": 108,
     "metadata": {},
     "output_type": "execute_result"
    }
   ],
   "source": [
    "empty_rows"
   ]
  },
  {
   "cell_type": "code",
   "execution_count": 110,
   "metadata": {},
   "outputs": [
    {
     "data": {
      "text/plain": [
       "2"
      ]
     },
     "execution_count": 110,
     "metadata": {},
     "output_type": "execute_result"
    }
   ],
   "source": [
    "print(max([len(empty_rows), len(empty_cols)]))"
   ]
  },
  {
   "cell_type": "code",
   "execution_count": 111,
   "metadata": {},
   "outputs": [
    {
     "name": "stdout",
     "output_type": "stream",
     "text": [
      "4 4\n",
      "....\n",
      "....\n",
      "....\n",
      "....\n",
      "4\n"
     ]
    }
   ],
   "source": [
    "## 맞았음\n",
    "\n",
    "n, m = map(int, input().split(' '))\n",
    "\n",
    "castle = []\n",
    "for _ in range(n):\n",
    "    castle.append(list(input()))\n",
    "    \n",
    "empty_rows = []\n",
    "for i, row in enumerate(castle):\n",
    "    if \"X\" not in row:\n",
    "        empty_rows.append(i)\n",
    "        \n",
    "empty_cols = []\n",
    "for i, col in enumerate(list(zip(*castle))):\n",
    "    if \"X\" not in col:\n",
    "        empty_cols.append(i) \n",
    "        \n",
    "print(max([len(empty_rows), len(empty_cols)]))  "
   ]
  },
  {
   "cell_type": "code",
   "execution_count": 112,
   "metadata": {},
   "outputs": [
    {
     "name": "stdout",
     "output_type": "stream",
     "text": [
      "4 4\n",
      "....\n",
      "....\n",
      "....\n",
      "....\n",
      "4\n"
     ]
    }
   ],
   "source": [
    "n, m = map(int, input().split())\n",
    "array = []\n",
    "\n",
    "for _ in range(n):\n",
    "    array.append(input())\n",
    "    \n",
    "row = [0] * n\n",
    "column = [0] * m\n",
    "\n",
    "for i in range(n):\n",
    "    for j in range(m):\n",
    "        if array[i][j] == 'X':\n",
    "            row[i] = 1\n",
    "            column[j] = 1\n",
    "\n",
    "row_count = 0\n",
    "for i in range(n):\n",
    "    if row[i] == 0:\n",
    "        row_count += 1\n",
    "\n",
    "column_count = 0\n",
    "for j in range(n):\n",
    "    if column[j] == 0:\n",
    "        column_count += 1\n",
    "        \n",
    "print(max(row_count, column_count))"
   ]
  },
  {
   "cell_type": "markdown",
   "metadata": {},
   "source": [
    "## 공유기 설치 2110 "
   ]
  },
  {
   "cell_type": "code",
   "execution_count": 1,
   "metadata": {},
   "outputs": [],
   "source": [
    "from itertools import combinations\n"
   ]
  },
  {
   "cell_type": "code",
   "execution_count": 46,
   "metadata": {},
   "outputs": [],
   "source": [
    "n = 5\n",
    "c = 3"
   ]
  },
  {
   "cell_type": "code",
   "execution_count": 48,
   "metadata": {},
   "outputs": [
    {
     "name": "stdout",
     "output_type": "stream",
     "text": [
      "[1, 2, 4, 8, 9]\n"
     ]
    }
   ],
   "source": [
    "li = [1, 2, 8, 4, 9]\n",
    "li = sorted(li)\n",
    "print(li)"
   ]
  },
  {
   "cell_type": "code",
   "execution_count": 49,
   "metadata": {},
   "outputs": [],
   "source": [
    "diff_li = []\n",
    "for i in range(len(li) - 1):\n",
    "    diff_li.append(li[i + 1] - li[i])"
   ]
  },
  {
   "cell_type": "code",
   "execution_count": 50,
   "metadata": {},
   "outputs": [
    {
     "data": {
      "text/plain": [
       "[1, 2, 4, 1]"
      ]
     },
     "execution_count": 50,
     "metadata": {},
     "output_type": "execute_result"
    }
   ],
   "source": [
    "diff_li"
   ]
  },
  {
   "cell_type": "code",
   "execution_count": 51,
   "metadata": {},
   "outputs": [],
   "source": [
    "s = str(diff_li)"
   ]
  },
  {
   "cell_type": "code",
   "execution_count": 52,
   "metadata": {},
   "outputs": [
    {
     "data": {
      "text/plain": [
       "[2, 5, 8]"
      ]
     },
     "execution_count": 52,
     "metadata": {},
     "output_type": "execute_result"
    }
   ],
   "source": [
    "comma_indices = [i for i, v in enumerate(list(s)) if v == \",\"]\n",
    "comma_indices"
   ]
  },
  {
   "cell_type": "code",
   "execution_count": 41,
   "metadata": {},
   "outputs": [
    {
     "data": {
      "text/plain": [
       "[(2,), (5,), (8,)]"
      ]
     },
     "execution_count": 41,
     "metadata": {},
     "output_type": "execute_result"
    }
   ],
   "source": [
    "남은공유기수 = c - 2\n",
    "경우의수 = list(combinations(comma_indices, 남은공유기수))\n",
    "경우의수"
   ]
  },
  {
   "cell_type": "code",
   "execution_count": 42,
   "metadata": {},
   "outputs": [
    {
     "data": {
      "text/plain": [
       "'[1+ 2+ 4+ 1]'"
      ]
     },
     "execution_count": 42,
     "metadata": {},
     "output_type": "execute_result"
    }
   ],
   "source": [
    "s\n",
    "new_s = s.replace(\",\", \"+\")\n",
    "new_s"
   ]
  },
  {
   "cell_type": "code",
   "execution_count": 43,
   "metadata": {},
   "outputs": [
    {
     "data": {
      "text/plain": [
       "['[', '1', '+', ' ', '2', '+', ' ', '4', '+', ' ', '1', ']']"
      ]
     },
     "execution_count": 43,
     "metadata": {},
     "output_type": "execute_result"
    }
   ],
   "source": [
    "li_new_s = list(new_s)\n",
    "li_new_s"
   ]
  },
  {
   "cell_type": "code",
   "execution_count": 45,
   "metadata": {},
   "outputs": [
    {
     "name": "stdout",
     "output_type": "stream",
     "text": [
      "3\n"
     ]
    }
   ],
   "source": [
    "max_value = 0\n",
    "for 공유기설치위치들 in 경우의수:\n",
    "    li_new_s = list(new_s)\n",
    "    for 공유기설치위치 in 공유기설치위치들:\n",
    "        li_new_s[공유기설치위치] = \",\"\n",
    "        max_value_candidate = min(eval(\"\".join(li_new_s)))\n",
    "        if max_value_candidate > max_value:\n",
    "            max_value = max_value_candidate\n",
    "\n",
    "print(max_value)"
   ]
  },
  {
   "cell_type": "code",
   "execution_count": null,
   "metadata": {},
   "outputs": [],
   "source": [
    "## 메모리 초과\n",
    "from itertools import combinations\n",
    "import sys\n",
    "\n",
    "n, c = map(int, sys.stdin.readline().split(' '))\n",
    "\n",
    "li = []\n",
    "for _ in range(n):\n",
    "    li.append(int(sys.stdin.readline()))\n",
    "    \n",
    "li = sorted(li)\n",
    "\n",
    "li = [j-i for i, j in zip(li[:-1], li[1:])]\n",
    "\n",
    "s = str(li)\n",
    "del li\n",
    "\n",
    "comma_indices = [i for i, v in enumerate(list(s)) if v == \",\"]\n",
    "rest_c = c - 2\n",
    "cases = tuple(combinations(comma_indices, rest_c))\n",
    "del comma_indices\n",
    "\n",
    "new_s = s.replace(\",\", \"+\")\n",
    "del s\n",
    "\n",
    "max_value = 0\n",
    "for installed_locations in cases:\n",
    "    li_new_s = list(new_s)\n",
    "    for installed_location in installed_locations:\n",
    "        li_new_s[installed_location] = \",\"\n",
    "        max_value_candidate = min(eval(\"\".join(li_new_s)))\n",
    "        if max_value_candidate > max_value:\n",
    "            max_value = max_value_candidate\n",
    "\n",
    "print(max_value)"
   ]
  },
  {
   "cell_type": "code",
   "execution_count": 7,
   "metadata": {},
   "outputs": [
    {
     "name": "stdout",
     "output_type": "stream",
     "text": [
      "5 3\n",
      "1\n",
      "6\n",
      "7\n",
      "8\n",
      "9\n",
      "0\n"
     ]
    }
   ],
   "source": [
    "## 예시 정답\n",
    "n, c = list(map(int, input().split(' ')))\n",
    "\n",
    "array = []\n",
    "for _ in range(n):\n",
    "    array.append(int(input()))\n",
    "array = sorted(array)\n",
    "\n",
    "start = array[1] - array[0] # 이 부분 이해 안됨\n",
    "end = array[-1] - array[0]\n",
    "result = 0\n",
    "\n",
    "while(start <= end):\n",
    "    mid = (start + end) // 2\n",
    "    value = array[0]\n",
    "    count = 1\n",
    "    for i in range(1, len(array)):\n",
    "        if array[i] >= value + mid:\n",
    "            value = array[i]\n",
    "            count += 1\n",
    "    if count >= c:\n",
    "        start = mid + 1\n",
    "        result = mid\n",
    "    else:\n",
    "         end = mid - 1\n",
    "            \n",
    "print(result)"
   ]
  },
  {
   "cell_type": "code",
   "execution_count": 10,
   "metadata": {},
   "outputs": [
    {
     "name": "stdout",
     "output_type": "stream",
     "text": [
      "5 3\n",
      "1\n",
      "2\n",
      "8\n",
      "4\n",
      "9\n",
      "[1, 2, 4, 1]\n"
     ]
    }
   ],
   "source": [
    "n, c = map(int, input().split(' '))\n",
    "li = []\n",
    "for _ in range(n):\n",
    "    li.append(int(input()))\n",
    "li.sort()\n",
    "\n",
    "diff_li = [j - i for i, j in zip(li[:-1], li[1:])]\n",
    "\n",
    "max_gap = li[-1] - li[0]\n",
    "min_gap = min(diff_li)\n",
    "\n",
    "result = 0\n",
    "while min_gap <= max_gap:\n",
    "    mid_gap = (min_gap + max_gap) // 2\n",
    "    "
   ]
  },
  {
   "cell_type": "code",
   "execution_count": null,
   "metadata": {},
   "outputs": [],
   "source": [
    "import time\n",
    "while True:\n",
    "    "
   ]
  }
 ],
 "metadata": {
  "kernelspec": {
   "display_name": "Python 3",
   "language": "python",
   "name": "python3"
  },
  "language_info": {
   "codemirror_mode": {
    "name": "ipython",
    "version": 3
   },
   "file_extension": ".py",
   "mimetype": "text/x-python",
   "name": "python",
   "nbconvert_exporter": "python",
   "pygments_lexer": "ipython3",
   "version": "3.7.3"
  }
 },
 "nbformat": 4,
 "nbformat_minor": 4
}
