{
 "cells": [
  {
   "cell_type": "raw",
   "metadata": {},
   "source": [
    "딕셔너리에 숫자 추가하면 500000 - 해당 경험치를 보여줌"
   ]
  },
  {
   "cell_type": "code",
   "execution_count": 2,
   "metadata": {},
   "outputs": [],
   "source": [
    "s = '''Not Ratable\n",
    "0[37]\n",
    "N/A\n",
    "Unrated\n",
    "320[38]\n",
    "N/A[39]\n",
    "Bronze V\n",
    "480\n",
    "1.500\n",
    "Bronze IV\n",
    "672\n",
    "1.400\n",
    "Bronze III\n",
    "954\n",
    "1.420\n",
    "Bronze II\n",
    "1,374\n",
    "1.440\n",
    "Bronze I\n",
    "1,992\n",
    "1.450\n",
    "Silver V\n",
    "2,909\n",
    "1.460\n",
    "Silver IV\n",
    "4,276\n",
    "1.470\n",
    "Silver III\n",
    "6,329\n",
    "1.480\n",
    "Silver II\n",
    "9,430\n",
    "1.490\n",
    "Silver I\n",
    "14,145\n",
    "1.500\n",
    "Gold V\n",
    "21,288\n",
    "1.505\n",
    "Gold IV\n",
    "32,145\n",
    "1.510\n",
    "Gold III\n",
    "48,699\n",
    "1.515\n",
    "Gold II\n",
    "74,023\n",
    "1.520\n",
    "Gold I\n",
    "112,885\n",
    "1.525\n",
    "Platinum V\n",
    "172,714\n",
    "1.530\n",
    "Platinum IV\n",
    "265,117\n",
    "1.535\n",
    "Platinum III\n",
    "408,280\n",
    "1.540\n",
    "Platinum II\n",
    "630,792\n",
    "1.545\n",
    "Platinum I\n",
    "977,727\n",
    "1.550\n",
    "Diamond V\n",
    "1,520,366\n",
    "1.555\n",
    "Diamond IV\n",
    "2,371,771\n",
    "1.560\n",
    "Diamond III\n",
    "3,711,822\n",
    "1.565\n",
    "Diamond II\n",
    "5,827,560\n",
    "1.570\n",
    "Diamond I\n",
    "9,178,407\n",
    "1.575\n",
    "Ruby V\n",
    "14,501,883\n",
    "1.580\n",
    "Ruby IV\n",
    "22,985,485\n",
    "1.585\n",
    "Ruby III\n",
    "36,546,921\n",
    "1.590\n",
    "Ruby II\n",
    "58,292,339\n",
    "1.595\n",
    "Ruby I\n",
    "93,267,742\n",
    "1.600'''"
   ]
  },
  {
   "cell_type": "code",
   "execution_count": 12,
   "metadata": {},
   "outputs": [],
   "source": [
    "li = s.split('\\n')\n",
    "tiers = []\n",
    "exps = []\n",
    "for i in range(0, len(li), 3):\n",
    "    tiers.append(li[i])\n",
    "    exps.append(li[i + 1].replace(',', ''))"
   ]
  },
  {
   "cell_type": "code",
   "execution_count": 13,
   "metadata": {},
   "outputs": [],
   "source": [
    "tiers = tiers[2:]\n",
    "exps = exps[2:]"
   ]
  },
  {
   "cell_type": "code",
   "execution_count": 20,
   "metadata": {},
   "outputs": [],
   "source": [
    "count_dict = {tier: 0 for tier in tiers}"
   ]
  },
  {
   "cell_type": "code",
   "execution_count": 18,
   "metadata": {},
   "outputs": [],
   "source": [
    "exp_dict = {tier: int(exp) for tier, exp in zip(tiers, exps)}"
   ]
  },
  {
   "cell_type": "code",
   "execution_count": 19,
   "metadata": {},
   "outputs": [],
   "source": [
    "import pickle\n",
    "filename = 'exp_dict'\n",
    "outfile = open(filename, 'wb')\n",
    "\n",
    "pickle.dump(exp_dict, outfile)\n",
    "outfile.close()"
   ]
  },
  {
   "cell_type": "code",
   "execution_count": 21,
   "metadata": {},
   "outputs": [],
   "source": [
    "filename = 'count_dict'\n",
    "outfile = open(filename, 'wb')\n",
    "\n",
    "pickle.dump(count_dict, outfile)\n",
    "outfile.close()"
   ]
  },
  {
   "cell_type": "code",
   "execution_count": 22,
   "metadata": {},
   "outputs": [],
   "source": [
    "infile = open(filename,'rb')\n",
    "new_dict = pickle.load(infile)\n",
    "infile.close()"
   ]
  },
  {
   "cell_type": "code",
   "execution_count": null,
   "metadata": {},
   "outputs": [],
   "source": [
    "{'Bronze V': 0,\n",
    " 'Bronze IV': 0,\n",
    " 'Bronze III': 0,\n",
    " 'Bronze II': 0,\n",
    " 'Bronze I': 0,\n",
    " 'Silver V': 0,\n",
    " 'Silver IV': 0,\n",
    " 'Silver III': 0,\n",
    " 'Silver II': 0,\n",
    " 'Silver I': 0,\n",
    " 'Gold V': 0,\n",
    " 'Gold IV': 0,\n",
    " 'Gold III': 0,\n",
    " 'Gold II': 0,\n",
    " 'Gold I': 0,\n",
    " 'Platinum V': 0,\n",
    " 'Platinum IV': 0,\n",
    " 'Platinum III': 0,\n",
    " 'Platinum II': 0,\n",
    " 'Platinum I': 0,\n",
    " 'Diamond V': 0,\n",
    " 'Diamond IV': 0,\n",
    " 'Diamond III': 0,\n",
    " 'Diamond II': 0,\n",
    " 'Diamond I': 0,\n",
    " 'Ruby V': 0,\n",
    " 'Ruby IV': 0,\n",
    " 'Ruby III': 0,\n",
    " 'Ruby II': 0,\n",
    " 'Ruby I': 0}"
   ]
  }
 ],
 "metadata": {
  "kernelspec": {
   "display_name": "Python 3",
   "language": "python",
   "name": "python3"
  },
  "language_info": {
   "codemirror_mode": {
    "name": "ipython",
    "version": 3
   },
   "file_extension": ".py",
   "mimetype": "text/x-python",
   "name": "python",
   "nbconvert_exporter": "python",
   "pygments_lexer": "ipython3",
   "version": "3.7.3"
  }
 },
 "nbformat": 4,
 "nbformat_minor": 4
}
