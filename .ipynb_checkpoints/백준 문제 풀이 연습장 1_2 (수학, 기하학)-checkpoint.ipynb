{
 "cells": [
  {
   "cell_type": "markdown",
   "metadata": {},
   "source": [
    "### 터렛 1002"
   ]
  },
  {
   "cell_type": "code",
   "execution_count": 18,
   "metadata": {},
   "outputs": [
    {
     "name": "stdout",
     "output_type": "stream",
     "text": [
      "3\n",
      "0 0 13 40 0 37\n",
      "2\n",
      "0 0 3 0 7 4\n",
      "1\n",
      "1 1 1 1 1 5\n",
      "0\n"
     ]
    }
   ],
   "source": [
    "import sys\n",
    "# input = lambda: sys.stdin.readline().rstrip()\n",
    "\n",
    "for _ in range(int(input())):\n",
    "    x1, y1, r1, x2, y2, r2 = map(int, input().split())\n",
    "\n",
    "    if x1 == x2 and y1 == y2:    \n",
    "        if r1 == r2:\n",
    "            print(-1)\n",
    "        else:\n",
    "            print(0)\n",
    "    else:\n",
    "        dist = ((x2 - x1) ** 2 + (y2 - y1) ** 2) ** 0.5\n",
    "        \n",
    "        if dist + r1 < r2 or dist + r2 < r1:\n",
    "            print(0)\n",
    "        elif dist + r1 == r2 or dist + r2 == r1:\n",
    "            print(1)\n",
    "        elif dist == r1 + r2:\n",
    "            print(1)\n",
    "        elif dist > r1 + r2:\n",
    "            print(0)\n",
    "        else:\n",
    "            print(2)"
   ]
  },
  {
   "cell_type": "markdown",
   "metadata": {},
   "source": [
    "### 조약돌 꺼내기 13251"
   ]
  },
  {
   "cell_type": "code",
   "execution_count": 22,
   "metadata": {},
   "outputs": [
    {
     "name": "stdout",
     "output_type": "stream",
     "text": [
      "5\n",
      "12 2 34 13 17\n",
      "4\n",
      "0.035028830818304504\n"
     ]
    }
   ],
   "source": [
    "m = int(input())\n",
    "li = list(map(int, input().split()))\n",
    "k = int(input())\n",
    "\n",
    "total = sum(li)\n",
    "\n",
    "result = 0\n",
    "for v in li:\n",
    "    temp = 1\n",
    "    for i in range(k):\n",
    "        temp *= (v - i) / (total - i)\n",
    "    result += temp\n",
    "    \n",
    "print(result)"
   ]
  },
  {
   "cell_type": "markdown",
   "metadata": {},
   "source": [
    "### 마라톤 1 10655"
   ]
  },
  {
   "cell_type": "code",
   "execution_count": 23,
   "metadata": {},
   "outputs": [
    {
     "name": "stdout",
     "output_type": "stream",
     "text": [
      "4\n",
      "0 0\n",
      "8 3\n",
      "11 -1\n",
      "10 0\n",
      "14\n"
     ]
    }
   ],
   "source": [
    "import sys\n",
    "input = lambda: sys.stdin.readline().rstrip()\n",
    "\n",
    "n = int(input())\n",
    "li = [list(map(int, input().split())) for _ in range(n)]\n",
    "\n",
    "get_dist = lambda a, b: abs(a[0] - b[0]) + abs(a[1] - b[1])\n",
    "td = 0 # total dist\n",
    "for i in range(n - 1):\n",
    "    td += get_dist(li[i], li[i + 1])\n",
    "\n",
    "max_saved = 0\n",
    "for i in range(n - 2):\n",
    "    saved = get_dist(li[i], li[i + 1]) + get_dist(li[i + 1], li[i + 2]) - get_dist(li[i], li[i + 2])\n",
    "    max_saved = max(max_saved, saved)\n",
    "    \n",
    "print(td - max_saved)"
   ]
  },
  {
   "cell_type": "markdown",
   "metadata": {},
   "source": [
    "### 수 고르기 20186"
   ]
  },
  {
   "cell_type": "code",
   "execution_count": 30,
   "metadata": {},
   "outputs": [
    {
     "name": "stdout",
     "output_type": "stream",
     "text": [
      "1 1\n",
      "4\n",
      "4\n"
     ]
    }
   ],
   "source": [
    "n, k = map(int, input().split())\n",
    "li = sorted(map(int, input().split()), reverse=True)\n",
    "\n",
    "temp = (k - 1) * k // 2\n",
    "print(sum(li[:k]) - temp)"
   ]
  },
  {
   "cell_type": "markdown",
   "metadata": {},
   "source": [
    "### 징검다리 11561"
   ]
  },
  {
   "cell_type": "code",
   "execution_count": 38,
   "metadata": {},
   "outputs": [
    {
     "name": "stdout",
     "output_type": "stream",
     "text": [
      "1\n",
      "1000000\n",
      "1413\n"
     ]
    }
   ],
   "source": [
    "import sys\n",
    "# input = lambda: sys.stdin.readline().rstrip()\n",
    "\n",
    "get_sum = lambda x: x * (x + 1) // 2\n",
    "\n",
    "for _ in range(int(input())):\n",
    "    n = int(input())\n",
    "\n",
    "    cur = 1\n",
    "    while True:\n",
    "        if get_sum(cur) > n:\n",
    "            break\n",
    "        cur += 10000\n",
    "        \n",
    "    while get_sum(cur) > n:\n",
    "        cur -= 1\n",
    "        \n",
    "    print(cur)"
   ]
  },
  {
   "cell_type": "code",
   "execution_count": 39,
   "metadata": {},
   "outputs": [
    {
     "name": "stdout",
     "output_type": "stream",
     "text": [
      "4\n",
      "1\n",
      "1\n",
      "2\n",
      "1\n",
      "100\n",
      "13\n",
      "1000000\n",
      "1413\n"
     ]
    }
   ],
   "source": [
    "import sys\n",
    "# input = lambda: sys.stdin.readline().rstrip()\n",
    "\n",
    "get_sum = lambda x: x * (x + 1) // 2\n",
    "\n",
    "for _ in range(int(input())):\n",
    "    n = int(input())\n",
    "    \n",
    "    s = 1\n",
    "    e = n\n",
    "    result = 0\n",
    "    while s <= e:\n",
    "        mid = (s + e) // 2\n",
    "        if get_sum(mid) > n:\n",
    "            e = mid - 1\n",
    "        else:\n",
    "            result = mid\n",
    "            s = mid + 1\n",
    "            \n",
    "    print(result)"
   ]
  },
  {
   "cell_type": "markdown",
   "metadata": {},
   "source": [
    "### 나머지 계산 3944"
   ]
  },
  {
   "cell_type": "code",
   "execution_count": 57,
   "metadata": {
    "scrolled": true
   },
   "outputs": [
    {
     "name": "stdout",
     "output_type": "stream",
     "text": [
      "1\n",
      "6 432504023545112\n",
      "1\n"
     ]
    }
   ],
   "source": [
    "import sys\n",
    "# input = lambda: sys.stdin.readline().rstrip()\n",
    "\n",
    "for _ in range(int(input())):\n",
    "    b, d = input().split()\n",
    "    \n",
    "    b = int(b)\n",
    "    d = map(int, d)\n",
    "    \n",
    "    temp = 0\n",
    "    for v in d:\n",
    "        temp += v\n",
    "        \n",
    "    print(temp % (b - 1))"
   ]
  },
  {
   "cell_type": "code",
   "execution_count": 69,
   "metadata": {},
   "outputs": [
    {
     "name": "stdout",
     "output_type": "stream",
     "text": [
      "1\n",
      "10 7829\n",
      "8\n"
     ]
    }
   ],
   "source": [
    "import sys\n",
    "input = lambda: sys.stdin.readline().rstrip()\n",
    "\n",
    "get_value = lambda x: ord(x) - 48\n",
    "for _ in range(int(input())):\n",
    "    value = input()\n",
    "    \n",
    "    cur = 0\n",
    "    b = ''\n",
    "    while value[cur] != ' ':\n",
    "        b += value[cur]\n",
    "        cur += 1\n",
    "        \n",
    "    b = int(b)\n",
    "    cur += 1\n",
    "    lv = len(value)\n",
    "        \n",
    "    print(sum(map(get_value, value[cur: lv])) % (b - 1))"
   ]
  },
  {
   "cell_type": "markdown",
   "metadata": {},
   "source": [
    "### 다각형의 면적 2166"
   ]
  },
  {
   "cell_type": "code",
   "execution_count": 1,
   "metadata": {},
   "outputs": [
    {
     "name": "stdout",
     "output_type": "stream",
     "text": [
      "4\n",
      "0 0\n",
      "0 10\n",
      "10 10\n",
      "10 0\n",
      "100.0\n"
     ]
    }
   ],
   "source": [
    "import sys\n",
    "input = lambda: sys.stdin.readline().rstrip()\n",
    "\n",
    "n = int(input())\n",
    "\n",
    "a = []\n",
    "b = []\n",
    "for _ in range(n):\n",
    "    aa, bb = map(int, input().split())\n",
    "    a.append(aa)\n",
    "    b.append(bb)\n",
    "    \n",
    "a.append(a[0])\n",
    "b.append(b[0])\n",
    "    \n",
    "t1 = 0\n",
    "t2 = 0\n",
    "for i in range(n):\n",
    "    t1 += a[i] * b[i + 1]\n",
    "    t2 += a[i + 1] * b[i]\n",
    "    \n",
    "r = abs(t1 - t2) / 2\n",
    "\n",
    "print('{:.1f}'.format(r))"
   ]
  },
  {
   "cell_type": "markdown",
   "metadata": {},
   "source": [
    "### 이항 계수 3 11401"
   ]
  },
  {
   "cell_type": "code",
   "execution_count": 9,
   "metadata": {},
   "outputs": [
    {
     "name": "stdout",
     "output_type": "stream",
     "text": [
      "5 2\n",
      "10\n"
     ]
    }
   ],
   "source": [
    "mod = 1000000007\n",
    "\n",
    "n, k = map(int, input().split())\n",
    "\n",
    "t1 = 1\n",
    "for i in range(2, n + 1):\n",
    "    t1 *= i\n",
    "    t1 %= mod\n",
    "    \n",
    "t2 = 1\n",
    "for i in range(2, k + 1):\n",
    "    t2 *= i\n",
    "    t2 %= mod\n",
    "    \n",
    "t3 = 1\n",
    "for i in range(2, n - k + 1):\n",
    "    t3 *= i\n",
    "    t3 %= mod\n",
    "    \n",
    "r = t1 * pow(t2, mod - 2, mod) * pow(t3, mod - 2, mod)\n",
    "r %= mod\n",
    "\n",
    "print(r)"
   ]
  },
  {
   "cell_type": "markdown",
   "metadata": {},
   "source": [
    "### 이항 계수와 쿼리 13977"
   ]
  },
  {
   "cell_type": "code",
   "execution_count": 12,
   "metadata": {},
   "outputs": [
    {
     "name": "stdout",
     "output_type": "stream",
     "text": [
      "2\n",
      "2 1\n",
      "2\n",
      "5 4\n",
      "5\n"
     ]
    }
   ],
   "source": [
    "import sys\n",
    "# input = lambda: sys.stdin.readline().rstrip()\n",
    "\n",
    "mod = 1000000007\n",
    "max_num = 4000000\n",
    "\n",
    "factos = [0] * (max_num + 1)\n",
    "factos[0] = 1\n",
    "invs = [0] * (max_num + 1)\n",
    "cur = 1\n",
    "for i in range(1, max_num + 1):\n",
    "    cur *= i\n",
    "    cur %= mod\n",
    "    factos[i] = cur\n",
    "    \n",
    "invs[max_num] = pow(factos[max_num], mod - 2, mod)\n",
    "for i in range(max_num - 1, -1, -1):\n",
    "    invs[i] = (i + 1) * invs[i + 1] % mod\n",
    "\n",
    "m = int(input())\n",
    "for _ in range(m):\n",
    "    n, k = map(int, input().split())\n",
    "        \n",
    "    r = factos[n] * invs[k] * invs[n - k] % mod\n",
    "    \n",
    "    print(r)"
   ]
  },
  {
   "cell_type": "markdown",
   "metadata": {},
   "source": [
    "### 수열 2575"
   ]
  },
  {
   "cell_type": "code",
   "execution_count": 70,
   "metadata": {},
   "outputs": [
    {
     "name": "stdout",
     "output_type": "stream",
     "text": [
      "4\n",
      "2 1\n"
     ]
    }
   ],
   "source": [
    "m = int(input())\n",
    "\n",
    "ip = [False] * 2 + [True] * (m - 1)\n",
    "for mod in range(2, int(m ** 0.5) + 1):\n",
    "    if not ip[mod]:\n",
    "        continue\n",
    "    for v in range(mod * mod, m + 1, mod):\n",
    "        ip[v] = False\n",
    "primes = [i for i, v in enumerate(ip) if v]\n",
    "\n",
    "count = 0\n",
    "mm = m\n",
    "while True:\n",
    "    if mm == 4:\n",
    "        count += 2\n",
    "        break\n",
    "    if mm == 3:\n",
    "        count += 1\n",
    "        break\n",
    "    if mm == 2:\n",
    "        count += 1\n",
    "        break\n",
    "    if mm == 1:\n",
    "        count += 1\n",
    "        break\n",
    "    \n",
    "    mm -= 3\n",
    "    count += 1\n",
    "    \n",
    "print(count, end=' ')\n",
    "\n",
    "if m == 1:\n",
    "    print(1)\n",
    "else:\n",
    "    mm = m\n",
    "    count = 0\n",
    "    c2 = 0\n",
    "    for p in primes:\n",
    "        while True:\n",
    "            if mm % p == 0:\n",
    "                if p == 2:\n",
    "                    c2 += 1\n",
    "                else:\n",
    "                    count += 1\n",
    "\n",
    "                mm //= p\n",
    "            else:\n",
    "                break\n",
    "\n",
    "    count += c2 // 2\n",
    "    count += c2 % 2\n",
    "\n",
    "    print(count)"
   ]
  },
  {
   "cell_type": "markdown",
   "metadata": {},
   "source": [
    "### LCM(1, 2, ..., n) 11690"
   ]
  },
  {
   "cell_type": "code",
   "execution_count": null,
   "metadata": {},
   "outputs": [],
   "source": [
    "from math import gcd\n",
    "\n",
    "lcm = lambda a, b: a * b // gcd(a, b)\n",
    "\n",
    "n = int(input())\n",
    "\n"
   ]
  }
 ],
 "metadata": {
  "kernelspec": {
   "display_name": "Python 3",
   "language": "python",
   "name": "python3"
  },
  "language_info": {
   "codemirror_mode": {
    "name": "ipython",
    "version": 3
   },
   "file_extension": ".py",
   "mimetype": "text/x-python",
   "name": "python",
   "nbconvert_exporter": "python",
   "pygments_lexer": "ipython3",
   "version": "3.7.4"
  }
 },
 "nbformat": 4,
 "nbformat_minor": 4
}
