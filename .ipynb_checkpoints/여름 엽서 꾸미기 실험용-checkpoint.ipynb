{
 "cells": [
  {
   "cell_type": "code",
   "execution_count": null,
   "metadata": {},
   "outputs": [],
   "source": [
    "아직 기여 안된 풀 대상 문제들\n",
    "https://www.acmicpc.net/problem/7426\n",
    "https://www.acmicpc.net/problem/19720\n",
    "https://www.acmicpc.net/problem/7465\n",
    "https://www.acmicpc.net/problem/3706\n",
    "https://www.acmicpc.net/problem/22591\n",
    "https://www.acmicpc.net/problem/22382\n",
    "21381\n",
    "21384\n",
    "21385\n",
    "https://www.acmicpc.net/problem/24925"
   ]
  },
  {
   "cell_type": "code",
   "execution_count": 10,
   "metadata": {},
   "outputs": [
    {
     "name": "stdout",
     "output_type": "stream",
     "text": [
      "20\n"
     ]
    }
   ],
   "source": [
    "sys.setrecursionlimit(210000)\n",
    "\n",
    "def dfs(value, d):\n",
    "    global tm\n",
    "    global total\n",
    "    \n",
    "    vt[value] = True\n",
    "    total += tm * d\n",
    "    tm += 1\n",
    "    \n",
    "    for v in li[value]:\n",
    "        if not vt[v]:\n",
    "            dfs(v, d + 1)\n",
    "\n",
    "n, m, r = map(int, input().split())\n",
    "\n",
    "li = [[] for _ in range(n + 1)]\n",
    "for _ in range(m):\n",
    "    u, v = map(int, input().split())\n",
    "    \n",
    "    li[u].append(v)\n",
    "    li[v].append(u)\n",
    "    \n",
    "for i in range(1, n + 1):\n",
    "    li[i].sort()\n",
    "    \n",
    "total = 0\n",
    "tm = 1\n",
    "vt = [False] * (n + 1)\n",
    "dfs(r, 0)\n",
    "\n",
    "print(total)"
   ]
  },
  {
   "cell_type": "code",
   "execution_count": 18,
   "metadata": {},
   "outputs": [
    {
     "name": "stdout",
     "output_type": "stream",
     "text": [
      "3\n",
      "255 0 0\n",
      "0 255 0\n",
      "0 0 255\n",
      "64 64 64\n",
      "63\n"
     ]
    }
   ],
   "source": [
    "from itertools import combinations as comb\n",
    "\n",
    "def get_dist(a, b):\n",
    "    dist = 0\n",
    "    for j in range(3):\n",
    "        dist += abs(a[j] - b[j])\n",
    "    return dist\n",
    "\n",
    "n = int(input())\n",
    "li = [list(map(int, input().split())) for _ in range(n)]\n",
    "target = list(map(int, input().split()))\n",
    "\n",
    "min_r = float('inf')\n",
    "for num in range(2, min(7, n) + 1):\n",
    "    for case in comb(li, num):\n",
    "        temp = [0, 0, 0]\n",
    "        for i in range(num):\n",
    "            for j in range(3):      \n",
    "                temp[j] += case[i][j]\n",
    "        for j in range(3):\n",
    "            temp[j] //= num\n",
    "            \n",
    "        dist = get_dist(target, temp)\n",
    "        min_r = min(min_r, dist)\n",
    "        \n",
    "print(min_r)"
   ]
  },
  {
   "cell_type": "code",
   "execution_count": 16,
   "metadata": {},
   "outputs": [
    {
     "name": "stdout",
     "output_type": "stream",
     "text": [
      "30 5\n",
      "142506\n"
     ]
    }
   ],
   "source": [
    "def nCr(n, r):\n",
    "    if n - r < r:\n",
    "        r = n - r\n",
    "        \n",
    "    num = 1\n",
    "    for i in range(n, n - r, -1):\n",
    "        num *= i\n",
    "    \n",
    "    denom = 1\n",
    "    for i in range(2, r + 1):\n",
    "        denom *= i\n",
    "        \n",
    "    return num // denom\n",
    "\n",
    "\n",
    "n, k = map(int, input().split())\n",
    "r = nCr(n, k)\n",
    "\n",
    "print(r)"
   ]
  },
  {
   "cell_type": "markdown",
   "metadata": {},
   "source": [
    "물수제비 (SUJEBI)"
   ]
  },
  {
   "cell_type": "code",
   "execution_count": 22,
   "metadata": {},
   "outputs": [
    {
     "name": "stdout",
     "output_type": "stream",
     "text": [
      "6\n",
      "2 -5 4 -4 6 2\n",
      "3 6\n"
     ]
    }
   ],
   "source": [
    "n = int(input())\n",
    "li = list(map(int, input().split()))\n",
    "\n",
    "max_sv = 0\n",
    "max_sv_d = -1\n",
    "for d in range(n, 0, -1):\n",
    "    sv = 0\n",
    "    for i in range(d - 1, n, d):\n",
    "        sv += li[i]\n",
    "        \n",
    "    if sv >= max_sv:\n",
    "        max_sv = sv\n",
    "        max_sv_d = d\n",
    "        \n",
    "if max_sv == 0:\n",
    "    print(0, 0)\n",
    "else:\n",
    "    print(max_sv_d, max_sv)"
   ]
  },
  {
   "cell_type": "markdown",
   "metadata": {},
   "source": [
    "제국 10776"
   ]
  },
  {
   "cell_type": "code",
   "execution_count": null,
   "metadata": {},
   "outputs": [],
   "source": [
    "from collections import deque\n",
    "import sys\n",
    "input = lambda: sys.stdin.readline().rstrip()\n",
    "\n",
    "inf = float('inf')\n",
    "\n",
    "k, n, m = map(int, input().split())\n",
    "\n",
    "li = [[] for _ in range(n + 1)]\n",
    "for _ in range(m):\n",
    "    a, b, t, h = map(int, input().split())\n",
    "    li[a].append((b, t, h))\n",
    "    li[b].append((a, t, h))\n",
    "    \n",
    "a, b = map(int, input().split())\n",
    "\n",
    "dp = [[inf] * k for _ in range(n + 1)]\n",
    "dp[a][0] = 0\n",
    "\n",
    "queue = deque()\n",
    "queue.append((a, 0, 0)) # start, tm, damaged \n",
    "while queue:\n",
    "    value, tm, dam = queue.popleft()\n",
    "    if tm > dp[value][dam]:\n",
    "        continue\n",
    "    \n",
    "    for v, added_tm, added_dam in li[value]:\n",
    "        ndam = dam + added_dam\n",
    "        ntm = tm + added_tm\n",
    "        if dam + added_dam >= k:\n",
    "            continue\n",
    "        if ntm < dp[v][ndam]:\n",
    "            dp[v][ndam] = ntm\n",
    "            queue.append((v, ntm, ndam))\n",
    "    \n",
    "min_r = inf\n",
    "for dam in range(k):\n",
    "    min_r = min(min_r, dp[b][dam])\n",
    "        \n",
    "if min_r == inf:\n",
    "    print(-1)\n",
    "else:\n",
    "    print(min_r)"
   ]
  },
  {
   "cell_type": "code",
   "execution_count": 25,
   "metadata": {},
   "outputs": [
    {
     "data": {
      "text/plain": [
       "1158"
      ]
     },
     "execution_count": 25,
     "metadata": {},
     "output_type": "execute_result"
    }
   ],
   "source": [
    "197 + 210 + 201 + 201 + 349"
   ]
  },
  {
   "cell_type": "markdown",
   "metadata": {},
   "source": [
    "## 기여 안된 문제들"
   ]
  },
  {
   "cell_type": "markdown",
   "metadata": {},
   "source": [
    "### Shuffles 11232"
   ]
  },
  {
   "cell_type": "code",
   "execution_count": null,
   "metadata": {},
   "outputs": [],
   "source": [
    "n = int(input())\n",
    "s = input()\n",
    "\n"
   ]
  },
  {
   "cell_type": "code",
   "execution_count": null,
   "metadata": {},
   "outputs": [],
   "source": [
    "1 2 3 4 5 6 7 8\n",
    "\n",
    "\n",
    "2 1 4 3 6 5 8 7"
   ]
  },
  {
   "cell_type": "markdown",
   "metadata": {},
   "source": [
    "### Evaluation (Small) 14310"
   ]
  },
  {
   "cell_type": "code",
   "execution_count": null,
   "metadata": {},
   "outputs": [],
   "source": [
    "from copy import deepcopy\n",
    "import sys\n",
    "input = lambda: sys.stdin.readline().rstrip()\n",
    "\n",
    "for tn in range(int(input())):\n",
    "    n = int(input())\n",
    "    li = []\n",
    "    for _ in range(n):\n",
    "        temp = input().split('=')\n",
    "        assi = temp[0]\n",
    "\n",
    "        start = temp[1].find('(')\n",
    "        end = temp[1].find(')')\n",
    "\n",
    "        varis = temp[1][start + 1:end]\n",
    "        varis = varis.split(',')\n",
    "\n",
    "        li.append((assi, varis))\n",
    "\n",
    "    vt_assi = set()\n",
    "    nli = []\n",
    "    for assi, varis in li:\n",
    "        if varis[0] == '':\n",
    "             vt_assi.add(assi)\n",
    "        else:\n",
    "            nli.append((assi, varis))\n",
    "\n",
    "    result = False\n",
    "    while True:\n",
    "        li = deepcopy(nli)\n",
    "        nli = []\n",
    "        is_ch = False\n",
    "\n",
    "        for assi, varis in li:\n",
    "            ip = True\n",
    "            for var in varis:\n",
    "                if var not in vt_assi:\n",
    "                    ip = False\n",
    "                    break\n",
    "            if ip:\n",
    "                vt_assi.add(assi)\n",
    "                is_ch = True\n",
    "            else:\n",
    "                nli.append((assi, varis))\n",
    "\n",
    "        if not nli:\n",
    "            result = 'GOOD'\n",
    "            break\n",
    "        if not is_ch:\n",
    "            result = 'BAD'\n",
    "            break\n",
    "\n",
    "    print(f'Case #{tn + 1}: {result}')"
   ]
  },
  {
   "cell_type": "code",
   "execution_count": null,
   "metadata": {},
   "outputs": [],
   "source": [
    "from copy import deepcopy\n",
    "import sys\n",
    "input = lambda: sys.stdin.readline().rstrip()\n",
    "\n",
    "for tn in range(int(input())):\n",
    "    n = int(input())\n",
    "    li = []\n",
    "    for _ in range(n):\n",
    "        temp = input().split('=')\n",
    "        assi = temp[0]\n",
    "\n",
    "        start = temp[1].find('(')\n",
    "        end = temp[1].find(')')\n",
    "\n",
    "        varis = temp[1][start + 1:end]\n",
    "        varis = varis.split(',')\n",
    "\n",
    "        li.append((assi, varis))\n",
    "\n",
    "    vt_assi = set()\n",
    "    nli = []\n",
    "    for assi, varis in li:\n",
    "        if varis[0] == '':\n",
    "             vt_assi.add(assi)\n",
    "        else:\n",
    "            nli.append((assi, varis))\n",
    "\n",
    "    result = False\n",
    "    while True:\n",
    "        li = deepcopy(nli)\n",
    "        nli = []\n",
    "        is_ch = False\n",
    "\n",
    "        for assi, varis in li:\n",
    "            ip = True\n",
    "            for var in varis:\n",
    "                if var not in vt_assi:\n",
    "                    ip = False\n",
    "                    break\n",
    "            if ip:\n",
    "                vt_assi.add(assi)\n",
    "                is_ch = True\n",
    "            else:\n",
    "                nli.append((assi, varis))\n",
    "\n",
    "        if not nli:\n",
    "            result = 'GOOD'\n",
    "            break\n",
    "        if not is_ch:\n",
    "            result = 'BAD'\n",
    "            break\n",
    "\n",
    "    print(f'Case #{tn + 1}: {result}')"
   ]
  },
  {
   "cell_type": "markdown",
   "metadata": {},
   "source": [
    "### Removing Pairs 23414"
   ]
  },
  {
   "cell_type": "code",
   "execution_count": 21,
   "metadata": {},
   "outputs": [
    {
     "name": "stdout",
     "output_type": "stream",
     "text": [
      "w\n",
      "uwwuu\n",
      "YES\n"
     ]
    }
   ],
   "source": [
    "s = input()\n",
    "t = input()\n",
    "\n",
    "s_len = len(s)\n",
    "t_len = len(t)\n",
    "\n",
    "ti = 0\n",
    "si = 0\n",
    "ip = False\n",
    "while True:\n",
    "    if s[si] == t[ti]:\n",
    "        si += 1\n",
    "        ti += 1\n",
    "    else:\n",
    "        ti += 2\n",
    "\n",
    "    if si == s_len:\n",
    "        if (t_len - ti) % 2 == 1:\n",
    "            ip = False\n",
    "        else:\n",
    "            ip = True\n",
    "        break\n",
    "    if ti >= t_len:\n",
    "        break\n",
    "        \n",
    "if ip:\n",
    "    print('YES')\n",
    "else:\n",
    "    print('NO')"
   ]
  },
  {
   "cell_type": "markdown",
   "metadata": {},
   "source": [
    "### Boxes on a Shelf 23415"
   ]
  },
  {
   "cell_type": "code",
   "execution_count": 128,
   "metadata": {},
   "outputs": [
    {
     "name": "stdout",
     "output_type": "stream",
     "text": [
      "2\n",
      "10 10\n",
      "10 10\n",
      "1\n",
      "0\n"
     ]
    }
   ],
   "source": [
    "import sys\n",
    "# input = lambda: sys.stdin.readline().rstrip()\n",
    "\n",
    "n = int(input())\n",
    "if n == 1:\n",
    "    print(1)\n",
    "else:\n",
    "    li = []\n",
    "    for _ in range(n):\n",
    "        a, b = map(int, input().split())\n",
    "\n",
    "        li.append(min(a, b))\n",
    "\n",
    "    l = int(input())\n",
    "    \n",
    "    li.sort()\n",
    "    cur = 0\n",
    "    for i in range(n - 1):\n",
    "        temp = li[i] // 2 + 1 + li[i + 1] // 2 + 1\n",
    "        if temp <= l:\n",
    "            cur = i + 2\n",
    "            l -= li[i]\n",
    "        else:\n",
    "            if i - 1 >= 0:\n",
    "                saved = li[i - 1] - (li[i - 1] // 2 + 1)\n",
    "                l += saved\n",
    "            if li[i] // 2 + 1 <= l:\n",
    "                cur = i + 1\n",
    "            break\n",
    "            \n",
    "    print(max(1, cur))"
   ]
  },
  {
   "cell_type": "code",
   "execution_count": 133,
   "metadata": {},
   "outputs": [
    {
     "name": "stdout",
     "output_type": "stream",
     "text": [
      "3\n",
      "1 1\n",
      "1 1\n",
      "1 1\n",
      "2\n",
      "2\n"
     ]
    }
   ],
   "source": [
    "import sys\n",
    "input = lambda: sys.stdin.readline().rstrip()\n",
    "\n",
    "n = int(input())\n",
    "\n",
    "li = []\n",
    "for _ in range(n):\n",
    "    a, b = map(int, input().split())\n",
    "    li.append(min(a, b))\n",
    "\n",
    "l = int(input())\n",
    "\n",
    "li.sort()\n",
    "cur_l = l\n",
    "r = -1\n",
    "for i in range(n):\n",
    "    to_check_l = cur_l\n",
    "    if i - 1 >= 0:\n",
    "        saved = li[i - 1] - (li[i - 1] // 2 + 1)\n",
    "        to_check_l += saved\n",
    "        \n",
    "    needed = li[i] // 2 + 1\n",
    "    if needed <= to_check_l:\n",
    "        cur_l -= li[i]\n",
    "        r = i + 1\n",
    "        if cur_l <= 0:\n",
    "            break\n",
    "    else:\n",
    "        break\n",
    "        \n",
    "r = max(r, 1)\n",
    "\n",
    "print(r)"
   ]
  },
  {
   "cell_type": "markdown",
   "metadata": {},
   "source": [
    "### Pairing Socks 17891"
   ]
  },
  {
   "cell_type": "code",
   "execution_count": 61,
   "metadata": {},
   "outputs": [
    {
     "name": "stdout",
     "output_type": "stream",
     "text": [
      "3\n",
      "5 5 5 5 5 5\n",
      "6\n"
     ]
    }
   ],
   "source": [
    "n = int(input())\n",
    "stack1 = list(map(int, input().split()))\n",
    "\n",
    "stack1.reverse()\n",
    "stack2 = []\n",
    "\n",
    "total = 0\n",
    "ip = False\n",
    "while stack1:\n",
    "    total += 1\n",
    "    if not stack2 or stack1[-1] != stack2[-1]:\n",
    "        stack2.append(stack1.pop())\n",
    "    else:\n",
    "        stack1.pop()\n",
    "        stack2.pop()\n",
    "        \n",
    "    if not stack1 and not stack2:\n",
    "        ip = True\n",
    "        break\n",
    "        \n",
    "if ip:\n",
    "    print(total)\n",
    "else:\n",
    "    print('impossible')"
   ]
  },
  {
   "cell_type": "markdown",
   "metadata": {},
   "source": [
    "https://www.acmicpc.net/problem/18582"
   ]
  },
  {
   "cell_type": "code",
   "execution_count": 78,
   "metadata": {},
   "outputs": [
    {
     "name": "stdout",
     "output_type": "stream",
     "text": [
      "4\n",
      "0\n"
     ]
    }
   ],
   "source": [
    "cri = 1e10\n",
    "\n",
    "num = 1\n",
    "st = set()\n",
    "while True:\n",
    "    num_s = num ** 2\n",
    "    \n",
    "    if num_s > cri:\n",
    "        break\n",
    "    st.add(num_s)\n",
    "    num += 1\n",
    "\n",
    "k = int(input())\n",
    "    \n",
    "r = set()\n",
    "for v in st:\n",
    "    if abs(v - k) in st:\n",
    "        r.add(v - k)\n",
    "        \n",
    "if not r:\n",
    "    print(0)\n",
    "else:\n",
    "    print(len(r))\n",
    "    print(*sorted(r))"
   ]
  },
  {
   "cell_type": "code",
   "execution_count": 81,
   "metadata": {},
   "outputs": [
    {
     "data": {
      "text/plain": [
       "199999"
      ]
     },
     "execution_count": 81,
     "metadata": {},
     "output_type": "execute_result"
    }
   ],
   "source": [
    "sss = sorted(st)\n",
    "sss[-1] - sss[-2]"
   ]
  },
  {
   "cell_type": "code",
   "execution_count": 84,
   "metadata": {},
   "outputs": [],
   "source": [
    "diff = []\n",
    "for i in range(len(sss) - 1):\n",
    "    diff.append(sss[i + 1] - sss[i])"
   ]
  },
  {
   "cell_type": "code",
   "execution_count": null,
   "metadata": {},
   "outputs": [],
   "source": [
    "1, 4, 9, 16, 25"
   ]
  },
  {
   "cell_type": "code",
   "execution_count": null,
   "metadata": {},
   "outputs": [],
   "source": [
    "a + k == resulting_sum\n",
    "a == resulting_sum - k"
   ]
  },
  {
   "cell_type": "code",
   "execution_count": 68,
   "metadata": {},
   "outputs": [
    {
     "data": {
      "text/plain": [
       "4"
      ]
     },
     "execution_count": 68,
     "metadata": {},
     "output_type": "execute_result"
    }
   ],
   "source": [
    "from math import gcd\n",
    "\n",
    "gcd(-4, -8)"
   ]
  },
  {
   "cell_type": "markdown",
   "metadata": {},
   "source": [
    "https://www.acmicpc.net/problem/19720"
   ]
  },
  {
   "cell_type": "code",
   "execution_count": null,
   "metadata": {},
   "outputs": [],
   "source": [
    "def find(v):\n",
    "    if v != parent[v]:\n",
    "        parent[v] = find(parent[v])\n",
    "        \n",
    "    return parent[v]\n",
    "\n",
    "def union(a, b):\n",
    "    if a > b:\n",
    "        a, b = b, a\n",
    "        parent[b] = a\n",
    "\n",
    "n, m, k = map(int, input().split())\n",
    "\n",
    "fr = [list(map(int, input().split())) for _ in range(m)]\n",
    "\n",
    "parent = list(range(n + 1))\n",
    "for _ in range(k):\n",
    "    a, b = map(int, input().split())\n",
    "    \n",
    "    ra = find(a)\n",
    "    rb = find(b)\n",
    "    union(ra, rb)\n",
    "\n",
    "fnums = [0] * (n + 1)\n",
    "for a, b in fr:\n",
    "    ra = find(a) \n",
    "    rb = find(b)\n",
    "    \n",
    "    if ra == rb:\n",
    "        fnums[a] += 1\n",
    "        fnums[b] += 1\n",
    "        \n",
    "q = int(input())\n",
    "for _ in range(q):\n",
    "    qu = input().split()\n",
    "    \n",
    "    tp = qu[0]\n",
    "    if tp == '?':\n",
    "        v = int(qu[1])\n",
    "        print(fnums[v])\n",
    "    elif tp == 'F':\n",
    "        a = int(qu[1])\n",
    "        b = int(qu[2])\n",
    "        \n",
    "        ra = find(a)\n",
    "        rb = find(b)\n",
    "        if ra == rb:\n",
    "            fnums[a] += 1\n",
    "            fnums[b] += 1\n",
    "    else:\n",
    "        a = int(qu[1])\n",
    "        b = int(qu[2])\n",
    "        \n",
    "        "
   ]
  },
  {
   "cell_type": "markdown",
   "metadata": {},
   "source": [
    "https://www.acmicpc.net/problem/22245"
   ]
  },
  {
   "cell_type": "code",
   "execution_count": 89,
   "metadata": {},
   "outputs": [
    {
     "name": "stdout",
     "output_type": "stream",
     "text": [
      "4\n",
      "2 1\n",
      "2 2\n",
      "2 3\n",
      "2 4\n",
      "3\n"
     ]
    }
   ],
   "source": [
    "import sys\n",
    "# input = lambda: sys.stdin.readline().rstrip()\n",
    "\n",
    "inf = float('inf')\n",
    "\n",
    "n = int(input())\n",
    "li = [list(map(int, input().split())) for _ in range(n)]\n",
    "\n",
    "li.sort(key=lambda x: -x[1])\n",
    "total = 0\n",
    "starts = [inf]\n",
    "for l, p in li:\n",
    "    if p <= starts[-1]:   \n",
    "        if p + l <= starts[-1]:\n",
    "            total += 1\n",
    "            starts.append(p)\n",
    "        else:\n",
    "            lacks = p + l - starts[-1]\n",
    "            total += 1\n",
    "            starts.append(p - lacks)\n",
    "    else:\n",
    "        if p + l <= starts[-2]:\n",
    "            starts[-1] = p\n",
    "        else:\n",
    "            lacks = p + l - starts[-2]\n",
    "            starts[-1] = max(starts[-1], p - lacks)\n",
    "                \n",
    "print(total)"
   ]
  },
  {
   "cell_type": "markdown",
   "metadata": {},
   "source": [
    "https://www.acmicpc.net/problem/7465"
   ]
  },
  {
   "cell_type": "code",
   "execution_count": 111,
   "metadata": {},
   "outputs": [
    {
     "name": "stdout",
     "output_type": "stream",
     "text": [
      "2030\n",
      "2\n",
      "4  21 22 23 24 \n",
      "3  25 26 27 \n"
     ]
    }
   ],
   "source": [
    "n = int(input())\n",
    "\n",
    "start = 1\n",
    "end = 1\n",
    "cur = 1\n",
    "r = []\n",
    "while start <= end:\n",
    "    if cur < n:\n",
    "        end += 1\n",
    "        cur += end ** 2\n",
    "    elif cur > n:\n",
    "        cur -= start ** 2\n",
    "        start += 1\n",
    "        if start > end:\n",
    "            break\n",
    "    else:\n",
    "        r.append([start, end + 1])\n",
    "        end += 1\n",
    "        cur += end ** 2\n",
    "\n",
    "print(len(r))\n",
    "for s, e in r:\n",
    "    print(e - s, end='  ')\n",
    "    for num in range(s, e):\n",
    "        print(num, end=' ')\n",
    "    print()"
   ]
  },
  {
   "cell_type": "markdown",
   "metadata": {},
   "source": [
    "https://www.acmicpc.net/problem/3706"
   ]
  },
  {
   "cell_type": "code",
   "execution_count": 112,
   "metadata": {},
   "outputs": [
    {
     "name": "stdout",
     "output_type": "stream",
     "text": [
      "1\n",
      "QWERTYUIOPASDFGHJKLZXCVBNM\n"
     ]
    }
   ],
   "source": [
    "n = int(input())\n",
    "s = input()"
   ]
  },
  {
   "cell_type": "code",
   "execution_count": 114,
   "metadata": {},
   "outputs": [
    {
     "data": {
      "text/plain": [
       "26"
      ]
     },
     "execution_count": 114,
     "metadata": {},
     "output_type": "execute_result"
    }
   ],
   "source": [
    "len(set(s))"
   ]
  },
  {
   "cell_type": "markdown",
   "metadata": {},
   "source": [
    "https://www.acmicpc.net/problem/22178"
   ]
  },
  {
   "cell_type": "code",
   "execution_count": 118,
   "metadata": {},
   "outputs": [
    {
     "name": "stdout",
     "output_type": "stream",
     "text": [
      "13\n"
     ]
    }
   ],
   "source": [
    "m, n = map(int, input().split())\n",
    "li = [input() for _ in range(n)]\n",
    "\n",
    "total = 0\n",
    "for i in range(n):\n",
    "    for j in range(m - 1):\n",
    "        if li[i][j] != li[i][j + 1]:\n",
    "            total += 1\n",
    "            \n",
    "for i in range(n - 1):\n",
    "    for j in range(m):\n",
    "        if li[i][j] != li[i + 1][j]:\n",
    "            total += 1        \n",
    "            \n",
    "print(total)"
   ]
  },
  {
   "cell_type": "markdown",
   "metadata": {},
   "source": [
    "https://www.acmicpc.net/problem/22733"
   ]
  },
  {
   "cell_type": "code",
   "execution_count": null,
   "metadata": {},
   "outputs": [],
   "source": [
    "import sys\n",
    "# input = lambda: sys.stdin.readline().rstrip()\n",
    "\n",
    "while True:\n",
    "    n = int(input())\n",
    "    if n == 0:\n",
    "        break\n",
    "    \n",
    "    cur = 1\n",
    "    while True:\n",
    "        cur_s = cur ** 2\n",
    "        if cur_s <= n:\n",
    "            print(cur_s)\n",
    "        else:\n",
    "            break\n",
    "        cur += 1\n",
    "        \n",
    "    print()"
   ]
  },
  {
   "cell_type": "markdown",
   "metadata": {},
   "source": [
    "https://www.acmicpc.net/problem/12293"
   ]
  },
  {
   "cell_type": "code",
   "execution_count": null,
   "metadata": {},
   "outputs": [],
   "source": [
    "n = int(input())\n",
    "li = list(map(int, input().split()))\n"
   ]
  },
  {
   "cell_type": "code",
   "execution_count": 136,
   "metadata": {},
   "outputs": [
    {
     "data": {
      "text/plain": [
       "0.6666666666666666"
      ]
     },
     "execution_count": 136,
     "metadata": {},
     "output_type": "execute_result"
    }
   ],
   "source": [
    "(11 - 9) / 3"
   ]
  },
  {
   "cell_type": "markdown",
   "metadata": {},
   "source": [
    "https://www.acmicpc.net/problem/12439"
   ]
  },
  {
   "cell_type": "code",
   "execution_count": 140,
   "metadata": {},
   "outputs": [
    {
     "data": {
      "text/plain": [
       "20"
      ]
     },
     "execution_count": 140,
     "metadata": {},
     "output_type": "execute_result"
    }
   ],
   "source": [
    "len('???????????? - ? = ?')"
   ]
  },
  {
   "cell_type": "markdown",
   "metadata": {},
   "source": [
    "https://www.acmicpc.net/problem/25039"
   ]
  },
  {
   "cell_type": "code",
   "execution_count": null,
   "metadata": {},
   "outputs": [],
   "source": [
    "from copy import deepcopy\n",
    "import sys\n",
    "input = lambda: sys.stdin.readline().rstrip()\n",
    "\n",
    "n = int(input())\n",
    "\n",
    "li = []\n",
    "for num in range(n):\n",
    "    name, *sc = input().split()\n",
    "    sc = sum(map(int, sc))\n",
    "    \n",
    "    li.append([sc, name, num])\n",
    "\n",
    "nli = deepcopy(li)\n",
    "nli.sort(key=lambda x: [-x[0], x[1]])\n",
    "\n",
    "for cur_num in range(n):\n",
    "    cur_sc = li[cur_num][0] + 500\n",
    "    cur_name = li[cur_num][1]\n",
    "    min_rank = n + 1\n",
    "    \n",
    "    for i in range(n - 1, -1, -1):\n",
    "        sc, name, num = nli[i]\n",
    "        if cur_sc > sc or cur_sc == sc and cur_name < name:\n",
    "            min_rank = i + 1\n",
    "        else:\n",
    "            break\n",
    "        \n",
    "    cur_sc = li[cur_num][0] - 500\n",
    "    cur_name = li[cur_num][1]\n",
    "    max_rank = n + 1\n",
    "    for i, (sc, name, num) in enumerate(nli):\n",
    "        if cur_sc > sc or cur_sc == sc and cur_name < name:\n",
    "            max_rank = i + 1\n",
    "            break\n",
    "    max_rank -= 1\n",
    "    \n",
    "    print(min_rank, max_rank)"
   ]
  },
  {
   "cell_type": "code",
   "execution_count": 145,
   "metadata": {},
   "outputs": [
    {
     "data": {
      "text/plain": [
       "[('a', ['b', 'c']), ('b', ['']), ('c', [''])]"
      ]
     },
     "execution_count": 145,
     "metadata": {},
     "output_type": "execute_result"
    }
   ],
   "source": [
    "nli"
   ]
  }
 ],
 "metadata": {
  "kernelspec": {
   "display_name": "Python 3",
   "language": "python",
   "name": "python3"
  },
  "language_info": {
   "codemirror_mode": {
    "name": "ipython",
    "version": 3
   },
   "file_extension": ".py",
   "mimetype": "text/x-python",
   "name": "python",
   "nbconvert_exporter": "python",
   "pygments_lexer": "ipython3",
   "version": "3.7.4"
  }
 },
 "nbformat": 4,
 "nbformat_minor": 2
}
