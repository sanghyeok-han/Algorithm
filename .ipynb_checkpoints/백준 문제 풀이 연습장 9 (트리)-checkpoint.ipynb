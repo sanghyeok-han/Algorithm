{
 "cells": [
  {
   "cell_type": "markdown",
   "metadata": {},
   "source": [
    "### 트리 순회 1991 (다시 풀음)\n",
    "- 재귀"
   ]
  },
  {
   "cell_type": "code",
   "execution_count": 21,
   "metadata": {},
   "outputs": [
    {
     "name": "stdout",
     "output_type": "stream",
     "text": [
      "ABDCEFG\n",
      "DBAECFG\n",
      "DBEGFCA"
     ]
    }
   ],
   "source": [
    "class Node:\n",
    "    def __init__(self, value, left=None, right=None):\n",
    "        self.value = value\n",
    "        self.left = left\n",
    "        self.right = right\n",
    "\n",
    "def preorder(value):\n",
    "    if value:\n",
    "        node = tree[value]\n",
    "        print(node.value, end='')\n",
    "        preorder(node.left)\n",
    "        preorder(node.right)\n",
    "\n",
    "def inorder(value):\n",
    "    if value:\n",
    "        node = tree[value]\n",
    "        inorder(node.left)\n",
    "        print(node.value, end='')\n",
    "        inorder(node.right)\n",
    "\n",
    "def postorder(value):\n",
    "    if value:\n",
    "        node = tree[value]\n",
    "        postorder(node.left)\n",
    "        postorder(node.right)\n",
    "        print(node.value, end='')\n",
    "        \n",
    "n = int(input())\n",
    "\n",
    "tree = {}\n",
    "for _ in range(n):\n",
    "    value, left, right = input().split()\n",
    "    if left == '.':\n",
    "        left = None\n",
    "    if right == '.':\n",
    "        right = None\n",
    "        \n",
    "    tree[value] = Node(value, left, right)\n",
    "    \n",
    "preorder('A')\n",
    "print()\n",
    "inorder('A')\n",
    "print()\n",
    "postorder('A')"
   ]
  },
  {
   "cell_type": "markdown",
   "metadata": {},
   "source": [
    "### 트리의 높이와 너비 2250 (다시 풀음)"
   ]
  },
  {
   "cell_type": "code",
   "execution_count": 33,
   "metadata": {},
   "outputs": [
    {
     "name": "stdout",
     "output_type": "stream",
     "text": [
      "19\n"
     ]
    }
   ],
   "source": [
    "class Node:\n",
    "    def __init__(self, data, left_value=None, right_value=None):\n",
    "        self.data = data\n",
    "        self.left = left_value\n",
    "        self.right = right_value\n",
    "        \n",
    "tree = {}\n",
    "n = int(input())\n",
    "\n",
    "s = '''1 2 3\n",
    "2 4 5\n",
    "3 6 7\n",
    "4 8 -1\n",
    "5 9 10\n",
    "6 11 12\n",
    "7 13 -1\n",
    "8 -1 -1\n",
    "9 14 15\n",
    "10 -1 -1\n",
    "11 16 -1\n",
    "12 -1 -1\n",
    "13 17 -1\n",
    "14 -1 -1\n",
    "15 18 -1\n",
    "16 -1 -1\n",
    "17 -1 19\n",
    "18 -1 -1\n",
    "19 -1 -1'''\n",
    "li = [list(map(int, v.split())) for v in s.split('\\n')]\n",
    "\n",
    "for i in range(n):\n",
    "#     data, left, right = map(int, input().split())\n",
    "    data, left, right = li[i]\n",
    "    if left == -1:\n",
    "        left = None\n",
    "    if right == -1:\n",
    "        right = None\n",
    "    tree[data] = Node(data, left, right)"
   ]
  },
  {
   "cell_type": "code",
   "execution_count": 42,
   "metadata": {},
   "outputs": [],
   "source": [
    "def inorder_to_find_root(value):\n",
    "    if value:\n",
    "        node = tree[value]\n",
    "        inorder_to_find_root(node.left)\n",
    "        visited[node.data] = True\n",
    "        inorder_to_find_root(node.right)"
   ]
  },
  {
   "cell_type": "code",
   "execution_count": 43,
   "metadata": {},
   "outputs": [],
   "source": [
    "root_value = 0\n",
    "visited = [False] * (n + 1)\n",
    "for candidate in tree.keys():\n",
    "    if visited[candidate]:\n",
    "        continue\n",
    "    visited[candidate] = True\n",
    "    root_value = candidate\n",
    "    inorder_to_find_root(candidate)"
   ]
  },
  {
   "cell_type": "code",
   "execution_count": 44,
   "metadata": {},
   "outputs": [
    {
     "data": {
      "text/plain": [
       "1"
      ]
     },
     "execution_count": 44,
     "metadata": {},
     "output_type": "execute_result"
    }
   ],
   "source": [
    "root_value"
   ]
  },
  {
   "cell_type": "code",
   "execution_count": 53,
   "metadata": {},
   "outputs": [],
   "source": [
    "def inorder(value, level, accu_count):\n",
    "    count = 0\n",
    "    if value:\n",
    "        count += 1\n",
    "        node = tree[value]\n",
    "        \n",
    "        count += inorder(node.left, level + 1, accu_count)\n",
    "        accu_count += count\n",
    "        d[level].append(accu_count)\n",
    "        \n",
    "        count += inorder(node.right, level + 1, accu_count)\n",
    "    return count"
   ]
  },
  {
   "cell_type": "code",
   "execution_count": 54,
   "metadata": {},
   "outputs": [
    {
     "data": {
      "text/plain": [
       "19"
      ]
     },
     "execution_count": 54,
     "metadata": {},
     "output_type": "execute_result"
    }
   ],
   "source": [
    "from collections import defaultdict\n",
    "\n",
    "d = defaultdict(list)\n",
    "inorder(root_value, 1, 0)"
   ]
  },
  {
   "cell_type": "code",
   "execution_count": 56,
   "metadata": {},
   "outputs": [],
   "source": [
    "max_width_level = 0\n",
    "max_width = 0\n",
    "for level in d.keys():\n",
    "    width = max(d[level]) - min(d[level]) + 1\n",
    "    if width >= max_width:\n",
    "        if width == max_width and level > max_width_level:\n",
    "            continue\n",
    "        max_width_level, max_width = level, width"
   ]
  },
  {
   "cell_type": "code",
   "execution_count": 57,
   "metadata": {},
   "outputs": [
    {
     "name": "stdout",
     "output_type": "stream",
     "text": [
      "3 18\n"
     ]
    }
   ],
   "source": [
    "print(max_width_level, max_width)"
   ]
  },
  {
   "cell_type": "code",
   "execution_count": 58,
   "metadata": {},
   "outputs": [
    {
     "name": "stdout",
     "output_type": "stream",
     "text": [
      "19\n",
      "1 2 3\n",
      "2 4 5\n",
      "3 6 7\n",
      "4 8 -1\n",
      "5 9 10\n",
      "6 11 12\n",
      "7 13 -1\n",
      "8 -1 -1\n",
      "9 14 15\n",
      "10 -1 -1\n",
      "11 16 -1\n",
      "12 -1 -1\n",
      "13 17 -1\n",
      "14 -1 -1\n",
      "15 18 -1\n",
      "16 -1 -1\n",
      "17 -1 19\n",
      "18 -1 -1\n",
      "19 -1 -1\n",
      "3 18\n"
     ]
    }
   ],
   "source": [
    "from collections import defaultdict\n",
    "\n",
    "class Node:\n",
    "    def __init__(self, data, left_value=None, right_value=None):\n",
    "        self.data = data\n",
    "        self.left = left_value\n",
    "        self.right = right_value\n",
    "        \n",
    "tree = {}\n",
    "n = int(input())\n",
    "\n",
    "for _ in range(n):\n",
    "    data, left, right = map(int, input().split())\n",
    "    if left == -1:\n",
    "        left = None\n",
    "    if right == -1:\n",
    "        right = None\n",
    "        \n",
    "    tree[data] = Node(data, left, right)\n",
    "    \n",
    "def inorder_to_find_root(value):\n",
    "    if value:\n",
    "        node = tree[value]\n",
    "        inorder_to_find_root(node.left)\n",
    "        visited[node.data] = True\n",
    "        inorder_to_find_root(node.right)\n",
    "        \n",
    "root_value = 0\n",
    "visited = [False] * (n + 1)\n",
    "for candidate in tree.keys():\n",
    "    if visited[candidate]:\n",
    "        continue\n",
    "    visited[candidate] = True\n",
    "    root_value = candidate\n",
    "    inorder_to_find_root(candidate)\n",
    "    \n",
    "def inorder(value, level, accu_count):\n",
    "    count = 0\n",
    "    if value:\n",
    "        count += 1\n",
    "        node = tree[value]\n",
    "        \n",
    "        count += inorder(node.left, level + 1, accu_count)\n",
    "        accu_count += count\n",
    "        d[level].append(accu_count)\n",
    "        \n",
    "        count += inorder(node.right, level + 1, accu_count)\n",
    "    return count\n",
    "\n",
    "d = defaultdict(list)\n",
    "inorder(root_value, 1, 0)\n",
    "\n",
    "max_width_level = 0\n",
    "max_width = 0\n",
    "for level in d.keys():\n",
    "    width = max(d[level]) - min(d[level]) + 1\n",
    "    if width >= max_width:\n",
    "        if width == max_width and level > max_width_level:\n",
    "            continue\n",
    "        max_width_level, max_width = level, width\n",
    "        \n",
    "print(max_width_level, max_width)"
   ]
  },
  {
   "cell_type": "markdown",
   "metadata": {},
   "source": [
    "### 트리의 지름 1967"
   ]
  },
  {
   "cell_type": "code",
   "execution_count": 9,
   "metadata": {},
   "outputs": [
    {
     "name": "stdout",
     "output_type": "stream",
     "text": [
      "45\n"
     ]
    }
   ],
   "source": [
    "# 맞았음, 이진트리를 가정하고 풀어서 틀렸었음\n",
    "import sys\n",
    "sys.setrecursionlimit(10000000)\n",
    "# input = sys.stdin.readline\n",
    "\n",
    "class Node:\n",
    "    def __init__(self, data):\n",
    "        self.data = data\n",
    "        self.children = []\n",
    "\n",
    "tree = {1: Node(0)}\n",
    "n = int(input().rstrip())\n",
    "for i in range(n - 1):\n",
    "    p, c, w = map(int, input().rstrip().split())\n",
    "    tree[p].children.append(c)\n",
    "    tree[c] = Node(w)\n",
    "    \n",
    "result = 0\n",
    "        \n",
    "def traverse(key):\n",
    "    global result\n",
    "    \n",
    "    node = tree[key]\n",
    "    values = []\n",
    "    for c in node.children:\n",
    "        values.append(traverse(c))\n",
    "        \n",
    "    if not values:\n",
    "        return node.data\n",
    "        \n",
    "    values.sort(reverse=True)\n",
    "    if result < sum(values[:2]):\n",
    "        result = sum(values[:2])  \n",
    "    \n",
    "    return values[0] + node.data\n",
    "    \n",
    "traverse(1)\n",
    "print(result)"
   ]
  },
  {
   "cell_type": "markdown",
   "metadata": {},
   "source": [
    "### 트리의 지름 1167"
   ]
  },
  {
   "cell_type": "code",
   "execution_count": 3,
   "metadata": {},
   "outputs": [
    {
     "name": "stdout",
     "output_type": "stream",
     "text": [
      "5\n",
      "1 3 2 -1\n",
      "2 4 4 -1\n",
      "3 1 2 4 3 -1\n",
      "4 2 4 3 3 5 6 -1\n",
      "5 4 6 -1\n",
      "11\n"
     ]
    }
   ],
   "source": [
    "import sys\n",
    "sys.setrecursionlimit(1000000)\n",
    "# input = sys.stdin.readline\n",
    "\n",
    "class Node:\n",
    "    def __init__(self):\n",
    "        self.connected = []\n",
    "\n",
    "v = int(input().rstrip())\n",
    "tree = {i: Node() for i in range(1, v + 1)}\n",
    "visited = [0] * (v + 1)\n",
    "for _ in range(v):\n",
    "    li = list(map(int, input().rstrip().split()))\n",
    "    p = li[0]\n",
    "    visited[p] += 1\n",
    "    for i in range(1, len(li) - 1, 2):\n",
    "        c, d = li[i], li[i + 1]\n",
    "        tree[p].connected.append((c, d))\n",
    "        visited[c] += 1   \n",
    "        \n",
    "root_node_num = [i for i, value in enumerate(visited) if value == 2][0]\n",
    "result = 0\n",
    "visited = [False] * (v + 1)\n",
    "\n",
    "def traverse(key):\n",
    "    global result\n",
    "    global visited\n",
    "    \n",
    "    node = tree[key]\n",
    "    values = []\n",
    "    for c, d in node.connected:\n",
    "        if not visited[c]: \n",
    "            visited[c] = True\n",
    "            values.append(traverse(c) + d)\n",
    "    \n",
    "    if values:\n",
    "        values.sort(reverse=True)\n",
    "        if sum(values[:2]) > result:\n",
    "            result = sum(values[:2])\n",
    "        return values[0]\n",
    "    else:\n",
    "        return 0\n",
    "    \n",
    "visited[root_node_num] = True\n",
    "traverse(root_node_num)\n",
    "print(result)"
   ]
  },
  {
   "cell_type": "markdown",
   "metadata": {},
   "source": [
    "### 두 번째 트리의 지름 19581"
   ]
  },
  {
   "cell_type": "code",
   "execution_count": 17,
   "metadata": {},
   "outputs": [
    {
     "name": "stdout",
     "output_type": "stream",
     "text": [
      "3\n",
      "1 2 3\n",
      "2 3 4\n",
      "4\n"
     ]
    }
   ],
   "source": [
    "# 틀렸음, 일단포기\n",
    "import sys\n",
    "sys.setrecursionlimit(1000000)\n",
    "# input = sys.stdin.readline\n",
    "\n",
    "class Node:\n",
    "    def __init__(self):\n",
    "        self.connected = []\n",
    "\n",
    "n = int(input().rstrip())\n",
    "tree = {i: Node() for i in range(1, n + 1)}\n",
    "visited = [0] * (n + 1)\n",
    "for _ in range(n - 1):\n",
    "    a, b, w = list(map(int, input().rstrip().split()))\n",
    "    visited[a] += 1\n",
    "    visited[b] += 1\n",
    "\n",
    "    tree[a].connected.append((b, w))\n",
    "    tree[b].connected.append((a, w))\n",
    "        \n",
    "root_node_num = [i for i, value in enumerate(visited) if value == 2][0]\n",
    "result = []\n",
    "visited = [False] * (n + 1)\n",
    "\n",
    "def traverse(key):\n",
    "    global result\n",
    "    global visited\n",
    "    \n",
    "    node = tree[key]\n",
    "    values = []\n",
    "    for c, d in node.connected:\n",
    "        if not visited[c]: \n",
    "            visited[c] = True\n",
    "            values.append(traverse(c) + d)\n",
    "    \n",
    "    if values:\n",
    "        values.sort(reverse=True)\n",
    "        \n",
    "        sum_value = sum(values[:2])\n",
    "        if len(values) >= 2:\n",
    "            result.extend([values[0], values[1], sum(values[:2])])\n",
    "        else:\n",
    "            result.append(values[0])\n",
    "            \n",
    "        return values[0]\n",
    "    else:\n",
    "        return 0\n",
    "    \n",
    "visited[root_node_num] = True\n",
    "traverse(root_node_num)\n",
    "print(sorted(result)[-2])"
   ]
  },
  {
   "cell_type": "markdown",
   "metadata": {},
   "source": [
    "### 트리1068"
   ]
  },
  {
   "cell_type": "code",
   "execution_count": 36,
   "metadata": {},
   "outputs": [
    {
     "name": "stdout",
     "output_type": "stream",
     "text": [
      "4\n",
      "-1 0 1 2\n",
      "1\n",
      "1\n"
     ]
    }
   ],
   "source": [
    "# 트리 구성\n",
    "# 지울 노드 찾기, 찾아서 제거하기\n",
    "# 리프 노드 개수 구하기 (루트 노드 인자로 넘기기)\n",
    "\n",
    "class Node:\n",
    "    def __init__(self):\n",
    "        self.children = []\n",
    "\n",
    "n = int(input())\n",
    "tree = {i: Node() for i in range(n)}\n",
    "li = list(map(int, input().split()))\n",
    "root = 0\n",
    "for i, v in enumerate(li):\n",
    "    if v == -1:\n",
    "        root = i\n",
    "        continue\n",
    "    tree[v].children.append(i)\n",
    "\n",
    "to_delete = int(input())\n",
    "del tree[to_delete]\n",
    "\n",
    "result = 0\n",
    "def count_leaf_nodes(key):\n",
    "    global result\n",
    "    \n",
    "    if tree.get(key, False) is not False:\n",
    "        node = tree[key]\n",
    "        \n",
    "        if not node.children or len(node.children) == 1 and node.children[0] == to_delete:\n",
    "            result += 1\n",
    "        else:\n",
    "            for c in node.children:\n",
    "                count_leaf_nodes(c)\n",
    "    return 0\n",
    "    \n",
    "count_leaf_nodes(root)\n",
    "print(result)"
   ]
  },
  {
   "cell_type": "markdown",
   "metadata": {},
   "source": [
    "### 완전 이진 트리 9934"
   ]
  },
  {
   "cell_type": "code",
   "execution_count": 48,
   "metadata": {},
   "outputs": [
    {
     "name": "stdout",
     "output_type": "stream",
     "text": [
      "3\n",
      "1 6 4 3 5 2 7\n",
      "3\n",
      "6 2\n",
      "1 4 5 7\n"
     ]
    }
   ],
   "source": [
    "n = int(input())\n",
    "li = list(map(int, input().split()))\n",
    "\n",
    "result = []\n",
    "while li:\n",
    "    temp = []\n",
    "    to_delete = []\n",
    "    for i in range(0, len(li), 2):\n",
    "        temp.append(li[i])\n",
    "        to_delete.append(i)\n",
    "        \n",
    "    result.append(temp)\n",
    "    for index in to_delete[::-1]:\n",
    "        del li[index]\n",
    "        \n",
    "for r in result[::-1]:\n",
    "    print(*r)        "
   ]
  },
  {
   "cell_type": "markdown",
   "metadata": {},
   "source": [
    "### 이진 검색 트리 5639"
   ]
  },
  {
   "cell_type": "code",
   "execution_count": 49,
   "metadata": {},
   "outputs": [],
   "source": [
    "s = '''50\n",
    "30\n",
    "24\n",
    "5\n",
    "28\n",
    "45\n",
    "98\n",
    "52\n",
    "60'''\n",
    "\n",
    "li = list(map(int, s.split('\\n')))\n"
   ]
  },
  {
   "cell_type": "code",
   "execution_count": 55,
   "metadata": {},
   "outputs": [],
   "source": [
    "import sys\n",
    "sys.setrecursionlimit(1000000)\n",
    "input = sys.stdin.readline\n",
    "\n",
    "li = []\n",
    "while True:\n",
    "    try:\n",
    "        value = int(input())\n",
    "        li.append(value)\n",
    "    except:\n",
    "        break\n",
    "\n",
    "class Node:\n",
    "    def __init__(self, data, left=None, right=None):\n",
    "        self.data = data\n",
    "        self.left = left\n",
    "        self.right = right\n",
    "        \n",
    "root = Node(li[0])\n",
    "\n",
    "for value in li[1:]:\n",
    "    node = root\n",
    "    while True:\n",
    "        if value < node.data:\n",
    "            if node.left == None:\n",
    "                node.left = Node(value)\n",
    "                break\n",
    "            node = node.left\n",
    "        else:\n",
    "            if node.right == None:\n",
    "                node.right = Node(value)\n",
    "                break\n",
    "            node = node.right\n",
    "            \n",
    "result = []\n",
    "\n",
    "def postorder(node):\n",
    "    if node:\n",
    "        postorder(node.left)\n",
    "        postorder(node.right)\n",
    "        result.append(node.data)\n",
    "        \n",
    "postorder(root)\n",
    "print('\\n'.join(map(str, result)))"
   ]
  },
  {
   "cell_type": "markdown",
   "metadata": {},
   "source": [
    "### 트리인가? 6416"
   ]
  },
  {
   "cell_type": "code",
   "execution_count": 40,
   "metadata": {},
   "outputs": [
    {
     "name": "stdout",
     "output_type": "stream",
     "text": [
      "1 2 2 3 3 1 4 5 0 0\n",
      "Case 1 is a tree.\n",
      "-1 -1\n"
     ]
    }
   ],
   "source": [
    "# 시간 초과\n",
    "import sys\n",
    "from collections import defaultdict\n",
    "# input = lambda: sys.stdin.readline().rstrip()\n",
    "\n",
    "def print_result(case_num, is_tree):\n",
    "    if is_tree:\n",
    "        print(f'Case {case_num} is a tree.')\n",
    "    else:\n",
    "        print(f'Case {case_num} is not a tree.')\n",
    "    \n",
    "case_num = 0\n",
    "while True:\n",
    "    case_num += 1\n",
    "    if case_num >= 2:\n",
    "        end_checker = input()\n",
    "        if len(end_checker) >= 2:\n",
    "            break\n",
    "        \n",
    "    is_tree = True\n",
    "    children = defaultdict(list)\n",
    "    parent = defaultdict(list)\n",
    "    while True:\n",
    "        is_input_end = False\n",
    "        s = input()\n",
    "        li = s.split()\n",
    "        for i in range(0, len(li), 2):\n",
    "            from_, to_ = int(li[i]), int(li[i + 1])\n",
    "            if from_ == 0 and to_ == 0:\n",
    "                is_input_end = True\n",
    "                break\n",
    "            parent[to_].append(from_)\n",
    "            parent[from_]\n",
    "\n",
    "            children[from_].append(to_)\n",
    "            children[to_]\n",
    "        \n",
    "        if is_input_end:\n",
    "            break\n",
    "            \n",
    "    if not parent and not children:\n",
    "        print_result(case_num, True)\n",
    "        continue\n",
    "        \n",
    "    two_or_more_parent_count = 0\n",
    "    no_parent_count = 0\n",
    "    for key in parent.keys():\n",
    "        if len(parent[key]) == 0:\n",
    "            no_parent_count += 1\n",
    "        elif len(parent[key]) >= 2:\n",
    "            two_or_more_parent_count += 1\n",
    "    \n",
    "    if no_parent_count != 1 or two_or_more_parent_count:\n",
    "        print_result(case_num, False)\n",
    "        continue\n",
    "    \n",
    "    st = set()\n",
    "    is_tree = True\n",
    "    for key in children.keys():\n",
    "        for v in children[key]:\n",
    "            if v in st:\n",
    "                is_tree = False\n",
    "            st.add(v)\n",
    "    print_result(case_num, is_tree)"
   ]
  },
  {
   "cell_type": "markdown",
   "metadata": {},
   "source": [
    "### 트리 4256"
   ]
  },
  {
   "cell_type": "code",
   "execution_count": 20,
   "metadata": {},
   "outputs": [
    {
     "name": "stdout",
     "output_type": "stream",
     "text": [
      "1\n",
      "4\n",
      "3 2 1 4\n",
      "2 3 4 1\n",
      "2 4 1 3\n"
     ]
    }
   ],
   "source": [
    "def recur(p, s, e):\n",
    "    np = p\n",
    "    for i in range(s, e + 1):\n",
    "        if in_[i] == pre[p]:\n",
    "            ns = s\n",
    "            ne = i - 1\n",
    "            if ns <= ne:\n",
    "                if ns == ne:\n",
    "                    post.append(in_[ns])\n",
    "                np += 1\n",
    "                np = recur(np, ns, ne)\n",
    "            ns = i + 1\n",
    "            ne = e\n",
    "            if ns <= ne:\n",
    "                if ns == ne:\n",
    "                    post.append(in_[ns])\n",
    "                np += 1\n",
    "                np = recur(np, ns, ne)\n",
    "            break\n",
    "            \n",
    "    if post and post[-1] == pre[p]:\n",
    "        pass\n",
    "    else:\n",
    "        post.append(pre[p])\n",
    "        \n",
    "    return np\n",
    "\n",
    "for _ in range(int(input())):\n",
    "    n = int(input())\n",
    "    pre = list(map(int, input().split()))\n",
    "    in_ = list(map(int, input().split()))\n",
    "    \n",
    "    post = []\n",
    "    recur(0, 0, n - 1)\n",
    "    \n",
    "    print(*post)"
   ]
  },
  {
   "cell_type": "markdown",
   "metadata": {},
   "source": [
    "### 단절점과 단절선 14675"
   ]
  },
  {
   "cell_type": "code",
   "execution_count": 74,
   "metadata": {},
   "outputs": [
    {
     "name": "stdout",
     "output_type": "stream",
     "text": [
      "5\n",
      "1 2\n",
      "2 3\n",
      "3 4\n",
      "4 5\n",
      "4\n",
      "1 1\n",
      "no\n",
      "1 2\n",
      "yes\n",
      "2 1\n",
      "no\n",
      "2 2\n",
      "yes\n"
     ]
    }
   ],
   "source": [
    "import sys\n",
    "# input = lambda: sys.stdin.readline().rstrip()\n",
    "\n",
    "n = int(input())\n",
    "tree = [[] for _ in range(n + 1)]\n",
    "edges = []\n",
    "for _ in range(n - 1):\n",
    "    a, b = map(int, input().split())\n",
    "    tree[a].append(b)\n",
    "    tree[b].append(a)\n",
    "    edges.append((a, b))\n",
    "    \n",
    "q = int(input())\n",
    "for _ in range(q):\n",
    "    t, k = map(int, input().split())\n",
    "    if t == 1:\n",
    "        if len(tree[k]) >= 2:\n",
    "            print('yes')\n",
    "        else:\n",
    "            print('no')\n",
    "    else:\n",
    "        print('yes')"
   ]
  },
  {
   "cell_type": "markdown",
   "metadata": {},
   "source": [
    "### 가장 가까운 공통 조상 3584"
   ]
  },
  {
   "cell_type": "code",
   "execution_count": null,
   "metadata": {},
   "outputs": [],
   "source": [
    "import sys\n",
    "# input = lambda: sys.stdin.readline().rstrip()\n",
    "\n",
    "for _ in range(int(input())):\n",
    "    n = int(input())\n",
    "\n",
    "    parents = [0] * (n + 1)\n",
    "    for _ in range(n - 1):\n",
    "        p, c = map(int, input().split())\n",
    "        parents[c] = p\n",
    "\n",
    "    a, b = map(int, input().split())\n",
    "\n",
    "    st = set()\n",
    "    while a:\n",
    "        st.add(a)\n",
    "        a = parents[a]\n",
    "\n",
    "    while b:\n",
    "        if b in st:\n",
    "            break\n",
    "        b = parents[b]\n",
    "\n",
    "    print(b)"
   ]
  },
  {
   "cell_type": "markdown",
   "metadata": {},
   "source": [
    "### 트리의 순회 2263"
   ]
  },
  {
   "cell_type": "code",
   "execution_count": 47,
   "metadata": {},
   "outputs": [
    {
     "name": "stdout",
     "output_type": "stream",
     "text": [
      "4\n",
      "2 3 4 1\n",
      "2 4 1 3\n",
      "2 2 [] []\n",
      "2 3 [] [4]\n",
      "0 0 [] []\n",
      "0 3 [1, 4] [2]\n",
      "3 2 1 4\n"
     ]
    }
   ],
   "source": [
    "# 시간 초과\n",
    "import sys\n",
    "sys.setrecursionlimit(300000)\n",
    "\n",
    "def recur(p, s, e):\n",
    "    temp = [post[p]]\n",
    "    temp_part1 = []\n",
    "    temp_part2 = []\n",
    "    for i in range(s, e + 1):\n",
    "        if in_[i] == post[p]: \n",
    "            ns = i + 1\n",
    "            ne = e\n",
    "            if ns <= ne:\n",
    "                p -= 1\n",
    "                p, temp_part1 = recur(p, ns, ne)\n",
    "                  \n",
    "            ns = s\n",
    "            ne = i - 1\n",
    "            if ns <= ne:\n",
    "                p -= 1\n",
    "                p, temp_part2 = recur(p, ns, ne)\n",
    "            break\n",
    "            \n",
    "    temp.extend(temp_part2)\n",
    "    temp.extend(temp_part1)\n",
    "    print(s, e, temp_part1, temp_part2)\n",
    "    return p, temp\n",
    "\n",
    "\n",
    "n = int(input())\n",
    "in_ = list(map(int, input().split()))\n",
    "post = list(map(int, input().split()))\n",
    "\n",
    "pre = []\n",
    "p, temp = recur(n - 1, 0, n - 1)\n",
    "pre.extend(temp)\n",
    "\n",
    "print(*pre)"
   ]
  },
  {
   "cell_type": "markdown",
   "metadata": {},
   "source": [
    "### 나무 위의 빗물 17073"
   ]
  },
  {
   "cell_type": "code",
   "execution_count": 61,
   "metadata": {},
   "outputs": [
    {
     "name": "stdout",
     "output_type": "stream",
     "text": [
      "6.666666666666667\n"
     ]
    }
   ],
   "source": [
    "import sys\n",
    "sys.setrecursionlimit(500100)\n",
    "input = lambda: sys.stdin.readline().rstrip()\n",
    "\n",
    "n, w = map(int, input().split())\n",
    "tree = [[] for _ in range(n + 1)]\n",
    "for _ in range(n - 1):\n",
    "    a, b = map(int, input().split())\n",
    "    tree[a].append(b)\n",
    "    tree[b].append(a)\n",
    "    \n",
    "waters = [0] * (n + 1)\n",
    "waters[1] = w\n",
    "    \n",
    "def dfs(value):\n",
    "    if value == 1:\n",
    "        c = len(tree[value])\n",
    "    else:\n",
    "        c = len(tree[value]) - 1\n",
    "        \n",
    "    if c:\n",
    "        to_give = waters[value] / c\n",
    "        waters[value] = 0\n",
    "        for v in tree[value]:\n",
    "            if visited[v]:\n",
    "                continue\n",
    "            visited[v] = True\n",
    "            waters[v] = to_give\n",
    "            dfs(v)\n",
    "    \n",
    "visited = [False] * (n + 1)\n",
    "visited[1] = True\n",
    "dfs(1)\n",
    "\n",
    "total = 0\n",
    "count = 0\n",
    "for water in waters:\n",
    "    if water:\n",
    "        total += water\n",
    "        count += 1\n",
    "        \n",
    "print(total / count)"
   ]
  },
  {
   "cell_type": "markdown",
   "metadata": {},
   "source": [
    "### 닌자배치 4002"
   ]
  },
  {
   "cell_type": "code",
   "execution_count": 5,
   "metadata": {},
   "outputs": [
    {
     "name": "stdout",
     "output_type": "stream",
     "text": [
      "5 4\n",
      "0 3 3\n",
      "1 3 5\n",
      "2 2 2\n",
      "1 2 4\n",
      "2 3 1\n",
      "6\n"
     ]
    }
   ],
   "source": [
    "from heapq import heappush, heappop\n",
    "import sys\n",
    "sys.setrecursionlimit(110000)\n",
    "input = lambda: sys.stdin.readline().rstrip()\n",
    "\n",
    "def dfs(value):\n",
    "    global max_value\n",
    "    \n",
    "    total_cost = cs[value]\n",
    "    heappush(heaps[value], -cs[value])\n",
    "    \n",
    "    for v in li[value]:\n",
    "        total_cost += dfs(v)\n",
    "        rvalue = find(value)\n",
    "        rv = find(v)\n",
    "        union(rvalue, rv)\n",
    "        \n",
    "    rvalue = find(value)\n",
    "    while total_cost > m:\n",
    "        total_cost += heappop(heaps[rvalue])\n",
    "        \n",
    "    max_value = max(max_value, len(heaps[rvalue]) * ls[value])\n",
    "    return total_cost\n",
    "\n",
    "def find(v):\n",
    "    if v == parent[v]:\n",
    "        return v\n",
    "    parent[v] = find(parent[v])\n",
    "    return parent[v]\n",
    "\n",
    "def union(a, b):\n",
    "    if len(heaps[a]) <= len(heaps[b]):\n",
    "        parent[a] = b\n",
    "        for v in heaps[a]:\n",
    "            heappush(heaps[b], v)\n",
    "        heaps[a] = []\n",
    "    else:\n",
    "        parent[b] = a\n",
    "        for v in heaps[b]:\n",
    "            heappush(heaps[a], v)\n",
    "        heaps[b] = []\n",
    "\n",
    "n, m = map(int, input().split())\n",
    "li = [[] for _ in range(n + 1)]\n",
    "cs = [0] * (n + 1)\n",
    "ls = [0] * (n + 1)\n",
    "for num in range(n):\n",
    "    b, c, l = map(int, input().split())\n",
    "    num += 1\n",
    "    cs[num] = c\n",
    "    ls[num] = l\n",
    "    li[b].append(num)\n",
    "    \n",
    "parent = list(range(n + 1))\n",
    "heaps = [[] for _ in range(n + 1)]\n",
    "max_value = 0\n",
    "dfs(1)\n",
    "\n",
    "print(max_value)"
   ]
  }
 ],
 "metadata": {
  "kernelspec": {
   "display_name": "Python 3",
   "language": "python",
   "name": "python3"
  },
  "language_info": {
   "codemirror_mode": {
    "name": "ipython",
    "version": 3
   },
   "file_extension": ".py",
   "mimetype": "text/x-python",
   "name": "python",
   "nbconvert_exporter": "python",
   "pygments_lexer": "ipython3",
   "version": "3.7.4"
  }
 },
 "nbformat": 4,
 "nbformat_minor": 4
}
