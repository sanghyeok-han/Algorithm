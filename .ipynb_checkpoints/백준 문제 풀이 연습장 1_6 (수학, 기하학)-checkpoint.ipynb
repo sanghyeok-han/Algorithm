{
 "cells": [
  {
   "cell_type": "markdown",
   "metadata": {},
   "source": [
    "https://solved.ac/search?query=tag%3Amath+tier%3Ag3+-+%40%24me+-+tag%3Ageometry&sort=solved&direction=desc&page=1"
   ]
  },
  {
   "cell_type": "markdown",
   "metadata": {},
   "source": [
    "https://www.acmicpc.net/problem/14922 부분평균"
   ]
  },
  {
   "cell_type": "code",
   "execution_count": 3,
   "metadata": {},
   "outputs": [
    {
     "name": "stdout",
     "output_type": "stream",
     "text": [
      "7\n",
      "4 5 2 2 1 5 8\n",
      "3\n"
     ]
    }
   ],
   "source": [
    "inf = float('inf')\n",
    "\n",
    "n = int(input())\n",
    "li = list(map(int, input().split()))\n",
    "\n",
    "min_v1 = inf\n",
    "min_v1_index = -1\n",
    "for i in range(n - 1, 0, -1):\n",
    "    temp = li[i] + li[i - 1]\n",
    "    \n",
    "    if temp < min_v1:\n",
    "        min_v1 = temp\n",
    "        min_v1_index = i - 1\n",
    "        \n",
    "min_v2 = inf\n",
    "min_v2_index = -1\n",
    "for i in range(n - 1, 1, -1):\n",
    "    temp = li[i] + li[i - 1] + li[i - 2]\n",
    "    \n",
    "    if temp < min_v2:\n",
    "        min_v2 = temp\n",
    "        min_v2_index = i - 2\n",
    "        \n",
    "if min_v1 * 3 < min_v2 * 2:\n",
    "    r = min_v1_index\n",
    "elif min_v1 * 3 > min_v2 * 2:\n",
    "    r = min_v2_index\n",
    "else:\n",
    "    r = min(min_v1_index, min_v2_index)\n",
    "    \n",
    "print(r)"
   ]
  },
  {
   "cell_type": "code",
   "execution_count": null,
   "metadata": {},
   "outputs": [],
   "source": [
    "min_v1 / 2 < min_v2 / 3\n",
    "\n",
    "min_v1 * 3 < min_v2 * 2"
   ]
  },
  {
   "cell_type": "markdown",
   "metadata": {},
   "source": [
    "https://www.acmicpc.net/problem/17162 가희의 수열놀이 (Small)"
   ]
  },
  {
   "cell_type": "code",
   "execution_count": 6,
   "metadata": {},
   "outputs": [
    {
     "name": "stdout",
     "output_type": "stream",
     "text": [
      "6 4\n",
      "1 2\n",
      "1 3\n",
      "3\n",
      "-1\n",
      "1 1\n",
      "1 4\n",
      "3\n",
      "4\n"
     ]
    }
   ],
   "source": [
    "import sys\n",
    "input = lambda: sys.stdin.readline().rstrip()\n",
    "\n",
    "inf = float('inf')\n",
    "\n",
    "q, mod = map(int, input().split())\n",
    "\n",
    "stack = []\n",
    "stack_mod = [[] for _ in range(mod)]\n",
    "for _ in range(q):\n",
    "    qu = list(map(int, input().split()))\n",
    "    \n",
    "    tp = qu[0]\n",
    "    if tp == 1:\n",
    "        num = qu[1]\n",
    "        num %= mod\n",
    "        \n",
    "        stack.append(num)\n",
    "        stack_mod[num].append(len(stack) - 1)\n",
    "    elif tp == 2:\n",
    "        if stack:\n",
    "            stack_mod[stack.pop()].pop()\n",
    "    else:\n",
    "        ip = True\n",
    "        min_index = inf\n",
    "        for i in range(mod):\n",
    "            if not stack_mod[i]:\n",
    "                ip = False\n",
    "                break\n",
    "            min_index = min(min_index, stack_mod[i][-1])\n",
    "            \n",
    "        if not ip:\n",
    "            print(-1)\n",
    "        else:\n",
    "            r = len(stack) - min_index\n",
    "            \n",
    "            print(r)"
   ]
  },
  {
   "cell_type": "markdown",
   "metadata": {},
   "source": [
    "https://www.acmicpc.net/problem/11735 정산소"
   ]
  },
  {
   "cell_type": "code",
   "execution_count": 7,
   "metadata": {},
   "outputs": [
    {
     "name": "stdout",
     "output_type": "stream",
     "text": [
      "3 7\n",
      "R 2\n",
      "12\n",
      "C 3\n",
      "10\n",
      "R 2\n",
      "0\n",
      "R 1\n",
      "5\n",
      "C 2\n",
      "5\n",
      "C 1\n",
      "4\n",
      "R 3\n",
      "0\n"
     ]
    }
   ],
   "source": [
    "import sys\n",
    "input = lambda: sys.stdin.readline().rstrip()\n",
    "\n",
    "def get_sum(num):\n",
    "    return num * (num + 1) // 2\n",
    "\n",
    "n, q = map(int, input().split())\n",
    "\n",
    "rows_erd = set() # erased\n",
    "cols_erd = set()\n",
    "\n",
    "row_erd_sum = 0\n",
    "col_erd_sum = 0\n",
    "\n",
    "for _ in range(q):\n",
    "    tp, num = input().split()\n",
    "    num = int(num)\n",
    "    \n",
    "    if tp == 'R':\n",
    "        if num in rows_erd:\n",
    "            r = 0\n",
    "        else:\n",
    "            value = get_sum(num + n) - get_sum(num)\n",
    "            to_minus = num * len(cols_erd) + col_erd_sum\n",
    "            \n",
    "            r = value - to_minus\n",
    "            rows_erd.add(num)\n",
    "            row_erd_sum += num\n",
    "    else:\n",
    "        if num in cols_erd:\n",
    "            r = 0\n",
    "        else:\n",
    "            value = get_sum(num + n) - get_sum(num)\n",
    "            to_minus = num * len(rows_erd) + row_erd_sum\n",
    "            \n",
    "            r = value - to_minus\n",
    "            cols_erd.add(num)\n",
    "            col_erd_sum += num\n",
    "            \n",
    "    print(r)"
   ]
  },
  {
   "cell_type": "markdown",
   "metadata": {},
   "source": [
    "https://www.acmicpc.net/problem/17830 이진수씨의 하루 일과"
   ]
  },
  {
   "cell_type": "code",
   "execution_count": 11,
   "metadata": {},
   "outputs": [
    {
     "name": "stdout",
     "output_type": "stream",
     "text": [
      "0b1101001\n"
     ]
    }
   ],
   "source": [
    "t1 = (1+2+4+8) * (1+2+4)\n",
    "\n",
    "print(bin(t1))"
   ]
  },
  {
   "cell_type": "code",
   "execution_count": 17,
   "metadata": {},
   "outputs": [
    {
     "name": "stdout",
     "output_type": "stream",
     "text": [
      "0b1101001\n"
     ]
    }
   ],
   "source": [
    "t2 = (1+2+4+8) * (1+2+4)\n",
    "\n",
    "print(bin(t2))"
   ]
  },
  {
   "cell_type": "code",
   "execution_count": 24,
   "metadata": {},
   "outputs": [
    {
     "name": "stdout",
     "output_type": "stream",
     "text": [
      "4 0?1?\n",
      "7 5\n"
     ]
    }
   ],
   "source": [
    "import sys\n",
    "input = lambda: sys.stdin.readline().rstrip()\n",
    "\n",
    "def get_value(n, li):\n",
    "    cur = n + n - 1\n",
    "    \n",
    "    first_1_i = -1\n",
    "    for i in range(n):\n",
    "        if li[i] != 1:\n",
    "            cur -= 1\n",
    "        else:\n",
    "            first_1_i = i\n",
    "            break\n",
    "            \n",
    "    if first_1_i == -1:\n",
    "        return 1\n",
    "    \n",
    "    for i in range(first_1_i + 1, n):\n",
    "        if li[i] == 1:\n",
    "            cur += 1\n",
    "            break\n",
    "                \n",
    "    return cur\n",
    "\n",
    "for _ in range(int(input())):\n",
    "    n, s = input().split()\n",
    "    n = int(n)\n",
    "\n",
    "    max_case = [0] * n\n",
    "    for i in range(n):\n",
    "        if s[i] == '0':\n",
    "            max_case[i] = 0\n",
    "        else:\n",
    "            max_case[i] = 1\n",
    "\n",
    "    min_case = [0] * n\n",
    "    for i in range(n):\n",
    "        if s[i] == '1':\n",
    "            min_case[i] = 1\n",
    "        else:\n",
    "            min_case[i] = 0\n",
    "\n",
    "    r1 = get_value(n, max_case)\n",
    "    r2 = get_value(n, min_case)\n",
    "\n",
    "    print(r1, r2)"
   ]
  },
  {
   "cell_type": "markdown",
   "metadata": {},
   "source": [
    "https://www.acmicpc.net/problem/22236 가희와 비행기"
   ]
  },
  {
   "cell_type": "code",
   "execution_count": 29,
   "metadata": {},
   "outputs": [
    {
     "name": "stdout",
     "output_type": "stream",
     "text": [
      "4 1000000007\n",
      "1\n"
     ]
    }
   ],
   "source": [
    "d, mod = map(int, input().split())\n",
    "\n",
    "dp = [[0] * 2002 for _ in range(d + 1)]\n",
    "dp[0][0] = 1\n",
    "dp[1][1] = 1\n",
    "\n",
    "for i in range(1, d + 1):\n",
    "    dp[i][0] = dp[i - 1][1]\n",
    "    dp[i][1] += dp[i - 1][2]\n",
    "    for alti in range(2, 2001):\n",
    "        dp[i][alti] += dp[i - 1][alti - 1] + dp[i - 1][alti + 1]\n",
    "        dp[i][alti] %= mod\n",
    "    \n",
    "print(dp[d][0])"
   ]
  },
  {
   "cell_type": "markdown",
   "metadata": {},
   "source": [
    "https://www.acmicpc.net/problem/3164 패턴"
   ]
  },
  {
   "cell_type": "code",
   "execution_count": 46,
   "metadata": {},
   "outputs": [
    {
     "name": "stdout",
     "output_type": "stream",
     "text": [
      "0 0 0 0\n",
      "0\n"
     ]
    }
   ],
   "source": [
    "x1, y1, x2, y2 = map(int, input().split())\n",
    "\n",
    "total = 0\n",
    "for cur_y in range(y1 + 1, y2 + 1):\n",
    "    nx1, nx2 = x1, x2\n",
    "    \n",
    "    if nx1 < cur_y:\n",
    "        if cur_y % 2 == 0:\n",
    "            total += min(cur_y, nx2) - nx1\n",
    "        nx1 = min(cur_y, nx2)\n",
    "        \n",
    "    if nx1 < nx2:\n",
    "        a = nx1 + 1\n",
    "        b = nx2\n",
    "        \n",
    "        if a % 2 == 1:\n",
    "            a += 1\n",
    "        if b % 2 == 1:\n",
    "            b -= 1\n",
    "            \n",
    "        if a <= b:\n",
    "            if a == b:\n",
    "                total += 1\n",
    "            else:\n",
    "                total += 2 + (b - a - 1) // 2\n",
    "                \n",
    "print(total)"
   ]
  },
  {
   "cell_type": "markdown",
   "metadata": {},
   "source": [
    "https://www.acmicpc.net/problem/9661 돌 게임 7"
   ]
  },
  {
   "cell_type": "code",
   "execution_count": null,
   "metadata": {},
   "outputs": [],
   "source": [
    "def recur(n):\n",
    "    is_win = False\n",
    "    cur = 1\n",
    "    while True:\n",
    "        if cur > n:\n",
    "            break\n",
    "        if not recur(n - cur):\n",
    "            is_win = True\n",
    "            break\n",
    "        cur *= 4\n",
    "        \n",
    "    return is_win\n",
    "\n",
    "for i in range(1, 100):\n",
    "    print(recur(i))"
   ]
  },
  {
   "cell_type": "code",
   "execution_count": 14,
   "metadata": {},
   "outputs": [
    {
     "name": "stdout",
     "output_type": "stream",
     "text": [
      "10\n",
      "CY\n"
     ]
    }
   ],
   "source": [
    "n = int(input())\n",
    "\n",
    "n -= 1\n",
    "n %= 5\n",
    "\n",
    "if n == 1 or n == 4:\n",
    "    print('CY')\n",
    "else:\n",
    "    print('SK')"
   ]
  },
  {
   "cell_type": "markdown",
   "metadata": {},
   "source": [
    "https://www.acmicpc.net/problem/2904 수학은 너무 쉬워"
   ]
  },
  {
   "cell_type": "code",
   "execution_count": 66,
   "metadata": {},
   "outputs": [
    {
     "name": "stdout",
     "output_type": "stream",
     "text": [
      "3\n",
      "62 62 62\n",
      "2 1\n",
      "31 1\n",
      "62 0\n"
     ]
    }
   ],
   "source": [
    "max_num = 1000001\n",
    "ip = [True] * (max_num + 1)\n",
    "ip[0] = ip[1] = False\n",
    "for mod in range(2, int(max_num ** 0.5) + 1):\n",
    "    if ip[mod]:\n",
    "        for v in range(mod * mod, max_num + 1, mod):\n",
    "            ip[v] = False  \n",
    "primes = [i for i, v in enumerate(ip) if v]\n",
    "\n",
    "n = int(input())\n",
    "li = list(map(int, input().split()))\n",
    "\n",
    "cs = [dict() for _ in range(n)]\n",
    "totals = dict()\n",
    "\n",
    "for i in range(n):\n",
    "    num = li[i]\n",
    "    cri = int(num ** 0.5) + 1\n",
    "    for mod in primes:\n",
    "        if mod > cri:\n",
    "            break\n",
    "        c = 0\n",
    "        while num % mod == 0:\n",
    "            c += 1\n",
    "            num //= mod\n",
    "        \n",
    "        if c >= 1:\n",
    "            if mod not in totals:\n",
    "                totals[mod] = c\n",
    "            else:\n",
    "                totals[mod] += c\n",
    "                \n",
    "            if mod not in cs[i]:\n",
    "                cs[i][mod] = c\n",
    "            else:\n",
    "                cs[i][mod] += c\n",
    "                \n",
    "    if num != 1:\n",
    "        if num not in totals:\n",
    "            totals[num] = 1\n",
    "        else:\n",
    "            totals[num] += 1\n",
    "\n",
    "        if num not in cs[i]:\n",
    "            cs[i][num] = 1\n",
    "        else:\n",
    "            cs[i][num] += 1\n",
    "\n",
    "max_sc = 1\n",
    "needed_c = 0\n",
    "for p in primes:\n",
    "    if p not in totals:\n",
    "        continue\n",
    "    \n",
    "    pur = totals[p] // n\n",
    "    print(p, pur)\n",
    "    \n",
    "    max_sc *= p ** pur\n",
    "    \n",
    "    for i in range(n):\n",
    "        if p not in cs[i]:\n",
    "            needed_c += pur\n",
    "        elif cs[i][p] < pur:\n",
    "            needed_c += pur - cs[i][p]\n",
    "            \n",
    "print(max_sc, needed_c)"
   ]
  },
  {
   "cell_type": "markdown",
   "metadata": {},
   "source": [
    "https://www.acmicpc.net/problem/15711 환상의 짝꿍"
   ]
  },
  {
   "cell_type": "code",
   "execution_count": 71,
   "metadata": {},
   "outputs": [
    {
     "name": "stdout",
     "output_type": "stream",
     "text": [
      "148933\n"
     ]
    }
   ],
   "source": [
    "max_num = 2000001\n",
    "ip = [True] * (max_num + 1)\n",
    "ip[0] = ip[1] = False\n",
    "for mod in range(2, int(max_num ** 0.5) + 1):\n",
    "    if ip[mod]:\n",
    "        for v in range(mod * mod, max_num + 1, mod):\n",
    "            ip[v] = False\n",
    "            \n",
    "primes = [i for i, v in enumerate(ip) if v]\n",
    "\n",
    "print(len(primes))"
   ]
  },
  {
   "cell_type": "code",
   "execution_count": 82,
   "metadata": {},
   "outputs": [
    {
     "name": "stdout",
     "output_type": "stream",
     "text": [
      "3 9\n",
      "YES\n"
     ]
    }
   ],
   "source": [
    "import sys\n",
    "input = lambda: sys.stdin.readline().rstrip()\n",
    "\n",
    "max_num = 2000001\n",
    "ip = [True] * (max_num + 1)\n",
    "ip[0] = ip[1] = False\n",
    "for mod in range(2, int(max_num ** 0.5) + 1):\n",
    "    if ip[mod]:\n",
    "        for v in range(mod * mod, max_num + 1, mod):\n",
    "            ip[v] = False\n",
    "            \n",
    "primes = [i for i, v in enumerate(ip) if v]\n",
    "\n",
    "for _ in range(int(input())):\n",
    "    sv = sum(map(int, input().split()))\n",
    "\n",
    "    if sv <= 3:\n",
    "        print('NO')\n",
    "    else:\n",
    "        if sv % 2 == 0:\n",
    "            print('YES')\n",
    "        else:\n",
    "            value = sv - 2\n",
    "\n",
    "            is_p = True\n",
    "            for p in primes:\n",
    "                if p >= value:\n",
    "                    break\n",
    "\n",
    "                if value % p == 0:\n",
    "                    is_p = False\n",
    "                    break\n",
    "\n",
    "            if is_p:\n",
    "                print('YES')\n",
    "            else:\n",
    "                print('NO')"
   ]
  },
  {
   "cell_type": "markdown",
   "metadata": {},
   "source": [
    "https://www.acmicpc.net/problem/7894 큰 수"
   ]
  },
  {
   "cell_type": "code",
   "execution_count": 115,
   "metadata": {},
   "outputs": [
    {
     "name": "stdout",
     "output_type": "stream",
     "text": [
      "2\n",
      "10\n",
      "7\n",
      "20\n",
      "19\n"
     ]
    }
   ],
   "source": [
    "import sys\n",
    "input = lambda: sys.stdin.readline().rstrip()\n",
    "\n",
    "r = [0] * 10000001\n",
    "r[0] = 1\n",
    "\n",
    "cur = 1\n",
    "total = 0\n",
    "cri = int(1e25)\n",
    "for num in range(1, 10000001):\n",
    "    cur *= num\n",
    "    while cur >= cri:\n",
    "        total += 5\n",
    "        cur //= 100000\n",
    "        \n",
    "    temp = total + len(str(cur))\n",
    "    r[num] = temp\n",
    "    \n",
    "for _ in range(int(input())):\n",
    "    n = int(input())\n",
    "    \n",
    "    print(r[n])"
   ]
  },
  {
   "cell_type": "code",
   "execution_count": 117,
   "metadata": {},
   "outputs": [
    {
     "data": {
      "text/plain": [
       "[1, 1, 1, 1, 2, 3, 3, 4, 5, 6]"
      ]
     },
     "execution_count": 117,
     "metadata": {},
     "output_type": "execute_result"
    }
   ],
   "source": [
    "from math import log10\n",
    "import sys\n",
    "input = lambda: sys.stdin.readline().rstrip()\n",
    "\n",
    "r = [0] * 10000001\n",
    "r[0] = 1\n",
    "\n",
    "cur = 0\n",
    "for num in range(1, 10000001):\n",
    "    cur += log10(num)\n",
    "    r[num] = int(cur) + 1\n",
    "\n",
    "for _ in range(int(input())):\n",
    "    n = int(input())\n",
    "    \n",
    "    print(r[n])"
   ]
  },
  {
   "cell_type": "markdown",
   "metadata": {},
   "source": [
    "https://www.acmicpc.net/problem/15976 XCorr"
   ]
  },
  {
   "cell_type": "code",
   "execution_count": 128,
   "metadata": {},
   "outputs": [
    {
     "name": "stdout",
     "output_type": "stream",
     "text": [
      "3\n",
      "0 1\n",
      "4 4\n",
      "9 5\n",
      "3\n",
      "1 3\n",
      "2 7\n",
      "10 7\n",
      "-2\n",
      "2\n",
      "73\n"
     ]
    }
   ],
   "source": [
    "from bisect import bisect_left\n",
    "import sys\n",
    "input = lambda: sys.stdin.readline().rstrip()\n",
    "\n",
    "N = int(input())\n",
    "a_info = [list(map(int, input().split())) for _ in range(N)]\n",
    "    \n",
    "M = int(input())\n",
    "b_info = [list(map(int, input().split())) for _ in range(M)]\n",
    "b_indices = [b_info[i][0] for i in range(M)]\n",
    "    \n",
    "sb_values = [0] * (M + 1)\n",
    "cumul = 0\n",
    "for i in range(M):\n",
    "    cumul += b_info[i][1]\n",
    "    sb_values[i + 1] = cumul\n",
    "    \n",
    "l = int(input())\n",
    "r = int(input())\n",
    "\n",
    "e9 = int(1e9)\n",
    "total = 0\n",
    "for i in range(N - 1, -1, -1):\n",
    "    ai = a_info[i][0]\n",
    "    \n",
    "    e_l = -ai\n",
    "    e_r = e_l + e9 - 1\n",
    "    \n",
    "    nl = max(l, e_l)\n",
    "    nr = min(r, e_r)\n",
    "    \n",
    "    if nl <= nr:\n",
    "        to_add = -e_l\n",
    "        nl += to_add\n",
    "        nr += to_add\n",
    "        \n",
    "        b_info_l = bisect_left(b_indices, nl)\n",
    "        b_info_r = bisect_left(b_indices, nr + 0.1) - 1\n",
    "        \n",
    "        temp = sb_values[b_info_r + 1] - sb_values[b_info_l]\n",
    "        total += a_info[i][1] * temp\n",
    "        \n",
    "print(total)"
   ]
  },
  {
   "cell_type": "markdown",
   "metadata": {},
   "source": [
    "https://www.acmicpc.net/problem/2381 최대 거리"
   ]
  },
  {
   "cell_type": "code",
   "execution_count": 13,
   "metadata": {},
   "outputs": [
    {
     "name": "stdout",
     "output_type": "stream",
     "text": [
      "2\n",
      "1 1\n",
      "1 1\n",
      "0\n"
     ]
    }
   ],
   "source": [
    "from collections import defaultdict as dd\n",
    "import sys\n",
    "# input = lambda: sys.stdin.readline().rstrip()\n",
    "\n",
    "n = int(input())\n",
    "li = [list(map(int, input().split())) for _ in range(n)]\n",
    "\n",
    "d = dd(list)\n",
    "for x, y in li:\n",
    "    d[str(x)].append(y)\n",
    "    \n",
    "xs = []\n",
    "ys = []\n",
    "for key in sorted(map(int, d.keys())):\n",
    "    d[str(key)].sort()\n",
    "    xs.append(key)\n",
    "    ys.append((d[str(key)][0], d[str(key)][-1]))\n",
    "    \n",
    "max_r = 0\n",
    "    \n",
    "max_w = -1\n",
    "max_w_index = -1\n",
    "cri_x = xs[-1]\n",
    "cri_y = ys[-1][0]\n",
    "for xi in range(len(xs) - 1, -1, -1):\n",
    "    w = cri_x - xs[xi] + cri_y - ys[xi][0]\n",
    "    \n",
    "    if w >= max_w:\n",
    "        max_w = w\n",
    "        max_w_index = xi\n",
    "        \n",
    "upper_left_index = max_w_index\n",
    "\n",
    "max_w = -1\n",
    "max_w_index = -1\n",
    "cri_x = xs[0]\n",
    "cri_y = ys[0][-1]\n",
    "for xi in range(len(xs)):\n",
    "    w = xs[xi] - cri_x + ys[xi][-1] - cri_y\n",
    "    \n",
    "    if w >= max_w:\n",
    "        max_w = w\n",
    "        max_w_index = xi\n",
    "        \n",
    "lower_right_index = max_w_index\n",
    "\n",
    "if upper_left_index < lower_right_index and ys[upper_left_index][0] <= ys[lower_right_index][-1]:\n",
    "    temp = xs[lower_right_index] - xs[upper_left_index] + ys[lower_right_index][-1] - ys[upper_left_index][0]\n",
    "    max_r = max(max_r, temp)\n",
    "    \n",
    "max_w = -1\n",
    "max_w_index = -1\n",
    "cri_x = xs[-1]\n",
    "cri_y = ys[-1][-1]\n",
    "for xi in range(len(xs) - 1, -1, -1):\n",
    "    w = cri_x - xs[xi] + ys[xi][-1] - cri_y \n",
    "    \n",
    "    if w >= max_w:\n",
    "        max_w = w\n",
    "        max_w_index = xi\n",
    "        \n",
    "upper_right_index = max_w_index\n",
    "\n",
    "max_w = -1\n",
    "max_w_index = -1\n",
    "cri_x = xs[0]\n",
    "cri_y = ys[0][0]\n",
    "for xi in range(len(xs)):\n",
    "    w = xs[xi] - cri_x + cri_y - ys[xi][0]\n",
    "    \n",
    "    if w >= max_w:\n",
    "        max_w = w\n",
    "        max_w_index = xi\n",
    "        \n",
    "lower_left_index = max_w_index\n",
    "\n",
    "if upper_right_index < lower_left_index and ys[upper_right_index][-1] >= ys[lower_left_index][0]:\n",
    "    temp = xs[lower_left_index] - xs[upper_right_index] + ys[upper_right_index][-1] - ys[lower_left_index][0]\n",
    "    max_r = max(max_r, temp)\n",
    "    \n",
    "print(max_r)"
   ]
  },
  {
   "cell_type": "code",
   "execution_count": 14,
   "metadata": {},
   "outputs": [
    {
     "name": "stdout",
     "output_type": "stream",
     "text": [
      "5\n",
      "1 1\n",
      "3 5\n",
      "2 7\n",
      "8 1\n",
      "4 4\n",
      "12\n"
     ]
    }
   ],
   "source": [
    "import sys\n",
    "input = lambda: sys.stdin.readline().rstrip()\n",
    "\n",
    "n = int(input())\n",
    "li = [list(map(int, input().split())) for _ in range(n)]\n",
    "\n",
    "adds = []\n",
    "minuses = []\n",
    "for a, b in li:\n",
    "    adds.append(a + b)\n",
    "    minuses.append(a - b)\n",
    "    \n",
    "adds.sort()\n",
    "minuses.sort()\n",
    "\n",
    "t1 = max(adds) - min(adds)\n",
    "t2 = max(minuses) - min(minuses)\n",
    "\n",
    "print(max(t1, t2))"
   ]
  },
  {
   "cell_type": "markdown",
   "metadata": {},
   "source": [
    "https://www.acmicpc.net/problem/2528 사다리"
   ]
  },
  {
   "cell_type": "code",
   "execution_count": 26,
   "metadata": {},
   "outputs": [
    {
     "name": "stdout",
     "output_type": "stream",
     "text": [
      "4 6\n",
      "4 1\n",
      "2 0\n",
      "4 0\n",
      "2 1\n",
      "0\n"
     ]
    }
   ],
   "source": [
    "import sys\n",
    "# input = lambda: sys.stdin.readline().rstrip()\n",
    "\n",
    "def get_init_lr(length, d):\n",
    "    if d == 0:\n",
    "        cur_l = 0\n",
    "        cur_r = length\n",
    "    else:\n",
    "        cur_l = L - length\n",
    "        cur_r = L\n",
    "        \n",
    "    return cur_l, cur_r\n",
    "\n",
    "def move(l, r, d):\n",
    "    if d == 0:\n",
    "        l += 1\n",
    "        r += 1\n",
    "        if r == L:\n",
    "            d = 1\n",
    "    else:\n",
    "        l -= 1\n",
    "        r -= 1\n",
    "        if l == 0:\n",
    "            d = 0\n",
    "    return l, r, d\n",
    "\n",
    "def check(cur_l, cur_r, nxt_l, nxt_r):\n",
    "    if cur_l <= nxt_l <= cur_r or cur_l <= nxt_r <= cur_r:\n",
    "        return True\n",
    "    if nxt_l <= cur_l <= nxt_r or nxt_l <= cur_r <= nxt_r:\n",
    "        return True\n",
    "    return False\n",
    "\n",
    "n, L = map(int, input().split())\n",
    "li = [list(map(int, input().split())) for _ in range(n)]\n",
    "\n",
    "tm = 0\n",
    "for i in range(n - 1):  \n",
    "    cur_length = li[i][0]\n",
    "    cur_d = li[i][1]\n",
    "    cur_l, cur_r = get_init_lr(cur_length, cur_d)\n",
    "    \n",
    "    cur_left = L - cur_length\n",
    "    if cur_left >= 1:\n",
    "        ntm = tm % (cur_left * 2)\n",
    "    else:\n",
    "        ntm = 0\n",
    "        \n",
    "    for _ in range(ntm):\n",
    "        cur_l, cur_r, cur_d = move(cur_l, cur_r, cur_d)\n",
    "        \n",
    "    nxt_length = li[i + 1][0]\n",
    "    nxt_d = li[i + 1][1]\n",
    "    nxt_l, nxt_r = get_init_lr(nxt_length, nxt_d)\n",
    "    \n",
    "    nxt_left = L - nxt_length\n",
    "    if nxt_left >= 1:\n",
    "        ntm = tm % (nxt_left * 2)\n",
    "    else:\n",
    "        ntm = 0\n",
    "        \n",
    "    for _ in range(ntm):\n",
    "        nxt_l, nxt_r, nxt_d = move(nxt_l, nxt_r, nxt_d)\n",
    "        \n",
    "    while True:\n",
    "        if check(cur_l, cur_r, nxt_l, nxt_r):\n",
    "            break\n",
    "        cur_l, cur_r, cur_d = move(cur_l, cur_r, cur_d)\n",
    "        nxt_l, nxt_r, nxt_d = move(nxt_l, nxt_r, nxt_d)\n",
    "        tm += 1\n",
    "        \n",
    "print(tm)"
   ]
  },
  {
   "cell_type": "markdown",
   "metadata": {},
   "source": [
    "https://www.acmicpc.net/problem/12107 약수 지우기 게임 1"
   ]
  },
  {
   "cell_type": "code",
   "execution_count": null,
   "metadata": {},
   "outputs": [],
   "source": [
    "def get_divisors(num):\n",
    "    divisors = set()\n",
    "    for mod in range(1, int(num ** 0.5) + 1):\n",
    "        if num % mod == 0:\n",
    "            divisors.add(mod)\n",
    "            divisors.add(num // mod)\n",
    "            \n",
    "    return divisors\n",
    "\n",
    "def recur(st):\n",
    "    if not st:\n",
    "        return True\n",
    "    \n",
    "    is_win = False\n",
    "    for value in st:\n",
    "        nst = st.copy()\n",
    "        \n",
    "        for v in get_divisors(value):\n",
    "            nst.discard(v)\n",
    "            \n",
    "        if not recur(nst):\n",
    "            is_win = True\n",
    "            break\n",
    "        \n",
    "    return is_win\n",
    "\n",
    "for num in range(1, 30):\n",
    "    print(num, recur(set(range(1, num + 1))))"
   ]
  },
  {
   "cell_type": "code",
   "execution_count": null,
   "metadata": {},
   "outputs": [],
   "source": [
    "n = int(input())\n",
    "\n",
    "if n == 1:\n",
    "    print('B')\n",
    "else:\n",
    "    print('A')"
   ]
  },
  {
   "cell_type": "markdown",
   "metadata": {},
   "source": [
    "https://www.acmicpc.net/problem/3101 토끼의 이동"
   ]
  },
  {
   "cell_type": "code",
   "execution_count": 88,
   "metadata": {},
   "outputs": [
    {
     "name": "stdout",
     "output_type": "stream",
     "text": [
      "3 8\n",
      "DDRRUULL\n",
      "41\n"
     ]
    }
   ],
   "source": [
    "def get_group_num(x, y):\n",
    "    diff = x\n",
    "    group_num = y + diff + 1\n",
    "    return group_num\n",
    "\n",
    "def get_num(x, y):\n",
    "    group_num = get_group_num(x, y)\n",
    "    base = s_group_sizes[group_num - 1]\n",
    "\n",
    "    to_add = 0\n",
    "    if group_num % 2 == 0:\n",
    "        base_x = moved[group_num]\n",
    "        diff = x - base_x\n",
    "        to_add = diff + 1\n",
    "    else:\n",
    "        base_y = moved[group_num]\n",
    "        diff = y - base_y\n",
    "        to_add = diff + 1\n",
    "        \n",
    "    r = base + to_add\n",
    "    return r\n",
    "\n",
    "dirs = 'UDLR'\n",
    "dx = [-1, 1, 0, 0]\n",
    "dy = [0, 0, -1, 1]\n",
    "\n",
    "n, k = map(int, input().split())\n",
    "s = input()\n",
    "\n",
    "group_sizes = [0] * (n * 2)\n",
    "s_group_sizes = [0] * (n * 2)\n",
    "moved = [0] * (n * 2)\n",
    "cur = 1\n",
    "cumul = 0\n",
    "delta = 1\n",
    "cur_moved = 0\n",
    "for i in range(1, n * 2):\n",
    "    group_sizes[i] = cur\n",
    "    cumul += cur\n",
    "    s_group_sizes[i] = cumul\n",
    "    \n",
    "    if delta == -1:\n",
    "        cur_moved += 1\n",
    "    moved[i] = cur_moved\n",
    "    \n",
    "    if cur == n:\n",
    "        delta = -1\n",
    "        \n",
    "    cur += delta\n",
    "\n",
    "total = 1\n",
    "x = y = 0\n",
    "for v in s:\n",
    "    d = dirs.find(v)\n",
    "    x = x + dx[d]\n",
    "    y = y + dy[d]\n",
    "    total += get_num(x, y)\n",
    "    \n",
    "print(total)"
   ]
  },
  {
   "cell_type": "markdown",
   "metadata": {},
   "source": [
    "https://www.acmicpc.net/problem/13199 치킨 먹고 싶다"
   ]
  },
  {
   "cell_type": "code",
   "execution_count": 97,
   "metadata": {},
   "outputs": [
    {
     "name": "stdout",
     "output_type": "stream",
     "text": [
      "1\n"
     ]
    }
   ],
   "source": [
    "import sys\n",
    "# input = lambda: sys.stdin.readline().rstrip()\n",
    "\n",
    "for _ in range(int(input())):\n",
    "    p, m, f, c = map(int, input().split())\n",
    "\n",
    "    t1 = t2 = 0\n",
    "    \n",
    "    base = (m // p)\n",
    "    coupon_c = base * c\n",
    "    t1 = base + coupon_c // f\n",
    "    \n",
    "    base = (m // p)\n",
    "    coupon_c = base * c\n",
    "    t2 = base\n",
    "    if coupon_c >= f:\n",
    "        coupon_back = f - c\n",
    "\n",
    "        diff = coupon_c - (f - 1)\n",
    "        t2 += diff // coupon_back\n",
    "        if diff % coupon_back:\n",
    "            t2 += 1\n",
    "\n",
    "    print(t2 - t1)"
   ]
  },
  {
   "cell_type": "markdown",
   "metadata": {},
   "source": [
    "https://www.acmicpc.net/problem/7806 GCD!"
   ]
  },
  {
   "cell_type": "code",
   "execution_count": 98,
   "metadata": {},
   "outputs": [
    {
     "data": {
      "text/plain": [
       "31622.776601683792"
      ]
     },
     "execution_count": 98,
     "metadata": {},
     "output_type": "execute_result"
    }
   ],
   "source": [
    "1000000000 ** 0.5"
   ]
  },
  {
   "cell_type": "code",
   "execution_count": 110,
   "metadata": {},
   "outputs": [
    {
     "name": "stdout",
     "output_type": "stream",
     "text": [
      "3 10\n",
      "2\n",
      "10 240\n",
      "240\n",
      "12 364\n",
      "28\n",
      "100 2351\n",
      "1\n",
      "629 163547\n",
      "67\n",
      "asdf\n"
     ]
    }
   ],
   "source": [
    "from collections import defaultdict as dd\n",
    "import sys\n",
    "# input = lambda: sys.stdin.readline().rstrip()\n",
    "\n",
    "while True:\n",
    "    try:\n",
    "        n, k = map(int, input().split())\n",
    "\n",
    "        num = k\n",
    "        ct_k = dd(int)\n",
    "        for mod in range(2, int(num ** 0.5) + 1):\n",
    "            c = 0\n",
    "            while num % mod == 0:\n",
    "                c += 1\n",
    "                num //= mod\n",
    "\n",
    "            if c >= 1:\n",
    "                ct_k[mod] = c\n",
    "\n",
    "        if num != 1:\n",
    "            ct_k[num] = 1\n",
    "\n",
    "        result = 1\n",
    "        for p in ct_k:\n",
    "            cur_p = p\n",
    "            c = 0\n",
    "            while True:\n",
    "                c += n // cur_p\n",
    "                cur_p *= p\n",
    "\n",
    "                if cur_p > n:\n",
    "                    break\n",
    "\n",
    "            temp = min(c, ct_k[p])\n",
    "            result *= p ** temp\n",
    "\n",
    "        print(result)\n",
    "    except:\n",
    "        break"
   ]
  },
  {
   "cell_type": "markdown",
   "metadata": {},
   "source": [
    "### 뒤집기 15999"
   ]
  },
  {
   "cell_type": "code",
   "execution_count": null,
   "metadata": {},
   "outputs": [],
   "source": [
    "?\n",
    "\n",
    "->\n",
    "\n",
    "WB\n",
    "BB"
   ]
  },
  {
   "cell_type": "code",
   "execution_count": null,
   "metadata": {},
   "outputs": [],
   "source": [
    "WBW\n",
    "BWB\n",
    "WBW\n",
    "\n",
    "BBW\n",
    "BWB\n",
    "WBW\n",
    "\n",
    "BBB\n",
    "BWB\n",
    "WBW\n",
    "\n",
    "WWW\n",
    "WWW\n",
    "WBW\n",
    "\n",
    "WWW\n",
    "WWW\n",
    "WWW\n",
    "\n",
    "BBB\n",
    "BBB\n",
    "BBB\n",
    "\n",
    "WWW\n",
    "WWW\n",
    "WWW"
   ]
  },
  {
   "cell_type": "code",
   "execution_count": null,
   "metadata": {},
   "outputs": [],
   "source": [
    "WBWWBBBB WWBWBBBB WBBWBBBB\n",
    "\n",
    "WWWWBBBB"
   ]
  },
  {
   "cell_type": "code",
   "execution_count": null,
   "metadata": {},
   "outputs": [],
   "source": [
    "WBBBWWWWWWWBW    WBBBWWWWWWBWW\n",
    "\n",
    "WWWWWWWWWWWBW    WBBBWWWWWWWWW\n",
    "\n",
    "BBBBBBBBBBBBW    BBBBWWWWWWWWW\n",
    "\n",
    "WWWWWWWWWWWWW"
   ]
  },
  {
   "cell_type": "code",
   "execution_count": null,
   "metadata": {},
   "outputs": [],
   "source": [
    "BWB BWB\n",
    "\n",
    "BBB BWW WBW WWB BBW WBB\n",
    "\n",
    "WWW"
   ]
  },
  {
   "cell_type": "code",
   "execution_count": null,
   "metadata": {},
   "outputs": [],
   "source": [
    "안쪽에 있는 것들이 자유임"
   ]
  },
  {
   "cell_type": "code",
   "execution_count": 114,
   "metadata": {},
   "outputs": [
    {
     "name": "stdout",
     "output_type": "stream",
     "text": [
      "2 2\n",
      "BB\n",
      "BB\n",
      "16\n"
     ]
    }
   ],
   "source": [
    "from collections import deque\n",
    "\n",
    "mod = 1000000007\n",
    "\n",
    "dx = [-1, 1, 0, 0]\n",
    "dy = [0, 0, -1, 1]\n",
    "\n",
    "n, m = map(int, input().split())\n",
    "li = [input() for _ in range(n)]\n",
    "\n",
    "vt = [[False] * m for _ in range(n)]\n",
    "total_inner_c = 0\n",
    "for i in range(n):\n",
    "    for j in range(m):\n",
    "        if vt[i][j]:\n",
    "            continue\n",
    "        vt[i][j] = True\n",
    "        cri = li[i][j]\n",
    "\n",
    "        queue = deque()\n",
    "        queue.append((i, j))\n",
    "        inner_c = 0\n",
    "        while queue:\n",
    "            x, y = queue.popleft()\n",
    "            \n",
    "            is_diff_around = False\n",
    "            for d in range(4):\n",
    "                nx = x + dx[d]\n",
    "                ny = y + dy[d]\n",
    "                \n",
    "                if nx < 0 or nx >= n or ny < 0 or ny >= m:\n",
    "                    continue\n",
    "                if li[nx][ny] != cri:\n",
    "                    is_diff_around = True\n",
    "                    continue\n",
    "                if not vt[nx][ny]:\n",
    "                    vt[nx][ny] = True\n",
    "                    queue.append((nx, ny))\n",
    "                    \n",
    "            if not is_diff_around:\n",
    "                inner_c += 1\n",
    "                \n",
    "        total_inner_c += inner_c\n",
    "        \n",
    "result = pow(2, total_inner_c, mod)\n",
    "\n",
    "print(result)"
   ]
  },
  {
   "cell_type": "code",
   "execution_count": 122,
   "metadata": {},
   "outputs": [
    {
     "name": "stdout",
     "output_type": "stream",
     "text": [
      "2 2\n",
      "BB\n",
      "BB\n",
      "16\n"
     ]
    }
   ],
   "source": [
    "import sys\n",
    "input = lambda: sys.stdin.readline().rstrip()\n",
    "\n",
    "mod = 1000000007\n",
    "\n",
    "dx = [-1, 1, 0, 0]\n",
    "dy = [0, 0, -1, 1]\n",
    "\n",
    "n, m = map(int, input().split())\n",
    "li = [input() for _ in range(n)]\n",
    "\n",
    "r = 1\n",
    "for x in range(n):\n",
    "    for y in range(m):\n",
    "        cri = li[x][y]\n",
    "        \n",
    "        is_diff_around = False\n",
    "        for d in range(4):\n",
    "            nx = x + dx[d]\n",
    "            ny = y + dy[d]\n",
    "\n",
    "            if nx < 0 or nx >= n or ny < 0 or ny >= m:\n",
    "                continue\n",
    "            if li[nx][ny] != cri:\n",
    "                is_diff_around = True\n",
    "                continue          \n",
    "                \n",
    "        if not is_diff_around:\n",
    "            r *= 2\n",
    "            r %= mod\n",
    "\n",
    "print(r)"
   ]
  },
  {
   "cell_type": "markdown",
   "metadata": {},
   "source": [
    "### 소수마을 14431"
   ]
  },
  {
   "cell_type": "code",
   "execution_count": 124,
   "metadata": {},
   "outputs": [
    {
     "data": {
      "text/plain": [
       "16000000"
      ]
     },
     "execution_count": 124,
     "metadata": {},
     "output_type": "execute_result"
    }
   ],
   "source": [
    "4000 * 4000"
   ]
  },
  {
   "cell_type": "code",
   "execution_count": 129,
   "metadata": {},
   "outputs": [
    {
     "name": "stdout",
     "output_type": "stream",
     "text": [
      "1 2 5 4\n",
      "0\n",
      "-1\n"
     ]
    }
   ],
   "source": [
    "from heapq import heappush, heappop\n",
    "import sys\n",
    "input = lambda: sys.stdin.readline().rstrip()\n",
    "\n",
    "inf = float('inf')\n",
    "\n",
    "def get_dist(x1, y1, x2, y2):\n",
    "    dist = ((x2 - x1) ** 2 + (y1 - y2) ** 2) ** 0.5\n",
    "    dist = int(dist)\n",
    "    \n",
    "    return dist\n",
    "\n",
    "max_num = 8500\n",
    "ip = [True] * (max_num + 1)\n",
    "ip[0] = ip[1] = False\n",
    "for mod in range(2, int(max_num ** 0.5) + 1):\n",
    "    if ip[mod]:\n",
    "        for v in range(mod * mod, max_num + 1, mod):\n",
    "            ip[v] = False\n",
    "            \n",
    "primes = {i for i, v in enumerate(ip) if v}\n",
    "\n",
    "sx, sy, ex, ey = map(int,input().split())\n",
    "n = int(input())\n",
    "li = [[sx, sy]] + [list(map(int, input().split())) for _ in range(n)] + [[ex, ey]]\n",
    "\n",
    "nn = len(li)\n",
    "\n",
    "nli = [[] for _ in range(nn)]\n",
    "for i in range(nn):\n",
    "    for j in range(i + 1, nn):\n",
    "        dist = get_dist(li[i][0], li[i][1], li[j][0], li[j][1])\n",
    "        if dist in primes:\n",
    "            nli[i].append((j, dist))\n",
    "            nli[j].append((i, dist))\n",
    "            \n",
    "dists = [inf] * nn\n",
    "\n",
    "start = 0\n",
    "dists[0] = start\n",
    "\n",
    "heap = []\n",
    "heappush(heap, (0, start))\n",
    "\n",
    "while heap:\n",
    "    dist, value = heappop(heap)\n",
    "    \n",
    "    if dist > dists[value]:\n",
    "        continue\n",
    "        \n",
    "    for v, d in nli[value]:\n",
    "        ndist = dist + d\n",
    "        if ndist < dists[v]:\n",
    "            dists[v] = ndist\n",
    "            heappush(heap, (ndist, v))\n",
    "            \n",
    "result = dists[nn - 1]\n",
    "\n",
    "if result == inf:\n",
    "    print(-1)\n",
    "else:\n",
    "    print(result)"
   ]
  },
  {
   "cell_type": "markdown",
   "metadata": {},
   "source": [
    "https://www.acmicpc.net/problem/18234 당근 훔쳐 먹기"
   ]
  },
  {
   "cell_type": "code",
   "execution_count": null,
   "metadata": {},
   "outputs": [],
   "source": [
    "n일 남기 전까지는 먹을 필요 없음"
   ]
  },
  {
   "cell_type": "code",
   "execution_count": 132,
   "metadata": {},
   "outputs": [
    {
     "name": "stdout",
     "output_type": "stream",
     "text": [
      "6 10\n",
      "1 10\n",
      "2 9\n",
      "3 8\n",
      "3 5\n",
      "6 6\n",
      "5 6\n",
      "324\n"
     ]
    }
   ],
   "source": [
    "import sys\n",
    "# input = lambda: sys.stdin.readline().rstrip()\n",
    "\n",
    "n, t = map(int, input().split())\n",
    "li = [list(map(int, input().split())) for _ in range(n)]\n",
    "\n",
    "init_t = t - n\n",
    "total = 0\n",
    "for w, p in li:\n",
    "    total += w\n",
    "    total += p * init_t\n",
    "    \n",
    "li.sort(key=lambda x: x[1])\n",
    "for i in range(n):\n",
    "    total += li[i][1] * i\n",
    "    \n",
    "print(total)"
   ]
  },
  {
   "cell_type": "markdown",
   "metadata": {},
   "source": [
    "https://www.acmicpc.net/problem/1033 칵테일"
   ]
  },
  {
   "cell_type": "code",
   "execution_count": 21,
   "metadata": {},
   "outputs": [
    {
     "name": "stdout",
     "output_type": "stream",
     "text": [
      "4\n",
      "2 3 6 8\n",
      "0 1 9 3\n",
      "3 0 7 5\n",
      "60 20 63 84\n"
     ]
    }
   ],
   "source": [
    "from math import gcd\n",
    "\n",
    "n = int(input())\n",
    "li = [list(map(int, input().split())) for _ in range(n - 1)]\n",
    "\n",
    "cur = 1\n",
    "for a, b, p, q in li:\n",
    "    cur *= p * q\n",
    "    \n",
    "r = [-1] * n\n",
    "r[0] = cur\n",
    "\n",
    "for _ in range(10):\n",
    "    for a, b, p, q in li:\n",
    "        if r[a] != -1 and r[b] == -1:\n",
    "            r[b] = q * r[a] // p\n",
    "        elif r[a] == -1 and r[b] != -1:\n",
    "            r[a] = p * r[b] // q\n",
    "            \n",
    "g = r[0]\n",
    "for i in range(1, n):\n",
    "    g = gcd(g, r[i])\n",
    "    \n",
    "for i in range(n):\n",
    "    r[i] //= g\n",
    "    \n",
    "print(*r)"
   ]
  },
  {
   "cell_type": "markdown",
   "metadata": {},
   "source": [
    "https://www.acmicpc.net/problem/1222 홍준 프로그래밍 대회"
   ]
  },
  {
   "cell_type": "code",
   "execution_count": 30,
   "metadata": {},
   "outputs": [
    {
     "data": {
      "text/plain": [
       "1048576"
      ]
     },
     "execution_count": 30,
     "metadata": {},
     "output_type": "execute_result"
    }
   ],
   "source": [
    "2 ** 20"
   ]
  },
  {
   "cell_type": "code",
   "execution_count": 34,
   "metadata": {},
   "outputs": [
    {
     "data": {
      "text/plain": [
       "1021020"
      ]
     },
     "execution_count": 34,
     "metadata": {},
     "output_type": "execute_result"
    }
   ],
   "source": [
    "2*2*3*5*7*11*13*17"
   ]
  },
  {
   "cell_type": "code",
   "execution_count": null,
   "metadata": {},
   "outputs": [],
   "source": [
    "012 01 01 01 01 01 01"
   ]
  },
  {
   "cell_type": "code",
   "execution_count": 36,
   "metadata": {},
   "outputs": [
    {
     "data": {
      "text/plain": [
       "192"
      ]
     },
     "execution_count": 36,
     "metadata": {},
     "output_type": "execute_result"
    }
   ],
   "source": [
    "3*2*2*2*2*2*2"
   ]
  },
  {
   "cell_type": "code",
   "execution_count": 59,
   "metadata": {},
   "outputs": [
    {
     "name": "stdout",
     "output_type": "stream",
     "text": [
      "3\n",
      "1 2 4\n",
      "4\n"
     ]
    }
   ],
   "source": [
    "def make_case(cur_i, cur):\n",
    "    if cur_i == ct_len:\n",
    "        case_ct[cur] += 1\n",
    "        return\n",
    "    \n",
    "    cur_v = int(ct[cur_i][0])\n",
    "    for c in range(ct[cur_i][1] + 1):\n",
    "        make_case(cur_i + 1, cur * cur_v ** c)\n",
    "\n",
    "max_num = 2000000\n",
    "sp = [0] * (max_num + 1)\n",
    "primes = []\n",
    "for i in range(2, max_num + 1):\n",
    "    if sp[i] == 0:\n",
    "        sp[i] = i\n",
    "        primes.append(i)\n",
    "        \n",
    "    j = 0\n",
    "    while j < len(primes) and i * primes[j] <= max_num and primes[j] <= sp[i]:\n",
    "        sp[i * primes[j]] = primes[j]\n",
    "        j += 1\n",
    "\n",
    "n = int(input())\n",
    "li = list(map(int, input().split()))\n",
    "\n",
    "case_ct = [0] * 2000001\n",
    "for v in li:\n",
    "    num = v\n",
    "    ct = {}\n",
    "    while num > 1:\n",
    "        s_sp_num = str(sp[num])\n",
    "        \n",
    "        if s_sp_num in ct:\n",
    "            ct[s_sp_num] += 1\n",
    "        else:\n",
    "            ct[s_sp_num] = 1\n",
    "            \n",
    "        num //= sp[num]\n",
    "    \n",
    "    ct = list(ct.items())\n",
    "    ct_len = len(ct)\n",
    "    make_case(0, 1)\n",
    "    \n",
    "max_r = n\n",
    "for num in range(2000001):\n",
    "    if case_ct[num] >= 2:\n",
    "        v = num * case_ct[num]\n",
    "        max_r = max(max_r, v)\n",
    "        \n",
    "print(max_r)"
   ]
  },
  {
   "cell_type": "code",
   "execution_count": null,
   "metadata": {},
   "outputs": [],
   "source": [
    "from collections import Counter\n",
    "\n",
    "n = int(input())\n",
    "ct = Counter(input().split())\n",
    "\n",
    "ul = 2000001\n",
    "max_r = n\n",
    "for num in range(2, ul):\n",
    "    c = 0\n",
    "    for multi in range(num, ul, num):\n",
    "        smulti = str(multi)\n",
    "        if smulti in ct:\n",
    "            c += ct[smulti]\n",
    "            \n",
    "    if c >= 2:\n",
    "        max_r = max(max_r, num * c)\n",
    "        \n",
    "print(max_r)"
   ]
  },
  {
   "cell_type": "markdown",
   "metadata": {},
   "source": [
    "https://www.acmicpc.net/problem/1242 소풍"
   ]
  },
  {
   "cell_type": "code",
   "execution_count": 111,
   "metadata": {},
   "outputs": [
    {
     "name": "stdout",
     "output_type": "stream",
     "text": [
      "99999 11111 3\n",
      "69557\n"
     ]
    }
   ],
   "source": [
    "n, k, m = map(int, input().split())\n",
    "\n",
    "ctdi = k - 1 # cur to del i\n",
    "ctdi %= n\n",
    "m -= 1\n",
    "r = 1\n",
    "while ctdi != m:\n",
    "    r += 1\n",
    "    if ctdi < m:\n",
    "        n -= 1\n",
    "        m -= 1\n",
    "        ctdi += k - 1\n",
    "        ctdi %= n\n",
    "    else:\n",
    "        n -= 1\n",
    "        ctdi += k - 1\n",
    "        ctdi %= n\n",
    "        \n",
    "print(r)"
   ]
  },
  {
   "cell_type": "markdown",
   "metadata": {},
   "source": [
    "https://www.acmicpc.net/problem/11693 n^m의 약수의 합"
   ]
  },
  {
   "cell_type": "code",
   "execution_count": 136,
   "metadata": {},
   "outputs": [
    {
     "name": "stdout",
     "output_type": "stream",
     "text": [
      "3 2\n",
      "13\n"
     ]
    }
   ],
   "source": [
    "mod = 1000000007\n",
    "\n",
    "def p_facto(num):\n",
    "    cs = {}\n",
    "    for mod in range(2, int(num ** 0.5) + 1):\n",
    "        c = 0\n",
    "        while num % mod == 0:\n",
    "            num //= mod\n",
    "            c += 1\n",
    "        cs[mod] = c\n",
    "    \n",
    "    if num != 1:\n",
    "        cs[num] = 1\n",
    "        \n",
    "    return cs\n",
    "\n",
    "def get_r_sum(a, r, length):\n",
    "    temp = a * (pow(r, length, mod) - 1) % mod\n",
    "    temp *= pow(r - 1, mod - 2, mod)\n",
    "    temp %= mod\n",
    "    \n",
    "    return temp\n",
    "\n",
    "n, m = map(int, input().split())\n",
    "\n",
    "cs = p_facto(n)\n",
    "total = 1\n",
    "for key in cs:\n",
    "    a = 1\n",
    "    r = key\n",
    "    length = cs[key] * m + 1\n",
    "    \n",
    "    total *= get_r_sum(a, r, length)\n",
    "    total %= mod\n",
    "\n",
    "print(total)"
   ]
  },
  {
   "cell_type": "markdown",
   "metadata": {},
   "source": [
    "https://www.acmicpc.net/problem/9213 꽤 좋은 수"
   ]
  },
  {
   "cell_type": "code",
   "execution_count": null,
   "metadata": {},
   "outputs": [],
   "source": [
    "# 오일러의 체를 이용한 소인수분해 + 등비수열의 합을 이용한 약수의 합 구하기\n",
    "import io, os, sys\n",
    "input = io.BytesIO(os.read(0,os.fstat(0).st_size)).readline\n",
    "\n",
    "def get_r_sum(a, r, length):\n",
    "    temp = a * (r ** length - 1) // (r - 1)\n",
    "    \n",
    "    return temp\n",
    "\n",
    "max_num = 1000000\n",
    "sp = [0] * (max_num + 1)\n",
    "primes = []\n",
    "for i in range(2, max_num + 1):\n",
    "    if sp[i] == 0:\n",
    "        sp[i] = i\n",
    "        primes.append(i)\n",
    "        \n",
    "    j = 0\n",
    "    while j < len(primes) and i * primes[j] <= max_num and primes[j] <= sp[i]:\n",
    "        sp[i * primes[j]] = primes[j]\n",
    "        j += 1\n",
    "        \n",
    "diffs = [0] * 1000001\n",
    "for num in range(2, 1000001):\n",
    "    ct = {}\n",
    "    nnum = num\n",
    "    while nnum > 1:\n",
    "        sp_num = sp[nnum]\n",
    "        if sp_num in ct:\n",
    "            ct[sp_num] += 1\n",
    "        else:\n",
    "            ct[sp_num] = 1\n",
    "        nnum //= sp[nnum]\n",
    "    \n",
    "    total = 1\n",
    "    for key in ct:\n",
    "        a = 1\n",
    "        r = key\n",
    "        length = ct[key] + 1\n",
    "        total *= get_r_sum(a, r, length)\n",
    "    total -= num\n",
    "    \n",
    "    diffs[num] = abs(num - total)\n",
    "\n",
    "tn = 1\n",
    "while True:\n",
    "    start, stop, badness = map(int, input().split())\n",
    "    if start == stop == badness == 0:\n",
    "        break\n",
    "    \n",
    "    c = 0\n",
    "    for i in range(start, stop + 1):\n",
    "        if diffs[i] <= badness:\n",
    "            c += 1\n",
    "            \n",
    "    print(f'Test {tn}: {c}')\n",
    "    tn += 1"
   ]
  },
  {
   "cell_type": "code",
   "execution_count": 162,
   "metadata": {},
   "outputs": [
    {
     "name": "stdout",
     "output_type": "stream",
     "text": [
      "0 0 0\n"
     ]
    }
   ],
   "source": [
    "# 배수 구하는 연산량이 적은 것을 이용\n",
    "ul = 1000001\n",
    "sums = [1] * ul\n",
    "diffs = [0] * ul\n",
    "for num in range(2, ul):\n",
    "    for nnum in range(num + num, ul, num):\n",
    "        sums[nnum] += num\n",
    "    diffs[num] = abs(num - sums[num])\n",
    "\n",
    "tn = 1\n",
    "while True:\n",
    "    start, stop, badness = map(int, input().split())\n",
    "    if start == stop == badness == 0:\n",
    "        break\n",
    "    \n",
    "    c = 0\n",
    "    for i in range(start, stop + 1):\n",
    "        if diffs[i] <= badness:\n",
    "            c += 1\n",
    "            \n",
    "    print(f'Test {tn}: {c}')\n",
    "    tn += 1"
   ]
  }
 ],
 "metadata": {
  "kernelspec": {
   "display_name": "Python 3",
   "language": "python",
   "name": "python3"
  },
  "language_info": {
   "codemirror_mode": {
    "name": "ipython",
    "version": 3
   },
   "file_extension": ".py",
   "mimetype": "text/x-python",
   "name": "python",
   "nbconvert_exporter": "python",
   "pygments_lexer": "ipython3",
   "version": "3.7.4"
  }
 },
 "nbformat": 4,
 "nbformat_minor": 2
}
