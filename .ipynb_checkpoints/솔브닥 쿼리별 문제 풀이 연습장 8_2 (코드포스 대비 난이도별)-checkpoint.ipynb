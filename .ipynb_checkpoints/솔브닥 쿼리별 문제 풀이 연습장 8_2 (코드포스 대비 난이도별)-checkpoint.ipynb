{
 "cells": [
  {
   "cell_type": "markdown",
   "metadata": {},
   "source": [
    "tag:number_theory tier:s1.. - solved_by:hsh8086"
   ]
  },
  {
   "cell_type": "markdown",
   "metadata": {},
   "source": [
    "정수론 템플릿"
   ]
  },
  {
   "cell_type": "code",
   "execution_count": null,
   "metadata": {},
   "outputs": [],
   "source": [
    "def get_divisors(num):\n",
    "    st = set()\n",
    "    for mod in range(1, int(num ** 0.5) + 1):\n",
    "        if num % mod == 0:\n",
    "            st.add(mod)\n",
    "            st.add(num // mod)\n",
    "            \n",
    "    return sorted(st)\n",
    "\n",
    "max_num = 31625\n",
    "ip = [True] * (max_num + 1)\n",
    "ip[0] = ip[1] = False\n",
    "for mod in range(2, int(max_num ** 0.5) + 1):\n",
    "    if ip[mod]:\n",
    "        for v in range(mod * mod, max_num + 1, mod):\n",
    "            ip[v] = False\n",
    "primes = [i for i, v in enumerate(ip) if v]"
   ]
  },
  {
   "cell_type": "markdown",
   "metadata": {},
   "source": [
    "### 실질적 약수 2247"
   ]
  },
  {
   "cell_type": "code",
   "execution_count": 5,
   "metadata": {},
   "outputs": [
    {
     "data": {
      "text/plain": [
       "[2, 4]"
      ]
     },
     "execution_count": 5,
     "metadata": {},
     "output_type": "execute_result"
    }
   ],
   "source": [
    "# n = int(input())\n",
    "\n",
    "def get_divisors(num):\n",
    "    st = set()\n",
    "    for i in range(2, int(num ** 0.5) + 1):\n",
    "        if num % i == 0:\n",
    "            st.add(i)\n",
    "            st.add(num // i)\n",
    "            \n",
    "    st.add(0)\n",
    "    return sorted(st)\n",
    "\n",
    "get_divisors(8)"
   ]
  },
  {
   "cell_type": "code",
   "execution_count": null,
   "metadata": {},
   "outputs": [],
   "source": [
    "1 2 3 4 5 6\n",
    "\n",
    "2 3개\n",
    "3 2개"
   ]
  },
  {
   "cell_type": "code",
   "execution_count": 19,
   "metadata": {},
   "outputs": [
    {
     "name": "stdout",
     "output_type": "stream",
     "text": [
      "3150\n"
     ]
    }
   ],
   "source": [
    "n = int(input())\n",
    "mod = 1000000\n",
    "\n",
    "total = 0\n",
    "for i in range(2, n // 2 + 1):\n",
    "    total += (n // i) * i - i\n",
    "    total %= mod\n",
    "    \n",
    "print(total)"
   ]
  },
  {
   "cell_type": "markdown",
   "metadata": {},
   "source": [
    "### 자와 각도기 2916"
   ]
  },
  {
   "cell_type": "code",
   "execution_count": null,
   "metadata": {},
   "outputs": [],
   "source": [
    "n, k = map(int, input().split())\n",
    "li = sorted(map(int, input().split()))\n",
    "queries = list(map(int, input().split()))\n",
    "\n",
    "total = set(li)\n",
    "for term in range(1, n):\n",
    "    for start in range(n):\n",
    "        end = start + term\n",
    "        if end >= n:\n",
    "            break\n",
    "        total.add(li[end] - li[start])\n",
    "        \n",
    "ntotal = total.copy()\n",
    "for v in total:\n",
    "    st = {v}\n",
    "    nv = v\n",
    "    while True:\n",
    "        nv += v\n",
    "        to_check = nv % 360\n",
    "        if to_check in st:\n",
    "            break\n",
    "        st.add(to_check)\n",
    "        ntotal.add(to_check)\n",
    "\n",
    "ntotal.discard(0)\n",
    "    \n",
    "for q in queries:\n",
    "    ip = False\n",
    "\n",
    "    for v in ntotal:\n",
    "        if q % v == 0:\n",
    "            ip = True\n",
    "            break\n",
    "            \n",
    "    if ip:\n",
    "        print('YES')\n",
    "    else:\n",
    "        print('NO')"
   ]
  },
  {
   "cell_type": "markdown",
   "metadata": {},
   "source": [
    "### 최대공약수 2824"
   ]
  },
  {
   "cell_type": "code",
   "execution_count": 83,
   "metadata": {},
   "outputs": [
    {
     "name": "stdout",
     "output_type": "stream",
     "text": [
      "3\n",
      "358572 83391967 82\n",
      "3\n",
      "50229961 1091444 8863\n",
      "000012028\n"
     ]
    }
   ],
   "source": [
    "from collections import defaultdict as dd\n",
    "\n",
    "def add_facto(num, target):\n",
    "    for mod in range(2, int(num ** 0.5) + 1):\n",
    "        while num % mod == 0:\n",
    "            ds[target][mod] += 1\n",
    "            num //= mod\n",
    "            \n",
    "    if num != 1:\n",
    "        ds[target][num] += 1\n",
    "        \n",
    "n = int(input())\n",
    "a = list(map(int, input().split()))\n",
    "m = int(input())\n",
    "b = list(map(int, input().split()))\n",
    "\n",
    "mod = 1000000000\n",
    "ds = [dd(int), dd(int)]\n",
    "\n",
    "for v in a:\n",
    "    add_facto(v, 0)\n",
    "    \n",
    "for v in b:\n",
    "    add_facto(v, 1)\n",
    "    \n",
    "cur = 1\n",
    "is_over = False\n",
    "for v in ds[0]:\n",
    "    if v in ds[1]:\n",
    "        count = min(ds[0][v], ds[1][v])\n",
    "        \n",
    "        for _ in range(count):\n",
    "            cur *= v\n",
    "            if cur >= mod:\n",
    "                is_over = True\n",
    "                cur %= mod\n",
    "                \n",
    "if is_over:           \n",
    "    print(str(cur).rjust(9, '0'))\n",
    "else:\n",
    "    print(cur)"
   ]
  },
  {
   "cell_type": "code",
   "execution_count": 87,
   "metadata": {},
   "outputs": [
    {
     "name": "stdout",
     "output_type": "stream",
     "text": [
      "3\n",
      "2 3 5\n",
      "2\n",
      "4 5\n",
      "10\n"
     ]
    }
   ],
   "source": [
    "from math import gcd\n",
    "\n",
    "n = int(input())\n",
    "a = list(map(int, input().split()))\n",
    "m = int(input())\n",
    "b = list(map(int, input().split()))\n",
    "\n",
    "mod = 1000000000\n",
    "\n",
    "ap = 1\n",
    "for v in a:\n",
    "    ap *= v\n",
    "bp = 1\n",
    "for v in b:\n",
    "    bp *= v    \n",
    "\n",
    "r = gcd(ap, bp)\n",
    "\n",
    "if r >= mod:\n",
    "    r %= mod\n",
    "    print(str(r).rjust(9, '0'))\n",
    "else:\n",
    "    print(r)"
   ]
  },
  {
   "cell_type": "code",
   "execution_count": 89,
   "metadata": {},
   "outputs": [
    {
     "data": {
      "text/plain": [
       "31622"
      ]
     },
     "execution_count": 89,
     "metadata": {},
     "output_type": "execute_result"
    }
   ],
   "source": [
    "int(1000000000 ** 0.5)"
   ]
  },
  {
   "cell_type": "code",
   "execution_count": 93,
   "metadata": {},
   "outputs": [
    {
     "name": "stdout",
     "output_type": "stream",
     "text": [
      "3\n",
      "2 3 5\n",
      "2\n",
      "4 5\n",
      "10\n"
     ]
    }
   ],
   "source": [
    "from collections import defaultdict as dd\n",
    "\n",
    "max_num = 31625\n",
    "ip = [True] * (max_num + 1)\n",
    "ip[0] = ip[1] = False\n",
    "for mod in range(2, int(max_num ** 0.5) + 1):\n",
    "    if ip[mod]:\n",
    "        for v in range(mod * mod, max_num + 1, mod):\n",
    "            ip[v] = False\n",
    "primes = [i for i, v in enumerate(ip) if v]\n",
    "\n",
    "def add_facto(num, target):\n",
    "    for mod in primes:\n",
    "        while num % mod == 0:\n",
    "            ds[target][mod] += 1\n",
    "            num //= mod     \n",
    "    if num != 1:\n",
    "        ds[target][num] += 1\n",
    "        \n",
    "n = int(input())\n",
    "a = list(map(int, input().split()))\n",
    "m = int(input())\n",
    "b = list(map(int, input().split()))\n",
    "\n",
    "mod = 1000000000\n",
    "ds = [dd(int), dd(int)]\n",
    "\n",
    "for v in a:\n",
    "    add_facto(v, 0)\n",
    "    \n",
    "for v in b:\n",
    "    add_facto(v, 1)\n",
    "    \n",
    "cur = 1\n",
    "is_over = False\n",
    "for v in ds[0]:\n",
    "    if v in ds[1]:\n",
    "        count = min(ds[0][v], ds[1][v])\n",
    "        \n",
    "        for _ in range(count):\n",
    "            cur *= v\n",
    "            if cur >= mod:\n",
    "                is_over = True\n",
    "                cur %= mod\n",
    "                \n",
    "if is_over:           \n",
    "    print(str(cur).rjust(9, '0'))\n",
    "else:\n",
    "    print(cur)"
   ]
  },
  {
   "cell_type": "markdown",
   "metadata": {},
   "source": [
    "### 3으로 나누어 떨어지지 않는 배열 2938"
   ]
  },
  {
   "cell_type": "code",
   "execution_count": 11,
   "metadata": {},
   "outputs": [
    {
     "name": "stdout",
     "output_type": "stream",
     "text": [
      "3\n",
      "3 12 9\n",
      "3 12 9\n"
     ]
    }
   ],
   "source": [
    "n = int(input())\n",
    "li = list(map(int, input().split()))\n",
    "\n",
    "remains = [[], [], []]\n",
    "for i in range(n):\n",
    "    rm = li[i] % 3\n",
    "    remains[rm].append(li[i])\n",
    "    \n",
    "if remains[1] and remains[2] and not remains[0]:\n",
    "    print('impossible')\n",
    "else:\n",
    "    result = remains[1] + remains[0] + remains[2]\n",
    "    print(*result)"
   ]
  },
  {
   "cell_type": "code",
   "execution_count": null,
   "metadata": {},
   "outputs": [],
   "source": [
    "2 7 10 13 14\n",
    "\n",
    "\n",
    "2 % 3"
   ]
  },
  {
   "cell_type": "code",
   "execution_count": 49,
   "metadata": {},
   "outputs": [
    {
     "name": "stdout",
     "output_type": "stream",
     "text": [
      "1\n",
      "5\n",
      "5\n"
     ]
    }
   ],
   "source": [
    "n = int(input())\n",
    "li = list(map(int, input().split()))\n",
    "\n",
    "remains = [[], [], []]\n",
    "for i in range(n):\n",
    "    rm = li[i] % 3\n",
    "    remains[rm].append(li[i])\n",
    "    \n",
    "if n == 1:\n",
    "    print(li[0])\n",
    "elif len(remains[0]) - (len(remains[1]) + len(remains[2])) > 1:\n",
    "    print('-1')\n",
    "elif remains[1] and remains[2] and not remains[0]:\n",
    "    print('-1')\n",
    "else:\n",
    "    result = []\n",
    "    mid = []  \n",
    "    if remains[1] and remains[2]:\n",
    "        mid = [remains[1].pop(), remains[0].pop(), remains[2].pop()]\n",
    "\n",
    "    if remains[0]:\n",
    "        result.append(remains[0].pop())\n",
    "        \n",
    "    while remains[1]:\n",
    "        result.append(remains[1].pop())\n",
    "        if remains[0]:\n",
    "            result.append(remains[0].pop())\n",
    "\n",
    "    result += mid\n",
    "\n",
    "    if mid:\n",
    "        if remains[0]:\n",
    "            result.append(remains[0].pop())\n",
    "            \n",
    "    while remains[2]:\n",
    "        result.append(remains[2].pop())\n",
    "        if remains[0]:\n",
    "            result.append(remains[0].pop())\n",
    "        \n",
    "    print(*result)"
   ]
  },
  {
   "cell_type": "code",
   "execution_count": 51,
   "metadata": {},
   "outputs": [
    {
     "name": "stdout",
     "output_type": "stream",
     "text": [
      "1\n",
      "0\n",
      "0\n"
     ]
    }
   ],
   "source": [
    "n = int(input())\n",
    "li = list(map(int, input().split()))\n",
    "\n",
    "remains = [[], [], []]\n",
    "for i in range(n):\n",
    "    rm = li[i] % 3\n",
    "    remains[rm].append(li[i])\n",
    "    \n",
    "if len(remains[0]) - (len(remains[1]) + len(remains[2])) > 1:\n",
    "    print('-1')\n",
    "elif remains[1] and remains[2] and not remains[0]:\n",
    "    print('-1')\n",
    "else:\n",
    "    result = []\n",
    "    mid = []  \n",
    "    if remains[1] and remains[2]:\n",
    "        mid = [remains[1].pop(), remains[0].pop(), remains[2].pop()]\n",
    "\n",
    "    if remains[0]:\n",
    "        result.append(remains[0].pop())\n",
    "        \n",
    "    while remains[1]:\n",
    "        result.append(remains[1].pop())\n",
    "        if remains[0]:\n",
    "            result.append(remains[0].pop())\n",
    "\n",
    "    result += mid\n",
    "\n",
    "    if mid:\n",
    "        if remains[0]:\n",
    "            result.append(remains[0].pop())\n",
    "            \n",
    "    while remains[2]:\n",
    "        result.append(remains[2].pop())\n",
    "        if remains[0]:\n",
    "            result.append(remains[0].pop())\n",
    "        \n",
    "    print(*result)"
   ]
  },
  {
   "cell_type": "code",
   "execution_count": null,
   "metadata": {},
   "outputs": [],
   "source": [
    "0 1 2\n",
    "\n",
    "1 2 안됨\n",
    "2 1 안됨\n",
    "0 0 안됨\n",
    "\n",
    "0 1 됨\n",
    "0 2 됨\n",
    "1 1 됨\n",
    "2 2 됨"
   ]
  },
  {
   "cell_type": "markdown",
   "metadata": {},
   "source": [
    "### 소수 부분 문자열 5636"
   ]
  },
  {
   "cell_type": "code",
   "execution_count": 12,
   "metadata": {},
   "outputs": [
    {
     "name": "stdout",
     "output_type": "stream",
     "text": [
      "11245\n",
      "11\n",
      "0\n"
     ]
    }
   ],
   "source": [
    "import sys\n",
    "input = lambda: sys.stdin.readline().rstrip()\n",
    "\n",
    "max_num = 100001\n",
    "ip = [True] * (max_num + 1)\n",
    "ip[0] = ip[1] = False\n",
    "for mod in range(2, int(max_num ** 0.5) + 1):\n",
    "    if ip[mod]:\n",
    "        for v in range(mod * mod, max_num + 1, mod):\n",
    "            ip[v] = False\n",
    "primes = [str(i) for i, v in enumerate(ip) if v]\n",
    "\n",
    "while True:\n",
    "    s = input()\n",
    "    if s == '0':\n",
    "        break\n",
    "\n",
    "    for i in range(len(primes) - 1, -1, -1):\n",
    "        if primes[i] in s:\n",
    "            print(primes[i])\n",
    "            break"
   ]
  },
  {
   "cell_type": "markdown",
   "metadata": {},
   "source": [
    "### 소수 사이 수열 3896"
   ]
  },
  {
   "cell_type": "code",
   "execution_count": 6,
   "metadata": {},
   "outputs": [
    {
     "name": "stdout",
     "output_type": "stream",
     "text": [
      "5\n",
      "10\n",
      "4\n",
      "11\n",
      "0\n",
      "27\n",
      "6\n",
      "2\n",
      "0\n",
      "492170\n",
      "114\n"
     ]
    }
   ],
   "source": [
    "import sys\n",
    "input = lambda: sys.stdin.readline().rstrip()\n",
    "\n",
    "max_num = 1299709\n",
    "ip = [True] * (max_num + 1)\n",
    "ip[0] = ip[1] = False\n",
    "for mod in range(2, int(max_num ** 0.5) + 1):\n",
    "    if ip[mod]:\n",
    "        for v in range(mod * mod, max_num + 1, mod):\n",
    "            ip[v] = False\n",
    "            \n",
    "primes = [i for i, v in enumerate(ip) if v]\n",
    "\n",
    "for _ in range(int(input())):\n",
    "    k = int(input())\n",
    "    \n",
    "    start = 0\n",
    "    end = len(primes) -1\n",
    "    result = 0\n",
    "    while start <= end:\n",
    "        mid = (start + end) // 2\n",
    "\n",
    "        if primes[mid] <= k:\n",
    "            result = mid\n",
    "            start = mid + 1\n",
    "        else:\n",
    "            end = mid - 1\n",
    "\n",
    "    if primes[result] == k:\n",
    "        print(0)\n",
    "    else:\n",
    "        print(primes[result + 1] - primes[result])"
   ]
  },
  {
   "cell_type": "markdown",
   "metadata": {},
   "source": [
    "### 소수상근수 9421"
   ]
  },
  {
   "cell_type": "code",
   "execution_count": 7,
   "metadata": {},
   "outputs": [
    {
     "data": {
      "text/plain": [
       "78498"
      ]
     },
     "execution_count": 7,
     "metadata": {},
     "output_type": "execute_result"
    }
   ],
   "source": [
    "max_num = 1000000\n",
    "ip = [True] * (max_num + 1)\n",
    "ip[0] = ip[1] = False\n",
    "for mod in range(2, int(max_num ** 0.5) + 1):\n",
    "    if ip[mod]:\n",
    "        for v in range(mod * mod, max_num + 1, mod):\n",
    "            ip[v] = False\n",
    "            \n",
    "primes = [i for i, v in enumerate(ip) if v]"
   ]
  },
  {
   "cell_type": "code",
   "execution_count": 14,
   "metadata": {},
   "outputs": [
    {
     "name": "stdout",
     "output_type": "stream",
     "text": [
      "20\n",
      "7\n",
      "13\n",
      "19\n"
     ]
    }
   ],
   "source": [
    "max_num = 1000000\n",
    "ip = [True] * (max_num + 1)\n",
    "ip[0] = ip[1] = False\n",
    "for mod in range(2, int(max_num ** 0.5) + 1):\n",
    "    if ip[mod]:\n",
    "        for v in range(mod * mod, max_num + 1, mod):\n",
    "            ip[v] = False\n",
    "            \n",
    "primes = [i for i, v in enumerate(ip) if v]\n",
    "\n",
    "n = int(input())\n",
    "\n",
    "for onum in primes:\n",
    "    if onum > n:\n",
    "        break\n",
    "        \n",
    "    num = onum\n",
    "    st = {num}\n",
    "    ip = False\n",
    "    while True:\n",
    "        nn = 0\n",
    "        for v in str(num):\n",
    "            nn += int(v) ** 2\n",
    "\n",
    "        if nn in st:\n",
    "            break\n",
    "        if nn == 1:\n",
    "            ip = True\n",
    "            break\n",
    "        st.add(nn)\n",
    "        num = nn\n",
    "\n",
    "    if ip:\n",
    "        print(onum)"
   ]
  },
  {
   "cell_type": "markdown",
   "metadata": {},
   "source": [
    "### 주작 주 주작 12792"
   ]
  },
  {
   "cell_type": "code",
   "execution_count": 43,
   "metadata": {},
   "outputs": [
    {
     "name": "stdout",
     "output_type": "stream",
     "text": [
      "3\n",
      "2 3 1\n",
      "-1\n"
     ]
    }
   ],
   "source": [
    "n = int(input())\n",
    "li = list(map(int, input().split()))\n",
    "\n",
    "ip = True\n",
    "for i in range(n):\n",
    "    if i + 1 == li[i]:\n",
    "        ip = False\n",
    "        break\n",
    "        \n",
    "if not ip:\n",
    "    print(-1)\n",
    "else:\n",
    "    print(1099997)"
   ]
  },
  {
   "cell_type": "markdown",
   "metadata": {},
   "source": [
    "### 거스름돈이 싫어요 20003"
   ]
  },
  {
   "cell_type": "code",
   "execution_count": 61,
   "metadata": {},
   "outputs": [
    {
     "name": "stdout",
     "output_type": "stream",
     "text": [
      "3\n",
      "1 3\n",
      "5 2\n",
      "3 4\n",
      "1 12\n"
     ]
    }
   ],
   "source": [
    "from math import gcd\n",
    "\n",
    "n = int(input())\n",
    "li = [list(map(int, input().split())) for _ in range(n)]\n",
    "\n",
    "dpd = 1 # denom producted\n",
    "for i in range(n):\n",
    "    dpd *= li[i][1]\n",
    "    \n",
    "for i in range(n):\n",
    "    li[i][0] *= dpd // li[i][1]\n",
    "    \n",
    "cur = li[0][0]\n",
    "for i in range(1, n):\n",
    "    cur = gcd(cur, li[i][0])\n",
    "    \n",
    "to_divide = gcd(cur, dpd)\n",
    "\n",
    "print(cur // to_divide, dpd // to_divide)"
   ]
  },
  {
   "cell_type": "markdown",
   "metadata": {},
   "source": [
    "### 겉보기에 쌍둥이 소수 5641 (일단 포기)"
   ]
  },
  {
   "cell_type": "code",
   "execution_count": 96,
   "metadata": {},
   "outputs": [],
   "source": [
    "max_num = 100000\n",
    "ip = [True] * (max_num + 1)\n",
    "ip[0] = ip[1] = False\n",
    "for mod in range(2, int(max_num ** 0.5) + 1):\n",
    "    if ip[mod]:\n",
    "        for v in range(mod * mod, max_num + 1, mod):\n",
    "            ip[v] = False\n",
    "            \n",
    "primes = [i for i, v in enumerate(ip) if v and i > 8000]"
   ]
  },
  {
   "cell_type": "code",
   "execution_count": 102,
   "metadata": {},
   "outputs": [],
   "source": [
    "for i in range(2, 67):\n",
    "    if (67 % i) == 0:\n",
    "        print(i)"
   ]
  },
  {
   "cell_type": "code",
   "execution_count": null,
   "metadata": {},
   "outputs": [],
   "source": []
  },
  {
   "cell_type": "code",
   "execution_count": 101,
   "metadata": {},
   "outputs": [
    {
     "data": {
      "text/plain": [
       "3469"
      ]
     },
     "execution_count": 101,
     "metadata": {},
     "output_type": "execute_result"
    }
   ],
   "source": [
    "len(str(cur))"
   ]
  },
  {
   "cell_type": "code",
   "execution_count": 99,
   "metadata": {},
   "outputs": [
    {
     "data": {
      "text/plain": [
       "800700000"
      ]
     },
     "execution_count": 99,
     "metadata": {},
     "output_type": "execute_result"
    }
   ],
   "source": [
    "A % C == 0\n",
    "(A + 17) % C == 17 % C"
   ]
  },
  {
   "cell_type": "markdown",
   "metadata": {},
   "source": [
    "### 소수인팰린드롬 1990"
   ]
  },
  {
   "cell_type": "code",
   "execution_count": 104,
   "metadata": {
    "collapsed": true
   },
   "outputs": [
    {
     "data": {
      "text/plain": [
       "[2,\n",
       " 3,\n",
       " 5,\n",
       " 7,\n",
       " 11,\n",
       " 101,\n",
       " 131,\n",
       " 151,\n",
       " 181,\n",
       " 191,\n",
       " 313,\n",
       " 353,\n",
       " 373,\n",
       " 383,\n",
       " 727,\n",
       " 757,\n",
       " 787,\n",
       " 797,\n",
       " 919,\n",
       " 929,\n",
       " 10301,\n",
       " 10501,\n",
       " 10601,\n",
       " 11311,\n",
       " 11411,\n",
       " 12421,\n",
       " 12721,\n",
       " 12821,\n",
       " 13331,\n",
       " 13831,\n",
       " 13931,\n",
       " 14341,\n",
       " 14741,\n",
       " 15451,\n",
       " 15551,\n",
       " 16061,\n",
       " 16361,\n",
       " 16561,\n",
       " 16661,\n",
       " 17471,\n",
       " 17971,\n",
       " 18181,\n",
       " 18481,\n",
       " 19391,\n",
       " 19891,\n",
       " 19991,\n",
       " 30103,\n",
       " 30203,\n",
       " 30403,\n",
       " 30703,\n",
       " 30803,\n",
       " 31013,\n",
       " 31513,\n",
       " 32323,\n",
       " 32423,\n",
       " 33533,\n",
       " 34543,\n",
       " 34843,\n",
       " 35053,\n",
       " 35153,\n",
       " 35353,\n",
       " 35753,\n",
       " 36263,\n",
       " 36563,\n",
       " 37273,\n",
       " 37573,\n",
       " 38083,\n",
       " 38183,\n",
       " 38783,\n",
       " 39293,\n",
       " 70207,\n",
       " 70507,\n",
       " 70607,\n",
       " 71317,\n",
       " 71917,\n",
       " 72227,\n",
       " 72727,\n",
       " 73037,\n",
       " 73237,\n",
       " 73637,\n",
       " 74047,\n",
       " 74747,\n",
       " 75557,\n",
       " 76367,\n",
       " 76667,\n",
       " 77377,\n",
       " 77477,\n",
       " 77977,\n",
       " 78487,\n",
       " 78787,\n",
       " 78887,\n",
       " 79397,\n",
       " 79697,\n",
       " 79997,\n",
       " 90709,\n",
       " 91019,\n",
       " 93139,\n",
       " 93239,\n",
       " 93739,\n",
       " 94049,\n",
       " 94349,\n",
       " 94649,\n",
       " 94849,\n",
       " 94949,\n",
       " 95959,\n",
       " 96269,\n",
       " 96469,\n",
       " 96769,\n",
       " 97379,\n",
       " 97579,\n",
       " 97879,\n",
       " 98389,\n",
       " 98689]"
      ]
     },
     "execution_count": 104,
     "metadata": {},
     "output_type": "execute_result"
    }
   ],
   "source": [
    "max_num = 100000\n",
    "ip = [True] * (max_num + 1)\n",
    "ip[0] = ip[1] = False\n",
    "for mod in range(2, int(max_num ** 0.5) + 1):\n",
    "    if ip[mod]:\n",
    "        for v in range(mod * mod, max_num + 1, mod):\n",
    "            ip[v] = False\n",
    "            \n",
    "primes = [i for i, v in enumerate(ip) if v]\n",
    "\n",
    "np = []\n",
    "for v in primes:\n",
    "    nv = str(v)\n",
    "    nn = len(nv)\n",
    "        \n",
    "    ip = True\n",
    "    for i in range(nn // 2):\n",
    "        if nv[i] != nv[nn - i - 1]:\n",
    "            ip = False\n",
    "            break\n",
    "            \n",
    "    if ip:\n",
    "        np.append(v)\n",
    "        \n",
    "np"
   ]
  },
  {
   "cell_type": "code",
   "execution_count": null,
   "metadata": {},
   "outputs": [],
   "source": [
    "10000001\n",
    "30000003\n",
    "70000007\n",
    "90000009"
   ]
  },
  {
   "cell_type": "code",
   "execution_count": null,
   "metadata": {},
   "outputs": [],
   "source": [
    "5~99 단순\n",
    "\n",
    "10 ~ 99\n",
    "\n",
    "100 ~ 199\n",
    "300 ~ 309\n",
    "700 ~ 709\n",
    "900 ~ 909\n",
    "\n",
    "1000~1999 거울, 하나 겹치고 거울\n",
    "3000~3009\n",
    "7000~7009\n",
    "9000~9999"
   ]
  },
  {
   "cell_type": "code",
   "execution_count": 113,
   "metadata": {
    "collapsed": true
   },
   "outputs": [
    {
     "name": "stdout",
     "output_type": "stream",
     "text": [
      "5 550\n",
      "5\n",
      "7\n",
      "11\n",
      "101\n",
      "131\n",
      "151\n",
      "181\n",
      "191\n",
      "313\n",
      "353\n",
      "373\n",
      "383\n"
     ]
    }
   ],
   "source": [
    "def add_palin(start, end):\n",
    "    for i in range(start, end + 1):\n",
    "        s = str(i)\n",
    "        palins.append(int(s + s[::-1][1:]))\n",
    "        palins.append(int(s + s[::-1]))\n",
    "\n",
    "palins = []\n",
    "\n",
    "add_palin(10, 99)\n",
    "add_palin(100, 199)\n",
    "add_palin(300, 399)\n",
    "add_palin(700, 799)\n",
    "add_palin(900, 999)\n",
    "add_palin(1000, 1999)\n",
    "add_palin(3000, 3999)\n",
    "add_palin(7000, 7999)\n",
    "add_palin(9000, 9999)\n",
    "\n",
    "palins.sort()\n",
    "\n",
    "def check(num):\n",
    "    for mod in range(2, int(num ** 0.5) + 1):\n",
    "        if num % mod == 0:\n",
    "            return False\n",
    "    return True\n",
    "\n",
    "pps = [5, 7, 11] # palin and primes\n",
    "for num in palins:\n",
    "    if check(num):\n",
    "        pps.append(num)\n",
    "        \n",
    "a, b = map(int, input().split())\n",
    "\n",
    "for v in pps:\n",
    "    if a <= v <= b:\n",
    "        print(v)   \n",
    "print(-1)"
   ]
  },
  {
   "cell_type": "code",
   "execution_count": 124,
   "metadata": {
    "collapsed": true
   },
   "outputs": [
    {
     "name": "stdout",
     "output_type": "stream",
     "text": [
      "5 10\n",
      "5\n",
      "7\n",
      "-1\n"
     ]
    }
   ],
   "source": [
    "palins = []\n",
    "for i in range(1, 10000):\n",
    "    s = str(i)\n",
    "    palins.append(int(s + s[::-1][1:]))\n",
    "    palins.append(int(s + s[::-1]))\n",
    "palins.sort()\n",
    "\n",
    "def check(num):\n",
    "    for mod in range(2, int(num ** 0.5) + 1):\n",
    "        if num % mod == 0:\n",
    "            return False\n",
    "    return True\n",
    "\n",
    "pps = [] # palin and primes\n",
    "for num in palins:\n",
    "    if check(num):\n",
    "        pps.append(num)\n",
    "        \n",
    "a, b = map(int, input().split())\n",
    "\n",
    "for v in pps:\n",
    "    if a <= v <= b:\n",
    "        print(v)   \n",
    "print(-1)"
   ]
  },
  {
   "cell_type": "markdown",
   "metadata": {},
   "source": [
    "### Wonowon 11290"
   ]
  },
  {
   "cell_type": "code",
   "execution_count": 37,
   "metadata": {},
   "outputs": [
    {
     "name": "stdout",
     "output_type": "stream",
     "text": [
      "10000\n",
      "712\n"
     ]
    }
   ],
   "source": [
    "max_num = 10000\n",
    "ip = [True] * (max_num + 1)\n",
    "ip[0] = ip[1] = False\n",
    "for mod in range(2, int(max_num ** 0.5) + 1):\n",
    "    if ip[mod]:\n",
    "        for v in range(mod * mod, max_num + 1, mod):\n",
    "            ip[v] = False\n",
    "            \n",
    "n = int(input())\n",
    "primes = [i for i, v in enumerate(ip) if v and 5 < i <= n]\n",
    "\n",
    "count = 0\n",
    "for p in primes:\n",
    "    is_divisible = False\n",
    "    cur = 101\n",
    "    cur_len = 3\n",
    "    while cur_len < p - 2:\n",
    "        if cur % p == 0:\n",
    "            is_divisible = True\n",
    "            break\n",
    "        cur *= 100\n",
    "        cur += 1\n",
    "        cur %= p\n",
    "        cur_len += 2\n",
    "        \n",
    "    if not is_divisible:\n",
    "        if cur % p == 0:\n",
    "            count += 1\n",
    "    \n",
    "print(count)"
   ]
  },
  {
   "cell_type": "code",
   "execution_count": 3,
   "metadata": {},
   "outputs": [
    {
     "name": "stdout",
     "output_type": "stream",
     "text": [
      "10000\n",
      "712\n"
     ]
    }
   ],
   "source": [
    "n = int(input())\n",
    "\n",
    "count = 0\n",
    "for cand in range(7, n + 1, 2):\n",
    "    ip = True\n",
    "    for mod in range(2, int(cand ** 0.5) + 1):\n",
    "        if cand % mod == 0:\n",
    "            ip = True\n",
    "            break\n",
    "    if not ip:\n",
    "        continue\n",
    "    p = cand\n",
    "    \n",
    "    is_divisible = False\n",
    "    cur = 101\n",
    "    cur_len = 3\n",
    "    while cur_len < p - 2:\n",
    "        if cur % p == 0:\n",
    "            is_divisible = True\n",
    "            break\n",
    "        cur *= 100\n",
    "        cur += 1\n",
    "        cur %= p\n",
    "        cur_len += 2\n",
    "        \n",
    "    if not is_divisible:\n",
    "        if cur % p == 0:\n",
    "            count += 1\n",
    "    \n",
    "print(count)"
   ]
  },
  {
   "cell_type": "code",
   "execution_count": null,
   "metadata": {},
   "outputs": [],
   "source": [
    "(100 + 1) % 7 == (100 % 7) + (1 % 7)"
   ]
  },
  {
   "cell_type": "code",
   "execution_count": null,
   "metadata": {},
   "outputs": [],
   "source": [
    "10101 % 7\n",
    "1010101 % 7\n",
    "(10101 * 100 + 1) % 7\n",
    "((10101 % 7) * 100 + 1) % 7"
   ]
  },
  {
   "cell_type": "markdown",
   "metadata": {},
   "source": [
    "### 창문 닫기 13909"
   ]
  },
  {
   "cell_type": "code",
   "execution_count": 6,
   "metadata": {},
   "outputs": [
    {
     "name": "stdout",
     "output_type": "stream",
     "text": [
      "1\n",
      "1\n"
     ]
    }
   ],
   "source": [
    "n = int(input())\n",
    "\n",
    "cur = 1\n",
    "count = 0\n",
    "while True:\n",
    "    if cur * cur > n:\n",
    "        break\n",
    "    count += 1\n",
    "    cur += 1\n",
    "    \n",
    "print(count)"
   ]
  },
  {
   "cell_type": "markdown",
   "metadata": {},
   "source": [
    "### 점프왕 최준민 11564"
   ]
  },
  {
   "cell_type": "code",
   "execution_count": 17,
   "metadata": {},
   "outputs": [
    {
     "name": "stdout",
     "output_type": "stream",
     "text": [
      "2 -6 6\n",
      "7\n"
     ]
    }
   ],
   "source": [
    "k, a, b = map(int, input().split())\n",
    "\n",
    "count = 0\n",
    "if a <= 0 <= b:\n",
    "    count += 1\n",
    "if a == 0:\n",
    "    a += 1\n",
    "if b == 0:\n",
    "    b -= 1\n",
    "    \n",
    "if a <= b:\n",
    "    if a >= 0 and b >= 0:\n",
    "        count += b // k - (a - 1) // k   \n",
    "    elif a <= 0 and b <= 0:\n",
    "        a = -a\n",
    "        b = -b\n",
    "\n",
    "        a, b = b, a\n",
    "        count += b // k - (a - 1) // k\n",
    "    else:\n",
    "        a = -a\n",
    "        count += a // k + b // k\n",
    "    \n",
    "print(count)"
   ]
  },
  {
   "cell_type": "markdown",
   "metadata": {},
   "source": [
    "### 상품 is 뭔들 12779"
   ]
  },
  {
   "cell_type": "code",
   "execution_count": 20,
   "metadata": {},
   "outputs": [
    {
     "name": "stdout",
     "output_type": "stream",
     "text": [
      "1 4\n",
      "1/3\n"
     ]
    }
   ],
   "source": [
    "from math import gcd\n",
    "\n",
    "a, b = map(int, input().split())\n",
    "\n",
    "cur = 1\n",
    "count = 0\n",
    "while True:\n",
    "    if cur * cur > b:\n",
    "        break\n",
    "    \n",
    "    if cur * cur >= a + 1:\n",
    "        count += 1\n",
    "    cur += 1\n",
    "    \n",
    "if count == 0:\n",
    "    print(0)\n",
    "else:   \n",
    "    denom = b - a\n",
    "    g = gcd(count, denom)\n",
    "    \n",
    "    print(f'{count // g}/{denom // g}')"
   ]
  },
  {
   "cell_type": "markdown",
   "metadata": {},
   "source": [
    "### 숫자 놀이 12971"
   ]
  },
  {
   "cell_type": "code",
   "execution_count": 21,
   "metadata": {},
   "outputs": [
    {
     "name": "stdout",
     "output_type": "stream",
     "text": [
      "20 20 20 1 2 3\n"
     ]
    }
   ],
   "source": [
    "p1, p2, p3, x1, x2, x3 = map(int, input().split())"
   ]
  },
  {
   "cell_type": "code",
   "execution_count": 26,
   "metadata": {},
   "outputs": [
    {
     "data": {
      "text/plain": [
       "2"
      ]
     },
     "execution_count": 26,
     "metadata": {},
     "output_type": "execute_result"
    }
   ],
   "source": [
    "77 % 5"
   ]
  },
  {
   "cell_type": "code",
   "execution_count": 27,
   "metadata": {},
   "outputs": [
    {
     "data": {
      "text/plain": [
       "5"
      ]
     },
     "execution_count": 27,
     "metadata": {},
     "output_type": "execute_result"
    }
   ],
   "source": [
    "77 % 9"
   ]
  },
  {
   "cell_type": "code",
   "execution_count": 34,
   "metadata": {},
   "outputs": [
    {
     "data": {
      "text/plain": [
       "89"
      ]
     },
     "execution_count": 34,
     "metadata": {},
     "output_type": "execute_result"
    }
   ],
   "source": [
    "1302044 % 123"
   ]
  },
  {
   "cell_type": "code",
   "execution_count": 37,
   "metadata": {},
   "outputs": [
    {
     "data": {
      "text/plain": [
       "44"
      ]
     },
     "execution_count": 37,
     "metadata": {},
     "output_type": "execute_result"
    }
   ],
   "source": [
    "1302044 % 124"
   ]
  },
  {
   "cell_type": "code",
   "execution_count": 38,
   "metadata": {},
   "outputs": [
    {
     "data": {
      "text/plain": [
       "44"
      ]
     },
     "execution_count": 38,
     "metadata": {},
     "output_type": "execute_result"
    }
   ],
   "source": [
    "1302044 % 125"
   ]
  },
  {
   "cell_type": "code",
   "execution_count": 42,
   "metadata": {},
   "outputs": [
    {
     "name": "stdout",
     "output_type": "stream",
     "text": [
      "2 3 5 1 1 1\n",
      "1\n"
     ]
    }
   ],
   "source": [
    "p1, p2, p3, x1, x2, x3 = map(int, input().split())\n",
    "\n",
    "r = -1\n",
    "for n in range(40000000, 0, -1):\n",
    "    if n % p1 == x1 and n % p2 == x2 and n % p3 == x3:\n",
    "        r = n\n",
    "print(r)"
   ]
  },
  {
   "cell_type": "code",
   "execution_count": 40,
   "metadata": {},
   "outputs": [
    {
     "data": {
      "text/plain": [
       "123.48672230652504"
      ]
     },
     "execution_count": 40,
     "metadata": {},
     "output_type": "execute_result"
    }
   ],
   "source": [
    "300"
   ]
  },
  {
   "cell_type": "code",
   "execution_count": null,
   "metadata": {},
   "outputs": [],
   "source": [
    "7 14 77"
   ]
  },
  {
   "cell_type": "code",
   "execution_count": null,
   "metadata": {},
   "outputs": [],
   "source": [
    "n % p1 == x1\n",
    "n % p2 == x2\n",
    "n % p3 == x3"
   ]
  },
  {
   "cell_type": "markdown",
   "metadata": {},
   "source": [
    "### 조화평균 2090"
   ]
  },
  {
   "cell_type": "code",
   "execution_count": 45,
   "metadata": {},
   "outputs": [
    {
     "name": "stdout",
     "output_type": "stream",
     "text": [
      "3\n",
      "4 1 2\n",
      "4/7\n"
     ]
    }
   ],
   "source": [
    "from math import gcd\n",
    "\n",
    "n = int(input())\n",
    "li = list(map(int, input().split()))\n",
    "\n",
    "denom = li[0]\n",
    "for v in li[1:]:\n",
    "    denom *= v\n",
    "    \n",
    "nu = 0\n",
    "for v in li:\n",
    "    nu += denom // v\n",
    "    \n",
    "nu, denom = denom, nu\n",
    "\n",
    "g = gcd(nu, denom)\n",
    "\n",
    "print(f'{nu // g}/{denom // g}')"
   ]
  },
  {
   "cell_type": "markdown",
   "metadata": {},
   "source": [
    "### 암호 키 1816"
   ]
  },
  {
   "cell_type": "code",
   "execution_count": 46,
   "metadata": {},
   "outputs": [
    {
     "name": "stdout",
     "output_type": "stream",
     "text": [
      "3\n",
      "1000036000099\n",
      "YES\n",
      "1500035500153\n",
      "NO\n",
      "20000000000002\n",
      "NO\n"
     ]
    }
   ],
   "source": [
    "n = int(input())\n",
    "for _ in range(n):\n",
    "    s = int(input())\n",
    "    \n",
    "    is_right = True\n",
    "    for mod in range(2, 1000001):\n",
    "        if s % mod == 0:\n",
    "            is_right = False\n",
    "            break\n",
    "            \n",
    "    if not is_right:\n",
    "        print('NO')\n",
    "    else:\n",
    "        print('YES')"
   ]
  },
  {
   "cell_type": "markdown",
   "metadata": {},
   "source": [
    "### 피사노 주기 9471"
   ]
  },
  {
   "cell_type": "code",
   "execution_count": 68,
   "metadata": {},
   "outputs": [
    {
     "name": "stdout",
     "output_type": "stream",
     "text": [
      "1\n",
      "1 4\n",
      "1 6\n"
     ]
    }
   ],
   "source": [
    "for _ in range(int(input())):\n",
    "    tn, m = map(int, input().split())\n",
    "\n",
    "    a, b = 1, 1\n",
    "    cur = 2\n",
    "    while True:\n",
    "        b %= m\n",
    "        if cur > 2 and a % m == 0 and b % m == 1:\n",
    "            break\n",
    "        cur += 1\n",
    "        a, b = b, a + b\n",
    "        \n",
    "    print(tn, cur - 1)"
   ]
  },
  {
   "cell_type": "markdown",
   "metadata": {},
   "source": [
    "### 팩토리얼 나누기 15996"
   ]
  },
  {
   "cell_type": "code",
   "execution_count": 70,
   "metadata": {},
   "outputs": [
    {
     "name": "stdout",
     "output_type": "stream",
     "text": [
      "5 2\n",
      "3\n"
     ]
    }
   ],
   "source": [
    "n, a = map(int, input().split())\n",
    "\n",
    "total = 0\n",
    "cur = a\n",
    "while True:\n",
    "    total += n // cur\n",
    "    \n",
    "    cur *= a\n",
    "    if cur > n:\n",
    "        break\n",
    "        \n",
    "print(total)"
   ]
  },
  {
   "cell_type": "markdown",
   "metadata": {},
   "source": [
    "### 청기 백기 15736"
   ]
  },
  {
   "cell_type": "code",
   "execution_count": 72,
   "metadata": {},
   "outputs": [
    {
     "name": "stdout",
     "output_type": "stream",
     "text": [
      "24\n",
      "4\n"
     ]
    }
   ],
   "source": [
    "n = int(input())\n",
    "\n",
    "cur = 1\n",
    "total = 0\n",
    "while True:\n",
    "    if cur * cur > n:\n",
    "        break\n",
    "    total += 1\n",
    "    cur += 1\n",
    "    \n",
    "print(total)"
   ]
  },
  {
   "cell_type": "markdown",
   "metadata": {},
   "source": [
    "### 선린의 터를 21968"
   ]
  },
  {
   "cell_type": "code",
   "execution_count": null,
   "metadata": {},
   "outputs": [],
   "source": [
    "0  1\n",
    "1  3\n",
    "0 1  4\n",
    "2   9\n",
    "2 0 10\n",
    "0 1 2  13\n",
    "3   27"
   ]
  },
  {
   "cell_type": "code",
   "execution_count": 77,
   "metadata": {},
   "outputs": [
    {
     "name": "stdout",
     "output_type": "stream",
     "text": [
      "3\n",
      "1\n",
      "1\n",
      "2\n",
      "3\n",
      "3\n",
      "4\n"
     ]
    }
   ],
   "source": [
    "cur = 1\n",
    "li = []\n",
    "while True:\n",
    "    li.append(cur)\n",
    "    cur *= 2\n",
    "    if cur > 123456789123:\n",
    "        break\n",
    "        \n",
    "m = len(li)\n",
    "\n",
    "for _ in range(int(input())):\n",
    "    n = int(input())\n",
    "\n",
    "    total = 0\n",
    "    for i in range(m - 1, -1, -1):\n",
    "        if n >= li[i]:\n",
    "            n -= li[i]\n",
    "            total += 3 ** i\n",
    "\n",
    "    print(total)"
   ]
  },
  {
   "cell_type": "code",
   "execution_count": 83,
   "metadata": {},
   "outputs": [
    {
     "name": "stdout",
     "output_type": "stream",
     "text": [
      "123456789123\n",
      "217523656249693825\n"
     ]
    }
   ],
   "source": [
    "for _ in range(int(input())):\n",
    "    n = int(input())\n",
    "\n",
    "    s = bin(n)[2:]\n",
    "    print(int(s, 3))"
   ]
  },
  {
   "cell_type": "markdown",
   "metadata": {},
   "source": [
    "### 소수의 자격 6219"
   ]
  },
  {
   "cell_type": "code",
   "execution_count": 2,
   "metadata": {},
   "outputs": [
    {
     "name": "stdout",
     "output_type": "stream",
     "text": [
      "10 15 3\n",
      "1\n"
     ]
    }
   ],
   "source": [
    "max_num = 4000001\n",
    "ip = [True] * (max_num + 1)\n",
    "ip[0] = ip[1] = False\n",
    "for mod in range(2, int(max_num ** 0.5) + 1):\n",
    "    if ip[mod]:\n",
    "        for v in range(mod * mod, max_num + 1, mod):\n",
    "            ip[v] = False\n",
    "            \n",
    "a, b, d = map(int, input().split())\n",
    "d = str(d)\n",
    "primes = [i for i, v in enumerate(ip) if v and a <= i <= b and d in str(i)]\n",
    "\n",
    "print(len(primes))"
   ]
  },
  {
   "cell_type": "markdown",
   "metadata": {},
   "source": [
    "### 시파르 9693"
   ]
  },
  {
   "cell_type": "code",
   "execution_count": 6,
   "metadata": {},
   "outputs": [
    {
     "name": "stdout",
     "output_type": "stream",
     "text": [
      "5\n",
      "Case #1: 1\n",
      "10\n",
      "Case #2: 2\n",
      "118\n",
      "Case #3: 27\n",
      "0\n"
     ]
    }
   ],
   "source": [
    "import sys\n",
    "input = lambda: sys.stdin.readline().rstrip()\n",
    "\n",
    "tn = 1\n",
    "while True:\n",
    "    n = int(input())\n",
    "    if n == 0:\n",
    "        break\n",
    "\n",
    "    cur = 5\n",
    "    total = 0\n",
    "    while True:\n",
    "        if cur > n:\n",
    "            break\n",
    "        total += n // cur\n",
    "        cur *= 5\n",
    "\n",
    "    print(f'Case #{tn}: {total}')\n",
    "    tn += 1"
   ]
  },
  {
   "cell_type": "markdown",
   "metadata": {},
   "source": [
    "### 상근이의 아이디어 9272"
   ]
  },
  {
   "cell_type": "code",
   "execution_count": 12,
   "metadata": {},
   "outputs": [
    {
     "name": "stdout",
     "output_type": "stream",
     "text": [
      "1 34\n",
      "561\n"
     ]
    }
   ],
   "source": [
    "n1, n2 = map(int, input().split())\n",
    "\n",
    "rg = n2 - n1 + 1\n",
    "\n",
    "print(rg * (rg - 1) // 2)"
   ]
  },
  {
   "cell_type": "markdown",
   "metadata": {},
   "source": [
    "### 팩토리얼5 1564"
   ]
  },
  {
   "cell_type": "code",
   "execution_count": 29,
   "metadata": {},
   "outputs": [
    {
     "name": "stdout",
     "output_type": "stream",
     "text": [
      "20\n",
      "17664\n"
     ]
    }
   ],
   "source": [
    "n = int(input())\n",
    "\n",
    "cur = 1\n",
    "for i in range(2, n + 1):\n",
    "    cur *= i\n",
    "    while cur % 10 == 0:\n",
    "        cur //= 10\n",
    "    cur %= 100000000000000\n",
    "    \n",
    "r = str(cur)[-5:]\n",
    "\n",
    "print(r)"
   ]
  },
  {
   "cell_type": "markdown",
   "metadata": {},
   "source": [
    "### 초콜릿 식사 2885"
   ]
  },
  {
   "cell_type": "code",
   "execution_count": 78,
   "metadata": {},
   "outputs": [
    {
     "name": "stdout",
     "output_type": "stream",
     "text": [
      "6\n",
      "8 2\n"
     ]
    }
   ],
   "source": [
    "from math import log2, ceil\n",
    "\n",
    "k = int(input())\n",
    "\n",
    "w = ceil(log2(k))\n",
    "min_size = 2 ** w\n",
    "count = 0\n",
    "if k == min_size:\n",
    "    count = 0\n",
    "else:\n",
    "    temp = len(bin(k)) - bin(k).rfind('1') - 1\n",
    "    count = w - temp\n",
    "    \n",
    "print(min_size, count)"
   ]
  }
 ],
 "metadata": {
  "kernelspec": {
   "display_name": "Python 3",
   "language": "python",
   "name": "python3"
  },
  "language_info": {
   "codemirror_mode": {
    "name": "ipython",
    "version": 3
   },
   "file_extension": ".py",
   "mimetype": "text/x-python",
   "name": "python",
   "nbconvert_exporter": "python",
   "pygments_lexer": "ipython3",
   "version": "3.7.4"
  }
 },
 "nbformat": 4,
 "nbformat_minor": 4
}
