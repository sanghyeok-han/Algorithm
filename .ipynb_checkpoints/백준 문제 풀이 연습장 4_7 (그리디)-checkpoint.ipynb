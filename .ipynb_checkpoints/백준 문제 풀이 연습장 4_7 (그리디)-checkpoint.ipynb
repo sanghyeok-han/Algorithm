{
 "cells": [
  {
   "cell_type": "code",
   "execution_count": 11,
   "metadata": {},
   "outputs": [
    {
     "name": "stdout",
     "output_type": "stream",
     "text": [
      "987\n"
     ]
    }
   ],
   "source": [
    "li = list(map(int, input()))\n",
    "n = len(li)"
   ]
  },
  {
   "cell_type": "code",
   "execution_count": 12,
   "metadata": {},
   "outputs": [
    {
     "name": "stdout",
     "output_type": "stream",
     "text": [
      "BIGGEST\n"
     ]
    }
   ],
   "source": [
    "import sys\n",
    "input = lambda: sys.stdin.readline().rstrip()\n",
    "\n",
    "for _ in range(int(input())):\n",
    "    li = list(map(int, input()))\n",
    "    n = len(li)\n",
    "\n",
    "    to_change = -1\n",
    "    for i in range(n - 1, 0, -1):\n",
    "        if li[i - 1] < li[i]:\n",
    "            to_change = i - 1\n",
    "            break\n",
    "\n",
    "    if to_change == -1:\n",
    "        print('BIGGEST')\n",
    "    else:\n",
    "        cri = li[to_change]\n",
    "        cands = li[i:]\n",
    "        cands.sort()\n",
    "        target = -1\n",
    "        for v in cands:\n",
    "            if v > cri:\n",
    "                target = v\n",
    "                break\n",
    "\n",
    "        cands.remove(target)\n",
    "\n",
    "        cands.append(cri)\n",
    "        cands.sort()\n",
    "\n",
    "        r = li[:to_change] + [target] + cands\n",
    "\n",
    "        print(''.join(map(str, r)))"
   ]
  },
  {
   "cell_type": "markdown",
   "metadata": {},
   "source": [
    "### 민겸 수 21314"
   ]
  },
  {
   "cell_type": "code",
   "execution_count": null,
   "metadata": {},
   "outputs": [],
   "source": [
    "최솟값: M은 잇고 K는 전부 분리함\n",
    "최댓값: 최대한K까지 이음"
   ]
  },
  {
   "cell_type": "code",
   "execution_count": 28,
   "metadata": {},
   "outputs": [
    {
     "name": "stdout",
     "output_type": "stream",
     "text": [
      "MKKMMK\n",
      "505500\n",
      "155105\n"
     ]
    }
   ],
   "source": [
    "def convert(value):\n",
    "    temp = 10 ** (len(value) - 1)\n",
    "    if value[-1] == 'K':\n",
    "        temp *= 5\n",
    "        \n",
    "    return str(temp)\n",
    "    \n",
    "s = input()\n",
    "\n",
    "li_min = []\n",
    "temp = []\n",
    "for v in s:\n",
    "    if v == 'M':\n",
    "        temp.append('M')\n",
    "    else:\n",
    "        if temp:\n",
    "            li_min.append(''.join(temp))\n",
    "            temp = []\n",
    "        li_min.append('K')\n",
    "if temp:\n",
    "    li_min.append(''.join(temp))\n",
    "        \n",
    "li_max = []\n",
    "temp = []\n",
    "for v in s:\n",
    "    if v == 'M':\n",
    "        temp.append('M')\n",
    "    else:\n",
    "        temp.append('K')\n",
    "        li_max.append(''.join(temp))\n",
    "        temp = []\n",
    "    \n",
    "for _ in range(len(temp)):\n",
    "    li_max.append('M')\n",
    "    \n",
    "r_min = []\n",
    "for v in li_min:\n",
    "    r_min.append(convert(v))\n",
    "    \n",
    "r_max = []\n",
    "for v in li_max:\n",
    "    r_max.append(convert(v))\n",
    "    \n",
    "r_min = ''.join(r_min)\n",
    "r_max = ''.join(r_max)\n",
    "\n",
    "print(r_max)\n",
    "print(r_min)"
   ]
  },
  {
   "cell_type": "markdown",
   "metadata": {},
   "source": [
    "### High Card Wins 11968"
   ]
  },
  {
   "cell_type": "code",
   "execution_count": 30,
   "metadata": {},
   "outputs": [
    {
     "name": "stdout",
     "output_type": "stream",
     "text": [
      "3\n",
      "1\n",
      "6\n",
      "4\n",
      "2\n"
     ]
    }
   ],
   "source": [
    "import sys\n",
    "input = lambda: sys.stdin.readline().rstrip()\n",
    "\n",
    "n = int(input())\n",
    "b = sorted(int(input()) for _ in range(n))\n",
    "\n",
    "b_st = set(b)\n",
    "a_st = set(range(1, 2 * n + 1)) - b_st\n",
    "a = sorted(a_st)\n",
    "\n",
    "total = 0\n",
    "ai = 0\n",
    "for bi in range(n):\n",
    "    while a[ai] < b[bi]:\n",
    "        ai += 1\n",
    "        if ai == n:\n",
    "            break\n",
    "            \n",
    "    if ai == n:\n",
    "        break\n",
    "        \n",
    "    total += 1\n",
    "    ai += 1\n",
    "    \n",
    "    if ai == n:\n",
    "        break\n",
    "        \n",
    "print(total)"
   ]
  },
  {
   "cell_type": "markdown",
   "metadata": {},
   "source": [
    "### 초콜릿 뺏어 먹기 23322"
   ]
  },
  {
   "cell_type": "code",
   "execution_count": 33,
   "metadata": {},
   "outputs": [
    {
     "name": "stdout",
     "output_type": "stream",
     "text": [
      "2 1\n",
      "5 5\n",
      "0 0\n"
     ]
    }
   ],
   "source": [
    "n, k = map(int, input().split())\n",
    "li = list(map(int, input().split()))\n",
    "\n",
    "min_v = li[0]\n",
    "total = 0\n",
    "needed_date = 0\n",
    "for v in li:\n",
    "    if v > min_v:\n",
    "        needed_date += 1\n",
    "        total += v - min_v\n",
    "        \n",
    "print(total, needed_date)"
   ]
  },
  {
   "cell_type": "markdown",
   "metadata": {},
   "source": [
    "### 올림픽 게임 7507"
   ]
  },
  {
   "cell_type": "code",
   "execution_count": null,
   "metadata": {},
   "outputs": [],
   "source": [
    "from collections import defaultdict as dd\n",
    "import sys\n",
    "input = lambda: sys.stdin.readline().rstrip()\n",
    "\n",
    "for tn in range(int(input())):\n",
    "    m = int(input())\n",
    "    dates = dd(list)\n",
    "    for _ in range(m):\n",
    "        d, s, e = map(int, input().split())\n",
    "        dates[d].append((s, e))\n",
    "\n",
    "    total = 0\n",
    "    for date in dates:\n",
    "        dates[date].sort(key=lambda x: x[1])\n",
    "\n",
    "        cur_e = 0\n",
    "        for s, e in dates[date]:\n",
    "            if cur_e <= s:\n",
    "                total += 1\n",
    "                cur_e = e\n",
    "\n",
    "    print(f'Scenario #{tn + 1}:')\n",
    "    print(total)\n",
    "    print()"
   ]
  },
  {
   "cell_type": "markdown",
   "metadata": {},
   "source": [
    "### 물 주기 23351"
   ]
  },
  {
   "cell_type": "code",
   "execution_count": 45,
   "metadata": {},
   "outputs": [
    {
     "name": "stdout",
     "output_type": "stream",
     "text": [
      "2 2 1 1\n",
      "3\n"
     ]
    }
   ],
   "source": [
    "n, k, a, b = map(int, input().split())\n",
    "\n",
    "turn = n // a\n",
    "if n % a:\n",
    "    turn += 1\n",
    "    \n",
    "tm = 0\n",
    "cur = k\n",
    "cur_wait = turn - 1\n",
    "while True:\n",
    "    tm += 1\n",
    "    if cur_wait > 0:\n",
    "        cur_wait -= 1\n",
    "        cur -= 1\n",
    "    else:\n",
    "        cur_wait = turn - 1\n",
    "        cur += b\n",
    "        cur -= 1\n",
    "        \n",
    "    if cur <= 0:\n",
    "        break\n",
    "        \n",
    "print(tm)"
   ]
  },
  {
   "cell_type": "markdown",
   "metadata": {},
   "source": [
    "### 황소 다마고치 23323"
   ]
  },
  {
   "cell_type": "code",
   "execution_count": 52,
   "metadata": {},
   "outputs": [
    {
     "name": "stdout",
     "output_type": "stream",
     "text": [
      "7 1\n",
      "4\n"
     ]
    }
   ],
   "source": [
    "import sys\n",
    "input = lambda: sys.stdin.readline().rstrip()\n",
    "\n",
    "for _ in range(int(input())):\n",
    "    n, m = map(int, input().split())\n",
    "\n",
    "    tm = 1\n",
    "    while True:\n",
    "        if n // 2 >= 1:\n",
    "            tm += 1\n",
    "            n //= 2\n",
    "        else:\n",
    "            break\n",
    "\n",
    "    tm += m\n",
    "\n",
    "    print(tm)"
   ]
  },
  {
   "cell_type": "markdown",
   "metadata": {},
   "source": [
    "### Young한 에너지는 부족하다 23561"
   ]
  },
  {
   "cell_type": "code",
   "execution_count": 54,
   "metadata": {},
   "outputs": [
    {
     "name": "stdout",
     "output_type": "stream",
     "text": [
      "2\n",
      "21 22 23 24 25 26\n",
      "1\n"
     ]
    }
   ],
   "source": [
    "from collections import deque\n",
    "\n",
    "n = int(input())\n",
    "deq = deque(sorted(map(int, input().split())))\n",
    "\n",
    "for _ in range(n):\n",
    "    deq.popleft()\n",
    "    deq.pop()\n",
    "\n",
    "r = deq[-1] - deq[0]\n",
    "\n",
    "print(r)"
   ]
  },
  {
   "cell_type": "markdown",
   "metadata": {},
   "source": [
    "### Tidy Numbers (Large) 14791"
   ]
  },
  {
   "cell_type": "code",
   "execution_count": null,
   "metadata": {},
   "outputs": [],
   "source": [
    "n = 8875\n",
    "7999\n",
    "\n",
    "4598\n",
    "4499\n",
    "\n",
    "1110\n",
    "0999"
   ]
  },
  {
   "cell_type": "code",
   "execution_count": 62,
   "metadata": {},
   "outputs": [
    {
     "name": "stdout",
     "output_type": "stream",
     "text": [
      "7\n",
      "7\n"
     ]
    }
   ],
   "source": [
    "import sys\n",
    "input = lambda: sys.stdin.readline().rstrip()\n",
    "\n",
    "for tn in range(int(input())):\n",
    "    li = list(map(int, input()))\n",
    "    n = len(li)\n",
    "\n",
    "    cur = -1\n",
    "    for i in range(n - 1):\n",
    "        if li[i] > li[i + 1]:\n",
    "            cur = i\n",
    "            break\n",
    "\n",
    "    r = -1\n",
    "    if cur == -1:\n",
    "        r = li\n",
    "    else:\n",
    "        cri = li[cur]\n",
    "        while True:\n",
    "            if li[cur] == cri:\n",
    "                cur -= 1\n",
    "            else:\n",
    "                break\n",
    "\n",
    "            if cur < 0:\n",
    "                break\n",
    "\n",
    "        cur += 1\n",
    "        li[cur] -= 1\n",
    "        for i in range(cur + 1, n):\n",
    "            li[i] = 9\n",
    "        r = li\n",
    "\n",
    "    r = ''.join(map(str, r)).lstrip('0')\n",
    "\n",
    "    print(f'Case #{tn + 1}: {r}')"
   ]
  },
  {
   "cell_type": "markdown",
   "metadata": {},
   "source": [
    "### Oversized Pancake Flipper (Large) 14789"
   ]
  },
  {
   "cell_type": "code",
   "execution_count": 63,
   "metadata": {},
   "outputs": [
    {
     "name": "stdout",
     "output_type": "stream",
     "text": [
      "1\n",
      "-+-+- 4\n",
      "Case #1: 2\n"
     ]
    }
   ],
   "source": [
    "import sys\n",
    "input = lambda: sys.stdin.readline().rstrip()\n",
    "\n",
    "for tn in range(int(input())):\n",
    "    s, k = input().split()\n",
    "    k = int(k)\n",
    "\n",
    "    li = []\n",
    "    for v in s:\n",
    "        if v == '-':\n",
    "            li.append(0)\n",
    "        else:\n",
    "            li.append(1)\n",
    "\n",
    "    total = 0\n",
    "    for i in range(len(s) - k + 1):\n",
    "        if li[i] == 0:\n",
    "            total += 1\n",
    "            for j in range(i, i + k):\n",
    "                li[j] ^= 1\n",
    "                \n",
    "    if sum(li) != len(s):\n",
    "        r = 'IMPOSSIBLE'\n",
    "    else:\n",
    "        r = total\n",
    "\n",
    "    print(f'Case #{tn + 1}: {r}')"
   ]
  },
  {
   "cell_type": "markdown",
   "metadata": {},
   "source": [
    "### 세 번째 5619"
   ]
  },
  {
   "cell_type": "code",
   "execution_count": 80,
   "metadata": {},
   "outputs": [
    {
     "name": "stdout",
     "output_type": "stream",
     "text": [
      "4\n",
      "1\n",
      "2\n",
      "3\n",
      "4\n",
      "14\n"
     ]
    }
   ],
   "source": [
    "import sys\n",
    "# input = lambda: sys.stdin.readline().rstrip()\n",
    "\n",
    "n = int(input())\n",
    "\n",
    "cur_max = -1\n",
    "sms = []\n",
    "for _ in range(n):\n",
    "    temp = int(input())\n",
    "    \n",
    "    if len(sms) < 4:\n",
    "        sms.append(temp)\n",
    "        cur_max = max(cur_max, temp)\n",
    "    else:\n",
    "        if temp < cur_max:\n",
    "            sms.remove(cur_max)\n",
    "            sms.append(temp)\n",
    "            cur_max = max(sms)\n",
    "        \n",
    "sms = list(map(str, sms))\n",
    "cands = []\n",
    "\n",
    "sms_len = len(sms)\n",
    "for i in range(sms_len):\n",
    "    for j in range(i + 1, sms_len):\n",
    "        cands.append(int(sms[i] + sms[j]))\n",
    "        cands.append(int(sms[j] + sms[i]))\n",
    "        \n",
    "cands.sort()\n",
    "\n",
    "print(cands[2])"
   ]
  },
  {
   "cell_type": "markdown",
   "metadata": {},
   "source": [
    "### From A to B 18004"
   ]
  },
  {
   "cell_type": "code",
   "execution_count": 83,
   "metadata": {},
   "outputs": [
    {
     "name": "stdout",
     "output_type": "stream",
     "text": [
      "3 8\n",
      "5\n"
     ]
    }
   ],
   "source": [
    "a, b = map(int, input().split())\n",
    "\n",
    "if a < b:\n",
    "    print(b - a)\n",
    "else:\n",
    "    total = 0\n",
    "    while a > b:\n",
    "        if a % 2 == 0:\n",
    "            a //= 2\n",
    "            total += 1\n",
    "        else:\n",
    "            a += 1\n",
    "            total += 1\n",
    "            \n",
    "    total += b - a\n",
    "        \n",
    "    print(total)"
   ]
  },
  {
   "cell_type": "markdown",
   "metadata": {},
   "source": [
    "### Just Stalling 20975"
   ]
  },
  {
   "cell_type": "code",
   "execution_count": null,
   "metadata": {},
   "outputs": [],
   "source": [
    "1 2 3 4\n",
    "2 3 4 4"
   ]
  },
  {
   "cell_type": "code",
   "execution_count": 86,
   "metadata": {},
   "outputs": [
    {
     "name": "stdout",
     "output_type": "stream",
     "text": [
      "4\n",
      "1 2 3 4\n",
      "2 4 3 4\n",
      "8\n"
     ]
    }
   ],
   "source": [
    "n = int(input())\n",
    "a = sorted(map(int, input().split()))\n",
    "b = sorted(map(int, input().split()))\n",
    "\n",
    "ip = True\n",
    "for i in range(n):\n",
    "    if a[i] > b[i]:\n",
    "        ip = False\n",
    "        break\n",
    "        \n",
    "if not ip:\n",
    "    print(0)\n",
    "else:\n",
    "    bi = n - 1\n",
    "    w = 0\n",
    "    r = 1\n",
    "    for ai in range(n - 1, -1, -1):\n",
    "        while bi >= 0 and b[bi] >= a[ai]:\n",
    "            bi -= 1\n",
    "        \n",
    "        temp = n - 1 - bi - w\n",
    "        r *= temp\n",
    "        w += 1\n",
    "        \n",
    "    print(r)"
   ]
  },
  {
   "cell_type": "markdown",
   "metadata": {},
   "source": [
    "### Auxiliary Project 15131"
   ]
  },
  {
   "cell_type": "code",
   "execution_count": null,
   "metadata": {},
   "outputs": [],
   "source": [
    " 0  1  2  3  4  5  6  7  8  9\n",
    "[6, 2, 5, 5, 4, 5, 6, 3, 7, 6]"
   ]
  },
  {
   "cell_type": "code",
   "execution_count": null,
   "metadata": {},
   "outputs": [],
   "source": [
    "6: 9\n",
    "7: 8\n",
    "3: 7\n",
    "5: 5\n",
    "4: 4\n",
    "2: 1"
   ]
  },
  {
   "cell_type": "code",
   "execution_count": 89,
   "metadata": {},
   "outputs": [
    {
     "name": "stdout",
     "output_type": "stream",
     "text": [
      "6\n",
      "14\n"
     ]
    }
   ],
   "source": [
    "n = int(input())\n",
    "\n",
    "total = 0\n",
    "if n % 3 == 1:\n",
    "    if n >= 4:\n",
    "        n -= 4\n",
    "        total += 4\n",
    "\n",
    "if n % 3 == 2:\n",
    "    if n >= 2:\n",
    "        n -= 2\n",
    "        total += 1\n",
    "        \n",
    "total += (n // 3) * 7\n",
    "        \n",
    "print(total)"
   ]
  },
  {
   "cell_type": "markdown",
   "metadata": {},
   "source": [
    "### 다운로드 3216"
   ]
  },
  {
   "cell_type": "code",
   "execution_count": 100,
   "metadata": {},
   "outputs": [
    {
     "name": "stdout",
     "output_type": "stream",
     "text": [
      "7\n",
      "2 1\n",
      "2 4\n",
      "1 2\n",
      "2 1\n",
      "3 2\n",
      "3 1\n",
      "1 3\n",
      "3\n"
     ]
    }
   ],
   "source": [
    "import sys\n",
    "input = lambda: sys.stdin.readline().rstrip()\n",
    "\n",
    "n = int(input())\n",
    "li = [list(map(int, input().split())) for _ in range(n)]\n",
    "\n",
    "needed = 0\n",
    "cur = 0\n",
    "for d, v in li:\n",
    "    cur += v\n",
    "    needed = max(needed, cur)\n",
    "    \n",
    "    cur -= d\n",
    "    \n",
    "print(needed)"
   ]
  },
  {
   "cell_type": "markdown",
   "metadata": {},
   "source": [
    "### 개구리 23797"
   ]
  },
  {
   "cell_type": "code",
   "execution_count": null,
   "metadata": {},
   "outputs": [],
   "source": [
    "PPPPPKKKKK"
   ]
  },
  {
   "cell_type": "code",
   "execution_count": null,
   "metadata": {},
   "outputs": [],
   "source": [
    "PKPKPKPKPK"
   ]
  },
  {
   "cell_type": "code",
   "execution_count": 124,
   "metadata": {},
   "outputs": [
    {
     "name": "stdout",
     "output_type": "stream",
     "text": [
      "KKPP\n",
      "2\n"
     ]
    }
   ],
   "source": [
    "s = input()\n",
    "\n",
    "cur = 0\n",
    "min_v = 0\n",
    "max_v = 0\n",
    "for v in s:\n",
    "    if v == 'P':\n",
    "        cur += 1\n",
    "    else:\n",
    "        cur -= 1\n",
    "        \n",
    "    min_v = min(min_v, cur)\n",
    "    max_v = max(max_v, cur)\n",
    "\n",
    "print(max_v - min_v)"
   ]
  },
  {
   "cell_type": "markdown",
   "metadata": {},
   "source": [
    "### 토너먼트 만들기 2262"
   ]
  },
  {
   "cell_type": "code",
   "execution_count": 135,
   "metadata": {},
   "outputs": [
    {
     "name": "stdout",
     "output_type": "stream",
     "text": [
      "6\n",
      "1 6 2 5 3 4\n",
      "9\n"
     ]
    }
   ],
   "source": [
    "n = int(input())\n",
    "li = list(map(int, input().split()))\n",
    "\n",
    "total = 0\n",
    "for to_find in range(n, 1, -1):\n",
    "    index = li.index(to_find)\n",
    "    \n",
    "    max_v = 0\n",
    "    for ni in [index - 1, index + 1]:\n",
    "        if ni < 0 or ni >= len(li):\n",
    "            continue\n",
    "        max_v = max(max_v, li[ni])\n",
    "        \n",
    "    total += to_find - max_v\n",
    "    del li[index]\n",
    "    \n",
    "print(total)"
   ]
  },
  {
   "cell_type": "markdown",
   "metadata": {},
   "source": [
    "### 나도리팡 24508"
   ]
  },
  {
   "cell_type": "code",
   "execution_count": 144,
   "metadata": {},
   "outputs": [
    {
     "name": "stdout",
     "output_type": "stream",
     "text": [
      "2 3 3\n",
      "1 2\n",
      "YES\n"
     ]
    }
   ],
   "source": [
    "n, k, t = map(int, input().split())\n",
    "li = sorted(map(int, input().split()))\n",
    "\n",
    "s = 0\n",
    "e = n - 1\n",
    "ip = True\n",
    "while s < e:\n",
    "    to_move = min(k - li[e], li[s])\n",
    "    if to_move > t:\n",
    "        ip = False\n",
    "        break\n",
    "    t -= to_move\n",
    "    \n",
    "    li[s] -= to_move\n",
    "    if li[s] == 0:\n",
    "        s += 1\n",
    "    \n",
    "    li[e] += to_move\n",
    "    if li[e] == k:\n",
    "        li[e] = 0\n",
    "        e -= 1\n",
    "        \n",
    "if sum(li) != 0:\n",
    "    ip = False\n",
    "        \n",
    "if not ip:\n",
    "    print('NO')\n",
    "else:\n",
    "    print('YES')"
   ]
  },
  {
   "cell_type": "markdown",
   "metadata": {},
   "source": [
    "### 밑 줄 1474"
   ]
  },
  {
   "cell_type": "code",
   "execution_count": 176,
   "metadata": {},
   "outputs": [
    {
     "name": "stdout",
     "output_type": "stream",
     "text": [
      "5 32\n",
      "Alpha\n",
      "Beta\n",
      "Gamma\n",
      "Delta\n",
      "Epsilon\n",
      "Alpha__Beta__Gamma___Delta___Epsilon\n"
     ]
    }
   ],
   "source": [
    "from itertools import permutations as perm\n",
    "import sys\n",
    "# input = lambda: sys.stdin.readline().rstrip()\n",
    "\n",
    "n, m = map(int, input().split())\n",
    "li = [input() for _ in range(n)]\n",
    "\n",
    "total_len = 0\n",
    "for v in li:\n",
    "    total_len += len(v)\n",
    "    \n",
    "total_len += n - 1\n",
    "\n",
    "mids = [1] * (n - 1)\n",
    "needed = m - total_len\n",
    "\n",
    "added = needed // (n - 1)\n",
    "left = needed - added * (n - 1)\n",
    "\n",
    "for i in range(n - 1):\n",
    "    mids[i] += added\n",
    "    \n",
    "for i in range(left):\n",
    "    mids[i] += 1\n",
    "    \n",
    "cands = []\n",
    "for case in perm(mids):\n",
    "    temp = []\n",
    "    for i in range(n - 1):\n",
    "        temp.append(li[i])\n",
    "        temp.append('_' * case[i])\n",
    "    temp.append(li[-1])\n",
    "    \n",
    "    cands.append(''.join(temp))\n",
    "    \n",
    "cands.sort()\n",
    "\n",
    "print(cands[0])"
   ]
  },
  {
   "cell_type": "markdown",
   "metadata": {},
   "source": [
    "### 타이핑 25215"
   ]
  },
  {
   "cell_type": "code",
   "execution_count": null,
   "metadata": {},
   "outputs": [],
   "source": [
    "aBaBaB\n",
    "\n",
    "a+b+a+b+a+b\n",
    "\n",
    "BBBBBBBBbbbbbb\n",
    "\n",
    "bBBb\n",
    "\n",
    "bB*B*b\n",
    "b+BB+b\n",
    "\n",
    "BbbB\n",
    "\n",
    "bbbbBbbbb\n",
    "\n",
    "bbbbb*bbb"
   ]
  },
  {
   "cell_type": "code",
   "execution_count": 183,
   "metadata": {},
   "outputs": [
    {
     "name": "stdout",
     "output_type": "stream",
     "text": [
      "iLoveINHA\n",
      "11\n"
     ]
    }
   ],
   "source": [
    "s = input()\n",
    "\n",
    "li = []\n",
    "for v in s:\n",
    "    w = 0\n",
    "    if v.isupper():\n",
    "        w = 1\n",
    "        \n",
    "    if li and li[-1][0] == w:\n",
    "        li[-1][1] += 1\n",
    "    else:\n",
    "        li.append([w, 1])\n",
    "        \n",
    "cur_tp = 0\n",
    "total = len(s)\n",
    "for tp, c in li:\n",
    "    if tp == cur_tp:\n",
    "        continue\n",
    "    else:\n",
    "        if c == 1:\n",
    "            total += 1\n",
    "        else:\n",
    "            cur_tp ^= 1\n",
    "            total += 1\n",
    "            \n",
    "print(total)"
   ]
  },
  {
   "cell_type": "markdown",
   "metadata": {},
   "source": [
    "### 빚 10427"
   ]
  },
  {
   "cell_type": "code",
   "execution_count": null,
   "metadata": {},
   "outputs": [],
   "source": [
    "import sys\n",
    "input = lambda: sys.stdin.readline().rstrip()\n",
    "\n",
    "inf = float('inf')\n",
    "\n",
    "for _ in range(int(input())):\n",
    "    n, *li = map(int, input().split())\n",
    "    li.sort()\n",
    "\n",
    "    mins = [inf] * (n + 1)\n",
    "    mins[0] = mins[1] = 0\n",
    "    for i in range(1, n):\n",
    "        cumul = 0\n",
    "        s_num = 1\n",
    "        for j in range(i - 1, -1, -1):\n",
    "            s_num += 1\n",
    "            cumul += li[i] - li[j]\n",
    "            mins[s_num] = min(mins[s_num], cumul)\n",
    "\n",
    "    r = sum(mins)\n",
    "\n",
    "    print(r)"
   ]
  },
  {
   "cell_type": "markdown",
   "metadata": {},
   "source": [
    "### 데크 소트 2 10975"
   ]
  },
  {
   "cell_type": "code",
   "execution_count": 191,
   "metadata": {},
   "outputs": [
    {
     "name": "stdout",
     "output_type": "stream",
     "text": [
      "5\n",
      "1\n",
      "2\n",
      "3\n",
      "4\n",
      "5\n",
      "1\n"
     ]
    }
   ],
   "source": [
    "from collections import deque\n",
    "import sys\n",
    "# input = lambda: sys.stdin.readline().rstrip()\n",
    "\n",
    "n = int(input())\n",
    "li = [int(input()) for _ in range(n)]\n",
    "\n",
    "sli = sorted(li)\n",
    "\n",
    "total = 0\n",
    "for i in range(n):\n",
    "    s_index = sli.index(li[i])\n",
    "    adjacents = set()\n",
    "    for si in [s_index - 1, s_index + 1]:\n",
    "        if 0 <= si < n:\n",
    "            adjacents.add(sli[si])\n",
    "    \n",
    "    ip = False\n",
    "    for j in range(i):\n",
    "        if li[j] in adjacents:\n",
    "            ip = True\n",
    "            break\n",
    "        \n",
    "    if not ip:\n",
    "        total += 1\n",
    "        \n",
    "print(total)"
   ]
  },
  {
   "cell_type": "markdown",
   "metadata": {},
   "source": [
    "### Milking Order 15764"
   ]
  },
  {
   "cell_type": "code",
   "execution_count": 11,
   "metadata": {},
   "outputs": [
    {
     "name": "stdout",
     "output_type": "stream",
     "text": [
      "6 5 2\n",
      "6 1 4 5 2\n",
      "6 2\n",
      "5 5\n",
      "3\n"
     ]
    }
   ],
   "source": [
    "# 틀렸음\n",
    "import sys\n",
    "# input = lambda: sys.stdin.readline().rstrip()\n",
    "\n",
    "n, m, k = map(int, input().split())\n",
    "ms = list(map(int, input().split()))\n",
    "pos = [0] * n\n",
    "fixed = set()\n",
    "for _ in range(k):\n",
    "    num, po = map(int, input().split())\n",
    "    po -= 1\n",
    "    pos[po] = num\n",
    "    fixed.add(num)\n",
    "    \n",
    "if 1 in fixed:\n",
    "    print(pos.index(1) + 1)\n",
    "elif 1 not in ms:  \n",
    "    cur_loc = n - 1\n",
    "    met_fixed = set()\n",
    "    for i in range(m - 1, -1, -1):\n",
    "        num = ms[i]\n",
    "        if num not in fixed:\n",
    "            while pos[cur_loc] != 0:\n",
    "                met_fixed.add(pos[cur_loc])\n",
    "                cur_loc -= 1\n",
    "\n",
    "            pos[cur_loc] = num\n",
    "            cur_loc -= 1\n",
    "        else:\n",
    "            if num in met_fixed:\n",
    "                continue    \n",
    "            cur_loc = pos.index(num) - 1\n",
    "\n",
    "    for i in range(n):\n",
    "        if pos[i] == 0:\n",
    "            print(i + 1)\n",
    "            break\n",
    "else:\n",
    "    pre = []\n",
    "    post = []\n",
    "    for i in range(m):\n",
    "        if ms[i] != 1:\n",
    "            pre.append(ms[i])\n",
    "        else:\n",
    "            post = ms[i + 1:]\n",
    "            break\n",
    "    \n",
    "    cur_loc = 0\n",
    "    met_fixed = set()\n",
    "    for i in range(len(pre)):\n",
    "        num = pre[i]\n",
    "        if num not in fixed:\n",
    "            while pos[cur_loc] != 0:\n",
    "                met_fixed.add(pos[cur_loc])\n",
    "                cur_loc += 1\n",
    "\n",
    "            pos[cur_loc] = num\n",
    "            cur_loc += 1\n",
    "        else:\n",
    "            if num in met_fixed:\n",
    "                continue    \n",
    "            cur_loc = pos.index(num) + 1  \n",
    "            \n",
    "    cur_loc = n - 1\n",
    "    met_fixed = set()\n",
    "    for i in range(len(post) - 1, -1, -1):\n",
    "        num = post[i]\n",
    "        if num not in fixed:\n",
    "            while pos[cur_loc] != 0:\n",
    "                met_fixed.add(pos[cur_loc])\n",
    "                cur_loc -= 1\n",
    "\n",
    "            pos[cur_loc] = num\n",
    "            cur_loc -= 1\n",
    "        else:\n",
    "            if num in met_fixed:\n",
    "                continue    \n",
    "            cur_loc = pos.index(num) - 1\n",
    "            \n",
    "    if pre:\n",
    "        to_find = pre.pop()\n",
    "        for i in range(n):\n",
    "            if pos[i] == to_find:\n",
    "                break\n",
    "            if pos[i] == 0:\n",
    "                pos[i] = -1\n",
    "        \n",
    "    for i in range(n):\n",
    "        if pos[i] == 0:\n",
    "            print(i + 1)\n",
    "            break    "
   ]
  },
  {
   "cell_type": "code",
   "execution_count": 12,
   "metadata": {},
   "outputs": [
    {
     "data": {
      "text/plain": [
       "[-1, 6, 0, 4, 5, 2]"
      ]
     },
     "execution_count": 12,
     "metadata": {},
     "output_type": "execute_result"
    }
   ],
   "source": [
    "# 틀렸음\n",
    "import sys\n",
    "# input = lambda: sys.stdin.readline().rstrip()\n",
    "\n",
    "n, m, k = map(int, input().split())\n",
    "ms = list(map(int, input().split()))\n",
    "pos = [0] * n\n",
    "fixed = set()\n",
    "for _ in range(k):\n",
    "    num, po = map(int, input().split())\n",
    "    po -= 1\n",
    "    pos[po] = num\n",
    "    fixed.add(num)\n",
    "    \n",
    "if 1 in fixed:\n",
    "    print(pos.index(1) + 1)\n",
    "elif 1 not in ms:  \n",
    "    cur_loc = n - 1\n",
    "    for i in range(m - 1, -1, -1):\n",
    "        num = ms[i]\n",
    "        if num not in fixed:\n",
    "            while pos[cur_loc] != 0:\n",
    "                cur_loc -= 1\n",
    "\n",
    "            pos[cur_loc] = num\n",
    "            cur_loc -= 1\n",
    "        else:    \n",
    "            cur_loc = pos.index(num) - 1\n",
    "\n",
    "    for i in range(n):\n",
    "        if pos[i] == 0:\n",
    "            print(i + 1)\n",
    "            break\n",
    "else:\n",
    "    pre = []\n",
    "    post = []\n",
    "    for i in range(m):\n",
    "        if ms[i] != 1:\n",
    "            pre.append(ms[i])\n",
    "        else:\n",
    "            post = ms[i + 1:]\n",
    "            break\n",
    "    \n",
    "    cur_loc = 0\n",
    "    for i in range(len(pre)):\n",
    "        num = pre[i]\n",
    "        if num not in fixed:\n",
    "            while pos[cur_loc] != 0:\n",
    "                cur_loc += 1\n",
    "\n",
    "            pos[cur_loc] = num\n",
    "            cur_loc += 1\n",
    "        else:\n",
    "            cur_loc = pos.index(num) + 1  \n",
    "            \n",
    "    cur_loc = n - 1\n",
    "    for i in range(len(post) - 1, -1, -1):\n",
    "        num = post[i]\n",
    "        if num not in fixed:\n",
    "            while pos[cur_loc] != 0:\n",
    "                cur_loc -= 1\n",
    "\n",
    "            pos[cur_loc] = num\n",
    "            cur_loc -= 1\n",
    "        else:\n",
    "            cur_loc = pos.index(num) - 1\n",
    "            \n",
    "    if pre:\n",
    "        to_find = pre.pop()\n",
    "        for i in range(n):\n",
    "            if pos[i] == to_find:\n",
    "                break\n",
    "            if pos[i] == 0:\n",
    "                pos[i] = -1\n",
    "        \n",
    "    for i in range(n):\n",
    "        if pos[i] == 0:\n",
    "            print(i + 1)\n",
    "            break    "
   ]
  },
  {
   "cell_type": "markdown",
   "metadata": {},
   "source": [
    "### 돌 굴러가유 23889"
   ]
  },
  {
   "cell_type": "code",
   "execution_count": 10,
   "metadata": {},
   "outputs": [
    {
     "name": "stdout",
     "output_type": "stream",
     "text": [
      "7 2 3\n",
      "2 5 3 7 1 6 8\n",
      "1 4 5\n",
      "1\n",
      "5\n"
     ]
    }
   ],
   "source": [
    "n, m, k = map(int, input().split())\n",
    "li = list(map(int, input().split()))\n",
    "\n",
    "get_value = lambda x: int(x) - 1\n",
    "rocks = list(map(get_value, input().split())) + [n]\n",
    "\n",
    "can_keep = []\n",
    "for i in range(len(rocks) - 1):\n",
    "    can_keep.append((rocks[i] + 1, sum(li[rocks[i]:rocks[i + 1]])))\n",
    "    \n",
    "can_keep.sort(key=lambda x: (-x[1], x[0]))\n",
    "\n",
    "r = []\n",
    "for i in range(m):\n",
    "    r.append(can_keep[i][0])\n",
    "    \n",
    "r.sort()\n",
    "for v in r:\n",
    "    print(v)"
   ]
  },
  {
   "cell_type": "markdown",
   "metadata": {},
   "source": [
    "### 알래스카 4159"
   ]
  },
  {
   "cell_type": "code",
   "execution_count": null,
   "metadata": {},
   "outputs": [],
   "source": [
    "import sys\n",
    "# input = lambda: sys.stdin.readline().rstrip()\n",
    "\n",
    "def check():\n",
    "    cur_fuel = 0\n",
    "    cur_loc = 0\n",
    "    for i in range(n):\n",
    "        diff = li[i] - cur_loc\n",
    "        if cur_fuel < diff:\n",
    "            return False\n",
    "        cur_fuel = 200\n",
    "        cur_loc = li[i]\n",
    "        \n",
    "    diff = 1422 - cur_loc\n",
    "    if cur_fuel < diff:\n",
    "        return False\n",
    "    cur_fuel -= diff\n",
    "    cur_loc = 1422\n",
    "    \n",
    "    for i in range(n - 1, -1, -1):\n",
    "        diff = cur_loc - li[i]\n",
    "        if cur_fuel < diff:\n",
    "            return False\n",
    "        cur_fuel = 200\n",
    "        cur_loc = li[i]\n",
    "        \n",
    "    diff = cur_loc\n",
    "    if cur_fuel < diff:\n",
    "        return False\n",
    "    return True\n",
    "\n",
    "while True:\n",
    "    n = int(input())\n",
    "    if n == 0:\n",
    "        break\n",
    "    \n",
    "    li = [int(input()) for _ in range(n)]\n",
    "\n",
    "    li.sort()\n",
    "    \n",
    "    if check():\n",
    "        print('POSSIBLE')\n",
    "    else:\n",
    "        print('IMPOSSIBLE')"
   ]
  }
 ],
 "metadata": {
  "kernelspec": {
   "display_name": "Python 3",
   "language": "python",
   "name": "python3"
  },
  "language_info": {
   "codemirror_mode": {
    "name": "ipython",
    "version": 3
   },
   "file_extension": ".py",
   "mimetype": "text/x-python",
   "name": "python",
   "nbconvert_exporter": "python",
   "pygments_lexer": "ipython3",
   "version": "3.7.4"
  }
 },
 "nbformat": 4,
 "nbformat_minor": 2
}
