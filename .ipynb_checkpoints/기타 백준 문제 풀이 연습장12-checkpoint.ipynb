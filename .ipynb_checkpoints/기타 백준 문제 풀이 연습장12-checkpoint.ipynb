{
 "cells": [
  {
   "cell_type": "markdown",
   "metadata": {},
   "source": [
    "https://solved.ac/search?query=%28tag%3Aad_hoc%7Ctag%3Aconstructive%7Ctag%3Anumber_theory%29+-+solved_by%3Ahsh8086+tier%3As3..&sort=level&direction=asc&page=1"
   ]
  },
  {
   "cell_type": "markdown",
   "metadata": {},
   "source": [
    "(tag:ad_hoc|tag:constructive|tag:number_theory) tier:g1 -피보나치 -@$me"
   ]
  },
  {
   "cell_type": "markdown",
   "metadata": {},
   "source": [
    "https://www.acmicpc.net/problem/3991 한번 쏘면 멈출 수 없어"
   ]
  },
  {
   "cell_type": "code",
   "execution_count": 4,
   "metadata": {},
   "outputs": [
    {
     "name": "stdout",
     "output_type": "stream",
     "text": [
      "3 5 3\n",
      "4 4 7\n",
      "33333\n",
      "33222\n",
      "11112\n"
     ]
    }
   ],
   "source": [
    "h, w, c = map(int, input().split())\n",
    "li = list(map(int, input().split()))\n",
    "\n",
    "result = [[0] * w for _ in range(h)]\n",
    "cur_i = 0\n",
    "for i in range(h - 1, -1, -1):\n",
    "    if i % 2 == 0:\n",
    "        rg = (w,)\n",
    "    else:\n",
    "        rg = (w - 1, -1, -1)\n",
    "\n",
    "    for j in range(*rg):\n",
    "        result[i][j] = cur_i + 1\n",
    "        li[cur_i] -= 1\n",
    "        if li[cur_i] == 0:\n",
    "            cur_i += 1\n",
    "        \n",
    "for v in result:\n",
    "    print(''.join(map(str, v)))"
   ]
  },
  {
   "cell_type": "markdown",
   "metadata": {},
   "source": [
    "https://www.acmicpc.net/problem/1862 미터계"
   ]
  },
  {
   "cell_type": "code",
   "execution_count": 9,
   "metadata": {},
   "outputs": [
    {
     "name": "stdout",
     "output_type": "stream",
     "text": [
      "15\n",
      "13\n"
     ]
    }
   ],
   "source": [
    "li = list(map(int, input()))\n",
    "n = len(li)\n",
    "\n",
    "for i in range(n):\n",
    "    if li[i] >= 5:\n",
    "        li[i] -= 1\n",
    "        \n",
    "s = ''.join(map(str, li))\n",
    "nn = int(s, 9)\n",
    "\n",
    "print(nn)"
   ]
  },
  {
   "cell_type": "markdown",
   "metadata": {},
   "source": [
    "https://www.acmicpc.net/problem/5393 콜라츠"
   ]
  },
  {
   "cell_type": "code",
   "execution_count": 9,
   "metadata": {},
   "outputs": [
    {
     "name": "stdout",
     "output_type": "stream",
     "text": [
      "1\n",
      "1\n",
      "2\n"
     ]
    }
   ],
   "source": [
    "import sys\n",
    "input = lambda: sys.stdin.readline().rstrip()\n",
    "\n",
    "def get_even_c(num):\n",
    "    return num // 2\n",
    "\n",
    "def get_six_c(num):\n",
    "    num -= 4\n",
    "    \n",
    "    if num < 0:\n",
    "        return 0\n",
    "    else:\n",
    "        return num // 6 + 1\n",
    "\n",
    "for _ in range(int(input())):\n",
    "    n = int(input())\n",
    "    \n",
    "    if n == 0:\n",
    "        print(0)\n",
    "    else:\n",
    "        l = n\n",
    "        if l % 2 == 0:\n",
    "            l += 1\n",
    "\n",
    "        r = n * 2\n",
    "\n",
    "        c1 = get_even_c(r) - get_even_c(l - 1)\n",
    "\n",
    "        l = n\n",
    "\n",
    "        r = n\n",
    "        if r % 2 == 0:\n",
    "            r -= 1\n",
    "        r = r * 3 + 1    \n",
    "\n",
    "        c2 = get_six_c(r) - get_six_c(l)\n",
    "\n",
    "        print(c1 + c2)"
   ]
  },
  {
   "cell_type": "markdown",
   "metadata": {},
   "source": [
    "https://www.acmicpc.net/problem/6662 Divisors"
   ]
  },
  {
   "cell_type": "code",
   "execution_count": 28,
   "metadata": {},
   "outputs": [
    {
     "name": "stdout",
     "output_type": "stream",
     "text": [
      "5 1\n",
      "2\n",
      "6 34\n",
      "0\n",
      "6 3\n",
      "6\n"
     ]
    }
   ],
   "source": [
    "# 맞았음\n",
    "from collections import defaultdict as dd\n",
    "import sys\n",
    "\n",
    "max_num = 432\n",
    "sp = [0] * (max_num + 1)\n",
    "primes = []\n",
    "for i in range(2, max_num + 1):\n",
    "    if sp[i] == 0:\n",
    "        sp[i] = i\n",
    "        primes.append(i)\n",
    "        \n",
    "    j = 0\n",
    "    while j < len(primes) and i * primes[j] <= max_num and primes[j] <= sp[i]:\n",
    "        sp[i * primes[j]] = primes[j]\n",
    "        j += 1\n",
    "    \n",
    "input = lambda: sys.stdin.readline().rstrip()\n",
    "\n",
    "c = 0\n",
    "while True:\n",
    "    try:\n",
    "        c += 1\n",
    "        n, k = map(int, input().split())\n",
    "\n",
    "        d = dd(int)\n",
    "        for num in range(n, n - k, -1):\n",
    "            while num > 1:\n",
    "                d[sp[num]] += 1\n",
    "                num //= sp[num]\n",
    "                \n",
    "        for num in range(1, k + 1):\n",
    "            while num > 1:\n",
    "                d[sp[num]] -= 1\n",
    "                num //= sp[num]\n",
    "\n",
    "        r = 1\n",
    "        for v in d.values():\n",
    "            r *= (v + 1)\n",
    "\n",
    "        print(r)\n",
    "    except:\n",
    "        break\n",
    "        \n",
    "assert c < 10000"
   ]
  },
  {
   "cell_type": "code",
   "execution_count": 36,
   "metadata": {},
   "outputs": [
    {
     "name": "stdout",
     "output_type": "stream",
     "text": [
      "430 200\n",
      "5836665117072162816\n",
      "420 120\n",
      "9499780463984640\n",
      "341 34\n",
      "150994944\n"
     ]
    }
   ],
   "source": [
    "# 틀렸음\n",
    "import sys\n",
    "input = lambda: sys.stdin.readline().rstrip()\n",
    "\n",
    "max_num = 432\n",
    "ip = [True] * (max_num + 1)\n",
    "ip[0] = ip[1] = False\n",
    "for mod1 in range(2, int((max_num + 1) ** 0.5) + 1):\n",
    "    if ip[mod1]:\n",
    "        for v in range(mod1 * mod1, max_num + 1, mod1):\n",
    "            ip[v] = False\n",
    "            \n",
    "primes = [i for i, v in enumerate(ip) if v]\n",
    "\n",
    "while True:\n",
    "    try:\n",
    "        n, k = map(int, input().split())\n",
    "\n",
    "        d = dd(int)\n",
    "        for num in range(n, n - k, -1):\n",
    "            cri = int(num ** 0.5) + 4\n",
    "            for mod in primes:\n",
    "                if mod > cri:\n",
    "                    break\n",
    "                while num % mod == 0:\n",
    "                    num //= mod\n",
    "                    d[mod] += 1\n",
    "\n",
    "            if num != 1:\n",
    "                d[num] += 1\n",
    "\n",
    "        for num in range(1, k + 1):\n",
    "            cri = int(num ** 0.5) + 4\n",
    "            for mod in primes:\n",
    "                if mod > cri:\n",
    "                    break\n",
    "            for mod in primes:\n",
    "                while num % mod == 0:\n",
    "                    num //= mod\n",
    "                    d[mod] -= 1\n",
    "\n",
    "            if num != 1:\n",
    "                d[num] -= 1\n",
    "\n",
    "        r = 1\n",
    "        for v in d.values():\n",
    "            r *= (v + 1)\n",
    "\n",
    "        print(r)\n",
    "    except:\n",
    "        break"
   ]
  },
  {
   "cell_type": "markdown",
   "metadata": {},
   "source": [
    "https://www.acmicpc.net/problem/9285 Watering - 1"
   ]
  },
  {
   "cell_type": "code",
   "execution_count": 85,
   "metadata": {},
   "outputs": [
    {
     "name": "stdout",
     "output_type": "stream",
     "text": [
      "3 2\n",
      "..#..|.....\n",
      ".....|.....\n",
      ".....|..#..\n",
      ".....|.....\n",
      ".....|.....\n",
      "-----+-----\n",
      ".....|.....\n",
      ".....|.#...\n",
      ".....|.....\n",
      ".....|.....\n",
      "#....|.....\n",
      "-----+-----\n",
      ".....|.....\n",
      ".....|.....\n",
      ".....|...#.\n",
      "...#.|.....\n",
      ".....|.....\n",
      "\n"
     ]
    }
   ],
   "source": [
    "with open(r'C:\\Users\\User\\Desktop\\watering\\watering1.in', 'r') as file:\n",
    "    data = file.read()\n",
    "    \n",
    "data = data.split('\\n')\n",
    "\n",
    "print(data[0])\n",
    "for v in data[1:]:\n",
    "    print(''.join(v))"
   ]
  },
  {
   "cell_type": "code",
   "execution_count": 74,
   "metadata": {},
   "outputs": [
    {
     "data": {
      "text/plain": [
       "250000"
      ]
     },
     "execution_count": 74,
     "metadata": {},
     "output_type": "execute_result"
    }
   ],
   "source": [
    "aa#bb|aaabb\n",
    "acccb|cccbd\n",
    "dddee|ee#dd\n",
    "fffeg|efffg\n",
    "hhhgg|hhhgg\n",
    "-----+-----\n",
    "abcde|aabbb\n",
    "abcde|a#ccc\n",
    "abcde|defgh\n",
    "ffggg|defgh\n",
    "#fhhh|defgh\n",
    "-----+-----\n",
    "abcde|aaaff\n",
    "abcde|bbbfg\n",
    "abcde|ccc#g\n",
    "fff#g|dddhg\n",
    "hhhgg|eeehh"
   ]
  },
  {
   "cell_type": "markdown",
   "metadata": {},
   "source": [
    "https://www.acmicpc.net/problem/12504 FreeCell Statistics (Large) 12504"
   ]
  },
  {
   "cell_type": "code",
   "execution_count": null,
   "metadata": {},
   "outputs": [],
   "source": [
    "n, Pd, Pg = 9, 80, 56"
   ]
  },
  {
   "cell_type": "code",
   "execution_count": null,
   "metadata": {},
   "outputs": [],
   "source": [
    "오늘 D 게임 중 Pd 퍼센트 승리\n",
    "전체 G 게임 중 Pg 퍼센트 승리\n",
    "오늘 N 게임 이하로 했음"
   ]
  },
  {
   "cell_type": "code",
   "execution_count": null,
   "metadata": {},
   "outputs": [],
   "source": [
    "100 게임 중 31판 승리\n",
    "31/100 승리\n",
    "\n",
    "2/4 승리"
   ]
  },
  {
   "cell_type": "code",
   "execution_count": null,
   "metadata": {},
   "outputs": [],
   "source": [
    "2 / 4 * 100은 정수"
   ]
  },
  {
   "cell_type": "code",
   "execution_count": null,
   "metadata": {},
   "outputs": [],
   "source": [
    "2 / 200 * 100은 정수"
   ]
  },
  {
   "cell_type": "code",
   "execution_count": null,
   "metadata": {},
   "outputs": [],
   "source": [
    "1판당 1%?\n",
    "2판당 1%?"
   ]
  },
  {
   "cell_type": "code",
   "execution_count": 89,
   "metadata": {},
   "outputs": [
    {
     "name": "stdout",
     "output_type": "stream",
     "text": [
      "1\n",
      "10\n",
      "2\n",
      "5\n"
     ]
    }
   ],
   "source": [
    "def get_divisors(num):\n",
    "    divisors = set()\n",
    "    for mod in range(1, int(num ** 0.5) + 1):\n",
    "        if num % mod == 0:\n",
    "            divisors.add(mod)\n",
    "            divisors.add(num // mod)\n",
    "            \n",
    "    return divisors\n",
    "\n",
    "for v in get_divisors(n):\n",
    "    "
   ]
  },
  {
   "cell_type": "code",
   "execution_count": null,
   "metadata": {},
   "outputs": [],
   "source": [
    "vtr / d = 31 / 100\n",
    "\n",
    "vtr / <=n = 31 / 100\n",
    "\n",
    "vtr = 31 * d / 100"
   ]
  },
  {
   "cell_type": "code",
   "execution_count": 95,
   "metadata": {},
   "outputs": [
    {
     "name": "stdout",
     "output_type": "stream",
     "text": [
      "2\n",
      "1 100 50\n",
      "Case #1: Possible\n",
      "10 10 100\n",
      "Case #2: Broken\n"
     ]
    }
   ],
   "source": [
    "import sys\n",
    "# input = lambda: sys.stdin.readline().rstrip()\n",
    "\n",
    "for tn in range(int(input())):\n",
    "    n, Pd, Pg = map(int, input().split())\n",
    "\n",
    "    if Pd < 100 and Pg == 100:\n",
    "        r = 'Broken'\n",
    "    elif Pd > 0 and Pg == 0:\n",
    "        r = 'Broken'\n",
    "    elif n >= 100:\n",
    "        r = 'Possible'\n",
    "    else:\n",
    "        ip = False\n",
    "        for num in range(1, n + 1):\n",
    "            if (Pd * num) % 100 == 0:\n",
    "                ip = True\n",
    "                break\n",
    "\n",
    "        if ip:\n",
    "            r = 'Possible'\n",
    "        else:\n",
    "            r = 'Broken'\n",
    "\n",
    "    print(f'Case #{tn + 1}: {r}')"
   ]
  },
  {
   "cell_type": "markdown",
   "metadata": {},
   "source": [
    "https://www.acmicpc.net/problem/25487 단순한 문제 (Large)"
   ]
  },
  {
   "cell_type": "code",
   "execution_count": null,
   "metadata": {},
   "outputs": [],
   "source": [
    "4 6 10\n",
    "\n"
   ]
  },
  {
   "cell_type": "code",
   "execution_count": 111,
   "metadata": {},
   "outputs": [
    {
     "data": {
      "text/plain": [
       "(0, 2, 1)"
      ]
     },
     "execution_count": 111,
     "metadata": {},
     "output_type": "execute_result"
    }
   ],
   "source": [
    "x, y, z = 2, 2, 3\n",
    "\n",
    "x % y, y % z, z % x"
   ]
  },
  {
   "cell_type": "code",
   "execution_count": null,
   "metadata": {},
   "outputs": [],
   "source": [
    "import sys\n",
    "input = lambda: sys.stdin.readline().rstrip()\n",
    "\n",
    "for _ in range(int(input())):\n",
    "    a, b, c = map(int, input().split())\n",
    "\n",
    "    r = min(a, b, c)\n",
    "    \n",
    "    print(r)"
   ]
  },
  {
   "cell_type": "markdown",
   "metadata": {},
   "source": [
    "https://www.acmicpc.net/problem/24516 잘 알려진 수열 구하기"
   ]
  },
  {
   "cell_type": "code",
   "execution_count": 124,
   "metadata": {},
   "outputs": [
    {
     "name": "stdout",
     "output_type": "stream",
     "text": [
      "4\n",
      "1 3 5 7\n"
     ]
    }
   ],
   "source": [
    "n = int(input())\n",
    "\n",
    "r = []\n",
    "cur = 1\n",
    "for _ in range(n):\n",
    "    r.append(cur)\n",
    "    cur += 2\n",
    "    \n",
    "print(*r)"
   ]
  },
  {
   "cell_type": "code",
   "execution_count": 125,
   "metadata": {},
   "outputs": [
    {
     "data": {
      "text/plain": [
       "25"
      ]
     },
     "execution_count": 125,
     "metadata": {},
     "output_type": "execute_result"
    }
   ],
   "source": [
    "1+3+5+7+9"
   ]
  },
  {
   "cell_type": "code",
   "execution_count": null,
   "metadata": {},
   "outputs": [],
   "source": [
    "10 * 10\n",
    "11 * 11"
   ]
  },
  {
   "cell_type": "code",
   "execution_count": null,
   "metadata": {},
   "outputs": [],
   "source": [
    "1 3 5 7 9 11 13\n",
    "1 2 3 4 5  6  7"
   ]
  },
  {
   "cell_type": "code",
   "execution_count": 126,
   "metadata": {},
   "outputs": [
    {
     "data": {
      "text/plain": [
       "49"
      ]
     },
     "execution_count": 126,
     "metadata": {},
     "output_type": "execute_result"
    }
   ],
   "source": [
    "1+3+5+7+9+11+13+15+17"
   ]
  },
  {
   "cell_type": "code",
   "execution_count": null,
   "metadata": {},
   "outputs": [],
   "source": [
    "5 * 5, 6 * 6\n",
    "5, 5, 1   11\n",
    "\n",
    "6 * 6, 7 * 7\n",
    "6, 6, 1   13"
   ]
  },
  {
   "cell_type": "code",
   "execution_count": 128,
   "metadata": {},
   "outputs": [
    {
     "data": {
      "text/plain": [
       "(25, 35)"
      ]
     },
     "execution_count": 128,
     "metadata": {},
     "output_type": "execute_result"
    }
   ],
   "source": [
    "1+3+5+7+9\n",
    "3+5+7+9+11  inc == 2 * 5"
   ]
  },
  {
   "cell_type": "markdown",
   "metadata": {},
   "source": [
    "https://www.acmicpc.net/problem/12968 방문"
   ]
  },
  {
   "cell_type": "code",
   "execution_count": 132,
   "metadata": {},
   "outputs": [
    {
     "name": "stdout",
     "output_type": "stream",
     "text": [
      "2 3 3\n",
      "1\n"
     ]
    }
   ],
   "source": [
    "r, c, k = map(int, input().split())\n",
    "\n",
    "rr = 0\n",
    "if k == 1:\n",
    "    rr = 1\n",
    "elif r == 1 and c == 1:\n",
    "    rr = 0\n",
    "elif r == 1 or c == 1:\n",
    "    mv = max(r, c)\n",
    "    \n",
    "    if mv % 2 == 0:\n",
    "        rr = 1\n",
    "    else:\n",
    "        rr = 0\n",
    "elif r % 2 == 0 or c % 2 == 0:\n",
    "    rr = 1\n",
    "else:\n",
    "    rr = 0\n",
    "    \n",
    "print(rr)"
   ]
  },
  {
   "cell_type": "markdown",
   "metadata": {},
   "source": [
    "https://www.acmicpc.net/problem/1684 같은 나머지"
   ]
  },
  {
   "cell_type": "code",
   "execution_count": 3,
   "metadata": {},
   "outputs": [
    {
     "name": "stdout",
     "output_type": "stream",
     "text": [
      "5\n",
      "14 -22 17 -31 -124\n",
      "3\n"
     ]
    }
   ],
   "source": [
    "from math import gcd\n",
    "\n",
    "n = int(input())\n",
    "li = list(map(int, input().split()))\n",
    "\n",
    "if n == 1:\n",
    "    print(li[0])\n",
    "else:\n",
    "    diffs = []\n",
    "    for i in range(n - 1):\n",
    "        diffs.append(abs(li[i + 1] - li[i]))\n",
    "        \n",
    "    cur = diffs[0]\n",
    "    for i in range(1, len(diffs)):\n",
    "        cur = gcd(cur, diffs[i])\n",
    "        \n",
    "    print(cur)"
   ]
  },
  {
   "cell_type": "markdown",
   "metadata": {},
   "source": [
    "https://www.acmicpc.net/problem/1636 한번 열면 멈출 수 없어"
   ]
  },
  {
   "cell_type": "code",
   "execution_count": 20,
   "metadata": {},
   "outputs": [
    {
     "name": "stdout",
     "output_type": "stream",
     "text": [
      "4\n",
      "3 5\n",
      "1 3\n",
      "5 7\n",
      "1 3\n",
      "4\n",
      "3\n",
      "3\n",
      "5\n",
      "3\n"
     ]
    }
   ],
   "source": [
    "import sys\n",
    "# input = lambda: sys.stdin.readline().rstrip()\n",
    "\n",
    "n = int(input())\n",
    "init_s, init_e = map(int, input().split())\n",
    "\n",
    "result = [-1] * n\n",
    "result_v = 0\n",
    "cur_s, cur_e = init_s, init_e\n",
    "for i in range(n - 1):\n",
    "    ns, ne = map(int, input().split())\n",
    "    \n",
    "    if cur_e < ns:\n",
    "        if result[0] == -1:\n",
    "            result[0] = cur_e\n",
    "        result[i + 1] = ns\n",
    "        result_v += ns - cur_e\n",
    "        cur_s = cur_e = ns\n",
    "    elif ne < cur_s:\n",
    "        if result[0] == -1:\n",
    "            result[0] = cur_s\n",
    "        result[i + 1] = ne\n",
    "        result_v += cur_s - ne\n",
    "        cur_s = cur_e = ne\n",
    "    else:\n",
    "        if result[i] != -1:\n",
    "            result[i + 1] = result[i]\n",
    "            \n",
    "        cur_s = max(cur_s, ns)\n",
    "        cur_e = min(cur_e, ne)\n",
    "        \n",
    "if result[0] == -1:\n",
    "    result[0] = init_s\n",
    "    \n",
    "for i in range(1, n):\n",
    "    if result[i] == -1:\n",
    "        result[i] = result[i - 1]\n",
    "    \n",
    "print(result_v)\n",
    "for v in result:\n",
    "    print(v)"
   ]
  },
  {
   "cell_type": "markdown",
   "metadata": {},
   "source": [
    "https://www.acmicpc.net/problem/5641 겉보기에 쌍둥이 소수"
   ]
  },
  {
   "cell_type": "code",
   "execution_count": null,
   "metadata": {},
   "outputs": [],
   "source": [
    "from math import gcd\n",
    "\n",
    "lcm = lambda a, b: a * b // gcd(a, b)\n",
    "\n",
    "cur = 1\n",
    "for i in range(1, 8001):\n",
    "    cur = lcm(cur, i)\n",
    "scur = str(cur)\n",
    "scur_len = len(scur)\n",
    "\n",
    "while True:\n",
    "    n, t = map(int, input().split())\n",
    "    if n == t == 0:\n",
    "        break\n",
    "\n",
    "    result = scur + '0' * (n - scur_len)\n",
    "    result = int(result) - 1\n",
    "\n",
    "    print(result)"
   ]
  },
  {
   "cell_type": "markdown",
   "metadata": {},
   "source": [
    "https://www.acmicpc.net/problem/2759 팬케이크 뒤집기"
   ]
  },
  {
   "cell_type": "code",
   "execution_count": 76,
   "metadata": {},
   "outputs": [
    {
     "name": "stdout",
     "output_type": "stream",
     "text": [
      "3 1 3 2\n",
      "3 2 3 2\n"
     ]
    }
   ],
   "source": [
    "import sys\n",
    "input = lambda: sys.stdin.readline().rstrip()\n",
    "\n",
    "for _ in range(int(input())):\n",
    "    n, *li = map(int, input().split())\n",
    "\n",
    "    c = 0\n",
    "    result = []\n",
    "\n",
    "    for i in range(n - 1, -1, -1):\n",
    "        if li[i] != i + 1:\n",
    "            index = li.index(i + 1)\n",
    "\n",
    "            if index == 0:\n",
    "                c += 1\n",
    "                result.append(i + 1)\n",
    "                li[:i + 1] = li[:i + 1][::-1]\n",
    "            else:\n",
    "                c += 2\n",
    "                result.append(index + 1)\n",
    "                result.append(i + 1)\n",
    "                li[:index + 1] = li[:index + 1][::-1]\n",
    "                li[:i + 1] = li[:i + 1][::-1]\n",
    "\n",
    "    print(c, *result)"
   ]
  },
  {
   "cell_type": "markdown",
   "metadata": {},
   "source": [
    "https://www.acmicpc.net/problem/2715 상범 마법 팬케이크 하우스"
   ]
  },
  {
   "cell_type": "code",
   "execution_count": 10,
   "metadata": {},
   "outputs": [
    {
     "name": "stdout",
     "output_type": "stream",
     "text": [
      "1\n",
      "10 -2 -1 -4 -3 +6 +5 +7 +8 -9 -10\n",
      "12 10 1 10 9 1 9 5 6 5 2 4 2\n"
     ]
    }
   ],
   "source": [
    "import sys\n",
    "# input = lambda: sys.stdin.readline().rstrip()\n",
    "\n",
    "for _ in range(int(input())):\n",
    "    n, *li = input().split()\n",
    "    n = int(n)\n",
    "    \n",
    "    nums = [0] * n\n",
    "    signs = [0] * (n + 1)\n",
    "    for i in range(n):\n",
    "        num = int(li[i][1:])\n",
    "\n",
    "        nums[i] = num\n",
    "        if li[i][0] == '+':\n",
    "            signs[num] = 1\n",
    "        else:\n",
    "            signs[num] = 0\n",
    "\n",
    "    c = 0\n",
    "    result = []\n",
    "\n",
    "    for i in range(n - 1, -1, -1):\n",
    "        if nums[i] != i + 1:\n",
    "            index = nums.index(i + 1)\n",
    "\n",
    "            if index == 0:\n",
    "                if signs[i + 1] == 1:\n",
    "                    c += 1\n",
    "                    result.append(1)\n",
    "                    signs[i + 1] = 0\n",
    "                \n",
    "                c += 1\n",
    "                result.append(i + 1)\n",
    "                nums[:i + 1] = nums[:i + 1][::-1]\n",
    "                \n",
    "                for j in range(i + 1):\n",
    "                    signs[nums[j]] ^= 1\n",
    "            else:\n",
    "                c += 2\n",
    "                result.append(index + 1)\n",
    "                nums[:index + 1] = nums[:index + 1][::-1]\n",
    "                \n",
    "                for j in range(index + 1):\n",
    "                    signs[nums[j]] ^= 1                \n",
    "                \n",
    "                if signs[i + 1] == 1:\n",
    "                    c += 1\n",
    "                    result.append(1)\n",
    "                    signs[i + 1] = 0\n",
    "                    \n",
    "                result.append(i + 1)\n",
    "                nums[:i + 1] = nums[:i + 1][::-1]\n",
    "                \n",
    "                for j in range(i + 1):\n",
    "                    signs[nums[j]] ^= 1\n",
    "        else:\n",
    "            if signs[i + 1] == 0:\n",
    "                if i == 0:\n",
    "                    c += 1\n",
    "                    signs[1] = 1\n",
    "                    result.append(1)\n",
    "                else:\n",
    "                    c += 3\n",
    "                    signs[i + 1] = 1\n",
    "                    result.extend([i + 1, 1, i + 1])\n",
    "\n",
    "    print(c, *result)"
   ]
  },
  {
   "cell_type": "markdown",
   "metadata": {},
   "source": [
    "https://www.acmicpc.net/problem/25375 아주 간단한 문제"
   ]
  },
  {
   "cell_type": "code",
   "execution_count": 19,
   "metadata": {},
   "outputs": [
    {
     "name": "stdout",
     "output_type": "stream",
     "text": [
      "2\n",
      "1 4\n",
      "1\n",
      "2 3\n",
      "0\n"
     ]
    }
   ],
   "source": [
    "import sys\n",
    "# input = lambda: sys.stdin.readline().rstrip()\n",
    "\n",
    "for _ in range(int(input())):\n",
    "    a, b = map(int, input().split())\n",
    "\n",
    "    if b % a == 0 and b >= a * 2:\n",
    "        print(1)\n",
    "    else:\n",
    "        print(0)"
   ]
  },
  {
   "cell_type": "markdown",
   "metadata": {},
   "source": [
    "https://www.acmicpc.net/problem/19741 Patterns "
   ]
  },
  {
   "cell_type": "code",
   "execution_count": 21,
   "metadata": {},
   "outputs": [
    {
     "name": "stdout",
     "output_type": "stream",
     "text": [
      "7 3\n",
      "*****.*\n",
      ".*.*.*.\n",
      "..*.*..\n",
      ".*.*...\n",
      "*.*....\n",
      ".*...*.\n",
      "*...*.*\n"
     ]
    }
   ],
   "source": [
    "def get_divisors_c(num):\n",
    "    divisors = set()\n",
    "    for mod in range(1, int(num ** 0.5) + 1):\n",
    "        if num % mod == 0:\n",
    "            divisors.add(mod)\n",
    "            divisors.add(num // mod)\n",
    "            \n",
    "    return len(divisors)\n",
    "\n",
    "n, k = map(int, input().split())\n",
    "\n",
    "li = [['*'] * n for _ in range(n)]\n",
    "for i in range(n):\n",
    "    for j in range(n):\n",
    "        num = i * n + j + 1\n",
    "        \n",
    "        c = get_divisors_c(num)\n",
    "        if c <= k:\n",
    "            li[i][j] = '*'\n",
    "        else:\n",
    "            li[i][j] = '.'\n",
    "            \n",
    "for v in li:\n",
    "    print(''.join(v))"
   ]
  },
  {
   "cell_type": "markdown",
   "metadata": {},
   "source": [
    "https://www.acmicpc.net/problem/6971 Nasty Numbers"
   ]
  },
  {
   "cell_type": "code",
   "execution_count": 25,
   "metadata": {},
   "outputs": [
    {
     "name": "stdout",
     "output_type": "stream",
     "text": [
      "1\n",
      "10078\n",
      "10078 is not nasty\n"
     ]
    }
   ],
   "source": [
    "for _ in range(int(input())):\n",
    "    num = int(input())\n",
    "\n",
    "    sums = set()\n",
    "    subs = set()\n",
    "    for mod in range(1, int(num ** 0.5) + 1):\n",
    "        if num % mod == 0:\n",
    "            a = mod\n",
    "            b = num // mod\n",
    "\n",
    "            sums.add(a + b)\n",
    "            subs.add(b - a)\n",
    "\n",
    "    if sums & subs:\n",
    "        r = 'nasty'\n",
    "    else:\n",
    "        r = 'not nasty'\n",
    "\n",
    "    print(f'{num} is {r}')"
   ]
  },
  {
   "cell_type": "markdown",
   "metadata": {},
   "source": [
    "https://www.acmicpc.net/problem/17433 신비로운 수"
   ]
  },
  {
   "cell_type": "code",
   "execution_count": 2,
   "metadata": {},
   "outputs": [
    {
     "name": "stdout",
     "output_type": "stream",
     "text": [
      "5\n",
      "162 72 54 63 57\n",
      "3\n"
     ]
    }
   ],
   "source": [
    "from math import gcd\n",
    "import sys\n",
    "input = lambda: sys.stdin.readline().rstrip()\n",
    "\n",
    "for _ in range(int(input())):\n",
    "    n = int(input())\n",
    "    li = list(map(int, input().split()))\n",
    "\n",
    "    if n == 1:\n",
    "        print('INFINITY')\n",
    "\n",
    "    g = 0\n",
    "    for i in range(n - 1):\n",
    "        g = gcd(g, li[i + 1] - li[i])\n",
    "\n",
    "    if g == 0:\n",
    "        print('INFINITY')\n",
    "    else:\n",
    "        print(g)"
   ]
  },
  {
   "cell_type": "markdown",
   "metadata": {},
   "source": [
    "https://www.acmicpc.net/problem/17251 힘 겨루기"
   ]
  },
  {
   "cell_type": "code",
   "execution_count": 7,
   "metadata": {},
   "outputs": [
    {
     "name": "stdout",
     "output_type": "stream",
     "text": [
      "10\n",
      "26 25 9 27 7 30 15 20 8 16\n",
      "B\n"
     ]
    }
   ],
   "source": [
    "n = int(input())\n",
    "li = list(map(int, input().split()))\n",
    "\n",
    "s_maxes_to_right = [0] * n\n",
    "s_maxes_to_left = [0] * n\n",
    "cur_max = -1\n",
    "for i in range(n):\n",
    "    cur_max = max(cur_max, li[i])\n",
    "    s_maxes_to_right[i] = cur_max\n",
    "\n",
    "cur_max = -1\n",
    "for i in range(n - 1, -1, -1):\n",
    "    cur_max = max(cur_max, li[i])\n",
    "    s_maxes_to_left[i] = cur_max\n",
    "    \n",
    "left_win_c = 0\n",
    "right_win_c = 0\n",
    "for i in range(n - 1):\n",
    "    a = s_maxes_to_right[i]\n",
    "    b = s_maxes_to_left[i + 1]\n",
    "    \n",
    "    if a > b:\n",
    "        left_win_c += 1\n",
    "    elif a < b:\n",
    "        right_win_c += 1\n",
    "\n",
    "if left_win_c > right_win_c:\n",
    "    print('R')\n",
    "elif left_win_c < right_win_c:\n",
    "    print('B')\n",
    "else:\n",
    "    print('X')"
   ]
  },
  {
   "cell_type": "markdown",
   "metadata": {},
   "source": [
    "https://www.acmicpc.net/problem/23048 자연수 색칠하기"
   ]
  },
  {
   "cell_type": "code",
   "execution_count": 16,
   "metadata": {},
   "outputs": [
    {
     "name": "stdout",
     "output_type": "stream",
     "text": [
      "5\n",
      "4\n",
      "1 2 3 2 4\n"
     ]
    }
   ],
   "source": [
    "n = int(input())\n",
    "\n",
    "max_num = n\n",
    "\n",
    "colors = [0] * (max_num + 1)\n",
    "colors[1] = 1\n",
    "nxt_color = 2\n",
    "for mod1 in range(2, max_num + 1):\n",
    "    if colors[mod1] == 0:\n",
    "        colors[mod1] = nxt_color\n",
    "        nxt_color += 1\n",
    "        \n",
    "        for v in range(mod1 + mod1, max_num + 1, mod1):\n",
    "            if colors[v] == 0:\n",
    "                colors[v] = nxt_color - 1\n",
    "\n",
    "print(nxt_color - 1)\n",
    "print(*colors[1:])"
   ]
  },
  {
   "cell_type": "markdown",
   "metadata": {},
   "source": [
    "https://www.acmicpc.net/problem/21870 시철이가 사랑한 GCD"
   ]
  },
  {
   "cell_type": "code",
   "execution_count": 26,
   "metadata": {},
   "outputs": [
    {
     "name": "stdout",
     "output_type": "stream",
     "text": [
      "5\n",
      "1 2 3 4 5\n",
      "13\n"
     ]
    }
   ],
   "source": [
    "from math import gcd\n",
    "\n",
    "def recur(li):\n",
    "    n = len(li)\n",
    "    \n",
    "    if n == 1:\n",
    "        return li[0], li[0]\n",
    "    \n",
    "    left = li[:n // 2]\n",
    "    right = li[n // 2:]\n",
    "    \n",
    "    max_v1, gcd_v1 = recur(left)\n",
    "    max_v2, gcd_v2 = recur(right)\n",
    "    \n",
    "    max_value = max(max_v1 + gcd_v2, max_v2 + gcd_v1)\n",
    "    gcd_value = gcd(gcd_v1, gcd_v2)\n",
    "    \n",
    "    return max_value, gcd_value\n",
    "\n",
    "n = int(input())\n",
    "li = list(map(int, input().split()))\n",
    "\n",
    "r = recur(li)[0]\n",
    "\n",
    "print(r)"
   ]
  },
  {
   "cell_type": "markdown",
   "metadata": {},
   "source": [
    "https://www.acmicpc.net/problem/1640 동전 뒤집기"
   ]
  },
  {
   "cell_type": "code",
   "execution_count": 33,
   "metadata": {},
   "outputs": [
    {
     "name": "stdout",
     "output_type": "stream",
     "text": [
      "3 3\n",
      "111\n",
      "111\n",
      "111\n",
      "3\n"
     ]
    }
   ],
   "source": [
    "inf = float('inf')\n",
    "\n",
    "n, m = map(int, input().split())\n",
    "li = [input() for _ in range(n)]\n",
    "\n",
    "row_p0c = row_p1c = col_p0c = col_p1c = 0 # p0c: parity 0 c\n",
    "for i in range(n):\n",
    "    c1 = li[i].count('1')\n",
    "\n",
    "    if c1 % 2 == 0:\n",
    "        row_p0c += 1\n",
    "    else:\n",
    "        row_p1c += 1\n",
    "            \n",
    "for j in range(m):\n",
    "    c1 = 0\n",
    "    for i in range(n):\n",
    "        if li[i][j] == '1':\n",
    "            c1 += 1\n",
    "    \n",
    "    if c1 % 2 == 0:\n",
    "        col_p0c += 1\n",
    "    else:\n",
    "        col_p1c += 1\n",
    "        \n",
    "result = float('inf')\n",
    "\n",
    "# row to same 0\n",
    "\n",
    "temp = row_p1c\n",
    "temp_r = row_p1c\n",
    "if temp % 2 == 0:\n",
    "    if col_p1c % 2 == 0:\n",
    "        temp_r += col_p1c\n",
    "        \n",
    "        result = min(result, temp_r)\n",
    "else:\n",
    "    if col_p1c % 2 == 1:\n",
    "        n_col_p1c = col_p0c\n",
    "        \n",
    "        temp_r += n_col_p1c\n",
    "        \n",
    "        result= min(result, temp_r)\n",
    "        \n",
    "# row to same 1\n",
    "\n",
    "temp = row_p0c\n",
    "temp_r = row_p0c\n",
    "if temp % 2 == 0:\n",
    "    if col_p1c % 2 == 1:\n",
    "        temp_r += col_p1c\n",
    "        \n",
    "        result = min(result, temp_r)\n",
    "else:\n",
    "    if col_p1c % 2 == 0:\n",
    "        n_col_p1c = col_p0c\n",
    "        \n",
    "        temp_r += n_col_p1c\n",
    "        \n",
    "        result= min(result, temp_r)\n",
    "        \n",
    "if result == inf:\n",
    "    print(-1)\n",
    "else:\n",
    "    print(result)"
   ]
  },
  {
   "cell_type": "markdown",
   "metadata": {},
   "source": [
    "https://www.acmicpc.net/problem/11565 바이너리 게임"
   ]
  },
  {
   "cell_type": "code",
   "execution_count": 2,
   "metadata": {},
   "outputs": [
    {
     "name": "stdout",
     "output_type": "stream",
     "text": [
      "0011\n",
      "1110\n",
      "DEFEAT\n"
     ]
    }
   ],
   "source": [
    "a = input()\n",
    "b = input()\n",
    "\n",
    "ac1 = a.count('1')\n",
    "bc1 = b.count('1')\n",
    "\n",
    "limit = ac1\n",
    "if ac1 % 2 == 1:\n",
    "    limit += 1\n",
    "    \n",
    "if bc1 <= limit:\n",
    "    print('VICTORY')\n",
    "else:\n",
    "    print('DEFEAT')"
   ]
  },
  {
   "cell_type": "markdown",
   "metadata": {},
   "source": [
    "https://www.acmicpc.net/problem/5485 평균값 수열"
   ]
  },
  {
   "cell_type": "code",
   "execution_count": 9,
   "metadata": {},
   "outputs": [
    {
     "name": "stdout",
     "output_type": "stream",
     "text": [
      "4\n",
      "1\n",
      "9\n",
      "1\n",
      "9\n",
      "0\n"
     ]
    }
   ],
   "source": [
    "import sys\n",
    "# input = lambda: sys.stdin.readline().rstrip()\n",
    "\n",
    "inf = float('inf')\n",
    "\n",
    "n = int(input())\n",
    "ms = [int(input()) for _ in range(n)]\n",
    "\n",
    "s = -inf\n",
    "e = ms[0]\n",
    "\n",
    "ip = True\n",
    "for i in range(n):\n",
    "    ns = -inf\n",
    "    ne = inf\n",
    "    if i + 1 < n:\n",
    "        ne = ms[i + 1]\n",
    "    \n",
    "    ns = ms[i] * 2 - e\n",
    "    ne = min(ne, ms[i] * 2 - s)\n",
    "    \n",
    "    s, e = ns, ne\n",
    "    \n",
    "    if s > e:\n",
    "        ip = False\n",
    "        break\n",
    "    \n",
    "if not ip:\n",
    "    print(0)\n",
    "else:  \n",
    "    r = e - s + 1\n",
    "    r = max(0, r)\n",
    "\n",
    "    print(r)"
   ]
  },
  {
   "cell_type": "markdown",
   "metadata": {},
   "source": [
    "https://www.acmicpc.net/problem/17954 투튜브"
   ]
  },
  {
   "cell_type": "code",
   "execution_count": 19,
   "metadata": {},
   "outputs": [
    {
     "name": "stdout",
     "output_type": "stream",
     "text": [
      "4\n",
      "394\n",
      "8 1 2 7\n",
      "6 3 4 5\n"
     ]
    }
   ],
   "source": [
    "from collections import deque\n",
    "\n",
    "def get_sum(num):\n",
    "    return num * (num + 1) // 2\n",
    "\n",
    "n = int(input())\n",
    "\n",
    "nn = n * 2\n",
    "\n",
    "if n == 1:\n",
    "    a = deque([1])\n",
    "    b = deque([2])\n",
    "elif n == 2:\n",
    "    a = deque([1, 2])\n",
    "    b = deque([3, 4])\n",
    "elif n == 3:\n",
    "    a = deque([5, 1, 6])\n",
    "    b = deque([3, 2, 4])\n",
    "else:\n",
    "    a_mid_c = n - 2\n",
    "    \n",
    "    a = [nn] + list(range(1, a_mid_c + 1))  + [nn - 1]\n",
    "    b = [nn - 2] + list(range(a_mid_c + 1, nn - 2))\n",
    "    \n",
    "    a = deque(a)\n",
    "    b = deque(b)\n",
    "    \n",
    "r = 0\n",
    "tm = 1\n",
    "ra = a.copy()\n",
    "rb = b.copy()\n",
    "left = get_sum(nn)\n",
    "while a or b:\n",
    "    a_min = 100000\n",
    "    b_min = 100000\n",
    "    \n",
    "    if a:\n",
    "        a_min = min(a[0], a[-1])\n",
    "    if b:\n",
    "        b_min = min(b[0], b[-1])\n",
    "        \n",
    "    if a_min < b_min:\n",
    "        if a[0] == a_min:\n",
    "            a.popleft()\n",
    "        else:\n",
    "            a.pop()\n",
    "    else:\n",
    "        if b[0] == b_min:\n",
    "            b.popleft()\n",
    "        else:\n",
    "            b.pop() \n",
    "    \n",
    "    min_v = min(a_min, b_min)\n",
    "    left -= min_v\n",
    "    r += left * tm\n",
    "    tm += 1\n",
    "    \n",
    "print(r)\n",
    "print(*ra)\n",
    "print(*rb)"
   ]
  },
  {
   "cell_type": "markdown",
   "metadata": {},
   "source": [
    "https://www.acmicpc.net/problem/11877 홍수"
   ]
  },
  {
   "cell_type": "code",
   "execution_count": 25,
   "metadata": {},
   "outputs": [
    {
     "name": "stdout",
     "output_type": "stream",
     "text": [
      "8 17\n",
      "8 1 2 3 5 7 6 4\n"
     ]
    }
   ],
   "source": [
    "n, x = map(int, input().split())\n",
    "\n",
    "if n <= 2:\n",
    "    print(-1)\n",
    "else:\n",
    "    to_save = []\n",
    "    to_leave = []\n",
    "    for num in range(n - 2, 0, -1):\n",
    "        if x >= num:\n",
    "            x -= num\n",
    "            to_save.append(n - 1 - num)\n",
    "        else:\n",
    "            to_leave.append(n - 1 - num)\n",
    "    \n",
    "    to_leave.reverse()\n",
    "    \n",
    "    if x > 0:\n",
    "        print(-1)\n",
    "    else:  \n",
    "        r = [n] + to_save + [n - 1] + to_leave\n",
    "\n",
    "        print(*r)"
   ]
  },
  {
   "cell_type": "markdown",
   "metadata": {},
   "source": [
    "https://www.acmicpc.net/problem/10096 세 친구"
   ]
  },
  {
   "cell_type": "code",
   "execution_count": 85,
   "metadata": {},
   "outputs": [
    {
     "name": "stdout",
     "output_type": "stream",
     "text": [
      "5\n",
      "ABBBB\n",
      "BB\n"
     ]
    }
   ],
   "source": [
    "n = int(input())\n",
    "s = input()\n",
    "\n",
    "if n % 2 == 0:\n",
    "    print('NOT POSSIBLE')\n",
    "else:\n",
    "    cands = set()\n",
    "    \n",
    "    ll = n // 2\n",
    "        \n",
    "    start = n - ll\n",
    "    diff_c = 0\n",
    "    for i in range(start, n):\n",
    "        if s[i - ll - 1 + diff_c] != s[i]:\n",
    "            diff_c += 1\n",
    "            if diff_c >= 2:\n",
    "                break\n",
    "            if s[i - ll - 1 + diff_c] != s[i]:\n",
    "                diff_c += 1\n",
    "                break\n",
    "            \n",
    "    if diff_c <= 1:\n",
    "        cands.add(s[start:])\n",
    "        \n",
    "    diff_c = 0\n",
    "    for i in range(ll):\n",
    "        if s[i] != s[i + ll + diff_c]:\n",
    "            diff_c += 1\n",
    "            if diff_c >= 2:\n",
    "                break\n",
    "            if s[i] != s[i + ll + diff_c]:\n",
    "                diff_c += 1\n",
    "                break\n",
    "                \n",
    "    if diff_c <= 1:\n",
    "        cands.add(s[:ll])\n",
    "        \n",
    "    if len(cands) == 1:\n",
    "        print(cands.pop())\n",
    "    elif len(cands) >= 2:\n",
    "        print('NOT UNIQUE')\n",
    "    else:\n",
    "        print('NOT POSSIBLE')"
   ]
  },
  {
   "cell_type": "code",
   "execution_count": 187,
   "metadata": {},
   "outputs": [
    {
     "name": "stdout",
     "output_type": "stream",
     "text": [
      "3\n",
      "4 2\n",
      "1\n",
      "111\n",
      "100\n",
      "022\n"
     ]
    }
   ],
   "source": [
    "# 틀렸음\n",
    "from collections import deque\n",
    "\n",
    "n = int(input())\n",
    "c, e = map(int, input().split())\n",
    "\n",
    "if n == 1:\n",
    "    print(-1)\n",
    "else:\n",
    "    li = [[-1] * n for _ in range(n)]\n",
    "\n",
    "    cur_col_s = 0\n",
    "    cur_row_s = 0\n",
    "    x, y = 0, 0\n",
    "    for _ in range(c):\n",
    "        li[x][y] = 1\n",
    "\n",
    "        x += 1\n",
    "        y -= 1\n",
    "\n",
    "        if x >= n:\n",
    "            cur_row_s += 1\n",
    "            x, y = cur_row_s, n - 1\n",
    "        if y < 0:\n",
    "            cur_col_s += 1\n",
    "            x, y = 0, cur_col_s\n",
    "\n",
    "    for i in range(n):\n",
    "        for j in range(n):\n",
    "            if li[i][j] == 1:    \n",
    "                if i + 1 < n and li[i + 1][j] == -1:\n",
    "                    li[i + 1][j] = 0\n",
    "                if j + 1 < n and li[i][j + 1] == -1:\n",
    "                    li[i][j + 1] = 0\n",
    "\n",
    "    dx = [-1, 0]\n",
    "    dy = [0, -1]\n",
    "\n",
    "    vt = [[False] * n for _ in range(n)]\n",
    "    vt[n - 1][n - 1] = True\n",
    "\n",
    "    queue = deque()\n",
    "    queue.append((n - 1, n - 1))\n",
    "    while queue:\n",
    "        x, y = queue.popleft()\n",
    "        li[x][y] = 2\n",
    "        e -= 1\n",
    "\n",
    "        if e == 0:\n",
    "            break\n",
    "\n",
    "        for d in range(2):\n",
    "            nx = x + dx[d]\n",
    "            ny = y + dy[d]\n",
    "\n",
    "            if nx < 0 or nx >= n and ny < 0 or ny >= n:\n",
    "                continue\n",
    "            if li[nx][ny] != -1:\n",
    "                continue\n",
    "            if not vt[nx][ny]:\n",
    "                vt[nx][ny] = True\n",
    "                queue.append((nx, ny))\n",
    "\n",
    "    if e >= 1:\n",
    "        print(-1)\n",
    "    else:\n",
    "        print(1)\n",
    "        for v in li:\n",
    "            r = ''.join(map(str, v)).replace('-1', '0')\n",
    "\n",
    "            print(r)"
   ]
  },
  {
   "cell_type": "markdown",
   "metadata": {},
   "source": [
    "https://www.acmicpc.net/problem/2694 합이 같은 구간"
   ]
  },
  {
   "cell_type": "code",
   "execution_count": 8,
   "metadata": {},
   "outputs": [
    {
     "name": "stdout",
     "output_type": "stream",
     "text": [
      "20\n",
      "1 1 2 1 1 2 1 1 2 1\n",
      "1 2 1 1 2 1 1 2 1 1\n",
      "2\n"
     ]
    }
   ],
   "source": [
    "import sys\n",
    "input = lambda: sys.stdin.readline().rstrip()\n",
    "\n",
    "inf = float('inf')\n",
    "\n",
    "for _ in range(int(input())):\n",
    "    n = int(input())\n",
    "\n",
    "    input_c = n // 10\n",
    "    if n % 10:\n",
    "        input_c += 1\n",
    "\n",
    "    li = []\n",
    "    for _ in range(input_c):\n",
    "        li.extend(map(int, input().split()))\n",
    "\n",
    "    sli = [0] * n\n",
    "    cumul = 0\n",
    "    for i in range(n):\n",
    "        cumul += li[i]\n",
    "        sli[i] = cumul\n",
    "\n",
    "    st = set(sli)\n",
    "    r = inf\n",
    "    for i in range(n):\n",
    "        cri = sli[i]\n",
    "\n",
    "        if sli[n - 1] % cri == 0:\n",
    "            ip = True\n",
    "            for v in range(cri + cri, sli[n - 1] + 1, cri):\n",
    "                if v not in st:\n",
    "                    ip = False\n",
    "                    break\n",
    "\n",
    "            if ip:\n",
    "                r = cri\n",
    "                break\n",
    "\n",
    "    print(r)"
   ]
  },
  {
   "cell_type": "code",
   "execution_count": 16,
   "metadata": {},
   "outputs": [
    {
     "name": "stdout",
     "output_type": "stream",
     "text": [
      "4\n",
      "1 2 3 4\n",
      "4\n",
      "4 1\n",
      "4 1\n",
      "4 1\n",
      "4 1\n",
      "1 2 3 4\n"
     ]
    }
   ],
   "source": [
    "from collections import deque\n",
    "import io, os, sys\n",
    "# input = io.BytesIO(os.read(0,os.fstat(0).st_size)).readline\n",
    "\n",
    "n = int(input())\n",
    "li = list(map(int, input().split()))\n",
    "k = int(input())\n",
    "\n",
    "stack = []\n",
    "for _ in range(k):\n",
    "    inc, dec = map(int, input().split())\n",
    "    inc -= 1\n",
    "    dec -= 1\n",
    "    \n",
    "    while stack and stack[-1][0] <= inc:\n",
    "        stack.pop()\n",
    "    stack.append([inc, 0])\n",
    "    \n",
    "    while stack and stack[-1][0] <= dec:\n",
    "        stack.pop()\n",
    "    stack.append([dec, 1])\n",
    "    \n",
    "stack.append([-1, -1])\n",
    "    \n",
    "result = [0] * n\n",
    "for i in range(n - 1, stack[0][0], -1):\n",
    "    result[i] = li.pop()\n",
    "    \n",
    "deq = deque(sorted(li))\n",
    "end = stack[0][0]\n",
    "for si in range(1, len(stack)):\n",
    "    start = stack[si][0] + 1\n",
    "    for ri in range(end, start - 1, -1):\n",
    "        if stack[si - 1][1] == 0:\n",
    "            result[ri] = deq.pop()\n",
    "        else:\n",
    "            result[ri] = deq.popleft()\n",
    "    \n",
    "    end = start - 1\n",
    "    \n",
    "print(*result)"
   ]
  },
  {
   "cell_type": "code",
   "execution_count": 18,
   "metadata": {},
   "outputs": [
    {
     "name": "stdout",
     "output_type": "stream",
     "text": [
      "4\n",
      "4 1 2 3\n",
      "1\n",
      "3 2\n",
      "2 1 3 3\n"
     ]
    }
   ],
   "source": [
    "import io, os, sys\n",
    "input = io.BytesIO(os.read(0,os.fstat(0).st_size)).readline\n",
    "\n",
    "n = int(input())\n",
    "li = list(map(int, input().split()))\n",
    "k = int(input())\n",
    "\n",
    "stack = []\n",
    "for _ in range(k):\n",
    "    inc, dec = map(int, input().split())\n",
    "    inc -= 1\n",
    "    dec -= 1\n",
    "    \n",
    "    while stack and stack[-1][0] <= inc:\n",
    "        stack.pop()\n",
    "    stack.append([inc, 0])\n",
    "    \n",
    "    while stack and stack[-1][0] <= dec:\n",
    "        stack.pop()\n",
    "    stack.append([dec, 1])\n",
    "    \n",
    "stack.append([-1, -1])\n",
    "    \n",
    "result = [0] * n\n",
    "for i in range(n - 1, stack[0][0], -1):\n",
    "    result[i] = li.pop()\n",
    "    \n",
    "li.sort()\n",
    "cur_li_start = 0\n",
    "cur_li_end = len(li) - 1\n",
    "\n",
    "end = stack[0][0]\n",
    "for si in range(1, len(stack)):\n",
    "    start = stack[si][0] + 1\n",
    "    for ri in range(end, start - 1, -1):\n",
    "        if stack[si - 1][1] == 0:\n",
    "            result[ri] = li[cur_li_end]\n",
    "            cur_li_end -= 1\n",
    "        else:\n",
    "            result[ri] = li[cur_li_start]\n",
    "            cur_li_start += 1\n",
    "    \n",
    "    end = start - 1\n",
    "    \n",
    "print(*result)"
   ]
  },
  {
   "cell_type": "markdown",
   "metadata": {},
   "source": [
    "https://www.acmicpc.net/problem/7982 순열 그래프의 연결성 판별"
   ]
  },
  {
   "cell_type": "code",
   "execution_count": 33,
   "metadata": {},
   "outputs": [
    {
     "name": "stdout",
     "output_type": "stream",
     "text": [
      "4\n",
      "2 3 1 4\n",
      "2\n",
      "3 1 2 3\n",
      "1 4\n"
     ]
    }
   ],
   "source": [
    "from collections import defaultdict as dd\n",
    "import sys\n",
    "input = lambda: sys.stdin.readline().rstrip()\n",
    "\n",
    "## PYRIVAL BOOTSTRAP\n",
    "# https://github.com/cheran-senthil/PyRival/blob/master/pyrival/misc/bootstrap.py\n",
    "# This decorator allows for recursion without actually doing recursion\n",
    "## @bootstrap, yield when getting and returning value in recursive functions, end of functions\n",
    "from types import GeneratorType\n",
    "\n",
    "def bootstrap(f, stack=[]):\n",
    "    def wrappedfunc(*args, **kwargs):\n",
    "        if stack:\n",
    "            return f(*args, **kwargs)\n",
    "        else:\n",
    "            to = f(*args, **kwargs)\n",
    "            while True:\n",
    "                if type(to) is GeneratorType:\n",
    "                    stack.append(to)\n",
    "                    to = next(to)\n",
    "                else:\n",
    "                    stack.pop()\n",
    "                    if not stack:\n",
    "                        break\n",
    "                    to = stack[-1].send(to)\n",
    "            return to\n",
    "    return wrappedfunc\n",
    "\n",
    "@bootstrap\n",
    "def find(v):\n",
    "    if v != pa[v]:\n",
    "        pa[v] = yield find(pa[v])\n",
    "    \n",
    "    yield pa[v]\n",
    "\n",
    "def union(a, b):\n",
    "    if rank[a] < rank[b]:\n",
    "        a, b = b, a\n",
    "        \n",
    "    pa[b] = a\n",
    "    if rank[a] == rank[b]:\n",
    "        rank[a] += 1\n",
    "        \n",
    "n = int(input())\n",
    "li = list(map(int, input().split()))\n",
    "    \n",
    "pa = list(range(n))\n",
    "rank = [0] * n\n",
    "\n",
    "stack = []\n",
    "for i in range(n):\n",
    "    v = li[i]\n",
    "    \n",
    "    if not stack:\n",
    "        stack.append([v, i])\n",
    "    else:\n",
    "        max_temp, max_temp_i = stack[-1]\n",
    "        while stack and stack[-1][0] > v:\n",
    "            _, fi = stack.pop()\n",
    "\n",
    "            a = i\n",
    "            b = fi\n",
    "\n",
    "            ra = find(i)\n",
    "            rb = find(fi)\n",
    "            \n",
    "            if ra != rb:\n",
    "                union(ra, rb)\n",
    "\n",
    "        if stack and stack[-1][0] == max_temp:\n",
    "            stack.append([v, i])\n",
    "        else:\n",
    "            stack.append([max_temp, max_temp_i])\n",
    "        \n",
    "d = dd(list)\n",
    "for i in range(n):\n",
    "    find(i)\n",
    "    \n",
    "    d[pa[i]].append(i + 1)\n",
    "    \n",
    "result = sorted(d.values(), key=lambda x: x[0])\n",
    "\n",
    "print(len(result))\n",
    "for v in result:\n",
    "    print(len(v), *v)"
   ]
  },
  {
   "cell_type": "markdown",
   "metadata": {},
   "source": [
    "https://www.acmicpc.net/problem/10258 스위치 배열"
   ]
  },
  {
   "cell_type": "code",
   "execution_count": 60,
   "metadata": {},
   "outputs": [
    {
     "name": "stdout",
     "output_type": "stream",
     "text": [
      "3\n",
      "1\n",
      "1\n",
      "11\n",
      "2\n",
      "111\n",
      "5\n"
     ]
    }
   ],
   "source": [
    "from collections import deque\n",
    "import sys\n",
    "input = lambda: sys.stdin.readline().rstrip()\n",
    "\n",
    "def to_clear(deq):\n",
    "    while deq and deq[0] == 0:\n",
    "        deq.popleft()\n",
    "        \n",
    "    if not deq:\n",
    "        return 0\n",
    "    elif len(deq) == 1:\n",
    "        return 1\n",
    "    \n",
    "    n = len(deq)\n",
    "    c = 0\n",
    "    \n",
    "    second_i = -1\n",
    "    for i in range(1, n):\n",
    "        if deq[i] == 1:\n",
    "            second_i = i\n",
    "            break\n",
    "            \n",
    "    if second_i == -1:\n",
    "        c += 1\n",
    "        second_i = n - 1\n",
    "    \n",
    "    if second_i > 1:\n",
    "        n_deq = deque()\n",
    "        for i in range(second_i + 1, n):\n",
    "            n_deq.append(deq[i])\n",
    "        c += to_clear(n_deq)\n",
    "        \n",
    "        while second_i > 1:\n",
    "            c += 1\n",
    "            second_i -= 1\n",
    "            c += one_to_zeros(n - second_i - 1)\n",
    "            \n",
    "        deq[1] = 1\n",
    "        for i in range(2, n):\n",
    "            deq[i] = 0\n",
    "   \n",
    "    n_deq = deque()\n",
    "    for i in range(2, len(deq)):\n",
    "        n_deq.append(deq[i])\n",
    "    c += to_clear(n_deq)\n",
    "    c += 1\n",
    "    c += one_to_zeros(len(deq) - 1)\n",
    "\n",
    "    return c\n",
    "        \n",
    "def one_to_zeros(length):\n",
    "    if dp[length] != 0:\n",
    "        return dp[length]\n",
    "\n",
    "    temp = [1] + [0] * (length - 1)\n",
    "    dp[length] = to_clear(deque(temp))\n",
    "    \n",
    "    return dp[length]\n",
    "\n",
    "dp = [0] * 32 # dp[4] = 1000 -> 0000 케이스\n",
    "dp[1] = 1\n",
    "dp[2] = 3\n",
    "for _ in range(int(input())):\n",
    "    deq = deque(map(int, input()))\n",
    "\n",
    "    r = to_clear(deq)\n",
    "\n",
    "    print(r)"
   ]
  },
  {
   "cell_type": "code",
   "execution_count": null,
   "metadata": {},
   "outputs": [],
   "source": [
    "101\n",
    "7"
   ]
  },
  {
   "cell_type": "code",
   "execution_count": null,
   "metadata": {},
   "outputs": [],
   "source": [
    "111\n",
    "5"
   ]
  }
 ],
 "metadata": {
  "kernelspec": {
   "display_name": "Python 3",
   "language": "python",
   "name": "python3"
  },
  "language_info": {
   "codemirror_mode": {
    "name": "ipython",
    "version": 3
   },
   "file_extension": ".py",
   "mimetype": "text/x-python",
   "name": "python",
   "nbconvert_exporter": "python",
   "pygments_lexer": "ipython3",
   "version": "3.7.4"
  }
 },
 "nbformat": 4,
 "nbformat_minor": 2
}
