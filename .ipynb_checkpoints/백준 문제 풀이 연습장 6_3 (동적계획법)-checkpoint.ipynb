{
 "cells": [
  {
   "cell_type": "markdown",
   "metadata": {},
   "source": [
    "### 우주선 만들기 15912"
   ]
  },
  {
   "cell_type": "raw",
   "metadata": {},
   "source": [
    "4 3\n",
    "3 4\n",
    "16\n",
    "\n",
    "\n",
    "1 16\n",
    "16 1\n",
    "32\n",
    "\n",
    "\n",
    "8 1 8\n",
    "1 8 8\n",
    "64\n",
    "\n",
    "1 2 1 2 1 \n",
    "2 1 2 1 2\n",
    "4"
   ]
  },
  {
   "cell_type": "markdown",
   "metadata": {},
   "source": [
    "### 피보나치 수의 개수 6571"
   ]
  },
  {
   "cell_type": "code",
   "execution_count": 106,
   "metadata": {},
   "outputs": [
    {
     "name": "stdout",
     "output_type": "stream",
     "text": [
      "10 100\n",
      "5\n",
      "0 0\n"
     ]
    }
   ],
   "source": [
    "from bisect import bisect_left, bisect_right\n",
    "\n",
    "dp = [1, 2]\n",
    "value = 2\n",
    "while value <= 1e100:\n",
    "    value = dp[-2] + dp[-1]\n",
    "    dp.append(value)\n",
    "\n",
    "while True:\n",
    "    a, b = map(int, input().split())\n",
    "    if a == b == 0:\n",
    "        break\n",
    "    print(bisect_right(dp, b) - bisect_left(dp, a))"
   ]
  },
  {
   "cell_type": "markdown",
   "metadata": {},
   "source": [
    "### 피보나치 치킨 13270"
   ]
  },
  {
   "cell_type": "code",
   "execution_count": 110,
   "metadata": {},
   "outputs": [
    {
     "name": "stdout",
     "output_type": "stream",
     "text": [
      "6\n",
      "3\n"
     ]
    }
   ],
   "source": [
    "# 일단 포기\n",
    "dp = [1, 2]\n",
    "value = 2\n",
    "while value <= 7000:\n",
    "    value = dp[-2] + dp[-1]\n",
    "    dp.append(value)\n",
    "    \n",
    "n = int(input())\n",
    "for i in range(len(dp)):\n",
    "    if dp[i] > n:\n",
    "        i -= 1\n",
    "        break\n",
    "        \n",
    "print(i)"
   ]
  },
  {
   "cell_type": "markdown",
   "metadata": {},
   "source": [
    "### 카드게임 10835"
   ]
  },
  {
   "cell_type": "code",
   "execution_count": 111,
   "metadata": {},
   "outputs": [
    {
     "name": "stdout",
     "output_type": "stream",
     "text": [
      "4\n",
      "4 5 2 1\n",
      "4 9 1 1\n"
     ]
    }
   ],
   "source": [
    "n = int(input())\n",
    "lefts = list(map(int, input().split()))\n",
    "rights = list(map(int, input().split()))"
   ]
  },
  {
   "cell_type": "code",
   "execution_count": null,
   "metadata": {},
   "outputs": [],
   "source": [
    "# 일단 포기\n",
    "current_cumul = set()\n",
    "\n",
    "for left_index in range(n):\n",
    "    current = set()\n",
    "    for right_index in range(n):\n",
    "        if lefts[left_index] > rights[right_index]:\n",
    "            current.add()"
   ]
  },
  {
   "cell_type": "markdown",
   "metadata": {},
   "source": [
    "### 계단 오르기 2579 (다시 풀음)"
   ]
  },
  {
   "cell_type": "code",
   "execution_count": 155,
   "metadata": {},
   "outputs": [
    {
     "name": "stdout",
     "output_type": "stream",
     "text": [
      "6\n",
      "10\n",
      "3\n",
      "2\n",
      "1\n",
      "100\n",
      "100\n",
      "213\n"
     ]
    }
   ],
   "source": [
    "# 두 칸 이상을 뛰어넘는 경우를 고려하지 못하는 코드라는 것을 디버깅하는 것에 오래 걸렸음\n",
    "n = int(input())\n",
    "li = [int(input()) for _ in range(n)]\n",
    "li.reverse()\n",
    "\n",
    "dp = [[0, 0, 0] for _ in range(n + 1)] # [이전과 같이 방문, 이전 방문 안하고 방문, 방문 안함]\n",
    "dp[0] = [-float('inf'), -float('inf'), 0]\n",
    "dp[1] = [-float('inf'), li[0], -float('inf')]\n",
    "for i in range(2, n + 1):\n",
    "    dp[i][0] = li[i - 2] + li[i - 1] + dp[i - 2][2]\n",
    "    dp[i][1] = li[i - 1] + dp[i - 1][2]\n",
    "    dp[i][2] = max(dp[i - 1][0], dp[i - 1][1])\n",
    "    \n",
    "print(max(dp[-1]))"
   ]
  },
  {
   "cell_type": "markdown",
   "metadata": {},
   "source": [
    "### 우유 도시 14722"
   ]
  },
  {
   "cell_type": "code",
   "execution_count": 37,
   "metadata": {},
   "outputs": [
    {
     "name": "stdout",
     "output_type": "stream",
     "text": [
      "4\n",
      "1 2 0 1\n",
      "0 0 1 0\n",
      "0 0 2 0\n",
      "0 0 0 1\n",
      "5\n"
     ]
    }
   ],
   "source": [
    "import sys\n",
    "# input = sys.stdin.readline\n",
    "\n",
    "n = int(input().rstrip())\n",
    "li = [list(map(int, input().rstrip().split())) for _ in range(n)]\n",
    "\n",
    "dp = [[[-float('inf')] * 3 for _ in range(n)] for _ in range(n)] # [0, 1, 2]\n",
    "if li[0][0] == 0:\n",
    "    dp[0][0] = [1, -float('inf'), -float('inf')]\n",
    "\n",
    "for i in range(n):\n",
    "    for j in range(n):\n",
    "        for k in range(3):\n",
    "            if i != 0:       \n",
    "                if li[i][j] != k:\n",
    "                    dp[i][j][k] = max(dp[i][j][k], dp[i - 1][j][k])\n",
    "                else:\n",
    "                    dp[i][j][k] = max(dp[i][j][k], dp[i - 1][j][k], dp[i - 1][j][(k - 1) % 3] + 1)\n",
    "                    \n",
    "                if li[i][j] == 0:\n",
    "                    dp[i][j][0] = max(dp[i][j][0], 1)\n",
    "            if j != 0:\n",
    "                if li[i][j] != k:\n",
    "                    dp[i][j][k] = max(dp[i][j][k], dp[i][j - 1][k])\n",
    "                else:\n",
    "                    dp[i][j][k] = max(dp[i][j][k], dp[i][j - 1][k], dp[i][j - 1][(k - 1) % 3] + 1)\n",
    "                    \n",
    "                if li[i][j] == 0:\n",
    "                    dp[i][j][0] = max(dp[i][j][0], 1)\n",
    "if max(dp[-1][-1]) == -float('inf'):\n",
    "    print(0)\n",
    "else:\n",
    "    print(max(dp[-1][-1]))"
   ]
  },
  {
   "cell_type": "markdown",
   "metadata": {},
   "source": [
    "### 개업 13910"
   ]
  },
  {
   "cell_type": "code",
   "execution_count": 53,
   "metadata": {},
   "outputs": [
    {
     "name": "stdout",
     "output_type": "stream",
     "text": [
      "6 2\n",
      "1 3\n",
      "2\n"
     ]
    }
   ],
   "source": [
    "n, m = map(int, input().split())\n",
    "li = list(map(int, input().split()))\n",
    "\n",
    "st = set(li)\n",
    "for i in range(m):\n",
    "    for j in range(i + 1, m):\n",
    "        st.add(li[i] + li[j])\n",
    "\n",
    "dp = [float('inf')] * (n + 1)\n",
    "dp[0] = 0\n",
    "\n",
    "for value in st:\n",
    "    for i in range(len(dp)):\n",
    "        if dp[i] != float('inf') and i + value <= n:\n",
    "            dp[i + value] = min(dp[i] + 1, dp[i + value])\n",
    "\n",
    "if dp[-1] == float('inf'):\n",
    "    print(-1)\n",
    "else:\n",
    "    print(dp[-1])"
   ]
  },
  {
   "cell_type": "code",
   "execution_count": 60,
   "metadata": {},
   "outputs": [
    {
     "name": "stdout",
     "output_type": "stream",
     "text": [
      "6 2\n",
      "1 3\n",
      "2\n"
     ]
    }
   ],
   "source": [
    "n, m = map(int, input().split())\n",
    "li = list(map(int, input().split()))\n",
    "\n",
    "st = set()\n",
    "for i in range(m):\n",
    "    st.add(li[i])\n",
    "    for j in range(i + 1, m):\n",
    "        st.add(li[i] + li[j])\n",
    "\n",
    "dp = [-1] * (n + 1)\n",
    "dp[0] = 0\n",
    "\n",
    "for value in st:\n",
    "    for i in range(n - value + 1):\n",
    "        if dp[i] != -1:\n",
    "            v = i + value\n",
    "            if dp[v] == -1 or dp[v] > dp[i] + 1:\n",
    "                dp[v] = dp[i] + 1\n",
    "\n",
    "print(dp[-1])"
   ]
  },
  {
   "cell_type": "markdown",
   "metadata": {},
   "source": [
    "### BOJ 거리 12026"
   ]
  },
  {
   "cell_type": "code",
   "execution_count": 75,
   "metadata": {},
   "outputs": [
    {
     "name": "stdout",
     "output_type": "stream",
     "text": [
      "15\n",
      "BJBOJOJOOJOBOOO\n",
      "52\n"
     ]
    }
   ],
   "source": [
    "# 맞았음\n",
    "n = int(input())\n",
    "li = list(input())\n",
    "\n",
    "d = {'B': 0, 'O': 1, 'J': 2}\n",
    "li = [d[v] for v in li]\n",
    "\n",
    "dp = [float('inf')] * n\n",
    "dp[0] = 0\n",
    "\n",
    "for i in range(1, n):\n",
    "    for j in range(i):\n",
    "        if li[i] == (li[j] + 1) % 3:\n",
    "            dp[i] = min(dp[i], dp[j] + (i - j) ** 2)\n",
    "\n",
    "if dp[-1] == float('inf'):\n",
    "    print(-1)\n",
    "else:\n",
    "    print(dp[-1])"
   ]
  },
  {
   "cell_type": "code",
   "execution_count": null,
   "metadata": {},
   "outputs": [],
   "source": [
    "# 맞았음, float('inf')로 초기화했을 때랑 동작 시간이 똑같이 걸렸음\n",
    "n = int(input())\n",
    "li = list(input())\n",
    "\n",
    "d = {'B': 0, 'O': 1, 'J': 2}\n",
    "li = [d[v] for v in li]\n",
    "\n",
    "dp = [-1] * n\n",
    "dp[0] = 0\n",
    "\n",
    "for i in range(1, n):\n",
    "    for j in range(i):\n",
    "        if li[i] == (li[j] + 1) % 3:\n",
    "            if dp[j] != -1:\n",
    "                v = dp[j] + (i - j) ** 2\n",
    "                if dp[i] == -1 or v < dp[i]:\n",
    "                    dp[i] = v\n",
    "print(dp[-1])"
   ]
  },
  {
   "cell_type": "markdown",
   "metadata": {},
   "source": [
    "### 민균이의 계략 11568"
   ]
  },
  {
   "cell_type": "code",
   "execution_count": 86,
   "metadata": {},
   "outputs": [
    {
     "name": "stdout",
     "output_type": "stream",
     "text": [
      "8\n",
      "5 4 3 2 1 6 7 8\n",
      "4\n"
     ]
    }
   ],
   "source": [
    "n = int(input())\n",
    "li = list(map(int, input().split()))\n",
    "\n",
    "dp = [(li[0], 1)]\n",
    "for value in li[1:]:\n",
    "    cands = [v[1] for v in dp if v[0] < value]\n",
    "    if not cands:\n",
    "        dp.append((value, 1))\n",
    "    else:\n",
    "        dp.append((value, max(cands) + 1))\n",
    "        \n",
    "print(max([v[1] for v in dp]))"
   ]
  },
  {
   "cell_type": "markdown",
   "metadata": {},
   "source": [
    "### 간식 파티 20162"
   ]
  },
  {
   "cell_type": "code",
   "execution_count": 119,
   "metadata": {},
   "outputs": [
    {
     "name": "stdout",
     "output_type": "stream",
     "text": [
      "3\n",
      "10\n",
      "5\n",
      "10\n",
      "10\n"
     ]
    }
   ],
   "source": [
    "# 틀렸음\n",
    "n = int(input())\n",
    "li = [int(input()) for _ in range(n)]\n",
    "dp = [0] * n\n",
    "dp[0] = li[0]\n",
    "for i in range(1, n):\n",
    "    for j in range(i):\n",
    "        if li[j] < li[i]:\n",
    "            dp[i] = max(dp[i], dp[j] + li[i])\n",
    "            \n",
    "print(max(dp))"
   ]
  },
  {
   "cell_type": "code",
   "execution_count": 120,
   "metadata": {},
   "outputs": [
    {
     "name": "stdout",
     "output_type": "stream",
     "text": [
      "3\n",
      "10\n",
      "5\n",
      "10\n",
      "15\n"
     ]
    }
   ],
   "source": [
    "# 맞았음\n",
    "n = int(input())\n",
    "li = [int(input()) for _ in range(n)]\n",
    "dp = li[:]\n",
    "for i in range(1, n):\n",
    "    for j in range(i):\n",
    "        if li[j] < li[i]:\n",
    "            dp[i] = max(dp[i], dp[j] + li[i])\n",
    "            \n",
    "print(max(dp))"
   ]
  },
  {
   "cell_type": "markdown",
   "metadata": {},
   "source": [
    "### Maximum Subarray 10211"
   ]
  },
  {
   "cell_type": "code",
   "execution_count": 122,
   "metadata": {},
   "outputs": [
    {
     "name": "stdout",
     "output_type": "stream",
     "text": [
      "5\n",
      "2 1 -2 3 -5\n",
      "4\n"
     ]
    }
   ],
   "source": [
    "for _ in range(int(input())):\n",
    "    n = int(input())\n",
    "    li = list(map(int, input().split()))\n",
    "    dp = [0] * n\n",
    "    dp[0] = li[0]\n",
    "    for i in range(1, n):\n",
    "        if dp[i - 1] >= 0:\n",
    "            dp[i] = dp[i - 1] + li[i]\n",
    "        else:\n",
    "            dp[i] = li[i]\n",
    "\n",
    "    print(max(dp))"
   ]
  },
  {
   "cell_type": "markdown",
   "metadata": {},
   "source": [
    "### 주지수 15724"
   ]
  },
  {
   "cell_type": "code",
   "execution_count": 139,
   "metadata": {},
   "outputs": [
    {
     "name": "stdout",
     "output_type": "stream",
     "text": [
      "4 4\n",
      "1 1 1 1\n",
      "1 1 1 1\n",
      "1 1 1 1\n",
      "1 1 1 1\n",
      "3\n",
      "1 1 3 2\n",
      "6\n",
      "1 1 1 4\n",
      "4\n",
      "1 1 4 4\n",
      "16\n"
     ]
    }
   ],
   "source": [
    "from copy import deepcopy\n",
    "import sys\n",
    "# input = sys.stdin.readline\n",
    "\n",
    "n, m = map(int, input().rstrip().split())\n",
    "li = [list(map(int, input().rstrip().split())) for _ in range(n)]\n",
    "\n",
    "dp = deepcopy(li)\n",
    "for i in range(n):\n",
    "    for j in range(m):\n",
    "        if i == 0 and j == 0:\n",
    "            continue\n",
    "        \n",
    "        if i == 0:\n",
    "            dp[i][j] += dp[i][j - 1]\n",
    "        elif j == 0:\n",
    "            dp[i][j] += dp[i - 1][j]\n",
    "        else:\n",
    "            dp[i][j] += dp[i][j - 1] + dp[i - 1][j] - dp[i - 1][j - 1]\n",
    "        \n",
    "k = int(input().rstrip())\n",
    "for _ in range(k):\n",
    "    x1, y1, x2, y2 = map(lambda x: int(x) - 1, input().rstrip().split())\n",
    "\n",
    "    if x1 == 0 and y1 == 0:\n",
    "        print(dp[x2][y2])\n",
    "    elif x1 == 0:\n",
    "        print(dp[x2][y2] - dp[x2][y1 - 1])\n",
    "    elif y1 == 0:\n",
    "        print(dp[x2][y2] - dp[x1 - 1][y2])\n",
    "    else:\n",
    "        print(dp[x2][y2] - dp[x1 - 1][y2] - dp[x2][y1 - 1] + dp[x1 - 1][y1 - 1])"
   ]
  },
  {
   "cell_type": "markdown",
   "metadata": {},
   "source": [
    "### 곡예 비행 21923"
   ]
  },
  {
   "cell_type": "code",
   "execution_count": 13,
   "metadata": {},
   "outputs": [
    {
     "name": "stdout",
     "output_type": "stream",
     "text": [
      "1 2\n",
      "3 1\n",
      "7\n"
     ]
    }
   ],
   "source": [
    "n, m = map(int, input().split())\n",
    "li = [list(map(int, input().split())) for _ in range(n)]\n",
    "\n",
    "dp = [[[-float('inf')] * 2 for _ in range(m)] for _ in range(n)] # dp[x][y] = [상승시, 하강시]\n",
    "\n",
    "for j in range(m):\n",
    "    # 상승시\n",
    "    for i in range(n - 1, -1, -1):\n",
    "        if j == 0 and i == n - 1:\n",
    "            dp[i][j][0] = li[i][j]\n",
    "        elif j == 0:\n",
    "            dp[i][j][0] = dp[i + 1][j][0] + li[i][j]\n",
    "        elif i == n - 1:\n",
    "            dp[i][j][0] = dp[i][j - 1][0] + li[i][j]\n",
    "        else:\n",
    "            dp[i][j][0] = max(dp[i][j - 1][0], dp[i + 1][j][0]) + li[i][j]\n",
    "    # 하강시\n",
    "    for i in range(n):\n",
    "        if i == 0 and j == 0:\n",
    "            dp[i][j][1] = dp[i][j][0] + li[i][j]\n",
    "        elif i == 0:\n",
    "            dp[i][j][1] = max(dp[i][j][0], dp[i][j - 1][1]) + li[i][j]\n",
    "        elif j == 0:\n",
    "            dp[i][j][1] = max(dp[i][j][0], dp[i - 1][j][1]) + li[i][j]\n",
    "        else:\n",
    "            dp[i][j][1] = max(dp[i][j][0], dp[i - 1][j][1], dp[i][j - 1][1]) + li[i][j]\n",
    "            \n",
    "print(dp[-1][-1][1])"
   ]
  },
  {
   "cell_type": "markdown",
   "metadata": {},
   "source": [
    "### 진우의 달 여행 (Large) 17485"
   ]
  },
  {
   "cell_type": "code",
   "execution_count": 18,
   "metadata": {},
   "outputs": [
    {
     "name": "stdout",
     "output_type": "stream",
     "text": [
      "6 4\n",
      "5 8 5 1\n",
      "3 5 8 4\n",
      "9 77 65 5\n",
      "2 1 5 2\n",
      "5 98 1 5\n",
      "4 95 67 58\n"
     ]
    }
   ],
   "source": [
    "n, m = map(int, input().split())\n",
    "li = [list(map(int, input().split())) for _ in range(n)]"
   ]
  },
  {
   "cell_type": "code",
   "execution_count": 35,
   "metadata": {},
   "outputs": [
    {
     "name": "stdout",
     "output_type": "stream",
     "text": [
      "2 2\n",
      "1 1\n",
      "1 1\n",
      "2\n"
     ]
    }
   ],
   "source": [
    "n, m = map(int, input().split())\n",
    "li = [list(map(int, input().split())) for _ in range(n)]\n",
    "inf = 100001\n",
    "\n",
    "dp = [[[inf] * 3 for _ in range(m)] for _ in range(n)] # dp[x][y] = [이전에 왼쪽 대각선, 이전에 바로 위, 이전에 오른쪽 대각선]\n",
    "for j in range(m):\n",
    "    dp[0][j] = [li[0][j]] * 3\n",
    "    \n",
    "dp[0][0][0] = dp[0][m - 1][2] = inf\n",
    "\n",
    "for i in range(1, n):\n",
    "    for j in range(m):\n",
    "        if j - 1 >= 0:\n",
    "            dp[i][j][0] = min(dp[i - 1][j - 1][1], dp[i - 1][j - 1][2]) + li[i][j]\n",
    "        dp[i][j][1] = min(dp[i - 1][j][0], dp[i - 1][j][2]) + li[i][j]\n",
    "        if j + 1 < m:\n",
    "            dp[i][j][2] = min(dp[i - 1][j + 1][0], dp[i - 1][j + 1][1]) + li[i][j]\n",
    "            \n",
    "print(min(sum(dp[-1], [])))"
   ]
  },
  {
   "cell_type": "markdown",
   "metadata": {},
   "source": [
    "### 수도배관공사 2073"
   ]
  },
  {
   "cell_type": "code",
   "execution_count": null,
   "metadata": {},
   "outputs": [],
   "source": [
    "from collections import defaultdict\n",
    "\n",
    "d, p = map(int, input().split())\n",
    "dp = defaultdict(int)\n",
    "\n",
    "for _ in range(p):\n",
    "    l, c = map(int, input().split())\n",
    "    lengths = sorted(dp.keys(), reverse=True)\n",
    "    for length in lengths:\n",
    "        if length + l <= d:\n",
    "            dp[length + l] = max(dp[length + l], min(dp[length], c))    \n",
    "    dp[l] = max(dp[l], c)\n",
    "    \n",
    "print(dp[d])"
   ]
  },
  {
   "cell_type": "code",
   "execution_count": 45,
   "metadata": {},
   "outputs": [
    {
     "name": "stdout",
     "output_type": "stream",
     "text": [
      "7 6\n",
      "4 5\n",
      "3 6\n",
      "2 7\n",
      "1 4\n",
      "6 7\n",
      "1 5\n",
      "5\n"
     ]
    }
   ],
   "source": [
    "d, p = map(int, input().split())\n",
    "dp = [-1] * (d + 1)\n",
    "st = set()\n",
    "\n",
    "for _ in range(p):\n",
    "    l, c = map(int, input().split())\n",
    "    lengths = sorted(st, reverse=True)\n",
    "    for length in lengths:\n",
    "        if length + l <= d:\n",
    "            if dp[length + l] == -1:\n",
    "                st.add(length + l)\n",
    "            dp[length + l] = max(dp[length + l], min(dp[length], c))    \n",
    "    dp[l] = max(dp[l], c)\n",
    "    st.add(l)\n",
    "    \n",
    "print(dp[d])"
   ]
  },
  {
   "cell_type": "code",
   "execution_count": 46,
   "metadata": {},
   "outputs": [
    {
     "name": "stdout",
     "output_type": "stream",
     "text": [
      "7 6\n",
      "4 5\n",
      "3 6\n",
      "2 7\n",
      "1 4\n",
      "6 7\n",
      "1 5\n",
      "5\n"
     ]
    }
   ],
   "source": [
    "d, p = map(int, input().split())\n",
    "dp = [0] * (d + 1)\n",
    "\n",
    "for _ in range(p):\n",
    "    l, c = map(int, input().split())\n",
    "    for i in range(d - l, 0, -1):\n",
    "        dp[i + l] = max(dp[i + l], min(dp[i], c))    \n",
    "    dp[l] = max(dp[l], c)\n",
    "    \n",
    "print(dp[d])"
   ]
  },
  {
   "cell_type": "code",
   "execution_count": 57,
   "metadata": {},
   "outputs": [
    {
     "name": "stdout",
     "output_type": "stream",
     "text": [
      "5\n"
     ]
    }
   ],
   "source": [
    "import sys\n",
    "input = sys.stdin.readline\n",
    "\n",
    "d, p = map(int, input().rstrip().split())\n",
    "li = [list(map(int, input().rstrip().split())) for _ in range(p)]\n",
    "li.sort(key=lambda x: -x[1])\n",
    "\n",
    "def solve():\n",
    "    st = set()\n",
    "    for l, c in li:\n",
    "        if l == d:\n",
    "            return c       \n",
    "        temp = set()\n",
    "        for length in st:\n",
    "            nl = length + l\n",
    "            if nl == d:\n",
    "                return c\n",
    "            if nl < d:\n",
    "                temp.add(nl)\n",
    "        temp.add(l)\n",
    "        st |= temp\n",
    "\n",
    "print(solve())"
   ]
  },
  {
   "cell_type": "code",
   "execution_count": null,
   "metadata": {},
   "outputs": [],
   "source": [
    "# 다른 사람 코드 https://www.acmicpc.net/source/28558286\n",
    "import sys\n",
    "input = sys.stdin.readline\n",
    "\n",
    "d,p = map(int,input().split())\n",
    "dp = [0]*(d+1)\n",
    "dp[0] = float('inf')\n",
    "for _ in range(p):\n",
    "    l,c = map(int,input().split())\n",
    "    for i in range(d,-1,-1):\n",
    "        if i-l <0: break\n",
    "        dp[i] = max(dp[i] , min(dp[i-l],c))\n",
    "print(dp[d])"
   ]
  },
  {
   "cell_type": "code",
   "execution_count": null,
   "metadata": {},
   "outputs": [],
   "source": [
    "# 다른 사람 코드 (fromecha)\n",
    "# D: 물까지의 거리 / P: 매입한 파이프 개수\n",
    "D, P = map(int, input().split())\n",
    "# L: 길이 / C: 용량\n",
    "# 목표: 수도관을 만들어 길이가 D와 같게 할 때 가능한 최대 용량을 구하는 것\n",
    "# 파이프를 합치는 건 다 가능하지만 용량은 최솟값으로\n",
    "\n",
    "# 길이, 두께는 24비트 양의 정수로 최대값: 2 ** 24\n",
    "# 2 ** 24 = 16777216 => 전체 배열로 만들어서 푸는건 메모리 초과\n",
    "# 거리에 따라 값들을 담아주기\n",
    "arr = [0] * (D + 1)\n",
    "for i in range(P):\n",
    "    # 관의 길이 / 관의 두께\n",
    "    L, C = map(int, input().split())\n",
    "    # 현재 입력받은 값과 DP 배열값을 비교해서 길이가 같지만 더 넓은 통이 있다면 큰 값을 사용\n",
    "    if C > arr[D - L]:\n",
    "        arr[D-L] = C\n",
    "    # print('입력받기전:', arr)\n",
    "    for j in range(D):\n",
    "        # 남은 길이가 관의 길이의 이상이면서 현재 값이 있는 상태면\n",
    "        if j >= L and arr[j] != 0:\n",
    "            # 현재 입력받은 관의 길이 L을 arr[j] 에 더하는 것이므로 둘 중 최솟값을 받음\n",
    "            # j-L 상태의 관과 크기를 비교해서 둘 중 더 큰 값 사용\n",
    "            arr[j-L] = max(arr[j-L], min(C, arr[j]))\n",
    "    # print('입력받은후:', arr)\n",
    "print(arr[0])"
   ]
  },
  {
   "cell_type": "code",
   "execution_count": null,
   "metadata": {},
   "outputs": [],
   "source": [
    "# 다른 사람 코드 (flyjb)\n",
    "import heapq\n",
    "from sys import stdin\n",
    "\n",
    "d, p = map(int, stdin.readline().split())\n",
    "heap = []\n",
    "for _ in range(p):\n",
    "    a, b = map(int, stdin.readline().split())\n",
    "    if a > d:\n",
    "        continue\n",
    "    heapq.heappush(heap, (-b, -a))\n",
    "\n",
    "visit = set()\n",
    "while 1:\n",
    "    c, l = heapq.heappop(heap)\n",
    "    c, l = -c, -l\n",
    "    if l == d:\n",
    "        print(c)\n",
    "        break\n",
    "\n",
    "    temp = set()\n",
    "    for pl in visit:\n",
    "        if pl + l == d:\n",
    "            print(c)\n",
    "            break\n",
    "        elif pl + l < d:\n",
    "            temp.add(pl+l)\n",
    "    else:\n",
    "        visit = visit | temp\n",
    "        visit.add(l)\n",
    "        continue\n",
    "    break"
   ]
  },
  {
   "cell_type": "markdown",
   "metadata": {},
   "source": [
    "### 경찰차 2618"
   ]
  },
  {
   "cell_type": "code",
   "execution_count": null,
   "metadata": {},
   "outputs": [],
   "source": [
    "n = int(input())\n",
    "w = int(input())\n",
    "\n",
    "def get_num(x):\n",
    "    return int(x) - 1\n",
    "\n",
    "def get_dist(coord1, coord2):\n",
    "    return abs(coord1[0] - coord2[0]) + abs(coord1[1] - coord2[1])\n",
    "\n",
    "li = [tuple(map(get_num, input().split())) for _ in range(w)]\n",
    "\n",
    "# dp[경찰차1이 현재 맡은 사건 번호][경찰차2가 현재 맡은 사건 번호], 사건 번호는 1부터 시작함\n",
    "dp = [[float('inf')] * (w + 1) for _ in range(w + 1)] # 후에 -1로 바꾸는거 고려\n",
    "dp[0][0] = 0\n",
    "_from = [[-1] * (w + 1) for _ in range(w + 1)]\n",
    "st = set()\n",
    "st.add((0, 0))\n",
    "\n",
    "cand = float('inf')\n",
    "for i in range(1, w + 1):\n",
    "    nst = set()\n",
    "    for car1_event_num, car2_event_num in st:\n",
    "        # 경찰차1이 새로운 사건 좌표로 이동하는 경우\n",
    "        nst.add((i, car2_event_num))\n",
    "        if car1_event_num == 0:\n",
    "            former_coord = (0, 0)\n",
    "        else:\n",
    "            former_coord = li[car1_event_num - 1]\n",
    "            \n",
    "        dist = get_dist(former_coord, li[i - 1])\n",
    "        if dp[car1_event_num][car2_event_num] + dist < dp[i][car2_event_num]:\n",
    "            dp[i][car2_event_num] = dp[car1_event_num][car2_event_num] + dist\n",
    "            _from[i][car2_event_num] = [car1_event_num, car2_event_num]\n",
    "        \n",
    "        # 경찰차2가 새로운 사건 좌표로 이동하는 경우\n",
    "        nst.add((car1_event_num, i))\n",
    "        if car2_event_num == 0:\n",
    "            former_coord = (n - 1, n - 1)\n",
    "        else:\n",
    "            former_coord = li[car2_event_num - 1]       \n",
    "            \n",
    "        dist = get_dist(former_coord, li[i - 1])\n",
    "        if dp[car1_event_num][car2_event_num] + dist < dp[car1_event_num][i]:\n",
    "            dp[car1_event_num][i] = dp[car1_event_num][car2_event_num] + dist\n",
    "            _from[car1_event_num][i] = [car1_event_num, car2_event_num]\n",
    "        \n",
    "    st = nst.copy()\n",
    "    \n",
    "min_dist = float('inf')\n",
    "coord = [-1, -1]\n",
    "for i in range(w):\n",
    "    if dp[i][w] < min_dist:\n",
    "        min_dist = dp[i][w]\n",
    "        coord[0] = i\n",
    "        coord[1] = w\n",
    "        \n",
    "    if dp[w][i] < min_dist:\n",
    "        min_dist = dp[w][i]\n",
    "        coord[0] = w\n",
    "        coord[1] = i\n",
    "\n",
    "result = []\n",
    "for _ in range(w):\n",
    "    if _from[coord[0]][coord[1]][0] == coord[0]:\n",
    "        result.append(2)\n",
    "    else:\n",
    "        result.append(1)\n",
    "    coord = _from[coord[0]][coord[1]]\n",
    "    \n",
    "print(min_dist)\n",
    "for i in range(w - 1, -1, -1):\n",
    "    print(result[i])"
   ]
  },
  {
   "cell_type": "code",
   "execution_count": 4,
   "metadata": {},
   "outputs": [
    {
     "name": "stdout",
     "output_type": "stream",
     "text": [
      "6\n",
      "3\n",
      "3 5\n",
      "5 5\n",
      "2 3\n",
      "9\n",
      "2\n",
      "2\n",
      "1\n"
     ]
    }
   ],
   "source": [
    "from collections import deque\n",
    "\n",
    "n = int(input())\n",
    "w = int(input())\n",
    "\n",
    "def get_num(x):\n",
    "    return int(x) - 1\n",
    "\n",
    "def get_dist(coord1, coord2):\n",
    "    return abs(coord1[0] - coord2[0]) + abs(coord1[1] - coord2[1])\n",
    "\n",
    "li = [tuple(map(get_num, input().split())) for _ in range(w)]\n",
    "\n",
    "# dp[경찰차1이 현재 맡은 사건 번호][경찰차2가 현재 맡은 사건 번호], 사건 번호는 1부터 시작함\n",
    "dp = [[float('inf')] * (w + 1) for _ in range(w + 1)]\n",
    "dp[0][0] = 0\n",
    "_from = [[-1] * (w + 1) for _ in range(w + 1)]\n",
    "\n",
    "queue = deque()\n",
    "queue.append((0, 0, 1))\n",
    "while queue:\n",
    "    car1_event_num, car2_event_num, new_event_num = queue.popleft()    \n",
    "\n",
    "    # 경찰차1이 새로운 사건 좌표로 이동하는 경우\n",
    "    if car1_event_num == 0:\n",
    "        former_coord = (0, 0)\n",
    "    else:\n",
    "        former_coord = li[car1_event_num - 1]\n",
    "\n",
    "    dist = get_dist(former_coord, li[new_event_num - 1])\n",
    "    if dp[car1_event_num][car2_event_num] + dist < dp[new_event_num][car2_event_num]:\n",
    "        dp[new_event_num][car2_event_num] = dp[car1_event_num][car2_event_num] + dist\n",
    "        _from[new_event_num][car2_event_num] = [car1_event_num, car2_event_num]\n",
    "        \n",
    "        if new_event_num < w:\n",
    "            queue.append((new_event_num, car2_event_num, new_event_num + 1))\n",
    "\n",
    "    # 경찰차2가 새로운 사건 좌표로 이동하는 경우\n",
    "    if car2_event_num == 0:\n",
    "        former_coord = (n - 1, n - 1)\n",
    "    else:\n",
    "        former_coord = li[car2_event_num - 1]       \n",
    "\n",
    "    dist = get_dist(former_coord, li[new_event_num - 1])\n",
    "    if dp[car1_event_num][car2_event_num] + dist < dp[car1_event_num][new_event_num]:\n",
    "        dp[car1_event_num][new_event_num] = dp[car1_event_num][car2_event_num] + dist\n",
    "        _from[car1_event_num][new_event_num] = [car1_event_num, car2_event_num]\n",
    "        \n",
    "        if new_event_num < w:\n",
    "            queue.append((car1_event_num, new_event_num, new_event_num + 1))\n",
    "    \n",
    "min_dist = float('inf')\n",
    "coord = [-1, -1]\n",
    "for i in range(w):\n",
    "    if dp[i][w] < min_dist:\n",
    "        min_dist = dp[i][w]\n",
    "        coord[0] = i\n",
    "        coord[1] = w\n",
    "        \n",
    "    if dp[w][i] < min_dist:\n",
    "        min_dist = dp[w][i]\n",
    "        coord[0] = w\n",
    "        coord[1] = i\n",
    "\n",
    "result = []\n",
    "for _ in range(w):\n",
    "    if _from[coord[0]][coord[1]][0] == coord[0]:\n",
    "        result.append(2)\n",
    "    else:\n",
    "        result.append(1)\n",
    "    coord = _from[coord[0]][coord[1]]\n",
    "    \n",
    "print(min_dist)\n",
    "for i in range(w - 1, -1, -1):\n",
    "    print(result[i])"
   ]
  },
  {
   "cell_type": "markdown",
   "metadata": {},
   "source": [
    "### 환상의 듀엣 11570"
   ]
  },
  {
   "cell_type": "code",
   "execution_count": 14,
   "metadata": {},
   "outputs": [
    {
     "name": "stdout",
     "output_type": "stream",
     "text": [
      "3\n",
      "3 3 5\n"
     ]
    }
   ],
   "source": [
    "n = int(input())\n",
    "li = list(map(int ,input().split()))"
   ]
  },
  {
   "cell_type": "code",
   "execution_count": 15,
   "metadata": {},
   "outputs": [
    {
     "name": "stdout",
     "output_type": "stream",
     "text": [
      "0\n"
     ]
    }
   ],
   "source": [
    "n = int(input())\n",
    "li = list(map(int ,input().split()))\n",
    "\n",
    "dp = [[float('inf')] * (n + 1) for _ in range(n + 1)] # dp[상덕이가 현재 부르는 인덱스][희원이가 현재 부르는 인덱스], 음의 인덱스는 1부터 시작\n",
    "st = set()\n",
    "st.add((0, 0))\n",
    "dp[0][0] = 0\n",
    "min_result = float('inf')\n",
    "for i in range(1, n + 1):\n",
    "    nst = set()\n",
    "    # x: 상덕이가 이전에 부른 음의 인덱스, y: 희원이가 이전에 부른 음의 인덱스\n",
    "    for x, y in st:\n",
    "        # 상덕이가 해당 음을 부르는 경우\n",
    "        if x == 0:\n",
    "            nvalue = 0\n",
    "        else:\n",
    "            nvalue = abs(li[x - 1] - li[i - 1])\n",
    "        nvalue += dp[x][y]\n",
    "        if nvalue < dp[i][y]:\n",
    "            dp[i][y] = nvalue\n",
    "            if i == n:\n",
    "                min_result = min(min_result, nvalue)\n",
    "            else:\n",
    "                nst.add((i, y))\n",
    "        # 희원이가 해당 음을 부른는 경우\n",
    "        if y == 0:\n",
    "            nvalue = 0\n",
    "        else:\n",
    "            nvalue = abs(li[y - 1] - li[i - 1])\n",
    "        nvalue += dp[x][y]\n",
    "        if nvalue < dp[x][i]:\n",
    "            dp[x][i] = nvalue\n",
    "            if i == n:\n",
    "                min_result = min(min_result, nvalue)\n",
    "            else:\n",
    "                nst.add((x, i))\n",
    "    st = nst.copy()\n",
    "    \n",
    "print(min_result)"
   ]
  },
  {
   "cell_type": "markdown",
   "metadata": {},
   "source": [
    "### 평범한 배낭 12865 (다시 풀음)"
   ]
  },
  {
   "cell_type": "code",
   "execution_count": null,
   "metadata": {},
   "outputs": [],
   "source": [
    "n, k = map(int, input().split())\n",
    "\n",
    "dp = [[0] * (k + 1) for _ in range(n + 1)]\n",
    "for i in range(1, n + 1):\n",
    "    w, v = map(int, input().split())\n",
    "\n",
    "    for j in range(k + 1):\n",
    "        if j < w:\n",
    "            dp[i][j] = max(dp[i - 1][j], dp[i][j - 1])\n",
    "        else:\n",
    "            dp[i][j] = max(dp[i - 1][j], dp[i][j - 1], dp[i - 1][j - w] + v)\n",
    "        \n",
    "print(dp[-1][-1])"
   ]
  },
  {
   "cell_type": "code",
   "execution_count": 23,
   "metadata": {},
   "outputs": [
    {
     "name": "stdout",
     "output_type": "stream",
     "text": [
      "4 5\n",
      "5 3\n",
      "5 3\n",
      "7 3\n",
      "7 4\n",
      "3\n"
     ]
    }
   ],
   "source": [
    "n, k = map(int, input().split())\n",
    "\n",
    "dp = [[0] * (k + 1) for _ in range(n + 1)]\n",
    "i = 0\n",
    "for _ in range(n):\n",
    "    w, v = map(int, input().split())\n",
    "    if w > k:\n",
    "        continue\n",
    "    i += 1\n",
    "        \n",
    "    for j in range(1, w):\n",
    "        dp[i][j] = dp[i - 1][j]\n",
    "    for j in range(w, k + 1):\n",
    "        dp[i][j] = max(dp[i - 1][j], dp[i - 1][j - w] + v)\n",
    "         \n",
    "print(dp[i][-1])"
   ]
  },
  {
   "cell_type": "markdown",
   "metadata": {},
   "source": [
    "### 평범한 배낭 2 12920"
   ]
  },
  {
   "cell_type": "code",
   "execution_count": 34,
   "metadata": {},
   "outputs": [
    {
     "name": "stdout",
     "output_type": "stream",
     "text": [
      "15 10\n",
      "2 3\n",
      "2 3\n",
      "2 3\n",
      "2 3\n",
      "2 3\n",
      "2 3\n",
      "6 10\n",
      "6 10\n",
      "1 2\n",
      "1 2\n",
      "1 2\n",
      "20 20\n",
      "20 20\n",
      "20 20\n",
      "20 20\n",
      "17\n"
     ]
    }
   ],
   "source": [
    "n, k = map(int, input().split())\n",
    "\n",
    "dp = [[0] * (k + 1) for _ in range(n + 1)]\n",
    "i = 0\n",
    "for _ in range(n):\n",
    "    w, v = map(int, input().split())\n",
    "    if w > k:\n",
    "        continue\n",
    "    i += 1\n",
    "        \n",
    "    for j in range(1, w):\n",
    "        dp[i][j] = dp[i - 1][j]\n",
    "    for j in range(w, k + 1):\n",
    "        dp[i][j] = max(dp[i - 1][j], dp[i - 1][j - w] + v)\n",
    "         \n",
    "print(dp[i][-1])"
   ]
  },
  {
   "cell_type": "code",
   "execution_count": 17,
   "metadata": {},
   "outputs": [
    {
     "name": "stdout",
     "output_type": "stream",
     "text": [
      "3 9\n",
      "8 5 1\n",
      "1 2 2\n",
      "9 4 1\n",
      "5\n"
     ]
    }
   ],
   "source": [
    "n, m = map(int, input().split())\n",
    "li = [list(map(int, input().split())) for _ in range(n)]\n",
    "li.sort(key=lambda x: x[1] / x[0])\n",
    "\n",
    "dp = [[0] * (m + 1) for _ in range(n + 1)]\n",
    "i = 0\n",
    "for w, v, k in li:\n",
    "    if w > m:\n",
    "        continue\n",
    "    i += 1\n",
    "        \n",
    "    for j in range(1, w):\n",
    "        dp[i][j] = dp[i - 1][j]\n",
    "    for j in range(w, m + 1):\n",
    "        possible_max = min(k, j // w)\n",
    "        nw = possible_max * w\n",
    "        nv = possible_max * v\n",
    "        dp[i][j] = max(dp[i - 1][j], dp[i - 1][j - nw] + nv)\n",
    "         \n",
    "print(dp[i][-1])"
   ]
  },
  {
   "cell_type": "code",
   "execution_count": 18,
   "metadata": {},
   "outputs": [
    {
     "name": "stdout",
     "output_type": "stream",
     "text": [
      "[0, 0, 0, 0, 0, 0, 0, 0, 0, 0]\n",
      "[0, 0, 0, 0, 0, 0, 0, 0, 0, 4]\n",
      "[0, 0, 0, 0, 0, 0, 0, 0, 5, 5]\n",
      "[0, 2, 4, 4, 4, 4, 4, 4, 5, 5]\n"
     ]
    }
   ],
   "source": [
    "for v in dp:\n",
    "    print(v)"
   ]
  },
  {
   "cell_type": "code",
   "execution_count": null,
   "metadata": {},
   "outputs": [],
   "source": [
    "4 10\n",
    "2 3 6\n",
    "6 10 2\n",
    "1 2 3\n",
    "20 20 4\n",
    "output: 18"
   ]
  },
  {
   "cell_type": "markdown",
   "metadata": {},
   "source": [
    "### 사탕 가게 4781 "
   ]
  },
  {
   "cell_type": "code",
   "execution_count": null,
   "metadata": {},
   "outputs": [],
   "source": [
    "### 가성비가 좋은 것들부터 돌리고 마지막 무게가 차는 즉시 종료함\n",
    "\n",
    "### 가성비가 안좋은 것들부터 돌리고 무조건 대체의 방법을 사용함"
   ]
  },
  {
   "cell_type": "code",
   "execution_count": null,
   "metadata": {},
   "outputs": [],
   "source": [
    "from collections import deque\n",
    "import sys\n",
    "from decimal import getcontext, Decimal\n",
    "getcontext().prec = 10\n",
    "# input = sys.stdin.readline\n",
    "\n",
    "def get_value(value):\n",
    "    return int(Decimal(value) * Decimal('100'))\n",
    "\n",
    "while True:\n",
    "    n, m = map(float, input().rstrip().split())\n",
    "    n = int(n)\n",
    "    if n == 0:\n",
    "        break    \n",
    "    m = get_value(m)\n",
    "\n",
    "    li = []\n",
    "    for _ in range(n):\n",
    "        c, p = map(float, input().rstrip().split())\n",
    "        c = int(c)\n",
    "        p = get_value(p)\n",
    "        li.append((c, p))\n",
    "\n",
    "    li.sort(key=lambda x: x[0] / x[1])\n",
    "    \n",
    "    base = [0] * (m + 1)\n",
    "    dp = deque()\n",
    "    dp.append(base[:])\n",
    "    for i in range(n):\n",
    "        c, p = li[i]\n",
    "        if p > m:\n",
    "            continue\n",
    "        \n",
    "        dp.append(base[:])\n",
    "        for j in range(1, p):\n",
    "            dp[1][j] = dp[0][j]\n",
    "        for j in range(p, m + 1):\n",
    "            dp[1][j] = max(dp[0][j], dp[0][j - (j // p) * p] + (j // p) * c)\n",
    "        dp.popleft()\n",
    "                \n",
    "    print(dp[-1][-1])"
   ]
  },
  {
   "cell_type": "markdown",
   "metadata": {},
   "source": [
    "### 방법을 출력하지 않는 숫자 맞추기 13392"
   ]
  },
  {
   "cell_type": "raw",
   "metadata": {},
   "source": [
    "위에서 아래의 방향으로만 영향을 끼치므로 위에서 아래로 가는 방식을 사용함\n",
    "\n",
    "현재 상황에서 왼쪽으로 돌려서 목표를 만들거나 오른쪽으로 돌려서 목표를 만드는 것이 최선임\n",
    "하지만 완전탐색으로 하면 O(2^n)의 시간복잡도가 나옴\n",
    "\n",
    "왼쪽으로 돌리는(+) 횟수의 누적을 저장함 (한 바퀴 돌리는 것은 의미가 없으므로 왼쪽으로 돌리는 횟수의 누적은 %를 써서 9 이하로 만들어줄 필요가 있음)\n",
    "\n",
    "0~9까지의 수는 -+ 연산으로 이동하며 %연산으로 셈\n",
    "\n",
    "dp 테이블의 값에는 움직인 칸 수를 채워 넣어야 하는 것으로 추정됨\n",
    "n이 10000인 것으로 보아 n이 dp 테이블의 가로나 세로가 되어야 할 것 같음\n",
    "\n",
    "i로는 n을 j로는 왼쪽으로 돌리는 횟수의 누적으로 하면 어떨까? (n * 10) dp[i][j]\n",
    "초기값은 float('inf')로 설정함\n",
    "\n",
    "현재가 목표보다 크면 목표 + 10해서 왼쪽으로 돌려야하는 횟수를 계산함\n",
    "목표가 현재보다 크면 현재 + 10해서 오른쪽으로 돌려야하는 횟수를 계산함"
   ]
  },
  {
   "cell_type": "code",
   "execution_count": 7,
   "metadata": {},
   "outputs": [
    {
     "name": "stdout",
     "output_type": "stream",
     "text": [
      "3\n",
      "194\n",
      "928\n",
      "6\n"
     ]
    }
   ],
   "source": [
    "n = int(input())\n",
    "a = list(map(int, input()))\n",
    "b = list(map(int, input()))\n",
    "\n",
    "def get_count_to_move(current, target, to_left=False):\n",
    "    if to_left:\n",
    "        if current > target:\n",
    "            target += 10\n",
    "        return target - current    \n",
    "    else:\n",
    "        if target > current:\n",
    "            current += 10\n",
    "        return current - target\n",
    "\n",
    "# dp[i][j]: 숫자나사 i - 1에서 왼쪽으로 돌려야만하는 횟수 j에 목표로 가기위해 필요한 누적 회전 수\n",
    "dp = [[float('inf')] * 10 for _ in range(n)]\n",
    "count = get_count_to_move(a[0], b[0], True) # 왼쪽 이동시\n",
    "dp[0][count] = count\n",
    "dp[0][0] = get_count_to_move(a[0], b[0], False) # 오른쪽 이동시\n",
    "\n",
    "for i in range(1, n):\n",
    "    for j in range(10):\n",
    "        if dp[i - 1][j] == float('inf'):\n",
    "            continue\n",
    "        current = (a[i] + j) % 10\n",
    "        target = b[i]\n",
    "        \n",
    "        count = get_count_to_move(current, target, True) # 왼쪽 이동시\n",
    "        nj = (j + count) % 10\n",
    "        dp[i][nj] = min(dp[i][nj], dp[i - 1][j] + count)\n",
    "        \n",
    "        count = get_count_to_move(current, target, False) # 오른쪽 이동시\n",
    "        dp[i][j] = min(dp[i][j], dp[i - 1][j] + count)\n",
    "        \n",
    "print(min(dp[-1]))"
   ]
  },
  {
   "cell_type": "markdown",
   "metadata": {},
   "source": [
    "### 햄최몇? "
   ]
  },
  {
   "cell_type": "raw",
   "metadata": {},
   "source": [
    "막내가 얻을 수 있는 최대 효용은 삼각형의 가장 짧은 변의 길이와 같이 절대 전체 총합의 1/3을 넘길 수 없다.\n",
    "하지만 이 조건만 가지고 최대치를 구하기에는 10, 11, 1000과 같은 케이스도 존재한다.\n",
    "\n",
    "n이 3보다 작으면 0밖에 답이 될 수밖에 없음\n",
    "n이 3이면 가장 작은 값이 답이 될 수밖에 없음\n"
   ]
  },
  {
   "cell_type": "code",
   "execution_count": null,
   "metadata": {},
   "outputs": [],
   "source": [
    "10 12 15 1000\n",
    "\n",
    "1000\n",
    "10 12\n",
    "15\n",
    "\n",
    "10 12 15 16\n",
    "\n",
    "10 12\n",
    "16\n",
    "15\n",
    "\n",
    "1 10 100 1000\n",
    "\n",
    "1000\n",
    "100\n",
    "10 1"
   ]
  },
  {
   "cell_type": "code",
   "execution_count": null,
   "metadata": {},
   "outputs": [],
   "source": [
    "33000"
   ]
  },
  {
   "cell_type": "markdown",
   "metadata": {},
   "source": [
    "### 두 가중치 12930"
   ]
  },
  {
   "cell_type": "raw",
   "metadata": {},
   "source": [
    "1에 도착했을 때 구해진 값을 기준으로 계속 갱신해주면 어떨까?"
   ]
  },
  {
   "cell_type": "code",
   "execution_count": null,
   "metadata": {},
   "outputs": [],
   "source": [
    "171 자체를 인덱스와 합 두 개로 이용한다면?\n",
    "\n",
    "dp[a의 합] = b의 합\n",
    "\n",
    "2: [0, 0, 0, 0, 6, 0, 0, 0, 0, 7, 0, 0, ...]\n",
    "현재 (4, 6), (9, 7)\n",
    "    \n",
    "2 -> 4에서 가중치 (1, 2) 추가시\n",
    "(5, 8), (10, 9)\n",
    "\n",
    "4: [0, 0, 0, 0, 0, min(원래 이 자리 값, 6 + 2), 0, 0, 0, 0, 7]\n",
    "    \n",
    "원래값 갱신시 다음으로 넘김\n",
    "\n",
    "\n",
    "[0, 9, f, f, f, f, f, f, f]"
   ]
  },
  {
   "cell_type": "code",
   "execution_count": 53,
   "metadata": {},
   "outputs": [
    {
     "name": "stdout",
     "output_type": "stream",
     "text": [
      "6\n",
      ".....9\n",
      "..9...\n",
      ".9.9..\n",
      "..9.9.\n",
      "...9.9\n",
      "9...9.\n",
      ".....9\n",
      "..9...\n",
      ".9.9..\n",
      "..9.9.\n",
      "...9.9\n",
      "9...9.\n",
      "2025\n"
     ]
    }
   ],
   "source": [
    "from collections import deque\n",
    "\n",
    "n = int(input())\n",
    "\n",
    "A = [input() for _ in range(n)]\n",
    "B = [input() for _ in range(n)]\n",
    "\n",
    "graph = [[] for _ in range(n)]\n",
    "for i in range(n):\n",
    "    for j in range(i, n):\n",
    "        if A[i][j] == '.':\n",
    "            continue\n",
    "        graph[i].append((j, int(A[i][j]), int(B[i][j])))\n",
    "        graph[j].append((i, int(A[i][j]), int(B[i][j])))\n",
    "\n",
    "dp = [[float('inf')] * 172 for _ in range(n)] # dp[노드 번호][a의 합] = b의 합\n",
    "dp[0][0] = 0\n",
    "queue = deque()\n",
    "queue.append(0)\n",
    "\n",
    "while queue:\n",
    "    value = queue.popleft()\n",
    "    for v, a, b in graph[value]:\n",
    "        is_updated = False\n",
    "        for former_a_sum in range(172):\n",
    "            if dp[value][former_a_sum] != float('inf') and former_a_sum + a <= 171:\n",
    "                if dp[value][former_a_sum] + b < dp[v][former_a_sum + a]:\n",
    "                    dp[v][former_a_sum + a] = dp[value][former_a_sum] + b\n",
    "                    is_updated = True\n",
    "        if is_updated:\n",
    "            queue.append(v)\n",
    "            \n",
    "min_result = float('inf')\n",
    "for a_sum in range(1, 172):\n",
    "    min_result = min(min_result, a_sum * dp[1][a_sum])\n",
    "    \n",
    "if min_result == float('inf'):\n",
    "    print(-1)\n",
    "else:\n",
    "    print(min_result)"
   ]
  },
  {
   "cell_type": "code",
   "execution_count": null,
   "metadata": {},
   "outputs": [],
   "source": [
    "만약 heap에 (a합 * b합, a합, b합, 노드 번호) 방식으로 저장하면 어떨까?\n",
    "dp 테이블은 필요시 이용함"
   ]
  },
  {
   "cell_type": "code",
   "execution_count": 9,
   "metadata": {},
   "outputs": [
    {
     "name": "stdout",
     "output_type": "stream",
     "text": [
      "2\n",
      "..\n",
      "..\n",
      "..\n",
      "..\n",
      "-1\n"
     ]
    }
   ],
   "source": [
    "from heapq import heappush, heappop\n",
    "\n",
    "n = int(input())\n",
    "\n",
    "A = [input() for _ in range(n)]\n",
    "B = [input() for _ in range(n)]\n",
    "\n",
    "graph = [[] for _ in range(n)]\n",
    "for i in range(n):\n",
    "    for j in range(i, n):\n",
    "        if A[i][j] == '.':\n",
    "            continue\n",
    "        graph[i].append((j, int(A[i][j]), int(B[i][j])))\n",
    "        graph[j].append((i, int(A[i][j]), int(B[i][j])))\n",
    "\n",
    "dp = [[float('inf')] * 172 for _ in range(n)] # dp[노드 번호][a의 합] = b의 합\n",
    "dp[0][0] = 0\n",
    "\n",
    "heap = []\n",
    "heappush(heap, (0, 0, 0, 0))\n",
    "\n",
    "while heap:\n",
    "    sum_value, sum_a, sum_b, value = heappop(heap)\n",
    "    for v, a, b in graph[value]:\n",
    "        nsum_a = sum_a + a\n",
    "        nsum_b = sum_b + b\n",
    "        if nsum_a <= 171 and dp[value][sum_a] + b < dp[v][nsum_a]:\n",
    "            dp[v][nsum_a] = dp[value][sum_a] + b\n",
    "            heappush(heap, (nsum_a * nsum_b, nsum_a, nsum_b, v))\n",
    "    \n",
    "min_result = float('inf')\n",
    "for a_sum in range(1, 172):\n",
    "    min_result = min(min_result, a_sum * dp[1][a_sum])\n",
    "    \n",
    "if min_result == float('inf'):\n",
    "    print(-1)\n",
    "else:\n",
    "    print(min_result)"
   ]
  },
  {
   "cell_type": "markdown",
   "metadata": {},
   "source": [
    "### 팰린드롬 파티션 2705"
   ]
  },
  {
   "cell_type": "code",
   "execution_count": 6,
   "metadata": {},
   "outputs": [
    {
     "name": "stdout",
     "output_type": "stream",
     "text": [
      "3\n",
      "4\n",
      "4\n",
      "5\n",
      "4\n",
      "6\n",
      "8\n"
     ]
    }
   ],
   "source": [
    "dp = [0] * 1001\n",
    "dp[0] = dp[1] = 1\n",
    "\n",
    "for i in range(2, 1001):\n",
    "    temp = 0\n",
    "    for j in range(i - 2, -1, -2):\n",
    "        temp += dp[j]\n",
    "    dp[i] = temp + 1\n",
    "\n",
    "for _ in range(int(input())):\n",
    "    print(dp[int(input())])"
   ]
  },
  {
   "cell_type": "markdown",
   "metadata": {},
   "source": [
    "### 카드게임 10835"
   ]
  },
  {
   "cell_type": "code",
   "execution_count": 58,
   "metadata": {},
   "outputs": [
    {
     "name": "stdout",
     "output_type": "stream",
     "text": [
      "5\n",
      "3 1 1 2 5\n",
      "4 1 1 1 4\n",
      "5 5\n",
      "4 4\n",
      "3 3\n",
      "2 2\n",
      "2 1\n",
      "1 0\n",
      "1 1\n",
      "1 0\n",
      "2 3\n",
      "2 2\n",
      "2 1\n",
      "1 1\n",
      "1 0\n",
      "3 4\n",
      "2 4\n",
      "2 3\n",
      "2 2\n",
      "2 1\n",
      "1 1\n",
      "1 0\n",
      "4 5\n",
      "3 5\n",
      "2 5\n",
      "1 4\n",
      "1 3\n",
      "1 2\n",
      "1 5\n",
      "1 4\n",
      "1 3\n",
      "1 2\n",
      "1 1\n",
      "1 0\n",
      "11\n"
     ]
    }
   ],
   "source": [
    "n = int(input())\n",
    "a = list(map(int, input().split()))\n",
    "b = list(map(int, input().split()))\n",
    "\n",
    "a.reverse()\n",
    "b.reverse()\n",
    "\n",
    "dp = [[-1] * (n + 1) for _ in range(n + 1)]\n",
    "dp[n][n] = 0\n",
    "\n",
    "def solve(i, j):\n",
    "    print(i, j)\n",
    "        \n",
    "    if i == 0 or j == 0:\n",
    "        return\n",
    "    if a[i - 1] > b[j - 1]:\n",
    "        nvalue = dp[i][j] + b[j - 1]\n",
    "        if nvalue > dp[i][j - 1]:\n",
    "            dp[i][j - 1] = nvalue\n",
    "            solve(i, j - 1)\n",
    "        return\n",
    "    if dp[i][j] > dp[i - 1][j - 1]:\n",
    "        dp[i - 1][j - 1] = dp[i][j]\n",
    "        solve(i - 1, j - 1)\n",
    "    if dp[i][j] > dp[i - 1][j]:\n",
    "        dp[i - 1][j] = dp[i][j]\n",
    "        solve(i - 1, j)      \n",
    "    \n",
    "solve(n, n)\n",
    "\n",
    "max_score = 0\n",
    "for i in range(n + 1):\n",
    "    max_score = max(max_score, dp[0][i], dp[i][0])\n",
    "\n",
    "print(max_score)"
   ]
  },
  {
   "cell_type": "code",
   "execution_count": null,
   "metadata": {},
   "outputs": [],
   "source": [
    "import sys\n",
    "sys.setrecursionlimit(1000000)\n",
    "\n",
    "n = int(input())\n",
    "a = list(map(int, input().split()))\n",
    "b = list(map(int, input().split()))\n",
    "\n",
    "a.reverse()\n",
    "b.reverse()\n",
    "\n",
    "dp = [[-1] * (n + 1) for _ in range(n + 1)]\n",
    "dp[n][n] = 0\n",
    "\n",
    "def solve(i, j):\n",
    "    if i == 0 or j == 0:\n",
    "        return\n",
    "    if a[i - 1] > b[j - 1]:\n",
    "        nvalue = dp[i][j] + b[j - 1]\n",
    "        if nvalue > dp[i][j - 1]:\n",
    "            dp[i][j - 1] = nvalue\n",
    "            solve(i, j - 1)\n",
    "        return\n",
    "    if dp[i][j] > dp[i - 1][j - 1]:\n",
    "        dp[i - 1][j - 1] = dp[i][j]\n",
    "        solve(i - 1, j - 1)\n",
    "    if dp[i][j] > dp[i - 1][j]:\n",
    "        dp[i - 1][j] = dp[i][j]\n",
    "        solve(i - 1, j)      \n",
    "    \n",
    "solve(n, n)\n",
    "\n",
    "max_score = 0\n",
    "for i in range(n + 1):\n",
    "    max_score = max(max_score, dp[0][i], dp[i][0])\n",
    "\n",
    "print(max_score)"
   ]
  },
  {
   "cell_type": "markdown",
   "metadata": {},
   "source": [
    "### 계단 수 1562"
   ]
  },
  {
   "cell_type": "code",
   "execution_count": 5,
   "metadata": {},
   "outputs": [
    {
     "data": {
      "text/plain": [
       "1"
      ]
     },
     "execution_count": 5,
     "metadata": {},
     "output_type": "execute_result"
    }
   ],
   "source": [
    "1 << 0"
   ]
  },
  {
   "cell_type": "code",
   "execution_count": 6,
   "metadata": {},
   "outputs": [
    {
     "data": {
      "text/plain": [
       "2"
      ]
     },
     "execution_count": 6,
     "metadata": {},
     "output_type": "execute_result"
    }
   ],
   "source": [
    "def get_bit(v):\n",
    "    return 1 << v\n",
    "\n",
    "get_bit(1)"
   ]
  },
  {
   "cell_type": "code",
   "execution_count": 13,
   "metadata": {},
   "outputs": [],
   "source": [
    "all_inclueded = (1 << 10) - 1"
   ]
  },
  {
   "cell_type": "code",
   "execution_count": 18,
   "metadata": {},
   "outputs": [
    {
     "data": {
      "text/plain": [
       "1023"
      ]
     },
     "execution_count": 18,
     "metadata": {},
     "output_type": "execute_result"
    }
   ],
   "source": [
    "all_inclueded"
   ]
  },
  {
   "cell_type": "code",
   "execution_count": 14,
   "metadata": {},
   "outputs": [],
   "source": [
    "from collections import defaultdict\n",
    "\n",
    "dp = [defaultdict(int) for _ in range(10)]\n",
    "for i in range(1, 10):\n",
    "    dp[i][get_bit(i)] = 1"
   ]
  },
  {
   "cell_type": "code",
   "execution_count": 40,
   "metadata": {},
   "outputs": [
    {
     "name": "stdout",
     "output_type": "stream",
     "text": [
      "100\n",
      "670667793\n"
     ]
    }
   ],
   "source": [
    "from collections import defaultdict\n",
    "from copy import deepcopy\n",
    "\n",
    "def get_bit(v):\n",
    "    return 1 << v\n",
    "\n",
    "n = int(input())  \n",
    "\n",
    "mod = 1000000000\n",
    "dp = [defaultdict(int) for _ in range(10)]\n",
    "for i in range(1, 10):\n",
    "    dp[i][get_bit(i)] = 1\n",
    "    \n",
    "for i in range(n - 1):\n",
    "    new = [defaultdict(int) for _ in range(10)]\n",
    "    for key, count in dp[1].items():\n",
    "        nkey = key | get_bit(0)\n",
    "        new[0][nkey] += count\n",
    "        new[0][nkey] %= mod\n",
    "    for key, count in dp[8].items():\n",
    "        nkey = key | get_bit(9)\n",
    "        new[9][nkey] += count\n",
    "        new[9][nkey] %= mod\n",
    "        \n",
    "    for i in range(1, 9):\n",
    "        for key, count in dp[i - 1].items():\n",
    "            nkey = key | get_bit(i)\n",
    "            new[i][nkey] += count\n",
    "            new[i][nkey] %= mod\n",
    "        for key, count in dp[i + 1].items():\n",
    "            nkey = key | get_bit(i)\n",
    "            new[i][nkey] += count\n",
    "            new[i][nkey] %= mod\n",
    "    dp = deepcopy(new)\n",
    "\n",
    "total = 0\n",
    "for i in range(10):\n",
    "    for key, count in dp[i].items():\n",
    "        if key == 1023:\n",
    "            total += count\n",
    "print(total % mod)"
   ]
  },
  {
   "cell_type": "markdown",
   "metadata": {},
   "source": [
    "### 외판원 순회 2098"
   ]
  },
  {
   "cell_type": "code",
   "execution_count": 46,
   "metadata": {},
   "outputs": [
    {
     "data": {
      "text/plain": [
       "3"
      ]
     },
     "execution_count": 46,
     "metadata": {},
     "output_type": "execute_result"
    }
   ],
   "source": [
    "n = 2\n",
    "all_visited = (1 << n) - 1"
   ]
  },
  {
   "cell_type": "code",
   "execution_count": null,
   "metadata": {},
   "outputs": [],
   "source": [
    "# 시간 초과, 시작점은 하나로 하면 되었음\n",
    "from copy import deepcopy\n",
    "\n",
    "n = int(input())\n",
    "# li = [list(map(int, input().split())) for _ in range(n)]\n",
    "\n",
    "s = '''1 1 1 1 1 1 1 1 1 1 1 1 1 1 1 1\n",
    "1 1 1 1 1 1 1 1 1 1 1 1 1 1 1 1\n",
    "1 1 1 1 1 1 1 1 1 1 1 1 1 1 1 1\n",
    "1 1 1 1 1 1 1 1 1 1 1 1 1 1 1 1\n",
    "1 1 1 1 1 1 1 1 1 1 1 1 1 1 1 1\n",
    "1 1 1 1 1 1 1 1 1 1 1 1 1 1 1 1\n",
    "1 1 1 1 1 1 1 1 1 1 1 1 1 1 1 1\n",
    "1 1 1 1 1 1 1 1 1 1 1 1 1 1 1 1\n",
    "1 1 1 1 1 1 1 1 1 1 1 1 1 1 1 1\n",
    "1 1 1 1 1 1 1 1 1 1 1 1 1 1 1 1\n",
    "1 1 1 1 1 1 1 1 1 1 1 1 1 1 1 1\n",
    "1 1 1 1 1 1 1 1 1 1 1 1 1 1 1 1\n",
    "1 1 1 1 1 1 1 1 1 1 1 1 1 1 1 1\n",
    "1 1 1 1 1 1 1 1 1 1 1 1 1 1 1 1\n",
    "1 1 1 1 1 1 1 1 1 1 1 1 1 1 1 1\n",
    "1 1 1 1 1 1 1 1 1 1 1 1 1 1 1 1'''\n",
    "li = [list(map(int, v.split())) for v in s.split('\\n')]\n",
    "for i in range(n):\n",
    "    li[i][i] = 0\n",
    "\n",
    "get_bit = lambda v: 1 << v\n",
    "all_visited = (1 << n) - 1\n",
    "min_cost = float('inf')\n",
    "\n",
    "for start in range(n):\n",
    "    dp = [[float('inf')] * (2 ** 16) for _ in range(16)] # dp[현재 도시][방문 도시들] = 비용\n",
    "    for _ in range(n - 1):\n",
    "        for (visited, current), cost in dp.items():\n",
    "            for ncurrent in range(n):\n",
    "                if visited & get_bit(ncurrent):\n",
    "                    continue\n",
    "                if li[current][ncurrent] == 0:\n",
    "                    continue\n",
    "                nvisited = visited | get_bit(ncurrent)\n",
    "                ncost = cost + li[current][ncurrent]\n",
    "                if (nvisited, ncurrent) in new and ncost >= new[(nvisited, ncurrent)]:\n",
    "                    continue\n",
    "                new[(nvisited, ncurrent)] = ncost\n",
    "\n",
    "    for (visited, current), cost in dp.items():\n",
    "        if visited != all_visited:\n",
    "            continue\n",
    "        if li[current][start] == 0:\n",
    "            continue\n",
    "        min_cost = min(min_cost, cost + li[current][start])\n",
    "        \n",
    "print(min_cost)"
   ]
  },
  {
   "cell_type": "code",
   "execution_count": 4,
   "metadata": {},
   "outputs": [
    {
     "name": "stdout",
     "output_type": "stream",
     "text": [
      "4\n",
      "0 10 15 20\n",
      "5 0 9 10\n",
      "6 13 0 12\n",
      "8 8 9 0\n",
      "35\n"
     ]
    }
   ],
   "source": [
    "# 맞았음\n",
    "from copy import deepcopy\n",
    "\n",
    "n = int(input())\n",
    "li = [list(map(int, input().split())) for _ in range(n)]\n",
    "\n",
    "get_bit = lambda v: 1 << v\n",
    "all_visited = (1 << n) - 1\n",
    "min_cost = float('inf')\n",
    "\n",
    "dp = dict()\n",
    "dp[(get_bit(0), 0)] = 0 # key는 (방문 도시들, 현재 도시) # value는 비용\n",
    "\n",
    "for _ in range(n - 1):\n",
    "    new = dict()\n",
    "    for (visited, current), cost in dp.items():\n",
    "        for ncurrent in range(n):\n",
    "            if visited & get_bit(ncurrent):\n",
    "                continue\n",
    "            if li[current][ncurrent] == 0:\n",
    "                continue\n",
    "            nvisited = visited | get_bit(ncurrent)\n",
    "            ncost = cost + li[current][ncurrent]\n",
    "            if (nvisited, ncurrent) in new and ncost >= new[(nvisited, ncurrent)]:\n",
    "                continue\n",
    "            new[(nvisited, ncurrent)] = ncost\n",
    "    dp = deepcopy(new)\n",
    "\n",
    "for (visited, current), cost in dp.items():\n",
    "    if visited != all_visited:\n",
    "        continue\n",
    "    if li[current][0] == 0:\n",
    "        continue\n",
    "    min_cost = min(min_cost, cost + li[current][0])\n",
    "        \n",
    "print(min_cost)"
   ]
  },
  {
   "cell_type": "markdown",
   "metadata": {},
   "source": [
    "### 외판원 순회 3 16991"
   ]
  },
  {
   "cell_type": "code",
   "execution_count": 17,
   "metadata": {},
   "outputs": [
    {
     "name": "stdout",
     "output_type": "stream",
     "text": [
      "6\n",
      "30 650\n",
      "54 330\n",
      "22 100\n",
      "99 343\n",
      "-54 -234\n",
      "-666 999\n",
      "3091.380420051459\n"
     ]
    }
   ],
   "source": [
    "from copy import deepcopy\n",
    "\n",
    "n = int(input())\n",
    "li = [list(map(int, input().split())) for _ in range(n)]\n",
    "\n",
    "get_bit = lambda v: 1 << v\n",
    "all_visited = (1 << n) - 1\n",
    "min_cost = float('inf')\n",
    "\n",
    "dp = dict()\n",
    "dp[(get_bit(0), 0)] = 0 # key는 (방문 도시들, 현재 도시) # value는 비용\n",
    "get_dist_squared = lambda a, b: ((b[1] - a[1]) ** 2 + (b[0] - a[0]) ** 2) ** 0.5\n",
    "for _ in range(n - 1):\n",
    "    new = dict()\n",
    "    for (visited, current), cost in dp.items():\n",
    "        for ncurrent in range(n):\n",
    "            if visited & get_bit(ncurrent):\n",
    "                continue\n",
    "            \n",
    "            nvisited = visited | get_bit(ncurrent)\n",
    "            ncost = cost + get_dist_squared(li[current], li[ncurrent])\n",
    "            if (nvisited, ncurrent) in new and ncost >= new[(nvisited, ncurrent)]:\n",
    "                continue\n",
    "            new[(nvisited, ncurrent)] = ncost\n",
    "    dp = deepcopy(new)\n",
    "\n",
    "for (visited, current), cost in dp.items():\n",
    "    if visited != all_visited:\n",
    "        continue\n",
    "    min_cost = min(min_cost, cost + get_dist_squared(li[current], li[0]))\n",
    "        \n",
    "print(min_cost)"
   ]
  },
  {
   "cell_type": "markdown",
   "metadata": {},
   "source": [
    "### 발전소 1102"
   ]
  },
  {
   "cell_type": "raw",
   "metadata": {},
   "source": [
    "dp dict dp[잘 돌아가는 것들] = 비용\n",
    "\n",
    "고쳐야 하는 개수만큼 for문 돌림\n",
    "\n",
    "for 고쳐야 하는 개수:\n",
    "    new = dict()\n",
    "    for dp:\n",
    "        고장난 것들, 안고장난 것들 구함\n",
    "        for 고장난 것들:\n",
    "            for 안고장난 것들:\n",
    "                new에 안고장난 -> 고장난 비용 고려해서 갱신\n",
    "    dp = deepcopy(new)"
   ]
  },
  {
   "cell_type": "code",
   "execution_count": 37,
   "metadata": {},
   "outputs": [
    {
     "name": "stdout",
     "output_type": "stream",
     "text": [
      "2\n",
      "0 1\n",
      "1 0\n",
      "NN\n",
      "0\n",
      "0\n"
     ]
    }
   ],
   "source": [
    "from copy import deepcopy\n",
    "\n",
    "n = int(input())\n",
    "li = [list(map(int, input().split())) for _ in range(n)]\n",
    "status = input()\n",
    "p = int(input())\n",
    "\n",
    "broken = {i for i in range(n) if status[i] == 'N'}\n",
    "normal = {i for i in range(n) if status[i] == 'Y'}\n",
    "if p >= 1 and len(broken) == n:\n",
    "    print(-1)\n",
    "else:\n",
    "    dp = dict()\n",
    "    init = 0\n",
    "    for nor in normal:\n",
    "        init |= 1 << nor\n",
    "    dp[init] = 0\n",
    "    for _ in range(p - len(normal)):\n",
    "        new = dict()\n",
    "        for visited, cost in dp.items():\n",
    "            broken = set()\n",
    "            normal = set()\n",
    "            for i in range(n):\n",
    "                if visited & (1 << i):\n",
    "                    normal.add(i)\n",
    "                else:\n",
    "                    broken.add(i)\n",
    "            for b in broken:\n",
    "                for nor in normal:\n",
    "                    ncost = cost + li[nor][b]\n",
    "                    nvisited = visited | (1 << b)\n",
    "                    if nvisited in new and new[nvisited] <= ncost:\n",
    "                        continue\n",
    "                    new[nvisited] = ncost\n",
    "        dp = deepcopy(new)\n",
    "        \n",
    "    print(min(dp.values()))"
   ]
  },
  {
   "cell_type": "markdown",
   "metadata": {},
   "source": [
    "### 컨닝 1014"
   ]
  },
  {
   "cell_type": "code",
   "execution_count": null,
   "metadata": {},
   "outputs": [],
   "source": [
    "def update_row_init(i):\n",
    "    dp[i].update({0: 0})\n",
    "    for j in range(m):\n",
    "        if li[i][j] == 'x':\n",
    "            continue\n",
    "        else:\n",
    "            temp = dict()\n",
    "            temp[1 << j] = 1\n",
    "            for key, value in dp[i].items():\n",
    "                if j >= 1 and (key & (1 << (j - 1))):\n",
    "                    continue\n",
    "                nkey = key | (1 << j)\n",
    "                nvalue = value + 1\n",
    "                temp[nkey] = nvalue\n",
    "            dp[i].update(temp)\n",
    "\n",
    "def get_impossible_coord(key):\n",
    "    result = 0\n",
    "    for j in range(m):\n",
    "        if key & (1 << j):\n",
    "            for nj in (j - 1, j + 1):\n",
    "                if nj < 0 or nj >= m:\n",
    "                    continue\n",
    "                result |= 1 << nj\n",
    "    return result\n",
    "\n",
    "for _ in range(int(input())):\n",
    "    n, m = map(int, input().split())\n",
    "    li = [input() for _ in range(n)]\n",
    "\n",
    "    dp = [dict() for _ in range(n)]\n",
    "\n",
    "    update_row_init(0)\n",
    "    for i in range(1, n):\n",
    "        update_row_init(i)\n",
    "        for key in dp[i].keys():\n",
    "            max_added = 0\n",
    "            for former_key in dp[i - 1].keys():\n",
    "                if get_impossible_coord(key) & former_key:\n",
    "                    continue\n",
    "                max_added = max(max_added, dp[i - 1][former_key])\n",
    "            dp[i][key] += max_added\n",
    "\n",
    "    print(max(dp[n - 1].values()))"
   ]
  },
  {
   "cell_type": "markdown",
   "metadata": {},
   "source": [
    "### 박성원 1086"
   ]
  },
  {
   "cell_type": "code",
   "execution_count": 4,
   "metadata": {},
   "outputs": [
    {
     "data": {
      "text/plain": [
       "6"
      ]
     },
     "execution_count": 4,
     "metadata": {},
     "output_type": "execute_result"
    }
   ],
   "source": [
    "# 일단 포기\n",
    "\n",
    "def nPn(n):\n",
    "    temp = 1\n",
    "    for i in range(2, n + 1):\n",
    "        temp *= i\n",
    "    return temp\n",
    "\n",
    "nPn(3)"
   ]
  },
  {
   "cell_type": "code",
   "execution_count": 49,
   "metadata": {},
   "outputs": [],
   "source": [
    "k = 87\n",
    "li = ['05', '20', '96', '82', '01']"
   ]
  },
  {
   "cell_type": "code",
   "execution_count": null,
   "metadata": {},
   "outputs": [],
   "source": [
    "for v in li:\n",
    "    print(int(v) % k)"
   ]
  },
  {
   "cell_type": "code",
   "execution_count": null,
   "metadata": {},
   "outputs": [],
   "source": [
    "for i in range(5):\n",
    "    for j in range(5):\n",
    "        print(i, j, int(li[i] + li[j]) % k)"
   ]
  },
  {
   "cell_type": "code",
   "execution_count": null,
   "metadata": {},
   "outputs": [],
   "source": [
    "from itertools import permutations\n",
    "\n",
    "p = permutations(range(len(li)), len(li))\n",
    "result = []\n",
    "for case in p:\n",
    "    temp = ''\n",
    "    for index in case:\n",
    "        temp += li[index]\n",
    "    result.append((case, int(temp) % k))\n",
    "    result.sort(key=lambda x: x[1])\n",
    "\n",
    "for s, r in result:\n",
    "    print(*s, r)"
   ]
  },
  {
   "cell_type": "code",
   "execution_count": 51,
   "metadata": {},
   "outputs": [
    {
     "data": {
      "text/plain": [
       "85"
      ]
     },
     "execution_count": 51,
     "metadata": {},
     "output_type": "execute_result"
    }
   ],
   "source": [
    "int(li[0] + li[1]) % k"
   ]
  },
  {
   "cell_type": "markdown",
   "metadata": {},
   "source": [
    "### 팰린드롬 경로 2172"
   ]
  },
  {
   "cell_type": "code",
   "execution_count": null,
   "metadata": {},
   "outputs": [],
   "source": [
    "l이 5일 때\n",
    "A에서 시작해서 2를 쓰고 B를 만났는데 B에서 시작해서 3을 쓰고\n",
    "\n",
    "->\n",
    "\n",
    "경우의 수가 적은 l이 1일 때부터 차례대로 나가면 어떨까?\n"
   ]
  },
  {
   "cell_type": "code",
   "execution_count": 53,
   "metadata": {},
   "outputs": [
    {
     "data": {
      "text/plain": [
       "8000"
      ]
     },
     "execution_count": 53,
     "metadata": {},
     "output_type": "execute_result"
    }
   ],
   "source": [
    "5 5\n",
    "\n",
    "1 2 3 2 1\n",
    "5 3 6 2 3\n",
    "2 3 1 2 3\n",
    "1 4 3 5 2\n",
    "2 3 3 2 1"
   ]
  },
  {
   "cell_type": "markdown",
   "metadata": {},
   "source": [
    "### RPG 1315"
   ]
  },
  {
   "cell_type": "code",
   "execution_count": null,
   "metadata": {},
   "outputs": [],
   "source": [
    "1 1 3\n",
    "4 50 1\n",
    "5 50 1\n",
    "6 50 1\n",
    "50 4 1\n",
    "50 5 1\n",
    "50 6 1\n",
    "50 7 50\n"
   ]
  },
  {
   "cell_type": "raw",
   "metadata": {},
   "source": [
    "5, 5, 7인 상태로 visited에 도착해서 다음 단계로 안넘어가고 가능한거\n",
    "계속 추가시켜주면서 visited를 다시 갱신해주면\n",
    "5, 5, 8인 상태로 visited에 처음 도착한건 무시됨"
   ]
  },
  {
   "cell_type": "code",
   "execution_count": 96,
   "metadata": {},
   "outputs": [],
   "source": [
    "n = 8\n",
    "s = '''1 1 3\n",
    "4 50 1\n",
    "5 50 1\n",
    "6 50 1\n",
    "50 4 1\n",
    "50 5 1\n",
    "50 6 1\n",
    "100 100 10'''\n",
    "quests = [list(map(int, v.split())) for v in s.split('\\n')]"
   ]
  },
  {
   "cell_type": "code",
   "execution_count": 98,
   "metadata": {},
   "outputs": [],
   "source": [
    "n = 5\n",
    "s = '''1 1 2\n",
    "3 1 1\n",
    "1 3 1\n",
    "10 20 5\n",
    "3 3 1'''\n",
    "quests = [tuple(map(int, v.split())) for v in s.split('\\n')]"
   ]
  },
  {
   "cell_type": "code",
   "execution_count": 106,
   "metadata": {},
   "outputs": [
    {
     "name": "stdout",
     "output_type": "stream",
     "text": [
      "3\n",
      "1 1 1\n",
      "1 2 5\n",
      "1 7 5\n",
      "3\n"
     ]
    }
   ],
   "source": [
    "# 15%에서 시간 초과\n",
    "n = int(input())\n",
    "quests = [tuple(map(int, input().split())) for _ in range(n)]\n",
    "\n",
    "nquests = set()\n",
    "init_pnt = 0\n",
    "quest_id = 0\n",
    "for quest in quests:\n",
    "    if quest[0] <= 1 or quest[1] <= 1:\n",
    "        init_pnt += quest[2]\n",
    "    else:\n",
    "        nquests.add((quest[0], quest[1], quest[2], quest_id))\n",
    "        quest_id += 1\n",
    "quests = nquests\n",
    "\n",
    "def recur(str_, int_, remain_pnt, remain_quests, to_delete=()):\n",
    "    global max_cleared\n",
    "    remain_quests.discard(to_delete)\n",
    "    max_cleared = max(max_cleared, n - len(remain_quests))\n",
    "    for s, i, pnt, qid in remain_quests:\n",
    "        if s <= str_ or i <= int_:\n",
    "            n_remain_pnt = remain_pnt + pnt\n",
    "            recur(str_, int_, n_remain_pnt, remain_quests, (s, i, pnt, qid))\n",
    "            continue\n",
    "            \n",
    "        s_diff = s - str_\n",
    "        if s_diff <= remain_pnt:\n",
    "            s_required = max(s_diff, 0)\n",
    "            nstr = str_ + s_required\n",
    "            nint = int_\n",
    "            n_remain_pnt = remain_pnt - s_required + pnt\n",
    "\n",
    "            if n_remain_pnt > visited[nstr][nint]:\n",
    "                visited[nstr][nint] = n_remain_pnt\n",
    "                recur(nstr, nint, n_remain_pnt, remain_quests, (s, i, pnt, qid))\n",
    "\n",
    "        i_diff = i - int_\n",
    "        if i_diff <= remain_pnt:\n",
    "            i_required = max(i_diff, 0)\n",
    "            nstr = str_\n",
    "            nint = int_ + i_required\n",
    "            n_remain_pnt = remain_pnt - i_required + pnt\n",
    "\n",
    "            if n_remain_pnt > visited[nstr][nint]:\n",
    "                visited[nstr][nint] = n_remain_pnt\n",
    "                recur(nstr, nint, n_remain_pnt, remain_quests, (s, i, pnt, qid))\n",
    "                \n",
    "    remain_quests.add(to_delete)\n",
    "\n",
    "if len(quests) < n:\n",
    "    max_cleared = n - len(quests)\n",
    "    \n",
    "    visited = [[-1] * 1001 for _ in range(1001)]\n",
    "    visited[1][1] = init_pnt\n",
    "    \n",
    "    recur(1, 1, init_pnt, quests, to_delete=())\n",
    "            \n",
    "    print(max_cleared)\n",
    "else:\n",
    "    print(0)"
   ]
  },
  {
   "cell_type": "code",
   "execution_count": 115,
   "metadata": {},
   "outputs": [
    {
     "name": "stdout",
     "output_type": "stream",
     "text": [
      "3\n"
     ]
    }
   ],
   "source": [
    "# 맞았음, 해당 능력치로 이미 가능한 것들은 전부 처리한 다음에 돌림\n",
    "n = int(input())\n",
    "quests = [tuple(map(int, input().split())) for _ in range(n)]\n",
    "\n",
    "nquests = set()\n",
    "init_pnt = 0\n",
    "quest_id = 0\n",
    "for quest in quests:\n",
    "    if quest[0] <= 1 or quest[1] <= 1:\n",
    "        init_pnt += quest[2]\n",
    "    else:\n",
    "        nquests.add((quest[0], quest[1], quest[2], quest_id))\n",
    "        quest_id += 1\n",
    "quests = nquests\n",
    "\n",
    "def recur(str_, int_, remain_pnt, remain_quests, to_deletes=set()):\n",
    "    global max_cleared\n",
    "    for to_delete in to_deletes:\n",
    "        remain_quests.discard(to_delete)\n",
    "    max_cleared = max(max_cleared, n - len(remain_quests))\n",
    "    \n",
    "    for s, i, pnt, qid in remain_quests:\n",
    "        s_diff = s - str_\n",
    "        if s_diff <= remain_pnt:\n",
    "            s_required = max(s_diff, 0)\n",
    "            nstr = str_ + s_required\n",
    "            nint = int_\n",
    "            n_remain_pnt = remain_pnt - s_required + pnt\n",
    "            \n",
    "            temp_to_delete = set()\n",
    "            temp_to_delete.add((s, i, pnt, qid))\n",
    "            for remain_quest in remain_quests:\n",
    "                check_s, check_i, check_pnt, check_id = remain_quest\n",
    "                if qid == check_id:\n",
    "                    continue\n",
    "                if check_s <= nstr or check_i <= nint:\n",
    "                    temp_to_delete.add(remain_quest)\n",
    "                    n_remain_pnt += check_pnt\n",
    "\n",
    "            if n_remain_pnt > visited[nstr][nint]:\n",
    "                visited[nstr][nint] = n_remain_pnt\n",
    "                recur(nstr, nint, n_remain_pnt, remain_quests, temp_to_delete)\n",
    "  \n",
    "        i_diff = i - int_\n",
    "        if i_diff <= remain_pnt:\n",
    "            i_required = max(i_diff, 0)\n",
    "            nstr = str_\n",
    "            nint = int_ + i_required\n",
    "            n_remain_pnt = remain_pnt - i_required + pnt\n",
    "\n",
    "            temp_to_delete = set()\n",
    "            temp_to_delete.add((s, i, pnt, qid))\n",
    "            for remain_quest in remain_quests:\n",
    "                check_s, check_i, check_pnt, check_id = remain_quest\n",
    "                if qid == check_id:\n",
    "                    continue\n",
    "                if check_s <= nstr or check_i <= nint:\n",
    "                    temp_to_delete.add(remain_quest)\n",
    "                    n_remain_pnt += check_pnt\n",
    "\n",
    "            if n_remain_pnt > visited[nstr][nint]:\n",
    "                visited[nstr][nint] = n_remain_pnt\n",
    "                recur(nstr, nint, n_remain_pnt, remain_quests, temp_to_delete)\n",
    "                \n",
    "    for to_delete in to_deletes:\n",
    "        remain_quests.add(to_delete)\n",
    "\n",
    "if len(quests) < n:\n",
    "    max_cleared = n - len(quests)\n",
    "    \n",
    "    visited = [[-1] * 1001 for _ in range(1001)]\n",
    "    visited[1][1] = init_pnt\n",
    "    \n",
    "    recur(1, 1, init_pnt, quests, set())\n",
    "            \n",
    "    print(max_cleared)\n",
    "else:\n",
    "    print(0)"
   ]
  },
  {
   "cell_type": "markdown",
   "metadata": {},
   "source": [
    "### 가로등 끄기 2315"
   ]
  },
  {
   "cell_type": "code",
   "execution_count": null,
   "metadata": {},
   "outputs": [],
   "source": [
    "dp[이동한 경로의 가장 왼쪽 번호][이동한 경로의 가장 오른쪽 번호][현재 구간에서 가장 왼쪽인지 오른쪽인지] = 현재까지 소요된 비용\n",
    "\n",
    "모든 가로등의 소요 전력량에서 새로 끈 가로등의 전력량을 빼는 식으로 계산함\n",
    "\n",
    "->\n",
    "\n",
    "top down"
   ]
  },
  {
   "cell_type": "code",
   "execution_count": 24,
   "metadata": {},
   "outputs": [
    {
     "name": "stdout",
     "output_type": "stream",
     "text": [
      "6 5\n",
      "3 2\n",
      "11 10\n",
      "12 18\n",
      "13 19\n",
      "15 15\n",
      "17 19\n",
      "4 4 0 68 0\n",
      "3 4 0 49 136\n",
      "2 4 0 31 185\n",
      "1 4 0 21 216\n",
      "0 4 0 19 384\n",
      "0 5 1 0 650\n",
      "1 5 1 2 342\n",
      "0 5 0 0 370\n",
      "2 5 1 12 340\n",
      "1 5 0 2 412\n",
      "0 5 0 0 428\n",
      "3 5 1 30 332\n",
      "2 5 0 12 482\n",
      "1 5 0 2 494\n",
      "0 5 0 0 510\n",
      "4 5 1 49 136\n",
      "3 5 0 30 332\n",
      "2 5 0 12 362\n",
      "1 5 0 2 374\n",
      "0 5 0 0 390\n",
      "370\n"
     ]
    }
   ],
   "source": [
    "# 시간 초과\n",
    "import sys\n",
    "# sys.setrecursionlimit(3000000)\n",
    "# input = lambda: sys.stdin.readline().rstrip()\n",
    "\n",
    "n, m = map(int, input().split())\n",
    "m -= 1\n",
    "\n",
    "locs = []\n",
    "spents = []\n",
    "for _ in range(n):\n",
    "    d, w = map(int, input().split())\n",
    "    locs.append(d)\n",
    "    spents.append(w)\n",
    "    \n",
    "spents[m] = 0\n",
    "total = sum(spents)\n",
    "leftest_loc = locs[0]\n",
    "rightest_loc = locs[-1]\n",
    "\n",
    "min_spent = float('inf')\n",
    "dp = [[[float('inf')] * 2 for _ in range(1001)] for _ in range(1001)]\n",
    "\n",
    "# is_on_right가 1일 경우 현재 이동한 경로 구간의 오른쪽에, 0이면 왼쪽에 위치해있음\n",
    "def recur(left, right, is_on_the_right, total, cumul):\n",
    "    print(left, right, is_on_the_right, total, cumul)\n",
    "    global min_spent\n",
    "    if locs[left] == leftest_loc and locs[right] == rightest_loc:\n",
    "        min_spent = min(min_spent, cumul)\n",
    "        return\n",
    "    \n",
    "    if is_on_the_right:\n",
    "        current_loc = locs[right]\n",
    "    else:\n",
    "        current_loc = locs[left]\n",
    "    \n",
    "    nleft = left - 1\n",
    "    if nleft >= 0:\n",
    "        new_loc = locs[nleft]\n",
    "        ncumul = cumul + (current_loc - new_loc) * total\n",
    "        ntotal = total - spents[nleft]\n",
    "        \n",
    "        if ncumul < dp[locs[nleft]][locs[right]][0]:\n",
    "            recur(nleft, right, 0, ntotal, ncumul)\n",
    "    \n",
    "    nright = right + 1\n",
    "    if nright < n:\n",
    "        new_loc = locs[nright]\n",
    "        ncumul = cumul + (new_loc - current_loc) * total\n",
    "        ntotal = total - spents[nright]\n",
    "        \n",
    "        if ncumul < dp[locs[left]][locs[nright]][1]:\n",
    "            recur(left, nright, 1, ntotal, ncumul)\n",
    "        \n",
    "recur(m, m, 0, total, 0)\n",
    "print(min_spent)"
   ]
  },
  {
   "cell_type": "code",
   "execution_count": 35,
   "metadata": {},
   "outputs": [
    {
     "name": "stdout",
     "output_type": "stream",
     "text": [
      "1111\n",
      "1111\n",
      "370\n"
     ]
    }
   ],
   "source": [
    "# 맞았음\n",
    "import sys\n",
    "# input = lambda: sys.stdin.readline().rstrip()\n",
    "\n",
    "n, m = map(int, input().split())\n",
    "m -= 1\n",
    "\n",
    "locs = []\n",
    "spents = []\n",
    "for _ in range(n):\n",
    "    d, w = map(int, input().split())\n",
    "    locs.append(d)\n",
    "    spents.append(w)\n",
    "    \n",
    "spents[m] = 0\n",
    "init_total = sum(spents)\n",
    "\n",
    "dp = [[-1] * n for _ in range(n)]\n",
    "\n",
    "def get_next_info(t, c, cur, nex):\n",
    "    nc = c + t * abs(locs[cur] - locs[nex])\n",
    "    nt = t - spents[nex]\n",
    "    return nt, nc\n",
    "\n",
    "def recur(from_, to_):\n",
    "    if dp[from_][to_] != -1:\n",
    "        return dp[from_][to_]\n",
    "    \n",
    "    if to_ == m:\n",
    "        return float('inf'), float('inf')\n",
    "    if from_ == m and (to_ == from_ + 1 or to_ == from_ - 1):\n",
    "        return get_next_info(init_total, 0, m, to_)\n",
    "    \n",
    "    if from_ < to_:\n",
    "        t1, c1 = recur(from_, to_ - 1)\n",
    "        t2, c2 = recur(to_ - 1, from_)\n",
    "    \n",
    "        nt1, nc1 = get_next_info(t1, c1, to_ - 1, to_)\n",
    "        nt2, nc2 = get_next_info(t2, c2, from_, to_)\n",
    "        \n",
    "        if nc1 < nc2:\n",
    "            dp[from_][to_] = (nt1, nc1)\n",
    "            return nt1, nc1\n",
    "        else:\n",
    "            dp[from_][to_] = (nt2, nc2)            \n",
    "            return nt2, nc2 \n",
    "    else:\n",
    "        t1, c1 = recur(from_, to_ + 1)\n",
    "        t2, c2 = recur(to_ + 1, from_)\n",
    "    \n",
    "        nt1, nc1 = get_next_info(t1, c1, to_ + 1, to_)\n",
    "        nt2, nc2 = get_next_info(t2, c2, from_, to_)\n",
    "        \n",
    "        if nc1 < nc2:\n",
    "            dp[from_][to_] = (nt1, nc1)\n",
    "            return nt1, nc1\n",
    "        else:\n",
    "            dp[from_][to_] = (nt2, nc2)\n",
    "            return nt2, nc2    \n",
    "    \n",
    "_, c1 = recur(0, n - 1)\n",
    "_, c2 = recur(n - 1, 0)\n",
    "\n",
    "print(min(c1, c2))"
   ]
  },
  {
   "cell_type": "code",
   "execution_count": 2,
   "metadata": {},
   "outputs": [
    {
     "name": "stdout",
     "output_type": "stream",
     "text": [
      "370\n"
     ]
    }
   ],
   "source": [
    "# 맞았음, return 안함 (속도 개선 효과는 없었음)\n",
    "import sys\n",
    "sys.setrecursionlimit(3000000)\n",
    "# input = lambda: sys.stdin.readline().rstrip()\n",
    "\n",
    "n, m = map(int, input().split())\n",
    "m -= 1\n",
    "\n",
    "locs = []\n",
    "spents = []\n",
    "for _ in range(n):\n",
    "    d, w = map(int, input().split())\n",
    "    locs.append(d)\n",
    "    spents.append(w)\n",
    "    \n",
    "spents[m] = 0\n",
    "init_total = sum(spents)\n",
    "\n",
    "dp = [[-1] * n for _ in range(n)]\n",
    "\n",
    "def get_next_info(t, c, cur, nex):\n",
    "    nc = c + t * abs(locs[cur] - locs[nex])\n",
    "    nt = t - spents[nex]\n",
    "    return nt, nc\n",
    "\n",
    "def recur(from_, to_):\n",
    "    if dp[from_][to_] != -1:\n",
    "        return\n",
    "    \n",
    "    if to_ == m:\n",
    "        dp[from_][to_] = (float('inf'), float('inf'))\n",
    "    elif from_ == m and (to_ == from_ + 1 or to_ == from_ - 1):\n",
    "        dp[from_][to_] = get_next_info(init_total, 0, m, to_)\n",
    "    else:\n",
    "        if from_ < to_:\n",
    "            recur(from_, to_ - 1)\n",
    "            recur(to_ - 1, from_)\n",
    "\n",
    "            t1, c1 = dp[from_][to_ - 1]\n",
    "            t2, c2 = dp[to_ - 1][from_]\n",
    "\n",
    "            nt1, nc1 = get_next_info(t1, c1, to_ - 1, to_)\n",
    "            nt2, nc2 = get_next_info(t2, c2, from_, to_)\n",
    "\n",
    "            if nc1 < nc2:\n",
    "                dp[from_][to_] = (nt1, nc1)\n",
    "            else:\n",
    "                dp[from_][to_] = (nt2, nc2)\n",
    "        else:\n",
    "            recur(from_, to_ + 1)\n",
    "            recur(to_ + 1, from_)\n",
    "\n",
    "            t1, c1 = dp[from_][to_ + 1]\n",
    "            t2, c2 = dp[to_ + 1][from_]\n",
    "\n",
    "            nt1, nc1 = get_next_info(t1, c1, to_ + 1, to_)\n",
    "            nt2, nc2 = get_next_info(t2, c2, from_, to_)\n",
    "\n",
    "            if nc1 < nc2:\n",
    "                dp[from_][to_] = (nt1, nc1)\n",
    "            else:\n",
    "                dp[from_][to_] = (nt2, nc2)\n",
    "    \n",
    "recur(0, n - 1)\n",
    "recur(n - 1, 0)\n",
    "\n",
    "c1 = dp[0][n - 1][1]\n",
    "c2 = dp[n - 1][0][1]\n",
    "\n",
    "print(min(c1, c2))"
   ]
  },
  {
   "cell_type": "code",
   "execution_count": 37,
   "metadata": {},
   "outputs": [
    {
     "name": "stdout",
     "output_type": "stream",
     "text": [
      "370\n"
     ]
    }
   ],
   "source": [
    "# 맞았음, 코드 길이 단축\n",
    "import sys\n",
    "# input = lambda: sys.stdin.readline().rstrip()\n",
    "\n",
    "n, m = map(int, input().split())\n",
    "m -= 1\n",
    "\n",
    "locs = []\n",
    "spents = []\n",
    "for _ in range(n):\n",
    "    d, w = map(int, input().split())\n",
    "    locs.append(d)\n",
    "    spents.append(w)\n",
    "    \n",
    "spents[m] = 0\n",
    "init_total = sum(spents)\n",
    "dp = [[-1] * n for _ in range(n)]\n",
    "\n",
    "def get_next_info(t, c, cur, nex):\n",
    "    nc = c + t * abs(locs[cur] - locs[nex])\n",
    "    nt = t - spents[nex]\n",
    "    return nt, nc\n",
    "\n",
    "def recur(from_, to_):\n",
    "    if dp[from_][to_] != -1:\n",
    "        return dp[from_][to_]\n",
    "    \n",
    "    if to_ == m:\n",
    "        return float('inf'), float('inf')\n",
    "    if from_ == m and (to_ == from_ + 1 or to_ == from_ - 1):\n",
    "        return get_next_info(init_total, 0, m, to_)\n",
    "    \n",
    "    x, y = from_, to_ - 1 if from_ < to_ else to_ + 1\n",
    "    temp = []\n",
    "    for _ in range(2):\n",
    "        t1, c1 = recur(x, y)\n",
    "        temp.append(get_next_info(t1, c1, y, to_))\n",
    "        x, y = y, x\n",
    "    \n",
    "    target = 0 if temp[0][1] < temp[1][1] else 1\n",
    "    dp[from_][to_] = temp[target]\n",
    "    return temp[target]\n",
    "    \n",
    "_, c1 = recur(0, n - 1)\n",
    "_, c2 = recur(n - 1, 0)\n",
    "\n",
    "print(min(c1, c2))"
   ]
  },
  {
   "cell_type": "markdown",
   "metadata": {},
   "source": [
    "### 사수아탕 2419"
   ]
  },
  {
   "cell_type": "code",
   "execution_count": 62,
   "metadata": {},
   "outputs": [
    {
     "name": "stdout",
     "output_type": "stream",
     "text": [
      "3 15\n",
      "6\n",
      "-3\n",
      "1\n",
      "1 3 23 9 -inf 0\n",
      "3 0 -inf 0 23 0\n",
      "0 2 -inf 0 20 8\n",
      "2 0 -inf 0 24 10\n",
      "0 3 23 3 25 1\n",
      "25\n"
     ]
    }
   ],
   "source": [
    "# 틀렸음\n",
    "n, m = map(int, input().split())\n",
    "li = [int(input()) for _ in range(n)]\n",
    "\n",
    "to_add = 0\n",
    "if 0 in li:\n",
    "    to_add += m\n",
    "else:\n",
    "    li.append(0)\n",
    "    \n",
    "n = len(li)\n",
    "li.sort()\n",
    "start_index = li.index(0)\n",
    "dp = [[-1] * n for _ in range(n)]\n",
    "\n",
    "def get_next_value(v, ce, cur, nex):\n",
    "    ce -= abs(li[cur] - li[nex])\n",
    "    ce = max(ce, 0)\n",
    "    v += ce\n",
    "    return v, ce\n",
    "\n",
    "def recur(from_, to_):\n",
    "    if dp[from_][to_] != -1:\n",
    "        return dp[from_][to_]\n",
    "    \n",
    "    if from_ == start_index and to_ == start_index:\n",
    "        return 0, m\n",
    "    if from_ == start_index and (to_ - 1 == start_index or to_ + 1 == start_index):\n",
    "        return get_next_value(0, m, from_, to_)\n",
    "    if to_ == start_index:\n",
    "        return -float('inf'), -float('inf')\n",
    "    \n",
    "    if from_ < to_:\n",
    "        other = to_ - 1\n",
    "    else:\n",
    "        other = to_ + 1\n",
    "        \n",
    "    v1, ce1 = recur(from_, other) # ce: current edible\n",
    "    v2, ce2 = recur(other, from_)\n",
    "\n",
    "    nv1, nce1 = get_next_value(v1, ce1, other, to_)\n",
    "    nv2, nce2 = get_next_value(v2, ce2, from_, to_)\n",
    "\n",
    "    print(from_, to_, nv1, nce1, nv2, nce2)\n",
    "    \n",
    "    if nv1 > nv2:\n",
    "        dp[from_][to_] = (nv1, nce1)\n",
    "        return nv1, nce1\n",
    "    else:\n",
    "        dp[from_][to_] = (nv2, nce2)\n",
    "        return nv2, nce2\n",
    "\n",
    "print(max(recur(n - 1, 0)[0], recur(0, n - 1)[0]) + to_add)"
   ]
  },
  {
   "cell_type": "code",
   "execution_count": null,
   "metadata": {},
   "outputs": [],
   "source": [
    "1 1\n",
    "0\n",
    "-inf"
   ]
  },
  {
   "cell_type": "code",
   "execution_count": null,
   "metadata": {},
   "outputs": [],
   "source": [
    "7 30\n",
    "-11\n",
    "-10\n",
    "-9\n",
    "-1\n",
    "2\n",
    "8\n",
    "9"
   ]
  },
  {
   "cell_type": "code",
   "execution_count": 72,
   "metadata": {},
   "outputs": [
    {
     "name": "stdout",
     "output_type": "stream",
     "text": [
      "3 15\n",
      "6\n",
      "-3\n",
      "1\n",
      "25\n"
     ]
    }
   ],
   "source": [
    "# 맞았음\n",
    "n, m = map(int, input().split())\n",
    "li = [int(input()) for _ in range(n)]\n",
    "\n",
    "to_add = 0\n",
    "if 0 in li:\n",
    "    to_add += m\n",
    "else:\n",
    "    li.append(0)\n",
    "    \n",
    "n = len(li)\n",
    "li.sort()\n",
    "start_index = li.index(0)\n",
    "dp = [[[] for _ in range(n)] for _ in range(n)]\n",
    "\n",
    "def get_next_value(v, ce, cur, nex):\n",
    "    ce -= abs(li[cur] - li[nex])\n",
    "    ce = max(ce, 0)\n",
    "    v += ce\n",
    "    return v, ce\n",
    "\n",
    "def recur(from_, to_):\n",
    "    if dp[from_][to_]:\n",
    "        return dp[from_][to_]\n",
    "    \n",
    "    if from_ == start_index and to_ == start_index:\n",
    "        dp[from_][to_] = [(0, m)]\n",
    "        return [(0, m)]\n",
    "    if from_ == start_index and (to_ - 1 == start_index or to_ + 1 == start_index):\n",
    "        temp = [get_next_value(0, m, from_, to_)]\n",
    "        dp[from_][to_] = temp\n",
    "        return temp\n",
    "    if to_ == start_index:\n",
    "        return [(-float('inf'), -float('inf'))]\n",
    "    \n",
    "    if from_ < to_:\n",
    "        other = to_ - 1\n",
    "    else:\n",
    "        other = to_ + 1\n",
    "        \n",
    "    nvs = []\n",
    "    nces = []\n",
    "    r1 = recur(from_, other) # ce: current edible\n",
    "    for v, ce in r1:\n",
    "        nv, nce = get_next_value(v, ce, other, to_)\n",
    "        nvs.append(nv)\n",
    "        nces.append(nce)\n",
    "    \n",
    "    r2 = recur(other, from_)\n",
    "    for v, ce in r2:\n",
    "        nv, nce = get_next_value(v, ce, from_, to_)\n",
    "        nvs.append(nv)\n",
    "        nces.append(nce)\n",
    "        \n",
    "    cur_max_v = -1\n",
    "    max_v_index = 0\n",
    "    for i in range(len(nvs)):\n",
    "        if nvs[i] > cur_max_v:\n",
    "            cur_max_v = nvs[i]\n",
    "            max_v_index = i\n",
    "    \n",
    "    r = []\n",
    "    nce_to_compare = nces[max_v_index]\n",
    "    for i in range(len(nces)):\n",
    "        if i == max_v_index:\n",
    "            r.append((nvs[i], nces[i]))\n",
    "            continue\n",
    "        if nces[i] > nce_to_compare:\n",
    "            r.append((nvs[i], nces[i]))\n",
    "            \n",
    "    dp[from_][to_] = r\n",
    "    return r\n",
    "\n",
    "max_result = 0\n",
    "for v, _ in recur(n - 1, 0):\n",
    "    max_result = max(max_result, v)\n",
    "for v, _ in recur(0, n - 1):\n",
    "    max_result = max(max_result, v)\n",
    "max_result += to_add\n",
    "\n",
    "print(max_result)"
   ]
  },
  {
   "cell_type": "markdown",
   "metadata": {},
   "source": [
    "### 같은 탑 1126"
   ]
  },
  {
   "cell_type": "code",
   "execution_count": null,
   "metadata": {},
   "outputs": [],
   "source": [
    "a 2 3 3 2 9 9\n",
    "b 5 5 18\n",
    "x 7 4 2"
   ]
  },
  {
   "cell_type": "code",
   "execution_count": null,
   "metadata": {},
   "outputs": [],
   "source": [
    "사용한 모든 블록의 높이의 합 500000\n",
    "한 탑에 사용 가능한 블록의 최대 높이 합 250000\n",
    "\n",
    "1 3 3 2 2 6 5 4\n",
    "\n",
    "브루트포스시\n",
    "1은 왼쪽 탑일 수도, 오른쪽 탑일 수도, 안쓸 수도\n",
    "\n",
    "dp 사용시\n",
    "\n",
    "1부터 250000까지의 탑을 구성할 수 있는 각각의 경우를 알아봄\n",
    "\n",
    "각 탑을 구성할 수 있는 경우는 만약 4라면 1 + 3, 2 + 2, 4의 방법이 있음\n",
    "즉, 해당 값이거나 첫 번째 수는 n // 2까지 돌리고\n",
    "두 번째 수는 n - (n // 2)의 경우를 알아보면 됨\n",
    "\n",
    "이때 만들 수 있는 수인지를 담은 set으로 먼저\n",
    "첫 번째 수와 두 번째 수 모두 가능한지 확인해줌\n",
    "\n",
    "모든 값이 1이고 4의 경우를 알아보면서 1 + 3 내의\n",
    "모든 조합을 보는데 한번 4를 이루는 경우에 포함된 인덱스는 포함하지 않음 "
   ]
  },
  {
   "cell_type": "code",
   "execution_count": 163,
   "metadata": {},
   "outputs": [
    {
     "name": "stdout",
     "output_type": "stream",
     "text": [
      "8\n",
      "1 1 1 1 1 1 1 1\n",
      "3\n"
     ]
    }
   ],
   "source": [
    "# 필요한 경우가 누락되는 상황이 발생할 수 있음\n",
    "n = int(input())\n",
    "li = list(map(int, input().split()))\n",
    "\n",
    "dp = [[] for _ in range(250001)]\n",
    "check = [set() for _ in range(250001)]\n",
    "can_make = []\n",
    "can_make_st = set()\n",
    "\n",
    "def update(a):\n",
    "    b = h - a\n",
    "    if b not in can_make_st:\n",
    "        return\n",
    "    for a_case in dp[a]:\n",
    "        if a_case & check[h]:\n",
    "            continue\n",
    "        for b_case in dp[b]:\n",
    "            if a_case & b_case:\n",
    "                continue\n",
    "            if a_case & check[h]:\n",
    "                continue\n",
    "            if b_case & check[h]:\n",
    "                continue\n",
    "            h_case = a_case | b_case\n",
    "            check[h] |= h_case\n",
    "            dp[h].append(h_case)\n",
    "            if h not in can_make_st:\n",
    "                can_make_st.add(h)\n",
    "                can_make.append(h)    \n",
    "\n",
    "max_height = -1\n",
    "current_check_index = 0\n",
    "for h in range(1, 250001):\n",
    "    while current_check_index < n:\n",
    "        if li[current_check_index] == h:\n",
    "            current_check_index += 1\n",
    "            if h not in can_make_st:\n",
    "                can_make_st.add(h)\n",
    "                can_make.append(h) \n",
    "            dp[h].append({current_check_index})\n",
    "        else:\n",
    "            break\n",
    "            \n",
    "    a_max = h // 2\n",
    "    if a_max in can_make:\n",
    "        update(a)\n",
    "    for a in can_make:\n",
    "        if a >= a_max:\n",
    "            break\n",
    "        update(a)\n",
    "          \n",
    "    if len(dp[h]) >= 2:\n",
    "        max_height = h\n",
    "        \n",
    "print(max_height)"
   ]
  },
  {
   "cell_type": "markdown",
   "metadata": {},
   "source": [
    "### 팰린드롬 분할 1509"
   ]
  },
  {
   "cell_type": "code",
   "execution_count": 8,
   "metadata": {},
   "outputs": [
    {
     "name": "stdout",
     "output_type": "stream",
     "text": [
      "BBCDDECAECBDABADDCEBACCCBDCAABDBADD\n",
      "DD 2\n",
      "ABDBA 5\n",
      "CA 2\n",
      "BD 2\n",
      "CCC 3\n",
      "BA 2\n",
      "CE 2\n",
      "DD 2\n",
      "BA 2\n",
      "A 1\n",
      "BD 2\n",
      "EC 2\n",
      "CA 2\n",
      "E 1\n",
      "CDD 3\n",
      "BB 2\n",
      "16\n"
     ]
    }
   ],
   "source": [
    "# dp 테이블에서 대각선 줄이 일부 겹치게 되면 결과가 달라질 수 있음\n",
    "a = input()\n",
    "\n",
    "n = len(a)\n",
    "b = a[::-1]\n",
    "dp = [[0] * (n + 2) for _ in range(n + 2)]\n",
    "\n",
    "for i in range(1, n + 1):\n",
    "    for j in range(1, n + 1):\n",
    "        if a[i - 1] == b[j - 1]:\n",
    "            dp[i][j] = dp[i - 1][j - 1] + 1\n",
    "            \n",
    "current = n\n",
    "count = 0\n",
    "while current >= 1:\n",
    "    part_max_continued = 0\n",
    "    for j in range(1, n + 1):\n",
    "        if dp[current + 1][j + 1] >= 1:\n",
    "            continue\n",
    "        part_max_continued = max(part_max_continued, dp[current][j])\n",
    "    \n",
    "    print(a[current - part_max_continued: current], part_max_continued)\n",
    "    current -= part_max_continued\n",
    "    count += 1\n",
    "    \n",
    "print(count)"
   ]
  },
  {
   "cell_type": "code",
   "execution_count": null,
   "metadata": {},
   "outputs": [],
   "source": [
    "# 시간 초과\n",
    "s = 'a' * 2500\n",
    "n = len(s)\n",
    "\n",
    "def check(value):\n",
    "    for i in range(len(value) // 2):\n",
    "        if value[i] != value[len(value) - 1 - i]:\n",
    "            return False\n",
    "    return True\n",
    "\n",
    "dp = [dict(), dict()]\n",
    "dp[1].update({s[0]: 1})\n",
    "for i in range(1, n):\n",
    "    value = s[i]\n",
    "    cur = i % 2\n",
    "    nex = cur ^ 1\n",
    "    \n",
    "    dp[nex] = dict()\n",
    "    for k, c in dp[cur].items():\n",
    "        if check(k):\n",
    "            if not (value in dp[nex] and c + 1 >= dp[nex][value]):\n",
    "                dp[nex][value] = c + 1\n",
    "            \n",
    "        k += value\n",
    "        if k in dp[nex] and c >= dp[nex][k]:\n",
    "            continue\n",
    "        dp[nex][k] = c\n",
    "    \n",
    "min_count = float('inf')\n",
    "for k, c in dp[nex].items():\n",
    "    if check(k):\n",
    "        if c < min_count:\n",
    "            min_count = c\n",
    "        \n",
    "print(min_count)"
   ]
  },
  {
   "cell_type": "code",
   "execution_count": null,
   "metadata": {},
   "outputs": [],
   "source": [
    "# 시간 초과\n",
    "sr = 'a' * 2500\n",
    "n = len(sr)\n",
    "\n",
    "def check(s, e):\n",
    "    part_len = e - s + 1\n",
    "    for i in range(s, s + part_len // 2):\n",
    "        if sr[i] != sr[e - (i - s)]:\n",
    "            return False\n",
    "    return True\n",
    "\n",
    "dp = [dict() for _ in range(n)]\n",
    "dp[0].update({(0, 0): 1})\n",
    "for i in range(1, n):\n",
    "    value = sr[i]\n",
    "    for (s, e), c in dp[i - 1].items():\n",
    "        if check(s, e):\n",
    "            if not ((i, i) in dp[i] and c + 1 >= dp[i][(i, i)]):\n",
    "                dp[i][(i, i)] = c + 1\n",
    "            \n",
    "        e += 1\n",
    "        if (s, e) in dp[i] and c >= dp[i][(s, e)]:\n",
    "            continue\n",
    "        dp[i][(s, e)] = c\n",
    "    \n",
    "min_count = float('inf')\n",
    "for (s, e), c in dp[n - 1].items():\n",
    "    if check(s, e):\n",
    "        if c < min_count:\n",
    "            min_count = c\n",
    "        \n",
    "print(min_count)"
   ]
  },
  {
   "cell_type": "code",
   "execution_count": null,
   "metadata": {},
   "outputs": [],
   "source": [
    "BBCDDECAECBDABADDCEBACCCBDCAABDBADD"
   ]
  }
 ],
 "metadata": {
  "kernelspec": {
   "display_name": "Python 3",
   "language": "python",
   "name": "python3"
  },
  "language_info": {
   "codemirror_mode": {
    "name": "ipython",
    "version": 3
   },
   "file_extension": ".py",
   "mimetype": "text/x-python",
   "name": "python",
   "nbconvert_exporter": "python",
   "pygments_lexer": "ipython3",
   "version": "3.7.3"
  }
 },
 "nbformat": 4,
 "nbformat_minor": 4
}
