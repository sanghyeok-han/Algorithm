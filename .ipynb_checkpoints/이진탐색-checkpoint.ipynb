{
 "cells": [
  {
   "cell_type": "markdown",
   "metadata": {},
   "source": [
    "* 분할 정복 알고리즘 (Divide and Conquer)\n",
    "  * Divide: 문제를 하나 또는 둘 이상으로 나눈다.\n",
    "  * Conquer: 나눠진 문제가 충분히 작고, 해결이 가능하다면 해결하고, 그렇지 않다면 다시 나눈다.\n",
    "  \n",
    "* 이진 탐색\n",
    "  * Divide: 리스트를 두 개의 서브 리스트로 나눈다.\n",
    "  * Conquer:\n",
    "    * 검색할 숫자 (search) > 중간값이면, 뒷부분의 서브 리스트에서 검색할 숫자를 찾는다.\n",
    "    * 검색할 숫자 (search) < 중간값이면, 앞부분의 서브 리스트에서 검색할 숫자를 찾는다.    "
   ]
  },
  {
   "cell_type": "markdown",
   "metadata": {},
   "source": [
    "* 분할 정복 알고리즘은 주로 재귀 용법을 사용한다."
   ]
  },
  {
   "cell_type": "code",
   "execution_count": 33,
   "metadata": {},
   "outputs": [],
   "source": [
    "## 이진 탐색 직접 구현\n",
    "def binary_search(data, search):\n",
    "\n",
    "    if len(data) == 1:\n",
    "        if data[0] == search:\n",
    "            return True\n",
    "        else:\n",
    "            return False\n",
    "    \n",
    "    mid_index = len(data) // 2\n",
    "    if data[mid_index] == search:\n",
    "        return True\n",
    "    \n",
    "    if data[mid_index] > search:\n",
    "        data = data[:mid_index]\n",
    "    else:\n",
    "        if mid_index == len(data) - 1:\n",
    "            return False\n",
    "        data = data[mid_index + 1:]\n",
    "    return binary_search(data, search)"
   ]
  },
  {
   "cell_type": "code",
   "execution_count": 35,
   "metadata": {},
   "outputs": [],
   "source": [
    "## 이진 탐색 구현\n",
    "def binary_search(data, search):\n",
    "    if len(data) == 1 and search == data[0]:\n",
    "        return True\n",
    "    if len(data) == 1 and search != data[0]:\n",
    "        return False\n",
    "    ## 방어 코드\n",
    "    if len(data) == 0:\n",
    "        return False\n",
    "    \n",
    "    medium = len(data) // 2\n",
    "    if search == data[medium]:\n",
    "        return True\n",
    "    else:\n",
    "        if search >data[medium]:\n",
    "            return binary_search(data[medium:], search)\n",
    "        else:\n",
    "            return binary_search(data[:medium], search)"
   ]
  },
  {
   "cell_type": "code",
   "execution_count": 36,
   "metadata": {},
   "outputs": [
    {
     "data": {
      "text/plain": [
       "False"
      ]
     },
     "execution_count": 36,
     "metadata": {},
     "output_type": "execute_result"
    }
   ],
   "source": [
    "binary_search([2, 3, 4, 6, 7], 3.5)"
   ]
  },
  {
   "cell_type": "code",
   "execution_count": 47,
   "metadata": {},
   "outputs": [],
   "source": [
    "import random\n",
    "data_list = random.sample(range(100), 10)\n",
    "data_list.sort()"
   ]
  },
  {
   "cell_type": "code",
   "execution_count": 48,
   "metadata": {},
   "outputs": [
    {
     "data": {
      "text/plain": [
       "[1, 22, 55, 56, 66, 68, 71, 76, 88, 89]"
      ]
     },
     "execution_count": 48,
     "metadata": {},
     "output_type": "execute_result"
    }
   ],
   "source": [
    "data_list"
   ]
  },
  {
   "cell_type": "code",
   "execution_count": 50,
   "metadata": {},
   "outputs": [
    {
     "data": {
      "text/plain": [
       "True"
      ]
     },
     "execution_count": 50,
     "metadata": {},
     "output_type": "execute_result"
    }
   ],
   "source": [
    "binary_search(data_list, 71)"
   ]
  },
  {
   "cell_type": "markdown",
   "metadata": {},
   "source": [
    "시간복잡도: O($logn$)"
   ]
  }
 ],
 "metadata": {
  "kernelspec": {
   "display_name": "Python 3",
   "language": "python",
   "name": "python3"
  },
  "language_info": {
   "codemirror_mode": {
    "name": "ipython",
    "version": 3
   },
   "file_extension": ".py",
   "mimetype": "text/x-python",
   "name": "python",
   "nbconvert_exporter": "python",
   "pygments_lexer": "ipython3",
   "version": "3.7.3"
  }
 },
 "nbformat": 4,
 "nbformat_minor": 4
}
