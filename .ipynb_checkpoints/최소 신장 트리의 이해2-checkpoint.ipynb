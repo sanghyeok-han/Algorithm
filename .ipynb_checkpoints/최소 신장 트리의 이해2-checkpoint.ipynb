{
 "cells": [
  {
   "cell_type": "markdown",
   "metadata": {},
   "source": [
    "### 1. 신장 트리란?\n",
    "* Spanning Tree, 또는 신장 트리라고 불리움(Spanning Tree가 보다 자연스러워 보임)\n",
    "* 원래의 그래프의 모든 노드가 연결되어 있으면서 트리의 속성을 만족하는 그래프\n",
    "* 신장 트리의 조건\n",
    "  * 본래의 그래프의 모든 노드를 포함해야함\n",
    "  * 모든 노드가 서로 연결\n",
    "  * 트리의 속성을 만족시킴(사이클이 존재하지 않음)"
   ]
  },
  {
   "cell_type": "markdown",
   "metadata": {},
   "source": [
    "### 2. 최소 신장 트리\n",
    "* Minimum Spanning Tree, MST라고 불리움\n",
    "* 가능한 Spanning Tree 중에서, 간선의 가중치 합이 최소인 Spanning Tree를 지칭함"
   ]
  },
  {
   "cell_type": "markdown",
   "metadata": {},
   "source": [
    "### 3. 최소 신장 트리 알고리즘\n",
    "* 그래프에서 최소 신장 트리를 찾을 수 있는 알고리즘이 존재함\n",
    "* 대표적인 최소 신장 트리 알고리즘\n",
    "  * Kruskal's algorithm (크루스칼 알고리즘), Prim's algorithm (프림 알고리즘)"
   ]
  },
  {
   "cell_type": "markdown",
   "metadata": {},
   "source": [
    "### 4. 크루스칼 알고리즘\n",
    "1. 모든 정점을 독립적인 집합으로 만든다.\n",
    "2. 모든 간선을 비용을 기준으로 정렬하고, 비용이 작은 간선부터 양 끝의 두 정점을 비교한다.\n",
    "3. 두 정점의 최상위 정점을 확인하고, 서로 다를 경우 두 정점을 연결한다. (최소 신장 트리는 사이클이 없으므로, 사이클이 생기지 않도록 하는 것임)  "
   ]
  },
  {
   "cell_type": "markdown",
   "metadata": {},
   "source": [
    "> 탐욕 알고리즘을 기초로 하고 있음 (당장 눈 앞의 최소 비용을 선택해서, 결과적으로 최적의 솔루션을 찾음)"
   ]
  },
  {
   "cell_type": "markdown",
   "metadata": {},
   "source": [
    "### 5. Union-Find 알고리즘\n",
    "* Disjoint Set을 표현할 때 사용하는 알고리즘으로 트리 구조를 활용하는 알고리즘\n",
    "* 간단하게, 노드들 중에 연결된 노드를 찾거나, 노드들을 서로 연결할 때 (합칠 때) 사용\n",
    "* Disjoint Set이란\n",
    "  * 서로 중복되지 않는 부분 집합들로 나눠진 원소들에 대한 정보를 저장하고 조작하는 자료구조\n",
    "  * 공통 원소가 없는 (서로소) 상호 배타적인 부분 집합들로 나눠진 원소들에 대한 자료구조를 의미함\n",
    "  * Disjoint Set = 서로소 집합 자료구조"
   ]
  },
  {
   "cell_type": "markdown",
   "metadata": {},
   "source": [
    "### Union-Find 알고리즘의 고려할 점\n",
    "* Union 순서에 따라서, 최악의 경우 링크드 리스트와 같은 형태가 될 수 있음.\n",
    "* 이 때는 Find/Union 시 계산량이 O(N)이 될 수 있으므로, 해당 문제를 해결하기 위해, union-by-rank, path compression 기법을 사용함"
   ]
  },
  {
   "cell_type": "markdown",
   "metadata": {},
   "source": [
    "#### union-by-rank 기법\n",
    "* 각 트리에 대해 높이(rank)를 기억해 두고,\n",
    "* Union시 두 트리의 높이(rank)가 다르면, 높이가 작은 트리를 높이가 큰 트리에 붙임 (즉, 높이가 큰 트리의 루트 노드가 합친 집합의 루트 노드가 되게 함)\n",
    "* 높이가 h-1인 두 개의 트리를 합칠 때는 한 쪽의 트리 높이를 1 증가시켜주고, 다른 쪽의 트리를 해당 트리에 붙여줌\n",
    "- 초기화시, 모든 원소는 높이(rank) 가 0 인 개별 집합인 상태에서, 하나씩 원소를 합칠 때, union-by-rank 기법을 사용한다면,\n",
    "  - 높이가 h 인 트리가 만들어지려면, 높이가 h - 1 인 두 개의 트리가 합쳐져야 함\n",
    "  - 높이가 h - 1 인 트리를 만들기 위해 최소 n개의 원소가 필요하다면, 높이가 h 인 트리가 만들어지기 위해서는 최소 2n개의 원소가 필요함\n",
    "  - 따라서 union-by-rank 기법을 사용하면, union/find 연산의 시간복잡도는 O(N) 이 아닌, $ O(log{N}) $ 로 낮출 수 있음"
   ]
  },
  {
   "cell_type": "markdown",
   "metadata": {},
   "source": [
    "### path compression\n",
    "- Find를 실행한 노드에서 거쳐간 노드를 루트에 다이렉트로 연결하는 기법\n",
    "- Find를 실행한 노드는 이후부터는 루트 노드를 한번에 알 수 있음\n",
    "\n",
    "- union-by-rank 와 path compression 기법 사용시 시간 복잡도는 다음 계산식을 만족함이 증명되었음\n",
    "  - $ O(M log^*{N}) $\n",
    "  - $ log^*{N} $ 은 다음 값을 가짐이 증명되었음\n",
    "    - N이 $ 2^{65536} $ 값을 가지더라도, $ log^*{N} $ 의 값이 5의 값을 가지므로, 거의 O(1), 즉 상수값에 가깝다고 볼 수 있음"
   ]
  },
  {
   "cell_type": "code",
   "execution_count": 42,
   "metadata": {},
   "outputs": [],
   "source": [
    "mygraph = {\n",
    "    'vertices': ['A', \"B\", \"C\", \"D\", \"E\", \"F\", \"G\"],\n",
    "    'edges': [(7, 'A', 'B'),\n",
    "              (5, 'A', 'D'),\n",
    "              (7, 'B', 'A'),\n",
    "              (8, 'B', 'C'),\n",
    "              (9, 'B', 'D'),\n",
    "              (7, 'B', 'E'),\n",
    "              (8, 'C', 'B'),\n",
    "              (5, 'C', 'E'),\n",
    "              (5, 'D', 'A'),\n",
    "              (9, 'D', 'B'),\n",
    "              (7, 'D', 'E'),\n",
    "              (6, 'D', 'F'),\n",
    "              (5, 'E', 'C'),\n",
    "              (7, 'E', 'D'),\n",
    "              (8, 'E', 'F'),\n",
    "              (9, 'E', 'G'),\n",
    "              (6, 'F', 'D'),\n",
    "              (8, 'F', 'E'),\n",
    "              (11, 'F', 'G'),\n",
    "              (9, 'G', 'E'),\n",
    "              (11, 'G', 'F')\n",
    "    ]\n",
    "}"
   ]
  },
  {
   "cell_type": "code",
   "execution_count": 21,
   "metadata": {},
   "outputs": [],
   "source": [
    "## 크루스칼 알고리즘 직접 구현\n",
    "def kruskal(graph):\n",
    "    graph['edges'] = sorted(graph['edges'], key=lambda x: x[0])\n",
    "    root_info = {node: {\"root\": node, \"parent\": None, \"children\": [], \"descendants\": [], \"rank\": 0} for node in graph[\"vertices\"]}\n",
    "    selected_edges = []\n",
    "    \n",
    "    for edge in graph['edges']:\n",
    "        current_node1 = edge[1]\n",
    "        current_node2 = edge[2]\n",
    "\n",
    "        while current_node1 != root_info[current_node1][\"root\"] or current_node2 != root_info[current_node2][\"root\"]:\n",
    "            if current_node1 != root_info[current_node1][\"root\"]:\n",
    "                current_node1 = root_info[current_node1][\"root\"]\n",
    "            elif current_node2 != root_info[current_node2][\"root\"]:\n",
    "                current_node2 = root_info[current_node2][\"root\"]\n",
    "        \n",
    "        if current_node1 == current_node2:\n",
    "            continue\n",
    "        else:\n",
    "            selected_edges.append(edge)\n",
    "            if root_info[current_node1][\"rank\"] >= root_info[current_node2][\"rank\"]:\n",
    "                root_info[current_node2][\"parent\"] = current_node1\n",
    "                root_info[current_node1][\"children\"].append(current_node2)\n",
    "                root_info[current_node1][\"descendants\"].extend([current_node2] + root_info[current_node2][\"descendants\"])\n",
    "                for node in root_info[current_node1][\"descendants\"]:\n",
    "                    root_info[node][\"root\"] = current_node1\n",
    "                if root_info[current_node1][\"rank\"] == root_info[current_node2][\"rank\"]:\n",
    "                    root_info[current_node1][\"rank\"] += 1\n",
    "            else:\n",
    "                root_info[current_node1][\"parent\"] = current_node2\n",
    "                root_info[current_node2][\"children\"].append(current_node1)\n",
    "                root_info[current_node2][\"descendants\"].extend([current_node1] + root_info[current_node1][\"descendants\"])\n",
    "                for node in root_info[current_node2][\"descendants\"]:\n",
    "                    root_info[node][\"root\"] = current_node2\n",
    "        \n",
    "    total_distance = sum([v[0] for v in selected_edges])\n",
    "    return total_distance, selected_edges, root_info"
   ]
  },
  {
   "cell_type": "code",
   "execution_count": 37,
   "metadata": {},
   "outputs": [],
   "source": [
    "## 크루스칼 알고리즘 직접 구현\n",
    "def kruskal(graph):\n",
    "    graph['edges'] = sorted(graph['edges'], key=lambda x: x[0])\n",
    "    root_info = {node: {\"root\": node, \"rank\": 0} for node in graph[\"vertices\"]}\n",
    "    selected_edges = []\n",
    "    \n",
    "    for edge in graph['edges']:\n",
    "        current_node1 = edge[1]\n",
    "        current_node2 = edge[2]\n",
    "\n",
    "        while current_node1 != root_info[current_node1][\"root\"] or current_node2 != root_info[current_node2][\"root\"]:\n",
    "            if current_node1 != root_info[current_node1][\"root\"]:\n",
    "                current_node1 = root_info[current_node1][\"root\"]\n",
    "            elif current_node2 != root_info[current_node2][\"root\"]:\n",
    "                current_node2 = root_info[current_node2][\"root\"]\n",
    "        \n",
    "        if current_node1 == current_node2:\n",
    "            continue\n",
    "        else:\n",
    "            selected_edges.append(edge)\n",
    "            if root_info[current_node1][\"rank\"] >= root_info[current_node2][\"rank\"]:\n",
    "                root_info[current_node2][\"root\"] = current_node1\n",
    "                if root_info[current_node1][\"rank\"] == root_info[current_node2][\"rank\"]:\n",
    "                    root_info[current_node1][\"rank\"] += 1\n",
    "            else:\n",
    "                root_info[current_node1][\"root\"] = current_node2\n",
    "    return selected_edges"
   ]
  },
  {
   "cell_type": "code",
   "execution_count": 38,
   "metadata": {},
   "outputs": [
    {
     "data": {
      "text/plain": [
       "[(5, 'A', 'D'),\n",
       " (5, 'C', 'E'),\n",
       " (6, 'D', 'F'),\n",
       " (7, 'A', 'B'),\n",
       " (7, 'B', 'E'),\n",
       " (9, 'E', 'G')]"
      ]
     },
     "execution_count": 38,
     "metadata": {},
     "output_type": "execute_result"
    }
   ],
   "source": [
    "kruskal(mygraph)"
   ]
  },
  {
   "cell_type": "code",
   "execution_count": 39,
   "metadata": {},
   "outputs": [],
   "source": [
    "## 크루스칼 알고리즘 find, union 함수 직접 구현\n",
    "parent = dict()\n",
    "rank = dict()\n",
    "\n",
    "def make_set(node):\n",
    "    parent[node] = node\n",
    "    rank[node] = 0\n",
    "\n",
    "def find(node):\n",
    "    mid_nodes= []\n",
    "    while parent[node] != node:\n",
    "        mid_nodes.append(node)\n",
    "        node = parent[node]\n",
    "    \n",
    "    for mid_node in mid_nodes:\n",
    "        parent[mid_node] = node\n",
    "    return node\n",
    "\n",
    "def union(node_v, node_u):\n",
    "    node_v = find(node_v)\n",
    "    node_u = find(node_u)\n",
    "    \n",
    "    if rank[node_v] >= rank[node_u]:\n",
    "        parent[node_u] = node_v\n",
    "        \n",
    "        if rank[node_v] == rank[node_u]:\n",
    "            rank[node_v] += 1\n",
    "    else:\n",
    "        parent[node_v] = node_u\n",
    "        \n",
    "    \n",
    "def kruskal(graph):\n",
    "    mst = list()\n",
    "    \n",
    "    # 1. 초기화\n",
    "    for node in graph['vertices']:\n",
    "        make_set(node)\n",
    "    \n",
    "    # 2. 간선 weight 기반 sorting\n",
    "    edges = graph['edges']\n",
    "    edges.sort()\n",
    "    \n",
    "    # 3. 간선 연결 (사이클 없는)\n",
    "    for edge in edges:\n",
    "        weight, node_v, node_u = edge\n",
    "        if find(node_v) != find(node_u):\n",
    "            union(node_v, node_u)\n",
    "            mst.append(edge)\n",
    "            \n",
    "    return mst"
   ]
  },
  {
   "cell_type": "code",
   "execution_count": 41,
   "metadata": {},
   "outputs": [],
   "source": [
    "## 크루스칼 알고리즘 구현\n",
    "parent = dict()\n",
    "rank = dict()\n",
    "\n",
    "def make_set(node):\n",
    "    parent[node] = node\n",
    "    rank[node] = 0\n",
    "\n",
    "def find(node):\n",
    "    # path comression 기법\n",
    "    if parent[node] != node:\n",
    "        parent[node] = find(parent[node])\n",
    "    return parent[node]\n",
    "\n",
    "def union(node_v, node_u):\n",
    "    root1 = find(node_v)\n",
    "    root2 = find(node_u)\n",
    "    \n",
    "    # union-by-rank 기법\n",
    "    if rank[root1] > rank[root2]:\n",
    "        parent[root2] = root1\n",
    "    else:\n",
    "        parent[root1] = root2\n",
    "        \n",
    "        if rank[root1] == rank[root2]:\n",
    "            rank[root2] += 1\n",
    "    \n",
    "def kruskal(graph):\n",
    "    mst = list()\n",
    "    \n",
    "    # 1. 초기화\n",
    "    for node in graph['vertices']:\n",
    "        make_set(node)\n",
    "    \n",
    "    # 2. 간선 weight 기반 sorting\n",
    "    edges = graph['edges']\n",
    "    edges.sort()\n",
    "    \n",
    "    # 3. 간선 연결 (사이클 없는)\n",
    "    for edge in edges:\n",
    "        weight, node_v, node_u = edge\n",
    "        if find(node_v) != find(node_u):\n",
    "            union(node_v, node_u)\n",
    "            mst.append(edge)\n",
    "            \n",
    "    return mst"
   ]
  },
  {
   "cell_type": "code",
   "execution_count": 43,
   "metadata": {},
   "outputs": [
    {
     "data": {
      "text/plain": [
       "[(5, 'A', 'D'),\n",
       " (5, 'C', 'E'),\n",
       " (6, 'D', 'F'),\n",
       " (7, 'A', 'B'),\n",
       " (7, 'B', 'E'),\n",
       " (9, 'E', 'G')]"
      ]
     },
     "execution_count": 43,
     "metadata": {},
     "output_type": "execute_result"
    }
   ],
   "source": [
    "kruskal(mygraph)"
   ]
  },
  {
   "cell_type": "markdown",
   "metadata": {},
   "source": [
    "### 시간 복잡도\n",
    "\n",
    "* 크루스컬 알고리즘의 시간 복잡도는 $O(E log E)$\n",
    "\n",
    "1. 모든 정점을 독립적인 집합으로 만듦 $O(V)$\n",
    "2. 모든 간선을 비용을 기준으로 정렬할 때 퀵소트를 사용한다면 $O(E log E)$\n",
    "3. 두 정점의 최상위 정점을 확인하고, 서로 다를 경우 두 정점을 연결하는 과정에서 union-by-rank와 path compression 기법 사용시 시간 복잡도는 결국 상수값에 가까움 ($O(1)$). 이를 모든 간선에서 비교하므로 $O(E)$\n",
    "4. 1 + 2 + 3 = $O(E log E)$"
   ]
  }
 ],
 "metadata": {
  "kernelspec": {
   "display_name": "Python 3",
   "language": "python",
   "name": "python3"
  },
  "language_info": {
   "codemirror_mode": {
    "name": "ipython",
    "version": 3
   },
   "file_extension": ".py",
   "mimetype": "text/x-python",
   "name": "python",
   "nbconvert_exporter": "python",
   "pygments_lexer": "ipython3",
   "version": "3.7.3"
  }
 },
 "nbformat": 4,
 "nbformat_minor": 4
}
