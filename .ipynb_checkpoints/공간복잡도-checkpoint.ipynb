{
 "cells": [
  {
   "cell_type": "markdown",
   "metadata": {},
   "source": [
    "총 필요 저장 공간\n",
    "- 고정 공간 (알고리즘과 무관한 공간): 코드 저장 공간, 단순 변수 및 상수\n",
    "- 가변 공간 (알고리즘 실행과 관련있는 공간): 실행 중 동적으로 필요한 공간\n",
    "- $S(P) = c + S_p(n)$ \n",
    "- 가변 공간을 고려하는 것이 더 중요함"
   ]
  },
  {
   "cell_type": "markdown",
   "metadata": {},
   "source": [
    "O(1)\n",
    "\n",
    "```python\n",
    "    def factorial(n):\n",
    "        for index in range(2, n + 1):\n",
    "            fac = fac * index\n",
    "        return fac\n",
    "```"
   ]
  },
  {
   "cell_type": "markdown",
   "metadata": {},
   "source": [
    "O($n$)\n",
    "\n",
    "```python\n",
    "    def factorial(n):\n",
    "        if n > 1:\n",
    "            return n * factorial(n - 1)\n",
    "        else:\n",
    "            return 1\n",
    "```"
   ]
  }
 ],
 "metadata": {
  "kernelspec": {
   "display_name": "Python 3",
   "language": "python",
   "name": "python3"
  },
  "language_info": {
   "codemirror_mode": {
    "name": "ipython",
    "version": 3
   },
   "file_extension": ".py",
   "mimetype": "text/x-python",
   "name": "python",
   "nbconvert_exporter": "python",
   "pygments_lexer": "ipython3",
   "version": "3.7.3"
  }
 },
 "nbformat": 4,
 "nbformat_minor": 4
}
