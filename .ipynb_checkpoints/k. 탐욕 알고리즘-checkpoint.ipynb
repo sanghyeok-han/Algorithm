{
 "cells": [
  {
   "cell_type": "markdown",
   "metadata": {},
   "source": [
    "### 거스름돈 5585"
   ]
  },
  {
   "cell_type": "markdown",
   "metadata": {},
   "source": [
    "4:56 5:00"
   ]
  },
  {
   "cell_type": "code",
   "execution_count": 7,
   "metadata": {},
   "outputs": [
    {
     "name": "stdout",
     "output_type": "stream",
     "text": [
      "620\n",
      "7\n"
     ]
    }
   ],
   "source": [
    "# 맞았음\n",
    "n = int(input())\n",
    "remain = 1000 - n\n",
    "li = [500, 100, 50, 10, 5, 1]\n",
    "\n",
    "count = 0\n",
    "for v in li:\n",
    "    count += remain // v\n",
    "    remain %= v\n",
    "    \n",
    "    if remain == 0:\n",
    "        break\n",
    "print(count)"
   ]
  },
  {
   "cell_type": "code",
   "execution_count": null,
   "metadata": {},
   "outputs": [],
   "source": [
    "# 예시코드 반영해서 수정해봄\n",
    "remain = 1000 - int(input())\n",
    "count = 0\n",
    "\n",
    "for v in [500, 100, 50, 10, 5, 1]:\n",
    "    count += remain // v\n",
    "    remain %= v\n",
    "    \n",
    "print(count)"
   ]
  },
  {
   "cell_type": "markdown",
   "metadata": {},
   "source": [
    "### 뒤집기 1439"
   ]
  },
  {
   "cell_type": "markdown",
   "metadata": {},
   "source": [
    "5:07 5.20\n",
    "그리디로 다시 풀기 5.23 5.32"
   ]
  },
  {
   "cell_type": "code",
   "execution_count": 18,
   "metadata": {},
   "outputs": [
    {
     "name": "stdout",
     "output_type": "stream",
     "text": [
      "00\n"
     ]
    }
   ],
   "source": [
    "s = input()"
   ]
  },
  {
   "cell_type": "code",
   "execution_count": 21,
   "metadata": {},
   "outputs": [
    {
     "name": "stdout",
     "output_type": "stream",
     "text": [
      "00110\n",
      "1\n"
     ]
    }
   ],
   "source": [
    "# 맞았음\n",
    "s = input()\n",
    "\n",
    "if len(s) <= 1:\n",
    "    print(0)\n",
    "else:\n",
    "    count = 0\n",
    "    former_value = s[0]\n",
    "    for v in s[1:]:\n",
    "        if v != former_value:\n",
    "            count += 1\n",
    "        former_value = v\n",
    "        \n",
    "print(count // 2 + count % 2)"
   ]
  },
  {
   "cell_type": "code",
   "execution_count": 5,
   "metadata": {},
   "outputs": [
    {
     "name": "stdout",
     "output_type": "stream",
     "text": [
      "01\n",
      "1\n"
     ]
    }
   ],
   "source": [
    "# 다시 풀기, 맞았음\n",
    "from collections import Counter\n",
    "\n",
    "s = input()\n",
    "if len(s) <= 1:\n",
    "    print(0)\n",
    "else:\n",
    "    li = []\n",
    "    former_value = s[0]\n",
    "    li.append(former_value)\n",
    "    for v in s[1:]:\n",
    "        if v != former_value:\n",
    "            li.append(v)\n",
    "            former_value = v\n",
    "            \n",
    "    c = Counter(li)\n",
    "    if len(c) <= 1:\n",
    "        print(0)\n",
    "    else:\n",
    "        print(c.most_common()[1][1])"
   ]
  },
  {
   "cell_type": "code",
   "execution_count": 6,
   "metadata": {},
   "outputs": [
    {
     "name": "stdout",
     "output_type": "stream",
     "text": [
      "01001\n",
      "2\n"
     ]
    }
   ],
   "source": [
    "# 예시 정답\n",
    "data = input()\n",
    "count0 = 0\n",
    "count1 = 0\n",
    "\n",
    "if data[0] == '1':\n",
    "    count0 += 1\n",
    "else:\n",
    "    count1 += 1\n",
    "    \n",
    "for i in range(len(data) - 1):\n",
    "    if data[i] != data[i + 1]:\n",
    "        if data[i + 1] == '1':\n",
    "            count0 += 1\n",
    "        else:\n",
    "            count1 += 1\n",
    "\n",
    "print(min(count0, count1))"
   ]
  },
  {
   "cell_type": "markdown",
   "metadata": {},
   "source": [
    "### 등수 매기기 2012"
   ]
  },
  {
   "cell_type": "markdown",
   "metadata": {},
   "source": [
    "6:11 6.17"
   ]
  },
  {
   "cell_type": "code",
   "execution_count": 7,
   "metadata": {},
   "outputs": [
    {
     "name": "stdout",
     "output_type": "stream",
     "text": [
      "5\n",
      "1\n",
      "5\n",
      "3\n",
      "1\n",
      "2\n"
     ]
    }
   ],
   "source": [
    "n = int(input())\n",
    "li = []\n",
    "\n",
    "for _ in range(n):\n",
    "    li.append(int(input()))"
   ]
  },
  {
   "cell_type": "code",
   "execution_count": 8,
   "metadata": {},
   "outputs": [
    {
     "name": "stdout",
     "output_type": "stream",
     "text": [
      "3\n"
     ]
    }
   ],
   "source": [
    "# 맞았음\n",
    "import sys\n",
    "input = sys.stdin.readline\n",
    "\n",
    "n = int(input())\n",
    "li = []\n",
    "\n",
    "for _ in range(n):\n",
    "    li.append(int(input()))\n",
    "\n",
    "result = 0\n",
    "for i, v in enumerate(sorted(li), 1):\n",
    "    result += abs(i - v)\n",
    "    \n",
    "print(result)"
   ]
  },
  {
   "cell_type": "markdown",
   "metadata": {},
   "source": [
    "### 배 1092"
   ]
  },
  {
   "cell_type": "markdown",
   "metadata": {},
   "source": [
    "7:02 ~ 7.05, 9.51 10.38"
   ]
  },
  {
   "cell_type": "code",
   "execution_count": 11,
   "metadata": {},
   "outputs": [
    {
     "name": "stdout",
     "output_type": "stream",
     "text": [
      "3\n",
      "6 8 9\n",
      "5\n",
      "2 5 2 4 7\n"
     ]
    }
   ],
   "source": [
    "n = int(input())\n",
    "weight_limits = list(map(int, input().split()))\n",
    "\n",
    "m = int(input())\n",
    "weights = list(map(int, input().split()))"
   ]
  },
  {
   "cell_type": "code",
   "execution_count": 8,
   "metadata": {},
   "outputs": [
    {
     "name": "stdout",
     "output_type": "stream",
     "text": [
      "2\n"
     ]
    }
   ],
   "source": [
    "n = int(input())\n",
    "weight_limits = list(map(int, input().split()))\n",
    "\n",
    "m = int(input())\n",
    "weights = list(map(int, input().split()))\n",
    "\n",
    "if max(weight_limits) < max(weights):\n",
    "    print(-1)\n",
    "else:\n",
    "    "
   ]
  },
  {
   "cell_type": "code",
   "execution_count": 12,
   "metadata": {},
   "outputs": [
    {
     "data": {
      "text/plain": [
       "[2, 5, 2, 4, 7]"
      ]
     },
     "execution_count": 12,
     "metadata": {},
     "output_type": "execute_result"
    }
   ],
   "source": [
    "weights"
   ]
  },
  {
   "cell_type": "code",
   "execution_count": 20,
   "metadata": {},
   "outputs": [
    {
     "data": {
      "text/plain": [
       "[9, 8, 6]"
      ]
     },
     "execution_count": 20,
     "metadata": {},
     "output_type": "execute_result"
    }
   ],
   "source": [
    "weight_limits = sorted(weight_limits, reverse=True)\n",
    "weight_limits"
   ]
  },
  {
   "cell_type": "code",
   "execution_count": 41,
   "metadata": {},
   "outputs": [],
   "source": [
    "possible_count_li = [0] * n"
   ]
  },
  {
   "cell_type": "code",
   "execution_count": 42,
   "metadata": {},
   "outputs": [],
   "source": [
    "for i in range(len(weight_limits)):\n",
    "    for j in range(len(weights)):\n",
    "        if weights[j] <= weight_limits[i]:\n",
    "            possible_count_li[i] += 1"
   ]
  },
  {
   "cell_type": "code",
   "execution_count": 44,
   "metadata": {},
   "outputs": [
    {
     "data": {
      "text/plain": [
       "[5, 5, 4]"
      ]
     },
     "execution_count": 44,
     "metadata": {},
     "output_type": "execute_result"
    }
   ],
   "source": [
    "possible_count_li"
   ]
  },
  {
   "cell_type": "code",
   "execution_count": 43,
   "metadata": {},
   "outputs": [
    {
     "data": {
      "text/plain": [
       "[9, 8, 6]"
      ]
     },
     "execution_count": 43,
     "metadata": {},
     "output_type": "execute_result"
    }
   ],
   "source": [
    "weight_limits"
   ]
  },
  {
   "cell_type": "code",
   "execution_count": 45,
   "metadata": {},
   "outputs": [
    {
     "data": {
      "text/plain": [
       "[2, 5, 2, 4, 7]"
      ]
     },
     "execution_count": 45,
     "metadata": {},
     "output_type": "execute_result"
    }
   ],
   "source": [
    "weights"
   ]
  },
  {
   "cell_type": "code",
   "execution_count": 87,
   "metadata": {},
   "outputs": [
    {
     "name": "stdout",
     "output_type": "stream",
     "text": [
      "3\n",
      "6 8 9\n",
      "5\n",
      "2 5 2 4 7\n",
      "2\n"
     ]
    }
   ],
   "source": [
    "n = int(input())\n",
    "weight_limits = list(map(int, input().split()))\n",
    "\n",
    "m = int(input())\n",
    "weights = list(map(int, input().split()))\n",
    "\n",
    "if max(weight_limits) < max(weights):\n",
    "    print(-1)\n",
    "else:\n",
    "    weight_limits = sorted(weight_limits)\n",
    "\n",
    "    possible_count_li = [0] * n\n",
    "\n",
    "    for i in range(len(weight_limits)):\n",
    "        for j in range(len(weights)):\n",
    "            if weights[j] <= weight_limits[i]:\n",
    "                possible_count_li[i] += 1\n",
    "\n",
    "    count = 0\n",
    "    while possible_count_li != [0] * n:\n",
    "        count += 1\n",
    "        for i in range(len(weight_limits)):\n",
    "            if possible_count_li[i] != 0:\n",
    "                possible_count_li = list(map(lambda x: x - 1 if x > 0 else 0, possible_count_li))\n",
    "    print(count)"
   ]
  },
  {
   "cell_type": "code",
   "execution_count": 85,
   "metadata": {},
   "outputs": [
    {
     "data": {
      "text/plain": [
       "True"
      ]
     },
     "execution_count": 85,
     "metadata": {},
     "output_type": "execute_result"
    }
   ],
   "source": [
    "possible_count_li == [0] * 5"
   ]
  }
 ],
 "metadata": {
  "kernelspec": {
   "display_name": "Python 3",
   "language": "python",
   "name": "python3"
  },
  "language_info": {
   "codemirror_mode": {
    "name": "ipython",
    "version": 3
   },
   "file_extension": ".py",
   "mimetype": "text/x-python",
   "name": "python",
   "nbconvert_exporter": "python",
   "pygments_lexer": "ipython3",
   "version": "3.7.3"
  }
 },
 "nbformat": 4,
 "nbformat_minor": 4
}
