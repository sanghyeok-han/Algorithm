{
 "cells": [
  {
   "cell_type": "raw",
   "metadata": {},
   "source": [
    "트리: Node와 Branch를 이용해서 사이클을 이루지 않도록 한 구조"
   ]
  },
  {
   "cell_type": "raw",
   "metadata": {},
   "source": [
    "Node\n",
    "Root Node\n",
    "Level\n",
    "Parent Node\n",
    "Child Node\n",
    "Leaf Node\n",
    "Sibling (Brother Node)\n",
    "Depth"
   ]
  },
  {
   "cell_type": "raw",
   "metadata": {},
   "source": [
    "이진 트리: 최대 Branch가 2인 트리"
   ]
  },
  {
   "cell_type": "markdown",
   "metadata": {},
   "source": [
    "### 이진 탐색 트리: 오른쪽 노드가 왼쪽 노드보다 작은 값을 가지는 이진 트리\n",
    "\n",
    "장점: 탐색 속도 개선\n",
    "단점: 구현이 복잡"
   ]
  },
  {
   "cell_type": "code",
   "execution_count": 1,
   "metadata": {},
   "outputs": [],
   "source": [
    "class Node():\n",
    "    def __init__(self, value):\n",
    "        self.value = value\n",
    "        self.left = None\n",
    "        self.right = None\n",
    "        \n",
    "class NodeMgmt:\n",
    "    def __init__(self, head):\n",
    "        self.head = head\n",
    "    \n",
    "    def insert(self, value):\n",
    "        self.current_node = self.head\n",
    "        while True:\n",
    "            if value < self.current_node.value:\n",
    "                if self.current_node.left != None:\n",
    "                    self.current_node = self.current_node.left\n",
    "                else:\n",
    "                    self.current_node.left = Node(value)\n",
    "                    break\n",
    "            else:\n",
    "                if self.current_node.right != None:\n",
    "                    self.current_node = self.current_node.right\n",
    "                else:\n",
    "                    self.current_node.right = Node(value)\n",
    "                    break\n",
    "                \n",
    "    def search(self, value):  \n",
    "        self.current_node = self.head\n",
    "        while self.current_node:\n",
    "            if self.current_node.value == value:\n",
    "                return True\n",
    "            elif value < self.current_node.value:\n",
    "                self.current_node = self.current_node.left\n",
    "            else:\n",
    "                self.current_node = self.current_node.right\n",
    "        return False\n",
    "    \n",
    "    def delete(self, value):\n",
    "        searched = False\n",
    "        self.current_node = self.head\n",
    "        self.parent = self.head\n",
    "        while self.current_node:\n",
    "            if self.current_node.value == value:\n",
    "                searched = True\n",
    "                break\n",
    "            elif value < self.current_node.value:\n",
    "                self.parent = self.current_node\n",
    "                self.current_node = self.current_node.left\n",
    "            else:\n",
    "                self.parent = self.current_node\n",
    "                self.current_node = self.current_node.right\n",
    "        if searched == False:\n",
    "            return False\n",
    "        \n",
    "        ### 이후부터 Case들을 분리해서, 코드 작성\n",
    "        \n",
    "        # Case1. 삭제할 노드가 Leaf 노드인 경우\n",
    "        if self.current_node.left == None and self.current_node.right == None:\n",
    "            if value < self.parent.value:\n",
    "                self.parent.left = None\n",
    "            else:\n",
    "                self.parent.right = None\n",
    "            del self.current_node\n",
    "        # Case2. 삭제할 노드가 Child Node를 한 개 가지고 있을 경우\n",
    "        if self.current_node.left != None and self.current_node.right == None:\n",
    "            if value < self.parent.value:\n",
    "                self.parent.left = self.current_node.left\n",
    "            else:\n",
    "                self.parent.right = self.current_node.left\n",
    "        elif self.current_node.left == None and self.current_node.right != None:\n",
    "            if value < self.parent.value:\n",
    "                self.parent.left = self.current_node.right\n",
    "            else:\n",
    "                self.parent.right = self.current_node.right\n",
    "        # Case3. 삭제할 노드가 Child Node를 두 개 가지고 있을 경우\n",
    "        if self.current_node.left != None and self.current_node.right != None:\n",
    "            if value < self.parent.value: # case 3-1\n",
    "                self.change_node = self.current_node.right\n",
    "                self.change_node_parent = self.current_node.right\n",
    "                while self.change_node.left != None:\n",
    "                    self.change_node_parent = self.change_node\n",
    "                    self.change_node = self.change_node.left\n",
    "                          \n",
    "                if self.change_node.right != None: # case 3-1-2\n",
    "                    self.change_node_parent.left = self.change_node.right\n",
    "                else: # case 3-1-1\n",
    "                    self.change_node.parent.left = None\n",
    "              \n",
    "                self.parent.left = self.change_node\n",
    "                self.change_node.left = self.current_node.left\n",
    "                self.change_node.right = self.current_node.right\n",
    "            else: # case 3-2\n",
    "                self.change_node = self.current_node.right\n",
    "                self.change_node_parent = self.current_node.right\n",
    "                while self.change_node.left != None:\n",
    "                    self.change_node_parent = self.change_node\n",
    "                    self.change_node = self.change_node.left\n",
    "                    \n",
    "                if self.change_node.right != None: # case 3-2-2\n",
    "                    self.change_node_parent.left = self.change_node.right\n",
    "                else: # case 3-2-1\n",
    "                    self.change_node.parent.left = None   \n",
    "                    \n",
    "                self.parent.right = self.change_node\n",
    "                self.change_node.left = self.current_node.left\n",
    "                self.change_node.right = self.current_node.right"
   ]
  },
  {
   "cell_type": "code",
   "execution_count": 34,
   "metadata": {},
   "outputs": [],
   "source": [
    "head = Node(1)\n",
    "BST = NodeMgmt(head)\n",
    "BST.insert(2)\n",
    "BST.insert(3)\n",
    "BST.insert(0)\n",
    "BST.insert(4)\n",
    "BST.insert(8)"
   ]
  },
  {
   "cell_type": "code",
   "execution_count": 35,
   "metadata": {},
   "outputs": [
    {
     "data": {
      "text/plain": [
       "False"
      ]
     },
     "execution_count": 35,
     "metadata": {},
     "output_type": "execute_result"
    }
   ],
   "source": [
    "BST.search(44)"
   ]
  },
  {
   "cell_type": "code",
   "execution_count": 36,
   "metadata": {},
   "outputs": [
    {
     "data": {
      "text/plain": [
       "True"
      ]
     },
     "execution_count": 36,
     "metadata": {},
     "output_type": "execute_result"
    }
   ],
   "source": [
    "BST.search(3)"
   ]
  },
  {
   "cell_type": "markdown",
   "metadata": {},
   "source": [
    "### 0-999 숫자 중에서 임의로 100개를 추출해서,이진 탐색 트리에 입력, 검색, 삭제"
   ]
  },
  {
   "cell_type": "code",
   "execution_count": 38,
   "metadata": {},
   "outputs": [],
   "source": [
    "import random\n",
    "\n",
    "# 0~999 중, 100 개의 숫자 랜덤 선택\n",
    "\n",
    "\n",
    "bst_nums = set()\n",
    "while len(bst_nums) != 100:\n",
    "    bst_nums.add(random.randint(0, 999))\n",
    "# print(bst_nums)\n",
    "\n",
    "# 선택한 100개의 숫자를 이진 탐색 트리에 입력, 임의로 루트 노드를 500를 넣기로 함\n",
    "head = Node(500)\n",
    "binary_tree = NodeMgmt(head)\n",
    "for num in bst_nums:\n",
    "    binary_tree.insert(num)\n",
    "    \n",
    "# 입력한 100개의 숫자 검색(검색 기능 확인)\n",
    "for num in bst_nums:\n",
    "    if binary_tree.search(num) == False:\n",
    "        print(\"search failed\")\n",
    "        \n",
    "# 입력한 100개의 숫자 중 10개의 숫자를 랜덤 선택\n",
    "delete_nums = set()\n",
    "bst_nums = list(bst_nums)\n",
    "while len(delete_nums) != 10:\n",
    "    delete_nums.add(bst_nums[random.randint(0, 99)])\n",
    "\n",
    "# 선택한 10개의 숫자를 삭제(삭제 기능 확인)\n",
    "for del_num in delete_nums:\n",
    "    if binary_tree.delete(del_num) == False:\n",
    "        print(\"delete failed\", delete_num)"
   ]
  },
  {
   "cell_type": "code",
   "execution_count": 1,
   "metadata": {},
   "outputs": [],
   "source": [
    "# 노드 직접 구현 시도\n",
    "class Node():\n",
    "    def __init__(self, data, next = []):\n",
    "        self.data = data\n",
    "        self.next = next\n",
    "        \n",
    "# 노드 관리 클래스 직접 구현 시도\n",
    "class NodeMGMT():\n",
    "    def __init__(self, data):\n",
    "        self.root = Node(data)\n",
    "    \n",
    "    def add(data):\n",
    "        node = self.root\n",
    "        if len(node.next) == 0:\n",
    "            node.next.append(Node(data))\n",
    "            return\n",
    "        while node.next: \n",
    "            if len(node.next) == 1:\n",
    "                if node.next[0].data < data:\n",
    "                    node.next.append(Node(data))\n",
    "                    return\n",
    "                elif node.next[0] > data:\n",
    "                    node.next.append(Node(data))\n",
    "                    node.next.reverse()\n",
    "                    return\n",
    "            else:\n",
    "                pass\n",
    "\n",
    "            \n",
    "####################\n",
    "            \n",
    "    # 서치 메소드 직접 구현\n",
    "    def search(self, value):\n",
    "        self.current_node = self.head\n",
    "        while self.current_node:\n",
    "            if value < self.current_node.value:\n",
    "                self.current_node = self.current_node.left\n",
    "            elif value > self.current_node.value:\n",
    "                self.current_node = self.current.node.right\n",
    "            else:\n",
    "                return self.current_node\n",
    "        else:\n",
    "            return None      \n",
    "        \n",
    "        \n",
    "         # 노드 삭제 직접 구현\n",
    "    def delete(self, value):\n",
    "        self.current_node = self.head\n",
    "        while self.current_node:\n",
    "            if self.current_node.value == value:\n",
    "                break\n",
    "            elif value < self.current_node.value:\n",
    "                parent_node = self.current_node\n",
    "                self.current_node = self.current_node.left\n",
    "            else:\n",
    "                parent_node = self.current_node\n",
    "                self.current_node = self.current_node.right\n",
    "        return False\n",
    "    \n",
    "        # Leaf 노드인 경우\n",
    "        if self.current_node.left == None and self.current_node.right == None:\n",
    "            if parent_node.left == self.current_node:\n",
    "                parent_node.left = None\n",
    "            else:\n",
    "                parent_node.right = None\n",
    "        # 브랜치가 두 개 있는 경우\n",
    "        elif self.current_node.left != None and self.current_node.right != None:\n",
    "            \n",
    "        # 브랜치가 하나 있는 경우\n",
    "        else:\n",
    "            temp = self.current_node\n",
    "            if parent_node.left == self.current_node:\n",
    "                if self.current_node.left != None:\n",
    "                    parent_node.left = self.current_node.left\n",
    "                else:\n",
    "                    parent_node.left = self.current_node.right\n",
    "            elif parent_node.right == self.current_node:\n",
    "                if self.current_node.left != None:\n",
    "                    parent_node.right = self.current_node.left\n",
    "                else:\n",
    "                    parent_node.right = self.current_node.right\n",
    "            del temp"
   ]
  }
 ],
 "metadata": {
  "kernelspec": {
   "display_name": "Python 3",
   "language": "python",
   "name": "python3"
  },
  "language_info": {
   "codemirror_mode": {
    "name": "ipython",
    "version": 3
   },
   "file_extension": ".py",
   "mimetype": "text/x-python",
   "name": "python",
   "nbconvert_exporter": "python",
   "pygments_lexer": "ipython3",
   "version": "3.7.3"
  }
 },
 "nbformat": 4,
 "nbformat_minor": 4
}
