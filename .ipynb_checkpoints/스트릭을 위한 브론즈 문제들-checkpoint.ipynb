{
 "cells": [
  {
   "cell_type": "raw",
   "metadata": {},
   "source": [
    "tier:b5..b2 - solved_by:$me solved:..554\n",
    "푼 사람 수 내림차순 정렬"
   ]
  },
  {
   "cell_type": "markdown",
   "metadata": {},
   "source": [
    "뱃지, 배경 얻은 사람 1등 도전용"
   ]
  },
  {
   "cell_type": "code",
   "execution_count": 6,
   "metadata": {},
   "outputs": [
    {
     "name": "stdout",
     "output_type": "stream",
     "text": [
      "asdad\n",
      "no\n"
     ]
    }
   ],
   "source": [
    "### 성택이의 은밀한 비밀번호 25372\n",
    "import sys\n",
    "input = lambda: sys.stdin.readline().rstrip()\n",
    "\n",
    "for _ in range(int(input())):\n",
    "    s = input()\n",
    "\n",
    "    if 6 <= len(s) <= 9:\n",
    "        print('yes')\n",
    "    else:\n",
    "        print('no')"
   ]
  },
  {
   "cell_type": "markdown",
   "metadata": {},
   "source": [
    "컴퓨터 only"
   ]
  },
  {
   "cell_type": "code",
   "execution_count": null,
   "metadata": {},
   "outputs": [],
   "source": [
    "### https://www.acmicpc.net/problem/4909 Judging Olympia\n",
    "import sys\n",
    "input = lambda: sys.stdin.readline().rstrip()\n",
    "\n",
    "while True:\n",
    "    li = list(map(int, input().split()))\n",
    "    n = len(li)\n",
    "\n",
    "    sv = sum(li)\n",
    "    if sv == 0:\n",
    "        break\n",
    "    \n",
    "    sv -= max(li) + min(li)\n",
    "\n",
    "    r = sv / (n - 2)\n",
    "\n",
    "    if r == int(r):\n",
    "        print(int(r))\n",
    "    else:\n",
    "        print(r)"
   ]
  },
  {
   "cell_type": "markdown",
   "metadata": {},
   "source": [
    "외출시 사용"
   ]
  },
  {
   "cell_type": "code",
   "execution_count": null,
   "metadata": {},
   "outputs": [],
   "source": [
    "### https://www.acmicpc.net/problem/3276 ICONS\n",
    "n = int(input())\n",
    "\n",
    "rr, rc = 0, 0\n",
    "min_needed = 9999999\n",
    "\n",
    "for r in range(1, 11):\n",
    "    for c in range(1, 11):\n",
    "        if r * c >= n:\n",
    "            if r + c < min_needed:\n",
    "                min_needed = r + c\n",
    "                rr = r\n",
    "                rc = c\n",
    "                \n",
    "print(rr, rc)\n",
    "\n",
    "\n",
    "### https://www.acmicpc.net/problem/6190 Another Cow Number Game\n",
    "n = int(input())\n",
    "\n",
    "c = 0\n",
    "while n != 1:\n",
    "    c += 1\n",
    "    \n",
    "    if n % 2 == 1:\n",
    "        n = n * 3 + 1\n",
    "    else:\n",
    "        n //= 2\n",
    "        \n",
    "print(c)\n",
    "\n",
    "\n",
    "### https://www.acmicpc.net/problem/15858 Simple Arithmetic\n",
    "from decimal import Decimal, getcontext\n",
    "\n",
    "getcontext().prec = 50\n",
    "\n",
    "a, b, c = map(Decimal, input().split())\n",
    "\n",
    "r = a * b / c\n",
    "\n",
    "print('{:.15f}'.format(r))\n",
    "\n",
    "\n",
    "### https://www.acmicpc.net/problem/4758 Filling Out the Team\n",
    "conds = [[4.5, 150, 200], [6.0, 300, 500], [5.0, 200, 300]]\n",
    "pos = ['Wide Receiver', 'Lineman', 'Quarterback']\n",
    "\n",
    "while True:\n",
    "    a, b, c = input().split()\n",
    "    \n",
    "    a = float(a)\n",
    "    b = int(b)\n",
    "    c = int(c)\n",
    "    \n",
    "    if a == b == c == 0:\n",
    "        break\n",
    "    \n",
    "    rs = []\n",
    "    for i, (aa, bb, cc) in enumerate(conds):\n",
    "        if a <= aa and b >= bb and c >= cc:\n",
    "            rs.append(pos[i])\n",
    "            \n",
    "    if not rs:\n",
    "        print('No positions')\n",
    "    else:\n",
    "        print(*rs)"
   ]
  }
 ],
 "metadata": {
  "kernelspec": {
   "display_name": "Python 3",
   "language": "python",
   "name": "python3"
  },
  "language_info": {
   "codemirror_mode": {
    "name": "ipython",
    "version": 3
   },
   "file_extension": ".py",
   "mimetype": "text/x-python",
   "name": "python",
   "nbconvert_exporter": "python",
   "pygments_lexer": "ipython3",
   "version": "3.7.4"
  }
 },
 "nbformat": 4,
 "nbformat_minor": 4
}
