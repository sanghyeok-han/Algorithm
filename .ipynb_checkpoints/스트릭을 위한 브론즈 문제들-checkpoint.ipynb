{
 "cells": [
  {
   "cell_type": "code",
   "execution_count": 2,
   "metadata": {},
   "outputs": [
    {
     "name": "stdout",
     "output_type": "stream",
     "text": [
      "2\n",
      "abba\n",
      "aab\n",
      "bab\n",
      "abb bba aab\n",
      "abb bba bab\n",
      "Yes\n",
      "asdf\n",
      "asdf\n",
      "asdf\n",
      "No\n"
     ]
    }
   ],
   "source": [
    "### https://www.acmicpc.net/problem/6892 Fix\n",
    "def check_is_fixed(a, b):\n",
    "    a_len = len(a)\n",
    "    b_len = len(b)\n",
    "    \n",
    "    if a_len < b_len:\n",
    "        a, b = b, a\n",
    "        a_len, b_len = b_len, a_len\n",
    "        \n",
    "    if a_len == b_len:\n",
    "        if a == b:\n",
    "            return True\n",
    "        else:\n",
    "            return False\n",
    "    else:\n",
    "        if a[:b_len] == b or a[-b_len:] == b:\n",
    "            return True\n",
    "        else:\n",
    "            return False\n",
    "\n",
    "for _ in range(int(input())):\n",
    "    li = [input() for _ in range(3)]\n",
    "    \n",
    "    is_fixed = False\n",
    "    for i in range(3):\n",
    "        for j in range(i + 1, 3):\n",
    "            if check_is_fixed(li[i], li[j]):\n",
    "                is_fixed = True\n",
    "                break\n",
    "                \n",
    "    if is_fixed:\n",
    "        print('No')\n",
    "    else:\n",
    "        print('Yes')\n",
    "        \n",
    "        \n",
    "### https://www.acmicpc.net/problem/26946 Tomater\n",
    "n, d = map(int, input().split())\n",
    "li = list(map(int, input().split()))\n",
    "\n",
    "st = set()\n",
    "for v in li:\n",
    "    st |= set(range(max(1, v - d), min(n + 1, v + d + 1)))\n",
    "    \n",
    "print(len(st))        \n",
    "\n",
    "\n",
    "### https://www.acmicpc.net/problem/26513 Egg Drop\n",
    "while True:\n",
    "    n, k = map(int, input().split())\n",
    "    if n == k == 0:\n",
    "        break\n",
    "\n",
    "    cur_lowest_break = k\n",
    "    cur_highest_safe = 1\n",
    "\n",
    "    for _ in range(n):\n",
    "        floor, status = input().split()\n",
    "        floor = int(floor)\n",
    "\n",
    "        if status == 'SAFE':\n",
    "            cur_highest_safe = max(cur_highest_safe, floor)\n",
    "        else:\n",
    "            cur_lowest_break = min(cur_lowest_break, floor)\n",
    "\n",
    "    print(min(cur_lowest_break, cur_highest_safe + 1), max(cur_highest_safe, cur_lowest_break - 1))"
   ]
  }
 ],
 "metadata": {
  "kernelspec": {
   "display_name": "Python 3",
   "language": "python",
   "name": "python3"
  },
  "language_info": {
   "codemirror_mode": {
    "name": "ipython",
    "version": 3
   },
   "file_extension": ".py",
   "mimetype": "text/x-python",
   "name": "python",
   "nbconvert_exporter": "python",
   "pygments_lexer": "ipython3",
   "version": "3.7.4"
  }
 },
 "nbformat": 4,
 "nbformat_minor": 4
}
