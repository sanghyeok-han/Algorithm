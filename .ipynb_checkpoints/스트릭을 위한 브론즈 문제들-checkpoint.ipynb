{
 "cells": [
  {
   "cell_type": "raw",
   "metadata": {},
   "source": [
    "tier:b5..b1 - solved_by:$me\n",
    "푼 사람 수 내림차순 정렬"
   ]
  },
  {
   "cell_type": "code",
   "execution_count": 5,
   "metadata": {},
   "outputs": [
    {
     "name": "stdout",
     "output_type": "stream",
     "text": [
      "1\n",
      "@@@@@\n",
      "@   @\n",
      "@   @\n",
      "@   @\n",
      "@@@@@\n"
     ]
    }
   ],
   "source": [
    "### 골뱅이 찍기 - 정사각형 23794\n",
    "n = int(input())\n",
    "\n",
    "print('@' + '@' * n + '@')\n",
    "for _ in range(n):\n",
    "    print('@' + ' ' * n + '@') \n",
    "print('@' + '@' * n + '@')\n",
    "\n",
    "\n",
    "### 골뱅이 찍기 - ㅂ 23808\n",
    "n = int(input())\n",
    "\n",
    "for _ in range(n * 2):\n",
    "    print('@' * n + '   ' * n + '@' * n)\n",
    "for _ in range(n):\n",
    "    print('@' * n * 5)\n",
    "for _ in range(n):\n",
    "    print('@' * n + '   ' * n + '@' * n)\n",
    "for _ in range(n):\n",
    "    print('@' * n * 5)\n",
    "    \n",
    "    \n",
    "### 골뱅이 찍기 - 돌아간 ㅈ 23809\n",
    "n = int(input())\n",
    "\n",
    "for _ in range(n):\n",
    "    print('@' * n + ' ' * n * 3 + '@' * n)\n",
    "for _ in range(n):\n",
    "    print('@' * n + ' ' * n * 2 + '@' * n)\n",
    "for _ in range(n):\n",
    "    print('@' * n * 3)\n",
    "for _ in range(n):\n",
    "    print('@' * n + ' ' * n * 2 + '@' * n)\n",
    "for _ in range(n):\n",
    "    print('@' * n + ' ' * n * 3 + '@' * n)  \n",
    "    \n",
    "    \n",
    "### 골뱅이 찍기 - 뒤집힌 ㅋ 23810\n",
    "n = int(input())\n",
    "\n",
    "for _ in range(n):\n",
    "    print('@' * n * 5)\n",
    "for _ in range(n):\n",
    "    print('@' * n)\n",
    "for _ in range(n):\n",
    "    print('@' * n * 5)\n",
    "for _ in range(n * 2):\n",
    "    print('@' * n)\n",
    "\n",
    "    \n",
    "### 골뱅이 찍기 - 뒤집힌 ㅋ 23810\n",
    "n = int(input())\n",
    "\n",
    "for _ in range(n):\n",
    "    print('@' * n * 5)\n",
    "for _ in range(n):\n",
    "    print('@' * n)\n",
    "for _ in range(n):\n",
    "    print('@' * n * 5)\n",
    "for _ in range(n * 2):\n",
    "    print('@' * n)\n",
    "    \n",
    "    \n",
    "### 골뱅이 찍기 - ㅌ 23811\n",
    "n = int(input())\n",
    "\n",
    "for _ in range(n):\n",
    "    print('@' * n * 5)\n",
    "for _ in range(n):\n",
    "    print('@' * n)\n",
    "for _ in range(n):\n",
    "    print('@' * n * 5)\n",
    "for _ in range(n):\n",
    "    print('@' * n)\n",
    "for _ in range(n):\n",
    "    print('@' * n * 5)"
   ]
  },
  {
   "cell_type": "markdown",
   "metadata": {},
   "source": [
    "### 틀린 문제들"
   ]
  },
  {
   "cell_type": "code",
   "execution_count": null,
   "metadata": {},
   "outputs": [],
   "source": [
    "### Fan Death 15633\n",
    "n = int(input())\n",
    "\n",
    "total = 0\n",
    "for mod in range(1, int(n ** 0.5) + 1):\n",
    "    if n % mod:\n",
    "        total += mod + n // mod\n",
    "\n",
    "value = n ** 0.5\n",
    "if value == int(value):\n",
    "    total -= int(value)\n",
    "    \n",
    "print(total * 5 - 24)\n",
    "\n",
    "\n",
    "### Minimum Swap 7805\n",
    "while True:\n",
    "    try:\n",
    "        s = input()\n",
    "\n",
    "        sli = sorted(s)\n",
    "\n",
    "        diff_count = 0\n",
    "        for i in range(len(s)):\n",
    "            if s[i] != sli[i]:\n",
    "                diff_count += 1\n",
    "\n",
    "        total = diff_count // 2\n",
    "        if diff_count % 2 == 1:\n",
    "            total += 1\n",
    "\n",
    "        print(total)\n",
    "    except:\n",
    "        break"
   ]
  }
 ],
 "metadata": {
  "kernelspec": {
   "display_name": "Python 3",
   "language": "python",
   "name": "python3"
  },
  "language_info": {
   "codemirror_mode": {
    "name": "ipython",
    "version": 3
   },
   "file_extension": ".py",
   "mimetype": "text/x-python",
   "name": "python",
   "nbconvert_exporter": "python",
   "pygments_lexer": "ipython3",
   "version": "3.7.3"
  }
 },
 "nbformat": 4,
 "nbformat_minor": 4
}
