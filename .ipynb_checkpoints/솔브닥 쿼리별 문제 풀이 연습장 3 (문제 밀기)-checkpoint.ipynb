{
 "cells": [
  {
   "cell_type": "markdown",
   "metadata": {},
   "source": [
    "tier:g4..g3 solved:400.. -solved_by:hsh8086\n",
    "\n",
    "#### 시프트 마음대로"
   ]
  },
  {
   "cell_type": "markdown",
   "metadata": {},
   "source": [
    "### 게리맨더링 2 17779"
   ]
  },
  {
   "cell_type": "code",
   "execution_count": null,
   "metadata": {},
   "outputs": [],
   "source": [
    "n = int(input())\n",
    "populs = [list(map(int, input().split())) for _ in range(n)]\n",
    "\n",
    "def get_popul_diff(n, d1, d2, x, y):\n",
    "    li = [[0] * n for _ in range(n)]\n",
    "    \n",
    "    p5 = 0\n",
    "    nx, ny = x - 1, y - 1\n",
    "    for i in range(d1):\n",
    "        nx += 1\n",
    "        ny -= 1\n",
    "        if nx >= n or ny < 0:\n",
    "            return float('inf')\n",
    "        li[nx][ny] = 5\n",
    "        p5 += populs[nx][ny]\n",
    "    for i in range(d2):\n",
    "        nx += 1\n",
    "        ny += 1\n",
    "        if nx >= n or ny >= n:\n",
    "            return float('inf')\n",
    "        li[nx][ny] = 5\n",
    "        p5 += populs[nx][ny]\n",
    "    for i in range(d1):\n",
    "        nx -= 1\n",
    "        ny += 1\n",
    "        if nx < 0 or ny >= n:\n",
    "            return float('inf')\n",
    "        li[nx][ny] = 5\n",
    "        p5 += populs[nx][ny]\n",
    "    for i in range(d2):\n",
    "        nx -= 1\n",
    "        ny -= 1\n",
    "        if nx < 0 or ny < 0:\n",
    "            return float('inf')\n",
    "        li[nx][ny] = 5\n",
    "        p5 += populs[nx][ny]\n",
    "    for nx in range(x, x - 1 + d1 + d2):\n",
    "        is_start = False\n",
    "        for ny in range(n):\n",
    "            if li[nx][ny] == 5:\n",
    "                if is_start:\n",
    "                    break\n",
    "                else:\n",
    "                    is_start = True\n",
    "                    continue\n",
    "            else:\n",
    "                if is_start:\n",
    "                    li[nx][ny] = 5\n",
    "                    p5 += populs[nx][ny]\n",
    "    \n",
    "    p1 = 0\n",
    "    for r in range(1, x + d1):\n",
    "        for c in range(1, y + 1):\n",
    "            if not li[r - 1][c - 1]:\n",
    "                li[r - 1][c - 1] = 1\n",
    "                p1 += populs[r - 1][c - 1]\n",
    "    p2 = 0\n",
    "    for r in range(1, x + d2 + 1):\n",
    "        for c in range(y + 1, n + 1):\n",
    "            if not li[r - 1][c - 1]:\n",
    "                li[r - 1][c - 1] = 2\n",
    "                p2 += populs[r - 1][c - 1]\n",
    "    p3 = 0\n",
    "    for r in range(x + d1, n + 1):\n",
    "        for c in range(1, y - d1 + d2):\n",
    "            if not li[r - 1][c - 1]:\n",
    "                li[r - 1][c - 1] = 3\n",
    "                p3 += populs[r - 1][c - 1]\n",
    "    p4 = 0\n",
    "    for r in range(x + d2 + 1, n + 1):\n",
    "        for c in range(y - d1 + d2, n + 1):\n",
    "            if not li[r - 1][c - 1]:\n",
    "                li[r - 1][c - 1] = 4\n",
    "                p4 += populs[r - 1][c - 1]\n",
    "                \n",
    "    ma = max(p1, p2, p3, p4, p5)\n",
    "    mi = min(p1, p2, p3, p4, p5)\n",
    "    \n",
    "    return ma - mi\n",
    "\n",
    "min_diff = float('inf')\n",
    "d1 = 1\n",
    "while d1 <= n:\n",
    "    d2 = 1\n",
    "    while d2 <= n:\n",
    "        x = 1\n",
    "        while x + d1 + d2 <= n:\n",
    "            y = 1 + d1\n",
    "            while y + d2 <= n:\n",
    "                diff = get_popul_diff(n, d1, d2, x, y)\n",
    "                min_diff = min(min_diff, diff)\n",
    "                y += 1\n",
    "            x += 1\n",
    "        d2 += 1\n",
    "    d1 += 1\n",
    "    \n",
    "print(min_diff)"
   ]
  },
  {
   "cell_type": "markdown",
   "metadata": {},
   "source": [
    "### 고층 건물 1027"
   ]
  },
  {
   "cell_type": "code",
   "execution_count": 60,
   "metadata": {},
   "outputs": [
    {
     "name": "stdout",
     "output_type": "stream",
     "text": [
      "15\n",
      "1 5 3 2 6 3 2 6 4 2 5 7 3 1 5\n",
      "7\n"
     ]
    }
   ],
   "source": [
    "# 맞았음, 단순히 두 건물의 선분을 구해서 그 선분과 접하는 건물이 없는 경우만 구하게 되면,\n",
    "# 두 건물 내의 건물들 사이에서 어떤 건물이 가려지는 경우를 파악하지 못함\n",
    "\n",
    "n = int(input())\n",
    "li = [0] + list(map(int, input().split()))\n",
    "\n",
    "def get_a(x1, x2):\n",
    "    y1, y2 = li[x1], li[x2]\n",
    "    return (y1 - y2) / (x1 - x2)\n",
    "\n",
    "max_count = 0\n",
    "for cur in range(1, n + 1):\n",
    "    count = 0\n",
    "    # 왼쪽으로 가면서 기울기가 작아지는 경우의 수를 구함\n",
    "    min_a = float('inf')\n",
    "    for left in range(cur - 1, 0, -1):\n",
    "        a = get_a(left, cur)\n",
    "        if a < min_a:\n",
    "            count += 1\n",
    "            min_a = a\n",
    "    # 오른쪽으로 가면서 기울기가 커지는 경우의 수를 구함\n",
    "    max_a = -float('inf')\n",
    "    for right in range(cur + 1, n + 1):\n",
    "        a = get_a(cur, right)\n",
    "        if a > max_a:\n",
    "            count += 1\n",
    "            max_a = a\n",
    "            \n",
    "    max_count = max(max_count, count)\n",
    "            \n",
    "print(max_count)"
   ]
  },
  {
   "cell_type": "markdown",
   "metadata": {},
   "source": [
    "### 짚신벌레 2560"
   ]
  },
  {
   "cell_type": "code",
   "execution_count": 66,
   "metadata": {},
   "outputs": [
    {
     "name": "stdout",
     "output_type": "stream",
     "text": [
      "3 5 7 20000\n",
      "609\n"
     ]
    }
   ],
   "source": [
    "from collections import deque\n",
    "\n",
    "a, b, d, n = map(int, input().split())\n",
    "\n",
    "li = [0] * d\n",
    "deq = deque(li)\n",
    "deq[0] = 1\n",
    "crc = 0 # current reproducible count\n",
    "for _ in range(n):\n",
    "    deq[d - 1] = 0\n",
    "    deq.rotate(1)\n",
    "    crc -= deq[b]\n",
    "    crc += deq[a]\n",
    "    crc %= 1000\n",
    "    deq[0] = crc\n",
    "    \n",
    "print(sum(deq) % 1000)"
   ]
  },
  {
   "cell_type": "markdown",
   "metadata": {},
   "source": [
    "### K진 트리 11812"
   ]
  },
  {
   "cell_type": "code",
   "execution_count": 39,
   "metadata": {},
   "outputs": [
    {
     "name": "stdout",
     "output_type": "stream",
     "text": [
      "1 1 1\n",
      "1 1\n",
      "0\n"
     ]
    }
   ],
   "source": [
    "import sys\n",
    "# input = lambda: sys.stdin.readline().rstrip()\n",
    "# print = sys.stdout.write\n",
    "\n",
    "def gwts(v):\n",
    "    \"get weight and to subtract\"\n",
    "    weight = 0\n",
    "    cur = 1\n",
    "    while True:\n",
    "        cur += k ** weight\n",
    "        if v < cur:\n",
    "            cur -= k ** weight\n",
    "            weight -= 1\n",
    "            break\n",
    "        weight += 1\n",
    "    return weight, cur\n",
    "\n",
    "def get_dist(a, b):\n",
    "    aw, ats = gwts(a)\n",
    "\n",
    "    dist = 0\n",
    "    route_a = [a]\n",
    "    route_a_st = set(route_a)\n",
    "    while a > 1:\n",
    "        base = ats - (k ** aw)\n",
    "        na = base + (a - ats) // k\n",
    "        ats = base\n",
    "        aw -= 1\n",
    "        route_a.append(na)\n",
    "        route_a_st.add(na)\n",
    "        a = na\n",
    "    \n",
    "    bw, bts = gwts(b)\n",
    "    \n",
    "    if b in route_a_st:\n",
    "        dist += route_a.index(b)\n",
    "    else:\n",
    "        while b > 1:\n",
    "            base = bts - (k ** bw)\n",
    "            nb = base + (b - bts) // k\n",
    "            bts = base\n",
    "            bw -= 1\n",
    "            b = nb\n",
    "\n",
    "            dist += 1\n",
    "            if b in route_a_st:\n",
    "                dist += route_a.index(b)\n",
    "                break\n",
    "            \n",
    "    return str(dist)\n",
    "\n",
    "n, k, q = map(int, input().split())\n",
    "for _ in range(q):\n",
    "    a, b = map(int, input().split())\n",
    "    \n",
    "    if k == 1:\n",
    "        print(str(max(a, b) - min(a, b)) + '\\n')\n",
    "    else:\n",
    "        print(get_dist(a, b) + '\\n')"
   ]
  }
 ],
 "metadata": {
  "kernelspec": {
   "display_name": "Python 3",
   "language": "python",
   "name": "python3"
  },
  "language_info": {
   "codemirror_mode": {
    "name": "ipython",
    "version": 3
   },
   "file_extension": ".py",
   "mimetype": "text/x-python",
   "name": "python",
   "nbconvert_exporter": "python",
   "pygments_lexer": "ipython3",
   "version": "3.7.3"
  }
 },
 "nbformat": 4,
 "nbformat_minor": 4
}
