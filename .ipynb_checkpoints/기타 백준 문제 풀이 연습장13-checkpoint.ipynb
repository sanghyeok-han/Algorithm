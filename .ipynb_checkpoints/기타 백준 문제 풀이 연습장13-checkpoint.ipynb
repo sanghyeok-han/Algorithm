{
 "cells": [
  {
   "cell_type": "markdown",
   "metadata": {},
   "source": [
    "tier:g2..g1 (tag:ad_hoc|tag:constructive|tag:number_theory|tag:combinatorics|tag:dp|tag:greedy|tag:binary_search|tag:bruteforcing|tag:two_pointer|tag:sweeping|tag:data_structures|tag:prefix_sum|tag:graphs|ternary_search|tag:sliding_window|tag:mitm) - @$me -tag:extended_euclidean - tag:euler_phi -tag:lucas -tag:exponentiation_by_squaring - tag:simulation - tag:segtree - tag:geometry - tag:dijkstra  - tag:bipartite_matching - tag:scc -tag:bellman_ford "
   ]
  },
  {
   "cell_type": "markdown",
   "metadata": {},
   "source": [
    "https://www.acmicpc.net/problem/17136 색종이 붙이기"
   ]
  },
  {
   "cell_type": "code",
   "execution_count": null,
   "metadata": {},
   "outputs": [],
   "source": [
    "# 틀렸음\n",
    "\n",
    "inf = float('inf')\n",
    "\n",
    "def recur(i, j):\n",
    "    global min_used\n",
    "    \n",
    "    used = 25 - sum(rcs)\n",
    "    \n",
    "    if used >= min_used:\n",
    "        return\n",
    "    \n",
    "    if i == 10 and j == 0:\n",
    "        min_used = min(min_used, used)\n",
    "        return\n",
    "    \n",
    "    ni = i\n",
    "    nj = j + 1\n",
    "    \n",
    "    if nj == 10:\n",
    "        nj = 0\n",
    "        ni += 1\n",
    "    \n",
    "    if li[i][j] == 0 or li[i][j] == 1 and i * 10 + j in covered:\n",
    "        recur(ni, nj)\n",
    "    else:\n",
    "        n_covered = set()\n",
    "        is_not_1 = False\n",
    "        for d in range(5):\n",
    "            if i + d == 10 or j + d == 10:\n",
    "                break\n",
    "            \n",
    "            ii = i + d\n",
    "            for jj in range(j, j + d + 1):\n",
    "                if li[ii][jj] == 0:\n",
    "                    is_not_1 = True\n",
    "                    break\n",
    "                v = ii * 10 + jj\n",
    "                n_covered.add(v)\n",
    "                covered.add(v)\n",
    "                    \n",
    "            if is_not_1:\n",
    "                break\n",
    "                \n",
    "            jj = j + d\n",
    "            for ii in range(i, i + d + 1):\n",
    "                if li[ii][jj] == 0:\n",
    "                    is_not_1 = True\n",
    "                    break\n",
    "                v = ii * 10 + jj\n",
    "                n_covered.add(v)\n",
    "                covered.add(v)\n",
    "                    \n",
    "            if is_not_1:\n",
    "                break   \n",
    "                \n",
    "            if rcs[d] >= 1:\n",
    "                rcs[d] -= 1\n",
    "                recur(ni, nj)\n",
    "                rcs[d] += 1\n",
    "        \n",
    "        for v in n_covered:\n",
    "            covered.discard(v)\n",
    "    \n",
    "li = [list(map(int, input().split())) for _ in range(10)]\n",
    "\n",
    "covered  = set()\n",
    "rcs = [5] * 5\n",
    "min_used = inf\n",
    "recur(0, 0)\n",
    "\n",
    "if min_used == inf:\n",
    "    print(-1)\n",
    "else:\n",
    "    print(min_used)"
   ]
  },
  {
   "cell_type": "markdown",
   "metadata": {},
   "source": [
    "https://www.acmicpc.net/problem/14867 물통"
   ]
  },
  {
   "cell_type": "code",
   "execution_count": 24,
   "metadata": {},
   "outputs": [
    {
     "name": "stdout",
     "output_type": "stream",
     "text": [
      "3 5 2 4\n",
      "-1\n"
     ]
    }
   ],
   "source": [
    "from collections import deque\n",
    "\n",
    "a, b, c, d = map(int, input().split())\n",
    "\n",
    "queue = deque()\n",
    "queue.append((0, 0, 0))\n",
    "\n",
    "vt = {(0, 0)}\n",
    "\n",
    "r = -1\n",
    "while queue:\n",
    "    cur_a, cur_b, tm = queue.popleft()\n",
    "    \n",
    "    if cur_a == c and cur_b == d:\n",
    "        r = tm\n",
    "        break\n",
    "    \n",
    "    cases = [(0, cur_b), (a, cur_b), (cur_a, 0), (cur_a, b)]\n",
    "    \n",
    "    remained_a = a - cur_a\n",
    "    if remained_a >= cur_b:\n",
    "        temp = (cur_a + cur_b, 0)\n",
    "    else:\n",
    "        temp = (a, cur_b - remained_a)\n",
    "    cases.append(temp)\n",
    "    \n",
    "    remained_b = b - cur_b\n",
    "    if remained_b >= cur_a:\n",
    "        temp = (0, cur_a + cur_b)\n",
    "    else:\n",
    "        temp = (cur_a - remained_b, b)\n",
    "    cases.append(temp)\n",
    "    \n",
    "    for case in cases:\n",
    "        if case not in vt:\n",
    "            vt.add(case)\n",
    "            queue.append((*case, tm + 1))\n",
    "\n",
    "print(r)"
   ]
  },
  {
   "cell_type": "markdown",
   "metadata": {},
   "source": [
    "https://www.acmicpc.net/problem/1285 동전 뒤집기"
   ]
  },
  {
   "cell_type": "code",
   "execution_count": 25,
   "metadata": {},
   "outputs": [
    {
     "data": {
      "text/plain": [
       "1"
      ]
     },
     "execution_count": 25,
     "metadata": {},
     "output_type": "execute_result"
    }
   ],
   "source": [
    "3 // 2"
   ]
  },
  {
   "cell_type": "code",
   "execution_count": 35,
   "metadata": {},
   "outputs": [
    {
     "name": "stdout",
     "output_type": "stream",
     "text": [
      "2\n"
     ]
    }
   ],
   "source": [
    "inf = float('inf')\n",
    "\n",
    "def recur(i):\n",
    "    global min_c\n",
    "    \n",
    "    if i == n:\n",
    "        c = 0\n",
    "        for v in col_sums:\n",
    "            if v <= half:\n",
    "                c += v\n",
    "            else:\n",
    "                c += n - v\n",
    "        min_c = min(min_c, c)\n",
    "        \n",
    "        return\n",
    "    \n",
    "    for j in range(n):\n",
    "        if nli[i][j] == 1:\n",
    "            col_sums[j] += 1\n",
    "\n",
    "    recur(i + 1)\n",
    "\n",
    "    for j in range(n):\n",
    "        if nli[i][j] == 1:\n",
    "            col_sums[j] -= 1\n",
    "        else:\n",
    "            col_sums[j] += 1\n",
    "            \n",
    "    recur(i + 1)\n",
    "\n",
    "    for j in range(n):\n",
    "        if nli[i][j] == 0:\n",
    "            col_sums[j] -= 1\n",
    "\n",
    "n = int(input())\n",
    "li = [input() for _ in range(n)]\n",
    "\n",
    "nli = [[0] * n for _ in range(n)]\n",
    "for i in range(n):\n",
    "    for j in range(n):\n",
    "        if li[i][j] == 'T':\n",
    "            nli[i][j] = 1\n",
    "            \n",
    "half = n // 2\n",
    "col_sums = [0] * n\n",
    "min_c = inf\n",
    "recur(0)\n",
    "\n",
    "print(min_c)"
   ]
  },
  {
   "cell_type": "markdown",
   "metadata": {},
   "source": [
    "https://www.acmicpc.net/problem/17619 개구리 점프"
   ]
  },
  {
   "cell_type": "code",
   "execution_count": 36,
   "metadata": {},
   "outputs": [
    {
     "name": "stdout",
     "output_type": "stream",
     "text": [
      "4 2\n",
      "1 5 2\n",
      "3 7 4\n",
      "7 9 1\n",
      "10 13 4\n",
      "1 3\n",
      "0\n",
      "1 4\n",
      "0\n"
     ]
    }
   ],
   "source": [
    "import sys\n",
    "sys.setrecursionlimit(110000)\n",
    "input = lambda: sys.stdin.readline().rstrip()\n",
    "\n",
    "def find(v):\n",
    "    if v != pa[v]:\n",
    "        pa[v] = find(pa[v])\n",
    "    return pa[v]\n",
    "\n",
    "def union(a, b):\n",
    "    if rank[a] < rank[b]:\n",
    "        a, b = b, a\n",
    "    pa[b] = a\n",
    "    \n",
    "    if rank[a] == rank[b]:\n",
    "        rank[a] += 1\n",
    "\n",
    "n, q = map(int, input().split())\n",
    "li = [list(map(int, input().split())) + [i] for i in range(n)]\n",
    "\n",
    "li.sort(key=lambda x: (x[0], x[1]))\n",
    "\n",
    "pa = list(range(n))\n",
    "rank = [0] * n\n",
    "\n",
    "stack = []\n",
    "for sx, ex, _, num in li:\n",
    "    if stack and sx <= stack[-1][1]:\n",
    "        nex = max(ex, stack[-1][1])\n",
    "        stack[-1][1] = nex\n",
    "        \n",
    "        a = num\n",
    "        b = stack[-1][2]\n",
    "        \n",
    "        ra = find(a)\n",
    "        rb = find(b)\n",
    "        \n",
    "        if ra != rb:\n",
    "            union(ra, rb)\n",
    "    else:\n",
    "        stack.append([sx, ex, num])\n",
    "    \n",
    "for _ in range(q):\n",
    "    a, b = map(int, input().split())\n",
    "    a -= 1\n",
    "    b -= 1\n",
    "    \n",
    "    ra = find(a)\n",
    "    rb = find(b)\n",
    "    \n",
    "    if ra == rb:\n",
    "        print(1)\n",
    "    else:\n",
    "        print(0)"
   ]
  },
  {
   "cell_type": "markdown",
   "metadata": {},
   "source": [
    "https://www.acmicpc.net/problem/17244 아맞다우산"
   ]
  },
  {
   "cell_type": "code",
   "execution_count": 50,
   "metadata": {},
   "outputs": [
    {
     "data": {
      "text/plain": [
       "2"
      ]
     },
     "execution_count": 50,
     "metadata": {},
     "output_type": "execute_result"
    }
   ],
   "source": [
    "1 << 1"
   ]
  },
  {
   "cell_type": "code",
   "execution_count": 52,
   "metadata": {},
   "outputs": [
    {
     "name": "stdout",
     "output_type": "stream",
     "text": [
      "6 6\n",
      "######\n",
      "#SE###\n",
      "#X...#\n",
      "#X...#\n",
      "#X...#\n",
      "######\n",
      "7\n"
     ]
    }
   ],
   "source": [
    "from collections import deque\n",
    "\n",
    "dx = [-1, 1, 0, 0]\n",
    "dy = [0, 0, -1, 1]\n",
    "\n",
    "m, n = map(int, input().split()) # n, m exchanged\n",
    "li = [list(input()) for _ in range(n)]\n",
    "\n",
    "nxt = 0\n",
    "for i in range(n):\n",
    "    for j in range(m):\n",
    "        if li[i][j] == 'X':\n",
    "            li[i][j] = str(nxt)\n",
    "            nxt += 1\n",
    "        elif li[i][j] == 'S':\n",
    "            sx = i\n",
    "            sy = j\n",
    "            li[i][j] = '.'\n",
    "        elif li[i][j] == 'E':\n",
    "            ex = i\n",
    "            ey = j\n",
    "            li[i][j] = '.'\n",
    "            \n",
    "vt = [[{} for _ in range(m)] for _ in range(n)]\n",
    "vt[sx][sy][0] = 0\n",
    "\n",
    "queue = deque()\n",
    "queue.append((sx, sy, 0, 0))\n",
    "while queue:\n",
    "    x, y, items, c = queue.popleft()\n",
    "    \n",
    "    for d in range(4):\n",
    "        nx = x + dx[d]\n",
    "        ny = y + dy[d]\n",
    "        \n",
    "        if nx < 0 or nx >= n or ny < 0 or ny >= m:\n",
    "            continue\n",
    "        if li[nx][ny] == '#':\n",
    "            continue\n",
    "        \n",
    "        if li[nx][ny] == '.':\n",
    "            nitems = items\n",
    "        else:\n",
    "            nitems = items | (1 << int(li[nx][ny]))\n",
    "            \n",
    "        if nitems not in vt[nx][ny]:\n",
    "            vt[nx][ny][nitems] = c + 1\n",
    "            queue.append((nx, ny, nitems, c + 1))\n",
    "            \n",
    "r = vt[ex][ey][(1 << nxt) - 1]\n",
    "\n",
    "print(r)"
   ]
  },
  {
   "cell_type": "markdown",
   "metadata": {},
   "source": [
    "https://www.acmicpc.net/problem/15897 잘못 구현한 에라토스테네스의 체"
   ]
  },
  {
   "cell_type": "code",
   "execution_count": 72,
   "metadata": {
    "scrolled": true
   },
   "outputs": [
    {
     "name": "stdout",
     "output_type": "stream",
     "text": [
      "2\n",
      "3\n"
     ]
    }
   ],
   "source": [
    "n = int(input())\n",
    "\n",
    "mod = 1\n",
    "seq = []\n",
    "while True:\n",
    "    v = (n - 1) // mod + 1\n",
    "    \n",
    "    seq.append((mod, v))\n",
    "    \n",
    "    if mod >= v:\n",
    "        break\n",
    "    mod += 1\n",
    "    \n",
    "r = 1\n",
    "for i in range(1, len(seq)):\n",
    "    if seq[i][0] > seq[i][1]:\n",
    "        break\n",
    "    r += seq[i][0] * (seq[i - 1][1] - seq[i][1])\n",
    "    \n",
    "for i in range(len(seq) - 1):\n",
    "    r += seq[i][1]\n",
    "    \n",
    "print(r)"
   ]
  },
  {
   "cell_type": "code",
   "execution_count": 67,
   "metadata": {},
   "outputs": [
    {
     "name": "stdout",
     "output_type": "stream",
     "text": [
      "(1, 12)\n",
      "(2, 6)\n",
      "(3, 4)\n",
      "(4, 3)\n"
     ]
    }
   ],
   "source": [
    "for v in seq:\n",
    "    print(v)"
   ]
  },
  {
   "cell_type": "code",
   "execution_count": 62,
   "metadata": {},
   "outputs": [
    {
     "data": {
      "text/plain": [
       "[(1, 3), (2, 2)]"
      ]
     },
     "execution_count": 62,
     "metadata": {},
     "output_type": "execute_result"
    }
   ],
   "source": [
    "1, 3\n",
    "2, 2"
   ]
  },
  {
   "cell_type": "code",
   "execution_count": null,
   "metadata": {},
   "outputs": [],
   "source": [
    "3일 때는 1\n",
    "2일 때는 2"
   ]
  },
  {
   "cell_type": "code",
   "execution_count": 45,
   "metadata": {},
   "outputs": [
    {
     "data": {
      "text/plain": [
       "[(1, 3), (2, 1)]"
      ]
     },
     "execution_count": 45,
     "metadata": {},
     "output_type": "execute_result"
    }
   ],
   "source": [
    "1, 3\n",
    "2, 1"
   ]
  },
  {
   "cell_type": "code",
   "execution_count": 47,
   "metadata": {},
   "outputs": [
    {
     "name": "stdout",
     "output_type": "stream",
     "text": [
      "3\n",
      "1\n",
      "1\n"
     ]
    }
   ],
   "source": [
    "print(3 // 1)\n",
    "print(3 // 2)\n",
    "print(3 // 3)"
   ]
  },
  {
   "cell_type": "code",
   "execution_count": null,
   "metadata": {},
   "outputs": [],
   "source": [
    "1 2 3\n",
    "1 3\n",
    "3"
   ]
  },
  {
   "cell_type": "code",
   "execution_count": 73,
   "metadata": {},
   "outputs": [
    {
     "name": "stdout",
     "output_type": "stream",
     "text": [
      "1 10\n",
      "2 5\n",
      "3 4\n",
      "4 3\n",
      "5 2\n",
      "6 2\n",
      "7 2\n",
      "8 2\n",
      "9 2\n",
      "10 1\n"
     ]
    }
   ],
   "source": [
    "n = 10\n",
    "for mod in range(1, n + 1):\n",
    "    print(mod, ((n - 1) // mod) + 1)"
   ]
  },
  {
   "cell_type": "code",
   "execution_count": 91,
   "metadata": {},
   "outputs": [],
   "source": [
    "del input"
   ]
  },
  {
   "cell_type": "code",
   "execution_count": null,
   "metadata": {},
   "outputs": [],
   "source": [
    "from collections import deque\n",
    "import sys\n",
    "# input = lambda: sys.stdin.readline().rstrip()\n",
    "\n",
    "INF = float('inf')\n",
    "\n",
    "dx = [-1, 1]\n",
    "dy = [-1, 1]\n",
    "\n",
    "n = int(input())\n",
    "\n",
    "li = [[0] * (n * 2) for _ in range(n)]\n",
    "nums = [[0] * (n * 2) for _ in range(n)]\n",
    "\n",
    "i, j = 0, 0\n",
    "nxt = 1\n",
    "for _ in range(n * n - n // 2):\n",
    "    a, b = map(int, input().split())\n",
    "    \n",
    "    li[i][j] = a\n",
    "    li[i][j + 1] = b\n",
    "    \n",
    "    nums[i][j] = nxt\n",
    "    nums[i][j + 1] = nxt\n",
    "    nxt += 1\n",
    "    \n",
    "    j += 2\n",
    "    if j >= n * 2 - 1:\n",
    "        i += 1\n",
    "        \n",
    "        if i % 2 == 1:\n",
    "            j = 1\n",
    "        else:\n",
    "            j = 0\n",
    "\n",
    "from_ = [-1] * (n * n - n // 2 + 1)\n",
    "from_[1] = 0\n",
    "\n",
    "queue = deque()\n",
    "queue.append((0, 0))\n",
    "queue.append((0, 1))\n",
    "while queue:\n",
    "    x, y = queue.popleft()\n",
    "    num = nums[x][y]\n",
    "    \n",
    "    ny = y\n",
    "    for d in range(2):\n",
    "        nx = x + dx[d]\n",
    "        \n",
    "        if nx < 0 or nx >= n:\n",
    "            continue\n",
    "        if li[nx][ny] != li[x][y]:\n",
    "            continue\n",
    "            \n",
    "        nnum = nums[nx][ny]\n",
    "        if from_[nnum] == -1:\n",
    "            from_[nnum] = num\n",
    "            queue.append((nx, ny))\n",
    "            \n",
    "            if ny - 1 >= 0 and nums[nx][ny - 1] == nnum:\n",
    "                queue.append((nx, ny - 1))\n",
    "            if ny + 1 < n * 2 and nums[nx][ny + 1] == nnum:\n",
    "                queue.append((nx, ny + 1))\n",
    "                \n",
    "    nx = x\n",
    "    for d in range(2):\n",
    "        ny = y + dy[d]\n",
    "        \n",
    "        if ny < 0 or ny >= n * 2:\n",
    "            continue\n",
    "        if li[nx][ny] == 0:\n",
    "            continue\n",
    "        if x % 2 == 0:\n",
    "            if y // 2 != ny // 2 and li[x][y] != li[nx][ny]:\n",
    "                continue\n",
    "        else:\n",
    "            if (y + 1) // 2 != (ny + 1) // 2 and li[x][y] != li[nx][ny]:\n",
    "                continue\n",
    "        \n",
    "        nnum = nums[nx][ny]\n",
    "        if from_[nnum] == -1:\n",
    "            from_[nnum] = num\n",
    "            queue.append((nx, ny))\n",
    "            \n",
    "            if ny - 1 >= 0 and nums[nx][ny - 1] == nnum:\n",
    "                queue.append((nx, ny - 1))\n",
    "            if ny + 1 < n * 2 and nums[nx][ny + 1] == nnum:\n",
    "                queue.append((nx, ny + 1))\n",
    "            \n",
    "rnum = 1\n",
    "for num in range(n * n - n // 2, 0, -1):\n",
    "    if from_[num] != -1:\n",
    "        rnum = num\n",
    "        break\n",
    "\n",
    "cur_num = rnum\n",
    "r = []\n",
    "r_st = set()\n",
    "while True:\n",
    "    if cur_num not in r_st:\n",
    "        r_st.add(cur_num)\n",
    "        r.append(cur_num)\n",
    "\n",
    "    if cur_num == 1:\n",
    "        break\n",
    "\n",
    "    cur_num = from_[cur_num]\n",
    "\n",
    "r.reverse()\n",
    "\n",
    "print(len(r))\n",
    "print(*r)"
   ]
  },
  {
   "cell_type": "markdown",
   "metadata": {},
   "source": [
    "https://www.acmicpc.net/problem/17611 직각다각형"
   ]
  },
  {
   "cell_type": "code",
   "execution_count": 98,
   "metadata": {},
   "outputs": [
    {
     "name": "stdout",
     "output_type": "stream",
     "text": [
      "4\n",
      "-1 -1\n",
      "-1 1\n",
      "1 1\n",
      "1 -1\n",
      "2\n"
     ]
    }
   ],
   "source": [
    "# 틀렸음\n",
    "import sys\n",
    "input = lambda: sys.stdin.readline().rstrip()\n",
    "\n",
    "n = int(input())\n",
    "li = [list(map(int, input().split())) for _ in range(n)]\n",
    "\n",
    "xs = []\n",
    "ys = []\n",
    "for i in range(n):\n",
    "    x1, y1 = li[i - 1]\n",
    "    x2, y2 = li[i]\n",
    "    \n",
    "    if x1 == x2:\n",
    "        ys.append([min(y1, y2), max(y1, y2)])\n",
    "    else:\n",
    "        xs.append([min(x1, x2), max(x1, x2)])\n",
    "        \n",
    "xs.sort()\n",
    "ys.sort()\n",
    "\n",
    "max_r = 0\n",
    "\n",
    "stack = []\n",
    "for x1, x2 in xs:\n",
    "    if stack and x1 < stack[-1][1]:\n",
    "        stack[-1][1] = max(stack[-1][1], x2)\n",
    "        stack[-1][2] += 1\n",
    "    else:\n",
    "        stack.append([x1, x2, 1])\n",
    "        \n",
    "for v in stack:\n",
    "    max_r = max(max_r, v[2])\n",
    "    \n",
    "stack = []\n",
    "for y1, y2 in ys:\n",
    "    if stack and y1 < stack[-1][1]:\n",
    "        stack[-1][1] = max(stack[-1][1], y2)\n",
    "        stack[-1][2] += 1\n",
    "    else:\n",
    "        stack.append([y1, y2, 1])\n",
    "        \n",
    "for v in stack:\n",
    "    max_r = max(max_r, v[2])\n",
    "    \n",
    "print(max_r)"
   ]
  },
  {
   "cell_type": "code",
   "execution_count": null,
   "metadata": {},
   "outputs": [],
   "source": [
    "import sys\n",
    "input = lambda: sys.stdin.readline().rstrip()\n",
    "\n",
    "def get_max_v(nli):\n",
    "    deltas = [0] * 1000001\n",
    "    for s, e in nli:\n",
    "        deltas[s] += 1\n",
    "        deltas[e] -= 1\n",
    "        \n",
    "    max_v = 0\n",
    "    cumul = 0\n",
    "    for i in range(1000001):\n",
    "        cumul += deltas[i]\n",
    "        max_v = max(max_v, cumul)\n",
    "    \n",
    "    return max_v\n",
    "\n",
    "n = int(input())\n",
    "li = [list(map(int, input().split())) for _ in range(n)]\n",
    "\n",
    "xs = []\n",
    "ys = []\n",
    "for i in range(n):\n",
    "    x1, y1 = li[i - 1]\n",
    "    x2, y2 = li[i]\n",
    "    \n",
    "    if x1 == x2:\n",
    "        ys.append([min(y1, y2) + 500000, max(y1, y2) + 500000])\n",
    "    else:\n",
    "        xs.append([min(x1, x2) + 500000, max(x1, x2) + 500000])\n",
    "        \n",
    "max_r = max(get_max_v(xs), get_max_v(ys))\n",
    "\n",
    "print(max_r)"
   ]
  },
  {
   "cell_type": "markdown",
   "metadata": {},
   "source": [
    "https://www.acmicpc.net/problem/15559 내 선물을 받아줘"
   ]
  },
  {
   "cell_type": "code",
   "execution_count": 115,
   "metadata": {},
   "outputs": [
    {
     "name": "stdout",
     "output_type": "stream",
     "text": [
      "3 5\n",
      "EEEES\n",
      "NNNNS\n",
      "NWWWW\n",
      "1\n"
     ]
    }
   ],
   "source": [
    "import sys\n",
    "# input = lambda: sys.stdin.readline().rstrip()\n",
    "\n",
    "## PYRIVAL BOOTSTRAP\n",
    "# https://github.com/cheran-senthil/PyRival/blob/master/pyrival/misc/bootstrap.py\n",
    "# This decorator allows for recursion without actually doing recursion\n",
    "## @bootstrap, yield when getting and returning value in recursive functions, end of functions\n",
    "from types import GeneratorType\n",
    "\n",
    "def bootstrap(f, stack=[]):\n",
    "    def wrappedfunc(*args, **kwargs):\n",
    "        if stack:\n",
    "            return f(*args, **kwargs)\n",
    "        else:\n",
    "            to = f(*args, **kwargs)\n",
    "            while True:\n",
    "                if type(to) is GeneratorType:\n",
    "                    stack.append(to)\n",
    "                    to = next(to)\n",
    "                else:\n",
    "                    stack.pop()\n",
    "                    if not stack:\n",
    "                        break\n",
    "                    to = stack[-1].send(to)\n",
    "            return to\n",
    "    return wrappedfunc\n",
    "\n",
    "@bootstrap\n",
    "def dfs(x, y):\n",
    "    vt[x][y] = True\n",
    "    \n",
    "    for d in range(4):\n",
    "        nx = x + dx[d]\n",
    "        ny = y + dy[d]\n",
    "        \n",
    "        if nx < 0 or nx >= n or ny < 0 or ny >= m:\n",
    "            continue\n",
    "            \n",
    "        if li[nx][ny] == r_direc[d]:\n",
    "            if not vt[nx][ny]:\n",
    "                yield dfs(nx, ny)\n",
    "        \n",
    "    yield\n",
    "        \n",
    "dx = [-1, 1, 0, 0]\n",
    "dy = [0, 0, -1, 1]\n",
    "direc = 'NSWE'\n",
    "r_direc = 'SNEW'\n",
    "\n",
    "n, m = map(int, input().split())\n",
    "li = [input() for _ in range(n)]\n",
    "\n",
    "vt = [[False] * m for _ in range(n)]\n",
    "r = 0\n",
    "for i in range(n):\n",
    "    for j in range(m):\n",
    "        if vt[i][j]:\n",
    "            continue\n",
    "        r += 1\n",
    "        route_st = {(i, j)}\n",
    "        \n",
    "        x, y = i, j\n",
    "        end_x, end_y = -1, -1\n",
    "        while True:\n",
    "            d = direc.index(li[x][y])\n",
    "            \n",
    "            nx = x + dx[d]\n",
    "            ny = y + dy[d]\n",
    "            \n",
    "            if (nx, ny) in route_st:\n",
    "                end_x = x\n",
    "                end_y = y\n",
    "                break\n",
    "            route_st.add((nx, ny))\n",
    "            x, y = nx, ny\n",
    "            \n",
    "        dfs(end_x, end_y)\n",
    "        \n",
    "print(r)"
   ]
  },
  {
   "cell_type": "code",
   "execution_count": 2,
   "metadata": {},
   "outputs": [
    {
     "name": "stdout",
     "output_type": "stream",
     "text": [
      "2\n"
     ]
    }
   ],
   "source": [
    "import sys\n",
    "input = lambda: sys.stdin.readline().rstrip()\n",
    "        \n",
    "dx = [-1, 1, 0, 0]\n",
    "dy = [0, 0, -1, 1]\n",
    "direc = 'NSWE'\n",
    "\n",
    "n, m = map(int, input().split())\n",
    "li = [input() for _ in range(n)]\n",
    "\n",
    "vt = [[False] * m for _ in range(n)]\n",
    "r = 0\n",
    "for i in range(n):\n",
    "    for j in range(m):\n",
    "        if vt[i][j]:\n",
    "            continue\n",
    "            \n",
    "        x, y = i, j\n",
    "        route_st = {(x, y)}\n",
    "        while True:\n",
    "            d = direc.index(li[x][y])\n",
    "            \n",
    "            x += dx[d]\n",
    "            y += dy[d]\n",
    "            \n",
    "            if vt[x][y]:\n",
    "                break\n",
    "            if (x, y) in route_st:\n",
    "                r += 1\n",
    "                break\n",
    "            route_st.add((x, y))\n",
    "                    \n",
    "        for fx, fy in route_st:\n",
    "            vt[fx][fy] = True\n",
    "        \n",
    "print(r)"
   ]
  },
  {
   "cell_type": "markdown",
   "metadata": {},
   "source": [
    "https://www.acmicpc.net/problem/1079 마피아"
   ]
  },
  {
   "cell_type": "code",
   "execution_count": 6,
   "metadata": {},
   "outputs": [
    {
     "data": {
      "text/plain": [
       "10321920"
      ]
     },
     "execution_count": 6,
     "metadata": {},
     "output_type": "execute_result"
    }
   ],
   "source": [
    "16 * 14 * 12 * 10 * 8 * 6 * 4 * 2"
   ]
  },
  {
   "cell_type": "code",
   "execution_count": null,
   "metadata": {},
   "outputs": [],
   "source": [
    "inf = float('inf')\n",
    "\n",
    "def get_target():\n",
    "    max_v_num = -inf\n",
    "    max_v = -inf\n",
    "    for num in saved:\n",
    "        if cur[num] > max_v:\n",
    "            max_v = cur[num]\n",
    "            max_v_num = num\n",
    "        elif cur[num] == max_v and num < max_v_num:\n",
    "            max_v_num = num\n",
    "    \n",
    "    return max_v_num\n",
    "\n",
    "def recur(c, saved_c):\n",
    "    global max_r\n",
    "    \n",
    "    target = -1\n",
    "    if saved_c % 2 == 1:\n",
    "        target = get_target()\n",
    "        \n",
    "        saved.remove(target)\n",
    "        saved_c -= 1\n",
    "        \n",
    "    if s not in saved or saved_c == 1:\n",
    "        max_r = max(max_r, c)\n",
    "        \n",
    "        if target != -1:\n",
    "            saved.add(target)\n",
    "        return\n",
    "\n",
    "    saved_li = list(saved)\n",
    "    for num in saved_li:\n",
    "        saved.discard(num)\n",
    "        for v in saved:\n",
    "            cur[v] += li[num][v]\n",
    "        recur(c + 1, saved_c - 1)\n",
    "        for v in saved:\n",
    "            cur[v] -= li[num][v]        \n",
    "        saved.add(num)\n",
    "        \n",
    "    if target != -1:\n",
    "        saved.add(target)\n",
    "        saved_c += 1\n",
    "        \n",
    "n = int(input())\n",
    "cur = list(map(int, input().split()))\n",
    "li = [list(map(int, input().split())) for _ in range(n)]\n",
    "s = int(input())\n",
    "\n",
    "saved = set(range(n))\n",
    "max_r = 0\n",
    "recur(0, n)\n",
    "\n",
    "print(max_r)"
   ]
  },
  {
   "cell_type": "markdown",
   "metadata": {},
   "source": [
    "https://www.acmicpc.net/problem/2878 캔디캔디"
   ]
  },
  {
   "cell_type": "code",
   "execution_count": 48,
   "metadata": {},
   "outputs": [
    {
     "name": "stdout",
     "output_type": "stream",
     "text": [
      "10 4\n",
      "4\n",
      "5\n",
      "2\n",
      "3\n",
      "4\n"
     ]
    }
   ],
   "source": [
    "import sys\n",
    "input = lambda: sys.stdin.readline().rstrip()\n",
    "        \n",
    "def check(mid):\n",
    "    c = 0\n",
    "    for v in li:\n",
    "        if v > mid:\n",
    "            c += v - mid\n",
    "            \n",
    "    if c <= m:\n",
    "        return True\n",
    "    return False\n",
    "\n",
    "m, n = map(int, input().split())\n",
    "li = [int(input()) for _ in range(n)]\n",
    "\n",
    "start = 0\n",
    "end = int(2e9)\n",
    "\n",
    "r_not_given_limit = end + 1\n",
    "while start <= end:\n",
    "    mid = (start + end) // 2\n",
    "    \n",
    "    if check(mid):\n",
    "        r_not_given_limit = mid\n",
    "        end = mid - 1\n",
    "    else:\n",
    "        start = mid + 1\n",
    "        \n",
    "for i in range(n):\n",
    "    if li[i] > r_not_given_limit:\n",
    "        m -= (li[i] - r_not_given_limit)\n",
    "        li[i] = r_not_given_limit\n",
    "        \n",
    "if r_not_given_limit >= 1:\n",
    "    for i in range(n):\n",
    "        if li[i] == r_not_given_limit and m:\n",
    "            m -= 1\n",
    "            li[i] -= 1\n",
    "        \n",
    "mod = 2 ** 64\n",
    "r = 0\n",
    "for v in li:\n",
    "    r += v ** 2\n",
    "    r %= mod\n",
    "    \n",
    "print(r)"
   ]
  },
  {
   "cell_type": "markdown",
   "metadata": {},
   "source": [
    "https://www.acmicpc.net/problem/2450 모양 정돈"
   ]
  },
  {
   "cell_type": "code",
   "execution_count": 54,
   "metadata": {},
   "outputs": [
    {
     "name": "stdout",
     "output_type": "stream",
     "text": [
      "7\n",
      "1 2 3 1 2 3 1\n",
      "2\n"
     ]
    }
   ],
   "source": [
    "from itertools import permutations as perm\n",
    "\n",
    "inf = float('inf')\n",
    "\n",
    "n = int(input())\n",
    "li = list(map(int, input().split()))\n",
    "\n",
    "ct = [0] * 4\n",
    "for v in li:\n",
    "    ct[v] += 1\n",
    "    \n",
    "min_r = inf\n",
    "for case in perm(range(1, 4)):\n",
    "    target = []\n",
    "    for i in range(3):\n",
    "        target.extend([case[i]] * ct[case[i]])\n",
    "        \n",
    "    matches_c = [[0] * 4 for _ in range(4)]\n",
    "    \n",
    "    for i in range(n):\n",
    "        if li[i] != target[i]:\n",
    "            matches_c[li[i]][target[i]] += 1\n",
    "            \n",
    "    needed_c = 0\n",
    "    for num1 in range(1, 4):\n",
    "        for num2 in range(num1 + 1, 4):\n",
    "            common_c = min(matches_c[num1][num2], matches_c[num2][num1])\n",
    "            \n",
    "            needed_c += common_c\n",
    "            matches_c[num1][num2] -= common_c\n",
    "            matches_c[num2][num1] -= common_c\n",
    "            \n",
    "    left_c = 0\n",
    "    for num1 in range(1, 4):\n",
    "        for num2 in range(1, 4):\n",
    "            left_c += matches_c[num1][num2]\n",
    "            \n",
    "    needed_c += left_c // 3 * 2\n",
    "    \n",
    "    min_r = min(min_r, needed_c)\n",
    "    \n",
    "print(min_r)"
   ]
  },
  {
   "cell_type": "markdown",
   "metadata": {},
   "source": [
    "https://www.acmicpc.net/problem/2038 골롱 수열"
   ]
  },
  {
   "cell_type": "code",
   "execution_count": 69,
   "metadata": {},
   "outputs": [
    {
     "name": "stdout",
     "output_type": "stream",
     "text": [
      "6\n",
      "4\n"
     ]
    }
   ],
   "source": [
    "from bisect import bisect_left\n",
    "\n",
    "n = int(input())\n",
    "\n",
    "dp = [0, 1]\n",
    "\n",
    "cur = 1\n",
    "while dp[cur] < n:\n",
    "    cur += 1\n",
    "    num = bisect_left(dp, cur)\n",
    "    \n",
    "    nnum = dp[-1] + num\n",
    "    dp.append(nnum)\n",
    "    \n",
    "r = cur\n",
    "\n",
    "print(r)"
   ]
  },
  {
   "cell_type": "markdown",
   "metadata": {},
   "source": [
    "https://www.acmicpc.net/problem/2233 사과나무"
   ]
  },
  {
   "cell_type": "code",
   "execution_count": 99,
   "metadata": {},
   "outputs": [
    {
     "name": "stdout",
     "output_type": "stream",
     "text": [
      "5\n",
      "0001011011\n",
      "4 5\n",
      "2 7\n"
     ]
    }
   ],
   "source": [
    "import sys\n",
    "sys.setrecursionlimit(3000)\n",
    "input = lambda: sys.stdin.readline().rstrip()\n",
    "\n",
    "class Node():\n",
    "    def __init__(self, pa, is_rotten):\n",
    "        self.parent = pa\n",
    "        self.children = []\n",
    "        self.is_rotten = is_rotten\n",
    "        self.vt_info = []\n",
    "    \n",
    "    def append_and_move(self, is_rotten):\n",
    "        self.children.append(Node(self, is_rotten))\n",
    "        \n",
    "        return self.children[-1]\n",
    "    \n",
    "def dfs(cur):\n",
    "    global ri, rj\n",
    "    \n",
    "    rotten_c = 0\n",
    "    for node in cur.children:\n",
    "        rotten_c += dfs(node)\n",
    "        \n",
    "    if cur.is_rotten:\n",
    "        rotten_c += 1\n",
    "        \n",
    "    if rotten_c == total_rotten_c:\n",
    "        if ri == -1:\n",
    "            ri, rj = cur.vt_info\n",
    "            \n",
    "    return rotten_c\n",
    "\n",
    "n = int(input())\n",
    "li = list(map(int, input()))\n",
    "x, y = map(int, input().split())\n",
    "x -= 1\n",
    "y -= 1\n",
    "\n",
    "xy = {x, y}\n",
    "\n",
    "nn = n * 2\n",
    "\n",
    "total_rotten_c = 0\n",
    "cur = None\n",
    "if 0 in xy:\n",
    "    total_rotten_c += 1\n",
    "    cur = Node(None, True)\n",
    "else:\n",
    "    cur = Node(None, False)\n",
    "root = cur\n",
    "root.vt_info.append(0)\n",
    "\n",
    "for i in range(1, nn):\n",
    "    is_rotten = i in xy\n",
    "\n",
    "    if li[i] == 0:\n",
    "        if is_rotten:\n",
    "            total_rotten_c += 1\n",
    "        cur = cur.append_and_move(is_rotten)\n",
    "        cur.vt_info.append(i)\n",
    "    else:\n",
    "        cur.vt_info.append(i)\n",
    "        if is_rotten and not cur.is_rotten:\n",
    "            total_rotten_c += 1\n",
    "            cur.is_rotten = True\n",
    "            \n",
    "        cur = cur.parent\n",
    "\n",
    "ri, rj = -1, -1\n",
    "dfs(root)\n",
    "\n",
    "print(ri + 1, rj + 1)"
   ]
  },
  {
   "cell_type": "markdown",
   "metadata": {},
   "source": [
    "https://www.acmicpc.net/problem/3013 부분 수열의 중앙값"
   ]
  },
  {
   "cell_type": "code",
   "execution_count": 110,
   "metadata": {},
   "outputs": [
    {
     "name": "stdout",
     "output_type": "stream",
     "text": [
      "5 4\n",
      "1 2 3 4 5\n",
      "2\n"
     ]
    }
   ],
   "source": [
    "from collections import defaultdict as dd\n",
    "\n",
    "n, b = map(int, input().split())\n",
    "li = list(map(int, input().split()))\n",
    "\n",
    "cri = -1\n",
    "for i in range(n):\n",
    "    if li[i] == b:\n",
    "        cri = i\n",
    "        break\n",
    "    \n",
    "d = dd(int)\n",
    "d[0] = 1\n",
    "cumul = 0\n",
    "for i in range(cri + 1, n):\n",
    "    if li[i] > b:\n",
    "        cumul += 1\n",
    "    else:\n",
    "        cumul -= 1\n",
    "    \n",
    "    d[cumul] += 1\n",
    "    \n",
    "r = 0\n",
    "cumul = 0\n",
    "for i in range(cri, -1, -1):\n",
    "    if li[i] > b:\n",
    "        cumul += 1\n",
    "    elif li[i] < b:\n",
    "        cumul -= 1\n",
    "        \n",
    "    to_find = -cumul\n",
    "    \n",
    "    r += d[to_find]\n",
    "    \n",
    "print(r)"
   ]
  },
  {
   "cell_type": "markdown",
   "metadata": {},
   "source": [
    "https://www.acmicpc.net/problem/7432 디스크 트리"
   ]
  },
  {
   "cell_type": "code",
   "execution_count": null,
   "metadata": {},
   "outputs": [],
   "source": [
    "class Node():\n",
    "    def __init__(self, value, level):\n",
    "        self.value = value\n",
    "        self.children = {}\n",
    "        self.level = level\n",
    "    \n",
    "    def append_and_move(self, value):\n",
    "        self.children[value] = Node(value, self.level + 1)\n",
    "        \n",
    "        return self.children[value]\n",
    "        \n",
    "def dfs(node):\n",
    "    value = node.value\n",
    "    level = node.level\n",
    "    \n",
    "    result.append(' ' * level + value)\n",
    "    \n",
    "    for key in sorted(node.children.keys()):\n",
    "        dfs(node.children[key])\n",
    "        \n",
    "n = int(input())\n",
    "\n",
    "root = Node('', -1)\n",
    "\n",
    "for _ in range(n):\n",
    "    temp = input().split('\\\\')\n",
    "    \n",
    "    cur = root\n",
    "    for value in temp:\n",
    "        if value in cur.children:\n",
    "            cur = cur.children[value]\n",
    "        else:\n",
    "            cur = cur.append_and_move(value)\n",
    "        \n",
    "result = []\n",
    "dfs(root)\n",
    "\n",
    "for i in range(1, len(result)):\n",
    "    print(result[i])"
   ]
  },
  {
   "cell_type": "markdown",
   "metadata": {},
   "source": [
    "https://www.acmicpc.net/problem/18783 Swapity Swapity Swap"
   ]
  },
  {
   "cell_type": "code",
   "execution_count": 120,
   "metadata": {},
   "outputs": [
    {
     "name": "stdout",
     "output_type": "stream",
     "text": [
      "7 2 2\n",
      "2 5\n",
      "3 7\n",
      "1\n",
      "2\n",
      "4\n",
      "3\n",
      "5\n",
      "7\n",
      "6\n"
     ]
    }
   ],
   "source": [
    "n, m, k = map(int, input().split())\n",
    "\n",
    "li = list(range(n))\n",
    "for _ in range(m):\n",
    "    l, r = map(int, input().split())\n",
    "    l -= 1\n",
    "    r -= 1\n",
    "    \n",
    "    to_minus = 0\n",
    "    for i in range(l, l + (r - l + 1) // 2):\n",
    "        a = i\n",
    "        b = r - to_minus\n",
    "\n",
    "        li[a], li[b] = li[b], li[a]\n",
    "        to_minus += 1\n",
    "        \n",
    "result = [-1] * n\n",
    "vt = [False] * n\n",
    "for i in range(n):\n",
    "    if vt[i]:\n",
    "        continue\n",
    "    \n",
    "    vt[i] = True\n",
    "    cycle = [i]\n",
    "    cur = i\n",
    "    while True:\n",
    "        cur = li[cur]\n",
    "        if vt[cur]:\n",
    "            break\n",
    "        vt[cur] = True\n",
    "        cycle.append(cur)\n",
    "        \n",
    "    cycle_len = len(cycle)\n",
    "    moded = k % cycle_len\n",
    "    \n",
    "    for ci in range(cycle_len):\n",
    "        nci = ci + moded\n",
    "        nci %= cycle_len\n",
    "        \n",
    "        result[cycle[ci]] = cycle[nci]\n",
    "        \n",
    "for v in result:\n",
    "    print(v + 1)"
   ]
  },
  {
   "cell_type": "markdown",
   "metadata": {},
   "source": [
    "https://www.acmicpc.net/problem/4902 삼각형의 값"
   ]
  },
  {
   "cell_type": "code",
   "execution_count": 140,
   "metadata": {},
   "outputs": [
    {
     "name": "stdout",
     "output_type": "stream",
     "text": [
      "3 6 -24 0 12 -10 12 40 -4 6\n",
      "1. 54\n",
      "4 1 1 -1 1 1 -1 1 -1 1 1 -1 1 -1 1 -1 1\n",
      "2. 4\n",
      "0\n"
     ]
    }
   ],
   "source": [
    "import sys\n",
    "input = lambda: sys.stdin.readline().rstrip()\n",
    "\n",
    "inf = float('inf')\n",
    "\n",
    "tn = 1\n",
    "while True:\n",
    "    n, *temp = map(int, input().split())\n",
    "    if n == 0:\n",
    "        break\n",
    "\n",
    "    sli = []\n",
    "    cur_needed = 1\n",
    "    ti = 0\n",
    "    for i in range(n):\n",
    "        ntemp = [0]\n",
    "        cumul = 0\n",
    "        for _ in range(cur_needed):\n",
    "            cumul += temp[ti]\n",
    "            ntemp.append(cumul)\n",
    "            ti += 1\n",
    "        sli.append(ntemp)\n",
    "        cur_needed += 2\n",
    "\n",
    "    max_r = -inf\n",
    "\n",
    "    cur_len = 1\n",
    "    for si in range(n):\n",
    "        for sj in range(0, cur_len, 2):\n",
    "            cumul = 0\n",
    "            cur_i = si\n",
    "            ej = sj\n",
    "            while True:\n",
    "                cumul += sli[cur_i][ej + 1] - sli[cur_i][sj]\n",
    "                max_r = max(max_r, cumul)\n",
    "\n",
    "                cur_i += 1\n",
    "                ej += 2\n",
    "                if cur_i >= n or ej >= cur_i * 2 + 1:\n",
    "                    break\n",
    "        cur_len += 2\n",
    "\n",
    "    cur_len = (n - 1) * 2 + 1\n",
    "    for si in range(n - 1, -1, -1):\n",
    "        for ej in range(1, cur_len, 2):\n",
    "            cumul = 0\n",
    "            cur_i = si\n",
    "            sj = ej\n",
    "            while True:\n",
    "                cumul += sli[cur_i][ej + 1] - sli[cur_i][sj]\n",
    "                max_r = max(max_r, cumul)\n",
    "\n",
    "                cur_i -= 1\n",
    "                sj -= 2\n",
    "                if cur_i < 0 or sj < 0 or ej >= cur_i * 2 + 1:\n",
    "                    break\n",
    "        cur_len -= 2\n",
    "\n",
    "    print(f'{tn}. {max_r}')\n",
    "    \n",
    "    tn += 1"
   ]
  },
  {
   "cell_type": "markdown",
   "metadata": {},
   "source": [
    "https://www.acmicpc.net/problem/17435 합성함수와 쿼리"
   ]
  },
  {
   "cell_type": "code",
   "execution_count": 169,
   "metadata": {},
   "outputs": [
    {
     "name": "stdout",
     "output_type": "stream",
     "text": [
      "5\n",
      "3 3 5 4 3\n",
      "5\n",
      "1 1\n",
      "3\n",
      "2 1\n",
      "5\n",
      "11 3\n",
      "5\n",
      "1000 4\n",
      "4\n",
      "5 1\n",
      "3\n"
     ]
    }
   ],
   "source": [
    "from math import log2\n",
    "import sys\n",
    "input = lambda: sys.stdin.readline().rstrip()\n",
    "\n",
    "int_m1 = lambda x: int(x) - 1\n",
    "\n",
    "m = int(input())\n",
    "li = list(map(int_m1, input().split()))\n",
    "\n",
    "max_tms = int(log2(500000))\n",
    "values = [[0] * m for _ in range(max_tms + 1)]\n",
    "values[0] = li\n",
    "\n",
    "for cur_tms in range(1, max_tms + 1):\n",
    "    for i in range(m):\n",
    "        v = values[cur_tms - 1][i]\n",
    "        values[cur_tms][i] = values[cur_tms - 1][v]\n",
    "        \n",
    "for _ in range(int(input())):\n",
    "    n, x = map(int, input().split())\n",
    "    x -= 1\n",
    "    \n",
    "    cur = x\n",
    "    for cur_tms in range(max_tms, -1, -1):\n",
    "        if n >= 2 ** cur_tms:\n",
    "            n -= 2 ** cur_tms\n",
    "            cur = values[cur_tms][cur]\n",
    "            \n",
    "    print(cur + 1)"
   ]
  },
  {
   "cell_type": "markdown",
   "metadata": {},
   "source": [
    "https://www.acmicpc.net/problem/1933 스카이라인"
   ]
  },
  {
   "cell_type": "code",
   "execution_count": null,
   "metadata": {},
   "outputs": [],
   "source": [
    "import sys\n",
    "input = lambda: sys.stdin.readline().rstrip()\n",
    "\n",
    "# https://github.com/tatyam-prime/SortedSet/blob/main/SortedMultiset.py\n",
    "import math\n",
    "from bisect import bisect_left, bisect_right, insort\n",
    "from typing import Generic, Iterable, Iterator, TypeVar, Union, List\n",
    "T = TypeVar('T')\n",
    "\n",
    "class SortedMultiset(Generic[T]):\n",
    "    BUCKET_RATIO = 50\n",
    "    REBUILD_RATIO = 170\n",
    "\n",
    "    def _build(self, a=None) -> None:\n",
    "        \"Evenly divide `a` into buckets.\"\n",
    "        if a is None: a = list(self)\n",
    "        size = self.size = len(a)\n",
    "        bucket_size = int(math.ceil(math.sqrt(size / self.BUCKET_RATIO)))\n",
    "        self.a = [a[size * i // bucket_size : size * (i + 1) // bucket_size] for i in range(bucket_size)]\n",
    "    \n",
    "    def __init__(self, a: Iterable[T] = []) -> None:\n",
    "        \"Make a new SortedMultiset from iterable. / O(N) if sorted / O(N log N)\"\n",
    "        a = list(a)\n",
    "        if not all(a[i] <= a[i + 1] for i in range(len(a) - 1)):\n",
    "            a = sorted(a)\n",
    "        self._build(a)\n",
    "\n",
    "    def __iter__(self) -> Iterator[T]:\n",
    "        for i in self.a:\n",
    "            for j in i: yield j\n",
    "\n",
    "    def __reversed__(self) -> Iterator[T]:\n",
    "        for i in reversed(self.a):\n",
    "            for j in reversed(i): yield j\n",
    "    \n",
    "    def __len__(self) -> int:\n",
    "        return self.size\n",
    "    \n",
    "    def __repr__(self) -> str:\n",
    "        return \"SortedMultiset\" + str(self.a)\n",
    "    \n",
    "    def __str__(self) -> str:\n",
    "        s = str(list(self))\n",
    "        return \"{\" + s[1 : len(s) - 1] + \"}\"\n",
    "\n",
    "    def _find_bucket(self, x: T) -> List[T]:\n",
    "        \"Find the bucket which should contain x. self must not be empty.\"\n",
    "        for a in self.a:\n",
    "            if x <= a[-1]: return a\n",
    "        return a\n",
    "\n",
    "    def __contains__(self, x: T) -> bool:\n",
    "        if self.size == 0: return False\n",
    "        a = self._find_bucket(x)\n",
    "        i = bisect_left(a, x)\n",
    "        return i != len(a) and a[i] == x\n",
    "\n",
    "    def count(self, x: T) -> int:\n",
    "        \"Count the number of x.\"\n",
    "        return self.index_right(x) - self.index(x)\n",
    "\n",
    "    def add(self, x: T) -> None:\n",
    "        \"Add an element. / O(√N)\"\n",
    "        if self.size == 0:\n",
    "            self.a = [[x]]\n",
    "            self.size = 1\n",
    "            return\n",
    "        a = self._find_bucket(x)\n",
    "        insort(a, x)\n",
    "        self.size += 1\n",
    "        if len(a) > len(self.a) * self.REBUILD_RATIO:\n",
    "            self._build()\n",
    "\n",
    "    def discard(self, x: T) -> bool:\n",
    "        \"Remove an element and return True if removed. / O(√N)\"\n",
    "        if self.size == 0: return False\n",
    "        a = self._find_bucket(x)\n",
    "        i = bisect_left(a, x)\n",
    "        if i == len(a) or a[i] != x: return False\n",
    "        a.pop(i)\n",
    "        self.size -= 1\n",
    "        if len(a) == 0: self._build()\n",
    "        return True\n",
    "\n",
    "    def lt(self, x: T) -> Union[T, None]:\n",
    "        \"Find the largest element < x, or None if it doesn't exist.\"\n",
    "        for a in reversed(self.a):\n",
    "            if a[0] < x:\n",
    "                return a[bisect_left(a, x) - 1]\n",
    "\n",
    "    def le(self, x: T) -> Union[T, None]:\n",
    "        \"Find the largest element <= x, or None if it doesn't exist.\"\n",
    "        for a in reversed(self.a):\n",
    "            if a[0] <= x:\n",
    "                return a[bisect_right(a, x) - 1]\n",
    "\n",
    "    def gt(self, x: T) -> Union[T, None]:\n",
    "        \"Find the smallest element > x, or None if it doesn't exist.\"\n",
    "        for a in self.a:\n",
    "            if a[-1] > x:\n",
    "                return a[bisect_right(a, x)]\n",
    "\n",
    "    def ge(self, x: T) -> Union[T, None]:\n",
    "        \"Find the smallest element >= x, or None if it doesn't exist.\"\n",
    "        for a in self.a:\n",
    "            if a[-1] >= x:\n",
    "                return a[bisect_left(a, x)]\n",
    "    \n",
    "    def __getitem__(self, x: int) -> T:\n",
    "        \"Return the x-th element, or IndexError if it doesn't exist.\"\n",
    "        if x < 0: x += self.size\n",
    "        if x < 0: raise IndexError\n",
    "        for a in self.a:\n",
    "            if x < len(a): return a[x]\n",
    "            x -= len(a)\n",
    "        raise IndexError\n",
    "\n",
    "    def index(self, x: T) -> int:\n",
    "        \"Count the number of elements < x.\"\n",
    "        ans = 0\n",
    "        for a in self.a:\n",
    "            if a[-1] >= x:\n",
    "                return ans + bisect_left(a, x)\n",
    "            ans += len(a)\n",
    "        return ans\n",
    "\n",
    "    def index_right(self, x: T) -> int:\n",
    "        \"Count the number of elements <= x.\"\n",
    "        ans = 0\n",
    "        for a in self.a:\n",
    "            if a[-1] > x:\n",
    "                return ans + bisect_right(a, x)\n",
    "            ans += len(a)\n",
    "        return ans\n",
    "\n",
    "n = int(input())\n",
    "li = [list(map(int, input().split())) for _ in range(n)]\n",
    "\n",
    "xs = set()\n",
    "for l, h, r in li:\n",
    "    xs.add(l)\n",
    "    xs.add(r)\n",
    "    \n",
    "xs = sorted(xs)\n",
    "xs_len = len(xs)\n",
    "reduced = {xs[i]: i for i in range(xs_len)}\n",
    "\n",
    "info = [[] for _ in range(xs_len + 1)]\n",
    "for i in range(n):\n",
    "    s = reduced[li[i][0]]\n",
    "    e = reduced[li[i][2]]\n",
    "    h = li[i][1]\n",
    "    \n",
    "    info[s].append(h)\n",
    "    info[e].append(-h)\n",
    "    \n",
    "ms = SortedMultiset()\n",
    "fh = 0\n",
    "r = []\n",
    "for i in range(xs_len):\n",
    "    for v in info[i]:\n",
    "        if v > 0:\n",
    "            ms.add(v)\n",
    "        else:\n",
    "            ms.discard(-v)\n",
    "            \n",
    "    if not ms:\n",
    "        cur_h = 0\n",
    "    else:\n",
    "        cur_h = ms[-1]\n",
    "        \n",
    "    if cur_h != fh:\n",
    "        r.append((xs[i], cur_h))\n",
    "        fh = cur_h\n",
    "        \n",
    "result = []\n",
    "for v in r:\n",
    "    result.extend(v)\n",
    "    \n",
    "print(*result)"
   ]
  },
  {
   "cell_type": "markdown",
   "metadata": {},
   "source": [
    "https://www.acmicpc.net/problem/12767 Ceiling Function"
   ]
  },
  {
   "cell_type": "code",
   "execution_count": 14,
   "metadata": {},
   "outputs": [
    {
     "name": "stdout",
     "output_type": "stream",
     "text": [
      "3 4\n",
      "3 1 2 40000\n",
      "3 4 2 1\n",
      "33 42 17 23\n",
      "2\n"
     ]
    }
   ],
   "source": [
    "import io, os, sys\n",
    "input = io.BytesIO(os.read(0,os.fstat(0).st_size)).readline\n",
    "\n",
    "## PYRIVAL BOOTSTRAP\n",
    "# https://github.com/cheran-senthil/PyRival/blob/master/pyrival/misc/bootstrap.py\n",
    "# This decorator allows for recursion without actually doing recursion\n",
    "## @bootstrap, yield when getting and returning value in recursive functions, end of functions\n",
    "from types import GeneratorType\n",
    "\n",
    "def bootstrap(f, stack=[]):\n",
    "    def wrappedfunc(*args, **kwargs):\n",
    "        if stack:\n",
    "            return f(*args, **kwargs)\n",
    "        else:\n",
    "            to = f(*args, **kwargs)\n",
    "            while True:\n",
    "                if type(to) is GeneratorType:\n",
    "                    stack.append(to)\n",
    "                    to = next(to)\n",
    "                else:\n",
    "                    stack.pop()\n",
    "                    if not stack:\n",
    "                        break\n",
    "                    to = stack[-1].send(to)\n",
    "            return to\n",
    "    return wrappedfunc\n",
    "\n",
    "@bootstrap\n",
    "def dfs(node):\n",
    "    if node.left:\n",
    "        seq.append(0)\n",
    "        yield dfs(node.left)\n",
    "    \n",
    "    if node.right:\n",
    "        seq.append(1)\n",
    "        yield dfs(node.right)\n",
    "    \n",
    "    seq.append(-1)\n",
    "    \n",
    "    yield\n",
    "\n",
    "n, k = map(int, input().split())\n",
    "\n",
    "class Node():\n",
    "    def __init__(self, value):\n",
    "        self.value = value\n",
    "        self.left = None\n",
    "        self.right = None\n",
    "\n",
    "st = set()\n",
    "for _ in range(n):\n",
    "    li = list(map(int, input().split()))\n",
    "    \n",
    "    root = Node(li[0])\n",
    "    \n",
    "    for i in range(1, k):\n",
    "        v = li[i]\n",
    "        \n",
    "        cur = root\n",
    "        while True:\n",
    "            if v < cur.value:\n",
    "                if not cur.left:\n",
    "                    cur.left = Node(v)\n",
    "                    break\n",
    "                else:\n",
    "                    cur = cur.left\n",
    "            else:\n",
    "                if not cur.right:\n",
    "                    cur.right = Node(v)\n",
    "                    break\n",
    "                else:\n",
    "                    cur = cur.right\n",
    "                    \n",
    "    seq = []\n",
    "    dfs(root)\n",
    "    \n",
    "    st.add(tuple(seq))\n",
    "    \n",
    "r = len(st)\n",
    "\n",
    "print(r)"
   ]
  },
  {
   "cell_type": "markdown",
   "metadata": {},
   "source": [
    "https://www.acmicpc.net/problem/15860 Ninety-nine"
   ]
  },
  {
   "cell_type": "code",
   "execution_count": null,
   "metadata": {},
   "outputs": [],
   "source": [
    "1 2 4  7 10 13\n",
    "1 3 4"
   ]
  },
  {
   "cell_type": "code",
   "execution_count": null,
   "metadata": {},
   "outputs": [],
   "source": [
    "1 3 4 6 7 9"
   ]
  },
  {
   "cell_type": "code",
   "execution_count": null,
   "metadata": {},
   "outputs": [],
   "source": [
    "import sys\n",
    "from random import randint\n",
    "\n",
    "print(1)\n",
    "sys.stdout.flush()\n",
    "\n",
    "while True:\n",
    "    ov = int(input())\n",
    "    \n",
    "    if ov % 3 == 1:\n",
    "        cur = ov + 2\n",
    "    elif ov % 3 == 2:\n",
    "        cur = ov + 1\n",
    "    elif ov % 3 == 0:\n",
    "        cur = ov + randint(1, 2)\n",
    "        \n",
    "    print(cur)\n",
    "    sys.stdout.flush()\n",
    "        \n",
    "    if cur >= 99:\n",
    "        break"
   ]
  },
  {
   "cell_type": "markdown",
   "metadata": {},
   "source": [
    "https://www.acmicpc.net/problem/24239 Coins"
   ]
  },
  {
   "cell_type": "code",
   "execution_count": null,
   "metadata": {},
   "outputs": [],
   "source": [
    "n - 1을 가져가야함"
   ]
  },
  {
   "cell_type": "code",
   "execution_count": null,
   "metadata": {},
   "outputs": [],
   "source": [
    "7을 가져가야함\n",
    " \n",
    "3 7\n",
    "0 4 8\n",
    "1 5 9\n",
    "2 6 10\n",
    "3 7 11"
   ]
  },
  {
   "cell_type": "code",
   "execution_count": null,
   "metadata": {},
   "outputs": [],
   "source": [
    "import sys\n",
    "\n",
    "n = int(input())\n",
    "n -= 1\n",
    "\n",
    "assert n % 4 != 0\n",
    "\n",
    "cur = n % 4\n",
    "print(cur)\n",
    "sys.stdout.flush()\n",
    "\n",
    "while True:\n",
    "    ov = input()\n",
    "    \n",
    "    if ov == 'I give up':\n",
    "        break\n",
    "    ov = int(ov)\n",
    "    \n",
    "    nxt_to_make = cur + 4\n",
    "    cur += ov\n",
    "    \n",
    "    to_add = nxt_to_make - cur\n",
    "    print(to_add)\n",
    "    sys.stdout.flush()\n",
    "    \n",
    "    cur = nxt_to_make"
   ]
  },
  {
   "cell_type": "markdown",
   "metadata": {},
   "source": [
    "https://www.acmicpc.net/contest/problem/891/1 A"
   ]
  },
  {
   "cell_type": "code",
   "execution_count": 3,
   "metadata": {},
   "outputs": [
    {
     "name": "stdout",
     "output_type": "stream",
     "text": [
      "Z\n",
      "101\n"
     ]
    }
   ],
   "source": [
    "c = input()\n",
    "\n",
    "diff = abs(ord('I') - ord(c))\n",
    "\n",
    "r = 84 + diff\n",
    "\n",
    "print(r)"
   ]
  },
  {
   "cell_type": "markdown",
   "metadata": {},
   "source": [
    "https://www.acmicpc.net/contest/problem/891/2 B"
   ]
  },
  {
   "cell_type": "code",
   "execution_count": null,
   "metadata": {},
   "outputs": [],
   "source": [
    "mod = 998244353\n",
    "\n",
    "r, c = map(int, input().split())\n",
    "li = list(map(int, input().split()))\n",
    "ps = list(map(int, input().split()))\n",
    "\n"
   ]
  },
  {
   "cell_type": "code",
   "execution_count": null,
   "metadata": {},
   "outputs": [],
   "source": [
    "2 5 11 17 19 43\n",
    "\n",
    "2 5 11\n",
    "17 19 43"
   ]
  },
  {
   "cell_type": "code",
   "execution_count": null,
   "metadata": {},
   "outputs": [],
   "source": [
    "r*c! / r!"
   ]
  },
  {
   "cell_type": "code",
   "execution_count": 12,
   "metadata": {},
   "outputs": [
    {
     "name": "stdout",
     "output_type": "stream",
     "text": [
      "3 2\n",
      "1 1 1 1 1 1\n",
      "1 1 1\n",
      "120\n"
     ]
    }
   ],
   "source": [
    "mod = 998244353\n",
    "\n",
    "def facto(num):\n",
    "    res = 1\n",
    "    for i in range(2, num + 1):\n",
    "        res *= i\n",
    "        res %= mod\n",
    "        \n",
    "    return res\n",
    "\n",
    "r, c = map(int, input().split())\n",
    "li = list(map(int, input().split()))\n",
    "ps = list(map(int, input().split()))\n",
    "\n",
    "num = facto(r * c)\n",
    "denom = facto(r)\n",
    "\n",
    "result = num * pow(denom, mod - 2, mod) % mod\n",
    "\n",
    "print(result)"
   ]
  },
  {
   "cell_type": "markdown",
   "metadata": {},
   "source": [
    "https://www.acmicpc.net/contest/problem/891/3 C"
   ]
  },
  {
   "cell_type": "code",
   "execution_count": 14,
   "metadata": {},
   "outputs": [
    {
     "name": "stdout",
     "output_type": "stream",
     "text": [
      "8 3\n",
      "5 5 5 5 5 5 5 5\n",
      "0\n"
     ]
    }
   ],
   "source": [
    "n, m = map(int, input().split())\n",
    "li = list(map(int, input().split()))\n",
    "\n",
    "s = 0\n",
    "e = 0\n",
    "cur = li[s]\n",
    "r = 0\n",
    "while True:\n",
    "    if cur <= m:\n",
    "        r = max(r, cur)\n",
    "        e += 1\n",
    "        if e >= n:\n",
    "            break\n",
    "        cur += li[e]\n",
    "    else:\n",
    "        cur -= li[s]\n",
    "        s += 1\n",
    "        if s > e:\n",
    "            e = s\n",
    "            if e >= n:\n",
    "                break\n",
    "            cur = li[e]\n",
    "            \n",
    "print(r)"
   ]
  },
  {
   "cell_type": "markdown",
   "metadata": {},
   "source": [
    "https://www.acmicpc.net/contest/problem/891/4 D"
   ]
  },
  {
   "cell_type": "markdown",
   "metadata": {},
   "source": [
    "10\n",
    "(()))((())\n",
    "      \n",
    "() )( ()\n",
    "\n",
    "(O) )X( (O)\n",
    "\n",
    "()()()()\n",
    "\n",
    ")()(\n",
    "\n",
    ")))(((\n",
    "\n"
   ]
  },
  {
   "cell_type": "code",
   "execution_count": 17,
   "metadata": {},
   "outputs": [
    {
     "name": "stdout",
     "output_type": "stream",
     "text": [
      "3\n",
      "(()\n",
      "-1\n"
     ]
    }
   ],
   "source": [
    "n = int(input())\n",
    "s = input()\n",
    "\n",
    "r = 0\n",
    "cur = 0\n",
    "for v in s:\n",
    "    if v == '(':\n",
    "        cur += 1\n",
    "    else:\n",
    "        cur -= 1\n",
    "        \n",
    "    r = max(r, abs(cur))\n",
    "    \n",
    "if cur != 0:\n",
    "    print(-1)\n",
    "else:\n",
    "    print(r)"
   ]
  },
  {
   "cell_type": "markdown",
   "metadata": {},
   "source": [
    "https://www.acmicpc.net/contest/problem/891/5 E"
   ]
  },
  {
   "cell_type": "code",
   "execution_count": null,
   "metadata": {},
   "outputs": [],
   "source": [
    "1 2 4 6 8 10 12 14"
   ]
  },
  {
   "cell_type": "code",
   "execution_count": null,
   "metadata": {},
   "outputs": [],
   "source": [
    "1 2 4\n",
    "1  3\n",
    "1     5"
   ]
  },
  {
   "cell_type": "code",
   "execution_count": 18,
   "metadata": {},
   "outputs": [
    {
     "data": {
      "text/plain": [
       "12"
      ]
     },
     "execution_count": 18,
     "metadata": {},
     "output_type": "execute_result"
    }
   ],
   "source": [
    "2 + 2 + 3 + 5"
   ]
  },
  {
   "cell_type": "code",
   "execution_count": 23,
   "metadata": {},
   "outputs": [
    {
     "name": "stdout",
     "output_type": "stream",
     "text": [
      "1000000\n",
      "37568404989\n"
     ]
    }
   ],
   "source": [
    "n = int(input())\n",
    "\n",
    "cur = [0] * (n + 1)\n",
    "r = 0\n",
    "for i in range(2, n + 1):\n",
    "    if cur[i] == 0:\n",
    "        cur[i] = i\n",
    "        r += i\n",
    "        for j in range(i + i, n + 1, i):\n",
    "            if cur[j] == 0:\n",
    "                cur[j] = i\n",
    "                r += i\n",
    "                \n",
    "print(r)"
   ]
  },
  {
   "cell_type": "markdown",
   "metadata": {},
   "source": [
    "https://www.acmicpc.net/contest/problem/891/6 F"
   ]
  },
  {
   "cell_type": "code",
   "execution_count": null,
   "metadata": {},
   "outputs": [],
   "source": [
    "n = 3\n",
    "\n",
    "a3 a2 a1 a0"
   ]
  },
  {
   "cell_type": "code",
   "execution_count": null,
   "metadata": {},
   "outputs": [],
   "source": [
    "1x2 + 2x1 + 3\n",
    "\n",
    "\n",
    "\n",
    "1 * 4 + 2 * 2 + 3"
   ]
  },
  {
   "cell_type": "code",
   "execution_count": 24,
   "metadata": {},
   "outputs": [
    {
     "data": {
      "text/plain": [
       "11"
      ]
     },
     "execution_count": 24,
     "metadata": {},
     "output_type": "execute_result"
    }
   ],
   "source": [
    "a2 * x * x + a1 * x + a0 = ?\n",
    "a2 * x * x + a1 * x + a0 = ?"
   ]
  },
  {
   "cell_type": "code",
   "execution_count": null,
   "metadata": {},
   "outputs": [],
   "source": [
    "import sys\n",
    "# input = lambda: sys.stdin.readline().rstrip()\n",
    "\n",
    "# https://stackoverflow.com/questions/32114054/matrix-inversion-without-numpy\n",
    "def transposeMatrix(m):\n",
    "    return list(map(list,zip(*m)))\n",
    "\n",
    "def getMatrixMinor(m,i,j):\n",
    "    return [row[:j] + row[j+1:] for row in (m[:i]+m[i+1:])]\n",
    "\n",
    "def getMatrixDeternminant(m):\n",
    "    #base case for 2x2 matrix\n",
    "    if len(m) == 2:\n",
    "        return m[0][0]*m[1][1]-m[0][1]*m[1][0]\n",
    "\n",
    "    determinant = 0\n",
    "    for c in range(len(m)):\n",
    "        determinant += ((-1)**c)*m[0][c]*getMatrixDeternminant(getMatrixMinor(m,0,c))\n",
    "    return determinant\n",
    "\n",
    "def getMatrixInverse(m):\n",
    "    determinant = getMatrixDeternminant(m)\n",
    "    #special case for 2x2 matrix:\n",
    "    if len(m) == 2:\n",
    "        return [[m[1][1], -1*m[0][1]], [-1*m[1][0], m[0][0]]], determinant\n",
    "\n",
    "    #find matrix of cofactors\n",
    "    cofactors = []\n",
    "    for r in range(len(m)):\n",
    "        cofactorRow = []\n",
    "        for c in range(len(m)):\n",
    "            minor = getMatrixMinor(m,r,c)\n",
    "            cofactorRow.append(((-1)**(r+c)) * getMatrixDeternminant(minor))\n",
    "        cofactors.append(cofactorRow)\n",
    "    cofactors = transposeMatrix(cofactors)\n",
    "    \n",
    "    for r in range(len(cofactors)):\n",
    "        for c in range(len(cofactors)):\n",
    "            cofactors[r][c] = cofactors[r][c]\n",
    "    return cofactors, determinant\n",
    "\n",
    "def mul(A, B):\n",
    "    A_n = len(A)\n",
    "    A_m = len(A[0])\n",
    "    B_n = len(B)\n",
    "    B_m = len(B[0])\n",
    "    \n",
    "    result = []\n",
    "    for i in range(A_n):\n",
    "        \n",
    "        temp_li = []\n",
    "        for j in range(B_m):\n",
    "            total = 0\n",
    "            for k in range(A_m):\n",
    "                 total += A[i][k] * B[k][j]\n",
    "            temp_li.append(total)\n",
    "        result.append(temp_li[0])\n",
    "    return result\n",
    "\n",
    "n = int(input())\n",
    "\n",
    "if n == 0:\n",
    "    print('?', 1)\n",
    "    sys.stdout.flush()\n",
    "    \n",
    "    r = int(input())\n",
    "    \n",
    "    print('!', r)\n",
    "    sys.stdout.flush()\n",
    "else:\n",
    "    A = []\n",
    "    for cur_x in range(1, n + 2):\n",
    "        temp = [1]\n",
    "        cur = cur_x\n",
    "        for i in range(n):\n",
    "            temp.append(cur)\n",
    "            cur *= cur_x\n",
    "\n",
    "        A.append(temp)\n",
    "\n",
    "    to_mul = []\n",
    "    for cur_x in range(1, n + 2):\n",
    "        print('?', cur_x)\n",
    "        sys.stdout.flush()\n",
    "\n",
    "        r = int(input())\n",
    "        to_mul.append([r])\n",
    "\n",
    "    A, de = getMatrixInverse(A)\n",
    "\n",
    "    result = mul(A, to_mul)\n",
    "    \n",
    "    if de == 0:\n",
    "        while True:\n",
    "            print(1)\n",
    "            \n",
    "    for i in range(len(result)):\n",
    "        result[i] //= de\n",
    "\n",
    "    print('!', *result)\n",
    "    sys.stdout.flush()"
   ]
  },
  {
   "cell_type": "code",
   "execution_count": 101,
   "metadata": {},
   "outputs": [
    {
     "name": "stdout",
     "output_type": "stream",
     "text": [
      "2\n",
      "? 1000000000\n",
      "1000000002000000003\n",
      "! 3 2 1\n"
     ]
    }
   ],
   "source": [
    "import sys\n",
    "\n",
    "n = int(input())\n",
    "\n",
    "print('?', int(1e9))\n",
    "sys.stdout.flush()\n",
    "\n",
    "v = input()\n",
    "\n",
    "cur = len(v) - 1\n",
    "result = []\n",
    "for _ in range(n + 1):\n",
    "    result.append(int(v[max(0, cur - 8):cur + 1]))\n",
    "    cur -= 9\n",
    "\n",
    "print('!', *result)\n",
    "sys.stdout.flush()"
   ]
  },
  {
   "cell_type": "code",
   "execution_count": null,
   "metadata": {},
   "outputs": [],
   "source": []
  },
  {
   "cell_type": "code",
   "execution_count": 96,
   "metadata": {},
   "outputs": [
    {
     "data": {
      "text/plain": [
       "'1000000002000000003'"
      ]
     },
     "execution_count": 96,
     "metadata": {},
     "output_type": "execute_result"
    }
   ],
   "source": [
    "str(3 + 2 * int(1e9) + 1 * int(1e9) ** 2)"
   ]
  },
  {
   "cell_type": "markdown",
   "metadata": {},
   "source": [
    "https://www.acmicpc.net/contest/problem/891/7 G"
   ]
  },
  {
   "cell_type": "code",
   "execution_count": null,
   "metadata": {},
   "outputs": [],
   "source": [
    "# 접근 방식이 잘못되었음\n",
    "from collections import deque\n",
    "\n",
    "dx = [-1, 1, 0, 0]\n",
    "dy = [0, 0, -1, 1]\n",
    "\n",
    "n, m = map(int, input().split())\n",
    "l, e, k = map(int, input().split())\n",
    "li = [list(map(int, input().split())) for _ in range(n)]\n",
    "\n",
    "sx = sy = -1\n",
    "for i in range(n):\n",
    "    for j in range(m):\n",
    "        if li[i][j] == -3:\n",
    "            li[i][j] = 0\n",
    "            sx = i\n",
    "            sy = j\n",
    "            break\n",
    "    if sx != -1:\n",
    "        break\n",
    "\n",
    "info = [[[-1, -1] for _ in range(m)] for _ in range(n)] # info[n][m] = [레벨, 경험치]\n",
    "queue = deque()\n",
    "queue.append((sx, sy, l, e))\n",
    "result = False\n",
    "while queue:\n",
    "    x, y, level, exp = queue.popleft()\n",
    "    \n",
    "    for d in range(4):\n",
    "        nx = x + dx[d]\n",
    "        ny = y + dy[d]\n",
    "        \n",
    "        if nx < 0 or nx >= n or ny < 0 or ny >= m:\n",
    "            continue\n",
    "        if li[nx][ny] == -1:\n",
    "            continue\n",
    "        if li[nx][ny] == -2:\n",
    "            if level >= k:\n",
    "                result = True\n",
    "            continue\n",
    "        if li[nx][ny] >= level:\n",
    "            continue\n",
    "        \n",
    "        cur_needed = level - exp\n",
    "        if li[nx][ny] < cur_needed:\n",
    "            nlevel = level\n",
    "            nexp = exp + li[nx][ny]\n",
    "        else:\n",
    "            over = li[nx][ny] - cur_needed\n",
    "            nlevel = level + 1\n",
    "            nexp = over\n",
    "            \n",
    "        if nlevel > info[nx][ny][0] or nlevel == info[nx][ny][0] and nexp > info[nx][ny][1]:\n",
    "            info[nx][ny] = [nlevel, nexp]\n",
    "            queue.append((nx, ny, nlevel, nexp))\n",
    "            \n",
    "if result:\n",
    "    print('O')\n",
    "else:\n",
    "    print('X')"
   ]
  },
  {
   "cell_type": "code",
   "execution_count": null,
   "metadata": {},
   "outputs": [],
   "source": [
    "from heapq import heappush, heappop\n",
    "from collections import deque\n",
    "import io, os, sys\n",
    "input = io.BytesIO(os.read(0,os.fstat(0).st_size)).readline\n",
    "\n",
    "dx = [-1, 1, 0, 0]\n",
    "dy = [0, 0, -1, 1]\n",
    "\n",
    "n, m = map(int, input().split())\n",
    "l, e, k = map(int, input().split())\n",
    "li = [list(map(int, input().split())) for _ in range(n)]\n",
    "\n",
    "sx = sy = -1\n",
    "ex = ey = -1\n",
    "for i in range(n):\n",
    "    for j in range(m):\n",
    "        if li[i][j] == -3:\n",
    "            li[i][j] = 0\n",
    "            sx, sy = i, j\n",
    "        if li[i][j] == -2:\n",
    "            ex, ey = i, j\n",
    "\n",
    "level, exp = l, e\n",
    "\n",
    "vt = [[False] * m for _ in range(n)]\n",
    "vt[sx][sy] = True\n",
    "\n",
    "queue = deque()\n",
    "queue.append((sx, sy))\n",
    "\n",
    "heap = []\n",
    "while queue:\n",
    "    x, y = queue.popleft()\n",
    "    \n",
    "    for d in range(4):\n",
    "        nx = x + dx[d]\n",
    "        ny = y + dy[d]\n",
    "        \n",
    "        if nx < 0 or nx >= n or ny < 0 or ny >= m:\n",
    "            continue\n",
    "        if li[nx][ny] == -1:\n",
    "            continue\n",
    "        if vt[nx][ny]:\n",
    "            continue\n",
    "        vt[nx][ny] = True\n",
    "        \n",
    "        if li[nx][ny] == -2:\n",
    "            continue\n",
    "        if li[nx][ny] >= level:\n",
    "            heappush(heap, [li[nx][ny], nx, ny])\n",
    "        else:\n",
    "            if li[nx][ny] >= 1:\n",
    "                wait = deque([li[nx][ny]])\n",
    "                while wait:\n",
    "                    to_add = wait.popleft()\n",
    "\n",
    "                    cur_needed = level - exp\n",
    "                    if to_add < cur_needed:\n",
    "                        exp += to_add\n",
    "                    else:\n",
    "                        over = to_add - cur_needed\n",
    "                        level += 1\n",
    "                        exp = over\n",
    "\n",
    "                    while heap and heap[0][0] < level:\n",
    "                        f_to_add, fx, fy = heappop(heap)\n",
    "                        wait.append(f_to_add)\n",
    "                        queue.append((fx, fy))\n",
    "            queue.append((nx, ny))\n",
    "\n",
    "if vt[ex][ey] and level >= k:\n",
    "    r = True\n",
    "else:\n",
    "    r = False\n",
    "            \n",
    "if r:\n",
    "    print('O')\n",
    "else:\n",
    "    print('X')"
   ]
  },
  {
   "cell_type": "markdown",
   "metadata": {},
   "source": [
    "https://www.acmicpc.net/problem/12148 Brattleship (Large)"
   ]
  },
  {
   "cell_type": "code",
   "execution_count": 43,
   "metadata": {},
   "outputs": [
    {
     "name": "stdout",
     "output_type": "stream",
     "text": [
      "1\n",
      "1 4 2\n",
      "Case #1: 3\n"
     ]
    }
   ],
   "source": [
    "import io, os, sys\n",
    "input = io.BytesIO(os.read(0,os.fstat(0).st_size)).readline\n",
    "\n",
    "for tm in range(int(input())):\n",
    "    r, c, w = map(int, input().split())\n",
    "\n",
    "    result = (r - 1) * (c // w)\n",
    "\n",
    "    last = w * (c // w)\n",
    "    last_m1 = last - w\n",
    "\n",
    "    if last_m1 < 1:\n",
    "        result += min(c, w + 1)\n",
    "    else:\n",
    "        result += (last_m1 // w)\n",
    "        result += min(c - last_m1, w + 1)\n",
    "\n",
    "    print(f'Case #{tm + 1}: {result}')"
   ]
  },
  {
   "cell_type": "markdown",
   "metadata": {},
   "source": [
    "https://www.acmicpc.net/problem/19253 Don't Split The Atom!"
   ]
  },
  {
   "cell_type": "code",
   "execution_count": 44,
   "metadata": {},
   "outputs": [
    {
     "name": "stdout",
     "output_type": "stream",
     "text": [
      "2\n",
      "2\n",
      "A\n",
      "17\n",
      "B\n"
     ]
    }
   ],
   "source": [
    "for _ in range(int(input())):\n",
    "    n = int(input())\n",
    "    \n",
    "    if n % 2 == 1:\n",
    "        print('B')\n",
    "    else:\n",
    "        print('A')"
   ]
  },
  {
   "cell_type": "markdown",
   "metadata": {},
   "source": [
    "https://www.acmicpc.net/problem/21049 Coin Stacks"
   ]
  },
  {
   "cell_type": "code",
   "execution_count": 83,
   "metadata": {},
   "outputs": [
    {
     "name": "stdout",
     "output_type": "stream",
     "text": [
      "4\n",
      "0 0 0 0\n",
      "yes\n"
     ]
    }
   ],
   "source": [
    "from heapq import heapify, heappush, heappop\n",
    "\n",
    "n = int(input())\n",
    "li = list(map(int, input().split()))\n",
    "\n",
    "heap = [(-li[i], i + 1) for i in range(n) if li[i] >= 1]\n",
    "heapify(heap)\n",
    "\n",
    "ip = True\n",
    "result = []\n",
    "while len(heap) >= 2:\n",
    "    v1, i1 = heappop(heap)\n",
    "    v2, i2 = heappop(heap)\n",
    "    \n",
    "    result.append((i1, i2))\n",
    "    v1 += 1\n",
    "    v2 += 1\n",
    "    \n",
    "    if v1 < 0:\n",
    "        heappush(heap, (v1, i1))\n",
    "    if v2 < 0:\n",
    "        heappush(heap, (v2, i2))\n",
    "        \n",
    "if len(heap) == 1:\n",
    "    ip = False\n",
    "    \n",
    "if not ip:\n",
    "    print('no')\n",
    "else:\n",
    "    print('yes')\n",
    "    for v in result:\n",
    "        print(*v)"
   ]
  }
 ],
 "metadata": {
  "kernelspec": {
   "display_name": "Python 3",
   "language": "python",
   "name": "python3"
  },
  "language_info": {
   "codemirror_mode": {
    "name": "ipython",
    "version": 3
   },
   "file_extension": ".py",
   "mimetype": "text/x-python",
   "name": "python",
   "nbconvert_exporter": "python",
   "pygments_lexer": "ipython3",
   "version": "3.7.4"
  }
 },
 "nbformat": 4,
 "nbformat_minor": 2
}
