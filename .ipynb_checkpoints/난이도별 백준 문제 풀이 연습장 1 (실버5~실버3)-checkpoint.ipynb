{
 "cells": [
  {
   "cell_type": "markdown",
   "metadata": {},
   "source": [
    "### 보물 1026\n",
    "- 정렬"
   ]
  },
  {
   "cell_type": "code",
   "execution_count": 1,
   "metadata": {},
   "outputs": [
    {
     "name": "stdout",
     "output_type": "stream",
     "text": [
      "5\n",
      "1 1 1 6 0\n",
      "2 7 8 3 1\n",
      "18\n"
     ]
    }
   ],
   "source": [
    "n = int(input())\n",
    "A = list(map(int, input().split()))\n",
    "B = list(map(int, input().split()))\n",
    "\n",
    "A.sort()\n",
    "B.sort(reverse=True)\n",
    "\n",
    "total = 0\n",
    "for i in range(n):\n",
    "    total += A[i] * B[i]\n",
    "    \n",
    "print(total)"
   ]
  },
  {
   "cell_type": "markdown",
   "metadata": {},
   "source": [
    "### 방 번호 1475\n",
    "- 구현"
   ]
  },
  {
   "cell_type": "code",
   "execution_count": 54,
   "metadata": {},
   "outputs": [
    {
     "name": "stdout",
     "output_type": "stream",
     "text": [
      "666699\n",
      "3\n"
     ]
    }
   ],
   "source": [
    "from collections import Counter\n",
    "\n",
    "s = input()\n",
    "c = Counter(s)\n",
    "\n",
    "six_or_nine_count = 0\n",
    "\n",
    "if c.get(\"9\", 0) > 0:\n",
    "    six_or_nine_count += c.get(\"9\", 0)\n",
    "    del c['9']\n",
    "if c.get(\"6\", 0) > 0:\n",
    "    six_or_nine_count += c.get(\"6\", 0)\n",
    "    del c['6']\n",
    "    \n",
    "if c:\n",
    "    print(max(max(c.values()), (six_or_nine_count + 1) // 2))\n",
    "else:\n",
    "    print((six_or_nine_count + 1) // 2)"
   ]
  },
  {
   "cell_type": "markdown",
   "metadata": {},
   "source": [
    "### 막대기 1094\n",
    "- 수학, 비트마스킹"
   ]
  },
  {
   "cell_type": "code",
   "execution_count": 59,
   "metadata": {},
   "outputs": [
    {
     "name": "stdout",
     "output_type": "stream",
     "text": [
      "48\n",
      "2\n"
     ]
    }
   ],
   "source": [
    "import heapq\n",
    "\n",
    "x = int(input())\n",
    "heap = []\n",
    "heapq.heappush(heap, 64)\n",
    "while True:\n",
    "    if sum(heap) > x:\n",
    "        value = heapq.heappop(heap)\n",
    "        value //= 2\n",
    "        if sum(heap) + value >= x:\n",
    "            heapq.heappush(heap, value)\n",
    "        else:\n",
    "            heapq.heappush(heap, value)\n",
    "            heapq.heappush(heap, value)\n",
    "    else:\n",
    "        break\n",
    "\n",
    "print(len(heap))"
   ]
  },
  {
   "cell_type": "markdown",
   "metadata": {},
   "source": [
    "### 회전하는 큐 1021\n",
    "- 자료 구조, 덱"
   ]
  },
  {
   "cell_type": "code",
   "execution_count": 72,
   "metadata": {},
   "outputs": [
    {
     "name": "stdout",
     "output_type": "stream",
     "text": [
      "1 1\n",
      "1\n",
      "0\n"
     ]
    }
   ],
   "source": [
    "from collections import deque\n",
    "\n",
    "n, m = map(int, input().split())\n",
    "li = list(map(int, input().split()))\n",
    "\n",
    "queue = range(1, n + 1)\n",
    "queue = deque(queue)\n",
    "\n",
    "count = 0\n",
    "for v in li:\n",
    "    for i in range(len(queue)):\n",
    "        if queue[i] == v:\n",
    "            break\n",
    "\n",
    "    left = i\n",
    "    right = len(queue) - i\n",
    "\n",
    "    if left < right:\n",
    "        queue.rotate(-left)\n",
    "        count += left\n",
    "        queue.popleft()\n",
    "    else:\n",
    "        queue.rotate(right)\n",
    "        count += right\n",
    "        queue.popleft()\n",
    "        \n",
    "print(count)"
   ]
  },
  {
   "cell_type": "markdown",
   "metadata": {},
   "source": [
    "### 수들의 합 2 2003\n",
    "- 두 포인터"
   ]
  },
  {
   "cell_type": "code",
   "execution_count": 75,
   "metadata": {},
   "outputs": [
    {
     "name": "stdout",
     "output_type": "stream",
     "text": [
      "1 1\n",
      "1\n",
      "1\n"
     ]
    }
   ],
   "source": [
    "n, m = map(int, input().split())\n",
    "li = list(map(int, input().split()))\n",
    "\n",
    "count = 0\n",
    "start = 0\n",
    "end = 0\n",
    "while end < n:\n",
    "    value = sum(li[start: end + 1])\n",
    "    if value < m:\n",
    "        end += 1\n",
    "    else:\n",
    "        start += 1\n",
    "        if value == m:\n",
    "            count += 1\n",
    "            \n",
    "    if start > end:\n",
    "        start, end = end, start\n",
    "        \n",
    "print(count)"
   ]
  },
  {
   "cell_type": "code",
   "execution_count": 79,
   "metadata": {},
   "outputs": [
    {
     "name": "stdout",
     "output_type": "stream",
     "text": [
      "10 5\n",
      "1 2 3 4 2 5 3 1 1 2\n",
      "3\n"
     ]
    }
   ],
   "source": [
    "n, m = map(int, input().split())\n",
    "li = list(map(int, input().split()))\n",
    "\n",
    "count = 0\n",
    "start = 0\n",
    "end = 0\n",
    "sum_value = li[start]\n",
    "while True:\n",
    "    if sum_value < m:\n",
    "        end += 1\n",
    "        if n <= end:\n",
    "            break\n",
    "        sum_value += li[end]\n",
    "    else:\n",
    "        if sum_value == m:\n",
    "            count += 1\n",
    "        sum_value -= li[start]\n",
    "        start += 1\n",
    "        \n",
    "        \n",
    "print(count)"
   ]
  },
  {
   "cell_type": "markdown",
   "metadata": {},
   "source": [
    "### 집합 11723\n",
    "- 비트마스킹"
   ]
  },
  {
   "cell_type": "code",
   "execution_count": 85,
   "metadata": {},
   "outputs": [
    {
     "name": "stdout",
     "output_type": "stream",
     "text": [
      "26\n",
      "add 1\n",
      "add 2\n",
      "check 1\n",
      "1\n",
      "check 2\n",
      "1\n",
      "check 3\n",
      "0\n",
      "remove 2\n",
      "check 1\n",
      "1\n",
      "check 2\n",
      "0\n",
      "toggle 3\n",
      "check 1\n",
      "1\n",
      "check 2\n",
      "0\n",
      "check 3\n",
      "1\n",
      "check 4\n",
      "0\n",
      "all\n",
      "check 10\n",
      "1\n",
      "check 20\n",
      "1\n",
      "toggle 10\n",
      "remove 20\n",
      "check 10\n",
      "0\n",
      "check 20\n",
      "0\n",
      "empty\n",
      "check 1\n",
      "0\n",
      "toggle 1\n",
      "check 1\n",
      "1\n",
      "toggle 1\n",
      "check 1\n",
      "0\n"
     ]
    }
   ],
   "source": [
    "import sys\n",
    "# input = sys.stdin.readline\n",
    "\n",
    "st = set()\n",
    "m = int(input().rstrip())\n",
    "for _ in range(m):\n",
    "    command = input().rstrip()\n",
    "    \n",
    "    if command == 'all':\n",
    "        st = {*list(range(1, 21))}\n",
    "        continue\n",
    "        \n",
    "    if command == 'empty':\n",
    "        st = set()\n",
    "        continue\n",
    "        \n",
    "    c, v = command.split()\n",
    "    v = int(v)\n",
    "    \n",
    "    if c == 'add':\n",
    "        st.add(v)\n",
    "    elif c == 'remove':\n",
    "        if v in st:\n",
    "            st.remove(v)\n",
    "    elif c == 'check':\n",
    "        print(int(v in st))\n",
    "    elif c == 'toggle':\n",
    "        if v in st:\n",
    "            st.remove(v)\n",
    "        else:\n",
    "            st.add(v)"
   ]
  },
  {
   "cell_type": "code",
   "execution_count": 83,
   "metadata": {},
   "outputs": [
    {
     "data": {
      "text/plain": [
       "{1, 2, 3, 4, 5, 6, 7, 8, 9, 10, 11, 12, 13, 14, 15, 16, 17, 18, 19, 20}"
      ]
     },
     "execution_count": 83,
     "metadata": {},
     "output_type": "execute_result"
    }
   ],
   "source": [
    "{*list(range(1, 21))}"
   ]
  },
  {
   "cell_type": "markdown",
   "metadata": {},
   "source": [
    "### 에라토스테네스의 체 2960\n",
    "- 수학, 구현, 정수론, 소수 판정, 에라토스테네스의 체"
   ]
  },
  {
   "cell_type": "code",
   "execution_count": 9,
   "metadata": {},
   "outputs": [
    {
     "name": "stdout",
     "output_type": "stream",
     "text": [
      "2 1\n"
     ]
    }
   ],
   "source": [
    "n, k = map(int, input().split())"
   ]
  },
  {
   "cell_type": "code",
   "execution_count": 10,
   "metadata": {},
   "outputs": [
    {
     "name": "stdout",
     "output_type": "stream",
     "text": [
      "2 1\n",
      "2\n"
     ]
    }
   ],
   "source": [
    "n, k = map(int, input().split())\n",
    "li = [False] * 2 + [True] * (n - 1)\n",
    "\n",
    "def find():\n",
    "    count = 0\n",
    "    current = 2\n",
    "    while True:\n",
    "        mul = 1\n",
    "        while True:\n",
    "            value = current * mul\n",
    "\n",
    "            if value > n:\n",
    "                break\n",
    "\n",
    "            if li[value] == True:\n",
    "                li[value] = False\n",
    "                count += 1\n",
    "\n",
    "                if count == k:\n",
    "                    return value\n",
    "            mul += 1\n",
    "            \n",
    "        current = li.index(True)\n",
    "        \n",
    "print(find())"
   ]
  },
  {
   "cell_type": "markdown",
   "metadata": {},
   "source": [
    "### 접미사 배열 11656\n",
    "- 문자열, 정렬"
   ]
  },
  {
   "cell_type": "code",
   "execution_count": 13,
   "metadata": {},
   "outputs": [
    {
     "name": "stdout",
     "output_type": "stream",
     "text": [
      "baekjoon\n",
      "aekjoon\n",
      "baekjoon\n",
      "ekjoon\n",
      "joon\n",
      "kjoon\n",
      "n\n",
      "on\n",
      "oon\n"
     ]
    }
   ],
   "source": [
    "s = input()\n",
    "li = []\n",
    "for i in range(0, len(s)):\n",
    "    li.append(s[i:])\n",
    "    \n",
    "li.sort()\n",
    "print(\"\\n\".join(li))"
   ]
  },
  {
   "cell_type": "markdown",
   "metadata": {},
   "source": [
    "### 문자열 1120\n",
    "- 문자열, 브루트포스"
   ]
  },
  {
   "cell_type": "code",
   "execution_count": 26,
   "metadata": {},
   "outputs": [
    {
     "name": "stdout",
     "output_type": "stream",
     "text": [
      "ac abcd\n",
      "1\n"
     ]
    }
   ],
   "source": [
    "a, b = input().split()\n",
    "\n",
    "min_diff = float('inf')\n",
    "for i in range(len(b) - len(a) + 1):\n",
    "    new_b = b[i:i + len(a)]\n",
    "    \n",
    "    diff = 0\n",
    "    for j in range(len(a)):\n",
    "        if a[j] != new_b[j]:\n",
    "            diff += 1\n",
    "            \n",
    "    if diff < min_diff:\n",
    "        min_diff = diff\n",
    "        \n",
    "print(min_diff)"
   ]
  },
  {
   "cell_type": "markdown",
   "metadata": {},
   "source": [
    "### 큐 2 18258\n",
    "- 자료 구조, 큐"
   ]
  },
  {
   "cell_type": "code",
   "execution_count": 27,
   "metadata": {},
   "outputs": [
    {
     "name": "stdout",
     "output_type": "stream",
     "text": [
      "15\n",
      "push 1\n",
      "push 2\n",
      "front\n",
      "1\n",
      "back\n",
      "2\n",
      "size\n",
      "2\n",
      "empty\n",
      "0\n",
      "pop\n",
      "1\n",
      "pop\n",
      "2\n",
      "pop\n",
      "-1\n",
      "size\n",
      "0\n",
      "empty\n",
      "1\n",
      "pop\n",
      "-1\n",
      "push 3\n",
      "empty\n",
      "0\n",
      "front\n",
      "3\n"
     ]
    }
   ],
   "source": [
    "from collections import deque\n",
    "import sys\n",
    "# input = sys.stdin.readline\n",
    "\n",
    "n = int(input().rstrip())\n",
    "queue = deque()\n",
    "for _ in range(n):\n",
    "    command = input().rstrip()\n",
    "    \n",
    "    if command == 'pop':\n",
    "        if queue:\n",
    "            print(queue.popleft())\n",
    "        else:\n",
    "            print(-1)\n",
    "    elif command == 'size':\n",
    "        print(len(queue))\n",
    "    elif command == 'empty':\n",
    "        if queue:\n",
    "            print(0)\n",
    "        else:\n",
    "            print(1)\n",
    "    elif command == 'front':\n",
    "        if queue:\n",
    "            print(queue[0])\n",
    "        else:\n",
    "            print(-1)\n",
    "    elif command == 'back':\n",
    "        if queue:\n",
    "            print(queue[-1])\n",
    "        else:\n",
    "            print(-1)\n",
    "    else:\n",
    "        _, v = command.split()\n",
    "        v = int(v)\n",
    "        \n",
    "        queue.append(v)"
   ]
  },
  {
   "cell_type": "markdown",
   "metadata": {},
   "source": [
    "### 나는야 포켓몬 마스터 이다솜 1620\n",
    "- 자료 구조, 문자열, 해시를 사용한 집합과 맵"
   ]
  },
  {
   "cell_type": "code",
   "execution_count": 31,
   "metadata": {},
   "outputs": [
    {
     "name": "stdout",
     "output_type": "stream",
     "text": [
      "3 3\n",
      "a\n",
      "b\n",
      "c\n",
      "1\n",
      "a\n",
      "b\n",
      "2\n",
      "3\n",
      "c\n"
     ]
    }
   ],
   "source": [
    "n, m = map(int, input().split())\n",
    "num_to_name = {}\n",
    "name_to_num = {}\n",
    "for i in range(1, n + 1):\n",
    "    name = input()\n",
    "    num_to_name.update({str(i): name})\n",
    "    name_to_num.update({name: str(i)})\n",
    "    \n",
    "for i in range(m):\n",
    "    index = input()\n",
    "    \n",
    "    if index.isdigit():\n",
    "        print(num_to_name[index])\n",
    "    else:\n",
    "        print(name_to_num[index])  "
   ]
  },
  {
   "cell_type": "markdown",
   "metadata": {},
   "source": [
    "### 쉽게 푸는 문제 1292\n",
    "- 수학, 구현"
   ]
  },
  {
   "cell_type": "code",
   "execution_count": 33,
   "metadata": {},
   "outputs": [
    {
     "name": "stdout",
     "output_type": "stream",
     "text": [
      "3 3\n",
      "2\n"
     ]
    }
   ],
   "source": [
    "def fill_list():\n",
    "    li = []\n",
    "    current = 1\n",
    "    while True:\n",
    "        for i in range(current):\n",
    "            li.append(current)\n",
    "        \n",
    "            if len(li) == 1000:\n",
    "                return li\n",
    "            \n",
    "        current += 1\n",
    "        \n",
    "li = fill_list()\n",
    "\n",
    "start, end = map(int, input().split())\n",
    "print(sum(li[start - 1:end]))"
   ]
  },
  {
   "cell_type": "markdown",
   "metadata": {},
   "source": [
    "### 링 3036\n",
    "- 수학, 정수론, 유클리드 호제법"
   ]
  },
  {
   "cell_type": "code",
   "execution_count": 39,
   "metadata": {},
   "outputs": [
    {
     "name": "stdout",
     "output_type": "stream",
     "text": [
      "4\n",
      "12 3 8 4\n",
      "4/1\n",
      "3/2\n",
      "3/1\n"
     ]
    }
   ],
   "source": [
    "import math\n",
    "\n",
    "n = int(input())\n",
    "li = list(map(int, input().split()))\n",
    "\n",
    "a = li[0]\n",
    "del li[0]\n",
    "\n",
    "for b in li:\n",
    "    gcd = math.gcd(a, b)\n",
    "    \n",
    "    print(f'{a // math.gcd(a, b)}/{b // math.gcd(a, b)}')"
   ]
  },
  {
   "cell_type": "markdown",
   "metadata": {},
   "source": [
    "### 점수 계산 2822\n",
    "- 정렬"
   ]
  },
  {
   "cell_type": "code",
   "execution_count": 40,
   "metadata": {},
   "outputs": [
    {
     "name": "stdout",
     "output_type": "stream",
     "text": [
      "20\n",
      "30\n",
      "50\n",
      "48\n",
      "33\n",
      "66\n",
      "0\n",
      "64\n",
      "261\n",
      "3 4 5 6 8\n"
     ]
    }
   ],
   "source": [
    "li = []\n",
    "for i in range(1, 9):\n",
    "    li.append((i, int(input())))\n",
    "    \n",
    "li.sort(key=lambda x: x[1], reverse=True)\n",
    "li = li[:5]\n",
    "\n",
    "sum_value = 0\n",
    "problem_nums = []\n",
    "for v in li:\n",
    "    sum_value += v[1]\n",
    "    problem_nums.append(v[0])\n",
    "    \n",
    "problem_nums.sort()\n",
    "    \n",
    "print(sum_value)\n",
    "print(\" \".join(map(str, problem_nums)))"
   ]
  },
  {
   "cell_type": "markdown",
   "metadata": {},
   "source": [
    "### 패션왕 신해빈 9375\n",
    "- 수학, 자료 구조, 문자열, 해시를 사용한 집합과 맵구조, 문자열, 해시를 사용한 집합과 맵"
   ]
  },
  {
   "cell_type": "code",
   "execution_count": 46,
   "metadata": {},
   "outputs": [
    {
     "name": "stdout",
     "output_type": "stream",
     "text": [
      "1\n",
      "3\n",
      "h hh\n",
      "w hh\n",
      "a ee\n",
      "5\n"
     ]
    }
   ],
   "source": [
    "from collections import defaultdict\n",
    "\n",
    "for _ in range(int(input())):\n",
    "    n = int(input())\n",
    "\n",
    "    if n == 0:\n",
    "        print(0)\n",
    "    else:\n",
    "        d = defaultdict(int)\n",
    "\n",
    "        for _ in range(n):\n",
    "            _, value = input().split()\n",
    "\n",
    "            d[value] += 1\n",
    "\n",
    "        cases_count = 1\n",
    "        for v in d.values():\n",
    "            cases_count *= (v + 1)\n",
    "\n",
    "        print(cases_count - 1)"
   ]
  },
  {
   "cell_type": "markdown",
   "metadata": {},
   "source": [
    "### 기타줄 1049\n",
    "- 수학"
   ]
  },
  {
   "cell_type": "code",
   "execution_count": 56,
   "metadata": {},
   "outputs": [
    {
     "name": "stdout",
     "output_type": "stream",
     "text": [
      "15 1\n",
      "1 2\n",
      "3\n"
     ]
    }
   ],
   "source": [
    "n, m = map(int, input().split())\n",
    "\n",
    "packages = []\n",
    "singles = []\n",
    "for _ in range(m):\n",
    "    p, s = map(int, input().split())\n",
    "    packages.append(p)\n",
    "    singles.append(s)\n",
    "\n",
    "packages.sort()\n",
    "singles.sort()\n",
    "\n",
    "package = packages[0]\n",
    "single = singles[0]\n",
    "\n",
    "if single * 6 < package:\n",
    "    print(single * n)\n",
    "else:\n",
    "    temp = package * (n // 6)\n",
    "    remain = n % 6\n",
    "    \n",
    "    if single * remain < package:\n",
    "        print(temp + single * remain)\n",
    "    else:\n",
    "        print(temp + package)"
   ]
  },
  {
   "cell_type": "markdown",
   "metadata": {},
   "source": [
    "### 중복 빼고 정렬하기 10867\n",
    "- 정렬"
   ]
  },
  {
   "cell_type": "code",
   "execution_count": 57,
   "metadata": {},
   "outputs": [
    {
     "name": "stdout",
     "output_type": "stream",
     "text": [
      "10\n",
      "1 4 2 3 1 4 2 3 1 2\n",
      "1 2 3 4\n"
     ]
    }
   ],
   "source": [
    "n = int(input())\n",
    "st = set(map(int, input().split()))\n",
    "print(\" \".join(map(str, sorted(list(st)))))"
   ]
  },
  {
   "cell_type": "markdown",
   "metadata": {},
   "source": [
    "### 올림픽 8979\n",
    "- 정렬"
   ]
  },
  {
   "cell_type": "code",
   "execution_count": 13,
   "metadata": {},
   "outputs": [
    {
     "name": "stdout",
     "output_type": "stream",
     "text": [
      "1 1\n",
      "1 1 1 1\n",
      "1\n"
     ]
    }
   ],
   "source": [
    "n, k = map(int, input().split())\n",
    "\n",
    "li = [list(map(int, input().split())) for _ in range(n)]\n",
    "li.sort(key=lambda x: (-x[1], -x[2], -x[3]))\n",
    "\n",
    "for rank in range(n):\n",
    "    if li[rank][0] == k:\n",
    "        break\n",
    "        \n",
    "result_rank = rank\n",
    "for i in range(rank, 0, -1):\n",
    "    if li[i][1:] == li[i - 1][1:]:\n",
    "        result_rank -= 1\n",
    "    else:\n",
    "        break\n",
    "        \n",
    "print(result_rank + 1)"
   ]
  },
  {
   "cell_type": "markdown",
   "metadata": {},
   "source": [
    "### Generations of Tribbles 9507\n",
    "- 다이나믹 프로그래밍, 임의 정밀도 / 큰 수 연산"
   ]
  },
  {
   "cell_type": "code",
   "execution_count": 15,
   "metadata": {},
   "outputs": [
    {
     "name": "stdout",
     "output_type": "stream",
     "text": [
      "8\n",
      "0\n",
      "1\n",
      "1\n",
      "1\n",
      "2\n",
      "2\n",
      "3\n",
      "4\n",
      "4\n",
      "8\n",
      "5\n",
      "15\n",
      "30\n",
      "201061985\n",
      "67\n",
      "7057305768232953720\n"
     ]
    }
   ],
   "source": [
    "dp = [1, 1, 2, 4] + [0] * 64\n",
    "\n",
    "for i in range(4, 68):\n",
    "    dp[i] = sum(dp[i - 4:i])\n",
    "    \n",
    "for _ in range(int(input())):\n",
    "    value = int(input())   \n",
    "    print(dp[value])"
   ]
  },
  {
   "cell_type": "markdown",
   "metadata": {},
   "source": [
    "### 반복수열 2331\n",
    "- 구현, 그래프 이론"
   ]
  },
  {
   "cell_type": "code",
   "execution_count": 27,
   "metadata": {},
   "outputs": [
    {
     "name": "stdout",
     "output_type": "stream",
     "text": [
      "57 2\n",
      "4\n"
     ]
    }
   ],
   "source": [
    "from collections import defaultdict\n",
    "\n",
    "a, p = map(int, input().split())\n",
    "\n",
    "d = defaultdict(int)\n",
    "\n",
    "def get_next_num(num):\n",
    "    total = 0\n",
    "    for v in str(num):\n",
    "        total += int(v) ** p\n",
    "        \n",
    "    return total\n",
    "\n",
    "li = [a]\n",
    "d[a] = 1\n",
    "\n",
    "num = a\n",
    "while True:\n",
    "    num = get_next_num(num)\n",
    "    if d[num] >= 1:\n",
    "        break\n",
    "    d[num] += 1\n",
    "    li.append(num)\n",
    "    \n",
    "print(li.index(num))"
   ]
  },
  {
   "cell_type": "markdown",
   "metadata": {},
   "source": [
    "### 회사에 있는 사람 7785\n",
    "- 자료 구조, 문자열, 해시를 사용한 집합과 맵"
   ]
  },
  {
   "cell_type": "code",
   "execution_count": 28,
   "metadata": {},
   "outputs": [
    {
     "name": "stdout",
     "output_type": "stream",
     "text": [
      "4\n",
      "B enter\n",
      "A enter\n",
      "B leave\n",
      "AA enter\n",
      "AA\n",
      "A\n"
     ]
    }
   ],
   "source": [
    "from collections import defaultdict\n",
    "import sys\n",
    "# input = sys.stdin.readline\n",
    "\n",
    "n = int(input().rstrip())\n",
    "\n",
    "d = defaultdict(int)\n",
    "for _ in range(n):\n",
    "    name, _ = input().rstrip().split()\n",
    "    \n",
    "    if d[name] == 1:\n",
    "        d[name] -= 1\n",
    "    else:\n",
    "        d[name] += 1\n",
    "        \n",
    "result = []\n",
    "for k, v in d.items():\n",
    "    if v == 1:\n",
    "        result.append(k)\n",
    "        \n",
    "print(\"\\n\".join(sorted(result, reverse=True)))"
   ]
  },
  {
   "cell_type": "markdown",
   "metadata": {},
   "source": [
    "### 숫자 정사각형\n",
    "- 구현, 브루트포스"
   ]
  },
  {
   "cell_type": "code",
   "execution_count": 33,
   "metadata": {},
   "outputs": [
    {
     "name": "stdout",
     "output_type": "stream",
     "text": [
      "2 2\n",
      "11\n",
      "11\n",
      "4\n"
     ]
    }
   ],
   "source": [
    "n, m = map(int, input().split())\n",
    "\n",
    "li = [list(map(int, input())) for _ in range(n)]\n",
    "\n",
    "max_length = 0\n",
    "for i in range(n):\n",
    "    for j in range(m):\n",
    "        l = 1\n",
    "        while True:\n",
    "            if i - l < 0 or j - l < 0:\n",
    "                break\n",
    "                \n",
    "            if li[i - l][j - l] == li[i - l][j] == li[i][j - l] == li[i][j]:\n",
    "                if l > max_length:\n",
    "                    max_length = l\n",
    "            l += 1\n",
    "            \n",
    "print((max_length + 1) ** 2)"
   ]
  },
  {
   "cell_type": "markdown",
   "metadata": {},
   "source": [
    "### 좋은 단어 3986\n",
    "- 자료 구조, 스택"
   ]
  },
  {
   "cell_type": "code",
   "execution_count": 42,
   "metadata": {},
   "outputs": [
    {
     "name": "stdout",
     "output_type": "stream",
     "text": [
      "3\n",
      "ABAB\n",
      "AABB\n",
      "ABBA\n",
      "2\n"
     ]
    }
   ],
   "source": [
    "# 맞았음, 알고리즘 분류 보기 전에 못풀었음\n",
    "n = int(input())\n",
    "\n",
    "def check(word):\n",
    "    stack = []\n",
    "    for v in word:\n",
    "        if not stack:\n",
    "            stack.append(v)\n",
    "            continue\n",
    "            \n",
    "        if stack[-1] == v:\n",
    "            stack.pop()\n",
    "        else:\n",
    "            stack.append(v)\n",
    "            \n",
    "    return int(bool(len(stack)))\n",
    "    \n",
    "bad_count = 0\n",
    "for _ in range(n):\n",
    "    word = input()\n",
    "    bad_count += check(word)\n",
    "    \n",
    "print(n - bad_count)"
   ]
  },
  {
   "cell_type": "markdown",
   "metadata": {},
   "source": [
    "### 수리공 항승 1449\n",
    "- 그리디, 정렬"
   ]
  },
  {
   "cell_type": "code",
   "execution_count": 46,
   "metadata": {},
   "outputs": [
    {
     "name": "stdout",
     "output_type": "stream",
     "text": [
      "4 2\n",
      "1 2 4 6\n",
      "3\n"
     ]
    }
   ],
   "source": [
    "n, l = map(int, input().split())\n",
    "li = list(map(int, input().split()))\n",
    "\n",
    "needed = 0\n",
    "cover_left = 0\n",
    "for i in range(1, max(li) + 1):\n",
    "    if i in li:\n",
    "        if not cover_left:\n",
    "            needed += 1\n",
    "            cover_left = l\n",
    "    \n",
    "    if cover_left:       \n",
    "        cover_left -= 1\n",
    "\n",
    "print(needed)"
   ]
  },
  {
   "cell_type": "markdown",
   "metadata": {},
   "source": [
    "### 최소공배수 13241\n",
    "- 수학, 정수론, 유클리드 호제법"
   ]
  },
  {
   "cell_type": "code",
   "execution_count": 113,
   "metadata": {},
   "outputs": [
    {
     "name": "stdout",
     "output_type": "stream",
     "text": [
      "12 15\n",
      "60\n"
     ]
    }
   ],
   "source": [
    "import math\n",
    "\n",
    "a, b = map(int, input().split())\n",
    "print((a * b) // math.gcd(a, b))"
   ]
  },
  {
   "cell_type": "markdown",
   "metadata": {},
   "source": [
    "### 게임 1072\n",
    "- 수학, 이분 탐색"
   ]
  },
  {
   "cell_type": "code",
   "execution_count": 100,
   "metadata": {},
   "outputs": [
    {
     "name": "stdout",
     "output_type": "stream",
     "text": [
      "100 99\n",
      "-1\n"
     ]
    }
   ],
   "source": [
    "# 맞았음\n",
    "import math\n",
    "from decimal import getcontext, Decimal\n",
    "getcontext().prec = 3000\n",
    "\n",
    "x, y = map(Decimal, input().split())\n",
    "\n",
    "if x == y:\n",
    "    print(-1)\n",
    "else:\n",
    "    new_percent = Decimal(Decimal(int((y / x) * Decimal('100')) + 1)) * Decimal('0.01')\n",
    "    \n",
    "    if new_percent == Decimal('1.00'):\n",
    "        print(-1)\n",
    "    else:  \n",
    "        delta = (y - new_percent * x) / (new_percent - Decimal('1'))\n",
    "        print(math.ceil(delta))"
   ]
  },
  {
   "cell_type": "code",
   "execution_count": 112,
   "metadata": {},
   "outputs": [
    {
     "name": "stdout",
     "output_type": "stream",
     "text": [
      "10 9\n",
      "2\n"
     ]
    }
   ],
   "source": [
    "# 틀렸음, 이분탐색 방법으로 시도해봤음\n",
    "x, y = map(int, input().split())\n",
    "\n",
    "if x == y:\n",
    "    print(-1)\n",
    "else:\n",
    "    new_percent = int((y / x) * 100) + 1\n",
    "    \n",
    "    if new_percent == 100:\n",
    "        print(-1)\n",
    "    else:\n",
    "        start = 0\n",
    "        end = 10000000000000000\n",
    "\n",
    "        result = 0\n",
    "        while start <= end:\n",
    "            mid = (start + end) // 2\n",
    "\n",
    "            value = int(((y + mid) / (x + mid)) * 100)\n",
    "            if value < new_percent:\n",
    "                start = mid + 1\n",
    "            elif value >= new_percent:\n",
    "                result = mid\n",
    "                end = mid - 1\n",
    "\n",
    "        print(result)"
   ]
  },
  {
   "cell_type": "markdown",
   "metadata": {},
   "source": [
    "### 시리얼 번호 1431\n",
    "- 정렬"
   ]
  },
  {
   "cell_type": "code",
   "execution_count": 4,
   "metadata": {},
   "outputs": [
    {
     "name": "stdout",
     "output_type": "stream",
     "text": [
      "5\n",
      "ABCD\n",
      "145C\n",
      "A\n",
      "A910\n",
      "Z321\n"
     ]
    }
   ],
   "source": [
    "n = int(input())\n",
    "li = []\n",
    "\n",
    "def get_num_sum(s):\n",
    "    total = 0\n",
    "    for v in s:\n",
    "        if v.isdigit():\n",
    "            total += int(v)\n",
    "    return total\n",
    "\n",
    "for _ in range(n):\n",
    "    s = input()\n",
    "    \n",
    "    li.append((s, len(s), get_num_sum(s)))\n",
    "    \n",
    "li.sort(key=lambda x: (x[1], x[2], x[0]))\n",
    "\n",
    "for v in li:\n",
    "    print(v[0])"
   ]
  },
  {
   "cell_type": "markdown",
   "metadata": {},
   "source": [
    "### 달팽이 1913\n",
    "- 구현"
   ]
  },
  {
   "cell_type": "code",
   "execution_count": 60,
   "metadata": {},
   "outputs": [
    {
     "name": "stdout",
     "output_type": "stream",
     "text": [
      "7\n",
      "35\n",
      "49 26 27 28 29 30 31\n",
      "48 25 10 11 12 13 32\n",
      "47 24 9 2 3 14 33\n",
      "46 23 8 1 4 15 34\n",
      "45 22 7 6 5 16 35\n",
      "44 21 20 19 18 17 36\n",
      "43 42 41 40 39 38 37\n",
      "5 7\n"
     ]
    }
   ],
   "source": [
    "n = int(input())\n",
    "to_find = int(input())\n",
    "\n",
    "li = [[9, 2, 3], [8, 1, 4], [7, 6, 5]]\n",
    "for i in range(5, n + 1, 2):\n",
    "    current = (i - 2) ** 2 + 1\n",
    "\n",
    "    li.insert(0, list(range(current, current + i - 2)))\n",
    "    li.append(list(reversed(range(current + 2 * i - 2, current + 2 * i - 2 + i - 2))))\n",
    "    \n",
    "    for j in range(i):\n",
    "        li[j].append(current + i - 2 + j)\n",
    "        li[j].insert(0, i ** 2 - j)\n",
    "        \n",
    "for v in li:\n",
    "    print(\" \".join(map(str, v)))\n",
    "    \n",
    "for i in range(n):\n",
    "    for j in range(n):\n",
    "        if li[i][j] == to_find:\n",
    "            print(i + 1, j + 1)\n",
    "            break"
   ]
  },
  {
   "cell_type": "code",
   "execution_count": 66,
   "metadata": {},
   "outputs": [
    {
     "name": "stdout",
     "output_type": "stream",
     "text": [
      "7\n",
      "35\n",
      "49 26 27 28 29 30 31\n",
      "48 25 10 11 12 13 32\n",
      "47 24 9 2 3 14 33\n",
      "46 23 8 1 4 15 34\n",
      "45 22 7 6 5 16 35\n",
      "44 21 20 19 18 17 36\n",
      "43 42 41 40 39 38 37\n",
      "5 7\n"
     ]
    }
   ],
   "source": [
    "# 숏코딩숏코딩\n",
    "n,f=int(input()),int(input());r=range;l=[[9,2,3],[8,1,4],[7,6,5]]\n",
    "for i in r(5,n+1,2):\n",
    "    k=i-2;c=k**2+1;l.insert(0,list(r(c,c+k)));l.append(list(reversed(r(c+2*i-2,c+2*i-2+k)))) \n",
    "    for j in r(i):l[j].append(c+k+j);l[j].insert(0,i**2-j)        \n",
    "for v in l:print(\" \".join(map(str,v)))\n",
    "for i in r(n):\n",
    "    for j in r(n):\n",
    "        if l[i][j]==f:print(i+1,j+1)"
   ]
  },
  {
   "cell_type": "markdown",
   "metadata": {},
   "source": [
    "### 빙고 2578\n",
    "- 구현"
   ]
  },
  {
   "cell_type": "code",
   "execution_count": 78,
   "metadata": {},
   "outputs": [
    {
     "name": "stdout",
     "output_type": "stream",
     "text": [
      "11 12 2 24 10\n",
      "16 1 13 3 25\n",
      "6 20 5 21 17\n",
      "19 4 8 14 9\n",
      "22 15 7 23 18\n",
      "5 10 7 16 2\n",
      "4 22 8 17 13\n",
      "3 18 1 6 25\n",
      "12 19 23 14 21\n",
      "11 24 9 20 15\n",
      "15\n"
     ]
    }
   ],
   "source": [
    "d = {}\n",
    "for i in range(5):\n",
    "    tp = tuple(map(int, input().split()))\n",
    "    for j, v in enumerate(tp):\n",
    "        d.update({v: (i, j)})\n",
    "        \n",
    "nums = [tuple(map(int, input().split())) for _ in range(5)]\n",
    "\n",
    "check = [[False] * 5 for _ in range(5)]\n",
    "        \n",
    "def get_added_count(x, y):\n",
    "    added_count = 0\n",
    "    if sum(check[x]) == 5:\n",
    "        added_count += 1\n",
    "    \n",
    "    temp = 0\n",
    "    for i in range(5):\n",
    "        if check[i][y]:\n",
    "            temp += 1\n",
    "    if temp == 5:\n",
    "        added_count += 1\n",
    "        \n",
    "    if x == y:\n",
    "        temp = 0\n",
    "        for i in range(5):\n",
    "            if check[i][i]:\n",
    "                temp += 1\n",
    "        if temp == 5:\n",
    "            added_count += 1\n",
    "            \n",
    "    if x == 4 - y:\n",
    "        temp = 0\n",
    "        for i in range(5):\n",
    "            if check[i][4 - i]:\n",
    "                temp += 1\n",
    "        if temp == 5:\n",
    "            added_count += 1        \n",
    "            \n",
    "    return added_count\n",
    "     \n",
    "def play():\n",
    "    count = 0\n",
    "    current = 1\n",
    "    for i in range(5):\n",
    "        for j in range(5):\n",
    "            x, y = d[nums[i][j]]\n",
    "            check[x][y] = True\n",
    "            \n",
    "            count += get_added_count(x, y)\n",
    "            \n",
    "            if count >= 3:\n",
    "                return current\n",
    "            \n",
    "            current += 1\n",
    "            \n",
    "print(play())"
   ]
  },
  {
   "cell_type": "markdown",
   "metadata": {},
   "source": [
    "### 스위치 켜고 끄기 1244\n",
    "- 구현"
   ]
  },
  {
   "cell_type": "code",
   "execution_count": 1,
   "metadata": {},
   "outputs": [
    {
     "name": "stdout",
     "output_type": "stream",
     "text": [
      "8\n",
      "0 1 0 1 0 0 0 1\n",
      "2\n",
      "1 3\n",
      "2 3\n",
      "1 0 0 0 1 1 0 1\n"
     ]
    }
   ],
   "source": [
    "n = int(input())\n",
    "li = [-1] + list(map(int, input().split()))\n",
    "m = int(input())\n",
    "for _ in range(m):\n",
    "    gender, switch_num = map(int, input().split())\n",
    "    \n",
    "    # 남학생의 경우\n",
    "    if gender == 1:\n",
    "        i = 1\n",
    "        while True:\n",
    "            if switch_num * i <= n:\n",
    "                li[switch_num * i] ^= 1\n",
    "            else:\n",
    "                break\n",
    "                \n",
    "            i += 1\n",
    "            \n",
    "    # 여학생의 경우\n",
    "    else:\n",
    "        li[switch_num] ^= 1\n",
    "        \n",
    "        i = 1\n",
    "        while True:\n",
    "            a, b = switch_num - i, switch_num + i\n",
    "            \n",
    "            if a >= 1 and b <= n:\n",
    "                if li[a] != li[b]:\n",
    "                    break\n",
    "                    \n",
    "                li[a] ^= 1\n",
    "                li[b] ^= 1\n",
    "            else:\n",
    "                break\n",
    "            \n",
    "            i += 1\n",
    "\n",
    "del li[0]\n",
    "\n",
    "start = 0\n",
    "while True:\n",
    "    print(\" \".join(map(str, li[start: start + 20])))\n",
    "    start += 20\n",
    "    \n",
    "    if start >= len(li):\n",
    "        break"
   ]
  },
  {
   "cell_type": "markdown",
   "metadata": {},
   "source": [
    "### 팰린드롬 만들기 1213\n",
    "- 구현, 문자열"
   ]
  },
  {
   "cell_type": "code",
   "execution_count": 21,
   "metadata": {},
   "outputs": [
    {
     "name": "stdout",
     "output_type": "stream",
     "text": [
      "GGAAA\n",
      "AGAGA\n"
     ]
    }
   ],
   "source": [
    "from collections import Counter\n",
    "\n",
    "s = input()\n",
    "c = list(Counter(s).items())\n",
    "\n",
    "odds = [v for v in c if v[1] % 2 == 1]\n",
    "evens = [v for v in c if v[1] % 2 == 0]\n",
    "\n",
    "if len(odds) >= 2:\n",
    "    print(\"I'm Sorry Hansoo\")\n",
    "else:\n",
    "    even_alphas = []\n",
    "    odd_alphas = []\n",
    "    \n",
    "    for alpha, count in evens:\n",
    "        even_alphas += [alpha] * (count // 2)\n",
    "    \n",
    "    for alpha, count in odds:\n",
    "        odd_alphas.append(alpha)\n",
    "        even_alphas += [alpha] * (count // 2)\n",
    "    \n",
    "    even_alphas.sort()\n",
    "    \n",
    "    left = \"\".join(even_alphas)\n",
    "    mid = \"\".join(odd_alphas)\n",
    "    right = left[::-1]\n",
    "    \n",
    "    print(left + mid + right)"
   ]
  },
  {
   "cell_type": "markdown",
   "metadata": {},
   "source": [
    "### Yangjojang of The Year 11557\n",
    "- 정렬"
   ]
  },
  {
   "cell_type": "code",
   "execution_count": 30,
   "metadata": {},
   "outputs": [
    {
     "name": "stdout",
     "output_type": "stream",
     "text": [
      "1\n",
      "1\n",
      "a 23\n",
      "a\n"
     ]
    }
   ],
   "source": [
    "for _ in range(int(input())):\n",
    "    n = int(input())\n",
    "    li = []\n",
    "    for _ in range(n):\n",
    "        name, value = input().split()\n",
    "        value = int(value)\n",
    "        li.append((name, value))\n",
    "\n",
    "    li.sort(key=lambda x: -x[1])\n",
    "    print(li[0][0])"
   ]
  },
  {
   "cell_type": "markdown",
   "metadata": {},
   "source": [
    "### 수 정렬하기 5 15688"
   ]
  },
  {
   "cell_type": "code",
   "execution_count": 32,
   "metadata": {},
   "outputs": [
    {
     "name": "stdout",
     "output_type": "stream",
     "text": [
      "5\n",
      "5\n",
      "4\n",
      "3\n",
      "2\n",
      "1\n",
      "1\n",
      "2\n",
      "3\n",
      "4\n",
      "5\n"
     ]
    }
   ],
   "source": [
    "import sys\n",
    "# input = sys.stdin.readline\n",
    "\n",
    "print(\"\\n\".join(map(str, sorted([int(input()) for _ in range(int(input()))]))))"
   ]
  },
  {
   "cell_type": "code",
   "execution_count": 33,
   "metadata": {},
   "outputs": [
    {
     "name": "stdout",
     "output_type": "stream",
     "text": [
      "1 2 3\n"
     ]
    }
   ],
   "source": [
    "print(*sorted([3, 2, 1]))"
   ]
  },
  {
   "cell_type": "markdown",
   "metadata": {},
   "source": [
    "### -2진수 2089"
   ]
  },
  {
   "cell_type": "code",
   "execution_count": 24,
   "metadata": {},
   "outputs": [
    {
     "name": "stdout",
     "output_type": "stream",
     "text": [
      "-13\n"
     ]
    },
    {
     "data": {
      "text/plain": [
       "-19"
      ]
     },
     "execution_count": 24,
     "metadata": {},
     "output_type": "execute_result"
    }
   ],
   "source": [
    "n = int(input())"
   ]
  },
  {
   "cell_type": "code",
   "execution_count": 26,
   "metadata": {},
   "outputs": [
    {
     "name": "stdout",
     "output_type": "stream",
     "text": [
      "4\n"
     ]
    }
   ],
   "source": [
    "i == 1\n",
    "while True:\n",
    "    if abs(n * 2) < 2 ** i:\n",
    "        i -= 1\n",
    "        break\n",
    "    i += 1\n",
    "    \n",
    "print(i)"
   ]
  },
  {
   "cell_type": "markdown",
   "metadata": {},
   "source": [
    "### 카드게임 2621"
   ]
  },
  {
   "cell_type": "code",
   "execution_count": 3,
   "metadata": {},
   "outputs": [
    {
     "name": "stdout",
     "output_type": "stream",
     "text": [
      "207\n"
     ]
    }
   ],
   "source": [
    "def check1():\n",
    "    for i in range(4):\n",
    "        if nums[i + 1] - nums[i] != 1:\n",
    "            return False\n",
    "    return True\n",
    "\n",
    "def check8():\n",
    "    for i in range(4):\n",
    "        if nums[i] == nums[i + 1]:\n",
    "            return nums[i]\n",
    "    return 0\n",
    "\n",
    "li = [input().split() for _ in range(5)]\n",
    "for i in range(5):\n",
    "    li[i][1] = int(li[i][1])\n",
    "\n",
    "colors = [li[i][0] for i in range(5)]\n",
    "nums = [li[i][1] for i in range(5)]\n",
    "\n",
    "colors.sort()\n",
    "nums.sort()\n",
    "\n",
    "s1 = 0\n",
    "if len(set(colors)) == 1:\n",
    "    if check1():\n",
    "        s1 = nums[-1] + 900\n",
    "\n",
    "s2 = 0\n",
    "if nums[0] == nums[3] or nums[1] == nums[4]:\n",
    "    s2 = nums[2] + 800\n",
    "\n",
    "s3 = 0\n",
    "if nums[0] == nums[2] and nums[3] == nums[4]:\n",
    "    s3 = nums[0] * 10 + nums[3] + 700\n",
    "elif nums[0] == nums[1] and nums[2] == nums[4]:\n",
    "    s3 = nums[2] * 10 + nums[0] + 700\n",
    "    \n",
    "s4 = 0\n",
    "if len(set(colors)) == 1:\n",
    "    s4 = nums[-1] + 600\n",
    "\n",
    "s5 = 0\n",
    "if check1():\n",
    "    s5 = nums[-1] + 500\n",
    "    \n",
    "s6 = 0\n",
    "if nums[0] == nums[2] or nums[1] == nums[3] or nums[2] == nums[4]:\n",
    "    s6 = nums[2] + 400\n",
    "    \n",
    "s7 = 0\n",
    "if nums[0] == nums[1] and nums[2] == nums[3]:\n",
    "    s7 = nums[2] * 10 + nums[0] + 300\n",
    "elif nums[0] == nums[1] and nums[3] == nums[4]:\n",
    "    s7 = nums[3] * 10 + nums[0] + 300\n",
    "elif nums[1] == nums[2] and nums[3] == nums[4]:\n",
    "    s7 = nums[3] * 10 + nums[1] + 300\n",
    "    \n",
    "s8 = 0\n",
    "temp = check8()\n",
    "if temp:\n",
    "    s8 = temp + 200\n",
    "    \n",
    "s9 = nums[-1] + 100\n",
    "\n",
    "\n",
    "s = max(s1, s2, s3, s4, s5, s6, s7, s8, s9)\n",
    "\n",
    "print(s)"
   ]
  },
  {
   "cell_type": "markdown",
   "metadata": {},
   "source": [
    "### Cow Solitaire 6245"
   ]
  },
  {
   "cell_type": "code",
   "execution_count": 18,
   "metadata": {},
   "outputs": [
    {
     "data": {
      "text/plain": [
       "69"
      ]
     },
     "execution_count": 18,
     "metadata": {},
     "output_type": "execute_result"
    }
   ],
   "source": [
    "n = int(input())\n",
    "li = [input().split() for _ in range(n)]\n",
    "\n",
    "d = {str(i): i for i in range(2, 10)}\n",
    "d.update({'A': 1, 'T': 10, 'J': 11, 'Q': 12, 'K': 13})\n",
    "\n",
    "for i in range(n):\n",
    "    for j in range(n):\n",
    "        li[i][j] = d[li[i][j][0]]\n",
    "\n",
    "dp = [[-1] * n for _ in range(n)]\n",
    "\n",
    "def update_dp(x, y):\n",
    "    if dp[x][y] != -1:\n",
    "        return dp[x][y]\n",
    "    \n",
    "    cands = [0, 0]\n",
    "    \n",
    "    if x < n - 1:\n",
    "        cands[0] = update_dp(x + 1, y)\n",
    "    if y > 0:\n",
    "        cands[1] = update_dp(x, y - 1)\n",
    "    \n",
    "    dp[x][y] = max(cands) + li[x][y]\n",
    "    \n",
    "    return dp[x][y]\n",
    "\n",
    "print(update_dp(0, n - 1))"
   ]
  },
  {
   "cell_type": "markdown",
   "metadata": {},
   "source": [
    "### Polynesiaglot (Small1) 12037"
   ]
  },
  {
   "cell_type": "code",
   "execution_count": 26,
   "metadata": {},
   "outputs": [
    {
     "name": "stdout",
     "output_type": "stream",
     "text": [
      "2\n",
      "1 1 4\n",
      "Case #1: 5\n",
      "1 2 2\n",
      "Case #2: 6\n"
     ]
    }
   ],
   "source": [
    "mod = 1000000007\n",
    "\n",
    "for cn in range(int(input())):\n",
    "    c, v, l = map(int, input().split())\n",
    "    \n",
    "    dp = [[0, 0] for _ in range(l)] # [vowel, consonant]\n",
    "    dp[0] = [v, c]\n",
    "    \n",
    "    for i in range(1, l):\n",
    "        dp[i][0] = sum(dp[i - 1]) * v % mod \n",
    "        dp[i][1] = dp[i - 1][0] * c % mod\n",
    "        \n",
    "    print(f'Case #{cn + 1}: {dp[-1][0]}')"
   ]
  },
  {
   "cell_type": "markdown",
   "metadata": {},
   "source": [
    "### Googlander (Small) 12180"
   ]
  },
  {
   "cell_type": "code",
   "execution_count": 23,
   "metadata": {},
   "outputs": [
    {
     "data": {
      "text/plain": [
       "[[1, 1], [2, 2], [4, 4], [8, 8]]"
      ]
     },
     "execution_count": 23,
     "metadata": {},
     "output_type": "execute_result"
    }
   ],
   "source": []
  }
 ],
 "metadata": {
  "kernelspec": {
   "display_name": "Python 3",
   "language": "python",
   "name": "python3"
  },
  "language_info": {
   "codemirror_mode": {
    "name": "ipython",
    "version": 3
   },
   "file_extension": ".py",
   "mimetype": "text/x-python",
   "name": "python",
   "nbconvert_exporter": "python",
   "pygments_lexer": "ipython3",
   "version": "3.7.3"
  }
 },
 "nbformat": 4,
 "nbformat_minor": 4
}
