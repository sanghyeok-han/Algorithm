{
 "cells": [
  {
   "cell_type": "markdown",
   "metadata": {},
   "source": [
    "### 큰 수의 법칙\n",
    "- 그리디"
   ]
  },
  {
   "cell_type": "code",
   "execution_count": 1,
   "metadata": {},
   "outputs": [
    {
     "name": "stdout",
     "output_type": "stream",
     "text": [
      "5 8 3\n",
      "2 4 5 4 6\n",
      "46\n"
     ]
    }
   ],
   "source": [
    "from itertools import cycle\n",
    "\n",
    "n, m, k = map(int, input().split())\n",
    "li = list(map(int, input().split()))\n",
    "li.sort()\n",
    "\n",
    "# c = cycle([li[-1]] * k + [li[-2]])\n",
    "# result = 0\n",
    "# for _ in range(m):\n",
    "#     result += next(c)\n",
    "    \n",
    "# print(result)"
   ]
  },
  {
   "cell_type": "code",
   "execution_count": 3,
   "metadata": {},
   "outputs": [
    {
     "name": "stdout",
     "output_type": "stream",
     "text": [
      "46\n"
     ]
    }
   ],
   "source": [
    "result = 0\n",
    "sum_value = sum([li[-1]] * k + [li[-2]])\n",
    "result += sum_value * (m // (k + 1))\n",
    "result += li[-1] * (m % (k + 1))\n",
    "print(result)"
   ]
  },
  {
   "cell_type": "markdown",
   "metadata": {},
   "source": [
    "### 숫자 카드 게임\n",
    "- 그리디"
   ]
  },
  {
   "cell_type": "code",
   "execution_count": 5,
   "metadata": {},
   "outputs": [
    {
     "name": "stdout",
     "output_type": "stream",
     "text": [
      "2 4\n",
      "7 3 1 8\n",
      "3 3 3 4\n",
      "3\n"
     ]
    }
   ],
   "source": [
    "n, m = map(int, input().split())\n",
    "li = [list(map(int, input().split())) for _ in range(n)]\n",
    "print(max([min(v) for v in li]))"
   ]
  },
  {
   "cell_type": "markdown",
   "metadata": {},
   "source": [
    "### 1이 될 때까지\n",
    "- 그리디"
   ]
  },
  {
   "cell_type": "code",
   "execution_count": 6,
   "metadata": {},
   "outputs": [
    {
     "name": "stdout",
     "output_type": "stream",
     "text": [
      "25 5\n",
      "2\n"
     ]
    }
   ],
   "source": [
    "n, k = map(int, input().split())\n",
    "count = 0\n",
    "while True:\n",
    "    if n == 1:\n",
    "        break\n",
    "    \n",
    "    n = n // k if n % k == 0 else n - 1\n",
    "    count += 1\n",
    "print(count)"
   ]
  },
  {
   "cell_type": "code",
   "execution_count": 8,
   "metadata": {},
   "outputs": [
    {
     "name": "stdout",
     "output_type": "stream",
     "text": [
      "25 5\n",
      "2\n"
     ]
    }
   ],
   "source": [
    "n, k = map(int, input().split())\n",
    "count = 0\n",
    "while True:\n",
    "    if n == 1:\n",
    "        break\n",
    "        \n",
    "    if n % k == 0:\n",
    "        n //= k\n",
    "        count += 1\n",
    "    else:\n",
    "        n -= n % k\n",
    "        count += n % k\n",
    "        \n",
    "print(count)"
   ]
  },
  {
   "cell_type": "markdown",
   "metadata": {},
   "source": [
    "### 상하좌우\n",
    "- 구현"
   ]
  },
  {
   "cell_type": "code",
   "execution_count": 12,
   "metadata": {},
   "outputs": [
    {
     "name": "stdout",
     "output_type": "stream",
     "text": [
      "5\n",
      "R R R U D D\n",
      "3 4\n"
     ]
    }
   ],
   "source": [
    "n = int(input())\n",
    "li = input().split()\n",
    "\n",
    "dx = [0, 0, -1, 1]\n",
    "dy = [-1, 1, 0, 0]\n",
    "\n",
    "x, y = 0, 0\n",
    "for v in li:\n",
    "    d = 'LRUD'.index(v)\n",
    "    nx = x + dx[d]\n",
    "    ny = y + dy[d]\n",
    "    \n",
    "    if 0 <= nx < n and 0 <= ny < n:\n",
    "        x, y = nx, ny\n",
    "        \n",
    "print(x + 1, y + 1)"
   ]
  },
  {
   "cell_type": "markdown",
   "metadata": {},
   "source": [
    "### 시각\n",
    "- 구현"
   ]
  },
  {
   "cell_type": "code",
   "execution_count": 24,
   "metadata": {},
   "outputs": [
    {
     "name": "stdout",
     "output_type": "stream",
     "text": [
      "5\n",
      "11475\n"
     ]
    }
   ],
   "source": [
    "N = int(input())\n",
    "\n",
    "# 각각의 수는 그 위에 단위에서 3이 없을 때 해당 단위에서 3이 나타나는 경우의 수\n",
    "if N < 3:\n",
    "    three_in_hour = 0\n",
    "elif N < 13:\n",
    "    three_in_hour = 1\n",
    "elif N < 23:\n",
    "    three_in_hour = 2\n",
    "else:\n",
    "    three_in_hour = 3\n",
    "three_in_minute = 15\n",
    "three_in_second = 15\n",
    "\n",
    "result = three_in_hour * 3600\n",
    "N -= three_in_hour\n",
    "N += 1\n",
    "\n",
    "result += N * three_in_minute * 60\n",
    "result += N * (60 - three_in_minute) * three_in_second\n",
    "print(result)"
   ]
  },
  {
   "cell_type": "code",
   "execution_count": 23,
   "metadata": {},
   "outputs": [
    {
     "name": "stdout",
     "output_type": "stream",
     "text": [
      "5\n",
      "11475\n"
     ]
    }
   ],
   "source": [
    "N = int(input())\n",
    "second = 0\n",
    "minute = 0\n",
    "hour = 0\n",
    "\n",
    "count = 0\n",
    "while hour <= N:\n",
    "    s = str(second) + str(minute) + str(hour)\n",
    "    if '3' in s:\n",
    "        count += 1\n",
    "        \n",
    "    second += 1\n",
    "    if second == 60:\n",
    "        second = 0\n",
    "        minute += 1\n",
    "    if minute == 60:\n",
    "        minute = 0\n",
    "        hour += 1\n",
    "        \n",
    "print(count)"
   ]
  },
  {
   "cell_type": "code",
   "execution_count": 25,
   "metadata": {},
   "outputs": [
    {
     "name": "stdout",
     "output_type": "stream",
     "text": [
      "5\n",
      "11475\n"
     ]
    }
   ],
   "source": [
    "n = int(input())\n",
    "\n",
    "count = 0\n",
    "for i in range(n + 1):\n",
    "    for j in range(60):\n",
    "        for k in range(60):\n",
    "            if '3' in str(i) + str(j) + str(k):\n",
    "                count += 1\n",
    "print(count)"
   ]
  },
  {
   "cell_type": "markdown",
   "metadata": {},
   "source": [
    "### 왕실의 나이트\n",
    "- 구현"
   ]
  },
  {
   "cell_type": "code",
   "execution_count": 28,
   "metadata": {},
   "outputs": [
    {
     "name": "stdout",
     "output_type": "stream",
     "text": [
      "c2\n",
      "6\n"
     ]
    }
   ],
   "source": [
    "dx = [-2, -2, -1, -1, 1, 1, 2, 2]\n",
    "dy = [1, -1, 2, -2, 2, -2, 1, -1]\n",
    "\n",
    "s = input()\n",
    "y, x = s\n",
    "x = int(x)\n",
    "x -= 1\n",
    "y = 'abcdefgh'.index(y)\n",
    "\n",
    "count = 0\n",
    "for i in range(8):\n",
    "    nx = x + dx[i]\n",
    "    ny = y + dy[i]\n",
    "    \n",
    "    if 0 <= nx < 8 and 0 <= ny < 8:\n",
    "        count += 1\n",
    "        \n",
    "print(count)"
   ]
  },
  {
   "cell_type": "markdown",
   "metadata": {},
   "source": [
    "### 게임 개발\n",
    "- 구현"
   ]
  },
  {
   "cell_type": "code",
   "execution_count": 31,
   "metadata": {},
   "outputs": [
    {
     "name": "stdout",
     "output_type": "stream",
     "text": [
      "4 4\n",
      "1 1 0\n",
      "1 1 1 1\n",
      "1 0 0 1\n",
      "1 1 0 1\n",
      "1 1 1 1\n",
      "3\n"
     ]
    }
   ],
   "source": [
    "n, m = map(int, input().split())\n",
    "x, y, d = map(int, input().split())\n",
    "li = [list(map(int, input().split())) for _ in range(n)]\n",
    "\n",
    "# 북, 동, 남, 서\n",
    "dx = [-1, 0, 1, 0]\n",
    "dy = [0, 1, 0, -1]\n",
    "\n",
    "visited = [[0] * m for _ in range(n)]\n",
    "visited[x][y] = 1\n",
    "while True:\n",
    "    for _ in range(4):\n",
    "        d -= 1\n",
    "        d_index = d % 4\n",
    "        nx = x + dx[d_index]\n",
    "        ny = y + dy[d_index]\n",
    "        \n",
    "        if nx < 0 or nx >= n or ny < 0 or ny >= m:\n",
    "            continue\n",
    "        if li[nx][ny] == 1:\n",
    "            continue\n",
    "        if visited[nx][ny]:\n",
    "            continue\n",
    "        visited[nx][ny] = 1\n",
    "        x, y = nx, ny\n",
    "        break\n",
    "    else:\n",
    "        d -= 1\n",
    "        d_index = d % 4\n",
    "        \n",
    "        nx = x - dx[d_index]\n",
    "        ny = y - dy[d_index]\n",
    "        if nx < 0 or nx >= n or ny < 0 or ny >= m:\n",
    "            break\n",
    "        if li[nx][ny] == 1:\n",
    "            break\n",
    "        x, y = nx, ny\n",
    "        visited[x][y] = 1\n",
    "\n",
    "print(sum([sum(v) for v in visited]))"
   ]
  },
  {
   "cell_type": "code",
   "execution_count": 30,
   "metadata": {},
   "outputs": [
    {
     "data": {
      "text/plain": [
       "3"
      ]
     },
     "execution_count": 30,
     "metadata": {},
     "output_type": "execute_result"
    }
   ],
   "source": [
    "d = 0\n",
    "(d - 1) % 4"
   ]
  },
  {
   "cell_type": "markdown",
   "metadata": {},
   "source": [
    "### 음료수 얼려 먹기\n",
    "- bfs / dfs"
   ]
  },
  {
   "cell_type": "code",
   "execution_count": 35,
   "metadata": {},
   "outputs": [
    {
     "name": "stdout",
     "output_type": "stream",
     "text": [
      "3 3\n",
      "001\n",
      "010\n",
      "101\n",
      "3\n"
     ]
    }
   ],
   "source": [
    "from collections import deque\n",
    "\n",
    "n, m = map(int, input().split())\n",
    "li = [list(map(int, input())) for _ in range(n)]\n",
    "\n",
    "dx = [-1, 1, 0, 0]\n",
    "dy = [0, 0, -1, 1]\n",
    "\n",
    "visited = [[False] * m for _ in range(n)]\n",
    "\n",
    "count = 0\n",
    "for i in range(n):\n",
    "    for j in range(m):\n",
    "        if visited[i][j]:\n",
    "            continue\n",
    "        visited[i][j] = True\n",
    "        if li[i][j] == 1:\n",
    "            continue\n",
    "        count += 1\n",
    "        \n",
    "        queue = deque()\n",
    "        queue.append((i, j))\n",
    "        while queue:\n",
    "            x, y = queue.popleft()\n",
    "            for k in range(4):\n",
    "                nx = x + dx[k]\n",
    "                ny = y + dy[k]\n",
    "                \n",
    "                if nx < 0 or nx >= n or ny < 0 or ny >= m:\n",
    "                    continue\n",
    "                if visited[nx][ny]:\n",
    "                    continue\n",
    "                visited[nx][ny] = True\n",
    "                if li[nx][ny] == 1:\n",
    "                    continue\n",
    "                queue.append((nx, ny))\n",
    "                \n",
    "print(count)"
   ]
  },
  {
   "cell_type": "markdown",
   "metadata": {},
   "source": [
    "### 미로 탈출\n",
    "- bfs / dfs"
   ]
  },
  {
   "cell_type": "code",
   "execution_count": 36,
   "metadata": {},
   "outputs": [
    {
     "name": "stdout",
     "output_type": "stream",
     "text": [
      "5 6\n",
      "101010\n",
      "111111\n",
      "000001\n",
      "111111\n",
      "111111\n",
      "10\n"
     ]
    }
   ],
   "source": [
    "from collections import deque\n",
    "\n",
    "n, m = map(int, input().split())\n",
    "li = [list(map(int, input())) for _ in range(n)]\n",
    "\n",
    "dx = [0, 0, -1, 1]\n",
    "dy = [-1, 1, 0, 0]\n",
    "\n",
    "queue = deque()\n",
    "queue.append((0, 0, 1)) # x, y, count\n",
    "\n",
    "visited = [[False] * m for _ in range(n)]\n",
    "visited[0][0] = True\n",
    "\n",
    "while queue:\n",
    "    x, y, count = queue.popleft()\n",
    "    if x == n - 1 and y == m - 1:\n",
    "        print(count)\n",
    "        break\n",
    "    \n",
    "    for i in range(4):\n",
    "        nx = x + dx[i]\n",
    "        ny = y + dy[i]\n",
    "        \n",
    "        if nx < 0 or nx >= n or ny < 0 or ny >= m:\n",
    "            continue\n",
    "        if li[nx][ny] == 0:\n",
    "            continue\n",
    "        if not visited[nx][ny]:\n",
    "            visited[nx][ny] = True\n",
    "            queue.append((nx, ny, count + 1))"
   ]
  },
  {
   "cell_type": "markdown",
   "metadata": {},
   "source": [
    "### 위에서 아래로\n",
    "- 정렬"
   ]
  },
  {
   "cell_type": "code",
   "execution_count": 37,
   "metadata": {},
   "outputs": [
    {
     "name": "stdout",
     "output_type": "stream",
     "text": [
      "3\n",
      "15\n",
      "27\n",
      "12\n",
      "27 15 12\n"
     ]
    }
   ],
   "source": [
    "n = int(input())\n",
    "li = [int(input()) for _ in range(n)]\n",
    "print(*sorted(li, reverse=True))"
   ]
  },
  {
   "cell_type": "markdown",
   "metadata": {},
   "source": [
    "### 성적이 낮은 순서로 학생 출력하기 \n",
    "- 정렬"
   ]
  },
  {
   "cell_type": "code",
   "execution_count": 39,
   "metadata": {},
   "outputs": [
    {
     "name": "stdout",
     "output_type": "stream",
     "text": [
      "2\n",
      "홍 95\n",
      "이 77\n",
      "이 홍\n"
     ]
    }
   ],
   "source": [
    "n = int(input())\n",
    "li = []\n",
    "for _ in range(n):\n",
    "    name, score = input().split()\n",
    "    score = int(score)\n",
    "    li.append((score, name))\n",
    "    \n",
    "li.sort()\n",
    "print(*[v[1] for v in li])"
   ]
  },
  {
   "cell_type": "markdown",
   "metadata": {},
   "source": [
    "### 두 배열의 원소 교체\n",
    "- 정렬"
   ]
  },
  {
   "cell_type": "code",
   "execution_count": 40,
   "metadata": {},
   "outputs": [
    {
     "name": "stdout",
     "output_type": "stream",
     "text": [
      "5 3\n",
      "1 2 5 4 3\n",
      "5 5 6 6 5\n",
      "26\n"
     ]
    }
   ],
   "source": [
    "n, k = map(int, input().split())\n",
    "a = list(map(int, input().split()))\n",
    "b = list(map(int, input().split()))\n",
    "\n",
    "a.sort()\n",
    "b.sort(reverse=True)\n",
    "\n",
    "for i in range(n):\n",
    "    if k == 0:\n",
    "        break\n",
    "    \n",
    "    if a[i] < b[i]:\n",
    "        a[i] = b[i]\n",
    "        k -= 1\n",
    "    else:\n",
    "        break\n",
    "        \n",
    "print(sum(a))"
   ]
  },
  {
   "cell_type": "code",
   "execution_count": 41,
   "metadata": {},
   "outputs": [
    {
     "name": "stdout",
     "output_type": "stream",
     "text": [
      "5 3\n",
      "1 2 5 4 3\n",
      "5 5 6 6 5\n",
      "26\n"
     ]
    }
   ],
   "source": [
    "n, k = map(int, input().split())\n",
    "a = list(map(int, input().split()))\n",
    "b = list(map(int, input().split()))\n",
    "\n",
    "a.sort()\n",
    "b.sort(reverse=True)\n",
    "\n",
    "for i in range(k):\n",
    "    if a[i] < b[i]:\n",
    "        a[i] = b[i]\n",
    "    else:\n",
    "        break\n",
    "        \n",
    "print(sum(a))"
   ]
  },
  {
   "cell_type": "markdown",
   "metadata": {},
   "source": [
    "### 부품 찾기\n",
    "- 이분탐색"
   ]
  },
  {
   "cell_type": "code",
   "execution_count": 58,
   "metadata": {},
   "outputs": [
    {
     "name": "stdout",
     "output_type": "stream",
     "text": [
      "no yes yes "
     ]
    }
   ],
   "source": [
    "n = int(input())\n",
    "li = list(map(int, input().split()))\n",
    "m = int(input())\n",
    "to_find = list(map(int, input().split()))\n",
    "\n",
    "li.sort()\n",
    "for v in to_find:\n",
    "    start = 0\n",
    "    end = n - 1\n",
    "    while start <= end:\n",
    "        mid = (start + end) // 2\n",
    "        if li[mid] == v:\n",
    "            print('yes', end=' ')\n",
    "            break\n",
    "        if li[mid] < v:\n",
    "            start = mid + 1\n",
    "        else:\n",
    "            end = mid - 1\n",
    "    else:\n",
    "        print('no', end=' ')        "
   ]
  },
  {
   "cell_type": "markdown",
   "metadata": {},
   "source": [
    "### 떡볶이 떡 만들기\n",
    "- 이분 탐색"
   ]
  },
  {
   "cell_type": "code",
   "execution_count": 60,
   "metadata": {},
   "outputs": [
    {
     "name": "stdout",
     "output_type": "stream",
     "text": [
      "4 6\n",
      "19 15 10 17\n",
      "15\n"
     ]
    }
   ],
   "source": [
    "n, m = map(int, input().split())\n",
    "li = list(map(int, input().split()))\n",
    "\n",
    "result = 0\n",
    "start = 0\n",
    "end = 1000000000\n",
    "while start <= end:\n",
    "    mid = (start + end) // 2\n",
    "    value = [v - mid for v in li if v - mid > 0]\n",
    "    sum_value = 0\n",
    "    if value:\n",
    "        sum_value = sum(value)\n",
    "    if sum_value >= m:\n",
    "        result = mid\n",
    "        start = mid + 1\n",
    "    else:\n",
    "        end = mid - 1\n",
    "        \n",
    "print(result)"
   ]
  }
 ],
 "metadata": {
  "kernelspec": {
   "display_name": "Python 3",
   "language": "python",
   "name": "python3"
  },
  "language_info": {
   "codemirror_mode": {
    "name": "ipython",
    "version": 3
   },
   "file_extension": ".py",
   "mimetype": "text/x-python",
   "name": "python",
   "nbconvert_exporter": "python",
   "pygments_lexer": "ipython3",
   "version": "3.7.3"
  }
 },
 "nbformat": 4,
 "nbformat_minor": 4
}
