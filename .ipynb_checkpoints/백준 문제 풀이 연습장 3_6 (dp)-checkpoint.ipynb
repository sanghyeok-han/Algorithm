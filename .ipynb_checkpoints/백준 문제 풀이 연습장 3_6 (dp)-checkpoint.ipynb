{
 "cells": [
  {
   "cell_type": "markdown",
   "metadata": {},
   "source": [
    "### 소가 길을 건너간 이유 8 14462"
   ]
  },
  {
   "cell_type": "code",
   "execution_count": null,
   "metadata": {},
   "outputs": [],
   "source": [
    "1     6   1\n",
    "2     5 1 1\n",
    "3     4 1 2\n",
    "4     3 1 2\n",
    "5     2 1 2\n",
    "6     1 1 2"
   ]
  },
  {
   "cell_type": "code",
   "execution_count": null,
   "metadata": {},
   "outputs": [],
   "source": [
    "-4 -3 -2 -1 0 1 2 3 4"
   ]
  },
  {
   "cell_type": "code",
   "execution_count": 1,
   "metadata": {},
   "outputs": [
    {
     "data": {
      "text/plain": [
       "9000000"
      ]
     },
     "execution_count": 1,
     "metadata": {},
     "output_type": "execute_result"
    }
   ],
   "source": [
    "1000 * 1000 * 9"
   ]
  },
  {
   "cell_type": "code",
   "execution_count": 7,
   "metadata": {},
   "outputs": [
    {
     "name": "stdout",
     "output_type": "stream",
     "text": [
      "5\n"
     ]
    }
   ],
   "source": [
    "import sys\n",
    "input = lambda: sys.stdin.readline().rstrip()\n",
    "\n",
    "n = int(input())\n",
    "a = [int(input()) for _ in range(n)]\n",
    "b = [int(input()) for _ in range(n)]\n",
    "\n",
    "na = [(v, i) for i, v in enumerate(a)]\n",
    "nb = [(v, i) for i, v in enumerate(b)]\n",
    "\n",
    "na.sort(key=lambda x: x[0])\n",
    "nb.sort(key=lambda x: x[0])\n",
    "\n",
    "ips = [[] for _ in range(n)]\n",
    "for av, ai in na:\n",
    "    for bv in range(av - 4, av + 5):\n",
    "        if bv < 1 or bv > n:\n",
    "            continue\n",
    "        ips[ai].append(nb[bv - 1][1])\n",
    "    \n",
    "dp = [0] * n\n",
    "for ai in range(n):\n",
    "    ndp = [0] * n\n",
    "    for bi in ips[ai]:\n",
    "        if bi == 0:\n",
    "            ndp[bi] = 1\n",
    "        else:\n",
    "            ndp[bi] = max(ndp[bi], max(dp[:bi]) + 1)\n",
    "    for i in range(n):\n",
    "        dp[i] = max(dp[i], ndp[i])\n",
    "        \n",
    "print(max(dp))"
   ]
  },
  {
   "cell_type": "markdown",
   "metadata": {},
   "source": [
    "### 인증된 쉬운 게임 22846"
   ]
  },
  {
   "cell_type": "code",
   "execution_count": 8,
   "metadata": {},
   "outputs": [
    {
     "data": {
      "text/plain": [
       "[1, 2, 3, 4, 6, 12]"
      ]
     },
     "execution_count": 8,
     "metadata": {},
     "output_type": "execute_result"
    }
   ],
   "source": [
    "def get_divisors(num):\n",
    "    divisors = set()\n",
    "    for mod in range(1, int(num ** 0.5) + 1):\n",
    "        if num % mod == 0:\n",
    "            divisors.add(mod)\n",
    "            divisors.add(num // mod)\n",
    "            \n",
    "    return sorted(divisors)\n",
    "\n",
    "get_divisors(12)"
   ]
  },
  {
   "cell_type": "code",
   "execution_count": null,
   "metadata": {},
   "outputs": [],
   "source": [
    "def recur(num):\n",
    "    iow = True # is other win\n",
    "    for div in get_divisors(num):\n",
    "        nnum = num + div\n",
    "        if nnum > k:\n",
    "            continue\n",
    "        temp_iow = recur(nnum)\n",
    "        if temp_iow == False:\n",
    "            iow = False\n",
    "            break\n",
    "    if iow:\n",
    "        return False\n",
    "    return True\n",
    "\n",
    "\n",
    "for k in range(1, 50):\n",
    "    print(k, recur(1))"
   ]
  },
  {
   "cell_type": "code",
   "execution_count": 28,
   "metadata": {},
   "outputs": [
    {
     "name": "stdout",
     "output_type": "stream",
     "text": [
      "7\n",
      "Ringo\n"
     ]
    }
   ],
   "source": [
    "n = int(input())\n",
    "\n",
    "if n == 2 or n == 6:\n",
    "    print('Kali')\n",
    "else:\n",
    "    print('Ringo')"
   ]
  },
  {
   "cell_type": "markdown",
   "metadata": {},
   "source": [
    "### 할로윈의 양아치 20303"
   ]
  },
  {
   "cell_type": "code",
   "execution_count": null,
   "metadata": {},
   "outputs": [],
   "source": [
    "import sys\n",
    "sys.setrecursionlimit(110000)\n",
    "input = lambda: sys.stdin.readline().rstrip()\n",
    "\n",
    "def find(v):\n",
    "    if parent[v] != v:\n",
    "        parent[v] = find(parent[v])\n",
    "    return parent[v]\n",
    "\n",
    "def union(a, b):\n",
    "    if a > b:\n",
    "        a, b = b, a\n",
    "        \n",
    "    values[a] += values[b]\n",
    "    populs[a] += populs[b]\n",
    "    parent[b] = a\n",
    "    \n",
    "n, m, k = map(int, input().split())\n",
    "values = list(map(int, input().split()))\n",
    "\n",
    "get_value = lambda x: int(x) - 1\n",
    "parent = list(range(n))\n",
    "populs = [1] * n\n",
    "\n",
    "for _ in range(m):\n",
    "    a, b = map(get_value, input().split())\n",
    "    \n",
    "    ra = find(a)\n",
    "    rb = find(b)\n",
    "    \n",
    "    if ra != rb:\n",
    "        union(ra, rb)\n",
    "    \n",
    "st = set()\n",
    "[st.add(find(i)) for i in range(n)]\n",
    "\n",
    "li = []\n",
    "for i in st:\n",
    "    li.append((populs[i], values[i]))\n",
    "    \n",
    "dp = [0] * k\n",
    "for cost, value in li:\n",
    "    for i in range(k - 1, cost - 1, -1):\n",
    "        dp[i] = max(dp[i], dp[i - cost] + value)\n",
    "        \n",
    "print(max(dp))"
   ]
  },
  {
   "cell_type": "code",
   "execution_count": 52,
   "metadata": {},
   "outputs": [
    {
     "name": "stdout",
     "output_type": "stream",
     "text": [
      "1 2\n",
      "4\n",
      "0 0\n",
      "1\n",
      "0 2\n",
      "2\n"
     ]
    }
   ],
   "source": [
    "import sys\n",
    "# input = lambda: sys.stdin.readline().rstrip()\n",
    "\n",
    "mod = int(1e9) + 7\n",
    "\n",
    "sx, sy = map(int, input().split())\n",
    "t = int(input())\n",
    "hx, hy = map(int, input().split())\n",
    "\n",
    "st = set()\n",
    "for _ in range(int(input())):\n",
    "    x, y = map(int, input().split())\n",
    "    st.add((x, y))\n",
    "\n",
    "to_index = dict()\n",
    "to_coord = dict()\n",
    "nxt = 0\n",
    "for nx in range(hx - t, hx + t + 1):\n",
    "    for ny in range(hy - t, hy + t + 1):\n",
    "        if abs(nx - hx) + abs(ny - hy) <= t and (nx, ny) not in st:\n",
    "            to_index[(nx, ny)] = nxt\n",
    "            to_coord[nxt] = (nx, ny)\n",
    "            nxt += 1\n",
    "n = nxt\n",
    "\n",
    "dx = [-1, 1, 0, 0]\n",
    "dy = [0, 0, -1, 1]\n",
    "\n",
    "adjs= [[] for _ in range(n)] # adjacents\n",
    "for index in range(n):\n",
    "    x, y = to_coord[index]\n",
    "    \n",
    "    for d in range(4):\n",
    "        nx = x + dx[d]\n",
    "        ny = y + dy[d]\n",
    "        if (nx, ny) in to_index and (nx, ny) != (hx, hy):\n",
    "            adjs[index].append(to_index[(nx, ny)])\n",
    "\n",
    "if (sx, sy) not in to_index:\n",
    "    print(0)\n",
    "else:\n",
    "    h_index = to_index[(hx, hy)]\n",
    "    \n",
    "    r = 0\n",
    "    dp = [0] * n\n",
    "    dp[to_index[(sx, sy)]] = 1\n",
    "    for _ in range(t):\n",
    "        ndp = [0] * n\n",
    "        for index in range(n):\n",
    "            temp = 0\n",
    "            for findex in adjs[index]:\n",
    "                temp += dp[findex]\n",
    "                temp %= mod\n",
    "            ndp[index] = temp\n",
    "        dp = ndp.copy()\n",
    "        r += dp[h_index]\n",
    "        r %= mod\n",
    "           \n",
    "    print(r)"
   ]
  },
  {
   "cell_type": "markdown",
   "metadata": {},
   "source": [
    "### Teamwork 16765"
   ]
  },
  {
   "cell_type": "code",
   "execution_count": 58,
   "metadata": {},
   "outputs": [
    {
     "name": "stdout",
     "output_type": "stream",
     "text": [
      "7 3\n",
      "1\n",
      "15\n",
      "7\n",
      "9\n",
      "2\n",
      "5\n",
      "10\n",
      "84\n"
     ]
    }
   ],
   "source": [
    "import sys\n",
    "input = lambda: sys.stdin.readline().rstrip()\n",
    "\n",
    "n, k = map(int, input().split())\n",
    "li = [int(input()) for _ in range(n)]\n",
    "\n",
    "dp = [0] * n\n",
    "dp[0] = li[0]\n",
    "for i in range(1, n):\n",
    "    cur_max = 0\n",
    "    count = 0\n",
    "    for j in range(i, -1, -1):\n",
    "        count += 1\n",
    "        cur_max = max(cur_max, li[j])\n",
    "        temp = cur_max * count\n",
    "        if j >= 1:\n",
    "            temp += dp[j - 1]\n",
    "        dp[i] = max(dp[i], temp)\n",
    "        if count == k:\n",
    "            break\n",
    "        \n",
    "print(dp[n - 1])"
   ]
  },
  {
   "cell_type": "markdown",
   "metadata": {},
   "source": [
    "### 변형 계단 수 18244"
   ]
  },
  {
   "cell_type": "code",
   "execution_count": null,
   "metadata": {},
   "outputs": [],
   "source": [
    "감, 그대로, 증"
   ]
  },
  {
   "cell_type": "code",
   "execution_count": null,
   "metadata": {},
   "outputs": [],
   "source": [
    "감감, 감, 그대로, 증, 증증"
   ]
  },
  {
   "cell_type": "code",
   "execution_count": 71,
   "metadata": {},
   "outputs": [
    {
     "name": "stdout",
     "output_type": "stream",
     "text": [
      "4\n",
      "50\n"
     ]
    }
   ],
   "source": [
    "from copy import deepcopy\n",
    "\n",
    "mod = 1000000007\n",
    "\n",
    "n = int(input())\n",
    "\n",
    "dp = [[0, 0, 1, 0, 0] for _ in range(10)]\n",
    "\n",
    "for _ in range(n - 1):\n",
    "    ndp = [[0, 0, 0, 0, 0] for _ in range(10)]\n",
    "    for num in range(10):\n",
    "        for fnum in [num - 1, num + 1]:\n",
    "            if fnum < 0 or fnum >= 10:\n",
    "                continue\n",
    "                \n",
    "            if num > fnum:\n",
    "                ndp[num][3] += sum(dp[fnum][:3])\n",
    "                ndp[num][3] %= mod\n",
    "                ndp[num][4] += dp[fnum][3]\n",
    "                ndp[num][4] %= mod\n",
    "            elif num < fnum:\n",
    "                ndp[num][0] += dp[fnum][1]\n",
    "                ndp[num][0] %= mod\n",
    "                ndp[num][1] += sum(dp[fnum][2:])\n",
    "                ndp[num][1] %= mod\n",
    "            else:\n",
    "                ndp[num][2] += sum(dp[fnum])\n",
    "                ndp[num][2] %= mod\n",
    "                \n",
    "    dp = deepcopy(ndp)\n",
    "        \n",
    "print(sum(sum(dp, [])) % mod)"
   ]
  },
  {
   "cell_type": "markdown",
   "metadata": {},
   "source": [
    "### 받아쓰기 20542"
   ]
  },
  {
   "cell_type": "code",
   "execution_count": 80,
   "metadata": {},
   "outputs": [
    {
     "name": "stdout",
     "output_type": "stream",
     "text": [
      "7 5\n",
      "village\n",
      "willy\n",
      "3\n"
     ]
    }
   ],
   "source": [
    "alen, blen = map(int, input().split())\n",
    "\n",
    "a = input()\n",
    "b = input()\n",
    "\n",
    "dp = [[0] * (blen + 1) for _ in range(alen + 1)]\n",
    "for i in range(alen + 1):\n",
    "    dp[i][0] = i\n",
    "for i in range(blen + 1):\n",
    "    dp[0][i] = i\n",
    "    \n",
    "    \n",
    "st1 = {'i', 'j', 'l'}\n",
    "st2 = {'v', 'w'}\n",
    "for ai in range(1, alen + 1):\n",
    "    for bi in range(1, blen + 1):\n",
    "        if a[ai - 1] == b[bi - 1] or a[ai - 1] == 'i' and b[bi - 1] in st1 or a[ai - 1] == 'v' and b[bi - 1] in st2:\n",
    "            dp[ai][bi] = dp[ai - 1][bi - 1]\n",
    "        else:\n",
    "            dp[ai][bi] = min(dp[ai - 1][bi - 1], dp[ai - 1][bi], dp[ai][bi - 1]) + 1\n",
    "            \n",
    "print(dp[-1][-1])"
   ]
  },
  {
   "cell_type": "markdown",
   "metadata": {},
   "source": [
    "### 준오는 심술쟁이!! 14437"
   ]
  },
  {
   "cell_type": "code",
   "execution_count": 81,
   "metadata": {},
   "outputs": [
    {
     "data": {
      "text/plain": [
       "225000000"
      ]
     },
     "execution_count": 81,
     "metadata": {},
     "output_type": "execute_result"
    }
   ],
   "source": [
    "1 2 3 0 13   단순 배치 차이(25를 넘길 순 없음)\n",
    "             각각 0~25"
   ]
  },
  {
   "cell_type": "code",
   "execution_count": 89,
   "metadata": {},
   "outputs": [
    {
     "name": "stdout",
     "output_type": "stream",
     "text": [
      "2\n",
      "hanjo\n",
      "15\n"
     ]
    }
   ],
   "source": [
    "mod = 1000000007\n",
    "\n",
    "k = int(input())\n",
    "s = input()\n",
    "\n",
    "n = len(s)\n",
    "\n",
    "dp = [0] * (k + 1)\n",
    "dp[0] = 1\n",
    "\n",
    "for _ in range(n):\n",
    "    for i in range(k, -1, -1):\n",
    "        for to_minus in range(1, 26):\n",
    "            if i - to_minus < 0:\n",
    "                break\n",
    "            dp[i] += dp[i - to_minus]\n",
    "            dp[i] %= mod\n",
    "            \n",
    "print(dp[k])"
   ]
  },
  {
   "cell_type": "markdown",
   "metadata": {},
   "source": [
    "### 증가하는 수 10573"
   ]
  },
  {
   "cell_type": "code",
   "execution_count": null,
   "metadata": {},
   "outputs": [],
   "source": [
    "1 2 3 4 5\n",
    "\n",
    "1 2 3 4 5\n",
    "1 2 3 4 4~5\n",
    "1 2 3 3 9\n",
    "1 1 1~9"
   ]
  },
  {
   "cell_type": "code",
   "execution_count": null,
   "metadata": {},
   "outputs": [],
   "source": [
    "1 3 5\n",
    "\n",
    "1 3 3~5\n",
    "1 2 1자리\n",
    "1 1 1자리\n",
    "\n"
   ]
  },
  {
   "cell_type": "code",
   "execution_count": null,
   "metadata": {},
   "outputs": [],
   "source": [
    "0 1 0\n",
    "1 1 0~1합\n",
    "2 1 0~2합\n",
    "3   0~3합\n",
    "4   0~4합"
   ]
  },
  {
   "cell_type": "code",
   "execution_count": null,
   "metadata": {},
   "outputs": [],
   "source": [
    "1 2 4\n",
    "\n",
    "1 2 3\n",
    "1 2 2"
   ]
  },
  {
   "cell_type": "code",
   "execution_count": null,
   "metadata": {},
   "outputs": [],
   "source": [
    "1 2 3\n",
    "1 2 2\n",
    "\n",
    "1 1 9\n",
    "1 1 8\n",
    "1 1 7\n",
    "1 1 6\n",
    "1 1 5"
   ]
  },
  {
   "cell_type": "code",
   "execution_count": null,
   "metadata": {},
   "outputs": [],
   "source": [
    "1 5 8\n",
    "\n",
    "\n",
    "1 5 5이상 8이하\n",
    "\n",
    "1 4 4이상\n",
    "\n",
    "\n",
    "0 0이상"
   ]
  },
  {
   "cell_type": "code",
   "execution_count": null,
   "metadata": {},
   "outputs": [],
   "source": [
    "1 4 6 8\n",
    "\n",
    "1      4     6      6이상8이하\n",
    "1      4     4~5    이상조건만\n",
    "1   0~3   이상조건만\n",
    "0 이상조건만"
   ]
  },
  {
   "cell_type": "code",
   "execution_count": null,
   "metadata": {},
   "outputs": [],
   "source": [
    "0\n",
    "1\n",
    "2\n",
    "3\n",
    "4 1\n",
    "5 1\n",
    "6\n",
    "7\n",
    "8\n",
    "9"
   ]
  },
  {
   "cell_type": "code",
   "execution_count": 50,
   "metadata": {},
   "outputs": [
    {
     "name": "stdout",
     "output_type": "stream",
     "text": [
      "2\n",
      "2\n"
     ]
    }
   ],
   "source": [
    "import sys\n",
    "input = lambda: sys.stdin.readline().rstrip()\n",
    "\n",
    "for _ in range(int(input())):\n",
    "    li = list(map(int, input()))\n",
    "    n = len(li)\n",
    "\n",
    "    ip = True\n",
    "    for i in range(n - 1):\n",
    "        if li[i] > li[i + 1]:\n",
    "            ip = False\n",
    "            break\n",
    "\n",
    "    if not ip:\n",
    "        print(-1)\n",
    "    elif n == 1:\n",
    "        print(li[0])\n",
    "    else:\n",
    "        cur_total = li[-1] - li[-2]\n",
    "        for i in range(n - 2, -1, -1):\n",
    "            if i - 1 >= 0:\n",
    "                min_v = li[i - 1]\n",
    "            else:\n",
    "                min_v = 0\n",
    "\n",
    "            dp = [[0] * 10 for _ in range(n - i)]\n",
    "            for pos in range(min_v, li[i]):\n",
    "                dp[0][pos] = 1\n",
    "\n",
    "            for j in range(1, len(dp)):\n",
    "                sv = 0\n",
    "                for k in range(10):\n",
    "                    sv += dp[j - 1][k]\n",
    "                    dp[j][k] = sv\n",
    "\n",
    "            cur_total += sum(dp[-1])\n",
    "\n",
    "        print(cur_total)"
   ]
  },
  {
   "cell_type": "code",
   "execution_count": 46,
   "metadata": {},
   "outputs": [
    {
     "name": "stdout",
     "output_type": "stream",
     "text": [
      "1\n"
     ]
    }
   ],
   "source": [
    "num = 1\n",
    "\n",
    "c = 0\n",
    "for i in range(num):\n",
    "    li = list(map(int, str(i)))\n",
    "    n = len(li)\n",
    "    \n",
    "    ip = True\n",
    "    for i in range(n - 1):\n",
    "        if li[i] > li[i + 1]:\n",
    "            ip = False\n",
    "            break\n",
    "            \n",
    "    if ip:\n",
    "        c += 1\n",
    "        \n",
    "print(c)"
   ]
  },
  {
   "cell_type": "code",
   "execution_count": 45,
   "metadata": {},
   "outputs": [
    {
     "name": "stdout",
     "output_type": "stream",
     "text": [
      "1 1\n",
      "1 0\n",
      "2 2\n",
      "2 1\n",
      "3 3\n",
      "3 2\n",
      "4 4\n",
      "4 3\n",
      "5 5\n",
      "5 4\n",
      "6 6\n",
      "6 5\n",
      "7 7\n",
      "7 6\n",
      "8 8\n",
      "8 7\n",
      "9 9\n",
      "9 8\n",
      "10 10\n",
      "10 -1\n",
      "11 10\n",
      "11 10\n",
      "12 11\n",
      "12 11\n",
      "13 12\n",
      "13 12\n",
      "14 13\n",
      "14 13\n",
      "15 14\n",
      "15 14\n",
      "16 15\n",
      "16 15\n",
      "17 16\n",
      "17 16\n",
      "18 17\n",
      "18 17\n",
      "19 18\n",
      "19 18\n",
      "20 19\n",
      "20 -1\n",
      "21 19\n",
      "21 -1\n",
      "22 19\n",
      "22 19\n",
      "23 20\n",
      "23 20\n",
      "24 21\n",
      "24 21\n",
      "25 22\n",
      "25 22\n",
      "26 23\n",
      "26 23\n",
      "27 24\n",
      "27 24\n",
      "28 25\n",
      "28 25\n",
      "29 26\n",
      "29 26\n",
      "30 27\n",
      "30 -1\n",
      "31 27\n",
      "31 -1\n",
      "32 27\n",
      "32 -1\n",
      "33 27\n",
      "33 27\n",
      "34 28\n",
      "34 28\n",
      "35 29\n",
      "35 29\n",
      "36 30\n",
      "36 30\n",
      "37 31\n",
      "37 31\n",
      "38 32\n",
      "38 32\n",
      "39 33\n",
      "39 33\n",
      "40 34\n",
      "40 -1\n",
      "41 34\n",
      "41 -1\n",
      "42 34\n",
      "42 -1\n",
      "43 34\n",
      "43 -1\n",
      "44 34\n",
      "44 34\n",
      "45 35\n",
      "45 35\n",
      "46 36\n",
      "46 36\n",
      "47 37\n",
      "47 37\n",
      "48 38\n",
      "48 38\n",
      "49 39\n",
      "49 39\n",
      "50 40\n",
      "50 -1\n",
      "51 40\n",
      "51 -1\n",
      "52 40\n",
      "52 -1\n",
      "53 40\n",
      "53 -1\n",
      "54 40\n",
      "54 -1\n",
      "55 40\n",
      "55 40\n",
      "56 41\n",
      "56 41\n",
      "57 42\n",
      "57 42\n",
      "58 43\n",
      "58 43\n",
      "59 44\n",
      "59 44\n",
      "60 45\n",
      "60 -1\n",
      "61 45\n",
      "61 -1\n",
      "62 45\n",
      "62 -1\n",
      "63 45\n",
      "63 -1\n",
      "64 45\n",
      "64 -1\n",
      "65 45\n",
      "65 -1\n",
      "66 45\n",
      "66 45\n",
      "67 46\n",
      "67 46\n",
      "68 47\n",
      "68 47\n",
      "69 48\n",
      "69 48\n",
      "70 49\n",
      "70 -1\n",
      "71 49\n",
      "71 -1\n",
      "72 49\n",
      "72 -1\n",
      "73 49\n",
      "73 -1\n",
      "74 49\n",
      "74 -1\n",
      "75 49\n",
      "75 -1\n",
      "76 49\n",
      "76 -1\n",
      "77 49\n",
      "77 49\n",
      "78 50\n",
      "78 50\n",
      "79 51\n",
      "79 51\n",
      "80 52\n",
      "80 -1\n",
      "81 52\n",
      "81 -1\n",
      "82 52\n",
      "82 -1\n",
      "83 52\n",
      "83 -1\n",
      "84 52\n",
      "84 -1\n",
      "85 52\n",
      "85 -1\n",
      "86 52\n",
      "86 -1\n",
      "87 52\n",
      "87 -1\n",
      "88 52\n",
      "88 52\n",
      "89 53\n",
      "89 53\n",
      "90 54\n",
      "90 -1\n",
      "91 54\n",
      "91 -1\n",
      "92 54\n",
      "92 -1\n",
      "93 54\n",
      "93 -1\n",
      "94 54\n",
      "94 -1\n",
      "95 54\n",
      "95 -1\n",
      "96 54\n",
      "96 -1\n",
      "97 54\n",
      "97 -1\n",
      "98 54\n",
      "98 -1\n",
      "99 54\n",
      "99 54\n"
     ]
    }
   ],
   "source": [
    "for num in range(1, 100):\n",
    "    snum = str(num)\n",
    "    \n",
    "    c = 0\n",
    "    for i in range(num):\n",
    "        li = list(map(int, str(i)))\n",
    "        n = len(li)\n",
    "\n",
    "        ip = True\n",
    "        for i in range(n - 1):\n",
    "            if li[i] > li[i + 1]:\n",
    "                ip = False\n",
    "                break\n",
    "\n",
    "        if ip:\n",
    "            c += 1\n",
    "\n",
    "    print(num, c)\n",
    "\n",
    "\n",
    "    li = list(map(int, snum))\n",
    "    n = len(li)\n",
    "\n",
    "    ip = True\n",
    "    for i in range(n - 1):\n",
    "        if li[i] > li[i + 1]:\n",
    "            ip = False\n",
    "            break\n",
    "\n",
    "    if not ip:\n",
    "        print(num, -1)\n",
    "    elif n == 1:\n",
    "        print(num, li[0] - 1)\n",
    "    else:\n",
    "        cur_total = li[-1] - li[-2]\n",
    "        for i in range(n - 2, -1, -1):\n",
    "            if i - 1 >= 0:\n",
    "                min_v = li[i - 1]\n",
    "            else:\n",
    "                min_v = 0\n",
    "\n",
    "            dp = [[0] * 10 for _ in range(n - i)]\n",
    "            for pos in range(min_v, li[i]):\n",
    "                dp[0][pos] = 1\n",
    "\n",
    "            for j in range(1, len(dp)):\n",
    "                sv = 0\n",
    "                for k in range(10):\n",
    "                    sv += dp[j - 1][k]\n",
    "                    dp[j][k] = sv\n",
    "\n",
    "            cur_total += sum(dp[-1])\n",
    "\n",
    "        print(num, cur_total)"
   ]
  },
  {
   "cell_type": "markdown",
   "metadata": {},
   "source": [
    "### What’s Mine is Mine 17979"
   ]
  },
  {
   "cell_type": "code",
   "execution_count": 51,
   "metadata": {},
   "outputs": [
    {
     "data": {
      "text/plain": [
       "18"
      ]
     },
     "execution_count": 51,
     "metadata": {},
     "output_type": "execute_result"
    }
   ],
   "source": [
    "3 * 2 + 4 * 3"
   ]
  }
 ],
 "metadata": {
  "kernelspec": {
   "display_name": "Python 3",
   "language": "python",
   "name": "python3"
  },
  "language_info": {
   "codemirror_mode": {
    "name": "ipython",
    "version": 3
   },
   "file_extension": ".py",
   "mimetype": "text/x-python",
   "name": "python",
   "nbconvert_exporter": "python",
   "pygments_lexer": "ipython3",
   "version": "3.7.4"
  }
 },
 "nbformat": 4,
 "nbformat_minor": 2
}
