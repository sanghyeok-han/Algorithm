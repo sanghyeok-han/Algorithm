{
 "cells": [
  {
   "cell_type": "markdown",
   "metadata": {},
   "source": [
    "### 가운데를 말해요 1655\n",
    "- 우선순위 큐"
   ]
  },
  {
   "cell_type": "code",
   "execution_count": 18,
   "metadata": {},
   "outputs": [
    {
     "name": "stdout",
     "output_type": "stream",
     "text": [
      "8\n",
      "1\n",
      "1\n",
      "7\n",
      "1\n",
      "3\n",
      "3\n",
      "1\n",
      "1\n",
      "7\n",
      "3\n",
      "4\n",
      "3\n",
      "1\n",
      "3\n",
      "7\n",
      "3\n"
     ]
    }
   ],
   "source": [
    "import heapq\n",
    "import sys\n",
    "# input = sys.stdin.readline\n",
    "\n",
    "heap1 = []\n",
    "heap2 = []\n",
    "\n",
    "n = int(input().strip())\n",
    "for _ in range(n):\n",
    "    v = int(input().strip())\n",
    "    \n",
    "    if not heap1:\n",
    "        print(v)\n",
    "        heapq.heappush(heap1, -v)\n",
    "        continue\n",
    "    if len(heap1) == len(heap2):\n",
    "        value = heapq.heappop(heap2)\n",
    "        if v <= value:\n",
    "            heapq.heappush(heap1, -v)\n",
    "            heapq.heappush(heap2, value)\n",
    "        else:\n",
    "            heapq.heappush(heap1, -value)\n",
    "            heapq.heappush(heap2, v)\n",
    "    else:\n",
    "        value = -heapq.heappop(heap1)\n",
    "        if v >= value:\n",
    "            heapq.heappush(heap2, v)\n",
    "            heapq.heappush(heap1, -value)\n",
    "        else:\n",
    "            heapq.heappush(heap2, value)\n",
    "            heapq.heappush(heap1, -v)\n",
    "            \n",
    "    output = -heapq.heappop(heap1)\n",
    "    print(output)\n",
    "    heapq.heappush(heap1, -output)"
   ]
  },
  {
   "cell_type": "markdown",
   "metadata": {},
   "source": [
    "### 중앙값 구하기 2696\n",
    "- 우선순위 큐"
   ]
  },
  {
   "cell_type": "code",
   "execution_count": 27,
   "metadata": {},
   "outputs": [
    {
     "name": "stdout",
     "output_type": "stream",
     "text": [
      "3\n",
      "9\n",
      "1 2 3 4 5 6 7 8 9\n",
      "5\n",
      "1 2 3 4 59\n",
      "9 8 7 6 5 4 3 2 1\n",
      "5\n",
      "9 8 7 6 523\n",
      "23 41 13 22 -3 24 -31 -11 -8 -7\n",
      "3 5 103 211 -311 -45 -67 -73 -81 -99\n",
      "-33 24 56\n",
      "12\n",
      "23 23 22 22 13 3 5 5 3 -3\n",
      "-7 -3"
     ]
    }
   ],
   "source": [
    "import heapq\n",
    "import sys\n",
    "# input = sys.stdin.readline\n",
    "\n",
    "T = int(input())\n",
    "for case_num in range(T):\n",
    "    heap1 = []\n",
    "    heap2 = []\n",
    "\n",
    "    n = int(input().strip())\n",
    "    input_line_num = (n - 1) // 10 + 1\n",
    "    li = []\n",
    "    for _ in range(input_line_num):\n",
    "        line = map(int, input().strip().split())\n",
    "        li.extend(line)\n",
    "\n",
    "    result = []\n",
    "    for i, v in enumerate(li, 1):\n",
    "        if not heap1:\n",
    "            heapq.heappush(heap1, -v)\n",
    "            result.append(v)\n",
    "            continue\n",
    "        if len(heap1) == len(heap2):\n",
    "            value = heapq.heappop(heap2)\n",
    "            if v <= value:\n",
    "                heapq.heappush(heap1, -v)\n",
    "                heapq.heappush(heap2, value)\n",
    "            else:\n",
    "                heapq.heappush(heap1, -value)\n",
    "                heapq.heappush(heap2, v)\n",
    "        else:\n",
    "            value = -heapq.heappop(heap1)\n",
    "            if v >= value:\n",
    "                heapq.heappush(heap2, v)\n",
    "                heapq.heappush(heap1, -value)\n",
    "            else:\n",
    "                heapq.heappush(heap2, value)\n",
    "                heapq.heappush(heap1, -v)\n",
    "\n",
    "        if i % 2 == 1:\n",
    "            output = -heapq.heappop(heap1)\n",
    "            result.append(output)\n",
    "            heapq.heappush(heap1, -output)\n",
    "\n",
    "    if case_num >= 1:\n",
    "        print()\n",
    "        \n",
    "    print(len(result))\n",
    "    for i, v in enumerate(result, 1):\n",
    "        if i % 10 == 1:\n",
    "            if i != 1:\n",
    "                print()\n",
    "            print(v, end=\"\")\n",
    "        else:\n",
    "            print(f' {v}', end=\"\")"
   ]
  },
  {
   "cell_type": "markdown",
   "metadata": {},
   "source": [
    "### 대표 선수 2461\n",
    "- 구현, 우선순위 큐"
   ]
  },
  {
   "cell_type": "code",
   "execution_count": null,
   "metadata": {},
   "outputs": [],
   "source": []
  },
  {
   "cell_type": "markdown",
   "metadata": {},
   "source": [
    "### 군사 이동 11085\n",
    "- 그래프 이론, 분리 집합"
   ]
  },
  {
   "cell_type": "code",
   "execution_count": 31,
   "metadata": {},
   "outputs": [
    {
     "name": "stdout",
     "output_type": "stream",
     "text": [
      "7 11\n",
      "3 5\n",
      "0 1 15\n",
      "0 2 23\n",
      "1 2 16\n",
      "1 3 27\n",
      "2 4 3\n",
      "2 6 21\n",
      "3 4 14\n",
      "3 5 10\n",
      "4 5 50\n",
      "4 6 9\n",
      "5 6 42\n"
     ]
    }
   ],
   "source": [
    "p, w = map(int, input().strip().split())\n",
    "start, target = map(int, input().strip().split())\n",
    "\n",
    "li = [[] for _ in range(p)]\n",
    "for _ in range(w):\n",
    "    a, b, w = map(int, input().strip().split())\n",
    "    li[a].append((b, w))\n",
    "    li[b].append((a, w))"
   ]
  },
  {
   "cell_type": "code",
   "execution_count": 37,
   "metadata": {},
   "outputs": [
    {
     "name": "stdout",
     "output_type": "stream",
     "text": [
      "16\n"
     ]
    }
   ],
   "source": [
    "from collections import deque\n",
    "import sys\n",
    "# input = sys.stdin.readline\n",
    "\n",
    "p, w = map(int, input().strip().split())\n",
    "start, target = map(int, input().strip().split())\n",
    "\n",
    "li = [[] for _ in range(p)]\n",
    "for _ in range(w):\n",
    "    a, b, w = map(int, input().strip().split())\n",
    "    li[a].append((b, w))\n",
    "    li[b].append((a, w))\n",
    "\n",
    "maximum_arrivals = [0] * p\n",
    "maximum_arrivals[start] = float('inf')\n",
    "\n",
    "queue = deque()\n",
    "queue.append((start, float('inf')))\n",
    "\n",
    "while queue:\n",
    "    node, max_possible = queue.popleft()\n",
    "    \n",
    "    for v in li[node]:\n",
    "        n, mp = v\n",
    "        \n",
    "        mp = min(max_possible, mp)\n",
    "        if mp > maximum_arrivals[n]:\n",
    "            maximum_arrivals[n] = mp\n",
    "            queue.append((n, mp))\n",
    "            \n",
    "print(maximum_arrivals[target])"
   ]
  },
  {
   "cell_type": "markdown",
   "metadata": {},
   "source": [
    "### 친구비 16562\n",
    "- 분리 집합"
   ]
  },
  {
   "cell_type": "markdown",
   "metadata": {},
   "source": [
    "#### 먼저 각자의 parent를 정리해 준 다음에 (비교시 둘 중 비용이 적게 드는 경우가 parent) parent를 set으로 만든 다음 가격 계산 "
   ]
  },
  {
   "cell_type": "code",
   "execution_count": 41,
   "metadata": {},
   "outputs": [
    {
     "name": "stdout",
     "output_type": "stream",
     "text": [
      "5 3 10\n",
      "10 10 20 20 30\n",
      "1 3\n",
      "2 4\n",
      "5 4\n",
      "Oh no\n"
     ]
    }
   ],
   "source": [
    "import sys\n",
    "# input = sys.stdin.readline\n",
    "\n",
    "n, m, k = map(int, input().strip().split())\n",
    "costs = tuple(map(int, input().strip().split()))\n",
    "\n",
    "parent = list(range(n))\n",
    "\n",
    "def find(v):\n",
    "    if v == parent[v]:\n",
    "        return v\n",
    "    else:\n",
    "        parent[v] = find(parent[v])\n",
    "        return parent[v]\n",
    "    \n",
    "def union(a, b): \n",
    "    if costs[a] <= costs[b]:\n",
    "        parent[b] = a\n",
    "    else:\n",
    "        parent[a] = b\n",
    "        \n",
    "for _ in range(m):\n",
    "    a, b = map(int, input().strip().split())\n",
    "    a -= 1\n",
    "    b -= 1\n",
    "    \n",
    "    a = find(a)\n",
    "    b = find(b)\n",
    "    \n",
    "    if a != b:\n",
    "        union(a, b)\n",
    "        \n",
    "for i in range(n):\n",
    "    find(i)\n",
    "    \n",
    "parent_set= set(parent)\n",
    "\n",
    "min_total_cost = 0\n",
    "for v in parent_set:\n",
    "    min_total_cost += costs[v]\n",
    "    \n",
    "if k >= min_total_cost:\n",
    "    print(min_total_cost)\n",
    "else:\n",
    "    print('Oh no')"
   ]
  }
 ],
 "metadata": {
  "kernelspec": {
   "display_name": "Python 3",
   "language": "python",
   "name": "python3"
  },
  "language_info": {
   "codemirror_mode": {
    "name": "ipython",
    "version": 3
   },
   "file_extension": ".py",
   "mimetype": "text/x-python",
   "name": "python",
   "nbconvert_exporter": "python",
   "pygments_lexer": "ipython3",
   "version": "3.7.3"
  }
 },
 "nbformat": 4,
 "nbformat_minor": 4
}
