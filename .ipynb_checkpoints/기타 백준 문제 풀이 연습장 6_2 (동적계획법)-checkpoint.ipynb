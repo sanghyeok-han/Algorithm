{
 "cells": [
  {
   "cell_type": "markdown",
   "metadata": {},
   "source": [
    "### 팰린드롬? 10942\n",
    "- 문자열"
   ]
  },
  {
   "cell_type": "code",
   "execution_count": 1,
   "metadata": {},
   "outputs": [
    {
     "name": "stdout",
     "output_type": "stream",
     "text": [
      "7\n",
      "1 2 1 3 1 2 1\n"
     ]
    }
   ],
   "source": [
    "n = int(input())\n",
    "li = list(map(int, input().split()))"
   ]
  },
  {
   "cell_type": "code",
   "execution_count": 2,
   "metadata": {},
   "outputs": [],
   "source": [
    "dp = [[1] * n for _ in range(n)] # dp[i][j]: i~j가 팰린드롬인지의 여부"
   ]
  },
  {
   "cell_type": "code",
   "execution_count": 13,
   "metadata": {},
   "outputs": [
    {
     "name": "stdout",
     "output_type": "stream",
     "text": [
      "7\n",
      "1 2 3 4 5 6 7\n",
      "1\n",
      "1 7\n",
      "0\n"
     ]
    }
   ],
   "source": [
    "import sys\n",
    "# input = sys.stdin.readline\n",
    "\n",
    "n = int(input().rstrip())\n",
    "li = list(map(int, input().rstrip().split()))\n",
    "\n",
    "dp = [[1] * n for _ in range(n)] # dp[i][j]: i~j가 팰린드롬인지의 여부\n",
    "\n",
    "for term in range(1, n):\n",
    "    for i in range(n - term):\n",
    "        if li[i] != li[i + term]:\n",
    "            dp[i][i + term] = 0\n",
    "            continue\n",
    "       \n",
    "        if term >= 3:\n",
    "            if not dp[i + 1][i + term - 1]:\n",
    "                dp[i][i + term] = 0\n",
    "                \n",
    "m = int(input().rstrip())\n",
    "for _ in range(m):\n",
    "    s, e = map(int, input().rstrip().split())\n",
    "    print(dp[s - 1][e - 1])"
   ]
  },
  {
   "cell_type": "markdown",
   "metadata": {},
   "source": [
    "### 로봇 조종하기 2169"
   ]
  },
  {
   "cell_type": "code",
   "execution_count": null,
   "metadata": {},
   "outputs": [],
   "source": [
    "import sys\n",
    "# input = sys.stdin.readline\n",
    "\n",
    "n, m = map(int, input().rstrip().split())\n",
    "li = [list(map(int, input().rstrip().split())) for _ in range(n)]\n",
    "\n",
    "for i in range(1, m):\n",
    "    li[0][i] = li[0][i - 1] + li[0][i]\n",
    "\n",
    "left_dp = [[-float('inf')] * (m + 1) for _ in range(n)]\n",
    "right_dp = [[-float('inf')] * (m + 1) for _ in range(n)]\n",
    "for i in range(1, n):\n",
    "    for j in range(m):\n",
    "        left_dp[i][j + 1] = max(li[i - 1][j], left_dp[i][j]) + li[i][j]\n",
    "        right_dp[i][m - 1 - j] = max(li[i - 1][m - 1 - j], right_dp[i][m - j]) + li[i][m - 1 - j]\n",
    "    \n",
    "    for j in range(m):\n",
    "        li[i][j] = max(left_dp[i][j + 1], right_dp[i][j])\n",
    "        \n",
    "print(li[-1][-1])"
   ]
  },
  {
   "cell_type": "markdown",
   "metadata": {},
   "source": [
    "### 보석 줍기 2208\n",
    "- 누적 합"
   ]
  },
  {
   "cell_type": "code",
   "execution_count": 118,
   "metadata": {},
   "outputs": [
    {
     "name": "stdout",
     "output_type": "stream",
     "text": [
      "3 3\n",
      "-1\n",
      "-1\n",
      "-1\n",
      "0\n"
     ]
    }
   ],
   "source": [
    "import sys\n",
    "# input = sys.stdin.readline\n",
    "\n",
    "n, m = map(int, input().rstrip().split())\n",
    "li = [int(input().rstrip()) for _ in range(n)]\n",
    "\n",
    "sum_li = []\n",
    "for i in range(m, n + 1):\n",
    "    sum_li.append(sum(li[i - m:i]))\n",
    "\n",
    "dp = [0] * len(sum_li)\n",
    "dp[0] = sum_li[0]\n",
    "\n",
    "for i in range(1, len(sum_li)):\n",
    "    dp[i] = max(dp[i - 1] + li[i + m - 1], sum_li[i])\n",
    "    \n",
    "print(max(max(dp), 0))"
   ]
  },
  {
   "cell_type": "code",
   "execution_count": 129,
   "metadata": {},
   "outputs": [
    {
     "name": "stdout",
     "output_type": "stream",
     "text": [
      "4 4\n",
      "1\n",
      "2\n",
      "3\n",
      "4\n",
      "10\n"
     ]
    }
   ],
   "source": [
    "# 누적 합 부분 최적화\n",
    "import sys\n",
    "# input = sys.stdin.readline\n",
    "\n",
    "n, m = map(int, input().rstrip().split())\n",
    "li = [int(input().rstrip()) for _ in range(n)]\n",
    "\n",
    "sum_li = [0] * (n - m + 1)\n",
    "sum_li[0] = sum(li[:m])\n",
    "\n",
    "for i in range(1, n - m + 1):\n",
    "    sum_li[i] = sum_li[i - 1] - li[i - 1] + li[i + m - 1]\n",
    "\n",
    "dp = [0] * len(sum_li)\n",
    "dp[0] = sum_li[0]\n",
    "\n",
    "for i in range(1, len(sum_li)):\n",
    "    dp[i] = max(dp[i - 1] + li[i + m - 1], sum_li[i])\n",
    "    \n",
    "print(max(max(dp), 0))"
   ]
  },
  {
   "cell_type": "markdown",
   "metadata": {},
   "source": [
    "### 금고 테스트"
   ]
  },
  {
   "cell_type": "code",
   "execution_count": 89,
   "metadata": {},
   "outputs": [
    {
     "name": "stdout",
     "output_type": "stream",
     "text": [
      "10 4\n",
      "4\n"
     ]
    }
   ],
   "source": [
    "# 일단 포기\n",
    "n, k = map(int, input().split())\n",
    "\n",
    "start = 1\n",
    "end = n\n",
    "count = 0\n",
    "for _ in range(k - 1):\n",
    "    mid = (start + end) // 2\n",
    "    start = mid + 1\n",
    "    count += 1\n",
    "    \n",
    "    if start >= end - 1:\n",
    "        break\n",
    "    \n",
    "count += end - start + 1\n",
    "\n",
    "print(count)"
   ]
  },
  {
   "cell_type": "markdown",
   "metadata": {},
   "source": [
    "### 정상 회담 2 1670\n",
    "- 수학, 조합론"
   ]
  },
  {
   "cell_type": "code",
   "execution_count": 34,
   "metadata": {},
   "outputs": [
    {
     "name": "stdout",
     "output_type": "stream",
     "text": [
      "8\n",
      "14\n"
     ]
    }
   ],
   "source": [
    "# 맞았음, for문 안에 i 대신 n을 넣은 것을 디버깅하는 것에 오래 걸렸음\n",
    "n = int(input())\n",
    "mod = 987654321\n",
    "dp = [0] * 10001\n",
    "dp[2], dp[4] = 1, 2\n",
    "for i in range(6, 10001, 2):\n",
    "    total = 0\n",
    "    total += 2 * dp[i - 2]\n",
    "    start = 2\n",
    "    end = i - 4\n",
    "    \n",
    "    while start <= end:\n",
    "        if start == end:\n",
    "            total += (dp[start] * dp[start]) % mod\n",
    "        else:\n",
    "            total += 2 * (dp[start] * dp[end]) % mod\n",
    "        \n",
    "        start += 2\n",
    "        end -= 2\n",
    "        \n",
    "    dp[i] = total % mod\n",
    "    \n",
    "print(dp[n])"
   ]
  },
  {
   "cell_type": "code",
   "execution_count": 33,
   "metadata": {},
   "outputs": [
    {
     "name": "stdout",
     "output_type": "stream",
     "text": [
      "8\n",
      "14\n"
     ]
    }
   ],
   "source": [
    "# 맞았음, n에 따라서 최적화를 하였지만 결과는 비슷함\n",
    "n = int(input())\n",
    "\n",
    "if n == 2:\n",
    "    print(1)\n",
    "elif n == 4:\n",
    "    print(2)\n",
    "else:\n",
    "    mod = 987654321\n",
    "    dp = [0] * (n + 1)\n",
    "    dp[2], dp[4] = 1, 2\n",
    "\n",
    "    for i in range(6, n + 1, 2):\n",
    "        total = 0\n",
    "        total += 2 * dp[i - 2]\n",
    "        start = 2\n",
    "        end = i - 4\n",
    "\n",
    "        while start <= end:\n",
    "            if start == end:\n",
    "                total += (dp[start] * dp[start]) % mod\n",
    "            else:\n",
    "                total += 2 * (dp[start] * dp[end]) % mod\n",
    "\n",
    "            start += 2\n",
    "            end -= 2\n",
    "\n",
    "        dp[i] = total % mod\n",
    "\n",
    "    print(dp[n])"
   ]
  },
  {
   "cell_type": "markdown",
   "metadata": {},
   "source": [
    "### 사전 1256"
   ]
  },
  {
   "cell_type": "code",
   "execution_count": 60,
   "metadata": {},
   "outputs": [
    {
     "name": "stdout",
     "output_type": "stream",
     "text": [
      "1 1 3\n",
      "-1\n"
     ]
    }
   ],
   "source": [
    "dp = [[1] * 101 for _ in range(101)] # dp[a 개수][z 개수]\n",
    "for i in range(1, 101):\n",
    "    for j in range(1, 101):\n",
    "        dp[i][j] = dp[i - 1][j] + dp[i][j - 1]\n",
    "\n",
    "n, m, k = map(int, input().split())\n",
    "\n",
    "result = []\n",
    "while True:\n",
    "    if n <= -1 or m <= -1:\n",
    "        result = [-1]\n",
    "        break\n",
    "    \n",
    "    if dp[n][m] == k:\n",
    "        break\n",
    "    \n",
    "    if dp[n - 1][m] >= k:\n",
    "        n, m = n - 1, m\n",
    "        result.append('a')\n",
    "    else:\n",
    "        k -= dp[n - 1][m]\n",
    "        n, m = n, m - 1\n",
    "        result.append('z')\n",
    "\n",
    "if result != [-1]:\n",
    "    temp = ['z'] * m + ['a'] * n\n",
    "    result.extend(temp)\n",
    "    \n",
    "    print(\"\".join(result))\n",
    "else:\n",
    "    print(-1)"
   ]
  },
  {
   "cell_type": "markdown",
   "metadata": {},
   "source": [
    "### ls 5015"
   ]
  },
  {
   "cell_type": "code",
   "execution_count": 79,
   "metadata": {},
   "outputs": [
    {
     "name": "stdout",
     "output_type": "stream",
     "text": [
      "*a*a*a\n",
      "4\n",
      "aaa\n",
      "aaa\n",
      "aaaaa\n",
      "aaaaa\n",
      "aaaaax\n",
      "abababa\n",
      "abababa\n"
     ]
    }
   ],
   "source": [
    "# 시간 초과\n",
    "import re\n",
    "\n",
    "regex = input()\n",
    "regex = regex.replace('.', '\\.')\n",
    "regex = regex.replace('*', '[.a-z]*')\n",
    "\n",
    "c = re.compile(regex)\n",
    "for _ in range(int(input())):\n",
    "    s = input()\n",
    "    \n",
    "    result = c.match(s)\n",
    "    if result != None:\n",
    "        if len(s) == len(result.group()):\n",
    "            print(s)"
   ]
  },
  {
   "cell_type": "markdown",
   "metadata": {},
   "source": [
    "### 성냥개비 3687"
   ]
  },
  {
   "cell_type": "code",
   "execution_count": 166,
   "metadata": {},
   "outputs": [
    {
     "name": "stdout",
     "output_type": "stream",
     "text": [
      "4\n",
      "3\n",
      "7 7\n",
      "6\n",
      "6 111\n",
      "7\n",
      "8 711\n",
      "15\n",
      "108 7111111\n"
     ]
    }
   ],
   "source": [
    "dp = [0] * 101\n",
    "dp[:8] = ['0', '0', '1', '7', '4', '2', '0', '8']\n",
    "\n",
    "for i in range(8, 101):\n",
    "    min_num = float('inf')\n",
    "    for start in range(2, i - 1):\n",
    "        if start == 6:      \n",
    "            value = int('6' + dp[i - start])\n",
    "        else:\n",
    "            value = int(dp[start] + dp[i - start])\n",
    "            \n",
    "        if value < min_num:\n",
    "            min_num = value\n",
    "        \n",
    "    dp[i] = str(min_num)\n",
    "    \n",
    "for _ in range(int(input())):\n",
    "    n = int(input())\n",
    "\n",
    "    # 가장 작은 수 출력\n",
    "    if n == 6:\n",
    "        print(6, end=\" \")\n",
    "    else:\n",
    "        print(dp[n], end=\" \")\n",
    "        \n",
    "    # 가장 큰 수 출력\n",
    "    count_1 = n // 2\n",
    "    if n % 2:\n",
    "        max_s = '7' + '1' * (count_1 - 1)\n",
    "    else:\n",
    "        max_s = '1' * count_1\n",
    "\n",
    "    print(max_s)"
   ]
  },
  {
   "cell_type": "markdown",
   "metadata": {},
   "source": [
    "### ls 5015\n",
    "- 문자열"
   ]
  },
  {
   "cell_type": "code",
   "execution_count": 227,
   "metadata": {},
   "outputs": [
    {
     "name": "stdout",
     "output_type": "stream",
     "text": [
      "*\n",
      "1\n",
      "seffsfs\n",
      "seffsfs\n"
     ]
    }
   ],
   "source": [
    "p = input()\n",
    "p_length = len(p)\n",
    "\n",
    "for _ in range(int(input())):\n",
    "    s = input()\n",
    "    s_length = len(s)\n",
    "\n",
    "    last_star_index = -1\n",
    "    p_index = 0\n",
    "    s_index = 0\n",
    "    result = False\n",
    "    while True:\n",
    "        if p_index == p_length:\n",
    "            if last_star_index != -1:\n",
    "                p_index = last_star_index\n",
    "            else:\n",
    "                break\n",
    "\n",
    "        if p[p_index] == '*':\n",
    "            last_star_index = p_index\n",
    "            if p_index < p_length - 1:\n",
    "                p_index += 1\n",
    "                continue\n",
    "\n",
    "        if s[s_index] != p[p_index]:\n",
    "            if last_star_index == '-1':\n",
    "                break\n",
    "            if last_star_index < p_length - 1:\n",
    "                if s[s_index] == p[last_star_index + 1]:\n",
    "                    p_index = last_star_index + 2\n",
    "                else:\n",
    "                    p_index = last_star_index + 1\n",
    "            else:\n",
    "                p_index = last_star_index + 1\n",
    "            s_index += 1\n",
    "        else:\n",
    "            p_index += 1\n",
    "            s_index += 1\n",
    "\n",
    "        if s_index == s_length:\n",
    "            if p_index == p_length:\n",
    "                result = True\n",
    "            else:\n",
    "                st = set(p[p_index:])\n",
    "                if len(st) == 1 and st.pop() == '*':\n",
    "                    result = True\n",
    "            break\n",
    "\n",
    "    if result:\n",
    "        print(s)"
   ]
  },
  {
   "cell_type": "markdown",
   "metadata": {},
   "source": [
    "### 헌책방 5550"
   ]
  },
  {
   "cell_type": "code",
   "execution_count": 228,
   "metadata": {},
   "outputs": [
    {
     "name": "stdout",
     "output_type": "stream",
     "text": [
      "7 4\n",
      "14 1\n",
      "13 2\n",
      "12 3\n",
      "14 2\n",
      "8 2\n",
      "16 3\n",
      "11 2\n",
      "[[], [14], [13, 14, 8, 11], [12, 16], [], [], [], [], [], [], []]\n"
     ]
    }
   ],
   "source": [
    "# 일단 포기\n",
    "li = [[] for _ in range(11)]\n",
    "\n",
    "n, k = map(int, input().split())\n",
    "for _ in range(n):\n",
    "    c, g = map(int, input().split())\n",
    "    li[g].append(c)\n",
    "    \n",
    "print(li)\n",
    "\n",
    "for v in li:\n",
    "    v.sort(reverse=True)\n",
    "    \n",
    "print(li)"
   ]
  },
  {
   "cell_type": "markdown",
   "metadata": {},
   "source": [
    "### 도미노 (Small) 14586"
   ]
  },
  {
   "cell_type": "code",
   "execution_count": 274,
   "metadata": {},
   "outputs": [
    {
     "name": "stdout",
     "output_type": "stream",
     "text": [
      "5\n",
      "1 2\n",
      "3 1\n",
      "6 2\n",
      "7 1\n",
      "9 2\n",
      "2\n"
     ]
    }
   ],
   "source": [
    "# 틀렸음, 일단 포기\n",
    "n = int(input())\n",
    "li = [tuple(map(int, input().split())) for _ in range(n)] # (위치, 높이)\n",
    "\n",
    "count = 0\n",
    "while li:\n",
    "    if len(li) == 1:\n",
    "        count += 1\n",
    "        break\n",
    "    \n",
    "    count += 1\n",
    "    \n",
    "    push_left_to_right_dp = [1] * len(li)\n",
    "    current_leftest_index = 0\n",
    "    current_cover = li[0][1]\n",
    "    for i in range(1, len(li)):\n",
    "        remain_cover = current_cover - (li[i][0] - li[i - 1][0])\n",
    "\n",
    "        if remain_cover >= 0:\n",
    "            if current_leftest_index == -1:\n",
    "                current_leftest_index = i - 1\n",
    "            push_left_to_right_dp[current_leftest_index] += 1\n",
    "        else:\n",
    "            current_leftest_index = -1\n",
    "\n",
    "        current_cover = max(remain_cover, li[i][1])\n",
    "\n",
    "    push_right_to_left_dp = [1] * len(li)\n",
    "    current_rightest_index = len(li) - 1\n",
    "    current_cover = li[-1][1]\n",
    "    for i in range(len(li) - 2, -1, -1):\n",
    "        remain_cover = current_cover - (li[i + 1][0] - li[i][0])\n",
    "\n",
    "        if remain_cover >= 0:\n",
    "            if current_rightest_index == -1:\n",
    "                current_rightest_index = i + 1\n",
    "            push_right_to_left_dp[current_rightest_index] += 1\n",
    "        else:\n",
    "            current_rightest_index = -1\n",
    "\n",
    "        current_cover = max(remain_cover, li[i][1])\n",
    "\n",
    "    max_value = 0\n",
    "    max_index = 0\n",
    "    is_push_left_to_right = True\n",
    "    for i in range(len(li)):\n",
    "        if push_left_to_right_dp[i] > max_value:\n",
    "            max_value = push_left_to_right_dp[i]\n",
    "            max_index = i\n",
    "            is_push_left_to_right = True\n",
    "\n",
    "        if push_right_to_left_dp[i] > max_value:\n",
    "            max_value = push_right_to_left_dp[i]\n",
    "            max_index = i\n",
    "            is_push_left_to_right = False        \n",
    "            \n",
    "    if is_push_left_to_right:\n",
    "        for i in range(max_index + max_value - 1, max_index - 1, -1):\n",
    "            del li[i]\n",
    "    else:\n",
    "        for i in range(max_index, max_index - max_value, -1):\n",
    "            del li[i]\n",
    "                \n",
    "print(count)"
   ]
  },
  {
   "cell_type": "markdown",
   "metadata": {},
   "source": [
    "### 유전자 2306"
   ]
  },
  {
   "cell_type": "code",
   "execution_count": null,
   "metadata": {},
   "outputs": [],
   "source": [
    "# 접근을 잘못하였음\n",
    "s = input()\n",
    "\n",
    "dp = [[False] * len(s) for _ in range(len(s))] # dp[i][j]: i~j까지가 KOI 유전자인지의 여부\n",
    "\n",
    "def check(a, b):\n",
    "    if s[a] == 'a' and s[b] == 't' or s[a] == 'g' and s[b] == 'c':\n",
    "        return True\n",
    "    else:\n",
    "        return False\n",
    "\n",
    "max_count = 0\n",
    "for term in range(1, len(s), 2):\n",
    "    for start in range(len(s) - term):\n",
    "        if term == 1:\n",
    "            if check(start, start + 1):\n",
    "                dp[start][start + 1] = True\n",
    "                max_count = 1 + term\n",
    "                continue\n",
    "        if check(start, start + term) and dp[start + 1][start + term - 1]:\n",
    "            dp[start][start + term] = True\n",
    "            max_count = 1 + term\n",
    "            continue\n",
    "        for right_start in range(start + 2, start + term, 2):\n",
    "            if dp[start][right_start - 1] and dp[right_start][start + term]:\n",
    "                dp[start][start + term] = True\n",
    "                max_count = 1 + term\n",
    "                continue\n",
    "                \n",
    "print(max_count)"
   ]
  },
  {
   "cell_type": "code",
   "execution_count": 64,
   "metadata": {},
   "outputs": [
    {
     "name": "stdout",
     "output_type": "stream",
     "text": [
      "gatc\n",
      "4\n"
     ]
    }
   ],
   "source": [
    "# 틀렸음, gatc와 같은 경우 가능함\n",
    "a_count = 0\n",
    "g_count = 0\n",
    "current = 0\n",
    "\n",
    "s = input()\n",
    "\n",
    "for v in s:\n",
    "    if v == 'a':\n",
    "        a_count += 1\n",
    "    elif v == 'g':\n",
    "        g_count += 1\n",
    "    elif v == 't':\n",
    "        if a_count:\n",
    "            a_count -= 1\n",
    "            current += 2\n",
    "    else:\n",
    "        if g_count:\n",
    "            g_count -= 1\n",
    "            current += 2\n",
    "            \n",
    "print(current)"
   ]
  },
  {
   "cell_type": "code",
   "execution_count": null,
   "metadata": {},
   "outputs": [],
   "source": []
  }
 ],
 "metadata": {
  "kernelspec": {
   "display_name": "Python 3",
   "language": "python",
   "name": "python3"
  },
  "language_info": {
   "codemirror_mode": {
    "name": "ipython",
    "version": 3
   },
   "file_extension": ".py",
   "mimetype": "text/x-python",
   "name": "python",
   "nbconvert_exporter": "python",
   "pygments_lexer": "ipython3",
   "version": "3.7.3"
  }
 },
 "nbformat": 4,
 "nbformat_minor": 4
}
