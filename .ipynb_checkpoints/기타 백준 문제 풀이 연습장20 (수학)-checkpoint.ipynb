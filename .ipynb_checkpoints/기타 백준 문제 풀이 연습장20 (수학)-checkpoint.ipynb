{
 "cells": [
  {
   "cell_type": "markdown",
   "metadata": {},
   "source": [
    "### Fly me to the Alpha Centauri 1011"
   ]
  },
  {
   "cell_type": "code",
   "execution_count": null,
   "metadata": {},
   "outputs": [],
   "source": [
    "차이가 2: 2\n",
    "차이가 3: 3"
   ]
  },
  {
   "cell_type": "code",
   "execution_count": null,
   "metadata": {},
   "outputs": [],
   "source": [
    "distance = 6\n",
    "\n",
    "left = 2\n",
    "right = 1\n",
    "needed = 3\n",
    "\n",
    "left = 2\n",
    "right = 2\n",
    "needed = 4"
   ]
  },
  {
   "cell_type": "code",
   "execution_count": 12,
   "metadata": {},
   "outputs": [
    {
     "name": "stdout",
     "output_type": "stream",
     "text": [
      "3\n",
      "0 3\n",
      "3\n",
      "1 5\n",
      "3\n",
      "45 50\n",
      "4\n"
     ]
    }
   ],
   "source": [
    "def get_sum(x):\n",
    "    return (x * (x + 1)) // 2\n",
    "\n",
    "for _ in range(int(input())):\n",
    "    x, y = map(int, input().split())\n",
    "    distance = y - x\n",
    "\n",
    "    if distance == 1:\n",
    "        print(1)\n",
    "    elif distance == 2:\n",
    "        print(2)\n",
    "    else:\n",
    "        left = 2\n",
    "        right = 1\n",
    "        needed = 3\n",
    "        while True:\n",
    "            if distance > get_sum(left) + get_sum(right):\n",
    "                if left > right:\n",
    "                    right += 1\n",
    "                else:\n",
    "                    left += 1\n",
    "                needed += 1\n",
    "            else:\n",
    "                print(needed)\n",
    "                break"
   ]
  }
 ],
 "metadata": {
  "kernelspec": {
   "display_name": "Python 3",
   "language": "python",
   "name": "python3"
  },
  "language_info": {
   "codemirror_mode": {
    "name": "ipython",
    "version": 3
   },
   "file_extension": ".py",
   "mimetype": "text/x-python",
   "name": "python",
   "nbconvert_exporter": "python",
   "pygments_lexer": "ipython3",
   "version": "3.7.3"
  }
 },
 "nbformat": 4,
 "nbformat_minor": 4
}
