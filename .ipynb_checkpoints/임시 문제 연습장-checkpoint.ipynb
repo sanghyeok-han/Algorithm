{
 "cells": [
  {
   "cell_type": "code",
   "execution_count": null,
   "metadata": {},
   "outputs": [],
   "source": [
    "n 개의 상품을 k개의 상자에"
   ]
  },
  {
   "cell_type": "code",
   "execution_count": null,
   "metadata": {},
   "outputs": [],
   "source": [
    "가장 작은 상자에 담을 수 있는 가장 큰 걸 넣음"
   ]
  },
  {
   "cell_type": "code",
   "execution_count": 3,
   "metadata": {},
   "outputs": [
    {
     "name": "stdout",
     "output_type": "stream",
     "text": [
      "2\n"
     ]
    }
   ],
   "source": [
    "goods = [1, 2]\n",
    "boxes = [2, 3, 1]\n",
    "\n",
    "goods.sort()\n",
    "boxes.sort()\n",
    "\n",
    "c = 0\n",
    "gi = 0\n",
    "for b in boxes:\n",
    "    if goods[gi] <= b:\n",
    "        c += 1\n",
    "        gi += 1\n",
    "        if gi == len(goods):\n",
    "            break\n",
    "    else:\n",
    "        continue\n",
    "        \n",
    "print(c)"
   ]
  },
  {
   "cell_type": "markdown",
   "metadata": {},
   "source": [
    "퀘스트"
   ]
  },
  {
   "cell_type": "code",
   "execution_count": 5,
   "metadata": {},
   "outputs": [
    {
     "name": "stdout",
     "output_type": "stream",
     "text": [
      "[1, 2, 3, 5, 4]\n"
     ]
    }
   ],
   "source": [
    "from heapq import heappush, heappop\n",
    "\n",
    "n = 5\n",
    "quests = [[1, 3], [1, 4], [3, 5], [5, 4]]\n",
    "\n",
    "posts = [[] for _ in range(n + 1)]\n",
    "indegree = [0] * (n + 1)\n",
    "for a, b in quests:\n",
    "    posts[a].append(b)\n",
    "    indegree[b] += 1\n",
    "    \n",
    "heap = []\n",
    "for i in range(1, n + 1):\n",
    "    if indegree[i] == 0:\n",
    "        heappush(heap, i)\n",
    "    \n",
    "result = []\n",
    "while heap:\n",
    "    value = heappop(heap)\n",
    "    result.append(value)\n",
    "    \n",
    "    for v in posts[value]:\n",
    "        indegree[v] -= 1\n",
    "        if indegree[v] == 0:\n",
    "            heappush(heap, v)\n",
    "            \n",
    "print(result)"
   ]
  }
 ],
 "metadata": {
  "kernelspec": {
   "display_name": "Python 3",
   "language": "python",
   "name": "python3"
  },
  "language_info": {
   "codemirror_mode": {
    "name": "ipython",
    "version": 3
   },
   "file_extension": ".py",
   "mimetype": "text/x-python",
   "name": "python",
   "nbconvert_exporter": "python",
   "pygments_lexer": "ipython3",
   "version": "3.7.4"
  }
 },
 "nbformat": 4,
 "nbformat_minor": 2
}
