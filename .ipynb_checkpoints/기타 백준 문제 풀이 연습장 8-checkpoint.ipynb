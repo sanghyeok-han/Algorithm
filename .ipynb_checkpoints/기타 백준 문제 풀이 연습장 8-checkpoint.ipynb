{
 "cells": [
  {
   "cell_type": "code",
   "execution_count": 10,
   "metadata": {},
   "outputs": [
    {
     "name": "stdout",
     "output_type": "stream",
     "text": [
      "6\n",
      "100 70 90 10\n",
      "30 55 10 8 100\n",
      "60 10 10 2 70\n",
      "10 80 50 0 50\n",
      "40 30 30 8 60\n",
      "60 10 70 2 120\n",
      "20 70 50 4 4\n",
      "134\n",
      "0 1 2 3 4 5\n"
     ]
    }
   ],
   "source": [
    "from itertools import combinations as comb\n",
    "\n",
    "n = int(input())\n",
    "mins = list(map(int, input().split()))\n",
    "li = [list(map(int, input().split())) for _ in range(n)]\n",
    "\n",
    "min_cost = float('inf')\n",
    "targets = ()\n",
    "for c in range(1, n + 1):\n",
    "    for case in comb(range(n), c):\n",
    "        temp = [0] * 4\n",
    "        cost = 0\n",
    "        for index in case:\n",
    "            cost += li[index][4]\n",
    "            for i in range(4):\n",
    "                temp[i] += li[index][i]\n",
    "            \n",
    "        ip = True\n",
    "        for i in range(4):\n",
    "            if temp[i] < mins[i]:\n",
    "                ip = False\n",
    "                break\n",
    "                \n",
    "        if ip:\n",
    "            if cost < min_cost:\n",
    "                min_cost = cost\n",
    "                targets = case\n",
    "            elif cost == min_cost:\n",
    "                if case < targets:\n",
    "                    targets = case\n",
    "                    \n",
    "if min_cost == float('inf'):\n",
    "    print(-1)\n",
    "else:\n",
    "    print(min_cost)\n",
    "    targets = [v + 1 for v in targets]\n",
    "    print(*targets)"
   ]
  },
  {
   "cell_type": "code",
   "execution_count": null,
   "metadata": {},
   "outputs": [],
   "source": [
    "from itertools import combinations as comb\n",
    "\n",
    "# 직접 비교 함수 구현해봄\n",
    "def compare(a, b):\n",
    "    for i in range(min(len(a), len(b))):\n",
    "        if a[i] < b[i]:\n",
    "            return True\n",
    "        elif a[i] > b[i]:\n",
    "            return False\n",
    "        \n",
    "    if len(a) <= len(b):\n",
    "        return True\n",
    "    else:\n",
    "        return False\n",
    "\n",
    "n = int(input())\n",
    "mins = list(map(int, input().split()))\n",
    "li = [list(map(int, input().split())) for _ in range(n)]\n",
    "\n",
    "min_cost = float('inf')\n",
    "targets = ()\n",
    "for c in range(1, n + 1):\n",
    "    for case in comb(range(n), c):\n",
    "        temp = [0] * 4\n",
    "        cost = 0\n",
    "        for index in case:\n",
    "            cost += li[index][4]\n",
    "            for i in range(4):\n",
    "                temp[i] += li[index][i]\n",
    "            \n",
    "        ip = True\n",
    "        for i in range(4):\n",
    "            if temp[i] < mins[i]:\n",
    "                ip = False\n",
    "                break\n",
    "                \n",
    "        if ip:\n",
    "            if cost < min_cost:\n",
    "                min_cost = cost\n",
    "                targets = case\n",
    "            elif cost == min_cost:\n",
    "                if compare(case, targets):\n",
    "                    targets = case\n",
    "                    \n",
    "if min_cost == float('inf'):\n",
    "    print(-1)\n",
    "else:\n",
    "    print(min_cost)\n",
    "    targets = [v + 1 for v in targets]\n",
    "    print(*targets)"
   ]
  },
  {
   "cell_type": "code",
   "execution_count": 18,
   "metadata": {},
   "outputs": [
    {
     "data": {
      "text/plain": [
       "False"
      ]
     },
     "execution_count": 18,
     "metadata": {},
     "output_type": "execute_result"
    }
   ],
   "source": [
    "def compare(a, b):\n",
    "    for i in range(min(len(a), len(b))):\n",
    "        if a[i] < b[i]:\n",
    "            return True\n",
    "        elif a[i] > b[i]:\n",
    "            return False\n",
    "        \n",
    "    if len(a) <= len(b):\n",
    "        return True\n",
    "    else:\n",
    "        return False\n",
    "    \n",
    "compare([1, 3, 1, 1], [1, 3, 1])"
   ]
  },
  {
   "cell_type": "markdown",
   "metadata": {},
   "source": [
    "A"
   ]
  },
  {
   "cell_type": "code",
   "execution_count": 3,
   "metadata": {},
   "outputs": [
    {
     "name": "stdout",
     "output_type": "stream",
     "text": [
      "1 3 1 0\n",
      "1 3 2 0\n",
      "1 3 3 0\n",
      "1 3 4 0\n",
      "1 3 5 0\n",
      "1 3 6 0\n",
      "1 3 7 0\n",
      "1 3 8 0\n",
      "1 3 9 0\n"
     ]
    }
   ],
   "source": [
    "x, y, z = 3, 3, 5\n",
    "\n",
    "def recur(x, y, z):\n",
    "    t1 = t2 = t3 = -1\n",
    "    if x >= 1 and y >= 1:\n",
    "        t1 = recur(x - 1, y - 1, z + 1)\n",
    "    if x >= 1 and z >= 1:\n",
    "        t2 = recur(x - 1, y + 1, z - 1)\n",
    "    if y >= 1 and z >= 1:\n",
    "        t3 = recur(x + 1, y - 1, z - 1)\n",
    "    \n",
    "    li = [t1, t2, t3]\n",
    "    li = [v for v in li if v != -1]\n",
    "        \n",
    "    if li and sum(li) == len(li):\n",
    "        is_win = 0\n",
    "    else:\n",
    "        is_win = 1\n",
    "        \n",
    "    return is_win\n",
    "\n",
    "x = 1\n",
    "y = 3\n",
    "for z in range(1, 10):\n",
    "    print(x, y, z, recur(x, y, z))"
   ]
  },
  {
   "cell_type": "code",
   "execution_count": null,
   "metadata": {},
   "outputs": [],
   "source": [
    "import sys\n",
    "input = lambda: sys.stdin.readline().rstrip()\n",
    "\n",
    "for _ in range(int(input())):\n",
    "    x, y, z = map(int, input().split())\n",
    "\n",
    "    if x % 2 == 1 and y % 2 == 1:\n",
    "        print('B')\n",
    "    elif x % 2 == 0 and y % 2 == 0:\n",
    "        print('R')\n",
    "    else:\n",
    "        if z % 2 == 1:\n",
    "            print('B')\n",
    "        else:\n",
    "            print('R')"
   ]
  },
  {
   "cell_type": "markdown",
   "metadata": {},
   "source": [
    "B"
   ]
  },
  {
   "cell_type": "code",
   "execution_count": 263,
   "metadata": {},
   "outputs": [
    {
     "name": "stdout",
     "output_type": "stream",
     "text": [
      "9 9 0 0\n",
      "9 9 1 0\n",
      "9 9 2 1\n",
      "9 9 3 1\n",
      "9 9 4 1\n",
      "9 9 5 0\n",
      "9 9 6 1\n",
      "9 9 7 1\n",
      "9 9 8 1\n",
      "9 9 9 0\n",
      "9 9 10 1\n",
      "9 9 11 1\n",
      "9 9 12 1\n",
      "9 9 13 0\n",
      "9 9 14 1\n",
      "9 9 15 1\n",
      "9 9 16 1\n",
      "9 9 17 1\n",
      "9 9 18 1\n",
      "9 9 19 1\n"
     ]
    }
   ],
   "source": [
    "def recur(x, y, z):\n",
    "    t1 = t2 = t3 = -1\n",
    "    if x >= 1 and y >= 1:\n",
    "        t1 = recur(x - 1, y - 1, z)\n",
    "    if x >= 1 and z >= 1:\n",
    "        t2 = recur(x - 1, y, z - 1)\n",
    "    if y >= 1 and z >= 1:\n",
    "        t3 = recur(x, y - 1, z - 1)\n",
    "    \n",
    "    li = [t1, t2, t3]\n",
    "    li = [v for v in li if v != -1]\n",
    "        \n",
    "    if li and sum(li) == len(li):\n",
    "        is_win = 0\n",
    "    else:\n",
    "        is_win = 1\n",
    "        \n",
    "    return is_win\n",
    "\n",
    "x = 9\n",
    "y = 9\n",
    "for z in range(20):\n",
    "    print(x, y, z, recur(x, y, z))"
   ]
  },
  {
   "cell_type": "code",
   "execution_count": null,
   "metadata": {},
   "outputs": [],
   "source": [
    "x가 짝수면 y의 패리티에 따라 무한번째 z 값이 바뀜"
   ]
  },
  {
   "cell_type": "code",
   "execution_count": null,
   "metadata": {},
   "outputs": [],
   "source": [
    "x, y, z를 오름차순 정렬해놓음"
   ]
  },
  {
   "cell_type": "code",
   "execution_count": null,
   "metadata": {},
   "outputs": [],
   "source": [
    "x가 1일 때,\n",
    "   y가 짝수면 1,\n",
    "   y가 홀수고\n",
    "       y와 z가 같으면 0,\n",
    "                아니면 1\n",
    "        \n",
    "x가 2일 때\n",
    "    y가 홀수면 1,\n",
    "    y가 짝수면 0\n",
    "        \n",
    "x가 3일 때,\n",
    "   y가 짝수면\n",
    "       z가  y + 0이면 0, 아니면 1\n",
    "   y가 홀수면 1\n",
    "\n",
    "        \n",
    "x가 4일 때\n",
    "   y가 짝수면\n",
    "      z가 y + 1이면 1, 아니면 0\n",
    "   y가 홀수면\n",
    "      z가 y + 1이면 0, 아니면 1\n",
    "        \n",
    "x가 5일 때\n",
    "    y가 짝수면\n",
    "       z가 y + 2이면 0, 아니면 1\n",
    "    y가 홀수면\n",
    "       z가 y + 0이면 0, 아니면 1\n",
    "        \n",
    "x가 6일 때\n",
    "    y가 짝수면\n",
    "        z가 y + 3이면 1, 아니면 0\n",
    "    y가 홀수면\n",
    "        z가 y + 3이면 0, 아니면 1\n",
    "        \n",
    "x가 7일 때\n",
    "    y가 짝수면\n",
    "        z가 y + 0이거나 y + 4이면 0, 아니면 1\n",
    "    y가 홀수면\n",
    "        z가 y + 2이면 0, 아니면 1\n",
    "        \n",
    "x가 8일 때\n",
    "    y가 짝수면\n",
    "        z가 y + 1이거나 y + 5이면 1, 아니면 0\n",
    "    y가 홀수면\n",
    "        z가 y + 1이거나 y + 5이면 0, 아니면 1\n",
    "        \n",
    "        \n",
    "x가 9일 때\n",
    "    y가 짝수면\n",
    "        z가 y + 2이거나 y + 6이면 0, 아니면 1\n",
    "    y가 홀수면\n",
    "        z가 y + 0이거나 y + 4이면 0, 아니면 1\n",
    "        \n",
    "        \n",
    "x가 10일 때\n",
    "    y가 짝수면\n",
    "        z가 y + 3이거나 y + 7이면 1, 아니면 0\n",
    "    y가 홀수면\n",
    "        z가 y + 3이거나 y + 7이면 0, 아니면 1  \n",
    "        \n",
    "        \n",
    "x가 11일 때 (추정)\n",
    "    y가 짝수면\n",
    "        z가 y + 0이거나 y + 4이거나 y + 8이면 0, 아니면 1\n",
    "    y가 홀수면\n",
    "        z가 y + 2이거나 y + 6이면 0, 아니면 1"
   ]
  },
  {
   "cell_type": "code",
   "execution_count": 273,
   "metadata": {},
   "outputs": [
    {
     "name": "stdout",
     "output_type": "stream",
     "text": [
      "2 3 2\n",
      "B\n"
     ]
    }
   ],
   "source": [
    "import sys\n",
    "input = lambda: sys.stdin.readline().rstrip()\n",
    "\n",
    "for _ in range(int(input())):\n",
    "    x, y, z = sorted(map(int, input().split()))\n",
    "\n",
    "    if x == 1:\n",
    "        if y % 2 == 0:\n",
    "            r = 1\n",
    "        else:\n",
    "            if y == z:\n",
    "                r = 0\n",
    "            else:\n",
    "                r = 1\n",
    "    elif x == 2:\n",
    "        if y % 2 == 1:\n",
    "            r = 1\n",
    "        else:\n",
    "            r = 0\n",
    "    elif x == 3:\n",
    "        if y % 2 == 0:\n",
    "            if z == y:\n",
    "                r = 0\n",
    "            else:\n",
    "                r = 1\n",
    "        else:\n",
    "            r = 1\n",
    "    elif x % 2 == 0:\n",
    "        if y % 2 == 0:\n",
    "            r = 0\n",
    "        else:\n",
    "            r = 1\n",
    "\n",
    "        cri = y + x - 3\n",
    "        if z <= cri and cri % 4 == z % 4:\n",
    "            r ^= 1\n",
    "    else:\n",
    "        r = 1\n",
    "\n",
    "        if y % 2 == 0:\n",
    "            cri = y + x - 3\n",
    "        else:\n",
    "            cri = y + x - 5\n",
    "        if z <= cri and cri % 4 == z % 4:\n",
    "            r ^= 1\n",
    "\n",
    "    if r == 1:\n",
    "        print('R')\n",
    "    else:\n",
    "        print('B')"
   ]
  },
  {
   "cell_type": "code",
   "execution_count": 264,
   "metadata": {},
   "outputs": [
    {
     "data": {
      "text/plain": [
       "1"
      ]
     },
     "execution_count": 264,
     "metadata": {},
     "output_type": "execute_result"
    }
   ],
   "source": [
    "x가 3일 때,\n",
    "   y가 짝수면\n",
    "       z가  y + 0이면 0, 아니면 1\n",
    "   y가 홀수면 1"
   ]
  },
  {
   "cell_type": "code",
   "execution_count": 265,
   "metadata": {},
   "outputs": [
    {
     "data": {
      "text/plain": [
       "1"
      ]
     },
     "execution_count": 265,
     "metadata": {},
     "output_type": "execute_result"
    }
   ],
   "source": [
    "(y + 3) % 4"
   ]
  },
  {
   "cell_type": "code",
   "execution_count": null,
   "metadata": {},
   "outputs": [],
   "source": [
    "7 7 1 0\n",
    "7 7 2 1\n",
    "7 7 3 1\n",
    "7 7 4 1\n",
    "7 7 5 0\n",
    "7 7 6 1\n",
    "7 7 7 1\n",
    "7 7 8 1\n",
    "7 7 9 0\n",
    "7 7 10 1\n",
    "7 7 11 1\n",
    "7 7 12 1\n",
    "7 7 13 1\n",
    "7 7 14 1\n",
    "7 7 15 1\n",
    "7 7 16 1\n",
    "7 7 17 1\n",
    "7 7 18 1\n",
    "7 7 19 1\n",
    "7 7 20 1\n",
    "7 7 21 1\n",
    "7 7 22 1\n",
    "7 7 23 1\n",
    "7 7 24 1"
   ]
  },
  {
   "cell_type": "code",
   "execution_count": null,
   "metadata": {},
   "outputs": [],
   "source": []
  },
  {
   "cell_type": "code",
   "execution_count": null,
   "metadata": {},
   "outputs": [],
   "source": []
  },
  {
   "cell_type": "code",
   "execution_count": null,
   "metadata": {},
   "outputs": [],
   "source": []
  },
  {
   "cell_type": "code",
   "execution_count": null,
   "metadata": {},
   "outputs": [],
   "source": []
  },
  {
   "cell_type": "code",
   "execution_count": null,
   "metadata": {},
   "outputs": [],
   "source": [
    "recur(2, 3, 2)"
   ]
  },
  {
   "cell_type": "code",
   "execution_count": null,
   "metadata": {},
   "outputs": [],
   "source": [
    "import sys\n",
    "input = lambda: sys.stdin.readline().rstrip()\n",
    "\n",
    "for _ in range(int(input())):\n",
    "    x, y, z = map(int, input().split())\n",
    "\n",
    "    if x % 2 == 1 and y % 2 == 1:\n",
    "        print('B')\n",
    "    elif x % 2 == 0 and y % 2 == 0:\n",
    "        print('R')\n",
    "    else:\n",
    "        if z % 2 == 1:\n",
    "            print('B')\n",
    "        else:\n",
    "            print('R')"
   ]
  },
  {
   "cell_type": "code",
   "execution_count": null,
   "metadata": {},
   "outputs": [],
   "source": [
    "coins = [1, 5, 10, 50, 100, 500]\n",
    "costs = [6, 7, 40, 500, 20, 1000]\n",
    "to_make = 12345\n",
    "\n",
    "nc = [(coins[i], costs[i], coins[i] / costs[i]) for i in range(6)]\n",
    "nc.sort(key=lambda x: -x[2])\n",
    "\n",
    "total_cost = 0\n",
    "for coin, cost, _ in nc:\n",
    "    count = to_make // coin\n",
    "    to_make %= coin\n",
    "    total_cost += count * cost\n",
    "    \n",
    "print(total_cost)"
   ]
  },
  {
   "cell_type": "markdown",
   "metadata": {},
   "source": [
    "### N번째 큰 수 2075"
   ]
  },
  {
   "cell_type": "code",
   "execution_count": 1,
   "metadata": {},
   "outputs": [
    {
     "name": "stdout",
     "output_type": "stream",
     "text": [
      "5\n",
      "12 7 9 15 5\n",
      "13 8 11 19 6\n",
      "21 10 26 31 16\n",
      "48 14 28 35 25\n",
      "52 20 32 41 49\n",
      "35\n"
     ]
    }
   ],
   "source": [
    "from heapq import heappush, heappop\n",
    "import sys\n",
    "input = lambda: sys.stdin.readline().rstrip()\n",
    "\n",
    "n = int(input())\n",
    "\n",
    "heap = []\n",
    "for _ in range(n):\n",
    "    temp = list(map(int, input().split()))\n",
    "    for v in temp:\n",
    "        heappush(heap, v)\n",
    "        if len(heap) > n:\n",
    "            heappop(heap)\n",
    "            \n",
    "r = heap[0]\n",
    "\n",
    "print(r)"
   ]
  },
  {
   "cell_type": "markdown",
   "metadata": {},
   "source": [
    "### 가희의 고구마 먹방 21772"
   ]
  },
  {
   "cell_type": "code",
   "execution_count": null,
   "metadata": {},
   "outputs": [],
   "source": [
    "멈출 필요 없음, 방문 배열 쓰지 않고 브루트포스 해야함"
   ]
  },
  {
   "cell_type": "code",
   "execution_count": 16,
   "metadata": {},
   "outputs": [
    {
     "name": "stdout",
     "output_type": "stream",
     "text": [
      "1 5 4\n",
      "G...S\n",
      "1\n"
     ]
    }
   ],
   "source": [
    "def dfs(x, y, rt):\n",
    "    global max_c\n",
    "    global c\n",
    "\n",
    "    if rt == 0:\n",
    "        max_c = max(max_c, c)\n",
    "        return \n",
    "        \n",
    "    for i in range(4):\n",
    "        nx = x + dx[i]\n",
    "        ny = y + dy[i]\n",
    "        \n",
    "        if nx < 0 or nx >= n or ny < 0 or ny >= m or li[nx][ny] == '#':\n",
    "            continue\n",
    "            \n",
    "        vt[nx][ny] += 1\n",
    "        if vt[nx][ny] == 1 and li[nx][ny] == 'S':\n",
    "            c += 1\n",
    "        dfs(nx, ny, rt - 1)      \n",
    "        vt[nx][ny] -= 1\n",
    "        if vt[nx][ny] == 0 and li[nx][ny] == 'S':\n",
    "            c -= 1\n",
    "\n",
    "n, m, t = map(int, input().split())\n",
    "li = [input() for _ in range(n)]\n",
    "\n",
    "sx = -1\n",
    "sy = -1\n",
    "for i in range(n):\n",
    "    for j in range(m):\n",
    "        if li[i][j] == 'G':\n",
    "            sx = i\n",
    "            sy = j\n",
    "            break\n",
    "    if sx != -1:\n",
    "        break\n",
    "        \n",
    "dx = [-1, 1, 0, 0]\n",
    "dy = [0, 0, -1, 1]\n",
    "c = 0\n",
    "max_c = 0\n",
    "vt = [[0] * m for _ in range(n)]\n",
    "dfs(sx, sy, t)\n",
    "\n",
    "print(max_c)"
   ]
  }
 ],
 "metadata": {
  "kernelspec": {
   "display_name": "Python 3",
   "language": "python",
   "name": "python3"
  },
  "language_info": {
   "codemirror_mode": {
    "name": "ipython",
    "version": 3
   },
   "file_extension": ".py",
   "mimetype": "text/x-python",
   "name": "python",
   "nbconvert_exporter": "python",
   "pygments_lexer": "ipython3",
   "version": "3.7.4"
  }
 },
 "nbformat": 4,
 "nbformat_minor": 4
}
