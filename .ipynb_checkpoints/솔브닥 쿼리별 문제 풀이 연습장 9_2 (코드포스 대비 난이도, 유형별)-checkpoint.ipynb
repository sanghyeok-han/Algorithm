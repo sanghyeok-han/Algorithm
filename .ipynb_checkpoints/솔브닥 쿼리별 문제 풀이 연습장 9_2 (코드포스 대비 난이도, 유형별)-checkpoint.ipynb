{
 "cells": [
  {
   "cell_type": "markdown",
   "metadata": {},
   "source": [
    "tier:g5..g4 (tag:math|tag:dp|tag:binary_search|tag:greedy|tag:prefix_sum) - solved_by:hsh8086"
   ]
  },
  {
   "cell_type": "code",
   "execution_count": 10,
   "metadata": {},
   "outputs": [
    {
     "name": "stdout",
     "output_type": "stream",
     "text": [
      "1 100.00\n",
      "100 50.00\n",
      "200\n",
      "1 100.00\n",
      "90 50.00\n",
      "180\n",
      "1 100.00\n",
      "100 60.00\n",
      "100\n",
      "1 100.00\n",
      "1 100.00\n",
      "1\n",
      "1 90.00\n",
      "1 100.00\n",
      "0\n",
      "0 0.00\n"
     ]
    }
   ],
   "source": [
    "import sys\n",
    "# input = lambda: sys.stdin.readline().rstrip()\n",
    "\n",
    "while True:\n",
    "    n, m = input().split()\n",
    "    n = int(n)\n",
    "    m = float(m)\n",
    "\n",
    "    m *= 100\n",
    "    m = round(m, 10)\n",
    "    m = int(m)\n",
    "    if n == 0 and m == 0:\n",
    "        break\n",
    "    \n",
    "    li = []\n",
    "    for _ in range(n):\n",
    "        a, b = input().split()\n",
    "        a = int(a)\n",
    "        b = float(b)\n",
    "\n",
    "        b *= 100\n",
    "        b = round(b, 10)\n",
    "        b = int(b)\n",
    "\n",
    "        li.append((a, b))\n",
    "\n",
    "    dp = [0] * (m + 1)\n",
    "\n",
    "    for c, p in li:\n",
    "        for j in range(p, m + 1):\n",
    "            dp[j] = max(dp[j], dp[j - p] + c)\n",
    "\n",
    "    print(max(dp))"
   ]
  },
  {
   "cell_type": "markdown",
   "metadata": {},
   "source": [
    "### 이진 트리 13325"
   ]
  },
  {
   "cell_type": "code",
   "execution_count": 31,
   "metadata": {},
   "outputs": [
    {
     "name": "stdout",
     "output_type": "stream",
     "text": [
      "2\n",
      "1 1000 1 1 1000 1000\n",
      "5001\n"
     ]
    }
   ],
   "source": [
    "from collections import deque\n",
    "\n",
    "def dfs(value, cumul):\n",
    "    global added\n",
    "    \n",
    "    if li[value]:\n",
    "        t1 = dfs(li[value][0][0], cumul + li[value][0][1])\n",
    "        t2 = dfs(li[value][1][0], cumul + li[value][1][1])\n",
    "\n",
    "        added += abs(t2 - t1)\n",
    "        return max(t1, t2)\n",
    "    else:\n",
    "        return cumul\n",
    "\n",
    "k = int(input())\n",
    "ws = list(map(int, input().split()))\n",
    "ws_len = len(ws)\n",
    "\n",
    "queue = deque()\n",
    "queue.append(1)\n",
    "\n",
    "li = [[] for _ in range(2 ** (k + 1))]\n",
    "cur = 0\n",
    "while queue:\n",
    "    value = queue.popleft()\n",
    "    \n",
    "    v1 = value * 2\n",
    "    li[value].append((v1, ws[cur]))\n",
    "    queue.append(v1)\n",
    "    cur += 1\n",
    "    \n",
    "    v2 = value * 2 + 1\n",
    "    li[value].append((v2, ws[cur]))\n",
    "    queue.append(v2)\n",
    "    cur += 1\n",
    "    \n",
    "    if cur == ws_len:\n",
    "        break\n",
    "        \n",
    "added = 0\n",
    "dfs(1, 0)\n",
    "\n",
    "r = sum(ws) + added\n",
    "\n",
    "print(r)"
   ]
  },
  {
   "cell_type": "markdown",
   "metadata": {},
   "source": [
    "### 회사 문화 1 14267"
   ]
  },
  {
   "cell_type": "code",
   "execution_count": null,
   "metadata": {},
   "outputs": [],
   "source": [
    "import sys\n",
    "sys.setrecursionlimit(100100)\n",
    "input = lambda: sys.stdin.readline().rstrip()\n",
    "\n",
    "n, m = map(int, input().split())\n",
    "li = list(map(int, input().split()))\n",
    "\n",
    "nli = [[] for _ in range(n + 1)]\n",
    "for i in range(1, n):\n",
    "    num = i + 1\n",
    "    nli[li[i]].append(num)\n",
    "    \n",
    "curs = [0] * (n + 1)\n",
    "for _ in range(m):\n",
    "    i, w = map(int, input().split())\n",
    "    \n",
    "    curs[i] += w\n",
    "    \n",
    "def dfs(value, cumul):\n",
    "    r[value] = cumul\n",
    "    for v in nli[value]:\n",
    "        dfs(v, cumul + curs[v])\n",
    "    \n",
    "r = [0] * (n + 1)\n",
    "dfs(1, 0)\n",
    "\n",
    "r.pop(0)\n",
    "print(*r)"
   ]
  },
  {
   "cell_type": "markdown",
   "metadata": {},
   "source": [
    "### 여행 2157"
   ]
  },
  {
   "cell_type": "code",
   "execution_count": 52,
   "metadata": {},
   "outputs": [
    {
     "name": "stdout",
     "output_type": "stream",
     "text": [
      "10\n"
     ]
    }
   ],
   "source": [
    "import sys\n",
    "input = lambda: sys.stdin.readline().rstrip()\n",
    "\n",
    "n, m, k = map(int, input().split())\n",
    "m -= 1\n",
    "\n",
    "scs = [[0] * (n + 1) for _ in range(n + 1)]\n",
    "for _ in range(k):\n",
    "    a, b, c = map(int, input().split())\n",
    "    scs[a][b] = max(scs[a][b], c)\n",
    "    \n",
    "dp = [[0] * m for _ in range(n + 1)]\n",
    "for i in range(1, n + 1):\n",
    "    for j in range(1, i):\n",
    "        if scs[j][i]:\n",
    "            for kk in range(1, m):\n",
    "                if dp[j][kk - 1]:\n",
    "                    dp[i][kk] = max(dp[i][kk], dp[j][kk - 1] + scs[j][i])\n",
    "                    \n",
    "            if j == 1:\n",
    "                dp[i][0] = max(dp[i][0], scs[j][i])\n",
    "        \n",
    "r = max(dp[n])\n",
    "\n",
    "print(r)"
   ]
  },
  {
   "cell_type": "markdown",
   "metadata": {},
   "source": [
    "### Σ 13172"
   ]
  },
  {
   "cell_type": "code",
   "execution_count": 59,
   "metadata": {},
   "outputs": [
    {
     "name": "stdout",
     "output_type": "stream",
     "text": [
      "1\n",
      "3 7\n",
      "333333338\n"
     ]
    }
   ],
   "source": [
    "import sys\n",
    "input = lambda: sys.stdin.readline().rstrip()\n",
    "\n",
    "mod = 1000000007\n",
    "\n",
    "m = int(input())\n",
    "sv = 0\n",
    "for _ in range(m):\n",
    "    n, s = map(int, input().split())\n",
    "    \n",
    "    sv += s * pow(n, mod - 2, mod)\n",
    "    sv %= mod\n",
    "    \n",
    "print(sv)"
   ]
  },
  {
   "cell_type": "markdown",
   "metadata": {},
   "source": [
    "### 박스 채우기 1493"
   ]
  },
  {
   "cell_type": "code",
   "execution_count": 72,
   "metadata": {},
   "outputs": [
    {
     "name": "stdout",
     "output_type": "stream",
     "text": [
      "10 10 11\n",
      "1\n",
      "0 1099\n",
      "-1\n"
     ]
    }
   ],
   "source": [
    "l, w, h = map(int, input().split())\n",
    "\n",
    "needed_l = [0] * 20\n",
    "cur = 0\n",
    "for v in bin(l)[2:][::-1]:\n",
    "    needed_l[cur] = int(v)\n",
    "    cur += 1\n",
    "\n",
    "needed_w = [0] * 20\n",
    "cur = 0\n",
    "for v in bin(w)[2:][::-1]:\n",
    "    needed_w[cur] = int(v)\n",
    "    cur += 1\n",
    "\n",
    "needed_h = [0] * 20\n",
    "cur = 0\n",
    "for v in bin(h)[2:][::-1]:\n",
    "    needed_h[cur] = int(v)\n",
    "    cur += 1\n",
    "    \n",
    "total_needed = [0] * 20\n",
    "for i in range(20):\n",
    "    for j in range(20):\n",
    "        for k in range(20):\n",
    "            min_value = min(i, j, k)\n",
    "            \n",
    "            t1 = needed_l[i] * 2 ** (i - min_value)\n",
    "            t2 = needed_w[j] * 2 ** (j - min_value)\n",
    "            t3 = needed_h[k] * 2 ** (k - min_value)\n",
    "            \n",
    "            total_needed[min_value] += t1 * t2 * t3\n",
    "    \n",
    "have = [0] * 20\n",
    "n = int(input())\n",
    "for _ in range(n):\n",
    "    a, b = map(int, input().split())\n",
    "    have[a] += b\n",
    "    \n",
    "r = 0\n",
    "for i in range(19, -1, -1):\n",
    "    if not total_needed[i]:\n",
    "        continue\n",
    "    used = min(total_needed[i], have[i])\n",
    "    r += used\n",
    "    total_needed[i] -= used\n",
    "    if i - 1 >= 0 and total_needed[i]:\n",
    "        total_needed[i - 1] += total_needed[i] * 8\n",
    "        total_needed[i] = 0\n",
    "        \n",
    "if total_needed[0] >= 1:\n",
    "    print(-1)\n",
    "else:\n",
    "    print(r)"
   ]
  }
 ],
 "metadata": {
  "kernelspec": {
   "display_name": "Python 3",
   "language": "python",
   "name": "python3"
  },
  "language_info": {
   "codemirror_mode": {
    "name": "ipython",
    "version": 3
   },
   "file_extension": ".py",
   "mimetype": "text/x-python",
   "name": "python",
   "nbconvert_exporter": "python",
   "pygments_lexer": "ipython3",
   "version": "3.7.4"
  }
 },
 "nbformat": 4,
 "nbformat_minor": 4
}
