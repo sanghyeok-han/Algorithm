{
 "cells": [
  {
   "cell_type": "markdown",
   "metadata": {},
   "source": [
    "### 01 타일 1904"
   ]
  },
  {
   "cell_type": "markdown",
   "metadata": {},
   "source": [
    "4:35"
   ]
  },
  {
   "cell_type": "code",
   "execution_count": 2,
   "metadata": {},
   "outputs": [
    {
     "name": "stdout",
     "output_type": "stream",
     "text": [
      "10\n",
      "89\n"
     ]
    }
   ],
   "source": [
    "# 시간 초과\n",
    "n = int(input())\n",
    "\n",
    "if n <= 2:\n",
    "    print(n)\n",
    "else:  \n",
    "    a = 1\n",
    "    b = 2\n",
    "    for i in range(3, n + 1):\n",
    "        a, b = b, a + b\n",
    "    print(b % 15746)"
   ]
  },
  {
   "cell_type": "code",
   "execution_count": 10,
   "metadata": {},
   "outputs": [
    {
     "name": "stdout",
     "output_type": "stream",
     "text": [
      "1000000\n",
      "7871\n"
     ]
    }
   ],
   "source": [
    "# 시간 초과\n",
    "n = int(input())\n",
    "\n",
    "li = [0, 1, 2]\n",
    "if n <= 2:\n",
    "    print(li[n])\n",
    "else:  \n",
    "    for i in range(3, n + 1):\n",
    "        li.append(li.pop(-2) + li[-1])\n",
    "    print(li[-1] % 15746)"
   ]
  },
  {
   "cell_type": "code",
   "execution_count": 11,
   "metadata": {},
   "outputs": [
    {
     "name": "stdout",
     "output_type": "stream",
     "text": [
      "7871\n"
     ]
    }
   ],
   "source": [
    "# 예시 정답\n",
    "dp = [0] * 1000001\n",
    "dp[1] = 1\n",
    "dp[2] = 2\n",
    "\n",
    "for i in range(3, n + 1):\n",
    "    dp[i] = (dp[i - 2] + dp[i - 1]) % 15746\n",
    "    \n",
    "print(dp[n])"
   ]
  },
  {
   "cell_type": "code",
   "execution_count": 15,
   "metadata": {},
   "outputs": [
    {
     "name": "stdout",
     "output_type": "stream",
     "text": [
      "1000000\n",
      "7871\n"
     ]
    }
   ],
   "source": [
    "n = int(input())\n",
    "\n",
    "li = [0] * 1000001\n",
    "li[1:3] = [1, 2]\n",
    "\n",
    "for i in range(3, n + 1):\n",
    "    li[i] = (li[i - 2] + li[i - 1]) % 15746\n",
    "    \n",
    "print(li[n])"
   ]
  },
  {
   "cell_type": "markdown",
   "metadata": {},
   "source": [
    "### 평범한 배낭 12865"
   ]
  },
  {
   "cell_type": "code",
   "execution_count": 16,
   "metadata": {},
   "outputs": [
    {
     "name": "stdout",
     "output_type": "stream",
     "text": [
      "4 7\n",
      "6 13\n",
      "4 8\n",
      "3 6\n",
      "5 12\n",
      "12\n"
     ]
    }
   ],
   "source": [
    "# 최적 값 안나옴\n",
    "n, k = map(int, input().split())\n",
    "li = []\n",
    "\n",
    "for _ in range(n):\n",
    "    w, v = map(int, input().split())\n",
    "    li.append((w, v))\n",
    "\n",
    "li = sorted(li, key=lambda x: x[1] / x[0], reverse=True)\n",
    "\n",
    "remain_weight = k\n",
    "current_value = 0\n",
    "for w, v in li:\n",
    "    if w < remain_weight:\n",
    "        current_value += v\n",
    "        remain_weight -= w\n",
    "        \n",
    "print(current_value)"
   ]
  },
  {
   "cell_type": "code",
   "execution_count": 24,
   "metadata": {},
   "outputs": [
    {
     "name": "stdout",
     "output_type": "stream",
     "text": [
      "4 7\n",
      "6 13\n",
      "4 8\n",
      "3 6\n",
      "5 12\n",
      "14\n"
     ]
    }
   ],
   "source": [
    "# 예시 정답 반영 작성\n",
    "n, k = map(int, input().split())\n",
    "li = [[0] * (k + 1) for _ in range(n + 1)]\n",
    "\n",
    "for i in range(1, n + 1):\n",
    "    w, v = map(int, input().split())\n",
    "    for j in range(1, k + 1):\n",
    "        if j >= w:\n",
    "            c = v + li[i - 1][j - w]\n",
    "            if li[i - 1][j] <= c:\n",
    "                li[i][j] = c\n",
    "            else:\n",
    "                li[i][j] = li[i - 1][j]\n",
    "        else:\n",
    "            li[i][j] = li[i - 1][j]\n",
    "print(max(li[-1]))"
   ]
  },
  {
   "cell_type": "code",
   "execution_count": null,
   "metadata": {},
   "outputs": [],
   "source": [
    "# 예시 정답 반영 수정2\n",
    "n, k = map(int, input().split())\n",
    "li = [[0] * (k + 1) for _ in range(n + 1)]\n",
    "\n",
    "for i in range(1, n + 1):\n",
    "    w, v = map(int, input().split())\n",
    "    for j in range(1, k + 1):\n",
    "        if j >= w:\n",
    "            li[i][j] = max(li[i - 1][j], v + li[i - 1][j - w])\n",
    "        else:\n",
    "            li[i][j] = li[i - 1][j]\n",
    "print(max(li[-1]))"
   ]
  },
  {
   "cell_type": "code",
   "execution_count": null,
   "metadata": {},
   "outputs": [],
   "source": [
    "# 예시 정답\n",
    "n, k = map(int, input().split())\n",
    "dp = [[0] * (k + 1) for _ in range(n + 1)]\n",
    "\n",
    "for i in range(1, n + 1):\n",
    "    weight, value = map(int, input().split())\n",
    "    for j in range(1, k + 1):\n",
    "        if j < weight:\n",
    "            dp[i][j] = dp[i - 1][j]\n",
    "        else:\n",
    "            dp[i][j] = max(dp[i - 1][j], dp[i - 1][j - weight] + value)\n",
    "            \n",
    "print(dp[n][k])"
   ]
  },
  {
   "cell_type": "markdown",
   "metadata": {},
   "source": [
    "### 가장 긴 증가하는 부분 수열 11053"
   ]
  },
  {
   "cell_type": "code",
   "execution_count": 1,
   "metadata": {},
   "outputs": [],
   "source": [
    "li = [10, 20, 12, 15, 18]"
   ]
  },
  {
   "cell_type": "code",
   "execution_count": 10,
   "metadata": {},
   "outputs": [
    {
     "name": "stdout",
     "output_type": "stream",
     "text": [
      "5\n",
      "10 20 12 15 18\n",
      "10\n",
      "20\n",
      "2\n"
     ]
    }
   ],
   "source": [
    "# 예상 반례: [10, 11, 12, 13, 8, 9]\n",
    "# 예상 반례 외의 문제도 있음\n",
    "\n",
    "n = int(input())\n",
    "li = list(map(int, input().split()))\n",
    "\n",
    "if n == 1:\n",
    "    print(1)\n",
    "elif n == 2:\n",
    "    if li[0] < li[1]:\n",
    "        print(2)\n",
    "    else:\n",
    "        print(1)\n",
    "else:\n",
    "    max_value = 0\n",
    "    count = 0\n",
    "    for i in range(len(li) - 2):\n",
    "        if li[i] > max_value:\n",
    "            if len([v for v in li[i + 1:] if v < li[i] and v > max([li[i], max_value])]) < 2:\n",
    "                print(li[i])\n",
    "                max_value = li[i]\n",
    "                count += 1\n",
    "\n",
    "    for v in li[-2:]:\n",
    "        if v > max_value:\n",
    "            print(v)\n",
    "            max_value = v\n",
    "            count += 1\n",
    "\n",
    "    print(count)"
   ]
  },
  {
   "cell_type": "code",
   "execution_count": 15,
   "metadata": {},
   "outputs": [
    {
     "name": "stdout",
     "output_type": "stream",
     "text": [
      "7\n",
      "10 20 11 12 13 8 9\n",
      "4\n"
     ]
    }
   ],
   "source": [
    "n = int(input())\n",
    "li = list(map(int, input().split()))\n",
    "dp = []\n",
    "\n",
    "for v in li:\n",
    "    possible_former_values_count = [count for value, count in dp if value < v]\n",
    "    if possible_former_values_count:\n",
    "        dp.append((v, max(possible_former_values_count) + 1))\n",
    "    else:\n",
    "        dp.append((v, 1))\n",
    "        \n",
    "dp = sorted(dp, key=lambda x: x[1], reverse=True)\n",
    "print(dp[0][1])"
   ]
  },
  {
   "cell_type": "code",
   "execution_count": 16,
   "metadata": {},
   "outputs": [
    {
     "name": "stdout",
     "output_type": "stream",
     "text": [
      "7\n",
      "10 20 11 12 13 8 9\n",
      "4\n"
     ]
    }
   ],
   "source": [
    "# 예시 코드 바탕 구현\n",
    "n = int(input())\n",
    "li = list(map(int, input().split()))\n",
    "dp = [1] * n\n",
    "\n",
    "for i in range(1, n):\n",
    "    for j in range(i):\n",
    "        if li[j] < li[i]:\n",
    "            dp[i] = max(dp[i], dp[j] + 1)\n",
    "            \n",
    "print(max(dp))"
   ]
  },
  {
   "cell_type": "markdown",
   "metadata": {},
   "source": [
    "### LCS 9251"
   ]
  },
  {
   "cell_type": "code",
   "execution_count": 4,
   "metadata": {},
   "outputs": [
    {
     "data": {
      "text/plain": [
       "0"
      ]
     },
     "execution_count": 4,
     "metadata": {},
     "output_type": "execute_result"
    }
   ],
   "source": [
    "\"asdf\".index(\"a\")"
   ]
  },
  {
   "cell_type": "code",
   "execution_count": 37,
   "metadata": {},
   "outputs": [],
   "source": [
    "s1 = 'ACAYKP'\n",
    "s2 = 'CAPCAK'"
   ]
  },
  {
   "cell_type": "code",
   "execution_count": 41,
   "metadata": {},
   "outputs": [],
   "source": [
    "exception = set(s1) ^ set(s2)"
   ]
  },
  {
   "cell_type": "code",
   "execution_count": 42,
   "metadata": {},
   "outputs": [],
   "source": [
    "s1 = [v for v in s1 if v not in exception]\n",
    "s2 = [v for v in s2 if v not in exception]"
   ]
  },
  {
   "cell_type": "code",
   "execution_count": 43,
   "metadata": {},
   "outputs": [
    {
     "data": {
      "text/plain": [
       "['A', 'C', 'A', 'K', 'P']"
      ]
     },
     "execution_count": 43,
     "metadata": {},
     "output_type": "execute_result"
    }
   ],
   "source": [
    "s1"
   ]
  },
  {
   "cell_type": "code",
   "execution_count": 44,
   "metadata": {},
   "outputs": [
    {
     "data": {
      "text/plain": [
       "['C', 'A', 'P', 'C', 'A', 'K']"
      ]
     },
     "execution_count": 44,
     "metadata": {},
     "output_type": "execute_result"
    }
   ],
   "source": [
    "s2"
   ]
  },
  {
   "cell_type": "code",
   "execution_count": 17,
   "metadata": {},
   "outputs": [],
   "source": [
    "s1 = \"abcdef\"\n",
    "os2 = \"abdecf\"\n",
    "\n",
    "\n",
    "li = []\n",
    "for i in range(len(s1)):\n",
    "    li.append([0] * i)\n",
    "    s2 = os2\n",
    "    for j in range(i, len(s1)):\n",
    "        if s1[j] in s2:\n",
    "            s2 = s2[s2.index(s1[j]) + 1:]\n",
    "            if not li[i]:\n",
    "                li[i].append(1)\n",
    "            else:\n",
    "                li[i].append(li[i][-1] + 1)\n",
    "        else:\n",
    "            if not li[i]:\n",
    "                li[i].append(0)\n",
    "            else:\n",
    "                li[i].append(li[i][-1])\n",
    "                \n",
    "li = li[:-1]                \n",
    "                \n",
    "li2 = []\n",
    "for i in range(len(s1) - 1):\n",
    "    li2.append([w - v for v, w in zip(li[i][:-1], li[i][1:])])\n",
    "    \n",
    "len([v for v in list(map(sum, list(zip(*li2)))) if v > 0]) + 1   "
   ]
  },
  {
   "cell_type": "code",
   "execution_count": 46,
   "metadata": {},
   "outputs": [
    {
     "name": "stdout",
     "output_type": "stream",
     "text": [
      "[[0, 0, 0, 0, 0, 0], [0, 0, 0, 0, 0, 0], [0, 0, 0, 0, 0, 0], [0, 0, 0, 0, 0, 0], [0, 0, 0, 0, 0, 0], [0, 0, 0, 0, 0, 0]]\n",
      "0 0\n",
      "0 1\n",
      "0 2\n",
      "0 3\n",
      "0 4\n",
      "0 5\n",
      "1 0\n",
      "1 1\n",
      "1 2\n",
      "1 3\n",
      "1 4\n",
      "1 5\n",
      "2 0\n",
      "2 1\n",
      "2 2\n",
      "2 3\n",
      "2 4\n",
      "2 5\n",
      "3 0\n",
      "3 1\n",
      "3 2\n",
      "3 3\n",
      "3 4\n",
      "3 5\n",
      "4 0\n",
      "4 1\n",
      "4 2\n",
      "4 3\n",
      "4 4\n",
      "4 5\n",
      "5 0\n",
      "5 1\n",
      "5 2\n",
      "5 3\n",
      "5 4\n",
      "5 5\n"
     ]
    }
   ],
   "source": [
    "# 예시 정답 알고리즘 반영 직접 구현\n",
    "\n",
    "s1 = \"ACAYKP\"\n",
    "s2 = \"CAPCAK\"\n",
    "\n",
    "li = [[0] * len(s2)] * len(s1)\n",
    "print(li)\n",
    "for i in range(len(s1)):\n",
    "    for j in range(len(s2)):\n",
    "        print(i, j)"
   ]
  }
 ],
 "metadata": {
  "kernelspec": {
   "display_name": "Python 3",
   "language": "python",
   "name": "python3"
  },
  "language_info": {
   "codemirror_mode": {
    "name": "ipython",
    "version": 3
   },
   "file_extension": ".py",
   "mimetype": "text/x-python",
   "name": "python",
   "nbconvert_exporter": "python",
   "pygments_lexer": "ipython3",
   "version": "3.7.3"
  }
 },
 "nbformat": 4,
 "nbformat_minor": 4
}
