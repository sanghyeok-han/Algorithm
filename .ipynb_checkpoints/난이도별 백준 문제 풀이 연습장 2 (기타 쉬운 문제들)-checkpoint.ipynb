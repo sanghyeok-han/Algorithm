{
 "cells": [
  {
   "cell_type": "code",
   "execution_count": 4,
   "metadata": {},
   "outputs": [
    {
     "name": "stdout",
     "output_type": "stream",
     "text": [
      "5 20\n",
      "99 101 1000 0 97\n",
      "-1 1 900 -100 -3\n"
     ]
    }
   ],
   "source": [
    "l, p = map(int, input().split())\n",
    "li = list(map(int, input().split()))\n",
    "real = l * p\n",
    "li = list(map(lambda x: x - real, li))\n",
    "print(\" \".join(map(str, li)))"
   ]
  },
  {
   "cell_type": "code",
   "execution_count": 3,
   "metadata": {},
   "outputs": [
    {
     "name": "stdout",
     "output_type": "stream",
     "text": [
      "-1 1 900 -100 -3\n"
     ]
    }
   ],
   "source": [
    "print(\" \".join(map(str, li)))"
   ]
  },
  {
   "cell_type": "code",
   "execution_count": null,
   "metadata": {},
   "outputs": [],
   "source": [
    "math.ceil(x / 38) = 24"
   ]
  },
  {
   "cell_type": "code",
   "execution_count": 9,
   "metadata": {},
   "outputs": [
    {
     "data": {
      "text/plain": [
       "False"
      ]
     },
     "execution_count": 9,
     "metadata": {},
     "output_type": "execute_result"
    }
   ],
   "source": [
    "894 / 38 == 23"
   ]
  },
  {
   "cell_type": "code",
   "execution_count": 11,
   "metadata": {},
   "outputs": [
    {
     "data": {
      "text/plain": [
       "23.526315789473685"
      ]
     },
     "execution_count": 11,
     "metadata": {},
     "output_type": "execute_result"
    }
   ],
   "source": [
    "894 / 38"
   ]
  },
  {
   "cell_type": "code",
   "execution_count": 15,
   "metadata": {},
   "outputs": [
    {
     "name": "stdout",
     "output_type": "stream",
     "text": [
      "38 24\n"
     ]
    },
    {
     "data": {
      "text/plain": [
       "875"
      ]
     },
     "execution_count": 15,
     "metadata": {},
     "output_type": "execute_result"
    }
   ],
   "source": [
    "a, b = map(int, input().split())\n",
    "print(a * (b - 1) + 1)"
   ]
  },
  {
   "cell_type": "code",
   "execution_count": 19,
   "metadata": {},
   "outputs": [
    {
     "name": "stdout",
     "output_type": "stream",
     "text": [
      "0 1 2 2 2 7\n",
      "1 0 0 0 0 1\n"
     ]
    }
   ],
   "source": [
    "current = list(map(int, input().split()))\n",
    "correct = [1, 1, 2, 2, 2, 8]\n",
    "\n",
    "result = []\n",
    "for i in range(len(current)):\n",
    "    result.append(correct[i] - current[i])\n",
    "    \n",
    "print(\" \".join(map(str, result)))"
   ]
  },
  {
   "cell_type": "code",
   "execution_count": 20,
   "metadata": {},
   "outputs": [
    {
     "name": "stdout",
     "output_type": "stream",
     "text": [
      "0\n",
      "100\n",
      "0\n",
      "10\n",
      "100\n",
      "210\n"
     ]
    }
   ],
   "source": [
    "total = 0\n",
    "\n",
    "for _ in range(5):\n",
    "    total += int(input())\n",
    "\n",
    "print(total)"
   ]
  },
  {
   "cell_type": "code",
   "execution_count": 21,
   "metadata": {},
   "outputs": [
    {
     "name": "stdout",
     "output_type": "stream",
     "text": [
      "31\n",
      "34\n",
      "7\n",
      "151\n",
      "3\n",
      "43\n"
     ]
    }
   ],
   "source": [
    "total = 0\n",
    "\n",
    "for _ in range(4):\n",
    "    total += int(input())\n",
    "\n",
    "print(total // 60)\n",
    "print(total % 60)"
   ]
  },
  {
   "cell_type": "code",
   "execution_count": 22,
   "metadata": {},
   "outputs": [
    {
     "name": "stdout",
     "output_type": "stream",
     "text": [
      "12\n",
      "15\n",
      "18\n"
     ]
    }
   ],
   "source": [
    "y = int(input())\n",
    "m = int(input())\n",
    "print(m + (m - y))"
   ]
  },
  {
   "cell_type": "code",
   "execution_count": 23,
   "metadata": {},
   "outputs": [
    {
     "name": "stdout",
     "output_type": "stream",
     "text": [
      "2 5 3 20\n",
      "70\n"
     ]
    }
   ],
   "source": [
    "a, b, c, d = map(int, input().split())\n",
    "print(a * b + c * d)"
   ]
  },
  {
   "cell_type": "code",
   "execution_count": 31,
   "metadata": {},
   "outputs": [
    {
     "name": "stdout",
     "output_type": "stream",
     "text": [
      "10\n",
      "4\n",
      "7\n",
      "3\n"
     ]
    }
   ],
   "source": [
    "t = int(input())\n",
    "diff = int(input())\n",
    "\n",
    "print(t - (t - diff) // 2)\n",
    "print((t - diff) // 2)"
   ]
  },
  {
   "cell_type": "code",
   "execution_count": 34,
   "metadata": {},
   "outputs": [
    {
     "data": {
      "text/plain": [
       "b'\\xea\\xb0\\x80'"
      ]
     },
     "execution_count": 34,
     "metadata": {},
     "output_type": "execute_result"
    }
   ],
   "source": [
    "\"가\".encode()"
   ]
  },
  {
   "cell_type": "code",
   "execution_count": 37,
   "metadata": {},
   "outputs": [
    {
     "data": {
      "text/plain": [
       "1"
      ]
     },
     "execution_count": 37,
     "metadata": {},
     "output_type": "execute_result"
    }
   ],
   "source": [
    "ord(\"가\") - 44031"
   ]
  },
  {
   "cell_type": "code",
   "execution_count": 38,
   "metadata": {},
   "outputs": [
    {
     "data": {
      "text/plain": [
       "11172"
      ]
     },
     "execution_count": 38,
     "metadata": {},
     "output_type": "execute_result"
    }
   ],
   "source": [
    "ord(\"힣\") - 44031"
   ]
  },
  {
   "cell_type": "code",
   "execution_count": 39,
   "metadata": {},
   "outputs": [
    {
     "data": {
      "text/plain": [
       "4146"
      ]
     },
     "execution_count": 39,
     "metadata": {},
     "output_type": "execute_result"
    }
   ],
   "source": [
    "ord(\"백\") - 44031"
   ]
  },
  {
   "cell_type": "code",
   "execution_count": 40,
   "metadata": {},
   "outputs": [
    {
     "name": "stdout",
     "output_type": "stream",
     "text": [
      "힣\n",
      "11172\n"
     ]
    }
   ],
   "source": [
    "print(ord(input()) - 44031)"
   ]
  },
  {
   "cell_type": "code",
   "execution_count": 41,
   "metadata": {},
   "outputs": [
    {
     "name": "stdout",
     "output_type": "stream",
     "text": [
      "77 77 7777\n",
      "7931\n"
     ]
    }
   ],
   "source": [
    "print(sum(map(int, input().split())))"
   ]
  },
  {
   "cell_type": "code",
   "execution_count": 50,
   "metadata": {},
   "outputs": [
    {
     "name": "stdout",
     "output_type": "stream",
     "text": [
      "2021\n",
      "02\n",
      "26\n"
     ]
    }
   ],
   "source": [
    "from datetime import datetime\n",
    "\n",
    "now = datetime.now()\n",
    "print(datetime.strftime(now, \"%Y\"))\n",
    "print(datetime.strftime(now, \"%m\"))\n",
    "print(datetime.strftime(now, \"%d\"))"
   ]
  },
  {
   "cell_type": "code",
   "execution_count": 48,
   "metadata": {},
   "outputs": [
    {
     "data": {
      "text/plain": [
       "'02'"
      ]
     },
     "execution_count": 48,
     "metadata": {},
     "output_type": "execute_result"
    }
   ],
   "source": [
    "datetime.strftime(now, \"%m\")"
   ]
  },
  {
   "cell_type": "code",
   "execution_count": 49,
   "metadata": {},
   "outputs": [
    {
     "data": {
      "text/plain": [
       "'26'"
      ]
     },
     "execution_count": 49,
     "metadata": {},
     "output_type": "execute_result"
    }
   ],
   "source": [
    "datetime.strftime(now, \"%d\")"
   ]
  },
  {
   "cell_type": "code",
   "execution_count": null,
   "metadata": {},
   "outputs": [],
   "source": [
    "print('Avengers: Endgame')"
   ]
  },
  {
   "cell_type": "code",
   "execution_count": 51,
   "metadata": {},
   "outputs": [
    {
     "data": {
      "text/plain": [
       "543"
      ]
     },
     "execution_count": 51,
     "metadata": {},
     "output_type": "execute_result"
    }
   ],
   "source": [
    "2541 - 1998"
   ]
  },
  {
   "cell_type": "code",
   "execution_count": 53,
   "metadata": {},
   "outputs": [
    {
     "name": "stdout",
     "output_type": "stream",
     "text": [
      "1000\n",
      "457\n"
     ]
    }
   ],
   "source": [
    "print(int(input()) - 543)"
   ]
  },
  {
   "cell_type": "code",
   "execution_count": 54,
   "metadata": {},
   "outputs": [],
   "source": [
    "n = 10000000"
   ]
  },
  {
   "cell_type": "code",
   "execution_count": 58,
   "metadata": {},
   "outputs": [
    {
     "data": {
      "text/plain": [
       "7800000"
      ]
     },
     "execution_count": 58,
     "metadata": {},
     "output_type": "execute_result"
    }
   ],
   "source": [
    "int(n * (0.78))"
   ]
  },
  {
   "cell_type": "code",
   "execution_count": 59,
   "metadata": {},
   "outputs": [
    {
     "data": {
      "text/plain": [
       "9560000"
      ]
     },
     "execution_count": 59,
     "metadata": {},
     "output_type": "execute_result"
    }
   ],
   "source": [
    "int(n - n * 0.2 * 0.22)"
   ]
  },
  {
   "cell_type": "code",
   "execution_count": 61,
   "metadata": {},
   "outputs": [
    {
     "name": "stdout",
     "output_type": "stream",
     "text": [
      "1000\n",
      "780 956\n"
     ]
    }
   ],
   "source": [
    "n = int(input())\n",
    "print(int(n * (0.78)), int(n - n * 0.2 * 0.22))"
   ]
  },
  {
   "cell_type": "code",
   "execution_count": 62,
   "metadata": {},
   "outputs": [
    {
     "data": {
      "text/plain": [
       "18.72"
      ]
     },
     "execution_count": 62,
     "metadata": {},
     "output_type": "execute_result"
    }
   ],
   "source": [
    "(52 / 25) * 9"
   ]
  },
  {
   "cell_type": "code",
   "execution_count": 65,
   "metadata": {},
   "outputs": [
    {
     "data": {
      "text/plain": [
       "337"
      ]
     },
     "execution_count": 65,
     "metadata": {},
     "output_type": "execute_result"
    }
   ],
   "source": [
    "16 ** 2 + 9 ** 2"
   ]
  },
  {
   "cell_type": "code",
   "execution_count": 72,
   "metadata": {},
   "outputs": [
    {
     "name": "stdout",
     "output_type": "stream",
     "text": [
      "52 9 16\n"
     ]
    }
   ],
   "source": [
    "d, h, w = map(int, input().split())\n",
    "x = (d ** 2 / (h ** 2 + w ** 2)) ** 0.5\n",
    "print(int(x * h), int(x * w))"
   ]
  },
  {
   "cell_type": "code",
   "execution_count": 76,
   "metadata": {},
   "outputs": [
    {
     "name": "stdout",
     "output_type": "stream",
     "text": [
      "52 9 16\n",
      "25 45\n"
     ]
    }
   ],
   "source": [
    "d,h,w=map(int,input().split());x=(d**2/(h**2+w**2))**0.5;print(int(x*h),int(x*w))"
   ]
  },
  {
   "cell_type": "code",
   "execution_count": 75,
   "metadata": {},
   "outputs": [
    {
     "name": "stdout",
     "output_type": "stream",
     "text": [
      "25 45\n"
     ]
    }
   ],
   "source": [
    "print(int(x * h), int(x * w))"
   ]
  },
  {
   "cell_type": "code",
   "execution_count": 81,
   "metadata": {},
   "outputs": [
    {
     "name": "stdout",
     "output_type": "stream",
     "text": [
      "3 1 2\n",
      "1 2 3\n"
     ]
    }
   ],
   "source": [
    "print(' '.join(map(str, sorted(map(int, input().split())))))"
   ]
  },
  {
   "cell_type": "code",
   "execution_count": 84,
   "metadata": {},
   "outputs": [
    {
     "name": "stdout",
     "output_type": "stream",
     "text": [
      "800\n",
      "700\n",
      "900\n",
      "198\n",
      "330\n",
      "848\n"
     ]
    }
   ],
   "source": [
    "b_li = []\n",
    "for _ in range(3):\n",
    "    b_li.append(int(input()))\n",
    "\n",
    "d_li = []\n",
    "for _ in range(2):\n",
    "    d_li.append(int(input()))\n",
    "\n",
    "print(min(b_li) + min(d_li) - 50)"
   ]
  },
  {
   "cell_type": "code",
   "execution_count": 87,
   "metadata": {},
   "outputs": [
    {
     "name": "stdout",
     "output_type": "stream",
     "text": [
      "5\n",
      "1 3 0 7 4\n",
      "0\n"
     ]
    }
   ],
   "source": [
    "n = int(input())\n",
    "li = list(map(int, input().split()))\n",
    "li = [v for v in li if v == n]\n",
    "print(len(li))"
   ]
  },
  {
   "cell_type": "code",
   "execution_count": 93,
   "metadata": {},
   "outputs": [
    {
     "name": "stdout",
     "output_type": "stream",
     "text": [
      "23 50\n",
      "20\n",
      "0 10\n"
     ]
    }
   ],
   "source": [
    "h, m = map(int, input().split())\n",
    "d = int(input())\n",
    "\n",
    "total_m = h * 60 + m + d\n",
    "total_m %= 24 * 60\n",
    "print(total_m // 60, total_m % 60)"
   ]
  },
  {
   "cell_type": "code",
   "execution_count": 90,
   "metadata": {},
   "outputs": [],
   "source": [
    "total_m = h * 60 + m + d"
   ]
  },
  {
   "cell_type": "code",
   "execution_count": 91,
   "metadata": {},
   "outputs": [],
   "source": [
    "total_m = h * 60 + m + d\n",
    "total_m %= 24 * 60\n",
    "print(total_m // 60, total_m % 60)"
   ]
  },
  {
   "cell_type": "code",
   "execution_count": 92,
   "metadata": {},
   "outputs": [
    {
     "name": "stdout",
     "output_type": "stream",
     "text": [
      "14 50\n"
     ]
    }
   ],
   "source": [
    "print(total_m // 60, total_m % 60)"
   ]
  },
  {
   "cell_type": "code",
   "execution_count": 98,
   "metadata": {},
   "outputs": [
    {
     "name": "stdout",
     "output_type": "stream",
     "text": [
      "314\n",
      "11001100\n"
     ]
    }
   ],
   "source": [
    "print(bin(int(input(), 8))[2:])"
   ]
  },
  {
   "cell_type": "code",
   "execution_count": 99,
   "metadata": {},
   "outputs": [
    {
     "name": "stdout",
     "output_type": "stream",
     "text": [
      "3 3 6\n"
     ]
    }
   ],
   "source": [
    "a, b, c = map(int, input().split())"
   ]
  },
  {
   "cell_type": "code",
   "execution_count": 104,
   "metadata": {},
   "outputs": [
    {
     "name": "stdout",
     "output_type": "stream",
     "text": [
      "2 2 2\n",
      "12000\n"
     ]
    }
   ],
   "source": [
    "a, b, c = map(int, input().split())\n",
    "\n",
    "if a == b == c:\n",
    "    print(10000 + a * 1000)\n",
    "elif a == b:\n",
    "    print(1000 + a * 100)\n",
    "elif a == c:\n",
    "    print(1000 + a * 100)\n",
    "elif b == c:\n",
    "    print(1000 + b * 100)\n",
    "else:\n",
    "    print(max(a, b, c) * 100)"
   ]
  },
  {
   "cell_type": "code",
   "execution_count": 105,
   "metadata": {},
   "outputs": [
    {
     "name": "stdout",
     "output_type": "stream",
     "text": [
      "300 4 1000\n"
     ]
    }
   ],
   "source": [
    "k, n, m = map(int, input().split())"
   ]
  },
  {
   "cell_type": "code",
   "execution_count": 107,
   "metadata": {},
   "outputs": [
    {
     "data": {
      "text/plain": [
       "200"
      ]
     },
     "execution_count": 107,
     "metadata": {},
     "output_type": "execute_result"
    }
   ],
   "source": [
    "print(max(k * n - m, 0))"
   ]
  },
  {
   "cell_type": "code",
   "execution_count": null,
   "metadata": {},
   "outputs": [],
   "source": [
    "k, n, m = map(int, input().split())\n",
    "print(max(k * n - m, 0))"
   ]
  },
  {
   "cell_type": "code",
   "execution_count": 110,
   "metadata": {},
   "outputs": [
    {
     "name": "stdout",
     "output_type": "stream",
     "text": [
      "-2 5\n",
      "7\n"
     ]
    }
   ],
   "source": [
    "a, b = map(int, input().split())\n",
    "print(abs(a - b))"
   ]
  },
  {
   "cell_type": "code",
   "execution_count": 113,
   "metadata": {},
   "outputs": [
    {
     "name": "stdout",
     "output_type": "stream",
     "text": [
      "23 59 50\n",
      "100\n",
      "0 1 30\n"
     ]
    }
   ],
   "source": [
    "h, m, s = map(int, input().split())\n",
    "d = int(input())\n",
    "\n",
    "total_s = h * 3600 + m * 60 + s + d\n",
    "total_s %= 24 * 60 * 60\n",
    "new_h = total_s // 3600\n",
    "total_s -= new_h * 3600\n",
    "new_m = total_s // 60\n",
    "new_s = total_s % 60\n",
    "print(new_h , new_m, new_s)"
   ]
  },
  {
   "cell_type": "code",
   "execution_count": null,
   "metadata": {},
   "outputs": [],
   "source": [
    "n = int(input())\n",
    "\n",
    "if n == 0:\n",
    "    print('YONSEI')\n",
    "else:\n",
    "    print('Leading the Way to the Future')"
   ]
  },
  {
   "cell_type": "code",
   "execution_count": 114,
   "metadata": {},
   "outputs": [
    {
     "name": "stdout",
     "output_type": "stream",
     "text": [
      "1 2\n",
      "3 4\n",
      "5\n"
     ]
    }
   ],
   "source": [
    "a, b = map(int, input().split())\n",
    "c, d = map(int, input().split())\n",
    "\n",
    "print(min(a + d, b + c))"
   ]
  },
  {
   "cell_type": "code",
   "execution_count": 115,
   "metadata": {},
   "outputs": [
    {
     "name": "stdout",
     "output_type": "stream",
     "text": [
      "100\n"
     ]
    }
   ],
   "source": [
    "t = int(input())"
   ]
  },
  {
   "cell_type": "code",
   "execution_count": 116,
   "metadata": {},
   "outputs": [],
   "source": [
    "li = [300, 60, 10]"
   ]
  },
  {
   "cell_type": "code",
   "execution_count": 121,
   "metadata": {},
   "outputs": [
    {
     "name": "stdout",
     "output_type": "stream",
     "text": [
      "100\n",
      "0 1 4\n"
     ]
    }
   ],
   "source": [
    "t = int(input())\n",
    "li = [300, 60, 10]\n",
    "\n",
    "counts = []\n",
    "for v in li:\n",
    "    counts.append(t // v)\n",
    "    t %= v\n",
    "    \n",
    "if t != 0:\n",
    "    print(-1)\n",
    "else:\n",
    "    print(\" \".join(map(str, counts)))"
   ]
  },
  {
   "cell_type": "code",
   "execution_count": 124,
   "metadata": {},
   "outputs": [
    {
     "name": "stdout",
     "output_type": "stream",
     "text": [
      "20\n",
      "25\n",
      "30\n",
      "6\n",
      "8\n"
     ]
    }
   ],
   "source": [
    "l, a, b, c, d = int(input()), int(input()), int(input()), int(input()), int(input())"
   ]
  },
  {
   "cell_type": "code",
   "execution_count": 126,
   "metadata": {},
   "outputs": [
    {
     "data": {
      "text/plain": [
       "4"
      ]
     },
     "execution_count": 126,
     "metadata": {},
     "output_type": "execute_result"
    }
   ],
   "source": [
    "import math\n",
    "math.ceil(b / d)"
   ]
  },
  {
   "cell_type": "code",
   "execution_count": 127,
   "metadata": {},
   "outputs": [
    {
     "data": {
      "text/plain": [
       "5"
      ]
     },
     "execution_count": 127,
     "metadata": {},
     "output_type": "execute_result"
    }
   ],
   "source": [
    "math.ceil(a / c)"
   ]
  },
  {
   "cell_type": "code",
   "execution_count": 129,
   "metadata": {},
   "outputs": [
    {
     "name": "stdout",
     "output_type": "stream",
     "text": [
      "20\n",
      "25\n",
      "30\n",
      "6\n",
      "8\n",
      "15\n"
     ]
    }
   ],
   "source": [
    "import math\n",
    "l, a, b, c, d = int(input()), int(input()), int(input()), int(input()), int(input())\n",
    "print(l -  max(math.ceil(b / d), math.ceil(a / c)))"
   ]
  },
  {
   "cell_type": "code",
   "execution_count": 1,
   "metadata": {},
   "outputs": [
    {
     "name": "stdout",
     "output_type": "stream",
     "text": [
      "4\n",
      "1 2 3 4 5 6 7 8 9 1000\n",
      "8\n",
      "338 304 619 95 343 496 489 116 98 127\n",
      "489\n",
      "931 240 986 894 826 640 965 833 136 138\n",
      "931\n",
      "940 955 364 188 133 254 501 122 768 408\n",
      "768\n"
     ]
    }
   ],
   "source": [
    "t = int(input())\n",
    "for _ in range(t):\n",
    "    li = list(map(int, input().split()))\n",
    "    li.sort()\n",
    "    print(li[-3])"
   ]
  },
  {
   "cell_type": "code",
   "execution_count": 28,
   "metadata": {},
   "outputs": [
    {
     "name": "stdout",
     "output_type": "stream",
     "text": [
      "1 6 1\n"
     ]
    }
   ],
   "source": [
    "m, n, k = map(int, input().split())"
   ]
  },
  {
   "cell_type": "code",
   "execution_count": 30,
   "metadata": {},
   "outputs": [
    {
     "name": "stdout",
     "output_type": "stream",
     "text": [
      "6 3 2\n",
      "2\n"
     ]
    }
   ],
   "source": [
    "m, n, k = map(int, input().split())\n",
    "\n",
    "while k > 0:\n",
    "    if 2 * n > m:\n",
    "        n -= 1\n",
    "    else:\n",
    "        m -= 1\n",
    "    k -= 1\n",
    "\n",
    "count = 0\n",
    "while m > 0 and n > 0:\n",
    "    m -= 2\n",
    "    n -= 1\n",
    "    if m >= 0 and n >= 0:\n",
    "        count += 1\n",
    "    \n",
    "print(count)"
   ]
  },
  {
   "cell_type": "code",
   "execution_count": 47,
   "metadata": {},
   "outputs": [
    {
     "name": "stdout",
     "output_type": "stream",
     "text": [
      "11001100\n",
      "314\n"
     ]
    }
   ],
   "source": [
    "print(oct(int(input(), 2))[2:])"
   ]
  },
  {
   "cell_type": "code",
   "execution_count": 59,
   "metadata": {},
   "outputs": [
    {
     "name": "stdout",
     "output_type": "stream",
     "text": [
      "10\n",
      "10\n",
      "10\n",
      "20\n",
      "30\n",
      "40\n",
      "50\n",
      "10\n",
      "10\n",
      "10\n",
      "10\n",
      "10\n",
      "10\n",
      "10\n",
      "20\n",
      "30\n"
     ]
    }
   ],
   "source": [
    "from itertools import combinations\n",
    "\n",
    "li = []\n",
    "for _ in range(9):\n",
    "    li.append(int(input()))\n",
    "\n",
    "for comb in combinations(li, 7):\n",
    "    if sum(comb) == 100:\n",
    "        print(\"\\n\".join(map(str, sorted(comb))))\n",
    "        break"
   ]
  },
  {
   "cell_type": "code",
   "execution_count": 60,
   "metadata": {},
   "outputs": [
    {
     "name": "stdout",
     "output_type": "stream",
     "text": [
      "pulljima\n",
      "8\n"
     ]
    }
   ],
   "source": [
    "print(len(input()))"
   ]
  },
  {
   "cell_type": "code",
   "execution_count": 64,
   "metadata": {},
   "outputs": [
    {
     "name": "stdout",
     "output_type": "stream",
     "text": [
      "ZZZZZ 36\n",
      "60466175\n"
     ]
    }
   ],
   "source": [
    "n, b = input().split()\n",
    "print(int(n, int(b)))"
   ]
  },
  {
   "cell_type": "code",
   "execution_count": 70,
   "metadata": {},
   "outputs": [
    {
     "name": "stdout",
     "output_type": "stream",
     "text": [
      "5\n",
      "10 9 10 9 10\n",
      "7 2\n",
      "13\n"
     ]
    }
   ],
   "source": [
    "import math\n",
    "\n",
    "n = int(input())\n",
    "li = list(map(int, input().split()))\n",
    "b, c = map(int, input().split())\n",
    "\n",
    "total = n\n",
    "li = [v - b for v in li if v - b >= 1]\n",
    "li = [math.ceil(v / c) for v in li]\n",
    "total += sum(li)\n",
    "\n",
    "print(total)"
   ]
  },
  {
   "cell_type": "code",
   "execution_count": 71,
   "metadata": {},
   "outputs": [
    {
     "name": "stdout",
     "output_type": "stream",
     "text": [
      "Konkuk\n"
     ]
    }
   ],
   "source": [
    "s = input()"
   ]
  },
  {
   "cell_type": "code",
   "execution_count": 79,
   "metadata": {},
   "outputs": [],
   "source": [
    "import re\n",
    "common = len(re.findall(\"[A-Z ]\", s))\n",
    "s = s.lower().replace(\" \", \"\")"
   ]
  },
  {
   "cell_type": "code",
   "execution_count": 80,
   "metadata": {},
   "outputs": [],
   "source": [
    "left = \"qwertyasdfgzxcvb\"\n",
    "right = \"uiophjklnm\"\n",
    "\n",
    "lc = rc = 0\n",
    "for v in s:\n",
    "    if v in left:\n",
    "        lc += 1\n",
    "    else:\n",
    "        rc += 1"
   ]
  },
  {
   "cell_type": "code",
   "execution_count": 81,
   "metadata": {},
   "outputs": [
    {
     "data": {
      "text/plain": [
       "(0, 6)"
      ]
     },
     "execution_count": 81,
     "metadata": {},
     "output_type": "execute_result"
    }
   ],
   "source": [
    "lc, rc"
   ]
  },
  {
   "cell_type": "code",
   "execution_count": 82,
   "metadata": {},
   "outputs": [],
   "source": [
    "while common:\n",
    "    if lc > rc:\n",
    "        rc += 1\n",
    "    else:\n",
    "        lc += 1\n",
    "    common -= 1"
   ]
  },
  {
   "cell_type": "code",
   "execution_count": 83,
   "metadata": {},
   "outputs": [
    {
     "name": "stdout",
     "output_type": "stream",
     "text": [
      "1 6\n"
     ]
    }
   ],
   "source": [
    "print(lc, rc)"
   ]
  },
  {
   "cell_type": "code",
   "execution_count": 84,
   "metadata": {},
   "outputs": [
    {
     "name": "stdout",
     "output_type": "stream",
     "text": [
      "Hello World\n",
      "7 6\n"
     ]
    }
   ],
   "source": [
    "import re\n",
    "\n",
    "s = input()\n",
    "common = len(re.findall(\"[A-Z ]\", s))\n",
    "s = s.lower().replace(\" \", \"\")\n",
    "\n",
    "left = \"qwertyasdfgzxcvb\"\n",
    "right = \"uiophjklnm\"\n",
    "\n",
    "lc = rc = 0\n",
    "for v in s:\n",
    "    if v in left:\n",
    "        lc += 1\n",
    "    else:\n",
    "        rc += 1\n",
    "        \n",
    "while common:\n",
    "    if lc > rc:\n",
    "        rc += 1\n",
    "    else:\n",
    "        lc += 1\n",
    "    common -= 1\n",
    "    \n",
    "print(lc, rc)"
   ]
  },
  {
   "cell_type": "code",
   "execution_count": 87,
   "metadata": {},
   "outputs": [
    {
     "name": "stdout",
     "output_type": "stream",
     "text": [
      "3 2\n",
      "1 2\n",
      "3 4\n",
      "5 6\n",
      "2 3\n",
      "-1 -2 0\n",
      "0 0 3\n",
      "-1 -2 6\n",
      "-3 -6 12\n",
      "-5 -10 18\n"
     ]
    }
   ],
   "source": [
    "A_n, A_m = map(int, input().split())\n",
    "A = []\n",
    "for _ in range(A_n):\n",
    "    A.append(list(map(int, input().split())))\n",
    "             \n",
    "B_n, B_m = map(int, input().split())\n",
    "B = []\n",
    "for _ in range(B_n):\n",
    "    B.append(list(map(int, input().split())))\n",
    "             \n",
    "\n",
    "for i in range(A_n):\n",
    "    temp_li = []\n",
    "    for j in range(B_m):\n",
    "        total = 0\n",
    "        for k in range(A_m):\n",
    "             total += A[i][k] * B[k][j]\n",
    "        temp_li.append(total)\n",
    "    print(\" \".join(map(str, temp_li)))"
   ]
  },
  {
   "cell_type": "code",
   "execution_count": 88,
   "metadata": {},
   "outputs": [
    {
     "name": "stdout",
     "output_type": "stream",
     "text": [
      "10\n",
      "3\n",
      "2 4\n",
      "7 8\n",
      "6 9\n"
     ]
    }
   ],
   "source": [
    "from collections import Counter\n",
    "\n",
    "l = int(input())\n",
    "n = int(input())\n",
    "li = [-1] * l\n",
    "\n",
    "max_wanted_count = 0\n",
    "max_wanted_person_num = 0\n",
    "for i in range(1, n + 1):\n",
    "    p, k = map(int, input().split())\n",
    "    if max_wanted_count < k - p + 1:\n",
    "        max_wanted_count = k - p + 1\n",
    "        max_wanted_person_num = i\n",
    "    elif max_wanted_count == k - p + 1:\n",
    "        if i < max_wanted_person_num:\n",
    "            max_wanted_person_num = i\n",
    "        \n",
    "    for j in range(p, k + 1):\n",
    "        if li[j] == -1:\n",
    "            li[j] = i\n",
    "    \n",
    "c = Counter(li)"
   ]
  },
  {
   "cell_type": "code",
   "execution_count": 96,
   "metadata": {},
   "outputs": [],
   "source": [
    "c_li = [(key, value) for key, value in c.items() if key != -1]"
   ]
  },
  {
   "cell_type": "code",
   "execution_count": 99,
   "metadata": {},
   "outputs": [],
   "source": [
    "max_value = max([v[1] for v in c_li])\n",
    "c_li = [(v, w) for v, w in c_li if w == max_value]"
   ]
  },
  {
   "cell_type": "code",
   "execution_count": 101,
   "metadata": {},
   "outputs": [],
   "source": [
    "c_li.sort()"
   ]
  },
  {
   "cell_type": "code",
   "execution_count": 103,
   "metadata": {},
   "outputs": [
    {
     "name": "stdout",
     "output_type": "stream",
     "text": [
      "3\n"
     ]
    }
   ],
   "source": [
    "print(max_wanted_person_num)"
   ]
  },
  {
   "cell_type": "code",
   "execution_count": 102,
   "metadata": {},
   "outputs": [
    {
     "data": {
      "text/plain": [
       "1"
      ]
     },
     "execution_count": 102,
     "metadata": {},
     "output_type": "execute_result"
    }
   ],
   "source": [
    "print(c_li[0][0])"
   ]
  },
  {
   "cell_type": "code",
   "execution_count": 104,
   "metadata": {},
   "outputs": [
    {
     "name": "stdout",
     "output_type": "stream",
     "text": [
      "10\n",
      "3\n",
      "2 4\n",
      "7 8\n",
      "6 9\n",
      "3\n",
      "1\n"
     ]
    }
   ],
   "source": [
    "from collections import Counter\n",
    "\n",
    "l = int(input())\n",
    "n = int(input())\n",
    "li = [-1] * l\n",
    "\n",
    "max_wanted_count = 0\n",
    "max_wanted_person_num = 0\n",
    "for i in range(1, n + 1):\n",
    "    p, k = map(int, input().split())\n",
    "    if max_wanted_count < k - p + 1:\n",
    "        max_wanted_count = k - p + 1\n",
    "        max_wanted_person_num = i\n",
    "    elif max_wanted_count == k - p + 1:\n",
    "        if i < max_wanted_person_num:\n",
    "            max_wanted_person_num = i\n",
    "        \n",
    "    for j in range(p, k + 1):\n",
    "        if li[j - 1] == -1:\n",
    "            li[j - 1] = i\n",
    "    \n",
    "c = Counter(li)\n",
    "c_li = [(key, value) for key, value in c.items() if key != -1]\n",
    "max_value = max([v[1] for v in c_li])\n",
    "c_li = [(v, w) for v, w in c_li if w == max_value]\n",
    "c_li.sort()\n",
    "\n",
    "print(max_wanted_person_num)\n",
    "print(c_li[0][0])"
   ]
  },
  {
   "cell_type": "code",
   "execution_count": 107,
   "metadata": {},
   "outputs": [
    {
     "name": "stdout",
     "output_type": "stream",
     "text": [
      "2\n",
      "I am happy today\n",
      "I ma yppah yadot\n",
      "We want to win the first prize\n",
      "eW tnaw ot niw eht tsrif ezirp\n"
     ]
    }
   ],
   "source": [
    "T = int(input())\n",
    "\n",
    "for _ in range(T):\n",
    "    li = input().split()\n",
    "    new_li = []\n",
    "    for v in li:\n",
    "        new_li.append(v[::-1])\n",
    "    print(\" \".join(new_li))"
   ]
  },
  {
   "cell_type": "code",
   "execution_count": 120,
   "metadata": {},
   "outputs": [],
   "source": [
    "d = {i: v for i, v in enumerate('ABCDEFGHIJKLMNOPQRSTUVWXYZ', 10)}"
   ]
  },
  {
   "cell_type": "code",
   "execution_count": 121,
   "metadata": {},
   "outputs": [
    {
     "data": {
      "text/plain": [
       "{10: 'A',\n",
       " 11: 'B',\n",
       " 12: 'C',\n",
       " 13: 'D',\n",
       " 14: 'E',\n",
       " 15: 'F',\n",
       " 16: 'G',\n",
       " 17: 'H',\n",
       " 18: 'I',\n",
       " 19: 'J',\n",
       " 20: 'K',\n",
       " 21: 'L',\n",
       " 22: 'M',\n",
       " 23: 'N',\n",
       " 24: 'O',\n",
       " 25: 'P',\n",
       " 26: 'Q',\n",
       " 27: 'R',\n",
       " 28: 'S',\n",
       " 29: 'T',\n",
       " 30: 'U',\n",
       " 31: 'V',\n",
       " 32: 'W',\n",
       " 33: 'X',\n",
       " 34: 'Y',\n",
       " 35: 'Z'}"
      ]
     },
     "execution_count": 121,
     "metadata": {},
     "output_type": "execute_result"
    }
   ],
   "source": [
    "d"
   ]
  },
  {
   "cell_type": "code",
   "execution_count": 136,
   "metadata": {},
   "outputs": [
    {
     "name": "stdout",
     "output_type": "stream",
     "text": [
      "60466175 36\n",
      "ZZZZZ\n"
     ]
    }
   ],
   "source": [
    "n, b = map(int, input().split())\n",
    "\n",
    "d = {i: v for i, v in enumerate('ABCDEFGHIJKLMNOPQRSTUVWXYZ', 10)}\n",
    "li = []\n",
    "while n > 0:\n",
    "    remainder = n % b\n",
    "    \n",
    "    if remainder >= 10:\n",
    "        remainder = d[n % b]\n",
    "    else:\n",
    "        remainder = str(remainder)\n",
    "        \n",
    "    li.append(remainder)\n",
    "    n //= b\n",
    "    \n",
    "li.reverse()\n",
    "print(\"\".join(li))"
   ]
  },
  {
   "cell_type": "code",
   "execution_count": 137,
   "metadata": {},
   "outputs": [
    {
     "name": "stdout",
     "output_type": "stream",
     "text": [
      "ab\n",
      "0\n",
      "1\n"
     ]
    }
   ],
   "source": [
    "s = input()\n",
    "s_length = len(s)\n",
    "for i in range(s_length):\n",
    "    print(i)"
   ]
  },
  {
   "cell_type": "code",
   "execution_count": 151,
   "metadata": {},
   "outputs": [
    {
     "name": "stdout",
     "output_type": "stream",
     "text": [
      "15 28 19\n",
      "7980\n"
     ]
    }
   ],
   "source": [
    "e, s, m = map(int, input().split())\n",
    "\n",
    "for i in range(1, 7981):\n",
    "    r1 = 0\n",
    "    if i % 15 == 0:\n",
    "        r1 = 15\n",
    "    else:\n",
    "        r1 = i % 15\n",
    "        \n",
    "    r2 = 0\n",
    "    if i % 28 == 0:\n",
    "        r2 = 28\n",
    "    else:\n",
    "        r2 = i % 28\n",
    "        \n",
    "    r3 = 0\n",
    "    if i % 19 == 0:\n",
    "        r3 = 19\n",
    "    else:\n",
    "        r3 = i % 19\n",
    "        \n",
    "    if r1 == e and r2 == s and r3 == m:\n",
    "        print(i)\n",
    "        break"
   ]
  },
  {
   "cell_type": "code",
   "execution_count": 150,
   "metadata": {},
   "outputs": [
    {
     "data": {
      "text/plain": [
       "0"
      ]
     },
     "execution_count": 150,
     "metadata": {},
     "output_type": "execute_result"
    }
   ],
   "source": [
    "7980 % 19"
   ]
  },
  {
   "cell_type": "code",
   "execution_count": 152,
   "metadata": {},
   "outputs": [
    {
     "name": "stdout",
     "output_type": "stream",
     "text": [
      "3\n",
      "1 45000\n",
      "45000\n",
      "6 10\n",
      "30\n",
      "13 17\n",
      "221\n"
     ]
    }
   ],
   "source": [
    "t = int(input())\n",
    "for _ in range(t):\n",
    "    a, b = map(int, input().split())\n",
    "\n",
    "    r1 = 1\n",
    "    r2 = 1\n",
    "    for i in range(min(a, b), 0, -1):\n",
    "        if a % i == 0 and b % i == 0:\n",
    "            r1 *= i\n",
    "            a //= i\n",
    "            b //= i\n",
    "\n",
    "    r2 = r1 * a * b\n",
    "    print(r2)"
   ]
  },
  {
   "cell_type": "code",
   "execution_count": 1,
   "metadata": {},
   "outputs": [
    {
     "name": "stdout",
     "output_type": "stream",
     "text": [
      "7\n",
      "8\n",
      "10\n",
      "13\n",
      "15\n",
      "19\n",
      "20\n",
      "23\n",
      "25\n"
     ]
    }
   ],
   "source": [
    "li = []\n",
    "for _ in range(9):\n",
    "    li.append(int(input()))"
   ]
  },
  {
   "cell_type": "code",
   "execution_count": 2,
   "metadata": {},
   "outputs": [
    {
     "name": "stdout",
     "output_type": "stream",
     "text": [
      "7\n",
      "8\n",
      "10\n",
      "13\n",
      "19\n",
      "20\n",
      "23\n"
     ]
    }
   ],
   "source": [
    "from itertools import combinations\n",
    "\n",
    "li = []\n",
    "for _ in range(9):\n",
    "    li.append(int(input()))\n",
    "\n",
    "c = combinations(li, 7)\n",
    "for v in c:\n",
    "    if sum(v) == 100:\n",
    "        print('\\n'.join(map(str, v)))\n",
    "        break"
   ]
  },
  {
   "cell_type": "code",
   "execution_count": null,
   "metadata": {},
   "outputs": [],
   "source": [
    "for a in range(3, 101):\n",
    "    cube_a = a ** 3\n",
    "    for b in range(2, a):\n",
    "        cube_b = b ** 3\n",
    "        for c in range(b, a):\n",
    "            cube_c = c ** 3\n",
    "            for d in range(c, a):\n",
    "                cube_d = d ** 3\n",
    "                if cube_a == cube_b + cube_c + cube_d:\n",
    "                    print(f'Cube = {a}, Triple = ({b},{c},{d})')\n",
    "                if cube_b + cube_c + cube_d > cube_a:\n",
    "                    break\n",
    "            if cube_b + cube_c > cube_a:\n",
    "                break\n",
    "        if cube_b > cube_a:\n",
    "            break"
   ]
  },
  {
   "cell_type": "code",
   "execution_count": 28,
   "metadata": {},
   "outputs": [
    {
     "name": "stdout",
     "output_type": "stream",
     "text": [
      "3\n",
      "10 1\n",
      "2\n",
      "20 3\n",
      "4\n",
      "30 4\n",
      "5\n"
     ]
    }
   ],
   "source": [
    "T = int(input())\n",
    "for _ in range(T):\n",
    "    n, m = map(int, input().split())\n",
    "\n",
    "    count = 0\n",
    "    for a in range(1, n):\n",
    "        for b in range(a + 1, n):\n",
    "            if (a * a + b * b + m) % (a * b) == 0:\n",
    "                count += 1\n",
    "    print(count)"
   ]
  },
  {
   "cell_type": "code",
   "execution_count": 7,
   "metadata": {},
   "outputs": [
    {
     "name": "stdout",
     "output_type": "stream",
     "text": [
      "2\n",
      "4\n"
     ]
    }
   ],
   "source": [
    "n = int(input())\n",
    "\n",
    "total = 2\n",
    "for i in range(2, n + 1):\n",
    "    total += i // 2 + 1\n",
    "    \n",
    "print(total)"
   ]
  },
  {
   "cell_type": "code",
   "execution_count": 8,
   "metadata": {},
   "outputs": [],
   "source": [
    "s = '''1000 1001 1002 1003 1008 1009 1010 1011 1012 1013 1018 1026 1032 1037 1065 1074 1085 1094 1100 1110 1145 1149 1152 1157 1158 1181 1182 1197 1236 1237 1259 1260 1271 1296 1302 1316 1325 1330 1389 1406 1427 1436 1463 1485 1495 1541 1543 1546 1568 1620 1629 1647 1654 1662 1668 1676 1697 1699 1706 1712 1713 1715 1735 1747 1759 1764 1766 1769 1774 1789 1874 1904 1912 1915 1919 1920 1922 1924 1927 1929 1932 1939 1966 1969 1978 1987 1991 1992 2096 2108 2110 2156 2164 2166 2167 2178 2193 2206 2224 2231 2292 2309 2407 2417 2438 2439 2440 2441 2446 2467 2475 2476 2480 2484 2523 2525 2553 2557 2558 2562 2577 2579 2581 2588 2606 2609 2630 2655 2667 2671 2675 2739 2741 2742 2747 2748 2750 2751 2753 2775 2789 2798 2805 2812 2839 2869 2884 2902 2908 2920 2941 2992 3000 3009 3046 3052 3053 3107 4153 4195 4344 4358 4386 4673 4779 4806 4948 4949 5052 5086 5363 5397 5430 5525 5543 5585 5622 6588 6603 6996 7287 7490 7568 8393 8958 9012 9020 9037 9095 9177 9184 9251 9342 9375 9461 9498 9997 10039 10171 10172 10250 10282 10430 10474 10491 10539 10699 10718 10757 10773 10797 10798 10808 10809 10814 10816 10817 10818 10828 10845 10866 10869 10870 10871 10872 10930 10950 10951 10952 10953 10989 10996 10998 11004 11021 11022 11047 11050 11051 11053 11055 11279 11286 11399 11404 11650 11651 11653 11654 11659 11660 11718 11719 11720 11721 11723 11724 11726 11729 11866 12015 12738 12852 12865 12871 13163 13410 13411 13412 13413 13414 13417 13424 13549 14002 14003 14501 14502 14564 14620 14650 14651 14681 14717 14721 14888 14889 15486 15552 15596 15633 15649 15650 15652 15654 15657 15658 15663 15666 15701 15829 15969 16165 16198 16411 16675 16769 16928 16953 16956 17219 17224 17269 17389 17413 17478 17608 17609 17925 18111 18119 18258 18406 18511 18766 18870 18883 19597 19844 20124 20291 20310 20361 20492 20493 20494 20499 20502 20528 20529 20540 20546 20548 20551 20920 20937 20943 20944 20946 20949 20953 21193 21194 21197'''"
   ]
  },
  {
   "cell_type": "code",
   "execution_count": 9,
   "metadata": {},
   "outputs": [
    {
     "name": "stdout",
     "output_type": "stream",
     "text": [
      "354\n"
     ]
    }
   ],
   "source": [
    "print(len(s.split(\" \")))"
   ]
  },
  {
   "cell_type": "markdown",
   "metadata": {},
   "source": [
    "### 9진수 14491"
   ]
  },
  {
   "cell_type": "code",
   "execution_count": 16,
   "metadata": {},
   "outputs": [
    {
     "name": "stdout",
     "output_type": "stream",
     "text": [
      "100\n",
      "121\n"
     ]
    }
   ],
   "source": [
    "n = int(input())\n",
    "s = \"\"\n",
    "\n",
    "for i in range(4, 0, -1):\n",
    "    s += str(n // (9 ** i))\n",
    "    n %= (9 ** i)\n",
    "    \n",
    "s += str(n)\n",
    "print(s.lstrip('0'))"
   ]
  },
  {
   "cell_type": "markdown",
   "metadata": {},
   "source": [
    "### 16진수 1550 (다시 풀음)"
   ]
  },
  {
   "cell_type": "code",
   "execution_count": 28,
   "metadata": {},
   "outputs": [
    {
     "name": "stdout",
     "output_type": "stream",
     "text": [
      "1A\n",
      "26\n"
     ]
    }
   ],
   "source": [
    "s = input()\n",
    "s = s[::-1]\n",
    "\n",
    "def get_num(x):\n",
    "    if ord(x) < 60:\n",
    "        return ord(x) - 48\n",
    "    else:\n",
    "        return ord(x) - 55\n",
    "\n",
    "total = 0\n",
    "for i in range(len(s)):\n",
    "    total += get_num(s[i]) * 16 ** i\n",
    "\n",
    "print(total)"
   ]
  },
  {
   "cell_type": "markdown",
   "metadata": {},
   "source": [
    "### 단어 공부 1157 (다시 풀음)"
   ]
  },
  {
   "cell_type": "code",
   "execution_count": 29,
   "metadata": {},
   "outputs": [
    {
     "name": "stdout",
     "output_type": "stream",
     "text": [
      "Mississipi\n"
     ]
    }
   ],
   "source": [
    "s = input()"
   ]
  },
  {
   "cell_type": "code",
   "execution_count": 31,
   "metadata": {},
   "outputs": [],
   "source": [
    "s = s.upper()"
   ]
  },
  {
   "cell_type": "code",
   "execution_count": 39,
   "metadata": {},
   "outputs": [
    {
     "name": "stdout",
     "output_type": "stream",
     "text": [
      "aabb\n",
      "?\n"
     ]
    }
   ],
   "source": [
    "from collections import defaultdict\n",
    "\n",
    "s = input()\n",
    "s = s.upper()\n",
    "\n",
    "d = defaultdict(int)\n",
    "\n",
    "max_count = 0\n",
    "max_count_letter = \"\"\n",
    "for v in s:\n",
    "    d[v] += 1\n",
    "    if d[v] >= max_count:\n",
    "        max_count_letter = v\n",
    "        \n",
    "        if d[v] == max_count:\n",
    "            max_count_letter = \"?\"\n",
    "            \n",
    "        max_count = d[v]\n",
    "            \n",
    "print(max_count_letter)"
   ]
  },
  {
   "cell_type": "code",
   "execution_count": 1,
   "metadata": {},
   "outputs": [
    {
     "name": "stdout",
     "output_type": "stream",
     "text": [
      "50 75 200\n",
      "150\n"
     ]
    }
   ],
   "source": [
    "s, t, d = map(int, input().split())\n",
    "\n",
    "print(d // (s * 2) * t)"
   ]
  },
  {
   "cell_type": "markdown",
   "metadata": {},
   "source": [
    "### KMP는 왜 KMP일까? 2902"
   ]
  },
  {
   "cell_type": "code",
   "execution_count": 3,
   "metadata": {},
   "outputs": [
    {
     "name": "stdout",
     "output_type": "stream",
     "text": [
      "Knuth-Morris-Pratt\n",
      "KMP\n"
     ]
    }
   ],
   "source": [
    "s = input()\n",
    "li = s.split('-')\n",
    "li = [v[0] for v in li]\n",
    "print(''.join(li))"
   ]
  },
  {
   "cell_type": "markdown",
   "metadata": {},
   "source": [
    "### 기타"
   ]
  },
  {
   "cell_type": "code",
   "execution_count": 5,
   "metadata": {},
   "outputs": [
    {
     "name": "stdout",
     "output_type": "stream",
     "text": [
      "3 4\n",
      "-7\n"
     ]
    }
   ],
   "source": [
    "a, b = map(int, input().split())\n",
    "print((a + b) * (a - b))"
   ]
  },
  {
   "cell_type": "code",
   "execution_count": 7,
   "metadata": {},
   "outputs": [
    {
     "name": "stdout",
     "output_type": "stream",
     "text": [
      "5 8\n",
      "3 8\n"
     ]
    }
   ],
   "source": [
    "a, b = map(int, input().split())\n",
    "print(b - a, b)"
   ]
  },
  {
   "cell_type": "code",
   "execution_count": null,
   "metadata": {},
   "outputs": [],
   "source": [
    "sum_value, diff_value = map(int, input().split())"
   ]
  },
  {
   "cell_type": "code",
   "execution_count": 17,
   "metadata": {},
   "outputs": [
    {
     "name": "stdout",
     "output_type": "stream",
     "text": [
      "1 5\n",
      "-1\n"
     ]
    }
   ],
   "source": [
    "sum_value, diff_value = map(int, input().split())\n",
    "\n",
    "a = (sum_value + diff_value) / 2\n",
    "b = sum_value - a\n",
    "\n",
    "if a != int(a) or b != int(b) or a < 0 or b < 0:\n",
    "    print(-1)\n",
    "elif a > b:\n",
    "    print(int(a), int(b))\n",
    "else:\n",
    "    print(int(b), int(a))"
   ]
  },
  {
   "cell_type": "code",
   "execution_count": 20,
   "metadata": {},
   "outputs": [
    {
     "name": "stdout",
     "output_type": "stream",
     "text": [
      "9 0 0 18 0 0\n",
      "9 0 0\n",
      "9 0 1 18 0 0\n",
      "8 59 59\n",
      "12 14 52 12 15 30\n",
      "0 0 38\n"
     ]
    }
   ],
   "source": [
    "for _ in range(3):\n",
    "    sh, sm, ss, eh, em, es = map(int, input().split())\n",
    "    \n",
    "    s = sh * 3600 + sm * 60 + ss\n",
    "    e = eh * 3600 + em * 60 + es\n",
    "    \n",
    "    t = e - s\n",
    "    \n",
    "    h = t // 3600\n",
    "    t %= 3600\n",
    "    \n",
    "    m = t // 60\n",
    "    t %= 60\n",
    "    \n",
    "    print(h, m, t)"
   ]
  },
  {
   "cell_type": "code",
   "execution_count": 30,
   "metadata": {},
   "outputs": [
    {
     "name": "stdout",
     "output_type": "stream",
     "text": [
      "1 3 2 4\n",
      "0\n"
     ]
    }
   ],
   "source": [
    "a, b, c, d = list(map(int, input().split()))\n",
    "print(abs(a + d - b - c))"
   ]
  },
  {
   "cell_type": "code",
   "execution_count": 34,
   "metadata": {},
   "outputs": [
    {
     "name": "stdout",
     "output_type": "stream",
     "text": [
      "3 3\n",
      "4\n"
     ]
    }
   ],
   "source": [
    "a, b = map(int, input().split())\n",
    "print((a * b) // 2)"
   ]
  },
  {
   "cell_type": "code",
   "execution_count": 35,
   "metadata": {},
   "outputs": [
    {
     "name": "stdout",
     "output_type": "stream",
     "text": [
      "32 16 8\n",
      "64\n"
     ]
    }
   ],
   "source": [
    "a, b, c = map(int, input().split())\n",
    "print(int(max(a * b / c, a / b * c)))"
   ]
  },
  {
   "cell_type": "code",
   "execution_count": 36,
   "metadata": {
    "scrolled": true
   },
   "outputs": [
    {
     "name": "stdout",
     "output_type": "stream",
     "text": [
      "13\n",
      "8\n",
      "76.265472\n"
     ]
    }
   ],
   "source": [
    "pi = 3.141592\n",
    "d1 = int(input())\n",
    "d2 = int(input())\n",
    "print(2 * d2 * pi + 2 * d1)"
   ]
  },
  {
   "cell_type": "code",
   "execution_count": 48,
   "metadata": {},
   "outputs": [
    {
     "name": "stdout",
     "output_type": "stream",
     "text": [
      "1000\n",
      "2\n"
     ]
    }
   ],
   "source": [
    "cy = [1, 2, 3, 4, 5, 4, 3, 2]\n",
    "n = int(input()) - 1\n",
    "\n",
    "print(cy[n % 8])"
   ]
  },
  {
   "cell_type": "code",
   "execution_count": null,
   "metadata": {},
   "outputs": [],
   "source": [
    "5\n",
    "5 7\n",
    "5 7 10\n",
    "5 7 10 14"
   ]
  },
  {
   "cell_type": "code",
   "execution_count": null,
   "metadata": {},
   "outputs": [],
   "source": [
    "bn = bn-1 + 1\n",
    "\n",
    "an = an-1 + bn-1"
   ]
  },
  {
   "cell_type": "code",
   "execution_count": 49,
   "metadata": {},
   "outputs": [
    {
     "name": "stdout",
     "output_type": "stream",
     "text": [
      "12\n",
      "77\n",
      "38\n",
      "41\n",
      "53\n",
      "92\n",
      "85\n",
      "256\n",
      "41\n"
     ]
    }
   ],
   "source": [
    "li = [int(input()) for _ in range(7)]\n",
    "li = [v for v in li if v % 2 == 1]\n",
    "if not li:\n",
    "    print(-1)\n",
    "else:\n",
    "    li.sort()\n",
    "    print(sum(li))\n",
    "    print(li[0])"
   ]
  },
  {
   "cell_type": "code",
   "execution_count": 52,
   "metadata": {},
   "outputs": [
    {
     "name": "stdout",
     "output_type": "stream",
     "text": [
      "70 100 70\n",
      "170\n"
     ]
    }
   ],
   "source": [
    "li = list(map(int, input().split()))\n",
    "li.sort()\n",
    "print(sum(li[1:]))"
   ]
  },
  {
   "cell_type": "code",
   "execution_count": 53,
   "metadata": {},
   "outputs": [
    {
     "name": "stdout",
     "output_type": "stream",
     "text": [
      "0 0 0 23 3 100\n",
      "630\n"
     ]
    }
   ],
   "source": [
    "li = list(map(int, input().split()))\n",
    "print(sum(li) * 5)"
   ]
  },
  {
   "cell_type": "code",
   "execution_count": 55,
   "metadata": {},
   "outputs": [
    {
     "name": "stdout",
     "output_type": "stream",
     "text": [
      "1 10 100 1000\n",
      "7696\n"
     ]
    }
   ],
   "source": [
    "a, b, c, d = map(int, input().split())\n",
    "print(56 * a + 24 * b + 14 * c + 6 * d)"
   ]
  },
  {
   "cell_type": "code",
   "execution_count": 59,
   "metadata": {},
   "outputs": [
    {
     "name": "stdout",
     "output_type": "stream",
     "text": [
      "15 18 11\n",
      "24\n"
     ]
    }
   ],
   "source": [
    "n1, n2, n3 = map(int, input().split())\n",
    "print(int((n1 + 1) * (n2 + 1) / (n3 + 1) - 1))"
   ]
  },
  {
   "cell_type": "code",
   "execution_count": 62,
   "metadata": {},
   "outputs": [
    {
     "name": "stdout",
     "output_type": "stream",
     "text": [
      "5\n",
      "20\n"
     ]
    }
   ],
   "source": [
    "n = int(input())\n",
    "print(n * (n - 1))"
   ]
  },
  {
   "cell_type": "code",
   "execution_count": 6,
   "metadata": {},
   "outputs": [
    {
     "name": "stdout",
     "output_type": "stream",
     "text": [
      "One is 1\n",
      "Bar vf 1\n"
     ]
    }
   ],
   "source": [
    "uppers = 'ABCDEFGHIJKLMNOPQRSTUVWXYZ'\n",
    "lowers = uppers.lower()\n",
    "li = list(input())\n",
    "\n",
    "for i in range(len(li)):\n",
    "    if li[i].islower():\n",
    "        li[i] = lowers[(lowers.index(li[i]) + 13) % 26]\n",
    "    elif li[i].isupper():\n",
    "        li[i] = uppers[(uppers.index(li[i]) + 13) % 26]\n",
    "        \n",
    "print(''.join(li))"
   ]
  },
  {
   "cell_type": "code",
   "execution_count": 3,
   "metadata": {},
   "outputs": [
    {
     "name": "stdout",
     "output_type": "stream",
     "text": [
      "3 5\n",
      "2\n",
      "1\n",
      "3\n",
      "2\n",
      "2\n",
      "3\n",
      "3\n",
      "4\n",
      "3\n",
      "0\n",
      "1\n",
      "1\n",
      "1\n"
     ]
    }
   ],
   "source": [
    "import sys\n",
    "input = lambda: sys.stdin.readline().rstrip()\n",
    "\n",
    "n, q = list(map(int, input().split()))\n",
    "li = []\n",
    "for i in range(1, n + 1):\n",
    "    t = int(input())\n",
    "    li.extend([i] * t)\n",
    "    \n",
    "for _ in range(q):\n",
    "    qu = int(input())\n",
    "    \n",
    "    print(li[qu])"
   ]
  },
  {
   "cell_type": "code",
   "execution_count": 8,
   "metadata": {},
   "outputs": [
    {
     "name": "stdout",
     "output_type": "stream",
     "text": [
      "6\n",
      "AAGTCG\n",
      "A\n"
     ]
    }
   ],
   "source": [
    "li = ['AAA', 'AGC', 'ACA', 'ATG', 'GAC', 'GGG', 'GCT', 'GTA', 'CAA', 'CGT', 'CCC', 'CTG', 'TAG', 'TGA', 'TCG', 'TTT']\n",
    "d = dict()\n",
    "for v in li:\n",
    "    d[(v[0], v[1])] = v[2]\n",
    "    \n",
    "n = int(input())\n",
    "li = list(input())\n",
    "\n",
    "while len(li) >= 2:\n",
    "    a = li.pop()\n",
    "    b = li.pop()\n",
    "    \n",
    "    li.append(d[(b, a)])\n",
    "    \n",
    "print(li[0])"
   ]
  },
  {
   "cell_type": "code",
   "execution_count": 10,
   "metadata": {},
   "outputs": [
    {
     "name": "stdout",
     "output_type": "stream",
     "text": [
      "4 5 0 5 1 5 2 5 101\n",
      "489\n"
     ]
    }
   ],
   "source": [
    "while True:\n",
    "    li = list(map(int, input().split()))\n",
    "    if len(li) == 1:\n",
    "        break\n",
    "        \n",
    "    n = li.pop(0)\n",
    "\n",
    "    total = 1\n",
    "    for i in range(0, 2 * n, 2):\n",
    "        total *= li[i]\n",
    "        total -= li[i + 1]\n",
    "\n",
    "    print(total)"
   ]
  },
  {
   "cell_type": "code",
   "execution_count": 15,
   "metadata": {},
   "outputs": [
    {
     "name": "stdout",
     "output_type": "stream",
     "text": [
      "4\n",
      "1\n",
      "YES\n",
      "6\n",
      "YES\n",
      "76\n",
      "YES\n",
      "89\n",
      "NO\n"
     ]
    }
   ],
   "source": [
    "for _ in range(int(input())):\n",
    "    n = int(input())\n",
    "    nn = n ** 2\n",
    "    \n",
    "    sn = str(n)\n",
    "    snn = str(nn)\n",
    "    if str(nn)[-len(sn):] == sn:\n",
    "        print('YES')\n",
    "    else:\n",
    "        print('NO')"
   ]
  },
  {
   "cell_type": "code",
   "execution_count": 16,
   "metadata": {},
   "outputs": [
    {
     "name": "stdout",
     "output_type": "stream",
     "text": [
      "673\n",
      "7\n"
     ]
    }
   ],
   "source": [
    "while True:\n",
    "    n = int(input())\n",
    "    if n == 0:\n",
    "        break\n",
    "\n",
    "    while True:\n",
    "        sn = str(n)\n",
    "        if len(sn) == 1:\n",
    "            break\n",
    "\n",
    "        total = 0\n",
    "        for v in sn:\n",
    "            total += int(v)\n",
    "\n",
    "        n = total\n",
    "\n",
    "    print(n)"
   ]
  },
  {
   "cell_type": "code",
   "execution_count": 18,
   "metadata": {},
   "outputs": [
    {
     "name": "stdout",
     "output_type": "stream",
     "text": [
      "J 16 34\n",
      "J Junior\n"
     ]
    }
   ],
   "source": [
    "while True:\n",
    "    s, age, w = input().split()\n",
    "    age = int(age)\n",
    "    w = int(w)\n",
    "    \n",
    "    if age == 0:\n",
    "        break\n",
    "\n",
    "    cl = ''\n",
    "    if age > 17 or w >= 80:\n",
    "        cl = 'Senior'\n",
    "    else:\n",
    "        cl = 'Junior'\n",
    "\n",
    "    print(s, cl)"
   ]
  },
  {
   "cell_type": "code",
   "execution_count": 21,
   "metadata": {},
   "outputs": [
    {
     "name": "stdout",
     "output_type": "stream",
     "text": [
      "34\n"
     ]
    },
    {
     "data": {
      "text/plain": [
       "3"
      ]
     },
     "execution_count": 21,
     "metadata": {},
     "output_type": "execute_result"
    }
   ],
   "source": [
    "n = int(input())\n",
    "s = ''\n",
    "for i in range(1, n + 1):\n",
    "    s += str(i)\n",
    "    \n",
    "print(s.index(str(n)) + 1)"
   ]
  },
  {
   "cell_type": "code",
   "execution_count": 23,
   "metadata": {},
   "outputs": [
    {
     "name": "stdout",
     "output_type": "stream",
     "text": [
      "4\n",
      "2\n",
      "*\n",
      "3\n",
      "+\n",
      "1\n",
      "*\n",
      "4\n",
      "10\n"
     ]
    }
   ],
   "source": [
    "n = int(input())\n",
    "s = ''\n",
    "for _ in range(2 * n - 1):\n",
    "    s += input()\n",
    "    \n",
    "s = s.replace('/', '//')\n",
    "\n",
    "print(eval(s))"
   ]
  },
  {
   "cell_type": "code",
   "execution_count": 29,
   "metadata": {},
   "outputs": [
    {
     "name": "stdout",
     "output_type": "stream",
     "text": [
      "1\n",
      "3.5 g\n",
      "13.2489 l\n"
     ]
    }
   ],
   "source": [
    "import sys\n",
    "input = lambda: sys.stdin.readline().rstrip()\n",
    "\n",
    "for _ in range(int(input())):\n",
    "    v, degree = input().split()\n",
    "    v = float(v)\n",
    "    \n",
    "    nv = 0\n",
    "    ng = ''\n",
    "    if degree == 'kg':\n",
    "        if v > 0:\n",
    "            nv = v * 2.2046\n",
    "        ng = 'lb'\n",
    "    elif degree == 'lb':\n",
    "        if v > 0:\n",
    "            nv = v * 0.4536\n",
    "        ng = 'kg'\n",
    "    elif degree == 'l':\n",
    "        if v > 0:\n",
    "            nv = v * 0.2642\n",
    "        ng = 'g'\n",
    "    else:\n",
    "        if v > 0:\n",
    "            nv = v * 3.7854\n",
    "        ng = 'l'\n",
    "\n",
    "    print('{:.4f}'.format(nv), ng)"
   ]
  },
  {
   "cell_type": "code",
   "execution_count": 31,
   "metadata": {},
   "outputs": [
    {
     "name": "stdout",
     "output_type": "stream",
     "text": [
      "5\n",
      "011111000000111111000000111111\n",
      "3\n"
     ]
    }
   ],
   "source": [
    "alphas = 'ABCDEFGH'\n",
    "nums = ['000000', '001111', '010011', '011100', '100110', '101001', '110101', '111010']\n",
    "\n",
    "def get_dist(a, b):\n",
    "    dist = 0\n",
    "    for i in range(6):\n",
    "        if a[i] != b[i]:\n",
    "            dist += 1\n",
    "    return dist\n",
    "\n",
    "n = int(input())\n",
    "s = input()\n",
    "result = ''\n",
    "for i in range(0, n * 6, 6):\n",
    "    value = s[i:i + 6]\n",
    "\n",
    "    md = float('inf') # min dist   \n",
    "    mdi = 0 # min dist index\n",
    "    for j in range(8):\n",
    "        d = get_dist(value, nums[j])\n",
    "        if d < md:\n",
    "            md = d\n",
    "            mdi = j\n",
    "            \n",
    "    if md <= 1:\n",
    "        result += alphas[mdi]\n",
    "    else:\n",
    "        print(i // 6 + 1)\n",
    "        break\n",
    "else:\n",
    "    print(result)"
   ]
  },
  {
   "cell_type": "code",
   "execution_count": 32,
   "metadata": {},
   "outputs": [
    {
     "name": "stdout",
     "output_type": "stream",
     "text": [
      "3\n",
      "Mollaristan\n",
      "Case #1: Mollaristan is ruled by a king\n",
      "Auritania\n",
      "Case #2: Auritania is ruled by a queen\n",
      "Zizily\t\n",
      "Case #3: Zizily\t is ruled by a king\n"
     ]
    }
   ],
   "source": [
    "import sys\n",
    "input = lambda: sys.stdin.readline().rstrip()\n",
    "\n",
    "vowels = {'a', 'e', 'i', 'o', 'u'}\n",
    "for t in range(int(input())):\n",
    "    s = input()\n",
    "    \n",
    "    status = ''\n",
    "    if s[-1] == 'y':\n",
    "        status = 'nobody'\n",
    "    elif s[-1] in vowels:\n",
    "        status = 'a queen'\n",
    "    else:\n",
    "        status = 'a king'\n",
    "        \n",
    "    print(f'Case #{t + 1}: {s} is ruled by {status}.')"
   ]
  },
  {
   "cell_type": "code",
   "execution_count": null,
   "metadata": {},
   "outputs": [],
   "source": [
    "import sys\n",
    "input = lambda: sys.stdin.readline().rstrip()\n",
    "\n",
    "vowels = {'a', 'e', 'i', 'o', 'u'}\n",
    "for t in range(int(input())):\n",
    "    s = input()\n",
    "    \n",
    "    status = ''\n",
    "    to_check = s[-1].lower()\n",
    "    if to_check == 'y':\n",
    "        status = 'nobody'\n",
    "    elif to_check in vowels:\n",
    "        status = 'a queen'\n",
    "    else:\n",
    "        status = 'a king'\n",
    "        \n",
    "    print(f'Case #{t + 1}: {s} is ruled by {status}.')"
   ]
  }
 ],
 "metadata": {
  "kernelspec": {
   "display_name": "Python 3",
   "language": "python",
   "name": "python3"
  },
  "language_info": {
   "codemirror_mode": {
    "name": "ipython",
    "version": 3
   },
   "file_extension": ".py",
   "mimetype": "text/x-python",
   "name": "python",
   "nbconvert_exporter": "python",
   "pygments_lexer": "ipython3",
   "version": "3.7.3"
  }
 },
 "nbformat": 4,
 "nbformat_minor": 4
}
