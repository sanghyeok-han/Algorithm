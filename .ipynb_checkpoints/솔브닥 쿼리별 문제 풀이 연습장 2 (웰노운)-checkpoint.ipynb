{
 "cells": [
  {
   "cell_type": "markdown",
   "metadata": {},
   "source": [
    "tier:s5.. solved:300.. -solved_by:hsh8086 \n",
    "\n",
    "#### 레벨 순 정렬"
   ]
  },
  {
   "cell_type": "markdown",
   "metadata": {},
   "source": [
    "### 평행사변형 1064"
   ]
  },
  {
   "cell_type": "code",
   "execution_count": 21,
   "metadata": {},
   "outputs": [
    {
     "name": "stdout",
     "output_type": "stream",
     "text": [
      "1 1 1 0 0 0\n",
      "0.8284271247461898\n"
     ]
    }
   ],
   "source": [
    "li = list(map(int, input().split()))\n",
    "\n",
    "xs = []\n",
    "ys = []\n",
    "for i in range(0, 6, 2):\n",
    "    xs.append(li[i])\n",
    "    ys.append(li[i + 1])\n",
    "\n",
    "get_a = lambda x1, y1, x2, y2: (y2 - y1) / (x2 - x1)\n",
    "    \n",
    "if len(set(xs)) == 1 or len(set(ys)) == 1:\n",
    "    print(-1)\n",
    "elif len(set(xs)) != 2 and (get_a(xs[0], ys[0], xs[1], ys[1]) == get_a(xs[1], ys[1], xs[2], ys[2])):\n",
    "    print(-1)\n",
    "else:\n",
    "    get_dist = lambda x1, y1, x2, y2: ((x1 - x2) ** 2 + (y1 - y2) ** 2) ** 0.5\n",
    "    dists = []\n",
    "    for i in range(3):\n",
    "        dists.append(get_dist(xs[i - 1], ys[i - 1], xs[i], ys[i]))\n",
    "        \n",
    "    cands = []\n",
    "    for i in range(3):\n",
    "        cands.append((dists[i - 1] + dists[i]) * 2)     \n",
    "    cands.sort()\n",
    "    \n",
    "    print(cands[2] - cands[0])"
   ]
  },
  {
   "cell_type": "markdown",
   "metadata": {},
   "source": [
    "### 거듭제곱 1740"
   ]
  },
  {
   "cell_type": "code",
   "execution_count": 67,
   "metadata": {},
   "outputs": [
    {
     "name": "stdout",
     "output_type": "stream",
     "text": [
      "23\n",
      "94\n"
     ]
    }
   ],
   "source": [
    "n = int(input())\n",
    "\n",
    "dp_seq = [1, 2, 4, 8]\n",
    "dp_num = [1, 3, 9, 27]\n",
    "\n",
    "while dp_seq[-1] < n:\n",
    "    dp_seq.append(dp_seq[-1] * 2)    \n",
    "    dp_num.append(dp_num[-1] * 3)\n",
    "    \n",
    "result = 0\n",
    "for i in range(len(dp_seq) - 1, -1, -1):\n",
    "    if n >= dp_seq[i]:\n",
    "        n -= dp_seq[i]\n",
    "        result += dp_num[i]\n",
    "        \n",
    "print(result)"
   ]
  },
  {
   "cell_type": "markdown",
   "metadata": {},
   "source": [
    "### 도비의 난독증 테스트 2204"
   ]
  },
  {
   "cell_type": "code",
   "execution_count": 71,
   "metadata": {},
   "outputs": [
    {
     "name": "stdout",
     "output_type": "stream",
     "text": [
      "3\n",
      "Cat\n",
      "fat\n",
      "bAt\n",
      "bAt\n",
      "0\n"
     ]
    }
   ],
   "source": [
    "import sys\n",
    "# input = lambda: sys.stdin.readline().rstrip()\n",
    "\n",
    "while True:\n",
    "    n = int(input())\n",
    "    if n == 0:\n",
    "        break\n",
    "        \n",
    "    li = []\n",
    "    for _ in range(n):\n",
    "        value = input()\n",
    "        li.append((value.lower(), value))\n",
    "    \n",
    "    li.sort(key=lambda x: x[0])\n",
    "    \n",
    "    print(li[0][1])"
   ]
  },
  {
   "cell_type": "markdown",
   "metadata": {},
   "source": [
    "### 콘도 선정 2246"
   ]
  },
  {
   "cell_type": "code",
   "execution_count": 79,
   "metadata": {},
   "outputs": [
    {
     "name": "stdout",
     "output_type": "stream",
     "text": [
      "2\n"
     ]
    }
   ],
   "source": [
    "import sys\n",
    "# input = lambda: sys.stdin.readline().rstrip()\n",
    "\n",
    "n = int(input())\n",
    "li = [list(map(int, input().split())) for _ in range(n)]\n",
    "\n",
    "li.sort()\n",
    "count = 0\n",
    "min_cost = float('inf')\n",
    "for v in li:\n",
    "    if min_cost > v[1]:\n",
    "        count += 1\n",
    "        min_cost = v[1]\n",
    "            \n",
    "print(count)"
   ]
  },
  {
   "cell_type": "markdown",
   "metadata": {},
   "source": [
    "### 사탕 1812"
   ]
  },
  {
   "cell_type": "code",
   "execution_count": 6,
   "metadata": {},
   "outputs": [
    {
     "name": "stdout",
     "output_type": "stream",
     "text": [
      "3\n",
      "5\n",
      "7\n",
      "6\n",
      "2\n",
      "3\n",
      "4\n"
     ]
    }
   ],
   "source": [
    "n = int(input())\n",
    "\n",
    "li = [int(input()) for _ in range(n)]\n",
    "\n",
    "value = sum(li) - li[-1] * 2 # 2번째 학생의 사탕 수\n",
    "value //= 2\n",
    "for i in range(2, n - 1, 2):\n",
    "    value -= li[i]\n",
    "\n",
    "result = [li[0] - value, value, li[1] - value]\n",
    "for i in range(3, n):\n",
    "    result.append(li[i - 1] - result[-1])\n",
    "    \n",
    "print('\\n'.join(map(str, result)))"
   ]
  },
  {
   "cell_type": "markdown",
   "metadata": {},
   "source": [
    "### 평행선 2358"
   ]
  },
  {
   "cell_type": "code",
   "execution_count": 11,
   "metadata": {},
   "outputs": [
    {
     "name": "stdout",
     "output_type": "stream",
     "text": [
      "4\n",
      "1 0\n",
      "3 0\n",
      "5 0\n",
      "5 1\n",
      "2\n"
     ]
    }
   ],
   "source": [
    "from collections import Counter\n",
    "import sys\n",
    "input = lambda: sys.stdin.readline().rstrip()\n",
    "\n",
    "n = int(input())\n",
    "\n",
    "xs = []\n",
    "ys = []\n",
    "for _ in range(n):\n",
    "    v = list(map(int, input().split()))\n",
    "    xs.append(v[0])\n",
    "    ys.append(v[1])\n",
    "    \n",
    "cx = Counter(xs)\n",
    "cy = Counter(ys)\n",
    "\n",
    "result = 0\n",
    "for count in cx.values():\n",
    "    if count >= 2:\n",
    "        result += 1\n",
    "for count in cy.values():\n",
    "    if count >= 2:\n",
    "        result += 1\n",
    "        \n",
    "print(result)"
   ]
  },
  {
   "cell_type": "markdown",
   "metadata": {},
   "source": [
    "### 한윤정이 이탈리아에 가서 아이스크림을 사먹는데 2422"
   ]
  },
  {
   "cell_type": "code",
   "execution_count": 5,
   "metadata": {},
   "outputs": [
    {
     "name": "stdout",
     "output_type": "stream",
     "text": [
      "5 3\n",
      "1 2\n",
      "3 4\n",
      "1 3\n",
      "3\n"
     ]
    }
   ],
   "source": [
    "import sys\n",
    "# input = lambda: sys.stdin.readline().rstrip()\n",
    "\n",
    "n, m = map(int, input().split())\n",
    "\n",
    "st = set()\n",
    "for _ in range(m):\n",
    "    a, b = map(int, input().split())\n",
    "        \n",
    "    st.add((a, b))\n",
    "    \n",
    "count = 0\n",
    "for i in range(1, n + 1):\n",
    "    for j in range(i + 1, n + 1):\n",
    "        if (i, j) in st:\n",
    "            continue\n",
    "        for k in range(j + 1, n + 1):\n",
    "            if (i, k) in st:\n",
    "                continue\n",
    "            if (j, k) in st:\n",
    "                continue\n",
    "            count += 1\n",
    "            \n",
    "print(count)"
   ]
  },
  {
   "cell_type": "markdown",
   "metadata": {},
   "source": [
    "### 기상청 인턴 신현수 2435"
   ]
  },
  {
   "cell_type": "code",
   "execution_count": 15,
   "metadata": {},
   "outputs": [
    {
     "name": "stdout",
     "output_type": "stream",
     "text": [
      "10 5\n",
      "3 -2 -4 -9 0 3 7 13 8 -3\n",
      "31\n"
     ]
    }
   ],
   "source": [
    "n, k = map(int, input().split())\n",
    "li = list(map(int, input().split()))\n",
    "\n",
    "nli = []\n",
    "for i in range(n - k + 1):\n",
    "    nli.append(sum(li[i:i + k]))\n",
    "    \n",
    "print(max(nli))"
   ]
  },
  {
   "cell_type": "markdown",
   "metadata": {},
   "source": [
    "### 참외밭 2477"
   ]
  },
  {
   "cell_type": "code",
   "execution_count": null,
   "metadata": {},
   "outputs": [],
   "source": [
    "# 방향이 잘못되었음\n",
    "li = [[0] * 21 for _ in range(21)]\n",
    "x, y = 10, 10\n",
    "li[x][y] = 1\n",
    "\n",
    "# 동, 서, 남, 북\n",
    "dx = [0, 0, 1, -1]\n",
    "dy = [1, -1, 0, 0]\n",
    "\n",
    "k = int(input())\n",
    "f_d = -1\n",
    "for _ in range(6):\n",
    "    d, v = map(int, input().split())\n",
    "    d -= 1\n",
    "    \n",
    "    if f_d == d:\n",
    "        \n",
    "    nx, ny = x + dx[d] * v, y + dy[d] * v\n",
    "    \n",
    "    if x <= nx:\n",
    "        cond_x = (x, nx + 1)\n",
    "    else:\n",
    "        cond_x = (x, nx - 1, -1)\n",
    "        \n",
    "    if y <= ny:\n",
    "        cond_y = (y, ny + 1)\n",
    "    else:\n",
    "        cond_y = (y, ny - 1, -1)\n",
    "        \n",
    "    print(cond_x, cond_y)\n",
    "        \n",
    "    for i in range(*cond_x):\n",
    "        for j in range(*cond_y):\n",
    "            print(i, j)\n",
    "            li[i][j] = 1\n",
    "    x, y = nx, ny\n",
    "    \n",
    "    print(1)\n",
    "    for v in li:\n",
    "        print(v)\n",
    "    \n",
    "for i in range(1, 21):\n",
    "    for j in range(1, 21):\n",
    "        if li[i - 1][j] and li[i][j - 1]:\n",
    "            li[i][j] = 1\n",
    "\n",
    "count = 0\n",
    "for i in range(1, 21):\n",
    "    for j in range(1, 21):\n",
    "        count += li[i][j]\n",
    "        \n",
    "print(count * k)"
   ]
  }
 ],
 "metadata": {
  "kernelspec": {
   "display_name": "Python 3",
   "language": "python",
   "name": "python3"
  },
  "language_info": {
   "codemirror_mode": {
    "name": "ipython",
    "version": 3
   },
   "file_extension": ".py",
   "mimetype": "text/x-python",
   "name": "python",
   "nbconvert_exporter": "python",
   "pygments_lexer": "ipython3",
   "version": "3.7.3"
  }
 },
 "nbformat": 4,
 "nbformat_minor": 4
}
