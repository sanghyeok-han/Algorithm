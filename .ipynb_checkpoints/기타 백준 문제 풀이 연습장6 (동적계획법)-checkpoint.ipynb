{
 "cells": [
  {
   "cell_type": "markdown",
   "metadata": {},
   "source": [
    "### 역습 3976\n",
    "- 다이나믹 프로그래밍, 그리디"
   ]
  },
  {
   "cell_type": "code",
   "execution_count": 49,
   "metadata": {},
   "outputs": [
    {
     "name": "stdout",
     "output_type": "stream",
     "text": [
      "5 3 5 7 999\n",
      "9 13 8 4\n",
      "60 5 17 13\n",
      "22 6 15 11\n",
      "5 5 18 29\n"
     ]
    }
   ],
   "source": [
    "n, l1, l2, s1, s2 = map(int, input().split())\n",
    "s1_p = list(map(int, input().split()))\n",
    "s1_d = list(map(int, input().split()))\n",
    "s2_p = list(map(int, input().split()))\n",
    "s2_d = list(map(int, input().split()))"
   ]
  },
  {
   "cell_type": "code",
   "execution_count": 52,
   "metadata": {},
   "outputs": [
    {
     "name": "stdout",
     "output_type": "stream",
     "text": [
      "42\n"
     ]
    }
   ],
   "source": [
    "# 맞았음\n",
    "## dp를 이중리스트로 하지 않고 dp[0], dp[1]로만 하였을 때 dp[0]를 갱신시켜준 다음\n",
    "## dp[1]을 갱신시켜줄 때 이전 dp[0]가 아닌 갱신된 dp[0]를 사용하게 되는 문제를 파악하지 못하여 시간이 더 걸렸음\n",
    "T = int(input())\n",
    "\n",
    "for _ in range(T):\n",
    "    n, l1, l2, s1, s2 = map(int, input().split())\n",
    "    s1_p = list(map(int, input().split()))\n",
    "    s1_d = list(map(int, input().split()))\n",
    "    s2_p = list(map(int, input().split()))\n",
    "    s2_d = list(map(int, input().split()))\n",
    "\n",
    "    dp = [(l1, l2)]\n",
    "    for i in range(n - 1):\n",
    "        a = min(dp[-1][0] + s1_d[i], dp[-1][1] + s2_p[i])\n",
    "        b = min(dp[-1][1] + s2_d[i], dp[-1][0] + s1_p[i])\n",
    "        dp.append((a, b))\n",
    "\n",
    "    a = dp[-1][0] + s1\n",
    "    b = dp[-1][1] + s2\n",
    "    dp.append((a, b))\n",
    "    \n",
    "    print(min(dp[-1]))"
   ]
  },
  {
   "cell_type": "markdown",
   "metadata": {},
   "source": [
    "### 그래픽스 퀴즈 2876\n",
    "- 다이나믹 프로그래밍"
   ]
  },
  {
   "cell_type": "code",
   "execution_count": 59,
   "metadata": {},
   "outputs": [
    {
     "name": "stdout",
     "output_type": "stream",
     "text": [
      "3\n",
      "1 5\n",
      "5 3\n",
      "5 5\n"
     ]
    }
   ],
   "source": [
    "n = int(input())\n",
    "dp = [[0] * 6 for _ in range(n)]\n",
    "for i in range(n):\n",
    "    a, b = map(int, input().split())\n",
    "    \n",
    "    if i == 0:\n",
    "        for v in set((a, b)):\n",
    "            dp[i][v] = 1\n",
    "    else:\n",
    "        for v in set((a, b)):\n",
    "            dp[i][v] = dp[i - 1][v] + 1"
   ]
  },
  {
   "cell_type": "code",
   "execution_count": 69,
   "metadata": {},
   "outputs": [
    {
     "data": {
      "text/plain": [
       "[[0, 1, 0, 0, 0, 1], [0, 0, 0, 1, 0, 2], [0, 0, 0, 0, 0, 3]]"
      ]
     },
     "execution_count": 69,
     "metadata": {},
     "output_type": "execute_result"
    }
   ],
   "source": [
    "dp"
   ]
  },
  {
   "cell_type": "code",
   "execution_count": 75,
   "metadata": {},
   "outputs": [],
   "source": [
    "result_li = [(i, max(v)) for i, v in enumerate(zip(*dp))]\n",
    "result = sorted(result_li, key=lambda x: x[1], reverse=True)[0]"
   ]
  },
  {
   "cell_type": "code",
   "execution_count": 76,
   "metadata": {},
   "outputs": [
    {
     "name": "stdout",
     "output_type": "stream",
     "text": [
      "3 5\n"
     ]
    }
   ],
   "source": [
    "print(result[1], result[0])"
   ]
  },
  {
   "cell_type": "code",
   "execution_count": 82,
   "metadata": {},
   "outputs": [
    {
     "name": "stdout",
     "output_type": "stream",
     "text": [
      "3\n",
      "1 3\n",
      "2 3\n",
      "3 1\n",
      "3 3\n"
     ]
    }
   ],
   "source": [
    "# 맞았음\n",
    "import sys\n",
    "# input = sys.stdin.readline\n",
    "\n",
    "n = int(input())\n",
    "dp = [[0] * 6 for _ in range(n)]\n",
    "for i in range(n):\n",
    "    a, b = map(int, input().split())\n",
    "    \n",
    "    if i == 0:\n",
    "        for v in set((a, b)):\n",
    "            dp[i][v] = 1\n",
    "    else:\n",
    "        for v in set((a, b)):\n",
    "            dp[i][v] = dp[i - 1][v] + 1\n",
    "            \n",
    "result_li = [(i, max(v)) for i, v in enumerate(zip(*dp))]\n",
    "result = sorted(result_li, key=lambda x: x[1], reverse=True)[0]\n",
    "print(result[1], result[0])"
   ]
  },
  {
   "cell_type": "markdown",
   "metadata": {},
   "source": [
    "### 이친수 2193\n",
    "- 다이나믹 프로그래밍"
   ]
  },
  {
   "cell_type": "code",
   "execution_count": 96,
   "metadata": {},
   "outputs": [
    {
     "name": "stdout",
     "output_type": "stream",
     "text": [
      "90\n",
      "2880067194370816120\n"
     ]
    }
   ],
   "source": [
    "n = int(input())\n",
    "\n",
    "dp = [0, 1, 1]\n",
    "for i in range(3, n + 1):\n",
    "    dp.append(sum(dp[:i - 1]) + 1)\n",
    "\n",
    "print(dp[n])"
   ]
  },
  {
   "cell_type": "code",
   "execution_count": 91,
   "metadata": {},
   "outputs": [
    {
     "data": {
      "text/plain": [
       "[0, 1, 1, 3, 6, 6]"
      ]
     },
     "execution_count": 91,
     "metadata": {},
     "output_type": "execute_result"
    }
   ],
   "source": [
    "dp"
   ]
  },
  {
   "cell_type": "code",
   "execution_count": 89,
   "metadata": {},
   "outputs": [
    {
     "data": {
      "text/plain": [
       "2"
      ]
     },
     "execution_count": 89,
     "metadata": {},
     "output_type": "execute_result"
    }
   ],
   "source": [
    "sum(dp[:3 - 1]) + 1"
   ]
  },
  {
   "cell_type": "markdown",
   "metadata": {},
   "source": [
    "### 피자 14606 (Small)\n",
    "- 수학, 다이나믹 프로그래밍"
   ]
  },
  {
   "cell_type": "code",
   "execution_count": 102,
   "metadata": {},
   "outputs": [
    {
     "name": "stdout",
     "output_type": "stream",
     "text": [
      "5\n",
      "10\n"
     ]
    }
   ],
   "source": [
    "n = int(input())\n",
    "\n",
    "dp = [0, 0]\n",
    "for i in range(2, n + 1):\n",
    "    if i % 2 == 0:\n",
    "        value = (i // 2) ** 2 + dp[i // 2]  * 2\n",
    "    else:\n",
    "        value = (i // 2) * (i // 2 + 1) + dp[i // 2] + dp[i // 2 + 1]\n",
    "    dp.append(value)\n",
    "    \n",
    "print(dp[n])"
   ]
  },
  {
   "cell_type": "markdown",
   "metadata": {},
   "source": [
    "### 피자 (Large) 14607\n",
    "- 수학"
   ]
  },
  {
   "cell_type": "code",
   "execution_count": 115,
   "metadata": {},
   "outputs": [
    {
     "name": "stdout",
     "output_type": "stream",
     "text": [
      "8\n",
      "28\n"
     ]
    }
   ],
   "source": [
    "n = int(input())\n",
    "print((n - 1) * n // 2)"
   ]
  },
  {
   "cell_type": "markdown",
   "metadata": {},
   "source": [
    "### 돌 게임 2 9656\n",
    "- 다이나믹 프로그래밍, 게임 이론"
   ]
  },
  {
   "cell_type": "code",
   "execution_count": 117,
   "metadata": {},
   "outputs": [
    {
     "name": "stdout",
     "output_type": "stream",
     "text": [
      "1\n",
      "CY\n"
     ]
    }
   ],
   "source": [
    "n = int(input())\n",
    "\n",
    "if n % 2 == 1:\n",
    "    print(\"CY\")\n",
    "else:\n",
    "    print(\"SK\")"
   ]
  },
  {
   "cell_type": "markdown",
   "metadata": {},
   "source": [
    "### 피보나치 비스무리한 수열 14495"
   ]
  },
  {
   "cell_type": "code",
   "execution_count": 3,
   "metadata": {},
   "outputs": [
    {
     "name": "stdout",
     "output_type": "stream",
     "text": [
      "10\n",
      "19\n"
     ]
    }
   ],
   "source": [
    "dp = [0, 1, 1, 1]\n",
    "\n",
    "n = int(input())\n",
    "\n",
    "for _ in range(4, n + 1):\n",
    "    dp.append(dp[-1] + dp[-3])\n",
    "    \n",
    "print(dp[n])"
   ]
  },
  {
   "cell_type": "markdown",
   "metadata": {},
   "source": [
    "### 돌 게임 3 9657"
   ]
  },
  {
   "cell_type": "code",
   "execution_count": 12,
   "metadata": {},
   "outputs": [
    {
     "name": "stdout",
     "output_type": "stream",
     "text": [
      "5\n"
     ]
    },
    {
     "data": {
      "text/plain": [
       "[inf, 1, 2, 1, 1]"
      ]
     },
     "execution_count": 12,
     "metadata": {},
     "output_type": "execute_result"
    }
   ],
   "source": [
    "# 최단 도착을 상대가 그냥 두고 보지는 않으므로 접근을 바꿔야함\n",
    "n = int(input())\n",
    "\n",
    "dp = [float('inf')] * 1001\n",
    "dp[1] = dp[3] = dp[4] = 1\n",
    "\n",
    "for i in range(1, len(dp)):\n",
    "    if i + 1 < len(dp) and dp[i + 1] > dp[i] + 1:\n",
    "        dp[i + 1] = dp[i] + 1\n",
    "    if i + 3 < len(dp) and dp[i + 3] > dp[i] + 1:\n",
    "        dp[i + 3] = dp[i] + 1\n",
    "    if i + 4 < len(dp) and dp[i + 4] > dp[i] + 1:\n",
    "        dp[i + 4] = dp[i] + 1\n",
    "\n",
    "if dp[n] % 2 == 0:\n",
    "    print(\"CY\")\n",
    "else:\n",
    "    print(\"SK\")\n",
    "        \n",
    "dp[:5]"
   ]
  },
  {
   "cell_type": "code",
   "execution_count": 12,
   "metadata": {},
   "outputs": [
    {
     "name": "stdout",
     "output_type": "stream",
     "text": [
      "9\n",
      "CY\n"
     ]
    }
   ],
   "source": [
    "n = int(input())\n",
    "\n",
    "li = [1, 2, 1, 1, 1, 1, 2]\n",
    "\n",
    "if li[(n - 1) % 7] == 1:\n",
    "    print(\"SK\")\n",
    "else:\n",
    "    print(\"CY\")"
   ]
  },
  {
   "cell_type": "markdown",
   "metadata": {},
   "source": [
    "### 돌 게임 4 9658\n",
    "- 다이나믹 프로그래밍, 게임 이론"
   ]
  },
  {
   "cell_type": "code",
   "execution_count": 19,
   "metadata": {},
   "outputs": [
    {
     "name": "stdout",
     "output_type": "stream",
     "text": [
      "8\n",
      "CY\n"
     ]
    }
   ],
   "source": [
    "n = int(input())\n",
    "\n",
    "li = [2, 1, 2, 1, 1, 1, 1]\n",
    "\n",
    "if li[(n - 1) % 7] == 1:\n",
    "    print(\"SK\")\n",
    "else:\n",
    "    print(\"CY\")"
   ]
  },
  {
   "cell_type": "markdown",
   "metadata": {},
   "source": [
    "### 달나라 토끼를 위한 구매대금 지불 도우미 17212"
   ]
  },
  {
   "cell_type": "code",
   "execution_count": 20,
   "metadata": {},
   "outputs": [
    {
     "name": "stdout",
     "output_type": "stream",
     "text": [
      "10\n",
      "3\n"
     ]
    }
   ],
   "source": [
    "# 반례: 10인 경우 7, 2, 1 아닌 5, 5가 정답\n",
    "\n",
    "def counter(n):\n",
    "    count = n // 7\n",
    "    if n % 7 == 0:\n",
    "        return count\n",
    "    n %= 7\n",
    "    \n",
    "    count += n // 5\n",
    "    if n % 5 == 0:\n",
    "        return count\n",
    "    n %= 5\n",
    "    \n",
    "    count += n // 2\n",
    "    if n % 2 == 0:\n",
    "        return count\n",
    "    n %= 2\n",
    "    \n",
    "    count += n // 1\n",
    "    return count\n",
    "    \n",
    "n = int(input())\n",
    "print(counter(n))"
   ]
  },
  {
   "cell_type": "code",
   "execution_count": 60,
   "metadata": {},
   "outputs": [
    {
     "name": "stdout",
     "output_type": "stream",
     "text": [
      "100000\n",
      "14286\n"
     ]
    }
   ],
   "source": [
    "n = int(input())\n",
    "\n",
    "count = 0\n",
    "if n > 50:\n",
    "    count += (n - 50) // 7\n",
    "    n = 50 + (n - 50) % 7\n",
    "    \n",
    "all_set = {n}\n",
    "\n",
    "while True:\n",
    "    if 0 in all_set:\n",
    "        break\n",
    "    \n",
    "    set_7 = {v - 7 for v in all_set}\n",
    "    set_5 = {v - 5 for v in all_set}\n",
    "    set_2 = {v - 2 for v in all_set}\n",
    "    set_1 = {v - 1 for v in all_set}\n",
    "    all_set = set_1 | set_2 | set_5 | set_7\n",
    "    count += 1\n",
    "    \n",
    "print(count)"
   ]
  },
  {
   "cell_type": "code",
   "execution_count": 61,
   "metadata": {},
   "outputs": [
    {
     "name": "stdout",
     "output_type": "stream",
     "text": [
      "100000\n",
      "14286\n"
     ]
    }
   ],
   "source": [
    "n = int(input())\n",
    "\n",
    "count = 0\n",
    "if n > 50:\n",
    "    count += (n - 50) // 7\n",
    "    n = 50 + (n - 50) % 7\n",
    "\n",
    "dp = [0] * (n + 1)\n",
    "dp[:8] = (0, 1, 1, 2, 2, 1, 2, 1)\n",
    "\n",
    "for i in range(8, n + 1):\n",
    "    dp[i] = min(dp[i - 7], dp[i - 5], dp[i - 2], dp[i - 1]) + 1\n",
    "\n",
    "print(count + dp[n])"
   ]
  },
  {
   "cell_type": "code",
   "execution_count": 51,
   "metadata": {},
   "outputs": [
    {
     "data": {
      "text/plain": [
       "{3, 4, 5}"
      ]
     },
     "execution_count": 51,
     "metadata": {},
     "output_type": "execute_result"
    }
   ],
   "source": [
    "### 다른 사람 코드(manatom)\n",
    "\n",
    "s =int(input())\n",
    "p = [0,1,1,2,2,1,2,1]\n",
    "for i in range(s-7):\n",
    "    p.append(0)\n",
    "for i in range(8,s+1):\n",
    "    p[i] = min(p[i-1],p[i-2],p[i-5],p[i-7])+1\n",
    "\n",
    "print(p[s])"
   ]
  },
  {
   "cell_type": "markdown",
   "metadata": {},
   "source": [
    "### 1, 2, 3 더하기 5 15990"
   ]
  },
  {
   "cell_type": "code",
   "execution_count": 32,
   "metadata": {},
   "outputs": [
    {
     "name": "stdout",
     "output_type": "stream",
     "text": [
      "2\n",
      "3\n",
      "3\n",
      "7\n",
      "9\n"
     ]
    }
   ],
   "source": [
    "# 맞았음\n",
    "s1 = [0, 1, 0, 1]\n",
    "s2 = [0, 0, 1, 1]\n",
    "s3 = [0, 0, 0, 1]\n",
    "\n",
    "for i in range(4, 100001):\n",
    "    s1.append((s2[i - 1] + s3[i - 1]) % 1000000009)\n",
    "    s2.append((s1[i - 2] + s3[i - 2]) % 1000000009)\n",
    "    s3.append((s1[i - 3] + s2[i - 3]) % 1000000009)\n",
    "    \n",
    "T = int(input())\n",
    "for _ in range(T):\n",
    "    n = int(input())\n",
    "    print((s1[n] + s2[n] + s3[n]) % 1000000009)"
   ]
  },
  {
   "cell_type": "markdown",
   "metadata": {},
   "source": [
    "### 피보나치는 지겨웡~ 17175"
   ]
  },
  {
   "cell_type": "code",
   "execution_count": 46,
   "metadata": {},
   "outputs": [
    {
     "name": "stdout",
     "output_type": "stream",
     "text": [
      "1\n",
      "1\n"
     ]
    }
   ],
   "source": [
    "n = int(input())\n",
    "\n",
    "dp = [0] * 51\n",
    "dp[0] = dp[1] = 1\n",
    "\n",
    "for i in range(2, n + 1):\n",
    "    dp[i] = (dp[i - 2] + dp[i - 1] + 1) % 1000000007\n",
    "    \n",
    "print(dp[n])"
   ]
  },
  {
   "cell_type": "markdown",
   "metadata": {},
   "source": [
    "### 1, 2, 3 더하기 6 15991"
   ]
  },
  {
   "cell_type": "code",
   "execution_count": 27,
   "metadata": {},
   "outputs": [
    {
     "name": "stdout",
     "output_type": "stream",
     "text": [
      "3\n",
      "4\n",
      "3\n",
      "7\n",
      "6\n",
      "100000\n",
      "483652833\n"
     ]
    }
   ],
   "source": [
    "dp = [0] * 100001\n",
    "dp[:4] = [0, 1, 2, 2]\n",
    "mod = 1000000009\n",
    "\n",
    "for i in range(4, len(dp)):\n",
    "    if i - 4 <= 0:\n",
    "        dp[i] = dp[i - 2]\n",
    "    elif i - 6 <= 0:\n",
    "        dp[i] = (dp[i - 2] + dp[i - 4]) % mod\n",
    "    else:\n",
    "        dp[i] = (dp[i - 2] + dp[i - 4] + dp[i - 6]) % mod\n",
    "        \n",
    "    if i == 4 or i == 6:\n",
    "        dp[i] += 1\n",
    "\n",
    "T = int(input())\n",
    "for _ in range(T):       \n",
    "    n = int(input())\n",
    "    print(dp[n])"
   ]
  },
  {
   "cell_type": "markdown",
   "metadata": {},
   "source": [
    "### 제곱수의 합 1699"
   ]
  },
  {
   "cell_type": "code",
   "execution_count": 33,
   "metadata": {},
   "outputs": [
    {
     "name": "stdout",
     "output_type": "stream",
     "text": [
      "5237\n",
      "3\n"
     ]
    }
   ],
   "source": [
    "# 반례: 18\n",
    "import math\n",
    "\n",
    "n = int(input())\n",
    "count = 0\n",
    "while n >= 1:\n",
    "    n -= int(math.sqrt(n)) ** 2\n",
    "    count += 1\n",
    "    \n",
    "print(count)"
   ]
  },
  {
   "cell_type": "code",
   "execution_count": 31,
   "metadata": {},
   "outputs": [
    {
     "data": {
      "text/plain": [
       "5237"
      ]
     },
     "execution_count": 31,
     "metadata": {},
     "output_type": "execute_result"
    }
   ],
   "source": [
    "18 ** 2 + 17 ** 3"
   ]
  },
  {
   "cell_type": "code",
   "execution_count": 23,
   "metadata": {},
   "outputs": [
    {
     "data": {
      "text/plain": [
       "316.22776601683796"
      ]
     },
     "execution_count": 23,
     "metadata": {},
     "output_type": "execute_result"
    }
   ],
   "source": [
    "math.sqrt(100000)"
   ]
  },
  {
   "cell_type": "code",
   "execution_count": null,
   "metadata": {},
   "outputs": [],
   "source": [
    "n = 18\n",
    "\n",
    "count = 0"
   ]
  },
  {
   "cell_type": "markdown",
   "metadata": {},
   "source": [
    "### LCS 3 1958"
   ]
  },
  {
   "cell_type": "code",
   "execution_count": 2,
   "metadata": {},
   "outputs": [
    {
     "name": "stdout",
     "output_type": "stream",
     "text": [
      "abcdefghijklmn\n",
      "bdefg\n",
      "efg\n",
      "3\n"
     ]
    }
   ],
   "source": [
    "a = input()\n",
    "b = input()\n",
    "c = input()\n",
    "\n",
    "dp = [[[0] * (len(c) + 1) for _ in range(len(b) + 1)] for _ in range(len(a) + 1)]\n",
    "for i in range(1, len(a) + 1):\n",
    "    for j in range(1, len(b) + 1):\n",
    "        for k in range(1, len(c) + 1):\n",
    "            if a[i - 1] == b[j - 1] == c[k - 1]:\n",
    "                dp[i][j][k] = max((dp[i - 1][j][k], dp[i][j - 1][k], dp[i][j][k - 1], dp[i - 1][j - 1][k - 1] + 1))\n",
    "            else:\n",
    "                dp[i][j][k] = max((dp[i - 1][j][k], dp[i][j - 1][k], dp[i][j][k - 1]))\n",
    "\n",
    "print(dp[-1][-1][-1])"
   ]
  },
  {
   "cell_type": "markdown",
   "metadata": {},
   "source": [
    "### LCS 2 9252 (실패 후 재도전)"
   ]
  },
  {
   "cell_type": "code",
   "execution_count": 3,
   "metadata": {},
   "outputs": [
    {
     "name": "stdout",
     "output_type": "stream",
     "text": [
      "ACAYKP\n",
      "CAPCAK\n",
      "4\n"
     ]
    }
   ],
   "source": [
    "a = input()\n",
    "b = input()\n",
    "\n",
    "dp = [[0] * (len(b) + 1) for _ in range(len(a) + 1)]\n",
    "for i in range(1, len(a) + 1):\n",
    "    for j in range(1, len(b) + 1):\n",
    "        if a[i - 1] == b[j - 1]:\n",
    "            dp[i][j] = max((dp[i - 1][j], dp[i][j - 1], dp[i - 1][j - 1] + 1))\n",
    "        else:\n",
    "            dp[i][j] = max((dp[i - 1][j], dp[i][j - 1]))\n",
    "\n",
    "print(dp[-1][-1])"
   ]
  },
  {
   "cell_type": "code",
   "execution_count": 18,
   "metadata": {},
   "outputs": [
    {
     "name": "stdout",
     "output_type": "stream",
     "text": [
      "ABAB\n",
      "DDD\n",
      "0\n",
      "\n"
     ]
    }
   ],
   "source": [
    "a = input()\n",
    "b = input()\n",
    "\n",
    "dp = [[0] * (len(b) + 1) for _ in range(len(a) + 1)]\n",
    "for i in range(1, len(a) + 1):\n",
    "    for j in range(1, len(b) + 1):\n",
    "        if a[i - 1] == b[j - 1]:\n",
    "            dp[i][j] = max((dp[i - 1][j], dp[i][j - 1], dp[i - 1][j - 1] + 1))\n",
    "        else:\n",
    "            dp[i][j] = max((dp[i - 1][j], dp[i][j - 1]))\n",
    "\n",
    "i, j = len(a), len(b)\n",
    "reversed_answer = \"\"\n",
    "while dp[i][j] != 0:\n",
    "    if dp[i][j - 1] == dp[i][j]:\n",
    "        j -= 1\n",
    "    elif dp[i - 1][j] == dp[i][j]:\n",
    "        i -= 1\n",
    "    else:\n",
    "        reversed_answer += a[i - 1]\n",
    "        i -= 1\n",
    "        j -= 1\n",
    "        \n",
    "print(dp[-1][-1])\n",
    "if dp[-1][-1] > 0:\n",
    "    print(reversed_answer[::-1])"
   ]
  },
  {
   "cell_type": "markdown",
   "metadata": {},
   "source": [
    "### 가장 긴 증가하는 부분 수열 4 14002"
   ]
  },
  {
   "cell_type": "code",
   "execution_count": 14,
   "metadata": {},
   "outputs": [
    {
     "name": "stdout",
     "output_type": "stream",
     "text": [
      "1\n",
      "20\n",
      "1\n",
      "20\n"
     ]
    }
   ],
   "source": [
    "n = int(input())\n",
    "li = list(map(int, input().split()))\n",
    "dp = []\n",
    "\n",
    "for v in li:\n",
    "    possible_former_values_count = [count for value, count in dp if value < v]\n",
    "    if possible_former_values_count:\n",
    "        dp.append((v, max(possible_former_values_count) + 1))\n",
    "    else:\n",
    "        dp.append((v, 1))\n",
    "\n",
    "sorted_dp = sorted(dp, key=lambda x: x[1], reverse=True)\n",
    "print(sorted_dp[0][1])\n",
    "\n",
    "dp.reverse()\n",
    "current_weight = sorted_dp[0][1]\n",
    "result = []\n",
    "for v, w in dp:\n",
    "    if w == current_weight:\n",
    "        result.append(v)\n",
    "        current_weight -= 1\n",
    "        \n",
    "        if current_weight == 0:\n",
    "            break\n",
    "            \n",
    "result.reverse()\n",
    "print(\" \".join(map(str, result)))"
   ]
  },
  {
   "cell_type": "markdown",
   "metadata": {},
   "source": [
    "### 가장 큰 증가 부분 수열 11055"
   ]
  },
  {
   "cell_type": "code",
   "execution_count": 15,
   "metadata": {},
   "outputs": [
    {
     "name": "stdout",
     "output_type": "stream",
     "text": [
      "10\n",
      "1 100 2 50 60 3 5 6 7 8\n",
      "113\n"
     ]
    }
   ],
   "source": [
    "n = int(input())\n",
    "li = list(map(int, input().split()))\n",
    "dp = []\n",
    "\n",
    "for v in li:\n",
    "    possible_former_values_sum = [sum_value for value, sum_value in dp if value < v]\n",
    "    if possible_former_values_sum:\n",
    "        dp.append((v, max(possible_former_values_sum) + v))\n",
    "    else:\n",
    "        dp.append((v, v))\n",
    "\n",
    "sorted_dp = sorted(dp, key=lambda x: x[1], reverse=True)\n",
    "print(sorted_dp[0][1])"
   ]
  },
  {
   "cell_type": "markdown",
   "metadata": {},
   "source": [
    "### 가장 큰 감소 부분 수열 17216"
   ]
  },
  {
   "cell_type": "code",
   "execution_count": 19,
   "metadata": {},
   "outputs": [
    {
     "name": "stdout",
     "output_type": "stream",
     "text": [
      "1\n",
      "2\n",
      "2\n"
     ]
    }
   ],
   "source": [
    "n = int(input())\n",
    "li = list(map(int, input().split()))\n",
    "dp = []\n",
    "\n",
    "for v in li:\n",
    "    possible_former_values_sum = [sum_value for value, sum_value in dp if value > v]\n",
    "    if possible_former_values_sum:\n",
    "        dp.append((v, max(possible_former_values_sum) + v))\n",
    "    else:\n",
    "        dp.append((v, v))\n",
    "\n",
    "sorted_dp = sorted(dp, key=lambda x: x[1], reverse=True)\n",
    "print(sorted_dp[0][1])"
   ]
  },
  {
   "cell_type": "markdown",
   "metadata": {},
   "source": [
    "### 줄세우기 2631"
   ]
  },
  {
   "cell_type": "code",
   "execution_count": 74,
   "metadata": {},
   "outputs": [
    {
     "name": "stdout",
     "output_type": "stream",
     "text": [
      "7\n",
      "3\n",
      "7\n",
      "5\n",
      "2\n",
      "6\n",
      "1\n",
      "4\n",
      "[(1, 4, 6), (2, 0, 3), (2, 2, 5), (2, 3, 2), (3, 6, 4), (5, 1, 7), (5, 5, 1)]\n",
      "[(0, 0, 1), (0, 5, 6), (1, 1, 3), (1, 3, 5), (3, 4, 2), (3, 6, 4), (4, 2, 7)]\n",
      "[(0, 0, 1), (0, 6, 7), (1, 1, 3), (1, 4, 6), (2, 2, 5), (2, 3, 2), (2, 5, 4)]\n",
      "[(0, 0, 1), (0, 3, 4), (0, 5, 6), (0, 6, 7), (1, 1, 3), (2, 2, 5), (3, 4, 2)]\n",
      "[(0, 0, 1), (0, 1, 2), (0, 2, 3), (0, 5, 6), (0, 6, 7), (1, 3, 5), (1, 4, 4)]\n",
      "[(0, 0, 1), (0, 1, 2), (0, 2, 3), (0, 3, 4), (0, 4, 5), (0, 5, 6), (0, 6, 7)]\n",
      "5\n"
     ]
    }
   ],
   "source": [
    "# 접근이 잘못된 것으로 추정됨\n",
    "n = int(input())\n",
    "li = []\n",
    "for _ in range(n):\n",
    "    li.append(int(input()))\n",
    "\n",
    "count = 0\n",
    "while True:\n",
    "    diff_li = [(abs((i + 1) - v), i, v) for i, v in enumerate(li)]\n",
    "    diff_li.sort()\n",
    "    \n",
    "    print(diff_li)\n",
    "    if diff_li[-1][0] == 0:\n",
    "        break\n",
    "    count += 1\n",
    "\n",
    "    from_index = diff_li[-1][1]\n",
    "    to_index = diff_li[-1][2] - 1\n",
    "\n",
    "    if from_index < to_index:\n",
    "        li.pop(from_index)\n",
    "\n",
    "        if to_index == n - 1:\n",
    "            li.append(to_index + 1)\n",
    "        else:\n",
    "            li.insert(to_index, to_index + 1)\n",
    "    else:\n",
    "        li.pop(from_index)\n",
    "        li.insert(to_index, to_index + 1)\n",
    "        \n",
    "print(count)"
   ]
  },
  {
   "cell_type": "code",
   "execution_count": 3,
   "metadata": {},
   "outputs": [
    {
     "name": "stdout",
     "output_type": "stream",
     "text": [
      "7\n",
      "3\n",
      "7\n",
      "5\n",
      "2\n",
      "6\n",
      "1\n",
      "4\n",
      "4\n"
     ]
    }
   ],
   "source": [
    "# 질문검색 보고 바로 맞췄음\n",
    "n = int(input())\n",
    "li = []\n",
    "for _ in range(n):\n",
    "    li.append(int(input()))\n",
    "    \n",
    "dp = []\n",
    "for v in li:\n",
    "    possible_former_values_count = [count for value, count in dp if value < v]\n",
    "    if possible_former_values_count:\n",
    "        dp.append((v, max(possible_former_values_count) + 1))\n",
    "    else:\n",
    "        dp.append((v, 1))\n",
    "\n",
    "sorted_dp = sorted(dp, key=lambda x: x[1], reverse=True)\n",
    "print(n - sorted_dp[0][1])"
   ]
  },
  {
   "cell_type": "markdown",
   "metadata": {},
   "source": [
    "### 1학년 5557"
   ]
  },
  {
   "cell_type": "code",
   "execution_count": 49,
   "metadata": {},
   "outputs": [],
   "source": [
    "li = [8, 3, 2, 4, 8, 7, 2, 4, 0, 8, 8]\n",
    "right_value = li[-1]\n",
    "del li[-1]"
   ]
  },
  {
   "cell_type": "code",
   "execution_count": 50,
   "metadata": {},
   "outputs": [],
   "source": [
    "num_set = set()\n",
    "dp = [0] * 21"
   ]
  },
  {
   "cell_type": "code",
   "execution_count": 54,
   "metadata": {},
   "outputs": [
    {
     "name": "stdout",
     "output_type": "stream",
     "text": [
      "11\n",
      "8 3 2 4 8 7 2 4 0 8 8\n",
      "10\n"
     ]
    }
   ],
   "source": [
    "n = int(input())\n",
    "li = list(map(int, input().split()))\n",
    "\n",
    "right_value = li[-1]\n",
    "del li[-1]\n",
    "\n",
    "num_set = set()\n",
    "dp = [0] * 21\n",
    "\n",
    "for new_value in li:\n",
    "    if not num_set:\n",
    "        num_set.add(new_value)\n",
    "        dp[new_value] = 1\n",
    "    else:\n",
    "        new_dp = [0] * 21\n",
    "        set1 = {v + new_value for v in num_set if 0 <= v + new_value <= 20}\n",
    "        for v in set1:\n",
    "            new_dp[v] += dp[v - new_value]\n",
    "        \n",
    "        set2 = {v - new_value for v in num_set if 0 <= v - new_value <= 20}\n",
    "        for v in set2:\n",
    "            new_dp[v] += dp[v + new_value]\n",
    "\n",
    "        dp = new_dp[:]\n",
    "        num_set = set1 | set2\n",
    "        \n",
    "print(dp[right_value])"
   ]
  },
  {
   "cell_type": "markdown",
   "metadata": {},
   "source": [
    "### 최대 정사각형 4095"
   ]
  },
  {
   "cell_type": "code",
   "execution_count": 60,
   "metadata": {},
   "outputs": [
    {
     "name": "stdout",
     "output_type": "stream",
     "text": [
      "3 3\n",
      "0 0 0\n",
      "0 0 0\n",
      "0 0 0\n",
      "0\n"
     ]
    }
   ],
   "source": [
    "while True:\n",
    "    n, m = map(int, input().split())\n",
    "    if n == 0 and m == 0:\n",
    "        break\n",
    "\n",
    "    li = []\n",
    "    for _ in range(n):\n",
    "        li.append(list(map(int, list(input().split()))))\n",
    "\n",
    "    for i in range(1, n):\n",
    "        for j in range(1, m):\n",
    "            if li[i][j] == 1:\n",
    "                min_value = min((li[i - 1][j - 1]), li[i - 1][j], li[i][j - 1])\n",
    "                if min_value >= 1:\n",
    "                    li[i][j] = min_value + 1\n",
    "\n",
    "    print(max((max(v) for v in li)))"
   ]
  },
  {
   "cell_type": "markdown",
   "metadata": {},
   "source": [
    "### 줄어들지 않아 2688"
   ]
  },
  {
   "cell_type": "code",
   "execution_count": 70,
   "metadata": {},
   "outputs": [
    {
     "data": {
      "text/plain": [
       "55"
      ]
     },
     "execution_count": 70,
     "metadata": {},
     "output_type": "execute_result"
    }
   ],
   "source": [
    "n = 10\n",
    "(n * (n + 1)) // 2 "
   ]
  },
  {
   "cell_type": "code",
   "execution_count": null,
   "metadata": {},
   "outputs": [],
   "source": [
    "total = 0\n",
    "for i in range(11):\n",
    "    total += i"
   ]
  },
  {
   "cell_type": "code",
   "execution_count": 75,
   "metadata": {},
   "outputs": [],
   "source": [
    "total = 0\n",
    "for i in range(11):\n",
    "    i = (i * (i + 1)) // 2\n",
    "    total += i"
   ]
  },
  {
   "cell_type": "code",
   "execution_count": 76,
   "metadata": {},
   "outputs": [
    {
     "data": {
      "text/plain": [
       "220"
      ]
     },
     "execution_count": 76,
     "metadata": {},
     "output_type": "execute_result"
    }
   ],
   "source": [
    "total"
   ]
  },
  {
   "cell_type": "code",
   "execution_count": 102,
   "metadata": {},
   "outputs": [],
   "source": [
    "li = [0] * 11"
   ]
  },
  {
   "cell_type": "code",
   "execution_count": 103,
   "metadata": {},
   "outputs": [],
   "source": [
    "for i in range(11):\n",
    "    li[i] = (i * (i + 1)) // 2 "
   ]
  },
  {
   "cell_type": "code",
   "execution_count": 104,
   "metadata": {},
   "outputs": [
    {
     "data": {
      "text/plain": [
       "[0, 1, 3, 6, 10, 15, 21, 28, 36, 45, 55]"
      ]
     },
     "execution_count": 104,
     "metadata": {},
     "output_type": "execute_result"
    }
   ],
   "source": [
    "li"
   ]
  },
  {
   "cell_type": "code",
   "execution_count": 138,
   "metadata": {},
   "outputs": [
    {
     "name": "stdout",
     "output_type": "stream",
     "text": [
      "3\n",
      "2\n",
      "55\n",
      "3\n",
      "220\n",
      "4\n",
      "715\n"
     ]
    }
   ],
   "source": [
    "dp = [0] * 65\n",
    "dp[:4] = [0, 10, 55, 220]\n",
    "li = [0, 1, 3, 6, 10, 15, 21, 28, 36, 45, 55]\n",
    "\n",
    "new_li = [0] * 11\n",
    "for i in range(4, 65):\n",
    "    for j in range(11):\n",
    "        new_li[j] = sum(li[:j + 1])\n",
    "    li = new_li[:]\n",
    "    dp[i] = sum(new_li)\n",
    "    \n",
    "T = int(input())\n",
    "for _ in range(T):\n",
    "    n = int(input())\n",
    "    print(dp[n])"
   ]
  },
  {
   "cell_type": "markdown",
   "metadata": {},
   "source": [
    "### 벽장문의 이동 2666"
   ]
  },
  {
   "cell_type": "code",
   "execution_count": 5,
   "metadata": {},
   "outputs": [
    {
     "name": "stdout",
     "output_type": "stream",
     "text": [
      "6\n",
      "2 5\n",
      "4\n",
      "2\n",
      "2\n",
      "5\n",
      "4\n",
      "1\n"
     ]
    }
   ],
   "source": [
    "import sys\n",
    "# input = sys.stdin.readline\n",
    "\n",
    "n = int(input())\n",
    "a, b = map(int, input().split())\n",
    "\n",
    "if b < a:\n",
    "    a, b = b, a\n",
    "\n",
    "dp = set()\n",
    "dp.add((a, b, 0))\n",
    "\n",
    "m = int(input())\n",
    "for _ in range(m):\n",
    "    to = int(input())\n",
    "    new_dp = set()\n",
    "    for s, e, d in dp:\n",
    "        if s == to or e == to:\n",
    "            new_dp.add((s, e, d))\n",
    "        if to < s:\n",
    "            new_dp.add((to, e, d + s - to))\n",
    "        elif e < to:\n",
    "            new_dp.add((s, to, d + to - e))\n",
    "        elif s < to < e:\n",
    "            new_dp.add((to, e, d + to - s))\n",
    "            new_dp.add((s, to, d + e - to))\n",
    "    dp = new_dp.copy()\n",
    "    \n",
    "dp = sorted(dp, key=lambda x: x[2])\n",
    "print(dp[0][2])"
   ]
  },
  {
   "cell_type": "code",
   "execution_count": 168,
   "metadata": {},
   "outputs": [
    {
     "data": {
      "text/plain": [
       "[(1, 5, 5), (1, 5, 7), (5, 6, 8), (5, 6, 10)]"
      ]
     },
     "execution_count": 168,
     "metadata": {},
     "output_type": "execute_result"
    }
   ],
   "source": [
    "dp"
   ]
  },
  {
   "cell_type": "markdown",
   "metadata": {},
   "source": [
    "### 공통 부분 문자열 5582"
   ]
  },
  {
   "cell_type": "code",
   "execution_count": 26,
   "metadata": {},
   "outputs": [
    {
     "name": "stdout",
     "output_type": "stream",
     "text": [
      "A\n",
      "B\n",
      "0\n"
     ]
    }
   ],
   "source": [
    "# pypy3는 맞았음, pyhton은 메모리 초과\n",
    "a = input()\n",
    "b = input()\n",
    "\n",
    "dp = [[0] * (len(b) + 1) for _ in range(len(a) + 1)]\n",
    "for i in range(1, len(a) + 1):\n",
    "    for j in range(1, len(b) + 1):\n",
    "        if a[i - 1] == b[j - 1]:\n",
    "            dp[i][j] = dp[i - 1][j - 1] + 1\n",
    "\n",
    "print(max(map(max, dp)))"
   ]
  },
  {
   "cell_type": "code",
   "execution_count": 25,
   "metadata": {},
   "outputs": [
    {
     "name": "stdout",
     "output_type": "stream",
     "text": [
      "A\n",
      "B\n",
      "0\n"
     ]
    }
   ],
   "source": [
    "# pypy3는 맞았음, python은 시간 초과\n",
    "from collections import defaultdict\n",
    "\n",
    "a = input()\n",
    "b = input()\n",
    "\n",
    "d = defaultdict(int)\n",
    "for i in range(1, len(a) + 1):\n",
    "    for j in range(1, len(b) + 1):\n",
    "        if a[i - 1] == b[j - 1]:\n",
    "            d[(i, j)] = d[(i - 1, j - 1)] + 1\n",
    "            del d[(i - 1, j - 1)]\n",
    "\n",
    "if d.values():\n",
    "    print(max(d.values()))\n",
    "else:\n",
    "    print(0)"
   ]
  },
  {
   "cell_type": "markdown",
   "metadata": {},
   "source": [
    "### 두 부분 문자열 11056"
   ]
  },
  {
   "cell_type": "code",
   "execution_count": 4,
   "metadata": {},
   "outputs": [
    {
     "name": "stdout",
     "output_type": "stream",
     "text": [
      "baekjoon\n",
      "hongjun\n",
      "13\n"
     ]
    }
   ],
   "source": [
    "a = input()\n",
    "b = input()\n",
    "\n",
    "dp = [[0] * (len(b) + 1) for _ in range(len(a) + 1)]\n",
    "for i in range(1, len(a) + 1):\n",
    "    for j in range(1, len(b) + 1):\n",
    "        if a[i - 1] == b[j - 1]:\n",
    "            dp[i][j] = max((dp[i - 1][j], dp[i][j - 1], dp[i - 1][j - 1] + 1))\n",
    "        else:\n",
    "            dp[i][j] = max((dp[i - 1][j], dp[i][j - 1]))\n",
    "            \n",
    "print(len(a) + len(b) - dp[-1][-1])"
   ]
  },
  {
   "cell_type": "markdown",
   "metadata": {},
   "source": [
    "### RGB거리 2 17404"
   ]
  },
  {
   "cell_type": "code",
   "execution_count": 13,
   "metadata": {},
   "outputs": [
    {
     "name": "stdout",
     "output_type": "stream",
     "text": [
      "3\n",
      "26 40 83\n",
      "49 60 57\n",
      "13 89 99\n",
      "110\n"
     ]
    }
   ],
   "source": [
    "from collections import deque\n",
    "import copy\n",
    "import sys\n",
    "# input = sys.stdin.readline\n",
    "\n",
    "n = int(input())\n",
    "original_queue = deque([])\n",
    "for _ in range(n):\n",
    "    original_queue.append(list(map(int, input().split())))\n",
    "    \n",
    "first = original_queue.popleft()\n",
    "min_results = []\n",
    "\n",
    "for i in range(3):\n",
    "    queue = copy.deepcopy(original_queue)\n",
    "    \n",
    "    total = [first[i]] * 3\n",
    "    \n",
    "    for j in range(n - 1):\n",
    "        current = queue.popleft()\n",
    "        if j == 0:\n",
    "            current[i] = float('inf')\n",
    "            \n",
    "        for k in range(3):\n",
    "            current[k] += min([v for index, v in enumerate(total) if index != k])\n",
    "            \n",
    "        total = current[:]\n",
    "    \n",
    "    total[i] = float('inf')\n",
    "    min_results.append(min(total))\n",
    "    \n",
    "print(min(min_results))"
   ]
  },
  {
   "cell_type": "code",
   "execution_count": 11,
   "metadata": {},
   "outputs": [
    {
     "name": "stdout",
     "output_type": "stream",
     "text": [
      "110\n"
     ]
    }
   ],
   "source": []
  },
  {
   "cell_type": "code",
   "execution_count": null,
   "metadata": {},
   "outputs": [],
   "source": [
    ")"
   ]
  }
 ],
 "metadata": {
  "kernelspec": {
   "display_name": "Python 3",
   "language": "python",
   "name": "python3"
  },
  "language_info": {
   "codemirror_mode": {
    "name": "ipython",
    "version": 3
   },
   "file_extension": ".py",
   "mimetype": "text/x-python",
   "name": "python",
   "nbconvert_exporter": "python",
   "pygments_lexer": "ipython3",
   "version": "3.7.3"
  }
 },
 "nbformat": 4,
 "nbformat_minor": 4
}
