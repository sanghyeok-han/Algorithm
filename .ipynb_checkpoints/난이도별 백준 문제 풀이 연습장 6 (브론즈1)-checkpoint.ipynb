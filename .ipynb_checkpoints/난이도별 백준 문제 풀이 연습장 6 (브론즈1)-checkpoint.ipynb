{
 "cells": [
  {
   "cell_type": "markdown",
   "metadata": {},
   "source": [
    "https://www.acmicpc.net/problemset?sort=ac_desc&solvedac_option=xz%2Cxn&submit=pac%2Cfa%2Cus&tier=5"
   ]
  },
  {
   "cell_type": "markdown",
   "metadata": {},
   "source": [
    "### 첼시를 도와줘! 11098"
   ]
  },
  {
   "cell_type": "code",
   "execution_count": 1,
   "metadata": {},
   "outputs": [
    {
     "name": "stdout",
     "output_type": "stream",
     "text": [
      "1\n",
      "2\n",
      "10 i\n",
      "4 j\n",
      "i\n"
     ]
    }
   ],
   "source": [
    "import sys\n",
    "input = lambda: sys.stdin.readline().rstrip()\n",
    "\n",
    "for _ in range(int(input())):\n",
    "    n = int(input())\n",
    "\n",
    "    max_price = -1\n",
    "    max_price_name = ''\n",
    "    for _ in range(n):\n",
    "        p, name = input().split()\n",
    "        p = int(p)\n",
    "\n",
    "        if p > max_price:\n",
    "            max_price = p\n",
    "            max_price_name = name\n",
    "\n",
    "    print(max_price_name)"
   ]
  },
  {
   "cell_type": "markdown",
   "metadata": {},
   "source": [
    "### 가장 큰 금민수 1526"
   ]
  },
  {
   "cell_type": "code",
   "execution_count": 5,
   "metadata": {},
   "outputs": [
    {
     "name": "stdout",
     "output_type": "stream",
     "text": [
      "100\n",
      "77\n"
     ]
    }
   ],
   "source": [
    "n = int(input())\n",
    "\n",
    "for i in range(n, -1, -1):\n",
    "    if sorted(set(str(i))) in [['4'], ['7'], ['4', '7']]:\n",
    "        print(i)\n",
    "        break"
   ]
  },
  {
   "cell_type": "markdown",
   "metadata": {},
   "source": [
    "### 나는 학급회장이다 2456"
   ]
  },
  {
   "cell_type": "code",
   "execution_count": 9,
   "metadata": {},
   "outputs": [
    {
     "name": "stdout",
     "output_type": "stream",
     "text": [
      "6\n",
      "1 2 3\n",
      "3 1 2\n",
      "2 3 1\n",
      "1 2 3\n",
      "3 1 2\n",
      "2 3 1\n",
      "0 12\n"
     ]
    }
   ],
   "source": [
    "cs = [[0, 0, 0] for _ in range(3)]\n",
    "\n",
    "n = int(input())\n",
    "for _ in range(n):\n",
    "    a, b, c = map(int, input().split())\n",
    "    \n",
    "    cs[0][a - 1] += 1\n",
    "    cs[1][b - 1] += 1\n",
    "    cs[2][c - 1] += 1\n",
    "    \n",
    "for num in range(3):\n",
    "    v = cs[num]\n",
    "    ts = 0\n",
    "    for i in range(3):\n",
    "        ts += v[i] * (i + 1)\n",
    "    v.append(ts)\n",
    "    v.append(num + 1)\n",
    "    \n",
    "cs.sort(key=lambda x: (-x[3], -x[2], -x[1]))\n",
    "\n",
    "if cs[0][3] == cs[1][3] and cs[0][2] == cs[1][2] and cs[0][1] == cs[1][1]:\n",
    "    print(0, cs[0][3])\n",
    "else:\n",
    "    print(cs[0][4], cs[0][3])"
   ]
  },
  {
   "cell_type": "markdown",
   "metadata": {},
   "source": [
    "### 행복한지 슬픈지 10769"
   ]
  },
  {
   "cell_type": "code",
   "execution_count": 12,
   "metadata": {},
   "outputs": [
    {
     "name": "stdout",
     "output_type": "stream",
     "text": [
      "This:-(is str:-(:-(ange te:-)xt.\n",
      "unsure\n"
     ]
    }
   ],
   "source": [
    "s = input()\n",
    "\n",
    "c_happy = s.count(\":-)\")\n",
    "c_sad = s.count(\":-(\")\n",
    "\n",
    "if c_happy == 0 and c_sad == 0:\n",
    "    print('none')\n",
    "elif c_happy == c_sad:\n",
    "    print('unsure')\n",
    "elif c_happy > c_sad:\n",
    "    print('happy')\n",
    "else:\n",
    "    print('sad')"
   ]
  },
  {
   "cell_type": "markdown",
   "metadata": {},
   "source": [
    "### Doubles 4641"
   ]
  },
  {
   "cell_type": "code",
   "execution_count": 16,
   "metadata": {},
   "outputs": [
    {
     "name": "stdout",
     "output_type": "stream",
     "text": [
      "1 4 3 2 9 7 18 22 0\n",
      "3\n"
     ]
    }
   ],
   "source": [
    "import sys\n",
    "input = lambda: sys.stdin.readline().rstrip()\n",
    "\n",
    "while True:\n",
    "    li = list(map(int, input().split()))\n",
    "    if len(li) == 1:\n",
    "        break\n",
    "\n",
    "    li.pop()\n",
    "    st = set(li)\n",
    "\n",
    "    c = 0\n",
    "    for v in li:\n",
    "        if v * 2 in st:\n",
    "            c += 1\n",
    "    print(c)"
   ]
  },
  {
   "cell_type": "markdown",
   "metadata": {},
   "source": [
    "### 박스 9455"
   ]
  },
  {
   "cell_type": "code",
   "execution_count": null,
   "metadata": {},
   "outputs": [],
   "source": []
  },
  {
   "cell_type": "code",
   "execution_count": 17,
   "metadata": {},
   "outputs": [
    {
     "name": "stdout",
     "output_type": "stream",
     "text": [
      "5 4\n",
      "1 0 0 0\n",
      "0 0 1 0\n",
      "1 0 0 1\n",
      "0 1 0 0\n",
      "1 0 1 0\n",
      "8\n"
     ]
    }
   ],
   "source": [
    "import sys\n",
    "input = lambda: sys.stdin.readline().rstrip()\n",
    "\n",
    "for _ in range(int(input())):\n",
    "    n, m = map(int, input().split())\n",
    "    li = [list(map(int, input().split())) for _ in range(n)]\n",
    "\n",
    "    total = 0\n",
    "    for j in range(m):\n",
    "        cumul = 0\n",
    "        w = 0\n",
    "        for i in range(n - 1, -1, -1):\n",
    "            if li[i][j] == 0:\n",
    "                w += 1\n",
    "            else:\n",
    "                cumul += w\n",
    "\n",
    "        total += cumul\n",
    "\n",
    "    print(total)"
   ]
  },
  {
   "cell_type": "markdown",
   "metadata": {},
   "source": [
    "### 유진수 1356"
   ]
  },
  {
   "cell_type": "code",
   "execution_count": 18,
   "metadata": {},
   "outputs": [
    {
     "name": "stdout",
     "output_type": "stream",
     "text": [
      "1236\n",
      "YES\n"
     ]
    }
   ],
   "source": [
    "import sys\n",
    "input = lambda: sys.stdin.readline().rstrip()\n",
    "\n",
    "ip = lambda: input()\n",
    "nip = lambda: int(input())\n",
    "nnip = lambda: map(int, input().split())\n",
    "lip = lambda: list(map(int, input().split()))\n",
    "gip = lambda n: [list(map(int, input().split())) for _ in range(n)]\n",
    "\n",
    "\n",
    "\n",
    "n = nip()\n",
    "s = str(n)\n",
    "s_len = len(s)\n",
    "\n",
    "if n < 10:\n",
    "    print('NO')\n",
    "else:\n",
    "    is_yes = False\n",
    "    for i in range(s_len - 1):\n",
    "        a = s[:i + 1]\n",
    "        b = s[i + 1:]\n",
    "        \n",
    "        ca = 1\n",
    "        for v in a:\n",
    "            ca *= int(v)\n",
    "        \n",
    "        cb = 1\n",
    "        for v in b:\n",
    "            cb *= int(v)\n",
    "            \n",
    "        if ca == cb:\n",
    "            is_yes = True\n",
    "            break\n",
    "            \n",
    "    if is_yes:\n",
    "        print('YES')\n",
    "    else:\n",
    "        print('NO')"
   ]
  },
  {
   "cell_type": "markdown",
   "metadata": {},
   "source": [
    "### 비밀 이메일 2999"
   ]
  },
  {
   "cell_type": "code",
   "execution_count": 20,
   "metadata": {},
   "outputs": [
    {
     "name": "stdout",
     "output_type": "stream",
     "text": [
      "boudonuimilcbsai\n",
      "bombonisuuladici\n"
     ]
    }
   ],
   "source": [
    "from collections import deque\n",
    "\n",
    "ip = lambda: input()\n",
    "nip = lambda: int(input())\n",
    "nnip = lambda: map(int, input().split())\n",
    "lip = lambda: list(map(int, input().split()))\n",
    "gip = lambda n: [list(map(int, input().split())) for _ in range(n)]\n",
    "\n",
    "s = ip()\n",
    "n = len(s)\n",
    "\n",
    "r = 1\n",
    "for cr in range(1, n + 1):\n",
    "    if n % cr == 0 and cr <= n // cr:\n",
    "        r = cr\n",
    "        \n",
    "c = n // r\n",
    "\n",
    "deq = deque(s)\n",
    "li = [[''] * c for _ in range(r)] \n",
    "for j in range(c):\n",
    "    for i in range(r):\n",
    "        li[i][j] = deq.popleft()\n",
    "        \n",
    "result = ''\n",
    "for i in range(r):\n",
    "    for j in range(c):\n",
    "        result += li[i][j]\n",
    "        \n",
    "print(result)"
   ]
  },
  {
   "cell_type": "markdown",
   "metadata": {},
   "source": [
    "### 창영이의 일기장 2954"
   ]
  },
  {
   "cell_type": "code",
   "execution_count": 21,
   "metadata": {},
   "outputs": [
    {
     "name": "stdout",
     "output_type": "stream",
     "text": [
      "zepelepenapa papapripikapa\n",
      "zelena paprika\n"
     ]
    }
   ],
   "source": [
    "s = list(input())\n",
    "\n",
    "vs = {'a', 'e', 'i', 'o', 'u'}\n",
    "to_deletes = set()\n",
    "for i in range(len(s) - 1, -1, -1):\n",
    "    if s[i] in vs:\n",
    "        if i + 1 in to_deletes:\n",
    "            continue\n",
    "        else:\n",
    "            to_deletes.add(i - 1)\n",
    "            to_deletes.add(i)\n",
    "            \n",
    "r = ''\n",
    "for i in range(len(s)):\n",
    "    if i not in to_deletes:\n",
    "        r += s[i]\n",
    "        \n",
    "print(r)"
   ]
  },
  {
   "cell_type": "markdown",
   "metadata": {},
   "source": [
    "### 스캐너 3035"
   ]
  },
  {
   "cell_type": "code",
   "execution_count": 39,
   "metadata": {},
   "outputs": [
    {
     "name": "stdout",
     "output_type": "stream",
     "text": [
      "3 3 2 1\n",
      ".x.\n",
      "x.x\n",
      ".x.\n",
      ".x.\n",
      ".x.\n",
      "x.x\n",
      "x.x\n",
      ".x.\n",
      ".x.\n"
     ]
    }
   ],
   "source": [
    "nnip = lambda: map(int, input().split())\n",
    "\n",
    "r, c, zr, zc = nnip()\n",
    "li = [list(input()) for _ in range(r)]\n",
    "\n",
    "nli = []\n",
    "for v in li:\n",
    "    for _ in range(zr):\n",
    "        nli.append(v)\n",
    "        \n",
    "tli = list(zip(*nli))\n",
    "ntli = []\n",
    "for v in tli:\n",
    "    for _ in range(zc):\n",
    "        ntli.append(v)\n",
    "        \n",
    "result = list(zip(*ntli))\n",
    "result = [''.join(v) for v in result]\n",
    "print('\\n'.join(result))"
   ]
  },
  {
   "cell_type": "markdown",
   "metadata": {},
   "source": [
    "### 차량 번호판 1 16968"
   ]
  },
  {
   "cell_type": "code",
   "execution_count": 42,
   "metadata": {},
   "outputs": [
    {
     "name": "stdout",
     "output_type": "stream",
     "text": [
      "dcdd\n",
      "23400\n"
     ]
    }
   ],
   "source": [
    "s = input()\n",
    "\n",
    "total = 1\n",
    "for i in range(len(s)):\n",
    "    if i == 0:\n",
    "        if s[i] == 'd':\n",
    "            total *= 10\n",
    "        else:\n",
    "            total *= 26\n",
    "    else:\n",
    "        if s[i] == 'd':\n",
    "            if s[i - 1] == 'd':\n",
    "                total *= 9\n",
    "            else:\n",
    "                total *= 10\n",
    "        else:\n",
    "            if s[i - 1] == 'c':\n",
    "                total *= 25\n",
    "            else:\n",
    "                total *= 26\n",
    "                \n",
    "print(total)"
   ]
  },
  {
   "cell_type": "markdown",
   "metadata": {},
   "source": [
    "### 히든 넘버 8595"
   ]
  },
  {
   "cell_type": "code",
   "execution_count": 47,
   "metadata": {},
   "outputs": [
    {
     "name": "stdout",
     "output_type": "stream",
     "text": [
      "14\n",
      "ab13c9d07jeden\n",
      "29\n"
     ]
    }
   ],
   "source": [
    "n = int(input())\n",
    "s = input()\n",
    "\n",
    "total = 0\n",
    "temp = ''\n",
    "for v in s:\n",
    "    if v.isdigit():\n",
    "        temp += v\n",
    "    else:\n",
    "        if 1 <= len(temp) <= 6:\n",
    "            total += int(temp)\n",
    "        temp = ''\n",
    "        \n",
    "if 1 <= len(temp) <= 6:\n",
    "    total += int(temp)\n",
    "    \n",
    "print(total)"
   ]
  },
  {
   "cell_type": "markdown",
   "metadata": {},
   "source": [
    "### Starman 12791"
   ]
  },
  {
   "cell_type": "code",
   "execution_count": 51,
   "metadata": {},
   "outputs": [
    {
     "name": "stdout",
     "output_type": "stream",
     "text": [
      "3\n",
      "1973 1973\n",
      "2\n",
      "1973 AladdinSane\n",
      "1973 PinUps\n",
      "1977 1979\n",
      "3\n",
      "1977 Low\n",
      "1977 Heroes\n",
      "1979 Lodger\n",
      "2014 2015\n",
      "0\n"
     ]
    }
   ],
   "source": [
    "s = '''1967 DavidBowie\n",
    "1969 SpaceOddity\n",
    "1970 TheManWhoSoldTheWorld\n",
    "1971 HunkyDory\n",
    "1972 TheRiseAndFallOfZiggyStardustAndTheSpidersFromMars\n",
    "1973 AladdinSane\n",
    "1973 PinUps\n",
    "1974 DiamondDogs\n",
    "1975 YoungAmericans\n",
    "1976 StationToStation\n",
    "1977 Low\n",
    "1977 Heroes\n",
    "1979 Lodger\n",
    "1980 ScaryMonstersAndSuperCreeps\n",
    "1983 LetsDance\n",
    "1984 Tonight\n",
    "1987 NeverLetMeDown\n",
    "1993 BlackTieWhiteNoise\n",
    "1995 1.Outside\n",
    "1997 Earthling\n",
    "1999 Hours\n",
    "2002 Heathen\n",
    "2003 Reality\n",
    "2013 TheNextDay\n",
    "2016 BlackStar'''\n",
    "\n",
    "li = [v.split() for v in s.split('\\n')]\n",
    "for v in li:\n",
    "    v[0] = int(v[0])\n",
    "    \n",
    "for _ in range(int(input())):\n",
    "    s, e = map(int, input().split())\n",
    "    \n",
    "    result = []\n",
    "    for v in li:\n",
    "        if s <= v[0] <= e:\n",
    "            result.append(v)\n",
    "            \n",
    "    print(len(result))\n",
    "    for v in result:\n",
    "        print(*v)"
   ]
  },
  {
   "cell_type": "markdown",
   "metadata": {},
   "source": [
    "### 마술사 이민혁 3023"
   ]
  },
  {
   "cell_type": "code",
   "execution_count": 63,
   "metadata": {},
   "outputs": [
    {
     "name": "stdout",
     "output_type": "stream",
     "text": [
      "3 3\n",
      "###\n",
      "###\n",
      "###\n",
      "1 4\n",
      "###.##\n",
      "######\n",
      "######\n",
      "######\n",
      "######\n",
      "######\n"
     ]
    }
   ],
   "source": [
    "from copy import deepcopy\n",
    "\n",
    "r, c = map(int, input().split())\n",
    "li = [input() for _ in range(r)]\n",
    "a, b = map(int, input().split())\n",
    "\n",
    "nli = deepcopy(li)\n",
    "for i in range(r):\n",
    "    nli[i] = nli[i] + nli[i][::-1]\n",
    "    \n",
    "nli += reversed(nli)\n",
    "\n",
    "for i in range(len(nli)):\n",
    "    nli[i] = list(nli[i])\n",
    "\n",
    "if nli[a - 1][b - 1] == '#':\n",
    "    nli[a - 1][b - 1] = '.'\n",
    "else:\n",
    "    nli[a - 1][b - 1] = '#'\n",
    "    \n",
    "print('\\n'.join(''.join(v) for v in nli))"
   ]
  },
  {
   "cell_type": "markdown",
   "metadata": {},
   "source": [
    "### 단어순서 뒤집기 12605"
   ]
  },
  {
   "cell_type": "code",
   "execution_count": 65,
   "metadata": {},
   "outputs": [
    {
     "name": "stdout",
     "output_type": "stream",
     "text": [
      "1\n",
      "this is a test\n",
      "Case #1: test a is this\n"
     ]
    }
   ],
   "source": [
    "import sys\n",
    "input = lambda: sys.stdin.readline().rstrip()\n",
    "\n",
    "for t in range(int(input())):\n",
    "    li = input().split()\n",
    "    li.reverse()\n",
    "        \n",
    "    r = ' '.join(li)\n",
    "    print(f'Case #{t + 1}: {r}')"
   ]
  },
  {
   "cell_type": "code",
   "execution_count": 67,
   "metadata": {},
   "outputs": [
    {
     "name": "stdout",
     "output_type": "stream",
     "text": [
      "3\n",
      "Supercalifragilisticexpialidocious! Can you handle\n",
      "short\n",
      "lines?\n",
      "36\n"
     ]
    }
   ],
   "source": [
    "while True:\n",
    "    n = int(input())\n",
    "    if n == 0:\n",
    "        break\n",
    "    \n",
    "    sps = []\n",
    "    for _ in range(n):\n",
    "        s = input()\n",
    "\n",
    "        temp = []\n",
    "        for i in range(len(s)):\n",
    "            if s[i] == ' ':\n",
    "                temp.append(i)\n",
    "        temp.append(len(s))\n",
    "\n",
    "        sps.append(temp)\n",
    "\n",
    "    cur = 0\n",
    "    for v in sps:\n",
    "        for vv in v:\n",
    "            if cur <= vv:\n",
    "                cur = vv\n",
    "                break\n",
    "\n",
    "    print(cur + 1)"
   ]
  },
  {
   "cell_type": "markdown",
   "metadata": {},
   "source": [
    "### 희주의 수학시험 8974"
   ]
  },
  {
   "cell_type": "code",
   "execution_count": 82,
   "metadata": {},
   "outputs": [
    {
     "name": "stdout",
     "output_type": "stream",
     "text": [
      "50 50\n",
      "10\n"
     ]
    }
   ],
   "source": [
    "li = []\n",
    "for i in range(1, 46):\n",
    "    li.extend([i] * i)\n",
    "    \n",
    "a, b = map(int, input().split())\n",
    "a -= 1\n",
    "b -= 1\n",
    "\n",
    "print(sum(li[a:b + 1]))"
   ]
  },
  {
   "cell_type": "markdown",
   "metadata": {},
   "source": [
    "### CTP공국으로 이민 가자 12778"
   ]
  },
  {
   "cell_type": "code",
   "execution_count": 87,
   "metadata": {},
   "outputs": [
    {
     "name": "stdout",
     "output_type": "stream",
     "text": [
      "4 N\n",
      "9 14 8 1\n",
      "I N H A\n"
     ]
    }
   ],
   "source": [
    "for _ in range(int(input())):\n",
    "    m, tp = input().split()\n",
    "    m = int(m)\n",
    "\n",
    "    li = input().split()\n",
    "\n",
    "    if tp == 'C':\n",
    "        for i in range(m):\n",
    "            li[i] = ord(li[i]) - 64\n",
    "    else:\n",
    "        li = list(map(int, li))\n",
    "\n",
    "        for i in range(m):\n",
    "            li[i] = chr(li[i] + 64)\n",
    "\n",
    "    print(*li)"
   ]
  },
  {
   "cell_type": "markdown",
   "metadata": {},
   "source": [
    "### 디지털 티비 2816"
   ]
  },
  {
   "cell_type": "code",
   "execution_count": null,
   "metadata": {},
   "outputs": [],
   "source": [
    "# 일단 스킵\n",
    "n = int(input())\n",
    "li = [input() for _ in range(n)]\n",
    "\n",
    "result = ''\n",
    "for i in range(n):\n",
    "    if i == 0:\n",
    "        if li[i] == 'KBS2':\n",
    "            li[i], li[i + 1] = li[i + 1], li[i]\n",
    "            result += '3'\n",
    "        elif li[i] == 'KBS1':\n",
    "            break\n",
    "    else:\n",
    "        if li[i] != 'KBS1':\n",
    "            result += '1'\n",
    "        else:\n",
    "            "
   ]
  },
  {
   "cell_type": "markdown",
   "metadata": {},
   "source": [
    "### 뚊 11383"
   ]
  },
  {
   "cell_type": "code",
   "execution_count": 90,
   "metadata": {},
   "outputs": [
    {
     "name": "stdout",
     "output_type": "stream",
     "text": [
      "2 2\n",
      "AB\n",
      "CD\n",
      "AABB\n",
      "CCDD\n",
      "Eyfa\n"
     ]
    }
   ],
   "source": [
    "n, m = map(int, input().split())\n",
    "\n",
    "a = [input() for _ in range(n)]\n",
    "b = [input() for _ in range(n)]\n",
    "\n",
    "na = []\n",
    "for v in a:\n",
    "    nv = ''\n",
    "    for vv in v:\n",
    "        nv += vv * 2\n",
    "    na.append(nv)\n",
    "    \n",
    "if na == b:\n",
    "    print('Eyfa')\n",
    "else:\n",
    "    print('Not Eyfa')"
   ]
  },
  {
   "cell_type": "markdown",
   "metadata": {},
   "source": [
    "### 주디와 당근농장 16433"
   ]
  },
  {
   "cell_type": "code",
   "execution_count": 92,
   "metadata": {},
   "outputs": [
    {
     "name": "stdout",
     "output_type": "stream",
     "text": [
      "4 2 3\n",
      ".v.v\n",
      "v.v.\n",
      ".v.v\n",
      "v.v.\n"
     ]
    }
   ],
   "source": [
    "n, r, c = map(int, input().split())\n",
    "r -= 1\n",
    "c -= 1\n",
    "\n",
    "li = [[''] * n for _ in range(n)]\n",
    "\n",
    "if (r + c) % 2 == 1:\n",
    "    for i in range(n):\n",
    "        for j in range(n):\n",
    "            if (i + j) % 2 == 1:\n",
    "                li[i][j] = 'v'\n",
    "            else:\n",
    "                li[i][j] = '.'\n",
    "else:\n",
    "    for i in range(n):\n",
    "        for j in range(n):\n",
    "            if (i + j) % 2 == 1:\n",
    "                li[i][j] = '.'\n",
    "            else:\n",
    "                li[i][j] = 'v'\n",
    "                \n",
    "for v in li:\n",
    "    print(''.join(v))"
   ]
  },
  {
   "cell_type": "markdown",
   "metadata": {},
   "source": [
    "### 그림 비교 2160"
   ]
  },
  {
   "cell_type": "code",
   "execution_count": 93,
   "metadata": {},
   "outputs": [
    {
     "name": "stdout",
     "output_type": "stream",
     "text": [
      "3\n",
      "..X...\n",
      ".XXX...\n",
      ".XX....\n",
      ".....X.\n",
      ".X...X.\n",
      "...X...\n",
      "..XX...\n",
      ".XX....\n",
      ".XX..X.\n",
      ".X...X.\n",
      "XX.....\n",
      "X......\n",
      "XX...XX\n",
      "XXXX.XX\n",
      "XXX..XX\n",
      "1 2\n"
     ]
    }
   ],
   "source": [
    "n = int(input())\n",
    "li = [[input() for _ in range(5)] for _ in range(n)]\n",
    "\n",
    "def get_diff_count(a, b):\n",
    "    A = li[a]\n",
    "    B = li[b]\n",
    "    \n",
    "    dc = 0\n",
    "    for i in range(5):\n",
    "        for j in range(7):\n",
    "            if A[i][j] != B[i][j]:\n",
    "                dc += 1\n",
    "                \n",
    "    return dc\n",
    "\n",
    "mdc = float('inf') # min_diff_count\n",
    "result = [-1, -1]\n",
    "for i in range(n):\n",
    "    for j in range(i + 1, n):\n",
    "        dc = get_diff_count(i, j)\n",
    "        if dc < mdc:\n",
    "            mdc = dc\n",
    "            result = [i + 1, j + 1]\n",
    "            \n",
    "print(*result)"
   ]
  },
  {
   "cell_type": "markdown",
   "metadata": {},
   "source": [
    "### Fridge of Your Dreams 11104"
   ]
  },
  {
   "cell_type": "code",
   "execution_count": 96,
   "metadata": {},
   "outputs": [
    {
     "name": "stdout",
     "output_type": "stream",
     "text": [
      "1\n",
      "000000000001010101010101\n",
      "5461\n"
     ]
    }
   ],
   "source": [
    "n = int(input())\n",
    "for _ in range(n):\n",
    "    s = input()\n",
    "    \n",
    "    print(int(s, 2))"
   ]
  },
  {
   "cell_type": "markdown",
   "metadata": {},
   "source": [
    "### 謎紛芥索紀 (Small) 14730"
   ]
  },
  {
   "cell_type": "code",
   "execution_count": 97,
   "metadata": {},
   "outputs": [
    {
     "name": "stdout",
     "output_type": "stream",
     "text": [
      "3\n",
      "3 3\n",
      "2 2\n",
      "1 1\n",
      "14\n"
     ]
    }
   ],
   "source": [
    "n = int(input())\n",
    "\n",
    "total = 0\n",
    "for _ in range(n):\n",
    "    c, k = map(int, input().split())\n",
    "    total += c * k\n",
    "    \n",
    "print(total)"
   ]
  },
  {
   "cell_type": "markdown",
   "metadata": {},
   "source": [
    "### 귀여운 수~ε٩(๑> ₃ <)۶з 17294"
   ]
  },
  {
   "cell_type": "code",
   "execution_count": 99,
   "metadata": {},
   "outputs": [
    {
     "name": "stdout",
     "output_type": "stream",
     "text": [
      "630\n",
      "◝(⑅•ᴗ•⑅)◜..°♡ 뀌요미!!\n"
     ]
    }
   ],
   "source": [
    "li = list(map(int, input()))\n",
    "\n",
    "diffs = set()\n",
    "for i in range(len(li) - 1):\n",
    "    diffs.add(li[i] - li[i + 1])\n",
    "    \n",
    "if len(diffs) < 2:\n",
    "    print('◝(⑅•ᴗ•⑅)◜..°♡ 뀌요미!!')\n",
    "else:\n",
    "    print('흥칫뿡!! <(￣ ﹌ ￣)>')"
   ]
  },
  {
   "cell_type": "markdown",
   "metadata": {},
   "source": [
    "### 준오는 조류혐오야!! 14647"
   ]
  },
  {
   "cell_type": "code",
   "execution_count": 103,
   "metadata": {},
   "outputs": [
    {
     "name": "stdout",
     "output_type": "stream",
     "text": [
      "2\n"
     ]
    }
   ],
   "source": [
    "n, m = map(int, input().split())\n",
    "li = [input().split() for _ in range(n)]\n",
    "\n",
    "for i in range(n):\n",
    "    for j in range(m):\n",
    "        li[i][j] = li[i][j].count('9')\n",
    "    \n",
    "max_c9 = 0\n",
    "total = 0\n",
    "for i in range(n):\n",
    "    c9 = sum(li[i])\n",
    "    total += c9\n",
    "    max_c9 = max(max_c9, c9)\n",
    "        \n",
    "tli = list(zip(*li))\n",
    "for i in range(m):\n",
    "    c9 = sum(tli[i])\n",
    "    max_c9 = max(max_c9, c9)\n",
    "    \n",
    "print(total - max_c9)"
   ]
  }
 ],
 "metadata": {
  "kernelspec": {
   "display_name": "Python 3",
   "language": "python",
   "name": "python3"
  },
  "language_info": {
   "codemirror_mode": {
    "name": "ipython",
    "version": 3
   },
   "file_extension": ".py",
   "mimetype": "text/x-python",
   "name": "python",
   "nbconvert_exporter": "python",
   "pygments_lexer": "ipython3",
   "version": "3.7.3"
  }
 },
 "nbformat": 4,
 "nbformat_minor": 4
}
