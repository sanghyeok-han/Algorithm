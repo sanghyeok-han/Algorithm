{
 "cells": [
  {
   "cell_type": "markdown",
   "metadata": {},
   "source": [
    "https://www.acmicpc.net/problemset?sort=ac_desc&solvedac_option=xz%2Cxn&submit=pac%2Cfa%2Cus&tier=13"
   ]
  },
  {
   "cell_type": "markdown",
   "metadata": {},
   "source": [
    "### 소수의 연속합 1644"
   ]
  },
  {
   "cell_type": "code",
   "execution_count": 29,
   "metadata": {},
   "outputs": [
    {
     "name": "stdout",
     "output_type": "stream",
     "text": [
      "41\n",
      "3\n"
     ]
    }
   ],
   "source": [
    "max_num = 4000000\n",
    "\n",
    "ip = [True] * (max_num + 1)\n",
    "ip[0] = ip[1] = False\n",
    "\n",
    "for mod in range(2, int(max_num ** 0.5) + 1):\n",
    "    if ip[mod]:\n",
    "        for v in range(mod * mod, max_num + 1, mod):\n",
    "            ip[v] = False\n",
    "            \n",
    "primes = [i for i, v in enumerate(ip) if v]\n",
    "\n",
    "svs = [0] # sum values\n",
    "cumul = 0\n",
    "for v in primes:\n",
    "    cumul += v\n",
    "    svs.append(cumul)\n",
    "\n",
    "n = int(input())\n",
    "\n",
    "start = 0\n",
    "end = 1\n",
    "count = 0\n",
    "while start < end < len(svs):\n",
    "    diff = svs[end] - svs[start]\n",
    "    if diff == n:\n",
    "        count += 1\n",
    "        end += 1\n",
    "    elif diff < n:\n",
    "        end += 1\n",
    "    else:\n",
    "        start += 1\n",
    "    \n",
    "print(count)"
   ]
  },
  {
   "cell_type": "markdown",
   "metadata": {},
   "source": [
    "### K번째 수 1300"
   ]
  },
  {
   "cell_type": "code",
   "execution_count": 49,
   "metadata": {},
   "outputs": [
    {
     "name": "stdout",
     "output_type": "stream",
     "text": [
      "2\n",
      "2\n",
      "2\n"
     ]
    }
   ],
   "source": [
    "n = int(input())\n",
    "k = int(input())\n",
    "\n",
    "start = 1\n",
    "end = k\n",
    "result = float('inf')\n",
    "while start <= end:\n",
    "    mid = (start + end) // 2\n",
    "    \n",
    "    c = 0\n",
    "    for i in range(1, n + 1):\n",
    "        temp = mid // i\n",
    "        if mid % i == 0:\n",
    "            temp -= 1\n",
    "        temp = min(n, temp)\n",
    "        c += temp\n",
    "            \n",
    "    if c < k:\n",
    "        result = mid\n",
    "        start = mid + 1\n",
    "    else:\n",
    "        end = mid - 1\n",
    "        \n",
    "print(result)"
   ]
  },
  {
   "cell_type": "markdown",
   "metadata": {},
   "source": [
    "### 괄호 추가하기 16637"
   ]
  },
  {
   "cell_type": "code",
   "execution_count": 80,
   "metadata": {},
   "outputs": [
    {
     "name": "stdout",
     "output_type": "stream",
     "text": [
      "1\n",
      "4\n",
      "4\n"
     ]
    }
   ],
   "source": [
    "from itertools import combinations as comb\n",
    "\n",
    "n = int(input())\n",
    "s = input()\n",
    "\n",
    "li = list(range(0, n - 2, 2))\n",
    "li_len = len(li)\n",
    "\n",
    "cases = []\n",
    "for i in range(li_len + 1):\n",
    "    cases.extend(comb(li, i))\n",
    "\n",
    "def cond_check(case):\n",
    "    for i in range(len(case) - 1):\n",
    "        if case[i + 1] - case[i] == 2:\n",
    "            return False\n",
    "    return True\n",
    "\n",
    "max_value = -float('inf')\n",
    "for case in cases:\n",
    "    if not cond_check(case):\n",
    "        continue\n",
    "    case = set(case)\n",
    "\n",
    "    ns = ''\n",
    "    for i in range(n):\n",
    "        if i in case:\n",
    "            ns += '(' + s[i]\n",
    "        elif i - 2 in case:\n",
    "            ns += s[i] + ')'\n",
    "        else:\n",
    "            ns += s[i]\n",
    "\n",
    "    temp = ''\n",
    "    nns = ''\n",
    "    for v in ns:\n",
    "        if temp:\n",
    "            if v == ')':\n",
    "                temp += v\n",
    "                nns += '(' + str(eval(temp)) + ')'\n",
    "                temp = ''\n",
    "            else:\n",
    "                temp += v\n",
    "        else:\n",
    "            if v == '(':\n",
    "                temp += v\n",
    "            else:\n",
    "                nns += v\n",
    "                \n",
    "    op_ids = [-1]\n",
    "    op_types = {\"+\", \"-\", \"*\"}\n",
    "    for i in range(len(nns)):\n",
    "        if i - 1 >= 0 and nns[i - 1] == '(':\n",
    "            continue\n",
    "        if nns[i] in op_types:\n",
    "            op_ids.append(i)\n",
    "            \n",
    "    temp = []\n",
    "    ops = []\n",
    "    for i in range(1, len(op_ids)):\n",
    "        temp.append(nns[op_ids[i - 1] + 1:op_ids[i]])\n",
    "        ops.append(nns[op_ids[i]])\n",
    "    temp.append(nns[op_ids[-1] + 1:])\n",
    "    \n",
    "    cur = int(eval(temp[0]))\n",
    "    for i in range(len(ops)):\n",
    "        cur = eval(str(cur) + ops[i] + temp[i + 1])\n",
    "    \n",
    "    max_value = max(max_value, cur)\n",
    "\n",
    "print(max_value)"
   ]
  },
  {
   "cell_type": "markdown",
   "metadata": {},
   "source": [
    "### 원판 돌리기 17822"
   ]
  },
  {
   "cell_type": "code",
   "execution_count": 108,
   "metadata": {},
   "outputs": [
    {
     "name": "stdout",
     "output_type": "stream",
     "text": [
      "4 4 1\n",
      "1 1 2 3\n",
      "5 2 4 2\n",
      "3 1 3 5\n",
      "2 1 3 2\n",
      "2 0 1\n",
      "30\n"
     ]
    }
   ],
   "source": [
    "from collections import deque\n",
    "\n",
    "def delete():\n",
    "    def add_to_queue(nx, ny):\n",
    "        if li[nx][ny] != to_check:\n",
    "            return\n",
    "        if (nx, ny) in vt:\n",
    "            return\n",
    "        vt.add((nx, ny))\n",
    "        temp.append((nx, ny))\n",
    "        queue.append((nx, ny))\n",
    "\n",
    "    is_deleted = False\n",
    "    \n",
    "    for i in range(n):\n",
    "        for j in range(m):\n",
    "            if li[i][j] == 0:\n",
    "                continue\n",
    "            \n",
    "            vt = set()\n",
    "            vt.add((i, j))\n",
    "            \n",
    "            temp = [(i, j)]\n",
    "            queue = deque()\n",
    "            queue.append((i, j))\n",
    "            to_check = li[i][j]\n",
    "            while queue:\n",
    "                x, y = queue.popleft()\n",
    "                \n",
    "                if x >= 1:\n",
    "                    nx, ny = x - 1, y\n",
    "                    add_to_queue(nx, ny)\n",
    "                    \n",
    "                if x < n - 1:\n",
    "                    nx, ny = x + 1, y\n",
    "                    add_to_queue(nx, ny)\n",
    "                    \n",
    "                nx, ny = x, (y + 1) % m\n",
    "                add_to_queue(nx, ny)\n",
    "                \n",
    "                nx, ny = x, (y - 1) % m\n",
    "                add_to_queue(nx, ny)\n",
    "                \n",
    "            if len(temp) >= 2:\n",
    "                is_deleted = True\n",
    "                for x, y in temp:\n",
    "                    li[x][y] = 0\n",
    "\n",
    "    return is_deleted\n",
    "      \n",
    "def get_avg():\n",
    "    total = 0\n",
    "    count = 0\n",
    "    for i in range(n):\n",
    "        for j in range(m):\n",
    "            if li[i][j] >= 1:\n",
    "                count += 1\n",
    "                total += li[i][j]\n",
    "    \n",
    "    if count == 0:\n",
    "        return 0\n",
    "    else:\n",
    "        return total / count\n",
    "    \n",
    "def get_sum():\n",
    "    total = 0\n",
    "    for i in range(n):\n",
    "        total += sum(li[i])\n",
    "        \n",
    "    return total\n",
    "            \n",
    "\n",
    "n, m, t = map(int, input().split())\n",
    "li = [deque(map(int, input().split())) for _ in range(n)]\n",
    "\n",
    "# n, m, t = 4, 6, 3\n",
    "# s = '''1 2 3 4 5 6\n",
    "# 2 3 4 5 6 7\n",
    "# 3 4 5 6 7 8\n",
    "# 4 5 6 7 8 9'''\n",
    "# li = [deque(map(int, v.split())) for v in s.split('\\n')]\n",
    "\n",
    "for _ in range(t):\n",
    "    x, d, k = map(int, input().split())\n",
    "    \n",
    "    for i in range(x, n + 1, x):\n",
    "        if d == 0:\n",
    "            li[i - 1].rotate(k)\n",
    "        else:\n",
    "            li[i - 1].rotate(-k)\n",
    "            \n",
    "#     for v in li:\n",
    "#         print(*v)\n",
    "            \n",
    "    if not delete():\n",
    "        avg = get_avg()\n",
    "        for i in range(n):\n",
    "            for j in range(m):\n",
    "                if li[i][j]:\n",
    "                    if li[i][j] > avg:\n",
    "                        li[i][j] -= 1\n",
    "                    elif li[i][j] < avg:\n",
    "                        li[i][j] += 1\n",
    "#     print()                 \n",
    "#     for v in li:\n",
    "#         print(*v)\n",
    "    \n",
    "print(get_sum())"
   ]
  },
  {
   "cell_type": "markdown",
   "metadata": {},
   "source": [
    "### 두 배열의 합 2143"
   ]
  },
  {
   "cell_type": "code",
   "execution_count": 125,
   "metadata": {},
   "outputs": [
    {
     "name": "stdout",
     "output_type": "stream",
     "text": [
      "11 1 4 2 1\n",
      "11 4 1 2 1\n",
      "11 3 2 2 1\n",
      "11 2 3 1 1\n",
      "7\n"
     ]
    }
   ],
   "source": [
    "t = int(input())\n",
    "n = int(input())\n",
    "a = list(map(int, input().split()))\n",
    "m = int(input())\n",
    "b = list(map(int, input().split()))\n",
    "\n",
    "sa = [0]\n",
    "cumul = 0\n",
    "for i in range(n):\n",
    "    cumul += a[i]\n",
    "    sa.append(cumul)\n",
    "\n",
    "sb = [0]\n",
    "cumul = 0\n",
    "for i in range(m):\n",
    "    cumul += b[i]\n",
    "    sb.append(cumul)\n",
    "\n",
    "ca = dict()\n",
    "for i in range(n):\n",
    "    for j in range(i + 1, n + 1):\n",
    "        s = sa[j] - sa[i]\n",
    "        if s not in ca:\n",
    "            ca[s] = 1\n",
    "        else:\n",
    "            ca[s] += 1\n",
    "            \n",
    "cb = dict()\n",
    "for i in range(m):\n",
    "    for j in range(i + 1, m + 1):\n",
    "        s = sb[j] - sb[i]\n",
    "        if s not in cb:\n",
    "            cb[s] = 1\n",
    "        else:\n",
    "            cb[s] += 1\n",
    "            \n",
    "total = 0\n",
    "for ak in ca.keys():\n",
    "    bk = t - ak\n",
    "    if bk in cb:\n",
    "        total += ca[ak] * cb[bk]\n",
    "        \n",
    "print(total)"
   ]
  },
  {
   "cell_type": "code",
   "execution_count": 135,
   "metadata": {},
   "outputs": [
    {
     "name": "stdout",
     "output_type": "stream",
     "text": [
      "5\n",
      "4\n",
      "1 3 1 2\n",
      "3\n",
      "1 3 2\n",
      "7\n"
     ]
    }
   ],
   "source": [
    "from bisect import bisect_left, bisect\n",
    "\n",
    "t = int(input())\n",
    "n = int(input())\n",
    "a = list(map(int, input().split()))\n",
    "m = int(input())\n",
    "b = list(map(int, input().split()))\n",
    "\n",
    "sa = [0]\n",
    "cumul = 0\n",
    "for i in range(n):\n",
    "    cumul += a[i]\n",
    "    sa.append(cumul)\n",
    "\n",
    "sb = [0]\n",
    "cumul = 0\n",
    "for i in range(m):\n",
    "    cumul += b[i]\n",
    "    sb.append(cumul)\n",
    "    \n",
    "a_temp = []\n",
    "for i in range(n):\n",
    "    for j in range(i + 1, n + 1):\n",
    "        s = sa[j] - sa[i]\n",
    "        a_temp.append(s)\n",
    "        \n",
    "a_temp.sort()\n",
    "total = 0\n",
    "for i in range(m):\n",
    "    for j in range(i + 1, m + 1):\n",
    "        s = sb[j] - sb[i]\n",
    "        f = t - s\n",
    "        \n",
    "        total += bisect(a_temp, f) - bisect_left(a_temp, f)\n",
    "        \n",
    "print(total)"
   ]
  },
  {
   "cell_type": "code",
   "execution_count": 136,
   "metadata": {},
   "outputs": [
    {
     "name": "stdout",
     "output_type": "stream",
     "text": [
      "5\n",
      "4\n",
      "1 3 1 2\n",
      "3\n",
      "1 3 2\n",
      "7\n"
     ]
    }
   ],
   "source": [
    "t = int(input())\n",
    "n = int(input())\n",
    "a = list(map(int, input().split()))\n",
    "m = int(input())\n",
    "b = list(map(int, input().split()))\n",
    "\n",
    "sa = [0]\n",
    "cumul = 0\n",
    "for i in range(n):\n",
    "    cumul += a[i]\n",
    "    sa.append(cumul)\n",
    "\n",
    "sb = [0]\n",
    "cumul = 0\n",
    "for i in range(m):\n",
    "    cumul += b[i]\n",
    "    sb.append(cumul)\n",
    "\n",
    "ca = dict()\n",
    "for i in range(n):\n",
    "    for j in range(i + 1, n + 1):\n",
    "        s = sa[j] - sa[i]\n",
    "        if s not in ca:\n",
    "            ca[s] = 1\n",
    "        else:\n",
    "            ca[s] += 1\n",
    "            \n",
    "total = 0\n",
    "for i in range(m):\n",
    "    for j in range(i + 1, m + 1):\n",
    "        s = sb[j] - sb[i]\n",
    "        f = t - s\n",
    "        \n",
    "        if f in ca:\n",
    "            total += ca[f]\n",
    "        \n",
    "print(total)"
   ]
  },
  {
   "cell_type": "markdown",
   "metadata": {},
   "source": [
    "### 피보나치 수 6 11444"
   ]
  },
  {
   "cell_type": "code",
   "execution_count": 168,
   "metadata": {},
   "outputs": [
    {
     "name": "stdout",
     "output_type": "stream",
     "text": [
      "1000\n",
      "517691607\n"
     ]
    }
   ],
   "source": [
    "fibo = [0, 1, 1, 2, 3, 5, 8, 13, 21, 34, 55]\n",
    "mod = 1000000007\n",
    "dp = {i: v for i, v in enumerate(fibo)}\n",
    "\n",
    "def recur(n):\n",
    "    if n in dp:\n",
    "        return dp[n]\n",
    "    \n",
    "    nn = n // 2\n",
    "    if n % 2 == 0:\n",
    "        x = recur(nn - 1) % mod\n",
    "        y = recur(nn) % mod\n",
    "        result = (x * y + y * (x + y)) % mod\n",
    "        dp[n] = result\n",
    "        return result\n",
    "    else:\n",
    "        x = recur(nn) % mod\n",
    "        y = recur(nn + 1) % mod\n",
    "        result = (x ** 2 + y ** 2) % mod\n",
    "        dp[n] = result\n",
    "        return result\n",
    "    \n",
    "n = int(input())\n",
    "\n",
    "print(recur(n))"
   ]
  },
  {
   "cell_type": "markdown",
   "metadata": {},
   "source": [
    "### 카드 게임 11062"
   ]
  },
  {
   "cell_type": "code",
   "execution_count": 192,
   "metadata": {},
   "outputs": [
    {
     "name": "stdout",
     "output_type": "stream",
     "text": [
      "1\n",
      "5\n",
      "1 1 90 40 10\n",
      "42\n"
     ]
    }
   ],
   "source": [
    "# 그리디 방식 실패\n",
    "from collections import deque\n",
    "\n",
    "for _ in range(int(input())):\n",
    "    n = int(input())\n",
    "    deq = deque(map(int, input().split()))\n",
    "\n",
    "    turn = 0\n",
    "    scs = [0, 0] # scores = [근우 총점, 명우 총점]\n",
    "\n",
    "    while len(deq) >= 4:\n",
    "        t1 = deq[0] - (max(deq[1], deq[-1]))\n",
    "        t2 = deq[-1] - (max(deq[0], deq[-2]))\n",
    "\n",
    "        if t1 > t2:\n",
    "            scs[turn] += deq.popleft()\n",
    "        else:\n",
    "            scs[turn] += deq.pop()\n",
    "        turn ^= 1\n",
    "\n",
    "    while deq:\n",
    "        if deq[0] > deq[-1]:\n",
    "            scs[turn] += deq.popleft()\n",
    "        else:\n",
    "            scs[turn] += deq.pop()\n",
    "        turn ^= 1\n",
    "\n",
    "    print(scs[0])"
   ]
  },
  {
   "cell_type": "code",
   "execution_count": 194,
   "metadata": {},
   "outputs": [
    {
     "name": "stdout",
     "output_type": "stream",
     "text": [
      "5\n",
      "1 1 90 40 10\n",
      "140\n"
     ]
    }
   ],
   "source": [
    "# 접근이 잘못되었음\n",
    "dp_a = [[-1] * n for _ in range(n)] # 카드를 i부터 j까지 사용했을 때 근우 점수의 최댓값\n",
    "dp_b = [[-1] * n for _ in range(n)] # 카드를 i부터 j까지 사용했을 때 명우 점수의 최댓값\n",
    "\n",
    "def recur(s, e, turn):\n",
    "    if dp_a[s][e] != -1:\n",
    "        return\n",
    "    \n",
    "    if s == e:\n",
    "        if turn == 0:\n",
    "            dp_a[s][s] = li[s]\n",
    "            dp_b[s][s] = 0\n",
    "        else:\n",
    "            dp_a[s][s] = 0\n",
    "            dp_b[s][s] = li[s]\n",
    "        return\n",
    "    \n",
    "    recur(s + 1, e, turn ^ 1)\n",
    "    recur(s, e - 1, turn ^ 1)\n",
    "    \n",
    "    # 근우의 차례인 경우\n",
    "    if turn == 0:\n",
    "        dp_a[s][e] = max(dp_a[s + 1][e] + li[s], dp_a[s][e - 1] + li[e])\n",
    "        dp_b[s][e] = max(dp_b[s + 1][e], dp_b[s][e - 1])\n",
    "    else:\n",
    "        dp_a[s][e] = max(dp_a[s + 1][e], dp_a[s][e - 1])\n",
    "        dp_b[s][e] = max(dp_b[s + 1][e] + li[s], dp_b[s][e - 1] + li[e])       \n",
    "\n",
    "\n",
    "n = int(input())\n",
    "li = list(map(int, input().split()))\n",
    "        \n",
    "recur(0, n - 1, 0)\n",
    "\n",
    "print(dp_a[0][n - 1])"
   ]
  },
  {
   "cell_type": "code",
   "execution_count": 207,
   "metadata": {},
   "outputs": [
    {
     "name": "stdout",
     "output_type": "stream",
     "text": [
      "5\n",
      "1 1 90 40 10\n",
      "51\n"
     ]
    }
   ],
   "source": [
    "# 맞았음\n",
    "import sys\n",
    "input = lambda: sys.stdin.readline().rstrip()\n",
    "\n",
    "def recur(s, e, turn):\n",
    "    if dp_a[s][e] != -1:\n",
    "        return\n",
    "    \n",
    "    if s == e:\n",
    "        if turn == 0:\n",
    "            dp_a[s][s] = li[s]\n",
    "            dp_b[s][s] = 0\n",
    "        else:\n",
    "            dp_a[s][s] = 0\n",
    "            dp_b[s][s] = li[s]\n",
    "        return\n",
    "    \n",
    "    recur(s + 1, e, turn ^ 1)\n",
    "    recur(s, e - 1, turn ^ 1)\n",
    "    \n",
    "    # 근우의 차례인 경우\n",
    "    if turn == 0:\n",
    "        t1 = dp_a[s + 1][e] + li[s]\n",
    "        t2 = dp_a[s][e - 1] + li[e]\n",
    "        \n",
    "        if t1 > t2:\n",
    "            dp_a[s][e] = t1\n",
    "            dp_b[s][e] = dp_b[s + 1][e]\n",
    "        else:\n",
    "            dp_a[s][e] = t2\n",
    "            dp_b[s][e] = dp_b[s][e - 1]\n",
    "    else:\n",
    "        t1 = dp_b[s + 1][e] + li[s]\n",
    "        t2 = dp_b[s][e - 1] + li[e]        \n",
    "        \n",
    "        if t1 > t2:\n",
    "            dp_b[s][e] = t1\n",
    "            dp_a[s][e] = dp_a[s + 1][e]\n",
    "        else:\n",
    "            dp_b[s][e] = t2\n",
    "            dp_a[s][e] = dp_a[s][e - 1]      \n",
    "\n",
    "for _ in range(int(input())):\n",
    "    n = int(input())\n",
    "    li = list(map(int, input().split()))\n",
    "\n",
    "    dp_a = [[-1] * n for _ in range(n)] # 카드를 i부터 j까지 사용했을 때 근우 점수의 최댓값\n",
    "    dp_b = [[-1] * n for _ in range(n)] # 카드를 i부터 j까지 사용했을 때 명우 점수의 최댓값\n",
    "    \n",
    "    recur(0, n - 1, 0)\n",
    "\n",
    "    print(dp_a[0][n - 1])"
   ]
  },
  {
   "cell_type": "code",
   "execution_count": 208,
   "metadata": {},
   "outputs": [
    {
     "name": "stdout",
     "output_type": "stream",
     "text": [
      "1\n",
      "4\n",
      "1 2 5 2\n",
      "6\n"
     ]
    }
   ],
   "source": [
    "import sys\n",
    "# input = lambda: sys.stdin.readline().rstrip()\n",
    "\n",
    "def recur(s, e, cur):\n",
    "    other = cur ^ 1\n",
    "    \n",
    "    if dp[cur][s][e] != -1:\n",
    "        return\n",
    "    \n",
    "    recur(s + 1, e, other)\n",
    "    recur(s, e - 1, other)\n",
    "    \n",
    "    t1 = dp[cur][s + 1][e] + li[s]\n",
    "    t2 = dp[cur][s][e - 1] + li[e]\n",
    "\n",
    "    if t1 > t2:\n",
    "        dp[cur][s][e] = t1\n",
    "        dp[other][s][e] = dp[other][s + 1][e]\n",
    "    else:\n",
    "        dp[cur][s][e] = t2\n",
    "        dp[other][s][e] = dp[other][s][e - 1]\n",
    "\n",
    "for _ in range(int(input())):\n",
    "    n = int(input())\n",
    "    li = list(map(int, input().split()))\n",
    "\n",
    "    dp = [[[-1] * n for _ in range(n)] for _ in range(2)] # dp[0: 근우, 1: 명우][i][j] = 카드를 i부터 j까지 사용했을 때 해당 사람 점수의 최댓값\n",
    "    \n",
    "    remained = n % 2\n",
    "    for i in range(n):\n",
    "        dp[remained ^ 1][i][i] = li[i]\n",
    "        dp[remained][i][i] = 0\n",
    "    \n",
    "    recur(0, n - 1, 0)\n",
    "\n",
    "    print(dp[0][0][n - 1])"
   ]
  },
  {
   "cell_type": "markdown",
   "metadata": {},
   "source": [
    "### 궁금한 민호 1507"
   ]
  },
  {
   "cell_type": "code",
   "execution_count": 227,
   "metadata": {},
   "outputs": [
    {
     "name": "stdout",
     "output_type": "stream",
     "text": [
      "3\n",
      "0 2 2\n",
      "2 0 2\n",
      "2 2 0\n",
      "69\n"
     ]
    }
   ],
   "source": [
    "def check():\n",
    "    et = [[True] * n for _ in range(n)] # existance\n",
    "    for i in range(n):\n",
    "        et[i][i] = False\n",
    "\n",
    "    for mid in range(n):\n",
    "        for i in range(n):\n",
    "            for j in range(n):\n",
    "                if len({mid, i, j}) < 3:\n",
    "                    continue\n",
    "                temp = li[i][mid] + li[mid][j]\n",
    "                if temp == li[i][j]:\n",
    "                    et[i][j] = False\n",
    "                if temp < li[i][j]:\n",
    "                    return -1\n",
    "\n",
    "    total = 0\n",
    "    for i in range(n):\n",
    "        for j in range(i + 1, n):\n",
    "            if et[i][j]:\n",
    "                total += li[i][j]\n",
    "                \n",
    "    return total\n",
    "\n",
    "n = int(input())\n",
    "li = [list(map(int, input().split())) for _ in range(n)]\n",
    "\n",
    "n = 8\n",
    "s = '''0 1 6 17 26 13 7 16\n",
    "1 0 5 16 25 12 7 15\n",
    "6 5 0 21 21 8 12 11\n",
    "17 16 21 0 41 28 23 31\n",
    "26 25 21 41 0 13 32 10\n",
    "13 12 8 28 13 0 19 3\n",
    "7 7 12 23 32 19 0 22\n",
    "16 15 11 31 10 3 22 0'''\n",
    "li = [list(map(int, v.split())) for v in s.split('\\n')]\n",
    "\n",
    "print(check())"
   ]
  },
  {
   "cell_type": "markdown",
   "metadata": {},
   "source": [
    "### 버블 소트 1377"
   ]
  },
  {
   "cell_type": "code",
   "execution_count": 245,
   "metadata": {},
   "outputs": [
    {
     "name": "stdout",
     "output_type": "stream",
     "text": [
      "5\n",
      "4\n",
      "1\n",
      "8\n",
      "3\n",
      "2\n",
      "1 1\n",
      "1 2\n",
      "1 3\n",
      "1 4\n",
      "0 1 4 3 2 8\n",
      "2 1\n",
      "2 2\n",
      "2 3\n",
      "0 1 3 2 4 8\n",
      "3 1\n",
      "3 2\n",
      "0 1 2 3 4 8\n",
      "4 1\n",
      "4\n"
     ]
    }
   ],
   "source": [
    "n = int(input())\n",
    "oa = [0] + [int(input()) for _ in range(n)]\n",
    "\n",
    "a = oa.copy()\n",
    "for i in range(1, n + 2):\n",
    "    is_changed = False\n",
    "    for j in range(1, n - i + 1):\n",
    "        print(i, j)\n",
    "        if a[j] > a[j + 1]:\n",
    "            is_changed = True\n",
    "            a[j], a[j + 1] = a[j + 1], a[j]\n",
    "    if not is_changed:\n",
    "        print(i)\n",
    "        break\n",
    "    print(*a)"
   ]
  },
  {
   "cell_type": "code",
   "execution_count": 3,
   "metadata": {},
   "outputs": [
    {
     "name": "stdout",
     "output_type": "stream",
     "text": [
      "5\n",
      "1\n",
      "3\n",
      "5\n",
      "7\n",
      "9\n",
      "1\n"
     ]
    }
   ],
   "source": [
    "import sys\n",
    "input = lambda: sys.stdin.readline().rstrip()\n",
    "\n",
    "n = int(input())\n",
    "a = sorted((int(input()), i) for i in range(n))\n",
    "\n",
    "max_value = 0\n",
    "for t, (v, f) in enumerate(a):\n",
    "     max_value = max(max_value, f - t)\n",
    "        \n",
    "print(max_value + 1)"
   ]
  },
  {
   "cell_type": "markdown",
   "metadata": {},
   "source": [
    "### 컬러볼 10800"
   ]
  },
  {
   "cell_type": "code",
   "execution_count": 23,
   "metadata": {},
   "outputs": [
    {
     "name": "stdout",
     "output_type": "stream",
     "text": [
      "4\n",
      "1 10\n",
      "3 15\n",
      "1 3\n",
      "4 8\n",
      "8\n",
      "21\n",
      "0\n",
      "3\n"
     ]
    }
   ],
   "source": [
    "from collections import defaultdict as dd\n",
    "from bisect import bisect_left\n",
    "import sys\n",
    "input = lambda: sys.stdin.readline().rstrip()\n",
    "\n",
    "n = int(input())\n",
    "\n",
    "sc = dd(int) # size counts\n",
    "sbc = dd(list) # sizes by color\n",
    "li = []\n",
    "for i in range(n):\n",
    "    c, s = map(int, input().split())\n",
    "    \n",
    "    sbc[c].append(s)\n",
    "    sc[s] += 1\n",
    "    li.append((c, s))\n",
    "    \n",
    "sizes = sorted(sc.keys())\n",
    "can_eat = dict()\n",
    "\n",
    "cumul = 0\n",
    "for v in sizes:\n",
    "    can_eat[v] = cumul\n",
    "    cumul += v * sc[v]\n",
    "    \n",
    "ssbe = dd(list) # prefix sum sizes by color\n",
    "for c in sbc.keys():\n",
    "    sbc[c].sort()\n",
    "    \n",
    "    cumul = 0\n",
    "    ssbe[c].append(0)\n",
    "    for s in sbc[c]:\n",
    "        cumul += s\n",
    "        ssbe[c].append(cumul)\n",
    "    \n",
    "for c, s in li:\n",
    "    print(can_eat[s] - ssbe[c][bisect_left(sbc[c], s)])"
   ]
  },
  {
   "cell_type": "markdown",
   "metadata": {},
   "source": [
    "### 교환 1039"
   ]
  },
  {
   "cell_type": "code",
   "execution_count": 16,
   "metadata": {},
   "outputs": [
    {
     "name": "stdout",
     "output_type": "stream",
     "text": [
      "1001 3\n",
      "1100\n"
     ]
    }
   ],
   "source": [
    "from itertools import combinations as comb\n",
    "from collections import deque\n",
    "\n",
    "n, k = input().split()\n",
    "k = int(k)\n",
    "\n",
    "def solve():\n",
    "    li = list(map(int, n))\n",
    "    sli = sorted(li)\n",
    "    li_len = len(li)\n",
    "    \n",
    "    if li_len == 1 or (li.count(0) == li_len - 1 and li_len == 2):\n",
    "        return -1\n",
    "    else:\n",
    "        cases = list(comb(range(li_len), 2))\n",
    "        \n",
    "        if len(set(li)) == li_len:\n",
    "            vt = [set(), set()]\n",
    "            vt[0].add(tuple(li))\n",
    "        \n",
    "            queue = deque()\n",
    "            queue.append((li, 0))\n",
    "            while queue:\n",
    "                value, c = queue.popleft()\n",
    "                if c == k:\n",
    "                    continue\n",
    "                nc = c + 1\n",
    "                    \n",
    "                for a, b in cases:\n",
    "                    v = value.copy()\n",
    "                    v[a], v[b] = v[b], v[a]\n",
    "                    if v[0] == 0:\n",
    "                        continue\n",
    "                    v_tp = tuple(v)\n",
    "                    if v_tp not in vt[nc % 2]:\n",
    "                        vt[nc % 2].add(v_tp)\n",
    "                        queue.append((v, nc))\n",
    "                \n",
    "            mxv = 0 # max value\n",
    "            for v in vt[k % 2]:\n",
    "                mxv = max(mxv, int(''.join(map(str, v))))\n",
    "                \n",
    "            return mxv\n",
    "        else:\n",
    "            vt = set()\n",
    "            vt.add(tuple(li))\n",
    "            \n",
    "            queue = deque()\n",
    "            queue.append((li, 0))\n",
    "            while queue:\n",
    "                value, c = queue.popleft()\n",
    "                if c == k:\n",
    "                    continue\n",
    "                nc = c + 1\n",
    "                    \n",
    "                for a, b in cases:\n",
    "                    v = value.copy()\n",
    "                    v[a], v[b] = v[b], v[a]\n",
    "                    if v[0] == 0:\n",
    "                        continue\n",
    "                    v_tp = tuple(v)\n",
    "                    if v_tp not in vt:\n",
    "                        vt.add(v_tp)\n",
    "                        queue.append((v, nc))\n",
    "                        \n",
    "            mxv = 0 # max value\n",
    "            for v in vt:\n",
    "                mxv = max(mxv, int(''.join(map(str, v))))\n",
    "                \n",
    "            return mxv\n",
    "    \n",
    "print(solve())"
   ]
  }
 ],
 "metadata": {
  "kernelspec": {
   "display_name": "Python 3",
   "language": "python",
   "name": "python3"
  },
  "language_info": {
   "codemirror_mode": {
    "name": "ipython",
    "version": 3
   },
   "file_extension": ".py",
   "mimetype": "text/x-python",
   "name": "python",
   "nbconvert_exporter": "python",
   "pygments_lexer": "ipython3",
   "version": "3.7.3"
  }
 },
 "nbformat": 4,
 "nbformat_minor": 4
}
