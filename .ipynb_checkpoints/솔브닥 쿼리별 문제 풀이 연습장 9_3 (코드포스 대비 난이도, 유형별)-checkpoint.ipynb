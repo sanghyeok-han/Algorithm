{
 "cells": [
  {
   "cell_type": "code",
   "execution_count": null,
   "metadata": {},
   "outputs": [],
   "source": [
    "greedy binary_search dp math(정수론, 조합론 포함) constructive brute_force bitmasks graphs(탐색)"
   ]
  },
  {
   "cell_type": "code",
   "execution_count": null,
   "metadata": {},
   "outputs": [],
   "source": [
    "그리디, 이분/삼분 탐색, dp(dp_tree 포함), 수학(정수론, 조합론 포함),\n",
    "구성적, 브루트포스, 비트마스킹, 그래프 탐색\n",
    "\n",
    "이것들을 전부 골드1을 쉽게 풀 수 있을 정도 되면 퍼플을 못다는게 오히려 이상함"
   ]
  },
  {
   "cell_type": "markdown",
   "metadata": {},
   "source": [
    "tier:g4..g3 tag:dp - solved_by:hsh8086"
   ]
  },
  {
   "cell_type": "markdown",
   "metadata": {},
   "source": [
    "### 유전자 2306 (다시 풀음)"
   ]
  },
  {
   "cell_type": "code",
   "execution_count": 4,
   "metadata": {},
   "outputs": [
    {
     "name": "stdout",
     "output_type": "stream",
     "text": [
      "aattgatc\n",
      "8\n"
     ]
    }
   ],
   "source": [
    "s = input()\n",
    "n = len(s)\n",
    "\n",
    "dp = [[0] * n for _ in range(n)]\n",
    "for term in range(1, n):\n",
    "    for start in range(n - term):\n",
    "        end = start + term\n",
    "        \n",
    "        if term == 1:\n",
    "            if s[start] == 'a' and s[end] == 't' or s[start] == 'g' and s[end] == 'c':\n",
    "                dp[start][end] = 2\n",
    "        else:\n",
    "            for mid in range(start, end):\n",
    "                dp[start][end] = max(dp[start][end], dp[start][mid] + dp[mid + 1][end])\n",
    "            if s[start] == 'a' and s[end] == 't' or s[start] == 'g' and s[end] == 'c':\n",
    "                dp[start][end] = max(dp[start][end], dp[start + 1][end - 1] + 2)            \n",
    "                \n",
    "print(dp[0][n - 1])"
   ]
  },
  {
   "cell_type": "markdown",
   "metadata": {},
   "source": [
    "### 기업투자 2662"
   ]
  },
  {
   "cell_type": "code",
   "execution_count": 82,
   "metadata": {},
   "outputs": [
    {
     "name": "stdout",
     "output_type": "stream",
     "text": [
      "4 2\n",
      "1 5 1\n",
      "2 6 5\n",
      "3 7 9\n",
      "4 10 15\n",
      "15\n",
      "0 4\n"
     ]
    }
   ],
   "source": [
    "n, m = map(int, input().split())\n",
    "li = [list(map(int, input().split())) for _ in range(n)]\n",
    "\n",
    "nli = []\n",
    "for j in range(1, m + 1):\n",
    "    temp = []\n",
    "    for i in range(n):\n",
    "        temp.append(li[i][j])\n",
    "    nli.append(temp)\n",
    "\n",
    "dp = [[0] * (n + 1) for _ in range(m + 1)]\n",
    "used = [[0] * (n + 1) for _ in range(m)]\n",
    "for cn in range(m):\n",
    "    dp[cn + 1] = dp[cn].copy()\n",
    "    for temp_used_p in range(n):\n",
    "        used_p = temp_used_p + 1\n",
    "        for new_p in range(used_p, n + 1):\n",
    "            old_p = new_p - used_p\n",
    "            \n",
    "            if  dp[cn][old_p] + nli[cn][temp_used_p] > dp[cn + 1][new_p]:\n",
    "                dp[cn + 1][new_p] = dp[cn][old_p] + nli[cn][temp_used_p]\n",
    "                used[cn][new_p] = used_p\n",
    "    \n",
    "invested = [0] * m\n",
    "cur = n\n",
    "for i in range(m, 0, -1):\n",
    "    invested[i - 1] = used[i - 1][cur]\n",
    "    cur -= invested[i - 1]\n",
    "    \n",
    "print(dp[-1][-1])\n",
    "print(*invested)"
   ]
  },
  {
   "cell_type": "markdown",
   "metadata": {},
   "source": [
    "### 서울에서 경산까지 14863"
   ]
  },
  {
   "cell_type": "code",
   "execution_count": null,
   "metadata": {},
   "outputs": [],
   "source": [
    "n, k = map(int, input().split())\n",
    "\n",
    "li = [list(map(int, input().split())) for _ in range(n)]\n",
    "dp = [[-1] * (k + 1) for _ in range(n + 1)]\n",
    "dp[0][0] = 0\n",
    "\n",
    "for i in range(n):\n",
    "    for j in range(li[i][0], k + 1):\n",
    "        if dp[i][j - li[i][0]] != -1:\n",
    "            dp[i + 1][j] = max(dp[i + 1][j], dp[i][j - li[i][0]] + li[i][1])\n",
    "    for j in range(li[i][2], k + 1):\n",
    "        if dp[i][j - li[i][2]] != -1:\n",
    "            dp[i + 1][j] = max(dp[i + 1][j], dp[i][j - li[i][2]] + li[i][3])\n",
    "\n",
    "print(max(dp[-1]))"
   ]
  },
  {
   "cell_type": "markdown",
   "metadata": {},
   "source": [
    "### 미로 탈출하기 17090"
   ]
  },
  {
   "cell_type": "code",
   "execution_count": 13,
   "metadata": {},
   "outputs": [
    {
     "name": "stdout",
     "output_type": "stream",
     "text": [
      "9\n"
     ]
    }
   ],
   "source": [
    "def move(x, y):\n",
    "    if li[x][y] == 'U':\n",
    "        return x - 1, y\n",
    "    elif li[x][y] == 'D':\n",
    "        return x + 1, y\n",
    "    elif li[x][y] == 'L':\n",
    "        return x, y - 1\n",
    "    else:\n",
    "        return x, y + 1\n",
    "\n",
    "n, m = map(int, input().split())\n",
    "li = [input() for _ in range(n)]\n",
    "\n",
    "vt = [[False] * m for _ in range(n)]\n",
    "is_cycled = [[False] * m for _ in range(n)]\n",
    "\n",
    "for sx in range(n):\n",
    "    for sy in range(m):\n",
    "        if vt[sx][sy]:\n",
    "            continue\n",
    "        vt[sx][sy] = True\n",
    "        \n",
    "        st = set()\n",
    "        st.add((sx, sy))\n",
    "        \n",
    "        x, y = sx, sy\n",
    "        while True:\n",
    "            x, y = move(x, y)\n",
    "            if x < 0 or x >= n or y < 0 or y >= m:\n",
    "                break\n",
    "            if vt[x][y]:\n",
    "                if is_cycled[x][y] or (x, y) in st:\n",
    "                    while st:\n",
    "                        xx, yy = st.pop()\n",
    "                        is_cycled[xx][yy] = True\n",
    "                break\n",
    "            vt[x][y] = True\n",
    "            st.add((x, y))\n",
    "        \n",
    "r = n * m - sum(sum(is_cycled, []))\n",
    "\n",
    "print(r)"
   ]
  },
  {
   "cell_type": "markdown",
   "metadata": {},
   "source": [
    "### 축구 1344"
   ]
  },
  {
   "cell_type": "code",
   "execution_count": 21,
   "metadata": {},
   "outputs": [
    {
     "name": "stdout",
     "output_type": "stream",
     "text": [
      "12\n",
      "89\n",
      "0.6772047168840167\n"
     ]
    }
   ],
   "source": [
    "from collections import defaultdict as dd\n",
    "\n",
    "a = int(input())\n",
    "b = int(input())\n",
    "\n",
    "ap = a / 100\n",
    "bp = b / 100\n",
    "nap = 1 - ap\n",
    "nbp = 1 - bp\n",
    "\n",
    "d = dd(float)\n",
    "d[(0, 0)] = 1\n",
    "for _ in range(18):\n",
    "    nd = dd(float)\n",
    "    for key in d:\n",
    "        ac, bc = key\n",
    "        \n",
    "        nd[(ac, bc)] += d[key] * nap * nbp\n",
    "        nd[(ac + 1, bc)] += d[key] * ap * nbp\n",
    "        nd[(ac, bc + 1)] += d[key] * nap * bp\n",
    "        nd[(ac + 1, bc + 1)] += d[key] * ap * bp\n",
    "\n",
    "    d = nd.copy()\n",
    "\n",
    "ps = [2, 3, 5, 7, 11, 13, 17]\n",
    "r = 0\n",
    "\n",
    "for i in ps:\n",
    "    for j in range(19):\n",
    "        r += d[(i, j)]\n",
    "        r += d[(j, i)]\n",
    "for i in ps:\n",
    "    for j in ps:\n",
    "        r -= d[(i, j)]\n",
    "        \n",
    "print(r)"
   ]
  },
  {
   "cell_type": "markdown",
   "metadata": {},
   "source": [
    "### 출근 경로 5569"
   ]
  },
  {
   "cell_type": "code",
   "execution_count": 23,
   "metadata": {},
   "outputs": [
    {
     "name": "stdout",
     "output_type": "stream",
     "text": [
      "15 15\n",
      "43688\n"
     ]
    }
   ],
   "source": [
    "mod = 100000\n",
    "\n",
    "h, w = map(int, input().split())\n",
    "\n",
    "dp = [[[0] * 4 for _ in range(w)] for _ in range(h)]\n",
    "dp[1][0] = [1, 0, 0, 0]\n",
    "dp[0][1] = [0, 0, 1, 0]\n",
    "\n",
    "for i in range(h):\n",
    "    for j in range(w):\n",
    "        if i == 0 and j == 0 or i == 1 and j == 0 or i == 0 and j == 1:\n",
    "            continue\n",
    "        if i - 1 >= 0:\n",
    "            dp[i][j][0] = (dp[i - 1][j][0] + dp[i - 1][j][1]) % mod\n",
    "            dp[i][j][1] = dp[i - 1][j][2]\n",
    "        if j - 1 >= 0:\n",
    "            dp[i][j][2] = (dp[i][j - 1][2] + dp[i][j - 1][3]) % mod\n",
    "            dp[i][j][3] = dp[i][j - 1][0]\n",
    "            \n",
    "r = sum(dp[-1][-1]) % mod\n",
    "\n",
    "print(r)"
   ]
  },
  {
   "cell_type": "markdown",
   "metadata": {},
   "source": [
    "### 게임 1103"
   ]
  },
  {
   "cell_type": "code",
   "execution_count": 40,
   "metadata": {},
   "outputs": [
    {
     "name": "stdout",
     "output_type": "stream",
     "text": [
      "1 2\n",
      "21\n",
      "1\n"
     ]
    }
   ],
   "source": [
    "import sys\n",
    "sys.setrecursionlimit(10000)\n",
    "\n",
    "n, m = map(int, input().split())\n",
    "li = []\n",
    "for _ in range(n):\n",
    "    temp = list(input())\n",
    "    for i in range(m):\n",
    "        if temp[i] != 'H':\n",
    "            temp[i] = int(temp[i])\n",
    "    li.append(temp)\n",
    "    \n",
    "dx = [-1, 1, 0, 0]\n",
    "dy = [0, 0, -1, 1]\n",
    "\n",
    "def dfs(x, y):\n",
    "    global is_inf\n",
    "    \n",
    "    vt[x][y] = True\n",
    "    st.add((x, y))\n",
    "\n",
    "    spent = 0\n",
    "    for i in range(4):\n",
    "        nx = x + dx[i] * li[x][y]\n",
    "        ny = y + dy[i] * li[x][y]\n",
    "\n",
    "        if nx < 0 or nx >= n or ny < 0 or ny >= m:\n",
    "            continue\n",
    "        if li[nx][ny] == 'H':\n",
    "            continue\n",
    "        if vt[nx][ny]:\n",
    "            if (nx, ny) in st:\n",
    "                is_inf = True\n",
    "                return -1\n",
    "            else:\n",
    "                spent = max(spent, dp[nx][ny])\n",
    "                continue\n",
    "        spent = max(spent, dfs(nx, ny))\n",
    "        \n",
    "        if is_inf:\n",
    "            return -1\n",
    "        \n",
    "    st.discard((x, y))\n",
    "    \n",
    "    spent += 1\n",
    "    dp[x][y] = spent\n",
    "    return spent\n",
    "\n",
    "vt = [[False] * m for _ in range(n)]\n",
    "dp = [[0] * m for _ in range(n)]\n",
    "dp[0][0] = 0\n",
    "\n",
    "is_inf = False\n",
    "st = set()\n",
    "r = dfs(0, 0)\n",
    "\n",
    "if is_inf:\n",
    "    print(-1)\n",
    "else:\n",
    "    print(r)"
   ]
  },
  {
   "cell_type": "markdown",
   "metadata": {},
   "source": [
    "tier:g4 tag:combinatorics - solved_by:hsh8086"
   ]
  },
  {
   "cell_type": "markdown",
   "metadata": {},
   "source": [
    "### 산업 스파이의 편지 3671"
   ]
  },
  {
   "cell_type": "code",
   "execution_count": 7,
   "metadata": {
    "scrolled": true
   },
   "outputs": [
    {
     "name": "stdout",
     "output_type": "stream",
     "text": [
      "1\n",
      "1276543\n",
      "1336\n"
     ]
    }
   ],
   "source": [
    "from itertools import permutations as perm\n",
    "import sys\n",
    "# input = lambda: sys.stdin.readline().rstrip()\n",
    "\n",
    "max_num = 10000000\n",
    "ip = [True] * (max_num + 1)\n",
    "ip[0] = ip[1] = False\n",
    "for mod in range(2, int(max_num ** 0.5) + 1):\n",
    "    if ip[mod]:\n",
    "        for v in range(mod * mod, max_num + 1, mod):\n",
    "            ip[v] = False\n",
    "\n",
    "for _ in range(int(input())):\n",
    "    li = list(map(int, input()))\n",
    "    ans = set()\n",
    "    for c in range(1, len(li) + 1):\n",
    "        for case in perm(li, c):\n",
    "            v = int(''.join(map(str, case)))\n",
    "            if ip[v]:\n",
    "                ans.add(v)\n",
    "\n",
    "    print(len(ans))"
   ]
  },
  {
   "cell_type": "markdown",
   "metadata": {},
   "source": [
    "### 합분해 2 13707"
   ]
  },
  {
   "cell_type": "code",
   "execution_count": null,
   "metadata": {},
   "outputs": [],
   "source": [
    "from collections import deque\n",
    "\n",
    "mod = 1000000000\n",
    "\n",
    "n, k = map(int, input().split())"
   ]
  },
  {
   "cell_type": "code",
   "execution_count": 9,
   "metadata": {},
   "outputs": [
    {
     "data": {
      "text/plain": [
       "250000000"
      ]
     },
     "execution_count": 9,
     "metadata": {},
     "output_type": "execute_result"
    }
   ],
   "source": [
    "5000 * 5000 * 10"
   ]
  }
 ],
 "metadata": {
  "kernelspec": {
   "display_name": "Python 3",
   "language": "python",
   "name": "python3"
  },
  "language_info": {
   "codemirror_mode": {
    "name": "ipython",
    "version": 3
   },
   "file_extension": ".py",
   "mimetype": "text/x-python",
   "name": "python",
   "nbconvert_exporter": "python",
   "pygments_lexer": "ipython3",
   "version": "3.7.4"
  }
 },
 "nbformat": 4,
 "nbformat_minor": 4
}
