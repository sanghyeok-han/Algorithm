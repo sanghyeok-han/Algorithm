{
 "cells": [
  {
   "cell_type": "code",
   "execution_count": 5,
   "metadata": {},
   "outputs": [
    {
     "name": "stdout",
     "output_type": "stream",
     "text": [
      "A-C---F---\n"
     ]
    }
   ],
   "source": [
    "tree = [None] * 10\n",
    "\n",
    "def root(key):\n",
    "    if tree[0] != None:\n",
    "        print('Tree already had root')\n",
    "    else:\n",
    "        tree[0] = key\n",
    "        \n",
    "def set_left(key, parent):\n",
    "    if tree[parent] == None:\n",
    "        print('already had it')\n",
    "    else:\n",
    "        tree[parent * 2 + 1] = key\n",
    "        \n",
    "def set_right(key, parent):\n",
    "    if tree[parent] == None:\n",
    "        print('already had it')\n",
    "    else:\n",
    "        tree[parent * 2 + 2] = key\n",
    "        \n",
    "def print_tree():\n",
    "    for i in range(10):\n",
    "        if tree[i] != None:\n",
    "            print(tree[i], end='')\n",
    "        else:\n",
    "            print(\"-\", end='')\n",
    "    print()\n",
    "    \n",
    "root('A')\n",
    "set_right('C', 0)\n",
    "# set_left('D', 1)\n",
    "# set_right('E', 1)\n",
    "set_right('F', 2)\n",
    "print_tree()"
   ]
  },
  {
   "cell_type": "code",
   "execution_count": 8,
   "metadata": {},
   "outputs": [
    {
     "name": "stdout",
     "output_type": "stream",
     "text": [
      "35 30 100 80 40 "
     ]
    }
   ],
   "source": [
    "INT_MIN = -float('inf')\n",
    "INT_MAX = float('inf')\n",
    " \n",
    "def findPostOrderUtil(pre, n, minval, maxval, preIndex):\n",
    " \n",
    "    if (preIndex[0] == n):\n",
    "            return\n",
    "        \n",
    "    if (pre[preIndex[0]] < minval or\n",
    "            pre[preIndex[0]] > maxval):\n",
    "        return\n",
    "\n",
    "    val = pre[preIndex[0]]\n",
    "    preIndex[0] += 1\n",
    " \n",
    "    findPostOrderUtil(pre, n, minval, val, preIndex)\n",
    "    findPostOrderUtil(pre, n, val, maxval, preIndex)\n",
    " \n",
    "    print(val, end=\" \")\n",
    "\n",
    "\n",
    "def findPostOrder(pre, n):\n",
    " \n",
    "    # To store index of element to be\n",
    "    # traversed next in preorder array.\n",
    "    # This is passed by reference to\n",
    "    # utility function.\n",
    "    preIndex = [0]\n",
    " \n",
    "    findPostOrderUtil(pre, n, INT_MIN,\n",
    "                      INT_MAX, preIndex)\n",
    " \n",
    " \n",
    "pre = [40, 30, 35, 80, 100]\n",
    "n = len(pre)\n",
    "\n",
    "# Calling function\n",
    "findPostOrder(pre, n)"
   ]
  }
 ],
 "metadata": {
  "kernelspec": {
   "display_name": "Python 3",
   "language": "python",
   "name": "python3"
  },
  "language_info": {
   "codemirror_mode": {
    "name": "ipython",
    "version": 3
   },
   "file_extension": ".py",
   "mimetype": "text/x-python",
   "name": "python",
   "nbconvert_exporter": "python",
   "pygments_lexer": "ipython3",
   "version": "3.7.3"
  }
 },
 "nbformat": 4,
 "nbformat_minor": 4
}
