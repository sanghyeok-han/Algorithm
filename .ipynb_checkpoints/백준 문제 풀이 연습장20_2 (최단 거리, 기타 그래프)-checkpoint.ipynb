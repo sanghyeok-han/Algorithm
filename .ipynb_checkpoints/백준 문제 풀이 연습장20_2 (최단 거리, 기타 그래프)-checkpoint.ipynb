{
 "cells": [
  {
   "cell_type": "markdown",
   "metadata": {},
   "source": [
    "### 최소비용 구하기 1916"
   ]
  },
  {
   "cell_type": "code",
   "execution_count": 2,
   "metadata": {},
   "outputs": [
    {
     "name": "stdout",
     "output_type": "stream",
     "text": [
      "1 5\n",
      "4\n"
     ]
    }
   ],
   "source": [
    "from heapq import heappush, heappop\n",
    "import sys\n",
    "# input = sys.stdin.readline\n",
    "\n",
    "n = int(input().rstrip())\n",
    "m = int(input().rstrip())\n",
    "li = [[] for _ in range(n)]\n",
    "for _ in range(m):\n",
    "    a, b, c = map(int, input().rstrip().split())\n",
    "    a -= 1\n",
    "    b -= 1\n",
    "    li[a].append((b, c))\n",
    "s, e = map(lambda x: int(x) - 1, input().rstrip().split())\n",
    "    \n",
    "heap = []\n",
    "heappush(heap, (0, s))\n",
    "\n",
    "costs = [float('inf')] * n\n",
    "costs[s] = 0\n",
    "while heap:\n",
    "    cost, value = heappop(heap)\n",
    "    \n",
    "    if cost > costs[value]:\n",
    "        continue\n",
    "    \n",
    "    for v, c in li[value]:\n",
    "        ncost = cost + c\n",
    "        if ncost < costs[v]:\n",
    "            costs[v] = ncost\n",
    "            heappush(heap, (ncost, v))\n",
    "print(costs[e])"
   ]
  },
  {
   "cell_type": "markdown",
   "metadata": {},
   "source": [
    "### 최소비용 구하기2 11779"
   ]
  },
  {
   "cell_type": "code",
   "execution_count": 15,
   "metadata": {},
   "outputs": [
    {
     "name": "stdout",
     "output_type": "stream",
     "text": [
      "4\n",
      "3\n",
      "1 4 5 "
     ]
    }
   ],
   "source": [
    "from heapq import heappush, heappop\n",
    "import sys\n",
    "input = sys.stdin.readline\n",
    "\n",
    "n = int(input().rstrip())\n",
    "m = int(input().rstrip())\n",
    "li = [[] for _ in range(n)]\n",
    "for _ in range(m):\n",
    "    a, b, c = map(int, input().rstrip().split())\n",
    "    a -= 1\n",
    "    b -= 1\n",
    "    li[a].append((b, c))\n",
    "s, e = map(lambda x: int(x) - 1, input().rstrip().split())\n",
    "    \n",
    "heap = []\n",
    "heappush(heap, (0, s))\n",
    "\n",
    "costs = [float('inf')] * n\n",
    "costs[s] = 0\n",
    "\n",
    "_from = [-1] * n\n",
    "while heap:\n",
    "    cost, value = heappop(heap)\n",
    "    \n",
    "    if cost > costs[value]:\n",
    "        continue\n",
    "    \n",
    "    for v, c in li[value]:\n",
    "        ncost = cost + c\n",
    "        if ncost < costs[v]:\n",
    "            _from[v] = value\n",
    "            costs[v] = ncost\n",
    "            heappush(heap, (ncost, v))\n",
    "            \n",
    "node = e\n",
    "result = [e]\n",
    "while node != s:\n",
    "    node = _from[node]\n",
    "    result.append(node)\n",
    "    \n",
    "route_len = len(result)\n",
    "\n",
    "print(costs[e])\n",
    "print(route_len)\n",
    "for i in range(route_len - 1, -1, -1):\n",
    "    print(result[i] + 1, end=' ')"
   ]
  },
  {
   "cell_type": "markdown",
   "metadata": {},
   "source": [
    "### 키 순서 2458 (다시 풀음)"
   ]
  },
  {
   "cell_type": "code",
   "execution_count": 59,
   "metadata": {},
   "outputs": [
    {
     "name": "stdout",
     "output_type": "stream",
     "text": [
      "6 7\n",
      "1 3\n",
      "1 5\n",
      "3 4\n",
      "5 4\n",
      "4 2\n",
      "4 6\n",
      "5 2\n",
      "2\n"
     ]
    }
   ],
   "source": [
    "import sys\n",
    "# input = sys.stdin.readline\n",
    "\n",
    "n, m = map(int, input().rstrip().split())\n",
    "\n",
    "dists1 = [[False] * n for _ in range(n)]\n",
    "dists2 = [[False] * n for _ in range(n)]\n",
    "for i in range(n):\n",
    "    dists1[i][i] = True\n",
    "    dists2[i][i] = True\n",
    "\n",
    "get_node_num = lambda v: int(v) - 1\n",
    "for _ in range(m):\n",
    "    a, b = map(get_node_num, input().rstrip().split())\n",
    "    dists1[a][b] = True\n",
    "    dists2[b][a] = True\n",
    "    \n",
    "for mid in range(n):\n",
    "    for i in range(n):\n",
    "        for j in range(n):\n",
    "            dists1[i][j] = dists1[i][j] or (dists1[i][mid] and dists1[mid][j])\n",
    "            dists2[i][j] = dists2[i][j] or (dists2[i][mid] and dists2[mid][j])\n",
    "\n",
    "count = n\n",
    "for i in range(n):\n",
    "    for j in range(n):\n",
    "        if not (dists1[i][j] or dists2[i][j]):\n",
    "            count -= 1\n",
    "            break\n",
    "print(count)"
   ]
  },
  {
   "cell_type": "markdown",
   "metadata": {},
   "source": [
    "### 저울 10159"
   ]
  },
  {
   "cell_type": "code",
   "execution_count": null,
   "metadata": {},
   "outputs": [],
   "source": [
    "# 맞았음\n",
    "import sys\n",
    "# input = sys.stdin.readline\n",
    "\n",
    "n = int(input())\n",
    "m = int(input())\n",
    "\n",
    "dists1 = [[float('inf')] * n for _ in range(n)]\n",
    "dists2 = [[float('inf')] * n for _ in range(n)]\n",
    "for i in range(n):\n",
    "    dists1[i][i] = 0\n",
    "    dists2[i][i] = 0\n",
    "\n",
    "get_node_num = lambda v: int(v) - 1\n",
    "for _ in range(m):\n",
    "    a, b = map(get_node_num, input().rstrip().split())\n",
    "    dists1[a][b] = 1\n",
    "    dists2[b][a] = 1\n",
    "    \n",
    "for mid in range(n):\n",
    "    for i in range(n):\n",
    "        for j in range(n):\n",
    "            dists1[i][j] = min(dists1[i][j], dists1[i][mid] + dists1[mid][j])\n",
    "            dists2[i][j] = min(dists2[i][j], dists2[i][mid] + dists2[mid][j])\n",
    "\n",
    "for i in range(n):\n",
    "    count = 0\n",
    "    for j in range(n):\n",
    "        if min(dists1[i][j], dists2[i][j]) == float('inf'):\n",
    "            count += 1           \n",
    "    print(count)"
   ]
  },
  {
   "cell_type": "code",
   "execution_count": 58,
   "metadata": {},
   "outputs": [
    {
     "name": "stdout",
     "output_type": "stream",
     "text": [
      "9\n",
      "11\n",
      "2 1\n",
      "3 1\n",
      "2 8\n",
      "2 9\n",
      "7 8\n",
      "4 5\n",
      "6 7\n",
      "6 3\n",
      "1 7\n",
      "6 2\n",
      "1 9\n",
      "2\n",
      "3\n",
      "3\n",
      "7\n",
      "7\n",
      "2\n",
      "3\n",
      "3\n",
      "4\n"
     ]
    }
   ],
   "source": [
    "# 맞았음, 속도 개선함\n",
    "import sys\n",
    "# input = sys.stdin.readline\n",
    "\n",
    "n = int(input().rstrip())\n",
    "m = int(input().rstrip())\n",
    "\n",
    "dists1 = [[False] * n for _ in range(n)]\n",
    "dists2 = [[False] * n for _ in range(n)]\n",
    "for i in range(n):\n",
    "    dists1[i][i] = True\n",
    "    dists2[i][i] = True\n",
    "\n",
    "get_node_num = lambda v: int(v) - 1\n",
    "for _ in range(m):\n",
    "    a, b = map(get_node_num, input().rstrip().split())\n",
    "    dists1[a][b] = True\n",
    "    dists2[b][a] = True\n",
    "    \n",
    "for mid in range(n):\n",
    "    for i in range(n):\n",
    "        for j in range(n):\n",
    "            dists1[i][j] = dists1[i][j] or (dists1[i][mid] and dists1[mid][j])\n",
    "            dists2[i][j] = dists2[i][j] or (dists2[i][mid] and dists2[mid][j])\n",
    "\n",
    "for i in range(n):\n",
    "    count = 0\n",
    "    for j in range(n):\n",
    "        if not (dists1[i][j] or dists2[i][j]):\n",
    "            count += 1           \n",
    "    print(count)"
   ]
  },
  {
   "cell_type": "markdown",
   "metadata": {},
   "source": [
    "### 역사 1613"
   ]
  },
  {
   "cell_type": "code",
   "execution_count": 60,
   "metadata": {},
   "outputs": [
    {
     "name": "stdout",
     "output_type": "stream",
     "text": [
      "5 5\n",
      "1 2\n",
      "1 3\n",
      "2 3\n",
      "3 4\n",
      "2 4\n",
      "3\n",
      "1 5\n",
      "0\n",
      "2 4\n",
      "-1\n",
      "3 1\n",
      "1\n"
     ]
    }
   ],
   "source": [
    "import sys\n",
    "# input = sys.stdin.readline\n",
    "\n",
    "n, m = map(int, input().rstrip().split())\n",
    "\n",
    "dists1 = [[False] * n for _ in range(n)]\n",
    "dists2 = [[False] * n for _ in range(n)]\n",
    "for i in range(n):\n",
    "    dists1[i][i] = True\n",
    "    dists2[i][i] = True\n",
    "\n",
    "get_node_num = lambda v: int(v) - 1\n",
    "for _ in range(m):\n",
    "    a, b = map(get_node_num, input().rstrip().split())\n",
    "    dists1[a][b] = True\n",
    "    dists2[b][a] = True\n",
    "    \n",
    "for mid in range(n):\n",
    "    for i in range(n):\n",
    "        for j in range(n):\n",
    "            dists1[i][j] = dists1[i][j] or (dists1[i][mid] and dists1[mid][j])\n",
    "            dists2[i][j] = dists2[i][j] or (dists2[i][mid] and dists2[mid][j])\n",
    "\n",
    "for _ in range(int(input().rstrip())):\n",
    "    a, b = map(get_node_num, input().rstrip().split())\n",
    "    if dists1[a][b]:\n",
    "        print(-1)\n",
    "    elif dists2[a][b]:\n",
    "        print(1)\n",
    "    else:\n",
    "        print(0)"
   ]
  },
  {
   "cell_type": "markdown",
   "metadata": {},
   "source": [
    "### 거의 최단 경로 5719 (다시 풀음)"
   ]
  },
  {
   "cell_type": "code",
   "execution_count": null,
   "metadata": {},
   "outputs": [],
   "source": [
    "from heapq import heappush, heappop\n",
    "import sys\n",
    "input = lambda x: sys.stdin.readline().rstrip()\n",
    "\n",
    "def del_edges(_to):\n",
    "    for _from in froms[_to]:\n",
    "        if _to in li[_from]:\n",
    "            li[_from].discard(_to)\n",
    "            if _from != s:\n",
    "                del_edges(_from)  \n",
    "\n",
    "while True:\n",
    "    n, m = map(int, input(0).split())\n",
    "    if n == 0 and m == 0:\n",
    "        break\n",
    "    s, e = map(int, input(0).split())\n",
    "    li = [set() for _ in range(n)]\n",
    "    di = {}\n",
    "    for _ in range(m):\n",
    "        a, b, c = map(int, input(0).split())\n",
    "        li[a].add(b)\n",
    "        di[(a, b)] = c\n",
    "\n",
    "    heap = []\n",
    "    heappush(heap, (0, s))\n",
    "    dists = [float('inf')] * n\n",
    "    dists[s] = 0\n",
    "    froms = [[] for _ in range(n)]\n",
    "    while heap:\n",
    "        dist, value = heappop(heap)\n",
    "        if dist > dists[value]:\n",
    "            continue\n",
    "        for v in li[value]:\n",
    "            ndist = dist + di[(value, v)]\n",
    "            if ndist < dists[v]:\n",
    "                dists[v] = ndist\n",
    "                froms[v] = [value]\n",
    "                heappush(heap, (ndist, v))\n",
    "            elif ndist == dists[v]:\n",
    "                froms[v].append(value)\n",
    "                \n",
    "    del_edges(e)\n",
    "\n",
    "    heap = []\n",
    "    heappush(heap, (0, s))\n",
    "    dists = [float('inf')] * n\n",
    "    dists[s] = 0\n",
    "    while heap:\n",
    "        dist, value = heappop(heap)\n",
    "        if dist > dists[value]:\n",
    "            continue\n",
    "        for v in li[value]:\n",
    "            ndist = dist + di[(value, v)]\n",
    "            if ndist < dists[v]:\n",
    "                dists[v] = ndist\n",
    "                heappush(heap, (ndist, v))\n",
    "\n",
    "    if dists[e] == float('inf'):\n",
    "        print(-1)\n",
    "    else:\n",
    "        print(dists[e])"
   ]
  },
  {
   "cell_type": "markdown",
   "metadata": {},
   "source": [
    "### 화살표 미로 (Easy) 20419"
   ]
  },
  {
   "cell_type": "code",
   "execution_count": null,
   "metadata": {},
   "outputs": [],
   "source": [
    "heap에 (rk + ck, rk, ck, ) 집어넣는다.\n"
   ]
  },
  {
   "cell_type": "code",
   "execution_count": null,
   "metadata": {},
   "outputs": [],
   "source": [
    "r, c, k = map(int, input().split())\n"
   ]
  },
  {
   "cell_type": "markdown",
   "metadata": {},
   "source": [
    "### 구슬 찾기 2617"
   ]
  },
  {
   "cell_type": "code",
   "execution_count": null,
   "metadata": {},
   "outputs": [],
   "source": [
    "import sys\n",
    "# input = lambda: sys.stdin.readline().rstrip()\n",
    "\n",
    "n, m = map(int, input().split())\n",
    "\n",
    "li1 = [[False] * n for _ in range(n)]\n",
    "li2 = [[False] * n for _ in range(n)]\n",
    "\n",
    "get_value = lambda x: int(x) - 1\n",
    "for _ in range(m):\n",
    "    s, b = map(get_value, input().split())\n",
    "    li1[s][b] = True\n",
    "    li2[b][s] = True\n",
    "    \n",
    "for i in range(n):\n",
    "    li1[i][i] = True\n",
    "    li2[i][i] = True\n",
    "\n",
    "for mid in range(n):\n",
    "    for i in range(n):\n",
    "        for j in range(n):\n",
    "            li1[i][j] = li1[i][j] or (li1[i][mid] and li1[mid][j])\n",
    "            li2[i][j] = li2[i][j] or (li2[i][mid] and li2[mid][j])\n",
    "\n",
    "count = 0\n",
    "for i in range(n):\n",
    "    if li1[i].count(True) > n // 2 + 1 or li2[i].count(True) > n // 2 + 1:\n",
    "        count += 1\n",
    "print(count)"
   ]
  },
  {
   "cell_type": "markdown",
   "metadata": {},
   "source": [
    "### 타임머신 11657\n",
    "- 벨만-포드"
   ]
  },
  {
   "cell_type": "code",
   "execution_count": 5,
   "metadata": {},
   "outputs": [
    {
     "name": "stdout",
     "output_type": "stream",
     "text": [
      "1 1\n",
      "1 1 1\n"
     ]
    }
   ],
   "source": [
    "import sys\n",
    "# input = lambda: sys.stdin.readline().rstrip()\n",
    "\n",
    "n, m = map(int, input().split())\n",
    "edges = [list(map(int, input().split())) for _ in range(m)]\n",
    "\n",
    "dists = [float('inf')] * (n + 1)\n",
    "dists[1] = 0\n",
    "for _ in range(n - 1):\n",
    "    for a, b, c in edges:\n",
    "        nc = dists[a] + c\n",
    "        if nc < dists[b]:\n",
    "            dists[b] = nc\n",
    "            \n",
    "o_dists = dists[:]\n",
    "for a, b, c in edges:\n",
    "    nc = dists[a] + c\n",
    "    if nc < dists[b]:\n",
    "        dists[b] = nc\n",
    "if dists != o_dists:\n",
    "    print(-1)\n",
    "else:\n",
    "    for d in dists[2:]:\n",
    "        if d == float('inf'):\n",
    "            print(-1)\n",
    "        else:\n",
    "            print(d)"
   ]
  },
  {
   "cell_type": "markdown",
   "metadata": {},
   "source": [
    "### 웜홀 1865"
   ]
  },
  {
   "cell_type": "code",
   "execution_count": 23,
   "metadata": {},
   "outputs": [
    {
     "name": "stdout",
     "output_type": "stream",
     "text": [
      "2\n",
      "3 3 1\n",
      "1 2 2\n",
      "1 3 4\n",
      "2 3 1\n",
      "3 1 3\n",
      "NO\n",
      "3 2 1\n",
      "1 2 3\n",
      "2 3 4\n",
      "3 1 8\n",
      "YES\n"
     ]
    }
   ],
   "source": [
    "import sys\n",
    "# input = lambda: sys.stdin.readline().rstrip()\n",
    "    \n",
    "def check():\n",
    "    need_to_check = [True] * (n + 1)\n",
    "    for start in range(1, n + 1):\n",
    "        if not need_to_check[start]:\n",
    "            continue\n",
    "        need_to_check[start] = False\n",
    "    \n",
    "        dists = [float('inf')] * (n + 1)\n",
    "        dists[start] = 0\n",
    "        for _ in range(n - 1):\n",
    "            for a, b, c in edges:\n",
    "                nc = dists[a] + c\n",
    "                if nc < dists[b]:\n",
    "                    dists[b] = nc\n",
    "        o_dists = dists[:]\n",
    "\n",
    "        for a, b, c in edges:\n",
    "            nc = dists[a] + c\n",
    "            if nc < dists[b]:\n",
    "                dists[b] = nc\n",
    "        if o_dists != dists:\n",
    "            return True\n",
    "        \n",
    "        for i in range(1, n + 1):\n",
    "            if dists[i] != float('inf'):\n",
    "                need_to_check[i] = False\n",
    "    return False\n",
    "\n",
    "for _ in range(int(input())):\n",
    "    n, m, w = map(int, input().split())\n",
    "    edges_d = {}\n",
    "    for _ in range(m):\n",
    "        a, b, c = map(int, input().split())\n",
    "        if a > b:\n",
    "            a, b = b, a\n",
    "        if (a, b) in edges_d and c >= edges_d[(a, b)]:\n",
    "            continue\n",
    "        edges_d[(a, b)] = c\n",
    "\n",
    "    edges = []\n",
    "    for (a, b), c in edges_d.items():\n",
    "        edges.append((a, b, c))\n",
    "        edges.append((b, a, c))\n",
    "\n",
    "    for _ in range(w):\n",
    "        s, e, t = map(int, input().split())\n",
    "        edges.append((s, e, -t))\n",
    "    \n",
    "    if check():\n",
    "        print('YES')\n",
    "    else:\n",
    "        print('NO')"
   ]
  },
  {
   "cell_type": "markdown",
   "metadata": {},
   "source": [
    "### 가장 먼 곳 22865"
   ]
  },
  {
   "cell_type": "code",
   "execution_count": 16,
   "metadata": {},
   "outputs": [
    {
     "name": "stdout",
     "output_type": "stream",
     "text": [
      "3\n"
     ]
    }
   ],
   "source": [
    "from heapq import heappush, heappop\n",
    "import sys\n",
    "input = lambda: sys.stdin.readline().rstrip()\n",
    "\n",
    "n = int(input())\n",
    "fs = list(map(int, input().split()))\n",
    "m = int(input())\n",
    "li = [[] for _ in range(n + 1)]\n",
    "for _ in range(m):\n",
    "    d, e, l = map(int, input().split())\n",
    "    \n",
    "    li[d].append((e, l))\n",
    "    li[e].append((d, l))\n",
    "\n",
    "def dij(start):\n",
    "    dists = [float('inf') for _ in range(n + 1)]\n",
    "    dists[start] = 0\n",
    "    heap = [(0, start)]\n",
    "    while heap:\n",
    "        dist, value = heappop(heap)\n",
    "\n",
    "        if dists[value] < dist:\n",
    "            continue\n",
    "\n",
    "        for v, ds in li[value]:\n",
    "            ndist = dist + ds\n",
    "            if ndist < dists[v]:\n",
    "                dists[v] = ndist\n",
    "                heappush(heap, (ndist, v))\n",
    "                \n",
    "    return dists\n",
    "    \n",
    "fdists = []\n",
    "for start in fs:\n",
    "    fdists.append(dij(start))\n",
    "    \n",
    "max_dist = -1\n",
    "max_dist_loc = -1\n",
    "for i in range(n, 0, -1):\n",
    "    dist = float('inf')\n",
    "    for j in range(3):\n",
    "        dist = min(dist, fdists[j][i])\n",
    "        \n",
    "    if dist >= max_dist:\n",
    "        max_dist = dist\n",
    "        max_dist_loc = i\n",
    "        \n",
    "print(max_dist_loc)"
   ]
  },
  {
   "cell_type": "markdown",
   "metadata": {},
   "source": [
    "### 편의점 14221"
   ]
  },
  {
   "cell_type": "code",
   "execution_count": 2,
   "metadata": {},
   "outputs": [
    {
     "name": "stdout",
     "output_type": "stream",
     "text": [
      "6 9\n",
      "1 4 1\n",
      "1 5 2\n",
      "1 6 3\n",
      "2 4 2\n",
      "2 5 3\n",
      "2 6 1\n",
      "3 4 3\n",
      "3 5 1\n",
      "3 6 2\n",
      "3 3\n",
      "1 2 3\n",
      "4 5 6\n"
     ]
    }
   ],
   "source": [
    "n, m = map(int, input().split())\n",
    "\n",
    "li = [[] for _ in range(n + 1)]\n",
    "for _ in range(m):\n",
    "    a, b, c = map(int, input().split())\n",
    "    \n",
    "    li[a].append((b, c))\n",
    "    li[b].append((a, c))\n",
    "    \n",
    "p, q = map(int, input().split())\n",
    "ps = map(int, input().split())\n",
    "qs = list(map(int, input().split()))\n",
    "\n"
   ]
  },
  {
   "cell_type": "code",
   "execution_count": 19,
   "metadata": {},
   "outputs": [
    {
     "name": "stdout",
     "output_type": "stream",
     "text": [
      "1\n"
     ]
    }
   ],
   "source": [
    "from heapq import heappush, heappop\n",
    "import sys\n",
    "# input = lambda: sys.stdin.readline().rstrip()\n",
    "\n",
    "n, m = map(int, input().split())\n",
    "\n",
    "li = [[] for _ in range(n + 1)]\n",
    "for _ in range(m):\n",
    "    a, b, c = map(int, input().split())\n",
    "    \n",
    "    li[a].append((b, c))\n",
    "    li[b].append((a, c))\n",
    "    \n",
    "p, q = map(int, input().split())\n",
    "ps = list(map(int, input().split()))\n",
    "qs = list(map(int, input().split()))\n",
    "\n",
    "ctmd = float('inf') # cur total min dist\n",
    "ch = float('inf') # cur house\n",
    "\n",
    "# hn: house num\n",
    "for hn in ps:\n",
    "    dists = [float('inf')] * (n + 1)\n",
    "    dists[hn] = 0\n",
    "    \n",
    "    heap = [(0, hn)]\n",
    "    while heap:\n",
    "        dist, value = heappop(heap)\n",
    "        if dists[value] < dist:\n",
    "            continue\n",
    "    \n",
    "        for v, d in li[value]:\n",
    "            ndist = dist + d\n",
    "            \n",
    "            if ndist < dists[v]:\n",
    "                dists[v] = ndist\n",
    "                heappush(heap, (ndist, v))\n",
    "        \n",
    "    min_dist = float('inf')\n",
    "    for cand in qs:\n",
    "        min_dist = min(min_dist, dists[cand])\n",
    "        \n",
    "    if min_dist < ctmd:\n",
    "        ctmd = min_dist\n",
    "        ch = hn\n",
    "    elif min_dist == ctmd:\n",
    "        if hn < ch:\n",
    "            ch = hn\n",
    "        \n",
    "print(ch)"
   ]
  },
  {
   "cell_type": "code",
   "execution_count": 22,
   "metadata": {},
   "outputs": [
    {
     "name": "stdout",
     "output_type": "stream",
     "text": [
      "1\n"
     ]
    }
   ],
   "source": [
    "from heapq import heappush, heappop\n",
    "import sys\n",
    "input = lambda: sys.stdin.readline().rstrip()\n",
    "\n",
    "n, m = map(int, input().split())\n",
    "\n",
    "li = [[] for _ in range(n + 1)]\n",
    "for _ in range(m):\n",
    "    a, b, c = map(int, input().split())\n",
    "    \n",
    "    li[a].append((b, c))\n",
    "    li[b].append((a, c))\n",
    "    \n",
    "p, q = map(int, input().split())\n",
    "ps = sorted(map(int, input().split()))\n",
    "qs = list(map(int, input().split()))\n",
    "\n",
    "heap = []\n",
    "dists = [float('inf')] * (n + 1)\n",
    "for v in qs:\n",
    "    heap.append((0, v))\n",
    "    dists[v] = 0\n",
    "    \n",
    "while heap:\n",
    "    dist, value = heappop(heap)\n",
    "    if dists[value] < dist:\n",
    "        continue\n",
    "\n",
    "    for v, d in li[value]:\n",
    "        ndist = dist + d\n",
    "\n",
    "        if ndist < dists[v]:\n",
    "            dists[v] = ndist\n",
    "            heappush(heap, (ndist, v))\n",
    "            \n",
    "ctmd = float('inf') # cur min dist\n",
    "chn = float('inf') # cur house num\n",
    "for i in range(len(ps) -1, -1, -1):\n",
    "    if dists[ps[i]] <= ctmd:\n",
    "        ctmd = dists[ps[i]]\n",
    "        chn = ps[i]\n",
    "        \n",
    "print(chn)"
   ]
  },
  {
   "cell_type": "markdown",
   "metadata": {},
   "source": [
    "### 물탱크 15972 (c++로 번역 요함)"
   ]
  },
  {
   "cell_type": "code",
   "execution_count": null,
   "metadata": {},
   "outputs": [],
   "source": [
    "from heapq import heappush, heappop\n",
    "import sys\n",
    "# input = lambda: sys.stdin.readline().rstrip()\n",
    "\n",
    "# n, m, h = map(int, input().split())\n",
    "# n += 2\n",
    "# m += 2\n",
    "\n",
    "# waters = [[h] * m for _ in range(n)]\n",
    "# for j in range(m):\n",
    "#     waters[0][j] = 0\n",
    "#     waters[n - 1][j] = 0\n",
    "    \n",
    "# for i in range(n):\n",
    "#     waters[i][0] = 0\n",
    "#     waters[i][m - 1] = 0\n",
    "\n",
    "# ct = [[[] for _ in range(m)] for _ in range(n)] # connected\n",
    "\n",
    "# for i in range(n - 1):\n",
    "#     temp = list(map(int, input().split()))\n",
    "    \n",
    "#     for j in range(m - 2):\n",
    "#         if temp[j] != -1:\n",
    "#             ct[i][j + 1].append((temp[j], i + 1, j + 1))\n",
    "#             ct[i + 1][j + 1].append((temp[j], i, j + 1))\n",
    "\n",
    "# for i in range(n - 2):\n",
    "#     temp = list(map(int, input().split()))\n",
    "    \n",
    "#     for j in range(m - 1):\n",
    "#         if temp[j] != -1:\n",
    "#             ct[i + 1][j].append((temp[j], i + 1, j + 1))\n",
    "#             ct[i + 1][j + 1].append((temp[j], i + 1 , j))\n",
    "    \n",
    "heap = []\n",
    "\n",
    "for j in range(m):\n",
    "    for v, x2, y2 in ct[0][j]:\n",
    "        heappush(heap, (v, 0, j, x2, y2))\n",
    "    \n",
    "    for v, x2, y2 in ct[n - 1][j]:\n",
    "        heappush(heap, (v, n - 1, j, x2, y2))\n",
    "    \n",
    "for i in range(n):\n",
    "    for v, x2, y2 in ct[i][0]:\n",
    "        heappush(heap, (v, i, 0, x2, y2))\n",
    "        \n",
    "    for v, x2, y2 in ct[i][m - 1]:\n",
    "        heappush(heap, (v, i, m - 1, x2, y2))\n",
    "    \n",
    "while heap:\n",
    "    value, x1, y1, x2, y2 = heappop(heap)\n",
    "    \n",
    "    if waters[x1][y1] >= waters[x2][y2] or value >= waters[x2][y2]:\n",
    "        continue\n",
    "        \n",
    "    nwater = max(waters[x1][y1], value)\n",
    "    waters[x2][y2] = nwater\n",
    "    for v, x3, y3 in ct[x2][y2]:\n",
    "        heappush(heap, (v, x2, y2, x3, y3))\n",
    "    \n",
    "total = 0\n",
    "for i in range(n):\n",
    "    total += sum(waters[i])\n",
    "    \n",
    "print(total)"
   ]
  },
  {
   "cell_type": "code",
   "execution_count": null,
   "metadata": {},
   "outputs": [],
   "source": [
    "from heapq import heappush, heappop\n",
    "import sys\n",
    "# input = lambda: sys.stdin.readline().rstrip()\n",
    "\n",
    "n, m, h = map(int, input().split())\n",
    "n += 2\n",
    "m += 2\n",
    "\n",
    "waters = [[h] * m for _ in range(n)]\n",
    "for j in range(m):\n",
    "    waters[0][j] = 0\n",
    "    waters[n - 1][j] = 0\n",
    "    \n",
    "for i in range(n):\n",
    "    waters[i][0] = 0\n",
    "    waters[i][m - 1] = 0\n",
    "\n",
    "ct = [[[] for _ in range(m)] for _ in range(n)] # connected\n",
    "\n",
    "for i in range(n - 1):\n",
    "    temp = list(map(int, input().split()))\n",
    "    \n",
    "    for j in range(m - 2):\n",
    "        if temp[j] != -1:\n",
    "            ct[i][j + 1].append((temp[j], i + 1, j + 1))\n",
    "            ct[i + 1][j + 1].append((temp[j], i, j + 1))\n",
    "\n",
    "for i in range(n - 2):\n",
    "    temp = list(map(int, input().split()))\n",
    "    \n",
    "    for j in range(m - 1):\n",
    "        if temp[j] != -1:\n",
    "            ct[i + 1][j].append((temp[j], i + 1, j + 1))\n",
    "            ct[i + 1][j + 1].append((temp[j], i + 1 , j))\n",
    "    \n",
    "heap = []\n",
    "cur = 0\n",
    "curs = {}\n",
    "\n",
    "for j in range(m):\n",
    "    for v, x2, y2 in ct[0][j]:\n",
    "        curs[cur] = (0, j, x2, y2)\n",
    "        heappush(heap, (v, cur))\n",
    "        cur += 1\n",
    "\n",
    "    \n",
    "    for v, x2, y2 in ct[n - 1][j]:\n",
    "        curs[cur] = (n - 1, j, x2, y2)\n",
    "        heappush(heap, (v, cur))\n",
    "        cur += 1\n",
    "\n",
    "    \n",
    "for i in range(n):\n",
    "    for v, x2, y2 in ct[i][0]:\n",
    "        curs[cur] = (i, 0, x2, y2)\n",
    "        heappush(heap, (v, cur))\n",
    "        cur += 1        \n",
    "\n",
    "        \n",
    "    for v, x2, y2 in ct[i][m - 1]:\n",
    "        curs[cur] = (i, m - 1, x2, y2)\n",
    "        heappush(heap, (v, cur))\n",
    "        cur += 1\n",
    "\n",
    "while heap:\n",
    "    value, num = heappop(heap)\n",
    "    print(heap)\n",
    "    \n",
    "    x1, y1, x2, y2 = curs[num]\n",
    "    del curs[num]\n",
    "    if waters[x1][y1] >= waters[x2][y2] or value >= waters[x2][y2]:\n",
    "        continue\n",
    "        \n",
    "    nwater = max(waters[x1][y1], value)\n",
    "    waters[x2][y2] = nwater\n",
    "    for v, x3, y3 in ct[x2][y2]:\n",
    "        curs[cur] = (x2, y2, x3, y3)\n",
    "        heappush(heap, (v, cur))\n",
    "        cur += 1\n",
    "\n",
    "total = 0\n",
    "for i in range(n):\n",
    "    total += sum(waters[i])\n",
    "    \n",
    "print(total)"
   ]
  },
  {
   "cell_type": "markdown",
   "metadata": {},
   "source": [
    "### Swimming pool 7161"
   ]
  },
  {
   "cell_type": "code",
   "execution_count": 9,
   "metadata": {},
   "outputs": [
    {
     "name": "stdout",
     "output_type": "stream",
     "text": [
      "3 6\n",
      "3 3 4 5 4 2\n",
      "3 1 3 2 1 3\n",
      "6 3 1 4 3 1\n"
     ]
    }
   ],
   "source": [
    "from heapq import heappush, heappop\n",
    "\n",
    "n, m = map(int, input().split())\n",
    "li = [[0] * (m + 2)] + [[0] + list(map(int, input().split())) + [0] for _ in range(n)] + [[0] * (m + 2)]\n",
    "\n",
    "n += 2\n",
    "m += 2"
   ]
  },
  {
   "cell_type": "code",
   "execution_count": null,
   "metadata": {},
   "outputs": [],
   "source": [
    "3 3 4 5 4 2\n",
    "3 1 3 2 1 3\n",
    "6 3 1 4 3 1"
   ]
  },
  {
   "cell_type": "code",
   "execution_count": 6,
   "metadata": {},
   "outputs": [
    {
     "ename": "KeyboardInterrupt",
     "evalue": "",
     "output_type": "error",
     "traceback": [
      "\u001b[1;31m---------------------------------------------------------------------------\u001b[0m",
      "\u001b[1;31mKeyboardInterrupt\u001b[0m                         Traceback (most recent call last)",
      "\u001b[1;32m<ipython-input-6-80b32c85f01a>\u001b[0m in \u001b[0;36m<module>\u001b[1;34m\u001b[0m\n\u001b[0;32m     22\u001b[0m     \u001b[0mheights\u001b[0m\u001b[1;33m[\u001b[0m\u001b[0mx2\u001b[0m\u001b[1;33m]\u001b[0m\u001b[1;33m[\u001b[0m\u001b[0my2\u001b[0m\u001b[1;33m]\u001b[0m \u001b[1;33m=\u001b[0m \u001b[0mh2\u001b[0m\u001b[1;33m\u001b[0m\u001b[1;33m\u001b[0m\u001b[0m\n\u001b[0;32m     23\u001b[0m \u001b[1;33m\u001b[0m\u001b[0m\n\u001b[1;32m---> 24\u001b[1;33m     \u001b[1;32mfor\u001b[0m \u001b[0mi\u001b[0m \u001b[1;32min\u001b[0m \u001b[0mrange\u001b[0m\u001b[1;33m(\u001b[0m\u001b[1;36m4\u001b[0m\u001b[1;33m)\u001b[0m\u001b[1;33m:\u001b[0m\u001b[1;33m\u001b[0m\u001b[1;33m\u001b[0m\u001b[0m\n\u001b[0m\u001b[0;32m     25\u001b[0m         \u001b[0mx3\u001b[0m \u001b[1;33m=\u001b[0m \u001b[0mx2\u001b[0m \u001b[1;33m+\u001b[0m \u001b[0mdx\u001b[0m\u001b[1;33m[\u001b[0m\u001b[0mi\u001b[0m\u001b[1;33m]\u001b[0m\u001b[1;33m\u001b[0m\u001b[1;33m\u001b[0m\u001b[0m\n\u001b[0;32m     26\u001b[0m         \u001b[0my3\u001b[0m \u001b[1;33m=\u001b[0m \u001b[0my2\u001b[0m \u001b[1;33m+\u001b[0m \u001b[0mdy\u001b[0m\u001b[1;33m[\u001b[0m\u001b[0mi\u001b[0m\u001b[1;33m]\u001b[0m\u001b[1;33m\u001b[0m\u001b[1;33m\u001b[0m\u001b[0m\n",
      "\u001b[1;31mKeyboardInterrupt\u001b[0m: "
     ]
    }
   ],
   "source": [
    "heights = [[0] * m for _ in range(n)]\n",
    "for i in range(1, n - 1):\n",
    "    for j in range(1, m - 1):\n",
    "        heights[i][j] = 10000\n",
    "        \n",
    "dx = [-1, 1, 0, 0]\n",
    "dy = [0, 0, -1, 1]\n",
    "\n",
    "heap = []\n",
    "for j in range(1, m - 1):\n",
    "    heappush(heap, (0, 0, j, 1, j))\n",
    "    heappush(heap, (0, n - 1, j, n - 2, j))\n",
    "    \n",
    "for i in range(1, n - 1):\n",
    "    heappush(heap, (0, i, 0, i, 1))\n",
    "    heappush(heap, (0, i, n - 1, i, n - 2))\n",
    "    \n",
    "while heap:\n",
    "    h1, x1, y1, x2, y2 = heappop(heap)\n",
    "    \n",
    "    h2 = min(heights[x2][y2], max(h1, li[x2][y2]))\n",
    "    heights[x2][y2] = h2\n",
    "    \n",
    "    for i in range(4):\n",
    "        x3 = x2 + dx[i]\n",
    "        y3 = y2 + dy[i]\n",
    "        \n",
    "        if heights[x2][x2] >= heights[x3][y3]:\n",
    "            continue\n",
    "        heappush(heap, (h2, x2, y2, x3, y3))\n",
    "        \n",
    "total = sum(sum(heights, []))\n",
    "to_sub = sum(sum(li, []))\n",
    "\n",
    "print(total - to_sub)"
   ]
  },
  {
   "cell_type": "code",
   "execution_count": 8,
   "metadata": {},
   "outputs": [
    {
     "data": {
      "text/plain": [
       "[[0, 0, 0, 0, 0, 0], [0, 3, 3, 4, 5, 0], [0, 0, 0, 0, 0, 0]]"
      ]
     },
     "execution_count": 8,
     "metadata": {},
     "output_type": "execute_result"
    }
   ],
   "source": [
    "heights"
   ]
  }
 ],
 "metadata": {
  "kernelspec": {
   "display_name": "Python 3",
   "language": "python",
   "name": "python3"
  },
  "language_info": {
   "codemirror_mode": {
    "name": "ipython",
    "version": 3
   },
   "file_extension": ".py",
   "mimetype": "text/x-python",
   "name": "python",
   "nbconvert_exporter": "python",
   "pygments_lexer": "ipython3",
   "version": "3.7.3"
  }
 },
 "nbformat": 4,
 "nbformat_minor": 4
}
