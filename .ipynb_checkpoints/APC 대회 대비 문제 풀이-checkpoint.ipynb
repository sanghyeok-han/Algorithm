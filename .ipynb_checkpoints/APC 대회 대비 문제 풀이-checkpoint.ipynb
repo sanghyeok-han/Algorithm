{
 "cells": [
  {
   "cell_type": "markdown",
   "metadata": {},
   "source": [
    "### 추첨상 사수 대작전! (Normal) 20411"
   ]
  },
  {
   "cell_type": "code",
   "execution_count": 1,
   "metadata": {},
   "outputs": [
    {
     "name": "stdout",
     "output_type": "stream",
     "text": [
      "13 5 2 9\n"
     ]
    }
   ],
   "source": [
    "m, seed, x1, x2 = map(int, input().split())"
   ]
  },
  {
   "cell_type": "code",
   "execution_count": 21,
   "metadata": {},
   "outputs": [
    {
     "data": {
      "text/plain": [
       "True"
      ]
     },
     "execution_count": 21,
     "metadata": {},
     "output_type": "execute_result"
    }
   ],
   "source": [
    "x1 == (a * seed + c) % m"
   ]
  },
  {
   "cell_type": "code",
   "execution_count": 22,
   "metadata": {},
   "outputs": [
    {
     "data": {
      "text/plain": [
       "True"
      ]
     },
     "execution_count": 22,
     "metadata": {},
     "output_type": "execute_result"
    }
   ],
   "source": [
    "x2 == (a * x1 + c) % m"
   ]
  },
  {
   "cell_type": "code",
   "execution_count": 19,
   "metadata": {},
   "outputs": [
    {
     "name": "stdout",
     "output_type": "stream",
     "text": [
      "11 9 9 9\n",
      "0 9\n"
     ]
    }
   ],
   "source": [
    "m, seed, x1, x2 = map(int, input().split())\n",
    "\n",
    "cands = []\n",
    "\n",
    "for a in range(m):\n",
    "    x2_to_check = a * x1 % m\n",
    "    \n",
    "    if x2 < x2_to_check:\n",
    "        x2_to_check -= m\n",
    "    \n",
    "    c = x2 - x2_to_check \n",
    "    cands.append((a, c))\n",
    "    \n",
    "for a, c in cands:\n",
    "    if x1 == (a * seed + c) % m:\n",
    "        print(a, c)\n",
    "        break"
   ]
  },
  {
   "cell_type": "markdown",
   "metadata": {},
   "source": [
    "### 역전의 제왕 (Easy) 20416"
   ]
  },
  {
   "cell_type": "code",
   "execution_count": 48,
   "metadata": {},
   "outputs": [
    {
     "name": "stdout",
     "output_type": "stream",
     "text": [
      "3 7\n",
      "[0, 1, 2] [(2, 298, 0), (1, 76, 1), (1, 141, 2)] [2, 1, 1] [298, 76, 141] [0, 0, 0]\n",
      "[1, 0, 2] [(2, 274, 1), (2, 298, 0), (1, 141, 2)] [2, 2, 1] [298, 274, 141] [0, 1, 0]\n",
      "[0, 1, 2] [(3, 632, 0), (2, 274, 1), (1, 141, 2)] [3, 2, 1] [632, 274, 141] [1, 1, 0]\n",
      "[1, 0, 2] [(3, 478, 1), (3, 632, 0), (1, 141, 2)] [3, 3, 1] [632, 478, 141] [1, 2, 0]\n",
      "2\n"
     ]
    }
   ],
   "source": [
    "n, m = map(int, input().split())\n",
    "\n",
    "solved = [0] * (n)\n",
    "penalty = [0] * (n)\n",
    "afs = [[] for _ in range(n)] # after being freezed submission, afs[s_id] = [(p_id, t, c)]\n",
    "\n",
    "# for _ in range(m):\n",
    "#     li = input().split()\n",
    "\n",
    "s = '''00:38 1 4 3\n",
    "01:16 2 2 1\n",
    "02:01 3 1 2\n",
    "03:00 1 2 3\n",
    "03:04 2 3 2\n",
    "03:18 2 1 1\n",
    "03:54 1 3 6'''\n",
    "for li in s.split('\\n'):\n",
    "    li = li.split()\n",
    "    li[0] = list(map(int, li[0].split(':')))\n",
    "    li[0] = li[0][0] * 60 + li[0][1]\n",
    "    li = list(map(int, li))\n",
    "    \n",
    "    t, st_id, p_id, c = li\n",
    "    st_id -= 1\n",
    "    # 프리징 상태가 아닌 경우\n",
    "    if t <= 180:\n",
    "        solved[st_id] += 1\n",
    "        pt = t + (c - 1) * 20\n",
    "        penalty[st_id] += pt\n",
    "        \n",
    "    # 프리징된 경우\n",
    "    else:\n",
    "        afs[st_id].append((p_id, t, c))\n",
    "\n",
    "for i in range(n):\n",
    "    afs[i].sort(reverse=True)\n",
    "    \n",
    "score = [(solved[i], penalty[i], i) for i in range(n)]\n",
    "score.sort(key=lambda x: (-x[0], x[1]))\n",
    "rank = [score[i][2] for i in range(n)]\n",
    "top = [0] * n # take over point\n",
    "\n",
    "print(rank, score, solved, penalty, top)\n",
    "while True:\n",
    "    for st_id in reversed(rank):\n",
    "        if not afs[st_id]:\n",
    "            continue\n",
    "        else:\n",
    "            p_id, t, c = afs[st_id].pop()\n",
    "\n",
    "            solved[st_id] += 1\n",
    "            pt = t + (c - 1) * 20\n",
    "            penalty[st_id] += pt\n",
    "            \n",
    "            score = [(solved[i], penalty[i], i) for i in range(n)]\n",
    "            score.sort(key=lambda x: (-x[0], x[1]))\n",
    "            nrank = [score[i][2] for i in range(n)]\n",
    "            top[st_id] += rank.index(st_id) - nrank.index(st_id)\n",
    "            \n",
    "            rank = nrank.copy()\n",
    "            \n",
    "            print(rank, score, solved, penalty, top)\n",
    "            break\n",
    "    else:\n",
    "        break\n",
    "    \n",
    "top = [(v, rank.index(i), i + 1) for i, v in enumerate(top)]\n",
    "top.sort(key=lambda x: (-x[0], x[1]))\n",
    "\n",
    "print(top[0][2])"
   ]
  },
  {
   "cell_type": "code",
   "execution_count": 40,
   "metadata": {},
   "outputs": [
    {
     "name": "stdout",
     "output_type": "stream",
     "text": [
      "3 7\n",
      "00:38 1 4 3\n",
      "01:16 2 2 1\n",
      "02:01 3 1 2\n",
      "03:00 1 2 3\n",
      "03:04 2 3 2\n",
      "03:18 2 1 1\n",
      "03:54 1 3 6\n",
      "2\n"
     ]
    }
   ],
   "source": [
    "n, m = map(int, input().split())\n",
    "\n",
    "solved = [0] * (n)\n",
    "penalty = [0] * (n)\n",
    "afs = [[] for _ in range(n)] # after being freezed submission, afs[s_id] = [(p_id, t, c)]\n",
    "\n",
    "for _ in range(m):\n",
    "    li = input().split()\n",
    "    li[0] = list(map(int, li[0].split(':')))\n",
    "    li[0] = li[0][0] * 60 + li[0][1]\n",
    "    li = list(map(int, li))\n",
    "    \n",
    "    t, st_id, p_id, c = li\n",
    "    st_id -= 1\n",
    "    # 프리징 상태가 아닌 경우\n",
    "    if t <= 180:\n",
    "        solved[st_id] += 1\n",
    "        pt = t + (c - 1) * 20\n",
    "        penalty[st_id] += pt\n",
    "        \n",
    "    # 프리징된 경우\n",
    "    else:\n",
    "        afs[st_id].append((p_id, t, c))\n",
    "\n",
    "for i in range(n):\n",
    "    afs[i].sort(reverse=True)\n",
    "    \n",
    "score = [(solved[i], penalty[i], i) for i in range(n)]\n",
    "score.sort(key=lambda x: (-x[0], x[1]))\n",
    "rank = [score[i][2] for i in range(n)]\n",
    "top = [0] * n # take over point\n",
    "\n",
    "# print(rank, score, solved, penalty, top)\n",
    "while True:\n",
    "    for st_id in reversed(rank):\n",
    "        if not afs[st_id]:\n",
    "            continue\n",
    "        else:\n",
    "            p_id, t, c = afs[st_id].pop()\n",
    "\n",
    "            solved[st_id] += 1\n",
    "            pt = t + (c - 1) * 20\n",
    "            penalty[st_id] += pt\n",
    "            \n",
    "            score = [(solved[i], penalty[i], i) for i in range(n)]\n",
    "            score.sort(key=lambda x: (-x[0], x[1]))\n",
    "            nrank = [score[i][2] for i in range(n)]\n",
    "            top[st_id] += rank.index(st_id) - nrank.index(st_id)\n",
    "            \n",
    "            rank = nrank.copy()\n",
    "            \n",
    "#             print(rank, score, solved, penalty, top)\n",
    "            break\n",
    "    else:\n",
    "        break\n",
    "    \n",
    "top = [(v, rank.index(i), i + 1) for i, v in enumerate(top)]\n",
    "top.sort(key=lambda x: (-x[0], x[1]))\n",
    "\n",
    "print(top[0][2])"
   ]
  },
  {
   "cell_type": "markdown",
   "metadata": {},
   "source": [
    "### 역전의 제왕 (Normal) 20417"
   ]
  },
  {
   "cell_type": "code",
   "execution_count": 50,
   "metadata": {},
   "outputs": [
    {
     "name": "stdout",
     "output_type": "stream",
     "text": [
      "3 7\n",
      "[0, 1, 2] [(2, 298, 234, 0), (1, 76, 234, 1), (1, 141, 234, 2)] [2, 1, 1] [298, 76, 141] [0, 0, 0]\n",
      "[1, 0, 2] [(2, 274, 198, 1), (2, 298, 198, 0), (1, 141, 198, 2)] [2, 2, 1] [298, 274, 141] [0, 1, 0]\n",
      "[0, 1, 2] [(3, 632, 234, 0), (2, 274, 234, 1), (1, 141, 234, 2)] [3, 2, 1] [632, 274, 141] [1, 1, 0]\n",
      "[1, 0, 2] [(3, 478, 198, 1), (3, 632, 198, 0), (1, 141, 198, 2)] [3, 3, 1] [632, 478, 141] [1, 2, 0]\n",
      "2\n"
     ]
    }
   ],
   "source": [
    "n, m = map(int, input().split())\n",
    "\n",
    "solved = [0] * (n)\n",
    "penalty = [0] * (n)\n",
    "afs = [[] for _ in range(n)] # after being freezed submission, afs[s_id] = [(p_id, t, c)]\n",
    "last_submitted = [0] * n\n",
    "\n",
    "# for _ in range(m):\n",
    "#     li = input().split()\n",
    "\n",
    "s = '''00:38 1 4 3\n",
    "01:16 2 2 1\n",
    "02:01 3 1 2\n",
    "03:00 1 2 3\n",
    "03:04 2 3 2\n",
    "03:18 2 1 1\n",
    "03:54 1 3 6'''\n",
    "for li in s.split('\\n'):\n",
    "    li = li.split()\n",
    "    li[0] = list(map(int, li[0].split(':')))\n",
    "    li[0] = li[0][0] * 60 + li[0][1]\n",
    "    li = list(map(int, li))\n",
    "    \n",
    "    t, st_id, p_id, c = li\n",
    "    st_id -= 1\n",
    "    \n",
    "    last_submitted[st_id] = t\n",
    "    \n",
    "    # 프리징 상태가 아닌 경우\n",
    "    if t <= 180:\n",
    "        solved[st_id] += 1\n",
    "        pt = t + (c - 1) * 20\n",
    "        penalty[st_id] += pt\n",
    "        \n",
    "    # 프리징된 경우\n",
    "    else:\n",
    "        afs[st_id].append((p_id, t, c))\n",
    "\n",
    "for i in range(n):\n",
    "    afs[i].sort(reverse=True)\n",
    "    \n",
    "score = [(solved[i], penalty[i], last_submitted[st_id], i) for i in range(n)]\n",
    "score.sort(key=lambda x: (-x[0], x[1], x[2]))\n",
    "rank = [score[i][3] for i in range(n)]\n",
    "top = [0] * n # take over point\n",
    "\n",
    "print(rank, score, solved, penalty, top)\n",
    "while True:\n",
    "    for st_id in reversed(rank):\n",
    "        if not afs[st_id]:\n",
    "            continue\n",
    "        else:\n",
    "            p_id, t, c = afs[st_id].pop()\n",
    "\n",
    "            solved[st_id] += 1\n",
    "            pt = t + (c - 1) * 20\n",
    "            penalty[st_id] += pt\n",
    "            \n",
    "            score = [(solved[i], penalty[i], last_submitted[st_id], i) for i in range(n)]\n",
    "            score.sort(key=lambda x: (-x[0], x[1], x[2]))\n",
    "            nrank = [score[i][3] for i in range(n)]\n",
    "            top[st_id] += rank.index(st_id) - nrank.index(st_id)\n",
    "            \n",
    "            rank = nrank.copy()\n",
    "            \n",
    "            print(rank, score, solved, penalty, top)\n",
    "            break\n",
    "    else:\n",
    "        break\n",
    "    \n",
    "top = [(v, rank.index(i), i + 1) for i, v in enumerate(top)]\n",
    "top.sort(key=lambda x: (-x[0], x[1]))\n",
    "\n",
    "print(top[0][2])"
   ]
  },
  {
   "cell_type": "code",
   "execution_count": 54,
   "metadata": {},
   "outputs": [
    {
     "name": "stdout",
     "output_type": "stream",
     "text": [
      "3 7\n",
      "00:38 1 4 3\n",
      "01:16 2 2 1\n",
      "02:01 3 1 2\n",
      "03:00 1 2 3\n",
      "03:04 2 3 2\n",
      "03:18 2 1 1\n",
      "03:54 1 3 6\n",
      "2\n"
     ]
    }
   ],
   "source": [
    "n, m = map(int, input().split())\n",
    "\n",
    "solved = [0] * (n)\n",
    "penalty = [0] * (n)\n",
    "afs = [[] for _ in range(n)] # after being freezed submission, afs[s_id] = [(p_id, t, c)]\n",
    "last_submitted = [0] * n\n",
    "\n",
    "added = 0.00001\n",
    "for _ in range(m):\n",
    "    li = input().split()\n",
    "    li[0] = list(map(int, li[0].split(':')))\n",
    "    li[0] = li[0][0] * 60 + li[0][1]\n",
    "    li = list(map(int, li))\n",
    "    \n",
    "    t, st_id, p_id, c = li\n",
    "    st_id -= 1\n",
    "    \n",
    "    # 프리징 상태가 아닌 경우\n",
    "    if t <= 180:\n",
    "        last_submitted[st_id] = t + added\n",
    "        added += 0.00001\n",
    "        \n",
    "        solved[st_id] += 1\n",
    "        pt = t + (c - 1) * 20\n",
    "        penalty[st_id] += pt\n",
    "        \n",
    "    # 프리징된 경우\n",
    "    else:\n",
    "        afs[st_id].append((p_id, t, c))\n",
    "\n",
    "for i in range(n):\n",
    "    afs[i].sort(reverse=True)\n",
    "    \n",
    "score = [(solved[i], penalty[i], last_submitted[i], i) for i in range(n)]\n",
    "score.sort(key=lambda x: (-x[0], x[1], x[2]))\n",
    "rank = [score[i][3] for i in range(n)]\n",
    "top = [0] * n # take over point\n",
    "while True:\n",
    "    for st_id in reversed(rank):\n",
    "        if not afs[st_id]:\n",
    "            continue\n",
    "        else:\n",
    "            p_id, t, c = afs[st_id].pop()\n",
    "            \n",
    "            last_submitted[st_id] = t + added\n",
    "            added += 0.00001\n",
    "\n",
    "            solved[st_id] += 1\n",
    "            pt = t + (c - 1) * 20\n",
    "            penalty[st_id] += pt\n",
    "            \n",
    "            score = [(solved[i], penalty[i], last_submitted[i], i) for i in range(n)]\n",
    "            score.sort(key=lambda x: (-x[0], x[1], x[2]))\n",
    "            nrank = [score[i][3] for i in range(n)]\n",
    "            top[st_id] += rank.index(st_id) - nrank.index(st_id)\n",
    "            \n",
    "            rank = nrank.copy()\n",
    "            break\n",
    "    else:\n",
    "        break\n",
    "    \n",
    "top = [(v, rank.index(i), i + 1) for i, v in enumerate(top)]\n",
    "top.sort(key=lambda x: (-x[0], x[1]))\n",
    "\n",
    "print(top[0][2])"
   ]
  },
  {
   "cell_type": "code",
   "execution_count": null,
   "metadata": {},
   "outputs": [],
   "source": [
    "3 7\n",
    "00:38 1 4 3\n",
    "01:16 2 2 1\n",
    "02:01 3 1 2\n",
    "03:00 1 2 3\n",
    "03:04 2 3 2\n",
    "03:18 2 1 1\n",
    "03:54 1 3 6\n",
    "2"
   ]
  },
  {
   "cell_type": "code",
   "execution_count": 55,
   "metadata": {},
   "outputs": [
    {
     "data": {
      "text/plain": [
       "[234.00006, 184.00007, 121.00003]"
      ]
     },
     "execution_count": 55,
     "metadata": {},
     "output_type": "execute_result"
    }
   ],
   "source": [
    "last_submitted"
   ]
  },
  {
   "cell_type": "code",
   "execution_count": null,
   "metadata": {},
   "outputs": [],
   "source": []
  }
 ],
 "metadata": {
  "kernelspec": {
   "display_name": "Python 3",
   "language": "python",
   "name": "python3"
  },
  "language_info": {
   "codemirror_mode": {
    "name": "ipython",
    "version": 3
   },
   "file_extension": ".py",
   "mimetype": "text/x-python",
   "name": "python",
   "nbconvert_exporter": "python",
   "pygments_lexer": "ipython3",
   "version": "3.7.3"
  }
 },
 "nbformat": 4,
 "nbformat_minor": 4
}
