{
 "cells": [
  {
   "cell_type": "markdown",
   "metadata": {},
   "source": [
    "tier:g4.. (tag:binary_search|tag:parametric_search) - solved_by:hsh8086 - tag:lis"
   ]
  },
  {
   "cell_type": "markdown",
   "metadata": {},
   "source": [
    "### 창영이와 퇴근 2216"
   ]
  },
  {
   "cell_type": "code",
   "execution_count": 27,
   "metadata": {},
   "outputs": [
    {
     "name": "stdout",
     "output_type": "stream",
     "text": [
      "3\n",
      "1 2 3\n",
      "1 2 3\n",
      "1 2 3\n",
      "1\n"
     ]
    }
   ],
   "source": [
    "from collections import deque\n",
    "import sys\n",
    "# input = lambda: sys.stdin.readline().rstrip()\n",
    "\n",
    "def check(mid):\n",
    "    vt = [[False] * n for _ in range(n)]\n",
    "    vt[0][0] = True\n",
    "    \n",
    "    queue = deque()\n",
    "    queue.append((0, 0))\n",
    "    while queue:\n",
    "        x, y = queue.popleft()\n",
    "        \n",
    "        for i in range(4):\n",
    "            nx = x + dx[i]\n",
    "            ny = y + dy[i]\n",
    "            \n",
    "            if nx < 0 or nx >= n or ny < 0 or ny >= n:\n",
    "                continue\n",
    "            if abs(li[x][y] - li[nx][ny]) > mid:\n",
    "                continue\n",
    "            if not vt[nx][ny]:\n",
    "                vt[nx][ny] = True\n",
    "                \n",
    "                if nx == n - 1 and ny == n - 1:\n",
    "                    return True\n",
    "                queue.append((nx, ny))\n",
    "    return False\n",
    "     \n",
    "n = int(input())\n",
    "li = [list(map(int, input().split())) for _ in range(n)]\n",
    "    \n",
    "possibles = set()\n",
    "for i in range(n):\n",
    "    for j in range(n - 1):\n",
    "        temp = abs(li[i][j + 1] - li[i][j])\n",
    "        possibles.add(temp)\n",
    "        \n",
    "for j in range(n):\n",
    "    for i in range(n - 1):\n",
    "        temp = abs(li[i + 1][j] - li[i][j])\n",
    "        possibles.add(temp)\n",
    "        \n",
    "possibles = sorted(possibles)\n",
    "    \n",
    "if n == 1:\n",
    "    print(0)\n",
    "else:\n",
    "    si = 0\n",
    "    ei = len(possibles) - 1\n",
    "\n",
    "    dx = [-1, 1, 0, 0]\n",
    "    dy = [0, 0, -1 ,1]\n",
    "\n",
    "    result = float('inf')\n",
    "    while si <= ei:\n",
    "        mi = (si + ei) // 2\n",
    "        mid = possibles[mi]\n",
    "\n",
    "        if check(mid):\n",
    "            result = mid\n",
    "            ei = mi - 1\n",
    "        else:\n",
    "            si = mi + 1\n",
    "\n",
    "    print(result)"
   ]
  },
  {
   "cell_type": "markdown",
   "metadata": {},
   "source": [
    "### 암벽 등반 2412"
   ]
  },
  {
   "cell_type": "code",
   "execution_count": 29,
   "metadata": {},
   "outputs": [
    {
     "data": {
      "text/plain": [
       "4"
      ]
     },
     "execution_count": 29,
     "metadata": {},
     "output_type": "execute_result"
    }
   ],
   "source": [
    "from bisect import bisect_left, bisect\n",
    "from collections import deque\n",
    "import sys\n",
    "# input = lambda: sys.stdin.readline().rstrip()\n",
    "\n",
    "def bfs():\n",
    "    vt = {(0, 0)}\n",
    "    queue = deque()\n",
    "    queue.append((0, 0, 0))\n",
    "    while queue:\n",
    "        x, y, c = queue.popleft()\n",
    "\n",
    "        if y == t:\n",
    "            return c\n",
    "\n",
    "        for dx in range(-2, 3):\n",
    "            nx = x + dx\n",
    "            x_le = bisect_left(xs, nx)\n",
    "\n",
    "            if x_le >= n or xs[x_le] != nx:\n",
    "                continue\n",
    "\n",
    "            x_ri = bisect(xs, nx) - 1\n",
    "\n",
    "            y_le = bisect_left(ys, y - 2, lo=x_le, hi=x_ri + 1)\n",
    "            y_ri = bisect(ys, y + 2, lo=x_le, hi=x_ri + 1)\n",
    "            for i in range(y_le, y_ri):\n",
    "                ny = ys[i]\n",
    "\n",
    "                if (nx, ny) in vt:\n",
    "                    continue\n",
    "                vt.add((nx, ny))\n",
    "                queue.append((nx, ny, c + 1))\n",
    "                \n",
    "    return -1\n",
    "\n",
    "n, t = map(int, input().split())\n",
    "li = [list(map(int, input().split())) for _ in range(n)]\n",
    "\n",
    "li.sort()\n",
    "\n",
    "xs = []\n",
    "ys = []\n",
    "for v in li:\n",
    "    xs.append(v[0])\n",
    "    ys.append(v[1])\n",
    "\n",
    "r = bfs()\n",
    "\n",
    "print(r)"
   ]
  },
  {
   "cell_type": "markdown",
   "metadata": {},
   "source": [
    "### 성싶당 밀키트 24041"
   ]
  },
  {
   "cell_type": "code",
   "execution_count": 23,
   "metadata": {},
   "outputs": [
    {
     "name": "stdout",
     "output_type": "stream",
     "text": [
      "4 36 2\n",
      "2 14 1\n",
      "3 8 1\n",
      "5 12 1\n",
      "7 10 0\n",
      "14\n"
     ]
    }
   ],
   "source": [
    "import sys\n",
    "# input = lambda: sys.stdin.readline().rstrip()\n",
    "\n",
    "def check(x):\n",
    "    total = 0\n",
    "    for s, l in impts:\n",
    "        total += s * max(1, x - l)\n",
    "    \n",
    "    remain = g - total\n",
    "    if remain < 0:\n",
    "        return False\n",
    "    \n",
    "    temp = []\n",
    "    for s, l in unimpts:\n",
    "        temp.append(s * max(1, x - l))\n",
    "    temp.sort()\n",
    "    \n",
    "    ctd = oc # count to discard\n",
    "    for i in range(oc):\n",
    "        if temp[i] <= remain:\n",
    "            remain -= temp[i]\n",
    "            ctd -= 1\n",
    "        else:\n",
    "            break\n",
    "\n",
    "    if ctd <= k:\n",
    "        return True\n",
    "    else:\n",
    "        return False\n",
    "    \n",
    "n, g, k = map(int, input().split())\n",
    "\n",
    "impts = []\n",
    "unimpts = []\n",
    "for _ in range(n):\n",
    "    temp = list(map(int, input().split()))\n",
    "    \n",
    "    if temp[2]:\n",
    "        unimpts.append((temp[0], temp[1]))\n",
    "    else:\n",
    "        impts.append((temp[0], temp[1]))\n",
    "    \n",
    "start = 0\n",
    "end = int(1e11)\n",
    "result = 0\n",
    "oc = len(unimpts)\n",
    "while start <= end:\n",
    "    mid = (start + end) // 2\n",
    "    \n",
    "    if check(mid):\n",
    "        result = mid\n",
    "        start = mid + 1\n",
    "    else:\n",
    "        end = mid - 1\n",
    "        \n",
    "print(result)"
   ]
  },
  {
   "cell_type": "markdown",
   "metadata": {},
   "source": [
    "### 블록 쌓기 9998"
   ]
  },
  {
   "cell_type": "code",
   "execution_count": 107,
   "metadata": {},
   "outputs": [
    {
     "name": "stdout",
     "output_type": "stream",
     "text": [
      "3\n",
      "3 2 1\n",
      "1 2 3\n",
      "4\n"
     ]
    }
   ],
   "source": [
    "def bs(mid):\n",
    "    ct = mid # cur target\n",
    "    total = 0\n",
    "    for i in range(half_index + 1):\n",
    "        total += abs(li1[i] - ct) + abs(li2[i] - ct)\n",
    "        ct -= 1\n",
    "\n",
    "    ct += 2\n",
    "    for i in range(half_index + 1, n):\n",
    "        total += abs(li1[i] - ct) + abs(li2[i] - ct)\n",
    "        ct += 1    \n",
    "        \n",
    "    return total\n",
    "\n",
    "n = int(input())\n",
    "li1 = list(map(int, input().split()))\n",
    "li2 = list(map(int, input().split()))\n",
    "\n",
    "half_index = n // 2\n",
    "result = float('inf')\n",
    "start = n // 2\n",
    "end = int(1e12) * 3000000\n",
    "while start <= end:\n",
    "    m1 = (start + end) // 2\n",
    "    m2 = m1 + 1\n",
    "    \n",
    "    if m2 > end:\n",
    "        break\n",
    "        \n",
    "    t1 = bs(m1)\n",
    "    t2 = bs(m2)\n",
    "    result = min(result, t1, t2)\n",
    "    \n",
    "    if t1 < t2:\n",
    "        end = m1\n",
    "    elif t1 > t2:\n",
    "        start = m2\n",
    "    else:\n",
    "        break\n",
    "    \n",
    "print(result)"
   ]
  },
  {
   "cell_type": "markdown",
   "metadata": {},
   "source": [
    "tier:s2.. tag:dp solved:100.. - solved_by:hsh8086"
   ]
  },
  {
   "cell_type": "markdown",
   "metadata": {},
   "source": [
    "### 구간 나누기 2228"
   ]
  },
  {
   "cell_type": "code",
   "execution_count": null,
   "metadata": {},
   "outputs": [],
   "source": [
    "i에 waiting에 넣음\n",
    "i + 1에 waiting에 넣은 것을 잇던지, ready를 이용해서 새로 시작한 것을 wating에 넣을 수 있음, waiting을 ready로 옮길 수 있음"
   ]
  },
  {
   "cell_type": "code",
   "execution_count": 42,
   "metadata": {},
   "outputs": [
    {
     "name": "stdout",
     "output_type": "stream",
     "text": [
      "3 1\n",
      "1\n",
      "1\n",
      "1\n",
      "3\n"
     ]
    }
   ],
   "source": [
    "n, m = map(int, input().split())\n",
    "li = [int(input()) for _ in range(n)]\n",
    "\n",
    "waiting = [-float('inf')] * m\n",
    "ready = [-float('inf')] * m\n",
    "for i in range(n):\n",
    "    nwaiting1 = [-float('inf')] * m\n",
    "    for j in range(m):\n",
    "        if j == 0:\n",
    "            nwaiting1[j] = max(0, waiting[j]) + li[i]\n",
    "        else:\n",
    "            nwaiting1[j] = waiting[j] + li[i]\n",
    "    nwaiting2 = [-float('inf')] * m\n",
    "    for j in range(m - 1):    \n",
    "        nwaiting2[j + 1] = ready[j] + li[i]\n",
    "        \n",
    "    nwaiting = [-float('inf')] * m\n",
    "    for j in range(m):\n",
    "        ready[j] = max(ready[j], waiting[j])\n",
    "        nwaiting[j] = max(nwaiting1[j], nwaiting2[j])\n",
    "        waiting[j] = nwaiting[j]\n",
    "    \n",
    "print(max(ready[-1], waiting[-1]))"
   ]
  },
  {
   "cell_type": "markdown",
   "metadata": {},
   "source": [
    "### 조 짜기 2229"
   ]
  },
  {
   "cell_type": "code",
   "execution_count": 48,
   "metadata": {},
   "outputs": [
    {
     "data": {
      "text/plain": [
       "20"
      ]
     },
     "execution_count": 48,
     "metadata": {},
     "output_type": "execute_result"
    }
   ],
   "source": [
    "이전 것들이 결정되어 있는 경우에 새로 시작할 수도 있고, 이전 그룹과 이을 수도 있음"
   ]
  },
  {
   "cell_type": "code",
   "execution_count": null,
   "metadata": {},
   "outputs": [],
   "source": [
    "from collections import deque\n",
    "\n",
    "n = int(input())\n",
    "li = list(map(int, input().split()))\n",
    "\n",
    "dp = deque([(li[0], li[0], 0)])\n",
    "for i in range(1, n):\n",
    "    nv = 0 # new value\n",
    "    for _ in range(len(dp)):\n",
    "        mi, ma, v = dp.popleft()\n",
    "        nv = max(nv, ma - mi + v)\n",
    "        dp.append((min(li[i], mi), max(li[i], ma), v))\n",
    "    dp.append((li[i], li[i], nv))\n",
    "    \n",
    "fs = 0 # final score\n",
    "while dp:\n",
    "    mi, ma, v = dp.popleft()\n",
    "    fs = max(fs, ma - mi + v)\n",
    "    \n",
    "print(fs)"
   ]
  },
  {
   "cell_type": "markdown",
   "metadata": {},
   "source": [
    "### 동전 바꿔주기 2624"
   ]
  },
  {
   "cell_type": "code",
   "execution_count": 6,
   "metadata": {},
   "outputs": [
    {
     "name": "stdout",
     "output_type": "stream",
     "text": [
      "4\n"
     ]
    }
   ],
   "source": [
    "t = int(input())\n",
    "k = int(input())\n",
    "li = [list(map(int, input().split())) for _ in range(k)]\n",
    "\n",
    "dp = [0] * (t + 1)\n",
    "dp[0] = 1\n",
    "for i in range(k):\n",
    "    fv, amount = li[i] # fv: face value\n",
    "    cumul = 0\n",
    "    used = [set() for _ in range(t + 1)] # {(해당 액면가 동전 사용 횟수, 경우의 수)}\n",
    "    for j in range(fv, t + 1):\n",
    "        if dp[j - fv] >= 1:\n",
    "            used[j].add((1, dp[j - fv]))\n",
    "        for used_count, case_count in used[j - fv]:\n",
    "            if used_count == amount:\n",
    "                continue\n",
    "            used[j].add((used_count + 1, case_count))\n",
    "\n",
    "    for j in range(fv, t + 1):\n",
    "        for _, case_count in used[j]:\n",
    "            dp[j] += case_count\n",
    "            \n",
    "print(dp[t])"
   ]
  },
  {
   "cell_type": "code",
   "execution_count": null,
   "metadata": {},
   "outputs": [],
   "source": [
    "t = int(input())\n",
    "k = int(input())\n",
    "li = [list(map(int, input().split())) for _ in range(k)]\n",
    "\n",
    "dp = [[0] * (t + 1) for _ in range(k + 1)]\n",
    "dp[0][0] = 1\n",
    "for i in range(k):\n",
    "    fv, amount = li[i] # fv: face value\n",
    "    \n",
    "    cumul = 0\n",
    "    for _ in range(1, amount + 1):\n",
    "        cumul += fv\n",
    "        if cumul > t:\n",
    "            break\n",
    "        \n",
    "        for j in range(cumul, t + 1):\n",
    "            dp[i + 1][j] += dp[i][j - cumul]\n",
    "            \n",
    "    for j in range(t + 1):\n",
    "        dp[i + 1][j] += dp[i][j]\n",
    "        \n",
    "print(dp[k][t])"
   ]
  },
  {
   "cell_type": "markdown",
   "metadata": {},
   "source": [
    "### 팰린드롬 파티션 2705"
   ]
  },
  {
   "cell_type": "code",
   "execution_count": 12,
   "metadata": {},
   "outputs": [
    {
     "name": "stdout",
     "output_type": "stream",
     "text": [
      "1\n",
      "2\n",
      "2\n"
     ]
    }
   ],
   "source": [
    "import sys\n",
    "# input = lambda: sys.stdin.readline().rstrip()\n",
    "\n",
    "for _ in range(int(input())):\n",
    "    n = int(input())\n",
    "\n",
    "    dp = [-1] * (n + 1)\n",
    "    dp[0] = dp[1] = 1\n",
    "\n",
    "    def recur(num):\n",
    "        if dp[num] != -1:\n",
    "            return dp[num]\n",
    "\n",
    "        mid = 0\n",
    "        if num % 2 == 1:\n",
    "            mid += 1\n",
    "\n",
    "        temp = 0\n",
    "        while True:\n",
    "            left_and_right = (num - mid) // 2\n",
    "            if left_and_right < 0:\n",
    "                break\n",
    "            temp += recur(left_and_right)\n",
    "            mid += 2\n",
    "\n",
    "        dp[num] = temp\n",
    "        return temp\n",
    "\n",
    "\n",
    "    r = recur(n)\n",
    "\n",
    "    print(r)"
   ]
  },
  {
   "cell_type": "markdown",
   "metadata": {},
   "source": [
    "### 보드 점프 3372"
   ]
  },
  {
   "cell_type": "code",
   "execution_count": 17,
   "metadata": {},
   "outputs": [
    {
     "name": "stdout",
     "output_type": "stream",
     "text": [
      "3\n"
     ]
    }
   ],
   "source": [
    "n = int(input())\n",
    "li = [list(map(int, input().split())) for _ in range(n)]\n",
    "\n",
    "dp = [[0] * n for _ in range(n)]\n",
    "dp[0][0] = 1\n",
    "for i in range(n):\n",
    "    for j in range(n):\n",
    "        if i == 0 and j == 0:\n",
    "            continue\n",
    "        \n",
    "        temp = 0\n",
    "        \n",
    "        nj = j\n",
    "        cur_check = 1\n",
    "        while True:\n",
    "            nj -= 1\n",
    "            if nj < 0:\n",
    "                break\n",
    "            if li[i][nj] == cur_check:\n",
    "                temp += dp[i][nj]\n",
    "            cur_check += 1\n",
    "            \n",
    "        ni = i\n",
    "        cur_check = 1\n",
    "        while True:\n",
    "            ni -= 1\n",
    "            if ni < 0:\n",
    "                break\n",
    "            if li[ni][j] == cur_check:\n",
    "                temp += dp[ni][j]\n",
    "            cur_check += 1\n",
    "            \n",
    "        dp[i][j] = temp\n",
    "        \n",
    "print(dp[-1][-1])"
   ]
  },
  {
   "cell_type": "markdown",
   "metadata": {},
   "source": [
    "### 맹세 3407"
   ]
  },
  {
   "cell_type": "code",
   "execution_count": 25,
   "metadata": {},
   "outputs": [],
   "source": [
    "import re\n",
    "s = '''Ac\tTh\tPa\tU\tNp\tPu\tAm\tCm\tBk\tCf\tEs\tFm\tMd\tNo\tLr\n",
    "La\tCe\tPr\tNd\tPm\tSm\tEu\tGd\tTb\tDy\tHo\tEr\tTm\tYb\tLu\n",
    "H\t \t \t \t \t \t \t \t \t \t \t \t \t \t \t \t \tHe\n",
    "Li\tBe\t \t \t \t \t \t \t \t \t \t \tB\tC\tN\tO\tF\tNe\n",
    "Na\tMg\t \t \t \t \t \t \t \t \t \t \tAl\tSi\tP\tS\tCl\tAr\n",
    "K\tCa\tSc\tTi\tV\tCr\tMn\tFe\tCo\tNi\tCu\tZn\tGa\tGe\tAs\tSe\tBr\tKr\n",
    "Rb\tSr\tY\tZr\tNb\tMo\tTc\tRu\tRh\tPd\tAg\tCd\tIn\tSn\tSb\tTe\tI\tXe\n",
    "Cs\tBa\t*\tHf\tTa\tW\tRe\tOs\tIr\tPt\tAu\tHg\tTl\tPb\tBi\tPo\tAt\tRn\n",
    "Fr\tRa\t**\tRf\tDb\tSg\tBh\tHs\tMt\tDs\tRg\tCn\t \tFl\t \tLv\t \t \n",
    "'''\n",
    "\n",
    "li = ['Ac', 'Th', 'Pa', 'U', 'Np', 'Pu', 'Am', 'Cm', 'Bk', 'Cf', 'Es', 'Fm', 'Md', 'No', 'Lr', 'La', 'Ce', 'Pr', 'Nd', 'Pm', 'Sm', 'Eu', 'Gd', 'Tb', 'Dy', 'Ho', 'Er', 'Tm', 'Yb', 'Lu', 'H', 'He', 'Li', 'Be', 'B', 'C', 'N', 'O', 'F', 'Ne', 'Na', 'Mg', 'Al', 'Si', 'P', 'S', 'Cl', 'Ar', 'K', 'Ca', 'Sc', 'Ti', 'V', 'Cr', 'Mn', 'Fe', 'Co', 'Ni', 'Cu', 'Zn', 'Ga', 'Ge', 'As', 'Se', 'Br', 'Kr', 'Rb', 'Sr', 'Y', 'Zr', 'Nb', 'Mo', 'Tc', 'Ru', 'Rh', 'Pd', 'Ag', 'Cd', 'In', 'Sn', 'Sb', 'Te', 'I', 'Xe', 'Cs', 'Ba', 'Hf', 'Ta', 'W', 'Re', 'Os', 'Ir', 'Pt', 'Au', 'Hg', 'Tl', 'Pb', 'Bi', 'Po', 'At', 'Rn', 'Fr', 'Ra', 'Rf', 'Db', 'Sg', 'Bh', 'Hs', 'Mt', 'Ds', 'Rg', 'Cn', 'Fl', 'Lv']\n",
    "li = [v.lower() for v in li]\n",
    "st = set(li)"
   ]
  },
  {
   "cell_type": "code",
   "execution_count": 39,
   "metadata": {},
   "outputs": [
    {
     "name": "stdout",
     "output_type": "stream",
     "text": [
      "1\n",
      "ipr\n",
      "YES\n"
     ]
    }
   ],
   "source": [
    "import sys\n",
    "# input = lambda: sys.stdin.readline().rstrip()\n",
    "\n",
    "li = ['Ac', 'Th', 'Pa', 'U', 'Np', 'Pu', 'Am', 'Cm', 'Bk', 'Cf', 'Es', 'Fm', 'Md', 'No', 'Lr', 'La', 'Ce', 'Pr', 'Nd', 'Pm', 'Sm', 'Eu', 'Gd', 'Tb', 'Dy', 'Ho', 'Er', 'Tm', 'Yb', 'Lu', 'H', 'He', 'Li', 'Be', 'B', 'C', 'N', 'O', 'F', 'Ne', 'Na', 'Mg', 'Al', 'Si', 'P', 'S', 'Cl', 'Ar', 'K', 'Ca', 'Sc', 'Ti', 'V', 'Cr', 'Mn', 'Fe', 'Co', 'Ni', 'Cu', 'Zn', 'Ga', 'Ge', 'As', 'Se', 'Br', 'Kr', 'Rb', 'Sr', 'Y', 'Zr', 'Nb', 'Mo', 'Tc', 'Ru', 'Rh', 'Pd', 'Ag', 'Cd', 'In', 'Sn', 'Sb', 'Te', 'I', 'Xe', 'Cs', 'Ba', 'Hf', 'Ta', 'W', 'Re', 'Os', 'Ir', 'Pt', 'Au', 'Hg', 'Tl', 'Pb', 'Bi', 'Po', 'At', 'Rn', 'Fr', 'Ra', 'Rf', 'Db', 'Sg', 'Bh', 'Hs', 'Mt', 'Ds', 'Rg', 'Cn', 'Fl', 'Lv']\n",
    "li = [v.lower() for v in li]\n",
    "st = set(li)\n",
    "\n",
    "for _ in range(int(input())):\n",
    "    s = input()\n",
    "    n = len(s)\n",
    "\n",
    "    dp = [False] * n\n",
    "    if s[0] in st:\n",
    "        dp[0] = True\n",
    "        \n",
    "    if n == 1:\n",
    "        if dp[0]:\n",
    "            print('YES')\n",
    "        else:\n",
    "            print('NO')\n",
    "    else:\n",
    "        if s[1] in st:\n",
    "            dp[1] = dp[0]\n",
    "        if s[:2] in st:\n",
    "            dp[1] = True\n",
    "\n",
    "        for i in range(2, n):\n",
    "            if s[i] in st:\n",
    "                dp[i] = dp[i - 1]\n",
    "            if s[i - 1:i + 1] in st:\n",
    "                dp[i] = any((dp[i], dp[i - 2]))\n",
    "\n",
    "        if dp[n - 1]:\n",
    "            print('YES')\n",
    "        else:\n",
    "            print('NO')"
   ]
  },
  {
   "cell_type": "code",
   "execution_count": 40,
   "metadata": {},
   "outputs": [
    {
     "name": "stdout",
     "output_type": "stream",
     "text": [
      "1\n",
      "4\n",
      "2331\n",
      "1213\n",
      "1231\n",
      "3110\n",
      "3\n"
     ]
    }
   ],
   "source": [
    "import sys\n",
    "# input = lambda: sys.stdin.readline().rstrip()\n",
    "\n",
    "while True:\n",
    "    n = int(input())\n",
    "    if n == -1:\n",
    "        break\n",
    "    \n",
    "    li = [list(map(int, input())) for _ in range(n)]\n",
    "\n",
    "    dp = [[0] * n for _ in range(n)]\n",
    "    dp[0][0] = 1\n",
    "    for i in range(n):\n",
    "        for j in range(n):\n",
    "            if i == 0 and j == 0:\n",
    "                continue\n",
    "\n",
    "            temp = 0\n",
    "\n",
    "            nj = j\n",
    "            cur_check = 1\n",
    "            while True:\n",
    "                nj -= 1\n",
    "                if nj < 0:\n",
    "                    break\n",
    "                if li[i][nj] == cur_check:\n",
    "                    temp += dp[i][nj]\n",
    "                cur_check += 1\n",
    "\n",
    "            ni = i\n",
    "            cur_check = 1\n",
    "            while True:\n",
    "                ni -= 1\n",
    "                if ni < 0:\n",
    "                    break\n",
    "                if li[ni][j] == cur_check:\n",
    "                    temp += dp[ni][j]\n",
    "                cur_check += 1\n",
    "\n",
    "            dp[i][j] = temp\n",
    "\n",
    "    print(dp[-1][-1])"
   ]
  },
  {
   "cell_type": "markdown",
   "metadata": {},
   "source": [
    "### Charm Bracelet 6144"
   ]
  },
  {
   "cell_type": "markdown",
   "metadata": {},
   "source": [
    "c++로 번역했어도 메모리 초과 나옴"
   ]
  },
  {
   "cell_type": "code",
   "execution_count": 169,
   "metadata": {},
   "outputs": [
    {
     "name": "stdout",
     "output_type": "stream",
     "text": [
      "deque([[0, 0, 0, 0, 0, 0, 0], [0, 4, 4, 4, 4, 4, 4]])\n",
      "deque([[0, 4, 4, 4, 4, 4, 4], [0, 4, 6, 10, 10, 10, 10]])\n",
      "deque([[0, 4, 6, 10, 10, 10, 10], [0, 4, 6, 12, 16, 18, 22]])\n",
      "deque([[0, 4, 6, 12, 16, 18, 22], [0, 4, 7, 12, 16, 19, 23]])\n",
      "23\n"
     ]
    }
   ],
   "source": [
    "from collections import deque\n",
    "import sys\n",
    "input = lambda: sys.stdin.readline().rstrip()\n",
    "\n",
    "n, m = map(int, input().split())\n",
    "li = [list(map(int, input().split())) for _ in range(n)]\n",
    "\n",
    "dp = deque()\n",
    "dp.extend([[0] * (m + 1) for _ in range(2)])\n",
    "for i in range(n):\n",
    "    w, d = li[i]\n",
    "    \n",
    "    if w > m:\n",
    "        dp[1] = dp[0]\n",
    "        continue\n",
    "    \n",
    "    for j in range(w):\n",
    "        dp[1][j] = dp[0][j]\n",
    "        \n",
    "    for j in range(w, m + 1):\n",
    "        dp[1][j] = max(dp[0][j], dp[0][j - w] + d)\n",
    "\n",
    "    dp.popleft()\n",
    "    dp.append([0] * (m + 1))\n",
    "        \n",
    "print(dp[0][m])"
   ]
  },
  {
   "cell_type": "code",
   "execution_count": 173,
   "metadata": {},
   "outputs": [
    {
     "name": "stdout",
     "output_type": "stream",
     "text": [
      "4 6\n",
      "1 4\n",
      "2 6\n",
      "3 12\n",
      "2 7\n",
      "23\n"
     ]
    }
   ],
   "source": [
    "import sys\n",
    "# input = lambda: sys.stdin.readline().rstrip()\n",
    "\n",
    "n, m = map(int, input().split())\n",
    "li = [list(map(int, input().split())) for _ in range(n)]\n",
    "\n",
    "dp = [0] * (m + 1)\n",
    "for i in range(n):\n",
    "    w, d = li[i]\n",
    "    \n",
    "    if w > m:\n",
    "        continue\n",
    "        \n",
    "    for j in range(m, w - 1, -1):\n",
    "        dp[j] = max(dp[j], dp[j - w] + d)\n",
    "        \n",
    "print(dp[m])"
   ]
  },
  {
   "cell_type": "markdown",
   "metadata": {},
   "source": [
    "### 박스 나누기 게임 11867"
   ]
  },
  {
   "cell_type": "code",
   "execution_count": 125,
   "metadata": {},
   "outputs": [
    {
     "name": "stdout",
     "output_type": "stream",
     "text": [
      "3 3\n",
      "B\n"
     ]
    }
   ],
   "source": [
    "def recur(n, m):\n",
    "    if dp[n][m] != -1:\n",
    "        return dp[n][m]\n",
    "    \n",
    "    status = 1\n",
    "    if n >= 2:\n",
    "        for left in range(1, n):\n",
    "            right = n - left\n",
    "            temp = recur(left, right) ^ 1\n",
    "            \n",
    "            if temp == 0:\n",
    "                status = 0\n",
    "                break\n",
    "    if m >= 2:\n",
    "        for left in range(1, m):\n",
    "            right = m - left\n",
    "            temp = recur(left, right) ^ 1\n",
    "            \n",
    "            if temp == 0:\n",
    "                status = 0\n",
    "                break\n",
    "                \n",
    "    dp[n][m] = status\n",
    "    return dp[n][m]\n",
    "\n",
    "n, m = map(int, input().split())\n",
    "    \n",
    "dp = [[-1] * 101 for _ in range(101)]\n",
    "dp[1][1] = 1 # 해당 턴의 사람이 이기면 0, 지면 1\n",
    "\n",
    "r = recur(n, m)\n",
    "if r == 0:\n",
    "    print('A')\n",
    "else:\n",
    "    print('B')"
   ]
  },
  {
   "cell_type": "markdown",
   "metadata": {},
   "source": [
    "### 피보나치 치킨 13270"
   ]
  },
  {
   "cell_type": "code",
   "execution_count": 136,
   "metadata": {},
   "outputs": [
    {
     "name": "stdout",
     "output_type": "stream",
     "text": [
      "6\n",
      "3 4\n"
     ]
    }
   ],
   "source": [
    "n = int(input())\n",
    "\n",
    "li = []\n",
    "a, b = 1, 2\n",
    "while b <= n:\n",
    "    li.append((b, a))\n",
    "    a, b = b, a + b\n",
    "    \n",
    "max_dp = [0] * (n + 1)\n",
    "min_dp = [float('inf')] * (n + 1)\n",
    "min_dp[0] = 0\n",
    "for popul, amount in li:\n",
    "    for i in range(popul, n + 1):\n",
    "        max_dp[i] = max(max_dp[i], max_dp[i - popul] + amount)\n",
    "        \n",
    "    for i in range(popul, n + 1):\n",
    "        min_dp[i] = min(min_dp[i], min_dp[i - popul] + amount)\n",
    "\n",
    "print(min_dp[n], max_dp[n])"
   ]
  },
  {
   "cell_type": "markdown",
   "metadata": {},
   "source": [
    "### Hoof, Paper, Scissors (Silver) 14453"
   ]
  },
  {
   "cell_type": "code",
   "execution_count": null,
   "metadata": {},
   "outputs": [],
   "source": [
    "hoof(0)가 scissors(1) 이김\n",
    "scissors(1)가 paper(2) 이김\n",
    "paper(2)가 hoof(0) 이김"
   ]
  },
  {
   "cell_type": "code",
   "execution_count": 141,
   "metadata": {},
   "outputs": [
    {
     "name": "stdout",
     "output_type": "stream",
     "text": [
      "5\n",
      "P\n",
      "P\n",
      "H\n",
      "P\n",
      "S\n",
      "4\n"
     ]
    }
   ],
   "source": [
    "import sys\n",
    "# input = lambda: sys.stdin.readline().rstrip()\n",
    "\n",
    "n = int(input())\n",
    "\n",
    "cumuls = [0, 0, 0]\n",
    "sli = [[0] * (n + 1) for _ in range(3)]\n",
    "cases = ['H', 'S', 'P']\n",
    "for j in range(n):\n",
    "    v = input()\n",
    "    \n",
    "    cumuls[cases.index(v)] += 1\n",
    "    for i in range(3):\n",
    "        sli[i][j + 1] = cumuls[i]\n",
    "\n",
    "max_wins = 0\n",
    "for cp in range(n):\n",
    "    for a in range(3):\n",
    "        for b in range(3):\n",
    "            temp = sli[a][cp] + sli[b][n] - sli[b][cp]\n",
    "            max_wins = max(max_wins, temp)\n",
    "            \n",
    "print(max_wins)"
   ]
  },
  {
   "cell_type": "markdown",
   "metadata": {},
   "source": [
    "### Secret of Chocolate Poles 15329"
   ]
  },
  {
   "cell_type": "code",
   "execution_count": null,
   "metadata": {},
   "outputs": [],
   "source": [
    "total은 l 이하, 두꺼운 것의 두께: k\n",
    "    \n",
    "가장 위와 가장 아래는 검은색\n",
    "\n",
    "흰색은 1 가능\n",
    "검은색은 1, k 가능"
   ]
  },
  {
   "cell_type": "code",
   "execution_count": null,
   "metadata": {},
   "outputs": [],
   "source": [
    "1\n",
    "\n",
    "k\n",
    "\n",
    "1\n",
    "1 w\n",
    "1\n",
    "\n",
    "1\n",
    "1 w\n",
    "k\n",
    "(해당 값 * 2)\n",
    "\n",
    "k\n",
    "1 w\n",
    "k\n",
    "\n",
    "1\n",
    "1 w\n",
    "recur 가능\n",
    "1 w\n",
    "1\n",
    "\n",
    "1\n",
    "1 w\n",
    "recur 가능\n",
    "1 w\n",
    "k\n",
    "(해당 값 * 2)\n",
    "\n",
    "k\n",
    "1 w\n",
    "recur 가능\n",
    "1 w\n",
    "k"
   ]
  },
  {
   "cell_type": "code",
   "execution_count": 151,
   "metadata": {},
   "outputs": [
    {
     "name": "stdout",
     "output_type": "stream",
     "text": [
      "100 2\n",
      "3626169232670\n"
     ]
    }
   ],
   "source": [
    "def recur(limit):\n",
    "    if dp[limit] != -1:\n",
    "        return dp[limit]\n",
    "    \n",
    "    count = 0\n",
    "    if limit - 1 >= 0:\n",
    "        count += 1\n",
    "        \n",
    "    if limit - k >= 0:\n",
    "        count += 1\n",
    "        \n",
    "    if limit - 3 >= 0:\n",
    "        count += 1\n",
    "    \n",
    "    if limit - k - 2 >= 0:\n",
    "        count += 2\n",
    "        \n",
    "    if limit - 2 * k - 1 >= 0:\n",
    "        count += 1\n",
    "        \n",
    "    nlimit = limit - 4\n",
    "    if nlimit >= 1:\n",
    "        count += recur(nlimit)\n",
    "        \n",
    "    nlimit = limit - k - 3\n",
    "    if nlimit >= 1:\n",
    "        count += recur(nlimit) * 2\n",
    "        \n",
    "    nlimit = limit - k * 2 - 2\n",
    "    if nlimit >= 1:\n",
    "        count += recur(nlimit)\n",
    "        \n",
    "    dp[limit] = count\n",
    "    \n",
    "    return count\n",
    "\n",
    "l, k = map(int, input().split())\n",
    "\n",
    "dp = [-1] * (l + 1)\n",
    "dp[0] = 0\n",
    "dp[1] = 1\n",
    "\n",
    "r = recur(l)\n",
    "\n",
    "print(r)"
   ]
  },
  {
   "cell_type": "markdown",
   "metadata": {},
   "source": [
    "### 최대 페이지 수 16493"
   ]
  },
  {
   "cell_type": "code",
   "execution_count": 154,
   "metadata": {},
   "outputs": [
    {
     "name": "stdout",
     "output_type": "stream",
     "text": [
      "5 3\n",
      "2 100\n",
      "2 20\n",
      "2 40\n",
      "140\n"
     ]
    }
   ],
   "source": [
    "n, m = map(int, input().split())\n",
    "li = [list(map(int, input().split())) for _ in range(m)]\n",
    "\n",
    "dp = [[0] * (n + 1) for _ in range(m + 1)]\n",
    "for i in range(m):\n",
    "    spent, pages = li[i]\n",
    "    \n",
    "    if spent > n:\n",
    "        dp[i + 1] = dp[i]\n",
    "        continue\n",
    "    \n",
    "    for j in range(spent):\n",
    "        dp[i + 1][j] = dp[i][j]\n",
    "        \n",
    "    for j in range(spent, n + 1):\n",
    "        dp[i + 1][j] = max(dp[i][j], dp[i][j - spent] + pages)\n",
    "        \n",
    "print(dp[m][n])"
   ]
  },
  {
   "cell_type": "markdown",
   "metadata": {},
   "source": [
    "### 욱제가 풀어야 하는 문제 18249"
   ]
  },
  {
   "cell_type": "code",
   "execution_count": null,
   "metadata": {},
   "outputs": [],
   "source": [
    "import sys\n",
    "# input = lambda: sys.stdin.readline().rstrip()\n",
    "\n",
    "mod = int(1e9) + 7\n",
    "\n",
    "dp = [0] * 191230\n",
    "dp[1] = 1\n",
    "dp[2] = 2\n",
    "\n",
    "for i in range(3, 191230):\n",
    "    dp[i] = dp[i - 1] + dp[i - 2]\n",
    "    dp[i] %= mod\n",
    "    \n",
    "for _ in range(int(input())):\n",
    "    n = int(input())\n",
    "    \n",
    "    print(dp[n])"
   ]
  },
  {
   "cell_type": "markdown",
   "metadata": {},
   "source": [
    "### 창영이와 점프 22114"
   ]
  },
  {
   "cell_type": "code",
   "execution_count": 190,
   "metadata": {},
   "outputs": [
    {
     "name": "stdout",
     "output_type": "stream",
     "text": [
      "7 3\n",
      "4 4 4 4 4 4\n",
      "2\n"
     ]
    }
   ],
   "source": [
    "n, k = map(int, input().split())\n",
    "li = list(map(int, input().split()))\n",
    "\n",
    "nli = []\n",
    "cur = 1\n",
    "for i in range(n - 1):\n",
    "    if li[i] <= k:\n",
    "        cur += 1\n",
    "    else:\n",
    "        nli.append(cur)\n",
    "        cur = 1\n",
    "        \n",
    "nli.append(cur)\n",
    "\n",
    "if len(nli) == 1:\n",
    "    r = nli[0]\n",
    "else:\n",
    "    r = 0\n",
    "    for i in range(len(nli) - 1):\n",
    "        r = max(r, nli[i] + nli[i + 1])\n",
    "    \n",
    "print(r)"
   ]
  },
  {
   "cell_type": "markdown",
   "metadata": {},
   "source": [
    "### 증가하는 부분 수열의 개수 22971\n",
    "\n",
    "- 내 코드가 다른 정답 코드와 특별히 다른 점이 없는데 10배 정도 느린 이유 확인해보기"
   ]
  },
  {
   "cell_type": "code",
   "execution_count": 199,
   "metadata": {},
   "outputs": [
    {
     "name": "stdout",
     "output_type": "stream",
     "text": [
      "5\n",
      "1 2 3 4 5\n",
      "1 2 4 8 16\n"
     ]
    }
   ],
   "source": [
    "import sys\n",
    "# input = lambda: sys.stdin.readline().rstrip()\n",
    "\n",
    "mod = 998244353\n",
    "\n",
    "n = int(input())\n",
    "li = list(map(int, input().split()))\n",
    "\n",
    "dp = [1] * n\n",
    "for i in range(1, n):\n",
    "    for j in range(i):\n",
    "        if li[j] < li[i]:\n",
    "            dp[i] += dp[j]\n",
    "            dp[i] %= mod\n",
    "\n",
    "print(*dp)"
   ]
  },
  {
   "cell_type": "markdown",
   "metadata": {},
   "source": [
    "### 2의 멱수의 합 2410"
   ]
  },
  {
   "cell_type": "code",
   "execution_count": 23,
   "metadata": {},
   "outputs": [
    {
     "name": "stdout",
     "output_type": "stream",
     "text": [
      "7\n",
      "6\n"
     ]
    }
   ],
   "source": [
    "# 메모리 초과\n",
    "from math import log2\n",
    "\n",
    "mod = 1000000000\n",
    "\n",
    "n = int(input())\n",
    "\n",
    "max_num = int(log2(n))\n",
    "dp = [[0] * (max_num + 1) for _ in range(n + 1)]\n",
    "sdp = [[0] * (max_num + 2) for _ in range(n + 1)]\n",
    "\n",
    "dp[1][0] = 1\n",
    "for j in range(1, max_num + 2):\n",
    "    sdp[1][j] = 1\n",
    "\n",
    "for i in range(2, n + 1):\n",
    "    cur = 1\n",
    "    logged = 0\n",
    "    while cur <= i:\n",
    "        dp[i][logged] = (sdp[i - cur][max_num + 1] - sdp[i - cur][logged]) % mod\n",
    "        cur *= 2\n",
    "        logged += 1\n",
    "        \n",
    "        if cur == i:\n",
    "            dp[i][logged] = 1\n",
    "            break\n",
    "        \n",
    "    cumul = 0\n",
    "    for j in range(max_num + 1):\n",
    "        cumul += dp[i][j]\n",
    "        sdp[i][j + 1] = cumul\n",
    "        \n",
    "print(sum(dp[n]) % mod)"
   ]
  },
  {
   "cell_type": "code",
   "execution_count": null,
   "metadata": {},
   "outputs": [],
   "source": [
    "# 고쳐야함\n",
    "from math import log2\n",
    "\n",
    "mod = 1000000000\n",
    "\n",
    "n = int(input())\n",
    "\n",
    "max_num = int(log2(n))\n",
    "sdp = [[0] * (max_num + 1) for _ in range(n + 1)]\n",
    "for j in range(max_num + 1):\n",
    "    sdp[0][j] = 1\n",
    "    \n",
    "for i in range(1, n + 1):\n",
    "    cur = 1\n",
    "    logged = 0\n",
    "    while cur <= i:\n",
    "        sdp[i][logged] = sdp[i - cur][logged]\n",
    "        if logged - 1 >= 0:\n",
    "            sdp[i][logged] += sdp[i][logged - 1]\n",
    "            \n",
    "        sdp[i][logged] %= mod\n",
    "        cur *= 2\n",
    "        logged += 1\n",
    "        \n",
    "        if i == cur:\n",
    "            sdp[i][logged] = 1\n",
    "            break\n",
    "        \n",
    "    for j in range(logged, max_num + 1):\n",
    "        sdp[i][j] = sdp[i][j - 1]\n",
    "        \n",
    "print(sdp[n - 1][-1] % mod)"
   ]
  },
  {
   "cell_type": "code",
   "execution_count": 28,
   "metadata": {},
   "outputs": [
    {
     "data": {
      "text/plain": [
       "[[1, 1, 1, 1],\n",
       " [1, 1, 1, 1],\n",
       " [1, 1, 1, 1],\n",
       " [1, 2, 2, 2],\n",
       " [1, 2, 2, 2],\n",
       " [1, 3, 4, 4],\n",
       " [1, 3, 4, 4],\n",
       " [1, 4, 6, 6],\n",
       " [1, 4, 6, 6],\n",
       " [1, 5, 9, 10],\n",
       " [1, 5, 9, 10]]"
      ]
     },
     "execution_count": 28,
     "metadata": {},
     "output_type": "execute_result"
    }
   ],
   "source": [
    "sdp"
   ]
  },
  {
   "cell_type": "code",
   "execution_count": null,
   "metadata": {},
   "outputs": [],
   "source": [
    "7\n",
    "22 2 1\n",
    "22 4 2\n",
    "0"
   ]
  }
 ],
 "metadata": {
  "kernelspec": {
   "display_name": "Python 3",
   "language": "python",
   "name": "python3"
  },
  "language_info": {
   "codemirror_mode": {
    "name": "ipython",
    "version": 3
   },
   "file_extension": ".py",
   "mimetype": "text/x-python",
   "name": "python",
   "nbconvert_exporter": "python",
   "pygments_lexer": "ipython3",
   "version": "3.7.4"
  }
 },
 "nbformat": 4,
 "nbformat_minor": 4
}
