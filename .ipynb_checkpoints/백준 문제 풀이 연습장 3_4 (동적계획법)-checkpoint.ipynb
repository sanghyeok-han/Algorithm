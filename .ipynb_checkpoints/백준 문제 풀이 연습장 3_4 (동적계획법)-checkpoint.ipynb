{
 "cells": [
  {
   "cell_type": "markdown",
   "metadata": {},
   "source": [
    "### 연세워터파크 15678"
   ]
  },
  {
   "cell_type": "code",
   "execution_count": 7,
   "metadata": {},
   "outputs": [
    {
     "name": "stdout",
     "output_type": "stream",
     "text": [
      "3 2\n",
      "-4 -2 -7\n",
      "-2\n"
     ]
    }
   ],
   "source": [
    "from collections import deque\n",
    "\n",
    "n, d = map(int, input().split())\n",
    "li = list(map(int, input().split()))\n",
    "\n",
    "dp = li.copy()\n",
    "for_max = deque()\n",
    "mr = -float('inf') # max result\n",
    "for i, v in enumerate(li):\n",
    "    while for_max:\n",
    "        if for_max[0][0] < i - d:\n",
    "            for_max.popleft()\n",
    "        else:\n",
    "            break\n",
    "            \n",
    "    if for_max:\n",
    "        dp[i] = max(dp[i], for_max[0][1] + li[i])\n",
    "    mr = max(mr, dp[i])\n",
    "    \n",
    "    while for_max:\n",
    "        if for_max[-1][1] <= dp[i]:\n",
    "            for_max.pop()\n",
    "        else:\n",
    "            break\n",
    "            \n",
    "    for_max.append((i, dp[i]))\n",
    "    \n",
    "print(mr)"
   ]
  },
  {
   "cell_type": "markdown",
   "metadata": {},
   "source": [
    "### Mowing the Lawn 5977"
   ]
  },
  {
   "cell_type": "code",
   "execution_count": 28,
   "metadata": {},
   "outputs": [
    {
     "name": "stdout",
     "output_type": "stream",
     "text": [
      "5 3\n",
      "9\n",
      "1\n",
      "9\n",
      "1\n",
      "9\n",
      "28\n"
     ]
    }
   ],
   "source": [
    "from collections import deque\n",
    "import sys\n",
    "input = lambda: sys.stdin.readline().rstrip()\n",
    "\n",
    "n, k = map(int, input().split())\n",
    "li = [int(input()) for _ in range(n)] + [0]\n",
    "n += 1\n",
    "\n",
    "total = sum(li)\n",
    "for_min = deque()\n",
    "dp = [float('inf')] * n\n",
    "for i in range(k + 1):\n",
    "    dp[i] = li[i]\n",
    "    while for_min:\n",
    "        if dp[i] <= for_min[-1][1]:\n",
    "            for_min.pop()\n",
    "        else:\n",
    "            break\n",
    "        \n",
    "    for_min.append((i, dp[i]))\n",
    "    \n",
    "for i in range(k + 1, n):\n",
    "    while for_min:\n",
    "        if for_min[0][0] < i - k - 1:\n",
    "            for_min.popleft()\n",
    "        else:\n",
    "            break\n",
    "            \n",
    "    dp[i] = for_min[0][1] + li[i]\n",
    "    \n",
    "    while for_min:\n",
    "        if dp[i] <= for_min[-1][1]:\n",
    "            for_min.pop()\n",
    "        else:\n",
    "            break\n",
    "            \n",
    "    for_min.append((i, dp[i]))\n",
    "    \n",
    "to_sub = min(dp[-(k + 1):])\n",
    "\n",
    "print(total - to_sub)"
   ]
  },
  {
   "cell_type": "markdown",
   "metadata": {},
   "source": [
    "### 앱 7579 (다시 풀음)"
   ]
  },
  {
   "cell_type": "code",
   "execution_count": null,
   "metadata": {},
   "outputs": [],
   "source": []
  },
  {
   "cell_type": "code",
   "execution_count": null,
   "metadata": {},
   "outputs": [],
   "source": []
  },
  {
   "cell_type": "code",
   "execution_count": null,
   "metadata": {},
   "outputs": [],
   "source": []
  },
  {
   "cell_type": "code",
   "execution_count": 1,
   "metadata": {},
   "outputs": [
    {
     "name": "stdout",
     "output_type": "stream",
     "text": [
      "5 60\n",
      "30 10 20 35 40\n",
      "3 0 3 5 4\n",
      "6\n"
     ]
    }
   ],
   "source": [
    "n, m = map(int, input().split())\n",
    "ms = list(map(int, input().split()))\n",
    "costs = list(map(int, input().split()))\n",
    "\n",
    "dp = [[0] * 10001 for _ in range(n + 1)]\n",
    "mr = float('inf') # min result\n",
    "for i in range(n):\n",
    "    for j in range(costs[i]):\n",
    "        dp[i + 1][j] = dp[i][j]\n",
    "    \n",
    "    for j in range(costs[i], 10001):\n",
    "        temp = dp[i][j - costs[i]] + ms[i]\n",
    "        \n",
    "        if temp > dp[i][j]:\n",
    "            dp[i + 1][j] = temp\n",
    "            \n",
    "            if dp[i + 1][j] >= m:\n",
    "                mr = min(mr, j)\n",
    "        else:\n",
    "            dp[i + 1][j] = dp[i][j]\n",
    "            \n",
    "print(mr)"
   ]
  }
 ],
 "metadata": {
  "kernelspec": {
   "display_name": "Python 3",
   "language": "python",
   "name": "python3"
  },
  "language_info": {
   "codemirror_mode": {
    "name": "ipython",
    "version": 3
   },
   "file_extension": ".py",
   "mimetype": "text/x-python",
   "name": "python",
   "nbconvert_exporter": "python",
   "pygments_lexer": "ipython3",
   "version": "3.7.3"
  }
 },
 "nbformat": 4,
 "nbformat_minor": 4
}
