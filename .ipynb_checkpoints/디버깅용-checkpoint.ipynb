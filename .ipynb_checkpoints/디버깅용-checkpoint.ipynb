{
 "cells": [
  {
   "cell_type": "markdown",
   "metadata": {},
   "source": [
    "### 13305 주유소"
   ]
  },
  {
   "cell_type": "code",
   "execution_count": null,
   "metadata": {},
   "outputs": [],
   "source": []
  },
  {
   "cell_type": "code",
   "execution_count": 15,
   "metadata": {},
   "outputs": [
    {
     "name": "stdout",
     "output_type": "stream",
     "text": [
      "5\n",
      "1 1 1 1\n",
      "1 3 3 3 3\n",
      "8\n"
     ]
    }
   ],
   "source": [
    "n = int(input())\n",
    "dst = list(map(int, input().split()))\n",
    "price = list(map(int, input().split()))\n",
    "\n",
    "cost = 0\n",
    "i = 0\n",
    "while True:\n",
    "    \n",
    "    if price[i] < price[i+1]:\n",
    "        cost += (price[i] * (dst[i] + dst[i+1]))\n",
    "        i += 2\n",
    "        \n",
    "    else:\n",
    "        cost += (price[i] * dst[i])\n",
    "        i += 1\n",
    "        \n",
    "    if i + 1 > len(dst):\n",
    "        break\n",
    "        \n",
    "print(cost)"
   ]
  },
  {
   "cell_type": "code",
   "execution_count": 16,
   "metadata": {},
   "outputs": [
    {
     "name": "stdout",
     "output_type": "stream",
     "text": [
      "5\n",
      "1 1 1 1\n",
      "1 3 3 3 3\n",
      "4\n"
     ]
    }
   ],
   "source": [
    "n = int(input())\n",
    "roads = list(map(int, input().split()))\n",
    "costs = list(map(int, input().split()))\n",
    "costs.pop()\n",
    "\n",
    "current = float('inf')\n",
    "\n",
    "total = 0\n",
    "for i in range(n - 1):\n",
    "    if costs[i] < current:\n",
    "        current = costs[i]\n",
    "    total += current * roads[i]\n",
    "\n",
    "print(total)"
   ]
  },
  {
   "cell_type": "code",
   "execution_count": 1,
   "metadata": {
    "scrolled": true
   },
   "outputs": [
    {
     "name": "stdout",
     "output_type": "stream",
     "text": [
      "2\n",
      "1\n",
      "2 1\n",
      "0\n"
     ]
    }
   ],
   "source": [
    "from collections import deque\n",
    "\n",
    "n = int(input())\n",
    "p = int(input())\n",
    "edge = [[] for _ in range(n+1)]\n",
    "for i in range(p):\n",
    "    a, b = map(int, input().split())\n",
    "    edge[a].append(b)\n",
    "    \n",
    "visited = [10] * (n+1)    \n",
    "queue = deque([1])\n",
    "visited[1] = 0\n",
    "\n",
    "while queue:\n",
    "    x = queue.popleft()\n",
    "    \n",
    "    for i in edge[x]:\n",
    "        if visited[i] == 10:\n",
    "            visited[i] = 0\n",
    "            queue.append(i)\n",
    "            \n",
    "print(visited.count(0) - 1)"
   ]
  },
  {
   "cell_type": "code",
   "execution_count": 10,
   "metadata": {},
   "outputs": [
    {
     "name": "stdout",
     "output_type": "stream",
     "text": [
      "4 2 1\n",
      "1 4\n",
      "3 1\n",
      "[(1, 4), (3, 1)]\n",
      "1 4 3\n",
      "1 4 3\n"
     ]
    }
   ],
   "source": [
    "# 남현형 코드\n",
    "from collections import deque\n",
    "\n",
    "n, m, v = map(int, input().split())\n",
    "\n",
    "edge = [[] for _ in range(n+1)]\n",
    "temp = []\n",
    "for i in range(m):\n",
    "    a, b = map(int, input().split())\n",
    "    temp.append((a, b))\n",
    "temp = sorted(temp, key = lambda x : (x[0], x[1]))\n",
    "for p, q in temp:\n",
    "    edge[p].append(q)\n",
    "    edge[q].append(p)\n",
    "    \n",
    "print(temp)\n",
    "        \n",
    "answer_dfs = [v]\n",
    "answer_bfs = [v]\n",
    "\n",
    "visited = [10] * (n+1)\n",
    "\n",
    "def dfs(edge, v, visited):\n",
    "    visited[v] = 0\n",
    "    \n",
    "    for i in edge[v]:\n",
    "        if visited[i] == 10:\n",
    "            answer_dfs.append(i)\n",
    "            dfs(edge, i, visited)\n",
    "    \n",
    "dfs(edge, v, visited)\n",
    "\n",
    "\n",
    "\n",
    "visited = [10] * (n+1)\n",
    "queue = deque([v])\n",
    "visited[v] = 0\n",
    "\n",
    "while queue:\n",
    "    x = queue.popleft()\n",
    "    \n",
    "    for i in edge[x]:\n",
    "        if visited[i] == 10:\n",
    "            visited[i] = 0\n",
    "            queue.append(i)\n",
    "            \n",
    "            answer_bfs.append(i)\n",
    "            \n",
    "\n",
    "print(*answer_dfs)\n",
    "print(*answer_bfs)"
   ]
  },
  {
   "cell_type": "code",
   "execution_count": 11,
   "metadata": {},
   "outputs": [
    {
     "data": {
      "text/plain": [
       "[[], [4, 3], [], [1], [1]]"
      ]
     },
     "execution_count": 11,
     "metadata": {},
     "output_type": "execute_result"
    }
   ],
   "source": [
    "edge"
   ]
  }
 ],
 "metadata": {
  "kernelspec": {
   "display_name": "Python 3",
   "language": "python",
   "name": "python3"
  },
  "language_info": {
   "codemirror_mode": {
    "name": "ipython",
    "version": 3
   },
   "file_extension": ".py",
   "mimetype": "text/x-python",
   "name": "python",
   "nbconvert_exporter": "python",
   "pygments_lexer": "ipython3",
   "version": "3.7.3"
  }
 },
 "nbformat": 4,
 "nbformat_minor": 4
}
