{
 "cells": [
  {
   "cell_type": "markdown",
   "metadata": {},
   "source": [
    "### 추첨상 사수 대작전! (Easy) 20410"
   ]
  },
  {
   "cell_type": "code",
   "execution_count": 2,
   "metadata": {},
   "outputs": [
    {
     "name": "stdout",
     "output_type": "stream",
     "text": [
      "13 5 2 9\n"
     ]
    }
   ],
   "source": [
    "m, seed, x1, x2 = map(int, input().split())"
   ]
  },
  {
   "cell_type": "code",
   "execution_count": 3,
   "metadata": {},
   "outputs": [
    {
     "data": {
      "text/plain": [
       "13"
      ]
     },
     "execution_count": 3,
     "metadata": {},
     "output_type": "execute_result"
    }
   ],
   "source": [
    "2 = (b + 5) % 13"
   ]
  },
  {
   "cell_type": "code",
   "execution_count": 22,
   "metadata": {},
   "outputs": [
    {
     "name": "stdout",
     "output_type": "stream",
     "text": [
      "13 5 2 9\n",
      "2 5\n"
     ]
    }
   ],
   "source": [
    "m, seed, x1, x2 = map(int, input().split())\n",
    "\n",
    "candidates1 = set()\n",
    "for a in range(0, m):\n",
    "    for c in range(0, m):\n",
    "        if (a * seed + c) % m == x1:\n",
    "            candidates1.add((a, c))\n",
    "\n",
    "candidates2 = set()\n",
    "for a in range(0, m):\n",
    "    for c in range(0, m):\n",
    "        if (a * x1 + c) % m == x2:\n",
    "            candidates2.add((a, c))\n",
    "        \n",
    "candidates = candidates1 & candidates2\n",
    "\n",
    "print(\" \".join(map(str, candidates.pop())))"
   ]
  },
  {
   "cell_type": "markdown",
   "metadata": {},
   "source": [
    "### 기숙사 바닥 2858"
   ]
  },
  {
   "cell_type": "code",
   "execution_count": 38,
   "metadata": {},
   "outputs": [
    {
     "name": "stdout",
     "output_type": "stream",
     "text": [
      "10 2\n",
      "4 3\n"
     ]
    }
   ],
   "source": [
    "r, b = map(int, input().split())\n",
    "for w in range(1, 2502):\n",
    "    for l in range(w, 2502):\n",
    "        if l + l + w + w - 4 == r and (l - 2) * (w - 2) == b:\n",
    "            print(l, w)\n",
    "            break"
   ]
  },
  {
   "cell_type": "markdown",
   "metadata": {},
   "source": [
    "### 찍기 2966"
   ]
  },
  {
   "cell_type": "code",
   "execution_count": 39,
   "metadata": {},
   "outputs": [],
   "source": [
    "from itertools import cycle"
   ]
  },
  {
   "cell_type": "code",
   "execution_count": 40,
   "metadata": {},
   "outputs": [
    {
     "name": "stdout",
     "output_type": "stream",
     "text": [
      "5\n",
      "BAACC\n"
     ]
    }
   ],
   "source": [
    "n = int(input())\n",
    "s = input()"
   ]
  },
  {
   "cell_type": "code",
   "execution_count": 41,
   "metadata": {},
   "outputs": [
    {
     "data": {
      "text/plain": [
       "'A'"
      ]
     },
     "execution_count": 41,
     "metadata": {},
     "output_type": "execute_result"
    }
   ],
   "source": [
    "a = cycle(['A', 'B', 'C'])\n",
    "next(a)"
   ]
  },
  {
   "cell_type": "code",
   "execution_count": 43,
   "metadata": {},
   "outputs": [
    {
     "name": "stdout",
     "output_type": "stream",
     "text": [
      "9\n",
      "AAAABBBBB\n",
      "4\n",
      "Adrian\n",
      "Bruno\n",
      "Goran\n"
     ]
    }
   ],
   "source": [
    "from itertools import cycle\n",
    "\n",
    "n = int(input())\n",
    "s = input()\n",
    "\n",
    "a = cycle(['A', 'B', 'C'])\n",
    "b = cycle(['B', 'A', 'B', 'C'])\n",
    "c = cycle(['C', 'C', 'A', 'A', 'B', 'B'])\n",
    "\n",
    "score_li = [['Adrian', 0], ['Bruno', 0], ['Goran', 0]]\n",
    "for i in range(n):\n",
    "    if next(a) == s[i]:\n",
    "        score_li[0][1] += 1\n",
    "    if next(b) == s[i]:\n",
    "        score_li[1][1] += 1\n",
    "    if next(c) == s[i]:\n",
    "        score_li[2][1] += 1\n",
    "\n",
    "max_score = max(score_li[0][1], score_li[1][1], score_li[2][1])\n",
    "result = [v[0] for v in score_li if v[1] == max_score]\n",
    "result.sort()\n",
    "\n",
    "print(max_score)\n",
    "print(\"\\n\".join(result))"
   ]
  },
  {
   "cell_type": "markdown",
   "metadata": {},
   "source": [
    "### 알람시계 3154"
   ]
  },
  {
   "cell_type": "code",
   "execution_count": 44,
   "metadata": {},
   "outputs": [],
   "source": [
    "coords = {1: (0, 0), 2: (0, 1), 3: (0, 2), 4: (1, 0), 5: (1, 1), 6: (1, 2), 7: (2, 0), 8: (2, 1), 9: (2, 2), 0: (3, 1)}"
   ]
  },
  {
   "cell_type": "code",
   "execution_count": 52,
   "metadata": {},
   "outputs": [],
   "source": [
    "def get_effort(a, b):\n",
    "    x_a, y_a = a\n",
    "    x_b, y_b = b\n",
    "    return abs(x_a - x_b) + abs(y_a - y_b)"
   ]
  },
  {
   "cell_type": "code",
   "execution_count": 57,
   "metadata": {},
   "outputs": [
    {
     "name": "stdout",
     "output_type": "stream",
     "text": [
      "14:19\n",
      "14:79\n"
     ]
    }
   ],
   "source": [
    "s = input()\n",
    "\n",
    "coords = {1: (0, 0), 2: (0, 1), 3: (0, 2), 4: (1, 0), 5: (1, 1), 6: (1, 2), 7: (2, 0), 8: (2, 1), 9: (2, 2), 0: (3, 1)}\n",
    "\n",
    "def get_effort(a, b):\n",
    "    x_a, y_a = a\n",
    "    x_b, y_b = b\n",
    "    return abs(x_a - x_b) + abs(y_a - y_b)\n",
    "\n",
    "h1, h2, _, m1, m2 = s\n",
    "\n",
    "min_effort = float('inf')\n",
    "min_effort_case = (0, 0, 0, 0)\n",
    "\n",
    "for ah1 in range(9, -1, -1):\n",
    "    for ah2 in range(9, -1, -1):\n",
    "        if int(str(ah1) + str(ah2)) % 24 != int(h1 + h2):\n",
    "            continue\n",
    "        for am1 in range(9, -1, -1):\n",
    "            for am2 in range(9, -1, -1):\n",
    "                if int(str(am1) + str(am2)) % 60 != int(m1 + m2):\n",
    "                    continue\n",
    "                total_effort = get_effort(coords[ah1], coords[ah2]) + get_effort(coords[ah2], coords[am1]) + get_effort(coords[am1], coords[am2])\n",
    "                if total_effort <= min_effort:\n",
    "                    if total_effort < min_effort:\n",
    "                        min_effort = total_effort\n",
    "                    min_effort_case = (ah1, ah2, am1, am2)\n",
    "\n",
    "print(f'{min_effort_case[0]}{min_effort_case[1]}:{min_effort_case[2]}{min_effort_case[3]}')"
   ]
  },
  {
   "cell_type": "markdown",
   "metadata": {},
   "source": [
    "### 유레카 이론 10448"
   ]
  },
  {
   "cell_type": "code",
   "execution_count": 64,
   "metadata": {},
   "outputs": [],
   "source": [
    "ts = []\n",
    "num = 1\n",
    "while True:\n",
    "    t = num * (num + 1) // 2\n",
    "    if t < 1000:\n",
    "        ts.append(t)\n",
    "    else:\n",
    "        break\n",
    "    \n",
    "    num += 1"
   ]
  },
  {
   "cell_type": "code",
   "execution_count": 68,
   "metadata": {},
   "outputs": [
    {
     "name": "stdout",
     "output_type": "stream",
     "text": [
      "3\n",
      "10\n",
      "1\n",
      "20\n",
      "0\n",
      "1000\n",
      "1\n"
     ]
    }
   ],
   "source": [
    "ts = []\n",
    "num = 1\n",
    "while True:\n",
    "    t = num * (num + 1) // 2\n",
    "    if t < 1000:\n",
    "        ts.append(t)\n",
    "    else:\n",
    "        break\n",
    "    \n",
    "    num += 1\n",
    "\n",
    "def checker(n):\n",
    "    for a in ts:\n",
    "        for b in ts:\n",
    "            for c in ts:\n",
    "                if a + b + c == n:\n",
    "                    return 1\n",
    "    return 0\n",
    "\n",
    "T = int(input())\n",
    "for _ in range(T):\n",
    "    n = int(input())\n",
    "    print(checker(n))"
   ]
  },
  {
   "cell_type": "markdown",
   "metadata": {},
   "source": [
    "### 거꾸로 구구단 13410"
   ]
  },
  {
   "cell_type": "code",
   "execution_count": 70,
   "metadata": {},
   "outputs": [
    {
     "name": "stdout",
     "output_type": "stream",
     "text": [
      "84\n"
     ]
    }
   ],
   "source": [
    "n, k = map(int, input().split())\n",
    "\n",
    "max_num = 0\n",
    "for i in range(1, k + 1):\n",
    "    temp = int(str(n * i)[::-1])\n",
    "    if max_num < temp:\n",
    "        max_num = temp\n",
    "        \n",
    "print(max_num)"
   ]
  },
  {
   "cell_type": "markdown",
   "metadata": {},
   "source": [
    "### 방 배정하기 14697"
   ]
  },
  {
   "cell_type": "code",
   "execution_count": 7,
   "metadata": {},
   "outputs": [
    {
     "name": "stdout",
     "output_type": "stream",
     "text": [
      "3 6 9 112\n"
     ]
    }
   ],
   "source": [
    "a, b, c, n = map(int, input().split())"
   ]
  },
  {
   "cell_type": "code",
   "execution_count": 8,
   "metadata": {},
   "outputs": [
    {
     "name": "stdout",
     "output_type": "stream",
     "text": [
      "0\n"
     ]
    }
   ],
   "source": [
    "a, b, c, n = map(int, input().split())\n",
    "\n",
    "a_max = n // a\n",
    "b_max = n // b\n",
    "c_max = n // c\n",
    "\n",
    "result = 0\n",
    "for i in range(a_max + 1):\n",
    "    for j in range(b_max + 1):\n",
    "        for k in range(c_max + 1):\n",
    "            if a * i + b * j + c * k == n:\n",
    "                result = 1\n",
    "                break\n",
    "                \n",
    "print(result)"
   ]
  },
  {
   "cell_type": "markdown",
   "metadata": {},
   "source": [
    "### 수학은 비대면강의입니다 19532"
   ]
  },
  {
   "cell_type": "code",
   "execution_count": 10,
   "metadata": {},
   "outputs": [
    {
     "name": "stdout",
     "output_type": "stream",
     "text": [
      "2 5 8 3 -4 -11\n",
      "-1 2\n"
     ]
    }
   ],
   "source": [
    "a, b, c, d, e, f = map(int, input().split())\n",
    "\n",
    "for x in range(-999, 1000):\n",
    "    for y in range(-999, 1000):\n",
    "        if a * x + b * y == c and d * x + e * y == f:\n",
    "            print(x, y)\n",
    "            break"
   ]
  },
  {
   "cell_type": "markdown",
   "metadata": {},
   "source": [
    "### 점프 점프 18512"
   ]
  },
  {
   "cell_type": "code",
   "execution_count": 11,
   "metadata": {},
   "outputs": [
    {
     "name": "stdout",
     "output_type": "stream",
     "text": [
      "10 12 30 8\n"
     ]
    }
   ],
   "source": [
    "x, y, p1, p2 = map(int, input().split())"
   ]
  },
  {
   "cell_type": "code",
   "execution_count": 4,
   "metadata": {},
   "outputs": [
    {
     "name": "stdout",
     "output_type": "stream",
     "text": [
      "7 7 2 1\n",
      "-1\n"
     ]
    }
   ],
   "source": [
    "from collections import defaultdict\n",
    "\n",
    "x, y, p1, p2 = map(int, input().split())\n",
    "\n",
    "if max(x, y) % min(x, y) == 0 and p1 != p2 and (max(p1, p2) - min(p1, p2)) % min(x, y) != 0:\n",
    "    print(-1)\n",
    "else:\n",
    "    diff = defaultdict(int)\n",
    "    current_a = p1\n",
    "    current_b = p2\n",
    "    diff[current_a - current_b] += 1\n",
    "    while True:\n",
    "        if current_a > current_b:\n",
    "            current_b += y\n",
    "        elif current_a < current_b:\n",
    "            current_a += x\n",
    "        else:\n",
    "            print(current_a)\n",
    "            break\n",
    "            \n",
    "        if diff[current_a - current_b] == 1:\n",
    "            print(-1)\n",
    "            break\n",
    "        else:\n",
    "            diff[current_a - current_b] += 1"
   ]
  },
  {
   "cell_type": "markdown",
   "metadata": {},
   "source": [
    "### 번데기 15721"
   ]
  },
  {
   "cell_type": "code",
   "execution_count": 17,
   "metadata": {},
   "outputs": [
    {
     "name": "stdout",
     "output_type": "stream",
     "text": [
      "10\n",
      "1\n",
      "1\n",
      "1\n"
     ]
    }
   ],
   "source": [
    "from itertools import cycle\n",
    "\n",
    "people_num = int(input())\n",
    "t = int(input())\n",
    "target_word = int(input()) # 0: 뻔, 1: 데기\n",
    "\n",
    "people_cycle = cycle(range(people_num))\n",
    "current_person_num = next(people_cycle)\n",
    "\n",
    "count_0 = 0\n",
    "count_1 = 0\n",
    "\n",
    "def make_sentence(x):\n",
    "    sentence = \"0101\" + \"0\" * (x + 1) + \"1\" * (x + 1)\n",
    "    for v in sentence:\n",
    "        yield int(v)\n",
    "\n",
    "current_sentence_num = 1\n",
    "while True:\n",
    "    is_ended = False\n",
    "    for word in make_sentence(current_sentence_num):\n",
    "        if word == 0:\n",
    "            count_0 += 1\n",
    "        else:\n",
    "            count_1 += 1\n",
    "        \n",
    "        if (target_word == 0 and count_0 == t) or (target_word == 1 and count_1 == t):\n",
    "            print(current_person_num)\n",
    "            is_ended = True\n",
    "            break\n",
    "            \n",
    "        current_person_num = next(people_cycle)\n",
    "        \n",
    "    if is_ended:\n",
    "        break\n",
    "        \n",
    "    current_sentence_num += 1"
   ]
  },
  {
   "cell_type": "markdown",
   "metadata": {},
   "source": [
    "### 숫자 게임 2303"
   ]
  },
  {
   "cell_type": "code",
   "execution_count": 18,
   "metadata": {},
   "outputs": [
    {
     "name": "stdout",
     "output_type": "stream",
     "text": [
      "3\n"
     ]
    }
   ],
   "source": [
    "n = int(input())"
   ]
  },
  {
   "cell_type": "code",
   "execution_count": 23,
   "metadata": {},
   "outputs": [
    {
     "name": "stdout",
     "output_type": "stream",
     "text": [
      "7 5 5 4 9\n",
      "1 1 1 1 1\n",
      "2 3 3 2 10\n",
      "1\n"
     ]
    }
   ],
   "source": [
    "from itertools import combinations\n",
    "\n",
    "n = int(input())\n",
    "\n",
    "max_result = 0\n",
    "current_person = 0\n",
    "\n",
    "for i in range(1, n + 1):\n",
    "    tp = tuple(map(int, input().split()))\n",
    "    \n",
    "    c = combinations(tp, 3)\n",
    "    result = max((int(str(sum(v))[-1]) for v in c))\n",
    "    \n",
    "    if result >= max_result:\n",
    "        if result > max_result:\n",
    "            max_result = result\n",
    "        current_person = i\n",
    "        \n",
    "print(current_person)"
   ]
  },
  {
   "cell_type": "markdown",
   "metadata": {},
   "source": [
    "### 숫자 야구 2503"
   ]
  },
  {
   "cell_type": "code",
   "execution_count": 35,
   "metadata": {},
   "outputs": [
    {
     "name": "stdout",
     "output_type": "stream",
     "text": [
      "2\n"
     ]
    }
   ],
   "source": [
    "from itertools import permutations\n",
    "\n",
    "n = int(input())\n",
    "\n",
    "li = []\n",
    "for _ in range(n): \n",
    "    li.append(tuple(map(int, input().split())))\n",
    "\n",
    "def get_strike_and_ball(answer, prediction):\n",
    "    prediction = str(prediction)\n",
    "    strike_count = 0\n",
    "    ball_count = 0\n",
    "    \n",
    "    for i, v in enumerate(prediction):\n",
    "        if answer[i] == v:\n",
    "            strike_count += 1\n",
    "        elif v in answer:\n",
    "            ball_count += 1\n",
    "            \n",
    "    return (strike_count, ball_count)\n",
    "\n",
    "p = permutations(range(1, 10), 3)\n",
    "possible_case_num = 0\n",
    "for answer in p:\n",
    "    answer = \"\".join(map(str, answer))\n",
    "    is_possible = True\n",
    "    for case in li:\n",
    "        if get_strike_and_ball(answer, case[0]) != case[1:]:\n",
    "            is_possible = False\n",
    "            break\n",
    "            \n",
    "    if is_possible:\n",
    "        possible_case_num += 1\n",
    "        \n",
    "print(possible_case_num)"
   ]
  },
  {
   "cell_type": "markdown",
   "metadata": {},
   "source": [
    "### 팰린드롬 8892"
   ]
  },
  {
   "cell_type": "code",
   "execution_count": 37,
   "metadata": {},
   "outputs": [
    {
     "name": "stdout",
     "output_type": "stream",
     "text": [
      "5\n",
      "aaba\n",
      "ba\n",
      "ababa\n",
      "bbaa\n",
      "baaba\n"
     ]
    }
   ],
   "source": [
    "n = int(input())\n",
    "li = []\n",
    "for _ in range(n):\n",
    "    li.append(input())"
   ]
  },
  {
   "cell_type": "code",
   "execution_count": 49,
   "metadata": {},
   "outputs": [
    {
     "name": "stdout",
     "output_type": "stream",
     "text": [
      "2\n",
      "5\n",
      "aaba\n",
      "ba\n",
      "ababa\n",
      "bbaa\n",
      "baaba\n",
      "abababa\n",
      "3\n",
      "abc\n",
      "bcd\n",
      "cde\n",
      "0\n"
     ]
    }
   ],
   "source": [
    "from itertools import permutations\n",
    "\n",
    "T = int(input())\n",
    "for _ in range(T):\n",
    "    n = int(input())\n",
    "    \n",
    "    li = []\n",
    "    for _ in range(n):\n",
    "        li.append(input())\n",
    "    \n",
    "    p = permutations(li, 2)\n",
    "    p = [\"\".join(v) for v in p]\n",
    "\n",
    "    def check(s):\n",
    "        if len(s) % 2 == 1:\n",
    "            s_li = list(s)\n",
    "            del s_li[len(s) // 2]\n",
    "            s = \"\".join(s_li)\n",
    "\n",
    "        if s[:len(s) // 2] == s[len(s) // 2:][::-1]:\n",
    "            return s\n",
    "        else:\n",
    "            return False\n",
    "\n",
    "    for s in p:\n",
    "        if check(s):\n",
    "            print(s)\n",
    "            break\n",
    "    else:\n",
    "        print(0)"
   ]
  },
  {
   "cell_type": "markdown",
   "metadata": {},
   "source": [
    "### 화살표 그리기 15970"
   ]
  },
  {
   "cell_type": "code",
   "execution_count": 54,
   "metadata": {},
   "outputs": [
    {
     "name": "stdout",
     "output_type": "stream",
     "text": [
      "5\n",
      "0 1\n",
      "1 2\n",
      "3 1\n",
      "4 2\n",
      "5 1\n"
     ]
    }
   ],
   "source": [
    "n = int(input())\n",
    "\n",
    "li = []\n",
    "for _ in range(n):\n",
    "    li.append(tuple(map(int, input().split())))"
   ]
  },
  {
   "cell_type": "code",
   "execution_count": 53,
   "metadata": {},
   "outputs": [
    {
     "data": {
      "text/plain": [
       "[3, 5]"
      ]
     },
     "execution_count": 53,
     "metadata": {},
     "output_type": "execute_result"
    }
   ],
   "source": [
    "li"
   ]
  },
  {
   "cell_type": "code",
   "execution_count": 55,
   "metadata": {},
   "outputs": [
    {
     "name": "stdout",
     "output_type": "stream",
     "text": [
      "13\n"
     ]
    }
   ],
   "source": [
    "n = int(input())\n",
    "\n",
    "li = []\n",
    "for _ in range(n):\n",
    "    li.append(tuple(map(int, input().split())))\n",
    "\n",
    "total = 0\n",
    "for i in range(n):\n",
    "    coord, color = li[i]\n",
    "    total += min((abs(coord - v[0]) for v in li if v[0] != coord and v[1] == color))\n",
    "    \n",
    "print(total)"
   ]
  },
  {
   "cell_type": "code",
   "execution_count": 61,
   "metadata": {},
   "outputs": [
    {
     "name": "stdout",
     "output_type": "stream",
     "text": [
      "5\n",
      "0 1\n",
      "1 2\n",
      "3 1\n",
      "4 2\n",
      "5 1\n",
      "13\n"
     ]
    }
   ],
   "source": [
    "# 숏코딩\n",
    "n=int(input());l=[list(map(int,input().split()))for _ in range(n)];t=0\n",
    "for i in range(n):t+=min((abs(l[i][0]-v[0])for v in l if v[0]!=l[i][0]and v[1]==l[i][1]))\n",
    "print(t)"
   ]
  },
  {
   "cell_type": "markdown",
   "metadata": {},
   "source": [
    "### 오목 2615"
   ]
  },
  {
   "cell_type": "code",
   "execution_count": 54,
   "metadata": {},
   "outputs": [
    {
     "name": "stdout",
     "output_type": "stream",
     "text": [
      "0\n"
     ]
    }
   ],
   "source": [
    "li = []\n",
    "for _ in range(19):\n",
    "    li.append(tuple(map(int, input().split())))\n",
    "\n",
    "result = 0\n",
    "result_coord = (0, 0)\n",
    "for j in range(19):\n",
    "    for i in range(19):\n",
    "        is_ended = False\n",
    "        \n",
    "        # 가로줄의 경우\n",
    "        try:\n",
    "            temp = li[i][j:j + 5]\n",
    "            if len(temp) == 5:\n",
    "                temp = set(temp)\n",
    "                if len(temp) == 1:\n",
    "                    value = temp.pop()\n",
    "                    if value != 0:\n",
    "                        is_ended = True\n",
    "        except:\n",
    "            pass\n",
    "        else:\n",
    "            if is_ended:    \n",
    "                try:\n",
    "                    if li[i][j + 5] == value:\n",
    "                        is_ended = False\n",
    "                except:\n",
    "                    pass\n",
    "                \n",
    "                try:\n",
    "                    if li[i][j - 1] == value:\n",
    "                        is_ended = False\n",
    "                except:\n",
    "                    pass\n",
    "                \n",
    "        if is_ended:\n",
    "            result_coord = (i, j)\n",
    "            result = value\n",
    "            break\n",
    "            \n",
    "        # 세로줄의 경우\n",
    "        try:\n",
    "            temp = set()\n",
    "            for k in range(5):\n",
    "                temp.add(li[i + k][j])\n",
    "            if len(temp) == 1:\n",
    "                value = temp.pop()\n",
    "                if value != 0:\n",
    "                    is_ended = True\n",
    "        except:\n",
    "            pass\n",
    "        else:\n",
    "            if is_ended:\n",
    "                try:\n",
    "                    if li[i + 5][j] == value:\n",
    "                        is_ended = False\n",
    "                except:\n",
    "                    pass\n",
    "                \n",
    "                try:\n",
    "                    if li[i - 1][j] == value:\n",
    "                        is_ended = False\n",
    "                except:\n",
    "                    pass            \n",
    "\n",
    "        if is_ended:\n",
    "            result_coord = (i, j)\n",
    "            result = value\n",
    "            break\n",
    "            \n",
    "        # 왼쪽 대각선의 경우\n",
    "        try:\n",
    "            temp = set()\n",
    "            for k in range(5):\n",
    "                temp.add(li[i + k][j + k])\n",
    "            if len(temp) == 1:\n",
    "                value = temp.pop()\n",
    "                if value != 0:\n",
    "                    is_ended = True\n",
    "        except:\n",
    "            pass\n",
    "        else:\n",
    "            if is_ended:\n",
    "                try:\n",
    "                    if li[i + 5][j + 5] == value:\n",
    "                        is_ended = False\n",
    "                except:\n",
    "                    pass\n",
    "\n",
    "                try:\n",
    "                    if li[i - 1][j - 1] == value:\n",
    "                        is_ended = False\n",
    "                except:\n",
    "                    pass\n",
    " \n",
    "        if is_ended:\n",
    "            result_coord = (i, j)\n",
    "            result = value\n",
    "            break\n",
    "        # 오른쪽 대각선의 경우\n",
    "        try:\n",
    "            temp = set()wa\n",
    "            for k in range(5):\n",
    "                temp.add(li[i - k][j + k])\n",
    "            if len(temp) == 1:\n",
    "                value = temp.pop()\n",
    "                if value != 0:\n",
    "                    is_ended = True\n",
    "        except:\n",
    "            pass\n",
    "        else:\n",
    "            if is_ended:\n",
    "                try:\n",
    "                    if li[i - 5][j + 5] == value:\n",
    "                        is_ended = False\n",
    "                except:\n",
    "                    pass\n",
    "\n",
    "                try:\n",
    "                    if li[i + 1][j - 1] == value:\n",
    "                        is_ended = False\n",
    "                except:\n",
    "                    pass\n",
    "        \n",
    "        if is_ended:\n",
    "            result_coord = (i, j)\n",
    "            result = value\n",
    "            break\n",
    "    if is_ended:\n",
    "        break\n",
    "             \n",
    "if result == 0:\n",
    "    print(0)\n",
    "else:\n",
    "    print(result)\n",
    "    print(result_coord[0] + 1, result_coord[1] + 1)"
   ]
  },
  {
   "cell_type": "markdown",
   "metadata": {},
   "source": [
    "### 리모컨 1107"
   ]
  },
  {
   "cell_type": "code",
   "execution_count": 44,
   "metadata": {},
   "outputs": [
    {
     "name": "stdout",
     "output_type": "stream",
     "text": [
      "500000\n",
      "8\n",
      "0 2 3 4 6 7 8 9\n",
      "11117\n"
     ]
    }
   ],
   "source": [
    "from collections import deque\n",
    "\n",
    "n = int(input())\n",
    "broken_count = int(input())\n",
    "if broken_count >= 1:\n",
    "    broken = list(map(int, input().split()))\n",
    "else:\n",
    "    broken = []\n",
    "    \n",
    "possible_nums = list(range(10))\n",
    "for v in broken:\n",
    "    possible_nums.remove(v)\n",
    "        \n",
    "min_result = abs(n - 100)\n",
    "        \n",
    "n = str(n)\n",
    "queue = deque()\n",
    "queue.extend([('', 0, False)]) # (value, count, is_minus_or_plus_start)\n",
    "\n",
    "result = float('inf')\n",
    "visited = [False] * 1000000\n",
    "while queue:\n",
    "    value, count, is_minus_or_plus_start = queue.popleft()\n",
    "    \n",
    "    if value == n:\n",
    "        result = count\n",
    "        break\n",
    "\n",
    "    if len(value) <= len(n):\n",
    "        if value:\n",
    "            if int(value) < int(n):\n",
    "                if not visited[int(value) + 1]:\n",
    "                    visited[int(value) + 1] = True\n",
    "                    queue.append((str(int(value) + 1), count + 1, True))\n",
    "\n",
    "    if len(value) >= len(n):\n",
    "        if int(value) > int(n):\n",
    "            if not visited[int(value) - 1]:\n",
    "                visited[int(value) - 1] = True\n",
    "                queue.append((str(int(value) - 1), count + 1, True))\n",
    "\n",
    "    if not is_minus_or_plus_start:\n",
    "        if len(value) <= len(n) and len(value) != 6:\n",
    "            for i in possible_nums:\n",
    "                if value == '0':\n",
    "                    continue\n",
    "                    \n",
    "                new_value = value + str(i)\n",
    "                if not visited[int(new_value)]:\n",
    "                    visited[int(new_value)] = True\n",
    "                    queue.append((new_value, count + 1, False))\n",
    "\n",
    "if result < min_result:\n",
    "    min_result = result\n",
    "\n",
    "print(min_result)"
   ]
  }
 ],
 "metadata": {
  "kernelspec": {
   "display_name": "Python 3",
   "language": "python",
   "name": "python3"
  },
  "language_info": {
   "codemirror_mode": {
    "name": "ipython",
    "version": 3
   },
   "file_extension": ".py",
   "mimetype": "text/x-python",
   "name": "python",
   "nbconvert_exporter": "python",
   "pygments_lexer": "ipython3",
   "version": "3.7.3"
  }
 },
 "nbformat": 4,
 "nbformat_minor": 4
}
