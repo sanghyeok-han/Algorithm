{
 "cells": [
  {
   "cell_type": "code",
   "execution_count": 26,
   "metadata": {},
   "outputs": [],
   "source": [
    "from math import ceil, log2\n",
    "\n",
    "class SegmentationTree():\n",
    "    def __init__(self, input_list):\n",
    "        self._input_list = input_list[:] # copy of input_list\n",
    "        self._init_tree()\n",
    "        self._is_propagated = True\n",
    "        \n",
    "    def _init_tree(self):\n",
    "        \n",
    "        self._n = len(self._input_list)\n",
    "        \n",
    "        height = ceil(log2(self._n))\n",
    "        n_nodes = 2 * (2 ** height) - 1\n",
    "        self._seg_tree = [None] * n_nodes\n",
    "        \n",
    "        arr_left = 0\n",
    "        arr_right = self._n - 1\n",
    "        seg_node_index = 0\n",
    "        self._propagate(arr_left, arr_right, seg_node_index)\n",
    "        \n",
    "    \n",
    "    def query(self, query_left, query_right):\n",
    "        arr_left = 0\n",
    "        arr_right = self._n - 1\n",
    "        seg_node_index = 0    \n",
    "        \n",
    "        if not self._is_propagate:\n",
    "            self._propagate(arr_left, arr_right, seg_node_index)\n",
    "            self._is_propagate = True\n",
    "        \n",
    "        return self._query_helper(query_left, query_right, arr_left, arr_right, seg_node_index)\n",
    "\n",
    "\n",
    "    def _query_helper(self, query_left, query_right, arr_left, arr_right, seg_node_index):\n",
    "        if arr_right < arr_left:\n",
    "            return 0\n",
    "\n",
    "        if query_right < arr_left or arr_right < query_left:\n",
    "            return 0\n",
    "\n",
    "        if query_left <= arr_left and arr_right <= query_right:\n",
    "            return self._seg_tree[seg_node_index]\n",
    "\n",
    "\n",
    "        midpoint = (arr_left + arr_right) // 2\n",
    "\n",
    "        left_seg_node_index = seg_node_index * 2 + 1\n",
    "        left_node_arr_left = arr_left\n",
    "        left_node_arr_right = midpoint\n",
    "        left_val = self._query_helper(query_left, query_right, left_node_arr_left, left_node_arr_right, left_seg_node_index)\n",
    "\n",
    "        right_seg_node_index = seg_node_index * 2 + 2\n",
    "        right_node_arr_left = midpoint + 1\n",
    "        right_node_arr_right = arr_right\n",
    "        right_val = self._query_helper(query_left, query_right, right_node_arr_left, right_node_arr_right, right_seg_node_index)\n",
    "\n",
    "        return left_val + right_val\n",
    "\n",
    "        \n",
    "    def _propagate(self, arr_left, arr_right, seg_node_index):\n",
    "        if arr_right < arr_left:\n",
    "            return\n",
    "        \n",
    "        if arr_left == arr_right:\n",
    "            value = self._input_list[arr_left]\n",
    "            self._seg_tree[seg_node_index] = value\n",
    "            return\n",
    "        \n",
    "        midpoint = (arr_left + arr_right) // 2\n",
    "        \n",
    "        left_seg_node_index = seg_node_index * 2 + 1\n",
    "        left_node_arr_left = arr_left\n",
    "        left_node_arr_right = midpoint\n",
    "        self._propagate(left_node_arr_left, left_node_arr_right, left_seg_node_index)\n",
    "        \n",
    "        right_seg_node_index = seg_node_index * 2 + 2\n",
    "        right_node_arr_left = midpoint + 1\n",
    "        right_node_arr_right = arr_right\n",
    "        self._propagate(right_node_arr_left, right_node_arr_right, right_seg_node_index)\n",
    "        \n",
    "        left_val = self._seg_tree[left_seg_node_index]\n",
    "        right_val = self._seg_tree[right_seg_node_index]\n",
    "        self._seg_tree[seg_node_index] = left_val + right_val\n",
    "        \n",
    "    def lazy_update(self, arr_index, new_value):\n",
    "        old_value = self._input_list[arr_index]\n",
    "        if old_value != new_value:  \n",
    "            self._input_list[arr_index] = new_value\n",
    "            self._is_propagate = False\n",
    "            \n",
    "            \n",
    "#     def update(self, arr_index, new_value):\n",
    "#         def inner(node, left, right):\n",
    "#             if arr_index < left or arr_index > right:\n",
    "#                 return self._seg_tree[node]\n",
    "#             if left == right:\n",
    "#                 self._seg_tree[node] = new_value\n",
    "#                 return self._seg_tree[node]\n",
    "#             midpoint = (left + right) // 2\n",
    "#             left_value = inner(node * 2 + 1, left, midpoint)\n",
    "#             right_value = inner(node * 2 + 2, midpoint + 1, right)  \n",
    "            \n",
    "#             self.seg_tree[node] = left_value + right_value\n",
    "#         inner(0, 0, self._n - 1)"
   ]
  },
  {
   "cell_type": "code",
   "execution_count": 27,
   "metadata": {},
   "outputs": [
    {
     "name": "stdout",
     "output_type": "stream",
     "text": [
      "9\n",
      "8\n"
     ]
    }
   ],
   "source": [
    "nums = [1, 3, 5]\n",
    "st = SegmentationTree(nums)\n",
    "print(st.query(0, 2))\n",
    "assert st.query(0, 2) == 9\n",
    "st.update(1, 2)\n",
    "print(st.query(0, 2))\n",
    "assert st.query(0, 2) == 8"
   ]
  },
  {
   "cell_type": "code",
   "execution_count": 29,
   "metadata": {},
   "outputs": [
    {
     "ename": "KeyboardInterrupt",
     "evalue": "",
     "output_type": "error",
     "traceback": [
      "\u001b[1;31m---------------------------------------------------------------------------\u001b[0m",
      "\u001b[1;31mKeyboardInterrupt\u001b[0m                         Traceback (most recent call last)",
      "\u001b[1;32m<ipython-input-29-5ce4622e81c2>\u001b[0m in \u001b[0;36m<module>\u001b[1;34m\u001b[0m\n\u001b[0;32m      1\u001b[0m \u001b[1;32mimport\u001b[0m \u001b[0mtime\u001b[0m\u001b[1;33m\u001b[0m\u001b[1;33m\u001b[0m\u001b[0m\n\u001b[0;32m      2\u001b[0m \u001b[1;32mwhile\u001b[0m \u001b[1;32mTrue\u001b[0m\u001b[1;33m:\u001b[0m\u001b[1;33m\u001b[0m\u001b[1;33m\u001b[0m\u001b[0m\n\u001b[1;32m----> 3\u001b[1;33m     \u001b[0mtime\u001b[0m\u001b[1;33m.\u001b[0m\u001b[0msleep\u001b[0m\u001b[1;33m(\u001b[0m\u001b[1;36m0.1\u001b[0m\u001b[1;33m)\u001b[0m\u001b[1;33m\u001b[0m\u001b[1;33m\u001b[0m\u001b[0m\n\u001b[0m",
      "\u001b[1;31mKeyboardInterrupt\u001b[0m: "
     ]
    }
   ],
   "source": [
    "import time\n",
    "while True:\n",
    "    time.sleep(0.1)"
   ]
  }
 ],
 "metadata": {
  "kernelspec": {
   "display_name": "Python 3",
   "language": "python",
   "name": "python3"
  },
  "language_info": {
   "codemirror_mode": {
    "name": "ipython",
    "version": 3
   },
   "file_extension": ".py",
   "mimetype": "text/x-python",
   "name": "python",
   "nbconvert_exporter": "python",
   "pygments_lexer": "ipython3",
   "version": "3.7.3"
  }
 },
 "nbformat": 4,
 "nbformat_minor": 4
}
