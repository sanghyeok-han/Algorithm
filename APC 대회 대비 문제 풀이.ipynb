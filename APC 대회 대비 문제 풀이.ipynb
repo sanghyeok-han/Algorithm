{
 "cells": [
  {
   "cell_type": "markdown",
   "metadata": {},
   "source": [
    "### 추첨상 사수 대작전! (Normal) 20411"
   ]
  },
  {
   "cell_type": "code",
   "execution_count": 1,
   "metadata": {},
   "outputs": [
    {
     "name": "stdout",
     "output_type": "stream",
     "text": [
      "13 5 2 9\n"
     ]
    }
   ],
   "source": [
    "m, seed, x1, x2 = map(int, input().split())"
   ]
  },
  {
   "cell_type": "code",
   "execution_count": 21,
   "metadata": {},
   "outputs": [
    {
     "data": {
      "text/plain": [
       "True"
      ]
     },
     "execution_count": 21,
     "metadata": {},
     "output_type": "execute_result"
    }
   ],
   "source": [
    "x1 == (a * seed + c) % m"
   ]
  },
  {
   "cell_type": "code",
   "execution_count": 22,
   "metadata": {},
   "outputs": [
    {
     "data": {
      "text/plain": [
       "True"
      ]
     },
     "execution_count": 22,
     "metadata": {},
     "output_type": "execute_result"
    }
   ],
   "source": [
    "x2 == (a * x1 + c) % m"
   ]
  },
  {
   "cell_type": "code",
   "execution_count": 19,
   "metadata": {},
   "outputs": [
    {
     "name": "stdout",
     "output_type": "stream",
     "text": [
      "11 9 9 9\n",
      "0 9\n"
     ]
    }
   ],
   "source": [
    "m, seed, x1, x2 = map(int, input().split())\n",
    "\n",
    "cands = []\n",
    "\n",
    "for a in range(m):\n",
    "    x2_to_check = a * x1 % m\n",
    "    \n",
    "    if x2 < x2_to_check:\n",
    "        x2_to_check -= m\n",
    "    \n",
    "    c = x2 - x2_to_check \n",
    "    cands.append((a, c))\n",
    "    \n",
    "for a, c in cands:\n",
    "    if x1 == (a * seed + c) % m:\n",
    "        print(a, c)\n",
    "        break"
   ]
  },
  {
   "cell_type": "markdown",
   "metadata": {},
   "source": [
    "### 역전의 제왕 (Easy) 20416"
   ]
  },
  {
   "cell_type": "code",
   "execution_count": 48,
   "metadata": {},
   "outputs": [
    {
     "name": "stdout",
     "output_type": "stream",
     "text": [
      "3 7\n",
      "[0, 1, 2] [(2, 298, 0), (1, 76, 1), (1, 141, 2)] [2, 1, 1] [298, 76, 141] [0, 0, 0]\n",
      "[1, 0, 2] [(2, 274, 1), (2, 298, 0), (1, 141, 2)] [2, 2, 1] [298, 274, 141] [0, 1, 0]\n",
      "[0, 1, 2] [(3, 632, 0), (2, 274, 1), (1, 141, 2)] [3, 2, 1] [632, 274, 141] [1, 1, 0]\n",
      "[1, 0, 2] [(3, 478, 1), (3, 632, 0), (1, 141, 2)] [3, 3, 1] [632, 478, 141] [1, 2, 0]\n",
      "2\n"
     ]
    }
   ],
   "source": [
    "n, m = map(int, input().split())\n",
    "\n",
    "solved = [0] * (n)\n",
    "penalty = [0] * (n)\n",
    "afs = [[] for _ in range(n)] # after being freezed submission, afs[s_id] = [(p_id, t, c)]\n",
    "\n",
    "# for _ in range(m):\n",
    "#     li = input().split()\n",
    "\n",
    "s = '''00:38 1 4 3\n",
    "01:16 2 2 1\n",
    "02:01 3 1 2\n",
    "03:00 1 2 3\n",
    "03:04 2 3 2\n",
    "03:18 2 1 1\n",
    "03:54 1 3 6'''\n",
    "for li in s.split('\\n'):\n",
    "    li = li.split()\n",
    "    li[0] = list(map(int, li[0].split(':')))\n",
    "    li[0] = li[0][0] * 60 + li[0][1]\n",
    "    li = list(map(int, li))\n",
    "    \n",
    "    t, st_id, p_id, c = li\n",
    "    st_id -= 1\n",
    "    # 프리징 상태가 아닌 경우\n",
    "    if t <= 180:\n",
    "        solved[st_id] += 1\n",
    "        pt = t + (c - 1) * 20\n",
    "        penalty[st_id] += pt\n",
    "        \n",
    "    # 프리징된 경우\n",
    "    else:\n",
    "        afs[st_id].append((p_id, t, c))\n",
    "\n",
    "for i in range(n):\n",
    "    afs[i].sort(reverse=True)\n",
    "    \n",
    "score = [(solved[i], penalty[i], i) for i in range(n)]\n",
    "score.sort(key=lambda x: (-x[0], x[1]))\n",
    "rank = [score[i][2] for i in range(n)]\n",
    "top = [0] * n # take over point\n",
    "\n",
    "print(rank, score, solved, penalty, top)\n",
    "while True:\n",
    "    for st_id in reversed(rank):\n",
    "        if not afs[st_id]:\n",
    "            continue\n",
    "        else:\n",
    "            p_id, t, c = afs[st_id].pop()\n",
    "\n",
    "            solved[st_id] += 1\n",
    "            pt = t + (c - 1) * 20\n",
    "            penalty[st_id] += pt\n",
    "            \n",
    "            score = [(solved[i], penalty[i], i) for i in range(n)]\n",
    "            score.sort(key=lambda x: (-x[0], x[1]))\n",
    "            nrank = [score[i][2] for i in range(n)]\n",
    "            top[st_id] += rank.index(st_id) - nrank.index(st_id)\n",
    "            \n",
    "            rank = nrank.copy()\n",
    "            \n",
    "            print(rank, score, solved, penalty, top)\n",
    "            break\n",
    "    else:\n",
    "        break\n",
    "    \n",
    "top = [(v, rank.index(i), i + 1) for i, v in enumerate(top)]\n",
    "top.sort(key=lambda x: (-x[0], x[1]))\n",
    "\n",
    "print(top[0][2])"
   ]
  },
  {
   "cell_type": "code",
   "execution_count": 40,
   "metadata": {},
   "outputs": [
    {
     "name": "stdout",
     "output_type": "stream",
     "text": [
      "3 7\n",
      "00:38 1 4 3\n",
      "01:16 2 2 1\n",
      "02:01 3 1 2\n",
      "03:00 1 2 3\n",
      "03:04 2 3 2\n",
      "03:18 2 1 1\n",
      "03:54 1 3 6\n",
      "2\n"
     ]
    }
   ],
   "source": [
    "n, m = map(int, input().split())\n",
    "\n",
    "solved = [0] * (n)\n",
    "penalty = [0] * (n)\n",
    "afs = [[] for _ in range(n)] # after being freezed submission, afs[s_id] = [(p_id, t, c)]\n",
    "\n",
    "for _ in range(m):\n",
    "    li = input().split()\n",
    "    li[0] = list(map(int, li[0].split(':')))\n",
    "    li[0] = li[0][0] * 60 + li[0][1]\n",
    "    li = list(map(int, li))\n",
    "    \n",
    "    t, st_id, p_id, c = li\n",
    "    st_id -= 1\n",
    "    # 프리징 상태가 아닌 경우\n",
    "    if t <= 180:\n",
    "        solved[st_id] += 1\n",
    "        pt = t + (c - 1) * 20\n",
    "        penalty[st_id] += pt\n",
    "        \n",
    "    # 프리징된 경우\n",
    "    else:\n",
    "        afs[st_id].append((p_id, t, c))\n",
    "\n",
    "for i in range(n):\n",
    "    afs[i].sort(reverse=True)\n",
    "    \n",
    "score = [(solved[i], penalty[i], i) for i in range(n)]\n",
    "score.sort(key=lambda x: (-x[0], x[1]))\n",
    "rank = [score[i][2] for i in range(n)]\n",
    "top = [0] * n # take over point\n",
    "\n",
    "# print(rank, score, solved, penalty, top)\n",
    "while True:\n",
    "    for st_id in reversed(rank):\n",
    "        if not afs[st_id]:\n",
    "            continue\n",
    "        else:\n",
    "            p_id, t, c = afs[st_id].pop()\n",
    "\n",
    "            solved[st_id] += 1\n",
    "            pt = t + (c - 1) * 20\n",
    "            penalty[st_id] += pt\n",
    "            \n",
    "            score = [(solved[i], penalty[i], i) for i in range(n)]\n",
    "            score.sort(key=lambda x: (-x[0], x[1]))\n",
    "            nrank = [score[i][2] for i in range(n)]\n",
    "            top[st_id] += rank.index(st_id) - nrank.index(st_id)\n",
    "            \n",
    "            rank = nrank.copy()\n",
    "            \n",
    "#             print(rank, score, solved, penalty, top)\n",
    "            break\n",
    "    else:\n",
    "        break\n",
    "    \n",
    "top = [(v, rank.index(i), i + 1) for i, v in enumerate(top)]\n",
    "top.sort(key=lambda x: (-x[0], x[1]))\n",
    "\n",
    "print(top[0][2])"
   ]
  },
  {
   "cell_type": "markdown",
   "metadata": {},
   "source": [
    "### 역전의 제왕 (Normal) 20417"
   ]
  },
  {
   "cell_type": "code",
   "execution_count": 50,
   "metadata": {},
   "outputs": [
    {
     "name": "stdout",
     "output_type": "stream",
     "text": [
      "3 7\n",
      "[0, 1, 2] [(2, 298, 234, 0), (1, 76, 234, 1), (1, 141, 234, 2)] [2, 1, 1] [298, 76, 141] [0, 0, 0]\n",
      "[1, 0, 2] [(2, 274, 198, 1), (2, 298, 198, 0), (1, 141, 198, 2)] [2, 2, 1] [298, 274, 141] [0, 1, 0]\n",
      "[0, 1, 2] [(3, 632, 234, 0), (2, 274, 234, 1), (1, 141, 234, 2)] [3, 2, 1] [632, 274, 141] [1, 1, 0]\n",
      "[1, 0, 2] [(3, 478, 198, 1), (3, 632, 198, 0), (1, 141, 198, 2)] [3, 3, 1] [632, 478, 141] [1, 2, 0]\n",
      "2\n"
     ]
    }
   ],
   "source": [
    "n, m = map(int, input().split())\n",
    "\n",
    "solved = [0] * (n)\n",
    "penalty = [0] * (n)\n",
    "afs = [[] for _ in range(n)] # after being freezed submission, afs[s_id] = [(p_id, t, c)]\n",
    "last_submitted = [0] * n\n",
    "\n",
    "# for _ in range(m):\n",
    "#     li = input().split()\n",
    "\n",
    "s = '''00:38 1 4 3\n",
    "01:16 2 2 1\n",
    "02:01 3 1 2\n",
    "03:00 1 2 3\n",
    "03:04 2 3 2\n",
    "03:18 2 1 1\n",
    "03:54 1 3 6'''\n",
    "for li in s.split('\\n'):\n",
    "    li = li.split()\n",
    "    li[0] = list(map(int, li[0].split(':')))\n",
    "    li[0] = li[0][0] * 60 + li[0][1]\n",
    "    li = list(map(int, li))\n",
    "    \n",
    "    t, st_id, p_id, c = li\n",
    "    st_id -= 1\n",
    "    \n",
    "    last_submitted[st_id] = t\n",
    "    \n",
    "    # 프리징 상태가 아닌 경우\n",
    "    if t <= 180:\n",
    "        solved[st_id] += 1\n",
    "        pt = t + (c - 1) * 20\n",
    "        penalty[st_id] += pt\n",
    "        \n",
    "    # 프리징된 경우\n",
    "    else:\n",
    "        afs[st_id].append((p_id, t, c))\n",
    "\n",
    "for i in range(n):\n",
    "    afs[i].sort(reverse=True)\n",
    "    \n",
    "score = [(solved[i], penalty[i], last_submitted[st_id], i) for i in range(n)]\n",
    "score.sort(key=lambda x: (-x[0], x[1], x[2]))\n",
    "rank = [score[i][3] for i in range(n)]\n",
    "top = [0] * n # take over point\n",
    "\n",
    "print(rank, score, solved, penalty, top)\n",
    "while True:\n",
    "    for st_id in reversed(rank):\n",
    "        if not afs[st_id]:\n",
    "            continue\n",
    "        else:\n",
    "            p_id, t, c = afs[st_id].pop()\n",
    "\n",
    "            solved[st_id] += 1\n",
    "            pt = t + (c - 1) * 20\n",
    "            penalty[st_id] += pt\n",
    "            \n",
    "            score = [(solved[i], penalty[i], last_submitted[st_id], i) for i in range(n)]\n",
    "            score.sort(key=lambda x: (-x[0], x[1], x[2]))\n",
    "            nrank = [score[i][3] for i in range(n)]\n",
    "            top[st_id] += rank.index(st_id) - nrank.index(st_id)\n",
    "            \n",
    "            rank = nrank.copy()\n",
    "            \n",
    "            print(rank, score, solved, penalty, top)\n",
    "            break\n",
    "    else:\n",
    "        break\n",
    "    \n",
    "top = [(v, rank.index(i), i + 1) for i, v in enumerate(top)]\n",
    "top.sort(key=lambda x: (-x[0], x[1]))\n",
    "\n",
    "print(top[0][2])"
   ]
  },
  {
   "cell_type": "code",
   "execution_count": 54,
   "metadata": {},
   "outputs": [
    {
     "name": "stdout",
     "output_type": "stream",
     "text": [
      "3 7\n",
      "00:38 1 4 3\n",
      "01:16 2 2 1\n",
      "02:01 3 1 2\n",
      "03:00 1 2 3\n",
      "03:04 2 3 2\n",
      "03:18 2 1 1\n",
      "03:54 1 3 6\n",
      "2\n"
     ]
    }
   ],
   "source": [
    "n, m = map(int, input().split())\n",
    "\n",
    "solved = [0] * (n)\n",
    "penalty = [0] * (n)\n",
    "afs = [[] for _ in range(n)] # after being freezed submission, afs[s_id] = [(p_id, t, c)]\n",
    "last_submitted = [0] * n\n",
    "\n",
    "added = 0.00001\n",
    "for _ in range(m):\n",
    "    li = input().split()\n",
    "    li[0] = list(map(int, li[0].split(':')))\n",
    "    li[0] = li[0][0] * 60 + li[0][1]\n",
    "    li = list(map(int, li))\n",
    "    \n",
    "    t, st_id, p_id, c = li\n",
    "    st_id -= 1\n",
    "    \n",
    "    # 프리징 상태가 아닌 경우\n",
    "    if t <= 180:\n",
    "        last_submitted[st_id] = t + added\n",
    "        added += 0.00001\n",
    "        \n",
    "        solved[st_id] += 1\n",
    "        pt = t + (c - 1) * 20\n",
    "        penalty[st_id] += pt\n",
    "        \n",
    "    # 프리징된 경우\n",
    "    else:\n",
    "        afs[st_id].append((p_id, t, c))\n",
    "\n",
    "for i in range(n):\n",
    "    afs[i].sort(reverse=True)\n",
    "    \n",
    "score = [(solved[i], penalty[i], last_submitted[i], i) for i in range(n)]\n",
    "score.sort(key=lambda x: (-x[0], x[1], x[2]))\n",
    "rank = [score[i][3] for i in range(n)]\n",
    "top = [0] * n # take over point\n",
    "while True:\n",
    "    for st_id in reversed(rank):\n",
    "        if not afs[st_id]:\n",
    "            continue\n",
    "        else:\n",
    "            p_id, t, c = afs[st_id].pop()\n",
    "            \n",
    "            last_submitted[st_id] = t + added\n",
    "            added += 0.00001\n",
    "\n",
    "            solved[st_id] += 1\n",
    "            pt = t + (c - 1) * 20\n",
    "            penalty[st_id] += pt\n",
    "            \n",
    "            score = [(solved[i], penalty[i], last_submitted[i], i) for i in range(n)]\n",
    "            score.sort(key=lambda x: (-x[0], x[1], x[2]))\n",
    "            nrank = [score[i][3] for i in range(n)]\n",
    "            top[st_id] += rank.index(st_id) - nrank.index(st_id)\n",
    "            \n",
    "            rank = nrank.copy()\n",
    "            break\n",
    "    else:\n",
    "        break\n",
    "    \n",
    "top = [(v, rank.index(i), i + 1) for i, v in enumerate(top)]\n",
    "top.sort(key=lambda x: (-x[0], x[1]))\n",
    "\n",
    "print(top[0][2])"
   ]
  },
  {
   "cell_type": "markdown",
   "metadata": {},
   "source": [
    "### 화살표 미로 (Easy) 20419"
   ]
  },
  {
   "cell_type": "code",
   "execution_count": 39,
   "metadata": {},
   "outputs": [
    {
     "name": "stdout",
     "output_type": "stream",
     "text": [
      "1 2 0\n",
      "UU\n",
      "No\n"
     ]
    }
   ],
   "source": [
    "from collections import deque\n",
    "\n",
    "n, m, k = map(int, input().split())\n",
    "li = [list(input()) for _ in range(n)]\n",
    "\n",
    "ds = 'URDL'\n",
    "for i in range(n):\n",
    "    for j in range(m):\n",
    "        li[i][j] = ds.index(li[i][j])\n",
    "\n",
    "def check():\n",
    "    max_ks = [[[-1, -1] for _ in range(m)] for _ in range(n)]\n",
    "    max_ks[0][0] = [k, k]\n",
    "    \n",
    "    dx = [-1, 0, 1, 0]\n",
    "    dy = [0, 1, 0, -1]\n",
    "    \n",
    "    vt = [[[[False] * m for _ in range(n)] for _ in range(k + 1)] for _ in range(k + 1)] # vt[lk][rk][n][m]\n",
    "    vt[k][k][0][0] = True\n",
    "\n",
    "    queue = deque()\n",
    "    queue.append((0, 0, k, k))\n",
    "    while queue:\n",
    "        x, y, lk, rk = queue.popleft()\n",
    "        d = li[x][y]\n",
    "\n",
    "        if lk:\n",
    "            nlk = lk\n",
    "            nd = d\n",
    "            for _ in range(4):\n",
    "                nlk -= 1\n",
    "                if nlk == -1:\n",
    "                    break\n",
    "                nd -= 1\n",
    "\n",
    "                nx = x + dx[nd % 4]\n",
    "                ny = y + dy[nd % 4]\n",
    "\n",
    "                if nx < 0 or nx >= n or ny < 0 or ny >= m:\n",
    "                    continue\n",
    "                if not vt[nlk][rk][nx][ny]:\n",
    "                    if nx == n - 1 and ny == m - 1:\n",
    "                        return True\n",
    "                    vt[nlk][rk][nx][ny] = True\n",
    "                    if max_ks[nx][ny][0] < nlk or max_ks[nx][ny][1] < rk:\n",
    "                        queue.append((nx, ny, nlk, rk))\n",
    "                        \n",
    "                        if max_ks[nx][ny][0] <= nlk and max_ks[nx][ny][1] <= rk:\n",
    "                            max_ks[nx][ny][0] = nlk\n",
    "                            max_ks[nx][ny][1] = rk\n",
    "           \n",
    "        if rk:\n",
    "            nrk = rk\n",
    "            nd = d\n",
    "            for _ in range(4):\n",
    "                nrk -= 1\n",
    "                if nrk == -1:\n",
    "                    break\n",
    "                nd += 1\n",
    "\n",
    "                nx = x + dx[nd % 4]\n",
    "                ny = y + dy[nd % 4]\n",
    "\n",
    "                if nx < 0 or nx >= n or ny < 0 or ny >= m:\n",
    "                    continue\n",
    "                if not vt[lk][nrk][nx][ny]:\n",
    "                    if nx == n - 1 and ny == m - 1:\n",
    "                        return True\n",
    "                    vt[lk][nrk][nx][ny] = True\n",
    "                    if max_ks[nx][ny][0] < lk or max_ks[nx][ny][1] < nrk:\n",
    "                        queue.append((nx, ny, lk, nrk))\n",
    "                        \n",
    "                        if max_ks[nx][ny][0] <= lk and max_ks[nx][ny][1] <= nrk:\n",
    "                            max_ks[nx][ny][0] = lk\n",
    "                            max_ks[nx][ny][1] = nrk\n",
    "                    \n",
    "        nx, ny = x + dx[d], y + dy[d]\n",
    "        if nx < 0 or nx >= n or ny < 0 or ny >= m:\n",
    "            continue\n",
    "        if not vt[lk][rk][nx][ny]:\n",
    "            if nx == n - 1 and ny == m - 1:\n",
    "                return True\n",
    "            vt[lk][rk][nx][ny] = True\n",
    "            if max_ks[nx][ny][0] < lk or max_ks[nx][ny][1] < rk:\n",
    "                queue.append((nx, ny, lk, rk))\n",
    "\n",
    "                if max_ks[nx][ny][0] <= lk and max_ks[nx][ny][1] <= rk:\n",
    "                    max_ks[nx][ny][0] = lk\n",
    "                    max_ks[nx][ny][1] = rk\n",
    "\n",
    "    return False\n",
    "\n",
    "if n == 1 and m == 1:\n",
    "    print('Yes')\n",
    "else:\n",
    "    if check():\n",
    "        print('Yes')\n",
    "    else:\n",
    "        print('No')"
   ]
  },
  {
   "cell_type": "markdown",
   "metadata": {},
   "source": [
    "A"
   ]
  },
  {
   "cell_type": "code",
   "execution_count": 2,
   "metadata": {},
   "outputs": [
    {
     "name": "stdout",
     "output_type": "stream",
     "text": [
      "13 5 2 9\n",
      "2 5\n"
     ]
    }
   ],
   "source": [
    "m, seed, x1, x2 = map(int, input().split())\n",
    "\n",
    "def solve():\n",
    "    for a in range(m):\n",
    "        for c in range(m):\n",
    "            if x1 == (a * seed + c) % m and x2 == (a * x1 + c) % m:\n",
    "                print(a, c)\n",
    "                return\n",
    "            \n",
    "solve()"
   ]
  },
  {
   "cell_type": "markdown",
   "metadata": {},
   "source": [
    "B"
   ]
  },
  {
   "cell_type": "code",
   "execution_count": 16,
   "metadata": {},
   "outputs": [
    {
     "name": "stdout",
     "output_type": "stream",
     "text": [
      "10\n",
      "257 269 367 500\n",
      "BSGGGGPPDD\n"
     ]
    }
   ],
   "source": [
    "n = int(input())\n",
    "s, g, p, d = map(int, input().split())\n",
    "grades = input()\n",
    "\n",
    "limits_d = {'B': s - 1, 'S': g - 1, 'G': p - 1, 'P': d - 1, 'D': float('inf')}\n",
    "limits = [limits_d[v] for v in grades]"
   ]
  },
  {
   "cell_type": "code",
   "execution_count": 18,
   "metadata": {},
   "outputs": [
    {
     "name": "stdout",
     "output_type": "stream",
     "text": [
      "3\n",
      "30 60 90 150\n",
      "BSG\n",
      "118\n"
     ]
    }
   ],
   "source": [
    "n = int(input())\n",
    "s, g, p, d = map(int, input().split())\n",
    "grades = input()\n",
    "\n",
    "limits_d = {'B': s - 1, 'S': g - 1, 'G': p - 1, 'P': d - 1, 'D': float('inf')}\n",
    "limits = [limits_d[v] for v in grades]\n",
    "\n",
    "cumul = 0\n",
    "f, c = 0, 0\n",
    "for i in range(n):\n",
    "    f = c\n",
    "    c = 0\n",
    "    \n",
    "    c = min(d, limits[i] - f)\n",
    "    cumul += c\n",
    "    \n",
    "print(cumul)"
   ]
  },
  {
   "cell_type": "markdown",
   "metadata": {},
   "source": [
    "C"
   ]
  },
  {
   "cell_type": "code",
   "execution_count": 27,
   "metadata": {},
   "outputs": [
    {
     "name": "stdout",
     "output_type": "stream",
     "text": [
      "3 7\n",
      "00:38 1 4 3\n",
      "01:16 2 2 1\n",
      "02:01 3 1 2\n",
      "03:00 1 2 3\n",
      "03:04 2 3 2\n",
      "03:18 2 1 1\n",
      "03:54 1 3 6\n",
      "1\n"
     ]
    }
   ],
   "source": [
    "n, m = map(int, input().split())\n",
    "\n",
    "solved = [0] * n\n",
    "penalty = [0] * n\n",
    "freezed = [[] for _ in range(n)] # freezed[참가자 번호] = [[제출 시간, 문제 번호, 제출 횟수], ...]\n",
    "fc = 0 # freezed count\n",
    "\n",
    "def get_penalty(t, count):\n",
    "    return t + (count - 1) * 20\n",
    "\n",
    "def get_rank():\n",
    "    score = [[i, solved[i], penalty[i]] for i in range(n)]\n",
    "    score.sort(key=lambda x: (-x[1], x[2]))\n",
    "    \n",
    "    position = [score[i][0] for i in range(n)] # position[등수] = 참가자 번호\n",
    "    rank = [(s_id, r) for r, s_id in enumerate(position)]\n",
    "    rank.sort(key=lambda x: x[0]) # rank[참가자 번호] = 등수\n",
    "    rank = [rank[i][1] for i in range(n)] \n",
    "    \n",
    "    return position, rank\n",
    "    \n",
    "for _ in range(m):\n",
    "    t, s_id, p_id, count = input().split()\n",
    "    \n",
    "    s_id = int(s_id) - 1\n",
    "    p_id = int(p_id) - 1\n",
    "    count = int(count)\n",
    "    \n",
    "    h, m = map(int, t.split(':'))\n",
    "    t = h * 60 + m\n",
    "    \n",
    "    if t <= 180:\n",
    "        solved[s_id] += 1\n",
    "        penalty[s_id] += get_penalty(t, count)\n",
    "    else:\n",
    "        freezed[s_id].append([t, p_id, count])\n",
    "        fc += 1\n",
    "    \n",
    "for s_id in range(n):\n",
    "    freezed[s_id].sort(key=lambda x: -x[1])\n",
    "\n",
    "top = [0] * n # taking over point\n",
    "for i in range(fc):\n",
    "    position, rank = get_rank()\n",
    "    for s_id in position[::-1]:\n",
    "        if freezed[s_id]:\n",
    "            t, p_id, count = freezed[s_id].pop()\n",
    "            solved[s_id] += 1\n",
    "            penalty[s_id] += get_penalty(t, count)\n",
    "            \n",
    "            _, nrank = get_rank()\n",
    "            top[s_id] += rank[s_id] - nrank[s_id]\n",
    "            break\n",
    "\n",
    "_, rank = get_rank()           \n",
    "top = [(i, top[i], rank[i]) for i in range(n)]\n",
    "top.sort(key=lambda x: (-x[1], x[2]))\n",
    "\n",
    "print(top[0][0] + 1)"
   ]
  }
 ],
 "metadata": {
  "kernelspec": {
   "display_name": "Python 3",
   "language": "python",
   "name": "python3"
  },
  "language_info": {
   "codemirror_mode": {
    "name": "ipython",
    "version": 3
   },
   "file_extension": ".py",
   "mimetype": "text/x-python",
   "name": "python",
   "nbconvert_exporter": "python",
   "pygments_lexer": "ipython3",
   "version": "3.7.3"
  }
 },
 "nbformat": 4,
 "nbformat_minor": 4
}
