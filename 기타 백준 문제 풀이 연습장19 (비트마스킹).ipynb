{
 "cells": [
  {
   "cell_type": "markdown",
   "metadata": {},
   "source": [
    "### 이진수 연산 12813\n",
    "- 문자열"
   ]
  },
  {
   "cell_type": "code",
   "execution_count": null,
   "metadata": {},
   "outputs": [],
   "source": [
    "s1 = input()\n",
    "s2 = input()\n",
    "\n",
    "a = int(s1, 2)\n",
    "b = int(s2, 2)\n",
    "\n",
    "print(\"{:0>100000}\".format(bin(a & b)[2:]))\n",
    "print(\"{:0>100000}\".format(bin(a | b)[2:]))\n",
    "print(\"{:0>100000}\".format(bin(a ^ b)[2:]))\n",
    "\n",
    "bin_a = \"{:0>100000}\".format(bin(a)[2:])\n",
    "bin_b = \"{:0>100000}\".format(bin(b)[2:])\n",
    "\n",
    "result_bin_a = \"\"\n",
    "for v in bin_a:\n",
    "    result_bin_a += str(1 ^ int(v))\n",
    "    \n",
    "result_bin_b = \"\"\n",
    "for v in bin_b:\n",
    "    result_bin_b += str(1 ^ int(v))\n",
    "    \n",
    "print(result_bin_a)\n",
    "print(result_bin_b)"
   ]
  },
  {
   "cell_type": "code",
   "execution_count": null,
   "metadata": {},
   "outputs": [],
   "source": [
    "# 다른 사람 코드 (hijae, https://www.acmicpc.net/source/27629312)\n",
    "a=int(input(),2)\n",
    "b=int(input(),2)\n",
    "\n",
    "n = 100000\n",
    "mask=2**n-1\n",
    "\n",
    "print(format(a&b,'b').zfill(n))\n",
    "print(format(a|b,'b').zfill(n))\n",
    "print(format(a^b,'b').zfill(n))\n",
    "print(format(a^mask,'b').zfill(n))\n",
    "print(format(b^mask,'b').zfill(n))"
   ]
  }
 ],
 "metadata": {
  "kernelspec": {
   "display_name": "Python 3",
   "language": "python",
   "name": "python3"
  },
  "language_info": {
   "codemirror_mode": {
    "name": "ipython",
    "version": 3
   },
   "file_extension": ".py",
   "mimetype": "text/x-python",
   "name": "python",
   "nbconvert_exporter": "python",
   "pygments_lexer": "ipython3",
   "version": "3.7.3"
  }
 },
 "nbformat": 4,
 "nbformat_minor": 4
}
