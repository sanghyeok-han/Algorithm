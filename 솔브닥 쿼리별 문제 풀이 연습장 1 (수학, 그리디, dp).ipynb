{
 "cells": [
  {
   "cell_type": "markdown",
   "metadata": {},
   "source": [
    "#### (tag:dp|tag:greedy|tag:math) tier:s5.. solved:1000.. - solved_by:$me"
   ]
  },
  {
   "cell_type": "markdown",
   "metadata": {},
   "source": [
    "#### (tag:dp|tag:greedy|tag:math) tier:s1.. solved:1000.. - solved_by:$me"
   ]
  },
  {
   "cell_type": "markdown",
   "metadata": {},
   "source": [
    "### 정수 제곱근 2417"
   ]
  },
  {
   "cell_type": "code",
   "execution_count": 13,
   "metadata": {},
   "outputs": [
    {
     "name": "stdout",
     "output_type": "stream",
     "text": [
      "2\n",
      "2\n"
     ]
    }
   ],
   "source": [
    "n = int(input())\n",
    "\n",
    "result = 0\n",
    "if n ** 0.5 != int(n ** 0.5):\n",
    "    result = int(n ** 0.5) + 1\n",
    "else:\n",
    "    result = int(n ** 0.5)\n",
    "    \n",
    "print(result)"
   ]
  },
  {
   "cell_type": "markdown",
   "metadata": {},
   "source": [
    "### 수 이어가기 2635"
   ]
  },
  {
   "cell_type": "code",
   "execution_count": 72,
   "metadata": {},
   "outputs": [
    {
     "name": "stdout",
     "output_type": "stream",
     "text": [
      "1\n",
      "4\n",
      "1 1 0 1\n"
     ]
    }
   ],
   "source": [
    "n = int(input())\n",
    "\n",
    "max_len = 0\n",
    "max_li = []\n",
    "for second in list(range(int(n * 0.61), int(n * 0.63) + 1)) + [n]:\n",
    "    li = [n]\n",
    "    li.append(second)\n",
    "    \n",
    "    while True:\n",
    "        value = li[-2] - li[-1]\n",
    "        if value >= 0:\n",
    "            li.append(value)\n",
    "        else:\n",
    "            break\n",
    "        \n",
    "    if max_len < len(li):\n",
    "        max_len = len(li)\n",
    "        max_li = li.copy()\n",
    "        \n",
    "print(max_len)\n",
    "print(*max_li)"
   ]
  },
  {
   "cell_type": "markdown",
   "metadata": {},
   "source": [
    "### 0의 개수 11170"
   ]
  },
  {
   "cell_type": "code",
   "execution_count": 2,
   "metadata": {},
   "outputs": [
    {
     "name": "stdout",
     "output_type": "stream",
     "text": [
      "33 1005\n",
      "199\n"
     ]
    }
   ],
   "source": [
    "for _ in range(int(input())):\n",
    "    n, m = map(int, input().split())\n",
    "\n",
    "    count = 0\n",
    "    for i in range(n, m + 1):\n",
    "        count += str(i).count('0')\n",
    "\n",
    "    print(count)"
   ]
  },
  {
   "cell_type": "markdown",
   "metadata": {},
   "source": [
    "### 개미 10158"
   ]
  },
  {
   "cell_type": "code",
   "execution_count": 7,
   "metadata": {},
   "outputs": [
    {
     "name": "stdout",
     "output_type": "stream",
     "text": [
      "6 4\n",
      "5 3\n",
      "4\n",
      "3 1\n"
     ]
    }
   ],
   "source": [
    "w, h = map(int, input().split())\n",
    "sx, sy = map(int, input().split())\n",
    "t = int(input())\n",
    "\n",
    "xs = []\n",
    "ys = []\n",
    "\n",
    "for i in range(sx, w + 1):\n",
    "    xs.append(i)\n",
    "for i in range(w - 1, -1, -1):\n",
    "    xs.append(i)\n",
    "for i in range(1, sx):\n",
    "    xs.append(i)\n",
    "    \n",
    "for i in range(sy, h + 1):\n",
    "    ys.append(i)\n",
    "for i in range(h - 1, -1, -1):\n",
    "    ys.append(i)\n",
    "for i in range(1, sy):\n",
    "    ys.append(i)\n",
    "\n",
    "print(xs[t % len(xs)], ys[t % len(ys)])"
   ]
  },
  {
   "cell_type": "markdown",
   "metadata": {},
   "source": [
    "### 동전 게임 10837"
   ]
  },
  {
   "cell_type": "code",
   "execution_count": 19,
   "metadata": {},
   "outputs": [
    {
     "name": "stdout",
     "output_type": "stream",
     "text": [
      "5\n",
      "4\n",
      "5 5\n",
      "1\n",
      "5 1\n",
      "0\n",
      "0 3\n",
      "1\n",
      "1 4\n",
      "0\n"
     ]
    }
   ],
   "source": [
    "import sys\n",
    "# input = lambda: sys.stdin.readline().rstrip()\n",
    "\n",
    "def check():\n",
    "    mprr = k - max(n, m) # max possible remained rounds \n",
    "    if mprr < 0:\n",
    "        return 0\n",
    "    if n == m:\n",
    "        return 1\n",
    "    if n > m:\n",
    "        if n - m <= mprr + 2:\n",
    "            return 1\n",
    "        else:\n",
    "            return 0\n",
    "    else:\n",
    "        if m - n <= mprr + 1:\n",
    "            return 1\n",
    "        else:\n",
    "            return 0\n",
    "\n",
    "k = int(input())\n",
    "c = int(input())\n",
    "\n",
    "for _ in range(c):\n",
    "    n, m = map(int, input().split())\n",
    "    print(check())"
   ]
  },
  {
   "cell_type": "markdown",
   "metadata": {},
   "source": [
    "### 이항 쇼다운 6591"
   ]
  },
  {
   "cell_type": "code",
   "execution_count": 26,
   "metadata": {},
   "outputs": [],
   "source": [
    "del input"
   ]
  },
  {
   "cell_type": "code",
   "execution_count": 33,
   "metadata": {},
   "outputs": [
    {
     "name": "stdout",
     "output_type": "stream",
     "text": [
      "4 2\n",
      "6\n",
      "0 0\n"
     ]
    }
   ],
   "source": [
    "import sys\n",
    "# input = lambda: sys.stdin.readline().rstrip()\n",
    "\n",
    "def nCr(n, r):\n",
    "    if r > n - r:\n",
    "        r = n - r\n",
    "        \n",
    "    nu = n\n",
    "    de = 2\n",
    "    cur = 1\n",
    "    while nu > n - r and de <= r:\n",
    "        cur *= nu\n",
    "        nu -= 1\n",
    "        while de <= r:\n",
    "            if cur % de == 0:\n",
    "                cur //= de\n",
    "                de += 1\n",
    "            else:\n",
    "                break\n",
    "    while nu > n - r:\n",
    "        cur *= nu\n",
    "        nu -= 1\n",
    "    while de <= r:\n",
    "        cur //= de\n",
    "        de += 1\n",
    "        \n",
    "    return cur\n",
    "\n",
    "while True:\n",
    "    n, k = map(int, input().split())\n",
    "    if n == 0:\n",
    "        break\n",
    "    \n",
    "    print(nCr(n, k))"
   ]
  },
  {
   "cell_type": "markdown",
   "metadata": {},
   "source": [
    "### 로마 숫자 만들기 16922"
   ]
  },
  {
   "cell_type": "code",
   "execution_count": 43,
   "metadata": {},
   "outputs": [
    {
     "name": "stdout",
     "output_type": "stream",
     "text": [
      "10\n",
      "244\n"
     ]
    }
   ],
   "source": [
    "n = int(input())\n",
    "\n",
    "st = set()\n",
    "for ci in range(n + 1):\n",
    "    for cv in range(n - ci + 1):\n",
    "        for cx in range(n - ci - cv + 1):\n",
    "            st.add(ci + cv * 5 + cx * 10 + (n - ci - cv - cx) * 50)\n",
    "                    \n",
    "print(len(st))"
   ]
  },
  {
   "cell_type": "markdown",
   "metadata": {},
   "source": [
    "### 수열의 합 1024"
   ]
  },
  {
   "cell_type": "code",
   "execution_count": null,
   "metadata": {},
   "outputs": [],
   "source": [
    "# 맞았음\n",
    "N, L = map(int, input().split())\n",
    "\n",
    "def gs(num):\n",
    "    '''get sum'''    \n",
    "    return num * (num + 1) // 2\n",
    "\n",
    "def gis(l, r):\n",
    "    '''get interval sum'''\n",
    "    if l == 0:\n",
    "        l = 1\n",
    "    return gs(r) - gs(l - 1)\n",
    "\n",
    "s = 0\n",
    "e = 1\n",
    "cur = -1\n",
    "while s <= e:\n",
    "    value = gis(s, e)\n",
    "    if value == N:\n",
    "        if e - s + 1 < L:\n",
    "            break\n",
    "        cur = range(s, e + 1)\n",
    "        s += 1\n",
    "        e += 1\n",
    "    if value < N:\n",
    "        e += 1\n",
    "        if e - s >= 100:\n",
    "            s += 1\n",
    "    if value > N:\n",
    "        s += 1\n",
    "        if e - s + 1 < L:\n",
    "            break\n",
    "\n",
    "if cur == -1:\n",
    "    print(cur)\n",
    "else:\n",
    "    cur = list(cur)\n",
    "    if len(cur) > L and cur[0] == 0:\n",
    "        print(*cur[1:])\n",
    "    else:\n",
    "        print(*cur)"
   ]
  },
  {
   "cell_type": "code",
   "execution_count": 116,
   "metadata": {},
   "outputs": [
    {
     "name": "stdout",
     "output_type": "stream",
     "text": [
      "18 2\n",
      "5 6 7\n"
     ]
    }
   ],
   "source": [
    "# 맞았음, 효율성 증가\n",
    "N, L = map(int, input().split())\n",
    "\n",
    "cur_s = cur_l = -1 \n",
    "for iv in range(L, 101):\n",
    "    temp = (iv - 1) * iv // 2\n",
    "    start = (N - temp) / iv\n",
    "    \n",
    "    if start >= 0 and start == int(start):\n",
    "        cur_s = int(start)\n",
    "        cur_l = iv\n",
    "        break\n",
    "        \n",
    "if cur_s == -1:\n",
    "    print(-1)\n",
    "else:\n",
    "    print(*range(cur_s, cur_s + cur_l))"
   ]
  },
  {
   "cell_type": "markdown",
   "metadata": {},
   "source": [
    "### 관중석 10166"
   ]
  },
  {
   "cell_type": "code",
   "execution_count": 188,
   "metadata": {},
   "outputs": [
    {
     "name": "stdout",
     "output_type": "stream",
     "text": [
      "3 6\n",
      "12\n"
     ]
    }
   ],
   "source": [
    "# 시간 초과, 후에 C언어로 맞았음\n",
    "from math import gcd\n",
    "\n",
    "d1, d2 = map(int, input().split())\n",
    "\n",
    "check = [[False] * (d2 + 1) for _ in range(d2 + 1)]\n",
    "count = 0\n",
    "st = set(range(d1, d2))\n",
    "for de in range(d1, d2 + 1):\n",
    "    if de * 2 in st:\n",
    "        continue\n",
    "    if de * 3 in st:\n",
    "        continue\n",
    "    if de * 5 in st:\n",
    "        continue\n",
    "    \n",
    "    for nu in range(1, de):\n",
    "        n_de = de\n",
    "        g = gcd(nu, n_de)\n",
    "        nu //= g\n",
    "        n_de //= g\n",
    "        if not check[nu][n_de]:\n",
    "            check[nu][n_de] = True\n",
    "            count += 1\n",
    "            \n",
    "print(count + 1)"
   ]
  },
  {
   "cell_type": "code",
   "execution_count": 187,
   "metadata": {},
   "outputs": [
    {
     "data": {
      "text/plain": [
       "4"
      ]
     },
     "execution_count": 187,
     "metadata": {},
     "output_type": "execute_result"
    }
   ],
   "source": [
    "def gcd(a, b):\n",
    "    while True:\n",
    "        b, a = a, b % a\n",
    "        if a == 0:\n",
    "            return b\n",
    "        \n",
    "gcd(4, 8)"
   ]
  },
  {
   "cell_type": "markdown",
   "metadata": {},
   "source": [
    "### 순열의 순서 1722"
   ]
  },
  {
   "cell_type": "code",
   "execution_count": 41,
   "metadata": {},
   "outputs": [
    {
     "name": "stdout",
     "output_type": "stream",
     "text": [
      "4\n",
      "2 1 2 3 4\n",
      "1\n"
     ]
    }
   ],
   "source": [
    "from math import factorial as ft\n",
    "\n",
    "n = int(input())\n",
    "li = list(map(int, input().split()))\n",
    "\n",
    "if li[0] == 1:\n",
    "    t = li[1]\n",
    "    t -= 1\n",
    "    \n",
    "    cands = list(range(1, n + 1))\n",
    "    result = []\n",
    "    for i in range(1, n + 1):\n",
    "        si = t // ft(n - i) # selected index\n",
    "        result.append(cands[si])\n",
    "        del cands[si]\n",
    "        t -= si * ft(n - i)\n",
    "\n",
    "    print(*result)\n",
    "else:\n",
    "    del li[0]\n",
    "    cands = list(range(1, n + 1))\n",
    "\n",
    "    cur = 1\n",
    "    for i in range(n):\n",
    "        si = cands.index(li[i])\n",
    "        cur += ft(n - 1 - i) * si\n",
    "        del cands[si]\n",
    "\n",
    "    print(cur)"
   ]
  },
  {
   "cell_type": "markdown",
   "metadata": {},
   "source": [
    "### 수 이어 쓰기 2 1790"
   ]
  },
  {
   "cell_type": "code",
   "execution_count": 125,
   "metadata": {},
   "outputs": [
    {
     "name": "stdout",
     "output_type": "stream",
     "text": [
      "20 23\n",
      "6\n"
     ]
    }
   ],
   "source": [
    "n, k = map(int, input().split())\n",
    "\n",
    "check = 10 ** (len(str(n)) - 1)\n",
    "mp = 0 # max possible\n",
    "while True:\n",
    "    mp += (n - check + 1) * len(str(n))\n",
    "    n = check - 1\n",
    "    if check == 1:\n",
    "        break\n",
    "    check //= 10\n",
    "    \n",
    "if k > mp:\n",
    "    print(-1)\n",
    "else:\n",
    "    k -= 1\n",
    "    to_sub = 9\n",
    "\n",
    "    cur_len = 1\n",
    "    cur = 1\n",
    "    value = to_sub * cur_len\n",
    "    while k - value >= 0:\n",
    "        k -= value\n",
    "        to_sub *= 10\n",
    "        cur *= 10\n",
    "        cur_len += 1\n",
    "        value = to_sub * cur_len\n",
    "\n",
    "    s = str(cur + k // cur_len)\n",
    "    \n",
    "    print(s[k % cur_len])"
   ]
  },
  {
   "cell_type": "code",
   "execution_count": 129,
   "metadata": {},
   "outputs": [
    {
     "name": "stdout",
     "output_type": "stream",
     "text": [
      "4\n",
      "13 7 5\n",
      "7 13 6\n",
      "14 3 12\n",
      "15 6 16\n",
      "1. 22\n",
      "0\n"
     ]
    }
   ],
   "source": [
    "t = 1\n",
    "while True:\n",
    "    n = int(input())\n",
    "    if n == 0:\n",
    "        break\n",
    "    li = [list(map(int, input().split())) for _ in range(n)]\n",
    "\n",
    "    dp = [[0] * 3 for _ in range(n)]\n",
    "    dp[0] = [float('inf'), li[0][1], li[0][1] + li[0][2]]\n",
    "    for i in range(1, n):\n",
    "        for j in range(3):\n",
    "            dp[i][j] = li[i][j]\n",
    "            if j == 0:\n",
    "                dp[i][j] += min(dp[i - 1][j], dp[i - 1][j + 1])\n",
    "            elif j == 1:\n",
    "                dp[i][j] += min(dp[i - 1][j - 1], dp[i - 1][j], dp[i - 1][j + 1], dp[i][j - 1])\n",
    "            else:\n",
    "                dp[i][j] += min(dp[i - 1][j - 1], dp[i - 1][j], dp[i][j - 1])\n",
    "\n",
    "    print(f'{t}. {dp[n - 1][1]}')\n",
    "    t += 1"
   ]
  },
  {
   "cell_type": "markdown",
   "metadata": {},
   "source": [
    "### 골드바흐의 추측 9020"
   ]
  },
  {
   "cell_type": "code",
   "execution_count": 142,
   "metadata": {},
   "outputs": [
    {
     "name": "stdout",
     "output_type": "stream",
     "text": [
      "3\n",
      "8\n",
      "3 5\n",
      "10\n",
      "5 5\n",
      "16\n",
      "5 11\n"
     ]
    }
   ],
   "source": [
    "import sys\n",
    "# input = lambda: sys.stdin.readline().rstrip()\n",
    "\n",
    "max_num = 10000\n",
    "\n",
    "is_primes = [True] * (max_num + 1)\n",
    "is_primes[0] = is_primes[1] = False\n",
    "\n",
    "for mod in range(2, int((max_num + 1) ** 0.5) + 1):\n",
    "    if is_primes[mod]:\n",
    "        for v in range(mod * mod, max_num + 1, mod):\n",
    "            is_primes[v] = False\n",
    "            \n",
    "primes = [i for i, v in enumerate(is_primes) if v]\n",
    "pst = set(primes)\n",
    "for _ in range(int(input())):\n",
    "    n = int(input())\n",
    "\n",
    "    half = n // 2\n",
    "    r = 0\n",
    "    for p in primes:\n",
    "        if p > half:\n",
    "            break\n",
    "        if n - p in pst:\n",
    "            r = p\n",
    "\n",
    "    print(r, n - r)"
   ]
  },
  {
   "cell_type": "markdown",
   "metadata": {},
   "source": [
    "### 10164 격자상의 경로"
   ]
  },
  {
   "cell_type": "code",
   "execution_count": 153,
   "metadata": {},
   "outputs": [
    {
     "name": "stdout",
     "output_type": "stream",
     "text": [
      "7 11 76\n",
      "5005\n"
     ]
    }
   ],
   "source": [
    "# 맞았음\n",
    "n, m, k = map(int, input().split())\n",
    "\n",
    "dp = [[0] * (m + 1) for _ in range(n + 1)]\n",
    "dp[1][1] = 1\n",
    "\n",
    "to_avoid = set()\n",
    "if k >= 1:\n",
    "    k -= 1\n",
    "    kx = k // m\n",
    "    ky = k % m\n",
    "    \n",
    "    tay = ky - 1\n",
    "    tax = kx + 1\n",
    "    while tax < n:\n",
    "        to_avoid.add((tax, tay))\n",
    "        tax += 1\n",
    "    tay = ky + 1\n",
    "    tax = kx - 1\n",
    "    while tax >= 0:\n",
    "        to_avoid.add((tax, tay))\n",
    "        tax -= 1\n",
    "    \n",
    "for i in range(n):\n",
    "    for j in range(m):\n",
    "        if i == j == 0:\n",
    "            continue\n",
    "        if (i, j) in to_avoid:\n",
    "            continue\n",
    "        dp[i + 1][j + 1] = dp[i][j + 1] + dp[i + 1][j]\n",
    "        \n",
    "print(dp[-1][-1])"
   ]
  },
  {
   "cell_type": "code",
   "execution_count": 156,
   "metadata": {},
   "outputs": [
    {
     "name": "stdout",
     "output_type": "stream",
     "text": [
      "3 5 8\n",
      "9\n"
     ]
    }
   ],
   "source": [
    "# 맞았음, 속도 개선\n",
    "n, m, k = map(int, input().split())\n",
    "\n",
    "dp = [[0] * (m + 1) for _ in range(n + 1)]\n",
    "dp[1][1] = 1\n",
    "\n",
    "if k >= 1:\n",
    "    k -= 1\n",
    "    kx = k // m\n",
    "    ky = k % m\n",
    "    \n",
    "    k = 1\n",
    "    \n",
    "for i in range(n):\n",
    "    for j in range(m):\n",
    "        if i == j == 0:\n",
    "            continue\n",
    "        if k and (i > kx and j < ky or i < kx and j > ky):\n",
    "            continue\n",
    "            \n",
    "        dp[i + 1][j + 1] = dp[i][j + 1] + dp[i + 1][j]\n",
    "        \n",
    "print(dp[-1][-1])"
   ]
  },
  {
   "cell_type": "markdown",
   "metadata": {},
   "source": [
    "### 카드 게임 10835"
   ]
  },
  {
   "cell_type": "code",
   "execution_count": 159,
   "metadata": {},
   "outputs": [
    {
     "name": "stdout",
     "output_type": "stream",
     "text": [
      "3\n",
      "3 2 5\n",
      "2 4 1\n"
     ]
    }
   ],
   "source": [
    "n = int(input())\n",
    "a = list(map(int, input().split()))\n",
    "b = list(map(int, input().split()))\n",
    "\n",
    "dp = [[0, 0] for _ in range(n)]\n",
    "for i in range(1, n):\n",
    "    for j in range(2):\n",
    "        if li[i] > li[]\n",
    "        dp[i][j] = max(dp[i - 1][j], dp[i - 1][j - 1])"
   ]
  },
  {
   "cell_type": "markdown",
   "metadata": {},
   "source": [
    "### 이항 계수 2 11051"
   ]
  },
  {
   "cell_type": "code",
   "execution_count": 165,
   "metadata": {},
   "outputs": [
    {
     "name": "stdout",
     "output_type": "stream",
     "text": [
      "5 2\n",
      "10\n"
     ]
    }
   ],
   "source": [
    "def nCr(n, r):\n",
    "    if n - r < r:\n",
    "        r = n - r\n",
    "    \n",
    "    cur_n = n\n",
    "    cur_r = 2\n",
    "    \n",
    "    value = 1\n",
    "    while cur_n > n - r and cur_r <= r:\n",
    "        value *= cur_n\n",
    "        cur_n -= 1\n",
    "        \n",
    "        while cur_r <= r:\n",
    "            if value % cur_r == 0:\n",
    "                value //= cur_r\n",
    "                cur_r += 1\n",
    "            else:\n",
    "                break\n",
    "                \n",
    "        value %= 10007\n",
    "    \n",
    "    while cur_n > n - r:\n",
    "        value *= cur_n\n",
    "        value %= 10007\n",
    "        cur_n -= 1\n",
    "    while cur_r <= r:\n",
    "        value //= cur_r\n",
    "        cur_r += 1\n",
    "        \n",
    "    return value\n",
    "\n",
    "n, k = map(int, input().split())\n",
    "\n",
    "print(nCr(n, k))"
   ]
  },
  {
   "cell_type": "code",
   "execution_count": 166,
   "metadata": {},
   "outputs": [
    {
     "name": "stdout",
     "output_type": "stream",
     "text": [
      "5 2\n",
      "10\n"
     ]
    }
   ],
   "source": [
    "def nCr(n, r):\n",
    "    if n - r < r:\n",
    "        r = n - r\n",
    "    \n",
    "    cur_n = n\n",
    "    cur_r = 2\n",
    "    \n",
    "    value = 1\n",
    "    while cur_n > n - r and cur_r <= r:\n",
    "        value *= cur_n\n",
    "        cur_n -= 1\n",
    "        \n",
    "        while cur_r <= r:\n",
    "            if value % cur_r == 0:\n",
    "                value //= cur_r\n",
    "                cur_r += 1\n",
    "            else:\n",
    "                break\n",
    "    \n",
    "    while cur_n > n - r:\n",
    "        value *= cur_n\n",
    "        cur_n -= 1\n",
    "    while cur_r <= r:\n",
    "        value //= cur_r\n",
    "        cur_r += 1\n",
    "        \n",
    "    return value % 10007\n",
    "\n",
    "n, k = map(int, input().split())\n",
    "\n",
    "print(nCr(n, k))"
   ]
  },
  {
   "cell_type": "markdown",
   "metadata": {},
   "source": [
    "### 통나무 건너뛰기 11497"
   ]
  },
  {
   "cell_type": "code",
   "execution_count": 171,
   "metadata": {},
   "outputs": [
    {
     "name": "stdout",
     "output_type": "stream",
     "text": [
      "3\n",
      "7\n",
      "13 10 12 11 10 11 12\n",
      "1\n",
      "5\n",
      "2 4 5 7 9\n",
      "4\n",
      "8\n",
      "6 6 6 6 6 6 6 6\n",
      "0\n"
     ]
    }
   ],
   "source": [
    "# 틀렸음, 그리디 방식 시도\n",
    "from collections import deque\n",
    "import sys\n",
    "# input = lambda: sys.stdin.readline().rstrip()\n",
    "\n",
    "for _ in range(int(input())):\n",
    "    n = int(input())\n",
    "    li = sorted(map(int, input().split()))\n",
    "    \n",
    "    result = deque()\n",
    "    while li:\n",
    "        result.append(li.pop())\n",
    "        if not li:\n",
    "            break\n",
    "        result.appendleft(li.pop())\n",
    "\n",
    "    d = abs(result[0] - result[-1]) # difficulty\n",
    "    for i in range(1, n - 1):\n",
    "        d = max(d, abs(result[i] - result[i + 1]))\n",
    "\n",
    "    print(d)"
   ]
  }
 ],
 "metadata": {
  "kernelspec": {
   "display_name": "Python 3",
   "language": "python",
   "name": "python3"
  },
  "language_info": {
   "codemirror_mode": {
    "name": "ipython",
    "version": 3
   },
   "file_extension": ".py",
   "mimetype": "text/x-python",
   "name": "python",
   "nbconvert_exporter": "python",
   "pygments_lexer": "ipython3",
   "version": "3.7.3"
  }
 },
 "nbformat": 4,
 "nbformat_minor": 4
}
