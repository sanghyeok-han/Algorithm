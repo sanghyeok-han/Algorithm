{
 "cells": [
  {
   "cell_type": "markdown",
   "metadata": {},
   "source": [
    "### 역습 3976\n",
    "- 다이나믹 프로그래밍, 그리디"
   ]
  },
  {
   "cell_type": "code",
   "execution_count": 49,
   "metadata": {},
   "outputs": [
    {
     "name": "stdout",
     "output_type": "stream",
     "text": [
      "5 3 5 7 999\n",
      "9 13 8 4\n",
      "60 5 17 13\n",
      "22 6 15 11\n",
      "5 5 18 29\n"
     ]
    }
   ],
   "source": [
    "n, l1, l2, s1, s2 = map(int, input().split())\n",
    "s1_p = list(map(int, input().split()))\n",
    "s1_d = list(map(int, input().split()))\n",
    "s2_p = list(map(int, input().split()))\n",
    "s2_d = list(map(int, input().split()))"
   ]
  },
  {
   "cell_type": "code",
   "execution_count": 52,
   "metadata": {},
   "outputs": [
    {
     "name": "stdout",
     "output_type": "stream",
     "text": [
      "42\n"
     ]
    }
   ],
   "source": [
    "# 맞았음\n",
    "## dp를 이중리스트로 하지 않고 dp[0], dp[1]로만 하였을 때 dp[0]를 갱신시켜준 다음\n",
    "## dp[1]을 갱신시켜줄 때 이전 dp[0]가 아닌 갱신된 dp[0]를 사용하게 되는 문제를 파악하지 못하여 시간이 더 걸렸음\n",
    "T = int(input())\n",
    "\n",
    "for _ in range(T):\n",
    "    n, l1, l2, s1, s2 = map(int, input().split())\n",
    "    s1_p = list(map(int, input().split()))\n",
    "    s1_d = list(map(int, input().split()))\n",
    "    s2_p = list(map(int, input().split()))\n",
    "    s2_d = list(map(int, input().split()))\n",
    "\n",
    "    dp = [(l1, l2)]\n",
    "    for i in range(n - 1):\n",
    "        a = min(dp[-1][0] + s1_d[i], dp[-1][1] + s2_p[i])\n",
    "        b = min(dp[-1][1] + s2_d[i], dp[-1][0] + s1_p[i])\n",
    "        dp.append((a, b))\n",
    "\n",
    "    a = dp[-1][0] + s1\n",
    "    b = dp[-1][1] + s2\n",
    "    dp.append((a, b))\n",
    "    \n",
    "    print(min(dp[-1]))"
   ]
  },
  {
   "cell_type": "markdown",
   "metadata": {},
   "source": [
    "### 그래픽스 퀴즈 2876\n",
    "- 다이나믹 프로그래밍"
   ]
  },
  {
   "cell_type": "code",
   "execution_count": 59,
   "metadata": {},
   "outputs": [
    {
     "name": "stdout",
     "output_type": "stream",
     "text": [
      "3\n",
      "1 5\n",
      "5 3\n",
      "5 5\n"
     ]
    }
   ],
   "source": [
    "n = int(input())\n",
    "dp = [[0] * 6 for _ in range(n)]\n",
    "for i in range(n):\n",
    "    a, b = map(int, input().split())\n",
    "    \n",
    "    if i == 0:\n",
    "        for v in set((a, b)):\n",
    "            dp[i][v] = 1\n",
    "    else:\n",
    "        for v in set((a, b)):\n",
    "            dp[i][v] = dp[i - 1][v] + 1"
   ]
  },
  {
   "cell_type": "code",
   "execution_count": 69,
   "metadata": {},
   "outputs": [
    {
     "data": {
      "text/plain": [
       "[[0, 1, 0, 0, 0, 1], [0, 0, 0, 1, 0, 2], [0, 0, 0, 0, 0, 3]]"
      ]
     },
     "execution_count": 69,
     "metadata": {},
     "output_type": "execute_result"
    }
   ],
   "source": [
    "dp"
   ]
  },
  {
   "cell_type": "code",
   "execution_count": 75,
   "metadata": {},
   "outputs": [],
   "source": [
    "result_li = [(i, max(v)) for i, v in enumerate(zip(*dp))]\n",
    "result = sorted(result_li, key=lambda x: x[1], reverse=True)[0]"
   ]
  },
  {
   "cell_type": "code",
   "execution_count": 76,
   "metadata": {},
   "outputs": [
    {
     "name": "stdout",
     "output_type": "stream",
     "text": [
      "3 5\n"
     ]
    }
   ],
   "source": [
    "print(result[1], result[0])"
   ]
  },
  {
   "cell_type": "code",
   "execution_count": 82,
   "metadata": {},
   "outputs": [
    {
     "name": "stdout",
     "output_type": "stream",
     "text": [
      "3\n",
      "1 3\n",
      "2 3\n",
      "3 1\n",
      "3 3\n"
     ]
    }
   ],
   "source": [
    "# 맞았음\n",
    "import sys\n",
    "# input = sys.stdin.readline\n",
    "\n",
    "n = int(input())\n",
    "dp = [[0] * 6 for _ in range(n)]\n",
    "for i in range(n):\n",
    "    a, b = map(int, input().split())\n",
    "    \n",
    "    if i == 0:\n",
    "        for v in set((a, b)):\n",
    "            dp[i][v] = 1\n",
    "    else:\n",
    "        for v in set((a, b)):\n",
    "            dp[i][v] = dp[i - 1][v] + 1\n",
    "            \n",
    "result_li = [(i, max(v)) for i, v in enumerate(zip(*dp))]\n",
    "result = sorted(result_li, key=lambda x: x[1], reverse=True)[0]\n",
    "print(result[1], result[0])"
   ]
  },
  {
   "cell_type": "markdown",
   "metadata": {},
   "source": [
    "### 이친수 2193\n",
    "- 다이나믹 프로그래밍"
   ]
  },
  {
   "cell_type": "code",
   "execution_count": 96,
   "metadata": {},
   "outputs": [
    {
     "name": "stdout",
     "output_type": "stream",
     "text": [
      "90\n",
      "2880067194370816120\n"
     ]
    }
   ],
   "source": [
    "n = int(input())\n",
    "\n",
    "dp = [0, 1, 1]\n",
    "for i in range(3, n + 1):\n",
    "    dp.append(sum(dp[:i - 1]) + 1)\n",
    "\n",
    "print(dp[n])"
   ]
  },
  {
   "cell_type": "code",
   "execution_count": 91,
   "metadata": {},
   "outputs": [
    {
     "data": {
      "text/plain": [
       "[0, 1, 1, 3, 6, 6]"
      ]
     },
     "execution_count": 91,
     "metadata": {},
     "output_type": "execute_result"
    }
   ],
   "source": [
    "dp"
   ]
  },
  {
   "cell_type": "code",
   "execution_count": 89,
   "metadata": {},
   "outputs": [
    {
     "data": {
      "text/plain": [
       "2"
      ]
     },
     "execution_count": 89,
     "metadata": {},
     "output_type": "execute_result"
    }
   ],
   "source": [
    "sum(dp[:3 - 1]) + 1"
   ]
  },
  {
   "cell_type": "markdown",
   "metadata": {},
   "source": [
    "### 피자 14606 (Small)\n",
    "- 수학, 다이나믹 프로그래밍"
   ]
  },
  {
   "cell_type": "code",
   "execution_count": 102,
   "metadata": {},
   "outputs": [
    {
     "name": "stdout",
     "output_type": "stream",
     "text": [
      "5\n",
      "10\n"
     ]
    }
   ],
   "source": [
    "n = int(input())\n",
    "\n",
    "dp = [0, 0]\n",
    "for i in range(2, n + 1):\n",
    "    if i % 2 == 0:\n",
    "        value = (i // 2) ** 2 + dp[i // 2]  * 2\n",
    "    else:\n",
    "        value = (i // 2) * (i // 2 + 1) + dp[i // 2] + dp[i // 2 + 1]\n",
    "    dp.append(value)\n",
    "    \n",
    "print(dp[n])"
   ]
  },
  {
   "cell_type": "markdown",
   "metadata": {},
   "source": [
    "### 피자 (Large) 14607\n",
    "- 수학"
   ]
  },
  {
   "cell_type": "code",
   "execution_count": 115,
   "metadata": {},
   "outputs": [
    {
     "name": "stdout",
     "output_type": "stream",
     "text": [
      "8\n",
      "28\n"
     ]
    }
   ],
   "source": [
    "n = int(input())\n",
    "print((n - 1) * n // 2)"
   ]
  },
  {
   "cell_type": "markdown",
   "metadata": {},
   "source": [
    "### 돌 게임 2 9656\n",
    "- 다이나믹 프로그래밍, 게임 이론"
   ]
  },
  {
   "cell_type": "code",
   "execution_count": 117,
   "metadata": {},
   "outputs": [
    {
     "name": "stdout",
     "output_type": "stream",
     "text": [
      "1\n",
      "CY\n"
     ]
    }
   ],
   "source": [
    "n = int(input())\n",
    "\n",
    "if n % 2 == 1:\n",
    "    print(\"CY\")\n",
    "else:\n",
    "    print(\"SK\")"
   ]
  },
  {
   "cell_type": "markdown",
   "metadata": {},
   "source": [
    "### 피보나치 비스무리한 수열 14495"
   ]
  },
  {
   "cell_type": "code",
   "execution_count": 3,
   "metadata": {},
   "outputs": [
    {
     "name": "stdout",
     "output_type": "stream",
     "text": [
      "10\n",
      "19\n"
     ]
    }
   ],
   "source": [
    "dp = [0, 1, 1, 1]\n",
    "\n",
    "n = int(input())\n",
    "\n",
    "for _ in range(4, n + 1):\n",
    "    dp.append(dp[-1] + dp[-3])\n",
    "    \n",
    "print(dp[n])"
   ]
  },
  {
   "cell_type": "markdown",
   "metadata": {},
   "source": [
    "### 돌 게임 3 9657"
   ]
  },
  {
   "cell_type": "code",
   "execution_count": 12,
   "metadata": {},
   "outputs": [
    {
     "name": "stdout",
     "output_type": "stream",
     "text": [
      "5\n"
     ]
    },
    {
     "data": {
      "text/plain": [
       "[inf, 1, 2, 1, 1]"
      ]
     },
     "execution_count": 12,
     "metadata": {},
     "output_type": "execute_result"
    }
   ],
   "source": [
    "# 최단 도착을 상대가 그냥 두고 보지는 않으므로 접근을 바꿔야함\n",
    "n = int(input())\n",
    "\n",
    "dp = [float('inf')] * 1001\n",
    "dp[1] = dp[3] = dp[4] = 1\n",
    "\n",
    "for i in range(1, len(dp)):\n",
    "    if i + 1 < len(dp) and dp[i + 1] > dp[i] + 1:\n",
    "        dp[i + 1] = dp[i] + 1\n",
    "    if i + 3 < len(dp) and dp[i + 3] > dp[i] + 1:\n",
    "        dp[i + 3] = dp[i] + 1\n",
    "    if i + 4 < len(dp) and dp[i + 4] > dp[i] + 1:\n",
    "        dp[i + 4] = dp[i] + 1\n",
    "\n",
    "if dp[n] % 2 == 0:\n",
    "    print(\"CY\")\n",
    "else:\n",
    "    print(\"SK\")\n",
    "        \n",
    "dp[:5]"
   ]
  },
  {
   "cell_type": "code",
   "execution_count": 12,
   "metadata": {},
   "outputs": [
    {
     "name": "stdout",
     "output_type": "stream",
     "text": [
      "9\n",
      "CY\n"
     ]
    }
   ],
   "source": [
    "n = int(input())\n",
    "\n",
    "li = [1, 2, 1, 1, 1, 1, 2]\n",
    "\n",
    "if li[(n - 1) % 7] == 1:\n",
    "    print(\"SK\")\n",
    "else:\n",
    "    print(\"CY\")"
   ]
  },
  {
   "cell_type": "markdown",
   "metadata": {},
   "source": [
    "### 돌 게임 4 9658\n",
    "- 다이나믹 프로그래밍, 게임 이론"
   ]
  },
  {
   "cell_type": "code",
   "execution_count": 19,
   "metadata": {},
   "outputs": [
    {
     "name": "stdout",
     "output_type": "stream",
     "text": [
      "8\n",
      "CY\n"
     ]
    }
   ],
   "source": [
    "n = int(input())\n",
    "\n",
    "li = [2, 1, 2, 1, 1, 1, 1]\n",
    "\n",
    "if li[(n - 1) % 7] == 1:\n",
    "    print(\"SK\")\n",
    "else:\n",
    "    print(\"CY\")"
   ]
  },
  {
   "cell_type": "markdown",
   "metadata": {},
   "source": [
    "### 달나라 토끼를 위한 구매대금 지불 도우미 17212"
   ]
  },
  {
   "cell_type": "code",
   "execution_count": 20,
   "metadata": {},
   "outputs": [
    {
     "name": "stdout",
     "output_type": "stream",
     "text": [
      "10\n",
      "3\n"
     ]
    }
   ],
   "source": [
    "# 반례: 10인 경우 7, 2, 1 아닌 5, 5가 정답\n",
    "\n",
    "def counter(n):\n",
    "    count = n // 7\n",
    "    if n % 7 == 0:\n",
    "        return count\n",
    "    n %= 7\n",
    "    \n",
    "    count += n // 5\n",
    "    if n % 5 == 0:\n",
    "        return count\n",
    "    n %= 5\n",
    "    \n",
    "    count += n // 2\n",
    "    if n % 2 == 0:\n",
    "        return count\n",
    "    n %= 2\n",
    "    \n",
    "    count += n // 1\n",
    "    return count\n",
    "    \n",
    "n = int(input())\n",
    "print(counter(n))"
   ]
  },
  {
   "cell_type": "code",
   "execution_count": 60,
   "metadata": {},
   "outputs": [
    {
     "name": "stdout",
     "output_type": "stream",
     "text": [
      "100000\n",
      "14286\n"
     ]
    }
   ],
   "source": [
    "n = int(input())\n",
    "\n",
    "count = 0\n",
    "if n > 50:\n",
    "    count += (n - 50) // 7\n",
    "    n = 50 + (n - 50) % 7\n",
    "    \n",
    "all_set = {n}\n",
    "\n",
    "while True:\n",
    "    if 0 in all_set:\n",
    "        break\n",
    "    \n",
    "    set_7 = {v - 7 for v in all_set}\n",
    "    set_5 = {v - 5 for v in all_set}\n",
    "    set_2 = {v - 2 for v in all_set}\n",
    "    set_1 = {v - 1 for v in all_set}\n",
    "    all_set = set_1 | set_2 | set_5 | set_7\n",
    "    count += 1\n",
    "    \n",
    "print(count)"
   ]
  },
  {
   "cell_type": "code",
   "execution_count": 61,
   "metadata": {},
   "outputs": [
    {
     "name": "stdout",
     "output_type": "stream",
     "text": [
      "100000\n",
      "14286\n"
     ]
    }
   ],
   "source": [
    "n = int(input())\n",
    "\n",
    "count = 0\n",
    "if n > 50:\n",
    "    count += (n - 50) // 7\n",
    "    n = 50 + (n - 50) % 7\n",
    "\n",
    "dp = [0] * (n + 1)\n",
    "dp[:8] = (0, 1, 1, 2, 2, 1, 2, 1)\n",
    "\n",
    "for i in range(8, n + 1):\n",
    "    dp[i] = min(dp[i - 7], dp[i - 5], dp[i - 2], dp[i - 1]) + 1\n",
    "\n",
    "print(count + dp[n])"
   ]
  },
  {
   "cell_type": "code",
   "execution_count": 51,
   "metadata": {},
   "outputs": [
    {
     "data": {
      "text/plain": [
       "{3, 4, 5}"
      ]
     },
     "execution_count": 51,
     "metadata": {},
     "output_type": "execute_result"
    }
   ],
   "source": [
    "### 다른 사람 코드(manatom)\n",
    "\n",
    "s =int(input())\n",
    "p = [0,1,1,2,2,1,2,1]\n",
    "for i in range(s-7):\n",
    "    p.append(0)\n",
    "for i in range(8,s+1):\n",
    "    p[i] = min(p[i-1],p[i-2],p[i-5],p[i-7])+1\n",
    "\n",
    "print(p[s])"
   ]
  },
  {
   "cell_type": "markdown",
   "metadata": {},
   "source": [
    "### 1, 2, 3 더하기 5 15990"
   ]
  },
  {
   "cell_type": "code",
   "execution_count": 32,
   "metadata": {},
   "outputs": [
    {
     "name": "stdout",
     "output_type": "stream",
     "text": [
      "2\n",
      "3\n",
      "3\n",
      "7\n",
      "9\n"
     ]
    }
   ],
   "source": [
    "# 맞았음\n",
    "s1 = [0, 1, 0, 1]\n",
    "s2 = [0, 0, 1, 1]\n",
    "s3 = [0, 0, 0, 1]\n",
    "\n",
    "for i in range(4, 100001):\n",
    "    s1.append((s2[i - 1] + s3[i - 1]) % 1000000009)\n",
    "    s2.append((s1[i - 2] + s3[i - 2]) % 1000000009)\n",
    "    s3.append((s1[i - 3] + s2[i - 3]) % 1000000009)\n",
    "    \n",
    "T = int(input())\n",
    "for _ in range(T):\n",
    "    n = int(input())\n",
    "    print((s1[n] + s2[n] + s3[n]) % 1000000009)"
   ]
  },
  {
   "cell_type": "markdown",
   "metadata": {},
   "source": [
    "### 피보나치는 지겨웡~ 17175"
   ]
  },
  {
   "cell_type": "code",
   "execution_count": 46,
   "metadata": {},
   "outputs": [
    {
     "name": "stdout",
     "output_type": "stream",
     "text": [
      "1\n",
      "1\n"
     ]
    }
   ],
   "source": [
    "n = int(input())\n",
    "\n",
    "dp = [0] * 51\n",
    "dp[0] = dp[1] = 1\n",
    "\n",
    "for i in range(2, n + 1):\n",
    "    dp[i] = (dp[i - 2] + dp[i - 1] + 1) % 1000000007\n",
    "    \n",
    "print(dp[n])"
   ]
  },
  {
   "cell_type": "markdown",
   "metadata": {},
   "source": [
    "### 1, 2, 3 더하기 6 15991"
   ]
  },
  {
   "cell_type": "code",
   "execution_count": 27,
   "metadata": {},
   "outputs": [
    {
     "name": "stdout",
     "output_type": "stream",
     "text": [
      "3\n",
      "4\n",
      "3\n",
      "7\n",
      "6\n",
      "100000\n",
      "483652833\n"
     ]
    }
   ],
   "source": [
    "dp = [0] * 100001\n",
    "dp[:4] = [0, 1, 2, 2]\n",
    "mod = 1000000009\n",
    "\n",
    "for i in range(4, len(dp)):\n",
    "    if i - 4 <= 0:\n",
    "        dp[i] = dp[i - 2]\n",
    "    elif i - 6 <= 0:\n",
    "        dp[i] = (dp[i - 2] + dp[i - 4]) % mod\n",
    "    else:\n",
    "        dp[i] = (dp[i - 2] + dp[i - 4] + dp[i - 6]) % mod\n",
    "        \n",
    "    if i == 4 or i == 6:\n",
    "        dp[i] += 1\n",
    "\n",
    "T = int(input())\n",
    "for _ in range(T):       \n",
    "    n = int(input())\n",
    "    print(dp[n])"
   ]
  },
  {
   "cell_type": "markdown",
   "metadata": {},
   "source": [
    "### 제곱수의 합 1699"
   ]
  },
  {
   "cell_type": "code",
   "execution_count": 33,
   "metadata": {},
   "outputs": [
    {
     "name": "stdout",
     "output_type": "stream",
     "text": [
      "5237\n",
      "3\n"
     ]
    }
   ],
   "source": [
    "# 반례: 18\n",
    "import math\n",
    "\n",
    "n = int(input())\n",
    "count = 0\n",
    "while n >= 1:\n",
    "    n -= int(math.sqrt(n)) ** 2\n",
    "    count += 1\n",
    "    \n",
    "print(count)"
   ]
  },
  {
   "cell_type": "code",
   "execution_count": 31,
   "metadata": {},
   "outputs": [
    {
     "data": {
      "text/plain": [
       "5237"
      ]
     },
     "execution_count": 31,
     "metadata": {},
     "output_type": "execute_result"
    }
   ],
   "source": [
    "18 ** 2 + 17 ** 3"
   ]
  },
  {
   "cell_type": "code",
   "execution_count": 23,
   "metadata": {},
   "outputs": [
    {
     "data": {
      "text/plain": [
       "316.22776601683796"
      ]
     },
     "execution_count": 23,
     "metadata": {},
     "output_type": "execute_result"
    }
   ],
   "source": [
    "math.sqrt(100000)"
   ]
  },
  {
   "cell_type": "code",
   "execution_count": null,
   "metadata": {},
   "outputs": [],
   "source": [
    "n = 18\n",
    "\n",
    "count = 0"
   ]
  },
  {
   "cell_type": "markdown",
   "metadata": {},
   "source": [
    "### LCS 3 1958"
   ]
  },
  {
   "cell_type": "code",
   "execution_count": 2,
   "metadata": {},
   "outputs": [
    {
     "name": "stdout",
     "output_type": "stream",
     "text": [
      "abcdefghijklmn\n",
      "bdefg\n",
      "efg\n",
      "3\n"
     ]
    }
   ],
   "source": [
    "a = input()\n",
    "b = input()\n",
    "c = input()\n",
    "\n",
    "dp = [[[0] * (len(c) + 1) for _ in range(len(b) + 1)] for _ in range(len(a) + 1)]\n",
    "for i in range(1, len(a) + 1):\n",
    "    for j in range(1, len(b) + 1):\n",
    "        for k in range(1, len(c) + 1):\n",
    "            if a[i - 1] == b[j - 1] == c[k - 1]:\n",
    "                dp[i][j][k] = max((dp[i - 1][j][k], dp[i][j - 1][k], dp[i][j][k - 1], dp[i - 1][j - 1][k - 1] + 1))\n",
    "            else:\n",
    "                dp[i][j][k] = max((dp[i - 1][j][k], dp[i][j - 1][k], dp[i][j][k - 1]))\n",
    "\n",
    "print(dp[-1][-1][-1])"
   ]
  },
  {
   "cell_type": "markdown",
   "metadata": {},
   "source": [
    "### LCS 2 9252 (실패 후 재도전)"
   ]
  },
  {
   "cell_type": "code",
   "execution_count": 3,
   "metadata": {},
   "outputs": [
    {
     "name": "stdout",
     "output_type": "stream",
     "text": [
      "ACAYKP\n",
      "CAPCAK\n",
      "4\n"
     ]
    }
   ],
   "source": [
    "a = input()\n",
    "b = input()\n",
    "\n",
    "dp = [[0] * (len(b) + 1) for _ in range(len(a) + 1)]\n",
    "for i in range(1, len(a) + 1):\n",
    "    for j in range(1, len(b) + 1):\n",
    "        if a[i - 1] == b[j - 1]:\n",
    "            dp[i][j] = max((dp[i - 1][j], dp[i][j - 1], dp[i - 1][j - 1] + 1))\n",
    "        else:\n",
    "            dp[i][j] = max((dp[i - 1][j], dp[i][j - 1]))\n",
    "\n",
    "print(dp[-1][-1])"
   ]
  },
  {
   "cell_type": "code",
   "execution_count": 18,
   "metadata": {},
   "outputs": [
    {
     "name": "stdout",
     "output_type": "stream",
     "text": [
      "ABAB\n",
      "DDD\n",
      "0\n",
      "\n"
     ]
    }
   ],
   "source": [
    "a = input()\n",
    "b = input()\n",
    "\n",
    "dp = [[0] * (len(b) + 1) for _ in range(len(a) + 1)]\n",
    "for i in range(1, len(a) + 1):\n",
    "    for j in range(1, len(b) + 1):\n",
    "        if a[i - 1] == b[j - 1]:\n",
    "            dp[i][j] = max((dp[i - 1][j], dp[i][j - 1], dp[i - 1][j - 1] + 1))\n",
    "        else:\n",
    "            dp[i][j] = max((dp[i - 1][j], dp[i][j - 1]))\n",
    "\n",
    "i, j = len(a), len(b)\n",
    "reversed_answer = \"\"\n",
    "while dp[i][j] != 0:\n",
    "    if dp[i][j - 1] == dp[i][j]:\n",
    "        j -= 1\n",
    "    elif dp[i - 1][j] == dp[i][j]:\n",
    "        i -= 1\n",
    "    else:\n",
    "        reversed_answer += a[i - 1]\n",
    "        i -= 1\n",
    "        j -= 1\n",
    "        \n",
    "print(dp[-1][-1])\n",
    "if dp[-1][-1] > 0:\n",
    "    print(reversed_answer[::-1])"
   ]
  },
  {
   "cell_type": "markdown",
   "metadata": {},
   "source": [
    "### 가장 긴 증가하는 부분 수열 4 14002"
   ]
  },
  {
   "cell_type": "code",
   "execution_count": 14,
   "metadata": {},
   "outputs": [
    {
     "name": "stdout",
     "output_type": "stream",
     "text": [
      "1\n",
      "20\n",
      "1\n",
      "20\n"
     ]
    }
   ],
   "source": [
    "n = int(input())\n",
    "li = list(map(int, input().split()))\n",
    "dp = []\n",
    "\n",
    "for v in li:\n",
    "    possible_former_values_count = [count for value, count in dp if value < v]\n",
    "    if possible_former_values_count:\n",
    "        dp.append((v, max(possible_former_values_count) + 1))\n",
    "    else:\n",
    "        dp.append((v, 1))\n",
    "\n",
    "sorted_dp = sorted(dp, key=lambda x: x[1], reverse=True)\n",
    "print(sorted_dp[0][1])\n",
    "\n",
    "dp.reverse()\n",
    "current_weight = sorted_dp[0][1]\n",
    "result = []\n",
    "for v, w in dp:\n",
    "    if w == current_weight:\n",
    "        result.append(v)\n",
    "        current_weight -= 1\n",
    "        \n",
    "        if current_weight == 0:\n",
    "            break\n",
    "            \n",
    "result.reverse()\n",
    "print(\" \".join(map(str, result)))"
   ]
  },
  {
   "cell_type": "markdown",
   "metadata": {},
   "source": [
    "### 가장 큰 증가 부분 수열 11055"
   ]
  },
  {
   "cell_type": "code",
   "execution_count": 15,
   "metadata": {},
   "outputs": [
    {
     "name": "stdout",
     "output_type": "stream",
     "text": [
      "10\n",
      "1 100 2 50 60 3 5 6 7 8\n",
      "113\n"
     ]
    }
   ],
   "source": [
    "n = int(input())\n",
    "li = list(map(int, input().split()))\n",
    "dp = []\n",
    "\n",
    "for v in li:\n",
    "    possible_former_values_sum = [sum_value for value, sum_value in dp if value < v]\n",
    "    if possible_former_values_sum:\n",
    "        dp.append((v, max(possible_former_values_sum) + v))\n",
    "    else:\n",
    "        dp.append((v, v))\n",
    "\n",
    "sorted_dp = sorted(dp, key=lambda x: x[1], reverse=True)\n",
    "print(sorted_dp[0][1])"
   ]
  },
  {
   "cell_type": "markdown",
   "metadata": {},
   "source": [
    "### 가장 큰 감소 부분 수열 17216"
   ]
  },
  {
   "cell_type": "code",
   "execution_count": 19,
   "metadata": {},
   "outputs": [
    {
     "name": "stdout",
     "output_type": "stream",
     "text": [
      "1\n",
      "2\n",
      "2\n"
     ]
    }
   ],
   "source": [
    "n = int(input())\n",
    "li = list(map(int, input().split()))\n",
    "dp = []\n",
    "\n",
    "for v in li:\n",
    "    possible_former_values_sum = [sum_value for value, sum_value in dp if value > v]\n",
    "    if possible_former_values_sum:\n",
    "        dp.append((v, max(possible_former_values_sum) + v))\n",
    "    else:\n",
    "        dp.append((v, v))\n",
    "\n",
    "sorted_dp = sorted(dp, key=lambda x: x[1], reverse=True)\n",
    "print(sorted_dp[0][1])"
   ]
  },
  {
   "cell_type": "markdown",
   "metadata": {},
   "source": [
    "### 줄세우기 2631"
   ]
  },
  {
   "cell_type": "code",
   "execution_count": 74,
   "metadata": {},
   "outputs": [
    {
     "name": "stdout",
     "output_type": "stream",
     "text": [
      "7\n",
      "3\n",
      "7\n",
      "5\n",
      "2\n",
      "6\n",
      "1\n",
      "4\n",
      "[(1, 4, 6), (2, 0, 3), (2, 2, 5), (2, 3, 2), (3, 6, 4), (5, 1, 7), (5, 5, 1)]\n",
      "[(0, 0, 1), (0, 5, 6), (1, 1, 3), (1, 3, 5), (3, 4, 2), (3, 6, 4), (4, 2, 7)]\n",
      "[(0, 0, 1), (0, 6, 7), (1, 1, 3), (1, 4, 6), (2, 2, 5), (2, 3, 2), (2, 5, 4)]\n",
      "[(0, 0, 1), (0, 3, 4), (0, 5, 6), (0, 6, 7), (1, 1, 3), (2, 2, 5), (3, 4, 2)]\n",
      "[(0, 0, 1), (0, 1, 2), (0, 2, 3), (0, 5, 6), (0, 6, 7), (1, 3, 5), (1, 4, 4)]\n",
      "[(0, 0, 1), (0, 1, 2), (0, 2, 3), (0, 3, 4), (0, 4, 5), (0, 5, 6), (0, 6, 7)]\n",
      "5\n"
     ]
    }
   ],
   "source": [
    "# 접근이 잘못된 것으로 추정됨\n",
    "n = int(input())\n",
    "li = []\n",
    "for _ in range(n):\n",
    "    li.append(int(input()))\n",
    "\n",
    "count = 0\n",
    "while True:\n",
    "    diff_li = [(abs((i + 1) - v), i, v) for i, v in enumerate(li)]\n",
    "    diff_li.sort()\n",
    "    \n",
    "    print(diff_li)\n",
    "    if diff_li[-1][0] == 0:\n",
    "        break\n",
    "    count += 1\n",
    "\n",
    "    from_index = diff_li[-1][1]\n",
    "    to_index = diff_li[-1][2] - 1\n",
    "\n",
    "    if from_index < to_index:\n",
    "        li.pop(from_index)\n",
    "\n",
    "        if to_index == n - 1:\n",
    "            li.append(to_index + 1)\n",
    "        else:\n",
    "            li.insert(to_index, to_index + 1)\n",
    "    else:\n",
    "        li.pop(from_index)\n",
    "        li.insert(to_index, to_index + 1)\n",
    "        \n",
    "print(count)"
   ]
  },
  {
   "cell_type": "code",
   "execution_count": 3,
   "metadata": {},
   "outputs": [
    {
     "name": "stdout",
     "output_type": "stream",
     "text": [
      "7\n",
      "3\n",
      "7\n",
      "5\n",
      "2\n",
      "6\n",
      "1\n",
      "4\n",
      "4\n"
     ]
    }
   ],
   "source": [
    "# 질문검색 보고 바로 맞췄음\n",
    "n = int(input())\n",
    "li = []\n",
    "for _ in range(n):\n",
    "    li.append(int(input()))\n",
    "    \n",
    "dp = []\n",
    "for v in li:\n",
    "    possible_former_values_count = [count for value, count in dp if value < v]\n",
    "    if possible_former_values_count:\n",
    "        dp.append((v, max(possible_former_values_count) + 1))\n",
    "    else:\n",
    "        dp.append((v, 1))\n",
    "\n",
    "sorted_dp = sorted(dp, key=lambda x: x[1], reverse=True)\n",
    "print(n - sorted_dp[0][1])"
   ]
  },
  {
   "cell_type": "markdown",
   "metadata": {},
   "source": [
    "### 1학년 5557"
   ]
  },
  {
   "cell_type": "code",
   "execution_count": 49,
   "metadata": {},
   "outputs": [],
   "source": [
    "li = [8, 3, 2, 4, 8, 7, 2, 4, 0, 8, 8]\n",
    "right_value = li[-1]\n",
    "del li[-1]"
   ]
  },
  {
   "cell_type": "code",
   "execution_count": 50,
   "metadata": {},
   "outputs": [],
   "source": [
    "num_set = set()\n",
    "dp = [0] * 21"
   ]
  },
  {
   "cell_type": "code",
   "execution_count": 54,
   "metadata": {},
   "outputs": [
    {
     "name": "stdout",
     "output_type": "stream",
     "text": [
      "11\n",
      "8 3 2 4 8 7 2 4 0 8 8\n",
      "10\n"
     ]
    }
   ],
   "source": [
    "n = int(input())\n",
    "li = list(map(int, input().split()))\n",
    "\n",
    "right_value = li[-1]\n",
    "del li[-1]\n",
    "\n",
    "num_set = set()\n",
    "dp = [0] * 21\n",
    "\n",
    "for new_value in li:\n",
    "    if not num_set:\n",
    "        num_set.add(new_value)\n",
    "        dp[new_value] = 1\n",
    "    else:\n",
    "        new_dp = [0] * 21\n",
    "        set1 = {v + new_value for v in num_set if 0 <= v + new_value <= 20}\n",
    "        for v in set1:\n",
    "            new_dp[v] += dp[v - new_value]\n",
    "        \n",
    "        set2 = {v - new_value for v in num_set if 0 <= v - new_value <= 20}\n",
    "        for v in set2:\n",
    "            new_dp[v] += dp[v + new_value]\n",
    "\n",
    "        dp = new_dp[:]\n",
    "        num_set = set1 | set2\n",
    "        \n",
    "print(dp[right_value])"
   ]
  },
  {
   "cell_type": "markdown",
   "metadata": {},
   "source": [
    "### 최대 정사각형 4095"
   ]
  },
  {
   "cell_type": "code",
   "execution_count": 60,
   "metadata": {},
   "outputs": [
    {
     "name": "stdout",
     "output_type": "stream",
     "text": [
      "3 3\n",
      "0 0 0\n",
      "0 0 0\n",
      "0 0 0\n",
      "0\n"
     ]
    }
   ],
   "source": [
    "while True:\n",
    "    n, m = map(int, input().split())\n",
    "    if n == 0 and m == 0:\n",
    "        break\n",
    "\n",
    "    li = []\n",
    "    for _ in range(n):\n",
    "        li.append(list(map(int, list(input().split()))))\n",
    "\n",
    "    for i in range(1, n):\n",
    "        for j in range(1, m):\n",
    "            if li[i][j] == 1:\n",
    "                min_value = min((li[i - 1][j - 1]), li[i - 1][j], li[i][j - 1])\n",
    "                if min_value >= 1:\n",
    "                    li[i][j] = min_value + 1\n",
    "\n",
    "    print(max((max(v) for v in li)))"
   ]
  },
  {
   "cell_type": "markdown",
   "metadata": {},
   "source": [
    "### 줄어들지 않아 2688"
   ]
  },
  {
   "cell_type": "code",
   "execution_count": 70,
   "metadata": {},
   "outputs": [
    {
     "data": {
      "text/plain": [
       "55"
      ]
     },
     "execution_count": 70,
     "metadata": {},
     "output_type": "execute_result"
    }
   ],
   "source": [
    "n = 10\n",
    "(n * (n + 1)) // 2 "
   ]
  },
  {
   "cell_type": "code",
   "execution_count": null,
   "metadata": {},
   "outputs": [],
   "source": [
    "total = 0\n",
    "for i in range(11):\n",
    "    total += i"
   ]
  },
  {
   "cell_type": "code",
   "execution_count": 75,
   "metadata": {},
   "outputs": [],
   "source": [
    "total = 0\n",
    "for i in range(11):\n",
    "    i = (i * (i + 1)) // 2\n",
    "    total += i"
   ]
  },
  {
   "cell_type": "code",
   "execution_count": 76,
   "metadata": {},
   "outputs": [
    {
     "data": {
      "text/plain": [
       "220"
      ]
     },
     "execution_count": 76,
     "metadata": {},
     "output_type": "execute_result"
    }
   ],
   "source": [
    "total"
   ]
  },
  {
   "cell_type": "code",
   "execution_count": 102,
   "metadata": {},
   "outputs": [],
   "source": [
    "li = [0] * 11"
   ]
  },
  {
   "cell_type": "code",
   "execution_count": 103,
   "metadata": {},
   "outputs": [],
   "source": [
    "for i in range(11):\n",
    "    li[i] = (i * (i + 1)) // 2 "
   ]
  },
  {
   "cell_type": "code",
   "execution_count": 104,
   "metadata": {},
   "outputs": [
    {
     "data": {
      "text/plain": [
       "[0, 1, 3, 6, 10, 15, 21, 28, 36, 45, 55]"
      ]
     },
     "execution_count": 104,
     "metadata": {},
     "output_type": "execute_result"
    }
   ],
   "source": [
    "li"
   ]
  },
  {
   "cell_type": "code",
   "execution_count": 138,
   "metadata": {},
   "outputs": [
    {
     "name": "stdout",
     "output_type": "stream",
     "text": [
      "3\n",
      "2\n",
      "55\n",
      "3\n",
      "220\n",
      "4\n",
      "715\n"
     ]
    }
   ],
   "source": [
    "dp = [0] * 65\n",
    "dp[:4] = [0, 10, 55, 220]\n",
    "li = [0, 1, 3, 6, 10, 15, 21, 28, 36, 45, 55]\n",
    "\n",
    "new_li = [0] * 11\n",
    "for i in range(4, 65):\n",
    "    for j in range(11):\n",
    "        new_li[j] = sum(li[:j + 1])\n",
    "    li = new_li[:]\n",
    "    dp[i] = sum(new_li)\n",
    "    \n",
    "T = int(input())\n",
    "for _ in range(T):\n",
    "    n = int(input())\n",
    "    print(dp[n])"
   ]
  },
  {
   "cell_type": "markdown",
   "metadata": {},
   "source": [
    "### 벽장문의 이동 2666"
   ]
  },
  {
   "cell_type": "code",
   "execution_count": 5,
   "metadata": {},
   "outputs": [
    {
     "name": "stdout",
     "output_type": "stream",
     "text": [
      "6\n",
      "2 5\n",
      "4\n",
      "2\n",
      "2\n",
      "5\n",
      "4\n",
      "1\n"
     ]
    }
   ],
   "source": [
    "import sys\n",
    "# input = sys.stdin.readline\n",
    "\n",
    "n = int(input())\n",
    "a, b = map(int, input().split())\n",
    "\n",
    "if b < a:\n",
    "    a, b = b, a\n",
    "\n",
    "dp = set()\n",
    "dp.add((a, b, 0))\n",
    "\n",
    "m = int(input())\n",
    "for _ in range(m):\n",
    "    to = int(input())\n",
    "    new_dp = set()\n",
    "    for s, e, d in dp:\n",
    "        if s == to or e == to:\n",
    "            new_dp.add((s, e, d))\n",
    "        if to < s:\n",
    "            new_dp.add((to, e, d + s - to))\n",
    "        elif e < to:\n",
    "            new_dp.add((s, to, d + to - e))\n",
    "        elif s < to < e:\n",
    "            new_dp.add((to, e, d + to - s))\n",
    "            new_dp.add((s, to, d + e - to))\n",
    "    dp = new_dp.copy()\n",
    "    \n",
    "dp = sorted(dp, key=lambda x: x[2])\n",
    "print(dp[0][2])"
   ]
  },
  {
   "cell_type": "code",
   "execution_count": 168,
   "metadata": {},
   "outputs": [
    {
     "data": {
      "text/plain": [
       "[(1, 5, 5), (1, 5, 7), (5, 6, 8), (5, 6, 10)]"
      ]
     },
     "execution_count": 168,
     "metadata": {},
     "output_type": "execute_result"
    }
   ],
   "source": [
    "dp"
   ]
  },
  {
   "cell_type": "markdown",
   "metadata": {},
   "source": [
    "### 공통 부분 문자열 5582"
   ]
  },
  {
   "cell_type": "code",
   "execution_count": 26,
   "metadata": {},
   "outputs": [
    {
     "name": "stdout",
     "output_type": "stream",
     "text": [
      "A\n",
      "B\n",
      "0\n"
     ]
    }
   ],
   "source": [
    "# pypy3는 맞았음, pyhton은 메모리 초과\n",
    "a = input()\n",
    "b = input()\n",
    "\n",
    "dp = [[0] * (len(b) + 1) for _ in range(len(a) + 1)]\n",
    "for i in range(1, len(a) + 1):\n",
    "    for j in range(1, len(b) + 1):\n",
    "        if a[i - 1] == b[j - 1]:\n",
    "            dp[i][j] = dp[i - 1][j - 1] + 1\n",
    "\n",
    "print(max(map(max, dp)))"
   ]
  },
  {
   "cell_type": "code",
   "execution_count": 25,
   "metadata": {},
   "outputs": [
    {
     "name": "stdout",
     "output_type": "stream",
     "text": [
      "A\n",
      "B\n",
      "0\n"
     ]
    }
   ],
   "source": [
    "# pypy3는 맞았음, python은 시간 초과\n",
    "from collections import defaultdict\n",
    "\n",
    "a = input()\n",
    "b = input()\n",
    "\n",
    "d = defaultdict(int)\n",
    "for i in range(1, len(a) + 1):\n",
    "    for j in range(1, len(b) + 1):\n",
    "        if a[i - 1] == b[j - 1]:\n",
    "            d[(i, j)] = d[(i - 1, j - 1)] + 1\n",
    "            del d[(i - 1, j - 1)]\n",
    "\n",
    "if d.values():\n",
    "    print(max(d.values()))\n",
    "else:\n",
    "    print(0)"
   ]
  },
  {
   "cell_type": "markdown",
   "metadata": {},
   "source": [
    "### 두 부분 문자열 11056"
   ]
  },
  {
   "cell_type": "code",
   "execution_count": 4,
   "metadata": {},
   "outputs": [
    {
     "name": "stdout",
     "output_type": "stream",
     "text": [
      "baekjoon\n",
      "hongjun\n",
      "13\n"
     ]
    }
   ],
   "source": [
    "a = input()\n",
    "b = input()\n",
    "\n",
    "dp = [[0] * (len(b) + 1) for _ in range(len(a) + 1)]\n",
    "for i in range(1, len(a) + 1):\n",
    "    for j in range(1, len(b) + 1):\n",
    "        if a[i - 1] == b[j - 1]:\n",
    "            dp[i][j] = max((dp[i - 1][j], dp[i][j - 1], dp[i - 1][j - 1] + 1))\n",
    "        else:\n",
    "            dp[i][j] = max((dp[i - 1][j], dp[i][j - 1]))\n",
    "            \n",
    "print(len(a) + len(b) - dp[-1][-1])"
   ]
  },
  {
   "cell_type": "markdown",
   "metadata": {},
   "source": [
    "### RGB거리 2 17404"
   ]
  },
  {
   "cell_type": "code",
   "execution_count": 13,
   "metadata": {},
   "outputs": [
    {
     "name": "stdout",
     "output_type": "stream",
     "text": [
      "3\n",
      "26 40 83\n",
      "49 60 57\n",
      "13 89 99\n",
      "110\n"
     ]
    }
   ],
   "source": [
    "from collections import deque\n",
    "import copy\n",
    "import sys\n",
    "# input = sys.stdin.readline\n",
    "\n",
    "n = int(input())\n",
    "original_queue = deque([])\n",
    "for _ in range(n):\n",
    "    original_queue.append(list(map(int, input().split())))\n",
    "    \n",
    "first = original_queue.popleft()\n",
    "min_results = []\n",
    "\n",
    "for i in range(3):\n",
    "    queue = copy.deepcopy(original_queue)\n",
    "    \n",
    "    total = [first[i]] * 3\n",
    "    \n",
    "    for j in range(n - 1):\n",
    "        current = queue.popleft()\n",
    "        if j == 0:\n",
    "            current[i] = float('inf')\n",
    "            \n",
    "        for k in range(3):\n",
    "            current[k] += min([v for index, v in enumerate(total) if index != k])\n",
    "            \n",
    "        total = current[:]\n",
    "    \n",
    "    total[i] = float('inf')\n",
    "    min_results.append(min(total))\n",
    "    \n",
    "print(min(min_results))"
   ]
  },
  {
   "cell_type": "code",
   "execution_count": null,
   "metadata": {},
   "outputs": [],
   "source": [
    "dp = [([0, 1] + [0] * 199) for _ in range(201)]\n",
    "dp[0] = [0] + [1] * 200\n",
    "\n",
    "for j in range(2, 201):\n",
    "    for i in range(1, 201):\n",
    "        total = 0\n",
    "        for sub_i in range(0, i + 1):\n",
    "            total += dp[sub_i][j - 1]\n",
    "            total %= 1000000000\n",
    "        dp[i][j] = total\n",
    "        \n",
    "n, k = map(int, input().split())\n",
    "print(dp[n][k])"
   ]
  },
  {
   "cell_type": "markdown",
   "metadata": {},
   "source": [
    "### 앱 7579\n",
    "- 배낭 문제"
   ]
  },
  {
   "cell_type": "code",
   "execution_count": 1,
   "metadata": {},
   "outputs": [
    {
     "name": "stdout",
     "output_type": "stream",
     "text": [
      "5 60\n",
      "30 10 20 35 40\n",
      "3 0 3 5 4\n"
     ]
    }
   ],
   "source": [
    "n, m = map(int, input().split())\n",
    "m_s = list(map(int, input().split()))\n",
    "c_s = list(map(int, input().split()))"
   ]
  },
  {
   "cell_type": "code",
   "execution_count": 4,
   "metadata": {},
   "outputs": [
    {
     "name": "stdout",
     "output_type": "stream",
     "text": [
      "((30, 3), (10, 0), (20, 3), (35, 5), (40, 4))\n"
     ]
    }
   ],
   "source": [
    "li = tuple(zip(m_s, c_s))\n",
    "print(li)"
   ]
  },
  {
   "cell_type": "code",
   "execution_count": 18,
   "metadata": {},
   "outputs": [
    {
     "name": "stdout",
     "output_type": "stream",
     "text": [
      "1 3\n",
      "4\n",
      "4\n",
      "4\n"
     ]
    }
   ],
   "source": [
    "n, m = map(int, input().split())\n",
    "m_s = list(map(int, input().split()))\n",
    "c_s = list(map(int, input().split()))\n",
    "\n",
    "li = tuple(zip(m_s, c_s))\n",
    "total_costs = sum(c_s)\n",
    "dp = [[0] * (total_costs + 1) for _ in range(n + 1)]\n",
    "\n",
    "current_min_possible_cost = float('inf')\n",
    "for i, (memory, cost) in enumerate(li, 1):\n",
    "    for j in range(total_costs + 1):\n",
    "        if cost <= j:\n",
    "            dp[i][j] = max(dp[i - 1][j], dp[i - 1][j - cost] + memory)\n",
    "            if dp[i][j] >= m:\n",
    "                if j < current_min_possible_cost:\n",
    "                    current_min_possible_cost = j\n",
    "        else:\n",
    "            dp[i][j] = dp[i - 1][j]\n",
    "\n",
    "print(current_min_possible_cost)"
   ]
  },
  {
   "cell_type": "markdown",
   "metadata": {},
   "source": [
    "### 벼락치기 14728\n",
    "- 배낭 문제"
   ]
  },
  {
   "cell_type": "code",
   "execution_count": 21,
   "metadata": {},
   "outputs": [
    {
     "name": "stdout",
     "output_type": "stream",
     "text": [
      "3 310\n",
      "50 40\n",
      "100 70\n",
      "200 150\n",
      "220\n"
     ]
    }
   ],
   "source": [
    "import sys\n",
    "# input = sys.stdin.readline\n",
    "\n",
    "n, t = map(int, input().split())\n",
    "\n",
    "dp = [[0] * (t + 1) for _ in range(n + 1)]\n",
    "\n",
    "for i in range(1, n + 1):\n",
    "    time_needed, score = map(int, input().split())\n",
    "    \n",
    "    for j in range(1, t + 1):\n",
    "        if time_needed <= j:\n",
    "            dp[i][j] = max(dp[i - 1][j], dp[i - 1][j - time_needed] + score)\n",
    "        else:\n",
    "            dp[i][j] = dp[i - 1][j]\n",
    "            \n",
    "print(dp[-1][-1])"
   ]
  },
  {
   "cell_type": "markdown",
   "metadata": {},
   "source": [
    "### 수강 과목 17845\n",
    "- 배낭 문제"
   ]
  },
  {
   "cell_type": "code",
   "execution_count": 23,
   "metadata": {},
   "outputs": [
    {
     "name": "stdout",
     "output_type": "stream",
     "text": [
      "80 3\n",
      "650 40\n",
      "700 60\n",
      "60 40\n",
      "710\n"
     ]
    }
   ],
   "source": [
    "import sys\n",
    "# input = sys.stdin.readline\n",
    "\n",
    "n, k = map(int, input().split())\n",
    "\n",
    "dp = [[0] * (n + 1) for _ in range(k + 1)]\n",
    "\n",
    "for i in range(1, k + 1):\n",
    "    importance, time_needed = map(int, input().split())\n",
    "    \n",
    "    for j in range(1, n + 1):\n",
    "        if time_needed <= j:\n",
    "            dp[i][j] = max(dp[i - 1][j], dp[i - 1][j - time_needed] + importance)\n",
    "        else:\n",
    "            dp[i][j] = dp[i - 1][j]\n",
    "            \n",
    "print(dp[-1][-1])"
   ]
  },
  {
   "cell_type": "markdown",
   "metadata": {},
   "source": [
    "### 평범한 배낭 2 12920\n",
    "- 배낭 문제"
   ]
  },
  {
   "cell_type": "code",
   "execution_count": 3,
   "metadata": {},
   "outputs": [
    {
     "name": "stdout",
     "output_type": "stream",
     "text": [
      "2 3\n",
      "2 7 1\n",
      "1 9 3\n",
      "34\n"
     ]
    }
   ],
   "source": [
    "n, m = map(int, input().split())\n",
    "dp = [[0] * (m + 1) for _ in range(n + 1)]\n",
    "\n",
    "for i in range(1, n + 1):\n",
    "    weight, satisfaction, available_num = map(int, input().split())\n",
    "    for j in range(1, m + 1):\n",
    "        if j >= weight:\n",
    "            weight_of_satisfaction = j // weight # 만족의 가중치\n",
    "            weight_of_satisfaction = min(weight_of_satisfaction, available_num)\n",
    "            dp[i][j] = max(dp[i - 1][j], weight_of_satisfaction * satisfaction + dp[i - 1][j - weight])\n",
    "        else:\n",
    "            dp[i][j] = dp[i - 1][j]\n",
    "            \n",
    "print(dp[-1][-1])"
   ]
  },
  {
   "cell_type": "code",
   "execution_count": 30,
   "metadata": {},
   "outputs": [
    {
     "name": "stdout",
     "output_type": "stream",
     "text": [
      "3 9\n",
      "8 5 1\n",
      "1 2 2\n",
      "9 4 1\n",
      "5\n"
     ]
    }
   ],
   "source": [
    "# 틀렸음\n",
    "import sys\n",
    "# input = sys.stdin.readline\n",
    "\n",
    "n, m = map(int, input().split())\n",
    "dp = [[0] * (m + 1) for _ in range(n + 1)]\n",
    "\n",
    "for i in range(1, n + 1):\n",
    "    weight, satisfaction, available_num = map(int, input().split())\n",
    "    count = 0\n",
    "    for j in range(1, m + 1):\n",
    "        if j >= weight:\n",
    "            if count < available_num:\n",
    "                a = dp[i - 1][j]\n",
    "                b = dp[i][j - weight] + satisfaction\n",
    "                if a > b:\n",
    "                    dp[i][j] = a\n",
    "                    count = 0\n",
    "                else:\n",
    "                    dp[i][j] = b\n",
    "                    count += 1 \n",
    "            else:\n",
    "                a = dp[i - 1][j]\n",
    "                b = dp[i - 1][j - weight] + satisfaction * count\n",
    "                \n",
    "                if a > b:\n",
    "                    dp[i][j] = a\n",
    "                    count = 0\n",
    "                else:\n",
    "                    dp[i][j] = b\n",
    "                \n",
    "                \n",
    "        else:\n",
    "            dp[i][j] = dp[i - 1][j]\n",
    "            \n",
    "print(dp[-1][-1])"
   ]
  },
  {
   "cell_type": "code",
   "execution_count": 31,
   "metadata": {},
   "outputs": [
    {
     "name": "stdout",
     "output_type": "stream",
     "text": [
      "3 9\n",
      "8 5 1\n",
      "1 2 2\n",
      "9 4 1\n",
      "5\n"
     ]
    }
   ],
   "source": [
    "import sys\n",
    "# input = sys.stdin.readline\n",
    "\n",
    "n, m = map(int, input().split())\n",
    "dp = [[0] * (m + 1) for _ in range(n + 1)]\n",
    "\n",
    "for i in range(1, n + 1):\n",
    "    weight, satisfaction, available_num = map(int, input().split())\n",
    "    count = 0\n",
    "    for j in range(1, m + 1):\n",
    "        if j >= weight:\n",
    "            if count < available_num:\n",
    "                a = dp[i - 1][j]\n",
    "                b = dp[i][j - weight] + satisfaction\n",
    "                if a > b:\n",
    "                    dp[i][j] = a\n",
    "                    count = 0\n",
    "                else:\n",
    "                    dp[i][j] = b\n",
    "                    count += 1 \n",
    "            else:\n",
    "                a = dp[i - 1][j]\n",
    "                b = dp[i - 1][j - weight] + satisfaction * count\n",
    "                \n",
    "                if a > b:\n",
    "                    dp[i][j] = a\n",
    "                    count = 0\n",
    "                else:\n",
    "                    dp[i][j] = b\n",
    "                \n",
    "                \n",
    "        else:\n",
    "            dp[i][j] = dp[i - 1][j]\n",
    "            \n",
    "print(dp[-1][-1])"
   ]
  },
  {
   "cell_type": "markdown",
   "metadata": {},
   "source": [
    "### 점프 점프 11060"
   ]
  },
  {
   "cell_type": "code",
   "execution_count": 6,
   "metadata": {},
   "outputs": [
    {
     "name": "stdout",
     "output_type": "stream",
     "text": [
      "10\n",
      "1 2 0 1 3 2 1 5 4 2\n",
      "5\n"
     ]
    }
   ],
   "source": [
    "# 맞았음, 너비 우선 탐색으로 풀었음\n",
    "from collections import deque\n",
    "\n",
    "n = int(input())\n",
    "tp = tuple(map(int, input().split()))\n",
    "\n",
    "s = 0\n",
    "target = n - 1\n",
    "\n",
    "visited = [False] * n\n",
    "visited[s] = 0\n",
    "\n",
    "queue = deque()\n",
    "queue.append((s, 0))\n",
    "\n",
    "result = -1\n",
    "while queue:\n",
    "    value, count = queue.popleft()\n",
    "    \n",
    "    if value == target:\n",
    "        result = count\n",
    "    \n",
    "    jump_range = tp[value]\n",
    "    for i in range(1, jump_range + 1):\n",
    "        v = value + i\n",
    "        \n",
    "        if 0 <= v < n:\n",
    "            if not visited[v]:\n",
    "                visited[v] = True\n",
    "                queue.append((v, count + 1))\n",
    "print(result)"
   ]
  },
  {
   "cell_type": "markdown",
   "metadata": {},
   "source": [
    "### 안녕 1535\n",
    "- 배낭 문제"
   ]
  },
  {
   "cell_type": "code",
   "execution_count": 3,
   "metadata": {},
   "outputs": [
    {
     "name": "stdout",
     "output_type": "stream",
     "text": [
      "1\n",
      "10\n",
      "10\n"
     ]
    }
   ],
   "source": [
    "n = int(input())\n",
    "\n",
    "needed_health = tuple(map(int, input().split()))\n",
    "happiness = tuple(map(int, input().split()))"
   ]
  },
  {
   "cell_type": "code",
   "execution_count": 4,
   "metadata": {},
   "outputs": [
    {
     "name": "stdout",
     "output_type": "stream",
     "text": [
      "10\n"
     ]
    }
   ],
   "source": [
    "n = int(input())\n",
    "\n",
    "needed_health = tuple(map(int, input().split()))\n",
    "happiness = tuple(map(int, input().split()))\n",
    "\n",
    "dp = [[0] * 101 for _ in range(n + 1)]\n",
    "\n",
    "for i in range(1, n + 1):\n",
    "    health = needed_health[i - 1]\n",
    "    hap = happiness[i - 1]\n",
    "    \n",
    "    for j in range(0, 101):\n",
    "        if j - health >= 0:\n",
    "            dp[i][j] = max(dp[i - 1][j], dp[i - 1][j - health] + hap)\n",
    "        else:\n",
    "            dp[i][j] = dp[i - 1][j]\n",
    "            \n",
    "print(dp[-1][99])"
   ]
  },
  {
   "cell_type": "markdown",
   "metadata": {},
   "source": [
    "### 상자넣기 1965"
   ]
  },
  {
   "cell_type": "code",
   "execution_count": 5,
   "metadata": {},
   "outputs": [
    {
     "name": "stdout",
     "output_type": "stream",
     "text": [
      "8\n",
      "1 6 2 5 7 3 5 6\n"
     ]
    }
   ],
   "source": [
    "n = int(input())\n",
    "li = list(map(int, input().split()))"
   ]
  },
  {
   "cell_type": "code",
   "execution_count": 8,
   "metadata": {},
   "outputs": [],
   "source": [
    "n = int(input())\n",
    "li = list(map(int, input().split()))\n",
    "\n",
    "dp = []\n",
    "for v in li:\n",
    "    if not dp:\n",
    "        dp.append((v, 1))\n",
    "    else:\n",
    "        possibles = [d[1] for d in dp if d[0] < v]\n",
    "        \n",
    "        if not possibles:\n",
    "            dp.append((v, 1))\n",
    "        else:\n",
    "            dp.append((v, max(possibles) + 1))\n",
    "            \n",
    "max_value = max((v[1] for v in dp))\n",
    "\n",
    "print(max_value)"
   ]
  },
  {
   "cell_type": "code",
   "execution_count": 9,
   "metadata": {},
   "outputs": [
    {
     "data": {
      "text/plain": [
       "5"
      ]
     },
     "execution_count": 9,
     "metadata": {},
     "output_type": "execute_result"
    }
   ],
   "source": [
    "max_value"
   ]
  },
  {
   "cell_type": "code",
   "execution_count": 31,
   "metadata": {},
   "outputs": [
    {
     "name": "stdout",
     "output_type": "stream",
     "text": [
      "9\n",
      "1 1 1 1 1 1 1 1 1 \n",
      "1\n"
     ]
    }
   ],
   "source": [
    "n = int(input())\n",
    "li = list(map(int, input().split()))\n",
    "\n",
    "def find_index(v):\n",
    "    start = 0\n",
    "    end = len(dp) - 1\n",
    "    \n",
    "    result = len(dp)\n",
    "    while start <= end:\n",
    "        mid = (start + end) // 2\n",
    "            \n",
    "        if dp[mid] < v:    \n",
    "            start = mid + 1\n",
    "        elif dp[mid] > v:\n",
    "            result = mid\n",
    "            end = mid - 1\n",
    "        else:\n",
    "            result = None\n",
    "            break\n",
    "    return result\n",
    "\n",
    "dp = []\n",
    "for v in li:\n",
    "    if not dp:\n",
    "        dp.append(v)\n",
    "    else:\n",
    "        index = find_index(v)\n",
    "        if index is None:\n",
    "            continue\n",
    "        elif index == len(dp):\n",
    "            dp.append(v)\n",
    "        else:\n",
    "            dp[index] = v\n",
    "            \n",
    "print(len(dp))"
   ]
  },
  {
   "cell_type": "markdown",
   "metadata": {},
   "source": [
    "### 동물원 1309"
   ]
  },
  {
   "cell_type": "code",
   "execution_count": 45,
   "metadata": {},
   "outputs": [],
   "source": [
    "dp = [0] * 100001\n",
    "dp[1] = 3\n",
    "dp[2] = 7\n"
   ]
  },
  {
   "cell_type": "code",
   "execution_count": 54,
   "metadata": {},
   "outputs": [
    {
     "name": "stdout",
     "output_type": "stream",
     "text": [
      "4\n",
      "41\n"
     ]
    }
   ],
   "source": [
    "n = int(input())\n",
    "\n",
    "dp = [0] * (n + 1)\n",
    "dp[0] = 1\n",
    "dp[1] = 3\n",
    "\n",
    "for i in range(2, n + 1):\n",
    "    dp[i] = (dp[i - 1] * 2 + dp[i - 2]) % 9901\n",
    "\n",
    "print(dp[n])"
   ]
  },
  {
   "cell_type": "code",
   "execution_count": 55,
   "metadata": {},
   "outputs": [
    {
     "data": {
      "text/plain": [
       "[]"
      ]
     },
     "execution_count": 55,
     "metadata": {},
     "output_type": "execute_result"
    }
   ],
   "source": [
    "[0] * -1"
   ]
  },
  {
   "cell_type": "code",
   "execution_count": 58,
   "metadata": {},
   "outputs": [
    {
     "name": "stdout",
     "output_type": "stream",
     "text": [
      "3\n",
      "17\n"
     ]
    }
   ],
   "source": [
    "n=int(input());d=[1,3]+[0]*(n-1)\n",
    "for i in range(2,n+1):d[i]=(d[i-1]*2+d[i-2])%9901\n",
    "print(d[n])"
   ]
  },
  {
   "cell_type": "markdown",
   "metadata": {},
   "source": [
    "### 수열 2491"
   ]
  },
  {
   "cell_type": "code",
   "execution_count": 1,
   "metadata": {},
   "outputs": [
    {
     "name": "stdout",
     "output_type": "stream",
     "text": [
      "9\n",
      "1 2 2 4 4 5 7 7 2\n",
      "8\n"
     ]
    }
   ],
   "source": [
    "n = int(input())\n",
    "li = list(map(int, input().split()))"
   ]
  },
  {
   "cell_type": "code",
   "execution_count": 22,
   "metadata": {},
   "outputs": [
    {
     "name": "stdout",
     "output_type": "stream",
     "text": [
      "1\n",
      "1\n",
      "1\n"
     ]
    }
   ],
   "source": [
    "n = int(input())\n",
    "li = list(map(int, input().split()))\n",
    "\n",
    "i_count = 1\n",
    "d_count = 1\n",
    "\n",
    "max_i_count = 0\n",
    "max_d_count = 0\n",
    "for i in range(1, n):\n",
    "    if li[i - 1] <= li[i]:\n",
    "        i_count += 1\n",
    "    else:\n",
    "        if i_count > max_i_count:\n",
    "            max_i_count = i_count\n",
    "        i_count = 1\n",
    "\n",
    "    if li[i - 1] >= li[i]:\n",
    "        d_count += 1\n",
    "    else:\n",
    "        if d_count > max_d_count:\n",
    "            max_d_count = d_count\n",
    "        d_count = 1\n",
    "                \n",
    "if i_count > max_i_count:\n",
    "    max_i_count = i_count\n",
    "if d_count > max_d_count:\n",
    "    max_d_count = d_count\n",
    "    \n",
    "print(max(max_i_count, max_d_count))"
   ]
  },
  {
   "cell_type": "markdown",
   "metadata": {},
   "source": [
    "### 타일 채우기 3 14852"
   ]
  },
  {
   "cell_type": "code",
   "execution_count": 5,
   "metadata": {},
   "outputs": [
    {
     "name": "stdout",
     "output_type": "stream",
     "text": [
      "4\n",
      "71\n"
     ]
    }
   ],
   "source": [
    "n = int(input())\n",
    "\n",
    "dp = [1, 2, 7, 22] + [0] * 999997\n",
    "sum_dp = [1, 3, 10, 32] + [0] * 999997\n",
    "for i in range(4, 1000001):\n",
    "    dp[i] = (2 * dp[i - 1] + 3 * dp[i - 2] + sum_dp[i - 3] * 2) % 1000000007\n",
    "    sum_dp[i] = (sum_dp[i - 1] + dp[i]) % 1000000007\n",
    "    \n",
    "print(dp[n])"
   ]
  },
  {
   "cell_type": "markdown",
   "metadata": {},
   "source": [
    "### 동전 1 2293"
   ]
  },
  {
   "cell_type": "code",
   "execution_count": 15,
   "metadata": {},
   "outputs": [
    {
     "name": "stdout",
     "output_type": "stream",
     "text": [
      "3 10\n",
      "1\n",
      "2\n",
      "5\n",
      "10\n"
     ]
    }
   ],
   "source": [
    "# 메모리 초과\n",
    "n, k = map(int, input().split())\n",
    "\n",
    "li = []\n",
    "for _ in range(n):\n",
    "    value = int(input())\n",
    "    if value <= k:       \n",
    "        li.append(value)\n",
    "\n",
    "li.sort()\n",
    "dp = [[0] * n for _ in range(k + 1)]\n",
    "li_length = len(li)\n",
    "current_check_index = 0\n",
    "for i in range(1, k + 1):\n",
    "    for j in range(current_check_index):\n",
    "        dp[i][j] += sum(dp[i - li[j]][:j + 1])\n",
    "    \n",
    "    if current_check_index < li_length:\n",
    "        if li[current_check_index] == i:\n",
    "            dp[i][current_check_index] = 1\n",
    "            current_check_index += 1\n",
    "            \n",
    "print(sum(dp[-1]))"
   ]
  },
  {
   "cell_type": "code",
   "execution_count": 8,
   "metadata": {},
   "outputs": [
    {
     "name": "stdout",
     "output_type": "stream",
     "text": [
      "3 10\n",
      "1\n",
      "2\n",
      "5\n",
      "10\n"
     ]
    }
   ],
   "source": [
    "# 맞았음\n",
    "n, k = map(int, input().split())\n",
    "\n",
    "li = []\n",
    "for _ in range(n):\n",
    "    value = int(input())\n",
    "    if value <= k:       \n",
    "        li.append(value)\n",
    "        \n",
    "li.sort(reverse=True)\n",
    "\n",
    "dp = [0] * (k + 1)\n",
    "dp[0] = 1\n",
    "\n",
    "for coin in li:\n",
    "    for i in range(k):\n",
    "        if i + coin > k:\n",
    "            break\n",
    "        dp[i + coin] += dp[i]\n",
    "        \n",
    "print(dp[k])"
   ]
  },
  {
   "cell_type": "code",
   "execution_count": 13,
   "metadata": {},
   "outputs": [
    {
     "name": "stdout",
     "output_type": "stream",
     "text": [
      "3 15\n",
      "1\n",
      "5\n",
      "12\n",
      "5\n"
     ]
    }
   ],
   "source": [
    "# 맞았음\n",
    "n, k = map(int, input().split())\n",
    "\n",
    "dp = [0] * (k + 1)\n",
    "dp[0] = 1\n",
    "\n",
    "for _ in range(n):\n",
    "    coin = int(input())\n",
    "    if coin > k:\n",
    "        continue\n",
    "    \n",
    "    for i in range(k):\n",
    "        if i + coin > k:\n",
    "            break\n",
    "        dp[i + coin] += dp[i]\n",
    "        \n",
    "print(dp[k])"
   ]
  },
  {
   "cell_type": "markdown",
   "metadata": {},
   "source": [
    "### 1로 만들기 2 12852"
   ]
  },
  {
   "cell_type": "code",
   "execution_count": null,
   "metadata": {},
   "outputs": [],
   "source": [
    "n = int(input())\n",
    "\n",
    "if n == 1:\n",
    "    print(0)\n",
    "else:\n",
    "    count = 1\n",
    "    nums = {n}\n",
    "    \n",
    "    while True:\n",
    "        set1 = {v // 3 for v in nums if v % 3 == 0}\n",
    "        set2 = {v // 2 for v in nums if v % 2 == 0}\n",
    "        set3 = {v - 1 for v in nums}\n",
    "        nums = set1.union(set2).union(set3)\n",
    "        if 1 in nums:\n",
    "            break\n",
    "        count += 1\n",
    "    print(count)"
   ]
  },
  {
   "cell_type": "code",
   "execution_count": 23,
   "metadata": {},
   "outputs": [
    {
     "name": "stdout",
     "output_type": "stream",
     "text": [
      "2\n",
      "1\n",
      "2 1\n"
     ]
    }
   ],
   "source": [
    "from copy import deepcopy\n",
    "\n",
    "n = int(input())\n",
    "\n",
    "visited = [False] * (n + 1)\n",
    "result_trace = \"\"\n",
    "\n",
    "if n == 1:\n",
    "    print(0)\n",
    "    print(1)\n",
    "else:\n",
    "    count = 1\n",
    "    infos = [[n, \"\"]] # 1: 1 빼기, 2: 2로 나누기, 3: 3로 나누기\n",
    "    is_found = False\n",
    "    result_trace = ''\n",
    "             \n",
    "    while True:\n",
    "        new_infos = []\n",
    "        for info in infos:\n",
    "            num, trace = info\n",
    "            \n",
    "            if num % 3 == 0:\n",
    "                new_num = num // 3\n",
    "                if new_num == 1:\n",
    "                    is_found = True\n",
    "                    result_trace = trace + \"3\"\n",
    "                    break\n",
    "            \n",
    "                if not visited[new_num]:\n",
    "                    visited[new_num] = True\n",
    "                    new_infos.append([new_num, trace + \"3\"])\n",
    "             \n",
    "            if num % 2 == 0:\n",
    "                new_num = num // 2\n",
    "                if new_num == 1:\n",
    "                    is_found = True\n",
    "                    result_trace = trace + \"2\"\n",
    "                    break\n",
    "            \n",
    "                if not visited[new_num]:\n",
    "                    visited[new_num] = True\n",
    "                    new_infos.append([new_num, trace + \"2\"])\n",
    "             \n",
    "            if num - 1 > 0:\n",
    "                new_num = num - 1\n",
    "                if new_num == 1:\n",
    "                    is_found = True\n",
    "                    result_trace = trace + \"1\"\n",
    "                    break\n",
    "            \n",
    "                if not visited[new_num]:\n",
    "                    visited[new_num] = True\n",
    "                    new_infos.append([new_num, trace + \"1\"])\n",
    "             \n",
    "        if is_found:\n",
    "             break\n",
    "             \n",
    "        count += 1\n",
    "        infos = deepcopy(new_infos)\n",
    "             \n",
    "    paths = [n]\n",
    "    for trace in result_trace:\n",
    "        if trace == '1':\n",
    "            n -= 1\n",
    "        elif trace == '2':\n",
    "            n //= 2\n",
    "        else:\n",
    "            n //= 3\n",
    "\n",
    "        paths.append(n)\n",
    "\n",
    "    print(count)\n",
    "    print(\" \".join(map(str, paths))) "
   ]
  },
  {
   "cell_type": "markdown",
   "metadata": {},
   "source": [
    "### 호텔 1106"
   ]
  },
  {
   "cell_type": "code",
   "execution_count": 24,
   "metadata": {},
   "outputs": [
    {
     "name": "stdout",
     "output_type": "stream",
     "text": [
      "1000 1\n",
      "100 1\n",
      "100000\n"
     ]
    }
   ],
   "source": [
    "c, n = map(int, input().split())\n",
    "li = [tuple(map(int, input().split())) for _ in range(n)]\n",
    "\n",
    "li.sort()\n",
    "\n",
    "dp = [0]\n",
    "i = 1\n",
    "while True:\n",
    "    max_value = 0\n",
    "    for v in li:\n",
    "        if i - v[0] < 0:\n",
    "            break\n",
    "        else:\n",
    "            if dp[i - v[0]] + v[1] > max_value:\n",
    "                max_value = dp[i - v[0]] + v[1]\n",
    "                \n",
    "    if max_value >= c:\n",
    "        print(i)\n",
    "        break\n",
    "        \n",
    "    dp.append(max_value)\n",
    "    i += 1"
   ]
  },
  {
   "cell_type": "code",
   "execution_count": 6,
   "metadata": {},
   "outputs": [],
   "source": [
    "li = [(3, 4), (1, 4), (5, 3)]"
   ]
  },
  {
   "cell_type": "code",
   "execution_count": 7,
   "metadata": {},
   "outputs": [
    {
     "data": {
      "text/plain": [
       "[(1, 4), (3, 4), (5, 3)]"
      ]
     },
     "execution_count": 7,
     "metadata": {},
     "output_type": "execute_result"
    }
   ],
   "source": [
    "sorted(li)"
   ]
  },
  {
   "cell_type": "markdown",
   "metadata": {},
   "source": [
    "### 캡틴 이다솜 1660"
   ]
  },
  {
   "cell_type": "code",
   "execution_count": 40,
   "metadata": {},
   "outputs": [
    {
     "name": "stdout",
     "output_type": "stream",
     "text": [
      "15\n",
      "3\n"
     ]
    }
   ],
   "source": [
    "n = int(input())\n",
    "\n",
    "li = [1]\n",
    "i = 2\n",
    "while True:\n",
    "    new_value = li[-1] + (i * (i + 1)) // 2\n",
    "    if new_value > 300000:\n",
    "        break\n",
    "    else:\n",
    "        li.append(new_value)\n",
    "    i += 1\n",
    "\n",
    "dp = [float('inf')] * (n + 1)\n",
    "dp[0] = 0\n",
    "for i in range(1, n + 1):\n",
    "    for v in li:\n",
    "        if i - v < 0:\n",
    "            break\n",
    "        else:\n",
    "            if dp[i - v] + 1 < dp[i]:\n",
    "                dp[i] = dp[i - v] + 1\n",
    "                \n",
    "print(dp[n])"
   ]
  },
  {
   "cell_type": "code",
   "execution_count": 14,
   "metadata": {},
   "outputs": [
    {
     "name": "stdout",
     "output_type": "stream",
     "text": [
      "15\n",
      "3\n"
     ]
    }
   ],
   "source": [
    "# 다른 사람 코드 (sunsu2737) 일부 수정\n",
    "N = int(input())\n",
    "\n",
    "flag = 1\n",
    "temp = 3\n",
    "temp2 = 3\n",
    "t = []\n",
    "cnt=1\n",
    "while flag <= 300000:\n",
    "    t.append(flag)\n",
    "    flag += temp\n",
    "    temp += temp2\n",
    "    temp2 += 1\n",
    "\n",
    "tset=set(t)\n",
    "if N in tset:\n",
    "    print(cnt)\n",
    "else:\n",
    "    is_end = False\n",
    "    while True:\n",
    "        dp = set()\n",
    "        for j in t:\n",
    "            for i in tset: \n",
    "                if j+i<=N:\n",
    "                    dp.add(j+i)\n",
    "            if N in dp:\n",
    "                print(cnt+1)\n",
    "                is_end = True\n",
    "                break\n",
    "            if is_end:\n",
    "                break\n",
    "        if is_end:\n",
    "            break\n",
    "        cnt+=1\n",
    "        tset=dp"
   ]
  },
  {
   "cell_type": "markdown",
   "metadata": {},
   "source": [
    "### 알약 4811"
   ]
  },
  {
   "cell_type": "code",
   "execution_count": 17,
   "metadata": {},
   "outputs": [
    {
     "name": "stdout",
     "output_type": "stream",
     "text": [
      "6\n",
      "132\n",
      "1\n",
      "1\n",
      "4\n",
      "14\n",
      "2\n",
      "2\n",
      "3\n",
      "5\n",
      "30\n",
      "3814986502092304\n",
      "0\n"
     ]
    }
   ],
   "source": [
    "dp = [[0] * 31 for _ in range(31)] # dp[남은 w 수][남은 h 수]\n",
    "\n",
    "for i in range(31):\n",
    "    dp[0][i] = 1\n",
    "\n",
    "for w_num in range(1, 31):\n",
    "    for h_num in range(31):\n",
    "        if h_num == 0:\n",
    "            if w_num == 1:\n",
    "                dp[w_num][h_num] = 1\n",
    "            else:\n",
    "                dp[w_num][h_num] = dp[w_num - 2][1] + dp[w_num - 1][0]\n",
    "        \n",
    "        if h_num < 30:\n",
    "            dp[w_num][h_num] = dp[w_num - 1][h_num + 1] + dp[w_num][h_num - 1]\n",
    "            \n",
    "while True:\n",
    "    n = int(input())\n",
    "    if n == 0:\n",
    "        break\n",
    "    \n",
    "    print(dp[n][0])"
   ]
  },
  {
   "cell_type": "markdown",
   "metadata": {},
   "source": [
    "### 내려가기 2096\n",
    "- 슬라이딩 윈도우"
   ]
  },
  {
   "cell_type": "code",
   "execution_count": 6,
   "metadata": {},
   "outputs": [
    {
     "name": "stdout",
     "output_type": "stream",
     "text": [
      "1\n",
      "1 2 3\n",
      "3 1\n"
     ]
    }
   ],
   "source": [
    "import sys\n",
    "# input = sys.stdin.readline\n",
    "\n",
    "n = int(input().rstrip())\n",
    "\n",
    "dp = list(map(int, input().rstrip().split()))\n",
    "\n",
    "if n == 1:\n",
    "    print(max(dp), min(dp))\n",
    "else:\n",
    "    max_dp = dp[:]\n",
    "    min_dp = dp[:]\n",
    "    \n",
    "    for _ in range(n - 1):\n",
    "        values = tuple(map(int, input().rstrip().split()))\n",
    "        max_dp = [max(max_dp[0], max_dp[1]) + values[0], max(max_dp) + values[1], max(max_dp[1], max_dp[2]) + values[2]]\n",
    "        min_dp = [min(min_dp[0], min_dp[1]) + values[0], min(min_dp) + values[1], min(min_dp[1], min_dp[2]) + values[2]]\n",
    "\n",
    "    print(max(max_dp), min(min_dp))"
   ]
  },
  {
   "cell_type": "markdown",
   "metadata": {},
   "source": [
    "### 동전 2 2294"
   ]
  },
  {
   "cell_type": "code",
   "execution_count": 16,
   "metadata": {},
   "outputs": [
    {
     "name": "stdout",
     "output_type": "stream",
     "text": [
      "3 15\n",
      "1\n",
      "5\n",
      "12\n"
     ]
    }
   ],
   "source": [
    "n, k = map(int, input().split())\n",
    "\n",
    "st = set()\n",
    "for _ in range(n):\n",
    "    value = int(input())\n",
    "    if value <= k:\n",
    "        st.add(value)\n"
   ]
  },
  {
   "cell_type": "code",
   "execution_count": 20,
   "metadata": {},
   "outputs": [
    {
     "name": "stdout",
     "output_type": "stream",
     "text": [
      "3\n"
     ]
    }
   ],
   "source": [
    "n, k = map(int, input().split())\n",
    "\n",
    "st = set()\n",
    "for _ in range(n):\n",
    "    value = int(input())\n",
    "    if value <= k:\n",
    "        st.add(value)\n",
    "\n",
    "dp = [float('inf')] * (k + 1)\n",
    "dp[0] = 0\n",
    "for coin in st:\n",
    "    for i in range(k + 1):\n",
    "        if i + coin > k:\n",
    "            break\n",
    "        dp[i + coin] = min(dp[i + coin], dp[i] + 1)\n",
    "        \n",
    "        \n",
    "if dp[k] == float('inf'):\n",
    "    print(-1)\n",
    "else:\n",
    "    print(dp[k])"
   ]
  },
  {
   "cell_type": "markdown",
   "metadata": {},
   "source": [
    "### 습격자 초라기 1006"
   ]
  },
  {
   "cell_type": "code",
   "execution_count": 11,
   "metadata": {},
   "outputs": [
    {
     "name": "stdout",
     "output_type": "stream",
     "text": [
      "8 100\n",
      "70 60 55 43 57 60 44 50\n",
      "58 40 47 90 45 52 80 40\n",
      "[(70, 58), (60, 40), (55, 47), (43, 90), (57, 45), (60, 52), (44, 80), (50, 40)]\n"
     ]
    }
   ],
   "source": [
    "n, w = map(int, input().split())\n",
    "li1 = list(map(int, input().split()))\n",
    "li2 = list(map(int, input().split()))\n",
    "li = list(zip(li1, li2))\n",
    "print(li)"
   ]
  },
  {
   "cell_type": "code",
   "execution_count": 12,
   "metadata": {},
   "outputs": [],
   "source": [
    "o_li = li.copy()"
   ]
  },
  {
   "cell_type": "code",
   "execution_count": 16,
   "metadata": {},
   "outputs": [],
   "source": [
    "li = o_li.copy()"
   ]
  },
  {
   "cell_type": "code",
   "execution_count": 50,
   "metadata": {},
   "outputs": [],
   "source": [
    "w = 100\n",
    "n = 4\n",
    "li = [(50, 50), (80, 50), (70, 50), (50, 50)]"
   ]
  },
  {
   "cell_type": "code",
   "execution_count": 57,
   "metadata": {},
   "outputs": [
    {
     "name": "stdout",
     "output_type": "stream",
     "text": [
      "6 100\n",
      "40 50 70 40 80 20\n",
      "60 50 50 60 60 40\n",
      "6\n"
     ]
    }
   ],
   "source": [
    "n, w = map(int, input().split())\n",
    "li1 = list(map(int, input().split()))\n",
    "li2 = list(map(int, input().split()))\n",
    "li = list(zip(li1, li2))\n",
    "\n",
    "if n == 1:\n",
    "    if sum(dp[0]) <= w:\n",
    "        print(1)\n",
    "    else:\n",
    "        print(2)\n",
    "else:\n",
    "    result = 0\n",
    "    total = 0\n",
    "    dp = [[0, 0, 0, 0] for _ in range(n)]\n",
    "\n",
    "    for i in range(n):\n",
    "        if i == 0:\n",
    "            # 마지막이 묶이는 경우 확인\n",
    "            is_last_united = False\n",
    "            if sum(li[-1]) <= w:\n",
    "                if (li[-2][0] + li[-1][0] > w and li[-1][0] + li[0][0] > w ) or (li[-2][1] + li[-1][1] > w and li[-1][1] + li[0][1] > w ):\n",
    "                    is_last_united = True\n",
    "            # 마지막이 묶여있는 경우\n",
    "            if is_last_united:\n",
    "                # 마지막, 처음이 모두 묶이는 경우\n",
    "                if sum(li[0]) <= w:\n",
    "                    total = 1\n",
    "                    li[0] = (float('inf'), float('inf'))\n",
    "                    dp[0] = [0, float('inf'), 0, float('inf')]\n",
    "                # 마지막은 묶이지만 처음은 묶이지 않는 경우\n",
    "                else:\n",
    "                    dp[0] = [float('inf'), 1, float('inf'), 1]\n",
    "            # 마지막이 묶여있지 않은 경우\n",
    "            else:\n",
    "                # 마지막이 묶여있지 않지만 처음은 묶이는 경우\n",
    "                if sum(li[i]) <= w and ((li[i - 1][0] + li[i][0] > w and li[i][0] + li[i + 1][0] > w) or (li[i - 1][1] + li[i][1] > w and li[i][1] + li[i + 1][1] > w)):\n",
    "                    total = 1\n",
    "                    li[i] = (float('inf'), float('inf'))\n",
    "                    dp[i] = [0, float('inf'), 0, float('inf')]\n",
    "                # 마지막하고 처음이 둘 다 각각 묶이지 않는 경우\n",
    "                else:\n",
    "                    if li[-1][0] + li[0][0] <= w:\n",
    "                        dp[0][0] = 0\n",
    "                    else:\n",
    "                        dp[0][0] = float('inf')\n",
    "                    dp[0][1] = 1\n",
    "\n",
    "                    if li[-1][1] + li[0][1] <= w:\n",
    "                        dp[0][2] = 0\n",
    "                    else:\n",
    "                        dp[0][2] = float('inf')\n",
    "                    dp[0][3] = 1\n",
    "        else:\n",
    "            if i == n - 1 and is_last_united:\n",
    "                result = total + min(dp[i - 1][0], dp[i - 1][1]) + min(dp[i - 1][2], dp[i - 1][3]) + 1\n",
    "                break\n",
    "\n",
    "            # i번째가 묶이는 경우\n",
    "            if (i < n - 1) and (sum(li[i]) <= w and ((li[i - 1][0] + li[i][0] > w and li[i][0] + li[i + 1][0] > w) or (li[i - 1][1] + li[i][1] > w and li[i][1] + li[i + 1][1] > w))):\n",
    "                total += min(dp[i - 1][0], dp[i - 1][1]) + min(dp[i - 1][2], dp[i - 1][3]) + 1\n",
    "                li[i] = (float('inf'), float('inf'))\n",
    "                dp[i] = [0, float('inf'), 0, float('inf')]\n",
    "\n",
    "            # i번째가 묶이지 않는 경우\n",
    "            else:\n",
    "                if li[i - 1][0] + li[i][0] <= w:\n",
    "                    dp[i][0] = dp[i - 1][1]\n",
    "                else:\n",
    "                    dp[i][0] = float('inf')\n",
    "                dp[i][1] = min(dp[i - 1][0], dp[i - 1][1]) + 1\n",
    "\n",
    "                if li[i - 1][1] + li[i][1] <= w:\n",
    "                    dp[i][2] = dp[i - 1][3]\n",
    "                else:\n",
    "                    dp[i][2] = float('inf')\n",
    "                dp[i][3] = min(dp[i - 1][2], dp[i - 1][3]) + 1\n",
    "\n",
    "    if result == 0:\n",
    "        result = total + min(dp[-1][0], dp[-1][1]) + min(dp[-1][2], dp[-1][3])\n",
    "\n",
    "    print(result)"
   ]
  },
  {
   "cell_type": "code",
   "execution_count": 54,
   "metadata": {},
   "outputs": [
    {
     "data": {
      "text/plain": [
       "[(inf, inf), (40, 80), (50, 40), (80, 40), (70, 30)]"
      ]
     },
     "execution_count": 54,
     "metadata": {},
     "output_type": "execute_result"
    }
   ],
   "source": [
    "li"
   ]
  },
  {
   "cell_type": "code",
   "execution_count": 58,
   "metadata": {},
   "outputs": [
    {
     "data": {
      "text/plain": [
       "[[0, 1, 0, 1],\n",
       " [1, 1, inf, 1],\n",
       " [inf, 2, 1, 2],\n",
       " [0, inf, 0, inf],\n",
       " [inf, 1, inf, 1],\n",
       " [1, 2, 1, 2]]"
      ]
     },
     "execution_count": 58,
     "metadata": {},
     "output_type": "execute_result"
    }
   ],
   "source": [
    "dp"
   ]
  },
  {
   "cell_type": "markdown",
   "metadata": {},
   "source": [
    "### 자두나무 2240"
   ]
  },
  {
   "cell_type": "code",
   "execution_count": 60,
   "metadata": {},
   "outputs": [
    {
     "name": "stdout",
     "output_type": "stream",
     "text": [
      "7 2\n"
     ]
    }
   ],
   "source": [
    "t, w = map(int, input().split())"
   ]
  },
  {
   "cell_type": "code",
   "execution_count": 69,
   "metadata": {},
   "outputs": [
    {
     "name": "stdout",
     "output_type": "stream",
     "text": [
      "7 2\n",
      "2\n",
      "1\n",
      "1\n",
      "2\n",
      "2\n",
      "1\n",
      "1\n",
      "6\n"
     ]
    }
   ],
   "source": [
    "t, w = map(int, input().split())\n",
    "\n",
    "dp = [[-1] * (w + 1), [-1] * (w + 1)]\n",
    "dp[0][w] = dp[1][w - 1] = 0\n",
    "\n",
    "for _ in range(t):\n",
    "    value = int(input())\n",
    "    value -= 1\n",
    "    if value == 0:\n",
    "        dp[0] = list(map(lambda x: x + 1 if x != -1 else -1, dp[0]))\n",
    "        \n",
    "        for i in range(1, w + 1):\n",
    "            if dp[1][i] != -1 and dp[1][i] + 1 > dp[0][i - 1]:\n",
    "                dp[0][i - 1] = dp[1][i] + 1\n",
    "    else:\n",
    "        dp[1] = list(map(lambda x: x + 1 if x != -1 else -1, dp[1]))\n",
    "        \n",
    "        for i in range(1, w + 1):\n",
    "            if dp[0][i] != -1 and dp[0][i] + 1 > dp[1][i - 1]:\n",
    "                dp[1][i - 1] = dp[0][i] + 1\n",
    "                \n",
    "print(max(max(dp[0]), max(dp[1])))"
   ]
  },
  {
   "cell_type": "markdown",
   "metadata": {},
   "source": [
    "### 암호코드 2011"
   ]
  },
  {
   "cell_type": "code",
   "execution_count": null,
   "metadata": {},
   "outputs": [],
   "source": [
    "0으로 시작하면 잘못되었음"
   ]
  },
  {
   "cell_type": "code",
   "execution_count": 85,
   "metadata": {},
   "outputs": [
    {
     "name": "stdout",
     "output_type": "stream",
     "text": [
      "25114\n",
      "6\n"
     ]
    }
   ],
   "source": [
    "tp = tuple(map(int, input()))\n",
    "dp = [[0, 0] for _ in range(len(tp))] # [따로, 바로 앞과 묶음]\n",
    "\n",
    "mod = 1000000\n",
    "\n",
    "for i in range(len(tp)):\n",
    "    if i == 0:\n",
    "        if 1 <= tp[i] <= 9:\n",
    "            dp[0][0] = 1\n",
    "            dp[0][1] = 0\n",
    "        else:\n",
    "            print(0)\n",
    "            break\n",
    "    else:\n",
    "        if 1 <= tp[i] <= 9:\n",
    "            dp[i][0] = sum(dp[i - 1]) % mod\n",
    "        if tp[i - 1] == 1 or tp[i - 1] == 2 and tp[i] <= 6:\n",
    "            if i == 1:\n",
    "                dp[i][1] = 1\n",
    "            else:    \n",
    "                dp[i][1] = sum(dp[i - 2]) % mod\n",
    "                \n",
    "        if dp[i][0] == dp[i][1] == 0:\n",
    "            print(0)\n",
    "            break\n",
    "else:\n",
    "    print(sum(dp[-1]) % mod)"
   ]
  },
  {
   "cell_type": "markdown",
   "metadata": {},
   "source": [
    "### 떡 먹는 호랑이 2502"
   ]
  },
  {
   "cell_type": "code",
   "execution_count": 95,
   "metadata": {},
   "outputs": [
    {
     "name": "stdout",
     "output_type": "stream",
     "text": [
      "6 41\n",
      "2\n",
      "7\n"
     ]
    }
   ],
   "source": [
    "d, k = map(int, input().split())\n",
    "\n",
    "dp = [[0, 0] for _ in range(d + 1)]\n",
    "dp[1] = [1, 0]\n",
    "dp[2] = [0, 1]\n",
    "\n",
    "for i in range(3, d + 1):\n",
    "    dp[i][0] = dp[i - 2][0] + dp[i - 1][0]\n",
    "    dp[i][1] = dp[i - 2][1] + dp[i - 1][1]  \n",
    "    \n",
    "w1, w2 = dp[d]\n",
    "a = 1\n",
    "while True:\n",
    "    remained = k - a * w1\n",
    "    if remained % w2 == 0:\n",
    "        b = remained // w2\n",
    "        break\n",
    "    a += 1\n",
    "    \n",
    "print(a)\n",
    "print(b)"
   ]
  },
  {
   "cell_type": "markdown",
   "metadata": {},
   "source": [
    "### 동전 9084"
   ]
  },
  {
   "cell_type": "code",
   "execution_count": 102,
   "metadata": {},
   "outputs": [
    {
     "name": "stdout",
     "output_type": "stream",
     "text": [
      "3\n",
      "1 5 10\n",
      "100\n",
      "121\n"
     ]
    }
   ],
   "source": [
    "T = int(input())\n",
    "for _ in range(T):\n",
    "    n = int(input())\n",
    "    coins = tuple(map(int, input().split()))\n",
    "    m = int(input())\n",
    "    dp = [0] * (m + 1)\n",
    "    dp[0] = 1\n",
    "\n",
    "    for coin in coins:\n",
    "        for i in range(m):\n",
    "            if i + coin > m:\n",
    "                break         \n",
    "            dp[i + coin] += dp[i]\n",
    "\n",
    "    print(dp[m])"
   ]
  },
  {
   "cell_type": "markdown",
   "metadata": {},
   "source": [
    "### 카드게임 10835"
   ]
  },
  {
   "cell_type": "code",
   "execution_count": 104,
   "metadata": {},
   "outputs": [
    {
     "name": "stdout",
     "output_type": "stream",
     "text": [
      "4\n",
      "1 2 3 4\n",
      "4 1 2 3\n",
      "6\n"
     ]
    }
   ],
   "source": [
    "# 틀렸음\n",
    "n = int(input())\n",
    "lefts = tuple(map(int, input().split()))\n",
    "rights = tuple(map(int, input().split()))\n",
    "\n",
    "max_score = 0\n",
    "for i in range(n):\n",
    "    left = lefts[i]\n",
    "    skip_remain = i\n",
    "    score = 0\n",
    "    for j in range(n):\n",
    "        if left > rights[j]:\n",
    "            score += rights[j]\n",
    "        else:\n",
    "            if skip_remain == 0:\n",
    "                break\n",
    "            else:\n",
    "                skip_remain -= 1\n",
    "    if score > max_score:\n",
    "        max_score = score\n",
    "        \n",
    "print(max_score)"
   ]
  },
  {
   "cell_type": "code",
   "execution_count": 17,
   "metadata": {},
   "outputs": [
    {
     "name": "stdout",
     "output_type": "stream",
     "text": [
      "4\n",
      "4 6 5 9\n",
      "8 10 4 2\n",
      "8\n"
     ]
    }
   ],
   "source": [
    "# 시간 초과\n",
    "from collections import deque\n",
    "\n",
    "n = int(input())\n",
    "lefts = tuple(map(int, input().split()))\n",
    "rights = tuple(map(int, input().split()))\n",
    "\n",
    "max_score = 0\n",
    "max_scores = [[-1] * n for _ in range(n)]\n",
    "\n",
    "queue = deque()\n",
    "queue.append((0, 0, 0))\n",
    "while queue:\n",
    "    left_index, right_index, score = queue.popleft()\n",
    "    \n",
    "    if lefts[left_index] > rights[right_index]:\n",
    "        score += rights[right_index]\n",
    "        \n",
    "        if right_index == n - 1:\n",
    "            if score > max_score:\n",
    "                max_score = score\n",
    "        else:\n",
    "            if score > max_scores[left_index][right_index + 1]:\n",
    "                max_scores[left_index][right_index + 1] = score\n",
    "                queue.append((left_index, right_index + 1, score))\n",
    "    else:\n",
    "        if left_index < n - 1:\n",
    "            if score > max_scores[left_index + 1][right_index]:\n",
    "                max_scores[left_index + 1][right_index] = score \n",
    "                queue.append((left_index + 1, right_index, score))\n",
    "            \n",
    "            if right_index < n - 1:\n",
    "                if score > max_scores[left_index + 1][right_index + 1]:\n",
    "                    max_scores[left_index + 1][right_index + 1] = score     \n",
    "                    queue.append((left_index + 1, right_index + 1, score))\n",
    "        else:\n",
    "            if score > max_score:\n",
    "                max_score = score\n",
    "\n",
    "print(max_score)"
   ]
  },
  {
   "cell_type": "code",
   "execution_count": 63,
   "metadata": {},
   "outputs": [
    {
     "name": "stdout",
     "output_type": "stream",
     "text": [
      "6\n",
      "5 6 6 5 9 8\n",
      "1 10 10 5 10 7\n",
      "7\n"
     ]
    }
   ],
   "source": [
    "# 일단 포기\n",
    "n = int(input())\n",
    "lefts = tuple(map(int, input().split()))\n",
    "rights = tuple(map(int, input().split()))\n",
    "\n",
    "dp = [[0] * (n + 1) for _ in range(n + 1)]\n",
    "\n",
    "for i in range(1, n + 1):\n",
    "    is_check_needed = True\n",
    "    remain_break_possible_count = 0\n",
    "    for j in range(1, n + 1):\n",
    "        if is_check_needed:\n",
    "            if lefts[i - 1] > rights[j - 1]:\n",
    "                if remain_break_possible_count >= 1:\n",
    "                    dp[i][j] = max(dp[i - 1][j], dp[i][j - 1] + rights[j - 1])\n",
    "                else:\n",
    "                    dp[i][j] = max(dp[i - 1][j], rights[j - 1])\n",
    "                    \n",
    "                remain_break_possible_count += 1\n",
    "                    \n",
    "            else:\n",
    "                remain_break_possible_count = max(remain_break_possible_count - 1, 0)\n",
    "                dp[i][j] = dp[i - 1][j]\n",
    "                \n",
    "                if j >= i and remain_break_possible_count == 0:\n",
    "                    is_check_needed = False\n",
    "                    \n",
    "        else:\n",
    "            dp[i][j] = dp[i - 1][j]\n",
    "            \n",
    "print(max(dp[-1]))"
   ]
  },
  {
   "cell_type": "code",
   "execution_count": null,
   "metadata": {},
   "outputs": [],
   "source": [
    "5\n",
    "5 6 5 9 8\n",
    "1 10 5 10 7\n",
    "13\n",
    "\n",
    "6\n",
    "5 6 6 5 9 8\n",
    "1 10 10 5 10 7\n",
    "13\n",
    "\n",
    "5\n",
    "4 6 5 9 2\n",
    "8 10 4 2 1\n",
    "8\n",
    "\n",
    "4\n",
    "4 6 5 9\n",
    "8 10 4 7\n",
    "11"
   ]
  },
  {
   "cell_type": "markdown",
   "metadata": {},
   "source": [
    "### 유전자 2306"
   ]
  },
  {
   "cell_type": "code",
   "execution_count": 31,
   "metadata": {},
   "outputs": [
    {
     "name": "stdout",
     "output_type": "stream",
     "text": [
      "aagct\n",
      "4\n"
     ]
    }
   ],
   "source": [
    "# 메모리 초과\n",
    "from copy import deepcopy\n",
    "\n",
    "s = input()\n",
    "\n",
    "if len(s) == 1:\n",
    "    print(0)\n",
    "else:\n",
    "    dp = []\n",
    "    dp.append([s[0], 0])\n",
    "    s = s[1:]\n",
    "    for char in s:\n",
    "        if char == \"a\" or char == \"g\":\n",
    "            new_dp = [[v[0] + char, v[1]] for v in dp]\n",
    "        elif char == \"t\":\n",
    "            new_dp = []\n",
    "            for v in dp:\n",
    "                candidate, length = v\n",
    "                if candidate:\n",
    "                    if candidate[-1] == 'a':\n",
    "                        new_dp.append([candidate[:-1], length + 2])\n",
    "                    else:\n",
    "                        new_dp.append(v)\n",
    "                        for i in range(len(candidate) - 1, -1, -1):\n",
    "                            if candidate[i] == 'a':\n",
    "                                new_dp.append([candidate[:i], length + 2])\n",
    "                                break\n",
    "                else:\n",
    "                    new_dp.append(v)\n",
    "        else:\n",
    "            new_dp = []\n",
    "            for v in dp:\n",
    "                candidate, length = v\n",
    "                if candidate:\n",
    "                    if candidate[-1] == 'g':\n",
    "                        new_dp.append([candidate[:-1], length + 2])\n",
    "                    else:\n",
    "                        new_dp.append(v)\n",
    "                        for i in range(len(candidate) - 1, -1, -1):\n",
    "                            if candidate[i] == 'g':\n",
    "                                new_dp.append([candidate[:i], length + 2])\n",
    "                                break\n",
    "                else:\n",
    "                    new_dp.append(v)\n",
    "        dp = deepcopy(new_dp)\n",
    "        \n",
    "    if not dp:\n",
    "        print(0)\n",
    "    else:\n",
    "        dp.sort(key=lambda x: x[1])\n",
    "        print(dp[-1][1])"
   ]
  },
  {
   "cell_type": "code",
   "execution_count": 24,
   "metadata": {},
   "outputs": [
    {
     "ename": "KeyboardInterrupt",
     "evalue": "",
     "output_type": "error",
     "traceback": [
      "\u001b[1;31m---------------------------------------------------------------------------\u001b[0m",
      "\u001b[1;31mKeyboardInterrupt\u001b[0m                         Traceback (most recent call last)",
      "\u001b[1;32m<ipython-input-24-170d5f52847e>\u001b[0m in \u001b[0;36m<module>\u001b[1;34m\u001b[0m\n\u001b[0;32m      1\u001b[0m \u001b[1;32mimport\u001b[0m \u001b[0mtime\u001b[0m\u001b[1;33m\u001b[0m\u001b[1;33m\u001b[0m\u001b[0m\n\u001b[0;32m      2\u001b[0m \u001b[1;32mwhile\u001b[0m \u001b[1;32mTrue\u001b[0m\u001b[1;33m:\u001b[0m\u001b[1;33m\u001b[0m\u001b[1;33m\u001b[0m\u001b[0m\n\u001b[1;32m----> 3\u001b[1;33m     \u001b[0mtime\u001b[0m\u001b[1;33m.\u001b[0m\u001b[0msleep\u001b[0m\u001b[1;33m(\u001b[0m\u001b[1;36m0.3\u001b[0m\u001b[1;33m)\u001b[0m\u001b[1;33m\u001b[0m\u001b[1;33m\u001b[0m\u001b[0m\n\u001b[0m",
      "\u001b[1;31mKeyboardInterrupt\u001b[0m: "
     ]
    }
   ],
   "source": [
    "import time\n",
    "while True:\n",
    "    time.sleep(0.3)"
   ]
  },
  {
   "cell_type": "markdown",
   "metadata": {},
   "source": [
    "### 걷다보니 신천역 삼 (Small) 14650"
   ]
  },
  {
   "cell_type": "code",
   "execution_count": 76,
   "metadata": {},
   "outputs": [
    {
     "name": "stdout",
     "output_type": "stream",
     "text": [
      "3\n",
      "6\n"
     ]
    }
   ],
   "source": [
    "n = int(input())\n",
    "\n",
    "if n == 1:\n",
    "    print(0)\n",
    "else:\n",
    "    print(2 * 3 ** (n - 2))"
   ]
  },
  {
   "cell_type": "markdown",
   "metadata": {},
   "source": [
    "### 걷다보니 신천역 삼 (Large) 14651"
   ]
  },
  {
   "cell_type": "code",
   "execution_count": 72,
   "metadata": {},
   "outputs": [
    {
     "name": "stdout",
     "output_type": "stream",
     "text": [
      "10\n",
      "13122\n"
     ]
    }
   ],
   "source": [
    "n = int(input())\n",
    "\n",
    "if n == 1:\n",
    "    print(0)\n",
    "else:\n",
    "    result = 2\n",
    "    for _ in range(n - 2):\n",
    "        result = (result * 3) % 1000000009\n",
    "        \n",
    "    print(result)"
   ]
  },
  {
   "cell_type": "markdown",
   "metadata": {},
   "source": [
    "### 퇴사 2 15486"
   ]
  },
  {
   "cell_type": "code",
   "execution_count": 5,
   "metadata": {},
   "outputs": [
    {
     "name": "stdout",
     "output_type": "stream",
     "text": [
      "10\n",
      "5 50\n",
      "4 40\n",
      "3 30\n",
      "2 20\n",
      "1 10\n",
      "1 10\n",
      "2 20\n",
      "3 30\n",
      "4 40\n",
      "5 50\n",
      "90\n"
     ]
    }
   ],
   "source": [
    "import heapq\n",
    "import sys\n",
    "input = sys.stdin.readline\n",
    "\n",
    "n = int(input().rstrip())\n",
    "\n",
    "heap = []\n",
    "current_max = 0\n",
    "for i in range(n):\n",
    "    new_value = tuple(map(int, input().rstrip().split()))\n",
    "    while True:\n",
    "        if not heap:\n",
    "            break\n",
    "            \n",
    "        value = heapq.heappop(heap)\n",
    "        if value[0] == i:\n",
    "            if current_max < value[1]:\n",
    "                current_max = value[1]\n",
    "        else:\n",
    "            heapq.heappush(heap, value)\n",
    "            break\n",
    "                \n",
    "    heapq.heappush(heap, (i + new_value[0], current_max + new_value[1]))\n",
    "\n",
    "\n",
    "while True:\n",
    "    if not heap:\n",
    "        break\n",
    "        \n",
    "    value = heapq.heappop(heap)\n",
    "    if value[0] == n:\n",
    "        if current_max < value[1]:\n",
    "            current_max = value[1]\n",
    "    else:\n",
    "        break\n",
    "\n",
    "print(current_max)"
   ]
  },
  {
   "cell_type": "code",
   "execution_count": null,
   "metadata": {},
   "outputs": [],
   "source": [
    "# 다른 사람 코드 (stkang9409, https://www.acmicpc.net/source/24899614)\n",
    "import sys\n",
    "input = sys.stdin.readline\n",
    "\n",
    "\n",
    "def solve():\n",
    "    N = int(input())\n",
    "    dp = [0]*(N+1)\n",
    "\n",
    "    mx = 0\n",
    "    for i in range(N):\n",
    "        t, p = map(int, input().split())\n",
    "        mx = max(mx, dp[i])\n",
    "\n",
    "        if i+t > N:\n",
    "            continue\n",
    "\n",
    "        if dp[i+t] < p+mx:\n",
    "            dp[i+t] = p + mx\n",
    "        # dp[i+t] = max(mx+p, dp[i+t])\n",
    "\n",
    "    print(max(dp))\n",
    "\n",
    "\n",
    "solve()"
   ]
  },
  {
   "cell_type": "markdown",
   "metadata": {},
   "source": [
    "### 달려달려 1757"
   ]
  },
  {
   "cell_type": "code",
   "execution_count": 42,
   "metadata": {},
   "outputs": [
    {
     "name": "stdout",
     "output_type": "stream",
     "text": [
      "7 3\n",
      "1\n",
      "[0, 0, 0]\n",
      "[0, 1, 0, 0]\n",
      "\n",
      "1\n",
      "[1, 0, 0]\n",
      "[0, 1, 2, 0]\n",
      "\n",
      "1\n",
      "[1, 2, 0]\n",
      "[1, 2, 2, 3]\n",
      "\n",
      "10\n",
      "[2, 2, 3]\n",
      "[1, 11, 12, 12]\n",
      "\n",
      "1\n",
      "[11, 12, 12]\n",
      "[2, 3, 12, 13]\n",
      "\n",
      "1\n",
      "[12, 12, 13]\n",
      "[11, 12, 4, 13]\n",
      "\n",
      "1\n",
      "[12, 13, 13]\n",
      "[12, 13, 13, 5]\n",
      "\n",
      "12\n"
     ]
    }
   ],
   "source": [
    "import sys\n",
    "# input = sys.stdin.readline\n",
    "\n",
    "n, m = map(int, input().rstrip().split())\n",
    "\n",
    "rest = [0] * m\n",
    "run = [0] * (m + 1)\n",
    "\n",
    "for _ in range(n):\n",
    "    value = int(input().rstrip())\n",
    "    \n",
    "    if rest[0] > run[0]:\n",
    "        run[0] = rest[0]\n",
    "    \n",
    "    for i in range(m - 1):\n",
    "        rest[i] = rest[i + 1]\n",
    "        \n",
    "    rest[m - 1] = 0\n",
    "    for i in range(1, m + 1):\n",
    "        rest[i - 1] = max(rest[i - 1], run[i])\n",
    "    \n",
    "    for i in range(m, 0, -1):\n",
    "        if i - 1 != 0 and run[i - 1] == 0:\n",
    "            continue\n",
    "\n",
    "        run[i] = run[i - 1] + value\n",
    "        \n",
    "        \n",
    "    print(rest)\n",
    "    print(run)\n",
    "    print()\n",
    "\n",
    "if rest[0] > run[0]:\n",
    "    run[0] = rest[0]\n",
    "        \n",
    "print(run[0])"
   ]
  },
  {
   "cell_type": "code",
   "execution_count": 25,
   "metadata": {},
   "outputs": [
    {
     "name": "stdout",
     "output_type": "stream",
     "text": [
      "5 1\n",
      "2\n",
      "1\n",
      "2\n",
      "3\n",
      "8\n",
      "[0, 2, 3, 5, 8, 16]\n",
      "[0, 0, 0, 0, 0, 0]\n",
      "[0, 0, 2, 0, 0, 0]\n",
      "[0, 0, 2, 2, 0, 0]\n",
      "[0, 0, 2, 2, 4, 0]\n",
      "[0, 0, 2, 2, 4, 5]\n",
      "5\n"
     ]
    }
   ],
   "source": [
    "# 다른 사람 코드 일부 수정 (iknoom1107, https://www.acmicpc.net/source/27428629)\n",
    "N, M = map(int, input().split())\n",
    "dp = [0] * (N + 1)\n",
    "D = [0] + [int(input()) for _ in range(N)]\n",
    "for i in range(N):\n",
    "    D[i + 1] += D[i]\n",
    "# solution\n",
    "print(D)\n",
    "for i in range(1, N + 1):\n",
    "    dp[i] = dp[i - 1]\n",
    "    for k in range(2, i + 1, 2):\n",
    "        if k // 2 > M + 1:\n",
    "            break\n",
    "        dp[i] = max(dp[i], dp[i - k] + (D[i - k // 2] - D[i - k]))\n",
    "    print(dp)\n",
    "print(dp[-1])"
   ]
  },
  {
   "cell_type": "code",
   "execution_count": 43,
   "metadata": {},
   "outputs": [
    {
     "name": "stdout",
     "output_type": "stream",
     "text": [
      "7 3\n",
      "1\n",
      "1\n",
      "1\n",
      "10\n",
      "1\n",
      "1\n",
      "1\n",
      "12\n"
     ]
    }
   ],
   "source": [
    "# 다른 사람 코드 (hdp0545, https://www.acmicpc.net/source/21487718)\n",
    "N, M = map(int, input().split())\n",
    "D = [int(input()) for _ in range(N)]\n",
    "DP = [[0 for _ in range(M + 1)] for _ in range(N)]\n",
    "for i in range(N):\n",
    "    for j in range(M + 1):\n",
    "        if j <= i+1:\n",
    "            if j == 0:\n",
    "                DP[i][j] = max([DP[i-c][c] for c in range(1, M + 1) if c <= i] + [DP[i-1][0]])\n",
    "            else:\n",
    "                DP[i][j] = DP[i-1][j-1] + D[i]\n",
    "print(DP[N-1][0])"
   ]
  },
  {
   "cell_type": "markdown",
   "metadata": {},
   "source": [
    "### 카드 구매하기 2 16194"
   ]
  },
  {
   "cell_type": "code",
   "execution_count": 58,
   "metadata": {},
   "outputs": [
    {
     "name": "stdout",
     "output_type": "stream",
     "text": [
      "4\n",
      "3 5 15 16\n",
      "10\n"
     ]
    }
   ],
   "source": [
    "n = int(input())\n",
    "tp = tuple(map(int, input().split()))\n",
    "\n",
    "dp = [0] * n\n",
    "\n",
    "for i in range(n):\n",
    "    min_cost = tp[i]\n",
    "    for j in range(i):\n",
    "        min_cost = min(min_cost, dp[j] + dp[i - 1 - j])\n",
    "    dp[i] = min_cost\n",
    "    \n",
    "print(dp[-1])"
   ]
  },
  {
   "cell_type": "markdown",
   "metadata": {},
   "source": [
    "### 연속합 1912 (다시 풀음)"
   ]
  },
  {
   "cell_type": "code",
   "execution_count": 63,
   "metadata": {},
   "outputs": [
    {
     "name": "stdout",
     "output_type": "stream",
     "text": [
      "1\n",
      "3\n",
      "3\n"
     ]
    }
   ],
   "source": [
    "n = int(input())\n",
    "tp = tuple(map(int, input().split()))\n",
    "\n",
    "dp = [0] * n\n",
    "dp[0] = tp[0]\n",
    "\n",
    "for i in range(1, n):\n",
    "    dp[i] = max(tp[i], tp[i] + dp[i - 1])\n",
    "    \n",
    "print(max(dp))"
   ]
  },
  {
   "cell_type": "markdown",
   "metadata": {},
   "source": [
    "### 연속합 2 13398"
   ]
  },
  {
   "cell_type": "code",
   "execution_count": 69,
   "metadata": {},
   "outputs": [
    {
     "name": "stdout",
     "output_type": "stream",
     "text": [
      "5\n",
      "-1 -2 -3 -4 -5\n",
      "-1\n"
     ]
    }
   ],
   "source": [
    "n = int(input())\n",
    "tp = tuple(map(int, input().split()))\n",
    "\n",
    "dp = [[0, 0] for _ in range(n)]\n",
    "dp[0] = [tp[0], 0]\n",
    "\n",
    "for i in range(1, n):\n",
    "    dp[i][0] = max(tp[i], dp[i - 1][0] + tp[i])\n",
    "    dp[i][1] = max(dp[i - 1][1] + tp[i], dp[i - 1][0])\n",
    "    \n",
    "dp[0][1] = -float('inf')\n",
    "result = max((max(v) for v in dp))\n",
    "print(result)"
   ]
  },
  {
   "cell_type": "markdown",
   "metadata": {},
   "source": [
    "### 크리보드 11058"
   ]
  },
  {
   "cell_type": "code",
   "execution_count": 75,
   "metadata": {},
   "outputs": [
    {
     "name": "stdout",
     "output_type": "stream",
     "text": [
      "11\n",
      "27\n"
     ]
    }
   ],
   "source": [
    "from copy import deepcopy\n",
    "\n",
    "n = int(input())\n",
    "\n",
    "dp = [(0, 0, 0)] # (screen, selected, buffer)\n",
    "max_screen = 0\n",
    "min_sc = 0\n",
    "min_st = 0\n",
    "min_bf = 0\n",
    "for _ in range(n):\n",
    "    new_dp = []\n",
    "    for sc, st, bf in dp:\n",
    "        if sc + bf > min_sc or st > min_st or bf > min_bf:\n",
    "            max_screen = max(max_screen, sc + bf)\n",
    "            new_dp.append((sc + bf, st, bf))\n",
    "            if sc + bf >= min_sc and st >= min_st and bf >= min_bf:\n",
    "                min_sc = sc + bf\n",
    "                min_st = st\n",
    "                min_bf = bf\n",
    "        if sc + 1 > min_sc or st > min_st or bf > min_bf:\n",
    "            max_screen = max(max_screen, sc + 1)\n",
    "            new_dp.append((sc + 1, st, bf))\n",
    "            if sc + 1 >= min_sc and st >= min_st and bf >= min_bf:\n",
    "                min_sc = sc + 1\n",
    "                min_st = st\n",
    "                min_bf = bf\n",
    "        if sc > min_sc or sc > min_st or bf > min_bf:\n",
    "            new_dp.append((sc, sc, bf))\n",
    "            if sc >= min_sc and sc >= min_st and bf >= min_bf:\n",
    "                min_sc = sc\n",
    "                min_st = sc\n",
    "                min_bf = bf\n",
    "        if sc > min_sc or st > min_st or st > min_bf:\n",
    "            new_dp.append((sc, st, st))\n",
    "            if sc >= min_sc and st >= min_st and st >= min_bf:\n",
    "                min_sc = sc\n",
    "                min_st = st\n",
    "                min_bf = st\n",
    "    for i in range(len(new_dp) - 1, -1, -1):\n",
    "        if new_dp[i][0] > min_sc or new_dp[i][1] > min_st or new_dp[i][2] > min_bf:\n",
    "            continue\n",
    "        if new_dp[i][0] == min_sc or new_dp[i][1] == min_st or new_dp[i][2] == min_bf:\n",
    "            continue\n",
    "        del new_dp[i]\n",
    "    dp = deepcopy(new_dp)\n",
    "    \n",
    "print(max_screen)"
   ]
  },
  {
   "cell_type": "code",
   "execution_count": null,
   "metadata": {},
   "outputs": [],
   "source": [
    "### 다른 사람 코드 (palt1230, https://www.acmicpc.net/source/27083609)\n",
    "n = int(input())\n",
    "\n",
    "dp = [0 for i in range(101)]\n",
    "\n",
    "dp[0] = 0\n",
    "dp[1] = 1\n",
    "dp[2] = 2\n",
    "for i in range(3, 101):\n",
    "    dp[i] = dp[i - 1] + 1\n",
    "    for j in range(i - 3, -1, -1):\n",
    "        dp[i] = max(dp[i], dp[j] * (i - j - 1))\n",
    "\n",
    "print(dp[n])"
   ]
  },
  {
   "cell_type": "markdown",
   "metadata": {},
   "source": [
    "### 괄호 10422"
   ]
  },
  {
   "cell_type": "code",
   "execution_count": 94,
   "metadata": {},
   "outputs": [
    {
     "name": "stdout",
     "output_type": "stream",
     "text": [
      "3\n",
      "1\n",
      "0\n",
      "2\n",
      "1\n",
      "4\n",
      "2\n"
     ]
    }
   ],
   "source": [
    "# 복잡하게 나가기 전에 초반 상황을 좀 더 확실하게 할 것\n",
    "\n",
    "dp = [0] * 5001\n",
    "\n",
    "dp[0] = 1\n",
    "dp[2] = 1\n",
    "\n",
    "mod = 1000000007\n",
    "\n",
    "for i in range(4, 5001, 2):\n",
    "    temp = 0\n",
    "    for j in range(0, i, 2):\n",
    "        temp += dp[j] * dp[i - 2 - j]\n",
    "        \n",
    "    temp %= mod\n",
    "    \n",
    "    dp[i] = temp\n",
    "    \n",
    "\n",
    "T = int(input())\n",
    "for _ in range(T):\n",
    "    print(dp[int(input())])"
   ]
  },
  {
   "cell_type": "markdown",
   "metadata": {},
   "source": [
    "### 파일 합치기 11066"
   ]
  },
  {
   "cell_type": "code",
   "execution_count": 6,
   "metadata": {},
   "outputs": [
    {
     "name": "stdout",
     "output_type": "stream",
     "text": [
      "2\n",
      "4\n",
      "40 30 30 50\n",
      "300\n",
      "15\n",
      "1 21 3 4 5 35 5 4 3 5 98 21 14 17 32\n",
      "826\n"
     ]
    }
   ],
   "source": [
    "import heapq\n",
    "\n",
    "T = int(input())\n",
    "for _ in range(T):\n",
    "    _ = int(input())\n",
    "    \n",
    "    heap = list(map(int, input().split()))\n",
    "    heapq.heapify(heap)\n",
    "\n",
    "    total_length = 0\n",
    "    while len(heap) >= 2:\n",
    "        a = heapq.heappop(heap)\n",
    "        b = heapq.heappop(heap)\n",
    "\n",
    "        total_length += a + b\n",
    "        heapq.heappush(heap, a + b)\n",
    "\n",
    "    print(total_length)"
   ]
  },
  {
   "cell_type": "code",
   "execution_count": 95,
   "metadata": {},
   "outputs": [
    {
     "name": "stdout",
     "output_type": "stream",
     "text": [
      "1 21 3 4 5 35 5 4 3 5 98 21 14 17 32\n"
     ]
    }
   ],
   "source": [
    "li = list(map(int, input().split()))"
   ]
  },
  {
   "cell_type": "code",
   "execution_count": null,
   "metadata": {},
   "outputs": [],
   "source": []
  },
  {
   "cell_type": "code",
   "execution_count": 116,
   "metadata": {},
   "outputs": [],
   "source": [
    "sum_li = [sum(v) for v in zip(li[1:], li[:-1])]"
   ]
  },
  {
   "cell_type": "code",
   "execution_count": 119,
   "metadata": {},
   "outputs": [
    {
     "data": {
      "text/plain": [
       "[22, 24, 7, 9, 40, 40, 9, 7, 8, 103, 119, 35, 31, 49]"
      ]
     },
     "execution_count": 119,
     "metadata": {},
     "output_type": "execute_result"
    }
   ],
   "source": [
    "sum_li"
   ]
  },
  {
   "cell_type": "code",
   "execution_count": 117,
   "metadata": {},
   "outputs": [],
   "source": [
    "min_value = float('inf')\n",
    "min_value_index = 0\n",
    "for i in range(len(sum_li)):\n",
    "    if sum_li[i] < min_value:\n",
    "        min_value = sum_li[i]\n",
    "        min_value_index = i"
   ]
  },
  {
   "cell_type": "code",
   "execution_count": 118,
   "metadata": {},
   "outputs": [
    {
     "data": {
      "text/plain": [
       "2"
      ]
     },
     "execution_count": 118,
     "metadata": {},
     "output_type": "execute_result"
    }
   ],
   "source": [
    "min_value_index"
   ]
  },
  {
   "cell_type": "code",
   "execution_count": 122,
   "metadata": {},
   "outputs": [
    {
     "name": "stdout",
     "output_type": "stream",
     "text": [
      "866\n"
     ]
    }
   ],
   "source": [
    "li = o_li[:]\n",
    "total_size = 0\n",
    "while len(li) > 1:\n",
    "    sum_li = [sum(v) for v in zip(li[1:], li[:-1])]\n",
    "    \n",
    "    min_value = float('inf')\n",
    "    min_value_index = 0\n",
    "    for i in range(len(sum_li)):\n",
    "        if sum_li[i] < min_value:\n",
    "            min_value = sum_li[i]\n",
    "            min_value_index = i\n",
    "    \n",
    "    total_size += sum_li[min_value_index]\n",
    "    del li[min_value_index + 1]\n",
    "    \n",
    "    li[min_value_index] = sum_li[min_value_index]\n",
    "    \n",
    "print(total_size)"
   ]
  },
  {
   "cell_type": "markdown",
   "metadata": {},
   "source": [
    "### 양팔저울 2629\n",
    "- 배낭 문제"
   ]
  },
  {
   "cell_type": "code",
   "execution_count": 1,
   "metadata": {},
   "outputs": [
    {
     "name": "stdout",
     "output_type": "stream",
     "text": [
      "2\n",
      "1 4\n",
      "2\n",
      "3 2\n",
      "Y N\n"
     ]
    }
   ],
   "source": [
    "n = int(input())\n",
    "weights = list(map(int, input().split()))\n",
    "\n",
    "m = int(input())\n",
    "balls = tuple(map(int, input().split()))\n",
    "\n",
    "max_weight = sum(weights)\n",
    "\n",
    "dp = [[1] + [0] * max_weight for _ in range(n + 1)]\n",
    "for i in range(0, n):\n",
    "    for j in range(0, max_weight + 1):\n",
    "        if dp[i][j] == 1:\n",
    "            dp[i + 1][j] = 1\n",
    "\n",
    "            if j + weights[i] <= max_weight:\n",
    "                dp[i + 1][j + weights[i]] = 1\n",
    "                \n",
    "            dp[i + 1][abs(j - weights[i])] = 1\n",
    "\n",
    "result = []\n",
    "for ball in balls:\n",
    "    if ball > max_weight:\n",
    "        result.append('N')\n",
    "    else:    \n",
    "        if dp[-1][ball] == 1:\n",
    "            result.append('Y')\n",
    "        else:\n",
    "            result.append('N')\n",
    "\n",
    "print(\" \".join(result))"
   ]
  },
  {
   "cell_type": "markdown",
   "metadata": {},
   "source": [
    "### 행렬 곱셈 순서 11049"
   ]
  },
  {
   "cell_type": "code",
   "execution_count": 2,
   "metadata": {},
   "outputs": [
    {
     "name": "stdout",
     "output_type": "stream",
     "text": [
      "3\n",
      "5 3\n",
      "3 2\n",
      "2 6\n",
      "90\n"
     ]
    }
   ],
   "source": [
    "n = int(input())\n",
    "\n",
    "li = [tuple(map(int, input().split())) for _ in range(n)]\n",
    "dp = [[0] * n for _ in range(n)]\n",
    "\n",
    "for term in range(1, n):\n",
    "    for start in range(0, n - term):\n",
    "        min_value = float('inf')\n",
    "        for left_part_end in range(start, start + term):\n",
    "            value = dp[start][left_part_end] + dp[left_part_end + 1][start + term] + li[start][0] * li[left_part_end][1] * li[start + term][1]\n",
    "            if value < min_value:\n",
    "                min_value = value\n",
    "                \n",
    "        dp[start][start + term] = min_value\n",
    "        \n",
    "print(dp[start][n - 1])"
   ]
  },
  {
   "cell_type": "code",
   "execution_count": null,
   "metadata": {},
   "outputs": [],
   "source": []
  }
 ],
 "metadata": {
  "kernelspec": {
   "display_name": "Python 3",
   "language": "python",
   "name": "python3"
  },
  "language_info": {
   "codemirror_mode": {
    "name": "ipython",
    "version": 3
   },
   "file_extension": ".py",
   "mimetype": "text/x-python",
   "name": "python",
   "nbconvert_exporter": "python",
   "pygments_lexer": "ipython3",
   "version": "3.7.3"
  }
 },
 "nbformat": 4,
 "nbformat_minor": 4
}
