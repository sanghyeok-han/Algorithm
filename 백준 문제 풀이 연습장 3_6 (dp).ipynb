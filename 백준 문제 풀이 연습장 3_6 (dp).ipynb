{
 "cells": [
  {
   "cell_type": "markdown",
   "metadata": {},
   "source": [
    "### 소가 길을 건너간 이유 8 14462"
   ]
  },
  {
   "cell_type": "code",
   "execution_count": null,
   "metadata": {},
   "outputs": [],
   "source": [
    "1     6   1\n",
    "2     5 1 1\n",
    "3     4 1 2\n",
    "4     3 1 2\n",
    "5     2 1 2\n",
    "6     1 1 2"
   ]
  },
  {
   "cell_type": "code",
   "execution_count": null,
   "metadata": {},
   "outputs": [],
   "source": [
    "-4 -3 -2 -1 0 1 2 3 4"
   ]
  },
  {
   "cell_type": "code",
   "execution_count": 1,
   "metadata": {},
   "outputs": [
    {
     "data": {
      "text/plain": [
       "9000000"
      ]
     },
     "execution_count": 1,
     "metadata": {},
     "output_type": "execute_result"
    }
   ],
   "source": [
    "1000 * 1000 * 9"
   ]
  },
  {
   "cell_type": "code",
   "execution_count": 7,
   "metadata": {},
   "outputs": [
    {
     "name": "stdout",
     "output_type": "stream",
     "text": [
      "5\n"
     ]
    }
   ],
   "source": [
    "import sys\n",
    "input = lambda: sys.stdin.readline().rstrip()\n",
    "\n",
    "n = int(input())\n",
    "a = [int(input()) for _ in range(n)]\n",
    "b = [int(input()) for _ in range(n)]\n",
    "\n",
    "na = [(v, i) for i, v in enumerate(a)]\n",
    "nb = [(v, i) for i, v in enumerate(b)]\n",
    "\n",
    "na.sort(key=lambda x: x[0])\n",
    "nb.sort(key=lambda x: x[0])\n",
    "\n",
    "ips = [[] for _ in range(n)]\n",
    "for av, ai in na:\n",
    "    for bv in range(av - 4, av + 5):\n",
    "        if bv < 1 or bv > n:\n",
    "            continue\n",
    "        ips[ai].append(nb[bv - 1][1])\n",
    "    \n",
    "dp = [0] * n\n",
    "for ai in range(n):\n",
    "    ndp = [0] * n\n",
    "    for bi in ips[ai]:\n",
    "        if bi == 0:\n",
    "            ndp[bi] = 1\n",
    "        else:\n",
    "            ndp[bi] = max(ndp[bi], max(dp[:bi]) + 1)\n",
    "    for i in range(n):\n",
    "        dp[i] = max(dp[i], ndp[i])\n",
    "        \n",
    "print(max(dp))"
   ]
  },
  {
   "cell_type": "markdown",
   "metadata": {},
   "source": [
    "### 인증된 쉬운 게임 22846"
   ]
  },
  {
   "cell_type": "code",
   "execution_count": 8,
   "metadata": {},
   "outputs": [
    {
     "data": {
      "text/plain": [
       "[1, 2, 3, 4, 6, 12]"
      ]
     },
     "execution_count": 8,
     "metadata": {},
     "output_type": "execute_result"
    }
   ],
   "source": [
    "def get_divisors(num):\n",
    "    divisors = set()\n",
    "    for mod in range(1, int(num ** 0.5) + 1):\n",
    "        if num % mod == 0:\n",
    "            divisors.add(mod)\n",
    "            divisors.add(num // mod)\n",
    "            \n",
    "    return sorted(divisors)\n",
    "\n",
    "get_divisors(12)"
   ]
  },
  {
   "cell_type": "code",
   "execution_count": null,
   "metadata": {},
   "outputs": [],
   "source": [
    "def recur(num):\n",
    "    iow = True # is other win\n",
    "    for div in get_divisors(num):\n",
    "        nnum = num + div\n",
    "        if nnum > k:\n",
    "            continue\n",
    "        temp_iow = recur(nnum)\n",
    "        if temp_iow == False:\n",
    "            iow = False\n",
    "            break\n",
    "    if iow:\n",
    "        return False\n",
    "    return True\n",
    "\n",
    "\n",
    "for k in range(1, 50):\n",
    "    print(k, recur(1))"
   ]
  },
  {
   "cell_type": "code",
   "execution_count": 28,
   "metadata": {},
   "outputs": [
    {
     "name": "stdout",
     "output_type": "stream",
     "text": [
      "7\n",
      "Ringo\n"
     ]
    }
   ],
   "source": [
    "n = int(input())\n",
    "\n",
    "if n == 2 or n == 6:\n",
    "    print('Kali')\n",
    "else:\n",
    "    print('Ringo')"
   ]
  },
  {
   "cell_type": "markdown",
   "metadata": {},
   "source": [
    "### 할로윈의 양아치 20303"
   ]
  },
  {
   "cell_type": "code",
   "execution_count": null,
   "metadata": {},
   "outputs": [],
   "source": [
    "import sys\n",
    "sys.setrecursionlimit(110000)\n",
    "input = lambda: sys.stdin.readline().rstrip()\n",
    "\n",
    "def find(v):\n",
    "    if parent[v] != v:\n",
    "        parent[v] = find(parent[v])\n",
    "    return parent[v]\n",
    "\n",
    "def union(a, b):\n",
    "    if a > b:\n",
    "        a, b = b, a\n",
    "        \n",
    "    values[a] += values[b]\n",
    "    populs[a] += populs[b]\n",
    "    parent[b] = a\n",
    "    \n",
    "n, m, k = map(int, input().split())\n",
    "values = list(map(int, input().split()))\n",
    "\n",
    "get_value = lambda x: int(x) - 1\n",
    "parent = list(range(n))\n",
    "populs = [1] * n\n",
    "\n",
    "for _ in range(m):\n",
    "    a, b = map(get_value, input().split())\n",
    "    \n",
    "    ra = find(a)\n",
    "    rb = find(b)\n",
    "    \n",
    "    if ra != rb:\n",
    "        union(ra, rb)\n",
    "    \n",
    "st = set()\n",
    "[st.add(find(i)) for i in range(n)]\n",
    "\n",
    "li = []\n",
    "for i in st:\n",
    "    li.append((populs[i], values[i]))\n",
    "    \n",
    "dp = [0] * k\n",
    "for cost, value in li:\n",
    "    for i in range(k - 1, cost - 1, -1):\n",
    "        dp[i] = max(dp[i], dp[i - cost] + value)\n",
    "        \n",
    "print(max(dp))"
   ]
  },
  {
   "cell_type": "code",
   "execution_count": 52,
   "metadata": {},
   "outputs": [
    {
     "name": "stdout",
     "output_type": "stream",
     "text": [
      "1 2\n",
      "4\n",
      "0 0\n",
      "1\n",
      "0 2\n",
      "2\n"
     ]
    }
   ],
   "source": [
    "import sys\n",
    "# input = lambda: sys.stdin.readline().rstrip()\n",
    "\n",
    "mod = int(1e9) + 7\n",
    "\n",
    "sx, sy = map(int, input().split())\n",
    "t = int(input())\n",
    "hx, hy = map(int, input().split())\n",
    "\n",
    "st = set()\n",
    "for _ in range(int(input())):\n",
    "    x, y = map(int, input().split())\n",
    "    st.add((x, y))\n",
    "\n",
    "to_index = dict()\n",
    "to_coord = dict()\n",
    "nxt = 0\n",
    "for nx in range(hx - t, hx + t + 1):\n",
    "    for ny in range(hy - t, hy + t + 1):\n",
    "        if abs(nx - hx) + abs(ny - hy) <= t and (nx, ny) not in st:\n",
    "            to_index[(nx, ny)] = nxt\n",
    "            to_coord[nxt] = (nx, ny)\n",
    "            nxt += 1\n",
    "n = nxt\n",
    "\n",
    "dx = [-1, 1, 0, 0]\n",
    "dy = [0, 0, -1, 1]\n",
    "\n",
    "adjs= [[] for _ in range(n)] # adjacents\n",
    "for index in range(n):\n",
    "    x, y = to_coord[index]\n",
    "    \n",
    "    for d in range(4):\n",
    "        nx = x + dx[d]\n",
    "        ny = y + dy[d]\n",
    "        if (nx, ny) in to_index and (nx, ny) != (hx, hy):\n",
    "            adjs[index].append(to_index[(nx, ny)])\n",
    "\n",
    "if (sx, sy) not in to_index:\n",
    "    print(0)\n",
    "else:\n",
    "    h_index = to_index[(hx, hy)]\n",
    "    \n",
    "    r = 0\n",
    "    dp = [0] * n\n",
    "    dp[to_index[(sx, sy)]] = 1\n",
    "    for _ in range(t):\n",
    "        ndp = [0] * n\n",
    "        for index in range(n):\n",
    "            temp = 0\n",
    "            for findex in adjs[index]:\n",
    "                temp += dp[findex]\n",
    "                temp %= mod\n",
    "            ndp[index] = temp\n",
    "        dp = ndp.copy()\n",
    "        r += dp[h_index]\n",
    "        r %= mod\n",
    "           \n",
    "    print(r)"
   ]
  },
  {
   "cell_type": "markdown",
   "metadata": {},
   "source": [
    "### Teamwork 16765"
   ]
  },
  {
   "cell_type": "code",
   "execution_count": 58,
   "metadata": {},
   "outputs": [
    {
     "name": "stdout",
     "output_type": "stream",
     "text": [
      "7 3\n",
      "1\n",
      "15\n",
      "7\n",
      "9\n",
      "2\n",
      "5\n",
      "10\n",
      "84\n"
     ]
    }
   ],
   "source": [
    "import sys\n",
    "input = lambda: sys.stdin.readline().rstrip()\n",
    "\n",
    "n, k = map(int, input().split())\n",
    "li = [int(input()) for _ in range(n)]\n",
    "\n",
    "dp = [0] * n\n",
    "dp[0] = li[0]\n",
    "for i in range(1, n):\n",
    "    cur_max = 0\n",
    "    count = 0\n",
    "    for j in range(i, -1, -1):\n",
    "        count += 1\n",
    "        cur_max = max(cur_max, li[j])\n",
    "        temp = cur_max * count\n",
    "        if j >= 1:\n",
    "            temp += dp[j - 1]\n",
    "        dp[i] = max(dp[i], temp)\n",
    "        if count == k:\n",
    "            break\n",
    "        \n",
    "print(dp[n - 1])"
   ]
  },
  {
   "cell_type": "markdown",
   "metadata": {},
   "source": [
    "### 변형 계단 수 18244"
   ]
  },
  {
   "cell_type": "code",
   "execution_count": null,
   "metadata": {},
   "outputs": [],
   "source": [
    "감, 그대로, 증"
   ]
  },
  {
   "cell_type": "code",
   "execution_count": null,
   "metadata": {},
   "outputs": [],
   "source": [
    "감감, 감, 그대로, 증, 증증"
   ]
  },
  {
   "cell_type": "code",
   "execution_count": 71,
   "metadata": {},
   "outputs": [
    {
     "name": "stdout",
     "output_type": "stream",
     "text": [
      "4\n",
      "50\n"
     ]
    }
   ],
   "source": [
    "from copy import deepcopy\n",
    "\n",
    "mod = 1000000007\n",
    "\n",
    "n = int(input())\n",
    "\n",
    "dp = [[0, 0, 1, 0, 0] for _ in range(10)]\n",
    "\n",
    "for _ in range(n - 1):\n",
    "    ndp = [[0, 0, 0, 0, 0] for _ in range(10)]\n",
    "    for num in range(10):\n",
    "        for fnum in [num - 1, num + 1]:\n",
    "            if fnum < 0 or fnum >= 10:\n",
    "                continue\n",
    "                \n",
    "            if num > fnum:\n",
    "                ndp[num][3] += sum(dp[fnum][:3])\n",
    "                ndp[num][3] %= mod\n",
    "                ndp[num][4] += dp[fnum][3]\n",
    "                ndp[num][4] %= mod\n",
    "            elif num < fnum:\n",
    "                ndp[num][0] += dp[fnum][1]\n",
    "                ndp[num][0] %= mod\n",
    "                ndp[num][1] += sum(dp[fnum][2:])\n",
    "                ndp[num][1] %= mod\n",
    "            else:\n",
    "                ndp[num][2] += sum(dp[fnum])\n",
    "                ndp[num][2] %= mod\n",
    "                \n",
    "    dp = deepcopy(ndp)\n",
    "        \n",
    "print(sum(sum(dp, [])) % mod)"
   ]
  },
  {
   "cell_type": "markdown",
   "metadata": {},
   "source": [
    "### 받아쓰기 20542"
   ]
  },
  {
   "cell_type": "code",
   "execution_count": 80,
   "metadata": {},
   "outputs": [
    {
     "name": "stdout",
     "output_type": "stream",
     "text": [
      "7 5\n",
      "village\n",
      "willy\n",
      "3\n"
     ]
    }
   ],
   "source": [
    "alen, blen = map(int, input().split())\n",
    "\n",
    "a = input()\n",
    "b = input()\n",
    "\n",
    "dp = [[0] * (blen + 1) for _ in range(alen + 1)]\n",
    "for i in range(alen + 1):\n",
    "    dp[i][0] = i\n",
    "for i in range(blen + 1):\n",
    "    dp[0][i] = i\n",
    "    \n",
    "    \n",
    "st1 = {'i', 'j', 'l'}\n",
    "st2 = {'v', 'w'}\n",
    "for ai in range(1, alen + 1):\n",
    "    for bi in range(1, blen + 1):\n",
    "        if a[ai - 1] == b[bi - 1] or a[ai - 1] == 'i' and b[bi - 1] in st1 or a[ai - 1] == 'v' and b[bi - 1] in st2:\n",
    "            dp[ai][bi] = dp[ai - 1][bi - 1]\n",
    "        else:\n",
    "            dp[ai][bi] = min(dp[ai - 1][bi - 1], dp[ai - 1][bi], dp[ai][bi - 1]) + 1\n",
    "            \n",
    "print(dp[-1][-1])"
   ]
  },
  {
   "cell_type": "markdown",
   "metadata": {},
   "source": [
    "### 준오는 심술쟁이!! 14437"
   ]
  },
  {
   "cell_type": "code",
   "execution_count": 81,
   "metadata": {},
   "outputs": [
    {
     "data": {
      "text/plain": [
       "225000000"
      ]
     },
     "execution_count": 81,
     "metadata": {},
     "output_type": "execute_result"
    }
   ],
   "source": [
    "1 2 3 0 13   단순 배치 차이(25를 넘길 순 없음)\n",
    "             각각 0~25"
   ]
  },
  {
   "cell_type": "code",
   "execution_count": 89,
   "metadata": {},
   "outputs": [
    {
     "name": "stdout",
     "output_type": "stream",
     "text": [
      "2\n",
      "hanjo\n",
      "15\n"
     ]
    }
   ],
   "source": [
    "mod = 1000000007\n",
    "\n",
    "k = int(input())\n",
    "s = input()\n",
    "\n",
    "n = len(s)\n",
    "\n",
    "dp = [0] * (k + 1)\n",
    "dp[0] = 1\n",
    "\n",
    "for _ in range(n):\n",
    "    for i in range(k, -1, -1):\n",
    "        for to_minus in range(1, 26):\n",
    "            if i - to_minus < 0:\n",
    "                break\n",
    "            dp[i] += dp[i - to_minus]\n",
    "            dp[i] %= mod\n",
    "            \n",
    "print(dp[k])"
   ]
  },
  {
   "cell_type": "markdown",
   "metadata": {},
   "source": [
    "### 증가하는 수 10573"
   ]
  },
  {
   "cell_type": "code",
   "execution_count": null,
   "metadata": {},
   "outputs": [],
   "source": [
    "1 2 3 4 5\n",
    "\n",
    "1 2 3 4 5\n",
    "1 2 3 4 4~5\n",
    "1 2 3 3 9\n",
    "1 1 1~9"
   ]
  },
  {
   "cell_type": "code",
   "execution_count": null,
   "metadata": {},
   "outputs": [],
   "source": [
    "1 3 5\n",
    "\n",
    "1 3 3~5\n",
    "1 2 1자리\n",
    "1 1 1자리\n",
    "\n"
   ]
  },
  {
   "cell_type": "code",
   "execution_count": null,
   "metadata": {},
   "outputs": [],
   "source": [
    "0 1 0\n",
    "1 1 0~1합\n",
    "2 1 0~2합\n",
    "3   0~3합\n",
    "4   0~4합"
   ]
  },
  {
   "cell_type": "code",
   "execution_count": null,
   "metadata": {},
   "outputs": [],
   "source": [
    "1 2 4\n",
    "\n",
    "1 2 3\n",
    "1 2 2"
   ]
  },
  {
   "cell_type": "code",
   "execution_count": null,
   "metadata": {},
   "outputs": [],
   "source": [
    "1 2 3\n",
    "1 2 2\n",
    "\n",
    "1 1 9\n",
    "1 1 8\n",
    "1 1 7\n",
    "1 1 6\n",
    "1 1 5"
   ]
  },
  {
   "cell_type": "code",
   "execution_count": null,
   "metadata": {},
   "outputs": [],
   "source": [
    "1 5 8\n",
    "\n",
    "\n",
    "1 5 5이상 8이하\n",
    "\n",
    "1 4 4이상\n",
    "\n",
    "\n",
    "0 0이상"
   ]
  },
  {
   "cell_type": "code",
   "execution_count": null,
   "metadata": {},
   "outputs": [],
   "source": [
    "1 4 6 8\n",
    "\n",
    "1      4     6      6이상8이하\n",
    "1      4     4~5    이상조건만\n",
    "1   0~3   이상조건만\n",
    "0 이상조건만"
   ]
  },
  {
   "cell_type": "code",
   "execution_count": null,
   "metadata": {},
   "outputs": [],
   "source": [
    "0\n",
    "1\n",
    "2\n",
    "3\n",
    "4 1\n",
    "5 1\n",
    "6\n",
    "7\n",
    "8\n",
    "9"
   ]
  },
  {
   "cell_type": "code",
   "execution_count": 50,
   "metadata": {},
   "outputs": [
    {
     "name": "stdout",
     "output_type": "stream",
     "text": [
      "2\n",
      "2\n"
     ]
    }
   ],
   "source": [
    "import sys\n",
    "input = lambda: sys.stdin.readline().rstrip()\n",
    "\n",
    "for _ in range(int(input())):\n",
    "    li = list(map(int, input()))\n",
    "    n = len(li)\n",
    "\n",
    "    ip = True\n",
    "    for i in range(n - 1):\n",
    "        if li[i] > li[i + 1]:\n",
    "            ip = False\n",
    "            break\n",
    "\n",
    "    if not ip:\n",
    "        print(-1)\n",
    "    elif n == 1:\n",
    "        print(li[0])\n",
    "    else:\n",
    "        cur_total = li[-1] - li[-2]\n",
    "        for i in range(n - 2, -1, -1):\n",
    "            if i - 1 >= 0:\n",
    "                min_v = li[i - 1]\n",
    "            else:\n",
    "                min_v = 0\n",
    "\n",
    "            dp = [[0] * 10 for _ in range(n - i)]\n",
    "            for pos in range(min_v, li[i]):\n",
    "                dp[0][pos] = 1\n",
    "\n",
    "            for j in range(1, len(dp)):\n",
    "                sv = 0\n",
    "                for k in range(10):\n",
    "                    sv += dp[j - 1][k]\n",
    "                    dp[j][k] = sv\n",
    "\n",
    "            cur_total += sum(dp[-1])\n",
    "\n",
    "        print(cur_total)"
   ]
  },
  {
   "cell_type": "code",
   "execution_count": 46,
   "metadata": {},
   "outputs": [
    {
     "name": "stdout",
     "output_type": "stream",
     "text": [
      "1\n"
     ]
    }
   ],
   "source": [
    "num = 1\n",
    "\n",
    "c = 0\n",
    "for i in range(num):\n",
    "    li = list(map(int, str(i)))\n",
    "    n = len(li)\n",
    "    \n",
    "    ip = True\n",
    "    for i in range(n - 1):\n",
    "        if li[i] > li[i + 1]:\n",
    "            ip = False\n",
    "            break\n",
    "            \n",
    "    if ip:\n",
    "        c += 1\n",
    "        \n",
    "print(c)"
   ]
  },
  {
   "cell_type": "code",
   "execution_count": 45,
   "metadata": {},
   "outputs": [
    {
     "name": "stdout",
     "output_type": "stream",
     "text": [
      "1 1\n",
      "1 0\n",
      "2 2\n",
      "2 1\n",
      "3 3\n",
      "3 2\n",
      "4 4\n",
      "4 3\n",
      "5 5\n",
      "5 4\n",
      "6 6\n",
      "6 5\n",
      "7 7\n",
      "7 6\n",
      "8 8\n",
      "8 7\n",
      "9 9\n",
      "9 8\n",
      "10 10\n",
      "10 -1\n",
      "11 10\n",
      "11 10\n",
      "12 11\n",
      "12 11\n",
      "13 12\n",
      "13 12\n",
      "14 13\n",
      "14 13\n",
      "15 14\n",
      "15 14\n",
      "16 15\n",
      "16 15\n",
      "17 16\n",
      "17 16\n",
      "18 17\n",
      "18 17\n",
      "19 18\n",
      "19 18\n",
      "20 19\n",
      "20 -1\n",
      "21 19\n",
      "21 -1\n",
      "22 19\n",
      "22 19\n",
      "23 20\n",
      "23 20\n",
      "24 21\n",
      "24 21\n",
      "25 22\n",
      "25 22\n",
      "26 23\n",
      "26 23\n",
      "27 24\n",
      "27 24\n",
      "28 25\n",
      "28 25\n",
      "29 26\n",
      "29 26\n",
      "30 27\n",
      "30 -1\n",
      "31 27\n",
      "31 -1\n",
      "32 27\n",
      "32 -1\n",
      "33 27\n",
      "33 27\n",
      "34 28\n",
      "34 28\n",
      "35 29\n",
      "35 29\n",
      "36 30\n",
      "36 30\n",
      "37 31\n",
      "37 31\n",
      "38 32\n",
      "38 32\n",
      "39 33\n",
      "39 33\n",
      "40 34\n",
      "40 -1\n",
      "41 34\n",
      "41 -1\n",
      "42 34\n",
      "42 -1\n",
      "43 34\n",
      "43 -1\n",
      "44 34\n",
      "44 34\n",
      "45 35\n",
      "45 35\n",
      "46 36\n",
      "46 36\n",
      "47 37\n",
      "47 37\n",
      "48 38\n",
      "48 38\n",
      "49 39\n",
      "49 39\n",
      "50 40\n",
      "50 -1\n",
      "51 40\n",
      "51 -1\n",
      "52 40\n",
      "52 -1\n",
      "53 40\n",
      "53 -1\n",
      "54 40\n",
      "54 -1\n",
      "55 40\n",
      "55 40\n",
      "56 41\n",
      "56 41\n",
      "57 42\n",
      "57 42\n",
      "58 43\n",
      "58 43\n",
      "59 44\n",
      "59 44\n",
      "60 45\n",
      "60 -1\n",
      "61 45\n",
      "61 -1\n",
      "62 45\n",
      "62 -1\n",
      "63 45\n",
      "63 -1\n",
      "64 45\n",
      "64 -1\n",
      "65 45\n",
      "65 -1\n",
      "66 45\n",
      "66 45\n",
      "67 46\n",
      "67 46\n",
      "68 47\n",
      "68 47\n",
      "69 48\n",
      "69 48\n",
      "70 49\n",
      "70 -1\n",
      "71 49\n",
      "71 -1\n",
      "72 49\n",
      "72 -1\n",
      "73 49\n",
      "73 -1\n",
      "74 49\n",
      "74 -1\n",
      "75 49\n",
      "75 -1\n",
      "76 49\n",
      "76 -1\n",
      "77 49\n",
      "77 49\n",
      "78 50\n",
      "78 50\n",
      "79 51\n",
      "79 51\n",
      "80 52\n",
      "80 -1\n",
      "81 52\n",
      "81 -1\n",
      "82 52\n",
      "82 -1\n",
      "83 52\n",
      "83 -1\n",
      "84 52\n",
      "84 -1\n",
      "85 52\n",
      "85 -1\n",
      "86 52\n",
      "86 -1\n",
      "87 52\n",
      "87 -1\n",
      "88 52\n",
      "88 52\n",
      "89 53\n",
      "89 53\n",
      "90 54\n",
      "90 -1\n",
      "91 54\n",
      "91 -1\n",
      "92 54\n",
      "92 -1\n",
      "93 54\n",
      "93 -1\n",
      "94 54\n",
      "94 -1\n",
      "95 54\n",
      "95 -1\n",
      "96 54\n",
      "96 -1\n",
      "97 54\n",
      "97 -1\n",
      "98 54\n",
      "98 -1\n",
      "99 54\n",
      "99 54\n"
     ]
    }
   ],
   "source": [
    "for num in range(1, 100):\n",
    "    snum = str(num)\n",
    "    \n",
    "    c = 0\n",
    "    for i in range(num):\n",
    "        li = list(map(int, str(i)))\n",
    "        n = len(li)\n",
    "\n",
    "        ip = True\n",
    "        for i in range(n - 1):\n",
    "            if li[i] > li[i + 1]:\n",
    "                ip = False\n",
    "                break\n",
    "\n",
    "        if ip:\n",
    "            c += 1\n",
    "\n",
    "    print(num, c)\n",
    "\n",
    "\n",
    "    li = list(map(int, snum))\n",
    "    n = len(li)\n",
    "\n",
    "    ip = True\n",
    "    for i in range(n - 1):\n",
    "        if li[i] > li[i + 1]:\n",
    "            ip = False\n",
    "            break\n",
    "\n",
    "    if not ip:\n",
    "        print(num, -1)\n",
    "    elif n == 1:\n",
    "        print(num, li[0] - 1)\n",
    "    else:\n",
    "        cur_total = li[-1] - li[-2]\n",
    "        for i in range(n - 2, -1, -1):\n",
    "            if i - 1 >= 0:\n",
    "                min_v = li[i - 1]\n",
    "            else:\n",
    "                min_v = 0\n",
    "\n",
    "            dp = [[0] * 10 for _ in range(n - i)]\n",
    "            for pos in range(min_v, li[i]):\n",
    "                dp[0][pos] = 1\n",
    "\n",
    "            for j in range(1, len(dp)):\n",
    "                sv = 0\n",
    "                for k in range(10):\n",
    "                    sv += dp[j - 1][k]\n",
    "                    dp[j][k] = sv\n",
    "\n",
    "            cur_total += sum(dp[-1])\n",
    "\n",
    "        print(num, cur_total)"
   ]
  },
  {
   "cell_type": "markdown",
   "metadata": {},
   "source": [
    "### What’s Mine is Mine 17979"
   ]
  },
  {
   "cell_type": "code",
   "execution_count": 51,
   "metadata": {},
   "outputs": [
    {
     "data": {
      "text/plain": [
       "18"
      ]
     },
     "execution_count": 51,
     "metadata": {},
     "output_type": "execute_result"
    }
   ],
   "source": [
    "0 1 2 3 4 5 6 7 8 9 10\n",
    "          (2, 1)"
   ]
  },
  {
   "cell_type": "code",
   "execution_count": null,
   "metadata": {},
   "outputs": [],
   "source": [
    "2 5 1\n",
    "4 5 2\n",
    "4 6 1\n",
    "6 10 1\n",
    "7 11 2"
   ]
  },
  {
   "cell_type": "code",
   "execution_count": null,
   "metadata": {},
   "outputs": [],
   "source": [
    "           \n",
    "1  2  3  4  5     6  7  8  9  10  11\n",
    "           dp[1]+1\n",
    "         "
   ]
  },
  {
   "cell_type": "code",
   "execution_count": null,
   "metadata": {},
   "outputs": [],
   "source": [
    "import sys\n",
    "input = lambda: sys.stdin.readline().rstrip()\n",
    "\n",
    "m, n = map(int, input().split())\n",
    "prices = [0] + [int(input()) for _ in range(m)]\n",
    "ends = [[] for _ in range(15000)]\n",
    "for _ in range(n):\n",
    "    s, e, tp = map(int, input().split())\n",
    "    \n",
    "    price = prices[tp]\n",
    "    ends[e].append((s, (e - s) * price))\n",
    "    \n",
    "dp = [0] * 15000\n",
    "for e in range(1, 15000):\n",
    "    dp[e] = dp[e - 1]\n",
    "    for s, value in ends[e]:\n",
    "        dp[e] = max(dp[e], dp[s] + value)\n",
    "        \n",
    "print(dp[-1])"
   ]
  },
  {
   "cell_type": "code",
   "execution_count": null,
   "metadata": {},
   "outputs": [],
   "source": [
    "1 5 2*4 8\n",
    "3 8 1*5 5\n",
    "2 4 3*2 6\n",
    "3 9 2*6 12\n",
    "4 10 5*6 30\n",
    "7 11 4*4 16\n",
    "5 7 3*2 6\n"
   ]
  },
  {
   "cell_type": "code",
   "execution_count": null,
   "metadata": {},
   "outputs": [],
   "source": [
    "1 5 8\n",
    "3 8 5\n",
    "2 4 6\n",
    "3 9 12\n",
    "4 10 30\n",
    "7 11 16\n",
    "5 7 6"
   ]
  },
  {
   "cell_type": "markdown",
   "metadata": {},
   "source": [
    "### 섬 여행 14619"
   ]
  },
  {
   "cell_type": "code",
   "execution_count": null,
   "metadata": {},
   "outputs": [],
   "source": [
    "import sys\n",
    "input = lambda: sys.stdin.readline().rstrip()\n",
    "\n",
    "inf = 10001\n",
    "\n",
    "n, m = map(int, input().split())\n",
    "\n",
    "dp = [[inf] * n for _ in range(501)]\n",
    "dp[0] = list(map(int, input().split()))\n",
    "\n",
    "get_value = lambda x: int(x) - 1\n",
    "li = [[] for _ in range(n)]\n",
    "for _ in range(m):\n",
    "    a, b = map(get_value, input().split())\n",
    "    \n",
    "    li[a].append(b)\n",
    "    li[b].append(a)\n",
    "    \n",
    "for i in range(1, 501):\n",
    "    for v in range(n):\n",
    "        temp = inf\n",
    "        for fv in li[v]:\n",
    "            temp = min(temp, dp[i - 1][fv])\n",
    "            \n",
    "        dp[i][v] = temp\n",
    "        \n",
    "for _ in range(int(input())):\n",
    "    a, k = map(int, input().split())\n",
    "    a -= 1\n",
    "    \n",
    "    r = dp[k][a]\n",
    "    \n",
    "    if r == inf:\n",
    "        print(-1)\n",
    "    else:\n",
    "        print(r)"
   ]
  },
  {
   "cell_type": "markdown",
   "metadata": {},
   "source": [
    "### 행렬 찾기 1687"
   ]
  },
  {
   "cell_type": "code",
   "execution_count": 61,
   "metadata": {},
   "outputs": [
    {
     "data": {
      "text/plain": [
       "36926037"
      ]
     },
     "execution_count": 61,
     "metadata": {},
     "output_type": "execute_result"
    }
   ],
   "source": [
    "000    123   111  \n",
    "001    120   220\n",
    "100    012   031"
   ]
  },
  {
   "cell_type": "code",
   "execution_count": 95,
   "metadata": {},
   "outputs": [
    {
     "name": "stdout",
     "output_type": "stream",
     "text": [
      "[[[0, 0], [1, 1], [2, 1]], [[1, 1], [0, 0], [0, 0]], [[0, 0], [0, 0], [0, 0]]]\n"
     ]
    }
   ],
   "source": [
    "# n, m = map(int, input().split())\n",
    "# li = [list(map(int, input())) for _ in range(n)]\n",
    "\n",
    "dp_row = [[0] * m for _ in range(n)]\n",
    "dp_col = [[0] * m for _ in range(n)]\n",
    "\n",
    "for i in range(n):\n",
    "    cur = 0\n",
    "    for j in range(m):\n",
    "        if li[i][j] == 0:\n",
    "            cur += 1\n",
    "        else:\n",
    "            cur = 0\n",
    "        \n",
    "        dp_row[i][j] = cur\n",
    "        \n",
    "for j in range(m):\n",
    "    cur = 0\n",
    "    for i in range(n):\n",
    "        if li[i][j] == 0:\n",
    "            cur += 1\n",
    "        else:\n",
    "            cur = 0\n",
    "        \n",
    "        dp_col[i][j] = cur\n",
    "        \n",
    "dp = [[[0] * 2 for _ in range(m)] for _ in range(n)]\n",
    "for i in range(n):\n",
    "    if li[i][0] == 1:\n",
    "        dp[i][0] = [0, 0]\n",
    "    else:\n",
    "        dp[i][0] = [1, dp_col[i][0]]\n",
    "for j in range(m):\n",
    "    if li[0][j] == 1:\n",
    "        dp[0][j] = [0, 0]\n",
    "    else:\n",
    "        dp[0][j] = [dp_row[0][j], 1]\n",
    "  \n",
    "print(dp)\n",
    "\n",
    "# max_r = 0\n",
    "# for i in range(1, n):\n",
    "#     for j in range(1, m):\n",
    "#         temp = max(dp_row[i][j], dp_col[i][j])\n",
    "        \n",
    "        \n",
    "# print(max_r)"
   ]
  },
  {
   "cell_type": "code",
   "execution_count": null,
   "metadata": {},
   "outputs": [],
   "source": [
    "3 3\n",
    "100\n",
    "000\n",
    "111"
   ]
  },
  {
   "cell_type": "code",
   "execution_count": 96,
   "metadata": {},
   "outputs": [
    {
     "name": "stdout",
     "output_type": "stream",
     "text": [
      "[0, 1, 2]\n",
      "[1, 2, 3]\n",
      "[0, 0, 0]\n"
     ]
    }
   ],
   "source": [
    "for v in dp_row:\n",
    "    print(v)"
   ]
  },
  {
   "cell_type": "code",
   "execution_count": 97,
   "metadata": {},
   "outputs": [
    {
     "name": "stdout",
     "output_type": "stream",
     "text": [
      "[0, 1, 1]\n",
      "[1, 2, 2]\n",
      "[0, 0, 0]\n"
     ]
    }
   ],
   "source": [
    "for v in dp_col:\n",
    "    print(v)"
   ]
  },
  {
   "cell_type": "code",
   "execution_count": 99,
   "metadata": {},
   "outputs": [
    {
     "name": "stdout",
     "output_type": "stream",
     "text": [
      "[[0, 0], [1, 1], [2, 1]]\n",
      "[[1, 1], [0, 0], [0, 0]]\n",
      "[[0, 0], [0, 0], [0, 0]]\n"
     ]
    }
   ],
   "source": [
    "for v in dp:\n",
    "    print(v)"
   ]
  },
  {
   "cell_type": "code",
   "execution_count": null,
   "metadata": {},
   "outputs": [],
   "source": [
    "\n",
    "10100\n",
    "00000\n",
    "11110"
   ]
  },
  {
   "cell_type": "code",
   "execution_count": null,
   "metadata": {},
   "outputs": [],
   "source": [
    "FTT\n",
    "T\n",
    "F"
   ]
  },
  {
   "cell_type": "markdown",
   "metadata": {},
   "source": [
    "### 트리의 가중치 1289"
   ]
  },
  {
   "cell_type": "code",
   "execution_count": null,
   "metadata": {},
   "outputs": [],
   "source": [
    "a b c d\n",
    "\n",
    "a b(1 + a)   c(1 + b(1 + a))  d(c(1 + b(1 + a)))"
   ]
  },
  {
   "cell_type": "code",
   "execution_count": null,
   "metadata": {},
   "outputs": [],
   "source": [
    "a b(1 + a) d   b(1 + a) * c(1 + d)"
   ]
  },
  {
   "cell_type": "code",
   "execution_count": 8,
   "metadata": {},
   "outputs": [
    {
     "name": "stdout",
     "output_type": "stream",
     "text": [
      "2\n",
      "1 2 10\n",
      "10\n"
     ]
    }
   ],
   "source": [
    "import sys\n",
    "input = lambda: sys.stdin.readline().rstrip()\n",
    "\n",
    "## PYRIVAL BOOTSTRAP\n",
    "# https://github.com/cheran-senthil/PyRival/blob/master/pyrival/misc/bootstrap.py\n",
    "# This decorator allows for recursion without actually doing recursion\n",
    "## @bootstrap, yield when getting and returning value in recursive functions, end of functions\n",
    "from types import GeneratorType\n",
    "\n",
    "def bootstrap(f, stack=[]):\n",
    "    def wrappedfunc(*args, **kwargs):\n",
    "        if stack:\n",
    "            return f(*args, **kwargs)\n",
    "        else:\n",
    "            to = f(*args, **kwargs)\n",
    "            while True:\n",
    "                if type(to) is GeneratorType:\n",
    "                    stack.append(to)\n",
    "                    to = next(to)\n",
    "                else:\n",
    "                    stack.pop()\n",
    "                    if not stack:\n",
    "                        break\n",
    "                    to = stack[-1].send(to)\n",
    "            return to\n",
    "    return wrappedfunc\n",
    "\n",
    "mod = 1000000007\n",
    "\n",
    "@bootstrap\n",
    "def dfs(value):\n",
    "    global r\n",
    "    \n",
    "    vt[value] = True\n",
    "    \n",
    "    temp = []\n",
    "    for v, w in li[value]:\n",
    "        if not vt[v]:\n",
    "            temp.append(w * (1 + (yield dfs(v))) % mod)\n",
    "                        \n",
    "    if not temp:\n",
    "        yield 0\n",
    "    else:               \n",
    "        stemp = []\n",
    "        cumul = 0\n",
    "        for v in temp:\n",
    "            cumul += v\n",
    "            cumul %= mod\n",
    "            stemp.append(cumul)\n",
    "\n",
    "        r += stemp[-1]\n",
    "        r %= mod\n",
    "        for i in range(len(temp) - 1):\n",
    "            r += temp[i] * (stemp[-1] - stemp[i])\n",
    "            r %= mod\n",
    "        yield stemp[-1]\n",
    "    \n",
    "n = int(input())\n",
    "li = [[] for _ in range(n + 1)]\n",
    "for _ in range(n - 1):\n",
    "    a, b, w = map(int, input().split())\n",
    "    \n",
    "    li[a].append((b, w))\n",
    "    li[b].append((a, w))\n",
    "    \n",
    "r = 0\n",
    "vt = [False] * (n + 1)\n",
    "dfs(1)\n",
    "r %= mod\n",
    "    \n",
    "print(r)"
   ]
  },
  {
   "cell_type": "code",
   "execution_count": 28,
   "metadata": {},
   "outputs": [
    {
     "name": "stdout",
     "output_type": "stream",
     "text": [
      "5\n",
      "24\n"
     ]
    }
   ],
   "source": [
    "li = [[1, 7], [0, 2, 7], [1, 3, 6, 7], [2, 4, 6], [3, 5], [4, 6], [2, 3, 5, 7], [0, 1, 2, 6]]\n",
    "\n",
    "d = int(input())\n",
    "\n",
    "if d == 1:\n",
    "    print(0)\n",
    "else:\n",
    "    mod = 1000000007\n",
    "\n",
    "    dp = [[0] * d for _ in range(8)]\n",
    "    dp[1][1] = 1\n",
    "    dp[7][1] = 1\n",
    "\n",
    "    for i in range(2, d):\n",
    "        for node_num in range(8):\n",
    "\n",
    "            sum_value = 0\n",
    "            for v in li[node_num]:\n",
    "                sum_value += dp[v][i - 1]\n",
    "\n",
    "            dp[node_num][i] = sum_value % mod\n",
    "\n",
    "    print((dp[1][d - 1] + dp[7][d - 1]) % mod)"
   ]
  },
  {
   "cell_type": "code",
   "execution_count": 13,
   "metadata": {},
   "outputs": [
    {
     "name": "stdout",
     "output_type": "stream",
     "text": [
      "[0, 0, 2, 2, 11, 24]\n",
      "[0, 1, 1, 5, 11, 41]\n",
      "[0, 0, 2, 3, 17, 43]\n",
      "[0, 0, 0, 3, 6, 34]\n",
      "[0, 0, 0, 0, 4, 9]\n",
      "[0, 0, 0, 1, 3, 17]\n",
      "[0, 0, 1, 3, 13, 39]\n",
      "[0, 1, 1, 6, 13, 52]\n"
     ]
    }
   ],
   "source": [
    "for v in dp:\n",
    "    print(v)"
   ]
  },
  {
   "cell_type": "markdown",
   "metadata": {},
   "source": [
    "https://www.acmicpc.net/problem/14238 출근 기록"
   ]
  },
  {
   "cell_type": "code",
   "execution_count": null,
   "metadata": {},
   "outputs": [],
   "source": [
    "ABC\n",
    "222"
   ]
  },
  {
   "cell_type": "code",
   "execution_count": null,
   "metadata": {},
   "outputs": [],
   "source": [
    "CBACBA"
   ]
  },
  {
   "cell_type": "code",
   "execution_count": null,
   "metadata": {},
   "outputs": [],
   "source": [
    "ABC\n",
    "121\n",
    "\n",
    "BCBA\n",
    "\n",
    "\n",
    "ABC\n",
    "142\n",
    "\n",
    "BCBABCB"
   ]
  },
  {
   "cell_type": "code",
   "execution_count": 71,
   "metadata": {},
   "outputs": [
    {
     "name": "stdout",
     "output_type": "stream",
     "text": [
      "ABCBACBACBABCBACBACBABCBACBACBABCBACBACBABCBACBACB\n",
      "ABCABCABCABCABCABCABCABCABCABCABCBABCBABCBABCBABCB\n"
     ]
    }
   ],
   "source": [
    "# B0C0, B0C1, B0C2, B1C0, B1C1\n",
    "cond_not_b = {3, 4}\n",
    "cond_not_c = {1, 2, 4}\n",
    "\n",
    "def get_tp(cur):\n",
    "    if not cur:\n",
    "        return 0\n",
    "    if len(cur) == 1:\n",
    "        if cur[0] == 'A':\n",
    "            return 0\n",
    "        elif cur[0] == 'B':\n",
    "            return 3\n",
    "        elif cur[0] == 'C':\n",
    "            return 1\n",
    "    else:\n",
    "        if cur[-2] == 'A' and cur[-1] == 'A':\n",
    "            return 0\n",
    "        elif cur[-2] == 'A' and cur[-1] == 'B':\n",
    "            return 3\n",
    "        elif cur[-2] == 'A' and cur[-1] == 'C':\n",
    "            return 2\n",
    "        elif cur[-2] == 'B' and cur[-1] == 'A':\n",
    "            return 0\n",
    "        elif cur[-2] == 'B' and cur[-1] == 'C':\n",
    "            return 2\n",
    "        elif cur[-2] == 'C' and cur[-1] == 'A':\n",
    "            return 1\n",
    "        elif cur[-2] == 'C' and cur[-1] == 'B':\n",
    "            return 4\n",
    "\n",
    "def recur(cur, a, b, c):\n",
    "    global result\n",
    "    \n",
    "    if result:\n",
    "        return\n",
    "    \n",
    "    if a == b == c == 0:\n",
    "        result = cur.copy()\n",
    "        return\n",
    "    \n",
    "    tp = get_tp(cur)\n",
    "    if dp[a][b][c][tp]:\n",
    "        return\n",
    "    dp[a][b][c][tp] = True\n",
    "        \n",
    "    if a:\n",
    "        cur.append('A')\n",
    "              \n",
    "        recur(cur, a - 1, b, c)\n",
    "        cur.pop()\n",
    "    if b:\n",
    "        if tp not in cond_not_b:   \n",
    "            cur.append('B')\n",
    "            recur(cur, a, b - 1, c)\n",
    "            cur.pop()\n",
    "    if c:\n",
    "        if tp not in cond_not_c:\n",
    "            cur.append('C')\n",
    "            recur(cur, a, b, c - 1)\n",
    "            cur.pop()\n",
    "\n",
    "s = input()\n",
    "\n",
    "a = b = c = 0\n",
    "for v in s:\n",
    "    if v == 'A':\n",
    "        a += 1\n",
    "    elif v == 'B':\n",
    "        b += 1\n",
    "    else:\n",
    "        c += 1\n",
    "        \n",
    "dp = [[[[False] * 5 for _ in range(c + 1)] for _ in range(b + 1)] for _ in range(a + 1)]\n",
    "    \n",
    "result = []\n",
    "recur([], a, b, c)\n",
    "\n",
    "if not result:\n",
    "    print(-1)\n",
    "else:\n",
    "    print(''.join(result))"
   ]
  },
  {
   "cell_type": "markdown",
   "metadata": {},
   "source": [
    "https://www.acmicpc.net/problem/2159 케익 배달"
   ]
  },
  {
   "cell_type": "code",
   "execution_count": 6,
   "metadata": {},
   "outputs": [
    {
     "name": "stdout",
     "output_type": "stream",
     "text": [
      "5\n",
      "50 50\n",
      "10 10\n",
      "60 60\n",
      "10 60\n",
      "60 10\n",
      "50 40\n",
      "361\n"
     ]
    }
   ],
   "source": [
    "import sys\n",
    "input = lambda: sys.stdin.readline().rstrip()\n",
    "\n",
    "get_dist = lambda x1, y1, x2, y2: abs(x1 - x2) + abs(y1 - y2)\n",
    "\n",
    "inf = float('inf')\n",
    "\n",
    "dx = [0, -1, 1, 0, 0]\n",
    "dy = [0, 0, 0, -1, 1]\n",
    "\n",
    "n = int(input())\n",
    "li = [list(map(int, input().split())) for _ in range(n + 1)]\n",
    "\n",
    "dp = [[inf] * 5 for _ in range(n + 1)]\n",
    "dp[0] = [0, inf, inf, inf, inf]\n",
    "for i in range(1, n + 1):\n",
    "    x, y = li[i]\n",
    "    fx, fy = li[i - 1]\n",
    "    \n",
    "    for d in range(5):\n",
    "        nx = x + dx[d]\n",
    "        ny = y + dy[d]\n",
    "        \n",
    "        for fd in range(5):\n",
    "            nfx = fx + dx[fd]\n",
    "            nfy = fy + dy[fd]\n",
    "            \n",
    "            dist = get_dist(nfx, nfy, nx, ny)\n",
    "            dp[i][d] = min(dp[i][d], dp[i - 1][fd] + dist)\n",
    "            \n",
    "r = min(dp[-1])\n",
    "\n",
    "print(r)"
   ]
  },
  {
   "cell_type": "markdown",
   "metadata": {},
   "source": [
    "https://www.acmicpc.net/problem/1234 크리스마스 트리"
   ]
  },
  {
   "cell_type": "code",
   "execution_count": 53,
   "metadata": {},
   "outputs": [
    {
     "name": "stdout",
     "output_type": "stream",
     "text": [
      "8 1 15 20\n",
      "197121\n"
     ]
    }
   ],
   "source": [
    "from collections import deque\n",
    "from math import factorial as facto\n",
    "\n",
    "max_n = 11\n",
    "max_k = 11\n",
    "\n",
    "c_dp = [[0] * (max_k + 1) for _ in range(max_n + 1)]\n",
    "for nn in range(max_n + 1):\n",
    "    c_dp[nn][0] = 1\n",
    "    cur = 1\n",
    "    for kk in range(1, max_k + 1):\n",
    "        if kk > nn:\n",
    "            break\n",
    "        cur = cur * (nn - (kk - 1)) // kk\n",
    "        c_dp[nn][kk] = cur\n",
    "\n",
    "nCk = lambda n, k: c_dp[n][k]\n",
    "\n",
    "def add(nrr, ngg, nbb, to_add):\n",
    "    dp[cur_n][nrr][ngg][nbb] += to_add\n",
    "    if dp[cur_n][nrr][ngg][nbb] == to_add:\n",
    "        queue.append((nrr, ngg, nbb))  \n",
    "\n",
    "factos = [0] * 11\n",
    "for i in range(11):\n",
    "    factos[i] = facto(i)\n",
    "        \n",
    "        \n",
    "n, r, g, b = map(int, input().split())\n",
    "\n",
    "dp = [[[[0] * (b + 1) for _ in range(g + 1)] for _ in range(r + 1)] for _ in range(n + 1)]\n",
    "dp[0][r][g][b] = 1\n",
    "\n",
    "queue = deque()\n",
    "queue.append((r, g, b))\n",
    "for cur_n in range(1, n + 1):\n",
    "    can_2 = cur_n % 2 == 0\n",
    "    can_3 = cur_n % 3 == 0\n",
    "    for _ in range(len(queue)):\n",
    "        rr, gg, bb = queue.popleft()\n",
    "        cur_v = dp[cur_n - 1][rr][gg][bb]\n",
    "        \n",
    "        if rr >= cur_n:\n",
    "            add(rr - cur_n, gg, bb, cur_v)\n",
    "        if gg >= cur_n:\n",
    "            add(rr, gg - cur_n, bb, cur_v)\n",
    "        if bb >= cur_n:\n",
    "            add(rr, gg, bb - cur_n, cur_v)\n",
    "        if can_2:\n",
    "            nn = cur_n // 2\n",
    "            w = nCk(cur_n, nn)\n",
    "            to_add = cur_v * w\n",
    "            if rr >= nn and gg >= nn:\n",
    "                add(rr - nn, gg - nn, bb, to_add)\n",
    "            if rr >= nn and bb >= nn:\n",
    "                add(rr - nn, gg, bb - nn, to_add)\n",
    "            if gg >= nn and bb >= nn:\n",
    "                add(rr, gg - nn, bb - nn, to_add)\n",
    "        if can_3:\n",
    "            nn = cur_n // 3\n",
    "            w = factos[cur_n] // factos[nn] ** 3\n",
    "            to_add = cur_v * w\n",
    "            if rr >= nn and gg >= nn and bb >= nn:\n",
    "                add(rr - nn, gg - nn, bb - nn, to_add)\n",
    "                \n",
    "#     print()\n",
    "#     for rr, gg, bb in queue:\n",
    "#         print(cur_n, rr, gg, bb, dp[cur_n][rr][gg][bb])\n",
    "\n",
    "total = 0\n",
    "for rr in range(r + 1):\n",
    "    for gg in range(g + 1):\n",
    "        for bb in range(b + 1):\n",
    "            total += dp[n][rr][gg][bb]\n",
    "            \n",
    "print(total)"
   ]
  },
  {
   "cell_type": "markdown",
   "metadata": {},
   "source": [
    "https://www.acmicpc.net/problem/16565 N포커"
   ]
  },
  {
   "cell_type": "code",
   "execution_count": null,
   "metadata": {},
   "outputs": [],
   "source": [
    "# 잘못된 아이디어\n",
    "card_c == 52, n == 5\n",
    "(card_c - 4) C (n - 4) * {case card_c = card_c - 4, n = n - 4} * 13"
   ]
  },
  {
   "cell_type": "code",
   "execution_count": 97,
   "metadata": {},
   "outputs": [
    {
     "name": "stdout",
     "output_type": "stream",
     "text": [
      "52\n",
      "9590\n"
     ]
    }
   ],
   "source": [
    "# 잘못된 아이디어 구현\n",
    "mod = 10007\n",
    "\n",
    "def nCk(n, k):\n",
    "    if n < k:\n",
    "        return 0\n",
    "    if k < 0:\n",
    "        return 0\n",
    "    \n",
    "    if n - k < k:\n",
    "        k = n - k\n",
    "        \n",
    "    num = 1\n",
    "    for i in range(n, n - k, -1):\n",
    "        num *= i\n",
    "    \n",
    "    denom = 1\n",
    "    for i in range(2, k + 1):\n",
    "        denom *= i\n",
    "        \n",
    "    return num // denom\n",
    "\n",
    "def recur(card_c, n):\n",
    "    if dp[card_c][n] != -1:\n",
    "        return dp[card_c][n]\n",
    "    \n",
    "    temp = nCk(card_c - 4, n - 4) - recur(card_c - 4, n - 4)\n",
    "    temp *= 13\n",
    "    temp %= mod\n",
    "    \n",
    "    dp[card_c][n] = temp\n",
    "    return temp\n",
    "    \n",
    "n = int(input())\n",
    "\n",
    "dp = [[-1] * 53 for _ in range(53)] # dp[card_c][n]\n",
    "\n",
    "for card_c in range(53):\n",
    "    for nn in range(4):\n",
    "        dp[card_c][nn] = 0\n",
    "        \n",
    "r = recur(52, n)\n",
    "\n",
    "print(r)"
   ]
  },
  {
   "cell_type": "code",
   "execution_count": 98,
   "metadata": {},
   "outputs": [
    {
     "name": "stdout",
     "output_type": "stream",
     "text": [
      "52\n",
      "1\n"
     ]
    }
   ],
   "source": [
    "mod = 10007\n",
    "\n",
    "def nCk(n, k):\n",
    "    if n < k:\n",
    "        return 0\n",
    "    if k < 0:\n",
    "        return 0\n",
    "    \n",
    "    if n - k < k:\n",
    "        k = n - k\n",
    "        \n",
    "    num = 1\n",
    "    for i in range(n, n - k, -1):\n",
    "        num *= i\n",
    "    \n",
    "    denom = 1\n",
    "    for i in range(2, k + 1):\n",
    "        denom *= i\n",
    "        \n",
    "    return num // denom\n",
    "\n",
    "n = int(input())\n",
    "\n",
    "total = 0\n",
    "is_add = 1\n",
    "for cur in range(4, 53, 4):\n",
    "    temp = nCk(52 - cur, n - cur) % mod * nCk(13, cur // 4) % mod\n",
    "    \n",
    "    if is_add:\n",
    "        total += temp\n",
    "    else:\n",
    "        total -= temp\n",
    "    \n",
    "    total %= mod\n",
    "    is_add ^= 1\n",
    "        \n",
    "print(total)"
   ]
  },
  {
   "cell_type": "markdown",
   "metadata": {},
   "source": [
    "https://www.acmicpc.net/problem/3114 사과와 바나나"
   ]
  },
  {
   "cell_type": "code",
   "execution_count": 50,
   "metadata": {},
   "outputs": [
    {
     "name": "stdout",
     "output_type": "stream",
     "text": [
      "1\n"
     ]
    }
   ],
   "source": [
    "import sys\n",
    "input = lambda: sys.stdin.readline().rstrip()\n",
    "\n",
    "inf = float('inf')\n",
    "\n",
    "n, m = map(int, input().split())\n",
    "li = [input().split() for _ in range(n)]\n",
    "\n",
    "prefix_b = [[0] * m for _ in range(n + 1)]\n",
    "prefix_a = [[0] * m for _ in range(n + 1)]\n",
    "for j in range(m):\n",
    "    cumul_b = 0\n",
    "    cumul_a = 0\n",
    "    for i in range(n):\n",
    "        tp, num = li[i][j][0], li[i][j][1:]\n",
    "        num = int(num)\n",
    "        \n",
    "        if tp == 'B':\n",
    "            cumul_b += num\n",
    "        else:\n",
    "            cumul_a += num\n",
    "            \n",
    "        prefix_b[i + 1][j] = cumul_b\n",
    "        prefix_a[i + 1][j] = cumul_a\n",
    "\n",
    "dp = [[0] * (m + 1) for _ in range(n + 1)]\n",
    "for i in range(n + 1):\n",
    "    dp[i][0] = -inf\n",
    "for j in range(m + 1):\n",
    "    dp[0][j] = -inf\n",
    "\n",
    "dp[1][1] = prefix_b[0][0] + prefix_a[-1][0] - prefix_a[1][0]\n",
    "for i in range(n):\n",
    "    for j in range(m):\n",
    "        t1 = dp[i][j + 1] - (prefix_a[i + 1][j] - prefix_a[i][j])\n",
    "            \n",
    "        added = prefix_b[i][j] + prefix_a[-1][j] - prefix_a[i + 1][j]\n",
    "        t2 = dp[i][j] + added\n",
    "        t3 = dp[i + 1][j] + added\n",
    "\n",
    "        max_temp = max(dp[i + 1][j + 1], t1, t2, t3)\n",
    "        dp[i + 1][j + 1] = max_temp\n",
    "\n",
    "print(dp[-1][-1])"
   ]
  },
  {
   "cell_type": "code",
   "execution_count": 47,
   "metadata": {},
   "outputs": [
    {
     "data": {
      "text/plain": [
       "[[0, 0], [0, 1], [1, 2]]"
      ]
     },
     "execution_count": 47,
     "metadata": {},
     "output_type": "execute_result"
    }
   ],
   "source": [
    "prefix_a"
   ]
  },
  {
   "cell_type": "code",
   "execution_count": 48,
   "metadata": {},
   "outputs": [
    {
     "data": {
      "text/plain": [
       "[['B40', 'A1'], ['A1', 'A1']]"
      ]
     },
     "execution_count": 48,
     "metadata": {},
     "output_type": "execute_result"
    }
   ],
   "source": [
    "li"
   ]
  },
  {
   "cell_type": "code",
   "execution_count": 46,
   "metadata": {},
   "outputs": [
    {
     "name": "stdout",
     "output_type": "stream",
     "text": [
      "[0, 0]\n",
      "[0, 1]\n",
      "[1, 2]\n"
     ]
    }
   ],
   "source": [
    "for v in prefix_a:\n",
    "    print(v)"
   ]
  },
  {
   "cell_type": "code",
   "execution_count": 43,
   "metadata": {},
   "outputs": [
    {
     "name": "stdout",
     "output_type": "stream",
     "text": [
      "[-inf, -inf, -inf]\n",
      "[-inf, 1, 2]\n",
      "[-inf, 2, 3]\n"
     ]
    }
   ],
   "source": [
    "for v in dp:\n",
    "    print(v)"
   ]
  },
  {
   "cell_type": "code",
   "execution_count": 38,
   "metadata": {},
   "outputs": [
    {
     "name": "stdout",
     "output_type": "stream",
     "text": [
      "[('B', 40), ('A', 1)]\n",
      "[('A', 1), ('A', 1)]\n"
     ]
    }
   ],
   "source": [
    "for v in nli:\n",
    "    print(v)"
   ]
  },
  {
   "cell_type": "markdown",
   "metadata": {},
   "source": [
    "https://www.acmicpc.net/problem/1513 경로 찾기"
   ]
  },
  {
   "cell_type": "code",
   "execution_count": null,
   "metadata": {},
   "outputs": [],
   "source": [
    "0, -1: 1\n",
    "\n",
    "1,  3: 3"
   ]
  },
  {
   "cell_type": "code",
   "execution_count": 64,
   "metadata": {},
   "outputs": [
    {
     "name": "stdout",
     "output_type": "stream",
     "text": [
      "5 5 3\n",
      "1 3\n",
      "2 4\n",
      "3 5\n",
      "42 14 10 4\n"
     ]
    }
   ],
   "source": [
    "from collections import defaultdict as dd\n",
    "import sys\n",
    "input = lambda: sys.stdin.readline().rstrip()\n",
    "\n",
    "mod = 1000007\n",
    "\n",
    "n, m, c = map(int, input().split())\n",
    "li = [[0] * m for _ in range(n)]\n",
    "for num in range(1, c + 1):\n",
    "    x, y = map(int, input().split())\n",
    "    li[x - 1][y - 1] = num\n",
    "    \n",
    "dp = [[[dd(int) for _ in range(c + 1)] for _ in range(m)] for _ in range(n)] # dp[n][m][방문 개수][방문 오락실 숫자 최댓값] = 경우의 수\n",
    "\n",
    "if li[0][0] == 0:\n",
    "    dp[0][0][0][0] = 1\n",
    "else:\n",
    "    dp[0][0][1][li[0][0]] = 1\n",
    "    \n",
    "j = 0\n",
    "for i in range(1, n):\n",
    "    if li[i][j] == 0:\n",
    "        for vt_c in range(c + 1):\n",
    "            for max_vt_num in dp[i - 1][j][vt_c]:\n",
    "                dp[i][j][vt_c][max_vt_num] += dp[i - 1][j][vt_c][max_vt_num]\n",
    "                dp[i][j][vt_c][max_vt_num] %= mod\n",
    "    else:\n",
    "        for vt_c in range(c):\n",
    "            for max_vt_num in dp[i - 1][j][vt_c]:\n",
    "                if max_vt_num < li[i][j]:\n",
    "                    dp[i][j][vt_c + 1][li[i][j]] += dp[i - 1][j][vt_c][max_vt_num]\n",
    "                    dp[i][j][vt_c + 1][li[i][j]] %= mod\n",
    "                \n",
    "i = 0\n",
    "for j in range(1, m):\n",
    "    if li[i][j] == 0:\n",
    "        for vt_c in range(c + 1):\n",
    "            for max_vt_num in dp[i][j - 1][vt_c]:\n",
    "                dp[i][j][vt_c][max_vt_num] += dp[i][j - 1][vt_c][max_vt_num]\n",
    "                dp[i][j][vt_c][max_vt_num] %= mod \n",
    "    else:\n",
    "        for vt_c in range(c):\n",
    "            for max_vt_num in dp[i][j - 1][vt_c]:\n",
    "                if max_vt_num < li[i][j]:\n",
    "                    dp[i][j][vt_c + 1][li[i][j]] += dp[i][j - 1][vt_c][max_vt_num]\n",
    "                    dp[i][j][vt_c + 1][li[i][j]] %= mod\n",
    "                    \n",
    "for i in range(1, n):\n",
    "    for j in range(1, m):\n",
    "        if li[i][j] == 0:\n",
    "            for vt_c in range(c + 1):\n",
    "                for max_vt_num in dp[i - 1][j][vt_c]:\n",
    "                    dp[i][j][vt_c][max_vt_num] += dp[i - 1][j][vt_c][max_vt_num]\n",
    "                    dp[i][j][vt_c][max_vt_num] %= mod\n",
    "                    \n",
    "                for max_vt_num in dp[i][j - 1][vt_c]:\n",
    "                    dp[i][j][vt_c][max_vt_num] += dp[i][j - 1][vt_c][max_vt_num]\n",
    "                    dp[i][j][vt_c][max_vt_num] %= mod\n",
    "        else:\n",
    "            for vt_c in range(c):\n",
    "                for max_vt_num in dp[i - 1][j][vt_c]:\n",
    "                    if max_vt_num < li[i][j]:\n",
    "                        dp[i][j][vt_c + 1][li[i][j]] += dp[i - 1][j][vt_c][max_vt_num]\n",
    "                        dp[i][j][vt_c + 1][li[i][j]] %= mod \n",
    "                        \n",
    "                for max_vt_num in dp[i][j - 1][vt_c]:\n",
    "                    if max_vt_num < li[i][j]:\n",
    "                        dp[i][j][vt_c + 1][li[i][j]] += dp[i][j - 1][vt_c][max_vt_num]\n",
    "                        dp[i][j][vt_c + 1][li[i][j]] %= mod\n",
    "                        \n",
    "result = [0] * (c + 1)\n",
    "for vt_c in range(c + 1):\n",
    "    temp = 0\n",
    "    for max_vt_num in dp[n - 1][m - 1][vt_c]:\n",
    "        temp += dp[n - 1][m - 1][vt_c][max_vt_num]\n",
    "        temp %= mod\n",
    "    result[vt_c] = temp\n",
    "    \n",
    "print(*result)"
   ]
  },
  {
   "cell_type": "markdown",
   "metadata": {},
   "source": [
    "https://www.acmicpc.net/problem/2611 자동차경주"
   ]
  },
  {
   "cell_type": "code",
   "execution_count": null,
   "metadata": {},
   "outputs": [],
   "source": [
    "import sys\n",
    "input = lambda: sys.stdin.readline().rstrip()\n",
    "\n",
    "def recur(value):\n",
    "    if dp[value] != -1:\n",
    "        return dp[value]\n",
    "    \n",
    "    max_temp = -1\n",
    "    max_temp_from = -1\n",
    "    for v, r in li[value]:\n",
    "        if v == 1:\n",
    "            temp = r\n",
    "        else:\n",
    "            temp = r + recur(v)\n",
    "            \n",
    "        if temp > max_temp:\n",
    "            max_temp = temp\n",
    "            max_temp_from = v\n",
    "                \n",
    "    dp[value] = max_temp\n",
    "    from_[value] = max_temp_from\n",
    "    return max_temp\n",
    "\n",
    "n = int(input())\n",
    "m = int(input())\n",
    "\n",
    "li = [[] for _ in range(n + 1)]\n",
    "for _ in range(m):\n",
    "    a, b, r = map(int, input().split())\n",
    "\n",
    "    li[b].append((a, r))\n",
    "\n",
    "from_ = [-1] * (n + 1)\n",
    "dp = [-1] * (n + 1)\n",
    "\n",
    "max_r = recur(1)\n",
    "\n",
    "cur = 1\n",
    "route = [1]\n",
    "while True:\n",
    "    cur = from_[cur]\n",
    "    route.append(cur)\n",
    "\n",
    "    if cur == 1:\n",
    "        break\n",
    "\n",
    "print(max_r)\n",
    "print(*route[::-1])"
   ]
  },
  {
   "cell_type": "code",
   "execution_count": 8,
   "metadata": {},
   "outputs": [
    {
     "data": {
      "text/plain": [
       "[[],\n",
       " [(4, 6)],\n",
       " [(1, 5)],\n",
       " [(1, 4)],\n",
       " [(6, 8), (7, 5)],\n",
       " [(2, 2)],\n",
       " [(2, 1), (3, 3), (5, 7)],\n",
       " [(6, 2), (8, 4)],\n",
       " [(5, 9), (6, 3)]]"
      ]
     },
     "execution_count": 8,
     "metadata": {},
     "output_type": "execute_result"
    }
   ],
   "source": [
    "n (n - 1)"
   ]
  },
  {
   "cell_type": "code",
   "execution_count": 19,
   "metadata": {},
   "outputs": [
    {
     "data": {
      "text/plain": [
       "499500"
      ]
     },
     "execution_count": 19,
     "metadata": {},
     "output_type": "execute_result"
    }
   ],
   "source": [
    "n = 1000\n",
    "(n - 1) * n // 2"
   ]
  },
  {
   "cell_type": "markdown",
   "metadata": {},
   "source": [
    "### Sequence 2291"
   ]
  },
  {
   "cell_type": "code",
   "execution_count": 86,
   "metadata": {},
   "outputs": [
    {
     "name": "stdout",
     "output_type": "stream",
     "text": [
      "4 9 3\n",
      "1 1 3 4\n"
     ]
    }
   ],
   "source": [
    "n, m, k = map(int, input().split())\n",
    "\n",
    "dp = [[0] * (m + 1) for _ in range(n + 1)]\n",
    "dp[0][0] = 1\n",
    "\n",
    "cur_n = 1\n",
    "for cur_m in range(1, m + 1):\n",
    "    dp[cur_n][cur_m] = 1\n",
    "    \n",
    "for cur_n in range(2, n + 1):\n",
    "    for cur_m in range(cur_n, m + 1):\n",
    "        first_num = 1\n",
    "        while True:\n",
    "            n_cur_m = cur_m - first_num - (cur_n - 1) * (first_num - 1)\n",
    "            if n_cur_m < cur_n - 1:\n",
    "                break\n",
    "            dp[cur_n][cur_m] += dp[cur_n - 1][n_cur_m]\n",
    "            \n",
    "            first_num += 1\n",
    "            \n",
    "result = []\n",
    "cur_m = m\n",
    "for cur_n in range(n, 0, -1):\n",
    "    cumul = 0\n",
    "    first_num = 1\n",
    "    cumul_for_nums = [0]\n",
    "    while True:\n",
    "        n_cur_m = cur_m - first_num - (cur_n - 1) * (first_num - 1)\n",
    "        if n_cur_m < 0:\n",
    "            break\n",
    "        \n",
    "        cumul += dp[cur_n - 1][n_cur_m]\n",
    "        cumul_for_nums.append(cumul)\n",
    "        \n",
    "        if k <= cumul:\n",
    "            break\n",
    "            \n",
    "        first_num += 1\n",
    "        \n",
    "    k -= cumul_for_nums[first_num - 1]\n",
    "    cur_m = cur_m - first_num - (cur_n - 1) * (first_num - 1)\n",
    "    \n",
    "    if result:\n",
    "        result.append(result[-1] + first_num - 1)\n",
    "    else:\n",
    "        result.append(first_num)\n",
    "\n",
    "print(*result)"
   ]
  },
  {
   "cell_type": "markdown",
   "metadata": {},
   "source": [
    "https://www.acmicpc.net/problem/1415 사탕"
   ]
  },
  {
   "cell_type": "code",
   "execution_count": 105,
   "metadata": {},
   "outputs": [
    {
     "name": "stdout",
     "output_type": "stream",
     "text": [
      "3\n",
      "0\n",
      "0\n",
      "7\n",
      "3\n"
     ]
    }
   ],
   "source": [
    "from collections import defaultdict as dd\n",
    "\n",
    "max_num = 500001\n",
    "ip = [True] * (max_num + 1)\n",
    "ip[0] = ip[1] = False\n",
    "for mod in range(2, int(max_num ** 0.5) + 1):\n",
    "    if ip[mod]:\n",
    "        for v in range(mod * mod, max_num + 1, mod):\n",
    "            ip[v] = False\n",
    "\n",
    "n = int(input())\n",
    "li = [int(input()) for _ in range(n)]\n",
    "\n",
    "ct = dd(int)\n",
    "for v in li:\n",
    "    ct[v] += 1\n",
    "    \n",
    "dp = [0] * 500001\n",
    "dp[0] = 1\n",
    "for num in ct:\n",
    "    c = ct[num]\n",
    "    \n",
    "    for i in range(500000, num - 1, -1):\n",
    "        temp = 0\n",
    "        for w in range(1, c + 1):\n",
    "            ni = i - num * w\n",
    "            if ni < 0:\n",
    "                break\n",
    "            temp += dp[ni]\n",
    "        dp[i] += temp\n",
    "        \n",
    "total = 0\n",
    "for i in range(500001):\n",
    "    if ip[i]:\n",
    "        total += dp[i]\n",
    "        \n",
    "print(total)"
   ]
  },
  {
   "cell_type": "markdown",
   "metadata": {},
   "source": [
    "https://www.acmicpc.net/problem/10714 케이크 자르기 2"
   ]
  },
  {
   "cell_type": "code",
   "execution_count": 114,
   "metadata": {},
   "outputs": [
    {
     "name": "stdout",
     "output_type": "stream",
     "text": [
      "8\n",
      "1\n",
      "10\n",
      "4\n",
      "5\n",
      "6\n",
      "2\n",
      "9\n",
      "3\n",
      "26\n"
     ]
    }
   ],
   "source": [
    "from collections import deque\n",
    "import sys\n",
    "input = lambda: sys.stdin.readline().rstrip()\n",
    "\n",
    "inf = float('inf')\n",
    "\n",
    "n = int(input())\n",
    "li = [int(input()) for _ in range(n)]\n",
    "\n",
    "dp = [[-inf] * n for _ in range(n)]\n",
    "vt = [[False] * n for _ in range(n)]\n",
    "for i in range(n):\n",
    "    dp[i][i] = li[i]\n",
    "    vt[i][i] = True\n",
    "    \n",
    "nn = n\n",
    "if nn % 2 == 0:\n",
    "    nn -= 1\n",
    "    \n",
    "queue = deque((i, i) for i in range(n))\n",
    "for cur_n in range(2, nn + 1):\n",
    "    if cur_n % 2 == 0:\n",
    "        for _ in range(len(queue)):\n",
    "            f, t = queue.popleft()\n",
    "            \n",
    "            nf = (f - 1) % n\n",
    "            nt = (t + 1) % n\n",
    "            \n",
    "            if li[nf] > li[nt]:\n",
    "                dp[nf][t] = max(dp[nf][t], dp[f][t])\n",
    "                if not vt[nf][t]:\n",
    "                    vt[nf][t] = True\n",
    "                    queue.append((nf, t))\n",
    "            else:\n",
    "                dp[f][nt] = max(dp[f][nt], dp[f][t])\n",
    "                if not vt[f][nt]:\n",
    "                    vt[f][nt] = True\n",
    "                    queue.append((f, nt))\n",
    "    else:\n",
    "        for _ in range(len(queue)):\n",
    "            f, t = queue.popleft()\n",
    "            \n",
    "            nf = (f - 1) % n\n",
    "            nt = (t + 1) % n\n",
    "            \n",
    "            dp[nf][t] = max(dp[nf][t], dp[f][t] + li[nf])\n",
    "            if not vt[nf][t]:\n",
    "                vt[nf][t] = True\n",
    "                queue.append((nf, t))\n",
    "                \n",
    "            dp[f][nt] = max(dp[f][nt], dp[f][t] + li[nt])\n",
    "            if not vt[f][nt]:\n",
    "                vt[f][nt] = True\n",
    "                queue.append((f, nt))\n",
    "        \n",
    "r = 0\n",
    "for i in range(n):\n",
    "    for j in range(n):\n",
    "        r = max(r, dp[i][j])\n",
    "        \n",
    "print(r)"
   ]
  },
  {
   "cell_type": "markdown",
   "metadata": {},
   "source": [
    "https://www.acmicpc.net/problem/1053 팰린드롬 공장"
   ]
  },
  {
   "cell_type": "code",
   "execution_count": null,
   "metadata": {},
   "outputs": [],
   "source": [
    "def get_value(s):\n",
    "    t = s[::-1]\n",
    "    \n",
    "    dp = [[0] * (n + 1) for _ in range(n + 1)]\n",
    "    for i in range(1, n + 1):\n",
    "        dp[i][0] = i\n",
    "        dp[0][i] = i\n",
    "\n",
    "    for i in range(n):\n",
    "        for j in range(n):\n",
    "            if s[i] == t[j]:\n",
    "                dp[i + 1][j + 1] = dp[i][j]\n",
    "            else:\n",
    "                dp[i + 1][j + 1] = dp[i][j] + 1\n",
    "\n",
    "            dp[i + 1][j + 1] = min(dp[i + 1][j + 1], dp[i][j + 1] + 1, dp[i + 1][j] + 1)\n",
    "\n",
    "    print(s)\n",
    "    for v in dp:\n",
    "        print(v)\n",
    "    print()\n",
    "            \n",
    "    r = (dp[-1][-1] + 1) // 2\n",
    "    return r\n",
    "\n",
    "s = list(input())\n",
    "n = len(s)\n",
    "\n",
    "min_r = get_value(s)\n",
    "for i in range(n):\n",
    "    for j in range(i + 1, n):\n",
    "        ss = s.copy()\n",
    "        ss[i], ss[j] = ss[j], ss[i]\n",
    "        min_r = min(min_r, get_value(ss) + 1)\n",
    "\n",
    "print(min_r)"
   ]
  },
  {
   "cell_type": "markdown",
   "metadata": {},
   "source": [
    "https://www.acmicpc.net/problem/17623 괄호"
   ]
  },
  {
   "cell_type": "code",
   "execution_count": null,
   "metadata": {},
   "outputs": [],
   "source": [
    "4 1000\n",
    "3 999"
   ]
  },
  {
   "cell_type": "code",
   "execution_count": 3,
   "metadata": {},
   "outputs": [
    {
     "data": {
      "text/plain": [
       "500500"
      ]
     },
     "execution_count": 3,
     "metadata": {},
     "output_type": "execute_result"
    }
   ],
   "source": [
    "n = 1000\n",
    "\n",
    "n * (n + 1) // 2"
   ]
  },
  {
   "cell_type": "code",
   "execution_count": null,
   "metadata": {},
   "outputs": [],
   "source": [
    "( ) { } [ ]\n",
    "1 2 3 4 5 6"
   ]
  },
  {
   "cell_type": "code",
   "execution_count": 12,
   "metadata": {},
   "outputs": [
    {
     "name": "stdout",
     "output_type": "stream",
     "text": [
      "3\n",
      "11\n",
      "()[{}]\n",
      "22\n",
      "(()[{}])\n",
      "33\n",
      "([[]])[]\n"
     ]
    }
   ],
   "source": [
    "inf = float('inf')\n",
    "\n",
    "parens = '(){}[]'\n",
    "\n",
    "def to_string(num):\n",
    "    r = [parens[int(v) - 1] for v in str(num)]\n",
    "    \n",
    "    return ''.join(r)\n",
    "\n",
    "dp = [inf] * 1001\n",
    "\n",
    "dp[1] = 12\n",
    "dp[2] = 34\n",
    "dp[3] = 56\n",
    "\n",
    "for num in range(4, 1001):\n",
    "    min_temp = inf\n",
    "    for a in range(1, num):\n",
    "        b = num - a\n",
    "        if a > b:\n",
    "            break\n",
    "        \n",
    "        temp = int(str(dp[a]) + str(dp[b]))\n",
    "        min_temp = min(min_temp, temp)\n",
    "        \n",
    "        temp = int(str(dp[b]) + str(dp[a]))\n",
    "        min_temp = min(min_temp, temp)\n",
    "\n",
    "    if num % 2 == 0:\n",
    "        nnum = num // 2\n",
    "        \n",
    "        temp = int('1' + str(dp[nnum]) + '2')\n",
    "        min_temp = min(min_temp, temp)\n",
    "    if num % 3 == 0:\n",
    "        nnum = num // 3\n",
    "        \n",
    "        temp = int('3' + str(dp[nnum]) + '4')\n",
    "        min_temp = min(min_temp, temp)     \n",
    "    if num % 5 == 0:\n",
    "        nnum = num // 5\n",
    "        \n",
    "        temp = int('5' + str(dp[nnum]) + '6')\n",
    "        min_temp = min(min_temp, temp)\n",
    "        \n",
    "    dp[num] = min_temp\n",
    "    \n",
    "for _ in range(int(input())):\n",
    "    n = int(input())\n",
    "    \n",
    "    r = to_string(dp[n])\n",
    "    print(r)"
   ]
  },
  {
   "cell_type": "markdown",
   "metadata": {},
   "source": [
    "https://www.acmicpc.net/problem/2092 집합의 개수"
   ]
  },
  {
   "cell_type": "code",
   "execution_count": 13,
   "metadata": {},
   "outputs": [
    {
     "name": "stdout",
     "output_type": "stream",
     "text": [
      "3 5 2 3\n",
      "1 2 2 1 3\n",
      "10\n"
     ]
    }
   ],
   "source": [
    "from collections import Counter\n",
    "\n",
    "mod = 1000000\n",
    "\n",
    "t, a, s, b = map(int, input().split())\n",
    "ct = Counter(map(int, input().split()))\n",
    "\n",
    "dp = [0] * 4001\n",
    "dp[0] = 1\n",
    "\n",
    "for c in ct.values():\n",
    "    for i in range(4000, 0, -1):\n",
    "        for used_c in range(1, c + 1):\n",
    "            ni = i - used_c\n",
    "            if ni < 0:\n",
    "                break\n",
    "            \n",
    "            dp[i] += dp[ni]\n",
    "            dp[i] %= mod\n",
    "            \n",
    "r = sum(dp[s:b + 1]) % mod\n",
    "\n",
    "print(r)"
   ]
  },
  {
   "cell_type": "markdown",
   "metadata": {},
   "source": [
    "https://www.acmicpc.net/problem/22358 스키장"
   ]
  },
  {
   "cell_type": "code",
   "execution_count": 26,
   "metadata": {},
   "outputs": [
    {
     "name": "stdout",
     "output_type": "stream",
     "text": [
      "3 2 1 1 3\n",
      "1 2 10\n",
      "2 3 5\n",
      "25\n"
     ]
    }
   ],
   "source": [
    "import sys\n",
    "input = lambda: sys.stdin.readline().rstrip()\n",
    "\n",
    "inf = float('inf')\n",
    "\n",
    "n, m, k, s, t = map(int, input().split())\n",
    "\n",
    "down_from = [[] for _ in range(n + 1)]\n",
    "up_from = [[] for _ in range(n + 1)]\n",
    "\n",
    "for _ in range(m):\n",
    "    a, b, tm = map(int, input().split())\n",
    "    \n",
    "    down_from[b].append((a, tm))\n",
    "    up_from[a].append(b)\n",
    "    \n",
    "dp = [[-inf] * (n + 1) for _ in range(k + 1)] # dp[k][n]\n",
    "dp[0][s] = 0\n",
    "\n",
    "cur_k = 0\n",
    "for value in range(s + 1, n + 1):\n",
    "    temp = -inf\n",
    "    for v, tm in down_from[value]:\n",
    "        temp = max(temp, dp[0][v] + tm)\n",
    "        \n",
    "    dp[0][value] = temp\n",
    "        \n",
    "for cur_k in range(1, k + 1):\n",
    "    for value in range(1, n + 1):\n",
    "        temp = -inf\n",
    "        for v in up_from[value]:\n",
    "            temp = max(temp, dp[cur_k - 1][v])\n",
    "        \n",
    "        for v, tm in down_from[value]:\n",
    "            temp = max(temp, dp[cur_k][v] + tm)\n",
    "             \n",
    "        dp[cur_k][value] = temp\n",
    "    \n",
    "max_r = -inf\n",
    "for cur_k in range(k + 1):\n",
    "    max_r = max(max_r, dp[cur_k][t])\n",
    "    \n",
    "if max_r == -inf:\n",
    "    print(-1)\n",
    "else:\n",
    "    print(max_r)"
   ]
  },
  {
   "cell_type": "markdown",
   "metadata": {},
   "source": [
    "https://www.acmicpc.net/problem/2287 모노디지털 표현"
   ]
  },
  {
   "cell_type": "code",
   "execution_count": 1,
   "metadata": {},
   "outputs": [
    {
     "name": "stdout",
     "output_type": "stream",
     "text": [
      "5\n",
      "2\n",
      "12\n",
      "6\n",
      "31168\n",
      "NO\n"
     ]
    }
   ],
   "source": [
    "inf = float('inf')\n",
    "\n",
    "k = int(input())\n",
    "\n",
    "dp = [inf] * 32001\n",
    "\n",
    "sk = str(k)\n",
    "cur = sk\n",
    "while True:\n",
    "    dp[int(cur)] = len(cur)\n",
    "    cur += sk\n",
    "    if int(cur) > 32000:\n",
    "        break\n",
    "        \n",
    "if k >= 2:\n",
    "    dp[1] = 2\n",
    "    \n",
    "to_use = {1}\n",
    "for num in range(2, 32001):  \n",
    "    min_temp = float('inf')\n",
    "    for a in to_use:\n",
    "        b = num - a\n",
    "            \n",
    "        min_temp = min(min_temp, dp[a] + dp[b])\n",
    "        \n",
    "    for mod in range(2, int(num ** 0.5) + 1):\n",
    "        if num % mod == 0:\n",
    "            a = mod\n",
    "            b = num // a\n",
    "            \n",
    "            min_temp = min(min_temp, dp[a] + dp[b])\n",
    "    \n",
    "    dp[num] = min(dp[num], min_temp)\n",
    "    if dp[num] <= 7:\n",
    "        to_use.add(num)\n",
    "        \n",
    "for _ in range(int(input())):\n",
    "    n = int(input())\n",
    "    \n",
    "    r = dp[n]\n",
    "    \n",
    "    if r >= 8:\n",
    "        print('NO')\n",
    "    else:\n",
    "        print(r)"
   ]
  },
  {
   "cell_type": "code",
   "execution_count": 23,
   "metadata": {},
   "outputs": [
    {
     "name": "stdout",
     "output_type": "stream",
     "text": [
      "5\n",
      "4\n"
     ]
    }
   ],
   "source": [
    "from collections import deque\n",
    "import sys\n",
    "input = lambda: sys.stdin.readline().rstrip()\n",
    "\n",
    "inf = float('inf')\n",
    "\n",
    "k = int(input())\n",
    "\n",
    "d = dict()\n",
    "queue = deque()\n",
    "\n",
    "sk = str(k)\n",
    "cur = sk\n",
    "while True:\n",
    "    d[int(cur)] = len(cur)\n",
    "    queue.append(int(cur))\n",
    "    cur += sk\n",
    "    if len(cur) >= 8:\n",
    "        break\n",
    "    \n",
    "while queue:\n",
    "    value = queue.popleft()\n",
    "    \n",
    "    for key in list(d.keys()):\n",
    "        a = value\n",
    "        b = key\n",
    "        \n",
    "        if a < b:\n",
    "            a, b = b, a\n",
    "            \n",
    "        for v in [a + b, a - b, a * b, a // b]: \n",
    "            if 1 <= v <= 32000:\n",
    "                c = d[a] + d[b]\n",
    "\n",
    "                if c <= 8:            \n",
    "                    if v not in d:\n",
    "                        d[v] = c\n",
    "                        queue.append(v)\n",
    "                    else:\n",
    "                        if c < d[v]:\n",
    "                            d[v] = c\n",
    "                            queue.append(v)\n",
    "                    \n",
    "for _ in range(int(input())):\n",
    "    n = int(input())\n",
    "    \n",
    "    if n not in d:\n",
    "        print('NO')\n",
    "    else:\n",
    "        print(d[n])"
   ]
  },
  {
   "cell_type": "code",
   "execution_count": null,
   "metadata": {},
   "outputs": [],
   "source": [
    "from collections import deque\n",
    "import sys\n",
    "# input = lambda: sys.stdin.readline().rstrip()\n",
    "\n",
    "inf = float('inf')\n",
    "\n",
    "k = int(input())\n",
    "\n",
    "dp = [9] * 10000000\n",
    "queue = deque()\n",
    "\n",
    "sk = str(k)\n",
    "cur = sk\n",
    "to_use = set()\n",
    "while True:\n",
    "    dp[int(cur)] = len(cur)\n",
    "    queue.append(int(cur))\n",
    "    to_use.add(int(cur))\n",
    "    cur += sk\n",
    "    if len(cur) >= 8:\n",
    "        break\n",
    "\n",
    "while queue:\n",
    "    value = queue.popleft()\n",
    "    \n",
    "    to_add = set()\n",
    "    for key in to_use:\n",
    "        a = value\n",
    "        b = key\n",
    "        \n",
    "        print(a, b)\n",
    "        \n",
    "        if a < b:\n",
    "            a, b = b, a\n",
    "            \n",
    "        for v in [a + b, a - b, a * b, a // b]: \n",
    "            if 1 <= v <= 32000:\n",
    "                c = dp[a] + dp[b]\n",
    "\n",
    "                if c < dp[v]:\n",
    "                    dp[v] = c\n",
    "                    queue.append(v)\n",
    "                    to_add.add(v)\n",
    "    to_use |= to_add\n",
    "                    \n",
    "for _ in range(int(input())):\n",
    "    n = int(input())\n",
    "    \n",
    "    if dp[n] == 9:\n",
    "        print('NO')\n",
    "    else:\n",
    "        print(dp[n])"
   ]
  },
  {
   "cell_type": "code",
   "execution_count": 33,
   "metadata": {},
   "outputs": [
    {
     "name": "stdout",
     "output_type": "stream",
     "text": [
      "5\n",
      "2\n",
      "12\n",
      "4\n",
      "31168\n",
      "NO\n"
     ]
    }
   ],
   "source": [
    "import sys\n",
    "# input = lambda: sys.stdin.readline().rstrip()\n",
    "\n",
    "def get_nv(av, bv):\n",
    "    if av < bv:\n",
    "        av, bv = bv, av\n",
    "        \n",
    "    yield av + bv\n",
    "    yield av - bv\n",
    "    yield av * bv\n",
    "    yield av // bv\n",
    "\n",
    "k = int(input())\n",
    "\n",
    "dp = [set() for _ in range(9)]\n",
    "dp[1].add(k)\n",
    "\n",
    "for cur_len in range(2, 9):\n",
    "    dp[cur_len].add(int(str(k) * cur_len))\n",
    "    \n",
    "    for a in range(1, cur_len):\n",
    "        b = cur_len - a\n",
    "        if a > b:\n",
    "            break\n",
    "\n",
    "        for av in dp[a]:\n",
    "            for bv in dp[b]:\n",
    "                for nv in get_nv(av, bv): \n",
    "                    if 1 <= nv <= 32000:\n",
    "                        dp[cur_len].add(nv)\n",
    "                        \n",
    "for _ in range(int(input())):\n",
    "    n = int(input())\n",
    "    \n",
    "    r = 'NO'\n",
    "    for cur_len in range(1, 9):\n",
    "        if n in dp[cur_len]:\n",
    "            r = cur_len\n",
    "            break\n",
    "            \n",
    "    print(r)"
   ]
  },
  {
   "cell_type": "markdown",
   "metadata": {},
   "source": [
    "https://www.acmicpc.net/problem/10564 팔굽혀펴기"
   ]
  },
  {
   "cell_type": "code",
   "execution_count": 6,
   "metadata": {},
   "outputs": [
    {
     "name": "stdout",
     "output_type": "stream",
     "text": [
      "6 2\n",
      "3 1\n"
     ]
    },
    {
     "data": {
      "text/plain": [
       "3"
      ]
     },
     "execution_count": 6,
     "metadata": {},
     "output_type": "execute_result"
    }
   ],
   "source": [
    "# 메모리 초과\n",
    "import sys\n",
    "input = lambda: sys.stdin.readline().rstrip()\n",
    "\n",
    "for _ in range(int(input())):\n",
    "    n, m = map(int, input().split())\n",
    "    scs = list(map(int, input().split()))\n",
    "\n",
    "    dp = [[False] * (n + 1) for _ in range(n + 1)]\n",
    "    dp[0][0] = True\n",
    "\n",
    "    for cur_n in range(1, n + 1):\n",
    "        for cur_cumul_sc in range(1, cur_n + 1):\n",
    "            for sc in scs:\n",
    "                f_n = cur_n - cur_cumul_sc\n",
    "                f_cumul_sc = cur_cumul_sc - sc\n",
    "\n",
    "                if f_n < 0 or f_cumul_sc < 0:\n",
    "                    continue\n",
    "\n",
    "                if dp[f_n][f_cumul_sc]:\n",
    "                    dp[cur_n][cur_cumul_sc] = True\n",
    "                    break\n",
    "\n",
    "    r = -1\n",
    "    for cur_cumul_sc in range(n, 0, -1):\n",
    "        if dp[n][cur_cumul_sc]:\n",
    "            r = cur_cumul_sc\n",
    "            break\n",
    "\n",
    "    print(r)"
   ]
  },
  {
   "cell_type": "code",
   "execution_count": null,
   "metadata": {},
   "outputs": [],
   "source": [
    "# 시간 초과\n",
    "from collections import deque\n",
    "import sys\n",
    "# input = lambda: sys.stdin.readline().rstrip()\n",
    "\n",
    "inf = float('inf')\n",
    "\n",
    "for _ in range(int(input())):\n",
    "    n, m = map(int, input().split())\n",
    "    scs = list(map(int, input().split()))\n",
    "\n",
    "    r = [-inf] * (n + 1)\n",
    "    r[0] = 0\n",
    "    \n",
    "    queue = deque()\n",
    "    queue.append((0, 0))\n",
    "    \n",
    "    vt = set()\n",
    "    for _ in range(10):\n",
    "        for  _ in range(len(queue)):\n",
    "            f_n, f_cumul_sc = queue.popleft()\n",
    "\n",
    "            for sc in scs:\n",
    "                cur_cumul_sc = f_cumul_sc + sc\n",
    "                cur_n = f_n + cur_cumul_sc\n",
    "\n",
    "                if cur_n <= n and (cur_n, cur_cumul_sc) not in vt:\n",
    "                    r[cur_n] = max(r[cur_n], cur_cumul_sc)\n",
    "#                     vt.add((cur_n, cur_cumul_sc))\n",
    "                    queue.append((cur_n, cur_cumul_sc))\n",
    "        print(queue)\n",
    "\n",
    "    result = r[n]\n",
    "    \n",
    "    if result == -inf:\n",
    "        print(-1)\n",
    "    else:\n",
    "        print(result)"
   ]
  },
  {
   "cell_type": "code",
   "execution_count": 10,
   "metadata": {},
   "outputs": [
    {
     "name": "stdout",
     "output_type": "stream",
     "text": [
      "2 10\n",
      "83\n"
     ]
    }
   ],
   "source": [
    "mod = 1000000007\n",
    "\n",
    "def get_divisors(num):\n",
    "    divisors = set()\n",
    "    for mod in range(1, int(num ** 0.5) + 1):\n",
    "        if num % mod == 0:\n",
    "            divisors.add(mod)\n",
    "            divisors.add(num // mod)\n",
    "            \n",
    "    divisors.discard(num)\n",
    "    return divisors\n",
    "\n",
    "n, k = map(int, input().split())\n",
    "\n",
    "to_excludes = [set()] + [get_divisors(num) for num in range(1, k + 1)]\n",
    "\n",
    "cur = [1] * (k + 1)\n",
    "cur[0] = 0\n",
    "for _ in range(n - 1):\n",
    "    temp = sum(cur) % mod\n",
    "    ncur = [temp] * (k + 1)\n",
    "    ncur[0] = 0\n",
    "    \n",
    "    for num in range(1, k + 1):\n",
    "        for to_ex in to_excludes[num]:\n",
    "            ncur[to_ex] -= cur[num]\n",
    "            ncur[to_ex] %= mod\n",
    "            \n",
    "    cur = ncur.copy()\n",
    "    \n",
    "r = sum(cur) % mod\n",
    "\n",
    "print(r)"
   ]
  },
  {
   "cell_type": "code",
   "execution_count": 39,
   "metadata": {},
   "outputs": [
    {
     "name": "stdout",
     "output_type": "stream",
     "text": [
      "9\n",
      "oxoxoxxxo\n",
      "oxoxoxxox\n",
      "4 5\n",
      "YES\n"
     ]
    }
   ],
   "source": [
    "n = int(input())\n",
    "s = list(input())\n",
    "t = list(input())\n",
    "\n",
    "a, b = map(int, input().split())\n",
    "\n",
    "av = s[a]\n",
    "bv = s[b]\n",
    "to_use = [av, bv]\n",
    "\n",
    "del s[b]\n",
    "del s[a]\n",
    "\n",
    "ip = True\n",
    "to_use_i = 0\n",
    "si = 0\n",
    "for ti in range(n):\n",
    "    if si >= n - 2 or s[si] != t[ti]:\n",
    "        if to_use_i < 2 and t[ti] == to_use[to_use_i]:\n",
    "            to_use_i += 1\n",
    "        else:\n",
    "            if to_use_i == 0 and ti - 1 >= 0 and t[ti - 1] == to_use[to_use_i]:\n",
    "                si -= 1\n",
    "                to_use_i = 2\n",
    "            else:   \n",
    "                ip = False\n",
    "                break\n",
    "    else:\n",
    "        si += 1\n",
    "            \n",
    "if ip:\n",
    "    print('YES')\n",
    "else:\n",
    "    print('NO')"
   ]
  },
  {
   "cell_type": "code",
   "execution_count": null,
   "metadata": {},
   "outputs": [],
   "source": [
    "# 디버깅용 브루트포스 코드\n",
    "# n = int(input())\n",
    "# s = list(input())\n",
    "# t = list(input())\n",
    "\n",
    "# a, b = map(int, input().split())\n",
    "\n",
    "n = 9\n",
    "s = ['o', 'o', 'x', 'o', 'x', 'o', 'x', 'o', 'x']\n",
    "# t = ['o', 'o', 'x', 'x']\n",
    "a, b = 1, 4\n",
    "\n",
    "av = s[a]\n",
    "bv = s[b]\n",
    "to_use = [av, bv]\n",
    "\n",
    "del s[b]\n",
    "del s[a]\n",
    "\n",
    "for j in range(n - 1):\n",
    "    for i in range(j + 1):\n",
    "        t = s.copy()\n",
    "        \n",
    "        t.insert(j, to_use[1])\n",
    "        t.insert(i, to_use[0])\n",
    "        \n",
    "        ip = True\n",
    "        to_use_i = 0\n",
    "        si = 0\n",
    "        for ti in range(n):\n",
    "            if si >= n - 2 or s[si] != t[ti]:\n",
    "                if to_use_i < 2 and t[ti] == to_use[to_use_i]:\n",
    "                    to_use_i += 1\n",
    "                else:\n",
    "                    if to_use_i == 0 and ti - 1 >= 0 and t[ti - 1] == to_use[to_use_i]:\n",
    "                        si -= 1\n",
    "                        to_use_i = 2\n",
    "                    else:   \n",
    "                        ip = False\n",
    "                        break\n",
    "            else:\n",
    "                si += 1\n",
    "\n",
    "        if ip:\n",
    "            print('YES')\n",
    "        else:\n",
    "            print('NO')    "
   ]
  },
  {
   "cell_type": "markdown",
   "metadata": {},
   "source": [
    "https://www.acmicpc.net/problem/3037 혼란"
   ]
  },
  {
   "cell_type": "code",
   "execution_count": 61,
   "metadata": {},
   "outputs": [
    {
     "name": "stdout",
     "output_type": "stream",
     "text": [
      "9 13\n",
      "17957\n"
     ]
    }
   ],
   "source": [
    "from collections import deque\n",
    "\n",
    "mod = 1000000007\n",
    "\n",
    "n, c = map(int, input().split())\n",
    "\n",
    "dp = [1] * n\n",
    "\n",
    "cur_max = n - 1\n",
    "for cur_len in range(n - 1, 1, -1):\n",
    "    f_max = cur_max\n",
    "    cur_max += cur_len - 1\n",
    "    \n",
    "    ndp = [0] * (min(cur_max + 1, 10001))\n",
    "    is_del_start = False\n",
    "    queue = deque()\n",
    "    w_sum = 0 # window sum\n",
    "    for num in range(min(cur_max + 1, 10001)):    \n",
    "        if num <= f_max:\n",
    "            queue.append(num)\n",
    "            w_sum += dp[num]\n",
    "            w_sum %= mod\n",
    "        \n",
    "        if len(queue) > cur_len:\n",
    "            is_del_start = True\n",
    "\n",
    "        if is_del_start:\n",
    "            temp = queue.popleft()  \n",
    "            w_sum -= dp[temp]\n",
    "            w_sum %= mod\n",
    "            \n",
    "        ndp[num] = w_sum\n",
    "            \n",
    "    dp = ndp.copy()\n",
    "\n",
    "if c > cur_max:\n",
    "    r = 0\n",
    "else:\n",
    "    r = dp[c]\n",
    "\n",
    "print(r)"
   ]
  },
  {
   "cell_type": "markdown",
   "metadata": {},
   "source": [
    "https://www.acmicpc.net/problem/9029 정육면체"
   ]
  },
  {
   "cell_type": "code",
   "execution_count": 24,
   "metadata": {},
   "outputs": [
    {
     "name": "stdout",
     "output_type": "stream",
     "text": [
      "3\n",
      "15 5 5\n",
      "3\n",
      "2 4 3\n",
      "10\n",
      "5 6 6\n",
      "13\n"
     ]
    }
   ],
   "source": [
    "inf = float('inf')\n",
    "\n",
    "def sort_values(a, b, c):\n",
    "    if a <= b <= c:\n",
    "        return a, b, c\n",
    "    elif a <= c <= b:\n",
    "        return a, c, b\n",
    "    elif b <= a <= c:\n",
    "        return b, a, c\n",
    "    elif b <= c <= a:\n",
    "        return b, c, a\n",
    "    elif c <= a <= b:\n",
    "        return c, a, b\n",
    "    else:\n",
    "        return c, b, a\n",
    "\n",
    "length = 201\n",
    "\n",
    "dp = [[[inf] * length for _ in range(length)] for _ in range(length)]\n",
    "cs = [[[inf] * length for _ in range(length)] for _ in range(length)]\n",
    "\n",
    "for i in range(1, length):\n",
    "    dp[i][i][i] = 0\n",
    "    cs[i][i][i] = 1\n",
    "    \n",
    "for w in range(1, length):\n",
    "    for l in range(w, length):\n",
    "        for h in range(l, length):\n",
    "            if dp[w][l][h] == inf:\n",
    "                min_temp = inf\n",
    "                min_temp_cs = -1\n",
    "                for w1 in range(1, w):\n",
    "                    w2 = w - w1\n",
    "                    if w1 > w2:\n",
    "                        break\n",
    "\n",
    "                    a, b, c = sort_values(w1, l, h)\n",
    "                    temp1 = dp[a][b][c]\n",
    "                    temp_c1 = cs[a][b][c]\n",
    "\n",
    "                    a, b, c = sort_values(w2, l, h)\n",
    "                    temp2 = dp[a][b][c]\n",
    "                    temp_c2 = cs[a][b][c]\n",
    "\n",
    "                    temp = temp1 + temp2 + 1\n",
    "                    if temp < min_temp:\n",
    "                        min_temp = temp\n",
    "                        min_temp_cs = temp_c1 + temp_c2\n",
    "                         \n",
    "                for l1 in range(1, l):\n",
    "                    l2 = l - l1\n",
    "                    if l1 > l2:\n",
    "                        break\n",
    "                        \n",
    "                    a, b, c = sort_values(w, l1, h)\n",
    "                    temp1 = dp[a][b][c]\n",
    "                    temp_c1 = cs[a][b][c]\n",
    "\n",
    "                    a, b, c = sort_values(w, l2, h)\n",
    "                    temp2 = dp[a][b][c]\n",
    "                    temp_c2 = cs[a][b][c]\n",
    "\n",
    "                    temp = temp1 + temp2 + 1\n",
    "                    if temp < min_temp:\n",
    "                        min_temp = temp\n",
    "                        min_temp_cs = temp_c1 + temp_c2\n",
    "                          \n",
    "                for h1 in range(1, h):\n",
    "                    h2 = h - h1\n",
    "                    if h1 > h2:\n",
    "                        break\n",
    "                        \n",
    "                    a, b, c = sort_values(w, l, h1)\n",
    "                    temp1 = dp[a][b][c]\n",
    "                    temp_c1 = cs[a][b][c]\n",
    "\n",
    "                    a, b, c = sort_values(w, l, h2)\n",
    "                    temp2 = dp[a][b][c]\n",
    "                    temp_c2 = cs[a][b][c]\n",
    "\n",
    "                    temp = temp1 + temp2 + 1\n",
    "                    if temp < min_temp:\n",
    "                        min_temp = temp\n",
    "                        min_temp_cs = temp_c1 + temp_c2 \n",
    "                            \n",
    "                dp[w][l][h] = min_temp\n",
    "                cs[w][l][h] = min_temp_cs\n",
    "                            \n",
    "for _ in range(int(input())):\n",
    "    w, l, h = map(int, input().split())\n",
    "    \n",
    "    a, b, c = sort_values(w, l, h)\n",
    "    r = cs[a][b][c]\n",
    "    \n",
    "    print(r)"
   ]
  },
  {
   "cell_type": "markdown",
   "metadata": {},
   "source": [
    "https://www.acmicpc.net/problem/12783 곱셈 게임"
   ]
  },
  {
   "cell_type": "code",
   "execution_count": null,
   "metadata": {},
   "outputs": [],
   "source": [
    "inf = float('inf')\n",
    "\n",
    "def recur(nn):    \n",
    "    if dp[nn] != -1:\n",
    "        return dp[nn]\n",
    "    \n",
    "    is_all_included = True\n",
    "    for v in str(nn):\n",
    "        if v not in sst:\n",
    "            is_all_included = False\n",
    "            break\n",
    "    \n",
    "    if is_all_included:\n",
    "        dp[nn] = 0\n",
    "        return dp[nn]\n",
    "    \n",
    "    temp = inf\n",
    "    for mod in range(2, int(nn ** 0.5) + 1):\n",
    "        if nn % mod == 0:\n",
    "            temp = min(temp, recur(mod) + recur(nn // mod) + 1)\n",
    "            \n",
    "    dp[nn] = temp\n",
    "            \n",
    "    return temp\n",
    "\n",
    "for _ in range(int(input())):\n",
    "    n, *li = list(map(int, input().split()))\n",
    "    st = set(li)\n",
    "    sst = {str(v) for v in st}\n",
    "\n",
    "    dp = [-1] * 1000001\n",
    "\n",
    "    if 0 in st:\n",
    "        dp[0] = 0\n",
    "    else:\n",
    "        dp[0] = inf\n",
    "    if 1 in st:\n",
    "        dp[1] = 0\n",
    "    else:\n",
    "        dp[1] = inf\n",
    "\n",
    "    m = int(input())\n",
    "    for _ in range(m):\n",
    "        nn = int(input())\n",
    "\n",
    "        r = recur(nn)\n",
    "\n",
    "        if r == inf:\n",
    "            print(-1)\n",
    "        else:\n",
    "            print(r)"
   ]
  },
  {
   "cell_type": "markdown",
   "metadata": {},
   "source": [
    "https://www.acmicpc.net/problem/18780 Timeline"
   ]
  },
  {
   "cell_type": "code",
   "execution_count": null,
   "metadata": {},
   "outputs": [],
   "source": [
    "from collections import deque\n",
    "import sys\n",
    "input = lambda: sys.stdin.readline().rstrip()\n",
    "\n",
    "n, m, c = map(int, input().split())\n",
    "min_ps = list(map(int, input().split()))\n",
    "\n",
    "li = [[] for _ in range(n)]\n",
    "indegree = [0] * n\n",
    "for _ in range(c):\n",
    "    a, b, x = map(int, input().split())\n",
    "    a -= 1\n",
    "    b -= 1\n",
    "    \n",
    "    li[a].append((b, x))\n",
    "    indegree[b] += 1\n",
    "    \n",
    "queue = deque()\n",
    "for i in range(n):\n",
    "    if indegree[i] == 0:\n",
    "        queue.append(i)\n",
    "        \n",
    "while queue:\n",
    "    value = queue.popleft()\n",
    "    \n",
    "    for v, x in li[value]:\n",
    "        min_ps[v] = max(min_ps[v], min_ps[value] + x)\n",
    "        \n",
    "        indegree[v] -= 1\n",
    "        if indegree[v] == 0:\n",
    "            queue.append(v)\n",
    "            \n",
    "for v in min_ps:\n",
    "    print(v)"
   ]
  }
 ],
 "metadata": {
  "kernelspec": {
   "display_name": "Python 3",
   "language": "python",
   "name": "python3"
  },
  "language_info": {
   "codemirror_mode": {
    "name": "ipython",
    "version": 3
   },
   "file_extension": ".py",
   "mimetype": "text/x-python",
   "name": "python",
   "nbconvert_exporter": "python",
   "pygments_lexer": "ipython3",
   "version": "3.7.4"
  }
 },
 "nbformat": 4,
 "nbformat_minor": 2
}
