{
 "cells": [
  {
   "cell_type": "markdown",
   "metadata": {},
   "source": [
    "### 10828 스택 (재구현)"
   ]
  },
  {
   "cell_type": "code",
   "execution_count": 4,
   "metadata": {},
   "outputs": [
    {
     "name": "stdout",
     "output_type": "stream",
     "text": [
      "14\n",
      "push 1\n",
      "push 1\n",
      "top\n",
      "1\n",
      "size\n",
      "2\n",
      "pop\n",
      "1\n",
      "pop\n",
      "1\n",
      "pop\n",
      "-1\n",
      "size\n",
      "0\n",
      "push 3\n",
      "push 5\n",
      "top\n",
      "5\n",
      "empty\n",
      "0\n",
      "size\n",
      "2\n",
      "pop\n",
      "5\n"
     ]
    }
   ],
   "source": [
    "# 맞았음\n",
    "import sys\n",
    "# input = sys.stdin.readline\n",
    "\n",
    "n = int(input())\n",
    "\n",
    "stack = []\n",
    "for _ in range(n):\n",
    "    command = input().split()\n",
    "    \n",
    "    if len(command) >= 2:\n",
    "        stack.append(int(command[1]))\n",
    "    else:\n",
    "        command = command[0]\n",
    "        \n",
    "        if command == \"top\":\n",
    "            if stack:\n",
    "                print(stack[-1])\n",
    "            else:\n",
    "                print(-1)\n",
    "        elif command == \"pop\":\n",
    "            if stack:\n",
    "                value = stack.pop()\n",
    "                print(value)\n",
    "            else:\n",
    "                print(-1)\n",
    "        elif command == \"size\":\n",
    "            print(len(stack))\n",
    "        elif command == \"empty\":\n",
    "            if stack:\n",
    "                print(0)\n",
    "            else:\n",
    "                print(1)"
   ]
  },
  {
   "cell_type": "code",
   "execution_count": 2,
   "metadata": {},
   "outputs": [
    {
     "data": {
      "text/plain": [
       "['push', '1']"
      ]
     },
     "execution_count": 2,
     "metadata": {},
     "output_type": "execute_result"
    }
   ],
   "source": [
    "\"push 1\".split()"
   ]
  },
  {
   "cell_type": "code",
   "execution_count": 3,
   "metadata": {},
   "outputs": [
    {
     "data": {
      "text/plain": [
       "['push1']"
      ]
     },
     "execution_count": 3,
     "metadata": {},
     "output_type": "execute_result"
    }
   ],
   "source": [
    "\"push1\".split()"
   ]
  },
  {
   "cell_type": "markdown",
   "metadata": {},
   "source": [
    "### 큐 10845"
   ]
  },
  {
   "cell_type": "code",
   "execution_count": 5,
   "metadata": {},
   "outputs": [
    {
     "name": "stdout",
     "output_type": "stream",
     "text": [
      "15\n",
      "push 1\n",
      "push 2\n",
      "front\n",
      "1\n",
      "back\n",
      "2\n",
      "size\n",
      "2\n",
      "empty\n",
      "0\n",
      "pop\n",
      "1\n",
      "pop\n",
      "2\n",
      "pop\n",
      "-1\n",
      "size\n",
      "0\n",
      "empty\n",
      "1\n",
      "pop\n",
      "-1\n",
      "push 3\n",
      "empty\n",
      "0\n",
      "front\n",
      "3\n"
     ]
    }
   ],
   "source": [
    "import sys\n",
    "# input = sys.stdin.readline\n",
    "\n",
    "n = int(input())\n",
    "\n",
    "queue = []\n",
    "for _ in range(n):\n",
    "    command = input().split()\n",
    "    \n",
    "    if len(command) >= 2:\n",
    "        queue.append(int(command[1]))\n",
    "    else:\n",
    "        command = command[0]\n",
    "        \n",
    "        if command == \"pop\":\n",
    "            if queue:\n",
    "                value = queue.pop(0)\n",
    "                print(value)\n",
    "            else:\n",
    "                print(-1)\n",
    "        elif command == \"size\":\n",
    "            print(len(queue))\n",
    "        elif command == \"empty\":\n",
    "            if queue:\n",
    "                print(0)\n",
    "            else:\n",
    "                print(1)\n",
    "        elif command == \"front\":\n",
    "            if queue:\n",
    "                print(queue[0])\n",
    "            else:\n",
    "                print(-1)\n",
    "        elif command == \"back\":\n",
    "            if queue:\n",
    "                print(queue[-1])\n",
    "            else:\n",
    "                print(-1)"
   ]
  },
  {
   "cell_type": "markdown",
   "metadata": {},
   "source": [
    "### 덱 10866"
   ]
  },
  {
   "cell_type": "code",
   "execution_count": 16,
   "metadata": {},
   "outputs": [
    {
     "name": "stdout",
     "output_type": "stream",
     "text": [
      "15\n",
      "push_back 1\n",
      "push_front 2\n",
      "front\n",
      "2\n",
      "back\n",
      "1\n",
      "size\n",
      "2\n",
      "empty\n",
      "0\n",
      "pop_front\n",
      "2\n",
      "pop_back\n",
      "1\n",
      "pop_front\n",
      "-1\n",
      "size\n",
      "0\n",
      "empty\n",
      "1\n",
      "pop_back\n",
      "-1\n",
      "push_front 3\n",
      "empty\n",
      "0\n",
      "front\n",
      "3\n"
     ]
    }
   ],
   "source": [
    "from collections import deque\n",
    "import sys\n",
    "# input = sys.stdin.readline\n",
    "\n",
    "n = int(input())\n",
    "\n",
    "deq = deque()\n",
    "for _ in range(n):\n",
    "    command = input().split()\n",
    "    \n",
    "    if len(command) >= 2:\n",
    "        value = int(command[1])\n",
    "        if command[0] == \"push_front\":\n",
    "            deq.appendleft(value)\n",
    "        else:\n",
    "            deq.append(value)\n",
    "    else:\n",
    "        command = command[0]\n",
    "        \n",
    "        if command == \"pop_front\":\n",
    "            if deq:\n",
    "                print(deq.popleft())\n",
    "            else:\n",
    "                print(-1)\n",
    "        elif command == \"pop_back\":\n",
    "            if deq:\n",
    "                print(deq.pop())\n",
    "            else:\n",
    "                print(-1)\n",
    "        elif command == \"size\":\n",
    "            print(len(deq))\n",
    "        elif command == \"empty\":\n",
    "            if deq:\n",
    "                print(0)\n",
    "            else:\n",
    "                print(1)\n",
    "        elif command == \"front\":\n",
    "            if deq:\n",
    "                print(deq[0])\n",
    "            else:\n",
    "                print(-1)\n",
    "        elif command == \"back\":\n",
    "            if deq:\n",
    "                print(deq[-1])\n",
    "            else:\n",
    "                print(-1)"
   ]
  },
  {
   "cell_type": "markdown",
   "metadata": {},
   "source": [
    "### Hashing 15829"
   ]
  },
  {
   "cell_type": "code",
   "execution_count": 28,
   "metadata": {},
   "outputs": [
    {
     "name": "stdout",
     "output_type": "stream",
     "text": [
      "1\n",
      "i\n",
      "9\n"
     ]
    }
   ],
   "source": [
    "import string\n",
    "\n",
    "l = int(input())\n",
    "s = input()\n",
    "\n",
    "d = {v: i for i, v in enumerate(string.ascii_lowercase, 1)}\n",
    "\n",
    "total = 0\n",
    "for i, v in enumerate(s):\n",
    "    total += d[v] * (31 ** i)\n",
    "    \n",
    "print(total % 1234567891)"
   ]
  },
  {
   "cell_type": "markdown",
   "metadata": {},
   "source": [
    "### 직사각형에서 탈출 1085"
   ]
  },
  {
   "cell_type": "code",
   "execution_count": 29,
   "metadata": {},
   "outputs": [
    {
     "name": "stdout",
     "output_type": "stream",
     "text": [
      "6 2 10 3\n"
     ]
    }
   ],
   "source": [
    "x, y, w, h = map(int, input().split())\n",
    "print(min(x, y, w - x, h - y))"
   ]
  },
  {
   "cell_type": "markdown",
   "metadata": {},
   "source": [
    "### 카드2 2164"
   ]
  },
  {
   "cell_type": "code",
   "execution_count": 32,
   "metadata": {},
   "outputs": [
    {
     "name": "stdout",
     "output_type": "stream",
     "text": [
      "1\n",
      "1\n"
     ]
    }
   ],
   "source": [
    "from collections import deque\n",
    "\n",
    "n = int(input())\n",
    "deq = deque(range(1, n + 1))\n",
    "\n",
    "while len(deq) >= 2:\n",
    "    deq.popleft()\n",
    "    deq.append(deq.popleft())\n",
    "\n",
    "print(deq.pop())"
   ]
  },
  {
   "cell_type": "markdown",
   "metadata": {},
   "source": [
    "### 부녀회장이 될테야 2775"
   ]
  },
  {
   "cell_type": "code",
   "execution_count": 42,
   "metadata": {},
   "outputs": [
    {
     "name": "stdout",
     "output_type": "stream",
     "text": [
      "2\n",
      "1\n",
      "3\n",
      "6\n",
      "2\n",
      "3\n",
      "10\n"
     ]
    }
   ],
   "source": [
    "T = int(input())\n",
    "for _ in range(T):\n",
    "    k = int(input())\n",
    "    n = int(input())\n",
    "\n",
    "    li = list(range(1, n + 1))\n",
    "    for i in range(k):\n",
    "        new_li = li[:]\n",
    "        for j in range(n):     \n",
    "            new_li[j] = sum(li[:j + 1])\n",
    "        li = new_li[:]\n",
    "\n",
    "    print(li[n - 1])"
   ]
  },
  {
   "cell_type": "markdown",
   "metadata": {},
   "source": [
    "### 균형잡힌 세상 4949"
   ]
  },
  {
   "cell_type": "code",
   "execution_count": 1,
   "metadata": {},
   "outputs": [
    {
     "name": "stdout",
     "output_type": "stream",
     "text": [
      "So when I die (the [first] I will see in (heaven) is a score list).\n"
     ]
    }
   ],
   "source": [
    "s = input()"
   ]
  },
  {
   "cell_type": "code",
   "execution_count": 3,
   "metadata": {},
   "outputs": [],
   "source": [
    "import re\n",
    "s = \"\".join(re.findall(\"\\(|\\)|\\[|\\]\", s))"
   ]
  },
  {
   "cell_type": "code",
   "execution_count": 12,
   "metadata": {},
   "outputs": [
    {
     "name": "stdout",
     "output_type": "stream",
     "text": [
      " .\n",
      "yes\n",
      ".\n"
     ]
    }
   ],
   "source": [
    "import re\n",
    "\n",
    "while True:\n",
    "    s = input()\n",
    "    \n",
    "    if s == \".\":\n",
    "        break\n",
    "    \n",
    "    s = \"\".join(re.findall(\"\\(|\\)|\\[|\\]\", s))\n",
    "\n",
    "    while s:\n",
    "        former_s = s\n",
    "        s = s.replace(\"()\", \"\")\n",
    "        s = s.replace(\"[]\", \"\")\n",
    "        if s == former_s:\n",
    "            break\n",
    "\n",
    "    if s:\n",
    "        print(\"no\")\n",
    "    else:\n",
    "        print(\"yes\")"
   ]
  },
  {
   "cell_type": "markdown",
   "metadata": {},
   "source": [
    "### ACM 호텔 10250"
   ]
  },
  {
   "cell_type": "code",
   "execution_count": 14,
   "metadata": {},
   "outputs": [
    {
     "name": "stdout",
     "output_type": "stream",
     "text": [
      "6 12 10\n"
     ]
    }
   ],
   "source": [
    "h, w, n = map(int, input().split())"
   ]
  },
  {
   "cell_type": "code",
   "execution_count": 18,
   "metadata": {},
   "outputs": [
    {
     "name": "stdout",
     "output_type": "stream",
     "text": [
      "2\n",
      "6 12 10\n",
      "402\n",
      "30 50 72\n",
      "1203\n"
     ]
    }
   ],
   "source": [
    "T = int(input())\n",
    "\n",
    "for _ in range(T):\n",
    "    h, w, n = map(int, input().split())\n",
    "\n",
    "    if n % h == 0:\n",
    "        left_num = h\n",
    "    else:\n",
    "        left_num = n % h\n",
    "\n",
    "    right_num = ((n - 1) // h) + 1\n",
    "\n",
    "    left = str(left_num)\n",
    "    right = str(right_num)\n",
    "\n",
    "    if len(right) == 1:\n",
    "        right = \"0\" + right\n",
    "\n",
    "    print(left + right)"
   ]
  },
  {
   "cell_type": "markdown",
   "metadata": {},
   "source": [
    "### 제로 10773"
   ]
  },
  {
   "cell_type": "code",
   "execution_count": 20,
   "metadata": {},
   "outputs": [
    {
     "name": "stdout",
     "output_type": "stream",
     "text": [
      "10\n",
      "1\n",
      "3\n",
      "5\n",
      "4\n",
      "0\n",
      "0\n",
      "7\n",
      "0\n",
      "0\n",
      "6\n",
      "7\n"
     ]
    }
   ],
   "source": [
    "import sys\n",
    "# input = sys.stdin.readline\n",
    "\n",
    "k = int(input())\n",
    "\n",
    "stack = []\n",
    "\n",
    "for _ in range(k):\n",
    "    value = int(input())\n",
    "    \n",
    "    if value != 0:\n",
    "        stack.append(value)\n",
    "    else:\n",
    "        stack.pop()\n",
    "        \n",
    "print(sum(stack))"
   ]
  },
  {
   "cell_type": "markdown",
   "metadata": {},
   "source": [
    "### 요세푸스 문제 0 11866\n",
    "- 자료 구조, 큐"
   ]
  },
  {
   "cell_type": "code",
   "execution_count": 69,
   "metadata": {},
   "outputs": [
    {
     "name": "stdout",
     "output_type": "stream",
     "text": [
      "7 3\n",
      "<3, 6, 2, 7, 5, 1, 4>\n"
     ]
    }
   ],
   "source": [
    "from collections import deque\n",
    "\n",
    "n, k = map(int, input().split())\n",
    "\n",
    "d = deque(range(n, 0, -1))\n",
    "\n",
    "result_li = []\n",
    "while d:\n",
    "    for _ in range(k - 1):\n",
    "        d.rotate()\n",
    "    \n",
    "    result_li.append(d.pop())\n",
    "    \n",
    "print(\"<\" + \", \".join(map(str, result_li)) + \">\")"
   ]
  },
  {
   "cell_type": "code",
   "execution_count": 70,
   "metadata": {},
   "outputs": [
    {
     "name": "stdout",
     "output_type": "stream",
     "text": [
      "7 3\n",
      "<3, 6, 2, 7, 5, 1, 4>\n"
     ]
    }
   ],
   "source": [
    "from collections import deque\n",
    "\n",
    "n, k = map(int, input().split())\n",
    "\n",
    "d = deque(range(n, 0, -1))\n",
    "\n",
    "result_li = []\n",
    "while d:\n",
    "    d.rotate(k - 1)\n",
    "    result_li.append(d.pop())\n",
    "    \n",
    "print(\"<\" + \", \".join(map(str, result_li)) + \">\")"
   ]
  },
  {
   "cell_type": "code",
   "execution_count": 66,
   "metadata": {},
   "outputs": [
    {
     "name": "stdout",
     "output_type": "stream",
     "text": [
      "deque([2, 3, 4, 1])\n"
     ]
    }
   ],
   "source": [
    "a = deque([1, 2, 3, 4])\n",
    "a.rotate(3)\n",
    "print(a)"
   ]
  },
  {
   "cell_type": "code",
   "execution_count": 67,
   "metadata": {},
   "outputs": [
    {
     "name": "stdout",
     "output_type": "stream",
     "text": [
      "deque([1, 2, 3, 4])\n"
     ]
    }
   ],
   "source": [
    "a.rotate(-3)\n",
    "print(a)"
   ]
  },
  {
   "cell_type": "markdown",
   "metadata": {},
   "source": [
    "### 마인크래프트 18111"
   ]
  },
  {
   "cell_type": "code",
   "execution_count": 78,
   "metadata": {},
   "outputs": [
    {
     "name": "stdout",
     "output_type": "stream",
     "text": [
      "3 4 1\n",
      "64 64 64 64\n",
      "64 64 64 64\n",
      "64 64 64 63\n"
     ]
    }
   ],
   "source": [
    "n, m, b = map(int, input().split())\n",
    "li = []\n",
    "\n",
    "for _ in range(n):\n",
    "    li.extend(list(map(int, input().split())))"
   ]
  },
  {
   "cell_type": "code",
   "execution_count": null,
   "metadata": {},
   "outputs": [],
   "source": [
    "# 시간 초과 예상\n",
    "time_spent = 0\n",
    "while max(li) != min(li):\n",
    "    max_indices = [i for i, v in enumerate(li) if v == max(li)]\n",
    "    min_indices = [i for i, v in enumerate(li) if v == min(li)]\n",
    "    \n",
    "    if len(min_indices) <= b and len(max_indices) * 2 > len(min_indices):\n",
    "        for index in min_indices:\n",
    "            li[index] += 1\n",
    "        b -= len(min_indices)\n",
    "        time_spent += len(min_indices)\n",
    "    else:\n",
    "        for index in max_indices:\n",
    "            li[index] -= 1\n",
    "        b += len(max_indices)\n",
    "        time_spent += len(max_indices) * 2\n",
    "\n",
    "print(li)\n",
    "print(time_spent)"
   ]
  },
  {
   "cell_type": "code",
   "execution_count": 117,
   "metadata": {},
   "outputs": [
    {
     "name": "stdout",
     "output_type": "stream",
     "text": [
      "1 5 4\n",
      "1 2 3 4 5\n",
      "9 3\n"
     ]
    }
   ],
   "source": [
    "# 틀렸음, 반례 못찾겠어서 일단 포기\n",
    "from collections import Counter\n",
    "import sys\n",
    "# input = sys.stdin.readline\n",
    "\n",
    "n, m, b = map(int, input().split())\n",
    "li = []\n",
    "\n",
    "for _ in range(n):\n",
    "    li.extend(list(map(int, input().split())))\n",
    "\n",
    "time_spent = 0\n",
    "current_max = max(li)\n",
    "current_min = min(li)\n",
    "\n",
    "count_li = [0] * 257\n",
    "items = Counter(li).items()\n",
    "for i, v in items:\n",
    "    count_li[i] = v\n",
    "\n",
    "while current_max != current_min:\n",
    "    if count_li[current_min] <= b and count_li[current_max] * 2 > count_li[current_min]:\n",
    "        b -= count_li[current_min]\n",
    "        time_spent += count_li[current_min]\n",
    "        \n",
    "        count_li[current_min + 1] += count_li[current_min]\n",
    "        current_min += 1\n",
    "    else:\n",
    "        b += count_li[current_max]\n",
    "        time_spent += count_li[current_max] * 2\n",
    "        \n",
    "        count_li[current_max - 1] += count_li[current_max]\n",
    "        current_max -= 1\n",
    "        \n",
    "print(time_spent, current_max)"
   ]
  },
  {
   "cell_type": "markdown",
   "metadata": {},
   "source": [
    "### 이중 우선순위 큐 7662"
   ]
  },
  {
   "cell_type": "code",
   "execution_count": 118,
   "metadata": {},
   "outputs": [],
   "source": [
    "import heapq"
   ]
  },
  {
   "cell_type": "code",
   "execution_count": null,
   "metadata": {},
   "outputs": [],
   "source": [
    "# 일단 포기함\n",
    "heap = []\n",
    "\n",
    "k = int(input())\n",
    "\n",
    "for _ in range(k):\n",
    "    command, num = input().split()\n",
    "    num = int(num)\n",
    "    \n",
    "    if command = \"I\":\n",
    "        heapq.heappush(heap, num)\n",
    "    else:\n",
    "        if heap:\n",
    "            if num == 1:\n",
    "                heapq.heappop(heap)\n",
    "            else:\n",
    "                heap.pop()"
   ]
  },
  {
   "cell_type": "code",
   "execution_count": 132,
   "metadata": {},
   "outputs": [],
   "source": [
    "heap = []\n",
    "heapq.heappush(heap, 2)\n",
    "heapq.heappush(heap, 3)\n",
    "heapq.heappush(heap, 1)"
   ]
  },
  {
   "cell_type": "code",
   "execution_count": 141,
   "metadata": {},
   "outputs": [
    {
     "data": {
      "text/plain": [
       "5"
      ]
     },
     "execution_count": 141,
     "metadata": {},
     "output_type": "execute_result"
    }
   ],
   "source": [
    "heapq.heappop([5, 3, 1])"
   ]
  },
  {
   "cell_type": "markdown",
   "metadata": {},
   "source": [
    "### 거짓말 1043\n",
    "- 분리 집합, 비스마스킹, 그래프 이론"
   ]
  },
  {
   "cell_type": "code",
   "execution_count": 23,
   "metadata": {},
   "outputs": [
    {
     "name": "stdout",
     "output_type": "stream",
     "text": [
      "4 1\n",
      "0\n",
      "4 1 2 3 4\n",
      "1\n"
     ]
    }
   ],
   "source": [
    "n, m = map(int, input().split())\n",
    "truth = list(map(int, input().split()))\n",
    "del truth[0]\n",
    "\n",
    "parent_li = [i for i in range(m)]\n",
    "rank_li = [0] * m\n",
    "\n",
    "def union(a, b):\n",
    "    a = find(a)\n",
    "    b = find(b)\n",
    "    \n",
    "    if a != b:\n",
    "        if rank_li[a] >= rank_li[b]:\n",
    "            parent_li[b] = a\n",
    "            \n",
    "            if rank_li[a] == rank_li[b]:\n",
    "                rank_li[a] += 1\n",
    "        else:\n",
    "            parent_li[a] = b\n",
    "\n",
    "    \n",
    "def find(n):\n",
    "    if parent_li[n] == n:\n",
    "        return n\n",
    "    else:\n",
    "        parent_li[n] = find(parent_li[n])\n",
    "        return parent_li[n]\n",
    "    \n",
    "    \n",
    "parties = []\n",
    "for i in range(m):\n",
    "    party = list(map(int, input().split()))\n",
    "    del party[0]\n",
    "    party = set(party)\n",
    "    \n",
    "    if not parties:\n",
    "        parties.append(party)\n",
    "    else:\n",
    "        for j in range(len(parties)):\n",
    "            if parties[j] & party:\n",
    "                union(i, j) \n",
    "        parties.append(party)\n",
    "    \n",
    "for i in range(m):\n",
    "    find(i)\n",
    "    \n",
    "telling_truth = [False] * m\n",
    "\n",
    "for i in range(len(truth)):\n",
    "    for j in range(m):\n",
    "        if truth[i] in parties[j]:\n",
    "            for k in range(m):\n",
    "                if parent_li[j] == parent_li[k]:\n",
    "                    telling_truth[k] = True \n",
    "                    \n",
    "print(telling_truth.count(False))"
   ]
  },
  {
   "cell_type": "markdown",
   "metadata": {},
   "source": [
    "### 검열 3111\n",
    "- 구현, 자료 구조, 문자열, 스택"
   ]
  },
  {
   "cell_type": "code",
   "execution_count": null,
   "metadata": {},
   "outputs": [],
   "source": [
    "# 시간 초과\n",
    "from collections import deque\n",
    "\n",
    "a = input()\n",
    "t = input()\n",
    "\n",
    "a_len = len(a)\n",
    "last_index_num = len(a) - 1\n",
    "r_a = a[::-1]\n",
    "\n",
    "t = deque(t)\n",
    "t_len = len(t)\n",
    "while True:\n",
    "    stack = []\n",
    "    current_check_index = 0\n",
    "    while len(t) >= 1:\n",
    "        v = t.popleft()\n",
    "        stack.append(v)\n",
    "        if v == a[current_check_index]:\n",
    "            current_check_index += 1\n",
    "\n",
    "            if current_check_index > last_index_num:\n",
    "                del stack[-a_len:]\n",
    "                break\n",
    "        else:\n",
    "            if current_check_index >= 1:\n",
    "                if v == a[0]:\n",
    "                    current_check_index = 1\n",
    "                    continue\n",
    "                    \n",
    "            current_check_index = 0\n",
    "        \n",
    "    new_t = deque(stack) + t\n",
    "    if t_len == len(new_t):\n",
    "        break\n",
    "        \n",
    "    t = new_t\n",
    "    t_len = len(t)\n",
    "    deq = deque()\n",
    "    current_check_index = 0\n",
    "    while len(t) >= 1:\n",
    "        v = t.pop()\n",
    "        deq.appendleft(v)\n",
    "        if v == r_a[current_check_index]:\n",
    "            current_check_index += 1\n",
    "            \n",
    "            if current_check_index > last_index_num:\n",
    "                li = list(deq)\n",
    "                del li[:a_len]\n",
    "                deq = deque(li)\n",
    "                break\n",
    "        else:\n",
    "            if current_check_index >= 1:\n",
    "                if v == r_a[0]:\n",
    "                    current_check_index = 1\n",
    "                    continue\n",
    "            current_check_index = 0\n",
    "            \n",
    "    new_t = t + deq\n",
    "    if t_len == len(new_t):\n",
    "        break\n",
    "    \n",
    "    t = new_t\n",
    "    t_len = len(t)\n",
    "    \n",
    "    \n",
    "print(\"\".join(new_t))"
   ]
  },
  {
   "cell_type": "markdown",
   "metadata": {},
   "source": [
    "### 가운데를 말해요 1655\n",
    "- 우선순위 큐"
   ]
  },
  {
   "cell_type": "code",
   "execution_count": null,
   "metadata": {},
   "outputs": [],
   "source": [
    "import heapq\n",
    "import sys\n",
    "# input = sys.stdin.readline\n",
    "\n",
    "heap1 = []\n",
    "heap2 = []\n",
    "\n",
    "n = int(input().strip())\n",
    "for _ in range(n):\n",
    "    v = int(input().strip())\n",
    "    \n",
    "    if not heap1:\n",
    "        print(v)\n",
    "        heapq.heappush(heap1, -v)\n",
    "        continue\n",
    "    if len(heap1) == len(heap2):\n",
    "        value = heapq.heappop(heap2)\n",
    "        if v <= value:\n",
    "            heapq.heappush(heap1, -v)\n",
    "            heapq.heappush(heap2, value)\n",
    "        else:\n",
    "            heapq.heappush(heap1, -value)\n",
    "            heapq.heappush(heap2, v)\n",
    "    else:\n",
    "        value = -heapq.heappop(heap1)\n",
    "        if v >= value:\n",
    "            heapq.heappush(heap2, v)\n",
    "            heapq.heappush(heap1, -value)\n",
    "        else:\n",
    "            heapq.heappush(heap2, value)\n",
    "            heapq.heappush(heap1, -v)\n",
    "            \n",
    "    output = -heapq.heappop(heap1)\n",
    "    print(output)\n",
    "    heapq.heappush(heap1, -output)"
   ]
  },
  {
   "cell_type": "markdown",
   "metadata": {},
   "source": [
    "### 중앙값 구하기 2696\n",
    "- 우선순위 큐"
   ]
  },
  {
   "cell_type": "code",
   "execution_count": null,
   "metadata": {},
   "outputs": [],
   "source": [
    "import heapq\n",
    "import sys\n",
    "# input = sys.stdin.readline\n",
    "\n",
    "T = int(input())\n",
    "for case_num in range(T):\n",
    "    heap1 = []\n",
    "    heap2 = []\n",
    "\n",
    "    n = int(input().strip())\n",
    "    input_line_num = (n - 1) // 10 + 1\n",
    "    li = []\n",
    "    for _ in range(input_line_num):\n",
    "        line = map(int, input().strip().split())\n",
    "        li.extend(line)\n",
    "\n",
    "    result = []\n",
    "    for i, v in enumerate(li, 1):\n",
    "        if not heap1:\n",
    "            heapq.heappush(heap1, -v)\n",
    "            result.append(v)\n",
    "            continue\n",
    "        if len(heap1) == len(heap2):\n",
    "            value = heapq.heappop(heap2)\n",
    "            if v <= value:\n",
    "                heapq.heappush(heap1, -v)\n",
    "                heapq.heappush(heap2, value)\n",
    "            else:\n",
    "                heapq.heappush(heap1, -value)\n",
    "                heapq.heappush(heap2, v)\n",
    "        else:\n",
    "            value = -heapq.heappop(heap1)\n",
    "            if v >= value:\n",
    "                heapq.heappush(heap2, v)\n",
    "                heapq.heappush(heap1, -value)\n",
    "            else:\n",
    "                heapq.heappush(heap2, value)\n",
    "                heapq.heappush(heap1, -v)\n",
    "\n",
    "        if i % 2 == 1:\n",
    "            output = -heapq.heappop(heap1)\n",
    "            result.append(output)\n",
    "            heapq.heappush(heap1, -output)\n",
    "\n",
    "    if case_num >= 1:\n",
    "        print()\n",
    "        \n",
    "    print(len(result))\n",
    "    for i, v in enumerate(result, 1):\n",
    "        if i % 10 == 1:\n",
    "            if i != 1:\n",
    "                print()\n",
    "            print(v, end=\"\")\n",
    "        else:\n",
    "            print(f' {v}', end=\"\")"
   ]
  },
  {
   "cell_type": "markdown",
   "metadata": {},
   "source": [
    "### 오큰수 17298\n",
    "- 스택"
   ]
  },
  {
   "cell_type": "code",
   "execution_count": null,
   "metadata": {},
   "outputs": [],
   "source": [
    "n = int(input())\n",
    "li = list(map(int, input().split()))\n",
    "\n",
    "result = [-1]\n",
    "stack = [li[-1]]\n",
    "li.pop()\n",
    "li.reverse()\n",
    "\n",
    "for value in li:\n",
    "    stack_length = len(stack)\n",
    "    for i in range(stack_length - 1, -1, -1):\n",
    "        if stack[i] <= value:\n",
    "            stack.pop()\n",
    "        else:\n",
    "            result.append(stack[i])\n",
    "            stack.append(value)\n",
    "            break\n",
    "    else:\n",
    "        result.append(-1)\n",
    "        stack.append(value)\n",
    "\n",
    "result.reverse()\n",
    "print(\" \".join(map(str, result)))"
   ]
  },
  {
   "cell_type": "markdown",
   "metadata": {},
   "source": [
    "### 오등큰수 17299\n",
    "- 스택"
   ]
  },
  {
   "cell_type": "code",
   "execution_count": null,
   "metadata": {},
   "outputs": [],
   "source": [
    "from collections import Counter\n",
    "\n",
    "n = int(input())\n",
    "li = list(map(int, input().split()))\n",
    "c = Counter(li)\n",
    "\n",
    "result = [-1]\n",
    "stack = [li[-1]]\n",
    "li.pop()\n",
    "li.reverse()\n",
    "\n",
    "for value in li:\n",
    "    stack_length = len(stack)\n",
    "    for i in range(stack_length - 1, -1, -1):\n",
    "        if c[stack[i]] <= c[value]:\n",
    "            stack.pop()\n",
    "        else:\n",
    "            result.append(stack[i])\n",
    "            stack.append(value)\n",
    "            break\n",
    "    else:\n",
    "        result.append(-1)\n",
    "        stack.append(value)\n",
    "\n",
    "result.reverse()\n",
    "print(\" \".join(map(str, result)))"
   ]
  }
 ],
 "metadata": {
  "kernelspec": {
   "display_name": "Python 3",
   "language": "python",
   "name": "python3"
  },
  "language_info": {
   "codemirror_mode": {
    "name": "ipython",
    "version": 3
   },
   "file_extension": ".py",
   "mimetype": "text/x-python",
   "name": "python",
   "nbconvert_exporter": "python",
   "pygments_lexer": "ipython3",
   "version": "3.7.3"
  }
 },
 "nbformat": 4,
 "nbformat_minor": 4
}
