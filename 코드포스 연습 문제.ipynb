{
 "cells": [
  {
   "cell_type": "code",
   "execution_count": 3,
   "metadata": {},
   "outputs": [
    {
     "name": "stdout",
     "output_type": "stream",
     "text": [
      "4\n",
      "word\n",
      "word\n",
      "localization\n",
      "l10n\n",
      "internationalization\n",
      "i18n\n",
      "pneumonoultramicroscopicsilicovolcanoconiosis\n",
      "p43s\n"
     ]
    }
   ],
   "source": [
    "T = int(input())\n",
    "for _ in range(T):\n",
    "    s = input()\n",
    "    if len(s) <= 10:\n",
    "        print(s)\n",
    "    else:\n",
    "        print(s[0] + str(len(s) - 2) + s[-1])"
   ]
  },
  {
   "cell_type": "markdown",
   "metadata": {},
   "source": [
    "A. Theatre Square"
   ]
  },
  {
   "cell_type": "code",
   "execution_count": 4,
   "metadata": {},
   "outputs": [
    {
     "name": "stdout",
     "output_type": "stream",
     "text": [
      "6 6 4\n",
      "4\n"
     ]
    }
   ],
   "source": [
    "n, m, a = map(int, input().split())\n",
    "\n",
    "n_count = 0\n",
    "if n % a != 0:\n",
    "    n_count += 1\n",
    "n_count += n // a\n",
    "\n",
    "m_count = 0\n",
    "if m % a != 0:\n",
    "    m_count += 1\n",
    "m_count += m // a\n",
    "\n",
    "print(n_count * m_count)"
   ]
  },
  {
   "cell_type": "markdown",
   "metadata": {},
   "source": [
    "A. Team"
   ]
  },
  {
   "cell_type": "code",
   "execution_count": 6,
   "metadata": {},
   "outputs": [
    {
     "name": "stdout",
     "output_type": "stream",
     "text": [
      "2\n",
      "1 0 0\n",
      "0 1 1\n",
      "1\n"
     ]
    }
   ],
   "source": [
    "n = int(input())\n",
    "\n",
    "li = [sum(map(int, input().split())) for _ in range(n)]\n",
    "\n",
    "count = 0\n",
    "for v in li:\n",
    "    if v >= 2:\n",
    "        count += 1\n",
    "        \n",
    "print(count)"
   ]
  },
  {
   "cell_type": "markdown",
   "metadata": {},
   "source": [
    "A. Next Round"
   ]
  },
  {
   "cell_type": "code",
   "execution_count": 9,
   "metadata": {},
   "outputs": [
    {
     "name": "stdout",
     "output_type": "stream",
     "text": [
      "4 2\n",
      "0 0 0 0\n",
      "0\n"
     ]
    }
   ],
   "source": [
    "n, k = map(int, input().split())\n",
    "li = list(map(int, input().split()))\n",
    "\n",
    "criteria = li[k - 1]\n",
    "\n",
    "count = 0\n",
    "for v in li:\n",
    "    if v >= criteria and v > 0:\n",
    "        count += 1\n",
    "        \n",
    "print(count)"
   ]
  },
  {
   "cell_type": "markdown",
   "metadata": {},
   "source": [
    "A. Domino piling"
   ]
  },
  {
   "cell_type": "code",
   "execution_count": 16,
   "metadata": {},
   "outputs": [
    {
     "name": "stdout",
     "output_type": "stream",
     "text": [
      "1 1\n",
      "0\n"
     ]
    }
   ],
   "source": [
    "m, n = map(int, input().split())\n",
    "\n",
    "if m == 1 and n == 1:\n",
    "    print(0)\n",
    "elif m % 2 == 1 and n % 2 == 1:\n",
    "    print((m * (n - 1)) // 2 + m // 2)\n",
    "else:\n",
    "    print((m * n) // 2)"
   ]
  },
  {
   "cell_type": "markdown",
   "metadata": {},
   "source": [
    "B. Planet Lapituletti"
   ]
  },
  {
   "cell_type": "code",
   "execution_count": null,
   "metadata": {},
   "outputs": [],
   "source": []
  }
 ],
 "metadata": {
  "kernelspec": {
   "display_name": "Python 3",
   "language": "python",
   "name": "python3"
  },
  "language_info": {
   "codemirror_mode": {
    "name": "ipython",
    "version": 3
   },
   "file_extension": ".py",
   "mimetype": "text/x-python",
   "name": "python",
   "nbconvert_exporter": "python",
   "pygments_lexer": "ipython3",
   "version": "3.7.3"
  }
 },
 "nbformat": 4,
 "nbformat_minor": 4
}
