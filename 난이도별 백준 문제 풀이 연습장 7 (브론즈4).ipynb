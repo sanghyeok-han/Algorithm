{
 "cells": [
  {
   "cell_type": "code",
   "execution_count": 1,
   "metadata": {},
   "outputs": [
    {
     "name": "stdout",
     "output_type": "stream",
     "text": [
      "932\n",
      "FA\n"
     ]
    }
   ],
   "source": [
    "n = input()\n",
    "print('FA')"
   ]
  },
  {
   "cell_type": "code",
   "execution_count": null,
   "metadata": {},
   "outputs": [],
   "source": [
    "n = int(input())\n",
    "li = list(map(int, input().split()))\n",
    "print(li.count(n))"
   ]
  },
  {
   "cell_type": "code",
   "execution_count": 3,
   "metadata": {},
   "outputs": [
    {
     "name": "stdout",
     "output_type": "stream",
     "text": [
      "5551212\n",
      "YES\n"
     ]
    }
   ],
   "source": [
    "n = input()\n",
    "if n[:3] == '555':\n",
    "    print('YES')\n",
    "else:\n",
    "    print('NO')"
   ]
  },
  {
   "cell_type": "code",
   "execution_count": null,
   "metadata": {},
   "outputs": [],
   "source": [
    "n = int(input())\n",
    "m = int(input())\n",
    "\n",
    "if n >= 3 and m <= 4:\n",
    "    print('TroyMartian')\n",
    "\n",
    "if n <= 6 and m >= 2:\n",
    "    print('VladSaturnian')\n",
    "    \n",
    "if n <= 2 and m <= 3:\n",
    "    print('GraemeMercurian')"
   ]
  },
  {
   "cell_type": "code",
   "execution_count": 4,
   "metadata": {},
   "outputs": [
    {
     "name": "stdout",
     "output_type": "stream",
     "text": [
      "0 0 0\n",
      "100 100 100\n",
      "300\n"
     ]
    }
   ],
   "source": [
    "a = list(map(int, input().split()))\n",
    "b = list(map(int, input().split()))\n",
    "\n",
    "total = 0\n",
    "for i in range(3):\n",
    "    diff = b[i] - a[i]\n",
    "    diff = max(0, diff)\n",
    "    \n",
    "    total += diff\n",
    "    \n",
    "print(total)"
   ]
  },
  {
   "cell_type": "code",
   "execution_count": 6,
   "metadata": {},
   "outputs": [
    {
     "name": "stdout",
     "output_type": "stream",
     "text": [
      "5\n",
      "6\n",
      "6\n",
      "8\n",
      "answer\n"
     ]
    }
   ],
   "source": [
    "li = [int(input()) for _ in range(4)]\n",
    "\n",
    "def check():\n",
    "    if li[0] != 8 and li[0] != 9:\n",
    "        return False\n",
    "    \n",
    "    if li[-1] != 8 and li[-1] != 9:\n",
    "        return False\n",
    "    \n",
    "    if li[1] != li[2]:\n",
    "        return False\n",
    "    \n",
    "    return True\n",
    "\n",
    "if check():\n",
    "    print('ignore')\n",
    "else:\n",
    "    print('answer')"
   ]
  },
  {
   "cell_type": "code",
   "execution_count": 9,
   "metadata": {},
   "outputs": [
    {
     "name": "stdout",
     "output_type": "stream",
     "text": [
      "1234\n",
      "140.51334456200237\n"
     ]
    }
   ],
   "source": [
    "n = int(input())\n",
    "\n",
    "print(n ** 0.5 * 4)"
   ]
  },
  {
   "cell_type": "code",
   "execution_count": 10,
   "metadata": {},
   "outputs": [
    {
     "name": "stdout",
     "output_type": "stream",
     "text": [
      "100\n",
      "120\n",
      "You are speeding and your fine is $100.\n"
     ]
    }
   ],
   "source": [
    "limit = int(input())\n",
    "actual = int(input())\n",
    "\n",
    "if actual <= limit:\n",
    "    print('Congratulations, you are within the speed limit!')\n",
    "else:\n",
    "    diff = actual - limit\n",
    "    \n",
    "    fine = 0\n",
    "    if diff <= 20:\n",
    "        fine = 100\n",
    "    elif diff <= 30:\n",
    "        fine = 270\n",
    "    else:\n",
    "        fine = 500\n",
    "        \n",
    "    print(f'You are speeding and your fine is ${fine}.')"
   ]
  },
  {
   "cell_type": "code",
   "execution_count": 11,
   "metadata": {},
   "outputs": [
    {
     "name": "stdout",
     "output_type": "stream",
     "text": [
      "1234\n",
      "140.51334456200237\n"
     ]
    }
   ],
   "source": [
    "n = int(input())\n",
    "\n",
    "print(n ** 0.5 * 4)"
   ]
  },
  {
   "cell_type": "code",
   "execution_count": 12,
   "metadata": {},
   "outputs": [
    {
     "name": "stdout",
     "output_type": "stream",
     "text": [
      "3\n",
      "1\n",
      "0\n",
      "sad\n"
     ]
    }
   ],
   "source": [
    "li = [int(input()) for _ in range(3)]\n",
    "\n",
    "total = 0\n",
    "for i in range(3):\n",
    "    total += (li[i] * (i + 1))\n",
    "    \n",
    "if total >= 10:\n",
    "    print('happy')\n",
    "else:\n",
    "    print('sad')"
   ]
  },
  {
   "cell_type": "code",
   "execution_count": 18,
   "metadata": {},
   "outputs": [
    {
     "name": "stdout",
     "output_type": "stream",
     "text": [
      "0 1\n",
      "Odd 2\n"
     ]
    }
   ],
   "source": [
    "a, b = map(int, input().split())\n",
    "\n",
    "if a == b:\n",
    "    print('Even', a + b)\n",
    "elif min(a, b) == 0:\n",
    "    print('Not a moose')\n",
    "else:\n",
    "    print('Odd', max(a, b) * 2)"
   ]
  },
  {
   "cell_type": "code",
   "execution_count": 6,
   "metadata": {},
   "outputs": [
    {
     "name": "stdout",
     "output_type": "stream",
     "text": [
      "0 0\n",
      "10\n",
      "-10 -10\n",
      "-10 10\n",
      "10 10\n",
      "10 -10\n"
     ]
    }
   ],
   "source": [
    "x, y = map(int, input().split())\n",
    "r = int(input())\n",
    "\n",
    "print(x - r, y - r)\n",
    "print(x - r, y + r)\n",
    "print(x + r, y + r)\n",
    "print(x + r, y - r)"
   ]
  },
  {
   "cell_type": "code",
   "execution_count": 13,
   "metadata": {},
   "outputs": [
    {
     "name": "stdout",
     "output_type": "stream",
     "text": [
      "1 2 10\n",
      "8\n"
     ]
    }
   ],
   "source": [
    "a, b, c = map(int, input().split())\n",
    "\n",
    "total = 0\n",
    "cons = 0\n",
    "cur = 0\n",
    "while total < c:\n",
    "    cur += 1\n",
    "    cons += 1\n",
    "    total += a\n",
    "    \n",
    "    if cons == 7:\n",
    "        total += b\n",
    "        cons = 0\n",
    "        \n",
    "print(cur)"
   ]
  },
  {
   "cell_type": "code",
   "execution_count": 14,
   "metadata": {},
   "outputs": [
    {
     "data": {
      "text/plain": [
       "44032"
      ]
     },
     "execution_count": 14,
     "metadata": {},
     "output_type": "execute_result"
    }
   ],
   "source": [
    "ord('가')"
   ]
  },
  {
   "cell_type": "code",
   "execution_count": 15,
   "metadata": {},
   "outputs": [
    {
     "data": {
      "text/plain": [
       "55203"
      ]
     },
     "execution_count": 15,
     "metadata": {},
     "output_type": "execute_result"
    }
   ],
   "source": [
    "ord('힣')"
   ]
  },
  {
   "cell_type": "code",
   "execution_count": 18,
   "metadata": {},
   "outputs": [
    {
     "name": "stdout",
     "output_type": "stream",
     "text": [
      "11172\n",
      "힣\n"
     ]
    }
   ],
   "source": [
    "n = int(input())\n",
    "\n",
    "print(chr(44031 + n))"
   ]
  },
  {
   "cell_type": "code",
   "execution_count": 25,
   "metadata": {},
   "outputs": [
    {
     "name": "stdout",
     "output_type": "stream",
     "text": [
      "1 2 1\n",
      "1\n"
     ]
    }
   ],
   "source": [
    "li = list(map(int, input().split()))\n",
    "\n",
    "c1 = li.count(1)\n",
    "c2 = li.count(2)\n",
    "\n",
    "if c1 > c2:\n",
    "    print(1)\n",
    "else:\n",
    "    print(2)"
   ]
  },
  {
   "cell_type": "code",
   "execution_count": 30,
   "metadata": {},
   "outputs": [
    {
     "name": "stdout",
     "output_type": "stream",
     "text": [
      "7 3 10\n",
      "7\n"
     ]
    }
   ],
   "source": [
    "x, l, r = map(int, input().split())\n",
    "\n",
    "min_abs_diff = float('inf')\n",
    "min_abs_diff_num = float('inf')\n",
    "for i in range(l, r + 1):\n",
    "    abs_diff = abs(i - x)\n",
    "    if abs_diff < min_abs_diff:\n",
    "        min_abs_diff = abs_diff\n",
    "        min_abs_diff_num = i\n",
    "        \n",
    "print(min_abs_diff_num)"
   ]
  },
  {
   "cell_type": "code",
   "execution_count": 31,
   "metadata": {},
   "outputs": [
    {
     "name": "stdout",
     "output_type": "stream",
     "text": [
      "4 6 9\n",
      "8\n"
     ]
    }
   ],
   "source": [
    "li = sorted(map(int, input().split()))\n",
    "\n",
    "cri = li[-1]\n",
    "print(cri * 2 - li[0] - li[1])"
   ]
  },
  {
   "cell_type": "code",
   "execution_count": 33,
   "metadata": {},
   "outputs": [
    {
     "name": "stdout",
     "output_type": "stream",
     "text": [
      "6 2 200 3 300\n",
      "600\n"
     ]
    }
   ],
   "source": [
    "n, a, ac, b, bc = map(int, input().split())\n",
    "\n",
    "t1 = 0\n",
    "count = n // a\n",
    "t1 += count * ac\n",
    "if n % a:\n",
    "    t1 += ac\n",
    "    \n",
    "t2 = 0\n",
    "count = n // b\n",
    "t2 += count * bc\n",
    "if n % b:\n",
    "    t2 += bc\n",
    "    \n",
    "print(min(t1, t2))"
   ]
  },
  {
   "cell_type": "code",
   "execution_count": 35,
   "metadata": {},
   "outputs": [
    {
     "name": "stdout",
     "output_type": "stream",
     "text": [
      "3\n"
     ]
    }
   ],
   "source": [
    "k, w, m = map(int, input().split())\n",
    "\n",
    "if k >= w:\n",
    "    print(0)\n",
    "else:\n",
    "    diff = w - k\n",
    "    c = diff // m\n",
    "    if diff % m:\n",
    "        c += 1\n",
    "        \n",
    "    print(c)"
   ]
  },
  {
   "cell_type": "code",
   "execution_count": 39,
   "metadata": {},
   "outputs": [
    {
     "name": "stdout",
     "output_type": "stream",
     "text": [
      "10 2\n",
      "7000\n"
     ]
    }
   ],
   "source": [
    "x, k = map(int, input().split())\n",
    "\n",
    "t1 = k / 4 + k / 2 + k\n",
    "t2 =  k / 2 + k + k * 2\n",
    "t3 = k + k * 2 + k * 4\n",
    "\n",
    "if t3 <= x:\n",
    "    print(int(t3 * 1000))\n",
    "elif t2 <= x:\n",
    "    print(int(t2 * 1000))\n",
    "elif t1 <= x:\n",
    "    print(int(t1 * 1000))\n",
    "else:\n",
    "    print(0)"
   ]
  },
  {
   "cell_type": "code",
   "execution_count": 38,
   "metadata": {},
   "outputs": [
    {
     "data": {
      "text/plain": [
       "3.5"
      ]
     },
     "execution_count": 38,
     "metadata": {},
     "output_type": "execute_result"
    }
   ],
   "source": [
    "7, 13\n",
    "\n"
   ]
  },
  {
   "cell_type": "code",
   "execution_count": 43,
   "metadata": {},
   "outputs": [
    {
     "name": "stdout",
     "output_type": "stream",
     "text": [
      "1 1\n",
      "7 13\n"
     ]
    }
   ],
   "source": [
    "a, b = map(int, input().split())\n",
    "\n",
    "aa = a * 7\n",
    "bb = b * 13\n",
    "\n",
    "if aa == bb:\n",
    "    print('lika')\n",
    "elif aa < bb:\n",
    "    print('Petra')\n",
    "else:\n",
    "    print('Axel')"
   ]
  },
  {
   "cell_type": "code",
   "execution_count": null,
   "metadata": {},
   "outputs": [],
   "source": [
    "학년이 아니라 등급으로 해석해야 해요.\n",
    "\n",
    "A, C, E가 모두 충족된 경우 A등급\n",
    "\n",
    "C, E가 충족된 경우 C등급\n",
    "\n",
    "E가 충족된 경우 E등급에\n",
    "\n",
    "\n",
    "\n",
    "C등급 조건에 A등급 조건의 절반이 충족되면 B등급\n",
    "\n",
    "E등급 조건에 C등급 조건의 절반이 충족되면 D등급\n",
    "\n",
    "\n",
    "\n",
    "이라는 의미에요"
   ]
  },
  {
   "cell_type": "code",
   "execution_count": 45,
   "metadata": {},
   "outputs": [
    {
     "name": "stdout",
     "output_type": "stream",
     "text": [
      "10 10 10\n",
      "0 4 10\n",
      "E\n"
     ]
    }
   ],
   "source": [
    "ac, cc, ec = map(int, input().split())\n",
    "a, c, e = map(int, input().split())\n",
    "\n",
    "if e >= ec and c >= cc and a >= ac:\n",
    "    print('A')\n",
    "elif e >= ec and c >= cc and a >= ac / 2:\n",
    "    print('B')\n",
    "elif e >= ec and c >= cc:\n",
    "    print('C')\n",
    "elif e >= ec and c >= cc / 2:\n",
    "    print('D')\n",
    "else:\n",
    "    print('E')"
   ]
  },
  {
   "cell_type": "code",
   "execution_count": 52,
   "metadata": {},
   "outputs": [
    {
     "name": "stdout",
     "output_type": "stream",
     "text": [
      "10\n",
      "20\n",
      "30\n",
      "80\n"
     ]
    }
   ],
   "source": [
    "a = int(input())\n",
    "b = int(input())\n",
    "c = int(input())\n",
    "\n",
    "t1 = b + c * 2\n",
    "t2 = a + c\n",
    "t3 = a * 2 + b\n",
    "\n",
    "print(min(t1, t2, t3) * 2)"
   ]
  },
  {
   "cell_type": "code",
   "execution_count": 53,
   "metadata": {},
   "outputs": [
    {
     "name": "stdout",
     "output_type": "stream",
     "text": [
      "22 5 22\n"
     ]
    }
   ],
   "source": [
    "li = sorted(map(int, input().split()))\n",
    "\n"
   ]
  },
  {
   "cell_type": "code",
   "execution_count": 56,
   "metadata": {},
   "outputs": [
    {
     "name": "stdout",
     "output_type": "stream",
     "text": [
      "45 8 7\n",
      "N\n"
     ]
    }
   ],
   "source": [
    "def check():\n",
    "    if li[0] == li[1] or li[1] == li[2]:\n",
    "        return True\n",
    "    \n",
    "    if li[0] + li[1] == li[2]:\n",
    "        return True\n",
    "    \n",
    "    return False\n",
    "\n",
    "li = sorted(map(int, input().split()))\n",
    "\n",
    "if check():\n",
    "    print('S')\n",
    "else:\n",
    "    print('N')"
   ]
  },
  {
   "cell_type": "code",
   "execution_count": null,
   "metadata": {},
   "outputs": [],
   "source": [
    "a, b = map(int, input().split())\n",
    "print(max(a, b))"
   ]
  },
  {
   "cell_type": "code",
   "execution_count": 59,
   "metadata": {},
   "outputs": [
    {
     "name": "stdout",
     "output_type": "stream",
     "text": [
      "3 4 5\n",
      "1\n"
     ]
    }
   ],
   "source": [
    "li = sorted(map(int, input().split()))\n",
    "\n",
    "if li[0] == li[1] == li[2]:\n",
    "    print(2)\n",
    "elif li[0] ** 2 + li[1] ** 2 == li[2] ** 2:\n",
    "    print(1)\n",
    "else:\n",
    "    print(0)"
   ]
  },
  {
   "cell_type": "code",
   "execution_count": null,
   "metadata": {},
   "outputs": [],
   "source": [
    "how many miles per gallon Mirko's car travels."
   ]
  },
  {
   "cell_type": "code",
   "execution_count": null,
   "metadata": {},
   "outputs": [],
   "source": [
    "Note: 1 gallon equals exactly 3.785411784 liters, and 1 mile equals exactly 1609.344 meters."
   ]
  },
  {
   "cell_type": "code",
   "execution_count": null,
   "metadata": {},
   "outputs": [],
   "source": [
    "n = int(input())\n",
    "\n"
   ]
  },
  {
   "cell_type": "code",
   "execution_count": null,
   "metadata": {},
   "outputs": [],
   "source": [
    "n = n * 1609.344\n",
    "n * "
   ]
  },
  {
   "cell_type": "code",
   "execution_count": null,
   "metadata": {},
   "outputs": [],
   "source": [
    "Write a program that will convert fuel consumption from miles per gallon to liters per 100 kilometers."
   ]
  },
  {
   "cell_type": "code",
   "execution_count": null,
   "metadata": {},
   "outputs": [],
   "source": [
    "n = miles / gallon  =  1609.344 meters /  3.785411784 liters"
   ]
  },
  {
   "cell_type": "code",
   "execution_count": null,
   "metadata": {},
   "outputs": [],
   "source": [
    "n = 1609.344 / 3.785411784 * m / l"
   ]
  },
  {
   "cell_type": "code",
   "execution_count": null,
   "metadata": {},
   "outputs": [],
   "source": [
    "n * 3.785411784  / 1609.344 = m / l"
   ]
  },
  {
   "cell_type": "code",
   "execution_count": null,
   "metadata": {},
   "outputs": [],
   "source": [
    "n * 3.785411784  / 1609.344 * 1000 = km / l"
   ]
  },
  {
   "cell_type": "code",
   "execution_count": 66,
   "metadata": {},
   "outputs": [
    {
     "data": {
      "text/plain": [
       "23.52145833333333"
      ]
     },
     "execution_count": 66,
     "metadata": {},
     "output_type": "execute_result"
    }
   ],
   "source": [
    "n = 10\n",
    "n * 3.785411784  / 1609.344 * 1000 "
   ]
  },
  {
   "cell_type": "code",
   "execution_count": null,
   "metadata": {},
   "outputs": [],
   "source": [
    "n * 3.785411784  / 1609.344 * 100000 = 100km/l"
   ]
  },
  {
   "cell_type": "code",
   "execution_count": 67,
   "metadata": {},
   "outputs": [
    {
     "data": {
      "text/plain": [
       "2352.145833333333"
      ]
     },
     "execution_count": 67,
     "metadata": {},
     "output_type": "execute_result"
    }
   ],
   "source": [
    "n * 3.785411784  / 1609.344 * 100000"
   ]
  },
  {
   "cell_type": "code",
   "execution_count": 69,
   "metadata": {},
   "outputs": [
    {
     "name": "stdout",
     "output_type": "stream",
     "text": [
      "177.08\n",
      "416.5179841666667\n"
     ]
    }
   ],
   "source": [
    "n = float(input())\n",
    "n = n * 3.785411784  / 1609.344 * 1000\n",
    "print(n)"
   ]
  },
  {
   "cell_type": "code",
   "execution_count": 63,
   "metadata": {},
   "outputs": [
    {
     "data": {
      "text/plain": [
       "23.52145833333333"
      ]
     },
     "execution_count": 63,
     "metadata": {},
     "output_type": "execute_result"
    }
   ],
   "source": [
    "n = 1 마일 / 1갤런 = 1609.344 미터 / 3.785411784 리터"
   ]
  },
  {
   "cell_type": "code",
   "execution_count": null,
   "metadata": {},
   "outputs": [],
   "source": [
    "n * 마일 / 갤런 = n * 1609.344 미터 / 3.785411784 리터"
   ]
  },
  {
   "cell_type": "code",
   "execution_count": 70,
   "metadata": {},
   "outputs": [
    {
     "data": {
      "text/plain": [
       "4251.43707430272"
      ]
     },
     "execution_count": 70,
     "metadata": {},
     "output_type": "execute_result"
    }
   ],
   "source": [
    "n = 10\n",
    "n * 1609.344 / 3.785411784"
   ]
  },
  {
   "cell_type": "code",
   "execution_count": 71,
   "metadata": {},
   "outputs": [
    {
     "data": {
      "text/plain": [
       "0.042514370743027205"
      ]
     },
     "execution_count": 71,
     "metadata": {},
     "output_type": "execute_result"
    }
   ],
   "source": [
    "4251.43707430272 / 100000"
   ]
  },
  {
   "cell_type": "code",
   "execution_count": 72,
   "metadata": {},
   "outputs": [
    {
     "data": {
      "text/plain": [
       "23.52145833333333"
      ]
     },
     "execution_count": 72,
     "metadata": {},
     "output_type": "execute_result"
    }
   ],
   "source": [
    "100000 / 4251.43707430272"
   ]
  },
  {
   "cell_type": "code",
   "execution_count": 76,
   "metadata": {},
   "outputs": [
    {
     "name": "stdout",
     "output_type": "stream",
     "text": [
      "10.00\n",
      "23.52145833333333\n"
     ]
    }
   ],
   "source": [
    "n = float(input())\n",
    "\n",
    "temp = n * 1609.344 / 3.785411784\n",
    "print(100000 / temp)"
   ]
  },
  {
   "cell_type": "code",
   "execution_count": 85,
   "metadata": {},
   "outputs": [
    {
     "name": "stdout",
     "output_type": "stream",
     "text": [
      "6875 7109\n"
     ]
    }
   ],
   "source": [
    "a, b = map(int, input().split())\n",
    "\n",
    "aa = [a]\n",
    "bb = [b]\n",
    "for i in range(1000000):\n",
    "    aa.append(aa[-1] + a)\n",
    "    bb.append(bb[-1] + b)\n",
    "    \n",
    "for i in range(1, 1000000):\n",
    "    if aa[i] <= bb[i - 1]:\n",
    "        break\n",
    "        \n",
    "print(i + 1)"
   ]
  },
  {
   "cell_type": "code",
   "execution_count": 92,
   "metadata": {},
   "outputs": [
    {
     "name": "stdout",
     "output_type": "stream",
     "text": [
      "2 3\n",
      "Odd 6\n"
     ]
    }
   ],
   "source": [
    "a, b = map(int, input().split())\n",
    "\n",
    "if a + b == 0:\n",
    "    print('Not a moose')\n",
    "elif a == b:\n",
    "    print('Even', a + b)\n",
    "else:\n",
    "    print('Odd', max(a, b) * 2)"
   ]
  },
  {
   "cell_type": "code",
   "execution_count": 105,
   "metadata": {},
   "outputs": [
    {
     "name": "stdout",
     "output_type": "stream",
     "text": [
      "-7 -3\n",
      "3\n",
      "2\n"
     ]
    }
   ],
   "source": [
    "a, b = map(int, input().split())\n",
    "\n",
    "t1 = a // b\n",
    "t2 = a % b\n",
    "\n",
    "if t2 < 0:\n",
    "    t2 += abs(b)\n",
    "    t1 += 1\n",
    "    \n",
    "print(t1)\n",
    "print(t2)"
   ]
  },
  {
   "cell_type": "code",
   "execution_count": 101,
   "metadata": {},
   "outputs": [
    {
     "data": {
      "text/plain": [
       "7"
      ]
     },
     "execution_count": 101,
     "metadata": {},
     "output_type": "execute_result"
    }
   ],
   "source": [
    "-3 * -3 + -2"
   ]
  },
  {
   "cell_type": "code",
   "execution_count": 108,
   "metadata": {},
   "outputs": [
    {
     "name": "stdout",
     "output_type": "stream",
     "text": [
      "4 2 1\n",
      "24\n"
     ]
    }
   ],
   "source": [
    "n, a, b = map(int, input().split())\n",
    "\n",
    "t1 = max(a, n - a)\n",
    "t2 = max(b, n - b)\n",
    "print(t1 * t2 * 4)"
   ]
  },
  {
   "cell_type": "code",
   "execution_count": null,
   "metadata": {},
   "outputs": [],
   "source": [
    "a = int(input())\n",
    "b = int(input())\n",
    "c = int(input())\n",
    "d = int(input())\n",
    "\n",
    "if a < b < c < d:\n",
    "    print('Fish Rising')\n",
    "elif a > b > c > d:\n",
    "    print('Fish Diving')\n",
    "elif a == b == c == d:\n",
    "    print('Fish At Constant Depth')\n",
    "else:\n",
    "    print('No Fish')"
   ]
  },
  {
   "cell_type": "code",
   "execution_count": 113,
   "metadata": {},
   "outputs": [
    {
     "name": "stdout",
     "output_type": "stream",
     "text": [
      "1 1\n",
      "0.5857864376269049\n"
     ]
    }
   ],
   "source": [
    "a, b = map(int, input().split())\n",
    "\n",
    "t1 = (a ** 2 + b ** 2) ** 0.5\n",
    "t2 = a + b\n",
    "\n",
    "print(t2 - t1)"
   ]
  },
  {
   "cell_type": "code",
   "execution_count": 117,
   "metadata": {},
   "outputs": [
    {
     "name": "stdout",
     "output_type": "stream",
     "text": [
      "1 1 10 1\n",
      "1\n"
     ]
    }
   ],
   "source": [
    "p1, q1, p2, q2 = map(int, input().split())\n",
    "\n",
    "to_check = p1 * p2 / (q1 * q2)\n",
    "to_check = round(to_check, 10)\n",
    "\n",
    "if to_check == int(to_check) and to_check % 2 == 0:\n",
    "    print(1)\n",
    "else:\n",
    "    print(0)"
   ]
  },
  {
   "cell_type": "code",
   "execution_count": null,
   "metadata": {},
   "outputs": [],
   "source": [
    "for _ in range(int(input())):\n",
    "    print('SciComLove')"
   ]
  },
  {
   "cell_type": "code",
   "execution_count": 120,
   "metadata": {},
   "outputs": [
    {
     "name": "stdout",
     "output_type": "stream",
     "text": [
      "841 108\n",
      "8 606\n",
      "Slice of pizza\n"
     ]
    }
   ],
   "source": [
    "pi = 3.14159265359\n",
    "\n",
    "a1, p1 = map(int, input().split())\n",
    "r1, p2 = map(int, input().split())\n",
    "\n",
    "a2 = r1 ** 2 * pi\n",
    "\n",
    "if a1 / p1 > a2 / p2:\n",
    "    print('Slice of pizza')\n",
    "else:\n",
    "    print('Whole pizza')"
   ]
  },
  {
   "cell_type": "code",
   "execution_count": 122,
   "metadata": {},
   "outputs": [],
   "source": [
    "s = '''1995: ITMO\n",
    "1996: SPbSU\n",
    "1997: SPbSU\n",
    "1998: ITMO\n",
    "1999: ITMO\n",
    "2000: SPbSU\n",
    "2001: ITMO\n",
    "2002: ITMO\n",
    "2003: ITMO\n",
    "2004: ITMO\n",
    "2005: ITMO\n",
    "2006: PetrSU, ITMO\n",
    "2007: SPbSU\n",
    "2008: SPbSU\n",
    "2009: ITMO\n",
    "2010: ITMO\n",
    "2011: ITMO\n",
    "2012: ITMO\n",
    "2013: SPbSU\n",
    "2014: ITMO\n",
    "2015: ITMO\n",
    "2016: ITMO\n",
    "2017: ITMO\n",
    "2018: SPbSU\n",
    "2019: ITMO'''"
   ]
  },
  {
   "cell_type": "code",
   "execution_count": 125,
   "metadata": {},
   "outputs": [],
   "source": [
    "li = [v.split(':') for v in s.split('\\n')]"
   ]
  },
  {
   "cell_type": "code",
   "execution_count": 126,
   "metadata": {},
   "outputs": [],
   "source": [
    "for i in range(len(li)):\n",
    "    li[i][1] = li[i][1].lstrip()"
   ]
  },
  {
   "cell_type": "code",
   "execution_count": 129,
   "metadata": {},
   "outputs": [],
   "source": [
    "d = dict(li)"
   ]
  },
  {
   "cell_type": "code",
   "execution_count": 131,
   "metadata": {},
   "outputs": [
    {
     "name": "stdout",
     "output_type": "stream",
     "text": [
      "2019\n",
      "ITMO\n"
     ]
    }
   ],
   "source": [
    "s = '''1995: ITMO\n",
    "1996: SPbSU\n",
    "1997: SPbSU\n",
    "1998: ITMO\n",
    "1999: ITMO\n",
    "2000: SPbSU\n",
    "2001: ITMO\n",
    "2002: ITMO\n",
    "2003: ITMO\n",
    "2004: ITMO\n",
    "2005: ITMO\n",
    "2006: PetrSU, ITMO\n",
    "2007: SPbSU\n",
    "2008: SPbSU\n",
    "2009: ITMO\n",
    "2010: ITMO\n",
    "2011: ITMO\n",
    "2012: ITMO\n",
    "2013: SPbSU\n",
    "2014: ITMO\n",
    "2015: ITMO\n",
    "2016: ITMO\n",
    "2017: ITMO\n",
    "2018: SPbSU\n",
    "2019: ITMO'''\n",
    "\n",
    "li = [v.split(':') for v in s.split('\\n')]\n",
    "for i in range(len(li)):\n",
    "    li[i][1] = li[i][1].lstrip()\n",
    "d = dict(li)\n",
    "\n",
    "n = input()\n",
    "\n",
    "print(d[n])"
   ]
  },
  {
   "cell_type": "code",
   "execution_count": 132,
   "metadata": {},
   "outputs": [
    {
     "name": "stdout",
     "output_type": "stream",
     "text": [
      "2003 3 5\n",
      "2003 4 5\n"
     ]
    }
   ],
   "source": [
    "y, m, d = map(int, input().split())\n",
    "cur_y, cur_m, cur_d = map(int, input().split())"
   ]
  },
  {
   "cell_type": "code",
   "execution_count": 133,
   "metadata": {},
   "outputs": [],
   "source": [
    "y_diff = cur_y - y\n",
    "m_diff = cur_m - m\n",
    "d_diff = cur_d = d"
   ]
  },
  {
   "cell_type": "code",
   "execution_count": 144,
   "metadata": {},
   "outputs": [
    {
     "name": "stdout",
     "output_type": "stream",
     "text": [
      "2005 1 2\n",
      "2007 1 1\n",
      "1\n",
      "3\n",
      "2\n"
     ]
    }
   ],
   "source": [
    "y, m, d = map(int, input().split())\n",
    "cur_y, cur_m, cur_d = map(int, input().split())\n",
    "\n",
    "y_diff = cur_y - y\n",
    "m_diff = cur_m - m\n",
    "d_diff = cur_d - d\n",
    "\n",
    "t1 = y_diff\n",
    "if m_diff < 0 or m_diff == 0 and d_diff < 0:\n",
    "    t1 -= 1\n",
    "    \n",
    "t1 = max(0, t1)\n",
    "\n",
    "t2 = y_diff + 1\n",
    "t3 = y_diff\n",
    "\n",
    "print(t1)\n",
    "print(t2)\n",
    "print(t3)"
   ]
  },
  {
   "cell_type": "code",
   "execution_count": 146,
   "metadata": {},
   "outputs": [
    {
     "name": "stdout",
     "output_type": "stream",
     "text": [
      "1234\n",
      "124.52670933627147\n"
     ]
    }
   ],
   "source": [
    "pi = 3.14159265359\n",
    "\n",
    "n = int(input())\n",
    "\n",
    "r = (n / pi) ** 0.5\n",
    "print(2 * pi * r)"
   ]
  },
  {
   "cell_type": "code",
   "execution_count": 152,
   "metadata": {},
   "outputs": [
    {
     "name": "stdout",
     "output_type": "stream",
     "text": [
      "13 : 30 : 52\n",
      "13 : 31 : 7\n",
      "15\n"
     ]
    }
   ],
   "source": [
    "h1, m1, s1 = map(int, input().split(' : '))\n",
    "h2, m2, s2 = map(int, input().split(' : '))\n",
    "\n",
    "t1 = h1 * 3600 + m1 * 60 + s1\n",
    "t2 = h2 * 3600 + m2 * 60 + s2\n",
    "\n",
    "if t1 > t2:\n",
    "    t2 += 86400\n",
    "    \n",
    "print(t2 - t1)"
   ]
  },
  {
   "cell_type": "code",
   "execution_count": 154,
   "metadata": {},
   "outputs": [
    {
     "name": "stdout",
     "output_type": "stream",
     "text": [
      "1234\n",
      "140.51334456200237\n"
     ]
    }
   ],
   "source": [
    "n = int(input())\n",
    "\n",
    "n **= 0.5\n",
    "print(n * 4)"
   ]
  },
  {
   "cell_type": "code",
   "execution_count": 162,
   "metadata": {},
   "outputs": [
    {
     "name": "stdout",
     "output_type": "stream",
     "text": [
      "0 3\n",
      "1\n"
     ]
    }
   ],
   "source": [
    "w, b = map(int, input().split())\n",
    "\n",
    "w = min(b - 1, w)\n",
    "print(w + 1)"
   ]
  },
  {
   "cell_type": "code",
   "execution_count": 164,
   "metadata": {},
   "outputs": [
    {
     "name": "stdout",
     "output_type": "stream",
     "text": [
      "1234\n",
      "124.52670933627147\n"
     ]
    }
   ],
   "source": [
    "pi = 3.14159265359\n",
    "\n",
    "n = int(input())\n",
    "\n",
    "r = (n / pi) ** 0.5\n",
    "print(2 * pi * r)"
   ]
  },
  {
   "cell_type": "code",
   "execution_count": 166,
   "metadata": {},
   "outputs": [
    {
     "name": "stdout",
     "output_type": "stream",
     "text": [
      "15 1\n",
      "17 1\n",
      "No message\n"
     ]
    }
   ],
   "source": [
    "t1, v1 = map(int, input().split())\n",
    "t2, v2 = map(int, input().split())\n",
    "\n",
    "if t2 < 0 and v2 >= 10:\n",
    "    print('A storm warning for tomorrow! Be careful and stay home if possible!')\n",
    "elif t2 < t1:\n",
    "    print('MCHS warns! Low temperature is expected tomorrow.')\n",
    "elif v2 > v1:\n",
    "    print('MCHS warns! Strong wind is expected tomorrow.')\n",
    "else:\n",
    "    print('No message')"
   ]
  },
  {
   "cell_type": "code",
   "execution_count": 170,
   "metadata": {},
   "outputs": [
    {
     "name": "stdout",
     "output_type": "stream",
     "text": [
      "90\n",
      "113564\n"
     ]
    }
   ],
   "source": [
    "from itertools import combinations as comb\n",
    "\n",
    "n = int(input())\n",
    "\n",
    "if n <= 3:\n",
    "    print(0)\n",
    "else:\n",
    "    print(len(list(comb(range(1, n), 3))))"
   ]
  },
  {
   "cell_type": "code",
   "execution_count": null,
   "metadata": {},
   "outputs": [],
   "source": [
    "li = [input() for _ in range(6)]\n",
    "\n",
    "cw = li.count('W')\n",
    "\n",
    "if cw >= 5:\n",
    "    print(1)\n",
    "elif cw >= 3:\n",
    "    print(2)\n",
    "elif cw >= 1:\n",
    "    print(3)\n",
    "else:\n",
    "    print(-1)"
   ]
  },
  {
   "cell_type": "code",
   "execution_count": 177,
   "metadata": {},
   "outputs": [
    {
     "name": "stdout",
     "output_type": "stream",
     "text": [
      "9000\n",
      "115.0\n"
     ]
    }
   ],
   "source": [
    "k = int(input())\n",
    "\n",
    "temp = 25 + k * 0.01\n",
    "temp = max(100, temp)\n",
    "temp = min(2000, temp)\n",
    "\n",
    "print(temp)"
   ]
  },
  {
   "cell_type": "code",
   "execution_count": 183,
   "metadata": {},
   "outputs": [
    {
     "name": "stdout",
     "output_type": "stream",
     "text": [
      "102\n",
      "110\n",
      "-1\n"
     ]
    }
   ],
   "source": [
    "b = int(input())\n",
    "\n",
    "p = 5 * b - 400\n",
    "print(p)\n",
    "\n",
    "if p < 100:\n",
    "    print(1)\n",
    "elif p == 100:\n",
    "    print(0)\n",
    "else:\n",
    "    print(-1)"
   ]
  },
  {
   "cell_type": "code",
   "execution_count": 184,
   "metadata": {},
   "outputs": [
    {
     "name": "stdout",
     "output_type": "stream",
     "text": [
      "3 0\n",
      "2 1\n"
     ]
    }
   ],
   "source": [
    "p1, s1 = map(int, input().split())\n",
    "s2, p2 = map(int, input().split())"
   ]
  },
  {
   "cell_type": "code",
   "execution_count": 185,
   "metadata": {},
   "outputs": [
    {
     "name": "stdout",
     "output_type": "stream",
     "text": [
      "Persepolis\n"
     ]
    }
   ],
   "source": [
    "p1, s1 = map(int, input().split())\n",
    "s2, p2 = map(int, input().split())\n",
    "\n",
    "p = p1 + p2\n",
    "s = s1 + s2\n",
    "\n",
    "if p > s:\n",
    "    print('Persepolis')\n",
    "elif s > p:\n",
    "    print('Esteghlal')\n",
    "else:\n",
    "    if s1 > p2:\n",
    "        print('Esteghlal')\n",
    "    elif s1 < p2:\n",
    "        print('Persepolis')\n",
    "    else:\n",
    "        print('Penalty')"
   ]
  },
  {
   "cell_type": "code",
   "execution_count": null,
   "metadata": {},
   "outputs": [],
   "source": [
    "m, n = map(int, input().split())\n",
    "li = [list(map(int, input().split())) for _ in range(m)]\n",
    "\n",
    "if m < 8:\n",
    "    print('unsatisfactory')\n",
    "else:\n",
    "    print('satisfactory')"
   ]
  },
  {
   "cell_type": "code",
   "execution_count": 194,
   "metadata": {},
   "outputs": [
    {
     "name": "stdout",
     "output_type": "stream",
     "text": [
      "30 70\n",
      "90.0\n"
     ]
    }
   ],
   "source": [
    "t, p = map(int, input().split())\n",
    "\n",
    "if p >= 20:\n",
    "    one_m_used = (100 - p) / t\n",
    "    \n",
    "    ans = 0\n",
    "    p += 20\n",
    "    print(p / one_m_used)\n",
    "else:\n",
    "    temp = (20 - p) * 2 + 80\n",
    "    one_m_used = temp / t\n",
    "    \n",
    "    ans = 0\n",
    "    p *= 2\n",
    "    print(p / one_m_used)"
   ]
  },
  {
   "cell_type": "code",
   "execution_count": 197,
   "metadata": {},
   "outputs": [
    {
     "name": "stdout",
     "output_type": "stream",
     "text": [
      "125\n",
      "40\n",
      "225000\n"
     ]
    }
   ],
   "source": [
    "n = int(input())\n",
    "k = int(input())\n",
    "\n",
    "k += 60\n",
    "\n",
    "to_buy_in_quota = min(n, k)\n",
    "\n",
    "ans = 0\n",
    "ans += to_buy_in_quota * 1500\n",
    "n -= to_buy_in_quota\n",
    "ans += n * 3000\n",
    "\n",
    "print(ans)"
   ]
  },
  {
   "cell_type": "code",
   "execution_count": 211,
   "metadata": {},
   "outputs": [
    {
     "name": "stdout",
     "output_type": "stream",
     "text": [
      "10\n",
      "1\n",
      "20\n",
      "5\n",
      "50\n",
      "430 545\n"
     ]
    }
   ],
   "source": [
    "a = int(input())\n",
    "x = int(input())\n",
    "b = int(input())\n",
    "y = int(input())\n",
    "t = int(input())\n",
    "\n",
    "r1 = a + max(0, t - 30) * x * 21\n",
    "r2 = b + max(0, t - 45) * y * 21\n",
    "\n",
    "print(r1, r2)"
   ]
  },
  {
   "cell_type": "code",
   "execution_count": 214,
   "metadata": {},
   "outputs": [
    {
     "name": "stdout",
     "output_type": "stream",
     "text": [
      "15\n",
      "12\n",
      "Yellow\n"
     ]
    }
   ],
   "source": [
    "p = int(input())\n",
    "q = int(input())\n",
    "\n",
    "if p <= 50 and q <= 10:\n",
    "    print('White')\n",
    "elif q > 30:\n",
    "    print('Red')\n",
    "else:\n",
    "    print('Yellow')"
   ]
  }
 ],
 "metadata": {
  "kernelspec": {
   "display_name": "Python 3",
   "language": "python",
   "name": "python3"
  },
  "language_info": {
   "codemirror_mode": {
    "name": "ipython",
    "version": 3
   },
   "file_extension": ".py",
   "mimetype": "text/x-python",
   "name": "python",
   "nbconvert_exporter": "python",
   "pygments_lexer": "ipython3",
   "version": "3.7.3"
  }
 },
 "nbformat": 4,
 "nbformat_minor": 4
}
