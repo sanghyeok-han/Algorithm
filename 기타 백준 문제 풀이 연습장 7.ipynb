{
 "cells": [
  {
   "cell_type": "markdown",
   "metadata": {},
   "source": [
    "### John’s Gift 23571"
   ]
  },
  {
   "cell_type": "markdown",
   "metadata": {},
   "source": [
    "c++로 번역해서 제출"
   ]
  },
  {
   "cell_type": "code",
   "execution_count": null,
   "metadata": {},
   "outputs": [],
   "source": [
    "앞에꺼 없애고 없앤 인덱스부터 전부 뒤에서 앞으로 옮김\n",
    "뒤에꺼 없애고 없앤 인덱스부터 전부 앞에서 뒤로 옮김\n",
    "\n",
    "둘 다 원래보다 좋아지지 않으면 앞에꺼 없앰"
   ]
  },
  {
   "cell_type": "code",
   "execution_count": null,
   "metadata": {},
   "outputs": [],
   "source": [
    "뒤에꺼 없애고 없앤 인덱스부터 전부 앞에서 뒤로 옮김\n",
    "원래보다 좋아지지 않으면 앞에꺼 없앰"
   ]
  },
  {
   "cell_type": "code",
   "execution_count": null,
   "metadata": {},
   "outputs": [],
   "source": [
    "n = int(input())"
   ]
  },
  {
   "cell_type": "code",
   "execution_count": null,
   "metadata": {},
   "outputs": [],
   "source": [
    "20 30 40\n",
    "10 20 30\n",
    "\n",
    "\n",
    "10 10 10\n",
    "\n"
   ]
  },
  {
   "cell_type": "code",
   "execution_count": null,
   "metadata": {},
   "outputs": [],
   "source": [
    "20 40 80\n",
    "10 30 70\n",
    "\n",
    "10 10 10\n",
    "\n"
   ]
  },
  {
   "cell_type": "code",
   "execution_count": null,
   "metadata": {},
   "outputs": [],
   "source": [
    "10 30\n",
    "10 20\n",
    "\n",
    "10 30\n",
    "11 30\n"
   ]
  },
  {
   "cell_type": "code",
   "execution_count": null,
   "metadata": {},
   "outputs": [],
   "source": [
    "\n"
   ]
  }
 ],
 "metadata": {
  "kernelspec": {
   "display_name": "Python 3",
   "language": "python",
   "name": "python3"
  },
  "language_info": {
   "codemirror_mode": {
    "name": "ipython",
    "version": 3
   },
   "file_extension": ".py",
   "mimetype": "text/x-python",
   "name": "python",
   "nbconvert_exporter": "python",
   "pygments_lexer": "ipython3",
   "version": "3.7.3"
  }
 },
 "nbformat": 4,
 "nbformat_minor": 4
}
