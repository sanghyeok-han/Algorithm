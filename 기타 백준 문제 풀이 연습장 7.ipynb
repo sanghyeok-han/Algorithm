{
 "cells": [
  {
   "cell_type": "code",
   "execution_count": 16,
   "metadata": {},
   "outputs": [
    {
     "name": "stdout",
     "output_type": "stream",
     "text": [
      "6\n",
      "5 3 3 2 2 3\n",
      "1\n",
      "2\n",
      "3\n",
      "4\n",
      "3\n",
      "1\n"
     ]
    }
   ],
   "source": [
    "n = int(input())\n",
    "li = list(map(int, input().split()))\n",
    "\n",
    "stack = []\n",
    "cur = 0\n",
    "for v in li:\n",
    "    if stack and stack[-1][0] == v:\n",
    "        stack[-1][1] += 1\n",
    "        cur += 1\n",
    "        \n",
    "        if stack[-1][0] == stack[-1][1]:\n",
    "            cur -= stack.pop()[1]\n",
    "    else:\n",
    "        stack.append([v, 1])\n",
    "        cur += 1\n",
    "        \n",
    "    print(cur)"
   ]
  },
  {
   "cell_type": "code",
   "execution_count": 17,
   "metadata": {},
   "outputs": [
    {
     "name": "stdout",
     "output_type": "stream",
     "text": [
      "6\n",
      "5 3 3 2 2 3\n",
      "1\n",
      "2\n",
      "3\n",
      "4\n",
      "3\n",
      "4\n"
     ]
    }
   ],
   "source": [
    "from collections import deque\n",
    "\n",
    "n = int(input())\n",
    "\n",
    "queue = deque()\n",
    "cnt = 1\n",
    "\n",
    "for i in map(int, input().split()):\n",
    "    if queue and queue[-1] == i:\n",
    "        cnt += 1\n",
    "    else:\n",
    "        cnt = 1\n",
    "        \n",
    "    queue.append(i)\n",
    "    \n",
    "    \n",
    "    if len(queue) >= i and cnt == i:\n",
    "        for j in range(i):\n",
    "            queue.pop()\n",
    "        cnt = 1\n",
    "        \n",
    "                \n",
    "        \n",
    "    print(len(queue))"
   ]
  },
  {
   "cell_type": "markdown",
   "metadata": {},
   "source": [
    "### John’s Gift 23571"
   ]
  },
  {
   "cell_type": "markdown",
   "metadata": {},
   "source": [
    "c++로 번역해서 제출"
   ]
  },
  {
   "cell_type": "code",
   "execution_count": null,
   "metadata": {},
   "outputs": [],
   "source": [
    "앞에꺼 없애고 없앤 인덱스부터 전부 뒤에서 앞으로 옮김\n",
    "뒤에꺼 없애고 없앤 인덱스부터 전부 앞에서 뒤로 옮김\n",
    "\n",
    "둘 다 원래보다 좋아지지 않으면 앞에꺼 없앰"
   ]
  },
  {
   "cell_type": "code",
   "execution_count": null,
   "metadata": {},
   "outputs": [],
   "source": [
    "뒤에꺼 없애고 없앤 인덱스부터 전부 앞에서 뒤로 옮김\n",
    "원래보다 좋아지지 않으면 앞에꺼 없앰"
   ]
  },
  {
   "cell_type": "code",
   "execution_count": null,
   "metadata": {},
   "outputs": [],
   "source": [
    "n = int(input())"
   ]
  },
  {
   "cell_type": "code",
   "execution_count": null,
   "metadata": {},
   "outputs": [],
   "source": [
    "20 30 40\n",
    "10 20 30\n",
    "\n",
    "\n",
    "10 10 10\n",
    "\n"
   ]
  },
  {
   "cell_type": "code",
   "execution_count": null,
   "metadata": {},
   "outputs": [],
   "source": [
    "20 40 80\n",
    "10 30 70\n",
    "\n",
    "10 10 10\n",
    "\n"
   ]
  },
  {
   "cell_type": "markdown",
   "metadata": {},
   "source": [
    "### 파일 정리 20291"
   ]
  },
  {
   "cell_type": "code",
   "execution_count": 9,
   "metadata": {},
   "outputs": [
    {
     "name": "stdout",
     "output_type": "stream",
     "text": [
      "8\n",
      "s.txt\n",
      "sss.spc\n",
      "acm.icpc\n",
      "kr.icpc\n",
      "asdf.txt\n",
      "aff.world\n",
      "sogang.spc\n",
      "se.txt\n",
      "icpc 2\n",
      "spc 2\n",
      "txt 3\n",
      "world 1\n"
     ]
    }
   ],
   "source": [
    "from collections import defaultdict as dd\n",
    "import sys\n",
    "input = lambda: sys.stdin.readline().rstrip()\n",
    "\n",
    "n = int(input())\n",
    "\n",
    "d = dd(int)\n",
    "for _ in range(n):\n",
    "    s = input()\n",
    "    d[s[s.rfind('.') + 1:]] += 1\n",
    "    \n",
    "print('\\n'.join([' '.join(map(str, v)) for v in sorted(d.items(), key=lambda x: x[0])]))"
   ]
  },
  {
   "cell_type": "markdown",
   "metadata": {},
   "source": [
    "### 이진수 덧셈 2729"
   ]
  },
  {
   "cell_type": "code",
   "execution_count": 1,
   "metadata": {},
   "outputs": [
    {
     "name": "stdout",
     "output_type": "stream",
     "text": [
      "1\n",
      "1001101 10010\n",
      "1011111\n"
     ]
    }
   ],
   "source": [
    "for _ in range(int(input())):\n",
    "    a, b = input().split()\n",
    "    \n",
    "    a = int(a, 2)\n",
    "    b = int(b, 2)\n",
    "    c = a + b\n",
    "    print(bin(c)[2:])"
   ]
  },
  {
   "cell_type": "markdown",
   "metadata": {},
   "source": [
    "### 비슷한 단어 1411"
   ]
  },
  {
   "cell_type": "code",
   "execution_count": 18,
   "metadata": {},
   "outputs": [
    {
     "name": "stdout",
     "output_type": "stream",
     "text": [
      "3\n",
      "abca\n",
      "zbxz\n",
      "opqr\n",
      "1\n"
     ]
    }
   ],
   "source": [
    "n = int(input())\n",
    "li = [input() for _ in range(n)]\n",
    "\n",
    "nli = []\n",
    "for v in li:\n",
    "    m = len(v)\n",
    "    d = dict()\n",
    "    cur = 1\n",
    "    temp = []\n",
    "    for i in range(m):\n",
    "        if v[i] in d:\n",
    "            temp.append(d[v[i]])\n",
    "        else:\n",
    "            d[v[i]] = cur\n",
    "            cur += 1\n",
    "            temp.append(d[v[i]])\n",
    "            \n",
    "    nli.append(temp)\n",
    "    \n",
    "count = 0\n",
    "for i in range(n):\n",
    "    for j in range(i + 1, n):\n",
    "        if nli[i] == nli[j]:\n",
    "            count += 1\n",
    "            \n",
    "print(count)"
   ]
  },
  {
   "cell_type": "markdown",
   "metadata": {},
   "source": [
    "### 레슬러 1900"
   ]
  },
  {
   "cell_type": "code",
   "execution_count": 38,
   "metadata": {},
   "outputs": [
    {
     "name": "stdout",
     "output_type": "stream",
     "text": [
      "3\n",
      "10 3\n",
      "18 4\n",
      "15 5\n",
      "3\n",
      "1\n",
      "2\n"
     ]
    }
   ],
   "source": [
    "from random import randint\n",
    "import sys\n",
    "input = lambda: sys.stdin.readline().rstrip()\n",
    "\n",
    "def compare(a, b):\n",
    "    _, pa, ma = a\n",
    "    _, pb, mb = b\n",
    "    \n",
    "    if pa + pb * ma > pb + pa * mb:\n",
    "        return True\n",
    "    else:\n",
    "        return False\n",
    "\n",
    "def cqs(li):\n",
    "    if len(li) <= 1:\n",
    "        return li\n",
    "    \n",
    "    pi = randint(0, len(li) - 1)\n",
    "    pivot = li[pi]\n",
    "    \n",
    "    left, right = list(), list()\n",
    "    for i in range(len(li)):\n",
    "        if i == pi:\n",
    "            continue\n",
    "            \n",
    "        if compare(li[i], pivot):\n",
    "            left.append(li[i])\n",
    "        else:\n",
    "            right.append(li[i])\n",
    "            \n",
    "    return cqs(left) + [pivot] + cqs(right)\n",
    "\n",
    "n = int(input())\n",
    "li = []\n",
    "for i in range(1, n + 1):\n",
    "    p, m = map(int, input().split())\n",
    "    li.append((i, p, m))\n",
    "\n",
    "li = cqs(li)\n",
    "\n",
    "for v in li:\n",
    "    print(v[0])"
   ]
  },
  {
   "cell_type": "markdown",
   "metadata": {},
   "source": [
    "### A번 - AddK"
   ]
  },
  {
   "cell_type": "code",
   "execution_count": 19,
   "metadata": {},
   "outputs": [
    {
     "data": {
      "text/plain": [
       "[7, 9, 5, 1, 6, 3, 4, 2]"
      ]
     },
     "execution_count": 19,
     "metadata": {},
     "output_type": "execute_result"
    }
   ],
   "source": [
    "from collections import deque\n",
    "\n",
    "s = '7 2 5 1 9 3 4 6'\n",
    "li = list(map(int, s.split()))\n",
    "\n",
    "s = '2 5 8'\n",
    "get_value = lambda x: int(x) - 1\n",
    "indices = list(map(get_value, s.split()))\n",
    "\n",
    "deq = deque()\n",
    "for index in indices:\n",
    "    deq.append(li[index])\n",
    "    \n",
    "deq.rotate(-1)\n",
    "    \n",
    "for i, v in enumerate(deq):\n",
    "    li[indices[i]] = v\n",
    "    "
   ]
  },
  {
   "cell_type": "code",
   "execution_count": 31,
   "metadata": {},
   "outputs": [
    {
     "name": "stdout",
     "output_type": "stream",
     "text": [
      "12\n",
      "10\n",
      "13\n",
      "50\n"
     ]
    }
   ],
   "source": [
    "s = '2 7 3'\n",
    "l, r, m = map(get_value, s.split())\n",
    "m += 1\n",
    "\n",
    "total = 0\n",
    "cumul = 0\n",
    "for i in range(l, l + m):\n",
    "    cumul += li[i]\n",
    "\n",
    "total += cumul\n",
    "for i in range(l + m, r + 1):\n",
    "    cumul -= li[i - m]\n",
    "    cumul += li[i]\n",
    "    total += cumul\n",
    "    \n",
    "print(total)"
   ]
  },
  {
   "cell_type": "code",
   "execution_count": 1,
   "metadata": {},
   "outputs": [
    {
     "name": "stdout",
     "output_type": "stream",
     "text": [
      "8 3\n",
      "7 2 5 1 9 3 4 6\n",
      "3\n",
      "2 2 7 4\n",
      "52\n",
      "1 2 5 8\n",
      "2 2 7 3\n",
      "50\n"
     ]
    }
   ],
   "source": [
    "from collections import deque\n",
    "import sys\n",
    "# input = lambda: sys.stdin.readline().rstrip()\n",
    "\n",
    "n, k = map(int, input().split())\n",
    "li = list(map(int, input().split()))\n",
    "\n",
    "get_value = lambda x: int(x) - 1\n",
    "for _ in range(int(input())):\n",
    "    temp = deque(map(get_value, input().split()))\n",
    "    tp = temp.popleft()\n",
    "    \n",
    "    if tp == 0:\n",
    "        deq = deque()\n",
    "        for index in temp:\n",
    "            deq.append(li[index])\n",
    "        deq.rotate(-1)\n",
    "\n",
    "        for i, v in enumerate(deq):\n",
    "            li[temp[i]] = v\n",
    "    else:\n",
    "        l, r, m = temp\n",
    "        m += 1\n",
    "\n",
    "        total = 0\n",
    "        cumul = 0\n",
    "        for i in range(l, l + m):\n",
    "            cumul += li[i]\n",
    "\n",
    "        total += cumul\n",
    "        for i in range(l + m, r + 1):\n",
    "            cumul -= li[i - m]\n",
    "            cumul += li[i]\n",
    "            total += cumul\n",
    "\n",
    "        print(total)        "
   ]
  },
  {
   "cell_type": "markdown",
   "metadata": {},
   "source": [
    "A번 - 젓가락"
   ]
  },
  {
   "cell_type": "code",
   "execution_count": null,
   "metadata": {},
   "outputs": [],
   "source": [
    "처음 1개 n + 1개 필요\n",
    "(r - 1) * 2개 추가로 필요"
   ]
  },
  {
   "cell_type": "code",
   "execution_count": null,
   "metadata": {},
   "outputs": [],
   "source": [
    "1 1 1   2 2 2   3 3 3\n",
    "\n",
    "1 2 3 1 1 1"
   ]
  },
  {
   "cell_type": "code",
   "execution_count": 1,
   "metadata": {},
   "outputs": [
    {
     "name": "stdout",
     "output_type": "stream",
     "text": [
      "3 2\n",
      "6\n"
     ]
    }
   ],
   "source": [
    "n, r = map(int, input().split())\n",
    "\n",
    "result = n + 1 + (r - 1) * 2\n",
    "\n",
    "print(result)"
   ]
  },
  {
   "cell_type": "markdown",
   "metadata": {},
   "source": [
    "### 정사각형 1485"
   ]
  },
  {
   "cell_type": "code",
   "execution_count": 6,
   "metadata": {},
   "outputs": [
    {
     "name": "stdout",
     "output_type": "stream",
     "text": [
      "2 2\n",
      "3 3\n",
      "4 4\n",
      "5 5\n",
      "0\n"
     ]
    }
   ],
   "source": [
    "from itertools import permutations as perm\n",
    "\n",
    "for _ in range(int(input())):\n",
    "    li = [tuple(map(int, input().split())) for _ in range(4)]\n",
    "\n",
    "    if len(set(li)) <= 3:\n",
    "        print(0)\n",
    "    else:\n",
    "        gds = lambda fs, ss: (fs[0] - ss[0]) ** 2 + (fs[1] - ss[1]) ** 2 # get dist squared\n",
    "\n",
    "        cases = perm(li, 4)\n",
    "        ip = False\n",
    "        for c in cases:\n",
    "            if gds(c[0], c[1]) == gds(c[1], c[2]) == gds(c[2], c[3]) == gds(c[3], c[0]):\n",
    "                if gds(c[0], c[2]) == gds(c[1], c[3]):\n",
    "                    if gds(c[0], c[1]) * 2 == gds(c[0], c[2]):\n",
    "                        ip = True\n",
    "\n",
    "        if ip:\n",
    "            print(1)\n",
    "        else:\n",
    "            print(0)"
   ]
  },
  {
   "cell_type": "markdown",
   "metadata": {},
   "source": [
    "### Minimum Swap 7805"
   ]
  },
  {
   "cell_type": "code",
   "execution_count": 16,
   "metadata": {},
   "outputs": [
    {
     "name": "stdout",
     "output_type": "stream",
     "text": [
      "abc\n",
      "0\n",
      "cba\n",
      "1\n",
      "acb\n",
      "1\n",
      "bdca\n",
      "2\n",
      "fedcba\n",
      "3\n",
      "efdcba\n",
      "4\n",
      "sdf\n"
     ]
    }
   ],
   "source": [
    "while True:\n",
    "    try:\n",
    "        li = list(input())\n",
    "\n",
    "        tg = sorted(li)\n",
    "        count = 0\n",
    "        for i in range(len(tg)):\n",
    "            if li[i] == tg[i]:\n",
    "                continue\n",
    "            else:\n",
    "                j = li.index(tg[i])\n",
    "                li[i], li[j] = li[j], li[i]\n",
    "                count += 1\n",
    "\n",
    "        print(count)\n",
    "    except:\n",
    "        break"
   ]
  },
  {
   "cell_type": "markdown",
   "metadata": {},
   "source": [
    "### 소년 점프 16469"
   ]
  },
  {
   "cell_type": "code",
   "execution_count": 6,
   "metadata": {},
   "outputs": [
    {
     "name": "stdout",
     "output_type": "stream",
     "text": [
      "7 7\n",
      "0110011\n",
      "0001101\n",
      "0001011\n",
      "1111101\n",
      "0011000\n",
      "0100111\n",
      "0010110\n",
      "1 4\n",
      "5 5\n",
      "6 4\n",
      "-1\n"
     ]
    }
   ],
   "source": [
    "from collections import deque\n",
    "\n",
    "n, m = map(int, input().split())\n",
    "li = [list(map(int, input())) for _ in range(n)]\n",
    "\n",
    "dx = [-1, 1, 0, 0]\n",
    "dy = [0, 0, -1, 1]\n",
    "\n",
    "get_value = lambda x: int(x) - 1\n",
    "inits = [list(map(get_value, input().split())) for _ in range(3)]\n",
    "dists = [[[float('inf')] * m for _ in range(n)] for _ in range(3)]\n",
    "for num in range(3):\n",
    "    sx, sy = inits[num]\n",
    "    dists[num][sx][sy] = 0\n",
    "    \n",
    "    queue = deque()\n",
    "    queue.append((sx, sy))\n",
    "    while queue:\n",
    "        x, y = queue.popleft()\n",
    "        \n",
    "        for i in range(4):\n",
    "            nx = x + dx[i]\n",
    "            ny = y + dy[i]\n",
    "            \n",
    "            if nx < 0 or nx >= n or ny < 0 or ny >= m:\n",
    "                continue\n",
    "            if li[nx][ny] == 1:\n",
    "                continue\n",
    "            if dists[num][nx][ny] == float('inf'):\n",
    "                dists[num][nx][ny] = dists[num][x][y] + 1\n",
    "                queue.append((nx, ny))\n",
    "    \n",
    "sdists = [[0] * m for _ in range(n)]\n",
    "for i in range(n):\n",
    "    for j in range(m):\n",
    "        for num in range(3):\n",
    "            sdists[i][j] = max(sdists[i][j], dists[num][i][j])\n",
    "            \n",
    "sdists = sum(sdists, [])\n",
    "mv = min(sdists) # min value\n",
    "\n",
    "if mv == float('inf'):\n",
    "    print(-1)\n",
    "else:\n",
    "    print(mv)\n",
    "    print(sdists.count(mv))"
   ]
  },
  {
   "cell_type": "markdown",
   "metadata": {},
   "source": [
    "### A번 - 2의 보수"
   ]
  },
  {
   "cell_type": "code",
   "execution_count": 22,
   "metadata": {},
   "outputs": [
    {
     "name": "stdout",
     "output_type": "stream",
     "text": [
      "2\n",
      "30\n"
     ]
    }
   ],
   "source": [
    "n = int(input())\n",
    "\n",
    "base = 1 << 32\n",
    "bn = base | n\n",
    "bnn = (bn ^ ((1 << 32) - 1)) + 1\n",
    "\n",
    "sbn = bin(bn)\n",
    "sbnn = bin(bnn)\n",
    "\n",
    "c = 0\n",
    "for i in range(2, len(sbn)):\n",
    "    if sbn[i] != sbnn[i]:\n",
    "        c += 1\n",
    "        \n",
    "print(c)"
   ]
  },
  {
   "cell_type": "markdown",
   "metadata": {},
   "source": [
    "### 서로소 그래프 23832"
   ]
  },
  {
   "cell_type": "code",
   "execution_count": 12,
   "metadata": {},
   "outputs": [
    {
     "name": "stdout",
     "output_type": "stream",
     "text": [
      "45\n",
      "24\n"
     ]
    }
   ],
   "source": [
    "def get_divisors(n):\n",
    "    divisors = set()\n",
    "    \n",
    "    for mod in range(2, int(n ** 0.5) + 1):\n",
    "        while n % mod == 0:\n",
    "            n //= mod\n",
    "            divisors.add(mod)\n",
    "            \n",
    "        if n == 1:\n",
    "            break\n",
    "    \n",
    "    if n != 1:\n",
    "        divisors.add(n)\n",
    "            \n",
    "    return divisors\n",
    "    \n",
    "n = int(input())\n",
    "\n",
    "dvs = get_divisors(n)\n",
    "\n",
    "temp = n\n",
    "for v in dvs:\n",
    "    temp *= (1 - 1 / v)\n",
    "\n",
    "r = int(round(temp, 10))\n",
    "    \n",
    "print(r)"
   ]
  },
  {
   "cell_type": "markdown",
   "metadata": {},
   "source": [
    "### 책 페이지 1019"
   ]
  },
  {
   "cell_type": "code",
   "execution_count": 120,
   "metadata": {},
   "outputs": [
    {
     "name": "stdout",
     "output_type": "stream",
     "text": [
      "999\n",
      "189 300 300 300 300 300 300 300 300 300\n"
     ]
    }
   ],
   "source": [
    "n = int(input())\n",
    "\n",
    "counts = [0] * 10\n",
    "counts[0] -= 1\n",
    "\n",
    "all_c = (n + 1) // 10\n",
    "rd = (n + 1) % 10\n",
    "for i in range(10):\n",
    "    counts[i] += all_c\n",
    "\n",
    "for i in range(rd):\n",
    "    counts[i] += 1\n",
    "\n",
    "cur = 9\n",
    "degree = 100\n",
    "degree2 = 10\n",
    "while True:\n",
    "    if n >= cur:\n",
    "        all_c = (n + 1) // degree\n",
    "        rd = (n + 1) % degree\n",
    "        for i in range(10):\n",
    "            counts[i] += all_c * degree2\n",
    "\n",
    "        t = rd // degree2\n",
    "        r = rd % degree2\n",
    "\n",
    "        for i in range(t):\n",
    "            counts[i] += degree2\n",
    "        counts[t] += r\n",
    "\n",
    "        counts[0] -= degree2\n",
    "    else:\n",
    "        break\n",
    "\n",
    "    cur *= 10\n",
    "    cur += 9\n",
    "    degree *= 10\n",
    "    degree2 *= 10\n",
    "\n",
    "print(*counts)"
   ]
  },
  {
   "cell_type": "markdown",
   "metadata": {},
   "source": [
    "### 너 봄에는 캡사이신이 맛있단다 15824"
   ]
  },
  {
   "cell_type": "code",
   "execution_count": null,
   "metadata": {},
   "outputs": [],
   "source": [
    "a1 a2 a3 a4 a5 a6\n",
    "\n",
    "0칸 사이에 둚: a2 - a1 + a3 - a2 + a4 - a3 + a5 - a4 + a6 - a5\n",
    "= -a1 + a6\n",
    "\n",
    "* 1\n",
    "\n",
    "1칸 사이에 둚: a3 - a1 + a4 - a2 + a5 - a3 + a6 - a4\n",
    "= -a1 - a2 + a5 + a6\n",
    "\n",
    "* (1C0 + 1C1) = * (2 ** 1 - 1)\n",
    "\n",
    "2칸 사이에 둚: a4 - a1 + a5 - a2 + a6 - a3\n",
    "= -a1 -a2 -a3 + a4 + a5 + a6\n",
    "\n",
    "* (2C0 + 2C1 + 2C2) = * (2 ** 2 - 1)\n",
    "\n",
    "3칸 사이에 둚: a5 - a1 + a6 - a2\n",
    "= -a1 -a2 + a5 + a6\n",
    "\n",
    "4칸 사이에 둚: a6 - a1\n",
    "= -a1 + a6\n",
    "...\n",
    "n - 2칸 사이에 둚"
   ]
  },
  {
   "cell_type": "code",
   "execution_count": 140,
   "metadata": {},
   "outputs": [
    {
     "name": "stdout",
     "output_type": "stream",
     "text": [
      "2\n",
      "2 2\n",
      "0\n"
     ]
    }
   ],
   "source": [
    "mod = 1000000007\n",
    "\n",
    "n = int(input())\n",
    "li = sorted(map(int, input().split()))\n",
    "\n",
    "if n == 1:\n",
    "    print(0)\n",
    "elif n == 2:\n",
    "    print((li[1] - li[0]) % mod)\n",
    "else:\n",
    "    total = 0\n",
    "    tai = n - 1 # to add index \n",
    "    tsi = 0 # to sub index\n",
    "    cumul = 0\n",
    "    w_two = 1\n",
    "    \n",
    "    for i in range(n - 1):\n",
    "        cumul += li[tai] - li[tsi]\n",
    "        cumul %= mod\n",
    "\n",
    "        total += cumul * max(1, w_two)\n",
    "        total %= mod\n",
    "        \n",
    "        w_two *= 2\n",
    "        w_two %= mod\n",
    "        \n",
    "        tai -= 1\n",
    "        tsi += 1\n",
    "                \n",
    "    print(total)"
   ]
  },
  {
   "cell_type": "markdown",
   "metadata": {},
   "source": [
    "### 알고리즘 수업 - 버블 정렬 1 23968"
   ]
  },
  {
   "cell_type": "code",
   "execution_count": 2,
   "metadata": {},
   "outputs": [
    {
     "name": "stdout",
     "output_type": "stream",
     "text": [
      "6 12\n",
      "4 6 5 1 3 2\n",
      "-1\n"
     ]
    }
   ],
   "source": [
    "def bbs(k):\n",
    "    c = 0\n",
    "    for last in range(n - 1, 0, -1):\n",
    "        for i in range(last):\n",
    "            if a[i] > a[i + 1]:\n",
    "                a[i], a[i + 1] = a[i + 1], a[i]\n",
    "                c += 1\n",
    "                if c == k:\n",
    "                    return a[i], a[i + 1]\n",
    "    return [-1]\n",
    "\n",
    "n, k = map(int, input().split())\n",
    "a = list(map(int, input().split()))\n",
    "\n",
    "r = bbs(k)\n",
    "\n",
    "print(*r)"
   ]
  },
  {
   "cell_type": "markdown",
   "metadata": {},
   "source": [
    "### N-Queen 9663"
   ]
  },
  {
   "cell_type": "code",
   "execution_count": 17,
   "metadata": {},
   "outputs": [
    {
     "name": "stdout",
     "output_type": "stream",
     "text": [
      "8\n",
      "92\n"
     ]
    }
   ],
   "source": [
    "n = int(input())\n",
    "\n",
    "cols = [-1] * n\n",
    "stack = []\n",
    "count = 0\n",
    "for i in range(n):\n",
    "    stack = [(0, i)]\n",
    "                    \n",
    "    while stack:\n",
    "        row, former_col = stack.pop()\n",
    "        if row == n - 1:\n",
    "            count += 1\n",
    "        cols[row] = former_col\n",
    "        \n",
    "        st = set(range(n))\n",
    "        for i in range(row, -1, -1):\n",
    "            st.discard(cols[aaaaaaaaai])\n",
    "            st.discard(cols[i] + (row + 1 - i))\n",
    "            st.discard(cols[i] - (row + 1 - i))\n",
    "            \n",
    "        for ncol in st:\n",
    "            stack.append((row + 1, ncol))\n",
    "            \n",
    "print(count)"
   ]
  },
  {
   "cell_type": "markdown",
   "metadata": {},
   "source": [
    "A번 - blobnom"
   ]
  },
  {
   "cell_type": "code",
   "execution_count": 4,
   "metadata": {},
   "outputs": [
    {
     "name": "stdout",
     "output_type": "stream",
     "text": [
      "5\n",
      "2 4 3 5 5\n",
      "8\n"
     ]
    }
   ],
   "source": [
    "n = int(input())\n",
    "li = list(map(int, input().split()))\n",
    "\n",
    "r = max(li)\n",
    "for i in range(1, n - 1):\n",
    "    temp = li[i] + min(li[i - 1], li[i + 1])\n",
    "    r = max(r, temp)\n",
    "    \n",
    "print(r)"
   ]
  },
  {
   "cell_type": "markdown",
   "metadata": {},
   "source": [
    "B번 - blobyum"
   ]
  },
  {
   "cell_type": "code",
   "execution_count": 6,
   "metadata": {},
   "outputs": [
    {
     "name": "stdout",
     "output_type": "stream",
     "text": [
      "4 2\n",
      "5 2 3 4\n",
      "9\n"
     ]
    }
   ],
   "source": [
    "n, k = map(int, input().split())\n",
    "li = list(map(int, input().split()))\n",
    "\n",
    "li += li[:-1]\n",
    "\n",
    "cur = 0\n",
    "for i in range(k):\n",
    "    cur += li[i]\n",
    "    \n",
    "mv = cur # max value\n",
    "for i in range(k, len(li)):\n",
    "    cur -= li[i - k]\n",
    "    cur += li[i]\n",
    "    mv = max(mv, cur)\n",
    "    \n",
    "print(mv)"
   ]
  },
  {
   "cell_type": "markdown",
   "metadata": {},
   "source": [
    "C번 - blobblush"
   ]
  },
  {
   "cell_type": "code",
   "execution_count": 31,
   "metadata": {},
   "outputs": [
    {
     "name": "stdout",
     "output_type": "stream",
     "text": [
      "3\n",
      "1\n",
      "3\n"
     ]
    }
   ],
   "source": [
    "n = int(input())\n",
    "\n",
    "if n == 1:\n",
    "    print(1)\n",
    "    print(1)\n",
    "else:\n",
    "    temp = n + n - 1\n",
    "    cur = 1\n",
    "    while True:\n",
    "        if cur - 1 > temp:\n",
    "            cur //= 2\n",
    "            break\n",
    "        cur *= 2\n",
    "        \n",
    "    target = cur - 1\n",
    "    \n",
    "    if n == target:\n",
    "        print(1)\n",
    "        print(n)\n",
    "    else:\n",
    "        print(2)\n",
    "        print(target - n)\n",
    "        print(n)"
   ]
  },
  {
   "cell_type": "markdown",
   "metadata": {},
   "source": [
    "D번 - blobaww"
   ]
  },
  {
   "cell_type": "code",
   "execution_count": 2,
   "metadata": {},
   "outputs": [
    {
     "name": "stdout",
     "output_type": "stream",
     "text": [
      "3 2\n",
      "EM\n",
      "SS\n",
      "MM\n",
      "3\n"
     ]
    }
   ],
   "source": [
    "import sys\n",
    "input = lambda: sys.stdin.readline().rstrip()\n",
    "\n",
    "mod = int(1e9) + 7\n",
    "\n",
    "n, m = map(int, input().split())\n",
    "li = [input() for _ in range(n)]\n",
    "\n",
    "dp = [[[0] * 3 for _ in range(m)] for _ in range(n)]\n",
    "for i in range(n):\n",
    "    for j in range(m):\n",
    "        if i - 1 >= 0:\n",
    "            for k in range(3):\n",
    "                dp[i][j][k] += dp[i - 1][j][k]\n",
    "        if j - 1 >= 0:\n",
    "            for k in range(3):\n",
    "                dp[i][j][k] += dp[i][j - 1][k]\n",
    "        if i - 1 >= 0 and j - 1 >= 0:\n",
    "            for k in range(3):\n",
    "                dp[i][j][k] -= dp[i - 1][j - 1][k]\n",
    "                \n",
    "        if li[i][j] == 'E':\n",
    "            dp[i][j][0] += 1\n",
    "        elif li[i][j] == 'S':\n",
    "            if i - 1 >= 0:\n",
    "                dp[i][j][1] += dp[i - 1][j][0]\n",
    "            if j - 1 >= 0:\n",
    "                dp[i][j][1] += dp[i][j - 1][0]\n",
    "            if i - 1 >= 0 and j - 1 >= 0:\n",
    "                dp[i][j][1] -= dp[i - 1][j - 1][0]\n",
    "        else:\n",
    "            if i - 1 >= 0:\n",
    "                dp[i][j][2] += dp[i - 1][j][1]\n",
    "            if j - 1 >= 0:\n",
    "                dp[i][j][2] += dp[i][j - 1][1]  \n",
    "            if i - 1 >= 0 and j - 1 >= 0:\n",
    "                dp[i][j][2] -= dp[i - 1][j - 1][1]\n",
    "        \n",
    "        for k in range(3):\n",
    "            dp[i][j][k] %= mod\n",
    "            \n",
    "r = dp[n - 1][m - 1][2]\n",
    "\n",
    "print(r)"
   ]
  },
  {
   "cell_type": "code",
   "execution_count": 42,
   "metadata": {},
   "outputs": [
    {
     "name": "stdout",
     "output_type": "stream",
     "text": [
      "[[1, 0, 0], [1, 0, 0]]\n",
      "[[1, 1, 0], [2, 3, 0]]\n",
      "[[1, 1, 1], [3, 4, 4]]\n"
     ]
    }
   ],
   "source": [
    "for v in dp:\n",
    "    print(v)"
   ]
  },
  {
   "cell_type": "code",
   "execution_count": 36,
   "metadata": {},
   "outputs": [
    {
     "name": "stdout",
     "output_type": "stream",
     "text": [
      "[[0, 0, 0], [0, 0, 0]]\n",
      "[[0, 0, 0], [0, 0, 0]]\n",
      "[[0, 0, 0], [0, 0, 0]]\n"
     ]
    }
   ],
   "source": [
    "for v in dp:\n",
    "    print(v)"
   ]
  },
  {
   "cell_type": "code",
   "execution_count": null,
   "metadata": {},
   "outputs": [],
   "source": [
    "E        E        S       E         E          S            M          M\n",
    "[1,0,0] [2,0,0] [2,2,0] [3,2,0]  [4,2,0] [4, 2 + 4, 0]  [4, 6, 6] [4, 6, 6 + 6]\n"
   ]
  },
  {
   "cell_type": "markdown",
   "metadata": {},
   "source": [
    "A번 - 내 뒤에 나와 다른 수"
   ]
  },
  {
   "cell_type": "code",
   "execution_count": 1,
   "metadata": {},
   "outputs": [
    {
     "name": "stdout",
     "output_type": "stream",
     "text": [
      "6\n",
      "3 3 1 1 4 4\n"
     ]
    }
   ],
   "source": [
    "n = int(input())\n",
    "li = list(map(int, input().split()))"
   ]
  },
  {
   "cell_type": "code",
   "execution_count": 6,
   "metadata": {},
   "outputs": [
    {
     "name": "stdout",
     "output_type": "stream",
     "text": [
      "6\n",
      "3 3 1 1 4 4\n",
      "3 3 5 5 -1 -1\n"
     ]
    }
   ],
   "source": [
    "from collections import deque\n",
    "\n",
    "n = int(input())\n",
    "li = list(map(int, input().split()))\n",
    "\n",
    "result = deque()\n",
    "result.appendleft(-1)\n",
    "cur = li[-1]\n",
    "for i in range(n - 2, -1, -1):\n",
    "    if li[i] == cur:\n",
    "        result.appendleft(result[0])\n",
    "    else:\n",
    "        cur = li[i]\n",
    "        result.appendleft(i + 2)\n",
    "        \n",
    "print(*result)"
   ]
  },
  {
   "cell_type": "markdown",
   "metadata": {},
   "source": [
    "B"
   ]
  },
  {
   "cell_type": "code",
   "execution_count": 23,
   "metadata": {},
   "outputs": [
    {
     "name": "stdout",
     "output_type": "stream",
     "text": [
      "abcd\n",
      "dfsd\n",
      "0\n"
     ]
    }
   ],
   "source": [
    "s = input()\n",
    "t = input()\n",
    "\n",
    "d = {v: i for i, v in enumerate(t)}\n",
    "\n",
    "sli = []\n",
    "for v in s:\n",
    "    if v in d:\n",
    "        sli.append(d[v])\n",
    "n = len(sli)\n",
    "\n",
    "dp = [0] * len(t)\n",
    "if not sli:\n",
    "    print(0)\n",
    "else:\n",
    "    for i in range(n):\n",
    "        if sli[i] == 0:\n",
    "            dp[0] += 1\n",
    "        else:\n",
    "            if dp[sli[i] - 1] >= 1:\n",
    "                dp[sli[i] - 1] -= 1\n",
    "                dp[sli[i]] += 1\n",
    "                \n",
    "    print(dp[-1])"
   ]
  },
  {
   "cell_type": "markdown",
   "metadata": {},
   "source": [
    "D"
   ]
  },
  {
   "cell_type": "code",
   "execution_count": 4,
   "metadata": {},
   "outputs": [
    {
     "name": "stdout",
     "output_type": "stream",
     "text": [
      "3 3\n",
      "1 2\n",
      "2 3\n",
      "3 1\n",
      "0\n"
     ]
    }
   ],
   "source": [
    "import sys\n",
    "# input = lambda: sys.stdin.readline().rstrip()\n",
    "\n",
    "## PYRIVAL BOOTSTRAP\n",
    "# https://github.com/cheran-senthil/PyRival/blob/master/pyrival/misc/bootstrap.py\n",
    "# This decorator allows for recursion without actually doing recursion\n",
    "## @bootstrap, yield when getting and returning value in recursive functions, end of functions\n",
    "from types import GeneratorType\n",
    "\n",
    "def bootstrap(f, stack=[]):\n",
    "    def wrappedfunc(*args, **kwargs):\n",
    "        if stack:\n",
    "            return f(*args, **kwargs)\n",
    "        else:\n",
    "            to = f(*args, **kwargs)\n",
    "            while True:\n",
    "                if type(to) is GeneratorType:\n",
    "                    stack.append(to)\n",
    "                    to = next(to)\n",
    "                else:\n",
    "                    stack.pop()\n",
    "                    if not stack:\n",
    "                        break\n",
    "                    to = stack[-1].send(to)\n",
    "            return to\n",
    "    return wrappedfunc\n",
    "\n",
    "@bootstrap\n",
    "def dfs(value):\n",
    "    vt[value] = True\n",
    "    stack.append(value)\n",
    "    on_stack[value] = True\n",
    "    for v in li[value]:\n",
    "        if not vt[v]:\n",
    "            yield dfs(v)\n",
    "        else:\n",
    "            if is_cycled[v] or on_stack[v]:\n",
    "                for j in range(len(stack) - 1, -1, -1):\n",
    "                    if not is_cycled[stack[j]]:\n",
    "                        is_cycled[stack[j]] = True\n",
    "                    else:\n",
    "                        break\n",
    "                        \n",
    "    on_stack[value] = False\n",
    "    stack.pop()\n",
    "    \n",
    "    yield\n",
    "    \n",
    "                \n",
    "n, m = map(int, input().split())\n",
    "\n",
    "li = [[] for _ in range(n + 1)]\n",
    "for _ in range(m):\n",
    "    a, b = map(int, input().split())\n",
    "    li[a].append(b)\n",
    "\n",
    "\n",
    "is_cycled = [False] * (n + 1)\n",
    "vt = [False] * (n + 1)\n",
    "stack = []\n",
    "on_stack = [False] * (n + 1)\n",
    "for i in range(1, n + 1):\n",
    "    if not vt[i]:\n",
    "        dfs(i)\n",
    "        \n",
    "print(n - sum(is_cycled))"
   ]
  },
  {
   "cell_type": "markdown",
   "metadata": {},
   "source": [
    "C"
   ]
  },
  {
   "cell_type": "code",
   "execution_count": 17,
   "metadata": {},
   "outputs": [
    {
     "name": "stdout",
     "output_type": "stream",
     "text": [
      "SSKK\n",
      "2 0 1\n",
      "2 1 2\n",
      "2 2 3\n",
      "False\n",
      "1 0 0\n",
      "1 1 1\n",
      "1 2 2\n",
      "1 3 3\n",
      "False\n",
      "-1\n"
     ]
    }
   ],
   "source": [
    "s = input()\n",
    "n = len(s)\n",
    "\n",
    "sum_s = [0] * (n + 1)\n",
    "cumul = 0\n",
    "for i in range(n):\n",
    "    if s[i] == 'S':\n",
    "        cumul += 1\n",
    "    sum_s[i + 1] = cumul\n",
    "\n",
    "sum_k = [0] * (n + 1)\n",
    "cumul = 0\n",
    "for i in range(n):\n",
    "    if s[i] == 'K':\n",
    "        cumul += 1\n",
    "    sum_k[i + 1] = cumul\n",
    "\n",
    "start = 1\n",
    "end = n\n",
    "result = -1\n",
    "\n",
    "while start <= end:\n",
    "    mid = (start + end) // 2\n",
    "    \n",
    "    ip = False\n",
    "    for e in range(mid - 1, n):\n",
    "        s = e - (mid - 1)\n",
    "        print(mid, s, e)\n",
    "        \n",
    "        sc = sum_s[e + 1] - sum_s[s]\n",
    "        kc = sum_k[e + 1] - sum_k[s]\n",
    "        \n",
    "        if sc and sc * 2 == kc:\n",
    "            ip = True\n",
    "            break\n",
    "            \n",
    "            \n",
    "    print(ip)\n",
    "    if ip:\n",
    "        result = mid\n",
    "        start = mid + 1\n",
    "    else:\n",
    "        end = mid - 1\n",
    "        \n",
    "print(result)"
   ]
  }
 ],
 "metadata": {
  "kernelspec": {
   "display_name": "Python 3",
   "language": "python",
   "name": "python3"
  },
  "language_info": {
   "codemirror_mode": {
    "name": "ipython",
    "version": 3
   },
   "file_extension": ".py",
   "mimetype": "text/x-python",
   "name": "python",
   "nbconvert_exporter": "python",
   "pygments_lexer": "ipython3",
   "version": "3.7.4"
  }
 },
 "nbformat": 4,
 "nbformat_minor": 4
}
