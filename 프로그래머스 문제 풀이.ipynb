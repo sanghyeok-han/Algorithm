{
 "cells": [
  {
   "cell_type": "markdown",
   "metadata": {},
   "source": [
    "### 도둑질\n",
    "- 동적계획법"
   ]
  },
  {
   "cell_type": "code",
   "execution_count": 1,
   "metadata": {},
   "outputs": [],
   "source": [
    "def get_max1(money):\n",
    "    dp = [[0, 0] for _ in range(len(money))] \n",
    "    dp[0], dp[1] = [money[0], money[0]], [0, money[0]] \n",
    "    \n",
    "    money_length = len(money)\n",
    "    for i in range(2, money_length):\n",
    "        dp[i][0] = max(dp[i - 2]) + money[i]\n",
    "        dp[i][1] = max(max(dp[i - 2]), max(dp[i - 1]))\n",
    "\n",
    "    return max(dp[-1])\n",
    "\n",
    "def get_max2(money):\n",
    "    dp = [[0, 0] for _ in range(len(money))]\n",
    "    dp[0] = [money[0], 0]\n",
    "    dp[1] = [money[1], money[0]]\n",
    "\n",
    "    money_length = len(money)\n",
    "    for i in range(2, money_length):\n",
    "        dp[i][0] = max(dp[i - 2]) + money[i]\n",
    "        dp[i][1] = max(max(dp[i - 2]), max(dp[i - 1]))\n",
    "        \n",
    "    return max(dp[-1])\n",
    "\n",
    "def solution(money):\n",
    "    if len(money) == 3:\n",
    "        answer = max(money)\n",
    "    else:\n",
    "        max_result = 0\n",
    "        \n",
    "        # 첫번째 집을 선택하는 경우\n",
    "        value = get_max1(money[:-1])\n",
    "        if value > max_result:\n",
    "            max_result = value\n",
    "            \n",
    "        # 첫번째 집을 선택하지 않는 경우\n",
    "        value = get_max2(money[1:])\n",
    "        if value > max_result:\n",
    "            max_result = value        \n",
    "        \n",
    "        answer = max_result\n",
    "        \n",
    "    return answer"
   ]
  },
  {
   "cell_type": "code",
   "execution_count": 2,
   "metadata": {},
   "outputs": [
    {
     "data": {
      "text/plain": [
       "4"
      ]
     },
     "execution_count": 2,
     "metadata": {},
     "output_type": "execute_result"
    }
   ],
   "source": [
    "solution([1, 2, 3, 1])"
   ]
  },
  {
   "cell_type": "code",
   "execution_count": 3,
   "metadata": {},
   "outputs": [
    {
     "data": {
      "text/plain": [
       "12"
      ]
     },
     "execution_count": 3,
     "metadata": {},
     "output_type": "execute_result"
    }
   ],
   "source": [
    "solution([1, 6, 1, 1, 6, 1])"
   ]
  },
  {
   "cell_type": "code",
   "execution_count": 4,
   "metadata": {},
   "outputs": [
    {
     "data": {
      "text/plain": [
       "12"
      ]
     },
     "execution_count": 4,
     "metadata": {},
     "output_type": "execute_result"
    }
   ],
   "source": [
    "solution([10, 1, 2, 1])"
   ]
  },
  {
   "cell_type": "code",
   "execution_count": 5,
   "metadata": {},
   "outputs": [
    {
     "data": {
      "text/plain": [
       "12"
      ]
     },
     "execution_count": 5,
     "metadata": {},
     "output_type": "execute_result"
    }
   ],
   "source": [
    "solution([1, 2, 1, 10])"
   ]
  },
  {
   "cell_type": "code",
   "execution_count": 6,
   "metadata": {},
   "outputs": [
    {
     "data": {
      "text/plain": [
       "20"
      ]
     },
     "execution_count": 6,
     "metadata": {},
     "output_type": "execute_result"
    }
   ],
   "source": [
    "solution([10, 1, 1, 10, 1])"
   ]
  },
  {
   "cell_type": "code",
   "execution_count": 7,
   "metadata": {},
   "outputs": [
    {
     "data": {
      "text/plain": [
       "20"
      ]
     },
     "execution_count": 7,
     "metadata": {},
     "output_type": "execute_result"
    }
   ],
   "source": [
    "def solution( money ):\n",
    "    if len( money ) == 3:\n",
    "        answer = max( money )\n",
    "    else:\n",
    "        money_length = len( money ) - 1\n",
    "        \n",
    "        # 첫번째 집을 선택하는 경우\n",
    "        dp1 = [[0, 0] for _ in range(money_length)]\n",
    "        dp1[0], dp1[1] = [money[0], money[0]], [0, money[0]]\n",
    "        \n",
    "        # 첫번째 집을 선택하지 않는 경우\n",
    "        dp2 = [[0, 0] for _ in range(money_length)]\n",
    "        dp2[0], dp2[1] = [money[1], 0], [money[2], money[1]]\n",
    "        \n",
    "        for i in range(2, money_length):\n",
    "            max1 = max(dp1[i - 2])\n",
    "            max2 = max(dp1[i - 2][0], dp1[i - 2][1], dp1[i - 1][0])\n",
    "            \n",
    "            max3 = max(dp2[i - 2])\n",
    "            max4 = max(dp2[i - 2][0], dp2[i - 2][1], dp2[i - 1][0])\n",
    "            \n",
    "            dp1[i][0] = max1 + money[i]\n",
    "            dp1[i][1] = max2\n",
    "            \n",
    "            dp2[i][0] = max3 + money[i + 1]\n",
    "            dp2[i][1] = max4\n",
    "            \n",
    "        answer = max(max(dp1[-1]), max(dp2[-1]))\n",
    "        \n",
    "    return answer"
   ]
  },
  {
   "cell_type": "code",
   "execution_count": null,
   "metadata": {},
   "outputs": [],
   "source": [
    "solution"
   ]
  }
 ],
 "metadata": {
  "kernelspec": {
   "display_name": "Python 3",
   "language": "python",
   "name": "python3"
  },
  "language_info": {
   "codemirror_mode": {
    "name": "ipython",
    "version": 3
   },
   "file_extension": ".py",
   "mimetype": "text/x-python",
   "name": "python",
   "nbconvert_exporter": "python",
   "pygments_lexer": "ipython3",
   "version": "3.7.3"
  }
 },
 "nbformat": 4,
 "nbformat_minor": 4
}
