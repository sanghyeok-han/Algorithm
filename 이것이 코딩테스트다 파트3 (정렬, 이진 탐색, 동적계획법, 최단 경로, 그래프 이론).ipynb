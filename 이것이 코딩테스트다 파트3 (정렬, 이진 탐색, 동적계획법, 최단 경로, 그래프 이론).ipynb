{
 "cells": [
  {
   "cell_type": "markdown",
   "metadata": {},
   "source": [
    "## 정렬"
   ]
  },
  {
   "cell_type": "markdown",
   "metadata": {},
   "source": [
    "### 국영수"
   ]
  },
  {
   "cell_type": "code",
   "execution_count": 6,
   "metadata": {},
   "outputs": [
    {
     "name": "stdout",
     "output_type": "stream",
     "text": [
      "1\n",
      "j 5 6 10\n",
      "j\n"
     ]
    }
   ],
   "source": [
    "import sys\n",
    "# input = sys.stdin.readline\n",
    "\n",
    "n = int(input().rstrip())\n",
    "li = []\n",
    "for _ in range(n):\n",
    "    name, a, b, c = input().rstrip().split()\n",
    "    a = int(a)\n",
    "    b = int(b)\n",
    "    c = int(c)\n",
    "    li.append((name, a, b, c))\n",
    "\n",
    "li.sort(key=lambda x: (-x[1], x[2], -x[3], x[0]))\n",
    "for v in li:\n",
    "    print(v[0])"
   ]
  },
  {
   "cell_type": "markdown",
   "metadata": {},
   "source": [
    "### 안테나"
   ]
  },
  {
   "cell_type": "code",
   "execution_count": 9,
   "metadata": {},
   "outputs": [
    {
     "name": "stdout",
     "output_type": "stream",
     "text": [
      "4\n",
      "1 1 1 10\n",
      "1\n"
     ]
    }
   ],
   "source": [
    "n = int(input())\n",
    "li = list(map(int, input().split()))\n",
    "\n",
    "max_value = max(li)\n",
    "min_result = 0\n",
    "counts = [0] * (max_value + 1)\n",
    "for v in li:\n",
    "    counts[v] += 1\n",
    "    min_result += max_value - v\n",
    "    \n",
    "lower_counts = n - counts[max_value]\n",
    "higher_counts = 0\n",
    "for current in range(max_value - 1, -1, -1):\n",
    "    higher_counts += counts[current + 1]\n",
    "    changed = higher_counts - lower_counts\n",
    "    if changed > 0:\n",
    "        current += 1\n",
    "        break\n",
    "    min_result += changed\n",
    "    lower_counts -= counts[current]\n",
    "    \n",
    "print(current)"
   ]
  },
  {
   "cell_type": "code",
   "execution_count": 11,
   "metadata": {},
   "outputs": [
    {
     "name": "stdout",
     "output_type": "stream",
     "text": [
      "4\n",
      "5 1 7 9\n",
      "5\n"
     ]
    }
   ],
   "source": [
    "# 간결하게 바꿨음\n",
    "n = int(input())\n",
    "li = list(map(int, input().split()))\n",
    "li.sort()\n",
    "print(li[(n - 1) // 2])"
   ]
  },
  {
   "cell_type": "markdown",
   "metadata": {},
   "source": [
    "### 실패율"
   ]
  },
  {
   "cell_type": "code",
   "execution_count": null,
   "metadata": {},
   "outputs": [],
   "source": [
    "# 기존 코드\n",
    "def solution(N, stages):\n",
    "    reached_but_not_clear = [0] * (N + 1)\n",
    "    cleared = [0] * (N + 1)\n",
    "    \n",
    "    for stage_info in stages:\n",
    "        for i in range(1, stage_info):\n",
    "            cleared[i] += 1\n",
    "        \n",
    "        if stage_info <= N:\n",
    "            reached_but_not_clear[stage_info] += 1\n",
    "        \n",
    "    failure_rate = [0] * (N + 1)\n",
    "    for i in range(1, N + 1):\n",
    "        if reached_but_not_clear[i] + cleared[i] > 0:\n",
    "            failure_rate[i] = reached_but_not_clear[i] / (reached_but_not_clear[i] + cleared[i])\n",
    "\n",
    "    failure_rate = [(v, i) for i, v in enumerate(failure_rate) if i != 0]\n",
    "    failure_rate.sort(key=lambda x: (-x[0], x[1]))\n",
    "    result = [v[1] for v in failure_rate]\n",
    "    \n",
    "    return result"
   ]
  },
  {
   "cell_type": "code",
   "execution_count": null,
   "metadata": {},
   "outputs": [],
   "source": [
    "# 틀렸음\n",
    "def solution(N, stages):\n",
    "    population = len(stages)\n",
    "    stages.sort()\n",
    "    \n",
    "    reached_but_not_cleared = [0] * (N + 2)\n",
    "    reached = [0] * (N + 2)\n",
    "    current_stage = 0\n",
    "    for i in range(len(stages)):\n",
    "        reached_but_not_cleared[stages[i]] += 1\n",
    "        if stages[i] > current_stage:\n",
    "            for j in range(current_stage, stages[i]):\n",
    "                reached[j] = population - i\n",
    "            current_stage = stages[i]\n",
    "            \n",
    "    if current_stage == N:\n",
    "        reached[N] = population\n",
    "\n",
    "    failure_rate = [[0, i] for i in range(N + 2)]\n",
    "    for i, (nc, r) in enumerate(zip(reached_but_not_cleared, reached)):\n",
    "        if r >= 1:\n",
    "            failure_rate[i][0] = nc / r\n",
    "            \n",
    "    failure_rate.sort(key=lambda x: (-x[0], x[1]))\n",
    "    failure_rate = [v[1] for v in failure_rate if 1 <= v[1] <= N]\n",
    "    \n",
    "    return failure_rate"
   ]
  },
  {
   "cell_type": "code",
   "execution_count": null,
   "metadata": {},
   "outputs": [],
   "source": [
    "# 맞았음, 스택 활용함, 기존 코드 대비 효율성 개선\n",
    "def solution(N, stages):\n",
    "    population = len(stages)\n",
    "    stages.sort(reverse=True)\n",
    "    \n",
    "    reached_but_not_cleared = [0] * (N + 1)\n",
    "    reached = [0] * (N + 1)\n",
    "    for i in range(1, N + 1):\n",
    "        reached[i] = len(stages)\n",
    "        while stages and stages[-1] == i:\n",
    "            reached_but_not_cleared[i] += 1\n",
    "            stages.pop()\n",
    "            \n",
    "    failure_rate = [[0, i] for i in range(N + 2)]\n",
    "    for i, (nc, r) in enumerate(zip(reached_but_not_cleared, reached)):\n",
    "        if r >= 1:\n",
    "            failure_rate[i][0] = nc / r\n",
    "            \n",
    "    failure_rate.sort(key=lambda x: (-x[0], x[1]))\n",
    "    failure_rate = [v[1] for v in failure_rate if 1 <= v[1] <= N]        \n",
    "    \n",
    "    return failure_rate"
   ]
  },
  {
   "cell_type": "markdown",
   "metadata": {},
   "source": [
    "### 카드 정렬하기"
   ]
  },
  {
   "cell_type": "code",
   "execution_count": null,
   "metadata": {},
   "outputs": [],
   "source": [
    "# 기존 코드\n",
    "import heapq\n",
    "import sys\n",
    "\n",
    "n = int(sys.stdin.readline())\n",
    "heap = []\n",
    "\n",
    "for _ in range(n):\n",
    "    heapq.heappush(heap, int(sys.stdin.readline()))\n",
    "    \n",
    "total = 0\n",
    "while len(heap) >= 2:\n",
    "    value1 = heapq.heappop(heap)\n",
    "    value2 = heapq.heappop(heap)\n",
    "    total = total + value1 + value2\n",
    "    heapq.heappush(heap, value1 + value2)\n",
    "    \n",
    "print(total)"
   ]
  },
  {
   "cell_type": "code",
   "execution_count": 1,
   "metadata": {},
   "outputs": [
    {
     "name": "stdout",
     "output_type": "stream",
     "text": [
      "3\n",
      "10\n",
      "20\n",
      "40\n",
      "100\n"
     ]
    }
   ],
   "source": [
    "from heapq import heappush, heappop\n",
    "import sys\n",
    "# input = sys.stdin.readline\n",
    "\n",
    "n = int(input().rstrip())\n",
    "heap = []\n",
    "for _ in range(n):\n",
    "    heappush(heap, int(input().rstrip()))\n",
    "    \n",
    "result = 0\n",
    "while len(heap) >= 2:\n",
    "    a = heappop(heap)\n",
    "    b = heappop(heap)\n",
    "    result += a + b\n",
    "    heappush(heap, a + b)\n",
    "    \n",
    "print(result)"
   ]
  },
  {
   "cell_type": "markdown",
   "metadata": {},
   "source": [
    "## 이진탐색"
   ]
  },
  {
   "cell_type": "markdown",
   "metadata": {},
   "source": [
    "### 정렬된 배열에서 특정 수의 개수 구하기"
   ]
  },
  {
   "cell_type": "code",
   "execution_count": 7,
   "metadata": {},
   "outputs": [
    {
     "name": "stdout",
     "output_type": "stream",
     "text": [
      "7 4\n",
      "1 1 2 2 2 2 3\n",
      "-1\n"
     ]
    }
   ],
   "source": [
    "# 이진 탐색으로 해당 숫자를 찾은 후에 좌우로 확인\n",
    "n, x = map(int, input().split())\n",
    "li = list(map(int, input().split()))\n",
    "\n",
    "start = 0\n",
    "end = n - 1\n",
    "result_index = -1\n",
    "while start <= end:\n",
    "    mid = (start + end) // 2\n",
    "    if li[mid] == x:\n",
    "        result_index = mid\n",
    "        break\n",
    "    elif li[mid] < x:\n",
    "        start = mid + 1\n",
    "    else:\n",
    "        end = mid - 1\n",
    "\n",
    "if result_index == -1:\n",
    "    print(result_index)\n",
    "else:     \n",
    "    result = 1\n",
    "    current = mid - 1\n",
    "    while 0 <= current:\n",
    "        if li[current] == x:\n",
    "            result += 1\n",
    "        else:\n",
    "            break \n",
    "        current -= 1\n",
    "            \n",
    "    current = mid + 1\n",
    "    while current < n:\n",
    "        if li[current] == x:\n",
    "            result += 1\n",
    "        else:\n",
    "            break\n",
    "        current += 1\n",
    "            \n",
    "    print(result)"
   ]
  },
  {
   "cell_type": "code",
   "execution_count": 3,
   "metadata": {},
   "outputs": [
    {
     "name": "stdout",
     "output_type": "stream",
     "text": [
      "7 4\n",
      "1 1 2 2 2 2 3\n",
      "-1\n"
     ]
    }
   ],
   "source": [
    "# 이진 탐색으로 시작점, 끝점을 찾는 것으로 개선함\n",
    "n, x = map(int, input().split())\n",
    "li = list(map(int, input().split()))\n",
    "\n",
    "def solve():\n",
    "    start = 0\n",
    "    end = n - 1\n",
    "    end_index = -1\n",
    "    while start <= end:\n",
    "        mid = (start + end) // 2\n",
    "        if li[mid] <= x:\n",
    "            if li[mid] == x:\n",
    "                end_index = mid\n",
    "            start = mid + 1\n",
    "        else:\n",
    "            end = mid - 1\n",
    "\n",
    "    if end_index == -1:\n",
    "        return -1\n",
    "    \n",
    "    start = 0\n",
    "    end = end_index\n",
    "    start_index = -1\n",
    "    while start <= end:\n",
    "        mid = (start + end) // 2\n",
    "        if li[mid] >= x:\n",
    "            if li[mid] == x:\n",
    "                start_index = mid\n",
    "            end = mid - 1\n",
    "        else:\n",
    "            start = mid + 1\n",
    "            \n",
    "    return end_index - start_index + 1\n",
    "        \n",
    "result = solve()\n",
    "print(result)"
   ]
  },
  {
   "cell_type": "markdown",
   "metadata": {},
   "source": [
    "### 고정점 찾기"
   ]
  },
  {
   "cell_type": "code",
   "execution_count": 10,
   "metadata": {},
   "outputs": [
    {
     "name": "stdout",
     "output_type": "stream",
     "text": [
      "7\n",
      "-15 -4 3 8 9 13 15\n",
      "-1\n"
     ]
    }
   ],
   "source": [
    "n = int(input())\n",
    "li = list(map(int, input().split()))\n",
    "\n",
    "start = 0\n",
    "end = n - 1\n",
    "result = -1\n",
    "while start <= end:\n",
    "    mid = (start + end) // 2\n",
    "    if li[mid] == mid:\n",
    "        result = mid\n",
    "        break\n",
    "    elif mid < li[mid]:\n",
    "        end = mid - 1\n",
    "    else:\n",
    "        start = mid + 1\n",
    "print(result)"
   ]
  },
  {
   "cell_type": "markdown",
   "metadata": {},
   "source": [
    "### 공유기 설치"
   ]
  },
  {
   "cell_type": "code",
   "execution_count": 11,
   "metadata": {},
   "outputs": [
    {
     "name": "stdout",
     "output_type": "stream",
     "text": [
      "5 3\n",
      "1\n",
      "2\n",
      "8\n",
      "4\n",
      "9\n",
      "3\n"
     ]
    }
   ],
   "source": [
    "n, c = map(int, input().split())\n",
    "li = [int(input()) for _ in range(n)]\n",
    "li.sort()\n",
    "\n",
    "start = 1\n",
    "end = li[-1] - li[0]\n",
    "result = 0\n",
    "while start <= end:\n",
    "    mid = (start + end) // 2\n",
    "    \n",
    "    count = 0\n",
    "    next_possible_value = li[0]\n",
    "    for i in range(n):\n",
    "        if li[i] >= next_possible_value:\n",
    "            count += 1\n",
    "            next_possible_value = li[i] + mid\n",
    "    if count >= c:\n",
    "        result = mid\n",
    "        start = mid + 1\n",
    "    else:\n",
    "        end = mid - 1\n",
    "        \n",
    "print(result)"
   ]
  },
  {
   "cell_type": "markdown",
   "metadata": {},
   "source": [
    "### 가사 검색"
   ]
  },
  {
   "cell_type": "markdown",
   "metadata": {},
   "source": []
  },
  {
   "cell_type": "markdown",
   "metadata": {},
   "source": [
    "## 다이나믹 프로그래밍"
   ]
  },
  {
   "cell_type": "markdown",
   "metadata": {},
   "source": [
    "### 금광"
   ]
  },
  {
   "cell_type": "code",
   "execution_count": 6,
   "metadata": {},
   "outputs": [
    {
     "name": "stdout",
     "output_type": "stream",
     "text": [
      "4 4\n",
      "1 3 1 5 2 2 4 1 5 0 2 3 0 6 1 2\n",
      "16\n"
     ]
    }
   ],
   "source": [
    "n, m = map(int, input().split())\n",
    "li = list(map(int, input().split()))\n",
    "dp = []\n",
    "for i in range(0, n * m, m):\n",
    "    dp.append(li[i:i + m])\n",
    "\n",
    "for j in range(1, m):\n",
    "    for i in range(n):\n",
    "        max_former_value = dp[i][j - 1]\n",
    "        if i - 1 >= 0:\n",
    "            max_former_value = max(max_former_value, dp[i - 1][j - 1])\n",
    "        if i + 1 < n:\n",
    "            max_former_value = max(max_former_value, dp[i + 1][j - 1])\n",
    "        \n",
    "        dp[i][j] += max_former_value\n",
    "        \n",
    "max_result = 0\n",
    "for i in range(n):\n",
    "    max_result = max(max_result, dp[i][-1])\n",
    "    \n",
    "print(max_result)"
   ]
  },
  {
   "cell_type": "markdown",
   "metadata": {},
   "source": [
    "### 정수 삼각형"
   ]
  },
  {
   "cell_type": "code",
   "execution_count": 10,
   "metadata": {},
   "outputs": [
    {
     "name": "stdout",
     "output_type": "stream",
     "text": [
      "5\n",
      "7\n",
      "3 8\n",
      "8 1 0\n",
      "2 7 4 4 \n",
      "4 5 2 6 5\n",
      "30\n"
     ]
    }
   ],
   "source": [
    "n = int(input())\n",
    "dp = []\n",
    "for _ in range(n):\n",
    "    li = list(map(int, input().split()))\n",
    "    li = [0] + li + [0]\n",
    "    dp.append(li)\n",
    "    \n",
    "for i in range(1, n):\n",
    "    for j in range(1, i + 2):\n",
    "        dp[i][j] += max(dp[i - 1][j - 1], dp[i - 1][j])\n",
    "        \n",
    "print(max(dp[-1]))"
   ]
  },
  {
   "cell_type": "markdown",
   "metadata": {},
   "source": [
    "### 퇴사"
   ]
  },
  {
   "cell_type": "code",
   "execution_count": 16,
   "metadata": {},
   "outputs": [
    {
     "name": "stdout",
     "output_type": "stream",
     "text": [
      "10\n",
      "5 50\n",
      "4 40\n",
      "3 30\n",
      "2 20\n",
      "1 10\n",
      "1 10\n",
      "2 20\n",
      "3 30\n",
      "4 40\n",
      "5 50\n",
      "90\n"
     ]
    }
   ],
   "source": [
    "n = int(input())\n",
    "li = [list(map(int, input().split())) for _ in range(n)]\n",
    "\n",
    "dp = [0] * (n + 1)\n",
    "current_max = 0 # current_max_possible_to_get\n",
    "\n",
    "for i in range(n):\n",
    "    current_max = max(current_max, dp[i])\n",
    "    t, p = li[i]\n",
    "    if i + t <= n:\n",
    "        dp[i + t] = max(dp[i + t], current_max + p)\n",
    "        \n",
    "current_max = max(current_max, dp[-1])\n",
    "print(current_max)"
   ]
  },
  {
   "cell_type": "markdown",
   "metadata": {},
   "source": [
    "### 병사 배치하기"
   ]
  },
  {
   "cell_type": "code",
   "execution_count": 19,
   "metadata": {},
   "outputs": [
    {
     "name": "stdout",
     "output_type": "stream",
     "text": [
      "7\n",
      "15 11 4 8 5 2 4\n",
      "2\n"
     ]
    }
   ],
   "source": [
    "n = int(input())\n",
    "li = list(map(int, input().split()))\n",
    "dp = [0] * n\n",
    "dp[0] = 1\n",
    "\n",
    "for i in range(1, n):\n",
    "    candidates = [dp[index] for index in range(i) if li[index] > li[i]]\n",
    "    dp[i] = max(candidates) + 1 if candidates else 1\n",
    "    \n",
    "print(n - max(dp))"
   ]
  },
  {
   "cell_type": "markdown",
   "metadata": {},
   "source": [
    "### 못생긴 수"
   ]
  },
  {
   "cell_type": "code",
   "execution_count": 36,
   "metadata": {},
   "outputs": [
    {
     "name": "stdout",
     "output_type": "stream",
     "text": [
      "10\n",
      "12\n"
     ]
    }
   ],
   "source": [
    "from heapq import heappush, heappop\n",
    "\n",
    "n = int(input())\n",
    "\n",
    "li = [2, 3, 5]\n",
    "heap = []\n",
    "heappush(heap, 1)\n",
    "st = set()\n",
    "for _ in range(n):\n",
    "    min_value = heappop(heap)\n",
    "    for v in li:\n",
    "        new_value = v * min_value\n",
    "        if new_value not in st:\n",
    "            st.add(new_value)\n",
    "            heappush(heap, new_value)\n",
    "            \n",
    "print(min_value)"
   ]
  },
  {
   "cell_type": "code",
   "execution_count": 82,
   "metadata": {},
   "outputs": [
    {
     "name": "stdout",
     "output_type": "stream",
     "text": [
      "4 19\n",
      "2 3 5 7\n",
      "27\n"
     ]
    }
   ],
   "source": [
    "from heapq import heapify, heappush, heappop\n",
    "\n",
    "k, n = map(int, input().split())\n",
    "li = list(map(int, input().split()))\n",
    "heap = li[:]\n",
    "heapify(heap)\n",
    "max_criteria = 2 ** 31\n",
    "\n",
    "st = set()\n",
    "count = 1\n",
    "while count:\n",
    "    min_value = heappop(heap)\n",
    "    \n",
    "    if count == n:\n",
    "        print(min_value)\n",
    "        break\n",
    "    \n",
    "    if min_value in st:\n",
    "        continue\n",
    "    count += 1\n",
    "    \n",
    "    for v in li:\n",
    "        new_value = v * min_value\n",
    "        if new_value >= max_criteria:\n",
    "            continue\n",
    "        heappush(heap, new_value)\n",
    "            \n",
    "    st.add(min_value)"
   ]
  },
  {
   "cell_type": "markdown",
   "metadata": {},
   "source": [
    "### 편집 거리"
   ]
  },
  {
   "cell_type": "code",
   "execution_count": null,
   "metadata": {},
   "outputs": [],
   "source": [
    "틀렸을 수 있음, 반례 찾아보기"
   ]
  },
  {
   "cell_type": "raw",
   "metadata": {},
   "source": [
    "둘 중 긴 문자열의 길이 - lcs"
   ]
  },
  {
   "cell_type": "code",
   "execution_count": 38,
   "metadata": {},
   "outputs": [
    {
     "name": "stdout",
     "output_type": "stream",
     "text": [
      "sunday\n",
      "saturday\n",
      "3\n"
     ]
    }
   ],
   "source": [
    "a = input()\n",
    "b = input()\n",
    "\n",
    "a_len = len(a)\n",
    "b_len = len(b)\n",
    "dp = [[0] * (b_len + 1) for _ in range(a_len + 1)]\n",
    "\n",
    "for i in range(1, a_len + 1):\n",
    "    for j in range(1, b_len + 1):\n",
    "        if a[i - 1] == b[j - 1]:\n",
    "            dp[i][j] = dp[i - 1][j - 1] + 1\n",
    "        else:\n",
    "            dp[i][j] = max(dp[i - 1][j], dp[i][j - 1])\n",
    "            \n",
    "print(max(a_len, b_len) - dp[-1][-1])"
   ]
  },
  {
   "cell_type": "markdown",
   "metadata": {},
   "source": [
    "## 최단 경로"
   ]
  },
  {
   "cell_type": "markdown",
   "metadata": {},
   "source": [
    "### 플로이드"
   ]
  },
  {
   "cell_type": "code",
   "execution_count": null,
   "metadata": {},
   "outputs": [],
   "source": [
    "import sys\n",
    "# input = sys.stdin.readline\n",
    "\n",
    "n = int(input().rstrip())\n",
    "distances = [[float('inf')] * n for _ in range(n)]\n",
    "for _ in range(int(input().rstrip())):\n",
    "    a, b, c = map(int, input().rstrip().split())\n",
    "    a -= 1\n",
    "    b -= 1\n",
    "    distances[a][b] = min(distances[a][b], c)\n",
    "\n",
    "for i in range(n):\n",
    "    distances[i][i] = 0   \n",
    "    \n",
    "for mid in range(n):\n",
    "    for i in range(n):\n",
    "        for j in range(n):\n",
    "            if i == j:\n",
    "                continue\n",
    "            distances[i][j] = min(distances[i][j], distances[i][mid] + distances[mid][j])\n",
    "\n",
    "for i in range(n):\n",
    "    for j in range(n):\n",
    "        distances[i][j] = 0 if distances[i][j] == float('inf') else distances[i][j]\n",
    "            \n",
    "for v in distances:\n",
    "    print(*v)"
   ]
  },
  {
   "cell_type": "markdown",
   "metadata": {},
   "source": [
    "### 정확한 순위"
   ]
  },
  {
   "cell_type": "code",
   "execution_count": null,
   "metadata": {},
   "outputs": [],
   "source": [
    "# 기존 코드\n",
    "from collections import deque\n",
    "\n",
    "def solution(n, results):\n",
    "    total_count = 0\n",
    "\n",
    "    pre = [[] for _ in range(n)]\n",
    "    post = [[] for _ in range(n)]\n",
    "    for win, lose in results:\n",
    "        win -= 1\n",
    "        lose -= 1\n",
    "        pre[lose].append(win)\n",
    "        post[win].append(lose)\n",
    "\n",
    "    for start in range(n):\n",
    "        visited = [False] * n\n",
    "        visited[start] = True\n",
    "\n",
    "        queue = deque()\n",
    "        queue.append(start)\n",
    "        while queue:\n",
    "            value = queue.popleft()\n",
    "            for v in pre[value]:\n",
    "                if not visited[v]:\n",
    "                    visited[v] = True\n",
    "                    queue.append(v)\n",
    "\n",
    "        queue = deque()\n",
    "        queue.append(start)\n",
    "        while queue:\n",
    "            value = queue.popleft()\n",
    "            for v in post[value]:\n",
    "                if not visited[v]:\n",
    "                    visited[v] = True\n",
    "                    queue.append(v)       \n",
    "\n",
    "        if all(visited):\n",
    "            total_count += 1\n",
    "\n",
    "    return total_count"
   ]
  },
  {
   "cell_type": "code",
   "execution_count": 1,
   "metadata": {},
   "outputs": [
    {
     "name": "stdout",
     "output_type": "stream",
     "text": [
      "6 6\n",
      "1 5\n",
      "3 4\n",
      "4 6\n",
      "5 2\n",
      "5 4\n",
      "4 2\n",
      "1\n"
     ]
    }
   ],
   "source": [
    "from collections import deque\n",
    "\n",
    "n, m = map(int, input().split())\n",
    "results = [list(map(int, input().split())) for _ in range(m)]\n",
    "\n",
    "posts = [[] for _ in range(n)]\n",
    "pres = [[] for _ in range(n)]\n",
    "for a, b in results:\n",
    "    a -= 1\n",
    "    b -= 1\n",
    "    posts[a].append(b)\n",
    "    pres[b].append(a)\n",
    "\n",
    "decided_counts = [0] * n\n",
    "for i in range(n):\n",
    "    queue = deque()\n",
    "    queue.append(i)\n",
    "    visited = [False] * n\n",
    "    while queue:\n",
    "        value = queue.popleft()\n",
    "        for pr in pres[value]:\n",
    "            if not visited[pr]:\n",
    "                visited[pr] = True\n",
    "                queue.append(pr)\n",
    "    decided_counts[i] += sum(visited)        \n",
    "\n",
    "    queue = deque()\n",
    "    queue.append(i)\n",
    "    visited = [False] * n\n",
    "    while queue:\n",
    "        value = queue.popleft()\n",
    "        for po in posts[value]:\n",
    "            if not visited[po]:\n",
    "                visited[po] = True\n",
    "                queue.append(po)\n",
    "    decided_counts[i] += sum(visited)\n",
    "\n",
    "print(len([v for v in decided_counts if v == n - 1]))"
   ]
  }
 ],
 "metadata": {
  "kernelspec": {
   "display_name": "Python 3",
   "language": "python",
   "name": "python3"
  },
  "language_info": {
   "codemirror_mode": {
    "name": "ipython",
    "version": 3
   },
   "file_extension": ".py",
   "mimetype": "text/x-python",
   "name": "python",
   "nbconvert_exporter": "python",
   "pygments_lexer": "ipython3",
   "version": "3.7.3"
  }
 },
 "nbformat": 4,
 "nbformat_minor": 4
}
