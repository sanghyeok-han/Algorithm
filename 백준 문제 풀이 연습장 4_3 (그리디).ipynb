{
 "cells": [
  {
   "cell_type": "markdown",
   "metadata": {},
   "source": [
    "### 라면 사기 (Large) 18186"
   ]
  },
  {
   "cell_type": "code",
   "execution_count": null,
   "metadata": {},
   "outputs": [],
   "source": [
    "4 3 2\n",
    "\n",
    "1 3 2 2\n",
    "\n",
    "앞쪽부터\n",
    "BCC\n",
    "BC\n",
    "B\n",
    "\n",
    "보단\n",
    "\n",
    "뒤쪽부터\n",
    "BCC\n",
    " BC\n",
    "  B\n",
    "\n",
    "가 우위\n",
    "\n",
    "비슷한 케이스: \n",
    "1 3 2 4\n",
    "    \n",
    "반대 케이스:\n",
    "2 2 3 1\n",
    "\n",
    "양쪽 결합 코드도 통과 못함"
   ]
  },
  {
   "cell_type": "code",
   "execution_count": 19,
   "metadata": {},
   "outputs": [
    {
     "name": "stdout",
     "output_type": "stream",
     "text": [
      "4 3 2\n",
      "2 2 3 1\n",
      "19 3 5\n"
     ]
    }
   ],
   "source": [
    "n, b, c = map(int, input().split())\n",
    "li = list(map(int, input().split()))\n",
    "\n",
    "if b <= c:\n",
    "    print(sum(li) * b)\n",
    "else:\n",
    "    b_count = 0\n",
    "    c_count = 0\n",
    "    for i in range(n):\n",
    "        if i + 2 < n:\n",
    "            value = min(li[i], li[i + 1], li[i + 2])\n",
    "            b_count += value\n",
    "            c_count += value * 2\n",
    "            li[i] -= value\n",
    "            li[i + 1] -= value\n",
    "            li[i + 2] -= value\n",
    "        \n",
    "        if i + 1 < n:\n",
    "            value = min(li[i], li[i + 1])\n",
    "            b_count += value\n",
    "            c_count += value\n",
    "            li[i] -= value\n",
    "            li[i + 1] -= value\n",
    "        \n",
    "        b_count += li[i]\n",
    "        li[i] = 0\n",
    "        \n",
    "    spent = b * b_count + c * c_count\n",
    "    print(spent, b_count, c_count)"
   ]
  },
  {
   "cell_type": "code",
   "execution_count": 20,
   "metadata": {
    "scrolled": false
   },
   "outputs": [
    {
     "name": "stdout",
     "output_type": "stream",
     "text": [
      "4 3 2\n",
      "2 2 3 1\n",
      "20 4 4\n"
     ]
    }
   ],
   "source": [
    "n, b, c = map(int, input().split())\n",
    "li = list(map(int, input().split()))\n",
    "\n",
    "if b <= c:\n",
    "    print(sum(li) * b)\n",
    "else:\n",
    "    b_count = 0\n",
    "    c_count = 0\n",
    "    for i in range(n - 1, -1, -1):\n",
    "        if i - 2 >= 0:\n",
    "            value = min(li[i], li[i - 1], li[i - 2])\n",
    "            b_count += value\n",
    "            c_count += value * 2\n",
    "            li[i] -= value\n",
    "            li[i - 1] -= value\n",
    "            li[i - 2] -= value\n",
    "        \n",
    "        if i - 1 >= 0:\n",
    "            value = min(li[i], li[i - 1])\n",
    "            b_count += value\n",
    "            c_count += value\n",
    "            li[i] -= value\n",
    "            li[i - 1] -= value\n",
    "        \n",
    "        b_count += li[i]\n",
    "        li[i] = 0\n",
    "        \n",
    "    spent = b * b_count + c * c_count\n",
    "    print(spent, b_count, c_count)"
   ]
  },
  {
   "cell_type": "markdown",
   "metadata": {},
   "source": [
    "### 통나무 건너뛰기 11497"
   ]
  },
  {
   "cell_type": "code",
   "execution_count": 5,
   "metadata": {},
   "outputs": [
    {
     "name": "stdout",
     "output_type": "stream",
     "text": [
      "5\n",
      "6 6 6 6 6\n",
      "0\n"
     ]
    }
   ],
   "source": [
    "from collections import deque\n",
    "import sys\n",
    "input = lambda: sys.stdin.readline().rstrip()\n",
    "\n",
    "for _ in range(int(input())):\n",
    "    n = int(input())\n",
    "    li = sorted(map(int, input().split()))\n",
    "\n",
    "    deq = deque()\n",
    "    for i in range(n):\n",
    "        if i % 2 == 0:\n",
    "            deq.append(li[i])\n",
    "        else:\n",
    "            deq.appendleft(li[i])\n",
    "\n",
    "    max_diff = abs(deq[0] - deq[-1])\n",
    "    for i in range(n - 1):\n",
    "        max_diff = max(max_diff, abs(deq[i] - deq[i + 1]))\n",
    "\n",
    "    print(max_diff)"
   ]
  },
  {
   "cell_type": "markdown",
   "metadata": {},
   "source": [
    "### 삭삽 정렬 13884"
   ]
  },
  {
   "cell_type": "code",
   "execution_count": null,
   "metadata": {},
   "outputs": [],
   "source": [
    "차례대로 갈 수 있는 것 제외 전부 뒤로 가야함"
   ]
  },
  {
   "cell_type": "code",
   "execution_count": 10,
   "metadata": {},
   "outputs": [
    {
     "name": "stdout",
     "output_type": "stream",
     "text": [
      "1\n",
      "1 3\n",
      "1 3 2\n",
      "1 1\n"
     ]
    }
   ],
   "source": [
    "import sys\n",
    "input = lambda: sys.stdin.readline().rstrip()\n",
    "\n",
    "for _ in range(int(input())):\n",
    "    k, n = map(int, input().split())\n",
    "    li = []\n",
    "    for _ in range((n - 1) // 10 + 1):\n",
    "        li.extend(map(int, input().split()))\n",
    "\n",
    "    target = sorted(li)\n",
    "    ti = 0\n",
    "    for v in li:\n",
    "        if v == target[ti]:\n",
    "            ti += 1\n",
    "\n",
    "    print(k, n - ti)"
   ]
  },
  {
   "cell_type": "markdown",
   "metadata": {},
   "source": [
    "### 배 2853"
   ]
  },
  {
   "cell_type": "code",
   "execution_count": 17,
   "metadata": {},
   "outputs": [
    {
     "name": "stdout",
     "output_type": "stream",
     "text": [
      "3\n",
      "1\n",
      "500000000\n",
      "999999999\n",
      "1\n"
     ]
    }
   ],
   "source": [
    "import sys\n",
    "input = lambda: sys.stdin.readline().rstrip()\n",
    "\n",
    "n = int(input())\n",
    "get_value = lambda x: int(x) - 1\n",
    "li = [get_value(input()) for _ in range(n)]\n",
    "\n",
    "li.pop(0)\n",
    "st = set(li)\n",
    "c = 0\n",
    "for v in li:\n",
    "    if v in st:\n",
    "        c += 1\n",
    "        st.discard(v)\n",
    "    \n",
    "        to_delete = []\n",
    "        for w in st:\n",
    "            if w % v == 0:\n",
    "                to_delete.append(w)\n",
    "        for w in to_delete:\n",
    "            st.discard(w)\n",
    "            \n",
    "print(c)"
   ]
  },
  {
   "cell_type": "markdown",
   "metadata": {},
   "source": [
    "### 계단 21600"
   ]
  },
  {
   "cell_type": "code",
   "execution_count": 19,
   "metadata": {},
   "outputs": [
    {
     "name": "stdout",
     "output_type": "stream",
     "text": [
      "13\n",
      "3 1 4 1 5 9 2 6 5 3 5 8 9\n",
      "6\n"
     ]
    }
   ],
   "source": [
    "n = int(input())\n",
    "li = list(map(int, input().split()))\n",
    "\n",
    "cur = 0\n",
    "max_l = 0\n",
    "for v in li:\n",
    "    if cur < v:\n",
    "        cur += 1\n",
    "        max_l = max(max_l, cur)\n",
    "    else:\n",
    "        cur = v\n",
    "        \n",
    "print(max_l)"
   ]
  },
  {
   "cell_type": "markdown",
   "metadata": {},
   "source": [
    "### 저울 추 만들기 2205"
   ]
  },
  {
   "cell_type": "code",
   "execution_count": 33,
   "metadata": {},
   "outputs": [
    {
     "name": "stdout",
     "output_type": "stream",
     "text": [
      "3\n",
      "3\n",
      "2\n",
      "1\n"
     ]
    }
   ],
   "source": [
    "n = int(input())\n",
    "\n",
    "check = 1\n",
    "value = n * 2\n",
    "while True:\n",
    "    if check >= value:\n",
    "        break\n",
    "    check *= 2\n",
    "\n",
    "result = []\n",
    "st = set(range(1, n + 1))\n",
    "for num in range(n, 0, -1):\n",
    "    while True:\n",
    "        value = check - num\n",
    "        if value in st:\n",
    "            st.discard(value)\n",
    "            result.append(value)\n",
    "            break\n",
    "        else:\n",
    "            check //= 2\n",
    "            \n",
    "print('\\n'.join(map(str, reversed(result))))"
   ]
  },
  {
   "cell_type": "markdown",
   "metadata": {},
   "source": [
    "### 이동하기 5 20035"
   ]
  },
  {
   "cell_type": "code",
   "execution_count": 43,
   "metadata": {},
   "outputs": [
    {
     "name": "stdout",
     "output_type": "stream",
     "text": [
      "55000000068\n"
     ]
    }
   ],
   "source": [
    "n, m = map(int, input().split())\n",
    "a = list(map(int, input().split()))\n",
    "b = list(map(int, input().split()))\n",
    "\n",
    "if m == 1:\n",
    "    print(sum(a) * int(1e9) + b[0] * n)\n",
    "else:\n",
    "    total = 0\n",
    "    \n",
    "    max_a = -1\n",
    "    max_a_indices = []\n",
    "    for i in range(n):\n",
    "        if a[i] == max_a:\n",
    "            max_a_indices.append(i)\n",
    "        elif a[i] > max_a:\n",
    "            max_a = a[i]\n",
    "            max_a_indices = [i]\n",
    "    \n",
    "    sum_a = sum(a)\n",
    "    temp = sum_a + max_a * (m - 1)\n",
    "    total += temp * int(1e9)\n",
    "    \n",
    "    if len(max_a_indices) == 1:\n",
    "        sum_b = sum(b)\n",
    "        total += sum_b\n",
    "        total += b[0] * max_a_indices[0] + b[-1] * (n - 1 - max_a_indices[0])\n",
    "    else:\n",
    "        sum_b = sum(b)\n",
    "        total += sum_b\n",
    "        max_b = max(b)\n",
    "        total += b[0] * max_a_indices[0] + b[-1] * (n - 1 - max_a_indices[-1])\n",
    "        total += max_b * (max_a_indices[-1] - max_a_indices[0])\n",
    "        \n",
    "    print(total)"
   ]
  },
  {
   "cell_type": "markdown",
   "metadata": {},
   "source": [
    "### Gazzzua 17939"
   ]
  },
  {
   "cell_type": "code",
   "execution_count": 49,
   "metadata": {},
   "outputs": [
    {
     "name": "stdout",
     "output_type": "stream",
     "text": [
      "6\n",
      "1 5 10 2 4 3\n",
      "16\n"
     ]
    }
   ],
   "source": [
    "n = int(input())\n",
    "li = list(map(int, input().split()))\n",
    "\n",
    "fmax = [0] * n # future max\n",
    "cur_max = 0\n",
    "for i in range(n - 1, -1, -1):\n",
    "    cur_max = max(cur_max, li[i])\n",
    "    fmax[i] = cur_max\n",
    "\n",
    "needed = 0\n",
    "coin = 0\n",
    "profit = 0\n",
    "for i in range(n):\n",
    "    if li[i] == fmax[i]:\n",
    "        profit += coin * li[i]\n",
    "        coin = 0\n",
    "    else:\n",
    "        needed += li[i]\n",
    "        coin += 1\n",
    "        \n",
    "print(profit - needed)"
   ]
  },
  {
   "cell_type": "markdown",
   "metadata": {},
   "source": [
    "### 도어맨 5002"
   ]
  },
  {
   "cell_type": "code",
   "execution_count": 59,
   "metadata": {},
   "outputs": [
    {
     "name": "stdout",
     "output_type": "stream",
     "text": [
      "1\n",
      "MWWMWMMWM\n",
      "9\n"
     ]
    }
   ],
   "source": [
    "from collections import deque\n",
    "\n",
    "max_diff = int(input())\n",
    "s = input()\n",
    "\n",
    "deq = deque()\n",
    "for v in s:\n",
    "    if v == 'M':\n",
    "        deq.append(0)\n",
    "    else:\n",
    "        deq.append(1)\n",
    "\n",
    "c = [0, 0]\n",
    "temp = -1\n",
    "while deq:\n",
    "    v = deq.popleft()\n",
    "    if temp == -1:\n",
    "        temp = v\n",
    "    else:\n",
    "        if c[v] >= c[v ^ 1]:\n",
    "            c[temp] += 1\n",
    "            temp = v\n",
    "            if abs(c[1] - c[0]) > max_diff:\n",
    "                c[temp] -= 1\n",
    "                break\n",
    "        else:\n",
    "            c[v] += 1\n",
    "else:\n",
    "    if abs(c[temp] + 1 - c[temp ^ 1]) <= max_diff:\n",
    "        c[temp] += 1\n",
    "            \n",
    "print(c[0] + c[1])"
   ]
  },
  {
   "cell_type": "markdown",
   "metadata": {},
   "source": [
    "### ONE 3264"
   ]
  },
  {
   "cell_type": "code",
   "execution_count": 72,
   "metadata": {},
   "outputs": [
    {
     "name": "stdout",
     "output_type": "stream",
     "text": [
      "5 2\n",
      "1 2 1\n",
      "2 3 2\n",
      "3 4 2\n",
      "4 5 1\n",
      "7\n"
     ]
    }
   ],
   "source": [
    "import sys\n",
    "# input = lambda: sys.stdin.readline().rstrip()\n",
    "\n",
    "n, s = map(int, input().split())\n",
    "li = [[] for _ in range(n + 1)]\n",
    "\n",
    "tc = 0 # total c\n",
    "for _ in range(n - 1):\n",
    "    a, b, c = map(int, input().split())\n",
    "    li[a].append((b, c))\n",
    "    li[b].append((a, c))\n",
    "    tc += c\n",
    "    \n",
    "vt = [False] * (n + 1)\n",
    "vt[s] = True\n",
    "\n",
    "def dfs(value, cost):\n",
    "    temp = []\n",
    "    for v, c in li[value]:\n",
    "        if vt[v]:\n",
    "            continue\n",
    "        vt[v] = True\n",
    "        temp.append(dfs(v, c))\n",
    "        \n",
    "    if not temp:\n",
    "        return cost\n",
    "    elif len(temp) == 1:\n",
    "        return cost + temp[0]\n",
    "    else:\n",
    "        return cost + max(temp)\n",
    "        \n",
    "print(tc * 2 - dfs(s, 0))"
   ]
  },
  {
   "cell_type": "markdown",
   "metadata": {},
   "source": [
    "### Vaccination Against Corona 20682"
   ]
  },
  {
   "cell_type": "code",
   "execution_count": 74,
   "metadata": {},
   "outputs": [
    {
     "name": "stdout",
     "output_type": "stream",
     "text": [
      "5 4\n",
      "1 2 4 6 8\n",
      "3\n"
     ]
    }
   ],
   "source": [
    "n, l = map(int, input().split())\n",
    "li = sorted(map(int, input().split()))\n",
    "\n",
    "count = 0\n",
    "lu = -float('inf') # last unvaccinated\n",
    "for v in li:\n",
    "    if v - lu >= l:\n",
    "        lu = v\n",
    "    else:\n",
    "        count += 1\n",
    "        \n",
    "print(count)"
   ]
  },
  {
   "cell_type": "markdown",
   "metadata": {},
   "source": [
    "### 방탈출 15729"
   ]
  },
  {
   "cell_type": "code",
   "execution_count": 1,
   "metadata": {},
   "outputs": [
    {
     "name": "stdout",
     "output_type": "stream",
     "text": [
      "7\n",
      "0 0 1 0 0 1 0\n",
      "2\n"
     ]
    }
   ],
   "source": [
    "n = int(input())\n",
    "li = list(map(int, input().split()))\n",
    "\n",
    "count = 0\n",
    "for i in range(n):\n",
    "    if li[i]:\n",
    "        count += 1\n",
    "        if i + 1 < n:\n",
    "            li[i + 1] ^= 1\n",
    "        if i + 2 < n:\n",
    "            li[i + 2] ^= 1\n",
    "            \n",
    "print(count)"
   ]
  },
  {
   "cell_type": "markdown",
   "metadata": {},
   "source": [
    "### 롤케이크 16206"
   ]
  },
  {
   "cell_type": "code",
   "execution_count": null,
   "metadata": {},
   "outputs": [],
   "source": [
    "10인건 그대로 두고 길이가 10의 배수이면서 가장 작은 것부터 자름"
   ]
  },
  {
   "cell_type": "code",
   "execution_count": 9,
   "metadata": {},
   "outputs": [
    {
     "name": "stdout",
     "output_type": "stream",
     "text": [
      "5 8\n",
      "34 45 56 12 23\n",
      "8\n"
     ]
    }
   ],
   "source": [
    "n, m = map(int, input().split())\n",
    "li = list(map(int, input().split()))\n",
    "\n",
    "li = [v for v in li if v >= 10]\n",
    "\n",
    "li_end_with_0 = [v for v in li if v % 10 == 0]\n",
    "li_else = [v for v in li if v % 10 != 0]\n",
    "\n",
    "li_end_with_0.sort(reverse=True)\n",
    "\n",
    "count = 0\n",
    "while li_end_with_0 and m:\n",
    "    value = li_end_with_0.pop()\n",
    "    if value == 10:\n",
    "        count += 1\n",
    "    else:\n",
    "        m -= 1\n",
    "        if value == 20:\n",
    "            count += 2\n",
    "        else:\n",
    "            count += 1\n",
    "            li_end_with_0.append(value - 10)\n",
    "        \n",
    "while li_else and m:\n",
    "    value = li_else.pop()\n",
    "    if value < 10:\n",
    "        continue\n",
    "    m -= 1\n",
    "    count += 1\n",
    "    li_else.append(value - 10)\n",
    "    \n",
    "print(count)"
   ]
  },
  {
   "cell_type": "markdown",
   "metadata": {},
   "source": [
    "### 김인천씨의 식료품가게 (Large) 12034"
   ]
  },
  {
   "cell_type": "code",
   "execution_count": 2,
   "metadata": {},
   "outputs": [
    {
     "data": {
      "text/plain": [
       "75"
      ]
     },
     "execution_count": 2,
     "metadata": {},
     "output_type": "execute_result"
    }
   ],
   "source": [
    "int(100 * 3/4)"
   ]
  },
  {
   "cell_type": "code",
   "execution_count": 5,
   "metadata": {},
   "outputs": [
    {
     "name": "stdout",
     "output_type": "stream",
     "text": [
      "1\n",
      "3\n",
      "15 20 60 75 80 100\n",
      "Case #1: 15 60 75\n"
     ]
    }
   ],
   "source": [
    "get_discounted = lambda x: int(x * 3/4)\n",
    "\n",
    "for t in range(int(input())):\n",
    "    n = int(input())\n",
    "    li = list(map(int, input().split()))\n",
    "\n",
    "    result = []\n",
    "    while li:\n",
    "        original = li.pop()\n",
    "        discounted = get_discounted(original)\n",
    "        result.append(discounted)\n",
    "        to_delete = li.index(discounted)\n",
    "        del li[to_delete]\n",
    "\n",
    "    print(f\"Case #{t + 1}: {' '.join(map(str, sorted(result)))}\")"
   ]
  },
  {
   "cell_type": "markdown",
   "metadata": {},
   "source": [
    "### 패스트 푸드 상금 9329"
   ]
  },
  {
   "cell_type": "code",
   "execution_count": 8,
   "metadata": {},
   "outputs": [
    {
     "name": "stdout",
     "output_type": "stream",
     "text": [
      "3 6\n",
      "2 1 2 100\n",
      "3 3 4 5 200\n",
      "1 6 300\n",
      "1 2 0 4 5 6\n",
      "1900\n"
     ]
    }
   ],
   "source": [
    "import sys\n",
    "input = lambda: sys.stdin.readline().rstrip()\n",
    "\n",
    "for _ in range(int(input())):\n",
    "    n, m = map(int, input().split())\n",
    "    li = [list(map(int, input().split())) for _ in range(n)]\n",
    "    items = [0] + list(map(int, input().split()))\n",
    "\n",
    "    total = 0\n",
    "    for v in li:\n",
    "        sts = v[1:v[0] + 1]\n",
    "        min_count = float('inf')\n",
    "        for w in sts:\n",
    "            min_count = min(min_count, items[w])\n",
    "\n",
    "        total += min_count * v[-1]\n",
    "\n",
    "    print(total)"
   ]
  },
  {
   "cell_type": "markdown",
   "metadata": {},
   "source": [
    "### 5학년은 다니기 싫어요 23028"
   ]
  },
  {
   "cell_type": "code",
   "execution_count": 10,
   "metadata": {
    "scrolled": true
   },
   "outputs": [
    {
     "name": "stdout",
     "output_type": "stream",
     "text": [
      "6 46 120\n",
      "3 3\n",
      "3 5\n",
      "6 2\n",
      "2 2\n",
      "3 1\n",
      "2 3\n",
      "1 6\n",
      "5 2\n",
      "2 3\n",
      "3 2\n",
      "Nice\n"
     ]
    }
   ],
   "source": [
    "n, a, b = map(int, input().split())\n",
    "li = [list(map(int, input().split())) for _ in range(10)]\n",
    "\n",
    "for i in range(8 - n):\n",
    "    x, y = li[i]\n",
    "    \n",
    "    total = 6\n",
    "    nx = min(6, x)\n",
    "    total -= nx\n",
    "    a += nx * 3\n",
    "    b += nx * 3\n",
    "    \n",
    "    ny = min(total, y)\n",
    "    b += ny * 3\n",
    "    \n",
    "if a >= 66 and b >= 130:\n",
    "    print('Nice')\n",
    "else:\n",
    "    print('Nae ga wae')"
   ]
  },
  {
   "cell_type": "markdown",
   "metadata": {},
   "source": [
    "### 불꽃놀이 21557"
   ]
  },
  {
   "cell_type": "code",
   "execution_count": 16,
   "metadata": {},
   "outputs": [
    {
     "name": "stdout",
     "output_type": "stream",
     "text": [
      "3\n",
      "7 7 3\n",
      "6\n"
     ]
    }
   ],
   "source": [
    "n = int(input())\n",
    "li = list(map(int, input().split()))\n",
    "\n",
    "start = 1\n",
    "end = n - 2\n",
    "while start <= end:\n",
    "    if start == end:\n",
    "        li[0] -= 1\n",
    "        li[-1] -= 1\n",
    "        break\n",
    "    \n",
    "    if li[0] < li[-1]:\n",
    "        li[-1] -= 1\n",
    "        end -= 1\n",
    "    else:\n",
    "        li[0] -= 1\n",
    "        start += 1\n",
    "\n",
    "print(max(li[0], li[-1]))"
   ]
  },
  {
   "cell_type": "markdown",
   "metadata": {},
   "source": [
    "### 떡국 20937"
   ]
  },
  {
   "cell_type": "code",
   "execution_count": 34,
   "metadata": {},
   "outputs": [
    {
     "name": "stdout",
     "output_type": "stream",
     "text": [
      "10\n",
      "1 2 3 4 5 1 2 3 4 5\n",
      "2\n"
     ]
    }
   ],
   "source": [
    "from collections import Counter\n",
    "\n",
    "n = int(input())\n",
    "c = Counter(map(int, input().split()))\n",
    "\n",
    "li = c.values()\n",
    "\n",
    "print(max(li))"
   ]
  },
  {
   "cell_type": "markdown",
   "metadata": {},
   "source": [
    "### 가희와 3단 고음 16162"
   ]
  },
  {
   "cell_type": "code",
   "execution_count": 37,
   "metadata": {},
   "outputs": [
    {
     "name": "stdout",
     "output_type": "stream",
     "text": [
      "3 1 2\n",
      "1 3 5\n",
      "3\n"
     ]
    }
   ],
   "source": [
    "n, a, d = map(int, input().split())\n",
    "li = list(map(int, input().split()))\n",
    "\n",
    "cur_check = a\n",
    "count = 0\n",
    "for v in li:\n",
    "    if v == cur_check:\n",
    "        count += 1\n",
    "        cur_check += d\n",
    "        \n",
    "print(count)"
   ]
  },
  {
   "cell_type": "markdown",
   "metadata": {},
   "source": [
    "### 라디오 3135"
   ]
  },
  {
   "cell_type": "code",
   "execution_count": 39,
   "metadata": {},
   "outputs": [
    {
     "name": "stdout",
     "output_type": "stream",
     "text": [
      "88 17\n",
      "3\n",
      "18\n",
      "1\n",
      "42\n"
     ]
    }
   ],
   "source": [
    "a, b = map(int, input().split())\n",
    "n = int(input())\n",
    "li = [int(input()) for _ in range(n)]\n"
   ]
  },
  {
   "cell_type": "code",
   "execution_count": 43,
   "metadata": {},
   "outputs": [
    {
     "name": "stdout",
     "output_type": "stream",
     "text": [
      "64 120\n",
      "1\n",
      "567\n",
      "56\n"
     ]
    }
   ],
   "source": [
    "def get_count(cur, target):\n",
    "    return abs(target - cur)\n",
    "\n",
    "a, b = map(int, input().split())\n",
    "n = int(input())\n",
    "li = [int(input()) for _ in range(n)]\n",
    "\n",
    "min_c = abs(a - b)\n",
    "for v in li:\n",
    "    min_c = min(min_c, get_count(v, b) + 1)\n",
    "    \n",
    "print(min_c)"
   ]
  },
  {
   "cell_type": "markdown",
   "metadata": {},
   "source": [
    "### 선물 5911"
   ]
  },
  {
   "cell_type": "code",
   "execution_count": 1,
   "metadata": {},
   "outputs": [
    {
     "name": "stdout",
     "output_type": "stream",
     "text": [
      "5 24\n",
      "4 2\n",
      "2 0\n",
      "8 1\n",
      "6 3\n",
      "12 5\n"
     ]
    }
   ],
   "source": [
    "n, b = map(int, input().split())\n",
    "\n",
    "li = [list(map(int, input().split())) for _ in range(n)]\n",
    "\n",
    "li.sort(key=lambda x: sum(x))\n"
   ]
  },
  {
   "cell_type": "code",
   "execution_count": 14,
   "metadata": {},
   "outputs": [
    {
     "name": "stdout",
     "output_type": "stream",
     "text": [
      "5 24\n",
      "4 2\n",
      "2 0\n",
      "8 1\n",
      "6 3\n",
      "12 5\n",
      "4\n"
     ]
    }
   ],
   "source": [
    "import sys\n",
    "input = lambda: sys.stdin.readline().rstrip()\n",
    "\n",
    "n, b = map(int, input().split())\n",
    "li = [list(map(int, input().split())) for _ in range(n)]\n",
    "\n",
    "li.sort(key=lambda x: sum(x))\n",
    "\n",
    "count = 0\n",
    "for i in range(n):\n",
    "    sv = sum(li[i])\n",
    "    if sv <= b:\n",
    "        count += 1\n",
    "        b -= sv\n",
    "    else:\n",
    "        i -= 1\n",
    "        break\n",
    "        \n",
    "end_index = i\n",
    "for i in range(end_index + 1, n):\n",
    "    sv = li[i][0] // 2 + li[i][1]\n",
    "    \n",
    "    if sv <= b:\n",
    "        count += 1\n",
    "        break\n",
    "else:\n",
    "    if end_index <= n - 1: \n",
    "        md = 0 # max discounted\n",
    "        for i in range(end_index + 1):\n",
    "            d = li[i][0] - li[i][0] // 2 # discounted\n",
    "            md = max(md, d)\n",
    "\n",
    "        b += md\n",
    "        if sum(li[end_index + 1]) <= b:\n",
    "            count += 1\n",
    "            \n",
    "print(count)"
   ]
  }
 ],
 "metadata": {
  "kernelspec": {
   "display_name": "Python 3",
   "language": "python",
   "name": "python3"
  },
  "language_info": {
   "codemirror_mode": {
    "name": "ipython",
    "version": 3
   },
   "file_extension": ".py",
   "mimetype": "text/x-python",
   "name": "python",
   "nbconvert_exporter": "python",
   "pygments_lexer": "ipython3",
   "version": "3.7.3"
  }
 },
 "nbformat": 4,
 "nbformat_minor": 4
}
