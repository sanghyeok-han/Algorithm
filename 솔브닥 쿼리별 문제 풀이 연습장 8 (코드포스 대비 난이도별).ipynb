{
 "cells": [
  {
   "cell_type": "code",
   "execution_count": null,
   "metadata": {},
   "outputs": [],
   "source": [
    "tier:g5.. (tag:binary_search|tag:parametric_search) - solved_by:hsh8086 - tag:lis"
   ]
  },
  {
   "cell_type": "code",
   "execution_count": null,
   "metadata": {},
   "outputs": [],
   "source": [
    "tag:number_theory tier:g4.. - tag:euler_phi - tag:graphs - tag:priority_queue - solved_by:hsh8086"
   ]
  },
  {
   "cell_type": "markdown",
   "metadata": {},
   "source": [
    "### 문자열 잘라내기 2866"
   ]
  },
  {
   "cell_type": "code",
   "execution_count": 26,
   "metadata": {},
   "outputs": [
    {
     "name": "stdout",
     "output_type": "stream",
     "text": [
      "2 6\n",
      "dobarz\n",
      "adatak\n",
      "0\n"
     ]
    }
   ],
   "source": [
    "import sys\n",
    "input = lambda: sys.stdin.readline().rstrip()\n",
    "\n",
    "r, c = map(int, input().split())\n",
    "li = [input() for _ in range(r)]\n",
    "\n",
    "curs = ['' for _ in range(c)]\n",
    "result = r\n",
    "for i in range(r - 1, -1, -1):\n",
    "    for j in range(c):\n",
    "        curs[j] += li[i][j]\n",
    "        \n",
    "    if len(set(curs)) < c:\n",
    "        result = i\n",
    "        \n",
    "print(result - 1)"
   ]
  },
  {
   "cell_type": "markdown",
   "metadata": {},
   "source": [
    "### 팩토리얼 0의 개수"
   ]
  },
  {
   "cell_type": "code",
   "execution_count": null,
   "metadata": {},
   "outputs": [],
   "source": [
    "n = int(input())"
   ]
  },
  {
   "cell_type": "code",
   "execution_count": 33,
   "metadata": {},
   "outputs": [
    {
     "data": {
      "text/plain": [
       "3628800"
      ]
     },
     "execution_count": 33,
     "metadata": {},
     "output_type": "execute_result"
    }
   ],
   "source": [
    "n = 1*2*3*4*5*6*7*8*9*10\n",
    "n = 10"
   ]
  },
  {
   "cell_type": "code",
   "execution_count": 30,
   "metadata": {},
   "outputs": [
    {
     "name": "stdout",
     "output_type": "stream",
     "text": [
      "7\n",
      "30\n"
     ]
    }
   ],
   "source": [
    "m = int(input())\n",
    "\n",
    "def get_five_counts(num):\n",
    "    cur = 5\n",
    "    c = 0\n",
    "    while cur <= num:\n",
    "        c += num // cur\n",
    "        cur *= 5\n",
    "        \n",
    "    return c\n",
    "\n",
    "start = 5\n",
    "end = 400000015\n",
    "r = -1\n",
    "while start <= end:\n",
    "    mid = (start + end) // 2\n",
    "    \n",
    "    v = get_five_counts(mid)\n",
    "    \n",
    "    if v < m:\n",
    "        start = mid + 1\n",
    "    elif v > m:\n",
    "        end = mid - 1\n",
    "    else:\n",
    "        r = mid\n",
    "        end = mid - 1\n",
    "        \n",
    "print(r)"
   ]
  },
  {
   "cell_type": "markdown",
   "metadata": {},
   "source": [
    "### 급상승 23978"
   ]
  },
  {
   "cell_type": "code",
   "execution_count": 45,
   "metadata": {},
   "outputs": [
    {
     "name": "stdout",
     "output_type": "stream",
     "text": [
      "3 10\n",
      "1 2 4\n",
      "3\n"
     ]
    }
   ],
   "source": [
    "def get_sum(num):\n",
    "    return num * (num + 1) // 2\n",
    "\n",
    "n, k = map(int, input().split())\n",
    "li = list(map(int, input().split()))\n",
    "\n",
    "start = 0\n",
    "end = int(1e18)\n",
    "result = float('inf')\n",
    "while start <= end:\n",
    "    mid = (start + end) // 2\n",
    "    mrs = get_sum(mid) # max range sum\n",
    "\n",
    "    total = mrs # 마지막 구간\n",
    "    for i in range(n - 1):\n",
    "        diff = li[i + 1] - li[i]\n",
    "        total += mrs - get_sum(max(0, mid - diff))\n",
    "\n",
    "    if total >= k:\n",
    "        result = mid\n",
    "        end = mid - 1\n",
    "    else:\n",
    "        start = mid + 1\n",
    "\n",
    "print(result)"
   ]
  },
  {
   "cell_type": "markdown",
   "metadata": {},
   "source": [
    "### 색종이와 가위 20444"
   ]
  },
  {
   "cell_type": "code",
   "execution_count": null,
   "metadata": {},
   "outputs": [],
   "source": [
    "2 2 큰\n",
    "3 1\n",
    "4 0 작\n",
    "\n",
    "3 2 큰\n",
    "4 1\n",
    "5 0 작"
   ]
  },
  {
   "cell_type": "code",
   "execution_count": 3,
   "metadata": {},
   "outputs": [
    {
     "name": "stdout",
     "output_type": "stream",
     "text": [
      "4 6\n",
      "NO\n"
     ]
    }
   ],
   "source": [
    "n, k = map(int, input().split())\n",
    "\n",
    "start = (n + 1) // 2\n",
    "end = n\n",
    "result = 'NO'\n",
    "while start <= end:\n",
    "    rcc = (start + end) // 2 # row cut count\n",
    "    \n",
    "    ccc = n - rcc # cul cut count\n",
    "    v = (rcc + 1) * (ccc + 1)\n",
    "    \n",
    "    if v < k:\n",
    "        end = rcc - 1\n",
    "    elif v > k:\n",
    "        start = rcc + 1\n",
    "    else:\n",
    "        result = 'YES'\n",
    "        break\n",
    "        \n",
    "print(result)"
   ]
  },
  {
   "cell_type": "markdown",
   "metadata": {},
   "source": [
    "### 좋다 1253"
   ]
  },
  {
   "cell_type": "code",
   "execution_count": 20,
   "metadata": {},
   "outputs": [
    {
     "name": "stdout",
     "output_type": "stream",
     "text": [
      "3\n",
      "-1 0 1\n",
      "1\n"
     ]
    }
   ],
   "source": [
    "from bisect import bisect_left\n",
    "\n",
    "n = int(input())\n",
    "li = sorted(map(int, input().split()))\n",
    "\n",
    "count = 0\n",
    "for i in range(n):\n",
    "    ip = False\n",
    "    for ai in range(n):\n",
    "        if ai == i:\n",
    "            continue\n",
    "            \n",
    "        to_search = li[i] - li[ai]\n",
    "        \n",
    "        bi = bisect_left(li, to_search)\n",
    "        if bi == n or li[bi] != to_search:\n",
    "            continue\n",
    "        else:\n",
    "            if bi != i and bi != ai:\n",
    "                ip = True\n",
    "                break\n",
    "            \n",
    "            for nbi in range(bi - 2, bi + 3):\n",
    "                if nbi == i or nbi == ai:\n",
    "                    continue\n",
    "                if nbi < 0 or nbi >= n:\n",
    "                    continue\n",
    "                if li[nbi] == to_search:\n",
    "                    ip = True\n",
    "                    break\n",
    "                    \n",
    "    if ip:\n",
    "        count += 1\n",
    "        \n",
    "print(count)"
   ]
  },
  {
   "cell_type": "code",
   "execution_count": 23,
   "metadata": {},
   "outputs": [
    {
     "name": "stdout",
     "output_type": "stream",
     "text": [
      "10\n",
      "1 1 1 1 1 1 1 1 1 1 \n",
      "0\n"
     ]
    }
   ],
   "source": [
    "n = int(input())\n",
    "li = sorted(map(int, input().split()))\n",
    "\n",
    "count = 0\n",
    "for i in range(n):\n",
    "    to_check = li[i]\n",
    "    \n",
    "    start = 0\n",
    "    end = n - 1\n",
    "    while start < end:\n",
    "        if start == i:\n",
    "            start += 1\n",
    "            continue\n",
    "        if end == i:\n",
    "            end -= 1\n",
    "            continue\n",
    "        \n",
    "        sv = li[start] + li[end]\n",
    "        if sv < to_check:\n",
    "            start += 1\n",
    "        elif sv > to_check:\n",
    "            end -= 1\n",
    "        else:\n",
    "            count += 1\n",
    "            break\n",
    "            \n",
    "print(count)"
   ]
  },
  {
   "cell_type": "markdown",
   "metadata": {},
   "source": [
    "### 세 수의 합 2295"
   ]
  },
  {
   "cell_type": "code",
   "execution_count": 7,
   "metadata": {},
   "outputs": [
    {
     "name": "stdout",
     "output_type": "stream",
     "text": [
      "5\n",
      "2\n",
      "3\n",
      "5\n",
      "10\n",
      "18\n",
      "18\n"
     ]
    }
   ],
   "source": [
    "from bisect import bisect_left\n",
    "import sys\n",
    "input = lambda: sys.stdin.readline().rstrip()\n",
    "\n",
    "n = int(input())\n",
    "li = [int(input()) for _ in range(n)]\n",
    "\n",
    "li.sort()\n",
    "ab_set = set()\n",
    "for v in li:\n",
    "    for w in li:\n",
    "        ab_set.add(v + w)\n",
    "ab = sorted(ab_set)\n",
    "\n",
    "for ti in range(n - 1, -1, -1):\n",
    "    target = li[ti]\n",
    "    \n",
    "    ip = False\n",
    "    for ci in range(ti, -1, -1):\n",
    "        c = li[ci]\n",
    "        \n",
    "        to_search = target - c\n",
    "        abi = bisect_left(ab, to_search)\n",
    "        \n",
    "        if abi == len(ab) or ab[abi] != to_search:\n",
    "            continue\n",
    "        ip = True\n",
    "        break\n",
    "        \n",
    "    if ip:\n",
    "        print(li[ti])\n",
    "        break"
   ]
  },
  {
   "cell_type": "markdown",
   "metadata": {},
   "source": [
    "### 합이 0 3151"
   ]
  },
  {
   "cell_type": "code",
   "execution_count": 33,
   "metadata": {},
   "outputs": [
    {
     "name": "stdout",
     "output_type": "stream",
     "text": [
      "10\n",
      "2 -5 2 3 -4 7 -4 0 1 -6\n",
      "6\n"
     ]
    }
   ],
   "source": [
    "from collections import Counter\n",
    "\n",
    "n = int(input())\n",
    "li = list(map(int, input().split()))\n",
    "\n",
    "c0 = 0\n",
    "minuses = []\n",
    "pluses = []\n",
    "\n",
    "for v in li:\n",
    "    if v < 0:\n",
    "        minuses.append(v)\n",
    "    elif v > 0:\n",
    "        pluses.append(v)\n",
    "    else:\n",
    "        c0 += 1\n",
    "\n",
    "cm = Counter(minuses)\n",
    "cp = Counter(pluses)\n",
    "\n",
    "total = 0\n",
    "\n",
    "ml = len(minuses)\n",
    "for i in range(ml):\n",
    "    for j in range(i + 1, ml):\n",
    "        m = minuses[i] + minuses[j]\n",
    "        if -m in cp:\n",
    "            total += cp[-m]\n",
    "        \n",
    "pl = len(pluses)\n",
    "for i in range(pl):\n",
    "    for j in range(i + 1, pl):\n",
    "        p = pluses[i] + pluses[j]\n",
    "        if -p in cm:\n",
    "            total += cm[-p]\n",
    "\n",
    "if c0 >= 3:\n",
    "    total += c0 * (c0 - 1) * (c0 - 2) // 6\n",
    "    \n",
    "if c0 >= 1:\n",
    "    for pk in cp.keys():\n",
    "        if -pk in cm:\n",
    "            total += cp[pk] * cm[-pk] * c0\n",
    "        \n",
    "print(total)"
   ]
  },
  {
   "cell_type": "code",
   "execution_count": 36,
   "metadata": {},
   "outputs": [
    {
     "name": "stdout",
     "output_type": "stream",
     "text": [
      "10\n",
      "2 -5 2 3 -4 7 -4 0 1 -6\n",
      "6\n"
     ]
    }
   ],
   "source": [
    "n = int(input())\n",
    "li = list(map(int, input().split()))\n",
    "\n",
    "dp = [0] * 40001\n",
    "total = 0\n",
    "for i in range(1, n):\n",
    "    total += dp[20000 - li[i]]\n",
    "    \n",
    "    for j in range(i):\n",
    "        dp[20000 + li[j] + li[i]] += 1\n",
    "        \n",
    "print(total)"
   ]
  },
  {
   "cell_type": "code",
   "execution_count": 44,
   "metadata": {},
   "outputs": [
    {
     "name": "stdout",
     "output_type": "stream",
     "text": [
      "10\n",
      "2 -5 2 3 -4 7 -4 0 1 -6\n",
      "6\n"
     ]
    }
   ],
   "source": [
    "n = int(input())\n",
    "li = sorted(map(int, input().split()))\n",
    "\n",
    "total = 0\n",
    "for ai in range(n - 2):\n",
    "    bi = ai + 1\n",
    "    ci = n - 1\n",
    "    target = -li[ai]\n",
    "    while ai < bi < ci < n:\n",
    "        sv = li[bi] + li[ci]\n",
    "        \n",
    "        if sv < target:\n",
    "            bi += 1\n",
    "        elif sv > target:\n",
    "            ci -= 1\n",
    "        else:\n",
    "            if li[bi] == li[ci]:\n",
    "                temp = ci - bi + 1\n",
    "                total += temp * (temp - 1) // 2\n",
    "                break\n",
    "            else:\n",
    "                cb = 1\n",
    "                cc = 1\n",
    "                while bi + 1 < n:\n",
    "                    if li[bi] == li[bi + 1]:\n",
    "                        cb += 1\n",
    "                        bi += 1\n",
    "                    else:\n",
    "                        break\n",
    "                \n",
    "                while ci - 1 >= 0:\n",
    "                    if li[ci] == li[ci - 1]:\n",
    "                        cc += 1\n",
    "                        ci -= 1\n",
    "                    else:\n",
    "                        break\n",
    "                        \n",
    "                total += cb * cc\n",
    "                bi += 1\n",
    "                ci -= 1\n",
    "                \n",
    "print(total)"
   ]
  },
  {
   "cell_type": "markdown",
   "metadata": {},
   "source": [
    "### 로봇 프로젝트 3649"
   ]
  },
  {
   "cell_type": "code",
   "execution_count": null,
   "metadata": {},
   "outputs": [],
   "source": [
    "import sys\n",
    "input = lambda: sys.stdin.readline().rstrip()\n",
    "\n",
    "while True:\n",
    "    try:\n",
    "        x = int(input())\n",
    "        x *= 10000000\n",
    "\n",
    "        n = int(input())\n",
    "        li = [int(input()) for _ in range(n)]\n",
    "\n",
    "        li.sort()\n",
    "        start = 0\n",
    "        end = n - 1\n",
    "        r = [-1, -1]\n",
    "        while start < end:\n",
    "            sv = li[start] + li[end]\n",
    "\n",
    "            if sv < x:\n",
    "                start += 1\n",
    "            elif sv > x:\n",
    "                end -= 1\n",
    "            else:\n",
    "                r = [li[start], li[end]]\n",
    "                break\n",
    "\n",
    "        if r[0] == -1:\n",
    "            print('danger')\n",
    "        else:\n",
    "            print(f'yes {r[0]} {r[1]}')    \n",
    "    except:\n",
    "        break"
   ]
  },
  {
   "cell_type": "markdown",
   "metadata": {},
   "source": [
    "### 휴게소 세우기 1477"
   ]
  },
  {
   "cell_type": "code",
   "execution_count": 50,
   "metadata": {},
   "outputs": [
    {
     "name": "stdout",
     "output_type": "stream",
     "text": [
      "3 1 1000\n",
      "300 701 800\n",
      "300\n"
     ]
    }
   ],
   "source": [
    "n, m, l = map(int, input().split())\n",
    "li = list(map(int, input().split()))\n",
    "\n",
    "is_on = [False] * l\n",
    "for v in li:\n",
    "    is_on[v] = True\n",
    "\n",
    "start = 1\n",
    "end = l\n",
    "result = float('inf')\n",
    "while start <= end:\n",
    "    mid = (start + end) // 2\n",
    "    \n",
    "    cur = 1\n",
    "    used = 0\n",
    "    for i in range(1, l):\n",
    "        if is_on[i]:\n",
    "            cur = 1\n",
    "            continue\n",
    "        if cur == mid:\n",
    "            used += 1\n",
    "            cur = 1\n",
    "        else:\n",
    "            cur += 1\n",
    "            \n",
    "    if used <= m:\n",
    "        result = mid\n",
    "        end = mid - 1\n",
    "    else:\n",
    "        start = mid + 1\n",
    "        \n",
    "print(result)"
   ]
  },
  {
   "cell_type": "markdown",
   "metadata": {},
   "source": [
    "### 사냥꾼 8983"
   ]
  },
  {
   "cell_type": "code",
   "execution_count": 63,
   "metadata": {},
   "outputs": [
    {
     "name": "stdout",
     "output_type": "stream",
     "text": [
      "1 5 3\n",
      "3\n",
      "2 2\n",
      "1 1\n",
      "5 1\n",
      "4 2\n",
      "3 3\n",
      "5\n"
     ]
    }
   ],
   "source": [
    "from bisect import bisect_left\n",
    "import sys\n",
    "input = lambda: sys.stdin.readline().rstrip()\n",
    "\n",
    "m, n, l = map(int, input().split())\n",
    "li = sorted(map(int, input().split()))\n",
    "animals = [list(map(int, input().split())) for _ in range(n)]\n",
    "\n",
    "def get_dist(ax, ay, x):\n",
    "    return abs(ax - x) + ay\n",
    "    \n",
    "count = 0\n",
    "for ax, ay in animals:\n",
    "    index = bisect_left(li, ax)\n",
    "    \n",
    "    cands = [index - 1, index]\n",
    "    \n",
    "    ip = False\n",
    "    for cand in cands:\n",
    "        if cand < 0 or cand >= m:\n",
    "            continue\n",
    "        d = get_dist(ax, ay, li[cand])\n",
    "        if d <= l:\n",
    "            ip = True\n",
    "            break\n",
    "    if ip:\n",
    "        count += 1\n",
    "        \n",
    "print(count)"
   ]
  },
  {
   "cell_type": "markdown",
   "metadata": {},
   "source": [
    "### 구간 나누기 2 13397"
   ]
  },
  {
   "cell_type": "code",
   "execution_count": 74,
   "metadata": {},
   "outputs": [
    {
     "name": "stdout",
     "output_type": "stream",
     "text": [
      "1 4\n",
      "4\n",
      "0\n"
     ]
    }
   ],
   "source": [
    "n, m = map(int, input().split())\n",
    "li = list(map(int, input().split()))\n",
    "\n",
    "start = 0\n",
    "end = 9999\n",
    "result = float('inf')\n",
    "while start <= end:\n",
    "    mid = (start + end) // 2\n",
    "    \n",
    "    cur_min = li[0]\n",
    "    cur_max = li[0]\n",
    "    needed = 1\n",
    "    for i in range(n):\n",
    "        cur_min = min(cur_min, li[i])\n",
    "        cur_max = max(cur_max, li[i])\n",
    "        \n",
    "        if cur_max - cur_min > mid:\n",
    "            needed += 1\n",
    "            cur_min = li[i]\n",
    "            cur_max = li[i]\n",
    "    \n",
    "    if needed <= m:\n",
    "        result = mid\n",
    "        end = mid - 1\n",
    "    else:\n",
    "        start = mid + 1\n",
    "        \n",
    "print(result)"
   ]
  },
  {
   "cell_type": "code",
   "execution_count": 77,
   "metadata": {},
   "outputs": [
    {
     "name": "stdout",
     "output_type": "stream",
     "text": [
      "4 2\n",
      "1 1 1 1\n",
      "0\n"
     ]
    }
   ],
   "source": [
    "n, m = map(int, input().split())\n",
    "li = list(map(int, input().split()))\n",
    "\n",
    "start = 0\n",
    "end = 9999\n",
    "for cand in range(start, end + 1):\n",
    "    cur_min = li[0]\n",
    "    cur_max = li[0]\n",
    "    needed = 1\n",
    "    for i in range(n):\n",
    "        cur_min = min(cur_min, li[i])\n",
    "        cur_max = max(cur_max, li[i])\n",
    "\n",
    "        if cur_max - cur_min > cand:\n",
    "            needed += 1\n",
    "            cur_min = li[i]\n",
    "            cur_max = li[i]\n",
    "\n",
    "    if needed <= m:\n",
    "        print(cand)\n",
    "        break"
   ]
  },
  {
   "cell_type": "markdown",
   "metadata": {},
   "source": [
    "### 흩날리는 시험지 속에서 내 평점이 느껴진거야 17951"
   ]
  },
  {
   "cell_type": "code",
   "execution_count": 79,
   "metadata": {},
   "outputs": [
    {
     "name": "stdout",
     "output_type": "stream",
     "text": [
      "8 2\n",
      "12 7 19 20 17 14 9 10\n",
      "50\n"
     ]
    }
   ],
   "source": [
    "n, k = map(int, input().split())\n",
    "li = list(map(int, input().split()))\n",
    "\n",
    "start = 0\n",
    "end = 20 * n\n",
    "result = 0\n",
    "while start <= end:\n",
    "    mid = (start + end) // 2\n",
    "    \n",
    "    count = 0\n",
    "    cur_cumul = 0\n",
    "    for i in range(n):\n",
    "        cur_cumul += li[i]\n",
    "        if cur_cumul >= mid:\n",
    "            count += 1\n",
    "            cur_cumul = 0\n",
    "            \n",
    "    if count >= k:\n",
    "        result = mid\n",
    "        start = mid + 1\n",
    "    else:\n",
    "        end = mid - 1\n",
    "        \n",
    "print(result)"
   ]
  },
  {
   "cell_type": "markdown",
   "metadata": {},
   "source": [
    "### 카누 선수 9007"
   ]
  },
  {
   "cell_type": "code",
   "execution_count": 102,
   "metadata": {},
   "outputs": [
    {
     "name": "stdout",
     "output_type": "stream",
     "text": [
      "31\n"
     ]
    }
   ],
   "source": [
    "k, n = map(int, input().split())\n",
    "li = [list(map(int, input().split())) for _ in range(4)]\n",
    "\n",
    "a = set()\n",
    "for i in range(n):\n",
    "    for j in range(n):\n",
    "        a.add(li[0][i] + li[1][j])\n",
    "        \n",
    "b = []\n",
    "for i in range(n):\n",
    "    for j in range(n):\n",
    "        b.append(li[2][i] + li[3][j])\n",
    "b.sort()\n",
    "b_len = len(b)\n",
    "mad = float('inf') # min abs diff\n",
    "mad_sv = float('inf') # min abs diff case sum value\n",
    "for v in a:\n",
    "    bi = bisect_left(b, k - v)\n",
    "\n",
    "    cands = [bi - 1, bi]\n",
    "    for cand in cands:\n",
    "        if cand < 0 or cand >= b_len:\n",
    "            continue\n",
    "            \n",
    "        sv = v + b[cand]\n",
    "        ad = abs(k - sv)\n",
    "        if ad < mad:\n",
    "            mad = ad\n",
    "            mad_sv = sv\n",
    "        elif ad == mad:\n",
    "            mad_sv = min(mad_sv, sv)\n",
    "        \n",
    "print(mad_sv)"
   ]
  },
  {
   "cell_type": "code",
   "execution_count": null,
   "metadata": {},
   "outputs": [],
   "source": [
    "from bisect import bisect_left\n",
    "import sys\n",
    "input = lambda: sys.stdin.readline().rstrip()\n",
    "\n",
    "for _ in range(int(input())):\n",
    "    k, n = map(int, input().split())\n",
    "    li = [list(map(int, input().split())) for _ in range(4)]\n",
    "\n",
    "    a = set()\n",
    "    for i in range(n):\n",
    "        for j in range(n):\n",
    "            a.add(li[0][i] + li[1][j])\n",
    "\n",
    "    b = []\n",
    "    for i in range(n):\n",
    "        for j in range(n):\n",
    "            b.append(li[2][i] + li[3][j])\n",
    "    b.sort()\n",
    "    b_len = len(b)\n",
    "    mad = float('inf') # min abs diff\n",
    "    mad_sv = float('inf') # min abs diff case sum value\n",
    "    for v in a:\n",
    "        bi = bisect_left(b, k - v)\n",
    "\n",
    "        cands = [bi - 1, bi]\n",
    "        for cand in cands:\n",
    "            if cand < 0 or cand >= b_len:\n",
    "                continue\n",
    "\n",
    "            sv = v + b[cand]\n",
    "            ad = abs(k - sv)\n",
    "            if ad < mad:\n",
    "                mad = ad\n",
    "                mad_sv = sv\n",
    "            elif ad == mad:\n",
    "                mad_sv = min(mad_sv, sv)\n",
    "\n",
    "    print(mad_sv)    "
   ]
  },
  {
   "cell_type": "code",
   "execution_count": 83,
   "metadata": {},
   "outputs": [
    {
     "data": {
      "text/plain": [
       "0"
      ]
     },
     "execution_count": 83,
     "metadata": {},
     "output_type": "execute_result"
    }
   ],
   "source": [
    "from bisect import bisect_left\n",
    "\n",
    "bisect_left([1, 2, 3], 0.5)\n",
    "index - 1, index"
   ]
  },
  {
   "cell_type": "markdown",
   "metadata": {},
   "source": [
    "### 부분수열의 합 2 1208 (다시 풀음)"
   ]
  },
  {
   "cell_type": "code",
   "execution_count": 114,
   "metadata": {},
   "outputs": [
    {
     "name": "stdout",
     "output_type": "stream",
     "text": [
      "1\n"
     ]
    }
   ],
   "source": [
    "from itertools import combinations as comb\n",
    "from collections import defaultdict as dd\n",
    "\n",
    "n, s = map(int, input().split())\n",
    "li = list(map(int, input().split()))\n",
    "\n",
    "left = li[:n//2]\n",
    "right = li[n//2:]\n",
    "\n",
    "dl = dd(int)\n",
    "for c in range(1, len(left) + 1):\n",
    "    for case in comb(left, c):\n",
    "        dl[sum(case)] += 1\n",
    "        \n",
    "dr = dd(int)\n",
    "for c in range(1, len(right) + 1):\n",
    "    for case in comb(right, c):\n",
    "        dr[sum(case)] += 1\n",
    "        \n",
    "total = dl[s] + dr[s]\n",
    "\n",
    "for key_l in dl:\n",
    "    total += dl[key_l] * dr[s - key_l]\n",
    "    \n",
    "print(total)"
   ]
  },
  {
   "cell_type": "markdown",
   "metadata": {},
   "source": [
    "### 냅색문제 1450"
   ]
  },
  {
   "cell_type": "code",
   "execution_count": 155,
   "metadata": {},
   "outputs": [
    {
     "name": "stdout",
     "output_type": "stream",
     "text": [
      "2 2\n",
      "1 1\n",
      "4\n"
     ]
    }
   ],
   "source": [
    "from itertools import combinations as comb\n",
    "from bisect import bisect_left\n",
    "\n",
    "n, c = map(int, input().split())\n",
    "li = list(map(int, input().split()))\n",
    "\n",
    "left = li[:n//2]\n",
    "right = li[n//2:]\n",
    "\n",
    "total = 1\n",
    "\n",
    "lsums = []\n",
    "for ct in range(1, len(left) + 1):\n",
    "    for case in comb(left, ct):\n",
    "        sv = sum(case)\n",
    "\n",
    "        if sv <= c:\n",
    "            total += 1\n",
    "            lsums.append(sv)\n",
    "        \n",
    "rsums = []\n",
    "for ct in range(1, len(right) + 1):\n",
    "    for case in comb(right, ct):\n",
    "        sv = sum(case)\n",
    "\n",
    "        if sv <= c:\n",
    "            total += 1\n",
    "            rsums.append(sv)\n",
    "            \n",
    "rsums.sort()\n",
    "for v in lsums:\n",
    "    total += bisect_left(rsums, c - v + 0.1)\n",
    "    \n",
    "print(total)"
   ]
  },
  {
   "cell_type": "code",
   "execution_count": 141,
   "metadata": {},
   "outputs": [
    {
     "data": {
      "text/plain": [
       "4"
      ]
     },
     "execution_count": 141,
     "metadata": {},
     "output_type": "execute_result"
    }
   ],
   "source": [
    "from bisect import bisect_left\n",
    "bisect_left([2, 3, 3, 3, 4, 6], 3 + 0.1)"
   ]
  },
  {
   "cell_type": "markdown",
   "metadata": {},
   "source": [
    "### K번째 음식 찾기 1 23791"
   ]
  },
  {
   "cell_type": "code",
   "execution_count": 192,
   "metadata": {},
   "outputs": [
    {
     "name": "stdout",
     "output_type": "stream",
     "text": [
      "1\n",
      "1 1 2\n",
      "2 1\n"
     ]
    }
   ],
   "source": [
    "from bisect import bisect_left\n",
    "import sys\n",
    "input = lambda: sys.stdin.readline().rstrip()\n",
    "\n",
    "n = int(input())\n",
    "a = list(map(int, input().split()))\n",
    "b = list(map(int, input().split()))\n",
    "\n",
    "for _ in range(int(input())):\n",
    "    i, j, k = map(int, input().split())\n",
    "    i -= 1\n",
    "    j -= 1\n",
    "    \n",
    "    ai_start = 0\n",
    "    ai_end = i\n",
    "    is_found = False\n",
    "    while ai_start <= ai_end:\n",
    "        ai = (ai_start + ai_end) // 2\n",
    "        \n",
    "        cur_rank = ai + 1\n",
    "        temp = bisect_left(b, a[ai] + 0.1, hi=j + 1)\n",
    "        cur_rank += temp\n",
    "        \n",
    "        if cur_rank < k:\n",
    "            ai_start = ai + 1\n",
    "        elif cur_rank > k:\n",
    "            ai_end = ai - 1\n",
    "        else:\n",
    "            is_found = True\n",
    "            print(1, ai + 1)\n",
    "            break\n",
    "            \n",
    "    if is_found:\n",
    "        continue\n",
    "        \n",
    "    bi_start = 0\n",
    "    bi_end = j\n",
    "    while bi_start <= bi_end:\n",
    "        bi = (bi_start + bi_end) // 2\n",
    "        \n",
    "        cur_rank = bi + 1\n",
    "        temp = bisect_left(a, b[bi] + 0.1, hi=i + 1)\n",
    "        cur_rank += temp\n",
    "        \n",
    "        if cur_rank < k:\n",
    "            bi_start = bi + 1\n",
    "        elif cur_rank > k:\n",
    "            bi_end = bi - 1\n",
    "        else:\n",
    "            print(2, bi + 1)\n",
    "            break"
   ]
  },
  {
   "cell_type": "code",
   "execution_count": null,
   "metadata": {},
   "outputs": [],
   "source": [
    "4\n",
    "1 2 3 4\n",
    "5 6 7 8\n",
    "1\n",
    "1 1 2"
   ]
  },
  {
   "cell_type": "code",
   "execution_count": 190,
   "metadata": {},
   "outputs": [
    {
     "data": {
      "text/plain": [
       "1"
      ]
     },
     "execution_count": 190,
     "metadata": {},
     "output_type": "execute_result"
    }
   ],
   "source": [
    "bisect_left([1, 2, 3, 4], 1.4, hi=1)"
   ]
  },
  {
   "cell_type": "markdown",
   "metadata": {},
   "source": [
    "### K번째 수 1300 (다시 풀음)"
   ]
  },
  {
   "cell_type": "code",
   "execution_count": null,
   "metadata": {},
   "outputs": [],
   "source": [
    "1*1 1*2 1*3\n",
    "2*1 2*2 2*3\n",
    "3*1 3*2 3*3\n",
    "\n",
    "1 2 3\n",
    "2 4 6\n",
    "3 6 9"
   ]
  },
  {
   "cell_type": "code",
   "execution_count": null,
   "metadata": {},
   "outputs": [],
   "source": [
    "from bisect import bisect_left\n",
    "\n",
    "n = int(input())\n",
    "k = int(input())\n",
    "\n",
    "start = 0\n",
    "end = int(1e10)\n",
    "result = 0\n",
    "li = list(range(1, n + 1))\n",
    "while start <= end:\n",
    "    mid = (start + end) // 2\n",
    "\n",
    "    cur_rank = 0\n",
    "    for i in range(1, n + 1):\n",
    "        cur_rank += bisect_left(li, mid / i + 0.000001)\n",
    "\n",
    "    if cur_rank >= k:\n",
    "        result = mid\n",
    "        end = mid - 1\n",
    "    else:\n",
    "        start = mid + 1\n",
    "        \n",
    "print(result)"
   ]
  },
  {
   "cell_type": "markdown",
   "metadata": {},
   "source": [
    "### K번째 음식 찾기 2 23792"
   ]
  },
  {
   "cell_type": "code",
   "execution_count": 5,
   "metadata": {},
   "outputs": [
    {
     "name": "stdout",
     "output_type": "stream",
     "text": [
      "3\n",
      "1 1 1 1\n",
      "1 1\n",
      "1 1 1 2\n",
      "2 1\n",
      "1 1 1 3\n",
      "3 1\n"
     ]
    }
   ],
   "source": [
    "from bisect import bisect_left\n",
    "import sys\n",
    "input = lambda: sys.stdin.readline().rstrip()\n",
    "\n",
    "n = int(input())\n",
    "a = list(map(int, input().split()))\n",
    "b = list(map(int, input().split()))\n",
    "c = list(map(int, input().split()))\n",
    "\n",
    "def find_in_a(x, y, z, k):\n",
    "    start = 0\n",
    "    end = x - 1\n",
    "    while start <= end:\n",
    "        ai = (start + end) // 2\n",
    "        \n",
    "        cur_rank = ai + 1\n",
    "        cur_rank += bisect_left(b, a[ai] + 0.1, hi=y)\n",
    "        cur_rank += bisect_left(c, a[ai] + 0.1, hi=z)\n",
    "        \n",
    "        if cur_rank < k:\n",
    "            start = ai + 1\n",
    "        elif cur_rank > k:\n",
    "            end = ai - 1\n",
    "        else:\n",
    "            return 1, ai + 1\n",
    "    return -1, -1\n",
    "        \n",
    "def find_in_b(x, y, z, k):\n",
    "    start = 0\n",
    "    end = y - 1\n",
    "    while start <= end:\n",
    "        bi = (start + end) // 2\n",
    "        \n",
    "        cur_rank = bi + 1\n",
    "        cur_rank += bisect_left(a, b[bi] + 0.1, hi=x)\n",
    "        cur_rank += bisect_left(c, b[bi] + 0.1, hi=z)\n",
    "        \n",
    "        if cur_rank < k:\n",
    "            start = bi + 1\n",
    "        elif cur_rank > k:\n",
    "            end = bi - 1\n",
    "        else:\n",
    "            return 2, bi + 1\n",
    "    return -1, -1\n",
    "\n",
    "def find_in_c(x, y, z, k):\n",
    "    start = 0\n",
    "    end = z - 1\n",
    "    while start <= end:\n",
    "        ci = (start + end) // 2\n",
    "        \n",
    "        cur_rank = ci + 1\n",
    "        cur_rank += bisect_left(a, c[ci] + 0.1, hi=x)\n",
    "        cur_rank += bisect_left(b, c[ci] + 0.1, hi=y)\n",
    "        \n",
    "        if cur_rank < k:\n",
    "            start = ci + 1\n",
    "        elif cur_rank > k:\n",
    "            end = ci - 1\n",
    "        else:\n",
    "            return 3, ci + 1\n",
    "    return -1, -1\n",
    "\n",
    "for _ in range(int(input())):\n",
    "    x, y, z, k = map(int, input().split())\n",
    "    \n",
    "    r = find_in_a(x, y, z, k)\n",
    "    if r[0] != -1:\n",
    "        print(*r)\n",
    "        continue\n",
    "        \n",
    "    r = find_in_b(x, y, z, k)\n",
    "    if r[0] != -1:\n",
    "        print(*r)\n",
    "        continue\n",
    "        \n",
    "    r = find_in_c(x, y, z, k)\n",
    "    print(*r)"
   ]
  },
  {
   "cell_type": "markdown",
   "metadata": {},
   "source": [
    "tag:greedy tier:g3.. - solved_by:hsh8086"
   ]
  },
  {
   "cell_type": "markdown",
   "metadata": {},
   "source": [
    "### 합 1132"
   ]
  },
  {
   "cell_type": "code",
   "execution_count": 38,
   "metadata": {},
   "outputs": [
    {
     "name": "stdout",
     "output_type": "stream",
     "text": [
      "5\n",
      "GHJIDDD\n",
      "AHHCCCA\n",
      "IIJCEJ\n",
      "F\n",
      "HDBIGFJAAJ\n",
      "9888114550\n"
     ]
    }
   ],
   "source": [
    "from collections import defaultdict as dd\n",
    "\n",
    "n = int(input())\n",
    "li = [input() for _ in range(n)]\n",
    "\n",
    "cnbzs = set() # can not be zero\n",
    "for v in li:\n",
    "    cnbzs.add(v[0])\n",
    "    \n",
    "ips = dd(int) # importances\n",
    "for v in li:\n",
    "    length = len(v)\n",
    "    w = 1 # weight\n",
    "    for i in range(length - 1, -1, -1):\n",
    "        ips[v[i]] += w\n",
    "        w *= 10\n",
    "\n",
    "sips = sorted(ips.items(), key=lambda x: -x[1])\n",
    "sips = [v[0] for v in sips]\n",
    "\n",
    "if len(sips) == 10:\n",
    "    last = 0\n",
    "    for i in range(9, -1, -1):\n",
    "        if sips[i] not in cnbzs:\n",
    "            last = i\n",
    "            break\n",
    "                \n",
    "    nsips = []\n",
    "    for i in range(len(sips)):\n",
    "        if i != last:\n",
    "            nsips.append(sips[i])\n",
    "    nsips.append(sips[last])\n",
    "    sips = nsips.copy()\n",
    "    \n",
    "assigned = dict()\n",
    "cur = 9\n",
    "for i in range(len(sips)):\n",
    "    alpha = sips[i][0]\n",
    "    assigned[alpha] = str(cur)\n",
    "    cur -= 1\n",
    "    \n",
    "for i in range(n):\n",
    "    li[i] = list(li[i])\n",
    "    \n",
    "    for j in range(len(li[i])):\n",
    "        li[i][j] = assigned[li[i][j]]\n",
    "        \n",
    "    li[i] = int(''.join(li[i]))\n",
    "    \n",
    "print(sum(li))"
   ]
  },
  {
   "cell_type": "markdown",
   "metadata": {},
   "source": [
    "### 강의실 2 1379"
   ]
  },
  {
   "cell_type": "code",
   "execution_count": null,
   "metadata": {},
   "outputs": [],
   "source": [
    "1 0 3\n",
    "3 3 6\n",
    "5 6 9\n",
    "2 0 2\n",
    "4 2 4\n",
    "6 4 10"
   ]
  },
  {
   "cell_type": "code",
   "execution_count": 57,
   "metadata": {},
   "outputs": [
    {
     "name": "stdout",
     "output_type": "stream",
     "text": [
      "2\n",
      "1\n",
      "2\n",
      "1\n",
      "2\n",
      "1\n",
      "2\n"
     ]
    }
   ],
   "source": [
    "from heapq import heappush, heappop\n",
    "import sys\n",
    "input = lambda: sys.stdin.readline().rstrip()\n",
    "\n",
    "n = int(input())\n",
    "li = [list(map(int, input().split())) for _ in range(n)]\n",
    "\n",
    "# n = 6\n",
    "# s = '''1 0 3\n",
    "# 3 3 6\n",
    "# 5 6 9\n",
    "# 2 0 2\n",
    "# 4 2 4\n",
    "# 6 4 10'''\n",
    "# li = [list(map(int, v.split())) for v in s.split('\\n')]\n",
    "\n",
    "li.sort(key=lambda x: x[1])\n",
    "\n",
    "heap = [(li[0][2], li[0][0], 1)] # 끝나는 시간, 강의 번호, 배정된 강의실 번호\n",
    "r = []\n",
    "next_room_num = 2\n",
    "for i in range(1, n):\n",
    "    room_num = 0\n",
    "    if heap[0][0] <= li[i][1]:\n",
    "        r.append(heappop(heap))\n",
    "        room_num = r[-1][2]\n",
    "    else:\n",
    "        room_num = next_room_num\n",
    "        next_room_num += 1\n",
    "        \n",
    "    heappush(heap, (li[i][2], li[i][0], room_num))\n",
    "    \n",
    "while heap:\n",
    "    r.append(heappop(heap))\n",
    "    \n",
    "r.sort(key=lambda x: x[1])\n",
    "\n",
    "print(next_room_num - 1)\n",
    "for v in r:\n",
    "    print(v[2])"
   ]
  },
  {
   "cell_type": "markdown",
   "metadata": {},
   "source": [
    "### 겹치는 선분 1689"
   ]
  },
  {
   "cell_type": "code",
   "execution_count": 59,
   "metadata": {},
   "outputs": [
    {
     "name": "stdout",
     "output_type": "stream",
     "text": [
      "3\n"
     ]
    }
   ],
   "source": [
    "from heapq import heappush, heappop\n",
    "import sys\n",
    "# input = lambda: sys.stdin.readline().rstrip()\n",
    "\n",
    "n = int(input())\n",
    "li = [list(map(int, input().split())) for _ in range(n)]\n",
    "\n",
    "li.sort(key=lambda x: x[0])\n",
    "\n",
    "heap = [li[0][1]]\n",
    "for i in range(1, n):\n",
    "    if heap[0] <= li[i][0]:\n",
    "        heappop(heap)\n",
    "        \n",
    "    heappush(heap, li[i][1])\n",
    "    \n",
    "print(len(heap))"
   ]
  },
  {
   "cell_type": "markdown",
   "metadata": {},
   "source": [
    "### 연료 채우기 1826"
   ]
  },
  {
   "cell_type": "code",
   "execution_count": 60,
   "metadata": {},
   "outputs": [
    {
     "name": "stdout",
     "output_type": "stream",
     "text": [
      "4\n",
      "4 4\n",
      "5 2\n",
      "11 5\n",
      "15 10\n",
      "25 10\n",
      "3\n"
     ]
    }
   ],
   "source": [
    "from heapq import heappush, heappop\n",
    "import sys\n",
    "input = lambda: sys.stdin.readline().rstrip()\n",
    "\n",
    "n = int(input())\n",
    "stops = [[] for _ in range(1000001)]\n",
    "for _ in range(n):\n",
    "    a, b = map(int, input().split())\n",
    "    stops[a].append(b)\n",
    "\n",
    "l, p = map(int, input().split())\n",
    "\n",
    "heap = []\n",
    "count = 0\n",
    "cur = p\n",
    "result = -1\n",
    "for i in range(1, l):\n",
    "    for v in stops[i]:\n",
    "        heappush(heap, -v)\n",
    "    cur -= 1\n",
    "    \n",
    "    if cur == 0:\n",
    "        if not heap:\n",
    "            break\n",
    "        else:\n",
    "            temp = -heappop(heap)\n",
    "            cur += temp\n",
    "            count += 1   \n",
    "else:\n",
    "    result = count\n",
    "    \n",
    "print(result)"
   ]
  },
  {
   "cell_type": "markdown",
   "metadata": {},
   "source": [
    "### 선분 덮기 2024"
   ]
  },
  {
   "cell_type": "code",
   "execution_count": 62,
   "metadata": {},
   "outputs": [
    {
     "name": "stdout",
     "output_type": "stream",
     "text": [
      "1\n",
      "-1 0\n",
      "-5 -3\n",
      "2 5\n",
      "0 0\n",
      "0\n"
     ]
    }
   ],
   "source": [
    "from heapq import heappush, heappop\n",
    "import sys\n",
    "input = lambda: sys.stdin.readline().rstrip()\n",
    "\n",
    "while True:\n",
    "    try:\n",
    "        m = int(input())\n",
    "        \n",
    "        li = []\n",
    "        while True:\n",
    "            l, r = map(int, input().split())\n",
    "            if l == 0 and r == 0:\n",
    "                break\n",
    "\n",
    "            if r <= 0 or l >= m:\n",
    "                continue\n",
    "\n",
    "            l = max(0, l)\n",
    "            r = min(r, m)\n",
    "\n",
    "            li.append((l, r))\n",
    "\n",
    "        li.sort(key=lambda x: x[1])\n",
    "\n",
    "        heap = []\n",
    "        cur = m\n",
    "        count = 0\n",
    "        result = 0\n",
    "        while True:\n",
    "            while li:\n",
    "                if cur <= li[-1][1]:\n",
    "                    temp = li.pop()\n",
    "                    heappush(heap, temp[0])\n",
    "                else:\n",
    "                    break\n",
    "\n",
    "            if not heap:\n",
    "                break\n",
    "            ncur = heappop(heap)\n",
    "            if cur <= ncur:\n",
    "                break\n",
    "            cur = ncur\n",
    "            count += 1\n",
    "            if cur == 0:\n",
    "                result = count\n",
    "                break\n",
    "\n",
    "        print(result)\n",
    "    except:\n",
    "        break"
   ]
  }
 ],
 "metadata": {
  "kernelspec": {
   "display_name": "Python 3",
   "language": "python",
   "name": "python3"
  },
  "language_info": {
   "codemirror_mode": {
    "name": "ipython",
    "version": 3
   },
   "file_extension": ".py",
   "mimetype": "text/x-python",
   "name": "python",
   "nbconvert_exporter": "python",
   "pygments_lexer": "ipython3",
   "version": "3.7.4"
  }
 },
 "nbformat": 4,
 "nbformat_minor": 4
}
