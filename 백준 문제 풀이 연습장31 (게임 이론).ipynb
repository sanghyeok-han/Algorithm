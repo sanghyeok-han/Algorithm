{
 "cells": [
  {
   "cell_type": "code",
   "execution_count": null,
   "metadata": {},
   "outputs": [],
   "source": [
    "def recur():\n",
    "    if max(li) == 0:\n",
    "        return 0\n",
    "    \n",
    "    is_win = 0\n",
    "    for i in range(n):\n",
    "        if li[i] == 0:\n",
    "            continue\n",
    "        init = li[i]\n",
    "        for c in range(1, init + 1):\n",
    "            li[i] -= 1\n",
    "            temp = recur()\n",
    "            if temp == 0:\n",
    "                is_win = 1\n",
    "                \n",
    "        li[i] = init\n",
    "        if is_win:\n",
    "            break\n",
    "            \n",
    "    return is_win\n",
    "\n",
    "n = 4\n",
    "for i in range(1, 5):\n",
    "    for j in range(i, 5):\n",
    "        for k in range(j, 5):\n",
    "            for l in range(k, 5):\n",
    "                li = [i, j, k, l]\n",
    "                print(i, j, k, l, recur())"
   ]
  }
 ],
 "metadata": {
  "kernelspec": {
   "display_name": "Python 3",
   "language": "python",
   "name": "python3"
  },
  "language_info": {
   "codemirror_mode": {
    "name": "ipython",
    "version": 3
   },
   "file_extension": ".py",
   "mimetype": "text/x-python",
   "name": "python",
   "nbconvert_exporter": "python",
   "pygments_lexer": "ipython3",
   "version": "3.7.4"
  }
 },
 "nbformat": 4,
 "nbformat_minor": 4
}
