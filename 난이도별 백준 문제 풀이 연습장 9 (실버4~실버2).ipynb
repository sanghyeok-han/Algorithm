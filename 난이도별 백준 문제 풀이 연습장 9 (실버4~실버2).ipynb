{
 "cells": [
  {
   "cell_type": "markdown",
   "metadata": {},
   "source": [
    " tier:s4 solved:100.. - solved_by:hsh8086 - id:6986 - id:18110"
   ]
  },
  {
   "cell_type": "markdown",
   "metadata": {},
   "source": [
    "### 대회 장소 준비 9555"
   ]
  },
  {
   "cell_type": "code",
   "execution_count": 1,
   "metadata": {},
   "outputs": [
    {
     "name": "stdout",
     "output_type": "stream",
     "text": [
      "3 3\n",
      "1 2 34\n",
      "2 2 2\n",
      "1 1 1\n",
      "2\n"
     ]
    }
   ],
   "source": [
    "import sys\n",
    "input = lambda: sys.stdin.readline().strip()\n",
    "\n",
    "for _ in range(int(input())):\n",
    "    n, m = map(int, input().split())\n",
    "    li = [list(map(int, input().split())) for _ in range(n)]\n",
    "\n",
    "    st = set()\n",
    "    di = [-1, -1, -1, 0, 0, 1, 1, 1]\n",
    "    dj = [-1, 0, 1, -1, 1, -1, 0, 1]\n",
    "    for i in range(n):\n",
    "        for j in range(m):\n",
    "            cri = li[i][j]\n",
    "\n",
    "            for d in range(8):\n",
    "                ni = i + di[d]\n",
    "                nj = j + dj[d]\n",
    "\n",
    "                if ni < 0 or ni >= n or nj < 0 or nj >= m:\n",
    "                    continue\n",
    "                if cri == li[ni][nj]:\n",
    "                    st.add(cri)\n",
    "\n",
    "    st.discard(-1)\n",
    "\n",
    "    print(len(st))"
   ]
  },
  {
   "cell_type": "markdown",
   "metadata": {},
   "source": [
    "### 별 찍기 - 19 10994"
   ]
  },
  {
   "cell_type": "code",
   "execution_count": 9,
   "metadata": {},
   "outputs": [
    {
     "name": "stdout",
     "output_type": "stream",
     "text": [
      "3\n",
      "*********\n",
      "*       *\n",
      "* ***** *\n",
      "* *   * *\n",
      "* * * * *\n",
      "* *   * *\n",
      "* ***** *\n",
      "*       *\n",
      "*********\n"
     ]
    }
   ],
   "source": [
    "n = int(input())\n",
    "\n",
    "if n == 1:\n",
    "    print('*')\n",
    "else:\n",
    "    li = ['*****', '*   *', '* * *', '*   *', '*****']\n",
    "    \n",
    "    n -= 2\n",
    "    cur = 9\n",
    "    for _ in range(n):\n",
    "        for i in range(len(li)):\n",
    "            li[i] = '* ' + li[i] + ' *'\n",
    "        li = ['*' * cur, '*' + ' ' * (cur - 2) + '*'] + li + ['*' + ' ' * (cur - 2) + '*', '*' * cur]\n",
    "\n",
    "        cur += 4\n",
    "        \n",
    "    print('\\n'.join(li))"
   ]
  },
  {
   "cell_type": "markdown",
   "metadata": {},
   "source": [
    "### 색종이 - 2 2567"
   ]
  },
  {
   "cell_type": "code",
   "execution_count": 25,
   "metadata": {},
   "outputs": [
    {
     "name": "stdout",
     "output_type": "stream",
     "text": [
      "4\n",
      "3 7\n",
      "5 2\n",
      "15 7\n",
      "13 14\n",
      "96\n"
     ]
    }
   ],
   "source": [
    "n = int(input())\n",
    "\n",
    "status = [[False] * 101 for _ in range(101)]\n",
    "for _ in range(n):\n",
    "    a, b = map(int, input().split())\n",
    "    \n",
    "    sy = a\n",
    "    ey = a + 10\n",
    "    \n",
    "    ex = 100 - b\n",
    "    sx = ex - 10\n",
    "    \n",
    "    for x in range(sx, ex):\n",
    "        for y in range(sy, ey):\n",
    "            status[x][y] = True\n",
    "            \n",
    "dx = [0, 0, -1 ,1]\n",
    "dy = [-1, 1, 0, 0]\n",
    "    \n",
    "total = 0\n",
    "for x in range(101):\n",
    "    for y in range(101):\n",
    "        if not status[x][y]:\n",
    "            continue\n",
    "        for i in range(4):\n",
    "            nx = x + dx[i]\n",
    "            ny = y + dy[i]\n",
    "            \n",
    "            if nx < 0 or nx >= 101 or ny < 0 or ny >= 101:\n",
    "                total += 1\n",
    "                continue\n",
    "            if not status[nx][ny]:\n",
    "                total += 1\n",
    "                \n",
    "print(total)"
   ]
  },
  {
   "cell_type": "markdown",
   "metadata": {},
   "source": [
    "### 도키도키 간식드리미 12789"
   ]
  },
  {
   "cell_type": "code",
   "execution_count": 29,
   "metadata": {},
   "outputs": [
    {
     "name": "stdout",
     "output_type": "stream",
     "text": [
      "5\n",
      "5 4 1 3 2\n",
      "Nice\n"
     ]
    }
   ],
   "source": [
    "from collections import deque\n",
    "\n",
    "n = int(input())\n",
    "queue = deque(map(int, input().split()))\n",
    "\n",
    "stack = []\n",
    "ip = True\n",
    "for i in range(1, n + 1):\n",
    "    if queue and queue[0] == i:\n",
    "        queue.popleft()\n",
    "        continue\n",
    "    if stack and stack[-1] == i:\n",
    "        stack.pop()\n",
    "        continue\n",
    "    else:\n",
    "        while queue:\n",
    "            value = queue.popleft()\n",
    "            if value == i:\n",
    "                break\n",
    "            else:\n",
    "                stack.append(value)\n",
    "        else:\n",
    "            ip = False\n",
    "            break\n",
    "            \n",
    "if not ip:\n",
    "    print('Sad')\n",
    "else:\n",
    "    print('Nice')"
   ]
  },
  {
   "cell_type": "markdown",
   "metadata": {},
   "source": [
    "### 십자카드 문제 2659"
   ]
  },
  {
   "cell_type": "code",
   "execution_count": 33,
   "metadata": {},
   "outputs": [
    {
     "name": "stdout",
     "output_type": "stream",
     "text": [
      "2 1 1 2\n",
      "10\n"
     ]
    }
   ],
   "source": [
    "get_value = lambda a, b, c, d: a * 1000 + b * 100 + c * 10 + d\n",
    "\n",
    "cases = set()\n",
    "for a in range(1, 10):\n",
    "    for b in range(1, 10):\n",
    "        for c in range(1, 10):\n",
    "            for d in range(1, 10):\n",
    "                t1 = get_value(a, b, c, d)\n",
    "                t2 = get_value(b, c, d, a)\n",
    "                t3 = get_value(c, d, a, b)\n",
    "                t4 = get_value(d, a, b, c)\n",
    "                \n",
    "                cases.add(min(t1, t2, t3, t4))\n",
    "                \n",
    "cases = sorted(cases)\n",
    "\n",
    "a, b, c, d = map(int, input().split())\n",
    "\n",
    "t1 = get_value(a, b, c, d)\n",
    "t2 = get_value(b, c, d, a)\n",
    "t3 = get_value(c, d, a, b)\n",
    "t4 = get_value(d, a, b, c)\n",
    "\n",
    "r = cases.index(min(t1, t2, t3, t4)) + 1\n",
    "\n",
    "print(r)"
   ]
  },
  {
   "cell_type": "code",
   "execution_count": 47,
   "metadata": {},
   "outputs": [
    {
     "name": "stdout",
     "output_type": "stream",
     "text": [
      "310000000 9\n",
      "1111 377228\n",
      "310377228\n"
     ]
    }
   ],
   "source": [
    "n, d = map(int, input().split())\n",
    "\n",
    "\n",
    "def tf(x, d):\n",
    "    temp = ''\n",
    "\n",
    "    while x > 0:\n",
    "        x, mod = divmod(x, d)\n",
    "        temp += str(mod)\n",
    "\n",
    "    return temp[::-1]\n",
    "\n",
    "def check(x, d):\n",
    "    temp = int(tf(x, d))\n",
    "    temp = str(temp)\n",
    "    \n",
    "    if len(set(temp)) != d:\n",
    "        return False\n",
    "    \n",
    "    cmpr = [0] * d\n",
    "    for i in temp:\n",
    "        if cmpr[int(i)] == 1:\n",
    "            return False\n",
    "        cmpr[int(i)] += 1\n",
    "\n",
    "    return True\n",
    "    \n",
    "    \n",
    "def sol(n, d):\n",
    "    count = 0\n",
    "    while n < int(1e9):\n",
    "        count += 1\n",
    "        n += 1\n",
    "        \n",
    "        if check(n, d):\n",
    "            print(1111, count)\n",
    "            return n  \n",
    "    return -1    \n",
    "\n",
    "\n",
    "\n",
    "lst = [i for i in range(d)]\n",
    "\n",
    "print(sol(n, d))"
   ]
  },
  {
   "cell_type": "markdown",
   "metadata": {},
   "source": [
    "### 개미 3048"
   ]
  },
  {
   "cell_type": "code",
   "execution_count": 55,
   "metadata": {},
   "outputs": [
    {
     "name": "stdout",
     "output_type": "stream",
     "text": [
      "3 3\n",
      "ABC\n",
      "DEF\n",
      "0\n",
      "CBADEF\n"
     ]
    }
   ],
   "source": [
    "n1, n2 = map(int, input().split())\n",
    "s1 = input()[::-1]\n",
    "s2 = input()\n",
    "t = int(input())\n",
    "\n",
    "li = []\n",
    "for i in range(n1):\n",
    "    li.append(('r', s1[i]))\n",
    "for i in range(n2):\n",
    "    li.append(('l', s2[i]))\n",
    "    \n",
    "for _ in range(t):\n",
    "    target_lefts = []\n",
    "    for i in range(n1 + n2 - 1):\n",
    "        if li[i][0] == 'r' and li[i + 1][0] == 'l':\n",
    "            target_lefts.append(i)\n",
    "            \n",
    "    for i in target_lefts:\n",
    "        li[i], li[i + 1] = li[i + 1], li[i]\n",
    "        \n",
    "li = [v[1] for v in li]\n",
    "r = ''.join(li)\n",
    "\n",
    "print(r)"
   ]
  },
  {
   "cell_type": "markdown",
   "metadata": {},
   "source": [
    "### 여우는 어떻게 울지? 9536"
   ]
  },
  {
   "cell_type": "code",
   "execution_count": null,
   "metadata": {},
   "outputs": [],
   "source": [
    "for _ in range(int(input())):\n",
    "    li = input().split()\n",
    "\n",
    "    st = set()\n",
    "    while True:\n",
    "        temp = input().split()\n",
    "\n",
    "        if temp[-1][-1] == '?':\n",
    "            break\n",
    "\n",
    "        st.add(temp[-1])\n",
    "\n",
    "    nli = []\n",
    "    for v in li:\n",
    "        if v not in st:\n",
    "            nli.append(v)\n",
    "\n",
    "    print(*nli)"
   ]
  },
  {
   "cell_type": "markdown",
   "metadata": {},
   "source": [
    "### iSharp 3568"
   ]
  },
  {
   "cell_type": "code",
   "execution_count": 97,
   "metadata": {},
   "outputs": [
    {
     "name": "stdout",
     "output_type": "stream",
     "text": [
      "int&&[]* a;\n",
      "int& b;\n",
      "int&* c;\n"
     ]
    }
   ],
   "source": [
    "li = input().split()\n",
    "\n",
    "li = [v.rstrip(',') for v in li]\n",
    "li[-1] = li[-1][:-1]\n",
    "\n",
    "nli = []\n",
    "for i in range(1, len(li)):\n",
    "    alpha_end = -1\n",
    "    for j in range(len(li[i])):\n",
    "        if li[i][j] in ['*', '[', '&']:\n",
    "            alpha_end = j - 1\n",
    "            break\n",
    "            \n",
    "    if alpha_end == -1:\n",
    "        temp = ' ' + li[i]\n",
    "    else:\n",
    "        alphas = li[i][:alpha_end + 1]\n",
    "        remains = li[i][alpha_end + 1:][::-1]\n",
    "        temp = remains + ' ' + alphas\n",
    "        \n",
    "    temp = li[0] + temp.replace('][', '[]') + ';'        \n",
    "    nli.append(temp)\n",
    "        \n",
    "print('\\n'.join(nli))"
   ]
  },
  {
   "cell_type": "markdown",
   "metadata": {},
   "source": [
    "### 수학숙제 2870"
   ]
  },
  {
   "cell_type": "code",
   "execution_count": 104,
   "metadata": {},
   "outputs": [
    {
     "name": "stdout",
     "output_type": "stream",
     "text": [
      "2\n",
      "lo2\n",
      "203\n",
      "2\n",
      "203\n"
     ]
    }
   ],
   "source": [
    "from re import findall\n",
    "\n",
    "n = int(input())\n",
    "li = [input() for _ in range(n)]\n",
    "\n",
    "li = ' '.join(li)\n",
    "f = findall('\\d+', li)\n",
    "\n",
    "r = [int(v) for v in f]\n",
    "r.sort()\n",
    "\n",
    "for v in r:\n",
    "    print(v)"
   ]
  },
  {
   "cell_type": "markdown",
   "metadata": {},
   "source": [
    "### 절사평균 6986"
   ]
  },
  {
   "cell_type": "code",
   "execution_count": 149,
   "metadata": {},
   "outputs": [
    {
     "name": "stdout",
     "output_type": "stream",
     "text": [
      "20 2\n",
      "1\n",
      "1\n",
      "5.4\n",
      "5.4\n",
      "5.4\n",
      "5.5\n",
      "5.5\n",
      "5.5\n",
      "5.5\n",
      "5.5\n",
      "5.6\n",
      "5.6\n",
      "5.6\n",
      "5.6\n",
      "5.7\n",
      "5.7\n",
      "5.7\n",
      "5.7\n",
      "10\n",
      "10\n",
      "5.56\n",
      "5.55\n"
     ]
    }
   ],
   "source": [
    "import sys\n",
    "# input = lambda: sys.stdin.readline().rstrip()\n",
    "\n",
    "n, k = map(int, input().split())\n",
    "li = [float(input()) for _ in range(n)]\n",
    "\n",
    "li.sort()\n",
    "\n",
    "total = 0\n",
    "for i in range(k, n - k):\n",
    "    total += li[i]\n",
    "    \n",
    "total = round(total, 10)\n",
    "temp = total / (n - 2 * k)\n",
    "temp = round(temp, 10)\n",
    "r1 = '{:.2f}'.format(temp)\n",
    "\n",
    "b = li.copy()\n",
    "for i in range(k):\n",
    "    b[i] = b[k]\n",
    "for i in range(n - k, n):\n",
    "    b[i] = b[n - k - 1]\n",
    "    \n",
    "total = round(sum(b), 10)\n",
    "temp = round(total / n, 10)\n",
    "r2 = '{:.2f}'.format(temp)\n",
    "\n",
    "print(r1)\n",
    "print(r2)"
   ]
  },
  {
   "cell_type": "markdown",
   "metadata": {},
   "source": [
    "### 블라인드 2799"
   ]
  },
  {
   "cell_type": "code",
   "execution_count": 163,
   "metadata": {},
   "outputs": [
    {
     "name": "stdout",
     "output_type": "stream",
     "text": [
      "1 2\n",
      "###########\n",
      "#....#****#\n",
      "#....#****#\n",
      "#....#....#\n",
      "#....#....#]\n",
      "###########\n",
      "1 0 1 0 0\n"
     ]
    }
   ],
   "source": [
    "n, m = map(int, input().split())\n",
    "li = [input() for _ in range(n * 5 + 1)]\n",
    "\n",
    "counts = [0] * 5\n",
    "for j in range(1, 5 * m + 1, 5):\n",
    "    c = -1\n",
    "    for i in range(5 * n + 1):\n",
    "        if li[i][j] == '#':\n",
    "            if c >= 0:\n",
    "                counts[c] += 1\n",
    "            c = 0\n",
    "            continue\n",
    "        if li[i][j] == '*':\n",
    "            c += 1\n",
    "                \n",
    "print(*counts)"
   ]
  },
  {
   "cell_type": "markdown",
   "metadata": {},
   "source": [
    "### 도로와 신호등 2980"
   ]
  },
  {
   "cell_type": "code",
   "execution_count": 175,
   "metadata": {},
   "outputs": [
    {
     "name": "stdout",
     "output_type": "stream",
     "text": [
      "36\n"
     ]
    }
   ],
   "source": [
    "n, l = map(int, input().split())\n",
    "\n",
    "dt = dict()\n",
    "for _ in range(n):\n",
    "    d, r, g = map(int, input().split())\n",
    "    dt[d] = [False] * r + [True] * g\n",
    "\n",
    "t = 0\n",
    "for i in range(1, l):\n",
    "    if i not in dt:\n",
    "        t += 1\n",
    "    else:\n",
    "        le = len(dt[i])\n",
    "        while True:\n",
    "            temp = dt[i][t % le]\n",
    "            if temp == False:\n",
    "                t += 1\n",
    "            else:\n",
    "                t += 1\n",
    "                break\n",
    "                \n",
    "print(t)"
   ]
  },
  {
   "cell_type": "markdown",
   "metadata": {},
   "source": [
    "### 철벽 보안 알고리즘 9322"
   ]
  },
  {
   "cell_type": "code",
   "execution_count": 177,
   "metadata": {},
   "outputs": [
    {
     "name": "stdout",
     "output_type": "stream",
     "text": [
      "3\n",
      "S T O\n",
      "O T S\n",
      "TO AT WE\n",
      "WE AT TO\n"
     ]
    }
   ],
   "source": [
    "for _ in range(int(input())):\n",
    "    n = int(input())\n",
    "\n",
    "    f = input().split()\n",
    "    s = input().split()\n",
    "    en = input().split()\n",
    "\n",
    "    to = [0] * n\n",
    "    for i in range(n):\n",
    "        to[i] = f.index(s[i])\n",
    "\n",
    "    ori = [0] * n\n",
    "    for i in range(n):\n",
    "        ori[to[i]] = en[i]\n",
    "\n",
    "    print(*ori)"
   ]
  },
  {
   "cell_type": "markdown",
   "metadata": {},
   "source": [
    "### MultiMax 14753"
   ]
  },
  {
   "cell_type": "code",
   "execution_count": 182,
   "metadata": {},
   "outputs": [
    {
     "name": "stdout",
     "output_type": "stream",
     "text": [
      "4\n",
      "10 0 -5 2\n",
      "20\n"
     ]
    }
   ],
   "source": [
    "n = int(input())\n",
    "li = list(map(int, input().split()))\n",
    "\n",
    "ms = []\n",
    "ps = []\n",
    "for v in li:\n",
    "    if v < 0:\n",
    "        ms.append(v)\n",
    "    elif v > 0:\n",
    "        ps.append(v)\n",
    "        \n",
    "ms.sort()\n",
    "ps.sort(reverse=True)\n",
    "\n",
    "mv = 0 # max value\n",
    "if len(ms) >= 2:\n",
    "    temp = ms[0] * ms[1]\n",
    "    \n",
    "    if len(ps) >= 1:\n",
    "        temp *= ps[0]\n",
    "    mv = max(mv, temp)\n",
    "    \n",
    "if len(ps) >= 2:\n",
    "    temp = ps[0] * ps[1]\n",
    "    \n",
    "    if len(ps) >= 3:\n",
    "        temp *= ps[2]\n",
    "    mv = max(mv, temp)\n",
    "    \n",
    "print(mv)"
   ]
  },
  {
   "cell_type": "markdown",
   "metadata": {},
   "source": [
    "### 로봇 13567"
   ]
  },
  {
   "cell_type": "code",
   "execution_count": 202,
   "metadata": {},
   "outputs": [
    {
     "name": "stdout",
     "output_type": "stream",
     "text": [
      "-1\n"
     ]
    }
   ],
   "source": [
    "m, n = map(int, input().split())\n",
    "li = [input().split() for _ in range(n)]\n",
    "\n",
    "# 동, 남, 서, 북\n",
    "dx = [0, 1, 0, -1]\n",
    "dy = [1, 0, -1, 0]\n",
    "\n",
    "x = y = 0\n",
    "d = 0\n",
    "ip = True\n",
    "for temp in li:\n",
    "    temp[1] = int(temp[1])\n",
    "    \n",
    "    if temp[0] == 'TURN':\n",
    "        if temp[1] == 0:\n",
    "            temp[1] = -1\n",
    "            \n",
    "        d += temp[1]\n",
    "        d %= 4\n",
    "    else:\n",
    "        x += dx[d] * temp[1]\n",
    "        y += dy[d] * temp[1]\n",
    "        \n",
    "        if x > 0 or x < -m or y < 0 or y > m:\n",
    "            ip = False\n",
    "            \n",
    "if not ip:\n",
    "    print(-1)\n",
    "else:\n",
    "    print(y, -x)"
   ]
  },
  {
   "cell_type": "markdown",
   "metadata": {},
   "source": [
    "### 괄호 끼워넣기 11899"
   ]
  },
  {
   "cell_type": "code",
   "execution_count": 205,
   "metadata": {},
   "outputs": [
    {
     "name": "stdout",
     "output_type": "stream",
     "text": [
      "))()((\n",
      "4\n"
     ]
    }
   ],
   "source": [
    "s = input()\n",
    "\n",
    "c_open = 0\n",
    "needed_open = 0\n",
    "needed_close = 0\n",
    "for v in s:\n",
    "    if v == '(':\n",
    "        c_open += 1\n",
    "    else:\n",
    "        if c_open:\n",
    "            c_open -= 1\n",
    "        else:\n",
    "            needed_open += 1\n",
    "\n",
    "needed_close = c_open\n",
    "\n",
    "print(needed_open + needed_close)"
   ]
  },
  {
   "cell_type": "markdown",
   "metadata": {},
   "source": [
    "### 과제는 끝나지 않아! 17952"
   ]
  },
  {
   "cell_type": "code",
   "execution_count": 207,
   "metadata": {},
   "outputs": [
    {
     "name": "stdout",
     "output_type": "stream",
     "text": [
      "5\n",
      "1 10 3\n",
      "0\n",
      "1 100 2\n",
      "1 20 1\n",
      "0\n",
      "120\n"
     ]
    }
   ],
   "source": [
    "import sys\n",
    "input = lambda: sys.stdin.readline().rstrip()\n",
    "\n",
    "n = int(input())\n",
    "\n",
    "stack = []\n",
    "score = 0\n",
    "for _ in range(n):\n",
    "    temp = list(map(int, input().split()))\n",
    "    \n",
    "    if temp[0] == 1:\n",
    "        temp[2] -= 1\n",
    "        if temp[2] == 0:\n",
    "            score += temp[1]\n",
    "        else:\n",
    "            stack.append([temp[1], temp[2]])\n",
    "    else:\n",
    "        if not stack:\n",
    "            continue\n",
    "        stack[-1][1] -= 1\n",
    "        if stack[-1][1] == 0:\n",
    "            score += stack[-1][0]\n",
    "            stack.pop()\n",
    "            \n",
    "print(score)"
   ]
  },
  {
   "cell_type": "markdown",
   "metadata": {},
   "source": [
    "### 시간초과 11332"
   ]
  },
  {
   "cell_type": "code",
   "execution_count": 214,
   "metadata": {},
   "outputs": [
    {
     "name": "stdout",
     "output_type": "stream",
     "text": [
      "O(N^3) 1001 1 10\n",
      "TLE!\n"
     ]
    }
   ],
   "source": [
    "from math import factorial as fact\n",
    "import sys\n",
    "input = lambda: sys.stdin.readline().rstrip()\n",
    "\n",
    "for _ in range(int(input())):\n",
    "    base = int(1e8)\n",
    "\n",
    "    li = input().split()\n",
    "    for i in range(1, 4):\n",
    "        li[i] = int(li[i])\n",
    "\n",
    "    n, t, tl = li[1:]\n",
    "    cri = base * tl\n",
    "\n",
    "    ip = True\n",
    "    if '!' in li[0]:\n",
    "        for i in range(1, n + 1):\n",
    "            if fact(i) * t > cri:\n",
    "                ip = False\n",
    "                break\n",
    "    elif '^3' in li[0]:\n",
    "        if n ** 3 * t > cri:\n",
    "            ip = False\n",
    "    elif '^2' in li[0]:\n",
    "        if n ** 2 * t > cri:\n",
    "            ip = False\n",
    "    elif '2^' in li[0]:\n",
    "        for i in range(1, n + 1):\n",
    "            if 2 ** n * t > cri:\n",
    "                ip = False\n",
    "                break\n",
    "    else:\n",
    "        if n * t > cri:\n",
    "            ip = False\n",
    "\n",
    "    if not ip:\n",
    "        print('TLE!')\n",
    "    else:\n",
    "        print('May Pass.')"
   ]
  },
  {
   "cell_type": "code",
   "execution_count": 15,
   "metadata": {},
   "outputs": [
    {
     "name": "stdout",
     "output_type": "stream",
     "text": [
      "5\n",
      "1 01:10\n",
      "1 02:20\n",
      "2 45:30\n",
      "2 46:40\n",
      "2 47:50\n",
      "45:30\n",
      "00:10\n"
     ]
    }
   ],
   "source": [
    "max_time = 48 * 60\n",
    "\n",
    "status = [0] * max_time\n",
    "\n",
    "n = int(input())\n",
    "for _ in range(n):\n",
    "    num, tm = input().split()\n",
    "    \n",
    "    num = int(num)\n",
    "    m, s = map(int, tm.split(':'))\n",
    "    \n",
    "    ts = m * 60 + s\n",
    "    \n",
    "    if num == 1:\n",
    "        status[ts] = 1\n",
    "    else:\n",
    "        status[ts] = -1\n",
    "    \n",
    "sstatus = []\n",
    "cumul = 0\n",
    "for i in range(max_time):\n",
    "    cumul += status[i]\n",
    "    sstatus.append(cumul)\n",
    "    \n",
    "w1 = 0\n",
    "w2 = 0\n",
    "for i in range(max_time):\n",
    "    if sstatus[i] < 0:\n",
    "        w2 += 1\n",
    "    elif sstatus[i] > 0:\n",
    "        w1 += 1\n",
    "\n",
    "w1m = str(w1 // 60).rjust(2, '0')\n",
    "w1s = str(w1 % 60).rjust(2, '0')\n",
    "\n",
    "w2m = str(w2 // 60).rjust(2, '0')\n",
    "w2s = str(w2 % 60).rjust(2, '0')\n",
    "\n",
    "print(f'{w1m}:{w1s}')\n",
    "print(f'{w2m}:{w2s}')"
   ]
  },
  {
   "cell_type": "markdown",
   "metadata": {},
   "source": [
    "### NBA 농구 2852"
   ]
  },
  {
   "cell_type": "code",
   "execution_count": null,
   "metadata": {},
   "outputs": [],
   "source": [
    "max_time = 48 * 60\n",
    "\n",
    "status = [0] * max_time\n",
    "\n",
    "n = int(input())\n",
    "for _ in range(n):\n",
    "    num, tm = input().split()\n",
    "    \n",
    "    num = int(num)\n",
    "    m, s = map(int, tm.split(':'))\n",
    "    \n",
    "    ts = m * 60 + s\n",
    "    \n",
    "    if num == 1:\n",
    "        status[ts] = 1\n",
    "    else:\n",
    "        status[ts] = -1\n",
    "    \n",
    "sstatus = []\n",
    "cumul = 0\n",
    "for i in range(max_time):\n",
    "    cumul += status[i]\n",
    "    sstatus.append(cumul)\n",
    "    \n",
    "w1 = 0\n",
    "w2 = 0\n",
    "for i in range(max_time):\n",
    "    if sstatus[i] < 0:\n",
    "        w2 += 1\n",
    "    elif sstatus[i] > 0:\n",
    "        w1 += 1\n",
    "\n",
    "w1m = str(w1 // 60).rjust(2, '0')\n",
    "w1s = str(w1 % 60).rjust(2, '0')\n",
    "\n",
    "w2m = str(w2 // 60).rjust(2, '0')\n",
    "w2s = str(w2 % 60).rjust(2, '0')\n",
    "\n",
    "print(f'{w1m}:{w1s}')\n",
    "print(f'{w2m}:{w2s}')"
   ]
  },
  {
   "cell_type": "markdown",
   "metadata": {},
   "source": [
    "### A 13171"
   ]
  },
  {
   "cell_type": "code",
   "execution_count": 2,
   "metadata": {},
   "outputs": [
    {
     "name": "stdout",
     "output_type": "stream",
     "text": [
      "100\n",
      "100\n",
      "424090053\n"
     ]
    }
   ],
   "source": [
    "n = int(input())\n",
    "x = int(input())\n",
    "\n",
    "mod = 1000000007\n",
    "\n",
    "def recur(n, x):\n",
    "    if x == 1:\n",
    "        return n % mod\n",
    "    \n",
    "    temp = recur(n, x // 2) % mod\n",
    "    if x % 2 == 0:\n",
    "        return temp * temp % mod\n",
    "    \n",
    "    else:\n",
    "        return temp * temp * n % mod\n",
    "    \n",
    "r = recur(n, x)\n",
    "\n",
    "print(r)"
   ]
  },
  {
   "cell_type": "markdown",
   "metadata": {},
   "source": [
    "### 제 2회 IUPC는 잘 개최될 수 있을까? 12788"
   ]
  },
  {
   "cell_type": "code",
   "execution_count": 7,
   "metadata": {},
   "outputs": [
    {
     "name": "stdout",
     "output_type": "stream",
     "text": [
      "7\n",
      "36 3\n",
      "9 70 15 13 19 20 11\n",
      "3\n"
     ]
    }
   ],
   "source": [
    "n = int(input())\n",
    "m, k = map(int, input().split())\n",
    "li = sorted(map(int, input().split()))\n",
    "\n",
    "needed = m * k\n",
    "count = 0\n",
    "total = 0\n",
    "ip = True\n",
    "while total < needed:\n",
    "    if not li:\n",
    "        ip = False\n",
    "        break\n",
    "    \n",
    "    total += li.pop()\n",
    "    count += 1\n",
    "\n",
    "if not ip:\n",
    "    print('STRESS')\n",
    "else:\n",
    "    print(count)"
   ]
  },
  {
   "cell_type": "markdown",
   "metadata": {},
   "source": [
    "### 이런 반전이 11947"
   ]
  },
  {
   "cell_type": "code",
   "execution_count": 33,
   "metadata": {},
   "outputs": [
    {
     "name": "stdout",
     "output_type": "stream",
     "text": [
      "3\n",
      "48\n",
      "2448\n",
      "106\n",
      "94658\n",
      "34\n",
      "2210\n"
     ]
    }
   ],
   "source": [
    "for _ in range(int(input())):\n",
    "    li = list(map(int, input()))\n",
    "\n",
    "    ns = ''\n",
    "    is_decreased = False\n",
    "    for v in li:\n",
    "        if is_decreased:\n",
    "            ns += '9'\n",
    "            continue\n",
    "        if not ns and v > 4:\n",
    "            is_decreased = True\n",
    "            ns += '4'\n",
    "        else:\n",
    "            ns += str(v)\n",
    "\n",
    "    nns = ''\n",
    "    for v in ns:\n",
    "        nns += str(9 - int(v))\n",
    "\n",
    "    r = int(ns) * int(nns)\n",
    "\n",
    "    print(r)"
   ]
  },
  {
   "cell_type": "markdown",
   "metadata": {},
   "source": [
    "### 두 스티커 16937"
   ]
  },
  {
   "cell_type": "code",
   "execution_count": 38,
   "metadata": {},
   "outputs": [
    {
     "name": "stdout",
     "output_type": "stream",
     "text": [
      "10 10\n",
      "3\n",
      "6 6\n",
      "7 7\n",
      "20 5\n",
      "0\n"
     ]
    }
   ],
   "source": [
    "h, w = map(int, input().split())\n",
    "n = int(input())\n",
    "li = [list(map(int, input().split())) for _ in range(n)]\n",
    "\n",
    "if n == 1:\n",
    "    print(0)\n",
    "else:\n",
    "    mv = 0 # max value\n",
    "    for ai in range(n):\n",
    "        for bi in range(ai + 1, n):            \n",
    "            a, b = li[ai]\n",
    "            c, d = li[bi]\n",
    "            \n",
    "            cases = [(a, b, c, d), (b, a, c, d), (a, b, d, c), (b, a, d, c)]\n",
    "            for case in cases:\n",
    "                r1, c1, r2, c2 = case\n",
    "            \n",
    "                ip = False\n",
    "                if r1 + r2 <= h:\n",
    "                    if max(c1, c2) <= w:\n",
    "                        ip = True\n",
    "                        \n",
    "                if c1 + c2 <= w:\n",
    "                    if max(r1, r2) <= h:\n",
    "                        ip = True\n",
    "                        \n",
    "                if ip:\n",
    "                    mv = max(mv, a * b + c * d)\n",
    "                    \n",
    "\n",
    "    print(mv)    "
   ]
  },
  {
   "cell_type": "markdown",
   "metadata": {},
   "source": [
    "### 욱제는 결정장애야!! 14646"
   ]
  },
  {
   "cell_type": "code",
   "execution_count": 41,
   "metadata": {},
   "outputs": [
    {
     "name": "stdout",
     "output_type": "stream",
     "text": [
      "5\n",
      "1 1 2 2 3 3 4 4 5 5\n",
      "1\n"
     ]
    }
   ],
   "source": [
    "n = int(input())\n",
    "li = list(map(int, input().split()))\n",
    "\n",
    "st = set()\n",
    "mv = 0\n",
    "for v in li:\n",
    "    if v not in st:\n",
    "        st.add(v)\n",
    "    else:\n",
    "        st.discard(v)\n",
    "        \n",
    "    mv = max(mv, len(st))\n",
    "    \n",
    "print(mv)"
   ]
  },
  {
   "cell_type": "code",
   "execution_count": 56,
   "metadata": {},
   "outputs": [
    {
     "name": "stdout",
     "output_type": "stream",
     "text": [
      "5\n",
      "1\n",
      "2\n",
      "0\n",
      "3\n",
      "4\n",
      "0\n",
      "5\n",
      "6\n",
      "0\n",
      "0\n",
      "-1\n",
      "5 6\n"
     ]
    }
   ],
   "source": [
    "from collections import deque\n",
    "import sys\n",
    "input = lambda: sys.stdin.readline().rstrip()\n",
    "\n",
    "n = int(input())\n",
    "\n",
    "deq = deque()\n",
    "while True:\n",
    "    v = int(input())\n",
    "    \n",
    "    if v == -1:\n",
    "        break\n",
    "        \n",
    "    if v == 0:\n",
    "        deq.popleft()\n",
    "    else:\n",
    "        if len(deq) < n:\n",
    "            deq.append(v)\n",
    "            \n",
    "if not deq:\n",
    "    print('empty')\n",
    "else:\n",
    "    print(*deq)"
   ]
  },
  {
   "cell_type": "markdown",
   "metadata": {},
   "source": [
    "### 수열의 합 5623"
   ]
  },
  {
   "cell_type": "code",
   "execution_count": 58,
   "metadata": {},
   "outputs": [
    {
     "name": "stdout",
     "output_type": "stream",
     "text": [
      "4\n",
      "0 3 6 7\n",
      "3 0 5 6\n",
      "6 5 0 9\n",
      "7 6 9 0\n",
      "2 1 4 5\n"
     ]
    }
   ],
   "source": [
    "import sys\n",
    "input = lambda: sys.stdin.readline().rstrip()\n",
    "\n",
    "n = int(input())\n",
    "li = [list(map(int, input().split())) for _ in range(n)]\n",
    "\n",
    "if n == 2:\n",
    "    temp = li[0][1]\n",
    "    print(temp // 2, temp // 2)\n",
    "else:\n",
    "    s12 = li[0][1]\n",
    "    s23 = li[1][2]\n",
    "    s31 = li[2][0]\n",
    "    \n",
    "    a1 = (s12 + s31 - s23) // 2\n",
    "    nli = [a1]\n",
    "    for j in range(1, n):\n",
    "        nli.append(li[0][j] - a1)\n",
    "        \n",
    "    print(*nli)"
   ]
  },
  {
   "cell_type": "markdown",
   "metadata": {},
   "source": [
    "### ∑|ΔEasyMAX| 17203"
   ]
  },
  {
   "cell_type": "code",
   "execution_count": 64,
   "metadata": {},
   "outputs": [
    {
     "name": "stdout",
     "output_type": "stream",
     "text": [
      "5 3\n",
      "1 0 1 0 -11\n",
      "1 5\n",
      "14\n",
      "3 5\n",
      "12\n",
      "2 4\n",
      "2\n"
     ]
    }
   ],
   "source": [
    "import sys\n",
    "input = lambda: sys.stdin.readline().rstrip()\n",
    "\n",
    "n, q = map(int, input().split())\n",
    "li = list(map(int, input().split()))\n",
    "\n",
    "diffs = []\n",
    "for i in range(n - 1):\n",
    "    diffs.append(abs(li[i + 1] - li[i]))\n",
    "    \n",
    "sdiffs = [0]\n",
    "cumul = 0\n",
    "for v in diffs:\n",
    "    cumul += v\n",
    "    sdiffs.append(cumul)\n",
    "    \n",
    "for _ in range(q):\n",
    "    a, b = map(int, input().split())\n",
    "\n",
    "    a -= 1\n",
    "    b -= 2\n",
    "\n",
    "    if b < a:\n",
    "        print(0)\n",
    "    else:\n",
    "        r = sdiffs[b + 1] - sdiffs[a]\n",
    "\n",
    "        print(r)"
   ]
  },
  {
   "cell_type": "markdown",
   "metadata": {},
   "source": [
    "### 30번 13116"
   ]
  },
  {
   "cell_type": "code",
   "execution_count": 71,
   "metadata": {},
   "outputs": [
    {
     "name": "stdout",
     "output_type": "stream",
     "text": [
      "1022 1023\n",
      "5110\n"
     ]
    }
   ],
   "source": [
    "import sys\n",
    "input = lambda: sys.stdin.readline().rstrip()\n",
    "\n",
    "for _ in range(int(input())):\n",
    "    a, b = map(int, input().split())\n",
    "\n",
    "    st = set()\n",
    "    while a >= 1:\n",
    "        st.add(a)\n",
    "        a //= 2\n",
    "\n",
    "    while b >= 1:\n",
    "        if b in st:\n",
    "            print(b * 10)\n",
    "            break\n",
    "\n",
    "        b //= 2"
   ]
  },
  {
   "cell_type": "markdown",
   "metadata": {},
   "source": [
    "### 반올림 4539"
   ]
  },
  {
   "cell_type": "code",
   "execution_count": 99,
   "metadata": {},
   "outputs": [
    {
     "name": "stdout",
     "output_type": "stream",
     "text": [
      "446\n",
      "500\n"
     ]
    }
   ],
   "source": [
    "for _ in range(int(input())):\n",
    "    n = int(input())\n",
    "\n",
    "    cur = 10\n",
    "    cur_num = 1\n",
    "    while True:\n",
    "        n += 0.0000001\n",
    "        if n > cur:\n",
    "            n = round(n, -cur_num)\n",
    "        else:\n",
    "            break\n",
    "\n",
    "        cur_num += 1\n",
    "        cur *= 10\n",
    "\n",
    "    print(round(n))"
   ]
  },
  {
   "cell_type": "markdown",
   "metadata": {},
   "source": [
    "### 천재 수학자 성필 15815"
   ]
  },
  {
   "cell_type": "code",
   "execution_count": 112,
   "metadata": {},
   "outputs": [
    {
     "name": "stdout",
     "output_type": "stream",
     "text": [
      "123*+\n",
      "7\n"
     ]
    }
   ],
   "source": [
    "import sys\n",
    "input = lambda: sys.stdin.readline().rstrip()\n",
    "\n",
    "li = list(input())\n",
    "\n",
    "stack = []\n",
    "for v in li:\n",
    "    if v.isdigit():\n",
    "        stack.append(int(v))\n",
    "        continue\n",
    "    \n",
    "    a = stack.pop()\n",
    "    b = stack.pop()\n",
    "    \n",
    "    if v == '+':\n",
    "        stack.append(a + b)\n",
    "    elif v == '-':\n",
    "        stack.append(a - b)\n",
    "    elif v == '*':\n",
    "        stack.append(a * b)\n",
    "    elif v == '/':\n",
    "        stack.append(a // b)\n",
    "    else:\n",
    "        assert 1 == 2\n",
    "        \n",
    "print(stack[0])"
   ]
  },
  {
   "cell_type": "markdown",
   "metadata": {},
   "source": [
    "### 가위 바위 보 8896"
   ]
  },
  {
   "cell_type": "code",
   "execution_count": 123,
   "metadata": {},
   "outputs": [
    {
     "name": "stdout",
     "output_type": "stream",
     "text": [
      "3\n",
      "SPPPSS\n",
      "SPRRRR\n",
      "SSSSPP\n",
      "3\n"
     ]
    }
   ],
   "source": [
    "for _ in range(int(input())):\n",
    "    n = int(input())\n",
    "    li = [input() for _ in range(n)]\n",
    "    k = len(li[0])\n",
    "\n",
    "    saved = set(range(n))\n",
    "    r = 0\n",
    "    for i in range(k):\n",
    "        temp = set()\n",
    "        for num in saved:\n",
    "            temp.add(li[num][i])\n",
    "\n",
    "        if len(temp) == 2:\n",
    "            nsaved = saved.copy()\n",
    "            if 'S' in temp and 'R' in temp:\n",
    "                for num in saved:\n",
    "                    if li[num][i] == 'S':\n",
    "                        nsaved.discard(num)\n",
    "            elif 'S' in temp and 'P' in temp:\n",
    "                for num in saved:\n",
    "                    if li[num][i] == 'P':\n",
    "                        nsaved.discard(num)\n",
    "            else:\n",
    "                for num in saved:\n",
    "                    if li[num][i] == 'R':\n",
    "                        nsaved.discard(num)\n",
    "\n",
    "            saved = nsaved.copy()\n",
    "\n",
    "        if len(saved) == 1:\n",
    "            r = saved.pop() + 1\n",
    "            break\n",
    "\n",
    "    print(r)"
   ]
  },
  {
   "cell_type": "markdown",
   "metadata": {},
   "source": [
    "### 염색체 9342"
   ]
  },
  {
   "cell_type": "code",
   "execution_count": 130,
   "metadata": {},
   "outputs": [
    {
     "name": "stdout",
     "output_type": "stream",
     "text": [
      "1\n",
      "BAFC\n",
      "Infected!\n"
     ]
    }
   ],
   "source": [
    "def check(li):\n",
    "    if not li or li[0] != 'A':\n",
    "        return False\n",
    "    while li and li[0] == 'A':\n",
    "        li.pop(0)\n",
    "    if not li or li[0] != 'F':\n",
    "        return False\n",
    "    while li and li[0] == 'F':\n",
    "        li.pop(0)\n",
    "    if not li or li[0] != 'C':\n",
    "        return False        \n",
    "    while li and li[0] == 'C':\n",
    "        li.pop(0)\n",
    "        \n",
    "    if not li:\n",
    "        return True\n",
    "    elif len(li) == 1 and li[0] in tc:\n",
    "        return True\n",
    "    else:\n",
    "        return False\n",
    "\n",
    "for _ in range(int(input())):\n",
    "    li = list(input())\n",
    "\n",
    "    tc = 'ABCDEF' # to check\n",
    "\n",
    "    ip = False\n",
    "    if li[0] in tc:\n",
    "        if li[0] == 'A':\n",
    "            nli = li.copy()\n",
    "            nli.pop(0)\n",
    "            \n",
    "            ip = any([ip, check(li), check(nli)])\n",
    "        else:\n",
    "            li.pop(0)\n",
    "            ip = any([ip, check(li)])\n",
    "        \n",
    "    if ip:\n",
    "        print('Infected!')\n",
    "    else:\n",
    "        print('Good')"
   ]
  },
  {
   "cell_type": "markdown",
   "metadata": {},
   "source": [
    "### 별 16505"
   ]
  },
  {
   "cell_type": "code",
   "execution_count": 154,
   "metadata": {},
   "outputs": [
    {
     "name": "stdout",
     "output_type": "stream",
     "text": [
      "4\n",
      "****************\n",
      "* * * * * * * *\n",
      "**  **  **  **\n",
      "*   *   *   *\n",
      "****    ****\n",
      "* *     * *\n",
      "**      **\n",
      "*       *\n",
      "********\n",
      "* * * *\n",
      "**  **\n",
      "*   *\n",
      "****\n",
      "* *\n",
      "**\n",
      "*\n"
     ]
    }
   ],
   "source": [
    "n = int(input())\n",
    "\n",
    "def recur(n):\n",
    "    if n == 0:\n",
    "        return ['*']\n",
    "    \n",
    "    li = recur(n - 1)\n",
    "    \n",
    "    nli = []\n",
    "    for i in range(len(li)):\n",
    "        nli.append(li[i] * 2)\n",
    "\n",
    "    for i in range(len(li)):\n",
    "        nli.append(li[i])\n",
    "        \n",
    "    for i in range(len(nli)):\n",
    "        nli[i] = nli[i].ljust(len(nli[0]), ' ')\n",
    "        \n",
    "    return nli\n",
    "\n",
    "r = recur(n)\n",
    "\n",
    "for v in r:\n",
    "    print(v.strip())"
   ]
  },
  {
   "cell_type": "markdown",
   "metadata": {},
   "source": [
    "### 순열 9742"
   ]
  },
  {
   "cell_type": "code",
   "execution_count": 170,
   "metadata": {},
   "outputs": [
    {
     "name": "stdout",
     "output_type": "stream",
     "text": [
      "mnpqr 130\n",
      "mnpqr 130 = No permutation\n",
      "123456 700\n",
      "123456 700 = 651342\n",
      "\n"
     ]
    }
   ],
   "source": [
    "from itertools import permutations as perm\n",
    "from math import factorial as fact\n",
    "import sys\n",
    "# input = lambda: sys.stdin.readline().rstrip()\n",
    "\n",
    "while True:\n",
    "    try:\n",
    "        s, loc = input().split()\n",
    "        loc = int(loc)\n",
    "        \n",
    "        if loc > fact(len(s)):\n",
    "            r = 'No permutation'\n",
    "        else:\n",
    "            p = perm(s)\n",
    "            for _ in range(loc - 1):\n",
    "                next(p)\n",
    "\n",
    "            r = ''.join(next(p))\n",
    "\n",
    "        result = f'{s} {loc} = {r}'\n",
    "\n",
    "        print(result)\n",
    "    except:\n",
    "        break"
   ]
  },
  {
   "cell_type": "markdown",
   "metadata": {},
   "source": [
    "### The Game of Death 11558"
   ]
  },
  {
   "cell_type": "code",
   "execution_count": 175,
   "metadata": {},
   "outputs": [
    {
     "name": "stdout",
     "output_type": "stream",
     "text": [
      "6\n"
     ]
    }
   ],
   "source": [
    "import sys\n",
    "input = lambda: sys.stdin.readline().rstrip()\n",
    "\n",
    "get_value = lambda x: int(x) - 1\n",
    "\n",
    "for _ in range(int(input())):\n",
    "    n = int(input())\n",
    "    li = [get_value(input()) for _ in range(n)]\n",
    "\n",
    "    count = 1\n",
    "    cur = 0\n",
    "    st = set()\n",
    "    while True:\n",
    "        if cur in st:\n",
    "            count = 0\n",
    "            break\n",
    "        st.add(cur)\n",
    "        if li[cur] == n - 1:\n",
    "            break\n",
    "        count += 1\n",
    "        cur = li[cur]\n",
    "\n",
    "    print(count)"
   ]
  },
  {
   "cell_type": "markdown",
   "metadata": {},
   "source": [
    "### Milk Pails (Bronze) 11999"
   ]
  },
  {
   "cell_type": "code",
   "execution_count": 178,
   "metadata": {},
   "outputs": [
    {
     "name": "stdout",
     "output_type": "stream",
     "text": [
      "17 25 77\n",
      "76\n"
     ]
    }
   ],
   "source": [
    "x, y, m = map(int, input().split())\n",
    "\n",
    "mv = 0 # max value\n",
    "xc = 0\n",
    "while True:\n",
    "    filled = x * xc\n",
    "    remained = m - filled\n",
    "    \n",
    "    if remained < 0:\n",
    "        break\n",
    "        \n",
    "    yc = (remained // y)\n",
    "    \n",
    "    filled += yc * y\n",
    "    mv = max(mv, filled)\n",
    "    \n",
    "    xc += 1\n",
    "    \n",
    "print(mv)"
   ]
  },
  {
   "cell_type": "markdown",
   "metadata": {},
   "source": [
    "### 점 숫자 8891"
   ]
  },
  {
   "cell_type": "code",
   "execution_count": 194,
   "metadata": {},
   "outputs": [],
   "source": [
    "import sys\n",
    "input = lambda: sys.stdin.readline().rstrip()\n",
    "\n",
    "coords = [(0, 0)]\n",
    "cur_sum = 2\n",
    "x = y = 1\n",
    "for _ in range(500000):\n",
    "    coords.append((x, y))\n",
    "    \n",
    "    if y == 1:\n",
    "        cur_sum += 1\n",
    "        x = 1\n",
    "        y = cur_sum - x\n",
    "    else:\n",
    "        x += 1\n",
    "        y -= 1\n",
    "        \n",
    "for _ in range(int(input())):\n",
    "    a, b = map(int, input().split())\n",
    "    \n",
    "    x1, y1 = coords[a]\n",
    "    x2, y2 = coords[b]\n",
    "    nc = (x1 + x2, y1 + y2)\n",
    "\n",
    "    r = coords.index(nc)\n",
    "    \n",
    "    print(r)"
   ]
  },
  {
   "cell_type": "markdown",
   "metadata": {},
   "source": [
    "### 역원소 정렬 5648"
   ]
  },
  {
   "cell_type": "code",
   "execution_count": 203,
   "metadata": {},
   "outputs": [
    {
     "name": "stdout",
     "output_type": "stream",
     "text": [
      "10 5 2233\n",
      "1601 90100 13009 802\n",
      "50000000\n",
      "301 7654321\n",
      "210\n",
      "5\n",
      "5\n",
      "12\n",
      "103\n",
      "109\n",
      "208\n",
      "1061\n",
      "3322\n",
      "90031\n",
      "1234567\n"
     ]
    }
   ],
   "source": [
    "import sys\n",
    "# input = lambda: sys.stdin.readline().rstrip()\n",
    "\n",
    "cur = 0\n",
    "li = []\n",
    "while True:\n",
    "    temp = input().split()\n",
    "\n",
    "    if cur == 0:\n",
    "        n = int(temp.pop(0))\n",
    "\n",
    "    li.extend(temp)\n",
    "    cur += 1\n",
    "    \n",
    "    if len(li) == n:\n",
    "        break\n",
    "        \n",
    "for i in range(len(li)):\n",
    "    li[i] = int(li[i][::-1])\n",
    "    \n",
    "li.sort()\n",
    "for v in li:\n",
    "    print(v)"
   ]
  }
 ],
 "metadata": {
  "kernelspec": {
   "display_name": "Python 3",
   "language": "python",
   "name": "python3"
  },
  "language_info": {
   "codemirror_mode": {
    "name": "ipython",
    "version": 3
   },
   "file_extension": ".py",
   "mimetype": "text/x-python",
   "name": "python",
   "nbconvert_exporter": "python",
   "pygments_lexer": "ipython3",
   "version": "3.7.4"
  }
 },
 "nbformat": 4,
 "nbformat_minor": 4
}
