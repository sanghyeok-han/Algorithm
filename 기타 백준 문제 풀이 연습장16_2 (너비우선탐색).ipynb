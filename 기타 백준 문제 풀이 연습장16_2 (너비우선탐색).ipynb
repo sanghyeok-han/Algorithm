{
 "cells": [
  {
   "cell_type": "markdown",
   "metadata": {},
   "source": [
    "### 숨바꼭질 5 17071"
   ]
  },
  {
   "cell_type": "code",
   "execution_count": 152,
   "metadata": {},
   "outputs": [
    {
     "name": "stdout",
     "output_type": "stream",
     "text": [
      "250000 250001\n",
      "705\n"
     ]
    }
   ],
   "source": [
    "## 71%에서 시간 초과\n",
    "\n",
    "n, k = map(int, input().split())\n",
    "o_set = set()\n",
    "\n",
    "def bfs(n, k):\n",
    "    num = 500000\n",
    "    second = 0\n",
    "    \n",
    "    st = set()\n",
    "    st.add(n)\n",
    "    new_st = set()\n",
    "    \n",
    "    while True:\n",
    "        for value in st:\n",
    "            if value == k:\n",
    "                return second\n",
    "            \n",
    "            v = value * 2\n",
    "            w = value + 1\n",
    "            if v <= num:\n",
    "                new_st.add(v)\n",
    "                new_st.add(w)\n",
    "            else:\n",
    "                if w <= num:\n",
    "                    new_st.add(w)\n",
    "\n",
    "            v = value - 1\n",
    "            if 0 <= v:\n",
    "                new_st.add(v)\n",
    "        \n",
    "        st = new_st.copy()\n",
    "        new_st = o_set.copy()\n",
    "            \n",
    "        k += second + 1\n",
    "        \n",
    "        if k > num:\n",
    "            return -1\n",
    "        second += 1\n",
    "\n",
    "    return -1\n",
    "        \n",
    "result = bfs(n, k)\n",
    "\n",
    "print(result)"
   ]
  }
 ],
 "metadata": {
  "kernelspec": {
   "display_name": "Python 3",
   "language": "python",
   "name": "python3"
  },
  "language_info": {
   "codemirror_mode": {
    "name": "ipython",
    "version": 3
   },
   "file_extension": ".py",
   "mimetype": "text/x-python",
   "name": "python",
   "nbconvert_exporter": "python",
   "pygments_lexer": "ipython3",
   "version": "3.7.3"
  }
 },
 "nbformat": 4,
 "nbformat_minor": 4
}
