{
 "cells": [
  {
   "cell_type": "markdown",
   "metadata": {},
   "source": [
    "### Fly me to the Alpha Centauri 1011"
   ]
  },
  {
   "cell_type": "code",
   "execution_count": null,
   "metadata": {},
   "outputs": [],
   "source": [
    "차이가 2: 2\n",
    "차이가 3: 3"
   ]
  },
  {
   "cell_type": "code",
   "execution_count": null,
   "metadata": {},
   "outputs": [],
   "source": [
    "distance = 6\n",
    "\n",
    "left = 2\n",
    "right = 1\n",
    "needed = 3\n",
    "\n",
    "left = 2\n",
    "right = 2\n",
    "needed = 4"
   ]
  },
  {
   "cell_type": "code",
   "execution_count": 12,
   "metadata": {},
   "outputs": [
    {
     "name": "stdout",
     "output_type": "stream",
     "text": [
      "3\n",
      "0 3\n",
      "3\n",
      "1 5\n",
      "3\n",
      "45 50\n",
      "4\n"
     ]
    }
   ],
   "source": [
    "def get_sum(x):\n",
    "    return (x * (x + 1)) // 2\n",
    "\n",
    "for _ in range(int(input())):\n",
    "    x, y = map(int, input().split())\n",
    "    distance = y - x\n",
    "\n",
    "    if distance == 1:\n",
    "        print(1)\n",
    "    elif distance == 2:\n",
    "        print(2)\n",
    "    else:\n",
    "        left = 2\n",
    "        right = 1\n",
    "        needed = 3\n",
    "        while True:\n",
    "            if distance > get_sum(left) + get_sum(right):\n",
    "                if left > right:\n",
    "                    right += 1\n",
    "                else:\n",
    "                    left += 1\n",
    "                needed += 1\n",
    "            else:\n",
    "                print(needed)\n",
    "                break"
   ]
  },
  {
   "cell_type": "markdown",
   "metadata": {},
   "source": [
    "### 직사각형 2527\n",
    "- 수학, 기하학"
   ]
  },
  {
   "cell_type": "code",
   "execution_count": 14,
   "metadata": {},
   "outputs": [
    {
     "name": "stdout",
     "output_type": "stream",
     "text": [
      "3 10 50 60 100 100 200 300\n",
      "d\n",
      "45 50 600 600 400 450 500 543\n",
      "a\n",
      "11 120 120 230 50 40 60 440\n",
      "a\n",
      "35 56 67 90 67 80 500 600\n",
      "b\n"
     ]
    }
   ],
   "source": [
    "for _ in range(4):\n",
    "    asx, asy, aex, aey, bsx, bsy, bex, bey = map(int, input().split())\n",
    "    \n",
    "    if (asx, asy) == (bex, bey) or (asy, aey) == (bex, bsy) or (aex, aey) == (bsx, bsy) or (aex, asy) == (bsx, bey):\n",
    "        print('c')\n",
    "    elif aey < bsy or bey < asy or aex < bsx or bex < asx:\n",
    "        print('d')\n",
    "    elif (aex == bsx and (bsy < aey or asy < bey)) or (aey == bsy and (bsx < aex or asx < bex)) or (asx == bex and (asy < bey or bsy < aey)) or (asy == bey and (asx < bex or bsx < aex)):\n",
    "        print('b')\n",
    "    else:\n",
    "        print('a')"
   ]
  }
 ],
 "metadata": {
  "kernelspec": {
   "display_name": "Python 3",
   "language": "python",
   "name": "python3"
  },
  "language_info": {
   "codemirror_mode": {
    "name": "ipython",
    "version": 3
   },
   "file_extension": ".py",
   "mimetype": "text/x-python",
   "name": "python",
   "nbconvert_exporter": "python",
   "pygments_lexer": "ipython3",
   "version": "3.7.3"
  }
 },
 "nbformat": 4,
 "nbformat_minor": 4
}
