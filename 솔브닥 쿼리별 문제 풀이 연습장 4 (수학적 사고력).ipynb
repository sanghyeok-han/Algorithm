{
 "cells": [
  {
   "cell_type": "raw",
   "metadata": {},
   "source": [
    "tag:math tier:s1..g4 solved:500.. - solved_by:$me"
   ]
  },
  {
   "cell_type": "markdown",
   "metadata": {},
   "source": [
    "### 거의 소수 1456"
   ]
  },
  {
   "cell_type": "code",
   "execution_count": 14,
   "metadata": {},
   "outputs": [
    {
     "name": "stdout",
     "output_type": "stream",
     "text": [
      "236\n"
     ]
    }
   ],
   "source": [
    "a, b = map(int, input().split())\n",
    "\n",
    "max_num = 10000001\n",
    "ip = [True] * max_num\n",
    "ip[0] = ip[1] = 0\n",
    "for mod in range(2, int(max_num ** 0.5) + 1):\n",
    "    if ip[mod]:\n",
    "        for v in range(mod * mod, max_num, mod):\n",
    "            ip[v] = False\n",
    "    \n",
    "primes = [i for i, v in enumerate(ip) if v]\n",
    "\n",
    "st = set()\n",
    "for p in primes:\n",
    "    cur = p * p\n",
    "    while cur <= b:\n",
    "        if cur >= a:\n",
    "            st.add(cur)\n",
    "        cur *= p\n",
    "        \n",
    "print(len(st))"
   ]
  },
  {
   "cell_type": "markdown",
   "metadata": {},
   "source": [
    "### 최대 곱 1500"
   ]
  },
  {
   "cell_type": "code",
   "execution_count": 18,
   "metadata": {},
   "outputs": [
    {
     "name": "stdout",
     "output_type": "stream",
     "text": [
      "10 4\n",
      "36\n"
     ]
    }
   ],
   "source": [
    "s, k = map(int, input().split())\n",
    "\n",
    "base = s // k\n",
    "remain = s % k\n",
    "\n",
    "cur = base\n",
    "for _ in range(k - 1):\n",
    "    if remain:\n",
    "        remain -= 1\n",
    "        cur *= base + 1\n",
    "    else:\n",
    "        cur *= base\n",
    "    \n",
    "print(cur)"
   ]
  },
  {
   "cell_type": "markdown",
   "metadata": {},
   "source": [
    "### 다이어트 1484"
   ]
  },
  {
   "cell_type": "code",
   "execution_count": 23,
   "metadata": {},
   "outputs": [
    {
     "name": "stdout",
     "output_type": "stream",
     "text": [
      "15\n",
      "4\n",
      "8\n"
     ]
    }
   ],
   "source": [
    "g = int(input())\n",
    "\n",
    "a = 1\n",
    "while True:\n",
    "    if a ** 2 - (a - 1) ** 2 > g:\n",
    "        a -= 1\n",
    "        break\n",
    "    a += 1\n",
    "\n",
    "li = []\n",
    "for i in range(1, a + 1):\n",
    "    li.append(i ** 2)\n",
    "\n",
    "s = 0\n",
    "e = 0\n",
    "result = []\n",
    "while e < len(li):\n",
    "    value = li[e] - li[s]\n",
    "    if value == g:\n",
    "        result.append(int(li[e] ** 0.5))\n",
    "        e += 1\n",
    "    elif value < g:\n",
    "        e += 1\n",
    "    else:\n",
    "        s += 1\n",
    "        \n",
    "if not result:\n",
    "    print(-1)\n",
    "else:\n",
    "    print('\\n'.join(map(str, result)))"
   ]
  },
  {
   "cell_type": "markdown",
   "metadata": {},
   "source": [
    "### 그리드 그래프 10252"
   ]
  },
  {
   "cell_type": "code",
   "execution_count": 25,
   "metadata": {},
   "outputs": [
    {
     "name": "stdout",
     "output_type": "stream",
     "text": [
      "1\n",
      "3 3\n",
      "1\n",
      "(0,0)\n",
      "(1,0)\n",
      "(1,1)\n",
      "(0,1)\n",
      "(0,2)\n",
      "(1,2)\n",
      "(2,2)\n",
      "(2,1)\n",
      "(2,0)\n"
     ]
    }
   ],
   "source": [
    "for _ in range(int(input())):\n",
    "    n, m = map(int, input().split())\n",
    "\n",
    "    print(1)\n",
    "    if m % 2 == 0:\n",
    "        for j in range(m):\n",
    "            if j % 2 == 0:\n",
    "                for i in range(n):\n",
    "                    print(f'({i},{j})')\n",
    "            else:\n",
    "                for i in range(n - 1, -1, -1):\n",
    "                    print(f'({i},{j})')\n",
    "    else:\n",
    "        if n % 2 == 0:\n",
    "            for i in range(n):\n",
    "                if i % 2 == 0:\n",
    "                    for j in range(m):\n",
    "                        print(f'({i},{j})')\n",
    "                else:\n",
    "                    for j in range(m - 1, -1, -1):\n",
    "                        print(f'({i},{j})')\n",
    "        else:\n",
    "            for j in range(m):\n",
    "                if j % 2 == 0:\n",
    "                    for i in range(n - 1):\n",
    "                        print(f'({i},{j})')\n",
    "                else:\n",
    "                    for i in range(n - 2, -1, -1):\n",
    "                        print(f'({i},{j})')        \n",
    "            for j in range(m - 1, -1, -1):\n",
    "                print(f'({n - 1},{j})')"
   ]
  },
  {
   "cell_type": "markdown",
   "metadata": {},
   "source": [
    "### 인형들 15954"
   ]
  },
  {
   "cell_type": "code",
   "execution_count": 80,
   "metadata": {},
   "outputs": [
    {
     "name": "stdout",
     "output_type": "stream",
     "text": [
      "10 3\n",
      "1 4 1 5 9 2 6 5 3 5\n",
      "0.9428090415820634\n"
     ]
    }
   ],
   "source": [
    "def get_sd(value, kk):\n",
    "    avg = sum(value) / kk\n",
    "    s = 0\n",
    "    for v in value:\n",
    "        s += (v - avg) ** 2\n",
    "    return s / kk\n",
    "\n",
    "n, k = map(int, input().split())\n",
    "li = list(map(int, input().split()))\n",
    "\n",
    "min_sd = float('inf')\n",
    "for kk in range(k, n + 1):\n",
    "    for si in range(n - int(kk) + 1):\n",
    "        temp = li[si:si + kk]\n",
    "        sd = get_sd(temp, kk)\n",
    "        min_sd = min(min_sd, sd)\n",
    "    \n",
    "print(min_sd ** 0.5)"
   ]
  },
  {
   "cell_type": "markdown",
   "metadata": {},
   "source": [
    "### 4와 7 2877"
   ]
  },
  {
   "cell_type": "code",
   "execution_count": 113,
   "metadata": {},
   "outputs": [
    {
     "name": "stdout",
     "output_type": "stream",
     "text": [
      "7\n",
      "444\n"
     ]
    }
   ],
   "source": [
    "k = int(input())\n",
    "\n",
    "dc = 1 # digit count\n",
    "cumul = 0\n",
    "while True:\n",
    "    ncumul = cumul + 2 ** dc\n",
    "    if k <= ncumul:\n",
    "        k -= cumul\n",
    "        break\n",
    "    cumul = ncumul\n",
    "    dc += 1\n",
    "    \n",
    "k -= 1\n",
    "\n",
    "temp = []\n",
    "while dc:\n",
    "    temp.append(k % 2)\n",
    "    k //= 2\n",
    "    dc -= 1\n",
    "    \n",
    "temp.reverse()\n",
    "r = ''\n",
    "for v in temp:\n",
    "    if v:\n",
    "        r += '7'\n",
    "    else:\n",
    "        r += '4'\n",
    "        \n",
    "print(r)"
   ]
  },
  {
   "cell_type": "markdown",
   "metadata": {},
   "source": [
    "### 검문"
   ]
  },
  {
   "cell_type": "code",
   "execution_count": 197,
   "metadata": {},
   "outputs": [
    {
     "name": "stdout",
     "output_type": "stream",
     "text": [
      "3\n",
      "2\n",
      "6\n",
      "10\n",
      "2 4\n"
     ]
    }
   ],
   "source": [
    "from math import gcd\n",
    "\n",
    "def get_divisors(num):\n",
    "    dvs = set()\n",
    "    for mod in range(2, int(num ** 0.5) + 1):\n",
    "        if num % mod == 0:\n",
    "            dvs.add(mod)\n",
    "            dvs.add(num // mod)\n",
    "            \n",
    "    dvs.add(num)\n",
    "    \n",
    "    return sorted(dvs)\n",
    "\n",
    "n = int(input())\n",
    "li = [int(input()) for _ in range(n)]\n",
    "\n",
    "li.sort()\n",
    "diff = [b - a for a, b in zip(li[:-1], li[1:])]\n",
    "\n",
    "g = diff[0]\n",
    "for i in range(1, len(diff)):\n",
    "    g = gcd(g, diff[i])\n",
    "    \n",
    "print(*get_divisors(g))"
   ]
  },
  {
   "cell_type": "code",
   "execution_count": null,
   "metadata": {},
   "outputs": [],
   "source": [
    "# 확인용\n",
    "r = []\n",
    "for i in range(1, 100):\n",
    "    print(f'by:{i}', end=' ')\n",
    "    st = set()\n",
    "    for j in range(n):\n",
    "        st.add(li[j] % i)\n",
    "        print(li[j] % i, end=' ')\n",
    "    print()\n",
    "    \n",
    "    if len(st) == 1:\n",
    "        r.append(i)\n",
    "        \n",
    "print(r)"
   ]
  },
  {
   "cell_type": "markdown",
   "metadata": {},
   "source": [
    "### 네 개의 소수 1153"
   ]
  },
  {
   "cell_type": "code",
   "execution_count": 19,
   "metadata": {},
   "outputs": [
    {
     "name": "stdout",
     "output_type": "stream",
     "text": [
      "37\n",
      "2 3 3 29\n"
     ]
    }
   ],
   "source": [
    "def check():\n",
    "    for v in primes:\n",
    "        if n - v in primes:\n",
    "            return (v, n - v)\n",
    "    return False\n",
    "\n",
    "max_num = 1000001\n",
    "ip = [True] * max_num\n",
    "ip[0] = ip[1] = 0\n",
    "for mod in range(2, int(max_num ** 0.5) + 1):\n",
    "    if ip[mod]:\n",
    "        for v in range(mod * mod, max_num, mod):\n",
    "            ip[v] = False\n",
    "    \n",
    "primes = {i for i, v in enumerate(ip) if v}\n",
    "\n",
    "n = int(input())\n",
    "\n",
    "if n < 8:\n",
    "    print(-1)\n",
    "else:\n",
    "    result = []\n",
    "    if n % 2 == 1:\n",
    "        n -= 5\n",
    "        result.extend([2, 3])\n",
    "        temp = check()\n",
    "        if temp:\n",
    "            result.extend(temp)\n",
    "            print(*sorted(result))\n",
    "        else:\n",
    "            print(-1)         \n",
    "    else:\n",
    "        n -= 4\n",
    "        result.extend([2, 2])\n",
    "        temp = check()\n",
    "        if temp:\n",
    "            result.extend(temp)\n",
    "            print(*sorted(result))\n",
    "        else:\n",
    "            print(-1)"
   ]
  },
  {
   "cell_type": "code",
   "execution_count": null,
   "metadata": {},
   "outputs": [],
   "source": [
    "# 확인용\n",
    "st = set()\n",
    "for v in primes[1:23]:\n",
    "    for w in primes[1:23]:\n",
    "        st.add(v + w)\n",
    "\n",
    "sorted(st)"
   ]
  },
  {
   "cell_type": "markdown",
   "metadata": {},
   "source": [
    "### 소수&팰린드롬 1747"
   ]
  },
  {
   "cell_type": "code",
   "execution_count": 73,
   "metadata": {},
   "outputs": [
    {
     "name": "stdout",
     "output_type": "stream",
     "text": [
      "7\n",
      "11\n"
     ]
    }
   ],
   "source": [
    "max_num = 1100000\n",
    "ip = [True] * max_num\n",
    "ip[0] = ip[1] = 0\n",
    "for mod in range(2, int(max_num ** 0.5) + 1):\n",
    "    if ip[mod]:\n",
    "        for v in range(mod * mod, max_num, mod):\n",
    "            ip[v] = False\n",
    "    \n",
    "primes = [i for i, v in enumerate(ip) if v]\n",
    "\n",
    "def check(num):\n",
    "    s = str(num)\n",
    "    ls = len(s)\n",
    "    \n",
    "    for i in range(ls // 2):\n",
    "        if s[i] != s[ls - 1 - i]:\n",
    "            return False\n",
    "    return True\n",
    "\n",
    "n = int(input())\n",
    "if n <= 2:\n",
    "    print(2)\n",
    "elif n <= 3:\n",
    "    print(3)\n",
    "elif n <= 5:\n",
    "    print(5)\n",
    "elif n < 7:\n",
    "    print(7)\n",
    "elif n <= 11:\n",
    "    print(11)\n",
    "else:\n",
    "    if n % 2 == 0:\n",
    "        n += 1\n",
    "        \n",
    "    for v in primes:\n",
    "        if v < n:\n",
    "            continue\n",
    "        if check(v):\n",
    "            print(v)\n",
    "            break"
   ]
  },
  {
   "cell_type": "markdown",
   "metadata": {},
   "source": [
    "### 공약수 2436"
   ]
  },
  {
   "cell_type": "code",
   "execution_count": 74,
   "metadata": {},
   "outputs": [
    {
     "name": "stdout",
     "output_type": "stream",
     "text": [
      "6 180\n"
     ]
    }
   ],
   "source": [
    "g, l = map(int, input().split())"
   ]
  },
  {
   "cell_type": "code",
   "execution_count": 92,
   "metadata": {},
   "outputs": [
    {
     "name": "stdout",
     "output_type": "stream",
     "text": [
      "6 180\n"
     ]
    }
   ],
   "source": [
    "from math import gcd\n",
    "lcm = lambda a, b: a * b // gcd(a, b)\n",
    "\n",
    "a, b = 6, 180\n",
    "g = gcd(a, b)\n",
    "l = lcm(a, b)\n",
    "\n",
    "print(g, l)"
   ]
  },
  {
   "cell_type": "code",
   "execution_count": 81,
   "metadata": {},
   "outputs": [
    {
     "data": {
      "text/plain": [
       "30"
      ]
     },
     "execution_count": 81,
     "metadata": {},
     "output_type": "execute_result"
    }
   ],
   "source": [
    "180 // 6"
   ]
  },
  {
   "cell_type": "code",
   "execution_count": 83,
   "metadata": {},
   "outputs": [
    {
     "data": {
      "text/plain": [
       "1080"
      ]
     },
     "execution_count": 83,
     "metadata": {},
     "output_type": "execute_result"
    }
   ],
   "source": [
    "6 * 180"
   ]
  },
  {
   "cell_type": "code",
   "execution_count": 106,
   "metadata": {},
   "outputs": [
    {
     "name": "stdout",
     "output_type": "stream",
     "text": [
      "6 180\n",
      "30 36\n"
     ]
    }
   ],
   "source": [
    "from math import gcd\n",
    "\n",
    "def get_divisors(num):\n",
    "    dvs = set()\n",
    "    for mod in range(1, int(num ** 0.5) + 1):\n",
    "        if num % mod == 0:\n",
    "            dvs.add(mod)\n",
    "            dvs.add(num // mod)\n",
    "            \n",
    "    return sorted(dvs)\n",
    "\n",
    "g, l = map(int, input().split())\n",
    "\n",
    "dvs = get_divisors(l)\n",
    "min_sum = float('inf')\n",
    "cands = [0, 0]\n",
    "for v in dvs:\n",
    "    a = g * v\n",
    "    b = l // v\n",
    "    \n",
    "    t = a + b\n",
    "    if gcd(a, b) == g and t < min_sum:\n",
    "        min_sum = t\n",
    "        cands = [a, b]\n",
    "        \n",
    "print(*sorted(cands))"
   ]
  },
  {
   "cell_type": "markdown",
   "metadata": {},
   "source": [
    "### 마지막 팩토리얼 수 2553"
   ]
  },
  {
   "cell_type": "code",
   "execution_count": 144,
   "metadata": {},
   "outputs": [
    {
     "name": "stdout",
     "output_type": "stream",
     "text": [
      "10000\n",
      "2\n"
     ]
    }
   ],
   "source": [
    "n = int(input())\n",
    "\n",
    "cumul = 1\n",
    "for i in range(2, n + 1):\n",
    "    while i % 10 == 0:\n",
    "        i //= 10\n",
    "    i %= 1000000\n",
    "    \n",
    "    cumul *= i\n",
    "    \n",
    "    while cumul % 10 == 0:\n",
    "        cumul //= 10\n",
    "    cumul %= 1000000\n",
    "    \n",
    "print(cumul % 10)"
   ]
  }
 ],
 "metadata": {
  "kernelspec": {
   "display_name": "Python 3",
   "language": "python",
   "name": "python3"
  },
  "language_info": {
   "codemirror_mode": {
    "name": "ipython",
    "version": 3
   },
   "file_extension": ".py",
   "mimetype": "text/x-python",
   "name": "python",
   "nbconvert_exporter": "python",
   "pygments_lexer": "ipython3",
   "version": "3.7.3"
  }
 },
 "nbformat": 4,
 "nbformat_minor": 4
}
