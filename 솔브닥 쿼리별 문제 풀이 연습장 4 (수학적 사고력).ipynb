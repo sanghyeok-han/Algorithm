{
 "cells": [
  {
   "cell_type": "raw",
   "metadata": {},
   "source": [
    "tag:math tier:s1..g4 solved:500.. - solved_by:$me\n",
    "난이도 오름차순"
   ]
  },
  {
   "cell_type": "markdown",
   "metadata": {},
   "source": [
    "### 거의 소수 1456"
   ]
  },
  {
   "cell_type": "code",
   "execution_count": 14,
   "metadata": {},
   "outputs": [
    {
     "name": "stdout",
     "output_type": "stream",
     "text": [
      "236\n"
     ]
    }
   ],
   "source": [
    "a, b = map(int, input().split())\n",
    "\n",
    "max_num = 10000001\n",
    "ip = [True] * max_num\n",
    "ip[0] = ip[1] = 0\n",
    "for mod in range(2, int(max_num ** 0.5) + 1):\n",
    "    if ip[mod]:\n",
    "        for v in range(mod * mod, max_num, mod):\n",
    "            ip[v] = False\n",
    "    \n",
    "primes = [i for i, v in enumerate(ip) if v]\n",
    "\n",
    "st = set()\n",
    "for p in primes:\n",
    "    cur = p * p\n",
    "    while cur <= b:\n",
    "        if cur >= a:\n",
    "            st.add(cur)\n",
    "        cur *= p\n",
    "        \n",
    "print(len(st))"
   ]
  },
  {
   "cell_type": "markdown",
   "metadata": {},
   "source": [
    "### 최대 곱 1500"
   ]
  },
  {
   "cell_type": "code",
   "execution_count": 18,
   "metadata": {},
   "outputs": [
    {
     "name": "stdout",
     "output_type": "stream",
     "text": [
      "10 4\n",
      "36\n"
     ]
    }
   ],
   "source": [
    "s, k = map(int, input().split())\n",
    "\n",
    "base = s // k\n",
    "remain = s % k\n",
    "\n",
    "cur = base\n",
    "for _ in range(k - 1):\n",
    "    if remain:\n",
    "        remain -= 1\n",
    "        cur *= base + 1\n",
    "    else:\n",
    "        cur *= base\n",
    "    \n",
    "print(cur)"
   ]
  },
  {
   "cell_type": "code",
   "execution_count": null,
   "metadata": {},
   "outputs": [],
   "source": []
  }
 ],
 "metadata": {
  "kernelspec": {
   "display_name": "Python 3",
   "language": "python",
   "name": "python3"
  },
  "language_info": {
   "codemirror_mode": {
    "name": "ipython",
    "version": 3
   },
   "file_extension": ".py",
   "mimetype": "text/x-python",
   "name": "python",
   "nbconvert_exporter": "python",
   "pygments_lexer": "ipython3",
   "version": "3.7.3"
  }
 },
 "nbformat": 4,
 "nbformat_minor": 4
}
