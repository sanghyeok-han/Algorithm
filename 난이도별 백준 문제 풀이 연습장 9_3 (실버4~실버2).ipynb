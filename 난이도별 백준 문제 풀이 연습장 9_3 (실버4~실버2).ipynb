{
 "cells": [
  {
   "cell_type": "markdown",
   "metadata": {},
   "source": [
    "tier:s4 solved:100.. - solved_by:hsh8086 - id:6986 - id:18110 - id:16463 - id:6600 - id:10882"
   ]
  },
  {
   "cell_type": "raw",
   "metadata": {},
   "source": [
    "tier:s3 solved:100.. - solved_by:hsh8086 - tag:arbitrary_precision -id:1166"
   ]
  },
  {
   "cell_type": "markdown",
   "metadata": {},
   "source": [
    "### 프로그래밍 대회 전용 부지 9414"
   ]
  },
  {
   "cell_type": "code",
   "execution_count": 6,
   "metadata": {},
   "outputs": [
    {
     "name": "stdout",
     "output_type": "stream",
     "text": [
      "20\n",
      "29\n",
      "31\n",
      "0\n",
      "17744\n"
     ]
    }
   ],
   "source": [
    "import sys\n",
    "# input = lambda: sys.stdin.readline().rstrip()\n",
    "\n",
    "for _ in range(int(input())):\n",
    "    li = []\n",
    "    while True:\n",
    "        v = int(input())\n",
    "        if v == 0:\n",
    "            break\n",
    "\n",
    "        li.append(v)\n",
    "\n",
    "    li.sort(reverse=True)\n",
    "\n",
    "    total = 0\n",
    "    w = 1\n",
    "    for i in range(len(li)):\n",
    "        total += 2 * li[i] ** w\n",
    "        w += 1\n",
    "\n",
    "    if total > 5 * int(1e6):\n",
    "        print('Too expensive')\n",
    "    else:\n",
    "        print(total)"
   ]
  },
  {
   "cell_type": "markdown",
   "metadata": {},
   "source": [
    "### 진우의 달 여행 (Small) 17474"
   ]
  },
  {
   "cell_type": "code",
   "execution_count": 22,
   "metadata": {},
   "outputs": [
    {
     "name": "stdout",
     "output_type": "stream",
     "text": [
      "6 4\n",
      "5 8 5 1\n",
      "3 5 8 4\n",
      "9 77 65 5\n",
      "2 1 5 2\n",
      "5 98 1 5\n",
      "4 95 67 58\n",
      "29\n"
     ]
    }
   ],
   "source": [
    "n, m = map(int, input().split())\n",
    "li = [list(map(int, input().split())) for _ in range(n)]\n",
    "\n",
    "dp = [[[float('inf')] * 3 for _ in range(m)] for _ in range(n)]\n",
    "for j in range(m):\n",
    "    for k in range(3):\n",
    "        dp[0][j][k] = li[0][j]\n",
    "        \n",
    "dp[0][0][0] = float('inf')\n",
    "dp[0][-1][-1] = float('inf')\n",
    "\n",
    "for i in range(1, n):\n",
    "    for j in range(m):\n",
    "        for k in range(3):\n",
    "            if k == 0:\n",
    "                if j == 0:\n",
    "                    continue\n",
    "                dp[i][j][k] = min(dp[i - 1][j - 1][1], dp[i - 1][j - 1][2]) + li[i][j]\n",
    "            elif k == 1:\n",
    "                dp[i][j][k] = min(dp[i - 1][j][0], dp[i - 1][j][2]) + li[i][j]\n",
    "            else:\n",
    "                if j == m - 1:\n",
    "                    continue\n",
    "                dp[i][j][k] = min(dp[i - 1][j + 1][0], dp[i - 1][j + 1][1]) + li[i][j]\n",
    "\n",
    "r = min(sum(dp[-1], []))\n",
    "\n",
    "print(r)"
   ]
  },
  {
   "cell_type": "code",
   "execution_count": 28,
   "metadata": {},
   "outputs": [
    {
     "name": "stdout",
     "output_type": "stream",
     "text": [
      "H H H\n",
      "H T H\n",
      "H H H\n",
      "4\n"
     ]
    }
   ],
   "source": [
    "from collections import deque\n",
    "from copy import deepcopy\n",
    "\n",
    "for _ in range(int(input())):\n",
    "    li = [input().split() for _ in range(3)]\n",
    "    for i in range(3):\n",
    "        for j in range(3):\n",
    "            if li[i][j] == 'H':\n",
    "                li[i][j] = 0\n",
    "            else:\n",
    "                li[i][j] = 1\n",
    "\n",
    "    vt = set()\n",
    "    vt.add(tuple(sum(li, [])))\n",
    "    queue = deque()\n",
    "    queue.append((li, 0))\n",
    "    r = -1\n",
    "    while queue:\n",
    "        li, count = queue.popleft()\n",
    "\n",
    "        temp = sum(sum(li, []))\n",
    "        if temp == 0 or temp == 9:\n",
    "            r = count\n",
    "            break\n",
    "\n",
    "        ncount = count + 1\n",
    "\n",
    "        for i in range(3):\n",
    "            nli = deepcopy(li)\n",
    "            for j in range(3):\n",
    "                nli[i][j] ^= 1\n",
    "\n",
    "            tnli = tuple(sum(nli, []))\n",
    "            if tnli in vt:\n",
    "                continue\n",
    "            vt.add(tnli)\n",
    "            queue.append((nli, ncount))\n",
    "\n",
    "        for j in range(3):\n",
    "            nli = deepcopy(li)\n",
    "            for i in range(3):\n",
    "                nli[i][j] ^= 1\n",
    "\n",
    "            tnli = tuple(sum(nli, []))\n",
    "            if tnli in vt:\n",
    "                continue\n",
    "            vt.add(tnli)\n",
    "            queue.append((nli, ncount))\n",
    "\n",
    "        nli = deepcopy(li)\n",
    "        for i in range(3):\n",
    "            nli[i][i] ^= 1\n",
    "\n",
    "        tnli = tuple(sum(nli, []))\n",
    "        if tnli in vt:\n",
    "            continue\n",
    "        vt.add(tnli)\n",
    "        queue.append((nli, ncount))\n",
    "\n",
    "        nli = deepcopy(li)\n",
    "        for i in range(3):\n",
    "            nli[i][2 - i] ^= 1\n",
    "\n",
    "        tnli = tuple(sum(nli, []))\n",
    "        if tnli in vt:\n",
    "            continue\n",
    "        vt.add(tnli)\n",
    "        queue.append((nli, ncount))\n",
    "\n",
    "    print(r)"
   ]
  },
  {
   "cell_type": "markdown",
   "metadata": {},
   "source": [
    "### 밸런스 스톤 15788"
   ]
  },
  {
   "cell_type": "code",
   "execution_count": 38,
   "metadata": {},
   "outputs": [
    {
     "name": "stdout",
     "output_type": "stream",
     "text": [
      "2\n",
      "1 0\n",
      "2 1\n",
      "-1\n"
     ]
    }
   ],
   "source": [
    "n = int(input())\n",
    "li = [list(map(int, input().split())) for _ in range(n)]\n",
    "\n",
    "x = y = -1\n",
    "for i in range(n):\n",
    "    for j in range(n):\n",
    "        if li[i][j] == 0:\n",
    "            x, y = i, j\n",
    "            break\n",
    "    if x != -1:\n",
    "        break\n",
    "\n",
    "icds = [] # included\n",
    "not_icds = [] # not included\n",
    "for i in range(n):\n",
    "    sv = sum(li[i])\n",
    "    if i == x:\n",
    "        icds.append(sv)\n",
    "    else:\n",
    "        not_icds.append(sv)\n",
    "        \n",
    "for j in range(n):\n",
    "    sv = 0\n",
    "    for i in range(n):\n",
    "        sv += li[i][j]\n",
    "    if j == y:\n",
    "        icds.append(sv)\n",
    "    else:\n",
    "        not_icds.append(sv)\n",
    "    \n",
    "sv = 0\n",
    "for i in range(n):\n",
    "    sv += li[i][i]\n",
    "if x == y:\n",
    "    icds.append(sv)\n",
    "else:\n",
    "    not_icds.append(sv)\n",
    "    \n",
    "sv = 0\n",
    "for i in range(n):\n",
    "    sv += li[i][n - 1 - i]\n",
    "if y == n - 1 - x:\n",
    "    icds.append(sv)\n",
    "else:\n",
    "    not_icds.append(sv)\n",
    "    \n",
    "if len(set(icds)) >= 2 or len(set(not_icds)) >= 2:\n",
    "    print(-1)\n",
    "else:\n",
    "    r = not_icds[0] - icds[0]\n",
    "    \n",
    "    print(r)"
   ]
  },
  {
   "cell_type": "markdown",
   "metadata": {},
   "source": [
    "### Rainbow Beads 17164"
   ]
  },
  {
   "cell_type": "code",
   "execution_count": 49,
   "metadata": {},
   "outputs": [
    {
     "name": "stdout",
     "output_type": "stream",
     "text": [
      "5\n",
      "RBVRBV\n",
      "2\n"
     ]
    }
   ],
   "source": [
    "n = int(input())\n",
    "s = input()\n",
    "\n",
    "max_cont = 1\n",
    "fv = ''\n",
    "cont = 0\n",
    "for v in s:\n",
    "    if v == 'V':\n",
    "        max_cont = max(max_cont, cont)\n",
    "        cont = 1\n",
    "    else:\n",
    "        if fv != 'V':\n",
    "            if v != fv:\n",
    "                cont += 1\n",
    "            else:\n",
    "                max_cont = max(max_cont, cont)\n",
    "                cont = 1\n",
    "    fv = v\n",
    "    \n",
    "max_cont = max(max_cont, cont)\n",
    "    \n",
    "print(max_cont)"
   ]
  },
  {
   "cell_type": "markdown",
   "metadata": {},
   "source": [
    "### 단어 개수 세기 19844"
   ]
  },
  {
   "cell_type": "code",
   "execution_count": 75,
   "metadata": {},
   "outputs": [
    {
     "name": "stdout",
     "output_type": "stream",
     "text": [
      "qu'est-ce qu'il mange aujourd'hui\n",
      "7\n"
     ]
    }
   ],
   "source": [
    "def get_count(ss):\n",
    "    if ss[0] in former and ss[1:2] == \"'\" and ss[2:3] in last:\n",
    "        return 2\n",
    "    if ss[0:2] in former and ss[2:3] == \"'\" and ss[3:4] in last:\n",
    "        return 2\n",
    "    else:\n",
    "        return 1\n",
    "\n",
    "former = {'c', 'j', 'n', 'm', 't', 's', 'l', 'd', 'qu'}\n",
    "last = {'a', 'e', 'i', 'o', 'u', 'h'}\n",
    "\n",
    "s = input()\n",
    "\n",
    "s = s.replace('-', ' ')\n",
    "li = s.split()\n",
    "    \n",
    "total = 0\n",
    "for ss in li:\n",
    "    total += get_count(ss)\n",
    "    \n",
    "print(total)"
   ]
  },
  {
   "cell_type": "markdown",
   "metadata": {},
   "source": [
    "### 교수님의 기말고사 20126"
   ]
  },
  {
   "cell_type": "code",
   "execution_count": 90,
   "metadata": {},
   "outputs": [
    {
     "name": "stdout",
     "output_type": "stream",
     "text": [
      "2 1 5\n",
      "3 1\n",
      "4 1\n",
      "0\n"
     ]
    }
   ],
   "source": [
    "import sys\n",
    "# input = lambda: sys.stdin.readline().rstrip()\n",
    "\n",
    "n, m, s = map(int, input().split())\n",
    "li = [[0, 0]] + [list(map(int, input().split())) for _ in range(n)] + [[s, 0]]\n",
    "\n",
    "li.sort(key=lambda x: x[0])\n",
    "r = -1\n",
    "for i in range(len(li) - 1):\n",
    "    if li[i][0] + li[i][1] + m <= li[i + 1][0]:\n",
    "        r = li[i][0] + li[i][1]\n",
    "        break\n",
    "        \n",
    "print(r)"
   ]
  },
  {
   "cell_type": "markdown",
   "metadata": {},
   "source": [
    "### The Great Revegetation (Bronze) 17040"
   ]
  },
  {
   "cell_type": "code",
   "execution_count": 8,
   "metadata": {},
   "outputs": [
    {
     "name": "stdout",
     "output_type": "stream",
     "text": [
      "12133\n"
     ]
    }
   ],
   "source": [
    "n, m = map(int, input().split())\n",
    "\n",
    "li = [[] for _ in range(n)]\n",
    "for _ in range(m):\n",
    "    a, b = map(int, input().split())\n",
    "    a -= 1\n",
    "    b -= 1\n",
    "    \n",
    "    li[a].append(b)\n",
    "    li[b].append(a)\n",
    "    \n",
    "for v in li:\n",
    "    v.sort()\n",
    "    \n",
    "r = [0] * n\n",
    "is_resulted = False\n",
    "def bt(cur):\n",
    "    global is_resulted\n",
    "    if is_resulted:\n",
    "        return\n",
    "    \n",
    "    if cur == n:\n",
    "        is_resulted = True\n",
    "        return\n",
    "    \n",
    "    for num in range(1, 5):\n",
    "        r[cur] = num\n",
    "        ip = True\n",
    "        for index in li[cur]:\n",
    "            if index > cur:\n",
    "                break\n",
    "            if r[index] == num:\n",
    "                ip = False\n",
    "                break\n",
    "                \n",
    "        if ip:\n",
    "            bt(cur + 1)\n",
    "        if is_resulted:\n",
    "            return\n",
    "        \n",
    "bt(0)\n",
    "        \n",
    "r = ''.join(map(str, r))\n",
    "    \n",
    "print(r)"
   ]
  },
  {
   "cell_type": "code",
   "execution_count": 18,
   "metadata": {},
   "outputs": [
    {
     "name": "stdout",
     "output_type": "stream",
     "text": [
      "12133\n"
     ]
    }
   ],
   "source": [
    "n, m = map(int, input().split())\n",
    "get_value = lambda x: int(x) - 1\n",
    "li = [list(map(get_value, input().split())) for _ in range(m)]\n",
    "for v in li:\n",
    "    v.sort()\n",
    "    \n",
    "r = [1] * n\n",
    "for a, b in sorted(li):\n",
    "    if r[a] == r[b]:\n",
    "        r[b] += 1\n",
    "    \n",
    "r =  ''.join(map(str, r))\n",
    "\n",
    "print(r)"
   ]
  },
  {
   "cell_type": "markdown",
   "metadata": {},
   "source": [
    "### 배열 복원하기 16967"
   ]
  },
  {
   "cell_type": "code",
   "execution_count": 97,
   "metadata": {},
   "outputs": [
    {
     "name": "stdout",
     "output_type": "stream",
     "text": [
      "2 4 1 1\n",
      "1 2 3 4 0\n",
      "5 7 9 11 4\n",
      "0 5 6 7 8\n",
      "1 2 3 4\n",
      "5 6 7 8\n"
     ]
    }
   ],
   "source": [
    "h, w, x, y = map(int, input().split())\n",
    "b = [list(map(int, input().split())) for _ in range(h + x)]\n",
    "\n",
    "a = [[-1] * w for _ in range(h)]\n",
    "for i in range(x):\n",
    "    for j in range(w):\n",
    "        a[i][j] = b[i][j]\n",
    "        \n",
    "for j in range(y):\n",
    "    for i in range(h):\n",
    "        a[i][j] = b[i][j]\n",
    "        \n",
    "for i in range(h):\n",
    "    for j in range(w):\n",
    "        if a[i][j] == -1:\n",
    "            a[i][j] = b[i][j] - a[i - x][j - y]\n",
    "            \n",
    "for v in a:\n",
    "    print(*v)"
   ]
  },
  {
   "cell_type": "markdown",
   "metadata": {},
   "source": [
    "### 놀라운 문자열 1972"
   ]
  },
  {
   "cell_type": "code",
   "execution_count": 101,
   "metadata": {},
   "outputs": [
    {
     "name": "stdout",
     "output_type": "stream",
     "text": [
      "ZGBG\n",
      "ZGBG is surprising.\n",
      "*/\n",
      "*/ is surprising.\n",
      "*/\n",
      "*/ is surprising.\n",
      "*\n"
     ]
    }
   ],
   "source": [
    "import sys\n",
    "input = lambda: sys.stdin.readline().rstrip()\n",
    "\n",
    "def check(s):\n",
    "    n = len(s)\n",
    "\n",
    "    for term in range(1, n):\n",
    "        st = set()\n",
    "        for start in range(n - term):\n",
    "            temp = s[start] + s[start + term]\n",
    "            if temp in st:\n",
    "                return False\n",
    "            st.add(temp)       \n",
    "    return True\n",
    "\n",
    "while True:\n",
    "    s = input()\n",
    "    if s == '*':\n",
    "        break\n",
    "    \n",
    "    if check(s):\n",
    "        r = 'surprising.'\n",
    "    else:\n",
    "        r = 'NOT surprising.'\n",
    "        \n",
    "    print(f'{s} is {r}')"
   ]
  },
  {
   "cell_type": "markdown",
   "metadata": {},
   "source": [
    "### 로봇 13901"
   ]
  },
  {
   "cell_type": "code",
   "execution_count": 115,
   "metadata": {},
   "outputs": [
    {
     "name": "stdout",
     "output_type": "stream",
     "text": [
      "3 3\n",
      "1\n",
      "1 0\n",
      "1 1\n",
      "1 2 3 4\n",
      "0 0\n"
     ]
    }
   ],
   "source": [
    "import sys\n",
    "input = lambda: sys.stdin.readline().rstrip()\n",
    "\n",
    "r, c = map(int, input().split())\n",
    "k = int(input())\n",
    "\n",
    "li = [[0] * c for _ in range(r)]\n",
    "for _ in range(k):\n",
    "    x, y = map(int, input().split())\n",
    "    \n",
    "    li[x][y] = -1\n",
    "    \n",
    "sr, sc = map(int, input().split())\n",
    "\n",
    "d = {1: (-1, 0), 2: (1, 0), 3: (0, -1), 4: (0, 1)}\n",
    "\n",
    "seq = list(map(int, input().split()))\n",
    "\n",
    "dirs = [d[v] for v in seq]\n",
    "dx = [v[0] for v in dirs]\n",
    "dy = [v[1] for v in dirs]\n",
    "\n",
    "cur_d = 0\n",
    "x, y = sr, sc\n",
    "li[x][y] = -1\n",
    "while True:\n",
    "    ip = False\n",
    "    for _ in range(4):\n",
    "        nx = x + dx[cur_d]\n",
    "        ny = y + dy[cur_d]\n",
    "\n",
    "        if nx < 0 or nx >= r or ny < 0 or ny >= c:\n",
    "            cur_d += 1\n",
    "            cur_d %= 4\n",
    "            continue\n",
    "\n",
    "        if li[nx][ny] == -1:\n",
    "            cur_d += 1\n",
    "            cur_d %= 4\n",
    "            continue\n",
    "            \n",
    "        x, y = nx, ny\n",
    "        li[x][y] = -1\n",
    "        ip = True\n",
    "        break\n",
    "        \n",
    "    if not ip:\n",
    "        print(x, y)\n",
    "        break"
   ]
  },
  {
   "cell_type": "markdown",
   "metadata": {},
   "source": [
    "### 카드 놓기 18115"
   ]
  },
  {
   "cell_type": "code",
   "execution_count": 118,
   "metadata": {},
   "outputs": [
    {
     "name": "stdout",
     "output_type": "stream",
     "text": [
      "5\n",
      "2 3 3 2 1\n",
      "1 5 2 3 4\n"
     ]
    }
   ],
   "source": [
    "from collections import deque\n",
    "\n",
    "n = int(input())\n",
    "li = list(map(int, input().split()))\n",
    "\n",
    "cur = 1\n",
    "deq = deque()\n",
    "while li:\n",
    "    c = li.pop()\n",
    "    if c == 1:\n",
    "        deq.appendleft(cur)\n",
    "    elif c == 3:\n",
    "        deq.append(cur)\n",
    "    else:\n",
    "        temp = deq.popleft()\n",
    "        deq.appendleft(cur)\n",
    "        deq.appendleft(temp)\n",
    "    \n",
    "    cur += 1\n",
    "    \n",
    "print(*deq)"
   ]
  },
  {
   "cell_type": "markdown",
   "metadata": {},
   "source": [
    "### 영단어 암기는 괴로워 20920"
   ]
  },
  {
   "cell_type": "code",
   "execution_count": 121,
   "metadata": {},
   "outputs": [
    {
     "name": "stdout",
     "output_type": "stream",
     "text": [
      "7 4\n",
      "apple\n",
      "ant\n",
      "sand\n",
      "apple\n",
      "append\n",
      "sand\n",
      "sand\n",
      "sand\n",
      "apple\n",
      "append\n"
     ]
    }
   ],
   "source": [
    "from collections import Counter\n",
    "import sys\n",
    "input = lambda: sys.stdin.readline().rstrip()\n",
    "\n",
    "n, m = map(int, input().split())\n",
    "li = [input() for _ in range(n)]\n",
    "\n",
    "c = Counter(li)\n",
    "st = set(li)\n",
    "li = [(v, c[v], len(v)) for v in st if len(v) >= m]\n",
    "li.sort(key=lambda x: (-x[1], -x[2], x[0]))\n",
    "\n",
    "li = [v[0] for v in li]\n",
    "r = '\\n'.join(li)\n",
    "\n",
    "print(r)"
   ]
  },
  {
   "cell_type": "markdown",
   "metadata": {},
   "source": [
    "### 서강근육맨 20300"
   ]
  },
  {
   "cell_type": "code",
   "execution_count": 129,
   "metadata": {},
   "outputs": [
    {
     "name": "stdout",
     "output_type": "stream",
     "text": [
      "5\n",
      "1 1 1 1 1\n",
      "2\n"
     ]
    }
   ],
   "source": [
    "n = int(input())\n",
    "li = sorted(map(int, input().split()))\n",
    "\n",
    "if n == 1:\n",
    "    r = li[0]\n",
    "elif n % 2 == 0:\n",
    "    mv = 0 # max value\n",
    "    for i in range(n // 2):\n",
    "        mv = max(mv, li[i] + li[n - 1 - i])  \n",
    "    r = mv\n",
    "else:\n",
    "    mv = li[-1]\n",
    "    li.pop()\n",
    "    n -= 1\n",
    "    for i in range(n // 2):\n",
    "        mv = max(mv, li[i] + li[n - 1 - i])\n",
    "    r = mv\n",
    "    \n",
    "print(r)"
   ]
  },
  {
   "cell_type": "markdown",
   "metadata": {},
   "source": [
    "### 접두사 1141"
   ]
  },
  {
   "cell_type": "code",
   "execution_count": 5,
   "metadata": {},
   "outputs": [
    {
     "name": "stdout",
     "output_type": "stream",
     "text": [
      "6\n",
      "a\n",
      "ab\n",
      "abc\n",
      "abcd\n",
      "abcde\n",
      "abcdef\n",
      "1\n"
     ]
    }
   ],
   "source": [
    "def check(s):\n",
    "    sn = len(s)\n",
    "    \n",
    "    for v in result:\n",
    "        if v[:sn] == s:\n",
    "            return False\n",
    "    return True\n",
    "\n",
    "n = int(input())\n",
    "li = [input() for _ in range(n)]\n",
    "\n",
    "li.sort(key=lambda x: -len(x))\n",
    "\n",
    "result = []\n",
    "for s in li:\n",
    "    if not result:\n",
    "        result.append(s)\n",
    "    else:\n",
    "        if check(s):\n",
    "            result.append(s)\n",
    "\n",
    "r = len(result)\n",
    "\n",
    "print(r)"
   ]
  },
  {
   "cell_type": "markdown",
   "metadata": {},
   "source": [
    "### 전쟁 - 땅따먹기 1270"
   ]
  },
  {
   "cell_type": "code",
   "execution_count": 9,
   "metadata": {},
   "outputs": [
    {
     "name": "stdout",
     "output_type": "stream",
     "text": [
      "6 1 1 1 2 2 2 \n",
      "SYJKGW\n"
     ]
    }
   ],
   "source": [
    "from collections import Counter\n",
    "\n",
    "for _ in range(int(input())):\n",
    "    li = list(map(int, input().split()))\n",
    "\n",
    "    c = Counter(li[1:])\n",
    "\n",
    "    mc = c.most_common()\n",
    "    most = mc[0][1]\n",
    "    total = sum([v[1] for v in mc])\n",
    "\n",
    "    if most * 2 > total:\n",
    "        r = mc[0][0]\n",
    "    else:\n",
    "        r = 'SYJKGW'\n",
    "\n",
    "    print(r)"
   ]
  },
  {
   "cell_type": "markdown",
   "metadata": {},
   "source": [
    "### 폴짝폴짝 1326"
   ]
  },
  {
   "cell_type": "code",
   "execution_count": 18,
   "metadata": {},
   "outputs": [
    {
     "name": "stdout",
     "output_type": "stream",
     "text": [
      "4\n",
      "1 1 1 1\n",
      "4 1\n",
      "1\n"
     ]
    }
   ],
   "source": [
    "from collections import deque\n",
    "\n",
    "n = int(input())\n",
    "li = list(map(int, input().split()))\n",
    "s, e = map(int, input().split())\n",
    "s -= 1\n",
    "e -= 1\n",
    "\n",
    "dists = [float('inf')] * n\n",
    "dists[s] = 0\n",
    "\n",
    "queue = deque()\n",
    "queue.append(s)\n",
    "while queue:\n",
    "    value = queue.popleft()\n",
    "    \n",
    "    if value == e:\n",
    "        break\n",
    "        \n",
    "    for v in range(value, -1, -li[value]):\n",
    "        if dists[v] == float('inf'):\n",
    "            dists[v] = dists[value] + 1\n",
    "            queue.append(v)\n",
    "            \n",
    "    for v in range(value, n, li[value]):\n",
    "        if dists[v] == float('inf'):\n",
    "            dists[v] = dists[value] + 1\n",
    "            queue.append(v)\n",
    "        \n",
    "if dists[e] == float('inf'):\n",
    "    print(-1)\n",
    "else:\n",
    "    print(dists[e])"
   ]
  },
  {
   "cell_type": "markdown",
   "metadata": {},
   "source": [
    "### 물건 팔기 1487"
   ]
  },
  {
   "cell_type": "code",
   "execution_count": 23,
   "metadata": {},
   "outputs": [
    {
     "name": "stdout",
     "output_type": "stream",
     "text": [
      "5\n",
      "10 1\n",
      "10 5\n",
      "20 11\n",
      "20 15\n",
      "5 0\n",
      "10\n"
     ]
    }
   ],
   "source": [
    "import sys\n",
    "input = lambda: sys.stdin.readline().rstrip()\n",
    "\n",
    "n = int(input())\n",
    "li = [list(map(int, input().split())) for _ in range(n)]\n",
    "\n",
    "mv = 0 # max value\n",
    "tp = 0 # target price\n",
    "for price in range(1000000, -1, -1):\n",
    "    total = 0\n",
    "    for v in li:\n",
    "        if v[0] < price:\n",
    "            continue\n",
    "        total += max(0, price - v[1])\n",
    "        \n",
    "    if total >= mv:\n",
    "        mv = total\n",
    "        tp = price\n",
    "        \n",
    "print(tp)"
   ]
  },
  {
   "cell_type": "markdown",
   "metadata": {},
   "source": [
    "### I AM IRONMAN 17264"
   ]
  },
  {
   "cell_type": "code",
   "execution_count": 26,
   "metadata": {},
   "outputs": [
    {
     "name": "stdout",
     "output_type": "stream",
     "text": [
      "10 3\n",
      "20 15 100\n",
      "jihoon w\n",
      "gangyeop l\n",
      "minsung l\n",
      "jihoon\n",
      "myeongki\n",
      "gangyeop\n",
      "minsung\n",
      "jihoon\n",
      "I AM IRONMAN!!\n",
      "jihoon\n",
      "jihoon\n",
      "jihoon\n",
      "jihoon\n",
      "I AM IRONMAN!!\n"
     ]
    }
   ],
   "source": [
    "n, p = map(int, input().split())\n",
    "w, l, g = map(int, input().split())\n",
    "\n",
    "win_case = set()\n",
    "for _ in range(p):\n",
    "    name, r = input().split()\n",
    "    \n",
    "    if r == 'W':\n",
    "        win_case.add(name)\n",
    "        \n",
    "names = [input() for _ in range(n)]\n",
    "        \n",
    "ip = False\n",
    "cur = 0\n",
    "for name in names:\n",
    "    if name in win_case:\n",
    "        cur += w\n",
    "        \n",
    "        if cur >= g:\n",
    "            ip = True\n",
    "            break\n",
    "    else:\n",
    "        cur -= l\n",
    "        cur = max(0, cur)\n",
    "        \n",
    "if ip:\n",
    "    print('I AM NOT IRONMAN!!')\n",
    "else:\n",
    "    print('I AM IRONMAN!!')"
   ]
  },
  {
   "cell_type": "markdown",
   "metadata": {},
   "source": [
    "### 크리스마스 선물 14235"
   ]
  },
  {
   "cell_type": "code",
   "execution_count": 28,
   "metadata": {},
   "outputs": [
    {
     "name": "stdout",
     "output_type": "stream",
     "text": [
      "5\n",
      "0\n",
      "-1\n",
      "2 3 2\n",
      "0\n",
      "3\n",
      "0\n",
      "2\n",
      "0\n",
      "-1\n"
     ]
    }
   ],
   "source": [
    "from heapq import heappush, heappop\n",
    "import sys\n",
    "input = lambda: sys.stdin.readline().rstrip()\n",
    "\n",
    "n = int(input())\n",
    "\n",
    "heap = []\n",
    "for _ in range(n):\n",
    "    li = list(map(int, input().split()))\n",
    "    \n",
    "    if li[0] == 0:\n",
    "        if not heap:\n",
    "            print(-1)\n",
    "        else:\n",
    "            print(-heappop(heap))\n",
    "    else:\n",
    "        for i in range(1, li[0] + 1):\n",
    "            heappush(heap, -li[i])"
   ]
  },
  {
   "cell_type": "markdown",
   "metadata": {},
   "source": [
    "### 스텔라(STELLA)가 치킨을 선물했어요 15905"
   ]
  },
  {
   "cell_type": "code",
   "execution_count": 31,
   "metadata": {},
   "outputs": [
    {
     "name": "stdout",
     "output_type": "stream",
     "text": [
      "7\n",
      "4 620\n",
      "4 500\n",
      "4 420\n",
      "4 300\n",
      "4 510\n",
      "4 40\n",
      "4 340\n",
      "2\n"
     ]
    }
   ],
   "source": [
    "n = int(input())\n",
    "li = [list(map(int, input().split())) for _ in range(n)]\n",
    "\n",
    "li.sort(key=lambda x: (-x[0], x[1]))\n",
    "cri = li[4][0]\n",
    "\n",
    "total = 0\n",
    "for i in range(5, n):\n",
    "    if li[i][0] == cri:\n",
    "        total += 1\n",
    "        \n",
    "print(total)"
   ]
  },
  {
   "cell_type": "markdown",
   "metadata": {},
   "source": [
    "### 임진왜란 3077"
   ]
  },
  {
   "cell_type": "code",
   "execution_count": 38,
   "metadata": {},
   "outputs": [
    {
     "name": "stdout",
     "output_type": "stream",
     "text": [
      "3\n",
      "a b g\n",
      "a g b\n",
      "2/3\n"
     ]
    }
   ],
   "source": [
    "n = int(input())\n",
    "ans = input().split()\n",
    "\n",
    "d = {ans[i]: i for i in range(n)}\n",
    "li = input().split()\n",
    "total = 0\n",
    "correct = 0\n",
    "for a in range(n):\n",
    "    for b in range(a + 1, n):\n",
    "        total += 1\n",
    "        if d[li[a]] < d[li[b]]:\n",
    "            correct += 1\n",
    "            \n",
    "print(f'{correct}/{total}')"
   ]
  },
  {
   "cell_type": "markdown",
   "metadata": {},
   "source": [
    "### 로마 카톨릭 미사 9518"
   ]
  },
  {
   "cell_type": "code",
   "execution_count": 40,
   "metadata": {},
   "outputs": [
    {
     "name": "stdout",
     "output_type": "stream",
     "text": [
      "2 2\n",
      "oo\n",
      "oo\n",
      "6\n"
     ]
    }
   ],
   "source": [
    "n, m = map(int, input().split())\n",
    "li = [list(input()) for _ in range(n)]\n",
    "\n",
    "dx = [-1, -1, -1, 0, 0, 1, 1, 1]\n",
    "dy = [-1, 0, 1, -1, 1, -1, 0, 1]\n",
    "\n",
    "mc = 0 # max_count\n",
    "mcx, mcy = -1, -1\n",
    "for x in range(n):\n",
    "    for y in range(m):\n",
    "        if li[x][y] == 'o':\n",
    "            continue\n",
    "        c = 0\n",
    "        for i in range(8):\n",
    "            nx = x + dx[i]\n",
    "            ny = y + dy[i]\n",
    "            \n",
    "            if nx < 0 or nx >= n or ny < 0 or ny >= m:\n",
    "                continue\n",
    "            if li[nx][ny] == 'o':\n",
    "                c += 1\n",
    "                \n",
    "        if c > mc:\n",
    "            mc = c\n",
    "            mcx = x\n",
    "            mcy = y\n",
    "            \n",
    "if mcx != -1:\n",
    "    li[mcx][mcy] = 'o'\n",
    "    \n",
    "c = 0\n",
    "for x in range(n):\n",
    "    for y in range(m):\n",
    "        if li[x][y] == '.':\n",
    "            continue\n",
    "            \n",
    "        for i in range(8):\n",
    "            nx = x + dx[i]\n",
    "            ny = y + dy[i]\n",
    "            \n",
    "            if nx < 0 or nx >= n or ny < 0 or ny >= m:\n",
    "                continue\n",
    "            if li[nx][ny] == 'o':\n",
    "                c += 1\n",
    "                \n",
    "r = c // 2\n",
    "\n",
    "print(r)"
   ]
  },
  {
   "cell_type": "markdown",
   "metadata": {},
   "source": [
    "### 김식당 14612"
   ]
  },
  {
   "cell_type": "code",
   "execution_count": 43,
   "metadata": {},
   "outputs": [
    {
     "name": "stdout",
     "output_type": "stream",
     "text": [
      "7 3\n",
      "order 1 4\n",
      "1\n",
      "order 2 2\n",
      "1 2\n",
      "order 3 3\n",
      "1 2 3\n",
      "sort\n",
      "2 3 1\n",
      "complete 3\n",
      "2 1\n",
      "complete 2\n",
      "1\n",
      "complete 1\n",
      "sleep\n"
     ]
    }
   ],
   "source": [
    "n, m = map(int, input().split())\n",
    "\n",
    "cur = []\n",
    "for _ in range(n):\n",
    "    temp = input().split()\n",
    "    \n",
    "    if temp[0] == 'sort':\n",
    "        cur.sort(key=lambda x: (x[1], x[0]))\n",
    "    elif temp[0] == 'order':\n",
    "        nn, tt = int(temp[1]), int(temp[2])\n",
    "        cur.append((nn, tt))\n",
    "    else:\n",
    "        nn = int(temp[1])\n",
    "        for i in range(len(cur)):\n",
    "            if cur[i][0] == nn:\n",
    "                del cur[i]\n",
    "                break\n",
    "                \n",
    "    to_print = [v[0] for v in cur]\n",
    "    \n",
    "    if not to_print:\n",
    "        print('sleep')\n",
    "    else:\n",
    "        print(*to_print)"
   ]
  },
  {
   "cell_type": "markdown",
   "metadata": {},
   "source": [
    "### 부당한 퍼즐 15501"
   ]
  },
  {
   "cell_type": "code",
   "execution_count": 48,
   "metadata": {},
   "outputs": [
    {
     "name": "stdout",
     "output_type": "stream",
     "text": [
      "5\n",
      "1 2 3 4 5\n",
      "1 2 4 3 5\n",
      "bad puzzle\n"
     ]
    }
   ],
   "source": [
    "from collections import deque\n",
    "\n",
    "n = int(input())\n",
    "deq = deque(map(int, input().split()))\n",
    "target = list(map(int, input().split()))\n",
    "\n",
    "while deq[0] != target[0]:\n",
    "     deq.rotate(1)\n",
    "\n",
    "deq.popleft()\n",
    "li = list(deq)\n",
    "ntarget = target[1:]\n",
    "if li == ntarget or li[::-1] == ntarget:\n",
    "    print('good puzzle')\n",
    "else:\n",
    "    print('bad puzzle')"
   ]
  },
  {
   "cell_type": "markdown",
   "metadata": {},
   "source": [
    "### 블로그 21921"
   ]
  },
  {
   "cell_type": "code",
   "execution_count": 54,
   "metadata": {},
   "outputs": [
    {
     "name": "stdout",
     "output_type": "stream",
     "text": [
      "5 3\n",
      "0 0 0 0 0\n",
      "SAD\n"
     ]
    }
   ],
   "source": [
    "n, x = map(int, input().split())\n",
    "li = list(map(int, input().split()))\n",
    "\n",
    "cur = 0\n",
    "for i in range(x):\n",
    "    cur += li[i]\n",
    "    \n",
    "mv = cur # max visitor\n",
    "mvpc = 1 # max visitor period count\n",
    "for i in range(x, n):\n",
    "    cur += li[i]\n",
    "    cur -= li[i - x]\n",
    "    \n",
    "    if cur > mv:\n",
    "        mv = cur\n",
    "        mvpc = 1\n",
    "    elif cur == mv:\n",
    "        mvpc += 1\n",
    "        \n",
    "if mv == 0:\n",
    "    print('SAD')\n",
    "else:\n",
    "    print(mv)\n",
    "    print(mvpc)"
   ]
  },
  {
   "cell_type": "markdown",
   "metadata": {},
   "source": [
    "### Counting Haybales 14170"
   ]
  },
  {
   "cell_type": "code",
   "execution_count": 76,
   "metadata": {},
   "outputs": [
    {
     "name": "stdout",
     "output_type": "stream",
     "text": [
      "4 6\n",
      "3 2 7 5\n",
      "2 3\n",
      "2\n",
      "2 4\n",
      "2\n",
      "2 5\n",
      "3\n",
      "2 7\n",
      "4\n",
      "4 6\n",
      "1\n",
      "8 10\n",
      "0\n"
     ]
    }
   ],
   "source": [
    "from bisect import bisect_left, bisect\n",
    "import sys\n",
    "input = lambda: sys.stdin.readline().rstrip()\n",
    "\n",
    "n, q = map(int, input().split())\n",
    "li = sorted(map(int, input().split()))\n",
    "\n",
    "for _ in range(q):\n",
    "    s, e = map(int, input().split())\n",
    "    \n",
    "    r = bisect(li, e) - bisect_left(li, s)\n",
    "    \n",
    "    print(r)"
   ]
  },
  {
   "cell_type": "markdown",
   "metadata": {},
   "source": [
    "### 패턴 17300"
   ]
  },
  {
   "cell_type": "code",
   "execution_count": 91,
   "metadata": {},
   "outputs": [
    {
     "name": "stdout",
     "output_type": "stream",
     "text": [
      "5\n",
      "1 5 9 6 4\n",
      "YES\n"
     ]
    }
   ],
   "source": [
    "btws = dict() # betweens\n",
    "\n",
    "btws[(1, 3)] = 2\n",
    "btws[(4, 6)] = 5\n",
    "btws[(7, 9)] = 8\n",
    "btws[(1, 7)] = 4\n",
    "btws[(2, 8)] = 5\n",
    "btws[(3, 9)] = 6\n",
    "btws[(1, 9)] = 5\n",
    "btws[(3, 7)] = 5\n",
    "\n",
    "vt = [False] * 10\n",
    "\n",
    "n = int(input())\n",
    "li = list(map(int, input().split()))\n",
    "\n",
    "vt[li[0]] = True\n",
    "ip = True\n",
    "for i in range(1, n):\n",
    "    if vt[li[i]]:\n",
    "        ip = False\n",
    "        break\n",
    "    vt[li[i]] = True\n",
    "    \n",
    "    temp = [li[i - 1], li[i]]\n",
    "    temp.sort()\n",
    "    tp = tuple(temp)\n",
    "    \n",
    "    if tp in btws:\n",
    "        if not vt[btws[tp]]:\n",
    "            ip = False\n",
    "            break\n",
    "            \n",
    "if ip:\n",
    "    print('YES')\n",
    "else:\n",
    "    print('NO')"
   ]
  },
  {
   "cell_type": "markdown",
   "metadata": {},
   "source": [
    "### 데스스타 11811"
   ]
  },
  {
   "cell_type": "code",
   "execution_count": null,
   "metadata": {},
   "outputs": [],
   "source": [
    "n = int(input())\n",
    "li = [list(map(int, input().split())) for _ in range(n)]\n",
    "\n",
    "ans = []\n",
    "for i in range(n):\n",
    "    cur = 0\n",
    "    for j in range(n):\n",
    "        cur |= li[i][j]\n",
    "            \n",
    "    ans.append(cur)\n",
    "    \n",
    "print(*ans)"
   ]
  },
  {
   "cell_type": "markdown",
   "metadata": {},
   "source": [
    "### 호 안에 수류탄이야!! 15889"
   ]
  },
  {
   "cell_type": "code",
   "execution_count": 111,
   "metadata": {},
   "outputs": [
    {
     "name": "stdout",
     "output_type": "stream",
     "text": [
      "5\n",
      "0 5 10 15 100\n",
      "10 5 6 0\n",
      "엄마 나 전역 늦어질 것 같아\n"
     ]
    }
   ],
   "source": [
    "from bisect import bisect\n",
    "\n",
    "n = int(input())\n",
    "li = list(map(int, input().split()))\n",
    "\n",
    "if n == 1:\n",
    "    print('권병장님, 중대장님이 찾으십니다')\n",
    "else:\n",
    "    powers = list(map(int, input().split()))\n",
    "    \n",
    "    last = li.pop()\n",
    "    n -= 1\n",
    "    \n",
    "    nli = [(li[i], powers[i]) for i in range(n)]\n",
    "    nli.sort(key=lambda x: x[0])\n",
    "\n",
    "    li = [v[0] for v in nli]\n",
    "    powers = [v[1] for v in nli]\n",
    "\n",
    "    \n",
    "    vt = [False] * n\n",
    "    vt[0] = True\n",
    "    \n",
    "    can_covered = 1\n",
    "    cur_start = 0\n",
    "    ip = False\n",
    "    while True:\n",
    "        max_value = 0\n",
    "        for i in range(cur_start, can_covered):\n",
    "            max_value = max(max_value, li[i] + powers[i])\n",
    "            \n",
    "        if max_value >= last:\n",
    "            ip = True\n",
    "            break\n",
    "        \n",
    "        cur_start = can_covered\n",
    "        can_covered = bisect(li, max_value)\n",
    "        \n",
    "        if cur_start >= can_covered:\n",
    "            break\n",
    "            \n",
    "    if ip:\n",
    "        print('권병장님, 중대장님이 찾으십니다')\n",
    "    else:\n",
    "        print('엄마 나 전역 늦어질 것 같아')"
   ]
  },
  {
   "cell_type": "markdown",
   "metadata": {},
   "source": [
    "### Generic Queries 16713"
   ]
  },
  {
   "cell_type": "code",
   "execution_count": 117,
   "metadata": {},
   "outputs": [
    {
     "name": "stdout",
     "output_type": "stream",
     "text": [
      "5 4\n",
      "4 4 2 1 0\n",
      "1 1\n",
      "1 2\n",
      "1 3\n",
      "2 4\n",
      "1\n"
     ]
    }
   ],
   "source": [
    "import sys\n",
    "input = lambda: sys.stdin.readline().rstrip()\n",
    "\n",
    "n, q = map(int, input().split())\n",
    "li = list(map(int, input().split()))\n",
    "\n",
    "delta = [0] * (n + 1)\n",
    "get_value = lambda x: int(x) - 1\n",
    "for _ in range(q):\n",
    "    s, e = map(get_value, input().split())\n",
    "    \n",
    "    delta[s] += 1\n",
    "    delta[e + 1] -= 1\n",
    "    \n",
    "counts = [0] * (n + 1)\n",
    "cur = 0\n",
    "r = 0\n",
    "for i in range(n):\n",
    "    cur += delta[i]\n",
    "    counts[i] = cur\n",
    "    if counts[i] % 2:\n",
    "        r ^= li[i]\n",
    "    \n",
    "print(r)"
   ]
  },
  {
   "cell_type": "markdown",
   "metadata": {},
   "source": [
    "### 약속 1183"
   ]
  },
  {
   "cell_type": "code",
   "execution_count": null,
   "metadata": {},
   "outputs": [],
   "source": [
    "n = int(input())\n",
    "\n",
    "diffs = []\n",
    "for _ in range(n):\n",
    "    a, b = map(int, input().split())\n",
    "    \n",
    "    diffs.append(a - b)\n",
    "    \n",
    "diffs.sort()\n",
    "\n",
    "if n % 2 == 1:\n",
    "    print(1)\n",
    "else:\n",
    "    r = diffs[n // 2] - diffs[n // 2 - 1] + 1\n",
    "    \n",
    "    print(r)"
   ]
  },
  {
   "cell_type": "markdown",
   "metadata": {},
   "source": [
    "### 너의 이름은 14653"
   ]
  },
  {
   "cell_type": "code",
   "execution_count": null,
   "metadata": {},
   "outputs": [],
   "source": [
    "# 일단 포기\n",
    "n, k, q = map(int, input().split())\n",
    "li = [input().split() for _ in range(k)]\n",
    "\n",
    "for v in li:\n",
    "    v[0] = int(v[0])\n",
    "\n",
    "alls = {chr(65 + i) for i in range(n)}\n",
    "    \n",
    "reads = [set() for _ in range(k)]\n",
    "for i in range(k - 1, -1, -1):\n",
    "    ur, p = li[i]\n",
    "    if i < k - 1:\n",
    "        reads[i] |= reads[i + 1]\n",
    "        \n",
    "    reads[i].add('A')\n",
    "    reads[i].add(p)\n",
    "    if ur == 0:\n",
    "        reads[i] = alls.copy()\n",
    "        \n",
    "    for j in range(i - 1, -1, -1):\n",
    "        fur, fp = li[j]\n",
    "        if fur > ur or fp == p:\n",
    "            break\n",
    "        reads[j].add(p)\n",
    "            \n",
    "result = sorted(alls - reads[q - 1])\n",
    "\n",
    "if not result:\n",
    "    print(-1)\n",
    "else:\n",
    "    print(*result)"
   ]
  },
  {
   "cell_type": "markdown",
   "metadata": {},
   "source": [
    "### 가로 세로 퍼즐 2784"
   ]
  },
  {
   "cell_type": "code",
   "execution_count": null,
   "metadata": {},
   "outputs": [],
   "source": [
    "from itertools import permutations as perm\n",
    "\n",
    "li = [input() for _ in range(6)]\n",
    "\n",
    "cases = perm(li)\n",
    "cands = []\n",
    "for case in cases:\n",
    "    temp = []\n",
    "    for i in range(3):\n",
    "        temp.append(case[i])\n",
    "        \n",
    "    t1 = temp[0][0] + temp[1][0] + temp[2][0]\n",
    "    t2 = temp[0][1] + temp[1][1] + temp[2][1]\n",
    "    t3 = temp[0][2] + temp[1][2] + temp[2][2]\n",
    "    \n",
    "    if t1 == case[3] and t2 == case[4] and t3 == case[5]:\n",
    "        cands.append(''.join(temp))\n",
    "        \n",
    "cands.sort()\n",
    "\n",
    "if not cands:\n",
    "    print(0)\n",
    "else:\n",
    "    r = cands[0]\n",
    "    print(r[:3])\n",
    "    print(r[3:6])\n",
    "    print(r[6:])"
   ]
  },
  {
   "cell_type": "markdown",
   "metadata": {},
   "source": [
    "### 화살표 연산자 16114"
   ]
  },
  {
   "cell_type": "code",
   "execution_count": null,
   "metadata": {},
   "outputs": [],
   "source": [
    "x, n = map(int, input().split())\n",
    "\n",
    "if n >= 3 and n % 2 == 1:\n",
    "    print('ERROR')\n",
    "elif n == 1:\n",
    "    x = -x\n",
    "    \n",
    "    if 0 < x:\n",
    "        print('INFINITE')\n",
    "    else:\n",
    "        print(0)\n",
    "elif n == 0:\n",
    "    if 0 < x:\n",
    "        print('INFINITE')\n",
    "    else:\n",
    "        print(0)\n",
    "else:\n",
    "    to_minus = n // 2\n",
    "    x -= to_minus\n",
    "    c = 0\n",
    "    while 0 < x:\n",
    "        c += 1\n",
    "        x -= to_minus\n",
    "        \n",
    "    print(c)"
   ]
  },
  {
   "cell_type": "markdown",
   "metadata": {},
   "source": [
    "### Don't Be Last! 14455"
   ]
  },
  {
   "cell_type": "code",
   "execution_count": null,
   "metadata": {},
   "outputs": [],
   "source": [
    "cows = ['Bessie', 'Elsie', 'Daisy', 'Gertie', 'Annabelle', 'Maggie', 'Henrietta']\n",
    "d = {v:0 for v in cows}\n",
    "\n",
    "n = int(input())\n",
    "for _ in range(n):\n",
    "    name, amount = input().split()\n",
    "    amount = int(amount)\n",
    "    \n",
    "    d[name] += amount\n",
    "    \n",
    "li = d.items()\n",
    "li = sorted(li, key=lambda x: x[1])\n",
    "smallest = li[0][1]\n",
    "\n",
    "min_target = float('inf')\n",
    "for v in li:\n",
    "    if v[1] > smallest:\n",
    "        min_target = min(min_target, v[1])\n",
    "        \n",
    "if min_target == float('inf'):\n",
    "    print('Tie')\n",
    "else:\n",
    "    cands = [v[0] for v in li if v[1] == min_target]\n",
    "    \n",
    "    if len(cands) >= 2:\n",
    "        print('Tie')\n",
    "    else:\n",
    "        print(cands[0])"
   ]
  },
  {
   "cell_type": "markdown",
   "metadata": {},
   "source": [
    "### Opening Ceremony 10263"
   ]
  },
  {
   "cell_type": "code",
   "execution_count": 10,
   "metadata": {},
   "outputs": [
    {
     "name": "stdout",
     "output_type": "stream",
     "text": [
      "4\n",
      "6 6 6 6\n",
      "9\n",
      "8\n",
      "7\n",
      "6\n",
      "6\n"
     ]
    }
   ],
   "source": [
    "n = int(input())\n",
    "li = sorted(map(int, input().split()))\n",
    "\n",
    "mv = n # min value\n",
    "for i in range(n):\n",
    "    temp = li[i] + n - i - 1\n",
    "    print(temp)\n",
    "    mv = min(mv, temp)\n",
    "    \n",
    "print(mv)"
   ]
  },
  {
   "cell_type": "markdown",
   "metadata": {},
   "source": [
    "### 바이너리 왕국 16567"
   ]
  },
  {
   "cell_type": "code",
   "execution_count": 17,
   "metadata": {},
   "outputs": [
    {
     "name": "stdout",
     "output_type": "stream",
     "text": [
      "5 9\n",
      "0 0 0 0 0\n",
      "0\n",
      "0\n",
      "1 4\n",
      "0\n",
      "1\n",
      "1 4\n",
      "0\n",
      "1\n",
      "1 2\n",
      "0\n",
      "2\n",
      "1 3\n",
      "0\n",
      "1\n"
     ]
    }
   ],
   "source": [
    "import sys\n",
    "# input = lambda: sys.stdin.readline().rstrip()\n",
    "\n",
    "n, m = map(int, input().split())\n",
    "li = list(map(int, input().split()))\n",
    "\n",
    "count = 0\n",
    "for i in range(n):\n",
    "    if i == 0:\n",
    "        if li[i] == 1:\n",
    "            count += 1\n",
    "    else:\n",
    "        if li[i] == 1 and li[i - 1] == 0:\n",
    "            count += 1\n",
    "            \n",
    "for _ in range(m):\n",
    "    q = list(map(int, input().split()))\n",
    "    \n",
    "    if q[0] == 0:\n",
    "        print(count)\n",
    "    else:\n",
    "        target = q[1] - 1\n",
    "        if li[target] == 1:\n",
    "            continue\n",
    "        else:\n",
    "            li[target] = 1\n",
    "            ar = [] # arounds\n",
    "            for i in [target - 1, target + 1]:\n",
    "                if i < 0 or i >= n:\n",
    "                    continue\n",
    "                ar.append(li[i])\n",
    "                \n",
    "            if ar == []:\n",
    "                count += 1\n",
    "            elif ar == [0]: \n",
    "                count += 1\n",
    "            elif ar == [1]:\n",
    "                continue\n",
    "            elif ar == [0, 1]:\n",
    "                continue\n",
    "            elif ar == [1, 0]:\n",
    "                continue\n",
    "            elif ar == [0, 0]:\n",
    "                count += 1\n",
    "            elif ar == [1, 1]:\n",
    "                count -= 1"
   ]
  },
  {
   "cell_type": "markdown",
   "metadata": {},
   "source": [
    "### 마라톤 틱택토 3024"
   ]
  },
  {
   "cell_type": "code",
   "execution_count": 19,
   "metadata": {
    "scrolled": true
   },
   "outputs": [
    {
     "name": "stdout",
     "output_type": "stream",
     "text": [
      "3\n",
      "XOC\n",
      "XOC\n",
      "X..\n",
      "X\n"
     ]
    }
   ],
   "source": [
    "def check(i, j):\n",
    "    if i + 2 < n:\n",
    "        if li[i][j] == li[i + 1][j] == li[i + 2][j]:\n",
    "            return li[i][j]\n",
    "    if j + 2 < n:\n",
    "        if li[i][j] == li[i][j + 1] == li[i][j + 2]:\n",
    "            return li[i][j]\n",
    "    if i + 2 < n and j + 2 < n:\n",
    "        if li[i][j] == li[i + 1][j + 1] == li[i + 2][j + 2]:\n",
    "            return li[i][j]\n",
    "    if i + 2 < n and j - 2 >= 0:\n",
    "        if li[i][j] == li[i + 1][j - 1] == li[i + 2][j - 2]:\n",
    "            return li[i][j]\n",
    "    return '.'\n",
    "            \n",
    "def solve():\n",
    "    for i in range(n):\n",
    "        for j in range(n):\n",
    "            temp = check(i, j)\n",
    "            if temp != '.':\n",
    "                return temp\n",
    "    return 'ongoing'\n",
    "    \n",
    "n = int(input())\n",
    "li = [input() for _ in range(n)]\n",
    "\n",
    "r = solve()\n",
    "\n",
    "print(r)"
   ]
  }
 ],
 "metadata": {
  "kernelspec": {
   "display_name": "Python 3",
   "language": "python",
   "name": "python3"
  },
  "language_info": {
   "codemirror_mode": {
    "name": "ipython",
    "version": 3
   },
   "file_extension": ".py",
   "mimetype": "text/x-python",
   "name": "python",
   "nbconvert_exporter": "python",
   "pygments_lexer": "ipython3",
   "version": "3.7.4"
  }
 },
 "nbformat": 4,
 "nbformat_minor": 4
}
