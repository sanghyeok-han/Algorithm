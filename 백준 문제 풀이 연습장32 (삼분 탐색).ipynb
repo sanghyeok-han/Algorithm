{
 "cells": [
  {
   "cell_type": "markdown",
   "metadata": {},
   "source": [
    "### 전봇대 8986"
   ]
  },
  {
   "cell_type": "code",
   "execution_count": null,
   "metadata": {},
   "outputs": [],
   "source": []
  },
  {
   "cell_type": "code",
   "execution_count": null,
   "metadata": {},
   "outputs": [],
   "source": []
  },
  {
   "cell_type": "code",
   "execution_count": null,
   "metadata": {},
   "outputs": [],
   "source": [
    "lo + (hi - lo) / 3 -> (2 * lo + hi) / 3\n",
    "hi - (hi - lo) / 3 -> (lo + 2 * hi) / 3"
   ]
  },
  {
   "cell_type": "code",
   "execution_count": 24,
   "metadata": {},
   "outputs": [
    {
     "name": "stdout",
     "output_type": "stream",
     "text": [
      "7\n",
      "0 5 12 15 16 22 23\n",
      "11\n"
     ]
    }
   ],
   "source": [
    "n = int(input())\n",
    "li = list(map(int, input().split()))\n",
    "\n",
    "def get_value(mid):\n",
    "    cur = 0\n",
    "    sv = 0\n",
    "    for i in range(1, n):\n",
    "        cur += mid\n",
    "        sv += abs(li[i] - cur)\n",
    "        \n",
    "    return sv\n",
    "\n",
    "start = 1\n",
    "end = 1000000000\n",
    "result = float('inf')\n",
    "while start <= end:\n",
    "    mid1 = (start * 2 + end) // 3\n",
    "    mid2 = (start + end * 2) // 3\n",
    "    \n",
    "    t1 = get_value(mid1)\n",
    "    t2 = get_value(mid2)\n",
    "    \n",
    "    result = min(result, t1, t2)\n",
    "    \n",
    "    if end - start <= 5:\n",
    "        for mid in range(start, end + 1):\n",
    "            result = min(result, get_value(mid))\n",
    "        break\n",
    "    \n",
    "    if t1 >= t2:\n",
    "        start = mid1\n",
    "    else:\n",
    "        end = mid2\n",
    "        \n",
    "print(result)"
   ]
  }
 ],
 "metadata": {
  "kernelspec": {
   "display_name": "Python 3",
   "language": "python",
   "name": "python3"
  },
  "language_info": {
   "codemirror_mode": {
    "name": "ipython",
    "version": 3
   },
   "file_extension": ".py",
   "mimetype": "text/x-python",
   "name": "python",
   "nbconvert_exporter": "python",
   "pygments_lexer": "ipython3",
   "version": "3.7.4"
  }
 },
 "nbformat": 4,
 "nbformat_minor": 4
}
