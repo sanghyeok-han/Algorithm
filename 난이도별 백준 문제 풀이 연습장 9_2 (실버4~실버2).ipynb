{
 "cells": [
  {
   "cell_type": "raw",
   "metadata": {},
   "source": [
    "​"
   ]
  },
  {
   "cell_type": "markdown",
   "metadata": {},
   "source": [
    " tier:s4 solved:100.. - solved_by:hsh8086 - id:6986 - id:18110"
   ]
  },
  {
   "cell_type": "markdown",
   "metadata": {},
   "source": [
    "### 행운의 수 9575"
   ]
  },
  {
   "cell_type": "code",
   "execution_count": 1,
   "metadata": {},
   "outputs": [
    {
     "name": "stdout",
     "output_type": "stream",
     "text": [
      "6\n",
      "100 1 10 100 1 1\n",
      "7\n",
      "3 53 53 53 53 53 53\n",
      "6\n",
      "4 54 4 54 4 54\n"
     ]
    }
   ],
   "source": [
    "for _ in range(int(input())):\n",
    "    an = int(input())\n",
    "    a = list(map(int, input().split()))\n",
    "    bn = int(input())\n",
    "    b = list(map(int, input().split()))\n",
    "    cn = int(input())\n",
    "    c = list(map(int, input().split()))\n",
    "\n",
    "    r = set()\n",
    "    for aa in a:\n",
    "        for bb in b:\n",
    "            for cc in c:\n",
    "                t = aa + bb + cc\n",
    "                t = str(t)\n",
    "\n",
    "                st = set(t)\n",
    "                st.discard('5')\n",
    "                st.discard('8')\n",
    "\n",
    "                if not st:\n",
    "                    r.add(t)\n",
    "\n",
    "    print(len(r))"
   ]
  },
  {
   "cell_type": "markdown",
   "metadata": {},
   "source": [
    "### 다항함수의 미분 15725"
   ]
  },
  {
   "cell_type": "code",
   "execution_count": 8,
   "metadata": {},
   "outputs": [
    {
     "name": "stdout",
     "output_type": "stream",
     "text": [
      "-x + 3\n",
      "-1\n"
     ]
    }
   ],
   "source": [
    "s = input()\n",
    "\n",
    "temp = ''\n",
    "is_x = False\n",
    "for v in s:\n",
    "    if v == 'x':\n",
    "        is_x = True\n",
    "        break\n",
    "    else:\n",
    "        temp += v\n",
    "        \n",
    "if not temp:\n",
    "    temp = '1'\n",
    "if temp == '-':\n",
    "    temp = '-1'\n",
    "    \n",
    "r = int(temp)\n",
    "\n",
    "if is_x:\n",
    "    print(r)\n",
    "else:\n",
    "    print(0)"
   ]
  },
  {
   "cell_type": "markdown",
   "metadata": {},
   "source": [
    "### Fire on Field 17968"
   ]
  },
  {
   "cell_type": "code",
   "execution_count": 10,
   "metadata": {},
   "outputs": [],
   "source": [
    "def check(i, cand):\n",
    "    k = 1\n",
    "    while True:\n",
    "        if i - 2 * k < 0:\n",
    "            break\n",
    "        if cand - li[i - k] == li[i - k] - li[i - 2 * k]:\n",
    "            return False\n",
    "        k += 1\n",
    "        \n",
    "    return True\n",
    "\n",
    "li = [1, 1]\n",
    "for i in range(2, 2 + 999):\n",
    "    cand = 1\n",
    "    while True:\n",
    "        if check(i, cand):\n",
    "            li.append(cand)\n",
    "            break\n",
    "        else:\n",
    "            cand += 1\n",
    "\n",
    "n = int(input())\n",
    "\n",
    "print(li[n])"
   ]
  },
  {
   "cell_type": "markdown",
   "metadata": {},
   "source": [
    "### 하늘에서 정의가 빗발친다! 13411"
   ]
  },
  {
   "cell_type": "code",
   "execution_count": 13,
   "metadata": {},
   "outputs": [
    {
     "name": "stdout",
     "output_type": "stream",
     "text": [
      "4\n",
      "3 3 1\n",
      "-3 2 3\n",
      "-3 -3 1\n",
      "4 -4 4\n",
      "2\n",
      "4\n",
      "1\n",
      "3\n"
     ]
    }
   ],
   "source": [
    "import sys\n",
    "input = lambda: sys.stdin.readline().rstrip()\n",
    "\n",
    "n = int(input())\n",
    "\n",
    "li = []\n",
    "for num in range(1, n + 1):\n",
    "    x, y, v = map(int, input().split())\n",
    "    \n",
    "    tm = (x ** 2 + y ** 2) ** 0.5 / v\n",
    "    tm = round(tm, 10)\n",
    "    \n",
    "    li.append((tm, num))\n",
    "    \n",
    "li.sort()\n",
    "\n",
    "for v in li:\n",
    "    print(v[1])"
   ]
  },
  {
   "cell_type": "markdown",
   "metadata": {},
   "source": [
    "### 반전 요세푸스 20301"
   ]
  },
  {
   "cell_type": "code",
   "execution_count": 18,
   "metadata": {},
   "outputs": [
    {
     "name": "stdout",
     "output_type": "stream",
     "text": [
      "7 3 4\n",
      "3\n",
      "6\n",
      "2\n",
      "7\n",
      "1\n",
      "5\n",
      "4\n"
     ]
    }
   ],
   "source": [
    "# 시간 초과\n",
    "n, k, m = map(int, input().split())\n",
    "\n",
    "cur = -1\n",
    "cur_d = 1\n",
    "count = 0\n",
    "status = [True] * n\n",
    "while count < n:\n",
    "    temp = 0\n",
    "    while True:\n",
    "        cur += cur_d\n",
    "        cur %= n\n",
    "        \n",
    "        if status[cur]:\n",
    "            temp += 1\n",
    "            \n",
    "            if temp == k:\n",
    "                print(cur + 1)\n",
    "                status[cur] = False\n",
    "                count += 1\n",
    "                break\n",
    "            \n",
    "    if count % m == 0:\n",
    "        if cur_d == 1:\n",
    "            cur_d = -1\n",
    "        else:\n",
    "            cur_d = 1"
   ]
  },
  {
   "cell_type": "code",
   "execution_count": 25,
   "metadata": {},
   "outputs": [
    {
     "name": "stdout",
     "output_type": "stream",
     "text": [
      "7 3 4\n",
      "3\n",
      "6\n",
      "2\n",
      "7\n",
      "1\n",
      "5\n",
      "4\n"
     ]
    }
   ],
   "source": [
    "# 맞았음\n",
    "n, k, m = map(int, input().split())\n",
    "\n",
    "li = list(range(1, n + 1))\n",
    "\n",
    "cur = -1\n",
    "cur_d = 1\n",
    "for i in range(1, n + 1):\n",
    "    cur += cur_d * k\n",
    "    cur %= len(li)\n",
    "    \n",
    "    print(li[cur])\n",
    "    del li[cur]\n",
    "    \n",
    "    if i % m == 0:\n",
    "        if cur_d == 1:\n",
    "            cur_d = -1\n",
    "        else:\n",
    "            cur_d = 1\n",
    "    \n",
    "    if cur_d == 1:\n",
    "        cur -= 1"
   ]
  },
  {
   "cell_type": "code",
   "execution_count": 32,
   "metadata": {},
   "outputs": [
    {
     "name": "stdout",
     "output_type": "stream",
     "text": [
      "7 3 4\n",
      "3\n",
      "6\n",
      "2\n",
      "7\n",
      "1\n",
      "5\n",
      "4\n"
     ]
    }
   ],
   "source": [
    "# 맞았음\n",
    "from collections import deque\n",
    "\n",
    "n, k, m = map(int, input().split())\n",
    "\n",
    "cur_d = -1\n",
    "deq = deque(range(1, n + 1))\n",
    "for i in range(1, n + 1):\n",
    "    if i == 1:\n",
    "        deq.rotate(-(k - 1))\n",
    "    else:\n",
    "        if cur_d == -1:\n",
    "            deq.rotate((k - 1) * cur_d)\n",
    "        else:\n",
    "            deq.rotate(k * cur_d)\n",
    "    \n",
    "    t = deq.popleft()\n",
    "    print(t)\n",
    "    \n",
    "    if i % m == 0:\n",
    "        if cur_d == 1:\n",
    "            cur_d = -1\n",
    "        else:\n",
    "            cur_d = 1        "
   ]
  },
  {
   "cell_type": "markdown",
   "metadata": {},
   "source": [
    "### 매직 스퀘어로 변경하기 16945"
   ]
  },
  {
   "cell_type": "code",
   "execution_count": 39,
   "metadata": {},
   "outputs": [
    {
     "name": "stdout",
     "output_type": "stream",
     "text": [
      "4 8 2\n",
      "4 5 7\n",
      "6 1 6\n",
      "4\n"
     ]
    }
   ],
   "source": [
    "from itertools import permutations as perm\n",
    "\n",
    "def check(c):\n",
    "    for i in range(3):\n",
    "        if sum(c[i]) != 15:\n",
    "            return False\n",
    "        \n",
    "    for j in range(3):\n",
    "        if c[0][j] + c[1][j] + c[2][j] != 15:\n",
    "            return False\n",
    "        \n",
    "    if c[0][0] + c[1][1] + c[2][2] != 15:\n",
    "        return False\n",
    "    if c[0][2] + c[1][1] + c[2][0] != 15:\n",
    "        return False\n",
    "    \n",
    "    return True\n",
    "\n",
    "li = [list(map(int, input().split())) for _ in range(3)]\n",
    "\n",
    "p = perm(range(1, 10))\n",
    "mv = float('inf') # min value\n",
    "for c in p:\n",
    "    c = [c[:3], c[3:6], c[6:9]]\n",
    "    \n",
    "    if not check(c):\n",
    "        continue\n",
    "        \n",
    "    cost = 0\n",
    "    for i in range(3):\n",
    "        for j in range(3):\n",
    "            temp = abs(li[i][j] - c[i][j])   \n",
    "            cost += temp\n",
    "            \n",
    "    mv = min(mv, cost)\n",
    "    \n",
    "print(mv)"
   ]
  },
  {
   "cell_type": "markdown",
   "metadata": {},
   "source": [
    "### 수열과 쿼리 38 18917"
   ]
  },
  {
   "cell_type": "code",
   "execution_count": null,
   "metadata": {},
   "outputs": [],
   "source": [
    "import sys\n",
    "input = lambda: sys.stdin.readline().rstrip()\n",
    "\n",
    "m = int(input())\n",
    "\n",
    "cur_sum = 0\n",
    "cur_xor = 0\n",
    "for _ in range(m):\n",
    "    temp = list(map(int, input().split()))\n",
    "    if temp[0] == 3:\n",
    "        print(cur_sum)\n",
    "    elif temp[0] == 4:\n",
    "        print(cur_xor)\n",
    "    elif temp[0] == 1:\n",
    "        cur_sum += temp[1]\n",
    "        cur_xor ^= temp[1]\n",
    "    else:\n",
    "        cur_sum -= temp[1]\n",
    "        cur_xor ^= temp[1]"
   ]
  },
  {
   "cell_type": "markdown",
   "metadata": {},
   "source": [
    "### ZOAC 3 20436"
   ]
  },
  {
   "cell_type": "code",
   "execution_count": 48,
   "metadata": {},
   "outputs": [
    {
     "name": "stdout",
     "output_type": "stream",
     "text": [
      "z o\n",
      "zoac\n",
      "8\n"
     ]
    }
   ],
   "source": [
    "coords = []\n",
    "for i in range(7):\n",
    "    coords.append((i, 0))\n",
    "for i in range(9):\n",
    "    coords.append((i, 1))\n",
    "for i in range(10):\n",
    "    coords.append((i, 2))\n",
    "\n",
    "alphas = 'zxcvbnmasdfghjklqwertyuiop'\n",
    "vowels = 'yuiophjklbnm'\n",
    "d = {alphas[i]: coords[i] for i in range(len(alphas))}\n",
    "\n",
    "get_dist = lambda a, b: abs(a[0] - b[0]) + abs(a[1] - b[1])\n",
    "\n",
    "l, r = input().split()\n",
    "s = input()\n",
    "\n",
    "total = 0\n",
    "for v in s:\n",
    "    if v in vowels:\n",
    "        total += get_dist(d[r], d[v])\n",
    "        r = v\n",
    "    else:\n",
    "        total += get_dist(d[l], d[v])\n",
    "        l = v\n",
    "        \n",
    "print(total + len(s))"
   ]
  },
  {
   "cell_type": "markdown",
   "metadata": {},
   "source": [
    "### 스도쿠 채점 9291"
   ]
  },
  {
   "cell_type": "code",
   "execution_count": null,
   "metadata": {},
   "outputs": [],
   "source": [
    "def check():\n",
    "    for i in range(9):\n",
    "        if len(set(li[i])) < 9:\n",
    "            return False\n",
    "        \n",
    "    for j in range(9):\n",
    "        st = set()\n",
    "        for i in range(9):\n",
    "            st.add(li[i][j])\n",
    "        \n",
    "        if len(st) < 9:\n",
    "            return False\n",
    "        \n",
    "    for i in range(0, 9, 3):\n",
    "        for j in range(0, 9, 3):\n",
    "            st = set()\n",
    "            for di in range(3):\n",
    "                for dj in range(3):\n",
    "                    st.add(li[i + di][j + dj])\n",
    "                    \n",
    "            if len(st) < 9:\n",
    "                return False\n",
    "            \n",
    "    return True\n",
    "\n",
    "t = int(input())\n",
    "for num in range(t):\n",
    "    li = [list(map(int, input().split())) for _ in range(9)]\n",
    "\n",
    "    if check():\n",
    "        r = 'CORRECT'\n",
    "    else:\n",
    "        r = 'INCORRECT'\n",
    "\n",
    "    print(f'Case {num + 1}: {r}')\n",
    "    \n",
    "    if num < t - 1:\n",
    "        input()"
   ]
  },
  {
   "cell_type": "code",
   "execution_count": 71,
   "metadata": {},
   "outputs": [
    {
     "name": "stdout",
     "output_type": "stream",
     "text": [
      "kcauq\n",
      "-1\n"
     ]
    }
   ],
   "source": [
    "li = list(input())\n",
    "n = len(li)\n",
    "\n",
    "if n % 5 != 0:\n",
    "    print(-1)\n",
    "else:\n",
    "    count = 0\n",
    "    while True:\n",
    "        is_cleared = False\n",
    "        ts = 'q'\n",
    "        removed = []\n",
    "        for i in range(len(li)):\n",
    "            if ts == li[i] == 'q':\n",
    "                removed.append(i)\n",
    "                ts = 'u'\n",
    "            elif ts == li[i] == 'u':\n",
    "                removed.append(i)\n",
    "                ts = 'a'\n",
    "            elif ts == li[i] == 'a':\n",
    "                removed.append(i)\n",
    "                ts = 'c'\n",
    "            elif ts == li[i] == 'c':\n",
    "                removed.append(i)\n",
    "                ts = 'k'\n",
    "            elif ts == li[i] == 'k':\n",
    "                removed.append(i)\n",
    "                ts = 'q'\n",
    "                is_cleared = True\n",
    "                \n",
    "        if removed and li[removed[-1]] != 'k':\n",
    "            while li[removed.pop()] != 'q':\n",
    "                continue\n",
    "                \n",
    "        while removed:\n",
    "            del li[removed.pop()]\n",
    "                \n",
    "        if not is_cleared:\n",
    "            break\n",
    "        count += 1\n",
    "        \n",
    "    if li:\n",
    "        print(-1)\n",
    "    else:\n",
    "        print(count)"
   ]
  },
  {
   "cell_type": "markdown",
   "metadata": {},
   "source": [
    "### 복권 1359"
   ]
  },
  {
   "cell_type": "code",
   "execution_count": 8,
   "metadata": {},
   "outputs": [
    {
     "name": "stdout",
     "output_type": "stream",
     "text": [
      "3 2 1\n",
      "1.0\n"
     ]
    }
   ],
   "source": [
    "from itertools import combinations as comb\n",
    "\n",
    "n, m, k = map(int, input().split())\n",
    "\n",
    "cases = comb(range(n), m)\n",
    "\n",
    "st = set(range(m))\n",
    "count = 0\n",
    "win_count = 0\n",
    "for case in cases:\n",
    "    count += 1\n",
    "    if len(set(case) & st) >= k:\n",
    "        win_count += 1\n",
    "        \n",
    "print(win_count / count)"
   ]
  },
  {
   "cell_type": "markdown",
   "metadata": {},
   "source": [
    "### 앉았다 14717"
   ]
  },
  {
   "cell_type": "code",
   "execution_count": 16,
   "metadata": {},
   "outputs": [
    {
     "name": "stdout",
     "output_type": "stream",
     "text": [
      "1 1\n",
      "0.941\n"
     ]
    }
   ],
   "source": [
    "from itertools import combinations as comb\n",
    "\n",
    "def get_score(a, b):\n",
    "    if a != b:\n",
    "        return (a + b) % 10\n",
    "    else:\n",
    "        return 10 + a\n",
    "               \n",
    "li = [*range(1, 11), *range(1, 11)]\n",
    "\n",
    "a, b = map(int, input().split())\n",
    "\n",
    "del li[li.index(a)]\n",
    "del li[li.index(b)]\n",
    "\n",
    "cases = comb(li, 2)\n",
    "count = 0\n",
    "win_count = 0\n",
    "f_score = get_score(a, b)\n",
    "for case in cases:\n",
    "    count += 1\n",
    "    s_score = get_score(case[0], case[1])\n",
    "    \n",
    "    if f_score > s_score:\n",
    "        win_count += 1\n",
    "        \n",
    "r = win_count / count\n",
    "r = '{:.3f}'.format(r)\n",
    "\n",
    "print(r)"
   ]
  },
  {
   "cell_type": "markdown",
   "metadata": {},
   "source": [
    "### 아이폰 9S 5883"
   ]
  },
  {
   "cell_type": "code",
   "execution_count": 27,
   "metadata": {},
   "outputs": [
    {
     "name": "stdout",
     "output_type": "stream",
     "text": [
      "4\n",
      "1\n",
      "2\n",
      "3\n",
      "4\n",
      "1\n"
     ]
    }
   ],
   "source": [
    "import sys\n",
    "# input = lambda: sys.stdin.readline().rstrip()\n",
    "\n",
    "n = int(input())\n",
    "li = [int(input()) for _ in range(n)]\n",
    "\n",
    "mv = 1 # max value\n",
    "for v in set(li):\n",
    "    nli = [w for w in li if w != v]\n",
    "    \n",
    "    cc = 1 # cont count\n",
    "    fw = -1\n",
    "    for w in nli:\n",
    "        if w == fw:\n",
    "            cc += 1\n",
    "            mv = max(mv, cc)\n",
    "        else:\n",
    "            cc = 1\n",
    "            fw = w\n",
    "            \n",
    "print(mv)"
   ]
  },
  {
   "cell_type": "markdown",
   "metadata": {},
   "source": [
    "### Bucket Brigade 17198"
   ]
  },
  {
   "cell_type": "code",
   "execution_count": 21,
   "metadata": {},
   "outputs": [
    {
     "data": {
      "text/plain": [
       "8"
      ]
     },
     "execution_count": 21,
     "metadata": {},
     "output_type": "execute_result"
    }
   ],
   "source": [
    "from collections import deque\n",
    "\n",
    "li = [input() for _ in range(10)]\n",
    "\n",
    "bx, by = -1, -1\n",
    "lx, ly = -1, -1\n",
    "for i in range(10):\n",
    "    for j in range(10):\n",
    "        if li[i][j] == 'B':\n",
    "            bx = i\n",
    "            by = j\n",
    "        elif li[i][j] == 'L':\n",
    "            lx = i\n",
    "            ly = j\n",
    "\n",
    "dx = [0, 0, -1, 1]\n",
    "dy = [-1, 1, 0, 0]\n",
    "         \n",
    "dists = [[float('inf')] * 10 for _ in range(10)]\n",
    "dists[lx][ly] = 0\n",
    "\n",
    "queue = deque()\n",
    "queue.append((lx, ly))\n",
    "while queue:\n",
    "    x, y = queue.popleft()\n",
    "    \n",
    "    for i in range(4):\n",
    "        nx = x + dx[i]\n",
    "        ny = y + dy[i]\n",
    "        \n",
    "        if nx < 0 or nx >= 10 or ny < 0 or ny >= 10:\n",
    "            continue\n",
    "        if li[nx][ny] == 'R':\n",
    "            continue\n",
    "            \n",
    "        if dists[nx][ny] == float('inf'):\n",
    "            dists[nx][ny] = dists[x][y] + 1\n",
    "            queue.append((nx, ny))\n",
    "            \n",
    "r = dists[bx][by] - 1\n",
    "\n",
    "print(r)"
   ]
  },
  {
   "cell_type": "markdown",
   "metadata": {},
   "source": [
    "### 키보드 이벤트 17254"
   ]
  },
  {
   "cell_type": "code",
   "execution_count": 29,
   "metadata": {},
   "outputs": [
    {
     "name": "stdout",
     "output_type": "stream",
     "text": [
      "3 5\n",
      "1 0 A\n",
      "2 1 P\n",
      "1 2 L\n",
      "2 4 E\n",
      "3 0 P\n",
      "APPLE\n"
     ]
    }
   ],
   "source": [
    "import sys\n",
    "input = lambda: sys.stdin.readline().rstrip()\n",
    "\n",
    "n, m = map(int, input().split())\n",
    "\n",
    "li = []\n",
    "for _ in range(m):\n",
    "    a, b, c = input().split()\n",
    "    a = int(a)\n",
    "    b = int(b)\n",
    "    \n",
    "    li.append((a, b, c))\n",
    "    \n",
    "li.sort(key=lambda x: (x[1], x[0]))\n",
    "r = [v[2] for v in li]\n",
    "r = ''.join(r)\n",
    "\n",
    "print(r)"
   ]
  },
  {
   "cell_type": "markdown",
   "metadata": {},
   "source": [
    "### Circular Barn (Bronze) 12000"
   ]
  },
  {
   "cell_type": "code",
   "execution_count": 32,
   "metadata": {},
   "outputs": [
    {
     "name": "stdout",
     "output_type": "stream",
     "text": [
      "5\n",
      "4\n",
      "7\n",
      "8\n",
      "6\n",
      "4\n",
      "48\n"
     ]
    }
   ],
   "source": [
    "from collections import deque\n",
    "\n",
    "n = int(input())\n",
    "deq = deque(int(input()) for _ in range(n))\n",
    "\n",
    "mv = float('inf') # min value\n",
    "for _ in range(n):\n",
    "    v = 0\n",
    "    for i in range(n):\n",
    "        v += i * deq[i]\n",
    "        \n",
    "    mv = min(mv, v)\n",
    "    deq.rotate(1)\n",
    "    \n",
    "print(mv)"
   ]
  },
  {
   "cell_type": "markdown",
   "metadata": {},
   "source": [
    "### 하키 1358"
   ]
  },
  {
   "cell_type": "code",
   "execution_count": 33,
   "metadata": {},
   "outputs": [
    {
     "name": "stdout",
     "output_type": "stream",
     "text": [
      "20 10 5 0 3\n",
      "15 5\n",
      "1 5\n",
      "1 1\n",
      "2\n"
     ]
    }
   ],
   "source": [
    "w, h, x, y, p = map(int, input().split())\n",
    "\n",
    "c1 = (x, y + h / 2)\n",
    "c2 = (x + w, y + h / 2)\n",
    "\n",
    "get_dist_s = lambda a, b: (a[0] - b[0]) ** 2 + (a[1] - b[1]) ** 2\n",
    "\n",
    "def check(xx, yy):\n",
    "    if x <= xx <= x + w and y <= yy <= y + h:\n",
    "        return True\n",
    "    \n",
    "    if get_dist_s(c1, (xx, yy)) <= (h / 2) ** 2:\n",
    "        return True\n",
    "    \n",
    "    if get_dist_s(c2, (xx, yy)) <= (h / 2) ** 2:\n",
    "        return True\n",
    "    \n",
    "    return False\n",
    "\n",
    "count = 0\n",
    "for _ in range(p):\n",
    "    xx, yy = map(int, input().split())\n",
    "    \n",
    "    if check(xx, yy):\n",
    "        count += 1\n",
    "    \n",
    "print(count)"
   ]
  },
  {
   "cell_type": "markdown",
   "metadata": {},
   "source": [
    "### Sleepy Cow Sorting 17028"
   ]
  },
  {
   "cell_type": "code",
   "execution_count": 114,
   "metadata": {},
   "outputs": [
    {
     "name": "stdout",
     "output_type": "stream",
     "text": [
      "5\n",
      "3 1 2 4 5\n",
      "1\n"
     ]
    }
   ],
   "source": [
    "n = int(input())\n",
    "li = list(map(int, input().split()))\n",
    "\n",
    "count = 0\n",
    "while li:\n",
    "    if li == sorted(li):\n",
    "        break\n",
    "    li.pop(0)\n",
    "    count += 1\n",
    "            \n",
    "print(count)"
   ]
  },
  {
   "cell_type": "markdown",
   "metadata": {},
   "source": [
    "### 병약한 영정 14670"
   ]
  },
  {
   "cell_type": "code",
   "execution_count": 72,
   "metadata": {
    "scrolled": true
   },
   "outputs": [
    {
     "name": "stdout",
     "output_type": "stream",
     "text": [
      "3\n",
      "1 3\n",
      "4 2\n",
      "99 1\n",
      "4\n",
      "1 1\n",
      "3\n",
      "2 4 99\n",
      "2 1\n",
      "3 4 1 99\n",
      "2 3 1\n",
      "1 5\n",
      "YOU DIED\n"
     ]
    }
   ],
   "source": [
    "n = int(input())\n",
    "d = dict()\n",
    "for _ in range(n):\n",
    "    a, b = map(int, input().split())\n",
    "    d[a] = b\n",
    "    \n",
    "for _ in range(int(input())):\n",
    "    li = list(map(int, input().split()))\n",
    "    r = []\n",
    "    ip = True\n",
    "    for i in range(1, li[0] + 1):\n",
    "        if li[i] not in d:\n",
    "            ip = False\n",
    "            break\n",
    "        else:\n",
    "            r.append(d[li[i]])\n",
    "            \n",
    "    if not ip:\n",
    "        print('YOU DIED')\n",
    "    else:\n",
    "        print(*r)"
   ]
  },
  {
   "cell_type": "markdown",
   "metadata": {},
   "source": [
    "### Record Keeping 9872"
   ]
  },
  {
   "cell_type": "code",
   "execution_count": 79,
   "metadata": {},
   "outputs": [
    {
     "name": "stdout",
     "output_type": "stream",
     "text": [
      "5\n",
      "B E M\n",
      "F B I\n",
      "B E M\n",
      "M I F\n",
      "E B M\n",
      "3\n"
     ]
    }
   ],
   "source": [
    "from collections import Counter\n",
    "import sys\n",
    "input = lambda: sys.stdin.readline().rstrip()\n",
    "\n",
    "n = int(input())\n",
    "li = [input().split() for _ in range(n)]\n",
    "for i in range(n):\n",
    "    li[i] = tuple(sorted(li[i]))\n",
    "    \n",
    "c = Counter(li)\n",
    "r = c.most_common()[0][1]\n",
    "\n",
    "print(r)"
   ]
  },
  {
   "cell_type": "markdown",
   "metadata": {},
   "source": [
    "### 숫자세는 양 (Large) 14382"
   ]
  },
  {
   "cell_type": "code",
   "execution_count": 86,
   "metadata": {},
   "outputs": [
    {
     "name": "stdout",
     "output_type": "stream",
     "text": [
      "1\n",
      "0\n",
      "Case #1: INSOMNIA\n"
     ]
    }
   ],
   "source": [
    "for t in range(int(input())):\n",
    "    on = int(input())\n",
    "\n",
    "    if on == 0:\n",
    "        r = 'INSOMNIA'\n",
    "    else:\n",
    "        to_remove = set(range(10))\n",
    "        n = on\n",
    "        while True:\n",
    "            to_remove -= set(map(int, str(n)))\n",
    "            if not to_remove:\n",
    "                r = n\n",
    "                break\n",
    "            n += on\n",
    "\n",
    "    print(f'Case #{t + 1}: {r}')"
   ]
  },
  {
   "cell_type": "markdown",
   "metadata": {},
   "source": [
    "### 쿠키의 신체 측정 20125"
   ]
  },
  {
   "cell_type": "code",
   "execution_count": 99,
   "metadata": {},
   "outputs": [
    {
     "name": "stdout",
     "output_type": "stream",
     "text": [
      "9\n"
     ]
    }
   ],
   "source": [
    "import sys\n",
    "input = lambda: sys.stdin.readline().rstrip()\n",
    "\n",
    "n = int(input())\n",
    "li = [input() for _ in range(n)]\n",
    "\n",
    "hx = hy = -1\n",
    "for i in range(n):\n",
    "    for j in range(n):\n",
    "        if li[i][j] == '*':\n",
    "            hx = i + 1\n",
    "            hy = j\n",
    "            break\n",
    "    if hx != -1:\n",
    "        break\n",
    "        \n",
    "c1 = 0\n",
    "c2 = 0\n",
    "is_h = False\n",
    "for j in range(n):\n",
    "    if j == hy:\n",
    "        is_h = True\n",
    "        continue\n",
    "        \n",
    "    if li[hx][j] == '*':\n",
    "        if not is_h:\n",
    "            c1 += 1\n",
    "        else:\n",
    "            c2 += 1\n",
    "\n",
    "mid_bottom_x = -1\n",
    "for i in range(hx + 1, n):\n",
    "    if li[i][hy] != '*':\n",
    "        mid_bottom_x = i - 1\n",
    "        break\n",
    "        \n",
    "c3 = mid_bottom_x - hx\n",
    "\n",
    "c4 = 0\n",
    "for i in range(mid_bottom_x + 1, n):\n",
    "    if li[i][hy - 1] == '*':\n",
    "        c4 += 1\n",
    "    else:\n",
    "        break\n",
    "        \n",
    "c5 = 0\n",
    "for i in range(mid_bottom_x + 1, n):\n",
    "    if li[i][hy + 1] == '*':\n",
    "        c5 += 1\n",
    "    else:\n",
    "        break\n",
    "        \n",
    "print(hx + 1, hy + 1)\n",
    "print(c1, c2, c3, c4, c5)"
   ]
  },
  {
   "cell_type": "markdown",
   "metadata": {},
   "source": [
    "### 배수 스위치 12927"
   ]
  },
  {
   "cell_type": "code",
   "execution_count": 105,
   "metadata": {},
   "outputs": [
    {
     "name": "stdout",
     "output_type": "stream",
     "text": [
      "YNYNYNYNY\n",
      "2\n"
     ]
    }
   ],
   "source": [
    "li = list(input())\n",
    "n = len(li)\n",
    "\n",
    "c = 0\n",
    "for i in range(n):\n",
    "    if li[i] == 'N':\n",
    "        continue\n",
    "    c += 1 \n",
    "    \n",
    "    num = i + 1\n",
    "    for j in range(i, n, num):\n",
    "        if li[j] == 'N':\n",
    "            li[j] = 'Y'\n",
    "        else:\n",
    "            li[j] = 'N'\n",
    "    \n",
    "print(c)"
   ]
  },
  {
   "cell_type": "markdown",
   "metadata": {},
   "source": [
    "### 줄자접기 2597"
   ]
  },
  {
   "cell_type": "code",
   "execution_count": 108,
   "metadata": {},
   "outputs": [
    {
     "name": "stdout",
     "output_type": "stream",
     "text": [
      "5 2\n",
      "3\n",
      "3 5 1\n",
      "2\n",
      "4 2\n",
      "No\n"
     ]
    }
   ],
   "source": [
    "from heapq import heappush, heappop\n",
    "import sys\n",
    "input = lambda: sys.stdin.readline().rstrip()\n",
    "\n",
    "heap = []\n",
    "\n",
    "n, m = map(int, input().split())\n",
    "for num in range(m):\n",
    "    k = int(input())\n",
    "    li = list(map(int, input().split()))\n",
    "    \n",
    "    cur = 0\n",
    "    while li:\n",
    "        v = li.pop()\n",
    "        temp = (v, num, cur)\n",
    "        heappush(heap, temp)\n",
    "        cur += 1\n",
    "        \n",
    "curs = [0] * m\n",
    "ip = True\n",
    "while heap:\n",
    "    v, num, cur = heappop(heap)\n",
    "    if curs[num] != cur:\n",
    "        ip = False\n",
    "        break\n",
    "    curs[num] += 1\n",
    "    \n",
    "if ip:\n",
    "    print('Yes')\n",
    "else:\n",
    "    print('No')"
   ]
  },
  {
   "cell_type": "markdown",
   "metadata": {},
   "source": [
    "### 자료구조는 정말 최고야 23253"
   ]
  },
  {
   "cell_type": "code",
   "execution_count": 109,
   "metadata": {},
   "outputs": [
    {
     "name": "stdout",
     "output_type": "stream",
     "text": [
      "4 2\n",
      "2\n",
      "3 1\n",
      "2\n",
      "4 2\n",
      "Yes\n"
     ]
    }
   ],
   "source": [
    "import sys\n",
    "# input = lambda: sys.stdin.readline().rstrip()\n",
    "\n",
    "nli = []\n",
    "\n",
    "n, m = map(int, input().split())\n",
    "for num in range(m):\n",
    "    k = int(input())\n",
    "    li = list(map(int, input().split()))\n",
    "    \n",
    "    cur = 0\n",
    "    while li:\n",
    "        v = li.pop()\n",
    "        temp = (v, num, cur)\n",
    "        nli.append(temp)\n",
    "        cur += 1\n",
    "        \n",
    "nli.sort(key=lambda x: x[0])\n",
    "\n",
    "curs = [0] * m\n",
    "ip = True\n",
    "for v, num, cur in sorted(nli):\n",
    "    if curs[num] != cur:\n",
    "        ip = False\n",
    "        break\n",
    "    curs[num] += 1\n",
    "    \n",
    "if ip:\n",
    "    print('Yes')\n",
    "else:\n",
    "    print('No')"
   ]
  },
  {
   "cell_type": "markdown",
   "metadata": {},
   "source": [
    "### 어린 왕자 1004"
   ]
  },
  {
   "cell_type": "code",
   "execution_count": 2,
   "metadata": {},
   "outputs": [
    {
     "name": "stdout",
     "output_type": "stream",
     "text": [
      "-5 1 5 1\n",
      "1\n",
      "0 0 2\n",
      "0\n"
     ]
    }
   ],
   "source": [
    "import sys\n",
    "input = lambda: sys.stdin.readline().rstrip()\n",
    "\n",
    "for _ in range(int(input())):\n",
    "    x1, y1, x2, y2 = map(int, input().split())\n",
    "    n = int(input())\n",
    "\n",
    "    get_dist_s = lambda a, b: (a[0] - b[0]) ** 2 + (a[1] - b[1]) ** 2\n",
    "    count = 0\n",
    "    for _ in range(n):\n",
    "        cx, cy, r = map(int, input().split())\n",
    "\n",
    "        is_counted = 0\n",
    "\n",
    "        dist_s = get_dist_s((x1, y1), (cx, cy))\n",
    "        if dist_s < r ** 2:\n",
    "            is_counted ^= 1\n",
    "\n",
    "        dist_s = get_dist_s((x2, y2), (cx, cy))\n",
    "        if dist_s < r ** 2:\n",
    "            is_counted ^= 1\n",
    "\n",
    "        count += is_counted\n",
    "\n",
    "    print(count)"
   ]
  },
  {
   "cell_type": "markdown",
   "metadata": {},
   "source": [
    "### 풍선 터뜨리기 2346"
   ]
  },
  {
   "cell_type": "code",
   "execution_count": 4,
   "metadata": {},
   "outputs": [
    {
     "name": "stdout",
     "output_type": "stream",
     "text": [
      "5\n",
      "3 2 1 -3 -1\n",
      "1 4 5 3 2\n"
     ]
    }
   ],
   "source": [
    "from collections import deque\n",
    "\n",
    "n = int(input())\n",
    "li = list(map(int, input().split()))\n",
    "\n",
    "li = [(v, i + 1) for i, v in enumerate(li)]\n",
    "deq = deque(li)\n",
    "r = []\n",
    "while deq:\n",
    "    v, num = deq.popleft()\n",
    "    r.append(num)\n",
    "    \n",
    "    if v > 0:\n",
    "        deq.rotate(-(v - 1))\n",
    "    else:\n",
    "        deq.rotate(-v)\n",
    "    \n",
    "print(*r)"
   ]
  },
  {
   "cell_type": "markdown",
   "metadata": {},
   "source": [
    "### 대칭 차집합 1269"
   ]
  },
  {
   "cell_type": "code",
   "execution_count": 6,
   "metadata": {},
   "outputs": [
    {
     "name": "stdout",
     "output_type": "stream",
     "text": [
      "3 5\n",
      "1 2 4\n",
      "2 3 4 5 6\n",
      "4\n"
     ]
    }
   ],
   "source": [
    "an, bn = map(int, input().split())\n",
    "a = set(map(int, input().split()))\n",
    "b = set(map(int, input().split()))\n",
    "\n",
    "print(len(a ^ b))"
   ]
  },
  {
   "cell_type": "markdown",
   "metadata": {},
   "source": [
    "### 수강신청 13414"
   ]
  },
  {
   "cell_type": "code",
   "execution_count": 12,
   "metadata": {},
   "outputs": [
    {
     "name": "stdout",
     "output_type": "stream",
     "text": [
      "2 2\n",
      "03\n",
      "04\n",
      "03\n",
      "04\n"
     ]
    }
   ],
   "source": [
    "import sys\n",
    "# input = lambda: sys.stdin.readline().rstrip()\n",
    "\n",
    "k, l = map(int, input().split())\n",
    "li = [input() for _ in range(l)]\n",
    "\n",
    "lasts = dict()\n",
    "for i in range(l):\n",
    "    lasts[li[i]] = i\n",
    "    \n",
    "count = 0\n",
    "for i in range(l):\n",
    "    if i == lasts[li[i]]:\n",
    "        print(li[i])\n",
    "        count += 1\n",
    "        \n",
    "        if count == k:\n",
    "            break"
   ]
  },
  {
   "cell_type": "markdown",
   "metadata": {},
   "source": [
    "### 빈도 정렬 2910"
   ]
  },
  {
   "cell_type": "code",
   "execution_count": 15,
   "metadata": {},
   "outputs": [
    {
     "name": "stdout",
     "output_type": "stream",
     "text": [
      "9 77\n",
      "11 33 11 77 54 11 25 25 33\n",
      "11 11 11 33 33 25 25 77 54\n"
     ]
    }
   ],
   "source": [
    "from collections import Counter\n",
    "\n",
    "n, c = map(int, input().split())\n",
    "li = list(map(int, input().split()))\n",
    "\n",
    "firsts = dict()\n",
    "for i in range(n):\n",
    "    v = li[i]\n",
    "    if v not in firsts:\n",
    "        firsts[v] = i\n",
    "        \n",
    "ct = Counter(li)\n",
    "\n",
    "li = [(v, ct[v], firsts[v]) for v in li]\n",
    "li.sort(key=lambda x: (-x[1], x[2]))\n",
    "li = [v[0] for v in li]\n",
    "\n",
    "print(*li)"
   ]
  },
  {
   "cell_type": "markdown",
   "metadata": {},
   "source": [
    "### 서로 다른 부분 문자열의 개수 11478"
   ]
  },
  {
   "cell_type": "code",
   "execution_count": 26,
   "metadata": {},
   "outputs": [
    {
     "name": "stdout",
     "output_type": "stream",
     "text": [
      "1000\n"
     ]
    }
   ],
   "source": [
    "s = 'a' * 1000\n",
    "n = len(s)\n",
    "\n",
    "st = set()\n",
    "for length in range(1, n):\n",
    "    for start in range(n - length + 1):\n",
    "        st.add(s[start:start + length])\n",
    "        \n",
    "print(len(st) + 1)"
   ]
  },
  {
   "cell_type": "markdown",
   "metadata": {},
   "source": [
    "### 화살표 그리기 15975"
   ]
  },
  {
   "cell_type": "code",
   "execution_count": 34,
   "metadata": {},
   "outputs": [
    {
     "name": "stdout",
     "output_type": "stream",
     "text": [
      "45\n"
     ]
    }
   ],
   "source": [
    "from collections import defaultdict as dd\n",
    "\n",
    "n = int(input())\n",
    "li = [list(map(int, input().split())) for _ in range(n)]\n",
    "\n",
    "li.sort(key=lambda x: x[0])\n",
    "d = dd(list)\n",
    "for x, color in li:\n",
    "    d[color].append(x)\n",
    "    \n",
    "total = 0\n",
    "for color in d:\n",
    "    nn = len(d[color])\n",
    "    for i in range(nn):\n",
    "        cands = []\n",
    "        for ni in [i - 1, i + 1]:\n",
    "            if ni < 0 or ni == nn:\n",
    "                continue\n",
    "                \n",
    "            cands.append(abs(d[color][ni] - d[color][i]))\n",
    "            \n",
    "        if not cands:\n",
    "            continue\n",
    "        total += min(cands)\n",
    "        \n",
    "print(total)"
   ]
  },
  {
   "cell_type": "markdown",
   "metadata": {},
   "source": [
    "### KCPC 3758"
   ]
  },
  {
   "cell_type": "code",
   "execution_count": 39,
   "metadata": {},
   "outputs": [
    {
     "name": "stdout",
     "output_type": "stream",
     "text": [
      "4 4 1 10\n",
      "1 1 50\n",
      "2 1 20\n",
      "1 1 80\n",
      "3 1 0\n",
      "1 2 20\n",
      "2 2 10\n",
      "4 3 0\n",
      "2 1 0\n",
      "2 2 100\n",
      "1 4 20\n",
      "2\n"
     ]
    }
   ],
   "source": [
    "from collections import defaultdict as dd\n",
    "import sys\n",
    "# input = lambda: sys.stdin.readline().rstrip()\n",
    "\n",
    "for _ in range(int(input())):\n",
    "    n, k, team_id, m = map(int, input().split())\n",
    "\n",
    "    submitted_count = dd(int)\n",
    "    lasts = dd(int)\n",
    "    max_scores = dd(int)\n",
    "\n",
    "    for tm in range(m):\n",
    "        t_id, p_id, sc = map(int, input().split())\n",
    "\n",
    "        submitted_count[t_id] += 1\n",
    "        lasts[t_id] = tm\n",
    "        max_scores[(t_id, p_id)] = max(max_scores[(t_id, p_id)], sc)\n",
    "\n",
    "    total_scores = dd(int)\n",
    "    for t_id, p_id in max_scores:\n",
    "        total_scores[t_id] += max_scores[(t_id, p_id)]\n",
    "\n",
    "    status = []\n",
    "    for t_id in range(1, n + 1):\n",
    "        status.append((t_id, total_scores[t_id], lasts[t_id], submitted_count[t_id]))\n",
    "\n",
    "    status.sort(key=lambda x: (-x[1], x[3], x[2]))\n",
    "    r = [v[0] for v in status]\n",
    "    r = r.index(team_id) + 1\n",
    "\n",
    "    print(r)"
   ]
  },
  {
   "cell_type": "markdown",
   "metadata": {},
   "source": [
    "### 크면서 작은 수 2992"
   ]
  },
  {
   "cell_type": "code",
   "execution_count": 42,
   "metadata": {},
   "outputs": [
    {
     "name": "stdout",
     "output_type": "stream",
     "text": [
      "27711\n",
      "71127\n"
     ]
    }
   ],
   "source": [
    "from itertools import permutations as perm\n",
    "\n",
    "x = input()\n",
    "li = list(map(int, x))\n",
    "\n",
    "x = int(x)\n",
    "r = float('inf')\n",
    "for case in perm(li):\n",
    "    temp = int(''.join(map(str, case)))\n",
    "    \n",
    "    if temp > x:\n",
    "        r = min(r, temp)\n",
    "        \n",
    "if r == float('inf'):\n",
    "    print(0)\n",
    "else:\n",
    "    print(r)"
   ]
  },
  {
   "cell_type": "code",
   "execution_count": 44,
   "metadata": {},
   "outputs": [
    {
     "name": "stdout",
     "output_type": "stream",
     "text": [
      "5 6\n",
      "2 5 1 4 3\n",
      "1 5\n",
      "15\n",
      "2 4\n",
      "9\n",
      "3 3\n",
      "3\n",
      "1 3\n",
      "6\n",
      "2 5\n",
      "14\n",
      "4 5\n",
      "9\n"
     ]
    }
   ],
   "source": [
    "import sys\n",
    "input = lambda: sys.stdin.readline().rstrip()\n",
    "\n",
    "n, q = map(int, input().split())\n",
    "b = sorted(map(int, input().split()))\n",
    "\n",
    "sb = [0]\n",
    "cumul = 0\n",
    "for v in b:\n",
    "    cumul += v\n",
    "    sb.append(cumul)\n",
    "    \n",
    "for _ in range(q):\n",
    "    l, r = map(int, input().split())\n",
    "    l -= 1\n",
    "    r -= 1\n",
    "    \n",
    "    temp = sb[r + 1] - sb[l]\n",
    "    print(temp)"
   ]
  },
  {
   "cell_type": "markdown",
   "metadata": {},
   "source": [
    "### 꿀 아르바이트 12847"
   ]
  },
  {
   "cell_type": "code",
   "execution_count": 45,
   "metadata": {},
   "outputs": [
    {
     "name": "stdout",
     "output_type": "stream",
     "text": [
      "5 3\n",
      "10 20 30 20 10\n",
      "70\n"
     ]
    }
   ],
   "source": [
    "n, m = map(int, input().split())\n",
    "li = list(map(int, input().split()))\n",
    "\n",
    "cumul = 0\n",
    "for i in range(m):\n",
    "    cumul += li[i]\n",
    "    \n",
    "mv = cumul # max value\n",
    "for i in range(m, n):\n",
    "    cumul += li[i]\n",
    "    cumul -= li[i - m]\n",
    "    mv = max(mv, cumul)\n",
    "    \n",
    "print(mv)"
   ]
  },
  {
   "cell_type": "markdown",
   "metadata": {},
   "source": [
    "### 화학식량 2257"
   ]
  },
  {
   "cell_type": "code",
   "execution_count": 55,
   "metadata": {},
   "outputs": [
    {
     "name": "stdout",
     "output_type": "stream",
     "text": [
      "HH\n",
      "2\n"
     ]
    }
   ],
   "source": [
    "d = {'H': 1, 'C': 12, 'O': 16}\n",
    "\n",
    "def get_value(s):\n",
    "    temp = ''\n",
    "    is_opened = False\n",
    "    stack = []\n",
    "    last = 0\n",
    "    total = 0\n",
    "    \n",
    "    for v in s:\n",
    "        if v == '(':\n",
    "            if not stack:\n",
    "                is_opened = True\n",
    "            else:\n",
    "                temp += '('\n",
    "            stack.append(v)\n",
    "        elif v == ')':\n",
    "            stack.pop()\n",
    "            if not stack:\n",
    "                value = get_value(temp)\n",
    "                total += value\n",
    "                last = value\n",
    "                is_opened = False\n",
    "                temp = ''\n",
    "            else:\n",
    "                temp += ')'\n",
    "        elif is_opened:\n",
    "            temp += v\n",
    "        else:\n",
    "            if not v.isdigit():\n",
    "                total += d[v]\n",
    "                last = d[v]\n",
    "            else:\n",
    "                total += (int(v) - 1) * last\n",
    "                last = 0\n",
    "                \n",
    "    return total\n",
    "            \n",
    "s = input()\n",
    "\n",
    "r = get_value(s)\n",
    "\n",
    "print(r)"
   ]
  },
  {
   "cell_type": "markdown",
   "metadata": {},
   "source": [
    "### Breed Counting 11969"
   ]
  },
  {
   "cell_type": "code",
   "execution_count": 56,
   "metadata": {},
   "outputs": [
    {
     "name": "stdout",
     "output_type": "stream",
     "text": [
      "6 3\n",
      "2\n",
      "1\n",
      "1\n",
      "3\n",
      "2\n",
      "1\n",
      "1 6\n",
      "3 2 1\n",
      "3 3\n",
      "1 0 0\n",
      "2 4\n",
      "2 0 1\n"
     ]
    }
   ],
   "source": [
    "import sys\n",
    "input = lambda: sys.stdin.readline().rstrip()\n",
    "\n",
    "n, q = map(int, input().split())\n",
    "li = [int(input()) for _ in range(n)]\n",
    "\n",
    "sli = [[0, 0, 0]]\n",
    "cumuls = [0, 0, 0]\n",
    "for v in li:\n",
    "    cumuls[v - 1] += 1\n",
    "    sli.append(cumuls.copy())\n",
    "    \n",
    "for _ in range(q):\n",
    "    a, b = map(int, input().split())\n",
    "    a -= 1\n",
    "    b -= 1\n",
    "    \n",
    "    r = []\n",
    "    for i in range(3):\n",
    "        temp = sli[b + 1][i] - sli[a][i]\n",
    "        r.append(temp)\n",
    "        \n",
    "    print(*r)"
   ]
  },
  {
   "cell_type": "markdown",
   "metadata": {},
   "source": [
    "### 죽음의 게임 17204"
   ]
  },
  {
   "cell_type": "code",
   "execution_count": 62,
   "metadata": {},
   "outputs": [
    {
     "name": "stdout",
     "output_type": "stream",
     "text": [
      "6 2\n",
      "1\n",
      "3\n",
      "5\n",
      "4\n",
      "0\n",
      "2\n",
      "-1\n"
     ]
    }
   ],
   "source": [
    "import sys\n",
    "input = lambda: sys.stdin.readline().rstrip()\n",
    "\n",
    "n, k = map(int, input().split())\n",
    "\n",
    "li = [int(input()) for _ in range(n)]\n",
    "st = {0}\n",
    "cur = 0\n",
    "c = 1\n",
    "while True:\n",
    "    cur = li[cur]\n",
    "    if cur == k:\n",
    "        break\n",
    "        \n",
    "    if cur in st:\n",
    "        c = -1\n",
    "        break\n",
    "    st.add(cur)\n",
    "    c += 1\n",
    "    \n",
    "print(c)"
   ]
  },
  {
   "cell_type": "markdown",
   "metadata": {},
   "source": [
    "### 줄자접기 2597"
   ]
  },
  {
   "cell_type": "code",
   "execution_count": 14,
   "metadata": {},
   "outputs": [
    {
     "name": "stdout",
     "output_type": "stream",
     "text": [
      "10\n",
      "2 7\n",
      "5 4\n",
      "10 3\n",
      "3.5\n"
     ]
    }
   ],
   "source": [
    "n = int(input())\n",
    "ax, ay = map(int, input().split())\n",
    "bx, by = map(int, input().split())\n",
    "cx, cy = map(int, input().split())\n",
    "\n",
    "amid = (ax + ay) / 2\n",
    "\n",
    "aleft = amid\n",
    "aright = n - amid\n",
    "\n",
    "if aleft <= aright:\n",
    "    if bx < amid:\n",
    "        bx += (amid - bx) * 2\n",
    "    if by < amid:\n",
    "        by += (amid - by) * 2\n",
    "    if cx < amid:\n",
    "        cx += (amid - cx) * 2\n",
    "    if cy < amid:\n",
    "        cy += (amid - cy) * 2\n",
    "    \n",
    "    bx -= aleft\n",
    "    by -= aleft\n",
    "    cx -= aleft\n",
    "    cy -= aleft\n",
    "    n = aright\n",
    "else:\n",
    "    if bx > amid:\n",
    "        bx -= (bx - amid) * 2\n",
    "    if by > amid:\n",
    "        by -= (by - amid) * 2\n",
    "    if cx > amid:\n",
    "        cx -= (cx - amid) * 2\n",
    "    if cy > amid:\n",
    "        cy -= (cy - amid) * 2\n",
    "    n = aleft\n",
    "    \n",
    "if bx != by:\n",
    "    bmid = (bx + by) / 2\n",
    "    \n",
    "    bleft = bmid\n",
    "    bright = n - bmid\n",
    "    if bleft <= bright:\n",
    "        if cx < bmid:\n",
    "            cx += (bmid - cx) * 2\n",
    "        if cy < bmid:\n",
    "            cy += (bmid - cy) * 2\n",
    "            \n",
    "        cx -= bleft\n",
    "        cy -= bleft\n",
    "        n = bright\n",
    "    else:\n",
    "        if cx > bmid:\n",
    "            cx -= (cx - bmid) * 2\n",
    "        if cy > bmid:\n",
    "            cy -= (cy - bmid) * 2\n",
    "        n = bleft\n",
    "        \n",
    "if cx != cy:\n",
    "    cmid = (cx + cy) / 2\n",
    "    \n",
    "    cleft = cmid\n",
    "    cright = n - cmid\n",
    "    \n",
    "    n = max(cleft, cright)\n",
    "    \n",
    "r = '{:.1f}'.format(n)\n",
    "\n",
    "print(n)"
   ]
  },
  {
   "cell_type": "markdown",
   "metadata": {},
   "source": [
    "### 베스킨라빈스 31 20004"
   ]
  },
  {
   "cell_type": "code",
   "execution_count": 16,
   "metadata": {},
   "outputs": [
    {
     "name": "stdout",
     "output_type": "stream",
     "text": [
      "2\n",
      "1\n",
      "2\n"
     ]
    }
   ],
   "source": [
    "li = [1, 2, 4, 5, 9, 14, 29]\n",
    "\n",
    "a = int(input())\n",
    "for v in li:\n",
    "    if v > a:\n",
    "        break\n",
    "    print(v)"
   ]
  },
  {
   "cell_type": "code",
   "execution_count": 19,
   "metadata": {},
   "outputs": [
    {
     "name": "stdout",
     "output_type": "stream",
     "text": [
      "3 6\n",
      "2 34 67 36 79 93\n",
      "100 38 21 76 91 85\n",
      "32 23 85 31 88 1\n",
      "1 2 21 23 31 32 34 36 38 67 76 79 88 91 93 100\n"
     ]
    }
   ],
   "source": [
    "from collections import Counter\n",
    "import sys\n",
    "input = lambda: sys.stdin.readline().rstrip()\n",
    "\n",
    "while True:\n",
    "    n, m = map(int, input().split())\n",
    "    if n == 0 and m == 0:\n",
    "        break\n",
    "    \n",
    "    li = [list(map(int, input().split())) for _ in range(n)]\n",
    "\n",
    "    li = sum(li, [])\n",
    "    c = Counter(li)\n",
    "    mc = c.most_common()\n",
    "\n",
    "    cri = mc[1][1]\n",
    "    r = []\n",
    "    for i in range(1, len(mc)):\n",
    "        if mc[i][1] == cri:\n",
    "            r.append(mc[i][0])\n",
    "\n",
    "    r.sort()\n",
    "\n",
    "    print(*r)"
   ]
  },
  {
   "cell_type": "markdown",
   "metadata": {},
   "source": [
    "### 서든어택 3 22993"
   ]
  },
  {
   "cell_type": "code",
   "execution_count": 21,
   "metadata": {},
   "outputs": [
    {
     "name": "stdout",
     "output_type": "stream",
     "text": [
      "5\n",
      "2 1 1 1 10\n",
      "No\n"
     ]
    }
   ],
   "source": [
    "n = int(input())\n",
    "li = list(map(int, input().split()))\n",
    "\n",
    "cur = li.pop(0)\n",
    "li.sort()\n",
    "\n",
    "ip = True\n",
    "for v in li:\n",
    "    if v < cur:\n",
    "        cur += v\n",
    "    else:\n",
    "        ip = False\n",
    "        break\n",
    "        \n",
    "if ip:\n",
    "    print('Yes')\n",
    "else:\n",
    "    print('No')"
   ]
  },
  {
   "cell_type": "markdown",
   "metadata": {},
   "source": [
    "### 피자 3213"
   ]
  },
  {
   "cell_type": "code",
   "execution_count": 26,
   "metadata": {},
   "outputs": [
    {
     "name": "stdout",
     "output_type": "stream",
     "text": [
      "6\n",
      "3/4\n",
      "1/2\n",
      "3/4\n",
      "1/2\n",
      "1/4\n",
      "1/2\n",
      "4\n"
     ]
    }
   ],
   "source": [
    "n = int(input())\n",
    "\n",
    "c12 = 0\n",
    "c34 = 0\n",
    "c14 = 0\n",
    "for _ in range(n):\n",
    "    s = input()\n",
    "    \n",
    "    if s == '1/2':\n",
    "        c12 += 1\n",
    "    elif s == '1/4':\n",
    "        c14 += 1\n",
    "    else:\n",
    "        c34 += 1\n",
    "        \n",
    "total = 0\n",
    "if c12 >= 2:\n",
    "    total += c12 // 2\n",
    "    c12 %= 2\n",
    "    \n",
    "if c14 >= 1 and c34 >= 1:\n",
    "    temp = min(c14, c34)\n",
    "    \n",
    "    total += temp\n",
    "    c14 -= temp\n",
    "    c34 -= temp\n",
    "    \n",
    "if c12 and c14:\n",
    "    c12 -= 1\n",
    "    c14 -= 1\n",
    "    total += 1\n",
    "\n",
    "total += c12    \n",
    "total += c34\n",
    "total += c14 // 4\n",
    "if c14 % 4:\n",
    "    total += 1\n",
    "    \n",
    "print(total)"
   ]
  },
  {
   "cell_type": "markdown",
   "metadata": {},
   "source": [
    "### 악마 게임 16677"
   ]
  },
  {
   "cell_type": "code",
   "execution_count": 32,
   "metadata": {},
   "outputs": [
    {
     "name": "stdout",
     "output_type": "stream",
     "text": [
      "DEVILIV\n",
      "4\n",
      "DEVILIVI 10\n",
      "DEVILM 11\n",
      "DEVILIVCONFIRMED 66\n",
      "DENVERVILLAINV 70\n",
      "DEVILIVI\n"
     ]
    }
   ],
   "source": [
    "from collections import Counter\n",
    "\n",
    "s = input()\n",
    "n = int(input())\n",
    "\n",
    "ns = len(s)\n",
    "cs = Counter(s)\n",
    "li = []\n",
    "for num in range(n):\n",
    "    t, v = input().split()\n",
    "    v = int(v)\n",
    "    nt = len(t)\n",
    "    \n",
    "    ts = 0 # to search\n",
    "    ip = False\n",
    "    for i in range(nt):\n",
    "        if t[i] == s[ts]:\n",
    "            ts += 1\n",
    "        \n",
    "            if ts == ns:\n",
    "                ip = True\n",
    "                break\n",
    "                \n",
    "    if not ip:\n",
    "        continue\n",
    "    \n",
    "    ct = Counter(t)\n",
    "    temp = (ct - cs)\n",
    "    \n",
    "    added = sum(temp.values())\n",
    "    \n",
    "    li.append((t, v / added, num))\n",
    "    \n",
    "li.sort(key=lambda x: (-x[1], x[2]))\n",
    "\n",
    "if not li:\n",
    "    print('No Jam')\n",
    "else:\n",
    "    print(li[0][0])"
   ]
  },
  {
   "cell_type": "markdown",
   "metadata": {},
   "source": [
    "### Lemonade Line 15761"
   ]
  },
  {
   "cell_type": "code",
   "execution_count": 33,
   "metadata": {},
   "outputs": [
    {
     "name": "stdout",
     "output_type": "stream",
     "text": [
      "5\n",
      "7 1 400 2 2\n",
      "3\n"
     ]
    }
   ],
   "source": [
    "n = int(input())\n",
    "li = sorted(map(int, input().split()))\n",
    "\n",
    "count = 0\n",
    "while li:\n",
    "    temp = li.pop()\n",
    "    \n",
    "    if temp >= count:\n",
    "        count += 1\n",
    "    else:\n",
    "        break\n",
    "        \n",
    "print(count)"
   ]
  },
  {
   "cell_type": "markdown",
   "metadata": {},
   "source": [
    "### 궁합 쌍 찾기 14911"
   ]
  },
  {
   "cell_type": "code",
   "execution_count": 43,
   "metadata": {},
   "outputs": [
    {
     "name": "stdout",
     "output_type": "stream",
     "text": [
      "1 1 2 2\n",
      "3\n",
      "1 2\n",
      "1\n"
     ]
    }
   ],
   "source": [
    "li = list(map(int, input().split()))\n",
    "target = int(input())\n",
    "n = len(li)\n",
    "\n",
    "r = set()\n",
    "for i in range(n):\n",
    "    for j in range(i + 1, n):\n",
    "        if li[i] + li[j] == target:\n",
    "            temp = [li[i], li[j]]\n",
    "            temp.sort()\n",
    "            r.add(tuple(temp))\n",
    "            \n",
    "r = sorted(r)\n",
    "\n",
    "for v in r:\n",
    "    print(*v)\n",
    "print(len(r))"
   ]
  },
  {
   "cell_type": "markdown",
   "metadata": {},
   "source": [
    "### 카드놀이 3231"
   ]
  },
  {
   "cell_type": "code",
   "execution_count": 46,
   "metadata": {},
   "outputs": [
    {
     "name": "stdout",
     "output_type": "stream",
     "text": [
      "7\n",
      "3\n",
      "6\n",
      "7\n",
      "1\n",
      "5\n",
      "4\n",
      "2\n",
      "3\n"
     ]
    }
   ],
   "source": [
    "import sys\n",
    "input = lambda: sys.stdin.readline().rstrip()\n",
    "\n",
    "n = int(input())\n",
    "li = [(int(input()), i) for i in range(n)]\n",
    "\n",
    "li.sort(key=lambda x: x[0])\n",
    "count = 0\n",
    "for i in range(n - 1):\n",
    "    if li[i][1] > li[i + 1][1]:\n",
    "        count += 1\n",
    "        \n",
    "print(count)"
   ]
  },
  {
   "cell_type": "markdown",
   "metadata": {},
   "source": [
    "### 나무 블록 4921"
   ]
  },
  {
   "cell_type": "code",
   "execution_count": null,
   "metadata": {},
   "outputs": [],
   "source": [
    "1 다음은 4, 5\n",
    "\n",
    "3 다음은 4, 5\n",
    "4 다음은 2, 3\n",
    "5 다음은 8\n",
    "6 다음은 2, 3\n",
    "7 다음은 8\n",
    "8 다음은 6, 7"
   ]
  },
  {
   "cell_type": "code",
   "execution_count": 52,
   "metadata": {},
   "outputs": [
    {
     "name": "stdout",
     "output_type": "stream",
     "text": [
      "142\n",
      "1. VALID\n",
      "0\n"
     ]
    }
   ],
   "source": [
    "import sys\n",
    "input = lambda: sys.stdin.readline().rstrip()\n",
    "\n",
    "pncs = [[], [4, 5], [], [4, 5], [2, 3], [8], [2, 3], [8], [6, 7]] # possible next cases\n",
    "\n",
    "def check(li):\n",
    "    if li[0] != 1 or li[-1] != 2:\n",
    "        return False\n",
    "    for i in range(len(li) - 1):\n",
    "        if li[i + 1] not in pncs[li[i]]:\n",
    "            return False\n",
    "        \n",
    "    return True\n",
    "\n",
    "num = 1\n",
    "while True:\n",
    "    li = list(map(int, input()))\n",
    "    if li[0] == 0:\n",
    "        break\n",
    "    \n",
    "    if check(li):\n",
    "        r = 'VALID'\n",
    "    else:\n",
    "        r = 'NOT'\n",
    "\n",
    "    print(f'{num}. {r}')\n",
    "    num += 1"
   ]
  },
  {
   "cell_type": "markdown",
   "metadata": {},
   "source": [
    "### Maximum Word Frequency 9612"
   ]
  },
  {
   "cell_type": "code",
   "execution_count": 53,
   "metadata": {},
   "outputs": [
    {
     "name": "stdout",
     "output_type": "stream",
     "text": [
      "10\n",
      "mountain\n",
      "lake\n",
      "lake\n",
      "zebra\n",
      "tree\n",
      "lake\n",
      "zebra\n",
      "zebra\n",
      "animal\n",
      "lakes\n",
      "zebra 3\n"
     ]
    }
   ],
   "source": [
    "from collections import Counter\n",
    "import sys\n",
    "input = lambda: sys.stdin.readline().rstrip()\n",
    "\n",
    "n = int(input())\n",
    "li = [input() for _ in range(n)]\n",
    "\n",
    "c = Counter(li)\n",
    "mc = c.most_common()\n",
    "\n",
    "cri = mc[0][1]\n",
    "cands = []\n",
    "for v, count in mc:\n",
    "    if count == cri:\n",
    "        cands.append(v)\n",
    "    else:\n",
    "        break\n",
    "        \n",
    "cands.sort()\n",
    "\n",
    "print(cands[-1], cri)"
   ]
  },
  {
   "cell_type": "markdown",
   "metadata": {},
   "source": [
    "### 세상은 하나의 손수건 20493"
   ]
  },
  {
   "cell_type": "code",
   "execution_count": 55,
   "metadata": {},
   "outputs": [
    {
     "name": "stdout",
     "output_type": "stream",
     "text": [
      "3 100\n",
      "30 right\n",
      "50 right\n",
      "60 left\n",
      "20 -60\n"
     ]
    }
   ],
   "source": [
    "import sys\n",
    "input = lambda: sys.stdin.readline().rstrip()\n",
    "\n",
    "# 동, 남, 서, 북\n",
    "dx = [1, 0, -1, 0]\n",
    "dy = [0, -1, 0, 1]\n",
    "cur_d = 0\n",
    "\n",
    "n, end_t = map(int, input().split())\n",
    "\n",
    "x, y = 0, 0\n",
    "cur_t = 0\n",
    "for _ in range(n):\n",
    "    t, s = input().split()\n",
    "    \n",
    "    t = int(t)\n",
    "    if s == 'left':\n",
    "        s = -1\n",
    "    else:\n",
    "        s = 1\n",
    "        \n",
    "    spent = t - cur_t\n",
    "    x += dx[cur_d] * spent\n",
    "    y += dy[cur_d] * spent\n",
    "    \n",
    "    cur_d += s\n",
    "    cur_d %= 4\n",
    "    \n",
    "    cur_t = t\n",
    "    \n",
    "spent = end_t - cur_t\n",
    "x += dx[cur_d] * spent\n",
    "y += dy[cur_d] * spent\n",
    "\n",
    "print(x, y)"
   ]
  },
  {
   "cell_type": "markdown",
   "metadata": {},
   "source": [
    "### 저지 10774"
   ]
  },
  {
   "cell_type": "code",
   "execution_count": null,
   "metadata": {},
   "outputs": [],
   "source": [
    "import sys\n",
    "# input = lambda: sys.stdin.readline().rstrip()\n",
    "\n",
    "n = int(input())\n",
    "a = int(input())\n",
    "\n",
    "d = {'S': 1, 'M': 2, 'L': 3}\n",
    "\n",
    "li = [d[input()] for _ in range(n)]\n",
    "used = [False] * n\n",
    "\n",
    "count = 0\n",
    "for _ in range(a):\n",
    "    size, num = input().split()\n",
    "    \n",
    "    size = d[size]\n",
    "    num = int(num) - 1\n",
    "    \n",
    "    if num >= n:\n",
    "        continue\n",
    "    if used[num]:\n",
    "        continue\n",
    "    if size <= li[num]:\n",
    "        count += 1\n",
    "        used[num] = True\n",
    "        \n",
    "print(count)"
   ]
  },
  {
   "cell_type": "markdown",
   "metadata": {},
   "source": [
    "### 소를 찾아라 5874"
   ]
  },
  {
   "cell_type": "code",
   "execution_count": 74,
   "metadata": {},
   "outputs": [
    {
     "name": "stdout",
     "output_type": "stream",
     "text": [
      "(()))\n",
      "2\n"
     ]
    }
   ],
   "source": [
    "from bisect import bisect_left\n",
    "\n",
    "s = input()\n",
    "\n",
    "opened = []\n",
    "closed = []\n",
    "for i in range(len(s) - 1):\n",
    "    if s[i] == s[i + 1]:\n",
    "        if s[i] == '(':\n",
    "            opened.append(i)\n",
    "        else:\n",
    "            closed.append(i)\n",
    "\n",
    "n_cl = len(closed)\n",
    "total = 0\n",
    "for v in opened:\n",
    "    total += n_cl - bisect_left(closed, v)\n",
    "    \n",
    "print(total)"
   ]
  },
  {
   "cell_type": "code",
   "execution_count": 76,
   "metadata": {},
   "outputs": [
    {
     "name": "stdout",
     "output_type": "stream",
     "text": [
      "5\n",
      "4 2 0 2 0\n",
      "LOOP\n"
     ]
    }
   ],
   "source": [
    "import sys\n",
    "input = lambda: sys.stdin.readline().rstrip()\n",
    "\n",
    "for _ in range(int(input())):\n",
    "    n = int(input())\n",
    "    li = list(map(int, input().split()))\n",
    "\n",
    "    st = set()\n",
    "    st.add(tuple(li))\n",
    "    is_zero = False\n",
    "    while True:\n",
    "        li.append(li[0])\n",
    "\n",
    "        nli = []\n",
    "        for i in range(n):\n",
    "            nli.append(abs(li[i + 1] - li[i]))\n",
    "\n",
    "        li = nli.copy()\n",
    "        if li.count(0) == n:\n",
    "            is_zero = True\n",
    "            break\n",
    "\n",
    "        tp = tuple(li)\n",
    "        if tp in st:\n",
    "            break\n",
    "        st.add(tp)\n",
    "\n",
    "    if is_zero:\n",
    "        print('ZERO')\n",
    "    else:\n",
    "        print('LOOP')"
   ]
  },
  {
   "cell_type": "markdown",
   "metadata": {},
   "source": [
    "### 짝 정하기 2599"
   ]
  },
  {
   "cell_type": "code",
   "execution_count": 10,
   "metadata": {},
   "outputs": [
    {
     "name": "stdout",
     "output_type": "stream",
     "text": [
      "6\n",
      "4 2\n",
      "1 3\n",
      "1 1\n",
      "1\n",
      "3 1\n",
      "1 0\n",
      "1 0\n"
     ]
    }
   ],
   "source": [
    "def check():\n",
    "    if a1 > b2 + c2 or b1 > a2 + c2 or c1 > a2 + b2 or a2 > b1 + c1 or b2 > a1 + c1 or c2 > a1 + b1:\n",
    "        return False\n",
    "    return True\n",
    "\n",
    "n = int(input())\n",
    "a1, a2 = map(int, input().split())\n",
    "b1, b2 = map(int, input().split())\n",
    "c1, c2 = map(int, input().split())\n",
    "\n",
    "result = [[0] * 3 for _ in range(3)]\n",
    "\n",
    "while a1 and b2:\n",
    "    a1 -= 1\n",
    "    b2 -= 1\n",
    "    if check():\n",
    "        result[0][1] += 1\n",
    "        continue\n",
    "    else:\n",
    "        a1 += 1\n",
    "        b2 += 1\n",
    "        break\n",
    "while a1 and c2:\n",
    "    a1 -= 1\n",
    "    c2 -= 1\n",
    "    if check():\n",
    "        result[0][2] += 1\n",
    "        continue\n",
    "    else:\n",
    "        a1 += 1\n",
    "        c2 += 1\n",
    "        break    \n",
    "while b1 and a2:\n",
    "    b1 -=1 \n",
    "    a2 -= 1\n",
    "    if check():\n",
    "        result[1][0] += 1\n",
    "        continue\n",
    "    else:\n",
    "        b1 += 1\n",
    "        a2 += 1\n",
    "        break       \n",
    "while b1 and c2:\n",
    "    b1 -= 1\n",
    "    c2 -= 1\n",
    "    if check():\n",
    "        result[1][2] += 1\n",
    "        continue\n",
    "    else:\n",
    "        b1 += 1\n",
    "        c2 += 1\n",
    "        break     \n",
    "while c1 and a2:\n",
    "    c1 -= 1\n",
    "    a2 -= 1\n",
    "    if check():\n",
    "        result[2][0] += 1\n",
    "        continue\n",
    "    else:\n",
    "        c1 += 1\n",
    "        a2 += 1\n",
    "        break\n",
    "while c1 and b2:\n",
    "    c1 -= 1\n",
    "    b2 -= 1\n",
    "    if check():\n",
    "        result[2][1] += 1\n",
    "        continue\n",
    "    else:\n",
    "        c1 += 1\n",
    "        b2 += 1\n",
    "        break        \n",
    "if a1 + a2 + b1 + b2 + c1 + c2 >= 10:\n",
    "    print(0)\n",
    "else:  \n",
    "    print(1)\n",
    "    print(*result[0][1:])\n",
    "    print(result[1][0], result[1][2])\n",
    "    print(*result[2][:-1])"
   ]
  }
 ],
 "metadata": {
  "kernelspec": {
   "display_name": "Python 3",
   "language": "python",
   "name": "python3"
  },
  "language_info": {
   "codemirror_mode": {
    "name": "ipython",
    "version": 3
   },
   "file_extension": ".py",
   "mimetype": "text/x-python",
   "name": "python",
   "nbconvert_exporter": "python",
   "pygments_lexer": "ipython3",
   "version": "3.7.4"
  }
 },
 "nbformat": 4,
 "nbformat_minor": 4
}
