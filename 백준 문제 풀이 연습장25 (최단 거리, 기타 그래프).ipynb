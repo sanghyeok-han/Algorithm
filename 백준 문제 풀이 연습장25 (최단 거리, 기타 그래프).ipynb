{
 "cells": [
  {
   "cell_type": "markdown",
   "metadata": {},
   "source": [
    "### 게임 1584\n",
    "- 그래프 이론, 그래프 탐색, 너비 우선 탐색, 누적 합, 다익스트라"
   ]
  },
  {
   "cell_type": "code",
   "execution_count": 3,
   "metadata": {},
   "outputs": [
    {
     "name": "stdout",
     "output_type": "stream",
     "text": [
      "1\n",
      "500 0 0 500\n",
      "1\n",
      "0 0 0 0\n",
      "1000\n"
     ]
    }
   ],
   "source": [
    "from collections import deque\n",
    "\n",
    "li = [[0] * 501 for _ in range(501)] # 0: 안전 구역, # 1: 위험 구역, # 2: 죽음의 구역\n",
    "\n",
    "n = int(input())\n",
    "for _ in range(n):\n",
    "    x1, y1, x2, y2 = list(map(int, input().split()))\n",
    "    \n",
    "    for i in range(min(x1, x2), max(x1, x2) + 1):\n",
    "        for j in range(min(y1, y2), max(y1, y2) + 1):\n",
    "            li[i][j] = 1\n",
    "            \n",
    "m = int(input())\n",
    "for _ in range(m):\n",
    "    x1, y1, x2, y2 = list(map(int, input().split()))\n",
    "    \n",
    "    for i in range(min(x1, x2), max(x1, x2) + 1):\n",
    "        for j in range(min(y1, y2), max(y1, y2) + 1):\n",
    "            li[i][j] = 2\n",
    "\n",
    "dx = [0, 0, -1, 1]\n",
    "dy = [-1, 1, 0, 0]\n",
    "queue = deque()\n",
    "queue.append((0, 0)) # (x, y)\n",
    "costs = [[float('inf')] * 501 for _ in range(501)]\n",
    "costs[0][0] = 0\n",
    "\n",
    "while queue:\n",
    "    x, y = queue.popleft()\n",
    "    \n",
    "    for i in range(4):\n",
    "        nx = x + dx[i]\n",
    "        ny = y + dy[i]\n",
    "        if nx < 0 or nx >= 501 or ny < 0 or ny >= 501:\n",
    "            continue\n",
    "        if li[nx][ny] == 2:\n",
    "            continue\n",
    "        if li[nx][ny] == 0:\n",
    "            if costs[x][y] < costs[nx][ny]:\n",
    "                costs[nx][ny] = costs[x][y]\n",
    "                queue.append((nx, ny))\n",
    "        else:\n",
    "            if costs[x][y] + 1 < costs[nx][ny]:\n",
    "                costs[nx][ny] = costs[x][y] + 1\n",
    "                queue.append((nx, ny))\n",
    "                \n",
    "if costs[500][500] == float('inf'):\n",
    "    print(-1)\n",
    "else:\n",
    "    print(costs[500][500])"
   ]
  },
  {
   "cell_type": "markdown",
   "metadata": {},
   "source": [
    "### 택배 배송 5972"
   ]
  },
  {
   "cell_type": "code",
   "execution_count": 5,
   "metadata": {},
   "outputs": [
    {
     "name": "stdout",
     "output_type": "stream",
     "text": [
      "5\n"
     ]
    }
   ],
   "source": [
    "from heapq import heappush, heappop\n",
    "import sys\n",
    "input = sys.stdin.readline\n",
    "\n",
    "n, m = map(int, input().rstrip().split())\n",
    "\n",
    "li = [[] for _ in range(n)]\n",
    "for _ in range(m):\n",
    "    a, b, c = map(int, input().rstrip().split())\n",
    "    a -= 1\n",
    "    b -= 1\n",
    "    \n",
    "    li[a].append((b, c))\n",
    "    li[b].append((a, c))\n",
    "    \n",
    "costs = [float('inf')] * (n + 1)\n",
    "costs[0] = 0\n",
    "\n",
    "heap = []\n",
    "heappush(heap, (0, 0)) # (cost, node)\n",
    "\n",
    "while heap:\n",
    "    cost, value = heappop(heap)\n",
    "    \n",
    "    for v, c in li[value]:\n",
    "        ncost = cost + c\n",
    "        if ncost < costs[v]:\n",
    "            costs[v] = ncost\n",
    "            heappush(heap, (ncost, v))\n",
    "\n",
    "print(costs[n - 1])"
   ]
  },
  {
   "cell_type": "markdown",
   "metadata": {},
   "source": [
    "### 엔터프라이즈호 탈출 9505"
   ]
  },
  {
   "cell_type": "code",
   "execution_count": 11,
   "metadata": {},
   "outputs": [
    {
     "name": "stdout",
     "output_type": "stream",
     "text": [
      "2 6 3\n",
      "A 100\n",
      "B 1000\n",
      "BBBBBB\n",
      "AAAAEB\n",
      "BBBBBB\n",
      "400\n"
     ]
    }
   ],
   "source": [
    "# 시간 초과\n",
    "from heapq import heappush, heappop\n",
    "import sys\n",
    "# input = sys.stdin.readline\n",
    "\n",
    "for _ in range(int(input().rstrip())):\n",
    "    k, w, h = map(int, input().rstrip().split())\n",
    "\n",
    "    classes = dict()\n",
    "    for _ in range(k):\n",
    "        alpha, cost = input().rstrip().split()\n",
    "        classes[alpha] = int(cost)\n",
    "    classes['E'] = 0\n",
    "\n",
    "    li = [input().rstrip() for _ in range(h)]\n",
    "    sx = sy = 0\n",
    "    for i in range(h):\n",
    "        for j in range(w):\n",
    "            if li[i][j] == 'E':\n",
    "                sx, sy = i, j\n",
    "                break\n",
    "\n",
    "    dx = [-1, 1, 0, 0]\n",
    "    dy = [0, 0, -1, 1]\n",
    "\n",
    "    costs = [[float('inf')] * w for _ in range(h)]\n",
    "    costs[sx][sy] = 0\n",
    "    heap = []\n",
    "    heappush(heap, (0, sx, sy)) # cost, x, y\n",
    "    while heap:\n",
    "        cost, x, y = heappop(heap)\n",
    "\n",
    "        for i in range(4):\n",
    "            nx, ny = x + dx[i], y + dy[i]\n",
    "            if nx < 0 or nx >= h or ny < 0 or ny >= w:\n",
    "                continue\n",
    "            ncost = cost + classes[li[nx][ny]]\n",
    "            if ncost < costs[nx][ny]:\n",
    "                costs[nx][ny] = ncost\n",
    "                heappush(heap, (ncost, nx, ny))\n",
    "\n",
    "    min_result = float('inf')\n",
    "    for i in range(h):\n",
    "        for j in range(w):\n",
    "            if i == 0 or i == h - 1 or j == 0 or j == w - 1:\n",
    "                min_result = min(min_result, costs[i][j])\n",
    "\n",
    "    print(min_result)"
   ]
  },
  {
   "cell_type": "code",
   "execution_count": 25,
   "metadata": {},
   "outputs": [
    {
     "name": "stdout",
     "output_type": "stream",
     "text": [
      "1\n",
      "2 6 3\n",
      "A 100\n",
      "B 1000\n",
      "BBBBBB\n",
      "AAAAEB\n",
      "BBBBBB\n",
      "400\n"
     ]
    }
   ],
   "source": [
    "# 시간 초과, 일단 포기\n",
    "from collections import deque\n",
    "import sys\n",
    "# input = sys.stdin.readline\n",
    "\n",
    "for _ in range(int(input().rstrip())):\n",
    "    k, w, h = map(int, input().rstrip().split())\n",
    "\n",
    "    classes = dict()\n",
    "    for _ in range(k):\n",
    "        alpha, cost = input().rstrip().split()\n",
    "        classes[alpha] = int(cost)\n",
    "    classes['E'] = 0\n",
    "\n",
    "    li = [list(input().rstrip()) for _ in range(h)]\n",
    "    sx = sy = 0\n",
    "    for i in range(h):\n",
    "        for j in range(w):\n",
    "            if li[i][j] == 'E':\n",
    "                sx, sy = i, j\n",
    "            li[i][j] = classes[li[i][j]]\n",
    "\n",
    "    dx = [-1, 1, 0, 0]\n",
    "    dy = [0, 0, -1, 1]\n",
    "\n",
    "    costs = [[float('inf')] * w for _ in range(h)]\n",
    "    costs[sx][sy] = 0\n",
    "    queue = deque()\n",
    "    queue.append((sx, sy))\n",
    "    \n",
    "    while queue:\n",
    "        x, y = queue.popleft()\n",
    "\n",
    "        for i in range(4):\n",
    "            nx, ny = x + dx[i], y + dy[i]\n",
    "            if nx < 0 or nx >= h or ny < 0 or ny >= w:\n",
    "                continue  \n",
    "            ncost = costs[x][y] + li[nx][ny]\n",
    "            if ncost < costs[nx][ny]:\n",
    "                costs[nx][ny] = ncost\n",
    "                queue.append((nx, ny))\n",
    "                \n",
    "    min_result = min(costs[0])\n",
    "    min_result = min(min_result, min(costs[-1]))\n",
    "    for i in range(1, h - 1):\n",
    "        for j in (0, w - 1):\n",
    "            min_result = min(min_result, costs[i][j])\n",
    "                \n",
    "    print(min_result)"
   ]
  },
  {
   "cell_type": "markdown",
   "metadata": {},
   "source": [
    "### 특정한 최단 경로 1504\n",
    "- 다익스트라"
   ]
  },
  {
   "cell_type": "code",
   "execution_count": 3,
   "metadata": {},
   "outputs": [
    {
     "name": "stdout",
     "output_type": "stream",
     "text": [
      "4 6\n",
      "1 2 3\n",
      "2 3 3\n",
      "3 4 1\n",
      "1 3 5\n",
      "2 4 5\n",
      "1 4 4\n",
      "2 3\n",
      "7\n"
     ]
    }
   ],
   "source": [
    "from heapq import heappush, heappop\n",
    "import sys\n",
    "# input = sys.stdin.readline\n",
    "\n",
    "n, e = map(int, input().rstrip().split())\n",
    "li = [[] for _ in range(n)]\n",
    "for _ in range(e):\n",
    "    a, b, c = map(int, input().rstrip().split())\n",
    "    a -= 1\n",
    "    b -= 1\n",
    "    \n",
    "    li[a].append((b, c))\n",
    "    li[b].append((a, c))\n",
    "    \n",
    "node1, node2 = map(lambda x: int(x) - 1, input().rstrip().split())\n",
    "\n",
    "def dij(start, end):\n",
    "    costs = [float('inf')] * n\n",
    "    costs[start] = 0\n",
    "    \n",
    "    heap = []\n",
    "    heappush(heap, (0, start)) # cost, node\n",
    "    while heap:\n",
    "        cost, value = heappop(heap)\n",
    "\n",
    "        for v, c in li[value]:\n",
    "            ncost = cost + c\n",
    "            if ncost < costs[v]:\n",
    "                costs[v] = ncost\n",
    "                heappush(heap, (ncost, v))\n",
    "    return costs[end]\n",
    "\n",
    "temp = dij(node1, node2)\n",
    "temp_result1 = dij(0, node1) + temp + dij(node2, n - 1)\n",
    "temp_result2 = dij(0, node2) + temp + dij(node1, n - 1)\n",
    "result = min(temp_result1, temp_result2)\n",
    "\n",
    "if result == float('inf'):\n",
    "    print(-1)\n",
    "else:\n",
    "    print(result)"
   ]
  },
  {
   "cell_type": "markdown",
   "metadata": {},
   "source": [
    "### 운동 1956\n",
    "- 플로이드-와샬"
   ]
  },
  {
   "cell_type": "code",
   "execution_count": 6,
   "metadata": {},
   "outputs": [
    {
     "name": "stdout",
     "output_type": "stream",
     "text": [
      "3 4\n",
      "1 2 1\n",
      "3 2 1\n",
      "1 3 5\n",
      "2 3 2\n",
      "3\n"
     ]
    }
   ],
   "source": [
    "import sys\n",
    "input = sys.stdin.readline\n",
    "\n",
    "n, e = map(int, input().rstrip().split())\n",
    "li = [[float('inf')] * n for _ in range(n)]\n",
    "\n",
    "for _ in range(e):\n",
    "    a, b, c = map(int, input().rstrip().split())\n",
    "    a -= 1\n",
    "    b -= 1\n",
    "    li[a][b] = c\n",
    "    \n",
    "for i in range(n):\n",
    "    li[i][i] = 0\n",
    "    \n",
    "for i in range(n):\n",
    "    for j in range(n):\n",
    "        for mid in range(n):\n",
    "            li[i][j] = min(li[i][j], li[i][mid] + li[mid][j])\n",
    "            \n",
    "min_result = float('inf')\n",
    "for i in range(n):\n",
    "    for j in range(i + 1, n):\n",
    "        min_result = min(min_result, li[i][j] + li[j][i])\n",
    "    \n",
    "if min_result == float('inf'):\n",
    "    print(-1)\n",
    "else:\n",
    "    print(min_result)"
   ]
  },
  {
   "cell_type": "markdown",
   "metadata": {},
   "source": [
    "### 간선 이어가기 2 14284\n",
    "- 다익스트라"
   ]
  },
  {
   "cell_type": "code",
   "execution_count": 9,
   "metadata": {},
   "outputs": [
    {
     "name": "stdout",
     "output_type": "stream",
     "text": [
      "1 8\n",
      "5\n"
     ]
    }
   ],
   "source": [
    "from heapq import heappush, heappop\n",
    "import sys\n",
    "# input = sys.stdin.readline\n",
    "\n",
    "n, m = map(int, input().rstrip().split())\n",
    "li = [[] for _ in range(n)]\n",
    "for _ in range(m):\n",
    "    a, b, c = map(int, input().rstrip().split())\n",
    "    a -= 1\n",
    "    b -= 1\n",
    "    li[a].append((b, c))\n",
    "    li[b].append((a, c))\n",
    "    \n",
    "start, end = map(lambda x: int(x) - 1, input().rstrip().split())\n",
    "    \n",
    "heap = []\n",
    "heappush(heap, (0, start)) # cost, node\n",
    "\n",
    "costs = [float('inf')] * n\n",
    "while heap:\n",
    "    cost, value = heappop(heap)\n",
    "    \n",
    "    for v, c in li[value]:\n",
    "        ncost = cost + c\n",
    "        if ncost < costs[v]:\n",
    "            costs[v] = ncost\n",
    "            heappush(heap, (ncost, v))\n",
    "\n",
    "print(costs[end])"
   ]
  },
  {
   "cell_type": "markdown",
   "metadata": {},
   "source": [
    "#### 서강그라운드, 택배, 비밀 모임 모두 for mid를 가장 안쪽에 두어서 틀렸고 디버깅에 오래 걸렸었음"
   ]
  },
  {
   "cell_type": "markdown",
   "metadata": {},
   "source": [
    "### 서강그라운드\n",
    "- 다익스트라, 플로이드-와샬"
   ]
  },
  {
   "cell_type": "code",
   "execution_count": 17,
   "metadata": {},
   "outputs": [
    {
     "name": "stdout",
     "output_type": "stream",
     "text": [
      "3 2 2\n",
      "2 2 2\n",
      "1 2 2\n",
      "1 3 8\n",
      "4\n"
     ]
    }
   ],
   "source": [
    "import sys\n",
    "# input = sys.stdin.readline\n",
    "\n",
    "n, m, r = map(int, input().rstrip().split())\n",
    "items = list(map(int, input().rstrip().split()))\n",
    "\n",
    "li = [[float('inf')] * n for _ in range(n)]\n",
    "for _ in range(r):\n",
    "    a, b, l = map(int, input().rstrip().split())\n",
    "    a -= 1\n",
    "    b -= 1\n",
    "    li[a][b] = li[b][a] = l\n",
    "    \n",
    "for i in range(n):\n",
    "    li[i][i] = 0\n",
    "    \n",
    "for mid in range(n):\n",
    "    for i in range(n):\n",
    "        for j in range(n):\n",
    "            li[i][j] = min(li[i][j], li[i][mid] + li[mid][j])\n",
    "\n",
    "max_result = 0\n",
    "for start in range(n):\n",
    "    temp = 0\n",
    "    for end in range(n):\n",
    "        if li[start][end] <= m:\n",
    "            temp += items[end]\n",
    "    max_result = max(max_result, temp)\n",
    "    \n",
    "print(max_result)"
   ]
  },
  {
   "cell_type": "markdown",
   "metadata": {},
   "source": [
    "### 택배 1719\n",
    "- 다익스트라, 플로이드-와샬"
   ]
  },
  {
   "cell_type": "code",
   "execution_count": 30,
   "metadata": {},
   "outputs": [
    {
     "name": "stdout",
     "output_type": "stream",
     "text": [
      "6 10\n",
      "1 2 2\n",
      "1 3 1\n",
      "2 4 5\n",
      "2 5 3\n",
      "2 6 7\n",
      "3 4 4\n",
      "3 5 6\n",
      "3 6 7\n",
      "4 6 4\n",
      "5 6 2\n",
      "- 2 3 3 2 2\n",
      "1 - 1 4 5 5\n",
      "1 1 - 4 5 6\n",
      "3 2 3 - 6 6\n",
      "2 2 3 6 - 6\n",
      "5 5 3 4 5 -\n"
     ]
    }
   ],
   "source": [
    "import sys\n",
    "# input = sys.stdin.readline\n",
    "\n",
    "n, m = map(int, input().rstrip().split())\n",
    "li = [[float('inf')] * n for _ in range(n)]\n",
    "\n",
    "for _ in range(m):\n",
    "    a, b, c = map(int, input().rstrip().split())\n",
    "    a -= 1\n",
    "    b -= 1\n",
    "    li[a][b] = li[b][a] = c\n",
    "    \n",
    "for i in range(n):\n",
    "    li[i][i] = 0\n",
    "    \n",
    "routes = [['-'] * n for _ in range(n)]\n",
    "for i in range(n):\n",
    "    for j in range(i + 1, n):\n",
    "        routes[i][j] = j + 1\n",
    "        routes[j][i] = i + 1\n",
    "\n",
    "for mid in range(n):\n",
    "    for i in range(n):\n",
    "        for j in range(n):\n",
    "            if li[i][j] > li[i][mid] + li[mid][j]:\n",
    "                li[i][j] = li[i][mid] + li[mid][j]\n",
    "                routes[i][j] = routes[i][mid]\n",
    "                routes[j][i] = routes[j][mid]\n",
    "                \n",
    "for i in range(n):\n",
    "    for j in range(n):\n",
    "        if li[i][j] == float('inf'):\n",
    "            routes[i][j] = '-'\n",
    "\n",
    "for v in routes:\n",
    "    print(*v)"
   ]
  },
  {
   "cell_type": "markdown",
   "metadata": {},
   "source": [
    "### 비밀 모임 13424\n",
    "- 다익스트라, 플로이드–와샬"
   ]
  },
  {
   "cell_type": "code",
   "execution_count": 42,
   "metadata": {},
   "outputs": [
    {
     "name": "stdout",
     "output_type": "stream",
     "text": [
      "1\n",
      "6 7\n",
      "1 2 4\n",
      "1 3 1\n",
      "1 5 2\n",
      "2 3 2\n",
      "3 4 3\n",
      "4 5 2\n",
      "6 5 1\n",
      "2\n",
      "3 5\n",
      "1\n"
     ]
    }
   ],
   "source": [
    "import sys\n",
    "# input = sys.stdin.readline\n",
    "\n",
    "for _ in range(int(input())):\n",
    "    n, m = map(int, input().rstrip().split())\n",
    "    li = [[float('inf')] * n for _ in range(n)]\n",
    "    for _ in range(m):\n",
    "        a, b, c = map(int, input().split())\n",
    "        a -= 1\n",
    "        b -= 1\n",
    "        li[a][b] = li[b][a] = c\n",
    "\n",
    "    for i in range(n):\n",
    "        li[i][i] = 0\n",
    "\n",
    "    for mid in range(n):\n",
    "        for i in range(n):\n",
    "            for j in range(n):\n",
    "                li[i][j] = min(li[i][j], li[i][mid] + li[mid][j])\n",
    "\n",
    "    k = int(input())\n",
    "    friends = list(map(lambda x: int(x) - 1, input().split()))\n",
    "\n",
    "    min_value = float('inf')\n",
    "    min_value_room_num = 0\n",
    "    for target in range(n - 1, -1, -1):\n",
    "        temp = 0\n",
    "        for friend in friends:\n",
    "            temp += li[friend][target]\n",
    "        if temp <= min_value:\n",
    "            min_value = temp\n",
    "            min_value_room_num = target + 1\n",
    "    print(min_value_room_num)"
   ]
  },
  {
   "cell_type": "markdown",
   "metadata": {},
   "source": [
    "### 최소비용 구하기 2\n",
    "- 다익스트라"
   ]
  },
  {
   "cell_type": "code",
   "execution_count": null,
   "metadata": {},
   "outputs": [],
   "source": [
    "from heapq import heappush, heappop\n",
    "import sys\n",
    "input = sys.stdin.readline\n",
    "\n",
    "n = int(input().rstrip())\n",
    "m = int(input().rstrip())\n",
    "li = [[] for _ in range(n)]\n",
    "\n",
    "for _ in range(m):\n",
    "    a, b, c = map(int, input().rstrip().split())\n",
    "    a -= 1 \n",
    "    b -= 1\n",
    "    li[a].append((b, c))\n",
    "    \n",
    "start, end = map(lambda x: int(x) - 1, input().rstrip().split())\n",
    "heap = []\n",
    "heappush(heap, (0, start))\n",
    "costs = [float('inf')] * n\n",
    "froms = [float('inf')] * n\n",
    "\n",
    "while heap:\n",
    "    cost, value = heappop(heap)\n",
    "    for v, c in li[value]:\n",
    "        ncost = cost + c\n",
    "        if ncost < costs[v]:\n",
    "            froms[v] = value\n",
    "            costs[v] = ncost\n",
    "            heappush(heap, (ncost, v))\n",
    "            \n",
    "num = end\n",
    "result = [end + 1]\n",
    "while num != start:\n",
    "    num = froms[num]\n",
    "    result.append(num + 1)\n",
    "    \n",
    "print(costs[end])\n",
    "print(len(result))\n",
    "print(*result[::-1])"
   ]
  },
  {
   "cell_type": "markdown",
   "metadata": {},
   "source": [
    "### 발전소 설치 1277\n",
    "- 다익스트라"
   ]
  },
  {
   "cell_type": "code",
   "execution_count": null,
   "metadata": {},
   "outputs": [],
   "source": [
    "from heapq import heappush, heappop\n",
    "import sys\n",
    "input = sys.stdin.readline\n",
    "\n",
    "n, w = map(int, input().rstrip().split())\n",
    "m = float(input().rstrip())\n",
    "\n",
    "coords = [tuple(map(int, input().rstrip().split())) for _ in range(n)]\n",
    "li = [[] for _ in range(n)]\n",
    "st = set()\n",
    "for _ in range(w):\n",
    "    a, b = map(int, input().rstrip().split())\n",
    "    a -= 1\n",
    "    b -= 1\n",
    "    if a > b:\n",
    "        a, b = b, a\n",
    "    st.add((a, b))\n",
    "    li[a].append((b, 0))\n",
    "    li[b].append((a, 0))\n",
    "\n",
    "def get_dist(ca, cb):\n",
    "    x1, y1 = ca\n",
    "    x2, y2 = cb\n",
    "    \n",
    "    return (abs(x1 - x2) ** 2 + abs(y1 - y2) ** 2) ** 0.5\n",
    "\n",
    "for a in range(0, n):\n",
    "    for b in range(a + 1, n):\n",
    "        if (a, b) not in st:\n",
    "            dist = get_dist(coords[a], coords[b])\n",
    "            if dist <= m:\n",
    "                li[a].append((b, dist))\n",
    "                li[b].append((a, dist))\n",
    "                \n",
    "heap = []\n",
    "heappush(heap, (0, 0)) # dist, node\n",
    "dists = [float('inf')] * n\n",
    "dists[0] = 0\n",
    "\n",
    "while heap:\n",
    "    dist, value = heappop(heap)\n",
    "    \n",
    "    for v, d in li[value]:\n",
    "        ndist = dist + d\n",
    "        if ndist < dists[v]:\n",
    "            dists[v] = ndist\n",
    "            heappush(heap, (ndist, v))\n",
    "            \n",
    "print(int(dists[-1] * 1000))"
   ]
  },
  {
   "cell_type": "markdown",
   "metadata": {},
   "source": [
    "### 무엇을 아느냐가 아니라 누구를 아느냐가 문제다 9694\n",
    "- 다익스트라"
   ]
  },
  {
   "cell_type": "code",
   "execution_count": null,
   "metadata": {},
   "outputs": [],
   "source": [
    "from heapq import heappush, heappop\n",
    "import sys\n",
    "input = sys.stdin.readline\n",
    "\n",
    "for t in range(int(input().rstrip())):\n",
    "    n, m = map(int, input().rstrip().split())\n",
    "    li = [[] for _ in range(m)]\n",
    "    for _ in range(n):\n",
    "        a, b, c = map(int, input().rstrip().split())\n",
    "        li[a].append((b, c))\n",
    "        li[b].append((a, c))\n",
    "\n",
    "    heap = []\n",
    "    heappush(heap, (0, 0)) # dist, node\n",
    "\n",
    "    dists = [float('inf')] * m\n",
    "    dists[0] = 0\n",
    "    froms = [float('inf')] * m\n",
    "\n",
    "    while heap:\n",
    "        dist, value = heappop(heap)\n",
    "        for v, d in li[value]:\n",
    "            ndist = dist + d\n",
    "            if ndist < dists[v]:\n",
    "                froms[v] = value\n",
    "                dists[v] = ndist\n",
    "                heappush(heap, (ndist, v))\n",
    "                \n",
    "    if dists[m - 1] == float('inf'):\n",
    "        result = -1\n",
    "    else:\n",
    "        num = m - 1\n",
    "        result = [m - 1]\n",
    "        while num != 0:\n",
    "            num = froms[num]\n",
    "            result.append(num)\n",
    "        result.reverse()    \n",
    "        result = ' '.join(map(str, result))\n",
    "\n",
    "    print(f'Case #{t + 1}: {result}')"
   ]
  },
  {
   "cell_type": "markdown",
   "metadata": {},
   "source": [
    "### 배열 탈출 11909\n",
    "- 다이나믹 프로그래밍, 다익스트라"
   ]
  },
  {
   "cell_type": "code",
   "execution_count": null,
   "metadata": {},
   "outputs": [],
   "source": [
    "import sys\n",
    "input = sys.stdin.readline\n",
    "\n",
    "n = int(input().rstrip())\n",
    "li = [list(map(int, input().rstrip().split())) for _ in range(n)]\n",
    "\n",
    "dp = [[float('inf')] * n for _ in range(n)]\n",
    "dp[0][0] = 0\n",
    "\n",
    "for i in range(n):\n",
    "    for j in range(n):\n",
    "        if i == 0 and j == 0:\n",
    "            continue\n",
    "        elif i == 0:\n",
    "            dp[i][j] = min(dp[i][j], dp[i][j - 1] + max(0, li[i][j] - li[i][j - 1] + 1))\n",
    "        elif j == 0:\n",
    "            dp[i][j] = min(dp[i][j], dp[i - 1][j] + max(0, li[i][j] - li[i - 1][j] + 1))\n",
    "        else:\n",
    "            dp[i][j] = min(dp[i][j], dp[i][j - 1] + max(0, li[i][j] - li[i][j - 1] + 1))\n",
    "            dp[i][j] = min(dp[i][j], dp[i - 1][j] + max(0, li[i][j] - li[i - 1][j] + 1))\n",
    "            \n",
    "print(dp[-1][-1])"
   ]
  },
  {
   "cell_type": "markdown",
   "metadata": {},
   "source": [
    "### 네트워크 복구 2211\n",
    "- 다익스트라"
   ]
  },
  {
   "cell_type": "code",
   "execution_count": null,
   "metadata": {},
   "outputs": [],
   "source": [
    "from heapq import heappush, heappop\n",
    "import sys\n",
    "input = sys.stdin.readline\n",
    "\n",
    "n, m = map(int, input().rstrip().split())\n",
    "li = [[] for _ in range(n)]\n",
    "\n",
    "for _ in range(m):\n",
    "    a, b, c = map(int, input().rstrip().split())\n",
    "    a -= 1\n",
    "    b -= 1\n",
    "    \n",
    "    li[a].append((b, c))\n",
    "    li[b].append((a, c))\n",
    "    \n",
    "heap = []\n",
    "heappush(heap, (0, 0)) # dist, node\n",
    "\n",
    "dists = [float('inf')] * n\n",
    "dists[0] = 0\n",
    "froms = [float('inf')] * n\n",
    "while heap:\n",
    "    dist, value = heappop(heap)\n",
    "    for v, d in li[value]:\n",
    "        ndist = dist + d\n",
    "        if ndist < dists[v]:\n",
    "            froms[v] = value\n",
    "            dists[v] = ndist\n",
    "            heappush(heap, (ndist, v))\n",
    "            \n",
    "result = []\n",
    "visited = [False] * n\n",
    "for i in range(1, n):\n",
    "    if visited[i]:\n",
    "        continue\n",
    "    visited[i] = True\n",
    "    num = i\n",
    "    while num != 0:\n",
    "        new_num = froms[num]\n",
    "        result.append((new_num, num))\n",
    "        if not visited[new_num]:\n",
    "            visited[new_num] = True\n",
    "            num = new_num\n",
    "        else:\n",
    "            break\n",
    "\n",
    "print(len(result))\n",
    "for v in result:\n",
    "    print(f'{v[0] + 1} {v[1] + 1}')"
   ]
  },
  {
   "cell_type": "markdown",
   "metadata": {},
   "source": [
    "### 산악자전거 2158\n",
    "- 다익스트라"
   ]
  },
  {
   "cell_type": "code",
   "execution_count": 1,
   "metadata": {},
   "outputs": [
    {
     "name": "stdout",
     "output_type": "stream",
     "text": [
      "1 2 3\n",
      "2 1 2\n",
      "9 9 1\n",
      "2.5\n"
     ]
    }
   ],
   "source": [
    "from heapq import heappush, heappop\n",
    "\n",
    "v, r, c = map(int, input().split())\n",
    "li = [list(map(int, input().split())) for _ in range(r)]\n",
    "\n",
    "dx = [-1, 1, 0, 0]\n",
    "dy = [0, 0, -1, 1]\n",
    "\n",
    "heap = []\n",
    "heappush(heap, (0, 0, 0, v)) # time_spent, x, y, velocity\n",
    "time_spents = [[float('inf')] * c for _ in range(r)]\n",
    "time_spents[0][0] = 0\n",
    "\n",
    "while heap:\n",
    "    time_spent, x, y, velocity = heappop(heap)\n",
    "    \n",
    "    for i in range(4):\n",
    "        nx = x + dx[i]\n",
    "        ny = y + dy[i]\n",
    "        \n",
    "        if nx < 0 or nx >= r or ny < 0 or ny >= c:\n",
    "            continue\n",
    "        n_time_spent = time_spent + 1 / velocity\n",
    "        if n_time_spent < time_spents[nx][ny]:\n",
    "            time_spents[nx][ny] = n_time_spent\n",
    "            nvelocity = velocity * (2 ** (li[x][y] - li[nx][ny]))\n",
    "            heappush(heap, (n_time_spent, nx, ny, nvelocity))\n",
    "            \n",
    "print(time_spents[-1][-1])"
   ]
  },
  {
   "cell_type": "markdown",
   "metadata": {},
   "source": [
    "### 민준이와 마산 그리고 건우 18223\n",
    "- 다익스트라"
   ]
  },
  {
   "cell_type": "code",
   "execution_count": 23,
   "metadata": {},
   "outputs": [
    {
     "name": "stdout",
     "output_type": "stream",
     "text": [
      "4 4 2\n",
      "1 2 2\n",
      "1 3 2\n",
      "2 4 2\n",
      "3 4 2\n",
      "SAVE HIM\n"
     ]
    }
   ],
   "source": [
    "from heapq import heappush, heappop\n",
    "import sys\n",
    "# input = sys.stdin.readline\n",
    "\n",
    "n, e, p = map(int, input().rstrip().split())\n",
    "p -= 1\n",
    "li = [[] for _ in range(n)]\n",
    "for _ in range(e):\n",
    "    a, b, c = map(int, input().rstrip().split())\n",
    "    a -= 1\n",
    "    b -= 1\n",
    "    li[a].append((b, c))\n",
    "    li[b].append((a, c))\n",
    "    \n",
    "heap = []\n",
    "heappush(heap, (0, 0)) # dist, node\n",
    "\n",
    "dists = [float('inf')] * n\n",
    "dists[0] = 0\n",
    "froms = [set() for _ in range(n)]\n",
    "\n",
    "while heap:\n",
    "    dist, value = heappop(heap)\n",
    "    for v, d in li[value]:\n",
    "        ndist = dist + d\n",
    "        if ndist <= dists[v]:\n",
    "            if ndist == dists[v]:\n",
    "                froms[v].add(value)\n",
    "            else:\n",
    "                froms[v] = set([value])\n",
    "                \n",
    "            dists[v] = ndist\n",
    "            heappush(heap, (ndist, v))\n",
    "            \n",
    "stack = [n - 1]\n",
    "\n",
    "visited = [False] * n\n",
    "visited[n - 1] = True\n",
    "\n",
    "while stack:\n",
    "    value = stack.pop()\n",
    "    \n",
    "    for v in froms[value]:\n",
    "        if not visited[v]:\n",
    "            visited[v] = True\n",
    "            stack.append(v)\n",
    "            \n",
    "if visited[p]:\n",
    "    print('SAVE HIM')\n",
    "else:\n",
    "    print('GOOD BYE')"
   ]
  },
  {
   "cell_type": "markdown",
   "metadata": {},
   "source": [
    "### 떡 돌리기 20007\n",
    "- 다익스트라"
   ]
  },
  {
   "cell_type": "code",
   "execution_count": 26,
   "metadata": {},
   "outputs": [
    {
     "name": "stdout",
     "output_type": "stream",
     "text": [
      "6 5 10 4\n",
      "0 4 6\n",
      "0 5 2\n",
      "1 3 1\n",
      "1 5 8\n",
      "2 3 1\n",
      "-1\n"
     ]
    }
   ],
   "source": [
    "from heapq import heappush, heappop\n",
    "import sys\n",
    "input = sys.stdin.readline\n",
    "\n",
    "n, m, x, y = map(int, input().rstrip().split())\n",
    "li = [[] for _ in range(n)]\n",
    "for _ in range(m):\n",
    "    a, b, c = map(int, input().rstrip().split())\n",
    "    li[a].append((b, c))\n",
    "    li[b].append((a, c))\n",
    "\n",
    "dists = [float('inf')] * n\n",
    "dists[y] = 0\n",
    "\n",
    "heap = []\n",
    "heappush(heap, (0, y)) # dist, node\n",
    "\n",
    "while heap:\n",
    "    dist, value = heappop(heap)\n",
    "    \n",
    "    for v, d in li[value]:\n",
    "        ndist = dist + d\n",
    "        if ndist < dists[v]:\n",
    "            dists[v] = ndist\n",
    "            heappush(heap, (ndist, v))\n",
    "            \n",
    "dists.sort()\n",
    "dists = [v * 2 for v in dists]\n",
    "if dists[-1] > x:\n",
    "    print(-1)\n",
    "else:\n",
    "    days = 1\n",
    "    left = x\n",
    "    for dist in dists:\n",
    "        if left - dist < 0:\n",
    "            days += 1\n",
    "            left = x - dist\n",
    "        else:\n",
    "            left -= dist\n",
    "    print(days)"
   ]
  },
  {
   "cell_type": "markdown",
   "metadata": {},
   "source": [
    "### 국왕의 방문 2982\n",
    "- 다익스트라"
   ]
  },
  {
   "cell_type": "code",
   "execution_count": 52,
   "metadata": {},
   "outputs": [
    {
     "name": "stdout",
     "output_type": "stream",
     "text": [
      "21\n"
     ]
    }
   ],
   "source": [
    "from heapq import heappush, heappop\n",
    "import sys\n",
    "input = sys.stdin.readline\n",
    "\n",
    "n, m = map(int, input().rstrip().split())\n",
    "a, b, k, g = map(int, input().rstrip().split())\n",
    "a -= 1\n",
    "b -= 1\n",
    "kings = list(map(lambda x: int(x) - 1, input().rstrip().split()))\n",
    "li = [[] for _ in range(n)]\n",
    "for _ in range(m):\n",
    "    s, e, c = map(int, input().rstrip().split())\n",
    "    s -= 1\n",
    "    e -= 1\n",
    "    li[s].append((e, c))\n",
    "    li[e].append((s, c))\n",
    "    \n",
    "cant_enter = dict()\n",
    "cumul_time_spent = 0\n",
    "for i in range(g - 1):\n",
    "    current_num = kings[i]\n",
    "    for next_num, time_spent in li[current_num]:\n",
    "        if next_num == kings[i + 1]:\n",
    "            cumul_time_spent += time_spent\n",
    "            cant_enter[(kings[i], kings[i + 1])] = [cumul_time_spent - time_spent, cumul_time_spent - 1]\n",
    "            cant_enter[(kings[i + 1], kings[i])] = [cumul_time_spent - time_spent, cumul_time_spent - 1]\n",
    "            break\n",
    "            \n",
    "heap = []\n",
    "heappush(heap, (k, a)) # time_spent, node\n",
    "\n",
    "time_spents = [float('inf')] * n\n",
    "time_spents[a] = 0\n",
    "\n",
    "while heap:\n",
    "    time_spent, value = heappop(heap)\n",
    "    \n",
    "    for v, t in li[value]:\n",
    "        if (value, v) in cant_enter and cant_enter[(value, v)][0] <= time_spent <= cant_enter[(value, v)][1]:\n",
    "            n_time_spent = cant_enter[(value, v)][1] + 1 + t\n",
    "        else:\n",
    "            n_time_spent = time_spent + t\n",
    "            \n",
    "        if n_time_spent < time_spents[v]:\n",
    "            time_spents[v] = n_time_spent\n",
    "            heappush(heap, (n_time_spent, v))\n",
    "            \n",
    "print(time_spents[b] - k)"
   ]
  },
  {
   "cell_type": "markdown",
   "metadata": {},
   "source": [
    "### 연결 요소의 개수 11724 (다시 풀음)"
   ]
  },
  {
   "cell_type": "code",
   "execution_count": 2,
   "metadata": {},
   "outputs": [
    {
     "name": "stdout",
     "output_type": "stream",
     "text": [
      "6 8\n",
      "1 2\n",
      "2 5\n",
      "5 1\n",
      "3 4\n",
      "4 6\n",
      "5 4\n",
      "2 4\n",
      "2 3\n",
      "1\n"
     ]
    }
   ],
   "source": [
    "import sys\n",
    "# input = sys.stdin.readline\n",
    "\n",
    "n, m = map(int, input().rstrip().split())\n",
    "li = [[] for _ in range(n)]\n",
    "\n",
    "def find(v):\n",
    "    if v == parent[v]:\n",
    "        return v\n",
    "    else:\n",
    "        parent[v] = find(parent[v])\n",
    "        return parent[v]\n",
    "    \n",
    "def union(a, b):\n",
    "    if rank[a] >= rank[b]:\n",
    "        if rank[a] == rank[b]:\n",
    "            rank[a] += 1\n",
    "        parent[b] = a\n",
    "    else:\n",
    "        parent[a] = b\n",
    "        \n",
    "parent = list(range(n))\n",
    "rank = [0] * n\n",
    "\n",
    "for _ in range(m):\n",
    "    a, b = map(lambda x: int(x) - 1, input().rstrip().split())\n",
    "    a = find(a)\n",
    "    b = find(b)\n",
    "    \n",
    "    if a != b:\n",
    "        union(a, b)\n",
    "        \n",
    "for i in range(n):\n",
    "    find(i)\n",
    "\n",
    "print(len(set(parent)))"
   ]
  },
  {
   "cell_type": "markdown",
   "metadata": {},
   "source": [
    "### 미확인 도착지 9370"
   ]
  },
  {
   "cell_type": "raw",
   "metadata": {},
   "source": [
    "최단 경로 갱신할 때 해당 도로를 지나갔는지 안지나갔는지를 표시함\n",
    "만약 최단 경로가 2개 이상이라면 해당 도로를 지나간 경우를 우선시함"
   ]
  },
  {
   "cell_type": "code",
   "execution_count": 10,
   "metadata": {},
   "outputs": [
    {
     "name": "stdout",
     "output_type": "stream",
     "text": [
      "1\n",
      "5 4 2\n",
      "1 2 3\n",
      "1 2 6\n",
      "2 3 2\n",
      "3 4 4\n",
      "3 5 3\n",
      "5\n",
      "4\n",
      "4 5\n"
     ]
    }
   ],
   "source": [
    "from heapq import heappush, heappop\n",
    "import sys\n",
    "# input = sys.stdin.readline\n",
    "\n",
    "for _ in range(int(input().rstrip())):\n",
    "    n, m, t = map(int, input().rstrip().split())\n",
    "    s, g, h = map(lambda x: int(x) - 1, input().rstrip().split())\n",
    "    li = [[] for _ in range(n)]\n",
    "    for _ in range(m):\n",
    "        a, b, d = map(int, input().rstrip().split())\n",
    "        a -= 1\n",
    "        b -= 1\n",
    "\n",
    "        li[a].append((b, d))\n",
    "        li[b].append((a, d))\n",
    "\n",
    "    ds = [] # destinations\n",
    "    for _ in range(t):\n",
    "        ds.append(int(input().rstrip()) - 1)\n",
    "    ds.sort()\n",
    "\n",
    "    heap = []\n",
    "    distances = [float('inf')] * n\n",
    "    distances[s] = 0\n",
    "    is_g_h_used = [False] * n\n",
    "\n",
    "    heappush(heap, (0, s, False)) # 해당 노드까지 걸린 거리, 노드 번호, g_h 길 이용 여부\n",
    "    while heap:\n",
    "        dist, value, is_used = heappop(heap)\n",
    "\n",
    "        for v, d in li[value]:\n",
    "            n_is_used = is_used\n",
    "            if value == g and v == h or value == h and v == g:\n",
    "                n_is_used = True\n",
    "\n",
    "            ndist = dist + d\n",
    "            if ndist <= distances[v]:\n",
    "                if ndist == distances[v]:\n",
    "                    if not n_is_used or is_g_h_used[v]:\n",
    "                        continue\n",
    "                distances[v] = ndist\n",
    "                is_g_h_used[v] = n_is_used\n",
    "                heappush(heap, (ndist, v, n_is_used))     \n",
    "\n",
    "    result = []\n",
    "    for value in ds:\n",
    "        if is_g_h_used[value]:\n",
    "            result.append(value + 1)\n",
    "\n",
    "    print(*result) "
   ]
  },
  {
   "cell_type": "code",
   "execution_count": null,
   "metadata": {},
   "outputs": [],
   "source": [
    "# 맞았음\n",
    "from heapq import heappush, heappop\n",
    "import sys\n",
    "# input = sys.stdin.readline\n",
    "\n",
    "def dij(s):\n",
    "    heap = []\n",
    "    distances = [float('inf')] * n\n",
    "    distances[s] = 0\n",
    "\n",
    "    heappush(heap, (0, s)) # 해당 노드까지 걸린 거리, 노드 번호\n",
    "    while heap:\n",
    "        dist, value = heappop(heap)\n",
    "\n",
    "        for v, d in li[value]:\n",
    "            ndist = dist + d\n",
    "            if ndist < distances[v]:\n",
    "                distances[v] = ndist\n",
    "                heappush(heap, (ndist, v))\n",
    "    return distances        \n",
    "        \n",
    "\n",
    "for _ in range(int(input().rstrip())):\n",
    "    n, m, t = map(int, input().rstrip().split())\n",
    "    s, g, h = map(lambda x: int(x) - 1, input().rstrip().split())\n",
    "    li = [[] for _ in range(n)]\n",
    "    for _ in range(m):\n",
    "        a, b, d = map(int, input().rstrip().split())\n",
    "        a -= 1\n",
    "        b -= 1\n",
    "\n",
    "        li[a].append((b, d))\n",
    "        li[b].append((a, d))\n",
    "      \n",
    "    dests = [] # destinations\n",
    "    for _ in range(t):\n",
    "        dests.append(int(input().rstrip()) - 1)\n",
    "    dests.sort()\n",
    "    result = []\n",
    "    \n",
    "    s_dists = dij(s)\n",
    "    g_dists = dij(g)\n",
    "    h_dists = dij(h)\n",
    "    \n",
    "    for dest in dests:\n",
    "        dist_without_cond = s_dists[dest]\n",
    "        dist_with_cond = min(s_dists[g] + g_dists[h] + h_dists[dest], s_dists[h] + h_dists[g] + g_dists[dest])\n",
    "        if dist_without_cond != float('inf') and dist_without_cond == dist_with_cond:\n",
    "            result.append(dest + 1)\n",
    "\n",
    "    print(*result) "
   ]
  },
  {
   "cell_type": "markdown",
   "metadata": {},
   "source": [
    "### KCM Travel 10217"
   ]
  },
  {
   "cell_type": "raw",
   "metadata": {},
   "source": [
    "소요시간의 최대: 1000 * 100 = 100000\n",
    "dp[노드 번호][누적 지원비용] = 누적 소요시간"
   ]
  },
  {
   "cell_type": "code",
   "execution_count": null,
   "metadata": {},
   "outputs": [],
   "source": [
    "3 100 3\n",
    "1 2 1 1\n",
    "2 3 1 1\n",
    "1 3 3 30"
   ]
  },
  {
   "cell_type": "code",
   "execution_count": 27,
   "metadata": {},
   "outputs": [
    {
     "name": "stdout",
     "output_type": "stream",
     "text": [
      "0 0 1\n",
      "1 1 1\n",
      "2 2 2\n",
      "2 30 30\n",
      "2\n"
     ]
    }
   ],
   "source": [
    "from heapq import heappush, heappop\n",
    "import sys\n",
    "# input = sys.stdin.readline\n",
    "\n",
    "# n, m, k = map(int, input().rstrip().split())\n",
    "# li = [[] for _ in range(n)]\n",
    "# for _ in range(k):\n",
    "#     u, v, c, d = map(int, input().rstrip().split())\n",
    "#     u -= 1\n",
    "#     v -= 1\n",
    "\n",
    "#     li[u].append((v, c, d))\n",
    "\n",
    "dp = [[100001] * (m + 1) for _ in range(n)]\n",
    "dp[0][0] = 1\n",
    "heap = []\n",
    "heappush(heap, (0, 0, 0)) # 소요 시간, 소요 비용, 노드 번호\n",
    "while heap:\n",
    "    spent_time, cost, value = heappop(heap)\n",
    "    for v, c, d in li[value]:\n",
    "        n_spent_time = spent_time + d\n",
    "        ncost = cost + c\n",
    "        if ncost <= m and n_spent_time < dp[v][ncost]:\n",
    "            dp[v][ncost] = n_spent_time\n",
    "            heappush(heap, (n_spent_time, ncost, v))\n",
    "\n",
    "min_result = min(dp[n - 1])\n",
    "if min_result == float('inf'):\n",
    "    print('Poor KCM')\n",
    "else:\n",
    "    print(min_result)"
   ]
  },
  {
   "cell_type": "code",
   "execution_count": 21,
   "metadata": {},
   "outputs": [
    {
     "name": "stdout",
     "output_type": "stream",
     "text": [
      "2\n"
     ]
    }
   ],
   "source": [
    "from collections import deque\n",
    "import sys\n",
    "input = sys.stdin.readline\n",
    "\n",
    "n, m, k = map(int, input().rstrip().split())\n",
    "li = [[] for _ in range(n)]\n",
    "for _ in range(k):\n",
    "    u, v, c, d = map(int, input().rstrip().split())\n",
    "    u -= 1\n",
    "    v -= 1\n",
    "\n",
    "    li[u].append((v, c, d))\n",
    "\n",
    "dp = [[100001] * (m + 1) for _ in range(n)]\n",
    "dp[0][0] = 0\n",
    "queue = deque()\n",
    "queue.append((0, 0)) # 소요 비용, 노드 번호\n",
    "while queue:\n",
    "    cost, value = queue.popleft()\n",
    "    for v, c, d in li[value]:\n",
    "        n_spent_time = dp[value][cost] + d\n",
    "        ncost = cost + c\n",
    "        if ncost <= m and n_spent_time < dp[v][ncost]:\n",
    "            dp[v][ncost] = n_spent_time\n",
    "            queue.append((ncost, v))\n",
    "\n",
    "min_result = min(dp[n - 1])\n",
    "if min_result == 100001:\n",
    "    print('Poor KCM')\n",
    "else:\n",
    "    print(min_result)"
   ]
  },
  {
   "cell_type": "code",
   "execution_count": null,
   "metadata": {},
   "outputs": [],
   "source": [
    "from collections import deque\n",
    "import sys\n",
    "input = sys.stdin.readline\n",
    "\n",
    "for _ in range(int(input().rstrip())):\n",
    "    n, m, k = map(int, input().rstrip().split())\n",
    "    li = [[] for _ in range(n)]\n",
    "    for _ in range(k):\n",
    "        u, v, c, d = map(int, input().rstrip().split())\n",
    "        u -= 1\n",
    "        v -= 1\n",
    "\n",
    "        li[u].append((v, c, d))\n",
    "\n",
    "    dp = [[100001] * (m + 1) for _ in range(n)]\n",
    "    dp[0][0] = 0\n",
    "    queue = deque()\n",
    "    queue.append((0, 0)) # 소요 비용, 노드 번호\n",
    "    while queue:\n",
    "        cost, value = queue.popleft()\n",
    "        for v, c, d in li[value]:\n",
    "            n_spent_time = dp[value][cost] + d\n",
    "            ncost = cost + c\n",
    "            if ncost <= m and n_spent_time < dp[v][ncost]:\n",
    "                dp[v][ncost] = n_spent_time\n",
    "                queue.append((ncost, v))\n",
    "\n",
    "    min_result = min(dp[n - 1])\n",
    "    if min_result == 100001:\n",
    "        print('Poor KCM')\n",
    "    else:\n",
    "        print(min_result)"
   ]
  },
  {
   "cell_type": "code",
   "execution_count": 16,
   "metadata": {},
   "outputs": [
    {
     "data": {
      "text/plain": [
       "[[(1, 1, 1), (2, 3, 30)], [(2, 1, 1)], []]"
      ]
     },
     "execution_count": 16,
     "metadata": {},
     "output_type": "execute_result"
    }
   ],
   "source": [
    "li"
   ]
  },
  {
   "cell_type": "code",
   "execution_count": 6,
   "metadata": {},
   "outputs": [
    {
     "data": {
      "text/plain": [
       "(1, 5, 3)"
      ]
     },
     "execution_count": 6,
     "metadata": {},
     "output_type": "execute_result"
    }
   ],
   "source": [
    "li[value][cost]"
   ]
  },
  {
   "cell_type": "code",
   "execution_count": 38,
   "metadata": {},
   "outputs": [
    {
     "name": "stdout",
     "output_type": "stream",
     "text": [
      "2\n"
     ]
    }
   ],
   "source": [
    "from heapq import heappush, heappop\n",
    "import sys\n",
    "# input = sys.stdin.readline\n",
    "\n",
    "# n, m, k = map(int, input().rstrip().split())\n",
    "# li = [[] for _ in range(n)]\n",
    "# for _ in range(k):\n",
    "#     u, v, c, d = map(int, input().rstrip().split())\n",
    "#     u -= 1\n",
    "#     v -= 1\n",
    "\n",
    "#     li[u].append((v, c, d))\n",
    "\n",
    "dp = [[100001] * (m + 1) for _ in range(n)]\n",
    "dp[0][0] = 0\n",
    "heap = []\n",
    "heappush(heap, (0, 0)) # 소요 시간, 소요 비용, 노드 번호\n",
    "while heap:\n",
    "    spent_time, value = heappop(heap)\n",
    "\n",
    "    if spent_time > dp[value][cost]:\n",
    "        continue\n",
    "\n",
    "    for v, c, d in li[value]:\n",
    "        is_updated = False\n",
    "\n",
    "        n_spent_time = spent_time + d\n",
    "        for cost in range(m - ncost + 1):\n",
    "            if cost == 100001:\n",
    "                continue\n",
    "            \n",
    "            if n_spent_time < dp[v][ncost]:\n",
    "                dp[v][ncost] = n_spent_time\n",
    "                is_updated = True\n",
    "                \n",
    "        if is_updated:\n",
    "            heappush(heap, (n_spent_time, v))\n",
    "\n",
    "min_result = min(dp[n - 1])\n",
    "if min_result == float('inf'):\n",
    "    print('Poor KCM')\n",
    "else:\n",
    "    print(min_result)"
   ]
  },
  {
   "cell_type": "code",
   "execution_count": 3,
   "metadata": {},
   "outputs": [
    {
     "name": "stdout",
     "output_type": "stream",
     "text": [
      "2\n",
      "3 100 3\n",
      "1 2 1 1\n",
      "2 3 1 1\n",
      "1 3 3 30\n",
      "2\n",
      "4 10 4\n",
      "1 2 5 3\n",
      "2 3 5 4\n",
      "3 4 1 5\n",
      "1 3 10 6\n",
      "100001\n"
     ]
    }
   ],
   "source": [
    "from heapq import heappush, heappop\n",
    "import sys\n",
    "# input = sys.stdin.readline\n",
    "\n",
    "for _ in range(int(input().rstrip())):\n",
    "    n, m, k = map(int, input().rstrip().split())\n",
    "    li = [[] for _ in range(n)]\n",
    "    for _ in range(k):\n",
    "        u, v, c, d = map(int, input().rstrip().split())\n",
    "        u -= 1\n",
    "        v -= 1\n",
    "\n",
    "        li[u].append((v, c, d))\n",
    "\n",
    "    dp = [[100001] * (m + 1) for _ in range(n)]\n",
    "    dp[0][0] = 0\n",
    "    heap = []\n",
    "    heappush(heap, (0, 0)) # 소요 시간, 노드 번호\n",
    "    while heap:\n",
    "        spent_time, value = heappop(heap)\n",
    "\n",
    "        for v, c, d in li[value]:\n",
    "            is_updated = False\n",
    "\n",
    "            n_spent_time = spent_time + d\n",
    "            for cost in range(m - c + 1):\n",
    "                if dp[value][cost] == 100001:\n",
    "                    continue\n",
    "\n",
    "                ncost = cost + c\n",
    "                if ncost <= m:\n",
    "                    if n_spent_time < dp[v][ncost]:\n",
    "                        dp[v][ncost] = n_spent_time\n",
    "                        is_updated = True\n",
    "\n",
    "            if is_updated:\n",
    "                heappush(heap, (n_spent_time, v))\n",
    "\n",
    "    min_result = min(dp[n - 1])\n",
    "    if min_result == 100001:\n",
    "        print('Poor KCM')\n",
    "    else:\n",
    "        print(min_result)"
   ]
  },
  {
   "cell_type": "markdown",
   "metadata": {},
   "source": [
    "### 도로포장 1162"
   ]
  },
  {
   "cell_type": "raw",
   "metadata": {},
   "source": [
    "각각의 노드마다 최소 heap에 계속 걸리는 시간을 추가해줌. 그리고 heap의 길이가 k가 넘어가면 하나씩 빼기 시작함\n",
    "\n",
    "\n",
    "\n",
    "하지만 메모리 초과 가능성이 있음\n",
    "\n"
   ]
  },
  {
   "cell_type": "code",
   "execution_count": 13,
   "metadata": {},
   "outputs": [
    {
     "name": "stdout",
     "output_type": "stream",
     "text": [
      "1\n"
     ]
    }
   ],
   "source": [
    "from heapq import heappush, heappop\n",
    "import sys\n",
    "# input = sys.stdin.readline\n",
    "\n",
    "n, m, k = map(int, input().rstrip().split())\n",
    "li = [[] for _ in range(n)]\n",
    "for _ in range(m):\n",
    "    a, b, t = map(int, input().rstrip().split())\n",
    "    a -= 1\n",
    "    b -= 1\n",
    "    li[a].append((b, t))\n",
    "    li[b].append((a, t))\n",
    "\n",
    "distances = [[float('inf')] * (k + 1) for _ in range(n)]\n",
    "distances[0] = [0] * (k + 1)\n",
    "\n",
    "heap = []\n",
    "heappush(heap, (0, 0, k)) # 누적 거리, 노드 번호, 남은 k\n",
    "\n",
    "while heap:\n",
    "    dist, value, remain = heappop(heap)\n",
    "    \n",
    "    if distances[value][remain] < dist:\n",
    "        continue\n",
    "    \n",
    "    for v, d in li[value]:\n",
    "        if remain:\n",
    "            nremain = remain - 1\n",
    "            if dist < distances[v][nremain]:\n",
    "                distances[v][nremain] = dist\n",
    "                heappush(heap, (dist, v, nremain))\n",
    "            \n",
    "        ndist = dist + d\n",
    "        if ndist < distances[v][remain]:\n",
    "            distances[v][remain] = ndist\n",
    "            heappush(heap, (ndist, v, remain))\n",
    "            \n",
    "print(min(distances[-1]))"
   ]
  },
  {
   "cell_type": "markdown",
   "metadata": {},
   "source": [
    "### 주유소 13308\n",
    "- 다익스트라"
   ]
  },
  {
   "cell_type": "raw",
   "metadata": {},
   "source": [
    "dp[노드 번호][현재까지의 최소 기름 비용]\n",
    "\n",
    "다익스트라 돌리면서 현재까지의 최소 기름 비용을 가지고 다님"
   ]
  },
  {
   "cell_type": "code",
   "execution_count": 52,
   "metadata": {},
   "outputs": [
    {
     "name": "stdout",
     "output_type": "stream",
     "text": [
      "28\n"
     ]
    }
   ],
   "source": [
    "# 시간 초과\n",
    "from heapq import heappush, heappop\n",
    "import sys\n",
    "input = sys.stdin.readline\n",
    "\n",
    "n, m = map(int, input().rstrip().split())\n",
    "prices = list(map(int, input().rstrip().split()))\n",
    "li = [[] for _ in range(n)]\n",
    "for _ in range(m):\n",
    "    a, b, d = map(int, input().rstrip().split())\n",
    "    a -= 1\n",
    "    b -= 1\n",
    "    li[a].append((b, d))\n",
    "    li[b].append((a, d))\n",
    "    \n",
    "dp = [[float('inf')] * (max(prices) + 1) for _ in range(n)]\n",
    "dp[0][prices[0]] = 0\n",
    "\n",
    "heap = []\n",
    "heappush(heap, (0, prices[0], 0)) # (누적 비용, 최소 기름 비용, 노드 번호)\n",
    "\n",
    "while heap:\n",
    "    cumul_cost, min_cost, value = heappop(heap)\n",
    "    \n",
    "    if cumul_cost > dp[value][min_cost]:\n",
    "        continue\n",
    "    \n",
    "    for v, d in li[value]:\n",
    "        n_cumul_cost = cumul_cost + min_cost * d\n",
    "        n_min_cost = min(prices[v], min_cost)\n",
    "        \n",
    "        if n_cumul_cost < dp[v][n_min_cost]:\n",
    "            dp[v][n_min_cost] = n_cumul_cost\n",
    "            heappush(heap, (n_cumul_cost, n_min_cost, v))\n",
    "\n",
    "print(min(dp[-1]))"
   ]
  },
  {
   "cell_type": "code",
   "execution_count": 62,
   "metadata": {},
   "outputs": [
    {
     "name": "stdout",
     "output_type": "stream",
     "text": [
      "28\n"
     ]
    }
   ],
   "source": [
    "# 시간 초과\n",
    "from collections import deque\n",
    "import sys\n",
    "# input = sys.stdin.readline\n",
    "\n",
    "n, m = map(int, input().rstrip().split())\n",
    "prices = list(map(int, input().rstrip().split()))\n",
    "li = [[] for _ in range(n)]\n",
    "for _ in range(m):\n",
    "    a, b, d = map(int, input().rstrip().split())\n",
    "    a -= 1\n",
    "    b -= 1\n",
    "    li[a].append((b, d))\n",
    "    li[b].append((a, d))\n",
    "    \n",
    "dp = [[float('inf')] * (max(prices) + 1) for _ in range(n)]\n",
    "dp[0][prices[0]] = 0\n",
    "\n",
    "queue = deque()\n",
    "queue.append((0, prices[0])) # (노드 번호, 최소 기름 비용)\n",
    "\n",
    "while queue:\n",
    "    value, min_cost = queue.popleft()\n",
    "    \n",
    "    for v, d in li[value]:\n",
    "        n_cumul_cost = dp[value][min_cost] + min_cost * d\n",
    "        n_min_cost = min(prices[v], min_cost)\n",
    "        \n",
    "        if n_cumul_cost < dp[v][n_min_cost]:\n",
    "            dp[v][n_min_cost] = n_cumul_cost\n",
    "            queue.append((v, n_min_cost))\n",
    "\n",
    "print(min(dp[-1]))"
   ]
  },
  {
   "cell_type": "markdown",
   "metadata": {},
   "source": [
    "### 플로이드 11404 (다시 풀음)"
   ]
  },
  {
   "cell_type": "code",
   "execution_count": 36,
   "metadata": {},
   "outputs": [
    {
     "name": "stdout",
     "output_type": "stream",
     "text": [
      "5\n",
      "14\n",
      "1 2 2\n",
      "1 3 3\n",
      "1 4 1\n",
      "1 5 10\n",
      "2 4 2\n",
      "3 4 1\n",
      "3 5 1\n",
      "4 5 3\n",
      "3 5 10\n",
      "3 1 8\n",
      "1 4 2\n",
      "5 1 7\n",
      "3 4 2\n",
      "5 2 4\n",
      "0 2 3 1 4\n",
      "12 0 15 2 5\n",
      "8 5 0 1 1\n",
      "10 7 13 0 3\n",
      "7 4 10 6 0\n"
     ]
    }
   ],
   "source": [
    "import sys\n",
    "# input = sys.stdin.readline\n",
    "\n",
    "n = int(input().rstrip())\n",
    "m = int(input().rstrip())\n",
    "\n",
    "li = [[float('inf')] * n for _ in range(n)]\n",
    "for value in range(n):\n",
    "    li[value][value] = 0\n",
    "    \n",
    "for _ in range(m):\n",
    "    a, b, c = map(int, input().rstrip().split())\n",
    "    a -= 1\n",
    "    b -= 1\n",
    "    li[a][b] = min(li[a][b], c)\n",
    "    \n",
    "for mid in range(n):\n",
    "    for i in range(n):\n",
    "        for j in range(n):\n",
    "            li[i][j] = min(li[i][j], li[i][mid] + li[mid][j])\n",
    "            \n",
    "for i in range(n):\n",
    "    for j in range(n):\n",
    "        if li[i][j] == float('inf'):\n",
    "            li[i][j] = 0\n",
    "            \n",
    "for v in li:\n",
    "    print(*v)"
   ]
  },
  {
   "cell_type": "markdown",
   "metadata": {},
   "source": [
    "### 플로이드 2 11780"
   ]
  },
  {
   "cell_type": "code",
   "execution_count": 38,
   "metadata": {},
   "outputs": [
    {
     "name": "stdout",
     "output_type": "stream",
     "text": [
      "5\n",
      "14\n",
      "1 2 2\n",
      "1 3 3\n",
      "1 4 1\n",
      "1 5 10\n",
      "2 4 2\n",
      "3 4 1\n",
      "3 5 1\n",
      "4 5 3\n",
      "3 5 10\n",
      "3 1 8\n",
      "1 4 2\n",
      "5 1 7\n",
      "3 4 2\n",
      "5 2 4\n",
      "0 2 3 1 4 \n",
      "12 0 15 2 5 \n",
      "8 5 0 1 1 \n",
      "10 7 13 0 3 \n",
      "7 4 10 6 0 \n",
      "0\n",
      "2 1 2 \n",
      "2 1 3 \n",
      "2 1 4 \n",
      "3 1 3 5 \n",
      "4 2 4 5 1 \n",
      "0\n",
      "5 2 4 5 1 3 \n",
      "2 2 4 \n",
      "3 2 4 5 \n",
      "2 3 1 \n",
      "3 3 5 2 \n",
      "0\n",
      "2 3 4 \n",
      "2 3 5 \n",
      "3 4 5 1 \n",
      "3 4 5 2 \n",
      "4 4 5 1 3 \n",
      "0\n",
      "2 4 5 \n",
      "2 5 1 \n",
      "2 5 2 \n",
      "3 5 1 3 \n",
      "3 5 2 4 \n",
      "0\n"
     ]
    }
   ],
   "source": [
    "import sys\n",
    "# input = sys.stdin.readline\n",
    "\n",
    "n = int(input().rstrip())\n",
    "m = int(input().rstrip())\n",
    "\n",
    "li = [[float('inf')] * n for _ in range(n)]\n",
    "for value in range(n):\n",
    "    li[value][value] = 0\n",
    "    \n",
    "for _ in range(m):\n",
    "    a, b, c = map(int, input().rstrip().split())\n",
    "    a -= 1\n",
    "    b -= 1\n",
    "    li[a][b] = min(li[a][b], c)\n",
    "    \n",
    "route = [[-1] * n for _ in range(n)] \n",
    "\n",
    "for i in range(n):\n",
    "    for j in range(n):\n",
    "        route[i][j] = j\n",
    "    \n",
    "for mid in range(n):\n",
    "    for i in range(n):\n",
    "        for j in range(n):\n",
    "            if li[i][mid] + li[mid][j] < li[i][j]:\n",
    "                li[i][j] = li[i][mid] + li[mid][j]\n",
    "                route[i][j] = route[i][mid]\n",
    "                \n",
    "for i in range(n):\n",
    "    for j in range(n):\n",
    "        if li[i][j] == float('inf'):\n",
    "            print(0, end=' ')\n",
    "        else:\n",
    "            print(li[i][j], end=' ')\n",
    "    print()\n",
    "                        \n",
    "for i in range(n):\n",
    "    for j in range(n):\n",
    "        if i == j or li[i][j] == float('inf'):\n",
    "            route[i][j] = -1\n",
    "            \n",
    "for i in range(n):\n",
    "    for j in range(n):\n",
    "        if route[i][j] == -1:\n",
    "            print(0)\n",
    "        else:\n",
    "            temp = [i + 1]\n",
    "            current_route = i\n",
    "            while True:\n",
    "                current_route = route[current_route][j]\n",
    "                temp.append(current_route + 1)\n",
    "                if current_route == j:\n",
    "                    break\n",
    "            print(len(temp), end=' ')\n",
    "            print(*temp, end=' ')\n",
    "            print()"
   ]
  }
 ],
 "metadata": {
  "kernelspec": {
   "display_name": "Python 3",
   "language": "python",
   "name": "python3"
  },
  "language_info": {
   "codemirror_mode": {
    "name": "ipython",
    "version": 3
   },
   "file_extension": ".py",
   "mimetype": "text/x-python",
   "name": "python",
   "nbconvert_exporter": "python",
   "pygments_lexer": "ipython3",
   "version": "3.7.3"
  }
 },
 "nbformat": 4,
 "nbformat_minor": 4
}
