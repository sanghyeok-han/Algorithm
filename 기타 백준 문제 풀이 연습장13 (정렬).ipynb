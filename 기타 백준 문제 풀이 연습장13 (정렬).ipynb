{
 "cells": [
  {
   "cell_type": "markdown",
   "metadata": {},
   "source": [
    "### 민식어 1599"
   ]
  },
  {
   "cell_type": "code",
   "execution_count": 4,
   "metadata": {},
   "outputs": [
    {
     "data": {
      "text/plain": [
       "{'a': 0,\n",
       " 'b': 1,\n",
       " 'k': 2,\n",
       " 'd': 3,\n",
       " 'e': 4,\n",
       " 'g': 5,\n",
       " 'h': 6,\n",
       " 'i': 7,\n",
       " 'l': 8,\n",
       " 'm': 9,\n",
       " 'n': 10,\n",
       " 'ng': 11,\n",
       " 'o': 12,\n",
       " 'p': 13,\n",
       " 'r': 14,\n",
       " 's': 15,\n",
       " 't': 16,\n",
       " 'u': 17,\n",
       " 'w': 18,\n",
       " 'y': 19}"
      ]
     },
     "execution_count": 4,
     "metadata": {},
     "output_type": "execute_result"
    }
   ],
   "source": [
    "sequence_dict"
   ]
  },
  {
   "cell_type": "code",
   "execution_count": 8,
   "metadata": {},
   "outputs": [
    {
     "name": "stdout",
     "output_type": "stream",
     "text": [
      "4\n",
      "ababa\n",
      "alphabet\n",
      "ako\n",
      "tagang\n",
      "ababa\n",
      "ako\n",
      "alphabet\n",
      "tagang\n"
     ]
    }
   ],
   "source": [
    "import sys\n",
    "# input = sys.stdin.readline\n",
    "\n",
    "def change(v):\n",
    "    return sequence_dict[v]\n",
    "\n",
    "n = int(input())\n",
    "\n",
    "sequence_dict = {v: i for i, v in enumerate('a b k d e g h i l m n ng o p r s t u w y'.split())}\n",
    "original_li = []\n",
    "changed_li = []\n",
    "for i in range(n):\n",
    "    s = input()\n",
    "    original_li.append(s)\n",
    "\n",
    "    li = []\n",
    "    for j in range(len(s)):\n",
    "        if j >= 1 and s[j - 1] == \"n\" and s[j] == \"g\":\n",
    "            li.pop()\n",
    "            li.append('ng')\n",
    "        else:\n",
    "            li.append(s[j])\n",
    "    li = list(map(change, li))\n",
    "    changed_li.append((li, i))\n",
    "    \n",
    "changed_li.sort()\n",
    "sequence = [v[1] for v in changed_li]\n",
    "\n",
    "for se in sequence:\n",
    "    print(original_li[se])"
   ]
  },
  {
   "cell_type": "markdown",
   "metadata": {},
   "source": [
    "### 숫자놀이 1755"
   ]
  },
  {
   "cell_type": "code",
   "execution_count": 15,
   "metadata": {},
   "outputs": [
    {
     "name": "stdout",
     "output_type": "stream",
     "text": [
      "1 1\n",
      "1\n"
     ]
    }
   ],
   "source": [
    "m, n = map(int, input().split())\n",
    "\n",
    "d = {'0': 'zero', '1': 'one', '2': 'two', '3': 'three', '4': 'four', '5': 'five', '6': 'six', '7': 'seven', '8': 'eight', '9': 'nine'}\n",
    "\n",
    "li = []\n",
    "for i in range(m, n + 1):\n",
    "    s = str(i)\n",
    "    changed = []\n",
    "    for v in s:\n",
    "        changed.append(d[v])\n",
    "    li.append((\" \".join(changed), s))\n",
    "    \n",
    "li.sort(key=lambda x: x[0])\n",
    "result = [v[1] for v in li]\n",
    "\n",
    "def print_result(result):\n",
    "    start = 0\n",
    "    result_length = len(result)\n",
    "    while True:\n",
    "        temp = []\n",
    "        for i in range(start, start + 10):\n",
    "            if i < result_length:\n",
    "                temp.append(result[i])\n",
    "            else:\n",
    "                if temp:\n",
    "                    print(\" \".join(temp))\n",
    "                return\n",
    "        print(\" \".join(temp))\n",
    "        start += 10\n",
    "        \n",
    "print_result(result)"
   ]
  }
 ],
 "metadata": {
  "kernelspec": {
   "display_name": "Python 3",
   "language": "python",
   "name": "python3"
  },
  "language_info": {
   "codemirror_mode": {
    "name": "ipython",
    "version": 3
   },
   "file_extension": ".py",
   "mimetype": "text/x-python",
   "name": "python",
   "nbconvert_exporter": "python",
   "pygments_lexer": "ipython3",
   "version": "3.7.3"
  }
 },
 "nbformat": 4,
 "nbformat_minor": 4
}
