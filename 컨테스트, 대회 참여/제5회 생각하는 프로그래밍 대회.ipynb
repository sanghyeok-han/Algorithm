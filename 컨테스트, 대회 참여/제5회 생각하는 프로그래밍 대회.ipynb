{
 "cells": [
  {
   "cell_type": "markdown",
   "metadata": {},
   "source": [
    "### A번 공자장 표지판"
   ]
  },
  {
   "cell_type": "code",
   "execution_count": null,
   "metadata": {},
   "outputs": [],
   "source": [
    "n = int(input())\n",
    "\n",
    "if n <= 4:\n",
    "    for _ in range(n):\n",
    "        print('*' * n)\n",
    "else:\n",
    "    print('*' * n)\n",
    "    for i in range((n - 2) // 2):\n",
    "        s = '*' + ' ' * i + '*' + ' ' * (n - 4 - (i * 2)) + '*' + ' ' * i + '*'\n",
    "        print(s)\n",
    "    if n % 2 == 1:\n",
    "        sc = (n - 3) // 2 # space count \n",
    "        print('*' + ' ' * sc + '*' + ' ' * sc + '*') \n",
    "    for i in range((n - 2) // 2 - 1, -1, -1):\n",
    "        s = '*' + ' ' * i + '*' + ' ' * (n - 4 - (i * 2)) + '*' + ' ' * i + '*'\n",
    "        print(s)        \n",
    "        \n",
    "    print('*' * n)"
   ]
  },
  {
   "cell_type": "markdown",
   "metadata": {},
   "source": [
    "### B번 - 참가자 명단"
   ]
  },
  {
   "cell_type": "code",
   "execution_count": null,
   "metadata": {},
   "outputs": [],
   "source": [
    "from collections import defaultdict as dd\n",
    "\n",
    "n, m = map(int, input().split())\n",
    "\n",
    "li = []\n",
    "counts = dd(int)\n",
    "while True:\n",
    "    num, name = input().split()\n",
    "    num = int(num)\n",
    "    if num == 0:\n",
    "        break\n",
    "    \n",
    "    if counts[num] < m:\n",
    "        counts[num] += 1\n",
    "        if num % 2 == 0:\n",
    "            team = 1\n",
    "        else:\n",
    "            team = 0\n",
    "        li.append((team, num, name))\n",
    "    \n",
    "li.sort(key=lambda x: (x[0], x[1], len(x[2]), x[2]))\n",
    "\n",
    "for v in li:\n",
    "    print(v[1], v[2])"
   ]
  },
  {
   "cell_type": "markdown",
   "metadata": {},
   "source": [
    "### C번 - 도전 숫자왕"
   ]
  },
  {
   "cell_type": "code",
   "execution_count": null,
   "metadata": {},
   "outputs": [],
   "source": [
    "# 틀렸음, 그리디 시도\n",
    "n = int(input())\n",
    "li = sorted(map(int, input().split()))\n",
    "\n",
    "cur_check = 1\n",
    "count = 0\n",
    "weight = 0\n",
    "for v in li:\n",
    "    if cur_check < v:\n",
    "        weight += v - cur_check\n",
    "        \n",
    "    count += weight\n",
    "    cur_check += v\n",
    "    \n",
    "    print(v, cur_check, count)\n",
    "    \n",
    "print(count)"
   ]
  },
  {
   "cell_type": "code",
   "execution_count": null,
   "metadata": {},
   "outputs": [],
   "source": [
    "# 맞았음, 브루트포스 시도\n",
    "from itertools import combinations as comb\n",
    "\n",
    "n = int(input())\n",
    "li = sorted(map(int, input().split()))\n",
    "\n",
    "total = sum(li)\n",
    "st = set()\n",
    "for i in range(1, n + 1):\n",
    "    cases = comb(li, i)\n",
    "    for case in cases:\n",
    "        st.add(sum(case))\n",
    "        \n",
    "print(total - len(st))"
   ]
  },
  {
   "cell_type": "markdown",
   "metadata": {},
   "source": [
    "### D번 - 뒤집기 게임"
   ]
  },
  {
   "cell_type": "code",
   "execution_count": null,
   "metadata": {},
   "outputs": [],
   "source": [
    "from itertools import combinations as comb\n",
    "from copy import deepcopy\n",
    "\n",
    "n = int(input())\n",
    "li = [list(map(int, input().split())) for _ in range(n)]\n",
    "\n",
    "total = n * n\n",
    "\n",
    "def get_ts(to_changes):\n",
    "    \"\"\"get time spent\"\"\"\n",
    "    \n",
    "    nli = deepcopy(li)\n",
    "    for t in to_changes:\n",
    "        if t <= n - 1:\n",
    "            for j in range(n):\n",
    "                nli[t][j] ^= 1\n",
    "        else:\n",
    "            t -= n;\n",
    "            for i in range(n):\n",
    "                nli[i][t] ^= 1\n",
    "                \n",
    "    c1 = sum(sum(nli, []))\n",
    "    c2 = total - c1\n",
    "    \n",
    "    return min(c1, c2) + len(to_changes)\n",
    "    \n",
    "# 0 ~ n - 1: 행, n ~ 2 * n - 1: 열\n",
    "min_spent = float('inf')\n",
    "for i in range(2 * n + 1):\n",
    "    cases = comb(range(2 * n), i)\n",
    "    for case in cases:\n",
    "        ts = get_ts(case)\n",
    "        min_spent = min(min_spent, ts)\n",
    "        \n",
    "print(min_spent)"
   ]
  },
  {
   "cell_type": "markdown",
   "metadata": {},
   "source": [
    "### E번 - 리그 오브 레게노"
   ]
  },
  {
   "cell_type": "code",
   "execution_count": null,
   "metadata": {},
   "outputs": [],
   "source": [
    "# 대회 시간 중 미제출\n",
    "from collections import defaultdict as dd\n",
    "from heapq import heappush, heappop\n",
    "\n",
    "n = int(input())\n",
    "\n",
    "pres = dd(list)\n",
    "posts = dd(list)\n",
    "indegree = dd(int)\n",
    "\n",
    "all_st = set()\n",
    "for _ in range(n):\n",
    "    f, t = input().split()\n",
    "    all_st.add(f)\n",
    "    all_st.add(t)\n",
    "    \n",
    "    indegree[f]\n",
    "    pres[t].append(f)\n",
    "    indegree[t] += 1    \n",
    "    posts[f].append(t)\n",
    "    \n",
    "heap = []\n",
    "for key in indegree:\n",
    "    if indegree[key] == 0:\n",
    "        heappush(heap, (0, key)) \n",
    "\n",
    "result = []\n",
    "while heap:\n",
    "    level, value = heappop(heap)\n",
    "    result.append(value)\n",
    "    \n",
    "    cands = []\n",
    "    for v in posts[value]:\n",
    "        indegree[v] -= 1\n",
    "        if indegree[v] == 0:\n",
    "            heappush(heap, (level + 1 , v))\n",
    "            \n",
    "if len(result) != len(all_st):\n",
    "    print(-1)\n",
    "else:\n",
    "    print('\\n'.join(result))"
   ]
  },
  {
   "cell_type": "code",
   "execution_count": null,
   "metadata": {},
   "outputs": [],
   "source": [
    "# 대회 후 제출 버전\n",
    "from collections import defaultdict as dd\n",
    "from heapq import heappush, heappop\n",
    "import sys\n",
    "# input = lambda: sys.stdin.readline().rstrip()\n",
    "\n",
    "n = int(input())\n",
    "\n",
    "pres = dd(list)\n",
    "posts = dd(list)\n",
    "indegree = dd(int)\n",
    "\n",
    "all_st = set()\n",
    "for _ in range(n):\n",
    "    f, t = input().split()\n",
    "    all_st.add(f)\n",
    "    all_st.add(t)\n",
    "    \n",
    "    indegree[f]\n",
    "    pres[t].append(f)\n",
    "    indegree[t] += 1    \n",
    "    posts[f].append(t)\n",
    "    \n",
    "heap = []\n",
    "for key in indegree:\n",
    "    if indegree[key] == 0:\n",
    "        heappush(heap, (0, key)) \n",
    "\n",
    "result = []\n",
    "while heap:\n",
    "    level, value = heappop(heap)\n",
    "    result.append(value)\n",
    "    \n",
    "    cands = []\n",
    "    for v in posts[value]:\n",
    "        indegree[v] -= 1\n",
    "        if indegree[v] == 0:\n",
    "            heappush(heap, (level + 1 , v))\n",
    "            \n",
    "if len(result) != len(all_st):\n",
    "    print('-1')\n",
    "else:\n",
    "    print('\\n'.join(result))"
   ]
  }
 ],
 "metadata": {
  "kernelspec": {
   "display_name": "Python 3",
   "language": "python",
   "name": "python3"
  },
  "language_info": {
   "codemirror_mode": {
    "name": "ipython",
    "version": 3
   },
   "file_extension": ".py",
   "mimetype": "text/x-python",
   "name": "python",
   "nbconvert_exporter": "python",
   "pygments_lexer": "ipython3",
   "version": "3.7.3"
  }
 },
 "nbformat": 4,
 "nbformat_minor": 4
}
