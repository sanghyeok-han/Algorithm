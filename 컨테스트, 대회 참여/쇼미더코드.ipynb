{
 "cells": [
  {
   "cell_type": "markdown",
   "metadata": {},
   "source": [
    "A"
   ]
  },
  {
   "cell_type": "code",
   "execution_count": 8,
   "metadata": {},
   "outputs": [
    {
     "name": "stdout",
     "output_type": "stream",
     "text": [
      "36\n"
     ]
    }
   ],
   "source": [
    "from itertools import permutations as perm\n",
    "\n",
    "n = int(input())\n",
    "li = list(map(int, input().split()))\n",
    "\n",
    "infos = [[] for _ in range(n)]\n",
    "for i in range(n):\n",
    "    p = int(input())\n",
    "    for _ in range(p):\n",
    "        a, d = map(int, input().split())\n",
    "        a -= 1\n",
    "        infos[i].append((a, d))\n",
    "        \n",
    "min_cost = float('inf')\n",
    "for case in perm(range(n)):\n",
    "    cost = 0\n",
    "    bargained = [0] * n\n",
    "    for v in case:\n",
    "        cost += max(1, li[v] - bargained[v])\n",
    "        for a, d in infos[v]:\n",
    "            bargained[a] += d\n",
    "            \n",
    "    min_cost = min(min_cost, cost)\n",
    "    \n",
    "print(min_cost)"
   ]
  },
  {
   "cell_type": "markdown",
   "metadata": {},
   "source": [
    "B"
   ]
  },
  {
   "cell_type": "code",
   "execution_count": 17,
   "metadata": {},
   "outputs": [
    {
     "name": "stdout",
     "output_type": "stream",
     "text": [
      "3 2\n",
      "10 9 1\n",
      "1 2\n",
      "2 3\n",
      "1 3\n",
      "1091\n",
      "3 1\n",
      "1910\n"
     ]
    }
   ],
   "source": [
    "import sys\n",
    "sys.setrecursionlimit(10000)\n",
    "input = lambda: sys.stdin.readline().rstrip()\n",
    "\n",
    "mod = 1000000007\n",
    "\n",
    "def dfs(value):\n",
    "    vt[value] = True\n",
    "    \n",
    "    is_selected = False\n",
    "    temp = nums[value]\n",
    "    for v in li[value]:\n",
    "        if not vt[v]:\n",
    "            r, t = dfs(v)\n",
    "\n",
    "            if r:\n",
    "                is_selected = True\n",
    "                temp += t\n",
    "            \n",
    "    if value == e:\n",
    "        is_selected = True\n",
    "        \n",
    "    if is_selected:\n",
    "        return True, temp\n",
    "    else:\n",
    "        return False, ''\n",
    "\n",
    "n, q = map(int, input().split())\n",
    "nums = input().split()\n",
    "\n",
    "get_value = lambda x: int(x) - 1\n",
    "li = [[] for _ in range(n)]\n",
    "for _ in range(n - 1):\n",
    "    a, b = map(get_value, input().split())\n",
    "    \n",
    "    li[a].append(b)\n",
    "    li[b].append(a)\n",
    "    \n",
    "for _ in range(q):\n",
    "    s, e = map(get_value, input().split())\n",
    "    \n",
    "    if s == e:\n",
    "        print(nums[s])\n",
    "    else:\n",
    "        vt = [False] * n\n",
    "        _, temp = dfs(s)\n",
    "        \n",
    "        if not temp:\n",
    "            while True:\n",
    "                print(11111111)\n",
    "        \n",
    "        print(int(temp) % mod)"
   ]
  },
  {
   "cell_type": "markdown",
   "metadata": {},
   "source": [
    "C"
   ]
  },
  {
   "cell_type": "code",
   "execution_count": 20,
   "metadata": {},
   "outputs": [
    {
     "name": "stdout",
     "output_type": "stream",
     "text": [
      "8\n",
      "WAHEWHEE\n",
      "6\n"
     ]
    }
   ],
   "source": [
    "mod = 1000000007\n",
    "\n",
    "n = int(input())\n",
    "s = input()\n",
    "\n",
    "dp = [0, 0, 0]\n",
    "if s[0] == 'W':\n",
    "    dp[0] = 1\n",
    "    \n",
    "r = 0\n",
    "for i in range(1, n):\n",
    "    if s[i] == 'W':\n",
    "        dp[0] += 1\n",
    "    elif s[i] == 'H':\n",
    "        dp[1] += dp[0]\n",
    "        dp[1] %= mod\n",
    "    elif s[i] == 'E':\n",
    "        r += dp[2]\n",
    "        r %= mod\n",
    "        \n",
    "        dp[2] += dp[1] + dp[2]\n",
    "        dp[2] %= mod\n",
    "        \n",
    "print(r)"
   ]
  },
  {
   "cell_type": "markdown",
   "metadata": {},
   "source": [
    "내 점수: 3 / 0:48 -> 금손 뱃지"
   ]
  }
 ],
 "metadata": {
  "kernelspec": {
   "display_name": "Python 3",
   "language": "python",
   "name": "python3"
  },
  "language_info": {
   "codemirror_mode": {
    "name": "ipython",
    "version": 3
   },
   "file_extension": ".py",
   "mimetype": "text/x-python",
   "name": "python",
   "nbconvert_exporter": "python",
   "pygments_lexer": "ipython3",
   "version": "3.7.4"
  }
 },
 "nbformat": 4,
 "nbformat_minor": 2
}
