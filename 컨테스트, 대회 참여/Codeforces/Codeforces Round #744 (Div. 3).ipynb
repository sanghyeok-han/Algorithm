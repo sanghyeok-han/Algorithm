{
 "cells": [
  {
   "cell_type": "markdown",
   "metadata": {},
   "source": [
    "### A"
   ]
  },
  {
   "cell_type": "code",
   "execution_count": null,
   "metadata": {},
   "outputs": [],
   "source": [
    "A, B 세트나, B, C 세트를 없앨 수 있음"
   ]
  },
  {
   "cell_type": "code",
   "execution_count": null,
   "metadata": {},
   "outputs": [],
   "source": [
    "A 3\n",
    "B 5\n",
    "C 2"
   ]
  },
  {
   "cell_type": "code",
   "execution_count": null,
   "metadata": {},
   "outputs": [],
   "source": [
    "a 개수 + c 개수 == b 개수여야 함"
   ]
  },
  {
   "cell_type": "code",
   "execution_count": 1,
   "metadata": {},
   "outputs": [
    {
     "name": "stdout",
     "output_type": "stream",
     "text": [
      "6\n",
      "ABACAB\n",
      "NO\n",
      "ABBA\n",
      "YES\n",
      "AC\n",
      "NO\n",
      "ABC\n",
      "NO\n",
      "CABCBB\n",
      "YES\n",
      "BCBCBCBCBCBCBCBC\n",
      "YES\n"
     ]
    }
   ],
   "source": [
    "t = int(input())\n",
    "for _ in range(t):\n",
    "    s = input()\n",
    "    \n",
    "    ca = s.count('A')\n",
    "    cb = s.count('B')\n",
    "    cc = s.count('C')\n",
    "    \n",
    "    if ca + cc == cb:\n",
    "        print('YES')\n",
    "    else:\n",
    "        print('NO')"
   ]
  },
  {
   "cell_type": "markdown",
   "metadata": {},
   "source": [
    "### B"
   ]
  },
  {
   "cell_type": "code",
   "execution_count": 20,
   "metadata": {},
   "outputs": [
    {
     "name": "stdout",
     "output_type": "stream",
     "text": [
      "1\n",
      "2\n",
      "2 1\n",
      "1\n",
      "1 2 1\n"
     ]
    }
   ],
   "source": [
    "from collections import deque\n",
    "\n",
    "t = int(input())\n",
    "for _ in range(t):\n",
    "    n = int(input())\n",
    "    li = list(map(int, input().split()))\n",
    "    target = sorted(li)\n",
    "    result = []\n",
    "    k = 0\n",
    "    for start in range(n - 1):\n",
    "        part = li[start:]\n",
    "        loc = part.index(target[start])\n",
    "        if loc >= 1:\n",
    "            k += 1\n",
    "            result.append((start + 1, n, loc))\n",
    "            deq = deque(part)\n",
    "            deq.rotate(-loc)\n",
    "\n",
    "            part = list(deq)\n",
    "            li[start:] = part\n",
    "    \n",
    "    print(k)\n",
    "    for v in result:\n",
    "        print(*v)"
   ]
  },
  {
   "cell_type": "markdown",
   "metadata": {},
   "source": [
    "### C"
   ]
  },
  {
   "cell_type": "code",
   "execution_count": null,
   "metadata": {},
   "outputs": [],
   "source": [
    "밑에서부터 확인해보면서 *가 나오면 k 이상까지 양 옆으로 이어져 있는지\n",
    "체크해서 그렇다면 이어져 있는 양옆 세트들을 별도의 공간에 그렇다고 표시함"
   ]
  },
  {
   "cell_type": "code",
   "execution_count": 39,
   "metadata": {},
   "outputs": [
    {
     "name": "stdout",
     "output_type": "stream",
     "text": [
      "1\n",
      "2 3 2\n",
      "*.*\n",
      ".*.\n",
      "NO\n"
     ]
    }
   ],
   "source": [
    "import sys\n",
    "# input = lambda: sys.stdin.readline().rstrip()\n",
    "\n",
    "def check_and_reflect(i, j):\n",
    "    temp = [(i, j)]\n",
    "    \n",
    "    nx, ly = i - 1, j - 1\n",
    "    nx, ry = i - 1, j + 1\n",
    "    while nx >= 0 and ly >= 0 and ry < m:\n",
    "        if li[nx][ly] == '*' and li[nx][ry] == '*':   \n",
    "            temp.append((nx, ly))\n",
    "            temp.append((nx, ry))\n",
    "        else:\n",
    "            break\n",
    "\n",
    "        nx -= 1\n",
    "        ly -= 1\n",
    "        ry += 1\n",
    "        \n",
    "    if len(temp) >= 2 * k + 1:\n",
    "        for i, j in temp:\n",
    "            passed[i][j] = True\n",
    "            \n",
    "def check_result():\n",
    "    for i in range(n):\n",
    "        for j in range(m):\n",
    "            if not passed[i][j]:\n",
    "                return False\n",
    "            \n",
    "    return True\n",
    "              \n",
    "t = int(input())\n",
    "for _ in range(t):\n",
    "    n, m, k = map(int, input().split())\n",
    "    li = [input() for _ in range(n)]\n",
    "\n",
    "    passed = [[True] * m for _ in range(n)]\n",
    "    for i in range(n):\n",
    "        for j in range(m):\n",
    "            if li[i][j] == '*':\n",
    "                passed[i][j] = False\n",
    "\n",
    "    for i in range(n - 1, -1, -1):\n",
    "        for j in range(m):\n",
    "            if li[i][j] == '*':\n",
    "                check_and_reflect(i, j)\n",
    "\n",
    "    if check_result():\n",
    "        print('YES')\n",
    "    else:\n",
    "        print('NO')"
   ]
  },
  {
   "cell_type": "markdown",
   "metadata": {},
   "source": [
    "### D"
   ]
  },
  {
   "cell_type": "code",
   "execution_count": 33,
   "metadata": {},
   "outputs": [
    {
     "name": "stdout",
     "output_type": "stream",
     "text": [
      "1\n",
      "5\n",
      "8 2 0 1 1\n",
      "4\n",
      "1 2\n",
      "1 2\n",
      "1 4\n",
      "1 5\n"
     ]
    }
   ],
   "source": [
    "from heapq import heapify, heappush, heappop\n",
    "\n",
    "t = int(input())\n",
    "for _ in range(t):\n",
    "    n = int(input())\n",
    "    li = list(map(int, input().split()))\n",
    "    heap = [(-v, i + 1) for i, v in enumerate(li) if v != 0]\n",
    "    heapify(heap)\n",
    "\n",
    "    count = 0\n",
    "    result = []\n",
    "    while len(heap) >= 2:\n",
    "        count += 1\n",
    "        av, ai = heappop(heap)\n",
    "        bv, bi = heappop(heap)\n",
    "\n",
    "        result.append((ai, bi))\n",
    "        av += 1\n",
    "        if av:\n",
    "            heappush(heap, (av, ai))\n",
    "        bv += 1\n",
    "        if bv:\n",
    "            heappush(heap, (bv, bi))\n",
    "\n",
    "    print(count)\n",
    "    for v in result:\n",
    "        print(v[0], v[1])"
   ]
  },
  {
   "cell_type": "markdown",
   "metadata": {},
   "source": [
    "### E1"
   ]
  },
  {
   "cell_type": "code",
   "execution_count": 21,
   "metadata": {},
   "outputs": [
    {
     "name": "stdout",
     "output_type": "stream",
     "text": [
      "5\n",
      "4\n",
      "3 1 2 4\n",
      "1 3 2 4\n",
      "3\n",
      "3 2 1\n",
      "1 2 3\n",
      "3\n",
      "3 1 2\n",
      "1 3 2\n",
      "2\n",
      "1 2\n",
      "1 2\n",
      "2\n",
      "2 1\n",
      "1 2\n"
     ]
    }
   ],
   "source": [
    "from collections import deque\n",
    "\n",
    "t = int(input())\n",
    "for _ in range(t):\n",
    "    n = int(input())\n",
    "    init = deque(map(int, input().split()))\n",
    "    \n",
    "    deq = deque()\n",
    "    deq.append(init.popleft())\n",
    "    while init:\n",
    "        value = init.popleft()\n",
    "        \n",
    "        if value < deq[0]:\n",
    "            deq.appendleft(value)\n",
    "        else:\n",
    "            deq.append(value)\n",
    "            \n",
    "    print(*deq)"
   ]
  },
  {
   "cell_type": "markdown",
   "metadata": {},
   "source": [
    "### E2"
   ]
  },
  {
   "cell_type": "code",
   "execution_count": null,
   "metadata": {},
   "outputs": [],
   "source": [
    "4513, 3514 케이스 해결하기"
   ]
  },
  {
   "cell_type": "code",
   "execution_count": 41,
   "metadata": {},
   "outputs": [
    {
     "name": "stdout",
     "output_type": "stream",
     "text": [
      "4\n",
      "3 1 4 5\n"
     ]
    },
    {
     "data": {
      "text/plain": [
       "[(1, 1), (3, 0), (4, 2), (5, 3)]"
      ]
     },
     "execution_count": 41,
     "metadata": {},
     "output_type": "execute_result"
    }
   ],
   "source": [
    "from collections import deque\n",
    "\n",
    "n = int(input())\n",
    "li = list(map(int, input().split()))\n",
    "li = [(v, i) for i, v in enumerate(li)]\n",
    "li = []"
   ]
  },
  {
   "cell_type": "code",
   "execution_count": null,
   "metadata": {},
   "outputs": [],
   "source": [
    "어딘가에 정렬된 상태 유지하면서 계속 추가\n",
    "추가할 때 정렬된 상태에서 이분탐색 써서 해당 값보다 큰 값이 작은 값보다 더 많으면 작은 값이 result에 추가되고\n",
    "큰 값이 더 많으면 큰 값이 result에 추가됨"
   ]
  },
  {
   "cell_type": "code",
   "execution_count": 50,
   "metadata": {},
   "outputs": [],
   "source": [
    "from bisect import bisect_right, insort"
   ]
  },
  {
   "cell_type": "code",
   "execution_count": 57,
   "metadata": {},
   "outputs": [],
   "source": [
    "n = 5\n",
    "\n",
    "li = [2, 3, 3, 4, 5]"
   ]
  },
  {
   "cell_type": "code",
   "execution_count": 59,
   "metadata": {},
   "outputs": [],
   "source": [
    "insort(li, 3)"
   ]
  },
  {
   "cell_type": "code",
   "execution_count": 60,
   "metadata": {},
   "outputs": [
    {
     "data": {
      "text/plain": [
       "[2, 3, 3, 3, 4, 5]"
      ]
     },
     "execution_count": 60,
     "metadata": {},
     "output_type": "execute_result"
    }
   ],
   "source": [
    "li"
   ]
  },
  {
   "cell_type": "code",
   "execution_count": null,
   "metadata": {},
   "outputs": [],
   "source": []
  },
  {
   "cell_type": "code",
   "execution_count": 55,
   "metadata": {},
   "outputs": [
    {
     "data": {
      "text/plain": [
       "2"
      ]
     },
     "execution_count": 55,
     "metadata": {},
     "output_type": "execute_result"
    }
   ],
   "source": [
    "n - bisect_right(li, 3)"
   ]
  },
  {
   "cell_type": "code",
   "execution_count": 56,
   "metadata": {},
   "outputs": [
    {
     "data": {
      "text/plain": [
       "1"
      ]
     },
     "execution_count": 56,
     "metadata": {},
     "output_type": "execute_result"
    }
   ],
   "source": [
    "bisect_left(li, 3)"
   ]
  },
  {
   "cell_type": "code",
   "execution_count": 66,
   "metadata": {},
   "outputs": [
    {
     "name": "stdout",
     "output_type": "stream",
     "text": [
      "1\n",
      "4\n",
      "1 2 3 4\n",
      "1 3\n",
      "2 2\n",
      "3 1\n",
      "4\n"
     ]
    }
   ],
   "source": [
    "from collections import deque\n",
    "from bisect import bisect_left, bisect_right, insort\n",
    "\n",
    "\n",
    "for _ in range(int(input())):\n",
    "    n = int(input())\n",
    "    init = deque(map(int, input().split()))\n",
    "\n",
    "    sorted_li = [init.popleft()]\n",
    "    result = 0\n",
    "    for value in init:\n",
    "        lv = bisect_left(sorted_li, value)\n",
    "        rv = n - bisect_right(sorted_li, value)\n",
    "        \n",
    "        print(lv, rv)\n",
    "\n",
    "        if lv < rv:\n",
    "            result += lv\n",
    "        else:\n",
    "            result += rv\n",
    "\n",
    "        insort(sorted_li, value)\n",
    "\n",
    "    print(result)"
   ]
  },
  {
   "cell_type": "markdown",
   "metadata": {},
   "source": [
    "### 제출용"
   ]
  },
  {
   "cell_type": "code",
   "execution_count": null,
   "metadata": {},
   "outputs": [],
   "source": [
    "import os\n",
    "import sys\n",
    "from io import BytesIO, IOBase\n",
    " \n",
    "\n",
    "def main():\n",
    "    from collections import deque\n",
    "    from bisect import bisect_left, bisect_right, insort\n",
    "\n",
    "\n",
    "    for _ in range(int(input())):\n",
    "        n = int(input())\n",
    "        init = deque(map(int, input().split()))\n",
    "\n",
    "        sorted_li = [init.popleft()]\n",
    "        result = 0\n",
    "        for v in init:\n",
    "            lv = bisect_left(li, 3)\n",
    "            rv = n - bisect_right(li, 3)\n",
    "\n",
    "            if lv < rv:\n",
    "                result += lv\n",
    "            else:\n",
    "                result += rv\n",
    "\n",
    "            insort(sorted_li, v)\n",
    "\n",
    "        print(result)\n",
    "    \n",
    "\n",
    "# region fastio\n",
    " \n",
    "BUFSIZE = 8192\n",
    " \n",
    "\n",
    "class FastIO(IOBase):\n",
    "    newlines = 0\n",
    " \n",
    "    def __init__(self, file):\n",
    "        self._fd = file.fileno()\n",
    "        self.buffer = BytesIO()\n",
    "        self.writable = \"x\" in file.mode or \"r\" not in file.mode\n",
    "        self.write = self.buffer.write if self.writable else None\n",
    " \n",
    "    def read(self):\n",
    "        while True:\n",
    "            b = os.read(self._fd, max(os.fstat(self._fd).st_size, BUFSIZE))\n",
    "            if not b:\n",
    "                break\n",
    "            ptr = self.buffer.tell()\n",
    "            self.buffer.seek(0, 2), self.buffer.write(b), self.buffer.seek(ptr)\n",
    "        self.newlines = 0\n",
    "        return self.buffer.read()\n",
    " \n",
    "    def readline(self):\n",
    "        while self.newlines == 0:\n",
    "            b = os.read(self._fd, max(os.fstat(self._fd).st_size, BUFSIZE))\n",
    "            self.newlines = b.count(b\"\\n\") + (not b)\n",
    "            ptr = self.buffer.tell()\n",
    "            self.buffer.seek(0, 2), self.buffer.write(b), self.buffer.seek(ptr)\n",
    "        self.newlines -= 1\n",
    "        return self.buffer.readline()\n",
    " \n",
    "    def flush(self):\n",
    "        if self.writable:\n",
    "            os.write(self._fd, self.buffer.getvalue())\n",
    "            self.buffer.truncate(0), self.buffer.seek(0)\n",
    " \n",
    " \n",
    "class IOWrapper(IOBase):\n",
    "    def __init__(self, file):\n",
    "        self.buffer = FastIO(file)\n",
    "        self.flush = self.buffer.flush\n",
    "        self.writable = self.buffer.writable\n",
    "        self.write = lambda s: self.buffer.write(s.encode(\"ascii\"))\n",
    "        self.read = lambda: self.buffer.read().decode(\"ascii\")\n",
    "        self.readline = lambda: self.buffer.readline().decode(\"ascii\")\n",
    " \n",
    " \n",
    "sys.stdin, sys.stdout = IOWrapper(sys.stdin), IOWrapper(sys.stdout)\n",
    "input = lambda: sys.stdin.readline().rstrip(\"\\r\\n\")\n",
    " \n",
    "# endregion\n",
    " \n",
    "if __name__ == \"__main__\":\n",
    "    main()"
   ]
  }
 ],
 "metadata": {
  "kernelspec": {
   "display_name": "Python 3",
   "language": "python",
   "name": "python3"
  },
  "language_info": {
   "codemirror_mode": {
    "name": "ipython",
    "version": 3
   },
   "file_extension": ".py",
   "mimetype": "text/x-python",
   "name": "python",
   "nbconvert_exporter": "python",
   "pygments_lexer": "ipython3",
   "version": "3.7.3"
  }
 },
 "nbformat": 4,
 "nbformat_minor": 4
}
