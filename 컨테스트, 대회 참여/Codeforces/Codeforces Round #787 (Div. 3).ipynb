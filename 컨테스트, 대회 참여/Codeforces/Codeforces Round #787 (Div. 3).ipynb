{
 "cells": [
  {
   "cell_type": "code",
   "execution_count": null,
   "metadata": {},
   "outputs": [],
   "source": [
    "import sys\n",
    "# input = lambda: sys.stdin.readline().rstrip()"
   ]
  },
  {
   "cell_type": "markdown",
   "metadata": {},
   "source": [
    "A"
   ]
  },
  {
   "cell_type": "code",
   "execution_count": 2,
   "metadata": {},
   "outputs": [
    {
     "name": "stdout",
     "output_type": "stream",
     "text": [
      "1 3 2 2 5\n",
      "NO\n"
     ]
    }
   ],
   "source": [
    "import sys\n",
    "input = lambda: sys.stdin.readline().rstrip()\n",
    "\n",
    "for _ in range(int(input())):\n",
    "    a, b, c, x, y = map(int, input().split())\n",
    "\n",
    "    x -= a\n",
    "    y -= b\n",
    "\n",
    "    x = max(0, x)\n",
    "    y = max(0, y)\n",
    "\n",
    "    if x + y <= c:\n",
    "        print('YES')\n",
    "    else:\n",
    "        print('NO')"
   ]
  },
  {
   "cell_type": "markdown",
   "metadata": {},
   "source": [
    "B"
   ]
  },
  {
   "cell_type": "code",
   "execution_count": 7,
   "metadata": {},
   "outputs": [
    {
     "name": "stdout",
     "output_type": "stream",
     "text": [
      "1\n",
      "1\n",
      "3\n",
      "0\n"
     ]
    }
   ],
   "source": [
    "import sys\n",
    "# input = lambda: sys.stdin.readline().rstrip()\n",
    "\n",
    "for _ in range(int(input())):\n",
    "    n = int(input())\n",
    "    li = list(map(int, input().split()))\n",
    "\n",
    "    c = 0\n",
    "    ip = True\n",
    "    for i in range(n - 1, 0, -1):\n",
    "        while li[i - 1] >= li[i]:\n",
    "            if li[i] == 0:\n",
    "                ip = False\n",
    "                break\n",
    "\n",
    "            li[i - 1] //= 2\n",
    "            c += 1\n",
    "\n",
    "        if not ip:\n",
    "            break\n",
    "\n",
    "    if ip:\n",
    "        print(c)\n",
    "    else:\n",
    "        print(-1)"
   ]
  },
  {
   "cell_type": "markdown",
   "metadata": {},
   "source": [
    "C"
   ]
  },
  {
   "cell_type": "code",
   "execution_count": 10,
   "metadata": {},
   "outputs": [
    {
     "name": "stdout",
     "output_type": "stream",
     "text": [
      "1?1??0?0\n",
      "4\n"
     ]
    }
   ],
   "source": [
    "import sys\n",
    "input = lambda: sys.stdin.readline().rstrip()\n",
    "\n",
    "for _ in range(int(input())):\n",
    "    s = input()\n",
    "    n = len(s)\n",
    "\n",
    "    last_1_index = -1\n",
    "    first_0_index = -1\n",
    "    for i in range(n):\n",
    "        v = s[i]\n",
    "        if v == '1':\n",
    "            last_1_index = i\n",
    "        elif v == '0' and first_0_index == -1:\n",
    "            first_0_index = i\n",
    "\n",
    "    r = 0\n",
    "    if last_1_index == -1 and first_0_index == -1:\n",
    "        r = n\n",
    "    elif last_1_index == -1:\n",
    "        r = first_0_index + 1\n",
    "    elif first_0_index == -1:\n",
    "        r = n - last_1_index\n",
    "    else:\n",
    "        r = first_0_index - last_1_index + 1\n",
    "\n",
    "    print(r)"
   ]
  },
  {
   "cell_type": "code",
   "execution_count": 8,
   "metadata": {},
   "outputs": [
    {
     "data": {
      "text/plain": [
       "3"
      ]
     },
     "execution_count": 8,
     "metadata": {},
     "output_type": "execute_result"
    }
   ],
   "source": [
    "9 - 6"
   ]
  },
  {
   "cell_type": "code",
   "execution_count": null,
   "metadata": {},
   "outputs": [],
   "source": [
    "012345678\n",
    "???1?1??"
   ]
  },
  {
   "cell_type": "code",
   "execution_count": null,
   "metadata": {},
   "outputs": [],
   "source": [
    "01234567\n",
    "??????0"
   ]
  },
  {
   "cell_type": "code",
   "execution_count": null,
   "metadata": {},
   "outputs": [],
   "source": [
    "0 한번 나오면 그 다음은 다 진짜가 됨"
   ]
  },
  {
   "cell_type": "code",
   "execution_count": null,
   "metadata": {},
   "outputs": [],
   "source": [
    "??1??"
   ]
  },
  {
   "cell_type": "code",
   "execution_count": null,
   "metadata": {},
   "outputs": [],
   "source": [
    "마지막 1 포함 첫 0포함"
   ]
  },
  {
   "cell_type": "code",
   "execution_count": null,
   "metadata": {},
   "outputs": [],
   "source": [
    "0 뒤에 1 나오면 안됨"
   ]
  },
  {
   "cell_type": "markdown",
   "metadata": {},
   "source": [
    "D"
   ]
  },
  {
   "cell_type": "code",
   "execution_count": 14,
   "metadata": {},
   "outputs": [
    {
     "name": "stdout",
     "output_type": "stream",
     "text": [
      "5\n",
      "3 1 3 3 1\n"
     ]
    },
    {
     "data": {
      "text/plain": [
       "[[1, 4], [], [0, 3], [], []]"
      ]
     },
     "execution_count": 14,
     "metadata": {},
     "output_type": "execute_result"
    }
   ],
   "source": [
    "\n",
    "    \n",
    "li"
   ]
  },
  {
   "cell_type": "code",
   "execution_count": 17,
   "metadata": {},
   "outputs": [
    {
     "name": "stdout",
     "output_type": "stream",
     "text": [
      "3\n",
      "3 1 2\n",
      "1\n",
      "5\n",
      "1\n",
      "4\n",
      "\n"
     ]
    }
   ],
   "source": [
    "import sys\n",
    "input = lambda: sys.stdin.readline().rstrip()\n",
    "\n",
    "## PYRIVAL BOOTSTRAP\n",
    "# https://github.com/cheran-senthil/PyRival/blob/master/pyrival/misc/bootstrap.py\n",
    "# This decorator allows for recursion without actually doing recursion\n",
    "## @bootstrap, yield when getting and returning value in recursive functions, end of functions\n",
    "from types import GeneratorType\n",
    "\n",
    "def bootstrap(f, stack=[]):\n",
    "    def wrappedfunc(*args, **kwargs):\n",
    "        if stack:\n",
    "            return f(*args, **kwargs)\n",
    "        else:\n",
    "            to = f(*args, **kwargs)\n",
    "            while True:\n",
    "                if type(to) is GeneratorType:\n",
    "                    stack.append(to)\n",
    "                    to = next(to)\n",
    "                else:\n",
    "                    stack.pop()\n",
    "                    if not stack:\n",
    "                        break\n",
    "                    to = stack[-1].send(to)\n",
    "            return to\n",
    "    return wrappedfunc\n",
    "\n",
    "get_value = lambda x: int(x) - 1\n",
    "\n",
    "@bootstrap\n",
    "def dfs(value, path):\n",
    "    global paths\n",
    "    \n",
    "    path.append(value)\n",
    "    \n",
    "    if not li[value]:\n",
    "        paths.append(path.copy())\n",
    "        yield\n",
    "    \n",
    "    for i in range(len(li[value])):\n",
    "        v = li[value][i]\n",
    "        \n",
    "        if i == 0:\n",
    "            yield dfs(v, path)\n",
    "        else:\n",
    "            yield dfs(v, [])\n",
    "            \n",
    "    path.pop()\n",
    "    \n",
    "    yield\n",
    "      \n",
    "for _ in range(int(input())):  \n",
    "    n = int(input())\n",
    "    inputs = list(map(get_value, input().split()))\n",
    "\n",
    "    li = [[] for _ in range(n)]\n",
    "    root = -1\n",
    "    for c in range(n):\n",
    "        p = inputs[c]\n",
    "\n",
    "        if c == p:\n",
    "            root = c\n",
    "        else:\n",
    "            li[p].append(c)        \n",
    "\n",
    "    paths = []\n",
    "    dfs(root, [])\n",
    "\n",
    "    print(len(paths))\n",
    "    for path in paths:\n",
    "        print(len(path))\n",
    "        print(*[v + 1 for v in path])\n",
    "    print()"
   ]
  },
  {
   "cell_type": "markdown",
   "metadata": {},
   "source": [
    "E"
   ]
  },
  {
   "cell_type": "code",
   "execution_count": 34,
   "metadata": {},
   "outputs": [
    {
     "name": "stdout",
     "output_type": "stream",
     "text": [
      "1\n",
      "3 2\n",
      "cba\n",
      "aaa\n"
     ]
    }
   ],
   "source": [
    "import sys\n",
    "# input = lambda: sys.stdin.readline().rstrip()\n",
    "\n",
    "for _ in range(int(input())):\n",
    "    n, k = map(int, input().split())\n",
    "    li = list(input())\n",
    "\n",
    "    st = set()\n",
    "    seq = []\n",
    "    for v in li:\n",
    "        if v in st:\n",
    "            continue\n",
    "        st.add(v)\n",
    "        seq.append(v)\n",
    "\n",
    "    d = dict()\n",
    "    for v in seq:\n",
    "        ord_v = ord(v)\n",
    "\n",
    "        while chr(ord_v) in d:\n",
    "            ord_v = ord(d[chr(ord_v)])\n",
    "\n",
    "        while k and ord_v != 97:\n",
    "            d[chr(ord_v)] = chr(ord_v - 1)\n",
    "            k -= 1\n",
    "            ord_v -= 1\n",
    "\n",
    "            while chr(ord_v) in d:\n",
    "                ord_v = ord(d[chr(ord_v)])\n",
    "\n",
    "    nli = []\n",
    "    for v in li:\n",
    "        while v in d:\n",
    "            v = d[v]\n",
    "        nli.append(v)\n",
    "\n",
    "    r = ''.join(nli)\n",
    "\n",
    "    print(r)"
   ]
  },
  {
   "cell_type": "markdown",
   "metadata": {},
   "source": [
    "F"
   ]
  },
  {
   "cell_type": "code",
   "execution_count": 44,
   "metadata": {},
   "outputs": [
    {
     "name": "stdout",
     "output_type": "stream",
     "text": [
      "6 2\n",
      "3 2\n",
      "5 3\n",
      "1 3\n",
      "3 4\n",
      "3 5\n",
      "5 6\n",
      "5 2\n",
      "2\n"
     ]
    }
   ],
   "source": [
    "import sys\n",
    "# input = lambda: sys.stdin.readline().rstrip()\n",
    "\n",
    "## PYRIVAL BOOTSTRAP\n",
    "# https://github.com/cheran-senthil/PyRival/blob/master/pyrival/misc/bootstrap.py\n",
    "# This decorator allows for recursion without actually doing recursion\n",
    "## @bootstrap, yield when getting and returning value in recursive functions, end of functions\n",
    "from types import GeneratorType\n",
    "\n",
    "def bootstrap(f, stack=[]):\n",
    "    def wrappedfunc(*args, **kwargs):\n",
    "        if stack:\n",
    "            return f(*args, **kwargs)\n",
    "        else:\n",
    "            to = f(*args, **kwargs)\n",
    "            while True:\n",
    "                if type(to) is GeneratorType:\n",
    "                    stack.append(to)\n",
    "                    to = next(to)\n",
    "                else:\n",
    "                    stack.pop()\n",
    "                    if not stack:\n",
    "                        break\n",
    "                    to = stack[-1].send(to)\n",
    "            return to\n",
    "    return wrappedfunc\n",
    "\n",
    "get_value = lambda x: int(x) - 1\n",
    "\n",
    "@bootstrap\n",
    "def dfs(value):\n",
    "    vt[value] = True\n",
    "    \n",
    "    y_met = False\n",
    "    a_met = False\n",
    "    total_spent = 0\n",
    "    for v in li[value]:\n",
    "        if vt[v]:\n",
    "            continue\n",
    "        spent, ym, am = yield dfs(v)\n",
    "        \n",
    "        if am:\n",
    "            a_met = True\n",
    "        if ym:\n",
    "            y_met = True\n",
    "        \n",
    "        total_spent += spent\n",
    "        \n",
    "    if value in needed:\n",
    "        a_met = True\n",
    "    if value == y:\n",
    "        a_met = True\n",
    "        y_met = True\n",
    "        \n",
    "    if y_met:\n",
    "        yield (total_spent + 1, y_met, a_met)\n",
    "    elif a_met:\n",
    "        yield (total_spent + 2, y_met, a_met)\n",
    "    else:\n",
    "        yield (0, y_met, a_met)\n",
    "    \n",
    "for _ in range(int(input())):\n",
    "    input()\n",
    "    n, k = map(int, input().split())\n",
    "    x, y = map(get_value, input().split())\n",
    "    needed = set(map(get_value, input().split()))\n",
    "    li = [[] for _ in range(n)]\n",
    "    for _ in range(n - 1):\n",
    "        a, b = map(get_value, input().split())\n",
    "        li[a].append(b)\n",
    "        li[b].append(a)\n",
    "\n",
    "    vt = [False] * n\n",
    "    ts, _, _ = dfs(x)\n",
    "\n",
    "    print(ts - 1)"
   ]
  },
  {
   "cell_type": "markdown",
   "metadata": {},
   "source": [
    "G"
   ]
  },
  {
   "cell_type": "code",
   "execution_count": null,
   "metadata": {},
   "outputs": [],
   "source": []
  }
 ],
 "metadata": {
  "kernelspec": {
   "display_name": "Python 3",
   "language": "python",
   "name": "python3"
  },
  "language_info": {
   "codemirror_mode": {
    "name": "ipython",
    "version": 3
   },
   "file_extension": ".py",
   "mimetype": "text/x-python",
   "name": "python",
   "nbconvert_exporter": "python",
   "pygments_lexer": "ipython3",
   "version": "3.7.4"
  }
 },
 "nbformat": 4,
 "nbformat_minor": 4
}
