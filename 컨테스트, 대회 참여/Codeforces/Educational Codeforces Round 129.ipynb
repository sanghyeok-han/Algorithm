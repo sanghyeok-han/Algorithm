{
 "cells": [
  {
   "cell_type": "markdown",
   "metadata": {},
   "source": [
    "A"
   ]
  },
  {
   "cell_type": "code",
   "execution_count": null,
   "metadata": {},
   "outputs": [],
   "source": [
    "import sys\n",
    "input = lambda: sys.stdin.readline().rstrip()\n",
    "\n",
    "for _ in range(int(input())):\n",
    "    n = int(input())\n",
    "    a_max = max(map(int, input().split()))\n",
    "    m = int(input())\n",
    "    b_max = max(map(int, input().split()))\n",
    "\n",
    "    if a_max > b_max:\n",
    "        print('Alice')\n",
    "        print('Alice')\n",
    "    elif b_max > a_max:\n",
    "        print('Bob')\n",
    "        print('Bob')\n",
    "    else:\n",
    "        print('Alice')\n",
    "        print('Bob')"
   ]
  },
  {
   "cell_type": "markdown",
   "metadata": {},
   "source": [
    "B"
   ]
  },
  {
   "cell_type": "code",
   "execution_count": null,
   "metadata": {},
   "outputs": [],
   "source": [
    "i, n - i는 서로 상쇄됨, 시행 순서는 상관이 없음"
   ]
  },
  {
   "cell_type": "code",
   "execution_count": null,
   "metadata": {},
   "outputs": [],
   "source": [
    "import sys\n",
    "input = lambda: sys.stdin.readline().rstrip()\n",
    "\n",
    "for _ in range(int(input())):\n",
    "    n = int(input())\n",
    "    a = list(map(int, input().split()))\n",
    "    m = int(input())\n",
    "    b = list(map(int, input().split()))\n",
    "\n",
    "    cur = sum(b)\n",
    "    cur %= n\n",
    "\n",
    "    print(a[cur])"
   ]
  },
  {
   "cell_type": "markdown",
   "metadata": {},
   "source": [
    "C"
   ]
  },
  {
   "cell_type": "code",
   "execution_count": null,
   "metadata": {},
   "outputs": [],
   "source": []
  },
  {
   "cell_type": "code",
   "execution_count": 54,
   "metadata": {},
   "outputs": [
    {
     "name": "stdout",
     "output_type": "stream",
     "text": [
      "2\n",
      "1 2\n",
      "1 2\n"
     ]
    }
   ],
   "source": []
  },
  {
   "cell_type": "code",
   "execution_count": 59,
   "metadata": {},
   "outputs": [
    {
     "name": "stdout",
     "output_type": "stream",
     "text": [
      "1\n",
      "4\n",
      "2 3 1 2\n",
      "2 3 2 3\n",
      "3\n",
      "3 1\n",
      "1 2\n",
      "4 2\n"
     ]
    }
   ],
   "source": [
    "import sys\n",
    "# input = lambda: sys.stdin.readline().rstrip()\n",
    "\n",
    "for _ in range(int(input())):\n",
    "    n = int(input())\n",
    "    a = list(map(int, input().split()))\n",
    "    b = list(map(int, input().split()))\n",
    "\n",
    "    li = [[a[i], b[i]] for i in range(n)]\n",
    "\n",
    "    r = []\n",
    "    for i in range(n):\n",
    "        for j in range(i + 1, n):\n",
    "            if li[i][0] > li[j][0] or li[i][1] > li[j][1]:\n",
    "                li[i], li[j] = li[j], li[i]\n",
    "                r.append((i + 1, j + 1))  \n",
    "\n",
    "    fa = -1\n",
    "    fb = -1\n",
    "    ip = True\n",
    "    for i in range(n):\n",
    "        if fa > li[i][0]:\n",
    "            ip = False\n",
    "            break\n",
    "\n",
    "        if fb > li[i][1]:\n",
    "            ip = False\n",
    "            break\n",
    "\n",
    "        fa = li[i][0]\n",
    "        fb = li[i][1]\n",
    "\n",
    "    if ip:\n",
    "        print(len(r))\n",
    "        for v in r:\n",
    "            print(*v)\n",
    "    else:\n",
    "        print(-1)"
   ]
  },
  {
   "cell_type": "markdown",
   "metadata": {},
   "source": [
    "D"
   ]
  },
  {
   "cell_type": "code",
   "execution_count": 146,
   "metadata": {},
   "outputs": [
    {
     "name": "stdout",
     "output_type": "stream",
     "text": [
      "13 42\n",
      "168\n",
      "1344\n",
      "5376\n",
      "37632\n",
      "263424\n",
      "1580544\n",
      "12644352\n",
      "75866112\n",
      "606928896\n",
      "5462360064\n",
      "32774160384\n",
      "262193283072\n",
      "2359739547648\n",
      "13\n"
     ]
    }
   ],
   "source": [
    "n, x = map(int, input().split())\n",
    "\n",
    "c = 0\n",
    "cur = x\n",
    "ip = True\n",
    "while True:\n",
    "    c += 1\n",
    "    scur = str(cur)\n",
    "    \n",
    "    w = int(max(scur))\n",
    "    \n",
    "    if w < 2:\n",
    "        ip = False\n",
    "        break\n",
    "    \n",
    "    cur *= w\n",
    "    print(cur)\n",
    "    \n",
    "    if len(str(cur)) == n:\n",
    "        break\n",
    "        \n",
    "if ip:\n",
    "    print(c)\n",
    "else:\n",
    "    print(-1)"
   ]
  },
  {
   "cell_type": "code",
   "execution_count": 148,
   "metadata": {},
   "outputs": [
    {
     "data": {
      "text/plain": [
       "8064"
      ]
     },
     "execution_count": 148,
     "metadata": {},
     "output_type": "execute_result"
    }
   ],
   "source": [
    "168 * 6 * 8"
   ]
  },
  {
   "cell_type": "code",
   "execution_count": null,
   "metadata": {},
   "outputs": [],
   "source": [
    "cur = x\n",
    "\n",
    "scur(str(cur))"
   ]
  },
  {
   "cell_type": "code",
   "execution_count": 152,
   "metadata": {},
   "outputs": [
    {
     "name": "stdout",
     "output_type": "stream",
     "text": [
      "2 1\n",
      "-1\n"
     ]
    }
   ],
   "source": [
    "from collections import deque\n",
    "\n",
    "n, x = map(int, input().split())\n",
    "\n",
    "queue = deque()\n",
    "queue.append((x, 0))\n",
    "st = {x}\n",
    "while queue:\n",
    "    cur, c = queue.popleft()\n",
    "    \n",
    "    if len(str(cur)) == n:\n",
    "        print(c)\n",
    "        break\n",
    "    \n",
    "    cands = set(map(int, str(cur)))\n",
    "    for cand in cands:\n",
    "        if cand <= 1:\n",
    "            continue\n",
    "        ncur = cur * cand\n",
    "        \n",
    "        if ncur in st:\n",
    "            continue\n",
    "        st.add(ncur)\n",
    "        \n",
    "        nc = c + 1\n",
    "        \n",
    "        queue.append((ncur, nc))\n",
    "else:\n",
    "    print(-1)"
   ]
  },
  {
   "cell_type": "code",
   "execution_count": 157,
   "metadata": {},
   "outputs": [
    {
     "name": "stdout",
     "output_type": "stream",
     "text": [
      "24 17\n",
      "1744364160\n"
     ]
    }
   ],
   "source": [
    "def nCr(n, r):\n",
    "    if n - r < r:\n",
    "        r = n - r\n",
    "        \n",
    "    num = 1\n",
    "    for i in range(n, n - r, -1):\n",
    "        num *= i\n",
    "    \n",
    "    denom = 1\n",
    "    for i in range(2, r + 1):\n",
    "        denom *= i\n",
    "        \n",
    "    return num\n",
    "\n",
    "\n",
    "n, k = map(int, input().split())\n",
    "r = nCr(n, k)\n",
    "\n",
    "print(r)"
   ]
  },
  {
   "cell_type": "code",
   "execution_count": null,
   "metadata": {},
   "outputs": [],
   "source": [
    "2 * 4 * 2 * 3 * 4\n",
    "\n",
    "2 * 2 * 3 * 4 * 4\n",
    "4 * 4 * 3 * 2 * 2"
   ]
  },
  {
   "cell_type": "code",
   "execution_count": null,
   "metadata": {},
   "outputs": [],
   "source": []
  }
 ],
 "metadata": {
  "kernelspec": {
   "display_name": "Python 3",
   "language": "python",
   "name": "python3"
  },
  "language_info": {
   "codemirror_mode": {
    "name": "ipython",
    "version": 3
   },
   "file_extension": ".py",
   "mimetype": "text/x-python",
   "name": "python",
   "nbconvert_exporter": "python",
   "pygments_lexer": "ipython3",
   "version": "3.7.4"
  }
 },
 "nbformat": 4,
 "nbformat_minor": 2
}
