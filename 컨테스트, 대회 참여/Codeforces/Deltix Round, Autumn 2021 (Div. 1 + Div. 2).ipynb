{
 "cells": [
  {
   "cell_type": "code",
   "execution_count": 3,
   "metadata": {},
   "outputs": [],
   "source": [
    "ip = lambda: input()\n",
    "iip = lambda: int(input())\n",
    "miip = lambda: map(int, input().split())\n",
    "liip = lambda: list(map(int, input().split()))\n",
    "lip = lambda: input().split()"
   ]
  },
  {
   "cell_type": "markdown",
   "metadata": {},
   "source": [
    "### A"
   ]
  },
  {
   "cell_type": "code",
   "execution_count": 19,
   "metadata": {},
   "outputs": [
    {
     "name": "stdout",
     "output_type": "stream",
     "text": [
      "15\n",
      "8 8 8 8 8 8 8 8 8 8 8 8 8 8 8\n"
     ]
    }
   ],
   "source": [
    "n = iip()\n",
    "li = sorted(miip())"
   ]
  },
  {
   "cell_type": "code",
   "execution_count": 36,
   "metadata": {},
   "outputs": [
    {
     "name": "stdout",
     "output_type": "stream",
     "text": [
      "3\n",
      "2 3 4\n",
      "26\n"
     ]
    }
   ],
   "source": [
    "n = iip()\n",
    "li = liip()\n",
    "\n",
    "count = 0\n",
    "for i in range(n):\n",
    "    while li[i] % 2 == 0:\n",
    "        li[i] //= 2\n",
    "        count += 1\n",
    "\n",
    "li.sort()\n",
    "for _ in range(count):\n",
    "    li[-1] *= 2\n",
    "    \n",
    "print(sum(li))"
   ]
  },
  {
   "cell_type": "code",
   "execution_count": null,
   "metadata": {},
   "outputs": [],
   "source": [
    "for _ in range(iip()):\n",
    "    n = iip()\n",
    "    li = liip()\n",
    "\n",
    "    count = 0\n",
    "    for i in range(n):\n",
    "        while li[i] % 2 == 0:\n",
    "            li[i] //= 2\n",
    "            count += 1\n",
    "\n",
    "    li.sort()\n",
    "    for _ in range(count):\n",
    "        li[-1] *= 2\n",
    "\n",
    "    print(sum(li))    "
   ]
  },
  {
   "cell_type": "markdown",
   "metadata": {},
   "source": [
    "### B"
   ]
  },
  {
   "cell_type": "code",
   "execution_count": 39,
   "metadata": {},
   "outputs": [
    {
     "name": "stdout",
     "output_type": "stream",
     "text": [
      "9 10\n",
      "abcabcabc\n"
     ]
    }
   ],
   "source": [
    "n, q = miip()\n",
    "s = ip()"
   ]
  },
  {
   "cell_type": "code",
   "execution_count": 44,
   "metadata": {},
   "outputs": [
    {
     "name": "stdout",
     "output_type": "stream",
     "text": [
      "9 10\n",
      "abcabcabc\n",
      "1 a\n",
      "3\n",
      "1 b\n",
      "2\n",
      "2 c\n",
      "2\n",
      "3 a\n",
      "2\n",
      "4 b\n",
      "1\n",
      "5 c\n",
      "2\n",
      "8 a\n",
      "1\n",
      "9 b\n",
      "1\n",
      "1 c\n",
      "1\n",
      "4 a\n",
      "0\n"
     ]
    }
   ],
   "source": [
    "n, q = miip()\n",
    "s = ip()\n",
    "\n",
    "count = s.count('abc')\n",
    "li = list(s)\n",
    "for _ in range(q):\n",
    "    i, c = lip()\n",
    "    i = int(i)\n",
    "    i -= 1\n",
    "    \n",
    "    if li[i] == c:\n",
    "        print(count)\n",
    "    else:\n",
    "        if li[i] == 'a':\n",
    "            if i + 2 < n:\n",
    "                if li[i] == 'a' and li[i + 1] == 'b' and li[i + 2] == 'c':\n",
    "                    count -= 1\n",
    "        elif li[i] == 'b':\n",
    "            if i - 1 >= 0 and i + 1 < n:\n",
    "                if li[i - 1] == 'a' and li[i] == 'b' and li[i + 1] == 'c':\n",
    "                    count -= 1\n",
    "        else:\n",
    "            if i - 2 >= 0:\n",
    "                if li[i - 2] == 'a' and li[i - 1] == 'b' and li[i] == 'c':\n",
    "                    count -= 1\n",
    "                    \n",
    "        li[i] = c\n",
    "        \n",
    "        if li[i] == 'a':\n",
    "            if i + 2 < n:\n",
    "                if li[i] == 'a' and li[i + 1] == 'b' and li[i + 2] == 'c':\n",
    "                    count += 1\n",
    "        elif li[i] == 'b':\n",
    "            if i - 1 >= 0 and i + 1 < n:\n",
    "                if li[i - 1] == 'a' and li[i] == 'b' and li[i + 1] == 'c':\n",
    "                    count += 1\n",
    "        else:\n",
    "            if i - 2 >= 0:\n",
    "                if li[i - 2] == 'a' and li[i - 1] == 'b' and li[i] == 'c':\n",
    "                    count += 1\n",
    "                    \n",
    "        print(count)"
   ]
  },
  {
   "cell_type": "markdown",
   "metadata": {},
   "source": [
    "### C"
   ]
  },
  {
   "cell_type": "code",
   "execution_count": 72,
   "metadata": {},
   "outputs": [
    {
     "name": "stdout",
     "output_type": "stream",
     "text": [
      "2 2\n",
      "1 2\n"
     ]
    }
   ],
   "source": [
    "n, e = miip()\n",
    "li = liip()"
   ]
  },
  {
   "cell_type": "code",
   "execution_count": 46,
   "metadata": {},
   "outputs": [],
   "source": [
    "max_num = int(1e6)\n",
    "\n",
    "ip = [True] * (max_num + 1)\n",
    "ip[0] = ip[1] = False\n",
    "for mod in range(2, int(max_num ** 0.5) + 1):\n",
    "    if ip[mod]:\n",
    "        for v in range(mod * mod, max_num + 1, mod):\n",
    "            ip[v] = False"
   ]
  },
  {
   "cell_type": "code",
   "execution_count": 73,
   "metadata": {},
   "outputs": [
    {
     "name": "stdout",
     "output_type": "stream",
     "text": [
      "0\n"
     ]
    }
   ],
   "source": [
    "vt = [False] * n\n",
    "total = 0\n",
    "for start in range(n):\n",
    "    if vt[start]:\n",
    "        continue\n",
    "    temp = []\n",
    "    for i in range(start, n, e):\n",
    "        temp.append(li[i])\n",
    "        vt[i] = True\n",
    "\n",
    "    c1 = 0\n",
    "    ntemp = []\n",
    "    to_check = []\n",
    "    cur_index = -1\n",
    "    for v in temp:\n",
    "        if v == 1:\n",
    "            c1 += 1\n",
    "        elif ip[v]:\n",
    "            if c1:\n",
    "                ntemp.append(c1)\n",
    "                cur_index += 1\n",
    "                c1 = 0\n",
    "            ntemp.append(0)\n",
    "            cur_index += 1\n",
    "            to_check.append(cur_index)\n",
    "        else:\n",
    "            if c1:\n",
    "                ntemp.append(c1)\n",
    "                cur_index += 1\n",
    "                c1 = 0\n",
    "            ntemp.append(0)\n",
    "            cur_index += 1\n",
    "\n",
    "    if c1:\n",
    "        ntemp.append(c1)  \n",
    "\n",
    "    for tc in to_check:\n",
    "        t1 = t2 = 0\n",
    "        if tc - 1 >= 0:\n",
    "            t1 = ntemp[tc - 1]\n",
    "        if tc + 1 < len(ntemp):\n",
    "            t2 = ntemp[tc + 1]\n",
    "\n",
    "        total += t1 + t2 + t1 * t2\n",
    "    \n",
    "print(total)"
   ]
  },
  {
   "cell_type": "code",
   "execution_count": 74,
   "metadata": {},
   "outputs": [
    {
     "name": "stdout",
     "output_type": "stream",
     "text": [
      "1\n",
      "7 3\n",
      "10 2 1 3 1 19 3\n",
      "2\n"
     ]
    }
   ],
   "source": [
    "max_num = int(1e6)\n",
    "\n",
    "ip = [True] * (max_num + 1)\n",
    "ip[0] = ip[1] = False\n",
    "for mod in range(2, int(max_num ** 0.5) + 1):\n",
    "    if ip[mod]:\n",
    "        for v in range(mod * mod, max_num + 1, mod):\n",
    "            ip[v] = False\n",
    "\n",
    "for _ in range(iip()):\n",
    "    n, e = miip()\n",
    "    li = liip()\n",
    "    \n",
    "    vt = [False] * n\n",
    "    total = 0\n",
    "    for start in range(n):\n",
    "        if vt[start]:\n",
    "            continue\n",
    "        temp = []\n",
    "        for i in range(start, n, e):\n",
    "            temp.append(li[i])\n",
    "            vt[i] = True\n",
    "\n",
    "        c1 = 0\n",
    "        ntemp = []\n",
    "        to_check = []\n",
    "        cur_index = -1\n",
    "        for v in temp:\n",
    "            if v == 1:\n",
    "                c1 += 1\n",
    "            elif ip[v]:\n",
    "                if c1:\n",
    "                    ntemp.append(c1)\n",
    "                    cur_index += 1\n",
    "                    c1 = 0\n",
    "                ntemp.append(0)\n",
    "                cur_index += 1\n",
    "                to_check.append(cur_index)\n",
    "            else:\n",
    "                if c1:\n",
    "                    ntemp.append(c1)\n",
    "                    cur_index += 1\n",
    "                    c1 = 0\n",
    "                ntemp.append(0)\n",
    "                cur_index += 1\n",
    "\n",
    "        if c1:\n",
    "            ntemp.append(c1)  \n",
    "\n",
    "        for tc in to_check:\n",
    "            t1 = t2 = 0\n",
    "            if tc - 1 >= 0:\n",
    "                t1 = ntemp[tc - 1]\n",
    "            if tc + 1 < len(ntemp):\n",
    "                t2 = ntemp[tc + 1]\n",
    "\n",
    "            total += t1 + t2 + t1 * t2\n",
    "\n",
    "    print(total)    "
   ]
  },
  {
   "cell_type": "markdown",
   "metadata": {},
   "source": [
    "### D"
   ]
  },
  {
   "cell_type": "code",
   "execution_count": 89,
   "metadata": {},
   "outputs": [
    {
     "name": "stdout",
     "output_type": "stream",
     "text": [
      "7 6\n",
      "1 2\n",
      "1\n",
      "3 4\n",
      "1\n",
      "2 4\n",
      "3\n",
      "7 6\n",
      "3\n",
      "6 5\n",
      "3\n",
      "1 7\n",
      "6\n"
     ]
    }
   ],
   "source": [
    "def find(v):\n",
    "    if v == parent[v]:\n",
    "        return v\n",
    "    parent[v] = find(parent[v])\n",
    "    return parent[v]\n",
    "\n",
    "def union(ra, rb):\n",
    "    if acqs[ra] >= acqs[rb]:\n",
    "        parent[rb] = ra\n",
    "        acqs[ra] += acqs[rb] + 1\n",
    "    else:\n",
    "        parent[ra] = rb\n",
    "        acqs[rb] += acqs[ra] + 1\n",
    "\n",
    "n, d = miip()\n",
    "    \n",
    "parent = list(range(n))\n",
    "acqs = [0] * n\n",
    "\n",
    "remained = 1\n",
    "for _ in range(d):\n",
    "    a, b = miip()\n",
    "    a -= 1\n",
    "    b -= 1\n",
    "    \n",
    "    ra = find(a)\n",
    "    rb = find(b)\n",
    "    \n",
    "    if ra != rb:\n",
    "        union(ra, rb)\n",
    "    else:\n",
    "        remained += 1\n",
    "        \n",
    "    temp = []\n",
    "    for v in range(n):\n",
    "        if v == parent[v]:\n",
    "            temp.append((v, acqs[v]))\n",
    "\n",
    "    temp.sort(key=lambda x: -x[1])\n",
    "\n",
    "    cur = remained - 1\n",
    "    for i in range(remained):\n",
    "        cur += temp[i][1]\n",
    "\n",
    "    print(cur)"
   ]
  },
  {
   "cell_type": "markdown",
   "metadata": {},
   "source": [
    "### E"
   ]
  },
  {
   "cell_type": "code",
   "execution_count": null,
   "metadata": {},
   "outputs": [],
   "source": [
    "import time\n",
    "\n",
    "while True:\n",
    "    time.sleep(2000)"
   ]
  },
  {
   "cell_type": "code",
   "execution_count": null,
   "metadata": {},
   "outputs": [],
   "source": []
  },
  {
   "cell_type": "markdown",
   "metadata": {},
   "source": [
    "### 제출본"
   ]
  },
  {
   "cell_type": "code",
   "execution_count": null,
   "metadata": {},
   "outputs": [],
   "source": [
    "import os\n",
    "import sys\n",
    "from io import BytesIO, IOBase\n",
    " \n",
    "\n",
    "def main():\n",
    "    def find(v):\n",
    "        if v == parent[v]:\n",
    "            return v\n",
    "        parent[v] = find(parent[v])\n",
    "        return parent[v]\n",
    "\n",
    "    def union(ra, rb):\n",
    "        if acqs[ra] >= acqs[rb]:\n",
    "            parent[rb] = ra\n",
    "            acqs[ra] += acqs[rb] + 1\n",
    "        else:\n",
    "            parent[ra] = rb\n",
    "            acqs[rb] += acqs[ra] + 1\n",
    "\n",
    "    n, d = miip()\n",
    "\n",
    "    parent = list(range(n))\n",
    "    acqs = [0] * n\n",
    "\n",
    "    remained = 1\n",
    "    for _ in range(d):\n",
    "        a, b = miip()\n",
    "        a -= 1\n",
    "        b -= 1\n",
    "\n",
    "        ra = find(a)\n",
    "        rb = find(b)\n",
    "\n",
    "        if ra != rb:\n",
    "            union(ra, rb)\n",
    "        else:\n",
    "            remained += 1\n",
    "\n",
    "        temp = []\n",
    "        for v in range(n):\n",
    "            if v == parent[v]:\n",
    "                temp.append((v, acqs[v]))\n",
    "\n",
    "        temp.sort(key=lambda x: -x[1])\n",
    "\n",
    "        cur = remained - 1\n",
    "        for i in range(remained):\n",
    "            cur += temp[i][1]\n",
    "\n",
    "        print(cur)\n",
    "\n",
    "\n",
    "    \n",
    "    \n",
    "    \n",
    "    \n",
    "    \n",
    "    \n",
    "    \n",
    "\n",
    "# region fastio\n",
    " \n",
    "BUFSIZE = 8192\n",
    " \n",
    "\n",
    "class FastIO(IOBase):\n",
    "    newlines = 0\n",
    " \n",
    "    def __init__(self, file):\n",
    "        self._fd = file.fileno()\n",
    "        self.buffer = BytesIO()\n",
    "        self.writable = \"x\" in file.mode or \"r\" not in file.mode\n",
    "        self.write = self.buffer.write if self.writable else None\n",
    " \n",
    "    def read(self):\n",
    "        while True:\n",
    "            b = os.read(self._fd, max(os.fstat(self._fd).st_size, BUFSIZE))\n",
    "            if not b:\n",
    "                break\n",
    "            ptr = self.buffer.tell()\n",
    "            self.buffer.seek(0, 2), self.buffer.write(b), self.buffer.seek(ptr)\n",
    "        self.newlines = 0\n",
    "        return self.buffer.read()\n",
    " \n",
    "    def readline(self):\n",
    "        while self.newlines == 0:\n",
    "            b = os.read(self._fd, max(os.fstat(self._fd).st_size, BUFSIZE))\n",
    "            self.newlines = b.count(b\"\\n\") + (not b)\n",
    "            ptr = self.buffer.tell()\n",
    "            self.buffer.seek(0, 2), self.buffer.write(b), self.buffer.seek(ptr)\n",
    "        self.newlines -= 1\n",
    "        return self.buffer.readline()\n",
    " \n",
    "    def flush(self):\n",
    "        if self.writable:\n",
    "            os.write(self._fd, self.buffer.getvalue())\n",
    "            self.buffer.truncate(0), self.buffer.seek(0)\n",
    " \n",
    " \n",
    "class IOWrapper(IOBase):\n",
    "    def __init__(self, file):\n",
    "        self.buffer = FastIO(file)\n",
    "        self.flush = self.buffer.flush\n",
    "        self.writable = self.buffer.writable\n",
    "        self.write = lambda s: self.buffer.write(s.encode(\"ascii\"))\n",
    "        self.read = lambda: self.buffer.read().decode(\"ascii\")\n",
    "        self.readline = lambda: self.buffer.readline().decode(\"ascii\")\n",
    " \n",
    " \n",
    "sys.stdin, sys.stdout = IOWrapper(sys.stdin), IOWrapper(sys.stdout)\n",
    "input = lambda: sys.stdin.readline().rstrip(\"\\r\\n\")\n",
    "\n",
    "ip = lambda: input()\n",
    "iip = lambda: int(input())\n",
    "miip = lambda: map(int, input().split())\n",
    "liip = lambda: list(map(int, input().split()))\n",
    "lip = lambda: input().split()\n",
    " \n",
    "# endregion\n",
    " \n",
    "if __name__ == \"__main__\":\n",
    "    main()"
   ]
  }
 ],
 "metadata": {
  "kernelspec": {
   "display_name": "Python 3",
   "language": "python",
   "name": "python3"
  },
  "language_info": {
   "codemirror_mode": {
    "name": "ipython",
    "version": 3
   },
   "file_extension": ".py",
   "mimetype": "text/x-python",
   "name": "python",
   "nbconvert_exporter": "python",
   "pygments_lexer": "ipython3",
   "version": "3.7.3"
  }
 },
 "nbformat": 4,
 "nbformat_minor": 4
}
