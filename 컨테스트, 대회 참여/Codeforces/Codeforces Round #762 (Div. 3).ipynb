{
 "cells": [
  {
   "cell_type": "markdown",
   "metadata": {},
   "source": [
    "A"
   ]
  },
  {
   "cell_type": "code",
   "execution_count": 3,
   "metadata": {},
   "outputs": [
    {
     "name": "stdout",
     "output_type": "stream",
     "text": [
      "a\n",
      "NO\n"
     ]
    }
   ],
   "source": [
    "for _ in range(int(input())):\n",
    "    s = input()\n",
    "    n = len(s)\n",
    "\n",
    "    if n % 2 == 1:\n",
    "        print('NO')\n",
    "    else:\n",
    "        if s[:n // 2] == s[n // 2:]:\n",
    "            print('Yes')\n",
    "        else:\n",
    "            print('No')"
   ]
  },
  {
   "cell_type": "markdown",
   "metadata": {},
   "source": [
    "B"
   ]
  },
  {
   "cell_type": "code",
   "execution_count": 11,
   "metadata": {},
   "outputs": [
    {
     "name": "stdout",
     "output_type": "stream",
     "text": [
      "1\n"
     ]
    }
   ],
   "source": [
    "n = 1\n",
    "\n",
    "c2 = 0\n",
    "cur = 1\n",
    "while True:\n",
    "    if cur ** 2 <= n:\n",
    "        c2 += 1\n",
    "    else:\n",
    "        break\n",
    "    cur += 1\n",
    "\n",
    "c3 = 0\n",
    "cur = 1\n",
    "while True:\n",
    "    if cur ** 3 <= n:\n",
    "        c3 += 1\n",
    "    else:\n",
    "        break\n",
    "    cur += 1\n",
    "\n",
    "c6 = 0\n",
    "cur = 1\n",
    "while True:\n",
    "    if cur ** 6 <= n:\n",
    "        c6 += 1\n",
    "    else:\n",
    "        break\n",
    "    cur += 1\n",
    "    \n",
    "print(c2 + c3 - c6)"
   ]
  },
  {
   "cell_type": "code",
   "execution_count": null,
   "metadata": {},
   "outputs": [],
   "source": [
    "for _ in range(int(input())):\n",
    "    n = int(input())\n",
    "    \n",
    "    c2 = 0\n",
    "    cur = 1\n",
    "    while True:\n",
    "        if cur ** 2 <= n:\n",
    "            c2 += 1\n",
    "        else:\n",
    "            break\n",
    "        cur += 1\n",
    "\n",
    "    c3 = 0\n",
    "    cur = 1\n",
    "    while True:\n",
    "        if cur ** 3 <= n:\n",
    "            c3 += 1\n",
    "        else:\n",
    "            break\n",
    "        cur += 1\n",
    "\n",
    "    c6 = 0\n",
    "    cur = 1\n",
    "    while True:\n",
    "        if cur ** 6 <= n:\n",
    "            c6 += 1\n",
    "        else:\n",
    "            break\n",
    "        cur += 1\n",
    "\n",
    "    print(c2 + c3 - c6)    "
   ]
  },
  {
   "cell_type": "markdown",
   "metadata": {},
   "source": [
    "C"
   ]
  },
  {
   "cell_type": "code",
   "execution_count": null,
   "metadata": {},
   "outputs": [],
   "source": [
    "17236 1106911"
   ]
  },
  {
   "cell_type": "code",
   "execution_count": 60,
   "metadata": {},
   "outputs": [
    {
     "data": {
      "text/plain": [
       "[-1]"
      ]
     },
     "execution_count": 60,
     "metadata": {},
     "output_type": "execute_result"
    }
   ],
   "source": [
    "a, s = [1, 0, 8], [1, 1, 2]\n",
    "solve()"
   ]
  },
  {
   "cell_type": "code",
   "execution_count": 59,
   "metadata": {},
   "outputs": [
    {
     "name": "stdout",
     "output_type": "stream",
     "text": [
      "-1\n"
     ]
    }
   ],
   "source": [
    "def solve():\n",
    "    b = []\n",
    "    while s:\n",
    "        if not a:\n",
    "            a.append(0)\n",
    "\n",
    "        if a[-1] <= s[-1]:\n",
    "            b.append(s[-1] - a[-1])\n",
    "            s.pop()\n",
    "            a.pop()\n",
    "        else:\n",
    "            b.append(s[-1] - a[-1] + 10)\n",
    "            a.pop()\n",
    "            s.pop()\n",
    "\n",
    "            if not s or s[-1] != 1:\n",
    "                return [-1]\n",
    "            s.pop()\n",
    "            \n",
    "    if a:\n",
    "        return [-1]\n",
    "            \n",
    "    b.reverse()\n",
    "    return b\n",
    "\n",
    "result = solve()\n",
    "if result[0] == -1:\n",
    "    print(-1)\n",
    "else:\n",
    "    print(int(''.join(map(str, result))))"
   ]
  },
  {
   "cell_type": "code",
   "execution_count": 61,
   "metadata": {},
   "outputs": [
    {
     "name": "stdout",
     "output_type": "stream",
     "text": [
      "1\n",
      "108 112\n",
      "-1\n"
     ]
    }
   ],
   "source": [
    "def solve():\n",
    "    b = []\n",
    "    while s:\n",
    "        if not a:\n",
    "            a.append(0)\n",
    "\n",
    "        if a[-1] <= s[-1]:\n",
    "            b.append(s[-1] - a[-1])\n",
    "            s.pop()\n",
    "            a.pop()\n",
    "        else:\n",
    "            b.append(s[-1] - a[-1] + 10)\n",
    "            a.pop()\n",
    "            s.pop()\n",
    "\n",
    "            if not s or s[-1] != 1:\n",
    "                return [-1]\n",
    "            s.pop()\n",
    "            \n",
    "    if a:\n",
    "        return [-1]\n",
    "            \n",
    "    b.reverse()\n",
    "    return b\n",
    "\n",
    "for _ in range(int(input())):\n",
    "    a, s = input().split()\n",
    "\n",
    "    a = list(map(int, a))\n",
    "    s = list(map(int, s))\n",
    "\n",
    "    result = solve()\n",
    "    if result[0] == -1:\n",
    "        print(-1)\n",
    "    else:\n",
    "        print(int(''.join(map(str, result))))"
   ]
  },
  {
   "cell_type": "markdown",
   "metadata": {},
   "source": [
    "E"
   ]
  },
  {
   "cell_type": "code",
   "execution_count": null,
   "metadata": {},
   "outputs": [],
   "source": [
    "각 mex를 만드는 방법\n",
    "\n",
    "0: 0 개수\n",
    "1: 0 있으면 1 개수, 0 없으면 X\n",
    "2: 1 있으면 2 개수, 1 없으면 2 개수 + 1 미만 수 중 남는 가장 큰 수를 1로 만들어야 함\n",
    "3: 2 있으면 3 개수, 2 없으면 3 개수 + 2 미만 수 중 남는 가장 큰 수를 2로 만들어야 함"
   ]
  },
  {
   "cell_type": "code",
   "execution_count": 90,
   "metadata": {},
   "outputs": [
    {
     "name": "stdout",
     "output_type": "stream",
     "text": [
      "4\n",
      "3 0 0 0\n",
      "3 0 1 4 3\n"
     ]
    }
   ],
   "source": [
    "from collections import Counter, defaultdict as dd\n",
    "\n",
    "n = int(input())\n",
    "li = list(map(int, input().split()))\n",
    "\n",
    "ct = Counter(li)\n",
    "d = dd(int)\n",
    "d.update(ct)\n",
    "\n",
    "result = []\n",
    "\n",
    "to_add = 0\n",
    "costs = []\n",
    "cumul = 0\n",
    "ip = True\n",
    "for i in range(n + 1):\n",
    "    if not ip:\n",
    "        result.append(-1)\n",
    "        continue\n",
    "        \n",
    "    if i == 0:\n",
    "        result.append(d[0])\n",
    "    elif i == 1:\n",
    "        if d[0] >= 1:\n",
    "            result.append(d[1])\n",
    "        else:\n",
    "            result.append(-1)\n",
    "            ip = False\n",
    "    else:\n",
    "        for _ in range(d[i - 2] - 1):\n",
    "            costs.append(1 - to_add)\n",
    "        \n",
    "        if d[i - 1] >= 1:\n",
    "            result.append(d[i] + cumul)\n",
    "        else:\n",
    "            if costs:\n",
    "                temp = costs.pop() + to_add\n",
    "                cumul += temp\n",
    "            \n",
    "                cost = cumul + d[i]\n",
    "                result.append(cost)\n",
    "            else:\n",
    "                result.append(-1)\n",
    "                ip = False\n",
    "            \n",
    "    to_add += 1\n",
    "    \n",
    "print(*result)"
   ]
  },
  {
   "cell_type": "code",
   "execution_count": 91,
   "metadata": {},
   "outputs": [
    {
     "name": "stdout",
     "output_type": "stream",
     "text": [
      "1\n",
      "4\n",
      "3 0 0 0\n",
      "3 0 1 4 3\n"
     ]
    }
   ],
   "source": [
    "from collections import Counter, defaultdict as dd\n",
    "\n",
    "for _ in range(int(input())):\n",
    "    n = int(input())\n",
    "    li = list(map(int, input().split()))\n",
    "\n",
    "    ct = Counter(li)\n",
    "    d = dd(int)\n",
    "    d.update(ct)\n",
    "\n",
    "    result = []\n",
    "\n",
    "    to_add = 0\n",
    "    costs = []\n",
    "    cumul = 0\n",
    "    ip = True\n",
    "    for i in range(n + 1):\n",
    "        if not ip:\n",
    "            result.append(-1)\n",
    "            continue\n",
    "\n",
    "        if i == 0:\n",
    "            result.append(d[0])\n",
    "        elif i == 1:\n",
    "            if d[0] >= 1:\n",
    "                result.append(d[1])\n",
    "            else:\n",
    "                result.append(-1)\n",
    "                ip = False\n",
    "        else:\n",
    "            for _ in range(d[i - 2] - 1):\n",
    "                costs.append(1 - to_add)\n",
    "\n",
    "            if d[i - 1] >= 1:\n",
    "                result.append(d[i] + cumul)\n",
    "            else:\n",
    "                if costs:\n",
    "                    temp = costs.pop() + to_add\n",
    "                    cumul += temp\n",
    "\n",
    "                    cost = cumul + d[i]\n",
    "                    result.append(cost)\n",
    "                else:\n",
    "                    result.append(-1)\n",
    "                    ip = False\n",
    "\n",
    "        to_add += 1\n",
    "\n",
    "    print(*result)"
   ]
  },
  {
   "cell_type": "markdown",
   "metadata": {},
   "source": [
    "### D"
   ]
  },
  {
   "cell_type": "markdown",
   "metadata": {},
   "source": [
    "상점수, 친구수: 2 3\n",
    "     shop 1:    5 3 4\n",
    "     shop 2:    2 5 1"
   ]
  },
  {
   "cell_type": "code",
   "execution_count": 99,
   "metadata": {},
   "outputs": [
    {
     "name": "stdout",
     "output_type": "stream",
     "text": [
      "5 4\n",
      "4 4 0 0\n",
      "7 0 0 0\n",
      "0 0 7 0\n",
      "0 0 0 7\n",
      "3 3 3 3\n"
     ]
    }
   ],
   "source": [
    "# shops, friends\n",
    "m, n = map(int, input().split())\n",
    "li = [list(map(int, input().split())) for _ in range(m)]"
   ]
  },
  {
   "cell_type": "code",
   "execution_count": 100,
   "metadata": {},
   "outputs": [
    {
     "data": {
      "text/plain": [
       "3"
      ]
     },
     "execution_count": 100,
     "metadata": {},
     "output_type": "execute_result"
    }
   ],
   "source": [
    "cvc = min(m, n - 1) # can visit counts\n",
    "cvc"
   ]
  },
  {
   "cell_type": "code",
   "execution_count": null,
   "metadata": {},
   "outputs": [],
   "source": [
    "친구 수만큼 갈 수 있다면 각 친구별로 max값을 이용할 수 있음"
   ]
  },
  {
   "cell_type": "code",
   "execution_count": null,
   "metadata": {},
   "outputs": [],
   "source": [
    "친구 수 -1만큼 갈 수 있다면?"
   ]
  },
  {
   "cell_type": "code",
   "execution_count": 102,
   "metadata": {},
   "outputs": [],
   "source": [
    "nli = []\n",
    "for i in range(m):\n",
    "    for j in range(n):\n",
    "        nli.append((li[i][j], i, j))\n",
    "        \n",
    "nli.sort(key=lambda x: -x[0])"
   ]
  },
  {
   "cell_type": "code",
   "execution_count": 103,
   "metadata": {},
   "outputs": [
    {
     "data": {
      "text/plain": [
       "[(7, 1, 0),\n",
       " (7, 2, 2),\n",
       " (7, 3, 3),\n",
       " (4, 0, 0),\n",
       " (4, 0, 1),\n",
       " (3, 4, 0),\n",
       " (3, 4, 1),\n",
       " (3, 4, 2),\n",
       " (3, 4, 3),\n",
       " (0, 0, 2),\n",
       " (0, 0, 3),\n",
       " (0, 1, 1),\n",
       " (0, 1, 2),\n",
       " (0, 1, 3),\n",
       " (0, 2, 0),\n",
       " (0, 2, 1),\n",
       " (0, 2, 3),\n",
       " (0, 3, 0),\n",
       " (0, 3, 1),\n",
       " (0, 3, 2)]"
      ]
     },
     "execution_count": 103,
     "metadata": {},
     "output_type": "execute_result"
    }
   ],
   "source": [
    "visited_shops = set()\n",
    "cur_values = []"
   ]
  },
  {
   "cell_type": "code",
   "execution_count": null,
   "metadata": {},
   "outputs": [],
   "source": []
  },
  {
   "cell_type": "markdown",
   "metadata": {},
   "source": [
    "### 제출본"
   ]
  },
  {
   "cell_type": "code",
   "execution_count": null,
   "metadata": {},
   "outputs": [],
   "source": [
    "import os\n",
    "import sys\n",
    "from io import BytesIO, IOBase\n",
    "\n",
    "## PYRIVAL BOOTSTRAP\n",
    "# https://github.com/cheran-senthil/PyRival/blob/master/pyrival/misc/bootstrap.py\n",
    "# This decorator allows for recursion without actually doing recursion\n",
    "from types import GeneratorType\n",
    "## @bootstrap, yield when getting and returning value in recursive functions\n",
    "\n",
    "\n",
    "def main():\n",
    "    from collections import Counter, defaultdict as dd\n",
    "\n",
    "    for _ in range(int(input())):\n",
    "        n = int(input())\n",
    "        li = list(map(int, input().split()))\n",
    "\n",
    "        ct = Counter(li)\n",
    "        d = dd(int)\n",
    "        d.update(ct)\n",
    "\n",
    "        result = []\n",
    "\n",
    "        to_add = 0\n",
    "        costs = []\n",
    "        cumul = 0\n",
    "        ip = True\n",
    "        for i in range(n + 1):\n",
    "            if not ip:\n",
    "                result.append(-1)\n",
    "                continue\n",
    "\n",
    "            if i == 0:\n",
    "                result.append(d[0])\n",
    "            elif i == 1:\n",
    "                if d[0] >= 1:\n",
    "                    result.append(d[1])\n",
    "                else:\n",
    "                    result.append(-1)\n",
    "                    ip = False\n",
    "            else:\n",
    "                for _ in range(d[i - 2] - 1):\n",
    "                    costs.append(1 - to_add)\n",
    "\n",
    "                if d[i - 1] >= 1:\n",
    "                    result.append(d[i] + cumul)\n",
    "                else:\n",
    "                    if costs:\n",
    "                        temp = costs.pop() + to_add\n",
    "                        cumul += temp\n",
    "\n",
    "                        cost = cumul + d[i]\n",
    "                        result.append(cost)\n",
    "                    else:\n",
    "                        result.append(-1)\n",
    "                        ip = False\n",
    "\n",
    "            to_add += 1\n",
    "\n",
    "        print(*result)\n",
    "\n",
    "\n",
    "\n",
    "    \n",
    "# region fastio\n",
    " \n",
    "BUFSIZE = 8192\n",
    " \n",
    "\n",
    "class FastIO(IOBase):\n",
    "    newlines = 0\n",
    " \n",
    "    def __init__(self, file):\n",
    "        self._fd = file.fileno()\n",
    "        self.buffer = BytesIO()\n",
    "        self.writable = \"x\" in file.mode or \"r\" not in file.mode\n",
    "        self.write = self.buffer.write if self.writable else None\n",
    " \n",
    "    def read(self):\n",
    "        while True:\n",
    "            b = os.read(self._fd, max(os.fstat(self._fd).st_size, BUFSIZE))\n",
    "            if not b:\n",
    "                break\n",
    "            ptr = self.buffer.tell()\n",
    "            self.buffer.seek(0, 2), self.buffer.write(b), self.buffer.seek(ptr)\n",
    "        self.newlines = 0\n",
    "        return self.buffer.read()\n",
    " \n",
    "    def readline(self):\n",
    "        while self.newlines == 0:\n",
    "            b = os.read(self._fd, max(os.fstat(self._fd).st_size, BUFSIZE))\n",
    "            self.newlines = b.count(b\"\\n\") + (not b)\n",
    "            ptr = self.buffer.tell()\n",
    "            self.buffer.seek(0, 2), self.buffer.write(b), self.buffer.seek(ptr)\n",
    "        self.newlines -= 1\n",
    "        return self.buffer.readline()\n",
    " \n",
    "    def flush(self):\n",
    "        if self.writable:\n",
    "            os.write(self._fd, self.buffer.getvalue())\n",
    "            self.buffer.truncate(0), self.buffer.seek(0)\n",
    " \n",
    " \n",
    "class IOWrapper(IOBase):\n",
    "    def __init__(self, file):\n",
    "        self.buffer = FastIO(file)\n",
    "        self.flush = self.buffer.flush\n",
    "        self.writable = self.buffer.writable\n",
    "        self.write = lambda s: self.buffer.write(s.encode(\"ascii\"))\n",
    "        self.read = lambda: self.buffer.read().decode(\"ascii\")\n",
    "        self.readline = lambda: self.buffer.readline().decode(\"ascii\")\n",
    " \n",
    " \n",
    "sys.stdin, sys.stdout = IOWrapper(sys.stdin), IOWrapper(sys.stdout)\n",
    "input = lambda: sys.stdin.readline().rstrip(\"\\r\\n\")\n",
    " \n",
    "# endregion\n",
    " \n",
    "if __name__ == \"__main__\":\n",
    "    def bootstrap(f, stack=[]):\n",
    "        def wrappedfunc(*args, **kwargs):\n",
    "            if stack:\n",
    "                return f(*args, **kwargs)\n",
    "            else:\n",
    "                to = f(*args, **kwargs)\n",
    "                while True:\n",
    "                    if type(to) is GeneratorType:\n",
    "                        stack.append(to)\n",
    "                        to = next(to)\n",
    "                    else:\n",
    "                        stack.pop()\n",
    "                        if not stack:\n",
    "                            break\n",
    "                        to = stack[-1].send(to)\n",
    "                return to\n",
    "        return wrappedfunc\n",
    "    \n",
    "    ip = lambda: input()\n",
    "    iip = lambda: int(input())\n",
    "    miip = lambda: map(int, input().split())\n",
    "    liip = lambda: list(map(int, input().split()))\n",
    "    sip = lambda: input().split() # splitted input\n",
    "    lip = lambda: list(input())\n",
    "    \n",
    "    main()"
   ]
  }
 ],
 "metadata": {
  "kernelspec": {
   "display_name": "Python 3",
   "language": "python",
   "name": "python3"
  },
  "language_info": {
   "codemirror_mode": {
    "name": "ipython",
    "version": 3
   },
   "file_extension": ".py",
   "mimetype": "text/x-python",
   "name": "python",
   "nbconvert_exporter": "python",
   "pygments_lexer": "ipython3",
   "version": "3.7.4"
  }
 },
 "nbformat": 4,
 "nbformat_minor": 4
}
