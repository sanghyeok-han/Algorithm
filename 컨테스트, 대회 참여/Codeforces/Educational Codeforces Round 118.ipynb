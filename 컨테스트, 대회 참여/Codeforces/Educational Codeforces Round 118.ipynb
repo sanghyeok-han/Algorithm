{
 "cells": [
  {
   "cell_type": "code",
   "execution_count": 2,
   "metadata": {},
   "outputs": [],
   "source": [
    "ip = lambda: input()\n",
    "iip = lambda: int(input())\n",
    "miip = lambda: map(int, input().split())\n",
    "liip = lambda: list(map(int, input().split()))\n",
    "sip = lambda: input().split() # splitted input\n",
    "lip = lambda: list(input())"
   ]
  },
  {
   "cell_type": "markdown",
   "metadata": {},
   "source": [
    "### A"
   ]
  },
  {
   "cell_type": "code",
   "execution_count": 26,
   "metadata": {},
   "outputs": [
    {
     "name": "stdout",
     "output_type": "stream",
     "text": [
      "1 0\n",
      "1 0\n",
      "=\n"
     ]
    }
   ],
   "source": [
    "from math import log10\n",
    "\n",
    "x1, p1 = miip()\n",
    "x2, p2 = miip()\n",
    "\n",
    "one_more_x = x1 / x2\n",
    "one_more_p = p1 - p2\n",
    "\n",
    "temp = one_more_p + log10(one_more_x)\n",
    "if temp > 0:\n",
    "    print('>')\n",
    "elif temp == 0:\n",
    "    print('=')\n",
    "else:\n",
    "    print('<')"
   ]
  },
  {
   "cell_type": "code",
   "execution_count": 27,
   "metadata": {},
   "outputs": [
    {
     "name": "stdout",
     "output_type": "stream",
     "text": [
      "1\n",
      "2 1\n",
      "19 0\n",
      ">\n"
     ]
    }
   ],
   "source": [
    "from math import log10\n",
    "\n",
    "for _ in range(iip()):\n",
    "    x1, p1 = miip()\n",
    "    x2, p2 = miip()\n",
    "\n",
    "    one_more_x = x1 / x2\n",
    "    one_more_p = p1 - p2\n",
    "\n",
    "    temp = one_more_p + log10(one_more_x)\n",
    "    if temp > 0:\n",
    "        print('>')\n",
    "    elif temp == 0:\n",
    "        print('=')\n",
    "    else:\n",
    "        print('<')    "
   ]
  },
  {
   "cell_type": "markdown",
   "metadata": {},
   "source": [
    "### B"
   ]
  },
  {
   "cell_type": "code",
   "execution_count": null,
   "metadata": {},
   "outputs": [],
   "source": [
    "사실상 세 번째 조건만 의미있음\n",
    "작은 수를 큰 수로 나누면 나머지는 작은 수가 됨. 즉 x는 무조건 y보다 커야함\n",
    "\n",
    "n이 최대 200000일 때 최대 100000개의 쌍을 출력해야함"
   ]
  },
  {
   "cell_type": "code",
   "execution_count": null,
   "metadata": {},
   "outputs": [],
   "source": [
    "a에 1이 있으면 전부 1로 나누면 됨\n",
    "\n",
    "정렬해놓고 전부 첫 번째 수로만 나눔"
   ]
  },
  {
   "cell_type": "code",
   "execution_count": 28,
   "metadata": {},
   "outputs": [
    {
     "name": "stdout",
     "output_type": "stream",
     "text": [
      "6\n",
      "2 7 5 3 4 8\n",
      "3 2\n",
      "4 2\n",
      "5 2\n"
     ]
    }
   ],
   "source": [
    "n = iip()\n",
    "li = sorted(miip())\n",
    "\n",
    "for i in range(1, n // 2 + 1):\n",
    "    print(li[i], li[0])"
   ]
  },
  {
   "cell_type": "code",
   "execution_count": null,
   "metadata": {},
   "outputs": [],
   "source": [
    "for _ in range(iip()):\n",
    "    n = iip()\n",
    "    li = sorted(miip())\n",
    "\n",
    "    for i in range(1, n // 2 + 1):\n",
    "        print(li[i], li[0])    "
   ]
  },
  {
   "cell_type": "markdown",
   "metadata": {},
   "source": [
    "### C"
   ]
  },
  {
   "cell_type": "code",
   "execution_count": 29,
   "metadata": {},
   "outputs": [
    {
     "name": "stdout",
     "output_type": "stream",
     "text": [
      "2 5\n",
      "1 5\n"
     ]
    }
   ],
   "source": [
    "n, h = miip()\n",
    "li = liip()\n",
    "\n",
    "start = 1\n",
    "end = 10 ** 18\n",
    "result = float('inf')\n",
    "while start <= end:\n",
    "    lasted = (start + end) // 2\n",
    "    \n",
    "    damage = 0\n",
    "    for i in range(n - 1):\n",
    "        damage += min(lasted, li[i + 1] - li[i])\n",
    "    damage += lasted\n",
    "    \n",
    "    if damage >= h:\n",
    "        result = lasted\n",
    "        end = lasted - 1\n",
    "    else:\n",
    "        start = lasted + 1\n",
    "        \n",
    "print(result)"
   ]
  },
  {
   "cell_type": "code",
   "execution_count": null,
   "metadata": {},
   "outputs": [],
   "source": [
    "for _ in range(iip()):\n",
    "    n, h = miip()\n",
    "    li = liip()\n",
    "\n",
    "    start = 1\n",
    "    end = 10 ** 18\n",
    "    result = float('inf')\n",
    "    while start <= end:\n",
    "        lasted = (start + end) // 2\n",
    "\n",
    "        damage = 0\n",
    "        for i in range(n - 1):\n",
    "            damage += min(lasted, li[i + 1] - li[i])\n",
    "        damage += lasted\n",
    "\n",
    "        if damage >= h:\n",
    "            result = lasted\n",
    "            end = lasted - 1\n",
    "        else:\n",
    "            start = lasted + 1\n",
    "\n",
    "    print(result)    "
   ]
  },
  {
   "cell_type": "markdown",
   "metadata": {},
   "source": [
    "### D"
   ]
  },
  {
   "cell_type": "code",
   "execution_count": null,
   "metadata": {},
   "outputs": [],
   "source": [
    "for all i (1≤i≤k) |xi−MEX(x1,x2,…,xi)|≤1 "
   ]
  },
  {
   "cell_type": "code",
   "execution_count": null,
   "metadata": {},
   "outputs": [],
   "source": [
    "정렬 안됨\n",
    "0이나 1로 시작할 수밖에 없음\n",
    "\n",
    "\n",
    "1에서 시작은 가능한데 그게 전부임"
   ]
  },
  {
   "cell_type": "code",
   "execution_count": null,
   "metadata": {},
   "outputs": [],
   "source": []
  },
  {
   "cell_type": "code",
   "execution_count": 32,
   "metadata": {},
   "outputs": [
    {
     "ename": "KeyboardInterrupt",
     "evalue": "Interrupted by user",
     "output_type": "error",
     "traceback": [
      "\u001b[1;31m---------------------------------------------------------------------------\u001b[0m",
      "\u001b[1;31mKeyboardInterrupt\u001b[0m                         Traceback (most recent call last)",
      "\u001b[1;32m<ipython-input-32-69e5cf444e72>\u001b[0m in \u001b[0;36m<module>\u001b[1;34m\u001b[0m\n\u001b[0;32m      1\u001b[0m \u001b[0mmod\u001b[0m \u001b[1;33m=\u001b[0m \u001b[1;36m998244353\u001b[0m\u001b[1;33m\u001b[0m\u001b[1;33m\u001b[0m\u001b[0m\n\u001b[0;32m      2\u001b[0m \u001b[1;33m\u001b[0m\u001b[0m\n\u001b[1;32m----> 3\u001b[1;33m \u001b[0mn\u001b[0m \u001b[1;33m=\u001b[0m \u001b[0miip\u001b[0m\u001b[1;33m(\u001b[0m\u001b[1;33m)\u001b[0m\u001b[1;33m\u001b[0m\u001b[1;33m\u001b[0m\u001b[0m\n\u001b[0m\u001b[0;32m      4\u001b[0m \u001b[0mli\u001b[0m \u001b[1;33m=\u001b[0m \u001b[0mliip\u001b[0m\u001b[1;33m(\u001b[0m\u001b[1;33m)\u001b[0m\u001b[1;33m\u001b[0m\u001b[1;33m\u001b[0m\u001b[0m\n",
      "\u001b[1;32m<ipython-input-2-4fcf51bf1608>\u001b[0m in \u001b[0;36m<lambda>\u001b[1;34m()\u001b[0m\n\u001b[0;32m      1\u001b[0m \u001b[0mip\u001b[0m \u001b[1;33m=\u001b[0m \u001b[1;32mlambda\u001b[0m\u001b[1;33m:\u001b[0m \u001b[0minput\u001b[0m\u001b[1;33m(\u001b[0m\u001b[1;33m)\u001b[0m\u001b[1;33m\u001b[0m\u001b[1;33m\u001b[0m\u001b[0m\n\u001b[1;32m----> 2\u001b[1;33m \u001b[0miip\u001b[0m \u001b[1;33m=\u001b[0m \u001b[1;32mlambda\u001b[0m\u001b[1;33m:\u001b[0m \u001b[0mint\u001b[0m\u001b[1;33m(\u001b[0m\u001b[0minput\u001b[0m\u001b[1;33m(\u001b[0m\u001b[1;33m)\u001b[0m\u001b[1;33m)\u001b[0m\u001b[1;33m\u001b[0m\u001b[1;33m\u001b[0m\u001b[0m\n\u001b[0m\u001b[0;32m      3\u001b[0m \u001b[0mmiip\u001b[0m \u001b[1;33m=\u001b[0m \u001b[1;32mlambda\u001b[0m\u001b[1;33m:\u001b[0m \u001b[0mmap\u001b[0m\u001b[1;33m(\u001b[0m\u001b[0mint\u001b[0m\u001b[1;33m,\u001b[0m \u001b[0minput\u001b[0m\u001b[1;33m(\u001b[0m\u001b[1;33m)\u001b[0m\u001b[1;33m.\u001b[0m\u001b[0msplit\u001b[0m\u001b[1;33m(\u001b[0m\u001b[1;33m)\u001b[0m\u001b[1;33m)\u001b[0m\u001b[1;33m\u001b[0m\u001b[1;33m\u001b[0m\u001b[0m\n\u001b[0;32m      4\u001b[0m \u001b[0mliip\u001b[0m \u001b[1;33m=\u001b[0m \u001b[1;32mlambda\u001b[0m\u001b[1;33m:\u001b[0m \u001b[0mlist\u001b[0m\u001b[1;33m(\u001b[0m\u001b[0mmap\u001b[0m\u001b[1;33m(\u001b[0m\u001b[0mint\u001b[0m\u001b[1;33m,\u001b[0m \u001b[0minput\u001b[0m\u001b[1;33m(\u001b[0m\u001b[1;33m)\u001b[0m\u001b[1;33m.\u001b[0m\u001b[0msplit\u001b[0m\u001b[1;33m(\u001b[0m\u001b[1;33m)\u001b[0m\u001b[1;33m)\u001b[0m\u001b[1;33m)\u001b[0m\u001b[1;33m\u001b[0m\u001b[1;33m\u001b[0m\u001b[0m\n\u001b[0;32m      5\u001b[0m \u001b[0msip\u001b[0m \u001b[1;33m=\u001b[0m \u001b[1;32mlambda\u001b[0m\u001b[1;33m:\u001b[0m \u001b[0minput\u001b[0m\u001b[1;33m(\u001b[0m\u001b[1;33m)\u001b[0m\u001b[1;33m.\u001b[0m\u001b[0msplit\u001b[0m\u001b[1;33m(\u001b[0m\u001b[1;33m)\u001b[0m \u001b[1;31m# splitted input\u001b[0m\u001b[1;33m\u001b[0m\u001b[1;33m\u001b[0m\u001b[0m\n",
      "\u001b[1;32m~\\Anaconda3\\lib\\site-packages\\ipykernel\\kernelbase.py\u001b[0m in \u001b[0;36mraw_input\u001b[1;34m(self, prompt)\u001b[0m\n\u001b[0;32m    861\u001b[0m             \u001b[0mself\u001b[0m\u001b[1;33m.\u001b[0m\u001b[0m_parent_ident\u001b[0m\u001b[1;33m,\u001b[0m\u001b[1;33m\u001b[0m\u001b[1;33m\u001b[0m\u001b[0m\n\u001b[0;32m    862\u001b[0m             \u001b[0mself\u001b[0m\u001b[1;33m.\u001b[0m\u001b[0m_parent_header\u001b[0m\u001b[1;33m,\u001b[0m\u001b[1;33m\u001b[0m\u001b[1;33m\u001b[0m\u001b[0m\n\u001b[1;32m--> 863\u001b[1;33m             \u001b[0mpassword\u001b[0m\u001b[1;33m=\u001b[0m\u001b[1;32mFalse\u001b[0m\u001b[1;33m,\u001b[0m\u001b[1;33m\u001b[0m\u001b[1;33m\u001b[0m\u001b[0m\n\u001b[0m\u001b[0;32m    864\u001b[0m         )\n\u001b[0;32m    865\u001b[0m \u001b[1;33m\u001b[0m\u001b[0m\n",
      "\u001b[1;32m~\\Anaconda3\\lib\\site-packages\\ipykernel\\kernelbase.py\u001b[0m in \u001b[0;36m_input_request\u001b[1;34m(self, prompt, ident, parent, password)\u001b[0m\n\u001b[0;32m    902\u001b[0m             \u001b[1;32mexcept\u001b[0m \u001b[0mKeyboardInterrupt\u001b[0m\u001b[1;33m:\u001b[0m\u001b[1;33m\u001b[0m\u001b[1;33m\u001b[0m\u001b[0m\n\u001b[0;32m    903\u001b[0m                 \u001b[1;31m# re-raise KeyboardInterrupt, to truncate traceback\u001b[0m\u001b[1;33m\u001b[0m\u001b[1;33m\u001b[0m\u001b[1;33m\u001b[0m\u001b[0m\n\u001b[1;32m--> 904\u001b[1;33m                 \u001b[1;32mraise\u001b[0m \u001b[0mKeyboardInterrupt\u001b[0m\u001b[1;33m(\u001b[0m\u001b[1;34m\"Interrupted by user\"\u001b[0m\u001b[1;33m)\u001b[0m \u001b[1;32mfrom\u001b[0m \u001b[1;32mNone\u001b[0m\u001b[1;33m\u001b[0m\u001b[1;33m\u001b[0m\u001b[0m\n\u001b[0m\u001b[0;32m    905\u001b[0m             \u001b[1;32mexcept\u001b[0m \u001b[0mException\u001b[0m \u001b[1;32mas\u001b[0m \u001b[0me\u001b[0m\u001b[1;33m:\u001b[0m\u001b[1;33m\u001b[0m\u001b[1;33m\u001b[0m\u001b[0m\n\u001b[0;32m    906\u001b[0m                 \u001b[0mself\u001b[0m\u001b[1;33m.\u001b[0m\u001b[0mlog\u001b[0m\u001b[1;33m.\u001b[0m\u001b[0mwarning\u001b[0m\u001b[1;33m(\u001b[0m\u001b[1;34m\"Invalid Message:\"\u001b[0m\u001b[1;33m,\u001b[0m \u001b[0mexc_info\u001b[0m\u001b[1;33m=\u001b[0m\u001b[1;32mTrue\u001b[0m\u001b[1;33m)\u001b[0m\u001b[1;33m\u001b[0m\u001b[1;33m\u001b[0m\u001b[0m\n",
      "\u001b[1;31mKeyboardInterrupt\u001b[0m: Interrupted by user"
     ]
    }
   ],
   "source": [
    "mod = 998244353\n",
    "\n",
    "n = iip()\n",
    "li = liip()"
   ]
  },
  {
   "cell_type": "code",
   "execution_count": null,
   "metadata": {},
   "outputs": [],
   "source": [
    "값:  0  1  1  3  3  1  2\n",
    "MEX: 1  2  2  2  2  2  4"
   ]
  },
  {
   "cell_type": "code",
   "execution_count": null,
   "metadata": {},
   "outputs": [],
   "source": [
    "값: 0  1  1  2  3  5  3\n",
    "MEX:1  2  2  3  4  4  4"
   ]
  },
  {
   "cell_type": "code",
   "execution_count": null,
   "metadata": {},
   "outputs": [],
   "source": [
    "0  0 1  1  2  2  4? 이후에 2, 4 연속 가능"
   ]
  },
  {
   "cell_type": "code",
   "execution_count": null,
   "metadata": {},
   "outputs": [],
   "source": [
    "값: 1 1 1...  1? 이후에 1 연속 가능 \n",
    "MEX: 0 0 0"
   ]
  },
  {
   "cell_type": "code",
   "execution_count": null,
   "metadata": {},
   "outputs": [],
   "source": [
    "값: 1 0   X\n",
    "MEX: 0 2"
   ]
  },
  {
   "cell_type": "code",
   "execution_count": null,
   "metadata": {},
   "outputs": [],
   "source": [
    "값: 1 2 X\n",
    "MEX: 0 0 X"
   ]
  },
  {
   "cell_type": "code",
   "execution_count": null,
   "metadata": {},
   "outputs": [],
   "source": [
    "1은 1로 시작하는 어떤 조합이든지 가능함\n",
    "\n",
    "0은 "
   ]
  },
  {
   "cell_type": "code",
   "execution_count": null,
   "metadata": {},
   "outputs": [],
   "source": [
    "0 0 0 1 1 1 2 2 3 3 같은 숫자던지 하나 높은 숫자면 계속 감"
   ]
  },
  {
   "cell_type": "code",
   "execution_count": null,
   "metadata": {},
   "outputs": [],
   "source": [
    "두 개 높은 숫자 나오면 그 숫자 또는 그 숫자 - 2만 계속 감"
   ]
  },
  {
   "cell_type": "code",
   "execution_count": null,
   "metadata": {},
   "outputs": [],
   "source": [
    "0 1 2 3\n",
    "\n",
    "1\n",
    "0\n",
    "0 1\n",
    "\n",
    "\n",
    "\n",
    "경우"
   ]
  },
  {
   "cell_type": "code",
   "execution_count": 35,
   "metadata": {},
   "outputs": [
    {
     "name": "stdout",
     "output_type": "stream",
     "text": [
      "3\n",
      "1 1 1\n"
     ]
    },
    {
     "data": {
      "text/plain": [
       "3"
      ]
     },
     "execution_count": 35,
     "metadata": {},
     "output_type": "execute_result"
    }
   ],
   "source": [
    "n = iip()\n",
    "li = liip()\n",
    "\n",
    "li.count(1)"
   ]
  },
  {
   "cell_type": "code",
   "execution_count": 36,
   "metadata": {},
   "outputs": [],
   "source": [
    "# start with 1 case\n",
    "total = 0\n",
    "c1 = li.count(1)\n",
    "if c1:\n",
    "    temp = 1\n",
    "    while c1 > 1:\n",
    "        temp *= c1\n",
    "        temp %= mod\n",
    "        c1 -= 1\n",
    "    total += temp\n",
    "    \n"
   ]
  },
  {
   "cell_type": "code",
   "execution_count": 47,
   "metadata": {},
   "outputs": [
    {
     "name": "stdout",
     "output_type": "stream",
     "text": [
      "2\n",
      "1 0\n",
      "2\n"
     ]
    }
   ],
   "source": [
    "from collections import defaultdict as dd\n",
    "\n",
    "for _ in range(int(input())):\n",
    "    n = iip()\n",
    "    li = liip()\n",
    "\n",
    "    # start with 1 case\n",
    "    total = 0\n",
    "    c1 = li.count(1)\n",
    "    if c1:\n",
    "        temp = 1\n",
    "        while c1 > 1:\n",
    "            temp *= c1\n",
    "            temp %= mod\n",
    "            c1 -= 1\n",
    "        total += temp\n",
    "\n",
    "    dp = [dd(int), dd(int), dd(int)] # 만약 cur이 4라면 뒤에꺼는 전의 뒤에꺼 4 또는 전의 뒤에꺼 2 또는 전의 앞에꺼 2에서 가져올 수 있음\n",
    "                                             # 앞에꺼는 전의 앞에꺼 3 또는 전의 앞에꺼 4에서 가져올 수 있음\n",
    "                             # 만약 cur이 0이라면 앞에꺼에 1이 추가됨\n",
    "\n",
    "    # 만약 cur이 0이라면 앞에꺼는 전의 앞에꺼 0에서 가져올 수 있음 그리고 + 1 가능\n",
    "    \n",
    "    \n",
    "    for v in li:\n",
    "        n1 = 0\n",
    "        if v - 1 >= 0:\n",
    "            n1 += dp[0][v - 1]\n",
    "        n1 += dp[0][v]\n",
    "\n",
    "        if v == 0:\n",
    "            n1 += 1\n",
    "\n",
    "        n2 = 0\n",
    "        if v - 2 >= 0:\n",
    "            n2 += dp[0][v - 2] + dp[2][v - 2]\n",
    "        n2 += dp[1][v]\n",
    "\n",
    "        n3 = 0\n",
    "        n3 += dp[1][v + 2] + dp[2][v]\n",
    "\n",
    "\n",
    "        n1 %= mod\n",
    "        n2 %= mod\n",
    "        n3 %= mod\n",
    "\n",
    "        dp[0][v] += n1\n",
    "        dp[1][v] += n2\n",
    "        dp[2][v] += n3\n",
    "\n",
    "        dp[0][v] %= mod\n",
    "        dp[1][v] %= mod\n",
    "        dp[2][v] %= mod\n",
    "\n",
    "    for i in range(3):\n",
    "        for key in dp[i]:\n",
    "            total += dp[i][key]\n",
    "            total %= mod\n",
    "\n",
    "    print(total)"
   ]
  },
  {
   "cell_type": "code",
   "execution_count": null,
   "metadata": {},
   "outputs": [],
   "source": []
  },
  {
   "cell_type": "code",
   "execution_count": null,
   "metadata": {},
   "outputs": [],
   "source": []
  },
  {
   "cell_type": "code",
   "execution_count": null,
   "metadata": {},
   "outputs": [],
   "source": [
    "만약 cur이 4라면 0번째꺼의 4는 0번째꺼 3 + 0번째꺼 4\n",
    "                 1번째꺼의 4는 0번째꺼 2 + 2번째꺼 2 + 1번째꺼 4\n",
    "                 2번재꺼의 4는 1번째꺼 6 + 2번째꺼 4"
   ]
  },
  {
   "cell_type": "code",
   "execution_count": 4,
   "metadata": {},
   "outputs": [
    {
     "name": "stdout",
     "output_type": "stream",
     "text": [
      "4\n",
      "3\n",
      "0 2 1\n",
      "4\n",
      "2\n",
      "1 0\n",
      "2\n",
      "5\n",
      "0 0 0 0 0\n",
      "31\n",
      "4\n",
      "0 1 2 3\n",
      "7\n"
     ]
    }
   ],
   "source": [
    "from collections import defaultdict as dd\n",
    "import sys\n",
    "input = lambda: sys.stdin.readline().rstrip()\n",
    "\n",
    "mod = 998244353 \n",
    "ip = lambda: input()\n",
    "iip = lambda: int(input())\n",
    "miip = lambda: map(int, input().split())\n",
    "liip = lambda: list(map(int, input().split()))\n",
    "sip = lambda: input().split() # splitted input\n",
    "lip = lambda: list(input())\n",
    "\n",
    "for _ in range(int(input())):\n",
    "    n = iip()\n",
    "    li = liip()\n",
    "\n",
    "    # start with 1 case\n",
    "    total = 0\n",
    "    c1 = li.count(1)\n",
    "    if c1:\n",
    "        temp = 1\n",
    "        while c1 > 1:\n",
    "            temp *= c1\n",
    "            temp %= mod\n",
    "            c1 -= 1\n",
    "        total += temp\n",
    "\n",
    "    dp = [dd(int), dd(int), dd(int)]\n",
    "\n",
    "    for v in li:\n",
    "        n1 = 0\n",
    "        if v - 1 >= 0:\n",
    "            n1 += dp[0][v - 1]\n",
    "        n1 += dp[0][v]\n",
    "\n",
    "        if v == 0:\n",
    "            n1 += 1\n",
    "\n",
    "        n2 = 0\n",
    "        if v - 2 >= 0:\n",
    "            n2 += dp[0][v - 2] + dp[2][v - 2]\n",
    "        n2 += dp[1][v]\n",
    "\n",
    "        n3 = 0\n",
    "        n3 += dp[1][v + 2] + dp[2][v]\n",
    "\n",
    "\n",
    "        n1 %= mod\n",
    "        n2 %= mod\n",
    "        n3 %= mod\n",
    "\n",
    "        dp[0][v] += n1\n",
    "        dp[1][v] += n2\n",
    "        dp[2][v] += n3\n",
    "\n",
    "        dp[0][v] %= mod\n",
    "        dp[1][v] %= mod\n",
    "        dp[2][v] %= mod\n",
    "\n",
    "    for i in range(3):\n",
    "        for key in dp[i]:\n",
    "            total += dp[i][key]\n",
    "            total %= mod\n",
    "\n",
    "    print(total)"
   ]
  },
  {
   "cell_type": "code",
   "execution_count": 3,
   "metadata": {},
   "outputs": [
    {
     "data": {
      "text/plain": [
       "1"
      ]
     },
     "execution_count": 3,
     "metadata": {},
     "output_type": "execute_result"
    }
   ],
   "source": [
    "total"
   ]
  },
  {
   "cell_type": "markdown",
   "metadata": {},
   "source": [
    "### 제출본"
   ]
  },
  {
   "cell_type": "code",
   "execution_count": null,
   "metadata": {},
   "outputs": [],
   "source": [
    "import os\n",
    "import sys\n",
    "from io import BytesIO, IOBase\n",
    "\n",
    "## PYRIVAL BOOTSTRAP\n",
    "# https://github.com/cheran-senthil/PyRival/blob/master/pyrival/misc/bootstrap.py\n",
    "# This decorator allows for recursion without actually doing recursion\n",
    "from types import GeneratorType\n",
    "## @bootstrap, yield when getting and returning value in recursive functions\n",
    "\n",
    "\n",
    "def main():\n",
    "    from collections import defaultdict as dd\n",
    "\n",
    "    for _ in range(int(input())):\n",
    "        n = iip()\n",
    "        li = liip()\n",
    "\n",
    "        # start with 1 case\n",
    "        total = 0\n",
    "        c1 = li.count(1)\n",
    "        if c1:\n",
    "            temp = 1\n",
    "            while c1 > 1:\n",
    "                temp *= c1\n",
    "                temp %= mod\n",
    "                c1 -= 1\n",
    "            total += temp\n",
    "\n",
    "        dp = [dd(int), dd(int), dd(int)]\n",
    "\n",
    "        for v in li:\n",
    "            n1 = 0\n",
    "            if v - 1 >= 0:\n",
    "                n1 += dp[0][v - 1]\n",
    "            n1 += dp[0][v]\n",
    "\n",
    "            if v == 0:\n",
    "                n1 += 1\n",
    "\n",
    "            n2 = 0\n",
    "            if v - 2 >= 0:\n",
    "                n2 += dp[0][v - 2] + dp[2][v - 2]\n",
    "            n2 += dp[2][v]\n",
    "\n",
    "            n3 = 0\n",
    "            n3 += dp[1][v + 2] + dp[2][v]\n",
    "\n",
    "\n",
    "            n1 %= mod\n",
    "            n2 %= mod\n",
    "            n3 %= mod\n",
    "\n",
    "            dp[0][v] += n1\n",
    "            dp[1][v] += n2\n",
    "            dp[2][v] += n3\n",
    "\n",
    "            dp[0][v] %= mod\n",
    "            dp[1][v] %= mod\n",
    "            dp[2][v] %= mod\n",
    "\n",
    "        for i in range(3):\n",
    "            for key in dp[i]:\n",
    "                total += dp[i][key]\n",
    "                total %= mod\n",
    "\n",
    "        print(total)\n",
    "\n",
    "\n",
    "    \n",
    "# region fastio\n",
    " \n",
    "BUFSIZE = 8192\n",
    " \n",
    "\n",
    "class FastIO(IOBase):\n",
    "    newlines = 0\n",
    " \n",
    "    def __init__(self, file):\n",
    "        self._fd = file.fileno()\n",
    "        self.buffer = BytesIO()\n",
    "        self.writable = \"x\" in file.mode or \"r\" not in file.mode\n",
    "        self.write = self.buffer.write if self.writable else None\n",
    " \n",
    "    def read(self):\n",
    "        while True:\n",
    "            b = os.read(self._fd, max(os.fstat(self._fd).st_size, BUFSIZE))\n",
    "            if not b:\n",
    "                break\n",
    "            ptr = self.buffer.tell()\n",
    "            self.buffer.seek(0, 2), self.buffer.write(b), self.buffer.seek(ptr)\n",
    "        self.newlines = 0\n",
    "        return self.buffer.read()\n",
    " \n",
    "    def readline(self):\n",
    "        while self.newlines == 0:\n",
    "            b = os.read(self._fd, max(os.fstat(self._fd).st_size, BUFSIZE))\n",
    "            self.newlines = b.count(b\"\\n\") + (not b)\n",
    "            ptr = self.buffer.tell()\n",
    "            self.buffer.seek(0, 2), self.buffer.write(b), self.buffer.seek(ptr)\n",
    "        self.newlines -= 1\n",
    "        return self.buffer.readline()\n",
    " \n",
    "    def flush(self):\n",
    "        if self.writable:\n",
    "            os.write(self._fd, self.buffer.getvalue())\n",
    "            self.buffer.truncate(0), self.buffer.seek(0)\n",
    " \n",
    " \n",
    "class IOWrapper(IOBase):\n",
    "    def __init__(self, file):\n",
    "        self.buffer = FastIO(file)\n",
    "        self.flush = self.buffer.flush\n",
    "        self.writable = self.buffer.writable\n",
    "        self.write = lambda s: self.buffer.write(s.encode(\"ascii\"))\n",
    "        self.read = lambda: self.buffer.read().decode(\"ascii\")\n",
    "        self.readline = lambda: self.buffer.readline().decode(\"ascii\")\n",
    " \n",
    " \n",
    "sys.stdin, sys.stdout = IOWrapper(sys.stdin), IOWrapper(sys.stdout)\n",
    "input = lambda: sys.stdin.readline().rstrip(\"\\r\\n\")\n",
    " \n",
    "# endregion\n",
    " \n",
    "if __name__ == \"__main__\":\n",
    "    def bootstrap(f, stack=[]):\n",
    "        def wrappedfunc(*args, **kwargs):\n",
    "            if stack:\n",
    "                return f(*args, **kwargs)\n",
    "            else:\n",
    "                to = f(*args, **kwargs)\n",
    "                while True:\n",
    "                    if type(to) is GeneratorType:\n",
    "                        stack.append(to)\n",
    "                        to = next(to)\n",
    "                    else:\n",
    "                        stack.pop()\n",
    "                        if not stack:\n",
    "                            break\n",
    "                        to = stack[-1].send(to)\n",
    "                return to\n",
    "        return wrappedfunc\n",
    "    \n",
    "    ip = lambda: input()\n",
    "    iip = lambda: int(input())\n",
    "    miip = lambda: map(int, input().split())\n",
    "    liip = lambda: list(map(int, input().split()))\n",
    "    sip = lambda: input().split() # splitted input\n",
    "    lip = lambda: list(input())\n",
    "    \n",
    "    main()"
   ]
  }
 ],
 "metadata": {
  "kernelspec": {
   "display_name": "Python 3",
   "language": "python",
   "name": "python3"
  },
  "language_info": {
   "codemirror_mode": {
    "name": "ipython",
    "version": 3
   },
   "file_extension": ".py",
   "mimetype": "text/x-python",
   "name": "python",
   "nbconvert_exporter": "python",
   "pygments_lexer": "ipython3",
   "version": "3.7.3"
  }
 },
 "nbformat": 4,
 "nbformat_minor": 4
}
