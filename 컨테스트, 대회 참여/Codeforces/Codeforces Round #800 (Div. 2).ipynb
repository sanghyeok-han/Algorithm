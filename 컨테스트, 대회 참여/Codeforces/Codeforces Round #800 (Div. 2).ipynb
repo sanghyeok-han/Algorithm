{
 "cells": [
  {
   "cell_type": "code",
   "execution_count": null,
   "metadata": {},
   "outputs": [],
   "source": [
    "import sys\n",
    "# input = lambda: sys.stdin.readline().rstrip()"
   ]
  },
  {
   "cell_type": "markdown",
   "metadata": {},
   "source": [
    "A"
   ]
  },
  {
   "cell_type": "code",
   "execution_count": 17,
   "metadata": {},
   "outputs": [
    {
     "name": "stdout",
     "output_type": "stream",
     "text": [
      "3 7\n",
      "0101011111\n"
     ]
    }
   ],
   "source": [
    "import sys\n",
    "input = lambda: sys.stdin.readline().rstrip()\n",
    "\n",
    "for _ in range(int(input())):\n",
    "    a, b = map(int, input().split())\n",
    "\n",
    "    mv = min(a, b)\n",
    "    r = ['0', '1'] * mv\n",
    "    a -= mv\n",
    "    b -= mv\n",
    "\n",
    "    if a:\n",
    "        r.extend(['0'] * a)\n",
    "    if b:\n",
    "        r.extend(['1'] * b)\n",
    "\n",
    "    print(''.join(r))"
   ]
  },
  {
   "cell_type": "markdown",
   "metadata": {},
   "source": [
    "B"
   ]
  },
  {
   "cell_type": "code",
   "execution_count": 29,
   "metadata": {},
   "outputs": [
    {
     "name": "stdout",
     "output_type": "stream",
     "text": [
      "2\n",
      "01\n",
      "3\n"
     ]
    }
   ],
   "source": [
    "import sys\n",
    "input = lambda: sys.stdin.readline().rstrip()\n",
    "\n",
    "for _ in range(int(input())):\n",
    "    n = int(input())\n",
    "    s = input()\n",
    "\n",
    "    if n == 1:\n",
    "        print(1)\n",
    "    else:\n",
    "        total = n\n",
    "        for i in range(1, n):\n",
    "            temp = s[i - 1:i + 1]\n",
    "            if temp == '01' or temp == '10':\n",
    "                total += i\n",
    "\n",
    "        print(total)"
   ]
  },
  {
   "cell_type": "code",
   "execution_count": null,
   "metadata": {},
   "outputs": [],
   "source": [
    "1일 때 앞쪽의 0을 없애거나 0일 때 앞쪽의 1을 없앨 수 있음"
   ]
  },
  {
   "cell_type": "code",
   "execution_count": null,
   "metadata": {},
   "outputs": [],
   "source": [
    "0, 1, 01 10\n",
    "\n",
    "100 00 x\n",
    "\n",
    "011 11 x\n",
    "\n",
    "001 01\n",
    "\n",
    "1110 o\n",
    "0001 o\n",
    "\n",
    "0110 10 0\n",
    "\n",
    "1001 001 01 1"
   ]
  },
  {
   "cell_type": "markdown",
   "metadata": {},
   "source": [
    "C"
   ]
  },
  {
   "cell_type": "code",
   "execution_count": null,
   "metadata": {},
   "outputs": [],
   "source": [
    "p\n",
    "000000000"
   ]
  },
  {
   "cell_type": "code",
   "execution_count": 31,
   "metadata": {},
   "outputs": [
    {
     "name": "stdout",
     "output_type": "stream",
     "text": [
      "4\n",
      "2 -1 -1 0\n",
      "Yes\n",
      "[2, -1, -1, 0]\n"
     ]
    }
   ],
   "source": [
    "import sys\n",
    "input = lambda: sys.stdin.readline().rstrip()\n",
    "\n",
    "for _ in range(int(input())):\n",
    "    n = int(input())\n",
    "    b = list(map(int, input().split()))\n",
    "\n",
    "    if n == 1:\n",
    "        if b[0] != 0:\n",
    "            print('No')\n",
    "        else:\n",
    "            print('Yes')\n",
    "    elif b[0] < 0 or b[-1] > 0:\n",
    "        print('No')\n",
    "    else:\n",
    "        a = [0] * n\n",
    "\n",
    "        last_num_index = -1\n",
    "        for i in range(n - 1, -1, -1):\n",
    "            if b[i] != 0:\n",
    "                last_num_index = i\n",
    "                break\n",
    "\n",
    "        if last_num_index == -1:\n",
    "            # all 0 case\n",
    "            print('Yes')\n",
    "        elif b[last_num_index] >= 1:\n",
    "            print('No')\n",
    "        else:\n",
    "            a[0] = 1\n",
    "            a[last_num_index] = -1\n",
    "            cur = last_num_index\n",
    "\n",
    "            ip = True\n",
    "            for i in range(last_num_index, 0, -1):\n",
    "                if a[i] == b[i]:\n",
    "                    continue\n",
    "                if a[i] < b[i]:\n",
    "                    ip = False\n",
    "                    break\n",
    "                diff = a[i] - b[i]\n",
    "                a[i - 1] += diff\n",
    "                a[i] -= diff\n",
    "\n",
    "            if a[0] != b[0]:\n",
    "                ip = False\n",
    "\n",
    "            if ip:\n",
    "                print('Yes')\n",
    "            else:\n",
    "                print('No')"
   ]
  },
  {
   "cell_type": "markdown",
   "metadata": {},
   "source": [
    "D"
   ]
  },
  {
   "cell_type": "code",
   "execution_count": 37,
   "metadata": {},
   "outputs": [
    {
     "name": "stdout",
     "output_type": "stream",
     "text": [
      "5\n",
      "1 2 3 4\n",
      "5 5\n",
      "4 4\n",
      "3 3\n",
      "2 2\n",
      "1 1\n",
      "5\n"
     ]
    }
   ],
   "source": [
    "import sys\n",
    "input = lambda: sys.stdin.readline().rstrip()\n",
    "\n",
    "## PYRIVAL BOOTSTRAP\n",
    "# https://github.com/cheran-senthil/PyRival/blob/master/pyrival/misc/bootstrap.py\n",
    "# This decorator allows for recursion without actually doing recursion\n",
    "## @bootstrap, yield when getting and returning value in recursive functions, end of functions\n",
    "from types import GeneratorType\n",
    "\n",
    "def bootstrap(f, stack=[]):\n",
    "    def wrappedfunc(*args, **kwargs):\n",
    "        if stack:\n",
    "            return f(*args, **kwargs)\n",
    "        else:\n",
    "            to = f(*args, **kwargs)\n",
    "            while True:\n",
    "                if type(to) is GeneratorType:\n",
    "                    stack.append(to)\n",
    "                    to = next(to)\n",
    "                else:\n",
    "                    stack.pop()\n",
    "                    if not stack:\n",
    "                        break\n",
    "                    to = stack[-1].send(to)\n",
    "            return to\n",
    "    return wrappedfunc\n",
    "\n",
    "@bootstrap\n",
    "def dfs(value):\n",
    "    global leaf_count\n",
    "    global added\n",
    "    \n",
    "    if not li[value]:\n",
    "        leaf_count += 1\n",
    "        yield conds[value][1]\n",
    "    \n",
    "    temp = 0\n",
    "    for v in li[value]:\n",
    "        temp += yield dfs(v)\n",
    "        \n",
    "    if conds[value][0] <= temp <= conds[value][1]:\n",
    "        yield temp\n",
    "    elif conds[value][1] < temp:\n",
    "        yield conds[value][1]\n",
    "    else:\n",
    "        added += 1\n",
    "        yield conds[value][1]\n",
    "        \n",
    "get_value = lambda x: int(x) - 1\n",
    "        \n",
    "for _ in range(int(input())):\n",
    "    n = int(input())\n",
    "    ps = [0] + list(map(get_value, input().split()))\n",
    "    conds = [list(map(int, input().split())) for _ in range(n)]\n",
    "\n",
    "    li = [[] for _ in range(n)]\n",
    "    for i in range(1, n):\n",
    "        li[ps[i]].append(i)\n",
    "\n",
    "    leaf_count = 0\n",
    "    added = 0\n",
    "    dfs(0)\n",
    "\n",
    "    r = leaf_count + added\n",
    "    print(r)"
   ]
  },
  {
   "cell_type": "markdown",
   "metadata": {},
   "source": [
    "E"
   ]
  },
  {
   "cell_type": "code",
   "execution_count": null,
   "metadata": {},
   "outputs": [],
   "source": [
    "이동은 항상 최대한 오래 걸리는 쪽으로 하게 됨\n",
    "\n",
    "출발하기 전에 블럭이 필요한 곳은 모두 블럭해 놓으면 될 것\n",
    "- 참고로 경로 중간에 사이클 있으면 무한으로 돌 수도 있음\n",
    "\n",
    "가중치가 없으므로 다익스트라가 아니라 bfs 써도 될 것"
   ]
  },
  {
   "cell_type": "code",
   "execution_count": null,
   "metadata": {},
   "outputs": [],
   "source": [
    "bfs로 적게 갈 수 있는 곳으로 가버리는 모든 간선 제거 가능\n",
    "dfs로 e에 도착하지 못하는 간선 제거 가능\n",
    "dfs로 만약 분기가 많으면 최소 거리 + 분기 수를 넘겨주게 됨"
   ]
  },
  {
   "cell_type": "code",
   "execution_count": 52,
   "metadata": {},
   "outputs": [
    {
     "name": "stdout",
     "output_type": "stream",
     "text": [
      "5 7\n",
      "1 2\n",
      "2 3\n",
      "3 5\n",
      "1 4\n",
      "4 3\n",
      "4 5\n",
      "3 1\n",
      "[set(), {2, 4}, {3}, {1, 5}, {3, 5}, set()]\n",
      "[set(), {2, 4}, set(), {5}, {5}, set()]\n",
      "[set(), {4}, set(), {5}, {5}, set()]\n",
      "2\n"
     ]
    }
   ],
   "source": [
    "from collections import deque\n",
    "\n",
    "inf = float('inf')\n",
    "\n",
    "def dfs(value):\n",
    "    global tds\n",
    "    \n",
    "    if value == n:\n",
    "        is_met = True\n",
    "        return True\n",
    "    \n",
    "    is_met = False\n",
    "    for v in li[value]:\n",
    "        is_met = any([is_met, dfs(v)])\n",
    "    \n",
    "    if not is_met:\n",
    "        tds.append(value)\n",
    "    return is_met\n",
    "\n",
    "def dfs2(value):\n",
    "    if value == n:\n",
    "        return 1\n",
    "    \n",
    "    min_v = inf\n",
    "    c = len(li[value])\n",
    "    for v in li[value]:\n",
    "        min_v = min(min_v, dfs2(v))\n",
    "        \n",
    "    return min_v + c - 1 + 1\n",
    "    \n",
    "n, m = map(int, input().split())\n",
    "\n",
    "li = [set() for _ in range(n + 1)]\n",
    "rli = [set() for _ in range(n + 1)]\n",
    "for _ in range(m):\n",
    "    u, v = map(int, input().split())\n",
    "    li[u].add(v)\n",
    "    rli[v].add(u)\n",
    "    \n",
    "vt = [False] * (n + 1)\n",
    "vt[1] = True\n",
    "queue = deque()\n",
    "queue.append(1)\n",
    "tds = []\n",
    "while queue:\n",
    "    value = queue.popleft()\n",
    "    for v in li[value]:\n",
    "        if vt[v]:\n",
    "            if v != n:\n",
    "                tds.append(v)\n",
    "        else:\n",
    "            vt[v] = True\n",
    "            queue.append(v)\n",
    "    \n",
    "for v in tds:\n",
    "    for value in rli[v]:\n",
    "        li[value].discard(v)\n",
    "\n",
    "        \n",
    "tds = []\n",
    "dfs(1)\n",
    "for v in tds:\n",
    "    for value in rli[v]:\n",
    "        li[value].discard(v)\n",
    "    \n",
    "r = dfs2(1)\n",
    "\n",
    "print(r)"
   ]
  },
  {
   "cell_type": "code",
   "execution_count": null,
   "metadata": {},
   "outputs": [],
   "source": []
  },
  {
   "cell_type": "code",
   "execution_count": 48,
   "metadata": {},
   "outputs": [
    {
     "data": {
      "text/plain": [
       "[set(), set(), set(), set(), set()]"
      ]
     },
     "execution_count": 48,
     "metadata": {},
     "output_type": "execute_result"
    }
   ],
   "source": [
    "li"
   ]
  },
  {
   "cell_type": "code",
   "execution_count": 42,
   "metadata": {},
   "outputs": [
    {
     "data": {
      "text/plain": [
       "[set(), {2}, set()]"
      ]
     },
     "execution_count": 42,
     "metadata": {},
     "output_type": "execute_result"
    }
   ],
   "source": [
    "li"
   ]
  }
 ],
 "metadata": {
  "kernelspec": {
   "display_name": "Python 3",
   "language": "python",
   "name": "python3"
  },
  "language_info": {
   "codemirror_mode": {
    "name": "ipython",
    "version": 3
   },
   "file_extension": ".py",
   "mimetype": "text/x-python",
   "name": "python",
   "nbconvert_exporter": "python",
   "pygments_lexer": "ipython3",
   "version": "3.7.4"
  }
 },
 "nbformat": 4,
 "nbformat_minor": 2
}
