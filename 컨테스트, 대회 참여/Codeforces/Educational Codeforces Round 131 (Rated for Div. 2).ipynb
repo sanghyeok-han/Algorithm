{
 "cells": [
  {
   "cell_type": "markdown",
   "metadata": {},
   "source": [
    "A"
   ]
  },
  {
   "cell_type": "code",
   "execution_count": 6,
   "metadata": {},
   "outputs": [
    {
     "name": "stdout",
     "output_type": "stream",
     "text": [
      "1 1\n",
      "1 1\n",
      "2\n"
     ]
    }
   ],
   "source": [
    "import sys\n",
    "input = lambda: sys.stdin.readline().rstrip()\n",
    "\n",
    "for _ in range(int(input())):\n",
    "    li = [list(map(int, input().split())) for _ in range(2)]\n",
    "\n",
    "    sv = sum(sum(li, []))\n",
    "\n",
    "    if sv == 4:\n",
    "        print(2)\n",
    "    elif sv >= 1:\n",
    "        print(1)\n",
    "    else:\n",
    "        print(0)"
   ]
  },
  {
   "cell_type": "markdown",
   "metadata": {},
   "source": [
    "B"
   ]
  },
  {
   "cell_type": "code",
   "execution_count": 11,
   "metadata": {},
   "outputs": [
    {
     "name": "stdout",
     "output_type": "stream",
     "text": [
      "9\n",
      "2\n",
      "1 2 4 8 3 6 5 7 9\n"
     ]
    }
   ],
   "source": [
    "import sys\n",
    "input = lambda: sys.stdin.readline().rstrip()\n",
    "\n",
    "for _ in range(int(input())):\n",
    "    n = int(input())\n",
    "\n",
    "    print(2)\n",
    "    vt = [False] * (n + 1)\n",
    "    r = []\n",
    "    for num in range(1, n + 1):\n",
    "        if vt[num]:\n",
    "            continue\n",
    "        vt[num] = True\n",
    "        r.append(num)\n",
    "\n",
    "        nnum = num\n",
    "        while True:\n",
    "            nnum *= 2\n",
    "            if nnum > n:\n",
    "                break\n",
    "            vt[nnum] = True\n",
    "            r.append(nnum)\n",
    "\n",
    "    print(*r)"
   ]
  },
  {
   "cell_type": "markdown",
   "metadata": {},
   "source": [
    "C"
   ]
  },
  {
   "cell_type": "code",
   "execution_count": 15,
   "metadata": {},
   "outputs": [
    {
     "name": "stdout",
     "output_type": "stream",
     "text": [
      "1 1\n",
      "1\n",
      "1\n"
     ]
    }
   ],
   "source": [
    "from collections import Counter\n",
    "import sys\n",
    "input = lambda: sys.stdin.readline().rstrip()\n",
    "\n",
    "for _ in range(int(input())):\n",
    "    n, m = map(int, input().split())\n",
    "    ct = Counter(map(int, input().split()))\n",
    "\n",
    "    start = 1\n",
    "    end = 500000\n",
    "    r = 500000\n",
    "    while start <= end:\n",
    "        mid = (start + end) // 2\n",
    "\n",
    "        to_do_other = 0\n",
    "        remained_task = 0\n",
    "        for num in range(1, n + 1):\n",
    "            if num not in ct:\n",
    "                to_do_other += mid // 2\n",
    "            else:\n",
    "                if ct[num] < mid:\n",
    "                    to_do_other += (mid - ct[num]) // 2\n",
    "                elif ct[num] > mid:\n",
    "                    remained_task += ct[num] - mid\n",
    "\n",
    "        if remained_task <= to_do_other:\n",
    "            r = mid\n",
    "            end = mid - 1\n",
    "        else:\n",
    "            start = mid + 1\n",
    "\n",
    "    print(r)"
   ]
  },
  {
   "cell_type": "code",
   "execution_count": null,
   "metadata": {},
   "outputs": [],
   "source": [
    "1 1 1 2 2\n",
    "\n",
    "1 2\n",
    "1 2\n",
    "1\n",
    "\n",
    "1 1 1 2 2"
   ]
  },
  {
   "cell_type": "code",
   "execution_count": null,
   "metadata": {},
   "outputs": [],
   "source": [
    "모두가 쉬는 것보다는 일하는게 이득"
   ]
  },
  {
   "cell_type": "markdown",
   "metadata": {},
   "source": [
    "D"
   ]
  },
  {
   "cell_type": "code",
   "execution_count": null,
   "metadata": {},
   "outputs": [],
   "source": [
    "1 2 3 4\n",
    "2 1 4 3\n",
    "\n",
    "0 2 0 1\n",
    "\n",
    "\n",
    "1 2 3 4 5\n",
    "3 4 2 1 5\n",
    "\n",
    "0 0 1 4 1"
   ]
  },
  {
   "cell_type": "code",
   "execution_count": 35,
   "metadata": {},
   "outputs": [
    {
     "name": "stdout",
     "output_type": "stream",
     "text": [
      "5\n",
      "0 0 1 4 1\n",
      "3 4 2 1 5\n"
     ]
    }
   ],
   "source": [
    "import sys\n",
    "input = lambda: sys.stdin.readline().rstrip()\n",
    "\n",
    "## PYRIVAL BOOTSTRAP\n",
    "# https://github.com/cheran-senthil/PyRival/blob/master/pyrival/misc/bootstrap.py\n",
    "# This decorator allows for recursion without actually doing recursion\n",
    "## @bootstrap, yield when getting and returning value in recursive functions, end of functions\n",
    "from types import GeneratorType\n",
    "\n",
    "def bootstrap(f, stack=[]):\n",
    "    def wrappedfunc(*args, **kwargs):\n",
    "        if stack:\n",
    "            return f(*args, **kwargs)\n",
    "        else:\n",
    "            to = f(*args, **kwargs)\n",
    "            while True:\n",
    "                if type(to) is GeneratorType:\n",
    "                    stack.append(to)\n",
    "                    to = next(to)\n",
    "                else:\n",
    "                    stack.pop()\n",
    "                    if not stack:\n",
    "                        break\n",
    "                    to = stack[-1].send(to)\n",
    "            return to\n",
    "    return wrappedfunc\n",
    "\n",
    "@bootstrap\n",
    "def find(v):\n",
    "    if parent[v] == v:\n",
    "        yield v\n",
    "    parent[v] = yield find(parent[v])\n",
    "    \n",
    "    yield parent[v]\n",
    "\n",
    "def union(a, b):\n",
    "    if a > b:\n",
    "        a, b = b, a\n",
    "    \n",
    "    parent[a] = b\n",
    "\n",
    "for _ in range(int(input())):\n",
    "    n = int(input())\n",
    "    b = list(map(int, input().split()))\n",
    "\n",
    "    intvs = []\n",
    "    for i in range(n):\n",
    "        nu = i + 1\n",
    "\n",
    "        max_po = 1\n",
    "        start = 1\n",
    "        end = n\n",
    "        while start <= end:\n",
    "            av = (start + end) // 2\n",
    "            if av * b[i] <= nu:\n",
    "                max_po = av\n",
    "                start = av + 1\n",
    "            else:\n",
    "                end = av - 1\n",
    "\n",
    "        min_po = n\n",
    "        start = 1\n",
    "        end = n\n",
    "        while start <= end:\n",
    "            av = (start + end) // 2\n",
    "            if nu < av * (b[i] + 1):\n",
    "                min_po = av\n",
    "                end = av - 1\n",
    "            else:\n",
    "                start = av + 1\n",
    "\n",
    "        intvs.append([min_po, max_po, nu])\n",
    "\n",
    "    intvs.sort(key=lambda x: x[1])\n",
    "    parent = list(range(n + 2))\n",
    "\n",
    "    r = [0] * n\n",
    "    for i in range(n):\n",
    "        cur = intvs[i][0]\n",
    "        rcur = find(cur)\n",
    "\n",
    "        union(rcur, find(rcur + 1))\n",
    "\n",
    "        index = intvs[i][2] - 1\n",
    "        r[index] = rcur\n",
    "\n",
    "    print(*r)"
   ]
  },
  {
   "cell_type": "code",
   "execution_count": null,
   "metadata": {},
   "outputs": [],
   "source": [
    "intv = [[1, 5, 1], [1, 5, 2], [1, 5, 3], [1, 5, 3]]"
   ]
  },
  {
   "cell_type": "code",
   "execution_count": null,
   "metadata": {},
   "outputs": [],
   "source": [
    "1         2        3         4        5\n",
    "\n",
    "2,3,4,5  3,4,5    2,3       1       3,4,5\n",
    "\n",
    "0       0           1       4         1"
   ]
  },
  {
   "cell_type": "code",
   "execution_count": null,
   "metadata": {},
   "outputs": [],
   "source": [
    "1,2,3,4,5   1,2,3,4,5   2,3,4   2,3,4   2,3,4"
   ]
  },
  {
   "cell_type": "code",
   "execution_count": null,
   "metadata": {},
   "outputs": [],
   "source": [
    "1 2    1 2 3 4 5      1 2 3 4 5    1 2 3 4 5    1 2"
   ]
  },
  {
   "cell_type": "markdown",
   "metadata": {},
   "source": [
    "E"
   ]
  },
  {
   "cell_type": "code",
   "execution_count": null,
   "metadata": {},
   "outputs": [],
   "source": []
  }
 ],
 "metadata": {
  "kernelspec": {
   "display_name": "Python 3",
   "language": "python",
   "name": "python3"
  },
  "language_info": {
   "codemirror_mode": {
    "name": "ipython",
    "version": 3
   },
   "file_extension": ".py",
   "mimetype": "text/x-python",
   "name": "python",
   "nbconvert_exporter": "python",
   "pygments_lexer": "ipython3",
   "version": "3.7.4"
  }
 },
 "nbformat": 4,
 "nbformat_minor": 2
}
