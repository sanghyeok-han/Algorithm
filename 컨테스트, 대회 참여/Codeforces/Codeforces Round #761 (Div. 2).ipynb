{
 "cells": [
  {
   "cell_type": "code",
   "execution_count": 3,
   "metadata": {},
   "outputs": [],
   "source": [
    "ip = lambda: input()\n",
    "iip = lambda: int(input())\n",
    "miip = lambda: map(int, input().split())\n",
    "liip = lambda: list(map(int, input().split()))\n",
    "sip = lambda: input().split() # splitted input\n",
    "lip = lambda: list(input())"
   ]
  },
  {
   "cell_type": "markdown",
   "metadata": {},
   "source": [
    "A"
   ]
  },
  {
   "cell_type": "code",
   "execution_count": null,
   "metadata": {},
   "outputs": [],
   "source": [
    "aaaacbb"
   ]
  },
  {
   "cell_type": "code",
   "execution_count": 7,
   "metadata": {},
   "outputs": [
    {
     "name": "stdout",
     "output_type": "stream",
     "text": [
      "abacaba\n",
      "abc\n"
     ]
    }
   ],
   "source": [
    "s = ip()\n",
    "n = len(s)\n",
    "li = sorted(s)\n",
    "\n",
    "t = ip()"
   ]
  },
  {
   "cell_type": "code",
   "execution_count": 29,
   "metadata": {},
   "outputs": [
    {
     "name": "stdout",
     "output_type": "stream",
     "text": [
      "a\n",
      "abc\n",
      "a\n"
     ]
    }
   ],
   "source": [
    "def check():\n",
    "    cur_check = 0\n",
    "    \n",
    "    mid_start = -1\n",
    "    last_start = -1\n",
    "    for i in range(n):\n",
    "        if li[i] == t[cur_check]:\n",
    "            if cur_check == 1:\n",
    "                mid_start = i\n",
    "            elif cur_check == 2:\n",
    "                last_start = i\n",
    "            \n",
    "            cur_check += 1\n",
    "            if cur_check == 3:\n",
    "                return True, mid_start, last_start\n",
    "            \n",
    "    return False, mid_start, last_start\n",
    "\n",
    "s = ip()\n",
    "n = len(s)\n",
    "li = sorted(s)\n",
    "\n",
    "t = ip()\n",
    "\n",
    "r, ms, ls = check()\n",
    "if not r:\n",
    "    print(''.join(li))\n",
    "else:\n",
    "    to_remove = set()\n",
    "    for i in range(ls, n):\n",
    "        if li[i] == t[2]:\n",
    "            to_remove.add(i)\n",
    "        \n",
    "    count = len(to_remove)\n",
    "    li = [v for i, v in enumerate(li) if i not in to_remove]\n",
    "    li[ms:ms] = [t[2]] * count\n",
    "    \n",
    "    print(''.join(li))"
   ]
  },
  {
   "cell_type": "markdown",
   "metadata": {},
   "source": [
    "B"
   ]
  },
  {
   "cell_type": "code",
   "execution_count": 30,
   "metadata": {},
   "outputs": [
    {
     "data": {
      "text/plain": [
       "1"
      ]
     },
     "execution_count": 30,
     "metadata": {},
     "output_type": "execute_result"
    }
   ],
   "source": [
    "from math import gcd\n",
    "\n",
    "for _ in range(iip()):\n",
    "    n = iip()\n",
    "    \n",
    "    n "
   ]
  },
  {
   "cell_type": "code",
   "execution_count": 55,
   "metadata": {},
   "outputs": [
    {
     "name": "stdout",
     "output_type": "stream",
     "text": [
      "3 41 1\n",
      "5 39 1\n",
      "7 37 1\n",
      "9 33 3\n",
      "9 35 1\n",
      "13 31 1\n",
      "15 25 5\n",
      "15 27 3\n",
      "15 29 1\n",
      "17 27 1\n",
      "19 25 1\n",
      "21 23 1\n"
     ]
    }
   ],
   "source": [
    "n = 45\n",
    "\n",
    "for a in range(n):\n",
    "    for b in range(n):\n",
    "        for c in range(n):\n",
    "            if len(set((a, b, c))) == 3 and a + b + c == n and gcd(a, b) == c:\n",
    "                if a < b:\n",
    "                    print(a, b, c)"
   ]
  },
  {
   "cell_type": "code",
   "execution_count": null,
   "metadata": {},
   "outputs": [],
   "source": [
    "primes = [2, 3, 5, 7, 11, 13, 17, 19, 23, 29, 31, 37, 41, 43]\n",
    "\n",
    "for _ in range(int(input())):\n",
    "    n = int(input(()))\n",
    "\n",
    "    if n % 2 == 0:\n",
    "        print(n // 2, n // 2 - 1, 1)\n",
    "    else:\n",
    "        for p in primes:\n",
    "            if gcd(p, n - p - 1) == 1:\n",
    "                print(p, n - p - 1, 1)\n",
    "                break"
   ]
  },
  {
   "cell_type": "markdown",
   "metadata": {},
   "source": [
    "C"
   ]
  },
  {
   "cell_type": "code",
   "execution_count": null,
   "metadata": {},
   "outputs": [],
   "source": [
    "1 4 5"
   ]
  },
  {
   "cell_type": "code",
   "execution_count": 126,
   "metadata": {},
   "outputs": [
    {
     "name": "stdout",
     "output_type": "stream",
     "text": [
      "1 {0} 0 0\n",
      "2 {0} 0 0\n",
      "3 {0, 1} 1 1\n",
      "4 {0, 1} 1 1\n",
      "5 {0, 1, 2} 2 2\n",
      "6 {0, 1, 2} 2 2\n",
      "7 {0, 1, 2, 3} 3 3\n",
      "8 {0, 1, 2, 3} 3 3\n",
      "9 {0, 1, 2, 3, 4} 4 4\n",
      "10 {0, 1, 2, 3, 4} 4 4\n",
      "11 {0, 1, 2, 3, 4, 5} 5 5\n",
      "12 {0, 1, 2, 3, 4, 5} 5 5\n",
      "13 {0, 1, 2, 3, 4, 5, 6} 6 6\n",
      "14 {0, 1, 2, 3, 4, 5, 6} 6 6\n",
      "15 {0, 1, 2, 3, 4, 5, 6, 7} 7 7\n",
      "16 {0, 1, 2, 3, 4, 5, 6, 7} 7 7\n",
      "17 {0, 1, 2, 3, 4, 5, 6, 7, 8} 8 8\n",
      "18 {0, 1, 2, 3, 4, 5, 6, 7, 8} 8 8\n",
      "19 {0, 1, 2, 3, 4, 5, 6, 7, 8, 9} 9 9\n",
      "20 {0, 1, 2, 3, 4, 5, 6, 7, 8, 9} 9 9\n",
      "21 {0, 1, 2, 3, 4, 5, 6, 7, 8, 9, 10} 10 10\n",
      "22 {0, 1, 2, 3, 4, 5, 6, 7, 8, 9, 10} 10 10\n",
      "23 {0, 1, 2, 3, 4, 5, 6, 7, 8, 9, 10, 11} 11 11\n",
      "24 {0, 1, 2, 3, 4, 5, 6, 7, 8, 9, 10, 11} 11 11\n",
      "25 {0, 1, 2, 3, 4, 5, 6, 7, 8, 9, 10, 11, 12} 12 12\n",
      "26 {0, 1, 2, 3, 4, 5, 6, 7, 8, 9, 10, 11, 12} 12 12\n",
      "27 {0, 1, 2, 3, 4, 5, 6, 7, 8, 9, 10, 11, 12, 13} 13 13\n",
      "28 {0, 1, 2, 3, 4, 5, 6, 7, 8, 9, 10, 11, 12, 13} 13 13\n",
      "29 {0, 1, 2, 3, 4, 5, 6, 7, 8, 9, 10, 11, 12, 13, 14} 14 14\n"
     ]
    }
   ],
   "source": [
    "for n in range(1, 30):\n",
    "    st = set()\n",
    "    for mod in range(1, n + 1):\n",
    "        st.add(n % mod)\n",
    "    print(n, st, max(st), (n - 1) // 2)"
   ]
  },
  {
   "cell_type": "code",
   "execution_count": null,
   "metadata": {},
   "outputs": [],
   "source": [
    "1 % 2"
   ]
  },
  {
   "cell_type": "code",
   "execution_count": null,
   "metadata": {},
   "outputs": [],
   "source": [
    "8 3\n",
    "9 4\n",
    "10 4\n",
    "11 5"
   ]
  },
  {
   "cell_type": "code",
   "execution_count": 99,
   "metadata": {},
   "outputs": [
    {
     "data": {
      "text/plain": [
       "5"
      ]
     },
     "execution_count": 99,
     "metadata": {},
     "output_type": "execute_result"
    }
   ],
   "source": [
    "n = 11\n",
    "(n - 1) // 2"
   ]
  },
  {
   "cell_type": "code",
   "execution_count": 101,
   "metadata": {},
   "outputs": [
    {
     "name": "stdout",
     "output_type": "stream",
     "text": [
      "9\n",
      "1 2 3 4 18 19 5 6 7\n",
      "2\n"
     ]
    }
   ],
   "source": [
    "n = iip()\n",
    "li = sorted(miip())\n",
    "\n",
    "def check():\n",
    "    count = 0\n",
    "    for i in range(n):        \n",
    "        if li[i] == i + 1:\n",
    "            continue\n",
    "        else:\n",
    "            can_make = (li[i] - 1) // 2\n",
    "            if i + 1 <= can_make:\n",
    "                count += 1\n",
    "            else:\n",
    "                return -1\n",
    "    return count\n",
    "\n",
    "print(check())"
   ]
  },
  {
   "cell_type": "code",
   "execution_count": 137,
   "metadata": {},
   "outputs": [
    {
     "name": "stdout",
     "output_type": "stream",
     "text": [
      "1\n",
      "5\n",
      "20 30 40 60 20\n",
      "5\n"
     ]
    }
   ],
   "source": [
    "def check():\n",
    "    count = 0\n",
    "    \n",
    "    for i in range(len(nli)):        \n",
    "        if nli[i] == to_makes[i]:\n",
    "            continue\n",
    "        else:\n",
    "            can_make_limit = (nli[i] - 1) // 2\n",
    "            if to_makes[i] <= can_make_limit:\n",
    "                count += 1\n",
    "            else:\n",
    "                return -1\n",
    "    return count\n",
    "\n",
    "for _ in range(iip()):\n",
    "    n = iip()\n",
    "    li = list(miip())\n",
    "\n",
    "    to_makes = set(range(1, n + 1))\n",
    "    nli = []\n",
    "    for v in li:\n",
    "        if v in to_makes:\n",
    "            to_makes.discard(v)\n",
    "        else:\n",
    "            nli.append(v)\n",
    "\n",
    "    to_makes = sorted(to_makes)\n",
    "    nli.sort()\n",
    "\n",
    "    print(check())"
   ]
  },
  {
   "cell_type": "code",
   "execution_count": null,
   "metadata": {},
   "outputs": [],
   "source": [
    "5\n",
    "20 30 40 60 20\n",
    "[1, 2, 3, 4, 5] [20, 30, 40, 60]"
   ]
  },
  {
   "cell_type": "markdown",
   "metadata": {},
   "source": [
    "### 제출본"
   ]
  },
  {
   "cell_type": "code",
   "execution_count": null,
   "metadata": {},
   "outputs": [],
   "source": [
    "import os\n",
    "import sys\n",
    "from io import BytesIO, IOBase\n",
    "\n",
    "## PYRIVAL BOOTSTRAP\n",
    "# https://github.com/cheran-senthil/PyRival/blob/master/pyrival/misc/bootstrap.py\n",
    "# This decorator allows for recursion without actually doing recursion\n",
    "from types import GeneratorType\n",
    "## @bootstrap, yield when getting and returning value in recursive functions\n",
    "\n",
    "\n",
    "def main():\n",
    "    def check():\n",
    "        count = 0\n",
    "\n",
    "        for i in range(len(nli)):        \n",
    "            if nli[i] == to_makes[i]:\n",
    "                continue\n",
    "            else:\n",
    "                can_make_limit = (nli[i] - 1) // 2\n",
    "                if to_makes[i] <= can_make_limit:\n",
    "                    count += 1\n",
    "                else:\n",
    "                    return -1\n",
    "        return count\n",
    "\n",
    "    for _ in range(iip()):\n",
    "        n = iip()\n",
    "        li = list(miip())\n",
    "\n",
    "        to_makes = set(range(1, n + 1))\n",
    "        nli = []\n",
    "        for v in li:\n",
    "            if v in to_makes:\n",
    "                to_makes.discard(v)\n",
    "            else:\n",
    "                nli.append(v)\n",
    "\n",
    "        to_makes = sorted(to_makes)\n",
    "        nli.sort()\n",
    "\n",
    "        print(check())\n",
    "\n",
    "\n",
    "\n",
    "    \n",
    "# region fastio\n",
    " \n",
    "BUFSIZE = 8192\n",
    " \n",
    "\n",
    "class FastIO(IOBase):\n",
    "    newlines = 0\n",
    " \n",
    "    def __init__(self, file):\n",
    "        self._fd = file.fileno()\n",
    "        self.buffer = BytesIO()\n",
    "        self.writable = \"x\" in file.mode or \"r\" not in file.mode\n",
    "        self.write = self.buffer.write if self.writable else None\n",
    " \n",
    "    def read(self):\n",
    "        while True:\n",
    "            b = os.read(self._fd, max(os.fstat(self._fd).st_size, BUFSIZE))\n",
    "            if not b:\n",
    "                break\n",
    "            ptr = self.buffer.tell()\n",
    "            self.buffer.seek(0, 2), self.buffer.write(b), self.buffer.seek(ptr)\n",
    "        self.newlines = 0\n",
    "        return self.buffer.read()\n",
    " \n",
    "    def readline(self):\n",
    "        while self.newlines == 0:\n",
    "            b = os.read(self._fd, max(os.fstat(self._fd).st_size, BUFSIZE))\n",
    "            self.newlines = b.count(b\"\\n\") + (not b)\n",
    "            ptr = self.buffer.tell()\n",
    "            self.buffer.seek(0, 2), self.buffer.write(b), self.buffer.seek(ptr)\n",
    "        self.newlines -= 1\n",
    "        return self.buffer.readline()\n",
    " \n",
    "    def flush(self):\n",
    "        if self.writable:\n",
    "            os.write(self._fd, self.buffer.getvalue())\n",
    "            self.buffer.truncate(0), self.buffer.seek(0)\n",
    " \n",
    " \n",
    "class IOWrapper(IOBase):\n",
    "    def __init__(self, file):\n",
    "        self.buffer = FastIO(file)\n",
    "        self.flush = self.buffer.flush\n",
    "        self.writable = self.buffer.writable\n",
    "        self.write = lambda s: self.buffer.write(s.encode(\"ascii\"))\n",
    "        self.read = lambda: self.buffer.read().decode(\"ascii\")\n",
    "        self.readline = lambda: self.buffer.readline().decode(\"ascii\")\n",
    " \n",
    " \n",
    "sys.stdin, sys.stdout = IOWrapper(sys.stdin), IOWrapper(sys.stdout)\n",
    "input = lambda: sys.stdin.readline().rstrip(\"\\r\\n\")\n",
    " \n",
    "# endregion\n",
    " \n",
    "if __name__ == \"__main__\":\n",
    "    def bootstrap(f, stack=[]):\n",
    "        def wrappedfunc(*args, **kwargs):\n",
    "            if stack:\n",
    "                return f(*args, **kwargs)\n",
    "            else:\n",
    "                to = f(*args, **kwargs)\n",
    "                while True:\n",
    "                    if type(to) is GeneratorType:\n",
    "                        stack.append(to)\n",
    "                        to = next(to)\n",
    "                    else:\n",
    "                        stack.pop()\n",
    "                        if not stack:\n",
    "                            break\n",
    "                        to = stack[-1].send(to)\n",
    "                return to\n",
    "        return wrappedfunc\n",
    "    \n",
    "    ip = lambda: input()\n",
    "    iip = lambda: int(input())\n",
    "    miip = lambda: map(int, input().split())\n",
    "    liip = lambda: list(map(int, input().split()))\n",
    "    sip = lambda: input().split() # splitted input\n",
    "    lip = lambda: list(input())\n",
    "    \n",
    "    main()"
   ]
  }
 ],
 "metadata": {
  "kernelspec": {
   "display_name": "Python 3",
   "language": "python",
   "name": "python3"
  },
  "language_info": {
   "codemirror_mode": {
    "name": "ipython",
    "version": 3
   },
   "file_extension": ".py",
   "mimetype": "text/x-python",
   "name": "python",
   "nbconvert_exporter": "python",
   "pygments_lexer": "ipython3",
   "version": "3.7.3"
  }
 },
 "nbformat": 4,
 "nbformat_minor": 4
}
