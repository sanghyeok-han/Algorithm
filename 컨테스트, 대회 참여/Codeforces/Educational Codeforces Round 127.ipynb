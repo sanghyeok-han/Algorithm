{
 "cells": [
  {
   "cell_type": "code",
   "execution_count": null,
   "metadata": {},
   "outputs": [],
   "source": [
    "import sys\n",
    "# input = lambda: sys.stdin.readline().rstrip()"
   ]
  },
  {
   "cell_type": "markdown",
   "metadata": {},
   "source": [
    "A"
   ]
  },
  {
   "cell_type": "code",
   "execution_count": null,
   "metadata": {},
   "outputs": [],
   "source": [
    "2 3  2 3\n",
    "\n",
    "2개 이상 연속되어야 함"
   ]
  },
  {
   "cell_type": "code",
   "execution_count": 11,
   "metadata": {},
   "outputs": [
    {
     "name": "stdout",
     "output_type": "stream",
     "text": [
      "b\n",
      "NO\n"
     ]
    }
   ],
   "source": [
    "import sys\n",
    "input = lambda: sys.stdin.readline().rstrip()\n",
    "\n",
    "for _ in range(int(input())):\n",
    "    s = input()\n",
    "    n = len(s)\n",
    "\n",
    "    fv = ''\n",
    "    cont = 0\n",
    "    ip = True\n",
    "    for i in range(n):\n",
    "        if not fv:\n",
    "            fv = s[0]\n",
    "            cont = 1\n",
    "        else:\n",
    "            if s[i] == fv:\n",
    "                cont += 1\n",
    "            else:\n",
    "                if cont == 1:\n",
    "                    ip = False\n",
    "                    break\n",
    "                else:\n",
    "                    fv = s[i]\n",
    "                    cont = 1\n",
    "\n",
    "    if cont == 1:\n",
    "        ip = False\n",
    "\n",
    "    if ip:\n",
    "        print('YES')\n",
    "    else:\n",
    "        print('NO')"
   ]
  },
  {
   "cell_type": "markdown",
   "metadata": {},
   "source": [
    "B"
   ]
  },
  {
   "cell_type": "code",
   "execution_count": null,
   "metadata": {},
   "outputs": [],
   "source": [
    "import sys\n",
    "input = lambda: sys.stdin.readline().rstrip()\n",
    "\n",
    "for _ in range(int(input())):\n",
    "    n = int(input())\n",
    "    li = list(map(int, input().split()))\n",
    "\n",
    "    lc = True\n",
    "    rc = True\n",
    "    ip = True\n",
    "    for i in range(n - 1):\n",
    "        if li[i] + 1 < li[i + 1]:\n",
    "            if lc:\n",
    "                li[i] += 1\n",
    "                lc = False\n",
    "\n",
    "            if li[i] + 2 < li[i + 1]:\n",
    "                ip = False\n",
    "                break\n",
    "\n",
    "            if li[i] + 1 < li[i + 1]:\n",
    "                if rc:\n",
    "                    rc = False\n",
    "                else:\n",
    "                    ip = False\n",
    "                    break\n",
    "\n",
    "    if ip:\n",
    "        print('YES')\n",
    "    else:\n",
    "        print('NO')"
   ]
  },
  {
   "cell_type": "markdown",
   "metadata": {},
   "source": [
    "C"
   ]
  },
  {
   "cell_type": "code",
   "execution_count": 28,
   "metadata": {},
   "outputs": [
    {
     "name": "stdout",
     "output_type": "stream",
     "text": [
      "1 1\n",
      "1\n",
      "1\n"
     ]
    }
   ],
   "source": [
    "import sys\n",
    "input = lambda: sys.stdin.readline().rstrip()\n",
    "\n",
    "for _ in range(int(input())):\n",
    "    n, x = map(int, input().split())\n",
    "    li = sorted(map(int, input().split()))\n",
    "\n",
    "    r = 0\n",
    "    cumul = 0\n",
    "    c = 0\n",
    "    for i in range(n):\n",
    "        cumul += li[i]\n",
    "        c += 1\n",
    "\n",
    "        if cumul > x:\n",
    "            break\n",
    "        r += 1\n",
    "        r += (x - cumul) // c\n",
    "\n",
    "    print(r)"
   ]
  },
  {
   "cell_type": "code",
   "execution_count": null,
   "metadata": {},
   "outputs": [],
   "source": [
    "예산: 8\n",
    "\n",
    "초반 3, 2씩 올라감\n",
    "\n"
   ]
  },
  {
   "cell_type": "code",
   "execution_count": null,
   "metadata": {},
   "outputs": [],
   "source": [
    "3 5 7"
   ]
  },
  {
   "cell_type": "code",
   "execution_count": 24,
   "metadata": {},
   "outputs": [
    {
     "data": {
      "text/plain": [
       "2"
      ]
     },
     "execution_count": 24,
     "metadata": {},
     "output_type": "execute_result"
    }
   ],
   "source": [
    "8 - 8"
   ]
  },
  {
   "cell_type": "markdown",
   "metadata": {},
   "source": [
    "D"
   ]
  },
  {
   "cell_type": "code",
   "execution_count": 32,
   "metadata": {},
   "outputs": [
    {
     "name": "stdout",
     "output_type": "stream",
     "text": [
      "1\n",
      "1 5\n",
      "10\n",
      "9\n"
     ]
    }
   ],
   "source": [
    "import sys\n",
    "input = lambda: sys.stdin.readline().rstrip()\n",
    "\n",
    "inf = float('inf')\n",
    "\n",
    "for _ in range(int(input())):\n",
    "    n, x = map(int, input().split())\n",
    "    li = list(map(int, input().split()))\n",
    "\n",
    "    min_value = inf\n",
    "    max_value = -inf\n",
    "    r = 0\n",
    "    for i in range(n - 1):\n",
    "        min_value = min(min_value, li[i])\n",
    "        max_value = max(max_value, li[i])\n",
    "        r += abs(li[i] - li[i + 1])\n",
    "\n",
    "    min_value = min(min_value, li[-1])\n",
    "    max_value = max(max_value, li[-1])\n",
    "\n",
    "    if 2 <= min_value:\n",
    "        diff = min_value - 1\n",
    "        r += min(diff * 2, abs(li[0] - 1), abs(li[-1] - 1))\n",
    "    if max_value < x:\n",
    "        diff = x - max_value\n",
    "        r += min(diff * 2, abs(li[0] - x), abs(li[-1] - x))\n",
    "\n",
    "    print(r)"
   ]
  },
  {
   "cell_type": "markdown",
   "metadata": {},
   "source": [
    "E"
   ]
  },
  {
   "cell_type": "code",
   "execution_count": 36,
   "metadata": {},
   "outputs": [
    {
     "name": "stdout",
     "output_type": "stream",
     "text": [
      "4\n",
      "BAAAAAAAABBABAB\n",
      "1 A A\n",
      "2 A A\n",
      "3 A A\n",
      "4 A A\n",
      "5 B B\n",
      "6 A B\n",
      "7 A B\n",
      "4\n"
     ]
    }
   ],
   "source": [
    "mod = 998244353\n",
    "\n",
    "n = int(input())\n",
    "s = input()\n",
    "\n",
    "s = ' ' + s\n",
    "ns = len(s)\n",
    "c = 0\n",
    "for i in range(1, ns):\n",
    "    if i * 2 + 1 >= ns:\n",
    "        break\n",
    "    \n",
    "    print(i, s[i * 2], s[i * 2 + 1])\n",
    "    if s[i * 2] != s[i * 2 + 1]:\n",
    "        c += 1\n",
    "        \n",
    "r = pow(2, c, mod)\n",
    "\n",
    "print(r)"
   ]
  },
  {
   "cell_type": "code",
   "execution_count": 37,
   "metadata": {},
   "outputs": [
    {
     "data": {
      "text/plain": [
       "16"
      ]
     },
     "execution_count": 37,
     "metadata": {},
     "output_type": "execute_result"
    }
   ],
   "source": [
    "맨 앞이 다르면 뒤의 모든 경우의 수를 곱하면 됨\n",
    "맨 앞이 같으면"
   ]
  }
 ],
 "metadata": {
  "kernelspec": {
   "display_name": "Python 3",
   "language": "python",
   "name": "python3"
  },
  "language_info": {
   "codemirror_mode": {
    "name": "ipython",
    "version": 3
   },
   "file_extension": ".py",
   "mimetype": "text/x-python",
   "name": "python",
   "nbconvert_exporter": "python",
   "pygments_lexer": "ipython3",
   "version": "3.7.4"
  }
 },
 "nbformat": 4,
 "nbformat_minor": 4
}
