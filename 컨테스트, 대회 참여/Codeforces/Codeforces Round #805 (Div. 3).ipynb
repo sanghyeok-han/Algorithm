{
 "cells": [
  {
   "cell_type": "markdown",
   "metadata": {},
   "source": [
    "A"
   ]
  },
  {
   "cell_type": "code",
   "execution_count": null,
   "metadata": {},
   "outputs": [],
   "source": [
    "1 10 100 1000"
   ]
  },
  {
   "cell_type": "code",
   "execution_count": 4,
   "metadata": {},
   "outputs": [
    {
     "name": "stdout",
     "output_type": "stream",
     "text": [
      "20\n",
      "10\n"
     ]
    }
   ],
   "source": [
    "import sys\n",
    "input = lambda: sys.stdin.readline().rstrip()\n",
    "\n",
    "for _ in range(int(input())):\n",
    "    m = int(input())\n",
    "\n",
    "    cur = 1\n",
    "    r = 0\n",
    "    while True:\n",
    "        if cur > m:\n",
    "            cur //= 10\n",
    "            r = m - cur\n",
    "            break\n",
    "        cur *= 10\n",
    "\n",
    "    print(r)"
   ]
  },
  {
   "cell_type": "markdown",
   "metadata": {},
   "source": [
    "B"
   ]
  },
  {
   "cell_type": "code",
   "execution_count": 7,
   "metadata": {},
   "outputs": [
    {
     "name": "stdout",
     "output_type": "stream",
     "text": [
      "6\n",
      "lollipops\n",
      "2\n",
      "stringology\n",
      "4\n",
      "abracadabra\n",
      "3\n",
      "codeforces\n",
      "4\n",
      "test\n",
      "1\n",
      "f\n",
      "1\n"
     ]
    }
   ],
   "source": [
    "import sys\n",
    "# input = lambda: sys.stdin.readline().rstrip()\n",
    "\n",
    "for _ in range(int(input())):\n",
    "    s = input()\n",
    "    slen = len(s)\n",
    "\n",
    "    si = 0\n",
    "    total = 0\n",
    "    while si < slen:\n",
    "        total += 1\n",
    "\n",
    "        st = set()\n",
    "        while si < slen:\n",
    "            if s[si] in st:\n",
    "                si += 1\n",
    "            else:\n",
    "                if len(st) == 3:\n",
    "                    break\n",
    "                st.add(s[si])\n",
    "                si += 1\n",
    "\n",
    "    print(total)"
   ]
  },
  {
   "cell_type": "markdown",
   "metadata": {},
   "source": [
    "C"
   ]
  },
  {
   "cell_type": "code",
   "execution_count": 9,
   "metadata": {},
   "outputs": [
    {
     "name": "stdout",
     "output_type": "stream",
     "text": [
      "6 3\n",
      "3 7 1 5 1 4\n",
      "3 5\n",
      "YES\n",
      "1 7\n",
      "NO\n",
      "3 10\n",
      "NO\n"
     ]
    }
   ],
   "source": [
    "from collections import defaultdict as dd\n",
    "from random import randint\n",
    "import sys\n",
    "input = lambda: sys.stdin.readline().rstrip()\n",
    "\n",
    "rd = randint(1, int(1e9))\n",
    "\n",
    "for _ in range(int(input())):\n",
    "    input()\n",
    "    \n",
    "    n, k = map(int, input().split())\n",
    "    li = list(map(int, input().split()))\n",
    "\n",
    "    d = dd(list)\n",
    "    for i in range(n):\n",
    "        v = li[i] ^ rd\n",
    "        if v not in d:\n",
    "            d[v] = [i, i]\n",
    "        else:\n",
    "            d[v][1] = i\n",
    "\n",
    "    for _ in range(k):\n",
    "        a, b = map(int, input().split())\n",
    "\n",
    "        av = a ^ rd\n",
    "        bv = b ^ rd\n",
    "\n",
    "        ip = True\n",
    "        if av not in d or bv not in d:\n",
    "            ip = False\n",
    "\n",
    "        if ip:\n",
    "            if d[av][0] > d[bv][1]:\n",
    "                ip = False\n",
    "\n",
    "        if ip:\n",
    "            print('YES')\n",
    "        else:\n",
    "            print('NO')"
   ]
  },
  {
   "cell_type": "markdown",
   "metadata": {},
   "source": [
    "D"
   ]
  },
  {
   "cell_type": "code",
   "execution_count": 20,
   "metadata": {},
   "outputs": [
    {
     "name": "stdout",
     "output_type": "stream",
     "text": [
      "codeforces\n",
      "100\n",
      "codeforces\n"
     ]
    }
   ],
   "source": [
    "import sys\n",
    "input = lambda: sys.stdin.readline().rstrip()\n",
    "\n",
    "for _ in range(int(input())):\n",
    "    s = input()\n",
    "    n = len(s)\n",
    "    p = int(input())\n",
    "\n",
    "    li = [[ord(v) - 96, i] for i, v in enumerate(s)]\n",
    "    li.sort(key=lambda x: x[0])\n",
    "\n",
    "    cumul = 0\n",
    "    sli = [0] * n\n",
    "    for i in range(n):\n",
    "        cumul += li[i][0]\n",
    "        sli[i] = cumul\n",
    "\n",
    "    if sli[0] > p:\n",
    "        print()\n",
    "    else:\n",
    "        start = 0\n",
    "        end = n - 1\n",
    "        max_r = 0\n",
    "        while start <= end:\n",
    "            mid = (start + end) // 2\n",
    "\n",
    "            if sli[mid] <= p:\n",
    "                max_r = mid\n",
    "                start = mid + 1\n",
    "            else:\n",
    "                end = mid - 1\n",
    "\n",
    "        pos = []\n",
    "        for i in range(max_r + 1):\n",
    "            pos.append(li[i][1])\n",
    "        pos.sort()\n",
    "\n",
    "        result = []\n",
    "        for index in pos:\n",
    "            result.append(s[index])\n",
    "\n",
    "        print(''.join(result))"
   ]
  },
  {
   "cell_type": "markdown",
   "metadata": {},
   "source": [
    "E"
   ]
  },
  {
   "cell_type": "code",
   "execution_count": null,
   "metadata": {},
   "outputs": [],
   "source": [
    "만약 같은 수가 2개인 도미노가 있으면 바로 NO"
   ]
  },
  {
   "cell_type": "code",
   "execution_count": 57,
   "metadata": {},
   "outputs": [
    {
     "name": "stdout",
     "output_type": "stream",
     "text": [
      "8\n",
      "1 2\n",
      "2 1\n",
      "4 3\n",
      "5 3\n",
      "5 4\n",
      "6 7\n",
      "8 6\n",
      "7 8\n",
      "NO\n"
     ]
    }
   ],
   "source": [
    "from collections import defaultdict as dd, deque\n",
    "from random import randint\n",
    "import sys\n",
    "input = lambda: sys.stdin.readline().rstrip()\n",
    "\n",
    "rd = randint(1, int(1e9))\n",
    "\n",
    "for _ in range(int(input())):\n",
    "    n = int(input())\n",
    "    li = [set(map(int, input().split())) for _ in range(n)]\n",
    "\n",
    "    ip = True\n",
    "    d = dd(list)\n",
    "    for i in range(n):\n",
    "        if len(li[i]) == 1:\n",
    "            ip = False\n",
    "            break\n",
    "\n",
    "        for v in li[i]:\n",
    "            nv = v ^ rd\n",
    "            d[nv].append(i)\n",
    "            if len(d[nv]) >= 3:\n",
    "                ip = False\n",
    "                break\n",
    "\n",
    "        if not ip:\n",
    "            break\n",
    "\n",
    "    if not ip:\n",
    "        print('NO')\n",
    "    else:\n",
    "        vt = set()\n",
    "        eli_status = dd(lambda: -1)\n",
    "\n",
    "        for i in range(n):\n",
    "            if i in vt:\n",
    "                continue\n",
    "            vt.add(i)\n",
    "\n",
    "            queue = deque()\n",
    "            for v in li[i]:\n",
    "                nv = v ^ rd\n",
    "                eli_status[nv] = 0\n",
    "                queue.append([nv, 0])\n",
    "\n",
    "\n",
    "            while True:\n",
    "    #             print([(v ^ rd, loc) for v, loc in queue])\n",
    "                for _ in range(len(queue)):\n",
    "                    nv, loc = queue.popleft()\n",
    "\n",
    "                    for index in d[nv]:\n",
    "                        if index in vt:\n",
    "                            continue\n",
    "                        vt.add(index)\n",
    "\n",
    "                        for w in li[index]:\n",
    "                            nw = w ^ rd\n",
    "\n",
    "    #                         print(w, eli_status[nw])\n",
    "                            if eli_status[nw] == -1:\n",
    "                                eli_status[nw] = loc ^ 1\n",
    "                                queue.append([nw, loc ^ 1])\n",
    "                            else:\n",
    "                                if eli_status[nw] == loc ^ 1:\n",
    "                                    ip = False\n",
    "                                    break\n",
    "                    if not ip:\n",
    "                        break\n",
    "\n",
    "                if not ip:\n",
    "                    break\n",
    "                if not queue:\n",
    "                    break\n",
    "\n",
    "        if ip:\n",
    "            print('YES')\n",
    "        else:\n",
    "            print('NO')"
   ]
  },
  {
   "cell_type": "code",
   "execution_count": 50,
   "metadata": {},
   "outputs": [
    {
     "name": "stdout",
     "output_type": "stream",
     "text": [
      "1 0\n",
      "2 0\n",
      "3 -1\n",
      "4 0\n",
      "5 0\n"
     ]
    }
   ],
   "source": [
    "for i, v in eli_status.items():\n",
    "    print(i ^ rd, v)"
   ]
  },
  {
   "cell_type": "code",
   "execution_count": 28,
   "metadata": {},
   "outputs": [
    {
     "data": {
      "text/plain": [
       "defaultdict(list,\n",
       "            {223095721: [0, 2],\n",
       "             223095722: [0, 2],\n",
       "             223095723: [1, 3],\n",
       "             223095724: [1, 3]})"
      ]
     },
     "execution_count": 28,
     "metadata": {},
     "output_type": "execute_result"
    }
   ],
   "source": [
    "d"
   ]
  },
  {
   "cell_type": "code",
   "execution_count": 29,
   "metadata": {},
   "outputs": [
    {
     "data": {
      "text/plain": [
       "defaultdict(<function __main__.<lambda>()>,\n",
       "            {223095721: 0, 223095722: 0, 223095723: 0, 223095724: 0})"
      ]
     },
     "execution_count": 29,
     "metadata": {},
     "output_type": "execute_result"
    }
   ],
   "source": [
    "eli_status"
   ]
  },
  {
   "cell_type": "code",
   "execution_count": 26,
   "metadata": {},
   "outputs": [
    {
     "data": {
      "text/plain": [
       "defaultdict(list,\n",
       "            {848914120: [0, 2],\n",
       "             848914123: [0, 2],\n",
       "             848914122: [1, 3],\n",
       "             848914125: [1, 3]})"
      ]
     },
     "execution_count": 26,
     "metadata": {},
     "output_type": "execute_result"
    }
   ],
   "source": [
    "d"
   ]
  },
  {
   "cell_type": "code",
   "execution_count": null,
   "metadata": {},
   "outputs": [],
   "source": [
    "처음부터 순회하면서 원소들 보면서 현재 이 원소가 특정한 곳에 가야 하는데 서로 상충되면 NO\n",
    "그렇지 않으면 그곳으로 보내고 아직 "
   ]
  },
  {
   "cell_type": "code",
   "execution_count": 22,
   "metadata": {},
   "outputs": [
    {
     "data": {
      "text/plain": [
       "[{1, 2}, {3, 4}, {1, 2}, {3, 4}]"
      ]
     },
     "execution_count": 22,
     "metadata": {},
     "output_type": "execute_result"
    }
   ],
   "source": [
    "7 8  5 6                8 6"
   ]
  },
  {
   "cell_type": "markdown",
   "metadata": {},
   "source": [
    "G1"
   ]
  },
  {
   "cell_type": "code",
   "execution_count": 59,
   "metadata": {},
   "outputs": [
    {
     "name": "stdout",
     "output_type": "stream",
     "text": [
      "5\n",
      "1 2\n",
      "2 3\n",
      "2 4\n",
      "4 5\n",
      "1\n",
      "5\n",
      "1 2 3 4 5\n",
      "3 0\n",
      "5 0\n",
      "4 1\n",
      "2 2\n",
      "1 1\n",
      "YES\n"
     ]
    }
   ],
   "source": [
    "import sys\n",
    "input = lambda: sys.stdin.readline().rstrip()\n",
    "\n",
    "## PYRIVAL BOOTSTRAP\n",
    "# https://github.com/cheran-senthil/PyRival/blob/master/pyrival/misc/bootstrap.py\n",
    "# This decorator allows for recursion without actually doing recursion\n",
    "## @bootstrap, yield when getting and returning value in recursive functions, end of functions\n",
    "from types import GeneratorType\n",
    "\n",
    "def bootstrap(f, stack=[]):\n",
    "    def wrappedfunc(*args, **kwargs):\n",
    "        if stack:\n",
    "            return f(*args, **kwargs)\n",
    "        else:\n",
    "            to = f(*args, **kwargs)\n",
    "            while True:\n",
    "                if type(to) is GeneratorType:\n",
    "                    stack.append(to)\n",
    "                    to = next(to)\n",
    "                else:\n",
    "                    stack.pop()\n",
    "                    if not stack:\n",
    "                        break\n",
    "                    to = stack[-1].send(to)\n",
    "            return to\n",
    "    return wrappedfunc\n",
    "\n",
    "@bootstrap\n",
    "def dfs(value, depth):\n",
    "    global merged_c\n",
    "    global merged_depth\n",
    "    vt[value] = True\n",
    "    \n",
    "    tc = 0\n",
    "    for v in li[value]:\n",
    "        if vt[v]:\n",
    "            continue\n",
    "        vt[v] = True\n",
    "        \n",
    "        tc += yield dfs(v, depth + 1)\n",
    "        \n",
    "#     print(value, tc)\n",
    "    if tc >= 3:\n",
    "        merged_c = 100\n",
    "    elif tc == 2:\n",
    "        merged_c += 1\n",
    "        merged_depth = depth\n",
    "        \n",
    "    if merged_depth != -1 and value in st and merged_depth != depth:\n",
    "        merged_c = 100\n",
    "        \n",
    "    if tc or value in st:\n",
    "        yield True\n",
    "    yield False\n",
    "\n",
    "n = int(input())\n",
    "\n",
    "li = [[] for _ in range(n + 1)]\n",
    "for _ in range(n - 1):\n",
    "    u, v = map(int, input().split())\n",
    "    li[u].append(v)\n",
    "    li[v].append(u)\n",
    "    \n",
    "q = int(input())\n",
    "for _ in range(q):\n",
    "    k = int(input())\n",
    "    st = set(map(int, input().split()))\n",
    "    \n",
    "    merged_c = 0\n",
    "    merged_depth = -1\n",
    "    vt = [False] * (n + 1)\n",
    "    dfs(1, 0)\n",
    "    if merged_c >= 2:\n",
    "        print('NO')\n",
    "    else:\n",
    "        print('YES')"
   ]
  },
  {
   "cell_type": "markdown",
   "metadata": {},
   "source": [
    "F"
   ]
  },
  {
   "cell_type": "code",
   "execution_count": null,
   "metadata": {},
   "outputs": [],
   "source": [
    "from random import randint\n",
    "import sys\n",
    "input = lambda: sys.stdin.readline().rstrip()\n",
    "\n",
    "rd = randint(1, int(1e9))\n",
    "\n",
    "for _ in range(int(input())):\n",
    "    n = int(input())\n",
    "    a = map(int, input().split())\n",
    "    b = sorted(map(int, input().split()), reverse=True)\n",
    "\n",
    "    ad = dict()\n",
    "    for v in a:\n",
    "        nv = v ^ rd\n",
    "\n",
    "        if nv not in ad:\n",
    "            ad[nv] = 1\n",
    "        else:\n",
    "            ad[nv] += 1\n",
    "\n",
    "    cri = int(1e9) + 1\n",
    "    for v in b:\n",
    "        is_found = False\n",
    "        while True:\n",
    "            nv = v\n",
    "            while True:\n",
    "                nnv = nv ^ rd\n",
    "                if nnv in ad and ad[nnv] >= 1:\n",
    "                    ad[nnv] -= 1\n",
    "                    is_found = True\n",
    "                    break\n",
    "                nv *= 2\n",
    "                if nv > cri:\n",
    "                    break\n",
    "\n",
    "            if is_found:\n",
    "                break\n",
    "\n",
    "            v //= 2\n",
    "            if v == 0:\n",
    "                break\n",
    "\n",
    "    ip = True\n",
    "    for key in ad:\n",
    "        if ad[key] >= 1:\n",
    "            ip = False\n",
    "            break\n",
    "\n",
    "    if ip:\n",
    "        print('YES')\n",
    "    else:\n",
    "        print('NO')"
   ]
  },
  {
   "cell_type": "markdown",
   "metadata": {},
   "source": [
    "G2"
   ]
  },
  {
   "cell_type": "code",
   "execution_count": null,
   "metadata": {},
   "outputs": [],
   "source": [
    "import sys\n",
    "input = lambda: sys.stdin.readline().rstrip()\n",
    "\n",
    "## PYRIVAL BOOTSTRAP\n",
    "# https://github.com/cheran-senthil/PyRival/blob/master/pyrival/misc/bootstrap.py\n",
    "# This decorator allows for recursion without actually doing recursion\n",
    "## @bootstrap, yield when getting and returning value in recursive functions, end of functions\n",
    "from types import GeneratorType\n",
    "\n",
    "def bootstrap(f, stack=[]):\n",
    "    def wrappedfunc(*args, **kwargs):\n",
    "        if stack:\n",
    "            return f(*args, **kwargs)\n",
    "        else:\n",
    "            to = f(*args, **kwargs)\n",
    "            while True:\n",
    "                if type(to) is GeneratorType:\n",
    "                    stack.append(to)\n",
    "                    to = next(to)\n",
    "                else:\n",
    "                    stack.pop()\n",
    "                    if not stack:\n",
    "                        break\n",
    "                    to = stack[-1].send(to)\n",
    "            return to\n",
    "    return wrappedfunc\n",
    "\n",
    "@bootstrap\n",
    "def dfs(value, depth):\n",
    "    global merged_c\n",
    "    global merged_depth\n",
    "    vt[value] = True\n",
    "    \n",
    "    tc = 0\n",
    "    for v in li[value]:\n",
    "        if vt[v]:\n",
    "            continue\n",
    "        vt[v] = True\n",
    "        \n",
    "        tc += yield dfs(v, depth + 1)\n",
    "        \n",
    "#     print(value, tc)\n",
    "    if tc >= 3:\n",
    "        merged_c = 100\n",
    "    elif tc == 2:\n",
    "        merged_c += 1\n",
    "        merged_depth = depth\n",
    "        \n",
    "    if merged_depth != -1 and value in st and merged_depth != depth:\n",
    "        merged_c = 100\n",
    "        \n",
    "    if tc or value in st:\n",
    "        yield True\n",
    "    yield False\n",
    "\n",
    "n = int(input())\n",
    "\n",
    "li = [[] for _ in range(n + 1)]\n",
    "for _ in range(n - 1):\n",
    "    u, v = map(int, input().split())\n",
    "    li[u].append(v)\n",
    "    li[v].append(u)\n",
    "    \n",
    "q = int(input())\n",
    "for _ in range(q):\n",
    "    k = int(input())\n",
    "    st = set(map(int, input().split()))\n",
    "    \n",
    "    merged_c = 0\n",
    "    merged_depth = -1\n",
    "    vt = [False] * (n + 1)\n",
    "    dfs(1, 0)\n",
    "    if merged_c >= 2:\n",
    "        print('NO')\n",
    "    else:\n",
    "        print('YES')"
   ]
  }
 ],
 "metadata": {
  "kernelspec": {
   "display_name": "Python 3",
   "language": "python",
   "name": "python3"
  },
  "language_info": {
   "codemirror_mode": {
    "name": "ipython",
    "version": 3
   },
   "file_extension": ".py",
   "mimetype": "text/x-python",
   "name": "python",
   "nbconvert_exporter": "python",
   "pygments_lexer": "ipython3",
   "version": "3.7.4"
  }
 },
 "nbformat": 4,
 "nbformat_minor": 2
}
