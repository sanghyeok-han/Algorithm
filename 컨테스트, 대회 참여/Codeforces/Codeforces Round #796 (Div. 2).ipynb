{
 "cells": [
  {
   "cell_type": "markdown",
   "metadata": {},
   "source": [
    "A"
   ]
  },
  {
   "cell_type": "code",
   "execution_count": 29,
   "metadata": {},
   "outputs": [
    {
     "name": "stdout",
     "output_type": "stream",
     "text": [
      "1\n",
      "2\n",
      "3\n"
     ]
    }
   ],
   "source": [
    "import sys\n",
    "# input = lambda: sys.stdin.readline().rstrip()\n",
    "\n",
    "for _ in range(int(input())):\n",
    "    x = int(input())\n",
    "\n",
    "    bx = bin(x)\n",
    "    cur = 0\n",
    "    for i in range(len(bx) - 1, -1, -1):\n",
    "        if bx[i] == '1':\n",
    "            break\n",
    "        cur += 1\n",
    "\n",
    "    num = 2 ** cur\n",
    "    while True:\n",
    "        if x & num > 0 and x ^ num > 0:\n",
    "            break\n",
    "        num += 1\n",
    "\n",
    "    print(num)"
   ]
  },
  {
   "cell_type": "markdown",
   "metadata": {},
   "source": [
    "B"
   ]
  },
  {
   "cell_type": "code",
   "execution_count": null,
   "metadata": {},
   "outputs": [],
   "source": [
    "이미 홀수가 하나 있다면 그걸 통해서 다 더해나가면 됨\n",
    "하나 홀수 만들고 짝수 다 더해나가기?"
   ]
  },
  {
   "cell_type": "code",
   "execution_count": 48,
   "metadata": {},
   "outputs": [
    {
     "name": "stdout",
     "output_type": "stream",
     "text": [
      "4\n",
      "8 8 4 4\n",
      "6\n"
     ]
    }
   ],
   "source": [
    "import sys\n",
    "# input = lambda: sys.stdin.readline().rstrip()\n",
    "\n",
    "\n",
    "n = int(input())\n",
    "li = list(map(int, input().split()))\n",
    "\n",
    "c1 = 0\n",
    "c2 = 0\n",
    "c2s = []\n",
    "for v in li:\n",
    "    if v % 2 == 1:\n",
    "        c1 += 1\n",
    "    else:\n",
    "        c2 += 1\n",
    "        c2s.append(v)\n",
    "\n",
    "if c1 >= 1:\n",
    "    print(c2)\n",
    "else:\n",
    "    is_one = False\n",
    "    for v in c2s:\n",
    "        temp = v // 2\n",
    "        if temp % 2 == 1:\n",
    "            is_one = True\n",
    "            break\n",
    "\n",
    "    if is_one:\n",
    "        print(1 + c2 - 1)\n",
    "    else:\n",
    "        sv = sum(c2s)\n",
    "        total = c2 - 1\n",
    "\n",
    "        while True:\n",
    "            total += 1\n",
    "            sv //= 2\n",
    "            if sv % 2 == 1:\n",
    "                break\n",
    "\n",
    "        print(total)"
   ]
  },
  {
   "cell_type": "code",
   "execution_count": 54,
   "metadata": {},
   "outputs": [
    {
     "name": "stdout",
     "output_type": "stream",
     "text": [
      "4\n",
      "2\n",
      "1\n"
     ]
    }
   ],
   "source": [
    "import sys\n",
    "input = lambda: sys.stdin.readline().rstrip()\n",
    "\n",
    "inf = float('inf')\n",
    "\n",
    "for _ in range(int(input())):\n",
    "    n = int(input())\n",
    "    li = list(map(int, input().split()))\n",
    "\n",
    "    c1 = 0\n",
    "    c2 = 0\n",
    "    c2s = []\n",
    "    for v in li:\n",
    "        if v % 2 == 1:\n",
    "            c1 += 1\n",
    "        else:\n",
    "            c2 += 1\n",
    "            c2s.append(v)\n",
    "\n",
    "    if c1 >= 1:\n",
    "        print(c2)\n",
    "    else:\n",
    "        min_c = inf\n",
    "        for v in c2s:\n",
    "            c = 0\n",
    "            while True:\n",
    "                c += 1\n",
    "                v //= 2\n",
    "                if v % 2 == 1:\n",
    "                    break\n",
    "            min_c = min(min_c, c)\n",
    "\n",
    "        r = min_c + c2 - 1\n",
    "\n",
    "        is_one = False\n",
    "        for v in c2s:\n",
    "            temp = v // 2\n",
    "            if temp % 2 == 1:\n",
    "                is_one = True\n",
    "                break\n",
    "\n",
    "        if is_one:\n",
    "            r = min(r, c2)\n",
    "\n",
    "        sv = sum(c2s)\n",
    "        total = c2 - 1\n",
    "\n",
    "        while True:\n",
    "            total += 1\n",
    "            sv //= 2\n",
    "            if sv % 2 == 1:\n",
    "                break\n",
    "        r = min(r, total)\n",
    "\n",
    "        print(r)"
   ]
  },
  {
   "cell_type": "markdown",
   "metadata": {},
   "source": [
    "D"
   ]
  },
  {
   "cell_type": "code",
   "execution_count": null,
   "metadata": {},
   "outputs": [],
   "source": [
    "시간이 n보다 많이 남는다면 마지막에 다 쓸어가면됨\n",
    "아니면 주어진 가능한 구간에 가장 많이 남아있는 경우를 가져가면 됨"
   ]
  },
  {
   "cell_type": "code",
   "execution_count": 59,
   "metadata": {},
   "outputs": [
    {
     "name": "stdout",
     "output_type": "stream",
     "text": [
      "5 2\n",
      "5 6 1 2 3\n",
      "12\n"
     ]
    }
   ],
   "source": [
    "import sys\n",
    "input = lambda: sys.stdin.readline().rstrip()\n",
    "\n",
    "def get_sum(v):\n",
    "    return v * (v + 1) // 2\n",
    "\n",
    "for _ in range(int(input())):\n",
    "    n, k = map(int, input().split())\n",
    "    li = list(map(int, input().split()))\n",
    "\n",
    "    sli = [0]\n",
    "    cumul = 0\n",
    "    for v in li:\n",
    "        cumul += v\n",
    "        sli.append(cumul)\n",
    "\n",
    "    if k >= n:\n",
    "        total = sli[-1]\n",
    "\n",
    "        added = k - n\n",
    "        total += added * n\n",
    "        total += get_sum(n - 1)\n",
    "\n",
    "        print(total)\n",
    "    else:\n",
    "        max_temp = 0\n",
    "        for start in range(n):\n",
    "            end = start + k - 1\n",
    "            if end >= n:\n",
    "                break\n",
    "\n",
    "            max_temp = max(max_temp, sli[end + 1] - sli[start])\n",
    "\n",
    "        total = max_temp + get_sum(k - 1)\n",
    "\n",
    "        print(total)"
   ]
  },
  {
   "cell_type": "markdown",
   "metadata": {},
   "source": [
    "C"
   ]
  },
  {
   "cell_type": "code",
   "execution_count": null,
   "metadata": {},
   "outputs": [],
   "source": [
    "모든 알파벳에 걸쳐서 가능한지 확인해보기?\n",
    "\n",
    "일단 t에 한 글자 짜리가 있는 알파벳만 가능하다는 것을 알 수 있음."
   ]
  },
  {
   "cell_type": "code",
   "execution_count": null,
   "metadata": {},
   "outputs": [],
   "source": [
    "z\n",
    "a\n",
    "a\n",
    "aa\n",
    "yakumo\n",
    "ran\n",
    "\n",
    "yakumoran"
   ]
  },
  {
   "cell_type": "code",
   "execution_count": null,
   "metadata": {},
   "outputs": [],
   "source": [
    "z\n",
    "z z -> aa\n",
    "aa a -> yakumo\n",
    "yakumoa a -> ran\n",
    "yakumoran\n",
    "\n",
    "\n",
    "yakumoran"
   ]
  },
  {
   "cell_type": "code",
   "execution_count": null,
   "metadata": {},
   "outputs": [],
   "source": [
    "a\n",
    "a a -> abc\n",
    "abc a -> dd\n",
    "ddbc ddbc -> c\n",
    "c\n",
    "\n",
    "\n",
    "a\n",
    "abc\n",
    "a\n",
    "dd\n",
    "ddb\n",
    "cc"
   ]
  },
  {
   "cell_type": "code",
   "execution_count": null,
   "metadata": {},
   "outputs": [],
   "source": [
    "a\n",
    "\n",
    "a a -> aabb\n",
    "aabb ab -> b\n",
    "abb\n",
    "\n",
    "a\n",
    "\n",
    "a\n",
    "aabb\n",
    "ab\n",
    "b\n",
    "\n",
    "abb"
   ]
  },
  {
   "cell_type": "code",
   "execution_count": 70,
   "metadata": {},
   "outputs": [
    {
     "name": "stdout",
     "output_type": "stream",
     "text": [
      "1\n",
      "1\n",
      "b\n",
      "a\n",
      "a\n",
      "b\n"
     ]
    }
   ],
   "source": [
    "from collections import defaultdict as dd\n",
    "import sys\n",
    "# input = lambda: sys.stdin.readline().rstrip()\n",
    "\n",
    "for _ in range(int(input())):\n",
    "    n = int(input())\n",
    "    li = [input() for _ in range(2 * n)]\n",
    "    final = input()\n",
    "\n",
    "    d = dd(int)\n",
    "    for s in li:\n",
    "        for v in s:\n",
    "            d[v] += 1\n",
    "\n",
    "    for v in final:\n",
    "        d[v] += 1\n",
    "\n",
    "    r = ''\n",
    "    for key in d:\n",
    "        if d[key] % 2 == 1:\n",
    "            r = key\n",
    "            break\n",
    "\n",
    "    print(r)"
   ]
  },
  {
   "cell_type": "code",
   "execution_count": 77,
   "metadata": {},
   "outputs": [
    {
     "name": "stdout",
     "output_type": "stream",
     "text": [
      "1\n",
      "a\n",
      "b\n",
      "b\n",
      "a\n"
     ]
    }
   ],
   "source": [
    "n = int(input())\n",
    "li = [input() for _ in range(2 * n)]\n",
    "final = input()\n",
    "\n",
    "d = dd(int)\n",
    "for s in li:\n",
    "    for v in s:\n",
    "        d[v] += 1\n",
    "        \n",
    "for v in final:\n",
    "    d[v] += 1\n",
    "\n",
    "r = ''\n",
    "for key in d:\n",
    "    if d[key] % 2 == 1:\n",
    "        r = key\n",
    "        break\n",
    "\n",
    "print(r)"
   ]
  },
  {
   "cell_type": "code",
   "execution_count": 73,
   "metadata": {},
   "outputs": [
    {
     "data": {
      "text/plain": [
       "defaultdict(int, {'b': 1, 'a': 2})"
      ]
     },
     "execution_count": 73,
     "metadata": {},
     "output_type": "execute_result"
    }
   ],
   "source": [
    "d"
   ]
  }
 ],
 "metadata": {
  "kernelspec": {
   "display_name": "Python 3",
   "language": "python",
   "name": "python3"
  },
  "language_info": {
   "codemirror_mode": {
    "name": "ipython",
    "version": 3
   },
   "file_extension": ".py",
   "mimetype": "text/x-python",
   "name": "python",
   "nbconvert_exporter": "python",
   "pygments_lexer": "ipython3",
   "version": "3.7.4"
  }
 },
 "nbformat": 4,
 "nbformat_minor": 2
}
