{
 "cells": [
  {
   "cell_type": "markdown",
   "metadata": {},
   "source": [
    "A"
   ]
  },
  {
   "cell_type": "code",
   "execution_count": 6,
   "metadata": {},
   "outputs": [
    {
     "name": "stdout",
     "output_type": "stream",
     "text": [
      "2\n",
      "0 0\n",
      "1\n"
     ]
    }
   ],
   "source": [
    "from collections import defaultdict as dd\n",
    "\n",
    "n = int(input())\n",
    "li = list(map(int, input().split()))\n",
    "\n",
    "d = dd(int)\n",
    "c0 = 0\n",
    "for v in li:\n",
    "    if v == 0:\n",
    "        c0 += 1\n",
    "    else:\n",
    "        d[abs(v)] += 1\n",
    "        \n",
    "if c0:\n",
    "    total = 1\n",
    "else:\n",
    "    total = 0\n",
    "    \n",
    "for v in d.values():\n",
    "    total += min(2, v)\n",
    "    \n",
    "print(total)"
   ]
  },
  {
   "cell_type": "code",
   "execution_count": null,
   "metadata": {},
   "outputs": [],
   "source": [
    "from collections import defaultdict as dd\n",
    "\n",
    "for _ in range(int(input())):\n",
    "    n = int(input())\n",
    "    li = list(map(int, input().split()))\n",
    "\n",
    "    d = dd(int)\n",
    "    c0 = 0\n",
    "    for v in li:\n",
    "        if v == 0:\n",
    "            c0 += 1\n",
    "        else:\n",
    "            d[abs(v)] += 1\n",
    "\n",
    "    if c0:\n",
    "        total = 1\n",
    "    else:\n",
    "        total = 0\n",
    "\n",
    "    for v in d.values():\n",
    "        total += min(2, v)\n",
    "\n",
    "    print(total)   "
   ]
  },
  {
   "cell_type": "markdown",
   "metadata": {},
   "source": [
    "B"
   ]
  },
  {
   "cell_type": "code",
   "execution_count": null,
   "metadata": {},
   "outputs": [],
   "source": [
    "같은 것이 바로 나오면 거기서 끝냄\n",
    "\n",
    "낮은 것이 나오면 같거나 더 낮아지면 계속 유지하다가 현재보다 높아지면 끝냄"
   ]
  },
  {
   "cell_type": "code",
   "execution_count": 10,
   "metadata": {},
   "outputs": [
    {
     "name": "stdout",
     "output_type": "stream",
     "text": [
      "9\n",
      "cbacbacba\n",
      "cbaabc\n"
     ]
    }
   ],
   "source": [
    "n = int(input())\n",
    "s = input()\n",
    "\n",
    "if n == 1:\n",
    "    print(s[0] * 2)\n",
    "else:\n",
    "    if s[0] == s[1]:\n",
    "        print(s[0] * 2)\n",
    "    else:\n",
    "        for i in range(1, n):\n",
    "            if s[i - 1] >= s[i]:\n",
    "                continue\n",
    "            else:\n",
    "                cur = i - 1\n",
    "                break\n",
    "        else:\n",
    "            cur = n - 1\n",
    "            \n",
    "        temp = s[:cur + 1]\n",
    "        print(temp + temp[::-1])"
   ]
  },
  {
   "cell_type": "code",
   "execution_count": null,
   "metadata": {},
   "outputs": [],
   "source": [
    "for _ in range(int(input())):\n",
    "    n = int(input())\n",
    "    s = input()\n",
    "\n",
    "    if n == 1:\n",
    "        print(s[0] * 2)\n",
    "    else:\n",
    "        if s[0] == s[1]:\n",
    "            print(s[0] * 2)\n",
    "        else:\n",
    "            for i in range(1, n):\n",
    "                if s[i - 1] >= s[i]:\n",
    "                    continue\n",
    "                else:\n",
    "                    cur = i - 1\n",
    "                    break\n",
    "            else:\n",
    "                cur = n - 1\n",
    "\n",
    "            temp = s[:cur + 1]\n",
    "            print(temp + temp[::-1])    "
   ]
  },
  {
   "cell_type": "markdown",
   "metadata": {},
   "source": [
    "### C"
   ]
  },
  {
   "cell_type": "code",
   "execution_count": 51,
   "metadata": {},
   "outputs": [
    {
     "name": "stdout",
     "output_type": "stream",
     "text": [
      "0\n"
     ]
    }
   ],
   "source": [
    "# n = int(input())\n",
    "# li = list(map(int, input().split()))\n",
    "\n",
    "n = 4\n",
    "s = '1 3 5 7'\n",
    "li = list(map(int, s.split()))\n",
    "\n",
    "cumul = 0\n",
    "sli = [0]\n",
    "for i in range(n):\n",
    "    cumul += li[i]\n",
    "    sli.append(cumul)\n",
    "    \n",
    "st = set()\n",
    "for i in range(n):\n",
    "    for j in range(i + 1, n):\n",
    "        t1 = sli[j + 1] - sli[i]\n",
    "        t2 = 1/2 * (li[i] + li[j]) * (j - i + 1)\n",
    "        t2 = round(t2, 10)\n",
    "        \n",
    "        if t1 != t2:\n",
    "            print(i, j, t1, t2)\n",
    "        \n",
    "r = len(st) // 2\n",
    "\n",
    "print(r)"
   ]
  },
  {
   "cell_type": "code",
   "execution_count": 17,
   "metadata": {},
   "outputs": [
    {
     "name": "stdout",
     "output_type": "stream",
     "text": [
      "[3, -2, 4, -1, -4, 0] 0 1 -5 2\n",
      "[3, -2, 4, -1, -4, 0] 1 1 6 2\n",
      "[3, -2, 4, -1, -4, 0] 2 1 -5 2\n",
      "[3, -2, 4, -1, -4, 0] 3 1 -3 2\n",
      "[3, -2, 4, -1, -4, 0] 4 1 4 2\n",
      "[3, -2, 4, -1, -4, 0] 0 2 1 2\n",
      "[3, -2, 4, -1, -4, 0] 1 2 1 3\n",
      "[3, -2, 4, -1, -4, 0] 2 2 -8 2\n",
      "[3, -2, 4, -1, -4, 0] 3 2 1 2\n",
      "[3, -2, 4, -1, -4, 0] 0 3 -4 2\n",
      "[3, -2, 4, -1, -4, 0] 1 3 -2 2\n",
      "[3, -2, 4, -1, -4, 0] 2 3 -4 2\n",
      "[3, -2, 4, -1, -4, 0] 0 4 -7 2\n",
      "[3, -2, 4, -1, -4, 0] 1 4 2 2\n",
      "[3, -2, 4, -1, -4, 0] 0 5 -3 2\n",
      "3\n"
     ]
    }
   ],
   "source": [
    "n = 6\n",
    "s = '3 -2 4 -1 -4 0'\n",
    "li = list(map(int, s.split()))\n",
    "\n",
    "if n == 1:\n",
    "    print(0)\n",
    "else:   \n",
    "    mcc = 0 # max cont count\n",
    "    mcc_start = 0\n",
    "    mcc_term = 0\n",
    "    for term in range(1, n):\n",
    "        for start in range(n):\n",
    "            if start + term >= n:\n",
    "                continue\n",
    "\n",
    "            cc = 0\n",
    "            count = 0\n",
    "            inc = li[start + term] - li[start]\n",
    "            for i in range(start, n, term):\n",
    "                if li[start] + (inc * count) == li[i]:\n",
    "                    cc += 1\n",
    "                count += 1\n",
    "\n",
    "            print(li, start, term, inc, cc)\n",
    "            if cc > mcc:\n",
    "                mcc = cc\n",
    "\n",
    "    print(n - mcc)"
   ]
  },
  {
   "cell_type": "code",
   "execution_count": null,
   "metadata": {},
   "outputs": [],
   "source": [
    "0\n",
    "0.0000001"
   ]
  },
  {
   "cell_type": "code",
   "execution_count": null,
   "metadata": {},
   "outputs": [],
   "source": [
    "1 2 2 2 3"
   ]
  },
  {
   "cell_type": "code",
   "execution_count": 29,
   "metadata": {},
   "outputs": [
    {
     "data": {
      "text/plain": [
       "2.857142857142857"
      ]
     },
     "execution_count": 29,
     "metadata": {},
     "output_type": "execute_result"
    }
   ],
   "source": [
    "200 / 70"
   ]
  },
  {
   "cell_type": "code",
   "execution_count": 28,
   "metadata": {},
   "outputs": [
    {
     "data": {
      "text/plain": [
       "70.0"
      ]
     },
     "execution_count": 28,
     "metadata": {},
     "output_type": "execute_result"
    }
   ],
   "source": [
    "0.35 * 200"
   ]
  },
  {
   "cell_type": "code",
   "execution_count": 1,
   "metadata": {},
   "outputs": [
    {
     "name": "stdout",
     "output_type": "stream",
     "text": [
      "6\n",
      "6\n",
      "3 -2 4 -1 -4 0\n",
      "3\n",
      "d\n"
     ]
    },
    {
     "ename": "ValueError",
     "evalue": "invalid literal for int() with base 10: 'd'",
     "output_type": "error",
     "traceback": [
      "\u001b[1;31m---------------------------------------------------------------------------\u001b[0m",
      "\u001b[1;31mValueError\u001b[0m                                Traceback (most recent call last)",
      "\u001b[1;32m<ipython-input-1-65796787e66b>\u001b[0m in \u001b[0;36m<module>\u001b[1;34m\u001b[0m\n\u001b[0;32m      1\u001b[0m \u001b[1;32mfor\u001b[0m \u001b[0m_\u001b[0m \u001b[1;32min\u001b[0m \u001b[0mrange\u001b[0m\u001b[1;33m(\u001b[0m\u001b[0mint\u001b[0m\u001b[1;33m(\u001b[0m\u001b[0minput\u001b[0m\u001b[1;33m(\u001b[0m\u001b[1;33m)\u001b[0m\u001b[1;33m)\u001b[0m\u001b[1;33m)\u001b[0m\u001b[1;33m:\u001b[0m\u001b[1;33m\u001b[0m\u001b[1;33m\u001b[0m\u001b[0m\n\u001b[1;32m----> 2\u001b[1;33m     \u001b[0mn\u001b[0m \u001b[1;33m=\u001b[0m \u001b[0mint\u001b[0m\u001b[1;33m(\u001b[0m\u001b[0minput\u001b[0m\u001b[1;33m(\u001b[0m\u001b[1;33m)\u001b[0m\u001b[1;33m)\u001b[0m\u001b[1;33m\u001b[0m\u001b[1;33m\u001b[0m\u001b[0m\n\u001b[0m\u001b[0;32m      3\u001b[0m     \u001b[0mli\u001b[0m \u001b[1;33m=\u001b[0m \u001b[0mlist\u001b[0m\u001b[1;33m(\u001b[0m\u001b[0mmap\u001b[0m\u001b[1;33m(\u001b[0m\u001b[0mint\u001b[0m\u001b[1;33m,\u001b[0m \u001b[0minput\u001b[0m\u001b[1;33m(\u001b[0m\u001b[1;33m)\u001b[0m\u001b[1;33m.\u001b[0m\u001b[0msplit\u001b[0m\u001b[1;33m(\u001b[0m\u001b[1;33m)\u001b[0m\u001b[1;33m)\u001b[0m\u001b[1;33m)\u001b[0m\u001b[1;33m\u001b[0m\u001b[1;33m\u001b[0m\u001b[0m\n\u001b[0;32m      4\u001b[0m \u001b[1;33m\u001b[0m\u001b[0m\n\u001b[0;32m      5\u001b[0m     \u001b[1;32mif\u001b[0m \u001b[0mn\u001b[0m \u001b[1;33m==\u001b[0m \u001b[1;36m1\u001b[0m\u001b[1;33m:\u001b[0m\u001b[1;33m\u001b[0m\u001b[1;33m\u001b[0m\u001b[0m\n",
      "\u001b[1;31mValueError\u001b[0m: invalid literal for int() with base 10: 'd'"
     ]
    }
   ],
   "source": [
    "\n",
    "n = int(input())\n",
    "li = list(map(int, input().split()))   \n",
    "\n",
    "if n == 1:\n",
    "    print(0)\n",
    "else:   \n",
    "    mcc = 0 # max cont count\n",
    "    mcc_start = 0\n",
    "    mcc_term = 0\n",
    "    for term in range(1, n):\n",
    "        for start in range(n):\n",
    "            if start + term >= n:\n",
    "                continue\n",
    "\n",
    "            cc = 0\n",
    "            count = 0\n",
    "            inc = li[start + term] - li[start]\n",
    "            for i in range(start, n, term):\n",
    "                if li[start] + (inc * count) == li[i]:\n",
    "                    cc += 1\n",
    "                count += 1\n",
    "\n",
    "            if cc > mcc:\n",
    "                mcc = cc\n",
    "                mcc_start = start\n",
    "                mcc_term = term\n",
    "\n",
    "    print(n - mcc, start, mcc_term)"
   ]
  },
  {
   "cell_type": "markdown",
   "metadata": {},
   "source": [
    "### D"
   ]
  },
  {
   "cell_type": "code",
   "execution_count": null,
   "metadata": {},
   "outputs": [],
   "source": []
  },
  {
   "cell_type": "markdown",
   "metadata": {},
   "source": [
    "### E"
   ]
  },
  {
   "cell_type": "code",
   "execution_count": 26,
   "metadata": {},
   "outputs": [
    {
     "name": "stdout",
     "output_type": "stream",
     "text": [
      "1\n",
      "a\n",
      "a\n",
      "-1\n"
     ]
    }
   ],
   "source": [
    "n = int(input())\n",
    "\n",
    "get_value = lambda x: ord(x) - 97\n",
    "a = list(map(get_value, input()))\n",
    "b = list(map(get_value, input()))\n",
    "\n",
    "if sorted(a) >= b:\n",
    "    print(-1)\n",
    "elif a < b:\n",
    "    print(0)\n",
    "else:\n",
    "    "
   ]
  },
  {
   "cell_type": "code",
   "execution_count": null,
   "metadata": {},
   "outputs": [],
   "source": []
  },
  {
   "cell_type": "code",
   "execution_count": 19,
   "metadata": {},
   "outputs": [
    {
     "data": {
      "text/plain": [
       "97"
      ]
     },
     "execution_count": 19,
     "metadata": {},
     "output_type": "execute_result"
    }
   ],
   "source": [
    "ord('a')"
   ]
  },
  {
   "cell_type": "markdown",
   "metadata": {},
   "source": [
    "### 제출본"
   ]
  },
  {
   "cell_type": "code",
   "execution_count": null,
   "metadata": {},
   "outputs": [],
   "source": [
    "import os\n",
    "import sys\n",
    "from io import BytesIO, IOBase\n",
    "\n",
    "## PYRIVAL BOOTSTRAP\n",
    "# https://github.com/cheran-senthil/PyRival/blob/master/pyrival/misc/bootstrap.py\n",
    "# This decorator allows for recursion without actually doing recursion\n",
    "from types import GeneratorType\n",
    "## @bootstrap, yield when getting and returning value in recursive functions\n",
    "\n",
    "\n",
    "def main():\n",
    "    for _ in range(int(input())):\n",
    "        n = int(input())\n",
    "        li = list(map(int, input().split()))   \n",
    "\n",
    "        if n == 1:\n",
    "            print(0)\n",
    "        else:   \n",
    "            mcc = 0 # max cont count\n",
    "            for term in range(1, n):\n",
    "                for start in range(n):\n",
    "                    if start + term >= n:\n",
    "                        continue\n",
    "\n",
    "                    cc = 0\n",
    "                    count = 0\n",
    "                    inc = li[start + term] - li[start]\n",
    "                    for i in range(start, n, term):\n",
    "                        if li[start] + inc * count == li[i]:\n",
    "                            cc += 1\n",
    "                        count += 1\n",
    "\n",
    "                    mcc = max(mcc, cc)\n",
    "\n",
    "            print(n - mcc)\n",
    "\n",
    "\n",
    "\n",
    "\n",
    "    \n",
    "# region fastio\n",
    " \n",
    "BUFSIZE = 8192\n",
    " \n",
    "\n",
    "class FastIO(IOBase):\n",
    "    newlines = 0\n",
    " \n",
    "    def __init__(self, file):\n",
    "        self._fd = file.fileno()\n",
    "        self.buffer = BytesIO()\n",
    "        self.writable = \"x\" in file.mode or \"r\" not in file.mode\n",
    "        self.write = self.buffer.write if self.writable else None\n",
    " \n",
    "    def read(self):\n",
    "        while True:\n",
    "            b = os.read(self._fd, max(os.fstat(self._fd).st_size, BUFSIZE))\n",
    "            if not b:\n",
    "                break\n",
    "            ptr = self.buffer.tell()\n",
    "            self.buffer.seek(0, 2), self.buffer.write(b), self.buffer.seek(ptr)\n",
    "        self.newlines = 0\n",
    "        return self.buffer.read()\n",
    " \n",
    "    def readline(self):\n",
    "        while self.newlines == 0:\n",
    "            b = os.read(self._fd, max(os.fstat(self._fd).st_size, BUFSIZE))\n",
    "            self.newlines = b.count(b\"\\n\") + (not b)\n",
    "            ptr = self.buffer.tell()\n",
    "            self.buffer.seek(0, 2), self.buffer.write(b), self.buffer.seek(ptr)\n",
    "        self.newlines -= 1\n",
    "        return self.buffer.readline()\n",
    " \n",
    "    def flush(self):\n",
    "        if self.writable:\n",
    "            os.write(self._fd, self.buffer.getvalue())\n",
    "            self.buffer.truncate(0), self.buffer.seek(0)\n",
    " \n",
    " \n",
    "class IOWrapper(IOBase):\n",
    "    def __init__(self, file):\n",
    "        self.buffer = FastIO(file)\n",
    "        self.flush = self.buffer.flush\n",
    "        self.writable = self.buffer.writable\n",
    "        self.write = lambda s: self.buffer.write(s.encode(\"ascii\"))\n",
    "        self.read = lambda: self.buffer.read().decode(\"ascii\")\n",
    "        self.readline = lambda: self.buffer.readline().decode(\"ascii\")\n",
    " \n",
    " \n",
    "sys.stdin, sys.stdout = IOWrapper(sys.stdin), IOWrapper(sys.stdout)\n",
    "input = lambda: sys.stdin.readline().rstrip(\"\\r\\n\")\n",
    " \n",
    "# endregion\n",
    " \n",
    "if __name__ == \"__main__\":\n",
    "    def bootstrap(f, stack=[]):\n",
    "        def wrappedfunc(*args, **kwargs):\n",
    "            if stack:\n",
    "                return f(*args, **kwargs)\n",
    "            else:\n",
    "                to = f(*args, **kwargs)\n",
    "                while True:\n",
    "                    if type(to) is GeneratorType:\n",
    "                        stack.append(to)\n",
    "                        to = next(to)\n",
    "                    else:\n",
    "                        stack.pop()\n",
    "                        if not stack:\n",
    "                            break\n",
    "                        to = stack[-1].send(to)\n",
    "                return to\n",
    "        return wrappedfunc\n",
    "    \n",
    "    ip = lambda: input()\n",
    "    iip = lambda: int(input())\n",
    "    miip = lambda: map(int, input().split())\n",
    "    liip = lambda: list(map(int, input().split()))\n",
    "    sip = lambda: input().split() # splitted input\n",
    "    lip = lambda: list(input())\n",
    "    \n",
    "    main()"
   ]
  }
 ],
 "metadata": {
  "kernelspec": {
   "display_name": "Python 3",
   "language": "python",
   "name": "python3"
  }
 },
 "nbformat": 4,
 "nbformat_minor": 4
}
