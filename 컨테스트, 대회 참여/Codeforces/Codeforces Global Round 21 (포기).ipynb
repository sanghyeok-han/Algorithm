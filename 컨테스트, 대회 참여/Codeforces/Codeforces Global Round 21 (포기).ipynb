{
 "cells": [
  {
   "cell_type": "code",
   "execution_count": null,
   "metadata": {},
   "outputs": [],
   "source": [
    "import sys\n",
    "input = lambda: sys.stdin.readline().rstrip()"
   ]
  },
  {
   "cell_type": "markdown",
   "metadata": {},
   "source": [
    "A"
   ]
  },
  {
   "cell_type": "code",
   "execution_count": null,
   "metadata": {},
   "outputs": [],
   "source": [
    "2 3\n",
    "3 4\n"
   ]
  },
  {
   "cell_type": "code",
   "execution_count": null,
   "metadata": {},
   "outputs": [],
   "source": [
    "5 5\n",
    "0 2 4 6 8"
   ]
  },
  {
   "cell_type": "code",
   "execution_count": null,
   "metadata": {},
   "outputs": [],
   "source": [
    "111 001 011 110\n"
   ]
  },
  {
   "cell_type": "markdown",
   "metadata": {},
   "source": [
    "------- 포기 이후"
   ]
  },
  {
   "cell_type": "code",
   "execution_count": 10,
   "metadata": {},
   "outputs": [
    {
     "name": "stdout",
     "output_type": "stream",
     "text": [
      "1\n",
      "2 3\n",
      "3 4\n",
      "7\n"
     ]
    }
   ],
   "source": [
    "import sys\n",
    "input = lambda: sys.stdin.readline().rstrip()\n",
    "\n",
    "for _ in range(int(input())):\n",
    "    n, z = map(int, input().split())\n",
    "    li = list(map(int, input().split()))\n",
    "\n",
    "    max_r = 0\n",
    "    for v in li:\n",
    "        max_r = max(max_r, v | z)\n",
    "        \n",
    "    print(max_r)"
   ]
  },
  {
   "cell_type": "code",
   "execution_count": 5,
   "metadata": {},
   "outputs": [
    {
     "name": "stdout",
     "output_type": "stream",
     "text": [
      "101\n",
      "10\n",
      "100\n",
      "110\n",
      "1000\n"
     ]
    }
   ],
   "source": [
    "0000\n",
    "0010\n",
    "0100\n",
    "0110\n",
    "1000\n",
    "\n",
    "0101"
   ]
  },
  {
   "cell_type": "code",
   "execution_count": null,
   "metadata": {},
   "outputs": [],
   "source": [
    "1101"
   ]
  },
  {
   "cell_type": "markdown",
   "metadata": {},
   "source": [
    "B"
   ]
  },
  {
   "cell_type": "code",
   "execution_count": 12,
   "metadata": {},
   "outputs": [
    {
     "name": "stdout",
     "output_type": "stream",
     "text": [
      "7\n",
      "0 2 3 0 1 2 0\n",
      "2\n"
     ]
    }
   ],
   "source": [
    "import sys\n",
    "input = lambda: sys.stdin.readline().rstrip()\n",
    "\n",
    "for _ in range(int(input())):\n",
    "    n = int(input())\n",
    "    li = list(map(int, input().split()))\n",
    "\n",
    "    cont = 0\n",
    "    total = 0\n",
    "    for i in range(n):\n",
    "        if li[i] != 0:\n",
    "            cont += 1\n",
    "        else:\n",
    "            if cont:\n",
    "                cont = 0\n",
    "                total += 1\n",
    "    if cont:\n",
    "        total += 1\n",
    "\n",
    "    print(min(2, total))"
   ]
  },
  {
   "cell_type": "markdown",
   "metadata": {},
   "source": [
    "C"
   ]
  },
  {
   "cell_type": "code",
   "execution_count": null,
   "metadata": {},
   "outputs": [],
   "source": [
    "3 3 3 3 3 3 3 3"
   ]
  },
  {
   "cell_type": "code",
   "execution_count": null,
   "metadata": {},
   "outputs": [],
   "source": []
  },
  {
   "cell_type": "code",
   "execution_count": 18,
   "metadata": {},
   "outputs": [
    {
     "data": {
      "text/plain": [
       "[[1, 11]]"
      ]
     },
     "execution_count": 18,
     "metadata": {},
     "output_type": "execute_result"
    }
   ],
   "source": [
    "1\n",
    "8 3\n",
    "3 3 3 3 3 3 3 3\n",
    "4\n",
    "6 6 6 6\n",
    "Yes"
   ]
  },
  {
   "cell_type": "code",
   "execution_count": null,
   "metadata": {},
   "outputs": [],
   "source": [
    "m = 3\n",
    "\n",
    "18\n",
    "6 6 6\n",
    "2 2 2 2 2 2 2 2 2"
   ]
  },
  {
   "cell_type": "code",
   "execution_count": 16,
   "metadata": {},
   "outputs": [
    {
     "data": {
      "text/plain": [
       "[[1, 5], [2, 2], [1, 2]]"
      ]
     },
     "execution_count": 16,
     "metadata": {},
     "output_type": "execute_result"
    }
   ],
   "source": [
    "na"
   ]
  },
  {
   "cell_type": "code",
   "execution_count": null,
   "metadata": {},
   "outputs": [],
   "source": [
    "3 9 6 3 12 12 36 12\n",
    "9 3 2 2 2 3 4 12 4 12 4 12 4 12 4 4"
   ]
  },
  {
   "cell_type": "code",
   "execution_count": null,
   "metadata": {},
   "outputs": [],
   "source": [
    "[3, 1] [3, 3] [3, 2] [3, 1]"
   ]
  },
  {
   "cell_type": "code",
   "execution_count": null,
   "metadata": {},
   "outputs": [],
   "source": [
    "cur -> (cur/m cur/m cur/m) (m개)\n",
    "\n",
    "(cur/m cur/m cur/m) (m개) -> cur"
   ]
  },
  {
   "cell_type": "code",
   "execution_count": null,
   "metadata": {},
   "outputs": [],
   "source": [
    "import sys\n",
    "input = lambda: sys.stdin.readline().rstrip()\n",
    "\n",
    "for _ in range(int(input())):\n",
    "    n, m = map(int, input().split())\n",
    "    a = list(map(int, input().split()))\n",
    "    k = int(input())\n",
    "    b = list(map(int, input().split()))\n",
    "\n",
    "    na = []\n",
    "    for i in range(n):\n",
    "        c = 1\n",
    "        v = a[i]\n",
    "        while v % m == 0:\n",
    "            v //= m\n",
    "            c *= m\n",
    "\n",
    "        if na and na[-1][0] == v:\n",
    "            na[-1][1] += c\n",
    "        else:\n",
    "            na.append([v, c])\n",
    "\n",
    "    ai = 0\n",
    "    ip = True\n",
    "    for bi in range(k):\n",
    "        if ai >= len(na):\n",
    "            ip = False\n",
    "            break\n",
    "\n",
    "        if na[ai][0] > b[bi]:\n",
    "            ip = False\n",
    "            break\n",
    "        elif na[ai][0] == b[bi]:\n",
    "            na[ai][1] -= 1\n",
    "            if na[ai][1] == 0:\n",
    "                ai += 1\n",
    "        else:\n",
    "            if b[bi] % na[ai][0]:\n",
    "                ip = False\n",
    "                break\n",
    "            needed = b[bi] // na[ai][0]\n",
    "            c = 0\n",
    "            while needed != 1:\n",
    "                if needed % m:\n",
    "                    ip = False\n",
    "                    break\n",
    "                c += 1\n",
    "                needed //= m\n",
    "\n",
    "            n_needed = m ** c\n",
    "            if na[ai][1] < n_needed:\n",
    "                ip = False\n",
    "            else:\n",
    "                na[ai][1] -= n_needed\n",
    "                if na[ai][1] == 0:\n",
    "                    ai += 1\n",
    "        if not ip:\n",
    "            break\n",
    "\n",
    "    if ai != len(na):\n",
    "        ip = False\n",
    "\n",
    "    if ip:\n",
    "        print('Yes')\n",
    "    else:\n",
    "        print('No')"
   ]
  },
  {
   "cell_type": "code",
   "execution_count": null,
   "metadata": {},
   "outputs": [],
   "source": [
    "import sys\n",
    "# input = lambda: sys.stdin.readline().rstrip()\n",
    "\n",
    "for _ in range(int(input())):\n",
    "    n, m = map(int, input().split())\n",
    "    a = list(map(int, input().split()))\n",
    "    k = int(input())\n",
    "    b = list(map(int, input().split()))\n",
    "\n",
    "    na = []\n",
    "    for i in range(n):\n",
    "        c = 1\n",
    "        v = a[i]\n",
    "        while v % m == 0:\n",
    "            v //= m\n",
    "            c *= m\n",
    "\n",
    "        if na and na[-1][0] == v:\n",
    "            na[-1][1] += c\n",
    "        else:\n",
    "            na.append([v, c])\n",
    "\n",
    "    nb = []\n",
    "    for i in range(n):\n",
    "        c = 1\n",
    "        v = b[i]\n",
    "        while v % m == 0:\n",
    "            v //= m\n",
    "            c *= m\n",
    "\n",
    "        if nb and nb[-1][0] == v:\n",
    "            nb[-1][1] += c\n",
    "        else:\n",
    "            nb.append([v, c])    \n",
    "            \n",
    "    if na == nb:\n",
    "        print('Yes')\n",
    "    else:\n",
    "        print('No')"
   ]
  },
  {
   "cell_type": "markdown",
   "metadata": {},
   "source": [
    "https://codeforces.com/contest/1696/problem/D"
   ]
  },
  {
   "cell_type": "code",
   "execution_count": null,
   "metadata": {},
   "outputs": [],
   "source": [
    "모순되지만 않는다면 계속 가다가 나올 수 있는 가장 큰 수 또는가장 작은 수를\n",
    "만나면 멈춤"
   ]
  },
  {
   "cell_type": "code",
   "execution_count": 53,
   "metadata": {},
   "outputs": [
    {
     "name": "stdout",
     "output_type": "stream",
     "text": [
      "5\n",
      "2 1 5 3 4\n",
      "1\n"
     ]
    }
   ],
   "source": [
    "from collections import deque\n",
    "import sys\n",
    "input = lambda: sys.stdin.readline().rstrip()\n",
    "\n",
    "for _ in range(int(input())):\n",
    "    n = int(input())\n",
    "    li = list(map(int, input().split()))\n",
    "\n",
    "    deq = deque(range(1, n + 1))\n",
    "    total = 0\n",
    "    cur_max = cur_min = cri = li[0]\n",
    "    vt = {li[0]}\n",
    "    i = 1\n",
    "    if not (li[0] == deq[0] or li[0] == deq[-1]):\n",
    "        total += 1\n",
    "    while True:\n",
    "        while deq:\n",
    "            if deq[0] in vt:\n",
    "                deq.popleft()\n",
    "            else:\n",
    "                break\n",
    "        while deq:\n",
    "            if deq[-1] in vt:\n",
    "                deq.pop()\n",
    "            else:\n",
    "                break\n",
    "\n",
    "        if not deq:\n",
    "            break\n",
    "\n",
    "        if cur_max > deq[-1]:\n",
    "            if li[i] != deq[0]:\n",
    "                vt.add(li[i])\n",
    "                i += 1\n",
    "                continue\n",
    "            vt.add(li[i])\n",
    "            cur_max = cur_min = cri = li[i]\n",
    "    #         print(i)\n",
    "            i += 1\n",
    "            total += 1\n",
    "        elif cur_min < deq[0]:\n",
    "            if li[i] != deq[-1]:\n",
    "                vt.add(li[i])\n",
    "                i += 1\n",
    "                continue\n",
    "            vt.add(li[i])\n",
    "            cur_max = cur_min = cri = li[i]\n",
    "    #         print(i)\n",
    "            i += 1\n",
    "            total += 1\n",
    "        else:\n",
    "            cur_max = max(cur_max, li[i])\n",
    "            cur_min = min(cur_min, li[i])\n",
    "            if cur_max != cri and cur_min != cri:\n",
    "                i -= 1\n",
    "                cur_max = cur_min = cri = li[i]\n",
    "                total += 1\n",
    "    #             print(i)\n",
    "                i += 1\n",
    "            else:\n",
    "                vt.add(li[i])\n",
    "                i += 1\n",
    "\n",
    "    print(total)"
   ]
  }
 ],
 "metadata": {
  "kernelspec": {
   "display_name": "Python 3",
   "language": "python",
   "name": "python3"
  },
  "language_info": {
   "codemirror_mode": {
    "name": "ipython",
    "version": 3
   },
   "file_extension": ".py",
   "mimetype": "text/x-python",
   "name": "python",
   "nbconvert_exporter": "python",
   "pygments_lexer": "ipython3",
   "version": "3.7.4"
  }
 },
 "nbformat": 4,
 "nbformat_minor": 2
}
