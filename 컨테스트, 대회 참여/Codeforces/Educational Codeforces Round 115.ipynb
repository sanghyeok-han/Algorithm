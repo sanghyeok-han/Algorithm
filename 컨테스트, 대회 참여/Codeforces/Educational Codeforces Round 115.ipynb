{
 "cells": [
  {
   "cell_type": "markdown",
   "metadata": {},
   "source": [
    "A"
   ]
  },
  {
   "cell_type": "code",
   "execution_count": 1,
   "metadata": {},
   "outputs": [
    {
     "name": "stdout",
     "output_type": "stream",
     "text": [
      "4\n",
      "0011\n",
      "1100\n",
      "YES\n"
     ]
    }
   ],
   "source": [
    "for _ in range(int(input())):\n",
    "    n = int(input())\n",
    "    a = input()\n",
    "    b = input()\n",
    "\n",
    "    def check():\n",
    "        for i in range(n):\n",
    "            if a[i] == '1' and b[i] == '1':\n",
    "                return False\n",
    "        return True\n",
    "\n",
    "    if check():\n",
    "        print('YES')\n",
    "    else:\n",
    "        print('NO')"
   ]
  },
  {
   "cell_type": "markdown",
   "metadata": {},
   "source": [
    "B"
   ]
  },
  {
   "cell_type": "code",
   "execution_count": 6,
   "metadata": {},
   "outputs": [
    {
     "name": "stdout",
     "output_type": "stream",
     "text": [
      "2\n",
      "0 0 0 1 0\n",
      "0 0 0 1 0\n",
      "NO\n"
     ]
    }
   ],
   "source": [
    "def check():\n",
    "    half = n // 2\n",
    "\n",
    "    for i in range(5):\n",
    "        for j in range(i + 1, 5):\n",
    "            if len(li[i]) < half or len(li[j]) < half:\n",
    "                continue\n",
    "            if len(li[i] | li[j]) == n:\n",
    "                return True\n",
    "    return False\n",
    "\n",
    "for _ in range(int(input())):\n",
    "    n = int(input())\n",
    "    li = [set() for _ in range(5)]\n",
    "    for i in range(n):\n",
    "        temp = list(map(int, input().split()))\n",
    "        for j in range(5):\n",
    "            if temp[j] == 1:\n",
    "                li[j].add(i)\n",
    "\n",
    "    if check():\n",
    "        print('YES')\n",
    "    else:\n",
    "        print('NO')"
   ]
  },
  {
   "cell_type": "markdown",
   "metadata": {},
   "source": [
    "C"
   ]
  },
  {
   "cell_type": "code",
   "execution_count": 19,
   "metadata": {},
   "outputs": [
    {
     "name": "stdout",
     "output_type": "stream",
     "text": [
      "7\n",
      "1 2 3 4 5 6 7\n",
      "3\n"
     ]
    }
   ],
   "source": [
    "from collections import Counter\n",
    "\n",
    "for _ in range(int(input())):\n",
    "    n = int(input())\n",
    "    a = list(map(int, input().split()))\n",
    "\n",
    "    sa = sum(a)\n",
    "    x = sa - (n - 2) * sa / n\n",
    "\n",
    "    if x != int(x):\n",
    "        print(0)\n",
    "    else:\n",
    "        x = int(x)\n",
    "\n",
    "        same_st = set()\n",
    "        ca = Counter(a)\n",
    "        result = 0\n",
    "        for v in a:\n",
    "            needed = x - v\n",
    "            if v > needed:\n",
    "                continue\n",
    "            elif v == needed:\n",
    "                if v in same_st:\n",
    "                    continue\n",
    "                same_st.add(v)\n",
    "\n",
    "                if v in ca:\n",
    "                    c = ca[v]\n",
    "                    result += c * (c - 1) // 2\n",
    "            else:\n",
    "                if needed in ca:\n",
    "                    result += ca[needed]\n",
    "\n",
    "        print(result)"
   ]
  },
  {
   "cell_type": "markdown",
   "metadata": {},
   "source": [
    "D"
   ]
  },
  {
   "cell_type": "code",
   "execution_count": 20,
   "metadata": {},
   "outputs": [
    {
     "name": "stdout",
     "output_type": "stream",
     "text": [
      "4\n",
      "2 4\n",
      "3 4\n",
      "2 1\n",
      "1 3\n"
     ]
    }
   ],
   "source": [
    "n = int(input())\n",
    "a = []\n",
    "b = []\n",
    "for _ in range(n):\n",
    "    ta, tb = map(int, input().split())\n",
    "    a.append(ta)\n",
    "    b.append(tb)\n",
    "    \n"
   ]
  },
  {
   "cell_type": "code",
   "execution_count": 21,
   "metadata": {},
   "outputs": [
    {
     "data": {
      "text/plain": [
       "[2, 3, 2, 1]"
      ]
     },
     "execution_count": 21,
     "metadata": {},
     "output_type": "execute_result"
    }
   ],
   "source": [
    "a"
   ]
  },
  {
   "cell_type": "code",
   "execution_count": 22,
   "metadata": {},
   "outputs": [
    {
     "data": {
      "text/plain": [
       "[4, 4, 1, 3]"
      ]
     },
     "execution_count": 22,
     "metadata": {},
     "output_type": "execute_result"
    }
   ],
   "source": [
    "b"
   ]
  },
  {
   "cell_type": "code",
   "execution_count": 39,
   "metadata": {},
   "outputs": [
    {
     "name": "stdout",
     "output_type": "stream",
     "text": [
      "2 1 Counter({2: 1, 3: 1}) Counter({4: 2}) 1 0 1\n",
      "1 3 Counter({2: 2, 3: 1}) Counter({4: 2, 1: 1}) 3 0 3\n",
      "4\n"
     ]
    }
   ],
   "source": [
    "ca = Counter(a[:2])\n",
    "cb = Counter(b[:2])\n",
    "\n",
    "result = 0\n",
    "for i in range(2, n):\n",
    "    value = ca[a[i]] * cb[b[i]]\n",
    "    comb = i * (i - 1) // 2\n",
    "    result += comb - value\n",
    "    print(a[i], b[i], ca, cb, comb, value, comb - value)\n",
    "    \n",
    "    ca[a[i]] += 1\n",
    "    cb[b[i]] += 1\n",
    "\n",
    "    \n",
    "print(result)"
   ]
  },
  {
   "cell_type": "code",
   "execution_count": 31,
   "metadata": {},
   "outputs": [
    {
     "data": {
      "text/plain": [
       "0"
      ]
     },
     "execution_count": 31,
     "metadata": {},
     "output_type": "execute_result"
    }
   ],
   "source": [
    "ca[10]"
   ]
  },
  {
   "cell_type": "markdown",
   "metadata": {},
   "source": [
    "### 제출본"
   ]
  },
  {
   "cell_type": "code",
   "execution_count": null,
   "metadata": {},
   "outputs": [],
   "source": [
    "import os\n",
    "import sys\n",
    "from io import BytesIO, IOBase\n",
    " \n",
    "\n",
    "def main():\n",
    "    from collections import Counter\n",
    "\n",
    "    for _ in range(int(input())):\n",
    "        n = int(input())\n",
    "        a = list(map(int, input().split()))\n",
    "\n",
    "        sa = sum(a)\n",
    "        x = sa - (n - 2) * sa / n\n",
    "\n",
    "        if x != int(x):\n",
    "            print(0)\n",
    "        else:\n",
    "            x = int(x)\n",
    "\n",
    "            same_st = set()\n",
    "            ca = Counter(a)\n",
    "            result = 0\n",
    "            for v in a:\n",
    "                needed = x - v\n",
    "                if v > needed:\n",
    "                    continue\n",
    "                elif v == needed:\n",
    "                    if v in same_st:\n",
    "                        continue\n",
    "                    same_st.add(v)\n",
    "\n",
    "                    if v in ca:\n",
    "                        c = ca[v]\n",
    "                        result += c * (c - 1) // 2\n",
    "                else:\n",
    "                    if needed in ca:\n",
    "                        result += ca[needed]\n",
    "\n",
    "            print(result)\n",
    "\n",
    "    \n",
    "    \n",
    "    \n",
    "    \n",
    "    \n",
    "    \n",
    "    \n",
    "\n",
    "# region fastio\n",
    " \n",
    "BUFSIZE = 8192\n",
    " \n",
    "\n",
    "class FastIO(IOBase):\n",
    "    newlines = 0\n",
    " \n",
    "    def __init__(self, file):\n",
    "        self._fd = file.fileno()\n",
    "        self.buffer = BytesIO()\n",
    "        self.writable = \"x\" in file.mode or \"r\" not in file.mode\n",
    "        self.write = self.buffer.write if self.writable else None\n",
    " \n",
    "    def read(self):\n",
    "        while True:\n",
    "            b = os.read(self._fd, max(os.fstat(self._fd).st_size, BUFSIZE))\n",
    "            if not b:\n",
    "                break\n",
    "            ptr = self.buffer.tell()\n",
    "            self.buffer.seek(0, 2), self.buffer.write(b), self.buffer.seek(ptr)\n",
    "        self.newlines = 0\n",
    "        return self.buffer.read()\n",
    " \n",
    "    def readline(self):\n",
    "        while self.newlines == 0:\n",
    "            b = os.read(self._fd, max(os.fstat(self._fd).st_size, BUFSIZE))\n",
    "            self.newlines = b.count(b\"\\n\") + (not b)\n",
    "            ptr = self.buffer.tell()\n",
    "            self.buffer.seek(0, 2), self.buffer.write(b), self.buffer.seek(ptr)\n",
    "        self.newlines -= 1\n",
    "        return self.buffer.readline()\n",
    " \n",
    "    def flush(self):\n",
    "        if self.writable:\n",
    "            os.write(self._fd, self.buffer.getvalue())\n",
    "            self.buffer.truncate(0), self.buffer.seek(0)\n",
    " \n",
    " \n",
    "class IOWrapper(IOBase):\n",
    "    def __init__(self, file):\n",
    "        self.buffer = FastIO(file)\n",
    "        self.flush = self.buffer.flush\n",
    "        self.writable = self.buffer.writable\n",
    "        self.write = lambda s: self.buffer.write(s.encode(\"ascii\"))\n",
    "        self.read = lambda: self.buffer.read().decode(\"ascii\")\n",
    "        self.readline = lambda: self.buffer.readline().decode(\"ascii\")\n",
    " \n",
    " \n",
    "sys.stdin, sys.stdout = IOWrapper(sys.stdin), IOWrapper(sys.stdout)\n",
    "input = lambda: sys.stdin.readline().rstrip(\"\\r\\n\")\n",
    " \n",
    "# endregion\n",
    " \n",
    "if __name__ == \"__main__\":\n",
    "    main()"
   ]
  }
 ],
 "metadata": {
  "kernelspec": {
   "display_name": "Python 3",
   "language": "python",
   "name": "python3"
  },
  "language_info": {
   "codemirror_mode": {
    "name": "ipython",
    "version": 3
   },
   "file_extension": ".py",
   "mimetype": "text/x-python",
   "name": "python",
   "nbconvert_exporter": "python",
   "pygments_lexer": "ipython3",
   "version": "3.7.3"
  }
 },
 "nbformat": 4,
 "nbformat_minor": 4
}
