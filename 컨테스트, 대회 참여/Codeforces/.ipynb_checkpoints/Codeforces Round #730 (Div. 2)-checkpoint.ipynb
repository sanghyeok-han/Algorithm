{
 "cells": [
  {
   "cell_type": "code",
   "execution_count": null,
   "metadata": {},
   "outputs": [],
   "source": [
    "import os\n",
    "import sys\n",
    "from io import BytesIO, IOBase\n",
    "from math import gcd\n",
    "\n",
    "def main():\n",
    "    for _ in range(int(input())):\n",
    "        n = int(input())\n",
    "        li = list(map(int, input().split()))\n",
    "        s = sum(li)\n",
    "        s %= n\n",
    "        if s == 0:\n",
    "            print(0)\n",
    "        else:\n",
    "            print(s * (n - s))\n",
    "\n",
    "    \n",
    "# region fastio\n",
    " \n",
    "BUFSIZE = 8192\n",
    " \n",
    "\n",
    "class FastIO(IOBase):\n",
    "    newlines = 0\n",
    " \n",
    "    def __init__(self, file):\n",
    "        self._fd = file.fileno()\n",
    "        self.buffer = BytesIO()\n",
    "        self.writable = \"x\" in file.mode or \"r\" not in file.mode\n",
    "        self.write = self.buffer.write if self.writable else None\n",
    " \n",
    "    def read(self):\n",
    "        while True:\n",
    "            b = os.read(self._fd, max(os.fstat(self._fd).st_size, BUFSIZE))\n",
    "            if not b:\n",
    "                break\n",
    "            ptr = self.buffer.tell()\n",
    "            self.buffer.seek(0, 2), self.buffer.write(b), self.buffer.seek(ptr)\n",
    "        self.newlines = 0\n",
    "        return self.buffer.read()\n",
    " \n",
    "    def readline(self):\n",
    "        while self.newlines == 0:\n",
    "            b = os.read(self._fd, max(os.fstat(self._fd).st_size, BUFSIZE))\n",
    "            self.newlines = b.count(b\"\\n\") + (not b)\n",
    "            ptr = self.buffer.tell()\n",
    "            self.buffer.seek(0, 2), self.buffer.write(b), self.buffer.seek(ptr)\n",
    "        self.newlines -= 1\n",
    "        return self.buffer.readline()\n",
    " \n",
    "    def flush(self):\n",
    "        if self.writable:\n",
    "            os.write(self._fd, self.buffer.getvalue())\n",
    "            self.buffer.truncate(0), self.buffer.seek(0)\n",
    " \n",
    " \n",
    "class IOWrapper(IOBase):\n",
    "    def __init__(self, file):\n",
    "        self.buffer = FastIO(file)\n",
    "        self.flush = self.buffer.flush\n",
    "        self.writable = self.buffer.writable\n",
    "        self.write = lambda s: self.buffer.write(s.encode(\"ascii\"))\n",
    "        self.read = lambda: self.buffer.read().decode(\"ascii\")\n",
    "        self.readline = lambda: self.buffer.readline().decode(\"ascii\")\n",
    " \n",
    " \n",
    "sys.stdin, sys.stdout = IOWrapper(sys.stdin), IOWrapper(sys.stdout)\n",
    "input = lambda: sys.stdin.readline().rstrip(\"\\r\\n\")\n",
    " \n",
    "# endregion\n",
    " \n",
    "if __name__ == \"__main__\":\n",
    "    main()"
   ]
  },
  {
   "cell_type": "markdown",
   "metadata": {},
   "source": [
    "### A. Exciting Bets"
   ]
  },
  {
   "cell_type": "code",
   "execution_count": null,
   "metadata": {},
   "outputs": [],
   "source": [
    "a, b 같으면 무한\n",
    "최대는 항상 a,b 최대 - a,b 최소\n",
    "\n"
   ]
  },
  {
   "cell_type": "code",
   "execution_count": null,
   "metadata": {},
   "outputs": [],
   "source": [
    "from math import gcd\n",
    "\n",
    "for _ in range(int(input())):\n",
    "    a, b = map(int, input().split())\n",
    "\n",
    "    if a == b:\n",
    "        print(0, 0)\n",
    "    else:\n",
    "        max_value = max(a, b) - min(a, b)\n",
    "        \n",
    "        if max_value == gcd(a, b):\n",
    "            print(max_value, 0)\n",
    "        else:    \n",
    "            ra = a % max_value\n",
    "            rb = b % max_value\n",
    "\n",
    "            if ra != rb:\n",
    "                print(max_value, min(a, b))\n",
    "            else:\n",
    "                print(max_value, min(max_value - ra, ra, min(a, b)))"
   ]
  },
  {
   "cell_type": "markdown",
   "metadata": {},
   "source": [
    "### B. Customising the Track"
   ]
  },
  {
   "cell_type": "code",
   "execution_count": 29,
   "metadata": {},
   "outputs": [
    {
     "name": "stdout",
     "output_type": "stream",
     "text": [
      "10\n",
      "8 3 6 11 5 2 1 7 10 4\n",
      "21\n"
     ]
    }
   ],
   "source": [
    "for _ in range(int(input())):\n",
    "    n = int(input())\n",
    "    li = list(map(int, input().split()))\n",
    "    s = sum(li)\n",
    "    s %= n\n",
    "    if s == 0:\n",
    "        print(0)\n",
    "    else:\n",
    "        print(s * (n - s))"
   ]
  },
  {
   "cell_type": "markdown",
   "metadata": {},
   "source": [
    "### C. Need for Pink Slips"
   ]
  },
  {
   "cell_type": "code",
   "execution_count": 42,
   "metadata": {},
   "outputs": [
    {
     "name": "stdout",
     "output_type": "stream",
     "text": [
      "4.5\n"
     ]
    }
   ],
   "source": [
    "from decimal import getcontext, Decimal\n",
    "getcontext().prec = 100\n",
    "\n",
    "def dfs(c, m, p, valid_count):\n",
    "    global total\n",
    "    n_valid_count = valid_count - Decimal('1')\n",
    "    if n_valid_count == 0:\n",
    "        total += p\n",
    "        return\n",
    "    \n",
    "    if c > zero:\n",
    "        if c <= v:\n",
    "            to_share = c / n_valid_count\n",
    "            \n",
    "            if m > zero:\n",
    "                dfs(zero, m + to_share, p + to_share, n_valid_count)\n",
    "            else:\n",
    "                dfs(zero, zero, p + to_share, n_valid_count)\n",
    "        else:\n",
    "            diff = c - v\n",
    "            to_share = diff / (valid_count - Decimal('1'))\n",
    "            \n",
    "            if m > zero:\n",
    "                dfs(diff, m + to_share, p + to_share, n_valid_count)\n",
    "            else:\n",
    "                dfs(diff, zero, p + to_share, n_valid_count)\n",
    "    if m > zero:\n",
    "        if m <= v:   \n",
    "            to_share = m / n_valid_count\n",
    "            \n",
    "            if c > zero:\n",
    "                dfs(c + to_share, zero, p + to_share, n_valid_count)\n",
    "            else:\n",
    "                dfs(zero, zero, p + to_share, n_valid_count)\n",
    "        else:\n",
    "            diff = m - v\n",
    "            to_share = diff / (valid_count - Decimal('1'))\n",
    "            \n",
    "            if c > zero:\n",
    "                dfs(c + to_share, diff, p + to_share, valid_count)     \n",
    "            else:\n",
    "                dfs(zero, diff, p + to_share, valid_count)\n",
    "    if p > zero:\n",
    "        total += p\n",
    "    \n",
    "# c, m, p, v = map(Decimal, input().split())\n",
    "\n",
    "zero = Decimal()\n",
    "total = Decimal()\n",
    "dfs(c, m, p, Decimal('3'))\n",
    "print(total)"
   ]
  },
  {
   "cell_type": "code",
   "execution_count": 32,
   "metadata": {},
   "outputs": [
    {
     "data": {
      "text/plain": [
       "Decimal('0')"
      ]
     },
     "execution_count": 32,
     "metadata": {},
     "output_type": "execute_result"
    }
   ],
   "source": [
    "total"
   ]
  }
 ],
 "metadata": {
  "kernelspec": {
   "display_name": "Python 3",
   "language": "python",
   "name": "python3"
  },
  "language_info": {
   "codemirror_mode": {
    "name": "ipython",
    "version": 3
   },
   "file_extension": ".py",
   "mimetype": "text/x-python",
   "name": "python",
   "nbconvert_exporter": "python",
   "pygments_lexer": "ipython3",
   "version": "3.7.3"
  }
 },
 "nbformat": 4,
 "nbformat_minor": 4
}
