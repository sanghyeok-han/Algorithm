{
 "cells": [
  {
   "cell_type": "code",
   "execution_count": null,
   "metadata": {},
   "outputs": [],
   "source": [
    "import os\n",
    "import sys\n",
    "from io import BytesIO, IOBase\n",
    " \n",
    "\n",
    "def main():\n",
    "    from bisect import bisect_right\n",
    "\n",
    "    twos = []\n",
    "    for i in range(0, 50):\n",
    "        twos.append(2 ** i - 1)\n",
    "    st = set(twos)\n",
    "\n",
    "    for _ in range(int(input())):\n",
    "        n = int(input())\n",
    "        a = list(map(int, input().split()))\n",
    "\n",
    "        b = [0]\n",
    "        former_c = a[0] ^ b[0]\n",
    "        for i in range(1, n):\n",
    "            if a[i] in st:\n",
    "                cand = a[i]\n",
    "            else:\n",
    "                cand = twos[bisect_right(twos, a[i])]\n",
    "            cand = max(former_c, cand)\n",
    "\n",
    "            temp = cand - a[i]\n",
    "\n",
    "            former_c = cand\n",
    "            b.append(temp)\n",
    "\n",
    "        print(*b)\n",
    "\n",
    "# region fastio\n",
    " \n",
    "BUFSIZE = 8192\n",
    " \n",
    "\n",
    "class FastIO(IOBase):\n",
    "    newlines = 0\n",
    " \n",
    "    def __init__(self, file):\n",
    "        self._fd = file.fileno()\n",
    "        self.buffer = BytesIO()\n",
    "        self.writable = \"x\" in file.mode or \"r\" not in file.mode\n",
    "        self.write = self.buffer.write if self.writable else None\n",
    " \n",
    "    def read(self):\n",
    "        while True:\n",
    "            b = os.read(self._fd, max(os.fstat(self._fd).st_size, BUFSIZE))\n",
    "            if not b:\n",
    "                break\n",
    "            ptr = self.buffer.tell()\n",
    "            self.buffer.seek(0, 2), self.buffer.write(b), self.buffer.seek(ptr)\n",
    "        self.newlines = 0\n",
    "        return self.buffer.read()\n",
    " \n",
    "    def readline(self):\n",
    "        while self.newlines == 0:\n",
    "            b = os.read(self._fd, max(os.fstat(self._fd).st_size, BUFSIZE))\n",
    "            self.newlines = b.count(b\"\\n\") + (not b)\n",
    "            ptr = self.buffer.tell()\n",
    "            self.buffer.seek(0, 2), self.buffer.write(b), self.buffer.seek(ptr)\n",
    "        self.newlines -= 1\n",
    "        return self.buffer.readline()\n",
    " \n",
    "    def flush(self):\n",
    "        if self.writable:\n",
    "            os.write(self._fd, self.buffer.getvalue())\n",
    "            self.buffer.truncate(0), self.buffer.seek(0)\n",
    " \n",
    " \n",
    "class IOWrapper(IOBase):\n",
    "    def __init__(self, file):\n",
    "        self.buffer = FastIO(file)\n",
    "        self.flush = self.buffer.flush\n",
    "        self.writable = self.buffer.writable\n",
    "        self.write = lambda s: self.buffer.write(s.encode(\"ascii\"))\n",
    "        self.read = lambda: self.buffer.read().decode(\"ascii\")\n",
    "        self.readline = lambda: self.buffer.readline().decode(\"ascii\")\n",
    " \n",
    " \n",
    "sys.stdin, sys.stdout = IOWrapper(sys.stdin), IOWrapper(sys.stdout)\n",
    "input = lambda: sys.stdin.readline().rstrip(\"\\r\\n\")\n",
    " \n",
    "# endregion\n",
    " \n",
    "if __name__ == \"__main__\":\n",
    "    main()"
   ]
  },
  {
   "cell_type": "markdown",
   "metadata": {},
   "source": [
    "### A. Shortest Path with Obstacle"
   ]
  },
  {
   "cell_type": "code",
   "execution_count": 3,
   "metadata": {},
   "outputs": [
    {
     "name": "stdout",
     "output_type": "stream",
     "text": [
      "1 344\n",
      "1 10\n",
      "1 1\n",
      "334\n"
     ]
    }
   ],
   "source": [
    "from collections import deque\n",
    "\n",
    "t = int(input())\n",
    "for _ in range(t):\n",
    "    input()\n",
    "    sy, sx = map(int, input().split())\n",
    "    ey, ex = map(int, input().split())\n",
    "    fy, fx = map(int, input().split())\n",
    "\n",
    "    dx = [-1, 1, 0, 0]\n",
    "    dy = [0, 0, -1, 1]\n",
    "\n",
    "    li = [[float('inf')] * 1020 for _ in range(1020)]\n",
    "    li[sx][sy] = 0\n",
    "    li[fx][fy] = 'f'\n",
    "    queue = deque()\n",
    "    queue.append((sx, sy))\n",
    "\n",
    "    while queue:\n",
    "        x, y = queue.popleft()\n",
    "        if x == ex and y == ey:\n",
    "            break\n",
    "\n",
    "        for i in range(4):\n",
    "            nx = x + dx[i]\n",
    "            ny = y + dy[i]\n",
    "\n",
    "            if nx < 0 or nx >= 1020 or ny < 0 or ny >= 1020:\n",
    "                continue\n",
    "            if li[nx][ny] == 'f':\n",
    "                continue\n",
    "            if li[nx][ny] == float('inf'):\n",
    "                li[nx][ny] = li[x][y] + 1\n",
    "                queue.append((nx, ny))\n",
    "\n",
    "    print(li[ex][ey])"
   ]
  },
  {
   "cell_type": "code",
   "execution_count": null,
   "metadata": {},
   "outputs": [],
   "source": [
    "t = int(input())\n",
    "for _ in range(t):\n",
    "    input()\n",
    "    sy, sx = map(int, input().split())\n",
    "    ey, ex = map(int, input().split())\n",
    "    fy, fx = map(int, input().split())\n",
    "\n",
    "    if sx == ex == fx and (sy < fy < ey or ey < fy < sy):\n",
    "        print(abs(ey - sy) + 2)\n",
    "    elif sy == ey == fy and (sx < fx < ex or ex < fx < sx):\n",
    "        print(abs(ex - sx) + 2)\n",
    "    else:\n",
    "        print(abs(ex - sx) + abs(ey - sy))"
   ]
  },
  {
   "cell_type": "markdown",
   "metadata": {},
   "source": [
    "### B. Alphabetical Strings"
   ]
  },
  {
   "cell_type": "code",
   "execution_count": 17,
   "metadata": {},
   "outputs": [
    {
     "name": "stdout",
     "output_type": "stream",
     "text": [
      "11\n",
      "a\n",
      "YES\n",
      "ba\n",
      "YES\n",
      "ab\n",
      "YES\n",
      "bac\n",
      "YES\n",
      "ihfcbadeg\n",
      "YES\n",
      "z\n",
      "NO\n",
      "aa\n",
      "NO\n",
      "ca\n",
      "NO\n",
      "acb\n",
      "NO\n",
      "xyz\n",
      "NO\n",
      "ddcba\n",
      "NO\n"
     ]
    }
   ],
   "source": [
    "from collections import deque\n",
    "\n",
    "def alpha_to_num(alpha):\n",
    "    return ord(alpha) - 96\n",
    "\n",
    "def check(s):\n",
    "    deq = deque(s)\n",
    "    while deq:\n",
    "        if alpha_to_num(deq[0]) == len(deq):\n",
    "            deq.popleft()\n",
    "        elif alpha_to_num(deq[-1]) == len(deq):\n",
    "            deq.pop()\n",
    "        else:\n",
    "            return 'NO'\n",
    "    return 'YES'\n",
    "        \n",
    "for _ in range(int(input())):\n",
    "    s = input()\n",
    "    print(check(s))"
   ]
  },
  {
   "cell_type": "markdown",
   "metadata": {},
   "source": [
    "### C. Pair Programming"
   ]
  },
  {
   "cell_type": "code",
   "execution_count": 23,
   "metadata": {},
   "outputs": [
    {
     "name": "stdout",
     "output_type": "stream",
     "text": [
      "5 4 1\n",
      "8 7 8 0\n",
      "0\n",
      "-1\n"
     ]
    }
   ],
   "source": [
    "from collections import deque\n",
    "\n",
    "def solve(a, b, k):\n",
    "    result = []\n",
    "    current = k\n",
    "    while a or b:\n",
    "        if a and a[0] == 0:\n",
    "            a.popleft()\n",
    "            result.append(0)\n",
    "            current += 1\n",
    "            continue\n",
    "        if b and b[0] == 0:\n",
    "            b.popleft()\n",
    "            result.append(0)\n",
    "            current += 1            \n",
    "            continue\n",
    "        if a and b:\n",
    "            if a[0] <= b[0]:\n",
    "                if a[0] > current:\n",
    "                    return -1    \n",
    "                result.append(a.popleft())\n",
    "            else:\n",
    "                if b[0] > current:\n",
    "                    return -1    \n",
    "                result.append(b.popleft())\n",
    "        elif a:\n",
    "            if a[0] > current:\n",
    "                return -1    \n",
    "            result.append(a.popleft())\n",
    "        else:\n",
    "            if b[0] > current:\n",
    "                return -1    \n",
    "            result.append(b.popleft())\n",
    "    return result\n",
    "        \n",
    "\n",
    "for _ in range(int(input())):\n",
    "    input()\n",
    "    k, n, m = map(int, input().split())\n",
    "    a = deque(map(int, input().split()))\n",
    "    b = deque(map(int, input().split()))\n",
    "    result = solve(a, b, k)\n",
    "    if result == -1:\n",
    "        print(-1)\n",
    "    else:\n",
    "        print(*result)"
   ]
  },
  {
   "cell_type": "markdown",
   "metadata": {},
   "source": [
    "### D. Co-growing Sequence"
   ]
  },
  {
   "cell_type": "code",
   "execution_count": 82,
   "metadata": {},
   "outputs": [
    {
     "name": "stdout",
     "output_type": "stream",
     "text": [
      "4\n",
      "11 13 15 1\n",
      "0 2 0 2\n"
     ]
    }
   ],
   "source": [
    "from bisect import bisect\n",
    "\n",
    "twos = []\n",
    "for i in range(0, 50):\n",
    "    twos.append(2 ** i - 1)\n",
    "\n",
    "n = int(input())\n",
    "a = list(map(int, input().split()))\n",
    "\n",
    "b = [0]\n",
    "for i in range(1, n):\n",
    "    if a[i - 1] & a[i] == a[i - 1]:\n",
    "        if (a[i - 1] ^ b[i - 1]) & (a[i] ^ 0) == (a[i - 1] ^ b[i - 1]):    \n",
    "            b.append(0)\n",
    "            continue\n",
    "            \n",
    "    cand = twos[bisect(twos, a[i])] - a[i]\n",
    "    cand = max(cand, a[i - 1] ^ b[i - 1] - a[i])\n",
    "    b.append(cand)\n",
    "    \n",
    "print(*b)"
   ]
  },
  {
   "cell_type": "code",
   "execution_count": null,
   "metadata": {},
   "outputs": [],
   "source": [
    "from bisect import bisect_right\n",
    "\n",
    "twos = []\n",
    "for i in range(0, 50):\n",
    "    twos.append(2 ** i - 1)\n",
    "st = set(twos)\n",
    "\n",
    "for _ in range(int(input())):\n",
    "    n = int(input())\n",
    "    a = list(map(int, input().split()))\n",
    "\n",
    "    b = [0]\n",
    "    former_c = a[0] ^ b[0]\n",
    "    for i in range(1, n):\n",
    "        if a[i] in st:\n",
    "            cand = a[i]\n",
    "        else:\n",
    "            cand = twos[bisect_right(twos, a[i])]\n",
    "            \n",
    "        cand = max(former_c, cand)\n",
    "\n",
    "        temp = cand - a[i]\n",
    "\n",
    "        former_c = cand\n",
    "        b.append(temp)\n",
    "\n",
    "    print(*b)"
   ]
  },
  {
   "cell_type": "code",
   "execution_count": null,
   "metadata": {},
   "outputs": [],
   "source": [
    "4\n",
    "4\n",
    "63 31 15 7\n",
    "0 32 48 56"
   ]
  },
  {
   "cell_type": "code",
   "execution_count": 123,
   "metadata": {},
   "outputs": [
    {
     "data": {
      "text/plain": [
       "[0, 1, 3, 7, 15, 31, 63, 127, 255, 511]"
      ]
     },
     "execution_count": 123,
     "metadata": {},
     "output_type": "execute_result"
    }
   ],
   "source": [
    "twos[:10]"
   ]
  },
  {
   "cell_type": "code",
   "execution_count": 154,
   "metadata": {},
   "outputs": [
    {
     "data": {
      "text/plain": [
       "3"
      ]
     },
     "execution_count": 154,
     "metadata": {},
     "output_type": "execute_result"
    }
   ],
   "source": [
    "bisect_right(twos, 4)"
   ]
  },
  {
   "cell_type": "code",
   "execution_count": 128,
   "metadata": {},
   "outputs": [
    {
     "data": {
      "text/plain": [
       "3"
      ]
     },
     "execution_count": 128,
     "metadata": {},
     "output_type": "execute_result"
    }
   ],
   "source": [
    "twos[bisect_right(twos, 1)]"
   ]
  },
  {
   "cell_type": "code",
   "execution_count": 152,
   "metadata": {},
   "outputs": [
    {
     "data": {
      "text/plain": [
       "2"
      ]
     },
     "execution_count": 152,
     "metadata": {},
     "output_type": "execute_result"
    }
   ],
   "source": [
    "li = [1, 2, 4, 5]\n",
    "\n",
    "bisect_right(li, 3)"
   ]
  },
  {
   "cell_type": "code",
   "execution_count": null,
   "metadata": {},
   "outputs": [],
   "source": [
    "4\n",
    "63 31 15 7\n",
    "0 32 48 56"
   ]
  },
  {
   "cell_type": "code",
   "execution_count": 175,
   "metadata": {},
   "outputs": [],
   "source": [
    "a = [63, 31, 15, 7]\n",
    "b = [0, 32, 48, 56]\n",
    "c = []\n",
    "for i in range(n):\n",
    "    c.append(a[i]^b[i])"
   ]
  },
  {
   "cell_type": "code",
   "execution_count": 181,
   "metadata": {},
   "outputs": [
    {
     "data": {
      "text/plain": [
       "[63, 63, 63, 63]"
      ]
     },
     "execution_count": 181,
     "metadata": {},
     "output_type": "execute_result"
    }
   ],
   "source": [
    "c"
   ]
  },
  {
   "cell_type": "code",
   "execution_count": 48,
   "metadata": {},
   "outputs": [
    {
     "data": {
      "text/plain": [
       "[0,\n",
       " 1,\n",
       " 3,\n",
       " 7,\n",
       " 15,\n",
       " 31,\n",
       " 63,\n",
       " 127,\n",
       " 255,\n",
       " 511,\n",
       " 1023,\n",
       " 2047,\n",
       " 4095,\n",
       " 8191,\n",
       " 16383,\n",
       " 32767,\n",
       " 65535,\n",
       " 131071,\n",
       " 262143,\n",
       " 524287,\n",
       " 1048575,\n",
       " 2097151,\n",
       " 4194303,\n",
       " 8388607,\n",
       " 16777215,\n",
       " 33554431,\n",
       " 67108863,\n",
       " 134217727,\n",
       " 268435455,\n",
       " 536870911,\n",
       " 1073741823,\n",
       " 2147483647,\n",
       " 4294967295,\n",
       " 8589934591,\n",
       " 17179869183,\n",
       " 34359738367,\n",
       " 68719476735,\n",
       " 137438953471,\n",
       " 274877906943,\n",
       " 549755813887,\n",
       " 1099511627775,\n",
       " 2199023255551,\n",
       " 4398046511103,\n",
       " 8796093022207,\n",
       " 17592186044415,\n",
       " 35184372088831,\n",
       " 70368744177663,\n",
       " 140737488355327,\n",
       " 281474976710655,\n",
       " 562949953421311]"
      ]
     },
     "execution_count": 48,
     "metadata": {},
     "output_type": "execute_result"
    }
   ],
   "source": [
    "twos"
   ]
  },
  {
   "cell_type": "code",
   "execution_count": 40,
   "metadata": {},
   "outputs": [
    {
     "data": {
      "text/plain": [
       "15"
      ]
     },
     "execution_count": 40,
     "metadata": {},
     "output_type": "execute_result"
    }
   ],
   "source": [
    "2 ** 4 - 1"
   ]
  },
  {
   "cell_type": "code",
   "execution_count": 46,
   "metadata": {},
   "outputs": [
    {
     "data": {
      "text/plain": [
       "15"
      ]
     },
     "execution_count": 46,
     "metadata": {},
     "output_type": "execute_result"
    }
   ],
   "source": [
    "a[i]"
   ]
  },
  {
   "cell_type": "code",
   "execution_count": null,
   "metadata": {},
   "outputs": [],
   "source": []
  }
 ],
 "metadata": {
  "kernelspec": {
   "display_name": "Python 3",
   "language": "python",
   "name": "python3"
  },
  "language_info": {
   "codemirror_mode": {
    "name": "ipython",
    "version": 3
   },
   "file_extension": ".py",
   "mimetype": "text/x-python",
   "name": "python",
   "nbconvert_exporter": "python",
   "pygments_lexer": "ipython3",
   "version": "3.7.3"
  }
 },
 "nbformat": 4,
 "nbformat_minor": 4
}
