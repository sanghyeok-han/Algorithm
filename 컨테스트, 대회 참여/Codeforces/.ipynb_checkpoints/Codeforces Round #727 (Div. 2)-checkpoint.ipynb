{
 "cells": [
  {
   "cell_type": "markdown",
   "metadata": {},
   "source": [
    "### A. Contest Start"
   ]
  },
  {
   "cell_type": "raw",
   "metadata": {},
   "source": [
    "인원 텀 콘테스트 길이\n",
    "\n",
    "4    2     2\n",
    "\n",
    "2 4 6 8\n"
   ]
  },
  {
   "cell_type": "code",
   "execution_count": null,
   "metadata": {},
   "outputs": [],
   "source": [
    "만약 텀보다 콘테스트 길이가 작으면 0"
   ]
  },
  {
   "cell_type": "code",
   "execution_count": null,
   "metadata": {},
   "outputs": [],
   "source": [
    "아니면 처음 넘어가는 인원 수 구함\n",
    "\n",
    "그리고 나중 갈수록 -1 시킴 (맨 끝은 0이 되어야 함)"
   ]
  },
  {
   "cell_type": "code",
   "execution_count": null,
   "metadata": {},
   "outputs": [],
   "source": [
    "4 2 5\n",
    "\n",
    "2 4 6 8\n",
    "\n"
   ]
  },
  {
   "cell_type": "code",
   "execution_count": null,
   "metadata": {},
   "outputs": [],
   "source": [
    "2 4 6 8\n",
    "\n",
    "2 + 5\n",
    "\n",
    "5 // 2"
   ]
  },
  {
   "cell_type": "code",
   "execution_count": 1,
   "metadata": {},
   "outputs": [
    {
     "data": {
      "text/plain": [
       "2"
      ]
     },
     "execution_count": 1,
     "metadata": {},
     "output_type": "execute_result"
    }
   ],
   "source": [
    "5 // 2"
   ]
  },
  {
   "cell_type": "code",
   "execution_count": 10,
   "metadata": {},
   "outputs": [
    {
     "name": "stdout",
     "output_type": "stream",
     "text": [
      "4 3 1\n",
      "0\n"
     ]
    }
   ],
   "source": [
    "def get_sum(num):\n",
    "    return num * (num + 1) // 2\n",
    "\n",
    "for _ in range(int(input())):\n",
    "    n, x, t = map(int, input().split())\n",
    "    init =  min(t // x, n - 1)\n",
    "\n",
    "    print(get_sum(init) + init * (n - (init + 1)))"
   ]
  },
  {
   "cell_type": "code",
   "execution_count": 4,
   "metadata": {},
   "outputs": [
    {
     "data": {
      "text/plain": [
       "3"
      ]
     },
     "execution_count": 4,
     "metadata": {},
     "output_type": "execute_result"
    }
   ],
   "source": [
    "def get_sum(num):\n",
    "    return num * (num + 1) // 2\n",
    "\n",
    "get_sum(init)으로 init + 1명 커버\n",
    "\n",
    "init * (n - (init + 1))"
   ]
  },
  {
   "cell_type": "markdown",
   "metadata": {},
   "source": [
    "### B. Love Song"
   ]
  },
  {
   "cell_type": "code",
   "execution_count": 28,
   "metadata": {
    "scrolled": true
   },
   "outputs": [
    {
     "name": "stdout",
     "output_type": "stream",
     "text": [
      "1 1\n",
      "abc\n",
      "1 1\n",
      "1\n"
     ]
    }
   ],
   "source": [
    "def char_to_num(ch):\n",
    "    return ord(ch) - 96\n",
    "\n",
    "def get_value(ch):\n",
    "    return int(ch) - 1\n",
    "\n",
    "n, q = map(int, input().split())\n",
    "s = input()\n",
    "li = list(map(char_to_num, s))\n",
    "sum_li = [0] * n\n",
    "sum_li[0] = li[0]\n",
    "\n",
    "for i in range(1, n):\n",
    "    sum_li[i] = sum_li[i - 1] + li[i]\n",
    "\n",
    "for _ in range(q):\n",
    "    l, r = map(get_value, input().split())\n",
    "    \n",
    "    if l == 0:\n",
    "        print(sum_li[r])\n",
    "    else:\n",
    "        print(sum_li[r] - sum_li[l - 1])"
   ]
  },
  {
   "cell_type": "markdown",
   "metadata": {},
   "source": [
    "### C. Stable Groups"
   ]
  },
  {
   "cell_type": "raw",
   "metadata": {},
   "source": [
    "초기 학생 수   추가적으로 초대 가능 학생 수    최대 허용 레벨 차이\n",
    "\n",
    "     n                    k                             x"
   ]
  },
  {
   "cell_type": "code",
   "execution_count": 40,
   "metadata": {},
   "outputs": [
    {
     "name": "stdout",
     "output_type": "stream",
     "text": [
      "1 0 3\n",
      "3\n",
      "1\n"
     ]
    }
   ],
   "source": [
    "def get_remained(num):\n",
    "    temp = num // 2\n",
    "    if num % 2 > 0:\n",
    "        temp += 1\n",
    "    return temp\n",
    "\n",
    "n, k, x = map(int, input().split())\n",
    "li = list(map(int, input().split()))\n",
    "li.sort()\n",
    "diff_li = []\n",
    "\n",
    "for i in range(1, n):\n",
    "    diff_li.append(li[i] - li[i - 1])\n",
    "    \n",
    "diff_li = [v for v in diff_li if v > x]\n",
    "diff_li.sort()\n",
    "\n",
    "deleted_diff_element_count = 0\n",
    "for value in diff_li:\n",
    "    while k and value > x:\n",
    "        value = get_remained(value)\n",
    "        k -= 1\n",
    "    if value <= x:\n",
    "        deleted_diff_element_count += 1\n",
    "    if not k:\n",
    "        break\n",
    "        \n",
    "print(len(diff_li) - deleted_diff_element_count + 1)"
   ]
  },
  {
   "cell_type": "code",
   "execution_count": 37,
   "metadata": {},
   "outputs": [
    {
     "name": "stdout",
     "output_type": "stream",
     "text": [
      "1\n"
     ]
    }
   ],
   "source": [
    "\n",
    "\n"
   ]
  },
  {
   "cell_type": "code",
   "execution_count": 33,
   "metadata": {},
   "outputs": [
    {
     "data": {
      "text/plain": [
       "0"
      ]
     },
     "execution_count": 33,
     "metadata": {},
     "output_type": "execute_result"
    }
   ],
   "source": [
    "deleted_diff_element_count"
   ]
  },
  {
   "cell_type": "code",
   "execution_count": null,
   "metadata": {},
   "outputs": [],
   "source": [
    "받은 배열 정렬시키기\n",
    "배열 정렬 시키고 각 원소별 차를 구해서 heap으로 관리\n",
    "heap에서 -1보다 작으면 전부 \n",
    "각 원소별 차를 또 정렬시키고 가장 작은 것부터 2로 계속 나누면서 (get_remained 이용) k에서 계속 빼면서 가능한지의 여부를 파악함\n",
    "\n"
   ]
  },
  {
   "cell_type": "raw",
   "metadata": {},
   "source": [
    "잡생각: 심장 박동 수가 늦으면 좋은건가? 카네기? 케이스 검색"
   ]
  },
  {
   "cell_type": "markdown",
   "metadata": {},
   "source": [
    "### D. PriceFixed"
   ]
  },
  {
   "cell_type": "code",
   "execution_count": 43,
   "metadata": {},
   "outputs": [
    {
     "name": "stdout",
     "output_type": "stream",
     "text": [
      "3\n",
      "3 4\n",
      "1 3\n",
      "1 5\n",
      "[[1, 5], [3, 4], [1, 3]]\n",
      "1 5 2\n",
      "3 4 8\n",
      "1 3 9\n",
      "9\n"
     ]
    }
   ],
   "source": [
    "n = int(input())\n",
    "li = [list(map(int, input().split())) for _ in range(n)]\n",
    "li.sort(key=lambda x: (-x[1], -x[0]))\n",
    "\n",
    "total = 0\n",
    "cumul_count = 0\n",
    "print(li)\n",
    "for amount, limit in li:\n",
    "    if cumul_count >= limit:\n",
    "        total += amount\n",
    "    else:\n",
    "        if cumul_count + amount <= limit:\n",
    "            total += 2 * amount\n",
    "            cumul_count += amount\n",
    "        else:\n",
    "            no_discounted_count = (limit - cumul)\n",
    "            discounted_count = amount - no_discounted_count\n",
    "            total += 2 * no_discounted_count + discounted_count\n",
    "            cumul_count += amount\n",
    "    print(amount, limit, total)\n",
    "            \n",
    "print(total)"
   ]
  },
  {
   "cell_type": "code",
   "execution_count": null,
   "metadata": {},
   "outputs": [],
   "source": [
    "5\n",
    "2 7\n",
    "2 8\n",
    "1 2\n",
    "2 4\n",
    "1 8\n",
    "\n",
    "1 8\n",
    "1 2\n",
    "2 8\n",
    "2 7\n",
    "2 4\n",
    "\n",
    "2 2 2 2 2 2 1 1\n",
    "\n",
    "2 8 1, 2\n",
    "1 8\n",
    "2 7\n",
    "2 4 4\n",
    "1 2 3\n"
   ]
  },
  {
   "cell_type": "code",
   "execution_count": null,
   "metadata": {},
   "outputs": [],
   "source": [
    "2\n",
    "\n",
    "1 3\n",
    "1 3\n",
    "1 3\n",
    "2 11\n",
    "\n",
    "\n",
    "\n"
   ]
  },
  {
   "cell_type": "raw",
   "metadata": {},
   "source": [
    "싸게된거 샀을 때 1원, 그러고서 다른거 싸게 되었을 때 사면 1원: 총 2원\n",
    "그러므로 다른게 싸게 될 때까지 필요없는 것을 구매할 필요는 없다."
   ]
  },
  {
   "cell_type": "code",
   "execution_count": null,
   "metadata": {},
   "outputs": [],
   "source": [
    "cumul  amount  limit\n",
    "3         10     5\n",
    "\n",
    "4 5 6 7 8 9 10 11 12 13\n",
    "2 2 1 1 1 1 1  1   1  1"
   ]
  },
  {
   "cell_type": "markdown",
   "metadata": {},
   "source": [
    "### * 예제도 통과 못하는 코드를 열심히 구현하였음. 예제를 좀 더 탐구해볼 필요가 있음"
   ]
  },
  {
   "cell_type": "raw",
   "metadata": {},
   "source": [
    "가장 작은거 통과할 때까지 가장 높은거에서 계속 깜\n",
    "\n",
    "마우스 뒤집는 강박증 금지, 여러 오류 가능성 있음\n",
    "\n",
    "테스트 케이스 여러 개 있는거 확인하기\n",
    "\n",
    "n이 크면 sys input 사용하기"
   ]
  },
  {
   "cell_type": "code",
   "execution_count": null,
   "metadata": {},
   "outputs": [],
   "source": [
    "3 4\n",
    "1 3\n",
    "1 5\n",
    "\n",
    "3 4\n",
    "1 3\n",
    "\n",
    "2 4\n",
    "1 3\n",
    "\n",
    "1 4\n",
    "1 3\n",
    "\n",
    "1 4\n",
    "\n",
    "0"
   ]
  },
  {
   "cell_type": "code",
   "execution_count": 52,
   "metadata": {},
   "outputs": [
    {
     "name": "stdout",
     "output_type": "stream",
     "text": [
      "3\n",
      "3 4\n",
      "1 3\n",
      "1 5\n",
      "deque([[1, 3], [3, 4], [1, 5]]) 0\n",
      "deque([[1, 3], [3, 4]]) 1\n",
      "deque([[1, 3], (1, 4)]) 3\n",
      "deque([(1, 4)]) 4\n",
      "8\n"
     ]
    }
   ],
   "source": [
    "# 제출할 때 한글 주석 제거\n",
    "from collections import deque\n",
    "\n",
    "n = int(input())\n",
    "li = [list(map(int, input().split())) for _ in range(n)]\n",
    "li.sort(key=lambda x: x[1])\n",
    "\n",
    "deq = deque(li)\n",
    "\n",
    "total = 0\n",
    "cumul_count = 0\n",
    "while deq:\n",
    "    if cumul_count >= deq[0][1]:\n",
    "        amount, _ = deq.popleft()\n",
    "        total += amount\n",
    "        cumul_count += amount\n",
    "        continue\n",
    "    # 가장 작은 리밋을 가진 것의 리밋이 가장 리밋의 큰 값의 양으로 커버가 안되는 경우\n",
    "    if deq[0][1] >= cumul_count + deq[-1][0]:\n",
    "        amount, limit = deq.pop()\n",
    "        total += amount * 2\n",
    "        cumul_count += amount\n",
    "    # 가장 리밋이 큰 것에서 일부만 구매하는 경우\n",
    "    else:\n",
    "        to_buy = deq[0][1] - cumul_count\n",
    "        amount, limit = deq.pop()\n",
    "        deq.append((amount - to_buy, limit))\n",
    "        total += to_buy * 2\n",
    "        cumul_count += to_buy\n",
    "        \n",
    "print(total)"
   ]
  },
  {
   "cell_type": "code",
   "execution_count": 59,
   "metadata": {},
   "outputs": [
    {
     "name": "stdout",
     "output_type": "stream",
     "text": [
      "1\n",
      "3 2\n",
      "5\n"
     ]
    }
   ],
   "source": [
    "from collections import deque\n",
    "import sys\n",
    "# input = sys.stdin.readline\n",
    "\n",
    "n = int(input().rstrip())\n",
    "li = [list(map(int, input().rstrip().split())) for _ in range(n)]\n",
    "li.sort(key=lambda x: x[1])\n",
    "\n",
    "deq = deque(li)\n",
    "\n",
    "total = 0\n",
    "cumul_count = 0\n",
    "while deq:\n",
    "    if cumul_count >= deq[0][1]:\n",
    "        amount, _ = deq.popleft()\n",
    "        total += amount\n",
    "        cumul_count += amount\n",
    "        continue\n",
    "    if deq[0][1] >= cumul_count + deq[-1][0]:\n",
    "        amount, limit = deq.pop()\n",
    "        total += amount * 2\n",
    "        cumul_count += amount\n",
    "    else:\n",
    "        to_buy = deq[0][1] - cumul_count\n",
    "        amount, limit = deq.pop()\n",
    "        deq.append((amount - to_buy, limit))\n",
    "        total += to_buy * 2\n",
    "        cumul_count += to_buy\n",
    "        \n",
    "print(total)"
   ]
  },
  {
   "cell_type": "markdown",
   "metadata": {},
   "source": [
    "### E.  Game with Cards"
   ]
  },
  {
   "cell_type": "markdown",
   "metadata": {},
   "source": [
    "### F. Strange Array"
   ]
  },
  {
   "cell_type": "code",
   "execution_count": null,
   "metadata": {},
   "outputs": [],
   "source": []
  }
 ],
 "metadata": {
  "kernelspec": {
   "display_name": "Python 3",
   "language": "python",
   "name": "python3"
  },
  "language_info": {
   "codemirror_mode": {
    "name": "ipython",
    "version": 3
   },
   "file_extension": ".py",
   "mimetype": "text/x-python",
   "name": "python",
   "nbconvert_exporter": "python",
   "pygments_lexer": "ipython3",
   "version": "3.7.3"
  }
 },
 "nbformat": 4,
 "nbformat_minor": 4
}
