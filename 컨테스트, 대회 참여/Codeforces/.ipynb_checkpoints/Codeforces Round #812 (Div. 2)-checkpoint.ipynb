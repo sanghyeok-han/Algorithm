{
 "cells": [
  {
   "cell_type": "markdown",
   "metadata": {},
   "source": [
    "A"
   ]
  },
  {
   "cell_type": "code",
   "execution_count": 6,
   "metadata": {},
   "outputs": [
    {
     "name": "stdout",
     "output_type": "stream",
     "text": [
      "4\n",
      "0 -2\n",
      "1 0\n",
      "-1 0\n",
      "0 2\n",
      "12\n"
     ]
    }
   ],
   "source": [
    "import sys\n",
    "input = lambda: sys.stdin.readline().rstrip()\n",
    "\n",
    "for _ in range(int(input())):\n",
    "    n = int(input())\n",
    "\n",
    "    max_x = 0\n",
    "    min_x = 0\n",
    "    max_y = 0\n",
    "    min_y = 0\n",
    "    for _ in range(n):\n",
    "        x, y = map(int, input().split())\n",
    "\n",
    "        max_x = max(max_x, x)\n",
    "        min_x = min(min_x, x)\n",
    "        max_y = max(max_y, y)\n",
    "        min_y = min(min_y, y)\n",
    "\n",
    "    r = (max_x + abs(min_x) + max_y + abs(min_y)) * 2\n",
    "\n",
    "    print(r)"
   ]
  },
  {
   "cell_type": "markdown",
   "metadata": {},
   "source": [
    "B"
   ]
  },
  {
   "cell_type": "markdown",
   "metadata": {},
   "source": [
    "11.40 11.51~2"
   ]
  },
  {
   "cell_type": "code",
   "execution_count": 14,
   "metadata": {},
   "outputs": [
    {
     "name": "stdout",
     "output_type": "stream",
     "text": [
      "4\n",
      "3 1 3 2\n",
      "NO\n"
     ]
    }
   ],
   "source": [
    "from collections import deque\n",
    "import sys\n",
    "input = lambda: sys.stdin.readline().rstrip()\n",
    "\n",
    "for _ in range(int(input())):\n",
    "    n = int(input())\n",
    "    li = list(map(int, input().split()))\n",
    "    deq = deque(li)\n",
    "\n",
    "    ip = True\n",
    "    li.sort(reverse=True)\n",
    "    while li:\n",
    "        if deq[0] == li[-1]:\n",
    "            deq.popleft()\n",
    "            li.pop()\n",
    "        elif deq[-1] == li[-1]:\n",
    "            deq.pop()\n",
    "            li.pop()\n",
    "        else:\n",
    "            ip = False\n",
    "            break\n",
    "\n",
    "    if ip:\n",
    "        print('YES')\n",
    "    else:\n",
    "        print('NO')"
   ]
  },
  {
   "cell_type": "markdown",
   "metadata": {},
   "source": [
    "C"
   ]
  },
  {
   "cell_type": "markdown",
   "metadata": {},
   "source": [
    "11.52"
   ]
  },
  {
   "cell_type": "code",
   "execution_count": 29,
   "metadata": {},
   "outputs": [
    {
     "data": {
      "text/plain": [
       "501"
      ]
     },
     "execution_count": 29,
     "metadata": {},
     "output_type": "execute_result"
    }
   ],
   "source": [
    "ss = [0]\n",
    "st = {0}\n",
    "for cur in range(1, 1000000):\n",
    "    cur_s = cur ** 2\n",
    "    \n",
    "    if cur_s > 250000:\n",
    "        break\n",
    "    ss.append(cur_s)\n",
    "    st.add(cur_s)\n",
    "    \n",
    "len(ss)"
   ]
  },
  {
   "cell_type": "code",
   "execution_count": 22,
   "metadata": {},
   "outputs": [
    {
     "data": {
      "text/plain": [
       "2"
      ]
     },
     "execution_count": 22,
     "metadata": {},
     "output_type": "execute_result"
    }
   ],
   "source": [
    "from bisect import bisect_left\n",
    "\n",
    "bisect_left(ss, 5 + 0.1)"
   ]
  },
  {
   "cell_type": "code",
   "execution_count": 32,
   "metadata": {},
   "outputs": [
    {
     "data": {
      "text/plain": [
       "4"
      ]
     },
     "execution_count": 32,
     "metadata": {},
     "output_type": "execute_result"
    }
   ],
   "source": [
    "ss[2]"
   ]
  },
  {
   "cell_type": "code",
   "execution_count": 31,
   "metadata": {},
   "outputs": [
    {
     "data": {
      "text/plain": [
       "[0, 1, 4, 9, 16, 25, 36, 49, 64, 81]"
      ]
     },
     "execution_count": 31,
     "metadata": {},
     "output_type": "execute_result"
    }
   ],
   "source": [
    "ss[:10]"
   ]
  },
  {
   "cell_type": "code",
   "execution_count": 61,
   "metadata": {},
   "outputs": [
    {
     "name": "stdout",
     "output_type": "stream",
     "text": [
      "7\n",
      "1 0 2 6 5 4 3\n"
     ]
    }
   ],
   "source": [
    "from bisect import bisect_left\n",
    "import sys\n",
    "input = lambda: sys.stdin.readline().rstrip()\n",
    "\n",
    "ss = [0]\n",
    "st = {0}\n",
    "for cur in range(1, 1000000):\n",
    "    cur_s = cur ** 2\n",
    "    \n",
    "    if cur_s > 250000:\n",
    "        break\n",
    "    ss.append(cur_s)\n",
    "    st.add(cur_s)\n",
    "\n",
    "for _ in range(int(input())):\n",
    "    n = int(input())\n",
    "\n",
    "    r = [-1] * n\n",
    "    num = n - 1\n",
    "    while num >= 0:\n",
    "        if num in st:\n",
    "            r_index = 0\n",
    "            r[r_index] = num\n",
    "            num -= 1\n",
    "            while r_index + 1 < n and r[r_index + 1] == -1:\n",
    "                r_index += 1\n",
    "                r[r_index] = num\n",
    "                num -= 1   \n",
    "        else:     \n",
    "            index = bisect_left(ss, num + 0.1)\n",
    "\n",
    "            r_index = ss[index] - num\n",
    "            r[r_index] = num\n",
    "            num -= 1\n",
    "            while r_index + 1 < n and r[r_index + 1] == -1:\n",
    "                r_index += 1\n",
    "                r[r_index] = num\n",
    "                num -= 1\n",
    "\n",
    "    print(*r)"
   ]
  },
  {
   "cell_type": "code",
   "execution_count": 34,
   "metadata": {},
   "outputs": [
    {
     "data": {
      "text/plain": [
       "[1, 0, 5, 4, 3, 2]"
      ]
     },
     "execution_count": 34,
     "metadata": {},
     "output_type": "execute_result"
    }
   ],
   "source": [
    "r"
   ]
  },
  {
   "cell_type": "code",
   "execution_count": 27,
   "metadata": {},
   "outputs": [
    {
     "data": {
      "text/plain": [
       "[-1, 0, 2, 1, 5, 4]"
      ]
     },
     "execution_count": 27,
     "metadata": {},
     "output_type": "execute_result"
    }
   ],
   "source": [
    "r"
   ]
  }
 ],
 "metadata": {
  "kernelspec": {
   "display_name": "Python 3",
   "language": "python",
   "name": "python3"
  },
  "language_info": {
   "codemirror_mode": {
    "name": "ipython",
    "version": 3
   },
   "file_extension": ".py",
   "mimetype": "text/x-python",
   "name": "python",
   "nbconvert_exporter": "python",
   "pygments_lexer": "ipython3",
   "version": "3.7.4"
  }
 },
 "nbformat": 4,
 "nbformat_minor": 2
}
