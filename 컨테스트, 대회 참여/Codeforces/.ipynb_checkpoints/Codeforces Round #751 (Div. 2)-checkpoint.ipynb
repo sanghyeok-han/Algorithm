{
 "cells": [
  {
   "cell_type": "code",
   "execution_count": null,
   "metadata": {},
   "outputs": [],
   "source": [
    "n = int(input())\n",
    "li = list(map(int, input().split()))"
   ]
  },
  {
   "cell_type": "markdown",
   "metadata": {},
   "source": [
    "A"
   ]
  },
  {
   "cell_type": "code",
   "execution_count": 7,
   "metadata": {},
   "outputs": [
    {
     "name": "stdout",
     "output_type": "stream",
     "text": [
      "thebrightboiler\n",
      "b therightboiler\n"
     ]
    }
   ],
   "source": [
    "s = list(map(lambda x: ord(x), input()))\n",
    "\n",
    "a = min(s)\n",
    "s.remove(a)\n",
    "\n",
    "a = chr(a)\n",
    "b = ''.join(map(chr, s))\n",
    "\n",
    "print(a, b)"
   ]
  },
  {
   "cell_type": "code",
   "execution_count": null,
   "metadata": {},
   "outputs": [],
   "source": [
    "for _ in range(int(input())):\n",
    "    s = list(map(lambda x: ord(x), input()))\n",
    "\n",
    "    a = min(s)\n",
    "    s.remove(a)\n",
    "\n",
    "    a = chr(a)\n",
    "    b = ''.join(map(chr, s))\n",
    "\n",
    "    print(a, b) "
   ]
  },
  {
   "cell_type": "markdown",
   "metadata": {},
   "source": [
    "B"
   ]
  },
  {
   "cell_type": "code",
   "execution_count": 9,
   "metadata": {},
   "outputs": [
    {
     "name": "stdout",
     "output_type": "stream",
     "text": [
      "2\n",
      "7\n",
      "2 1 1 4 3 1 2\n",
      "4\n",
      "3 0\n",
      "1\n",
      "1 1\n",
      "2\n",
      "2 2\n",
      "3\n",
      "6 1\n",
      "3\n",
      "2\n",
      "1 1\n",
      "2\n",
      "1 0\n",
      "1\n",
      "2 1000000000\n",
      "2\n"
     ]
    }
   ],
   "source": [
    "from collections import Counter\n",
    "\n",
    "for _ in range(int(input())):\n",
    "    n = int(input())\n",
    "    li = list(map(int, input().split()))\n",
    "\n",
    "    vt = set()\n",
    "    vt.add(tuple(li))\n",
    "    seqs = [tuple(li)]\n",
    "\n",
    "    while True:\n",
    "        c = Counter(li)\n",
    "        li = [c[v] for v in li]\n",
    "\n",
    "        li_t = tuple(li)\n",
    "        if li_t in vt:\n",
    "            break\n",
    "        vt.add(li_t)\n",
    "        seqs.append(li_t)\n",
    "\n",
    "    seqs_len = len(seqs)\n",
    "    q = int(input())\n",
    "    for _ in range(q):\n",
    "        x, k = map(int, input().split())\n",
    "        x -= 1\n",
    "\n",
    "        if k >= seqs_len:\n",
    "            k = seqs_len - 1\n",
    "\n",
    "        print(seqs[k][x])"
   ]
  },
  {
   "cell_type": "code",
   "execution_count": 95,
   "metadata": {},
   "outputs": [
    {
     "data": {
      "text/plain": [
       "4000000"
      ]
     },
     "execution_count": 95,
     "metadata": {},
     "output_type": "execute_result"
    }
   ],
   "source": [
    "2000 * 2000"
   ]
  },
  {
   "cell_type": "markdown",
   "metadata": {},
   "source": [
    "C"
   ]
  },
  {
   "cell_type": "code",
   "execution_count": 90,
   "metadata": {},
   "outputs": [
    {
     "name": "stdout",
     "output_type": "stream",
     "text": [
      "1 2 3 4 5\n"
     ]
    }
   ],
   "source": [
    "from math import gcd\n",
    "\n",
    "# n = int(input())\n",
    "# li = list(map(int, input().split()))\n",
    "\n",
    "n = 5\n",
    "s = '0 0 0 0 0'\n",
    "li = list(map(int, s.split()))\n",
    "li = list(map(bin, li))\n",
    "\n",
    "bc = [0] * 30 # bit counts\n",
    "for v in li:\n",
    "    lv = len(v)\n",
    "    for i in range(lv - 1, -1, -1):\n",
    "        if v[i] =='b':\n",
    "            break\n",
    "        if v[i] == '1':\n",
    "            bc[lv - 1 - i] += 1\n",
    "    \n",
    "bc = [v for v in bc if v]\n",
    "if not bc:\n",
    "    print(*range(1, n + 1))\n",
    "else:\n",
    "    g = bc[0]\n",
    "    for i in range(1, len(bc)):\n",
    "        g = gcd(g, bc[i])\n",
    "        \n",
    "    result = []\n",
    "    for mod in range(1, g + 1):\n",
    "        if g % mod == 0:\n",
    "            result.append(mod)\n",
    "\n",
    "    print(*result)"
   ]
  },
  {
   "cell_type": "code",
   "execution_count": 94,
   "metadata": {},
   "outputs": [
    {
     "name": "stdout",
     "output_type": "stream",
     "text": [
      "4\n",
      "4\n",
      "4 4 4 4\n",
      "1 2 4\n",
      "5\n",
      "5 5 5 5 5\n",
      "1 5\n",
      "6\n",
      "6 6 6 6 6 6\n",
      "1 2 3 6\n",
      "2\n",
      "0 0\n",
      "1 2\n"
     ]
    }
   ],
   "source": [
    "from math import gcd\n",
    "\n",
    "for _ in range(int(input())):\n",
    "    n = int(input())\n",
    "    li = list(map(int, input().split()))\n",
    "\n",
    "    li = list(map(bin, li))\n",
    "\n",
    "    bc = [0] * 30 # bit counts\n",
    "    for v in li:\n",
    "        lv = len(v)\n",
    "        for i in range(lv - 1, -1, -1):\n",
    "            if v[i] =='b':\n",
    "                break\n",
    "            if v[i] == '1':\n",
    "                bc[lv - 1 - i] += 1\n",
    "\n",
    "    bc = [v for v in bc if v]\n",
    "    if not bc:\n",
    "        print(*range(1, n + 1))\n",
    "    else:\n",
    "        g = bc[0]\n",
    "        for i in range(1, len(bc)):\n",
    "            g = gcd(g, bc[i])\n",
    "\n",
    "        result = []\n",
    "        for mod in range(1, g + 1):\n",
    "            if g % mod == 0:\n",
    "                result.append(mod)\n",
    "\n",
    "        print(*result)"
   ]
  },
  {
   "cell_type": "code",
   "execution_count": null,
   "metadata": {},
   "outputs": [],
   "source": [
    "1 1 3 3 5 7\n",
    "\n",
    "1 & 1 & 3"
   ]
  },
  {
   "cell_type": "code",
   "execution_count": 65,
   "metadata": {},
   "outputs": [
    {
     "data": {
      "text/plain": [
       "1"
      ]
     },
     "execution_count": 65,
     "metadata": {},
     "output_type": "execute_result"
    }
   ],
   "source": [
    "1 & 1 & 3"
   ]
  },
  {
   "cell_type": "code",
   "execution_count": 66,
   "metadata": {},
   "outputs": [
    {
     "data": {
      "text/plain": [
       "1"
      ]
     },
     "execution_count": 66,
     "metadata": {},
     "output_type": "execute_result"
    }
   ],
   "source": [
    "3 & 5 & 7 "
   ]
  },
  {
   "cell_type": "code",
   "execution_count": 67,
   "metadata": {},
   "outputs": [
    {
     "data": {
      "text/plain": [
       "0"
      ]
     },
     "execution_count": 67,
     "metadata": {},
     "output_type": "execute_result"
    }
   ],
   "source": [
    "2 & 4 & 6"
   ]
  },
  {
   "cell_type": "code",
   "execution_count": 72,
   "metadata": {},
   "outputs": [
    {
     "data": {
      "text/plain": [
       "4"
      ]
     },
     "execution_count": 72,
     "metadata": {},
     "output_type": "execute_result"
    }
   ],
   "source": [
    "6 & 12"
   ]
  },
  {
   "cell_type": "code",
   "execution_count": null,
   "metadata": {},
   "outputs": [],
   "source": [
    "{0, 1}   {0, 2}, {0,  1}  {0} "
   ]
  },
  {
   "cell_type": "code",
   "execution_count": 44,
   "metadata": {},
   "outputs": [
    {
     "name": "stdout",
     "output_type": "stream",
     "text": [
      "['0b11', '0b101', '0b11', '0b1', '0b111', '0b1']\n"
     ]
    }
   ],
   "source": [
    "print(list(map(bin, li)))"
   ]
  },
  {
   "cell_type": "code",
   "execution_count": 59,
   "metadata": {},
   "outputs": [
    {
     "data": {
      "text/plain": [
       "0"
      ]
     },
     "execution_count": 59,
     "metadata": {},
     "output_type": "execute_result"
    }
   ],
   "source": [
    "17 & 6"
   ]
  },
  {
   "cell_type": "code",
   "execution_count": 63,
   "metadata": {},
   "outputs": [
    {
     "data": {
      "text/plain": [
       "0"
      ]
     },
     "execution_count": 63,
     "metadata": {},
     "output_type": "execute_result"
    }
   ],
   "source": [
    "18 & 5"
   ]
  },
  {
   "cell_type": "code",
   "execution_count": 64,
   "metadata": {},
   "outputs": [
    {
     "data": {
      "text/plain": [
       "5"
      ]
     },
     "execution_count": 64,
     "metadata": {},
     "output_type": "execute_result"
    }
   ],
   "source": [
    "5 & 7"
   ]
  },
  {
   "cell_type": "markdown",
   "metadata": {},
   "source": [
    "D"
   ]
  },
  {
   "cell_type": "code",
   "execution_count": 117,
   "metadata": {},
   "outputs": [],
   "source": [
    "n = 10\n",
    "a = '0 1 2 3 5 5 6 7 8 5'\n",
    "b = '9 8 7 1 5 4 3 2 0 0'\n",
    "\n",
    "a = list(map(int, a.split()))\n",
    "b = list(map(int, b.split()))"
   ]
  },
  {
   "cell_type": "code",
   "execution_count": 127,
   "metadata": {},
   "outputs": [
    {
     "name": "stdout",
     "output_type": "stream",
     "text": [
      "3\n",
      "0 2 2\n",
      "1 1 0\n",
      "2\n",
      "1 0\n"
     ]
    }
   ],
   "source": [
    "n = int(input())\n",
    "a = list(map(int, input().split()))\n",
    "b = list(map(int, input().split()))\n",
    "\n",
    "loc = n - 1\n",
    "count = 1\n",
    "x = float('inf') # 이번에 뛰어서 처음 도달할 수 있는 가장 높은 곳\n",
    "y = float('inf') # 다음번에 뛰어서 처음 도달할 수 있는 가장 높은 곳\n",
    "zs = [] # 다음번에 뛰어서 처음 가장 높은 위치 도달할 수 있는 이번에 처음 도달한 위치들\n",
    "t = float('inf') # 다음번에 뛰어서 처음 가장 높은 위치 도달할 수 있는 이번에 최종 도달한 위치\n",
    "\n",
    "vt = set()\n",
    "while True:\n",
    "    z = float('inf') # 다음번에 뛰어서 처음 가장 높은 위치 도달할 수 있는 이번에 처음 도달한 위치\n",
    "    x = loc - a[loc]\n",
    "    if x == -1:\n",
    "        zs.append(0)\n",
    "        \n",
    "        print(count)\n",
    "        print(*zs)\n",
    "        break\n",
    "        \n",
    "    for init_nloc in range(loc, loc - a[loc] - 1, -1):\n",
    "        nloc = init_nloc + b[init_nloc]\n",
    "        next_init_nloc = nloc - a[nloc]\n",
    "\n",
    "        if next_init_nloc < y:\n",
    "            y = next_init_nloc\n",
    "            z = init_nloc\n",
    "            t = nloc\n",
    "            \n",
    "    count += 1\n",
    "    zs.append(z + 1)\n",
    "    loc = t\n",
    "    \n",
    "    if loc in vt:\n",
    "        print(-1)\n",
    "        break\n",
    "    vt.add(loc)"
   ]
  },
  {
   "cell_type": "markdown",
   "metadata": {},
   "source": [
    "### 제출본"
   ]
  },
  {
   "cell_type": "code",
   "execution_count": null,
   "metadata": {},
   "outputs": [],
   "source": [
    "import os\n",
    "import sys\n",
    "from io import BytesIO, IOBase\n",
    " \n",
    "\n",
    "def main():\n",
    "    n = int(input())\n",
    "    a = list(map(int, input().split()))\n",
    "    b = list(map(int, input().split()))\n",
    "\n",
    "    loc = n - 1\n",
    "    count = 1\n",
    "    x = float('inf')\n",
    "    y = float('inf')\n",
    "    zs = []\n",
    "    t = float('inf')\n",
    "\n",
    "    vt = set()\n",
    "    while True:\n",
    "        z = float('inf')\n",
    "        x = loc - a[loc]\n",
    "        if x == -1:\n",
    "            zs.append(0)\n",
    "\n",
    "            print(count)\n",
    "            print(*zs)\n",
    "            break\n",
    "\n",
    "        for init_nloc in range(loc, loc - a[loc] - 1, -1):\n",
    "            nloc = init_nloc + b[init_nloc]\n",
    "            next_init_nloc = nloc - a[nloc]\n",
    "\n",
    "            if next_init_nloc < y:\n",
    "                y = next_init_nloc\n",
    "                z = init_nloc\n",
    "                t = nloc\n",
    "\n",
    "        count += 1\n",
    "        zs.append(z + 1)\n",
    "        loc = t\n",
    "\n",
    "        if loc in vt:\n",
    "            print(-1)\n",
    "            break\n",
    "        vt.add(loc)\n",
    "    \n",
    "    \n",
    "    \n",
    "    \n",
    "    \n",
    "    \n",
    "    \n",
    "    \n",
    "\n",
    "# region fastio\n",
    " \n",
    "BUFSIZE = 8192\n",
    " \n",
    "\n",
    "class FastIO(IOBase):\n",
    "    newlines = 0\n",
    " \n",
    "    def __init__(self, file):\n",
    "        self._fd = file.fileno()\n",
    "        self.buffer = BytesIO()\n",
    "        self.writable = \"x\" in file.mode or \"r\" not in file.mode\n",
    "        self.write = self.buffer.write if self.writable else None\n",
    " \n",
    "    def read(self):\n",
    "        while True:\n",
    "            b = os.read(self._fd, max(os.fstat(self._fd).st_size, BUFSIZE))\n",
    "            if not b:\n",
    "                break\n",
    "            ptr = self.buffer.tell()\n",
    "            self.buffer.seek(0, 2), self.buffer.write(b), self.buffer.seek(ptr)\n",
    "        self.newlines = 0\n",
    "        return self.buffer.read()\n",
    " \n",
    "    def readline(self):\n",
    "        while self.newlines == 0:\n",
    "            b = os.read(self._fd, max(os.fstat(self._fd).st_size, BUFSIZE))\n",
    "            self.newlines = b.count(b\"\\n\") + (not b)\n",
    "            ptr = self.buffer.tell()\n",
    "            self.buffer.seek(0, 2), self.buffer.write(b), self.buffer.seek(ptr)\n",
    "        self.newlines -= 1\n",
    "        return self.buffer.readline()\n",
    " \n",
    "    def flush(self):\n",
    "        if self.writable:\n",
    "            os.write(self._fd, self.buffer.getvalue())\n",
    "            self.buffer.truncate(0), self.buffer.seek(0)\n",
    " \n",
    " \n",
    "class IOWrapper(IOBase):\n",
    "    def __init__(self, file):\n",
    "        self.buffer = FastIO(file)\n",
    "        self.flush = self.buffer.flush\n",
    "        self.writable = self.buffer.writable\n",
    "        self.write = lambda s: self.buffer.write(s.encode(\"ascii\"))\n",
    "        self.read = lambda: self.buffer.read().decode(\"ascii\")\n",
    "        self.readline = lambda: self.buffer.readline().decode(\"ascii\")\n",
    " \n",
    " \n",
    "sys.stdin, sys.stdout = IOWrapper(sys.stdin), IOWrapper(sys.stdout)\n",
    "input = lambda: sys.stdin.readline().rstrip(\"\\r\\n\")\n",
    " \n",
    "# endregion\n",
    " \n",
    "if __name__ == \"__main__\":\n",
    "    main()"
   ]
  }
 ],
 "metadata": {
  "kernelspec": {
   "display_name": "Python 3",
   "language": "python",
   "name": "python3"
  },
  "language_info": {
   "codemirror_mode": {
    "name": "ipython",
    "version": 3
   },
   "file_extension": ".py",
   "mimetype": "text/x-python",
   "name": "python",
   "nbconvert_exporter": "python",
   "pygments_lexer": "ipython3",
   "version": "3.7.3"
  }
 },
 "nbformat": 4,
 "nbformat_minor": 4
}
