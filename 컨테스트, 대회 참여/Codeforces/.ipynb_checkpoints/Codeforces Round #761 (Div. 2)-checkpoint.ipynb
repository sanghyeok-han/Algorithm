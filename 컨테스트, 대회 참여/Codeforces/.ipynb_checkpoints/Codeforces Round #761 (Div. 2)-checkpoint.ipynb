{
 "cells": [
  {
   "cell_type": "code",
   "execution_count": 5,
   "metadata": {},
   "outputs": [],
   "source": [
    "ip = lambda: input()\n",
    "iip = lambda: int(input())\n",
    "miip = lambda: map(int, input().split())\n",
    "liip = lambda: list(map(int, input().split()))\n",
    "sip = lambda: input().split() # splitted input\n",
    "lip = lambda: list(input())"
   ]
  },
  {
   "cell_type": "markdown",
   "metadata": {},
   "source": [
    "A"
   ]
  },
  {
   "cell_type": "code",
   "execution_count": 6,
   "metadata": {},
   "outputs": [
    {
     "name": "stdout",
     "output_type": "stream",
     "text": [
      "1\n",
      "300000000 300000000 300000000 600000000 600000000 600000000 900000000\n",
      "300000000 300000000 300000000\n"
     ]
    }
   ],
   "source": [
    "for _ in range(iip()):\n",
    "    a = sorted(miip())\n",
    "\n",
    "    a1 = a[0]\n",
    "    a2 = a[1]\n",
    "    a3 = a[-1]  - a1 - a2\n",
    "\n",
    "    print(a1, a2, a3)"
   ]
  },
  {
   "cell_type": "markdown",
   "metadata": {},
   "source": [
    "B"
   ]
  },
  {
   "cell_type": "code",
   "execution_count": 13,
   "metadata": {},
   "outputs": [
    {
     "name": "stdout",
     "output_type": "stream",
     "text": [
      "5\n",
      "bb ab bb\n",
      "bbabb\n"
     ]
    }
   ],
   "source": [
    "for _ in range(iip()):\n",
    "    n = iip()\n",
    "    li = sip()\n",
    "\n",
    "    is_diff_case = False\n",
    "    r = li[0][0]\n",
    "    for i in range(n - 3):\n",
    "        if li[i][1] != li[i + 1][0]:\n",
    "            r += li[i][1] + li[i + 1][0]\n",
    "            is_diff_case = True\n",
    "        else:\n",
    "            r += li[i][1]\n",
    "    r += li[-1][1]\n",
    "\n",
    "    if not is_diff_case:\n",
    "        r += 'a'\n",
    "\n",
    "    print(r)"
   ]
  },
  {
   "cell_type": "markdown",
   "metadata": {},
   "source": [
    "C"
   ]
  },
  {
   "cell_type": "code",
   "execution_count": 34,
   "metadata": {},
   "outputs": [
    {
     "name": "stdout",
     "output_type": "stream",
     "text": [
      "3\n",
      "3 6 9\n",
      "6\n"
     ]
    }
   ],
   "source": [
    "from math import gcd\n",
    "\n",
    "def check():\n",
    "    for i in range(1, n, 2):\n",
    "        if li[i] % ec == 0:\n",
    "            break\n",
    "    else:\n",
    "        return ec\n",
    "    \n",
    "    for i in range(0, n, 2):\n",
    "        if li[i] % oc == 0:\n",
    "            break\n",
    "    else:\n",
    "        return oc\n",
    "    \n",
    "    return 0\n",
    "\n",
    "for _ in range(iip()):\n",
    "    n = iip()\n",
    "    li = liip()\n",
    "\n",
    "    ec = li[0]\n",
    "    for i in range(2, n, 2):\n",
    "        ec = gcd(ec, li[i])\n",
    "\n",
    "    oc = li[1]\n",
    "    for i in range(3, n, 2):\n",
    "        oc = gcd(oc, li[i])\n",
    "\n",
    "    print(check())"
   ]
  },
  {
   "cell_type": "markdown",
   "metadata": {},
   "source": [
    "D"
   ]
  },
  {
   "cell_type": "code",
   "execution_count": 144,
   "metadata": {},
   "outputs": [
    {
     "name": "stdout",
     "output_type": "stream",
     "text": [
      "9 2\n",
      "1 10 10 1 10 2 7 10 3\n",
      "15\n"
     ]
    }
   ],
   "source": [
    "n, k = map(int, input().split())\n",
    "a = sorted(map(int, input().split()))\n",
    "\n",
    "right = []\n",
    "for _ in range(k * 2):\n",
    "    right.append(a.pop())\n",
    "    \n",
    "ca = Counter(right)\n",
    "\n",
    "total = sum(a)\n",
    "if ca.most_common()[0][1] > k:\n",
    "    total += (ca.most_common()[0][1] - k) // 2\n",
    "    \n",
    "print(total)"
   ]
  },
  {
   "cell_type": "code",
   "execution_count": null,
   "metadata": {},
   "outputs": [],
   "source": []
  },
  {
   "cell_type": "code",
   "execution_count": 132,
   "metadata": {},
   "outputs": [],
   "source": [
    "right = []\n",
    "for _ in range(k * 2):\n",
    "    right.append(a.pop())"
   ]
  },
  {
   "cell_type": "code",
   "execution_count": 134,
   "metadata": {},
   "outputs": [],
   "source": [
    "ca = Counter(right)"
   ]
  },
  {
   "cell_type": "code",
   "execution_count": 135,
   "metadata": {},
   "outputs": [
    {
     "data": {
      "text/plain": [
       "Counter({10: 4})"
      ]
     },
     "execution_count": 135,
     "metadata": {},
     "output_type": "execute_result"
    }
   ],
   "source": [
    "ca"
   ]
  },
  {
   "cell_type": "code",
   "execution_count": 142,
   "metadata": {},
   "outputs": [],
   "source": [
    "total = sum(a)\n",
    "if ca.most_common()[0][1] > k:\n",
    "    total += (ca.most_common()[0][1] - k) // 2"
   ]
  },
  {
   "cell_type": "code",
   "execution_count": 143,
   "metadata": {},
   "outputs": [
    {
     "data": {
      "text/plain": [
       "15"
      ]
     },
     "execution_count": 143,
     "metadata": {},
     "output_type": "execute_result"
    }
   ],
   "source": [
    "total"
   ]
  },
  {
   "cell_type": "code",
   "execution_count": 129,
   "metadata": {},
   "outputs": [
    {
     "data": {
      "text/plain": [
       "2"
      ]
     },
     "execution_count": 129,
     "metadata": {},
     "output_type": "execute_result"
    }
   ],
   "source": [
    "right.count(min(right)) - k"
   ]
  },
  {
   "cell_type": "code",
   "execution_count": null,
   "metadata": {},
   "outputs": [],
   "source": []
  },
  {
   "cell_type": "code",
   "execution_count": 127,
   "metadata": {},
   "outputs": [
    {
     "data": {
      "text/plain": [
       "4"
      ]
     },
     "execution_count": 127,
     "metadata": {},
     "output_type": "execute_result"
    }
   ],
   "source": [
    "k * 2"
   ]
  },
  {
   "cell_type": "code",
   "execution_count": 120,
   "metadata": {},
   "outputs": [
    {
     "data": {
      "text/plain": [
       "[1, 1, 2, 2, 2, 2]"
      ]
     },
     "execution_count": 120,
     "metadata": {},
     "output_type": "execute_result"
    }
   ],
   "source": [
    "a"
   ]
  },
  {
   "cell_type": "code",
   "execution_count": 116,
   "metadata": {},
   "outputs": [
    {
     "data": {
      "text/plain": [
       "[2, 2, 2, 2]"
      ]
     },
     "execution_count": 116,
     "metadata": {},
     "output_type": "execute_result"
    }
   ],
   "source": [
    "a[-k * 2:]"
   ]
  },
  {
   "cell_type": "code",
   "execution_count": null,
   "metadata": {},
   "outputs": [],
   "source": []
  },
  {
   "cell_type": "markdown",
   "metadata": {},
   "source": [
    "### 제출본"
   ]
  },
  {
   "cell_type": "code",
   "execution_count": null,
   "metadata": {},
   "outputs": [],
   "source": [
    "import os\n",
    "import sys\n",
    "from io import BytesIO, IOBase\n",
    "\n",
    "## PYRIVAL BOOTSTRAP\n",
    "# https://github.com/cheran-senthil/PyRival/blob/master/pyrival/misc/bootstrap.py\n",
    "# This decorator allows for recursion without actually doing recursion\n",
    "from types import GeneratorType\n",
    "## @bootstrap, yield when getting and returning value in recursive functions\n",
    "\n",
    "\n",
    "def main():\n",
    "    from math import gcd\n",
    "\n",
    "    def check():\n",
    "        for i in range(1, n, 2):\n",
    "            if li[i] % ec == 0:\n",
    "                break\n",
    "        else:\n",
    "            return ec\n",
    "\n",
    "        for i in range(0, n, 2):\n",
    "            if li[i] % oc == 0:\n",
    "                break\n",
    "        else:\n",
    "            return oc\n",
    "\n",
    "        return 0\n",
    "\n",
    "    for _ in range(iip()):\n",
    "        n = iip()\n",
    "        li = liip()\n",
    "\n",
    "        ec = li[0]\n",
    "        for i in range(2, n, 2):\n",
    "            ec = gcd(ec, li[i])\n",
    "\n",
    "        oc = li[1]\n",
    "        for i in range(3, n, 2):\n",
    "            oc = gcd(oc, li[i])\n",
    "\n",
    "        print(check())\n",
    "\n",
    "\n",
    "    \n",
    "# region fastio\n",
    " \n",
    "BUFSIZE = 8192\n",
    " \n",
    "\n",
    "class FastIO(IOBase):\n",
    "    newlines = 0\n",
    " \n",
    "    def __init__(self, file):\n",
    "        self._fd = file.fileno()\n",
    "        self.buffer = BytesIO()\n",
    "        self.writable = \"x\" in file.mode or \"r\" not in file.mode\n",
    "        self.write = self.buffer.write if self.writable else None\n",
    " \n",
    "    def read(self):\n",
    "        while True:\n",
    "            b = os.read(self._fd, max(os.fstat(self._fd).st_size, BUFSIZE))\n",
    "            if not b:\n",
    "                break\n",
    "            ptr = self.buffer.tell()\n",
    "            self.buffer.seek(0, 2), self.buffer.write(b), self.buffer.seek(ptr)\n",
    "        self.newlines = 0\n",
    "        return self.buffer.read()\n",
    " \n",
    "    def readline(self):\n",
    "        while self.newlines == 0:\n",
    "            b = os.read(self._fd, max(os.fstat(self._fd).st_size, BUFSIZE))\n",
    "            self.newlines = b.count(b\"\\n\") + (not b)\n",
    "            ptr = self.buffer.tell()\n",
    "            self.buffer.seek(0, 2), self.buffer.write(b), self.buffer.seek(ptr)\n",
    "        self.newlines -= 1\n",
    "        return self.buffer.readline()\n",
    " \n",
    "    def flush(self):\n",
    "        if self.writable:\n",
    "            os.write(self._fd, self.buffer.getvalue())\n",
    "            self.buffer.truncate(0), self.buffer.seek(0)\n",
    " \n",
    " \n",
    "class IOWrapper(IOBase):\n",
    "    def __init__(self, file):\n",
    "        self.buffer = FastIO(file)\n",
    "        self.flush = self.buffer.flush\n",
    "        self.writable = self.buffer.writable\n",
    "        self.write = lambda s: self.buffer.write(s.encode(\"ascii\"))\n",
    "        self.read = lambda: self.buffer.read().decode(\"ascii\")\n",
    "        self.readline = lambda: self.buffer.readline().decode(\"ascii\")\n",
    " \n",
    " \n",
    "sys.stdin, sys.stdout = IOWrapper(sys.stdin), IOWrapper(sys.stdout)\n",
    "input = lambda: sys.stdin.readline().rstrip(\"\\r\\n\")\n",
    " \n",
    "# endregion\n",
    " \n",
    "if __name__ == \"__main__\":\n",
    "    def bootstrap(f, stack=[]):\n",
    "        def wrappedfunc(*args, **kwargs):\n",
    "            if stack:\n",
    "                return f(*args, **kwargs)\n",
    "            else:\n",
    "                to = f(*args, **kwargs)\n",
    "                while True:\n",
    "                    if type(to) is GeneratorType:\n",
    "                        stack.append(to)\n",
    "                        to = next(to)\n",
    "                    else:\n",
    "                        stack.pop()\n",
    "                        if not stack:\n",
    "                            break\n",
    "                        to = stack[-1].send(to)\n",
    "                return to\n",
    "        return wrappedfunc\n",
    "    \n",
    "    ip = lambda: input()\n",
    "    iip = lambda: int(input())\n",
    "    miip = lambda: map(int, input().split())\n",
    "    liip = lambda: list(map(int, input().split()))\n",
    "    sip = lambda: input().split() # splitted input\n",
    "    lip = lambda: list(input())\n",
    "    \n",
    "    main()"
   ]
  }
 ],
 "metadata": {
  "kernelspec": {
   "display_name": "Python 3",
   "language": "python",
   "name": "python3"
  },
  "language_info": {
   "codemirror_mode": {
    "name": "ipython",
    "version": 3
   },
   "file_extension": ".py",
   "mimetype": "text/x-python",
   "name": "python",
   "nbconvert_exporter": "python",
   "pygments_lexer": "ipython3",
   "version": "3.7.3"
  }
 },
 "nbformat": 4,
 "nbformat_minor": 4
}
