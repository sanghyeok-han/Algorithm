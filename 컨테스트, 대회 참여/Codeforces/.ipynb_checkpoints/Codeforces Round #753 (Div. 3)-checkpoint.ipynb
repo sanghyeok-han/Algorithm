{
 "cells": [
  {
   "cell_type": "code",
   "execution_count": null,
   "metadata": {},
   "outputs": [],
   "source": [
    "n = int(input())\n",
    "li = list(map(int, input().split()))"
   ]
  },
  {
   "cell_type": "markdown",
   "metadata": {},
   "source": [
    "A"
   ]
  },
  {
   "cell_type": "code",
   "execution_count": 4,
   "metadata": {},
   "outputs": [
    {
     "name": "stdout",
     "output_type": "stream",
     "text": [
      "qwertyuiopasdfghjklzxcvbnm\n",
      "abacaba\n",
      "74\n"
     ]
    }
   ],
   "source": [
    "for _ in range(int(input())):\n",
    "    seq = input()\n",
    "    s = input()\n",
    "\n",
    "    total = 0\n",
    "    for i in range(len(s) - 1):\n",
    "        total += abs(seq.index(s[i]) - seq.index(s[i + 1]))\n",
    "\n",
    "    print(total)"
   ]
  },
  {
   "cell_type": "markdown",
   "metadata": {},
   "source": [
    "B"
   ]
  },
  {
   "cell_type": "code",
   "execution_count": 27,
   "metadata": {},
   "outputs": [
    {
     "name": "stdout",
     "output_type": "stream",
     "text": [
      "1\n",
      "1 0\n",
      "1\n"
     ]
    }
   ],
   "source": [
    "for _ in range(int(input())):\n",
    "    x, n = map(int, input().split())\n",
    "\n",
    "    for i in range((n // 4) * 4 + 1, n + 1):\n",
    "        if x % 2 == 0:\n",
    "            x -= i\n",
    "        else:\n",
    "            x += i\n",
    "\n",
    "    print(x)"
   ]
  },
  {
   "cell_type": "code",
   "execution_count": null,
   "metadata": {},
   "outputs": [],
   "source": [
    "x, n = 29, 20\n",
    "\n",
    "print(x)\n",
    "\n",
    "for i in range(1, n + 1):\n",
    "    if x % 2 == 0:\n",
    "        x -= i\n",
    "        delta = -i\n",
    "    else:\n",
    "        x += i\n",
    "        delta = i\n",
    "        \n",
    "    print(i, delta, x)"
   ]
  },
  {
   "cell_type": "markdown",
   "metadata": {},
   "source": [
    "C"
   ]
  },
  {
   "cell_type": "code",
   "execution_count": 36,
   "metadata": {},
   "outputs": [
    {
     "name": "stdout",
     "output_type": "stream",
     "text": [
      "1\n",
      "2\n",
      "2 3\n",
      "2\n"
     ]
    }
   ],
   "source": [
    "for _ in range(int(input())):\n",
    "    n = int(input())\n",
    "    li = sorted(map(int, input().split()))\n",
    "\n",
    "    max_min = li[0]\n",
    "    to_subtract = li[0]\n",
    "    for i in range(1, n):\n",
    "        temp = li[i] - to_subtract\n",
    "        max_min = max(max_min, temp)\n",
    "        li[i] = temp\n",
    "        to_subtract += li[i]\n",
    "\n",
    "    print(max_min)"
   ]
  },
  {
   "cell_type": "markdown",
   "metadata": {},
   "source": [
    "D"
   ]
  },
  {
   "cell_type": "code",
   "execution_count": null,
   "metadata": {},
   "outputs": [],
   "source": [
    "1부터 확인하면서 B로 커버 가능하면 B로 커버함\n",
    "안되면 R로 커버 가능한지 확인함"
   ]
  },
  {
   "cell_type": "code",
   "execution_count": 38,
   "metadata": {},
   "outputs": [],
   "source": [
    "from heapq import heappop, heappush, heapify"
   ]
  },
  {
   "cell_type": "code",
   "execution_count": 40,
   "metadata": {},
   "outputs": [
    {
     "name": "stdout",
     "output_type": "stream",
     "text": [
      "2\n",
      "1 1\n",
      "BB\n",
      "NO\n"
     ]
    }
   ],
   "source": [
    "for _ in range(int(input())):\n",
    "    n = int(input())\n",
    "    li = list(map(int, input().split()))\n",
    "    colors = input()\n",
    "\n",
    "    blues = []\n",
    "    reds = []\n",
    "    for i in range(n):\n",
    "        if colors[i] == 'B':\n",
    "            blues.append(li[i])\n",
    "        else:\n",
    "            reds.append(li[i])\n",
    "\n",
    "    blues.sort()\n",
    "    reds.sort()\n",
    "\n",
    "    def check():\n",
    "        cur_check = 1\n",
    "        for v in blues:\n",
    "            if cur_check <= v:\n",
    "                cur_check += 1\n",
    "            else:\n",
    "                return False\n",
    "\n",
    "        for v in reds:\n",
    "            if v <= cur_check:\n",
    "                cur_check += 1\n",
    "            else:\n",
    "                return False\n",
    "        return True\n",
    "\n",
    "    if check():\n",
    "        print('YES')\n",
    "    else:\n",
    "        print('NO')"
   ]
  },
  {
   "cell_type": "markdown",
   "metadata": {},
   "source": [
    "E"
   ]
  },
  {
   "cell_type": "code",
   "execution_count": 61,
   "metadata": {},
   "outputs": [
    {
     "name": "stdout",
     "output_type": "stream",
     "text": [
      "4 3\n",
      "LUURRDDLLLUU\n",
      "3 2\n"
     ]
    }
   ],
   "source": [
    "for _ in range(int(input())):\n",
    "    n, m = map(int, input().split())\n",
    "    cs = input()\n",
    "\n",
    "    top_x = 0\n",
    "    bottom_x = 0\n",
    "    leftest_y = 0\n",
    "    rightest_y = 0\n",
    "\n",
    "    x, y = 0, 0\n",
    "    for v in cs:   \n",
    "        if v == 'U':\n",
    "            x -= 1\n",
    "            ntop_x = min(top_x, x)\n",
    "            if bottom_x - ntop_x >= n:\n",
    "                x += 1\n",
    "                break\n",
    "            else:\n",
    "                top_x = ntop_x\n",
    "        elif v == 'D':\n",
    "            x += 1\n",
    "            nbottom_x = max(bottom_x, x)\n",
    "            if nbottom_x - top_x >= n:\n",
    "                x -= 1\n",
    "                break\n",
    "            else:\n",
    "                bottom_x = nbottom_x\n",
    "        elif v == 'L':\n",
    "            y -= 1\n",
    "            nleftest_y = min(leftest_y, y)\n",
    "            if rightest_y - nleftest_y >= m:\n",
    "                y += 1\n",
    "                break \n",
    "            else:\n",
    "                leftest_y = nleftest_y\n",
    "        else:\n",
    "            y += 1\n",
    "            nrightest_y = max(rightest_y, y)\n",
    "            if nrightest_y - leftest_y >= m:\n",
    "                y -= 1\n",
    "                break\n",
    "            else:\n",
    "                rightest_y = nrightest_y\n",
    "\n",
    "    print(-top_x + 1, -leftest_y + 1)"
   ]
  },
  {
   "cell_type": "markdown",
   "metadata": {},
   "source": [
    "F"
   ]
  },
  {
   "cell_type": "code",
   "execution_count": 62,
   "metadata": {},
   "outputs": [
    {
     "name": "stdout",
     "output_type": "stream",
     "text": [
      "4 4\n",
      "RRRD\n",
      "RUUD\n",
      "URUD\n",
      "ULLR\n"
     ]
    }
   ],
   "source": [
    "n, m = map(int, input().split())\n",
    "li = [list(input()) for _ in range(n)]"
   ]
  },
  {
   "cell_type": "code",
   "execution_count": 72,
   "metadata": {},
   "outputs": [
    {
     "name": "stdout",
     "output_type": "stream",
     "text": [
      "[2, 0, 2, 0]\n",
      "[2, 0, 3, 2]\n",
      "[3, 2, 0, 0]\n",
      "[4, 5, 6, 1]\n"
     ]
    }
   ],
   "source": [
    "for v in max_moves:\n",
    "    print(v)"
   ]
  },
  {
   "cell_type": "code",
   "execution_count": 70,
   "metadata": {},
   "outputs": [
    {
     "data": {
      "text/plain": [
       "[['R', 'R', 'R', 'D'],\n",
       " ['R', 'U', 'U', 'D'],\n",
       " ['U', 'R', 'U', 'D'],\n",
       " ['U', 'L', 'L', 'R']]"
      ]
     },
     "execution_count": 70,
     "metadata": {},
     "output_type": "execute_result"
    }
   ],
   "source": [
    "li"
   ]
  },
  {
   "cell_type": "code",
   "execution_count": 75,
   "metadata": {},
   "outputs": [
    {
     "name": "stdout",
     "output_type": "stream",
     "text": [
      "2\n",
      "\n",
      "1 1\n",
      "R\n",
      "1 1 1\n",
      "\n",
      "1 3\n",
      "RRL\n",
      "1 1 4\n"
     ]
    }
   ],
   "source": [
    "for _ in range(int(input())):\n",
    "    input()\n",
    "    n, m = map(int, input().split())\n",
    "    li = [list(input()) for _ in range(n)]\n",
    "\n",
    "    def get_ns(x, y):\n",
    "        if li[x][y] == 'D':\n",
    "            x += 1\n",
    "        elif li[x][y] == 'U':\n",
    "            x -= 1\n",
    "        elif li[x][y] == 'L':\n",
    "            y -= 1\n",
    "        else:\n",
    "            y += 1\n",
    "\n",
    "        return x, y\n",
    "\n",
    "    vt = [[False] * m for _ in range(n)]\n",
    "    max_moves = [[0] * m for _ in range(n)]\n",
    "    for x in range(n):\n",
    "        for y in range(m):\n",
    "            if vt[x][y]:\n",
    "                continue\n",
    "            vt[x][y] = True\n",
    "\n",
    "            temp = []\n",
    "            temp_st = set()\n",
    "            while True:\n",
    "                nx, ny = get_ns(x, y)\n",
    "                if nx < 0 or nx >= n or ny < 0 or ny >= m:\n",
    "                    temp.append((x, y))\n",
    "                    temp_st.add((x, y))\n",
    "                    c = 1\n",
    "                    for i in range(len(temp) - 1, -1, -1):\n",
    "                        max_moves[temp[i][0]][temp[i][1]] = c\n",
    "                        c += 1\n",
    "                    break\n",
    "                elif (nx, ny) in temp_st:\n",
    "                    temp.append((x, y))\n",
    "                    temp_st.add((x, y))\n",
    "\n",
    "                    t = temp.index((nx, ny))\n",
    "                    lt = len(temp)\n",
    "                    for i in range(t, len(temp)):\n",
    "                        max_moves[temp[i][0]][temp[i][1]] = lt\n",
    "                    tc = lt + 1\n",
    "                    for i in range(t - 1, -1, -1):\n",
    "                        max_moves[temp[i][0]][temp[i][1]] = tc\n",
    "                        tc += 1\n",
    "                    break\n",
    "                elif vt[nx][ny]:\n",
    "                    temp.append((x, y))\n",
    "                    temp_st.add((x, y))\n",
    "\n",
    "                    tc = max_moves[nx][ny] + 1\n",
    "                    for i in range(len(temp) -1, -1, -1):\n",
    "                        max_moves[temp[i][0]][temp[i][1]] = tc\n",
    "                        tc += 1\n",
    "                    break\n",
    "\n",
    "                vt[nx][ny] = True\n",
    "                temp.append((x, y))\n",
    "                temp_st.add((x, y))\n",
    "\n",
    "                x, y = nx, ny\n",
    "\n",
    "    max_d = -1\n",
    "    mx, my = 0, 0\n",
    "    for i in range(n):\n",
    "        for j in range(m):\n",
    "            if max_d < max_moves[i][j]:\n",
    "                max_d = max_moves[i][j]\n",
    "                mx, my = i + 1, j + 1\n",
    "\n",
    "    print(mx, my, max_d)"
   ]
  },
  {
   "cell_type": "code",
   "execution_count": 76,
   "metadata": {},
   "outputs": [
    {
     "data": {
      "text/plain": [
       "[[4, 3, 3]]"
      ]
     },
     "execution_count": 76,
     "metadata": {},
     "output_type": "execute_result"
    }
   ],
   "source": [
    "max_moves"
   ]
  },
  {
   "cell_type": "code",
   "execution_count": 68,
   "metadata": {},
   "outputs": [
    {
     "data": {
      "text/plain": [
       "[[1, 0, 1, 0], [1, 0, 2, 1], [2, 1, 0, 0], [3, 4, 5, 1]]"
      ]
     },
     "execution_count": 68,
     "metadata": {},
     "output_type": "execute_result"
    }
   ],
   "source": [
    "max_moves"
   ]
  },
  {
   "cell_type": "markdown",
   "metadata": {},
   "source": [
    "### 제출본"
   ]
  },
  {
   "cell_type": "code",
   "execution_count": null,
   "metadata": {},
   "outputs": [],
   "source": [
    "import os\n",
    "import sys\n",
    "from io import BytesIO, IOBase\n",
    " \n",
    "\n",
    "def main():\n",
    "    for _ in range(int(input())):\n",
    "        input()\n",
    "        n, m = map(int, input().split())\n",
    "        li = [list(input()) for _ in range(n)]\n",
    "\n",
    "        def get_ns(x, y):\n",
    "            if li[x][y] == 'D':\n",
    "                x += 1\n",
    "            elif li[x][y] == 'U':\n",
    "                x -= 1\n",
    "            elif li[x][y] == 'L':\n",
    "                y -= 1\n",
    "            else:\n",
    "                y += 1\n",
    "\n",
    "            return x, y\n",
    "\n",
    "        vt = [[False] * m for _ in range(n)]\n",
    "        max_moves = [[0] * m for _ in range(n)]\n",
    "        for x in range(n):\n",
    "            for y in range(m):\n",
    "                if vt[x][y]:\n",
    "                    continue\n",
    "                vt[x][y] = True\n",
    "\n",
    "                temp = []\n",
    "                temp_st = set()\n",
    "                while True:\n",
    "                    nx, ny = get_ns(x, y)\n",
    "                    if nx < 0 or nx >= n or ny < 0 or ny >= m:\n",
    "                        temp.append((x, y))\n",
    "                        temp_st.add((x, y))\n",
    "                        c = 1\n",
    "                        for i in range(len(temp) - 1, -1, -1):\n",
    "                            max_moves[temp[i][0]][temp[i][1]] = c\n",
    "                            c += 1\n",
    "                        break\n",
    "                    elif (nx, ny) in temp_st:\n",
    "                        temp.append((x, y))\n",
    "                        temp_st.add((x, y))\n",
    "\n",
    "                        t = temp.index((nx, ny))\n",
    "                        lt = len(temp)\n",
    "                        for i in range(t, len(temp)):\n",
    "                            max_moves[temp[i][0]][temp[i][1]] = lt\n",
    "                        tc = lt + 1\n",
    "                        for i in range(t - 1, -1, -1):\n",
    "                            max_moves[temp[i][0]][temp[i][1]] = tc\n",
    "                            tc += 1\n",
    "                        break\n",
    "                    elif vt[nx][ny]:\n",
    "                        temp.append((x, y))\n",
    "                        temp_st.add((x, y))\n",
    "\n",
    "                        tc = max_moves[nx][ny] + 1\n",
    "                        for i in range(len(temp) -1, -1, -1):\n",
    "                            max_moves[temp[i][0]][temp[i][1]] = tc\n",
    "                            tc += 1\n",
    "                        break\n",
    "\n",
    "                    vt[nx][ny] = True\n",
    "                    temp.append((x, y))\n",
    "                    temp_st.add((x, y))\n",
    "\n",
    "                    x, y = nx, ny\n",
    "\n",
    "        max_d = -1\n",
    "        mx, my = 0, 0\n",
    "        for i in range(n):\n",
    "            for j in range(m):\n",
    "                if max_d < max_moves[i][j]:\n",
    "                    max_d = max_moves[i][j]\n",
    "                    mx, my = i + 1, j + 1\n",
    "\n",
    "        print(mx, my, max_d)\n",
    "    \n",
    "    \n",
    "    \n",
    "    \n",
    "    \n",
    "    \n",
    "    \n",
    "\n",
    "# region fastio\n",
    " \n",
    "BUFSIZE = 8192\n",
    " \n",
    "\n",
    "class FastIO(IOBase):\n",
    "    newlines = 0\n",
    " \n",
    "    def __init__(self, file):\n",
    "        self._fd = file.fileno()\n",
    "        self.buffer = BytesIO()\n",
    "        self.writable = \"x\" in file.mode or \"r\" not in file.mode\n",
    "        self.write = self.buffer.write if self.writable else None\n",
    " \n",
    "    def read(self):\n",
    "        while True:\n",
    "            b = os.read(self._fd, max(os.fstat(self._fd).st_size, BUFSIZE))\n",
    "            if not b:\n",
    "                break\n",
    "            ptr = self.buffer.tell()\n",
    "            self.buffer.seek(0, 2), self.buffer.write(b), self.buffer.seek(ptr)\n",
    "        self.newlines = 0\n",
    "        return self.buffer.read()\n",
    " \n",
    "    def readline(self):\n",
    "        while self.newlines == 0:\n",
    "            b = os.read(self._fd, max(os.fstat(self._fd).st_size, BUFSIZE))\n",
    "            self.newlines = b.count(b\"\\n\") + (not b)\n",
    "            ptr = self.buffer.tell()\n",
    "            self.buffer.seek(0, 2), self.buffer.write(b), self.buffer.seek(ptr)\n",
    "        self.newlines -= 1\n",
    "        return self.buffer.readline()\n",
    " \n",
    "    def flush(self):\n",
    "        if self.writable:\n",
    "            os.write(self._fd, self.buffer.getvalue())\n",
    "            self.buffer.truncate(0), self.buffer.seek(0)\n",
    " \n",
    " \n",
    "class IOWrapper(IOBase):\n",
    "    def __init__(self, file):\n",
    "        self.buffer = FastIO(file)\n",
    "        self.flush = self.buffer.flush\n",
    "        self.writable = self.buffer.writable\n",
    "        self.write = lambda s: self.buffer.write(s.encode(\"ascii\"))\n",
    "        self.read = lambda: self.buffer.read().decode(\"ascii\")\n",
    "        self.readline = lambda: self.buffer.readline().decode(\"ascii\")\n",
    " \n",
    " \n",
    "sys.stdin, sys.stdout = IOWrapper(sys.stdin), IOWrapper(sys.stdout)\n",
    "input = lambda: sys.stdin.readline().rstrip(\"\\r\\n\")\n",
    " \n",
    "# endregion\n",
    " \n",
    "if __name__ == \"__main__\":\n",
    "    main()"
   ]
  }
 ],
 "metadata": {
  "kernelspec": {
   "display_name": "Python 3",
   "language": "python",
   "name": "python3"
  },
  "language_info": {
   "codemirror_mode": {
    "name": "ipython",
    "version": 3
   },
   "file_extension": ".py",
   "mimetype": "text/x-python",
   "name": "python",
   "nbconvert_exporter": "python",
   "pygments_lexer": "ipython3",
   "version": "3.7.3"
  }
 },
 "nbformat": 4,
 "nbformat_minor": 4
}
