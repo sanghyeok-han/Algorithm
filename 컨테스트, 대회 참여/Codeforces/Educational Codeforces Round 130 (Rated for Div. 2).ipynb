{
 "cells": [
  {
   "cell_type": "markdown",
   "metadata": {},
   "source": [
    "A"
   ]
  },
  {
   "cell_type": "code",
   "execution_count": 7,
   "metadata": {},
   "outputs": [
    {
     "name": "stdout",
     "output_type": "stream",
     "text": [
      "4 5\n",
      "3 3 5 2\n",
      "8\n"
     ]
    }
   ],
   "source": [
    "import sys\n",
    "input = lambda: sys.stdin.readline().rstrip()\n",
    "\n",
    "for _ in range(int(input())):\n",
    "    n, m = map(int, input().split())\n",
    "    li = list(map(int, input().split()))\n",
    "\n",
    "    r = max(0, sum(li) - m)\n",
    "\n",
    "    print(r)"
   ]
  },
  {
   "cell_type": "markdown",
   "metadata": {},
   "source": [
    "B"
   ]
  },
  {
   "cell_type": "code",
   "execution_count": null,
   "metadata": {},
   "outputs": [],
   "source": [
    "4개 사면 4개 꽁짜\n",
    "\n",
    "4개 사면 3개 꽁짜"
   ]
  },
  {
   "cell_type": "code",
   "execution_count": 8,
   "metadata": {},
   "outputs": [
    {
     "name": "stdout",
     "output_type": "stream",
     "text": [
      "5 3\n",
      "5 3 1 5 2\n",
      "3 2\n",
      "8\n",
      "1 1\n",
      "5\n",
      "5 3\n",
      "6\n"
     ]
    }
   ],
   "source": [
    "import sys\n",
    "input = lambda: sys.stdin.readline().rstrip()\n",
    "\n",
    "n, q = map(int, input().split())\n",
    "li = sorted(map(int, input().split()), reverse=True)\n",
    "\n",
    "sli = [0] * n\n",
    "cumul = 0\n",
    "for i in range(n):\n",
    "    cumul += li[i]\n",
    "    sli[i] = cumul\n",
    "\n",
    "for _ in range(q):\n",
    "    x, y = map(int, input().split())\n",
    "    \n",
    "    diff = x - y\n",
    "\n",
    "    total = sli[x - 1]\n",
    "    if diff >= 1:\n",
    "        total -= sli[diff - 1]\n",
    "\n",
    "    print(total)"
   ]
  },
  {
   "cell_type": "markdown",
   "metadata": {},
   "source": [
    "C"
   ]
  },
  {
   "cell_type": "code",
   "execution_count": null,
   "metadata": {},
   "outputs": [],
   "source": [
    "s -> t\n",
    "\n",
    "ab -> ba\n",
    "bc -> cb"
   ]
  },
  {
   "cell_type": "code",
   "execution_count": null,
   "metadata": {},
   "outputs": [],
   "source": [
    "c가 b 왼쪽으로 가거나\n",
    "a가 b 오른쪽으로 가거나\n",
    "\n",
    "b가 a 왼쪽으로 가거나\n",
    "b가 c 오른쪽으로 가거나\n",
    "\n",
    "a, c끼리는 역전 불가능"
   ]
  },
  {
   "cell_type": "code",
   "execution_count": null,
   "metadata": {},
   "outputs": [],
   "source": [
    "abbabc\n",
    "bbaacb"
   ]
  },
  {
   "cell_type": "code",
   "execution_count": null,
   "metadata": {},
   "outputs": [],
   "source": []
  },
  {
   "cell_type": "code",
   "execution_count": null,
   "metadata": {},
   "outputs": [],
   "source": [
    "s = input()\n",
    "t = input()\n",
    "\n",
    "si = 0\n",
    "for ti in range(n):\n",
    "    if t[ti] == 'b':\n",
    "        "
   ]
  },
  {
   "cell_type": "code",
   "execution_count": 16,
   "metadata": {},
   "outputs": [
    {
     "name": "stdout",
     "output_type": "stream",
     "text": [
      "1\n",
      "3\n",
      "cab\n",
      "cab\n",
      "YES\n",
      "YES\n"
     ]
    }
   ],
   "source": [
    "from collections import Counter\n",
    "import sys\n",
    "input = lambda: sys.stdin.readline().rstrip()\n",
    "\n",
    "for _ in range(int(input())):\n",
    "    n = int(input())\n",
    "    s = input()\n",
    "    t = input()\n",
    "\n",
    "    if Counter(s) != Counter(t):\n",
    "        print('NO')\n",
    "    else:\n",
    "        ss = []\n",
    "        tt = []\n",
    "        ssai = []\n",
    "        ssci = []\n",
    "        ttai = []\n",
    "        ttci = []\n",
    "        for i in range(n):\n",
    "            if s[i] == 'a':\n",
    "                ss.append('a')\n",
    "                ssai.append(i)\n",
    "            elif s[i] == 'c':\n",
    "                ss.append('c')\n",
    "                ssci.append(i)\n",
    "\n",
    "            if t[i] == 'a':\n",
    "                tt.append('a')\n",
    "                ttai.append(i)\n",
    "            elif t[i] == 'c':\n",
    "                tt.append('c')\n",
    "                ttci.append(i)\n",
    "\n",
    "        if ss != tt:\n",
    "            print('NO')\n",
    "        else:\n",
    "            ip = True\n",
    "            for i in range(len(ssai)):\n",
    "                if ssai[i] > ttai[i]:\n",
    "                    ip = False\n",
    "                    break\n",
    "            for i in range(len(ssci)):\n",
    "                if ssci[i] < ttci[i]:\n",
    "                    ip = False\n",
    "                    break\n",
    "                    \n",
    "            if ip:\n",
    "                print('YES')\n",
    "            else:\n",
    "                print('NO')"
   ]
  },
  {
   "cell_type": "markdown",
   "metadata": {},
   "source": [
    "D"
   ]
  },
  {
   "cell_type": "code",
   "execution_count": null,
   "metadata": {},
   "outputs": [],
   "source": [
    "n: 1000개\n",
    "처음 전체 구간 밝힘 25개 나옴\n",
    "첫 번째 문자 밝힘 c\n",
    "\n",
    "가장 최근에 나온 문자들의 인덱스 저장\n",
    "\n",
    "\n"
   ]
  },
  {
   "cell_type": "code",
   "execution_count": 18,
   "metadata": {},
   "outputs": [
    {
     "data": {
      "text/plain": [
       "512"
      ]
     },
     "execution_count": 18,
     "metadata": {},
     "output_type": "execute_result"
    }
   ],
   "source": [
    "import sys\n",
    "input = lambda: sys.stdin.readline().rstrip()\n",
    "\n",
    "n = int(input())\n",
    "print(\"? 1 1\")\n",
    "sys.stdout.flush()\n",
    "alpha = input()\n",
    "num = ord(alpha) - 97\n",
    "\n",
    "result = [num]\n",
    "most_recent = [-1] * 26\n",
    "most_recent[num] = 1\n",
    "\n",
    "for i in range(2, n + 1):\n",
    "    cands = [(v, index) for v, index in enumerate(most_recent) if index != -1]\n",
    "    cands.sort(key=lambda x: x[1])\n",
    "    \n",
    "    s = 0\n",
    "    e = len(cands) - 1\n",
    "    r = -1\n",
    "    while s <= e:\n",
    "        mid = (s + e) // 2\n",
    "        \n",
    "        print(f\"? 2 {cands[mid][1]} {i}\")\n",
    "        sys.stdout.flush()\n",
    "        query_r = int(input())\n",
    "        origin_unique = e - mid + 1\n",
    "        \n",
    "        if origin_unique < query_r:\n",
    "            e = mid - 1\n",
    "        else:\n",
    "            r = mid\n",
    "            s = mid + 1\n",
    "            \n",
    "    if r == -1:\n",
    "        print(f\"? 1 {i}\")\n",
    "        sys.stdout.flush()\n",
    "        alpha = input()\n",
    "        num = ord(alpha) - 97\n",
    "        result.append(num)\n",
    "        most_recent[num] = i\n",
    "    else:\n",
    "        result.append(cands[r][0])\n",
    "        most_recent[cands[r][0]] = i\n",
    "        \n",
    "result = [chr(v + 97) for v in result]\n",
    "result = ''.join(result)\n",
    "print('!', result)"
   ]
  },
  {
   "cell_type": "code",
   "execution_count": null,
   "metadata": {},
   "outputs": [],
   "source": [
    "구간 길이 - 기존 중복의 수 == 쿼리 결과면 다 다름\n",
    "구간 길이 - 기존 중복의 수 > 쿼리 결과면 같거나 오른쪽에 겹치는게 있음"
   ]
  },
  {
   "cell_type": "code",
   "execution_count": 20,
   "metadata": {},
   "outputs": [
    {
     "data": {
      "text/plain": [
       "0"
      ]
     },
     "execution_count": 20,
     "metadata": {},
     "output_type": "execute_result"
    }
   ],
   "source": [
    "ord('a') - 97"
   ]
  },
  {
   "cell_type": "code",
   "execution_count": 21,
   "metadata": {},
   "outputs": [
    {
     "data": {
      "text/plain": [
       "'a'"
      ]
     },
     "execution_count": 21,
     "metadata": {},
     "output_type": "execute_result"
    }
   ],
   "source": [
    "chr(0 + 97)"
   ]
  }
 ],
 "metadata": {
  "kernelspec": {
   "display_name": "Python 3",
   "language": "python",
   "name": "python3"
  },
  "language_info": {
   "codemirror_mode": {
    "name": "ipython",
    "version": 3
   },
   "file_extension": ".py",
   "mimetype": "text/x-python",
   "name": "python",
   "nbconvert_exporter": "python",
   "pygments_lexer": "ipython3",
   "version": "3.7.4"
  }
 },
 "nbformat": 4,
 "nbformat_minor": 2
}
