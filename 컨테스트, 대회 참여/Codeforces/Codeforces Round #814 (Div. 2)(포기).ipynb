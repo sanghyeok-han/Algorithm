{
 "cells": [
  {
   "cell_type": "markdown",
   "metadata": {},
   "source": [
    "A"
   ]
  },
  {
   "cell_type": "code",
   "execution_count": null,
   "metadata": {},
   "outputs": [],
   "source": [
    "import sys\n",
    "input = lambda: sys.stdin.readline().rstrip()\n",
    "\n",
    "for _ in range(int(input())):\n",
    "    n, m = map(int, input().split())\n",
    "\n",
    "    if n % 2 == m % 2:\n",
    "        print('Tonya')\n",
    "    else:\n",
    "        print('Burenka')"
   ]
  },
  {
   "cell_type": "markdown",
   "metadata": {},
   "source": [
    "B"
   ]
  },
  {
   "cell_type": "code",
   "execution_count": 49,
   "metadata": {},
   "outputs": [
    {
     "name": "stdout",
     "output_type": "stream",
     "text": [
      "12 10\n",
      "YES\n",
      "2 1\n",
      "3 4\n",
      "6 5\n",
      "7 8\n",
      "10 9\n",
      "11 12\n"
     ]
    }
   ],
   "source": [
    "import sys\n",
    "input = lambda: sys.stdin.readline().rstrip()\n",
    "\n",
    "for _ in range(int(input())):\n",
    "    n, k = map(int, input().split())\n",
    "\n",
    "    if k % 2 == 1:\n",
    "        print('YES')\n",
    "        for i in range(1, n + 1, 2):\n",
    "            print(i, i + 1)\n",
    "    else:\n",
    "        max_v = n // 4\n",
    "\n",
    "        cur = 4 - k % 4\n",
    "        a_cands = set()\n",
    "        while cur <= n:\n",
    "            a_cands.add(cur)\n",
    "            cur += 4\n",
    "\n",
    "        cur = 4\n",
    "        b_cands = set()\n",
    "        while cur <= n:\n",
    "            b_cands.add(cur)\n",
    "            cur += 4\n",
    "\n",
    "        ab = a_cands | b_cands\n",
    "        ab_unused = ab.copy()\n",
    "\n",
    "        if len(ab) < n // 2:\n",
    "            print('NO')\n",
    "        else:\n",
    "            print('YES')\n",
    "            for num in range(1, n + 1):\n",
    "                if num not in ab:\n",
    "                    temp = ab_unused.pop()\n",
    "                    if temp in a_cands:\n",
    "                        print(temp, num)\n",
    "                    else:\n",
    "                        print(num, temp)\n",
    "            while ab_unused:\n",
    "                print(ab_unused.pop(), ab_unused.pop())"
   ]
  }
 ],
 "metadata": {
  "kernelspec": {
   "display_name": "Python 3",
   "language": "python",
   "name": "python3"
  },
  "language_info": {
   "codemirror_mode": {
    "name": "ipython",
    "version": 3
   },
   "file_extension": ".py",
   "mimetype": "text/x-python",
   "name": "python",
   "nbconvert_exporter": "python",
   "pygments_lexer": "ipython3",
   "version": "3.7.4"
  }
 },
 "nbformat": 4,
 "nbformat_minor": 2
}
