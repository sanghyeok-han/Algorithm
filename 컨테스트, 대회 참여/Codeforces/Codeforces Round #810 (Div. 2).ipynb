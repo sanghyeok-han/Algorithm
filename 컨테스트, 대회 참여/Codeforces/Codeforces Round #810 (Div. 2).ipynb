{
 "cells": [
  {
   "cell_type": "markdown",
   "metadata": {},
   "source": [
    "A"
   ]
  },
  {
   "cell_type": "code",
   "execution_count": 25,
   "metadata": {},
   "outputs": [
    {
     "name": "stdout",
     "output_type": "stream",
     "text": [
      "1\n",
      "1\n",
      "1\n"
     ]
    }
   ],
   "source": [
    "import sys\n",
    "input = lambda: sys.stdin.readline().rstrip()\n",
    "\n",
    "for _ in range(int(input())):\n",
    "    n = int(input())\n",
    "\n",
    "    r = []\n",
    "    if n % 2 == 0:\n",
    "        for i in range(0, n, 2):\n",
    "            r.append(i + 2)\n",
    "            r.append(i + 1)\n",
    "    else:\n",
    "        r.append(1)\n",
    "        for i in range(1, n, 2):\n",
    "            r.append(i + 2)\n",
    "            r.append(i + 1)\n",
    "\n",
    "\n",
    "    print(*r)"
   ]
  },
  {
   "cell_type": "markdown",
   "metadata": {},
   "source": [
    "B. Party"
   ]
  },
  {
   "cell_type": "code",
   "execution_count": null,
   "metadata": {},
   "outputs": [],
   "source": [
    "먼저 전부 초대시를 가정함\n",
    "2명 초과로 초대 안할 필요는 없음\n",
    "\n",
    "한명 초대 안하는 경우 먼저 확인해봄 (친구 연결 수가 홀수인 경우)\n",
    "두명 초대 안하는 경우는 친구 연결 수가 짝수인 것들 중에서 먼저 고르고\n",
    "그 연결 친구들 중에서 연결 친구의 수가 짝수인 것들 중에서 가장 unhappy 수가 낮을 것을 고름"
   ]
  },
  {
   "cell_type": "code",
   "execution_count": null,
   "metadata": {},
   "outputs": [],
   "source": [
    "import sys\n",
    "input = lambda: sys.stdin.readline().rstrip()\n",
    "\n",
    "inf = float('inf')\n",
    "\n",
    "for _ in range(int(input())):\n",
    "    n, m = map(int, input().split())\n",
    "    a = [0] + list(map(int, input().split()))\n",
    "\n",
    "    li = [[] for _ in range(n + 1)]\n",
    "    for _ in range(m):\n",
    "        u, v = map(int, input().split())\n",
    "        li[u].append(v)\n",
    "        li[v].append(u)\n",
    "    \n",
    "    if m % 2 == 0:\n",
    "        print(0)\n",
    "    else:\n",
    "        evens = set()\n",
    "        t1 = inf\n",
    "        for i in range(1, n + 1):\n",
    "            if len(li[i]) % 2 == 1:\n",
    "                t1 = min(t1, a[i])\n",
    "            else:\n",
    "                evens.add(i)\n",
    "\n",
    "        t2 = inf\n",
    "        for i in range(1, n + 1):\n",
    "            if i not in evens:\n",
    "                continue\n",
    "            for v in li[i]:\n",
    "                if v in evens:\n",
    "                    t2 = min(t2, a[i] + a[v])\n",
    "\n",
    "        print(min(t1, t2))"
   ]
  },
  {
   "cell_type": "markdown",
   "metadata": {},
   "source": [
    "C. Color the Picture"
   ]
  },
  {
   "cell_type": "code",
   "execution_count": 36,
   "metadata": {},
   "outputs": [
    {
     "name": "stdout",
     "output_type": "stream",
     "text": [
      "3 3 2\n",
      "8 8\n",
      "No\n"
     ]
    }
   ],
   "source": [
    "import sys\n",
    "input = lambda: sys.stdin.readline().rstrip()\n",
    "\n",
    "for _ in range(int(input())):\n",
    "    n, m, k = map(int, input().split())\n",
    "    ks = list(map(int, input().split()))\n",
    "\n",
    "    ip = False\n",
    "\n",
    "    row_to_cover = n # m for one row\n",
    "    is_three = False\n",
    "    for v in ks:\n",
    "        c = v // m\n",
    "        if c >= 2:\n",
    "            row_to_cover -= c\n",
    "        if c >= 3:\n",
    "            is_three = True\n",
    "\n",
    "    if n % 2 == 1:\n",
    "        if is_three and row_to_cover <= 0:\n",
    "            ip = True\n",
    "    else:\n",
    "        if row_to_cover <= 0:\n",
    "            ip = True\n",
    "\n",
    "    col_to_cover = m # n for one col\n",
    "    is_three = False\n",
    "    for v in ks:\n",
    "        c = v // n\n",
    "        if c >= 2:\n",
    "            col_to_cover -= c\n",
    "        if c >= 3:\n",
    "            is_three = True\n",
    "\n",
    "    if m % 2 == 1:\n",
    "        if is_three and col_to_cover <= 0:\n",
    "            ip = True\n",
    "    else:\n",
    "        if col_to_cover <= 0:\n",
    "            ip = True\n",
    "\n",
    "    if ip:\n",
    "        print('Yes')\n",
    "    else:\n",
    "        print('No')"
   ]
  },
  {
   "cell_type": "markdown",
   "metadata": {},
   "source": [
    "D. Rain"
   ]
  },
  {
   "cell_type": "code",
   "execution_count": null,
   "metadata": {},
   "outputs": [],
   "source": [
    "n, m = map(int, input().split())\n"
   ]
  },
  {
   "cell_type": "code",
   "execution_count": null,
   "metadata": {},
   "outputs": [],
   "source": [
    "6에 집중되는 8만큼의 비가 내렸음\n",
    "\n",
    "1 2 3 4 5 6 7 8 9 10\n",
    "3 4 5 6 7 8 7 6 5 4"
   ]
  },
  {
   "cell_type": "code",
   "execution_count": null,
   "metadata": {},
   "outputs": [],
   "source": [
    "결과적으로 m을 넘게되는 구간이 어디인지 파악함. 만약 m을 넘는 구간이\n",
    "두 개 이상인 형태라면 하나 제거한다고 해도 다른 남는 것이 있을 수밖에 없으므로 답은 전부 0이 됨\n",
    "\n",
    "m을 넘는 구간이 하나도 없으면 답은 전부 1이 됨\n",
    "\n",
    "m을 넘는 구간이 1개라면 m을 넘게 되는 시작점하고 끝점을 파악해서 해당 구간만 보면 됨"
   ]
  }
 ],
 "metadata": {
  "kernelspec": {
   "display_name": "Python 3",
   "language": "python",
   "name": "python3"
  },
  "language_info": {
   "codemirror_mode": {
    "name": "ipython",
    "version": 3
   },
   "file_extension": ".py",
   "mimetype": "text/x-python",
   "name": "python",
   "nbconvert_exporter": "python",
   "pygments_lexer": "ipython3",
   "version": "3.7.4"
  }
 },
 "nbformat": 4,
 "nbformat_minor": 2
}
