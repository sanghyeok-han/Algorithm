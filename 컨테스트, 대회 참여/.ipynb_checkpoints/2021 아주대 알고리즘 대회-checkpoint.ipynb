{
 "cells": [
  {
   "cell_type": "markdown",
   "metadata": {},
   "source": [
    "2:00 ~ 6:00 본 대회 진행"
   ]
  },
  {
   "cell_type": "code",
   "execution_count": null,
   "metadata": {},
   "outputs": [],
   "source": [
    "# 패키지들\n",
    "from collections import deque\n",
    "from heapq import heappop, heappush\n",
    "from itertools import permutations as perm\n",
    "from itertools import combinations as comb\n",
    "from collections ipmort defaultdict as dd\n",
    "from collections import Counter\n",
    "from bisect import bisect_left, bisect\n",
    "import sys\n",
    "# input = lambda: sys.stdin.readline().rstrip()\n",
    "sys.setrecursionlimit(300000)\n",
    "import decimal import Decimal, getcontext\n",
    "getcontext().prec(1000)\n",
    "\n",
    "n = int(input())\n",
    "li = [list(map(int, input().split())) for _ in range(n)]"
   ]
  },
  {
   "cell_type": "code",
   "execution_count": 5,
   "metadata": {},
   "outputs": [
    {
     "name": "stdout",
     "output_type": "stream",
     "text": [
      "9592\n",
      "[2, 3, 5, 7, 11, 13, 17, 19, 23, 29]\n"
     ]
    }
   ],
   "source": [
    "# 소수 구하기\n",
    "max_num = 100000\n",
    "ip = [True] * (max_num + 1)\n",
    "ip[0] = ip[1] = False\n",
    "\n",
    "for mod in range(2, int(max_num ** 0.5) + 1):\n",
    "    if ip[mod]:\n",
    "        for v in range(mod * mod, max_num + 1, mod):\n",
    "            ip[v] = False\n",
    "            \n",
    "primes = [i for i, v in enumerate(ip) if v]\n",
    "print(len(primes))\n",
    "print(primes[:10])"
   ]
  },
  {
   "cell_type": "code",
   "execution_count": 9,
   "metadata": {},
   "outputs": [
    {
     "data": {
      "text/plain": [
       "[1, 2, 6, 12]"
      ]
     },
     "execution_count": 9,
     "metadata": {},
     "output_type": "execute_result"
    }
   ],
   "source": [
    "# 약수 구하기\n",
    "def get_divisors(n):\n",
    "    divisors = []\n",
    "    for i in range(1, int(n ** 0.5)):\n",
    "        if n % i == 0:\n",
    "            divisors.append(i)\n",
    "            divisors.append(n // i)\n",
    "            \n",
    "    if int(n ** 0.5) == n ** 0.5:\n",
    "        divisors.append(int(n ** 0.5))\n",
    "        \n",
    "    return divisors\n",
    "\n",
    "divisors = get_divisors(12)\n",
    "divisors.sort()\n",
    "\n",
    "divisors"
   ]
  },
  {
   "cell_type": "markdown",
   "metadata": {},
   "source": [
    "A"
   ]
  },
  {
   "cell_type": "code",
   "execution_count": 18,
   "metadata": {},
   "outputs": [
    {
     "name": "stdout",
     "output_type": "stream",
     "text": [
      "20301030\n",
      "2\n",
      "99991231\n",
      "20301225\n",
      "99991231\n"
     ]
    }
   ],
   "source": [
    "import sys\n",
    "input = lambda: sys.stdin.readline().rstrip()\n",
    "\n",
    "Y1, Y2, Y3, Y4, M1, M2, D1, D2 = list(map(int, input()))\n",
    "\n",
    "max_value = -1\n",
    "max_value_li = []\n",
    "\n",
    "n = int(input())\n",
    "for _ in range(n):\n",
    "    date = input()\n",
    "    y1, y2, y3, y4, m1, m2, d1, d2 = list(map(int, date))\n",
    "    \n",
    "    temp1 = (Y1 - y1) ** 2 + (Y2 - y2) ** 2 + (Y3 - y3) ** 2 + (Y4 - y4) ** 2\n",
    "    temp2 = (M1 - m1) ** 2 + (M2 - m2) ** 2\n",
    "    temp3 = (D1 - d1) ** 2 + (D2 - d2) ** 2\n",
    "    \n",
    "    value = temp1 * temp2 * temp3\n",
    "    if value >= max_value:\n",
    "        if value == max_value:\n",
    "            max_value_li.append(date)\n",
    "        else:\n",
    "            max_value = value\n",
    "            max_value_li = [date]\n",
    "            \n",
    "max_value_li.sort()\n",
    "\n",
    "print(max_value_li[0])"
   ]
  },
  {
   "cell_type": "markdown",
   "metadata": {},
   "source": [
    "B"
   ]
  },
  {
   "cell_type": "code",
   "execution_count": null,
   "metadata": {},
   "outputs": [],
   "source": [
    "from collections import defaultdict as dd\n",
    "import sys\n",
    "# input = lambda: sys.stdin.readline().rstrip()\n",
    "\n",
    "t, n = map(int, input().split())\n",
    "\n",
    "cur_loc = [1] * (n + 1)\n",
    "collected = [dd(int) for _ in range(n + 1)]\n",
    "bad_logs = []\n",
    "banned = set()\n",
    "for _ in range(t):\n",
    "    log = input().split()\n",
    "    \n",
    "    log_num, p_num, act_code = log[0], log[1], log[2]\n",
    "    log_num = int(log_num)\n",
    "    p_num = int(p_num)\n",
    "    \n",
    "    if act_code == 'C':\n",
    "        action = [log[3], log[4]]\n",
    "        action[0] = int(action[0])\n",
    "        action[1] = int(action[1])\n",
    "    else:\n",
    "        action = log[3]\n",
    "        action = int(action)\n",
    "        \n",
    "    if act_code == 'M':\n",
    "        cur_loc[p_num] = action\n",
    "    elif act_code == 'F':\n",
    "        collected[p_num][action] += 1\n",
    "        if action != cur_loc[p_num]:\n",
    "            bad_logs.append(log_num)\n",
    "    elif act_code == 'C':\n",
    "        if collected[p_num][action[0]] == 0 or collected[p_num][action[1]] == 0:\n",
    "            bad_logs.append(log_num)\n",
    "            \n",
    "        collected[p_num][action[0]] -= 1\n",
    "        if collected[p_num][action[0]] < 0:\n",
    "            collected[p_num][action[0]] = 0\n",
    "        collected[p_num][action[1]] -= 1\n",
    "        if collected[p_num][action[1]] < 0:\n",
    "            collected[p_num][action[1]] = 0\n",
    "    elif act_code == 'A':\n",
    "        if cur_loc[p_num] != cur_loc[action]:\n",
    "            bad_logs.append(log_num)\n",
    "            banned.add(p_num)\n",
    "            \n",
    "print(len(bad_logs))\n",
    "if len(bad_logs) >= 1:\n",
    "    print(*bad_logs)\n",
    "    \n",
    "print(len(banned))\n",
    "if len(banned) >= 1:\n",
    "    print(*sorted(banned))"
   ]
  },
  {
   "cell_type": "markdown",
   "metadata": {},
   "source": [
    "C"
   ]
  },
  {
   "cell_type": "code",
   "execution_count": 37,
   "metadata": {},
   "outputs": [
    {
     "name": "stdout",
     "output_type": "stream",
     "text": [
      "3 8\n",
      "A 1\n",
      "A 2\n",
      "A 1\n",
      "A 2\n",
      "C\n",
      "B\n",
      "A 3\n",
      "A 1\n",
      "1\n",
      "3 1 2 1\n",
      "-1\n"
     ]
    }
   ],
   "source": [
    "from collections import deque\n",
    "import sys\n",
    "input = lambda: sys.stdin.readline().rstrip()\n",
    "\n",
    "n, q = map(int, input().split())\n",
    "\n",
    "cur_page = -1\n",
    "go_back = deque()\n",
    "go_front = deque()\n",
    "for _ in range(q):\n",
    "    query = input().split()\n",
    "    \n",
    "    if query[0] == 'B':\n",
    "        if not go_back:\n",
    "            continue\n",
    "        go_front.appendleft(cur_page)\n",
    "        cur_page = go_back.pop()\n",
    "    elif query[0] == 'F':\n",
    "        if not go_front:\n",
    "            continue\n",
    "        go_back.append(cur_page)\n",
    "        cur_page = go_front.popleft()\n",
    "    elif query[0] == 'A':\n",
    "        next_page = int(query[1])\n",
    "        go_front = deque()\n",
    "        if cur_page == -1:\n",
    "            cur_page = next_page\n",
    "        else:\n",
    "            go_back.append(cur_page)\n",
    "            cur_page = next_page\n",
    "    elif query[0] == 'C':\n",
    "        f_value = -1\n",
    "        n_go_back = deque()\n",
    "        while go_back:\n",
    "            value = go_back.pop()\n",
    "            if value != f_value:\n",
    "                n_go_back.appendleft(value)\n",
    "                f_value = value\n",
    "        go_back = n_go_back.copy()\n",
    "        \n",
    "print(cur_page)\n",
    "if not go_back:\n",
    "    print(-1)\n",
    "else:\n",
    "    print(*reversed(go_back))\n",
    "    \n",
    "if not go_front:\n",
    "    print(-1)\n",
    "else:\n",
    "    print(*go_front)"
   ]
  },
  {
   "cell_type": "markdown",
   "metadata": {},
   "source": [
    "D"
   ]
  },
  {
   "cell_type": "code",
   "execution_count": 53,
   "metadata": {},
   "outputs": [
    {
     "name": "stdout",
     "output_type": "stream",
     "text": [
      "3 4\n",
      "2\n",
      "0 6\n",
      "8 12\n",
      "3\n",
      "1 3\n",
      "4 6\n",
      "7 9\n",
      "1\n",
      "4 8\n"
     ]
    }
   ],
   "source": [
    "import sys\n",
    "input = lambda: sys.stdin.readline().rstrip()\n",
    "\n",
    "n, t = map(int, input().split())\n",
    "\n",
    "possibles = [0] * 1001 # possibles[0]은 0~1의 구간\n",
    "for _ in range(n):\n",
    "    k = int(input())\n",
    "    for _ in range(k):\n",
    "        s, e = map(int, input().split())\n",
    "        for i in range(s, e):\n",
    "            possibles[i] += 1\n",
    "            \n",
    "cur_sum = sum(possibles[:t])\n",
    "sp = [cur_sum]\n",
    "\n",
    "cur_end_index = t - 1\n",
    "cur_end_index += 1\n",
    "while cur_end_index <= 1000:\n",
    "    cur_sum += possibles[cur_end_index]\n",
    "    cur_sum -= possibles[cur_end_index - t]\n",
    "    sp.append(cur_sum)\n",
    "    cur_end_index += 1\n",
    "    \n",
    "max_value = -1\n",
    "max_value_index = -1\n",
    "for i in range(len(sp) - 1, -1, -1):\n",
    "    if sp[i] >= max_value:\n",
    "        max_value = sp[i]\n",
    "        max_value_index = i\n",
    "        \n",
    "print(max_value_index, max_value_index + t)"
   ]
  },
  {
   "cell_type": "markdown",
   "metadata": {},
   "source": [
    "E"
   ]
  },
  {
   "cell_type": "code",
   "execution_count": 119,
   "metadata": {},
   "outputs": [
    {
     "name": "stdout",
     "output_type": "stream",
     "text": [
      "4\n",
      "2 1 1 3\n",
      "5\n",
      "2 1 4 3 1\n"
     ]
    }
   ],
   "source": [
    "import sys\n",
    "# input = lambda: sys.stdin.readline().rstrip()\n",
    "\n",
    "n = int(input())\n",
    "\n",
    "get_value = lambda x: int(x) - 1\n",
    "li = list(map(get_value, input().split()))\n",
    "\n",
    "vt = [False] * n\n",
    "check_cands = set()\n",
    "cycle_check_cands = set()\n",
    "for ocur in range(n):\n",
    "    if vt[ocur]:\n",
    "        continue\n",
    "    vt[ocur] = True\n",
    "    \n",
    "    cur = ocur\n",
    "    while True:\n",
    "        ncur = li[cur]\n",
    "        \n",
    "        if vt[ncur]:\n",
    "            if ncur in check_cands:\n",
    "                check_cands.discard(ncur)\n",
    "            \n",
    "            if ncur == ocur:\n",
    "                cycle_check_cands.add(ocur)\n",
    "            else:\n",
    "                check_cands.add(ocur)\n",
    "            \n",
    "            break\n",
    "        vt[ncur] = True\n",
    "        cur = ncur\n",
    "\n",
    "rts = []\n",
    "vt = [False] * n\n",
    "vt[0] = True\n",
    "\n",
    "cur = 0\n",
    "while True:\n",
    "    ncur = li[cur]\n",
    "    rts.append(ncur + 1)\n",
    "\n",
    "    if vt[ncur]:\n",
    "        break\n",
    "    vt[ncur] = True\n",
    "    \n",
    "    cur = ncur\n",
    "    \n",
    "for cur in check_cands:\n",
    "    if vt[cur]:\n",
    "        continue\n",
    "    vt[cur] = True\n",
    "    rts.append(cur + 1)\n",
    "    \n",
    "    while True:\n",
    "        ncur = li[cur]\n",
    "        rts.append(ncur + 1)\n",
    "        \n",
    "        if vt[ncur]:\n",
    "            break\n",
    "        vt[ncur] = True\n",
    "\n",
    "        cur = ncur\n",
    "        \n",
    "for cur in cycle_check_cands:\n",
    "    if vt[cur]:\n",
    "        continue\n",
    "    vt[cur] = True\n",
    "    rts.append(cur + 1)\n",
    "    \n",
    "    while True:\n",
    "        ncur = li[cur]\n",
    "        rts.append(ncur + 1)\n",
    "\n",
    "        if vt[ncur]:\n",
    "            break\n",
    "        vt[ncur] = True\n",
    "\n",
    "        cur = ncur\n",
    "\n",
    "print(len(rts))\n",
    "print(*rts)"
   ]
  },
  {
   "cell_type": "markdown",
   "metadata": {},
   "source": [
    "F"
   ]
  },
  {
   "cell_type": "raw",
   "metadata": {},
   "source": [
    "트라이?\n",
    "dp?"
   ]
  },
  {
   "cell_type": "code",
   "execution_count": null,
   "metadata": {},
   "outputs": [],
   "source": []
  },
  {
   "cell_type": "markdown",
   "metadata": {},
   "source": [
    "G"
   ]
  },
  {
   "cell_type": "code",
   "execution_count": null,
   "metadata": {},
   "outputs": [],
   "source": [
    "전체를 리스트 하나로 만들 수 있을 것으로 보임"
   ]
  },
  {
   "cell_type": "code",
   "execution_count": 160,
   "metadata": {},
   "outputs": [
    {
     "name": "stdout",
     "output_type": "stream",
     "text": [
      "4 3\n",
      ". A1 B1\n",
      ". . .\n",
      "B4 A3 .\n",
      "B3 A4 .\n",
      "yes\n"
     ]
    }
   ],
   "source": [
    "n, m = map(int, input().split())\n",
    "\n",
    "li = [input().split() for _ in range(n)]\n",
    "\n",
    "alpha_to_num = dict()\n",
    "for i in range(26):\n",
    "    alpha_to_num[chr(i + 65)] = i\n",
    "    \n",
    "cur = 26\n",
    "for i in range(26):\n",
    "    for j in range(26):\n",
    "        alpha_to_num[chr(i + 65) + chr(j + 65)] = cur\n",
    "        cur += 1\n",
    "    \n",
    "def get_value(s):\n",
    "    al = ''\n",
    "    num = ''\n",
    "    for v in s:\n",
    "        if v.isdigit():\n",
    "            num += v\n",
    "        else:\n",
    "            al += v\n",
    "\n",
    "    al = alpha_to_num[al]\n",
    "    num = int(num) - 1\n",
    "\n",
    "    final = num * m + al\n",
    "    \n",
    "    return final\n",
    "\n",
    "nli = [set() for _ in range(n * m)]\n",
    "for i in range(n):\n",
    "    for j in range(m):\n",
    "        temp = li[i][j]\n",
    "        if temp == '.':\n",
    "            continue\n",
    "        elif '+' in temp:\n",
    "            a, b = temp.split('+')\n",
    "            nli[i * m + j].add(get_value(a))\n",
    "            nli[i * m + j].add(get_value(b))\n",
    "        else:\n",
    "            nli[i * m + j].add(get_value(temp))\n",
    "\n",
    "def dfs(value):\n",
    "    global is_cycled\n",
    "    \n",
    "    if is_cycled:\n",
    "        return\n",
    "    \n",
    "    for v in nli[value]:\n",
    "        if vt[v]:\n",
    "            if v in temp:\n",
    "                is_cycled = True\n",
    "                return\n",
    "            continue\n",
    "        vt[v] = True\n",
    "        temp.add(v)\n",
    "        dfs(v)\n",
    "        temp.discard(v)\n",
    "    \n",
    "vt = [False] * (n * m)\n",
    "for value in range(n * m):\n",
    "    is_cycled = False\n",
    "    if vt[value]:\n",
    "        continue\n",
    "    vt[value] = True\n",
    "    \n",
    "    temp = set()\n",
    "    temp.add(value)\n",
    "    dfs(value)\n",
    "    temp.discard(value)\n",
    "    if is_cycled:\n",
    "        print('yes')\n",
    "        break\n",
    "else:\n",
    "    print('no')"
   ]
  },
  {
   "cell_type": "markdown",
   "metadata": {},
   "source": [
    "H"
   ]
  },
  {
   "cell_type": "raw",
   "metadata": {},
   "source": [
    "이분매칭, 최대유량?\n",
    "그리디, dp?"
   ]
  },
  {
   "cell_type": "code",
   "execution_count": null,
   "metadata": {},
   "outputs": [],
   "source": [
    "n, w = map(int, input().split())\n",
    "li = list(map(int, input().split()))\n",
    "\n",
    "ts = []\n",
    "cs = []\n",
    "for i in range(n):\n",
    "    temp = list(map(int, input().split()))\n",
    "    \n",
    "    ts.appned((i, temp[0], temp[1]))\n",
    "    cs.append((i, temp[2:]))\n",
    "    \n",
    "ts.sort(key=lambda x:)"
   ]
  }
 ],
 "metadata": {
  "kernelspec": {
   "display_name": "Python 3",
   "language": "python",
   "name": "python3"
  },
  "language_info": {
   "codemirror_mode": {
    "name": "ipython",
    "version": 3
   },
   "file_extension": ".py",
   "mimetype": "text/x-python",
   "name": "python",
   "nbconvert_exporter": "python",
   "pygments_lexer": "ipython3",
   "version": "3.7.3"
  }
 },
 "nbformat": 4,
 "nbformat_minor": 4
}
