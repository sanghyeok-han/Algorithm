{
 "cells": [
  {
   "cell_type": "markdown",
   "metadata": {},
   "source": [
    "### MVP 다이아몬드 (Normal) 20414"
   ]
  },
  {
   "cell_type": "code",
   "execution_count": 25,
   "metadata": {},
   "outputs": [
    {
     "name": "stdout",
     "output_type": "stream",
     "text": [
      "36\n",
      "257 269 367 500\n",
      "DDDDDDDDDDDDDDDDDDDDDDDDDDDDDDDDDDDD\n",
      "18000\n"
     ]
    }
   ],
   "source": [
    "n = int(input())\n",
    "s, g, p, d = map(int, input().split())\n",
    "li = list(input())\n",
    "\n",
    "dp = [(0, 0)]\n",
    "\n",
    "for v in li:\n",
    "    ndp = []\n",
    "    \n",
    "    if v == 'B':\n",
    "        for cur in range(s):\n",
    "            for ftotal, pre in dp:\n",
    "                if pre + cur < s:\n",
    "                    ndp.append((ftotal + cur, cur))\n",
    "    elif v == 'S':\n",
    "        for cur in range(g):\n",
    "            for ftotal, pre in dp:\n",
    "                if s <= pre + cur < g:\n",
    "                    ndp.append((ftotal + cur, cur))   \n",
    "    elif v == 'G':\n",
    "        for cur in range(p):\n",
    "            for ftotal, pre in dp:\n",
    "                if g <= pre + cur < p:\n",
    "                    ndp.append((ftotal + cur, cur))    \n",
    "    elif v == 'P':\n",
    "        for cur in range(d):\n",
    "            for ftotal, pre in dp:\n",
    "                if p <= pre + cur < d:\n",
    "                    ndp.append((ftotal + cur, cur))   \n",
    "    elif v == 'D':\n",
    "        for cur in range(d + 1):\n",
    "            for ftotal, pre in dp:\n",
    "                if d <= pre + cur:\n",
    "                    ndp.append((ftotal + cur, cur))\n",
    "                    \n",
    "    st = set()\n",
    "    ndp.sort(key=lambda x: -x[0])\n",
    "    dp = []\n",
    "    for total, cur in ndp:\n",
    "        if cur in st:\n",
    "            continue\n",
    "        st.add(cur)\n",
    "        dp.append((total, cur))\n",
    "    \n",
    "r = max([v[0] for v in dp])\n",
    "\n",
    "print(r)"
   ]
  },
  {
   "cell_type": "markdown",
   "metadata": {},
   "source": [
    "### 모두싸인 출근길 24229"
   ]
  },
  {
   "cell_type": "code",
   "execution_count": 30,
   "metadata": {},
   "outputs": [
    {
     "name": "stdout",
     "output_type": "stream",
     "text": [
      "5\n",
      "2 9\n",
      "0 2\n",
      "11 15\n",
      "16 17\n",
      "19 20\n",
      "20\n"
     ]
    }
   ],
   "source": [
    "from collections import deque\n",
    "import sys\n",
    "input = lambda: sys.stdin.readline().rstrip()\n",
    "\n",
    "n = int(input())\n",
    "li = [list(map(int, input().split())) for _ in range(n)]\n",
    "li.sort(key=lambda x: x[0])\n",
    "\n",
    "nli = []\n",
    "cur_s = li[0][0]\n",
    "cur_e = li[0][1]\n",
    "for i in range(1, n):\n",
    "    s, e = li[i]\n",
    "    \n",
    "    if s <= cur_e:\n",
    "        cur_e = max(cur_e, e)\n",
    "    else:\n",
    "        nli.append([cur_s, cur_e])\n",
    "        cur_s = s\n",
    "        cur_e = e\n",
    "    \n",
    "nli.append([cur_s, cur_e])\n",
    "nn = len(nli)\n",
    "cur_check = 1\n",
    "queue = deque()\n",
    "queue.append((nli[0][1], nli[0][1]))\n",
    "r = 0\n",
    "while queue:\n",
    "    cur_end, jump = queue.popleft()\n",
    "    r = max(cur_end, r)\n",
    "    \n",
    "    if cur_check == nn:\n",
    "        continue\n",
    "    \n",
    "    while True:\n",
    "        n_start, n_end = nli[cur_check]\n",
    "        if n_start <= cur_end + jump:\n",
    "            njump = n_end - n_start\n",
    "            queue.append((n_end, njump))\n",
    "            cur_check += 1\n",
    "            \n",
    "            if cur_check == nn:\n",
    "                break\n",
    "        else:\n",
    "            break\n",
    "            \n",
    "print(r)"
   ]
  },
  {
   "cell_type": "markdown",
   "metadata": {},
   "source": [
    "### 트리 색칠하기 24230"
   ]
  },
  {
   "cell_type": "code",
   "execution_count": null,
   "metadata": {},
   "outputs": [],
   "source": [
    "현재 노드의 원하는 색깔이 0이 아니며 부모의 색깔과 다른 경우 +1"
   ]
  },
  {
   "cell_type": "code",
   "execution_count": null,
   "metadata": {},
   "outputs": [],
   "source": [
    "import sys\n",
    "input = lambda: sys.stdin.readline().rstrip()\n",
    "\n",
    "## PYRIVAL BOOTSTRAP\n",
    "# https://github.com/cheran-senthil/PyRival/blob/master/pyrival/misc/bootstrap.py\n",
    "# This decorator allows for recursion without actually doing recursion\n",
    "## @bootstrap, yield when getting and returning value in recursive functions, end of functions\n",
    "from types import GeneratorType\n",
    "\n",
    "def bootstrap(f, stack=[]):\n",
    "    def wrappedfunc(*args, **kwargs):\n",
    "        if stack:\n",
    "            return f(*args, **kwargs)\n",
    "        else:\n",
    "            to = f(*args, **kwargs)\n",
    "            while True:\n",
    "                if type(to) is GeneratorType:\n",
    "                    stack.append(to)\n",
    "                    to = next(to)\n",
    "                else:\n",
    "                    stack.pop()\n",
    "                    if not stack:\n",
    "                        break\n",
    "                    to = stack[-1].send(to)\n",
    "            return to\n",
    "    return wrappedfunc\n",
    "\n",
    "@bootstrap\n",
    "def dfs(value):\n",
    "    global r\n",
    "    \n",
    "    vt[value] = True\n",
    "    \n",
    "    for v in li[value]:\n",
    "        if vt[v]:\n",
    "            continue\n",
    "        if wants[v] != 0 and wants[value] != wants[v]:\n",
    "            r += 1\n",
    "        yield dfs(v)\n",
    "    yield\n",
    "\n",
    "n = int(input())\n",
    "wants = [0] + list(map(int, input().split()))\n",
    "li = [[] for _ in range(n + 1)]\n",
    "for _ in range(n - 1):\n",
    "    a, b = map(int, input().split())\n",
    "    li[a].append(b)\n",
    "    li[b].append(a)\n",
    "    \n",
    "vt = [False] * (n + 1)\n",
    "r = 0\n",
    "if wants[1] != 0:\n",
    "    r = 1\n",
    "dfs(1)\n",
    "\n",
    "print(r)"
   ]
  },
  {
   "cell_type": "markdown",
   "metadata": {},
   "source": [
    "### 행운의 문자열 1342"
   ]
  },
  {
   "cell_type": "code",
   "execution_count": 41,
   "metadata": {},
   "outputs": [
    {
     "name": "stdout",
     "output_type": "stream",
     "text": [
      "abcdefghij\n",
      "3628800\n"
     ]
    }
   ],
   "source": [
    "from itertools import permutations as perm\n",
    "\n",
    "s = input()\n",
    "n = len(s)\n",
    "\n",
    "r = 0\n",
    "st = set()\n",
    "for case in perm(s):\n",
    "    s_case = ''.join(case)\n",
    "    if s_case in st:\n",
    "        continue\n",
    "    st.add(s_case)\n",
    "    \n",
    "    ip = True\n",
    "    for i in range(n - 1):\n",
    "        if case[i] == case[i + 1]:\n",
    "            ip = False\n",
    "            break\n",
    "    if ip:\n",
    "        r += 1\n",
    "        \n",
    "print(r)"
   ]
  },
  {
   "cell_type": "markdown",
   "metadata": {},
   "source": [
    "### 현수막 14716"
   ]
  },
  {
   "cell_type": "code",
   "execution_count": null,
   "metadata": {},
   "outputs": [],
   "source": [
    "from collections import deque\n",
    "import sys\n",
    "input = lambda: sys.stdin.readline().rstrip()\n",
    "\n",
    "n, m = map(int, input().split())\n",
    "li = [list(map(int, input().split())) for _ in range(n)]\n",
    "\n",
    "dx = [-1, -1, -1, 0, 0, 1, 1, 1]\n",
    "dy = [-1, 0, 1, -1, 1, -1, 0, 1]\n",
    "vt = [[False] * m for _ in range(n)]\n",
    "\n",
    "c = 0\n",
    "for sx in range(n):\n",
    "    for sy in range(m):\n",
    "        if li[sx][sy] == 0 or vt[sx][sy]:\n",
    "            continue\n",
    "        c += 1\n",
    "        \n",
    "        queue = deque()\n",
    "        queue.append((sx, sy))\n",
    "        while queue:\n",
    "            x, y = queue.popleft()\n",
    "            \n",
    "            for d in range(8):\n",
    "                nx = x + dx[d]\n",
    "                ny = y + dy[d]\n",
    "                \n",
    "                if nx < 0 or nx >= n or ny < 0 or ny >= m:\n",
    "                    continue\n",
    "                if li[nx][ny] == 0:\n",
    "                    continue\n",
    "                if not vt[nx][ny]:\n",
    "                    vt[nx][ny] = True\n",
    "                    queue.append((nx, ny))\n",
    "                    \n",
    "print(c)"
   ]
  },
  {
   "cell_type": "markdown",
   "metadata": {},
   "source": [
    "### 보석 상자 2792"
   ]
  },
  {
   "cell_type": "code",
   "execution_count": 46,
   "metadata": {},
   "outputs": [
    {
     "name": "stdout",
     "output_type": "stream",
     "text": [
      "7 5\n",
      "7\n",
      "1\n",
      "7\n",
      "4\n",
      "4\n",
      "4\n"
     ]
    }
   ],
   "source": [
    "import sys\n",
    "input = lambda: sys.stdin.readline().rstrip()\n",
    "\n",
    "def calcul(mid):\n",
    "    c = 0\n",
    "    for v in li:\n",
    "        c += v // mid\n",
    "        if v % mid:\n",
    "            c += 1\n",
    "    \n",
    "    return c\n",
    "\n",
    "n, m = map(int, input().split())\n",
    "li = [int(input()) for _ in range(m)]\n",
    "r = float('inf')\n",
    "s = 1\n",
    "e = int(1e9) + 1\n",
    "while s <= e:\n",
    "    mid = (s + e) // 2\n",
    "    \n",
    "    needed = calcul(mid)\n",
    "    \n",
    "    if needed <= n:\n",
    "        r = mid\n",
    "        e = mid - 1\n",
    "    else:\n",
    "        s = mid + 1\n",
    "        \n",
    "print(r)"
   ]
  },
  {
   "cell_type": "markdown",
   "metadata": {},
   "source": [
    "### 나는 위대한 슈퍼스타K 2865"
   ]
  },
  {
   "cell_type": "code",
   "execution_count": 57,
   "metadata": {},
   "outputs": [
    {
     "name": "stdout",
     "output_type": "stream",
     "text": [
      "sadf\n"
     ]
    },
    {
     "ename": "ValueError",
     "evalue": "invalid literal for int() with base 10: 'sadf'",
     "output_type": "error",
     "traceback": [
      "\u001b[1;31m---------------------------------------------------------------------------\u001b[0m",
      "\u001b[1;31mValueError\u001b[0m                                Traceback (most recent call last)",
      "\u001b[1;32m<ipython-input-57-7a85a9f2a80c>\u001b[0m in \u001b[0;36m<module>\u001b[1;34m\u001b[0m\n\u001b[1;32m----> 1\u001b[1;33m \u001b[0mn\u001b[0m\u001b[1;33m,\u001b[0m \u001b[0mm\u001b[0m\u001b[1;33m,\u001b[0m \u001b[0mk\u001b[0m \u001b[1;33m=\u001b[0m \u001b[0mmap\u001b[0m\u001b[1;33m(\u001b[0m\u001b[0mint\u001b[0m\u001b[1;33m,\u001b[0m \u001b[0minput\u001b[0m\u001b[1;33m(\u001b[0m\u001b[1;33m)\u001b[0m\u001b[1;33m.\u001b[0m\u001b[0msplit\u001b[0m\u001b[1;33m(\u001b[0m\u001b[1;33m)\u001b[0m\u001b[1;33m)\u001b[0m\u001b[1;33m\u001b[0m\u001b[1;33m\u001b[0m\u001b[0m\n\u001b[0m\u001b[0;32m      2\u001b[0m \u001b[0mli\u001b[0m \u001b[1;33m=\u001b[0m \u001b[1;33m[\u001b[0m\u001b[1;33m]\u001b[0m\u001b[1;33m\u001b[0m\u001b[1;33m\u001b[0m\u001b[0m\n\u001b[0;32m      3\u001b[0m \u001b[1;32mfor\u001b[0m \u001b[0m_\u001b[0m \u001b[1;32min\u001b[0m \u001b[0mrange\u001b[0m\u001b[1;33m(\u001b[0m\u001b[0mm\u001b[0m\u001b[1;33m)\u001b[0m\u001b[1;33m:\u001b[0m\u001b[1;33m\u001b[0m\u001b[1;33m\u001b[0m\u001b[0m\n\u001b[0;32m      4\u001b[0m     \u001b[0mtemp\u001b[0m \u001b[1;33m=\u001b[0m \u001b[0minput\u001b[0m\u001b[1;33m(\u001b[0m\u001b[1;33m)\u001b[0m\u001b[1;33m.\u001b[0m\u001b[0msplit\u001b[0m\u001b[1;33m(\u001b[0m\u001b[1;33m)\u001b[0m\u001b[1;33m\u001b[0m\u001b[1;33m\u001b[0m\u001b[0m\n\u001b[0;32m      5\u001b[0m \u001b[1;33m\u001b[0m\u001b[0m\n",
      "\u001b[1;31mValueError\u001b[0m: invalid literal for int() with base 10: 'sadf'"
     ]
    }
   ],
   "source": [
    "n, m, k = map(int, input().split())\n",
    "li = []\n",
    "for _ in range(m):\n",
    "    temp = input().split()\n",
    "    \n",
    "    for i in range(0, len(temp), 2):\n",
    "        num, abil = temp[i], temp[i + 1]\n",
    "        num = int(num)\n",
    "        abil = float(abil)\n",
    "        \n",
    "        li.append((abil, num))\n",
    "        \n",
    "li.sort(key=lambda x: -x[0])\n",
    "st = set()\n",
    "sv = 0\n",
    "for abil, num in li:\n",
    "    if num in st:\n",
    "        continue\n",
    "    st.add(num)\n",
    "    sv += abil\n",
    "    k -= 1\n",
    "    if k == 0:\n",
    "        break\n",
    "        \n",
    "r = '{:.1f}'.format(sv)\n",
    "\n",
    "print(r)"
   ]
  },
  {
   "cell_type": "markdown",
   "metadata": {},
   "source": [
    "### 진짜 메시지 9324"
   ]
  },
  {
   "cell_type": "code",
   "execution_count": 65,
   "metadata": {},
   "outputs": [
    {
     "name": "stdout",
     "output_type": "stream",
     "text": [
      "ABCABCBBAAACC\n",
      "OK\n"
     ]
    }
   ],
   "source": [
    "for _ in range(int(input())):\n",
    "    s = input()\n",
    "    n = len(s)\n",
    "\n",
    "    ct = [0] * 26\n",
    "    ip = True\n",
    "    cur = 0\n",
    "    while cur < n:\n",
    "        v = ord(s[cur]) - 65\n",
    "\n",
    "        ct[v] += 1\n",
    "        if ct[v] == 3:\n",
    "            if cur + 1 == n or s[cur + 1] != s[cur]:\n",
    "                ip = False\n",
    "                break\n",
    "            cur += 2\n",
    "            ct[v] = 0\n",
    "            continue\n",
    "        else:\n",
    "            cur += 1\n",
    "\n",
    "    if ip:\n",
    "        print('OK')\n",
    "    else:\n",
    "        print('FAKE')"
   ]
  },
  {
   "cell_type": "markdown",
   "metadata": {},
   "source": [
    "### 코딩 바이오리듬 23292"
   ]
  },
  {
   "cell_type": "code",
   "execution_count": 71,
   "metadata": {},
   "outputs": [
    {
     "name": "stdout",
     "output_type": "stream",
     "text": [
      "20000101\n",
      "3\n",
      "20211030\n",
      "20211031\n",
      "20131114\n",
      "20211031\n"
     ]
    }
   ],
   "source": [
    "import sys\n",
    "input = lambda: sys.stdin.readline().rstrip()\n",
    "\n",
    "def calcul(to_check):\n",
    "    t1 = 0\n",
    "    for i in range(4):\n",
    "        t1 += (to_check[i] - li[i]) ** 2\n",
    "\n",
    "    t2 = 0\n",
    "    for i in range(4, 6):\n",
    "        t2 += (to_check[i] - li[i]) ** 2\n",
    "        \n",
    "    t3 = 0\n",
    "    for i in range(6, 8):\n",
    "        t3 += (to_check[i] - li[i]) ** 2\n",
    "        \n",
    "    return t1 * t2 * t3\n",
    "        \n",
    "li = list(map(int, input()))\n",
    "\n",
    "n = int(input())\n",
    "nli = []\n",
    "for _ in range(n):\n",
    "    to_check = list(map(int, input()))\n",
    "    \n",
    "    v = calcul(to_check)\n",
    "    nli.append((''.join(map(str, to_check)), v))\n",
    "    \n",
    "nli.sort(key=lambda x: (-x[1], x[0]))\n",
    "\n",
    "print(nli[0][0])"
   ]
  },
  {
   "cell_type": "markdown",
   "metadata": {},
   "source": [
    "### 추첨상 사수 대작전! (Easy) 20410"
   ]
  },
  {
   "cell_type": "code",
   "execution_count": 78,
   "metadata": {},
   "outputs": [
    {
     "name": "stdout",
     "output_type": "stream",
     "text": [
      "11 9 9 9\n",
      "0 9\n"
     ]
    }
   ],
   "source": [
    "def solve():\n",
    "    for a in range(m):\n",
    "        for c in range(m):\n",
    "            if x1 == (a * seed + c) % m and x2 == (a * x1 + c) % m:\n",
    "                return a, c\n",
    "\n",
    "m, seed, x1, x2 = map(int, input().split())\n",
    "\n",
    "a, c = solve()\n",
    "\n",
    "print(a, c)"
   ]
  }
 ],
 "metadata": {
  "kernelspec": {
   "display_name": "Python 3",
   "language": "python",
   "name": "python3"
  },
  "language_info": {
   "codemirror_mode": {
    "name": "ipython",
    "version": 3
   },
   "file_extension": ".py",
   "mimetype": "text/x-python",
   "name": "python",
   "nbconvert_exporter": "python",
   "pygments_lexer": "ipython3",
   "version": "3.7.4"
  }
 },
 "nbformat": 4,
 "nbformat_minor": 2
}
