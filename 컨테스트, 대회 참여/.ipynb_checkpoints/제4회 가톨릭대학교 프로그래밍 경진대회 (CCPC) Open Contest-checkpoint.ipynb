{
 "cells": [
  {
   "cell_type": "markdown",
   "metadata": {},
   "source": [
    "A"
   ]
  },
  {
   "cell_type": "code",
   "execution_count": 2,
   "metadata": {},
   "outputs": [
    {
     "name": "stdout",
     "output_type": "stream",
     "text": [
      "5 6\n",
      "3 1\n",
      "5 5\n",
      "NO...\n"
     ]
    }
   ],
   "source": [
    "n, m = map(int, input().split())\n",
    "sy, d = map(int, input().split())\n",
    "\n",
    "sx = 0\n",
    "sy -= 1\n",
    "\n",
    "mx, my = map(int, input().split())\n",
    "mx -= 1\n",
    "my -= 1\n",
    "\n",
    "x, y = sx, sy\n",
    "met = False\n",
    "while not (x == n - 1 and y == m - 1):\n",
    "    if x == mx and y == my:\n",
    "        met = True\n",
    "    \n",
    "    if d == 0:\n",
    "        if y != 0:\n",
    "            y -= 1\n",
    "        else:\n",
    "            x += 1\n",
    "            d = 1\n",
    "    else:\n",
    "        if y != m - 1:\n",
    "            y += 1\n",
    "        else:\n",
    "            x += 1\n",
    "            d = 0\n",
    "            \n",
    "    if x == mx and y == my:\n",
    "        met = True\n",
    "        \n",
    "if not met:\n",
    "    print('YES!')\n",
    "else:\n",
    "    print('NO...')"
   ]
  },
  {
   "cell_type": "markdown",
   "metadata": {},
   "source": [
    "B"
   ]
  },
  {
   "cell_type": "code",
   "execution_count": 7,
   "metadata": {},
   "outputs": [
    {
     "name": "stdout",
     "output_type": "stream",
     "text": [
      "1024 2\n",
      "Impossible\n"
     ]
    }
   ],
   "source": [
    "s, m = map(int, input().split())\n",
    "\n",
    "a = [1, 2, 4, 8, 16, 32, 64, 128, 256, 512]\n",
    "b = []\n",
    "\n",
    "bm = bin(m)\n",
    "cur = 1\n",
    "for i in range(len(bm) - 1, 1, -1):\n",
    "    if bm[i] == '1':\n",
    "        b.append(cur)\n",
    "    cur *= 2\n",
    "    \n",
    "for i in range(9, -1, -1):\n",
    "    if a[i] <= s:\n",
    "        s -= a[i]\n",
    "        \n",
    "if s == 0:\n",
    "    print('No thanks')\n",
    "else:\n",
    "    for i in range(len(b) - 1, -1, -1):\n",
    "        if b[i] <= s:\n",
    "            s -= b[i]\n",
    "            \n",
    "    if s == 0:\n",
    "        print('Thanks')\n",
    "    else:\n",
    "        print('Impossible')"
   ]
  },
  {
   "cell_type": "markdown",
   "metadata": {},
   "source": [
    "C"
   ]
  },
  {
   "cell_type": "code",
   "execution_count": null,
   "metadata": {},
   "outputs": [],
   "source": [
    "def convert_time(tt):\n",
    "    h, m = tt.split(':')\n",
    "    h = int(h)\n",
    "    m = int(m)\n",
    "    \n",
    "    return h * 60 + m\n",
    "\n",
    "inf = float('inf')\n",
    "\n",
    "n, m, p = map(int, input().split())\n",
    "pt = input().split()\n",
    "\n",
    "info = [[] for _ in range(n)]\n",
    "for _ in range(p):\n",
    "    pnum, tt, name, status = input().split()\n",
    "    \n",
    "    sid = pt.index(name)\n",
    "    pnum = int(pnum) - 1\n",
    "    tt = convert_time(tt)\n",
    "    \n",
    "    info[pnum].append((tt, sid, status))\n",
    "    \n",
    "scs = [0] * m\n",
    "for pnum in range(n):\n",
    "    spent = [inf] * m\n",
    "    banned = [False] * m\n",
    "    first_wrong = [inf] * m\n",
    "    info[pnum].sort(key=lambda x: x[0])\n",
    "    \n",
    "    for tt, sid, status in info[pnum]:\n",
    "        if spent[sid] != inf:\n",
    "            continue\n",
    "        if banned[sid]:\n",
    "            continue\n",
    "        if status == 'solve':\n",
    "            if first_wrong[sid] == inf:\n",
    "                banned[sid] = True\n",
    "            else:\n",
    "                spent[sid] = tt - first_wrong[sid]\n",
    "        else:\n",
    "            if first_wrong[sid] == inf:\n",
    "                first_wrong[sid] = tt\n",
    "        \n",
    "    spent = [(spent[sid], pt[sid], sid) for sid in range(m)]\n",
    "    spent.sort()\n",
    "    \n",
    "    for i in range(m):\n",
    "        sid = spent[i][2]\n",
    "        \n",
    "        if spent[i][0] == inf:\n",
    "            if banned[sid] or first_wrong[sid] == inf:\n",
    "                scs[sid] += m + 1\n",
    "            else:\n",
    "                scs[sid] += m\n",
    "        else:\n",
    "            scs[sid] += i + 1\n",
    "            \n",
    "scs = [(scs[sid], pt[sid]) for sid in range(m)]\n",
    "scs.sort()\n",
    "for v in scs:\n",
    "    print(v[1])"
   ]
  }
 ],
 "metadata": {
  "kernelspec": {
   "display_name": "Python 3",
   "language": "python",
   "name": "python3"
  },
  "language_info": {
   "codemirror_mode": {
    "name": "ipython",
    "version": 3
   },
   "file_extension": ".py",
   "mimetype": "text/x-python",
   "name": "python",
   "nbconvert_exporter": "python",
   "pygments_lexer": "ipython3",
   "version": "3.7.4"
  }
 },
 "nbformat": 4,
 "nbformat_minor": 2
}
