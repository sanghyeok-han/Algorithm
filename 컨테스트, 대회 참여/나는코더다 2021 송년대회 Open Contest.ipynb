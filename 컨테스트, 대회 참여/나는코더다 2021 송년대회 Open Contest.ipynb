{
 "cells": [
  {
   "cell_type": "markdown",
   "metadata": {},
   "source": [
    "A"
   ]
  },
  {
   "cell_type": "code",
   "execution_count": null,
   "metadata": {},
   "outputs": [],
   "source": [
    "k = 1101\n",
    "1011 1001  0100   \n"
   ]
  },
  {
   "cell_type": "code",
   "execution_count": null,
   "metadata": {},
   "outputs": [],
   "source": [
    "k = 0b1101\n",
    "\n",
    "to_check = ((1<<32) - 1) ^ k\n",
    "a = 0b1001\n",
    "\n",
    "to_check & a"
   ]
  },
  {
   "cell_type": "code",
   "execution_count": null,
   "metadata": {},
   "outputs": [],
   "source": [
    "n, k = map(int, input().split())\n",
    "li = list(map(int, input().split()))\n",
    "\n",
    "to_check = ((1<<32) - 1) ^ k\n",
    "\n",
    "s = 0\n",
    "e = 0\n",
    "cur = 0\n",
    "while s <= e < n:\n",
    "    cur |= li[e]\n",
    "    if cur & to_check:\n",
    "        s = e + 1\n",
    "        e = e + 1\n",
    "        cur = 0\n",
    "        continue\n",
    "    if cur == k:\n",
    "        print(s + 1, e + 1)\n",
    "        break\n",
    "    e += 1\n",
    "else:\n",
    "    print(-1)"
   ]
  },
  {
   "cell_type": "code",
   "execution_count": null,
   "metadata": {},
   "outputs": [],
   "source": [
    "bin(to_check)"
   ]
  },
  {
   "cell_type": "code",
   "execution_count": null,
   "metadata": {},
   "outputs": [],
   "source": [
    "k에서 0인 부분이 1이면 안됨"
   ]
  }
 ],
 "metadata": {
  "kernelspec": {
   "display_name": "Python 3",
   "language": "python",
   "name": "python3"
  },
  "language_info": {
   "codemirror_mode": {
    "name": "ipython",
    "version": 3
   },
   "file_extension": ".py",
   "mimetype": "text/x-python",
   "name": "python",
   "nbconvert_exporter": "python",
   "pygments_lexer": "ipython3",
   "version": "3.7.4"
  }
 },
 "nbformat": 4,
 "nbformat_minor": 2
}
