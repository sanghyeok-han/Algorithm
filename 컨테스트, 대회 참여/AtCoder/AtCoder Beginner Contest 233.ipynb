{
 "cells": [
  {
   "cell_type": "markdown",
   "metadata": {},
   "source": [
    "A"
   ]
  },
  {
   "cell_type": "code",
   "execution_count": 3,
   "metadata": {},
   "outputs": [
    {
     "name": "stdout",
     "output_type": "stream",
     "text": [
      "270 750\n",
      "48\n"
     ]
    }
   ],
   "source": [
    "x, y = map(int, input().split())\n",
    "\n",
    "if x >= y:\n",
    "    print(0)\n",
    "else:\n",
    "    diff = y - x\n",
    "    total = diff // 10\n",
    "    if diff % 10 > 0:\n",
    "        total += 1\n",
    "    \n",
    "    print(total)"
   ]
  },
  {
   "cell_type": "markdown",
   "metadata": {},
   "source": [
    "B"
   ]
  },
  {
   "cell_type": "code",
   "execution_count": 6,
   "metadata": {},
   "outputs": [
    {
     "name": "stdout",
     "output_type": "stream",
     "text": [
      "4 13\n",
      "merrychristmas\n",
      "meramtsirhcyrs\n"
     ]
    }
   ],
   "source": [
    "l, r = map(int, input().split())\n",
    "li = list(input())\n",
    "\n",
    "li[l - 1:r] = reversed(li[l - 1:r])\n",
    "\n",
    "print(''.join(li))"
   ]
  },
  {
   "cell_type": "markdown",
   "metadata": {},
   "source": [
    "C"
   ]
  },
  {
   "cell_type": "code",
   "execution_count": 13,
   "metadata": {},
   "outputs": [
    {
     "name": "stdout",
     "output_type": "stream",
     "text": [
      "3 1000000000000000000\n",
      "2 1000000000 1000000000\n",
      "2 1000000000 1000000000\n",
      "2 1000000000 1000000000\n",
      "0\n"
     ]
    }
   ],
   "source": [
    "import sys\n",
    "input = lambda: sys.stdin.readline().rstrip()\n",
    "\n",
    "n, x = map(int, input().split())\n",
    "\n",
    "li = []\n",
    "for _ in range(n):\n",
    "    temp = list(map(int, input().split()))\n",
    "    li.append(temp[1:])\n",
    "\n",
    "def check(cur_index, product):\n",
    "    global result\n",
    "    \n",
    "    if cur_index == n:\n",
    "        if product == x:\n",
    "            result += 1\n",
    "        return\n",
    "    \n",
    "    for i in range(len(li[cur_index])):\n",
    "        nproduct = product * li[cur_index][i]\n",
    "        check(cur_index + 1, nproduct)\n",
    "\n",
    "result = 0\n",
    "check(0, 1)\n",
    "\n",
    "print(result)"
   ]
  },
  {
   "cell_type": "markdown",
   "metadata": {},
   "source": [
    "D"
   ]
  },
  {
   "cell_type": "code",
   "execution_count": 19,
   "metadata": {},
   "outputs": [
    {
     "name": "stdout",
     "output_type": "stream",
     "text": [
      "6 5\n",
      "8 -3 5 7 0 -4\n"
     ]
    }
   ],
   "source": [
    "n, k = map(int, input().split())\n",
    "li = list(map(int, input().split()))"
   ]
  },
  {
   "cell_type": "code",
   "execution_count": 20,
   "metadata": {},
   "outputs": [],
   "source": [
    "sum_li = [0] * (n + 1)\n",
    "cumul = 0\n",
    "for i in range(n):\n",
    "    cumul += li[i]\n",
    "    sum_li[i + 1] = cumul"
   ]
  },
  {
   "cell_type": "code",
   "execution_count": 21,
   "metadata": {},
   "outputs": [
    {
     "data": {
      "text/plain": [
       "[0, 8, 5, 10, 17, 17, 13]"
      ]
     },
     "execution_count": 21,
     "metadata": {},
     "output_type": "execute_result"
    }
   ],
   "source": [
    "sum_li"
   ]
  },
  {
   "cell_type": "code",
   "execution_count": 24,
   "metadata": {},
   "outputs": [
    {
     "name": "stdout",
     "output_type": "stream",
     "text": [
      "0 0 8\n",
      "1 1 -3\n",
      "1 2 2\n",
      "1 3 9\n",
      "2 3 12\n",
      "3 3 7\n",
      "4 4 0\n",
      "4 5 -4\n",
      "0\n"
     ]
    }
   ],
   "source": [
    "start = 0\n",
    "end = 0\n",
    "\n",
    "count = 0\n",
    "while start <= end < n:\n",
    "    v = sum_li[end + 1] - sum_li[start]\n",
    "    \n",
    "    print(start, end, v)\n",
    "    if v == k:\n",
    "        count += 1\n",
    "        start += 1\n",
    "        end += 1\n",
    "    elif v < k:\n",
    "        end += 1\n",
    "    else:\n",
    "        start += 1\n",
    "        if end < start:\n",
    "            end += 1\n",
    "        \n",
    "print(count)"
   ]
  },
  {
   "cell_type": "code",
   "execution_count": 26,
   "metadata": {},
   "outputs": [
    {
     "name": "stdout",
     "output_type": "stream",
     "text": [
      "2 -1000000000000000\n",
      "1000000000 -1000000000\n",
      "0\n"
     ]
    }
   ],
   "source": [
    "# https://www.geeksforgeeks.org/number-subarrays-sum-exactly-equal-k/\n",
    "\n",
    "from collections import defaultdict\n",
    " \n",
    "# Function to find number of subarrays \n",
    "# with sum exactly equal to k.\n",
    "def findSubarraySum(arr, n, Sum):\n",
    "    # Dictionary to store number of subarrays\n",
    "    # starting from index zero having \n",
    "    # particular value of sum.\n",
    "    prevSum = defaultdict(lambda : 0)\n",
    "   \n",
    "    res = 0\n",
    "   \n",
    "    # Sum of elements so far.\n",
    "    currsum = 0\n",
    "   \n",
    "    for i in range(0, n): \n",
    "   \n",
    "        # Add current element to sum so far.\n",
    "        currsum += arr[i]\n",
    "   \n",
    "        # If currsum is equal to desired sum,\n",
    "        # then a new subarray is found. So\n",
    "        # increase count of subarrays.\n",
    "        if currsum == Sum: \n",
    "            res += 1        \n",
    "   \n",
    "        # currsum exceeds given sum by currsum  - sum.\n",
    "        # Find number of subarrays having \n",
    "        # this sum and exclude those subarrays\n",
    "        # from currsum by increasing count by \n",
    "        # same amount.\n",
    "        if (currsum - Sum) in prevSum:\n",
    "            res += prevSum[currsum - Sum]\n",
    "           \n",
    "        # Add currsum value to count of \n",
    "        # different values of sum.\n",
    "        prevSum[currsum] += 1\n",
    "      \n",
    "    return res\n",
    "\n",
    "n, k = map(int, input().split())\n",
    "li = list(map(int, input().split()))\n",
    "\n",
    "print(findSubarraySum(li, n, k))"
   ]
  },
  {
   "cell_type": "markdown",
   "metadata": {},
   "source": [
    "E"
   ]
  },
  {
   "cell_type": "code",
   "execution_count": 48,
   "metadata": {},
   "outputs": [
    {
     "name": "stdout",
     "output_type": "stream",
     "text": [
      "99999\n",
      "111105\n"
     ]
    }
   ],
   "source": [
    "li = list(map(int, input()))\n",
    "\n",
    "n = len(li)\n",
    "cumul = 0\n",
    "results = [0] * (n + 5)\n",
    "for i in range(n):\n",
    "    cumul += li[i]\n",
    "    results[i + 5] = cumul\n",
    "    \n",
    "for i in range(n + 4, 0, -1):\n",
    "    if results[i] >= 10:\n",
    "        results[i - 1] += results[i] // 10\n",
    "        results[i] = results[i] % 10\n",
    "        \n",
    "print(''.join(map(str, results)).lstrip('0'))"
   ]
  },
  {
   "cell_type": "markdown",
   "metadata": {},
   "source": [
    "F"
   ]
  },
  {
   "cell_type": "code",
   "execution_count": null,
   "metadata": {},
   "outputs": [],
   "source": [
    "분리집합으로 묶여있는 것 확인\n",
    "\n",
    "해당 조합으로 정렬이 가능한지 확인\n",
    "\n",
    "딕셔너리로 '(a, b): 방법 번호' 식으로 저장함\n",
    "\n"
   ]
  },
  {
   "cell_type": "code",
   "execution_count": null,
   "metadata": {},
   "outputs": [],
   "source": [
    "n = int(input())\n",
    "li = list(map(int, input().split()))\n",
    "\n",
    "m = int(input())\n",
    "\n",
    "\n",
    "\n",
    "for "
   ]
  }
 ],
 "metadata": {
  "kernelspec": {
   "display_name": "Python 3",
   "language": "python",
   "name": "python3"
  },
  "language_info": {
   "codemirror_mode": {
    "name": "ipython",
    "version": 3
   },
   "file_extension": ".py",
   "mimetype": "text/x-python",
   "name": "python",
   "nbconvert_exporter": "python",
   "pygments_lexer": "ipython3",
   "version": "3.7.4"
  }
 },
 "nbformat": 4,
 "nbformat_minor": 4
}
