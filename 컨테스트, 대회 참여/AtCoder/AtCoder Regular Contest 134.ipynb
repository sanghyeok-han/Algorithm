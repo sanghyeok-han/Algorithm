{
 "cells": [
  {
   "cell_type": "code",
   "execution_count": null,
   "metadata": {},
   "outputs": [],
   "source": [
    "import sys\n",
    "input = lambda: sys.stdin.readline().rstrip()"
   ]
  },
  {
   "cell_type": "markdown",
   "metadata": {},
   "source": [
    "A"
   ]
  },
  {
   "cell_type": "code",
   "execution_count": 10,
   "metadata": {},
   "outputs": [
    {
     "name": "stdout",
     "output_type": "stream",
     "text": [
      "12 1000000000 5\n",
      "18501490 45193578 51176297 126259763 132941437 180230259 401450156 585843095 614520250 622477699 657221699 896711402\n",
      "199999992\n"
     ]
    }
   ],
   "source": [
    "n, l, w = map(int, input().split())\n",
    "li = sorted(map(int, input().split()))\n",
    "li.append(l)\n",
    "\n",
    "last_covered = 0\n",
    "count = 0\n",
    "for v in li:\n",
    "    if last_covered < v:\n",
    "        gap = v - last_covered\n",
    "        \n",
    "        count += gap // w\n",
    "        if gap % w:\n",
    "            count += 1\n",
    "    \n",
    "    last_covered = v + w\n",
    "    \n",
    "print(count)"
   ]
  },
  {
   "cell_type": "markdown",
   "metadata": {},
   "source": [
    "B"
   ]
  },
  {
   "cell_type": "code",
   "execution_count": 33,
   "metadata": {},
   "outputs": [
    {
     "name": "stdout",
     "output_type": "stream",
     "text": [
      "6\n",
      "bddada\n"
     ]
    }
   ],
   "source": [
    "n = int(input())\n",
    "li = list(input())"
   ]
  },
  {
   "cell_type": "code",
   "execution_count": 47,
   "metadata": {},
   "outputs": [
    {
     "name": "stdout",
     "output_type": "stream",
     "text": [
      "17\n",
      "snwfpfwipeusiwkzo\n",
      "effwpnwipsusiwkzo\n"
     ]
    }
   ],
   "source": [
    "n = int(input())\n",
    "li = list(input())\n",
    "\n",
    "nli = [(v, i) for i, v in enumerate(li)]\n",
    "acs = sorted(nli, key=lambda x: (x[0], -x[1]))\n",
    "\n",
    "r = li.copy()\n",
    "acsi = 0\n",
    "rchi = float('inf') # recent changed index\n",
    "for i in range(n):\n",
    "    while True:\n",
    "        if li[i] <= acs[acsi][0]:\n",
    "            break\n",
    "        if i >= acs[acsi][1] or rchi <= acs[acsi][1]:\n",
    "            acsi += 1\n",
    "        else:\n",
    "            r[i], r[acs[acsi][1]] = r[acs[acsi][1]], r[i]\n",
    "            rchi = acs[acsi][1]\n",
    "            acsi += 1\n",
    "            break      \n",
    "            \n",
    "    if acsi == n:\n",
    "        break\n",
    "        \n",
    "print(''.join(r))"
   ]
  },
  {
   "cell_type": "markdown",
   "metadata": {},
   "source": [
    "C"
   ]
  },
  {
   "cell_type": "code",
   "execution_count": null,
   "metadata": {},
   "outputs": [],
   "source": [
    "mod = 998244353\n",
    "\n",
    "n, k = map(int, input().split())\n",
    "li = list(map(int, input().split()))"
   ]
  },
  {
   "cell_type": "code",
   "execution_count": null,
   "metadata": {},
   "outputs": [],
   "source": [
    "if li[0] <= sum(li[1:]) or li[0] < k:\n",
    "    print(-1)\n",
    "else:\n",
    "    pass\n"
   ]
  },
  {
   "cell_type": "code",
   "execution_count": null,
   "metadata": {},
   "outputs": [],
   "source": []
  },
  {
   "cell_type": "code",
   "execution_count": null,
   "metadata": {},
   "outputs": [],
   "source": []
  },
  {
   "cell_type": "code",
   "execution_count": null,
   "metadata": {},
   "outputs": [],
   "source": []
  },
  {
   "cell_type": "code",
   "execution_count": null,
   "metadata": {},
   "outputs": [],
   "source": [
    "# template for bootstrap\n",
    "import os\n",
    "import sys\n",
    "from io import BytesIO, IOBase\n",
    "\n",
    "## PYRIVAL BOOTSTRAP\n",
    "# https://github.com/cheran-senthil/PyRival/blob/master/pyrival/misc/bootstrap.py\n",
    "# This decorator allows for recursion without actually doing recursion\n",
    "from types import GeneratorType\n",
    "## @bootstrap, yield when getting and returning value in recursive functions, end of functions\n",
    "\n",
    "\n",
    "def main():\n",
    "    from collections import defaultdict as dd\n",
    "    \n",
    "    n = int(input())\n",
    "    colors = [0] + list(map(int, input().split()))\n",
    "\n",
    "    li = [[] for _ in range(n + 1)]\n",
    "    for _ in range(n - 1):\n",
    "        a, b = map(int, input().split())\n",
    "        li[a].append(b)\n",
    "        li[b].append(a)\n",
    "\n",
    "    @bootstrap\n",
    "    def dfs(value):\n",
    "        if cdd[colors[value]] == 0:\n",
    "            possibles.append(value)\n",
    "        cdd[colors[value]] += 1\n",
    "\n",
    "        for v in li[value]:\n",
    "            if vt[v]:\n",
    "                continue\n",
    "            vt[v] = True\n",
    "            yield dfs(v)\n",
    "\n",
    "        cdd[colors[value]] -= 1\n",
    "        yield\n",
    "\n",
    "    possibles = []\n",
    "    cdd = dd(int) # color defaultdict\n",
    "\n",
    "    vt = [False] * (n + 1)\n",
    "    vt[1] = True\n",
    "\n",
    "    dfs(1)\n",
    "\n",
    "    possibles.sort()\n",
    "    possibles = '\\n'.join([str(v) for v in possibles])\n",
    "\n",
    "    print(possibles)\n",
    "\n",
    "    \n",
    "# region fastio\n",
    " \n",
    "BUFSIZE = 8192\n",
    " \n",
    "\n",
    "class FastIO(IOBase):\n",
    "    newlines = 0\n",
    " \n",
    "    def __init__(self, file):\n",
    "        self._fd = file.fileno()\n",
    "        self.buffer = BytesIO()\n",
    "        self.writable = \"x\" in file.mode or \"r\" not in file.mode\n",
    "        self.write = self.buffer.write if self.writable else None\n",
    " \n",
    "    def read(self):\n",
    "        while True:\n",
    "            b = os.read(self._fd, max(os.fstat(self._fd).st_size, BUFSIZE))\n",
    "            if not b:\n",
    "                break\n",
    "            ptr = self.buffer.tell()\n",
    "            self.buffer.seek(0, 2), self.buffer.write(b), self.buffer.seek(ptr)\n",
    "        self.newlines = 0\n",
    "        return self.buffer.read()\n",
    " \n",
    "    def readline(self):\n",
    "        while self.newlines == 0:\n",
    "            b = os.read(self._fd, max(os.fstat(self._fd).st_size, BUFSIZE))\n",
    "            self.newlines = b.count(b\"\\n\") + (not b)\n",
    "            ptr = self.buffer.tell()\n",
    "            self.buffer.seek(0, 2), self.buffer.write(b), self.buffer.seek(ptr)\n",
    "        self.newlines -= 1\n",
    "        return self.buffer.readline()\n",
    " \n",
    "    def flush(self):\n",
    "        if self.writable:\n",
    "            os.write(self._fd, self.buffer.getvalue())\n",
    "            self.buffer.truncate(0), self.buffer.seek(0)\n",
    " \n",
    " \n",
    "class IOWrapper(IOBase):\n",
    "    def __init__(self, file):\n",
    "        self.buffer = FastIO(file)\n",
    "        self.flush = self.buffer.flush\n",
    "        self.writable = self.buffer.writable\n",
    "        self.write = lambda s: self.buffer.write(s.encode(\"ascii\"))\n",
    "        self.read = lambda: self.buffer.read().decode(\"ascii\")\n",
    "        self.readline = lambda: self.buffer.readline().decode(\"ascii\")\n",
    " \n",
    " \n",
    "sys.stdin, sys.stdout = IOWrapper(sys.stdin), IOWrapper(sys.stdout)\n",
    "input = lambda: sys.stdin.readline().rstrip(\"\\r\\n\")\n",
    " \n",
    "# endregion\n",
    " \n",
    "if __name__ == \"__main__\":\n",
    "    def bootstrap(f, stack=[]):\n",
    "        def wrappedfunc(*args, **kwargs):\n",
    "            if stack:\n",
    "                return f(*args, **kwargs)\n",
    "            else:\n",
    "                to = f(*args, **kwargs)\n",
    "                while True:\n",
    "                    if type(to) is GeneratorType:\n",
    "                        stack.append(to)\n",
    "                        to = next(to)\n",
    "                    else:\n",
    "                        stack.pop()\n",
    "                        if not stack:\n",
    "                            break\n",
    "                        to = stack[-1].send(to)\n",
    "                return to\n",
    "        return wrappedfunc\n",
    "    \n",
    "    main()"
   ]
  }
 ],
 "metadata": {
  "kernelspec": {
   "display_name": "Python 3",
   "language": "python",
   "name": "python3"
  },
  "language_info": {
   "codemirror_mode": {
    "name": "ipython",
    "version": 3
   },
   "file_extension": ".py",
   "mimetype": "text/x-python",
   "name": "python",
   "nbconvert_exporter": "python",
   "pygments_lexer": "ipython3",
   "version": "3.7.4"
  }
 },
 "nbformat": 4,
 "nbformat_minor": 4
}
