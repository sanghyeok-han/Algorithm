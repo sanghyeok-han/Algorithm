{
 "cells": [
  {
   "cell_type": "markdown",
   "metadata": {},
   "source": [
    "A"
   ]
  },
  {
   "cell_type": "code",
   "execution_count": 2,
   "metadata": {},
   "outputs": [
    {
     "name": "stdout",
     "output_type": "stream",
     "text": [
      "122\n",
      "z\n"
     ]
    }
   ],
   "source": [
    "n = int(input())\n",
    "\n",
    "print(chr(n))"
   ]
  },
  {
   "cell_type": "markdown",
   "metadata": {},
   "source": [
    "B"
   ]
  },
  {
   "cell_type": "code",
   "execution_count": 6,
   "metadata": {},
   "outputs": [
    {
     "name": "stdout",
     "output_type": "stream",
     "text": [
      "2 1\n",
      "100 1\n",
      "2\n",
      "No\n"
     ]
    }
   ],
   "source": [
    "get_value = lambda x: int(x) - 1\n",
    "\n",
    "n, k = map(int, input().split())\n",
    "a = list(map(int, input().split()))\n",
    "b = list(map(get_value, input().split()))\n",
    "\n",
    "max_value = max(a)\n",
    "greatests = set()\n",
    "for i in range(n):\n",
    "    if a[i] == max(a):\n",
    "        greatests.add(i)\n",
    "        \n",
    "for v in b:\n",
    "    if v in greatests:\n",
    "        print('Yes')\n",
    "        break\n",
    "else:\n",
    "    print('No')"
   ]
  },
  {
   "cell_type": "markdown",
   "metadata": {},
   "source": [
    "C"
   ]
  },
  {
   "cell_type": "code",
   "execution_count": 11,
   "metadata": {},
   "outputs": [
    {
     "name": "stdout",
     "output_type": "stream",
     "text": [
      "3\n",
      "1937458062\n",
      "8124690357\n",
      "2385760149\n",
      "6\n"
     ]
    }
   ],
   "source": [
    "n = int(input())\n",
    "li = [list(map(int, input())) for _ in range(n)]\n",
    "\n",
    "maxes = [999] * 10\n",
    "for num in range(10):\n",
    "    ct = [0] * 10\n",
    "    for i in range(n):\n",
    "        t = li[i].index(num)\n",
    "        ct[t] += 1\n",
    "        \n",
    "    cur_t = 0\n",
    "    while max(ct) != 0:\n",
    "        for i in range(10):\n",
    "            if ct[i] >= 1:\n",
    "                ct[i] -= 1\n",
    "            if max(ct) == 0:\n",
    "                break\n",
    "            cur_t += 1\n",
    "            \n",
    "    maxes[num] = cur_t\n",
    "    \n",
    "r = min(maxes)\n",
    "\n",
    "print(r)"
   ]
  },
  {
   "cell_type": "markdown",
   "metadata": {},
   "source": [
    "D"
   ]
  },
  {
   "cell_type": "code",
   "execution_count": null,
   "metadata": {},
   "outputs": [],
   "source": [
    "전체 경우의 수에서 각 숫자별로 두 개씩 혹은 세 개씩 고르는 경우를 빼야함"
   ]
  },
  {
   "cell_type": "code",
   "execution_count": 19,
   "metadata": {},
   "outputs": [
    {
     "name": "stdout",
     "output_type": "stream",
     "text": [
      "15\n",
      "3 1 4 1 5 9 2 6 5 3 5 8 9 7 9\n",
      "355\n"
     ]
    }
   ],
   "source": [
    "from collections import Counter\n",
    "\n",
    "def nCr(n, r):\n",
    "    if n - r < r:\n",
    "        r = n - r\n",
    "        \n",
    "    num = 1\n",
    "    for i in range(n, n - r, -1):\n",
    "        num *= i\n",
    "    \n",
    "    denom = 1\n",
    "    for i in range(2, r + 1):\n",
    "        denom *= i\n",
    "        \n",
    "    return num // denom\n",
    "\n",
    "n = int(input())\n",
    "ct = Counter(map(int, input().split()))\n",
    "\n",
    "total = nCr(n, 3)\n",
    "\n",
    "for v in ct.values():\n",
    "    if v >= 2:\n",
    "        total -= nCr(v, 2) * (n - v)\n",
    "    if v >= 3:\n",
    "        total -= nCr(v, 3)\n",
    "        \n",
    "print(total)"
   ]
  },
  {
   "cell_type": "markdown",
   "metadata": {},
   "source": [
    "E"
   ]
  },
  {
   "cell_type": "code",
   "execution_count": 28,
   "metadata": {},
   "outputs": [
    {
     "name": "stdout",
     "output_type": "stream",
     "text": [
      "2 1\n",
      "1 2 1\n",
      "1\n"
     ]
    }
   ],
   "source": [
    "from heapq import heappush, heappop\n",
    "import sys\n",
    "input = lambda: sys.stdin.readline().rstrip()\n",
    "\n",
    "n, m = map(int, input().split())\n",
    "li = [[] for _ in range(n + 1)]\n",
    "nums = dict()\n",
    "for i in range(m):\n",
    "    a, b, c = map(int, input().split())\n",
    "    li[a].append((b, c))\n",
    "    li[b].append((a, c))\n",
    "    nums[(a, b)] = i + 1\n",
    "    nums[(b, a)] = i + 1\n",
    "\n",
    "inf = float('inf')\n",
    "\n",
    "dists = [inf] * (n + 1)\n",
    "start = 1\n",
    "dists[start] = 0\n",
    "\n",
    "heap = []\n",
    "heappush(heap, (0, start))\n",
    "used_nums = [-1] * (n + 1)\n",
    "while heap:\n",
    "    dist, value = heappop(heap)\n",
    "    \n",
    "    if dist > dists[value]:\n",
    "        continue\n",
    "        \n",
    "    for v, d in li[value]:\n",
    "        ndist = dist + d\n",
    "        if ndist < dists[v]:\n",
    "            used_nums[v] = nums[(value, v)]\n",
    "            dists[v] = ndist\n",
    "            heappush(heap, (ndist, v))\n",
    "            \n",
    "print(*used_nums[2:])"
   ]
  },
  {
   "cell_type": "code",
   "execution_count": 24,
   "metadata": {},
   "outputs": [
    {
     "data": {
      "text/plain": [
       "1"
      ]
     },
     "execution_count": 24,
     "metadata": {},
     "output_type": "execute_result"
    }
   ],
   "source": [
    "d"
   ]
  }
 ],
 "metadata": {
  "kernelspec": {
   "display_name": "Python 3",
   "language": "python",
   "name": "python3"
  },
  "language_info": {
   "codemirror_mode": {
    "name": "ipython",
    "version": 3
   },
   "file_extension": ".py",
   "mimetype": "text/x-python",
   "name": "python",
   "nbconvert_exporter": "python",
   "pygments_lexer": "ipython3",
   "version": "3.7.4"
  }
 },
 "nbformat": 4,
 "nbformat_minor": 2
}
