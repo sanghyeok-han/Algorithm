{
 "cells": [
  {
   "cell_type": "markdown",
   "metadata": {},
   "source": [
    "A"
   ]
  },
  {
   "cell_type": "code",
   "execution_count": 8,
   "metadata": {},
   "outputs": [
    {
     "name": "stdout",
     "output_type": "stream",
     "text": [
      "8\n",
      "2 0 2 2 0 4 2 4\n",
      "80\n"
     ]
    }
   ],
   "source": [
    "n = int(input())\n",
    "li = list(map(int, input().split()))\n",
    "\n",
    "stack = []\n",
    "for v in li:\n",
    "    if not stack:\n",
    "        stack.append(v)\n",
    "        continue\n",
    "    \n",
    "    while stack and stack[-1] < v:\n",
    "        stack.pop()\n",
    "        \n",
    "    cur = v\n",
    "    while stack and stack[-1] == cur:\n",
    "        stack.pop()\n",
    "        cur += 1\n",
    "    \n",
    "    stack.append(cur)\n",
    "    if cur != v:\n",
    "        stack.append(v)\n",
    "    \n",
    "r = 0\n",
    "for v in stack:\n",
    "    r += 2 ** v\n",
    "    \n",
    "print(r)"
   ]
  },
  {
   "cell_type": "markdown",
   "metadata": {},
   "source": [
    "B"
   ]
  },
  {
   "cell_type": "code",
   "execution_count": 20,
   "metadata": {},
   "outputs": [
    {
     "name": "stdout",
     "output_type": "stream",
     "text": [
      "10 3 5 2 3 6\n"
     ]
    }
   ],
   "source": [
    "n, a, b, x, y, z = map(int, input().split())"
   ]
  },
  {
   "cell_type": "code",
   "execution_count": null,
   "metadata": {},
   "outputs": [],
   "source": [
    "1 연산이 a, b보다도 효율적이면 1로만 채울 수 있음\n",
    "\n",
    "1 연산이 a보다 효율적이면 a를 쓸 필요가 없음\n",
    "1 연산이 b보다 효율적이면 b를 쓸 필요가 없음\n",
    "\n",
    "1 연산이 가장 비효율적인 경우라면?\n"
   ]
  },
  {
   "cell_type": "code",
   "execution_count": null,
   "metadata": {},
   "outputs": [],
   "source": [
    "Y 들여서 A\n",
    "Z 들여서 B\n",
    "\n",
    "Y를 B만큼 들여서 A * B\n",
    "Z를 A만큼 들여서 B * A\n"
   ]
  },
  {
   "cell_type": "code",
   "execution_count": 67,
   "metadata": {},
   "outputs": [],
   "source": [
    "del input"
   ]
  },
  {
   "cell_type": "code",
   "execution_count": 72,
   "metadata": {},
   "outputs": [
    {
     "name": "stdout",
     "output_type": "stream",
     "text": [
      "1\n",
      "1 1000 10000 1000000 1 1\n",
      "1000000\n"
     ]
    }
   ],
   "source": [
    "import sys\n",
    "# input = lambda: sys.stdin.readline().rstrip()\n",
    "\n",
    "# to_min = lambda: (n - ac * a - bc * b) * x + ac * y + bc * z\n",
    "\n",
    "try:\n",
    "    for _ in range(int(input())):\n",
    "        n, a, b, x, y, z = map(int, input().split())\n",
    "\n",
    "        if a * x <= y and b * x <= z:\n",
    "            print(x * n)\n",
    "        elif a * x <= y:\n",
    "            count = n // b\n",
    "            print(count * z + (n % b * x))\n",
    "        elif b * x <= z:\n",
    "            count = n // a\n",
    "            print(count * y + (n % a * x))\n",
    "        elif b * y <= a * z:\n",
    "            # b * y가 더 유리함, b를 더 많이 쓸 수록 좋음\n",
    "            ac = n // a\n",
    "            bc = (n - ac * a) // b\n",
    "\n",
    "            print((n - ac * a - bc * b) * x + ac * y + bc * z)\n",
    "        else:\n",
    "            bc = n // b\n",
    "            ac = (n - bc * b) // a\n",
    "\n",
    "            print((n - ac * a - bc * b) * x + ac * y + bc * z)"
   ]
  },
  {
   "cell_type": "code",
   "execution_count": null,
   "metadata": {},
   "outputs": [],
   "source": []
  },
  {
   "cell_type": "code",
   "execution_count": null,
   "metadata": {},
   "outputs": [],
   "source": [
    "(n - ac * a - bc * b) * x + ac * y + bc * z 의 최솟값을 구하라\n",
    "단 n - ac * a - bc * b는 0 이상"
   ]
  },
  {
   "cell_type": "code",
   "execution_count": null,
   "metadata": {},
   "outputs": [],
   "source": [
    "n - ac * a - bc * b >= 0\n",
    "n >= ac * a + bc * b"
   ]
  },
  {
   "cell_type": "code",
   "execution_count": null,
   "metadata": {},
   "outputs": [],
   "source": [
    "b가 0일 때 n >= ac * a\n",
    "\n"
   ]
  },
  {
   "cell_type": "code",
   "execution_count": null,
   "metadata": {},
   "outputs": [],
   "source": [
    "n / a >= ac\n",
    "\n",
    "ac의 최대: n // a"
   ]
  },
  {
   "cell_type": "code",
   "execution_count": null,
   "metadata": {},
   "outputs": [],
   "source": [
    "n - ac * a >= bc * b\n",
    "(n - ac * a) / b >= bc\n",
    "bc의 최대: (n - ac * a) // b"
   ]
  },
  {
   "cell_type": "code",
   "execution_count": 56,
   "metadata": {},
   "outputs": [
    {
     "name": "stdout",
     "output_type": "stream",
     "text": [
      "0 11 3 64\n",
      "1 10 0 52\n",
      "2 8 1 47\n",
      "3 6 2 42\n",
      "4 4 3 37\n",
      "5 3 0 25\n",
      "6 1 1 20\n"
     ]
    }
   ],
   "source": [
    "ac_start = 0\n",
    "ac_end = n // a\n",
    "to_min = lambda: (n - ac * a - bc * b) * x + ac * y + bc * z\n",
    "for ac in range(ac_start, ac_end + 1):\n",
    "    bc = (n - ac * a) // b\n",
    "    print(ac, bc, (n - ac * a - bc * b), (n - ac * a - bc * b) * x + ac * y + bc * z)\n",
    "            \n",
    "        \n",
    "        \n",
    "    \n",
    "\n",
    "# print(n - ac * a - bc * b)\n",
    "# print((n - ac * a - bc * b) * x + ac * y + bc * z)"
   ]
  },
  {
   "cell_type": "code",
   "execution_count": 59,
   "metadata": {},
   "outputs": [
    {
     "name": "stdout",
     "output_type": "stream",
     "text": [
      "20\n"
     ]
    }
   ],
   "source": [
    "to_min = lambda: (n - ac * a - bc * b) * x + ac * y + bc * z\n",
    "ac = n // a\n",
    "bc = (n - ac * a) // b\n",
    "print((n - ac * a - bc * b) * x + ac * y + bc * z)\n"
   ]
  },
  {
   "cell_type": "code",
   "execution_count": 46,
   "metadata": {},
   "outputs": [
    {
     "name": "stdout",
     "output_type": "stream",
     "text": [
      "4\n"
     ]
    }
   ],
   "source": [
    "ac = 2\n",
    "bc = 0\n",
    "\n",
    "print(n - ac * a - bc * b)"
   ]
  },
  {
   "cell_type": "code",
   "execution_count": null,
   "metadata": {},
   "outputs": [],
   "source": [
    "(n - ac * a - bc * b) * x + ac * y + bc * z"
   ]
  },
  {
   "cell_type": "code",
   "execution_count": null,
   "metadata": {},
   "outputs": [],
   "source": [
    "oc == 2\n",
    "ac == 1\n",
    "bc == 1"
   ]
  },
  {
   "cell_type": "code",
   "execution_count": null,
   "metadata": {},
   "outputs": [],
   "source": [
    "import sys\n",
    "# input = lambda: sys.stdin.readline().rstrip()\n",
    "\n",
    "# to_min = lambda: (n - ac * a - bc * b) * x + ac * y + bc * z\n",
    "\n",
    "try:\n",
    "    for _ in range(int(input())):\n",
    "        n, a, b, x, y, z = map(int, input().split())\n",
    "\n",
    "        if a * x <= y and b * x <= z:\n",
    "            print(x * n)\n",
    "        elif a * x <= y:\n",
    "            count = n // b\n",
    "            print(count * z + (n % b * x))\n",
    "        elif b * x <= z:\n",
    "            count = n // a\n",
    "            print(count * y + (n % a * x))\n",
    "        elif b * y <= a * z:\n",
    "        elif y / a <= z / b\n",
    "            # b * y가 더 유리함, b를 더 많이 쓸 수록 좋음\n",
    "            ac = n // a\n",
    "            bc = (n - ac * a) // b\n",
    "\n",
    "            print((n - ac * a - bc * b) * x + ac * y + bc * z)\n",
    "        else:\n",
    "            bc = n // b\n",
    "            ac = (n - bc * b) // a\n",
    "\n",
    "            print((n - ac * a - bc * b) * x + ac * y + bc * z)"
   ]
  },
  {
   "cell_type": "code",
   "execution_count": null,
   "metadata": {},
   "outputs": [],
   "source": [
    "import sys\n",
    "# input = lambda: sys.stdin.readline().rstrip()\n",
    "\n",
    "# to_min = lambda: (n - ac * a - bc * b) * x + ac * y + bc * z\n",
    "\n",
    "for _ in range(int(input())):\n",
    "    n, a, b, x, y, z = map(int, input().split())\n",
    "\n",
    "    if a * x <= y and b * x <= z:\n",
    "        print(x * n)\n",
    "    elif a * x <= y:\n",
    "        count = n // b\n",
    "        print(count * z + (n % b * x))\n",
    "    elif b * x <= z:\n",
    "        count = n // a\n",
    "        print(count * y + (n % a * x))\n",
    "    else:\n",
    "        if y / a > z / b:\n",
    "            y, z = z, y\n",
    "            a, b = b, a\n",
    "            \n",
    "        min_p_oc = min(n % a, n % b)\n",
    "\n",
    "        nn = n\n",
    "        while nn >= 0:\n",
    "            nn -= a + b\n",
    "            temp = min(n % a, n % b)\n",
    "            if temp < min_p_oc:\n",
    "                min_p_oc = temp\n",
    "            else:\n",
    "                break\n",
    "        min_r = float('inf')\n",
    "        for ac in range(n // a, -1, -1)"
   ]
  }
 ],
 "metadata": {
  "kernelspec": {
   "display_name": "Python 3",
   "language": "python",
   "name": "python3"
  },
  "language_info": {
   "codemirror_mode": {
    "name": "ipython",
    "version": 3
   },
   "file_extension": ".py",
   "mimetype": "text/x-python",
   "name": "python",
   "nbconvert_exporter": "python",
   "pygments_lexer": "ipython3",
   "version": "3.7.4"
  }
 },
 "nbformat": 4,
 "nbformat_minor": 4
}
