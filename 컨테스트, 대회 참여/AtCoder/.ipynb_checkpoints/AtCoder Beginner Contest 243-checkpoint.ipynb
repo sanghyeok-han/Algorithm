{
 "cells": [
  {
   "cell_type": "code",
   "execution_count": null,
   "metadata": {},
   "outputs": [],
   "source": [
    "import sys\n",
    "input = lambda: sys.stdin.readline().rstrip()"
   ]
  },
  {
   "cell_type": "markdown",
   "metadata": {},
   "source": [
    "A"
   ]
  },
  {
   "cell_type": "code",
   "execution_count": 4,
   "metadata": {},
   "outputs": [
    {
     "name": "stdout",
     "output_type": "stream",
     "text": [
      "1 10\n",
      "Yes\n"
     ]
    }
   ],
   "source": [
    "a, b = map(int, input().split())\n",
    "\n",
    "if a + 1 == b:\n",
    "    print('Yes')\n",
    "elif a == 1 and b == 10:\n",
    "    print('Yes')\n",
    "else:\n",
    "    print('No')"
   ]
  },
  {
   "cell_type": "markdown",
   "metadata": {},
   "source": [
    "B"
   ]
  },
  {
   "cell_type": "code",
   "execution_count": 5,
   "metadata": {},
   "outputs": [
    {
     "name": "stdout",
     "output_type": "stream",
     "text": [
      "6\n",
      "1 4 1 2 2 1\n",
      "3\n"
     ]
    }
   ],
   "source": [
    "n = int(input())\n",
    "st = set(map(int, input().split()))\n",
    "\n",
    "r = len(st)\n",
    "\n",
    "print(r)"
   ]
  },
  {
   "cell_type": "markdown",
   "metadata": {},
   "source": [
    "C"
   ]
  },
  {
   "cell_type": "code",
   "execution_count": 11,
   "metadata": {},
   "outputs": [
    {
     "name": "stdout",
     "output_type": "stream",
     "text": [
      "4 12\n",
      "1 8\n",
      "5 7\n",
      "3 4\n",
      "2 6\n",
      "Yes\n"
     ]
    }
   ],
   "source": [
    "n, x = map(int, input().split())\n",
    "li = [False] * (x + 1)\n",
    "li[0] = True\n",
    "\n",
    "for _ in range(n):\n",
    "    a, b = map(int, input().split())\n",
    "    \n",
    "    nli = [False] * (x + 1)\n",
    "    for i in range(x, -1, -1):\n",
    "        if i - a >= 0:\n",
    "            if li[i - a]:\n",
    "                nli[i] = True\n",
    "                \n",
    "        if i - b >= 0:\n",
    "            if li[i - b]:\n",
    "                nli[i] = True\n",
    "    li = nli.copy()\n",
    "                \n",
    "if li[x]:\n",
    "    print('Yes')\n",
    "else:\n",
    "    print('No')"
   ]
  },
  {
   "cell_type": "markdown",
   "metadata": {},
   "source": [
    "D      "
   ]
  },
  {
   "cell_type": "code",
   "execution_count": 104,
   "metadata": {},
   "outputs": [
    {
     "name": "stdout",
     "output_type": "stream",
     "text": [
      "5\n",
      "3 2 3 2 2\n",
      "1\n",
      "2\n",
      "3\n",
      "4\n",
      "3\n"
     ]
    }
   ],
   "source": [
    "n = int(input())\n",
    "li = list(map(int, input().split()))\n",
    "\n",
    "stack = []\n",
    "cur = 0\n",
    "for v in li:\n",
    "    if stack and stack[-1][0] == v:\n",
    "        stack[-1][1] += 1\n",
    "        cur += 1\n",
    "        \n",
    "        if stack[-1][0] == stack[-1][1]:\n",
    "            cur -= stack.pop()[1]\n",
    "    else:\n",
    "        stack.append([v, 1])\n",
    "        cur += 1\n",
    "        \n",
    "    print(cur)"
   ]
  },
  {
   "cell_type": "markdown",
   "metadata": {},
   "source": [
    "E"
   ]
  },
  {
   "cell_type": "code",
   "execution_count": 36,
   "metadata": {},
   "outputs": [
    {
     "name": "stdout",
     "output_type": "stream",
     "text": [
      "3\n",
      "2 1\n",
      "3 1\n",
      "1 2\n",
      "1 1\n",
      "2 2\n"
     ]
    }
   ],
   "source": [
    "import sys\n",
    "input = lambda: sys.stdin.readline().rstrip()\n",
    "\n",
    "import os\n",
    "from io import BytesIO, IOBase\n",
    "## PYRIVAL BOOTSTRAP\n",
    "# https://github.com/cheran-senthil/PyRival/blob/master/pyrival/misc/bootstrap.py\n",
    "# This decorator allows for recursion without actually doing recursion\n",
    "from types import GeneratorType\n",
    "\n",
    "def bootstrap(f, stack=[]):\n",
    "    def wrappedfunc(*args, **kwargs):\n",
    "        if stack:\n",
    "            return f(*args, **kwargs)\n",
    "        else:\n",
    "            to = f(*args, **kwargs)\n",
    "            while True:\n",
    "                if type(to) is GeneratorType:\n",
    "                    stack.append(to)\n",
    "                    to = next(to)\n",
    "                else:\n",
    "                    stack.pop()\n",
    "                    if not stack:\n",
    "                        break\n",
    "                    to = stack[-1].send(to)\n",
    "            return to\n",
    "    return wrappedfunc\n",
    "\n",
    "n = int(input())\n",
    "li = [[] for _ in range(n + 1)]\n",
    "for _ in range(n - 1):\n",
    "    a, b = map(int, input().split())\n",
    "    li[a].append(b)\n",
    "    li[b].append(a)\n",
    "    \n",
    "curs = [[0] * 2 for _ in range(n + 1)]\n",
    "next_num = 1\n",
    "\n",
    "@bootstrap\n",
    "def dfs(value):\n",
    "    global next_num\n",
    "\n",
    "    if value != 1 and len(li[value]) == 1:\n",
    "        curs[value][0] = next_num\n",
    "        curs[value][1] = next_num\n",
    "        next_num += 1\n",
    "    else:\n",
    "        l, r = float('inf'), -float('inf')\n",
    "        for v in li[value]:\n",
    "            if vt[v]:\n",
    "                continue\n",
    "            vt[v] = True\n",
    "            yield dfs(v)\n",
    "            l = min(curs[v][0], l)\n",
    "            r = max(curs[v][1], r)\n",
    "        curs[value][0] = l\n",
    "        curs[value][1] = r\n",
    "        \n",
    "    yield\n",
    "\n",
    "vt = [False] * (n + 1)\n",
    "vt[1] = True\n",
    "dfs(1)\n",
    "\n",
    "for i in range(1, n + 1):\n",
    "    print(*curs[i])    "
   ]
  },
  {
   "cell_type": "markdown",
   "metadata": {},
   "source": [
    "F"
   ]
  },
  {
   "cell_type": "code",
   "execution_count": null,
   "metadata": {},
   "outputs": [],
   "source": [
    "3 7\n",
    "-1 2\n",
    "2 3\n",
    "-3 2"
   ]
  },
  {
   "cell_type": "code",
   "execution_count": null,
   "metadata": {},
   "outputs": [],
   "source": [
    "import sys\n",
    "# input = lambda: sys.stdin.readline().rstrip()\n",
    "\n",
    "def get_ap_sum(a, d, length):\n",
    "    return (length * (2 * a + (length - 1) * d)) // 2\n",
    "\n",
    "for _ in range(int(input())):\n",
    "    n, m = map(int, input().split())\n",
    "    li = [list(map(int, input().split())) for _ in range(n)]\n",
    "\n",
    "    cur_max = -float('inf')\n",
    "    cur_sum = 0\n",
    "    a = 0\n",
    "    for d, length in li:\n",
    "        cur_sum += get_ap_sum(a, d, length + 1)\n",
    "        cur_max = max(cur_max, cur_sum)\n",
    "        \n",
    "        a += d * length\n",
    "\n",
    "        cur_max = max(cur_max, cur_sum)\n",
    "\n",
    "    print(cur_max)"
   ]
  },
  {
   "cell_type": "code",
   "execution_count": 102,
   "metadata": {},
   "outputs": [
    {
     "name": "stdout",
     "output_type": "stream",
     "text": [
      "4\n"
     ]
    }
   ],
   "source": [
    "def get_ap_sum(a, d, length):\n",
    "    return (length * (2 * a + (length - 1) * d)) // 2\n",
    "\n",
    "cur_max = -float('inf')\n",
    "cur_sum = 0\n",
    "a = 0\n",
    "for d, length in li:\n",
    "    cur_sum += get_ap_sum(a, d, length + 1)\n",
    "    cur_max = max(cur_max, cur_sum)\n",
    "\n",
    "    a += d * length\n",
    "\n",
    "print(cur_max)"
   ]
  },
  {
   "cell_type": "code",
   "execution_count": 97,
   "metadata": {},
   "outputs": [
    {
     "data": {
      "text/plain": [
       "(2, 6)"
      ]
     },
     "execution_count": 97,
     "metadata": {},
     "output_type": "execute_result"
    }
   ],
   "source": [
    "cur_sum, get_ap_sum(-2, 2, 4) - a"
   ]
  },
  {
   "cell_type": "code",
   "execution_count": 92,
   "metadata": {},
   "outputs": [
    {
     "data": {
      "text/plain": [
       "4"
      ]
     },
     "execution_count": 92,
     "metadata": {},
     "output_type": "execute_result"
    }
   ],
   "source": [
    "get_ap_sum(-2, 2, 4)"
   ]
  },
  {
   "cell_type": "code",
   "execution_count": 87,
   "metadata": {},
   "outputs": [
    {
     "data": {
      "text/plain": [
       "[-4,\n",
       " -8,\n",
       " -12,\n",
       " -16,\n",
       " -20,\n",
       " -24,\n",
       " -28,\n",
       " -32,\n",
       " -36,\n",
       " -40,\n",
       " -44,\n",
       " -48,\n",
       " -47,\n",
       " -46,\n",
       " -45,\n",
       " -44,\n",
       " -43,\n",
       " -42,\n",
       " -41,\n",
       " -40,\n",
       " -39,\n",
       " -38,\n",
       " -37,\n",
       " -36,\n",
       " -35,\n",
       " -34,\n",
       " -33,\n",
       " -32,\n",
       " -31,\n",
       " -30,\n",
       " -29,\n",
       " -28,\n",
       " -27,\n",
       " -26,\n",
       " -25,\n",
       " -24,\n",
       " -23,\n",
       " -22,\n",
       " -21,\n",
       " -20,\n",
       " -19,\n",
       " -17,\n",
       " -15,\n",
       " -13,\n",
       " -11,\n",
       " -9,\n",
       " -7,\n",
       " -5,\n",
       " -3,\n",
       " -1]"
      ]
     },
     "execution_count": 87,
     "metadata": {},
     "output_type": "execute_result"
    }
   ],
   "source": [
    "c = []\n",
    "for d, length in li:\n",
    "    c.extend([d] * length)\n",
    "    \n",
    "b = []\n",
    "cumul = 0\n",
    "for i in range(len(c)):\n",
    "    cumul += c[i]\n",
    "    b.append(cumul)\n",
    "    \n",
    "aa = []\n",
    "cumul = 0\n",
    "for i in range(len(b)):\n",
    "    cumul += b[i]\n",
    "    aa.append(cumul)\n",
    "    \n",
    "b[:50]"
   ]
  },
  {
   "cell_type": "code",
   "execution_count": null,
   "metadata": {},
   "outputs": [],
   "source": [
    "10 472\n",
    "\n",
    "-4 12\n",
    "1 29\n",
    "2 77\n",
    "-1 86\n",
    "0 51\n",
    "3 81\n",
    "3 17\n",
    "-2 31\n",
    "-4 65\n",
    "4 23"
   ]
  },
  {
   "cell_type": "code",
   "execution_count": 75,
   "metadata": {},
   "outputs": [
    {
     "data": {
      "text/plain": [
       "-312"
      ]
     },
     "execution_count": 75,
     "metadata": {},
     "output_type": "execute_result"
    }
   ],
   "source": []
  },
  {
   "cell_type": "code",
   "execution_count": null,
   "metadata": {},
   "outputs": [],
   "source": [
    "b = []\n",
    "cumul = 0\n",
    "for i in range(len(c)):\n",
    "    "
   ]
  },
  {
   "cell_type": "code",
   "execution_count": null,
   "metadata": {},
   "outputs": [],
   "source": [
    "10 472\n",
    "-4 12\n",
    "1 29\n",
    "2 77\n",
    "-1 86\n",
    "0 51\n",
    "3 81\n",
    "3 17\n",
    "-2 31\n",
    "-4 65\n",
    "4 23"
   ]
  },
  {
   "cell_type": "code",
   "execution_count": null,
   "metadata": {},
   "outputs": [],
   "source": []
  },
  {
   "cell_type": "code",
   "execution_count": 52,
   "metadata": {},
   "outputs": [
    {
     "data": {
      "text/plain": [
       "4"
      ]
     },
     "execution_count": 52,
     "metadata": {},
     "output_type": "execute_result"
    }
   ],
   "source": [
    "-2 + 0 + 2 + 4"
   ]
  },
  {
   "cell_type": "code",
   "execution_count": 37,
   "metadata": {},
   "outputs": [],
   "source": [
    "def get_ap_sum(a, d, n):\n",
    "    return n * (2 * a + (n - 1) * d) // 2\n",
    "\n"
   ]
  },
  {
   "cell_type": "code",
   "execution_count": 38,
   "metadata": {},
   "outputs": [
    {
     "data": {
      "text/plain": [
       "22"
      ]
     },
     "execution_count": 38,
     "metadata": {},
     "output_type": "execute_result"
    }
   ],
   "source": [
    "get_ap_sum(1, 3, 4)"
   ]
  },
  {
   "cell_type": "code",
   "execution_count": null,
   "metadata": {},
   "outputs": [],
   "source": [
    "1 4 7 10\n",
    "\n",
    "a d n\n",
    "1 3 4"
   ]
  },
  {
   "cell_type": "code",
   "execution_count": 39,
   "metadata": {},
   "outputs": [
    {
     "data": {
      "text/plain": [
       "22"
      ]
     },
     "execution_count": 39,
     "metadata": {},
     "output_type": "execute_result"
    }
   ],
   "source": [
    "1 + 4 + 7 + 10"
   ]
  },
  {
   "cell_type": "code",
   "execution_count": null,
   "metadata": {},
   "outputs": [],
   "source": []
  },
  {
   "cell_type": "code",
   "execution_count": null,
   "metadata": {},
   "outputs": [],
   "source": []
  },
  {
   "cell_type": "code",
   "execution_count": null,
   "metadata": {},
   "outputs": [],
   "source": []
  },
  {
   "cell_type": "code",
   "execution_count": null,
   "metadata": {},
   "outputs": [],
   "source": []
  },
  {
   "cell_type": "code",
   "execution_count": null,
   "metadata": {},
   "outputs": [],
   "source": [
    "## PYRIVAL BOOTSTRAP\n",
    "# https://github.com/cheran-senthil/PyRival/blob/master/pyrival/misc/bootstrap.py\n",
    "# This decorator allows for recursion without actually doing recursion\n",
    "## @bootstrap, yield when getting and returning value in recursive functions, end of functions\n",
    "from types import GeneratorType\n",
    "\n",
    "def bootstrap(f, stack=[]):\n",
    "    def wrappedfunc(*args, **kwargs):\n",
    "        if stack:\n",
    "            return f(*args, **kwargs)\n",
    "        else:\n",
    "            to = f(*args, **kwargs)\n",
    "            while True:\n",
    "                if type(to) is GeneratorType:\n",
    "                    stack.append(to)\n",
    "                    to = next(to)\n",
    "                else:\n",
    "                    stack.pop()\n",
    "                    if not stack:\n",
    "                        break\n",
    "                    to = stack[-1].send(to)\n",
    "            return to\n",
    "    return wrappedfunc"
   ]
  }
 ],
 "metadata": {
  "kernelspec": {
   "display_name": "Python 3",
   "language": "python",
   "name": "python3"
  },
  "language_info": {
   "codemirror_mode": {
    "name": "ipython",
    "version": 3
   },
   "file_extension": ".py",
   "mimetype": "text/x-python",
   "name": "python",
   "nbconvert_exporter": "python",
   "pygments_lexer": "ipython3",
   "version": "3.7.4"
  }
 },
 "nbformat": 4,
 "nbformat_minor": 4
}
