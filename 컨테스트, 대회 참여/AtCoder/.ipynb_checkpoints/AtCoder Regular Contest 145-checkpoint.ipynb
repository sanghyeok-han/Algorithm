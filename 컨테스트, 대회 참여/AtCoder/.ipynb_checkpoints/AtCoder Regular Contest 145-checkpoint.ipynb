{
 "cells": [
  {
   "cell_type": "markdown",
   "metadata": {},
   "source": [
    "A"
   ]
  },
  {
   "cell_type": "code",
   "execution_count": 85,
   "metadata": {},
   "outputs": [
    {
     "name": "stdout",
     "output_type": "stream",
     "text": [
      "6\n",
      "ABAABA\n",
      "Yes\n",
      "['A', 'B', 'A', 'A', 'B', 'A']\n"
     ]
    }
   ],
   "source": [
    "def solve():\n",
    "    n = int(input())\n",
    "    li = list(input())\n",
    "\n",
    "    if len(set(li)) == 1:\n",
    "        return True\n",
    "    elif n == 2:\n",
    "        return False\n",
    "    elif n % 2 == 1:\n",
    "        if li[0] == 'B' or li[-1] == 'A':\n",
    "            return True\n",
    "        else:\n",
    "            return False\n",
    "    else:\n",
    "        ip = True\n",
    "        for i in range(n // 2):\n",
    "            if li[i] != li[n - 1 - i]:\n",
    "                ip = False\n",
    "                break\n",
    "\n",
    "        if ip:\n",
    "            return True\n",
    "        else:\n",
    "            for i in range(n // 2):\n",
    "                if li[i] != li[n - 1 - i]:\n",
    "                    if li[n - 1 - i] == 'A':\n",
    "                        li[i] = 'A'\n",
    "                        li[i + 1] = 'B'\n",
    "                    else:\n",
    "                        return False\n",
    "                    \n",
    "            ip = True\n",
    "            for i in range(n // 2):\n",
    "                if li[i] != li[n - 1 - i]:\n",
    "                    ip = False\n",
    "                    break\n",
    "\n",
    "            if ip:\n",
    "                return True\n",
    "            else:\n",
    "                return False\n",
    "                \n",
    "solve()"
   ]
  },
  {
   "cell_type": "markdown",
   "metadata": {},
   "source": [
    "B"
   ]
  },
  {
   "cell_type": "code",
   "execution_count": 72,
   "metadata": {},
   "outputs": [
    {
     "name": "stdout",
     "output_type": "stream",
     "text": [
      "20 9 3\n",
      "1 False\n",
      "2 False\n",
      "3 False\n",
      "4 False\n",
      "5 False\n",
      "6 False\n",
      "7 False\n",
      "8 False\n",
      "9 True\n",
      "10 True\n",
      "11 True\n",
      "12 False\n",
      "13 False\n",
      "14 False\n",
      "15 False\n",
      "16 False\n",
      "17 False\n",
      "18 True\n",
      "19 True\n",
      "20 True\n"
     ]
    }
   ],
   "source": [
    "def recur(n, turn):\n",
    "    cri = turns[turn]\n",
    "    \n",
    "    if n < cri:\n",
    "        return False\n",
    "    can_win = False\n",
    "    for num in range(cri, n + 1, cri):\n",
    "        if not recur(n - num, turn ^ 1):\n",
    "            can_win = True\n",
    "\n",
    "    return can_win\n",
    "    \n",
    "n, a, b = map(int, input().split())\n",
    "    \n",
    "turns = [a, b]\n",
    "\n",
    "for i in range(1, n + 1):\n",
    "    print(i, recur(i, 0))"
   ]
  },
  {
   "cell_type": "code",
   "execution_count": null,
   "metadata": {},
   "outputs": [],
   "source": [
    "20 9 3    8F 3T 6F 3T 6F\n",
    "20 7 3    6F 3T 4F 3T 4F\n",
    "20 2 1    1F 1T 1F 1T 1F\n",
    "\n",
    "20 3 9    2F 무한T\n",
    "20 4 4    3F 무한T"
   ]
  },
  {
   "cell_type": "code",
   "execution_count": null,
   "metadata": {},
   "outputs": [],
   "source": [
    "a  + b  a + b"
   ]
  },
  {
   "cell_type": "code",
   "execution_count": 77,
   "metadata": {},
   "outputs": [
    {
     "name": "stdout",
     "output_type": "stream",
     "text": [
      "27182818284 59045 23356\n",
      "10752495144\n"
     ]
    }
   ],
   "source": [
    "n, a, b = map(int, input().split())\n",
    "\n",
    "if a <= b:\n",
    "    init_f = min(n, a - 1)\n",
    "    n -= init_f\n",
    "    \n",
    "    print(n)\n",
    "else:\n",
    "    init_f = min(n, a - 1)\n",
    "    n -= init_f\n",
    "    \n",
    "    result = 0\n",
    "    \n",
    "    temp = n // a\n",
    "    n %= a\n",
    "    result += temp * b\n",
    "\n",
    "    if n >= b:\n",
    "        result += b\n",
    "    else:\n",
    "        result += n\n",
    "        \n",
    "    print(result)"
   ]
  },
  {
   "cell_type": "markdown",
   "metadata": {},
   "source": [
    "C"
   ]
  },
  {
   "cell_type": "code",
   "execution_count": 88,
   "metadata": {},
   "outputs": [
    {
     "name": "stdout",
     "output_type": "stream",
     "text": [
      "2\n",
      "15\n"
     ]
    }
   ],
   "source": [
    "mod = 998244353\n",
    "\n",
    "n = int(input())\n",
    "\n",
    "li = list(range(1, n * 2 + 1))\n",
    "\n",
    "result = 1\n",
    "while li:\n",
    "    result += li.pop() * li.pop()\n",
    "    result %= mod\n",
    "    \n",
    "print(result)"
   ]
  },
  {
   "cell_type": "code",
   "execution_count": 108,
   "metadata": {},
   "outputs": [
    {
     "name": "stdout",
     "output_type": "stream",
     "text": [
      "(1, 2, 3, 4)\n",
      "(1, 2, 4, 3)\n",
      "(1, 3, 2, 4)\n",
      "(1, 3, 4, 2)\n",
      "(1, 4, 2, 3)\n",
      "(1, 4, 3, 2)\n",
      "(2, 1, 3, 4)\n",
      "(2, 1, 4, 3)\n",
      "(2, 3, 1, 4)\n",
      "(2, 3, 4, 1)\n",
      "(2, 4, 1, 3)\n",
      "(2, 4, 3, 1)\n",
      "(3, 1, 2, 4)\n",
      "(3, 1, 4, 2)\n",
      "(3, 2, 1, 4)\n",
      "(3, 2, 4, 1)\n",
      "(3, 4, 1, 2)\n",
      "(3, 4, 2, 1)\n",
      "(4, 1, 2, 3)\n",
      "(4, 1, 3, 2)\n",
      "(4, 2, 1, 3)\n",
      "(4, 2, 3, 1)\n",
      "(4, 3, 1, 2)\n",
      "(4, 3, 2, 1)\n"
     ]
    }
   ],
   "source": [
    "from itertools import permutations as perm\n",
    "\n",
    "cases = perm(range(1, 5))\n",
    "\n",
    "for case in cases:\n",
    "    print(case)"
   ]
  },
  {
   "cell_type": "code",
   "execution_count": 97,
   "metadata": {},
   "outputs": [
    {
     "name": "stdout",
     "output_type": "stream",
     "text": [
      "10\n"
     ]
    }
   ],
   "source": [
    "def nCr(n, r):\n",
    "    if n - r < r:\n",
    "        r = n - r\n",
    "        \n",
    "    num = 1\n",
    "    for i in range(n, n - r, -1):\n",
    "        num *= i\n",
    "    \n",
    "    denom = 1\n",
    "    for i in range(2, r + 1):\n",
    "        denom *= i\n",
    "        \n",
    "    return num // denom\n",
    "\n",
    "print(nCr(5, 2))"
   ]
  },
  {
   "cell_type": "code",
   "execution_count": 111,
   "metadata": {},
   "outputs": [
    {
     "name": "stdout",
     "output_type": "stream",
     "text": [
      "10\n"
     ]
    }
   ],
   "source": [
    "print(nCr(5, 2))"
   ]
  },
  {
   "cell_type": "code",
   "execution_count": null,
   "metadata": {},
   "outputs": [],
   "source": []
  },
  {
   "cell_type": "code",
   "execution_count": 113,
   "metadata": {},
   "outputs": [
    {
     "data": {
      "text/plain": [
       "12"
      ]
     },
     "execution_count": 113,
     "metadata": {},
     "output_type": "execute_result"
    }
   ],
   "source": [
    "nCr(2 * 2, 2) * 2"
   ]
  },
  {
   "cell_type": "code",
   "execution_count": null,
   "metadata": {},
   "outputs": [],
   "source": [
    "6 + 6 + 4"
   ]
  },
  {
   "cell_type": "code",
   "execution_count": null,
   "metadata": {},
   "outputs": [],
   "source": [
    "a1 b1 a2 b2\n",
    "\n",
    "a1 a2 b1 b2\n",
    "\n",
    "a2 a1 b1 b2\n",
    "\n",
    "a1 a2 b2 b1\n",
    "    \n",
    "a2 a1 b2 b1\n",
    "\n",
    "a2 b2 a1 b1\n",
    "\n",
    "\n",
    "b1 a1 b2 a2\n",
    "\n",
    "b1 b2 a1 a2\n",
    "\n",
    "b2 b1 a1 a2\n",
    "\n",
    "b1 b2 a2 a1\n",
    "\n",
    "b2 b1 a2 a1\n",
    "\n",
    "b2 a2 b1 a1\n",
    "\n",
    "\n",
    "a1 b1 b2 a2"
   ]
  },
  {
   "cell_type": "code",
   "execution_count": null,
   "metadata": {},
   "outputs": [],
   "source": [
    "a a b b 4\n",
    "a b a b 4\n",
    "\n",
    "b b a a\n",
    "b a b a\n",
    "\n",
    "a b b a"
   ]
  },
  {
   "cell_type": "code",
   "execution_count": null,
   "metadata": {},
   "outputs": [],
   "source": [
    "(1, 2, 3, 4) o\n",
    "(1, 2, 4, 3) o\n",
    "(1, 3, 2, 4) o\n",
    "(1, 3, 4, 2) x\n",
    "(1, 4, 2, 3) o\n",
    "(1, 4, 3, 2) x\n",
    "(2, 1, 3, 4) o\n",
    "(2, 1, 4, 3) o\n",
    "(2, 3, 1, 4) o\n",
    "(2, 3, 4, 1) x\n",
    "(2, 4, 1, 3) o\n",
    "(2, 4, 3, 1) x\n",
    "(3, 1, 2, 4) x\n",
    "(3, 1, 4, 2) o\n",
    "(3, 2, 1, 4) x\n",
    "(3, 2, 4, 1) o\n",
    "(3, 4, 1, 2) o\n",
    "(3, 4, 2, 1) o\n",
    "(4, 1, 2, 3) x\n",
    "(4, 1, 3, 2) o\n",
    "(4, 2, 1, 3) x\n",
    "(4, 2, 3, 1) o\n",
    "(4, 3, 1, 2) o\n",
    "(4, 3, 2, 1) o"
   ]
  },
  {
   "cell_type": "code",
   "execution_count": 109,
   "metadata": {},
   "outputs": [
    {
     "data": {
      "text/plain": [
       "16"
      ]
     },
     "execution_count": 109,
     "metadata": {},
     "output_type": "execute_result"
    }
   ],
   "source": [
    "(1, 2, 3, 4) o\n",
    "(1, 2, 4, 3) o\n",
    "(1, 3, 2, 4) o\n",
    "(1, 4, 2, 3) o\n",
    "(2, 1, 3, 4) o\n",
    "(2, 1, 4, 3) o\n",
    "(2, 3, 1, 4) o\n",
    "(2, 4, 1, 3) o\n",
    "(3, 1, 4, 2) o\n",
    "(3, 2, 4, 1) o\n",
    "(3, 4, 1, 2) o\n",
    "(3, 4, 2, 1) o\n",
    "(4, 1, 3, 2) o\n",
    "(4, 2, 3, 1) o\n",
    "(4, 3, 1, 2) o\n",
    "(4, 3, 2, 1) o"
   ]
  }
 ],
 "metadata": {
  "kernelspec": {
   "display_name": "Python 3",
   "language": "python",
   "name": "python3"
  },
  "language_info": {
   "codemirror_mode": {
    "name": "ipython",
    "version": 3
   },
   "file_extension": ".py",
   "mimetype": "text/x-python",
   "name": "python",
   "nbconvert_exporter": "python",
   "pygments_lexer": "ipython3",
   "version": "3.7.4"
  }
 },
 "nbformat": 4,
 "nbformat_minor": 2
}
