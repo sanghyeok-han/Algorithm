{
 "cells": [
  {
   "cell_type": "markdown",
   "metadata": {},
   "source": [
    "A"
   ]
  },
  {
   "cell_type": "code",
   "execution_count": 4,
   "metadata": {},
   "outputs": [
    {
     "name": "stdout",
     "output_type": "stream",
     "text": [
      "1\n",
      "0001\n"
     ]
    }
   ],
   "source": [
    "n = int(input())\n",
    "n = str(n)\n",
    "print(n.rjust(4, '0'))"
   ]
  },
  {
   "cell_type": "markdown",
   "metadata": {},
   "source": [
    "B"
   ]
  },
  {
   "cell_type": "code",
   "execution_count": 5,
   "metadata": {},
   "outputs": [
    {
     "name": "stdout",
     "output_type": "stream",
     "text": [
      "4 50\n",
      "80 60 40 0\n",
      "2\n"
     ]
    }
   ],
   "source": [
    "n, p = map(int, input().split())\n",
    "li = list(map(int, input().split()))\n",
    "li = [v for v in li if v < p]\n",
    "print(len(li))"
   ]
  },
  {
   "cell_type": "markdown",
   "metadata": {},
   "source": [
    "C"
   ]
  },
  {
   "cell_type": "code",
   "execution_count": 23,
   "metadata": {},
   "outputs": [
    {
     "name": "stdout",
     "output_type": "stream",
     "text": [
      "2 2\n",
      "GC\n",
      "PG\n",
      "CG\n",
      "PP\n",
      "1\n",
      "2\n",
      "3\n",
      "4\n"
     ]
    }
   ],
   "source": [
    "n, m = map(int, input().split())\n",
    "li = [list(input()) for _ in range(n * 2)]\n",
    "\n",
    "ranks = [[0, i] for i in range(1, n * 2 + 1)]\n",
    "for round_num in range(m):\n",
    "    for i in range(0, 2 * n, 2):\n",
    "        p1_stat, p1_id = ranks[i]\n",
    "        p2_stat, p2_id = ranks[i + 1]\n",
    "\n",
    "        p1_cur = li[p1_id - 1][round_num]\n",
    "        p2_cur = li[p2_id - 1][round_num]\n",
    "        \n",
    "        # 0: 승리, 1: 패배\n",
    "        if p1_cur == p2_cur:\n",
    "            p1_stat += 1\n",
    "            p2_stat += 1\n",
    "        else:\n",
    "            if p1_cur == 'G' and p2_cur == 'C' or p1_cur == 'C' and p2_cur == 'P' or p1_cur == 'P' and p2_cur == 'G':\n",
    "                p1_stat += 0\n",
    "                p2_stat += 1\n",
    "            else:\n",
    "                p1_stat += 1\n",
    "                p2_stat += 0\n",
    "                \n",
    "        ranks[i][0] = p1_stat\n",
    "        ranks[i + 1][0] = p2_stat\n",
    "        \n",
    "    ranks.sort()\n",
    "    \n",
    "for i in range(2 * n):\n",
    "    print(ranks[i][1])"
   ]
  },
  {
   "cell_type": "markdown",
   "metadata": {},
   "source": [
    "D"
   ]
  },
  {
   "cell_type": "code",
   "execution_count": 33,
   "metadata": {},
   "outputs": [
    {
     "name": "stdout",
     "output_type": "stream",
     "text": [
      "10\n",
      "1 2 3 4 5 6 7 8 9 10\n",
      "1 4 9 16 25 36 49 64 81 100\n",
      "108593811\n"
     ]
    }
   ],
   "source": [
    "# 조합론 시도\n",
    "n = int(input())\n",
    "a = list(map(int, input().split()))\n",
    "b = list(map(int, input().split()))\n",
    "\n",
    "mod = 998244353\n",
    "\n",
    "cur_s, cur_e = a[n - 1], b[n - 1]\n",
    "cur_count = 1\n",
    "for i in range(n - 2, -1, -1):\n",
    "    s, e = a[i], b[i]\n",
    "    \n",
    "    if e <= cur_s:\n",
    "        cur_count *= e - s + 1\n",
    "    else:\n",
    "        temp = 0\n",
    "        for j in range(cur_s, cur_e + 1):\n",
    "            temp += min(j, e) - s + 1\n",
    "            \n",
    "        cur_count *= temp\n",
    "    cur_count %= mod\n",
    "    \n",
    "print(cur_count)"
   ]
  },
  {
   "cell_type": "code",
   "execution_count": 54,
   "metadata": {},
   "outputs": [
    {
     "name": "stdout",
     "output_type": "stream",
     "text": [
      "2\n",
      "1 1\n",
      "2 3\n",
      "5\n"
     ]
    }
   ],
   "source": [
    "# 맞았음, 조합론 -> dp, 누적합\n",
    "n = int(input())\n",
    "a = list(map(int, input().split()))\n",
    "b = list(map(int, input().split()))\n",
    "\n",
    "mod = 998244353\n",
    "\n",
    "dp = [[0] * 3001 for _ in range(n)]\n",
    "\n",
    "cur_s, cur_e = a[0], b[0]\n",
    "for i in range(cur_s, cur_e + 1):\n",
    "    dp[0][i] = 1\n",
    "\n",
    "for i in range(1, n):\n",
    "    s, e = a[i], b[i]\n",
    "    cumul = 0\n",
    "    for j in range(s, e + 1):\n",
    "        while cur_s <= cur_e and cur_s <= j:\n",
    "            cumul += dp[i - 1][cur_s]\n",
    "            cur_s += 1\n",
    "        dp[i][j] = cumul % mod\n",
    "        \n",
    "    cur_s, cur_e = s, e\n",
    "\n",
    "print(sum(dp[-1]) % mod)"
   ]
  },
  {
   "cell_type": "markdown",
   "metadata": {},
   "source": [
    "### 제출용 파트"
   ]
  },
  {
   "cell_type": "code",
   "execution_count": null,
   "metadata": {},
   "outputs": [],
   "source": [
    "import os\n",
    "import sys\n",
    "from io import BytesIO, IOBase\n",
    " \n",
    "\n",
    "def main():\n",
    "    n = int(input())\n",
    "    a = list(map(int, input().split()))\n",
    "    b = list(map(int, input().split()))\n",
    "\n",
    "    mod = 998244353\n",
    "\n",
    "    dp = [[0] * 3001 for _ in range(n)]\n",
    "\n",
    "    cur_s, cur_e = a[0], b[0]\n",
    "    for i in range(cur_s, cur_e + 1):\n",
    "        dp[0][i] = 1\n",
    "\n",
    "    for i in range(1, n):\n",
    "        s, e = a[i], b[i]\n",
    "        cumul = 0\n",
    "        for j in range(s, e + 1):\n",
    "            while cur_s <= cur_e and cur_s <= j:\n",
    "                cumul += dp[i - 1][cur_s]\n",
    "                cur_s += 1\n",
    "            dp[i][j] = cumul % mod\n",
    "\n",
    "        cur_s, cur_e = s, e\n",
    "\n",
    "    print(sum(dp[-1]) % mod)\n",
    "\n",
    "    \n",
    "    \n",
    "    \n",
    "    \n",
    "    \n",
    "    \n",
    "    \n",
    "    \n",
    "    \n",
    "# region fastio\n",
    " \n",
    "BUFSIZE = 8192\n",
    " \n",
    "\n",
    "class FastIO(IOBase):\n",
    "    newlines = 0\n",
    " \n",
    "    def __init__(self, file):\n",
    "        self._fd = file.fileno()\n",
    "        self.buffer = BytesIO()\n",
    "        self.writable = \"x\" in file.mode or \"r\" not in file.mode\n",
    "        self.write = self.buffer.write if self.writable else None\n",
    " \n",
    "    def read(self):\n",
    "        while True:\n",
    "            b = os.read(self._fd, max(os.fstat(self._fd).st_size, BUFSIZE))\n",
    "            if not b:\n",
    "                break\n",
    "            ptr = self.buffer.tell()\n",
    "            self.buffer.seek(0, 2), self.buffer.write(b), self.buffer.seek(ptr)\n",
    "        self.newlines = 0\n",
    "        return self.buffer.read()\n",
    " \n",
    "    def readline(self):\n",
    "        while self.newlines == 0:\n",
    "            b = os.read(self._fd, max(os.fstat(self._fd).st_size, BUFSIZE))\n",
    "            self.newlines = b.count(b\"\\n\") + (not b)\n",
    "            ptr = self.buffer.tell()\n",
    "            self.buffer.seek(0, 2), self.buffer.write(b), self.buffer.seek(ptr)\n",
    "        self.newlines -= 1\n",
    "        return self.buffer.readline()\n",
    " \n",
    "    def flush(self):\n",
    "        if self.writable:\n",
    "            os.write(self._fd, self.buffer.getvalue())\n",
    "            self.buffer.truncate(0), self.buffer.seek(0)\n",
    " \n",
    " \n",
    "class IOWrapper(IOBase):\n",
    "    def __init__(self, file):\n",
    "        self.buffer = FastIO(file)\n",
    "        self.flush = self.buffer.flush\n",
    "        self.writable = self.buffer.writable\n",
    "        self.write = lambda s: self.buffer.write(s.encode(\"ascii\"))\n",
    "        self.read = lambda: self.buffer.read().decode(\"ascii\")\n",
    "        self.readline = lambda: self.buffer.readline().decode(\"ascii\")\n",
    " \n",
    " \n",
    "sys.stdin, sys.stdout = IOWrapper(sys.stdin), IOWrapper(sys.stdout)\n",
    "input = lambda: sys.stdin.readline().rstrip(\"\\r\\n\")\n",
    " \n",
    "# endregion\n",
    " \n",
    "if __name__ == \"__main__\":\n",
    "    main()"
   ]
  }
 ],
 "metadata": {
  "kernelspec": {
   "display_name": "Python 3",
   "language": "python",
   "name": "python3"
  },
  "language_info": {
   "codemirror_mode": {
    "name": "ipython",
    "version": 3
   },
   "file_extension": ".py",
   "mimetype": "text/x-python",
   "name": "python",
   "nbconvert_exporter": "python",
   "pygments_lexer": "ipython3",
   "version": "3.7.3"
  }
 },
 "nbformat": 4,
 "nbformat_minor": 4
}
