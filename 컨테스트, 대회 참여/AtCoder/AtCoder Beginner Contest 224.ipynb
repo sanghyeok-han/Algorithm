{
 "cells": [
  {
   "cell_type": "markdown",
   "metadata": {},
   "source": [
    "A"
   ]
  },
  {
   "cell_type": "code",
   "execution_count": 3,
   "metadata": {},
   "outputs": [
    {
     "name": "stdout",
     "output_type": "stream",
     "text": [
      "tourist\n",
      "ist\n"
     ]
    }
   ],
   "source": [
    "s = input()\n",
    "if s[-2:] == 'er':\n",
    "    print('er')\n",
    "else:\n",
    "    print('ist')"
   ]
  },
  {
   "cell_type": "markdown",
   "metadata": {},
   "source": [
    "B"
   ]
  },
  {
   "cell_type": "code",
   "execution_count": 4,
   "metadata": {},
   "outputs": [
    {
     "name": "stdout",
     "output_type": "stream",
     "text": [
      "3 3\n",
      "2 1 4\n",
      "3 1 3\n",
      "6 4 1\n"
     ]
    }
   ],
   "source": [
    "h, w = map(int, input().split())\n",
    "li = [list(map(int, input().split())) for _ in range(h)]\n",
    "\n",
    "def check():\n",
    "    for i1 in range(h):\n",
    "        for i2 in range(i1 + 1, h):\n",
    "            for j1 in range(w):\n",
    "                for j2 in range(j1 + 1, w):\n",
    "                    if li[i1][j1] + li[i2][j2] > li[i2][j1] + li[i1][j2]:\n",
    "                        return False\n",
    "    return True\n",
    "\n",
    "if check():\n",
    "    print('Yes')\n",
    "else:\n",
    "    print('No')"
   ]
  },
  {
   "cell_type": "markdown",
   "metadata": {},
   "source": [
    "C"
   ]
  },
  {
   "cell_type": "code",
   "execution_count": 19,
   "metadata": {},
   "outputs": [
    {
     "name": "stdout",
     "output_type": "stream",
     "text": [
      "1124\n"
     ]
    }
   ],
   "source": [
    "n = int(input())\n",
    "li = [list(map(int, input().split())) for _ in range(n)]\n",
    "\n",
    "def ccw(point1, point2, point3):\n",
    "    answer = 0\n",
    "    y = (point2[0] - point1[0]) * (point3[1] - point1[1])\n",
    "    y3 = (point2[1] - point1[1]) * (point3[0] - point1[0])\n",
    "    \n",
    "    if y > y3:\n",
    "        answer = 1\n",
    "    elif y < y3:\n",
    "        answer = -1\n",
    "        \n",
    "    return answer\n",
    "\n",
    "count = 0\n",
    "for a in range(n):\n",
    "    for b in range(a + 1, n):\n",
    "        for c in range(b + 1, n):\n",
    "            if ccw(li[a], li[b], li[c]):\n",
    "                count += 1\n",
    "                \n",
    "print(count)"
   ]
  },
  {
   "cell_type": "markdown",
   "metadata": {},
   "source": [
    "D"
   ]
  },
  {
   "cell_type": "code",
   "execution_count": 41,
   "metadata": {},
   "outputs": [
    {
     "name": "stdout",
     "output_type": "stream",
     "text": [
      "12\n",
      "8 5\n",
      "9 6\n",
      "4 5\n",
      "4 1\n",
      "2 5\n",
      "8 9\n",
      "2 1\n",
      "3 6\n",
      "8 7\n",
      "6 5\n",
      "7 4\n",
      "2 3\n",
      "1 2 3 4 5 6 8 7\n",
      "-1\n"
     ]
    }
   ],
   "source": [
    "from collections import deque\n",
    "\n",
    "m = int(input())\n",
    "li = [[] for _ in range(9)]\n",
    "\n",
    "get_value = lambda x: int(x) - 1\n",
    "for _ in range(m):\n",
    "    a, b = map(get_value, input().split())\n",
    "\n",
    "    li[a].append(b)\n",
    "    li[b].append(a)\n",
    "    \n",
    "init = list(map(get_value, input().split()))\n",
    "\n",
    "cur = [-1] * 9\n",
    "for i in range(8):\n",
    "    cur[init[i]] = i\n",
    "\n",
    "vt = set()\n",
    "vt.add(tuple(cur))\n",
    "tc = [0, 1, 2, 3, 4, 5, 6, 7, -1]\n",
    "\n",
    "queue = deque()\n",
    "queue.append((cur, cur.index(-1), 0))\n",
    "\n",
    "result = -1\n",
    "while queue:\n",
    "    cur, bl, count = queue.popleft()\n",
    "    \n",
    "    if cur == tc:\n",
    "        result = count\n",
    "        break\n",
    "    \n",
    "    for nbl in li[bl]:\n",
    "        ncur = cur.copy()\n",
    "        ncur[nbl], ncur[bl] = ncur[bl], ncur[nbl]\n",
    "        \n",
    "        ncur_t = tuple(ncur)\n",
    "        if ncur_t not in vt:\n",
    "            vt.add(ncur_t)\n",
    "            queue.append((ncur, nbl, count + 1))\n",
    "\n",
    "print(result)"
   ]
  },
  {
   "cell_type": "markdown",
   "metadata": {},
   "source": [
    "E"
   ]
  },
  {
   "cell_type": "code",
   "execution_count": null,
   "metadata": {},
   "outputs": [],
   "source": [
    "# 시간 초과\n",
    "def dfs(index, i, j):\n",
    "    if vt[index]:\n",
    "        return dists[index]\n",
    "    \n",
    "    vt[index] = True\n",
    "    \n",
    "    max_dist = 0\n",
    "    for nj, nindex in itj[i]:\n",
    "        if values[index] < values[nindex]:   \n",
    "            if vt[nindex]:\n",
    "                dist = dists[nindex] + 1 \n",
    "            else:\n",
    "                dist = dfs(nindex, i, nj) + 1\n",
    "            max_dist = max(max_dist, dist)\n",
    "            \n",
    "    for ni, nindex in jti[j]:\n",
    "        if values[index] < values[nindex]:\n",
    "            if vt[nindex]:\n",
    "                dist = dists[nindex] + 1 \n",
    "            else:\n",
    "                dist = dfs(nindex, ni, j) + 1\n",
    "            max_dist = max(max_dist, dist)  \n",
    "\n",
    "    dists[index] = max_dist\n",
    "    return dists[index]\n",
    "\n",
    "n, m, k = map(int, input().split())\n",
    "\n",
    "itj = [[] for _ in range(n)] # itj[i] = [가능한 j들]\n",
    "jti = [[] for _ in range(m)] # jti[j] = [가능한 i들]\n",
    "coords = []\n",
    "values = [0] * k\n",
    "get_value = lambda x: int(x) - 1\n",
    "for index in range(k):\n",
    "    i, j, num = map(get_value, input().split())\n",
    "    num += 1\n",
    "    \n",
    "    coords.append((i, j))\n",
    "    values[index] = num\n",
    "    itj[i].append((j, index))\n",
    "    jti[j].append((i, index))\n",
    "    \n",
    "vt = [False] * k\n",
    "dists = [0] * k\n",
    "for index, (i, j) in enumerate(coords):\n",
    "    dfs(index, i, j)\n",
    "    \n",
    "print('\\n'.join(map(str, dists)))"
   ]
  },
  {
   "cell_type": "markdown",
   "metadata": {},
   "source": [
    "### 제출용 파트"
   ]
  },
  {
   "cell_type": "code",
   "execution_count": null,
   "metadata": {},
   "outputs": [],
   "source": [
    "import os\n",
    "import sys\n",
    "from io import BytesIO, IOBase\n",
    " \n",
    "\n",
    "def main():\n",
    "    def dfs(index, i, j):\n",
    "        if vt[index]:\n",
    "            return dists[index]\n",
    "\n",
    "        vt[index] = True\n",
    "\n",
    "        max_dist = 0\n",
    "        for nj, nindex in itj[i]:\n",
    "            if values[index] < values[nindex]:   \n",
    "                if vt[nindex]:\n",
    "                    dist = dists[nindex] + 1 \n",
    "                else:\n",
    "                    dist = dfs(nindex, i, nj) + 1\n",
    "                max_dist = max(max_dist, dist)\n",
    "\n",
    "        for ni, nindex in jti[j]:\n",
    "            if values[index] < values[nindex]:\n",
    "                if vt[nindex]:\n",
    "                    dist = dists[nindex] + 1 \n",
    "                else:\n",
    "                    dist = dfs(nindex, ni, j) + 1\n",
    "                max_dist = max(max_dist, dist)  \n",
    "\n",
    "        dists[index] = max_dist\n",
    "        return dists[index]\n",
    "\n",
    "    n, m, k = map(int, input().split())\n",
    "\n",
    "    itj = [[] for _ in range(n)] # itj[i] = [가능한 j들]\n",
    "    jti = [[] for _ in range(m)] # jti[j] = [가능한 i들]\n",
    "    coords = []\n",
    "    values = [0] * k\n",
    "    get_value = lambda x: int(x) - 1\n",
    "    for index in range(k):\n",
    "        i, j, num = map(get_value, input().split())\n",
    "        num += 1\n",
    "\n",
    "        coords.append((i, j))\n",
    "        values[index] = num\n",
    "        itj[i].append((j, index))\n",
    "        jti[j].append((i, index))\n",
    "\n",
    "    vt = [False] * k\n",
    "    dists = [0] * k\n",
    "    for index, (i, j) in enumerate(coords):\n",
    "        dfs(index, i, j)\n",
    "\n",
    "    print('\\n'.join(map(str, dists)))\n",
    "    \n",
    "    \n",
    "    \n",
    "    \n",
    "    \n",
    "    \n",
    "    \n",
    "    \n",
    "    \n",
    "# region fastio\n",
    " \n",
    "BUFSIZE = 8192\n",
    " \n",
    "\n",
    "class FastIO(IOBase):\n",
    "    newlines = 0\n",
    " \n",
    "    def __init__(self, file):\n",
    "        self._fd = file.fileno()\n",
    "        self.buffer = BytesIO()\n",
    "        self.writable = \"x\" in file.mode or \"r\" not in file.mode\n",
    "        self.write = self.buffer.write if self.writable else None\n",
    " \n",
    "    def read(self):\n",
    "        while True:\n",
    "            b = os.read(self._fd, max(os.fstat(self._fd).st_size, BUFSIZE))\n",
    "            if not b:\n",
    "                break\n",
    "            ptr = self.buffer.tell()\n",
    "            self.buffer.seek(0, 2), self.buffer.write(b), self.buffer.seek(ptr)\n",
    "        self.newlines = 0\n",
    "        return self.buffer.read()\n",
    " \n",
    "    def readline(self):\n",
    "        while self.newlines == 0:\n",
    "            b = os.read(self._fd, max(os.fstat(self._fd).st_size, BUFSIZE))\n",
    "            self.newlines = b.count(b\"\\n\") + (not b)\n",
    "            ptr = self.buffer.tell()\n",
    "            self.buffer.seek(0, 2), self.buffer.write(b), self.buffer.seek(ptr)\n",
    "        self.newlines -= 1\n",
    "        return self.buffer.readline()\n",
    " \n",
    "    def flush(self):\n",
    "        if self.writable:\n",
    "            os.write(self._fd, self.buffer.getvalue())\n",
    "            self.buffer.truncate(0), self.buffer.seek(0)\n",
    " \n",
    " \n",
    "class IOWrapper(IOBase):\n",
    "    def __init__(self, file):\n",
    "        self.buffer = FastIO(file)\n",
    "        self.flush = self.buffer.flush\n",
    "        self.writable = self.buffer.writable\n",
    "        self.write = lambda s: self.buffer.write(s.encode(\"ascii\"))\n",
    "        self.read = lambda: self.buffer.read().decode(\"ascii\")\n",
    "        self.readline = lambda: self.buffer.readline().decode(\"ascii\")\n",
    " \n",
    " \n",
    "sys.stdin, sys.stdout = IOWrapper(sys.stdin), IOWrapper(sys.stdout)\n",
    "input = lambda: sys.stdin.readline().rstrip(\"\\r\\n\")\n",
    " \n",
    "# endregion\n",
    " \n",
    "if __name__ == \"__main__\":\n",
    "    main()"
   ]
  }
 ],
 "metadata": {
  "kernelspec": {
   "display_name": "Python 3",
   "language": "python",
   "name": "python3"
  },
  "language_info": {
   "codemirror_mode": {
    "name": "ipython",
    "version": 3
   },
   "file_extension": ".py",
   "mimetype": "text/x-python",
   "name": "python",
   "nbconvert_exporter": "python",
   "pygments_lexer": "ipython3",
   "version": "3.7.3"
  }
 },
 "nbformat": 4,
 "nbformat_minor": 4
}
