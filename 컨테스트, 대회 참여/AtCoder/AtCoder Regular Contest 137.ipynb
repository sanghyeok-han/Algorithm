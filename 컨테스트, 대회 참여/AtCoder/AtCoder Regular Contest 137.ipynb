{
 "cells": [
  {
   "cell_type": "markdown",
   "metadata": {},
   "source": [
    "A"
   ]
  },
  {
   "cell_type": "code",
   "execution_count": 138,
   "metadata": {},
   "outputs": [
    {
     "name": "stdout",
     "output_type": "stream",
     "text": [
      "1 100\n",
      "99\n"
     ]
    }
   ],
   "source": [
    "from math import gcd\n",
    " \n",
    "l, r = map(int, input().split())\n",
    " \n",
    "max_range = 0\n",
    "for x in range(l, min(l + 1000, r)):\n",
    "    for y in range(r, max(r - 1000, l), -1):\n",
    "        if x >= y:\n",
    "            continue\n",
    "        if gcd(x, y) == 1:\n",
    "            max_range = max(max_range, y - x)\n",
    "            \n",
    "print(max_range)"
   ]
  },
  {
   "cell_type": "markdown",
   "metadata": {},
   "source": [
    "B"
   ]
  },
  {
   "cell_type": "code",
   "execution_count": 29,
   "metadata": {},
   "outputs": [
    {
     "name": "stdout",
     "output_type": "stream",
     "text": [
      "1\n",
      "0\n",
      "2\n"
     ]
    }
   ],
   "source": [
    "n = int(input())\n",
    "li = list(map(int, input().split()))\n",
    "for i in range(n):\n",
    "    if li[i] == 0:\n",
    "        li[i] = -1\n",
    "\n",
    "start = 0\n",
    "end = 0\n",
    "cur = li[start]\n",
    "min_p = min(0, cur)\n",
    "while start <= end < n:\n",
    "    if cur > 0:\n",
    "        start = end + 1\n",
    "        end = start\n",
    "        if end >= n:\n",
    "            break\n",
    "        cur = li[start]\n",
    "    else:\n",
    "        end += 1\n",
    "        if end >= n:\n",
    "            break\n",
    "        cur += li[end]\n",
    "        \n",
    "    min_p = min(min_p, cur)\n",
    "    \n",
    "start = 0\n",
    "end = 0\n",
    "cur = li[start]\n",
    "max_p = max(0, cur)\n",
    "while start <= end < n:\n",
    "    if cur < 0:\n",
    "        start = end + 1\n",
    "        end = start\n",
    "        if end >= n:\n",
    "            break\n",
    "        cur = li[start]\n",
    "    else:\n",
    "        end += 1\n",
    "        if end >= n:\n",
    "            break\n",
    "        cur += li[end]\n",
    "        \n",
    "    max_p = max(max_p, cur)\n",
    "    \n",
    "r = max_p - min_p + 1\n",
    "\n",
    "print(r)"
   ]
  },
  {
   "cell_type": "markdown",
   "metadata": {},
   "source": [
    "C"
   ]
  },
  {
   "cell_type": "code",
   "execution_count": 257,
   "metadata": {},
   "outputs": [
    {
     "name": "stdout",
     "output_type": "stream",
     "text": [
      "[0, 1, 2]\n",
      "[0, 3, 4]\n",
      "[0, 5, 6]\n",
      "[0, 7, 8]\n",
      "[1, 3, 4]\n",
      "[1, 5, 6]\n",
      "[1, 7, 8]\n",
      "[2, 3, 4]\n",
      "[2, 5, 6]\n",
      "[2, 7, 8]\n",
      "[3, 5, 6]\n",
      "[3, 7, 8]\n",
      "[4, 5, 6]\n",
      "[4, 7, 8]\n",
      "[5, 7, 8]\n",
      "[6, 7, 8]\n"
     ]
    }
   ],
   "source": [
    "def play():\n",
    "    st = set(li)\n",
    "    max_value = max(li)\n",
    "    target = li.index(max_value)\n",
    "    del li[target]\n",
    "    \n",
    "    is_win = False\n",
    "    for new_num in range(max_value):\n",
    "        if new_num in st:\n",
    "            continue\n",
    "              \n",
    "        li.append(new_num)\n",
    "\n",
    "        if not play():\n",
    "            is_win = True\n",
    "        li.remove(new_num)\n",
    "            \n",
    "    li.append(max_value)\n",
    "    \n",
    "    return is_win  \n",
    "    \n",
    "for i in range(9):\n",
    "    for j in range(i + 1, 9):\n",
    "        for k in range(j + 1, 9):\n",
    "            li = [i, j, k] \n",
    "            if not play():\n",
    "                print(li)"
   ]
  },
  {
   "cell_type": "code",
   "execution_count": 262,
   "metadata": {},
   "outputs": [
    {
     "name": "stdout",
     "output_type": "stream",
     "text": [
      "4\n",
      "0 1 3 4\n",
      "Alice\n"
     ]
    }
   ],
   "source": [
    "n = int(input())\n",
    "li = list(map(int, input().split()))\n",
    "\n",
    "if n % 2 == 0:\n",
    "    if li[-2] + 1 == li[-1] and li[-2] % 2 == 0:\n",
    "        print('Bob')\n",
    "    else:\n",
    "        print('Alice')\n",
    "else:\n",
    "    if li[-2] + 1 == li[-1] and li[-2] % 2 == 1:\n",
    "        print('Bob')\n",
    "    else:\n",
    "        print('Alice')"
   ]
  },
  {
   "cell_type": "code",
   "execution_count": null,
   "metadata": {},
   "outputs": [],
   "source": [
    "3\n",
    "1 2\n",
    "3 4\n",
    "5 6\n",
    "7 8"
   ]
  },
  {
   "cell_type": "code",
   "execution_count": null,
   "metadata": {},
   "outputs": [],
   "source": [
    "4\n",
    "2 3\n",
    "4 5\n",
    "6 7"
   ]
  },
  {
   "cell_type": "code",
   "execution_count": null,
   "metadata": {},
   "outputs": [],
   "source": [
    "5\n",
    "3 4\n",
    "5 6\n",
    "7 8"
   ]
  },
  {
   "cell_type": "code",
   "execution_count": 246,
   "metadata": {},
   "outputs": [
    {
     "data": {
      "text/plain": [
       "0"
      ]
     },
     "execution_count": 246,
     "metadata": {},
     "output_type": "execute_result"
    }
   ],
   "source": [
    "2 % 2"
   ]
  },
  {
   "cell_type": "code",
   "execution_count": null,
   "metadata": {},
   "outputs": [],
   "source": []
  },
  {
   "cell_type": "code",
   "execution_count": null,
   "metadata": {},
   "outputs": [],
   "source": [
    "1, 2끝 올킬\n",
    "3, 4끝 올킬\n",
    "5, 6끝 올킬\n",
    "7, 8끝 올킬"
   ]
  },
  {
   "cell_type": "code",
   "execution_count": null,
   "metadata": {},
   "outputs": [],
   "source": [
    "[0, 1, 2] False\n",
    "[1, 2, 3] True\n",
    "[2, 3, 4] False\n",
    "[3, 4, 5] True\n",
    "[4, 5, 6] False\n",
    "[5, 6, 7] True\n",
    "[6, 7, 8] False"
   ]
  },
  {
   "cell_type": "code",
   "execution_count": 240,
   "metadata": {},
   "outputs": [
    {
     "data": {
      "text/plain": [
       "30"
      ]
     },
     "execution_count": 240,
     "metadata": {},
     "output_type": "execute_result"
    }
   ],
   "source": [
    "7 + 11 +12"
   ]
  },
  {
   "cell_type": "code",
   "execution_count": 238,
   "metadata": {},
   "outputs": [
    {
     "data": {
      "text/plain": [
       "False"
      ]
     },
     "execution_count": 238,
     "metadata": {},
     "output_type": "execute_result"
    }
   ],
   "source": [
    "li = [0, 1, 2]\n",
    "play()"
   ]
  }
 ],
 "metadata": {
  "kernelspec": {
   "display_name": "Python 3",
   "language": "python",
   "name": "python3"
  },
  "language_info": {
   "codemirror_mode": {
    "name": "ipython",
    "version": 3
   },
   "file_extension": ".py",
   "mimetype": "text/x-python",
   "name": "python",
   "nbconvert_exporter": "python",
   "pygments_lexer": "ipython3",
   "version": "3.7.4"
  }
 },
 "nbformat": 4,
 "nbformat_minor": 4
}
