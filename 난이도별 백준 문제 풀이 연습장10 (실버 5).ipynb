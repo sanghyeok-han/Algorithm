{
 "cells": [
  {
   "cell_type": "markdown",
   "metadata": {},
   "source": [
    "### 효빈이의 과외 14680"
   ]
  },
  {
   "cell_type": "code",
   "execution_count": 4,
   "metadata": {},
   "outputs": [
    {
     "name": "stdout",
     "output_type": "stream",
     "text": [
      "2\n",
      "1 2\n",
      "1 2\n",
      "1 4\n",
      "3 2 4 6\n",
      "-1\n"
     ]
    }
   ],
   "source": [
    "import sys\n",
    "input = lambda: sys.stdin.readline().rstrip()\n",
    "\n",
    "mod = 1000000007\n",
    "\n",
    "def check(an, am, bn, bm):\n",
    "    if am != bn:\n",
    "        return False\n",
    "    return True\n",
    "\n",
    "def mul(an, am, bn, bm, a, b):\n",
    "    cn = an\n",
    "    cm = bm\n",
    "    c = [[0] * cm for _ in range(cn)]\n",
    "    \n",
    "    for ci in range(cn):\n",
    "        for cj in range(cm):\n",
    "            sv = 0\n",
    "            for aj in range(am):\n",
    "                sv += a[ci][aj] * b[aj][cj]\n",
    "            \n",
    "            c[ci][cj] = sv % mod\n",
    "    return cn, cm, c\n",
    "\n",
    "n = int(input())\n",
    "x, y = map(int, input().split())\n",
    "mt = [list(map(int, input().split())) for _ in range(x)]\n",
    "\n",
    "ip = True\n",
    "for _ in range(n - 1):\n",
    "    bx, by = map(int, input().split())\n",
    "    bmt = [list(map(int, input().split())) for _ in range(bx)]\n",
    "\n",
    "    if not check(x, y, bx, by):\n",
    "        ip = False\n",
    "        break\n",
    "        \n",
    "    x, y, mt = mul(x, y, bx, by, mt, bmt)\n",
    "    \n",
    "if not ip:\n",
    "    print(-1)\n",
    "else:\n",
    "    r = sum(sum(mt, [])) % mod\n",
    "    \n",
    "    print(r)"
   ]
  },
  {
   "cell_type": "markdown",
   "metadata": {},
   "source": [
    "### Painter 23717"
   ]
  },
  {
   "cell_type": "code",
   "execution_count": 9,
   "metadata": {},
   "outputs": [
    {
     "name": "stdout",
     "output_type": "stream",
     "text": [
      "1\n",
      "5\n",
      "ROAOR\n",
      "Case #1: 3\n"
     ]
    }
   ],
   "source": [
    "import sys\n",
    "input = lambda: sys.stdin.readline().rstrip()\n",
    "\n",
    "needed = {'U': set(), 'R': {'R'}, 'Y': {'Y'}, 'B': {'B'}, 'O': {'R', 'Y'}, 'P': {'R', 'B'}, 'G': {'Y', 'B'}, 'A': {'R', 'Y', 'B'}}\n",
    "\n",
    "for tn in range(int(input())):\n",
    "    n = int(input())\n",
    "    s = input()\n",
    "\n",
    "    c = 0\n",
    "    fv = 'U'\n",
    "    for i in range(n):\n",
    "        if 'R' in needed[s[i]] and 'R' not in needed[fv]:\n",
    "            c += 1\n",
    "        if 'Y' in needed[s[i]] and 'Y' not in needed[fv]:\n",
    "            c += 1\n",
    "        if 'B' in needed[s[i]] and 'B' not in needed[fv]:\n",
    "            c += 1\n",
    "        fv = s[i]\n",
    "\n",
    "    print(f'Case #{tn + 1}: {c}')"
   ]
  },
  {
   "cell_type": "markdown",
   "metadata": {},
   "source": [
    "### Sorting (Large) 12281"
   ]
  },
  {
   "cell_type": "code",
   "execution_count": 17,
   "metadata": {},
   "outputs": [
    {
     "name": "stdout",
     "output_type": "stream",
     "text": [
      "1\n",
      "5\n",
      "5 2 4 3 1\n",
      "Case #1: 1 4 2 3 5\n"
     ]
    }
   ],
   "source": [
    "import sys\n",
    "input = lambda: sys.stdin.readline().rstrip()\n",
    "\n",
    "for tn in range(int(input())):\n",
    "    n = int(input())\n",
    "    li = list(map(int, input().split()))\n",
    "\n",
    "    odds = set()\n",
    "    li_o = []\n",
    "    li_e = []\n",
    "    for i in range(n):\n",
    "        if li[i] % 2 == 1:\n",
    "            odds.add(i)\n",
    "            li_o.append(li[i])\n",
    "        else:\n",
    "            li_e.append(li[i])\n",
    "\n",
    "    li_o.sort(reverse=True)\n",
    "    li_e.sort()\n",
    "\n",
    "    nli = [0] * n\n",
    "    for i in range(n):\n",
    "        if i in odds:\n",
    "            nli[i] = li_o.pop()\n",
    "        else:\n",
    "            nli[i] = li_e.pop()\n",
    "\n",
    "    print(f'Case #{tn + 1}:', *nli)"
   ]
  },
  {
   "cell_type": "markdown",
   "metadata": {},
   "source": [
    "### Go Go Go Special Action Force! 15387"
   ]
  },
  {
   "cell_type": "code",
   "execution_count": null,
   "metadata": {},
   "outputs": [],
   "source": [
    "import sys\n",
    "input = lambda: sys.stdin.readline().rstrip()\n",
    "\n",
    "for _ in range(int(input())):\n",
    "    li = [input().split() for _ in range(9)]\n",
    "\n",
    "    ip = True\n",
    "    for i in range(9):\n",
    "        if len(set(li[i])) != 9:\n",
    "            ip = False\n",
    "            break\n",
    "\n",
    "    for j in range(9):\n",
    "        st = set()\n",
    "        for i in range(9):\n",
    "            st.add(li[i][j])\n",
    "        if len(st) != 9:\n",
    "            ip = False\n",
    "            break\n",
    "\n",
    "    for i in range(0, 9, 3):\n",
    "        for j in range(0, 9, 3):\n",
    "            st = set()\n",
    "            for di in range(3):\n",
    "                for dj in range(3):\n",
    "                    st.add(li[i + di][j + dj])    \n",
    "            if len(st) != 9:\n",
    "                ip = False\n",
    "                break\n",
    "\n",
    "    if not ip:\n",
    "        print('not')\n",
    "    else:\n",
    "        print('all 3')"
   ]
  },
  {
   "cell_type": "markdown",
   "metadata": {},
   "source": [
    "### 해변 14397"
   ]
  },
  {
   "cell_type": "code",
   "execution_count": null,
   "metadata": {},
   "outputs": [],
   "source": [
    "n, m = map(int, input().split())\n",
    "li = [input() for _ in range(n)]\n",
    "\n",
    "to_check = [(lambda x, y: (x, y + 1), lambda x, y: (x + 1, y - 1), lambda x, y: (x + 1, y)), (lambda x, y: (x, y + 1), lambda x, y: (x + 1, y), lambda x, y: (x + 1, y + 1))]\n",
    "\n",
    "c = 0\n",
    "for x in range(n):\n",
    "    for y in range(m):\n",
    "        for i in range(3):\n",
    "            nx, ny = to_check[x % 2][i](x, y)\n",
    "            \n",
    "            if nx < 0 or nx >= n or ny < 0 or ny >= m:\n",
    "                continue\n",
    "            if li[x][y] != li[nx][ny]:\n",
    "                c += 1\n",
    "                \n",
    "print(c)"
   ]
  },
  {
   "cell_type": "markdown",
   "metadata": {},
   "source": [
    "### Up and Down (Small) 12236"
   ]
  },
  {
   "cell_type": "code",
   "execution_count": 26,
   "metadata": {},
   "outputs": [
    {
     "data": {
      "text/plain": [
       "3628800"
      ]
     },
     "execution_count": 26,
     "metadata": {},
     "output_type": "execute_result"
    }
   ],
   "source": [
    "n = int(input())\n",
    "li = list(map(int, input().split()))\n",
    "\n",
    "for _ in range(n):\n",
    "    for i in range(n):\n",
    "        "
   ]
  },
  {
   "cell_type": "code",
   "execution_count": 52,
   "metadata": {},
   "outputs": [
    {
     "name": "stdout",
     "output_type": "stream",
     "text": [
      "2\n",
      "3\n",
      "1 2 3\n",
      "Case #1: 0\n",
      "5\n",
      "1 8 10 3 7\n",
      "Case #2: 1\n"
     ]
    }
   ],
   "source": [
    "from itertools import combinations as comb\n",
    "\n",
    "def merge_sort(li):\n",
    "    global count\n",
    "    \n",
    "    if len(li) == 1:\n",
    "        return li\n",
    "    \n",
    "    left = merge_sort(li[:len(li) // 2])\n",
    "    right = merge_sort(li[len(li) // 2:])\n",
    "    \n",
    "    nl = len(left)\n",
    "    nr = len(right)\n",
    "    \n",
    "    nli = []\n",
    "    l_i = r_i = 0\n",
    "    while True:\n",
    "        if left[l_i] <= right[r_i]:\n",
    "            nli.append(left[l_i])\n",
    "            count += r_i\n",
    "            l_i += 1\n",
    "            \n",
    "            if l_i == nl:\n",
    "                while r_i < nr:\n",
    "                    nli.append(right[r_i])\n",
    "                    r_i += 1\n",
    "                break    \n",
    "        else:\n",
    "            nli.append(right[r_i])\n",
    "            r_i += 1\n",
    "            \n",
    "            if r_i == nr:\n",
    "                while l_i < nl:\n",
    "                    nli.append(left[l_i])\n",
    "                    count += r_i\n",
    "                    l_i += 1\n",
    "                break\n",
    "    return nli \n",
    "\n",
    "for tn in range(int(input())):\n",
    "    n = int(input())\n",
    "    li = list(map(int, input().split()))\n",
    "\n",
    "    total = set(li)\n",
    "    cases = set()\n",
    "    for num in range(1, n + 1):\n",
    "        for left in comb(li, num):\n",
    "            right = total - set(left)\n",
    "\n",
    "            cases.add(tuple(sorted(left) + sorted(right, reverse=True)))\n",
    "\n",
    "    cases.add(tuple(sorted(li, reverse=True)))\n",
    "\n",
    "    min_c = float('inf')\n",
    "    for case in cases:\n",
    "        d = dict()\n",
    "        for i in range(n):\n",
    "            d[case[i]] = i\n",
    "            \n",
    "        nli = [d[v] for v in li]\n",
    "        \n",
    "        count = 0\n",
    "        merge_sort(nli)\n",
    "        \n",
    "        min_c = min(min_c, count)\n",
    "\n",
    "    print(f'Case #{tn + 1}: {min_c}')"
   ]
  }
 ],
 "metadata": {
  "kernelspec": {
   "display_name": "Python 3",
   "language": "python",
   "name": "python3"
  },
  "language_info": {
   "codemirror_mode": {
    "name": "ipython",
    "version": 3
   },
   "file_extension": ".py",
   "mimetype": "text/x-python",
   "name": "python",
   "nbconvert_exporter": "python",
   "pygments_lexer": "ipython3",
   "version": "3.7.4"
  }
 },
 "nbformat": 4,
 "nbformat_minor": 4
}
