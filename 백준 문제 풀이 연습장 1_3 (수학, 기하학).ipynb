{
 "cells": [
  {
   "cell_type": "markdown",
   "metadata": {},
   "source": [
    "### 로마 숫자 2608"
   ]
  },
  {
   "cell_type": "code",
   "execution_count": 46,
   "metadata": {},
   "outputs": [
    {
     "name": "stdout",
     "output_type": "stream",
     "text": [
      "MM\n",
      "M\n",
      "3000\n",
      "MMM\n"
     ]
    }
   ],
   "source": [
    "d = {'IV': 4, 'IX': 9, 'XL': 40, 'XC': 90, 'CD': 400, 'CM': 900,\n",
    "     'I': 1, 'V': 5, 'X': 10, 'L': 50, 'C': 100, 'D': 500, 'M': 1000,\n",
    "     'II': 2, 'XX': 20, 'CC': 200, 'MM': 2000, 'III': 3, 'XXX': 30, 'CCC': 300, 'MMM': 3000}\n",
    "\n",
    "sv = 0\n",
    "for _ in range(2):\n",
    "    s = input()\n",
    "\n",
    "    i = 0\n",
    "    while i < len(s):\n",
    "        if s[i:i + 3] in d:\n",
    "            sv += d[s[i:i + 3]]\n",
    "            i += 3\n",
    "        elif s[i:i + 2] in d:\n",
    "            sv += d[s[i:i + 2]]\n",
    "            i += 2\n",
    "        else:\n",
    "            sv += d[s[i]]\n",
    "            i += 1\n",
    "        \n",
    "print(sv)\n",
    "\n",
    "d1 = sv // 1000\n",
    "sv -= d1 * 1000\n",
    "d2 = sv // 100\n",
    "sv -= d2 * 100\n",
    "d3 = sv // 10\n",
    "sv -= d3 * 10\n",
    "d4 = sv\n",
    "\n",
    "r = 'M' * d1\n",
    "\n",
    "if d2 == 9:\n",
    "    r += 'CM'\n",
    "elif d2 == 4:\n",
    "    r += 'CD'\n",
    "else:\n",
    "    if d2 >= 5:\n",
    "        d2 -= 5\n",
    "        r += 'D'\n",
    "    r += 'C' * d2\n",
    "    \n",
    "if d3 == 9:\n",
    "    r += 'XC'\n",
    "elif d3 == 4:\n",
    "    r += 'XL'\n",
    "else:\n",
    "    if d3 >= 5:\n",
    "        d3 -= 5\n",
    "        r += 'L'\n",
    "    r += 'X' * d3\n",
    "    \n",
    "if d4 == 9:\n",
    "    r += 'IX'\n",
    "elif d4 == 4:\n",
    "    r += 'IV'\n",
    "else:\n",
    "    if d4 >= 5:\n",
    "        d4 -= 5\n",
    "        r += 'V'\n",
    "    r += 'I' * d4\n",
    "    \n",
    "print(r)"
   ]
  },
  {
   "cell_type": "markdown",
   "metadata": {},
   "source": [
    "### 두 박스 15973"
   ]
  },
  {
   "cell_type": "code",
   "execution_count": 58,
   "metadata": {},
   "outputs": [
    {
     "name": "stdout",
     "output_type": "stream",
     "text": [
      "3 5 9 10\n",
      "9 3 12 7\n",
      "LINE\n"
     ]
    }
   ],
   "source": [
    "li = [list(map(int, input().split())) for _ in range(2)]\n",
    "\n",
    "if li[0][1] > li[1][3] or li[1][1] > li[0][3] or li[0][2] < li[1][0] or li[1][2] < li[0][0]:\n",
    "    print('NULL')\n",
    "elif (li[0][0], li[0][1]) == (li[1][2], li[1][3]) or (li[1][0], li[1][1]) == (li[0][2], li[0][3]) or li[0][2] == li[1][0] and li[0][1] == li[1][3] or li[1][2] == li[0][0] and li[1][1] == li[0][3]:\n",
    "    print('POINT')\n",
    "elif li[0][0] == li[1][2] or li[1][0] == li[0][2] or li[0][1] == li[1][3] or li[1][1] == li[0][3]:\n",
    "    print('LINE')\n",
    "else:\n",
    "    print('FACE')"
   ]
  },
  {
   "cell_type": "markdown",
   "metadata": {},
   "source": [
    "### 점 모으기 7571"
   ]
  },
  {
   "cell_type": "code",
   "execution_count": 65,
   "metadata": {},
   "outputs": [
    {
     "name": "stdout",
     "output_type": "stream",
     "text": [
      "8\n"
     ]
    }
   ],
   "source": [
    "import sys\n",
    "input = lambda: sys.stdin.readline().rstrip()\n",
    "\n",
    "n, m = map(int, input().split())\n",
    "xs = []\n",
    "ys = []\n",
    "for _ in range(m):\n",
    "    x, y = map(int, input().split())\n",
    "    xs.append(x)\n",
    "    ys.append(y)\n",
    "    \n",
    "xs.sort()\n",
    "ys.sort()\n",
    "\n",
    "tx = xs[(m - 1) // 2]\n",
    "ty = ys[(m - 1) // 2]\n",
    "\n",
    "sv = 0\n",
    "for x in xs:\n",
    "    sv += abs(x - tx)\n",
    "for y in ys:\n",
    "    sv += abs(y - ty)\n",
    "    \n",
    "print(sv)"
   ]
  },
  {
   "cell_type": "markdown",
   "metadata": {},
   "source": [
    "### 사과나무 19539"
   ]
  },
  {
   "cell_type": "code",
   "execution_count": 70,
   "metadata": {},
   "outputs": [
    {
     "name": "stdout",
     "output_type": "stream",
     "text": [
      "1\n",
      "0\n",
      "YES\n"
     ]
    }
   ],
   "source": [
    "n = int(input())\n",
    "li = list(map(int, input().split()))\n",
    "\n",
    "c2 = 0\n",
    "c1 = 0\n",
    "for v in li:\n",
    "    c2 += v // 2\n",
    "    c1 += v % 2\n",
    "    \n",
    "ip = True\n",
    "if c2 < c1:\n",
    "    ip = False\n",
    "    \n",
    "if ip:\n",
    "    diff = c2 - c1\n",
    "    if diff % 3 != 0:\n",
    "        ip = False\n",
    "        \n",
    "if ip:\n",
    "    print('YES')\n",
    "else:\n",
    "    print('NO')"
   ]
  },
  {
   "cell_type": "markdown",
   "metadata": {},
   "source": [
    "### 숫자 재배치 16943"
   ]
  },
  {
   "cell_type": "code",
   "execution_count": 138,
   "metadata": {},
   "outputs": [
    {
     "name": "stdout",
     "output_type": "stream",
     "text": [
      "9888 9711\n",
      "8988\n"
     ]
    }
   ],
   "source": [
    "def check(aa, bb):\n",
    "    if int(''.join(map(str, sorted(aa)))) >= int(''.join(map(str, bb))):\n",
    "        return False\n",
    "    return True\n",
    "\n",
    "a, b = input().split()\n",
    "\n",
    "a = list(map(int, a))\n",
    "ib = int(b)\n",
    "b = list(map(int, b))\n",
    "\n",
    "c = -1\n",
    "if len(a) < len(b):\n",
    "    a.sort(reverse=True)\n",
    "    c = ''.join(map(str, a))\n",
    "elif len(a) > len(b):\n",
    "    pass\n",
    "else:\n",
    "    a.sort()\n",
    "        \n",
    "    temp = []\n",
    "    is_found = False\n",
    "    ip = True\n",
    "    for bi in range(len(b)):\n",
    "        for ai in range(len(a) - 1, -1, -1):\n",
    "            if bi == 0 and a[ai] == 0:\n",
    "                continue\n",
    "            if a[ai] < b[bi]:\n",
    "                temp.append(a[ai])\n",
    "                del a[ai]\n",
    "                temp += sorted(a, reverse=True)\n",
    "                is_found = True\n",
    "                break\n",
    "            elif a[ai] == b[bi]:\n",
    "                na = a.copy()\n",
    "                na.remove(a[ai])\n",
    "                if check(na, b[bi + 1:]):\n",
    "                    temp.append(a[ai])\n",
    "                    del a[ai]\n",
    "                    break\n",
    "        else:\n",
    "            ip = False\n",
    "            break\n",
    "            \n",
    "        if is_found:\n",
    "            break\n",
    "    \n",
    "    if ip:\n",
    "        c = ''.join(map(str, temp))\n",
    "        \n",
    "print(c)"
   ]
  },
  {
   "cell_type": "code",
   "execution_count": 141,
   "metadata": {},
   "outputs": [
    {
     "name": "stdout",
     "output_type": "stream",
     "text": [
      "1234 3456\n",
      "3421\n"
     ]
    }
   ],
   "source": [
    "from itertools import permutations as perm\n",
    "\n",
    "a, b = input().split()\n",
    "\n",
    "b = int(b)\n",
    "a = list(map(int, a))\n",
    "\n",
    "c = -1\n",
    "for case in perm(a):\n",
    "    if case[0] == 0:\n",
    "        continue\n",
    "    na = int(''.join(map(str, case)))\n",
    "    \n",
    "    if na <= b:\n",
    "        c = max(c, na)\n",
    "        \n",
    "print(c)"
   ]
  },
  {
   "cell_type": "markdown",
   "metadata": {},
   "source": [
    "### 단어 맞추기 9081"
   ]
  },
  {
   "cell_type": "code",
   "execution_count": 163,
   "metadata": {},
   "outputs": [
    {
     "name": "stdout",
     "output_type": "stream",
     "text": [
      "1\n",
      "HELLO\n",
      "HELOL\n"
     ]
    }
   ],
   "source": [
    "for _ in range(int(input())):\n",
    "    li = list(input())\n",
    "    \n",
    "    for i in range(len(li) - 1, 0, -1):\n",
    "        if li[i - 1] < li[i]:\n",
    "            left = li[:i - 1]\n",
    "\n",
    "            cri = li[i - 1]\n",
    "            temp = li[i - 1:]\n",
    "            temp.sort()\n",
    "            for v in temp:\n",
    "                if v > cri:\n",
    "                    mid = v\n",
    "                    temp.remove(v)\n",
    "                    break\n",
    "            nli = left + [mid] + temp\n",
    "            print(''.join(nli))\n",
    "\n",
    "            break\n",
    "    else:\n",
    "        print(''.join(li))"
   ]
  },
  {
   "cell_type": "code",
   "execution_count": 175,
   "metadata": {},
   "outputs": [
    {
     "name": "stdout",
     "output_type": "stream",
     "text": [
      "2 2\n",
      "3 4\n",
      "2\n"
     ]
    }
   ],
   "source": [
    "from itertools import product\n",
    "from collections import Counter\n",
    "\n",
    "n, m = map(int, input().split())\n",
    "\n",
    "st = set()\n",
    "if m >= 1:\n",
    "    st = set(map(int, input().split()))\n",
    "    \n",
    "c = 0\n",
    "for case in product(*[range(10)] * n):\n",
    "    to_check = set(case)\n",
    "    \n",
    "    ip = True\n",
    "    for key in st:\n",
    "        if key not in to_check:\n",
    "            ip = False\n",
    "            break\n",
    "    if ip:\n",
    "        c += 1\n",
    "        \n",
    "print(c)"
   ]
  },
  {
   "cell_type": "markdown",
   "metadata": {},
   "source": [
    "### 과일 서리 17213"
   ]
  },
  {
   "cell_type": "code",
   "execution_count": 212,
   "metadata": {},
   "outputs": [
    {
     "name": "stdout",
     "output_type": "stream",
     "text": [
      "3\n",
      "10\n"
     ]
    }
   ],
   "source": [
    "n = int(input())\n",
    "m = int(input())"
   ]
  },
  {
   "cell_type": "code",
   "execution_count": null,
   "metadata": {},
   "outputs": [],
   "source": [
    "n H (m - n)\n",
    "= (n + m - n - 1) C (m - n)\n",
    "= (m - 1) C (m - n)"
   ]
  },
  {
   "cell_type": "code",
   "execution_count": 214,
   "metadata": {},
   "outputs": [
    {
     "data": {
      "text/plain": [
       "36"
      ]
     },
     "execution_count": 214,
     "metadata": {},
     "output_type": "execute_result"
    }
   ],
   "source": [
    "def nCr(n, r):\n",
    "    if n - r < r:\n",
    "        r = n - r\n",
    "        \n",
    "    num = 1\n",
    "    for i in range(n, n - r, -1):\n",
    "        num *= i\n",
    "    \n",
    "    denom = 1\n",
    "    for i in range(2, r + 1):\n",
    "        denom *= i\n",
    "        \n",
    "    return num // denom\n",
    "\n",
    "n = int(input())\n",
    "m = int(input())\n",
    "\n",
    "r = nCr(m - 1, m - n)\n",
    "\n",
    "print(r)"
   ]
  },
  {
   "cell_type": "markdown",
   "metadata": {},
   "source": [
    "### 가장 가까운 세 사람의 심리적 거리 20529"
   ]
  },
  {
   "cell_type": "code",
   "execution_count": 21,
   "metadata": {},
   "outputs": [
    {
     "name": "stdout",
     "output_type": "stream",
     "text": [
      "5\n",
      "INFP INFP ESTP ESTJ ISTJ\n",
      "4\n"
     ]
    }
   ],
   "source": [
    "from collections import Counter, defaultdict as dd\n",
    "import sys\n",
    "input = lambda: sys.stdin.readline().rstrip()\n",
    "\n",
    "def get_dist(a, b):\n",
    "    c = 0\n",
    "    for i in range(4):\n",
    "        if a[i] != b[i]:\n",
    "            c += 1\n",
    "    return c\n",
    "\n",
    "s = 'ISTJ, ISFJ, INFJ, INTJ, ISTP, ISFP, INFP, INTP, ESTP, ESFP, ENFP, ENTP, ESTJ, ESFJ, ENFJ, ENTJ'\n",
    "types = s.split(', ')\n",
    "\n",
    "for _ in range(int(input())):\n",
    "    n = int(input())\n",
    "    li = input().split()\n",
    "    ct = Counter(li)\n",
    "\n",
    "    min_dist = float('inf')\n",
    "    for ai in range(16):\n",
    "        for bi in range(16):\n",
    "            for ci in range(16):\n",
    "                a, b, c = types[ai], types[bi], types[ci]\n",
    "\n",
    "                needed = dd(int)\n",
    "                needed[a] += 1\n",
    "                needed[b] += 1\n",
    "                needed[c] += 1\n",
    "\n",
    "                ip = True\n",
    "                for key in needed:\n",
    "                    if ct[key] < needed[key]:\n",
    "                        ip = False\n",
    "                        break\n",
    "\n",
    "                if ip:\n",
    "                    min_dist = min(min_dist, get_dist(a, b) + get_dist(b, c) + get_dist(a, c))\n",
    "\n",
    "    print(min_dist)"
   ]
  },
  {
   "cell_type": "markdown",
   "metadata": {},
   "source": [
    "### 소수를 분수로 5376"
   ]
  },
  {
   "cell_type": "code",
   "execution_count": 37,
   "metadata": {},
   "outputs": [
    {
     "name": "stdout",
     "output_type": "stream",
     "text": [
      "0.(3)\n",
      "1/3\n"
     ]
    }
   ],
   "source": [
    "from math import gcd\n",
    "import sys\n",
    "input = lambda: sys.stdin.readline().rstrip()\n",
    "\n",
    "for _ in range(int(input())):\n",
    "    s = input()\n",
    "\n",
    "    if '(' not in s:\n",
    "        denom = 10 ** len(s[2:])\n",
    "        num = int(s[2:])\n",
    "    else:\n",
    "        s = s[2:]\n",
    "        left = s[:s.index('(')]\n",
    "        mid = s[s.index('(') + 1:-1]\n",
    "\n",
    "        denom = int('9' * len(mid) + '0' * len(left))\n",
    "        if left:\n",
    "            num = int(left + mid) - int(left)\n",
    "        else:\n",
    "            num = int(mid)\n",
    "\n",
    "    g = gcd(num, denom)\n",
    "    denom = denom // g\n",
    "    num = num // g\n",
    "\n",
    "    print(f'{num}/{denom}')"
   ]
  },
  {
   "cell_type": "code",
   "execution_count": 39,
   "metadata": {},
   "outputs": [
    {
     "name": "stdout",
     "output_type": "stream",
     "text": [
      "3\n",
      "3 3\n",
      "2 2\n",
      "1 1\n",
      "45\n"
     ]
    }
   ],
   "source": [
    "import sys\n",
    "input = lambda: sys.stdin.readline().rstrip()\n",
    "\n",
    "mod = int(1e9) + 7\n",
    "\n",
    "n = int(input())\n",
    "\n",
    "sv = 0\n",
    "for _ in range(n):\n",
    "    c, k = map(int, input().split())\n",
    "    \n",
    "    if c == 0 or k == 0:\n",
    "        continue\n",
    "    if k == 1:\n",
    "        sv += c\n",
    "        sv % mod\n",
    "        continue\n",
    "    c *= k\n",
    "    k -= 1\n",
    "    \n",
    "    sv += c * pow(2, k, mod)\n",
    "    sv %= mod\n",
    "    \n",
    "print(sv)"
   ]
  },
  {
   "cell_type": "markdown",
   "metadata": {},
   "source": [
    "### 전생했더니 슬라임 연구자였던 건에 대하여 (Easy) 14715"
   ]
  },
  {
   "cell_type": "code",
   "execution_count": 59,
   "metadata": {},
   "outputs": [
    {
     "name": "stdout",
     "output_type": "stream",
     "text": [
      "10\n",
      "1\n"
     ]
    }
   ],
   "source": [
    "import sys\n",
    "sys.setrecursionlimit(50000)\n",
    "\n",
    "inf = float('inf')\n",
    "\n",
    "def recur(num):\n",
    "    if dp[num] != inf:\n",
    "        return dp[num]\n",
    "    \n",
    "    min_c = inf\n",
    "    for mod in range(2, int(num ** 0.5) + 1):\n",
    "        if num % mod == 0:\n",
    "            min_c = min(min_c, max(recur(mod), recur(num // mod)) + 1)\n",
    "            \n",
    "    if min_c == inf:\n",
    "        min_c = 0\n",
    "        \n",
    "    dp[num] = min_c\n",
    "    \n",
    "    return min_c\n",
    "\n",
    "n = int(input())\n",
    "\n",
    "dp = [inf] * (n + 1)\n",
    "recur(n)\n",
    "\n",
    "print(dp[n])"
   ]
  },
  {
   "cell_type": "markdown",
   "metadata": {},
   "source": [
    "### 정렬 17074"
   ]
  },
  {
   "cell_type": "code",
   "execution_count": 90,
   "metadata": {},
   "outputs": [
    {
     "name": "stdout",
     "output_type": "stream",
     "text": [
      "3\n",
      "3 3 2\n",
      "1\n"
     ]
    }
   ],
   "source": [
    "n = int(input())\n",
    "li = list(map(int, input().split()))\n",
    "\n",
    "c = 0\n",
    "to_check = -1\n",
    "for i in range(n - 1):\n",
    "    if li[i] > li[i + 1]:\n",
    "        to_check = i\n",
    "        c += 1\n",
    "    \n",
    "if c == 0:\n",
    "    print(n)\n",
    "else:\n",
    "    ip = True\n",
    "    nli = li.copy()\n",
    "    del nli[to_check]\n",
    "    if sorted(nli) != nli:\n",
    "        if to_check + 1 >= n:\n",
    "            ip = False\n",
    "        else:\n",
    "            nli = li.copy()\n",
    "            del nli[to_check + 1]\n",
    "            if sorted(nli) != nli:\n",
    "                ip = False\n",
    "        \n",
    "    if not ip:\n",
    "        print(0)\n",
    "    else:\n",
    "        sli = sorted(li)\n",
    "\n",
    "        diff_s = -1\n",
    "        diff_e = 0\n",
    "        for i in range(n):\n",
    "            if li[i] != sli[i]:\n",
    "                if diff_s == -1:\n",
    "                    diff_s = i\n",
    "                diff_e = i\n",
    "        if diff_e - diff_s == 1:\n",
    "            print(2)\n",
    "        else:\n",
    "            print(1)"
   ]
  },
  {
   "cell_type": "markdown",
   "metadata": {},
   "source": [
    "### 졸려 9519"
   ]
  },
  {
   "cell_type": "code",
   "execution_count": 168,
   "metadata": {},
   "outputs": [
    {
     "name": "stdout",
     "output_type": "stream",
     "text": [
      "3\n",
      "sfe\n",
      "sef\n"
     ]
    }
   ],
   "source": [
    "n = int(input())\n",
    "os = input()\n",
    "ls = len(os)\n",
    "\n",
    "cri = 0\n",
    "st = set()\n",
    "st.add(os)\n",
    "s = os\n",
    "while True:\n",
    "    cri += 1\n",
    "    ns = ''\n",
    "    start = 0\n",
    "    end = ls - 1\n",
    "    \n",
    "    while start < end:\n",
    "        ns += s[start]\n",
    "        start += 1\n",
    "        \n",
    "        if start == end:\n",
    "            ns += s[start]\n",
    "            break\n",
    "        \n",
    "        ns += s[end]\n",
    "        end -= 1\n",
    "        \n",
    "        if start == end:\n",
    "            ns += s[start]\n",
    "            break\n",
    "            \n",
    "    s = ns\n",
    "    if s in st:\n",
    "        break\n",
    "    st.add(s)\n",
    "\n",
    "n %= cri\n",
    "\n",
    "n = cri - n\n",
    "n %= cri\n",
    "\n",
    "s = os\n",
    "for _ in range(n):\n",
    "    ns = ''\n",
    "    start = 0\n",
    "    end = ls - 1\n",
    "    while start < end:\n",
    "        ns += s[start]\n",
    "        start += 1\n",
    "        \n",
    "        if start == end:\n",
    "            ns += s[start]\n",
    "            break\n",
    "        \n",
    "        ns += s[end]\n",
    "        end -= 1\n",
    "        \n",
    "        if start == end:\n",
    "            ns += s[start]\n",
    "            break\n",
    "            \n",
    "    s = ns\n",
    "    \n",
    "print(s)"
   ]
  },
  {
   "cell_type": "markdown",
   "metadata": {},
   "source": [
    "### 화학 제품 8901"
   ]
  },
  {
   "cell_type": "code",
   "execution_count": 5,
   "metadata": {},
   "outputs": [
    {
     "name": "stdout",
     "output_type": "stream",
     "text": [
      "3 3 3\n",
      "100 100 100\n",
      "400\n"
     ]
    }
   ],
   "source": [
    "import sys\n",
    "input = lambda: sys.stdin.readline().rstrip()\n",
    "\n",
    "for _ in range(int(input())):\n",
    "    a, b, c = map(int, input().split())\n",
    "    ab, bc, ca = map(int, input().split())\n",
    "\n",
    "    m_ab = min(a, b)\n",
    "    m_bc = min(b, c)\n",
    "    max_value = 0\n",
    "    for ab_c in range(m_ab + 1):\n",
    "        for bc_c in range(m_bc + 1):\n",
    "            na, nb, nc = a, b, c\n",
    "            na -= ab_c\n",
    "            nb -= ab_c + bc_c\n",
    "            nc -= bc_c\n",
    "\n",
    "            if na < 0 or nb < 0 or nc < 0:\n",
    "                continue\n",
    "\n",
    "            ac_c = min(na, nc)\n",
    "\n",
    "            value = ab_c * ab + bc_c * bc + ac_c * ca\n",
    "            max_value = max(max_value, value)\n",
    "\n",
    "    print(max_value)"
   ]
  },
  {
   "cell_type": "markdown",
   "metadata": {},
   "source": [
    "### 비요뜨의 징검다리 건너기 18291"
   ]
  },
  {
   "cell_type": "code",
   "execution_count": 14,
   "metadata": {},
   "outputs": [
    {
     "name": "stdout",
     "output_type": "stream",
     "text": [
      "5\n",
      "8\n"
     ]
    }
   ],
   "source": [
    "import sys\n",
    "input = lambda: sys.stdin.readline().rstrip()\n",
    "\n",
    "mod = int(1e9) + 7\n",
    "\n",
    "for _ in range(int(input())):\n",
    "    n = int(input())\n",
    "\n",
    "    if n <= 2:\n",
    "        print(1)\n",
    "    else:\n",
    "        r = pow(2, n - 2, mod)\n",
    "\n",
    "        print(r)"
   ]
  },
  {
   "cell_type": "markdown",
   "metadata": {},
   "source": [
    "### 헤이카카오 22353"
   ]
  },
  {
   "cell_type": "code",
   "execution_count": 39,
   "metadata": {},
   "outputs": [
    {
     "name": "stdout",
     "output_type": "stream",
     "text": [
      "226.33446923960287\n"
     ]
    }
   ],
   "source": [
    "a, d, k = map(int, input().split())\n",
    "\n",
    "cur = d / 100\n",
    "cumul = cur\n",
    "r = 0\n",
    "w = 1\n",
    "while True:\n",
    "    r += cumul * w\n",
    "    \n",
    "    if cur >= 1:\n",
    "        break\n",
    "\n",
    "    cumul /= cur\n",
    "    cumul *= 1 - cur\n",
    "    cur += (k / 100) * cur\n",
    "    cur = min(1, cur)\n",
    "    cumul *= cur\n",
    "    w += 1\n",
    "    \n",
    "r *= a\n",
    "\n",
    "print(r)"
   ]
  },
  {
   "cell_type": "markdown",
   "metadata": {},
   "source": [
    "### 우울한 방학 17392"
   ]
  },
  {
   "cell_type": "code",
   "execution_count": 56,
   "metadata": {},
   "outputs": [
    {
     "name": "stdout",
     "output_type": "stream",
     "text": [
      "3 10\n",
      "2 2 1\n",
      "2\n"
     ]
    }
   ],
   "source": [
    "def get_s_sum(num):\n",
    "    sv = 0\n",
    "    for i in range(1, num + 1):\n",
    "        sv += i ** 2\n",
    "        \n",
    "    return sv\n",
    "\n",
    "n, m = map(int, input().split())\n",
    "li = list(map(int, input().split()))\n",
    "\n",
    "temp = m - (sum(li) + n)\n",
    "if temp <= 0:\n",
    "    print(0)\n",
    "else:\n",
    "    t1 = temp // (n + 1)\n",
    "    t2 = temp % (n + 1)\n",
    "    \n",
    "    r = [t1] * (n + 1)\n",
    "    for i in range(t2):\n",
    "        r[i] += 1\n",
    "        \n",
    "    result = 0\n",
    "    for v in r:\n",
    "        result += get_s_sum(v)\n",
    "        \n",
    "    print(result)"
   ]
  },
  {
   "cell_type": "markdown",
   "metadata": {},
   "source": [
    "### 정수 수열 14440"
   ]
  },
  {
   "cell_type": "code",
   "execution_count": 16,
   "metadata": {},
   "outputs": [
    {
     "name": "stdout",
     "output_type": "stream",
     "text": [
      "1 2 1 1 100\n",
      "91\n"
     ]
    }
   ],
   "source": [
    "x, y, a0, a1, n = map(int, input().split())\n",
    "\n",
    "# x, y, a0, a1, n = 1, 1, 0, 1, 10\n",
    "\n",
    "st = set()\n",
    "li = [a0, a1]\n",
    "st.add((a0, a1))\n",
    "while True:\n",
    "    nxt_a = x * a1 + y * a0\n",
    "    nxt_a %= 100\n",
    "    \n",
    "    a0, a1 = a1, nxt_a\n",
    "\n",
    "    li.append(a1)\n",
    "    if (a0, a1) in st:\n",
    "        break\n",
    "    st.add((a0, a1))\n",
    "    \n",
    "li.pop()\n",
    "li.pop()\n",
    "\n",
    "n %= len(li)\n",
    "r = li[n]\n",
    "\n",
    "print(r)"
   ]
  },
  {
   "cell_type": "code",
   "execution_count": 17,
   "metadata": {},
   "outputs": [
    {
     "data": {
      "text/plain": [
       "[1,\n",
       " 1,\n",
       " 3,\n",
       " 5,\n",
       " 11,\n",
       " 21,\n",
       " 43,\n",
       " 85,\n",
       " 71,\n",
       " 41,\n",
       " 83,\n",
       " 65,\n",
       " 31,\n",
       " 61,\n",
       " 23,\n",
       " 45,\n",
       " 91,\n",
       " 81,\n",
       " 63,\n",
       " 25,\n",
       " 51]"
      ]
     },
     "execution_count": 17,
     "metadata": {},
     "output_type": "execute_result"
    }
   ],
   "source": [
    "li"
   ]
  },
  {
   "cell_type": "code",
   "execution_count": 18,
   "metadata": {},
   "outputs": [
    {
     "name": "stdout",
     "output_type": "stream",
     "text": [
      "1 2 1 1 100\n",
      "51\n"
     ]
    }
   ],
   "source": [
    "x, y, a0, a1, n = map(int, input().split())\n",
    "\n",
    "st = set()\n",
    "li = [(a0, a1)]\n",
    "st.add((a0, a1))\n",
    "while True:\n",
    "    nxt_a = x * a1 + y * a0\n",
    "    nxt_a %= 100\n",
    "    \n",
    "    a0, a1 = a1, nxt_a\n",
    "\n",
    "    if (a0, a1) in st:\n",
    "        init = (a0, a1)\n",
    "        break\n",
    "    li.append((a0, a1))\n",
    "    st.add((a0, a1))\n",
    "\n",
    "inits = li[:li.index(init)]\n",
    "li = li[li.index(init):]\n",
    "\n",
    "ninits = [v[0] for v in inits]\n",
    "nli = [v[0] for v in li]\n",
    "\n",
    "if n < len(ninits):\n",
    "    r = ninits[n]\n",
    "else:\n",
    "    n -= len(ninits)\n",
    "    \n",
    "    n %= len(nli)\n",
    "    r = nli[n]\n",
    "\n",
    "print(str(r).rjust(2, '0'))"
   ]
  },
  {
   "cell_type": "code",
   "execution_count": 23,
   "metadata": {},
   "outputs": [
    {
     "name": "stdout",
     "output_type": "stream",
     "text": [
      "1 2 1 1 10\n",
      "83\n"
     ]
    }
   ],
   "source": [
    "x, y, a0, a1, n = map(int, input().split())\n",
    "\n",
    "for _ in range(n):\n",
    "    nxt_a = x * a1 + y * a0\n",
    "    nxt_a %= 100    \n",
    "    \n",
    "    a0, a1 = a1, nxt_a\n",
    "\n",
    "r = a0\n",
    "    \n",
    "print(str(r).rjust(2, '0'))"
   ]
  },
  {
   "cell_type": "markdown",
   "metadata": {},
   "source": [
    "### 피보나치 인버스 10425"
   ]
  },
  {
   "cell_type": "code",
   "execution_count": null,
   "metadata": {},
   "outputs": [],
   "source": [
    "0, 1, 1, 2, 3, 5, 8, 13, 21"
   ]
  },
  {
   "cell_type": "code",
   "execution_count": 67,
   "metadata": {},
   "outputs": [
    {
     "name": "stdout",
     "output_type": "stream",
     "text": [
      "100002 100001\n"
     ]
    }
   ],
   "source": [
    "li = [0, 1]\n",
    "st = {0, 1}\n",
    "for _ in range(100000):\n",
    "    value = li[-2] + li[-1]\n",
    "    value %= 10000000000\n",
    "    st.add(value)\n",
    "    li.append(value)"
   ]
  },
  {
   "cell_type": "code",
   "execution_count": 83,
   "metadata": {},
   "outputs": [
    {
     "name": "stdout",
     "output_type": "stream",
     "text": [
      "4\n",
      "1\n",
      "2\n",
      "5\n",
      "5\n",
      "8\n",
      "6\n",
      "1597\n",
      "17\n"
     ]
    }
   ],
   "source": [
    "import sys\n",
    "input = lambda: sys.stdin.readline().rstrip()\n",
    "\n",
    "mod = 10000000000\n",
    "\n",
    "li = [0, 1]\n",
    "for _ in range(100000):\n",
    "    value = li[-2] + li[-1]\n",
    "    value %= mod\n",
    "    li.append(value)\n",
    "    \n",
    "for _ in range(int(input())):\n",
    "    f = input()\n",
    "    f = int(f[-10:])\n",
    "    \n",
    "    for i in range(100000, -1, -1):\n",
    "        if li[i] == f:\n",
    "            print(i)\n",
    "            break"
   ]
  },
  {
   "cell_type": "markdown",
   "metadata": {},
   "source": [
    "### 뒤집어진 소수 10859"
   ]
  },
  {
   "cell_type": "code",
   "execution_count": null,
   "metadata": {},
   "outputs": [],
   "source": [
    "3, 4, 7은 있으면 안됨\n",
    "2, 5, 8, 9로 시작하면 안됨\n",
    "0으로 시작 안함\n",
    "0, 2, 5, 6, 8로 끝나면 안됨\n",
    "\n",
    "\n",
    "0, 1, 2, 5, 6, 8, 9\n",
    "시작: 1, 6\n",
    "끝: 1, 9\n",
    "    \n",
    "-> O(sqrt(n))"
   ]
  },
  {
   "cell_type": "code",
   "execution_count": 92,
   "metadata": {},
   "outputs": [
    {
     "name": "stdout",
     "output_type": "stream",
     "text": [
      "1\n",
      "no\n"
     ]
    }
   ],
   "source": [
    "s = input()\n",
    "\n",
    "if '3' in s or '4' in s or '7' in s:\n",
    "    print('no')\n",
    "elif s == '1':\n",
    "    print('no')\n",
    "else:\n",
    "    temp = s[::-1]\n",
    "    ns = ''\n",
    "    for v in temp:\n",
    "        if v == '6':\n",
    "            ns += '9'\n",
    "        elif v == '9':\n",
    "            ns += '6'\n",
    "        else:\n",
    "            ns += v\n",
    "            \n",
    "    n = int(s)\n",
    "    nn = int(ns)\n",
    "    \n",
    "    ip = True\n",
    "    for mod in range(2, int(n ** 0.5) + 1):\n",
    "        if n % mod == 0:\n",
    "            ip = False\n",
    "            break\n",
    "            \n",
    "    for mod in range(2, int(nn ** 0.5) + 1):\n",
    "        if nn % mod == 0:\n",
    "            ip = False\n",
    "            break\n",
    "            \n",
    "    if ip:\n",
    "        print('yes')\n",
    "    else:\n",
    "        print('no')"
   ]
  }
 ],
 "metadata": {
  "kernelspec": {
   "display_name": "Python 3",
   "language": "python",
   "name": "python3"
  },
  "language_info": {
   "codemirror_mode": {
    "name": "ipython",
    "version": 3
   },
   "file_extension": ".py",
   "mimetype": "text/x-python",
   "name": "python",
   "nbconvert_exporter": "python",
   "pygments_lexer": "ipython3",
   "version": "3.7.4"
  }
 },
 "nbformat": 4,
 "nbformat_minor": 4
}
