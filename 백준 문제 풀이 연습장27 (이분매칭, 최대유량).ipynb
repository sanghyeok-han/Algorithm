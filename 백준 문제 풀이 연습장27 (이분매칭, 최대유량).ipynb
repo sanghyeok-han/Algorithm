{
 "cells": [
  {
   "cell_type": "markdown",
   "metadata": {},
   "source": [
    "### 축사 배정 2188"
   ]
  },
  {
   "cell_type": "raw",
   "metadata": {},
   "source": [
    "소 별로 원하는 위치별로 돌리면서\n",
    "  만약 해당 소가 원하는 위치에 다른 소가 있으면\n",
    "    다른 소를 원하는 다른 위치로 옮길 수 있으면 그 소를 그 곳으로 옮기고\n",
    "    그렇지 않으면 그 위치를 포기함\n",
    "  다른 소가 없으면 그 위치에 바로 배정함"
   ]
  },
  {
   "cell_type": "code",
   "execution_count": 8,
   "metadata": {},
   "outputs": [
    {
     "name": "stdout",
     "output_type": "stream",
     "text": [
      "3 3\n",
      "0\n",
      "1 1\n",
      "2 1 2\n",
      "2\n"
     ]
    }
   ],
   "source": [
    "# 틀렸음, 한 번만 확인하였음\n",
    "n, m = map(int, input().split())\n",
    "wants = [[] for _ in range(n + 1)]\n",
    "for i in range(1, n + 1):\n",
    "    temp = list(map(int, input().split()))\n",
    "    wants[i].extend(temp[1:])\n",
    "    \n",
    "houses = [-1] * (m + 1)\n",
    "count = 0\n",
    "for cow in range(1, n + 1):\n",
    "    is_found = False\n",
    "    for want in wants[cow]:\n",
    "        if houses[want] == -1:\n",
    "            houses[want] = cow\n",
    "            is_found = True\n",
    "            break\n",
    "        other = houses[want]\n",
    "        for other_want in wants[other]:\n",
    "            if houses[other_want] == -1:\n",
    "                houses[other_want] = other\n",
    "                houses[want] = cow\n",
    "                is_found = True\n",
    "                break\n",
    "        if is_found:\n",
    "            break\n",
    "    if is_found:\n",
    "        count += 1\n",
    "            \n",
    "print(count)"
   ]
  },
  {
   "cell_type": "code",
   "execution_count": 30,
   "metadata": {},
   "outputs": [
    {
     "name": "stdout",
     "output_type": "stream",
     "text": [
      "4\n"
     ]
    }
   ],
   "source": [
    "n, m = map(int, input().split())\n",
    "wants = [[] for _ in range(n + 1)]\n",
    "for i in range(1, n + 1):\n",
    "    temp = list(map(int, input().split()))\n",
    "    wants[i].extend(temp[1:])\n",
    "    \n",
    "houses = [-1] * (m + 1)\n",
    "count = 0\n",
    "\n",
    "def dfs(cow):\n",
    "    for want in wants[cow]:\n",
    "        if not visited[want]:\n",
    "            visited[want] = True\n",
    "            if houses[want] == -1:\n",
    "                houses[want] = cow\n",
    "                return True\n",
    "            other = houses[want]\n",
    "            if dfs(other):\n",
    "                houses[want] = cow\n",
    "                return True    \n",
    "    return False\n",
    "\n",
    "for cow in range(1, n + 1):\n",
    "    visited = [False] * (m + 1)\n",
    "    if dfs(cow):\n",
    "        count += 1\n",
    "            \n",
    "print(count)"
   ]
  },
  {
   "cell_type": "markdown",
   "metadata": {},
   "source": [
    "### 열혈강호 11375"
   ]
  },
  {
   "cell_type": "code",
   "execution_count": 32,
   "metadata": {},
   "outputs": [
    {
     "name": "stdout",
     "output_type": "stream",
     "text": [
      "4\n"
     ]
    }
   ],
   "source": [
    "import sys\n",
    "# input = lambda: sys.stdin.readline().rstrip()\n",
    "\n",
    "n, m = map(int, input().split())\n",
    "possibles = [[] for _ in range(n + 1)]\n",
    "for i in range(n):\n",
    "    temp = list(map(int, input().split()))\n",
    "    for j in range(1, temp[0] + 1):\n",
    "        possibles[i + 1].append(temp[j])\n",
    "\n",
    "count = 0\n",
    "assigned = [0] * (m + 1)\n",
    "\n",
    "def dfs(worker):\n",
    "    for work in possibles[worker]:\n",
    "        if not visited[work]:\n",
    "            visited[work] = True\n",
    "            if not assigned[work]:\n",
    "                assigned[work] = worker\n",
    "                return True\n",
    "            if dfs(assigned[work]):\n",
    "                assigned[work] = worker\n",
    "                return True\n",
    "    return False\n",
    "\n",
    "for worker in range(1, n + 1):\n",
    "    visited = [False] * (m + 1)\n",
    "    if dfs(worker):\n",
    "        count += 1\n",
    "        \n",
    "print(count)"
   ]
  },
  {
   "cell_type": "markdown",
   "metadata": {},
   "source": [
    "### 열혈강호2 11376"
   ]
  },
  {
   "cell_type": "code",
   "execution_count": 41,
   "metadata": {},
   "outputs": [
    {
     "name": "stdout",
     "output_type": "stream",
     "text": [
      "5 5\n",
      "2 1 2\n",
      "2 1 2\n",
      "2 1 2\n",
      "2 4 5\n",
      "0\n",
      "4\n"
     ]
    }
   ],
   "source": [
    "import sys\n",
    "input = lambda: sys.stdin.readline().rstrip()\n",
    "\n",
    "n, m = map(int, input().split())\n",
    "possibles = [[] for _ in range(n + 1)]\n",
    "for i in range(n):\n",
    "    temp = list(map(int, input().split()))\n",
    "    for j in range(1, temp[0] + 1):\n",
    "        possibles[i + 1].append(temp[j])\n",
    "        \n",
    "def dfs(worker):\n",
    "    for work in possibles[worker]:\n",
    "        if not visited[work]:\n",
    "            visited[work] = True\n",
    "            if assigned[work] == 0:\n",
    "                assigned[work] = worker\n",
    "                return True\n",
    "            if assigned[work] == worker:\n",
    "                continue\n",
    "            else:\n",
    "                if dfs(assigned[work]):\n",
    "                    assigned[work] = worker\n",
    "                    return True\n",
    "    return False\n",
    "        \n",
    "count = 0\n",
    "assigned = [0] * (m + 1)\n",
    "for _ in range(2):\n",
    "    for worker in range(1, n + 1):\n",
    "        visited = [False] * (m + 1)\n",
    "        if dfs(worker):\n",
    "            count += 1\n",
    "    \n",
    "print(count)"
   ]
  },
  {
   "cell_type": "markdown",
   "metadata": {},
   "source": [
    "### 열혈강호3 11377"
   ]
  },
  {
   "cell_type": "code",
   "execution_count": 74,
   "metadata": {},
   "outputs": [
    {
     "name": "stdout",
     "output_type": "stream",
     "text": [
      "5 5 1\n",
      "3 1 2 3\n",
      "3 1 2 3\n",
      "1 5\n",
      "1 5\n",
      "1 5\n",
      "4\n"
     ]
    }
   ],
   "source": [
    "import sys\n",
    "# input = lambda: sys.stdin.readline().rstrip()\n",
    "\n",
    "n, m, k = map(int, input().split())\n",
    "possibles = [[] for _ in range(n + 1)]\n",
    "for i in range(n):\n",
    "    temp = list(map(int, input().split()))\n",
    "    for j in range(1, temp[0] + 1):\n",
    "        possibles[i + 1].append(temp[j])\n",
    "        \n",
    "def dfs(worker):\n",
    "    for work in possibles[worker]:\n",
    "        if not visited[work]:\n",
    "            visited[work] = True\n",
    "            if assigned[work] == 0:\n",
    "                assigned[work] = worker\n",
    "                return True\n",
    "            if assigned[work] == worker:\n",
    "                continue\n",
    "            else:\n",
    "                if dfs(assigned[work]):\n",
    "                    assigned[work] = worker\n",
    "                    return True\n",
    "    return False\n",
    "        \n",
    "count = 0\n",
    "assigned = [0] * (m + 1)\n",
    "for worker in range(1, n + 1):\n",
    "    visited = [False] * (m + 1)\n",
    "    if dfs(worker):\n",
    "        count += 1\n",
    "        \n",
    "for worker in range(1, n + 1):\n",
    "    visited = [False] * (m + 1)\n",
    "    if dfs(worker):\n",
    "        count += 1\n",
    "        k -= 1\n",
    "        if k == 0:\n",
    "            break\n",
    "            \n",
    "print(count)"
   ]
  },
  {
   "cell_type": "markdown",
   "metadata": {},
   "source": [
    "### 상어의 저녁식사 1671"
   ]
  },
  {
   "cell_type": "code",
   "execution_count": null,
   "metadata": {},
   "outputs": [],
   "source": [
    "6\n",
    "1 2 3\n",
    "1 4 1\n",
    "2 3 1\n",
    "4 2 1\n",
    "1 1 1"
   ]
  },
  {
   "cell_type": "code",
   "execution_count": 12,
   "metadata": {},
   "outputs": [],
   "source": [
    "n = 5\n",
    "s = '''1 2 1\n",
    "1 1 1\n",
    "1 2 1\n",
    "3 3 3\n",
    "3 3 3'''\n",
    "abils = [list(map(int, v.split())) for v in s.split('\\n')]"
   ]
  },
  {
   "cell_type": "code",
   "execution_count": 13,
   "metadata": {},
   "outputs": [
    {
     "name": "stdout",
     "output_type": "stream",
     "text": [
      "1\n"
     ]
    }
   ],
   "source": [
    "def check(eater, pray):\n",
    "    for i in range(3):\n",
    "        if abils[eater][i] < abils[pray][i]:\n",
    "            return False \n",
    "    if abils[eater] == abils[pray]:\n",
    "        return True if eater < pray else False\n",
    "    return True\n",
    "   \n",
    "n = int(input())\n",
    "abils = [list(map(int, input().split())) for _ in range(n)]\n",
    "\n",
    "possibles = [[] for _ in range(n)]\n",
    "for eater in range(n):\n",
    "    for pray in range(n):\n",
    "        if eater == pray:\n",
    "            continue\n",
    "        if check(eater, pray):\n",
    "            possibles[eater].append(pray)\n",
    "        \n",
    "def dfs(shark):\n",
    "    for pray in possibles[shark]:\n",
    "        if assigned_eater[pray] == shark:\n",
    "            continue\n",
    "        if visited[pray]:\n",
    "            continue\n",
    "        visited[pray] = True\n",
    "            \n",
    "        if assigned_eater[pray] == -1 or dfs(assigned_eater[pray]):\n",
    "            assigned_eater[pray] = shark\n",
    "            return True\n",
    "    return False\n",
    "        \n",
    "assigned_eater = [-1] * n\n",
    "count = 0\n",
    "for _ in range(2):\n",
    "    for shark in range(n):\n",
    "        visited = [False] * n\n",
    "        if dfs(shark):\n",
    "            count += 1\n",
    "print(n - count)"
   ]
  },
  {
   "cell_type": "code",
   "execution_count": null,
   "metadata": {},
   "outputs": [],
   "source": [
    "5\n",
    "1 2 1\n",
    "1 1 1\n",
    "1 2 1\n",
    "3 3 3\n",
    "3 3 3\n",
    "1"
   ]
  },
  {
   "cell_type": "code",
   "execution_count": 43,
   "metadata": {},
   "outputs": [
    {
     "data": {
      "text/plain": [
       "[[1, 2], [], [0, 1], [0, 1, 2, 4], [0, 1, 2, 3]]"
      ]
     },
     "execution_count": 43,
     "metadata": {},
     "output_type": "execute_result"
    }
   ],
   "source": [
    "possibles"
   ]
  },
  {
   "cell_type": "code",
   "execution_count": 44,
   "metadata": {},
   "outputs": [
    {
     "data": {
      "text/plain": [
       "[2, 0, 0, 4, 3]"
      ]
     },
     "execution_count": 44,
     "metadata": {},
     "output_type": "execute_result"
    }
   ],
   "source": [
    "assigned_eater"
   ]
  },
  {
   "cell_type": "code",
   "execution_count": null,
   "metadata": {},
   "outputs": [],
   "source": [
    "4\n",
    "1 1 1\n",
    "1 1 1\n",
    "1 1 1\n",
    "1 1 1\n",
    "1"
   ]
  },
  {
   "cell_type": "code",
   "execution_count": null,
   "metadata": {},
   "outputs": [],
   "source": [
    "6\n",
    "5 5 5\n",
    "5 5 5\n",
    "4 2 2\n",
    "2 4 2\n",
    "2 2 4\n",
    "3 3 3\n",
    "2"
   ]
  },
  {
   "cell_type": "code",
   "execution_count": null,
   "metadata": {},
   "outputs": [],
   "source": [
    "5\n",
    "1 2 1\n",
    "1 1 1\n",
    "1 2 1\n",
    "3 3 3\n",
    "3 3 3\n",
    "1"
   ]
  },
  {
   "cell_type": "code",
   "execution_count": null,
   "metadata": {},
   "outputs": [],
   "source": [
    "5\n",
    "3 3 3\n",
    "3 3 3\n",
    "1 1 1\n",
    "1 2 1\n",
    "1 2 1\n",
    "1"
   ]
  },
  {
   "cell_type": "markdown",
   "metadata": {},
   "source": [
    "### 소수 쌍 1017"
   ]
  },
  {
   "cell_type": "code",
   "execution_count": 171,
   "metadata": {
    "scrolled": true
   },
   "outputs": [
    {
     "name": "stdout",
     "output_type": "stream",
     "text": [
      "2\n",
      "2 1\n",
      "1\n"
     ]
    }
   ],
   "source": [
    "# 틀렸음\n",
    "max_num = 2000\n",
    "is_prime = [False, False] + [True] * (max_num - 1)\n",
    "for mod in range(2, int(max_num ** 0.5) + 1):\n",
    "    if is_prime[mod]:\n",
    "        for value in range(mod * mod, max_num + 1, mod):\n",
    "            is_prime[value] = False\n",
    "\n",
    "n = int(input())\n",
    "values = list(map(int, input().split()))\n",
    "\n",
    "possibles = [[] for _ in range(n)]\n",
    "for _from in range(n):\n",
    "    for cand in range(n):\n",
    "        if _from == cand:\n",
    "            continue\n",
    "        if cand == 0:\n",
    "            continue\n",
    "        if is_prime[values[_from] + values[cand]]:\n",
    "            possibles[_from].append(cand)\n",
    "\n",
    "def dfs(value):\n",
    "    for v in possibles[value]:\n",
    "        if visited[v]:\n",
    "            continue\n",
    "        visited[v] = True\n",
    "        if assigned[v] == -1 or dfs(assigned[v]):\n",
    "            if value not in assigned:\n",
    "                assigned[v] = value\n",
    "                assigned[value] = v\n",
    "                return True\n",
    "    return False\n",
    "\n",
    "assigned = [-1] * n\n",
    "for value in range(1, n):\n",
    "    if assigned[value] != -1:\n",
    "        continue\n",
    "    visited = [False] * n\n",
    "    visited[value] = True\n",
    "    dfs(value)\n",
    "    \n",
    "count = assigned.count(-1)  \n",
    "if count != 2:\n",
    "    print(-1)\n",
    "else:\n",
    "    result = set()\n",
    "    value = 0\n",
    "    visited[value] = True\n",
    "    o_assigned = assigned[:]\n",
    "    for v in possibles[value]:\n",
    "        assigned = o_assigned[:]\n",
    "        visited = [False] * n\n",
    "        visited[v] = True\n",
    "        if assigned[v] == -1 or dfs2(v):\n",
    "            assigned[v] = value\n",
    "            if len(set(assigned)) == n:\n",
    "                result.add(values[v])\n",
    "    if not result:\n",
    "        print(-1)\n",
    "    else:\n",
    "        print(*sorted(result))"
   ]
  },
  {
   "cell_type": "code",
   "execution_count": null,
   "metadata": {},
   "outputs": [],
   "source": [
    "6\n",
    "1 4 7 10 11 12\n",
    "10"
   ]
  },
  {
   "cell_type": "code",
   "execution_count": 26,
   "metadata": {},
   "outputs": [
    {
     "name": "stdout",
     "output_type": "stream",
     "text": [
      "6\n",
      "1 4 7 10 11 12\n",
      "0 1 [-1, 0, 1, 2, -1, 4]\n",
      "0 3 [-1, -1, 1, 2, -1, 4]\n",
      "0 5 [-1, -1, 1, 2, -1, 4]\n",
      "4\n"
     ]
    }
   ],
   "source": [
    "max_num = 2000\n",
    "is_prime = [False, False] + [True] * (max_num - 1)\n",
    "for mod in range(2, int(max_num ** 0.5) + 1):\n",
    "    if is_prime[mod]:\n",
    "        for value in range(mod * mod, max_num + 1, mod):\n",
    "            is_prime[value] = False\n",
    "\n",
    "n = int(input())\n",
    "li = list(map(int, input().split()))\n",
    "\n",
    "wants = [[] for _ in range(n)]\n",
    "for a in range(n):\n",
    "    for b in range(a + 1, n):\n",
    "        if is_prime[li[a] + li[b]]:\n",
    "            wants[a].append(b)\n",
    "\n",
    "def dfs(a):\n",
    "    if visited[a]:\n",
    "        return False\n",
    "    visited[a] = True\n",
    "    \n",
    "    for b in wants[a]:\n",
    "        if assigned[b] == -1 or dfs(assigned[b]):\n",
    "            assigned[b] = a\n",
    "            return True\n",
    "    return False\n",
    "\n",
    "assigned = [-1] * n\n",
    "for a in range(n - 1, 0, -1):\n",
    "    visited = [False] * n\n",
    "    dfs(a)\n",
    "    \n",
    "result = set()\n",
    "a = 0\n",
    "o_assigned = assigned[:]\n",
    "for b in wants[a]:\n",
    "    assigned = o_assigned[:]\n",
    "    visited = [False] * n\n",
    "    visited[a] = True\n",
    "    if assigned[b] == -1 or dfs(assigned[b]):\n",
    "        assigned[b] = a\n",
    "        result.add(li[b])\n",
    "    print(a, b, assigned)\n",
    "        \n",
    "if not result:\n",
    "    print(-1)\n",
    "else:\n",
    "    print(*sorted(result))"
   ]
  },
  {
   "cell_type": "code",
   "execution_count": 22,
   "metadata": {},
   "outputs": [
    {
     "data": {
      "text/plain": [
       "[[1, 3, 5], [2], [3, 5], [], [5], []]"
      ]
     },
     "execution_count": 22,
     "metadata": {},
     "output_type": "execute_result"
    }
   ],
   "source": [
    "wants"
   ]
  },
  {
   "cell_type": "code",
   "execution_count": 24,
   "metadata": {},
   "outputs": [
    {
     "data": {
      "text/plain": [
       "[-1, -1, 3, 2, 5, 4]"
      ]
     },
     "execution_count": 24,
     "metadata": {},
     "output_type": "execute_result"
    }
   ],
   "source": [
    "o_assigned"
   ]
  },
  {
   "cell_type": "markdown",
   "metadata": {},
   "source": [
    "### 토렌트 9577"
   ]
  },
  {
   "cell_type": "code",
   "execution_count": 2,
   "metadata": {},
   "outputs": [
    {
     "name": "stdout",
     "output_type": "stream",
     "text": [
      "3 2\n",
      "1 3 1 1\n",
      "0 3 3 1 2 3\n"
     ]
    }
   ],
   "source": [
    "# 구간: 조각 형태로 하였는데 같은 시간에 여러 시드에서 동시에 받을 수 없으므로 안됨\n",
    "n, m = map(int, input().split())\n",
    "\n",
    "ivs = dict() # intervals\n",
    "ivs_li = []\n",
    "for _ in range(m):\n",
    "    li = list(map(int, input().split()))\n",
    "    iv = (li[0], li[1] - 1) # interval\n",
    "    ivs[iv] = li[3:]\n",
    "    ivs_li.append(iv)\n",
    "    \n",
    "ivs_li.sort(key=lambda x: (x[1], x[0]))\n",
    "\n",
    "parts = [0] * n\n",
    "count = 0\n",
    "for iv in ivs_li:\n",
    "    for _ in range(iv[1] - iv[0] + 1):\n",
    "        temp_count = 0\n",
    "        if dfs(iv):\n",
    "            temp_count += 1\n",
    "    count += temp_count\n",
    "    if count == n:\n",
    "        result = iv[0] + \n",
    "        break"
   ]
  },
  {
   "cell_type": "code",
   "execution_count": 16,
   "metadata": {},
   "outputs": [
    {
     "name": "stdout",
     "output_type": "stream",
     "text": [
      "1\n",
      "3 2\n",
      "1 3 1 1\n",
      "0 3 3 1 2 3\n",
      "3\n"
     ]
    }
   ],
   "source": [
    "# 맞았음\n",
    "import sys\n",
    "# input = lambda: sys.stdin.readline().rstrip()\n",
    "\n",
    "def dfs(part_num):\n",
    "    if visited[part_num]:\n",
    "        return False\n",
    "    visited[part_num] = True\n",
    "    \n",
    "    for t in parts[part_num]:\n",
    "        if not times[t] or dfs(times[t]):\n",
    "            times[t] = part_num\n",
    "            return True\n",
    "    return False\n",
    "\n",
    "for _ in range(int(input())):\n",
    "    n, m = map(int, input().split())\n",
    "\n",
    "    last_possible_time = 0\n",
    "    parts = [set() for _ in range(n + 1)] # parts[파트 번호] = 해당 파트를 받는 것이 가능한 시각들\n",
    "    for _ in range(m):\n",
    "        li = list(map(int, input().split()))\n",
    "        for part_num in li[3:]:\n",
    "            parts[part_num] |= set(range(li[0], li[1]))\n",
    "        last_possible_time = max(last_possible_time, li[1] - 1)\n",
    "\n",
    "    for i in range(n + 1):\n",
    "        parts[i] = sorted(parts[i])\n",
    "\n",
    "    times = [0] * (last_possible_time + 1)\n",
    "    result = 0\n",
    "    for part_num in range(1, n + 1):\n",
    "        visited = [False] * (n + 1)\n",
    "        if not dfs(part_num):\n",
    "            result = -1\n",
    "            break\n",
    "\n",
    "    last_time = 0\n",
    "    if result != -1:\n",
    "        for t in range(last_possible_time + 1):\n",
    "            if times[t] != 0:\n",
    "                last_time = t\n",
    "        result = last_time + 1\n",
    "\n",
    "    print(result)"
   ]
  },
  {
   "cell_type": "markdown",
   "metadata": {},
   "source": [
    "### 열혈강호 4 11378"
   ]
  },
  {
   "cell_type": "code",
   "execution_count": 23,
   "metadata": {},
   "outputs": [
    {
     "name": "stdout",
     "output_type": "stream",
     "text": [
      "5 5 5\n",
      "5 1 2 3 4 5\n",
      "1 1\n",
      "1 1\n",
      "1 1\n",
      "2 1 5\n",
      "5\n"
     ]
    }
   ],
   "source": [
    "# 틀렸음\n",
    "import sys\n",
    "# input = lambda: sys.stdin.readline().rstrip()\n",
    "\n",
    "n, m, k = map(int, input().split())\n",
    "workers = [[] for _ in range(n + 1)]\n",
    "for i in range(n):\n",
    "    li = list(map(int, input().split()))\n",
    "    workers[i + 1] = li[1:]\n",
    "\n",
    "def dfs(worker_num):\n",
    "    if visited[worker_num]:\n",
    "        return False\n",
    "    visited[worker_num] = True\n",
    "    \n",
    "    for work_num in workers[worker_num]:\n",
    "        if not works[work_num] or dfs(works[work_num]):\n",
    "            works[work_num] = worker_num\n",
    "            return True\n",
    "    return False\n",
    "    \n",
    "count = 0\n",
    "works = [0] * (m + 1)\n",
    "for worker_num in range(1, n + 1):\n",
    "    temp_count = 0\n",
    "    while True:\n",
    "        if temp_count >= 1 and not k:\n",
    "            break\n",
    "        visited = [False] * (n + 1)\n",
    "        if dfs(worker_num):\n",
    "            if temp_count >= 1:\n",
    "                k -= 1\n",
    "            temp_count += 1\n",
    "        else:\n",
    "            break\n",
    "    count += temp_count\n",
    "    \n",
    "print(count)"
   ]
  },
  {
   "cell_type": "code",
   "execution_count": 28,
   "metadata": {},
   "outputs": [
    {
     "name": "stdout",
     "output_type": "stream",
     "text": [
      "5 5 1\n",
      "5 1 2 3 4 5\n",
      "1 1\n",
      "1 1\n",
      "1 1\n",
      "2 1 5\n",
      "4\n"
     ]
    }
   ],
   "source": [
    "# 맞았음\n",
    "import sys\n",
    "# input = lambda: sys.stdin.readline().rstrip()\n",
    "\n",
    "n, m, k = map(int, input().split())\n",
    "workers = [[] for _ in range(n + 1)]\n",
    "for i in range(n):\n",
    "    li = list(map(int, input().split()))\n",
    "    workers[i + 1] = li[1:]\n",
    "\n",
    "def dfs(worker_num):\n",
    "    if visited[worker_num]:\n",
    "        return False\n",
    "    visited[worker_num] = True\n",
    "    \n",
    "    for work_num in workers[worker_num]:\n",
    "        if not works[work_num] or dfs(works[work_num]):\n",
    "            works[work_num] = worker_num\n",
    "            return True\n",
    "    return False\n",
    "    \n",
    "count = 0\n",
    "works = [0] * (m + 1)\n",
    "for worker_num in range(1, n + 1):\n",
    "    visited = [False] * (n + 1)    \n",
    "    if dfs(worker_num):\n",
    "        count += 1\n",
    "    \n",
    "while k:\n",
    "    is_added = False\n",
    "    for worker_num in range(1, n + 1):\n",
    "        visited = [False] * (n + 1)\n",
    "        if dfs(worker_num):\n",
    "            is_added = True\n",
    "            count += 1\n",
    "            k -= 1\n",
    "        if k == 0:\n",
    "            break\n",
    "    if not is_added:\n",
    "        break\n",
    "    \n",
    "print(count)"
   ]
  },
  {
   "cell_type": "markdown",
   "metadata": {},
   "source": [
    "### 돌멩이 제거 1867"
   ]
  },
  {
   "cell_type": "code",
   "execution_count": 1,
   "metadata": {},
   "outputs": [
    {
     "name": "stdout",
     "output_type": "stream",
     "text": [
      "3 4\n",
      "1 1\n",
      "1 3\n",
      "2 2\n",
      "3 2\n",
      "2\n"
     ]
    }
   ],
   "source": [
    "import sys\n",
    "input = lambda: sys.stdin.readline().rstrip()\n",
    "\n",
    "n, k = map(int, input().split())\n",
    "wants = [[] for _ in range(n + 1)]\n",
    "for _ in range(k):\n",
    "    x, y = map(int, input().split())\n",
    "    wants[x].append(y)\n",
    "\n",
    "def dfs(x):\n",
    "    if visited[x]:\n",
    "        return False\n",
    "    visited[x] = True\n",
    "    \n",
    "    for y in wants[x]:\n",
    "        if not assigned[y] or dfs(assigned[y]):\n",
    "            assigned[y]= x\n",
    "            return True\n",
    "    return False\n",
    "\n",
    "assigned = [0] * (n + 1)\n",
    "count = 0\n",
    "for x in range(1, n + 1):\n",
    "    visited = [False] * (n + 1)\n",
    "    if dfs(x):\n",
    "        count += 1\n",
    "        \n",
    "print(count)"
   ]
  },
  {
   "cell_type": "markdown",
   "metadata": {},
   "source": [
    "### 룩 배치하기 9525"
   ]
  },
  {
   "cell_type": "code",
   "execution_count": 29,
   "metadata": {},
   "outputs": [
    {
     "name": "stdout",
     "output_type": "stream",
     "text": [
      "5\n",
      "x....\n",
      "x....\n",
      "..x..\n",
      ".x...\n",
      "....x\n",
      "7\n"
     ]
    }
   ],
   "source": [
    "n = int(input())\n",
    "li = [input() for _ in range(n)]\n",
    "\n",
    "row_nums = [[-1] * n for _ in range(n)]\n",
    "col_nums = [[-1] * n for _ in range(n)]\n",
    "\n",
    "num = -1\n",
    "for i in range(n):\n",
    "    former = ''\n",
    "    for j in range(n):\n",
    "        if li[i][j] == '.':\n",
    "            if former != '.':\n",
    "                num += 1\n",
    "            row_nums[i][j] = num\n",
    "        former = li[i][j]   \n",
    "row_len = num + 1\n",
    "\n",
    "num = -1\n",
    "for j in range(n):\n",
    "    former = ''\n",
    "    for i in range(n):\n",
    "        if li[i][j] == '.':\n",
    "            if former != '.':\n",
    "                num += 1\n",
    "            col_nums[i][j] = num\n",
    "        former = li[i][j]\n",
    "col_len = num + 1\n",
    "\n",
    "wants = [[] for _ in range(row_len)]\n",
    "for i in range(n):\n",
    "    for j in range(n):\n",
    "        if li[i][j] == '.':\n",
    "            wants[row_nums[i][j]].append(col_nums[i][j])\n",
    "\n",
    "def dfs(x):\n",
    "    if visited[x]:\n",
    "        return False\n",
    "    visited[x] = True\n",
    "    \n",
    "    for y in wants[x]:\n",
    "        if assigned[y] == -1 or dfs(assigned[y]):\n",
    "            assigned[y] = x\n",
    "            return True\n",
    "    return False\n",
    "\n",
    "assigned = [-1] * col_len\n",
    "count = 0\n",
    "for x in range(row_len):\n",
    "    visited = [False] * row_len\n",
    "    if dfs(x):\n",
    "        count += 1\n",
    "        \n",
    "print(count)"
   ]
  },
  {
   "cell_type": "markdown",
   "metadata": {},
   "source": [
    "### N-Rook 1760"
   ]
  },
  {
   "cell_type": "code",
   "execution_count": 56,
   "metadata": {},
   "outputs": [
    {
     "name": "stdout",
     "output_type": "stream",
     "text": [
      "3 4\n",
      "2 0 0 0\n",
      "2 2 2 1\n",
      "0 1 0 2\n",
      "2\n"
     ]
    }
   ],
   "source": [
    "n, m = map(int, input().split())\n",
    "li = [list(map(int, input().split())) for _ in range(n)]\n",
    "\n",
    "r_nums = [[-1] * m for _ in range(n)]\n",
    "num = -1\n",
    "for i in range(n):\n",
    "    former = 2\n",
    "    for j in range(m):\n",
    "        if li[i][j] != 2:\n",
    "            if former == 2:\n",
    "                num += 1\n",
    "            r_nums[i][j] = num\n",
    "        former = li[i][j]\n",
    "r_len = num + 1\n",
    "\n",
    "c_nums = [[-1] * m for _ in range(n)]\n",
    "num = -1\n",
    "for j in range(m):\n",
    "    former = 2\n",
    "    for i in range(n):\n",
    "        if li[i][j] != 2:\n",
    "            if former == 2:\n",
    "                num += 1\n",
    "            c_nums[i][j] = num\n",
    "        former = li[i][j]\n",
    "c_len = num + 1\n",
    "\n",
    "wants = [[] for _ in range(r_len)]\n",
    "for i in range(n):\n",
    "    for j in range(m):\n",
    "        if li[i][j] == 0:\n",
    "            wants[r_nums[i][j]].append(c_nums[i][j])\n",
    "            \n",
    "def dfs(r):\n",
    "    if visited[r]:\n",
    "        return False\n",
    "    visited[r] = True\n",
    "    \n",
    "    for c in wants[r]:\n",
    "        if assigned[c] == -1 or dfs(assigned[c]):\n",
    "            assigned[c] = r\n",
    "            return True\n",
    "    return False\n",
    "\n",
    "assigned = [-1] * c_len\n",
    "count = 0\n",
    "for r in range(r_len):\n",
    "    visited = [False] * r_len\n",
    "    if dfs(r):\n",
    "        count += 1\n",
    "        \n",
    "print(count)"
   ]
  }
 ],
 "metadata": {
  "kernelspec": {
   "display_name": "Python 3",
   "language": "python",
   "name": "python3"
  },
  "language_info": {
   "codemirror_mode": {
    "name": "ipython",
    "version": 3
   },
   "file_extension": ".py",
   "mimetype": "text/x-python",
   "name": "python",
   "nbconvert_exporter": "python",
   "pygments_lexer": "ipython3",
   "version": "3.7.3"
  }
 },
 "nbformat": 4,
 "nbformat_minor": 4
}
