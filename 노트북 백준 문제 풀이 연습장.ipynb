{
 "cells": [
  {
   "cell_type": "markdown",
   "metadata": {},
   "source": [
    "### 수 정렬하기 4 11931\n",
    "- 정렬"
   ]
  },
  {
   "cell_type": "code",
   "execution_count": 1,
   "metadata": {},
   "outputs": [
    {
     "name": "stdout",
     "output_type": "stream",
     "text": [
      "5\n",
      "1\n",
      "2\n",
      "3\n",
      "4\n",
      "5\n",
      "5\n",
      "4\n",
      "3\n",
      "2\n",
      "1\n"
     ]
    }
   ],
   "source": [
    "import sys\n",
    "input = sys.stdin.readline\n",
    "\n",
    "n = int(input().rstrip())\n",
    "li = [int(input().rstrip()) for _ in range(n)]\n",
    "li.sort(reverse=True)\n",
    "print(\"\\n\".join(map(str, li)))"
   ]
  },
  {
   "cell_type": "markdown",
   "metadata": {},
   "source": [
    "### Base Conversion 11576\n",
    "- 수학, 구현, 정수론"
   ]
  },
  {
   "cell_type": "code",
   "execution_count": 14,
   "metadata": {},
   "outputs": [
    {
     "name": "stdout",
     "output_type": "stream",
     "text": [
      "17 8\n",
      "2\n",
      "2 16\n",
      "6 2\n"
     ]
    }
   ],
   "source": [
    "a, b = map(int, input().split())\n",
    "m = int(input())\n",
    "li = list(map(int, input().split()))\n",
    "\n",
    "value = 0\n",
    "for i, v in enumerate(reversed(li)):\n",
    "    value += v * a ** i\n",
    "    \n",
    "result = []\n",
    "while True:\n",
    "    result.append(value % b)\n",
    "    \n",
    "    if value // b > 0:\n",
    "        value //= b\n",
    "    else:\n",
    "        break\n",
    "        \n",
    "result.reverse()\n",
    "print(\" \".join(map(str, result)))"
   ]
  },
  {
   "cell_type": "markdown",
   "metadata": {},
   "source": [
    "### 수열 정렬 1015\n",
    "- 정렬"
   ]
  },
  {
   "cell_type": "code",
   "execution_count": 80,
   "metadata": {},
   "outputs": [
    {
     "name": "stdout",
     "output_type": "stream",
     "text": [
      "3\n",
      "2 3 1\n",
      "1 2 0\n"
     ]
    }
   ],
   "source": [
    "n = int(input())\n",
    "a = list(map(int, input().split()))\n",
    "\n",
    "r = range(n)\n",
    "indices = list(zip(r, a))\n",
    "indices.sort(key=lambda x: x[1])\n",
    "indices = [v[0] for v in indices]\n",
    "\n",
    "p = [0] * n\n",
    "for i, v in enumerate(indices):\n",
    "    p[v] = i\n",
    "    \n",
    "print(\" \".join(map(str, p)))"
   ]
  },
  {
   "cell_type": "markdown",
   "metadata": {},
   "source": [
    "### 나무 조각 2947\n",
    "- 구현, 시뮬레이션"
   ]
  },
  {
   "cell_type": "code",
   "execution_count": 84,
   "metadata": {},
   "outputs": [
    {
     "name": "stdout",
     "output_type": "stream",
     "text": [
      "2 1 5 3 4\n",
      "1 2 5 3 4\n",
      "1 2 3 5 4\n",
      "1 2 3 4 5\n"
     ]
    }
   ],
   "source": [
    "li = list(map(int, input().split()))\n",
    "    \n",
    "def print_list():\n",
    "    print(\" \".join(map(str, li)))\n",
    "    \n",
    "while True:\n",
    "    for i in range(4):\n",
    "        if li[i] > li[i + 1]:\n",
    "            li[i], li[i + 1] = li[i + 1], li[i]\n",
    "            print_list()\n",
    "            \n",
    "    if li == [1, 2, 3, 4, 5]:\n",
    "        break"
   ]
  },
  {
   "cell_type": "markdown",
   "metadata": {},
   "source": [
    "### 자리배정 10157\n",
    "- 수학, 구현, 재귀"
   ]
  },
  {
   "cell_type": "code",
   "execution_count": 193,
   "metadata": {},
   "outputs": [
    {
     "name": "stdout",
     "output_type": "stream",
     "text": [
      "7 6\n",
      "11\n",
      "6 6\n"
     ]
    }
   ],
   "source": [
    "c, r = map(int, input().split())\n",
    "k = int(input())\n",
    "\n",
    "if k > c * r:\n",
    "    print(0)\n",
    "else:\n",
    "    k_coord = [1, 1]\n",
    "    start = 1\n",
    "    while True:\n",
    "        new_start = start + 2 * r + 2 * c - 4\n",
    "        if k < new_start:\n",
    "            new_start = start\n",
    "            break\n",
    "            \n",
    "        start = new_start\n",
    "        k_coord[0] += 1\n",
    "        k_coord[1] += 1\n",
    "\n",
    "        if r >= 3 and c >= 3:\n",
    "            r -= 2\n",
    "            c -= 2\n",
    "        else:\n",
    "            k_coord[0] -= 1\n",
    "            k_coord[1] -= 1\n",
    "            break\n",
    "\n",
    "    def get_coord(new_start):\n",
    "        if k <= new_start + r - 1:\n",
    "            k_coord[1] += k - new_start\n",
    "            return k_coord\n",
    "\n",
    "        new_start += r - 1\n",
    "\n",
    "        if k <= new_start + c - 1:\n",
    "            k_coord[0] += k - new_start\n",
    "            k_coord[1] += r - 1\n",
    "            return k_coord\n",
    "\n",
    "        new_start += c - 1\n",
    "\n",
    "        if k <= new_start + r - 1:\n",
    "            k_coord[0] += c - 1\n",
    "            k_coord[1] += r - 1\n",
    "            k_coord[1] -= k - new_start\n",
    "            return k_coord\n",
    "\n",
    "        new_start += r - 1\n",
    "\n",
    "        k_coord[0] += c - 1\n",
    "        k_coord[0] -= k - new_start\n",
    "        return k_coord\n",
    "\n",
    "    print(\" \".join(map(str, get_coord(new_start))))"
   ]
  },
  {
   "cell_type": "markdown",
   "metadata": {},
   "source": [
    "### 수열 2559\n",
    "- 누적 합, 두 포인터"
   ]
  },
  {
   "cell_type": "code",
   "execution_count": 164,
   "metadata": {},
   "outputs": [
    {
     "name": "stdout",
     "output_type": "stream",
     "text": [
      "2 2\n",
      "1 2\n",
      "3\n"
     ]
    }
   ],
   "source": [
    "n, k = map(int, input().split())\n",
    "li = list(map(int, input().split()))\n",
    "\n",
    "max_value = -float('inf')\n",
    "\n",
    "start = 0\n",
    "end = 0\n",
    "\n",
    "current_sum = 0\n",
    "while end < n:\n",
    "    if end - start <= k - 1:\n",
    "        current_sum += li[end]\n",
    "        \n",
    "        if end - start == k - 1:\n",
    "            if current_sum > max_value:\n",
    "                max_value = current_sum\n",
    "                \n",
    "        end += 1\n",
    "    else:      \n",
    "        current_sum -= li[start]\n",
    "        start += 1\n",
    "            \n",
    "print(max_value)"
   ]
  },
  {
   "cell_type": "markdown",
   "metadata": {},
   "source": [
    "### 내일 할거야 7983\n",
    "- 그리디"
   ]
  },
  {
   "cell_type": "code",
   "execution_count": 204,
   "metadata": {},
   "outputs": [
    {
     "name": "stdout",
     "output_type": "stream",
     "text": [
      "3\n",
      "2 8\n",
      "1 13\n",
      "3 10\n",
      "5\n"
     ]
    }
   ],
   "source": [
    "import sys\n",
    "# input = sys.stdin.readline\n",
    "\n",
    "n = int(input().rstrip())\n",
    "stack = [tuple(map(int, input().rstrip().split())) for _ in range(n)]\n",
    "\n",
    "stack.sort(key=lambda x: x[1])\n",
    "\n",
    "last_day = stack[-1][1]\n",
    "current_day = last_day\n",
    "while stack:\n",
    "    d, t = stack.pop()\n",
    "    if t < current_day:\n",
    "        current_day -= 1\n",
    "        stack.append((d, t))\n",
    "    else:\n",
    "        current_day -= d\n",
    "        \n",
    "print(current_day)"
   ]
  },
  {
   "cell_type": "markdown",
   "metadata": {},
   "source": [
    "### 시간 관리하기 6068\n",
    "- 그리디"
   ]
  },
  {
   "cell_type": "code",
   "execution_count": 205,
   "metadata": {},
   "outputs": [
    {
     "name": "stdout",
     "output_type": "stream",
     "text": [
      "4\n",
      "3 5\n",
      "8 14\n",
      "5 20\n",
      "1 16\n",
      "2\n"
     ]
    }
   ],
   "source": [
    "import sys\n",
    "# input = sys.stdin.readline\n",
    "\n",
    "n = int(input().rstrip())\n",
    "stack = [tuple(map(int, input().rstrip().split())) for _ in range(n)]\n",
    "\n",
    "stack.sort(key=lambda x: x[1])\n",
    "\n",
    "last_day = stack[-1][1]\n",
    "current_day = last_day\n",
    "while stack:\n",
    "    t, s = stack.pop()\n",
    "    if s < current_day:\n",
    "        current_day -= 1\n",
    "        if current_day == -1:\n",
    "            break\n",
    "        \n",
    "        stack.append((t, s))\n",
    "    else:\n",
    "        current_day -= t\n",
    "        if current_day <= -1:\n",
    "            current_day = -1\n",
    "            break\n",
    "        \n",
    "print(current_day)"
   ]
  },
  {
   "cell_type": "markdown",
   "metadata": {},
   "source": [
    "### 스위치 켜고 끄기 1244"
   ]
  },
  {
   "cell_type": "code",
   "execution_count": 6,
   "metadata": {},
   "outputs": [
    {
     "name": "stdout",
     "output_type": "stream",
     "text": [
      "8\n",
      "0 1 0 1 0 0 0 1\n",
      "2\n",
      "1 3\n",
      "2 3\n",
      "1 0 0 0 1 1 0 1\n"
     ]
    }
   ],
   "source": [
    "n = int(input())\n",
    "li = [-1] + list(map(int, input().split()))\n",
    "m = int(input())\n",
    "for _ in range(m):\n",
    "    gender, switch_num = map(int, input().split())\n",
    "    \n",
    "    # 남학생의 경우\n",
    "    if gender == 1:\n",
    "        i = 1\n",
    "        while True:\n",
    "            if switch_num * i <= n:\n",
    "                li[switch_num * i] ^= 1\n",
    "            else:\n",
    "                break\n",
    "                \n",
    "            i += 1\n",
    "            \n",
    "    # 여학생의 경우\n",
    "    else:\n",
    "        li[switch_num] ^= 1\n",
    "        \n",
    "        i = 1\n",
    "        while True:\n",
    "            a, b = switch_num - i, switch_num + i\n",
    "            \n",
    "            if a >= 1 and b <= n:\n",
    "                li[a] ^= 1\n",
    "                li[b] ^= 1\n",
    "            else:\n",
    "                break\n",
    "            \n",
    "            i += 1\n",
    "\n",
    "del li[0]\n",
    "\n",
    "start = 0\n",
    "while True:\n",
    "    print(\" \".join(map(str, li[start: start + 20])))\n",
    "    start += 20\n",
    "    \n",
    "    if start >= len(li):\n",
    "        break"
   ]
  },
  {
   "cell_type": "markdown",
   "metadata": {},
   "source": [
    "### 좌표 압축 18870\n",
    "- 정렬, 값 / 좌표 압축"
   ]
  },
  {
   "cell_type": "code",
   "execution_count": 2,
   "metadata": {},
   "outputs": [
    {
     "name": "stdout",
     "output_type": "stream",
     "text": [
      "5\n",
      "2 4 -10 4 -9\n"
     ]
    }
   ],
   "source": [
    "n = int(input())\n",
    "li = list(map(int, input().split()))"
   ]
  },
  {
   "cell_type": "code",
   "execution_count": 6,
   "metadata": {},
   "outputs": [
    {
     "name": "stdout",
     "output_type": "stream",
     "text": [
      "5\n",
      "2 4 -10 4 -9\n",
      "2 3 0 3 1\n"
     ]
    }
   ],
   "source": [
    "n = int(input())\n",
    "li = list(map(int, input().split()))\n",
    "\n",
    "compress = dict()\n",
    "original = sorted((set(li)))\n",
    "\n",
    "compress = {v: i for i, v in enumerate(original)}\n",
    "\n",
    "result = [0] * n\n",
    "for i, v in enumerate(li):\n",
    "    result[i] = compress[v]\n",
    "    \n",
    "print(' '.join(map(str, result)))"
   ]
  },
  {
   "cell_type": "markdown",
   "metadata": {},
   "source": [
    "### 모두의 마블 12845\n",
    "- 그리디"
   ]
  },
  {
   "cell_type": "code",
   "execution_count": 10,
   "metadata": {},
   "outputs": [
    {
     "name": "stdout",
     "output_type": "stream",
     "text": [
      "2\n",
      "40 20\n",
      "60\n"
     ]
    }
   ],
   "source": [
    "n = int(input())\n",
    "li = list(map(int, input().split()))\n",
    "\n",
    "if n <= 1:\n",
    "    print(0)\n",
    "else:\n",
    "    max_value = max(li)\n",
    "    li.remove(max_value)\n",
    "    \n",
    "    total = 0\n",
    "    total += max_value * (n - 1)\n",
    "    total += sum(li)\n",
    "    print(total)"
   ]
  },
  {
   "cell_type": "markdown",
   "metadata": {},
   "source": [
    "### 그렇고 그런 사이 20921\n",
    "- 그리디"
   ]
  },
  {
   "cell_type": "code",
   "execution_count": 20,
   "metadata": {},
   "outputs": [
    {
     "name": "stdout",
     "output_type": "stream",
     "text": [
      "6 3\n",
      "1 2 6 3 4 5\n"
     ]
    }
   ],
   "source": [
    "from collections import deque\n",
    "\n",
    "n, k = map(int, input().split())\n",
    "\n",
    "deq = deque(range(1, n + 1))\n",
    "result = []\n",
    "\n",
    "for i in range(n - 1, 0, -1):\n",
    "    if k >= i:\n",
    "        result.append(deq.pop())\n",
    "        k -= i\n",
    "    else:\n",
    "        result.append(deq.popleft())\n",
    "        \n",
    "result.append(deq.pop())\n",
    "print(\" \".join(map(str, result)))"
   ]
  },
  {
   "cell_type": "markdown",
   "metadata": {},
   "source": [
    "### 시간 관리 1263\n",
    "- 그리디"
   ]
  },
  {
   "cell_type": "code",
   "execution_count": 29,
   "metadata": {},
   "outputs": [
    {
     "name": "stdout",
     "output_type": "stream",
     "text": [
      "1\n",
      "44 1\n",
      "-1\n"
     ]
    }
   ],
   "source": [
    "import heapq\n",
    "\n",
    "heap = []\n",
    "n = int(input())\n",
    "for _ in range(n):\n",
    "    t, s = map(int, input().split())\n",
    "    heapq.heappush(heap, (-s, t))\n",
    "    \n",
    "current_time = float('inf')\n",
    "while heap:\n",
    "    minused_s, t = heapq.heappop(heap)\n",
    "    if -minused_s >= current_time:\n",
    "        current_time -= t\n",
    "    else:\n",
    "        current_time = -minused_s - t\n",
    "        \n",
    "if current_time < 0:\n",
    "    print(-1)\n",
    "else:\n",
    "    print(current_time)"
   ]
  },
  {
   "cell_type": "markdown",
   "metadata": {},
   "source": [
    "### 리모컨 1107"
   ]
  },
  {
   "cell_type": "code",
   "execution_count": 9,
   "metadata": {},
   "outputs": [
    {
     "name": "stdout",
     "output_type": "stream",
     "text": [
      "1000\n",
      "3\n",
      "0 1 2\n",
      "604\n"
     ]
    }
   ],
   "source": [
    "from collections import deque\n",
    "\n",
    "n = int(input())\n",
    "broken_count = int(input())\n",
    "if broken_count >= 1:\n",
    "    broken = list(map(int, input().split()))\n",
    "else:\n",
    "    broken = []\n",
    "    \n",
    "possible_nums = list(range(10))\n",
    "possible_nums_bool = [True] * 10\n",
    "for v in broken:\n",
    "    possible_nums.remove(v)\n",
    "    possible_nums_bool[v] = False\n",
    "    \n",
    "possible_nums.sort()\n",
    "neareast_nums = [['-1', '-1'] for _ in range(10)]\n",
    "for i in range(10):\n",
    "    if i == 0:\n",
    "        for v in possible_nums:\n",
    "            if v != 0:\n",
    "                neareast_nums[i][1] = str(v)\n",
    "                break\n",
    "        for v in reversed(possible_nums):\n",
    "            if v != 0:\n",
    "                neareast_nums[i][0] = str(v)\n",
    "                break\n",
    "    elif i == 9:\n",
    "        for v in reversed(possible_nums):\n",
    "            if v != 9:\n",
    "                neareast_nums[i][0] = str(v)\n",
    "                break\n",
    "        for v in possible_nums:\n",
    "            if v != 9:\n",
    "                neareast_nums[i][1] = str(v)\n",
    "                break       \n",
    "    else:\n",
    "        candidate = -1\n",
    "        for v in possible_nums:\n",
    "            if v < i:\n",
    "                if candidate < v:\n",
    "                    candidate = v\n",
    "        if candidate != -1:\n",
    "            neareast_nums[i][0] = str(candidate)\n",
    "        \n",
    "        candidate = float('inf')\n",
    "        for v in reversed(possible_nums):\n",
    "            if i < v:\n",
    "                if v < candidate:\n",
    "                    candidate = v\n",
    "        if candidate != float('inf'):\n",
    "            neareast_nums[i][1] = str(candidate) \n",
    "        \n",
    "min_result = abs(n - 100)\n",
    "        \n",
    "n = str(n)\n",
    "queue = deque()\n",
    "queue.extend([('', 0, False)]) # (value, count, is_minus_or_plus_start)\n",
    "\n",
    "result = float('inf')\n",
    "while queue:\n",
    "    value, count, is_minus_or_plus_start = queue.popleft()\n",
    "    \n",
    "    if value == n:\n",
    "        result = count\n",
    "        break\n",
    "\n",
    "    if len(value) <= len(n):\n",
    "        if value:\n",
    "            if int(value) < int(n):\n",
    "                queue.append((str(int(value) + 1), count + 1, True))\n",
    "\n",
    "    if len(value) >= len(n):\n",
    "        if int(value) > int(n):\n",
    "            queue.append((str(int(value) - 1), count + 1, True))\n",
    "\n",
    "    if not is_minus_or_plus_start:\n",
    "        if value != '0':\n",
    "            if len(value) <= len(n):\n",
    "                if len(value) < len(n):           \n",
    "                    exact_target = n[len(value)]\n",
    "\n",
    "                    if possible_nums_bool[int(exact_target)]:\n",
    "                        queue.append((value + exact_target, count + 1, False))\n",
    "\n",
    "                    if neareast_nums[int(exact_target)][0] != '-1':\n",
    "                        queue.append((value + neareast_nums[int(exact_target)][0], count + 1, False)) \n",
    "\n",
    "                    if neareast_nums[int(exact_target)][1] != '-1':\n",
    "                        queue.append((value + neareast_nums[int(exact_target)][1], count + 1, False))     \n",
    "                else:\n",
    "                    if possible_nums:\n",
    "                        queue.append((value + str(possible_nums[0]), count + 1, False))\n",
    "\n",
    "if result < min_result:\n",
    "    min_result = result\n",
    "\n",
    "print(min_result)"
   ]
  },
  {
   "cell_type": "code",
   "execution_count": 10,
   "metadata": {},
   "outputs": [
    {
     "data": {
      "text/plain": [
       "[['9', '3'],\n",
       " ['-1', '3'],\n",
       " ['-1', '3'],\n",
       " ['-1', '4'],\n",
       " ['3', '5'],\n",
       " ['4', '6'],\n",
       " ['5', '7'],\n",
       " ['6', '8'],\n",
       " ['7', '9'],\n",
       " ['8', '3']]"
      ]
     },
     "execution_count": 10,
     "metadata": {},
     "output_type": "execute_result"
    }
   ],
   "source": [
    "neareast_nums"
   ]
  },
  {
   "cell_type": "code",
   "execution_count": null,
   "metadata": {},
   "outputs": [],
   "source": [
    "9 9 3 + + + + + + +"
   ]
  },
  {
   "cell_type": "code",
   "execution_count": null,
   "metadata": {},
   "outputs": [],
   "source": [
    "1000\n",
    "3\n",
    "0 1 2\n",
    "670"
   ]
  },
  {
   "cell_type": "code",
   "execution_count": null,
   "metadata": {},
   "outputs": [],
   "source": []
  },
  {
   "cell_type": "code",
   "execution_count": 19,
   "metadata": {},
   "outputs": [
    {
     "data": {
      "text/plain": [
       "'444'"
      ]
     },
     "execution_count": 19,
     "metadata": {},
     "output_type": "execute_result"
    }
   ],
   "source": [
    "value"
   ]
  },
  {
   "cell_type": "code",
   "execution_count": null,
   "metadata": {},
   "outputs": [],
   "source": [
    "100\n",
    "4\n",
    "+ 0 1 2 3"
   ]
  },
  {
   "cell_type": "code",
   "execution_count": null,
   "metadata": {},
   "outputs": [],
   "source": [
    "500\n",
    "7\n",
    "1 2 3 4 5 6 7\n",
    "303"
   ]
  },
  {
   "cell_type": "code",
   "execution_count": null,
   "metadata": {},
   "outputs": [],
   "source": [
    "100\n",
    "3\n",
    "- + 1"
   ]
  },
  {
   "cell_type": "code",
   "execution_count": null,
   "metadata": {},
   "outputs": [],
   "source": [
    "300\n",
    "12\n",
    "- + 0 1 2 3 4 5 6 7 8 9"
   ]
  },
  {
   "cell_type": "code",
   "execution_count": 88,
   "metadata": {},
   "outputs": [
    {
     "data": {
      "text/plain": [
       "[False, False, False, False, False, False, False, False, False, False]"
      ]
     },
     "execution_count": 88,
     "metadata": {},
     "output_type": "execute_result"
    }
   ],
   "source": [
    "possible_nums_bool"
   ]
  },
  {
   "cell_type": "code",
   "execution_count": null,
   "metadata": {},
   "outputs": [],
   "source": [
    "5 4 5"
   ]
  },
  {
   "cell_type": "code",
   "execution_count": null,
   "metadata": {},
   "outputs": [],
   "source": [
    "만약 -이 고장났으면 같거가 큰 수 중 가장 작은 수\n",
    "만약 +이 고장났으면 같거나 작은 수 중 가장 큰 수\n",
    "\n",
    "만약 -과 +이 모두 고장났으면 같은 수\n",
    "\n",
    "만약 둘 다 고장나지 않았으면 같은 수나 큰 수 중 가장 작은 수나 작은 수 중 가장 큰 수\n",
    "만약 정답의 자리수와 같거나 하나 크면 -도 시전해봄\n",
    "만약 정답의 자리수와 같거나 하나 작으면 +도 시전해봄"
   ]
  },
  {
   "cell_type": "code",
   "execution_count": 35,
   "metadata": {},
   "outputs": [],
   "source": [
    "possible_nums = [6, 7, 8]\n"
   ]
  },
  {
   "cell_type": "code",
   "execution_count": null,
   "metadata": {},
   "outputs": [],
   "source": [
    "[]"
   ]
  },
  {
   "cell_type": "code",
   "execution_count": 36,
   "metadata": {},
   "outputs": [
    {
     "data": {
      "text/plain": [
       "[[-1, 6],\n",
       " [-1, 6],\n",
       " [-1, 6],\n",
       " [-1, 6],\n",
       " [-1, 6],\n",
       " [-1, 6],\n",
       " [-1, 7],\n",
       " [6, 8],\n",
       " [7, -1],\n",
       " [8, -1]]"
      ]
     },
     "execution_count": 36,
     "metadata": {},
     "output_type": "execute_result"
    }
   ],
   "source": [
    "neareast_nums"
   ]
  },
  {
   "cell_type": "code",
   "execution_count": null,
   "metadata": {},
   "outputs": [],
   "source": [
    "[[1], [0, 3], [1, 3], [1, 4], [3]]"
   ]
  },
  {
   "cell_type": "markdown",
   "metadata": {},
   "source": [
    "### 멀티탭 스케줄링"
   ]
  },
  {
   "cell_type": "code",
   "execution_count": 30,
   "metadata": {},
   "outputs": [
    {
     "name": "stdout",
     "output_type": "stream",
     "text": [
      "1 2\n",
      "1 2 3\n",
      "2\n"
     ]
    }
   ],
   "source": [
    "n, k = map(int, input().split())\n",
    "li = list(map(int, input().split()))\n",
    "\n",
    "count = 0\n",
    "current = set()\n",
    "in_current = set()\n",
    "\n",
    "for i, value in enumerate(li):\n",
    "    if value in current:\n",
    "        continue    \n",
    "    if len(current) < n:\n",
    "        current.add(value)\n",
    "    else:\n",
    "        if n == 1:\n",
    "            current.pop()\n",
    "            count += 1\n",
    "            current.add(value)\n",
    "        else:\n",
    "            for v in li[i + 1:]:\n",
    "                if v in current:\n",
    "                    in_current.add(v)\n",
    "                    if len(in_current) == n - 1:\n",
    "                        break\n",
    "            to_removes = current - in_current\n",
    "            to_remove = to_removes.pop()\n",
    "            in_current.clear()\n",
    "            current.remove(to_remove)\n",
    "            count += 1\n",
    "            current.add(value)\n",
    "            \n",
    "print(count)"
   ]
  },
  {
   "cell_type": "code",
   "execution_count": 2,
   "metadata": {},
   "outputs": [
    {
     "data": {
      "text/plain": [
       "0"
      ]
     },
     "execution_count": 2,
     "metadata": {},
     "output_type": "execute_result"
    }
   ],
   "source": [
    "2 1\n",
    "1 2 3 4 3 4 1 2"
   ]
  },
  {
   "cell_type": "markdown",
   "metadata": {},
   "source": [
    "### NMK"
   ]
  },
  {
   "cell_type": "code",
   "execution_count": 66,
   "metadata": {},
   "outputs": [
    {
     "name": "stdout",
     "output_type": "stream",
     "text": [
      "13 5 4\n",
      "-1\n"
     ]
    }
   ],
   "source": [
    "from collections import deque\n",
    "\n",
    "def get_increasing_part(target_length):\n",
    "    result = []\n",
    "    for _ in range(target_length - 1):\n",
    "        result.append(candidates.popleft())\n",
    "\n",
    "    if candidates:\n",
    "        result.append(candidates.pop())\n",
    "\n",
    "    return result\n",
    "\n",
    "def get_increasing_count(li):\n",
    "    dp = [(li[0], 1)]\n",
    "    for value in li[1:]:\n",
    "        candidates = [v[1] for v in dp if v[0] < value]\n",
    "\n",
    "        if not candidates:\n",
    "            dp.append((value, 1))\n",
    "        else:\n",
    "            dp.append((value, max(candidates) + 1))\n",
    "\n",
    "    return(max([v[1] for v in dp]))\n",
    "\n",
    "n, m, k = map(int, input().split())\n",
    "candidates = deque(range(1, n + 1))\n",
    "\n",
    "if m + k == n and m == k:\n",
    "    result = []\n",
    "    for i in range(1, n + 1, 2):\n",
    "        result.append(i + 1)\n",
    "        result.append(i)\n",
    "    print(*result)\n",
    "else:\n",
    "    try:\n",
    "        result = get_increasing_part(m)\n",
    "        if len(result) < n:\n",
    "            temp_result = get_increasing_part(k - 1) + list(candidates)\n",
    "            result += list(reversed(temp_result))\n",
    "    except:\n",
    "        print(-1)\n",
    "    else:\n",
    "        if get_increasing_count(result) != m:\n",
    "            print(-1)\n",
    "        elif get_increasing_count(result[::-1]) != k:\n",
    "            print(-1)\n",
    "        else:\n",
    "            print(*result)"
   ]
  },
  {
   "cell_type": "markdown",
   "metadata": {},
   "source": [
    "### 달리기"
   ]
  },
  {
   "cell_type": "code",
   "execution_count": 1,
   "metadata": {},
   "outputs": [
    {
     "name": "stdout",
     "output_type": "stream",
     "text": [
      "3 4 4\n",
      "....\n",
      "###.\n",
      "....\n",
      "1 1 3 1\n"
     ]
    }
   ],
   "source": []
  },
  {
   "cell_type": "code",
   "execution_count": null,
   "metadata": {},
   "outputs": [],
   "source": [
    "상하좌우로 확인해서 해당 방향으로 가는 것이 남아있으면 이어서 가고 남아있지 않으면 k 새로 시작하고 카운트는 상하좌우에서의 min_count + 1\n",
    "heap에다가는 해당 count들의 min_count로 넣는다."
   ]
  },
  {
   "cell_type": "code",
   "execution_count": 21,
   "metadata": {},
   "outputs": [
    {
     "name": "stdout",
     "output_type": "stream",
     "text": [
      "3 4 1\n",
      "....\n",
      "###.\n",
      "....\n",
      "1 1 3 1\n",
      "8\n"
     ]
    }
   ],
   "source": [
    "from heapq import heappush, heappop\n",
    "import sys\n",
    "# input = sys.stdin.readline\n",
    "\n",
    "n, m, k = map(int, input().rstrip().split())\n",
    "k -= 1\n",
    "\n",
    "li = [list(input().rstrip()) for _ in range(n)]\n",
    "sx, sy, ex, ey = map(lambda x: int(x) - 1, input().split())\n",
    "\n",
    "# 상, 하, 좌, 우\n",
    "dx = [-1, 1, 0, 0]\n",
    "dy = [0, 0, -1, 1]\n",
    "\n",
    "visited = [[[[0, float('inf')], [0, float('inf')], [0, float('inf')], [0, float('inf')]] for _ in range(m)] for _ in range(n)]\n",
    "visited[sx][sy] = [[0, 0], [0, 0], [0, 0], [0, 0]]\n",
    "\n",
    "heap = []\n",
    "\n",
    "for i in range(4):\n",
    "    nx = sx + dx[i]\n",
    "    ny = sy + dy[i]\n",
    "    \n",
    "    if nx < 0 or nx >= n or ny < 0 or ny >= m:\n",
    "        continue\n",
    "    if li[nx][ny] == '#':\n",
    "        continue\n",
    "    heappush(heap, (0, nx, ny))\n",
    "\n",
    "def assign(d):\n",
    "    if visited[nx][ny][d][0] > 0:\n",
    "        to_compare = min(visited[nx][ny][d][1], min_value + 1)\n",
    "        if visited[nx][ny][d][1] == to_compare:\n",
    "            visited[x][y][d][1] = to_compare\n",
    "            visited[x][y][d][0] = visited[nx][ny][d][0] - 1\n",
    "        else:\n",
    "            visited[x][y][d][1] = min_value + 1\n",
    "            visited[x][y][d][0] = k\n",
    "    else:\n",
    "        visited[x][y][d][1] = min_value + 1\n",
    "        visited[x][y][d][0] = k\n",
    "\n",
    "while heap:\n",
    "    count, x, y = heappop(heap)\n",
    "#     print(x, y)\n",
    "    \n",
    "    min_value = float('inf')\n",
    "    for i in range(4):\n",
    "        nx = x + dx[i]\n",
    "        ny = y + dy[i]\n",
    "        \n",
    "        if nx < 0 or nx >= n or ny < 0 or ny >= m:\n",
    "            continue\n",
    "        if li[nx][ny] == '#':\n",
    "            continue\n",
    "        min_value = min(min_value, min(visited[nx][ny][0][1], visited[nx][ny][1][1], visited[nx][ny][2][1], visited[nx][ny][3][1]))\n",
    "        \n",
    "    for i in range(4):\n",
    "        nx = x + dx[i]\n",
    "        ny = y + dy[i]\n",
    "        \n",
    "        if nx < 0 or nx >= n or ny < 0 or ny >= m:\n",
    "            continue\n",
    "        if i == 0:\n",
    "            assign(1)\n",
    "        elif i == 1:\n",
    "            assign(0)\n",
    "        elif i == 2:\n",
    "            assign(3)\n",
    "        else:\n",
    "            assign(2)\n",
    "      \n",
    "    current_min_value = min(visited[x][y][0][1], visited[x][y][1][1], visited[x][y][2][1], visited[x][y][3][1])\n",
    "    if x == ex and y == ey:\n",
    "        print(current_min_value)\n",
    "        break\n",
    "    \n",
    "    for i in range(4):\n",
    "        nx = x + dx[i]\n",
    "        ny = y + dy[i]\n",
    "        \n",
    "        if nx < 0 or nx >= n or ny < 0 or ny >= m:\n",
    "            continue\n",
    "        if li[nx][ny] == '#':\n",
    "            continue\n",
    "#         print(nx, ny, visited[nx][ny])\n",
    "        if visited[nx][ny][0][1] == visited[nx][ny][1][1] == visited[nx][ny][2][1] == visited[nx][ny][3][1] == float('inf'):\n",
    "            heappush(heap, (current_min_value, nx, ny))\n",
    "else:\n",
    "    print(-1)\n",
    "\n",
    "# for v in visited:\n",
    "#     print(v)"
   ]
  },
  {
   "cell_type": "markdown",
   "metadata": {},
   "source": [
    "### 별 찍기 11"
   ]
  },
  {
   "cell_type": "code",
   "execution_count": 24,
   "metadata": {},
   "outputs": [
    {
     "name": "stdout",
     "output_type": "stream",
     "text": [
      "*\n",
      "* *\n",
      "*****"
     ]
    }
   ],
   "source": [
    "li = ['*', '* *', '*****']\n",
    "\n",
    "def recur(n, needed):\n",
    "    if n == 1:\n",
    "        if needed == 1:\n",
    "            return li\n",
    "        else:\n",
    "            new_li = [''] * 3\n",
    "            new_li[0] = li[0] + ' ' * n + li[0]\n",
    "            new_li[1] = li[1] + ' ' * (n - 2) + li[1]\n",
    "            new_li[2] = li[2] + ' ' * (n - 4) + li[2]\n",
    "        \n",
    "    \n",
    "    if needed == 2:\n",
    "        \n",
    "        \n",
    "        \n",
    "    \n",
    "    if n == 1:\n",
    "        print()\n",
    "    else:\n",
    "        recur(n // 2, 1)\n",
    "        recur(n // 2, 2)\n",
    "    "
   ]
  },
  {
   "cell_type": "code",
   "execution_count": 40,
   "metadata": {},
   "outputs": [
    {
     "name": "stdout",
     "output_type": "stream",
     "text": [
      "12\n",
      "           *           \n",
      "          * *          \n",
      "         *****         \n",
      "        *     *        \n",
      "       * *   * *       \n",
      "      ***** *****      \n",
      "     *           *     \n",
      "    * *         * *    \n",
      "   *****       *****   \n",
      "  *     *     *     *  \n",
      " * *   * *   * *   * * \n",
      "***** ***** ***** *****\n"
     ]
    }
   ],
   "source": [
    "from math import log2\n",
    "\n",
    "n = int(input())\n",
    "li = ['*', '* *', '*****']\n",
    "for i in range(1, int(log2(n // 3)) + 1):\n",
    "    term = 3 * 2 ** i - 1\n",
    "    to_extend = []\n",
    "    for j in range(len(li)):\n",
    "        to_extend.append(li[j] + ' ' * term + li[j])\n",
    "        term -= 2\n",
    "    li.extend(to_extend)\n",
    "\n",
    "n -= 1\n",
    "for v in li:\n",
    "    print(' ' * n + v + ' ' * n)\n",
    "    n -= 1"
   ]
  },
  {
   "cell_type": "markdown",
   "metadata": {},
   "source": [
    "### 칸토어 집합 4779"
   ]
  },
  {
   "cell_type": "code",
   "execution_count": 60,
   "metadata": {},
   "outputs": [
    {
     "name": "stdout",
     "output_type": "stream",
     "text": [
      "0\n",
      "-\n",
      "1\n",
      "- -\n",
      "3\n",
      "- -   - -         - -   - -\n",
      "2\n",
      "- -   - -\n",
      "\n"
     ]
    }
   ],
   "source": [
    "def recur(n):    \n",
    "    if n == 0:\n",
    "        return '-'\n",
    "\n",
    "    num = 3 ** n\n",
    "    return recur(n - 1) + ' ' * (num // 3) + recur(n - 1)\n",
    "\n",
    "while True:\n",
    "    try:\n",
    "        n = int(input())\n",
    "        num = 3 ** n\n",
    "        print(recur(n))\n",
    "    except:\n",
    "        break"
   ]
  },
  {
   "cell_type": "markdown",
   "metadata": {},
   "source": [
    "### 같은 수로 만들기"
   ]
  },
  {
   "cell_type": "code",
   "execution_count": null,
   "metadata": {},
   "outputs": [],
   "source": [
    "2 3 2 1 4 2 4 5"
   ]
  },
  {
   "cell_type": "code",
   "execution_count": 77,
   "metadata": {},
   "outputs": [
    {
     "name": "stdout",
     "output_type": "stream",
     "text": [
      "8\n",
      "1\n",
      "4\n",
      "7\n",
      "4\n",
      "2\n",
      "3\n",
      "5\n",
      "7\n",
      "11\n"
     ]
    }
   ],
   "source": [
    "n = int(input())\n",
    "li = [int(input()) for _ in range(n)]\n",
    "\n",
    "count = 0\n",
    "while len(li) > 1:\n",
    "    new_li = [li[0]]\n",
    "    for v in li[1:]:\n",
    "        if v != new_li[-1]:\n",
    "            new_li.append(v)\n",
    "            \n",
    "    if len(new_li) == 1:\n",
    "        break\n",
    "        \n",
    "    li = new_li[:]\n",
    "    index = li.index(min(li))\n",
    "    if index == 0:\n",
    "        count += li[index + 1] - li[index]\n",
    "    elif index == len(li) - 1:\n",
    "        count += li[index - 1] - li[index]\n",
    "    else:\n",
    "        count += min(li[index + 1], li[index - 1]) - li[index]\n",
    "    del li[index]\n",
    "    \n",
    "print(count)"
   ]
  },
  {
   "cell_type": "markdown",
   "metadata": {},
   "source": [
    "### 인간 탑 쌓기"
   ]
  },
  {
   "cell_type": "code",
   "execution_count": null,
   "metadata": {},
   "outputs": [],
   "source": [
    "2 5\n",
    "3 3\n",
    "10 3\n",
    "\n",
    "하나를 선택하면 해당 무게를 제외한 모든 무게를 해당 사람이 모두 버텨야함\n",
    "그 후에 그 하나를 제거함\n",
    "\n",
    "\n",
    "\n",
    "\n",
    "2 - 3 = -1\n",
    "5 - 3 = 2\n",
    "\n",
    "\n",
    "\n",
    "3 3\n",
    "2 5\n",
    "10 3\n",
    "\n",
    "3 - 5 = -2\n",
    "5 - 3 = 2\n",
    "\n",
    "위에는 가벼울수록 좋음\n",
    "아래는 많이 버틸수록 좋음\n",
    "\n",
    "100000000000 1\n",
    "300 300\n",
    "\n",
    "300 300\n",
    "1000000000 1\n",
    "\n",
    "\n"
   ]
  },
  {
   "cell_type": "code",
   "execution_count": null,
   "metadata": {},
   "outputs": [],
   "source": [
    "가벼운 순으로 정렬\n",
    "못 버티는 순으로 정렬"
   ]
  },
  {
   "cell_type": "code",
   "execution_count": null,
   "metadata": {},
   "outputs": [],
   "source": [
    "가장 무거운 사람\n",
    "\n",
    "가장 잘 버티는 사람"
   ]
  },
  {
   "cell_type": "markdown",
   "metadata": {},
   "source": [
    "몸무게 - 버티는 정도 순으로 정렬"
   ]
  },
  {
   "cell_type": "code",
   "execution_count": 80,
   "metadata": {},
   "outputs": [
    {
     "name": "stdout",
     "output_type": "stream",
     "text": [
      "3\n",
      "10 3\n",
      "2 5\n",
      "3 3\n"
     ]
    }
   ],
   "source": [
    "n = int(input())\n",
    "li = [list(map(int, input().split())) for _ in range(n)]"
   ]
  },
  {
   "cell_type": "code",
   "execution_count": 82,
   "metadata": {},
   "outputs": [],
   "source": [
    "li.sort(key=lambda x: x[0] - x[1])"
   ]
  },
  {
   "cell_type": "code",
   "execution_count": 12,
   "metadata": {},
   "outputs": [
    {
     "name": "stdout",
     "output_type": "stream",
     "text": [
      "4\n",
      "50 150\n",
      "50 150\n",
      "50 150\n",
      "90 100\n",
      "111 [[50, 150], [50, 150], [50, 150]] 150 100\n",
      "111 [[50, 150], [50, 150]] 100 150\n",
      "111 [[50, 150]] 50 150\n",
      "50\n"
     ]
    }
   ],
   "source": [
    "# 틀렸음\n",
    "import sys\n",
    "# input = sys.stdin.readline\n",
    "\n",
    "n = int(input().rstrip())\n",
    "li = [list(map(int, input().rstrip().split())) for _ in range(n)]\n",
    "li.sort(key=lambda x: x[0] - x[1])\n",
    "\n",
    "total_weight = sum([v[0] for v in li])\n",
    "max_danger = -float('inf')\n",
    "while len(li) >= 2:\n",
    "    w, s = li.pop()\n",
    "    total_weight -= w\n",
    "    print('111', li, total_weight, s)\n",
    "    max_danger = max(max_danger, total_weight - s)\n",
    "\n",
    "if n == 1:\n",
    "    print(0)\n",
    "else:\n",
    "    print(max_danger)"
   ]
  },
  {
   "cell_type": "markdown",
   "metadata": {},
   "source": [
    "### 뮤탈리스크 12869"
   ]
  },
  {
   "cell_type": "code",
   "execution_count": null,
   "metadata": {},
   "outputs": [],
   "source": [
    "12 10 4\n",
    "3 7 3\n",
    "2\n",
    "0\n",
    "\n",
    "12 10 4\n",
    "9 1 3\n",
    "0"
   ]
  },
  {
   "cell_type": "code",
   "execution_count": 7,
   "metadata": {},
   "outputs": [
    {
     "name": "stdout",
     "output_type": "stream",
     "text": [
      "1\n",
      "60\n",
      "7\n"
     ]
    }
   ],
   "source": [
    "from collections import deque\n",
    "from itertools import permutations as pm\n",
    "\n",
    "n = int(input())\n",
    "li = list(map(int, input().split()))\n",
    "result = 0\n",
    "\n",
    "if n == 1:\n",
    "    result = li[0] // 9\n",
    "    if li[0] % 9 > 0:\n",
    "        result += 1\n",
    "elif n >= 2:\n",
    "    queue = deque()\n",
    "    queue.append((li, 0))\n",
    "    p = pm([9, 3, 1][:n], n)\n",
    "    p = list(p)\n",
    "    \n",
    "    st = set()\n",
    "    while queue:\n",
    "        li, count = queue.popleft()\n",
    "        if len([v for v in li if v >= 1]) == 0:\n",
    "            result = count\n",
    "            break\n",
    "        \n",
    "        for case in p:\n",
    "            temp = [li[i] - case[i] for i in range(n)]\n",
    "            temp2 = tuple(sorted(temp))\n",
    "            if temp2 in st:\n",
    "                continue\n",
    "            st.add(temp2)\n",
    "            queue.append((temp, count + 1))\n",
    "            \n",
    "print(result)    "
   ]
  },
  {
   "cell_type": "markdown",
   "metadata": {},
   "source": [
    "### 데스노트"
   ]
  },
  {
   "cell_type": "code",
   "execution_count": null,
   "metadata": {},
   "outputs": [],
   "source": [
    "2 2 2 2 2\n",
    "m 8\n",
    "\n",
    ".. .. ..\n",
    ".. ..\n",
    "\n",
    "... ...\n",
    "\n",
    "... . .\n",
    "... .\n",
    "... ...\n",
    "\n",
    "... .\n",
    ". ... .\n",
    "... ..."
   ]
  },
  {
   "cell_type": "markdown",
   "metadata": {},
   "source": [
    "### 최소비용 구하기 2 11779"
   ]
  },
  {
   "cell_type": "code",
   "execution_count": 7,
   "metadata": {},
   "outputs": [
    {
     "name": "stdout",
     "output_type": "stream",
     "text": [
      "4\n",
      "3\n",
      "1 4 5\n"
     ]
    }
   ],
   "source": [
    "from heapq import heappush, heappop\n",
    "import sys\n",
    "input = sys.stdin.readline\n",
    "\n",
    "n = int(input().rstrip())\n",
    "m = int(input().rstrip())\n",
    "li = [[] for _ in range(n)]\n",
    "\n",
    "for _ in range(m):\n",
    "    a, b, c = map(int, input().rstrip().split())\n",
    "    a -= 1 \n",
    "    b -= 1\n",
    "    li[a].append((b, c))\n",
    "    \n",
    "start, end = map(lambda x: int(x) - 1, input().rstrip().split())\n",
    "heap = []\n",
    "heappush(heap, (0, start))\n",
    "costs = [float('inf')] * n\n",
    "froms = [float('inf')] * n\n",
    "\n",
    "while heap:\n",
    "    cost, value = heappop(heap)\n",
    "    for v, c in li[value]:\n",
    "        ncost = cost + c\n",
    "        if ncost < costs[v]:\n",
    "            froms[v] = value\n",
    "            costs[v] = ncost\n",
    "            heappush(heap, (ncost, v))\n",
    "            \n",
    "num = end\n",
    "result = [end + 1]\n",
    "while num != start:\n",
    "    num = froms[num]\n",
    "    result.append(num + 1)\n",
    "    \n",
    "print(costs[end])\n",
    "print(len(result))\n",
    "print(*result[::-1])"
   ]
  },
  {
   "cell_type": "markdown",
   "metadata": {},
   "source": [
    "### Routing 13157"
   ]
  },
  {
   "cell_type": "code",
   "execution_count": 13,
   "metadata": {},
   "outputs": [
    {
     "name": "stdout",
     "output_type": "stream",
     "text": [
      "9 3\n",
      "2.0\n",
      "0 0\n",
      "0 1\n",
      "1 1\n",
      "2 1\n",
      "2 2\n",
      "3 2\n",
      "3 3\n",
      "4 1\n",
      "4 3\n",
      "1 2\n",
      "2 3\n",
      "3 4\n",
      "2828\n"
     ]
    }
   ],
   "source": [
    "from heapq import heappush, heappop\n",
    "import sys\n",
    "# input = sys.stdin.readline\n",
    "\n",
    "n, w = map(int, input().rstrip().split())\n",
    "m = float(input().rstrip())\n",
    "\n",
    "coords = [tuple(map(int, input().rstrip().split())) for _ in range(n)]\n",
    "li = [[] for _ in range(n)]\n",
    "st = set()\n",
    "for _ in range(w):\n",
    "    a, b = map(int, input().rstrip().split())\n",
    "    a -= 1\n",
    "    b -= 1\n",
    "    if a > b:\n",
    "        a, b = b, a\n",
    "    st.add((a, b))\n",
    "    li[a].append((b, 0))\n",
    "    li[b].append((a, 0))\n",
    "\n",
    "def get_dist(ca, cb):\n",
    "    x1, y1 = ca\n",
    "    x2, y2 = cb\n",
    "    \n",
    "    return (abs(x1 - x2) ** 2 + abs(y1 - y2) ** 2) ** 0.5\n",
    "\n",
    "for a in range(0, n):\n",
    "    for b in range(a + 1, n):\n",
    "        if (a, b) not in st:\n",
    "            dist = get_dist(coords[a], coords[b])\n",
    "            if dist <= m:\n",
    "                li[a].append((b, dist))\n",
    "                li[b].append((a, dist))\n",
    "                \n",
    "heap = []\n",
    "heappush(heap, (0, 0)) # dist, node\n",
    "dists = [float('inf')] * n\n",
    "dists[0] = 0\n",
    "\n",
    "while heap:\n",
    "    dist, value = heappop(heap)\n",
    "    \n",
    "    for v, d in li[value]:\n",
    "        ndist = dist + d\n",
    "        if ndist < dists[v]:\n",
    "            dists[v] = ndist\n",
    "            heappush(heap, (ndist, v))\n",
    "            \n",
    "print(int(dists[-1] * 1000))"
   ]
  },
  {
   "cell_type": "markdown",
   "metadata": {},
   "source": [
    "### 무엇을 아느냐가 아니라 누구를 아느냐가 문제다 9694"
   ]
  },
  {
   "cell_type": "code",
   "execution_count": null,
   "metadata": {},
   "outputs": [],
   "source": [
    "from heapq import heappush, heappop\n",
    "import sys\n",
    "# input = sys.stdin.readline\n",
    "\n",
    "for t in range(int(input().rstrip())):\n",
    "    n, m = map(int, input().rstrip().split())\n",
    "    li = [[] for _ in range(m)]\n",
    "    for _ in range(n):\n",
    "        a, b, c = map(int, input().rstrip().split())\n",
    "        li[a].append((b, c))\n",
    "        li[b].append((a, c))\n",
    "\n",
    "    heap = []\n",
    "    heappush(heap, (0, 0)) # dist, node\n",
    "\n",
    "    dists = [float('inf')] * m\n",
    "    dists[0] = 0\n",
    "    froms = [float('inf')] * m\n",
    "\n",
    "    while heap:\n",
    "        dist, value = heappop(heap)\n",
    "        for v, d in li[value]:\n",
    "            ndist = dist + d\n",
    "            if ndist < dists[v]:\n",
    "                froms[v] = value\n",
    "                dists[v] = ndist\n",
    "                heappush(heap, (ndist, v))\n",
    "                \n",
    "    if dists[m - 1] == float('inf'):\n",
    "        result = -1\n",
    "    else:\n",
    "        num = m - 1\n",
    "        result = [m - 1]\n",
    "        while num != 0:\n",
    "            num = froms[num]\n",
    "            result.append(num)\n",
    "        result.reverse()    \n",
    "        result = ' '.join(map(str, result))\n",
    "\n",
    "    print(f'Case #{t + 1}: {result}')"
   ]
  },
  {
   "cell_type": "markdown",
   "metadata": {},
   "source": [
    "### 배열 탈출 11909"
   ]
  },
  {
   "cell_type": "code",
   "execution_count": 26,
   "metadata": {},
   "outputs": [
    {
     "name": "stdout",
     "output_type": "stream",
     "text": [
      "5\n",
      "1 1 1 1 1\n",
      "1 1 1 1 1\n",
      "1 1 1 1 1\n",
      "1 1 1 1 1\n",
      "1 1 1 1 1\n",
      "8\n"
     ]
    }
   ],
   "source": [
    "# 시간 초과\n",
    "from heapq import heappush, heappop\n",
    "import sys\n",
    "input = sys.stdin.readline\n",
    "\n",
    "n = int(input().rstrip())\n",
    "li = [list(map(int, input().rstrip().split())) for _ in range(n)]\n",
    "\n",
    "dx = [1, 0]\n",
    "dy = [0, 1]\n",
    "\n",
    "heap = []\n",
    "heappush(heap, (0, 0, 0)) # cost, x, y\n",
    "\n",
    "costs = [[float('inf')] * n for _ in range(n)] \n",
    "costs[0][0] = 0\n",
    "\n",
    "while heap:\n",
    "    cost, x, y = heappop(heap)\n",
    "    for i in range(2):\n",
    "        nx = x + dx[i]\n",
    "        ny = y + dy[i]\n",
    "        if nx < 0 or nx >= n or ny < 0 or ny >= n:\n",
    "            continue\n",
    "            \n",
    "        ncost = cost + max(0, li[nx][ny] - li[x][y] + 1)\n",
    "        if ncost < costs[nx][ny]:\n",
    "            costs[nx][ny] = ncost\n",
    "            heappush(heap, (ncost, nx, ny))\n",
    "            \n",
    "print(costs[-1][-1])"
   ]
  },
  {
   "cell_type": "code",
   "execution_count": 29,
   "metadata": {},
   "outputs": [
    {
     "name": "stdout",
     "output_type": "stream",
     "text": [
      "4\n",
      "5 2 4 3\n",
      "6 5 1 2\n",
      "3 4 5 3\n",
      "7 4 3 1\n",
      "3\n"
     ]
    }
   ],
   "source": [
    "import sys\n",
    "# input = sys.stdin.readline\n",
    "\n",
    "n = int(input().rstrip())\n",
    "li = [list(map(int, input().rstrip().split())) for _ in range(n)]\n",
    "\n",
    "dp = [[float('inf')] * n for _ in range(n)]\n",
    "dp[0][0] = 0\n",
    "\n",
    "for i in range(n):\n",
    "    for j in range(n):\n",
    "        if i == 0 and j == 0:\n",
    "            continue\n",
    "        elif i == 0:\n",
    "            dp[i][j] = min(dp[i][j], dp[i][j - 1] + max(0, li[i][j] - li[i][j - 1] + 1))\n",
    "        elif j == 0:\n",
    "            dp[i][j] = min(dp[i][j], dp[i - 1][j] + max(0, li[i][j] - li[i - 1][j] + 1))\n",
    "        else:\n",
    "            dp[i][j] = min(dp[i][j], dp[i][j - 1] + max(0, li[i][j] - li[i][j - 1] + 1))\n",
    "            dp[i][j] = min(dp[i][j], dp[i - 1][j] + max(0, li[i][j] - li[i - 1][j] + 1))\n",
    "            \n",
    "\n",
    "            \n",
    "            print(dp[-1][-1])"
   ]
  },
  {
   "cell_type": "markdown",
   "metadata": {},
   "source": [
    "### 네트워크 복구 2211"
   ]
  },
  {
   "cell_type": "code",
   "execution_count": 35,
   "metadata": {
    "scrolled": true
   },
   "outputs": [
    {
     "name": "stdout",
     "output_type": "stream",
     "text": [
      "4 5\n",
      "1 2 1\n",
      "1 4 4\n",
      "1 3 2\n",
      "4 2 2\n",
      "4 3 3\n",
      "3\n",
      "1 2\n",
      "1 3\n",
      "2 4\n"
     ]
    }
   ],
   "source": [
    "from heapq import heappush, heappop\n",
    "import sys\n",
    "# input = sys.stdin.readline\n",
    "\n",
    "n, m = map(int, input().rstrip().split())\n",
    "li = [[] for _ in range(n)]\n",
    "\n",
    "for _ in range(m):\n",
    "    a, b, c = map(int, input().rstrip().split())\n",
    "    a -= 1\n",
    "    b -= 1\n",
    "    \n",
    "    li[a].append((b, c))\n",
    "    li[b].append((a, c))\n",
    "    \n",
    "heap = []\n",
    "heappush(heap, (0, 0)) # dist, node\n",
    "\n",
    "dists = [float('inf')] * n\n",
    "dists[0] = 0\n",
    "froms = [float('inf')] * n\n",
    "while heap:\n",
    "    dist, value = heappop(heap)\n",
    "    for v, d in li[value]:\n",
    "        ndist = dist + d\n",
    "        if ndist < dists[v]:\n",
    "            froms[v] = value\n",
    "            dists[v] = ndist\n",
    "            heappush(heap, (ndist, v))\n",
    "            \n",
    "result = []\n",
    "visited = [False] * n\n",
    "for i in range(1, n):\n",
    "    if visited[i]:\n",
    "        continue\n",
    "    visited[i] = True\n",
    "    num = i\n",
    "    while num != 0:\n",
    "        new_num = froms[num]\n",
    "        result.append((new_num, num))\n",
    "        if not visited[new_num]:\n",
    "            visited[new_num] = True\n",
    "            num = new_num\n",
    "        else:\n",
    "            break\n",
    "\n",
    "print(len(result))\n",
    "for v in result:\n",
    "    print(f'{v[0] + 1} {v[1] + 1}')"
   ]
  },
  {
   "cell_type": "markdown",
   "metadata": {},
   "source": [
    "### 닭싸움 팀 정하기 1765"
   ]
  },
  {
   "cell_type": "code",
   "execution_count": 1,
   "metadata": {},
   "outputs": [
    {
     "name": "stdout",
     "output_type": "stream",
     "text": [
      "6\n",
      "4\n",
      "E 1 4\n",
      "F 3 5\n",
      "F 4 6\n",
      "E 1 2\n",
      "3\n"
     ]
    }
   ],
   "source": [
    "import sys\n",
    "input = sys.stdin.readline\n",
    "\n",
    "n = int(input().rstrip())\n",
    "m = int(input().rstrip())\n",
    "\n",
    "parent = list(range(n))\n",
    "rank = [0] * n\n",
    "\n",
    "def find(v):\n",
    "    if parent[v] == v:\n",
    "        return v\n",
    "    parent[v] = find(parent[v])\n",
    "    return parent[v]\n",
    "\n",
    "def union(a, b):\n",
    "    if rank[a] >= rank[b]:\n",
    "        if rank[a] == rank[b]:\n",
    "            rank[a] += 1\n",
    "        parent[b] = a\n",
    "    else:\n",
    "        parent[a] = b\n",
    "        \n",
    "enemies = [[] for _ in range(n)]\n",
    "for _ in range(m):\n",
    "    rel, p, q = input().rstrip().split()\n",
    "    p = int(p) - 1\n",
    "    q = int(q) - 1\n",
    "    \n",
    "    if rel == 'F':\n",
    "        p = find(p)\n",
    "        q = find(q)\n",
    "        \n",
    "        if p != q:\n",
    "            union(p, q)\n",
    "    else:\n",
    "        enemies[p].append(q)\n",
    "        enemies[q].append(p)\n",
    "        \n",
    "for i in range(n):\n",
    "    for e in enemies[i]:\n",
    "        for e_of_e in enemies[e]:\n",
    "            if find(i) != find(e_of_e):\n",
    "                union(i, e_of_e)\n",
    "                \n",
    "print(len(set(parent)))"
   ]
  },
  {
   "cell_type": "markdown",
   "metadata": {},
   "source": [
    "### 약수들의 합 9506"
   ]
  },
  {
   "cell_type": "code",
   "execution_count": 7,
   "metadata": {},
   "outputs": [
    {
     "name": "stdout",
     "output_type": "stream",
     "text": [
      "6\n",
      "6 = 1 + 2 + 3\n",
      "12\n",
      "12 is NOT perfect.\n",
      "28\n",
      "28 = 1 + 2 + 4 + 7 + 14\n",
      "-1\n"
     ]
    }
   ],
   "source": [
    "while True:\n",
    "    n = int(input())\n",
    "    if n == -1:\n",
    "        break\n",
    "    \n",
    "    li = []\n",
    "    for i in range(1, n):\n",
    "        if n % i == 0:\n",
    "            li.append(i)\n",
    "    if sum(li) == n:\n",
    "        print(f'{n} = {\" + \".join(map(str, li))}')\n",
    "    else:\n",
    "        print(f'{n} is NOT perfect.')"
   ]
  },
  {
   "cell_type": "markdown",
   "metadata": {},
   "source": [
    "### 사분면 9610"
   ]
  },
  {
   "cell_type": "code",
   "execution_count": 9,
   "metadata": {},
   "outputs": [
    {
     "name": "stdout",
     "output_type": "stream",
     "text": [
      "5\n",
      "0 0\n",
      "0 1\n",
      "1 1\n",
      "3 -3\n",
      "2 2\n",
      "Q1: 2\n",
      "Q2: 0\n",
      "Q3: 0\n",
      "Q4: 1\n",
      "AXIS: 2\n"
     ]
    }
   ],
   "source": [
    "n = int(input())\n",
    "counts = [0, 0, 0, 0, 0] # 1, 2, 3, 4, 축\n",
    "for _ in range(n):\n",
    "    x, y = map(int, input().split())\n",
    "    \n",
    "    if x == 0 or y == 0:\n",
    "        counts[4] += 1\n",
    "    else:\n",
    "        if x > 0 and y > 0:\n",
    "            counts[0] += 1\n",
    "        elif x < 0 and y > 0:\n",
    "            counts[1] += 1\n",
    "        elif x < 0 and y < 0:\n",
    "            counts[2] += 1\n",
    "        else:\n",
    "            counts[3] += 1\n",
    "            \n",
    "for i in range(1, 5):\n",
    "    print(f'Q{i}: {counts[i - 1]}')\n",
    "print('AXIS:', counts[4])\n",
    "    "
   ]
  },
  {
   "cell_type": "markdown",
   "metadata": {},
   "source": [
    "### 소셜 네트워킹 어플리케이션 7511"
   ]
  },
  {
   "cell_type": "code",
   "execution_count": 11,
   "metadata": {},
   "outputs": [],
   "source": [
    "del input"
   ]
  },
  {
   "cell_type": "code",
   "execution_count": 19,
   "metadata": {
    "scrolled": true
   },
   "outputs": [
    {
     "name": "stdout",
     "output_type": "stream",
     "text": [
      "2\n",
      "Scenario 1:\n",
      "3\n",
      "1\n",
      "0 1\n",
      "2\n",
      "0 1\n",
      "1\n",
      "1 2\n",
      "0\n",
      "\n",
      "Scenario 2:\n",
      "5\n",
      "3\n",
      "0 1\n",
      "1 2\n",
      "3 4\n",
      "2\n",
      "0 2\n",
      "1\n",
      "1 3\n",
      "0\n"
     ]
    }
   ],
   "source": [
    "import sys\n",
    "# input = sys.stdin.readline\n",
    "\n",
    "def find(v):\n",
    "    if parent[v] == v:\n",
    "        return v\n",
    "    else:\n",
    "        parent[v] == find(parent[v])\n",
    "        return parent[v]\n",
    "    \n",
    "def union(a, b):\n",
    "    if rank[a] >= rank[b]:\n",
    "        if rank[a] == rank[b]:\n",
    "            rank[a] += 1\n",
    "        parent[b] = a\n",
    "    else:\n",
    "        parent[a] = b\n",
    "    \n",
    "T = int(input().rstrip())\n",
    "for t in range(T):\n",
    "    print(f'Scenario {t + 1}:')\n",
    "    n = int(input().rstrip())\n",
    "    k = int(input().rstrip())\n",
    "\n",
    "    parent = list(range(n))\n",
    "    rank = [0] * n\n",
    "\n",
    "    for _ in range(k):\n",
    "        a, b = map(int, input().rstrip().split())\n",
    "        a = find(a)\n",
    "        b = find(b)\n",
    "        if a != b:\n",
    "            union(a, b)\n",
    "\n",
    "    m = int(input().rstrip())\n",
    "    for _ in range(m):\n",
    "        u, v = map(int, input().rstrip().split())\n",
    "        u = find(u)\n",
    "        v = find(v)\n",
    "\n",
    "        if u == v:\n",
    "            print(1)\n",
    "        else:\n",
    "            print(0)"
   ]
  },
  {
   "cell_type": "markdown",
   "metadata": {},
   "source": [
    "### 적의 적 12893"
   ]
  },
  {
   "cell_type": "code",
   "execution_count": 24,
   "metadata": {},
   "outputs": [],
   "source": [
    "del input"
   ]
  },
  {
   "cell_type": "code",
   "execution_count": 26,
   "metadata": {},
   "outputs": [
    {
     "name": "stdout",
     "output_type": "stream",
     "text": [
      "3 3\n",
      "1 2\n",
      "2 3\n",
      "1 3\n",
      "0\n"
     ]
    }
   ],
   "source": [
    "import sys\n",
    "# input = sys.stdin.readline\n",
    "\n",
    "n, m = map(int, input().rstrip().split())\n",
    "\n",
    "parent = list(range(n))\n",
    "rank = [0] * n\n",
    "\n",
    "def find(v):\n",
    "    if parent[v] == v:\n",
    "        return v\n",
    "    else:\n",
    "        parent[v] = find(parent[v])\n",
    "        return parent[v]\n",
    "    \n",
    "def union(a, b):\n",
    "    if rank[a] >= rank[b]:\n",
    "        if rank[a] == rank[b]:\n",
    "            rank[a] += 1\n",
    "        parent[b] = a\n",
    "    else:\n",
    "        parent[a] = b\n",
    "\n",
    "for _ in range(m):\n",
    "    result = 1\n",
    "    \n",
    "    a, b = map(lambda x: int(x) - 1, input().rstrip().split())\n",
    "    if find(a) != find(b):\n",
    "        union(a, b)\n",
    "    else:\n",
    "        result = 0\n",
    "    \n",
    "print(result)"
   ]
  },
  {
   "cell_type": "code",
   "execution_count": 27,
   "metadata": {},
   "outputs": [
    {
     "data": {
      "text/plain": [
       "9000000"
      ]
     },
     "execution_count": 27,
     "metadata": {},
     "output_type": "execute_result"
    }
   ],
   "source": [
    "3000 * 3000"
   ]
  },
  {
   "cell_type": "markdown",
   "metadata": {},
   "source": [
    "### 선분 교차 2"
   ]
  },
  {
   "cell_type": "code",
   "execution_count": 41,
   "metadata": {},
   "outputs": [
    {
     "name": "stdout",
     "output_type": "stream",
     "text": [
      "1 1 5 5\n",
      "6 6 1 5\n",
      "0\n"
     ]
    }
   ],
   "source": [
    "asx, asy, aex, aey = map(int, input().split())\n",
    "bsx, bsy, bex, bey = map(int, input().split())\n",
    "\n",
    "# asy = a * asx + b\n",
    "# aey = a * aex + b\n",
    "\n",
    "# b = asy - a * asx\n",
    "\n",
    "# aey = a * aex + asy - a * asx\n",
    "\n",
    "# aey = a * (aex - asx) + asy\n",
    "# aey - asy = a * (aex - asx)\n",
    "\n",
    "def check():\n",
    "    if aex == asx:\n",
    "        a_of_a = float('inf')\n",
    "    else:\n",
    "        a_of_a = (aey - asy) / (aex - asx)\n",
    "\n",
    "    b_of_a = asy - a_of_a * asx\n",
    "\n",
    "    if bex == bsx:\n",
    "        a_of_b = float('inf')\n",
    "    else:\n",
    "        a_of_b = (bey - bsy) / (bex - bsx)\n",
    "\n",
    "    b_of_b = bsy - a_of_b * bsx\n",
    "\n",
    "    a_of_a = round(a_of_a, 6)\n",
    "    b_of_a = round(b_of_a, 6)\n",
    "    a_of_b = round(a_of_b, 6)\n",
    "    b_of_b = round(b_of_b, 6)\n",
    "    \n",
    "    if a_of_a == a_of_b:\n",
    "        if max(bsy, bey) < min(asy, aey) or max(asy, aey) < min(bsy, bey):\n",
    "            return 0\n",
    "        else:\n",
    "            return 1\n",
    "    else:\n",
    "        co_x = -(b_of_a - b_of_b) / (a_of_a - a_of_b)\n",
    "        co_y = a_of_a * co_x + b_of_a\n",
    "        \n",
    "        co_x = round(co_x, 6)\n",
    "        co_y = round(co_y, 6)\n",
    "\n",
    "        if (min(asx, aex) <= co_x <= max(asx, aex) and\n",
    "            min(asy, aey) <= co_y <= max(asy, aey) and\n",
    "            min(bsx, bex) <= co_x <= max(bsx, bex) and\n",
    "            min(bsy, bey) <= co_y <= max(bsy, bey)):\n",
    "            return 1\n",
    "        else:\n",
    "            return 0\n",
    "\n",
    "    \n",
    "print(check())\n",
    "\n",
    "\n",
    "##################3\n",
    "    \n",
    "    \n",
    "# y = a_of_a * x + b_of_a\n",
    "# y = a_of_b * x + b_of_b\n",
    "\n",
    "# 0 = (a_of_a - a_of_b) * x + (b_of_a - b_of_b)\n",
    "# (a_of_a - a_of_b) * x = -(b_of_a - b_of_b)\n",
    "\n",
    "# co_x = -(b_of_a - b_of_b) / (a_of_a - a_of_b)\n",
    "# co_y = a_of_a * co_x + b_of_a\n",
    "\n",
    "# print(co_x, co_y)"
   ]
  },
  {
   "cell_type": "code",
   "execution_count": 42,
   "metadata": {},
   "outputs": [
    {
     "name": "stdout",
     "output_type": "stream",
     "text": [
      "1 1 5 5\n",
      "1 5 5 1\n",
      "1\n"
     ]
    }
   ],
   "source": [
    "asx, asy, aex, aey = map(int, input().split())\n",
    "bsx, bsy, bex, bey = map(int, input().split())\n",
    "\n",
    "def check():\n",
    "    if aex == asx:\n",
    "        a_of_a = float('inf')\n",
    "    else:\n",
    "        a_of_a = (aey - asy) / (aex - asx)\n",
    "\n",
    "    b_of_a = asy - a_of_a * asx\n",
    "\n",
    "    if bex == bsx:\n",
    "        a_of_b = float('inf')\n",
    "    else:\n",
    "        a_of_b = (bey - bsy) / (bex - bsx)\n",
    "\n",
    "    b_of_b = bsy - a_of_b * bsx\n",
    "\n",
    "    a_of_a = round(a_of_a, 6)\n",
    "    b_of_a = round(b_of_a, 6)\n",
    "    a_of_b = round(a_of_b, 6)\n",
    "    b_of_b = round(b_of_b, 6)\n",
    "    \n",
    "    if a_of_a == a_of_b:\n",
    "        if max(bsy, bey) < min(asy, aey) or max(asy, aey) < min(bsy, bey):\n",
    "            return 0\n",
    "        else:\n",
    "            return 1\n",
    "    else:\n",
    "        co_x = -(b_of_a - b_of_b) / (a_of_a - a_of_b)\n",
    "        co_y = a_of_a * co_x + b_of_a\n",
    "        \n",
    "        co_x = round(co_x, 6)\n",
    "        co_y = round(co_y, 6)\n",
    "\n",
    "        if (min(asx, aex) <= co_x <= max(asx, aex) and\n",
    "            min(asy, aey) <= co_y <= max(asy, aey) and\n",
    "            min(bsx, bex) <= co_x <= max(bsx, bex) and\n",
    "            min(bsy, bey) <= co_y <= max(bsy, bey)):\n",
    "            return 1\n",
    "        else:\n",
    "            return 0\n",
    "\n",
    "    \n",
    "print(check())"
   ]
  }
 ],
 "metadata": {
  "kernelspec": {
   "display_name": "Python 3",
   "language": "python",
   "name": "python3"
  },
  "language_info": {
   "codemirror_mode": {
    "name": "ipython",
    "version": 3
   },
   "file_extension": ".py",
   "mimetype": "text/x-python",
   "name": "python",
   "nbconvert_exporter": "python",
   "pygments_lexer": "ipython3",
   "version": "3.7.3"
  }
 },
 "nbformat": 4,
 "nbformat_minor": 4
}
