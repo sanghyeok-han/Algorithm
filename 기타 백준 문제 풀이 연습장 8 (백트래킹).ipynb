{
 "cells": [
  {
   "cell_type": "markdown",
   "metadata": {},
   "source": [
    "### 감소하는 수 1038"
   ]
  },
  {
   "cell_type": "code",
   "execution_count": 14,
   "metadata": {},
   "outputs": [
    {
     "name": "stdout",
     "output_type": "stream",
     "text": [
      "18\n",
      "42\n"
     ]
    }
   ],
   "source": [
    "from collections import deque\n",
    "\n",
    "n = int(input())\n",
    "\n",
    "def bfs():\n",
    "    count = -1\n",
    "    result = -1\n",
    "    \n",
    "    queue = deque()\n",
    "    queue.extend(map(str, range(0, 10)))\n",
    "    \n",
    "    while queue:\n",
    "        case = queue.popleft()\n",
    "        count += 1\n",
    "        if count == n:\n",
    "            result = case\n",
    "        \n",
    "        for i in range(0, 10):\n",
    "            if case[-1] > str(i):\n",
    "                queue.append(case + str(i))\n",
    "                \n",
    "    return result\n",
    "\n",
    "result = bfs()\n",
    "print(result)"
   ]
  },
  {
   "cell_type": "markdown",
   "metadata": {},
   "source": [
    "### N과 M (2) 15650"
   ]
  },
  {
   "cell_type": "code",
   "execution_count": 40,
   "metadata": {},
   "outputs": [
    {
     "name": "stdout",
     "output_type": "stream",
     "text": [
      "4 2\n",
      "1 2\n",
      "1 3\n",
      "1 4\n",
      "2 3\n",
      "2 4\n",
      "3 4\n"
     ]
    }
   ],
   "source": [
    "from collections import deque\n",
    "\n",
    "n, m = map(int, input().split())\n",
    "\n",
    "li = tuple(([v], {w for w in range(1, n + 1)} - {v}) for v in range(1, n + 1))\n",
    "\n",
    "result_li = []\n",
    "\n",
    "def bfs():\n",
    "    queue = deque()\n",
    "    queue.extend(li)\n",
    "    \n",
    "    while queue:\n",
    "        case, remain_set = queue.popleft()\n",
    "        \n",
    "        if len(case) == m:\n",
    "            result_li.append(case)\n",
    "        else:\n",
    "            for v in remain_set:\n",
    "                if case[-1] < v:\n",
    "                    queue.append((case + [v], remain_set - set((v, ))))\n",
    "                    \n",
    "bfs()\n",
    "\n",
    "result_li.sort()\n",
    "result_li = [\" \".join(map(str, v)) for v in result_li]\n",
    "\n",
    "print(\"\\n\".join(result_li))"
   ]
  },
  {
   "cell_type": "markdown",
   "metadata": {},
   "source": [
    "### N과 M (3) 15651"
   ]
  },
  {
   "cell_type": "code",
   "execution_count": 45,
   "metadata": {},
   "outputs": [
    {
     "name": "stdout",
     "output_type": "stream",
     "text": [
      "3 1\n",
      "1\n",
      "2\n",
      "3\n"
     ]
    }
   ],
   "source": [
    "from collections import deque\n",
    "\n",
    "n, m = map(int, input().split())\n",
    "\n",
    "result_li = []\n",
    "\n",
    "def bfs():\n",
    "    queue = deque()\n",
    "    queue.append([])\n",
    "    \n",
    "    while queue:\n",
    "        case = queue.popleft()\n",
    "        \n",
    "        if len(case) == m:\n",
    "            result_li.append(case)\n",
    "        else:\n",
    "            for v in range(1, n + 1):\n",
    "                queue.append((case + [v]))\n",
    "                    \n",
    "bfs()\n",
    "\n",
    "result_li.sort()\n",
    "result_li = [\" \".join(map(str, v)) for v in result_li]\n",
    "\n",
    "print(\"\\n\".join(result_li))"
   ]
  },
  {
   "cell_type": "markdown",
   "metadata": {},
   "source": [
    "### N과 M (4) 15652"
   ]
  },
  {
   "cell_type": "code",
   "execution_count": 48,
   "metadata": {},
   "outputs": [
    {
     "name": "stdout",
     "output_type": "stream",
     "text": [
      "3 3\n",
      "1 1 1\n",
      "1 1 2\n",
      "1 1 3\n",
      "1 2 2\n",
      "1 2 3\n",
      "1 3 3\n",
      "2 2 2\n",
      "2 2 3\n",
      "2 3 3\n",
      "3 3 3\n"
     ]
    }
   ],
   "source": [
    "from collections import deque\n",
    "\n",
    "n, m = map(int, input().split())\n",
    "\n",
    "result_li = []\n",
    "\n",
    "def bfs():\n",
    "    queue = deque()\n",
    "    queue.append([])\n",
    "    \n",
    "    while queue:\n",
    "        case = queue.popleft()\n",
    "        \n",
    "        if len(case) == m:\n",
    "            result_li.append(case)\n",
    "        else:\n",
    "            for v in range(1, n + 1):\n",
    "                if case and case[-1] > v:\n",
    "                    continue\n",
    "                    \n",
    "                queue.append((case + [v]))\n",
    "                    \n",
    "bfs()\n",
    "\n",
    "result_li.sort()\n",
    "result_li = [\" \".join(map(str, v)) for v in result_li]\n",
    "\n",
    "print(\"\\n\".join(result_li))"
   ]
  },
  {
   "cell_type": "markdown",
   "metadata": {},
   "source": [
    "### N과 M (5) 15654"
   ]
  },
  {
   "cell_type": "code",
   "execution_count": 55,
   "metadata": {},
   "outputs": [
    {
     "name": "stdout",
     "output_type": "stream",
     "text": [
      "4 2\n",
      "1 3 5 7\n",
      "1 3\n",
      "1 5\n",
      "1 7\n",
      "3 1\n",
      "3 5\n",
      "3 7\n",
      "5 1\n",
      "5 3\n",
      "5 7\n",
      "7 1\n",
      "7 3\n",
      "7 5\n"
     ]
    }
   ],
   "source": [
    "from collections import deque\n",
    "\n",
    "n, m = map(int, input().split())\n",
    "li = tuple(map(int, input().split()))\n",
    "li = tuple(([v], {w for w in li} - {v}) for v in li)\n",
    "\n",
    "result_li = []\n",
    "\n",
    "def bfs():\n",
    "    queue = deque()\n",
    "    queue.extend(li)\n",
    "    \n",
    "    while queue:\n",
    "        case, remain_set = queue.popleft()\n",
    "        \n",
    "        if len(case) == m:\n",
    "            result_li.append(case)\n",
    "        else:\n",
    "            for v in remain_set:\n",
    "                queue.append((case + [v], remain_set - set((v,))))\n",
    "                    \n",
    "bfs()\n",
    "\n",
    "result_li.sort()\n",
    "result_li = [\" \".join(map(str, v)) for v in result_li]\n",
    "\n",
    "print(\"\\n\".join(result_li))"
   ]
  },
  {
   "cell_type": "markdown",
   "metadata": {},
   "source": [
    "### N과 M (6) 15655"
   ]
  },
  {
   "cell_type": "code",
   "execution_count": 60,
   "metadata": {},
   "outputs": [
    {
     "name": "stdout",
     "output_type": "stream",
     "text": [
      "4 4\n",
      "1231 1232 1233 1234\n",
      "1231 1232 1233 1234\n"
     ]
    }
   ],
   "source": [
    "from collections import deque\n",
    "\n",
    "n, m = map(int, input().split())\n",
    "li = tuple(map(int, input().split()))\n",
    "li = tuple(([v], {w for w in li} - {v}) for v in li)\n",
    "\n",
    "result_li = []\n",
    "\n",
    "def bfs():\n",
    "    queue = deque()\n",
    "    queue.extend(li)\n",
    "    \n",
    "    while queue:\n",
    "        case, remain_set = queue.popleft()\n",
    "        \n",
    "        if len(case) == m:\n",
    "            result_li.append(case)\n",
    "        else:\n",
    "            for v in remain_set:\n",
    "                if case[-1] < v:\n",
    "                    queue.append((case + [v], remain_set - set((v,))))\n",
    "                    \n",
    "bfs()\n",
    "\n",
    "result_li.sort()\n",
    "result_li = [\" \".join(map(str, v)) for v in result_li]\n",
    "\n",
    "print(\"\\n\".join(result_li))"
   ]
  },
  {
   "cell_type": "markdown",
   "metadata": {},
   "source": [
    "### N과 M (7) 15656"
   ]
  },
  {
   "cell_type": "code",
   "execution_count": 65,
   "metadata": {},
   "outputs": [
    {
     "name": "stdout",
     "output_type": "stream",
     "text": [
      "2 2\n",
      "3 4\n",
      "3 3\n",
      "3 4\n",
      "4 3\n",
      "4 4\n"
     ]
    }
   ],
   "source": [
    "from collections import deque\n",
    "\n",
    "n, m = map(int, input().split())\n",
    "li = tuple(map(int, input().split()))\n",
    "\n",
    "result_li = []\n",
    "\n",
    "def bfs():\n",
    "    queue = deque()\n",
    "    queue.append([])\n",
    "    \n",
    "    while queue:\n",
    "        case = queue.popleft()\n",
    "        \n",
    "        if len(case) == m:\n",
    "            result_li.append(case)\n",
    "        else:\n",
    "            for v in li:\n",
    "                queue.append((case + [v]))\n",
    "                    \n",
    "bfs()\n",
    "\n",
    "result_li.sort()\n",
    "result_li = [\" \".join(map(str, v)) for v in result_li]\n",
    "\n",
    "print(\"\\n\".join(result_li))"
   ]
  },
  {
   "cell_type": "markdown",
   "metadata": {},
   "source": [
    "### N과 M (8) 15657"
   ]
  },
  {
   "cell_type": "code",
   "execution_count": 71,
   "metadata": {},
   "outputs": [
    {
     "name": "stdout",
     "output_type": "stream",
     "text": [
      "2 2\n",
      "3 4\n",
      "3 3\n",
      "3 4\n",
      "4 4\n"
     ]
    }
   ],
   "source": [
    "from collections import deque\n",
    "\n",
    "n, m = map(int, input().split())\n",
    "li = tuple(map(int, input().split()))\n",
    "\n",
    "result_li = []\n",
    "\n",
    "def bfs():\n",
    "    queue = deque()\n",
    "    queue.append([])\n",
    "    \n",
    "    while queue:\n",
    "        case = queue.popleft()\n",
    "        \n",
    "        if len(case) == m:\n",
    "            result_li.append(case)\n",
    "        else:\n",
    "            for v in li:\n",
    "                if case and case[-1] > v:\n",
    "                    continue\n",
    "                queue.append((case + [v]))\n",
    "                    \n",
    "bfs()\n",
    "\n",
    "result_li.sort()\n",
    "result_li = [\" \".join(map(str, v)) for v in result_li]\n",
    "\n",
    "print(\"\\n\".join(result_li))"
   ]
  },
  {
   "cell_type": "markdown",
   "metadata": {},
   "source": [
    "### N과 M (9) 15663"
   ]
  },
  {
   "cell_type": "code",
   "execution_count": 11,
   "metadata": {},
   "outputs": [
    {
     "name": "stdout",
     "output_type": "stream",
     "text": [
      "3 1\n",
      "4 4 2\n",
      "2\n",
      "4\n"
     ]
    }
   ],
   "source": [
    "from collections import deque\n",
    "\n",
    "n, m = map(int, input().split())\n",
    "tp = tuple(map(int, input().split()))\n",
    "start_li = []\n",
    "for v in tp:\n",
    "    remain_li = list(tp)\n",
    "    remain_li.remove(v)\n",
    "    start_li.append(([v], remain_li))\n",
    "\n",
    "result_li = []\n",
    "\n",
    "def bfs():\n",
    "    queue = deque()\n",
    "    queue.extend(start_li)\n",
    "    \n",
    "    while queue:\n",
    "        case, remain_li = queue.popleft()\n",
    "        \n",
    "        if len(case) == m:\n",
    "            result_li.append(tuple(case))\n",
    "        else:\n",
    "            for v in remain_li:\n",
    "                new_remain_li = remain_li[:]\n",
    "                new_remain_li.remove(v)\n",
    "                queue.append((case + [v], new_remain_li))\n",
    "                    \n",
    "bfs()\n",
    "\n",
    "result_set = set(result_li)\n",
    "result_li = sorted(result_set)\n",
    "result_li = [\" \".join(map(str, v)) for v in result_li]\n",
    "\n",
    "print(\"\\n\".join(result_li))"
   ]
  },
  {
   "cell_type": "markdown",
   "metadata": {},
   "source": [
    "### N과 M (10) 15664"
   ]
  },
  {
   "cell_type": "code",
   "execution_count": 13,
   "metadata": {},
   "outputs": [
    {
     "name": "stdout",
     "output_type": "stream",
     "text": [
      "4 2\n",
      "9 7 9 1\n",
      "1 7\n",
      "1 9\n",
      "7 9\n",
      "9 9\n"
     ]
    }
   ],
   "source": [
    "from collections import deque\n",
    "\n",
    "n, m = map(int, input().split())\n",
    "tp = tuple(map(int, input().split()))\n",
    "start_li = []\n",
    "for v in tp:\n",
    "    remain_li = list(tp)\n",
    "    remain_li.remove(v)\n",
    "    start_li.append(([v], remain_li))\n",
    "\n",
    "result_li = []\n",
    "\n",
    "def bfs():\n",
    "    queue = deque()\n",
    "    queue.extend(start_li)\n",
    "    \n",
    "    while queue:\n",
    "        case, remain_li = queue.popleft()\n",
    "        \n",
    "        if len(case) == m:\n",
    "            result_li.append(tuple(case))\n",
    "        else:\n",
    "            for v in remain_li:\n",
    "                if case[-1] > v:\n",
    "                    continue\n",
    "                new_remain_li = remain_li[:]\n",
    "                new_remain_li.remove(v)\n",
    "                queue.append((case + [v], new_remain_li))\n",
    "                    \n",
    "bfs()\n",
    "\n",
    "result_set = set(result_li)\n",
    "result_li = sorted(result_set)\n",
    "result_li = [\" \".join(map(str, v)) for v in result_li]\n",
    "\n",
    "print(\"\\n\".join(result_li))"
   ]
  },
  {
   "cell_type": "markdown",
   "metadata": {},
   "source": [
    "### N과 M (11) 15665"
   ]
  },
  {
   "cell_type": "code",
   "execution_count": 16,
   "metadata": {},
   "outputs": [
    {
     "name": "stdout",
     "output_type": "stream",
     "text": [
      "4 2\n",
      "9 7 9 1\n",
      "1 1\n",
      "1 7\n",
      "1 9\n",
      "7 1\n",
      "7 7\n",
      "7 9\n",
      "9 1\n",
      "9 7\n",
      "9 9\n"
     ]
    }
   ],
   "source": [
    "from collections import deque\n",
    "\n",
    "n, m = map(int, input().split())\n",
    "li = tuple(map(int, input().split()))\n",
    "\n",
    "result_li = []\n",
    "\n",
    "def bfs():\n",
    "    queue = deque()\n",
    "    queue.append([])\n",
    "    \n",
    "    while queue:\n",
    "        case = queue.popleft()\n",
    "        \n",
    "        if len(case) == m:\n",
    "            result_li.append(tuple(case))\n",
    "        else:\n",
    "            for v in li:\n",
    "                queue.append((case + [v]))\n",
    "                    \n",
    "bfs()\n",
    "\n",
    "result_set = set(result_li)\n",
    "result_li = sorted(result_set)\n",
    "result_li = [\" \".join(map(str, v)) for v in result_li]\n",
    "\n",
    "print(\"\\n\".join(result_li))"
   ]
  },
  {
   "cell_type": "markdown",
   "metadata": {},
   "source": [
    "### N과 M (12) 15666"
   ]
  },
  {
   "cell_type": "code",
   "execution_count": 18,
   "metadata": {},
   "outputs": [
    {
     "name": "stdout",
     "output_type": "stream",
     "text": [
      "4 2\n",
      "9 7 9 1\n",
      "1 1\n",
      "1 7\n",
      "1 9\n",
      "7 7\n",
      "7 9\n",
      "9 9\n"
     ]
    }
   ],
   "source": [
    "from collections import deque\n",
    "\n",
    "n, m = map(int, input().split())\n",
    "li = tuple(map(int, input().split()))\n",
    "\n",
    "result_li = []\n",
    "\n",
    "def bfs():\n",
    "    queue = deque()\n",
    "    queue.append([])\n",
    "    \n",
    "    while queue:\n",
    "        case = queue.popleft()\n",
    "        \n",
    "        if len(case) == m:\n",
    "            result_li.append(tuple(case))\n",
    "        else:\n",
    "            for v in li:\n",
    "                if case and case[-1] > v:\n",
    "                    continue\n",
    "                queue.append((case + [v]))\n",
    "                    \n",
    "bfs()\n",
    "\n",
    "result_set = set(result_li)\n",
    "result_li = sorted(result_set)\n",
    "result_li = [\" \".join(map(str, v)) for v in result_li]\n",
    "\n",
    "print(\"\\n\".join(result_li))"
   ]
  },
  {
   "cell_type": "markdown",
   "metadata": {},
   "source": [
    "### 행운의 문자열 1342\n",
    "- 수학, 브루트포스, 조합론, 백트래킹"
   ]
  },
  {
   "cell_type": "code",
   "execution_count": 20,
   "metadata": {},
   "outputs": [
    {
     "name": "stdout",
     "output_type": "stream",
     "text": [
      "aabbbaa\n"
     ]
    }
   ],
   "source": [
    "li = list(input())"
   ]
  },
  {
   "cell_type": "code",
   "execution_count": 24,
   "metadata": {},
   "outputs": [],
   "source": [
    "l = len(li)"
   ]
  },
  {
   "cell_type": "code",
   "execution_count": 7,
   "metadata": {},
   "outputs": [
    {
     "name": "stdout",
     "output_type": "stream",
     "text": [
      "qwerr\n",
      "36\n"
     ]
    }
   ],
   "source": [
    "# 메모리 초과\n",
    "from collections import deque\n",
    "\n",
    "li = list(input())\n",
    "l = len(li)\n",
    "\n",
    "start_li = []\n",
    "for v in li:\n",
    "    remain_li = li[:]\n",
    "    remain_li.remove(v)\n",
    "    start_li.append(([v], remain_li))\n",
    "\n",
    "result_li = []\n",
    "    \n",
    "def bfs():  \n",
    "    queue = deque()\n",
    "    queue.extend(start_li)\n",
    "    \n",
    "    while queue:\n",
    "        case, remain_li = queue.popleft()\n",
    "        \n",
    "        if not remain_li:     \n",
    "            if len(case) == l:\n",
    "                result_li.append(tuple(case))\n",
    "        else:     \n",
    "            for v in remain_li:\n",
    "                if case[-1] != v:\n",
    "                    new_remain_li = remain_li[:]\n",
    "                    new_remain_li.remove(v)\n",
    "                    queue.append((case + [v], new_remain_li))\n",
    "                    \n",
    "bfs()\n",
    "print(len(set(result_li)))"
   ]
  },
  {
   "cell_type": "code",
   "execution_count": 38,
   "metadata": {},
   "outputs": [
    {
     "name": "stdout",
     "output_type": "stream",
     "text": [
      "qwerr\n",
      "36\n"
     ]
    }
   ],
   "source": [
    "from collections import deque\n",
    "import math\n",
    "\n",
    "\n",
    "def transform(i):\n",
    "    return li[i]\n",
    "\n",
    "def bfs():  \n",
    "    queue = deque()\n",
    "    queue.extend(start_li)\n",
    "\n",
    "    while queue:\n",
    "        case = queue.popleft()\n",
    "\n",
    "        if len(case) == l:\n",
    "            result_li.append(tuple(map(transform, case)))  \n",
    "        else:\n",
    "            remain_set =  indices_set - set(case)\n",
    "            for v in remain_set:\n",
    "                if li[case[-1]] != li[v]:\n",
    "                    queue.append(case + [v])\n",
    "\n",
    "li = list(input())\n",
    "l = len(li)\n",
    "\n",
    "if len(set(li)) == l:\n",
    "    print(math.factorial(l))\n",
    "else:\n",
    "    indices_set = {v for v in range(l)}\n",
    "\n",
    "    start_li = []\n",
    "    for i in range(len(li)):\n",
    "        start_li.append(([i]))\n",
    "        \n",
    "\n",
    "    result_li = []            \n",
    "    bfs()\n",
    "    print(len(set(result_li)))"
   ]
  },
  {
   "cell_type": "code",
   "execution_count": 17,
   "metadata": {},
   "outputs": [
    {
     "name": "stdout",
     "output_type": "stream",
     "text": [
      "aseerrr\n",
      "96\n"
     ]
    }
   ],
   "source": [
    "# 시간 초과\n",
    "from collections import deque\n",
    "import math\n",
    "\n",
    "\n",
    "def transform(i):\n",
    "    return li[i]\n",
    "\n",
    "def bfs():  \n",
    "    queue = deque()\n",
    "    queue.extend(start_li)\n",
    "\n",
    "    while queue:\n",
    "        case = queue.popleft()\n",
    "\n",
    "        if len(case) == l:\n",
    "            result_li.append(\"\".join(map(transform, case)))\n",
    "        else:\n",
    "            remain_set =  indices_set - set(case)\n",
    "            for v in remain_set:\n",
    "                if li[case[-1]] != li[v]:\n",
    "                    queue.append(case + [v])\n",
    "\n",
    "li = list(input())\n",
    "l = len(li)\n",
    "\n",
    "if len(set(li)) == l:\n",
    "    print(math.factorial(l))\n",
    "else:\n",
    "    indices_set = {v for v in range(l)}\n",
    "\n",
    "    start_li = []\n",
    "    visited_set = set()\n",
    "    for i in range(len(li)):\n",
    "        if li[i] not in visited_set:\n",
    "            visited_set.add(li[i])\n",
    "            start_li.append(([i]))\n",
    "        \n",
    "    result_li = []            \n",
    "    bfs()\n",
    "    print(len(set(result_li)))"
   ]
  },
  {
   "cell_type": "code",
   "execution_count": 18,
   "metadata": {},
   "outputs": [
    {
     "name": "stdout",
     "output_type": "stream",
     "text": [
      "aseerrr\n",
      "96\n"
     ]
    }
   ],
   "source": [
    "from collections import deque, Counter\n",
    "import math\n",
    "\n",
    "\n",
    "def bfs():  \n",
    "    queue = deque()\n",
    "    queue.extend(start_li)\n",
    "    \n",
    "    result = 0\n",
    "    while queue:\n",
    "        case, remain_s = queue.popleft()\n",
    "\n",
    "        if len(case) == l:\n",
    "            result += 1\n",
    "        else:\n",
    "            for v in remain_s:\n",
    "                if case[-1] != v:\n",
    "                    queue.append((case + v, remain_s.replace(v, \"\", 1)))\n",
    "    return result\n",
    "\n",
    "s = input()\n",
    "l = len(s)\n",
    "\n",
    "if len(set(s)) == l:\n",
    "    print(math.factorial(l))\n",
    "else:\n",
    "    c = Counter(s)\n",
    "    \n",
    "    start_li = []\n",
    "    for v in s:\n",
    "        start_li.append((v, s.replace(v, \"\", 1)))\n",
    "            \n",
    "    result = bfs()\n",
    "    for v in c.values():\n",
    "        result //= math.factorial(v)\n",
    "        \n",
    "    print(result)"
   ]
  },
  {
   "cell_type": "code",
   "execution_count": 2,
   "metadata": {},
   "outputs": [
    {
     "name": "stdout",
     "output_type": "stream",
     "text": [
      "qwerrr\n",
      "24\n"
     ]
    }
   ],
   "source": [
    "# 일단 포기\n",
    "from collections import deque, Counter\n",
    "import math\n",
    "\n",
    "\n",
    "def transform(i):\n",
    "    return li[i]\n",
    "\n",
    "def bfs():  \n",
    "    queue = deque()\n",
    "    queue.extend(start_li)\n",
    "    result = 0\n",
    "\n",
    "    while queue:\n",
    "        case = queue.popleft()\n",
    "\n",
    "        if len(case) == l:\n",
    "            result += 1 \n",
    "        else:\n",
    "            remain_set =  indices_set - set(case)\n",
    "            for v in remain_set:\n",
    "                if li[case[-1]] != li[v]:\n",
    "                    queue.append(case + [v])\n",
    "                    \n",
    "    return result\n",
    "\n",
    "li = list(input())\n",
    "l = len(li)\n",
    "\n",
    "if len(set(li)) == l:\n",
    "    print(math.factorial(l))\n",
    "else:\n",
    "    c = Counter(li)\n",
    "    indices_set = {v for v in range(l)}\n",
    "\n",
    "    start_li = []\n",
    "    for i in range(len(li)):\n",
    "        start_li.append(([i]))\n",
    "        \n",
    "\n",
    "    result = bfs()\n",
    "    for v in c.values():\n",
    "        result //= math.factorial(v)\n",
    "        \n",
    "    print(result)"
   ]
  },
  {
   "cell_type": "code",
   "execution_count": 20,
   "metadata": {},
   "outputs": [
    {
     "name": "stdout",
     "output_type": "stream",
     "text": [
      "aseerrr\n",
      "96\n"
     ]
    }
   ],
   "source": [
    "from collections import deque, Counter\n",
    "import math\n",
    "\n",
    "s = input()\n",
    "li = list(s)\n",
    "l = len(li)\n",
    "\n",
    "if len(set(li)) == l:\n",
    "    print(math.factorial(l))\n",
    "else:\n",
    "    start_li = [(v, iter(s.replace(v, \"\", 1))) for v in s]\n",
    "    \n",
    "    queue = deque()\n",
    "    queue.extend(start_li)\n",
    "    \n",
    "    count = 0\n",
    "    while queue:\n",
    "        case, remains_iter = queue.popleft()\n",
    "        remains = list(remains_iter)\n",
    "\n",
    "        if len(case) == l:\n",
    "            count += 1\n",
    "        else:\n",
    "            for v in remains:\n",
    "                if case[-1] != v:\n",
    "                    new_remains = remains[:]\n",
    "                    new_remains.remove(v)\n",
    "                    \n",
    "                    queue.append((case + v, iter(new_remains)))\n",
    "                    \n",
    "    duplicated_counts = (v for v in dict(Counter(s)).values() if v > 1)\n",
    "    for c in duplicated_counts:  \n",
    "        count //= math.factorial(c)\n",
    "\n",
    "    print(count)"
   ]
  },
  {
   "cell_type": "code",
   "execution_count": 27,
   "metadata": {},
   "outputs": [
    {
     "data": {
      "text/plain": [
       "'aseerrr'"
      ]
     },
     "execution_count": 27,
     "metadata": {},
     "output_type": "execute_result"
    }
   ],
   "source": [
    "s"
   ]
  },
  {
   "cell_type": "code",
   "execution_count": 30,
   "metadata": {},
   "outputs": [
    {
     "name": "stdout",
     "output_type": "stream",
     "text": [
      "aseerrr\n",
      "96\n"
     ]
    }
   ],
   "source": [
    "# 맞았음\n",
    "from itertools import permutations\n",
    "from collections import Counter\n",
    "import math\n",
    "\n",
    "s = input()\n",
    "li = list(s)\n",
    "l = len(li)\n",
    "\n",
    "if len(set(li)) == l:\n",
    "    print(math.factorial(l))\n",
    "else:   \n",
    "    count = 0\n",
    "    p = permutations(s)\n",
    "    for value in p:\n",
    "        former_v = value[0]\n",
    "        value = value[1:]\n",
    "        for v in value:\n",
    "            if v == former_v:\n",
    "                break\n",
    "            former_v = v\n",
    "        else:\n",
    "            count += 1\n",
    "\n",
    "    duplicated_counts = (v for v in dict(Counter(s)).values() if v > 1)\n",
    "    for c in duplicated_counts:  \n",
    "        count //= math.factorial(c)\n",
    "\n",
    "    print(count)"
   ]
  }
 ],
 "metadata": {
  "kernelspec": {
   "display_name": "Python 3",
   "language": "python",
   "name": "python3"
  },
  "language_info": {
   "codemirror_mode": {
    "name": "ipython",
    "version": 3
   },
   "file_extension": ".py",
   "mimetype": "text/x-python",
   "name": "python",
   "nbconvert_exporter": "python",
   "pygments_lexer": "ipython3",
   "version": "3.7.3"
  }
 },
 "nbformat": 4,
 "nbformat_minor": 4
}
