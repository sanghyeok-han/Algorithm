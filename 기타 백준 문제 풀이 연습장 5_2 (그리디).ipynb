{
 "cells": [
  {
   "cell_type": "markdown",
   "metadata": {},
   "source": [
    "### 독수리 16238"
   ]
  },
  {
   "cell_type": "code",
   "execution_count": null,
   "metadata": {},
   "outputs": [],
   "source": [
    "from collections import deque\n",
    "\n",
    "n = int(input())\n",
    "li = list(map(int, input().split()))\n",
    "\n",
    "to_subtract = 0\n",
    "total_score = 0\n",
    "while li:\n",
    "    deq = deque(li)\n",
    "\n",
    "    new_li = []\n",
    "    while deq:\n",
    "        if deq[0] <= deq[-1]:\n",
    "            new_li.append(deq.popleft())\n",
    "        else:\n",
    "            new_li.append(deq.pop())\n",
    "            \n",
    "    value = new_li.pop()\n",
    "    score = value - to_subtract\n",
    "    if score >= 1:\n",
    "        total_score += score\n",
    "        to_subtract += 1\n",
    "    else:\n",
    "        break\n",
    "    li = new_li[:]\n",
    "\n",
    "print(total_score)"
   ]
  },
  {
   "cell_type": "markdown",
   "metadata": {},
   "source": [
    "### 대결 1489"
   ]
  },
  {
   "cell_type": "code",
   "execution_count": 1,
   "metadata": {},
   "outputs": [
    {
     "name": "stdout",
     "output_type": "stream",
     "text": [
      "2\n",
      "5 8\n",
      "7 3\n"
     ]
    }
   ],
   "source": [
    "n = int(input())\n",
    "li1 = list(map(int, input().split()))\n",
    "li2 = list(map(int, input().split()))"
   ]
  },
  {
   "cell_type": "code",
   "execution_count": 3,
   "metadata": {},
   "outputs": [],
   "source": [
    "li1.sort()\n",
    "li2.sort(reverse=True)"
   ]
  },
  {
   "cell_type": "code",
   "execution_count": 6,
   "metadata": {},
   "outputs": [
    {
     "name": "stdout",
     "output_type": "stream",
     "text": [
      "4\n",
      "[0, 1]\n",
      "[]\n"
     ]
    }
   ],
   "source": [
    "indices = []\n",
    "total_score = 0\n",
    "for i in range(n):\n",
    "    for j in range(len(li2)):\n",
    "        if li1[i] > li2[j]:\n",
    "            total_score += 2\n",
    "            indices.append(i)\n",
    "            del li2[j]\n",
    "            break\n",
    "print(total_score)\n",
    "print(indices)\n",
    "print(li2)\n",
    "\n",
    "for "
   ]
  },
  {
   "cell_type": "code",
   "execution_count": 13,
   "metadata": {},
   "outputs": [
    {
     "name": "stdout",
     "output_type": "stream",
     "text": [
      "4\n",
      "1 10 7 4\n",
      "15 3 8 7\n",
      "5\n"
     ]
    }
   ],
   "source": [
    "n = int(input())\n",
    "li1 = list(map(int, input().split()))\n",
    "li2 = list(map(int, input().split()))\n",
    "\n",
    "li1.sort()\n",
    "li2.sort(reverse=True)\n",
    "\n",
    "indices = []\n",
    "total_score = 0\n",
    "for i in range(n):\n",
    "    for j in range(len(li2)):\n",
    "        if li1[i] > li2[j]:\n",
    "            total_score += 2\n",
    "            indices.append(i)\n",
    "            del li2[j]\n",
    "            break\n",
    "            \n",
    "for index in reversed(indices):\n",
    "    del li1[index]\n",
    "    \n",
    "for i in range(len(li1)):\n",
    "    for j in range(len(li2)):\n",
    "        if li1[i] == li2[j]:\n",
    "            total_score += 1\n",
    "            del li2[j]\n",
    "            break\n",
    "            \n",
    "print(total_score)"
   ]
  },
  {
   "cell_type": "markdown",
   "metadata": {},
   "source": [
    "### 축구 게임 13560"
   ]
  },
  {
   "cell_type": "code",
   "execution_count": null,
   "metadata": {},
   "outputs": [],
   "source": [
    "5 4 4 1 1 0\n",
    "1 -> -1"
   ]
  },
  {
   "cell_type": "code",
   "execution_count": 42,
   "metadata": {},
   "outputs": [
    {
     "name": "stdout",
     "output_type": "stream",
     "text": [
      "7\n",
      "6 5 4 4 1 1 0\n",
      "-1\n"
     ]
    }
   ],
   "source": [
    "n = int(input())\n",
    "li = list(map(int, input().split()))\n",
    "li.sort(reverse=True)\n",
    "if li[-2] == 0:\n",
    "    print(-1)\n",
    "elif li[1] == n - 1:\n",
    "    print(-1)\n",
    "elif sum(li) != (n - 1) * n // 2:\n",
    "    print(-1)\n",
    "elif li[0] == n - 1:\n",
    "    result = 1\n",
    "    max_possible = n - 1\n",
    "    for i in range(n):\n",
    "        if li[i] == max_possible:\n",
    "            max_possible -= 1\n",
    "        elif li[i] > max_possible:\n",
    "                result = -1\n",
    "                break\n",
    "        else:\n",
    "            break\n",
    "    print(result)\n",
    "else:\n",
    "    print(1)"
   ]
  },
  {
   "cell_type": "markdown",
   "metadata": {},
   "source": [
    "### 제271회 웰노운컵 16225\n",
    "- 그리디, 정렬, 우선순위 큐"
   ]
  },
  {
   "cell_type": "code",
   "execution_count": null,
   "metadata": {},
   "outputs": [],
   "source": [
    "from heapq import heappush, heappop\n",
    "\n",
    "n = int(input())\n",
    "A = list(map(int, input().split()))\n",
    "B = list(map(int, input().split()))\n",
    "li = sorted(zip(A, B), key=lambda x: x[1])\n",
    "li = [v[0] for v in li]\n",
    "\n",
    "heap = []\n",
    "to_delete = []\n",
    "\n",
    "to_delete.append(li.pop())\n",
    "for value in reversed(li):\n",
    "    heappush(heap, value)\n",
    "    if len(heap) > len(to_delete):\n",
    "        to_delete.append(heappop(heap))\n",
    "    \n",
    "print(sum(heap))"
   ]
  },
  {
   "cell_type": "markdown",
   "metadata": {},
   "source": [
    "### 수 지우기 1467"
   ]
  },
  {
   "cell_type": "code",
   "execution_count": 2,
   "metadata": {},
   "outputs": [
    {
     "name": "stdout",
     "output_type": "stream",
     "text": [
      "63454136\n",
      "344\n",
      "65136\n"
     ]
    }
   ],
   "source": [
    "# 틀렸음\n",
    "li = list(input())\n",
    "to_deletes = list(input())\n",
    "to_deletes.sort(reverse=True)\n",
    "\n",
    "n = len(li)\n",
    "for value in to_deletes:\n",
    "    candidates = []\n",
    "    for i in range(n):\n",
    "        if value == li[i]:\n",
    "            candidates.append(i)\n",
    "        \n",
    "    max_index = float('inf')\n",
    "    max_value = 0\n",
    "    for c in candidates:\n",
    "        new_li = li[:c] + li[c + 1:]\n",
    "        new_value = int(''.join(new_li))\n",
    "        \n",
    "        if new_value > max_value:\n",
    "            max_value = new_value\n",
    "            max_index = c\n",
    "    n -= 1\n",
    "    del li[max_index]\n",
    "    \n",
    "print(''.join(li))"
   ]
  },
  {
   "cell_type": "code",
   "execution_count": 10,
   "metadata": {},
   "outputs": [
    {
     "name": "stdout",
     "output_type": "stream",
     "text": [
      "31\n"
     ]
    }
   ],
   "source": [
    "6344136\n",
    "344\n",
    "오름차순시 6136 -> 6316\n",
    "\n",
    "1322431\n",
    "322\n",
    "내림차순시 1341 -> 1431\n",
    "\n",
    "24824\n",
    "24\n",
    "\n",
    "24324\n",
    "24\n",
    "\n",
    "53585\n",
    "5\n",
    "5385"
   ]
  },
  {
   "cell_type": "code",
   "execution_count": null,
   "metadata": {},
   "outputs": [],
   "source": [
    "2163441362\n",
    "2344\n",
    "\n",
    "251634413621\n",
    "23445\n",
    "\n",
    "13224321\n",
    "322\n",
    "\n",
    "14321"
   ]
  },
  {
   "cell_type": "code",
   "execution_count": 9,
   "metadata": {},
   "outputs": [
    {
     "name": "stdout",
     "output_type": "stream",
     "text": [
      "74734582982\n",
      "4782\n",
      "7435892\n"
     ]
    }
   ],
   "source": [
    "from collections import Counter\n",
    "\n",
    "s = input()\n",
    "to_deletes = input()\n",
    "s_c = Counter(s)\n",
    "to_deletes_c = Counter(to_deletes)\n",
    "\n",
    "early_deletes = []\n",
    "for key, value in to_deletes_c.items():\n",
    "    if value - s_c[key] == 0:\n",
    "        early_deletes.append(key)\n",
    "\n",
    "for value in early_deletes:\n",
    "    s = s.replace(value, '')\n",
    "    to_deletes = to_deletes.replace(value, '')\n",
    "\n",
    "to_deletes = sorted(to_deletes, reverse=True)\n",
    "li = list(s)\n",
    "n = len(li)\n",
    "for value in to_deletes:\n",
    "    candidates = []\n",
    "    for i in range(n):\n",
    "        if value == li[i]:\n",
    "            candidates.append(i)\n",
    "        \n",
    "    max_index = float('inf')\n",
    "    max_value = 0\n",
    "    for c in candidates:\n",
    "        new_li = li[:c] + li[c + 1:]\n",
    "        new_value = int(''.join(new_li))\n",
    "        \n",
    "        if new_value > max_value:\n",
    "            max_value = new_value\n",
    "            max_index = c\n",
    "    n -= 1\n",
    "    del li[max_index]\n",
    "    \n",
    "print(''.join(li))"
   ]
  },
  {
   "cell_type": "code",
   "execution_count": null,
   "metadata": {},
   "outputs": [],
   "source": [
    "74734\n",
    "47\n",
    "734 -> 743"
   ]
  },
  {
   "cell_type": "code",
   "execution_count": null,
   "metadata": {},
   "outputs": [],
   "source": [
    "582982\n",
    "82\n",
    "5892 -> 5982"
   ]
  },
  {
   "cell_type": "code",
   "execution_count": null,
   "metadata": {},
   "outputs": [],
   "source": [
    "74734582982\n",
    "4782\n",
    "7345982, 7435892-> 7435982"
   ]
  },
  {
   "cell_type": "markdown",
   "metadata": {},
   "source": [
    "### 버스 1161\n",
    "- 자료 구조, 우선순위 큐"
   ]
  },
  {
   "cell_type": "code",
   "execution_count": 57,
   "metadata": {},
   "outputs": [
    {
     "name": "stdout",
     "output_type": "stream",
     "text": [
      "4 15 4\n",
      "1 7 2\n",
      "2 10 2\n",
      "10 12 3\n",
      "8 14 4\n",
      "[(-7, 2)] 1 7 cumul: 2 total: 2\n",
      "[(-10, 2), (-7, 2)] 2 10 cumul: 4 total: 4\n",
      "[(-12, 3), (-7, 1)] 10 12 cumul: 4 total: 7\n",
      "[(-14, 1), (-12, 3)] 8 14 cumul: 4 total: 8\n",
      "8\n"
     ]
    }
   ],
   "source": [
    "from heapq import heappush, heappop\n",
    "import sys\n",
    "# input = sys.stdin.readline\n",
    "\n",
    "k, n, c = map(int, input().rstrip().split()) \n",
    "li = [list(map(int, input().rstrip().split())) for _ in range(k)]\n",
    "li.sort(key=lambda x: (x[1], x[0]))\n",
    "\n",
    "heap = []\n",
    "total = 0\n",
    "cumul = 0\n",
    "for i in range(k):\n",
    "    start, end, popul = li[i]\n",
    "    \n",
    "    if not heap:\n",
    "        heappush(heap, (-end, min(c, popul)))\n",
    "        cumul += min(c, popul)\n",
    "        total = cumul\n",
    "    else:\n",
    "        temp = []\n",
    "        total_newly_added = 0\n",
    "        while heap:\n",
    "            former_end, p = heappop(heap)\n",
    "            former_end = -former_end\n",
    "            \n",
    "            if former_end <= start:\n",
    "                to_delete = min(popul, p)\n",
    "                popul -= to_delete\n",
    "                cumul -= to_delete\n",
    "                p -= to_delete\n",
    "                total_newly_added += to_delete\n",
    "                if popul == 0:\n",
    "                    if p > 0:\n",
    "                        heap.append((-former_end, p))\n",
    "                    break\n",
    "            else:\n",
    "                temp.append((former_end, p))\n",
    "                \n",
    "        for t in temp:\n",
    "            heappush(heap, (-t[0], t[1]))\n",
    "            \n",
    "        cumul += total_newly_added\n",
    "        if cumul < c:\n",
    "            total_newly_added += min(popul, c - cumul)\n",
    "            cumul += min(popul, c - cumul)\n",
    "        total += total_newly_added\n",
    "        \n",
    "        if total_newly_added > 0:\n",
    "            heappush(heap, (-end, total_newly_added))\n",
    "            \n",
    "#     print(heap, start, end, 'cumul:', cumul, 'total:', total)\n",
    "        \n",
    "print(total)"
   ]
  },
  {
   "cell_type": "code",
   "execution_count": null,
   "metadata": {},
   "outputs": [],
   "source": [
    "5 15 4\n",
    "1 3 1\n",
    "4 5 1\n",
    "6 7 1\n",
    "8 9 1\n",
    "7 15 4\n",
    "[(-3, 1)] 1 3\n",
    "[(-5, 1)] 4 5\n",
    "[(-7, 1)] 6 7\n",
    "[(-9, 1)] 8 9\n",
    "[(-9, 1)] 7 15\n",
    "4"
   ]
  },
  {
   "cell_type": "markdown",
   "metadata": {},
   "source": [
    "### 같은 수로 만들기 2 13146"
   ]
  },
  {
   "cell_type": "code",
   "execution_count": 27,
   "metadata": {},
   "outputs": [
    {
     "name": "stdout",
     "output_type": "stream",
     "text": [
      "1\n",
      "4\n",
      "0\n"
     ]
    }
   ],
   "source": [
    "# 맞았음, 링크드 리스트 형식을 리스트로 직접 구현하였음\n",
    "from heapq import heapify, heappush, heappop\n",
    "import sys\n",
    "# input = sys.stdin.readline\n",
    "\n",
    "n = int(input().rstrip())\n",
    "li = [] # [value, former_index, next_index]\n",
    "\n",
    "former_value = float('inf')\n",
    "current_index = 0\n",
    "for _ in range(n):\n",
    "    value = int(input().rstrip())\n",
    "    if value != former_value:\n",
    "        former_value = value\n",
    "        li.append([value, current_index - 1, current_index + 1])\n",
    "        current_index += 1\n",
    "\n",
    "li[0][1] = li[-1][2] = None\n",
    "\n",
    "heap = [(li[i][0], i) for i in range(len(li))]\n",
    "heapify(heap)\n",
    "\n",
    "total_add_count = 0\n",
    "while len(heap) > 1:\n",
    "    value, index = heappop(heap)\n",
    "    min_around_value = float('inf')\n",
    "    for i in range(1, 3):\n",
    "        if li[index][i] != None:\n",
    "            min_around_value = min(min_around_value, li[li[index][i]][0])\n",
    "            li[li[index][i]][3 - i] = li[index][3 - i]\n",
    "    total_add_count += min_around_value - value\n",
    "    \n",
    "print(total_add_count)"
   ]
  },
  {
   "cell_type": "markdown",
   "metadata": {},
   "source": [
    "### Pen Pineapple Apple Pen  15881"
   ]
  },
  {
   "cell_type": "code",
   "execution_count": null,
   "metadata": {},
   "outputs": [],
   "source": [
    "n = int(input())\n",
    "s = input()\n",
    "\n",
    "count = 0\n",
    "current_check = 0\n",
    "for value in s:\n",
    "    if current_check <= 2:           \n",
    "        if current_check == 1:\n",
    "            if value == 'P':\n",
    "                current_check += 1\n",
    "            else:\n",
    "                current_check = 0\n",
    "        elif current_check == 2:\n",
    "            if value == 'A':\n",
    "                current_check += 1\n",
    "            else:\n",
    "                current_check = 0\n",
    "        if value == 'p':\n",
    "            current_check = 1    \n",
    "    else:\n",
    "        current_check = 0\n",
    "        if value == 'p':\n",
    "            count += 1\n",
    "            \n",
    "print(count)"
   ]
  },
  {
   "cell_type": "markdown",
   "metadata": {},
   "source": [
    "### 숫자 게임 2923\n",
    "- 두 포인터"
   ]
  },
  {
   "cell_type": "raw",
   "metadata": {},
   "source": [
    "하나는 내림차순, 하나는 오름차순으로 두고 차례대로 더한 최댓값을 구해야 한다.\n",
    "시간 초과나는 해결 방법: 받을 때마다 새로 정렬 후 하나는 처음부터 하나는 끝부터\n",
    "                         인덱스를 돌리면서 값을 더해나가며 최댓값을 구한다.\n",
    "                         \n",
    "숫자가 1부터 100까지임을 이용\n",
    "A = [0] * 101\n",
    "B = [0] * 101\n",
    "\n",
    "A는 1부터 오른쪽으로 B는 100부터 왼쪽으로\n",
    "만약 값이 둘 다 0이면 각각 오른쪽, 왼쪽으로 보냄. 한쪽은 값 있고 다른 쪽은 값 없으면 없는 쪽이 이동함\n",
    "만약 두 값이 같으면 해당 인덱스의 합 max 비교하고 각각 오른쪽, 왼쪽으로 보냄, 만약 한 쪽 값이 더 크면 차 만큼 기회 저장해두었다가 다음과 비교함 기회 없는 쪽은 이동함. 역전되거나 범위 벗어나게되면 종료함. Max값 출력함.\n",
    "\n",
    "remain으로 갱신하는 방식을 써서 값을 누적시키는 배열에서 직접 빼지 않도록 함\n",
    "\n",
    "값 있는 것들끼리 만났을시 remain에 해당 값들을 할당함. remain이 서로 같을시 다 0으로 만들고 비교 후 넘김.\n",
    "remain이 서로 다를시 큰거에서 작은거 빼고 remain에 남김 없는 쪽은 넘어가서 다시 채움 "
   ]
  },
  {
   "cell_type": "code",
   "execution_count": 14,
   "metadata": {},
   "outputs": [
    {
     "name": "stdout",
     "output_type": "stream",
     "text": [
      "4\n",
      "1 4\n",
      "5\n",
      "5 5\n",
      "9\n",
      "5 5\n",
      "10\n",
      "5 5\n",
      "10\n"
     ]
    }
   ],
   "source": [
    "import sys\n",
    "# input = sys.stdin.readline\n",
    "\n",
    "n = int(input().rstrip())\n",
    "A = [0] * 102\n",
    "B = [0] * 102\n",
    "for _ in range(n):\n",
    "    a_value, b_value = map(int, input().rstrip().split())\n",
    "    A[a_value] += 1\n",
    "    B[b_value] += 1\n",
    "    \n",
    "    a_index = 1\n",
    "    b_index = 100\n",
    "    \n",
    "    a_remain = A[a_index]\n",
    "    b_remain = B[b_index]\n",
    "    \n",
    "    max_value = 0\n",
    "    while 1 <= b_index and a_index <= 100:\n",
    "        if a_remain == 0:\n",
    "            a_index += 1\n",
    "            a_remain = A[a_index]\n",
    "            continue\n",
    "        if b_remain == 0:\n",
    "            b_index -= 1\n",
    "            b_remain = B[b_index]\n",
    "            continue\n",
    "        if a_remain == b_remain:\n",
    "            max_value = max(max_value, a_index + b_index)\n",
    "            a_index += 1\n",
    "            b_index -= 1\n",
    "            a_remain = A[a_index]\n",
    "            b_remain = B[b_index]\n",
    "            continue\n",
    "        if a_remain > b_remain:\n",
    "            max_value = max(max_value, a_index + b_index)\n",
    "            a_remain -= b_remain\n",
    "            b_index -= 1\n",
    "            b_remain = B[b_index]\n",
    "            continue\n",
    "        max_value = max(max_value, a_index + b_index)\n",
    "        b_remain -= a_remain\n",
    "        a_index += 1\n",
    "        a_remain = A[a_index]\n",
    "        \n",
    "    print(max_value)   "
   ]
  },
  {
   "cell_type": "code",
   "execution_count": null,
   "metadata": {},
   "outputs": [],
   "source": [
    "4\n",
    "1 1\n",
    "9 8\n",
    "9 9\n",
    "10 10\n",
    "\n",
    "답:\n",
    "2\n",
    "10\n",
    "17\n",
    "18"
   ]
  },
  {
   "cell_type": "markdown",
   "metadata": {},
   "source": [
    "### 수열 줄이기 3366"
   ]
  },
  {
   "cell_type": "raw",
   "metadata": {},
   "source": [
    "처음에 오름차순 케이스들을 먼저 처리하고 내림차순을 뒤에서부터 처리하면 어떨까?\n",
    "\n",
    "반례: 4 1 5\n",
    "\n",
    "합쳤을 때의 max 값이 가장 작은 값들부터 합침\n",
    "근데 리스트의 각 원소들을 max(li[i], li[i + 1])했을 때의 경우의 합과 같은 것으로 보임"
   ]
  },
  {
   "cell_type": "code",
   "execution_count": null,
   "metadata": {},
   "outputs": [],
   "source": [
    "import sys\n",
    "input = sys.stdin.readline\n",
    "\n",
    "n = int(input().rstrip())\n",
    "li = [int(input().rstrip()) for _ in range(n)]\n",
    "total = 0\n",
    "for i in range(1, n):\n",
    "    total += max(li[i - 1], li[i])\n",
    "    \n",
    "print(total)"
   ]
  },
  {
   "cell_type": "code",
   "execution_count": 6,
   "metadata": {},
   "outputs": [
    {
     "name": "stdout",
     "output_type": "stream",
     "text": [
      "3\n",
      "1\n",
      "2\n",
      "3\n",
      "5\n"
     ]
    }
   ],
   "source": [
    "# 숏코딩\n",
    "import sys;r=sys.stdin.readline;l=lambda _:int(r());n=l(1);a=[l(1)for _ in range(n)];print(sum((max(a[i-1],a[i])for i in range(1,n)))if a else 0)"
   ]
  }
 ],
 "metadata": {
  "kernelspec": {
   "display_name": "Python 3",
   "language": "python",
   "name": "python3"
  },
  "language_info": {
   "codemirror_mode": {
    "name": "ipython",
    "version": 3
   },
   "file_extension": ".py",
   "mimetype": "text/x-python",
   "name": "python",
   "nbconvert_exporter": "python",
   "pygments_lexer": "ipython3",
   "version": "3.7.3"
  }
 },
 "nbformat": 4,
 "nbformat_minor": 4
}
