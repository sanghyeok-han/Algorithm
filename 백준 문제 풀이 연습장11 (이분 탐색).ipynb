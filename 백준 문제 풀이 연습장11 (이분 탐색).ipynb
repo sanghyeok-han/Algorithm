{
 "cells": [
  {
   "cell_type": "markdown",
   "metadata": {},
   "source": [
    "### 가장 긴 증가하는 부분 수열 2 12015\n",
    "- LIS nlog(n)"
   ]
  },
  {
   "cell_type": "code",
   "execution_count": null,
   "metadata": {},
   "outputs": [],
   "source": [
    "n = int(input())\n",
    "li = list(map(int, input().split()))\n",
    "tail = [0] * (n + 1)\n",
    "\n",
    "current_max_length = 0\n",
    "for i in range(n):\n",
    "    if i == 0:\n",
    "        tail[1] = li[0]\n",
    "        current_max_length = 1\n",
    "    else:\n",
    "        if li[i] == tail[1] or li[i] == tail[current_max_length]:\n",
    "            continue\n",
    "        elif li[i] < tail[1]:\n",
    "            tail[1] = li[i]\n",
    "        elif li[i] > tail[current_max_length]:\n",
    "            tail[current_max_length + 1] = li[i]\n",
    "            current_max_length += 1\n",
    "        else:\n",
    "            min_index = 1\n",
    "            max_index = current_max_length - 1\n",
    "\n",
    "            result_index = -1\n",
    "            while min_index <= max_index:\n",
    "                mid = (max_index + min_index) // 2\n",
    "\n",
    "                if tail[mid] < li[i]:\n",
    "                    result_index = mid\n",
    "                    min_index = mid + 1\n",
    "                else:\n",
    "                    max_index = mid - 1\n",
    "                    \n",
    "            tail[result_index + 1] = li[i]\n",
    "            \n",
    "print(current_max_length)"
   ]
  },
  {
   "cell_type": "markdown",
   "metadata": {},
   "source": [
    "### 가장 긴 증가하는 부분 수열 5 14003\n",
    "- LIS nlog(n)"
   ]
  },
  {
   "cell_type": "code",
   "execution_count": 180,
   "metadata": {},
   "outputs": [
    {
     "name": "stdout",
     "output_type": "stream",
     "text": [
      "10\n",
      "3\n",
      "[1, 3, -3, 2, -1, -3, -1, 4, -1, -6]\n",
      "-6 -1 4\n"
     ]
    }
   ],
   "source": [
    "# 틀린 후 디버깅 중이었음\n",
    "import random\n",
    "\n",
    "n = int(input())\n",
    "# li = list(map(int, input().split()))\n",
    "li = []\n",
    "for _ in range(n):\n",
    "    li.append(random.randint(-10, 10))\n",
    "tail = [0] * (n + 1)\n",
    "\n",
    "current_max_length = 0\n",
    "last = []\n",
    "for i in range(n):\n",
    "    if i == 0:\n",
    "        tail[1] = li[0]\n",
    "        current_max_length = 1\n",
    "        last.append(li[0])\n",
    "    else:\n",
    "        if li[i] == tail[1] or li[i] == tail[current_max_length]:\n",
    "            continue\n",
    "        elif li[i] < tail[1]:\n",
    "            tail[1] = li[i]\n",
    "        elif li[i] > tail[current_max_length]:\n",
    "            tail[current_max_length + 1] = li[i]\n",
    "            current_max_length += 1\n",
    "#             last.append(li[i])\n",
    "        else:\n",
    "            min_index = 1\n",
    "            max_index = current_max_length - 1\n",
    "\n",
    "            result_index = -1\n",
    "            while min_index <= max_index:\n",
    "                mid = (max_index + min_index) // 2\n",
    "\n",
    "                if tail[mid] < li[i]:\n",
    "                    result_index = mid\n",
    "                    min_index = mid + 1\n",
    "                else:\n",
    "                    max_index = mid - 1\n",
    "                    \n",
    "            tail[result_index + 1] = li[i]\n",
    "            \n",
    "print(current_max_length)\n",
    "print(li)\n",
    "print(\" \".join(map(str, tail[1:current_max_length + 1])))"
   ]
  },
  {
   "cell_type": "code",
   "execution_count": 30,
   "metadata": {},
   "outputs": [
    {
     "name": "stdout",
     "output_type": "stream",
     "text": [
      "4\n",
      "2 1 2 1\n",
      "2\n",
      "1 2\n"
     ]
    }
   ],
   "source": [
    "# 맞았음\n",
    "n = int(input())\n",
    "li = list(map(int, input().split()))\n",
    "tail = [0] * (n + 1)\n",
    "memory = []\n",
    "\n",
    "current_max_length = 0\n",
    "for i in range(n):\n",
    "    if i == 0:\n",
    "        tail[1] = li[0]\n",
    "        current_max_length = 1\n",
    "        memory.append((1, li[i]))\n",
    "    else:\n",
    "        if li[i] == tail[1] or li[i] == tail[current_max_length]:\n",
    "            continue\n",
    "        elif li[i] < tail[1]:\n",
    "            tail[1] = li[i]\n",
    "            memory.append((1, li[i]))\n",
    "        elif li[i] > tail[current_max_length]:\n",
    "            tail[current_max_length + 1] = li[i]\n",
    "            memory.append((current_max_length + 1, li[i]))\n",
    "            current_max_length += 1\n",
    "        else:\n",
    "            min_index = 1\n",
    "            max_index = current_max_length - 1\n",
    "\n",
    "            result_index = -1\n",
    "            while min_index <= max_index:\n",
    "                mid = (max_index + min_index) // 2\n",
    "\n",
    "                if tail[mid] < li[i]:\n",
    "                    result_index = mid\n",
    "                    min_index = mid + 1\n",
    "                else:\n",
    "                    max_index = mid - 1\n",
    "                    \n",
    "            tail[result_index + 1] = li[i]\n",
    "            memory.append((result_index + 1, li[i]))\n",
    "            \n",
    "print(current_max_length)\n",
    "\n",
    "current_place = current_max_length\n",
    "memory_length = len(memory)\n",
    "result = []\n",
    "for i in range(memory_length - 1, -1, -1):\n",
    "    if memory[i][0] == current_place:\n",
    "        result.append(memory[i][1])\n",
    "        current_place -= 1\n",
    "        \n",
    "        if current_place == 0:\n",
    "            break\n",
    "            \n",
    "result.reverse()\n",
    "print(\" \".join(map(str, result)))"
   ]
  },
  {
   "cell_type": "markdown",
   "metadata": {},
   "source": [
    "### 반도체 설계 2352\n",
    "- LIS nlog(n)"
   ]
  },
  {
   "cell_type": "code",
   "execution_count": 184,
   "metadata": {},
   "outputs": [
    {
     "name": "stdout",
     "output_type": "stream",
     "text": [
      "6\n",
      "4 2 6 3 1 5\n",
      "3\n"
     ]
    }
   ],
   "source": [
    "n = int(input())\n",
    "li = list(map(int, input().split()))\n",
    "tail = [0] * (n + 1)\n",
    "\n",
    "current_max_length = 0\n",
    "for i in range(n):\n",
    "    if i == 0:\n",
    "        tail[1] = li[0]\n",
    "        current_max_length = 1\n",
    "    else:\n",
    "        if li[i] == tail[1] or li[i] == tail[current_max_length]:\n",
    "            continue\n",
    "        elif li[i] < tail[1]:\n",
    "            tail[1] = li[i]\n",
    "        elif li[i] > tail[current_max_length]:\n",
    "            tail[current_max_length + 1] = li[i]\n",
    "            current_max_length += 1\n",
    "        else:\n",
    "            min_index = 1\n",
    "            max_index = current_max_length - 1\n",
    "\n",
    "            result_index = -1\n",
    "            while min_index <= max_index:\n",
    "                mid = (max_index + min_index) // 2\n",
    "\n",
    "                if tail[mid] < li[i]:\n",
    "                    result_index = mid\n",
    "                    min_index = mid + 1\n",
    "                else:\n",
    "                    max_index = mid - 1\n",
    "                    \n",
    "            tail[result_index + 1] = li[i]\n",
    "            \n",
    "print(current_max_length)"
   ]
  },
  {
   "cell_type": "markdown",
   "metadata": {},
   "source": [
    "### 오름세 3745\n",
    "- LIS nlog(n)"
   ]
  },
  {
   "cell_type": "code",
   "execution_count": null,
   "metadata": {},
   "outputs": [],
   "source": [
    "while True:\n",
    "    try:\n",
    "        n = int(input())\n",
    "        li = list(map(int, input().split()))\n",
    "        tail = [0] * (n + 1)\n",
    "\n",
    "        current_max_length = 0\n",
    "        for i in range(n):\n",
    "            if i == 0:\n",
    "                tail[1] = li[0]\n",
    "                current_max_length = 1\n",
    "            else:\n",
    "                if li[i] == tail[1] or li[i] == tail[current_max_length]:\n",
    "                    continue\n",
    "                elif li[i] < tail[1]:\n",
    "                    tail[1] = li[i]\n",
    "                elif li[i] > tail[current_max_length]:\n",
    "                    tail[current_max_length + 1] = li[i]\n",
    "                    current_max_length += 1\n",
    "                else:\n",
    "                    min_index = 1\n",
    "                    max_index = current_max_length - 1\n",
    "\n",
    "                    result_index = -1\n",
    "                    while min_index <= max_index:\n",
    "                        mid = (max_index + min_index) // 2\n",
    "\n",
    "                        if tail[mid] < li[i]:\n",
    "                            result_index = mid\n",
    "                            min_index = mid + 1\n",
    "                        else:\n",
    "                            max_index = mid - 1\n",
    "\n",
    "                    tail[result_index + 1] = li[i]\n",
    "\n",
    "        print(current_max_length)\n",
    "    except:\n",
    "        break"
   ]
  },
  {
   "cell_type": "markdown",
   "metadata": {},
   "source": [
    "### 주식 12014\n",
    "- LIS nlog(n)"
   ]
  },
  {
   "cell_type": "code",
   "execution_count": 186,
   "metadata": {},
   "outputs": [
    {
     "name": "stdout",
     "output_type": "stream",
     "text": [
      "3\n",
      "Case #1\n",
      "10 6\n",
      "100 50 70 90 75 87 105 78 110 60\n",
      "1\n",
      "Case #2\n",
      "6 3\n",
      "100 90 80 70 60 50\n",
      "0\n",
      "Case #3\n",
      "10 4\n",
      "8 11 9 7 4 6 12 13 5 10\n",
      "1\n"
     ]
    }
   ],
   "source": [
    "T = int(input())\n",
    "for i in range(1, T + 1):\n",
    "    print(f\"Case #{str(i)}\")\n",
    "    n, k = map(int, input().split())\n",
    "    li = list(map(int, input().split()))\n",
    "    tail = [0] * (n + 1)\n",
    "\n",
    "    current_max_length = 0\n",
    "    for i in range(n):\n",
    "        if i == 0:\n",
    "            tail[1] = li[0]\n",
    "            current_max_length = 1\n",
    "        else:\n",
    "            if li[i] == tail[1] or li[i] == tail[current_max_length]:\n",
    "                continue\n",
    "            elif li[i] < tail[1]:\n",
    "                tail[1] = li[i]\n",
    "            elif li[i] > tail[current_max_length]:\n",
    "                tail[current_max_length + 1] = li[i]\n",
    "                current_max_length += 1\n",
    "            else:\n",
    "                min_index = 1\n",
    "                max_index = current_max_length - 1\n",
    "\n",
    "                result_index = -1\n",
    "                while min_index <= max_index:\n",
    "                    mid = (max_index + min_index) // 2\n",
    "\n",
    "                    if tail[mid] < li[i]:\n",
    "                        result_index = mid\n",
    "                        min_index = mid + 1\n",
    "                    else:\n",
    "                        max_index = mid - 1\n",
    "\n",
    "                tail[result_index + 1] = li[i]\n",
    "\n",
    "    if k <= current_max_length:\n",
    "        print(1)\n",
    "    else:\n",
    "        print(0)"
   ]
  },
  {
   "cell_type": "markdown",
   "metadata": {},
   "source": [
    "### 꼬인 전깃줄 1365\n",
    "- LIS nlog(n)"
   ]
  },
  {
   "cell_type": "code",
   "execution_count": 188,
   "metadata": {},
   "outputs": [
    {
     "name": "stdout",
     "output_type": "stream",
     "text": [
      "4\n",
      "2 3 4 1\n",
      "1\n"
     ]
    }
   ],
   "source": [
    "n = int(input())\n",
    "li = list(map(int, input().split()))\n",
    "\n",
    "tail = [0] * (n + 1)\n",
    "\n",
    "current_max_length = 0\n",
    "for i in range(n):\n",
    "    if i == 0:\n",
    "        tail[1] = li[0]\n",
    "        current_max_length = 1\n",
    "    else:\n",
    "        if li[i] == tail[1] or li[i] == tail[current_max_length]:\n",
    "            continue\n",
    "        elif li[i] < tail[1]:\n",
    "            tail[1] = li[i]\n",
    "        elif li[i] > tail[current_max_length]:\n",
    "            tail[current_max_length + 1] = li[i]\n",
    "            current_max_length += 1\n",
    "        else:\n",
    "            min_index = 1\n",
    "            max_index = current_max_length - 1\n",
    "\n",
    "            result_index = -1\n",
    "            while min_index <= max_index:\n",
    "                mid = (max_index + min_index) // 2\n",
    "\n",
    "                if tail[mid] < li[i]:\n",
    "                    result_index = mid\n",
    "                    min_index = mid + 1\n",
    "                else:\n",
    "                    max_index = mid - 1\n",
    "\n",
    "            tail[result_index + 1] = li[i]\n",
    "\n",
    "print(n - current_max_length)"
   ]
  },
  {
   "cell_type": "markdown",
   "metadata": {},
   "source": [
    "### 브리징 시그널 3066\n",
    "- LIS nlog(n)"
   ]
  },
  {
   "cell_type": "code",
   "execution_count": null,
   "metadata": {},
   "outputs": [],
   "source": [
    "import sys\n",
    "# input = sys.stdin.readline\n",
    "\n",
    "T = int(input())\n",
    "for _ in range(T):\n",
    "    n = int(input())\n",
    "    \n",
    "    li = []\n",
    "    for _ in range(n):\n",
    "        li.append(int(input()))\n",
    "    \n",
    "    tail = [0] * (n + 1)\n",
    "\n",
    "    current_max_length = 0\n",
    "    for i in range(n):\n",
    "        if i == 0:\n",
    "            tail[1] = li[0]\n",
    "            current_max_length = 1\n",
    "        else:\n",
    "            if li[i] == tail[1] or li[i] == tail[current_max_length]:\n",
    "                continue\n",
    "            elif li[i] < tail[1]:\n",
    "                tail[1] = li[i]\n",
    "            elif li[i] > tail[current_max_length]:\n",
    "                tail[current_max_length + 1] = li[i]\n",
    "                current_max_length += 1\n",
    "            else:\n",
    "                min_index = 1\n",
    "                max_index = current_max_length - 1\n",
    "\n",
    "                result_index = -1\n",
    "                while min_index <= max_index:\n",
    "                    mid = (max_index + min_index) // 2\n",
    "\n",
    "                    if tail[mid] < li[i]:\n",
    "                        result_index = mid\n",
    "                        min_index = mid + 1\n",
    "                    else:\n",
    "                        max_index = mid - 1\n",
    "\n",
    "                tail[result_index + 1] = li[i]\n",
    "                \n",
    "    print(current_max_length)"
   ]
  },
  {
   "cell_type": "markdown",
   "metadata": {},
   "source": [
    "### 책정리 1818\n",
    "- LIS nlog(n)"
   ]
  },
  {
   "cell_type": "code",
   "execution_count": 191,
   "metadata": {},
   "outputs": [
    {
     "name": "stdout",
     "output_type": "stream",
     "text": [
      "5\n",
      "2 1 4 5 3\n",
      "2\n"
     ]
    }
   ],
   "source": [
    "n = int(input())\n",
    "li = list(map(int, input().split()))\n",
    "   \n",
    "tail = [0] * (n + 1)\n",
    "\n",
    "current_max_length = 0\n",
    "for i in range(n):\n",
    "    if i == 0:\n",
    "        tail[1] = li[0]\n",
    "        current_max_length = 1\n",
    "    else:\n",
    "        if li[i] == tail[1] or li[i] == tail[current_max_length]:\n",
    "            continue\n",
    "        elif li[i] < tail[1]:\n",
    "            tail[1] = li[i]\n",
    "        elif li[i] > tail[current_max_length]:\n",
    "            tail[current_max_length + 1] = li[i]\n",
    "            current_max_length += 1\n",
    "        else:\n",
    "            min_index = 1\n",
    "            max_index = current_max_length - 1\n",
    "\n",
    "            result_index = -1\n",
    "            while min_index <= max_index:\n",
    "                mid = (max_index + min_index) // 2\n",
    "\n",
    "                if tail[mid] < li[i]:\n",
    "                    result_index = mid\n",
    "                    min_index = mid + 1\n",
    "                else:\n",
    "                    max_index = mid - 1\n",
    "\n",
    "            tail[result_index + 1] = li[i]\n",
    "\n",
    "print(n - current_max_length)"
   ]
  },
  {
   "cell_type": "markdown",
   "metadata": {},
   "source": [
    "### 병사 배치하기 18353"
   ]
  },
  {
   "cell_type": "code",
   "execution_count": 1,
   "metadata": {},
   "outputs": [
    {
     "name": "stdout",
     "output_type": "stream",
     "text": [
      "7\n",
      "15 11 4 8 5 2 4\n",
      "2\n"
     ]
    }
   ],
   "source": [
    "n = int(input())\n",
    "li = list(map(int, input().split()))\n",
    "   \n",
    "tail = [0] * (n + 1)\n",
    "\n",
    "current_max_length = 0\n",
    "for i in range(n):\n",
    "    if i == 0:\n",
    "        tail[1] = li[0]\n",
    "        current_max_length = 1\n",
    "    else:\n",
    "        if li[i] == tail[1] or li[i] == tail[current_max_length]:\n",
    "            continue\n",
    "        elif li[i] > tail[1]:\n",
    "            tail[1] = li[i]\n",
    "        elif li[i] < tail[current_max_length]:\n",
    "            tail[current_max_length + 1] = li[i]\n",
    "            current_max_length += 1\n",
    "        else:\n",
    "            min_index = 1\n",
    "            max_index = current_max_length - 1\n",
    "\n",
    "            result_index = -1\n",
    "            while min_index <= max_index:\n",
    "                mid = (max_index + min_index) // 2\n",
    "\n",
    "                if tail[mid] > li[i]:\n",
    "                    result_index = mid\n",
    "                    min_index = mid + 1\n",
    "                else:\n",
    "                    max_index = mid - 1\n",
    "\n",
    "            tail[result_index + 1] = li[i]\n",
    "\n",
    "print(n - current_max_length)"
   ]
  },
  {
   "cell_type": "markdown",
   "metadata": {},
   "source": [
    "### 전깃줄 - 2 2568\n",
    "- LIS nlog(n)"
   ]
  },
  {
   "cell_type": "code",
   "execution_count": 53,
   "metadata": {},
   "outputs": [
    {
     "name": "stdout",
     "output_type": "stream",
     "text": [
      "2\n",
      "1 4\n",
      "3 2\n",
      "1\n",
      "3\n"
     ]
    }
   ],
   "source": [
    "n = int(input())\n",
    "\n",
    "li = []\n",
    "for _ in range(n):\n",
    "    li.append(tuple(map(int, input().split())))\n",
    "\n",
    "li.sort(key=lambda x: x[1])\n",
    "li = [v[0] for v in li]\n",
    "\n",
    "tail = [0] * (n + 1)\n",
    "memory = []\n",
    "\n",
    "current_max_length = 0\n",
    "for i in range(n):\n",
    "    if i == 0:\n",
    "        tail[1] = li[0]\n",
    "        current_max_length = 1\n",
    "        memory.append((1, li[i]))\n",
    "    else:\n",
    "        if li[i] < tail[1]:\n",
    "            tail[1] = li[i]\n",
    "            memory.append((1, li[i]))\n",
    "        elif li[i] > tail[current_max_length]:\n",
    "            tail[current_max_length + 1] = li[i]\n",
    "            memory.append((current_max_length + 1, li[i]))\n",
    "            current_max_length += 1\n",
    "        else:\n",
    "            min_index = 1\n",
    "            max_index = current_max_length - 1\n",
    "\n",
    "            result_index = -1\n",
    "            while min_index <= max_index:\n",
    "                mid = (max_index + min_index) // 2\n",
    "\n",
    "                if tail[mid] < li[i]:\n",
    "                    result_index = mid\n",
    "                    min_index = mid + 1\n",
    "                else:\n",
    "                    max_index = mid - 1\n",
    "                    \n",
    "            tail[result_index + 1] = li[i]\n",
    "            memory.append((result_index + 1, li[i]))\n",
    "            \n",
    "print(n - current_max_length)\n",
    "\n",
    "current_place = current_max_length\n",
    "memory_length = len(memory)\n",
    "to_save = []\n",
    "for i in range(memory_length - 1, -1, -1):\n",
    "    if memory[i][0] == current_place:\n",
    "        to_save.append(memory[i][1])\n",
    "        current_place -= 1\n",
    "        \n",
    "        if current_place == 0:\n",
    "            break\n",
    "            \n",
    "to_save.reverse()\n",
    "\n",
    "if n - current_max_length > 0:\n",
    "    print(\"\\n\".join(map(str, sorted(set(li) - set(to_save)))))"
   ]
  },
  {
   "cell_type": "markdown",
   "metadata": {},
   "source": [
    "### 표절 2428"
   ]
  },
  {
   "cell_type": "code",
   "execution_count": 9,
   "metadata": {},
   "outputs": [
    {
     "name": "stdout",
     "output_type": "stream",
     "text": [
      "1\n",
      "1\n",
      "0\n"
     ]
    }
   ],
   "source": [
    "n = int(input())\n",
    "li = list(map(int, input().split()))\n",
    "\n",
    "if n == 1:\n",
    "    print(0)\n",
    "else:\n",
    "    li.sort()\n",
    "\n",
    "    count = 0\n",
    "    for i in range(n - 1):\n",
    "        start = i + 1\n",
    "        end = n - 1\n",
    "\n",
    "        rightest_possible = i\n",
    "        while start <= end:\n",
    "            mid = (start + end) // 2\n",
    "\n",
    "            if li[i] >= 0.9 * li[mid]:\n",
    "                rightest_possible = mid\n",
    "                start = mid + 1\n",
    "            else:\n",
    "                end = mid - 1\n",
    "\n",
    "        count += rightest_possible - i\n",
    "\n",
    "    print(count)"
   ]
  },
  {
   "cell_type": "markdown",
   "metadata": {},
   "source": [
    "### 두 개의 배열"
   ]
  },
  {
   "cell_type": "code",
   "execution_count": 20,
   "metadata": {},
   "outputs": [
    {
     "name": "stdout",
     "output_type": "stream",
     "text": [
      "1\n",
      "3 3\n",
      "1 2 3\n",
      "2 3 4\n",
      "7\n"
     ]
    }
   ],
   "source": [
    "for _ in range(int(input())):\n",
    "    n, m = map(int, input().split())\n",
    "    A = list(map(int, input().split()))\n",
    "    B = list(map(int, input().split()))\n",
    "\n",
    "    B.sort()\n",
    "    C = []\n",
    "    for value in A:\n",
    "        st = set()\n",
    "        start = 0\n",
    "        end = m - 1\n",
    "\n",
    "        min_abs_diff = float('inf')\n",
    "        min_value = float('inf')\n",
    "        while 0 <= start <= end < m:\n",
    "            mid = (start + end) // 2\n",
    "            abs_diff = abs(B[mid] - value)\n",
    "            if abs_diff <= min_abs_diff:\n",
    "                if abs_diff == min_abs_diff:\n",
    "                    if B[mid] < min_value:\n",
    "                        min_value = B[mid]\n",
    "                        min_abs_diff = abs_diff\n",
    "                else:\n",
    "                    min_value = B[mid]\n",
    "                    min_abs_diff = abs_diff\n",
    "\n",
    "            if value == B[mid]:\n",
    "                break\n",
    "            elif value < B[mid]:\n",
    "                end = mid - 1\n",
    "            else:\n",
    "                start = mid + 1\n",
    "            if (start, end) in st:\n",
    "                break\n",
    "            st.add((start, end))\n",
    "\n",
    "        C.append(min_value)\n",
    "\n",
    "    print(sum(C))"
   ]
  },
  {
   "cell_type": "markdown",
   "metadata": {},
   "source": [
    "### K번째 수 1300"
   ]
  },
  {
   "cell_type": "code",
   "execution_count": 106,
   "metadata": {},
   "outputs": [
    {
     "name": "stdout",
     "output_type": "stream",
     "text": [
      "4\n",
      "1\n",
      "2\n",
      "2\n",
      "3\n",
      "3\n",
      "4\n",
      "4\n",
      "4\n",
      "6\n",
      "6\n",
      "8\n",
      "8\n",
      "9\n",
      "12\n",
      "12\n",
      "16\n"
     ]
    }
   ],
   "source": [
    "n = int(input())\n",
    "\n",
    "def get_sum(num):\n",
    "    return num * (num + 1) // 2\n",
    "\n",
    "for k in range(1, n * n + 1):\n",
    "    start = 1\n",
    "    end = n * 2 - 1\n",
    "    while start <= end:\n",
    "        mid = (start + end) // 2\n",
    "\n",
    "        group = float('inf')\n",
    "        if mid - 1 <= n:\n",
    "            left = get_sum(mid - 1)\n",
    "        else:\n",
    "            left = get_sum(n) * 2 - n - get_sum(n * 2 - 1 - (mid - 1))\n",
    "\n",
    "        if mid <= n:\n",
    "            right = get_sum(mid)\n",
    "        else:\n",
    "            right = get_sum(n) * 2 - n - get_sum(n * 2 - 1 - mid)\n",
    "\n",
    "        if left < k <= right:\n",
    "            group = mid\n",
    "            to_search = k - left\n",
    "            break\n",
    "        elif k > right:\n",
    "            start = mid + 1\n",
    "        else:\n",
    "            end = mid - 1\n",
    "\n",
    "    a = 1\n",
    "    if group > n:\n",
    "        a += group - n\n",
    "\n",
    "    a += (to_search + 1) // 2 - 1\n",
    "    b = group + 1 - a\n",
    "\n",
    "    print(a * b)"
   ]
  },
  {
   "cell_type": "code",
   "execution_count": 114,
   "metadata": {},
   "outputs": [
    {
     "name": "stdout",
     "output_type": "stream",
     "text": [
      "5\n",
      "1\n",
      "2\n",
      "2\n",
      "3\n",
      "3\n",
      "4\n",
      "4\n",
      "4\n",
      "6\n",
      "6\n",
      "5\n",
      "5\n",
      "8\n",
      "8\n",
      "9\n",
      "10\n",
      "10\n",
      "12\n",
      "12\n",
      "15\n",
      "15\n",
      "16\n",
      "20\n",
      "20\n",
      "25\n"
     ]
    }
   ],
   "source": [
    "n = int(input())\n",
    "\n",
    "def get_sum(num):\n",
    "    return num * (num + 1) // 2\n",
    "\n",
    "for k in range(1, n * n + 1):\n",
    "    start = 1\n",
    "    end = n * 2 - 1\n",
    "    while start <= end:\n",
    "        mid = (start + end) // 2\n",
    "\n",
    "        group = float('inf')\n",
    "        if mid - 1 <= n:\n",
    "            left = get_sum(mid - 1)\n",
    "        else:\n",
    "            left = get_sum(n) * 2 - n - get_sum(n * 2 - 1 - (mid - 1))\n",
    "\n",
    "        if mid <= n:\n",
    "            right = get_sum(mid)\n",
    "        else:\n",
    "            right = get_sum(n) * 2 - n - get_sum(n * 2 - 1 - mid)\n",
    "\n",
    "        if left < k <= right:\n",
    "            group = mid\n",
    "            to_search = k - left\n",
    "            break\n",
    "        elif k > right:\n",
    "            start = mid + 1\n",
    "        else:\n",
    "            end = mid - 1\n",
    "\n",
    "    a = 1\n",
    "    if group > n:\n",
    "        a += group - n\n",
    "\n",
    "    a += (to_search + 1) // 2 - 1\n",
    "    b = group + 1 - a\n",
    "\n",
    "    print(a * b)"
   ]
  },
  {
   "cell_type": "code",
   "execution_count": 102,
   "metadata": {},
   "outputs": [
    {
     "name": "stdout",
     "output_type": "stream",
     "text": [
      "3\n",
      "8\n",
      "6\n"
     ]
    }
   ],
   "source": [
    "# 틀렸음, 일단 포기\n",
    "n = int(input())\n",
    "k = int(input())\n",
    "\n",
    "def get_sum(num):\n",
    "    return num * (num + 1) // 2\n",
    "\n",
    "start = 1\n",
    "end = n * 2 - 1\n",
    "while start <= end:\n",
    "    mid = (start + end) // 2\n",
    "\n",
    "    group = float('inf')\n",
    "    if mid - 1 <= n:\n",
    "        left = get_sum(mid - 1)\n",
    "    else:\n",
    "        left = get_sum(n) * 2 - n - get_sum(n * 2 - 1 - (mid - 1))\n",
    "\n",
    "    if mid <= n:\n",
    "        right = get_sum(mid)\n",
    "    else:\n",
    "        right = get_sum(n) * 2 - n - get_sum(n * 2 - 1 - mid)\n",
    "\n",
    "    if left < k <= right:\n",
    "        group = mid\n",
    "        to_search = k - left\n",
    "        break\n",
    "    elif k > right:\n",
    "        start = mid + 1\n",
    "    else:\n",
    "        end = mid - 1\n",
    "\n",
    "a = 1\n",
    "if group > n:\n",
    "    a += group - n\n",
    "\n",
    "a += (to_search + 1) // 2 - 1\n",
    "b = group + 1 - a\n",
    "\n",
    "print(a * b)"
   ]
  },
  {
   "cell_type": "markdown",
   "metadata": {},
   "source": [
    "### 모자이크 2539"
   ]
  },
  {
   "cell_type": "markdown",
   "metadata": {},
   "source": [
    "### 가장 높은 곳에 있는 잘못된 것이 min"
   ]
  },
  {
   "cell_type": "code",
   "execution_count": 3,
   "metadata": {},
   "outputs": [
    {
     "name": "stdout",
     "output_type": "stream",
     "text": [
      "3\n"
     ]
    }
   ],
   "source": [
    "import sys\n",
    "# input = sys.stdin.readline\n",
    "\n",
    "n, m = map(int, input().rstrip().split())\n",
    "can_use_count = int(input().rstrip())\n",
    "k = int(input())\n",
    "\n",
    "max_y = 0\n",
    "li = []\n",
    "for _ in range(k):\n",
    "    y, x = map(int, input().rstrip().split())\n",
    "    max_y = max(max_y, y)\n",
    "    li.append(x)\n",
    "    \n",
    "li.sort()\n",
    "\n",
    "start = max_y\n",
    "end = m\n",
    "result = 0\n",
    "while start <= end:\n",
    "    mid = (start + end) // 2\n",
    "    \n",
    "    min_count = 0\n",
    "    max_coverage = 0\n",
    "    for v in li:\n",
    "        if max_coverage < v:\n",
    "            min_count += 1\n",
    "            max_coverage = v + mid - 1\n",
    "    if min_count <= can_use_count:\n",
    "        result = mid\n",
    "        end = mid - 1\n",
    "    else:\n",
    "        start = mid + 1\n",
    "        \n",
    "print(result)"
   ]
  },
  {
   "cell_type": "markdown",
   "metadata": {},
   "source": [
    "### 가장 긴 증가하는 부분 수열 2 (다시 풀음)"
   ]
  },
  {
   "cell_type": "code",
   "execution_count": 1,
   "metadata": {},
   "outputs": [
    {
     "name": "stdout",
     "output_type": "stream",
     "text": [
      "6\n",
      "10 20 10 30 20 50\n"
     ]
    }
   ],
   "source": [
    "n = int(input())\n",
    "li = list(map(int, input().split()))"
   ]
  },
  {
   "cell_type": "code",
   "execution_count": 2,
   "metadata": {},
   "outputs": [],
   "source": [
    "from bisect import bisect_left, bisect, bisect_right"
   ]
  },
  {
   "cell_type": "code",
   "execution_count": 27,
   "metadata": {},
   "outputs": [
    {
     "name": "stdout",
     "output_type": "stream",
     "text": [
      "7\n",
      "1 3 4 2 3 4 5\n",
      "[1, 3]\n",
      "[1, 3, 4]\n",
      "[1, 2, 4]\n",
      "[1, 2, 3]\n",
      "[1, 2, 3, 4]\n",
      "[1, 2, 3, 4, 5]\n",
      "5\n"
     ]
    }
   ],
   "source": [
    "from bisect import bisect_left\n",
    "n = int(input())\n",
    "li = list(map(int, input().split()))\n",
    "\n",
    "memory = [li[0]]\n",
    "for i in range(1, n):\n",
    "    to_check = bisect_left(memory, li[i])\n",
    "    if to_check == len(memory):\n",
    "        memory.append(li[i])\n",
    "    else:\n",
    "        memory[to_check] = li[i]\n",
    "    print(memory)\n",
    "        \n",
    "print(len(memory))"
   ]
  },
  {
   "cell_type": "markdown",
   "metadata": {},
   "source": [
    "### 가장 긴 증가하는 부분 수열 5 14003 (다시 풀음)"
   ]
  },
  {
   "cell_type": "code",
   "execution_count": 34,
   "metadata": {},
   "outputs": [
    {
     "name": "stdout",
     "output_type": "stream",
     "text": [
      "10\n",
      "7 8 4 5 2 6 3 1 4 5\n",
      "4\n",
      "2 3 4 5\n"
     ]
    }
   ],
   "source": [
    "from bisect import bisect_left\n",
    "\n",
    "n = int(input())\n",
    "li = list(map(int, input().split()))\n",
    "\n",
    "memory = [li[0]]\n",
    "trace = [(li[0], 0)]\n",
    "for i in range(1, n):\n",
    "    to_check = bisect_left(memory, li[i])\n",
    "    if to_check == len(memory):\n",
    "        memory.append(li[i])\n",
    "    else:\n",
    "        memory[to_check] = li[i]\n",
    "    trace.append((li[i], to_check))\n",
    "        \n",
    "result = []\n",
    "current = len(memory) - 1\n",
    "for i in range(n - 1, -1, -1):\n",
    "    if trace[i][1] == current:\n",
    "        result.append(trace[i][0])\n",
    "        current -= 1\n",
    "        \n",
    "        if current == -1:\n",
    "            break\n",
    "            \n",
    "print(len(memory))\n",
    "print(*sorted(result))"
   ]
  },
  {
   "cell_type": "markdown",
   "metadata": {},
   "source": [
    "### 전깃줄 - 2 2568"
   ]
  },
  {
   "cell_type": "code",
   "execution_count": 35,
   "metadata": {},
   "outputs": [
    {
     "name": "stdout",
     "output_type": "stream",
     "text": [
      "8\n",
      "1 8\n",
      "3 9\n",
      "2 2\n",
      "4 1\n",
      "6 4\n",
      "10 10\n",
      "9 7\n",
      "7 6\n",
      "3\n",
      "1\n",
      "3\n",
      "4\n"
     ]
    }
   ],
   "source": [
    "from bisect import bisect_left\n",
    "import sys\n",
    "# input = sys.stdin.readline\n",
    "\n",
    "n = int(input().rstrip())\n",
    "li = [list(map(int, input().rstrip().split())) for _ in range(n)]\n",
    "li.sort(key=lambda x: x[1])\n",
    "\n",
    "a = [v[0] for v in li]\n",
    "a_set = set(a)\n",
    "\n",
    "memory = [a[0]]\n",
    "trace = [(a[0], 0)]\n",
    "for i in range(1, n):\n",
    "    to_check = bisect_left(memory, a[i])\n",
    "    if to_check == len(memory):\n",
    "        memory.append(a[i])\n",
    "    else:\n",
    "        memory[to_check] = a[i]\n",
    "    trace.append((a[i], to_check))\n",
    "        \n",
    "to_save = set()\n",
    "current = len(memory) - 1\n",
    "for i in range(n - 1, -1, -1):\n",
    "    if trace[i][1] == current:\n",
    "        to_save.add(trace[i][0])\n",
    "        current -= 1\n",
    "        if current == -1:\n",
    "            break\n",
    "            \n",
    "to_delete = a_set - to_save\n",
    "to_delete = sorted(to_delete)\n",
    "\n",
    "print(n - len(memory))\n",
    "print('\\n'.join(map(str, to_delete)))"
   ]
  },
  {
   "cell_type": "markdown",
   "metadata": {},
   "source": [
    "### 개똥벌레 3020"
   ]
  },
  {
   "cell_type": "code",
   "execution_count": 32,
   "metadata": {},
   "outputs": [
    {
     "name": "stdout",
     "output_type": "stream",
     "text": [
      "6 7\n",
      "1\n",
      "5\n",
      "3\n",
      "3\n",
      "5\n",
      "1\n",
      "2 3\n"
     ]
    }
   ],
   "source": [
    "from bisect import bisect_left\n",
    "import sys\n",
    "input = lambda: sys.stdin.readline().rstrip()\n",
    "\n",
    "n, h = map(int, input().split())\n",
    "\n",
    "bottom = []\n",
    "top = []\n",
    "for i in range(n):\n",
    "    value = int(input())\n",
    "    \n",
    "    if i % 2 == 0:\n",
    "        bottom.append(value)\n",
    "    else:\n",
    "        top.append(h - value)\n",
    "        \n",
    "bottom_len = len(bottom)\n",
    "\n",
    "bottom.sort()\n",
    "top.sort()\n",
    "\n",
    "s = 0\n",
    "e = h - 1\n",
    "mtd = float('inf') # min to destroy\n",
    "mtdc = 0 # min to destroy interval count\n",
    "for cur in range(s, e + 1):\n",
    "    cur += 0.5\n",
    "    \n",
    "    td = bottom_len - bisect_left(bottom, cur) + bisect_left(top, cur)\n",
    "        \n",
    "    if td < mtd:\n",
    "        mtd = td\n",
    "        mtdc = 1\n",
    "    elif td == mtd:\n",
    "        mtdc += 1\n",
    "\n",
    "print(mtd, mtdc)"
   ]
  },
  {
   "cell_type": "markdown",
   "metadata": {},
   "source": [
    "### 합이 0인 네 정수 7453"
   ]
  },
  {
   "cell_type": "code",
   "execution_count": 20,
   "metadata": {},
   "outputs": [
    {
     "data": {
      "text/plain": [
       "16000000"
      ]
     },
     "execution_count": 20,
     "metadata": {},
     "output_type": "execute_result"
    }
   ],
   "source": [
    "4000 * 4000"
   ]
  },
  {
   "cell_type": "code",
   "execution_count": 24,
   "metadata": {},
   "outputs": [
    {
     "name": "stdout",
     "output_type": "stream",
     "text": [
      "6\n",
      "-45 22 42 -16\n",
      "-41 -27 56 30\n",
      "-36 53 -37 77\n",
      "-36 30 -75 -46\n",
      "26 -38 -10 62\n",
      "-32 -54 -6 45\n"
     ]
    }
   ],
   "source": [
    "n = int(input())\n",
    "\n",
    "a = []\n",
    "b = []\n",
    "c = []\n",
    "d = []\n",
    "\n",
    "for _ in range(n):\n",
    "    aa, bb, cc, dd = map(int, input().split())\n",
    "    \n",
    "    a.append(aa)\n",
    "    b.append(bb)\n",
    "    c.append(cc)\n",
    "    d.append(dd)"
   ]
  },
  {
   "cell_type": "code",
   "execution_count": 31,
   "metadata": {},
   "outputs": [
    {
     "name": "stdout",
     "output_type": "stream",
     "text": [
      "-45 -27 42 30\n",
      "26 30 -10 -46\n",
      "-32 22 56 -46\n",
      "-32 30 -75 77\n",
      "-32 -54 56 30\n",
      "5\n"
     ]
    }
   ],
   "source": [
    "count = 0\n",
    "for aa in a:\n",
    "    for bb in b:\n",
    "        for cc in c:\n",
    "            for dd in d:\n",
    "                if aa + bb + cc + dd == 0:\n",
    "                    print(aa, bb, cc, dd)\n",
    "                    count += 1\n",
    "print(count)"
   ]
  },
  {
   "cell_type": "code",
   "execution_count": 41,
   "metadata": {},
   "outputs": [
    {
     "name": "stdout",
     "output_type": "stream",
     "text": [
      "1\n",
      "-1 1 -1 1\n",
      "1\n"
     ]
    }
   ],
   "source": [
    "# 딕셔너리 이용해서 풀었음\n",
    "import sys\n",
    "input = lambda: sys.stdin.readline().rstrip()\n",
    "\n",
    "n = int(input())\n",
    "\n",
    "a = []\n",
    "b = []\n",
    "c = []\n",
    "d = []\n",
    "for _ in range(n):\n",
    "    aa, bb, cc, dd = map(int, input().split())\n",
    "    \n",
    "    a.append(aa)\n",
    "    b.append(bb)\n",
    "    c.append(cc)\n",
    "    d.append(dd)\n",
    "\n",
    "ab = dict()\n",
    "for v in a:\n",
    "    for w in b:\n",
    "        t = v + w\n",
    "        if t not in ab:\n",
    "            ab[t] = 1\n",
    "        else:\n",
    "            ab[t] += 1\n",
    "\n",
    "total = 0\n",
    "for v in c:\n",
    "    for w in d:\n",
    "        t = v + w\n",
    "        if -t in ab:\n",
    "            total += ab[-t]\n",
    "    \n",
    "print(total)"
   ]
  },
  {
   "cell_type": "markdown",
   "metadata": {},
   "source": [
    "### 부분수열의 합 2 1208"
   ]
  },
  {
   "cell_type": "code",
   "execution_count": 8,
   "metadata": {},
   "outputs": [
    {
     "name": "stdout",
     "output_type": "stream",
     "text": [
      "2 0\n",
      "0 0\n",
      "3\n"
     ]
    }
   ],
   "source": [
    "# 딕셔너리 이용해서 풀었음\n",
    "from itertools import combinations as comb\n",
    "\n",
    "n, s = map(int, input().split())\n",
    "li = list(map(int, input().split()))\n",
    "\n",
    "a = li[:n // 2]\n",
    "b = li[n // 2:]\n",
    "\n",
    "alen = len(a)\n",
    "blen = len(b)\n",
    "\n",
    "result = 0\n",
    "aa = dict()\n",
    "bb = dict()\n",
    "\n",
    "for i in range(1, alen + 1):\n",
    "    for case in comb(a, i):\n",
    "        total = sum(case)\n",
    "            \n",
    "        if total not in aa:\n",
    "            aa[total] = 1\n",
    "        else:\n",
    "            aa[total] += 1\n",
    "    \n",
    "if s in aa:\n",
    "    result += aa[s]\n",
    "    \n",
    "for i in range(1, blen + 1):\n",
    "    for case in comb(b, i):\n",
    "        total = sum(case)\n",
    "            \n",
    "        if total not in bb:\n",
    "            bb[total] = 1\n",
    "        else:\n",
    "            bb[total] += 1\n",
    "    \n",
    "if s in bb:\n",
    "    result += bb[s]\n",
    "    \n",
    "for key in aa:\n",
    "    to_find = s - key\n",
    "    if to_find in bb:\n",
    "        result += aa[key] * bb[to_find]\n",
    "        \n",
    "print(result)"
   ]
  }
 ],
 "metadata": {
  "kernelspec": {
   "display_name": "Python 3",
   "language": "python",
   "name": "python3"
  },
  "language_info": {
   "codemirror_mode": {
    "name": "ipython",
    "version": 3
   },
   "file_extension": ".py",
   "mimetype": "text/x-python",
   "name": "python",
   "nbconvert_exporter": "python",
   "pygments_lexer": "ipython3",
   "version": "3.7.3"
  }
 },
 "nbformat": 4,
 "nbformat_minor": 4
}
