{
 "cells": [
  {
   "cell_type": "markdown",
   "metadata": {},
   "source": [
    "tier:s1.. solved:100.. (tag:math|tag:bruteforcing|tag:binary_search|tag:two_pointer|tag:ad_hoc|tag:constructive|tag:prefix_sum|tag:greedy|tag:dp|tag:implementation|tag:sorting|tag:dfs) - tag:arbitrary_precision - solved_by:hsh8086"
   ]
  },
  {
   "cell_type": "markdown",
   "metadata": {},
   "source": [
    "### 물병 1052"
   ]
  },
  {
   "cell_type": "code",
   "execution_count": 23,
   "metadata": {},
   "outputs": [
    {
     "name": "stdout",
     "output_type": "stream",
     "text": [
      "1000000 5\n"
     ]
    }
   ],
   "source": [
    "n, k = map(int, input().split())"
   ]
  },
  {
   "cell_type": "code",
   "execution_count": 51,
   "metadata": {},
   "outputs": [
    {
     "name": "stdout",
     "output_type": "stream",
     "text": [
      "10000000 1\n",
      "6777216\n"
     ]
    }
   ],
   "source": [
    "n, k = map(int, input().split())\n",
    "\n",
    "cur = [0] * 25\n",
    "cur[0] = n\n",
    "while True:\n",
    "    is_changed = False\n",
    "    for i in range(1, 25):\n",
    "        count = cur[i - 1] // 2\n",
    "        if count >= 1:\n",
    "            is_changed = True\n",
    "        cur[i] += count\n",
    "        cur[i - 1] -= count * 2\n",
    "        \n",
    "    if not is_changed:\n",
    "        break\n",
    "        \n",
    "total = 0\n",
    "while sum(cur) > k:\n",
    "    tai = cur.index(1) # to add index\n",
    "    total += 2 ** tai\n",
    "    cur[tai] += 1\n",
    "    for i in range(1, 25):\n",
    "        count = cur[i - 1] // 2\n",
    "        if count >= 1:\n",
    "            is_changed = True\n",
    "        cur[i] += count\n",
    "        cur[i - 1] -= count * 2    \n",
    "\n",
    "print(total)"
   ]
  },
  {
   "cell_type": "code",
   "execution_count": 79,
   "metadata": {},
   "outputs": [
    {
     "name": "stdout",
     "output_type": "stream",
     "text": [
      "10000000 1\n",
      "6777216\n"
     ]
    }
   ],
   "source": [
    "n, k = map(int, input().split())\n",
    "\n",
    "total = 0\n",
    "while True:\n",
    "    bn = bin(n)\n",
    "    if bn.count('1') <= k:\n",
    "        break\n",
    "    \n",
    "    to_add = len(bn) - 1 - bn.rfind('1')\n",
    "    to_add = 2 ** to_add\n",
    "    total += to_add\n",
    "    n += to_add\n",
    "    \n",
    "print(total)"
   ]
  },
  {
   "cell_type": "markdown",
   "metadata": {},
   "source": [
    "### 색칠 1 1117"
   ]
  },
  {
   "cell_type": "code",
   "execution_count": 10,
   "metadata": {},
   "outputs": [
    {
     "name": "stdout",
     "output_type": "stream",
     "text": [
      "5 6 2 2 1 1 3 2\n"
     ]
    }
   ],
   "source": [
    "w, h, f, c, x1, y1, x2, y2 = map(int, input().split())"
   ]
  },
  {
   "cell_type": "code",
   "execution_count": 16,
   "metadata": {},
   "outputs": [
    {
     "name": "stdout",
     "output_type": "stream",
     "text": [
      "4 8 3 0 1 1 3 2\n",
      "30\n"
     ]
    }
   ],
   "source": [
    "w, h, f, c, x1, y1, x2, y2 = map(int, input().split())\n",
    "\n",
    "dubbed_end_x = 0\n",
    "if f * 2 <= w:\n",
    "    dubbed_end_x = f\n",
    "else:\n",
    "    dubbed_end_x = w - f\n",
    "    \n",
    "hh = y2 - y1\n",
    "\n",
    "total = 0\n",
    "if x2 <= dubbed_end_x:\n",
    "    total = (x2 - x1) * hh * (c + 1) * 2\n",
    "elif dubbed_end_x <= x1:\n",
    "    total = (x2 - x1) * hh * (c + 1)\n",
    "else:\n",
    "    t1 = (dubbed_end_x - x1) * hh * (c + 1) * 2\n",
    "    t2 = (x2 - dubbed_end_x) * hh * (c + 1)\n",
    "    \n",
    "    total = t1 + t2\n",
    "    \n",
    "print(w * h - total)"
   ]
  },
  {
   "cell_type": "markdown",
   "metadata": {},
   "source": [
    "### 줄어드는 수 1174"
   ]
  },
  {
   "cell_type": "code",
   "execution_count": 34,
   "metadata": {},
   "outputs": [
    {
     "name": "stdout",
     "output_type": "stream",
     "text": [
      "19\n",
      "42\n"
     ]
    }
   ],
   "source": [
    "cases = []\n",
    "\n",
    "def recur(s):\n",
    "    cases.append(int(s))\n",
    "    for i in range(0, int(s[-1])):\n",
    "        recur(s + str(i))\n",
    "    \n",
    "for i in range(0, 10):\n",
    "    recur(str(i))\n",
    "    \n",
    "cases.sort()\n",
    "    \n",
    "n = int(input())\n",
    "if n - 1 >= len(cases):\n",
    "    print(-1)\n",
    "else:\n",
    "    print(cases[n - 1])"
   ]
  },
  {
   "cell_type": "code",
   "execution_count": 37,
   "metadata": {},
   "outputs": [
    {
     "name": "stdout",
     "output_type": "stream",
     "text": [
      "0\n",
      "0\n"
     ]
    }
   ],
   "source": [
    "cases = []\n",
    "\n",
    "def recur(s):\n",
    "    cases.append(int(s))\n",
    "    for i in range(0, int(s[-1])):\n",
    "        recur(s + str(i))\n",
    "    \n",
    "for i in range(0, 10):\n",
    "    recur(str(i))\n",
    "    \n",
    "cases.sort()\n",
    "    \n",
    "n = int(input())\n",
    "if n >= len(cases):\n",
    "    print(-1)\n",
    "else:\n",
    "    print(cases[n])"
   ]
  },
  {
   "cell_type": "code",
   "execution_count": 38,
   "metadata": {},
   "outputs": [
    {
     "name": "stdout",
     "output_type": "stream",
     "text": [
      "3 4 6\n",
      "....\n",
      ".T..\n",
      "....\n"
     ]
    }
   ],
   "source": [
    "r, c, k = map(int, input().split())\n",
    "li = [input() for _ in range(r)]"
   ]
  },
  {
   "cell_type": "code",
   "execution_count": 44,
   "metadata": {},
   "outputs": [
    {
     "name": "stdout",
     "output_type": "stream",
     "text": [
      "4\n"
     ]
    }
   ],
   "source": [
    "r, c, k = map(int, input().split())\n",
    "li = [input() for _ in range(r)]\n",
    "\n",
    "dx = [-1, 1, 0, 0]\n",
    "dy = [0, 0, -1, 1]\n",
    "vt = [[False] * c for _ in range(r)]\n",
    "\n",
    "def dfs(x, y, dist):\n",
    "    global count\n",
    "    \n",
    "    if dist == k or x == 0 and y == c - 1:\n",
    "        if dist == k and x == 0 and y == c - 1:\n",
    "            count += 1\n",
    "            \n",
    "    for i in range(4):\n",
    "        nx = x + dx[i]\n",
    "        ny = y + dy[i]\n",
    "        \n",
    "        if nx < 0 or nx >= r or ny < 0 or ny >= c:\n",
    "            continue\n",
    "        if li[nx][ny] == 'T':\n",
    "            continue\n",
    "        if vt[nx][ny]:\n",
    "            continue\n",
    "            \n",
    "        vt[nx][ny] = True    \n",
    "        dfs(nx, ny, dist + 1)\n",
    "        vt[nx][ny] = False\n",
    "    \n",
    "count = 0\n",
    "vt[r - 1][0] = True\n",
    "dfs(r - 1, 0, 1)\n",
    "\n",
    "print(count)"
   ]
  },
  {
   "cell_type": "markdown",
   "metadata": {},
   "source": [
    "### 팰린드롬 만들기 1254"
   ]
  },
  {
   "cell_type": "code",
   "execution_count": 51,
   "metadata": {},
   "outputs": [
    {
     "name": "stdout",
     "output_type": "stream",
     "text": [
      "a\n",
      "1\n"
     ]
    }
   ],
   "source": [
    "s = input()\n",
    "\n",
    "def check(s):\n",
    "    n = len(s)\n",
    "    \n",
    "    for i in range(n // 2):\n",
    "        if s[i] != s[n - 1 - i]:\n",
    "            return False\n",
    "    return True\n",
    "\n",
    "n = len(s)\n",
    "for i in range(n):\n",
    "    if check(s[i:]):\n",
    "        print(n + i)\n",
    "        break"
   ]
  },
  {
   "cell_type": "markdown",
   "metadata": {},
   "source": [
    "### PLATFORME 1276"
   ]
  },
  {
   "cell_type": "code",
   "execution_count": 54,
   "metadata": {},
   "outputs": [
    {
     "name": "stdout",
     "output_type": "stream",
     "text": [
      "3\n",
      "1 5 10\n",
      "3 1 5\n",
      "5 3 7\n",
      "14\n"
     ]
    }
   ],
   "source": [
    "ip = lambda: input()\n",
    "iip = lambda: int(input())\n",
    "miip = lambda: map(int, input().split())\n",
    "liip = lambda: list(map(int, input().split()))\n",
    "sip = lambda: input().split() # splitted input\n",
    "lip = lambda: list(input())\n",
    "\n",
    "n = iip()\n",
    "li = [liip() for _ in range(n)]\n",
    "\n",
    "li.sort(key=lambda x: x[0])\n",
    "\n",
    "pfs = [0] * 10000 # 커버 가능 구간 시작 기준\n",
    "total = 0\n",
    "for h, x1, x2 in li:\n",
    "    total += h - pfs[x1]\n",
    "    total += h - pfs[x2 - 1]\n",
    "    \n",
    "    for i in range(x1, x2):\n",
    "        pfs[i] = h\n",
    "        \n",
    "print(total)"
   ]
  },
  {
   "cell_type": "markdown",
   "metadata": {},
   "source": [
    "### 지름길 1446"
   ]
  },
  {
   "cell_type": "code",
   "execution_count": 69,
   "metadata": {},
   "outputs": [
    {
     "name": "stdout",
     "output_type": "stream",
     "text": [
      "2 100\n",
      "10 60 40\n",
      "50 90 20\n",
      "80\n"
     ]
    }
   ],
   "source": [
    "from itertools import combinations as comb\n",
    "\n",
    "n, d = map(int, input().split())\n",
    "li = [list(map(int, input().split())) for _ in range(n)]\n",
    "\n",
    "li = [v for v in li if v[1] <= d]\n",
    "n = len(li)\n",
    "li.sort(key=lambda x: (x[0], x[1]))\n",
    "\n",
    "cases = [()]\n",
    "for i in range(1, n + 1):\n",
    "    cases.extend(comb(range(n), i))\n",
    "    \n",
    "min_dist = float('inf')\n",
    "for case in cases:\n",
    "    \n",
    "    cur_e = 0\n",
    "    ip = True\n",
    "    dist = 0\n",
    "    for v in case:\n",
    "        s, e, di = li[v]\n",
    "        dist += s - cur_e\n",
    "        dist += di\n",
    "        if s < cur_e:\n",
    "            ip = False\n",
    "            break\n",
    "        cur_e = e\n",
    "    dist += d - cur_e\n",
    "    \n",
    "    if not ip:\n",
    "        continue\n",
    "        \n",
    "    min_dist = min(min_dist, dist)\n",
    "    \n",
    "print(min_dist)"
   ]
  },
  {
   "cell_type": "code",
   "execution_count": 70,
   "metadata": {},
   "outputs": [
    {
     "name": "stdout",
     "output_type": "stream",
     "text": [
      "2 100\n",
      "10 60 40\n",
      "50 90 20\n",
      "80\n"
     ]
    }
   ],
   "source": [
    "from collections import defaultdict as dd\n",
    "\n",
    "n, d = map(int, input().split())\n",
    "dt = dd(list)\n",
    "for _ in range(n):\n",
    "    s, e, di = map(int, input().split())\n",
    "    \n",
    "    dt[e].append((s, di))\n",
    "    \n",
    "dp = [0] * (d + 1)\n",
    "for i in range(1, d + 1):\n",
    "    dp[i] = dp[i - 1] + 1\n",
    "    \n",
    "    for s, di in dt[i]:\n",
    "        if dp[s] + di < dp[i]:\n",
    "            dp[i] = dp[s] + di\n",
    "            \n",
    "print(dp[d])"
   ]
  }
 ],
 "metadata": {
  "kernelspec": {
   "display_name": "Python 3",
   "language": "python",
   "name": "python3"
  },
  "language_info": {
   "codemirror_mode": {
    "name": "ipython",
    "version": 3
   },
   "file_extension": ".py",
   "mimetype": "text/x-python",
   "name": "python",
   "nbconvert_exporter": "python",
   "pygments_lexer": "ipython3",
   "version": "3.7.3"
  }
 },
 "nbformat": 4,
 "nbformat_minor": 4
}
