{
 "cells": [
  {
   "cell_type": "markdown",
   "metadata": {},
   "source": [
    "tier:s1.. solved:100.. (tag:math|tag:bruteforcing|tag:binary_search|tag:two_pointer|tag:ad_hoc|tag:constructive|tag:prefix_sum|tag:greedy|tag:dp|tag:implementation|tag:sorting|tag:dfs) - tag:arbitrary_precision - solved_by:hsh8086"
   ]
  },
  {
   "cell_type": "markdown",
   "metadata": {},
   "source": [
    "### 물병 1052"
   ]
  },
  {
   "cell_type": "code",
   "execution_count": 23,
   "metadata": {},
   "outputs": [
    {
     "name": "stdout",
     "output_type": "stream",
     "text": [
      "1000000 5\n"
     ]
    }
   ],
   "source": [
    "n, k = map(int, input().split())"
   ]
  },
  {
   "cell_type": "code",
   "execution_count": 51,
   "metadata": {},
   "outputs": [
    {
     "name": "stdout",
     "output_type": "stream",
     "text": [
      "10000000 1\n",
      "6777216\n"
     ]
    }
   ],
   "source": [
    "n, k = map(int, input().split())\n",
    "\n",
    "cur = [0] * 25\n",
    "cur[0] = n\n",
    "while True:\n",
    "    is_changed = False\n",
    "    for i in range(1, 25):\n",
    "        count = cur[i - 1] // 2\n",
    "        if count >= 1:\n",
    "            is_changed = True\n",
    "        cur[i] += count\n",
    "        cur[i - 1] -= count * 2\n",
    "        \n",
    "    if not is_changed:\n",
    "        break\n",
    "        \n",
    "total = 0\n",
    "while sum(cur) > k:\n",
    "    tai = cur.index(1) # to add index\n",
    "    total += 2 ** tai\n",
    "    cur[tai] += 1\n",
    "    for i in range(1, 25):\n",
    "        count = cur[i - 1] // 2\n",
    "        if count >= 1:\n",
    "            is_changed = True\n",
    "        cur[i] += count\n",
    "        cur[i - 1] -= count * 2    \n",
    "\n",
    "print(total)"
   ]
  },
  {
   "cell_type": "code",
   "execution_count": 79,
   "metadata": {},
   "outputs": [
    {
     "name": "stdout",
     "output_type": "stream",
     "text": [
      "10000000 1\n",
      "6777216\n"
     ]
    }
   ],
   "source": [
    "n, k = map(int, input().split())\n",
    "\n",
    "total = 0\n",
    "while True:\n",
    "    bn = bin(n)\n",
    "    if bn.count('1') <= k:\n",
    "        break\n",
    "    \n",
    "    to_add = len(bn) - 1 - bn.rfind('1')\n",
    "    to_add = 2 ** to_add\n",
    "    total += to_add\n",
    "    n += to_add\n",
    "    \n",
    "print(total)"
   ]
  },
  {
   "cell_type": "markdown",
   "metadata": {},
   "source": [
    "### 색칠 1 1117"
   ]
  },
  {
   "cell_type": "code",
   "execution_count": 10,
   "metadata": {},
   "outputs": [
    {
     "name": "stdout",
     "output_type": "stream",
     "text": [
      "5 6 2 2 1 1 3 2\n"
     ]
    }
   ],
   "source": [
    "w, h, f, c, x1, y1, x2, y2 = map(int, input().split())"
   ]
  },
  {
   "cell_type": "code",
   "execution_count": 16,
   "metadata": {},
   "outputs": [
    {
     "name": "stdout",
     "output_type": "stream",
     "text": [
      "4 8 3 0 1 1 3 2\n",
      "30\n"
     ]
    }
   ],
   "source": [
    "w, h, f, c, x1, y1, x2, y2 = map(int, input().split())\n",
    "\n",
    "dubbed_end_x = 0\n",
    "if f * 2 <= w:\n",
    "    dubbed_end_x = f\n",
    "else:\n",
    "    dubbed_end_x = w - f\n",
    "    \n",
    "hh = y2 - y1\n",
    "\n",
    "total = 0\n",
    "if x2 <= dubbed_end_x:\n",
    "    total = (x2 - x1) * hh * (c + 1) * 2\n",
    "elif dubbed_end_x <= x1:\n",
    "    total = (x2 - x1) * hh * (c + 1)\n",
    "else:\n",
    "    t1 = (dubbed_end_x - x1) * hh * (c + 1) * 2\n",
    "    t2 = (x2 - dubbed_end_x) * hh * (c + 1)\n",
    "    \n",
    "    total = t1 + t2\n",
    "    \n",
    "print(w * h - total)"
   ]
  },
  {
   "cell_type": "markdown",
   "metadata": {},
   "source": [
    "### 줄어드는 수 1174"
   ]
  },
  {
   "cell_type": "code",
   "execution_count": 34,
   "metadata": {},
   "outputs": [
    {
     "name": "stdout",
     "output_type": "stream",
     "text": [
      "19\n",
      "42\n"
     ]
    }
   ],
   "source": [
    "cases = []\n",
    "\n",
    "def recur(s):\n",
    "    cases.append(int(s))\n",
    "    for i in range(0, int(s[-1])):\n",
    "        recur(s + str(i))\n",
    "    \n",
    "for i in range(0, 10):\n",
    "    recur(str(i))\n",
    "    \n",
    "cases.sort()\n",
    "    \n",
    "n = int(input())\n",
    "if n - 1 >= len(cases):\n",
    "    print(-1)\n",
    "else:\n",
    "    print(cases[n - 1])"
   ]
  },
  {
   "cell_type": "code",
   "execution_count": 37,
   "metadata": {},
   "outputs": [
    {
     "name": "stdout",
     "output_type": "stream",
     "text": [
      "0\n",
      "0\n"
     ]
    }
   ],
   "source": [
    "cases = []\n",
    "\n",
    "def recur(s):\n",
    "    cases.append(int(s))\n",
    "    for i in range(0, int(s[-1])):\n",
    "        recur(s + str(i))\n",
    "    \n",
    "for i in range(0, 10):\n",
    "    recur(str(i))\n",
    "    \n",
    "cases.sort()\n",
    "    \n",
    "n = int(input())\n",
    "if n >= len(cases):\n",
    "    print(-1)\n",
    "else:\n",
    "    print(cases[n])"
   ]
  },
  {
   "cell_type": "code",
   "execution_count": 38,
   "metadata": {},
   "outputs": [
    {
     "name": "stdout",
     "output_type": "stream",
     "text": [
      "3 4 6\n",
      "....\n",
      ".T..\n",
      "....\n"
     ]
    }
   ],
   "source": [
    "r, c, k = map(int, input().split())\n",
    "li = [input() for _ in range(r)]"
   ]
  },
  {
   "cell_type": "code",
   "execution_count": 44,
   "metadata": {},
   "outputs": [
    {
     "name": "stdout",
     "output_type": "stream",
     "text": [
      "4\n"
     ]
    }
   ],
   "source": [
    "r, c, k = map(int, input().split())\n",
    "li = [input() for _ in range(r)]\n",
    "\n",
    "dx = [-1, 1, 0, 0]\n",
    "dy = [0, 0, -1, 1]\n",
    "vt = [[False] * c for _ in range(r)]\n",
    "\n",
    "def dfs(x, y, dist):\n",
    "    global count\n",
    "    \n",
    "    if dist == k or x == 0 and y == c - 1:\n",
    "        if dist == k and x == 0 and y == c - 1:\n",
    "            count += 1\n",
    "            \n",
    "    for i in range(4):\n",
    "        nx = x + dx[i]\n",
    "        ny = y + dy[i]\n",
    "        \n",
    "        if nx < 0 or nx >= r or ny < 0 or ny >= c:\n",
    "            continue\n",
    "        if li[nx][ny] == 'T':\n",
    "            continue\n",
    "        if vt[nx][ny]:\n",
    "            continue\n",
    "            \n",
    "        vt[nx][ny] = True    \n",
    "        dfs(nx, ny, dist + 1)\n",
    "        vt[nx][ny] = False\n",
    "    \n",
    "count = 0\n",
    "vt[r - 1][0] = True\n",
    "dfs(r - 1, 0, 1)\n",
    "\n",
    "print(count)"
   ]
  },
  {
   "cell_type": "markdown",
   "metadata": {},
   "source": [
    "### 팰린드롬 만들기 1254"
   ]
  },
  {
   "cell_type": "code",
   "execution_count": 51,
   "metadata": {},
   "outputs": [
    {
     "name": "stdout",
     "output_type": "stream",
     "text": [
      "a\n",
      "1\n"
     ]
    }
   ],
   "source": [
    "s = input()\n",
    "\n",
    "def check(s):\n",
    "    n = len(s)\n",
    "    \n",
    "    for i in range(n // 2):\n",
    "        if s[i] != s[n - 1 - i]:\n",
    "            return False\n",
    "    return True\n",
    "\n",
    "n = len(s)\n",
    "for i in range(n):\n",
    "    if check(s[i:]):\n",
    "        print(n + i)\n",
    "        break"
   ]
  },
  {
   "cell_type": "markdown",
   "metadata": {},
   "source": [
    "### PLATFORME 1276"
   ]
  },
  {
   "cell_type": "code",
   "execution_count": 54,
   "metadata": {},
   "outputs": [
    {
     "name": "stdout",
     "output_type": "stream",
     "text": [
      "3\n",
      "1 5 10\n",
      "3 1 5\n",
      "5 3 7\n",
      "14\n"
     ]
    }
   ],
   "source": [
    "ip = lambda: input()\n",
    "iip = lambda: int(input())\n",
    "miip = lambda: map(int, input().split())\n",
    "liip = lambda: list(map(int, input().split()))\n",
    "sip = lambda: input().split() # splitted input\n",
    "lip = lambda: list(input())\n",
    "\n",
    "n = iip()\n",
    "li = [liip() for _ in range(n)]\n",
    "\n",
    "li.sort(key=lambda x: x[0])\n",
    "\n",
    "pfs = [0] * 10000 # 커버 가능 구간 시작 기준\n",
    "total = 0\n",
    "for h, x1, x2 in li:\n",
    "    total += h - pfs[x1]\n",
    "    total += h - pfs[x2 - 1]\n",
    "    \n",
    "    for i in range(x1, x2):\n",
    "        pfs[i] = h\n",
    "        \n",
    "print(total)"
   ]
  },
  {
   "cell_type": "markdown",
   "metadata": {},
   "source": [
    "### 지름길 1446"
   ]
  },
  {
   "cell_type": "code",
   "execution_count": 69,
   "metadata": {},
   "outputs": [
    {
     "name": "stdout",
     "output_type": "stream",
     "text": [
      "2 100\n",
      "10 60 40\n",
      "50 90 20\n",
      "80\n"
     ]
    }
   ],
   "source": [
    "from itertools import combinations as comb\n",
    "\n",
    "n, d = map(int, input().split())\n",
    "li = [list(map(int, input().split())) for _ in range(n)]\n",
    "\n",
    "li = [v for v in li if v[1] <= d]\n",
    "n = len(li)\n",
    "li.sort(key=lambda x: (x[0], x[1]))\n",
    "\n",
    "cases = [()]\n",
    "for i in range(1, n + 1):\n",
    "    cases.extend(comb(range(n), i))\n",
    "    \n",
    "min_dist = float('inf')\n",
    "for case in cases:\n",
    "    \n",
    "    cur_e = 0\n",
    "    ip = True\n",
    "    dist = 0\n",
    "    for v in case:\n",
    "        s, e, di = li[v]\n",
    "        dist += s - cur_e\n",
    "        dist += di\n",
    "        if s < cur_e:\n",
    "            ip = False\n",
    "            break\n",
    "        cur_e = e\n",
    "    dist += d - cur_e\n",
    "    \n",
    "    if not ip:\n",
    "        continue\n",
    "        \n",
    "    min_dist = min(min_dist, dist)\n",
    "    \n",
    "print(min_dist)"
   ]
  },
  {
   "cell_type": "code",
   "execution_count": 70,
   "metadata": {},
   "outputs": [
    {
     "name": "stdout",
     "output_type": "stream",
     "text": [
      "2 100\n",
      "10 60 40\n",
      "50 90 20\n",
      "80\n"
     ]
    }
   ],
   "source": [
    "from collections import defaultdict as dd\n",
    "\n",
    "n, d = map(int, input().split())\n",
    "dt = dd(list)\n",
    "for _ in range(n):\n",
    "    s, e, di = map(int, input().split())\n",
    "    \n",
    "    dt[e].append((s, di))\n",
    "    \n",
    "dp = [0] * (d + 1)\n",
    "for i in range(1, d + 1):\n",
    "    dp[i] = dp[i - 1] + 1\n",
    "    \n",
    "    for s, di in dt[i]:\n",
    "        if dp[s] + di < dp[i]:\n",
    "            dp[i] = dp[s] + di\n",
    "            \n",
    "print(dp[d])"
   ]
  },
  {
   "cell_type": "markdown",
   "metadata": {},
   "source": [
    "### 기타콘서트 1497"
   ]
  },
  {
   "cell_type": "code",
   "execution_count": 13,
   "metadata": {},
   "outputs": [
    {
     "name": "stdout",
     "output_type": "stream",
     "text": [
      "2 2\n",
      "G NN\n",
      "S NN\n",
      "-1\n"
     ]
    }
   ],
   "source": [
    "from itertools import combinations as comb\n",
    "\n",
    "n, m = map(int, input().split())\n",
    "\n",
    "li = []\n",
    "for _ in range(n):\n",
    "    a, b = input().split()\n",
    "    li.append(b)\n",
    "    \n",
    "cases = []\n",
    "for i in range(1, n + 1):\n",
    "    cases.extend(comb(range(n), i))\n",
    "\n",
    "mngc = float('inf') # min needed guitar count\n",
    "mcp = 0 # max can be played\n",
    "for case in cases:\n",
    "    ip = [False] * m\n",
    "    for i in case:\n",
    "        for j in range(m):\n",
    "            if li[i][j] == 'Y':\n",
    "                ip[j] = True\n",
    "                \n",
    "    cp = ip.count(True)\n",
    "    if cp > mcp:\n",
    "        mcp = cp\n",
    "        mngc = len(case)\n",
    "    elif cp == mcp:\n",
    "        if len(case) < mngc:\n",
    "            mngc = len(case)\n",
    "            \n",
    "if not mcp:\n",
    "    print(-1)\n",
    "else:\n",
    "    print(mngc)"
   ]
  },
  {
   "cell_type": "markdown",
   "metadata": {},
   "source": [
    "### 금민수의 개수 1527"
   ]
  },
  {
   "cell_type": "code",
   "execution_count": 26,
   "metadata": {},
   "outputs": [
    {
     "name": "stdout",
     "output_type": "stream",
     "text": [
      "74 77\n",
      "2\n"
     ]
    }
   ],
   "source": [
    "from itertools import product as pt\n",
    "\n",
    "a, b = map(int, input().split())\n",
    "\n",
    "cases = []\n",
    "for i in range(1, 10):\n",
    "    cases.extend(pt(*[[4, 7] for _ in range(i)]))\n",
    "    \n",
    "cases = [int(''.join(map(str, v))) for v in cases]\n",
    "\n",
    "count = 0\n",
    "for case in cases:\n",
    "    if a <= case <= b:\n",
    "        count += 1\n",
    "        \n",
    "print(count)"
   ]
  },
  {
   "cell_type": "markdown",
   "metadata": {},
   "source": [
    "### 가지고 노는 1 1612"
   ]
  },
  {
   "cell_type": "code",
   "execution_count": 75,
   "metadata": {
    "scrolled": true
   },
   "outputs": [
    {
     "name": "stdout",
     "output_type": "stream",
     "text": [
      "9901\n",
      "12\n"
     ]
    }
   ],
   "source": [
    "n = int(input())\n",
    "\n",
    "cur = 1\n",
    "cur_c = 1\n",
    "for _ in range(10000000):\n",
    "    cur %= n\n",
    "    if cur == 0:\n",
    "        print(cur_c)\n",
    "        break\n",
    "    cur = cur * 10 + 1\n",
    "    cur_c += 1\n",
    "else:\n",
    "    print(-1)"
   ]
  },
  {
   "cell_type": "markdown",
   "metadata": {},
   "source": [
    "### 멍멍이 쓰다듬기 1669"
   ]
  },
  {
   "cell_type": "code",
   "execution_count": 81,
   "metadata": {},
   "outputs": [
    {
     "name": "stdout",
     "output_type": "stream",
     "text": [
      "45 50\n",
      "4\n"
     ]
    }
   ],
   "source": [
    "x, y = map(int, input().split())\n",
    "\n",
    "diff = y - x\n",
    "if diff <= 2:\n",
    "    print(diff)\n",
    "else:\n",
    "    cur_sum = 2\n",
    "    plused = 2\n",
    "    needed_date = 2\n",
    "    while True:\n",
    "        cur_sum += plused\n",
    "        needed_date += 1\n",
    "        \n",
    "        if diff <= cur_sum:\n",
    "            print(needed_date)\n",
    "            break\n",
    "        \n",
    "        if needed_date % 2 == 0:\n",
    "            plused += 1"
   ]
  },
  {
   "cell_type": "markdown",
   "metadata": {},
   "source": [
    "### 수들의 합 6 1821"
   ]
  },
  {
   "cell_type": "code",
   "execution_count": 86,
   "metadata": {},
   "outputs": [
    {
     "name": "stdout",
     "output_type": "stream",
     "text": [
      "4 16\n",
      "3 1 2 4\n"
     ]
    }
   ],
   "source": [
    "from itertools import permutations as perm\n",
    "\n",
    "n, f = map(int, input().split())\n",
    "\n",
    "if n == 1:\n",
    "    print(1)\n",
    "else:\n",
    "    weights = [1, 1]\n",
    "    while len(weights) < n:\n",
    "        temp = []\n",
    "        for i in range(len(weights) - 1):\n",
    "            temp.append(weights[i] + weights[i + 1])\n",
    "        weights = [1] + temp + [1]\n",
    "\n",
    "    for case in perm(range(1, n + 1), n):\n",
    "        total = 0\n",
    "        for i in range(n):\n",
    "            total += weights[i] * case[i]\n",
    "            \n",
    "        if total == f:\n",
    "            print(*case)\n",
    "            break"
   ]
  },
  {
   "cell_type": "markdown",
   "metadata": {},
   "source": [
    "### 사다리 2022"
   ]
  },
  {
   "cell_type": "code",
   "execution_count": 33,
   "metadata": {},
   "outputs": [
    {
     "name": "stdout",
     "output_type": "stream",
     "text": [
      "30 40 10\n"
     ]
    }
   ],
   "source": [
    "x, y, c = map(float, input().split())"
   ]
  },
  {
   "cell_type": "code",
   "execution_count": 40,
   "metadata": {},
   "outputs": [
    {
     "name": "stdout",
     "output_type": "stream",
     "text": [
      "3000000 3000000 10000\n",
      "2999933.3325861013\n"
     ]
    }
   ],
   "source": [
    "x, y, c = map(float, input().split())\n",
    "\n",
    "start = 0.00000001\n",
    "end = 3000000000\n",
    "result = 0\n",
    "while start <= end:\n",
    "    mid = (start + end) / 2\n",
    "\n",
    "    h_s = (x ** 2 - mid ** 2)\n",
    "    w_s = (y ** 2 - mid ** 2)\n",
    "    \n",
    "    if h_s < 0 or w_s < 0:\n",
    "        end = mid - 0.00001\n",
    "        continue\n",
    "        \n",
    "    h = h_s ** 0.5\n",
    "    w = w_s ** 0.5\n",
    "    \n",
    "    ctc = h * w / (h + w) # c to compare\n",
    "    if ctc > c:\n",
    "        result = mid\n",
    "        start = mid + 0.00001\n",
    "    else:\n",
    "        end = mid - 0.00001\n",
    "        \n",
    "print(result)"
   ]
  },
  {
   "cell_type": "markdown",
   "metadata": {},
   "source": [
    "### 수열의 점수 2036"
   ]
  },
  {
   "cell_type": "code",
   "execution_count": 48,
   "metadata": {},
   "outputs": [
    {
     "name": "stdout",
     "output_type": "stream",
     "text": [
      "6\n",
      "0\n",
      "1\n",
      "2\n",
      "4\n",
      "3\n",
      "5\n",
      "27\n"
     ]
    }
   ],
   "source": [
    "import sys\n",
    "# input = lambda: sys.stdin.readline().rstrip()\n",
    "\n",
    "n = int(input())\n",
    "\n",
    "c0 = 0\n",
    "c1 = 0\n",
    "ms = []\n",
    "ps = []\n",
    "\n",
    "for _ in range(n):\n",
    "    v = int(input())\n",
    "    \n",
    "    if v == 0:\n",
    "        c0 += 1\n",
    "    elif v == 1:\n",
    "        c1 += 1\n",
    "    elif v < 0:\n",
    "        ms.append(v)\n",
    "    else:\n",
    "        ps.append(v)\n",
    "        \n",
    "ms.sort()\n",
    "ps.sort(reverse=True)\n",
    "\n",
    "total = c1\n",
    "if len(ms) % 2 == 1:\n",
    "    temp = ms.pop()\n",
    "    if not c0:\n",
    "        total += temp\n",
    "        \n",
    "if len(ps) % 2 == 1:\n",
    "    total += ps.pop()\n",
    "    \n",
    "for i in range(0, len(ms), 2):\n",
    "    total += ms[i] * ms[i + 1]\n",
    "    \n",
    "for i in range(0, len(ps), 2):\n",
    "    total += ps[i] * ps[i + 1]\n",
    "    \n",
    "print(total)"
   ]
  },
  {
   "cell_type": "markdown",
   "metadata": {},
   "source": [
    "### 두 개의 탑 2118"
   ]
  },
  {
   "cell_type": "code",
   "execution_count": 57,
   "metadata": {},
   "outputs": [
    {
     "name": "stdout",
     "output_type": "stream",
     "text": [
      "2\n",
      "2\n",
      "2\n",
      "2\n"
     ]
    }
   ],
   "source": [
    "import sys\n",
    "input = lambda: sys.stdin.readline().rstrip()\n",
    "\n",
    "n = int(input())\n",
    "li = [int(input()) for _ in range(n)]\n",
    "\n",
    "sum_li = [0]\n",
    "cumul = 0\n",
    "for i in range(n):\n",
    "    cumul += li[i]\n",
    "    sum_li.append(cumul)\n",
    "\n",
    "total = sum(li)\n",
    "start = 0\n",
    "end = 0\n",
    "mr = 0 # max result\n",
    "while start <= end < n:\n",
    "    if start == end:\n",
    "        mr = max(mr, min(li[start], total - li[start]))\n",
    "        if li[start] > total - li[start]:\n",
    "            start += 1\n",
    "            end += 1\n",
    "        else:\n",
    "            end += 1\n",
    "    else:\n",
    "        temp = sum_li[end + 1] - sum_li[start]\n",
    "        \n",
    "        mr = max(mr, min(temp, total - temp))\n",
    "        if temp > total - temp:\n",
    "            start += 1\n",
    "        else:\n",
    "            end += 1\n",
    "            \n",
    "print(mr)"
   ]
  },
  {
   "cell_type": "markdown",
   "metadata": {},
   "source": [
    "### 타일 위의 대각선 2168"
   ]
  },
  {
   "cell_type": "code",
   "execution_count": 64,
   "metadata": {},
   "outputs": [
    {
     "name": "stdout",
     "output_type": "stream",
     "text": [
      "5 6\n",
      "10\n"
     ]
    }
   ],
   "source": [
    "from math import gcd\n",
    "\n",
    "x, y = map(int, input().split())\n",
    "\n",
    "r = (x - 1) + (y - 1) + 1 - (gcd(x, y) - 1)\n",
    "\n",
    "print(r)"
   ]
  },
  {
   "cell_type": "markdown",
   "metadata": {},
   "source": [
    "### 정육점 2258"
   ]
  },
  {
   "cell_type": "code",
   "execution_count": 85,
   "metadata": {},
   "outputs": [
    {
     "name": "stdout",
     "output_type": "stream",
     "text": [
      "4 9\n",
      "1 2\n",
      "2 4\n",
      "3 6\n",
      "4 8\n",
      "8\n"
     ]
    }
   ],
   "source": [
    "# 문제 해석 잘못해서 오래 걸렸음 (더 싼 것이 공짜를 더 가벼운 것이 공짜로 해석했음)\n",
    "import sys\n",
    "# input = lambda: sys.stdin.readline().rstrip()\n",
    "\n",
    "n, m = map(int, input().split())\n",
    "li = [list(map(int, input().split())) for _ in range(n)]\n",
    "\n",
    "li.sort(key=lambda x: (x[1], -x[0]))\n",
    "\n",
    "nps = [0] * n # needed prices\n",
    "cur_p = -1\n",
    "cumul_w = 0\n",
    "cpi = -1 # cand start index\n",
    "for i, (w, p) in enumerate(li):\n",
    "    if cur_p < p:\n",
    "        cur_p = p\n",
    "        nps[i] = p\n",
    "    else:\n",
    "        nps[i] = nps[i - 1] + p\n",
    "        \n",
    "    cumul_w += w   \n",
    "    if cumul_w >= m:\n",
    "        if cpi == -1:\n",
    "            cpi = i\n",
    "    \n",
    "if cpi == -1:\n",
    "    print(-1)\n",
    "else:\n",
    "    print(min(nps[cpi:]))"
   ]
  }
 ],
 "metadata": {
  "kernelspec": {
   "display_name": "Python 3",
   "language": "python",
   "name": "python3"
  },
  "language_info": {
   "codemirror_mode": {
    "name": "ipython",
    "version": 3
   },
   "file_extension": ".py",
   "mimetype": "text/x-python",
   "name": "python",
   "nbconvert_exporter": "python",
   "pygments_lexer": "ipython3",
   "version": "3.7.4"
  }
 },
 "nbformat": 4,
 "nbformat_minor": 4
}
