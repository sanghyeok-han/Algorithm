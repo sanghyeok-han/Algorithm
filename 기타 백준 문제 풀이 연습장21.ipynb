{
 "cells": [
  {
   "cell_type": "markdown",
   "metadata": {},
   "source": [
    "https://www.acmicpc.net/problem/15316 현수시티"
   ]
  },
  {
   "cell_type": "code",
   "execution_count": null,
   "metadata": {},
   "outputs": [],
   "source": [
    "from collections import defaultdict as dd\n",
    "from math import log2, ceil\n",
    "import io, os, sys\n",
    "input = io.BytesIO(os.read(0, os.fstat(0).st_size)).readline\n",
    "\n",
    "def find(v):\n",
    "    while v != pa[v]:\n",
    "        v = pa[v]\n",
    "    return v\n",
    "\n",
    "def update(node, l, r):\n",
    "    if ul <= l and r <= ur:\n",
    "        seg[node].append((a, b))\n",
    "    elif ur < l or r < ul:\n",
    "        return\n",
    "    else:\n",
    "        mid = (l + r) // 2\n",
    "        \n",
    "        update(node * 2, l, mid)\n",
    "        update(node * 2 + 1, mid + 1, r)\n",
    "        \n",
    "def query(node, l, r):\n",
    "    unioned_c = 0\n",
    "    for a, b in seg[node]:\n",
    "        ra = find(a)\n",
    "        rb = find(b)\n",
    "     \n",
    "        if ra != rb:\n",
    "            if rank[ra] < rank[rb]:\n",
    "                ra, rb = rb, ra\n",
    "\n",
    "            pa[rb] = ra\n",
    "            is_rank_added = False\n",
    "            if rank[ra] == rank[rb]:\n",
    "                rank[ra] += 1\n",
    "                is_rank_added = True\n",
    "                \n",
    "            unioned_c += 1\n",
    "            unioned_info.append((ra, rb, is_rank_added))\n",
    "    if l == r:\n",
    "        a, b = check_queries[l]\n",
    "        ra = find(a)\n",
    "        rb = find(b)\n",
    "        \n",
    "        if ra == rb:\n",
    "            result[l] = 1\n",
    "    else:\n",
    "        mid = (l + r) // 2\n",
    "        \n",
    "        query(node * 2, l, mid)\n",
    "        query(node * 2 + 1, mid + 1, r)\n",
    "        \n",
    "    for _ in range(unioned_c):\n",
    "        ra, rb, is_rank_added = unioned_info.pop()\n",
    "       \n",
    "        pa[rb] = rb\n",
    "        if is_rank_added:\n",
    "            rank[ra] -= 1\n",
    "\n",
    "n, m = map(int, input().split())\n",
    "\n",
    "edges = []\n",
    "cur_check_used = -1\n",
    "pendings = dd(int)\n",
    "for i in range(m):\n",
    "    a, b = map(int, input().split())\n",
    "    if a > b:\n",
    "        a, b = b, a\n",
    "    edges.append((a, b))\n",
    "    \n",
    "status = list(map(int, input().split()))\n",
    "for i in range(m):\n",
    "    if status[i]:\n",
    "        a, b = edges[i]\n",
    "        pendings[(a, b)] = cur_check_used\n",
    "\n",
    "check_queries = []\n",
    "edge_history = []\n",
    "for qi in range(int(input())):\n",
    "    tp, *qu = map(int, input().split())\n",
    "        \n",
    "    if tp == 2:\n",
    "        a, b = qu\n",
    "        if a > b:\n",
    "            a, b = b, a\n",
    "        \n",
    "        cur_check_used += 1\n",
    "        check_queries.append((a, b))\n",
    "    else:\n",
    "        e_index = qu[0] - 1\n",
    "        a, b = edges[e_index]\n",
    "        \n",
    "        if (a, b) not in pendings:\n",
    "            pendings[(a, b)] = cur_check_used\n",
    "        else:\n",
    "            f_check_used = pendings[(a, b)]\n",
    "    \n",
    "            if f_check_used < cur_check_used:\n",
    "                edge_history.append((a, b, f_check_used + 1, cur_check_used))\n",
    "                \n",
    "            del pendings[(a, b)]\n",
    "            \n",
    "for key in pendings:\n",
    "    f_check_used = pendings[key]\n",
    "    edge_history.append((key[0], key[1], f_check_used + 1, cur_check_used))\n",
    "    \n",
    "size = 2 ** (ceil(log2(cur_check_used + 2)) + 1) + 1\n",
    "seg = [[] for _ in range(size)]\n",
    "\n",
    "for a, b, ul, ur in edge_history:\n",
    "    update(1, 0, cur_check_used)\n",
    "    \n",
    "result = [0] * (cur_check_used + 1)\n",
    "rank = [0] * (n + 1)\n",
    "pa = list(range(n + 1))\n",
    "unioned_info = []\n",
    "query(1, 0, cur_check_used)\n",
    "\n",
    "result = ['YES' if result[i] else 'NO' for i in range(cur_check_used + 1)]\n",
    "\n",
    "print('\\n'.join(result))"
   ]
  },
  {
   "cell_type": "markdown",
   "metadata": {},
   "source": [
    "https://www.acmicpc.net/problem/17689 Candies"
   ]
  },
  {
   "cell_type": "code",
   "execution_count": null,
   "metadata": {},
   "outputs": [],
   "source": [
    "-inf 4   7  inf\n",
    "  0,1 1,2 2,3\n",
    "    \n",
    "-inf  0   1   3   4   6   12 inf\n"
   ]
  },
  {
   "cell_type": "code",
   "execution_count": 16,
   "metadata": {},
   "outputs": [
    {
     "data": {
      "text/plain": [
       "200000000000000"
      ]
     },
     "execution_count": 16,
     "metadata": {},
     "output_type": "execute_result"
    }
   ],
   "source": [
    "1000000000  * 200000"
   ]
  },
  {
   "cell_type": "code",
   "execution_count": 14,
   "metadata": {},
   "outputs": [
    {
     "name": "stdout",
     "output_type": "stream",
     "text": [
      "5\n",
      "3\n",
      "5\n",
      "1\n",
      "7\n",
      "6\n",
      "7\n",
      "12\n",
      "10\n"
     ]
    }
   ],
   "source": [
    "from heapq import heappush, heappop\n",
    "from math import ceil\n",
    "import io, os, sys\n",
    "input = io.BytesIO(os.read(0, os.fstat(0).st_size)).readline\n",
    "print = sys.stdout.write\n",
    "\n",
    "inf = 1000000000000000000000000000000\n",
    "\n",
    "n = int(input())\n",
    "k = ceil(n / 2)\n",
    "\n",
    "values = [-inf] + [int(input()) for _ in range(n)] + [-inf]\n",
    "n += 2\n",
    "\n",
    "heap = []\n",
    "for i in range(n):\n",
    "    heappush(heap, (-values[i], i, i + 1))\n",
    "    \n",
    "prefix_even = [0] * (n + 2)\n",
    "prefix_odd = [0] * (n + 2)\n",
    "\n",
    "cumul = 0\n",
    "for i in range(0, n, 2):\n",
    "    cumul += values[i]\n",
    "    prefix_even[i + 1] = cumul\n",
    "    \n",
    "cumul = 0\n",
    "for i in range(1, n, 2):\n",
    "    cumul += values[i]\n",
    "    prefix_odd[i + 1] = cumul\n",
    "    \n",
    "to_rights = list(range(n + 1))\n",
    "to_lefts = list(range(n + 1))\n",
    "\n",
    "c = 0\n",
    "total = 0\n",
    "vt = [False] * n\n",
    "while c < k:\n",
    "    value, s, e = heappop(heap)\n",
    "    value = -value\n",
    "    \n",
    "    if vt[s] or vt[e]:\n",
    "        continue\n",
    "    vt[s] = vt[e] = True\n",
    "        \n",
    "    c += 1\n",
    "    total += value\n",
    "    \n",
    "    nl = s\n",
    "    if to_lefts[s - 1] != s - 1:\n",
    "        nl = to_lefts[s - 1]\n",
    "    \n",
    "    nr = e\n",
    "    if to_rights[e + 1] != e + 1:\n",
    "        nr = to_rights[e + 1]\n",
    "        \n",
    "    to_rights[nl] = nr\n",
    "    to_lefts[nr] = nl\n",
    "    \n",
    "    if nl % 2 == 1:\n",
    "        cur = prefix_odd[nr] - prefix_odd[nl - 1]\n",
    "        extended = prefix_even[nr + 1] - prefix_even[nl - 2]\n",
    "    else:\n",
    "        cur = prefix_even[nr] - prefix_even[nl - 1]\n",
    "        extended = prefix_odd[nr + 1] - prefix_odd[nl - 2]\n",
    "    \n",
    "    heappush(heap, (-(extended - cur), nl - 1, nr + 1))\n",
    "    \n",
    "    print(str(total) + '\\n')"
   ]
  },
  {
   "cell_type": "markdown",
   "metadata": {},
   "source": [
    "A"
   ]
  },
  {
   "cell_type": "code",
   "execution_count": 4,
   "metadata": {},
   "outputs": [
    {
     "name": "stdout",
     "output_type": "stream",
     "text": [
      "35\n",
      "0\n"
     ]
    }
   ],
   "source": [
    "n = int(input())\n",
    "\n",
    "c = 0\n",
    "to_find = '2023'\n",
    "for num in range(1, n + 1):\n",
    "    sn = str(num)\n",
    "    cur_i = 0\n",
    "    for v in sn:\n",
    "        if v == to_find[cur_i]:\n",
    "            cur_i += 1\n",
    "            if cur_i == 4:\n",
    "                break\n",
    "    \n",
    "    if cur_i == 4:\n",
    "        c += 1\n",
    "        \n",
    "print(c)"
   ]
  },
  {
   "cell_type": "markdown",
   "metadata": {},
   "source": [
    "H"
   ]
  },
  {
   "cell_type": "code",
   "execution_count": null,
   "metadata": {},
   "outputs": [],
   "source": [
    "# 시간 초과\n",
    "import io, os, sys\n",
    "sys.setrecursionlimit(510000)\n",
    "input = io.BytesIO(os.read(0, os.fstat(0).st_size)).readline\n",
    "\n",
    "def dfs(value):\n",
    "    vt[value] = True\n",
    "    \n",
    "    som_01 = som_02 = som_12 = 0 # sum of maxes\n",
    "    for v in li[value]:\n",
    "        if vt[v]:\n",
    "            continue\n",
    "        \n",
    "        dfs(v)\n",
    "        \n",
    "        som_01 += max(dp[v][0], dp[v][1])\n",
    "        som_02 += max(dp[v][0], dp[v][2])\n",
    "        som_12 += max(dp[v][1], dp[v][2])\n",
    "        \n",
    "    dp[value][0] = B[value][0] + som_12\n",
    "    dp[value][1] = B[value][1] + som_02\n",
    "    dp[value][2] = B[value][2] + som_01\n",
    "\n",
    "def dfs2(value, fcolor):\n",
    "    vt[value] = True\n",
    "    \n",
    "    max_v = 0\n",
    "    max_v_color = -1\n",
    "    for color in range(3):\n",
    "        if color == fcolor:\n",
    "            continue\n",
    "        if dp[value][color] > max_v:\n",
    "            max_v = dp[value][color]\n",
    "            max_v_color = color\n",
    "            \n",
    "    colors[value] = max_v_color\n",
    "    for v in li[value]:\n",
    "        if vt[v]:\n",
    "            continue\n",
    "        dfs2(v, max_v_color)\n",
    "    \n",
    "n = int(input())\n",
    "li = [[] for _ in range(n + 1)]\n",
    "for _ in range(n - 1):\n",
    "    a, b = map(int, input().split())\n",
    "    li[a].append(b)\n",
    "    li[b].append(a)\n",
    "    \n",
    "B = [[-1] * 3] + [list(map(int, input().split())) for _ in range(n)]\n",
    "    \n",
    "dp = [[0] * 3 for _ in range(n + 1)]\n",
    "vt = [False] * (n + 1)\n",
    "dfs(1)\n",
    "\n",
    "max_r = max(dp[1])\n",
    "colors = [0] * (n + 1)\n",
    "vt = [False] * (n + 1)\n",
    "dfs2(1, -1)\n",
    "\n",
    "to_color = 'RGB'\n",
    "ncolors = [to_color[colors[i]] for i in range(1, n + 1)]\n",
    "\n",
    "print(max_r)\n",
    "print(''.join(ncolors))"
   ]
  },
  {
   "cell_type": "markdown",
   "metadata": {},
   "source": [
    "https://www.acmicpc.net/problem/1231 주식왕 동호"
   ]
  },
  {
   "cell_type": "code",
   "execution_count": 4,
   "metadata": {},
   "outputs": [
    {
     "data": {
      "text/plain": [
       "250000000"
      ]
     },
     "execution_count": 4,
     "metadata": {},
     "output_type": "execute_result"
    }
   ],
   "source": [
    "c, d, m = map(int, input().split())\n",
    "li = [list(map(int,"
   ]
  }
 ],
 "metadata": {
  "kernelspec": {
   "display_name": "Python 3",
   "language": "python",
   "name": "python3"
  },
  "language_info": {
   "codemirror_mode": {
    "name": "ipython",
    "version": 3
   },
   "file_extension": ".py",
   "mimetype": "text/x-python",
   "name": "python",
   "nbconvert_exporter": "python",
   "pygments_lexer": "ipython3",
   "version": "3.8.3"
  }
 },
 "nbformat": 4,
 "nbformat_minor": 2
}
