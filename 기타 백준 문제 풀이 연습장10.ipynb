{
 "cells": [
  {
   "cell_type": "code",
   "execution_count": null,
   "metadata": {},
   "outputs": [],
   "source": [
    "import sys\n",
    "input = lambda: sys.stdin.readline().rstrip()\n",
    "\n",
    "for _ in range(int(input())):\n",
    "    n = int(input())\n",
    "    li = list(map(int, input().split()))\n",
    "\n",
    "    sv = sum(li)\n",
    "\n",
    "    if sv < 0:\n",
    "        print('Left')\n",
    "    elif sv > 0:\n",
    "        print('Right')\n",
    "    else:\n",
    "        print('Equilibrium')"
   ]
  },
  {
   "cell_type": "code",
   "execution_count": 5,
   "metadata": {},
   "outputs": [
    {
     "name": "stdout",
     "output_type": "stream",
     "text": [
      "3\n",
      "3 0 2\n",
      "1.6666666666666667\n"
     ]
    }
   ],
   "source": [
    "n = int(input())\n",
    "li = list(map(int, input().split()))\n",
    "\n",
    "sv = 0\n",
    "c = 0\n",
    "for v in li:\n",
    "    if v >= 0:\n",
    "        c += 1\n",
    "        sv += v\n",
    "\n",
    "print(sv / c)"
   ]
  },
  {
   "cell_type": "code",
   "execution_count": 10,
   "metadata": {},
   "outputs": [
    {
     "name": "stdout",
     "output_type": "stream",
     "text": [
      "0 2 3\n"
     ]
    }
   ],
   "source": [
    "n = int(input())\n",
    "\n",
    "bn = bin(n)\n",
    "bits = [0] * 30\n",
    "\n",
    "cur = 0\n",
    "result = []\n",
    "for i in range(len(bn) - 1, 1, -1):\n",
    "    if bn[i] == '1':\n",
    "        result.append(cur)\n",
    "    cur += 1\n",
    "        \n",
    "print(*result)"
   ]
  },
  {
   "cell_type": "code",
   "execution_count": 23,
   "metadata": {},
   "outputs": [
    {
     "name": "stdout",
     "output_type": "stream",
     "text": [
      "0\n",
      "1\n"
     ]
    }
   ],
   "source": [
    "n = int(input())\n",
    "\n",
    "if n == 0:\n",
    "    print(1)\n",
    "elif n == 1:\n",
    "    print(0)\n",
    "else:\n",
    "    c8 = n // 2\n",
    "    c4 = 0\n",
    "    if n % 2 != 0:\n",
    "        c4 = 1\n",
    "        \n",
    "    r = '4' * c4 + '8' * c8\n",
    "    \n",
    "    print(r)"
   ]
  },
  {
   "cell_type": "code",
   "execution_count": 29,
   "metadata": {},
   "outputs": [
    {
     "name": "stdout",
     "output_type": "stream",
     "text": [
      "1 1\n",
      "4\n",
      "3\n",
      "Yes\n"
     ]
    }
   ],
   "source": [
    "import sys\n",
    "input = lambda: sys.stdin.readline().rstrip()\n",
    "\n",
    "for _ in range(int(input())):\n",
    "    n, m = map(int, input().split())\n",
    "    a = list(map(int, input().split()))\n",
    "    b = list(map(int, input().split()))\n",
    "\n",
    "    if n <= m:\n",
    "        print('Yes')\n",
    "    else:\n",
    "        print('No')"
   ]
  },
  {
   "cell_type": "code",
   "execution_count": 36,
   "metadata": {},
   "outputs": [
    {
     "name": "stdout",
     "output_type": "stream",
     "text": [
      "4\n",
      "SPRS\n",
      "4\n",
      "RPRP\n",
      "SRRR\n",
      "SSPR\n",
      "PSPS\n",
      "12\n",
      "21\n"
     ]
    }
   ],
   "source": [
    "def get_sc(cur, oppo):\n",
    "    if cur == oppo:\n",
    "        return 1\n",
    "    if cur == 'S':\n",
    "        if oppo == 'P':\n",
    "            return 2\n",
    "        else:\n",
    "            return 0\n",
    "    elif cur == 'P':\n",
    "        if oppo == 'R':\n",
    "            return 2\n",
    "        else:\n",
    "            return 0\n",
    "    else:\n",
    "        if oppo == 'S':\n",
    "            return 2\n",
    "        else:\n",
    "            return 0\n",
    "\n",
    "n = int(input())\n",
    "li = input()\n",
    "\n",
    "oppos_len = int(input())\n",
    "\n",
    "oppos = []\n",
    "for _ in range(oppos_len):\n",
    "    temp = input()\n",
    "    oppos.append(temp)\n",
    "\n",
    "r1 = 0\n",
    "r2 = 0\n",
    "for i in range(n):\n",
    "    t1 = t2 = t3 = 0\n",
    "    for oppo_i in range(oppos_len):\n",
    "        r1 += get_sc(li[i], oppos[oppo_i][i])\n",
    "        \n",
    "        t1 += get_sc('S', oppos[oppo_i][i])\n",
    "        t2 += get_sc('P', oppos[oppo_i][i])\n",
    "        t3 += get_sc('R', oppos[oppo_i][i])\n",
    "\n",
    "    r2 += max(t1, t2, t3)\n",
    "\n",
    "print(r1)\n",
    "print(r2)"
   ]
  },
  {
   "cell_type": "code",
   "execution_count": 10,
   "metadata": {},
   "outputs": [
    {
     "name": "stdout",
     "output_type": "stream",
     "text": [
      "2\n",
      "3\n",
      "1 10\n",
      "5 5\n",
      "7 7\n",
      "Case #1: 2\n",
      "2\n",
      "1 1\n",
      "2 2\n",
      "Case #2: 0\n"
     ]
    }
   ],
   "source": [
    "import sys\n",
    "input = lambda: sys.stdin.readline().rstrip()\n",
    "\n",
    "for tn in range(int(input())):\n",
    "    n = int(input())\n",
    "\n",
    "    li = [list(map(int, input().split())) for _ in range(n)]\n",
    "    li.sort(key=lambda x: x[0])\n",
    "\n",
    "    A = []\n",
    "    B = []\n",
    "    for a, b in li:\n",
    "        A.append(a)\n",
    "        B.append(b)\n",
    "\n",
    "    total = 0\n",
    "    for i in range(n):\n",
    "        cri = B[i]\n",
    "        for j in range(i + 1, n):\n",
    "            if B[j] < cri:\n",
    "                total += 1\n",
    "\n",
    "    r = f'Case #{tn + 1}: {total}'\n",
    "    \n",
    "    print(r)"
   ]
  },
  {
   "cell_type": "markdown",
   "metadata": {},
   "source": [
    "https://www.acmicpc.net/problem/12043 Lazy Spelling Bee (Large) "
   ]
  },
  {
   "cell_type": "code",
   "execution_count": 13,
   "metadata": {},
   "outputs": [
    {
     "name": "stdout",
     "output_type": "stream",
     "text": [
      "2\n",
      "ag\n",
      "Case #1: 4\n",
      "aa\n",
      "Case #2: 1\n"
     ]
    }
   ],
   "source": [
    "import sys\n",
    "input = lambda: sys.stdin.readline().rstrip()\n",
    "\n",
    "mod = 1000000007\n",
    "\n",
    "for tn in range(int(input())):\n",
    "    s = input()\n",
    "    n = len(s)\n",
    "\n",
    "    cur = 1\n",
    "    for i in range(n):\n",
    "        st = set()\n",
    "        if i - 1 >= 0:\n",
    "            st.add(s[i - 1])\n",
    "        st.add(s[i])\n",
    "        if i + 1 < n:\n",
    "            st.add(s[i + 1])\n",
    "\n",
    "        cur *= len(st)\n",
    "        cur %= mod\n",
    "\n",
    "    print(f'Case #{tn + 1}: {cur}')"
   ]
  },
  {
   "cell_type": "markdown",
   "metadata": {},
   "source": [
    "-"
   ]
  },
  {
   "cell_type": "code",
   "execution_count": 11,
   "metadata": {},
   "outputs": [
    {
     "name": "stdout",
     "output_type": "stream",
     "text": [
      "1\n",
      "4 11111\n",
      "Case #1: 0\n"
     ]
    }
   ],
   "source": [
    "import sys\n",
    "input = lambda: sys.stdin.readline().rstrip()\n",
    "\n",
    "for tn in range(int(input())):\n",
    "    n, li = input().split()\n",
    "\n",
    "    n = int(n)\n",
    "    li = list(map(int, li))\n",
    "\n",
    "    total = 0\n",
    "    cur = li[0]\n",
    "    for needed in range(1, n + 1):\n",
    "        if li[needed] == 0:\n",
    "            continue\n",
    "\n",
    "        if cur >= needed:\n",
    "            cur += li[needed]\n",
    "        else:\n",
    "            diff = needed - cur\n",
    "            total += diff\n",
    "            cur += diff\n",
    "            cur += li[needed]\n",
    "\n",
    "    print(f'Case #{tn + 1}: {total}')"
   ]
  },
  {
   "cell_type": "code",
   "execution_count": 13,
   "metadata": {},
   "outputs": [
    {
     "name": "stdout",
     "output_type": "stream",
     "text": [
      "1\n",
      "all tour\n",
      "Case #1: tour all\n"
     ]
    }
   ],
   "source": [
    "import sys\n",
    "input = lambda: sys.stdin.readline().rstrip()\n",
    "\n",
    "for tn in range(int(input())):\n",
    "    li = input().split()\n",
    "    li.reverse()\n",
    "\n",
    "    print(f'Case #{tn + 1}:', *li)"
   ]
  },
  {
   "cell_type": "code",
   "execution_count": 16,
   "metadata": {},
   "outputs": [
    {
     "name": "stdout",
     "output_type": "stream",
     "text": [
      "8\n",
      "8\n",
      "2 1 9 4 4 56 90 3\n",
      "Case #1: 4 5\n"
     ]
    }
   ],
   "source": [
    "import sys\n",
    "input = lambda: sys.stdin.readline().rstrip()\n",
    "\n",
    "for tn in range(int(input())):\n",
    "    c = int(input())\n",
    "    n = int(input())\n",
    "    li = list(map(int, input().split()))\n",
    "\n",
    "    ri, rj = -1, -1\n",
    "    for i in range(n):\n",
    "        for j in range(i + 1, n):\n",
    "            if li[i] + li[j] == c:\n",
    "                ri, rj = i, j\n",
    "                break\n",
    "        if ri != -1:\n",
    "            break\n",
    "\n",
    "    print(f'Case #{tn + 1}:', ri + 1, rj + 1)"
   ]
  },
  {
   "cell_type": "code",
   "execution_count": 20,
   "metadata": {},
   "outputs": [
    {
     "name": "stdout",
     "output_type": "stream",
     "text": [
      "4\n",
      "15 25 30 35 45 50 10 20\n",
      "2\n",
      "15\n",
      "25\n"
     ]
    }
   ],
   "source": [
    "import sys\n",
    "input = lambda: sys.stdin.readline().rstrip()\n",
    "\n",
    "t = int(input())\n",
    "for tn in range(t):\n",
    "    n = int(input())\n",
    "    li = list(map(int, input().split()))\n",
    "    q = int(input())\n",
    "    qus = [int(input()) for _ in range(q)]\n",
    "\n",
    "    r = [0] * 5001\n",
    "    for i in range(0, n * 2, 2):\n",
    "        start = li[i]\n",
    "        end = li[i + 1]\n",
    "\n",
    "        for i in range(start, end + 1):\n",
    "            r[i] += 1\n",
    "\n",
    "    result = [0] * q\n",
    "    for qi in range(q):\n",
    "        result[qi] = r[qus[qi]]\n",
    "\n",
    "    print(f'Case #{tn + 1}:', *result)\n",
    "    \n",
    "    if tn != t - 1:\n",
    "        input()"
   ]
  },
  {
   "cell_type": "code",
   "execution_count": 23,
   "metadata": {},
   "outputs": [
    {
     "name": "stdout",
     "output_type": "stream",
     "text": [
      "1\n",
      "5\n",
      "1 2 3 6 7\n",
      "Case #1: 5.0\n"
     ]
    }
   ],
   "source": [
    "import sys\n",
    "input = lambda: sys.stdin.readline().rstrip()\n",
    "\n",
    "for tn in range(int(input())):\n",
    "    n = int(input())\n",
    "    li = list(map(int, input().split()))\n",
    "\n",
    "    for i in range(1, n - 1):\n",
    "        avg = (li[i - 1] + li[i + 1]) / 2\n",
    "        if li[i] > avg:\n",
    "            li[i] = avg\n",
    "\n",
    "    print(f'Case #{tn + 1}: {li[n - 2]}')"
   ]
  },
  {
   "cell_type": "code",
   "execution_count": 26,
   "metadata": {},
   "outputs": [
    {
     "name": "stdout",
     "output_type": "stream",
     "text": [
      "2\n",
      "620 7 179\n",
      "300 5 100\n",
      "1\n"
     ]
    }
   ],
   "source": [
    "import sys\n",
    "input = lambda: sys.stdin.readline().rstrip()\n",
    "\n",
    "n = int(input())\n",
    "li = [list(map(int, input().split())) + [i + 1] for i in range(n)]\n",
    "\n",
    "li.sort(key=lambda x: (-x[0], x[1], x[2]))\n",
    "\n",
    "print(li[0][3])"
   ]
  },
  {
   "cell_type": "code",
   "execution_count": null,
   "metadata": {},
   "outputs": [],
   "source": [
    "import sys\n",
    "input = lambda: sys.stdin.readline().rstrip()\n",
    "\n",
    "tn = 1\n",
    "while True:\n",
    "    o, w = map(int, input().split())\n",
    "    if o == w == 0:\n",
    "        break\n",
    "\n",
    "    is_dead = False\n",
    "    while True:\n",
    "        tp, amount = input().split()\n",
    "        if tp == '#':\n",
    "            break\n",
    "        amount = int(amount)\n",
    "\n",
    "        if tp == 'F':\n",
    "            w += amount\n",
    "        else:\n",
    "            w -= amount\n",
    "\n",
    "        if w <= 0:\n",
    "            is_dead = True\n",
    "\n",
    "    r = ''\n",
    "    if is_dead:\n",
    "        r = 'RIP'\n",
    "    elif o < w * 2 < o * 4:\n",
    "        r = ':-)'\n",
    "    else:\n",
    "        r = ':-('\n",
    "\n",
    "    print(f'{tn} {r}')\n",
    "    tn += 1"
   ]
  },
  {
   "cell_type": "code",
   "execution_count": null,
   "metadata": {},
   "outputs": [],
   "source": [
    "if o * 1/2 < w < o * 2\n",
    "\n",
    "if o < w * 2 < o * 4"
   ]
  },
  {
   "cell_type": "markdown",
   "metadata": {},
   "source": [
    "https://www.acmicpc.net/problem/12850 본대 산책2"
   ]
  },
  {
   "cell_type": "code",
   "execution_count": 29,
   "metadata": {},
   "outputs": [
    {
     "data": {
      "text/plain": [
       "4096"
      ]
     },
     "execution_count": 29,
     "metadata": {},
     "output_type": "execute_result"
    }
   ],
   "source": [
    "8*8*8*8"
   ]
  },
  {
   "cell_type": "code",
   "execution_count": 43,
   "metadata": {},
   "outputs": [
    {
     "name": "stdout",
     "output_type": "stream",
     "text": [
      "10\n",
      "9857\n"
     ]
    }
   ],
   "source": [
    "mod = 1000000007\n",
    "\n",
    "li = [[1, 7], [0, 2, 7], [1, 3, 6, 7], [2, 4, 6], [3, 5], [4, 6], [2, 3, 5, 7], [0, 1, 2, 6]]\n",
    "\n",
    "def recur(n):\n",
    "    global init_mul_mat\n",
    "    \n",
    "    if n == 1:\n",
    "        return init_mul_mat\n",
    "    \n",
    "    mat = recur(n // 2)\n",
    "    \n",
    "    mul_mat = [[0] * 8 for _ in range(8)]\n",
    "    for i in range(8):\n",
    "        for j in range(8):\n",
    "            temp = 0\n",
    "            for k in range(8):\n",
    "                temp += mat[i][k] * mat[k][j]\n",
    "                temp %= mod\n",
    "            mul_mat[i][j] = temp\n",
    "            \n",
    "    if n % 2 == 1:\n",
    "        nmul_mat = [[0] * 8 for _ in range(8)]\n",
    "        for i in range(8):\n",
    "            for j in range(8):\n",
    "                temp = 0\n",
    "                for k in range(8):\n",
    "                    temp += mul_mat[i][k] * init_mul_mat[k][j]\n",
    "                    temp %= mod\n",
    "                nmul_mat[i][j] = temp\n",
    "                \n",
    "        return nmul_mat\n",
    "    else:\n",
    "        return mul_mat\n",
    "                    \n",
    "d = int(input())\n",
    "\n",
    "init_mul_mat = [[0] * 8 for _ in range(8)]\n",
    "for value in range(8):\n",
    "    for v in li[value]:\n",
    "        init_mul_mat[value][v] = 1\n",
    "        init_mul_mat[v][value] = 1\n",
    "\n",
    "mat = recur(d)\n",
    "\n",
    "print(mat[0][0])"
   ]
  },
  {
   "cell_type": "code",
   "execution_count": 46,
   "metadata": {},
   "outputs": [
    {
     "name": "stdout",
     "output_type": "stream",
     "text": [
      "10\n",
      "9857\n"
     ]
    }
   ],
   "source": [
    "mod = 1000000007\n",
    "\n",
    "li = [[1, 7], [0, 2, 7], [1, 3, 6, 7], [2, 4, 6], [3, 5], [4, 6], [2, 3, 5, 7], [0, 1, 2, 6]]\n",
    "\n",
    "def recur(n):\n",
    "    global init_mul_mat\n",
    "    \n",
    "    if n == 1:\n",
    "        return init_mul_mat\n",
    "    \n",
    "    mat = recur(n // 2)\n",
    "    \n",
    "    mul_mat = [[0] * 8 for _ in range(8)]\n",
    "    for i in range(8):\n",
    "        for j in range(8):\n",
    "            temp = 0\n",
    "            for k in range(8):\n",
    "                temp += mat[i][k] * mat[k][j]\n",
    "                temp %= mod\n",
    "            mul_mat[i][j] = temp\n",
    "            \n",
    "    if n % 2 == 1:\n",
    "        nmul_mat = [[0] * 8 for _ in range(8)]\n",
    "        for i in range(8):\n",
    "            for j in range(8):\n",
    "                temp = 0\n",
    "                for k in range(8):\n",
    "                    temp += mul_mat[i][k] * init_mul_mat[k][j]\n",
    "                    temp %= mod\n",
    "                nmul_mat[i][j] = temp\n",
    "                \n",
    "        return nmul_mat\n",
    "    else:\n",
    "        return mul_mat\n",
    "    \n",
    "                \n",
    "d = int(input())\n",
    "\n",
    "init_mul_mat = [[0] * 8 for _ in range(8)]\n",
    "for value in range(8):\n",
    "    for v in li[value]:\n",
    "        init_mul_mat[value][v] = 1\n",
    "        init_mul_mat[v][value] = 1  \n",
    "\n",
    "init_mat = [[0] * 8 for _ in range(8)]\n",
    "init_mat[0][0] = 1\n",
    "\n",
    "mat = recur(d)\n",
    "\n",
    "result = [[0] * 8 for _ in range(8)]\n",
    "for i in range(8):\n",
    "    for j in range(8):\n",
    "        temp = 0\n",
    "        for k in range(8):\n",
    "            temp += init_mat[i][k] * mat[k][j]\n",
    "            temp %= mod\n",
    "        result[i][j] = temp\n",
    "\n",
    "print(result[0][0])"
   ]
  },
  {
   "cell_type": "code",
   "execution_count": null,
   "metadata": {},
   "outputs": [],
   "source": [
    "처음 제 자리 아니면 ( 걺\n",
    "             \n",
    "( 걸은 후의 첫 "
   ]
  },
  {
   "cell_type": "markdown",
   "metadata": {},
   "source": [
    "https://www.acmicpc.net/problem/4312 3의 제곱"
   ]
  },
  {
   "cell_type": "code",
   "execution_count": 21,
   "metadata": {},
   "outputs": [
    {
     "name": "stdout",
     "output_type": "stream",
     "text": [
      "1\n",
      "{ }\n",
      "7\n",
      "{ 3, 9 }\n",
      "0\n"
     ]
    }
   ],
   "source": [
    "import sys\n",
    "input = lambda: sys.stdin.readline().rstrip()\n",
    "\n",
    "while True:\n",
    "    n = int(input())\n",
    "    if n == 0:\n",
    "        break\n",
    "\n",
    "    bn = bin(n - 1)\n",
    "    cur = 1\n",
    "    result = []\n",
    "    for i in range(len(bn) - 1, 1, -1):\n",
    "        if bn[i] == '1':\n",
    "            result.append(cur)\n",
    "\n",
    "        cur *= 3\n",
    "\n",
    "    if not result:\n",
    "        print('{ }')\n",
    "    else:\n",
    "        result = ', '.join(map(str, result))\n",
    "        print('{ ' + result + ' }')"
   ]
  },
  {
   "cell_type": "markdown",
   "metadata": {},
   "source": [
    "https://www.acmicpc.net/contest/problem/849/2"
   ]
  },
  {
   "cell_type": "code",
   "execution_count": null,
   "metadata": {},
   "outputs": [],
   "source": [
    "from heapq import heappush, heappop\n",
    "import sys\n",
    "input = lambda: sys.stdin.readline().rstrip()\n",
    "\n",
    "inf = float('inf')\n",
    "\n",
    "n = int(input())\n",
    "sx, sy, ex, ey = map(int, input().split())\n",
    "\n",
    "get_dist = lambda sx, sy, ex, ey: abs(sx - ex) + abs(sy - ey)\n",
    "\n",
    "min_dist = inf\n",
    "min_dist_num = -1\n",
    "for num in range(n):\n",
    "    li = [[sx, sy]] + [list(map(int, input().split())) for _ in range(int(input()))] + [[ex, ey]]\n",
    "    \n",
    "    dist = 0\n",
    "    for i in range(len(li) - 1):\n",
    "        nsx, nsy = li[i]\n",
    "        nex, ney = li[i + 1]\n",
    "        \n",
    "        dist += get_dist(nsx, nsy, nex, ney)\n",
    "    \n",
    "    if dist < min_dist:\n",
    "        min_dist = dist\n",
    "        min_dist_num = num + 1\n",
    "        \n",
    "print(min_dist_num)"
   ]
  },
  {
   "cell_type": "markdown",
   "metadata": {},
   "source": [
    "https://www.acmicpc.net/problem/9842 Prime"
   ]
  },
  {
   "cell_type": "code",
   "execution_count": 12,
   "metadata": {},
   "outputs": [
    {
     "name": "stdout",
     "output_type": "stream",
     "text": [
      "30\n",
      "113\n"
     ]
    }
   ],
   "source": [
    "max_num = 110000\n",
    "ip = [True] * (max_num + 1)\n",
    "ip[0] = ip[1] = False\n",
    "for mod in range(2, int(max_num ** 0.5) + 1):\n",
    "    if ip[mod]:\n",
    "        for v in range(mod * mod, max_num + 1, mod):\n",
    "            ip[v] = False\n",
    "            \n",
    "primes = [i for i, v in enumerate(ip) if v]\n",
    "\n",
    "n = int(input())\n",
    "\n",
    "r = primes[n - 1]\n",
    "\n",
    "print(r)"
   ]
  },
  {
   "cell_type": "markdown",
   "metadata": {},
   "source": [
    "https://www.acmicpc.net/problem/14729"
   ]
  },
  {
   "cell_type": "code",
   "execution_count": 2,
   "metadata": {},
   "outputs": [
    {
     "name": "stdout",
     "output_type": "stream",
     "text": [
      "8\n",
      "1\n",
      "2\n",
      "3\n",
      "4\n",
      "5\n",
      "6\n",
      "7\n",
      "8\n",
      "1.000\n",
      "2.000\n",
      "3.000\n",
      "4.000\n",
      "5.000\n",
      "6.000\n",
      "7.000\n"
     ]
    }
   ],
   "source": [
    "import sys\n",
    "# input = lambda: sys.stdin.readline().rstrip()\n",
    "\n",
    "n = int(input())\n",
    "li = [float(input()) for _ in range(n)]\n",
    "\n",
    "li.sort()\n",
    "for v in li[:7]:\n",
    "    print('{:.3f}'.format(v))"
   ]
  },
  {
   "cell_type": "markdown",
   "metadata": {},
   "source": [
    "https://www.acmicpc.net/problem/12893 적의 적"
   ]
  },
  {
   "cell_type": "code",
   "execution_count": 5,
   "metadata": {
    "scrolled": true
   },
   "outputs": [
    {
     "name": "stdout",
     "output_type": "stream",
     "text": [
      "3 2\n",
      "1 2\n",
      "2 3\n",
      "1\n"
     ]
    }
   ],
   "source": [
    "from collections import deque\n",
    "import sys\n",
    "input = lambda: sys.stdin.readline().rstrip()\n",
    "\n",
    "n, m = map(int, input().split())\n",
    "\n",
    "li = [[] for _ in range(n + 1)]\n",
    "for _ in range(m):\n",
    "    a, b = map(int, input().split())\n",
    "    \n",
    "    li[a].append(b)\n",
    "    li[b].append(a)\n",
    "    \n",
    "color = [-1] * (n + 1)\n",
    "ip = True\n",
    "\n",
    "for i in range(1, n + 1):\n",
    "    if color[i] != -1:\n",
    "        continue\n",
    "    \n",
    "    color[i] = 0\n",
    "    queue = deque()\n",
    "    queue.append(i)\n",
    "    \n",
    "    while queue:\n",
    "        value = queue.popleft()\n",
    "        \n",
    "        for v in li[value]:\n",
    "            if color[v] != -1:\n",
    "                if color[v] == color[value]:\n",
    "                    ip = False\n",
    "                    break\n",
    "            else:\n",
    "                color[v] = color[value] ^ 1\n",
    "                queue.append(v)\n",
    "                \n",
    "        if not ip:\n",
    "            break\n",
    "            \n",
    "    if not ip:\n",
    "        break\n",
    "        \n",
    "if ip:\n",
    "    print(1)\n",
    "else:\n",
    "    print(0)"
   ]
  },
  {
   "cell_type": "markdown",
   "metadata": {},
   "source": [
    "https://www.acmicpc.net/problem/16955 오목, 이길 수 있을까?"
   ]
  },
  {
   "cell_type": "code",
   "execution_count": null,
   "metadata": {},
   "outputs": [],
   "source": [
    "# 틀렸음\n",
    "def check():\n",
    "    for i in range(10):\n",
    "        for j in range(10):\n",
    "            if j + 4 < 10:\n",
    "                cx = 0\n",
    "                co = 0\n",
    "                for d in range(5):\n",
    "                    temp = li[i][j + d]\n",
    "                    if temp == 'X':\n",
    "                        cx += 1\n",
    "                    elif temp == 'O':\n",
    "                        co += 1\n",
    "\n",
    "                if cx == 4 and co == 0:\n",
    "                    return True\n",
    "      \n",
    "            if i + 4 < 10:\n",
    "                cx = 0\n",
    "                co = 0\n",
    "                for d in range(5):\n",
    "                    temp = li[i + d][j]\n",
    "                    if temp == 'X':\n",
    "                        cx += 1\n",
    "                    elif temp == 'O':\n",
    "                        co += 1\n",
    "\n",
    "                if cx == 4 and co == 0:\n",
    "                    return True\n",
    "            \n",
    "            if i + 4 < 10 and j + 4 < 10:\n",
    "                cx = 0\n",
    "                co = 0\n",
    "                for d in range(5):\n",
    "                    temp = li[i + d][j + d]\n",
    "                    if temp == 'X':\n",
    "                        cx += 1\n",
    "                    elif temp == 'O':\n",
    "                        co += 1\n",
    "\n",
    "                if cx == 4 and co == 0:\n",
    "                    return True\n",
    "            \n",
    "            if i + 4 < 10 and j - 4 >= 0:\n",
    "                cx = 0\n",
    "                co = 0\n",
    "                for d in range(5):\n",
    "                    if j - d <= 0:\n",
    "                        break\n",
    "                    temp = li[i + d][j - d]\n",
    "                    if temp == 'X':\n",
    "                        cx += 1\n",
    "                    elif temp == 'O':\n",
    "                        co += 1\n",
    "\n",
    "                if cx == 4 and co == 0:\n",
    "                    return True\n",
    "\n",
    "    return False\n",
    "\n",
    "li = [input() for _ in range(10)]\n",
    "\n",
    "if check():\n",
    "    print(1)\n",
    "else:\n",
    "    print(0)"
   ]
  },
  {
   "cell_type": "code",
   "execution_count": null,
   "metadata": {},
   "outputs": [],
   "source": [
    "# 맞았음\n",
    "dx = [-1, -1, -1, 0, 0, 1, 1, 1]\n",
    "dy = [-1, 0, 1, -1, 1, -1, 0, 1]\n",
    "\n",
    "def check():\n",
    "    for i in range(10):\n",
    "        for j in range(10):\n",
    "            if li[i][j] == 'X':\n",
    "                for d in range(8):\n",
    "                    cx = 0\n",
    "                    cdot = 0\n",
    "                    ni, nj = i, j\n",
    "                    for _ in range(5):\n",
    "                        if li[ni][nj] == 'X':\n",
    "                            cx += 1\n",
    "                        elif li[ni][nj] == '.':\n",
    "                            cdot += 1\n",
    "                        \n",
    "                        ni += dx[d]\n",
    "                        nj += dy[d]\n",
    "                        \n",
    "                        if ni < 0 or ni >= 10 or nj < 0 or nj >= 10:\n",
    "                            break\n",
    "                            \n",
    "                    if cx == 4 and cdot == 1:\n",
    "                        return True\n",
    "                    \n",
    "    return False\n",
    "\n",
    "li = [input() for _ in range(10)]\n",
    "\n",
    "if check():\n",
    "    print(1)\n",
    "else:\n",
    "    print(0)"
   ]
  },
  {
   "cell_type": "markdown",
   "metadata": {},
   "source": [
    "https://www.acmicpc.net/contest/problem/865/1 A번 - Triathlon"
   ]
  },
  {
   "cell_type": "code",
   "execution_count": 3,
   "metadata": {},
   "outputs": [
    {
     "name": "stdout",
     "output_type": "stream",
     "text": [
      "5\n",
      "1 0 1\n",
      "5 2 3\n",
      "5 5 4\n",
      "0 1 4\n",
      "3 7 2\n",
      "50\n"
     ]
    }
   ],
   "source": [
    "import sys\n",
    "input = lambda: sys.stdin.readline().rstrip()\n",
    "\n",
    "n = int(input())\n",
    "\n",
    "max_sc = -1\n",
    "for _ in range(n):\n",
    "    a, d, g = map(int, input().split())\n",
    "    \n",
    "    temp = d + g\n",
    "    if a != temp:\n",
    "        sc = a * (d + g)\n",
    "    else:\n",
    "        sc = a ** 2 * 2\n",
    "        \n",
    "    max_sc = max(max_sc, sc)\n",
    "    \n",
    "print(max_sc)"
   ]
  },
  {
   "cell_type": "markdown",
   "metadata": {},
   "source": [
    "https://www.acmicpc.net/contest/problem/874/1 A번 - 샤틀버스"
   ]
  },
  {
   "cell_type": "code",
   "execution_count": 5,
   "metadata": {},
   "outputs": [
    {
     "name": "stdout",
     "output_type": "stream",
     "text": [
      "10 3\n",
      "13\n"
     ]
    }
   ],
   "source": [
    "x, y = map(int, input().split())\n",
    "\n",
    "if y < x:\n",
    "    print(x + y)\n",
    "else:\n",
    "    print(y - x)"
   ]
  },
  {
   "cell_type": "markdown",
   "metadata": {},
   "source": [
    "https://www.acmicpc.net/contest/problem/873/2 B번 - 자리 바꾸기"
   ]
  },
  {
   "cell_type": "code",
   "execution_count": 33,
   "metadata": {},
   "outputs": [
    {
     "name": "stdout",
     "output_type": "stream",
     "text": [
      "3 1\n",
      "2 3 1\n",
      "2 3 1\n"
     ]
    }
   ],
   "source": [
    "get_value = lambda x: int(x) - 1\n",
    "\n",
    "n, m = map(int, input().split())\n",
    "li = list(map(get_value, input().split()))\n",
    "\n",
    "mods = [0] * 200\n",
    "for i in range(1, 200):\n",
    "    mods[i] = m % i\n",
    "\n",
    "result = [0] * n\n",
    "vt = set()\n",
    "for i in range(n):\n",
    "    if i in vt:\n",
    "        continue\n",
    "    vt.add(i)\n",
    "    \n",
    "    cycle = [i]\n",
    "    ni = i\n",
    "    while True:\n",
    "        ni = li[ni]\n",
    "        if ni in vt:\n",
    "            break\n",
    "        vt.add(ni)\n",
    "        cycle.append(ni)\n",
    "        \n",
    "    cycle_len = len(cycle)\n",
    "    \n",
    "    if cycle_len < 200:\n",
    "        start = mods[cycle_len]\n",
    "    else:\n",
    "        start = m % cycle_len\n",
    "        \n",
    "    cur = 0\n",
    "    for j in range(start, start + cycle_len):\n",
    "        nj = j % cycle_len\n",
    "        \n",
    "        result[cycle[cur]] = cycle[nj] + 1\n",
    "        cur += 1\n",
    "        \n",
    "print(*result)"
   ]
  },
  {
   "cell_type": "markdown",
   "metadata": {},
   "source": [
    "https://www.acmicpc.net/contest/problem/859/1 A번 - 찾았다 악질"
   ]
  },
  {
   "cell_type": "code",
   "execution_count": null,
   "metadata": {},
   "outputs": [],
   "source": [
    "import sys\n",
    "input = lambda: sys.stdin.readline().rstrip()\n",
    "\n",
    "n, m = map(int, input().split())\n",
    "li = list(map(int, input().split()))\n",
    "\n",
    "total_c = 0\n",
    "for i in range(n - 1):\n",
    "    streamer = list(map(int, input().split()))\n",
    "    \n",
    "    diff = 0\n",
    "    for j in range(m):\n",
    "        diff += abs(li[j] - streamer[j])\n",
    "        \n",
    "    if diff > 2000:\n",
    "        total_c += 1\n",
    "        \n",
    "cri = (n - 1) // 2\n",
    "if (n - 1) % 2:\n",
    "    cri += 1\n",
    "    \n",
    "if total_c >= cri:\n",
    "    print('YES')\n",
    "else:\n",
    "    print('NO')"
   ]
  },
  {
   "cell_type": "markdown",
   "metadata": {},
   "source": [
    "https://www.acmicpc.net/contest/problem/859/4 D번 - pqbd"
   ]
  },
  {
   "cell_type": "code",
   "execution_count": null,
   "metadata": {},
   "outputs": [],
   "source": [
    "pq bd ii mm vv ww ll oo xx\n",
    "\n",
    "pd bq un ss zz ll oo xx"
   ]
  },
  {
   "cell_type": "markdown",
   "metadata": {},
   "source": [
    "https://www.acmicpc.net/problem/14444 가장 긴 팰린드롬 부분 문자열"
   ]
  },
  {
   "cell_type": "code",
   "execution_count": 81,
   "metadata": {},
   "outputs": [
    {
     "name": "stdout",
     "output_type": "stream",
     "text": [
      "aaaaa\n",
      "11 1 0 2\n",
      "11 1 -1 3\n",
      "111 1 2\n",
      "11 2 1 3\n",
      "11 2 0 4\n",
      "11 2 -1 5\n",
      "111 2 4\n",
      "22 3 1 5\n",
      "22 3 0 6\n",
      "22 3 -1 7\n",
      "222 3 6\n",
      "22 4 1 7\n",
      "22 4 0 8\n",
      "22 4 -1 9\n",
      "222 4 8\n",
      "22 5 1 9\n",
      "222 5 8\n",
      "22 6 3 9\n",
      "222 6 8\n",
      "22 7 5 9\n",
      "222 7 8\n",
      "11 8 7 9\n",
      "111 8 8\n",
      "5\n"
     ]
    }
   ],
   "source": [
    "s = input()\n",
    "\n",
    "li = []\n",
    "for v in s:\n",
    "    li.append(v)\n",
    "    li.append('#')\n",
    "li.pop()\n",
    "\n",
    "n = len(li)\n",
    "\n",
    "p = [0] * n\n",
    "right = 0\n",
    "center = 0\n",
    "for i in range(1, n):\n",
    "    if right <= i:\n",
    "        delta = 1\n",
    "        while True:\n",
    "            if i - delta < 0 or i + delta >= n:\n",
    "                break\n",
    "            if li[i - delta] != li[i + delta]:\n",
    "                break\n",
    "            delta += 1\n",
    "            \n",
    "        delta -= 1\n",
    "        p[i] = delta\n",
    "        right = i + delta\n",
    "        center = i\n",
    "    else:\n",
    "        diff = i - center\n",
    "        ni = center - diff\n",
    "        p[i] = min(p[ni], right - i)\n",
    "        \n",
    "        delta = p[i] + 1\n",
    "        while True:\n",
    "            if i - delta < 0 or i + delta >= n:\n",
    "                break\n",
    "            if li[i - delta] != li[i + delta]:\n",
    "                break\n",
    "            delta += 1\n",
    "        delta -= 1\n",
    "        p[i] = delta\n",
    "        \n",
    "        if right < i + delta:\n",
    "            right = i + delta\n",
    "            center = i\n",
    "            \n",
    "result = 0\n",
    "for i in range(n):\n",
    "    temp = p[i]\n",
    "    if i % 2 == 0:\n",
    "        if temp % 2 == 0:\n",
    "            temp += 1\n",
    "    else:\n",
    "        if temp % 2 == 1:\n",
    "            temp += 1\n",
    "    result = max(result, temp)\n",
    "    \n",
    "print(result)"
   ]
  },
  {
   "cell_type": "markdown",
   "metadata": {},
   "source": [
    "https://www.acmicpc.net/contest/problem/848/1 A번 - 약속 장소"
   ]
  },
  {
   "cell_type": "code",
   "execution_count": 68,
   "metadata": {},
   "outputs": [
    {
     "name": "stdout",
     "output_type": "stream",
     "text": [
      "2 3\n",
      "AAA\n",
      "BBB\n",
      "CALL FRIEND\n"
     ]
    }
   ],
   "source": [
    "def check(cri):\n",
    "    for i in range(n - 1):\n",
    "        diff_c = 0\n",
    "        for j in range(l):\n",
    "            if cri[j] != li[i][j]:\n",
    "                diff_c += 1\n",
    "                \n",
    "        if diff_c >= 2:\n",
    "            return False\n",
    "    return True\n",
    "\n",
    "def solve():\n",
    "    for i in range(l):\n",
    "        ncri = cri.copy()\n",
    "        for nc in range(65, 65 + 25):\n",
    "            ncri[i] = chr(nc)\n",
    "            if check(ncri):\n",
    "                return ''.join(ncri)\n",
    "    return ''\n",
    "\n",
    "n, l = map(int, input().split())\n",
    "li = [input() for _ in range(n)]\n",
    "\n",
    "cri = list(li.pop())\n",
    "r = solve()\n",
    "\n",
    "if r:\n",
    "    print(r)\n",
    "else:\n",
    "    print('CALL FRIEND')"
   ]
  },
  {
   "cell_type": "markdown",
   "metadata": {},
   "source": [
    "https://www.acmicpc.net/contest/problem/848/2 E번 - 신기한 숫자"
   ]
  },
  {
   "cell_type": "code",
   "execution_count": 110,
   "metadata": {},
   "outputs": [
    {
     "name": "stdout",
     "output_type": "stream",
     "text": [
      "2 8\n",
      "3\n"
     ]
    }
   ],
   "source": [
    "from math import gcd\n",
    "from collections import defaultdict as dd\n",
    "\n",
    "lcm = lambda a, b: a * b // gcd(a, b)\n",
    "inf = float('inf')\n",
    "\n",
    "def p_facto(num):\n",
    "    ct = {}\n",
    "    for mod in range(2, int(num ** 0.5) + 1):\n",
    "        c = 0\n",
    "        while num % mod == 0:\n",
    "            c += 1\n",
    "            num //= mod\n",
    "            \n",
    "        if c >= 1:\n",
    "            ct[mod] = c\n",
    "    \n",
    "    if num != 1:\n",
    "        ct[num] = 1\n",
    "        \n",
    "    return ct\n",
    "\n",
    "a, b = map(int, input().split())\n",
    "\n",
    "g_ab = gcd(a, b)\n",
    "\n",
    "ct_a = p_facto(a)\n",
    "ct_b = p_facto(b)\n",
    "ct_g_ab = p_facto(g_ab)\n",
    "\n",
    "ct_l_ab = {}\n",
    "for key in ct_a:\n",
    "    ct_l_ab[key] = ct_a[key]\n",
    "for key in ct_b:\n",
    "    if key in ct_l_ab:     \n",
    "        ct_l_ab[key] = max(ct_l_ab[key], ct_b[key])\n",
    "    else:\n",
    "        ct_l_ab[key] = ct_b[key]\n",
    "    \n",
    "conds = dd(lambda: [0, inf])\n",
    "\n",
    "for key in ct_g_ab:\n",
    "    conds[key][0] = ct_g_ab[key]\n",
    "\n",
    "    if ct_a[key] > ct_g_ab[key]:\n",
    "        conds[key][1] = conds[key][0]\n",
    "    else:\n",
    "        conds[key][1] = inf\n",
    "            \n",
    "for key in ct_a:\n",
    "    if key not in ct_g_ab:\n",
    "        conds[key][0] = 0\n",
    "        conds[key][1] = 0\n",
    "\n",
    "for key in ct_l_ab:\n",
    "    if key not in ct_b:\n",
    "        conds[key][0] = max(conds[key][0], ct_l_ab[key])\n",
    "        conds[key][1] = min(conds[key][1], ct_l_ab[key])        \n",
    "    else:\n",
    "        if ct_l_ab[key] == ct_b[key]:\n",
    "            conds[key][1] = min(conds[key][1], ct_b[key])\n",
    "        else:\n",
    "            conds[key][0] = max(conds[key][0], ct_l_ab[key])\n",
    "            conds[key][1] = min(conds[key][1], ct_l_ab[key])\n",
    "    \n",
    "r = 1\n",
    "for key in conds:\n",
    "    temp = conds[key][1] - conds[key][0] + 1\n",
    "    \n",
    "    if temp >= 1:\n",
    "        r *= temp\n",
    "    else:\n",
    "        r *= 0\n",
    "        \n",
    "print(r)"
   ]
  },
  {
   "cell_type": "markdown",
   "metadata": {},
   "source": [
    "https://www.acmicpc.net/contest/problem/848/15 M번 - 포스택"
   ]
  },
  {
   "cell_type": "code",
   "execution_count": null,
   "metadata": {},
   "outputs": [],
   "source": [
    "# 틀렸음\n",
    "from heapq import heappush, heappop\n",
    "\n",
    "n = int(input())\n",
    "li = list(map(int, input().split()))\n",
    "\n",
    "locs = [0] * (n + 1)\n",
    "for i in range(n):\n",
    "    locs[li[i]] = i\n",
    "\n",
    "heap = []\n",
    "ip = True\n",
    "for num in range(1, n + 1):\n",
    "    if not heap:\n",
    "        heappush(heap, locs[num])\n",
    "    elif heap[0] < locs[num]:\n",
    "        heappop(heap)\n",
    "        heappush(heap, locs[num])\n",
    "    else:\n",
    "        heappush(heap, locs[num])\n",
    "        if len(heap) >= 5:\n",
    "            ip = False\n",
    "            break\n",
    "            \n",
    "if ip:\n",
    "    print('YES')\n",
    "else:\n",
    "    print('NO')"
   ]
  },
  {
   "cell_type": "code",
   "execution_count": 141,
   "metadata": {},
   "outputs": [
    {
     "name": "stdout",
     "output_type": "stream",
     "text": [
      "3\n",
      "3 2 1\n",
      "YES\n"
     ]
    }
   ],
   "source": [
    "# 틀렸음\n",
    "from bisect import bisect_left\n",
    "\n",
    "n = int(input())\n",
    "li = list(map(int, input().split()))\n",
    "\n",
    "k = 4\n",
    "\n",
    "c = 0\n",
    "while li:\n",
    "    c += 1\n",
    "    memory = [li[0]]\n",
    "    trace = [(li[0], 0)]\n",
    "    for i in range(1, len(li)):\n",
    "        to_check = bisect_left(memory, li[i])\n",
    "        if to_check == len(memory):\n",
    "            memory.append(li[i])\n",
    "        else:\n",
    "            memory[to_check] = li[i]\n",
    "        trace.append((li[i], to_check))\n",
    "\n",
    "    result = set()\n",
    "    current = len(memory) - 1\n",
    "    for i in range(len(li) - 1, -1, -1):\n",
    "        if trace[i][1] == current:\n",
    "            result.add(trace[i][0])\n",
    "            current -= 1\n",
    "\n",
    "            if current == -1:\n",
    "                break\n",
    "\n",
    "    nli = []\n",
    "    for v in li:\n",
    "        if v not in result:\n",
    "            nli.append(v)\n",
    "            \n",
    "    if not nli:\n",
    "        break\n",
    "        \n",
    "    li = nli[:]\n",
    "    \n",
    "if c <= k:\n",
    "    print('YES')\n",
    "else:\n",
    "    print('NO')"
   ]
  },
  {
   "cell_type": "code",
   "execution_count": 151,
   "metadata": {},
   "outputs": [
    {
     "name": "stdout",
     "output_type": "stream",
     "text": [
      "10\n",
      "2 4 6 8 10 1 3 5 7 9\n",
      "NO\n"
     ]
    }
   ],
   "source": [
    "# 틀렸음\n",
    "n = int(input())\n",
    "li = list(map(int, input().split()))\n",
    "\n",
    "lasts = [0] * 4\n",
    "finds = [-1] * 4\n",
    "finds[0] = 1\n",
    "\n",
    "ip = True\n",
    "vt = set()\n",
    "for v in li:\n",
    "    stacked = False\n",
    "    for i in range(4):\n",
    "        if finds[i] == v:\n",
    "            stacked = True\n",
    "            \n",
    "            lasts[i] = v\n",
    "            if v + 1 in vt:\n",
    "                finds[i] = -1\n",
    "            else:\n",
    "                finds[i] = v + 1\n",
    "            break\n",
    "    \n",
    "    if not stacked:\n",
    "        max_cand = -1\n",
    "        max_cand_i = -1\n",
    "        for i in range(4):\n",
    "            if finds[i] == -1 and lasts[i] < v:\n",
    "                if max_cand < lasts[i]:\n",
    "                    max_cand = lasts[i]\n",
    "                    max_cand_i = i\n",
    "        \n",
    "        if max_cand != -1:\n",
    "            if v + 1 in vt:\n",
    "                finds[max_cand_i] = -1\n",
    "            else:\n",
    "                finds[max_cand_i] = v + 1\n",
    "            lasts[max_cand_i] = v\n",
    "        else:\n",
    "            ip = False\n",
    "            break\n",
    "            \n",
    "    vt.add(v)\n",
    "    \n",
    "if ip:\n",
    "    print('YES')\n",
    "else:\n",
    "    print('NO')"
   ]
  },
  {
   "cell_type": "code",
   "execution_count": 152,
   "metadata": {},
   "outputs": [
    {
     "name": "stdout",
     "output_type": "stream",
     "text": [
      "10\n",
      "2 4 6 8 10 1 3 5 7 9\n",
      "YES\n"
     ]
    }
   ],
   "source": [
    "n = int(input())\n",
    "li = list(map(int, input().split()))\n",
    "\n",
    "lasts = [0] * 4\n",
    "ip = True\n",
    "for v in li:\n",
    "    max_cand = -1\n",
    "    max_cand_i = -1\n",
    "    for i in range(4):\n",
    "        if lasts[i] < v:\n",
    "            if max_cand < lasts[i]:\n",
    "                max_cand = lasts[i]\n",
    "                max_cand_i = i\n",
    "        \n",
    "    if max_cand_i == -1:\n",
    "        ip = False\n",
    "        break\n",
    "    else:\n",
    "        lasts[max_cand_i] = v\n",
    "        \n",
    "if ip:\n",
    "    print('YES')\n",
    "else:\n",
    "    print('NO')"
   ]
  },
  {
   "cell_type": "markdown",
   "metadata": {},
   "source": [
    "https://www.acmicpc.net/contest/problem/848/10 H번 - 멋쟁이 포닉스"
   ]
  },
  {
   "cell_type": "code",
   "execution_count": 153,
   "metadata": {},
   "outputs": [
    {
     "name": "stdout",
     "output_type": "stream",
     "text": [
      "2 3\n",
      "4 3\n",
      "5 2\n",
      "4\n"
     ]
    }
   ],
   "source": [
    "mw, mb = map(int, input().split())\n",
    "tw, tb = map(int, input().split())\n",
    "pw, pb = map(int, input().split())\n",
    "\n",
    "result = 0\n",
    "\n",
    "c = min(mw, mb, tw, tb, pw, pb)\n",
    "result += c * 2\n",
    "mw -= c\n",
    "mb -= c\n",
    "tw -= c\n",
    "tb -= c\n",
    "pw -= c\n",
    "pb -= c\n",
    "\n",
    "if (mw and tb and pw) or (mb and tw and pb):\n",
    "    result += 1\n",
    "    \n",
    "print(result)"
   ]
  },
  {
   "cell_type": "markdown",
   "metadata": {},
   "source": [
    "https://www.acmicpc.net/contest/problem/848/8 F번 - 트리의 MEX"
   ]
  },
  {
   "cell_type": "code",
   "execution_count": 163,
   "metadata": {},
   "outputs": [
    {
     "name": "stdout",
     "output_type": "stream",
     "text": [
      "9\n",
      "-1 1 6 9 2 1 9 9 6\n",
      "3 1 2 4 0 2 1 0 0\n",
      "5\n",
      "2\n",
      "0\n",
      "0\n",
      "1\n",
      "3\n",
      "0\n",
      "1\n",
      "2\n"
     ]
    }
   ],
   "source": [
    "import sys\n",
    "# input = lambda: sys.stdin.readline().rstrip()\n",
    "\n",
    "## PYRIVAL BOOTSTRAP\n",
    "# https://github.com/cheran-senthil/PyRival/blob/master/pyrival/misc/bootstrap.py\n",
    "# This decorator allows for recursion without actually doing recursion\n",
    "## @bootstrap, yield when getting and returning value in recursive functions, end of functions\n",
    "from types import GeneratorType\n",
    "\n",
    "def bootstrap(f, stack=[]):\n",
    "    def wrappedfunc(*args, **kwargs):\n",
    "        if stack:\n",
    "            return f(*args, **kwargs)\n",
    "        else:\n",
    "            to = f(*args, **kwargs)\n",
    "            while True:\n",
    "                if type(to) is GeneratorType:\n",
    "                    stack.append(to)\n",
    "                    to = next(to)\n",
    "                else:\n",
    "                    stack.pop()\n",
    "                    if not stack:\n",
    "                        break\n",
    "                    to = stack[-1].send(to)\n",
    "            return to\n",
    "    return wrappedfunc\n",
    "\n",
    "@bootstrap\n",
    "def find(v):\n",
    "    if v != parent[v]:\n",
    "        parent[v] = yield find(parent[v])\n",
    "    yield parent[v]\n",
    "\n",
    "def union(a, b):\n",
    "    if len(sts[a]) < len(sts[b]):\n",
    "        a, b = b, a\n",
    "        \n",
    "    parent[b] = a\n",
    "    for v in sts[b]:\n",
    "        sts[a].add(v)\n",
    "    sts[b] = set()\n",
    "\n",
    "@bootstrap\n",
    "def dfs(value):\n",
    "    mex = 0\n",
    "    for v in nli[value]:\n",
    "        mex = max(mex, (yield dfs(v)))\n",
    "        rvalue = (yield find(value))\n",
    "        rv = (yield find(v))\n",
    "        union(rvalue, rv)\n",
    "        \n",
    "    rvalue = (yield find(value))\n",
    "    while mex in sts[rvalue]:\n",
    "        mex += 1\n",
    "        \n",
    "    result[value] = mex\n",
    "    yield mex\n",
    "\n",
    "n = int(input())\n",
    "li = list(map(int, input().split()))\n",
    "a = list(map(int, input().split()))\n",
    "\n",
    "nli = [[] for _ in range(n)]\n",
    "root = -1\n",
    "for i in range(n):\n",
    "    if li[i] == -1:\n",
    "        root = i\n",
    "    else:\n",
    "        li[i] -= 1\n",
    "        nli[li[i]].append(i)\n",
    "        \n",
    "sts = [{a[i]} for i in range(n)]\n",
    "parent = list(range(n))\n",
    "\n",
    "result = [-1] * n\n",
    "dfs(root)\n",
    "\n",
    "print('\\n'.join(map(str, result)))"
   ]
  },
  {
   "cell_type": "markdown",
   "metadata": {},
   "source": [
    "https://www.acmicpc.net/contest/problem/848/9 G번 - 택배 색칠"
   ]
  },
  {
   "cell_type": "code",
   "execution_count": 169,
   "metadata": {},
   "outputs": [
    {
     "name": "stdout",
     "output_type": "stream",
     "text": [
      "4 4\n",
      "1000000000 1000000000 1000000000 1000000000\n",
      "1000000000 1000000000 1000000000 1000000000\n",
      "1000000000 1000000000 1000000000 1000000000\n",
      "1000000000 1000000000 1000000000 1000000000\n",
      "3999999996\n"
     ]
    }
   ],
   "source": [
    "import sys\n",
    "input = lambda: sys.stdin.readline().rstrip()\n",
    "\n",
    "inf = float('inf')\n",
    "\n",
    "dx = [-1, 1, 0, 0]\n",
    "dy = [0, 0, -1, 1]\n",
    "\n",
    "n, m = map(int, input().split())\n",
    "li = [list(map(int, input().split())) for _ in range(n)]\n",
    "\n",
    "total = 0\n",
    "for i in range(1, n - 1):\n",
    "    for j in range(1, m - 1):\n",
    "        min_temp = inf\n",
    "        for d in range(4):\n",
    "            ni = i + dx[d]\n",
    "            nj = j + dy[d]\n",
    "            \n",
    "            min_temp = min(min_temp, li[ni][nj])\n",
    "            \n",
    "        temp = min(min_temp, li[i][j] - 1)\n",
    "        temp = max(0, temp)\n",
    "        \n",
    "        total += temp\n",
    "        \n",
    "print(total)"
   ]
  },
  {
   "cell_type": "markdown",
   "metadata": {},
   "source": [
    "https://www.acmicpc.net/contest/problem/848/11 I번 - 잔디 예측하기"
   ]
  },
  {
   "cell_type": "code",
   "execution_count": 174,
   "metadata": {},
   "outputs": [
    {
     "name": "stdout",
     "output_type": "stream",
     "text": [
      "3 3\n",
      "XXX\n",
      "OXX\n",
      "XXO\n",
      "1\n",
      "XOO\n",
      "OXO\n",
      "OXO\n",
      "YES\n"
     ]
    }
   ],
   "source": [
    "# 접근 방식이 잘못되었음\n",
    "from collections import deque\n",
    "import sys\n",
    "input = lambda: sys.stdin.readline().rstrip()\n",
    "\n",
    "dx = [-1, 1, 0, 0]\n",
    "dy = [0, 0, -1, 1]\n",
    "\n",
    "def check():\n",
    "    for i in range(n):\n",
    "        for j in range(m):\n",
    "            if li[i][j] != target[i][j]:\n",
    "                return False\n",
    "    return True\n",
    "\n",
    "n, m = map(int, input().split())\n",
    "li = [list(input()) for _ in range(n)]\n",
    "d = int(input())\n",
    "target = [list(input()) for _ in range(n)]\n",
    "\n",
    "vt = [[False] * m for _ in range(n)]\n",
    "for i in range(n):\n",
    "    for j in range(m):\n",
    "        if li[i][j] == 'X':\n",
    "            continue\n",
    "        if vt[i][j]:\n",
    "            continue\n",
    "        vt[i][j] = True\n",
    "        \n",
    "        queue = deque()\n",
    "        queue.append((i, j))\n",
    "        while queue:\n",
    "            x, y = queue.popleft()\n",
    "            \n",
    "            for d in range(4):\n",
    "                nx = x + dx[d]\n",
    "                ny = y + dy[d]\n",
    "                \n",
    "                if nx < 0 or nx >= n or ny < 0 or ny >= m:\n",
    "                    continue\n",
    "                if target[nx][ny] == 'X':\n",
    "                    continue\n",
    "                if not vt[nx][ny]:\n",
    "                    vt[nx][ny] = True\n",
    "                    li[nx][ny] = 'O'\n",
    "                    queue.append((nx, ny))\n",
    "                \n",
    "if check():\n",
    "    print('YES')\n",
    "else:\n",
    "    print('NO')"
   ]
  },
  {
   "cell_type": "code",
   "execution_count": 204,
   "metadata": {},
   "outputs": [
    {
     "name": "stdout",
     "output_type": "stream",
     "text": [
      "2 2\n",
      "OO\n",
      "OX\n",
      "1\n",
      "OO\n",
      "OO\n",
      "YES\n"
     ]
    }
   ],
   "source": [
    "from collections import deque\n",
    "import sys\n",
    "# input = lambda: sys.stdin.readline().rstrip()\n",
    "\n",
    "inf = float('inf')\n",
    "\n",
    "dx = [-1, 1, 0, 0]\n",
    "dy = [0, 0, -1, 1]\n",
    "\n",
    "n, m = map(int, input().split())\n",
    "li = [list(input()) for _ in range(n)]\n",
    "dd = int(input())\n",
    "target = [list(input()) for _ in range(n)]\n",
    "\n",
    "target_c = 0\n",
    "ip = True\n",
    "vt = [[False] * m for _ in range(n)]\n",
    "max_can_tms = [[inf] * m for _ in range(n)]\n",
    "queue = deque()\n",
    "for i in range(n):\n",
    "    for j in range(m):\n",
    "        if li[i][j] == 'O':\n",
    "            vt[i][j] = True\n",
    "            queue.append((i, j))\n",
    "            max_can_tms[i][j] = 0\n",
    "            if target[i][j] == 'X':\n",
    "                ip = False\n",
    "                break\n",
    "                \n",
    "        if target[i][j] == 'O':\n",
    "            target_c += 1\n",
    "    if not ip:\n",
    "        break\n",
    "        \n",
    "if ip:\n",
    "    tm = 0\n",
    "    cut_time = inf\n",
    "    met_c = len(queue)\n",
    "    while met_c < target_c:\n",
    "        if cut_time < tm:\n",
    "            ip = False\n",
    "            break\n",
    "        if not queue:\n",
    "            ip = False\n",
    "            break\n",
    "        \n",
    "        for _ in range(len(queue)):\n",
    "            x, y = queue.popleft()\n",
    "            for d in range(4):\n",
    "                nx = x + dx[d]\n",
    "                ny = y + dy[d]\n",
    "                if nx < 0 or nx >= n or ny < 0 or ny >= m:\n",
    "                    continue\n",
    "                if vt[nx][ny]:\n",
    "                    continue\n",
    "                if target[i][j] == 'O':\n",
    "                    continue\n",
    "                cut_time = min(cut_time, max_can_tms[x][y])\n",
    "            \n",
    "            for d in range(4):\n",
    "                nx, ny = x, y\n",
    "                temp = 1\n",
    "                for _ in range(dd):\n",
    "                    nx += dx[d]\n",
    "                    ny += dy[d]\n",
    "\n",
    "                    if nx < 0 or nx >= n or ny < 0 or ny >= m:\n",
    "                        break\n",
    "                    if vt[nx][ny]:\n",
    "                        max_can_tms[nx][ny] = min(max_can_tms[nx][ny], tm + temp)\n",
    "                        break\n",
    "                    if target[nx][ny] == 'X':\n",
    "                        break\n",
    "                    vt[nx][ny] = True\n",
    "                    max_can_tms[nx][ny] = tm + temp\n",
    "                    met_c += 1\n",
    "                    temp += 1\n",
    "                    queue.append((nx, ny))\n",
    "         \n",
    "        tm += 1\n",
    "    \n",
    "if ip:\n",
    "    print('YES')\n",
    "else:\n",
    "    print('NO')"
   ]
  },
  {
   "cell_type": "markdown",
   "metadata": {},
   "source": [
    "https://www.acmicpc.net/contest/problem/866/4 D번 - HG 음성기호"
   ]
  },
  {
   "cell_type": "code",
   "execution_count": null,
   "metadata": {},
   "outputs": [],
   "source": [
    "s = '''a\taespa\n",
    "b\tbaekjoon\n",
    "c\tcau\n",
    "d\tdebug\n",
    "e\tedge\n",
    "f\tfirefox\n",
    "g\tgolang\n",
    "h\thaegang\n",
    "i\tiu\n",
    "j\tjava\n",
    "k\tkotlin\n",
    "l\tlol\n",
    "m\tmips\n",
    "n\tnull\n",
    "o\tos\n",
    "p\tpython\n",
    "q\tquery\n",
    "r\troka\n",
    "s\tsolvedac\n",
    "t\ttod\n",
    "u\tunix\n",
    "v\tvirus\n",
    "w\twhale\n",
    "x\txcode\n",
    "y\tyahoo\n",
    "z\tzebra'''\n",
    "\n",
    "d = dict()\n",
    "for v in s.split('\\n'):\n",
    "    a, b = v.split()\n",
    "    d[a] = b\n",
    "    \n",
    "d"
   ]
  },
  {
   "cell_type": "code",
   "execution_count": 8,
   "metadata": {},
   "outputs": [
    {
     "name": "stdout",
     "output_type": "stream",
     "text": [
      "cauaespaunix\n",
      "It's HG!\n",
      "cau\n"
     ]
    }
   ],
   "source": [
    "d = {'a': 'aespa',\n",
    " 'b': 'baekjoon',\n",
    " 'c': 'cau',\n",
    " 'd': 'debug',\n",
    " 'e': 'edge',\n",
    " 'f': 'firefox',\n",
    " 'g': 'golang',\n",
    " 'h': 'haegang',\n",
    " 'i': 'iu',\n",
    " 'j': 'java',\n",
    " 'k': 'kotlin',\n",
    " 'l': 'lol',\n",
    " 'm': 'mips',\n",
    " 'n': 'null',\n",
    " 'o': 'os',\n",
    " 'p': 'python',\n",
    " 'q': 'query',\n",
    " 'r': 'roka',\n",
    " 's': 'solvedac',\n",
    " 't': 'tod',\n",
    " 'u': 'unix',\n",
    " 'v': 'virus',\n",
    " 'w': 'whale',\n",
    " 'x': 'xcode',\n",
    " 'y': 'yahoo',\n",
    " 'z': 'zebra'}\n",
    "\n",
    "s = input()\n",
    "n = len(s)\n",
    "\n",
    "cur_i = 0\n",
    "ip = True\n",
    "result = []\n",
    "while cur_i < n:\n",
    "    init = s[cur_i]\n",
    "    result.append(init)\n",
    "    \n",
    "    for di in range(len(d[init])):\n",
    "        if cur_i == n:\n",
    "            ip = False\n",
    "            break\n",
    "        \n",
    "        if s[cur_i] != d[init][di]:\n",
    "            ip = False\n",
    "            break\n",
    "        cur_i += 1\n",
    "        \n",
    "    if not ip:\n",
    "        break\n",
    "        \n",
    "if ip:\n",
    "    result = ''.join(result)\n",
    "    \n",
    "    print(\"It's HG!\")\n",
    "    print(result)\n",
    "else:\n",
    "    print('ERROR!')"
   ]
  },
  {
   "cell_type": "markdown",
   "metadata": {},
   "source": [
    "https://www.acmicpc.net/contest/problem/866/1 A번 - 푸앙이와 종윤이"
   ]
  },
  {
   "cell_type": "code",
   "execution_count": 11,
   "metadata": {},
   "outputs": [
    {
     "name": "stdout",
     "output_type": "stream",
     "text": [
      "19 32\n",
      "81 68 -49 5508 55 8\n",
      "6 8\n"
     ]
    }
   ],
   "source": [
    "x, y = map(int, input().split())\n",
    "\n",
    "a = 100 - x\n",
    "b = 100 - y\n",
    "\n",
    "c = 100 - (a + b)\n",
    "d = a * b\n",
    "\n",
    "q, r = divmod(d, 100)\n",
    "\n",
    "r1 = c + q\n",
    "r2 = r\n",
    "\n",
    "print(a, b, c, d, q, r)\n",
    "print(r1, r2)"
   ]
  },
  {
   "cell_type": "markdown",
   "metadata": {},
   "source": [
    "https://www.acmicpc.net/contest/problem/866/2 B번 - 바둑돌 게임"
   ]
  },
  {
   "cell_type": "code",
   "execution_count": 15,
   "metadata": {},
   "outputs": [
    {
     "name": "stdout",
     "output_type": "stream",
     "text": [
      "7\n",
      "0\n"
     ]
    }
   ],
   "source": [
    "n = int(input())\n",
    "\n",
    "result = 0\n",
    "cur = 1\n",
    "while True:\n",
    "    if cur > n:\n",
    "        result = cur - n\n",
    "        break\n",
    "    \n",
    "    n -= cur\n",
    "    cur += 1\n",
    "    \n",
    "    if cur > n:\n",
    "        break\n",
    "    n -= cur\n",
    "        \n",
    "    cur += 1\n",
    "    \n",
    "print(result)"
   ]
  },
  {
   "cell_type": "markdown",
   "metadata": {},
   "source": [
    "https://www.acmicpc.net/contest/problem/866/3 C번 - 근무 지옥에 빠진 푸앙이 (Small)"
   ]
  },
  {
   "cell_type": "code",
   "execution_count": null,
   "metadata": {},
   "outputs": [],
   "source": [
    "from collections import defaultdict as dd\n",
    "import sys\n",
    "input = lambda: sys.stdin.readline().rstrip()\n",
    "\n",
    "n = int(input())\n",
    "\n",
    "ws = [4, 6, 4, 10]\n",
    "li = [input().split() for _ in range(n * 4)]\n",
    "\n",
    "hours = dd(int)\n",
    "for i in range(n * 4):\n",
    "    w = ws[i % 4]\n",
    "    \n",
    "    for j in range(7):\n",
    "        if li[i][j] != '-':\n",
    "            hours[li[i][j]] += w\n",
    "            \n",
    "if not hours:\n",
    "    print('Yes')\n",
    "else:        \n",
    "    min_v = min(hours.values())\n",
    "    max_v = max(hours.values())\n",
    "\n",
    "    if max_v - min_v <= 12:\n",
    "        print('Yes')\n",
    "    else:\n",
    "        print('No')"
   ]
  },
  {
   "cell_type": "markdown",
   "metadata": {},
   "source": [
    "https://www.acmicpc.net/contest/problem/866/5 E번 - 86 ─에이티식스─ 2"
   ]
  },
  {
   "cell_type": "code",
   "execution_count": 17,
   "metadata": {},
   "outputs": [
    {
     "name": "stdout",
     "output_type": "stream",
     "text": [
      "5\n",
      "0 2 0 0 0\n",
      "0 0 0 0 0\n",
      "0 0 0 1 0\n",
      "0 0 0 0 0\n",
      "0 0 1 0 0\n",
      "Kiriya\n"
     ]
    }
   ],
   "source": [
    "import sys\n",
    "input = lambda: sys.stdin.readline().rstrip()\n",
    "\n",
    "n = int(input())\n",
    "li = [list(map(int, input().split())) for _ in range(n)]\n",
    "\n",
    "stat = 0\n",
    "for i in range(n):\n",
    "    for j in range(n):\n",
    "        if li[i][j] == 2:\n",
    "            stat = (i + j) % 2\n",
    "        \n",
    "ip = True\n",
    "for i in range(n):\n",
    "    for j in range(n):\n",
    "        if li[i][j] == 1 and stat == (i + j) % 2:\n",
    "            ip = False\n",
    "            break\n",
    "    if not ip:\n",
    "        break\n",
    "        \n",
    "if ip:\n",
    "    print('Lena')\n",
    "else:\n",
    "    print('Kiriya')"
   ]
  },
  {
   "cell_type": "markdown",
   "metadata": {},
   "source": [
    "https://www.acmicpc.net/contest/problem/866/8 H번 - 86 ─에이티식스─ 1"
   ]
  },
  {
   "cell_type": "code",
   "execution_count": 19,
   "metadata": {},
   "outputs": [
    {
     "data": {
      "text/plain": [
       "36288000"
      ]
     },
     "execution_count": 19,
     "metadata": {},
     "output_type": "execute_result"
    }
   ],
   "source": [
    "from itertools import permutations as perm\n",
    "import sys\n",
    "input = lambda: sys.stdin.readline().rstrip()\n",
    "\n",
    "inf = float('inf')\n",
    "\n",
    "n = int(input())\n",
    "li = [list(map(int, input().split())) for _ in range(n)]\n",
    "\n",
    "stat = 0\n",
    "sx, sy = -1, -1\n",
    "rs = []\n",
    "for i in range(n):\n",
    "    for j in range(n):\n",
    "        if li[i][j] == 2:\n",
    "            stat = (i + j) % 2\n",
    "            sx = i\n",
    "            sy = j\n",
    "        elif li[i][j] == 1:\n",
    "            rs.append((i, j))\n",
    "            \n",
    "        \n",
    "ip = True\n",
    "for i in range(n):\n",
    "    for j in range(n):\n",
    "        if li[i][j] == 1 and stat != (i + j) % 2:\n",
    "            ip = False\n",
    "            break\n",
    "    if not ip:\n",
    "        break\n",
    "        \n",
    "if not ip:\n",
    "    print('Shorei')\n",
    "else:\n",
    "    min_r = inf\n",
    "    for case in perm(range(len(rs))):\n",
    "        temp = 0\n",
    "        x, y = sx, sy\n",
    "        \n",
    "        for index in case:\n",
    "            nx, ny = rs[index]\n",
    "            temp += max(abs(nx - x), abs(ny - y))\n",
    "            x, y = nx, ny\n",
    "            \n",
    "        min_r = min(min_r, temp)\n",
    "        \n",
    "    print('Undertaker')\n",
    "    print(min_r)"
   ]
  },
  {
   "cell_type": "markdown",
   "metadata": {},
   "source": [
    "https://www.acmicpc.net/contest/problem/866/7 G번 - 마트료시카 박스 II"
   ]
  },
  {
   "cell_type": "code",
   "execution_count": 23,
   "metadata": {},
   "outputs": [
    {
     "name": "stdout",
     "output_type": "stream",
     "text": [
      "5 2 1\n",
      "4 2 3 4 5\n",
      "0\n",
      "0\n",
      "0\n",
      "0\n",
      "0\n"
     ]
    }
   ],
   "source": [
    "from collections import deque\n",
    "import sys\n",
    "input = lambda: sys.stdin.readline().rstrip()\n",
    "\n",
    "n, m, k = map(int, input().split())\n",
    "\n",
    "li = []\n",
    "for _ in range(n):\n",
    "    c, *temp = map(int, input().split())\n",
    "    li.append(temp)\n",
    "    \n",
    "ip = True\n",
    "nxt = n + 1\n",
    "nk = k\n",
    "for i in range(n):\n",
    "    length = len(li[i])\n",
    "    if length <= m:\n",
    "        continue        \n",
    "    queue = deque(li[i])\n",
    "    li[i] = []\n",
    "    while True:\n",
    "        li.append([])\n",
    "        for _ in range(m):\n",
    "            v = queue.popleft()\n",
    "            li[-1].append(v)\n",
    "        queue.append(nxt)\n",
    "        nxt += 1\n",
    "        nk -= 1\n",
    "        if nk < 0:\n",
    "            ip = False\n",
    "            break\n",
    "        \n",
    "        if len(queue) <= m:\n",
    "            li[i] = list(queue)\n",
    "            break\n",
    "            \n",
    "    if not ip:\n",
    "        break\n",
    "            \n",
    "if not ip:\n",
    "    print(0)\n",
    "else:\n",
    "    print(1)\n",
    "    print(k - nk)\n",
    "    for v in li:\n",
    "        print(len(v), *v)"
   ]
  },
  {
   "cell_type": "markdown",
   "metadata": {},
   "source": [
    "https://www.acmicpc.net/contest/problem/866/12 L번 - 배수로"
   ]
  },
  {
   "cell_type": "code",
   "execution_count": null,
   "metadata": {},
   "outputs": [],
   "source": [
    "import sys\n",
    "sys.setrecursionlimit(110000)\n",
    "input = lambda: sys.stdin.readline().rstrip()\n",
    "\n",
    "def find(v):\n",
    "    if v != parent[v]:\n",
    "        parent[v] = find(parent[v])\n",
    "        \n",
    "    return parent[v]\n",
    "\n",
    "def union(x, y):\n",
    "    if x > y:\n",
    "        x, y = y, x\n",
    "    parent[y] = x\n",
    "    \n",
    "    init_c = flooded_cs[x] + flooded_cs[y]\n",
    "    \n",
    "    a[x] += a[y]\n",
    "    b[x] += b[y]\n",
    "    cs[x] += cs[y]\n",
    "    \n",
    "    flooded_c = 0\n",
    "    if b[x] > a[x]:\n",
    "        flooded_c = cs[x]\n",
    "    flooded_cs[x] = flooded_c\n",
    "        \n",
    "    delta = flooded_c - init_c\n",
    "    return delta\n",
    "    \n",
    "\n",
    "n, m = map(int, input().split())\n",
    "a = list(map(int, input().split()))\n",
    "b = list(map(int, input().split()))\n",
    "\n",
    "parent = list(range(n))\n",
    "cs = [1] * n\n",
    "flooded_cs = [0] * n\n",
    "\n",
    "cur = 0\n",
    "for i in range(n):\n",
    "    if b[i] > a[i]:\n",
    "        cur += 1\n",
    "        flooded_cs[i] = 1\n",
    "\n",
    "for _ in range(m):\n",
    "    qu = list(map(int, input().split()))\n",
    "    \n",
    "    tp = qu[0]\n",
    "    if tp == 2:\n",
    "        print(cur)\n",
    "    else:\n",
    "        x = qu[1] - 1\n",
    "        y = qu[2] - 1\n",
    "        \n",
    "        rx = find(x)\n",
    "        ry = find(y)\n",
    "        \n",
    "        if rx != ry:\n",
    "            delta = union(rx, ry)\n",
    "            cur += delta"
   ]
  },
  {
   "cell_type": "markdown",
   "metadata": {},
   "source": [
    "https://www.acmicpc.net/contest/problem/866/9 I번 - 푸앙이와 러닝머신"
   ]
  },
  {
   "cell_type": "code",
   "execution_count": null,
   "metadata": {},
   "outputs": [],
   "source": [
    "2를 만드려면 1, 1, 남는 시간은 쉬면 됨"
   ]
  },
  {
   "cell_type": "code",
   "execution_count": 45,
   "metadata": {},
   "outputs": [
    {
     "name": "stdout",
     "output_type": "stream",
     "text": [
      "20 3\n",
      "2\n",
      "0 4\n",
      "1 8\n"
     ]
    }
   ],
   "source": [
    "from itertools import product\n",
    "\n",
    "inf = float('inf')\n",
    "\n",
    "n, t = map(int, input().split())\n",
    "\n",
    "ws = [1, 4, 8]\n",
    "\n",
    "min_c = inf\n",
    "min_c_can_use = []\n",
    "min_c_cs = []\n",
    "for case in product(*[range(2)] * 3):\n",
    "    can_use = []\n",
    "    for i in range(3):\n",
    "        if case[i]:\n",
    "            can_use.append(ws[i])\n",
    "        \n",
    "    cs = [0] * len(can_use)\n",
    "    nn = n\n",
    "    for i in range(len(can_use) - 1, -1, -1):\n",
    "        cs[i] = nn // can_use[i]\n",
    "        nn %= can_use[i]\n",
    "        \n",
    "    if nn != 0:\n",
    "        continue\n",
    "    sv = sum(cs)\n",
    "    if sv > t:\n",
    "        continue\n",
    "    \n",
    "    c = len(can_use)\n",
    "    if c >= min_c:\n",
    "        continue\n",
    "    min_c = c\n",
    "    min_c_can_use = can_use.copy()\n",
    "    min_c_cs = cs.copy()\n",
    "    \n",
    "if min_c == inf:\n",
    "    print(-1)\n",
    "else:\n",
    "    print(min_c)\n",
    "    \n",
    "    sv = sum(min_c_cs)\n",
    "    cur_tm = t - sv\n",
    "    \n",
    "    for i in range(len(min_c_cs)):\n",
    "        print(cur_tm, min_c_can_use[i])\n",
    "        cur_tm += min_c_cs[i]"
   ]
  },
  {
   "cell_type": "markdown",
   "metadata": {},
   "source": [
    "https://www.acmicpc.net/contest/problem/866/13 M번 - 푸앙이와 계단 수열"
   ]
  },
  {
   "cell_type": "code",
   "execution_count": 55,
   "metadata": {},
   "outputs": [
    {
     "name": "stdout",
     "output_type": "stream",
     "text": [
      "10 6\n",
      "1 2 3 4 5 6 7 8 9 10\n",
      "9 9\n",
      "12 9 3\n",
      "3\n"
     ]
    }
   ],
   "source": [
    "# 틀릴게 분명함\n",
    "n, k = map(int, input().split())\n",
    "li = list(map(int, input().split()))\n",
    "\n",
    "if k <= 3:\n",
    "    r = n // 3\n",
    "    if n % 3:\n",
    "        r += 1\n",
    "else:\n",
    "    i = 0\n",
    "    sei = 0 # stari end index\n",
    "    r = 0\n",
    "    while i < n:\n",
    "        sei = i\n",
    "        while sei + 1 < n:\n",
    "            if abs(li[sei] - li[sei + 1]) == 1:\n",
    "                sei += 1\n",
    "            else:\n",
    "                break\n",
    "                \n",
    "        length = sei - i + 1\n",
    "        to_del_c = length // k\n",
    "\n",
    "        if to_del_c >= 1:\n",
    "            to_del = to_del_c * k\n",
    "            i += to_del\n",
    "            r += to_del_c\n",
    "        \n",
    "        if i < sei:\n",
    "            diff = sei - i\n",
    "            to_move_c = diff // 3\n",
    "            if diff % 3:\n",
    "                to_move_c += 1\n",
    "                \n",
    "            i += to_move_c * 3\n",
    "            r += to_move_c\n",
    "            \n",
    "        print(i, sei)\n",
    "            \n",
    "        if i == sei:\n",
    "            i += 3\n",
    "            r += 1\n",
    "            \n",
    "        print(i, sei, r)\n",
    "            \n",
    "        \n",
    "print(r)"
   ]
  },
  {
   "cell_type": "code",
   "execution_count": null,
   "metadata": {},
   "outputs": [],
   "source": [
    "20 4\n",
    "1 3 4 5 6 1 3 5 1 2 3 4 5 1 3 5 7 1 2 3\n",
    "[1, 4, 1, 1, 1, 5, 1, 1, 1, 1, 3]\n",
    "12\n",
    "6"
   ]
  },
  {
   "cell_type": "code",
   "execution_count": 78,
   "metadata": {},
   "outputs": [
    {
     "data": {
      "text/plain": [
       "[1, 0, 1, 1, 1, 1, 1, 1, 1, 1, 3]"
      ]
     },
     "execution_count": 78,
     "metadata": {},
     "output_type": "execute_result"
    }
   ],
   "source": [
    "lens"
   ]
  },
  {
   "cell_type": "code",
   "execution_count": 79,
   "metadata": {},
   "outputs": [
    {
     "data": {
      "text/plain": [
       "12"
      ]
     },
     "execution_count": 79,
     "metadata": {},
     "output_type": "execute_result"
    }
   ],
   "source": [
    "n - 8"
   ]
  },
  {
   "cell_type": "code",
   "execution_count": 96,
   "metadata": {},
   "outputs": [
    {
     "name": "stdout",
     "output_type": "stream",
     "text": [
      "4 4\n",
      "1 3 4 2\n",
      "[1, 2, 1]\n",
      "3\n"
     ]
    }
   ],
   "source": [
    "n, k = map(int, input().split())\n",
    "li = list(map(int, input().split()))\n",
    "\n",
    "if k <= 3:\n",
    "    r = n // 3\n",
    "    if n % 3:\n",
    "        r += 1\n",
    "else:\n",
    "    i = 0\n",
    "    sei = 0 # stari end index\n",
    "    lens = []\n",
    "    while i < n:\n",
    "        while sei + 1 < n:\n",
    "            if abs(li[sei] - li[sei + 1]) == 1:\n",
    "                sei += 1\n",
    "            else:\n",
    "                break\n",
    "    \n",
    "        length = sei - i + 1\n",
    "        lens.append(length)\n",
    "        \n",
    "        i = sei + 1\n",
    "        sei = i\n",
    "        \n",
    "    r = 0\n",
    "    if k != 4:\n",
    "        remained = 0\n",
    "        for i in range(len(lens)):\n",
    "            r += lens[i] // k\n",
    "            lens[i] %= k\n",
    "\n",
    "            remained += lens[i]\n",
    "\n",
    "        r += remained // 3\n",
    "        if remained % 3:\n",
    "            r += 1\n",
    "    else:\n",
    "        for i in range(len(lens)):\n",
    "            is_special = False\n",
    "            if lens[i] // 4 >= 1:\n",
    "                if i >= 1 and lens[i - 1] % 3 == 1:\n",
    "                    if lens[i] == 4 and i + 1 < len(lens) and lens[i + 1] % 4 != 0:\n",
    "                        is_special = True\n",
    "                        lens[i - 1] -= 1\n",
    "                        lens[i] = 0\n",
    "                        lens[i + 1] -= 1\n",
    "                        r += 2\n",
    "                    elif lens[i] > 4 and lens[i] % 4 != 0:\n",
    "                        is_special = True\n",
    "                        lens[i - 1] -= 1\n",
    "                        lens[i] -= 5\n",
    "                        r += 2\n",
    "                \n",
    "                if not is_special:\n",
    "                    r += lens[i] // 4\n",
    "                    lens[i] %= 4\n",
    "                    \n",
    "        for i in range(len(lens)):\n",
    "            r += lens[i] // 3\n",
    "            if lens[i] % 3:\n",
    "                r += 1\n",
    "                    \n",
    "print(r)"
   ]
  },
  {
   "cell_type": "markdown",
   "metadata": {},
   "source": [
    "https://www.acmicpc.net/problem/2504"
   ]
  },
  {
   "cell_type": "code",
   "execution_count": null,
   "metadata": {},
   "outputs": [],
   "source": [
    "# 숏코딩\n",
    "import re\n",
    "s=re.sub(r'\\(\\]|\\[\\)','a',input()).replace('(','2*(')\n",
    "for _ in range(15):s=re.sub('(?<!\\*)\\[([\\(\\)23*]*)\\]',r'3*(\\1)',s)\n",
    "try:\n",
    "    print(eval(re.sub('(?<=\\))(\\d)',r'+\\1',s).replace('()','1')))\n",
    "except:\n",
    "    print(0)"
   ]
  },
  {
   "cell_type": "markdown",
   "metadata": {},
   "source": [
    "https://www.acmicpc.net/contest/problem/851/1 A번 - 햄버거 만들기"
   ]
  },
  {
   "cell_type": "code",
   "execution_count": 4,
   "metadata": {},
   "outputs": [
    {
     "name": "stdout",
     "output_type": "stream",
     "text": [
      "1 7\n",
      "0\n"
     ]
    }
   ],
   "source": [
    "a, b = map(int, input().split())\n",
    "\n",
    "r = min(a // 2, b)\n",
    "\n",
    "print(r)"
   ]
  },
  {
   "cell_type": "markdown",
   "metadata": {},
   "source": [
    "https://www.acmicpc.net/contest/problem/851/2 B번 - MBTI"
   ]
  },
  {
   "cell_type": "code",
   "execution_count": 5,
   "metadata": {},
   "outputs": [
    {
     "name": "stdout",
     "output_type": "stream",
     "text": [
      "ESTJ\n",
      "5\n",
      "ESTJ\n",
      "ESTJ\n",
      "ESTJ\n",
      "ESTJ\n",
      "ESTJ\n",
      "5\n"
     ]
    }
   ],
   "source": [
    "s = input()\n",
    "\n",
    "n = int(input())\n",
    "c = 0\n",
    "for _ in range(n):\n",
    "    temp = input()\n",
    "    \n",
    "    if s == temp:\n",
    "        c += 1\n",
    "        \n",
    "print(c)"
   ]
  },
  {
   "cell_type": "markdown",
   "metadata": {},
   "source": [
    "https://www.acmicpc.net/contest/problem/851/3 C번 - 홀짝 수열"
   ]
  },
  {
   "cell_type": "code",
   "execution_count": 8,
   "metadata": {},
   "outputs": [
    {
     "name": "stdout",
     "output_type": "stream",
     "text": [
      "5\n",
      "4 1 6 3 5\n",
      "1\n"
     ]
    }
   ],
   "source": [
    "n = int(input())\n",
    "\n",
    "li = list(map(int, input().split()))\n",
    "\n",
    "c0 = 0\n",
    "c1 = 0\n",
    "for v in li:\n",
    "    if v % 2 == 0:\n",
    "        c0 += 1\n",
    "    else:\n",
    "        c1 += 1\n",
    "        \n",
    "if n % 2 == 0:\n",
    "    if c0 == c1:\n",
    "        print(1)\n",
    "    else:\n",
    "        print(0)\n",
    "else:\n",
    "    if c0 == c1 - 1:\n",
    "        print(1)\n",
    "    else:\n",
    "        print(0)"
   ]
  },
  {
   "cell_type": "markdown",
   "metadata": {},
   "source": [
    "https://www.acmicpc.net/contest/problem/851/4 D번 - 균형 잡힌 소떡소떡"
   ]
  },
  {
   "cell_type": "code",
   "execution_count": 11,
   "metadata": {},
   "outputs": [
    {
     "name": "stdout",
     "output_type": "stream",
     "text": [
      "4\n",
      "stst\n",
      "stst\n"
     ]
    }
   ],
   "source": [
    "n = int(input())\n",
    "li = list(input())\n",
    "\n",
    "cs = 0\n",
    "ct = 0\n",
    "for v in li:\n",
    "    if v == 's':\n",
    "        cs += 1\n",
    "    else:\n",
    "        ct += 1\n",
    "        \n",
    "rli = li[::-1]\n",
    "while cs != ct:\n",
    "    temp = rli.pop()\n",
    "    if temp == 's':\n",
    "        cs -= 1\n",
    "    else:\n",
    "        ct -= 1\n",
    "            \n",
    "result = rli[::-1]\n",
    "result = ''.join(result)\n",
    "\n",
    "print(result)"
   ]
  },
  {
   "cell_type": "markdown",
   "metadata": {},
   "source": [
    "https://www.acmicpc.net/contest/problem/851/5 E번 - 팰린드롬 소떡소떡"
   ]
  },
  {
   "cell_type": "code",
   "execution_count": 14,
   "metadata": {},
   "outputs": [
    {
     "name": "stdout",
     "output_type": "stream",
     "text": [
      "6\n",
      "ssttss\n",
      "0\n"
     ]
    }
   ],
   "source": [
    "n = int(input())\n",
    "s = input()\n",
    "\n",
    "r = 0\n",
    "for i in range(n // 2):\n",
    "    if s[i] != s[n - 1 - i]:\n",
    "        r += 1\n",
    "        \n",
    "print(r)"
   ]
  },
  {
   "cell_type": "markdown",
   "metadata": {},
   "source": [
    "https://www.acmicpc.net/contest/problem/851/6 F번 - 젓가락 게임"
   ]
  },
  {
   "cell_type": "code",
   "execution_count": 17,
   "metadata": {},
   "outputs": [
    {
     "name": "stdout",
     "output_type": "stream",
     "text": [
      "3 1\n",
      "yj\n"
     ]
    }
   ],
   "source": [
    "a, b = map(int, input().split())\n",
    "\n",
    "r = ''\n",
    "while True:\n",
    "    b += a\n",
    "    if b >= 5:\n",
    "        r = 'yt'\n",
    "        break\n",
    "    \n",
    "    a += b\n",
    "    if a >= 5:\n",
    "        r = 'yj'\n",
    "        break\n",
    "        \n",
    "print(r)"
   ]
  },
  {
   "cell_type": "markdown",
   "metadata": {},
   "source": [
    "https://www.acmicpc.net/contest/problem/851/7 G번 - 문자열 탑 쌓기"
   ]
  },
  {
   "cell_type": "code",
   "execution_count": 21,
   "metadata": {},
   "outputs": [
    {
     "name": "stdout",
     "output_type": "stream",
     "text": [
      "3 3\n",
      "abc\n",
      "dda\n",
      "add\n",
      "1\n"
     ]
    }
   ],
   "source": [
    "def check(ai, bi):\n",
    "    a = li[ai]\n",
    "    b = li[bi]\n",
    "    \n",
    "    for j in range(m):\n",
    "        if a[:j + 1] == b[-(j + 1):]:\n",
    "            return True\n",
    "    \n",
    "    for j in range(m):\n",
    "        if b[:j + 1] == a[-(j + 1):]:\n",
    "            return True\n",
    "        \n",
    "    return False\n",
    "\n",
    "n, m = map(int, input().split())\n",
    "li = [input() for _ in range(n)]\n",
    "\n",
    "ip = True\n",
    "for i in range(n - 1):\n",
    "    if not check(i, i + 1):\n",
    "        ip = False\n",
    "        break\n",
    "        \n",
    "if ip:\n",
    "    print(1)\n",
    "else:\n",
    "    print(0)"
   ]
  },
  {
   "cell_type": "markdown",
   "metadata": {},
   "source": [
    "https://www.acmicpc.net/contest/problem/851/8 H번 - 마트료시카 합치기"
   ]
  },
  {
   "cell_type": "code",
   "execution_count": 24,
   "metadata": {},
   "outputs": [
    {
     "name": "stdout",
     "output_type": "stream",
     "text": [
      "7\n",
      "3 3 4 5 2 2 3\n",
      "3\n"
     ]
    }
   ],
   "source": [
    "n = int(input())\n",
    "li = sorted(map(int, input().split()))\n",
    "\n",
    "c = 0\n",
    "while li:\n",
    "    c += 1\n",
    "\n",
    "    to_dels = [0]\n",
    "    cur = li[0]    \n",
    "    for i in range(1, len(li)):\n",
    "        if cur < li[i]:\n",
    "            to_dels.append(i)\n",
    "            cur = li[i]\n",
    "            \n",
    "    for i in range(len(to_dels) - 1, -1, -1):\n",
    "        del li[to_dels[i]]\n",
    "        \n",
    "print(c)"
   ]
  },
  {
   "cell_type": "markdown",
   "metadata": {},
   "source": [
    "https://www.acmicpc.net/contest/problem/851/9 I번 - 소수 부르기 게임"
   ]
  },
  {
   "cell_type": "code",
   "execution_count": 35,
   "metadata": {},
   "outputs": [
    {
     "name": "stdout",
     "output_type": "stream",
     "text": [
      "11 17\n",
      "13 19\n",
      "yj\n"
     ]
    }
   ],
   "source": [
    "max_num = 1000\n",
    "ip = [True] * (max_num + 1)\n",
    "ip[0] = ip[1] = False\n",
    "for mod in range(2, int((max_num + 1) ** 0.5) + 1):\n",
    "    if ip[mod]:\n",
    "        for v in range(mod * mod, max_num + 1, mod):\n",
    "            ip[v] = False\n",
    "            \n",
    "primes = [i for i, v in enumerate(ip) if v]\n",
    "\n",
    "a, b = map(int, input().split())\n",
    "c, d = map(int, input().split())\n",
    "\n",
    "ts = set()\n",
    "js = set()\n",
    "for v in primes:\n",
    "    if a <= v <= b:\n",
    "        ts.add(v)\n",
    "    if c <= v <= d:\n",
    "        js.add(v)\n",
    "        \n",
    "commons = ts & js\n",
    "ts -= commons\n",
    "js -= commons\n",
    "\n",
    "cur = 0\n",
    "if len(commons) % 2 == 0:\n",
    "    cur = 0\n",
    "else:\n",
    "    cur = 1\n",
    "    \n",
    "r = ''\n",
    "while True:\n",
    "    if cur == 0:\n",
    "        if ts:\n",
    "            ts.pop()\n",
    "        else:\n",
    "            r = 'yj'\n",
    "            break\n",
    "    else:\n",
    "        if js:\n",
    "            js.pop()\n",
    "        else:\n",
    "            r = 'yt'\n",
    "            break\n",
    "    \n",
    "    cur ^= 1\n",
    "    \n",
    "print(r)"
   ]
  },
  {
   "cell_type": "markdown",
   "metadata": {},
   "source": [
    "https://www.acmicpc.net/contest/problem/851/10 J번 - 최대 상승"
   ]
  },
  {
   "cell_type": "code",
   "execution_count": 38,
   "metadata": {},
   "outputs": [
    {
     "name": "stdout",
     "output_type": "stream",
     "text": [
      "4\n",
      "7 1 2 6\n",
      "5\n"
     ]
    }
   ],
   "source": [
    "n = int(input())\n",
    "li = list(map(int, input().split()))\n",
    "\n",
    "max_r = 0\n",
    "cur_min = li[0]\n",
    "for i in range(1, n):\n",
    "    profit = li[i] - cur_min\n",
    "    max_r = max(max_r, profit)\n",
    "    \n",
    "    cur_min = min(cur_min, li[i])\n",
    "    \n",
    "print(max_r)"
   ]
  },
  {
   "cell_type": "markdown",
   "metadata": {},
   "source": [
    "https://www.acmicpc.net/contest/problem/851/11 K번 - 도미노 넘어뜨리기"
   ]
  },
  {
   "cell_type": "code",
   "execution_count": 48,
   "metadata": {},
   "outputs": [
    {
     "name": "stdout",
     "output_type": "stream",
     "text": [
      "3\n",
      "3 2 1\n",
      "3\n"
     ]
    }
   ],
   "source": [
    "inf = float('inf')\n",
    "\n",
    "n = int(input())\n",
    "li = list(map(int, input().split()))\n",
    "\n",
    "dp = [[-inf] * (n + 1) for _ in range(n)]\n",
    "dp[0][0] = li[0] \n",
    "\n",
    "for i in range(n):\n",
    "    dp[i][i] = li[i]\n",
    "    dp[i][i + 1] = 0\n",
    "\n",
    "for i in range(1, n):\n",
    "    for j in range(i + 1):\n",
    "        temp = -inf\n",
    "        \n",
    "        if dp[i - 1][j] >= li[i]:\n",
    "            temp = dp[i - 1][j] + li[i]\n",
    "            \n",
    "        if j - 1 >= 0:\n",
    "            temp = max(temp, dp[i - 1][j - 1])\n",
    "            \n",
    "        dp[i][j] = max(dp[i][j], temp)\n",
    "    \n",
    "r = 0\n",
    "for j in range(n + 1):\n",
    "    if dp[n - 1][j] != -inf:\n",
    "        r = n - j\n",
    "        break\n",
    "        \n",
    "print(r)"
   ]
  },
  {
   "cell_type": "markdown",
   "metadata": {},
   "source": [
    "https://www.acmicpc.net/contest/problem/851/12 L번 - 전구 상태 뒤집기"
   ]
  },
  {
   "cell_type": "code",
   "execution_count": 56,
   "metadata": {},
   "outputs": [
    {
     "name": "stdout",
     "output_type": "stream",
     "text": [
      "3\n",
      "3 2 5\n",
      "1 0 1\n",
      "10\n"
     ]
    }
   ],
   "source": [
    "inf = float('inf')\n",
    "\n",
    "n = int(input())\n",
    "li = list(map(int, input().split()))\n",
    "stat = list(map(int, input().split()))\n",
    "\n",
    "init = 0\n",
    "for i in range(n):\n",
    "    if stat[i]:\n",
    "        init += li[i]\n",
    "        li[i] = -li[i]\n",
    "        \n",
    "start = 0\n",
    "end = 0\n",
    "cur = li[0]\n",
    "max_cur = -inf\n",
    "while True:\n",
    "    max_cur = max(max_cur, cur)\n",
    "    \n",
    "    if cur <= 0:\n",
    "        end += 1\n",
    "        start = end\n",
    "        \n",
    "        if end >= n:\n",
    "            break\n",
    "        cur = li[end]\n",
    "    else:\n",
    "        end += 1\n",
    "        if end >= n:\n",
    "            break\n",
    "        cur += li[end]\n",
    "        \n",
    "r = init + max_cur\n",
    "\n",
    "print(r)"
   ]
  },
  {
   "cell_type": "markdown",
   "metadata": {},
   "source": [
    "https://www.acmicpc.net/contest/problem/851/13 M번 - 자유 이용권"
   ]
  },
  {
   "cell_type": "code",
   "execution_count": 60,
   "metadata": {},
   "outputs": [
    {
     "name": "stdout",
     "output_type": "stream",
     "text": [
      "4\n",
      "2 2 2 3\n",
      "9\n"
     ]
    }
   ],
   "source": [
    "n = int(input())\n",
    "li = list(map(int, input().split()))\n",
    "\n",
    "sv = sum(li)\n",
    "max_v = max(li)\n",
    "remained_v = sv - max_v\n",
    "\n",
    "r = 0\n",
    "if remained_v + 1 >= max_v:\n",
    "    r = sv\n",
    "else:\n",
    "    r = remained_v * 2 + 1\n",
    "    \n",
    "print(r)"
   ]
  },
  {
   "cell_type": "markdown",
   "metadata": {},
   "source": [
    "https://www.acmicpc.net/contest/problem/851/14 N번 - 소방차"
   ]
  },
  {
   "cell_type": "code",
   "execution_count": null,
   "metadata": {},
   "outputs": [],
   "source": [
    "from heapq import heappush, heappop\n",
    "import sys\n",
    "input = lambda: sys.stdin.readline().rstrip()\n",
    "\n",
    "inf = float('inf')\n",
    "\n",
    "n = int(input())\n",
    "a = list(map(int, input().split()))\n",
    "m = int(input())\n",
    "\n",
    "li = [[] for _ in range(n)]\n",
    "for _ in range(m):\n",
    "    u, v, w = map(int, input().split())\n",
    "    u -= 1\n",
    "    v -= 1\n",
    "    \n",
    "    li[u].append((v, w))\n",
    "    li[v].append((u, w))\n",
    "    \n",
    "s, t = map(int, input().split())\n",
    "\n",
    "s -= 1\n",
    "t -= 1\n",
    "\n",
    "dists = [inf] * n\n",
    "dists[s] = 0\n",
    "\n",
    "waters = [0] * n\n",
    "waters[s] = a[s]\n",
    "\n",
    "heap = []\n",
    "heappush(heap, (0, -a[s], s))\n",
    "\n",
    "while heap:\n",
    "    dist, water, value = heappop(heap)\n",
    "    water = -water\n",
    "    \n",
    "    if dist > dists[value] or dist == dists[value] and water < waters[value]:\n",
    "        continue\n",
    "        \n",
    "    for v, d in li[value]:\n",
    "        ndist = dist + d\n",
    "        nwater = water + a[v]\n",
    "        if ndist < dists[v] or ndist == dists[v] and nwater > waters[v]:\n",
    "            dists[v] = ndist\n",
    "            waters[v] = nwater\n",
    "            heappush(heap, (ndist, -nwater, v))\n",
    "\n",
    "if dists[t] == inf:\n",
    "    print(-1)\n",
    "else:\n",
    "    print(dists[t], waters[t])"
   ]
  },
  {
   "cell_type": "markdown",
   "metadata": {},
   "source": [
    "https://www.acmicpc.net/contest/problem/851/15 O번 - 회전 목마"
   ]
  },
  {
   "cell_type": "code",
   "execution_count": 64,
   "metadata": {},
   "outputs": [
    {
     "name": "stdout",
     "output_type": "stream",
     "text": [
      "5\n",
      "3 0 2 0 0\n",
      "4\n"
     ]
    }
   ],
   "source": [
    "# 틀릴게 확실함\n",
    "n = int(input())\n",
    "li = list(map(int, input().split()))\n",
    "\n",
    "total = 0\n",
    "for i in range(n):\n",
    "    if li[i] != 0:\n",
    "        continue\n",
    "    \n",
    "    t1 = 0\n",
    "    t1_target = -1\n",
    "    ni = i\n",
    "    while True:\n",
    "        t1 += 1\n",
    "        ni -= 1\n",
    "        ni %= n\n",
    "        \n",
    "        if li[ni] >= 2:\n",
    "            t1_target = ni\n",
    "            break\n",
    "            \n",
    "    t2 = 0\n",
    "    t2_target = -1\n",
    "    ni = i\n",
    "    while True:\n",
    "        t2 += 1\n",
    "        ni += 1\n",
    "        ni %= n\n",
    "        \n",
    "        if li[ni] >= 2:\n",
    "            t2_target = ni\n",
    "            break\n",
    "         \n",
    "    li[i] = 1\n",
    "    if t1 < t2:\n",
    "        total += t1\n",
    "        li[t1_target] -= 1\n",
    "    else:\n",
    "        total += t2\n",
    "        li[t2_target] -= 1\n",
    "        \n",
    "print(total)"
   ]
  },
  {
   "cell_type": "code",
   "execution_count": 92,
   "metadata": {},
   "outputs": [
    {
     "name": "stdout",
     "output_type": "stream",
     "text": [
      "5\n",
      "3 0 2 0 0\n",
      "3\n"
     ]
    }
   ],
   "source": [
    "from collections import deque\n",
    "\n",
    "inf = float('inf')\n",
    "\n",
    "n = int(input())\n",
    "deq = deque(map(int, input().split()))\n",
    "\n",
    "min_r = inf\n",
    "for _ in range(n):\n",
    "    zero_is = deque() # i\n",
    "    nums = deque() # [i, count]\n",
    "    \n",
    "    temp = 0\n",
    "    for i in range(n):\n",
    "        if deq[i] == 0:\n",
    "            if nums:\n",
    "                nums[0][1] -= 1\n",
    "                temp += abs(nums[0][0] - i)\n",
    "                if nums[0][1] == 0:\n",
    "                    nums.popleft()\n",
    "            else:\n",
    "                zero_is.append(i)\n",
    "        elif deq[i] >= 2:\n",
    "            count = deq[i] - 1\n",
    "            while zero_is and count >= 1:\n",
    "                zi = zero_is.popleft()\n",
    "                temp += abs(i - zi)\n",
    "                count -= 1\n",
    "            \n",
    "            if count >= 1:\n",
    "                nums.append([i, count])\n",
    "                \n",
    "    min_r = min(min_r, temp)\n",
    "    \n",
    "    deq.rotate()\n",
    "    \n",
    "print(min_r)"
   ]
  },
  {
   "cell_type": "markdown",
   "metadata": {},
   "source": [
    "https://www.acmicpc.net/contest/problem/851/16 P번 - 트리와 경로 개수 쿼리"
   ]
  },
  {
   "cell_type": "code",
   "execution_count": null,
   "metadata": {},
   "outputs": [],
   "source": [
    "같은 쿼리가 2번 이상 있으면 저장 후 그대로 출력하면됨. 그렇지 않으면 새로 계산함.\n",
    "쿼리가 n개이고 모두 다를 때의 경우는 결국 모든 노드에서의 답을 구하는 것과 같음"
   ]
  },
  {
   "cell_type": "code",
   "execution_count": 94,
   "metadata": {},
   "outputs": [
    {
     "name": "stdout",
     "output_type": "stream",
     "text": [
      "5\n",
      "1 1 1 0 0\n",
      "1 3\n",
      "3 2\n",
      "3 4\n",
      "3 5\n",
      "3\n",
      "2\n",
      "0\n",
      "3\n",
      "4\n",
      "4\n",
      "0\n"
     ]
    }
   ],
   "source": [
    "import sys\n",
    "sys.setrecursionlimit(110000)\n",
    "input = lambda: sys.stdin.readline().rstrip()\n",
    "\n",
    "def dfs_up(value):\n",
    "    vt[value] = True\n",
    "    \n",
    "    c0 = c1 = 0\n",
    "    for v in li[value]:\n",
    "        if not vt[v]:\n",
    "            tc0, tc1 = dfs_up(v)\n",
    "            c0 += tc0\n",
    "            c1 += tc1\n",
    "            \n",
    "    ct_to_up[value][0] = c0\n",
    "    ct_to_up[value][1] = c1\n",
    "\n",
    "    if colors[value] == 0:\n",
    "        c0 += 1\n",
    "    else:\n",
    "        c1 += 1\n",
    "        \n",
    "    ct_to_up_in[value][0] = c0\n",
    "    ct_to_up_in[value][1] = c1\n",
    "        \n",
    "    return c0, c1\n",
    "\n",
    "def dfs_down(value, c0, c1):\n",
    "    vt[value] = True\n",
    "    \n",
    "    total = 0\n",
    "    total += c0 * ct_to_up[value][1]\n",
    "    total += c1 * ct_to_up[value][0]\n",
    "    \n",
    "    cumul_c0 = 0\n",
    "    cumul_c1 = 0\n",
    "    for v in li[value]:\n",
    "        if not vt[v]:\n",
    "            total += cumul_c0 * ct_to_up_in[v][1]\n",
    "            total += cumul_c1 * ct_to_up_in[v][0]\n",
    "            \n",
    "            cumul_c0 += ct_to_up_in[v][0]\n",
    "            cumul_c1 += ct_to_up_in[v][1]\n",
    "\n",
    "    result[value] = total\n",
    "            \n",
    "    for v in li[value]:\n",
    "        if not vt[v]:\n",
    "            nc0 = ct_to_up_in[value][0] - ct_to_up_in[v][0]\n",
    "            nc1 = ct_to_up_in[value][1] - ct_to_up_in[v][1]\n",
    "            \n",
    "            nc0 += c0\n",
    "            nc1 += c1\n",
    "            \n",
    "            dfs_down(v, nc0, nc1)\n",
    "\n",
    "n = int(input())\n",
    "colors = list(map(int, input().split()))\n",
    "\n",
    "li = [[] for _ in range(n)]\n",
    "for _ in range(n - 1):\n",
    "    u, v = map(int, input().split())\n",
    "    u -= 1\n",
    "    v -= 1\n",
    "    \n",
    "    li[u].append(v)\n",
    "    li[v].append(u)\n",
    "    \n",
    "ct_to_up = [[0, 0] for _ in range(n)]\n",
    "ct_to_up_in = [[0, 0] for _ in range(n)]\n",
    "vt = [False] * n\n",
    "dfs_up(0)\n",
    "\n",
    "result = [0] * n\n",
    "vt = [False] * n\n",
    "dfs_down(0, 0, 0)\n",
    "    \n",
    "q = int(input())\n",
    "for _ in range(q):\n",
    "    qu = int(input())\n",
    "    qu -= 1\n",
    "    \n",
    "    print(result[qu])"
   ]
  },
  {
   "cell_type": "markdown",
   "metadata": {},
   "source": [
    "https://www.acmicpc.net/contest/problem/851/17 Q번 - 수열과 최대 상승 쿼리"
   ]
  },
  {
   "cell_type": "code",
   "execution_count": null,
   "metadata": {},
   "outputs": [],
   "source": [
    "inf = float('inf')\n",
    "\n",
    "class SegmentTree:\n",
    "    def __init__(self, data, default=10**15, func=lambda a, b: max(a,b)):\n",
    "        \"\"\"initialize the segment tree with data\"\"\"\n",
    "        self._default = default\n",
    "        self._func = func\n",
    "        self._len = len(data)\n",
    "        self._size = _size = 1 << (self._len - 1).bit_length()\n",
    " \n",
    "        self.data = [default] * (2 * _size)\n",
    "        self.data[_size:_size + self._len] = data\n",
    "        for i in reversed(range(_size)):\n",
    "            self.data[i] = func(self.data[i + i], self.data[i + i + 1])\n",
    " \n",
    "    def __delitem__(self, idx):\n",
    "        self[idx] = self._default\n",
    " \n",
    "    def __getitem__(self, idx):\n",
    "        return self.data[idx + self._size]\n",
    " \n",
    "    def __setitem__(self, idx, value):\n",
    "        idx += self._size\n",
    "        self.data[idx] = value\n",
    "        idx >>= 1\n",
    "        while idx:\n",
    "            self.data[idx] = self._func(self.data[2 * idx], self.data[2 * idx + 1])\n",
    "            idx >>= 1\n",
    " \n",
    "    def __len__(self):\n",
    "        return self._len\n",
    " \n",
    "    def query(self, start, stop):\n",
    "        if start == stop:\n",
    "            return self.__getitem__(start)\n",
    "        stop += 1\n",
    "        start += self._size\n",
    "        stop += self._size\n",
    " \n",
    "        res = self._default\n",
    "        while start < stop:\n",
    "            if start & 1:\n",
    "                res = self._func(res, self.data[start])\n",
    "                start += 1\n",
    "            if stop & 1:\n",
    "                stop -= 1\n",
    "                res = self._func(res, self.data[stop])\n",
    "            start >>= 1\n",
    "            stop >>= 1\n",
    "        return res\n",
    " \n",
    "    def __repr__(self):\n",
    "        return \"SegmentTree({0})\".format(self.data)\n",
    "    \n",
    "n = int(input())\n",
    "li = list(map(int, input().split()))\n",
    "    \n",
    "func = lambda a, b: min(a, b)\n",
    "min_seg = SegmentTree(li, inf, func=func)\n",
    "\n",
    "\n",
    "def func2():\n",
    "    \n",
    "seg = SegmentTree(li, -inf, func=func)"
   ]
  }
 ],
 "metadata": {
  "kernelspec": {
   "display_name": "Python 3",
   "language": "python",
   "name": "python3"
  },
  "language_info": {
   "codemirror_mode": {
    "name": "ipython",
    "version": 3
   },
   "file_extension": ".py",
   "mimetype": "text/x-python",
   "name": "python",
   "nbconvert_exporter": "python",
   "pygments_lexer": "ipython3",
   "version": "3.7.4"
  }
 },
 "nbformat": 4,
 "nbformat_minor": 2
}
