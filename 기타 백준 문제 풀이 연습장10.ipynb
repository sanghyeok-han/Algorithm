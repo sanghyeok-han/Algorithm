{
 "cells": [
  {
   "cell_type": "code",
   "execution_count": null,
   "metadata": {},
   "outputs": [],
   "source": [
    "import sys\n",
    "input = lambda: sys.stdin.readline().rstrip()\n",
    "\n",
    "for _ in range(int(input())):\n",
    "    n = int(input())\n",
    "    li = list(map(int, input().split()))\n",
    "\n",
    "    sv = sum(li)\n",
    "\n",
    "    if sv < 0:\n",
    "        print('Left')\n",
    "    elif sv > 0:\n",
    "        print('Right')\n",
    "    else:\n",
    "        print('Equilibrium')"
   ]
  },
  {
   "cell_type": "code",
   "execution_count": 5,
   "metadata": {},
   "outputs": [
    {
     "name": "stdout",
     "output_type": "stream",
     "text": [
      "3\n",
      "3 0 2\n",
      "1.6666666666666667\n"
     ]
    }
   ],
   "source": [
    "n = int(input())\n",
    "li = list(map(int, input().split()))\n",
    "\n",
    "sv = 0\n",
    "c = 0\n",
    "for v in li:\n",
    "    if v >= 0:\n",
    "        c += 1\n",
    "        sv += v\n",
    "\n",
    "print(sv / c)"
   ]
  },
  {
   "cell_type": "code",
   "execution_count": 10,
   "metadata": {},
   "outputs": [
    {
     "name": "stdout",
     "output_type": "stream",
     "text": [
      "0 2 3\n"
     ]
    }
   ],
   "source": [
    "n = int(input())\n",
    "\n",
    "bn = bin(n)\n",
    "bits = [0] * 30\n",
    "\n",
    "cur = 0\n",
    "result = []\n",
    "for i in range(len(bn) - 1, 1, -1):\n",
    "    if bn[i] == '1':\n",
    "        result.append(cur)\n",
    "    cur += 1\n",
    "        \n",
    "print(*result)"
   ]
  },
  {
   "cell_type": "code",
   "execution_count": 23,
   "metadata": {},
   "outputs": [
    {
     "name": "stdout",
     "output_type": "stream",
     "text": [
      "0\n",
      "1\n"
     ]
    }
   ],
   "source": [
    "n = int(input())\n",
    "\n",
    "if n == 0:\n",
    "    print(1)\n",
    "elif n == 1:\n",
    "    print(0)\n",
    "else:\n",
    "    c8 = n // 2\n",
    "    c4 = 0\n",
    "    if n % 2 != 0:\n",
    "        c4 = 1\n",
    "        \n",
    "    r = '4' * c4 + '8' * c8\n",
    "    \n",
    "    print(r)"
   ]
  },
  {
   "cell_type": "code",
   "execution_count": 29,
   "metadata": {},
   "outputs": [
    {
     "name": "stdout",
     "output_type": "stream",
     "text": [
      "1 1\n",
      "4\n",
      "3\n",
      "Yes\n"
     ]
    }
   ],
   "source": [
    "import sys\n",
    "input = lambda: sys.stdin.readline().rstrip()\n",
    "\n",
    "for _ in range(int(input())):\n",
    "    n, m = map(int, input().split())\n",
    "    a = list(map(int, input().split()))\n",
    "    b = list(map(int, input().split()))\n",
    "\n",
    "    if n <= m:\n",
    "        print('Yes')\n",
    "    else:\n",
    "        print('No')"
   ]
  },
  {
   "cell_type": "code",
   "execution_count": 36,
   "metadata": {},
   "outputs": [
    {
     "name": "stdout",
     "output_type": "stream",
     "text": [
      "4\n",
      "SPRS\n",
      "4\n",
      "RPRP\n",
      "SRRR\n",
      "SSPR\n",
      "PSPS\n",
      "12\n",
      "21\n"
     ]
    }
   ],
   "source": [
    "def get_sc(cur, oppo):\n",
    "    if cur == oppo:\n",
    "        return 1\n",
    "    if cur == 'S':\n",
    "        if oppo == 'P':\n",
    "            return 2\n",
    "        else:\n",
    "            return 0\n",
    "    elif cur == 'P':\n",
    "        if oppo == 'R':\n",
    "            return 2\n",
    "        else:\n",
    "            return 0\n",
    "    else:\n",
    "        if oppo == 'S':\n",
    "            return 2\n",
    "        else:\n",
    "            return 0\n",
    "\n",
    "n = int(input())\n",
    "li = input()\n",
    "\n",
    "oppos_len = int(input())\n",
    "\n",
    "oppos = []\n",
    "for _ in range(oppos_len):\n",
    "    temp = input()\n",
    "    oppos.append(temp)\n",
    "\n",
    "r1 = 0\n",
    "r2 = 0\n",
    "for i in range(n):\n",
    "    t1 = t2 = t3 = 0\n",
    "    for oppo_i in range(oppos_len):\n",
    "        r1 += get_sc(li[i], oppos[oppo_i][i])\n",
    "        \n",
    "        t1 += get_sc('S', oppos[oppo_i][i])\n",
    "        t2 += get_sc('P', oppos[oppo_i][i])\n",
    "        t3 += get_sc('R', oppos[oppo_i][i])\n",
    "\n",
    "    r2 += max(t1, t2, t3)\n",
    "\n",
    "print(r1)\n",
    "print(r2)"
   ]
  },
  {
   "cell_type": "code",
   "execution_count": 10,
   "metadata": {},
   "outputs": [
    {
     "name": "stdout",
     "output_type": "stream",
     "text": [
      "2\n",
      "3\n",
      "1 10\n",
      "5 5\n",
      "7 7\n",
      "Case #1: 2\n",
      "2\n",
      "1 1\n",
      "2 2\n",
      "Case #2: 0\n"
     ]
    }
   ],
   "source": [
    "import sys\n",
    "input = lambda: sys.stdin.readline().rstrip()\n",
    "\n",
    "for tn in range(int(input())):\n",
    "    n = int(input())\n",
    "\n",
    "    li = [list(map(int, input().split())) for _ in range(n)]\n",
    "    li.sort(key=lambda x: x[0])\n",
    "\n",
    "    A = []\n",
    "    B = []\n",
    "    for a, b in li:\n",
    "        A.append(a)\n",
    "        B.append(b)\n",
    "\n",
    "    total = 0\n",
    "    for i in range(n):\n",
    "        cri = B[i]\n",
    "        for j in range(i + 1, n):\n",
    "            if B[j] < cri:\n",
    "                total += 1\n",
    "\n",
    "    r = f'Case #{tn + 1}: {total}'\n",
    "    \n",
    "    print(r)"
   ]
  },
  {
   "cell_type": "markdown",
   "metadata": {},
   "source": [
    "https://www.acmicpc.net/problem/12043 Lazy Spelling Bee (Large) "
   ]
  },
  {
   "cell_type": "code",
   "execution_count": 13,
   "metadata": {},
   "outputs": [
    {
     "name": "stdout",
     "output_type": "stream",
     "text": [
      "2\n",
      "ag\n",
      "Case #1: 4\n",
      "aa\n",
      "Case #2: 1\n"
     ]
    }
   ],
   "source": [
    "import sys\n",
    "input = lambda: sys.stdin.readline().rstrip()\n",
    "\n",
    "mod = 1000000007\n",
    "\n",
    "for tn in range(int(input())):\n",
    "    s = input()\n",
    "    n = len(s)\n",
    "\n",
    "    cur = 1\n",
    "    for i in range(n):\n",
    "        st = set()\n",
    "        if i - 1 >= 0:\n",
    "            st.add(s[i - 1])\n",
    "        st.add(s[i])\n",
    "        if i + 1 < n:\n",
    "            st.add(s[i + 1])\n",
    "\n",
    "        cur *= len(st)\n",
    "        cur %= mod\n",
    "\n",
    "    print(f'Case #{tn + 1}: {cur}')"
   ]
  },
  {
   "cell_type": "markdown",
   "metadata": {},
   "source": [
    "-"
   ]
  },
  {
   "cell_type": "code",
   "execution_count": 11,
   "metadata": {},
   "outputs": [
    {
     "name": "stdout",
     "output_type": "stream",
     "text": [
      "1\n",
      "4 11111\n",
      "Case #1: 0\n"
     ]
    }
   ],
   "source": [
    "import sys\n",
    "input = lambda: sys.stdin.readline().rstrip()\n",
    "\n",
    "for tn in range(int(input())):\n",
    "    n, li = input().split()\n",
    "\n",
    "    n = int(n)\n",
    "    li = list(map(int, li))\n",
    "\n",
    "    total = 0\n",
    "    cur = li[0]\n",
    "    for needed in range(1, n + 1):\n",
    "        if li[needed] == 0:\n",
    "            continue\n",
    "\n",
    "        if cur >= needed:\n",
    "            cur += li[needed]\n",
    "        else:\n",
    "            diff = needed - cur\n",
    "            total += diff\n",
    "            cur += diff\n",
    "            cur += li[needed]\n",
    "\n",
    "    print(f'Case #{tn + 1}: {total}')"
   ]
  },
  {
   "cell_type": "code",
   "execution_count": 13,
   "metadata": {},
   "outputs": [
    {
     "name": "stdout",
     "output_type": "stream",
     "text": [
      "1\n",
      "all tour\n",
      "Case #1: tour all\n"
     ]
    }
   ],
   "source": [
    "import sys\n",
    "input = lambda: sys.stdin.readline().rstrip()\n",
    "\n",
    "for tn in range(int(input())):\n",
    "    li = input().split()\n",
    "    li.reverse()\n",
    "\n",
    "    print(f'Case #{tn + 1}:', *li)"
   ]
  },
  {
   "cell_type": "code",
   "execution_count": 16,
   "metadata": {},
   "outputs": [
    {
     "name": "stdout",
     "output_type": "stream",
     "text": [
      "8\n",
      "8\n",
      "2 1 9 4 4 56 90 3\n",
      "Case #1: 4 5\n"
     ]
    }
   ],
   "source": [
    "import sys\n",
    "input = lambda: sys.stdin.readline().rstrip()\n",
    "\n",
    "for tn in range(int(input())):\n",
    "    c = int(input())\n",
    "    n = int(input())\n",
    "    li = list(map(int, input().split()))\n",
    "\n",
    "    ri, rj = -1, -1\n",
    "    for i in range(n):\n",
    "        for j in range(i + 1, n):\n",
    "            if li[i] + li[j] == c:\n",
    "                ri, rj = i, j\n",
    "                break\n",
    "        if ri != -1:\n",
    "            break\n",
    "\n",
    "    print(f'Case #{tn + 1}:', ri + 1, rj + 1)"
   ]
  },
  {
   "cell_type": "code",
   "execution_count": 20,
   "metadata": {},
   "outputs": [
    {
     "name": "stdout",
     "output_type": "stream",
     "text": [
      "4\n",
      "15 25 30 35 45 50 10 20\n",
      "2\n",
      "15\n",
      "25\n"
     ]
    }
   ],
   "source": [
    "import sys\n",
    "input = lambda: sys.stdin.readline().rstrip()\n",
    "\n",
    "t = int(input())\n",
    "for tn in range(t):\n",
    "    n = int(input())\n",
    "    li = list(map(int, input().split()))\n",
    "    q = int(input())\n",
    "    qus = [int(input()) for _ in range(q)]\n",
    "\n",
    "    r = [0] * 5001\n",
    "    for i in range(0, n * 2, 2):\n",
    "        start = li[i]\n",
    "        end = li[i + 1]\n",
    "\n",
    "        for i in range(start, end + 1):\n",
    "            r[i] += 1\n",
    "\n",
    "    result = [0] * q\n",
    "    for qi in range(q):\n",
    "        result[qi] = r[qus[qi]]\n",
    "\n",
    "    print(f'Case #{tn + 1}:', *result)\n",
    "    \n",
    "    if tn != t - 1:\n",
    "        input()"
   ]
  },
  {
   "cell_type": "code",
   "execution_count": 23,
   "metadata": {},
   "outputs": [
    {
     "name": "stdout",
     "output_type": "stream",
     "text": [
      "1\n",
      "5\n",
      "1 2 3 6 7\n",
      "Case #1: 5.0\n"
     ]
    }
   ],
   "source": [
    "import sys\n",
    "input = lambda: sys.stdin.readline().rstrip()\n",
    "\n",
    "for tn in range(int(input())):\n",
    "    n = int(input())\n",
    "    li = list(map(int, input().split()))\n",
    "\n",
    "    for i in range(1, n - 1):\n",
    "        avg = (li[i - 1] + li[i + 1]) / 2\n",
    "        if li[i] > avg:\n",
    "            li[i] = avg\n",
    "\n",
    "    print(f'Case #{tn + 1}: {li[n - 2]}')"
   ]
  },
  {
   "cell_type": "code",
   "execution_count": 26,
   "metadata": {},
   "outputs": [
    {
     "name": "stdout",
     "output_type": "stream",
     "text": [
      "2\n",
      "620 7 179\n",
      "300 5 100\n",
      "1\n"
     ]
    }
   ],
   "source": [
    "import sys\n",
    "input = lambda: sys.stdin.readline().rstrip()\n",
    "\n",
    "n = int(input())\n",
    "li = [list(map(int, input().split())) + [i + 1] for i in range(n)]\n",
    "\n",
    "li.sort(key=lambda x: (-x[0], x[1], x[2]))\n",
    "\n",
    "print(li[0][3])"
   ]
  }
 ],
 "metadata": {
  "kernelspec": {
   "display_name": "Python 3",
   "language": "python",
   "name": "python3"
  },
  "language_info": {
   "codemirror_mode": {
    "name": "ipython",
    "version": 3
   },
   "file_extension": ".py",
   "mimetype": "text/x-python",
   "name": "python",
   "nbconvert_exporter": "python",
   "pygments_lexer": "ipython3",
   "version": "3.7.4"
  }
 },
 "nbformat": 4,
 "nbformat_minor": 2
}
