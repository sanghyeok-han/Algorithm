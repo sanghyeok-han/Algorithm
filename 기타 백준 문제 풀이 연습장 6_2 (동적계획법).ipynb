{
 "cells": [
  {
   "cell_type": "markdown",
   "metadata": {},
   "source": [
    "### 팰린드롬? 10942\n",
    "- 문자열"
   ]
  },
  {
   "cell_type": "code",
   "execution_count": 1,
   "metadata": {},
   "outputs": [
    {
     "name": "stdout",
     "output_type": "stream",
     "text": [
      "7\n",
      "1 2 1 3 1 2 1\n"
     ]
    }
   ],
   "source": [
    "n = int(input())\n",
    "li = list(map(int, input().split()))"
   ]
  },
  {
   "cell_type": "code",
   "execution_count": 2,
   "metadata": {},
   "outputs": [],
   "source": [
    "dp = [[1] * n for _ in range(n)] # dp[i][j]: i~j가 팰린드롬인지의 여부"
   ]
  },
  {
   "cell_type": "code",
   "execution_count": 13,
   "metadata": {},
   "outputs": [
    {
     "name": "stdout",
     "output_type": "stream",
     "text": [
      "7\n",
      "1 2 3 4 5 6 7\n",
      "1\n",
      "1 7\n",
      "0\n"
     ]
    }
   ],
   "source": [
    "import sys\n",
    "# input = sys.stdin.readline\n",
    "\n",
    "n = int(input().rstrip())\n",
    "li = list(map(int, input().rstrip().split()))\n",
    "\n",
    "dp = [[1] * n for _ in range(n)] # dp[i][j]: i~j가 팰린드롬인지의 여부\n",
    "\n",
    "for term in range(1, n):\n",
    "    for i in range(n - term):\n",
    "        if li[i] != li[i + term]:\n",
    "            dp[i][i + term] = 0\n",
    "            continue\n",
    "       \n",
    "        if term >= 3:\n",
    "            if not dp[i + 1][i + term - 1]:\n",
    "                dp[i][i + term] = 0\n",
    "                \n",
    "m = int(input().rstrip())\n",
    "for _ in range(m):\n",
    "    s, e = map(int, input().rstrip().split())\n",
    "    print(dp[s - 1][e - 1])"
   ]
  },
  {
   "cell_type": "markdown",
   "metadata": {},
   "source": [
    "### 로봇 조종하기 2169"
   ]
  },
  {
   "cell_type": "code",
   "execution_count": null,
   "metadata": {},
   "outputs": [],
   "source": [
    "import sys\n",
    "# input = sys.stdin.readline\n",
    "\n",
    "n, m = map(int, input().rstrip().split())\n",
    "li = [list(map(int, input().rstrip().split())) for _ in range(n)]\n",
    "\n",
    "for i in range(1, m):\n",
    "    li[0][i] = li[0][i - 1] + li[0][i]\n",
    "\n",
    "left_dp = [[-float('inf')] * (m + 1) for _ in range(n)]\n",
    "right_dp = [[-float('inf')] * (m + 1) for _ in range(n)]\n",
    "for i in range(1, n):\n",
    "    for j in range(m):\n",
    "        left_dp[i][j + 1] = max(li[i - 1][j], left_dp[i][j]) + li[i][j]\n",
    "        right_dp[i][m - 1 - j] = max(li[i - 1][m - 1 - j], right_dp[i][m - j]) + li[i][m - 1 - j]\n",
    "    \n",
    "    for j in range(m):\n",
    "        li[i][j] = max(left_dp[i][j + 1], right_dp[i][j])\n",
    "        \n",
    "print(li[-1][-1])"
   ]
  },
  {
   "cell_type": "markdown",
   "metadata": {},
   "source": [
    "### 보석 줍기 2208\n",
    "- 누적 합"
   ]
  },
  {
   "cell_type": "code",
   "execution_count": 118,
   "metadata": {},
   "outputs": [
    {
     "name": "stdout",
     "output_type": "stream",
     "text": [
      "3 3\n",
      "-1\n",
      "-1\n",
      "-1\n",
      "0\n"
     ]
    }
   ],
   "source": [
    "import sys\n",
    "# input = sys.stdin.readline\n",
    "\n",
    "n, m = map(int, input().rstrip().split())\n",
    "li = [int(input().rstrip()) for _ in range(n)]\n",
    "\n",
    "sum_li = []\n",
    "for i in range(m, n + 1):\n",
    "    sum_li.append(sum(li[i - m:i]))\n",
    "\n",
    "dp = [0] * len(sum_li)\n",
    "dp[0] = sum_li[0]\n",
    "\n",
    "for i in range(1, len(sum_li)):\n",
    "    dp[i] = max(dp[i - 1] + li[i + m - 1], sum_li[i])\n",
    "    \n",
    "print(max(max(dp), 0))"
   ]
  },
  {
   "cell_type": "code",
   "execution_count": 129,
   "metadata": {},
   "outputs": [
    {
     "name": "stdout",
     "output_type": "stream",
     "text": [
      "4 4\n",
      "1\n",
      "2\n",
      "3\n",
      "4\n",
      "10\n"
     ]
    }
   ],
   "source": [
    "# 누적 합 부분 최적화\n",
    "import sys\n",
    "# input = sys.stdin.readline\n",
    "\n",
    "n, m = map(int, input().rstrip().split())\n",
    "li = [int(input().rstrip()) for _ in range(n)]\n",
    "\n",
    "sum_li = [0] * (n - m + 1)\n",
    "sum_li[0] = sum(li[:m])\n",
    "\n",
    "for i in range(1, n - m + 1):\n",
    "    sum_li[i] = sum_li[i - 1] - li[i - 1] + li[i + m - 1]\n",
    "\n",
    "dp = [0] * len(sum_li)\n",
    "dp[0] = sum_li[0]\n",
    "\n",
    "for i in range(1, len(sum_li)):\n",
    "    dp[i] = max(dp[i - 1] + li[i + m - 1], sum_li[i])\n",
    "    \n",
    "print(max(max(dp), 0))"
   ]
  },
  {
   "cell_type": "markdown",
   "metadata": {},
   "source": [
    "### 금고 테스트"
   ]
  },
  {
   "cell_type": "code",
   "execution_count": 89,
   "metadata": {},
   "outputs": [
    {
     "name": "stdout",
     "output_type": "stream",
     "text": [
      "10 4\n",
      "4\n"
     ]
    }
   ],
   "source": [
    "# 일단 포기\n",
    "n, k = map(int, input().split())\n",
    "\n",
    "start = 1\n",
    "end = n\n",
    "count = 0\n",
    "for _ in range(k - 1):\n",
    "    mid = (start + end) // 2\n",
    "    start = mid + 1\n",
    "    count += 1\n",
    "    \n",
    "    if start >= end - 1:\n",
    "        break\n",
    "    \n",
    "count += end - start + 1\n",
    "\n",
    "print(count)"
   ]
  },
  {
   "cell_type": "markdown",
   "metadata": {},
   "source": [
    "### 정상 회담 2 1670\n",
    "- 수학, 조합론"
   ]
  },
  {
   "cell_type": "code",
   "execution_count": 34,
   "metadata": {},
   "outputs": [
    {
     "name": "stdout",
     "output_type": "stream",
     "text": [
      "8\n",
      "14\n"
     ]
    }
   ],
   "source": [
    "# 맞았음, for문 안에 i 대신 n을 넣은 것을 디버깅하는 것에 오래 걸렸음\n",
    "n = int(input())\n",
    "mod = 987654321\n",
    "dp = [0] * 10001\n",
    "dp[2], dp[4] = 1, 2\n",
    "for i in range(6, 10001, 2):\n",
    "    total = 0\n",
    "    total += 2 * dp[i - 2]\n",
    "    start = 2\n",
    "    end = i - 4\n",
    "    \n",
    "    while start <= end:\n",
    "        if start == end:\n",
    "            total += (dp[start] * dp[start]) % mod\n",
    "        else:\n",
    "            total += 2 * (dp[start] * dp[end]) % mod\n",
    "        \n",
    "        start += 2\n",
    "        end -= 2\n",
    "        \n",
    "    dp[i] = total % mod\n",
    "    \n",
    "print(dp[n])"
   ]
  },
  {
   "cell_type": "code",
   "execution_count": 33,
   "metadata": {},
   "outputs": [
    {
     "name": "stdout",
     "output_type": "stream",
     "text": [
      "8\n",
      "14\n"
     ]
    }
   ],
   "source": [
    "# 맞았음, n에 따라서 최적화를 하였지만 결과는 비슷함\n",
    "n = int(input())\n",
    "\n",
    "if n == 2:\n",
    "    print(1)\n",
    "elif n == 4:\n",
    "    print(2)\n",
    "else:\n",
    "    mod = 987654321\n",
    "    dp = [0] * (n + 1)\n",
    "    dp[2], dp[4] = 1, 2\n",
    "\n",
    "    for i in range(6, n + 1, 2):\n",
    "        total = 0\n",
    "        total += 2 * dp[i - 2]\n",
    "        start = 2\n",
    "        end = i - 4\n",
    "\n",
    "        while start <= end:\n",
    "            if start == end:\n",
    "                total += (dp[start] * dp[start]) % mod\n",
    "            else:\n",
    "                total += 2 * (dp[start] * dp[end]) % mod\n",
    "\n",
    "            start += 2\n",
    "            end -= 2\n",
    "\n",
    "        dp[i] = total % mod\n",
    "\n",
    "    print(dp[n])"
   ]
  },
  {
   "cell_type": "markdown",
   "metadata": {},
   "source": [
    "### 사전 1256"
   ]
  },
  {
   "cell_type": "code",
   "execution_count": 60,
   "metadata": {},
   "outputs": [
    {
     "name": "stdout",
     "output_type": "stream",
     "text": [
      "1 1 3\n",
      "-1\n"
     ]
    }
   ],
   "source": [
    "dp = [[1] * 101 for _ in range(101)] # dp[a 개수][z 개수]\n",
    "for i in range(1, 101):\n",
    "    for j in range(1, 101):\n",
    "        dp[i][j] = dp[i - 1][j] + dp[i][j - 1]\n",
    "\n",
    "n, m, k = map(int, input().split())\n",
    "\n",
    "result = []\n",
    "while True:\n",
    "    if n <= -1 or m <= -1:\n",
    "        result = [-1]\n",
    "        break\n",
    "    \n",
    "    if dp[n][m] == k:\n",
    "        break\n",
    "    \n",
    "    if dp[n - 1][m] >= k:\n",
    "        n, m = n - 1, m\n",
    "        result.append('a')\n",
    "    else:\n",
    "        k -= dp[n - 1][m]\n",
    "        n, m = n, m - 1\n",
    "        result.append('z')\n",
    "\n",
    "if result != [-1]:\n",
    "    temp = ['z'] * m + ['a'] * n\n",
    "    result.extend(temp)\n",
    "    \n",
    "    print(\"\".join(result))\n",
    "else:\n",
    "    print(-1)"
   ]
  },
  {
   "cell_type": "markdown",
   "metadata": {},
   "source": [
    "### ls 5015"
   ]
  },
  {
   "cell_type": "code",
   "execution_count": 79,
   "metadata": {},
   "outputs": [
    {
     "name": "stdout",
     "output_type": "stream",
     "text": [
      "*a*a*a\n",
      "4\n",
      "aaa\n",
      "aaa\n",
      "aaaaa\n",
      "aaaaa\n",
      "aaaaax\n",
      "abababa\n",
      "abababa\n"
     ]
    }
   ],
   "source": [
    "# 시간 초과\n",
    "import re\n",
    "\n",
    "regex = input()\n",
    "regex = regex.replace('.', '\\.')\n",
    "regex = regex.replace('*', '[.a-z]*')\n",
    "\n",
    "c = re.compile(regex)\n",
    "for _ in range(int(input())):\n",
    "    s = input()\n",
    "    \n",
    "    result = c.match(s)\n",
    "    if result != None:\n",
    "        if len(s) == len(result.group()):\n",
    "            print(s)"
   ]
  },
  {
   "cell_type": "markdown",
   "metadata": {},
   "source": [
    "### 성냥개비 3687"
   ]
  },
  {
   "cell_type": "code",
   "execution_count": 166,
   "metadata": {},
   "outputs": [
    {
     "name": "stdout",
     "output_type": "stream",
     "text": [
      "4\n",
      "3\n",
      "7 7\n",
      "6\n",
      "6 111\n",
      "7\n",
      "8 711\n",
      "15\n",
      "108 7111111\n"
     ]
    }
   ],
   "source": [
    "dp = [0] * 101\n",
    "dp[:8] = ['0', '0', '1', '7', '4', '2', '0', '8']\n",
    "\n",
    "for i in range(8, 101):\n",
    "    min_num = float('inf')\n",
    "    for start in range(2, i - 1):\n",
    "        if start == 6:      \n",
    "            value = int('6' + dp[i - start])\n",
    "        else:\n",
    "            value = int(dp[start] + dp[i - start])\n",
    "            \n",
    "        if value < min_num:\n",
    "            min_num = value\n",
    "        \n",
    "    dp[i] = str(min_num)\n",
    "    \n",
    "for _ in range(int(input())):\n",
    "    n = int(input())\n",
    "\n",
    "    # 가장 작은 수 출력\n",
    "    if n == 6:\n",
    "        print(6, end=\" \")\n",
    "    else:\n",
    "        print(dp[n], end=\" \")\n",
    "        \n",
    "    # 가장 큰 수 출력\n",
    "    count_1 = n // 2\n",
    "    if n % 2:\n",
    "        max_s = '7' + '1' * (count_1 - 1)\n",
    "    else:\n",
    "        max_s = '1' * count_1\n",
    "\n",
    "    print(max_s)"
   ]
  },
  {
   "cell_type": "markdown",
   "metadata": {},
   "source": [
    "### ls 5015\n",
    "- 문자열"
   ]
  },
  {
   "cell_type": "code",
   "execution_count": 227,
   "metadata": {},
   "outputs": [
    {
     "name": "stdout",
     "output_type": "stream",
     "text": [
      "*\n",
      "1\n",
      "seffsfs\n",
      "seffsfs\n"
     ]
    }
   ],
   "source": [
    "p = input()\n",
    "p_length = len(p)\n",
    "\n",
    "for _ in range(int(input())):\n",
    "    s = input()\n",
    "    s_length = len(s)\n",
    "\n",
    "    last_star_index = -1\n",
    "    p_index = 0\n",
    "    s_index = 0\n",
    "    result = False\n",
    "    while True:\n",
    "        if p_index == p_length:\n",
    "            if last_star_index != -1:\n",
    "                p_index = last_star_index\n",
    "            else:\n",
    "                break\n",
    "\n",
    "        if p[p_index] == '*':\n",
    "            last_star_index = p_index\n",
    "            if p_index < p_length - 1:\n",
    "                p_index += 1\n",
    "                continue\n",
    "\n",
    "        if s[s_index] != p[p_index]:\n",
    "            if last_star_index == '-1':\n",
    "                break\n",
    "            if last_star_index < p_length - 1:\n",
    "                if s[s_index] == p[last_star_index + 1]:\n",
    "                    p_index = last_star_index + 2\n",
    "                else:\n",
    "                    p_index = last_star_index + 1\n",
    "            else:\n",
    "                p_index = last_star_index + 1\n",
    "            s_index += 1\n",
    "        else:\n",
    "            p_index += 1\n",
    "            s_index += 1\n",
    "\n",
    "        if s_index == s_length:\n",
    "            if p_index == p_length:\n",
    "                result = True\n",
    "            else:\n",
    "                st = set(p[p_index:])\n",
    "                if len(st) == 1 and st.pop() == '*':\n",
    "                    result = True\n",
    "            break\n",
    "\n",
    "    if result:\n",
    "        print(s)"
   ]
  },
  {
   "cell_type": "markdown",
   "metadata": {},
   "source": [
    "### 헌책방 5550"
   ]
  },
  {
   "cell_type": "code",
   "execution_count": 228,
   "metadata": {},
   "outputs": [
    {
     "name": "stdout",
     "output_type": "stream",
     "text": [
      "7 4\n",
      "14 1\n",
      "13 2\n",
      "12 3\n",
      "14 2\n",
      "8 2\n",
      "16 3\n",
      "11 2\n",
      "[[], [14], [13, 14, 8, 11], [12, 16], [], [], [], [], [], [], []]\n"
     ]
    }
   ],
   "source": [
    "# 일단 포기\n",
    "li = [[] for _ in range(11)]\n",
    "\n",
    "n, k = map(int, input().split())\n",
    "for _ in range(n):\n",
    "    c, g = map(int, input().split())\n",
    "    li[g].append(c)\n",
    "    \n",
    "print(li)\n",
    "\n",
    "for v in li:\n",
    "    v.sort(reverse=True)\n",
    "    \n",
    "print(li)"
   ]
  },
  {
   "cell_type": "markdown",
   "metadata": {},
   "source": [
    "### 도미노 (Small) 14586"
   ]
  },
  {
   "cell_type": "code",
   "execution_count": 274,
   "metadata": {},
   "outputs": [
    {
     "name": "stdout",
     "output_type": "stream",
     "text": [
      "5\n",
      "1 2\n",
      "3 1\n",
      "6 2\n",
      "7 1\n",
      "9 2\n",
      "2\n"
     ]
    }
   ],
   "source": [
    "# 틀렸음, 일단 포기\n",
    "n = int(input())\n",
    "li = [tuple(map(int, input().split())) for _ in range(n)] # (위치, 높이)\n",
    "\n",
    "count = 0\n",
    "while li:\n",
    "    if len(li) == 1:\n",
    "        count += 1\n",
    "        break\n",
    "    \n",
    "    count += 1\n",
    "    \n",
    "    push_left_to_right_dp = [1] * len(li)\n",
    "    current_leftest_index = 0\n",
    "    current_cover = li[0][1]\n",
    "    for i in range(1, len(li)):\n",
    "        remain_cover = current_cover - (li[i][0] - li[i - 1][0])\n",
    "\n",
    "        if remain_cover >= 0:\n",
    "            if current_leftest_index == -1:\n",
    "                current_leftest_index = i - 1\n",
    "            push_left_to_right_dp[current_leftest_index] += 1\n",
    "        else:\n",
    "            current_leftest_index = -1\n",
    "\n",
    "        current_cover = max(remain_cover, li[i][1])\n",
    "\n",
    "    push_right_to_left_dp = [1] * len(li)\n",
    "    current_rightest_index = len(li) - 1\n",
    "    current_cover = li[-1][1]\n",
    "    for i in range(len(li) - 2, -1, -1):\n",
    "        remain_cover = current_cover - (li[i + 1][0] - li[i][0])\n",
    "\n",
    "        if remain_cover >= 0:\n",
    "            if current_rightest_index == -1:\n",
    "                current_rightest_index = i + 1\n",
    "            push_right_to_left_dp[current_rightest_index] += 1\n",
    "        else:\n",
    "            current_rightest_index = -1\n",
    "\n",
    "        current_cover = max(remain_cover, li[i][1])\n",
    "\n",
    "    max_value = 0\n",
    "    max_index = 0\n",
    "    is_push_left_to_right = True\n",
    "    for i in range(len(li)):\n",
    "        if push_left_to_right_dp[i] > max_value:\n",
    "            max_value = push_left_to_right_dp[i]\n",
    "            max_index = i\n",
    "            is_push_left_to_right = True\n",
    "\n",
    "        if push_right_to_left_dp[i] > max_value:\n",
    "            max_value = push_right_to_left_dp[i]\n",
    "            max_index = i\n",
    "            is_push_left_to_right = False        \n",
    "            \n",
    "    if is_push_left_to_right:\n",
    "        for i in range(max_index + max_value - 1, max_index - 1, -1):\n",
    "            del li[i]\n",
    "    else:\n",
    "        for i in range(max_index, max_index - max_value, -1):\n",
    "            del li[i]\n",
    "                \n",
    "print(count)"
   ]
  },
  {
   "cell_type": "markdown",
   "metadata": {},
   "source": [
    "### 유전자 2306"
   ]
  },
  {
   "cell_type": "code",
   "execution_count": null,
   "metadata": {},
   "outputs": [],
   "source": [
    "# 접근을 잘못하였음\n",
    "s = input()\n",
    "\n",
    "dp = [[False] * len(s) for _ in range(len(s))] # dp[i][j]: i~j까지가 KOI 유전자인지의 여부\n",
    "\n",
    "def check(a, b):\n",
    "    if s[a] == 'a' and s[b] == 't' or s[a] == 'g' and s[b] == 'c':\n",
    "        return True\n",
    "    else:\n",
    "        return False\n",
    "\n",
    "max_count = 0\n",
    "for term in range(1, len(s), 2):\n",
    "    for start in range(len(s) - term):\n",
    "        if term == 1:\n",
    "            if check(start, start + 1):\n",
    "                dp[start][start + 1] = True\n",
    "                max_count = 1 + term\n",
    "                continue\n",
    "        if check(start, start + term) and dp[start + 1][start + term - 1]:\n",
    "            dp[start][start + term] = True\n",
    "            max_count = 1 + term\n",
    "            continue\n",
    "        for right_start in range(start + 2, start + term, 2):\n",
    "            if dp[start][right_start - 1] and dp[right_start][start + term]:\n",
    "                dp[start][start + term] = True\n",
    "                max_count = 1 + term\n",
    "                continue\n",
    "                \n",
    "print(max_count)"
   ]
  },
  {
   "cell_type": "code",
   "execution_count": 64,
   "metadata": {},
   "outputs": [
    {
     "name": "stdout",
     "output_type": "stream",
     "text": [
      "gatc\n",
      "4\n"
     ]
    }
   ],
   "source": [
    "# 틀렸음, gatc와 같은 경우 가능함\n",
    "a_count = 0\n",
    "g_count = 0\n",
    "current = 0\n",
    "\n",
    "s = input()\n",
    "\n",
    "for v in s:\n",
    "    if v == 'a':\n",
    "        a_count += 1\n",
    "    elif v == 'g':\n",
    "        g_count += 1\n",
    "    elif v == 't':\n",
    "        if a_count:\n",
    "            a_count -= 1\n",
    "            current += 2\n",
    "    else:\n",
    "        if g_count:\n",
    "            g_count -= 1\n",
    "            current += 2\n",
    "            \n",
    "print(current)"
   ]
  },
  {
   "cell_type": "markdown",
   "metadata": {},
   "source": [
    "### 내리막 길 1520\n",
    "- 그래프 이론"
   ]
  },
  {
   "cell_type": "code",
   "execution_count": 23,
   "metadata": {},
   "outputs": [
    {
     "name": "stdout",
     "output_type": "stream",
     "text": [
      "5 5\n",
      "9 8 7 6 5\n",
      "8 7 6 5 4\n",
      "7 6 5 4 3\n",
      "6 5 4 3 2\n",
      "5 4 3 2 1\n",
      "70\n",
      "1004\n"
     ]
    }
   ],
   "source": [
    "# 시간 초과\n",
    "from collections import deque\n",
    "\n",
    "n, m = map(int, input().split())\n",
    "li = [list(map(int, input().split())) for _ in range(n)]\n",
    "\n",
    "dx = [0, 0, -1, 1]\n",
    "dy = [-1, 1, 0, 0]\n",
    "\n",
    "dp = [[0] * m for _ in range(n)]\n",
    "\n",
    "queue = deque()\n",
    "queue.append((0, 0))\n",
    "count = 0\n",
    "while queue:\n",
    "    x, y = queue.popleft()\n",
    "    \n",
    "    sum_value = 0\n",
    "    for i in range(4):\n",
    "        count += 1\n",
    "        nx = x + dx[i]\n",
    "        ny = y + dy[i]\n",
    "        \n",
    "        if nx < 0 or nx >= n or ny < 0 or ny >= m:\n",
    "            continue\n",
    "         \n",
    "        if li[x][y] < li[nx][ny]:\n",
    "            sum_value += dp[nx][ny]\n",
    "        if li[x][y] > li[nx][ny]:\n",
    "            queue.append((nx, ny))\n",
    "            \n",
    "    if x == 0 and y == 0:\n",
    "        dp[x][y] = 1\n",
    "    else:\n",
    "        dp[x][y] = sum_value\n",
    "            \n",
    "print(dp[-1][-1])\n",
    "print(count)"
   ]
  },
  {
   "cell_type": "code",
   "execution_count": null,
   "metadata": {},
   "outputs": [],
   "source": [
    "from heapq import heappush, heappop\n",
    "\n",
    "n, m = map(int, input().split())\n",
    "li = [list(map(int, input().split())) for _ in range(n)]\n",
    "\n",
    "heap = []\n",
    "for i in range(n):\n",
    "    for j in range(m):\n",
    "        heappush(heap, (-li[i][j], i, j))\n",
    "\n",
    "dx = [0, 0, -1, 1]\n",
    "dy = [-1, 1, 0, 0]\n",
    "\n",
    "dp = [[0] * m for _ in range(n)]\n",
    "dp[0][0] = 1\n",
    "\n",
    "while heap:\n",
    "    _, x, y = heappop(heap)\n",
    "    \n",
    "    sum_value = 0\n",
    "    for i in range(4):\n",
    "        nx = x + dx[i]\n",
    "        ny = y + dy[i]\n",
    "        \n",
    "        if nx < 0 or nx >= n or ny < 0 or ny >= m:\n",
    "            continue\n",
    "            \n",
    "        if li[nx][ny] > li[x][y]:\n",
    "            sum_value += dp[nx][ny]\n",
    "            \n",
    "    if x == y == 0:\n",
    "        dp[x][y] = 1\n",
    "    else:\n",
    "        dp[x][y] = sum_value\n",
    "        \n",
    "print(dp[-1][-1])"
   ]
  },
  {
   "cell_type": "markdown",
   "metadata": {},
   "source": [
    "### 유전자 2306"
   ]
  },
  {
   "cell_type": "code",
   "execution_count": 8,
   "metadata": {},
   "outputs": [
    {
     "name": "stdout",
     "output_type": "stream",
     "text": [
      "acattgagtc\n",
      "['a'] ['c', 't', 't', 't', 'c']\n",
      "['a', 'a'] ['t', 't', 't', 'c']\n",
      "['a', 'a', 'g', 'a', 'g'] ['t', 'c']\n",
      "2\n"
     ]
    }
   ],
   "source": [
    "# 방향 설정을 잘못하였음(3번 조건을 무시하였음)\n",
    "s = input()\n",
    "\n",
    "candidates = []\n",
    "temp = []\n",
    "st = {'a', 'g'}\n",
    "former_value = ''\n",
    "for v in s:\n",
    "    if v in st:\n",
    "        temp.append(v)\n",
    "    else:\n",
    "        if former_value in st:\n",
    "            candidates.append([temp[:], []])\n",
    "        for c in candidates:\n",
    "            c[1].append(v)\n",
    "    former_value = v\n",
    "\n",
    "def get_length(lefts, rights):\n",
    "    print(lefts, rights)\n",
    "    n = len(lefts)\n",
    "    m = len(rights)\n",
    "    \n",
    "    \n",
    "    dp = [[0] * (m + 1) for _ in range(n + 1)]\n",
    "    for i in range(1, n + 1):\n",
    "        for j in range(1, m + 1):\n",
    "            if lefts[i - 1] == 'a' and rights[j - 1] == 't' or lefts[i - 1] == 'g' and rights[j - 1] == 'c':\n",
    "                dp[i][j] = max(dp[i - 1][j], dp[i][j - 1], dp[i - 1][j - 1] + 1)\n",
    "            else:\n",
    "                dp[i][j] = max(dp[i - 1][j], dp[i][j - 1])\n",
    "    return dp[-1][-1]\n",
    "\n",
    "max_length = 0\n",
    "for c in candidates:\n",
    "    max_length = max(max_length, get_length(c[0], c[1]))\n",
    "    \n",
    "print(max_length)"
   ]
  },
  {
   "cell_type": "code",
   "execution_count": 40,
   "metadata": {},
   "outputs": [
    {
     "name": "stdout",
     "output_type": "stream",
     "text": [
      "agagtctc\n",
      "8\n"
     ]
    }
   ],
   "source": [
    "# 틀렸음\n",
    "s = input()\n",
    "n = len(s)\n",
    "\n",
    "dp = [[0] * (n + 1) for _ in range(n + 1)]\n",
    "for i in range(1, n + 1):\n",
    "    for j in range(i, n + 1):\n",
    "        if s[i - 1] == 'a' and s[j - 1] == 't' or s[i - 1] == 'g' and s[j - 1] == 'c':\n",
    "            dp[i][j] = max(dp[i - 1][j], dp[i][j - 1], dp[i - 1][j - 1] + 1)\n",
    "        else:\n",
    "            dp[i][j] = max(dp[i - 1][j], dp[i][j - 1])\n",
    "                \n",
    "print(dp[-1][-1] * 2)"
   ]
  },
  {
   "cell_type": "code",
   "execution_count": 59,
   "metadata": {},
   "outputs": [
    {
     "name": "stdout",
     "output_type": "stream",
     "text": [
      "acattgagtc\n",
      "8\n"
     ]
    }
   ],
   "source": [
    "# 맞았음\n",
    "s = input()\n",
    "n = len(s)\n",
    "\n",
    "dp = [[0] * n for _ in range(n)]\n",
    "for term in range(1, n):\n",
    "    for start in range(n - term):\n",
    "        if term == 1:\n",
    "            if s[start] == 'a' and s[start + term] == 't' or s[start] == 'g' and s[start + term] == 'c':\n",
    "                dp[start][start + term] = 1\n",
    "        else:\n",
    "            for mid in range(start + 1, start + term):\n",
    "                dp[start][start + term] = max(dp[start][start + term], dp[start][mid] + dp[mid][start + term])\n",
    "            if s[start] == 'a' and s[start + term] == 't' or s[start] == 'g' and s[start + term] == 'c':\n",
    "                dp[start][start + term] = max(dp[start][start + term], dp[start + 1][start + term - 1] + 1)\n",
    "            else:\n",
    "                dp[start][start + term] = max(dp[start][start + term], dp[start + 1][start + term - 1])\n",
    "print(dp[0][-1] * 2)"
   ]
  },
  {
   "cell_type": "markdown",
   "metadata": {},
   "source": [
    "### 욕심쟁이 판다"
   ]
  },
  {
   "cell_type": "code",
   "execution_count": 67,
   "metadata": {},
   "outputs": [
    {
     "name": "stdout",
     "output_type": "stream",
     "text": [
      "2\n",
      "1 2\n",
      "4 3\n",
      "4\n"
     ]
    }
   ],
   "source": [
    "n = int(input())\n",
    "li = [list(map(int, input().split())) for _ in range(n)]\n",
    "\n",
    "new_li = []\n",
    "for i in range(n):\n",
    "    for j in range(n):\n",
    "        new_li.append([li[i][j], i, j])\n",
    "        \n",
    "new_li.sort()\n",
    "\n",
    "dx = [0, 0, -1, 1]\n",
    "dy = [-1, 1, 0, 0]\n",
    "\n",
    "dp = [[0] * n for _ in range(n)]\n",
    "for value, x, y in new_li:\n",
    "    max_value = 0\n",
    "    for i in range(4):\n",
    "        nx = x + dx[i]\n",
    "        ny = y + dy[i]\n",
    "        if nx < 0 or nx >= n or ny < 0 or ny >= n:\n",
    "            continue\n",
    "        if li[nx][ny] < value:\n",
    "            max_value = max(max_value, dp[nx][ny])\n",
    "    dp[x][y] = max_value + 1\n",
    "    \n",
    "print(max(sum(dp, [])))"
   ]
  },
  {
   "cell_type": "markdown",
   "metadata": {},
   "source": [
    "### 커플 만들기 1727"
   ]
  },
  {
   "cell_type": "code",
   "execution_count": 107,
   "metadata": {},
   "outputs": [
    {
     "name": "stdout",
     "output_type": "stream",
     "text": [
      "3 8\n",
      "1 4 9\n",
      "2 3 5 6 7 11 14 16\n",
      "4\n"
     ]
    }
   ],
   "source": [
    "n, m = map(int, input().split())\n",
    "li1 = list(map(int, input().split()))\n",
    "li2 = list(map(int, input().split()))\n",
    "\n",
    "if n > m:\n",
    "    n, m = m, n\n",
    "    li1, li2 = li2, li1\n",
    "    \n",
    "li1.sort()\n",
    "li2.sort()\n",
    "    \n",
    "dp = [[float('inf')] * m for _ in range(n)]\n",
    "for i in range(n):\n",
    "    for j in range(i, m - n + 1 + i):\n",
    "        if i == 0:\n",
    "            dp[i][j] = abs(li1[i] - li2[j])\n",
    "        else:\n",
    "            for k in range(i - 1, j):\n",
    "                dp[i][j] = min(dp[i][j], dp[i - 1][k])\n",
    "            dp[i][j] += abs(li1[i] - li2[j])\n",
    "                \n",
    "print(min(dp[-1]))"
   ]
  },
  {
   "cell_type": "code",
   "execution_count": 108,
   "metadata": {},
   "outputs": [
    {
     "name": "stdout",
     "output_type": "stream",
     "text": [
      "[1, 2, 4, 5, 6, 10, inf, inf]\n",
      "[inf, 2, 2, 3, 4, 8, 11, inf]\n",
      "[inf, inf, 6, 5, 4, 4, 7, 9]\n"
     ]
    }
   ],
   "source": [
    "for v in dp:\n",
    "    print(v)"
   ]
  },
  {
   "cell_type": "code",
   "execution_count": 109,
   "metadata": {},
   "outputs": [
    {
     "name": "stdout",
     "output_type": "stream",
     "text": [
      "3 8\n",
      "1 4 9\n",
      "2 3 5 6 7 11 14 16\n",
      "4\n"
     ]
    }
   ],
   "source": [
    "# 다른 사람 코드 변형 (https://www.acmicpc.net/source/24761629)\n",
    "import collections\n",
    "\n",
    "n, m = map(int, input().split())\n",
    "man = [0] + list(map(int, input().split()))\n",
    "woman = [0] + list(map(int, input().split()))\n",
    "dp = [[0] * (m + 1) for _ in range(n + 1)]\n",
    "man.sort()\n",
    "woman.sort()\n",
    "for i in range(1, n + 1):\n",
    "    for j in range(1, m + 1):\n",
    "        dp[i][j] = dp[i - 1][j - 1] + abs(man[i] - woman[j])\n",
    "        if i > j:\n",
    "            dp[i][j] = min(dp[i][j], dp[i - 1][j])\n",
    "        if j > i:\n",
    "            dp[i][j] = min(dp[i][j], dp[i][j - 1])\n",
    "print(dp[n][m])"
   ]
  },
  {
   "cell_type": "code",
   "execution_count": 110,
   "metadata": {},
   "outputs": [
    {
     "name": "stdout",
     "output_type": "stream",
     "text": [
      "[0, 0, 0, 0, 0, 0, 0, 0, 0]\n",
      "[0, 1, 1, 1, 1, 1, 1, 1, 1]\n",
      "[0, 1, 2, 2, 2, 2, 2, 2, 2]\n",
      "[0, 1, 2, 6, 5, 4, 4, 4, 4]\n"
     ]
    }
   ],
   "source": [
    "for v in dp:\n",
    "    print(v)"
   ]
  },
  {
   "cell_type": "markdown",
   "metadata": {},
   "source": [
    "### 팰린드롬 5502"
   ]
  },
  {
   "cell_type": "code",
   "execution_count": 117,
   "metadata": {},
   "outputs": [
    {
     "name": "stdout",
     "output_type": "stream",
     "text": [
      "4\n",
      "abca\n",
      "1\n",
      "3\n"
     ]
    }
   ],
   "source": [
    "# 틀렸음\n",
    "n = int(input())\n",
    "s = input()\n",
    "\n",
    "dp = [[False] * n for _ in range(n)] # dp[s][e]: s부터 e까지가 팰린드롬인지의 여부\n",
    "for i in range(n):\n",
    "    dp[i][i] = True\n",
    "    \n",
    "longest_length = 1\n",
    "for term in range(1, n):\n",
    "    for start in range(n - term):\n",
    "        if term == 1:\n",
    "            if s[start] == s[start + term]:\n",
    "                dp[start][start + term] = True\n",
    "                longest_length = term + 1\n",
    "        else:\n",
    "            if s[start] == s[start + term] and dp[start + 1][start + term - 1]:\n",
    "                dp[start][start + term] = True\n",
    "                longest_length = term + 1\n",
    "                \n",
    "print(longest_length)\n",
    "print(n - longest_length)"
   ]
  },
  {
   "cell_type": "code",
   "execution_count": null,
   "metadata": {},
   "outputs": [],
   "source": [
    "adeafg\n",
    "\n",
    "adedafg\n",
    "fadedafg\n",
    "gfadedafg"
   ]
  },
  {
   "cell_type": "code",
   "execution_count": 243,
   "metadata": {},
   "outputs": [
    {
     "name": "stdout",
     "output_type": "stream",
     "text": [
      "rrrabcdbarrr\n",
      "deque(['c', 'd']) 0 0\n",
      "1\n"
     ]
    }
   ],
   "source": [
    "# 틀렸음\n",
    "from collections import deque\n",
    "\n",
    "s = input()\n",
    "\n",
    "deq = deque(s)\n",
    "count = 0\n",
    "while len(deq) >= 2:\n",
    "    if deq[0] == deq[-1]:\n",
    "        deq.popleft()\n",
    "        deq.pop()\n",
    "    else:\n",
    "        count += 1\n",
    "        left_count = 0\n",
    "        for i in range(len(deq) - 1, -1, -1):\n",
    "            if deq[i] == deq[-1]:\n",
    "                break\n",
    "            left_count += 1\n",
    "        right_count = 0\n",
    "        for i in range(len(deq)):\n",
    "            if deq[i] == deq[0]:\n",
    "                break\n",
    "            right_count += 1\n",
    "            \n",
    "        print(deq, left_count, right_count)\n",
    "        if left_count <= right_count:\n",
    "            deq.popleft()\n",
    "        else:\n",
    "            deq.pop()\n",
    "            \n",
    "print(count)"
   ]
  },
  {
   "cell_type": "code",
   "execution_count": 244,
   "metadata": {},
   "outputs": [
    {
     "name": "stdout",
     "output_type": "stream",
     "text": [
      "rrrabcdbarrr\n",
      "1\n"
     ]
    }
   ],
   "source": [
    "# 반례 탐색용\n",
    "from collections import deque\n",
    "\n",
    "s = input()\n",
    "\n",
    "queue = deque()\n",
    "queue.append((s, 0))\n",
    "while queue:\n",
    "    value, count = queue.popleft()\n",
    "    while len(value) >= 2:\n",
    "        if value[0] == value[-1]:\n",
    "            value = value[1:-1]\n",
    "        else:\n",
    "            break\n",
    "    \n",
    "    if len(value) <= 1:\n",
    "        print(count)\n",
    "        break\n",
    "    queue.append((value[1:], count + 1))\n",
    "    queue.append((value[:-1], count + 1))"
   ]
  },
  {
   "cell_type": "code",
   "execution_count": null,
   "metadata": {},
   "outputs": [],
   "source": [
    "rrrrrrraaaabcbaggggg: 반례"
   ]
  },
  {
   "cell_type": "code",
   "execution_count": null,
   "metadata": {},
   "outputs": [],
   "source": [
    "rrrrrrraaaabcbagggg: 반례"
   ]
  },
  {
   "cell_type": "code",
   "execution_count": null,
   "metadata": {},
   "outputs": [],
   "source": [
    "rrrrrraaabba: 반례"
   ]
  },
  {
   "cell_type": "code",
   "execution_count": 174,
   "metadata": {},
   "outputs": [
    {
     "data": {
      "text/plain": [
       "1073741824"
      ]
     },
     "execution_count": 174,
     "metadata": {},
     "output_type": "execute_result"
    }
   ],
   "source": [
    "rrrrraaaba: 반례"
   ]
  },
  {
   "cell_type": "markdown",
   "metadata": {},
   "source": [
    "### 팰린드롬 개수 구하기 (Small)"
   ]
  },
  {
   "cell_type": "code",
   "execution_count": 127,
   "metadata": {},
   "outputs": [
    {
     "name": "stdout",
     "output_type": "stream",
     "text": [
      "abb\n",
      "4\n"
     ]
    }
   ],
   "source": [
    "# 틀렸음\n",
    "s = input()\n",
    "n = len(s)\n",
    "\n",
    "dp = [[0] * n for _ in range(n)] # dp[s][e]: s부터 e까지가 팰린드롬인지의 여부\n",
    "for i in range(n):\n",
    "    dp[i][i] = 1\n",
    "\n",
    "for term in range(1, n):\n",
    "    for start in range(n - term):\n",
    "        if term == 1:\n",
    "            if s[start] == s[start + term]:\n",
    "                dp[start][start + term] = 1\n",
    "        else:\n",
    "            if s[start] == s[start + term] and dp[start + 1][start + term - 1]:\n",
    "                dp[start][start + term] = 1\n",
    "                \n",
    "print(sum(sum(dp, [])))"
   ]
  },
  {
   "cell_type": "markdown",
   "metadata": {},
   "source": [
    "### 트리와 쿼리 15681\n",
    "- 트리, 깊이 우선 탐색, 트리에서의 다이나믹 프로그래밍"
   ]
  },
  {
   "cell_type": "code",
   "execution_count": null,
   "metadata": {},
   "outputs": [],
   "source": [
    "from collections import deque\n",
    "import sys\n",
    "sys.setrecursionlimit(300000)\n",
    "input = sys.stdin.readline\n",
    "\n",
    "class Node:\n",
    "    def __init__(self):\n",
    "        self.sub_count = 0\n",
    "        self.children = []\n",
    "\n",
    "n, root, q = map(int, input().rstrip().split())\n",
    "root -= 1\n",
    "li = [[] for _ in range(n)]\n",
    "for _ in range(n - 1):\n",
    "    a, b = map(int, input().rstrip().split())\n",
    "    a -= 1\n",
    "    b -= 1\n",
    "    li[a].append(b)\n",
    "    li[b].append(a)\n",
    "    \n",
    "tree = {i: Node() for i in range(n)}\n",
    "    \n",
    "queue = deque()\n",
    "queue.append(root)\n",
    "\n",
    "visited = [False] * n\n",
    "visited[root] = True\n",
    "while queue:\n",
    "    value = queue.popleft()\n",
    "    \n",
    "    for v in li[value]:\n",
    "        if visited[v]:\n",
    "            continue\n",
    "        visited[v] = True\n",
    "        tree[value].children.append(v)\n",
    "        queue.append(v)\n",
    "    \n",
    "def get_sub_count(num):\n",
    "    node = tree[num]\n",
    "    if not node.children:\n",
    "        node.sub_count = 1\n",
    "        return node.sub_count\n",
    "    total = 1\n",
    "    for c in node.children:\n",
    "        total += get_sub_count(c)\n",
    "    node.sub_count = total\n",
    "    return node.sub_count\n",
    "\n",
    "get_sub_count(root)\n",
    "\n",
    "for _ in range(q):\n",
    "    num = int(input().rstrip())\n",
    "    num -= 1\n",
    "    print(tree[num].sub_count)"
   ]
  },
  {
   "cell_type": "markdown",
   "metadata": {},
   "source": [
    "### 인하니카 공화국 12784"
   ]
  },
  {
   "cell_type": "code",
   "execution_count": null,
   "metadata": {},
   "outputs": [],
   "source": [
    "import sys\n",
    "from collections import deque\n",
    "input = sys.stdin.readline\n",
    "sys.setrecursionlimit(500001)\n",
    "\n",
    "class Node():\n",
    "    def __init__(self):\n",
    "        self.value = None\n",
    "        self.children = []\n",
    "        \n",
    "def get_min_result(num):\n",
    "        node = tree[num]\n",
    "\n",
    "        if node.value is None:\n",
    "            if not node.children:\n",
    "                return 0\n",
    "            else:\n",
    "                total = 0\n",
    "                for c in node.children:\n",
    "                    total += get_min_result(c)\n",
    "                return total\n",
    "        else:\n",
    "            if not node.children:\n",
    "                return node.value\n",
    "            else:\n",
    "                total = 0\n",
    "                for c in node.children:\n",
    "                    total += get_min_result(c)\n",
    "                return min(node.value, total)\n",
    "\n",
    "for _ in range(int(input())):\n",
    "    n, m = map(int, input().rstrip().split())\n",
    "    li = [[] for _ in range(n)]\n",
    "    for _ in range(m):\n",
    "        a, b, c = map(int, input().rstrip().split())\n",
    "        a -= 1\n",
    "        b -= 1\n",
    "\n",
    "        li[a].append((b, c))\n",
    "        li[b].append((a, c))\n",
    "        \n",
    "    tree = {i: Node() for i in range(n)}\n",
    "    queue = deque()\n",
    "    queue.append(0)\n",
    "    visited = [False] * n\n",
    "    visited[0] = True\n",
    "    while queue:\n",
    "        value = queue.popleft()\n",
    "\n",
    "        for v, c in li[value]:\n",
    "            if visited[v]:\n",
    "                continue    \n",
    "            visited[v] = True\n",
    "            queue.append(v)\n",
    "            tree[v].value = c\n",
    "            tree[value].children.append(v)\n",
    "\n",
    "    del visited\n",
    "    del li\n",
    "\n",
    "    print(get_min_result(0))"
   ]
  },
  {
   "cell_type": "markdown",
   "metadata": {},
   "source": [
    "### 사회망 서비스(SNS)"
   ]
  },
  {
   "cell_type": "code",
   "execution_count": 6,
   "metadata": {},
   "outputs": [
    {
     "name": "stdout",
     "output_type": "stream",
     "text": [
      "2\n",
      "1 2\n",
      "1\n"
     ]
    }
   ],
   "source": [
    "# 맞았음\n",
    "import sys\n",
    "from collections import deque\n",
    "sys.setrecursionlimit(500000)\n",
    "# input = sys.stdin.readline\n",
    "\n",
    "class Node():\n",
    "    def __init__(self):\n",
    "        self.children = []\n",
    "        \n",
    "n = int(input())\n",
    "tree = [Node() for i in range(n)]\n",
    "root = 0\n",
    "\n",
    "li = [[] for _ in range(n)]\n",
    "for _ in range(n - 1):\n",
    "    a, b = map(int, input().split())\n",
    "    a -= 1\n",
    "    b -= 1\n",
    "    li[a].append(b)\n",
    "    li[b].append(a)\n",
    "\n",
    "queue = deque()\n",
    "queue.append(root)\n",
    "\n",
    "visited = [False] * n\n",
    "visited[root] = True\n",
    "while queue:\n",
    "    value = queue.popleft()\n",
    "    \n",
    "    for v in li[value]:\n",
    "        if visited[v]:\n",
    "            continue\n",
    "        visited[v] = True\n",
    "        queue.append(v)\n",
    "        tree[value].children.append(v)\n",
    "        tree[v].parent = value\n",
    "        \n",
    "del visited\n",
    "del li\n",
    "        \n",
    "def calcul_dp(num):\n",
    "    node = tree[num]\n",
    "    if not node.children:\n",
    "        return [1, 0] # early adapter, not\n",
    "    else:\n",
    "        ne, nn = 0, 0 # early adapter, not\n",
    "        for c in node.children:\n",
    "            e, n = calcul_dp(c)\n",
    "            ne += min(e, n)\n",
    "            nn += e         \n",
    "        return (ne + 1, nn)\n",
    "    \n",
    "print(min(calcul_dp(0)))"
   ]
  },
  {
   "cell_type": "code",
   "execution_count": 11,
   "metadata": {},
   "outputs": [
    {
     "name": "stdout",
     "output_type": "stream",
     "text": [
      "8\n",
      "1 2\n",
      "1 3\n",
      "1 4\n",
      "2 5\n",
      "2 6\n",
      "4 7\n",
      "4 8\n",
      "3\n"
     ]
    }
   ],
   "source": [
    "# 맞았음, 간단하게 만듦, 시간 개선\n",
    "import sys\n",
    "sys.setrecursionlimit(1100000)\n",
    "# input = sys.stdin.readline\n",
    "        \n",
    "n = int(input())\n",
    "tree = [[] for i in range(n)]\n",
    "root = 0\n",
    "\n",
    "for _ in range(n - 1):\n",
    "    a, b = map(int, input().split())\n",
    "    a -= 1\n",
    "    b -= 1\n",
    "    tree[a].append(b)\n",
    "    tree[b].append(a)\n",
    "\n",
    "visited = [False] * n\n",
    "visited[root] = True\n",
    "        \n",
    "def calcul_dp(num):\n",
    "    new_e, new_n = 0, 0 # early adapter, not\n",
    "    for c in tree[num]:\n",
    "        if visited[c]:\n",
    "            continue\n",
    "        visited[c] = True\n",
    "\n",
    "        e, n = calcul_dp(c)\n",
    "        new_e += min(e, n)\n",
    "        new_n += e         \n",
    "    return (new_e + 1, new_n)\n",
    "    \n",
    "print(min(calcul_dp(0)))"
   ]
  },
  {
   "cell_type": "markdown",
   "metadata": {},
   "source": [
    "### 우수 마을 1949\n",
    "- 다이나믹 프로그래밍, 트리, 트리에서의 다이나믹 프로그래밍"
   ]
  },
  {
   "cell_type": "code",
   "execution_count": 30,
   "metadata": {},
   "outputs": [
    {
     "name": "stdout",
     "output_type": "stream",
     "text": [
      "5 inf\n",
      "2 inf\n",
      "1 -10000\n",
      "4 inf\n",
      "3 -10000\n",
      "0 -10000\n",
      "30000\n"
     ]
    }
   ],
   "source": [
    "# 틀렸음\n",
    "import sys\n",
    "sys.setrecursionlimit(100000)\n",
    "# input = sys.stdin.readline\n",
    "\n",
    "# n = int(input().rstrip())\n",
    "# populations = list(map(int, input().rstrip().split()))\n",
    "\n",
    "# root = 0\n",
    "# tree = [[] for _ in range(n)]\n",
    "# for _ in range(n - 1):\n",
    "#     a, b = map(int, input().rstrip().split())\n",
    "#     a -= 1\n",
    "#     b -= 1\n",
    "#     tree[a].append(b)\n",
    "#     tree[b].append(a)\n",
    "    \n",
    "visited = [False] * n\n",
    "visited[root] = True\n",
    "\n",
    "dp = [[0, 0] for _ in range(n)] # good, bad\n",
    "\n",
    "def update_dp_value(num):\n",
    "    good, bad = populations[num], 0\n",
    "    min_diff = float('inf')\n",
    "    for c in tree[num]:\n",
    "        if visited[c]:\n",
    "            continue\n",
    "        visited[c] = True\n",
    "        update_dp_value(c)\n",
    "        \n",
    "        # good 경우 계산\n",
    "        good += dp[c][1]\n",
    "        \n",
    "        # bad 경우 계산\n",
    "        bad += max(dp[c])\n",
    "        min_diff = min(min_diff, dp[c][1] - dp[c][0])\n",
    "        \n",
    "    print(num, min_diff)\n",
    "    # 자식 노드가 있으면서 max에서 모두 bad가 선택된 경우\n",
    "    if 0 < min_diff < float('inf'):\n",
    "        bad -= min_diff\n",
    "        \n",
    "    dp[num][0], dp[num][1] = good, bad\n",
    "    \n",
    "update_dp_value(root)\n",
    "print(max(dp[root]))"
   ]
  },
  {
   "cell_type": "code",
   "execution_count": null,
   "metadata": {},
   "outputs": [],
   "source": [
    "해당 노드가 우수마을이라면 자식 노드들이 우수 마을이 아닌 경우들만 고려함\n",
    "해당 노드가 우수마을이 아니라면 자식 노드들이 모두 우수마을이 아닌 경우만 빼고 고려함"
   ]
  },
  {
   "cell_type": "code",
   "execution_count": 3,
   "metadata": {},
   "outputs": [
    {
     "name": "stdout",
     "output_type": "stream",
     "text": [
      "6\n",
      "1000 10 100 100 1000 1000\n",
      "1 2\n",
      "2 3\n",
      "2 4\n",
      "3 5\n",
      "4 6\n",
      "3000\n"
     ]
    }
   ],
   "source": [
    "# 맞았음\n",
    "import sys\n",
    "sys.setrecursionlimit(300000)\n",
    "# input = sys.stdin.readline\n",
    "\n",
    "n = int(input().rstrip())\n",
    "populations = list(map(int, input().rstrip().split()))\n",
    "\n",
    "root = 0\n",
    "tree = [[] for _ in range(n)]\n",
    "for _ in range(n - 1):\n",
    "    a, b = map(int, input().rstrip().split())\n",
    "    a -= 1\n",
    "    b -= 1\n",
    "    tree[a].append(b)\n",
    "    tree[b].append(a)\n",
    "    \n",
    "visited = [False] * n\n",
    "visited[root] = True\n",
    "\n",
    "dp = [[0, 0, 0] for _ in range(n)] # good, good하고 인접한 bad, good하고 인접한 적 없는 bad\n",
    "\n",
    "def update_dp_value(num):\n",
    "    good_adj_bad, good_or_only_bad = 0, 0\n",
    "    min_diff = float('inf')\n",
    "    for c in tree[num]:\n",
    "        if visited[c]:\n",
    "            continue\n",
    "        visited[c] = True\n",
    "        update_dp_value(c)\n",
    "        \n",
    "        # good 또는 only_bad 경우 계산\n",
    "        good_or_only_bad += max(dp[c][1], dp[c][2])\n",
    "        \n",
    "        # good_adj_bad 경우 계산을 위한 min_diff 계산\n",
    "        good_adj_bad += max(dp[c])\n",
    "        min_diff = min(min_diff, dp[c][1] - dp[c][0])\n",
    "        \n",
    "    # good_adj_bad 계산 중 자식 노드가 있으면서 max에서 모두 bad가 선택된 경우\n",
    "    if 0 < min_diff < float('inf'):\n",
    "        good_adj_bad -= min_diff\n",
    "        \n",
    "    dp[num]= [good_or_only_bad + populations[num], good_adj_bad, good_or_only_bad]\n",
    "    \n",
    "update_dp_value(root)\n",
    "print(max(dp[root]))"
   ]
  },
  {
   "cell_type": "code",
   "execution_count": null,
   "metadata": {},
   "outputs": [],
   "source": [
    "해당 노드가 우수마을이라면 자식 노드들이 우수 마을이 아닌 경우들만 고려함\n",
    "해당 노드가 우수마을이 아니라면 자식 노드들의 모든 경우의 최댓값을 더함"
   ]
  },
  {
   "cell_type": "code",
   "execution_count": 4,
   "metadata": {},
   "outputs": [
    {
     "name": "stdout",
     "output_type": "stream",
     "text": [
      "6\n",
      "1000 10 100 100 1000 1000\n",
      "1 2\n",
      "2 3\n",
      "2 4\n",
      "3 5\n",
      "4 6\n",
      "3000\n"
     ]
    }
   ],
   "source": [
    "# 맞았음\n",
    "import sys\n",
    "sys.setrecursionlimit(300000)\n",
    "# input = sys.stdin.readline\n",
    "\n",
    "n = int(input().rstrip())\n",
    "populations = list(map(int, input().rstrip().split()))\n",
    "\n",
    "root = 0\n",
    "tree = [[] for _ in range(n)]\n",
    "for _ in range(n - 1):\n",
    "    a, b = map(int, input().rstrip().split())\n",
    "    a -= 1\n",
    "    b -= 1\n",
    "    tree[a].append(b)\n",
    "    tree[b].append(a)\n",
    "    \n",
    "visited = [False] * n\n",
    "visited[root] = True\n",
    "\n",
    "dp = [[0, 0] for _ in range(n)] # good, bad\n",
    "\n",
    "def update_dp_value(num):\n",
    "    good, bad = populations[num], 0\n",
    "    for c in tree[num]:\n",
    "        if visited[c]:\n",
    "            continue\n",
    "        visited[c] = True\n",
    "        update_dp_value(c)\n",
    "        \n",
    "        good += dp[c][1]\n",
    "        bad += max(dp[c])\n",
    "        \n",
    "    dp[num]= [good, bad]\n",
    "    \n",
    "update_dp_value(root)\n",
    "print(max(dp[root]))"
   ]
  },
  {
   "cell_type": "markdown",
   "metadata": {},
   "source": [
    "### 뉴스 전하기 1135\n",
    "- 다이나믹 프로그래밍, 그리디, 트리, 트리에서의 다이나믹 프로그래밍"
   ]
  },
  {
   "cell_type": "code",
   "execution_count": 26,
   "metadata": {},
   "outputs": [
    {
     "name": "stdout",
     "output_type": "stream",
     "text": [
      "3\n",
      "-1 0 0\n",
      "2\n"
     ]
    }
   ],
   "source": [
    "# 맞았음\n",
    "n = int(input())\n",
    "li = list(map(int, input().split()))\n",
    "children = [[] for _ in range(n)]\n",
    "for i in range(1, n):\n",
    "    children[li[i]].append(i)\n",
    "    \n",
    "root = 0\n",
    "dp = [0] * n\n",
    "\n",
    "def update_dp(num):\n",
    "    temp = []\n",
    "    for c in children[num]:\n",
    "        update_dp(c)\n",
    "        temp.append(dp[c])\n",
    "    temp.sort(reverse=True)\n",
    "    max_time_spent = 0\n",
    "    for t, value in enumerate(temp, 1):\n",
    "        max_time_spent = max(max_time_spent, t + value)\n",
    "        \n",
    "    dp[num] = max_time_spent\n",
    "    \n",
    "update_dp(root)\n",
    "print(dp[0])"
   ]
  },
  {
   "cell_type": "markdown",
   "metadata": {},
   "source": [
    "### 신년 파티 1623"
   ]
  },
  {
   "cell_type": "code",
   "execution_count": 36,
   "metadata": {},
   "outputs": [
    {
     "name": "stdout",
     "output_type": "stream",
     "text": [
      "6\n",
      "-10 5 20 15 -5 10\n",
      "1 1 2 2 1\n",
      "5 45\n",
      "1 4 -1\n",
      "3 4 6 -1\n"
     ]
    }
   ],
   "source": [
    "import sys\n",
    "# input = sys.stdin.readline\n",
    "sys.setrecursionlimit(200001)\n",
    "\n",
    "n = int(input().rstrip())\n",
    "scores = list(map(int, input().rstrip().split()))\n",
    "li = list(map(lambda x: int(x) - 1, input().rstrip().split()))\n",
    "childrens = [[] for _ in range(n)]\n",
    "for i, v in enumerate(li, 1):\n",
    "    childrens[v].append(i)\n",
    "del li\n",
    "\n",
    "dp = [[0, 0] for _ in range(n)] # part, nonpart\n",
    "part_selected = [set() for _ in range(n)]\n",
    "nonpart_selected = [set() for _ in range(n)]\n",
    "\n",
    "def update_dp(num):\n",
    "    part, nonpart = scores[num], 0\n",
    "    for c in childrens[num]:\n",
    "        update_dp(c)\n",
    "        part += dp[c][1]\n",
    "        part_selected[num].add(c)\n",
    "        \n",
    "        if dp[c][0] > dp[c][1]:\n",
    "            nonpart += dp[c][0]\n",
    "            part_selected[num]\n",
    "        else:\n",
    "            nonpart += dp[c][1]\n",
    "    dp[num] = [part, nonpart]\n",
    "\n",
    "update_dp(0)\n",
    "print(dp[0][0], dp[0][2])\n",
    "print(*sorted(dp[0][1]), end=' ')\n",
    "print(-1)\n",
    "print(*sorted(dp[0][3]), end=' ')\n",
    "print(-1)"
   ]
  },
  {
   "cell_type": "markdown",
   "metadata": {},
   "source": [
    "### 대기업 승범이네 17831\n",
    "- 다이나믹 프로그래밍, 트리, 트리에서의 다이나믹 프로그래밍"
   ]
  },
  {
   "cell_type": "code",
   "execution_count": 63,
   "metadata": {},
   "outputs": [
    {
     "name": "stdout",
     "output_type": "stream",
     "text": [
      "7\n",
      "1 1 1 2 3 4\n",
      "10 10 10 6 9 10 6\n",
      "250\n"
     ]
    }
   ],
   "source": [
    "# 틀렸음\n",
    "import sys\n",
    "sys.setrecursionlimit(300001)\n",
    "# input = sys.stdin.readline\n",
    "\n",
    "n = int(input().rstrip())\n",
    "li = list(map(lambda x: int(x) - 1, input().rstrip().split()))\n",
    "childrens = [[] for _ in range(n)]\n",
    "for i, v in enumerate(li, 1):\n",
    "    childrens[v].append(i)\n",
    "scores = list(map(int, input().rstrip().split()))\n",
    "\n",
    "dp = [[0, 0] for i in range(n)] # 해당 노드 미포함시 누적 점수, 해당 노드 포함시 누적 점수\n",
    "\n",
    "def update_dp(value):\n",
    "    if not childrens[value]:\n",
    "         return\n",
    "    \n",
    "    max_not_included_score = 0\n",
    "    max_included_score = 0\n",
    "    max_diff = -float('inf')\n",
    "    max_diff_node = 0\n",
    "    for v in childrens[value]:\n",
    "        update_dp(v)\n",
    "        max_not_included_score += max(dp[v])\n",
    "        \n",
    "        diff = scores[value] * scores[v] + dp[v][0] - dp[v][1]\n",
    "        if max_diff < diff:\n",
    "            max_diff = diff\n",
    "            max_diff_node = v\n",
    "            \n",
    "    dp[value][0] = max_not_included_score\n",
    "    dp[value][1] = max_not_included_score - max(dp[max_diff_node]) + dp[max_diff_node][0] + scores[value] * scores[max_diff_node]\n",
    "    \n",
    "update_dp(0)\n",
    "print(max(dp[0]))"
   ]
  },
  {
   "cell_type": "code",
   "execution_count": 67,
   "metadata": {},
   "outputs": [
    {
     "name": "stdout",
     "output_type": "stream",
     "text": [
      "7\n",
      "1 1 1 2 3 4\n",
      "10 10 10 6 9 10 6\n",
      "250\n"
     ]
    }
   ],
   "source": [
    "# 맞았음\n",
    "import sys\n",
    "sys.setrecursionlimit(300001)\n",
    "# input = sys.stdin.readline\n",
    "\n",
    "n = int(input().rstrip())\n",
    "li = list(map(lambda x: int(x) - 1, input().rstrip().split()))\n",
    "childrens = [[] for _ in range(n)]\n",
    "for i, v in enumerate(li, 1):\n",
    "    childrens[v].append(i)\n",
    "scores = list(map(int, input().rstrip().split()))\n",
    "\n",
    "dp = [[0, 0] for i in range(n)] # 해당 노드 미포함시 누적 점수, 해당 노드 포함시 누적 점수\n",
    "\n",
    "def update_dp(value):\n",
    "    if not childrens[value]:\n",
    "         return\n",
    "    \n",
    "    max_not_included_score = 0\n",
    "    max_included_score = 0\n",
    "    max_diff = -float('inf')\n",
    "    max_diff_node = 0\n",
    "    for v in childrens[value]:\n",
    "        update_dp(v)\n",
    "        max_not_included_score += max(dp[v])\n",
    "        \n",
    "        diff = scores[value] * scores[v] + dp[v][0] - max(dp[v])\n",
    "        if max_diff < diff:\n",
    "            max_diff = diff\n",
    "            max_diff_node = v\n",
    "            \n",
    "    dp[value][0] = max_not_included_score\n",
    "    dp[value][1] = max_not_included_score - max(dp[max_diff_node]) + dp[max_diff_node][0] + scores[value] * scores[max_diff_node]\n",
    "    \n",
    "update_dp(0)\n",
    "print(max(dp[0]))"
   ]
  },
  {
   "cell_type": "code",
   "execution_count": null,
   "metadata": {},
   "outputs": [],
   "source": [
    "7\n",
    "1 1 1 2 3 4\n",
    "10 10 10 6 9 10 6\n",
    "250"
   ]
  },
  {
   "cell_type": "code",
   "execution_count": 64,
   "metadata": {},
   "outputs": [
    {
     "name": "stdout",
     "output_type": "stream",
     "text": [
      "1 [226, 250]\n",
      "2 [0, 90]\n",
      "3 [0, 100]\n",
      "4 [0, 36]\n",
      "5 [0, 0]\n",
      "6 [0, 0]\n",
      "7 [0, 0]\n"
     ]
    }
   ],
   "source": [
    "for i, v in enumerate(dp, 1):\n",
    "    print(i, v)"
   ]
  },
  {
   "cell_type": "markdown",
   "metadata": {},
   "source": [
    "### 스크루지 민호2 12978\n",
    "- 다이나믹 프로그래밍, 트리, 트리에서의 다이나믹 프로그래밍"
   ]
  },
  {
   "cell_type": "code",
   "execution_count": 7,
   "metadata": {},
   "outputs": [
    {
     "name": "stdout",
     "output_type": "stream",
     "text": [
      "5\n",
      "4 5\n",
      "4 2\n",
      "2 3\n",
      "1 2\n",
      "2\n"
     ]
    }
   ],
   "source": [
    "import sys\n",
    "sys.setrecursionlimit(300000)\n",
    "# input = sys.stdin.readline\n",
    "\n",
    "n = int(input().rstrip())\n",
    "tree = [[] for _ in range(n)]\n",
    "for _ in range(n - 1):\n",
    "    a, b = map(int, input().rstrip().split())\n",
    "    a -= 1\n",
    "    b -= 1\n",
    "    \n",
    "    tree[a].append(b)\n",
    "    tree[b].append(a)\n",
    "\n",
    "visited = [False] * n\n",
    "visited[0] = True\n",
    "dp = [[0, 0] for _ in range(n)] # [설치, 미설치]\n",
    "\n",
    "def update_dp(value):\n",
    "    police, non_police = 1, 0\n",
    "    for v in tree[value]:\n",
    "        if visited[v]:\n",
    "            continue\n",
    "        visited[v] = True\n",
    "        update_dp(v)\n",
    "        \n",
    "        police += min(dp[v])\n",
    "        non_police += dp[v][0]\n",
    "        \n",
    "    dp[value] = [police, non_police]\n",
    "\n",
    "update_dp(0)\n",
    "print(min(dp[0]))"
   ]
  },
  {
   "cell_type": "markdown",
   "metadata": {},
   "source": [
    "### Mowing the Lawn 5977\n",
    "- 자료 구조, 세그먼트 트리, 우선순위 큐, 덱, 덱을 이용한 다이나믹 프로그래밍"
   ]
  },
  {
   "cell_type": "code",
   "execution_count": null,
   "metadata": {},
   "outputs": [],
   "source": [
    "# 일단 포기\n",
    "n, k = map(int, input().split())"
   ]
  },
  {
   "cell_type": "markdown",
   "metadata": {},
   "source": [
    "### 기상캐스터 10709"
   ]
  },
  {
   "cell_type": "code",
   "execution_count": 3,
   "metadata": {},
   "outputs": [
    {
     "name": "stdout",
     "output_type": "stream",
     "text": [
      "6 8\n",
      ".c......\n",
      "........\n",
      ".ccc..c.\n",
      "....c...\n",
      "..c.cc..\n",
      "....c...\n",
      "-1 0 1 2 3 4 5 6\n",
      "-1 -1 -1 -1 -1 -1 -1 -1\n",
      "-1 0 0 0 1 2 0 1\n",
      "-1 -1 -1 -1 0 1 2 3\n",
      "-1 -1 0 1 0 0 1 2\n",
      "-1 -1 -1 -1 0 1 2 3\n"
     ]
    }
   ],
   "source": [
    "h, w = map(int, input().split())\n",
    "li = [input() for _ in range(h)]\n",
    "\n",
    "dp = [[-1] * (w + 1) for _ in range(h)]\n",
    "for i in range(h):\n",
    "    for j in range(1, w + 1):\n",
    "        if li[i][j - 1] == 'c':\n",
    "            dp[i][j] = 0\n",
    "        else:\n",
    "            if dp[i][j - 1] == -1:\n",
    "                dp[i][j] = -1\n",
    "            else:\n",
    "                dp[i][j] = dp[i][j - 1] + 1\n",
    "            \n",
    "for v in dp:\n",
    "    print(*v[1:])"
   ]
  },
  {
   "cell_type": "markdown",
   "metadata": {},
   "source": [
    "### 파스칼의 삼각형 16395"
   ]
  },
  {
   "cell_type": "code",
   "execution_count": 7,
   "metadata": {},
   "outputs": [
    {
     "name": "stdout",
     "output_type": "stream",
     "text": [
      "11 3\n",
      "45\n"
     ]
    }
   ],
   "source": [
    "n, k = map(int, input().split())\n",
    "dp = [[1], [1, 1]]\n",
    "\n",
    "for _ in range(max(0, n - 2)):\n",
    "    li = [1]\n",
    "    for i in range(len(dp[-1]) - 1):\n",
    "        li.append(dp[-1][i] + dp[-1][i + 1])\n",
    "    li.append(1)\n",
    "    dp.append(li)\n",
    "    \n",
    "print(dp[-1][k - 1])"
   ]
  },
  {
   "cell_type": "markdown",
   "metadata": {},
   "source": [
    "### 문자열 판별 16500"
   ]
  },
  {
   "cell_type": "code",
   "execution_count": 14,
   "metadata": {},
   "outputs": [
    {
     "name": "stdout",
     "output_type": "stream",
     "text": [
      "softs\n",
      "2\n",
      "sof\n",
      "ts\n",
      "1\n"
     ]
    }
   ],
   "source": [
    "# 시간 초과\n",
    "from collections import deque\n",
    "\n",
    "target = input()\n",
    "target_len = len(target)\n",
    "n = int(input())\n",
    "li = [input() for _ in range(n)]\n",
    "\n",
    "queue = deque()\n",
    "for value in li:\n",
    "    if target[:len(value)] == value:\n",
    "        queue.append((value, len(value)))\n",
    "        \n",
    "while queue:\n",
    "    value, start_index = queue.popleft()\n",
    "    \n",
    "    if start_index == target_len:\n",
    "        print(1)\n",
    "        break\n",
    "        \n",
    "    for v in li:\n",
    "        if target[start_index:start_index + len(v)] == v:\n",
    "            queue.append((value + v, start_index + len(v)))\n",
    "else:\n",
    "    print(0)"
   ]
  },
  {
   "cell_type": "code",
   "execution_count": null,
   "metadata": {},
   "outputs": [],
   "source": [
    "# 맞았음\n",
    "target = input()\n",
    "target_len = len(target)\n",
    "\n",
    "n = int(input())\n",
    "li = [input() for _ in range(n)]\n",
    "\n",
    "dp = [0] * (target_len + 1)\n",
    "dp[0] = 1\n",
    "\n",
    "for i in range(target_len):\n",
    "    if dp[i] == 1:\n",
    "        for s in li:\n",
    "            s_len = len(s)\n",
    "            if i + s_len > target_len:\n",
    "                continue\n",
    "            if target[i:i + s_len] == s:\n",
    "                dp[i + s_len] = 1\n",
    "                \n",
    "print(dp[-1])"
   ]
  },
  {
   "cell_type": "markdown",
   "metadata": {},
   "source": [
    "### 피보나치 수의 확장 1788"
   ]
  },
  {
   "cell_type": "code",
   "execution_count": 22,
   "metadata": {},
   "outputs": [
    {
     "name": "stdout",
     "output_type": "stream",
     "text": [
      "4\n",
      "1\n",
      "3\n"
     ]
    }
   ],
   "source": [
    "dp = [0] * 1000001\n",
    "dp[1] = 1\n",
    "\n",
    "for i in range(2, 1000001):\n",
    "    dp[i] = (dp[i - 2] + dp[i - 1]) % 1000000000\n",
    "    \n",
    "n = int(input())\n",
    "\n",
    "is_minus = False\n",
    "if n < 0:\n",
    "    is_minus = True\n",
    "    n = -n\n",
    "\n",
    "if is_minus and n % 2 == 0:\n",
    "    print(-1)\n",
    "elif n == 0:\n",
    "    print(0)\n",
    "else:\n",
    "    print(1)\n",
    "\n",
    "print(dp[n])"
   ]
  },
  {
   "cell_type": "code",
   "execution_count": 15,
   "metadata": {},
   "outputs": [
    {
     "name": "stdout",
     "output_type": "stream",
     "text": [
      "[0, 1, 1, 2, 3, 5, 8, 13, 21, 34, 55]\n",
      "[0, 1, -1, 2, -3, 5, -8, 13, -21, 34, -55]\n"
     ]
    }
   ],
   "source": [
    "plus_dp = [0] * 11 # 0, 1, ...\n",
    "dp[1] = 1\n",
    "\n",
    "for i in range(2, 11):\n",
    "    plus_dp[i] = plus_dp[i - 2] + plus_dp[i - 1]\n",
    "    minus_dp[i] = minus_dp[i - 2] - minus_dp[i - 1]\n",
    "    \n",
    "print(plus_dp)\n",
    "print(minus_dp)"
   ]
  },
  {
   "cell_type": "code",
   "execution_count": 38,
   "metadata": {},
   "outputs": [
    {
     "name": "stdout",
     "output_type": "stream",
     "text": [
      "12\n",
      "2\n"
     ]
    }
   ],
   "source": [
    "print(40 % 14)\n",
    "print(-40 % 14)"
   ]
  },
  {
   "cell_type": "markdown",
   "metadata": {},
   "source": [
    "### 최고의 팀 만들기 1633"
   ]
  },
  {
   "cell_type": "code",
   "execution_count": 21,
   "metadata": {},
   "outputs": [
    {
     "name": "stdout",
     "output_type": "stream",
     "text": [
      "2506\n"
     ]
    }
   ],
   "source": [
    "li = []\n",
    "while True:\n",
    "    try:\n",
    "        temp = list(map(int, input().split()))\n",
    "        li.append(temp)\n",
    "    except:\n",
    "        break\n",
    "\n",
    "dp = [[0] * 16 for _ in range(16)] # dp[w][b]\n",
    "for white, black in li:\n",
    "    for w in range(15, -1, -1):\n",
    "        for b in range(15, -1, -1):\n",
    "            if w - 1 < 0 and b - 1 < 0:\n",
    "                continue\n",
    "            elif w - 1 < 0:\n",
    "                dp[w][b] = max(dp[w][b - 1] + black, dp[w][b])\n",
    "            elif b - 1 < 0 :\n",
    "                dp[w][b] = max(dp[w - 1][b] + white, dp[w][b])\n",
    "            else:\n",
    "                dp[w][b] = max(dp[w - 1][b] + white, dp[w][b - 1] + black, dp[w][b])       \n",
    "            \n",
    "print(dp[15][15])"
   ]
  },
  {
   "cell_type": "markdown",
   "metadata": {},
   "source": [
    "### 1, 2, 3 더하기 7 15992"
   ]
  },
  {
   "cell_type": "code",
   "execution_count": null,
   "metadata": {},
   "outputs": [],
   "source": [
    "import sys\n",
    "input = sys.stdin.readline\n",
    "\n",
    "def recur(n, m):\n",
    "    if dp[n][m] >= 0:\n",
    "        return dp[n][m]\n",
    "    else:\n",
    "        total = 0\n",
    "        if m - 1 >= 1:\n",
    "            for i in range(1, 4):\n",
    "                if n - i >= 1:\n",
    "                    total += recur(n - i, m - 1) % 1000000009\n",
    "        dp[n][m] = total % 1000000009\n",
    "        return dp[n][m]\n",
    "\n",
    "dp = [[-1] * (1001) for _ in range(1001)] # dp[n][m]\n",
    "dp[1][1] = dp[2][1] = dp[3][1] = 1\n",
    "\n",
    "for _ in range(int(input().rstrip())):\n",
    "    n, m = map(int, input().rstrip().split())\n",
    "    print(recur(n, m))"
   ]
  },
  {
   "cell_type": "markdown",
   "metadata": {},
   "source": [
    "### 1, 2, 3 더하기 8 15993"
   ]
  },
  {
   "cell_type": "code",
   "execution_count": null,
   "metadata": {},
   "outputs": [],
   "source": [
    "dp = [[0, 0] for _ in range(100001)]\n",
    "dp[1] = [1, 0]\n",
    "dp[2] = [1, 1]\n",
    "dp[3] = [2, 2]\n",
    "\n",
    "mod = 1000000009\n",
    "for i in range(4, 100001):\n",
    "    dp[i][0] = (dp[i - 3][1] + dp[i - 2][1] + dp[i - 1][1]) % mod\n",
    "    dp[i][1] = (dp[i - 3][0] + dp[i - 2][0] + dp[i - 1][0]) % mod\n",
    "\n",
    "for _ in range(int(input())):\n",
    "    n = int(input())\n",
    "    print(*dp[n])"
   ]
  },
  {
   "cell_type": "markdown",
   "metadata": {},
   "source": [
    "### 1, 2, 3 더하기 9 16195"
   ]
  },
  {
   "cell_type": "code",
   "execution_count": 12,
   "metadata": {},
   "outputs": [
    {
     "name": "stdout",
     "output_type": "stream",
     "text": [
      "3\n",
      "4 2\n",
      "3\n",
      "7 5\n",
      "82\n",
      "10 6\n",
      "307\n"
     ]
    }
   ],
   "source": [
    "# 일단 포기\n",
    "dp = [[0] * 1001 for _ in range(1001)]\n",
    "dp[1][1] = dp[2][1] = dp[3][1] = 1\n",
    "\n",
    "mod = 1000000009\n",
    "\n",
    "def recur(n, m):\n",
    "    if dp[n][m] >= 1:\n",
    "        return dp[n][m]\n",
    "    \n",
    "    total = 0\n",
    "    if m - 1 >= 1:\n",
    "        for i in range(0, 4):      \n",
    "            if n - i >= 1:\n",
    "                if n - i < m - 1:\n",
    "                    continue\n",
    "                total += recur(n - i, m - 1) % mod\n",
    "                \n",
    "    dp[n][m] = total % mod\n",
    "    return dp[n][m]\n",
    "\n",
    "for _ in range(int(input())):\n",
    "    n, m = map(int, input().split())\n",
    "    print(recur(n, m))"
   ]
  },
  {
   "cell_type": "markdown",
   "metadata": {},
   "source": [
    "### 파이프 옮기기1 17070, 파이프 옮기기 2 17069"
   ]
  },
  {
   "cell_type": "raw",
   "metadata": {},
   "source": [
    "만약 해당 칸이 1이면 전부 안됨\n",
    "만약 해당 칸 위나 왼쪽이 1이거나 밖의 칸이 아니면\n",
    "    대각선 += 왼위 가로 + 왼위 세로, 왼위 대각선 값\n",
    "\n",
    "가로 += 왼 가로, 왼 대각선\n",
    "세로 += 위 세로, 위 대각선 값"
   ]
  },
  {
   "cell_type": "code",
   "execution_count": 18,
   "metadata": {},
   "outputs": [
    {
     "name": "stdout",
     "output_type": "stream",
     "text": [
      "22\n",
      "0 0 0 0 0 0 0 0 0 0 0 0 0 0 0 0 0 0 0 0 0 0\n",
      "0 0 0 0 0 0 0 0 0 0 0 0 0 0 0 0 0 0 0 0 0 0\n",
      "0 0 0 0 0 0 0 0 0 0 0 0 0 0 0 0 0 0 0 0 0 0\n",
      "0 0 0 0 0 0 0 0 0 0 0 0 0 0 0 0 0 0 0 0 0 0\n",
      "0 0 0 0 0 0 0 0 0 0 0 0 0 0 0 0 0 0 0 0 0 0\n",
      "0 0 0 0 0 0 0 0 0 0 0 0 0 0 0 0 0 0 0 0 0 0\n",
      "0 0 0 0 0 0 0 0 0 0 0 0 0 0 0 0 0 0 0 0 0 0\n",
      "0 0 0 0 0 0 0 0 0 0 0 0 0 0 0 0 0 0 0 0 0 0\n",
      "0 0 0 0 0 0 0 0 0 0 0 0 0 0 0 0 0 0 0 0 0 0\n",
      "0 0 0 0 0 0 0 0 0 0 0 0 0 0 0 0 0 0 0 0 0 0\n",
      "0 0 0 0 0 0 0 0 0 0 0 0 0 0 0 0 0 0 0 0 0 0\n",
      "0 0 0 0 0 0 0 0 0 0 0 0 0 0 0 0 0 0 0 0 0 0\n",
      "0 0 0 0 0 0 0 0 0 0 0 0 0 0 0 0 0 0 0 0 0 0\n",
      "0 0 0 0 0 0 0 0 0 0 0 0 0 0 0 0 0 0 0 0 0 0\n",
      "0 0 0 0 0 0 0 0 0 0 0 0 0 0 0 0 0 0 0 0 0 0\n",
      "0 0 0 0 0 0 0 0 0 0 0 0 0 0 0 0 0 0 0 0 0 0\n",
      "0 0 0 0 0 0 0 0 0 0 0 0 0 0 0 0 0 0 0 0 0 0\n",
      "0 0 0 0 0 0 0 0 0 0 0 0 0 0 0 0 0 0 0 0 0 0\n",
      "0 0 0 0 0 0 0 0 0 0 0 0 0 0 0 0 0 0 0 0 0 0\n",
      "0 0 0 0 0 0 0 0 0 0 0 0 0 0 0 0 0 0 0 0 0 0\n",
      "0 0 0 0 0 0 0 0 0 0 0 0 0 0 0 0 0 0 0 0 0 0\n",
      "0 0 0 0 0 0 0 0 0 0 0 0 0 0 0 0 0 0 0 0 0 0\n",
      "4345413252\n"
     ]
    }
   ],
   "source": [
    "n = int(input())\n",
    "li = [list(map(int, input().split())) for _ in range(n)]\n",
    "\n",
    "dp = [[[0] * 3 for _ in range(n)] for _ in range(n)] # 각각 가로, 세로, 대각선 방향의 파이프의 오른쪽, 아래 끝점이 해당 위치에 있는 경우의 수\n",
    "dp[0][1][0] = 1\n",
    "\n",
    "for j in range(1, n):\n",
    "    for i in range(n):      \n",
    "        if li[i][j] == 1:\n",
    "            continue\n",
    "            \n",
    "        if i - 1 >= 0:\n",
    "            if li[i - 1][j] == li[i][j - 1] == 0:\n",
    "                dp[i][j][2] += sum(dp[i - 1][j - 1])\n",
    "            dp[i][j][1] += dp[i - 1][j][1] + dp[i - 1][j][2]\n",
    "                \n",
    "        dp[i][j][0] += dp[i][j - 1][0] + dp[i][j - 1][2]\n",
    "        \n",
    "print(sum(dp[-1][-1]))"
   ]
  }
 ],
 "metadata": {
  "kernelspec": {
   "display_name": "Python 3",
   "language": "python",
   "name": "python3"
  },
  "language_info": {
   "codemirror_mode": {
    "name": "ipython",
    "version": 3
   },
   "file_extension": ".py",
   "mimetype": "text/x-python",
   "name": "python",
   "nbconvert_exporter": "python",
   "pygments_lexer": "ipython3",
   "version": "3.7.3"
  }
 },
 "nbformat": 4,
 "nbformat_minor": 4
}
