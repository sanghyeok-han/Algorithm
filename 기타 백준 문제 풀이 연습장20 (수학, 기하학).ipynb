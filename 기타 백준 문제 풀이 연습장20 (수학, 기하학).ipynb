{
 "cells": [
  {
   "cell_type": "markdown",
   "metadata": {},
   "source": [
    "### Fly me to the Alpha Centauri 1011"
   ]
  },
  {
   "cell_type": "code",
   "execution_count": null,
   "metadata": {},
   "outputs": [],
   "source": [
    "차이가 2: 2\n",
    "차이가 3: 3"
   ]
  },
  {
   "cell_type": "code",
   "execution_count": null,
   "metadata": {},
   "outputs": [],
   "source": [
    "distance = 6\n",
    "\n",
    "left = 2\n",
    "right = 1\n",
    "needed = 3\n",
    "\n",
    "left = 2\n",
    "right = 2\n",
    "needed = 4"
   ]
  },
  {
   "cell_type": "code",
   "execution_count": 12,
   "metadata": {},
   "outputs": [
    {
     "name": "stdout",
     "output_type": "stream",
     "text": [
      "3\n",
      "0 3\n",
      "3\n",
      "1 5\n",
      "3\n",
      "45 50\n",
      "4\n"
     ]
    }
   ],
   "source": [
    "def get_sum(x):\n",
    "    return (x * (x + 1)) // 2\n",
    "\n",
    "for _ in range(int(input())):\n",
    "    x, y = map(int, input().split())\n",
    "    distance = y - x\n",
    "\n",
    "    if distance == 1:\n",
    "        print(1)\n",
    "    elif distance == 2:\n",
    "        print(2)\n",
    "    else:\n",
    "        left = 2\n",
    "        right = 1\n",
    "        needed = 3\n",
    "        while True:\n",
    "            if distance > get_sum(left) + get_sum(right):\n",
    "                if left > right:\n",
    "                    right += 1\n",
    "                else:\n",
    "                    left += 1\n",
    "                needed += 1\n",
    "            else:\n",
    "                print(needed)\n",
    "                break"
   ]
  },
  {
   "cell_type": "markdown",
   "metadata": {},
   "source": [
    "### 직사각형 2527\n",
    "- 수학, 기하학"
   ]
  },
  {
   "cell_type": "code",
   "execution_count": 14,
   "metadata": {},
   "outputs": [
    {
     "name": "stdout",
     "output_type": "stream",
     "text": [
      "3 10 50 60 100 100 200 300\n",
      "d\n",
      "45 50 600 600 400 450 500 543\n",
      "a\n",
      "11 120 120 230 50 40 60 440\n",
      "a\n",
      "35 56 67 90 67 80 500 600\n",
      "b\n"
     ]
    }
   ],
   "source": [
    "for _ in range(4):\n",
    "    asx, asy, aex, aey, bsx, bsy, bex, bey = map(int, input().split())\n",
    "    \n",
    "    if (asx, asy) == (bex, bey) or (asy, aey) == (bex, bsy) or (aex, aey) == (bsx, bsy) or (aex, asy) == (bsx, bey):\n",
    "        print('c')\n",
    "    elif aey < bsy or bey < asy or aex < bsx or bex < asx:\n",
    "        print('d')\n",
    "    elif (aex == bsx and (bsy < aey or asy < bey)) or (aey == bsy and (bsx < aex or asx < bex)) or (asx == bex and (asy < bey or bsy < aey)) or (asy == bey and (asx < bex or bsx < aex)):\n",
    "        print('b')\n",
    "    else:\n",
    "        print('a')"
   ]
  },
  {
   "cell_type": "markdown",
   "metadata": {},
   "source": [
    "### 수열 2575"
   ]
  },
  {
   "cell_type": "code",
   "execution_count": null,
   "metadata": {},
   "outputs": [],
   "source": [
    "1번\n",
    "\n",
    "\n",
    "2번\n",
    "소수들을 구함\n",
    "M을 소인수 분해\n",
    "2 제곱 같은 경우는 하나로 합쳐진 수로 쓰고 나머지는 하나씩 써줌"
   ]
  },
  {
   "cell_type": "code",
   "execution_count": 27,
   "metadata": {},
   "outputs": [
    {
     "name": "stdout",
     "output_type": "stream",
     "text": [
      "17\n",
      "6 2\n"
     ]
    }
   ],
   "source": [
    "M = int(input())\n",
    "primes = [False] * 2 + [True] * (M - 1)\n",
    "\n",
    "for mod in range(2, int(M ** 0.5) + 1):\n",
    "    if not primes[mod]:\n",
    "        continue\n",
    "    for i in range(mod * mod, M + 1, mod):\n",
    "        primes[i] = False\n",
    "        \n",
    "primes = [i for i, v in enumerate(primes) if v]\n",
    "\n",
    "result = []\n",
    "\n",
    "# 문제 A\n",
    "if M <= 4:\n",
    "    result.append(2)\n",
    "else:\n",
    "    value =  M // 3\n",
    "    remain = M % 3\n",
    "\n",
    "    if remain == 2:\n",
    "        value += 1\n",
    "\n",
    "    result.append(value)\n",
    "\n",
    "# 문제 B\n",
    "is_two_reflected = False\n",
    "while True:\n",
    "    if M % 2 == 0:\n",
    "        is_two_reflected = True\n",
    "        M //= 2\n",
    "    else:\n",
    "        break\n",
    "        \n",
    "if M == 1:\n",
    "    result.append(2)\n",
    "else:\n",
    "    value = 0\n",
    "    if is_two_reflected:\n",
    "        value += 1\n",
    "    for p in primes:\n",
    "        while True:\n",
    "            if M % p == 0:\n",
    "                M //= p\n",
    "                value += 1\n",
    "            else:\n",
    "                break\n",
    "    result.append(max(value, 2))\n",
    "    \n",
    "print(*result)"
   ]
  },
  {
   "cell_type": "markdown",
   "metadata": {},
   "source": [
    "### 순서쌍의 곱의 합 13900"
   ]
  },
  {
   "cell_type": "code",
   "execution_count": 30,
   "metadata": {},
   "outputs": [
    {
     "name": "stdout",
     "output_type": "stream",
     "text": [
      "4\n",
      "2 3 2 4\n",
      "44\n"
     ]
    }
   ],
   "source": [
    "n = int(input())\n",
    "li = list(map(int, input().split()))\n",
    "sum_value = sum(li)\n",
    "\n",
    "total = 0\n",
    "for v in li:\n",
    "    total += v * (sum_value - v)\n",
    "    \n",
    "print(total // 2)"
   ]
  },
  {
   "cell_type": "markdown",
   "metadata": {},
   "source": [
    "### 공백 없는 A+B 15873"
   ]
  },
  {
   "cell_type": "code",
   "execution_count": 33,
   "metadata": {},
   "outputs": [
    {
     "name": "stdout",
     "output_type": "stream",
     "text": [
      "1010\n",
      "20\n"
     ]
    }
   ],
   "source": [
    "s = input()\n",
    "\n",
    "if s[:2] == '10':\n",
    "    a = int(s[:2])\n",
    "    b = int(s[2:])\n",
    "else:\n",
    "    a = int(s[:1])\n",
    "    b = int(s[1:])\n",
    "    \n",
    "print(a + b)"
   ]
  },
  {
   "cell_type": "markdown",
   "metadata": {},
   "source": [
    "### 삼각형 만들기 1448"
   ]
  },
  {
   "cell_type": "code",
   "execution_count": 9,
   "metadata": {},
   "outputs": [
    {
     "name": "stdout",
     "output_type": "stream",
     "text": [
      "3\n",
      "1\n",
      "2\n",
      "3\n",
      "-1\n"
     ]
    }
   ],
   "source": [
    "import sys\n",
    "# input = sys.stdin.readline\n",
    "\n",
    "n = int(input().rstrip())\n",
    "li = [int(input().rstrip()) for _ in range(n)]\n",
    "li.sort(reverse=True)\n",
    "result = -1\n",
    "for i in range(n - 2):\n",
    "    if li[i] < li[i + 1] + li[i + 2]:\n",
    "        result = li[i] + li[i + 1] + li[i + 2]\n",
    "        break\n",
    "        \n",
    "print(result)"
   ]
  },
  {
   "cell_type": "code",
   "execution_count": 11,
   "metadata": {},
   "outputs": [
    {
     "name": "stdout",
     "output_type": "stream",
     "text": [
      "5\n",
      "3 1 5 2 4\n",
      "NO\n"
     ]
    }
   ],
   "source": [
    "n = int(input())\n",
    "li = list(map(int, input().split()))\n",
    "\n",
    "def check():\n",
    "    for i in range(n):\n",
    "        if i % 2 == 0:\n",
    "            if li[i] % 2 == 0:\n",
    "                return 'NO'\n",
    "        else:\n",
    "            if li[i] % 2 == 1:\n",
    "                return 'NO'\n",
    "    return 'YES'\n",
    "\n",
    "print(check())"
   ]
  },
  {
   "cell_type": "markdown",
   "metadata": {},
   "source": [
    "### 전화 요금 3226"
   ]
  },
  {
   "cell_type": "code",
   "execution_count": 14,
   "metadata": {},
   "outputs": [
    {
     "name": "stdout",
     "output_type": "stream",
     "text": [
      "2\n",
      "11:02 11\n",
      "15:30 01\n",
      "120\n"
     ]
    }
   ],
   "source": [
    "from_10 = 7 * 60\n",
    "to_10 = 19 * 60\n",
    "\n",
    "n = int(input())\n",
    "total = 0\n",
    "for _ in range(n):\n",
    "    hm, dd = input().split()\n",
    "    dd = int(dd)\n",
    "    h, m = hm.split(':')\n",
    "    h = int(h)\n",
    "    m = int(m)\n",
    "    \n",
    "    t = h * 60 + m\n",
    "    for v in range(t, t + dd):\n",
    "        if from_10 <= v < to_10:\n",
    "            total += 10\n",
    "        else:\n",
    "            total += 5\n",
    "            \n",
    "print(total)"
   ]
  },
  {
   "cell_type": "markdown",
   "metadata": {},
   "source": [
    "### 무알콜 칵테일 2896"
   ]
  },
  {
   "cell_type": "code",
   "execution_count": 27,
   "metadata": {},
   "outputs": [
    {
     "name": "stdout",
     "output_type": "stream",
     "text": [
      "10 15 18\n",
      "3 4 1\n",
      "0.0 1.666666666666666 14.666666666666666\n"
     ]
    }
   ],
   "source": [
    "a, b, c = map(int, input().split())\n",
    "ra, rb, rc = map(int, input().split())\n",
    "\n",
    "ratios = [a / ra, b / rb, c / rc]\n",
    "min_index = ratios.index(min(ratios))\n",
    "\n",
    "result = [a - ra * ratios[min_index], b - rb * ratios[min_index], c - rc * ratios[min_index]]\n",
    "print(*result)"
   ]
  },
  {
   "cell_type": "markdown",
   "metadata": {},
   "source": [
    "### 유니크 5533\n",
    "- 구현, 사칙연산"
   ]
  },
  {
   "cell_type": "code",
   "execution_count": 35,
   "metadata": {},
   "outputs": [
    {
     "name": "stdout",
     "output_type": "stream",
     "text": [
      "0\n",
      "92\n",
      "215\n",
      "198\n",
      "89\n"
     ]
    }
   ],
   "source": [
    "from collections import Counter\n",
    "\n",
    "n = int(input())\n",
    "total_scores = [0] * n\n",
    "cards = [list(map(int, input().split())) for _ in range(n)]\n",
    "\n",
    "t = list(zip(*cards))\n",
    "t = [Counter(v) for v in t]\n",
    "\n",
    "for i in range(3):\n",
    "    for player in range(n):\n",
    "        if t[i][cards[player][i]] == 1:\n",
    "            total_scores[player] += cards[player][i]\n",
    "            \n",
    "print('\\n'.join(map(str, total_scores)))"
   ]
  },
  {
   "cell_type": "markdown",
   "metadata": {},
   "source": [
    "### 선분 교차 1 17386\n",
    "- 기하학, 선분 교차 판정"
   ]
  },
  {
   "cell_type": "code",
   "execution_count": null,
   "metadata": {},
   "outputs": [],
   "source": [
    "asx, asy, aex, aey = map(int, input().split())\n",
    "bsx, bsy, bex, bey = map(int, input().split())\n",
    "\n",
    "if asx > aex:\n",
    "    asx, aex = aex, asx\n",
    "    asy, aey = aey, asy\n",
    "if bsx > bex:\n",
    "    bsx, bex = bex, bsx\n",
    "    bsy, bey = bey, bsy\n",
    "if asx > bsx:\n",
    "    bsx, bsy, bex, bey, asx, asy, aex, aey = asx, asy, aex, aey, bsx, bsy, bex, bey\n",
    "\n",
    "if aex == asx:\n",
    "    a_of_a = float('inf')\n",
    "else:\n",
    "    a_of_a = (aey - asy) / (aex - asx)\n",
    "\n",
    "b_of_a = asy - a_of_a * asx\n",
    "\n",
    "if bex == bsx:\n",
    "    a_of_b = float('inf')\n",
    "else:\n",
    "    a_of_b = (bey - bsy) / (bex - bsx)\n",
    "\n",
    "b_of_b = bsy - a_of_b * bsx\n",
    "\n",
    "a_of_a = round(a_of_a, 12)\n",
    "b_of_a = round(b_of_a, 12)\n",
    "a_of_b = round(a_of_b, 12)\n",
    "b_of_b = round(b_of_b, 12)\n",
    "\n",
    "co_x = float('inf')\n",
    "co_y = float('inf')\n",
    "\n",
    "# 두 선분의 기울기가 같은 경우\n",
    "if a_of_a == a_of_b:\n",
    "    # 기울기가 둘 다 무한대인 경우\n",
    "    if a_of_a == float('inf'):\n",
    "        # 같은 x축에 있는 경우\n",
    "        if asx == bsx:\n",
    "            if max(bsy, bey) < min(asy, aey) or max(asy, aey) < min(bsy, bey):\n",
    "                result = 0\n",
    "            else:\n",
    "                result = 1\n",
    "                if max(bsy, bey) == min(asy, aey):\n",
    "                    co_x = asx\n",
    "                    co_y = bey\n",
    "                elif max(asy, aey) == min(bsy, bey):\n",
    "                    co_x = asy\n",
    "                    co_y = aey\n",
    "        else:\n",
    "            result = 0       \n",
    "    # 같은 직선에 속하는 경우\n",
    "    elif b_of_a == b_of_b:\n",
    "        # 한 점에서 만나는 경우\n",
    "        if aex == bsx:\n",
    "            result = 1\n",
    "            co_x = aex\n",
    "            co_y = aey\n",
    "        # 여러 점에서 만나는 경우\n",
    "        elif bsx < aex:\n",
    "            result = 1\n",
    "        else:\n",
    "            result = 0\n",
    "    else:\n",
    "        result = 0 \n",
    "else:   \n",
    "    if a_of_a == float('inf') or a_of_a == -float('inf'):\n",
    "        co_x = asx\n",
    "        co_y = a_of_b * co_x + b_of_b\n",
    "    elif a_of_b == float('inf') or a_of_b == -float('inf'):\n",
    "        co_x = bsx\n",
    "        co_y = a_of_a * co_x + b_of_a        \n",
    "    else:\n",
    "        co_x = -(b_of_a - b_of_b) / (a_of_a - a_of_b)\n",
    "        co_y = a_of_a * co_x + b_of_a    \n",
    "\n",
    "    if (asx <= co_x <= aex and\n",
    "        min(asy, aey) <= co_y <= max(asy, aey) and\n",
    "        bsx <= co_x <= bex and\n",
    "        min(bsy, bey) <= co_y <= max(bsy, bey)):\n",
    "        result = 1\n",
    "    else:\n",
    "        result = 0\n",
    "\n",
    "if result == 0:\n",
    "    print(0)\n",
    "else:\n",
    "    print(1)"
   ]
  },
  {
   "cell_type": "markdown",
   "metadata": {},
   "source": [
    "### 선분 교차 2 17387\n",
    "- 기하학, 선분 교차 판정"
   ]
  },
  {
   "cell_type": "code",
   "execution_count": null,
   "metadata": {},
   "outputs": [],
   "source": [
    "from decimal import getcontext, Decimal\n",
    "\n",
    "getcontext().prec = 1000\n",
    "base_diff = Decimal('0.000000000000000000001')\n",
    "\n",
    "asx, asy, aex, aey = map(int, input().split())\n",
    "bsx, bsy, bex, bey = map(int, input().split())\n",
    "\n",
    "if asx > aex:\n",
    "    asx, aex = aex, asx\n",
    "    asy, aey = aey, asy\n",
    "if bsx > bex:\n",
    "    bsx, bex = bex, bsx\n",
    "    bsy, bey = bey, bsy\n",
    "if asx > bsx:\n",
    "    bsx, bsy, bex, bey, asx, asy, aex, aey = asx, asy, aex, aey, bsx, bsy, bex, bey\n",
    "\n",
    "asx = Decimal(asx)\n",
    "aex = Decimal(aex)\n",
    "asy = Decimal(asy)\n",
    "aey = Decimal(aey)\n",
    "bsx = Decimal(bsx)\n",
    "bex = Decimal(bex)\n",
    "bsy = Decimal(bsy)\n",
    "bey = Decimal(bey)\n",
    "    \n",
    "if aex == asx:\n",
    "    a_of_a = Decimal('Infinity')\n",
    "    b_of_a = Decimal('Infinity')\n",
    "else:\n",
    "    a_of_a = (aey - asy) / (aex - asx)\n",
    "    b_of_a = asy - a_of_a * asx\n",
    "\n",
    "if bex == bsx:\n",
    "    a_of_b = Decimal('Infinity')\n",
    "    b_of_b = Decimal('Infinity')\n",
    "else:\n",
    "    a_of_b = (bey - bsy) / (bex - bsx)    \n",
    "    b_of_b = bsy - a_of_b * bsx\n",
    "\n",
    "co_x = Decimal('Infinity')\n",
    "co_y = Decimal('Infinity')\n",
    "\n",
    "# 두 선분의 기울기가 같은 경우\n",
    "if str(a_of_a) == str(a_of_b):\n",
    "    # 기울기가 둘 다 무한대인 경우\n",
    "    if a_of_a == Decimal('Infinity'):\n",
    "        # 같은 x축에 있는 경우\n",
    "        if asx == bsx:\n",
    "            if max(bsy, bey) < min(asy, aey) or max(asy, aey) < min(bsy, bey):\n",
    "                result = 0\n",
    "            else:\n",
    "                result = 1\n",
    "                if max(bsy, bey) == min(asy, aey):\n",
    "                    co_x = asx\n",
    "                    co_y = bey\n",
    "                elif max(asy, aey) == min(bsy, bey):\n",
    "                    co_x = asy\n",
    "                    co_y = aey\n",
    "        else:\n",
    "            result = 0       \n",
    "    # 같은 직선에 속하는 경우\n",
    "    elif str(b_of_a) == str(b_of_b):\n",
    "        # 한 점에서 만나는 경우\n",
    "        if aex == bsx:\n",
    "            result = 1\n",
    "            co_x = aex\n",
    "            co_y = aey\n",
    "        # 여러 점에서 만나는 경우\n",
    "        elif bsx < aex:\n",
    "            result = 1\n",
    "        else:\n",
    "            result = 0\n",
    "    else:\n",
    "        result = 0 \n",
    "else:   \n",
    "    if a_of_a == Decimal('Infinity') or a_of_a == -Decimal('Infinity'):\n",
    "        co_x = asx\n",
    "        co_y = a_of_b * co_x + b_of_b\n",
    "    elif a_of_b == Decimal('Infinity') or a_of_b == -Decimal('Infinity'):\n",
    "        co_x = bsx\n",
    "        co_y = a_of_a * co_x + b_of_a        \n",
    "    else:\n",
    "        co_x = -(b_of_a - b_of_b) / (a_of_a - a_of_b)\n",
    "        co_y = a_of_a * co_x + b_of_a    \n",
    "\n",
    "    if (asx - base_diff <= co_x <= aex + base_diff and\n",
    "        min(asy, aey) - base_diff <= co_y <= max(asy, aey) + base_diff and\n",
    "        bsx - base_diff <= co_x <= bex + base_diff and\n",
    "        min(bsy, bey) - base_diff <= co_y <= max(bsy, bey) + base_diff):\n",
    "        result = 1\n",
    "    else:\n",
    "        result = 0\n",
    "\n",
    "if result == 0:\n",
    "    print(0)\n",
    "else:\n",
    "    print(1)"
   ]
  },
  {
   "cell_type": "markdown",
   "metadata": {},
   "source": [
    "### 선분 교차 3 20149\n",
    "- 기하학, Case work, 선분 교차 판정"
   ]
  },
  {
   "cell_type": "code",
   "execution_count": null,
   "metadata": {},
   "outputs": [],
   "source": [
    "from decimal import getcontext, Decimal\n",
    "\n",
    "getcontext().prec = 1000\n",
    "base_diff = Decimal('0.000000000000000000001')\n",
    "\n",
    "asx, asy, aex, aey = map(int, input().split())\n",
    "bsx, bsy, bex, bey = map(int, input().split())\n",
    "\n",
    "if asx > aex:\n",
    "    asx, aex = aex, asx\n",
    "    asy, aey = aey, asy\n",
    "if bsx > bex:\n",
    "    bsx, bex = bex, bsx\n",
    "    bsy, bey = bey, bsy\n",
    "if asx > bsx:\n",
    "    bsx, bsy, bex, bey, asx, asy, aex, aey = asx, asy, aex, aey, bsx, bsy, bex, bey\n",
    "\n",
    "asx = Decimal(asx)\n",
    "aex = Decimal(aex)\n",
    "asy = Decimal(asy)\n",
    "aey = Decimal(aey)\n",
    "bsx = Decimal(bsx)\n",
    "bex = Decimal(bex)\n",
    "bsy = Decimal(bsy)\n",
    "bey = Decimal(bey)\n",
    "    \n",
    "if aex == asx:\n",
    "    a_of_a = Decimal('Infinity')\n",
    "    b_of_a = Decimal('Infinity')\n",
    "else:\n",
    "    a_of_a = (aey - asy) / (aex - asx)\n",
    "    b_of_a = asy - a_of_a * asx\n",
    "\n",
    "if bex == bsx:\n",
    "    a_of_b = Decimal('Infinity')\n",
    "    b_of_b = Decimal('Infinity')\n",
    "else:\n",
    "    a_of_b = (bey - bsy) / (bex - bsx)    \n",
    "    b_of_b = bsy - a_of_b * bsx\n",
    "\n",
    "co_x = Decimal('Infinity')\n",
    "co_y = Decimal('Infinity')\n",
    "\n",
    "# 두 선분의 기울기가 같은 경우\n",
    "if str(a_of_a) == str(a_of_b):\n",
    "    # 기울기가 둘 다 무한대인 경우\n",
    "    if a_of_a == Decimal('Infinity'):\n",
    "        # 같은 x축에 있는 경우\n",
    "        if asx == bsx:\n",
    "            if max(bsy, bey) < min(asy, aey) or max(asy, aey) < min(bsy, bey):\n",
    "                result = 0\n",
    "            else:\n",
    "                result = 1\n",
    "                if max(bsy, bey) == min(asy, aey):\n",
    "                    co_x = asx\n",
    "                    co_y = bey\n",
    "                elif max(asy, aey) == min(bsy, bey):\n",
    "                    co_x = asy\n",
    "                    co_y = aey\n",
    "        else:\n",
    "            result = 0       \n",
    "    # 같은 직선에 속하는 경우\n",
    "    elif str(b_of_a) == str(b_of_b):\n",
    "        # 한 점에서 만나는 경우\n",
    "        if aex == bsx:\n",
    "            result = 1\n",
    "            co_x = aex\n",
    "            co_y = aey\n",
    "        # 여러 점에서 만나는 경우\n",
    "        elif bsx < aex:\n",
    "            result = 1\n",
    "        else:\n",
    "            result = 0\n",
    "    else:\n",
    "        result = 0 \n",
    "else:   \n",
    "    if a_of_a == Decimal('Infinity') or a_of_a == -Decimal('Infinity'):\n",
    "        co_x = asx\n",
    "        co_y = a_of_b * co_x + b_of_b\n",
    "    elif a_of_b == Decimal('Infinity') or a_of_b == -Decimal('Infinity'):\n",
    "        co_x = bsx\n",
    "        co_y = a_of_a * co_x + b_of_a        \n",
    "    else:\n",
    "        co_x = -(b_of_a - b_of_b) / (a_of_a - a_of_b)\n",
    "        co_y = a_of_a * co_x + b_of_a    \n",
    "\n",
    "    if (asx - base_diff <= co_x <= aex + base_diff and\n",
    "        min(asy, aey) - base_diff <= co_y <= max(asy, aey) + base_diff and\n",
    "        bsx - base_diff <= co_x <= bex + base_diff and\n",
    "        min(bsy, bey) - base_diff <= co_y <= max(bsy, bey) + base_diff):\n",
    "        result = 1\n",
    "    else:\n",
    "        result = 0\n",
    "\n",
    "if result == 0:\n",
    "    print(0)\n",
    "else:\n",
    "    print(1)\n",
    "    if co_x != Decimal('Infinity'):\n",
    "        print(str(co_x), str(co_y))"
   ]
  },
  {
   "cell_type": "markdown",
   "metadata": {},
   "source": [
    "### 선분 그룹 2162\n",
    "- 자료 구조, 기하학, 분리 집합, 선분 교차 판정"
   ]
  },
  {
   "cell_type": "code",
   "execution_count": null,
   "metadata": {},
   "outputs": [],
   "source": [
    "# 시간 초과, 일단 포기, CCW 알고리즘을 배워야함\n",
    "from decimal import getcontext, Decimal\n",
    "import sys\n",
    "# input = sys.stdin.readline\n",
    "\n",
    "getcontext().prec = 100\n",
    "base_diff = Decimal('0.000000000000000000001')\n",
    "\n",
    "def check(a, b):\n",
    "    asx, asy, aex, aey = a\n",
    "    bsx, bsy, bex, bey = b\n",
    "    \n",
    "    if asx > aex:\n",
    "        asx, aex = aex, asx\n",
    "        asy, aey = aey, asy\n",
    "    if bsx > bex:\n",
    "        bsx, bex = bex, bsx\n",
    "        bsy, bey = bey, bsy\n",
    "    if asx > bsx:\n",
    "        bsx, bsy, bex, bey, asx, asy, aex, aey = asx, asy, aex, aey, bsx, bsy, bex, bey\n",
    "\n",
    "    asx = Decimal(asx)\n",
    "    aex = Decimal(aex)\n",
    "    asy = Decimal(asy)\n",
    "    aey = Decimal(aey)\n",
    "    bsx = Decimal(bsx)\n",
    "    bex = Decimal(bex)\n",
    "    bsy = Decimal(bsy)\n",
    "    bey = Decimal(bey)\n",
    "\n",
    "    if aex == asx:\n",
    "        a_of_a = Decimal('Infinity')\n",
    "        b_of_a = Decimal('Infinity')\n",
    "    else:\n",
    "        a_of_a = (aey - asy) / (aex - asx)\n",
    "        b_of_a = asy - a_of_a * asx\n",
    "\n",
    "    if bex == bsx:\n",
    "        a_of_b = Decimal('Infinity')\n",
    "        b_of_b = Decimal('Infinity')\n",
    "    else:\n",
    "        a_of_b = (bey - bsy) / (bex - bsx)    \n",
    "        b_of_b = bsy - a_of_b * bsx\n",
    "\n",
    "    co_x = Decimal('Infinity')\n",
    "    co_y = Decimal('Infinity')\n",
    "\n",
    "    # 두 선분의 기울기가 같은 경우\n",
    "    if str(a_of_a) == str(a_of_b):\n",
    "        # 기울기가 둘 다 무한대인 경우\n",
    "        if a_of_a == Decimal('Infinity'):\n",
    "            # 같은 x축에 있는 경우\n",
    "            if asx == bsx:\n",
    "                if max(bsy, bey) < min(asy, aey) or max(asy, aey) < min(bsy, bey):\n",
    "                    result = 0\n",
    "                else:\n",
    "                    result = 1\n",
    "            else:\n",
    "                result = 0       \n",
    "        # 같은 직선에 속하는 경우\n",
    "        elif str(b_of_a) == str(b_of_b):\n",
    "            # 한 점에서 만나는 경우\n",
    "            if aex == bsx:\n",
    "                result = 1\n",
    "                co_x = aex\n",
    "                co_y = aey\n",
    "            # 여러 점에서 만나는 경우\n",
    "            elif bsx < aex:\n",
    "                result = 1\n",
    "            else:\n",
    "                result = 0\n",
    "        else:\n",
    "            result = 0 \n",
    "    else:   \n",
    "        if a_of_a == Decimal('Infinity') or a_of_a == -Decimal('Infinity'):\n",
    "            co_x = asx\n",
    "            co_y = a_of_b * co_x + b_of_b\n",
    "        elif a_of_b == Decimal('Infinity') or a_of_b == -Decimal('Infinity'):\n",
    "            co_x = bsx\n",
    "            co_y = a_of_a * co_x + b_of_a        \n",
    "        else:\n",
    "            co_x = -(b_of_a - b_of_b) / (a_of_a - a_of_b)\n",
    "            co_y = a_of_a * co_x + b_of_a    \n",
    "\n",
    "        if (asx - base_diff <= co_x <= aex + base_diff and\n",
    "            min(asy, aey) - base_diff <= co_y <= max(asy, aey) + base_diff and\n",
    "            bsx - base_diff <= co_x <= bex + base_diff and\n",
    "            min(bsy, bey) - base_diff <= co_y <= max(bsy, bey) + base_diff):\n",
    "            result = 1\n",
    "        else:\n",
    "            result = 0\n",
    "\n",
    "    return result\n",
    "\n",
    "n = int(input().rstrip())\n",
    "parent = list(range(n))\n",
    "rank = [0] * n\n",
    "\n",
    "def find(v):\n",
    "    if parent[v] == v:\n",
    "        return v\n",
    "    else:\n",
    "        parent[v] = find(parent[v])\n",
    "        return parent[v]\n",
    "\n",
    "def union(a, b):\n",
    "    if rank[a] >= rank[b]:\n",
    "        if rank[a] == rank[b]:\n",
    "            rank[a] += 1\n",
    "        parent[b] = a\n",
    "    else:\n",
    "        parent[a] = b\n",
    "    \n",
    "li = [list(map(int, input().rstrip().split())) for _ in range(n)]\n",
    "for i in range(n):\n",
    "    for j in range(i + 1, n):\n",
    "        if check(li[i], li[j]):\n",
    "            i = find(i)\n",
    "            j = find(j)\n",
    "            if i != j:\n",
    "                union(i, j)\n",
    "                \n",
    "for v in range(n):\n",
    "    find(v)\n",
    "                \n",
    "print(len(set(parent)))\n",
    "print(Counter(parent).most_common()[0][1])"
   ]
  },
  {
   "cell_type": "markdown",
   "metadata": {},
   "source": [
    "### 나는 행복합니다~ 14652"
   ]
  },
  {
   "cell_type": "code",
   "execution_count": 8,
   "metadata": {},
   "outputs": [
    {
     "name": "stdout",
     "output_type": "stream",
     "text": [
      "2 2 3\n",
      "1 1\n"
     ]
    }
   ],
   "source": [
    "n, m, k = map(int, input().split())\n",
    "\n",
    "x = k // m\n",
    "y = k % m\n",
    "print(x, y)"
   ]
  },
  {
   "cell_type": "markdown",
   "metadata": {},
   "source": [
    "### 캥거루 세마리 2965"
   ]
  },
  {
   "cell_type": "code",
   "execution_count": 12,
   "metadata": {},
   "outputs": [
    {
     "name": "stdout",
     "output_type": "stream",
     "text": [
      "3 4 5\n",
      "0\n"
     ]
    }
   ],
   "source": [
    "a, b, c = map(int, input().split())\n",
    "print(max(b - a, c - b) - 1)"
   ]
  },
  {
   "cell_type": "markdown",
   "metadata": {},
   "source": [
    "### 도미노 2921"
   ]
  },
  {
   "cell_type": "code",
   "execution_count": 17,
   "metadata": {},
   "outputs": [
    {
     "name": "stdout",
     "output_type": "stream",
     "text": [
      "3\n",
      "30\n"
     ]
    }
   ],
   "source": [
    "def get_sum(num):\n",
    "    return num * (num + 1) // 2\n",
    "\n",
    "n = int(input())\n",
    "\n",
    "total = 0\n",
    "for i in range(1, n + 1):\n",
    "    total += i * (i + 1)\n",
    "    total += get_sum(i)\n",
    "    \n",
    "print(total)"
   ]
  },
  {
   "cell_type": "markdown",
   "metadata": {},
   "source": [
    "### 점수 계산 2506"
   ]
  },
  {
   "cell_type": "code",
   "execution_count": 24,
   "metadata": {},
   "outputs": [
    {
     "name": "stdout",
     "output_type": "stream",
     "text": [
      "2\n",
      "1 1\n",
      "3\n"
     ]
    }
   ],
   "source": [
    "n = int(input())\n",
    "li = list(map(int, input().split()))\n",
    "\n",
    "total = 0\n",
    "current_get_score = 1\n",
    "for v in li:\n",
    "    if v == 1:\n",
    "        total += current_get_score\n",
    "        current_get_score += 1\n",
    "    else:\n",
    "        current_get_score = 1\n",
    "        \n",
    "print(total)"
   ]
  },
  {
   "cell_type": "markdown",
   "metadata": {},
   "source": [
    "### 삼각수의 합 2721"
   ]
  },
  {
   "cell_type": "code",
   "execution_count": 29,
   "metadata": {},
   "outputs": [
    {
     "name": "stdout",
     "output_type": "stream",
     "text": [
      "4\n",
      "3\n",
      "45\n",
      "4\n",
      "105\n",
      "5\n",
      "210\n",
      "10\n",
      "2145\n"
     ]
    }
   ],
   "source": [
    "def get_t(num):\n",
    "    return num * (num + 1) // 2\n",
    "\n",
    "for _ in range(int(input())):\n",
    "    n = int(input())\n",
    "    total = 0\n",
    "    for i in range(1, n + 1):\n",
    "        total += i * get_t(i + 1)\n",
    "\n",
    "    print(total)"
   ]
  },
  {
   "cell_type": "markdown",
   "metadata": {},
   "source": [
    "### 학점계산 2754"
   ]
  },
  {
   "cell_type": "code",
   "execution_count": 30,
   "metadata": {},
   "outputs": [
    {
     "name": "stdout",
     "output_type": "stream",
     "text": [
      "A0\n",
      "4.0\n"
     ]
    }
   ],
   "source": [
    "d = {'A+': 4.3, 'A0': 4.0, 'A-': 3.7, 'B+': 3.3, 'B0': 3.0, 'B-': 2.7,\n",
    "     'C+': 2.3, 'C0': 2.0, 'C-': 1.7, 'D+': 1.3, 'D0': 1.0, 'D-': 0.7,\n",
    "     'F': 0.0}\n",
    "\n",
    "s = input()\n",
    "print(d[s])"
   ]
  },
  {
   "cell_type": "markdown",
   "metadata": {},
   "source": [
    "### 이번학기 평점은 몇점? 2755"
   ]
  },
  {
   "cell_type": "code",
   "execution_count": 48,
   "metadata": {},
   "outputs": [
    {
     "name": "stdout",
     "output_type": "stream",
     "text": [
      "3.28\n"
     ]
    }
   ],
   "source": [
    "d = {'A+': 4.3, 'A0': 4.0, 'A-': 3.7, 'B+': 3.3, 'B0': 3.0, 'B-': 2.7,\n",
    "     'C+': 2.3, 'C0': 2.0, 'C-': 1.7, 'D+': 1.3, 'D0': 1.0, 'D-': 0.7,\n",
    "     'F': 0.0}\n",
    "\n",
    "n = int(input())\n",
    "\n",
    "total_scores = []\n",
    "cumul = 0\n",
    "for _ in range(n):\n",
    "    _, score, grade = input().split()\n",
    "    score = int(score)\n",
    "    total_scores.append(d[grade] * score)\n",
    "    cumul += score\n",
    "\n",
    "avg = sum(total_scores) / cumul\n",
    "s = str(avg)\n",
    "if len(s) >= 5:\n",
    "    if int(s[4]) >= 5:\n",
    "        s = s[:3] + str(int(s[3]) + 1)\n",
    "    else:\n",
    "        s = s[:4]\n",
    "elif len(s) <= 3:\n",
    "    s += '0' * (4 - len(s))\n",
    "    \n",
    "print(s)"
   ]
  },
  {
   "cell_type": "code",
   "execution_count": 50,
   "metadata": {},
   "outputs": [
    {
     "name": "stdout",
     "output_type": "stream",
     "text": [
      "2\n",
      "aa 3 A+\n",
      "bb 3 A0\n",
      "4.15\n"
     ]
    }
   ],
   "source": [
    "d = {'A+': 4.3, 'A0': 4.0, 'A-': 3.7, 'B+': 3.3, 'B0': 3.0, 'B-': 2.7,\n",
    "     'C+': 2.3, 'C0': 2.0, 'C-': 1.7, 'D+': 1.3, 'D0': 1.0, 'D-': 0.7,\n",
    "     'F': 0.0}\n",
    "\n",
    "n = int(input())\n",
    "\n",
    "total_scores = []\n",
    "cumul = 0\n",
    "for _ in range(n):\n",
    "    _, score, grade = input().split()\n",
    "    score = int(score)\n",
    "    total_scores.append(d[grade] * score)\n",
    "    cumul += score\n",
    "\n",
    "avg = sum(total_scores) / cumul\n",
    "avg += 0.000001\n",
    "avg = round(avg, 2)\n",
    "print('%.2f' % avg)"
   ]
  },
  {
   "cell_type": "markdown",
   "metadata": {},
   "source": [
    "### 중앙 이동 알고리즘 2903"
   ]
  },
  {
   "cell_type": "code",
   "execution_count": 55,
   "metadata": {},
   "outputs": [
    {
     "name": "stdout",
     "output_type": "stream",
     "text": [
      "3\n",
      "81\n"
     ]
    }
   ],
   "source": [
    "n = int(input())\n",
    "current = 2\n",
    "for _ in range(n):\n",
    "    current = current * 2 - 1\n",
    "    \n",
    "print(current * current)"
   ]
  },
  {
   "cell_type": "markdown",
   "metadata": {},
   "source": [
    "### 소음 2935"
   ]
  },
  {
   "cell_type": "code",
   "execution_count": 56,
   "metadata": {},
   "outputs": [
    {
     "name": "stdout",
     "output_type": "stream",
     "text": [
      "1000\n",
      "*\n",
      "100\n",
      "100000\n"
     ]
    }
   ],
   "source": [
    "a = int(input())\n",
    "o = input()\n",
    "b = int(input())\n",
    "print(eval(f'{a}{o}{b}'))"
   ]
  },
  {
   "cell_type": "code",
   "execution_count": 58,
   "metadata": {},
   "outputs": [
    {
     "name": "stdout",
     "output_type": "stream",
     "text": [
      "1000\n",
      "*\n",
      "100\n",
      "100000\n"
     ]
    }
   ],
   "source": [
    "i=input;print(eval(f'{i()}{i()}{i()}'))"
   ]
  },
  {
   "cell_type": "markdown",
   "metadata": {},
   "source": [
    "### 순서쌍의 곱의 합 13900 (다시 풀음)"
   ]
  },
  {
   "cell_type": "code",
   "execution_count": 2,
   "metadata": {},
   "outputs": [
    {
     "name": "stdout",
     "output_type": "stream",
     "text": [
      "4\n",
      "1 2 3 4\n",
      "35\n"
     ]
    }
   ],
   "source": [
    "n = int(input())\n",
    "li = list(map(int, input().split()))\n",
    "\n",
    "total = 0\n",
    "sum_value = sum(li)\n",
    "for v in li:\n",
    "    total += v * (sum_value - v)\n",
    "    \n",
    "print(total // 2)"
   ]
  },
  {
   "cell_type": "markdown",
   "metadata": {},
   "source": [
    "### 슬라임 합치기 14241"
   ]
  },
  {
   "cell_type": "code",
   "execution_count": 12,
   "metadata": {},
   "outputs": [
    {
     "name": "stdout",
     "output_type": "stream",
     "text": [
      "10\n",
      "3 9 2 8 3 4 2 2 9 11 39 1 3 4 2\n",
      "4230\n"
     ]
    }
   ],
   "source": [
    "n = int(input())\n",
    "li = list(map(int, input().split()))\n",
    "size = li[0]\n",
    "score = 0\n",
    "\n",
    "for value in li[1:]:\n",
    "    score += size * value\n",
    "    size += value\n",
    "    \n",
    "print(score)"
   ]
  },
  {
   "cell_type": "markdown",
   "metadata": {},
   "source": [
    "### 시험 점수 5596"
   ]
  },
  {
   "cell_type": "code",
   "execution_count": 1,
   "metadata": {},
   "outputs": [
    {
     "name": "stdout",
     "output_type": "stream",
     "text": [
      "100 80 70 60\n",
      "80 70 80 90\n",
      "320\n"
     ]
    }
   ],
   "source": [
    "print(max([sum(list(map(int, input().split()))) for _ in range(2)]))"
   ]
  },
  {
   "cell_type": "markdown",
   "metadata": {},
   "source": [
    "### 17배 5893"
   ]
  },
  {
   "cell_type": "code",
   "execution_count": 2,
   "metadata": {},
   "outputs": [
    {
     "name": "stdout",
     "output_type": "stream",
     "text": [
      "10110111\n",
      "110000100111\n"
     ]
    }
   ],
   "source": [
    "print(bin(int(input(), 2) * 17)[2:])"
   ]
  },
  {
   "cell_type": "markdown",
   "metadata": {},
   "source": [
    "### Contest Timing 5928"
   ]
  },
  {
   "cell_type": "code",
   "execution_count": 6,
   "metadata": {},
   "outputs": [
    {
     "name": "stdout",
     "output_type": "stream",
     "text": [
      "12 13 14\n",
      "1563\n"
     ]
    }
   ],
   "source": [
    "start = 11 + 11 * 60 + 11 * 24 * 60\n",
    "d, h, m = map(int, input().split())\n",
    "end = m + h * 60 + d * 24 * 60\n",
    "\n",
    "if end - start < 0:\n",
    "    print(-1)\n",
    "else:\n",
    "    print(end - start)"
   ]
  },
  {
   "cell_type": "code",
   "execution_count": 4,
   "metadata": {},
   "outputs": [
    {
     "data": {
      "text/plain": [
       "18074"
      ]
     },
     "execution_count": 4,
     "metadata": {},
     "output_type": "execute_result"
    }
   ],
   "source": [
    "14 + 13 * 60 + 12 * 24 * 60"
   ]
  },
  {
   "cell_type": "code",
   "execution_count": null,
   "metadata": {},
   "outputs": [],
   "source": [
    "14 + 13 * 60 + 12 * 24 * 60"
   ]
  },
  {
   "cell_type": "code",
   "execution_count": 5,
   "metadata": {},
   "outputs": [
    {
     "data": {
      "text/plain": [
       "18074"
      ]
     },
     "execution_count": 5,
     "metadata": {},
     "output_type": "execute_result"
    }
   ],
   "source": [
    "end"
   ]
  },
  {
   "cell_type": "markdown",
   "metadata": {},
   "source": [
    "### 쿠폰 10179"
   ]
  },
  {
   "cell_type": "code",
   "execution_count": 9,
   "metadata": {},
   "outputs": [
    {
     "name": "stdout",
     "output_type": "stream",
     "text": [
      "3\n",
      "100.00\n",
      "$80.00\n",
      "59.99\n",
      "$47.99\n",
      "20.00\n",
      "$16.00\n"
     ]
    }
   ],
   "source": [
    "for _ in range(int(input())):\n",
    "    value = float(input())\n",
    "    value *= 4/5\n",
    "    s = '%.2f' % value\n",
    "    print(f'${s}')"
   ]
  },
  {
   "cell_type": "markdown",
   "metadata": {},
   "source": [
    "### 수도요금 10707"
   ]
  },
  {
   "cell_type": "code",
   "execution_count": 11,
   "metadata": {},
   "outputs": [
    {
     "name": "stdout",
     "output_type": "stream",
     "text": [
      "8\n",
      "300\n",
      "100\n",
      "10\n",
      "250\n",
      "1800\n"
     ]
    }
   ],
   "source": [
    "li = [int(input()) for _ in range(5)]\n",
    "a, b, c, d, p = li\n",
    "\n",
    "total_price_x = a * p\n",
    "total_price_y = b\n",
    "\n",
    "if p - c > 0:\n",
    "    total_price_y += (p - c) * d\n",
    "    \n",
    "print(min(total_price_x, total_price_y))"
   ]
  },
  {
   "cell_type": "markdown",
   "metadata": {},
   "source": [
    "### Do Not Touch Anything  13136"
   ]
  },
  {
   "cell_type": "code",
   "execution_count": 30,
   "metadata": {},
   "outputs": [
    {
     "name": "stdout",
     "output_type": "stream",
     "text": [
      "5 5 2\n",
      "9\n"
     ]
    }
   ],
   "source": [
    "r, c, n = map(int, input().split())\n",
    "\n",
    "def get_value(l):\n",
    "    temp = 0\n",
    "    if n >= l:\n",
    "        temp = 1\n",
    "    else:\n",
    "        temp += l // n\n",
    "        if l % n > 0:\n",
    "            temp += 1\n",
    "    return temp\n",
    "        \n",
    "print(get_value(r) * get_value(c))"
   ]
  },
  {
   "cell_type": "markdown",
   "metadata": {},
   "source": [
    "### 암호 제작 1837"
   ]
  },
  {
   "cell_type": "code",
   "execution_count": 7,
   "metadata": {},
   "outputs": [
    {
     "name": "stdout",
     "output_type": "stream",
     "text": [
      "9 4\n",
      "BAD 3\n"
     ]
    }
   ],
   "source": [
    "p, k = map(int, input().split())\n",
    "\n",
    "if p <= k:\n",
    "    print('GOOD')\n",
    "else:\n",
    "    for i in range(2, k):\n",
    "        if p % i == 0:\n",
    "            print('BAD', i)\n",
    "            break\n",
    "    else:\n",
    "        print('GOOD')"
   ]
  },
  {
   "cell_type": "markdown",
   "metadata": {},
   "source": [
    "### 문어 숫자 1864"
   ]
  },
  {
   "cell_type": "code",
   "execution_count": 13,
   "metadata": {},
   "outputs": [
    {
     "name": "stdout",
     "output_type": "stream",
     "text": [
      "?\n",
      "4\n"
     ]
    }
   ],
   "source": [
    "d = {'-': 0, '\\\\': 1, '(': 2, '@': 3, '?': 4, '>': 5, '&': 6, '%': 7, '/': -1}\n",
    "while True: \n",
    "    s = input()\n",
    "    if s == '#':\n",
    "        break\n",
    "        \n",
    "    s_len = len(s)\n",
    "\n",
    "    total = 0\n",
    "    for i in range(len(s)):\n",
    "        total += d[s[i]] * 8 ** (len(s) - i - 1)\n",
    "\n",
    "    print(total)"
   ]
  },
  {
   "cell_type": "markdown",
   "metadata": {},
   "source": [
    "### 달팽이2 1952"
   ]
  },
  {
   "cell_type": "code",
   "execution_count": 37,
   "metadata": {},
   "outputs": [
    {
     "name": "stdout",
     "output_type": "stream",
     "text": [
      "2 2\n",
      "2\n"
     ]
    }
   ],
   "source": [
    "m, n = map(int, input().split())\n",
    "\n",
    "dx = [0, 1, 0, -1]\n",
    "dy = [1, 0, -1, 0]\n",
    "\n",
    "visited = [[False] * n for _ in range(m)]\n",
    "visited[0][0] = True\n",
    "count = 0\n",
    "d = 0\n",
    "x, y = 0, 0\n",
    "while True:\n",
    "    nx, ny = x + dx[d % 4], y + dy[d % 4]\n",
    "    if nx < 0 or nx >= m or ny < 0 or ny >= n or visited[nx][ny]:\n",
    "        d += 1\n",
    "        count += 1\n",
    "        nx, ny = x + dx[d % 4], y + dy[d % 4]\n",
    "        if nx < 0 or nx >= m or ny < 0 or ny >= n or visited[nx][ny]:\n",
    "            break\n",
    "    visited[nx][ny] = True\n",
    "    x, y = nx, ny\n",
    "    \n",
    "print(count - 1)  "
   ]
  },
  {
   "cell_type": "markdown",
   "metadata": {},
   "source": [
    "### 오각형, 오각형, 오각형... 1964"
   ]
  },
  {
   "cell_type": "code",
   "execution_count": 58,
   "metadata": {},
   "outputs": [
    {
     "name": "stdout",
     "output_type": "stream",
     "text": [
      "3\n",
      "22\n"
     ]
    }
   ],
   "source": [
    "n = int(input())\n",
    "\n",
    "mod = 45678\n",
    "current = 5\n",
    "added = 7\n",
    "plus = 3\n",
    "for _ in range(n - 1):\n",
    "    current += added\n",
    "    current %= mod\n",
    "    added += plus\n",
    "    added %= mod\n",
    "    \n",
    "print(current)"
   ]
  },
  {
   "cell_type": "markdown",
   "metadata": {},
   "source": [
    "### 플러그 2010"
   ]
  },
  {
   "cell_type": "code",
   "execution_count": 61,
   "metadata": {},
   "outputs": [
    {
     "name": "stdout",
     "output_type": "stream",
     "text": [
      "3\n",
      "2\n",
      "2\n",
      "2\n",
      "4\n"
     ]
    }
   ],
   "source": [
    "import sys\n",
    "# input = sys.stdin.readline\n",
    "\n",
    "n = int(input().rstrip())\n",
    "li = [int(input().rstrip()) for _ in range(n)]\n",
    "print(sum(li) - (n - 1))"
   ]
  },
  {
   "cell_type": "markdown",
   "metadata": {},
   "source": [
    "### 초콜릿 자르기 2163"
   ]
  },
  {
   "cell_type": "code",
   "execution_count": 62,
   "metadata": {},
   "outputs": [
    {
     "name": "stdout",
     "output_type": "stream",
     "text": [
      "2 2\n",
      "3\n"
     ]
    }
   ],
   "source": [
    "n, m = map(int, input().split())\n",
    "print(n * m - 1)"
   ]
  },
  {
   "cell_type": "markdown",
   "metadata": {},
   "source": [
    "### 시그마 2355"
   ]
  },
  {
   "cell_type": "code",
   "execution_count": 74,
   "metadata": {},
   "outputs": [
    {
     "name": "stdout",
     "output_type": "stream",
     "text": [
      "-1 1\n",
      "0\n"
     ]
    }
   ],
   "source": [
    "a, b = map(int, input().split())\n",
    "if a > b:\n",
    "    a, b = b, a\n",
    "    \n",
    "# get_sum\n",
    "def gs(num):\n",
    "    return num * (num + 1) // 2\n",
    "    \n",
    "result = 0\n",
    "if a < 0 and b < 0:\n",
    "    result = -(gs(-a) - gs(-b)) + b\n",
    "elif a > 0 and b > 0:\n",
    "    result = gs(b) - gs(a) + a\n",
    "elif a == 0:\n",
    "    result = gs(b)\n",
    "elif b == 0:\n",
    "    result = -gs(-a)\n",
    "else:\n",
    "    result = -gs(-a) + gs(b)\n",
    "    \n",
    "print(result)"
   ]
  },
  {
   "cell_type": "markdown",
   "metadata": {},
   "source": [
    "### 지능형 기차 2455"
   ]
  },
  {
   "cell_type": "code",
   "execution_count": 75,
   "metadata": {},
   "outputs": [
    {
     "name": "stdout",
     "output_type": "stream",
     "text": [
      "0 32\n",
      "3 13\n",
      "28 25\n",
      "39 0\n",
      "42\n"
     ]
    }
   ],
   "source": [
    "current = 0\n",
    "max_result = 0\n",
    "for _ in range(4):\n",
    "    out_count, in_count = map(int, input().split())\n",
    "    current -= out_count\n",
    "    current += in_count\n",
    "    max_result = max(max_result, current)\n",
    "print(max_result)"
   ]
  },
  {
   "cell_type": "markdown",
   "metadata": {},
   "source": [
    "### 지능형 기차 2 2460"
   ]
  },
  {
   "cell_type": "code",
   "execution_count": null,
   "metadata": {},
   "outputs": [],
   "source": [
    "current = 0\n",
    "max_result = 0\n",
    "for _ in range(10):\n",
    "    out_count, in_count = map(int, input().split())\n",
    "    current -= out_count\n",
    "    current += in_count\n",
    "    max_result = max(max_result, current)\n",
    "print(max_result)"
   ]
  },
  {
   "cell_type": "markdown",
   "metadata": {},
   "source": [
    "### 주사위 게임 2476"
   ]
  },
  {
   "cell_type": "code",
   "execution_count": 77,
   "metadata": {},
   "outputs": [
    {
     "name": "stdout",
     "output_type": "stream",
     "text": [
      "3\n",
      "3 3 6\n",
      "2 2 2\n",
      "6 2 5\n",
      "12000\n"
     ]
    }
   ],
   "source": [
    "n = int(input())\n",
    "max_get = 0\n",
    "for _ in range(n):\n",
    "    get = 0\n",
    "    li = list(map(int, input().split()))\n",
    "    li.sort()\n",
    "    \n",
    "    if li[0] == li[2]:\n",
    "        get = 10000 + li[0] * 1000\n",
    "    elif li[0] == li[1] or li[1] == li[2]:\n",
    "        get = 1000 + li[1] * 100\n",
    "    else:\n",
    "        get = li[2] * 100\n",
    "    max_get = max(max_get, get)\n",
    "    \n",
    "print(max_get)"
   ]
  },
  {
   "cell_type": "markdown",
   "metadata": {},
   "source": [
    "### 약수 구하기 2501"
   ]
  },
  {
   "cell_type": "code",
   "execution_count": 80,
   "metadata": {},
   "outputs": [
    {
     "name": "stdout",
     "output_type": "stream",
     "text": [
      "6 3\n",
      "3\n"
     ]
    }
   ],
   "source": [
    "n, k = list(map(int, input().split()))\n",
    "\n",
    "current = 1\n",
    "result = 0\n",
    "for mod in range(1, n + 1):\n",
    "    if n % mod == 0:\n",
    "        if k == current:\n",
    "            result = mod\n",
    "            break\n",
    "        current += 1\n",
    "        \n",
    "print(result)"
   ]
  },
  {
   "cell_type": "markdown",
   "metadata": {},
   "source": [
    "### 세탁소 사장 동혁 2720"
   ]
  },
  {
   "cell_type": "code",
   "execution_count": null,
   "metadata": {},
   "outputs": [],
   "source": [
    "25 10 5 1"
   ]
  },
  {
   "cell_type": "code",
   "execution_count": 83,
   "metadata": {},
   "outputs": [
    {
     "name": "stdout",
     "output_type": "stream",
     "text": [
      "194\n",
      "7 1 1 4\n"
     ]
    }
   ],
   "source": [
    "for _ in range(int(input())):\n",
    "    n = int(input())\n",
    "\n",
    "    q = n // 25\n",
    "    n %= 25\n",
    "\n",
    "    d = n // 10\n",
    "    n %= 10\n",
    "\n",
    "    ni = n // 5\n",
    "    n %= 5\n",
    "\n",
    "    print(q, d, ni, n)"
   ]
  },
  {
   "cell_type": "markdown",
   "metadata": {},
   "source": [
    "### 삼각 김밥 2783"
   ]
  },
  {
   "cell_type": "code",
   "execution_count": 85,
   "metadata": {},
   "outputs": [
    {
     "name": "stdout",
     "output_type": "stream",
     "text": [
      "30.0\n"
     ]
    }
   ],
   "source": [
    "min_ratio = float('inf')\n",
    "\n",
    "x, y = map(int, input().split())\n",
    "min_ratio = min(min_ratio, x / y)\n",
    "for _ in range(int(input())):\n",
    "    x, y = map(int, input().split())\n",
    "    min_ratio = min(min_ratio, x / y)\n",
    "    \n",
    "print(min_ratio * 1000)"
   ]
  },
  {
   "cell_type": "markdown",
   "metadata": {},
   "source": [
    "### 이게 분수? 2863"
   ]
  },
  {
   "cell_type": "code",
   "execution_count": 89,
   "metadata": {},
   "outputs": [
    {
     "name": "stdout",
     "output_type": "stream",
     "text": [
      "1 2\n",
      "3 4\n",
      "2\n"
     ]
    }
   ],
   "source": [
    "li = [list(map(int, input().split())) for _ in range(2)]\n",
    "\n",
    "def rotate(li):\n",
    "    new_li = [[0, 0], [0, 0]]\n",
    "    for i in range(2):\n",
    "        for j in range(2):\n",
    "            new_li[i][j] = li[1 - j][i]\n",
    "    return new_li\n",
    "\n",
    "def get_value(li):\n",
    "    return li[0][0] / li[1][0] + li[0][1] / li[1][1]\n",
    "\n",
    "max_value = get_value(li)\n",
    "max_value_rotated = 0\n",
    "rotated = 0\n",
    "for _ in range(3):\n",
    "    li = rotate(li)\n",
    "    rotated += 1\n",
    "    value = get_value(li)\n",
    "    if value > max_value:\n",
    "        max_value = value\n",
    "        max_value_rotated = rotated\n",
    "        \n",
    "print(max_value_rotated)"
   ]
  },
  {
   "cell_type": "markdown",
   "metadata": {},
   "source": [
    "### 나는 요리사다 2953"
   ]
  },
  {
   "cell_type": "code",
   "execution_count": null,
   "metadata": {},
   "outputs": [],
   "source": [
    "max_score = -1\n",
    "max_score_person_num = -1\n",
    "\n",
    "for i in range(1, 6):\n",
    "    score = sum(map(int, input().split()))\n",
    "    if score > max_score:\n",
    "        max_score = score\n",
    "        max_score_person_num = i\n",
    "        \n",
    "print(max_score_person_num, max_score)"
   ]
  },
  {
   "cell_type": "markdown",
   "metadata": {},
   "source": [
    "### 거북이 2959"
   ]
  },
  {
   "cell_type": "code",
   "execution_count": 91,
   "metadata": {},
   "outputs": [
    {
     "name": "stdout",
     "output_type": "stream",
     "text": [
      "1 2 3 4\n",
      "3\n"
     ]
    }
   ],
   "source": [
    "li = list(map(int, input().split()))\n",
    "li.sort()\n",
    "print(li[0] * li[2])"
   ]
  },
  {
   "cell_type": "markdown",
   "metadata": {},
   "source": [
    "### 세 수 2985"
   ]
  },
  {
   "cell_type": "code",
   "execution_count": 92,
   "metadata": {
    "scrolled": true
   },
   "outputs": [
    {
     "name": "stdout",
     "output_type": "stream",
     "text": [
      "5 3 8\n",
      "5+3=8\n"
     ]
    }
   ],
   "source": [
    "a, b, c = map(int, input().split())\n",
    "\n",
    "if a + b == c:\n",
    "    print(f'{a}+{b}={c}')\n",
    "elif a - b == c:\n",
    "    print(f'{a}-{b}={c}')\n",
    "elif a * b == c:\n",
    "    print(f'{a}*{b}={c}') \n",
    "elif a / b == c:\n",
    "    print(f'{a}/{b}={c}') \n",
    "elif a == b + c:\n",
    "    print(f'{a}={b}+{c}')\n",
    "elif a == b - c:\n",
    "    print(f'{a}={b}-{c}')\n",
    "elif a == b * c:\n",
    "    print(f'{a}={b}*{c}')\n",
    "elif a == b / c:\n",
    "    print(f'{a}={b}/{c}')"
   ]
  },
  {
   "cell_type": "markdown",
   "metadata": {},
   "source": [
    "### 사나운 개 2991"
   ]
  },
  {
   "cell_type": "code",
   "execution_count": 2,
   "metadata": {},
   "outputs": [
    {
     "name": "stdout",
     "output_type": "stream",
     "text": [
      "2 2 3 3\n",
      "1 3 4\n",
      "2\n",
      "1\n",
      "0\n"
     ]
    }
   ],
   "source": [
    "from itertools import cycle\n",
    "\n",
    "a, b, c, d = map(int, input().split())\n",
    "li = list(map(int, input().split()))\n",
    "\n",
    "for value in li:\n",
    "    dog1 = cycle([1] * a + [0] * b)\n",
    "    dog2 = cycle([1] * c + [0] * d)\n",
    "\n",
    "    current = 0\n",
    "    while True:\n",
    "        current += 1\n",
    "        d1 = next(dog1)\n",
    "        d2 = next(dog2)\n",
    "        if value == current:\n",
    "            print(d1 + d2)\n",
    "            break"
   ]
  },
  {
   "cell_type": "markdown",
   "metadata": {},
   "source": [
    "### 네 번째 수 2997"
   ]
  },
  {
   "cell_type": "code",
   "execution_count": 5,
   "metadata": {},
   "outputs": [
    {
     "name": "stdout",
     "output_type": "stream",
     "text": [
      "1 3 4\n",
      "2\n"
     ]
    }
   ],
   "source": [
    "li = list(map(int, input().split()))\n",
    "li.sort()\n",
    "a = li[1] - li[0]\n",
    "b = li[2] - li[1]\n",
    "\n",
    "result = 0\n",
    "if a == b:\n",
    "    result = li[2] + a\n",
    "elif a < b:\n",
    "    result = li[1] + a\n",
    "elif a > b:\n",
    "    result = li[0] + b\n",
    "    \n",
    "print(result)"
   ]
  },
  {
   "cell_type": "markdown",
   "metadata": {},
   "source": [
    "### 경고 3029"
   ]
  },
  {
   "cell_type": "code",
   "execution_count": 13,
   "metadata": {},
   "outputs": [
    {
     "name": "stdout",
     "output_type": "stream",
     "text": [
      "10:00:00\n",
      "10:00:01\n",
      "00:00:01\n"
     ]
    }
   ],
   "source": [
    "s = input()\n",
    "li = list(map(int, s.split(':')))\n",
    "sh, sm, ss = li\n",
    "\n",
    "s = input()\n",
    "li = list(map(int, s.split(':')))\n",
    "eh, em, es = li\n",
    "\n",
    "total_s = sh * 3600 + sm * 60 + ss\n",
    "total_e = eh * 3600 + em * 60 + es\n",
    "\n",
    "if total_s >= total_e:\n",
    "    total_e += 24 * 3600\n",
    "    \n",
    "waiting_time = total_e - total_s\n",
    "\n",
    "h = waiting_time // 3600\n",
    "waiting_time %= 3600\n",
    "\n",
    "m = waiting_time // 60\n",
    "s = waiting_time % 60\n",
    "\n",
    "h, m, s = str(h), str(m), str(s)\n",
    "\n",
    "def left_pad(value):\n",
    "    if len(value) == 1:\n",
    "        return '0' + value\n",
    "    else:\n",
    "        return value\n",
    "    \n",
    "print(f'{left_pad(h)}:{left_pad(m)}:{left_pad(s)}')"
   ]
  },
  {
   "cell_type": "markdown",
   "metadata": {},
   "source": [
    "### 앵그리 창영 3034"
   ]
  },
  {
   "cell_type": "code",
   "execution_count": 14,
   "metadata": {},
   "outputs": [
    {
     "name": "stdout",
     "output_type": "stream",
     "text": [
      "5 3 4\n",
      "3\n",
      "DA\n",
      "4\n",
      "DA\n",
      "5\n",
      "DA\n",
      "6\n",
      "NE\n",
      "7\n",
      "NE\n"
     ]
    }
   ],
   "source": [
    "n, w, h = map(int, input().split())\n",
    "\n",
    "c = w ** 2 + h ** 2\n",
    "for _ in range(n):\n",
    "    if int(input()) ** 2 <= c:\n",
    "        print('DA')\n",
    "    else:\n",
    "        print('NE')"
   ]
  },
  {
   "cell_type": "markdown",
   "metadata": {},
   "source": [
    "### 택시 기하학 3053"
   ]
  },
  {
   "cell_type": "code",
   "execution_count": 5,
   "metadata": {},
   "outputs": [
    {
     "data": {
      "text/plain": [
       "3.141592653589793"
      ]
     },
     "execution_count": 5,
     "metadata": {},
     "output_type": "execute_result"
    }
   ],
   "source": []
  },
  {
   "cell_type": "code",
   "execution_count": 10,
   "metadata": {},
   "outputs": [
    {
     "name": "stdout",
     "output_type": "stream",
     "text": [
      "1\n",
      "3.141592653589793\n",
      "2\n"
     ]
    }
   ],
   "source": [
    "import math\n",
    "\n",
    "r = int(input())\n",
    "new_r = (r ** 2 * 2) ** (1/2)\n",
    "\n",
    "def get_area(r):\n",
    "    return r ** 2 * math.pi\n",
    "\n",
    "print(get_area(r))\n",
    "print(r * r * 2)"
   ]
  },
  {
   "cell_type": "markdown",
   "metadata": {},
   "source": [
    "### 짝수를 찾아라 3058"
   ]
  },
  {
   "cell_type": "code",
   "execution_count": 11,
   "metadata": {},
   "outputs": [
    {
     "name": "stdout",
     "output_type": "stream",
     "text": [
      "2\n",
      "1 2 3 4 5 6 7\n",
      "12 2\n",
      "13 78 39 42 54 93 86\n",
      "260 42\n"
     ]
    }
   ],
   "source": [
    "t = int(input())\n",
    "for _ in range(t):\n",
    "    li = list(map(int, input().split()))\n",
    "    li.sort()\n",
    "    \n",
    "    evens = []\n",
    "    for value in li:\n",
    "        if value % 2 == 0:\n",
    "            evens.append(value)\n",
    "            \n",
    "    print(sum(evens), evens[0])"
   ]
  },
  {
   "cell_type": "markdown",
   "metadata": {},
   "source": [
    "### 이진수 3460"
   ]
  },
  {
   "cell_type": "code",
   "execution_count": 13,
   "metadata": {},
   "outputs": [
    {
     "name": "stdout",
     "output_type": "stream",
     "text": [
      "1\n",
      "13\n",
      "0 2 3\n"
     ]
    }
   ],
   "source": [
    "t = int(input())\n",
    "for _ in range(t):\n",
    "    n = int(input())\n",
    "    b = bin(n)[2:][::-1]\n",
    "    \n",
    "    result = []\n",
    "    for i in range(len(b)):\n",
    "        if b[i] == '1':\n",
    "            result.append(i)\n",
    "            \n",
    "    print(*result)"
   ]
  },
  {
   "cell_type": "markdown",
   "metadata": {},
   "source": [
    "### Adding Reversed Numbers 3486"
   ]
  },
  {
   "cell_type": "code",
   "execution_count": 14,
   "metadata": {},
   "outputs": [
    {
     "name": "stdout",
     "output_type": "stream",
     "text": [
      "3\n",
      "24 1\n",
      "34\n",
      "4358 754\n",
      "1998\n",
      "305 794\n",
      "1\n"
     ]
    }
   ],
   "source": [
    "for _ in range(int(input())):\n",
    "    a, b = input().split()\n",
    "    \n",
    "    a = a[::-1]\n",
    "    b = b[::-1]\n",
    "    \n",
    "    total = int(a) + int(b)\n",
    "    print(int(str(total)[::-1]))"
   ]
  },
  {
   "cell_type": "markdown",
   "metadata": {},
   "source": [
    "### 받아올림 4388"
   ]
  },
  {
   "cell_type": "code",
   "execution_count": 30,
   "metadata": {},
   "outputs": [
    {
     "name": "stdout",
     "output_type": "stream",
     "text": [
      "999 1\n",
      "3\n",
      "0 0\n"
     ]
    }
   ],
   "source": [
    "def left_pad(a, b):\n",
    "    if len(a) > len(b):\n",
    "        b = '0' * (len(a) - len(b)) + b\n",
    "    elif len(a) < len(b):\n",
    "        a = '0' * (len(b) - len(a)) + a\n",
    "        \n",
    "    return a, b\n",
    "\n",
    "while True:\n",
    "    a, b = input().split()\n",
    "    if a == b == '0':\n",
    "        break\n",
    "    \n",
    "    a, b = left_pad(a, b)\n",
    "\n",
    "    a = a[::-1]\n",
    "    b = b[::-1]\n",
    "\n",
    "    count = 0\n",
    "    carry = 0\n",
    "    for i in range(len(a)):\n",
    "        if int(a[i]) + int(b[i]) + carry >= 10:\n",
    "            count += 1\n",
    "            carry = 1\n",
    "        else:\n",
    "            carry = 0\n",
    "\n",
    "    print(count)"
   ]
  },
  {
   "cell_type": "markdown",
   "metadata": {},
   "source": [
    "### 배수 찾기 4504"
   ]
  },
  {
   "cell_type": "code",
   "execution_count": 32,
   "metadata": {},
   "outputs": [
    {
     "name": "stdout",
     "output_type": "stream",
     "text": [
      "0\n",
      "3\n",
      "3 is NOT a multiple of 0.\n",
      "4\n",
      "4 is NOT a multiple of 0.\n",
      "0\n"
     ]
    }
   ],
   "source": [
    "n = int(input())\n",
    "while True:\n",
    "    value = int(input())\n",
    "    if value == 0:\n",
    "        break\n",
    "        \n",
    "    if n == 0:\n",
    "        print(f'{value} is NOT a multiple of {n}.')\n",
    "        continue\n",
    "        \n",
    "    if value % n == 0:\n",
    "        print(f'{value} is a multiple of {n}.')\n",
    "    else:\n",
    "        print(f'{value} is NOT a multiple of {n}.')"
   ]
  },
  {
   "cell_type": "markdown",
   "metadata": {},
   "source": [
    "### 일반 화학 실험 4766"
   ]
  },
  {
   "cell_type": "code",
   "execution_count": 35,
   "metadata": {},
   "outputs": [
    {
     "name": "stdout",
     "output_type": "stream",
     "text": [
      "10.0\n",
      "12.05\n",
      "30.25\n",
      "20\n",
      "999\n",
      "2.05\n",
      "18.20\n",
      "-10.25\n"
     ]
    }
   ],
   "source": [
    "li = []\n",
    "while True:\n",
    "    value = float(input())\n",
    "    if value == 999:\n",
    "        break\n",
    "    li.append(value)\n",
    "    \n",
    "for i in range(1, len(li)):\n",
    "    diff = li[i] - li[i - 1]\n",
    "    print('%.2f' % diff)"
   ]
  },
  {
   "cell_type": "markdown",
   "metadata": {},
   "source": [
    "### 다음수 4880"
   ]
  },
  {
   "cell_type": "code",
   "execution_count": 36,
   "metadata": {},
   "outputs": [
    {
     "name": "stdout",
     "output_type": "stream",
     "text": [
      "4 7 10\n",
      "AP 13\n",
      "2 6 18\n",
      "GP 54\n",
      "0 0 0\n"
     ]
    }
   ],
   "source": [
    "while True:\n",
    "    a, b, c = map(int, input().split())\n",
    "    if a == b == c:\n",
    "        break\n",
    "    \n",
    "    if b - a == c - b:\n",
    "        print('AP', c + c - b)\n",
    "    else:\n",
    "        print('GP', c * c // b)"
   ]
  },
  {
   "cell_type": "markdown",
   "metadata": {},
   "source": [
    "### 숫자 맞추기 게임 4892"
   ]
  },
  {
   "cell_type": "code",
   "execution_count": 41,
   "metadata": {},
   "outputs": [
    {
     "name": "stdout",
     "output_type": "stream",
     "text": [
      "37\n",
      "1. odd 18\n",
      "38\n",
      "2. even 19\n",
      "0\n"
     ]
    }
   ],
   "source": [
    "i = 1\n",
    "while True:\n",
    "    result = []\n",
    "    result.append(i)\n",
    "\n",
    "    n0 = int(input())\n",
    "    if n0 == 0:\n",
    "        break\n",
    "\n",
    "    n1 = 3 * n0\n",
    "    if n1 % 2 == 0:\n",
    "        n2 = n1 / 2\n",
    "        result.append('even')\n",
    "    else:\n",
    "        n2 = (n1 + 1) / 2\n",
    "        result.append('odd')\n",
    "\n",
    "    n3 = 3 * n2\n",
    "    n4 = int(n3 // 9)\n",
    "    result.append(n4)\n",
    "\n",
    "    print(f'{result[0]}. {result[1]} {result[2]}')\n",
    "    i += 1"
   ]
  },
  {
   "cell_type": "markdown",
   "metadata": {},
   "source": [
    "### TGN 5063"
   ]
  },
  {
   "cell_type": "code",
   "execution_count": 42,
   "metadata": {},
   "outputs": [
    {
     "name": "stdout",
     "output_type": "stream",
     "text": [
      "3\n",
      "0 100 70\n",
      "advertise\n",
      "100 130 30\n",
      "does not matter\n",
      "-100 -70 40\n",
      "do not advertise\n"
     ]
    }
   ],
   "source": [
    "n = int(input())\n",
    "for _ in range(n):\n",
    "    a, b, c = map(int, input().split())\n",
    "    \n",
    "    if a > b - c:\n",
    "        print('do not advertise')\n",
    "    elif a < b - c:\n",
    "        print('advertise')\n",
    "    else:\n",
    "        print('does not matter')"
   ]
  },
  {
   "cell_type": "markdown",
   "metadata": {},
   "source": [
    "### 삼각형과 세 변  5073"
   ]
  },
  {
   "cell_type": "code",
   "execution_count": 44,
   "metadata": {},
   "outputs": [
    {
     "name": "stdout",
     "output_type": "stream",
     "text": [
      "7 7 7\n",
      "Equilateral\n",
      "6 5 4\n",
      "Scalene\n",
      "3 2 5\n",
      "Invalid\n",
      "6 2 6\n",
      "Isosceles\n",
      "0 0 0\n"
     ]
    }
   ],
   "source": [
    "while True:\n",
    "    li = list(map(int, input().split()))\n",
    "    li.sort()\n",
    "    \n",
    "    if li[0] == li[2] == 0:\n",
    "        break\n",
    "        \n",
    "    if li[0] == li[2]:\n",
    "        print('Equilateral')\n",
    "    elif li[0] + li[1] <= li[2]:\n",
    "        print('Invalid')\n",
    "    elif li[0] == li[1] or li[1] == li[2]:\n",
    "        print('Isosceles')\n",
    "    else:\n",
    "        print('Scalene')"
   ]
  },
  {
   "cell_type": "markdown",
   "metadata": {},
   "source": [
    "### 전투 드로이드 가격 5361"
   ]
  },
  {
   "cell_type": "code",
   "execution_count": 46,
   "metadata": {},
   "outputs": [
    {
     "name": "stdout",
     "output_type": "stream",
     "text": [
      "1\n",
      "11 9 8 22 33\n",
      "$16182.54\n"
     ]
    }
   ],
   "source": [
    "for _ in range(int(input())):\n",
    "    a, b, c, d, e = map(int, input().split())\n",
    "\n",
    "    result = a * 350.34 + b * 230.90 + c * 190.55 + d * 125.30 + e * 180.90\n",
    "    print(f\"${'%.2f' % result}\")"
   ]
  },
  {
   "cell_type": "markdown",
   "metadata": {},
   "source": [
    "### 계산기 프로그램 5613"
   ]
  },
  {
   "cell_type": "code",
   "execution_count": 49,
   "metadata": {},
   "outputs": [
    {
     "name": "stdout",
     "output_type": "stream",
     "text": [
      "1\n",
      "+\n",
      "1\n",
      "*\n",
      "2\n",
      "=\n",
      "4\n"
     ]
    }
   ],
   "source": [
    "from collections import deque\n",
    "\n",
    "li = []\n",
    "while True:\n",
    "    value = input()\n",
    "    if value == '=':\n",
    "        break\n",
    "    li.append(value)\n",
    "\n",
    "init = li[0]\n",
    "queue = deque(li[1:])\n",
    "\n",
    "gross = init\n",
    "while queue:\n",
    "    op = queue.popleft()\n",
    "    value = queue.popleft()\n",
    "    \n",
    "    gross = int(eval(f'{gross}{op}{value}'))\n",
    "    \n",
    "print(gross)"
   ]
  },
  {
   "cell_type": "markdown",
   "metadata": {},
   "source": [
    "### 공약수 5618"
   ]
  },
  {
   "cell_type": "code",
   "execution_count": 56,
   "metadata": {},
   "outputs": [
    {
     "name": "stdout",
     "output_type": "stream",
     "text": [
      "2\n",
      "75 125\n",
      "1\n",
      "5\n",
      "25\n"
     ]
    }
   ],
   "source": [
    "import math\n",
    "\n",
    "n = int(input())\n",
    "\n",
    "if n == 2:\n",
    "    a, b = map(int, input().split())\n",
    "    gcd = math.gcd(a, b)\n",
    "else:\n",
    "    a, b, c = map(int, input().split())\n",
    "    gcd = math.gcd(math.gcd(a, b), math.gcd(b, c))\n",
    "    \n",
    "result = []\n",
    "for mod in range(1, int((gcd + 1) ** 0.5) + 1):\n",
    "    if gcd % mod == 0:\n",
    "        result.append(mod)\n",
    "        \n",
    "        temp = gcd // mod\n",
    "        if mod != temp:\n",
    "            result.append(temp)\n",
    "        \n",
    "print('\\n'.join(map(str, sorted(result))))"
   ]
  },
  {
   "cell_type": "markdown",
   "metadata": {},
   "source": [
    "### Hot Dogs 5666"
   ]
  },
  {
   "cell_type": "code",
   "execution_count": null,
   "metadata": {},
   "outputs": [],
   "source": [
    "while True:\n",
    "    try:\n",
    "        a, b = map(int, input().split())\n",
    "        print('%.2f' % (a / b))\n",
    "    except:\n",
    "        break"
   ]
  },
  {
   "cell_type": "markdown",
   "metadata": {},
   "source": [
    "### 팩토리얼 진법 5692"
   ]
  },
  {
   "cell_type": "code",
   "execution_count": 65,
   "metadata": {},
   "outputs": [
    {
     "name": "stdout",
     "output_type": "stream",
     "text": [
      "1\n",
      "1\n",
      "0\n"
     ]
    }
   ],
   "source": [
    "from math import factorial as f\n",
    "import sys\n",
    "# input = sys.stdin.readline\n",
    "\n",
    "while True:\n",
    "    s = input().rstrip()\n",
    "    if s == '0':\n",
    "        break\n",
    "    \n",
    "    s = s[::-1]\n",
    "    \n",
    "    total = 0\n",
    "    for i in range(len(s)):\n",
    "        total += int(s[i]) * f(i + 1)\n",
    "    print(total)"
   ]
  },
  {
   "cell_type": "markdown",
   "metadata": {},
   "source": [
    "### 상근이의 친구들 5717"
   ]
  },
  {
   "cell_type": "code",
   "execution_count": 66,
   "metadata": {},
   "outputs": [
    {
     "name": "stdout",
     "output_type": "stream",
     "text": [
      "2 2\n",
      "4\n",
      "2 3\n",
      "5\n",
      "5 5\n",
      "10\n",
      "1 1\n",
      "2\n",
      "0 0\n"
     ]
    }
   ],
   "source": [
    "import sys\n",
    "# input = sys.stdin.readline\n",
    "\n",
    "while True:\n",
    "    a, b = map(int, input().rstrip().split())\n",
    "    if a == b == 0:\n",
    "        break\n",
    "    \n",
    "    print(a + b)b"
   ]
  },
  {
   "cell_type": "markdown",
   "metadata": {},
   "source": [
    "### 완전 제곱수 6131"
   ]
  },
  {
   "cell_type": "code",
   "execution_count": 70,
   "metadata": {},
   "outputs": [
    {
     "name": "stdout",
     "output_type": "stream",
     "text": [
      "15\n",
      "2\n"
     ]
    }
   ],
   "source": [
    "n = int(input())\n",
    "count = 0\n",
    "\n",
    "for b in range(1, 501):\n",
    "    for a in range(b, 501):\n",
    "        if b ** 2 + n == a ** 2:\n",
    "            count += 1\n",
    "            \n",
    "print(count)"
   ]
  },
  {
   "cell_type": "markdown",
   "metadata": {},
   "source": [
    "### 직각 삼각형의 두 변 6322"
   ]
  },
  {
   "cell_type": "code",
   "execution_count": 75,
   "metadata": {},
   "outputs": [
    {
     "name": "stdout",
     "output_type": "stream",
     "text": [
      "3 4 -1\n",
      "Triangle #1\n",
      "c = 5.000\n",
      "\n",
      "-1 2 7\n",
      "Triangle #2\n",
      "a = 6.708\n",
      "\n",
      "5 -1 3\n",
      "Triangle #3\n",
      "Impossible.\n",
      "\n",
      "0 0 0\n"
     ]
    }
   ],
   "source": [
    "import sys\n",
    "# input = sys.stdin.readline\n",
    "\n",
    "i = 1\n",
    "while True:\n",
    "    a, b, c = map(int, input().rstrip().split())\n",
    "    if a == b == c == 0:\n",
    "        break\n",
    "        \n",
    "    print(f'Triangle #{i}')\n",
    "        \n",
    "    result = []\n",
    "    if a == -1:\n",
    "        result.append('a')\n",
    "        left = (c ** 2 - b ** 2) ** 0.5\n",
    "    elif b == -1:\n",
    "        result.append('b')\n",
    "        left = (c ** 2 - a ** 2) ** 0.5\n",
    "    else:\n",
    "        result.append('c')\n",
    "        left = (a ** 2 + b ** 2) ** 0.5\n",
    "        \n",
    "    li = [a, b, c, left]\n",
    "    del li[li.index(-1)]\n",
    "    \n",
    "    try:\n",
    "        li.sort()\n",
    "\n",
    "        if li[0] + li[1] <= li[2]:\n",
    "            print('Impossible.')\n",
    "        else:\n",
    "            left = '%.3f' % left\n",
    "            print(f'{result[0]} = {left}')\n",
    "    except:\n",
    "        print('Impossible.')\n",
    "        \n",
    "    i += 1\n",
    "    print()"
   ]
  },
  {
   "cell_type": "markdown",
   "metadata": {},
   "source": [
    "### 디지털 루트 6378"
   ]
  },
  {
   "cell_type": "code",
   "execution_count": 78,
   "metadata": {},
   "outputs": [
    {
     "name": "stdout",
     "output_type": "stream",
     "text": [
      "24\n",
      "6\n",
      "39\n",
      "3\n",
      "0\n"
     ]
    }
   ],
   "source": [
    "while True:\n",
    "    n = input()\n",
    "    if n == '0':\n",
    "        break\n",
    "\n",
    "    while len(n) > 1:\n",
    "        new_n = 0\n",
    "        for value in n:\n",
    "            new_n += int(value)\n",
    "\n",
    "        n = str(new_n)\n",
    "    print(n)"
   ]
  },
  {
   "cell_type": "markdown",
   "metadata": {},
   "source": [
    "### 고급 수학 7510"
   ]
  },
  {
   "cell_type": "code",
   "execution_count": 81,
   "metadata": {},
   "outputs": [
    {
     "name": "stdout",
     "output_type": "stream",
     "text": [
      "1\n",
      "Scenario #1:\n",
      "10 12 14\n",
      "no\n",
      "\n"
     ]
    }
   ],
   "source": [
    "n = int(input())\n",
    "for i in range(1, n + 1):\n",
    "    print(f'Scenario #{i}:')\n",
    "    \n",
    "    li = list(map(int, input().split()))\n",
    "    li.sort()\n",
    "    if li[0] ** 2 + li[1] ** 2 == li[2] ** 2:\n",
    "        print('yes')\n",
    "    else:\n",
    "        print('no')\n",
    "    print()"
   ]
  },
  {
   "cell_type": "markdown",
   "metadata": {},
   "source": [
    "### 아즈텍 피라미드 7770"
   ]
  },
  {
   "cell_type": "code",
   "execution_count": 114,
   "metadata": {},
   "outputs": [
    {
     "name": "stdout",
     "output_type": "stream",
     "text": [
      "5\n",
      "1\n"
     ]
    }
   ],
   "source": [
    "n = int(input())\n",
    "\n",
    "def get_sum(num):\n",
    "    return num * (num + 1) // 2\n",
    "\n",
    "current = 1\n",
    "criteria = 6\n",
    "while True:\n",
    "    if n >= criteria:\n",
    "        current += 1\n",
    "        criteria += 4 * get_sum(current) + 1\n",
    "    else:\n",
    "        break\n",
    "        \n",
    "print(current)"
   ]
  },
  {
   "cell_type": "markdown",
   "metadata": {},
   "source": [
    "### 직사각형을 만드는 방법 8320"
   ]
  },
  {
   "cell_type": "code",
   "execution_count": 116,
   "metadata": {},
   "outputs": [
    {
     "name": "stdout",
     "output_type": "stream",
     "text": [
      "6\n",
      "8\n"
     ]
    }
   ],
   "source": [
    "n = int(input())\n",
    "\n",
    "count = 0\n",
    "for i in range(1, n + 1):\n",
    "    for mod in range(1, int((i + 1) ** 0.5) + 1):\n",
    "        if i % mod == 0:\n",
    "            count += 1\n",
    "            \n",
    "print(count)"
   ]
  },
  {
   "cell_type": "markdown",
   "metadata": {},
   "source": [
    "### 더하기 9085"
   ]
  },
  {
   "cell_type": "code",
   "execution_count": null,
   "metadata": {},
   "outputs": [],
   "source": [
    "for _ in range(int(input())):\n",
    "    n = int(input())\n",
    "    li = list(map(int, input().split()))\n",
    "    print(sum(li))"
   ]
  },
  {
   "cell_type": "code",
   "execution_count": 119,
   "metadata": {},
   "outputs": [
    {
     "name": "stdout",
     "output_type": "stream",
     "text": [
      "1\n",
      "1 2\n",
      "Case 1: 3\n"
     ]
    }
   ],
   "source": [
    "t = int(input())\n",
    "for i in range(t):\n",
    "    a, b = map(int, input().split())\n",
    "    print(f'Case {i + 1}: {a + b}')"
   ]
  },
  {
   "cell_type": "markdown",
   "metadata": {},
   "source": [
    "### 얼마? 9325"
   ]
  },
  {
   "cell_type": "code",
   "execution_count": null,
   "metadata": {},
   "outputs": [],
   "source": [
    "for _ in range(int(input())):\n",
    "    total_price = int(input())\n",
    "    n = int(input())\n",
    "    for _ in range(n):\n",
    "        a, b = map(int, input().split())\n",
    "        total_price b+= a * b\n",
    "    print(total_price)"
   ]
  },
  {
   "cell_type": "markdown",
   "metadata": {},
   "source": [
    "### 삼각형 분류 9366"
   ]
  },
  {
   "cell_type": "code",
   "execution_count": 120,
   "metadata": {},
   "outputs": [
    {
     "name": "stdout",
     "output_type": "stream",
     "text": [
      "2\n",
      "3 3 4\n",
      "Case #1: isosceles\n",
      "6 4 2\n",
      "Case #2: invalid!\n"
     ]
    }
   ],
   "source": [
    "for i in range(int(input())):\n",
    "    li = list(map(int, input().split()))\n",
    "    li.sort()\n",
    "    \n",
    "    if li[0] == li[2] == 0:\n",
    "        break\n",
    "        \n",
    "    result = ''\n",
    "    if li[0] == li[2]:\n",
    "        result = 'equilateral'\n",
    "    elif li[0] + li[1] <= li[2]:\n",
    "        result = 'invalid!'\n",
    "    elif li[0] == li[1] or li[1] == li[2]:\n",
    "        result = 'isosceles'\n",
    "    else:\n",
    "        result = 'scalene'\n",
    "        \n",
    "    print(f'Case #{i + 1}: {result}')"
   ]
  },
  {
   "cell_type": "markdown",
   "metadata": {},
   "source": [
    "### 폰 노이만 9469"
   ]
  },
  {
   "cell_type": "code",
   "execution_count": 125,
   "metadata": {},
   "outputs": [
    {
     "name": "stdout",
     "output_type": "stream",
     "text": [
      "1\n",
      "1 250 10 15 20\n",
      "1 200.0\n"
     ]
    }
   ],
   "source": [
    "for _ in range(int(input())):\n",
    "    n, d, a, b, f = map(float, input().split())\n",
    "    result = (d / (a + b)) * f\n",
    "    print(int(n), result)"
   ]
  },
  {
   "cell_type": "markdown",
   "metadata": {},
   "source": [
    "### 꿍의 우주여행 9501"
   ]
  },
  {
   "cell_type": "code",
   "execution_count": 126,
   "metadata": {},
   "outputs": [
    {
     "name": "stdout",
     "output_type": "stream",
     "text": [
      "2\n",
      "3 100\n",
      "52 75 10\n",
      "88 13 44\n",
      "56 9 5\n",
      "2\n",
      "2 920368\n",
      "950 950 1\n",
      "943 976 1\n",
      "1\n"
     ]
    }
   ],
   "source": [
    "for _ in range(int(input())):\n",
    "    n, d = map(int, input().split())\n",
    "    count = 0\n",
    "    for _ in range(n):\n",
    "        v, f, c = map(int, input().split())\n",
    "        if d / v * c <= f:\n",
    "            count += 1\n",
    "    print(count)"
   ]
  },
  {
   "cell_type": "markdown",
   "metadata": {},
   "source": [
    "### 아이들은 사탕을 좋아해 9550"
   ]
  },
  {
   "cell_type": "code",
   "execution_count": 128,
   "metadata": {},
   "outputs": [
    {
     "name": "stdout",
     "output_type": "stream",
     "text": [
      "2\n",
      "3 2\n",
      "4 5 7\n",
      "7\n",
      "3 8\n",
      "4 5 7\n",
      "0\n"
     ]
    }
   ],
   "source": [
    "for _ in range(int(input())):\n",
    "    n, k = map(int, input().split())\n",
    "    li = list(map(int, input().split()))\n",
    "\n",
    "    count = 0\n",
    "    for amount in li:\n",
    "        count += amount // k\n",
    "    \n",
    "    print(count)"
   ]
  },
  {
   "cell_type": "markdown",
   "metadata": {},
   "source": [
    "### Sum of Odd Sequence 9713"
   ]
  },
  {
   "cell_type": "code",
   "execution_count": 129,
   "metadata": {
    "scrolled": true
   },
   "outputs": [
    {
     "name": "stdout",
     "output_type": "stream",
     "text": [
      "3\n",
      "1\n",
      "3\n",
      "5\n",
      "9\n"
     ]
    }
   ],
   "source": [
    "for _ in range(int(input())):\n",
    "    n = int(input())\n",
    "    \n",
    "    sum_value = 0\n",
    "    for i in range(1, n + 1):\n",
    "        if i % 2 == 1:\n",
    "            sum_value += i\n",
    "print(sum_value)"
   ]
  },
  {
   "cell_type": "code",
   "execution_count": 132,
   "metadata": {},
   "outputs": [
    {
     "name": "stdout",
     "output_type": "stream",
     "text": [
      "4\n",
      "5 6\n",
      "6 6\n",
      "4 3\n",
      "5 2\n",
      "94\n",
      "91\n"
     ]
    }
   ],
   "source": [
    "n = int(input())\n",
    "\n",
    "a = b = 100\n",
    "for _ in range(n):\n",
    "    x, y = map(int, input().split())\n",
    "    \n",
    "    if x > y:\n",
    "        b -= x\n",
    "    elif y > x:\n",
    "        a -= y\n",
    "    \n",
    "print(a)\n",
    "print(b)"
   ]
  },
  {
   "cell_type": "markdown",
   "metadata": {},
   "source": [
    "### 할로윈의 사탕 10178"
   ]
  },
  {
   "cell_type": "code",
   "execution_count": 133,
   "metadata": {},
   "outputs": [
    {
     "name": "stdout",
     "output_type": "stream",
     "text": [
      "5\n",
      "22 3\n",
      "You get 7 piece(s) and your dad gets 1 piece(s).\n",
      "15 5\n",
      "You get 3 piece(s) and your dad gets 0 piece(s).\n",
      "99 8\n",
      "You get 12 piece(s) and your dad gets 3 piece(s).\n",
      "7 4\n",
      "You get 1 piece(s) and your dad gets 3 piece(s).\n",
      "101 5\n",
      "You get 20 piece(s) and your dad gets 1 piece(s).\n"
     ]
    }
   ],
   "source": [
    "for _ in range(int(input())):\n",
    "    c, v = map(int, input().split())\n",
    "    print(f'You get {c // v} piece(s) and your dad gets {c % v} piece(s).')"
   ]
  },
  {
   "cell_type": "markdown",
   "metadata": {},
   "source": [
    "### Baseball 10214"
   ]
  },
  {
   "cell_type": "code",
   "execution_count": null,
   "metadata": {},
   "outputs": [],
   "source": [
    "t = int(input())\n",
    "for _ in range(t):\n",
    "    total_y = total_k = 0\n",
    "    for i in range(9):\n",
    "        y, k = map(int, input().split())\n",
    "        if y > k:\n",
    "            total_y += 1\n",
    "        elif y < k:\n",
    "            total_k += 1\n",
    "    if total_y > total_k:\n",
    "        print('Yonsei')\n",
    "    elif total_y < total_k:\n",
    "        print('Korea')\n",
    "    else:\n",
    "        print('Draw')"
   ]
  },
  {
   "cell_type": "markdown",
   "metadata": {},
   "source": [
    "### 서버 10409"
   ]
  },
  {
   "cell_type": "code",
   "execution_count": 151,
   "metadata": {},
   "outputs": [
    {
     "name": "stdout",
     "output_type": "stream",
     "text": [
      "1 1\n",
      "1\n",
      "0\n"
     ]
    }
   ],
   "source": [
    "n, t = map(int, input().split())\n",
    "li = list(map(int, input().split()))\n",
    "\n",
    "current = 0\n",
    "count = 0\n",
    "for value in li:\n",
    "    current += value\n",
    "    if current <= t:\n",
    "        count += 1\n",
    "    else:\n",
    "        break\n",
    "        \n",
    "print(count)"
   ]
  },
  {
   "cell_type": "markdown",
   "metadata": {},
   "source": [
    "### 지각 10419"
   ]
  },
  {
   "cell_type": "code",
   "execution_count": 143,
   "metadata": {},
   "outputs": [
    {
     "name": "stdout",
     "output_type": "stream",
     "text": [
      "5\n",
      "1\n",
      "0\n",
      "2\n",
      "1\n",
      "5\n",
      "1\n",
      "6\n",
      "2\n",
      "7\n",
      "2\n"
     ]
    }
   ],
   "source": [
    "for _ in range(int(input())):\n",
    "    d = int(input())\n",
    "    for t in range(d):\n",
    "        if t ** 2 + t > d:\n",
    "            t -= 1\n",
    "            break\n",
    "    print(t)"
   ]
  },
  {
   "cell_type": "markdown",
   "metadata": {},
   "source": [
    "### 분수좋아해? 10474"
   ]
  },
  {
   "cell_type": "code",
   "execution_count": 144,
   "metadata": {},
   "outputs": [
    {
     "name": "stdout",
     "output_type": "stream",
     "text": [
      "27 12\n",
      "2 3 / 12\n",
      "2460000 98400\n",
      "25 0 / 98400\n",
      "3 4000\n",
      "0 3 / 4000\n",
      "0 0\n"
     ]
    }
   ],
   "source": [
    "while True:\n",
    "    a, b = map(int, input().split())\n",
    "    if a == b == 0:\n",
    "        break\n",
    "    \n",
    "    left = a // b\n",
    "    mid = a - left * b\n",
    "    print(f'{left} {mid} / {b}')"
   ]
  },
  {
   "cell_type": "markdown",
   "metadata": {},
   "source": [
    "### 다면체 10569"
   ]
  },
  {
   "cell_type": "code",
   "execution_count": 145,
   "metadata": {},
   "outputs": [
    {
     "name": "stdout",
     "output_type": "stream",
     "text": [
      "2\n",
      "8 12\n",
      "6\n",
      "4 6\n",
      "4\n"
     ]
    }
   ],
   "source": [
    "for _ in range(int(input())):\n",
    "    v, e = map(int, input().split())\n",
    "    print(2 - v + e)"
   ]
  },
  {
   "cell_type": "markdown",
   "metadata": {},
   "source": [
    "### 페르시아의 왕들 10599"
   ]
  },
  {
   "cell_type": "code",
   "execution_count": 148,
   "metadata": {},
   "outputs": [
    {
     "name": "stdout",
     "output_type": "stream",
     "text": [
      "100 110 180 185\n",
      "70 85\n",
      "-600 -575 -530 -530\n",
      "45 70\n",
      "-25 10 72 86\n",
      "62 111\n",
      "0 0 0 0\n"
     ]
    }
   ],
   "source": [
    "while True:\n",
    "    a, b, c, d = map(int, input().split())\n",
    "    if a == b == c == d == 0:\n",
    "        break\n",
    "        \n",
    "    print(c - b, d - a)"
   ]
  },
  {
   "cell_type": "markdown",
   "metadata": {},
   "source": [
    "### 사과 10833"
   ]
  },
  {
   "cell_type": "code",
   "execution_count": 149,
   "metadata": {},
   "outputs": [
    {
     "name": "stdout",
     "output_type": "stream",
     "text": [
      "3\n",
      "10 20\n",
      "5 5\n",
      "1 13\n",
      "0\n"
     ]
    }
   ],
   "source": [
    "n = int(input())\n",
    "total = 0\n",
    "for _ in range(n):\n",
    "    a, b = map(int, input().split())\n",
    "    total += b % a\n",
    "    \n",
    "print(total)"
   ]
  },
  {
   "cell_type": "markdown",
   "metadata": {},
   "source": [
    "### 벨트 10834"
   ]
  },
  {
   "cell_type": "code",
   "execution_count": 163,
   "metadata": {},
   "outputs": [
    {
     "name": "stdout",
     "output_type": "stream",
     "text": [
      "4\n",
      "1 10 1\n",
      "2 1 1\n",
      "5 6 0\n",
      "3 2 0\n",
      "0 4\n"
     ]
    }
   ],
   "source": [
    "n = int(input())\n",
    "\n",
    "current_dir = 0\n",
    "total_a = 1\n",
    "total_b = 1\n",
    "for _ in range(n):\n",
    "    a, b, c = map(int, input().split())\n",
    "    total_a *= a\n",
    "    total_b *= b\n",
    "    \n",
    "    if c == 1:\n",
    "        current_dir ^= 1\n",
    "\n",
    "    w = total_b // total_a\n",
    "    \n",
    "print(current_dir, w)"
   ]
  },
  {
   "cell_type": "markdown",
   "metadata": {},
   "source": [
    "### 내 학점을 구해줘 10984"
   ]
  },
  {
   "cell_type": "code",
   "execution_count": 165,
   "metadata": {},
   "outputs": [
    {
     "name": "stdout",
     "output_type": "stream",
     "text": [
      "3\n",
      "4 0.0\n",
      "4 0.0\n",
      "3 0.0\n",
      "11 0.0\n"
     ]
    }
   ],
   "source": [
    "for _ in range(int(input())):\n",
    "    n = int(input())\n",
    "    total_c = 0\n",
    "    temp = 0\n",
    "    for _ in range(n):\n",
    "        c, g = map(float, input().split())\n",
    "        c = int(c)\n",
    "\n",
    "        total_c += c\n",
    "        temp += c * g\n",
    "\n",
    "    print(total_c, temp / total_c)"
   ]
  },
  {
   "cell_type": "markdown",
   "metadata": {},
   "source": [
    "### 남욱이의 닭장 11006"
   ]
  },
  {
   "cell_type": "code",
   "execution_count": 168,
   "metadata": {},
   "outputs": [
    {
     "name": "stdout",
     "output_type": "stream",
     "text": [
      "7 5\n",
      "3 2\n"
     ]
    }
   ],
   "source": [
    "for _ in range(int(input())):\n",
    "    n, m = map(int, input().split())\n",
    "\n",
    "    u = m * 2 - n\n",
    "    t = m - u\n",
    "\n",
    "    print(u, t)"
   ]
  },
  {
   "cell_type": "markdown",
   "metadata": {},
   "source": [
    "### 더하기 3 11023"
   ]
  },
  {
   "cell_type": "code",
   "execution_count": 169,
   "metadata": {},
   "outputs": [
    {
     "name": "stdout",
     "output_type": "stream",
     "text": [
      "1 2 3 4 5\n",
      "15\n"
     ]
    }
   ],
   "source": [
    "print(sum(map(int, input().split())))"
   ]
  },
  {
   "cell_type": "markdown",
   "metadata": {},
   "source": [
    "### 더하기 4 11024"
   ]
  },
  {
   "cell_type": "code",
   "execution_count": null,
   "metadata": {},
   "outputs": [],
   "source": [
    "for _ in range(int(input())):\n",
    "    print(sum(map(int, input().split())))"
   ]
  },
  {
   "cell_type": "markdown",
   "metadata": {},
   "source": [
    "### 괴짜 교수 11109"
   ]
  },
  {
   "cell_type": "code",
   "execution_count": 171,
   "metadata": {},
   "outputs": [
    {
     "name": "stdout",
     "output_type": "stream",
     "text": [
      "3\n",
      "10 2 3 2\n",
      "do not parallelize\n",
      "20 5 8 2\n",
      "parallelize\n",
      "0 2 1 1\n",
      "does not matter\n"
     ]
    }
   ],
   "source": [
    "for _ in range(int(input())):\n",
    "    d, n, s, p = map(int, input().split())\n",
    "\n",
    "    pc = d + n * p\n",
    "    npc = n * s\n",
    "\n",
    "    if pc < npc:\n",
    "        print('parallelize')\n",
    "    elif pc > npc:\n",
    "        print('do not parallelize')\n",
    "    else:\n",
    "        print('does not matter')"
   ]
  },
  {
   "cell_type": "markdown",
   "metadata": {},
   "source": [
    "### 쿠키애호가 11134"
   ]
  },
  {
   "cell_type": "code",
   "execution_count": 172,
   "metadata": {},
   "outputs": [
    {
     "name": "stdout",
     "output_type": "stream",
     "text": [
      "2\n",
      "6 2\n",
      "3\n",
      "10 3\n",
      "4\n"
     ]
    }
   ],
   "source": [
    "for _ in range(int(input())):\n",
    "    n, c = map(int, input().split())\n",
    "    count = n // c\n",
    "    if n % c > 0:\n",
    "        count += 1\n",
    "    print(count)"
   ]
  },
  {
   "cell_type": "markdown",
   "metadata": {},
   "source": [
    "### 삼각 무늬 - 1 11320"
   ]
  },
  {
   "cell_type": "code",
   "execution_count": 173,
   "metadata": {},
   "outputs": [
    {
     "name": "stdout",
     "output_type": "stream",
     "text": [
      "2\n",
      "2 1\n",
      "4\n",
      "3 3\n",
      "1\n"
     ]
    }
   ],
   "source": [
    "for _ in range(int(input())):\n",
    "    a, b = map(int, input().split())\n",
    "    print((a // b) ** 2)"
   ]
  },
  {
   "cell_type": "markdown",
   "metadata": {},
   "source": [
    "### POT 11772"
   ]
  },
  {
   "cell_type": "code",
   "execution_count": 174,
   "metadata": {},
   "outputs": [
    {
     "name": "stdout",
     "output_type": "stream",
     "text": [
      "2\n",
      "212\n",
      "1253\n",
      "1953566\n"
     ]
    }
   ],
   "source": [
    "n = int(input())\n",
    "total = 0\n",
    "for _ in range(n):\n",
    "    s = input()\n",
    "    left = int(s[:-1])\n",
    "    right = int(s[-1])\n",
    "    total += left ** right\n",
    "    \n",
    "print(total)"
   ]
  },
  {
   "cell_type": "markdown",
   "metadata": {},
   "source": [
    "### 2의 제곱인가? 11966"
   ]
  },
  {
   "cell_type": "code",
   "execution_count": 181,
   "metadata": {},
   "outputs": [
    {
     "name": "stdout",
     "output_type": "stream",
     "text": [
      "6\n",
      "0\n"
     ]
    }
   ],
   "source": [
    "from math import log2\n",
    "\n",
    "n = int(input())\n",
    "if log2(n) == int(log2(n)):\n",
    "    print(1)\n",
    "else:\n",
    "    print(0)"
   ]
  },
  {
   "cell_type": "markdown",
   "metadata": {},
   "source": [
    "### 고급 여관 12756"
   ]
  },
  {
   "cell_type": "code",
   "execution_count": 183,
   "metadata": {},
   "outputs": [
    {
     "name": "stdout",
     "output_type": "stream",
     "text": [
      "4 12\n",
      "5 5\n",
      "PLAYER A\n"
     ]
    }
   ],
   "source": [
    "aa, al = map(int, input().split())\n",
    "ba, bl = map(int, input().split())\n",
    "\n",
    "while al > 0 and bl > 0:\n",
    "    al -= ba\n",
    "    bl -= aa\n",
    "    \n",
    "if al <= 0 and bl <= 0:\n",
    "    print('DRAW')\n",
    "elif al <= 0:\n",
    "    print('PLAYER B')\n",
    "else:\n",
    "    print('PLAYER A')"
   ]
  },
  {
   "cell_type": "markdown",
   "metadata": {},
   "source": [
    "### Mini Fantasy War 12790"
   ]
  },
  {
   "cell_type": "code",
   "execution_count": 184,
   "metadata": {},
   "outputs": [
    {
     "name": "stdout",
     "output_type": "stream",
     "text": [
      "1\n",
      "100 100 100 100 -200 0 400 400\n",
      "2501\n"
     ]
    }
   ],
   "source": [
    "for _ in range(int(input())):\n",
    "    h, m, a, d, dh, dm, da, dd = map(int, input().split())\n",
    "    h += dh\n",
    "    m += dm\n",
    "    a += da\n",
    "    d += dd\n",
    "    \n",
    "    h = max(h, 1)\n",
    "    m = max(m, 1)\n",
    "    a = max(a, 0)\n",
    "    \n",
    "    print(h + 5 * m + 2 * a + 2 * d)"
   ]
  },
  {
   "cell_type": "markdown",
   "metadata": {},
   "source": [
    "### XORXORXOR 12833"
   ]
  },
  {
   "cell_type": "code",
   "execution_count": 186,
   "metadata": {},
   "outputs": [
    {
     "name": "stdout",
     "output_type": "stream",
     "text": [
      "13 3 1\n",
      "14\n"
     ]
    }
   ],
   "source": [
    "a, b, c = map(int, input().split())\n",
    "\n",
    "if c % 2 == 0:\n",
    "    print(a)\n",
    "else:\n",
    "    print(a ^ b)"
   ]
  },
  {
   "cell_type": "markdown",
   "metadata": {},
   "source": [
    "### 행운의 편지 13311"
   ]
  },
  {
   "cell_type": "code",
   "execution_count": 69,
   "metadata": {},
   "outputs": [],
   "source": [
    "def check(num):\n",
    "    for mod in range(2, 1001):\n",
    "        if num % mod != mod - 1:\n",
    "            return False\n",
    "    return True"
   ]
  },
  {
   "cell_type": "code",
   "execution_count": 56,
   "metadata": {},
   "outputs": [
    {
     "data": {
      "text/plain": [
       "True"
      ]
     },
     "execution_count": 56,
     "metadata": {},
     "output_type": "execute_result"
    }
   ],
   "source": [
    "check(current)"
   ]
  },
  {
   "cell_type": "code",
   "execution_count": 70,
   "metadata": {},
   "outputs": [],
   "source": [
    "current = 1\n",
    "for i in range(2, 1001):\n",
    "    current *= i"
   ]
  },
  {
   "cell_type": "code",
   "execution_count": 72,
   "metadata": {},
   "outputs": [
    {
     "data": {
      "text/plain": [
       "2568"
      ]
     },
     "execution_count": 72,
     "metadata": {},
     "output_type": "execute_result"
    }
   ],
   "source": [
    "len(str(current))"
   ]
  },
  {
   "cell_type": "code",
   "execution_count": 37,
   "metadata": {},
   "outputs": [
    {
     "data": {
      "text/plain": [
       "2562"
      ]
     },
     "execution_count": 37,
     "metadata": {},
     "output_type": "execute_result"
    }
   ],
   "source": [
    "len(str(current // 1000000 - 1))"
   ]
  },
  {
   "cell_type": "code",
   "execution_count": 65,
   "metadata": {},
   "outputs": [
    {
     "data": {
      "text/plain": [
       "3"
      ]
     },
     "execution_count": 65,
     "metadata": {},
     "output_type": "execute_result"
    }
   ],
   "source": [
    "current % 349"
   ]
  },
  {
   "cell_type": "code",
   "execution_count": 71,
   "metadata": {},
   "outputs": [
    {
     "ename": "KeyboardInterrupt",
     "evalue": "",
     "output_type": "error",
     "traceback": [
      "\u001b[1;31m------------------------------------------------------------------\u001b[0m",
      "\u001b[1;31mKeyboardInterrupt\u001b[0m                Traceback (most recent call last)",
      "\u001b[1;32m<ipython-input-71-df13c8e819b7>\u001b[0m in \u001b[0;36m<module>\u001b[1;34m\u001b[0m\n\u001b[0;32m      1\u001b[0m \u001b[0mcurrent\u001b[0m \u001b[1;33m-=\u001b[0m \u001b[1;36m1\u001b[0m\u001b[1;33m\u001b[0m\u001b[1;33m\u001b[0m\u001b[0m\n\u001b[0;32m      2\u001b[0m \u001b[0mmod\u001b[0m \u001b[1;33m=\u001b[0m \u001b[1;36m2\u001b[0m\u001b[1;33m\u001b[0m\u001b[1;33m\u001b[0m\u001b[0m\n\u001b[1;32m----> 3\u001b[1;33m \u001b[1;32mwhile\u001b[0m \u001b[0mlen\u001b[0m\u001b[1;33m(\u001b[0m\u001b[0mstr\u001b[0m\u001b[1;33m(\u001b[0m\u001b[0mcurrent\u001b[0m\u001b[1;33m)\u001b[0m\u001b[1;33m)\u001b[0m \u001b[1;33m>=\u001b[0m \u001b[1;36m433\u001b[0m\u001b[1;33m:\u001b[0m\u001b[1;33m\u001b[0m\u001b[1;33m\u001b[0m\u001b[0m\n\u001b[0m\u001b[0;32m      4\u001b[0m     \u001b[1;32mif\u001b[0m \u001b[0mcurrent\u001b[0m \u001b[1;33m%\u001b[0m \u001b[0mmod\u001b[0m \u001b[1;33m==\u001b[0m \u001b[1;36m0\u001b[0m\u001b[1;33m:\u001b[0m\u001b[1;33m\u001b[0m\u001b[1;33m\u001b[0m\u001b[0m\n\u001b[0;32m      5\u001b[0m         \u001b[0mcurrent\u001b[0m \u001b[1;33m//=\u001b[0m \u001b[0mmod\u001b[0m\u001b[1;33m\u001b[0m\u001b[1;33m\u001b[0m\u001b[0m\n",
      "\u001b[1;31mKeyboardInterrupt\u001b[0m: "
     ]
    }
   ],
   "source": [
    "current -= 1\n",
    "mod = 2\n",
    "while len(str(current)) >= 433:\n",
    "    if current % mod == 0:\n",
    "        current //= mod\n",
    "    else:\n",
    "        mod += 1"
   ]
  },
  {
   "cell_type": "code",
   "execution_count": 61,
   "metadata": {},
   "outputs": [
    {
     "data": {
      "text/plain": [
       "626361400059311759376494521108008072222083438546002382609933207406870686372099083757122298490256714482790589682722591855669967730456254748858392123596898449702053715983785308959537620386377422527811689384167372483890899878564859738253327433085032403734526369346302893139984260529011927231552565324841502237496401832968779096259933739545983317440110255447631967742932256835003421626228005337888260832111398119636492970919122898208700"
      ]
     },
     "execution_count": 61,
     "metadata": {},
     "output_type": "execute_result"
    }
   ],
   "source": [
    "current"
   ]
  },
  {
   "cell_type": "code",
   "execution_count": 52,
   "metadata": {},
   "outputs": [
    {
     "data": {
      "text/plain": [
       "329"
      ]
     },
     "execution_count": 52,
     "metadata": {},
     "output_type": "execute_result"
    }
   ],
   "source": [
    "current % 330"
   ]
  },
  {
   "cell_type": "code",
   "execution_count": 54,
   "metadata": {},
   "outputs": [
    {
     "data": {
      "text/plain": [
       "999"
      ]
     },
     "execution_count": 54,
     "metadata": {},
     "output_type": "execute_result"
    }
   ],
   "source": [
    "current % 1000"
   ]
  },
  {
   "cell_type": "markdown",
   "metadata": {},
   "source": [
    "### 치킨 두 마리 (...) 14489"
   ]
  },
  {
   "cell_type": "code",
   "execution_count": 209,
   "metadata": {},
   "outputs": [
    {
     "name": "stdout",
     "output_type": "stream",
     "text": [
      "15000 6000\n",
      "5000\n",
      "16000\n"
     ]
    }
   ],
   "source": [
    "a, b = map(int, input().split())\n",
    "p = int(input())\n",
    "\n",
    "total = a + b\n",
    "if total < p * 2:\n",
    "    print(total)\n",
    "else:\n",
    "    print(total - p * 2)"
   ]
  },
  {
   "cell_type": "code",
   "execution_count": null,
   "metadata": {},
   "outputs": [],
   "source": []
  }
 ],
 "metadata": {
  "kernelspec": {
   "display_name": "Python 3",
   "language": "python",
   "name": "python3"
  },
  "language_info": {
   "codemirror_mode": {
    "name": "ipython",
    "version": 3
   },
   "file_extension": ".py",
   "mimetype": "text/x-python",
   "name": "python",
   "nbconvert_exporter": "python",
   "pygments_lexer": "ipython3",
   "version": "3.7.3"
  }
 },
 "nbformat": 4,
 "nbformat_minor": 4
}
