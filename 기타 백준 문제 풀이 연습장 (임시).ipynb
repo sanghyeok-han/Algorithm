{
 "cells": [
  {
   "cell_type": "markdown",
   "metadata": {},
   "source": [
    "### DNA 1969\n",
    "- 브루트포스"
   ]
  },
  {
   "cell_type": "code",
   "execution_count": 1,
   "metadata": {},
   "outputs": [
    {
     "name": "stdout",
     "output_type": "stream",
     "text": [
      "5 8\n",
      "TATGATAC\n",
      "TAAGCTAC\n",
      "AAAGATCC\n",
      "TGAGATAC\n",
      "TAAGATGT\n"
     ]
    }
   ],
   "source": [
    "n, m = map(int, input().split())\n",
    "li = []\n",
    "for _ in range(n):\n",
    "    li.append(input())"
   ]
  },
  {
   "cell_type": "code",
   "execution_count": 18,
   "metadata": {},
   "outputs": [
    {
     "name": "stdout",
     "output_type": "stream",
     "text": [
      "[10, 10, 12, 10, 12]\n"
     ]
    }
   ],
   "source": [
    "# 접근 방식이 잘못되었음, 기존에 있는 것들 중 찾는 것이 아니라 새로운 것을 구하는 것이었음\n",
    "from collections import Counter, defaultdict\n",
    "\n",
    "hamming_distance = [0] * n\n",
    "\n",
    "zipped_li = zip(*li)\n",
    "for i, v_li in enumerate(zipped_li):\n",
    "    c = Counter(v_li)\n",
    "    d = defaultdict(int, c)\n",
    "    to_add_d = defaultdict()\n",
    "    \n",
    "    \n",
    "    to_add_d['T'] = d['A'] + d['C'] + d['G']\n",
    "    to_add_d['A'] = d['T'] + d['C'] + d['G']\n",
    "    to_add_d['C'] = d['A'] + d['T'] + d['G']\n",
    "    to_add_d['G'] = d['A'] + d['C'] + d['T']\n",
    "    \n",
    "    for j in range(n):\n",
    "        hamming_distance[j] += to_add_d[li[j][i]]\n",
    "    \n",
    "print(hamming_distance)"
   ]
  },
  {
   "cell_type": "code",
   "execution_count": 42,
   "metadata": {},
   "outputs": [
    {
     "name": "stdout",
     "output_type": "stream",
     "text": [
      "6 10\n",
      "ATGTTACCAT\n",
      "AAGTTACGAT\n",
      "AACAAAGCAA\n",
      "AAGTTACCTT\n",
      "AAGTTACCAA\n",
      "TACTTACCAA\n",
      "AAGTTACCAA\n",
      "12\n"
     ]
    }
   ],
   "source": [
    "from collections import Counter\n",
    "\n",
    "n, m = map(int, input().split())\n",
    "li = []\n",
    "for _ in range(n):\n",
    "    li.append(input())\n",
    "\n",
    "result_s = \"\"\n",
    "hamming_distance = 0\n",
    "\n",
    "zipped_li = zip(*li)\n",
    "for v_li in zipped_li:\n",
    "    c = Counter(v_li)\n",
    "    most_commons = c.most_common()\n",
    "    max_common_num = max([v[1] for v in most_commons])\n",
    "    most_commons = [v for v in most_commons if v[1] == max_common_num]\n",
    "    most_common = sorted(most_commons)[0]\n",
    "    result_s += most_common[0]\n",
    "    hamming_distance += n - most_common[1]\n",
    "    \n",
    "print(result_s)\n",
    "print(hamming_distance)"
   ]
  },
  {
   "cell_type": "code",
   "execution_count": null,
   "metadata": {},
   "outputs": [],
   "source": [
    "# 다른 사람 코드 (didtjdgns852), sort하는 법 참고 가능\n",
    "\n",
    "#1969\n",
    "N, M = map(int, input().split())\n",
    "data = [list(input()) for _ in range(N)]\n",
    "answer = \"\"\n",
    "num = 0\n",
    "for i in range(M):\n",
    "    dic = {}\n",
    "    for el in data:\n",
    "        tmp = el[i]\n",
    "        if dic.get(tmp):\n",
    "            dic[tmp] += 1\n",
    "        else:\n",
    "            dic[tmp] = 1\n",
    "    val = sorted(dic.items(), key=lambda x:(-x[1], x[0]))\n",
    "    answer += val[0][0]\n",
    "    for j in range(1, len(val)):\n",
    "        num += val[j][1]\n",
    "print(answer)\n",
    "print(num)"
   ]
  },
  {
   "cell_type": "markdown",
   "metadata": {},
   "source": [
    "### 카드 놓기 5568\n",
    "- 브루트포스 알고리즘, 해시를 사용한 집합과 맵"
   ]
  },
  {
   "cell_type": "code",
   "execution_count": 47,
   "metadata": {},
   "outputs": [
    {
     "data": {
      "text/plain": [
       "['1', '2', '12', '1']"
      ]
     },
     "execution_count": 47,
     "metadata": {},
     "output_type": "execute_result"
    }
   ],
   "source": [
    "li"
   ]
  },
  {
   "cell_type": "code",
   "execution_count": 50,
   "metadata": {},
   "outputs": [
    {
     "name": "stdout",
     "output_type": "stream",
     "text": [
      "4\n",
      "2\n",
      "1\n",
      "2\n",
      "12\n",
      "1\n",
      "7\n"
     ]
    }
   ],
   "source": [
    "from itertools import permutations\n",
    "\n",
    "n = int(input())\n",
    "k = int(input())\n",
    "li =[]\n",
    "for _ in range(n):\n",
    "    li.append(input())\n",
    "\n",
    "cases = set()\n",
    "p = permutations(li, k)\n",
    "for v in p:\n",
    "    cases.add(\"\".join(v))\n",
    "\n",
    "print(len(cases))"
   ]
  },
  {
   "cell_type": "markdown",
   "metadata": {},
   "source": [
    "### 이장님 초대 9237\n",
    "- 정렬"
   ]
  },
  {
   "cell_type": "code",
   "execution_count": 56,
   "metadata": {},
   "outputs": [
    {
     "name": "stdout",
     "output_type": "stream",
     "text": [
      "6\n",
      "39 38 9 35 39 20\n",
      "42\n"
     ]
    }
   ],
   "source": [
    "n = int(input())\n",
    "li = list(map(int, input().split()))\n",
    "\n",
    "li.sort(reverse=True)\n",
    "\n",
    "additionals = []\n",
    "for i in range(n):\n",
    "    additionals.append(max(0, li[i] - (n - 1 - i)))\n",
    "    \n",
    "print(n + max(additionals) + 1)"
   ]
  },
  {
   "cell_type": "code",
   "execution_count": 58,
   "metadata": {},
   "outputs": [
    {
     "name": "stdout",
     "output_type": "stream",
     "text": [
      "6\n",
      "39 38 9 35 39 20\n",
      "42\n"
     ]
    }
   ],
   "source": [
    "# 숏코딩\n",
    "p=input;n=int(p());li=sorted(map(int,p().split()),reverse=True);a=[]\n",
    "for i in range(n):a.append(max(0,li[i]-(n-1-i)))    \n",
    "print(n+max(a)+1)"
   ]
  },
  {
   "cell_type": "markdown",
   "metadata": {},
   "source": [
    "### 30 10610\n",
    "- 수학, 정렬"
   ]
  },
  {
   "cell_type": "code",
   "execution_count": 8,
   "metadata": {},
   "outputs": [
    {
     "name": "stdout",
     "output_type": "stream",
     "text": [
      "102\n",
      "210\n"
     ]
    }
   ],
   "source": [
    "n = list(input())\n",
    "n = int(\"\".join(sorted(n, reverse=True)))\n",
    "if n % 30 == 0:\n",
    "    print(n)\n",
    "else:\n",
    "    print(-1)"
   ]
  },
  {
   "cell_type": "markdown",
   "metadata": {},
   "source": [
    "### 배열 합치기 11728\n",
    "- 정렬"
   ]
  },
  {
   "cell_type": "code",
   "execution_count": 12,
   "metadata": {},
   "outputs": [
    {
     "name": "stdout",
     "output_type": "stream",
     "text": [
      "4 3\n",
      "2 3 5 9\n",
      "1 4 7\n",
      "1 2 3 4 5 7 9\n"
     ]
    }
   ],
   "source": [
    "n, m = map(int, input().split())\n",
    "li1 = list(map(int, input().split()))\n",
    "li2 = list(map(int, input().split()))\n",
    "print(\" \".join(map(str, sorted((li1 + li2)))))"
   ]
  },
  {
   "cell_type": "markdown",
   "metadata": {},
   "source": [
    "### 듣보잡 1764\n",
    "- 문자열, 정렬, 이분 탐색"
   ]
  },
  {
   "cell_type": "code",
   "execution_count": 17,
   "metadata": {},
   "outputs": [
    {
     "name": "stdout",
     "output_type": "stream",
     "text": [
      "2 3\n",
      "a\n",
      "b\n",
      "a\n",
      "a\n",
      "b\n",
      "2\n",
      "a\n",
      "b\n"
     ]
    }
   ],
   "source": [
    "# inport sys로 받을 시 마지막에 .strip() 안붙히면 출력 형식이 잘못되었습니다 뜸\n",
    "n, m = map(int, input().split())\n",
    "set1 = set()\n",
    "for _ in range(n):\n",
    "    set1.add(input())\n",
    "    \n",
    "set2 = set()\n",
    "for _ in range(m):\n",
    "    set2.add(input())\n",
    "    \n",
    "result_set =  set1 & set2\n",
    "print(len(result_set))\n",
    "result_set = sorted(result_set)\n",
    "for v in result_set:\n",
    "    print(v.strip())"
   ]
  },
  {
   "cell_type": "markdown",
   "metadata": {},
   "source": [
    "### 사탕 게임 3085\n",
    "- 브루트 포스"
   ]
  },
  {
   "cell_type": "code",
   "execution_count": 43,
   "metadata": {},
   "outputs": [
    {
     "data": {
      "text/plain": [
       "[['Y', 'C', 'P', 'Z', 'Y'],\n",
       " ['C', 'Y', 'Z', 'Z', 'P'],\n",
       " ['C', 'C', 'P', 'P', 'P'],\n",
       " ['Y', 'C', 'Y', 'Z', 'C'],\n",
       " ['C', 'P', 'P', 'Z', 'Z']]"
      ]
     },
     "execution_count": 43,
     "metadata": {},
     "output_type": "execute_result"
    }
   ],
   "source": [
    "li"
   ]
  },
  {
   "cell_type": "code",
   "execution_count": 42,
   "metadata": {},
   "outputs": [
    {
     "data": {
      "text/plain": [
       "[['Y', 'C', 'C', 'Y', 'C'],\n",
       " ['C', 'Y', 'C', 'C', 'P'],\n",
       " ['P', 'Z', 'P', 'Y', 'P'],\n",
       " ['Z', 'Z', 'P', 'Z', 'Z'],\n",
       " ['Y', 'P', 'P', 'C', 'Z']]"
      ]
     },
     "execution_count": 42,
     "metadata": {},
     "output_type": "execute_result"
    }
   ],
   "source": [
    "t_li"
   ]
  },
  {
   "cell_type": "code",
   "execution_count": 83,
   "metadata": {},
   "outputs": [
    {
     "name": "stdout",
     "output_type": "stream",
     "text": [
      "5\n",
      "CCCCC\n",
      "CCCCC\n",
      "CCCCC\n",
      "CCCCC\n",
      "CCCCA\n",
      "5\n"
     ]
    }
   ],
   "source": [
    "import sys\n",
    "# input = sys.stdin.readline\n",
    "\n",
    "n = int(input())\n",
    "li = []\n",
    "for _ in range(n):\n",
    "    li.append(list(input()))\n",
    "\n",
    "t_li = list(zip(*li))\n",
    "t_li = list(map(list, t_li))\n",
    "\n",
    "def sequential_counter(x):\n",
    "    last = \"\"\n",
    "    \n",
    "    partial_max_count = 0\n",
    "    count = 0\n",
    "    for v in x:\n",
    "        if not last:\n",
    "            last = v\n",
    "            count = 1\n",
    "            continue\n",
    "        if v == last:\n",
    "            count += 1\n",
    "        else:\n",
    "            last = v\n",
    "            if partial_max_count < count:\n",
    "                partial_max_count = count\n",
    "            count = 1\n",
    "            \n",
    "    if partial_max_count < count:\n",
    "        partial_max_count = count\n",
    "    \n",
    "    return partial_max_count\n",
    "\n",
    "\n",
    "max_count = 1\n",
    "\n",
    "\n",
    "# 이동과 무관한 케이스\n",
    "for i in range(n):\n",
    "    partial_max_count = sequential_counter(li[i])\n",
    "    if partial_max_count > max_count:\n",
    "            max_count = partial_max_count\n",
    "    partial_max_count = sequential_counter(t_li[i])\n",
    "    if partial_max_count > max_count:\n",
    "            max_count = partial_max_count    \n",
    "\n",
    "# 오른쪽으로 이동하는 케이스\n",
    "for i in range(n):\n",
    "    for j in range(1, n):\n",
    "        replaced_value = li[i][j - 1]\n",
    "        \n",
    "        # 오른쪽 중에서 확인\n",
    "        partial = [replaced_value] + li[i][j + 1:]\n",
    "        partial_max_count = sequential_counter(partial)\n",
    "        if partial_max_count > max_count:\n",
    "            max_count = partial_max_count\n",
    "        \n",
    "        # 세로열에서 확인\n",
    "        partial = t_li[j][:]\n",
    "        partial[i] = replaced_value\n",
    "        partial_max_count = sequential_counter(partial)\n",
    "        if partial_max_count > max_count:\n",
    "            max_count = partial_max_count\n",
    "            \n",
    "# 왼쪽으로 이동하는 케이스\n",
    "for i in range(n):\n",
    "    for j in range(0, n - 1):\n",
    "        replaced_value = li[i][j + 1]\n",
    "        \n",
    "        # 왼쪽 중에서 확인\n",
    "        partial = li[i][:j] + [replaced_value]\n",
    "        partial_max_count = sequential_counter(partial)\n",
    "        if partial_max_count > max_count:\n",
    "            max_count = partial_max_count\n",
    "        \n",
    "        # 해당 열에서 확인\n",
    "        partial = t_li[j][:]\n",
    "        partial[i] = replaced_value\n",
    "        partial_max_count = sequential_counter(partial)\n",
    "        if partial_max_count > max_count:\n",
    "            max_count = partial_max_count\n",
    "            \n",
    "# 위쪽으로 이동하는 케이스\n",
    "for i in range(0, n - 1):\n",
    "    for j in range(n):\n",
    "        replaced_value = li[i + 1][j]\n",
    "        \n",
    "        # 위쪽 중에서 확인\n",
    "        partial = t_li[j][:i] + [replaced_value]\n",
    "        partial_max_count = sequential_counter(partial)\n",
    "        if partial_max_count > max_count:\n",
    "            max_count = partial_max_count\n",
    "        \n",
    "        # 해당 행에서 확인\n",
    "        partial = li[i][:]\n",
    "        partial[j] = replaced_value\n",
    "        partial_max_count = sequential_counter(partial)\n",
    "        if partial_max_count > max_count:\n",
    "            max_count = partial_max_count\n",
    "            \n",
    "# 아래쪽으로 이동하는 케이스\n",
    "for i in range(1, n):\n",
    "    for j in range(n):\n",
    "        replaced_value = li[i - 1][j]\n",
    "        \n",
    "        # 아래쪽 중에서 확인\n",
    "        partial = [replaced_value] + t_li[j][i + 1:]\n",
    "        partial_max_count = sequential_counter(partial)\n",
    "        if partial_max_count > max_count:\n",
    "            max_count = partial_max_count\n",
    "        \n",
    "        # 해당 행에서 확인\n",
    "        partial = li[i][:]\n",
    "        partial[j] = replaced_value\n",
    "        partial_max_count = sequential_counter(partial)\n",
    "        if partial_max_count > max_count:\n",
    "            max_count = partial_max_count\n",
    "            \n",
    "print(max_count)"
   ]
  },
  {
   "cell_type": "markdown",
   "metadata": {},
   "source": [
    "### 국영수 10825\n",
    "- 정렬"
   ]
  },
  {
   "cell_type": "code",
   "execution_count": 87,
   "metadata": {},
   "outputs": [
    {
     "name": "stdout",
     "output_type": "stream",
     "text": [
      "3\n",
      "Taewhan 50 60 90\n",
      "Donghyuk 80 60 100\n",
      "Sei 70 70 70\n",
      "Donghyuk\n",
      "Sei\n",
      "Taewhan\n"
     ]
    }
   ],
   "source": [
    "n = int(input())\n",
    "li = []\n",
    "for _ in range(n):\n",
    "    s, a, b, c = input().split()\n",
    "    a = int(a)\n",
    "    b = int(b)\n",
    "    c = int(c)\n",
    "    li.append((s, a, b, c))\n",
    "    \n",
    "li.sort(key=lambda x: (-x[1], x[2], -x[3], x[0]))\n",
    "for s, _, _, _ in li:\n",
    "    print(s)"
   ]
  },
  {
   "cell_type": "markdown",
   "metadata": {},
   "source": [
    "### 카드 11652\n",
    "- 정렬"
   ]
  },
  {
   "cell_type": "code",
   "execution_count": 100,
   "metadata": {},
   "outputs": [
    {
     "name": "stdout",
     "output_type": "stream",
     "text": [
      "6\n",
      "1\n",
      "2\n",
      "1\n",
      "2\n",
      "1\n",
      "2\n",
      "1\n"
     ]
    }
   ],
   "source": [
    "from collections import defaultdict\n",
    "n = int(input())\n",
    "d = defaultdict(int)\n",
    "for _ in range(n):\n",
    "    d[int(input())] += 1\n",
    "\n",
    "print(sorted(list(d.items()), key=lambda x: (-x[1], x[0]))[0][0])"
   ]
  },
  {
   "cell_type": "code",
   "execution_count": 98,
   "metadata": {},
   "outputs": [
    {
     "data": {
      "text/plain": [
       "1"
      ]
     },
     "execution_count": 98,
     "metadata": {},
     "output_type": "execute_result"
    }
   ],
   "source": [
    "# 숏코딩\n",
    "from collections import defaultdict;import sys;p=sys.stdin.readline;d=defaultdict(int)\n",
    "for _ in range(int(p())):d[int(p())]+=1\n",
    "print(sorted(list(d.items()),key=lambda x:(-x[1],x[0]))[0][0])"
   ]
  },
  {
   "cell_type": "markdown",
   "metadata": {},
   "source": [
    "### 소인수분해 11653\n",
    "- 수학, 정수론, 소수 판정"
   ]
  },
  {
   "cell_type": "code",
   "execution_count": 110,
   "metadata": {},
   "outputs": [
    {
     "name": "stdout",
     "output_type": "stream",
     "text": [
      "21\n",
      "3\n",
      "7\n"
     ]
    }
   ],
   "source": [
    "n = int(input())\n",
    "li = [True] * (n + 1)\n",
    "li[0] = li[1] = False\n",
    "\n",
    "for i in range(2, int(n ** (1/2) + 1)):\n",
    "    if li[i]:\n",
    "        for j in range(i * i, n + 1, i):\n",
    "            li[j] = False\n",
    "\n",
    "primes = []\n",
    "for i, v in enumerate(li):\n",
    "    if v:\n",
    "        primes.append(i)\n",
    "        \n",
    "for p in primes:\n",
    "    while True:\n",
    "        if n % p == 0:\n",
    "            print(p)\n",
    "            n /= p\n",
    "        else:\n",
    "            break"
   ]
  },
  {
   "cell_type": "code",
   "execution_count": 104,
   "metadata": {},
   "outputs": [
    {
     "name": "stdout",
     "output_type": "stream",
     "text": [
      "2\n",
      "2\n",
      "2\n",
      "3\n",
      "3\n"
     ]
    }
   ],
   "source": [
    "for p in primes:\n",
    "    while True:\n",
    "        if n % p == 0:\n",
    "            print(p)\n",
    "            n /= p\n",
    "        else:\n",
    "            break"
   ]
  },
  {
   "cell_type": "markdown",
   "metadata": {},
   "source": [
    "### 토너먼트 1057\n",
    "- 수학, 브루트포스"
   ]
  },
  {
   "cell_type": "code",
   "execution_count": null,
   "metadata": {},
   "outputs": [],
   "source": [
    "n이 1이면 -1 출력\n"
   ]
  },
  {
   "cell_type": "code",
   "execution_count": 118,
   "metadata": {},
   "outputs": [
    {
     "name": "stdout",
     "output_type": "stream",
     "text": [
      "60000 101 891\n",
      "10\n"
     ]
    }
   ],
   "source": [
    "import math\n",
    "\n",
    "n, a, b = map(int, input().split())\n",
    "\n",
    "round_num = 0\n",
    "while a != b:\n",
    "    a = math.ceil(a / 2)\n",
    "    b = math.ceil(b / 2)\n",
    "    round_num += 1\n",
    "\n",
    "print(round_num)"
   ]
  },
  {
   "cell_type": "code",
   "execution_count": 122,
   "metadata": {},
   "outputs": [
    {
     "name": "stdout",
     "output_type": "stream",
     "text": [
      "1000 20 31\n",
      "4\n"
     ]
    }
   ],
   "source": [
    "# 숏코딩\n",
    "import math;_,a,b=map(int,input().split());r=0\n",
    "while a!=b:a=math.ceil(a/2);b=math.ceil(b/2);r+=1\n",
    "print(r)"
   ]
  },
  {
   "cell_type": "markdown",
   "metadata": {},
   "source": [
    "### 에디터 1406\n",
    "- 스택"
   ]
  },
  {
   "cell_type": "code",
   "execution_count": 131,
   "metadata": {},
   "outputs": [
    {
     "name": "stdout",
     "output_type": "stream",
     "text": [
      "a\n",
      "3\n",
      "B\n",
      "B\n",
      "B\n",
      "\n"
     ]
    }
   ],
   "source": [
    "import sys\n",
    "# input = sys.stdin.readline\n",
    "\n",
    "stack1 = list(input().strip())\n",
    "stack2 = []\n",
    "\n",
    "m = int(input().strip())\n",
    "for _ in range(m):\n",
    "    c = input().strip()\n",
    "    if c == 'L':\n",
    "        if stack1:\n",
    "            stack2.append(stack1.pop())\n",
    "    elif c == 'D':\n",
    "        if stack2:\n",
    "            stack1.append(stack2.pop())\n",
    "    elif c == 'B':\n",
    "        if stack1:\n",
    "            stack1.pop()\n",
    "    else:\n",
    "        v = c[1:]\n",
    "        v = v.replace(\" \", \"\")\n",
    "        stack1.append(v)\n",
    "stack2.reverse()\n",
    "print(\"\".join(stack1 + stack2))"
   ]
  },
  {
   "cell_type": "markdown",
   "metadata": {},
   "source": [
    "### 팩토리얼 0의 개수 1676\n",
    "- 수학"
   ]
  },
  {
   "cell_type": "code",
   "execution_count": 143,
   "metadata": {},
   "outputs": [
    {
     "name": "stdout",
     "output_type": "stream",
     "text": [
      "500\n",
      "124\n"
     ]
    }
   ],
   "source": [
    "n = int(input())\n",
    "\n",
    "num = 1\n",
    "count = 0\n",
    "for i in range(1, n + 1):\n",
    "    new_num = num * i\n",
    "    while True:\n",
    "        if new_num % 10 == 0:\n",
    "            new_num //= 10\n",
    "            count += 1\n",
    "        else:\n",
    "#             new_num %= 10 # 이거 있으면 틀리게 됨\n",
    "            num = new_num\n",
    "            break\n",
    "print(count)"
   ]
  },
  {
   "cell_type": "markdown",
   "metadata": {},
   "source": [
    "### 수 이어 쓰기 1 1748\n",
    "- 수학, 구현, 사칙연산"
   ]
  },
  {
   "cell_type": "code",
   "execution_count": 23,
   "metadata": {},
   "outputs": [
    {
     "name": "stdout",
     "output_type": "stream",
     "text": [
      "120\n"
     ]
    }
   ],
   "source": [
    "n = int(input())"
   ]
  },
  {
   "cell_type": "code",
   "execution_count": 31,
   "metadata": {},
   "outputs": [
    {
     "name": "stdout",
     "output_type": "stream",
     "text": [
      "120\n",
      "252\n"
     ]
    }
   ],
   "source": [
    "n = int(input())\n",
    "\n",
    "count = 0\n",
    "\n",
    "n_len = len(str(n))\n",
    "max_degree = 10 ** (n_len - 1)\n",
    "count += (n - max_degree + 1) * n_len\n",
    "max_degree = max_degree // 10\n",
    "while max_degree >= 1:\n",
    "    count += max_degree * 9 * len(str(max_degree))\n",
    "    max_degree //= 10\n",
    "    \n",
    "print(count)"
   ]
  },
  {
   "cell_type": "code",
   "execution_count": 33,
   "metadata": {},
   "outputs": [
    {
     "data": {
      "text/plain": [
       "[120, 110, 140, 150]"
      ]
     },
     "execution_count": 33,
     "metadata": {},
     "output_type": "execute_result"
    }
   ],
   "source": [
    "li"
   ]
  },
  {
   "cell_type": "code",
   "execution_count": 35,
   "metadata": {},
   "outputs": [],
   "source": [
    "if sum(li) <= m:\n",
    "    print(max(li))\n",
    "else:\n",
    "    "
   ]
  },
  {
   "cell_type": "code",
   "execution_count": 39,
   "metadata": {},
   "outputs": [],
   "source": [
    "minimum_available = m // 4"
   ]
  },
  {
   "cell_type": "code",
   "execution_count": null,
   "metadata": {},
   "outputs": [],
   "source": []
  },
  {
   "cell_type": "code",
   "execution_count": 47,
   "metadata": {},
   "outputs": [
    {
     "name": "stdout",
     "output_type": "stream",
     "text": [
      "4\n",
      "120 110 140 150\n",
      "485\n"
     ]
    }
   ],
   "source": [
    "n = int(input())\n",
    "li = list(map(int, input().split()))\n",
    "m = int(input())"
   ]
  },
  {
   "cell_type": "code",
   "execution_count": 56,
   "metadata": {},
   "outputs": [
    {
     "name": "stdout",
     "output_type": "stream",
     "text": [
      "4\n",
      "2 2 2 2\n",
      "10\n",
      "2\n"
     ]
    }
   ],
   "source": [
    "n = int(input())\n",
    "li = list(map(int, input().split()))\n",
    "m = int(input())\n",
    "\n",
    "result = 0\n",
    "while True:\n",
    "    maximum_available = m // len(li)\n",
    "    min_value = min(li)\n",
    "    if min_value >= maximum_available:\n",
    "        result += maximum_available\n",
    "        break\n",
    "    else:\n",
    "        m -= min_value * len(li)\n",
    "        li = [v - min_value for v in li if v - min_value != 0]\n",
    "        result += min_value\n",
    "        \n",
    "        if not li:\n",
    "            break\n",
    "        \n",
    "print(result)"
   ]
  },
  {
   "cell_type": "code",
   "execution_count": 54,
   "metadata": {},
   "outputs": [
    {
     "data": {
      "text/plain": [
       "300"
      ]
     },
     "execution_count": 54,
     "metadata": {},
     "output_type": "execute_result"
    }
   ],
   "source": [
    "## 다른 사람 코드 (skarnd9511), 주석 추가\n",
    "n = int(input())\n",
    "budgets = [int(_) for _ in input().split()]\n",
    "m = int(input())\n",
    "i = 0\n",
    "budgets.sort()\n",
    "for b in budgets:\n",
    "    div = m//n\n",
    "    if b < div:\n",
    "        m -= b\n",
    "        n -= 1\n",
    "    else:\n",
    "        print(div)\n",
    "        break\n",
    "# 처음부터 모든 지원 예산을 나눠줄 수 있는 경우\n",
    "else:\n",
    "    print(budgets[-1])"
   ]
  },
  {
   "cell_type": "code",
   "execution_count": 7,
   "metadata": {},
   "outputs": [
    {
     "name": "stdout",
     "output_type": "stream",
     "text": [
      "8\n",
      "9\n",
      "7\n"
     ]
    }
   ],
   "source": [
    "import sys\n",
    "sys.setrecursionlimit(1000000)\n",
    "\n",
    "w = b = 0\n",
    "\n",
    "def recur(i_min_index, i_max_index, j_min_index, j_max_index):\n",
    "    global w\n",
    "    global b\n",
    "    \n",
    "    if i_max_index - i_min_index == 1:\n",
    "        if li[i_min_index][j_min_index] == 0:\n",
    "            w += 1\n",
    "        else:\n",
    "            b += 1\n",
    "    else:\n",
    "        first_value = li[i_min_index][j_min_index]\n",
    "        is_all_same = True\n",
    "        for i in range(i_min_index, i_max_index):\n",
    "            for j in range(j_min_index, j_max_index):\n",
    "                if li[i][j] != first_value:\n",
    "                    is_all_same = False\n",
    "                    break\n",
    "            if not is_all_same:\n",
    "                break\n",
    "        if is_all_same:\n",
    "            if first_value == 0:\n",
    "                w += 1\n",
    "            else:\n",
    "                b += 1\n",
    "        else:\n",
    "            i_mid_index = i_max_index - (i_max_index - i_min_index) // 2\n",
    "            j_mid_index = j_max_index - (j_max_index - j_min_index) // 2\n",
    "            \n",
    "            recur(i_min_index,i_mid_index, j_min_index, j_mid_index)\n",
    "            recur(i_min_index, i_mid_index, j_mid_index, j_max_index)\n",
    "            recur(i_mid_index, i_max_index, j_min_index, j_mid_index)\n",
    "            recur(i_mid_index, i_max_index, j_mid_index, j_max_index)\n",
    "            \n",
    "n = int(input())\n",
    "li = []\n",
    "for _ in range(n):\n",
    "    li.append(list(map(int, input().split())))\n",
    "\n",
    "recur(0, n, 0, n)\n",
    "\n",
    "print(w)\n",
    "print(b)"
   ]
  },
  {
   "cell_type": "markdown",
   "metadata": {},
   "source": [
    "### 상근이의 여행 9372\n",
    "- 그래프 이론, 트리"
   ]
  },
  {
   "cell_type": "code",
   "execution_count": 9,
   "metadata": {},
   "outputs": [
    {
     "name": "stdout",
     "output_type": "stream",
     "text": [
      "2\n",
      "3 3\n",
      "1 2\n",
      "2 3\n",
      "1 3\n",
      "2\n",
      "5 4\n",
      "2 1\n",
      "2 3\n",
      "4 3\n",
      "4 5\n",
      "4\n"
     ]
    }
   ],
   "source": [
    "import sys\n",
    "# input = sys.stdin.readline\n",
    "\n",
    "t = int(input())\n",
    "for _ in range(t):\n",
    "    n, m = map(int, input().split())\n",
    "\n",
    "    for _ in range(m):\n",
    "        a, b = map(int, input().split())\n",
    "\n",
    "    print(n - 1)"
   ]
  },
  {
   "cell_type": "markdown",
   "metadata": {},
   "source": [
    "### GCD 합 9613\n",
    "- 수학, 정수론, 유클리드 호제법"
   ]
  },
  {
   "cell_type": "code",
   "execution_count": 15,
   "metadata": {},
   "outputs": [
    {
     "name": "stdout",
     "output_type": "stream",
     "text": [
      "3\n",
      "4 10 20 30 40\n",
      "70\n",
      "3 7 5 12\n",
      "3\n",
      "3 125 15 25\n",
      "35\n"
     ]
    }
   ],
   "source": [
    "t = int(input())\n",
    "for _ in range(t):\n",
    "    li = list(map(int, input().split()))\n",
    "    n = li[0]\n",
    "    del li[0]\n",
    "\n",
    "    total = 0\n",
    "    for i in range(n):\n",
    "        for j in range(i + 1, n):\n",
    "            a = max(li[i], li[j])\n",
    "            b = min(li[i], li[j])\n",
    "\n",
    "            while True:\n",
    "                remain = a % b\n",
    "                if remain == 0:\n",
    "                    total += b\n",
    "                    break\n",
    "                else:\n",
    "                    a, b = b, remain\n",
    "    print(total)"
   ]
  },
  {
   "cell_type": "markdown",
   "metadata": {},
   "source": [
    "### 쇠막대기 10799\n",
    "- 자료 구조, 스택"
   ]
  },
  {
   "cell_type": "code",
   "execution_count": 19,
   "metadata": {},
   "outputs": [
    {
     "name": "stdout",
     "output_type": "stream",
     "text": [
      "(((()(()()))(())()))(()())\n",
      "24\n"
     ]
    }
   ],
   "source": [
    "s = input()\n",
    "\n",
    "former_v = s[0]\n",
    "s = s[1:]\n",
    "current_bar_num = 0\n",
    "total = 0\n",
    "for i in range(len(s)):\n",
    "    if former_v == \"(\":\n",
    "        if s[i] == \"(\":\n",
    "            current_bar_num += 1\n",
    "            total += 1\n",
    "        else:\n",
    "            total += current_bar_num\n",
    "    else:\n",
    "        if s[i] == \")\":\n",
    "            current_bar_num -= 1\n",
    "            \n",
    "    former_v = s[i]\n",
    "    \n",
    "print(total)"
   ]
  },
  {
   "cell_type": "markdown",
   "metadata": {},
   "source": [
    "### 다음 순열 10972\n",
    "- 수학, 조합론"
   ]
  },
  {
   "cell_type": "code",
   "execution_count": 22,
   "metadata": {},
   "outputs": [
    {
     "name": "stdout",
     "output_type": "stream",
     "text": [
      "4\n",
      "1 5 4 2\n"
     ]
    }
   ],
   "source": [
    "n = int(input())\n",
    "li = list(map(int, input().split()))"
   ]
  },
  {
   "cell_type": "code",
   "execution_count": 34,
   "metadata": {},
   "outputs": [
    {
     "name": "stdout",
     "output_type": "stream",
     "text": [
      "4\n",
      "1 5 4 2\n",
      "2 1 4 5\n"
     ]
    }
   ],
   "source": [
    "n = int(input())\n",
    "li = list(map(int, input().split()))\n",
    "\n",
    "if sorted(li, reverse=True) == li:\n",
    "    print(-1)\n",
    "else:\n",
    "    for i in range(n - 1, 0, -1):\n",
    "        if li[i - 1] < li[i]:\n",
    "            left = li[i - 1]\n",
    "            right_list = li[i:]\n",
    "            candidates = [v for v in right_list if v > left]\n",
    "            selected = min(candidates)\n",
    "            \n",
    "            li[i - 1] = selected\n",
    "            right_list.remove(selected)\n",
    "            right_list.append(left)\n",
    "            right_list.sort()\n",
    "            li[i:] = right_list\n",
    "            break\n",
    "\n",
    "    print(\" \".join(map(str, li)))"
   ]
  },
  {
   "cell_type": "markdown",
   "metadata": {},
   "source": [
    "### 이전 순열 10973\n",
    "- 수학"
   ]
  },
  {
   "cell_type": "code",
   "execution_count": 45,
   "metadata": {},
   "outputs": [
    {
     "name": "stdout",
     "output_type": "stream",
     "text": [
      "5\n",
      "4 6 1 2 3\n",
      "4 3 6 2 1\n"
     ]
    }
   ],
   "source": [
    "n = int(input())\n",
    "li = list(map(int, input().split()))\n",
    "\n",
    "if sorted(li) == li:\n",
    "    print(-1)\n",
    "else:\n",
    "    for i in range(n - 1, 0, -1):\n",
    "        if li[i - 1] > li[i]:\n",
    "            left = li[i - 1]\n",
    "            right_list = li[i:]\n",
    "            candidates = [v for v in right_list if v < left]\n",
    "            selected = max(candidates)\n",
    "\n",
    "            li[i - 1] = selected\n",
    "            right_list.remove(selected)\n",
    "            right_list.append(left)\n",
    "            right_list.sort(reverse=True)\n",
    "            li[i:] = right_list\n",
    "            break\n",
    "\n",
    "    print(\" \".join(map(str, li)))"
   ]
  },
  {
   "cell_type": "markdown",
   "metadata": {},
   "source": [
    "### 모든 순열 10974\n",
    "- 브루트포스, 백트래킹"
   ]
  },
  {
   "cell_type": "code",
   "execution_count": 52,
   "metadata": {},
   "outputs": [
    {
     "name": "stdout",
     "output_type": "stream",
     "text": [
      "3\n",
      "1 2 3\n",
      "1 3 2\n",
      "2 1 3\n",
      "2 3 1\n",
      "3 1 2\n",
      "3 2 1\n"
     ]
    }
   ],
   "source": [
    "from itertools import permutations\n",
    "\n",
    "n = int(input())\n",
    "cases = sorted(tuple(permutations(range(1, n + 1))))\n",
    "for case in cases:\n",
    "    print(\" \".join(map(str, case)))"
   ]
  },
  {
   "cell_type": "markdown",
   "metadata": {},
   "source": [
    "### A와 B 2 12919\n",
    "- 구현, 브루트포스, 재귀"
   ]
  },
  {
   "cell_type": "code",
   "execution_count": 136,
   "metadata": {},
   "outputs": [
    {
     "name": "stdout",
     "output_type": "stream",
     "text": [
      "BAAAAABAA\n",
      "BAABAAAAAB\n",
      "1\n"
     ]
    }
   ],
   "source": [
    "from collections import deque\n",
    "\n",
    "s = input()\n",
    "purpose = input()\n",
    "\n",
    "b_diff = purpose.count('B') - s.count('B')\n",
    "if b_diff % 2 == 0:\n",
    "    end_state = 0\n",
    "else:\n",
    "    end_state = 1\n",
    "\n",
    "s = (s, 0)\n",
    "\n",
    "\n",
    "def check_and_append(s):\n",
    "    if s[1] == end_state:\n",
    "        if s[0] in purpose:\n",
    "            if len(s[0]) == len(purpose):\n",
    "                return 1\n",
    "            if len(s[0]) < len(purpose):\n",
    "                queue.append(s)\n",
    "    else:\n",
    "        if len(s[0]) < len(purpose):\n",
    "            if s[0][::-1] in purpose:\n",
    "                queue.append(s)\n",
    "    return 0\n",
    "\n",
    "\n",
    "result = 0\n",
    "queue = deque([s])\n",
    "while queue:\n",
    "    s = queue.popleft()\n",
    "    \n",
    "    s1 = ((s[0] + 'B')[::-1], 1^s[1])\n",
    "    s2 = ((s[0] + 'A'), s[1])\n",
    "    \n",
    "    result += check_and_append(s1)\n",
    "    result += check_and_append(s2)\n",
    "   \n",
    "    if result >= 1:\n",
    "        result = 1\n",
    "        break\n",
    "        \n",
    "print(result)"
   ]
  },
  {
   "cell_type": "code",
   "execution_count": null,
   "metadata": {},
   "outputs": [],
   "source": [
    "# 다른 사람 코드 (embed94xod)\n",
    "import sys\n",
    "\n",
    "input = sys.stdin.readline\n",
    "\n",
    "S = list(input().rstrip())\n",
    "T = list(input().rstrip())\n",
    "\n",
    "\n",
    "def search(T):\n",
    "    global S\n",
    "    if len(S) == len(T):\n",
    "        return T == S    \n",
    "    if T[-1] == 'A' and search(T[:-1]):\n",
    "        return True\n",
    "    return T[0] == 'B' and search(T[:0:-1])\n",
    "\n",
    "\n",
    "print(1 if search(T) else 0)"
   ]
  },
  {
   "cell_type": "markdown",
   "metadata": {},
   "source": [
    "### 문자열 집합 14425\n",
    "- 자료 구조, 문자열, 트리, 트리를 사용한 집합과 맵, 트라이"
   ]
  },
  {
   "cell_type": "code",
   "execution_count": 138,
   "metadata": {},
   "outputs": [
    {
     "name": "stdout",
     "output_type": "stream",
     "text": [
      "5 11\n",
      "baekjoononlinejudge\n",
      "startlink\n",
      "codeplus\n",
      "sundaycoding\n",
      "codingsh\n",
      "baekjoon\n",
      "codeplus\n",
      "codeminus\n",
      "startlink\n",
      "starlink\n",
      "sundaycoding\n",
      "codingsh\n",
      "codinghs\n",
      "sondaycoding\n",
      "startrink\n",
      "icerink\n",
      "4\n"
     ]
    }
   ],
   "source": [
    "n, m = map(int, input().split())\n",
    "\n",
    "se = set()\n",
    "for _ in range(n):\n",
    "    se.add(input())\n",
    "    \n",
    "count = 0\n",
    "for _ in range(m):\n",
    "    if input() in se:\n",
    "        count += 1\n",
    "        \n",
    "print(count)"
   ]
  },
  {
   "cell_type": "markdown",
   "metadata": {},
   "source": [
    "### 스타트와 링크 14889\n",
    "- 브루트포스, 백트래킹"
   ]
  },
  {
   "cell_type": "code",
   "execution_count": 166,
   "metadata": {},
   "outputs": [
    {
     "name": "stdout",
     "output_type": "stream",
     "text": [
      "8\n",
      "0 5 4 5 4 5 4 5\n",
      "4 0 5 1 2 3 4 5\n",
      "9 8 0 1 2 3 1 2\n",
      "9 9 9 0 9 9 9 9\n",
      "1 1 1 1 0 1 1 1\n",
      "8 7 6 5 4 0 3 2\n",
      "9 1 9 1 9 1 0 9\n",
      "6 5 4 3 2 1 9 0\n",
      "1\n"
     ]
    }
   ],
   "source": [
    "from itertools import combinations\n",
    "import sys\n",
    "# input = sys.stdin.readline\n",
    "\n",
    "n = int(input())\n",
    "li = []\n",
    "for _ in range(n):\n",
    "    li.append(tuple(map(int, input().split())))\n",
    "\n",
    "all_set = set(range(n))\n",
    "left_cases = list(combinations(range(n), n//2))\n",
    "right_cases = [list(all_set - set(v)) for v in left_cases]\n",
    "\n",
    "left_abilites = []\n",
    "for case in left_cases:\n",
    "    case_ability = 0\n",
    "    for i in range(len(case)):\n",
    "        for j in range(i + 1, len(case)):\n",
    "            case_ability += li[case[i]][case[j]] + li[case[j]][case[i]]\n",
    "    left_abilites.append(case_ability)\n",
    "    \n",
    "    \n",
    "right_abilites = []\n",
    "for case in right_cases:\n",
    "    case_ability = 0\n",
    "    for i in range(len(case)):\n",
    "        for j in range(i + 1, len(case)):\n",
    "            case_ability += li[case[i]][case[j]] + li[case[j]][case[i]]\n",
    "    right_abilites.append(case_ability)\n",
    "\n",
    "print(min((abs(l - r) for l, r in zip(left_abilites, right_abilites))))"
   ]
  },
  {
   "cell_type": "markdown",
   "metadata": {},
   "source": [
    "### 부분수열의 합 1182\n",
    "- 브루트포스, 백트래킹"
   ]
  },
  {
   "cell_type": "code",
   "execution_count": 191,
   "metadata": {},
   "outputs": [
    {
     "name": "stdout",
     "output_type": "stream",
     "text": [
      "2 3\n",
      "-3 3 6\n",
      "1\n"
     ]
    }
   ],
   "source": [
    "# 문제를 잘못 해석했음\n",
    "n, s = map(int, input().split())\n",
    "li = list(map(int, input().split()))\n",
    "\n",
    "count = 0\n",
    "for i in range(n):\n",
    "    for j in range(i, n):\n",
    "        if sum(li[i:j + 1]) == s:\n",
    "            count += 1\n",
    "print(count)"
   ]
  },
  {
   "cell_type": "code",
   "execution_count": 192,
   "metadata": {},
   "outputs": [
    {
     "name": "stdout",
     "output_type": "stream",
     "text": [
      "5 0\n",
      "-7 -3 -2 5 8\n"
     ]
    }
   ],
   "source": [
    "from itertools import combinations\n",
    "\n",
    "n, s = map(int, input().split())\n",
    "li = list(map(int, input().split()))\n",
    "\n",
    "count = 0\n",
    "for i in range(1, n + 1):\n",
    "    c = combinations(li, i)\n",
    "    for v in c:\n",
    "        if sum(v) == s:\n",
    "            count += 1\n",
    "            \n",
    "print(count)"
   ]
  },
  {
   "cell_type": "markdown",
   "metadata": {},
   "source": [
    "### 종이의 개수 1780"
   ]
  },
  {
   "cell_type": "code",
   "execution_count": 195,
   "metadata": {},
   "outputs": [
    {
     "name": "stdout",
     "output_type": "stream",
     "text": [
      "9\n",
      "0 0 0 1 1 1 -1 -1 -1\n",
      "0 0 0 1 1 1 -1 -1 -1\n",
      "0 0 0 1 1 1 -1 -1 -1\n",
      "1 1 1 0 0 0 0 0 0\n",
      "1 1 1 0 0 0 0 0 0\n",
      "1 1 1 0 0 0 0 0 0\n",
      "0 1 -1 0 1 -1 0 1 -1\n",
      "0 -1 1 0 1 -1 0 1 -1\n",
      "0 1 -1 1 0 -1 0 1 -1\n"
     ]
    }
   ],
   "source": [
    "n = int(input())\n",
    "li = []\n",
    "for _ in range(n):\n",
    "    li.append(tuple(map(int, input().split())))"
   ]
  },
  {
   "cell_type": "code",
   "execution_count": 201,
   "metadata": {},
   "outputs": [
    {
     "name": "stdout",
     "output_type": "stream",
     "text": [
      "10\n",
      "12\n",
      "11\n"
     ]
    }
   ],
   "source": [
    "import sys\n",
    "# input = sys.stdin.readline\n",
    "\n",
    "n = int(input())\n",
    "li = []\n",
    "for _ in range(n):\n",
    "    li.append(tuple(map(int, input().split())))\n",
    "\n",
    "count_minus1 = 0\n",
    "count_0 = 0\n",
    "count_1 = 0\n",
    "\n",
    "def recur(min_i, max_i, min_j, max_j):\n",
    "    global count_minus1\n",
    "    global count_0\n",
    "    global count_1\n",
    "    \n",
    "    if max_i - min_i == 1:\n",
    "        if li[min_i][min_j] == -1:\n",
    "            count_minus1 += 1\n",
    "        elif li[min_i][min_j] == 0:\n",
    "            count_0 += 1\n",
    "        else:\n",
    "            count_1 += 1\n",
    "    else:\n",
    "        is_all_same = True\n",
    "        former_value = li[min_i][min_j]\n",
    "        for i in range(min_i, max_i):\n",
    "            for j in range(min_j, max_j):\n",
    "                if li[i][j] != former_value:\n",
    "                    is_all_same = False\n",
    "                    break\n",
    "            if not is_all_same:\n",
    "                break\n",
    "        \n",
    "        if is_all_same:\n",
    "            if former_value == -1:\n",
    "                count_minus1 += 1\n",
    "            elif former_value == 0:\n",
    "                count_0 += 1\n",
    "            else:\n",
    "                count_1 += 1\n",
    "        else:\n",
    "            mid_i1 = min_i + (max_i - min_i) // 3\n",
    "            mid_i2 = min_i + ((max_i - min_i) // 3) * 2\n",
    "            mid_j1 = min_j + (max_j - min_j) // 3     \n",
    "            mid_j2 = min_j + ((max_j - min_j) // 3) * 2\n",
    "            \n",
    "            recur(min_i, mid_i1, min_j, mid_j1)\n",
    "            recur(min_i, mid_i1, mid_j1, mid_j2)\n",
    "            recur(min_i, mid_i1, mid_j2, max_j)\n",
    "                              \n",
    "            recur(mid_i1, mid_i2, min_j, mid_j1)\n",
    "            recur(mid_i1, mid_i2, mid_j1, mid_j2)\n",
    "            recur(mid_i1, mid_i2, mid_j2, max_j)                  \n",
    "                              \n",
    "            recur(mid_i2, max_i, min_j, mid_j1)\n",
    "            recur(mid_i2, max_i, mid_j1, mid_j2)\n",
    "            recur(mid_i2, max_i, mid_j2, max_j)\n",
    "                              \n",
    "    \n",
    "recur(0, n, 0, n)\n",
    "                              \n",
    "print(count_minus1)\n",
    "print(count_0)\n",
    "print(count_1)"
   ]
  },
  {
   "cell_type": "code",
   "execution_count": null,
   "metadata": {},
   "outputs": [],
   "source": [
    "# 다른 사람 코드 (lys7442)\n",
    "import sys\n",
    "n=int(sys.stdin.readline())\n",
    "p=[list(map(int,sys.stdin.readline().strip().split())) for i in range(n)]\n",
    "cnt=[0,0,0]\n",
    "\n",
    "def isAllSame(x,y,n):\n",
    "    k=p[x][y]\n",
    "    for i in range(x,x+n):\n",
    "        for j in range(y,y+n):\n",
    "            if(k!=p[i][j]):\n",
    "                #print(f\"{x},{y},{n}X{n},False\")\n",
    "                return False\n",
    "    #print(f\"{x},{y},{n}X{n},True\")\n",
    "    return True\n",
    "\n",
    "def cut(x,y,n):\n",
    "    if(n==1):\n",
    "        cnt[p[x][y]+1]+=1\n",
    "        return\n",
    "    else:\n",
    "        if isAllSame(x,y,n):\n",
    "            cnt[p[x][y]+1]+=1\n",
    "            return\n",
    "        else:\n",
    "            for i in range(x,x+n,n//3):\n",
    "                for j in range(y,y+n,n//3):\n",
    "                    cut(i,j,n//3)\n",
    "\n",
    "cut(0,0,n)\n",
    "for i in cnt:\n",
    "    print(i)"
   ]
  },
  {
   "cell_type": "markdown",
   "metadata": {},
   "source": [
    "### 행운의 바퀴 2840\n",
    "- 구현, 시뮬레이션"
   ]
  },
  {
   "cell_type": "code",
   "execution_count": 202,
   "metadata": {},
   "outputs": [
    {
     "name": "stdout",
     "output_type": "stream",
     "text": [
      "8 8\n"
     ]
    }
   ],
   "source": [
    "n, k = map(int, input().split())\n",
    "li = [\"!\"] * n\n"
   ]
  },
  {
   "cell_type": "code",
   "execution_count": 242,
   "metadata": {},
   "outputs": [
    {
     "name": "stdout",
     "output_type": "stream",
     "text": [
      "1 1\n",
      "1 A\n",
      "A\n"
     ]
    }
   ],
   "source": [
    "from collections import deque\n",
    "\n",
    "n, k = map(int, input().split())\n",
    "\n",
    "def previous_index(i):\n",
    "    if i == 0:\n",
    "        return n - 1\n",
    "    else:\n",
    "        return i - 1\n",
    "\n",
    "li = [\"?\"] * n\n",
    "current_index = 0\n",
    "for _ in range(k):\n",
    "    before_count, alpha = input().split()\n",
    "    before_count = int(before_count)\n",
    "    \n",
    "    for _ in range(before_count):\n",
    "        current_index = previous_index(current_index)\n",
    "    \n",
    "    if li[current_index] == \"?\" or li[current_index] == alpha:\n",
    "        li[current_index] = alpha\n",
    "    else:\n",
    "        print(\"!\")\n",
    "#         exit()\n",
    "        \n",
    "deq = deque(li)\n",
    "check_li = [v for v in li if v != \"?\"]\n",
    "if len(set(check_li)) < len(check_li):\n",
    "    print(\"!\")\n",
    "else:\n",
    "    deq = deque(li)\n",
    "    deq.rotate(-current_index)\n",
    "    print(\"\".join(deq))"
   ]
  },
  {
   "cell_type": "markdown",
   "metadata": {},
   "source": [
    "### 제곱수의 합 1699\n",
    "- 수학, 다이나믹 프로그래밍"
   ]
  },
  {
   "cell_type": "code",
   "execution_count": 14,
   "metadata": {},
   "outputs": [
    {
     "data": {
      "text/plain": [
       "140.71602609511115"
      ]
     },
     "execution_count": 14,
     "metadata": {},
     "output_type": "execute_result"
    }
   ],
   "source": [
    "19801 ** 0.5"
   ]
  },
  {
   "cell_type": "code",
   "execution_count": 15,
   "metadata": {},
   "outputs": [
    {
     "data": {
      "text/plain": [
       "19600"
      ]
     },
     "execution_count": 15,
     "metadata": {},
     "output_type": "execute_result"
    }
   ],
   "source": [
    "140 ** 2"
   ]
  },
  {
   "cell_type": "code",
   "execution_count": 26,
   "metadata": {},
   "outputs": [
    {
     "name": "stdout",
     "output_type": "stream",
     "text": [
      "15\n",
      "4\n"
     ]
    }
   ],
   "source": [
    "import math\n",
    "\n",
    "n = int(input())\n",
    "\n",
    "dp = [0] * (n + 1)\n",
    "\n",
    "for i in range(1, n + 1):\n",
    "    if isinstance(i ** 0.5, int):\n",
    "        dp[i] = 1\n",
    "    else:\n",
    "        min_count = 0\n",
    "        upper_limit = int(i ** 0.5)\n",
    "        lower_limit = upper_limit // 2 + 1\n",
    "        \n",
    "        min_count = float('inf')\n",
    "        for j in range(lower_limit, upper_limit + 1):\n",
    "            value = dp[i - j ** 2] + 1\n",
    "            if value < min_count:\n",
    "                min_count = value\n",
    "        dp[i] = min_count\n",
    "        \n",
    "print(dp[n])"
   ]
  },
  {
   "cell_type": "markdown",
   "metadata": {},
   "source": [
    "### 행렬 1080\n",
    "- 그리디"
   ]
  },
  {
   "cell_type": "code",
   "execution_count": 31,
   "metadata": {},
   "outputs": [
    {
     "name": "stdout",
     "output_type": "stream",
     "text": [
      "3 4\n",
      "0000\n",
      "0010\n",
      "0000\n",
      "1001\n",
      "1011\n",
      "1001\n"
     ]
    }
   ],
   "source": [
    "import copy\n",
    "\n",
    "n, m = map(int, input().split())\n",
    "\n",
    "original_li = []\n",
    "for _ in range(n):\n",
    "    original_li.append(list(map(int, list(input()))))\n",
    "    \n",
    "li = copy.deepcopy(original_li)\n",
    "    \n",
    "target_li = []\n",
    "for _ in range(n):\n",
    "    target_li.append(list(map(int, list(input()))))"
   ]
  },
  {
   "cell_type": "code",
   "execution_count": 49,
   "metadata": {},
   "outputs": [
    {
     "name": "stdout",
     "output_type": "stream",
     "text": [
      "3 3\n",
      "111\n",
      "111\n",
      "111\n",
      "000\n",
      "000\n",
      "001\n",
      "-1\n"
     ]
    }
   ],
   "source": [
    "# 처음 바꿀 수 있는 경우가 1인 왼쪽 위 구석의 경우부터 비교해서 바꿔나가는 식으로 접근해서 풀 수 있었음\n",
    "n, m = map(int, input().split())\n",
    "\n",
    "li = []\n",
    "for _ in range(n):\n",
    "    li.append(list(map(int, list(input()))))\n",
    "    \n",
    "target_li = []\n",
    "for _ in range(n):\n",
    "    target_li.append(list(map(int, list(input()))))\n",
    "\n",
    "if n <= 2 or m <= 2:\n",
    "    if li == target_li:\n",
    "        print(0)\n",
    "    else:\n",
    "        print(-1)\n",
    "else:\n",
    "    count = 0\n",
    "    for i in range(n - 2):\n",
    "        for j in range(m - 2):\n",
    "            if li[i][j] != target_li[i][j]:\n",
    "                count += 1\n",
    "                li[i][j] = 1^li[i][j]\n",
    "                li[i + 1][j] = 1^li[i + 1][j]\n",
    "                li[i + 2][j] = 1^li[i + 2][j]\n",
    "\n",
    "                li[i][j + 1] = 1^li[i][j + 1]\n",
    "                li[i + 1][j + 1] = 1^li[i + 1][j + 1]\n",
    "                li[i + 2][j + 1] = 1^li[i + 2][j + 1]\n",
    "\n",
    "                li[i][j + 2] = 1^li[i][j + 2]\n",
    "                li[i + 1][j + 2] = 1^li[i + 1][j + 2]\n",
    "                li[i + 2][j + 2] = 1^li[i + 2][j + 2]\n",
    "\n",
    "    if li == target_li:\n",
    "        print(count)\n",
    "    else:\n",
    "        print(-1)"
   ]
  },
  {
   "cell_type": "markdown",
   "metadata": {},
   "source": [
    "### 점프 1890\n",
    "- 다이나믹 프로그래밍"
   ]
  },
  {
   "cell_type": "code",
   "execution_count": 50,
   "metadata": {},
   "outputs": [
    {
     "name": "stdout",
     "output_type": "stream",
     "text": [
      "4\n",
      "2 3 3 1\n",
      "1 2 1 3\n",
      "1 2 3 1\n",
      "3 1 1 0\n"
     ]
    }
   ],
   "source": [
    "n = int(input())\n",
    "li = []\n",
    "for _ in range(n):\n",
    "    li.append(tuple(map(int, input().split())))"
   ]
  },
  {
   "cell_type": "code",
   "execution_count": 69,
   "metadata": {},
   "outputs": [
    {
     "name": "stdout",
     "output_type": "stream",
     "text": [
      "4\n",
      "2 3 3 1\n",
      "1 2 1 3\n",
      "1 2 3 1\n",
      "3 1 1 0\n",
      "3\n"
     ]
    }
   ],
   "source": [
    "# 맞았음, 이중 for문 안에서 i == j == 0 부분을 고려하지 않아서 시간이 좀 더 오래 걸렸음\n",
    "n = int(input())\n",
    "li = []\n",
    "for _ in range(n):\n",
    "    li.append(tuple(map(int, input().split())))\n",
    "\n",
    "dp = [[0] * n for _ in range(n)]\n",
    "dp[0][0] = 1\n",
    "\n",
    "for i in range(n):\n",
    "    for j in range(n):\n",
    "        if i == j == 0:\n",
    "            continue\n",
    "        count = 0\n",
    "        current_num = 1\n",
    "        for k in range(i - 1, -1, -1):\n",
    "            if li[k][j] == current_num:\n",
    "                count += dp[k][j]\n",
    "            current_num += 1\n",
    "        \n",
    "        current_num = 1\n",
    "        for k in range(j - 1, -1, -1):\n",
    "            if li[i][k] == current_num:\n",
    "                count += dp[i][k]\n",
    "            current_num += 1\n",
    "        dp[i][j] = count\n",
    "            \n",
    "print(dp[-1][-1])"
   ]
  },
  {
   "cell_type": "markdown",
   "metadata": {},
   "source": [
    "### 전구와 스위치 2138\n",
    "- 그리디"
   ]
  },
  {
   "cell_type": "code",
   "execution_count": 78,
   "metadata": {},
   "outputs": [
    {
     "data": {
      "text/plain": [
       "1"
      ]
     },
     "execution_count": 78,
     "metadata": {},
     "output_type": "execute_result"
    }
   ],
   "source": [
    "a = 1\n",
    "a ^= 0\n",
    "a"
   ]
  },
  {
   "cell_type": "code",
   "execution_count": 83,
   "metadata": {},
   "outputs": [
    {
     "name": "stdout",
     "output_type": "stream",
     "text": [
      "4\n",
      "0001\n",
      "1000\n",
      "2\n"
     ]
    }
   ],
   "source": [
    "n = int(input())\n",
    "li1 = list(map(int, list(input())))\n",
    "li2 = li1[:]\n",
    "target_li = list(map(int, list(input())))\n",
    "\n",
    "c1 = 0\n",
    "c2 = 0\n",
    "for i in range(n):\n",
    "    if i == 0:\n",
    "        li2[0] ^= 1\n",
    "        li2[1] ^= 1\n",
    "        c2 += 1\n",
    "        continue\n",
    "    if li1[i - 1] != target_li[i - 1]:\n",
    "        c1 += 1\n",
    "        li1[i - 1] ^= 1\n",
    "        li1[i] ^= 1\n",
    "        if i != n - 1:\n",
    "            li1[i + 1] ^= 1\n",
    "    \n",
    "    if li2[i - 1] != target_li[i - 1]:\n",
    "        c2 += 1\n",
    "        li2[i - 1] ^= 1\n",
    "        li2[i] ^= 1\n",
    "        if i != n - 1:\n",
    "            li2[i + 1] ^= 1\n",
    "            \n",
    "result = float('inf')\n",
    "\n",
    "if li1 == target_li:\n",
    "    result = c1\n",
    "if li2 == target_li:\n",
    "    if c2 < result:\n",
    "        result = c2\n",
    "    \n",
    "if result == float('inf'):\n",
    "    print(-1)\n",
    "else:\n",
    "    print(result)"
   ]
  },
  {
   "cell_type": "markdown",
   "metadata": {},
   "source": [
    "### 맹세 3407\n",
    "- 그래프 탐색"
   ]
  },
  {
   "cell_type": "code",
   "execution_count": 123,
   "metadata": {},
   "outputs": [
    {
     "name": "stdout",
     "output_type": "stream",
     "text": [
      " r\n"
     ]
    }
   ],
   "source": [
    "# 이런 접근으로는 풀 수 없음\n",
    "\n",
    "twos = ['He', 'Li', 'Be', 'Ne', 'Na', 'Mg', 'Al', 'Si', 'Cl', 'Ar', 'Ca', 'Sc', 'Ti', 'Cr', 'Mn', 'Fe', 'Co', 'Ni', 'Cu', 'Zn', 'Ga', 'Ge', 'As', 'Se', 'Br', 'Kr', 'Rb', 'Sr', 'Zr', 'Nb', 'Mo', 'Tc', 'Ru', 'Rh', 'Pd', 'Ag', 'Cd', 'In', 'Sn', 'Sb', 'Te', 'Xe', 'Cs', 'Ba', 'Hf', 'Ta', 'Re', 'Os', 'Ir', 'Pt', 'Au', 'Hg', 'Tl', 'Pb', 'Bi', 'Po', 'At', 'Rn', 'Fr', 'Ra', 'Rf', 'Db', 'Sg', 'Bh', 'Hs', 'Mt', 'Ds', 'Rg', 'Cn', 'Fl', 'Lv', 'La', 'Ce', 'Pr', 'Nd', 'Pm', 'Sm', 'Eu', 'Gd', 'Tb', 'Dy', 'Ho', 'Er', 'Tm', 'Yb', 'Lu', 'Ac', 'Th', 'Pa', 'Np', 'Pu', 'Am', 'Cm', 'Bk', 'Cf', 'Es', 'Fm', 'Md', 'No', 'Lr']\n",
    "ones = ['H', 'B', 'C', 'N', 'O', 'F', 'P', 'S', 'K', 'V', 'Y', 'I', 'W', 'U']\n",
    "\n",
    "twos = [v.lower() for v in twos]\n",
    "ones = [v.lower() for v in ones]\n",
    "\n",
    "fully_irreplaceable_twos = []\n",
    "partially_irreplaceable_twos = []\n",
    "for v in twos:\n",
    "    a, b = tuple(v)\n",
    "    if a not in ones and b not in ones:\n",
    "        fully_irreplaceable_twos.append(v)\n",
    "    elif a not in ones or b not in ones:\n",
    "        partially_irreplaceable_twos.append(v)\n",
    "\n",
    "s = 'srer'\n",
    "s = s.lower()        \n",
    "\n",
    "for v in fully_irreplaceable_twos:\n",
    "    s = s.replace(v, \" \")\n",
    "\n",
    "for v in partially_irreplaceable_twos:\n",
    "    s = s.replace(v, \" \")\n",
    "    \n",
    "for v in ones:\n",
    "    s = s.replace(v, \"\")\n",
    "    \n",
    "print(s)"
   ]
  },
  {
   "cell_type": "markdown",
   "metadata": {},
   "source": [
    "### 리모컨 1107\n",
    "- 브루트포스"
   ]
  },
  {
   "cell_type": "code",
   "execution_count": 8,
   "metadata": {},
   "outputs": [
    {
     "name": "stdout",
     "output_type": "stream",
     "text": [
      "5457\n",
      "3\n",
      "6 7 8\n"
     ]
    }
   ],
   "source": [
    "target = input()\n",
    "m = int(input())\n",
    "brokens = tuple(input().split())"
   ]
  },
  {
   "cell_type": "code",
   "execution_count": 10,
   "metadata": {},
   "outputs": [
    {
     "name": "stdout",
     "output_type": "stream",
     "text": [
      "5\n"
     ]
    }
   ],
   "source": [
    "# 일단 포기\n",
    "def plus_checker(current, target, count=0):\n",
    "    current = int(current)\n",
    "    target = int(target)\n",
    "    if target >= current:\n",
    "        count += target - current\n",
    "        return count\n",
    "    else:\n",
    "        return float('inf')\n",
    "\n",
    "def minus_checker(current, target, count=0):\n",
    "    current = int(current)\n",
    "    target = int(target)\n",
    "    if target <= current:\n",
    "        count += current - target\n",
    "        return count\n",
    "    else:\n",
    "        return float('inf')\n",
    "    \n",
    "    \n",
    "current = 100\n",
    "min_count = float('inf')\n",
    "# +와 -이 모두 동작하는 경우\n",
    "if \"-\" not in brokens and \"+\" not in brokens:\n",
    "    count = plus_checker(current, target)\n",
    "    min_count = min(min_count, count)\n",
    "    count = minus_checker(current, target)\n",
    "    min_count = min(min_count, count)\n",
    "    \n",
    "    current = \"\"\n",
    "    while len(current) < len(target):\n",
    "        target_num = target[len(current)]\n",
    "        if (int(str(int(target_num) + 1) + \"0\" * (len(target) - 1)) - int(target) >=\n",
    "            int(target) - int(target_num + \"0\" * (len(target) - 1))):\n",
    "            prior_num = str(int(target_num))\n",
    "        else:\n",
    "            prior_num = str(int(target_num) + 1)\n",
    "        \n",
    "        print(prior_num)\n",
    "        # 7, 9, 8, 10 같은 식으로 제작함\n",
    "        break\n",
    "        \n",
    "        \n",
    "        "
   ]
  },
  {
   "cell_type": "markdown",
   "metadata": {},
   "source": [
    "### 2493 탑\n",
    "- 스택"
   ]
  },
  {
   "cell_type": "code",
   "execution_count": 20,
   "metadata": {},
   "outputs": [
    {
     "name": "stdout",
     "output_type": "stream",
     "text": [
      "5\n",
      "6 9 5 7 4\n",
      "0 0 2 2 4\n"
     ]
    }
   ],
   "source": [
    "n = int(input())\n",
    "tp = tuple(map(int, input().split()))\n",
    "\n",
    "stack = []\n",
    "result = []\n",
    "for i, value in enumerate(tp, 1):\n",
    "    if not stack:\n",
    "        stack.append((value, i))\n",
    "        result.append(0)\n",
    "        continue\n",
    "        \n",
    "    while True:\n",
    "        if stack[-1][0] > value:\n",
    "            result.append(stack[-1][1])\n",
    "            stack.append((value, i))\n",
    "            break\n",
    "        else:\n",
    "            stack.pop()\n",
    "            if not stack:\n",
    "                stack.append((value, i))\n",
    "                result.append(0)\n",
    "                break\n",
    "                \n",
    "print(\" \".join(map(str, result)))"
   ]
  },
  {
   "cell_type": "code",
   "execution_count": 14,
   "metadata": {},
   "outputs": [
    {
     "data": {
      "text/plain": [
       "2"
      ]
     },
     "execution_count": 14,
     "metadata": {},
     "output_type": "execute_result"
    }
   ],
   "source": [
    "current_tallest_num"
   ]
  },
  {
   "cell_type": "code",
   "execution_count": 13,
   "metadata": {},
   "outputs": [
    {
     "data": {
      "text/plain": [
       "[9, 7, 4]"
      ]
     },
     "execution_count": 13,
     "metadata": {},
     "output_type": "execute_result"
    }
   ],
   "source": [
    "stack"
   ]
  },
  {
   "cell_type": "markdown",
   "metadata": {},
   "source": [
    "### 이동하기 11048"
   ]
  },
  {
   "cell_type": "code",
   "execution_count": 1,
   "metadata": {},
   "outputs": [
    {
     "name": "stdout",
     "output_type": "stream",
     "text": [
      "3 4\n",
      "1 2 3 4\n",
      "0 0 0 5\n",
      "9 8 7 6\n"
     ]
    }
   ],
   "source": [
    "n, m = map(int, input().split())\n",
    "li = []\n",
    "for _ in range(n):\n",
    "    li.append(tuple(map(int, input().split())))"
   ]
  },
  {
   "cell_type": "code",
   "execution_count": 7,
   "metadata": {},
   "outputs": [
    {
     "name": "stdout",
     "output_type": "stream",
     "text": [
      "1 1\n",
      "5\n",
      "5\n"
     ]
    }
   ],
   "source": [
    "import sys\n",
    "# input = sys.stdin.readline\n",
    "\n",
    "n, m = map(int, input().split())\n",
    "li = []\n",
    "for _ in range(n):\n",
    "    li.append(tuple(map(int, input().split())))\n",
    "\n",
    "dp = [[0] * (m + 1) for _ in range(n + 1)]\n",
    "\n",
    "for i in range(1, n + 1):\n",
    "    for j in range(1, m + 1):\n",
    "        dp[i][j] = max(dp[i - 1][j - 1], dp[i - 1][j], dp[i][j - 1]) + li[i - 1][j - 1]\n",
    "        \n",
    "print(dp[-1][-1])"
   ]
  },
  {
   "cell_type": "code",
   "execution_count": 5,
   "metadata": {},
   "outputs": [
    {
     "name": "stdout",
     "output_type": "stream",
     "text": [
      "31\n"
     ]
    }
   ],
   "source": [
    "print(dp[-1][-1])"
   ]
  },
  {
   "cell_type": "markdown",
   "metadata": {},
   "source": [
    "### 차이를 최대로 10819\n",
    "- 브루트포스, 백트래킹"
   ]
  },
  {
   "cell_type": "code",
   "execution_count": 14,
   "metadata": {},
   "outputs": [
    {
     "name": "stdout",
     "output_type": "stream",
     "text": [
      "6\n",
      "20 1 15 8 4 10\n",
      "62\n"
     ]
    }
   ],
   "source": [
    "from itertools import permutations as pt\n",
    "\n",
    "n = int(input())\n",
    "li = list(map(int, input().split()))\n",
    "p = pt(li)\n",
    "\n",
    "max_total = 0\n",
    "for value in p:\n",
    "    total = 0\n",
    "    for i in range(n - 1):\n",
    "        total += abs(value[i] - value[i + 1])\n",
    "    max_total = max(max_total, total)\n",
    "\n",
    "print(max_total)"
   ]
  },
  {
   "cell_type": "markdown",
   "metadata": {},
   "source": [
    "### 구간 합 구하기 5 11660\n",
    "- 다이나믹 프로그래밍"
   ]
  },
  {
   "cell_type": "code",
   "execution_count": 1,
   "metadata": {},
   "outputs": [
    {
     "name": "stdout",
     "output_type": "stream",
     "text": [
      "4 3\n",
      "1 2 3 4\n",
      "2 3 4 5\n",
      "3 4 5 6\n",
      "4 5 6 7\n"
     ]
    }
   ],
   "source": [
    "import sys\n",
    "# input = sys.stdin.readline\n",
    "\n",
    "n, m = map(int, input().split())\n",
    "\n",
    "li = []\n",
    "for _ in range(n):\n",
    "    li.append(tuple(map(int, input().split())))"
   ]
  },
  {
   "cell_type": "code",
   "execution_count": 2,
   "metadata": {},
   "outputs": [],
   "source": [
    "dp = [[0] * (n + 1) for _ in range(n + 1)]"
   ]
  },
  {
   "cell_type": "code",
   "execution_count": 9,
   "metadata": {},
   "outputs": [
    {
     "name": "stdout",
     "output_type": "stream",
     "text": [
      "2 4\n",
      "1 2\n",
      "3 4\n",
      "1 1 1 1\n",
      "1\n",
      "1 2 1 2\n",
      "2\n",
      "2 1 2 1\n",
      "3\n",
      "2 2 2 2\n",
      "4\n"
     ]
    }
   ],
   "source": [
    "import sys\n",
    "# input = sys.stdin.readline\n",
    "\n",
    "n, m = map(int, input().split())\n",
    "\n",
    "li = []\n",
    "for _ in range(n):\n",
    "    li.append(tuple(map(int, input().split())))\n",
    "\n",
    "dp = [[0] * (n + 1) for _ in range(n + 1)]\n",
    "for i in range(1, n + 1):\n",
    "    for j in range(1, n + 1):\n",
    "        dp[i][j] = li[i - 1][j - 1] +dp[i][j - 1] + dp[i - 1][j] - dp[i - 1][j - 1]\n",
    "        \n",
    "for _ in range(m):\n",
    "    x1, y1, x2, y2 = map(int, input().split()) \n",
    "    print(dp[x2][y2] -  dp[x2][y1 - 1] - dp[x1 - 1][y2] + dp[x1 - 1][y1 - 1])"
   ]
  },
  {
   "cell_type": "markdown",
   "metadata": {},
   "source": [
    "### 오르막 수 11057\n",
    "- 다이나믹 프로그래밍"
   ]
  },
  {
   "cell_type": "code",
   "execution_count": 23,
   "metadata": {},
   "outputs": [
    {
     "name": "stdout",
     "output_type": "stream",
     "text": [
      "1000\n",
      "1464\n"
     ]
    }
   ],
   "source": [
    "n = int(input())\n",
    "\n",
    "dp_result = [0, 10]\n",
    "dp_li = [1, 2, 3, 4, 5, 6, 7, 8, 9, 10]\n",
    "\n",
    "for _ in range(n - 1):\n",
    "    for i in range(1, 10):\n",
    "        dp_li[i] = (dp_li[i - 1] + dp_li[i]) % 10007\n",
    "    dp_result.append(dp_li[-1])\n",
    "    \n",
    "print(dp_result[n])"
   ]
  },
  {
   "cell_type": "markdown",
   "metadata": {},
   "source": [
    "### 극장 좌석 2302\n",
    "- 다이나믹 프로그래밍"
   ]
  },
  {
   "cell_type": "code",
   "execution_count": 24,
   "metadata": {},
   "outputs": [
    {
     "name": "stdout",
     "output_type": "stream",
     "text": [
      "9\n",
      "2\n",
      "4\n",
      "7\n"
     ]
    }
   ],
   "source": [
    "n = int(input())\n",
    "m = int(input())\n",
    "fixed = []\n",
    "for _ in range(m):\n",
    "    fixed.append(int(input()))"
   ]
  },
  {
   "cell_type": "code",
   "execution_count": 26,
   "metadata": {},
   "outputs": [],
   "source": [
    "continuous_counts = []\n",
    "continuous_count = 0 \n",
    "for i in range(1, n + 1):\n",
    "    if i not in fixed:\n",
    "        continuous_count += 1\n",
    "    else:\n",
    "        continuous_counts.append(continuous_count)\n",
    "        continuous_count = 0\n",
    "continuous_counts.append(continuous_count)\n",
    "\n",
    "max_continuous_count = max(continuous_counts)\n",
    "dp = [0] * (max_continuous_count + 3)\n",
    "dp[:3] = [0, 1, 2]\n",
    "for i in range(3, max_continuous_count + 1):\n",
    "    dp[i] = dp[i - 1] + dp[i - 2]"
   ]
  },
  {
   "cell_type": "code",
   "execution_count": 29,
   "metadata": {},
   "outputs": [],
   "source": [
    "total_case_num = dp[continuous_counts[0]]\n",
    "del continuous_counts[0]\n",
    "\n",
    "for v in continuous_counts:\n",
    "    total_case_num *= dp[v]"
   ]
  },
  {
   "cell_type": "code",
   "execution_count": 30,
   "metadata": {},
   "outputs": [
    {
     "data": {
      "text/plain": [
       "12"
      ]
     },
     "execution_count": 30,
     "metadata": {},
     "output_type": "execute_result"
    }
   ],
   "source": [
    "total_case_num"
   ]
  },
  {
   "cell_type": "code",
   "execution_count": 39,
   "metadata": {},
   "outputs": [
    {
     "name": "stdout",
     "output_type": "stream",
     "text": [
      "3\n",
      "2\n",
      "1\n",
      "2\n",
      "1\n"
     ]
    }
   ],
   "source": [
    "import sys\n",
    "# input = sys.stdin.readline\n",
    "\n",
    "n = int(input())\n",
    "m = int(input())\n",
    "fixed = []\n",
    "for _ in range(m):\n",
    "    fixed.append(int(input()))\n",
    "    \n",
    "continuous_counts = []\n",
    "continuous_count = 0 \n",
    "for i in range(1, n + 1):\n",
    "    if i not in fixed:\n",
    "        continuous_count += 1\n",
    "    else:\n",
    "        continuous_counts.append(continuous_count)\n",
    "        continuous_count = 0\n",
    "continuous_counts.append(continuous_count)\n",
    "\n",
    "max_continuous_count = max(continuous_counts)\n",
    "dp = [0] * (max_continuous_count + 3)\n",
    "dp[:3] = [1, 1, 2]\n",
    "for i in range(3, max_continuous_count + 1):\n",
    "    dp[i] = dp[i - 1] + dp[i - 2]\n",
    "    \n",
    "total_case_num = dp[continuous_counts[0]]\n",
    "del continuous_counts[0]\n",
    "\n",
    "for v in continuous_counts:\n",
    "    total_case_num *= dp[v]\n",
    "    \n",
    "print(total_case_num)"
   ]
  },
  {
   "cell_type": "markdown",
   "metadata": {},
   "source": [
    "### 스티커 9465"
   ]
  },
  {
   "cell_type": "code",
   "execution_count": 1,
   "metadata": {},
   "outputs": [
    {
     "name": "stdout",
     "output_type": "stream",
     "text": [
      "5\n",
      "50 10 100 20 40\n",
      "30 50 70 10 60\n"
     ]
    }
   ],
   "source": [
    "n = int(input())\n",
    "li = []\n",
    "for _ in range(2):\n",
    "    li.append(tuple(map(int, input().split())))"
   ]
  },
  {
   "cell_type": "code",
   "execution_count": 12,
   "metadata": {},
   "outputs": [],
   "source": [
    "dp = [[0] * n for _ in range(2)]"
   ]
  },
  {
   "cell_type": "code",
   "execution_count": 13,
   "metadata": {},
   "outputs": [],
   "source": [
    "dp[0][0] = li[0][0]\n",
    "dp[1][0] = li[1][0]"
   ]
  },
  {
   "cell_type": "code",
   "execution_count": 14,
   "metadata": {},
   "outputs": [],
   "source": [
    "dp[0][1] = dp[1][0] + li[0][1]\n",
    "dp[1][1] = dp[0][0] + li[1][1]"
   ]
  },
  {
   "cell_type": "code",
   "execution_count": 28,
   "metadata": {},
   "outputs": [
    {
     "name": "stdout",
     "output_type": "stream",
     "text": [
      "1\n",
      "2\n",
      "2 3\n",
      "3 5\n",
      "7\n"
     ]
    }
   ],
   "source": [
    "T = int(input())\n",
    "for _ in range(T):\n",
    "    n = int(input())\n",
    "\n",
    "    li = []\n",
    "    for _ in range(2):\n",
    "        li.append(tuple(map(int, input().split())))\n",
    "\n",
    "    if n == 1:\n",
    "        print(max(li[0][0], li[1][0]))\n",
    "    else:  \n",
    "        dp = [[0] * n for _ in range(2)]\n",
    "\n",
    "        dp[0][0] = li[0][0]\n",
    "        dp[1][0] = li[1][0]\n",
    "\n",
    "        dp[0][1] = dp[1][0] + li[0][1]\n",
    "        dp[1][1] = dp[0][0] + li[1][1]\n",
    "\n",
    "        for i in range(2, n):\n",
    "            dp[0][i] = max(dp[1][i - 1], dp[0][i - 2], dp[1][i - 2])\n",
    "            dp[0][i] += li[0][i]\n",
    "            dp[1][i] = max(dp[0][i - 1], dp[0][i - 2], dp[1][i - 2])\n",
    "            dp[1][i] += li[1][i]\n",
    "\n",
    "        print(max(dp[0][-1], dp[1][-1]))"
   ]
  },
  {
   "cell_type": "markdown",
   "metadata": {},
   "source": [
    "### 카드 구매하기 11052\n",
    "- 다이나믹 프로그래밍"
   ]
  },
  {
   "cell_type": "code",
   "execution_count": 29,
   "metadata": {},
   "outputs": [
    {
     "name": "stdout",
     "output_type": "stream",
     "text": [
      "4\n",
      "1 5 6 7\n"
     ]
    }
   ],
   "source": [
    "n = int(input())\n",
    "tp = tuple(map(int, input().split()))"
   ]
  },
  {
   "cell_type": "code",
   "execution_count": 33,
   "metadata": {},
   "outputs": [],
   "source": [
    "dp = [[0] * (n + 1) for _ in range(n + 1)]"
   ]
  },
  {
   "cell_type": "code",
   "execution_count": 34,
   "metadata": {},
   "outputs": [],
   "source": [
    "for i in range(1, n + 1):\n",
    "    for j in range(1, n + 1):\n",
    "        if i == 1:\n",
    "            dp[i][j] = dp[i][j - 1] + tp[i - 1]\n",
    "            continue\n",
    "        \n",
    "        if i <= j:\n",
    "            dp[i][j] = max(dp[i - 1][j], dp[i][j - i] + tp[i - 1])\n",
    "        else:\n",
    "            dp[i][j] = dp[i - 1][j]"
   ]
  },
  {
   "cell_type": "code",
   "execution_count": 37,
   "metadata": {},
   "outputs": [
    {
     "name": "stdout",
     "output_type": "stream",
     "text": [
      "10\n"
     ]
    }
   ],
   "source": [
    "print(dp[-1][-1])"
   ]
  },
  {
   "cell_type": "code",
   "execution_count": 45,
   "metadata": {},
   "outputs": [
    {
     "name": "stdout",
     "output_type": "stream",
     "text": [
      "4\n",
      "3 5 15 16\n",
      "18\n"
     ]
    }
   ],
   "source": [
    "n = int(input())\n",
    "tp = tuple(map(int, input().split()))\n",
    "\n",
    "if n == 1:\n",
    "    print(tp[0])\n",
    "else:\n",
    "    dp = [[0] * (n + 1) for _ in range(n + 1)]\n",
    "    for i in range(1, n + 1):\n",
    "        for j in range(1, n + 1):\n",
    "            if i == 1:\n",
    "                dp[i][j] = dp[i][j - 1] + tp[i - 1]\n",
    "                continue\n",
    "\n",
    "            if i <= j:\n",
    "                dp[i][j] = max(dp[i - 1][j], dp[i][j - i] + tp[i - 1])\n",
    "            else:\n",
    "                dp[i][j] = dp[i - 1][j]\n",
    "\n",
    "    print(dp[-1][-1])   "
   ]
  },
  {
   "cell_type": "markdown",
   "metadata": {},
   "source": [
    "### 내려가기 2 15645\n",
    "- 다이나믹 프로그래밍"
   ]
  },
  {
   "cell_type": "code",
   "execution_count": 50,
   "metadata": {},
   "outputs": [
    {
     "name": "stdout",
     "output_type": "stream",
     "text": [
      "1\n",
      "1 5 4\n",
      "5 1\n"
     ]
    }
   ],
   "source": [
    "import sys\n",
    "# input = sys.stdin.readline\n",
    "\n",
    "n = int(input())\n",
    "\n",
    "li = []\n",
    "for _ in range(n):\n",
    "    li.append(tuple(map(int, input().split())))\n",
    "\n",
    "if n == 1:\n",
    "    print(max(li[0]), min(li[0]))\n",
    "else:\n",
    "    dp = [[0] * 3 for _ in range(n)]\n",
    "    dp[0] = li[0]\n",
    "    for i in range(1, n):\n",
    "        dp[i][0] = max(dp[i - 1][0], dp[i - 1][1]) + li[i][0]\n",
    "        dp[i][1] = max(dp[i - 1]) + li[i][1]\n",
    "        dp[i][2] = max(dp[i - 1][1], dp[i - 1][2]) + li[i][2] \n",
    "\n",
    "    max_result = max(dp[-1])\n",
    "\n",
    "    dp = [[0] * 3 for _ in range(n)]\n",
    "    dp[0] = li[0]\n",
    "    for i in range(1, n):\n",
    "        dp[i][0] = min(dp[i - 1][0], dp[i - 1][1]) + li[i][0]\n",
    "        dp[i][1] = min(dp[i - 1]) + li[i][1]    \n",
    "        dp[i][2] = min(dp[i - 1][1], dp[i - 1][2]) + li[i][2]\n",
    "\n",
    "    min_result = min(dp[-1])\n",
    "    \n",
    "    print(max_result, min_result)"
   ]
  },
  {
   "cell_type": "markdown",
   "metadata": {},
   "source": [
    "### 탈옥 9376\n",
    "- 너비 우선 탐색, 다익스트라"
   ]
  },
  {
   "cell_type": "code",
   "execution_count": 6,
   "metadata": {},
   "outputs": [
    {
     "name": "stdout",
     "output_type": "stream",
     "text": [
      "1\n",
      "3 3\n",
      "...\n",
      "$$.\n",
      "...\n",
      "0\n"
     ]
    }
   ],
   "source": [
    "# 틀렸음, 일단 포기, 문제 이해를 잘못했을 가능성이 있음, 코드가 상대적으로 너무 길음\n",
    "# common_broken_door_num + 1 적용 위치 수정했음\n",
    "from collections import deque\n",
    "import sys\n",
    "# input = sys.stdin.readline\n",
    "\n",
    "dx = [0, 0, -1, 1]\n",
    "dy = [-1, 1, 0, 0]\n",
    "            \n",
    "def solo_bfs(s):\n",
    "    sx, sy = s\n",
    "    broken_doors = [[float('inf')] * w for _ in range(h)]\n",
    "    broken_doors[sx][sy] = 0\n",
    "    \n",
    "    queue = deque()\n",
    "    queue.append(s)\n",
    "    \n",
    "    while queue:\n",
    "        x, y = queue.popleft()\n",
    "        \n",
    "        for i in range(4):\n",
    "            nx = x + dx[i]\n",
    "            ny = y + dy[i]\n",
    "            \n",
    "            if 0 <= nx < h and 0 <= ny < w:\n",
    "                if li[nx][ny] != \"*\":   \n",
    "                    new_broken_door_num = broken_doors[x][y]\n",
    "\n",
    "                    if li[nx][ny] == '#':\n",
    "                        new_broken_door_num += 1\n",
    "                    if broken_doors[nx][ny] > new_broken_door_num:\n",
    "                        broken_doors[nx][ny] = new_broken_door_num\n",
    "                        queue.append((nx, ny))\n",
    "    return broken_doors\n",
    "                    \n",
    "    \n",
    "    \n",
    "def common_bfs(s, s_broken_doors, prior_broken_doors):\n",
    "    sx, sy = s\n",
    "    common_broken_doors = [[float('inf')] * w for _ in range(h)]\n",
    "    common_broken_doors[sx][sy] = 0\n",
    "\n",
    "    queue = deque()\n",
    "    queue.append((sx, sy, 0))\n",
    "    \n",
    "    while queue:\n",
    "        x, y, common_broken_door_num = queue.popleft()\n",
    "        \n",
    "        for i in range(4):\n",
    "            nx = x + dx[i]\n",
    "            ny = y + dy[i]\n",
    "            \n",
    "            if 0 <= nx < h and 0 <= ny < w:\n",
    "                if li[nx][ny] != \"*\":\n",
    "                    # b가 먼저 지나간 케이스를 예시로 들었음\n",
    "                    # b가 지나간 경로를 a가 지나갈 수 있는 경우\n",
    "                    if prior_broken_doors[nx][ny] <= s_broken_doors[nx][ny]:\n",
    "                        if li[nx][ny] == \".\" or li[nx][ny] == '$':\n",
    "                            if common_broken_doors[x][y] < common_broken_doors[nx][ny]:\n",
    "                                common_broken_doors[nx][ny] = common_broken_doors[x][y]\n",
    "                                queue.append((nx, ny, common_broken_door_num))\n",
    "                        else:\n",
    "                            # 처음 b가 지나간 경로를 지나가기 시작하는 경우\n",
    "                            if common_broken_door_num == 0:\n",
    "                                if s_broken_doors[nx][ny] + prior_broken_doors[nx][ny] - 1 < common_broken_doors[nx][ny]:\n",
    "                                    common_broken_doors[nx][ny] = s_broken_doors[nx][ny] + prior_broken_doors[nx][ny] - 1\n",
    "                                    queue.append((nx, ny, 1))\n",
    "                            else:\n",
    "                                # b가 지나간 경로를 따라서 가는 정방향의 경우\n",
    "                                if prior_broken_doors[x][y] < prior_broken_doors[nx][ny]:                             \n",
    "                                    if common_broken_doors[x][y] + 1 < common_broken_doors[nx][ny]:\n",
    "                                        common_broken_doors[nx][ny] = common_broken_doors[x][y] + 1\n",
    "                                        queue.append((nx, ny, common_broken_door_num + 1))\n",
    "                                # 역방향의 경우\n",
    "                                else:\n",
    "                                    # 처음부터 같이 가는 경우가 더 좋은 경우\n",
    "                                    if prior_broken_doors[nx][ny] + s_broken_doors[nx][ny] - 1 < common_broken_doors[x][y] + 1:\n",
    "                                        if s_broken_doors[nx][ny] + prior_broken_doors[nx][ny] - 1 < common_broken_doors[nx][ny]:\n",
    "                                            common_broken_doors[nx][ny] = s_broken_doors[nx][ny] + prior_broken_doors[nx][ny] - 1\n",
    "                                            queue.append((nx, ny, 1))\n",
    "                                    # 기존에 정방향으로 간 것을 살리는 것이 더 좋은 경우\n",
    "                                    else:\n",
    "                                        if common_broken_doors[x][y] + 1 < common_broken_doors[nx][ny]:\n",
    "                                            common_broken_doors[nx][ny] = common_broken_doors[x][y] + 1\n",
    "                                            queue.append((nx, ny, common_broken_door_num + 1))\n",
    "                    # b가 지나간 경로를 a가 지나갈 수 없는 경우\n",
    "                    else:\n",
    "                        if s_broken_doors[nx][ny] + prior_broken_doors[nx][ny] < common_broken_doors[nx][ny]:\n",
    "                            common_broken_doors[nx][ny] = s_broken_doors[nx][ny] + prior_broken_doors[nx][ny]         \n",
    "                            queue.append((nx, ny, common_broken_door_num))\n",
    "    return common_broken_doors\n",
    "                            \n",
    "def get_min_possible(broken_doors):\n",
    "    min_possible = float('inf')\n",
    "    for i in range(h):\n",
    "        for j in range(w):\n",
    "            if i == 0 or i == h - 1 or j == 0 or j == w - 1:\n",
    "                if broken_doors[i][j] < min_possible:\n",
    "                    min_possible = broken_doors[i][j]\n",
    "    return min_possible\n",
    "        \n",
    "T = int(input().strip())\n",
    "for _ in range(T):\n",
    "    h, w = map(int, input().strip().split())\n",
    "    li = []\n",
    "    for _ in range(h):\n",
    "        li.append(input().strip())\n",
    "\n",
    "    prisoners = []\n",
    "    for i in range(h):\n",
    "        for j in range(w):\n",
    "            if li[i][j] == '$':\n",
    "                prisoners.append((i, j))\n",
    "\n",
    "    pa, pb = prisoners\n",
    "\n",
    "    pa_broken_doors = solo_bfs(pa)\n",
    "    pb_broken_doors = solo_bfs(pb)\n",
    "    pb_first_common_broken_doors = common_bfs(pa, pa_broken_doors, pb_broken_doors)\n",
    "    pa_first_common_broken_doors = common_bfs(pb, pb_broken_doors, pa_broken_doors)\n",
    "\n",
    "    candidate1 = get_min_possible(pa_broken_doors) + get_min_possible(pb_broken_doors)\n",
    "    candidate2 = get_min_possible(pb_first_common_broken_doors)\n",
    "    candidate3 = get_min_possible(pa_first_common_broken_doors)\n",
    "\n",
    "    print(min(candidate1, candidate2, candidate3))"
   ]
  },
  {
   "cell_type": "code",
   "execution_count": null,
   "metadata": {},
   "outputs": [],
   "source": [
    "7 11\n",
    "***********\n",
    "**$*$******\n",
    "**#*#******\n",
    "**#*#******\n",
    "*.........*\n",
    "*#*******#*\n",
    "*#*******.*\n"
   ]
  },
  {
   "cell_type": "code",
   "execution_count": 63,
   "metadata": {},
   "outputs": [
    {
     "data": {
      "text/plain": [
       "[[inf, inf, inf, inf, inf], [inf, 0, 0, 1, 2], [inf, inf, inf, inf, inf]]"
      ]
     },
     "execution_count": 63,
     "metadata": {},
     "output_type": "execute_result"
    }
   ],
   "source": [
    "pa_broken_doors"
   ]
  },
  {
   "cell_type": "code",
   "execution_count": 64,
   "metadata": {},
   "outputs": [
    {
     "data": {
      "text/plain": [
       "[[inf, inf, inf, inf, inf], [inf, 0, 0, 1, 2], [inf, inf, inf, inf, inf]]"
      ]
     },
     "execution_count": 64,
     "metadata": {},
     "output_type": "execute_result"
    }
   ],
   "source": [
    "pb_broken_doors"
   ]
  },
  {
   "cell_type": "code",
   "execution_count": 65,
   "metadata": {},
   "outputs": [
    {
     "data": {
      "text/plain": [
       "[[inf, inf, inf, inf, inf], [inf, 0, 0, 1, 2], [inf, inf, inf, inf, inf]]"
      ]
     },
     "execution_count": 65,
     "metadata": {},
     "output_type": "execute_result"
    }
   ],
   "source": [
    "pb_first_common_broken_doors"
   ]
  },
  {
   "cell_type": "code",
   "execution_count": 66,
   "metadata": {},
   "outputs": [
    {
     "data": {
      "text/plain": [
       "[[inf, inf, inf, inf, inf], [inf, 0, 0, 1, 2], [inf, inf, inf, inf, inf]]"
      ]
     },
     "execution_count": 66,
     "metadata": {},
     "output_type": "execute_result"
    }
   ],
   "source": [
    "pa_first_common_broken_doors"
   ]
  },
  {
   "cell_type": "markdown",
   "metadata": {},
   "source": [
    "### N-Queen 2 21133\n",
    "- 구성적, Case work"
   ]
  },
  {
   "cell_type": "code",
   "execution_count": 7,
   "metadata": {},
   "outputs": [
    {
     "name": "stdout",
     "output_type": "stream",
     "text": [
      "5\n"
     ]
    }
   ],
   "source": [
    "n = int(input())"
   ]
  },
  {
   "cell_type": "code",
   "execution_count": 8,
   "metadata": {},
   "outputs": [
    {
     "name": "stdout",
     "output_type": "stream",
     "text": [
      "2\n",
      "4\n",
      "1\n",
      "3\n",
      "5\n"
     ]
    }
   ],
   "source": [
    "n = int(input())\n",
    "\n",
    "column = 2\n",
    "while column <= n:\n",
    "    print(column)\n",
    "    column += 2\n",
    "    \n",
    "column = 1\n",
    "while column <= n:\n",
    "    print(column)\n",
    "    column += 2"
   ]
  },
  {
   "cell_type": "code",
   "execution_count": null,
   "metadata": {},
   "outputs": [],
   "source": [
    "8, 9, 14, 15, 20, 21 겹침"
   ]
  },
  {
   "cell_type": "code",
   "execution_count": 37,
   "metadata": {
    "scrolled": true
   },
   "outputs": [
    {
     "name": "stdout",
     "output_type": "stream",
     "text": [
      "[0, 1, 0, 0, 0, 0, 0, 0, 0, 0, 0, 0, 0, 0, 0, 0, 0, 0, 0, 0, 0]\n",
      "[0, 0, 0, 1, 0, 0, 0, 0, 0, 0, 0, 0, 0, 0, 0, 0, 0, 0, 0, 0, 0]\n",
      "[0, 0, 0, 0, 0, 1, 0, 0, 0, 0, 0, 0, 0, 0, 0, 0, 0, 0, 0, 0, 0]\n",
      "[0, 0, 0, 0, 0, 0, 0, 1, 0, 0, 0, 0, 0, 0, 0, 0, 0, 0, 0, 0, 0]\n",
      "[0, 0, 0, 0, 0, 0, 0, 0, 0, 1, 0, 0, 0, 0, 0, 0, 0, 0, 0, 0, 0]\n",
      "[0, 0, 0, 0, 0, 0, 0, 0, 0, 0, 0, 1, 0, 0, 0, 0, 0, 0, 0, 0, 0]\n",
      "[0, 0, 0, 0, 0, 0, 0, 0, 0, 0, 0, 0, 0, 1, 0, 0, 0, 0, 0, 0, 0]\n",
      "[0, 0, 0, 0, 0, 0, 0, 0, 0, 0, 0, 0, 0, 0, 0, 1, 0, 0, 0, 0, 0]\n",
      "[0, 0, 0, 0, 0, 0, 0, 0, 0, 0, 0, 0, 0, 0, 0, 0, 0, 1, 0, 0, 0]\n",
      "[0, 0, 0, 0, 0, 0, 0, 0, 0, 0, 0, 0, 0, 0, 0, 0, 0, 0, 0, 1, 0]\n",
      "[1, 0, 0, 0, 0, 0, 0, 0, 0, 0, 0, 0, 0, 0, 0, 0, 0, 0, 0, 0, 0]\n",
      "[0, 0, 1, 0, 0, 0, 0, 0, 0, 0, 0, 0, 0, 0, 0, 0, 0, 0, 0, 0, 0]\n",
      "[0, 0, 0, 0, 1, 0, 0, 0, 0, 0, 0, 0, 0, 0, 0, 0, 0, 0, 0, 0, 0]\n",
      "[0, 0, 0, 0, 0, 0, 1, 0, 0, 0, 0, 0, 0, 0, 0, 0, 0, 0, 0, 0, 0]\n",
      "[0, 0, 0, 0, 0, 0, 0, 0, 1, 0, 0, 0, 0, 0, 0, 0, 0, 0, 0, 0, 0]\n",
      "[0, 0, 0, 0, 0, 0, 0, 0, 0, 0, 1, 0, 0, 0, 0, 0, 0, 0, 0, 0, 0]\n",
      "[0, 0, 0, 0, 0, 0, 0, 0, 0, 0, 0, 0, 1, 0, 0, 0, 0, 0, 0, 0, 0]\n",
      "[0, 0, 0, 0, 0, 0, 0, 0, 0, 0, 0, 0, 0, 0, 1, 0, 0, 0, 0, 0, 0]\n",
      "[0, 0, 0, 0, 0, 0, 0, 0, 0, 0, 0, 0, 0, 0, 0, 0, 1, 0, 0, 0, 0]\n",
      "[0, 0, 0, 0, 0, 0, 0, 0, 0, 0, 0, 0, 0, 0, 0, 0, 0, 0, 1, 0, 0]\n",
      "[0, 0, 0, 0, 0, 0, 0, 0, 0, 0, 0, 0, 0, 0, 0, 0, 0, 0, 0, 0, 1]\n"
     ]
    }
   ],
   "source": [
    "n = 21\n",
    "\n",
    "li = [[0] * n for _ in range(n)]\n",
    "\n",
    "columns = []\n",
    "\n",
    "column = 2\n",
    "while column <= n:\n",
    "    columns.append(column)\n",
    "    column += 2\n",
    "    \n",
    "column = 1\n",
    "while column <= n:\n",
    "    columns.append(column)\n",
    "    column += 2\n",
    "    \n",
    "for i in range(n):\n",
    "    li[i][columns[i] - 1] = 1\n",
    "    \n",
    "for i in range(n):\n",
    "    print(li[i])"
   ]
  },
  {
   "cell_type": "code",
   "execution_count": 44,
   "metadata": {},
   "outputs": [
    {
     "name": "stdout",
     "output_type": "stream",
     "text": [
      "4\n",
      "1\n",
      "3\n",
      "2\n",
      "4\n"
     ]
    }
   ],
   "source": [
    "n = int(input())\n",
    "\n",
    "space = (n + 1) // 2\n",
    "a = 1\n",
    "b = a + space\n",
    "while b <= n:\n",
    "    print(a)\n",
    "    print(b)\n",
    "    a += 1\n",
    "    b += 1\n",
    "    \n",
    "if n % 2 == 1:\n",
    "    print(a)"
   ]
  },
  {
   "cell_type": "code",
   "execution_count": 89,
   "metadata": {
    "scrolled": true
   },
   "outputs": [
    {
     "name": "stdout",
     "output_type": "stream",
     "text": [
      "9\n",
      "[1, 0, 0, 0, 0, 0, 0, 0, 0]\n",
      "[0, 0, 0, 0, 0, 1, 0, 0, 0]\n",
      "[0, 1, 0, 0, 0, 0, 0, 0, 0]\n",
      "[0, 0, 0, 0, 0, 0, 1, 0, 0]\n",
      "[0, 0, 1, 0, 0, 0, 0, 0, 0]\n",
      "[0, 0, 0, 0, 0, 0, 0, 1, 0]\n",
      "[0, 0, 0, 1, 0, 0, 0, 0, 0]\n",
      "[0, 0, 0, 0, 0, 0, 0, 0, 1]\n",
      "[0, 0, 0, 0, 1, 0, 0, 0, 0]\n"
     ]
    }
   ],
   "source": [
    "n = int(input())\n",
    "\n",
    "columns = []\n",
    "\n",
    "# space = (n + 1) // 2 - 1\n",
    "space = 5\n",
    "a = 1\n",
    "b = a + space\n",
    "while b <= n:\n",
    "    columns.append(a)\n",
    "    columns.append(b)\n",
    "    a += 1\n",
    "    b += 1\n",
    "    \n",
    "if n % 2 == 1:\n",
    "    columns.append(a)\n",
    "    \n",
    "li = [[0] * n for _ in range(n)]\n",
    "\n",
    "for i in range(n):\n",
    "    li[i][columns[i] - 1] = 1\n",
    "    \n",
    "for i in range(n):\n",
    "    print(li[i])"
   ]
  }
 ],
 "metadata": {
  "kernelspec": {
   "display_name": "Python 3",
   "language": "python",
   "name": "python3"
  },
  "language_info": {
   "codemirror_mode": {
    "name": "ipython",
    "version": 3
   },
   "file_extension": ".py",
   "mimetype": "text/x-python",
   "name": "python",
   "nbconvert_exporter": "python",
   "pygments_lexer": "ipython3",
   "version": "3.7.3"
  }
 },
 "nbformat": 4,
 "nbformat_minor": 4
}
