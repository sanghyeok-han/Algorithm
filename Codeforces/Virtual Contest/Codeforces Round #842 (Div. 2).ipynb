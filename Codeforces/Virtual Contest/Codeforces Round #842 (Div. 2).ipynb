{
 "cells": [
  {
   "cell_type": "markdown",
   "metadata": {},
   "source": [
    "A"
   ]
  },
  {
   "cell_type": "code",
   "execution_count": null,
   "metadata": {},
   "outputs": [],
   "source": [
    "import io, os, sys\n",
    "input = io.BytesIO(os.read(0, os.fstat(0).st_size)).readline\n",
    "\n",
    "for _ in range(int(input())):\n",
    "    n = int(input())\n",
    "\n",
    "    print(n - 1)"
   ]
  },
  {
   "cell_type": "markdown",
   "metadata": {},
   "source": [
    "B"
   ]
  },
  {
   "cell_type": "code",
   "execution_count": 5,
   "metadata": {},
   "outputs": [
    {
     "name": "stdout",
     "output_type": "stream",
     "text": [
      "4 2\n",
      "2 3 1 4\n",
      "2\n"
     ]
    }
   ],
   "source": [
    "import io, os, sys\n",
    "input = io.BytesIO(os.read(0, os.fstat(0).st_size)).readline\n",
    "\n",
    "for _ in range(int(input())):\n",
    "    n, k = map(int, input().split())\n",
    "    li = list(map(int, input().split()))\n",
    "\n",
    "    to_find = 1\n",
    "    for i in range(n):\n",
    "        if li[i] == to_find:\n",
    "            to_find += 1\n",
    "\n",
    "    c = to_find - 1\n",
    "    to_move_value_c = n - c\n",
    "\n",
    "    to_move_c = to_move_value_c // k\n",
    "    if to_move_value_c % k:\n",
    "        to_move_c += 1\n",
    "\n",
    "    print(to_move_c)"
   ]
  },
  {
   "cell_type": "markdown",
   "metadata": {},
   "source": [
    "C"
   ]
  },
  {
   "cell_type": "code",
   "execution_count": 14,
   "metadata": {},
   "outputs": [
    {
     "name": "stdout",
     "output_type": "stream",
     "text": [
      "4\n",
      "4 3 3 2\n",
      "YES\n",
      "4 3 1 2\n",
      "4 2 3 1\n"
     ]
    }
   ],
   "source": [
    "import io, os, sys\n",
    "input = io.BytesIO(os.read(0, os.fstat(0).st_size)).readline\n",
    "\n",
    "for _ in range(int(input())):\n",
    "    n = int(input())\n",
    "    li = list(map(int, input().split()))\n",
    "\n",
    "    nli = [(li[i], i) for i in range(n)]\n",
    "    nli.sort(key=lambda x: -x[0])\n",
    "\n",
    "    ps = [0] * n\n",
    "    qs = [0] * n\n",
    "\n",
    "    p_left = set(range(1, n + 1))\n",
    "    q_left = set(range(1, n + 1))\n",
    "\n",
    "    ip = True\n",
    "    for i in range(n):\n",
    "        v, index = nli[i]\n",
    "\n",
    "        if v in p_left:\n",
    "            p_left.discard(v)\n",
    "            ps[index] = v\n",
    "        elif v in q_left:\n",
    "            q_left.discard(v)\n",
    "            qs[index] = v\n",
    "        else:\n",
    "            ip = False\n",
    "            break\n",
    "\n",
    "    if ip:\n",
    "        p_left = sorted(p_left)\n",
    "        q_left = sorted(q_left)\n",
    "\n",
    "        for i in range(n):\n",
    "            v, index = nli[i]\n",
    "\n",
    "            if ps[index] == 0:\n",
    "                to_check = p_left.pop()\n",
    "\n",
    "                if to_check <= v:\n",
    "                    ps[index] = to_check\n",
    "                else:\n",
    "                    ip = False\n",
    "                    break\n",
    "            elif qs[index] == 0:\n",
    "                to_check = q_left.pop()\n",
    "\n",
    "                if to_check <= v:\n",
    "                    qs[index] = to_check\n",
    "                else:\n",
    "                    ip = False\n",
    "                    break\n",
    "\n",
    "    if not ip:\n",
    "        print('NO')\n",
    "    else:\n",
    "        print('YES')\n",
    "        print(*ps)\n",
    "        print(*qs)"
   ]
  },
  {
   "cell_type": "markdown",
   "metadata": {},
   "source": [
    "D"
   ]
  },
  {
   "cell_type": "code",
   "execution_count": 44,
   "metadata": {},
   "outputs": [
    {
     "name": "stdout",
     "output_type": "stream",
     "text": [
      "4\n",
      "2 4 3 1\n",
      "1\n"
     ]
    }
   ],
   "source": [
    "import io, os, sys\n",
    "input = io.BytesIO(os.read(0, os.fstat(0).st_size)).readline\n",
    "\n",
    "for _ in range(int(input())):\n",
    "    n = int(input())\n",
    "    li = list(map(int, input().split()))\n",
    "\n",
    "    G = [-1] * n\n",
    "    for i in range(n):\n",
    "        value = i\n",
    "        v = li[i] - 1\n",
    "\n",
    "        G[value] = v\n",
    "\n",
    "    vt = [False] * n\n",
    "\n",
    "    is_one_inv = False\n",
    "    needed = 0\n",
    "    for i in range(n):\n",
    "        if vt[i]:\n",
    "            continue\n",
    "\n",
    "        cycle = {i}\n",
    "        cur = i\n",
    "        while True:\n",
    "            cur = G[cur]\n",
    "\n",
    "            if vt[cur]:\n",
    "                break\n",
    "            vt[cur] = True\n",
    "            cycle.add(cur)\n",
    "\n",
    "        sc = sorted(cycle)\n",
    "        sc_len = len(sc)\n",
    "        for i in range(sc_len - 1):\n",
    "            if sc[i] + 1 == sc[i + 1]:\n",
    "                is_one_inv = True\n",
    "                break\n",
    "\n",
    "        needed += sc_len - 1\n",
    "\n",
    "    if is_one_inv:\n",
    "        needed -= 1\n",
    "    else:\n",
    "        needed += 1\n",
    "\n",
    "    print(needed)"
   ]
  },
  {
   "cell_type": "markdown",
   "metadata": {},
   "source": [
    "E"
   ]
  },
  {
   "cell_type": "code",
   "execution_count": null,
   "metadata": {},
   "outputs": [],
   "source": [
    "s: sorted\n",
    "\n",
    "0번 sa     sb      sc\n",
    "\n",
    "1번 sa     b c    b c\n",
    "    a b    a b     sc    \n",
    "    \n",
    "-   sa      b      sc\n",
    "    \n",
    "2번 abc    abc     bc\n",
    "    ab     abc    abc\n",
    "\n",
    "-   ab     abc     bc    = a      ac    c  # b는 남는 위치 배치 가능\n",
    "    \n",
    "\n",
    "3번 그 외 전부"
   ]
  },
  {
   "cell_type": "code",
   "execution_count": 89,
   "metadata": {},
   "outputs": [
    {
     "name": "stdout",
     "output_type": "stream",
     "text": [
      "69 999900997\n",
      "69 999900997\n",
      "193862705\n"
     ]
    }
   ],
   "source": [
    "max_num = 3000001\n",
    "\n",
    "n, mod = map(int, input().split())\n",
    "\n",
    "factos = [0] * (max_num + 1)\n",
    "factos[0] = 1\n",
    "invs = [0] * (max_num + 1)\n",
    "cur = 1\n",
    "for i in range(1, max_num + 1):\n",
    "    cur *= i\n",
    "    cur %= mod\n",
    "    factos[i] = cur\n",
    "    \n",
    "invs[max_num] = pow(factos[max_num], mod - 2, mod)\n",
    "for i in range(max_num - 1, -1, -1):\n",
    "    invs[i] = (i + 1) * invs[i + 1] % mod\n",
    "\n",
    "def nCk(n, k):\n",
    "    if n < k:\n",
    "        return 0\n",
    "    if k < 0:\n",
    "        return 0\n",
    "    return factos[n] * invs[k] * invs[n - k] % mod\n",
    " \n",
    "def nPk(n, k):\n",
    "    if k == 0:\n",
    "        return 1\n",
    "    \n",
    "    return nCk(n, k) * factos[k] % mod\n",
    "\n",
    "c0 = 1\n",
    "c01 = factos[2 * n] * 2 - factos[n]\n",
    "c012_init = (nPk(2 * n, n) * factos[2 * n]) * 2\n",
    "\n",
    "intersection_c = 0\n",
    "for i in range(n + 1):\n",
    "    temp = nCk(n, i) * factos[i] % mod * nCk(n, i) % mod * nPk(n, n - i) % mod * nPk(n, i) % mod * factos[2 * n - i]\n",
    "    intersection_c += temp\n",
    "    intersection_c %= mod\n",
    "    \n",
    "c012 = c012_init - intersection_c\n",
    "    \n",
    "c0123 = factos[3 * n]\n",
    "\n",
    "c1 = c01 - c0\n",
    "c2 = c012 - c01\n",
    "c3 = c0123 - c012\n",
    "\n",
    "c0 %= mod\n",
    "c1 %= mod\n",
    "c2 %= mod\n",
    "c3 %= mod\n",
    "\n",
    "result = c0 * 0 + c1 * 1 + c2 * 2 + c3 * 3\n",
    "result %= mod\n",
    "\n",
    "print(result)"
   ]
  },
  {
   "cell_type": "code",
   "execution_count": 87,
   "metadata": {},
   "outputs": [
    {
     "name": "stdout",
     "output_type": "stream",
     "text": [
      "0 48\n",
      "1 96\n",
      "2 8\n",
      "1689\n"
     ]
    }
   ],
   "source": [
    "c0 = 1\n",
    "c01 = factos[2 * n] * 2 - factos[n]\n",
    "c012_init = (nPk(2 * n, n) * factos[2 * n]) * 2\n",
    "\n",
    "intersection_c = 0\n",
    "for i in range(n + 1):\n",
    "#     temp = nPk(n, i) * nPk(n, n - i) * nPk(n, i) * nPk(2 * n - i, n - i) * factos[n] % mod\n",
    "#     temp = nPk(n, i) * nPk(n, n - i) * nPk(n, i) * factos[2 * n - i]\n",
    "\n",
    "    temp = nCk(n, i) * factos[i] * nCk(n, i) * nPk(n, n - i) * nPk(n, i) * factos[2 * n - i]\n",
    "    \n",
    "#     temp = nCk(n, n - i) * nCk(n, i) * nCk(2 * n - i, n) * factos[n] * factos[n] * factos[n]\n",
    "\n",
    "    intersection_c += temp\n",
    "    \n",
    "c012 = c012_init - intersection_c\n",
    "    \n",
    "c0123 = factos[3 * n]\n",
    "\n",
    "c1 = c01 - c0\n",
    "c2 = c012 - c01\n",
    "c3 = c0123 - c012\n",
    "\n",
    "c0 %= mod\n",
    "c1 %= mod\n",
    "c2 %= mod\n",
    "c3 %= mod\n",
    "\n",
    "result = c0 * 0 + c1 * 1 + c2 * 2 + c3 * 3\n",
    "result %= mod\n",
    "\n",
    "print(result)"
   ]
  },
  {
   "cell_type": "code",
   "execution_count": 66,
   "metadata": {},
   "outputs": [
    {
     "name": "stdout",
     "output_type": "stream",
     "text": [
      "152\n"
     ]
    }
   ],
   "source": [
    "from itertools import permutations as perm\n",
    "\n",
    "c = 0\n",
    "for case in perm(range(6)):\n",
    "    if 0 in case[-2:] or 1 in case[-2:]:\n",
    "        continue\n",
    "    if 4 in case[:2] or 5 in case[:2]:\n",
    "        continue\n",
    "        \n",
    "    c += 1\n",
    "    \n",
    "print(c)"
   ]
  }
 ],
 "metadata": {
  "kernelspec": {
   "display_name": "Python 3",
   "language": "python",
   "name": "python3"
  },
  "language_info": {
   "codemirror_mode": {
    "name": "ipython",
    "version": 3
   },
   "file_extension": ".py",
   "mimetype": "text/x-python",
   "name": "python",
   "nbconvert_exporter": "python",
   "pygments_lexer": "ipython3",
   "version": "3.7.4"
  }
 },
 "nbformat": 4,
 "nbformat_minor": 2
}
