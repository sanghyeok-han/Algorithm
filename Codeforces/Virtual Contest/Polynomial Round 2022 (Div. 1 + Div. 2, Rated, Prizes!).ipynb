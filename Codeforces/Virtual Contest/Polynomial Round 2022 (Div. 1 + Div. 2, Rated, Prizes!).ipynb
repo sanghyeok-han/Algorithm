{
 "cells": [
  {
   "cell_type": "markdown",
   "metadata": {},
   "source": [
    "A"
   ]
  },
  {
   "cell_type": "code",
   "execution_count": 6,
   "metadata": {},
   "outputs": [
    {
     "name": "stdout",
     "output_type": "stream",
     "text": [
      "5\n",
      "01101\n",
      "+-++\n"
     ]
    }
   ],
   "source": [
    "import sys\n",
    "input = lambda: sys.stdin.readline().rstrip()\n",
    "\n",
    "for _ in range(int(input())):\n",
    "    n = int(input())\n",
    "    li = list(map(int, input()))\n",
    "\n",
    "    cur = li[0]\n",
    "    result = []\n",
    "    for i in range(1, n):\n",
    "        if li[i] == 0:\n",
    "            result.append('+')\n",
    "        else:\n",
    "            if cur == 1:\n",
    "                result.append('-')\n",
    "                cur -= 1\n",
    "            else:\n",
    "                result.append('+')\n",
    "                cur += 1\n",
    "\n",
    "    result = ''.join(result)\n",
    "\n",
    "    print(result)"
   ]
  },
  {
   "cell_type": "markdown",
   "metadata": {},
   "source": [
    "B"
   ]
  },
  {
   "cell_type": "code",
   "execution_count": 18,
   "metadata": {},
   "outputs": [
    {
     "name": "stdout",
     "output_type": "stream",
     "text": [
      "14 6 3\n",
      "6 6 1 1 1 1\n",
      "NO\n"
     ]
    }
   ],
   "source": [
    "import io, os, sys\n",
    "input = io.BytesIO(os.read(0, os.fstat(0).st_size)).readline\n",
    "\n",
    "for _ in range(int(input())):\n",
    "    n, m, k = map(int, input().split())\n",
    "    li = sorted(map(int, input().split()), reverse=True)\n",
    "\n",
    "    if k == 1:\n",
    "        print('YES')\n",
    "    elif m < k:\n",
    "        if n > m:\n",
    "            print('NO')\n",
    "        else:\n",
    "            print('YES')\n",
    "    else:\n",
    "        ip = True\n",
    "        early_used = False\n",
    "        rc = sum(li[k - 1:])\n",
    "        w = 1\n",
    "        to_minus = 0\n",
    "        for i in range(k - 2, -1, -1):\n",
    "            li[i] -= to_minus\n",
    "            to_minus += li[i]\n",
    "\n",
    "            can_use = rc // w\n",
    "            rc -= can_use * w\n",
    "\n",
    "            if li[i] > can_use:\n",
    "                if li[i] - can_use == 1 and not early_used:\n",
    "                    early_used = True\n",
    "                    to_minus += 1\n",
    "                else:\n",
    "                    ip = False\n",
    "                    break\n",
    "\n",
    "            w += 1\n",
    "\n",
    "        if ip:\n",
    "            print('YES')\n",
    "        else:\n",
    "            print('NO')"
   ]
  },
  {
   "cell_type": "code",
   "execution_count": 4,
   "metadata": {},
   "outputs": [
    {
     "name": "stdout",
     "output_type": "stream",
     "text": [
      "14 6 3\n",
      "4 4 1 1 1 1\n",
      "YES\n"
     ]
    }
   ],
   "source": [
    "import io, os, sys\n",
    "# input = io.BytesIO(os.read(0, os.fstat(0).st_size)).readline\n",
    "\n",
    "for _ in range(int(input())):\n",
    "    n, m, k = map(int, input().split())\n",
    "    li = list(map(int, input().split()))\n",
    "\n",
    "    max_can_c = n // k\n",
    "    if n % k:\n",
    "        max_can_c += 1\n",
    "\n",
    "    ip = True\n",
    "    if max(li) > max_can_c:\n",
    "        ip = False\n",
    "\n",
    "    if ip:\n",
    "        remained_c = n % k\n",
    "\n",
    "        if remained_c and remained_c < li.count(max_can_c):\n",
    "            ip = False\n",
    "\n",
    "    if ip:\n",
    "        print('YES')\n",
    "    else:\n",
    "        print('NO')"
   ]
  },
  {
   "cell_type": "markdown",
   "metadata": {},
   "source": [
    "C"
   ]
  },
  {
   "cell_type": "code",
   "execution_count": 27,
   "metadata": {},
   "outputs": [
    {
     "name": "stdout",
     "output_type": "stream",
     "text": [
      "2\n",
      "4\n",
      "001\n",
      "1 1 3\n",
      "4\n",
      "101\n",
      "1 2 3\n"
     ]
    }
   ],
   "source": [
    "import sys\n",
    "input = lambda: sys.stdin.readline().rstrip()\n",
    "\n",
    "for _ in range(int(input())):\n",
    "    n = int(input())\n",
    "    li = list(map(int, input()))\n",
    "\n",
    "    result = []\n",
    "    cont_c = 0\n",
    "    fv = -1\n",
    "    for i in range(n - 1):\n",
    "        v = li[i]\n",
    "        \n",
    "        if v == fv:\n",
    "            cont_c += 1\n",
    "        else:\n",
    "            cont_c = 1\n",
    "        fv = v\n",
    "        \n",
    "        result.append(i + 2 - cont_c)\n",
    "\n",
    "    print(*result)"
   ]
  },
  {
   "cell_type": "markdown",
   "metadata": {},
   "source": [
    "D"
   ]
  },
  {
   "cell_type": "code",
   "execution_count": null,
   "metadata": {},
   "outputs": [],
   "source": [
    "1 개수의 총합은 n의 배수여야 함. 그렇다면 모든 경우에 가능해짐."
   ]
  },
  {
   "cell_type": "code",
   "execution_count": 38,
   "metadata": {},
   "outputs": [
    {
     "name": "stdout",
     "output_type": "stream",
     "text": [
      "4 3\n",
      "1 0 0\n",
      "0 1 1\n",
      "0 0 1\n",
      "0 0 0\n",
      "1\n",
      "2 4 2\n"
     ]
    }
   ],
   "source": [
    "import io, os, sys\n",
    "input = io.BytesIO(os.read(0, os.fstat(0).st_size)).readline\n",
    "\n",
    "for _ in range(int(input())):\n",
    "    n, m = map(int, input().split())\n",
    "    li = [list(map(int, input().split())) for _ in range(n)]\n",
    "\n",
    "    total_c1 = 0\n",
    "    c1_by_rows = [0] * n\n",
    "\n",
    "    for i in range(n):\n",
    "        c1 = sum(li[i])\n",
    "        total_c1 += c1\n",
    "        c1_by_rows[i] = c1\n",
    "\n",
    "    if total_c1 % n != 0:\n",
    "        print(-1)\n",
    "    else:\n",
    "        cri = total_c1 // n\n",
    "\n",
    "        result = []\n",
    "        for j in range(m):\n",
    "            mores = []\n",
    "            lesses = []\n",
    "            for i in range(n):\n",
    "                if li[i][j] == 1 and c1_by_rows[i] > cri:\n",
    "                    mores.append(i)\n",
    "                elif li[i][j] == 0 and c1_by_rows[i] < cri:\n",
    "                    lesses.append(i)\n",
    "\n",
    "            while mores and lesses:\n",
    "                more_i = mores.pop()\n",
    "                less_i = lesses.pop()\n",
    "\n",
    "                result.append((more_i + 1, less_i + 1, j + 1))\n",
    "\n",
    "                c1_by_rows[more_i] -= 1\n",
    "                c1_by_rows[less_i] += 1\n",
    "\n",
    "\n",
    "        print(len(result))\n",
    "        for v in result:\n",
    "            print(*v)"
   ]
  },
  {
   "cell_type": "markdown",
   "metadata": {},
   "source": [
    "E"
   ]
  },
  {
   "cell_type": "code",
   "execution_count": null,
   "metadata": {},
   "outputs": [],
   "source": [
    "모든 경로는 두 번씩 이동함\n",
    "\n",
    "공통 경로를 먼저 찾은 다음에 각각 찾아야 하는 것들을 기준으로 공통 경로를 확장시킴"
   ]
  },
  {
   "cell_type": "code",
   "execution_count": 65,
   "metadata": {},
   "outputs": [
    {
     "name": "stdout",
     "output_type": "stream",
     "text": [
      "8\n"
     ]
    }
   ],
   "source": [
    "import io, os, sys\n",
    "input = io.BytesIO(os.read(0, os.fstat(0).st_size)).readline\n",
    "\n",
    "inf = float('inf')\n",
    "\n",
    "## PYRIVAL BOOTSTRAP\n",
    "# https://github.com/cheran-senthil/PyRival/blob/master/pyrival/misc/bootstrap.py\n",
    "# This decorator allows for recursion without actually doing recursion\n",
    "## @bootstrap, yield when getting and returning value in recursive functions, end of functions\n",
    "from types import GeneratorType\n",
    "\n",
    "def bootstrap(f, stack=[]):\n",
    "    def wrappedfunc(*args, **kwargs):\n",
    "        if stack:\n",
    "            return f(*args, **kwargs)\n",
    "        else:\n",
    "            to = f(*args, **kwargs)\n",
    "            while True:\n",
    "                if type(to) is GeneratorType:\n",
    "                    stack.append(to)\n",
    "                    to = next(to)\n",
    "                else:\n",
    "                    stack.pop()\n",
    "                    if not stack:\n",
    "                        break\n",
    "                    to = stack[-1].send(to)\n",
    "            return to\n",
    "    return wrappedfunc\n",
    "\n",
    "@bootstrap\n",
    "def dfs(value):\n",
    "    global common_len, solo_len\n",
    "    \n",
    "    vt[value] = True\n",
    "    seen_a = seen_b = False\n",
    "    for v in li[value]:\n",
    "        if vt[v]:\n",
    "            continue\n",
    "\n",
    "        yield dfs(v)\n",
    "        seen_a = seen_a or seens[v][0]\n",
    "        seen_b = seen_b or seens[v][1]\n",
    "            \n",
    "    if value >= 2:\n",
    "        if value in A:\n",
    "            seen_a = True\n",
    "        if value in B:\n",
    "            seen_b = True\n",
    "        \n",
    "        if seen_a and seen_b:\n",
    "            common_len += 1\n",
    "        elif seen_a or seen_b:\n",
    "            solo_len += 1\n",
    "    \n",
    "        seens[value] = [seen_a, seen_b]\n",
    "        \n",
    "    yield\n",
    "    \n",
    "@bootstrap\n",
    "def dfs2(value):\n",
    "    global common_len, solo_len\n",
    "    \n",
    "    vt[value] = True\n",
    "    \n",
    "    needed_to_meet_c = inf\n",
    "    for v in li[value]:\n",
    "        if vt[v]:\n",
    "            continue     \n",
    "        temp_nmc = (yield dfs2(v)) - 1\n",
    "        \n",
    "        needed_to_meet_c = min(needed_to_meet_c, temp_nmc)\n",
    "        \n",
    "    if value >= 2:     \n",
    "        sv = sum(seens[value])\n",
    "        if sv == 1:\n",
    "            needed_to_meet_c = min(needed_to_meet_c, d)\n",
    "\n",
    "        if needed_to_meet_c <= 0 and sv == 1:\n",
    "            common_len += 1\n",
    "            solo_len -= 1\n",
    "        \n",
    "    yield needed_to_meet_c\n",
    "\n",
    "n, d = map(int, input().split())\n",
    "li = [[] for _ in range(n + 1)]\n",
    "for _ in range(n - 1):\n",
    "    u, v = map(int, input().split())\n",
    "    \n",
    "    li[u].append(v)\n",
    "    li[v].append(u)\n",
    "    \n",
    "ca, *A = map(int, input().split())\n",
    "cb, *B = map(int, input().split())\n",
    "\n",
    "A = set(A)\n",
    "B = set(B)\n",
    "\n",
    "A.discard(1)\n",
    "B.discard(1)\n",
    "\n",
    "common_len = 0\n",
    "solo_len = 0\n",
    "\n",
    "seens = [[False] * 2 for _ in range(n + 1)]\n",
    "seens[1] = [True, True]\n",
    "\n",
    "vt = [False] * (n + 1)\n",
    "vt[1] = True\n",
    "dfs(1)\n",
    "\n",
    "# print(common_len, solo_len)\n",
    "\n",
    "vt = [False] * (n + 1)\n",
    "vt[1] = True\n",
    "dfs2(1)\n",
    "\n",
    "# print(common_len, solo_len)\n",
    "\n",
    "print(common_len * 4 + solo_len * 2)"
   ]
  }
 ],
 "metadata": {
  "kernelspec": {
   "display_name": "Python 3",
   "language": "python",
   "name": "python3"
  },
  "language_info": {
   "codemirror_mode": {
    "name": "ipython",
    "version": 3
   },
   "file_extension": ".py",
   "mimetype": "text/x-python",
   "name": "python",
   "nbconvert_exporter": "python",
   "pygments_lexer": "ipython3",
   "version": "3.7.4"
  }
 },
 "nbformat": 4,
 "nbformat_minor": 2
}
