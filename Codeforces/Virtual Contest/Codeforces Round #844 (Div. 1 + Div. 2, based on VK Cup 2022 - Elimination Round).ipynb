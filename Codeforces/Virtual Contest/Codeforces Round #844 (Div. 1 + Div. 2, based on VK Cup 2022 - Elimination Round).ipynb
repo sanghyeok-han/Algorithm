{
 "cells": [
  {
   "cell_type": "markdown",
   "metadata": {},
   "source": [
    "A"
   ]
  },
  {
   "cell_type": "code",
   "execution_count": 2,
   "metadata": {},
   "outputs": [
    {
     "name": "stdout",
     "output_type": "stream",
     "text": [
      "55 20 29\n",
      "23 10 18 3\n",
      "47\n"
     ]
    }
   ],
   "source": [
    "import io, os, sys\n",
    "input = io.BytesIO(os.read(0,os.fstat(0).st_size)).readline\n",
    "\n",
    "for _ in range(int(input())):\n",
    "    w, d, h = map(int, input().split())\n",
    "    a, b, f, g = map(int, input().split())\n",
    "\n",
    "    r1 = g + h + b + abs(f - a)\n",
    "    r2 = d - g + h + d - b + abs(f - a)\n",
    "    r3 = f + h + a + abs(g - b)\n",
    "    r4 = w - f + h + w - a + abs(g - b)\n",
    "\n",
    "    r = min(r1, r2, r3, r4)\n",
    "\n",
    "    print(r)"
   ]
  },
  {
   "cell_type": "markdown",
   "metadata": {},
   "source": [
    "B"
   ]
  },
  {
   "cell_type": "code",
   "execution_count": 32,
   "metadata": {},
   "outputs": [
    {
     "name": "stdout",
     "output_type": "stream",
     "text": [
      "3\n",
      "0 1 2\n",
      "1\n"
     ]
    }
   ],
   "source": [
    "import io, os, sys\n",
    "input = io.BytesIO(os.read(0,os.fstat(0).st_size)).readline\n",
    "\n",
    "for _ in range(int(input())):\n",
    "    n = int(input())\n",
    "    li = sorted(map(int, input().split()))\n",
    "\n",
    "    i = 0\n",
    "    total = 0\n",
    "    while i < n:\n",
    "        while i < n and i >= li[i]:\n",
    "            i += 1\n",
    "\n",
    "        total += 1\n",
    "\n",
    "        while i < n and i < li[i]:\n",
    "            i += 1\n",
    "\n",
    "    print(total)"
   ]
  },
  {
   "cell_type": "markdown",
   "metadata": {},
   "source": [
    "C"
   ]
  },
  {
   "cell_type": "code",
   "execution_count": null,
   "metadata": {},
   "outputs": [],
   "source": [
    "hello\n",
    "\n",
    "h e l o \n",
    "1 1 2 1\n",
    "h e l n o\n",
    "1 1 1 1 1\n",
    "\n",
    "\n",
    "a b\n",
    "3 7\n",
    "a b\n",
    "5 5\n",
    "\n",
    "a b c\n",
    "1 8 10\n",
    "a b c\n",
    "5 7 7\n",
    "a b c\n",
    "6 6 7"
   ]
  },
  {
   "cell_type": "code",
   "execution_count": 61,
   "metadata": {},
   "outputs": [
    {
     "name": "stdout",
     "output_type": "stream",
     "text": [
      "10\n",
      "aabbccddee\n",
      "0\n",
      "aabbccddee\n"
     ]
    }
   ],
   "source": [
    "from collections import deque, defaultdict as dd\n",
    "import sys\n",
    "# input = lambda: sys.stdin.readline().rstrip()\n",
    "\n",
    "inf = float('inf')\n",
    "\n",
    "def get_divisors(num):\n",
    "    divisors = []\n",
    "    for mod in range(1, int(num ** 0.5)):\n",
    "        if num % mod == 0:\n",
    "            divisors.append(mod)\n",
    "            divisors.append(num // mod)\n",
    "            \n",
    "    mod = int(num ** 0.5)\n",
    "    if num % mod == 0:\n",
    "        divisors.append(mod)\n",
    "        if num // mod != mod:\n",
    "            divisors.append(num // mod)\n",
    "            \n",
    "    return divisors\n",
    "\n",
    "alphas = {chr(i + 97) for i in range(26)}\n",
    "\n",
    "for _ in range(int(input())):\n",
    "    n = int(input())\n",
    "    s = input()\n",
    "\n",
    "    d = dd(int)\n",
    "    included = set()\n",
    "    for v in s:\n",
    "        d[v] += 1\n",
    "        included.add(v)\n",
    "\n",
    "    ct = sorted(d.items(), key=lambda x: x[1])\n",
    "\n",
    "    min_total = inf\n",
    "    min_result = ''\n",
    "    for each_c in get_divisors(n):\n",
    "        alpha_c = n // each_c\n",
    "        if alpha_c > 26:\n",
    "            continue\n",
    "\n",
    "        excluded = alphas - included\n",
    "\n",
    "        largers = deque()\n",
    "        smallers = deque()\n",
    "        for alpha, c in ct:\n",
    "            if c == each_c:\n",
    "                continue\n",
    "            elif c < each_c:\n",
    "                smallers.append([alpha, c])\n",
    "            else:\n",
    "                largers.append([alpha, c])\n",
    "\n",
    "        info = dd(list)\n",
    "        while True:\n",
    "            if largers and smallers:\n",
    "                needed_s = each_c - smallers[-1][1]\n",
    "                needed_l = largers[0][1] - each_c\n",
    "\n",
    "                info[largers[0][0]].append([smallers[-1][0], min(needed_s, needed_l)])\n",
    "                if needed_s == needed_l:\n",
    "                    largers.popleft()\n",
    "                    smallers.pop()\n",
    "                elif needed_s < needed_l:\n",
    "                    smallers.pop()\n",
    "                    largers[0][1] -= needed_s\n",
    "                else:\n",
    "                    largers.popleft()\n",
    "                    smallers[-1][1] += needed_l\n",
    "            elif largers:\n",
    "                overreds = []\n",
    "                for alpha, c in largers:\n",
    "                    over = c - each_c\n",
    "                    overreds.extend([alpha] * over)\n",
    "\n",
    "                for _ in range(len(overreds) // each_c):\n",
    "                    to_make = excluded.pop()\n",
    "\n",
    "                    for _ in range(each_c):\n",
    "                        alpha = overreds.pop()\n",
    "                        info[alpha].append([to_make, 1])\n",
    "                break\n",
    "            elif smallers:\n",
    "                while smallers:\n",
    "                    alpha, c = smallers.popleft()\n",
    "                    \n",
    "                    while c:\n",
    "                        needed = each_c - smallers[-1][1]\n",
    "                        to_use = min(needed, c)\n",
    "\n",
    "                        info[alpha].append([smallers[-1][0], to_use])\n",
    "\n",
    "                        if to_use == needed:\n",
    "                            smallers.pop()\n",
    "                        else:\n",
    "                            smallers[-1][1] += to_use\n",
    "\n",
    "                        c -= to_use\n",
    "                break\n",
    "            else:\n",
    "                break\n",
    "\n",
    "        total = 0\n",
    "        result = list(s)\n",
    "        for i in range(n):\n",
    "            v = s[i]\n",
    "\n",
    "            if v in info:\n",
    "                to = info[v][-1][0]\n",
    "                result[i] = to\n",
    "                total += 1\n",
    "\n",
    "                info[v][-1][1] -=1 \n",
    "\n",
    "                if info[v][-1][1] == 0:\n",
    "                    info[v].pop()\n",
    "\n",
    "                if not info[v]:\n",
    "                    del info[v]\n",
    "\n",
    "        if total < min_total:\n",
    "            min_total = total\n",
    "            min_result = result\n",
    "\n",
    "    print(min_total)\n",
    "    print(''.join(min_result))"
   ]
  },
  {
   "cell_type": "markdown",
   "metadata": {},
   "source": [
    "D"
   ]
  },
  {
   "cell_type": "code",
   "execution_count": 71,
   "metadata": {},
   "outputs": [
    {
     "name": "stdout",
     "output_type": "stream",
     "text": [
      "5\n",
      "2 5 10 17 26\n",
      "2\n"
     ]
    }
   ],
   "source": [
    "import io, os, sys\n",
    "# input = io.BytesIO(os.read(0,os.fstat(0).st_size)).readline\n",
    "\n",
    "for _ in range(int(input())):\n",
    "    n = int(input())\n",
    "    li = list(map(int, input().split()))\n",
    "\n",
    "    cri = int(1e9)\n",
    "\n",
    "    cur = 1\n",
    "    diffs = [set() for _ in range(n)]\n",
    "    while True:\n",
    "        cur_s = cur * cur\n",
    "\n",
    "        if cur_s > cri * 3:\n",
    "            break\n",
    "\n",
    "        for i in range(n):\n",
    "            if li[i] <= cur_s:\n",
    "                diff = cur_s - li[i]\n",
    "\n",
    "                diffs[i].add(diff)\n",
    "\n",
    "        cur += 1\n",
    "\n",
    "    ct = dict()\n",
    "    for i in range(n):\n",
    "        for v in diffs[i]:\n",
    "            v_str = str(v)\n",
    "\n",
    "            if v_str in ct:\n",
    "                ct[v_str] += 1 \n",
    "            else:\n",
    "                ct[v_str] = 1\n",
    "\n",
    "    r = max(ct.values())\n",
    "\n",
    "    print(r)"
   ]
  },
  {
   "cell_type": "code",
   "execution_count": 74,
   "metadata": {},
   "outputs": [
    {
     "name": "stdout",
     "output_type": "stream",
     "text": [
      "5\n",
      "1 2 3 4 5\n"
     ]
    },
    {
     "data": {
      "text/plain": [
       "[0, 2, 1, 0, 4]"
      ]
     },
     "execution_count": 74,
     "metadata": {},
     "output_type": "execute_result"
    }
   ],
   "source": [
    "from math import isqrt\n",
    "\n",
    "for _ in range(int(input())):\n",
    "    n = int(input())\n",
    "    li = list(map(int, input().split()))\n",
    "\n",
    "    needs = []\n",
    "    cur = 1\n",
    "    for i in range(n):\n",
    "        while True:\n",
    "            cur_s = cur * cur\n",
    "\n",
    "            if li[i] <= cur_s:\n",
    "                needs.append(cur_s - li[i])\n",
    "                break\n",
    "            cur += 1\n",
    "\n",
    "    max_c = 0\n",
    "    for i in range(n):\n",
    "        x = needs[i]\n",
    "\n",
    "        nli = [v + x for v in li]\n",
    "\n",
    "        c = 0\n",
    "        for v in nli:\n",
    "            v_s = isqrt(v)\n",
    "\n",
    "            if v_s ** 2 == v:\n",
    "                c += 1\n",
    "\n",
    "        max_c = max(max_c, c)\n",
    "\n",
    "    print(max_c)"
   ]
  },
  {
   "cell_type": "code",
   "execution_count": 77,
   "metadata": {},
   "outputs": [
    {
     "name": "stdout",
     "output_type": "stream",
     "text": [
      "[3, 6, 11, 18, 27]\n",
      "[4, 7, 12, 19, 28]\n",
      "[5, 8, 13, 20, 29]\n",
      "[6, 9, 14, 21, 30]\n",
      "[7, 10, 15, 22, 31]\n",
      "[8, 11, 16, 23, 32]\n",
      "[9, 12, 17, 24, 33]\n",
      "[10, 13, 18, 25, 34]\n",
      "[11, 14, 19, 26, 35]\n",
      "[12, 15, 20, 27, 36]\n",
      "[13, 16, 21, 28, 37]\n",
      "[14, 17, 22, 29, 38]\n",
      "[15, 18, 23, 30, 39]\n",
      "[16, 19, 24, 31, 40]\n",
      "[17, 20, 25, 32, 41]\n",
      "[18, 21, 26, 33, 42]\n",
      "[19, 22, 27, 34, 43]\n",
      "[20, 23, 28, 35, 44]\n",
      "[21, 24, 29, 36, 45]\n",
      "[22, 25, 30, 37, 46]\n",
      "[23, 26, 31, 38, 47]\n",
      "[24, 27, 32, 39, 48]\n",
      "[25, 28, 33, 40, 49]\n",
      "[26, 29, 34, 41, 50]\n",
      "[27, 30, 35, 42, 51]\n",
      "[28, 31, 36, 43, 52]\n",
      "[29, 32, 37, 44, 53]\n",
      "[30, 33, 38, 45, 54]\n",
      "[31, 34, 39, 46, 55]\n",
      "[32, 35, 40, 47, 56]\n",
      "[33, 36, 41, 48, 57]\n",
      "[34, 37, 42, 49, 58]\n",
      "[35, 38, 43, 50, 59]\n",
      "[36, 39, 44, 51, 60]\n",
      "[37, 40, 45, 52, 61]\n",
      "[38, 41, 46, 53, 62]\n",
      "[39, 42, 47, 54, 63]\n",
      "[40, 43, 48, 55, 64]\n",
      "[41, 44, 49, 56, 65]\n",
      "[42, 45, 50, 57, 66]\n",
      "[43, 46, 51, 58, 67]\n",
      "[44, 47, 52, 59, 68]\n",
      "[45, 48, 53, 60, 69]\n",
      "[46, 49, 54, 61, 70]\n",
      "[47, 50, 55, 62, 71]\n",
      "[48, 51, 56, 63, 72]\n",
      "[49, 52, 57, 64, 73]\n",
      "[50, 53, 58, 65, 74]\n",
      "[51, 54, 59, 66, 75]\n"
     ]
    }
   ],
   "source": [
    "li = [2, 5, 10, 17, 26]\n",
    "\n",
    "for x in range(1, 50):\n",
    "    print([v + x for v in li])"
   ]
  }
 ],
 "metadata": {
  "kernelspec": {
   "display_name": "Python 3",
   "language": "python",
   "name": "python3"
  },
  "language_info": {
   "codemirror_mode": {
    "name": "ipython",
    "version": 3
   },
   "file_extension": ".py",
   "mimetype": "text/x-python",
   "name": "python",
   "nbconvert_exporter": "python",
   "pygments_lexer": "ipython3",
   "version": "3.8.3"
  }
 },
 "nbformat": 4,
 "nbformat_minor": 4
}
