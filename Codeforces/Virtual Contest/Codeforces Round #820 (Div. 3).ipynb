{
 "cells": [
  {
   "cell_type": "markdown",
   "metadata": {},
   "source": [
    "A"
   ]
  },
  {
   "cell_type": "code",
   "execution_count": 3,
   "metadata": {},
   "outputs": [
    {
     "name": "stdout",
     "output_type": "stream",
     "text": [
      "3 2 1\n",
      "2\n"
     ]
    }
   ],
   "source": [
    "import io, os, sys\n",
    "input = io.BytesIO(os.read(0,os.fstat(0).st_size)).readline\n",
    "\n",
    "for _ in range(int(input())):\n",
    "    a, b, c = map(int, input().split())\n",
    "\n",
    "    a_t = abs(a - 1)\n",
    "    b_t = abs(b - c) + abs(c - 1)\n",
    "\n",
    "    if a_t < b_t:\n",
    "        print(1)\n",
    "    elif a_t > b_t:\n",
    "        print(2)\n",
    "    else:\n",
    "        print(3)"
   ]
  },
  {
   "cell_type": "markdown",
   "metadata": {},
   "source": [
    "B"
   ]
  },
  {
   "cell_type": "code",
   "execution_count": 4,
   "metadata": {},
   "outputs": [
    {
     "data": {
      "text/plain": [
       "97"
      ]
     },
     "execution_count": 4,
     "metadata": {},
     "output_type": "execute_result"
    }
   ],
   "source": [
    "ord('a')"
   ]
  },
  {
   "cell_type": "code",
   "execution_count": 5,
   "metadata": {},
   "outputs": [
    {
     "data": {
      "text/plain": [
       "'a'"
      ]
     },
     "execution_count": 5,
     "metadata": {},
     "output_type": "execute_result"
    }
   ],
   "source": [
    "chr(1 + 96)"
   ]
  },
  {
   "cell_type": "code",
   "execution_count": 12,
   "metadata": {},
   "outputs": [
    {
     "name": "stdout",
     "output_type": "stream",
     "text": [
      "4\n",
      "1100\n",
      "aj\n"
     ]
    }
   ],
   "source": [
    "import sys\n",
    "input = lambda: sys.stdin.readline().rstrip()\n",
    "\n",
    "for _ in range(int(input())):\n",
    "    n = int(input())\n",
    "    li = list(map(int, input()))\n",
    "\n",
    "    result = []\n",
    "    i = n - 1\n",
    "    while i >= 0:\n",
    "        if li[i] == 0:\n",
    "            temp = int(str(li[i - 2]) + str(li[i - 1]))\n",
    "            result.append(chr(temp + 96))\n",
    "\n",
    "            i -= 3\n",
    "        else:\n",
    "            temp = int(str(li[i]))\n",
    "            result.append(chr(temp + 96))\n",
    "\n",
    "            i -= 1\n",
    "\n",
    "    print(''.join(reversed(result)))"
   ]
  },
  {
   "cell_type": "markdown",
   "metadata": {},
   "source": [
    "C"
   ]
  },
  {
   "cell_type": "code",
   "execution_count": 17,
   "metadata": {},
   "outputs": [
    {
     "name": "stdout",
     "output_type": "stream",
     "text": [
      "to\n",
      "5 2\n",
      "1 2\n"
     ]
    }
   ],
   "source": [
    "import sys\n",
    "input = lambda: sys.stdin.readline().rstrip()\n",
    "\n",
    "for _ in range(int(input())):\n",
    "    s = input()\n",
    "    n = len(s)\n",
    "\n",
    "    li = [ord(v) - 97 for v in s]\n",
    "\n",
    "    indices = [[] for _ in range(26)]\n",
    "    for i in range(1, n - 1):\n",
    "        indices[li[i]].append(i + 1)\n",
    "\n",
    "    min_cost = abs(li[0] - li[n - 1])\n",
    "\n",
    "    a = li[0]\n",
    "    b = li[n - 1]\n",
    "\n",
    "    is_reved = False\n",
    "    if a > b:\n",
    "        a, b = b, a\n",
    "        is_reved = True\n",
    "\n",
    "    result = []\n",
    "    for alpha in range(a, b + 1):\n",
    "        result.extend(indices[alpha])\n",
    "\n",
    "    if is_reved:\n",
    "        result.reverse()\n",
    "\n",
    "    result = [1] + result + [n]\n",
    "\n",
    "    print(min_cost, len(result))\n",
    "    print(*result)"
   ]
  },
  {
   "cell_type": "markdown",
   "metadata": {},
   "source": [
    "D"
   ]
  },
  {
   "cell_type": "code",
   "execution_count": null,
   "metadata": {},
   "outputs": [],
   "source": [
    "음수인 것을 동시에 두 개 이상 데려갈 필요는 없다.\n",
    "\n",
    "양수 둘, 음수 하나 데려갈 바에는 양수 둘만 데려가는 것이 낫다."
   ]
  },
  {
   "cell_type": "code",
   "execution_count": 19,
   "metadata": {},
   "outputs": [
    {
     "name": "stdout",
     "output_type": "stream",
     "text": [
      "4\n",
      "1 2 3 4\n",
      "1 1 2 2\n",
      "0\n"
     ]
    }
   ],
   "source": [
    "# import io, os, sys\n",
    "# input = io.BytesIO(os.read(0,os.fstat(0).st_size)).readline\n",
    "\n",
    "for _ in range(int(input())):\n",
    "    n = int(input())\n",
    "    spents = list(map(int, input().split()))\n",
    "    haves = list(map(int, input().split()))\n",
    "\n",
    "    diffs = [haves[i] - spents[i] for i in range(n)]\n",
    "\n",
    "    pogs = []\n",
    "    negs = []\n",
    "    for v in diffs:\n",
    "        if v < 0:\n",
    "            negs.append(v)\n",
    "        else:\n",
    "            pogs.append(v)\n",
    "\n",
    "    pogs.sort(reverse=True) # 5 4 3 2 1\n",
    "    negs.sort() # -5 -4 -3 -2 -1\n",
    "\n",
    "    neg_i = 0\n",
    "    negs_len = len(negs)\n",
    "    result = 0\n",
    "\n",
    "    unused_pog_c = 0\n",
    "    for pog_i in range(len(pogs)):\n",
    "        used = False\n",
    "\n",
    "        while neg_i < negs_len:\n",
    "            if negs[neg_i] + pogs[pog_i] >= 0:\n",
    "                result += 1\n",
    "                neg_i += 1\n",
    "                used = True\n",
    "                break\n",
    "            else:\n",
    "                neg_i += 1\n",
    "\n",
    "        if not used:\n",
    "            unused_pog_c += 1\n",
    "\n",
    "    result += unused_pog_c // 2\n",
    "\n",
    "    print(result)"
   ]
  },
  {
   "cell_type": "markdown",
   "metadata": {},
   "source": [
    "E"
   ]
  },
  {
   "cell_type": "code",
   "execution_count": null,
   "metadata": {},
   "outputs": [],
   "source": [
    "import sys\n",
    "input = lambda: sys.stdin.readline().rstrip()\n",
    "\n",
    "cur = 2\n",
    "\n",
    "result = -1\n",
    "while True:\n",
    "    print(\"?\", 1, cur)\n",
    "    sys.stdout.flush()\n",
    "    \n",
    "    r1 = int(input())\n",
    "    \n",
    "    print(\"?\", cur, 1)\n",
    "    sys.stdout.flush()\n",
    "    \n",
    "    r2 = int(input())\n",
    "    \n",
    "    if r1 == -1:\n",
    "        result = cur - 1\n",
    "        break\n",
    "        \n",
    "    if r1 != r2:\n",
    "        result = r1 + r2\n",
    "        break\n",
    "        \n",
    "    cur += 1\n",
    "        \n",
    "print('!', result)\n",
    "sys.stdout.flush()"
   ]
  },
  {
   "cell_type": "markdown",
   "metadata": {},
   "source": [
    "F"
   ]
  },
  {
   "cell_type": "code",
   "execution_count": null,
   "metadata": {},
   "outputs": [],
   "source": [
    "10의 배수를 9로 나눈 나머지는 언제나 1이다."
   ]
  },
  {
   "cell_type": "code",
   "execution_count": 34,
   "metadata": {},
   "outputs": [
    {
     "data": {
      "text/plain": [
       "(5, 5, 5)"
      ]
     },
     "execution_count": 34,
     "metadata": {},
     "output_type": "execute_result"
    }
   ],
   "source": [
    "2345 % 9, 2543 % 9, 5432 % 9"
   ]
  },
  {
   "cell_type": "code",
   "execution_count": null,
   "metadata": {},
   "outputs": [],
   "source": [
    "구간 안에 들어있는 각 수들의 순열은 상관 없고 각각의 수의 개수만 중요함"
   ]
  },
  {
   "cell_type": "code",
   "execution_count": null,
   "metadata": {},
   "outputs": [],
   "source": [
    "그러므로 개수를 누적합으로 하면 v(l, r)은 O(10)에 구할 수 있다.\n",
    "\n",
    "9나 0은 사실상 둘 다 0이다."
   ]
  },
  {
   "cell_type": "code",
   "execution_count": 68,
   "metadata": {},
   "outputs": [
    {
     "name": "stdout",
     "output_type": "stream",
     "text": [
      "1\n",
      "5\n",
      "1\n",
      "5\n",
      "1\n",
      "5\n"
     ]
    }
   ],
   "source": [
    "s = '0000000179572034012472341718379478923'\n",
    "\n",
    "s = '83838383'\n",
    "\n",
    "for l in range(0, len(s)):\n",
    "    r = l + 2\n",
    "    if r >= len(s):\n",
    "        break\n",
    "        \n",
    "    print(int(s[l:r + 1]) % 9)"
   ]
  },
  {
   "cell_type": "code",
   "execution_count": null,
   "metadata": {},
   "outputs": [],
   "source": [
    "0 0 0 3 4 5 9 6 3 4 6 4"
   ]
  },
  {
   "cell_type": "code",
   "execution_count": null,
   "metadata": {},
   "outputs": [],
   "source": [
    "0 3 3 3 3 3 3 3 3 5 9 2"
   ]
  },
  {
   "cell_type": "code",
   "execution_count": null,
   "metadata": {},
   "outputs": [],
   "source": [
    "3 3 4 4 5 3 6"
   ]
  }
 ],
 "metadata": {
  "kernelspec": {
   "display_name": "Python 3",
   "language": "python",
   "name": "python3"
  },
  "language_info": {
   "codemirror_mode": {
    "name": "ipython",
    "version": 3
   },
   "file_extension": ".py",
   "mimetype": "text/x-python",
   "name": "python",
   "nbconvert_exporter": "python",
   "pygments_lexer": "ipython3",
   "version": "3.8.3"
  }
 },
 "nbformat": 4,
 "nbformat_minor": 4
}
