{
 "cells": [
  {
   "cell_type": "markdown",
   "metadata": {},
   "source": [
    "A"
   ]
  },
  {
   "cell_type": "code",
   "execution_count": 1,
   "metadata": {},
   "outputs": [
    {
     "name": "stdout",
     "output_type": "stream",
     "text": [
      "4\n",
      "9\n",
      "9\n",
      "42\n",
      "13\n",
      "13\n",
      "10\n",
      "100\n",
      "19\n"
     ]
    }
   ],
   "source": [
    "import io, os, sys\n",
    "input = io.BytesIO(os.read(0, os.fstat(0).st_size)).readline\n",
    "\n",
    "r = [0] * 1000000\n",
    "for num in range(1, 1000000):\n",
    "    snum = str(num)\n",
    "    \n",
    "    nen_zero_digit_c = len(snum) - snum.count('0')\n",
    "    \n",
    "    if nen_zero_digit_c == 1:\n",
    "        r[num] = r[num - 1] + 1\n",
    "    else:\n",
    "        r[num] = r[num - 1]\n",
    "        \n",
    "for _ in range(int(input())):\n",
    "    n = int(input())\n",
    "    \n",
    "    result = r[n]\n",
    "    \n",
    "    print(result)"
   ]
  },
  {
   "cell_type": "markdown",
   "metadata": {},
   "source": [
    "B"
   ]
  },
  {
   "cell_type": "code",
   "execution_count": 11,
   "metadata": {},
   "outputs": [
    {
     "name": "stdout",
     "output_type": "stream",
     "text": [
      "1\n",
      "4\n",
      "mmmmm\n",
      "YES\n"
     ]
    }
   ],
   "source": [
    "import sys\n",
    "input = lambda: sys.stdin.readline().rstrip()\n",
    "\n",
    "for _ in range(int(input())):\n",
    "    n = int(input())\n",
    "    s = input()\n",
    "\n",
    "    d = dict()\n",
    "    ip = False\n",
    "    for i in range(n - 1):\n",
    "        temp = s[i] + s[i + 1]\n",
    "\n",
    "        if temp in d:\n",
    "            if (s[i - 1] + s[i]) != temp or d[temp] >= 2:\n",
    "                ip = True\n",
    "                break\n",
    "                \n",
    "        if temp not in d:\n",
    "            d[temp] = 1\n",
    "        else:\n",
    "            d[temp] += 1\n",
    "\n",
    "    if ip:\n",
    "        print('YES')\n",
    "    else:\n",
    "        print('NO')"
   ]
  },
  {
   "cell_type": "markdown",
   "metadata": {},
   "source": [
    "C"
   ]
  },
  {
   "cell_type": "code",
   "execution_count": 22,
   "metadata": {},
   "outputs": [
    {
     "name": "stdout",
     "output_type": "stream",
     "text": [
      "6\n",
      "BWBBWB\n",
      "BBBBBB\n",
      "YES\n"
     ]
    }
   ],
   "source": [
    "import sys\n",
    "input = lambda: sys.stdin.readline().rstrip()\n",
    "\n",
    "for _ in range(int(input())):\n",
    "    m = int(input())\n",
    "    li = [input() for _ in range(2)]\n",
    "\n",
    "    ip = False\n",
    "    for x, y in [(0, 0), (1, 0)]:\n",
    "        if li[x][y] == 'W':\n",
    "            continue\n",
    "\n",
    "        vt = [[False] * m for _ in range(2)]\n",
    "        vt[x][y] = True\n",
    "\n",
    "        while y < m - 1:\n",
    "            if x == 0 and not vt[1][y] and li[1][y] == 'B':\n",
    "                x += 1\n",
    "            elif x == 1 and not vt[0][y] and li[0][y] == 'B':\n",
    "                x -= 1\n",
    "            elif li[x][y + 1] == 'B':\n",
    "                y += 1\n",
    "            else:\n",
    "                break\n",
    "\n",
    "            vt[x][y] = True\n",
    "\n",
    "        if y == m - 1:\n",
    "            ip = True\n",
    "\n",
    "    if ip:\n",
    "        print('YES')\n",
    "    else:\n",
    "        print('NO')"
   ]
  },
  {
   "cell_type": "markdown",
   "metadata": {},
   "source": [
    "D"
   ]
  },
  {
   "cell_type": "code",
   "execution_count": null,
   "metadata": {},
   "outputs": [],
   "source": [
    "오일러의 체를 이용한 소인수분해?"
   ]
  },
  {
   "cell_type": "code",
   "execution_count": 28,
   "metadata": {},
   "outputs": [],
   "source": [
    "max_num = int(1e7)\n",
    "sp = [0] * (max_num + 1)\n",
    "primes = []\n",
    "for i in range(2, max_num + 1):\n",
    "    if sp[i] == 0:\n",
    "        sp[i] = i\n",
    "        primes.append(i)\n",
    "        \n",
    "    j = 0\n",
    "    while j < len(primes) and i * primes[j] <= max_num and primes[j] <= sp[i]:\n",
    "        sp[i * primes[j]] = primes[j]\n",
    "        j += 1"
   ]
  },
  {
   "cell_type": "code",
   "execution_count": 30,
   "metadata": {},
   "outputs": [
    {
     "name": "stdout",
     "output_type": "stream",
     "text": [
      "[97, 103]\n"
     ]
    }
   ],
   "source": [
    "num = 20000 - 10009\n",
    "r = []\n",
    "while num > 1:\n",
    "    r.append(sp[num])\n",
    "    num //= sp[num]\n",
    "    \n",
    "print(r)"
   ]
  },
  {
   "cell_type": "code",
   "execution_count": 33,
   "metadata": {},
   "outputs": [
    {
     "data": {
      "text/plain": [
       "(18, 18)"
      ]
     },
     "execution_count": 33,
     "metadata": {},
     "output_type": "execute_result"
    }
   ],
   "source": [
    "10009 % 97, 20000 % 97"
   ]
  },
  {
   "cell_type": "code",
   "execution_count": 34,
   "metadata": {},
   "outputs": [
    {
     "data": {
      "text/plain": [
       "79"
      ]
     },
     "execution_count": 34,
     "metadata": {},
     "output_type": "execute_result"
    }
   ],
   "source": [
    "97 - 18"
   ]
  },
  {
   "cell_type": "code",
   "execution_count": 35,
   "metadata": {},
   "outputs": [
    {
     "data": {
      "text/plain": [
       "(18, 18)"
      ]
     },
     "execution_count": 35,
     "metadata": {},
     "output_type": "execute_result"
    }
   ],
   "source": [
    "10009 % 103, 20000 % 103"
   ]
  },
  {
   "cell_type": "code",
   "execution_count": 36,
   "metadata": {},
   "outputs": [
    {
     "data": {
      "text/plain": [
       "85"
      ]
     },
     "execution_count": 36,
     "metadata": {},
     "output_type": "execute_result"
    }
   ],
   "source": [
    "103 - 18"
   ]
  },
  {
   "cell_type": "code",
   "execution_count": 43,
   "metadata": {},
   "outputs": [
    {
     "name": "stdout",
     "output_type": "stream",
     "text": [
      "5 15\n",
      "0\n"
     ]
    }
   ],
   "source": [
    "from math import gcd\n",
    "import io, os, sys\n",
    "input = io.BytesIO(os.read(0, os.fstat(0).st_size)).readline\n",
    "\n",
    "inf = float('inf')\n",
    "\n",
    "max_num = int(1e7)\n",
    "sp = [0] * (max_num + 1)\n",
    "primes = []\n",
    "for i in range(2, max_num + 1):\n",
    "    if sp[i] == 0:\n",
    "        sp[i] = i\n",
    "        primes.append(i)\n",
    "        \n",
    "    j = 0\n",
    "    while j < len(primes) and i * primes[j] <= max_num and primes[j] <= sp[i]:\n",
    "        sp[i * primes[j]] = primes[j]\n",
    "        j += 1\n",
    "\n",
    "for _ in range(int(input())):\n",
    "    x, y = map(int, input().split())\n",
    "\n",
    "    if x + 1 == y:\n",
    "        print(-1)\n",
    "    elif gcd(x, y) != 1:\n",
    "        print(0)\n",
    "    else:\n",
    "        diff = y - x\n",
    "\n",
    "        fs = set()\n",
    "        num = diff\n",
    "        while num > 1:\n",
    "            fs.add(sp[num])\n",
    "            num //= sp[num]\n",
    "\n",
    "        min_length = inf\n",
    "        for f in fs:\n",
    "            rem = x % f\n",
    "            length = f - rem\n",
    "\n",
    "            min_length = min(min_length, length)\n",
    "\n",
    "        print(min_length)"
   ]
  },
  {
   "cell_type": "markdown",
   "metadata": {},
   "source": [
    "E"
   ]
  },
  {
   "cell_type": "code",
   "execution_count": null,
   "metadata": {},
   "outputs": [],
   "source": [
    "0  1  2  3\n",
    "00 01 10 11\n",
    "\n",
    "00은 언제가 분리해야함"
   ]
  },
  {
   "cell_type": "code",
   "execution_count": 46,
   "metadata": {},
   "outputs": [
    {
     "name": "stdout",
     "output_type": "stream",
     "text": [
      "35\n"
     ]
    }
   ],
   "source": [
    "n = 5\n",
    "sv = 0\n",
    "for i in range(n):\n",
    "    for j in range(i, n):\n",
    "        sv += j - i + 1\n",
    "        \n",
    "print(sv)"
   ]
  },
  {
   "cell_type": "code",
   "execution_count": 85,
   "metadata": {},
   "outputs": [],
   "source": [
    "last_vt_except_0s = [inf] * n\n",
    "lve0 = li[0]\n",
    "if lve0 == 0:\n",
    "    lve0 = inf\n",
    "\n",
    "last_vt_except_0s[1] = lve0\n",
    "\n",
    "for i in range(1, n - 1):\n",
    "    if li[i] != 0:\n",
    "        lve0 = li[i]\n",
    "\n",
    "    last_vt_except_0s[i + 1] = lve0"
   ]
  },
  {
   "cell_type": "code",
   "execution_count": 86,
   "metadata": {},
   "outputs": [
    {
     "data": {
      "text/plain": [
       "[inf, 1, 3, 2, 2, 1, 3, 2]"
      ]
     },
     "execution_count": 86,
     "metadata": {},
     "output_type": "execute_result"
    }
   ],
   "source": [
    "last_vt_except_0s"
   ]
  },
  {
   "cell_type": "code",
   "execution_count": 93,
   "metadata": {},
   "outputs": [
    {
     "name": "stdout",
     "output_type": "stream",
     "text": [
      "8\n",
      "1 3 2 0 1 3 2 1\n",
      "-1 20\n",
      "333 20\n",
      "444 28\n",
      "28\n"
     ]
    }
   ],
   "source": [
    "inf = float('inf')\n",
    "\n",
    "n = int(input())\n",
    "li = list(map(int, input().split()))\n",
    "\n",
    "if n == 1:\n",
    "    print(1)\n",
    "else:\n",
    "    last_vt_except_0s = [inf] * n\n",
    "    lve0 = li[0]\n",
    "    if lve0 == 0:\n",
    "        lve0 = inf\n",
    "\n",
    "    last_vt_except_0s[1] = lve0\n",
    "\n",
    "    for i in range(1, n - 1):\n",
    "        if li[i] != 0:\n",
    "            lve0 = li[i]\n",
    "\n",
    "        last_vt_except_0s[i + 1] = lve0\n",
    "\n",
    "    # 0    1     2    3   4  5  6\n",
    "    # 12, 32+1, 21, 31+2, 1, 2, 3\n",
    "    nps = [[inf] * 7 for _ in range(n + 1)] # nearest points\n",
    "\n",
    "    check_32p1_1_sp = inf\n",
    "    check_32p1_2 = False\n",
    "\n",
    "    check_31p2_2_sp = inf\n",
    "    check_31p2_1 = False\n",
    "    for i in range(n - 1, 0, -1):\n",
    "        if li[i] == 0:\n",
    "            nps[i] = nps[i + 1].copy()\n",
    "            continue\n",
    "\n",
    "        if last_vt_except_0s[i] == 1 and li[i] == 2:\n",
    "            nps[i][0] = i\n",
    "        else:\n",
    "            nps[i][0] = nps[i + 1][0]\n",
    "\n",
    "        if last_vt_except_0s[i] == 2 and li[i] == 1:\n",
    "            nps[i][1] = i\n",
    "        else:\n",
    "            nps[i][1] = nps[i + 1][1]\n",
    "\n",
    "        if li[i] == 1:\n",
    "            check_32p1_1_sp = i\n",
    "            check_32p1_2 = False\n",
    "        elif li[i] == 2:\n",
    "            if check_32p1_1_sp != inf:\n",
    "                check_32p1_2 = True\n",
    "        elif li[i] == 3:\n",
    "            if check_32p1_2:\n",
    "                nps[i][2] = check_32p1_1_sp\n",
    "                check_32p1_1_sp = inf\n",
    "                check_32p1_2 = False\n",
    "\n",
    "        nps[i][2] = min(nps[i][2], nps[i + 1][2])\n",
    "\n",
    "        if li[i] == 2:\n",
    "            check_31p2_2_sp = i\n",
    "            check_31p2_1 = False\n",
    "        elif li[i] == 1:\n",
    "            if check_31p2_2_sp != inf:\n",
    "                check_31p2_1 = True\n",
    "        elif li[i] == 3:\n",
    "            if check_31p2_1:\n",
    "                nps[i][3] = check_31p2_2_sp\n",
    "                check_31p2_2_sp = inf\n",
    "                check_31p2_1 = False\n",
    "\n",
    "        nps[i][3] = min(nps[i][3], nps[i + 1][3])\n",
    "\n",
    "        if li[i] == 1:\n",
    "            nps[i][4] = i\n",
    "        else:\n",
    "            nps[i][4] = nps[i + 1][4]\n",
    "\n",
    "        if li[i] == 2:\n",
    "            nps[i][5] = i\n",
    "        else:\n",
    "            nps[i][5] = nps[i + 1][5]\n",
    "\n",
    "        if li[i] == 3:\n",
    "            nps[i][6] = i\n",
    "        else:\n",
    "            nps[i][6] = nps[i + 1][6]\n",
    "        \n",
    "    nps[0] = nps[1]\n",
    "\n",
    "    cumul_zeros = [0] * n\n",
    "    cumul = 0\n",
    "    for i in range(n):\n",
    "        if li[i] == 0:\n",
    "            cumul += 1\n",
    "\n",
    "        cumul_zeros[i] = cumul\n",
    "\n",
    "    cur_all_zeros = sum(cumul_zeros)\n",
    "    total = cur_all_zeros\n",
    "\n",
    "    for i in range(1, n):\n",
    "        if li[i - 1] == 0:\n",
    "            cur_all_zeros -= (n - (i - 1))\n",
    "        total += cur_all_zeros\n",
    "\n",
    "    for i in range(1):\n",
    "        print(i - 1, total)\n",
    "\n",
    "        cur = i\n",
    "        if li[cur] == 0:\n",
    "            ncur = min(nps[cur][4], nps[cur][5], nps[cur][6])\n",
    "            if ncur == inf:\n",
    "                continue\n",
    "            else:\n",
    "                cur = ncur\n",
    "\n",
    "        if li[cur] == 3:\n",
    "            ncur = min(nps[cur][4], nps[cur][5])\n",
    "            if ncur == inf:\n",
    "                print('111', total)\n",
    "                total += (n - cur) * 1\n",
    "                print('222', total)\n",
    "                continue\n",
    "            else:\n",
    "                cur = ncur\n",
    "\n",
    "        if li[cur] == 1:\n",
    "            ncur = nps[cur][0]\n",
    "\n",
    "            if ncur == inf:\n",
    "                print('333', total)\n",
    "                total += (n - cur) * 1\n",
    "                print('444', total)\n",
    "                continue\n",
    "            else:\n",
    "                total += (ncur - cur) * 1\n",
    "                cur = ncur\n",
    "\n",
    "                ncur = nps[cur][1]\n",
    "                if ncur == inf:\n",
    "                    print('555', total)\n",
    "                    total += (n - cur) * 2\n",
    "                    print('666', total)\n",
    "                    continue\n",
    "                else:\n",
    "                    print('666', total)\n",
    "                    total += (ncur - cur) * 2\n",
    "                    print('777', total)\n",
    "                    cur = ncur\n",
    "                    total += (n - cur) * 3\n",
    "                    print('888', total)\n",
    "        elif li[cur] == 2:\n",
    "            ncur = nps[cur][2]\n",
    "\n",
    "            if ncur == inf:\n",
    "                print('999', total)\n",
    "                total += (n - cur) * 1\n",
    "                print('1111', total)\n",
    "                continue\n",
    "            else:\n",
    "                total += (ncur - cur) * 1\n",
    "                cur = ncur\n",
    "\n",
    "                ncur = nps[cur][3]\n",
    "                if ncur == inf:\n",
    "                    print('2222', total)\n",
    "                    total += (n - cur) * 2\n",
    "                    print('3333', total)\n",
    "                    continue\n",
    "                else:\n",
    "                    print('4444', total)\n",
    "                    total += (ncur - cur) * 2\n",
    "                    print('5555', total)\n",
    "                    cur = ncur\n",
    "                    total += (n - cur) * 3  \n",
    "                    print('6666', total)\n",
    "\n",
    "    print(total)"
   ]
  }
 ],
 "metadata": {
  "kernelspec": {
   "display_name": "Python 3",
   "language": "python",
   "name": "python3"
  },
  "language_info": {
   "codemirror_mode": {
    "name": "ipython",
    "version": 3
   },
   "file_extension": ".py",
   "mimetype": "text/x-python",
   "name": "python",
   "nbconvert_exporter": "python",
   "pygments_lexer": "ipython3",
   "version": "3.7.4"
  }
 },
 "nbformat": 4,
 "nbformat_minor": 2
}
