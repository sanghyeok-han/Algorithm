{
 "cells": [
  {
   "cell_type": "code",
   "execution_count": null,
   "metadata": {},
   "outputs": [],
   "source": [
    "import sys\n",
    "input = lambda: sys.stdin.readline().rstrip()"
   ]
  },
  {
   "cell_type": "markdown",
   "metadata": {},
   "source": [
    "### A"
   ]
  },
  {
   "cell_type": "code",
   "execution_count": 2,
   "metadata": {},
   "outputs": [
    {
     "name": "stdout",
     "output_type": "stream",
     "text": [
      "6\n",
      "719313 273225 402638 473783 804745 323328\n",
      "381274500335\n"
     ]
    }
   ],
   "source": [
    "n = int(input())\n",
    "li = list(map(int, input().split()))\n",
    "\n",
    "mv = 0 # max value\n",
    "for i in range(n - 1):\n",
    "    mv = max(mv, min(li[i], li[i + 1]) * max(li[i], li[i + 1]))\n",
    "    \n",
    "print(mv)"
   ]
  },
  {
   "cell_type": "code",
   "execution_count": null,
   "metadata": {},
   "outputs": [],
   "source": [
    "import sys\n",
    "input = lambda: sys.stdin.readline().rstrip()\n",
    "\n",
    "for _ in range(int(input())):\n",
    "    n = int(input())\n",
    "    li = list(map(int, input().split()))\n",
    "\n",
    "    mv = 0 # max value\n",
    "    for i in range(n - 1):\n",
    "        mv = max(mv, min(li[i], li[i + 1]) * max(li[i], li[i + 1]))\n",
    "\n",
    "    print(mv)"
   ]
  },
  {
   "cell_type": "markdown",
   "metadata": {},
   "source": [
    "### B"
   ]
  },
  {
   "cell_type": "code",
   "execution_count": 90,
   "metadata": {
    "scrolled": true
   },
   "outputs": [
    {
     "name": "stdout",
     "output_type": "stream",
     "text": [
      "1 2 3 2 3 -1\n",
      "1 3 3 0 3 0\n",
      "1 4 3 0 3 1\n",
      "1 5 3 5 7 -2\n",
      "1 6 3 6 7 -1\n",
      "2 3 2 0 2 4\n",
      "2 4 2 0 2 6\n",
      "2 5 2 5 7 3\n",
      "2 6 2 6 6 6\n",
      "3 4 0 0 0 12\n",
      "3 5 0 5 5 10\n",
      "3 6 0 6 6 12\n",
      "4 5 0 5 5 15\n",
      "4 6 0 6 6 18\n",
      "5 6 5 6 7 23\n"
     ]
    }
   ],
   "source": [
    "# n, k = map(int, input().split())\n",
    "# li = list(map(int, input().split()))\n",
    "\n",
    "n, k = 6, 1\n",
    "li = [3, 2, 0, 0, 5, 6]\n",
    "\n",
    "for i in range(n):\n",
    "    for j in range(i + 1, n):\n",
    "        print(i + 1, j + 1,\n",
    "              li[i], li[j], li[i] | li[j],\n",
    "              (i + 1) * (j + 1) - k * (li[i] | li[j]))"
   ]
  },
  {
   "cell_type": "code",
   "execution_count": 98,
   "metadata": {},
   "outputs": [
    {
     "name": "stdout",
     "output_type": "stream",
     "text": [
      "12\n"
     ]
    }
   ],
   "source": [
    "n, k = map(int, input().split())\n",
    "li = list(map(int, input().split()))\n",
    "\n",
    "mv = -float('inf')\n",
    "for i in range(n - 1, n - 500, -1):\n",
    "    if i < 0:\n",
    "        break\n",
    "    for j in range(i - 1, n - 500, -1):\n",
    "        if j < 0:\n",
    "            break\n",
    "            \n",
    "        mv = max(mv, (i + 1) * (j + 1) - k * (li[i] | li[j]))\n",
    "\n",
    "nli = [(v, i + 1) for i, v in enumerate(li)]\n",
    "nli.sort(key=lambda x: (x[0], -x[1]))\n",
    "\n",
    "for i in range(min(n, 500)):\n",
    "    for j in range(i + 1, min(n, 500)):\n",
    "        av, ai = nli[i]\n",
    "        bv, bi = nli[j]\n",
    "        \n",
    "        mv = max(mv, ai * bi - k * (av | bv))\n",
    "        \n",
    "print(mv)"
   ]
  },
  {
   "cell_type": "code",
   "execution_count": 99,
   "metadata": {},
   "outputs": [
    {
     "name": "stdout",
     "output_type": "stream",
     "text": [
      "2\n",
      "3 3\n",
      "1 1 3\n",
      "-1\n",
      "2 2\n",
      "1 2\n",
      "-4\n"
     ]
    }
   ],
   "source": [
    "for _ in range(int(input())):\n",
    "    n, k = map(int, input().split())\n",
    "    li = list(map(int, input().split()))\n",
    "\n",
    "    mv = -float('inf')\n",
    "    for i in range(n - 1, n - 100, -1):\n",
    "        if i < 0:\n",
    "            break\n",
    "        for j in range(i - 1, n - 100, -1):\n",
    "            if j < 0:\n",
    "                break\n",
    "\n",
    "            mv = max(mv, (i + 1) * (j + 1) - k * (li[i] | li[j]))\n",
    "\n",
    "    nli = [(v, i + 1) for i, v in enumerate(li)]\n",
    "    nli.sort(key=lambda x: (x[0], -x[1]))\n",
    "\n",
    "    for i in range(min(n, 100)):\n",
    "        for j in range(i + 1, min(n, 100)):\n",
    "            av, ai = nli[i]\n",
    "            bv, bi = nli[j]\n",
    "\n",
    "            mv = max(mv, ai * bi - k * (av | bv))\n",
    "\n",
    "    print(mv)"
   ]
  },
  {
   "cell_type": "code",
   "execution_count": null,
   "metadata": {},
   "outputs": [],
   "source": [
    "만약 n=6이면 \n",
    "\n",
    "앞쪽 최대: 5*6\n",
    "뒤쪽 최소: - k * 7"
   ]
  },
  {
   "cell_type": "code",
   "execution_count": 48,
   "metadata": {},
   "outputs": [
    {
     "data": {
      "text/plain": [
       "3"
      ]
     },
     "execution_count": 48,
     "metadata": {},
     "output_type": "execute_result"
    }
   ],
   "source": [
    "2 | 3"
   ]
  },
  {
   "cell_type": "code",
   "execution_count": 41,
   "metadata": {},
   "outputs": [
    {
     "data": {
      "text/plain": [
       "'0b101'"
      ]
     },
     "execution_count": 41,
     "metadata": {},
     "output_type": "execute_result"
    }
   ],
   "source": [
    "bin(5)"
   ]
  },
  {
   "cell_type": "code",
   "execution_count": 42,
   "metadata": {},
   "outputs": [
    {
     "data": {
      "text/plain": [
       "'0b110'"
      ]
     },
     "execution_count": 42,
     "metadata": {},
     "output_type": "execute_result"
    }
   ],
   "source": [
    "bin(6)"
   ]
  },
  {
   "cell_type": "code",
   "execution_count": 44,
   "metadata": {},
   "outputs": [
    {
     "data": {
      "text/plain": [
       "6"
      ]
     },
     "execution_count": 44,
     "metadata": {},
     "output_type": "execute_result"
    }
   ],
   "source": [
    "4 | 6"
   ]
  },
  {
   "cell_type": "code",
   "execution_count": 15,
   "metadata": {},
   "outputs": [
    {
     "name": "stdout",
     "output_type": "stream",
     "text": [
      "1\n",
      "3 3\n",
      "1 1 3\n",
      "-1\n"
     ]
    }
   ],
   "source": [
    "import sys\n",
    "input = lambda: sys.stdin.readline().rstrip()\n",
    "\n",
    "for _ in range(int(input())):\n",
    "    n, k = map(int, input().split())\n",
    "    li = list(map(int, input().split()))\n",
    "\n",
    "    mv = -float('inf') # max value\n",
    "    for i in range(n - 1):\n",
    "        j = i + 1\n",
    "        mv = max(mv, (i + 1) * (j + 1) - k * (li[i] | li[j]))\n",
    "\n",
    "    print(mv)"
   ]
  },
  {
   "cell_type": "code",
   "execution_count": null,
   "metadata": {},
   "outputs": [],
   "source": [
    "li[i] | li[j]가 크면 나가는 값이 많아짐\n",
    "i, j가 크면 추가되는 값이 많아짐\n",
    "\n"
   ]
  },
  {
   "cell_type": "code",
   "execution_count": null,
   "metadata": {},
   "outputs": [],
   "source": [
    "혹시 이 문제도 이어진 2개씩만 비교하면 풀리나?"
   ]
  },
  {
   "cell_type": "code",
   "execution_count": 4,
   "metadata": {},
   "outputs": [
    {
     "data": {
      "text/plain": [
       "3"
      ]
     },
     "execution_count": 4,
     "metadata": {},
     "output_type": "execute_result"
    }
   ],
   "source": [
    "3 | 1"
   ]
  },
  {
   "cell_type": "code",
   "execution_count": 5,
   "metadata": {},
   "outputs": [
    {
     "data": {
      "text/plain": [
       "7"
      ]
     },
     "execution_count": 5,
     "metadata": {},
     "output_type": "execute_result"
    }
   ],
   "source": [
    "6 | 5"
   ]
  },
  {
   "cell_type": "markdown",
   "metadata": {},
   "source": [
    "### C"
   ]
  },
  {
   "cell_type": "code",
   "execution_count": null,
   "metadata": {},
   "outputs": [],
   "source": [
    "# n, m = map(int, input().split())\n"
   ]
  },
  {
   "cell_type": "code",
   "execution_count": 153,
   "metadata": {},
   "outputs": [
    {
     "data": {
      "text/plain": [
       "9"
      ]
     },
     "execution_count": 153,
     "metadata": {},
     "output_type": "execute_result"
    }
   ],
   "source": [
    "n, m = 7, 30\n",
    "\n",
    "cur = "
   ]
  },
  {
   "cell_type": "code",
   "execution_count": 172,
   "metadata": {},
   "outputs": [
    {
     "name": "stdout",
     "output_type": "stream",
     "text": [
      "69 0 69 69\n",
      "69 1 68 69\n",
      "69 2 71 73\n",
      "69 3 70 73\n",
      "69 4 65 69\n",
      "69 5 64 69\n",
      "69 6 67 73\n",
      "69 7 66 73\n",
      "69 8 77 85\n",
      "69 9 76 85\n",
      "69 10 79 89\n",
      "69 11 78 89\n",
      "69 12 73 85\n",
      "69 13 72 85\n",
      "69 14 75 89\n",
      "69 15 74 89\n",
      "69 16 85 101\n",
      "69 17 84 101\n",
      "69 18 87 105\n",
      "69 19 86 105\n",
      "69 20 81 101\n",
      "69 21 80 101\n",
      "69 22 83 105\n",
      "69 23 82 105\n",
      "69 24 93 117\n",
      "69 25 92 117\n",
      "69 26 95 121\n",
      "69 27 94 121\n",
      "69 28 89 117\n",
      "69 29 88 117\n",
      "69 30 91 121\n",
      "69 31 90 121\n",
      "69 32 101 133\n",
      "69 33 100 133\n",
      "69 34 103 137\n",
      "69 35 102 137\n",
      "69 36 97 133\n",
      "69 37 96 133\n",
      "69 38 99 137\n",
      "69 39 98 137\n",
      "69 40 109 149\n",
      "69 41 108 149\n",
      "69 42 111 153\n",
      "69 43 110 153\n",
      "69 44 105 149\n",
      "69 45 104 149\n",
      "69 46 107 153\n",
      "69 47 106 153\n",
      "69 48 117 165\n",
      "69 49 116 165\n",
      "69 50 119 169\n",
      "69 51 118 169\n",
      "69 52 113 165\n",
      "69 53 112 165\n",
      "69 54 115 169\n",
      "69 55 114 169\n",
      "69 56 125 181\n",
      "69 57 124 181\n",
      "69 58 127 185\n",
      "69 59 126 185\n",
      "69 60 121 181\n",
      "69 61 120 181\n",
      "69 62 123 185\n",
      "69 63 122 185\n",
      "69 64 5 69\n",
      "69 65 4 69\n",
      "69 66 7 73\n",
      "69 67 6 73\n",
      "69 68 1 69\n",
      "69 69 0 69\n",
      "69 70 3 73\n",
      "69 71 2 73\n",
      "69 72 13 85\n",
      "69 73 12 85\n",
      "69 74 15 89\n",
      "69 75 14 89\n",
      "69 76 9 85\n",
      "69 77 8 85\n",
      "69 78 11 89\n",
      "69 79 10 89\n",
      "69 80 21 101\n",
      "69 81 20 101\n",
      "69 82 23 105\n",
      "69 83 22 105\n",
      "69 84 17 101\n",
      "69 85 16 101\n",
      "69 86 19 105\n",
      "69 87 18 105\n",
      "69 88 29 117\n",
      "69 89 28 117\n",
      "69 90 31 121\n",
      "69 91 30 121\n",
      "69 92 25 117\n",
      "69 93 24 117\n",
      "69 94 27 121\n",
      "69 95 26 121\n",
      "69 96 37 133\n",
      "69 97 36 133\n",
      "69 98 39 137\n",
      "69 99 38 137\n",
      "69 100 33 133\n",
      "69 101 32 133\n",
      "69 102 35 137\n",
      "69 103 34 137\n",
      "69 104 45 149\n",
      "69 105 44 149\n",
      "69 106 47 153\n",
      "69 107 46 153\n",
      "69 108 41 149\n",
      "69 109 40 149\n",
      "69 110 43 153\n",
      "69 111 42 153\n",
      "69 112 53 165\n",
      "69 113 52 165\n",
      "69 114 55 169\n",
      "69 115 54 169\n",
      "69 116 49 165\n",
      "69 117 48 165\n",
      "69 118 51 169\n",
      "69 119 50 169\n",
      "69 120 61 181\n",
      "69 121 60 181\n",
      "69 122 63 185\n",
      "69 123 62 185\n",
      "69 124 57 181\n",
      "69 125 56 181\n",
      "69 126 59 185\n",
      "69 127 58 185\n",
      "69 128 197 325\n",
      "69 129 196 325\n",
      "69 130 199 329\n",
      "69 131 198 329\n",
      "69 132 193 325\n",
      "69 133 192 325\n",
      "69 134 195 329\n",
      "69 135 194 329\n",
      "69 136 205 341\n",
      "69 137 204 341\n",
      "69 138 207 345\n",
      "69 139 206 345\n",
      "69 140 201 341\n",
      "69 141 200 341\n",
      "69 142 203 345\n",
      "69 143 202 345\n",
      "69 144 213 357\n",
      "69 145 212 357\n",
      "69 146 215 361\n",
      "69 147 214 361\n",
      "69 148 209 357\n",
      "69 149 208 357\n",
      "69 150 211 361\n",
      "69 151 210 361\n",
      "69 152 221 373\n",
      "69 153 220 373\n",
      "69 154 223 377\n",
      "69 155 222 377\n",
      "69 156 217 373\n",
      "69 157 216 373\n",
      "69 158 219 377\n",
      "69 159 218 377\n",
      "69 160 229 389\n",
      "69 161 228 389\n",
      "69 162 231 393\n",
      "69 163 230 393\n",
      "69 164 225 389\n",
      "69 165 224 389\n",
      "69 166 227 393\n",
      "69 167 226 393\n",
      "69 168 237 405\n",
      "69 169 236 405\n",
      "69 170 239 409\n",
      "69 171 238 409\n",
      "69 172 233 405\n",
      "69 173 232 405\n",
      "69 174 235 409\n",
      "69 175 234 409\n",
      "69 176 245 421\n",
      "69 177 244 421\n",
      "69 178 247 425\n",
      "69 179 246 425\n",
      "69 180 241 421\n",
      "69 181 240 421\n",
      "69 182 243 425\n",
      "69 183 242 425\n",
      "69 184 253 437\n",
      "69 185 252 437\n",
      "69 186 255 441\n",
      "69 187 254 441\n",
      "69 188 249 437\n",
      "69 189 248 437\n",
      "69 190 251 441\n",
      "69 191 250 441\n",
      "69 192 133 325\n",
      "69 193 132 325\n",
      "69 194 135 329\n",
      "69 195 134 329\n",
      "69 196 129 325\n",
      "69 197 128 325\n",
      "69 198 131 329\n",
      "69 199 130 329\n",
      "69 200 141 341\n",
      "69 201 140 341\n",
      "69 202 143 345\n",
      "69 203 142 345\n",
      "69 204 137 341\n",
      "69 205 136 341\n",
      "69 206 139 345\n",
      "69 207 138 345\n",
      "69 208 149 357\n",
      "69 209 148 357\n",
      "69 210 151 361\n",
      "69 211 150 361\n",
      "69 212 145 357\n",
      "69 213 144 357\n",
      "69 214 147 361\n",
      "69 215 146 361\n",
      "69 216 157 373\n",
      "69 217 156 373\n",
      "69 218 159 377\n",
      "69 219 158 377\n",
      "69 220 153 373\n",
      "69 221 152 373\n",
      "69 222 155 377\n",
      "69 223 154 377\n",
      "69 224 165 389\n",
      "69 225 164 389\n",
      "69 226 167 393\n",
      "69 227 166 393\n",
      "69 228 161 389\n",
      "69 229 160 389\n",
      "69 230 163 393\n",
      "69 231 162 393\n",
      "69 232 173 405\n",
      "69 233 172 405\n",
      "69 234 175 409\n",
      "69 235 174 409\n",
      "69 236 169 405\n",
      "69 237 168 405\n",
      "69 238 171 409\n",
      "69 239 170 409\n",
      "69 240 181 421\n",
      "69 241 180 421\n",
      "69 242 183 425\n",
      "69 243 182 425\n",
      "69 244 177 421\n",
      "69 245 176 421\n",
      "69 246 179 425\n",
      "69 247 178 425\n",
      "69 248 189 437\n",
      "69 249 188 437\n",
      "69 250 191 441\n",
      "69 251 190 441\n",
      "69 252 185 437\n",
      "69 253 184 437\n",
      "69 254 187 441\n",
      "69 255 186 441\n",
      "69 256 325 581\n",
      "69 257 324 581\n",
      "69 258 327 585\n",
      "69 259 326 585\n",
      "69 260 321 581\n",
      "69 261 320 581\n",
      "69 262 323 585\n",
      "69 263 322 585\n",
      "69 264 333 597\n",
      "69 265 332 597\n",
      "69 266 335 601\n",
      "69 267 334 601\n",
      "69 268 329 597\n",
      "69 269 328 597\n",
      "69 270 331 601\n",
      "69 271 330 601\n",
      "69 272 341 613\n",
      "69 273 340 613\n",
      "69 274 343 617\n",
      "69 275 342 617\n",
      "69 276 337 613\n",
      "69 277 336 613\n",
      "69 278 339 617\n",
      "69 279 338 617\n",
      "69 280 349 629\n",
      "69 281 348 629\n",
      "69 282 351 633\n",
      "69 283 350 633\n",
      "69 284 345 629\n",
      "69 285 344 629\n",
      "69 286 347 633\n",
      "69 287 346 633\n",
      "69 288 357 645\n",
      "69 289 356 645\n",
      "69 290 359 649\n",
      "69 291 358 649\n",
      "69 292 353 645\n",
      "69 293 352 645\n",
      "69 294 355 649\n",
      "69 295 354 649\n",
      "69 296 365 661\n",
      "69 297 364 661\n",
      "69 298 367 665\n",
      "69 299 366 665\n",
      "69 300 361 661\n",
      "69 301 360 661\n",
      "69 302 363 665\n",
      "69 303 362 665\n",
      "69 304 373 677\n",
      "69 305 372 677\n",
      "69 306 375 681\n",
      "69 307 374 681\n",
      "69 308 369 677\n",
      "69 309 368 677\n",
      "69 310 371 681\n",
      "69 311 370 681\n",
      "69 312 381 693\n",
      "69 313 380 693\n",
      "69 314 383 697\n",
      "69 315 382 697\n",
      "69 316 377 693\n",
      "69 317 376 693\n",
      "69 318 379 697\n",
      "69 319 378 697\n",
      "69 320 261 581\n",
      "69 321 260 581\n",
      "69 322 263 585\n",
      "69 323 262 585\n",
      "69 324 257 581\n",
      "69 325 256 581\n",
      "69 326 259 585\n",
      "69 327 258 585\n",
      "69 328 269 597\n",
      "69 329 268 597\n",
      "69 330 271 601\n",
      "69 331 270 601\n",
      "69 332 265 597\n",
      "69 333 264 597\n",
      "69 334 267 601\n",
      "69 335 266 601\n",
      "69 336 277 613\n",
      "69 337 276 613\n",
      "69 338 279 617\n",
      "69 339 278 617\n",
      "69 340 273 613\n",
      "69 341 272 613\n",
      "69 342 275 617\n",
      "69 343 274 617\n",
      "69 344 285 629\n",
      "69 345 284 629\n",
      "69 346 287 633\n",
      "69 347 286 633\n",
      "69 348 281 629\n",
      "69 349 280 629\n",
      "69 350 283 633\n",
      "69 351 282 633\n",
      "69 352 293 645\n",
      "69 353 292 645\n",
      "69 354 295 649\n",
      "69 355 294 649\n",
      "69 356 289 645\n",
      "69 357 288 645\n",
      "69 358 291 649\n",
      "69 359 290 649\n",
      "69 360 301 661\n",
      "69 361 300 661\n",
      "69 362 303 665\n",
      "69 363 302 665\n",
      "69 364 297 661\n",
      "69 365 296 661\n",
      "69 366 299 665\n",
      "69 367 298 665\n",
      "69 368 309 677\n",
      "69 369 308 677\n",
      "69 370 311 681\n",
      "69 371 310 681\n",
      "69 372 305 677\n",
      "69 373 304 677\n",
      "69 374 307 681\n",
      "69 375 306 681\n",
      "69 376 317 693\n",
      "69 377 316 693\n",
      "69 378 319 697\n",
      "69 379 318 697\n",
      "69 380 313 693\n",
      "69 381 312 693\n",
      "69 382 315 697\n",
      "69 383 314 697\n",
      "69 384 453 837\n",
      "69 385 452 837\n",
      "69 386 455 841\n",
      "69 387 454 841\n",
      "69 388 449 837\n",
      "69 389 448 837\n",
      "69 390 451 841\n",
      "69 391 450 841\n",
      "69 392 461 853\n",
      "69 393 460 853\n",
      "69 394 463 857\n",
      "69 395 462 857\n",
      "69 396 457 853\n",
      "69 397 456 853\n",
      "69 398 459 857\n",
      "69 399 458 857\n",
      "69 400 469 869\n",
      "69 401 468 869\n",
      "69 402 471 873\n",
      "69 403 470 873\n",
      "69 404 465 869\n",
      "69 405 464 869\n",
      "69 406 467 873\n",
      "69 407 466 873\n",
      "69 408 477 885\n",
      "69 409 476 885\n",
      "69 410 479 889\n",
      "69 411 478 889\n",
      "69 412 473 885\n",
      "69 413 472 885\n",
      "69 414 475 889\n",
      "69 415 474 889\n",
      "69 416 485 901\n",
      "69 417 484 901\n",
      "69 418 487 905\n",
      "69 419 486 905\n",
      "69 420 481 901\n",
      "69 421 480 901\n",
      "69 422 483 905\n",
      "69 423 482 905\n",
      "69 424 493 917\n",
      "69 425 492 917\n",
      "69 426 495 921\n",
      "69 427 494 921\n",
      "69 428 489 917\n",
      "69 429 488 917\n",
      "69 430 491 921\n",
      "69 431 490 921\n",
      "69 432 501 933\n",
      "69 433 500 933\n",
      "69 434 503 937\n",
      "69 435 502 937\n",
      "69 436 497 933\n",
      "69 437 496 933\n",
      "69 438 499 937\n",
      "69 439 498 937\n",
      "69 440 509 949\n",
      "69 441 508 949\n",
      "69 442 511 953\n",
      "69 443 510 953\n",
      "69 444 505 949\n",
      "69 445 504 949\n",
      "69 446 507 953\n",
      "69 447 506 953\n",
      "69 448 389 837\n",
      "69 449 388 837\n",
      "69 450 391 841\n",
      "69 451 390 841\n",
      "69 452 385 837\n",
      "69 453 384 837\n",
      "69 454 387 841\n",
      "69 455 386 841\n",
      "69 456 397 853\n",
      "69 457 396 853\n",
      "69 458 399 857\n",
      "69 459 398 857\n",
      "69 460 393 853\n",
      "69 461 392 853\n",
      "69 462 395 857\n",
      "69 463 394 857\n",
      "69 464 405 869\n",
      "69 465 404 869\n",
      "69 466 407 873\n",
      "69 467 406 873\n",
      "69 468 401 869\n",
      "69 469 400 869\n",
      "69 470 403 873\n",
      "69 471 402 873\n",
      "69 472 413 885\n",
      "69 473 412 885\n",
      "69 474 415 889\n",
      "69 475 414 889\n",
      "69 476 409 885\n",
      "69 477 408 885\n",
      "69 478 411 889\n",
      "69 479 410 889\n",
      "69 480 421 901\n",
      "69 481 420 901\n",
      "69 482 423 905\n",
      "69 483 422 905\n",
      "69 484 417 901\n",
      "69 485 416 901\n",
      "69 486 419 905\n",
      "69 487 418 905\n",
      "69 488 429 917\n",
      "69 489 428 917\n",
      "69 490 431 921\n",
      "69 491 430 921\n",
      "69 492 425 917\n",
      "69 493 424 917\n",
      "69 494 427 921\n",
      "69 495 426 921\n",
      "69 496 437 933\n",
      "69 497 436 933\n",
      "69 498 439 937\n",
      "69 499 438 937\n",
      "69 500 433 933\n",
      "69 501 432 933\n",
      "69 502 435 937\n",
      "69 503 434 937\n",
      "69 504 445 949\n",
      "69 505 444 949\n",
      "69 506 447 953\n",
      "69 507 446 953\n",
      "69 508 441 949\n",
      "69 509 440 949\n",
      "69 510 443 953\n",
      "69 511 442 953\n",
      "69 512 581 1093\n",
      "69 513 580 1093\n",
      "69 514 583 1097\n",
      "69 515 582 1097\n",
      "69 516 577 1093\n",
      "69 517 576 1093\n",
      "69 518 579 1097\n",
      "69 519 578 1097\n",
      "69 520 589 1109\n",
      "69 521 588 1109\n",
      "69 522 591 1113\n",
      "69 523 590 1113\n",
      "69 524 585 1109\n",
      "69 525 584 1109\n",
      "69 526 587 1113\n",
      "69 527 586 1113\n",
      "69 528 597 1125\n",
      "69 529 596 1125\n",
      "69 530 599 1129\n",
      "69 531 598 1129\n",
      "69 532 593 1125\n",
      "69 533 592 1125\n",
      "69 534 595 1129\n",
      "69 535 594 1129\n",
      "69 536 605 1141\n",
      "69 537 604 1141\n",
      "69 538 607 1145\n",
      "69 539 606 1145\n",
      "69 540 601 1141\n",
      "69 541 600 1141\n",
      "69 542 603 1145\n",
      "69 543 602 1145\n",
      "69 544 613 1157\n",
      "69 545 612 1157\n",
      "69 546 615 1161\n",
      "69 547 614 1161\n",
      "69 548 609 1157\n",
      "69 549 608 1157\n",
      "69 550 611 1161\n",
      "69 551 610 1161\n",
      "69 552 621 1173\n",
      "69 553 620 1173\n",
      "69 554 623 1177\n",
      "69 555 622 1177\n",
      "69 556 617 1173\n",
      "69 557 616 1173\n",
      "69 558 619 1177\n",
      "69 559 618 1177\n",
      "69 560 629 1189\n",
      "69 561 628 1189\n",
      "69 562 631 1193\n",
      "69 563 630 1193\n",
      "69 564 625 1189\n",
      "69 565 624 1189\n",
      "69 566 627 1193\n",
      "69 567 626 1193\n",
      "69 568 637 1205\n",
      "69 569 636 1205\n",
      "69 570 639 1209\n",
      "69 571 638 1209\n",
      "69 572 633 1205\n",
      "69 573 632 1205\n",
      "69 574 635 1209\n",
      "69 575 634 1209\n",
      "69 576 517 1093\n",
      "69 577 516 1093\n",
      "69 578 519 1097\n",
      "69 579 518 1097\n",
      "69 580 513 1093\n",
      "69 581 512 1093\n",
      "69 582 515 1097\n",
      "69 583 514 1097\n",
      "69 584 525 1109\n",
      "69 585 524 1109\n",
      "69 586 527 1113\n",
      "69 587 526 1113\n",
      "69 588 521 1109\n",
      "69 589 520 1109\n",
      "69 590 523 1113\n",
      "69 591 522 1113\n",
      "69 592 533 1125\n",
      "69 593 532 1125\n",
      "69 594 535 1129\n",
      "69 595 534 1129\n",
      "69 596 529 1125\n",
      "69 597 528 1125\n",
      "69 598 531 1129\n",
      "69 599 530 1129\n",
      "69 600 541 1141\n",
      "69 601 540 1141\n",
      "69 602 543 1145\n",
      "69 603 542 1145\n",
      "69 604 537 1141\n",
      "69 605 536 1141\n",
      "69 606 539 1145\n",
      "69 607 538 1145\n",
      "69 608 549 1157\n",
      "69 609 548 1157\n",
      "69 610 551 1161\n",
      "69 611 550 1161\n",
      "69 612 545 1157\n",
      "69 613 544 1157\n",
      "69 614 547 1161\n",
      "69 615 546 1161\n",
      "69 616 557 1173\n",
      "69 617 556 1173\n",
      "69 618 559 1177\n",
      "69 619 558 1177\n",
      "69 620 553 1173\n",
      "69 621 552 1173\n",
      "69 622 555 1177\n",
      "69 623 554 1177\n",
      "69 624 565 1189\n",
      "69 625 564 1189\n",
      "69 626 567 1193\n",
      "69 627 566 1193\n",
      "69 628 561 1189\n",
      "69 629 560 1189\n",
      "69 630 563 1193\n",
      "69 631 562 1193\n",
      "69 632 573 1205\n",
      "69 633 572 1205\n",
      "69 634 575 1209\n",
      "69 635 574 1209\n",
      "69 636 569 1205\n",
      "69 637 568 1205\n",
      "69 638 571 1209\n",
      "69 639 570 1209\n",
      "69 640 709 1349\n",
      "69 641 708 1349\n",
      "69 642 711 1353\n",
      "69 643 710 1353\n",
      "69 644 705 1349\n",
      "69 645 704 1349\n",
      "69 646 707 1353\n",
      "69 647 706 1353\n",
      "69 648 717 1365\n",
      "69 649 716 1365\n",
      "69 650 719 1369\n",
      "69 651 718 1369\n",
      "69 652 713 1365\n",
      "69 653 712 1365\n",
      "69 654 715 1369\n",
      "69 655 714 1369\n",
      "69 656 725 1381\n",
      "69 657 724 1381\n",
      "69 658 727 1385\n",
      "69 659 726 1385\n",
      "69 660 721 1381\n",
      "69 661 720 1381\n",
      "69 662 723 1385\n",
      "69 663 722 1385\n",
      "69 664 733 1397\n",
      "69 665 732 1397\n",
      "69 666 735 1401\n",
      "69 667 734 1401\n",
      "69 668 729 1397\n",
      "69 669 728 1397\n",
      "69 670 731 1401\n",
      "69 671 730 1401\n",
      "69 672 741 1413\n",
      "69 673 740 1413\n",
      "69 674 743 1417\n",
      "69 675 742 1417\n",
      "69 676 737 1413\n",
      "69 677 736 1413\n",
      "69 678 739 1417\n",
      "69 679 738 1417\n",
      "69 680 749 1429\n",
      "69 681 748 1429\n",
      "69 682 751 1433\n",
      "69 683 750 1433\n",
      "69 684 745 1429\n",
      "69 685 744 1429\n",
      "69 686 747 1433\n",
      "69 687 746 1433\n",
      "69 688 757 1445\n",
      "69 689 756 1445\n",
      "69 690 759 1449\n",
      "69 691 758 1449\n",
      "69 692 753 1445\n",
      "69 693 752 1445\n",
      "69 694 755 1449\n",
      "69 695 754 1449\n",
      "69 696 765 1461\n"
     ]
    }
   ],
   "source": [
    "n, m = 69, 696\n",
    "\n",
    "for j in range(m + 1):\n",
    "    print(n, j, n ^ j)"
   ]
  },
  {
   "cell_type": "code",
   "execution_count": 173,
   "metadata": {},
   "outputs": [
    {
     "data": {
      "text/plain": [
       "765"
      ]
     },
     "execution_count": 173,
     "metadata": {},
     "output_type": "execute_result"
    }
   ],
   "source": [
    "69 ^ 696"
   ]
  },
  {
   "cell_type": "code",
   "execution_count": 174,
   "metadata": {},
   "outputs": [
    {
     "data": {
      "text/plain": [
       "627"
      ]
     },
     "execution_count": 174,
     "metadata": {},
     "output_type": "execute_result"
    }
   ],
   "source": [
    "696 - 69"
   ]
  },
  {
   "cell_type": "code",
   "execution_count": 178,
   "metadata": {},
   "outputs": [
    {
     "data": {
      "text/plain": [
       "709"
      ]
     },
     "execution_count": 178,
     "metadata": {},
     "output_type": "execute_result"
    }
   ],
   "source": [
    "640 ^ 69"
   ]
  },
  {
   "cell_type": "code",
   "execution_count": 179,
   "metadata": {},
   "outputs": [
    {
     "data": {
      "text/plain": [
       "56"
      ]
     },
     "execution_count": 179,
     "metadata": {},
     "output_type": "execute_result"
    }
   ],
   "source": [
    "640 ^ 696"
   ]
  },
  {
   "cell_type": "code",
   "execution_count": 192,
   "metadata": {},
   "outputs": [
    {
     "name": "stdout",
     "output_type": "stream",
     "text": [
      "131072\n"
     ]
    }
   ],
   "source": [
    "n, m = 123456, 654321\n",
    "\n",
    "cur = 1\n",
    "while True:\n",
    "    if n <= cur:\n",
    "        break\n",
    "    cur *= 2\n",
    "    \n",
    "print(cur)"
   ]
  },
  {
   "cell_type": "code",
   "execution_count": 193,
   "metadata": {},
   "outputs": [
    {
     "data": {
      "text/plain": [
       "661937"
      ]
     },
     "execution_count": 193,
     "metadata": {},
     "output_type": "execute_result"
    }
   ],
   "source": [
    "cur ^ n ^ m"
   ]
  },
  {
   "cell_type": "code",
   "execution_count": 194,
   "metadata": {},
   "outputs": [
    {
     "data": {
      "text/plain": [
       "785393"
      ]
     },
     "execution_count": 194,
     "metadata": {},
     "output_type": "execute_result"
    }
   ],
   "source": [
    "cur ^ m"
   ]
  },
  {
   "cell_type": "code",
   "execution_count": null,
   "metadata": {},
   "outputs": [],
   "source": []
  },
  {
   "cell_type": "code",
   "execution_count": 169,
   "metadata": {},
   "outputs": [
    {
     "data": {
      "text/plain": [
       "696"
      ]
     },
     "execution_count": 169,
     "metadata": {},
     "output_type": "execute_result"
    }
   ],
   "source": [
    "69 ^ 765"
   ]
  },
  {
   "cell_type": "code",
   "execution_count": 166,
   "metadata": {},
   "outputs": [
    {
     "data": {
      "text/plain": [
       "15"
      ]
     },
     "execution_count": 166,
     "metadata": {},
     "output_type": "execute_result"
    }
   ],
   "source": [
    "10 ^ 5"
   ]
  },
  {
   "cell_type": "code",
   "execution_count": null,
   "metadata": {},
   "outputs": [],
   "source": [
    "if n < m:\n",
    "    print(0)"
   ]
  },
  {
   "cell_type": "code",
   "execution_count": 156,
   "metadata": {},
   "outputs": [
    {
     "data": {
      "text/plain": [
       "765"
      ]
     },
     "execution_count": 156,
     "metadata": {},
     "output_type": "execute_result"
    }
   ],
   "source": [
    "69 ^ 696"
   ]
  },
  {
   "cell_type": "code",
   "execution_count": 155,
   "metadata": {},
   "outputs": [
    {
     "data": {
      "text/plain": [
       "530865"
      ]
     },
     "execution_count": 155,
     "metadata": {},
     "output_type": "execute_result"
    }
   ],
   "source": [
    "123456 ^ 654321"
   ]
  },
  {
   "cell_type": "code",
   "execution_count": 158,
   "metadata": {},
   "outputs": [
    {
     "data": {
      "text/plain": [
       "2"
      ]
     },
     "execution_count": 158,
     "metadata": {},
     "output_type": "execute_result"
    }
   ],
   "source": [
    "4 ^ 6"
   ]
  },
  {
   "cell_type": "code",
   "execution_count": 159,
   "metadata": {},
   "outputs": [
    {
     "data": {
      "text/plain": [
       "6"
      ]
     },
     "execution_count": 159,
     "metadata": {},
     "output_type": "execute_result"
    }
   ],
   "source": [
    "3 ^ 5"
   ]
  },
  {
   "cell_type": "code",
   "execution_count": 104,
   "metadata": {},
   "outputs": [
    {
     "data": {
      "text/plain": [
       "'0b11'"
      ]
     },
     "execution_count": 104,
     "metadata": {},
     "output_type": "execute_result"
    }
   ],
   "source": [
    "bin(3)"
   ]
  },
  {
   "cell_type": "code",
   "execution_count": 105,
   "metadata": {},
   "outputs": [
    {
     "data": {
      "text/plain": [
       "'0b111'"
      ]
     },
     "execution_count": 105,
     "metadata": {},
     "output_type": "execute_result"
    }
   ],
   "source": [
    "bin(7)"
   ]
  },
  {
   "cell_type": "markdown",
   "metadata": {},
   "source": [
    "### D"
   ]
  },
  {
   "cell_type": "code",
   "execution_count": null,
   "metadata": {},
   "outputs": [],
   "source": []
  },
  {
   "cell_type": "code",
   "execution_count": null,
   "metadata": {},
   "outputs": [],
   "source": [
    "import os\n",
    "import sys\n",
    "from io import BytesIO, IOBase\n",
    " \n",
    "\n",
    "def main():\n",
    "    for _ in range(int(input())):\n",
    "        n, k = map(int, input().split())\n",
    "        li = list(map(int, input().split()))\n",
    "\n",
    "        mv = -float('inf')\n",
    "        for i in range(n - 1, n - 100, -1):\n",
    "            if i < 0:\n",
    "                break\n",
    "            for j in range(i - 1, n - 100, -1):\n",
    "                if j < 0:\n",
    "                    break\n",
    "\n",
    "                mv = max(mv, (i + 1) * (j + 1) - k * (li[i] | li[j]))\n",
    "\n",
    "        nli = [(v, i + 1) for i, v in enumerate(li)]\n",
    "        nli.sort(key=lambda x: (x[0], -x[1]))\n",
    "\n",
    "        for i in range(min(n, 100)):\n",
    "            for j in range(i + 1, min(n, 100)):\n",
    "                av, ai = nli[i]\n",
    "                bv, bi = nli[j]\n",
    "\n",
    "                mv = max(mv, ai * bi - k * (av | bv))\n",
    "\n",
    "        print(mv)\n",
    "\n",
    "    \n",
    "    \n",
    "    \n",
    "\n",
    "# region fastio\n",
    " \n",
    "BUFSIZE = 8192\n",
    " \n",
    "\n",
    "class FastIO(IOBase):\n",
    "    newlines = 0\n",
    " \n",
    "    def __init__(self, file):\n",
    "        self._fd = file.fileno()\n",
    "        self.buffer = BytesIO()\n",
    "        self.writable = \"x\" in file.mode or \"r\" not in file.mode\n",
    "        self.write = self.buffer.write if self.writable else None\n",
    " \n",
    "    def read(self):\n",
    "        while True:\n",
    "            b = os.read(self._fd, max(os.fstat(self._fd).st_size, BUFSIZE))\n",
    "            if not b:\n",
    "                break\n",
    "            ptr = self.buffer.tell()\n",
    "            self.buffer.seek(0, 2), self.buffer.write(b), self.buffer.seek(ptr)\n",
    "        self.newlines = 0\n",
    "        return self.buffer.read()\n",
    " \n",
    "    def readline(self):\n",
    "        while self.newlines == 0:\n",
    "            b = os.read(self._fd, max(os.fstat(self._fd).st_size, BUFSIZE))\n",
    "            self.newlines = b.count(b\"\\n\") + (not b)\n",
    "            ptr = self.buffer.tell()\n",
    "            self.buffer.seek(0, 2), self.buffer.write(b), self.buffer.seek(ptr)\n",
    "        self.newlines -= 1\n",
    "        return self.buffer.readline()\n",
    " \n",
    "    def flush(self):\n",
    "        if self.writable:\n",
    "            os.write(self._fd, self.buffer.getvalue())\n",
    "            self.buffer.truncate(0), self.buffer.seek(0)\n",
    " \n",
    " \n",
    "class IOWrapper(IOBase):\n",
    "    def __init__(self, file):\n",
    "        self.buffer = FastIO(file)\n",
    "        self.flush = self.buffer.flush\n",
    "        self.writable = self.buffer.writable\n",
    "        self.write = lambda s: self.buffer.write(s.encode(\"ascii\"))\n",
    "        self.read = lambda: self.buffer.read().decode(\"ascii\")\n",
    "        self.readline = lambda: self.buffer.readline().decode(\"ascii\")\n",
    " \n",
    " \n",
    "sys.stdin, sys.stdout = IOWrapper(sys.stdin), IOWrapper(sys.stdout)\n",
    "input = lambda: sys.stdin.readline().rstrip(\"\\r\\n\")\n",
    " \n",
    "# endregion\n",
    " \n",
    "if __name__ == \"__main__\":\n",
    "    main()"
   ]
  }
 ],
 "metadata": {
  "kernelspec": {
   "display_name": "Python 3",
   "language": "python",
   "name": "python3"
  },
  "language_info": {
   "codemirror_mode": {
    "name": "ipython",
    "version": 3
   },
   "file_extension": ".py",
   "mimetype": "text/x-python",
   "name": "python",
   "nbconvert_exporter": "python",
   "pygments_lexer": "ipython3",
   "version": "3.7.3"
  }
 },
 "nbformat": 4,
 "nbformat_minor": 4
}
