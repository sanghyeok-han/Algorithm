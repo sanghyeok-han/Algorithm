{
 "cells": [
  {
   "cell_type": "markdown",
   "metadata": {},
   "source": [
    "A"
   ]
  },
  {
   "cell_type": "code",
   "execution_count": null,
   "metadata": {},
   "outputs": [],
   "source": [
    "import sys, os, io\n",
    "input = io.BytesIO(os.read(0,os.fstat(0).st_size)).readline\n",
    "\n",
    "for _ in range(int(input())):\n",
    "    a, b, c = map(int, input().split())\n",
    "\n",
    "    if a == b + c or b == a + c or c == a + b:\n",
    "        print('YES')\n",
    "    else:\n",
    "        print('NO')"
   ]
  },
  {
   "cell_type": "markdown",
   "metadata": {},
   "source": [
    "B"
   ]
  },
  {
   "cell_type": "code",
   "execution_count": null,
   "metadata": {},
   "outputs": [],
   "source": [
    "import sys, os, io\n",
    "input = io.BytesIO(os.read(0,os.fstat(0).st_size)).readline\n",
    "\n",
    "for _ in range(int(input())):\n",
    "    n = int(input())\n",
    "    li = list(map(int, input().split()))\n",
    "\n",
    "    if len(set(li)) == n:\n",
    "        print('YES')\n",
    "    else:\n",
    "        print('NO')"
   ]
  },
  {
   "cell_type": "markdown",
   "metadata": {},
   "source": [
    "C"
   ]
  },
  {
   "cell_type": "code",
   "execution_count": null,
   "metadata": {},
   "outputs": [],
   "source": [
    "import sys\n",
    "input = lambda: sys.stdin.readline().rstrip()\n",
    "\n",
    "n = 8\n",
    "\n",
    "for _ in range(int(input())):\n",
    "    input()\n",
    "    \n",
    "    li = [input() for _ in range(n)]\n",
    "\n",
    "    result = '.'\n",
    "    for i in range(n):\n",
    "        cr = 0\n",
    "        for j in range(n):\n",
    "            if li[i][j] == 'R':\n",
    "                cr += 1\n",
    "                \n",
    "        if cr == n:\n",
    "            result = 'R'\n",
    "\n",
    "    for j in range(n):\n",
    "        cb = 0\n",
    "        for i in range(n):\n",
    "            if li[i][j] == 'B':\n",
    "                cb += 1\n",
    "                \n",
    "        if cb == n:\n",
    "            result = 'B'\n",
    "\n",
    "    print(result)"
   ]
  },
  {
   "cell_type": "markdown",
   "metadata": {},
   "source": [
    "D"
   ]
  },
  {
   "cell_type": "code",
   "execution_count": 11,
   "metadata": {},
   "outputs": [
    {
     "name": "stdout",
     "output_type": "stream",
     "text": [
      "7\n",
      "1 3 5 2 4 7 7\n",
      "12\n"
     ]
    }
   ],
   "source": [
    "from math import gcd\n",
    "import sys, os, io\n",
    "input = io.BytesIO(os.read(0,os.fstat(0).st_size)).readline\n",
    "\n",
    "for _ in range(int(input())):\n",
    "    n = int(input())\n",
    "    li = list(map(int, input().split()))\n",
    "\n",
    "    maxes = [-1] * 1001\n",
    "    for i in range(n):\n",
    "        v = li[i]\n",
    "\n",
    "        maxes[v] = max(maxes[v], i)\n",
    "\n",
    "    max_r = -1\n",
    "    for a in range(1, 1001):\n",
    "        for b in range(a, 1001):\n",
    "            if maxes[a] != -1 and maxes[b] != -1:\n",
    "                if gcd(a, b) == 1:\n",
    "                    max_r = max(max_r, maxes[a] + maxes[b] + 2)\n",
    "\n",
    "    print(max_r)"
   ]
  },
  {
   "cell_type": "markdown",
   "metadata": {},
   "source": [
    "E"
   ]
  },
  {
   "cell_type": "code",
   "execution_count": 14,
   "metadata": {},
   "outputs": [
    {
     "name": "stdout",
     "output_type": "stream",
     "text": [
      "4 5\n",
      "1 2 1 5\n",
      "1 2 4 9 10\n",
      "1 4 4 9 9\n"
     ]
    }
   ],
   "source": [
    "import sys, os, io\n",
    "input = io.BytesIO(os.read(0,os.fstat(0).st_size)).readline\n",
    "\n",
    "for _ in range(int(input())):\n",
    "    n, q = map(int, input().split())\n",
    "    li = list(map(int, input().split()))\n",
    "    qs = list(map(int, input().split()))\n",
    "\n",
    "    qs = [(qs[i], i) for i in range(q)]\n",
    "    qs.sort(key=lambda x: x[0])\n",
    "\n",
    "    result = [0] * q\n",
    "    cur_sum = 0\n",
    "    cur_check = 0\n",
    "    for qv, qi in qs:\n",
    "        while cur_check < n and qv >= li[cur_check]:\n",
    "            cur_sum += li[cur_check]\n",
    "            cur_check += 1\n",
    "\n",
    "        result[qi] = cur_sum\n",
    "\n",
    "    print(*result)"
   ]
  },
  {
   "cell_type": "markdown",
   "metadata": {},
   "source": [
    "F"
   ]
  },
  {
   "cell_type": "code",
   "execution_count": null,
   "metadata": {},
   "outputs": [],
   "source": [
    "s에서는 가장 작은게 맨 앞에 오게 되고\n",
    "t에서는 가장 큰게 맨 앞에 오게 된다.\n",
    "\n",
    "만약 s에서의 가장 작은게 t에서의 가장 큰 것보다 크면 무조건 안됨\n",
    "만약 s에서의 가장 작은게 t에서의 가장 큰 것보다 작으면 무조건 됨\n",
    "\n",
    "같다면, s가 두 가지의 값 이상이 있으면 무조건 안됨\n",
    "t 길이가 s 길이와 같거나 짧으면 무조건 안됨\n",
    "\n",
    "s의 유일한 문자의 수가 t에도 그 만큼 이상은 있어야 함."
   ]
  },
  {
   "cell_type": "code",
   "execution_count": 16,
   "metadata": {},
   "outputs": [
    {
     "data": {
      "text/plain": [
       "(97, 122)"
      ]
     },
     "execution_count": 16,
     "metadata": {},
     "output_type": "execute_result"
    }
   ],
   "source": [
    "ord('a'), ord('z')"
   ]
  },
  {
   "cell_type": "code",
   "execution_count": 21,
   "metadata": {},
   "outputs": [
    {
     "name": "stdout",
     "output_type": "stream",
     "text": [
      "3\n",
      "1 5 b\n",
      "NO\n",
      "2 3 a\n",
      "NO\n",
      "2 4 paiu\n",
      "NO\n"
     ]
    }
   ],
   "source": [
    "import sys\n",
    "input = lambda: sys.stdin.readline().rstrip()\n",
    "\n",
    "inf = float('inf')\n",
    "\n",
    "for _ in range(int(input())):\n",
    "    q = int(input())\n",
    "\n",
    "    a_ct = [0] * 26\n",
    "    b_ct = [0] * 26\n",
    "\n",
    "    a_ct[0] = 1\n",
    "    b_ct[0] = 1\n",
    "    for _ in range(q):\n",
    "        d, k, x = input().split()\n",
    "        d = int(d)\n",
    "        k = int(k)\n",
    "\n",
    "        if d == 1:\n",
    "            for v in x:\n",
    "                a_ct[ord(v) - 97] += k\n",
    "        else:\n",
    "            for v in x:\n",
    "                b_ct[ord(v) - 97] += k\n",
    "\n",
    "        a_smallest = inf\n",
    "        b_largest = -1\n",
    "\n",
    "        a_diff_c = 0\n",
    "\n",
    "        a_len = 0\n",
    "        b_len = 0\n",
    "        for i in range(26):\n",
    "            if a_ct[i] >= 1:\n",
    "                a_len += a_ct[i]\n",
    "\n",
    "                a_diff_c += 1\n",
    "                if a_smallest == inf:\n",
    "                    a_smallest = i\n",
    "\n",
    "        for i in range(26):\n",
    "            b_len += b_ct[i]\n",
    "\n",
    "            if b_ct[i] >= 1:\n",
    "                b_largest = i\n",
    "\n",
    "        if a_smallest > b_largest:\n",
    "            print('NO')\n",
    "        elif a_smallest < b_largest:\n",
    "            print('YES')\n",
    "        else:\n",
    "            if a_diff_c >= 2:\n",
    "                print('NO')\n",
    "            elif b_len <= a_len:\n",
    "                print('NO')\n",
    "            else:\n",
    "                if b_ct[a_smallest] >= a_ct[a_smallest]:\n",
    "                    print('YES')\n",
    "                else:\n",
    "                    print('NO')"
   ]
  },
  {
   "cell_type": "markdown",
   "metadata": {},
   "source": [
    "G"
   ]
  },
  {
   "cell_type": "code",
   "execution_count": null,
   "metadata": {},
   "outputs": [],
   "source": [
    "1110\n",
    "\n",
    "0100\n",
    "0001\n",
    "\n",
    "일 때 \n",
    "\n",
    "1110 다음에 0001을 선택해야됨"
   ]
  },
  {
   "cell_type": "code",
   "execution_count": null,
   "metadata": {},
   "outputs": [],
   "source": [
    "111010\n",
    "\n",
    "111110\n",
    "111101"
   ]
  },
  {
   "cell_type": "code",
   "execution_count": null,
   "metadata": {},
   "outputs": [],
   "source": [
    "1 2 4   2 3 9  2 10 6    2 4 6"
   ]
  },
  {
   "cell_type": "code",
   "execution_count": 80,
   "metadata": {},
   "outputs": [
    {
     "name": "stdout",
     "output_type": "stream",
     "text": [
      "1\n",
      "7\n",
      "5 1 2 3 4 5 5\n",
      "5 2 1 3 4 5 5\n"
     ]
    }
   ],
   "source": [
    "import sys, os, io\n",
    "input = io.BytesIO(os.read(0,os.fstat(0).st_size)).readline\n",
    "\n",
    "all_num = 2 ** 31 - 1\n",
    "\n",
    "for _ in range(int(input())):\n",
    "    n = int(input())\n",
    "    li = list(map(int, input().split()))\n",
    "\n",
    "    nli = [[li[i], i] for i in range(n)]\n",
    "\n",
    "    result = []\n",
    "    for _ in range(31):\n",
    "        used_v = used_i = to_del = -1\n",
    "        for i in range(len(nli)):\n",
    "            temp_v, temp_i = nli[i]\n",
    "            if used_v < temp_v:\n",
    "                used_v = temp_v\n",
    "                used_i = temp_i\n",
    "                to_del = i\n",
    "                \n",
    "        result.append(used_i)\n",
    "        nli.pop(to_del)\n",
    "\n",
    "        if not nli:\n",
    "            break\n",
    "\n",
    "        to_and = all_num - used_v\n",
    "        for i in range(len(nli)):\n",
    "            nli[i][0] &= to_and\n",
    "\n",
    "    result_st = set(result)\n",
    "    for i in range(n):\n",
    "        if i not in result_st:\n",
    "            result.append(i)\n",
    "\n",
    "    result = [li[v] for v in result]\n",
    "\n",
    "    print(*result)"
   ]
  },
  {
   "cell_type": "code",
   "execution_count": 61,
   "metadata": {},
   "outputs": [
    {
     "data": {
      "text/plain": [
       "2147483647"
      ]
     },
     "execution_count": 61,
     "metadata": {},
     "output_type": "execute_result"
    }
   ],
   "source": [
    "2 ** 31 - 1"
   ]
  },
  {
   "cell_type": "code",
   "execution_count": null,
   "metadata": {},
   "outputs": [],
   "source": []
  },
  {
   "cell_type": "code",
   "execution_count": 58,
   "metadata": {},
   "outputs": [
    {
     "name": "stdout",
     "output_type": "stream",
     "text": [
      "1\n",
      "4\n",
      "1 2 4 8\n",
      "8 4 2 1\n"
     ]
    }
   ],
   "source": [
    "import sys, os, io\n",
    "# input = io.BytesIO(os.read(0,os.fstat(0).st_size)).readline\n",
    "\n",
    "all_num = 2 ** 31 - 1\n",
    "\n",
    "for _ in range(int(input())):\n",
    "    n = int(input())\n",
    "    li = list(map(int, input().split()))\n",
    "\n",
    "    indices = [set() for _ in range(30)]\n",
    "    for i in range(n):\n",
    "        bv = bin(li[i])\n",
    "\n",
    "        cur_b = 0\n",
    "        for bi in range(len(bv) - 1, 1, -1):\n",
    "            if bv[bi] == '1':\n",
    "                indices[cur_b].add(i)\n",
    "\n",
    "            cur_b += 1\n",
    "\n",
    "    to_checks = set()\n",
    "    for cur_b in range(30):\n",
    "        if indices[cur_b]:\n",
    "            to_checks.add(cur_b)\n",
    "\n",
    "    result = []\n",
    "    while to_checks:\n",
    "        to_checks_s = sorted(to_checks, reverse=True)\n",
    "\n",
    "        cands = indices[to_checks_s[0]].copy()\n",
    "\n",
    "        for tci in range(1, len(to_checks_s)):\n",
    "            tc = to_checks_s[tci]\n",
    "\n",
    "            ncands = set()\n",
    "            for v in cands:\n",
    "                if v in indices[tc]:\n",
    "                    ncands.add(v)\n",
    "\n",
    "            if ncands:\n",
    "                cands = ncands\n",
    "\n",
    "        to_use_i = cands.pop()\n",
    "        result.append(to_use_i)\n",
    "\n",
    "        for cur_b in to_checks_s:\n",
    "            if to_use_i in indices[cur_b]:\n",
    "                to_checks.discard(cur_b)\n",
    "\n",
    "        for cur_b in to_checks:\n",
    "            indices[cur_b].discard(to_use_i)\n",
    "\n",
    "    result_st = set(result)\n",
    "    for i in range(n):\n",
    "        if i not in result_st:\n",
    "            result.append(i)\n",
    "\n",
    "    nresult = [li[v] for v in result]\n",
    "\n",
    "    print(*nresult)"
   ]
  }
 ],
 "metadata": {
  "kernelspec": {
   "display_name": "Python 3",
   "language": "python",
   "name": "python3"
  },
  "language_info": {
   "codemirror_mode": {
    "name": "ipython",
    "version": 3
   },
   "file_extension": ".py",
   "mimetype": "text/x-python",
   "name": "python",
   "nbconvert_exporter": "python",
   "pygments_lexer": "ipython3",
   "version": "3.8.3"
  }
 },
 "nbformat": 4,
 "nbformat_minor": 4
}
