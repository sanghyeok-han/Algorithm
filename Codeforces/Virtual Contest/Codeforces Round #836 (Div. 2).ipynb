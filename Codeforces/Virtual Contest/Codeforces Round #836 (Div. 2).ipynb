{
 "cells": [
  {
   "cell_type": "markdown",
   "metadata": {},
   "source": [
    "A"
   ]
  },
  {
   "cell_type": "code",
   "execution_count": 3,
   "metadata": {},
   "outputs": [
    {
     "name": "stdout",
     "output_type": "stream",
     "text": [
      "errorgorn\n",
      "errorgornnrogrorre\n"
     ]
    }
   ],
   "source": [
    "import sys\n",
    "input = lambda: sys.stdin.readline().rstrip()\n",
    "\n",
    "for _ in range(int(input())):\n",
    "    s = input()\n",
    "\n",
    "    r = s + s[::-1]\n",
    "\n",
    "    print(r)"
   ]
  },
  {
   "cell_type": "markdown",
   "metadata": {},
   "source": [
    "B"
   ]
  },
  {
   "cell_type": "code",
   "execution_count": null,
   "metadata": {},
   "outputs": [],
   "source": [
    "n이 홀수일 경우에는 전부 1이면 충분함\n",
    "짝수인 경우에는\n",
    "\n"
   ]
  },
  {
   "cell_type": "code",
   "execution_count": 22,
   "metadata": {},
   "outputs": [
    {
     "data": {
      "text/plain": [
       "(12, 5.0)"
      ]
     },
     "execution_count": 22,
     "metadata": {},
     "output_type": "execute_result"
    }
   ],
   "source": [
    "4 ^ 4 ^ 4 ^ 8, (4+4+4+8) / 4"
   ]
  },
  {
   "cell_type": "code",
   "execution_count": 6,
   "metadata": {},
   "outputs": [
    {
     "name": "stdout",
     "output_type": "stream",
     "text": [
      "1 3 2\n",
      "2 6 4\n",
      "3 1 2\n",
      "4 12 8\n",
      "5 15 10\n",
      "6 2 4\n",
      "7 13 10\n",
      "8 24 16\n",
      "9 27 18\n",
      "10 30 20\n",
      "11 25 18\n",
      "12 4 8\n",
      "13 7 10\n",
      "14 26 20\n",
      "15 5 10\n",
      "16 48 32\n",
      "17 51 34\n",
      "18 54 36\n",
      "19 49 34\n",
      "20 60 40\n",
      "21 63 42\n",
      "22 50 36\n",
      "23 61 42\n",
      "24 8 16\n",
      "25 11 18\n",
      "26 14 20\n",
      "27 9 18\n",
      "28 52 40\n",
      "29 55 42\n",
      "30 10 20\n",
      "31 53 42\n",
      "32 96 64\n",
      "33 99 66\n",
      "35 97 66\n",
      "38 98 68\n",
      "48 16 32\n",
      "49 19 34\n",
      "50 22 36\n",
      "51 17 34\n",
      "52 28 40\n",
      "53 31 42\n",
      "54 18 36\n",
      "55 29 42\n",
      "60 20 40\n",
      "61 23 42\n",
      "63 21 42\n",
      "96 32 64\n",
      "97 35 66\n",
      "98 38 68\n",
      "99 33 66\n"
     ]
    }
   ],
   "source": [
    "for i in range(1, 100):\n",
    "    for j in range(1, 100):\n",
    "        if (i ^ j) * 2 == i + j:`ㅇㅇ\n",
    "            print(i, j, i ^ j)"
   ]
  },
  {
   "cell_type": "code",
   "execution_count": 41,
   "metadata": {},
   "outputs": [
    {
     "name": "stdout",
     "output_type": "stream",
     "text": [
      "12\n",
      "13.2\n"
     ]
    }
   ],
   "source": [
    "n = int(input())\n",
    "\n",
    "if n % 2 == 1:\n",
    "    print(*[1] * n)\n",
    "else:\n",
    "    r = [4, 122]\n",
    "    \n",
    "#     12 + (n - 2) * x = 12 * n\n",
    "    \n",
    "#     (n - 2) * x = 12 * n - 12\n",
    "    \n",
    "    x = (12 * n - 12) / (n - 2)\n",
    "    \n",
    "    print(x)"
   ]
  },
  {
   "cell_type": "markdown",
   "metadata": {},
   "source": [
    "C"
   ]
  },
  {
   "cell_type": "code",
   "execution_count": 47,
   "metadata": {},
   "outputs": [
    {
     "name": "stdout",
     "output_type": "stream",
     "text": [
      "5 4\n",
      "-1\n"
     ]
    }
   ],
   "source": [
    "import io, os, sys\n",
    "input = io.BytesIO(os.read(0, os.fstat(0).st_size)).readline\n",
    "\n",
    "for _ in range(int(input())):\n",
    "    n, x = map(int, input().split())\n",
    "\n",
    "    if n % x != 0:\n",
    "        print(-1)\n",
    "    else:    \n",
    "        r = list(range(n + 1))\n",
    "        r[1] = x\n",
    "        r[n] = 1\n",
    "\n",
    "        if x != n:\n",
    "            r[x] = n\n",
    "\n",
    "        print(*r[1:])"
   ]
  },
  {
   "cell_type": "code",
   "execution_count": null,
   "metadata": {},
   "outputs": [],
   "source": [
    "a + b == 2\n",
    "a ^ b == 1\n",
    "\n"
   ]
  },
  {
   "cell_type": "code",
   "execution_count": null,
   "metadata": {},
   "outputs": [],
   "source": [
    "a + b == n + 2\n",
    "a ^ b == 2"
   ]
  },
  {
   "cell_type": "code",
   "execution_count": null,
   "metadata": {},
   "outputs": [],
   "source": [
    "a + b - a ^ b = n"
   ]
  },
  {
   "cell_type": "code",
   "execution_count": null,
   "metadata": {},
   "outputs": [],
   "source": [
    "a + b = a ^ b + 2 (a & b)"
   ]
  },
  {
   "cell_type": "code",
   "execution_count": null,
   "metadata": {},
   "outputs": [],
   "source": [
    "a ^ b + 2 (a & b) - a ^ b == n\n",
    "\n",
    "2 (a & b) = 짝수\n",
    "\n",
    "(a & b) = n / 2"
   ]
  },
  {
   "cell_type": "code",
   "execution_count": null,
   "metadata": {},
   "outputs": [],
   "source": [
    "a ^ b = (n - 2 + a + b) / n\n",
    "\n",
    "(a ^ b) * n = n - 2 + (a ^ b) + 2 (a & b)\n",
    "\n",
    "(a ^ b) * (n - 2) - n + 2 = 2 (a & b)\n"
   ]
  },
  {
   "cell_type": "code",
   "execution_count": 48,
   "metadata": {},
   "outputs": [
    {
     "data": {
      "text/plain": [
       "('0b1101', '0b10', '0b1000', '0b1')"
      ]
     },
     "execution_count": 48,
     "metadata": {},
     "output_type": "execute_result"
    }
   ],
   "source": [
    "bin(13), bin(2), bin(8), bin(1)"
   ]
  }
 ],
 "metadata": {
  "kernelspec": {
   "display_name": "Python 3",
   "language": "python",
   "name": "python3"
  },
  "language_info": {
   "codemirror_mode": {
    "name": "ipython",
    "version": 3
   },
   "file_extension": ".py",
   "mimetype": "text/x-python",
   "name": "python",
   "nbconvert_exporter": "python",
   "pygments_lexer": "ipython3",
   "version": "3.8.3"
  }
 },
 "nbformat": 4,
 "nbformat_minor": 4
}
