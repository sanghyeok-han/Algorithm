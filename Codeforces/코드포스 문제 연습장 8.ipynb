{
 "cells": [
  {
   "cell_type": "markdown",
   "metadata": {},
   "source": [
    "https://codeforces.com/problemset/problem/1514/B B. AND 0, Sum Big"
   ]
  },
  {
   "cell_type": "markdown",
   "metadata": {},
   "source": [
    "1.08 1.19"
   ]
  },
  {
   "cell_type": "code",
   "execution_count": 10,
   "metadata": {},
   "outputs": [
    {
     "name": "stdout",
     "output_type": "stream",
     "text": [
      "1\n",
      "100000 20\n",
      "226732710\n"
     ]
    }
   ],
   "source": [
    "import sys\n",
    "input = lambda: sys.stdin.readline().rstrip()\n",
    "\n",
    "mod = int(1e9) + 7\n",
    "\n",
    "for _ in range(int(input())):\n",
    "    n, k = map(int, input().split())\n",
    "\n",
    "    print(pow(n, k, mod))"
   ]
  },
  {
   "cell_type": "markdown",
   "metadata": {},
   "source": [
    "https://codeforces.com/problemset/problem/1512/D D. Corrupted Array"
   ]
  },
  {
   "cell_type": "markdown",
   "metadata": {},
   "source": [
    "1.21 1.34"
   ]
  },
  {
   "cell_type": "code",
   "execution_count": 18,
   "metadata": {},
   "outputs": [
    {
     "name": "stdout",
     "output_type": "stream",
     "text": [
      "5\n",
      "18 2 2 3 2 9 2\n",
      "2 2 2 3 9\n"
     ]
    }
   ],
   "source": [
    "import sys\n",
    "input = lambda: sys.stdin.readline().rstrip()\n",
    "\n",
    "def solve():\n",
    "    total = sum(b)\n",
    "\n",
    "    ntotal = total\n",
    "    x = b[-1]\n",
    "    ntotal -= x\n",
    "    if ntotal - b[-2] == b[-2]:\n",
    "        print(*b[:-2])\n",
    "        return\n",
    "    \n",
    "    ntotal = total\n",
    "    sum_v = b[-1]\n",
    "    ntotal -= sum_v\n",
    "    result = []\n",
    "    for xi in range(len(b) - 1):\n",
    "        if ntotal - b[xi] == sum_v:\n",
    "            b.pop()\n",
    "            b.remove(b[xi])\n",
    "            print(*b)\n",
    "            return\n",
    "        \n",
    "    print(-1)\n",
    "\n",
    "for _ in range(int(input())):\n",
    "    n = int(input())\n",
    "    b = sorted(map(int, input().split()))\n",
    "\n",
    "    solve()"
   ]
  },
  {
   "cell_type": "markdown",
   "metadata": {},
   "source": [
    "https://codeforces.com/problemset/problem/1512/C C. A-B Palindrome"
   ]
  },
  {
   "cell_type": "markdown",
   "metadata": {},
   "source": [
    "1.36 1.59"
   ]
  },
  {
   "cell_type": "code",
   "execution_count": 37,
   "metadata": {},
   "outputs": [
    {
     "name": "stdout",
     "output_type": "stream",
     "text": [
      "2 2\n",
      "?00?\n",
      "1001\n"
     ]
    }
   ],
   "source": [
    "import sys\n",
    "input = lambda: sys.stdin.readline().rstrip()\n",
    "\n",
    "for _ in range(int(input())):\n",
    "    a, b = map(int, input().split())\n",
    "    n = a + b\n",
    "    li = list(input())\n",
    "\n",
    "    ip = True\n",
    "    c2 = 0\n",
    "    c1 = 0\n",
    "    for i in range(n // 2):\n",
    "        if li[n - 1 - i] == '0':\n",
    "            a -= 1\n",
    "            if li[i] == '0':\n",
    "                a -= 1\n",
    "            elif li[i] == '1':\n",
    "                ip = False\n",
    "                break\n",
    "            elif li[i] == '?':\n",
    "                li[i] = '0'\n",
    "                a -= 1\n",
    "        elif li[n - 1 - i] == '1':\n",
    "            b -= 1\n",
    "            if li[i] == '1':\n",
    "                b -= 1\n",
    "            elif li[i] == '0':\n",
    "                ip = False\n",
    "                break\n",
    "            elif li[i] == '?':\n",
    "                li[i] = '1'\n",
    "                b -= 1   \n",
    "        elif li[n - 1 - i] == '?':\n",
    "            if li[i] == '0':\n",
    "                li[n - 1 - i] = '0'\n",
    "                a -= 2\n",
    "            elif li[i] == '1':\n",
    "                li[n - 1 - i] = '1'\n",
    "                b -= 2\n",
    "            elif li[i] == '?':\n",
    "                c2 += 1\n",
    "\n",
    "    if n % 2 == 1:\n",
    "        if li[n // 2] == '0':\n",
    "            a -= 1\n",
    "        elif li[n // 2] == '1':\n",
    "            b -= 1\n",
    "        elif li[n // 2] == '?':\n",
    "            c1 += 1\n",
    "\n",
    "    if a < 0 or b < 0:\n",
    "        ip = False\n",
    "\n",
    "    if c1:\n",
    "        if a % 2 == 1:\n",
    "            li[n // 2] = '0'\n",
    "            a -= 1\n",
    "            c1 -= 1\n",
    "        if b % 2 == 1:\n",
    "            li[n // 2] = '1'     \n",
    "            b -= 1\n",
    "            c1 -= 1\n",
    "\n",
    "    if c1 != 0:\n",
    "        ip = False\n",
    "\n",
    "    if a % 2 == 1 or b % 2 == 1 or (a + b) != c2 * 2:\n",
    "        ip = False\n",
    "\n",
    "    if ip:\n",
    "        for i in range(n // 2):\n",
    "            if li[i] == '?':\n",
    "                if a:\n",
    "                    a -= 2\n",
    "                    li[i] = '0'\n",
    "                    li[n - 1 - i] = '0'\n",
    "                else:\n",
    "                    b -= 2\n",
    "                    li[i] = '1'\n",
    "                    li[n - 1 - i] = '1'\n",
    "        print(''.join(li))\n",
    "    else:\n",
    "        print(-1)"
   ]
  },
  {
   "cell_type": "code",
   "execution_count": null,
   "metadata": {},
   "outputs": [],
   "source": [
    "import sys\n",
    "input = lambda: sys.stdin.readline().rstrip()\n",
    "\n",
    "for _ in range(int(input())):\n",
    "    a, b = map(int, input().split())\n",
    "    n = a + b\n",
    "    li = list(input())\n",
    "\n",
    "    ip = True\n",
    "    c2 = 0\n",
    "    c1 = 0\n",
    "    for i in range(n // 2):\n",
    "        ni = n - 1 - i\n",
    "        if li[ni] == '0':\n",
    "            if li[i] == '1':\n",
    "                ip = False\n",
    "                break\n",
    "            else:\n",
    "                li[i] = '0'\n",
    "                a -= 2\n",
    "        elif li[ni] == '1':\n",
    "            if li[i] == '0':\n",
    "                ip = False\n",
    "                break\n",
    "            else:\n",
    "                li[i] = '1'\n",
    "                b -= 2   \n",
    "        elif li[ni] == '?':\n",
    "            if li[i] == '0':\n",
    "                li[ni] = '0'\n",
    "                a -= 2\n",
    "            elif li[i] == '1':\n",
    "                li[ni] = '1'\n",
    "                b -= 2\n",
    "            elif li[i] == '?':\n",
    "                c2 += 1\n",
    "\n",
    "    if n % 2 == 1:\n",
    "        mid = n // 2\n",
    "        if li[mid] == '0':\n",
    "            a -= 1\n",
    "        elif li[mid] == '1':\n",
    "            b -= 1\n",
    "        elif li[mid] == '?':\n",
    "            c1 += 1\n",
    "\n",
    "    if a < 0 or b < 0:\n",
    "        ip = False\n",
    "\n",
    "    if c1:\n",
    "        mid = n // 2\n",
    "        if a % 2 == 1:\n",
    "            li[mid] = '0'\n",
    "            a -= 1\n",
    "            c1 -= 1\n",
    "        if b % 2 == 1:\n",
    "            li[mid] = '1'     \n",
    "            b -= 1\n",
    "            c1 -= 1\n",
    "\n",
    "    if c1 != 0:\n",
    "        ip = False\n",
    "\n",
    "    if a % 2 == 1 or b % 2 == 1 or (a + b) != c2 * 2:\n",
    "        ip = False\n",
    "\n",
    "    if ip:\n",
    "        for i in range(n // 2):\n",
    "            ni = n - 1 - i\n",
    "            if li[i] == '?':\n",
    "                if a:\n",
    "                    a -= 2\n",
    "                    li[i] = '0'\n",
    "                    li[ni] = '0'\n",
    "                else:\n",
    "                    b -= 2\n",
    "                    li[i] = '1'\n",
    "                    li[ni] = '1'\n",
    "        print(''.join(li))\n",
    "    else:\n",
    "        print(-1)"
   ]
  },
  {
   "cell_type": "markdown",
   "metadata": {},
   "source": [
    "https://codeforces.com/problemset/problem/1510/K King's Task "
   ]
  },
  {
   "cell_type": "markdown",
   "metadata": {},
   "source": [
    "3.30"
   ]
  },
  {
   "cell_type": "code",
   "execution_count": 3,
   "metadata": {},
   "outputs": [
    {
     "name": "stdout",
     "output_type": "stream",
     "text": [
      "3\n",
      "6 3 2 5 4 1\n"
     ]
    },
    {
     "data": {
      "text/plain": [
       "5"
      ]
     },
     "execution_count": 3,
     "metadata": {},
     "output_type": "execute_result"
    }
   ],
   "source": [
    "n = int(input())\n",
    "li = list(map(int, input().split()))\n",
    "\n",
    "li.index(1)"
   ]
  },
  {
   "cell_type": "code",
   "execution_count": null,
   "metadata": {},
   "outputs": [],
   "source": [
    "inf = float('inf')\n",
    "\n",
    "def solve():\n",
    "    sli = sorted(li)\n",
    "    \n",
    "    if li == sli:\n",
    "        return 0\n",
    "    \n",
    "    t1 = inf\n",
    "    nli = li.copy()\n",
    "    for i in range(n * 2 + 3):\n",
    "        if i % 2 == 1:\n",
    "            for j in range(0, n * 2, 2):\n",
    "                nli[j], nli[j + 1] = nli[j + 1], nli[j]\n",
    "        else:\n",
    "            nli = nli[n:] + nli[:n]\n",
    "\n",
    "        if nli == sli:\n",
    "            t1 = i + 1\n",
    "            break\n",
    "            \n",
    "    t2 = inf\n",
    "    nli = li.copy()\n",
    "    for i in range(n * 2 + 3):\n",
    "        if i % 2 == 0:\n",
    "            for j in range(0, n * 2, 2):\n",
    "                nli[j], nli[j + 1] = nli[j + 1], nli[j]\n",
    "        else:\n",
    "            nli = nli[n:] + nli[:n]\n",
    "\n",
    "        if nli == sli:\n",
    "            t2 = i + 1\n",
    "            break\n",
    "    \n",
    "    r = min(t1, t2)\n",
    "    if r == inf:\n",
    "        r = -1\n",
    "        \n",
    "    return r\n",
    "\n",
    "n = int(input())\n",
    "li = list(map(int, input().split()))\n",
    "\n",
    "result = solve()\n",
    "\n",
    "print(result)"
   ]
  },
  {
   "cell_type": "markdown",
   "metadata": {},
   "source": [
    "https://codeforces.com/problemset/problem/1504/B B. Flip the Bits"
   ]
  },
  {
   "cell_type": "markdown",
   "metadata": {},
   "source": [
    "4.58 5.04"
   ]
  },
  {
   "cell_type": "code",
   "execution_count": null,
   "metadata": {},
   "outputs": [],
   "source": [
    "뒤에서부터 바꿀 필요가 있으면 바꾸기"
   ]
  },
  {
   "cell_type": "code",
   "execution_count": null,
   "metadata": {},
   "outputs": [],
   "source": [
    "0111010000\n",
    "0100101100"
   ]
  },
  {
   "cell_type": "code",
   "execution_count": 23,
   "metadata": {},
   "outputs": [
    {
     "name": "stdout",
     "output_type": "stream",
     "text": [
      "3\n",
      "001\n",
      "000\n",
      "NO\n"
     ]
    }
   ],
   "source": [
    "import sys\n",
    "input = lambda: sys.stdin.readline().rstrip()\n",
    "\n",
    "for _ in range(int(input())):\n",
    "    n = int(input())\n",
    "    a = list(map(int, input()))\n",
    "    b = list(map(int, input()))\n",
    "\n",
    "    s0 = [0] * n\n",
    "    s1 = [0] * n\n",
    "    c0 = 0\n",
    "    c1 = 0\n",
    "    for i in range(n):\n",
    "        if a[i] == 0:\n",
    "            c0 += 1\n",
    "        else:\n",
    "            c1 += 1\n",
    "\n",
    "        s0[i] = c0\n",
    "        s1[i] = c1\n",
    "\n",
    "    is_inv = 0\n",
    "    ip = True\n",
    "    for i in range(n - 1, -1, -1):\n",
    "        if is_inv:\n",
    "            a[i] ^= 1\n",
    "\n",
    "        if a[i] != b[i]:\n",
    "            if s0[i] != s1[i]:\n",
    "                ip = False\n",
    "                break\n",
    "            a[i] ^= 1\n",
    "            is_inv ^= 1\n",
    "\n",
    "    if ip:\n",
    "        print('YES')\n",
    "    else:\n",
    "        print('NO')"
   ]
  },
  {
   "cell_type": "markdown",
   "metadata": {},
   "source": [
    "https://codeforces.com/problemset/problem/1497/C1 C1. k-LCM (easy version) "
   ]
  },
  {
   "cell_type": "markdown",
   "metadata": {},
   "source": [
    "5.22 5.38"
   ]
  },
  {
   "cell_type": "code",
   "execution_count": null,
   "metadata": {},
   "outputs": [],
   "source": [
    "홀수일 경우는 하나1, 나머지 두개는 (n - 1) // 2\n",
    "짝수면서 4의 배수가 아니면 2, 나머지 2개 동일\n",
    "짝수면서 4의 배수면 1/4, 1/4, 2/4"
   ]
  },
  {
   "cell_type": "code",
   "execution_count": 33,
   "metadata": {},
   "outputs": [
    {
     "name": "stdout",
     "output_type": "stream",
     "text": [
      "3\n",
      "3 3\n",
      "1 1 1\n",
      "8 3\n",
      "2 2 4\n",
      "14 3\n",
      "2 6 6\n"
     ]
    }
   ],
   "source": [
    "import sys\n",
    "# input = lambda: sys.stdin.readline().rstrip()\n",
    "\n",
    "for _ in range(int(input())):\n",
    "    n, k = map(int, input().split())\n",
    "\n",
    "    if n % 2 == 1:\n",
    "        r = (n - 1) // 2\n",
    "        print(1, r, r)\n",
    "    elif n % 4 == 0:\n",
    "        print(n // 4, n // 4, (n // 4) * 2)\n",
    "    else:\n",
    "        print(2, (n - 2) // 2, (n - 2) // 2)"
   ]
  },
  {
   "cell_type": "code",
   "execution_count": null,
   "metadata": {},
   "outputs": [],
   "source": [
    "3\n",
    "1 1 1  1\n",
    "\n",
    "4\n",
    "1 1 2  2\n",
    "\n",
    "5\n",
    "1 2 2  2\n",
    "\n",
    "13\n",
    "1 6 6  6"
   ]
  },
  {
   "cell_type": "code",
   "execution_count": null,
   "metadata": {},
   "outputs": [],
   "source": [
    "6\n",
    "2 2 2  2\n",
    "\n",
    "12\n",
    "2 5 5  10 (6 초과여서 안됨)\n",
    "6 3 3\n",
    "\n",
    "14\n",
    "2 6 6\n",
    "\n",
    "16\n",
    "2 7 7  14 (7 초과여서 안됨)\n",
    "4 4 8  8\n",
    "\n",
    "20\n",
    "5 5 10"
   ]
  },
  {
   "cell_type": "code",
   "execution_count": null,
   "metadata": {},
   "outputs": [],
   "source": [
    "1/4 1/4 2/4"
   ]
  },
  {
   "cell_type": "markdown",
   "metadata": {},
   "source": [
    "https://codeforces.com/problemset/problem/1497/B B. M-arrays "
   ]
  },
  {
   "cell_type": "markdown",
   "metadata": {},
   "source": [
    "5.41 6.02"
   ]
  },
  {
   "cell_type": "code",
   "execution_count": 52,
   "metadata": {},
   "outputs": [
    {
     "name": "stdout",
     "output_type": "stream",
     "text": [
      "10 8\n",
      "1 1 1 5 2 4 4 8 6 7\n",
      "1\n",
      "[1, 3, 1, 0, 2, 1, 1, 1]\n",
      "6\n"
     ]
    }
   ],
   "source": [
    "import sys\n",
    "input = lambda: sys.stdin.readline().rstrip()\n",
    "\n",
    "for _ in range(int(input())):\n",
    "    n, m = map(int, input().split())\n",
    "    li = list(map(int, input().split()))\n",
    "\n",
    "    cs = [0] * m\n",
    "    for v in li:\n",
    "        cs[v % m] += 1\n",
    "\n",
    "    total = 0\n",
    "    if cs[0]:\n",
    "        total += 1\n",
    "\n",
    "    for i in range(1, m):\n",
    "        diff = abs(cs[i] - cs[m - i])\n",
    "\n",
    "        if cs[i] == 0 and cs[m - i] == 0:\n",
    "            continue\n",
    "\n",
    "        if diff <= 1:\n",
    "            total += 1\n",
    "        else:\n",
    "            total += diff\n",
    "\n",
    "        cs[i] = 0\n",
    "        cs[m - i] = 0\n",
    "\n",
    "    print(total)"
   ]
  },
  {
   "cell_type": "markdown",
   "metadata": {},
   "source": [
    "https://codeforces.com/problemset/problem/1495/A A. Diamond Miner"
   ]
  },
  {
   "cell_type": "markdown",
   "metadata": {},
   "source": [
    "6.02 6.14"
   ]
  },
  {
   "cell_type": "code",
   "execution_count": 60,
   "metadata": {},
   "outputs": [
    {
     "data": {
      "text/plain": [
       "(22.62741699796952, 24.166091947189145)"
      ]
     },
     "execution_count": 60,
     "metadata": {},
     "output_type": "execute_result"
    }
   ],
   "source": [
    "def gds(x1, y1, x2, y2):\n",
    "    return (x1 - x2) ** 2 + (y1 - y2) ** 2\n",
    "\n",
    "t1 = gds(0, 5, 5, 0) ** 0.5 + gds(0, 11, 11, 0) ** 0.5\n",
    "t2 = gds(0, 5, 11, 0) ** 0.5 + gds(0, 11, 5, 0) ** 0.5\n",
    "\n",
    "t1, t2"
   ]
  },
  {
   "cell_type": "code",
   "execution_count": null,
   "metadata": {},
   "outputs": [],
   "source": [
    "import sys\n",
    "input = lambda: sys.stdin.readline().rstrip()\n",
    "\n",
    "def gds(x1, y1, x2, y2):\n",
    "    return (x1 - x2) ** 2 + (y1 - y2) ** 2\n",
    "\n",
    "for _ in range(int(input())):\n",
    "    n = int(input())\n",
    "\n",
    "    miners = []\n",
    "    dias = []\n",
    "    for _ in range(2 * n):\n",
    "        a, b = map(int, input().split())\n",
    "\n",
    "        if a == 0:\n",
    "            miners.append(abs(b))\n",
    "        else:\n",
    "            dias.append(abs(a))\n",
    "\n",
    "    miners.sort()\n",
    "    dias.sort()\n",
    "\n",
    "    total = 0\n",
    "    for i in range(n):\n",
    "        x1 = 0\n",
    "        y1 = miners[i]\n",
    "\n",
    "        x2 = dias[i]\n",
    "        y2 = 0\n",
    "\n",
    "        total += gds(x1, y1, x2, y2) ** 0.5\n",
    "\n",
    "    print(total)"
   ]
  },
  {
   "cell_type": "markdown",
   "metadata": {},
   "source": [
    "https://codeforces.com/problemset/problem/1491/B B. Minimal Cost"
   ]
  },
  {
   "cell_type": "markdown",
   "metadata": {},
   "source": [
    "7.24 7.33"
   ]
  },
  {
   "cell_type": "code",
   "execution_count": 66,
   "metadata": {},
   "outputs": [
    {
     "name": "stdout",
     "output_type": "stream",
     "text": [
      "2 4 3\n",
      "3 2\n",
      "3\n"
     ]
    }
   ],
   "source": [
    "import sys\n",
    "input = lambda: sys.stdin.readline().rstrip()\n",
    "\n",
    "for _ in range(int(input())):\n",
    "    n, u, v = map(int, input().split())\n",
    "    a = list(map(int, input().split()))\n",
    "\n",
    "    if len(set(a)) == 1:\n",
    "        r = min(2 * v, v + u)\n",
    "    else:\n",
    "        is_passable = False\n",
    "        for i in range(n - 1):\n",
    "            diff = abs(a[i + 1] - a[i])\n",
    "\n",
    "            if diff >= 2:\n",
    "                is_passable = True\n",
    "                break\n",
    "\n",
    "        if is_passable:\n",
    "            r = 0\n",
    "        else:\n",
    "            r = min(u, v)\n",
    "\n",
    "    print(r)"
   ]
  },
  {
   "cell_type": "markdown",
   "metadata": {},
   "source": [
    "https://codeforces.com/problemset/problem/1490/D D. Permutation Transformation"
   ]
  },
  {
   "cell_type": "markdown",
   "metadata": {},
   "source": [
    "7.37 7.48"
   ]
  },
  {
   "cell_type": "code",
   "execution_count": 70,
   "metadata": {},
   "outputs": [
    {
     "name": "stdout",
     "output_type": "stream",
     "text": [
      "1\n",
      "1\n",
      "0\n"
     ]
    }
   ],
   "source": [
    "import sys\n",
    "input = lambda: sys.stdin.readline().rstrip()\n",
    "\n",
    "inf = float('inf')\n",
    "\n",
    "for _ in range(int(input())):\n",
    "    n = int(input())\n",
    "    li = [inf] + list(map(int, input().split())) + [inf]\n",
    "\n",
    "    result = [0] * (n + 2)\n",
    "    for i in range(1, n + 1):\n",
    "        c = 0\n",
    "        cur = li[i]\n",
    "        l = i\n",
    "        r = i\n",
    "\n",
    "        while True:\n",
    "            while li[l] <= cur:\n",
    "                l -= 1\n",
    "            while li[r] <= cur:\n",
    "                r += 1\n",
    "\n",
    "            if li[l] == inf and li[r] == inf:\n",
    "                break\n",
    "            if li[l] == inf:\n",
    "                c += 1\n",
    "                cur = li[r]\n",
    "                continue\n",
    "            if li[r] == inf:\n",
    "                c += 1\n",
    "                cur = li[l]\n",
    "            elif li[l] < li[r]:\n",
    "                c += 1\n",
    "                cur = li[l]\n",
    "            else:\n",
    "                c += 1\n",
    "                cur = li[r]\n",
    "\n",
    "        result[i] = c\n",
    "\n",
    "    print(*result[1:-1])"
   ]
  },
  {
   "cell_type": "markdown",
   "metadata": {},
   "source": [
    "https://codeforces.com/problemset/problem/1487/B B. Cat Cycle"
   ]
  },
  {
   "cell_type": "markdown",
   "metadata": {},
   "source": [
    "7.50 8.06"
   ]
  },
  {
   "cell_type": "code",
   "execution_count": null,
   "metadata": {},
   "outputs": [],
   "source": [
    "짝수면 겹칠 일이 없음\n",
    "홀수면 (n + 1) // 2번째부터 3: 1, 5: 2, 7: 3, n: n // 2번째마다 겹치게 됨"
   ]
  },
  {
   "cell_type": "code",
   "execution_count": 83,
   "metadata": {},
   "outputs": [
    {
     "name": "stdout",
     "output_type": "stream",
     "text": [
      "3 2\n",
      "3\n"
     ]
    }
   ],
   "source": [
    "import sys\n",
    "input = lambda: sys.stdin.readline().rstrip()\n",
    "\n",
    "for _ in range(int(input())):\n",
    "    n, k = map(int, input().split())\n",
    "\n",
    "    if n % 2 == 1:\n",
    "        nk = k\n",
    "        dup_start = (n + 1) // 2\n",
    "        if k >= dup_start:\n",
    "            nk += 1\n",
    "            nk += (k - dup_start) // (n // 2)\n",
    "        k = nk\n",
    "\n",
    "    print((k - 1) % n + 1)"
   ]
  },
  {
   "cell_type": "code",
   "execution_count": null,
   "metadata": {},
   "outputs": [],
   "source": [
    "0 1 2 3 4 5 6 0 1 2 3 4 5 6"
   ]
  },
  {
   "cell_type": "code",
   "execution_count": null,
   "metadata": {},
   "outputs": [],
   "source": [
    "1 2 3 4 5 6 7 1 2 3 4 5 6 7"
   ]
  },
  {
   "cell_type": "code",
   "execution_count": 72,
   "metadata": {},
   "outputs": [
    {
     "data": {
      "text/plain": [
       "4"
      ]
     },
     "execution_count": 72,
     "metadata": {},
     "output_type": "execute_result"
    }
   ],
   "source": [
    "(n + 1) // 2"
   ]
  },
  {
   "cell_type": "code",
   "execution_count": null,
   "metadata": {},
   "outputs": [],
   "source": [
    "4번째부터 k번째까지 몇 번 겹치나?\n",
    "\n",
    "4 7 10"
   ]
  },
  {
   "cell_type": "code",
   "execution_count": 77,
   "metadata": {},
   "outputs": [
    {
     "data": {
      "text/plain": [
       "2"
      ]
     },
     "execution_count": 77,
     "metadata": {},
     "output_type": "execute_result"
    }
   ],
   "source": [
    "k = 10\n",
    "(k - 4) // 3"
   ]
  },
  {
   "cell_type": "code",
   "execution_count": 86,
   "metadata": {},
   "outputs": [
    {
     "data": {
      "text/plain": [
       "6250000"
      ]
     },
     "execution_count": 86,
     "metadata": {},
     "output_type": "execute_result"
    }
   ],
   "source": [
    "50 ** 4"
   ]
  },
  {
   "cell_type": "markdown",
   "metadata": {},
   "source": [
    "https://codeforces.com/problemset/problem/1485/B B. Replace and Keep Sorted"
   ]
  },
  {
   "cell_type": "markdown",
   "metadata": {},
   "source": [
    "11.08 11.36"
   ]
  },
  {
   "cell_type": "code",
   "execution_count": null,
   "metadata": {},
   "outputs": [],
   "source": [
    "import sys\n",
    "# input = lambda: sys.stdin.readline().rstrip()\n",
    "\n",
    "n, q, k = map(int, input().split())\n",
    "a = list(map(int, input().split()))\n",
    "\n",
    "ps = [0] * n\n",
    "for i in range(1, n - 1):\n",
    "    ps[i] = a[i + 1] - a[i - 1] - 2\n",
    "\n",
    "nps = [0] * (n + 1)\n",
    "cumul = 0\n",
    "for i in range(n):\n",
    "    cumul += ps[i]\n",
    "    nps[i + 1] = cumul\n",
    "\n",
    "for _ in range(q):\n",
    "    l, r = map(int, input().split())\n",
    "    l -= 1\n",
    "    r -= 1\n",
    "\n",
    "    if l == r:\n",
    "        result = k - 1\n",
    "    else:\n",
    "        t1 = a[l] - 1 + a[l + 1] - a[l] - 1\n",
    "        t2 = k - a[r] + a[r] - a[r - 1] - 1\n",
    "        temp = t1 + t2\n",
    "        if l + 1 < r:\n",
    "            temp += nps[r] - nps[l + 1]\n",
    "\n",
    "        result = temp\n",
    "\n",
    "    print(result)"
   ]
  },
  {
   "cell_type": "code",
   "execution_count": 31,
   "metadata": {},
   "outputs": [
    {
     "name": "stdout",
     "output_type": "stream",
     "text": [
      "4 2 5\n",
      "1 2 4 5\n",
      "1 4\n",
      "2\n",
      "2 3\n",
      "4\n"
     ]
    }
   ],
   "source": [
    "import sys\n",
    "input = lambda: sys.stdin.readline().rstrip()\n",
    "\n",
    "n, q, k = map(int, input().split())\n",
    "a = list(map(int, input().split()))\n",
    "\n",
    "for i in range(q):\n",
    "    l, r = map(int, input().split())\n",
    "    l -= 1\n",
    "    r -= 1\n",
    "    \n",
    "    if l == r:\n",
    "        result = k - 1\n",
    "    else:\n",
    "        result = k + a[r] - 1 - a[l] + (r - l + 1) - 4 - 3 * (r - l - 1)\n",
    "        \n",
    "    print(result)"
   ]
  },
  {
   "cell_type": "markdown",
   "metadata": {},
   "source": [
    "https://codeforces.com/problemset/problem/1428/B B. Belted Rooms"
   ]
  },
  {
   "cell_type": "markdown",
   "metadata": {},
   "source": [
    "1.23 1.31"
   ]
  },
  {
   "cell_type": "code",
   "execution_count": 4,
   "metadata": {},
   "outputs": [
    {
     "name": "stdout",
     "output_type": "stream",
     "text": [
      "5\n",
      ">>>>>\n",
      "5\n"
     ]
    }
   ],
   "source": [
    "import sys\n",
    "input = lambda: sys.stdin.readline().rstrip()\n",
    "\n",
    "for _ in range(int(input())):\n",
    "    n = int(input())\n",
    "    s = input()\n",
    "\n",
    "    st = set(s)\n",
    "    if '>' not in st or '<' not in st:\n",
    "        print(n)\n",
    "    else:\n",
    "        r = [False] * n\n",
    "        for i in range(n):\n",
    "            if s[i] == '-':\n",
    "                r[i] = True\n",
    "                r[(i + 1) % n] = True\n",
    "        print(sum(r))"
   ]
  },
  {
   "cell_type": "markdown",
   "metadata": {},
   "source": [
    "https://codeforces.com/problemset/problem/1420/B B. Rock and Lever"
   ]
  },
  {
   "cell_type": "markdown",
   "metadata": {},
   "source": [
    "1.32 1.43"
   ]
  },
  {
   "cell_type": "code",
   "execution_count": 12,
   "metadata": {},
   "outputs": [
    {
     "name": "stdout",
     "output_type": "stream",
     "text": [
      "1\n",
      "1\n",
      "0\n"
     ]
    }
   ],
   "source": [
    "from collections import defaultdict as dd\n",
    "from random import randint\n",
    "import sys\n",
    "input = lambda: sys.stdin.readline().rstrip()\n",
    "\n",
    "rd = randint(1, int(1e9))\n",
    "\n",
    "for _ in range(int(input())):\n",
    "    n = int(input())\n",
    "    li = list(map(int, input().split()))\n",
    "\n",
    "    nli = [len(bin(v)) for v in li]\n",
    "    d = dd(int)\n",
    "    total = 0\n",
    "    for v in nli:\n",
    "        total += d[v]\n",
    "        d[v] += 1\n",
    "\n",
    "    print(total)"
   ]
  },
  {
   "cell_type": "markdown",
   "metadata": {},
   "source": [
    "https://codeforces.com/problemset/problem/1419/B B. Stairs"
   ]
  },
  {
   "cell_type": "markdown",
   "metadata": {},
   "source": [
    "1.45 2.22"
   ]
  },
  {
   "cell_type": "code",
   "execution_count": 17,
   "metadata": {},
   "outputs": [
    {
     "name": "stdout",
     "output_type": "stream",
     "text": [
      "1000000000000000000\n",
      "30\n"
     ]
    }
   ],
   "source": [
    "import sys\n",
    "input = lambda: sys.stdin.readline().rstrip()\n",
    "\n",
    "def get_sum(v):\n",
    "    return v * (v + 1) // 2\n",
    "\n",
    "for _ in range(int(input())):\n",
    "    n = int(input())\n",
    "\n",
    "    w = 1\n",
    "    needed = 0\n",
    "    cur = 0\n",
    "    while True:\n",
    "        needed += get_sum(2 ** w - 1)\n",
    "        if needed <= n:\n",
    "            cur += 1\n",
    "        else:\n",
    "            break\n",
    "        w += 1\n",
    "\n",
    "    print(cur)"
   ]
  },
  {
   "cell_type": "markdown",
   "metadata": {},
   "source": [
    "https://codeforces.com/problemset/problem/1409/C C. Yet Another Array Restoration"
   ]
  },
  {
   "cell_type": "markdown",
   "metadata": {},
   "source": [
    "3.09 3.27"
   ]
  },
  {
   "cell_type": "code",
   "execution_count": 33,
   "metadata": {},
   "outputs": [
    {
     "name": "stdout",
     "output_type": "stream",
     "text": [
      "1\n",
      "9 13 22\n",
      "1 3 25\n",
      "0 9 22\n",
      "22 13 4 -5 -14 -23 -32 -41 -50\n"
     ]
    }
   ],
   "source": [
    "import sys\n",
    "# input = lambda: sys.stdin.readline().rstrip()\n",
    "\n",
    "inf = float('inf')\n",
    "\n",
    "for _ in range(int(input())):\n",
    "    n, x, y = map(int, input().split())\n",
    "\n",
    "    def get_divisors(num):\n",
    "        divisors = set()\n",
    "        for mod in range(1, int(num ** 0.5) + 1):\n",
    "            if num % mod == 0:\n",
    "                divisors.add(mod)\n",
    "                divisors.add(num // mod)\n",
    "\n",
    "        return sorted(divisors)\n",
    "\n",
    "    cands = get_divisors(y - x)\n",
    "\n",
    "    min_r = inf\n",
    "    min_r_cand = -1\n",
    "    o_needed = n - 2\n",
    "    diff = y - x\n",
    "    for cand in cands:  \n",
    "        needed = o_needed\n",
    "\n",
    "        if diff // cand - 1 > needed:\n",
    "            continue\n",
    "            \n",
    "        needed -= (diff // cand - 1)\n",
    "        cur = x\n",
    "        nx = x\n",
    "        while needed >= 1:\n",
    "            nx -= cand\n",
    "            if nx >= 1:\n",
    "                needed -= 1\n",
    "            else:\n",
    "                break\n",
    "                \n",
    "        if needed:\n",
    "            temp = y + needed * cand\n",
    "        else:\n",
    "            temp = y\n",
    "            \n",
    "        if temp < min_r:\n",
    "            min_r = temp\n",
    "            min_r_cand = cand\n",
    "\n",
    "    result = [min_r]\n",
    "    for _ in range(n - 1):\n",
    "        result.append(result[-1] - min_r_cand)\n",
    "\n",
    "    print(*result)"
   ]
  },
  {
   "cell_type": "markdown",
   "metadata": {},
   "source": [
    "https://codeforces.com/problemset/problem/1406/B B. Maximum Product"
   ]
  },
  {
   "cell_type": "markdown",
   "metadata": {},
   "source": [
    "3.28 3.43 -1"
   ]
  },
  {
   "cell_type": "code",
   "execution_count": null,
   "metadata": {},
   "outputs": [],
   "source": [
    "import sys\n",
    "# input = lambda: sys.stdin.readline().rstrip()\n",
    "\n",
    "inf = float('inf')\n",
    "\n",
    "for _ in range(int(input())):\n",
    "    n = int(input())\n",
    "    li = list(map(int, input().split()))\n",
    "\n",
    "    mzs = [] # minuses or 0s\n",
    "    ps = [] # pluses\n",
    "    for v in li:\n",
    "        if v <= 0:\n",
    "            mzs.append(v)\n",
    "        else:\n",
    "            ps.append(v)\n",
    "\n",
    "    mzs.sort() # -2 -1 0\n",
    "    ps.sort(reverse=True) # 5 4 3\n",
    "\n",
    "    t1 = -inf\n",
    "    if len(mzs) >= 4 and len(ps) >= 1:\n",
    "        t1 = mzs[0] * mzs[1] * mzs[2] * mzs[3] * ps[0]\n",
    "\n",
    "    t2 = -inf\n",
    "    if len(mzs) >= 2 and len(ps) >= 3:\n",
    "        t2 = mzs[0] * mzs[1] * ps[0] * ps[1] * ps[2]\n",
    "\n",
    "    t3 = -inf\n",
    "    if len(ps) >= 5:\n",
    "        cur = ps[0]\n",
    "        for i in range(1, 5):\n",
    "            cur *= ps[i]        \n",
    "        t3 = cur\n",
    "\n",
    "    t4 = -inf\n",
    "    li.sort(key=lambda x: abs(x))\n",
    "    cur = li[0]\n",
    "    for i in range(1, 5):\n",
    "        cur *= li[i]\n",
    "    t4 = cur\n",
    "\n",
    "    r = max(t1, t2, t3, t4)\n",
    "\n",
    "    print(r)"
   ]
  },
  {
   "cell_type": "markdown",
   "metadata": {},
   "source": [
    "https://codeforces.com/problemset/problem/1399/C C. Boats Competition"
   ]
  },
  {
   "cell_type": "markdown",
   "metadata": {},
   "source": [
    "3.45 3.56"
   ]
  },
  {
   "cell_type": "code",
   "execution_count": 56,
   "metadata": {},
   "outputs": [
    {
     "data": {
      "text/plain": [
       "5000000"
      ]
     },
     "execution_count": 56,
     "metadata": {},
     "output_type": "execute_result"
    }
   ],
   "source": [
    "1000 * (50 + 50) * 50"
   ]
  },
  {
   "cell_type": "code",
   "execution_count": 62,
   "metadata": {},
   "outputs": [
    {
     "name": "stdout",
     "output_type": "stream",
     "text": [
      "6\n",
      "1 1 3 4 2 2\n",
      "2\n"
     ]
    }
   ],
   "source": [
    "import sys\n",
    "input = lambda: sys.stdin.readline().rstrip()\n",
    "\n",
    "for _ in range(int(input())):\n",
    "    n = int(input())\n",
    "    li = list(map(int, input().split()))\n",
    "\n",
    "    ct = [0] * (n + 1)\n",
    "    for v in li:\n",
    "        ct[v] += 1\n",
    "\n",
    "    max_r = 0\n",
    "    for s in range(2, n * 2 + 1):\n",
    "        count = 0\n",
    "        for a in range(1, n + 1):\n",
    "            b = s - a\n",
    "            if a > b:\n",
    "                break\n",
    "            if a > n or b > n:\n",
    "                continue\n",
    "            if a < b:\n",
    "                count += min(ct[a], ct[b])\n",
    "            elif a == b:\n",
    "                count += ct[a] // 2\n",
    "\n",
    "        max_r = max(max_r, count)\n",
    "\n",
    "    print(max_r)"
   ]
  },
  {
   "cell_type": "markdown",
   "metadata": {},
   "source": [
    "https://codeforces.com/problemset/problem/1392/C C. Omkar and Waterslide"
   ]
  },
  {
   "cell_type": "markdown",
   "metadata": {},
   "source": [
    "2.57 3.14"
   ]
  },
  {
   "cell_type": "code",
   "execution_count": 9,
   "metadata": {},
   "outputs": [
    {
     "name": "stdout",
     "output_type": "stream",
     "text": [
      "3\n",
      "1 1 1\n",
      "0\n"
     ]
    }
   ],
   "source": [
    "import sys\n",
    "input = lambda: sys.stdin.readline().rstrip()\n",
    "\n",
    "for _ in range(int(input())):\n",
    "    n = int(input())\n",
    "    li = list(map(int, input().split()))\n",
    "\n",
    "    stack = [li[0]]\n",
    "    total = 0\n",
    "    for i in range(1, n):\n",
    "        if stack[-1] <= li[i]:\n",
    "            if len(stack) == 1:\n",
    "                stack.pop()\n",
    "                stack.append(li[i])\n",
    "            else:\n",
    "                temp = stack.pop()\n",
    "                if stack[0] <= li[i]:\n",
    "                    total += stack[0] - temp\n",
    "                    stack = [li[i]]\n",
    "                else:\n",
    "                    total += li[i] - temp\n",
    "                    stack.append(li[i])\n",
    "        else:\n",
    "            if len(stack) == 1:\n",
    "                stack.append(li[i])\n",
    "            else:\n",
    "                stack.pop()\n",
    "                stack.append(li[i])\n",
    "\n",
    "    if len(stack) == 2:\n",
    "        total += stack[0] - stack[1]\n",
    "\n",
    "    print(total)"
   ]
  },
  {
   "cell_type": "markdown",
   "metadata": {},
   "source": [
    "https://codeforces.com/problemset/problem/1385/C C. Make It Good\n"
   ]
  },
  {
   "cell_type": "markdown",
   "metadata": {},
   "source": [
    "5.25 5.33"
   ]
  },
  {
   "cell_type": "code",
   "execution_count": 13,
   "metadata": {},
   "outputs": [
    {
     "name": "stdout",
     "output_type": "stream",
     "text": [
      "4\n",
      "1 2 3 4\n",
      "0\n"
     ]
    }
   ],
   "source": [
    "import sys\n",
    "input = lambda: sys.stdin.readline().rstrip()\n",
    "\n",
    "for _ in range(int(input())):\n",
    "    n = int(input())\n",
    "    li = list(map(int, input().split()))\n",
    "\n",
    "    is_dec_start = False\n",
    "    start = 0\n",
    "    for i in range(n - 1, 0, -1):\n",
    "        if not is_dec_start:\n",
    "            if li[i - 1] >= li[i]:\n",
    "                continue\n",
    "            else:\n",
    "                is_dec_start = True\n",
    "        else:\n",
    "            if li[i - 1] <= li[i]:\n",
    "                continue\n",
    "            else:\n",
    "                start = i\n",
    "                break\n",
    "\n",
    "    print(start)"
   ]
  },
  {
   "cell_type": "markdown",
   "metadata": {},
   "source": [
    "https://codeforces.com/problemset/problem/1384/A"
   ]
  },
  {
   "cell_type": "code",
   "execution_count": 14,
   "metadata": {},
   "outputs": [
    {
     "name": "stdout",
     "output_type": "stream",
     "text": [
      "4\n",
      "1 2 4 2\n",
      "aaaaaaaaaaaaaaaaaaaaaaaaaaaaaaaaaaaaaaaaaaaaaaaaaaaa\n",
      "abaaaaaaaaaaaaaaaaaaaaaaaaaaaaaaaaaaaaaaaaaaaaaaaaaa\n",
      "abbaaaaaaaaaaaaaaaaaaaaaaaaaaaaaaaaaaaaaaaaaaaaaaaaa\n",
      "abbabaaaaaaaaaaaaaaaaaaaaaaaaaaaaaaaaaaaaaaaaaaaaaaa\n",
      "abaabaaaaaaaaaaaaaaaaaaaaaaaaaaaaaaaaaaaaaaaaaaaaaaa\n"
     ]
    }
   ],
   "source": [
    "import sys\n",
    "input = lambda: sys.stdin.readline().rstrip()\n",
    "\n",
    "for _ in range(int(input())):\n",
    "    n = int(input())\n",
    "    li = list(map(int, input().split()))\n",
    "\n",
    "    cur = ['a'] * 52\n",
    "    print(''.join(cur))\n",
    "    for v in li:\n",
    "        if cur[v] == 'a':\n",
    "            cur[v] = 'b'\n",
    "        else:\n",
    "            cur[v] = 'a'\n",
    "\n",
    "        print(''.join(cur))"
   ]
  },
  {
   "cell_type": "markdown",
   "metadata": {},
   "source": [
    "https://codeforces.com/problemset/problem/1375/B"
   ]
  },
  {
   "cell_type": "markdown",
   "metadata": {},
   "source": [
    "5.57 6.08"
   ]
  },
  {
   "cell_type": "code",
   "execution_count": null,
   "metadata": {},
   "outputs": [],
   "source": [
    "import sys\n",
    "input = lambda: sys.stdin.readline().rstrip()\n",
    "\n",
    "for _ in range(int(input())):\n",
    "    n, m = map(int, input().split())\n",
    "    li = [list(map(int, input().split())) for _ in range(n)]\n",
    "\n",
    "    ip = True\n",
    "    for i in range(n):\n",
    "        for j in range(m):\n",
    "            if i == 0 and j == 0 or i == 0 and j == m - 1 or i == n - 1 and j == 0 or i == n - 1 and j == m - 1:\n",
    "                if li[i][j] <= 2:\n",
    "                    li[i][j] = 2\n",
    "                else:\n",
    "                    ip = False\n",
    "                    break\n",
    "            elif i == 0 or i == n - 1 or j == 0 or j == m - 1:\n",
    "                if li[i][j] <= 3:\n",
    "                    li[i][j] = 3\n",
    "                else:\n",
    "                    ip = False\n",
    "                    break\n",
    "            else:\n",
    "                if li[i][j] <= 4:\n",
    "                    li[i][j] = 4\n",
    "                else:\n",
    "                    ip = False\n",
    "                    break\n",
    "        if not ip:\n",
    "            break\n",
    "\n",
    "    if ip:\n",
    "        print('YES')\n",
    "        for v in li:\n",
    "            print(*v)\n",
    "    else:\n",
    "        print('NO')"
   ]
  },
  {
   "cell_type": "markdown",
   "metadata": {},
   "source": [
    "https://codeforces.com/problemset/problem/1363/A A. Odd Selection"
   ]
  },
  {
   "cell_type": "markdown",
   "metadata": {},
   "source": [
    "6.10 6.19"
   ]
  },
  {
   "cell_type": "code",
   "execution_count": null,
   "metadata": {},
   "outputs": [],
   "source": [
    "홀 홀 홀 = 홀\n",
    "홀 = 홀\n",
    "\n",
    "홀수를 홀수개 뽑아야 함"
   ]
  },
  {
   "cell_type": "code",
   "execution_count": 25,
   "metadata": {},
   "outputs": [
    {
     "name": "stdout",
     "output_type": "stream",
     "text": [
      "1 1\n",
      "1000\n",
      "NO\n"
     ]
    }
   ],
   "source": [
    "import sys\n",
    "input = lambda: sys.stdin.readline().rstrip()\n",
    "\n",
    "for _ in range(int(input())):\n",
    "    n, x = map(int, input().split())\n",
    "    li = list(map(int, input().split()))\n",
    "\n",
    "    c0 = 0\n",
    "    c1 = 0\n",
    "    for v in li:\n",
    "        if v % 2 == 0:\n",
    "            c0 += 1\n",
    "        else:\n",
    "            c1 += 1\n",
    "\n",
    "    max_odd_p = 0\n",
    "    if x % 2 == 0:\n",
    "        max_odd_p = x - 1\n",
    "    else:\n",
    "        max_odd_p = x\n",
    "\n",
    "    odd_to_use = min(c1, max_odd_p)\n",
    "\n",
    "    if odd_to_use == 0:\n",
    "        print('NO')\n",
    "    else:\n",
    "        if odd_to_use >= 1 and odd_to_use % 2 == 0:\n",
    "            odd_to_use -= 1\n",
    "\n",
    "        x -= odd_to_use\n",
    "\n",
    "        if c0 >= x:\n",
    "            print('YES')\n",
    "        else:\n",
    "            print('NO')"
   ]
  },
  {
   "cell_type": "markdown",
   "metadata": {},
   "source": [
    "https://codeforces.com/problemset/problem/1362/B B. Johnny and His Hobbies"
   ]
  },
  {
   "cell_type": "markdown",
   "metadata": {},
   "source": [
    "6.20 6.35"
   ]
  },
  {
   "cell_type": "code",
   "execution_count": null,
   "metadata": {},
   "outputs": [],
   "source": [
    "0 1 2 3\n",
    "\n"
   ]
  },
  {
   "cell_type": "code",
   "execution_count": 29,
   "metadata": {},
   "outputs": [
    {
     "data": {
      "text/plain": [
       "1"
      ]
     },
     "execution_count": 29,
     "metadata": {},
     "output_type": "execute_result"
    }
   ],
   "source": [
    "0 ^ 1"
   ]
  },
  {
   "cell_type": "code",
   "execution_count": 30,
   "metadata": {},
   "outputs": [
    {
     "data": {
      "text/plain": [
       "3"
      ]
     },
     "execution_count": 30,
     "metadata": {},
     "output_type": "execute_result"
    }
   ],
   "source": [
    "2 ^ 1"
   ]
  },
  {
   "cell_type": "code",
   "execution_count": 31,
   "metadata": {},
   "outputs": [
    {
     "data": {
      "text/plain": [
       "2"
      ]
     },
     "execution_count": 31,
     "metadata": {},
     "output_type": "execute_result"
    }
   ],
   "source": [
    "3 ^ 1"
   ]
  },
  {
   "cell_type": "code",
   "execution_count": 33,
   "metadata": {},
   "outputs": [
    {
     "name": "stdout",
     "output_type": "stream",
     "text": [
      "10 7 14 8 3 12\n",
      "['1010', '111', '1110', '1000', '11', '1100']\n"
     ]
    }
   ],
   "source": [
    "li = list(map(int, input().split()))\n",
    "nli = [bin(v)[2:] for v in li]\n",
    "\n",
    "print(nli)"
   ]
  },
  {
   "cell_type": "code",
   "execution_count": null,
   "metadata": {},
   "outputs": [],
   "source": [
    "1010 2, 4\n",
    "1110 2, 4, 8\n",
    "0011 1, 2\n",
    "0111 1, 2, 4\n",
    "1000 8\n",
    "1100 4, 8"
   ]
  },
  {
   "cell_type": "code",
   "execution_count": 34,
   "metadata": {},
   "outputs": [
    {
     "data": {
      "text/plain": [
       "[3, 7, 8, 10, 12, 14]"
      ]
     },
     "execution_count": 34,
     "metadata": {},
     "output_type": "execute_result"
    }
   ],
   "source": [
    "li.sort()\n",
    "li"
   ]
  },
  {
   "cell_type": "code",
   "execution_count": 37,
   "metadata": {},
   "outputs": [
    {
     "data": {
      "text/plain": [
       "2048"
      ]
     },
     "execution_count": 37,
     "metadata": {},
     "output_type": "execute_result"
    }
   ],
   "source": [
    "2 ** 11"
   ]
  },
  {
   "cell_type": "code",
   "execution_count": 42,
   "metadata": {},
   "outputs": [
    {
     "name": "stdout",
     "output_type": "stream",
     "text": [
      "6\n",
      "10 7 14 8 3 12\n",
      "4\n"
     ]
    }
   ],
   "source": [
    "from itertools import product\n",
    "import sys\n",
    "input = lambda: sys.stdin.readline().rstrip()\n",
    "\n",
    "nums = []\n",
    "for case in product(*[range(2)] * 10):\n",
    "    total = 0\n",
    "    for i in range(10):\n",
    "        if case[i]:\n",
    "            total += 2 ** i\n",
    "    nums.append(total)\n",
    "    \n",
    "nums.remove(0)\n",
    "nums.sort()\n",
    "\n",
    "for _ in range(int(input())):\n",
    "    n = int(input())\n",
    "    st = set(map(int, input().split()))\n",
    "\n",
    "    ip = False\n",
    "    r_num = -1\n",
    "    for num in nums:\n",
    "        check = True\n",
    "        for v in st:\n",
    "            if v ^ num not in st:\n",
    "                check = False\n",
    "                break\n",
    "        if check:\n",
    "            r_num = num\n",
    "            ip = True\n",
    "            break\n",
    "\n",
    "    print(r_num)"
   ]
  },
  {
   "cell_type": "markdown",
   "metadata": {},
   "source": [
    "https://codeforces.com/problemset/problem/1355/B B. Young Explorers"
   ]
  },
  {
   "cell_type": "markdown",
   "metadata": {},
   "source": [
    "8.05 8.10"
   ]
  },
  {
   "cell_type": "code",
   "execution_count": 44,
   "metadata": {},
   "outputs": [
    {
     "name": "stdout",
     "output_type": "stream",
     "text": [
      "3\n",
      "1 1 1\n",
      "3\n"
     ]
    }
   ],
   "source": [
    "import sys\n",
    "input = lambda: sys.stdin.readline().rstrip()\n",
    "\n",
    "for _ in range(int(input())):\n",
    "    n = int(input())\n",
    "    li = sorted(map(int, input().split()))\n",
    "\n",
    "    temp = []\n",
    "    total = 0\n",
    "    for v in li:\n",
    "        temp.append(v)\n",
    "\n",
    "        if temp[-1] <= len(temp):\n",
    "            temp = []\n",
    "            total += 1\n",
    "\n",
    "    print(total)"
   ]
  },
  {
   "cell_type": "markdown",
   "metadata": {},
   "source": [
    "https://codeforces.com/problemset/problem/1354/B . Ternary String"
   ]
  },
  {
   "cell_type": "markdown",
   "metadata": {},
   "source": [
    "8.14 8.18"
   ]
  },
  {
   "cell_type": "code",
   "execution_count": 48,
   "metadata": {},
   "outputs": [
    {
     "name": "stdout",
     "output_type": "stream",
     "text": [
      "112233\n",
      "4\n"
     ]
    }
   ],
   "source": [
    "import sys\n",
    "input = lambda: sys.stdin.readline().rstrip()\n",
    "\n",
    "for _ in range(int(input())):\n",
    "    li = list(map(int, input()))\n",
    "    n = len(li)\n",
    "\n",
    "    start = 0\n",
    "    end = 0\n",
    "    ct = [0, 0, 0, 0]\n",
    "    ct[li[0]] += 1\n",
    "    r = 500000\n",
    "    while start <= end:\n",
    "        if ct[1] and ct[2] and ct[3]:\n",
    "            r = min(r, end - start + 1)\n",
    "\n",
    "            ct[li[start]] -= 1\n",
    "            start += 1\n",
    "        else:\n",
    "            end += 1\n",
    "            if end == n:\n",
    "                break\n",
    "            ct[li[end]] += 1\n",
    "\n",
    "    if r == 500000:\n",
    "        print(0)\n",
    "    else:\n",
    "        print(r)"
   ]
  },
  {
   "cell_type": "markdown",
   "metadata": {},
   "source": [
    "https://codeforces.com/problemset/problem/1649/B B. Game of Ball Passing"
   ]
  },
  {
   "cell_type": "markdown",
   "metadata": {},
   "source": [
    "8.31 8.37"
   ]
  },
  {
   "cell_type": "code",
   "execution_count": 53,
   "metadata": {},
   "outputs": [
    {
     "name": "stdout",
     "output_type": "stream",
     "text": [
      "4\n",
      "2 3 3 2\n",
      "1\n"
     ]
    }
   ],
   "source": [
    "import sys\n",
    "input = lambda: sys.stdin.readline().rstrip()\n",
    "\n",
    "for _ in range(int(input())):\n",
    "    n = int(input())\n",
    "    li = sorted(map(int, input().split()))\n",
    "\n",
    "    max_num = li.pop()\n",
    "    left = sum(li)\n",
    "\n",
    "    if max_num == 0:\n",
    "        print(0)\n",
    "    elif max_num <= left:\n",
    "        print(1)\n",
    "    else:\n",
    "        print(max_num - left)"
   ]
  },
  {
   "cell_type": "markdown",
   "metadata": {},
   "source": [
    "https://codeforces.com/problemset/problem/1638/C C. Inversion Graph"
   ]
  },
  {
   "cell_type": "markdown",
   "metadata": {},
   "source": [
    "12.38 12.46"
   ]
  },
  {
   "cell_type": "code",
   "execution_count": 58,
   "metadata": {},
   "outputs": [
    {
     "name": "stdout",
     "output_type": "stream",
     "text": [
      "6\n",
      "3 2 1 6 5 4\n",
      "2\n"
     ]
    }
   ],
   "source": [
    "import sys\n",
    "input = lambda: sys.stdin.readline().rstrip()\n",
    "\n",
    "for _ in range(int(input())):\n",
    "    n = int(input())\n",
    "    li = list(map(int, input().split()))\n",
    "\n",
    "    vt = set()\n",
    "    vt_max = 0\n",
    "    not_vt_min = 1\n",
    "    total = 0\n",
    "    for i in range(n):\n",
    "        vt.add(li[i])\n",
    "        vt_max = max(vt_max, li[i])\n",
    "\n",
    "        while True:\n",
    "            if not_vt_min in vt:\n",
    "                not_vt_min += 1\n",
    "            else:\n",
    "                break\n",
    "\n",
    "        if vt_max + 1 == not_vt_min:\n",
    "            total += 1\n",
    "\n",
    "    print(total)"
   ]
  }
 ],
 "metadata": {
  "kernelspec": {
   "display_name": "Python 3",
   "language": "python",
   "name": "python3"
  },
  "language_info": {
   "codemirror_mode": {
    "name": "ipython",
    "version": 3
   },
   "file_extension": ".py",
   "mimetype": "text/x-python",
   "name": "python",
   "nbconvert_exporter": "python",
   "pygments_lexer": "ipython3",
   "version": "3.7.4"
  }
 },
 "nbformat": 4,
 "nbformat_minor": 2
}
