{
 "cells": [
  {
   "cell_type": "markdown",
   "metadata": {},
   "source": [
    "https://codeforces.com/contest/1621/problem/C C. Hidden Permutations"
   ]
  },
  {
   "cell_type": "code",
   "execution_count": null,
   "metadata": {},
   "outputs": [],
   "source": [
    "p = 1 2 3 4 5\n",
    "q = 1 2 3 4 5\n",
    "\n",
    "q' = 1 2 3 4 5"
   ]
  },
  {
   "cell_type": "code",
   "execution_count": 40,
   "metadata": {},
   "outputs": [
    {
     "name": "stdout",
     "output_type": "stream",
     "text": [
      "0 1 [0, 1, 2, 3, 4] [1, 2, 0, 4, 3]\n",
      "1 2 [1, 2, 0, 4, 3] [2, 0, 1, 3, 4]\n",
      "2 0 [2, 0, 1, 3, 4] [0, 1, 2, 4, 3]\n",
      "0 1 [0, 1, 2, 4, 3] [1, 2, 0, 3, 4]\n",
      "1 2 [1, 2, 0, 3, 4] [2, 0, 1, 4, 3]\n"
     ]
    },
    {
     "data": {
      "text/plain": [
       "[0, 0, 0, 4, 3]"
      ]
     },
     "execution_count": 40,
     "metadata": {},
     "output_type": "execute_result"
    }
   ],
   "source": [
    "n = 5\n",
    "\n",
    "# p = [3, 2, 1, 5, 4]\n",
    "# p = [v - 1 for v in p]\n",
    "\n",
    "rp = [0] * n\n",
    "\n",
    "p = [1, 2, 0, 4, 3]\n",
    "\n",
    "# print('p: ', p)\n",
    "\n",
    "q = list(range(n))\n",
    "for _ in range(5):\n",
    "    q2 = [0] * n\n",
    "    for i in range(n):\n",
    "        q2[i] = q[p[i]]\n",
    "\n",
    "    print(q[0], q2[0], q, q2)\n",
    "    rp[q[3]] = q2[3]\n",
    "        \n",
    "    q = q2.copy()\n",
    "    \n",
    "rp"
   ]
  },
  {
   "cell_type": "code",
   "execution_count": null,
   "metadata": {},
   "outputs": [],
   "source": [
    "import sys\n",
    "input = lambda: sys.stdin.readline().rstrip()\n",
    "\n",
    "for _ in range(int(input())):\n",
    "    n = int(input())\n",
    "    \n",
    "    rp = [-1] * n\n",
    "    for index in range(n):\n",
    "        if rp[index] != -1:\n",
    "            continue\n",
    "\n",
    "        print('?', index + 1)\n",
    "        sys.stdout.flush()\n",
    "\n",
    "        value = int(input()) - 1\n",
    "        st = {value}\n",
    "        while True:\n",
    "            print('?', index + 1)\n",
    "            sys.stdout.flush()\n",
    "\n",
    "            v = int(input()) - 1\n",
    "            rp[value] = v\n",
    "            if v in st:\n",
    "                break\n",
    "            st.add(v)\n",
    "            value = v\n",
    "\n",
    "    rp = [v + 1 for v in rp]\n",
    "    print('!', *rp)\n",
    "    sys.stdout.flush()"
   ]
  },
  {
   "cell_type": "code",
   "execution_count": 54,
   "metadata": {},
   "outputs": [
    {
     "name": "stdout",
     "output_type": "stream",
     "text": [
      "? 1\n",
      "? 1\n",
      "? 1\n",
      "? 1\n",
      "? 1\n",
      "! 2 3 4 1\n"
     ]
    }
   ],
   "source": [
    "import sys\n",
    "# input = lambda: sys.stdin.readline().rstrip()\n",
    "\n",
    "n = 4\n",
    "p = [2, 3, 4, 1]\n",
    "q = [1, 2, 3, 4]\n",
    "\n",
    "rp = [-1] * n\n",
    "for index in range(n):\n",
    "    if rp[index] != -1:\n",
    "        continue\n",
    "\n",
    "    print('?', index + 1)\n",
    "#     sys.stdout.flush()\n",
    "\n",
    "    value = q[index] - 1\n",
    "    q2 = [0] * n\n",
    "    for i in range(n):\n",
    "        q2[i] = q[p[i] - 1]\n",
    "    q = q2.copy()\n",
    "    \n",
    "    st = {value}\n",
    "    while True:\n",
    "        print('?', index + 1)\n",
    "#         sys.stdout.flush()\n",
    "\n",
    "        v = q[index] - 1\n",
    "        q2 = [0] * n\n",
    "        for i in range(n):\n",
    "            q2[i] = q[p[i] - 1]\n",
    "        q = q2.copy()\n",
    "    \n",
    "        rp[value] = v\n",
    "        if v in st:\n",
    "            break\n",
    "        st.add(v)\n",
    "        value = v\n",
    "\n",
    "rp = [v + 1 for v in rp]\n",
    "print('!', *rp)"
   ]
  },
  {
   "cell_type": "markdown",
   "metadata": {},
   "source": [
    "https://codeforces.com/problemset/problem/1561/D1 D1. Up the Strip (simplified version)"
   ]
  },
  {
   "cell_type": "code",
   "execution_count": null,
   "metadata": {},
   "outputs": [],
   "source": [
    "1\n",
    "2\n",
    "3\n",
    "4\n",
    "5"
   ]
  },
  {
   "cell_type": "code",
   "execution_count": null,
   "metadata": {},
   "outputs": [],
   "source": [
    "1 2+2+1\n",
    "2  1\n",
    "3  1"
   ]
  },
  {
   "cell_type": "code",
   "execution_count": null,
   "metadata": {},
   "outputs": [],
   "source": [
    "1\n",
    "2 2배 이상에서 나머지로 갈 수 있음, 3 이상에서 빼기로 갈 수 있음\n",
    "3\n",
    "4\n",
    "5"
   ]
  },
  {
   "cell_type": "code",
   "execution_count": 61,
   "metadata": {},
   "outputs": [
    {
     "name": "stdout",
     "output_type": "stream",
     "text": [
      "200000 998244353\n",
      "730229972\n"
     ]
    }
   ],
   "source": [
    "n, mod = map(int, input().split())\n",
    "\n",
    "dp = [0] * (n + 1)\n",
    "dp[n] = 1\n",
    "sdp = [0] * (n + 2)\n",
    "sdp[n] = 1\n",
    "for i in range(n - 1, 0, -1):\n",
    "    cur = 2\n",
    "    while True:\n",
    "        if i * cur > n:\n",
    "            break\n",
    "        \n",
    "        start = i * cur\n",
    "        end = min(n, (i + 1) * cur - 1)\n",
    "        \n",
    "        dp[i] += sdp[start] - sdp[end + 1]\n",
    "        dp[i] %= mod\n",
    "        \n",
    "        cur += 1\n",
    "    \n",
    "    dp[i] += sdp[i + 1]\n",
    "    dp[i] %= mod\n",
    "    \n",
    "    sdp[i] = dp[i] + sdp[i + 1]\n",
    "    sdp[i] %= mod\n",
    "    \n",
    "print(dp[1])"
   ]
  },
  {
   "cell_type": "markdown",
   "metadata": {},
   "source": [
    "https://codeforces.com/problemset/problem/1551/D1 D1. Domino (easy version)"
   ]
  },
  {
   "cell_type": "code",
   "execution_count": null,
   "metadata": {},
   "outputs": [],
   "source": [
    "n이 홀수면 맨 위 가로는 전부 커버가 되어야 함 그 후 짝수 x 짝수로 변경됨\n",
    "m이 홀수면 맨 오른쪽 세로는 전부 커버가 될 수밖에 없고 함 그 후 짝수 x 짝수 변경됨\n",
    "\n",
    "둘 다 짝수인 경우 k가 짝수면 가능하고 홀수면 안됨\n"
   ]
  },
  {
   "cell_type": "code",
   "execution_count": null,
   "metadata": {},
   "outputs": [],
   "source": []
  },
  {
   "cell_type": "code",
   "execution_count": 70,
   "metadata": {},
   "outputs": [
    {
     "name": "stdout",
     "output_type": "stream",
     "text": [
      "2 1 1\n",
      "NO\n"
     ]
    }
   ],
   "source": [
    "import sys\n",
    "input = lambda: sys.stdin.readline().rstrip()\n",
    "\n",
    "for _ in range(int(input())):\n",
    "    n, m, k = map(int, input().split())\n",
    "\n",
    "    if m == 1 and k >= 1:\n",
    "        print('NO')\n",
    "    elif n == 1 and k != (n * m) // 2:\n",
    "        print('NO')\n",
    "    elif n % 2 == 1:\n",
    "        k -= m // 2\n",
    "\n",
    "        if k < 0:\n",
    "            print('NO')\n",
    "        else:\n",
    "            if k % 2 == 0:\n",
    "                print('YES')\n",
    "            else:\n",
    "                print('NO')\n",
    "    else:\n",
    "        if m % 2 == 1:\n",
    "            m -= 1\n",
    "\n",
    "        if k % 2 == 0:\n",
    "            print('YES')\n",
    "        else:\n",
    "            print('NO')"
   ]
  }
 ],
 "metadata": {
  "kernelspec": {
   "display_name": "Python 3",
   "language": "python",
   "name": "python3"
  },
  "language_info": {
   "codemirror_mode": {
    "name": "ipython",
    "version": 3
   },
   "file_extension": ".py",
   "mimetype": "text/x-python",
   "name": "python",
   "nbconvert_exporter": "python",
   "pygments_lexer": "ipython3",
   "version": "3.7.4"
  }
 },
 "nbformat": 4,
 "nbformat_minor": 2
}
