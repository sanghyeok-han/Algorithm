{
 "cells": [
  {
   "cell_type": "code",
   "execution_count": null,
   "metadata": {},
   "outputs": [],
   "source": [
    "import sys\n",
    "input = lambda: sys.stdin.readline().rstrip()"
   ]
  },
  {
   "cell_type": "code",
   "execution_count": null,
   "metadata": {},
   "outputs": [],
   "source": [
    "\\## PYRIVAL BOOTSTRAP\n",
    "# https://github.com/cheran-senthil/PyRival/blob/master/pyrival/misc/bootstrap.py\n",
    "# This decorator allows for recursion without actually doing recursion\n",
    "from types import GeneratorType\n",
    "def bootstrap(f, stack=[]):\n",
    "    def wrappedfunc(*args, **kwargs):\n",
    "        if stack:\n",
    "            return f(*args, **kwargs)\n",
    "        else:\n",
    "            to = f(*args, **kwargs)\n",
    "            while True:\n",
    "                if type(to) is GeneratorType:\n",
    "                    stack.append(to)\n",
    "                    to = next(to)\n",
    "                else:\n",
    "                    stack.pop()\n",
    "                    if not stack:\n",
    "                        break\n",
    "                    to = stack[-1].send(to)\n",
    "            return to\n",
    "    return wrappedfunc"
   ]
  },
  {
   "cell_type": "markdown",
   "metadata": {},
   "source": [
    "https://codeforces.com/group/xxy9FJ47yv/contest/374274/problem/A"
   ]
  },
  {
   "cell_type": "code",
   "execution_count": null,
   "metadata": {},
   "outputs": [],
   "source": [
    "1이 맨 앞에 있거나 n이 맨 마지막에 있으면 가능함\n"
   ]
  },
  {
   "cell_type": "code",
   "execution_count": null,
   "metadata": {},
   "outputs": [],
   "source": [
    "i까지의 최솟값 > i + 1부터의 최댓값이면 NO"
   ]
  },
  {
   "cell_type": "code",
   "execution_count": 13,
   "metadata": {},
   "outputs": [
    {
     "name": "stdout",
     "output_type": "stream",
     "text": [
      "1\n",
      "3\n",
      "1 2 3\n",
      "YES\n"
     ]
    }
   ],
   "source": [
    "from collections import deque\n",
    "import sys\n",
    "input = lambda: sys.stdin.readline().rstrip()\n",
    "\n",
    "for _ in range(int(input())):\n",
    "    n = int(input())\n",
    "    li = list(map(int, input().split()))\n",
    "\n",
    "    mins = [li[0]]\n",
    "    cur = li[0]\n",
    "    for i in range(1, n):\n",
    "        cur = min(cur, li[i])\n",
    "        mins.append(cur)\n",
    "\n",
    "    maxs = deque([li[-1]])\n",
    "    cur = li[-1]\n",
    "    for i in range(n - 2, -1, -1):\n",
    "        cur = max(cur, li[i])\n",
    "        maxs.appendleft(cur)\n",
    "\n",
    "    ip = True\n",
    "    for i in range(n - 1):\n",
    "        if mins[i] > maxs[i + 1]:\n",
    "            ip = False\n",
    "            break\n",
    "\n",
    "    if ip:\n",
    "        print('YES')\n",
    "    else:\n",
    "        print('NO')"
   ]
  },
  {
   "cell_type": "markdown",
   "metadata": {},
   "source": [
    "https://codeforces.com/contest/1672 1:43 ~ 중단\n",
    "\n",
    "레이팅 2000까지 업솔빙해야하는데 난이도가 아직 안풀려서 중단함"
   ]
  },
  {
   "cell_type": "markdown",
   "metadata": {},
   "source": [
    "A"
   ]
  },
  {
   "cell_type": "code",
   "execution_count": 3,
   "metadata": {},
   "outputs": [
    {
     "name": "stdout",
     "output_type": "stream",
     "text": [
      "1\n",
      "1\n",
      "maomao90\n"
     ]
    }
   ],
   "source": [
    "import sys\n",
    "input = lambda: sys.stdin.readline().rstrip()\n",
    "\n",
    "for _ in range(int(input())):\n",
    "    n = int(input())\n",
    "    li = list(map(int, input().split()))\n",
    "\n",
    "    temp = sum(li) - n\n",
    "\n",
    "    if temp % 2 == 0:\n",
    "        print('maomao90')\n",
    "    else:\n",
    "        print('errorgorn')"
   ]
  },
  {
   "cell_type": "markdown",
   "metadata": {},
   "source": [
    "B"
   ]
  },
  {
   "cell_type": "code",
   "execution_count": 7,
   "metadata": {},
   "outputs": [
    {
     "name": "stdout",
     "output_type": "stream",
     "text": [
      "A\n",
      "NO\n"
     ]
    }
   ],
   "source": [
    "import sys\n",
    "input = lambda: sys.stdin.readline().rstrip()\n",
    "\n",
    "for _ in range(int(input())):\n",
    "    s = input()\n",
    "\n",
    "    ip = True\n",
    "    if s[-1] == 'A':\n",
    "        ip = False\n",
    "\n",
    "    cur = 0\n",
    "    for v in s:\n",
    "        if v == 'A':\n",
    "            cur += 1\n",
    "        else:\n",
    "            cur -= 1\n",
    "        if cur < 0:\n",
    "            ip = False\n",
    "            break\n",
    "\n",
    "    if ip:\n",
    "        print('YES')\n",
    "    else:\n",
    "        print('NO')"
   ]
  },
  {
   "cell_type": "markdown",
   "metadata": {},
   "source": [
    "C"
   ]
  },
  {
   "cell_type": "code",
   "execution_count": null,
   "metadata": {},
   "outputs": [],
   "source": [
    "import sys\n",
    "input = lambda: sys.stdin.readline().rstrip()\n",
    "\n",
    "for _ in range(int(input())):\n",
    "    n = int(input())\n",
    "    li = list(map(int, input().split()))\n",
    "\n",
    "    cont_s = -1\n",
    "    cont_e = -1\n",
    "    for i in range(n - 1):\n",
    "        if li[i] == li[i + 1]:\n",
    "            if cont_s == -1:\n",
    "                cont_s = i\n",
    "            cont_e = i\n",
    "\n",
    "    if cont_s == -1:\n",
    "        print(0)\n",
    "    elif cont_s == cont_e:\n",
    "        print(0)\n",
    "    elif cont_e - cont_s <= 2:\n",
    "        print(1)\n",
    "    else:\n",
    "        print(cont_e - cont_s - 1)"
   ]
  },
  {
   "cell_type": "markdown",
   "metadata": {},
   "source": [
    "D"
   ]
  },
  {
   "cell_type": "markdown",
   "metadata": {},
   "source": [
    "풀이를 봐도 이해가 안됨"
   ]
  },
  {
   "cell_type": "code",
   "execution_count": null,
   "metadata": {},
   "outputs": [],
   "source": [
    "n = int(input())\n",
    "a = list(map(int, input().split()))\n",
    "b = list(map(int, input().split()))"
   ]
  },
  {
   "cell_type": "markdown",
   "metadata": {},
   "source": [
    "https://codeforces.com/contest/1659 2:00~ 중단\n",
    "\n",
    "문제 위의 global 컨테와 섞어 풀어서 종료"
   ]
  },
  {
   "cell_type": "markdown",
   "metadata": {},
   "source": [
    "A"
   ]
  },
  {
   "cell_type": "code",
   "execution_count": 29,
   "metadata": {},
   "outputs": [
    {
     "name": "stdout",
     "output_type": "stream",
     "text": [
      "7 4 3\n",
      "RBRBRBR\n"
     ]
    }
   ],
   "source": [
    "import sys\n",
    "input = lambda: sys.stdin.readline().rstrip()\n",
    "\n",
    "for _ in range(int(input())):\n",
    "    n, r, b = map(int, input().split())\n",
    "\n",
    "    q = r // (b + 1)\n",
    "    remained = r % (b + 1)\n",
    "\n",
    "    divided = [q] * (b + 1)\n",
    "    for i in range(remained):\n",
    "        divided[i] += 1\n",
    "\n",
    "    result = []\n",
    "    for v in divided:\n",
    "        result.extend(['R'] * v)\n",
    "        result.append('B')\n",
    "\n",
    "    result.pop()\n",
    "\n",
    "    print(''.join(result))"
   ]
  },
  {
   "cell_type": "markdown",
   "metadata": {},
   "source": [
    "B"
   ]
  },
  {
   "cell_type": "code",
   "execution_count": null,
   "metadata": {},
   "outputs": [],
   "source": [
    "k가 짝수면 맨 위부터 1인 것들은 그냥 두어도 됨"
   ]
  },
  {
   "cell_type": "code",
   "execution_count": 46,
   "metadata": {},
   "outputs": [
    {
     "name": "stdout",
     "output_type": "stream",
     "text": [
      "6 12\n",
      "001110\n",
      "111110\n",
      "1 1 0 0 0 10\n"
     ]
    }
   ],
   "source": [
    "import sys\n",
    "input = lambda: sys.stdin.readline().rstrip()\n",
    "\n",
    "for _ in range(int(input())):\n",
    "    n, k = map(int, input().split())\n",
    "    li = list(map(int, input()))\n",
    "\n",
    "    r = [0] * n\n",
    "\n",
    "    if k % 2 == 0:\n",
    "        for i in range(n):\n",
    "            if not k:\n",
    "                break\n",
    "\n",
    "            if li[i] == 0:\n",
    "                li[i] = 1\n",
    "                r[i] += 1\n",
    "                k -= 1\n",
    "\n",
    "        if k % 2 == 1:\n",
    "            li[-1] ^= 1\n",
    "        r[-1] += k\n",
    "    else:\n",
    "        for i in range(n):\n",
    "            li[i] ^= 1\n",
    "\n",
    "        for i in range(n):\n",
    "            if not k:\n",
    "                break\n",
    "\n",
    "            if li[i] == 0:\n",
    "                li[i] = 1\n",
    "                r[i] += 1\n",
    "                k -= 1\n",
    "\n",
    "        if k % 2 == 1:\n",
    "            li[-1] ^= 1\n",
    "        r[-1] += k\n",
    "\n",
    "    print(''.join(map(str, li)))\n",
    "    print(*r)"
   ]
  },
  {
   "cell_type": "code",
   "execution_count": null,
   "metadata": {},
   "outputs": [],
   "source": [
    "풀던 문제 풀이봐도 안됨, 다음 문제 내가 자신없는 인터렉티브임 -> 아무 것도 안함?"
   ]
  },
  {
   "cell_type": "markdown",
   "metadata": {},
   "source": [
    "https://codeforces.com/problemset/problem/1684/C"
   ]
  },
  {
   "cell_type": "code",
   "execution_count": null,
   "metadata": {},
   "outputs": [],
   "source": [
    "import sys\n",
    "# input = lambda: sys.stdin.readline().rstrip()\n",
    "\n",
    "for _ in range(int(input())):\n",
    "    n, m = map(int, input().split())\n",
    "    li = [list(map(int, input().split())) for _ in range(n)]\n",
    "\n",
    "    if m == 1:\n",
    "        print(1, 1)\n",
    "    else:\n",
    "        ip = True\n",
    "        cris = []\n",
    "        diffs = []\n",
    "        for i in range(n):\n",
    "            cri = sorted(li[i])\n",
    "            cris.append(cri)\n",
    "\n",
    "            if len(diffs) == 2:\n",
    "                continue\n",
    "            \n",
    "            diffs = []\n",
    "            for j in range(m):\n",
    "                if cri[j] != li[i][j]:\n",
    "                    diffs.append(j)\n",
    "                    \n",
    "            if len(diffs) > 2:\n",
    "                ip = False\n",
    "                \n",
    "        if not ip:\n",
    "            print(-1)\n",
    "        elif not diffs:\n",
    "            print(1, 1)\n",
    "        else:\n",
    "            ip = True\n",
    "            for i in range(n):\n",
    "                li[i][diffs[0]], li[i][diffs[1]] = li[i][diffs[1]], li[i][diffs[0]]\n",
    "                if li[i] != cris[i]:\n",
    "                    ip = False\n",
    "                    break\n",
    "\n",
    "            if ip:\n",
    "                print(diffs[0] + 1, diffs[1] + 1)\n",
    "            else:\n",
    "                print(-1)"
   ]
  },
  {
   "cell_type": "code",
   "execution_count": null,
   "metadata": {},
   "outputs": [],
   "source": [
    "https://codeforces.com/contest/1644/problem/D"
   ]
  },
  {
   "cell_type": "code",
   "execution_count": 45,
   "metadata": {},
   "outputs": [
    {
     "name": "stdout",
     "output_type": "stream",
     "text": [
      "2\n",
      "1 1 3 2\n",
      "1 1\n",
      "1 1\n",
      "3\n",
      "2 2 2 3\n",
      "2 1\n",
      "1 1\n",
      "2 2\n",
      "4\n"
     ]
    }
   ],
   "source": [
    "import os\n",
    "import sys\n",
    "from io import BytesIO, IOBase\n",
    "\n",
    "BUFSIZE = 8192\n",
    "\n",
    "class FastIO(IOBase):\n",
    "    newlines = 0\n",
    " \n",
    "    def __init__(self, file):\n",
    "        self._fd = file.fileno()\n",
    "        self.buffer = BytesIO()\n",
    "        self.writable = \"x\" in file.mode or \"r\" not in file.mode\n",
    "        self.write = self.buffer.write if self.writable else None\n",
    " \n",
    "    def read(self):\n",
    "        while True:\n",
    "            b = os.read(self._fd, max(os.fstat(self._fd).st_size, BUFSIZE))\n",
    "            if not b:\n",
    "                break\n",
    "            ptr = self.buffer.tell()\n",
    "            self.buffer.seek(0, 2), self.buffer.write(b), self.buffer.seek(ptr)\n",
    "        self.newlines = 0\n",
    "        return self.buffer.read()\n",
    " \n",
    "    def readline(self):\n",
    "        while self.newlines == 0:\n",
    "            b = os.read(self._fd, max(os.fstat(self._fd).st_size, BUFSIZE))\n",
    "            self.newlines = b.count(b\"\\n\") + (not b)\n",
    "            ptr = self.buffer.tell()\n",
    "            self.buffer.seek(0, 2), self.buffer.write(b), self.buffer.seek(ptr)\n",
    "        self.newlines -= 1\n",
    "        return self.buffer.readline()\n",
    " \n",
    "    def flush(self):\n",
    "        if self.writable:\n",
    "            os.write(self._fd, self.buffer.getvalue())\n",
    "            self.buffer.truncate(0), self.buffer.seek(0)\n",
    " \n",
    " \n",
    "class IOWrapper(IOBase):\n",
    "    def __init__(self, file):\n",
    "        self.buffer = FastIO(file)\n",
    "        self.flush = self.buffer.flush\n",
    "        self.writable = self.buffer.writable\n",
    "        self.write = lambda s: self.buffer.write(s.encode(\"ascii\"))\n",
    "        self.read = lambda: self.buffer.read().decode(\"ascii\")\n",
    "        self.readline = lambda: self.buffer.readline().decode(\"ascii\")\n",
    " \n",
    " \n",
    "sys.stdin, sys.stdout = IOWrapper(sys.stdin), IOWrapper(sys.stdout)\n",
    "input = lambda: sys.stdin.readline().rstrip(\"\\r\\n\")\n",
    "\n",
    "mod = 998244353\n",
    "\n",
    "for _ in range(int(input())):\n",
    "    n, m, k, q = map(int, input().split())\n",
    "    li = [list(map(int, input().split())) for _ in range(q)]\n",
    "    im = [[True] * 2 for _ in range(q)] # is meaningful\n",
    "\n",
    "    if q == 1:\n",
    "        print(k)\n",
    "    else:\n",
    "        st0 = set()\n",
    "        st1 = set()\n",
    "        for i in range(q - 1, -1, -1):\n",
    "            if li[i][0] not in st0:\n",
    "                st0.add(li[i][0])\n",
    "            else:\n",
    "                im[i][0] = False\n",
    "\n",
    "            if li[i][1] not in st1:\n",
    "                st1.add(li[i][1])\n",
    "            else:\n",
    "                im[i][1] = False\n",
    "\n",
    "        ct1 = dict()\n",
    "        cci0 = 0 # cur check index\n",
    "        td_c1 = 0 # total distinct count\n",
    "        \n",
    "        ct0 = dict()\n",
    "        cci1 = 0\n",
    "        td_c0 = 0\n",
    "        \n",
    "        for i in range(1, q):\n",
    "            v1 = li[i][1]\n",
    "            if v1 not in ct1:\n",
    "                ct1[v1] = 1\n",
    "            else:\n",
    "                ct1[v1] += 1\n",
    "                \n",
    "            if ct1[v1] == 1:\n",
    "                td_c1 += 1\n",
    "\n",
    "            while td_c1 == m:\n",
    "                im[cci0][0] = False\n",
    "                cci0 += 1\n",
    "                ct1[li[cci0][1]] -= 1\n",
    "                if ct1[li[cci0][1]] == 0:\n",
    "                    td_c1 -= 1        \n",
    "                    \n",
    "            v2 = li[i][0]\n",
    "            if v2 not in ct0:\n",
    "                ct0[v2] = 1\n",
    "            else:\n",
    "                ct0[v2] += 1\n",
    "                \n",
    "            if ct0[v2] == 1:\n",
    "                td_c0 += 1\n",
    "\n",
    "            while td_c0 == n:\n",
    "                im[cci1][1] = False\n",
    "                cci1 += 1\n",
    "                ct0[li[cci1][0]] -= 1\n",
    "                if ct0[li[cci1][0]] == 0:\n",
    "                    td_c0 -= 1\n",
    "\n",
    "        c = 0\n",
    "        for i in range(q):\n",
    "            if any(im[i]):\n",
    "                c += 1\n",
    "\n",
    "        r = pow(k, c, mod)\n",
    "\n",
    "        print(r)"
   ]
  },
  {
   "cell_type": "markdown",
   "metadata": {},
   "source": [
    "https://codeforces.com/problemset/problem/1635/D"
   ]
  },
  {
   "cell_type": "code",
   "execution_count": 47,
   "metadata": {},
   "outputs": [
    {
     "data": {
      "text/plain": [
       "1125899906842624"
      ]
     },
     "execution_count": 47,
     "metadata": {},
     "output_type": "execute_result"
    }
   ],
   "source": [
    "정렬함\n",
    "작은 수로 큰 수를 만들 수 있다면 그 큰 수는 필요 없음\n",
    "\n"
   ]
  },
  {
   "cell_type": "code",
   "execution_count": 60,
   "metadata": {},
   "outputs": [
    {
     "name": "stdout",
     "output_type": "stream",
     "text": [
      "[1, 3, 7, 15, 31, 63, 127, 255, 511, 1023, 2047, 4095, 8191, 16383, 32767, 65535, 131071, 262143, 524287, 1048575, 2097151, 4194303, 8388607, 16777215, 33554431, 67108863, 134217727, 268435455, 536870911, 1073741823, 2147483647]\n"
     ]
    }
   ],
   "source": [
    "li = [1]\n",
    "x = 1\n",
    "for i in range(30):\n",
    "    x = 2 * x + 1\n",
    "    li.append(x)\n",
    "    \n",
    "print(li)"
   ]
  },
  {
   "cell_type": "code",
   "execution_count": 61,
   "metadata": {},
   "outputs": [
    {
     "name": "stdout",
     "output_type": "stream",
     "text": [
      "[2, 5, 11, 23, 47, 95, 191, 383, 767, 1535, 3071, 6143, 12287, 24575, 49151, 98303, 196607, 393215, 786431, 1572863, 3145727, 6291455, 12582911, 25165823, 50331647, 100663295, 201326591, 402653183, 805306367, 1610612735, 3221225471]\n"
     ]
    }
   ],
   "source": [
    "li2 = [2]\n",
    "x = 2\n",
    "for i in range(30):\n",
    "    x = 2 * x + 1\n",
    "    li2.append(x)\n",
    "    \n",
    "print(li2)"
   ]
  },
  {
   "cell_type": "code",
   "execution_count": 76,
   "metadata": {},
   "outputs": [
    {
     "name": "stdout",
     "output_type": "stream",
     "text": [
      "[3.0, 4.087, 5.129, 6.15, 7.16, 8.165, 9.167, 10.169, 11.169, 12.17]\n"
     ]
    }
   ],
   "source": [
    "from math import log2\n",
    "\n",
    "x = 8\n",
    "\n",
    "li = []\n",
    "for i in range(10):\n",
    "    li.append(round(log2(x), 3))\n",
    "    x = 2 * x + 1\n",
    "    \n",
    "print(li)"
   ]
  },
  {
   "cell_type": "code",
   "execution_count": null,
   "metadata": {},
   "outputs": [],
   "source": [
    "from math import log2\n",
    "\n",
    "ans = p - int(log2(x))"
   ]
  },
  {
   "cell_type": "code",
   "execution_count": null,
   "metadata": {},
   "outputs": [],
   "source": []
  },
  {
   "cell_type": "code",
   "execution_count": null,
   "metadata": {},
   "outputs": [],
   "source": [
    "4y 조건 검사"
   ]
  },
  {
   "cell_type": "code",
   "execution_count": 92,
   "metadata": {},
   "outputs": [
    {
     "name": "stdout",
     "output_type": "stream",
     "text": [
      "2\n",
      "[2.0, 4.0, 6.0, 8.0, 10.0, 12.0, 14.0, 16.0, 18.0, 20.0]\n"
     ]
    }
   ],
   "source": [
    "from math import log2\n",
    "\n",
    "x = 4\n",
    "print(int(log2(x)))\n",
    "\n",
    "li = []\n",
    "for i in range(10):\n",
    "    li.append(round(log2(x), 3))\n",
    "    x = 4 * x\n",
    "    \n",
    "print(li)"
   ]
  },
  {
   "cell_type": "code",
   "execution_count": null,
   "metadata": {},
   "outputs": [],
   "source": [
    "ans = (p + 1 - int(log2(x))) // 2"
   ]
  },
  {
   "cell_type": "code",
   "execution_count": 114,
   "metadata": {},
   "outputs": [
    {
     "name": "stdout",
     "output_type": "stream",
     "text": [
      "2 200000\n",
      "48763 1000000000\n",
      "29.897352853986263\n",
      "15.573499265802562\n",
      "599935\n"
     ]
    }
   ],
   "source": [
    "from math import log2\n",
    "\n",
    "n, p = map(int, input().split())\n",
    "li = sorted(map(int, input().split()))\n",
    "\n",
    "st = set(li)\n",
    "cri = 1e10\n",
    "for v in li:\n",
    "    if v not in st:\n",
    "        continue\n",
    "        \n",
    "    w = v\n",
    "    while w < cri:\n",
    "        w = 2 * w + 1\n",
    "        if w in st:\n",
    "            st.discard(w)\n",
    "            \n",
    "    w = v\n",
    "    while w < cri:\n",
    "        w = 4 * w\n",
    "        if w in st:\n",
    "            st.discard(w)\n",
    "            \n",
    "total = 0\n",
    "for v in st:\n",
    "    print(log2(v))\n",
    "    \n",
    "    t1 = max(0, p - int(log2(v)))\n",
    "    t2 = max(0, (p + 1 - int(log2(v))) // 2)\n",
    "    \n",
    "    total += t1 + t2\n",
    "    \n",
    "print(total)"
   ]
  },
  {
   "cell_type": "code",
   "execution_count": 113,
   "metadata": {},
   "outputs": [
    {
     "name": "stdout",
     "output_type": "stream",
     "text": [
      "1 1 1\n",
      "1 2 2\n",
      "1 3 3\n",
      "1 4 4\n",
      "2 1 0\n",
      "2 2 1\n",
      "2 3 2\n",
      "2 4 3\n",
      "3 1 0\n",
      "3 2 1\n",
      "3 3 2\n",
      "3 4 3\n",
      "4 1 0\n",
      "4 2 0\n",
      "4 3 1\n",
      "4 4 2\n"
     ]
    }
   ],
   "source": [
    "for v in range(1, 5):\n",
    "    for p in range(1, 5):\n",
    "        print(v, p, max(0, p - int(log2(v))))"
   ]
  }
 ],
 "metadata": {
  "kernelspec": {
   "display_name": "Python 3",
   "language": "python",
   "name": "python3"
  },
  "language_info": {
   "codemirror_mode": {
    "name": "ipython",
    "version": 3
   },
   "file_extension": ".py",
   "mimetype": "text/x-python",
   "name": "python",
   "nbconvert_exporter": "python",
   "pygments_lexer": "ipython3",
   "version": "3.7.4"
  }
 },
 "nbformat": 4,
 "nbformat_minor": 4
}
