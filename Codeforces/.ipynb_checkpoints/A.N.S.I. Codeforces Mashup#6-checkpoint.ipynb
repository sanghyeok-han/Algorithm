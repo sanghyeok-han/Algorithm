{
 "cells": [
  {
   "cell_type": "markdown",
   "metadata": {},
   "source": [
    "https://codeforces.com/gym/375256"
   ]
  },
  {
   "cell_type": "code",
   "execution_count": null,
   "metadata": {},
   "outputs": [],
   "source": [
    "import sys\n",
    "input = lambda: sys.stdin.readline().rstrip()"
   ]
  },
  {
   "cell_type": "markdown",
   "metadata": {},
   "source": [
    "A"
   ]
  },
  {
   "cell_type": "code",
   "execution_count": 12,
   "metadata": {},
   "outputs": [
    {
     "name": "stdout",
     "output_type": "stream",
     "text": [
      "2 1\n",
      "1 2\n",
      "1\n"
     ]
    }
   ],
   "source": [
    "import sys\n",
    "input = lambda: sys.stdin.readline().rstrip()\n",
    "\n",
    "mod = int(1e9) + 7\n",
    "max_num = 1001\n",
    "\n",
    "factos = [0] * (max_num + 1)\n",
    "factos[0] = 1\n",
    "invs = [0] * (max_num + 1)\n",
    "cur = 1\n",
    "for i in range(1, max_num + 1):\n",
    "    cur *= i\n",
    "    cur %= mod\n",
    "    factos[i] = cur\n",
    "    \n",
    "invs[max_num] = pow(factos[max_num], mod - 2, mod)\n",
    "for i in range(max_num - 1, -1, -1):\n",
    "    invs[i] = (i + 1) * invs[i + 1] % mod\n",
    "\n",
    "for _ in range(int(input())):\n",
    "    n, k = map(int, input().split())\n",
    "    li = sorted(map(int, input().split()))\n",
    "\n",
    "    cri = li[n - k]\n",
    "    nn = li.count(cri)\n",
    "    rr = k\n",
    "    for i in range(n - 1, -1, -1):\n",
    "        if li[i] > cri:\n",
    "            rr -= 1\n",
    "\n",
    "    result = factos[nn] * invs[rr] * invs[nn - rr] % mod\n",
    "\n",
    "    print(result)"
   ]
  },
  {
   "cell_type": "markdown",
   "metadata": {},
   "source": [
    "B"
   ]
  },
  {
   "cell_type": "code",
   "execution_count": null,
   "metadata": {},
   "outputs": [],
   "source": [
    "from collections import defaultdict as dd\n",
    "import sys\n",
    "input = lambda: sys.stdin.readline().rstrip()\n",
    "\n",
    "for _ in range(int(input())):\n",
    "    n = int(input())\n",
    "    n *= 2\n",
    "    li = sorted(map(int, input().split()), reverse=True)\n",
    "\n",
    "    od = dd(int)\n",
    "    for i in range(n):\n",
    "        od[li[i]] += 1\n",
    "\n",
    "    ip = False\n",
    "    od[li[0]] -= 1\n",
    "    for init in range(1, n):\n",
    "        ip = True\n",
    "        temp = f'{li[0]} {li[init]}'\n",
    "        d = od.copy()\n",
    "        d[li[init]] -= 1\n",
    "        cur_to_make = li[0]\n",
    "        for i in range(1, n):\n",
    "            if not d[li[i]]:\n",
    "                continue\n",
    "            d[li[i]] -= 1\n",
    "            tt = cur_to_make - li[i]\n",
    "            if not d[tt]:\n",
    "                ip = False\n",
    "                break\n",
    "            d[tt] -= 1\n",
    "            temp += f'\\n{li[i]} {tt}'\n",
    "            cur_to_make = li[i]\n",
    "\n",
    "        if ip:\n",
    "            print('YES')\n",
    "            print(li[0] + li[init])\n",
    "            print(temp)\n",
    "            break\n",
    "    else:\n",
    "        print('NO')"
   ]
  },
  {
   "cell_type": "markdown",
   "metadata": {},
   "source": [
    "C"
   ]
  },
  {
   "cell_type": "code",
   "execution_count": 125,
   "metadata": {},
   "outputs": [
    {
     "name": "stdout",
     "output_type": "stream",
     "text": [
      "1\n",
      "7\n",
      "aba????\n",
      "Yes\n",
      "abacaba\n"
     ]
    }
   ],
   "source": [
    "import sys\n",
    "input = lambda: sys.stdin.readline().rstrip()\n",
    "\n",
    "for _ in range(int(input())):\n",
    "    n = int(input())\n",
    "    s = input()\n",
    "\n",
    "    count = 0\n",
    "    for i in range(n - 6):\n",
    "        if s[i:i + 7] == 'abacaba':\n",
    "            count += 1\n",
    "\n",
    "    if count >= 2:\n",
    "        print('No')\n",
    "    elif count == 1:\n",
    "        ns = ''\n",
    "        for v in s:\n",
    "            if v == '?':\n",
    "                ns += 'd'\n",
    "            else:\n",
    "                ns += v\n",
    "        print('Yes')\n",
    "        print(ns)\n",
    "    else:\n",
    "        \n",
    "        target = 'abacaba'\n",
    "        for start in range(n - 6):\n",
    "            ip = True\n",
    "            for i in range(start, start + 7):\n",
    "                if s[i] == '?':\n",
    "                    continue\n",
    "                if s[i] != target[i - start]:\n",
    "                    ip = False\n",
    "                    break\n",
    "                    \n",
    "            if ip:\n",
    "                li = list(s)\n",
    "                for i in range(start, start + 7):\n",
    "                    li[i] = target[i - start]\n",
    "\n",
    "                ns = ''.join(li)\n",
    "                count = 0\n",
    "                for i in range(n - 6):\n",
    "                    if ns[i:i + 7] == 'abacaba':\n",
    "                        count += 1 \n",
    "                if count >= 2:\n",
    "                    ip = False\n",
    "                    \n",
    "            if ip:\n",
    "                li = list(s)\n",
    "                for i in range(start, start + 7):\n",
    "                    li[i] = target[i - start]\n",
    "                ns = ''\n",
    "                for v in li:\n",
    "                    if v == '?':\n",
    "                        ns += 'd'\n",
    "                    else:\n",
    "                        ns += v\n",
    "                print('Yes')\n",
    "                print(ns)\n",
    "                break\n",
    "\n",
    "        if not ip:\n",
    "            print('No')"
   ]
  }
 ],
 "metadata": {
  "kernelspec": {
   "display_name": "Python 3",
   "language": "python",
   "name": "python3"
  },
  "language_info": {
   "codemirror_mode": {
    "name": "ipython",
    "version": 3
   },
   "file_extension": ".py",
   "mimetype": "text/x-python",
   "name": "python",
   "nbconvert_exporter": "python",
   "pygments_lexer": "ipython3",
   "version": "3.7.4"
  }
 },
 "nbformat": 4,
 "nbformat_minor": 2
}
