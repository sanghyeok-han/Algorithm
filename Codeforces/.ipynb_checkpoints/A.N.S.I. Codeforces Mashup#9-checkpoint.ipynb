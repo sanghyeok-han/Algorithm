{
 "cells": [
  {
   "cell_type": "markdown",
   "metadata": {},
   "source": [
    "https://codeforces.com/gym/380541"
   ]
  },
  {
   "cell_type": "code",
   "execution_count": 3,
   "metadata": {},
   "outputs": [
    {
     "data": {
      "text/plain": [
       "{2, 3, 4, 6}"
      ]
     },
     "execution_count": 3,
     "metadata": {},
     "output_type": "execute_result"
    }
   ],
   "source": [
    "def get_divisors(num):\n",
    "    divisors = set()\n",
    "    for mod in range(2, int(num ** 0.5) + 1):\n",
    "        if num % mod == 0:\n",
    "            divisors.add(mod)\n",
    "            divisors.add(num // mod)\n",
    "            \n",
    "    return divisors\n",
    "\n",
    "get_divisors(12)"
   ]
  },
  {
   "cell_type": "code",
   "execution_count": null,
   "metadata": {},
   "outputs": [],
   "source": [
    "def recur(num):\n",
    "    if dp[num] != -1:\n",
    "        return dp[num]\n",
    "    \n",
    "    is_other_win = True\n",
    "    for to_sub in get_divisors(num):\n",
    "        nnum = num - to_sub\n",
    "        \n",
    "        temp = recur(nnum)\n",
    "        \n",
    "        if not temp:\n",
    "            is_other_win = False\n",
    "            \n",
    "    is_win = not is_other_win\n",
    "    \n",
    "    dp[num] = is_win\n",
    "    return is_win\n",
    "\n",
    "dp = [-1] * 100000\n",
    "\n",
    "fv = ''\n",
    "for num in range(1, 10000):\n",
    "    if fv == recur(num):\n",
    "        print(num, recur(num))\n",
    "#     print(num, recur(num))\n",
    "    fv = recur(num)"
   ]
  },
  {
   "cell_type": "code",
   "execution_count": 54,
   "metadata": {},
   "outputs": [
    {
     "name": "stdout",
     "output_type": "stream",
     "text": [
      "5\n",
      "1\n",
      "Bob\n",
      "2\n",
      "Bob\n",
      "3\n",
      "Bob\n",
      "4\n",
      "Alice\n",
      "5\n",
      "Bob\n"
     ]
    }
   ],
   "source": [
    "import sys\n",
    "# input = lambda: sys.stdin.readline().rstrip()\n",
    "\n",
    "st = set()\n",
    "cur_w = 1\n",
    "while True:\n",
    "    num = 2 ** cur_w\n",
    "    if num > 1e9:\n",
    "        break\n",
    "        \n",
    "    st.add(num)\n",
    "    st.add(num + 1)\n",
    "        \n",
    "    cur_w += 2\n",
    "\n",
    "for _ in range(int(input())):\n",
    "    n = int(input())\n",
    "\n",
    "    if n in st:\n",
    "        print('Bob')\n",
    "    else:\n",
    "        if n % 2 == 0:\n",
    "            print('Alice')\n",
    "        else:\n",
    "            print('Bob')"
   ]
  },
  {
   "cell_type": "markdown",
   "metadata": {},
   "source": [
    "B"
   ]
  },
  {
   "cell_type": "code",
   "execution_count": 30,
   "metadata": {
    "scrolled": true
   },
   "outputs": [
    {
     "name": "stdout",
     "output_type": "stream",
     "text": [
      "2\n",
      "7\n",
      "2\n",
      "11\n",
      "3\n"
     ]
    }
   ],
   "source": [
    "from math import factorial as fact\n",
    "from itertools import product as prod\n",
    "\n",
    "li = []\n",
    "num = 1\n",
    "w = 1\n",
    "while True:\n",
    "    li.append(num)\n",
    "    w += 1\n",
    "    num *= 2\n",
    "    if num > 1e12:\n",
    "        break\n",
    "    \n",
    "facts = []\n",
    "cur = 4\n",
    "cumul = 6\n",
    "while True:\n",
    "    facts.append(cumul)\n",
    "    cumul *= cur\n",
    "    cur += 1\n",
    "    \n",
    "    if cumul > 1e12:\n",
    "        break\n",
    "    \n",
    "for _ in range(int(input())):\n",
    "    n = int(input())\n",
    "    \n",
    "    min_c = float('inf')\n",
    "    for case in prod(*[range(2)] * 12):\n",
    "        c = 0\n",
    "        cumul = 0\n",
    "        for i in range(12):\n",
    "            if case[i]:\n",
    "                c += 1\n",
    "                cumul += facts[i]\n",
    "\n",
    "        if cumul > n:\n",
    "            continue\n",
    "        cur_index = 39\n",
    "        while cumul < n:\n",
    "            ncumul = cumul + li[cur_index]\n",
    "            if ncumul <= n:\n",
    "                cumul = ncumul\n",
    "                c += 1\n",
    "            cur_index -= 1\n",
    "\n",
    "        min_c = min(min_c, c)\n",
    "\n",
    "    print(min_c)"
   ]
  },
  {
   "cell_type": "markdown",
   "metadata": {},
   "source": [
    "C"
   ]
  },
  {
   "cell_type": "code",
   "execution_count": null,
   "metadata": {},
   "outputs": [],
   "source": [
    "from collections import deque\n",
    "\n",
    "n, k = map(int, input().split())\n",
    "li = [set() for _ in range(n + 1)]\n",
    "for _ in range(n - 1):\n",
    "    a, b = map(int, input().split())\n",
    "    li[a].add(b)\n",
    "    li[b].add(a)\n",
    "\n",
    "deleted = set()\n",
    "queue = deque()\n",
    "for i in range(1, n + 1):\n",
    "    if len(li[i]) <= 1:\n",
    "        deleted.add(i)\n",
    "        queue.append(i)\n",
    "\n",
    "for _ in range(k - 1):\n",
    "    for _ in range(len(queue)):\n",
    "        value = queue.popleft()\n",
    "        \n",
    "        for v in li[value]:\n",
    "            if v in deleted:\n",
    "                continue\n",
    "            \n",
    "            li[v].discard(value)\n",
    "            if len(li[v]) <= 1:\n",
    "                queue.append(v)\n",
    "                deleted.add(value)\n",
    "                \n",
    "        if len(deleted) == n:\n",
    "            break\n",
    "\n",
    "print(n - len(deleted))"
   ]
  },
  {
   "cell_type": "markdown",
   "metadata": {},
   "source": [
    "D"
   ]
  },
  {
   "cell_type": "code",
   "execution_count": 3,
   "metadata": {},
   "outputs": [
    {
     "name": "stdout",
     "output_type": "stream",
     "text": [
      "1\n",
      "2 2 1\n",
      "No\n"
     ]
    }
   ],
   "source": [
    "import sys\n",
    "# input = lambda: sys.stdin.readline().rstrip()\n",
    "\n",
    "def p_facto(num):\n",
    "    c = 0\n",
    "    for mod in primes:\n",
    "        if mod >= num:\n",
    "            break\n",
    "        while num % mod == 0:\n",
    "            num //= mod\n",
    "            c += 1\n",
    "    \n",
    "    if num != 1:\n",
    "        c += 1\n",
    "        \n",
    "    return c\n",
    "\n",
    "max_num = 32000\n",
    "ip = [True] * (max_num + 1)\n",
    "ip[0] = ip[1] = False\n",
    "for mod in range(2, int(max_num ** 0.5) + 1):\n",
    "    if ip[mod]:\n",
    "        for v in range(mod * mod, max_num + 1, mod):\n",
    "            ip[v] = False\n",
    "            \n",
    "primes = [i for i, v in enumerate(ip) if v]\n",
    "\n",
    "for _ in range(int(input())):\n",
    "    a, b, k = map(int, input().split())\n",
    "    if a > b:\n",
    "        a, b = b, a\n",
    " \n",
    "    if b == 1:\n",
    "        print('No')\n",
    "    elif k == 1:\n",
    "        if a == b:\n",
    "            print('No')\n",
    "        elif b % a == 0:\n",
    "            print('Yes')\n",
    "        else:\n",
    "            print('No')\n",
    "    else:\n",
    "        value = p_facto(a) + p_facto(b)\n",
    " \n",
    "        if k <= value:\n",
    "            print('Yes')\n",
    "        else:\n",
    "            print('No')"
   ]
  }
 ],
 "metadata": {
  "kernelspec": {
   "display_name": "Python 3",
   "language": "python",
   "name": "python3"
  },
  "language_info": {
   "codemirror_mode": {
    "name": "ipython",
    "version": 3
   },
   "file_extension": ".py",
   "mimetype": "text/x-python",
   "name": "python",
   "nbconvert_exporter": "python",
   "pygments_lexer": "ipython3",
   "version": "3.7.4"
  }
 },
 "nbformat": 4,
 "nbformat_minor": 2
}
