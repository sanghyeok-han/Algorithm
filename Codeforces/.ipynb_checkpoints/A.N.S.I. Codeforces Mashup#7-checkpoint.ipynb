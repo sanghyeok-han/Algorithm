{
 "cells": [
  {
   "cell_type": "markdown",
   "metadata": {},
   "source": [
    "A"
   ]
  },
  {
   "cell_type": "code",
   "execution_count": null,
   "metadata": {
    "scrolled": true
   },
   "outputs": [],
   "source": [
    "from collections import defaultdict as dd\n",
    "import sys\n",
    "# input = lambda: sys.stdin.readline().rstrip()\n",
    "\n",
    "inf = float('inf')\n",
    "\n",
    "for _ in range(int(input())):\n",
    "    n, m = map(int, input().split())\n",
    "    a = list(map(int, input().split()))\n",
    "    b = list(map(int, input().split()))\n",
    "    c = list(map(int, input().split()))\n",
    "\n",
    "    ip = True\n",
    "    st_b = set(b)\n",
    "\n",
    "    if c[-1] not in st_b:\n",
    "        ip = False\n",
    "\n",
    "    if ip:\n",
    "        last_color = c[-1]\n",
    "        last_color_index = inf\n",
    "        is_last_diff = False\n",
    "        diffs = dd(list)\n",
    "        colors = dd(int)\n",
    "        for i in range(n):\n",
    "            colors[b[i]] = i\n",
    "            \n",
    "            if a[i] != b[i]:\n",
    "                diffs[b[i]].append(i)\n",
    "\n",
    "                if b[i] == last_color and not is_last_diff:\n",
    "                    is_last_diff = True\n",
    "                    last_color_index = i\n",
    "                    diffs[b[i]].pop()\n",
    "                continue\n",
    "            \n",
    "            if b[i] == last_color and last_color_index == inf:\n",
    "                last_color_index = i\n",
    "\n",
    "\n",
    "\n",
    "        r = []\n",
    "        for i in range(m - 1):\n",
    "            if c[i] not in st_b:\n",
    "                r.append(last_color_index)\n",
    "                continue\n",
    "\n",
    "            if diffs[c[i]]:\n",
    "                r.append(diffs[c[i]].pop())\n",
    "            else:\n",
    "                r.append(colors[c[i]])\n",
    "\n",
    "        r.append(last_color_index)\n",
    "\n",
    "        for key in diffs:\n",
    "            if diffs[key]:\n",
    "                ip = False\n",
    "                break\n",
    "                \n",
    "        r = [v + 1 for v in r]\n",
    "\n",
    "        \n",
    "    if not ip:\n",
    "        print('NO')\n",
    "    else:\n",
    "        print('YES')\n",
    "        print(*r)"
   ]
  },
  {
   "cell_type": "markdown",
   "metadata": {},
   "source": [
    "B"
   ]
  },
  {
   "cell_type": "code",
   "execution_count": 6,
   "metadata": {},
   "outputs": [
    {
     "name": "stdout",
     "output_type": "stream",
     "text": [
      "319\n",
      "10 53 256\n",
      "182 103 34\n",
      "119 226\n"
     ]
    }
   ],
   "source": [
    "n = int(input())\n",
    "or1, os1, op1 = map(int, input().split())\n",
    "or2, os2, op2 = map(int, input().split())\n",
    "\n",
    "def ts(mid):\n",
    "    r1, s1, p1 = or1, os1, op1\n",
    "    r2, s2, p2 = or2, os2, op2\n",
    "    \n",
    "    min_win = 0\n",
    "    \n",
    "    r1 -= mid\n",
    "    r2 -= mid\n",
    "    \n",
    "    temp = min(r1, p2)\n",
    "    r1 -= temp\n",
    "    p2 -= temp\n",
    "    \n",
    "    min_win += r1\n",
    "    s2 -= r1\n",
    "    r1 = 0\n",
    "    \n",
    "    temp = min(s1, r2)\n",
    "    s1 -= temp\n",
    "    r2 -= temp\n",
    "    \n",
    "    min_win += r2\n",
    "    p1 -= r2\n",
    "    r2 = 0\n",
    "    \n",
    "    temp = min(p1, p2)\n",
    "    p1 -= temp\n",
    "    p2 -= temp\n",
    "    \n",
    "    min_win += p2\n",
    "    s1 -= p2\n",
    "    p2 = 0\n",
    "    \n",
    "    return min_win  \n",
    "\n",
    "start = 0\n",
    "end = min(or1, or2)\n",
    "result1 = float('inf')\n",
    "while start <= end:\n",
    "    mid1 = (start * 2 + end) // 3\n",
    "    mid2 = (start + end * 2) // 3\n",
    "    \n",
    "    t1 = ts(mid1)\n",
    "    t2 = ts(mid2)\n",
    "    \n",
    "    result1 = min(result1, t1, t2)\n",
    "    \n",
    "    if end - start <= 5:\n",
    "        for mid in range(start, end + 1):\n",
    "            result1 = min(result1, ts(mid))\n",
    "        break\n",
    "    \n",
    "    if t1 >= t2:\n",
    "        start = mid1\n",
    "    else:\n",
    "        end = mid2\n",
    "\n",
    "result2 = min(or1, os2) + min(op1, or2) + min(os1, op2)\n",
    "\n",
    "print(result1, result2)"
   ]
  },
  {
   "cell_type": "markdown",
   "metadata": {},
   "source": [
    "C"
   ]
  },
  {
   "cell_type": "code",
   "execution_count": 35,
   "metadata": {
    "scrolled": true
   },
   "outputs": [
    {
     "name": "stdout",
     "output_type": "stream",
     "text": [
      "1\n",
      "1 1\n",
      "1\n",
      "[1]\n",
      "1\n",
      "1\n"
     ]
    }
   ],
   "source": [
    "from collections import Counter\n",
    "import sys\n",
    "# input = lambda: sys.stdin.readline().rstrip()\n",
    "\n",
    "for _ in range(int(input())):\n",
    "    n, k = map(int, input().split())\n",
    "    li = list(map(int, input().split()))\n",
    "\n",
    "    ct = Counter(li)\n",
    "    ip = True\n",
    "    if len(ct) > k:\n",
    "        ip = False\n",
    "\n",
    "    if not ip:\n",
    "        print(-1)\n",
    "    else:\n",
    "        iterred = list(ct.keys())\n",
    "        iterred += list(range(1, k - len(iterred) + 1))\n",
    "        \n",
    "        r = iterred * n\n",
    "\n",
    "        print(len(r))\n",
    "        print(*r)"
   ]
  },
  {
   "cell_type": "markdown",
   "metadata": {},
   "source": [
    "D"
   ]
  },
  {
   "cell_type": "code",
   "execution_count": 39,
   "metadata": {},
   "outputs": [
    {
     "name": "stdout",
     "output_type": "stream",
     "text": [
      "8\n",
      "01010000\n",
      "4\n",
      "1 1 1 1 1 2 3 4\n"
     ]
    }
   ],
   "source": [
    "import sys\n",
    "input = lambda: sys.stdin.readline().rstrip()\n",
    "\n",
    "for _ in range(int(input())):\n",
    "    n = int(input())\n",
    "    li = list(map(int, input()))\n",
    "\n",
    "    waits = [set(), set()]\n",
    "    nxt_num = 1\n",
    "    r = []\n",
    "    for v in li:\n",
    "        if not waits[v]:\n",
    "            waits[v ^ 1].add(nxt_num)\n",
    "            r.append(nxt_num)\n",
    "            nxt_num += 1\n",
    "        else:\n",
    "            temp = waits[v].pop()\n",
    "            r.append(temp)\n",
    "            waits[v ^ 1].add(temp)\n",
    "\n",
    "    print(nxt_num - 1)\n",
    "    print(*r)"
   ]
  },
  {
   "cell_type": "code",
   "execution_count": null,
   "metadata": {},
   "outputs": [],
   "source": [
    "import sys\n",
    "input = lambda: sys.stdin.readline().rstrip()\n",
    "\n",
    "for _ in range(int(input())):\n",
    "    n = int(input())\n",
    "    li = list(map(int, input()))\n",
    "\n",
    "    a_open = 0\n",
    "    b_open = 0\n",
    "    ip = True\n",
    "    for v in li:\n",
    "        if v:\n",
    "            a_open += 1\n",
    "            b_open += 1\n",
    "        else:\n",
    "            if a_open > b_open:\n",
    "                b_open += 1\n",
    "                a_open -= 1\n",
    "            else:\n",
    "                a_open += 1\n",
    "                b_open -= 1\n",
    "\n",
    "            if a_open < 0 or b_open < 0:\n",
    "                ip = False\n",
    "                break\n",
    "\n",
    "    if a_open != b_open or a_open % 2 == 1:\n",
    "        ip = False\n",
    "\n",
    "    if not ip:\n",
    "        print('NO')\n",
    "    else:\n",
    "        a_open //= 2\n",
    "        c = 0\n",
    "        close_started = -1\n",
    "        for i in range(n - 1, -1, -1):\n",
    "            if li[i]:\n",
    "                c += 1\n",
    "\n",
    "            if c == a_open:\n",
    "                close_started = i\n",
    "                break\n",
    "\n",
    "        if close_started == -1:\n",
    "            print('NO')\n",
    "        else:\n",
    "            a_open = 0\n",
    "            b_open = 0\n",
    "            a = []\n",
    "            b = []\n",
    "            ip = True\n",
    "            for i in range(n):\n",
    "                if li[i]:\n",
    "                    if i < close_started:\n",
    "                        a_open += 1\n",
    "                        b_open += 1\n",
    "                        a.append('(')\n",
    "                        b.append('(')\n",
    "                    else:\n",
    "                        a_open -= 1\n",
    "                        b_open -= 1\n",
    "                        a.append(')')\n",
    "                        b.append(')')\n",
    "                else:\n",
    "                    if a_open > b_open:\n",
    "                        b_open += 1\n",
    "                        a_open -= 1\n",
    "                        a.append('(')\n",
    "                        b.append(')')\n",
    "                    else:\n",
    "                        a_open += 1\n",
    "                        b_open -= 1\n",
    "                        b.append('(')\n",
    "                        a.append(')')\n",
    "\n",
    "                if a_open < 0 or b_open < 0:\n",
    "                    ip = False\n",
    "                    break\n",
    "\n",
    "            if not ip:\n",
    "                print('NO')\n",
    "            else:\n",
    "                print('YES')\n",
    "                print(''.join(a))\n",
    "                print(''.join(b))"
   ]
  },
  {
   "cell_type": "markdown",
   "metadata": {},
   "source": [
    "F"
   ]
  },
  {
   "cell_type": "code",
   "execution_count": 71,
   "metadata": {},
   "outputs": [
    {
     "name": "stdout",
     "output_type": "stream",
     "text": [
      "3\n",
      "1 3 2\n",
      "1\n"
     ]
    }
   ],
   "source": [
    "n = int(input())\n",
    "li = sorted(map(int, input().split()))\n",
    "\n",
    "def get_value(w):\n",
    "    sv = 0\n",
    "    cur = 1\n",
    "    for i in range(n):\n",
    "        sv += abs(li[i] - cur)\n",
    "        cur *= w\n",
    "    return sv\n",
    "\n",
    "start = 1\n",
    "\n",
    "end = 1\n",
    "cri = int(1e11)\n",
    "while True:\n",
    "    if end ** (n - 1) >= cri:\n",
    "        break\n",
    "    end += 1\n",
    "    \n",
    "result = float('inf')\n",
    "while start <= end:\n",
    "    mid1 = (start * 2 + end) // 3\n",
    "    mid2 = (start + end * 2) // 3\n",
    "    \n",
    "    t1 = get_value(mid1)\n",
    "    t2 = get_value(mid2)    \n",
    "    \n",
    "    result = min(result, t1, t2)\n",
    "\n",
    "    if end - start <= 5:\n",
    "        for mid in range(start, end + 1):\n",
    "            result = min(result, get_value(mid))\n",
    "        break    \n",
    "    \n",
    "    if t1 >= t2:\n",
    "        start = mid1\n",
    "    else:\n",
    "        end = mid2\n",
    "        \n",
    "print(result)"
   ]
  },
  {
   "cell_type": "markdown",
   "metadata": {},
   "source": [
    "G"
   ]
  },
  {
   "cell_type": "code",
   "execution_count": 9,
   "metadata": {},
   "outputs": [
    {
     "name": "stdout",
     "output_type": "stream",
     "text": [
      "5 4\n",
      "-----\n",
      "4 5\n",
      "4\n",
      "3 5\n",
      "3\n",
      "2 5\n",
      "2\n",
      "1 5\n",
      "1\n"
     ]
    }
   ],
   "source": [
    "import sys\n",
    "input = lambda: sys.stdin.readline().rstrip()\n",
    "\n",
    "for _ in range(int(input())):\n",
    "    n, m = map(int, input().split())\n",
    "    s = input()\n",
    "\n",
    "    range_ls =  [[0] * 2 for _ in range(n)]\n",
    "    cur = 0\n",
    "    cur_min = 0\n",
    "    cur_max = 0\n",
    "    curs = []\n",
    "    for i in range(n):\n",
    "        if s[i] == '-':\n",
    "            cur -= 1\n",
    "            cur_min = min(cur_min, cur)\n",
    "        else:\n",
    "            cur += 1\n",
    "            cur_max = max(cur_max, cur)\n",
    "\n",
    "        range_ls[i][0] = cur_min\n",
    "        range_ls[i][1] = cur_max\n",
    "        curs.append(cur)\n",
    "\n",
    "    range_rs = [[0] * 2 for _ in range(n)]\n",
    "    cur = 0\n",
    "    cur_min = 0\n",
    "    cur_max = 0\n",
    "    for i in range(n - 1, - 1, -1):\n",
    "        if s[i] == '-':\n",
    "            cur -= 1\n",
    "            cur_min = min(cur_min, cur)\n",
    "        else:\n",
    "            cur += 1\n",
    "            cur_max = max(cur_max, cur)\n",
    "\n",
    "        range_rs[i][0] = -cur_max\n",
    "        range_rs[i][1] = -cur_min\n",
    "\n",
    "    for _ in range(m):\n",
    "        l, r = map(int, input().split())\n",
    "        l -= 1\n",
    "        r -= 1\n",
    "\n",
    "        if l == 0 and r == n - 1:\n",
    "            result = 1\n",
    "        elif r == n - 1:\n",
    "            l -= 1\n",
    "            result = range_ls[l][1] - range_ls[l][0] + 1\n",
    "        elif l == 0:\n",
    "            r += 1\n",
    "            result = range_rs[r][1] - range_rs[r][0] + 1\n",
    "        else:\n",
    "            l -= 1\n",
    "            r += 1\n",
    "\n",
    "            cur_min = range_ls[l][0]\n",
    "            cur_max = range_ls[l][1]\n",
    "\n",
    "            t1 = range_rs[r][0] + curs[l] + curs[n - 1] - curs[r - 1]\n",
    "            t2 = range_rs[r][1] + curs[l] + curs[n - 1] - curs[r - 1]\n",
    "\n",
    "            cur_min = min(cur_min, t1, t2)\n",
    "            cur_max = max(cur_max, t1, t2)\n",
    "\n",
    "            result = cur_max - cur_min + 1\n",
    "\n",
    "        print(result)"
   ]
  },
  {
   "cell_type": "code",
   "execution_count": 85,
   "metadata": {},
   "outputs": [
    {
     "data": {
      "text/plain": [
       "-1"
      ]
     },
     "execution_count": 85,
     "metadata": {},
     "output_type": "execute_result"
    }
   ],
   "source": [
    "curs[l]"
   ]
  },
  {
   "cell_type": "code",
   "execution_count": 86,
   "metadata": {},
   "outputs": [
    {
     "data": {
      "text/plain": [
       "(-1, 1)"
      ]
     },
     "execution_count": 86,
     "metadata": {},
     "output_type": "execute_result"
    }
   ],
   "source": [
    "range_rs[r][0], range_rs[r][1]"
   ]
  },
  {
   "cell_type": "code",
   "execution_count": null,
   "metadata": {},
   "outputs": [],
   "source": [
    "-+--+--+\n",
    "\n",
    "---+\n",
    "\n",
    "0 -1 -2 -3 -1"
   ]
  },
  {
   "cell_type": "code",
   "execution_count": 81,
   "metadata": {},
   "outputs": [
    {
     "data": {
      "text/plain": [
       "[[-1, 0], [-1, 0], [-1, 0], [-2, 0], [-2, 0], [-2, 0], [-3, 0], [-3, 0]]"
      ]
     },
     "execution_count": 81,
     "metadata": {},
     "output_type": "execute_result"
    }
   ],
   "source": [
    "range_ls"
   ]
  },
  {
   "cell_type": "code",
   "execution_count": 83,
   "metadata": {},
   "outputs": [
    {
     "data": {
      "text/plain": [
       "[[-1, 2], [-1, 2], [-1, 2], [-1, 1], [-1, 1], [-1, 1], [-1, 0], [-1, 0]]"
      ]
     },
     "execution_count": 83,
     "metadata": {},
     "output_type": "execute_result"
    }
   ],
   "source": [
    "range_rs"
   ]
  },
  {
   "cell_type": "code",
   "execution_count": null,
   "metadata": {},
   "outputs": [],
   "source": []
  }
 ],
 "metadata": {
  "kernelspec": {
   "display_name": "Python 3",
   "language": "python",
   "name": "python3"
  },
  "language_info": {
   "codemirror_mode": {
    "name": "ipython",
    "version": 3
   },
   "file_extension": ".py",
   "mimetype": "text/x-python",
   "name": "python",
   "nbconvert_exporter": "python",
   "pygments_lexer": "ipython3",
   "version": "3.7.4"
  }
 },
 "nbformat": 4,
 "nbformat_minor": 2
}
