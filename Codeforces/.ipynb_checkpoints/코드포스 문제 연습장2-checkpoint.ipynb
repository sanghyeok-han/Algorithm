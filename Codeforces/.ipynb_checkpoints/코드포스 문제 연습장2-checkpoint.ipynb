{
 "cells": [
  {
   "cell_type": "code",
   "execution_count": 1,
   "metadata": {},
   "outputs": [],
   "source": [
    "ip = lambda: input()\n",
    "iip = lambda: int(input())\n",
    "miip = lambda: map(int, input().split())\n",
    "liip = lambda: list(map(int, input().split()))\n",
    "sip = lambda: input().split() # splitted input\n",
    "lip = lambda: list(input())"
   ]
  },
  {
   "cell_type": "markdown",
   "metadata": {},
   "source": [
    "https://codeforces.com/problemset/problem/339/A"
   ]
  },
  {
   "cell_type": "code",
   "execution_count": 2,
   "metadata": {},
   "outputs": [
    {
     "name": "stdout",
     "output_type": "stream",
     "text": [
      "3+2+1\n",
      "1+2+3\n"
     ]
    }
   ],
   "source": [
    "s = input()\n",
    "\n",
    "li = s.split('+')\n",
    "li.sort()\n",
    "\n",
    "print('+'.join(li))"
   ]
  },
  {
   "cell_type": "markdown",
   "metadata": {},
   "source": [
    "https://codeforces.com/problemset/problem/281/A"
   ]
  },
  {
   "cell_type": "code",
   "execution_count": 4,
   "metadata": {},
   "outputs": [
    {
     "name": "stdout",
     "output_type": "stream",
     "text": [
      "ApPLe\n",
      "ApPLe\n"
     ]
    }
   ],
   "source": [
    "s = list(input())\n",
    "s[0] = s[0].upper()\n",
    "s = ''.join(s)\n",
    "print(s)"
   ]
  },
  {
   "cell_type": "markdown",
   "metadata": {},
   "source": [
    "https://codeforces.com/problemset/problem/266/A"
   ]
  },
  {
   "cell_type": "code",
   "execution_count": 8,
   "metadata": {},
   "outputs": [
    {
     "name": "stdout",
     "output_type": "stream",
     "text": [
      "4\n",
      "BBRERR\n",
      "2\n"
     ]
    }
   ],
   "source": [
    "n = int(input())\n",
    "s = input()\n",
    "\n",
    "f = ''\n",
    "c = 0\n",
    "for v in s:\n",
    "    if v == f:\n",
    "        c += 1\n",
    "    f = v\n",
    "    \n",
    "print(c)"
   ]
  },
  {
   "cell_type": "markdown",
   "metadata": {},
   "source": [
    "https://codeforces.com/problemset/problem/58/A"
   ]
  },
  {
   "cell_type": "code",
   "execution_count": 14,
   "metadata": {},
   "outputs": [
    {
     "name": "stdout",
     "output_type": "stream",
     "text": [
      "ahhellllloou\n",
      "YES\n"
     ]
    }
   ],
   "source": [
    "def check(s):\n",
    "    word = 'hello'\n",
    "    cur_check = 0\n",
    "\n",
    "    for v in s:\n",
    "        if v == word[cur_check]:\n",
    "            cur_check += 1\n",
    "            if cur_check == 5:\n",
    "                return True\n",
    "    return False\n",
    "     \n",
    "s = input()\n",
    "\n",
    "if check(s):\n",
    "    print('YES')\n",
    "else:\n",
    "    print('NO')"
   ]
  },
  {
   "cell_type": "markdown",
   "metadata": {},
   "source": [
    "https://codeforces.com/problemset/problem/122/A"
   ]
  },
  {
   "cell_type": "code",
   "execution_count": 17,
   "metadata": {},
   "outputs": [
    {
     "name": "stdout",
     "output_type": "stream",
     "text": [
      "16\n",
      "YES\n"
     ]
    }
   ],
   "source": [
    "to_check = [4, 7, 44, 47, 74, 77, 444, 447, 474, 477, 744, 747, 774, 777]\n",
    "\n",
    "n = int(input())\n",
    "\n",
    "r = 'NO'\n",
    "for v in to_check:\n",
    "    if n % v == 0:\n",
    "        r = 'YES'\n",
    "        break\n",
    "        \n",
    "print(r)"
   ]
  },
  {
   "cell_type": "markdown",
   "metadata": {},
   "source": [
    "https://codeforces.com/problemset/problem/479/A"
   ]
  },
  {
   "cell_type": "code",
   "execution_count": 19,
   "metadata": {},
   "outputs": [
    {
     "name": "stdout",
     "output_type": "stream",
     "text": [
      "2\n",
      "10\n",
      "3\n",
      "60\n"
     ]
    }
   ],
   "source": [
    "a = int(input())\n",
    "b = int(input())\n",
    "c = int(input())\n",
    "\n",
    "t1 = a + b + c\n",
    "t2 = a * b + c\n",
    "t3 = a + b * c\n",
    "t4 = a * b * c\n",
    "t5 = (a + b) * c\n",
    "t6 = a * (b + c)\n",
    "\n",
    "print(max(t1, t2, t3, t4, t5, t6))"
   ]
  },
  {
   "cell_type": "markdown",
   "metadata": {},
   "source": [
    "https://codeforces.com/problemset/problem/131/A"
   ]
  },
  {
   "cell_type": "code",
   "execution_count": 21,
   "metadata": {},
   "outputs": [
    {
     "name": "stdout",
     "output_type": "stream",
     "text": [
      "cAPS\n",
      "Caps\n"
     ]
    }
   ],
   "source": [
    "s = input()\n",
    "\n",
    "if s.upper() == s:\n",
    "    print(s.lower())\n",
    "elif s[1:] == s[1:].upper():\n",
    "    temp = s[0].upper() + s[1:].lower()\n",
    "    print(temp)\n",
    "else:\n",
    "    print(s)"
   ]
  },
  {
   "cell_type": "markdown",
   "metadata": {},
   "source": [
    "https://codeforces.com/problemset/problem/230/B"
   ]
  },
  {
   "cell_type": "code",
   "execution_count": 25,
   "metadata": {},
   "outputs": [
    {
     "name": "stdout",
     "output_type": "stream",
     "text": [
      "3\n",
      "4 5 6\n",
      "YES\n",
      "NO\n",
      "NO\n"
     ]
    }
   ],
   "source": [
    "max_num = 10**6\n",
    "\n",
    "ip = [True] * (max_num + 1)\n",
    "ip[0] = ip[1] = False\n",
    "\n",
    "for mod in range(2, int(max_num ** 0.5) + 1):\n",
    "    if ip[mod]:\n",
    "        for v in range(mod * mod, max_num + 1, mod):\n",
    "            ip[v] = False\n",
    "            \n",
    "n = int(input())\n",
    "li = list(map(int, input().split()))\n",
    "for num in li:\n",
    "    temp = round(num ** 0.5, 7)\n",
    "    if temp != int(temp):\n",
    "        print('NO')\n",
    "        continue\n",
    "    \n",
    "    if ip[int(temp)]:\n",
    "        print('YES')\n",
    "    else:\n",
    "        print('NO')"
   ]
  },
  {
   "cell_type": "markdown",
   "metadata": {},
   "source": [
    "https://codeforces.com/problemset/problem/1603/B"
   ]
  },
  {
   "cell_type": "code",
   "execution_count": 143,
   "metadata": {},
   "outputs": [
    {
     "name": "stdout",
     "output_type": "stream",
     "text": [
      "1\n",
      "4 8\n",
      "4\n"
     ]
    }
   ],
   "source": [
    "for _ in range(int(input())):\n",
    "    x, y = map(int, input().split())\n",
    "    \n",
    "    if x > y:\n",
    "        print(x + y)\n",
    "    elif x == y:\n",
    "        print(x)\n",
    "    elif y % x == 0:\n",
    "        print(x)\n",
    "    elif y // x <= 2:\n",
    "        print(x + (y - x) // 2)\n",
    "    else:\n",
    "        print(y - (y - (y - y % x)) // 2)"
   ]
  },
  {
   "cell_type": "code",
   "execution_count": 141,
   "metadata": {},
   "outputs": [
    {
     "data": {
      "text/plain": [
       "(42068, 42068)"
      ]
     },
     "execution_count": 141,
     "metadata": {},
     "output_type": "execute_result"
    }
   ],
   "source": [
    "111488 % x, y % 111488"
   ]
  },
  {
   "cell_type": "code",
   "execution_count": null,
   "metadata": {},
   "outputs": [],
   "source": [
    "for _ in ragne()"
   ]
  },
  {
   "cell_type": "code",
   "execution_count": 139,
   "metadata": {},
   "outputs": [
    {
     "name": "stdout",
     "output_type": "stream",
     "text": [
      "69420 42068\n"
     ]
    }
   ],
   "source": [
    "x, y = map(int, input().split())"
   ]
  },
  {
   "cell_type": "code",
   "execution_count": 126,
   "metadata": {
    "scrolled": true
   },
   "outputs": [
    {
     "name": "stdout",
     "output_type": "stream",
     "text": [
      "1 1 0\n",
      "2 2 0\n",
      "3 3 2\n",
      "4 4 2\n",
      "5 5 3\n",
      "6 6 2\n",
      "7 7 3\n",
      "8 8 6\n",
      "9 9 2\n",
      "10 0 8\n",
      "11 1 5\n",
      "12 2 2\n",
      "13 3 12\n",
      "14 4 10\n",
      "15 5 8\n",
      "16 6 6\n",
      "17 7 4\n",
      "18 8 2\n",
      "19 9 0\n",
      "20 0 18\n",
      "21 1 17\n",
      "22 2 16\n",
      "23 3 15\n",
      "24 4 14\n",
      "25 5 13\n",
      "26 6 12\n",
      "27 7 11\n",
      "28 8 10\n",
      "29 9 9\n",
      "30 0 8\n",
      "31 1 7\n",
      "32 2 6\n",
      "33 3 5\n",
      "34 4 4\n",
      "35 5 3\n",
      "36 6 2\n",
      "37 7 1\n",
      "38 8 0\n",
      "39 9 38\n",
      "40 0 38\n",
      "41 1 38\n",
      "42 2 38\n",
      "43 3 38\n",
      "44 4 38\n",
      "45 5 38\n",
      "46 6 38\n",
      "47 7 38\n",
      "48 8 38\n",
      "49 9 38\n",
      "[12, 16, 29, 34]\n"
     ]
    }
   ],
   "source": [
    "ans = []\n",
    "for n in range(1, 50):\n",
    "    if n % x == y % n:\n",
    "        ans.append(n)\n",
    "    print(n, n % x, y % n)\n",
    "    \n",
    "print(ans)"
   ]
  },
  {
   "cell_type": "code",
   "execution_count": null,
   "metadata": {},
   "outputs": [],
   "source": [
    "y - (n이 y일 때의 n % x)"
   ]
  },
  {
   "cell_type": "code",
   "execution_count": 131,
   "metadata": {},
   "outputs": [
    {
     "data": {
      "text/plain": [
       "(30, 38)"
      ]
     },
     "execution_count": 131,
     "metadata": {},
     "output_type": "execute_result"
    }
   ],
   "source": [
    "y - y % x, y"
   ]
  },
  {
   "cell_type": "code",
   "execution_count": 135,
   "metadata": {},
   "outputs": [
    {
     "data": {
      "text/plain": [
       "34"
      ]
     },
     "execution_count": 135,
     "metadata": {},
     "output_type": "execute_result"
    }
   ],
   "source": [
    "y - (y - (y - y % x)) // 2"
   ]
  },
  {
   "cell_type": "code",
   "execution_count": null,
   "metadata": {},
   "outputs": [],
   "source": [
    "y + y - (y - y % x)"
   ]
  },
  {
   "cell_type": "code",
   "execution_count": null,
   "metadata": {},
   "outputs": [],
   "source": [
    "y+y-y+y % x"
   ]
  },
  {
   "cell_type": "code",
   "execution_count": 130,
   "metadata": {},
   "outputs": [
    {
     "data": {
      "text/plain": [
       "46"
      ]
     },
     "execution_count": 130,
     "metadata": {},
     "output_type": "execute_result"
    }
   ],
   "source": [
    "y+y % x"
   ]
  },
  {
   "cell_type": "code",
   "execution_count": 127,
   "metadata": {},
   "outputs": [
    {
     "data": {
      "text/plain": [
       "20"
      ]
     },
     "execution_count": 127,
     "metadata": {},
     "output_type": "execute_result"
    }
   ],
   "source": [
    "y // 2 + 1"
   ]
  },
  {
   "cell_type": "code",
   "execution_count": null,
   "metadata": {},
   "outputs": [],
   "source": [
    "n이 y이면 y % n은 0이 됨\n",
    "\n",
    "n이 y - 1이면 y % n은 1이됨\n",
    "\n",
    "n이 y // 2 + 1이면 y % n은 y // 2 - 1이됨\n",
    "\n",
    "답은 y // 2 + 1과 y의 사이\n",
    "\n",
    "답은 "
   ]
  },
  {
   "cell_type": "code",
   "execution_count": null,
   "metadata": {},
   "outputs": [],
   "source": [
    "답은 x와 y의 사이가 될 수밖에 없음"
   ]
  },
  {
   "cell_type": "code",
   "execution_count": null,
   "metadata": {},
   "outputs": [],
   "source": [
    "10 22 16\n",
    "10 24 17\n",
    "10 26 12"
   ]
  },
  {
   "cell_type": "code",
   "execution_count": null,
   "metadata": {},
   "outputs": [],
   "source": [
    "y % n은 n의 값이 y보다 크면 n으로 고정됨\n",
    "n % x의 값의 최대는 x - 1이 됨"
   ]
  },
  {
   "cell_type": "markdown",
   "metadata": {},
   "source": [
    "https://codeforces.com/problemset/problem/236/A"
   ]
  },
  {
   "cell_type": "code",
   "execution_count": 4,
   "metadata": {},
   "outputs": [
    {
     "name": "stdout",
     "output_type": "stream",
     "text": [
      "xiaodao\n",
      "IGNORE HIM!\n"
     ]
    }
   ],
   "source": [
    "s = input()\n",
    "\n",
    "st = set(s)\n",
    "if len(st) % 2 == 1:\n",
    "    print('IGNORE HIM!')\n",
    "else:\n",
    "    print('CHAT WITH HER!')"
   ]
  },
  {
   "cell_type": "markdown",
   "metadata": {},
   "source": [
    "https://codeforces.com/problemset/problem/189/A"
   ]
  },
  {
   "cell_type": "code",
   "execution_count": 12,
   "metadata": {},
   "outputs": [
    {
     "name": "stdout",
     "output_type": "stream",
     "text": [
      "7 5 5 2\n",
      "2\n"
     ]
    }
   ],
   "source": [
    "n, a, b, c = map(int, input().split())\n",
    "\n",
    "dp = [0] * 4001\n",
    "\n",
    "for i in range(a, 4001):\n",
    "    if i - a == 0 or dp[i - a] >= 1:\n",
    "        dp[i] = max(dp[i - a] + 1, dp[i])\n",
    "    \n",
    "for i in range(b, 4001):\n",
    "    if i - b == 0 or dp[i - b] >= 1:\n",
    "        dp[i] = max(dp[i - b] + 1, dp[i])\n",
    "\n",
    "for i in range(c, 4001):\n",
    "    if i - c == 0 or dp[i - c] >= 1:\n",
    "        dp[i] = max(dp[i - c] + 1, dp[i])\n",
    "        \n",
    "print(dp[n])"
   ]
  },
  {
   "cell_type": "markdown",
   "metadata": {},
   "source": [
    "https://codeforces.com/problemset/problem/451/B"
   ]
  },
  {
   "cell_type": "code",
   "execution_count": 17,
   "metadata": {},
   "outputs": [
    {
     "name": "stdout",
     "output_type": "stream",
     "text": [
      "2\n",
      "1 2\n",
      "yes\n",
      "1 1\n"
     ]
    }
   ],
   "source": [
    "n = int(input())\n",
    "li = list(map(int, input().split()))\n",
    "\n",
    "sorted_li = sorted(li)\n",
    "start = -1\n",
    "end = -1\n",
    "for i in range(n):\n",
    "    if li[i] != sorted_li[i]:\n",
    "        if start == -1:\n",
    "            start = i\n",
    "        else:\n",
    "            end = i\n",
    "            \n",
    "if start != -1:\n",
    "    li[start:end + 1] = reversed(li[start:end + 1])\n",
    "    \n",
    "    if li != sorted_li:\n",
    "        print('no')\n",
    "    else:\n",
    "        print('yes')\n",
    "        print(start + 1, end + 1)\n",
    "else:\n",
    "    print('yes')\n",
    "    print(1, 1)"
   ]
  },
  {
   "cell_type": "markdown",
   "metadata": {},
   "source": [
    "https://codeforces.com/problemset/problem/455/A"
   ]
  },
  {
   "cell_type": "code",
   "execution_count": 26,
   "metadata": {},
   "outputs": [
    {
     "name": "stdout",
     "output_type": "stream",
     "text": [
      "3\n",
      "1 2 3\n",
      "4\n"
     ]
    }
   ],
   "source": [
    "n = int(input())\n",
    "li = list(map(int, input().split()))\n",
    "\n",
    "counts = [0] * 100001\n",
    "for v in li:\n",
    "    counts[v] += 1\n",
    "\n",
    "dp = [[0] * 2 for _ in range(100001)] # dp[num] = [used case score, unused case score]\n",
    "\n",
    "for i in range(1, 100001):\n",
    "    dp[i][0] = dp[i - 1][1] + counts[i] * i\n",
    "    dp[i][1] = max(dp[i - 1])\n",
    "    \n",
    "print(max(dp[-1]))"
   ]
  },
  {
   "cell_type": "markdown",
   "metadata": {},
   "source": [
    "https://codeforces.com/problemset/problem/550/A"
   ]
  },
  {
   "cell_type": "code",
   "execution_count": 38,
   "metadata": {},
   "outputs": [
    {
     "name": "stdout",
     "output_type": "stream",
     "text": [
      "AXBYBXA\n",
      "NO\n"
     ]
    }
   ],
   "source": [
    "s = input()\n",
    "\n",
    "def check():\n",
    "    try:\n",
    "        t1 = s.index(\"AB\")\n",
    "    except:\n",
    "        t1 = -1\n",
    "\n",
    "    try:\n",
    "        t2 = s.rindex(\"BA\")\n",
    "    except:\n",
    "        t2 = -1\n",
    "\n",
    "    if t1 != -1 and t2 != -1 and t1 + 1 < t2:\n",
    "        return True\n",
    "    \n",
    "    try:\n",
    "        t3 = s.index(\"BA\")\n",
    "    except:\n",
    "        t3 = -1\n",
    "\n",
    "    try:\n",
    "        t4 = s.rindex(\"AB\")\n",
    "    except:\n",
    "        t4 = -1\n",
    "\n",
    "    if t3 != -1 and t4 != -1 and t3 + 1 < t4:\n",
    "        return True\n",
    "    \n",
    "    return False\n",
    "\n",
    "if check():\n",
    "    print('YES')\n",
    "else:\n",
    "    print('NO')"
   ]
  },
  {
   "cell_type": "markdown",
   "metadata": {},
   "source": [
    "https://codeforces.com/problemset/problem/1574/A"
   ]
  },
  {
   "cell_type": "code",
   "execution_count": 12,
   "metadata": {},
   "outputs": [
    {
     "name": "stdout",
     "output_type": "stream",
     "text": [
      "4\n",
      "()()()()\n",
      "(())()()\n",
      "()(())()\n",
      "()()(())\n"
     ]
    }
   ],
   "source": [
    "n = int(input())\n",
    "print('()' * n)\n",
    "\n",
    "temp = ['(', ')'] * (n - 1)\n",
    "\n",
    "c = n - 1\n",
    "for i in range(1, n * 2, 2):\n",
    "    if c == 0:\n",
    "        break\n",
    "    \n",
    "    ntemp = temp.copy()\n",
    "    \n",
    "    ntemp.insert(i, ')')\n",
    "    ntemp.insert(i, '(')\n",
    "    \n",
    "    print(''.join(ntemp))\n",
    "    \n",
    "    c -= 1"
   ]
  },
  {
   "cell_type": "code",
   "execution_count": null,
   "metadata": {},
   "outputs": [],
   "source": [
    "for _ in range(int(input())):\n",
    "    n = int(input())\n",
    "    print('()' * n)\n",
    "\n",
    "    temp = ['(', ')'] * (n - 1)\n",
    "\n",
    "    c = n - 1\n",
    "    for i in range(1, n * 2, 2):\n",
    "        if c == 0:\n",
    "            break\n",
    "\n",
    "        ntemp = temp.copy()\n",
    "\n",
    "        ntemp.insert(i, ')')\n",
    "        ntemp.insert(i, '(')\n",
    "\n",
    "        print(''.join(ntemp))\n",
    "\n",
    "        c -= 1"
   ]
  },
  {
   "cell_type": "code",
   "execution_count": 14,
   "metadata": {},
   "outputs": [
    {
     "name": "stdout",
     "output_type": "stream",
     "text": [
      "4\n",
      "()()()()\n",
      "(())()()\n",
      "((()))()\n"
     ]
    }
   ],
   "source": [
    "n = int(input())\n",
    "\n",
    "for i in range(1, n):\n",
    "    t = '(' * i + ')' * i + '()' * (n - i)\n",
    "    print(t)"
   ]
  },
  {
   "cell_type": "code",
   "execution_count": 17,
   "metadata": {},
   "outputs": [
    {
     "name": "stdout",
     "output_type": "stream",
     "text": [
      "1\n",
      "3\n",
      "()()()\n",
      "(())()\n",
      "((()))\n"
     ]
    }
   ],
   "source": [
    "for _ in range(int(input())):\n",
    "    n = int(input())\n",
    "    for i in range(1, n + 1):\n",
    "        t = '(' * i + ')' * i + '()' * (n - i)\n",
    "        print(t)"
   ]
  },
  {
   "cell_type": "markdown",
   "metadata": {},
   "source": [
    "https://codeforces.com/contest/1610/problem/C"
   ]
  },
  {
   "cell_type": "code",
   "execution_count": 4,
   "metadata": {},
   "outputs": [
    {
     "name": "stdout",
     "output_type": "stream",
     "text": [
      "2\n",
      "1 0\n",
      "0 1\n",
      "2\n"
     ]
    }
   ],
   "source": [
    "n = int(input())\n",
    "li = [list(map(int, input().split())) for _ in range(n)]\n",
    "\n",
    "result = 1\n",
    "start = 1\n",
    "end = n\n",
    "while start <= end:\n",
    "    mid = (start + end) // 2\n",
    "    \n",
    "    chc = mid - 1 # cur higher check\n",
    "    clc = 0 # cur lower check\n",
    "    \n",
    "    c = 0\n",
    "    for hi, lo in li:\n",
    "        if hi >= chc and lo >= clc:\n",
    "            c += 1\n",
    "            if c == mid:\n",
    "                break\n",
    "            \n",
    "            chc -= 1\n",
    "            clc += 1\n",
    "            \n",
    "    if c == mid:\n",
    "        result = mid\n",
    "        start = mid + 1\n",
    "    else:\n",
    "        end = mid - 1\n",
    "        \n",
    "print(result)"
   ]
  },
  {
   "cell_type": "code",
   "execution_count": null,
   "metadata": {},
   "outputs": [],
   "source": [
    "for _ in range(int(input())):\n",
    "    n = int(input())\n",
    "    li = [list(map(int, input().split())) for _ in range(n)]\n",
    "\n",
    "    result = 1\n",
    "    start = 1\n",
    "    end = n\n",
    "    while start <= end:\n",
    "        mid = (start + end) // 2\n",
    "\n",
    "        chc = mid - 1 # cur higher check\n",
    "        clc = 0 # cur lower check\n",
    "\n",
    "        c = 0\n",
    "        for hi, lo in li:\n",
    "            if hi >= chc and lo >= clc:\n",
    "                c += 1\n",
    "                if c == mid:\n",
    "                    break\n",
    "\n",
    "                chc -= 1\n",
    "                clc += 1\n",
    "\n",
    "        if c == mid:\n",
    "            result = mid\n",
    "            start = mid + 1\n",
    "        else:\n",
    "            end = mid - 1\n",
    "\n",
    "    print(result)    "
   ]
  },
  {
   "cell_type": "markdown",
   "metadata": {},
   "source": [
    "https://codeforces.com/problemset/problem/1569/A"
   ]
  },
  {
   "cell_type": "code",
   "execution_count": 3,
   "metadata": {},
   "outputs": [
    {
     "name": "stdout",
     "output_type": "stream",
     "text": [
      "1\n",
      "6\n",
      "aabbaa\n",
      "1 4\n"
     ]
    }
   ],
   "source": [
    "def solve():\n",
    "    for l in range(n):\n",
    "        for r in range(l, n):\n",
    "            temp = s[l:r + 1]\n",
    "\n",
    "            ac = temp.count('a')\n",
    "            bc = temp.count('b')\n",
    "\n",
    "            if ac == bc:\n",
    "                return l + 1, r + 1\n",
    "    else:\n",
    "        return -1, -1\n",
    "\n",
    "for _ in range(int(input())):\n",
    "    n = int(input())\n",
    "    s = input()\n",
    "\n",
    "    print(*solve())"
   ]
  },
  {
   "cell_type": "markdown",
   "metadata": {},
   "source": [
    "https://codeforces.com/contest/1618/problem/D"
   ]
  },
  {
   "cell_type": "code",
   "execution_count": 28,
   "metadata": {},
   "outputs": [
    {
     "data": {
      "text/plain": [
       "[2, 4]"
      ]
     },
     "execution_count": 28,
     "metadata": {},
     "output_type": "execute_result"
    }
   ],
   "source": [
    "li[-(k * 2):]"
   ]
  },
  {
   "cell_type": "code",
   "execution_count": 31,
   "metadata": {},
   "outputs": [
    {
     "data": {
      "text/plain": [
       "[2, 4]"
      ]
     },
     "execution_count": 31,
     "metadata": {},
     "output_type": "execute_result"
    }
   ],
   "source": [
    "left"
   ]
  },
  {
   "cell_type": "code",
   "execution_count": 35,
   "metadata": {},
   "outputs": [
    {
     "name": "stdout",
     "output_type": "stream",
     "text": [
      "9 2\n",
      "1 10 10 1 10 2 7 10 3\n",
      "16\n"
     ]
    }
   ],
   "source": [
    "from collections import Counter\n",
    "\n",
    "n, k = miip()\n",
    "li = sorted(miip())\n",
    "\n",
    "left = li.copy()\n",
    "right = []\n",
    "for _ in range(k * 2):\n",
    "    right.append(left.pop())\n",
    "    \n",
    "if left:\n",
    "    total = sum(left)\n",
    "else:\n",
    "    total = 0\n",
    "\n",
    "if k:\n",
    "    c = Counter(right)\n",
    "    commons = c.most_common()\n",
    "    max_num_count = commons[0][1]\n",
    "    remain_num_count = k * 2 - max_num_count\n",
    "\n",
    "    if remain_num_count < max_num_count:\n",
    "        max_num_count -= remain_num_count\n",
    "        total += max_num_count // 2\n",
    "        \n",
    "print(total)"
   ]
  },
  {
   "cell_type": "code",
   "execution_count": null,
   "metadata": {},
   "outputs": [],
   "source": [
    "from collections import Counter\n",
    "\n",
    "\n",
    "for _ in range(iip()):\n",
    "    n, k = miip()\n",
    "    li = sorted(miip())\n",
    "\n",
    "    left = li.copy()\n",
    "    right = []\n",
    "    for _ in range(k * 2):\n",
    "        right.append(left.pop())\n",
    "\n",
    "    if left:\n",
    "        total = sum(left)\n",
    "    else:\n",
    "        total = 0\n",
    "\n",
    "    if k:\n",
    "        c = Counter(right)\n",
    "        commons = c.most_common()\n",
    "        max_num_count = commons[0][1]\n",
    "        remain_num_count = k * 2 - max_num_count\n",
    "\n",
    "        if remain_num_count < max_num_count:\n",
    "            max_num_count -= remain_num_count\n",
    "            total += max_num_count // 2\n",
    "\n",
    "    print(total)    "
   ]
  },
  {
   "cell_type": "markdown",
   "metadata": {},
   "source": [
    "C. Game Master https://codeforces.com/problemset/problem/1608/C"
   ]
  },
  {
   "cell_type": "code",
   "execution_count": null,
   "metadata": {},
   "outputs": [],
   "source": [
    "from types import GeneratorType\n",
    "\n",
    "def bootstrap(f, stack=[]):\n",
    "    def wrappedfunc(*args, **kwargs):\n",
    "        if stack:\n",
    "            return f(*args, **kwargs)\n",
    "        else:\n",
    "            to = f(*args, **kwargs)\n",
    "            while True:\n",
    "                if type(to) is GeneratorType:\n",
    "                    stack.append(to)\n",
    "                    to = next(to)\n",
    "                else:\n",
    "                    stack.pop()\n",
    "                    if not stack:\n",
    "                        break\n",
    "                    to = stack[-1].send(to)\n",
    "            return to\n",
    "    return wrappedfunc\n",
    "\n",
    "ip = lambda: input()\n",
    "iip = lambda: int(input())\n",
    "miip = lambda: map(int, input().split())\n",
    "liip = lambda: list(map(int, input().split()))\n",
    "sip = lambda: input().split() # splitted input\n",
    "lip = lambda: list(input())\n",
    "\n",
    "@bootstrap\n",
    "def dfs(value):\n",
    "    for v in beaten_by[value]:\n",
    "        if iptw[v] == '1':\n",
    "            continue\n",
    "        else:\n",
    "            iptw[v] = '1'\n",
    "            yield dfs(v)\n",
    "    yield\n",
    "\n",
    "for _ in range(iip()):\n",
    "    n = iip()\n",
    "    a = liip()\n",
    "    b = liip()\n",
    "\n",
    "    beaten_by = [set() for _ in range(n)]\n",
    "    li = []\n",
    "    for i in range(n):\n",
    "        li.append((a[i], b[i], i))\n",
    "        \n",
    "    starts = set()\n",
    "\n",
    "    li.sort(key=lambda x: -x[0])\n",
    "    starts.add(li[0][2])\n",
    "    for i in range(n - 1):\n",
    "        beaten_by[li[i + 1][2]].add(li[i][2])\n",
    "\n",
    "    li.sort(key=lambda x: -x[1])\n",
    "    starts.add(li[0][2])\n",
    "    for i in range(n - 1):\n",
    "        beaten_by[li[i + 1][2]].add(li[i][2])\n",
    "\n",
    "    iptw = ['0'] * n # is possible to win\n",
    "    for v in starts:\n",
    "        iptw[v] = '1'\n",
    "        \n",
    "    for start in starts:\n",
    "        dfs(start)\n",
    "        \n",
    "    print(''.join(iptw))"
   ]
  },
  {
   "cell_type": "markdown",
   "metadata": {},
   "source": [
    "B. Accordion https://codeforces.com/contest/1101/problem/B"
   ]
  },
  {
   "cell_type": "code",
   "execution_count": 6,
   "metadata": {},
   "outputs": [
    {
     "name": "stdout",
     "output_type": "stream",
     "text": [
      "[\n",
      "-1\n"
     ]
    }
   ],
   "source": [
    "s = input()\n",
    "n = len(s)\n",
    "\n",
    "to_find = '[:'\n",
    "r_to_find = ']:'\n",
    "\n",
    "cur = 0\n",
    "left_index = -1\n",
    "for i in range(n):\n",
    "    if to_find[cur] == s[i]:\n",
    "        cur += 1\n",
    "        \n",
    "    if cur == 2:\n",
    "        left_index = i\n",
    "        break\n",
    "        \n",
    "cur = 0\n",
    "right_index = -1\n",
    "for i in range(n - 1, -1, -1):\n",
    "    if r_to_find[cur] == s[i]:\n",
    "        cur += 1\n",
    "    \n",
    "    if cur == 2:\n",
    "        right_index = i\n",
    "        break\n",
    "        \n",
    "if left_index == -1 or right_index == -1 or left_index >= right_index:\n",
    "    print(-1)\n",
    "else:\n",
    "    print(4 + s[left_index + 1:right_index].count('|'))"
   ]
  },
  {
   "cell_type": "markdown",
   "metadata": {},
   "source": [
    "A. Equal or Not Equal https://codeforces.com/problemset/problem/1620/A"
   ]
  },
  {
   "cell_type": "code",
   "execution_count": null,
   "metadata": {},
   "outputs": [],
   "source": [
    "s = input()\n",
    "if s.count('N') == 1:\n",
    "    print('NO')\n",
    "else:\n",
    "    print('YES')"
   ]
  },
  {
   "cell_type": "code",
   "execution_count": null,
   "metadata": {},
   "outputs": [],
   "source": [
    "for _ in range(int(input())):\n",
    "    s = input()\n",
    "    if s.count('N') == 1:\n",
    "        print('NO')\n",
    "    else:\n",
    "        print('YES')"
   ]
  },
  {
   "cell_type": "markdown",
   "metadata": {},
   "source": [
    "C. Set or Decrease https://codeforces.com/contest/1622/problem/C"
   ]
  },
  {
   "cell_type": "code",
   "execution_count": 40,
   "metadata": {},
   "outputs": [
    {
     "name": "stdout",
     "output_type": "stream",
     "text": [
      "10 1\n",
      "1 2 3 1 2 6 1 6 8 10\n",
      "10 40\n",
      "9\n"
     ]
    }
   ],
   "source": [
    "def get_needed(first_dec):\n",
    "    nt = target - first_dec\n",
    "\n",
    "    if nt <= 0:\n",
    "        return first_dec\n",
    "    else:\n",
    "        to_sub = first - first_dec\n",
    "        additional_c = 0\n",
    "        for i in range(n - 1, -1, -1):\n",
    "            additional_c += 1\n",
    "            nt -= li[i] - to_sub\n",
    "            if nt <= 0:\n",
    "                return first_dec + additional_c\n",
    "    return float('inf')\n",
    "\n",
    "\n",
    "n, k = map(int, input().split())\n",
    "li = sorted(map(int, input().split()))\n",
    "\n",
    "total = sum(li)\n",
    "target = max(0, total - k)\n",
    "first = li[0]\n",
    "\n",
    "cumul = 0\n",
    "for i in range(n):\n",
    "    cumul += li[i] - li[0]\n",
    "    \n",
    "if cumul >= target:\n",
    "    needed = 0\n",
    "else:\n",
    "    ntarget = target - cumul\n",
    "    \n",
    "    needed = ntarget // n\n",
    "    if ntarget % n:\n",
    "        needed += 1\n",
    "        \n",
    "total_needed = needed + n - 1\n",
    "cumul += needed * n\n",
    "print(total_needed, cumul)\n",
    "\n",
    "for i in range(1, n):\n",
    "    cumul -= (li[i] - first + needed)\n",
    "    \n",
    "    if cumul >= target:\n",
    "        total_needed -= 1\n",
    "    else:\n",
    "        break\n",
    "        \n",
    "print(total_needed)"
   ]
  },
  {
   "cell_type": "code",
   "execution_count": 41,
   "metadata": {},
   "outputs": [
    {
     "data": {
      "text/plain": [
       "39"
      ]
     },
     "execution_count": 41,
     "metadata": {},
     "output_type": "execute_result"
    }
   ],
   "source": [
    "target"
   ]
  },
  {
   "cell_type": "code",
   "execution_count": 32,
   "metadata": {},
   "outputs": [
    {
     "name": "stdout",
     "output_type": "stream",
     "text": [
      "1\n",
      "1 10\n",
      "20\n",
      "10\n"
     ]
    }
   ],
   "source": [
    "def get_needed(first_dec):\n",
    "    nt = target - first_dec\n",
    "\n",
    "    if nt <= 0:\n",
    "        return first_dec\n",
    "    else:\n",
    "        to_sub = first - first_dec\n",
    "        additional_c = 0\n",
    "        for i in range(n - 1, -1, -1):\n",
    "            additional_c += 1\n",
    "            nt -= li[i] - to_sub\n",
    "            if nt <= 0:\n",
    "                return first_dec + additional_c\n",
    "            \n",
    "    return float('inf')\n",
    "\n",
    "for _ in range(int(input())):\n",
    "    n, k = map(int, input().split())\n",
    "    li = sorted(map(int, input().split()))\n",
    "\n",
    "    total = sum(li)\n",
    "    target = max(0, total - k)\n",
    "    first = li[0]\n",
    "\n",
    "    cumul = 0\n",
    "    for i in range(n):\n",
    "        cumul += li[i] - li[0]\n",
    "\n",
    "    if cumul >= target:\n",
    "        possible_start = 0\n",
    "    else:\n",
    "        ntarget = target - cumul\n",
    "\n",
    "        needed = ntarget // n\n",
    "        if ntarget % n:\n",
    "            needed += 1\n",
    "\n",
    "        possible_start = needed\n",
    "\n",
    "    former = float('inf')\n",
    "    while True:\n",
    "        temp = get_needed(possible_start)\n",
    "        if temp >= former:\n",
    "            break\n",
    "        else:\n",
    "            former = temp\n",
    "\n",
    "        possible_start += 1\n",
    "\n",
    "    print(former)"
   ]
  },
  {
   "cell_type": "markdown",
   "metadata": {},
   "source": [
    "### 제출본"
   ]
  },
  {
   "cell_type": "code",
   "execution_count": null,
   "metadata": {},
   "outputs": [],
   "source": [
    "import os\n",
    "import sys\n",
    "from io import BytesIO, IOBase\n",
    "\n",
    "## PYRIVAL BOOTSTRAP\n",
    "# https://github.com/cheran-senthil/PyRival/blob/master/pyrival/misc/bootstrap.py\n",
    "# This decorator allows for recursion without actually doing recursion\n",
    "from types import GeneratorType\n",
    "## @bootstrap, yield when getting and returning value in recursive functions\n",
    "\n",
    "\n",
    "def main():\n",
    "    def get_needed(first_dec):\n",
    "        nt = target - first_dec\n",
    "\n",
    "        if nt <= 0:\n",
    "            return first_dec\n",
    "        else:\n",
    "            to_sub = first - first_dec\n",
    "            additional_c = 0\n",
    "            for i in range(n - 1, -1, -1):\n",
    "                additional_c += 1\n",
    "                nt -= li[i] - to_sub\n",
    "                if nt <= 0:\n",
    "                    return first_dec + additional_c\n",
    "\n",
    "        return float('inf')\n",
    "\n",
    "    for _ in range(int(input())):\n",
    "        n, k = map(int, input().split())\n",
    "        li = sorted(map(int, input().split()))\n",
    "\n",
    "        total = sum(li)\n",
    "        target = max(0, total - k)\n",
    "        first = li[0]\n",
    "\n",
    "        cumul = 0\n",
    "        for i in range(n):\n",
    "            cumul += li[i] - li[0]\n",
    "\n",
    "        if cumul >= target:\n",
    "            possible_start = 0\n",
    "        else:\n",
    "            ntarget = target - cumul\n",
    "\n",
    "            needed = ntarget // n\n",
    "            if ntarget % n:\n",
    "                needed += 1\n",
    "\n",
    "            possible_start = needed\n",
    "\n",
    "        former = float('inf')\n",
    "        while True:\n",
    "            temp = get_needed(possible_start)\n",
    "            if temp >= former:\n",
    "                break\n",
    "            else:\n",
    "                former = temp\n",
    "\n",
    "            possible_start += 1\n",
    "\n",
    "        print(former)\n",
    "\n",
    "    \n",
    "# region fastio\n",
    " \n",
    "BUFSIZE = 8192\n",
    " \n",
    "\n",
    "class FastIO(IOBase):\n",
    "    newlines = 0\n",
    " \n",
    "    def __init__(self, file):\n",
    "        self._fd = file.fileno()\n",
    "        self.buffer = BytesIO()\n",
    "        self.writable = \"x\" in file.mode or \"r\" not in file.mode\n",
    "        self.write = self.buffer.write if self.writable else None\n",
    " \n",
    "    def read(self):\n",
    "        while True:\n",
    "            b = os.read(self._fd, max(os.fstat(self._fd).st_size, BUFSIZE))\n",
    "            if not b:\n",
    "                break\n",
    "            ptr = self.buffer.tell()\n",
    "            self.buffer.seek(0, 2), self.buffer.write(b), self.buffer.seek(ptr)\n",
    "        self.newlines = 0\n",
    "        return self.buffer.read()\n",
    " \n",
    "    def readline(self):\n",
    "        while self.newlines == 0:\n",
    "            b = os.read(self._fd, max(os.fstat(self._fd).st_size, BUFSIZE))\n",
    "            self.newlines = b.count(b\"\\n\") + (not b)\n",
    "            ptr = self.buffer.tell()\n",
    "            self.buffer.seek(0, 2), self.buffer.write(b), self.buffer.seek(ptr)\n",
    "        self.newlines -= 1\n",
    "        return self.buffer.readline()\n",
    " \n",
    "    def flush(self):\n",
    "        if self.writable:\n",
    "            os.write(self._fd, self.buffer.getvalue())\n",
    "            self.buffer.truncate(0), self.buffer.seek(0)\n",
    " \n",
    " \n",
    "class IOWrapper(IOBase):\n",
    "    def __init__(self, file):\n",
    "        self.buffer = FastIO(file)\n",
    "        self.flush = self.buffer.flush\n",
    "        self.writable = self.buffer.writable\n",
    "        self.write = lambda s: self.buffer.write(s.encode(\"ascii\"))\n",
    "        self.read = lambda: self.buffer.read().decode(\"ascii\")\n",
    "        self.readline = lambda: self.buffer.readline().decode(\"ascii\")\n",
    " \n",
    " \n",
    "sys.stdin, sys.stdout = IOWrapper(sys.stdin), IOWrapper(sys.stdout)\n",
    "input = lambda: sys.stdin.readline().rstrip(\"\\r\\n\")\n",
    " \n",
    "# endregion\n",
    " \n",
    "if __name__ == \"__main__\":\n",
    "    def bootstrap(f, stack=[]):\n",
    "        def wrappedfunc(*args, **kwargs):\n",
    "            if stack:\n",
    "                return f(*args, **kwargs)\n",
    "            else:\n",
    "                to = f(*args, **kwargs)\n",
    "                while True:\n",
    "                    if type(to) is GeneratorType:\n",
    "                        stack.append(to)\n",
    "                        to = next(to)\n",
    "                    else:\n",
    "                        stack.pop()\n",
    "                        if not stack:\n",
    "                            break\n",
    "                        to = stack[-1].send(to)\n",
    "                return to\n",
    "        return wrappedfunc\n",
    "    \n",
    "    ip = lambda: input()\n",
    "    iip = lambda: int(input())\n",
    "    miip = lambda: map(int, input().split())\n",
    "    liip = lambda: list(map(int, input().split()))\n",
    "    sip = lambda: input().split() # splitted input\n",
    "    lip = lambda: list(input())\n",
    "    \n",
    "    main()"
   ]
  }
 ],
 "metadata": {
  "kernelspec": {
   "display_name": "Python 3",
   "language": "python",
   "name": "python3"
  },
  "language_info": {
   "codemirror_mode": {
    "name": "ipython",
    "version": 3
   },
   "file_extension": ".py",
   "mimetype": "text/x-python",
   "name": "python",
   "nbconvert_exporter": "python",
   "pygments_lexer": "ipython3",
   "version": "3.7.4"
  }
 },
 "nbformat": 4,
 "nbformat_minor": 4
}
