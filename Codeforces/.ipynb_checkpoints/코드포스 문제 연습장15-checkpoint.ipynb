{
 "cells": [
  {
   "cell_type": "markdown",
   "metadata": {},
   "source": [
    "https://codeforces.com/contest/1731/problem/C C. Even Subarrays"
   ]
  },
  {
   "cell_type": "code",
   "execution_count": 42,
   "metadata": {},
   "outputs": [
    {
     "name": "stdout",
     "output_type": "stream",
     "text": [
      "1\n",
      "7\n",
      "5 7 3 7 1 7 3\n",
      "20\n"
     ]
    }
   ],
   "source": [
    "from math import log2\n",
    "import io, os, sys\n",
    "input = io.BytesIO(os.read(0,os.fstat(0).st_size)).readline\n",
    "\n",
    "for _ in range(int(input())):\n",
    "    n = int(input())\n",
    "    li = list(map(int, input().split()))\n",
    "\n",
    "    max_num = 2 ** ceil(log2(n)) + 1\n",
    "    \n",
    "    cumul = 0\n",
    "    ct = [0] * max_num\n",
    "    ct[0] = 1\n",
    "\n",
    "    to_minus = 0\n",
    "    for v in li:\n",
    "        cumul ^= v\n",
    "\n",
    "        cur = 0\n",
    "        while True:\n",
    "            cur_s = cur * cur\n",
    "            if cur_s >= max_num:\n",
    "                break\n",
    "\n",
    "            to_minus += ct[cumul ^ cur_s]\n",
    "            cur += 1\n",
    "\n",
    "        ct[cumul] += 1\n",
    "\n",
    "    total = n * (n + 1) // 2\n",
    "    result = total - to_minus\n",
    "\n",
    "    print(result)"
   ]
  },
  {
   "cell_type": "code",
   "execution_count": 41,
   "metadata": {},
   "outputs": [
    {
     "data": {
      "text/plain": [
       "8"
      ]
     },
     "execution_count": 41,
     "metadata": {},
     "output_type": "execute_result"
    }
   ],
   "source": [
    "from math import log2, ceil\n",
    "\n",
    "2 ** ceil(log2(7))"
   ]
  },
  {
   "cell_type": "code",
   "execution_count": 34,
   "metadata": {},
   "outputs": [
    {
     "data": {
      "text/plain": [
       "(6, 9)"
      ]
     },
     "execution_count": 34,
     "metadata": {},
     "output_type": "execute_result"
    }
   ],
   "source": [
    "cumul, cur_s"
   ]
  },
  {
   "cell_type": "code",
   "execution_count": 35,
   "metadata": {},
   "outputs": [
    {
     "data": {
      "text/plain": [
       "('0b110', '0b1001')"
      ]
     },
     "execution_count": 35,
     "metadata": {},
     "output_type": "execute_result"
    }
   ],
   "source": [
    "bin(cumul), bin(cur_s)"
   ]
  },
  {
   "cell_type": "code",
   "execution_count": 25,
   "metadata": {},
   "outputs": [
    {
     "data": {
      "text/plain": [
       "12"
      ]
     },
     "execution_count": 25,
     "metadata": {},
     "output_type": "execute_result"
    }
   ],
   "source": [
    "1\n",
    "7\n",
    "5 7 3 7 1 7 3\n",
    "20"
   ]
  },
  {
   "cell_type": "code",
   "execution_count": 23,
   "metadata": {},
   "outputs": [
    {
     "name": "stdout",
     "output_type": "stream",
     "text": [
      "0 0\n",
      "0 1\n",
      "0 2\n",
      "1 1\n",
      "1 2\n",
      "2 2\n"
     ]
    }
   ],
   "source": [
    "for i in range(3):\n",
    "    for j in range(i, 3):\n",
    "        print(i, j)"
   ]
  },
  {
   "cell_type": "markdown",
   "metadata": {},
   "source": [
    "https://codeforces.com/contest/1770/problem/D D. Koxia and Game"
   ]
  },
  {
   "cell_type": "code",
   "execution_count": null,
   "metadata": {},
   "outputs": [],
   "source": [
    "from collections import deque\n",
    "import io, os, sys\n",
    "# input = io.BytesIO(os.read(0,os.fstat(0).st_size)).readline\n",
    "\n",
    "mod = 998244353\n",
    "\n",
    "for _ in range(int(input())):\n",
    "    n = int(input())\n",
    "    a = list(map(int, input().split()))\n",
    "    b = list(map(int, input().split()))\n",
    "\n",
    "    li = [[] for _ in range(n + 1)]\n",
    "    for i in range(n):\n",
    "        li[a[i]].append((b[i], i))\n",
    "        li[b[i]].append((a[i], i))\n",
    "\n",
    "    vt = [False] * (n + 1)\n",
    "    cycle_c = same_c = 0\n",
    "    ip = True\n",
    "    for num in range(1, n + 1):\n",
    "        if vt[num]:\n",
    "            continue\n",
    "        vt[num] = True\n",
    "\n",
    "        st_e = set()\n",
    "        st_n = {num}\n",
    "        queue = deque()\n",
    "        queue.append(num)\n",
    "\n",
    "        is_same = 0\n",
    "        while queue:\n",
    "            value = queue.popleft()\n",
    "\n",
    "            for v, edge_num in li[value]:\n",
    "                st_e.add(edge_num)\n",
    "\n",
    "                if v == value:\n",
    "                    is_same = True\n",
    "                else:   \n",
    "                    if not vt[v]:\n",
    "                        vt[v] = True\n",
    "                        st_n.add(v)\n",
    "                        queue.append(v)\n",
    "\n",
    "        st_n_len = len(st_n)\n",
    "        st_e_len = len(st_e)\n",
    "        \n",
    "        if st_n_len == st_e_len:\n",
    "            if is_same:\n",
    "                same_c += 1\n",
    "            else:\n",
    "                cycle_c += 1\n",
    "        else:\n",
    "            ip = False\n",
    "            break\n",
    "\n",
    "    if not ip:\n",
    "        print(0)\n",
    "    else:\n",
    "        result = pow(2, cycle_c, mod) * pow(n, same_c, mod) % mod\n",
    "\n",
    "        print(result)"
   ]
  },
  {
   "cell_type": "markdown",
   "metadata": {},
   "source": [
    "https://codeforces.com/contest/1779/problem/E E. Anya's Simultaneous Exhibition"
   ]
  },
  {
   "cell_type": "code",
   "execution_count": null,
   "metadata": {},
   "outputs": [],
   "source": [
    "import sys\n",
    "# input = lambda: sys.stdin.readline().rstrip()\n",
    "\n",
    "n = int(input())\n",
    "\n",
    "win_cs = []\n",
    "to_print = ['1'] * n\n",
    "for i in range(n):\n",
    "    to_print[i] = '0'\n",
    "    print('?', i + 1, ''.join(to_print))\n",
    "    sys.stdout.flush()\n",
    "    \n",
    "    to_print[i] = '1'\n",
    "    \n",
    "    win_c = int(input())\n",
    "    \n",
    "    win_cs.append((win_c, i))\n",
    "    \n",
    "win_cs.sort(key=lambda x: x[0])\n",
    "\n",
    "result = ['0'] * n\n",
    "to_print = ['0'] * n\n",
    "\n",
    "result[win_cs[n - 1][1]] = '1'\n",
    "to_print[win_cs[n - 1][1]] = '1'\n",
    "\n",
    "cur_cri = win_cs[n - 1][0]\n",
    "stack = []\n",
    "for i in range(n - 2, -1, -1):\n",
    "    value, index = win_cs[i]\n",
    "    stack.append(index)\n",
    "    \n",
    "    print('?', index + 1, ''.join(to_print))\n",
    "    sys.stdout.flush()\n",
    "\n",
    "    win_c = int(input())\n",
    "    \n",
    "    if win_c >= 1:\n",
    "        while stack:\n",
    "            f_index = stack.pop()\n",
    "            \n",
    "            result[f_index] = '1'\n",
    "            to_print[f_index] = '1'\n",
    "            cur_cri = value\n",
    "        \n",
    "print('!', ''.join(result))\n",
    "sys.stdout.flush()"
   ]
  },
  {
   "cell_type": "markdown",
   "metadata": {},
   "source": [
    "https://codeforces.com/contest/1770/problem/C C. Koxia and Number Theory"
   ]
  },
  {
   "cell_type": "code",
   "execution_count": 2,
   "metadata": {},
   "outputs": [
    {
     "data": {
      "text/plain": [
       "4950"
      ]
     },
     "execution_count": 2,
     "metadata": {},
     "output_type": "execute_result"
    }
   ],
   "source": [
    "(100 * 99) // 2"
   ]
  },
  {
   "cell_type": "code",
   "execution_count": null,
   "metadata": {},
   "outputs": [],
   "source": [
    "4950 이하의 소수만 확인하면 됨"
   ]
  },
  {
   "cell_type": "code",
   "execution_count": 7,
   "metadata": {},
   "outputs": [],
   "source": [
    "max_num = 50\n",
    "ip = [True] * (max_num + 1)\n",
    "ip[0] = ip[1] = False\n",
    "for mod1 in range(2, int((max_num + 1) ** 0.5) + 1):\n",
    "    if ip[mod1]:\n",
    "        for v in range(mod1 * mod1, max_num + 1, mod1):\n",
    "            ip[v] = False\n",
    "            \n",
    "primes = [i for i, v in enumerate(ip) if v]"
   ]
  },
  {
   "cell_type": "code",
   "execution_count": 17,
   "metadata": {},
   "outputs": [
    {
     "name": "stdout",
     "output_type": "stream",
     "text": [
      "3\n",
      "3 3 4\n",
      "YES\n"
     ]
    }
   ],
   "source": [
    "import io, os, sys\n",
    "input = io.BytesIO(os.read(0,os.fstat(0).st_size)).readline\n",
    "\n",
    "max_num = 50\n",
    "ip = [True] * (max_num + 1)\n",
    "ip[0] = ip[1] = False\n",
    "for mod1 in range(2, int((max_num + 1) ** 0.5) + 1):\n",
    "    if ip[mod1]:\n",
    "        for v in range(mod1 * mod1, max_num + 1, mod1):\n",
    "            ip[v] = False\n",
    "            \n",
    "primes = [i for i, v in enumerate(ip) if v]\n",
    "\n",
    "for _ in range(int(input())):\n",
    "    n = int(input())\n",
    "    li = list(map(int, input().split()))\n",
    "\n",
    "    ip = True\n",
    "    if len(set(li)) < n:\n",
    "        ip = False\n",
    "\n",
    "    if ip:\n",
    "        for p in primes:\n",
    "            ct = [0] * p\n",
    "\n",
    "            for v in li:\n",
    "                ct[v % p] += 1\n",
    "\n",
    "            can_use = False\n",
    "            for rem in ct:\n",
    "                if rem <= 1:\n",
    "                    can_use = True\n",
    "                    break\n",
    "\n",
    "            if not can_use:\n",
    "                ip = False\n",
    "                break\n",
    "\n",
    "    if ip:\n",
    "        print('YES')\n",
    "    else:\n",
    "        print('NO')"
   ]
  },
  {
   "cell_type": "code",
   "execution_count": null,
   "metadata": {},
   "outputs": [],
   "source": [
    "n = 30, t = 30 p 개수: 15"
   ]
  },
  {
   "cell_type": "code",
   "execution_count": 15,
   "metadata": {},
   "outputs": [
    {
     "data": {
      "text/plain": [
       "22500"
      ]
     },
     "execution_count": 15,
     "metadata": {},
     "output_type": "execute_result"
    }
   ],
   "source": [
    "30 * 15 * max(30, 50)"
   ]
  },
  {
   "cell_type": "markdown",
   "metadata": {},
   "source": [
    "https://codeforces.com/problemset/problem/1775/E E. The Human Equation"
   ]
  },
  {
   "cell_type": "code",
   "execution_count": 2,
   "metadata": {},
   "outputs": [
    {
     "name": "stdout",
     "output_type": "stream",
     "text": [
      "6\n",
      "2 -4 3 -5 4 1\n",
      "6\n"
     ]
    }
   ],
   "source": [
    "import io, os, sys\n",
    "input = io.BytesIO(os.read(0,os.fstat(0).st_size)).readline\n",
    "\n",
    "for _ in range(int(input())):\n",
    "    n = int(input())\n",
    "    li = list(map(int, input().split()))\n",
    "\n",
    "    prefix = [0] * n\n",
    "    cumul = 0\n",
    "    for i in range(n):\n",
    "        cumul += li[i]\n",
    "        prefix[i] = cumul\n",
    "\n",
    "    min_v = min(prefix)\n",
    "    max_v = max(prefix)\n",
    "\n",
    "    result = 0\n",
    "    if min_v < 0:\n",
    "        result -= min_v\n",
    "    if max_v > 0:\n",
    "        result += max_v\n",
    "\n",
    "    print(result)"
   ]
  },
  {
   "cell_type": "markdown",
   "metadata": {},
   "source": [
    "https://codeforces.com/group/5a7SOR44aV/contest/1741/problem/F F. Multi-Colored Segments"
   ]
  },
  {
   "cell_type": "code",
   "execution_count": 30,
   "metadata": {},
   "outputs": [
    {
     "name": "stdout",
     "output_type": "stream",
     "text": [
      "1\n",
      "0 0 2 1 0\n"
     ]
    }
   ],
   "source": [
    "from heapq import heappush, heappop\n",
    "import io, os, sys\n",
    "input = io.BytesIO(os.read(0,os.fstat(0).st_size)).readline\n",
    "\n",
    "inf = float('inf')\n",
    "\n",
    "for _ in range(int(input())):\n",
    "    n = int(input())\n",
    "    li = [list(map(int, input().split())) + [i] for i in range(n)]\n",
    "\n",
    "    result = [inf] * n\n",
    "\n",
    "    li.sort(key=lambda x: x[0])\n",
    "    \n",
    "    \n",
    "\n",
    "    for i in range(n):\n",
    "        li[i][0], li[i][1] = -li[i][1], -li[i][0]\n",
    "\n",
    "    li.sort(key=lambda x: x[0])\n",
    "\n",
    "    print(*result)"
   ]
  },
  {
   "cell_type": "code",
   "execution_count": 24,
   "metadata": {},
   "outputs": [
    {
     "data": {
      "text/plain": [
       "[[-9, -4, 2, 1],\n",
       " [-9, -8, 2, 3],\n",
       " [-7, -5, 3, 4],\n",
       " [-5, -1, 1, 0],\n",
       " [-2, -1, 1, 2]]"
      ]
     },
     "execution_count": 24,
     "metadata": {},
     "output_type": "execute_result"
    }
   ],
   "source": [
    "li"
   ]
  },
  {
   "cell_type": "code",
   "execution_count": 15,
   "metadata": {},
   "outputs": [
    {
     "data": {
      "text/plain": [
       "[(1, 1), (2, 2)]"
      ]
     },
     "execution_count": 15,
     "metadata": {},
     "output_type": "execute_result"
    }
   ],
   "source": [
    "heap"
   ]
  }
 ],
 "metadata": {
  "kernelspec": {
   "display_name": "Python 3",
   "language": "python",
   "name": "python3"
  },
  "language_info": {
   "codemirror_mode": {
    "name": "ipython",
    "version": 3
   },
   "file_extension": ".py",
   "mimetype": "text/x-python",
   "name": "python",
   "nbconvert_exporter": "python",
   "pygments_lexer": "ipython3",
   "version": "3.7.4"
  }
 },
 "nbformat": 4,
 "nbformat_minor": 2
}
