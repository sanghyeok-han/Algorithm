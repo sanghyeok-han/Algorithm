{
 "cells": [
  {
   "cell_type": "markdown",
   "metadata": {},
   "source": [
    "### A. Arithmetic Array"
   ]
  },
  {
   "cell_type": "code",
   "execution_count": 11,
   "metadata": {},
   "outputs": [
    {
     "name": "stdout",
     "output_type": "stream",
     "text": [
      "4\n",
      "3\n",
      "1 1 1\n",
      "0\n",
      "2\n",
      "1 2\n",
      "1\n",
      "4\n",
      "8 4 6 2\n",
      "16\n",
      "1\n",
      "-2\n",
      "1\n"
     ]
    }
   ],
   "source": [
    "t = int(input())\n",
    "for _ in range(t):\n",
    "    n = int(input())\n",
    "    li = list(map(int, input().split()))\n",
    "\n",
    "    count = 0\n",
    "    sum_value = sum(li)\n",
    "    if sum_value / n == 1:\n",
    "        print(0)\n",
    "    elif sum_value / n < 1:\n",
    "        print(1)\n",
    "    else:\n",
    "        while sum_value / n > 1:\n",
    "            n += 1\n",
    "            count += 1\n",
    "\n",
    "        print(count)"
   ]
  },
  {
   "cell_type": "markdown",
   "metadata": {},
   "source": [
    "### B. Bad Boy"
   ]
  },
  {
   "cell_type": "code",
   "execution_count": null,
   "metadata": {},
   "outputs": [],
   "source": [
    "def get_dist(x1, y1, x2, y2):\n",
    "    if x1 == x2:\n",
    "        return abs(y2 - y1)\n",
    "    else:\n",
    "        return abs(x2 - x1)\n",
    "\n",
    "for _ in range(int(input())):\n",
    "    n, m, i, j = map(int, input().split())\n",
    "    \n",
    "    temp1 = get_dist(1, 1, i, j) + get_dist(n, m, i, j)\n",
    "    temp2 = get_dist(n, 1, i, j) + get_dist(1, m, i, j)\n",
    "    \n",
    "    if temp1 > temp2:\n",
    "        result = [1, 1, n, m]\n",
    "    else:\n",
    "        result = [n, 1, 1, m]\n",
    "\n",
    "    print(*result)"
   ]
  },
  {
   "cell_type": "code",
   "execution_count": 51,
   "metadata": {},
   "outputs": [],
   "source": [
    "def get_dist(x1, y1, x2, y2):\n",
    "    if x1 == x2:\n",
    "        return abs(y2 - y1)\n",
    "    else:\n",
    "        return abs(x2 - x1)"
   ]
  },
  {
   "cell_type": "code",
   "execution_count": null,
   "metadata": {},
   "outputs": [],
   "source": [
    "1 3 2 1\n",
    "1 2 2 3"
   ]
  },
  {
   "cell_type": "code",
   "execution_count": 52,
   "metadata": {},
   "outputs": [
    {
     "name": "stdout",
     "output_type": "stream",
     "text": [
      "2 3 1 1\n"
     ]
    }
   ],
   "source": [
    "n, m, i, j = map(int, input().split())"
   ]
  },
  {
   "cell_type": "code",
   "execution_count": 53,
   "metadata": {},
   "outputs": [
    {
     "data": {
      "text/plain": [
       "3"
      ]
     },
     "execution_count": 53,
     "metadata": {},
     "output_type": "execute_result"
    }
   ],
   "source": [
    "get_dist(1, 3, i, j) + get_dist(2, 1, i, j)"
   ]
  },
  {
   "cell_type": "markdown",
   "metadata": {},
   "source": [
    "### C. Challenging Cliffs"
   ]
  },
  {
   "cell_type": "code",
   "execution_count": null,
   "metadata": {},
   "outputs": [],
   "source": [
    "오름차순 정렬 후 각 쌍씩의 합을 구함\n",
    "\n",
    "해당 차의 절댓값과 해당 합을 구성하는 원소 오른쪽 인덱스 집어넣은 리스트 [abs_diff_value, index]를\n",
    "abs_diff_value 오름차순, index, 오름차순 정렬시킴"
   ]
  },
  {
   "cell_type": "code",
   "execution_count": null,
   "metadata": {},
   "outputs": [],
   "source": [
    "from bisect import bisect_left, bisect_right\n",
    "\n",
    "for _ in range(int(input())):\n",
    "    n = int(input())\n",
    "    li = list(map(int, input().split()))\n",
    "    li.sort()\n",
    "    cands = []\n",
    "    for i in range(1, n):\n",
    "        cands.append((abs(li[i] - li[i - 1]), i))\n",
    "    cands.sort(key=lambda x: (x[0], x[1]))\n",
    "    cand = cands[0]\n",
    "    \n",
    "    left_index = cand[1] - 1\n",
    "    right_index = cand[1]\n",
    "    \n",
    "    left = li[left_index]\n",
    "    right = li[right_index]\n",
    "    li = li[:left_index] + li[right_index + 1:]\n",
    "\n",
    "    temp = bisect_right(li, left)\n",
    "    if temp == n:\n",
    "        result = [left] + li + [right]\n",
    "    else:\n",
    "        result = [left] + li[temp:] + li[:temp] + [right]\n",
    "\n",
    "    print(*result)"
   ]
  },
  {
   "cell_type": "markdown",
   "metadata": {},
   "source": [
    "### D. Deleting Divisors"
   ]
  },
  {
   "cell_type": "markdown",
   "metadata": {},
   "source": [
    "### E1. Erase and Extend (Easy Version)"
   ]
  },
  {
   "cell_type": "code",
   "execution_count": null,
   "metadata": {},
   "outputs": [],
   "source": [
    "k, s = map(int, input().split())\n"
   ]
  }
 ],
 "metadata": {
  "kernelspec": {
   "display_name": "Python 3",
   "language": "python",
   "name": "python3"
  },
  "language_info": {
   "codemirror_mode": {
    "name": "ipython",
    "version": 3
   },
   "file_extension": ".py",
   "mimetype": "text/x-python",
   "name": "python",
   "nbconvert_exporter": "python",
   "pygments_lexer": "ipython3",
   "version": "3.7.3"
  }
 },
 "nbformat": 4,
 "nbformat_minor": 4
}
