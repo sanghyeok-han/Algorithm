{
 "cells": [
  {
   "cell_type": "markdown",
   "metadata": {},
   "source": [
    "https://codeforces.com/gym/384518/problem/A"
   ]
  },
  {
   "cell_type": "code",
   "execution_count": 3,
   "metadata": {},
   "outputs": [
    {
     "name": "stdout",
     "output_type": "stream",
     "text": [
      "4\n",
      "1 1 2 2\n",
      "0\n"
     ]
    }
   ],
   "source": [
    "from collections import defaultdict as dd\n",
    "\n",
    "n = int(input())\n",
    "li = list(map(int, input().split()))\n",
    "\n",
    "d = dd(list)\n",
    "for i in range(n):\n",
    "    d[li[i]].append(i)\n",
    "\n",
    "for key in d:\n",
    "    s = -1\n",
    "    e = -1\n",
    "    for i in range(len(d[key]) - 1):\n",
    "        s = min(s, d[key][i])\n",
    "        e = max(e, d[key][i])\n",
    "        \n",
    "t1 = n - 1\n",
    "if s == -1:\n",
    "    t1 = 0\n",
    "else:\n",
    "    t1 = e - s + 1\n",
    "    \n",
    "for key in d:\n",
    "    s = \n",
    "    e = -1\n",
    "    for i in range(1, len(d[key])):\n",
    "        s = min(s, d[key][i])\n",
    "        e = max(e, d[key][i])\n",
    "\n",
    "t2 = n - 1\n",
    "if s == -1:\n",
    "    t2 = 0\n",
    "else:\n",
    "    t2 = e - s + 1\n",
    "    \n",
    "r = min(t1, t2)\n",
    "\n",
    "print(r)"
   ]
  },
  {
   "cell_type": "code",
   "execution_count": 2,
   "metadata": {},
   "outputs": [
    {
     "name": "stdout",
     "output_type": "stream",
     "text": [
      "5\n",
      "1 4 1 4 9\n",
      "2\n"
     ]
    }
   ],
   "source": [
    "from collections import defaultdict as dd\n",
    "\n",
    "def check():\n",
    "    for key in to_include:\n",
    "        if to_include[key] != temp[key]:\n",
    "            return False\n",
    "    return True\n",
    "\n",
    "n = int(input())\n",
    "li = list(map(int, input().split()))\n",
    "\n",
    "d = dd(int)\n",
    "for i in range(n):\n",
    "    d[li[i]] += 1\n",
    "    \n",
    "to_include = dd(int)\n",
    "start = 0\n",
    "for key in d:\n",
    "    if d[key] >= 2:\n",
    "        to_include[key] = d[key] - 1\n",
    "        start += to_include[key]\n",
    "        \n",
    "if start == 0:\n",
    "    print(0)\n",
    "else:\n",
    "    r = -1\n",
    "    for rc in range(start, n):\n",
    "        temp = dd(int)\n",
    "        for i in range(rc):\n",
    "            temp[li[i]] += 1\n",
    "            \n",
    "        if check():\n",
    "            r = rc\n",
    "            break\n",
    "        for cur_end in range(rc, n):\n",
    "            temp[li[cur_end - rc]] -= 1\n",
    "            temp[li[cur_end]] += 1\n",
    "            \n",
    "            if check():\n",
    "                r = rc\n",
    "                break\n",
    "                \n",
    "        if r != -1:\n",
    "            break\n",
    "            \n",
    "    print(r)"
   ]
  },
  {
   "cell_type": "markdown",
   "metadata": {},
   "source": [
    "https://codeforces.com/gym/384518/problem/B"
   ]
  },
  {
   "cell_type": "code",
   "execution_count": null,
   "metadata": {},
   "outputs": [],
   "source": [
    "100\n",
    "\n",
    "123456789\n",
    "987654321"
   ]
  },
  {
   "cell_type": "code",
   "execution_count": null,
   "metadata": {},
   "outputs": [],
   "source": [
    "2001\n",
    "\n",
    "   9\n",
    "   2\n",
    "\n",
    "  101"
   ]
  },
  {
   "cell_type": "code",
   "execution_count": null,
   "metadata": {},
   "outputs": [],
   "source": [
    "0\n",
    "못넘김 넘김\n",
    "0      1~9\n",
    "0      9~1\n",
    "1개    9개\n",
    "\n",
    "1\n",
    "01     2~9\n",
    "10     9~2\n",
    "2개    8개\n",
    "\n",
    "2\n",
    "012    3~9\n",
    "210    9~3\n",
    "3개    7개\n",
    "\n",
    "9\n",
    "0123456789\n",
    "9876543210\n",
    "10개       0개"
   ]
  },
  {
   "cell_type": "code",
   "execution_count": 25,
   "metadata": {},
   "outputs": [
    {
     "name": "stdout",
     "output_type": "stream",
     "text": [
      "2021\n"
     ]
    }
   ],
   "source": []
  },
  {
   "cell_type": "code",
   "execution_count": 51,
   "metadata": {},
   "outputs": [
    {
     "name": "stdout",
     "output_type": "stream",
     "text": [
      "2\n",
      "100\n",
      "9\n",
      "12\n",
      "4\n"
     ]
    }
   ],
   "source": [
    "import sys\n",
    "input = lambda: sys.stdin.readline().rstrip()\n",
    "\n",
    "def recur(li, i, count):\n",
    "    global temp\n",
    "    \n",
    "    if i == -1:\n",
    "        temp += count\n",
    "        return\n",
    "    \n",
    "    ncount = count * (li[i] + 1)\n",
    "    recur(li.copy(), i - 1, ncount)\n",
    "    \n",
    "    nli = li.copy()\n",
    "    ncount = count * (10 - (li[i] + 1))\n",
    "    \n",
    "    j = i - 1\n",
    "    ip = True\n",
    "    while True:\n",
    "        if j < 0:\n",
    "            ip = False\n",
    "            break\n",
    "        if 1 <= nli[j]:\n",
    "            nli[j] -= 1\n",
    "            break\n",
    "        nli[j] = 9\n",
    "        j -= 1\n",
    "        \n",
    "    if ip:\n",
    "        recur(nli, i - 1, ncount)\n",
    "\n",
    "for _ in range(int(input())):\n",
    "    li = list(map(int, input()))\n",
    "    \n",
    "    a = []\n",
    "    b = []\n",
    "    for i in range(len(li)):\n",
    "        if i % 2 == 0:\n",
    "            a.append(li[i])\n",
    "        else:\n",
    "            b.append(li[i])\n",
    "\n",
    "    temp = 0\n",
    "    if a:\n",
    "        recur(a, len(a) - 1, 1)\n",
    "    cur = max(temp, 1)\n",
    "\n",
    "    temp = 0\n",
    "    if b:\n",
    "        recur(b, len(b) - 1, 1)\n",
    "    cur *= max(temp, 1)\n",
    "    cur -= 2\n",
    "\n",
    "    print(cur)"
   ]
  },
  {
   "cell_type": "code",
   "execution_count": null,
   "metadata": {},
   "outputs": [],
   "source": [
    "2, 2, 2, 2\n",
    "2, 2, 2, 1\n",
    "\n",
    "1, 0, 0, 2\n",
    "0, 9, 9, 2"
   ]
  },
  {
   "cell_type": "code",
   "execution_count": 47,
   "metadata": {},
   "outputs": [],
   "source": [
    "def recur(li, i, count):\n",
    "    global temp\n",
    "    \n",
    "    print(li, i, count)\n",
    "    \n",
    "    if i == -1:\n",
    "        temp += count\n",
    "        return\n",
    "    \n",
    "    ncount = count * (li[i] + 1)\n",
    "    recur(li.copy(), i - 1, ncount)\n",
    "    \n",
    "    nli = li.copy()\n",
    "    ncount = count * (10 - (li[i] + 1))\n",
    "    \n",
    "    j = i - 1\n",
    "    ip = True\n",
    "    while True:\n",
    "        if j < 0:\n",
    "            ip = False\n",
    "            break\n",
    "        if 1 <= nli[j]:\n",
    "            nli[j] -= 1\n",
    "            break\n",
    "        nli[j] = 9\n",
    "        j -= 1\n",
    "        \n",
    "    if ip:\n",
    "        recur(nli, i - 1, ncount)"
   ]
  },
  {
   "cell_type": "code",
   "execution_count": 48,
   "metadata": {},
   "outputs": [
    {
     "name": "stdout",
     "output_type": "stream",
     "text": [
      "[1, 0] 1 1\n",
      "[1, 0] 0 1\n",
      "[1, 0] -1 2\n",
      "[0, 0] 0 9\n",
      "[0, 0] -1 9\n"
     ]
    },
    {
     "data": {
      "text/plain": [
       "11"
      ]
     },
     "execution_count": 48,
     "metadata": {},
     "output_type": "execute_result"
    }
   ],
   "source": [
    "temp = 0\n",
    "recur([1, 0], 1, 1)\n",
    "temp"
   ]
  },
  {
   "cell_type": "markdown",
   "metadata": {},
   "source": [
    "https://codeforces.com/gym/384518/problem/C"
   ]
  },
  {
   "cell_type": "code",
   "execution_count": null,
   "metadata": {},
   "outputs": [],
   "source": []
  }
 ],
 "metadata": {
  "kernelspec": {
   "display_name": "Python 3",
   "language": "python",
   "name": "python3"
  },
  "language_info": {
   "codemirror_mode": {
    "name": "ipython",
    "version": 3
   },
   "file_extension": ".py",
   "mimetype": "text/x-python",
   "name": "python",
   "nbconvert_exporter": "python",
   "pygments_lexer": "ipython3",
   "version": "3.7.4"
  }
 },
 "nbformat": 4,
 "nbformat_minor": 2
}
