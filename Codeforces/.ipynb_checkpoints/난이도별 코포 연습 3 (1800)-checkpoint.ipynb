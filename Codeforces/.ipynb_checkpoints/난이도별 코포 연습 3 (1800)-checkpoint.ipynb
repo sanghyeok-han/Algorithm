{
 "cells": [
  {
   "cell_type": "markdown",
   "metadata": {},
   "source": [
    "https://codeforces.com/problemset?tags=1800-1800"
   ]
  },
  {
   "cell_type": "markdown",
   "metadata": {},
   "source": [
    "https://codeforces.com/problemset/problem/1666/L"
   ]
  },
  {
   "cell_type": "code",
   "execution_count": null,
   "metadata": {},
   "outputs": [],
   "source": [
    "import sys\n",
    "# input = lambda: sys.stdin.readline().rstrip()\n",
    "\n",
    "## PYRIVAL BOOTSTRAP\n",
    "# https://github.com/cheran-senthil/PyRival/blob/master/pyrival/misc/bootstrap.py\n",
    "# This decorator allows for recursion without actually doing recursion\n",
    "## @bootstrap, yield when getting and returning value in recursive functions, end of functions\n",
    "from types import GeneratorType\n",
    "\n",
    "def bootstrap(f, stack=[]):\n",
    "    def wrappedfunc(*args, **kwargs):\n",
    "        if stack:\n",
    "            return f(*args, **kwargs)\n",
    "        else:\n",
    "            to = f(*args, **kwargs)\n",
    "            while True:\n",
    "                if type(to) is GeneratorType:\n",
    "                    stack.append(to)\n",
    "                    to = next(to)\n",
    "                else:\n",
    "                    stack.pop()\n",
    "                    if not stack:\n",
    "                        break\n",
    "                    to = stack[-1].send(to)\n",
    "            return to\n",
    "    return wrappedfunc\n",
    "\n",
    "inf = float('inf')\n",
    "\n",
    "n, m, s = map(int, input().split())\n",
    "li = [[] for _ in range(n + 1)]\n",
    "for _ in range(m):\n",
    "    a, b = map(int, input().split())\n",
    "    \n",
    "    li[a].append(b)\n",
    "    \n",
    "@bootstrap\n",
    "def dfs(value):\n",
    "    global t, c1, c2\n",
    "    \n",
    "    if nums[value] != 0 and nums[value] != num and nums[value] != inf:\n",
    "        t = value\n",
    "        c1 = num\n",
    "        c2 = nums[value]\n",
    "        yield\n",
    "    nums[value] = num\n",
    "    \n",
    "    for v in li[value]:\n",
    "        if nums[v] == inf or nums[v] == num:\n",
    "            continue\n",
    "        yield dfs(v)\n",
    "        if t != -1:\n",
    "            yield\n",
    "    yield\n",
    "\n",
    "@bootstrap\n",
    "def dfs2(value):\n",
    "    global is_found, num\n",
    "    \n",
    "    vt[value] = True\n",
    "    temp.append(value)\n",
    "    \n",
    "    if value == t:\n",
    "        is_found = True\n",
    "        yield\n",
    "    \n",
    "    for v in li[value]:\n",
    "        if vt[v]:\n",
    "            continue\n",
    "    \n",
    "        if v != t and nums[v] != num:\n",
    "            yield\n",
    "        \n",
    "        yield dfs2(v)\n",
    "        if is_found:\n",
    "            yield\n",
    "        \n",
    "    temp.pop()  \n",
    "    yield\n",
    "    \n",
    "nums = [0] * (n + 1)\n",
    "nums[s] = inf\n",
    "t = -1\n",
    "\n",
    "num = 1\n",
    "for ss in li[s]:\n",
    "    dfs(ss)\n",
    "    \n",
    "    if t != -1:\n",
    "        break\n",
    "    num += 1\n",
    "    \n",
    "if t == -1:\n",
    "    print('Impossible')\n",
    "else:\n",
    "    print('Possible')\n",
    "    num = 1\n",
    "    for ss in li[s]:\n",
    "        if num == c1 or num == c2:\n",
    "            is_found = False\n",
    "            temp = [s]\n",
    "            vt = [False] * (n + 1)\n",
    "            vt[s] = True\n",
    "            dfs2(ss)\n",
    "            \n",
    "            print(len(temp))\n",
    "            print(*temp)\n",
    "        num += 1"
   ]
  },
  {
   "cell_type": "markdown",
   "metadata": {},
   "source": [
    "https://codeforces.com/problemset/problem/1637/D"
   ]
  },
  {
   "cell_type": "code",
   "execution_count": null,
   "metadata": {},
   "outputs": [],
   "source": [
    "큰 꺼끼리 있고 작은 것끼리 따로 있는 식이면 cost가 높아짐"
   ]
  },
  {
   "cell_type": "code",
   "execution_count": 25,
   "metadata": {},
   "outputs": [
    {
     "name": "stdout",
     "output_type": "stream",
     "text": [
      "1\n",
      "4\n",
      "6 6 6 3\n",
      "4 7 2 1\n",
      "987\n"
     ]
    }
   ],
   "source": [
    "import sys\n",
    "# input = lambda: sys.stdin.readline().rstrip()\n",
    "\n",
    "for _ in range(int(input())):\n",
    "    n = int(input())\n",
    "    a = list(map(int, input().split()))\n",
    "    b = list(map(int, input().split()))\n",
    "\n",
    "    if n == 1:\n",
    "        print(0)\n",
    "    else:\n",
    "        for _ in range(n):\n",
    "            for ti in range(n):\n",
    "                asv1 = bsv1 = asv2 = bsv2 = 0\n",
    "                for i in range(n):\n",
    "                    if i == ti:\n",
    "                        continue\n",
    "\n",
    "                    asv1 += (a[i] + a[ti]) ** 2\n",
    "                    bsv1 += (b[i] + b[ti]) ** 2\n",
    "\n",
    "                    asv2 += (a[i] + b[ti]) ** 2\n",
    "                    bsv2 += (b[i] + a[ti]) ** 2\n",
    "\n",
    "                if asv1 + bsv1 > asv2 + bsv2:\n",
    "                    a[ti], b[ti] = b[ti], a[ti]\n",
    "\n",
    "        sv = 0\n",
    "        for i in range(n):\n",
    "            for j in range(i + 1, n):\n",
    "                sv += (a[i] + a[j]) ** 2 + (b[i] + b[j]) ** 2\n",
    "\n",
    "        print(sv)"
   ]
  },
  {
   "cell_type": "code",
   "execution_count": null,
   "metadata": {},
   "outputs": [],
   "source": [
    "1 1 5 5 \n",
    "3 3 3 3\n",
    "\n",
    "1+1 1+5 1+5 1+5 1+5 5+5     2 6 6 6 6 10    4 36 36 36 36 100\n",
    "3+3 3+3 3+3 3+3 3+3 3+3     6 6 6 6 6 6     36 36 36 36 36 36"
   ]
  },
  {
   "cell_type": "code",
   "execution_count": null,
   "metadata": {},
   "outputs": [],
   "source": [
    "서로 바꾼 숫자를 제외한 나머지 수들의 각각의 합이 모두 같으면 바꾸는 의미가 없어짐"
   ]
  },
  {
   "cell_type": "code",
   "execution_count": 135,
   "metadata": {
    "scrolled": true
   },
   "outputs": [
    {
     "name": "stdout",
     "output_type": "stream",
     "text": [
      "[4, 2, -1, -1]\n"
     ]
    }
   ],
   "source": [
    "n = 4\n",
    "a = [6, 7, 2, 4]\n",
    "b = [2, 5, 3, 5]\n",
    "\n",
    "sv = 0\n",
    "for i in range(n):\n",
    "    for j in range(i + 1, n):\n",
    "        sv += (a[i] + a[j]) ** 2 + (b[i] + b[j]) ** 2\n",
    "\n",
    "diffs = [0] * n\n",
    "for i in range(n):\n",
    "    diffs[i] = a[i] - b[i]\n",
    "    \n",
    "print(diffs)\n",
    "\n",
    "abs_total = 0\n",
    "for v in diffs:\n",
    "    abs_total += abs(v)\n",
    "    \n"
   ]
  },
  {
   "cell_type": "code",
   "execution_count": 136,
   "metadata": {},
   "outputs": [
    {
     "data": {
      "text/plain": [
       "8"
      ]
     },
     "execution_count": 136,
     "metadata": {},
     "output_type": "execute_result"
    }
   ],
   "source": [
    "abs_total"
   ]
  },
  {
   "cell_type": "code",
   "execution_count": 139,
   "metadata": {},
   "outputs": [
    {
     "name": "stdout",
     "output_type": "stream",
     "text": [
      "4\n",
      "2\n",
      "1\n",
      "1\n"
     ]
    }
   ],
   "source": [
    "dp = [-1] * (abs_total + 1)\n",
    "\n",
    "for i in range(n):\n",
    "    v = abs(diffs[i])\n",
    "    print(v)\n",
    "    \n",
    "    for j in range(abs_total, v - 1, -1):\n",
    "        if dp[j] != -1:\n",
    "            continue\n",
    "        if j - v == 0 or dp[j - v] != -1:\n",
    "            dp[j] = i\n",
    "    \n",
    "    tp = 1\n",
    "    if diffs[i] < 0:\n",
    "        tp = -1"
   ]
  },
  {
   "cell_type": "code",
   "execution_count": 141,
   "metadata": {},
   "outputs": [
    {
     "data": {
      "text/plain": [
       "[-1, 2, 1, 2, 0, 2, 1, 2, 3]"
      ]
     },
     "execution_count": 141,
     "metadata": {},
     "output_type": "execute_result"
    }
   ],
   "source": [
    "dp"
   ]
  },
  {
   "cell_type": "code",
   "execution_count": 152,
   "metadata": {},
   "outputs": [],
   "source": [
    "min_diff = float('inf')\n",
    "mdi = -1 # min diff indcx\n",
    "for i in range(abs_total + 1):\n",
    "    if dp[i] == -1:\n",
    "        continue\n",
    "    \n",
    "    other = abs_total - i\n",
    "    diff = abs(i - other)\n",
    "    \n",
    "    if diff < min_diff:\n",
    "        min_diff = diff\n",
    "        mdi = i"
   ]
  },
  {
   "cell_type": "code",
   "execution_count": 154,
   "metadata": {},
   "outputs": [],
   "source": [
    "used = set()\n",
    "\n",
    "cur = mdi\n",
    "while True:\n",
    "    used.add(dp[cur])\n",
    "    cur -= abs(diffs[dp[cur]])\n",
    "    if cur == 0:\n",
    "        break"
   ]
  },
  {
   "cell_type": "code",
   "execution_count": 156,
   "metadata": {},
   "outputs": [
    {
     "data": {
      "text/plain": [
       "{0}"
      ]
     },
     "execution_count": 156,
     "metadata": {},
     "output_type": "execute_result"
    }
   ],
   "source": [
    "used"
   ]
  },
  {
   "cell_type": "code",
   "execution_count": 159,
   "metadata": {},
   "outputs": [
    {
     "data": {
      "text/plain": [
       "[4, 2, -1, -1]"
      ]
     },
     "execution_count": 159,
     "metadata": {},
     "output_type": "execute_result"
    }
   ],
   "source": [
    "diffs"
   ]
  },
  {
   "cell_type": "code",
   "execution_count": 166,
   "metadata": {},
   "outputs": [
    {
     "name": "stdout",
     "output_type": "stream",
     "text": [
      "1\n",
      "1\n",
      "3\n",
      "6\n",
      "0\n"
     ]
    }
   ],
   "source": [
    "import sys\n",
    "input = lambda: sys.stdin.readline().rstrip()\n",
    "\n",
    "for _ in range(int(input())):\n",
    "    n = int(input())\n",
    "    a = list(map(int, input().split()))\n",
    "    b = list(map(int, input().split()))\n",
    "\n",
    "    if n == 1:\n",
    "        print(0)\n",
    "    else:\n",
    "        diffs = [0] * n\n",
    "        for i in range(n):\n",
    "            diffs[i] = a[i] - b[i]\n",
    "\n",
    "        abs_total = 0\n",
    "        for v in diffs:\n",
    "            abs_total += abs(v)\n",
    "\n",
    "        dp = [-1] * (abs_total + 1)\n",
    "\n",
    "        for i in range(n):\n",
    "            v = abs(diffs[i])\n",
    "            for j in range(abs_total, v - 1, -1):\n",
    "                if dp[j] != -1:\n",
    "                    continue\n",
    "                if j - v == 0 or dp[j - v] != -1:\n",
    "                    dp[j] = i\n",
    "\n",
    "        min_diff = float('inf')\n",
    "        mdi = -1 # min diff indcx\n",
    "        for i in range(abs_total + 1):\n",
    "            if dp[i] == -1:\n",
    "                continue\n",
    "\n",
    "            other = abs_total - i\n",
    "            diff = abs(i - other)\n",
    "\n",
    "            if diff < min_diff:\n",
    "                min_diff = diff\n",
    "                mdi = i\n",
    "\n",
    "        used = set()\n",
    "        cur = mdi\n",
    "        while True:\n",
    "            used.add(dp[cur])\n",
    "            cur -= abs(diffs[dp[cur]])\n",
    "            if cur == 0:\n",
    "                break\n",
    "\n",
    "        to_changes = set()\n",
    "        for i in used:\n",
    "            if diffs[i] < 0:\n",
    "                to_changes.add(i)\n",
    "\n",
    "        unused = set(range(n)) - used\n",
    "        for i in unused:\n",
    "            if diffs[i] > 0:\n",
    "                to_changes.add(i)\n",
    "\n",
    "        for i in to_changes:\n",
    "            a[i], b[i] = b[i], a[i]\n",
    "\n",
    "        sv = 0\n",
    "        for i in range(n):\n",
    "            for j in range(i + 1, n):\n",
    "                sv += (a[i] + a[j]) ** 2 + (b[i] + b[j]) ** 2\n",
    "\n",
    "        print(sv)"
   ]
  },
  {
   "cell_type": "markdown",
   "metadata": {},
   "source": [
    "https://codeforces.com/contest/1691/problem/D"
   ]
  },
  {
   "cell_type": "code",
   "execution_count": null,
   "metadata": {},
   "outputs": [],
   "source": [
    "from math import log2, ceil\n",
    "import sys\n",
    "input = lambda: sys.stdin.readline().rstrip()\n",
    "\n",
    "inf = float('inf')\n",
    "\n",
    "class SegmentTree:\n",
    "    def __init__(self, data, default=10**15, func=lambda a, b: max(a,b)):\n",
    "        \"\"\"initialize the segment tree with data\"\"\"\n",
    "        self._default = default\n",
    "        self._func = func\n",
    "        self._len = len(data)\n",
    "        self._size = _size = 1 << (self._len - 1).bit_length()\n",
    " \n",
    "        self.data = [default] * (2 * _size)\n",
    "        self.data[_size:_size + self._len] = data\n",
    "        for i in reversed(range(_size)):\n",
    "            self.data[i] = func(self.data[i + i], self.data[i + i + 1])\n",
    " \n",
    "    def __delitem__(self, idx):\n",
    "        self[idx] = self._default\n",
    " \n",
    "    def __getitem__(self, idx):\n",
    "        return self.data[idx + self._size]\n",
    " \n",
    "    def __setitem__(self, idx, value):\n",
    "        idx += self._size\n",
    "        self.data[idx] = value\n",
    "        idx >>= 1\n",
    "        while idx:\n",
    "            self.data[idx] = self._func(self.data[2 * idx], self.data[2 * idx + 1])\n",
    "            idx >>= 1\n",
    " \n",
    "    def __len__(self):\n",
    "        return self._len\n",
    " \n",
    "    def query(self, start, stop):\n",
    "        if start == stop:\n",
    "            return self.__getitem__(start)\n",
    "        stop += 1\n",
    "        start += self._size\n",
    "        stop += self._size\n",
    " \n",
    "        res = self._default\n",
    "        while start < stop:\n",
    "            if start & 1:\n",
    "                res = self._func(res, self.data[start])\n",
    "                start += 1\n",
    "            if stop & 1:\n",
    "                stop -= 1\n",
    "                res = self._func(res, self.data[stop])\n",
    "            start >>= 1\n",
    "            stop >>= 1\n",
    "        return res\n",
    " \n",
    "    def __repr__(self):\n",
    "        return \"SegmentTree({0})\".format(self.data)\n",
    "    \n",
    "for _ in range(int(input())):\n",
    "    n = int(input())\n",
    "    li = list(map(int, input().split()))\n",
    "\n",
    "    to_right_sum = [0] * n\n",
    "    cumul = 0\n",
    "\n",
    "    stack_i = []\n",
    "    stack_v = []\n",
    "    r_limit = [n - 1] * n\n",
    "    \n",
    "    to_left_sum = [0] * n\n",
    "    cumul2 = 0\n",
    "\n",
    "    stack_i2 = []\n",
    "    stack_v2 = []\n",
    "    l_limit = [0] * n\n",
    "    for i in range(n):\n",
    "        v = li[i]\n",
    "        while stack_v and stack_v[-1] < v:\n",
    "            stack_v.pop()\n",
    "            r_limit[stack_i.pop()] = i - 1\n",
    "        stack_v.append(v)\n",
    "        stack_i.append(i)\n",
    "\n",
    "        cumul += li[i]\n",
    "        to_right_sum[i] = cumul\n",
    "\n",
    "        j = n - 1 - i\n",
    "        w = li[j]\n",
    "        while stack_v2 and stack_v2[-1] < w:\n",
    "            stack_v2.pop()\n",
    "            l_limit[stack_i2.pop()] = j + 1\n",
    "        stack_v2.append(w)\n",
    "        stack_i2.append(j)\n",
    "\n",
    "        cumul2 += li[j]\n",
    "        to_left_sum[j] = cumul2\n",
    "\n",
    "    to_right_tree = SegmentTree(to_right_sum, -inf)\n",
    "    to_left_tree = SegmentTree(to_left_sum, -inf)\n",
    "    \n",
    "    ip = True\n",
    "    for i in range(n):\n",
    "        l = l_limit[i]\n",
    "        r = r_limit[i]\n",
    "\n",
    "        if 0 < i < n - 1:\n",
    "            left_max = to_left_tree.query(l, i) - to_left_sum[i] + li[i]\n",
    "            right_max = to_right_tree.query(i, r) - to_right_sum[i] + li[i] \n",
    "            if max(left_max, right_max) > li[i]:\n",
    "                ip = False\n",
    "                break\n",
    "        elif i == 0:\n",
    "            right_max = to_right_tree.query(i, r) - to_right_sum[i] + li[i] \n",
    "            if right_max > li[i]:\n",
    "                ip = False\n",
    "                break\n",
    "        else:\n",
    "            left_max = to_left_tree.query(l, i) - to_left_sum[i] + li[i]\n",
    "            if left_max > li[i]:\n",
    "                ip = False\n",
    "                break\n",
    "\n",
    "    if ip:\n",
    "        print('YES')\n",
    "    else:\n",
    "        print('NO')"
   ]
  },
  {
   "cell_type": "markdown",
   "metadata": {},
   "source": [
    "https://codeforces.com/problemset/problem/1617/D1 D1. Too Many Impostors (easy version)"
   ]
  },
  {
   "cell_type": "code",
   "execution_count": null,
   "metadata": {},
   "outputs": [],
   "source": [
    "n:6 6/3 < k < 2*6/3\n",
    "     2 < k < 4        3\n",
    "        \n",
    "n:9 9/3 < k < 18/3\n",
    "     3  < k <  6     4,5\n",
    "        \n",
    "n:12 12/3 < k < 24/3\n",
    "      4  < k < 8   5,6,7"
   ]
  },
  {
   "cell_type": "code",
   "execution_count": null,
   "metadata": {},
   "outputs": [],
   "source": [
    "P: player\n",
    "M: imposter\n",
    "\n",
    "\n",
    "M이 0~1 있을 때: 11\n",
    "MMPP: 01\n",
    "MPMP: 01\n",
    "MPPM: 11\n",
    "PMMP: 00\n",
    "PMPM: 10\n",
    "PPMM: 10\n",
    "M이 3~4 있을 때: 00\n"
   ]
  },
  {
   "cell_type": "code",
   "execution_count": null,
   "metadata": {},
   "outputs": [],
   "source": [
    "import sys\n",
    "input = lambda: sys.stdin.readline().rstrip()\n",
    "\n",
    "for _ in range(int(input())):\n",
    "    n = int(input())\n",
    "\n",
    "    r = [''] * n\n",
    "    qu_r = []\n",
    "    p_index = -1\n",
    "    m_index = -1\n",
    "    for i in range(n - 2):\n",
    "        print('?', i + 1, i + 2, i + 3)\n",
    "        sys.stdout.flush()\n",
    "\n",
    "        temp = int(input())\n",
    "        qu_r.append(temp)\n",
    "\n",
    "        if i - 1 >= 0 and qu_r[-2] != qu_r[-1]:\n",
    "            if qu_r[-2] == 0 and qu_r[-1] == 1:\n",
    "                r[i - 1] = 'M'\n",
    "                m_index = i - 1\n",
    "                r[i + 2] = 'P'\n",
    "                p_index = i + 2\n",
    "            else:\n",
    "                r[i - 1] = 'P'\n",
    "                p_index = i - 1\n",
    "                r[i + 2] = 'M'\n",
    "                m_index = i + 2\n",
    "\n",
    "    for i in range(n):\n",
    "        if r[i] == '':\n",
    "            print('?', p_index + 1, m_index + 1, i + 1)\n",
    "            sys.stdout.flush()\n",
    "            temp = int(input())\n",
    "            if temp == 0:\n",
    "                r[i] = 'M'\n",
    "            else:\n",
    "                r[i] = 'P'\n",
    "\n",
    "    ms = []\n",
    "    for i in range(n):\n",
    "        if r[i] == 'M':\n",
    "            ms.append(i + 1)\n",
    "\n",
    "    print('!', len(ms), *ms)\n",
    "    sys.stdout.flush()"
   ]
  },
  {
   "cell_type": "markdown",
   "metadata": {},
   "source": [
    "https://codeforces.com/problemset/problem/1583/D D. Omkar and the Meaning of Life"
   ]
  },
  {
   "cell_type": "code",
   "execution_count": null,
   "metadata": {},
   "outputs": [],
   "source": [
    "차례대로 1 1 1 1 2 2 2 같이 하면서 이분탐색? -> 쿼리 수가 모자름"
   ]
  },
  {
   "cell_type": "code",
   "execution_count": null,
   "metadata": {},
   "outputs": [],
   "source": [
    "p 2 1 3 4 5\n",
    "a 1 2 3 4 5\n",
    "s 3 3 6 8 10\n",
    "    \n",
    "p 3 1 2 4 5\n",
    "a 1 2 3 4 5\n",
    "s 4 3 5 8 10\n",
    "\n",
    "p 3 1 2 4 5\n",
    "a 1 1 2 1 1\n",
    "s 4 2 4 5 6\n",
    "\n",
    "p 3 1 2 4 5\n",
    "a 2 1 1 1 1\n",
    "s 5 2 3 5 6\n",
    "\n",
    "p 3 1 2 4 5\n",
    "a 1 1 1 1 2\n",
    "s 4 2 3 5 7\n",
    "\n",
    "p 4 5 1 2 3\n",
    "a 1 1 1 1 2\n",
    "s 5 6 2 3 5\n",
    "-> 5번째가 v면 첫 번째는 v + 1"
   ]
  },
  {
   "cell_type": "code",
   "execution_count": null,
   "metadata": {},
   "outputs": [],
   "source": [
    "p 4 5 1 2 3\n",
    "a 1 1 1 2 1\n",
    "s 5 6 2 4 4\n",
    "-> 4번째가 v면 5번째는 v + 1"
   ]
  },
  {
   "cell_type": "code",
   "execution_count": 14,
   "metadata": {},
   "outputs": [
    {
     "name": "stdout",
     "output_type": "stream",
     "text": [
      "? 1 1 1 1 2\n",
      "1번째의 값 = 5번째의 값 + 1\n",
      "? 1 1 1 2 1\n",
      "? 1 1 2 1 1\n",
      "? 1 2 1 1 1\n",
      "2번째의 값은 5\n",
      "? 2 1 1 1 1\n",
      "? 1 2 2 2 2\n",
      "? 2 1 2 2 2\n",
      "2번째의 값 = 1번째의 값 + 1\n",
      "? 2 2 1 2 2\n",
      "3번째의 값은 1\n",
      "? 2 2 2 1 2\n",
      "4번째의 값 = 3번째의 값 + 1\n",
      "? 2 2 2 2 1\n",
      "5번째의 값 = 4번째의 값 + 1\n"
     ]
    }
   ],
   "source": [
    "# n = int(input())\n",
    "\n",
    "def interact(a):\n",
    "    s = [0] * n\n",
    "    ct = [0] * (n + 5)\n",
    "    for i in range(n):\n",
    "        s[i] = p[i] + a[i]\n",
    "        ct[s[i]] += 1\n",
    "    \n",
    "    for i in range(n):\n",
    "        if ct[s[i]] >= 2:\n",
    "            return i + 1\n",
    "    return 0\n",
    "     \n",
    "n = 5\n",
    "p = [4, 5, 1, 2, 3]\n",
    "    \n",
    "r = [0] * n\n",
    "for i in range(n - 1, -1, -1):\n",
    "    a = [1] * n\n",
    "    a[i] = 2\n",
    "    \n",
    "    print('?', *a)\n",
    "    k = interact(a)\n",
    "    k -= 1\n",
    "    if k == -1:\n",
    "        r[i] = n\n",
    "        print(f'{i + 1}번째의 값은 {n}')\n",
    "    else:\n",
    "        if k != i:\n",
    "            print(f'{k + 1}번째의 값 = {i + 1}번째의 값 + 1')\n",
    "            \n",
    "for i in range(n):\n",
    "    a = [2] * n\n",
    "    a[i] = 1\n",
    "    \n",
    "    print('?', *a)\n",
    "    k = interact(a)\n",
    "    k -= 1\n",
    "    if k == -1:\n",
    "        r[i] = n\n",
    "        print(f'{i + 1}번째의 값은 {1}')\n",
    "    else:\n",
    "        if k != i:\n",
    "            print(f'{i + 1}번째의 값 = {k + 1}번째의 값 + 1')"
   ]
  },
  {
   "cell_type": "code",
   "execution_count": 25,
   "metadata": {},
   "outputs": [
    {
     "name": "stdout",
     "output_type": "stream",
     "text": [
      "? 2 1 1 1 1\n",
      "? 1 2 2 2 2\n",
      "? 1 2 1 1 1\n",
      "? 2 1 2 2 2\n",
      "? 1 1 2 1 1\n",
      "? 2 2 1 2 2\n",
      "? 1 1 1 2 1\n",
      "? 2 2 2 1 2\n",
      "? 1 1 1 1 2\n",
      "? 2 2 2 2 1\n",
      "[3, 2, 1, 5, 4]\n"
     ]
    }
   ],
   "source": [
    "# n = int(input())\n",
    "\n",
    "def interact(a):\n",
    "    s = [0] * n\n",
    "    ct = [0] * (n + 5)\n",
    "    for i in range(n):\n",
    "        s[i] = p[i] + a[i]\n",
    "        ct[s[i]] += 1\n",
    "    \n",
    "    for i in range(n):\n",
    "        if ct[s[i]] >= 2:\n",
    "            return i + 1\n",
    "    return 0\n",
    "     \n",
    "n = 5\n",
    "p = [3, 2, 1, 5, 4]\n",
    "    \n",
    "r = [0] * n\n",
    "plused_1_by = [-1] * n\n",
    "max_index = -1\n",
    "for i in range(n):\n",
    "    a = [1] * n\n",
    "    a[i] = 2\n",
    "    \n",
    "    print('?', *a)\n",
    "    k = interact(a)\n",
    "    k -= 1\n",
    "    if k == -1:\n",
    "        r[i] = n\n",
    "        max_index = i\n",
    "    else:\n",
    "        if k != i:\n",
    "            plused_1_by[k] = i\n",
    "            \n",
    "    a = [2] * n\n",
    "    a[i] = 1\n",
    "    \n",
    "    print('?', *a)\n",
    "    k = interact(a)\n",
    "    k -= 1\n",
    "    if k == -1:\n",
    "        r[i] = 1\n",
    "    else:\n",
    "        if k != i:\n",
    "            plused_1_by[i] = k\n",
    "\n",
    "cur = max_index\n",
    "for _ in range(n - 1):\n",
    "    ncur = plused_1_by[cur]\n",
    "    r[ncur] = r[cur] - 1\n",
    "    cur = ncur\n",
    "    \n",
    "print(r)"
   ]
  },
  {
   "cell_type": "code",
   "execution_count": null,
   "metadata": {},
   "outputs": [],
   "source": [
    "import sys\n",
    "input = lambda: sys.stdin.readline().rstrip()\n",
    "\n",
    "n = int(input())\n",
    "    \n",
    "r = [0] * n\n",
    "plused_1_by = [-1] * n\n",
    "max_index = -1\n",
    "for i in range(n):\n",
    "    a = [1] * n\n",
    "    a[i] = 2\n",
    "    \n",
    "    print('?', *a)\n",
    "    sys.stdout.flush()\n",
    "    k = int(input())\n",
    "    k -= 1\n",
    "    if k == -1:\n",
    "        r[i] = n\n",
    "        max_index = i\n",
    "    else:\n",
    "        if k != i:\n",
    "            plused_1_by[k] = i\n",
    "            \n",
    "    a = [2] * n\n",
    "    a[i] = 1\n",
    "    \n",
    "    print('?', *a)\n",
    "    sys.stdout.flush()\n",
    "    k = int(input())\n",
    "    k -= 1\n",
    "    if k == -1:\n",
    "        r[i] = 1\n",
    "    else:\n",
    "        if k != i:\n",
    "            plused_1_by[i] = k\n",
    "\n",
    "cur = max_index\n",
    "for _ in range(n - 1):\n",
    "    ncur = plused_1_by[cur]\n",
    "    r[ncur] = r[cur] - 1\n",
    "    cur = ncur\n",
    "    \n",
    "print('!', *r)\n",
    "sys.stdout.flush()"
   ]
  },
  {
   "cell_type": "markdown",
   "metadata": {},
   "source": [
    "https://codeforces.com/problemset/problem/1575/D D. Divisible by Twenty-Five"
   ]
  },
  {
   "cell_type": "code",
   "execution_count": null,
   "metadata": {},
   "outputs": [],
   "source": [
    "25로 나눠지려면 끝이 00, 25, 50, 75 중 하나여야 함"
   ]
  },
  {
   "cell_type": "code",
   "execution_count": 28,
   "metadata": {},
   "outputs": [
    {
     "name": "stdout",
     "output_type": "stream",
     "text": [
      "__\n",
      "3\n"
     ]
    }
   ],
   "source": [
    "li = list(input())\n",
    "n = len(li)\n",
    "\n",
    "for i in range(n):\n",
    "    if li[i].isdigit():\n",
    "        li[i] = int(li[i])\n",
    "        \n",
    "total = 0\n",
    "if 'X' not in li:\n",
    "    if n == 1:\n",
    "        if li[0] == '_' or li[0] == 0:\n",
    "            total = 1\n",
    "        else:\n",
    "            total = 0\n",
    "    else:\n",
    "        for last in [[0, 0], [2, 5], [5, 0], [7, 5]]:\n",
    "            l1, l2 = last\n",
    "            \n",
    "            if n == 2 and l1 == 0:\n",
    "                continue\n",
    "            \n",
    "            if li[-1] != '_' and li[-1] != l2:\n",
    "                continue\n",
    "            if li[-2] != '_' and li[-2] != l1:\n",
    "                continue\n",
    "            if li[0] == 0:\n",
    "                continue\n",
    "            \n",
    "            temp = 1\n",
    "            for i in range(n - 2):\n",
    "                if li[i] == '_':\n",
    "                    if i == 0:\n",
    "                        temp *= 9\n",
    "                    else:\n",
    "                        temp *= 10\n",
    "            total += temp\n",
    "else:\n",
    "    if n == 1:\n",
    "        if li[0] == 'X' or li[0] == 0:\n",
    "            total = 1\n",
    "        else:\n",
    "            total = 0\n",
    "    else:\n",
    "        for num in range(10):\n",
    "            nli = li.copy()\n",
    "            for i in range(n):\n",
    "                if nli[i] == 'X':\n",
    "                    nli[i] = num\n",
    "\n",
    "            for last in [[0, 0], [2, 5], [5, 0], [7, 5]]:\n",
    "                l1, l2 = last\n",
    "                \n",
    "                if n == 2 and l1 == 0:\n",
    "                    continue\n",
    "\n",
    "                if nli[-1] != '_' and nli[-1] != l2:\n",
    "                    continue\n",
    "                if nli[-2] != '_' and nli[-2] != l1:\n",
    "                    continue\n",
    "                if nli[0] == 0:\n",
    "                    continue\n",
    "\n",
    "                temp = 1\n",
    "                for i in range(n - 2):\n",
    "                    if nli[i] == '_':\n",
    "                        if i == 0:\n",
    "                            temp *= 9\n",
    "                        else:\n",
    "                            temp *= 10\n",
    "                total += temp\n",
    "                \n",
    "print(total)"
   ]
  },
  {
   "cell_type": "markdown",
   "metadata": {},
   "source": [
    "https://codeforces.com/problemset/problem/1556/D D. Take a Guess"
   ]
  },
  {
   "cell_type": "code",
   "execution_count": null,
   "metadata": {},
   "outputs": [],
   "source": [
    "a0 + a1 = aa\n",
    "a0 + a2 = cc\n",
    "a1 + a2 = bb\n",
    "a1 - a2 = aa - cc\n",
    "\n",
    "2a1 = bb + aa - cc\n",
    "a1 = (bb + aa - cc) / 2\n",
    "a0 = aa - a1\n",
    "a2 = bb - a1"
   ]
  },
  {
   "cell_type": "code",
   "execution_count": null,
   "metadata": {},
   "outputs": [],
   "source": [
    "import sys\n",
    "# input = lambda: sys.stdin.readline().rstrip()\n",
    "\n",
    "n, k = map(int, input().split())\n",
    "\n",
    "print(\"and\", 1, 2)\n",
    "sys.stdout.flush()\n",
    "t1 = int(input())\n",
    "print(\"or\", 1, 2)\n",
    "sys.stdout.flush()\n",
    "t2 = int(input())\n",
    "aa = t1 + t2\n",
    "\n",
    "print(\"and\", 1, 3)\n",
    "sys.stdout.flush()\n",
    "t1 = int(input())\n",
    "print(\"or\", 1, 3)\n",
    "sys.stdout.flush()\n",
    "t2 = int(input())\n",
    "cc = t1 + t2\n",
    "\n",
    "print(\"and\", 2, 3)\n",
    "sys.stdout.flush()\n",
    "t1 = int(input())\n",
    "print(\"or\", 2, 3)\n",
    "sys.stdout.flush()\n",
    "t2 = int(input())\n",
    "bb = t1 + t2\n",
    "\n",
    "a1 = (bb + aa - cc) // 2\n",
    "a0 = aa - a1\n",
    "a2 = bb - a1\n",
    "\n",
    "li = [a0, a1, a2]\n",
    "\n",
    "for i in range(4, n + 1):\n",
    "    print(\"and\", i, 1)\n",
    "    sys.stdout.flush()\n",
    "    t1 = int(input())\n",
    "    print(\"or\", i, 1)\n",
    "    sys.stdout.flush()\n",
    "    t2 = int(input())\n",
    "    temp = t1 + t2\n",
    "    \n",
    "    temp -= li[0]\n",
    "    li.append(temp)\n",
    "    \n",
    "li.sort()\n",
    "\n",
    "print('finish', li[k - 1])"
   ]
  },
  {
   "cell_type": "markdown",
   "metadata": {},
   "source": [
    "https://codeforces.com/problemset/problem/1556/C C. Compressed Bracket Sequence"
   ]
  },
  {
   "cell_type": "code",
   "execution_count": null,
   "metadata": {},
   "outputs": [],
   "source": [
    "열린 괄호를 닫을 때 경우의 수가 1 추가되는 것 같음"
   ]
  },
  {
   "cell_type": "code",
   "execution_count": 41,
   "metadata": {},
   "outputs": [],
   "source": [
    "n = int(input())\n",
    "li = list(map(int, input().split()))\n"
   ]
  },
  {
   "cell_type": "code",
   "execution_count": null,
   "metadata": {},
   "outputs": [],
   "source": [
    "()()()"
   ]
  },
  {
   "cell_type": "code",
   "execution_count": null,
   "metadata": {},
   "outputs": [],
   "source": [
    "(()())()"
   ]
  },
  {
   "cell_type": "code",
   "execution_count": 45,
   "metadata": {},
   "outputs": [
    {
     "name": "stdout",
     "output_type": "stream",
     "text": [
      "3\n"
     ]
    }
   ],
   "source": [
    "stack = []\n",
    "s = '()()'\n",
    "\n",
    "total = 0\n",
    "for v in s:\n",
    "    if v == '(':\n",
    "        stack.append(v)\n",
    "    else:\n",
    "        while stack:\n",
    "            if stack[-1] == '(':\n",
    "                stack.pop()\n",
    "                break\n",
    "            else:\n",
    "                stack.pop()\n",
    "        if stack and stack[-1] != '(':\n",
    "            cur = stack.pop() + 1\n",
    "            total += cur\n",
    "            stack.append(cur)\n",
    "        else:\n",
    "            total += 1\n",
    "            stack.append(1)\n",
    "            \n",
    "print(total)"
   ]
  },
  {
   "cell_type": "code",
   "execution_count": 65,
   "metadata": {},
   "outputs": [
    {
     "name": "stdout",
     "output_type": "stream",
     "text": [
      "6\n",
      "1 1 1 1 2 2\n",
      "7\n"
     ]
    }
   ],
   "source": [
    "n = int(input())\n",
    "li = list(map(int, input().split()))\n",
    "\n",
    "stack = []\n",
    "total = 0\n",
    "for i in range(n):\n",
    "    if i % 2 == 0:\n",
    "        stack.append(['(', li[i]])\n",
    "    else:\n",
    "        remained = li[i]\n",
    "        while stack and remained:\n",
    "            if stack[-1][0] != '(':\n",
    "                stack.pop()\n",
    "            else:\n",
    "                to_close = min(stack[-1][1], remained)\n",
    "                total += to_close\n",
    "                stack[-1][1] -= to_close\n",
    "                remained -= to_close\n",
    "                if stack[-1][1] == 0:\n",
    "                    stack.pop()\n",
    "                    if stack and stack[-1][0] == 'w':\n",
    "                        total += stack[-1][1]\n",
    "                        stack[-1][1] += 1\n",
    "                    else:\n",
    "                        stack.append(['w', 1])\n",
    "                else:\n",
    "                    stack.append(['w', 1])\n",
    "                \n",
    "print(total)"
   ]
  },
  {
   "cell_type": "code",
   "execution_count": null,
   "metadata": {},
   "outputs": [],
   "source": [
    "(()())\n",
    "['(', 2]\n",
    "\n",
    "['(', 1]['w', 1]\n",
    "\n",
    "['(', 1]['w', 1]['(', 1]\n",
    "\n",
    "['(', 1]['w', 2]"
   ]
  },
  {
   "cell_type": "markdown",
   "metadata": {},
   "source": [
    "https://codeforces.com/problemset/problem/1554/D D. Diane"
   ]
  },
  {
   "cell_type": "code",
   "execution_count": null,
   "metadata": {},
   "outputs": [],
   "source": [
    "abcdaa\n",
    "abcabab\n",
    "abcdabab\n",
    "abcdabab"
   ]
  },
  {
   "cell_type": "code",
   "execution_count": null,
   "metadata": {},
   "outputs": [],
   "source": [
    "abcaa\n",
    "abcdab\n",
    "abcabab\n",
    "abcabab\n",
    "abcabab\n",
    "\n",
    "abcabab"
   ]
  },
  {
   "cell_type": "code",
   "execution_count": null,
   "metadata": {},
   "outputs": [],
   "source": [
    "'abcdabcabceabcabciabcabc'\n",
    "\n",
    "'abcdabcabcuabcabciabcabcpabcabcuabcabciabcabckabcabcuabcabciabcabc'\n",
    "\n",
    "'abcababdabcababeabcababqabcababdabcababeabcababwabcababdabcababeabcabab'"
   ]
  },
  {
   "cell_type": "code",
   "execution_count": 198,
   "metadata": {},
   "outputs": [
    {
     "name": "stdout",
     "output_type": "stream",
     "text": [
      "True\n"
     ]
    }
   ],
   "source": [
    "from collections import defaultdict as dd\n",
    "\n",
    "s = 'abcaa'\n",
    "n = len(s)\n",
    "\n",
    "ct = dd(int)\n",
    "for vlen in range(1, n + 1):\n",
    "    for start in range(n - vlen + 1):\n",
    "        ct[s[start:start+vlen]] += 1\n",
    "        \n",
    "ip = True\n",
    "for v in ct.values():\n",
    "    if v % 2 == 0:\n",
    "        ip = False\n",
    "        break\n",
    "        \n",
    "print(ip)"
   ]
  },
  {
   "cell_type": "code",
   "execution_count": 199,
   "metadata": {},
   "outputs": [
    {
     "name": "stdout",
     "output_type": "stream",
     "text": [
      "7\n",
      "aaabcaa\n"
     ]
    }
   ],
   "source": [
    "import sys\n",
    "input = lambda: sys.stdin.readline().rstrip()\n",
    "\n",
    "for _ in range(int(input())):\n",
    "    n = int(input())\n",
    "\n",
    "    if n == 1:\n",
    "        print('a')\n",
    "    elif n == 2:\n",
    "        print('ab')\n",
    "    elif n == 3:\n",
    "        print('abc')\n",
    "    elif n == 4:\n",
    "        print('abcd')\n",
    "    else:\n",
    "        if n % 2 == 0:\n",
    "            half = n // 2\n",
    "            print('a' * half + 'b' + 'a' * (half - 1))\n",
    "        else:\n",
    "            half = n // 2\n",
    "            print('a' * half + 'bc' + 'a' * (half - 1))        "
   ]
  },
  {
   "cell_type": "code",
   "execution_count": null,
   "metadata": {},
   "outputs": [],
   "source": [
    "aaa\n",
    "aaa aa aa a a a\n",
    "\n",
    "aaaa\n",
    "aaaa aaa aaa aa aa aa a a a a"
   ]
  },
  {
   "cell_type": "markdown",
   "metadata": {},
   "source": [
    "https://codeforces.com/problemset/problem/1554/C C. Mikasa"
   ]
  },
  {
   "cell_type": "code",
   "execution_count": 220,
   "metadata": {},
   "outputs": [
    {
     "name": "stdout",
     "output_type": "stream",
     "text": [
      "[6, 7, 4, 5, 2, 3, 0, 1, 14, 15, 12, 13, 10, 11, 8, 9, 22, 23, 20, 21, 18]\n"
     ]
    }
   ],
   "source": [
    "n, m = 6, 20\n",
    "li = []\n",
    "for i in range(m + 1):\n",
    "    li.append(n ^ i)\n",
    "    \n",
    "print(li)"
   ]
  },
  {
   "cell_type": "code",
   "execution_count": 221,
   "metadata": {},
   "outputs": [
    {
     "data": {
      "text/plain": [
       "4"
      ]
     },
     "execution_count": 221,
     "metadata": {},
     "output_type": "execute_result"
    }
   ],
   "source": [
    "n^0, n^1 ... n^m"
   ]
  },
  {
   "cell_type": "code",
   "execution_count": null,
   "metadata": {},
   "outputs": [],
   "source": [
    "k가 저기 있나?"
   ]
  },
  {
   "cell_type": "code",
   "execution_count": null,
   "metadata": {},
   "outputs": [],
   "source": [
    "n ^ 0~m = k\n",
    "n ^ k in 0~m?"
   ]
  },
  {
   "cell_type": "code",
   "execution_count": null,
   "metadata": {},
   "outputs": [],
   "source": [
    "n ^ k가 m + 1 이상인 가장 작은 k는?"
   ]
  },
  {
   "cell_type": "code",
   "execution_count": null,
   "metadata": {},
   "outputs": [],
   "source": [
    "n ^ k >= m + 1인 가장 작은 k는?"
   ]
  },
  {
   "cell_type": "code",
   "execution_count": null,
   "metadata": {},
   "outputs": [],
   "source": [
    "0011 ^ ? >= 0101"
   ]
  },
  {
   "cell_type": "code",
   "execution_count": null,
   "metadata": {},
   "outputs": [],
   "source": [
    "0111 ^ ? >= 011"
   ]
  },
  {
   "cell_type": "code",
   "execution_count": null,
   "metadata": {},
   "outputs": [],
   "source": [
    "100"
   ]
  },
  {
   "cell_type": "code",
   "execution_count": 231,
   "metadata": {},
   "outputs": [
    {
     "data": {
      "text/plain": [
       "8"
      ]
     },
     "execution_count": 231,
     "metadata": {},
     "output_type": "execute_result"
    }
   ],
   "source": [
    "n = 1\n",
    "m = 8\n",
    "\n",
    "n ^ (m + 1)"
   ]
  },
  {
   "cell_type": "code",
   "execution_count": 236,
   "metadata": {},
   "outputs": [
    {
     "data": {
      "text/plain": [
       "1073741824"
      ]
     },
     "execution_count": 236,
     "metadata": {},
     "output_type": "execute_result"
    }
   ],
   "source": [
    "2 ** 30"
   ]
  },
  {
   "cell_type": "code",
   "execution_count": 234,
   "metadata": {},
   "outputs": [
    {
     "data": {
      "text/plain": [
       "1000000000.0"
      ]
     },
     "execution_count": 234,
     "metadata": {},
     "output_type": "execute_result"
    }
   ],
   "source": [
    "1e9"
   ]
  },
  {
   "cell_type": "code",
   "execution_count": 264,
   "metadata": {},
   "outputs": [
    {
     "name": "stdout",
     "output_type": "stream",
     "text": [
      "3 5\n",
      "4\n"
     ]
    }
   ],
   "source": [
    "import sys\n",
    "input = lambda: sys.stdin.readline().rstrip()\n",
    "\n",
    "for _ in range(int(input())):\n",
    "    n, m = map(int, input().split())\n",
    "\n",
    "    a = [0] * 31\n",
    "    bn = bin(n)\n",
    "    cur = 0\n",
    "    for i in range(len(bn) - 1, 1, -1):\n",
    "        if bn[i] == '1':\n",
    "            a[cur] = 1\n",
    "        cur += 1\n",
    "\n",
    "    b = [0] * 31\n",
    "    bm = bin(m + 1)\n",
    "    cur = 0\n",
    "    for i in range(len(bm) - 1, 1, -1):\n",
    "        if bm[i] == '1':\n",
    "            b[cur] = 1\n",
    "        cur += 1\n",
    "\n",
    "    r = [0] * 31\n",
    "    for i in range(30, -1, -1):\n",
    "        if a[i] != b[i]:\n",
    "            if a[i] == 0 and b[i] == 1:\n",
    "                r[i] = 1\n",
    "            else:\n",
    "                break\n",
    "\n",
    "    result = 0\n",
    "    w = 1\n",
    "    for i in range(31):\n",
    "        result += r[i] * w\n",
    "        w *= 2\n",
    "\n",
    "    print(result)"
   ]
  },
  {
   "cell_type": "code",
   "execution_count": 252,
   "metadata": {},
   "outputs": [
    {
     "name": "stdout",
     "output_type": "stream",
     "text": [
      "[1, 0, 1, 0, 0, 0, 1, 0, 0, 0, 0, 0, 0, 0, 0, 0, 0, 0, 0, 0, 0, 0, 0, 0, 0, 0, 0, 0, 0, 0, 0]\n"
     ]
    }
   ],
   "source": [
    "print(a)"
   ]
  },
  {
   "cell_type": "code",
   "execution_count": 259,
   "metadata": {},
   "outputs": [
    {
     "name": "stdout",
     "output_type": "stream",
     "text": [
      "[1, 1, 1, 1, 1, 1, 0, 1, 0, 1, 0, 0, 0, 0, 0, 0, 0, 0, 0, 0, 0, 0, 0, 0, 0, 0, 0, 0, 0, 0, 0]\n"
     ]
    }
   ],
   "source": [
    "print(r)"
   ]
  },
  {
   "cell_type": "code",
   "execution_count": 253,
   "metadata": {},
   "outputs": [
    {
     "name": "stdout",
     "output_type": "stream",
     "text": [
      "[1, 0, 0, 1, 1, 1, 0, 1, 0, 1, 0, 0, 0, 0, 0, 0, 0, 0, 0, 0, 0, 0, 0, 0, 0, 0, 0, 0, 0, 0, 0]\n"
     ]
    }
   ],
   "source": [
    "print(b)"
   ]
  },
  {
   "cell_type": "markdown",
   "metadata": {},
   "source": [
    "https://codeforces.com/problemset/problem/1552/C C. Maximize the Intersections"
   ]
  },
  {
   "cell_type": "code",
   "execution_count": null,
   "metadata": {},
   "outputs": [],
   "source": [
    "import sys\n",
    "input = lambda: sys.stdin.readline().rstrip()\n",
    "\n",
    "for _ in range(int(input())):\n",
    "    n, k = map(int, input().split())\n",
    "\n",
    "    connected = [0] * (2 * n + 1)\n",
    "    total = 0\n",
    "    for _ in range(k):\n",
    "        a, b = map(int, input().split())\n",
    "        if a > b:\n",
    "            a, b = b, a\n",
    "        for i in range(a + 1, b):\n",
    "            if connected[i]:\n",
    "                if connected[i] < a or connected[i] > b:\n",
    "                    total += 1\n",
    "        connected[a] = b\n",
    "        connected[b] = a\n",
    "\n",
    "    remained = n - k\n",
    "    ncs = {i for i, v in enumerate(connected) if v == 0}\n",
    "    ncs.discard(0)\n",
    "    while ncs:\n",
    "        a = ncs.pop()\n",
    "\n",
    "        b = a\n",
    "        count = 0\n",
    "        while True:\n",
    "            b += 1\n",
    "            if b == 2 * n + 1:\n",
    "                b = 1\n",
    "            if not connected[b]:\n",
    "                count += 1\n",
    "\n",
    "            if count == remained:\n",
    "                remained -= 1\n",
    "                break\n",
    "\n",
    "        ncs.discard(b)\n",
    "\n",
    "        na, nb = a, b\n",
    "        if na > nb:\n",
    "            na, nb = nb, na\n",
    "\n",
    "        for i in range(na + 1, nb):\n",
    "            if connected[i]:\n",
    "                if connected[i] < na or connected[i] > nb:\n",
    "                    total += 1  \n",
    "        connected[na] = nb\n",
    "        connected[nb] = na\n",
    "\n",
    "    print(total)"
   ]
  },
  {
   "cell_type": "markdown",
   "metadata": {},
   "source": [
    "https://codeforces.com/problemset/problem/1548/B B. Integers Have Friends"
   ]
  },
  {
   "cell_type": "code",
   "execution_count": null,
   "metadata": {},
   "outputs": [],
   "source": [
    "2 2*3 3"
   ]
  },
  {
   "cell_type": "code",
   "execution_count": 328,
   "metadata": {},
   "outputs": [
    {
     "name": "stdout",
     "output_type": "stream",
     "text": [
      "1\n",
      "2\n",
      "2 3\n",
      "1\n"
     ]
    }
   ],
   "source": [
    "from math import gcd\n",
    "import sys\n",
    "# input = lambda: sys.stdin.readline().rstrip()\n",
    "\n",
    "class SegmentTree:\n",
    "    def __init__(self, data, default=10**15, func=lambda a, b: max(a,b)):\n",
    "        \"\"\"initialize the segment tree with data\"\"\"\n",
    "        self._default = default\n",
    "        self._func = func\n",
    "        self._len = len(data)\n",
    "        self._size = _size = 1 << (self._len - 1).bit_length()\n",
    " \n",
    "        self.data = [default] * (2 * _size)\n",
    "        self.data[_size:_size + self._len] = data\n",
    "        for i in reversed(range(_size)):\n",
    "            self.data[i] = func(self.data[i + i], self.data[i + i + 1])\n",
    " \n",
    "    def __delitem__(self, idx):\n",
    "        self[idx] = self._default\n",
    " \n",
    "    def __getitem__(self, idx):\n",
    "        return self.data[idx + self._size]\n",
    " \n",
    "    def __setitem__(self, idx, value):\n",
    "        idx += self._size\n",
    "        self.data[idx] = value\n",
    "        idx >>= 1\n",
    "        while idx:\n",
    "            self.data[idx] = self._func(self.data[2 * idx], self.data[2 * idx + 1])\n",
    "            idx >>= 1\n",
    " \n",
    "    def __len__(self):\n",
    "        return self._len\n",
    " \n",
    "    def query(self, start, stop):\n",
    "        if start == stop:\n",
    "            return self.__getitem__(start)\n",
    "        stop += 1\n",
    "        start += self._size\n",
    "        stop += self._size\n",
    " \n",
    "        res = self._default\n",
    "        while start < stop:\n",
    "            if start & 1:\n",
    "                res = self._func(res, self.data[start])\n",
    "                start += 1\n",
    "            if stop & 1:\n",
    "                stop -= 1\n",
    "                res = self._func(res, self.data[stop])\n",
    "            start >>= 1\n",
    "            stop >>= 1\n",
    "        return res\n",
    " \n",
    "    def __repr__(self):\n",
    "        return \"SegmentTree({0})\".format(self.data)\n",
    "    \n",
    "func = lambda a, b: gcd(a, b)\n",
    "\n",
    "for _ in range(int(input())):\n",
    "    n = int(input())\n",
    "    li = list(map(int, input().split()))\n",
    "\n",
    "    if n == 1:\n",
    "        print(1)\n",
    "    else:\n",
    "        diffs = []\n",
    "        for i in range(n - 1):\n",
    "            diffs.append(abs(li[i + 1] - li[i]))\n",
    "\n",
    "        segtree = SegmentTree(diffs, 0, func=func)\n",
    "\n",
    "        start = 0\n",
    "        end = 0\n",
    "        r = 1\n",
    "        tds = set()\n",
    "        while start <= end:\n",
    "            if segtree.query(start, end) == 1:\n",
    "                start += 1\n",
    "                if start > end:\n",
    "                    end = start\n",
    "                    if end >= n - 1:\n",
    "                        break\n",
    "            else:\n",
    "                r = max(r, end - start + 2)\n",
    "                end += 1\n",
    "                if end >= n - 1:\n",
    "                    break\n",
    "\n",
    "        print(r)"
   ]
  }
 ],
 "metadata": {
  "kernelspec": {
   "display_name": "Python 3",
   "language": "python",
   "name": "python3"
  },
  "language_info": {
   "codemirror_mode": {
    "name": "ipython",
    "version": 3
   },
   "file_extension": ".py",
   "mimetype": "text/x-python",
   "name": "python",
   "nbconvert_exporter": "python",
   "pygments_lexer": "ipython3",
   "version": "3.7.4"
  }
 },
 "nbformat": 4,
 "nbformat_minor": 4
}
