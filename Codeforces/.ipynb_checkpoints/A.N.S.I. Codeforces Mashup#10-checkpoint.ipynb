{
 "cells": [
  {
   "cell_type": "markdown",
   "metadata": {},
   "source": [
    "https://codeforces.com/gym/382525"
   ]
  },
  {
   "cell_type": "markdown",
   "metadata": {},
   "source": [
    "A"
   ]
  },
  {
   "cell_type": "code",
   "execution_count": null,
   "metadata": {},
   "outputs": [],
   "source": [
    "****...........*\n",
    "\n",
    "*...........****"
   ]
  },
  {
   "cell_type": "code",
   "execution_count": null,
   "metadata": {},
   "outputs": [],
   "source": [
    "**.....*\n",
    "\n",
    "*.....**"
   ]
  },
  {
   "cell_type": "code",
   "execution_count": null,
   "metadata": {},
   "outputs": [],
   "source": [
    "*......*****.......*"
   ]
  },
  {
   "cell_type": "code",
   "execution_count": null,
   "metadata": {},
   "outputs": [],
   "source": [
    "*.*.*.......*"
   ]
  },
  {
   "cell_type": "code",
   "execution_count": 22,
   "metadata": {},
   "outputs": [
    {
     "name": "stdout",
     "output_type": "stream",
     "text": [
      "3\n",
      "3\n",
      "...\n",
      "0\n",
      "3\n",
      ".*.\n",
      "0\n",
      "3\n",
      "*.*\n",
      "1\n"
     ]
    }
   ],
   "source": [
    "import sys\n",
    "input = lambda: sys.stdin.readline().rstrip()\n",
    "\n",
    "for _ in range(int(input())):\n",
    "    n = int(input())\n",
    "    s = input()\n",
    "\n",
    "    indexes = []\n",
    "    for i in range(n):\n",
    "        if s[i] == '*':\n",
    "            indexes.append(i)\n",
    "\n",
    "    id_len = len(indexes)\n",
    "    if id_len == 0:\n",
    "        print(0)\n",
    "    else:\n",
    "        mid = id_len // 2\n",
    "        mid_loc = indexes[mid]\n",
    "\n",
    "        t_loc = mid_loc - 1 # target loc\n",
    "        needed = 0\n",
    "        for i in range(mid - 1, -1, -1):\n",
    "            needed += abs(t_loc - indexes[i])\n",
    "            t_loc -= 1\n",
    "\n",
    "        t_loc = mid_loc + 1\n",
    "        for i in range(mid + 1, id_len):\n",
    "            needed += abs(t_loc - indexes[i])\n",
    "            t_loc += 1\n",
    "\n",
    "        print(needed)"
   ]
  },
  {
   "cell_type": "markdown",
   "metadata": {},
   "source": [
    "B"
   ]
  },
  {
   "cell_type": "code",
   "execution_count": 25,
   "metadata": {},
   "outputs": [
    {
     "name": "stdout",
     "output_type": "stream",
     "text": [
      "7\n",
      "1 1 1 2 2 4\n",
      "4\n"
     ]
    }
   ],
   "source": [
    "from collections import Counter\n",
    "import sys\n",
    "input = lambda: sys.stdin.readline().rstrip()\n",
    "\n",
    "def check(mid):\n",
    "    r_inj = mid # remained injection\n",
    "    for v in nli:\n",
    "        v -= mid\n",
    "        if v > 0:\n",
    "            r_inj -= v\n",
    "            \n",
    "            if r_inj < 0:\n",
    "                return False\n",
    "            \n",
    "    return True\n",
    "    \n",
    "for _ in range(int(input())):\n",
    "    n = int(input())\n",
    "    ct = Counter(map(int, input().split()))\n",
    "\n",
    "    li = sorted(ct.values(), reverse=True)\n",
    "    li.append(1)\n",
    "\n",
    "    base_c = len(li)\n",
    "    w = 1\n",
    "    nli = []\n",
    "    for i in range(base_c - 1, -1, -1):\n",
    "        li[i] -= w\n",
    "        if li[i] >= 1:\n",
    "            nli.append(li[i])\n",
    "\n",
    "        w += 1\n",
    "\n",
    "    start = 0\n",
    "    end = 500000\n",
    "    added_c = float('inf')\n",
    "    while start <= end:\n",
    "        mid = (start + end) // 2\n",
    "\n",
    "        if check(mid):\n",
    "            added_c = mid\n",
    "            end = mid - 1\n",
    "        else:\n",
    "            start = mid + 1\n",
    "\n",
    "    r = base_c + added_c\n",
    "\n",
    "    print(r)"
   ]
  },
  {
   "cell_type": "markdown",
   "metadata": {},
   "source": [
    "C"
   ]
  },
  {
   "cell_type": "code",
   "execution_count": 31,
   "metadata": {},
   "outputs": [
    {
     "data": {
      "text/plain": [
       "577887549"
      ]
     },
     "execution_count": 31,
     "metadata": {},
     "output_type": "execute_result"
    }
   ],
   "source": [
    "from random import randint\n",
    "\n",
    "randint(1, int(1e9))"
   ]
  },
  {
   "cell_type": "code",
   "execution_count": 52,
   "metadata": {},
   "outputs": [
    {
     "name": "stdout",
     "output_type": "stream",
     "text": [
      "1\n",
      "2 1\n",
      "1 2\n",
      "1 2\n"
     ]
    }
   ],
   "source": [
    "from random import randint\n",
    "import sys\n",
    "input = lambda: sys.stdin.readline().rstrip()\n",
    "\n",
    "rd = randint(1000, int(1e9))\n",
    "\n",
    "for _ in range(int(input())):\n",
    "    n, k = map(int, input().split())\n",
    "    li = list(map(int, input().split()))\n",
    "\n",
    "    d = dict()\n",
    "    keys = set()\n",
    "    for v in li:\n",
    "        nv = v ^ rd\n",
    "        if nv in d:\n",
    "            d[nv] += 1\n",
    "        else:\n",
    "            keys.add(v)\n",
    "            d[nv] = 1\n",
    "\n",
    "    cont = 0\n",
    "    max_cont = 0\n",
    "    max_l = max_r = l = r = -1\n",
    "    fkey = -100\n",
    "    for key in sorted(keys):\n",
    "        if fkey + 1 != key:\n",
    "            cont = 0\n",
    "            l = -1\n",
    "            r = -1\n",
    "\n",
    "        if d[key ^ rd] >= k:\n",
    "            cont += 1\n",
    "\n",
    "            if cont == 1:\n",
    "                l = key\n",
    "            r = key\n",
    "\n",
    "            if max_cont < cont:\n",
    "                max_cont = cont\n",
    "                max_l = l\n",
    "                max_r = r\n",
    "        else:\n",
    "            cont = 0\n",
    "            l = -1\n",
    "            r = -1\n",
    "\n",
    "        fkey = key\n",
    "\n",
    "    if max_l == -1:\n",
    "        print(-1)\n",
    "    else:\n",
    "        print(max_l, max_r)"
   ]
  },
  {
   "cell_type": "markdown",
   "metadata": {},
   "source": [
    "D"
   ]
  },
  {
   "cell_type": "code",
   "execution_count": 64,
   "metadata": {},
   "outputs": [
    {
     "name": "stdout",
     "output_type": "stream",
     "text": [
      "4\n",
      "1 1 1 1\n",
      "1000000000 1000000000 1000000000 1000000000\n",
      "1999999998\n"
     ]
    }
   ],
   "source": [
    "from bisect import bisect_left\n",
    "import sys\n",
    "input = lambda: sys.stdin.readline().rstrip()\n",
    "\n",
    "inf = float('inf')\n",
    "\n",
    "for _ in range(int(input())):\n",
    "    n = int(input())\n",
    "    a = list(map(int, input().split()))\n",
    "    b = list(map(int, input().split()))\n",
    "\n",
    "    r1 = abs(a[0] - b[0]) + abs(a[-1] - b[-1])\n",
    "    r2 = abs(a[0] - b[-1]) + abs(a[-1] - b[0])\n",
    "\n",
    "    sa = sorted(a)\n",
    "    sb = sorted(b)\n",
    "\n",
    "    index = bisect_left(sb, a[0])\n",
    "    mad = inf # mid abs diff\n",
    "    for i in [index - 1, index]:\n",
    "        if i < 0 or i >= n:\n",
    "            continue\n",
    "        ad = abs(a[0] - sb[i])\n",
    "        mad = min(mad, ad)\n",
    "    at1 = mad\n",
    "\n",
    "    index = bisect_left(sb, a[-1])\n",
    "    mad = inf # mid abs diff\n",
    "    for i in [index - 1, index]:\n",
    "        if i < 0 or i >= n:\n",
    "            continue\n",
    "        ad = abs(a[-1] - sb[i])\n",
    "        mad = min(mad, ad)\n",
    "    at2 = mad\n",
    "\n",
    "    index = bisect_left(sa, b[0])\n",
    "    mad = inf # mid abs diff\n",
    "    for i in [index - 1, index]:\n",
    "        if i < 0 or i >= n:\n",
    "            continue\n",
    "        ad = abs(b[0] - sa[i])\n",
    "        mad = min(mad, ad)\n",
    "    bt1 = mad\n",
    "\n",
    "    index = bisect_left(sa, b[-1])\n",
    "    mad = inf # mid abs diff\n",
    "    for i in [index - 1, index]:\n",
    "        if i < 0 or i >= n:\n",
    "            continue\n",
    "        ad = abs(b[-1] - sa[i])\n",
    "        mad = min(mad, ad)\n",
    "    bt2 = mad\n",
    "\n",
    "    r3 = abs(a[0] - b[0]) + at2 + bt2\n",
    "    r4 = abs(a[-1] - b[-1]) + at1 + bt1\n",
    "    r5 = abs(a[0] - b[-1]) + at2 + bt1\n",
    "    r6 = abs(a[-1] - b[0]) + at1 + bt2\n",
    "    r7 = at1 + at2 + bt1 + bt2\n",
    "\n",
    "    r = min(r1, r2, r3, r4, r5, r6, r7)\n",
    "\n",
    "    print(r)"
   ]
  },
  {
   "cell_type": "markdown",
   "metadata": {},
   "source": [
    "E"
   ]
  },
  {
   "cell_type": "code",
   "execution_count": null,
   "metadata": {},
   "outputs": [],
   "source": [
    "아이콘 개수를 계속 가지고 다닐 필요가 있어보임\n",
    "\n",
    "자리를 바꿀 필요가 없는 아이콘의 자리를 바꿀 필요는 없음\n",
    "\n",
    "현재 자리를 채울 필요가 있는 커트라인을 계속 가지고 다닐 필요가 있어보임\n",
    "\n",
    "새로운 커트라인에 추가되거나 기존 커트라인에서 제거되는 경우를 신경쓸 필요가 있음\n",
    "\n",
    "늘릴 때: c부터 늘리고 보더를 바꿈. 해당 x, y가 보더 안에 있으면 filled에 추가함.\n",
    "         x, y가 보더가 아님에도 보더에 이미 아이콘이 있으면 filled에 추가함.\n",
    "줄일 때: x, y가 보더 안에 있으면 filled에서 뺌.\n",
    "         x, y가 보더가 아님에도 보더에 이미 아이콘이 있으면 filled에서 뺌.\n",
    "         c를 줄이고 보더를 바꿈"
   ]
  },
  {
   "cell_type": "code",
   "execution_count": 72,
   "metadata": {},
   "outputs": [
    {
     "name": "stdout",
     "output_type": "stream",
     "text": [
      "2 2 2\n",
      "..\n",
      "..\n",
      "1 1\n",
      "0\n",
      "1 1\n",
      "0\n"
     ]
    }
   ],
   "source": [
    "import sys\n",
    "# input = lambda: sys.stdin.readline().rstrip()\n",
    "\n",
    "def get_border(c):\n",
    "    if c == 0:\n",
    "        return -1, -1\n",
    "    \n",
    "    c -= 1\n",
    "\n",
    "    by = c // n\n",
    "    bx = c % n\n",
    "    \n",
    "    return bx, by\n",
    "\n",
    "def is_in(x, y):\n",
    "    if li[x][y] == '.':\n",
    "        return False\n",
    "    \n",
    "    if y < by:\n",
    "        return True\n",
    "    if y == by and x <= bx:\n",
    "        return True\n",
    "    return False\n",
    "    \n",
    "n, m, q = map(int, input().split())\n",
    "li = [list(input()) for _ in range(n)]\n",
    "\n",
    "c = 0\n",
    "for i in range(n):\n",
    "    for j in range(m):\n",
    "        if li[i][j] == '*':\n",
    "            c += 1\n",
    "            \n",
    "bx, by = get_border(c)\n",
    "\n",
    "filled = 0\n",
    "if c >= 1:\n",
    "    for i in range(n):\n",
    "        for j in range(m):\n",
    "            if is_in(i, j):\n",
    "                filled += 1\n",
    "                    \n",
    "for _ in range(q):\n",
    "    x, y = map(int, input().split())\n",
    "    x -= 1\n",
    "    y -= 1\n",
    "    \n",
    "    if li[x][y] == '.':\n",
    "        li[x][y] = '*'\n",
    "        c += 1\n",
    "        bx, by = get_border(c)\n",
    "        if is_in(x, y):\n",
    "            filled += 1\n",
    "        if not (x == bx and y == by) and is_in(bx, by):\n",
    "            filled += 1\n",
    "    else:\n",
    "        if is_in(x, y):\n",
    "            filled -= 1\n",
    "        if not (x == bx and y == by) and is_in(bx, by):\n",
    "            filled -= 1\n",
    "        li[x][y] = '.'\n",
    "        c -= 1\n",
    "        bx, by = get_border(c)\n",
    "        \n",
    "    print(c - filled)"
   ]
  },
  {
   "cell_type": "markdown",
   "metadata": {},
   "source": [
    "F"
   ]
  },
  {
   "cell_type": "code",
   "execution_count": null,
   "metadata": {},
   "outputs": [],
   "source": [
    "3 + 3 / 1\n",
    "3 + 3 / 2\n",
    "3 + 3 / 3\n",
    "3 + 3 / 4"
   ]
  },
  {
   "cell_type": "code",
   "execution_count": 15,
   "metadata": {},
   "outputs": [
    {
     "name": "stdout",
     "output_type": "stream",
     "text": [
      "1\n",
      "4 4\n",
      "1 7 5 2\n",
      "2 6 5 2\n",
      "9\n"
     ]
    }
   ],
   "source": [
    "from collections import deque\n",
    "import sys\n",
    "input = lambda: sys.stdin.readline().rstrip()\n",
    "\n",
    "inf = float('inf')\n",
    "needed = [inf] * 1001\n",
    "needed[1] = 0\n",
    "\n",
    "queue = deque()\n",
    "queue.append(1)\n",
    "while queue:\n",
    "    value = queue.popleft()\n",
    "    \n",
    "    for x in range(1, value + 1):\n",
    "        v = value + value // x\n",
    "        \n",
    "        if v > 1000:\n",
    "            continue\n",
    "        if needed[v] == inf:\n",
    "            needed[v] = needed[value] + 1\n",
    "            queue.append(v)\n",
    "\n",
    "for _ in range(int(input())):\n",
    "    n, k = map(int, input().split())\n",
    "    b = list(map(int, input().split()))\n",
    "    c = list(map(int, input().split()))\n",
    "\n",
    "    needed_ops = [0] * n\n",
    "    for i in range(n):\n",
    "        needed_ops[i] = needed[b[i]]\n",
    "\n",
    "    k = min(12000, k)\n",
    "    dp = [0] * (k + 1)\n",
    "\n",
    "    for i in range(n):\n",
    "        cost = needed_ops[i]\n",
    "        value = c[i]\n",
    "\n",
    "        for ncost in range(k, cost - 1, -1):\n",
    "            dp[ncost] = max(dp[ncost], dp[ncost - cost] + value)\n",
    "\n",
    "    print(dp[-1])"
   ]
  },
  {
   "cell_type": "code",
   "execution_count": 6,
   "metadata": {},
   "outputs": [
    {
     "data": {
      "text/plain": [
       "12"
      ]
     },
     "execution_count": 6,
     "metadata": {},
     "output_type": "execute_result"
    }
   ],
   "source": [
    "max([v for v in needed if v != inf])"
   ]
  }
 ],
 "metadata": {
  "kernelspec": {
   "display_name": "Python 3",
   "language": "python",
   "name": "python3"
  },
  "language_info": {
   "codemirror_mode": {
    "name": "ipython",
    "version": 3
   },
   "file_extension": ".py",
   "mimetype": "text/x-python",
   "name": "python",
   "nbconvert_exporter": "python",
   "pygments_lexer": "ipython3",
   "version": "3.7.4"
  }
 },
 "nbformat": 4,
 "nbformat_minor": 2
}
