{
 "cells": [
  {
   "cell_type": "code",
   "execution_count": null,
   "metadata": {},
   "outputs": [],
   "source": [
    "import sys\n",
    "input = lambda: sys.stdin.readline().rstrip()"
   ]
  },
  {
   "cell_type": "markdown",
   "metadata": {},
   "source": [
    "A"
   ]
  },
  {
   "cell_type": "code",
   "execution_count": 7,
   "metadata": {},
   "outputs": [
    {
     "name": "stdout",
     "output_type": "stream",
     "text": [
      "4\n",
      "2 1 3 4\n",
      "YES\n"
     ]
    }
   ],
   "source": [
    "import sys\n",
    "input = lambda: sys.stdin.readline().rstrip()\n",
    "\n",
    "for _ in range(int(input())):\n",
    "    n = int(input())\n",
    "    li = list(map(int, input().split()))\n",
    "\n",
    "    init = li[0]\n",
    "    stack = []\n",
    "    for i in range(1, n):\n",
    "        while stack and stack[-1] < li[i]:\n",
    "            stack.pop()\n",
    "\n",
    "        if not stack and init < li[i]:\n",
    "            continue\n",
    "        else:\n",
    "            stack.append(li[i])\n",
    "\n",
    "    if stack:\n",
    "        print('NO')\n",
    "    else:\n",
    "        print('YES')"
   ]
  },
  {
   "cell_type": "markdown",
   "metadata": {},
   "source": [
    "C"
   ]
  },
  {
   "cell_type": "code",
   "execution_count": 15,
   "metadata": {},
   "outputs": [
    {
     "name": "stdout",
     "output_type": "stream",
     "text": [
      "4\n",
      "8 7 6 5 4 3 2 1\n"
     ]
    }
   ],
   "source": [
    "import sys\n",
    "input = lambda: sys.stdin.readline().rstrip()\n",
    "\n",
    "for _ in range(int(input())):\n",
    "    n = int(input())\n",
    "    n *= 2\n",
    "    li = list(map(int, input().split()))\n",
    "\n",
    "    nli = [(v, i) for i, v in enumerate(li)]\n",
    "    nli.sort(key=lambda x: -x[0])\n",
    "\n",
    "    cur_left = n\n",
    "    groups = []\n",
    "    for value, index in nli:\n",
    "        if index > cur_left:\n",
    "            continue\n",
    "        groups.append(cur_left - index)\n",
    "        cur_left = index\n",
    "\n",
    "    n_half = n // 2\n",
    "    dp = [False] * (n_half + 1)\n",
    "    dp[0] = True\n",
    "    for v in groups:\n",
    "        if v > n_half:\n",
    "            continue\n",
    "        for i in range(n_half, v - 1, -1):\n",
    "            if dp[i - v]:\n",
    "                dp[i] = True\n",
    "\n",
    "    if dp[n_half]:\n",
    "        print('YES')\n",
    "    else:\n",
    "        print('NO')"
   ]
  },
  {
   "cell_type": "markdown",
   "metadata": {},
   "source": [
    "B"
   ]
  },
  {
   "cell_type": "code",
   "execution_count": 39,
   "metadata": {},
   "outputs": [
    {
     "name": "stdout",
     "output_type": "stream",
     "text": [
      "1\n",
      "5 6\n",
      "1 2 1 2 1\n",
      "1 12 2 13\n",
      "2 13 1 12\n",
      "1 12 2 13\n",
      "2 13 1 12\n",
      "YES\n"
     ]
    }
   ],
   "source": [
    "import sys\n",
    "# input = lambda: sys.stdin.readline().rstrip()\n",
    "\n",
    "for _ in range(int(input())):\n",
    "    n, k = map(int, input().split())\n",
    "    li = list(map(int, input().split()))\n",
    "\n",
    "    ip = True\n",
    "    l, h = li[0], li[0] + k - 1 + k\n",
    "    for i in range(1, n):\n",
    "        nl = li[i]\n",
    "        nh = li[i] + k - 1 + k\n",
    "\n",
    "        nl = max(nl, l + 1 - k)\n",
    "        nh = min(nh, h - 1 + k)\n",
    "\n",
    "        print(l, h, nl, nh)\n",
    "        \n",
    "        if nh - nl < k:\n",
    "            ip = False\n",
    "            break\n",
    "            \n",
    "        l, h = nl, nh\n",
    "\n",
    "    if ip:\n",
    "        print('YES')\n",
    "    else:\n",
    "        print('NO')"
   ]
  },
  {
   "cell_type": "code",
   "execution_count": null,
   "metadata": {},
   "outputs": [],
   "source": [
    "1\n",
    "3 4\n",
    "5 1 1 1\n",
    "YES"
   ]
  }
 ],
 "metadata": {
  "kernelspec": {
   "display_name": "Python 3",
   "language": "python",
   "name": "python3"
  },
  "language_info": {
   "codemirror_mode": {
    "name": "ipython",
    "version": 3
   },
   "file_extension": ".py",
   "mimetype": "text/x-python",
   "name": "python",
   "nbconvert_exporter": "python",
   "pygments_lexer": "ipython3",
   "version": "3.7.4"
  }
 },
 "nbformat": 4,
 "nbformat_minor": 2
}
