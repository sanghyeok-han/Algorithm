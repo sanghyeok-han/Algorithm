{
 "cells": [
  {
   "cell_type": "markdown",
   "metadata": {},
   "source": [
    "https://codeforces.com/problemset/problem/1508/B B. Almost Sorted"
   ]
  },
  {
   "cell_type": "code",
   "execution_count": null,
   "metadata": {},
   "outputs": [],
   "source": [
    "올라갈 때는 아무렇게나 올라갈 수 있고\n",
    "내려갈 때는 한 칸씩만 내려갈 수 있음"
   ]
  },
  {
   "cell_type": "code",
   "execution_count": null,
   "metadata": {},
   "outputs": [],
   "source": [
    "ai - 1 <= a(i + 1)\n",
    "\n",
    "2 1\n",
    "\n",
    "2 - 1 <= 1"
   ]
  },
  {
   "cell_type": "code",
   "execution_count": 42,
   "metadata": {},
   "outputs": [
    {
     "data": {
      "text/plain": [
       "[(1, 2, 3, 4, 5),\n",
       " (1, 2, 3, 5, 4),\n",
       " (1, 2, 4, 3, 5),\n",
       " (1, 2, 5, 4, 3),\n",
       " (1, 3, 2, 4, 5),\n",
       " (1, 3, 2, 5, 4),\n",
       " (1, 4, 3, 2, 5),\n",
       " (1, 5, 4, 3, 2),\n",
       " (2, 1, 3, 4, 5),\n",
       " (2, 1, 3, 5, 4),\n",
       " (2, 1, 4, 3, 5),\n",
       " (2, 1, 5, 4, 3),\n",
       " (3, 2, 1, 4, 5),\n",
       " (3, 2, 1, 5, 4),\n",
       " (4, 3, 2, 1, 5),\n",
       " (5, 4, 3, 2, 1)]"
      ]
     },
     "execution_count": 42,
     "metadata": {},
     "output_type": "execute_result"
    }
   ],
   "source": [
    "from itertools import permutations as perm\n",
    "\n",
    "n = 5\n",
    "r = []\n",
    "for case in perm(range(1, n + 1)):\n",
    "    ip = True\n",
    "    for i in range(n - 1):\n",
    "        if case[i + 1] < case[i] - 1:\n",
    "            ip = False\n",
    "            break\n",
    "    if ip:\n",
    "        r.append(case)\n",
    "        \n",
    "r"
   ]
  },
  {
   "cell_type": "code",
   "execution_count": 24,
   "metadata": {},
   "outputs": [
    {
     "data": {
      "text/plain": [
       "8"
      ]
     },
     "execution_count": 24,
     "metadata": {},
     "output_type": "execute_result"
    }
   ],
   "source": [
    "2 ** (n - 1)"
   ]
  },
  {
   "cell_type": "code",
   "execution_count": 12,
   "metadata": {},
   "outputs": [
    {
     "data": {
      "text/plain": [
       "16"
      ]
     },
     "execution_count": 12,
     "metadata": {},
     "output_type": "execute_result"
    }
   ],
   "source": [
    "len(r)"
   ]
  },
  {
   "cell_type": "code",
   "execution_count": null,
   "metadata": {},
   "outputs": [],
   "source": [
    "d5 = 1d4 + 21d3 + 321d2 + 4321d1 + 54321d0\n",
    "d4 = d3 + d2 + d1 + d0"
   ]
  },
  {
   "cell_type": "code",
   "execution_count": 16,
   "metadata": {},
   "outputs": [
    {
     "data": {
      "text/plain": [
       "1000000000000000000"
      ]
     },
     "execution_count": 16,
     "metadata": {},
     "output_type": "execute_result"
    }
   ],
   "source": [
    "10**18"
   ]
  },
  {
   "cell_type": "code",
   "execution_count": 17,
   "metadata": {},
   "outputs": [
    {
     "data": {
      "text/plain": [
       "1152921504606846976"
      ]
     },
     "execution_count": 17,
     "metadata": {},
     "output_type": "execute_result"
    }
   ],
   "source": [
    "2 ** 60"
   ]
  },
  {
   "cell_type": "code",
   "execution_count": 18,
   "metadata": {},
   "outputs": [
    {
     "data": {
      "text/plain": [
       "True"
      ]
     },
     "execution_count": 18,
     "metadata": {},
     "output_type": "execute_result"
    }
   ],
   "source": [
    "10**18 < 2 ** 60"
   ]
  },
  {
   "cell_type": "code",
   "execution_count": 75,
   "metadata": {},
   "outputs": [
    {
     "name": "stdout",
     "output_type": "stream",
     "text": [
      "63 2\n",
      "1 2 3 4 5 6 7 8 9 10 11 12 13 14 15 16 17 18 19 20 21 22 23 24 25 26 27 28 29 30 31 32 33 34 35 36 37 38 39 40 41 42 43 44 45 46 47 48 49 50 51 52 53 54 55 56 57 58 59 60 61 63 62\n"
     ]
    }
   ],
   "source": [
    "import sys\n",
    "input = lambda: sys.stdin.readline().rstrip()\n",
    "\n",
    "for _ in range(int(input())):\n",
    "    n, k = map(int, input().split())\n",
    "    on = n\n",
    "\n",
    "    ip = True\n",
    "    if n <= 62:\n",
    "        if k > 2 ** (n - 1):\n",
    "            ip = False\n",
    "\n",
    "    if not ip:\n",
    "        print(-1)\n",
    "    else:\n",
    "        r = []\n",
    "        cur = 1\n",
    "        while n >= 62:\n",
    "            r.append(cur)\n",
    "            cur += 1\n",
    "            n -= 1\n",
    "\n",
    "        start = cur\n",
    "        while True:\n",
    "            if k == 2 ** (n - 1):\n",
    "                start = on\n",
    "                for i in range(on, cur - 1, -1):\n",
    "                    r.append(i)\n",
    "                break\n",
    "            elif k <= 2 ** (n - 2):\n",
    "                for i in range(start, cur - 1, -1):\n",
    "                    r.append(i)\n",
    "                cur = start + 1\n",
    "                start = cur\n",
    "                n -= 1\n",
    "            else:\n",
    "                k -= 2 ** (n - 2)\n",
    "                start += 1\n",
    "                n -= 1\n",
    "\n",
    "        print(*r)"
   ]
  },
  {
   "cell_type": "code",
   "execution_count": null,
   "metadata": {},
   "outputs": [],
   "source": [
    "[(1, 2, 3, 4, 5),\n",
    " (1, 2, 3, 5, 4),\n",
    " (1, 2, 4, 3, 5),\n",
    " (1, 2, 5, 4, 3),\n",
    " (1, 3, 2, 4, 5),\n",
    " (1, 3, 2, 5, 4),\n",
    " (1, 4, 3, 2, 5),\n",
    " (1, 5, 4, 3, 2),\n",
    " (2, 1, 3, 4, 5),\n",
    " (2, 1, 3, 5, 4),\n",
    " (2, 1, 4, 3, 5),\n",
    " (2, 1, 5, 4, 3),\n",
    " (3, 2, 1, 4, 5),\n",
    " (3, 2, 1, 5, 4),\n",
    " (4, 3, 2, 1, 5),\n",
    " (5, 4, 3, 2, 1)]"
   ]
  },
  {
   "cell_type": "code",
   "execution_count": null,
   "metadata": {},
   "outputs": [],
   "source": [
    "0000\n",
    "0001\n",
    "0010\n",
    "0011\n",
    "0100"
   ]
  },
  {
   "cell_type": "code",
   "execution_count": 85,
   "metadata": {},
   "outputs": [
    {
     "name": "stdout",
     "output_type": "stream",
     "text": [
      "1\n",
      "2 1\n",
      "[0]\n",
      "1 2\n"
     ]
    }
   ],
   "source": [
    "import sys\n",
    "# input = lambda: sys.stdin.readline().rstrip()\n",
    "\n",
    "for _ in range(int(input())):\n",
    "    n, k = map(int, input().split())\n",
    "\n",
    "    ip = True\n",
    "    if n <= 62:\n",
    "        if k > 2 ** (n - 1):\n",
    "            ip = False\n",
    "\n",
    "    if not ip:\n",
    "        print(-1)\n",
    "    elif n == 1 and k == 1:\n",
    "        print(1)\n",
    "    else:\n",
    "        temp = bin(k - 1)[2:]\n",
    "        temp = [0] * (n - 1 - len(temp)) + list(map(int, temp))\n",
    "        \n",
    "        r = []\n",
    "        cur = 1\n",
    "        start = 1\n",
    "        for v in temp:\n",
    "            if v == 1:\n",
    "                start += 1\n",
    "            else:\n",
    "                for i in range(start, cur - 1, -1):\n",
    "                    r.append(i)\n",
    "                start += 1\n",
    "                cur = start\n",
    "        for i in range(start, cur - 1, -1):\n",
    "            r.append(i)\n",
    "\n",
    "        print(*r)"
   ]
  },
  {
   "cell_type": "markdown",
   "metadata": {},
   "source": [
    "https://codeforces.com/problemset/problem/1491/D D. Zookeeper and The Infinite Zoo"
   ]
  },
  {
   "cell_type": "code",
   "execution_count": null,
   "metadata": {},
   "outputs": [],
   "source": [
    "u 1101  13\n",
    "v 1001  9\n",
    "u&v 1001\n",
    "u -> u + v\n",
    "13    22\n",
    "\n"
   ]
  },
  {
   "cell_type": "code",
   "execution_count": 6,
   "metadata": {},
   "outputs": [],
   "source": [
    "u = int('11', 2)\n",
    "v = int('01', 2)"
   ]
  },
  {
   "cell_type": "code",
   "execution_count": 9,
   "metadata": {},
   "outputs": [],
   "source": [
    "nu = u + v"
   ]
  },
  {
   "cell_type": "code",
   "execution_count": 10,
   "metadata": {},
   "outputs": [
    {
     "data": {
      "text/plain": [
       "4"
      ]
     },
     "execution_count": 10,
     "metadata": {},
     "output_type": "execute_result"
    }
   ],
   "source": [
    "nu"
   ]
  },
  {
   "cell_type": "code",
   "execution_count": 12,
   "metadata": {},
   "outputs": [
    {
     "data": {
      "text/plain": [
       "(3, 1)"
      ]
     },
     "execution_count": 12,
     "metadata": {},
     "output_type": "execute_result"
    }
   ],
   "source": [
    "u, v"
   ]
  },
  {
   "cell_type": "code",
   "execution_count": 11,
   "metadata": {},
   "outputs": [
    {
     "data": {
      "text/plain": [
       "'0b100'"
      ]
     },
     "execution_count": 11,
     "metadata": {},
     "output_type": "execute_result"
    }
   ],
   "source": [
    "bin(nu)"
   ]
  },
  {
   "cell_type": "code",
   "execution_count": 14,
   "metadata": {},
   "outputs": [
    {
     "name": "stdout",
     "output_type": "stream",
     "text": [
      "0b1000\n"
     ]
    }
   ],
   "source": [
    "u = int('100', 2)\n",
    "v = int('100', 2)\n",
    "\n",
    "nu = u + v\n",
    "print(bin(nu))"
   ]
  },
  {
   "cell_type": "code",
   "execution_count": 16,
   "metadata": {},
   "outputs": [
    {
     "data": {
      "text/plain": [
       "('0b1', '0b110')"
      ]
     },
     "execution_count": 16,
     "metadata": {},
     "output_type": "execute_result"
    }
   ],
   "source": [
    "bin(1), bin(6)"
   ]
  },
  {
   "cell_type": "code",
   "execution_count": null,
   "metadata": {},
   "outputs": [],
   "source": [
    "0,0이나 1,1면 pass\n",
    "\n",
    "1,0이면 이후에 0,1이 1개 이상 나와야됨 (1, 0)이 여러 개 연속으로 있어도 1 하나면 충분함\n",
    "0,1이면 이전에 1 있으면 쓰고 없으면 안됨"
   ]
  },
  {
   "cell_type": "code",
   "execution_count": 30,
   "metadata": {},
   "outputs": [
    {
     "name": "stdout",
     "output_type": "stream",
     "text": [
      "5 5\n",
      "YES\n"
     ]
    }
   ],
   "source": [
    "import sys\n",
    "input = lambda: sys.stdin.readline().rstrip()\n",
    "\n",
    "for _ in range(int(input())):\n",
    "    a, b = map(int, input().split())\n",
    "\n",
    "    aa = [0] * 31\n",
    "    bin_a = bin(a)\n",
    "    cur = 0\n",
    "    for i in range(len(bin_a) - 1, 1, -1):\n",
    "        if bin_a[i] == '1':\n",
    "            aa[cur] = 1\n",
    "        cur += 1\n",
    "\n",
    "    bb = [0] * 31\n",
    "    bin_b = bin(b)\n",
    "    cur = 0\n",
    "    for i in range(len(bin_b) - 1, 1, -1):\n",
    "        if bin_b[i] == '1':\n",
    "            bb[cur] = 1\n",
    "        cur += 1\n",
    "\n",
    "    is_pending = False\n",
    "    ip = True\n",
    "    c10 = 0\n",
    "    for i in range(31):\n",
    "        if aa[i] == bb[i]:\n",
    "            continue\n",
    "        if aa[i] == 1 and bb[i] == 0:\n",
    "            c10 += 1\n",
    "            is_pending = True\n",
    "        else:\n",
    "            if c10 == 0:\n",
    "                ip = False\n",
    "                break\n",
    "            c10 -= 1\n",
    "            is_pending = False\n",
    "\n",
    "    if is_pending:\n",
    "        ip = False\n",
    "\n",
    "    if ip:\n",
    "        print('YES')\n",
    "    else:\n",
    "        print('NO')"
   ]
  },
  {
   "cell_type": "markdown",
   "metadata": {},
   "source": [
    "https://codeforces.com/problemset/problem/1477/A A. Nezzar and Board"
   ]
  },
  {
   "cell_type": "code",
   "execution_count": null,
   "metadata": {},
   "outputs": [],
   "source": [
    "from math import gcd\n",
    "import sys\n",
    "input = lambda: sys.stdin.readline().rstrip()\n",
    "\n",
    "for _ in range(int(input())):\n",
    "    n, k = map(int, input().split())\n",
    "    li = sorted(map(int, input().split()))\n",
    "\n",
    "    diffs = []\n",
    "    for i in range(n - 1):\n",
    "        diffs.append(li[i + 1] - li[i])\n",
    "\n",
    "    g = diffs[0]\n",
    "    for i in range(1, n - 1):\n",
    "        g = gcd(g, diffs[i])\n",
    "\n",
    "    if (k - li[0]) % g == 0:\n",
    "        print('YES')\n",
    "    else:\n",
    "        print('NO')"
   ]
  },
  {
   "cell_type": "code",
   "execution_count": 44,
   "metadata": {},
   "outputs": [
    {
     "data": {
      "text/plain": [
       "3"
      ]
     },
     "execution_count": 44,
     "metadata": {},
     "output_type": "execute_result"
    }
   ],
   "source": [
    "1 2"
   ]
  },
  {
   "cell_type": "code",
   "execution_count": 45,
   "metadata": {},
   "outputs": [
    {
     "data": {
      "text/plain": [
       "(0, 3)"
      ]
     },
     "execution_count": 45,
     "metadata": {},
     "output_type": "execute_result"
    }
   ],
   "source": [
    "2 * 1 - 2, 2 * 2 - 1"
   ]
  },
  {
   "cell_type": "code",
   "execution_count": null,
   "metadata": {},
   "outputs": [],
   "source": [
    "3, 6\n"
   ]
  },
  {
   "cell_type": "code",
   "execution_count": 46,
   "metadata": {},
   "outputs": [
    {
     "data": {
      "text/plain": [
       "(0, 9)"
      ]
     },
     "execution_count": 46,
     "metadata": {},
     "output_type": "execute_result"
    }
   ],
   "source": [
    "2 * 3 - 6, 2 * 6 - 3"
   ]
  },
  {
   "cell_type": "code",
   "execution_count": 47,
   "metadata": {},
   "outputs": [
    {
     "data": {
      "text/plain": [
       "(3, 9)"
      ]
     },
     "execution_count": 47,
     "metadata": {},
     "output_type": "execute_result"
    }
   ],
   "source": [
    "5, 7\n",
    "\n",
    "2 * 5 - 7, 2 * 7 - 5"
   ]
  },
  {
   "cell_type": "code",
   "execution_count": 48,
   "metadata": {},
   "outputs": [
    {
     "data": {
      "text/plain": [
       "(16, -5)"
      ]
     },
     "execution_count": 48,
     "metadata": {},
     "output_type": "execute_result"
    }
   ],
   "source": [
    "2, 9\n",
    "2 * 9 - 2, 2 * 2 - 9"
   ]
  },
  {
   "cell_type": "code",
   "execution_count": 49,
   "metadata": {},
   "outputs": [
    {
     "data": {
      "text/plain": [
       "(-5, 16)"
      ]
     },
     "execution_count": 49,
     "metadata": {},
     "output_type": "execute_result"
    }
   ],
   "source": [
    "diff = 9 - 2\n",
    "2 - diff, 9 + diff"
   ]
  },
  {
   "cell_type": "code",
   "execution_count": null,
   "metadata": {},
   "outputs": [],
   "source": [
    "3 0\n",
    "2 3 7"
   ]
  },
  {
   "cell_type": "code",
   "execution_count": null,
   "metadata": {},
   "outputs": [],
   "source": [
    "1, 4"
   ]
  },
  {
   "cell_type": "code",
   "execution_count": 52,
   "metadata": {},
   "outputs": [
    {
     "data": {
      "text/plain": [
       "(-6, 15)"
      ]
     },
     "execution_count": 52,
     "metadata": {},
     "output_type": "execute_result"
    }
   ],
   "source": [
    "# 1 5 8\n",
    "\n",
    "-3 1 5 9 13 17   4로 나눈 나머지가 1\n",
    "-1 2 5 8 11 14   3으로 나눈 나머지가 2\n",
    "-6 1 8 15  7로 나눈 나머지가 1\n",
    "\n",
    "8 9"
   ]
  },
  {
   "cell_type": "code",
   "execution_count": null,
   "metadata": {},
   "outputs": [],
   "source": [
    "-6 1 5 8 15"
   ]
  },
  {
   "cell_type": "code",
   "execution_count": null,
   "metadata": {},
   "outputs": [],
   "source": [
    "4 3\n",
    "3 3\n",
    "\n",
    "\n",
    "7 7\n",
    "5 5 5"
   ]
  },
  {
   "cell_type": "markdown",
   "metadata": {},
   "source": [
    "https://codeforces.com/problemset/problem/1475/D D. Cleaning the Phone"
   ]
  },
  {
   "cell_type": "code",
   "execution_count": 27,
   "metadata": {},
   "outputs": [
    {
     "name": "stdout",
     "output_type": "stream",
     "text": [
      "1 4 6 2 [0, 5, 8]\n",
      "2 5 5 1 [0, 5, 8]\n",
      "4\n"
     ]
    }
   ],
   "source": [
    "from bisect import bisect_left\n",
    "import sys\n",
    "input = lambda: sys.stdin.readline().rstrip()\n",
    "\n",
    "inf = float('inf')\n",
    "\n",
    "for _ in range(int(input())):\n",
    "    n, m = map(int, input().split())\n",
    "    a = list(map(int, input().split()))\n",
    "    b = list(map(int, input().split()))\n",
    "\n",
    "    c1s = []\n",
    "    c2s = []\n",
    "    sv = 0\n",
    "    for i in range(n):\n",
    "        v = a[i]\n",
    "        sv += v\n",
    "        if b[i] == 1:\n",
    "            c1s.append(v)\n",
    "        else:\n",
    "            c2s.append(v)\n",
    "\n",
    "    if sv < m:\n",
    "        print(-1)\n",
    "    else:      \n",
    "        c1_len = len(c1s)\n",
    "        c2_len = len(c2s)\n",
    "\n",
    "        c1s.sort(reverse=True)\n",
    "        c2s.sort(reverse=True)\n",
    "\n",
    "        sc1s = [0] * (c1_len + 1)\n",
    "        sc1s_len = len(sc1s)\n",
    "        cumul = 0\n",
    "        for i in range(c1_len):\n",
    "            cumul += c1s[i]\n",
    "            sc1s[i + 1] = cumul\n",
    "\n",
    "        min_r = inf\n",
    "        index = bisect_left(sc1s, m)\n",
    "        if index < sc1s_len:\n",
    "            min_r = index\n",
    "\n",
    "        base_freed = 0\n",
    "        for c2i in range(c2_len):\n",
    "            base_freed += c2s[c2i]\n",
    "            incon = 2 * (c2i + 1)\n",
    "\n",
    "            left = m - base_freed\n",
    "\n",
    "            index = bisect_left(sc1s, left)\n",
    "\n",
    "            if index == sc1s_len:\n",
    "                continue\n",
    "            used_1 = index\n",
    "            incon += used_1\n",
    "\n",
    "            min_r = min(min_r, incon)\n",
    "\n",
    "        print(min_r)"
   ]
  },
  {
   "cell_type": "markdown",
   "metadata": {},
   "source": [
    "https://codeforces.com/problemset/problem/1468/J J. Road Reform"
   ]
  },
  {
   "cell_type": "code",
   "execution_count": null,
   "metadata": {},
   "outputs": [],
   "source": [
    "import os\n",
    "import sys\n",
    "from io import BytesIO, IOBase\n",
    " \n",
    "BUFSIZE = 8192\n",
    "\n",
    "class FastIO(IOBase):\n",
    "    newlines = 0\n",
    " \n",
    "    def __init__(self, file):\n",
    "        self._fd = file.fileno()\n",
    "        self.buffer = BytesIO()\n",
    "        self.writable = \"x\" in file.mode or \"r\" not in file.mode\n",
    "        self.write = self.buffer.write if self.writable else None\n",
    " \n",
    "    def read(self):\n",
    "        while True:\n",
    "            b = os.read(self._fd, max(os.fstat(self._fd).st_size, BUFSIZE))\n",
    "            if not b:\n",
    "                break\n",
    "            ptr = self.buffer.tell()\n",
    "            self.buffer.seek(0, 2), self.buffer.write(b), self.buffer.seek(ptr)\n",
    "        self.newlines = 0\n",
    "        return self.buffer.read()\n",
    " \n",
    "    def readline(self):\n",
    "        while self.newlines == 0:\n",
    "            b = os.read(self._fd, max(os.fstat(self._fd).st_size, BUFSIZE))\n",
    "            self.newlines = b.count(b\"\\n\") + (not b)\n",
    "            ptr = self.buffer.tell()\n",
    "            self.buffer.seek(0, 2), self.buffer.write(b), self.buffer.seek(ptr)\n",
    "        self.newlines -= 1\n",
    "        return self.buffer.readline()\n",
    " \n",
    "    def flush(self):\n",
    "        if self.writable:\n",
    "            os.write(self._fd, self.buffer.getvalue())\n",
    "            self.buffer.truncate(0), self.buffer.seek(0)\n",
    " \n",
    " \n",
    "class IOWrapper(IOBase):\n",
    "    def __init__(self, file):\n",
    "        self.buffer = FastIO(file)\n",
    "        self.flush = self.buffer.flush\n",
    "        self.writable = self.buffer.writable\n",
    "        self.write = lambda s: self.buffer.write(s.encode(\"ascii\"))\n",
    "        self.read = lambda: self.buffer.read().decode(\"ascii\")\n",
    "        self.readline = lambda: self.buffer.readline().decode(\"ascii\")\n",
    "\n",
    "sys.stdin, sys.stdout = IOWrapper(sys.stdin), IOWrapper(sys.stdout)\n",
    "input = lambda: sys.stdin.readline().rstrip(\"\\r\\n\")\n",
    "\n",
    "inf = float('inf')\n",
    "\n",
    "## PYRIVAL BOOTSTRAP\n",
    "# https://github.com/cheran-senthil/PyRival/blob/master/pyrival/misc/bootstrap.py\n",
    "# This decorator allows for recursion without actually doing recursion\n",
    "## @bootstrap, yield when getting and returning value in recursive functions, end of functions\n",
    "from types import GeneratorType\n",
    "\n",
    "def bootstrap(f, stack=[]):\n",
    "    def wrappedfunc(*args, **kwargs):\n",
    "        if stack:\n",
    "            return f(*args, **kwargs)\n",
    "        else:\n",
    "            to = f(*args, **kwargs)\n",
    "            while True:\n",
    "                if type(to) is GeneratorType:\n",
    "                    stack.append(to)\n",
    "                    to = next(to)\n",
    "                else:\n",
    "                    stack.pop()\n",
    "                    if not stack:\n",
    "                        break\n",
    "                    to = stack[-1].send(to)\n",
    "            return to\n",
    "    return wrappedfunc\n",
    "\n",
    "@bootstrap\n",
    "def find(v):\n",
    "    if v == parent[v]:\n",
    "        yield v\n",
    "    parent[v] = yield find(parent[v])\n",
    "    yield parent[v]\n",
    "\n",
    "def union(a, b):\n",
    "    if a > b:\n",
    "        a, b = b, a\n",
    "    parent[b] = a\n",
    "\n",
    "for _ in range(int(input())):\n",
    "    n, m, k = map(int, input().split())\n",
    "    edges = [list(map(int, input().split())) for _ in range(m)]\n",
    "\n",
    "    parent = list(range(n + 1))\n",
    "    edges.sort(key=lambda x: x[2])\n",
    "\n",
    "    is_met = False # is met same or more than k\n",
    "    total = 0\n",
    "    min_abs_diff_with_k = inf\n",
    "    for x, y, s in edges:\n",
    "        min_abs_diff_with_k = min(min_abs_diff_with_k, abs(k - s))\n",
    "        \n",
    "        rx = find(x)\n",
    "        ry = find(y)\n",
    "\n",
    "        if rx != ry:\n",
    "            union(rx, ry)\n",
    "\n",
    "            if s >= k:\n",
    "                is_met = True\n",
    "                total += s - k\n",
    "            \n",
    "    if not is_met:\n",
    "        total += min_abs_diff_with_k\n",
    "        \n",
    "    print(total)"
   ]
  },
  {
   "cell_type": "markdown",
   "metadata": {},
   "source": [
    "https://codeforces.com/problemset/problem/1466/E E. Apollo versus Pan"
   ]
  },
  {
   "cell_type": "code",
   "execution_count": 42,
   "metadata": {},
   "outputs": [
    {
     "name": "stdout",
     "output_type": "stream",
     "text": [
      "1 1 1 1 1 1\n",
      "1 1 10 1 11 11\n",
      "1 10 1 0 11 0\n",
      "1 10 10 0 10 0\n",
      "10 1 1 0 1 0\n",
      "10 1 10 0 11 0\n",
      "10 10 1 10 11 110\n",
      "10 10 10 10 10 100\n",
      "14\n"
     ]
    }
   ],
   "source": [
    "n = 2\n",
    "li = [1, 2]\n",
    "\n",
    "total = 0\n",
    "for i in range(n):\n",
    "    for j in range(n):\n",
    "        for k in range(n):\n",
    "            total += (li[i] & li[j]) * (li[i] | li[k])\n",
    "            print(bin(li[i])[2:], bin(li[j])[2:], bin(li[k])[2:], bin(li[j] & li[i])[2:], bin(li[j] | li[k])[2:], bin((li[i] & li[j]) * (li[j] | li[k]))[2:])\n",
    "            \n",
    "print(total)"
   ]
  },
  {
   "cell_type": "code",
   "execution_count": 59,
   "metadata": {},
   "outputs": [
    {
     "name": "stdout",
     "output_type": "stream",
     "text": [
      "6\n",
      "1 12 123 1234 12345 123456\n",
      "502811676\n"
     ]
    }
   ],
   "source": [
    "import sys\n",
    "input = lambda: sys.stdin.readline().rstrip()\n",
    "\n",
    "mod = int(1e9) + 7\n",
    "\n",
    "for _ in range(int(input())):\n",
    "    n = int(input())\n",
    "    li = list(map(int, input().split()))\n",
    "\n",
    "    cs = [0] * 61\n",
    "    for v in li:\n",
    "        bv = bin(v)\n",
    "\n",
    "        cur = 0\n",
    "        for i in range(len(bv) - 1, 1, -1):\n",
    "            if bv[i] == '1':\n",
    "                cs[cur] += 1\n",
    "            cur += 1\n",
    "\n",
    "    ws = [0] * 61\n",
    "    ws[0] = 1\n",
    "    for i in range(1, 61):\n",
    "        ws[i] = ws[i - 1] * 2\n",
    "        ws[i] %= mod\n",
    "\n",
    "    total = 0\n",
    "    for v in li:\n",
    "        bv = bin(v)\n",
    "\n",
    "        cur = 0\n",
    "        t1 = 0 # and case\n",
    "        t2 = 0 # or case\n",
    "        for i in range(len(bv) - 1, 1, -1):\n",
    "            if bv[i] == '1':\n",
    "                t1 += ws[cur] * cs[cur]\n",
    "                t1 %= mod\n",
    "                t2 += ws[cur] * n\n",
    "                t2 %= mod\n",
    "            else:\n",
    "                t2 += ws[cur] * cs[cur]\n",
    "                t2 %= mod\n",
    "            cur += 1\n",
    "\n",
    "        for ncur in range(cur, 61):\n",
    "            t2 += ws[ncur] * cs[ncur]\n",
    "            t2 %= mod\n",
    "\n",
    "        total += t1 * t2\n",
    "        total %= mod\n",
    "\n",
    "    print(total)"
   ]
  },
  {
   "cell_type": "markdown",
   "metadata": {},
   "source": [
    "https://codeforces.com/problemset/problem/1401/D D. Maximum Distributed Tree"
   ]
  },
  {
   "cell_type": "code",
   "execution_count": null,
   "metadata": {},
   "outputs": [],
   "source": [
    "주어진 소인수분해 결과의 수가 n - 1개보다 적으면 나머지는 1로 채워야 하고 그렇지 않으면 1은 사용할 필요가 없음\n",
    "n - 1개보다 많으면 합쳐야 함"
   ]
  },
  {
   "cell_type": "code",
   "execution_count": null,
   "metadata": {},
   "outputs": [],
   "source": [
    "import sys\n",
    "# input = lambda: sys.stdin.readline().rstrip()\n",
    "\n",
    "## PYRIVAL BOOTSTRAP\n",
    "# https://github.com/cheran-senthil/PyRival/blob/master/pyrival/misc/bootstrap.py\n",
    "# This decorator allows for recursion without actually doing recursion\n",
    "## @bootstrap, yield when getting and returning value in recursive functions, end of functions\n",
    "from types import GeneratorType\n",
    "\n",
    "def bootstrap(f, stack=[]):\n",
    "    def wrappedfunc(*args, **kwargs):\n",
    "        if stack:\n",
    "            return f(*args, **kwargs)\n",
    "        else:\n",
    "            to = f(*args, **kwargs)\n",
    "            while True:\n",
    "                if type(to) is GeneratorType:\n",
    "                    stack.append(to)\n",
    "                    to = next(to)\n",
    "                else:\n",
    "                    stack.pop()\n",
    "                    if not stack:\n",
    "                        break\n",
    "                    to = stack[-1].send(to)\n",
    "            return to\n",
    "    return wrappedfunc\n",
    "\n",
    "mod = int(1e9) + 7\n",
    "\n",
    "@bootstrap\n",
    "def dfs(value):\n",
    "    vt[value] = True\n",
    "    \n",
    "    cc = 0 # children_count \n",
    "    for v in li[value]:\n",
    "        if vt[v]:\n",
    "            continue\n",
    "        temp_cc = yield dfs(v)\n",
    "        used.append(temp_cc * (n - temp_cc))\n",
    "        cc += temp_cc\n",
    "    \n",
    "    yield cc + 1\n",
    "     \n",
    "for _ in range(int(input())):\n",
    "    n = int(input())\n",
    "\n",
    "    li = [[] for _ in range(n + 1)]\n",
    "    for _ in range(n - 1):\n",
    "        u, v = map(int, input().split())\n",
    "        li[u].append(v)\n",
    "        li[v].append(u)\n",
    "\n",
    "    m = int(input())\n",
    "    ps = sorted(map(int, input().split()))\n",
    "\n",
    "    used = []\n",
    "    vt = [False] * (n + 1)\n",
    "    dfs(1)\n",
    "    \n",
    "    used.sort()\n",
    "    \n",
    "    if m > n - 1:\n",
    "        remained = m - (n - 1)\n",
    "        \n",
    "        for _ in range(remained):\n",
    "            a = ps.pop()\n",
    "            b = ps.pop()\n",
    "            ps.append(a * b % mod)\n",
    "    else:\n",
    "        needed = n - 1 - m\n",
    "        ps = [1] * needed + ps\n",
    "        \n",
    "    total = 0\n",
    "    for i in range(n - 1):\n",
    "        temp = ps[i] * used[i]\n",
    "        temp %= mod\n",
    "        \n",
    "        total += temp\n",
    "        total %= mod\n",
    "        \n",
    "    print(total)"
   ]
  }
 ],
 "metadata": {
  "kernelspec": {
   "display_name": "Python 3",
   "language": "python",
   "name": "python3"
  },
  "language_info": {
   "codemirror_mode": {
    "name": "ipython",
    "version": 3
   },
   "file_extension": ".py",
   "mimetype": "text/x-python",
   "name": "python",
   "nbconvert_exporter": "python",
   "pygments_lexer": "ipython3",
   "version": "3.7.4"
  }
 },
 "nbformat": 4,
 "nbformat_minor": 2
}
