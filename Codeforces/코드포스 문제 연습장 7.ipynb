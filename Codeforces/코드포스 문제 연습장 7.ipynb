{
 "cells": [
  {
   "cell_type": "markdown",
   "metadata": {},
   "source": [
    "https://codeforces.com/problemset/problem/1656/B B. Subtract Operation"
   ]
  },
  {
   "cell_type": "code",
   "execution_count": 8,
   "metadata": {
    "scrolled": true
   },
   "outputs": [
    {
     "name": "stdout",
     "output_type": "stream",
     "text": [
      "2 17\n",
      "18 18\n",
      "False\n"
     ]
    }
   ],
   "source": [
    "import sys\n",
    "input = lambda: sys.stdin.readline().rstrip()\n",
    "\n",
    "for _ in range(int(input())):\n",
    "    n, k = map(int, input().split())\n",
    "    li = list(map(int, input().split()))\n",
    "\n",
    "    st = set()\n",
    "    ip = False\n",
    "    for v in li:\n",
    "        if v - k in st or v + k in st:\n",
    "            ip = True\n",
    "            break\n",
    "        st.add(v)\n",
    "\n",
    "    if ip:\n",
    "        print('YES')\n",
    "    else:\n",
    "        print('NO')"
   ]
  },
  {
   "cell_type": "markdown",
   "metadata": {},
   "source": [
    "https://codeforces.com/problemset/problem/1650/C C. Weight of the System of Nested Segments"
   ]
  },
  {
   "cell_type": "code",
   "execution_count": 11,
   "metadata": {
    "scrolled": true
   },
   "outputs": [
    {
     "name": "stdout",
     "output_type": "stream",
     "text": [
      "-6\n",
      "-5 5\n",
      "1 3\n"
     ]
    }
   ],
   "source": [
    "import sys\n",
    "input = lambda: sys.stdin.readline().rstrip()\n",
    "\n",
    "for _ in range(int(input())):\n",
    "    input()\n",
    "    \n",
    "    n, m = map(int, input().split())\n",
    "    li = [list(map(int, input().split())) + [i] for i in range(m)]\n",
    "\n",
    "    li.sort(key=lambda x: x[1])\n",
    "\n",
    "    total = 0\n",
    "    nli = li[:n * 2]\n",
    "    nli.sort(key=lambda x: x[0])\n",
    "\n",
    "    for v in nli:\n",
    "        total += v[1]\n",
    "    \n",
    "    print(total)\n",
    "    for i in range(n):\n",
    "        print(nli[i][2] + 1, nli[2 * n - 1 - i][2] + 1)\n",
    "#     print()"
   ]
  },
  {
   "cell_type": "markdown",
   "metadata": {},
   "source": [
    "https://codeforces.com/problemset/problem/1650/D D. Twist the Permutation"
   ]
  },
  {
   "cell_type": "code",
   "execution_count": null,
   "metadata": {
    "scrolled": true
   },
   "outputs": [],
   "source": [
    "from collections import deque\n",
    "import sys\n",
    "input = lambda: sys.stdin.readline().rstrip()\n",
    "\n",
    "for _ in range(int(input())):\n",
    "    n = int(input())\n",
    "    deq = deque(map(int, input().split()))\n",
    "\n",
    "    r = [0] * n\n",
    "    for to_last in range(n, 0, -1):\n",
    "        c = 0\n",
    "        while deq[-1] != to_last:\n",
    "            deq.rotate(-1)\n",
    "            c += 1\n",
    "        deq.pop()\n",
    "        r[to_last - 1] = c\n",
    "\n",
    "    print(*r)"
   ]
  },
  {
   "cell_type": "markdown",
   "metadata": {},
   "source": [
    "https://codeforces.com/problemset/problem/1644/C C. Increase Subarray Sums"
   ]
  },
  {
   "cell_type": "code",
   "execution_count": null,
   "metadata": {
    "scrolled": true
   },
   "outputs": [],
   "source": [
    "import sys\n",
    "# input = lambda: sys.stdin.readline().rstrip()\n",
    "\n",
    "inf = float('inf')\n",
    "\n",
    "for _ in range(int(input())):\n",
    "    n, x = map(int, input().split())\n",
    "    li = list(map(int, input().split()))\n",
    "\n",
    "    start = 0\n",
    "    end = 0\n",
    "    cur = li[0]\n",
    "    max_r = 0\n",
    "    intv_len = 0\n",
    "    while start <= end:\n",
    "        if cur < 0:\n",
    "            cur -= li[start]\n",
    "            start += 1\n",
    "            if start > end:\n",
    "                end = start\n",
    "                if end >= n:\n",
    "                    break\n",
    "                cur += li[end]\n",
    "        else:\n",
    "            if cur > max_r:\n",
    "                max_r = cur\n",
    "                intv_len = end - start + 1\n",
    "            elif cur == max_r:\n",
    "                intv_len = max(intv_len, end - start + 1)\n",
    "\n",
    "            end += 1\n",
    "            if end >= n:\n",
    "                break\n",
    "            cur += li[end]\n",
    "\n",
    "    result = [0] * (n + 1)\n",
    "    w = 0\n",
    "    for i in range(intv_len + 1):\n",
    "        result[i] = max_r + w\n",
    "        w += x\n",
    "\n",
    "    sli = [0] * (n + 1)\n",
    "    cumul = 0\n",
    "    for i in range(n):\n",
    "        cumul += li[i]\n",
    "        sli[i + 1] = cumul\n",
    "\n",
    "    for cur_k in range(intv_len + 1, n + 1):\n",
    "        max_temp = -inf\n",
    "        for end in range(cur_k - 1, n):\n",
    "            start = end - (cur_k - 1)\n",
    "            max_temp = max(max_temp, sli[end + 1] - sli[start])\n",
    "\n",
    "        max_r = max(result[cur_k - 1], max_temp + w)\n",
    "        result[cur_k] = max_r\n",
    "\n",
    "        w += x\n",
    "\n",
    "    print(*result)"
   ]
  },
  {
   "cell_type": "code",
   "execution_count": 42,
   "metadata": {
    "scrolled": true
   },
   "outputs": [
    {
     "name": "stdout",
     "output_type": "stream",
     "text": [
      "10 2\n",
      "-6 -1 -2 4 -6 -1 -4 4 -5 -4\n",
      "4 6 6 7 7 7 7 8 8 8 8\n"
     ]
    }
   ],
   "source": [
    "import sys\n",
    "input = lambda: sys.stdin.readline().rstrip()\n",
    "\n",
    "inf = float('inf')\n",
    "\n",
    "for _ in range(int(input())):\n",
    "    n, x = map(int, input().split())\n",
    "    li = list(map(int, input().split()))\n",
    "\n",
    "    sli = [0] * (n + 1)\n",
    "    cumul = 0\n",
    "    for i in range(n):\n",
    "        cumul += li[i]\n",
    "        sli[i + 1] = cumul\n",
    "\n",
    "    intv_maxes = [-inf] * (n + 1)\n",
    "    intv_maxes[0] = 0\n",
    "\n",
    "    for intv_len in range(1, n + 1):\n",
    "        max_temp = -inf\n",
    "        for end in range(intv_len - 1, n):\n",
    "            start = end - (intv_len - 1)\n",
    "            max_temp = max(max_temp, sli[end + 1] - sli[start])\n",
    "        intv_maxes[intv_len] = max_temp\n",
    "\n",
    "    result = [0] * (n + 1)\n",
    "    for cur_k in range(n + 1):\n",
    "        max_temp = 0\n",
    "        for intv_len in range(n + 1):\n",
    "            max_temp = max(max_temp, intv_maxes[intv_len] + min(intv_len, cur_k) * x)\n",
    "\n",
    "        result[cur_k] = max_temp\n",
    "\n",
    "    print(*result)"
   ]
  },
  {
   "cell_type": "markdown",
   "metadata": {},
   "source": [
    "https://codeforces.com/problemset/problem/1552/B B. Running for Gold"
   ]
  },
  {
   "cell_type": "code",
   "execution_count": null,
   "metadata": {
    "scrolled": true
   },
   "outputs": [],
   "source": [
    "from collections import deque\n",
    "import sys\n",
    "input = lambda: sys.stdin.readline().rstrip()\n",
    "\n",
    "def compare(i, j):\n",
    "    is_i_win = False\n",
    "    win_c = 0\n",
    "    for k in range(5):\n",
    "        if li[i][k] < li[j][k]:\n",
    "            win_c += 1\n",
    "            \n",
    "    if win_c >= 3:\n",
    "        return True\n",
    "    return False\n",
    "\n",
    "for _ in range(int(input())):\n",
    "    n = int(input())\n",
    "    li = [list(map(int, input().split())) for _ in range(n)]\n",
    "\n",
    "    deq = deque(range(n))\n",
    "    while len(deq) >= 2:\n",
    "        if compare(deq[0], deq[-1]):\n",
    "            deq.pop()\n",
    "        else:\n",
    "            deq.popleft()\n",
    "\n",
    "    cand = deq[0]\n",
    "    is_cand_win_all = True\n",
    "    for i in range(n):\n",
    "        if i == cand:\n",
    "            continue\n",
    "        if not compare(cand, i):\n",
    "            is_cand_win_all = False\n",
    "            break\n",
    "\n",
    "    if is_cand_win_all:\n",
    "        print(cand + 1)\n",
    "    else:\n",
    "        print(-1)"
   ]
  },
  {
   "cell_type": "markdown",
   "metadata": {},
   "source": [
    "https://codeforces.com/problemset/problem/1689/C C. Infected Tree"
   ]
  },
  {
   "cell_type": "code",
   "execution_count": 45,
   "metadata": {
    "scrolled": true
   },
   "outputs": [
    {
     "name": "stdout",
     "output_type": "stream",
     "text": [
      "4\n",
      "1 2\n",
      "2 3\n",
      "2 4\n",
      "2\n"
     ]
    }
   ],
   "source": [
    "import sys\n",
    "input = lambda: sys.stdin.readline().rstrip()\n",
    "\n",
    "## PYRIVAL BOOTSTRAP\n",
    "# https://github.com/cheran-senthil/PyRival/blob/master/pyrival/misc/bootstrap.py\n",
    "# This decorator allows for recursion without actually doing recursion\n",
    "## @bootstrap, yield when getting and returning value in recursive functions, end of functions\n",
    "from types import GeneratorType\n",
    "\n",
    "def bootstrap(f, stack=[]):\n",
    "    def wrappedfunc(*args, **kwargs):\n",
    "        if stack:\n",
    "            return f(*args, **kwargs)\n",
    "        else:\n",
    "            to = f(*args, **kwargs)\n",
    "            while True:\n",
    "                if type(to) is GeneratorType:\n",
    "                    stack.append(to)\n",
    "                    to = next(to)\n",
    "                else:\n",
    "                    stack.pop()\n",
    "                    if not stack:\n",
    "                        break\n",
    "                    to = stack[-1].send(to)\n",
    "            return to\n",
    "    return wrappedfunc\n",
    "\n",
    "@bootstrap\n",
    "def dfs(value):\n",
    "    vt[value] = True\n",
    "    \n",
    "    cc = 0\n",
    "    children = []\n",
    "    for v in li[value]:\n",
    "        if vt[v]:\n",
    "            continue\n",
    "        cc += yield dfs(v)\n",
    "        children.append(v)\n",
    "        \n",
    "    ccs[value] = cc\n",
    "    \n",
    "    if len(children) == 0:\n",
    "        dp_infected[value] = 0\n",
    "    elif len(children) == 1:\n",
    "        dp_infected[value] = ccs[children[0]]\n",
    "    else:\n",
    "        t1 = ccs[children[0]] + dp_infected[children[1]]\n",
    "        t2 = ccs[children[1]] + dp_infected[children[0]]\n",
    "        dp_infected[value] = max(t1, t2)\n",
    "        \n",
    "    yield cc + 1\n",
    "\n",
    "for _ in range(int(input())):\n",
    "    n = int(input())\n",
    "    li = [[] for _ in range(n + 1)]\n",
    "    for _ in range(n - 1):\n",
    "        u, v = map(int, input().split())\n",
    "        li[u].append(v)\n",
    "        li[v].append(u)\n",
    "\n",
    "    dp_infected = [0] * (n + 1)\n",
    "    ccs = [0] * (n + 1) # children count\n",
    "    vt = [False] * (n + 1)\n",
    "    dfs(1)\n",
    "\n",
    "    print(dp_infected[1])"
   ]
  },
  {
   "cell_type": "code",
   "execution_count": null,
   "metadata": {
    "scrolled": true
   },
   "outputs": [],
   "source": [
    "abcd -> aaaa\n",
    "\n",
    "dcba -> dcba\n",
    "\n",
    "dadb -> dada\n",
    "\n",
    "dbca -> dbca\n",
    "\n",
    "dbcd -> dbcddbcd\n",
    "         dbcdbc\n",
    "    \n",
    "dbda -> dbdadbda\n",
    "        dbdbdbdb"
   ]
  },
  {
   "cell_type": "code",
   "execution_count": null,
   "metadata": {
    "scrolled": true
   },
   "outputs": [],
   "source": [
    "ccabaa -> ccabaa\n",
    "\n",
    "caba -> caba"
   ]
  },
  {
   "cell_type": "code",
   "execution_count": 50,
   "metadata": {
    "scrolled": true
   },
   "outputs": [
    {
     "name": "stdout",
     "output_type": "stream",
     "text": [
      "4 5\n",
      "abcd\n",
      "aaaaa\n"
     ]
    }
   ],
   "source": [
    "n, k = map(int, input().split())\n",
    "li = list(input())\n",
    "\n",
    "end = 0\n",
    "cri = li[0]\n",
    "for i in range(1, n):\n",
    "    if cri < li[i]:\n",
    "        end = i - 1\n",
    "        break\n",
    "else:\n",
    "    end = n - 1\n",
    "        \n",
    "cur = []\n",
    "for cur_end in range(end + 1):\n",
    "    cand = []\n",
    "    index = 0\n",
    "    for _ in range(k):\n",
    "        cand.append(li[index])\n",
    "        index += 1\n",
    "        if index > cur_end:\n",
    "            index = 0\n",
    "            \n",
    "    if not cur:\n",
    "        cur = cand\n",
    "    else:\n",
    "        if cand < cur:\n",
    "            cur = cand\n",
    "            \n",
    "print(''.join(cur))"
   ]
  },
  {
   "cell_type": "markdown",
   "metadata": {},
   "source": [
    "https://codeforces.com/problemset/problem/1700/C C. Helping the Nature"
   ]
  },
  {
   "cell_type": "code",
   "execution_count": null,
   "metadata": {
    "scrolled": true
   },
   "outputs": [],
   "source": [
    "서로 같게 만들기 위해서는 decrease 연산들밖에 사용할 수 없음\n",
    "서로 같게 만든 다음 decrease 또는 increase 가능함"
   ]
  },
  {
   "cell_type": "code",
   "execution_count": null,
   "metadata": {
    "scrolled": true
   },
   "outputs": [],
   "source": [
    "3\n",
    "10 4 7\n",
    "\n",
    "6 0 3    4\n",
    "0 0 0    9"
   ]
  },
  {
   "cell_type": "code",
   "execution_count": null,
   "metadata": {
    "scrolled": true
   },
   "outputs": [],
   "source": [
    "1 -2 3 -4 5\n",
    "\n",
    "5 2 7 0 9   4\n"
   ]
  },
  {
   "cell_type": "code",
   "execution_count": 51,
   "metadata": {
    "scrolled": true
   },
   "outputs": [
    {
     "data": {
      "text/plain": [
       "23"
      ]
     },
     "execution_count": 51,
     "metadata": {},
     "output_type": "execute_result"
    }
   ],
   "source": [
    "4+2+3+5+9"
   ]
  },
  {
   "cell_type": "code",
   "execution_count": null,
   "metadata": {
    "scrolled": true
   },
   "outputs": [],
   "source": [
    "1 2 3 4\n",
    "0 1 2 3\n",
    "0 0 1 2\n",
    "0 0 0 1\n",
    "0 0 0 0\n",
    "\n",
    "4 3 2 1\n",
    "3 2 1 0\n",
    "2 1 0 0\n",
    "1 0 0 0\n",
    "0 0 0 0"
   ]
  },
  {
   "cell_type": "code",
   "execution_count": null,
   "metadata": {
    "scrolled": true
   },
   "outputs": [],
   "source": [
    "1 0 4 0 4 \n",
    "\n",
    "1 0 4 0 4\n",
    "1   4   4\n",
    "\n",
    "1\n",
    "    4 4 4\n",
    "4 4 4 \n",
    "        4\n",
    "    \n",
    "4 3 2 1\n",
    "1\n",
    "\n",
    "1 4 4 4\n",
    "\n",
    "4 4 4 1\n",
    "    \n"
   ]
  },
  {
   "cell_type": "code",
   "execution_count": null,
   "metadata": {
    "scrolled": true
   },
   "outputs": [],
   "source": [
    "n = int(input())\n",
    "li = list(map(int, input().split()))\n",
    "\n",
    "total = 0\n",
    "\n",
    "min_v = min(li)\n",
    "cur_dec = 0\n",
    "cur = li[0]\n",
    "until = -1\n",
    "if cur != min_v:\n",
    "    for i in range(n):\n",
    "        if li[i] < cur:\n",
    "            cur_dec += cur - li[i]\n",
    "            cur = li[i]\n",
    "            if li[i] == min_v:\n",
    "                until = i - 1\n",
    "                break\n",
    "\n",
    "total += cur_dec\n",
    "if until >= 0:\n",
    "    for i in range(until + 1):\n",
    "        li[i] -= cur_dec\n",
    "        \n",
    "cur_dec = 0\n",
    "cur = li[n - 1]\n",
    "until = -1\n",
    "if cur != min_v:\n",
    "    for i in range(n - 1, -1, -1):\n",
    "        if li[i] < cur:\n",
    "            cur_dec += cur - li[i]\n",
    "            cur = li[i]\n",
    "            if li[i] == min_v:\n",
    "                until = i + 1\n",
    "                break\n",
    "\n",
    "total += cur_dec\n",
    "if until >= 0:\n",
    "    for i in range(until, n):\n",
    "        li[i] -= cur_dec\n",
    "        \n",
    "for i in range(n):\n",
    "    "
   ]
  },
  {
   "cell_type": "code",
   "execution_count": 9,
   "metadata": {
    "scrolled": true
   },
   "outputs": [
    {
     "name": "stdout",
     "output_type": "stream",
     "text": [
      "5\n",
      "1 -2 3 -4 5\n",
      "33\n"
     ]
    }
   ],
   "source": [
    "import sys\n",
    "input = lambda: sys.stdin.readline().rstrip()\n",
    "\n",
    "for _ in range(int(input())):\n",
    "    n = int(input())\n",
    "    li = list(map(int, input().split()))\n",
    "\n",
    "    total = 0\n",
    "    to_minus = 0\n",
    "    for i in range(n - 2, -1, -1):\n",
    "        li[i] -= to_minus\n",
    "        if li[i] > li[i + 1]:\n",
    "            diff = li[i] - li[i + 1]\n",
    "            to_minus += diff\n",
    "            li[i] = li[i + 1]\n",
    "\n",
    "    if li[-1] >= cri and (li[-1] - cri) % 2 == 0\n",
    "            \n",
    "            \n",
    "    total = to_minus\n",
    "    total += li[-1] - li[0]\n",
    "    total += abs(li[0])\n",
    "\n",
    "    print(total)"
   ]
  },
  {
   "cell_type": "code",
   "execution_count": 45,
   "metadata": {
    "scrolled": true
   },
   "outputs": [],
   "source": [
    "del input"
   ]
  },
  {
   "cell_type": "markdown",
   "metadata": {},
   "source": [
    "https://codeforces.com/problemset/problem/1396/B B. Stoned Game"
   ]
  },
  {
   "cell_type": "code",
   "execution_count": null,
   "metadata": {
    "scrolled": true
   },
   "outputs": [],
   "source": [
    "n == 1이면 처음이 이김\n",
    "\n",
    "n == 2이면 두 개가 다르면 처음이 이기고 같으면 2번째가 이김\n",
    "\n",
    "n >= 3이면 전체 합이 홀수면 처음이 이기고 짝수면 2번째가 이김"
   ]
  },
  {
   "cell_type": "code",
   "execution_count": 48,
   "metadata": {
    "scrolled": true
   },
   "outputs": [
    {
     "name": "stdout",
     "output_type": "stream",
     "text": [
      "1\n",
      "3\n",
      "1 1 5\n",
      "T\n"
     ]
    }
   ],
   "source": [
    "import sys\n",
    "# input = lambda: sys.stdin.readline().rstrip()\n",
    "\n",
    "for _ in range(int(input())):\n",
    "    n = int(input())\n",
    "    li = list(map(int, input().split()))\n",
    "\n",
    "    if n == 1:\n",
    "        print('T')\n",
    "    elif n == 2:\n",
    "        if li[0] != li[1]:\n",
    "            print('T')\n",
    "        else:\n",
    "            print('HL')\n",
    "    else:\n",
    "        cri = 4\n",
    "        li.sort()\n",
    "        cri += sum(li[:-1]) - (n - 1)\n",
    "        \n",
    "        if li[-1] >= cri and (li[-1] - cri) % 2 == 0:\n",
    "            print('T')\n",
    "        else:      \n",
    "            if sum(li) % 2 == 1:\n",
    "                print('T')\n",
    "            else:\n",
    "                print('HL')"
   ]
  },
  {
   "cell_type": "code",
   "execution_count": 46,
   "metadata": {
    "scrolled": false
   },
   "outputs": [
    {
     "name": "stdout",
     "output_type": "stream",
     "text": [
      "1 1 1 1 True\n",
      "1 1 2 0 False\n",
      "1 1 3 1 True\n",
      "1 1 4 0 True\n",
      "1 1 5 1 True\n",
      "1 1 6 0 True\n",
      "1 1 7 1 True\n",
      "1 1 8 0 True\n",
      "1 2 2 1 True\n",
      "1 2 3 0 False\n",
      "1 2 4 1 True\n",
      "1 2 5 0 True\n",
      "1 2 6 1 True\n",
      "1 2 7 0 True\n",
      "1 2 8 1 True\n",
      "1 3 3 1 True\n",
      "1 3 4 0 False\n",
      "1 3 5 1 True\n",
      "1 3 6 0 True\n",
      "1 3 7 1 True\n",
      "1 3 8 0 True\n",
      "1 4 4 1 True\n",
      "1 4 5 0 False\n",
      "1 4 6 1 True\n",
      "1 4 7 0 True\n",
      "1 4 8 1 True\n",
      "1 5 5 1 True\n",
      "1 5 6 0 False\n",
      "1 5 7 1 True\n",
      "1 5 8 0 True\n",
      "1 6 6 1 True\n",
      "1 6 7 0 False\n",
      "1 6 8 1 True\n",
      "1 7 7 1 True\n",
      "1 7 8 0 False\n",
      "1 8 8 1 True\n",
      "2 2 2 0 False\n",
      "2 2 3 1 True\n",
      "2 2 4 0 False\n",
      "2 2 5 1 True\n",
      "2 2 6 0 True\n",
      "2 2 7 1 True\n",
      "2 2 8 0 True\n",
      "2 3 3 0 False\n",
      "2 3 4 1 True\n",
      "2 3 5 0 False\n",
      "2 3 6 1 True\n",
      "2 3 7 0 True\n",
      "2 3 8 1 True\n",
      "2 4 4 0 False\n",
      "2 4 5 1 True\n",
      "2 4 6 0 False\n",
      "2 4 7 1 True\n",
      "2 4 8 0 True\n",
      "2 5 5 0 False\n",
      "2 5 6 1 True\n",
      "2 5 7 0 False\n",
      "2 5 8 1 True\n",
      "2 6 6 0 False\n",
      "2 6 7 1 True\n",
      "2 6 8 0 False\n",
      "2 7 7 0 False\n",
      "2 7 8 1 True\n",
      "2 8 8 0 False\n",
      "3 3 3 1 True\n",
      "3 3 4 0 False\n",
      "3 3 5 1 True\n",
      "3 3 6 0 False\n",
      "3 3 7 1 True\n",
      "3 3 8 0 True\n",
      "3 4 4 1 True\n",
      "3 4 5 0 False\n",
      "3 4 6 1 True\n",
      "3 4 7 0 False\n",
      "3 4 8 1 True\n",
      "3 5 5 1 True\n",
      "3 5 6 0 False\n",
      "3 5 7 1 True\n",
      "3 5 8 0 False\n",
      "3 6 6 1 True\n",
      "3 6 7 0 False\n",
      "3 6 8 1 True\n",
      "3 7 7 1 True\n",
      "3 7 8 0 False\n",
      "3 8 8 1 True\n",
      "4 4 4 0 False\n",
      "4 4 5 1 True\n",
      "4 4 6 0 False\n",
      "4 4 7 1 True\n",
      "4 4 8 0 False\n",
      "4 5 5 0 False\n",
      "4 5 6 1 True\n",
      "4 5 7 0 False\n",
      "4 5 8 1 True\n",
      "4 6 6 0 False\n",
      "4 6 7 1 True\n",
      "4 6 8 0 False\n",
      "4 7 7 0 False\n",
      "4 7 8 1 True\n",
      "4 8 8 0 False\n",
      "5 5 5 1 True\n",
      "5 5 6 0 False\n",
      "5 5 7 1 True\n",
      "5 5 8 0 False\n",
      "5 6 6 1 True\n",
      "5 6 7 0 False\n",
      "5 6 8 1 True\n",
      "5 7 7 1 True\n",
      "5 7 8 0 False\n",
      "5 8 8 1 True\n",
      "6 6 6 0 False\n",
      "6 6 7 1 True\n"
     ]
    },
    {
     "ename": "KeyboardInterrupt",
     "evalue": "",
     "output_type": "error",
     "traceback": [
      "\u001b[1;31m---------------------------------------------------------------------------\u001b[0m",
      "\u001b[1;31mKeyboardInterrupt\u001b[0m                         Traceback (most recent call last)",
      "\u001b[1;32m<ipython-input-46-6fa0bf59bcfe>\u001b[0m in \u001b[0;36m<module>\u001b[1;34m\u001b[0m\n\u001b[0;32m     18\u001b[0m             \u001b[0mli\u001b[0m \u001b[1;33m=\u001b[0m \u001b[1;33m[\u001b[0m\u001b[0ma\u001b[0m\u001b[1;33m,\u001b[0m \u001b[0mb\u001b[0m\u001b[1;33m,\u001b[0m \u001b[0mc\u001b[0m\u001b[1;33m]\u001b[0m\u001b[1;33m\u001b[0m\u001b[1;33m\u001b[0m\u001b[0m\n\u001b[0;32m     19\u001b[0m \u001b[1;33m\u001b[0m\u001b[0m\n\u001b[1;32m---> 20\u001b[1;33m             \u001b[0mprint\u001b[0m\u001b[1;33m(\u001b[0m\u001b[0ma\u001b[0m\u001b[1;33m,\u001b[0m \u001b[0mb\u001b[0m\u001b[1;33m,\u001b[0m \u001b[0mc\u001b[0m\u001b[1;33m,\u001b[0m \u001b[1;33m(\u001b[0m\u001b[0ma\u001b[0m\u001b[1;33m+\u001b[0m\u001b[0mb\u001b[0m\u001b[1;33m+\u001b[0m\u001b[0mc\u001b[0m\u001b[1;33m)\u001b[0m \u001b[1;33m%\u001b[0m \u001b[1;36m2\u001b[0m\u001b[1;33m,\u001b[0m \u001b[0mrecur\u001b[0m\u001b[1;33m(\u001b[0m\u001b[1;33m-\u001b[0m\u001b[1;36m1\u001b[0m\u001b[1;33m)\u001b[0m\u001b[1;33m)\u001b[0m\u001b[1;33m\u001b[0m\u001b[1;33m\u001b[0m\u001b[0m\n\u001b[0m",
      "\u001b[1;32m<ipython-input-46-6fa0bf59bcfe>\u001b[0m in \u001b[0;36mrecur\u001b[1;34m(prev)\u001b[0m\n\u001b[0;32m      7\u001b[0m         \u001b[1;32mif\u001b[0m \u001b[0mli\u001b[0m\u001b[1;33m[\u001b[0m\u001b[0mi\u001b[0m\u001b[1;33m]\u001b[0m \u001b[1;33m>=\u001b[0m \u001b[1;36m1\u001b[0m \u001b[1;32mand\u001b[0m \u001b[0mi\u001b[0m \u001b[1;33m!=\u001b[0m \u001b[0mprev\u001b[0m\u001b[1;33m:\u001b[0m\u001b[1;33m\u001b[0m\u001b[1;33m\u001b[0m\u001b[0m\n\u001b[0;32m      8\u001b[0m             \u001b[0mli\u001b[0m\u001b[1;33m[\u001b[0m\u001b[0mi\u001b[0m\u001b[1;33m]\u001b[0m \u001b[1;33m-=\u001b[0m \u001b[1;36m1\u001b[0m\u001b[1;33m\u001b[0m\u001b[1;33m\u001b[0m\u001b[0m\n\u001b[1;32m----> 9\u001b[1;33m             \u001b[0mcan_win\u001b[0m \u001b[1;33m=\u001b[0m \u001b[0many\u001b[0m\u001b[1;33m(\u001b[0m\u001b[1;33m[\u001b[0m\u001b[0mcan_win\u001b[0m\u001b[1;33m,\u001b[0m \u001b[1;32mnot\u001b[0m \u001b[0mrecur\u001b[0m\u001b[1;33m(\u001b[0m\u001b[0mi\u001b[0m\u001b[1;33m)\u001b[0m\u001b[1;33m]\u001b[0m\u001b[1;33m)\u001b[0m\u001b[1;33m\u001b[0m\u001b[1;33m\u001b[0m\u001b[0m\n\u001b[0m\u001b[0;32m     10\u001b[0m             \u001b[0mli\u001b[0m\u001b[1;33m[\u001b[0m\u001b[0mi\u001b[0m\u001b[1;33m]\u001b[0m \u001b[1;33m+=\u001b[0m \u001b[1;36m1\u001b[0m\u001b[1;33m\u001b[0m\u001b[1;33m\u001b[0m\u001b[0m\n\u001b[0;32m     11\u001b[0m \u001b[1;33m\u001b[0m\u001b[0m\n",
      "\u001b[1;32m<ipython-input-46-6fa0bf59bcfe>\u001b[0m in \u001b[0;36mrecur\u001b[1;34m(prev)\u001b[0m\n\u001b[0;32m      7\u001b[0m         \u001b[1;32mif\u001b[0m \u001b[0mli\u001b[0m\u001b[1;33m[\u001b[0m\u001b[0mi\u001b[0m\u001b[1;33m]\u001b[0m \u001b[1;33m>=\u001b[0m \u001b[1;36m1\u001b[0m \u001b[1;32mand\u001b[0m \u001b[0mi\u001b[0m \u001b[1;33m!=\u001b[0m \u001b[0mprev\u001b[0m\u001b[1;33m:\u001b[0m\u001b[1;33m\u001b[0m\u001b[1;33m\u001b[0m\u001b[0m\n\u001b[0;32m      8\u001b[0m             \u001b[0mli\u001b[0m\u001b[1;33m[\u001b[0m\u001b[0mi\u001b[0m\u001b[1;33m]\u001b[0m \u001b[1;33m-=\u001b[0m \u001b[1;36m1\u001b[0m\u001b[1;33m\u001b[0m\u001b[1;33m\u001b[0m\u001b[0m\n\u001b[1;32m----> 9\u001b[1;33m             \u001b[0mcan_win\u001b[0m \u001b[1;33m=\u001b[0m \u001b[0many\u001b[0m\u001b[1;33m(\u001b[0m\u001b[1;33m[\u001b[0m\u001b[0mcan_win\u001b[0m\u001b[1;33m,\u001b[0m \u001b[1;32mnot\u001b[0m \u001b[0mrecur\u001b[0m\u001b[1;33m(\u001b[0m\u001b[0mi\u001b[0m\u001b[1;33m)\u001b[0m\u001b[1;33m]\u001b[0m\u001b[1;33m)\u001b[0m\u001b[1;33m\u001b[0m\u001b[1;33m\u001b[0m\u001b[0m\n\u001b[0m\u001b[0;32m     10\u001b[0m             \u001b[0mli\u001b[0m\u001b[1;33m[\u001b[0m\u001b[0mi\u001b[0m\u001b[1;33m]\u001b[0m \u001b[1;33m+=\u001b[0m \u001b[1;36m1\u001b[0m\u001b[1;33m\u001b[0m\u001b[1;33m\u001b[0m\u001b[0m\n\u001b[0;32m     11\u001b[0m \u001b[1;33m\u001b[0m\u001b[0m\n",
      "\u001b[1;32m<ipython-input-46-6fa0bf59bcfe>\u001b[0m in \u001b[0;36mrecur\u001b[1;34m(prev)\u001b[0m\n\u001b[0;32m      7\u001b[0m         \u001b[1;32mif\u001b[0m \u001b[0mli\u001b[0m\u001b[1;33m[\u001b[0m\u001b[0mi\u001b[0m\u001b[1;33m]\u001b[0m \u001b[1;33m>=\u001b[0m \u001b[1;36m1\u001b[0m \u001b[1;32mand\u001b[0m \u001b[0mi\u001b[0m \u001b[1;33m!=\u001b[0m \u001b[0mprev\u001b[0m\u001b[1;33m:\u001b[0m\u001b[1;33m\u001b[0m\u001b[1;33m\u001b[0m\u001b[0m\n\u001b[0;32m      8\u001b[0m             \u001b[0mli\u001b[0m\u001b[1;33m[\u001b[0m\u001b[0mi\u001b[0m\u001b[1;33m]\u001b[0m \u001b[1;33m-=\u001b[0m \u001b[1;36m1\u001b[0m\u001b[1;33m\u001b[0m\u001b[1;33m\u001b[0m\u001b[0m\n\u001b[1;32m----> 9\u001b[1;33m             \u001b[0mcan_win\u001b[0m \u001b[1;33m=\u001b[0m \u001b[0many\u001b[0m\u001b[1;33m(\u001b[0m\u001b[1;33m[\u001b[0m\u001b[0mcan_win\u001b[0m\u001b[1;33m,\u001b[0m \u001b[1;32mnot\u001b[0m \u001b[0mrecur\u001b[0m\u001b[1;33m(\u001b[0m\u001b[0mi\u001b[0m\u001b[1;33m)\u001b[0m\u001b[1;33m]\u001b[0m\u001b[1;33m)\u001b[0m\u001b[1;33m\u001b[0m\u001b[1;33m\u001b[0m\u001b[0m\n\u001b[0m\u001b[0;32m     10\u001b[0m             \u001b[0mli\u001b[0m\u001b[1;33m[\u001b[0m\u001b[0mi\u001b[0m\u001b[1;33m]\u001b[0m \u001b[1;33m+=\u001b[0m \u001b[1;36m1\u001b[0m\u001b[1;33m\u001b[0m\u001b[1;33m\u001b[0m\u001b[0m\n\u001b[0;32m     11\u001b[0m \u001b[1;33m\u001b[0m\u001b[0m\n",
      "\u001b[1;32m<ipython-input-46-6fa0bf59bcfe>\u001b[0m in \u001b[0;36mrecur\u001b[1;34m(prev)\u001b[0m\n\u001b[0;32m      7\u001b[0m         \u001b[1;32mif\u001b[0m \u001b[0mli\u001b[0m\u001b[1;33m[\u001b[0m\u001b[0mi\u001b[0m\u001b[1;33m]\u001b[0m \u001b[1;33m>=\u001b[0m \u001b[1;36m1\u001b[0m \u001b[1;32mand\u001b[0m \u001b[0mi\u001b[0m \u001b[1;33m!=\u001b[0m \u001b[0mprev\u001b[0m\u001b[1;33m:\u001b[0m\u001b[1;33m\u001b[0m\u001b[1;33m\u001b[0m\u001b[0m\n\u001b[0;32m      8\u001b[0m             \u001b[0mli\u001b[0m\u001b[1;33m[\u001b[0m\u001b[0mi\u001b[0m\u001b[1;33m]\u001b[0m \u001b[1;33m-=\u001b[0m \u001b[1;36m1\u001b[0m\u001b[1;33m\u001b[0m\u001b[1;33m\u001b[0m\u001b[0m\n\u001b[1;32m----> 9\u001b[1;33m             \u001b[0mcan_win\u001b[0m \u001b[1;33m=\u001b[0m \u001b[0many\u001b[0m\u001b[1;33m(\u001b[0m\u001b[1;33m[\u001b[0m\u001b[0mcan_win\u001b[0m\u001b[1;33m,\u001b[0m \u001b[1;32mnot\u001b[0m \u001b[0mrecur\u001b[0m\u001b[1;33m(\u001b[0m\u001b[0mi\u001b[0m\u001b[1;33m)\u001b[0m\u001b[1;33m]\u001b[0m\u001b[1;33m)\u001b[0m\u001b[1;33m\u001b[0m\u001b[1;33m\u001b[0m\u001b[0m\n\u001b[0m\u001b[0;32m     10\u001b[0m             \u001b[0mli\u001b[0m\u001b[1;33m[\u001b[0m\u001b[0mi\u001b[0m\u001b[1;33m]\u001b[0m \u001b[1;33m+=\u001b[0m \u001b[1;36m1\u001b[0m\u001b[1;33m\u001b[0m\u001b[1;33m\u001b[0m\u001b[0m\n\u001b[0;32m     11\u001b[0m \u001b[1;33m\u001b[0m\u001b[0m\n",
      "\u001b[1;32m<ipython-input-46-6fa0bf59bcfe>\u001b[0m in \u001b[0;36mrecur\u001b[1;34m(prev)\u001b[0m\n\u001b[0;32m      7\u001b[0m         \u001b[1;32mif\u001b[0m \u001b[0mli\u001b[0m\u001b[1;33m[\u001b[0m\u001b[0mi\u001b[0m\u001b[1;33m]\u001b[0m \u001b[1;33m>=\u001b[0m \u001b[1;36m1\u001b[0m \u001b[1;32mand\u001b[0m \u001b[0mi\u001b[0m \u001b[1;33m!=\u001b[0m \u001b[0mprev\u001b[0m\u001b[1;33m:\u001b[0m\u001b[1;33m\u001b[0m\u001b[1;33m\u001b[0m\u001b[0m\n\u001b[0;32m      8\u001b[0m             \u001b[0mli\u001b[0m\u001b[1;33m[\u001b[0m\u001b[0mi\u001b[0m\u001b[1;33m]\u001b[0m \u001b[1;33m-=\u001b[0m \u001b[1;36m1\u001b[0m\u001b[1;33m\u001b[0m\u001b[1;33m\u001b[0m\u001b[0m\n\u001b[1;32m----> 9\u001b[1;33m             \u001b[0mcan_win\u001b[0m \u001b[1;33m=\u001b[0m \u001b[0many\u001b[0m\u001b[1;33m(\u001b[0m\u001b[1;33m[\u001b[0m\u001b[0mcan_win\u001b[0m\u001b[1;33m,\u001b[0m \u001b[1;32mnot\u001b[0m \u001b[0mrecur\u001b[0m\u001b[1;33m(\u001b[0m\u001b[0mi\u001b[0m\u001b[1;33m)\u001b[0m\u001b[1;33m]\u001b[0m\u001b[1;33m)\u001b[0m\u001b[1;33m\u001b[0m\u001b[1;33m\u001b[0m\u001b[0m\n\u001b[0m\u001b[0;32m     10\u001b[0m             \u001b[0mli\u001b[0m\u001b[1;33m[\u001b[0m\u001b[0mi\u001b[0m\u001b[1;33m]\u001b[0m \u001b[1;33m+=\u001b[0m \u001b[1;36m1\u001b[0m\u001b[1;33m\u001b[0m\u001b[1;33m\u001b[0m\u001b[0m\n\u001b[0;32m     11\u001b[0m \u001b[1;33m\u001b[0m\u001b[0m\n",
      "\u001b[1;32m<ipython-input-46-6fa0bf59bcfe>\u001b[0m in \u001b[0;36mrecur\u001b[1;34m(prev)\u001b[0m\n\u001b[0;32m      7\u001b[0m         \u001b[1;32mif\u001b[0m \u001b[0mli\u001b[0m\u001b[1;33m[\u001b[0m\u001b[0mi\u001b[0m\u001b[1;33m]\u001b[0m \u001b[1;33m>=\u001b[0m \u001b[1;36m1\u001b[0m \u001b[1;32mand\u001b[0m \u001b[0mi\u001b[0m \u001b[1;33m!=\u001b[0m \u001b[0mprev\u001b[0m\u001b[1;33m:\u001b[0m\u001b[1;33m\u001b[0m\u001b[1;33m\u001b[0m\u001b[0m\n\u001b[0;32m      8\u001b[0m             \u001b[0mli\u001b[0m\u001b[1;33m[\u001b[0m\u001b[0mi\u001b[0m\u001b[1;33m]\u001b[0m \u001b[1;33m-=\u001b[0m \u001b[1;36m1\u001b[0m\u001b[1;33m\u001b[0m\u001b[1;33m\u001b[0m\u001b[0m\n\u001b[1;32m----> 9\u001b[1;33m             \u001b[0mcan_win\u001b[0m \u001b[1;33m=\u001b[0m \u001b[0many\u001b[0m\u001b[1;33m(\u001b[0m\u001b[1;33m[\u001b[0m\u001b[0mcan_win\u001b[0m\u001b[1;33m,\u001b[0m \u001b[1;32mnot\u001b[0m \u001b[0mrecur\u001b[0m\u001b[1;33m(\u001b[0m\u001b[0mi\u001b[0m\u001b[1;33m)\u001b[0m\u001b[1;33m]\u001b[0m\u001b[1;33m)\u001b[0m\u001b[1;33m\u001b[0m\u001b[1;33m\u001b[0m\u001b[0m\n\u001b[0m\u001b[0;32m     10\u001b[0m             \u001b[0mli\u001b[0m\u001b[1;33m[\u001b[0m\u001b[0mi\u001b[0m\u001b[1;33m]\u001b[0m \u001b[1;33m+=\u001b[0m \u001b[1;36m1\u001b[0m\u001b[1;33m\u001b[0m\u001b[1;33m\u001b[0m\u001b[0m\n\u001b[0;32m     11\u001b[0m \u001b[1;33m\u001b[0m\u001b[0m\n",
      "\u001b[1;32m<ipython-input-46-6fa0bf59bcfe>\u001b[0m in \u001b[0;36mrecur\u001b[1;34m(prev)\u001b[0m\n\u001b[0;32m      7\u001b[0m         \u001b[1;32mif\u001b[0m \u001b[0mli\u001b[0m\u001b[1;33m[\u001b[0m\u001b[0mi\u001b[0m\u001b[1;33m]\u001b[0m \u001b[1;33m>=\u001b[0m \u001b[1;36m1\u001b[0m \u001b[1;32mand\u001b[0m \u001b[0mi\u001b[0m \u001b[1;33m!=\u001b[0m \u001b[0mprev\u001b[0m\u001b[1;33m:\u001b[0m\u001b[1;33m\u001b[0m\u001b[1;33m\u001b[0m\u001b[0m\n\u001b[0;32m      8\u001b[0m             \u001b[0mli\u001b[0m\u001b[1;33m[\u001b[0m\u001b[0mi\u001b[0m\u001b[1;33m]\u001b[0m \u001b[1;33m-=\u001b[0m \u001b[1;36m1\u001b[0m\u001b[1;33m\u001b[0m\u001b[1;33m\u001b[0m\u001b[0m\n\u001b[1;32m----> 9\u001b[1;33m             \u001b[0mcan_win\u001b[0m \u001b[1;33m=\u001b[0m \u001b[0many\u001b[0m\u001b[1;33m(\u001b[0m\u001b[1;33m[\u001b[0m\u001b[0mcan_win\u001b[0m\u001b[1;33m,\u001b[0m \u001b[1;32mnot\u001b[0m \u001b[0mrecur\u001b[0m\u001b[1;33m(\u001b[0m\u001b[0mi\u001b[0m\u001b[1;33m)\u001b[0m\u001b[1;33m]\u001b[0m\u001b[1;33m)\u001b[0m\u001b[1;33m\u001b[0m\u001b[1;33m\u001b[0m\u001b[0m\n\u001b[0m\u001b[0;32m     10\u001b[0m             \u001b[0mli\u001b[0m\u001b[1;33m[\u001b[0m\u001b[0mi\u001b[0m\u001b[1;33m]\u001b[0m \u001b[1;33m+=\u001b[0m \u001b[1;36m1\u001b[0m\u001b[1;33m\u001b[0m\u001b[1;33m\u001b[0m\u001b[0m\n\u001b[0;32m     11\u001b[0m \u001b[1;33m\u001b[0m\u001b[0m\n",
      "\u001b[1;32m<ipython-input-46-6fa0bf59bcfe>\u001b[0m in \u001b[0;36mrecur\u001b[1;34m(prev)\u001b[0m\n\u001b[0;32m      7\u001b[0m         \u001b[1;32mif\u001b[0m \u001b[0mli\u001b[0m\u001b[1;33m[\u001b[0m\u001b[0mi\u001b[0m\u001b[1;33m]\u001b[0m \u001b[1;33m>=\u001b[0m \u001b[1;36m1\u001b[0m \u001b[1;32mand\u001b[0m \u001b[0mi\u001b[0m \u001b[1;33m!=\u001b[0m \u001b[0mprev\u001b[0m\u001b[1;33m:\u001b[0m\u001b[1;33m\u001b[0m\u001b[1;33m\u001b[0m\u001b[0m\n\u001b[0;32m      8\u001b[0m             \u001b[0mli\u001b[0m\u001b[1;33m[\u001b[0m\u001b[0mi\u001b[0m\u001b[1;33m]\u001b[0m \u001b[1;33m-=\u001b[0m \u001b[1;36m1\u001b[0m\u001b[1;33m\u001b[0m\u001b[1;33m\u001b[0m\u001b[0m\n\u001b[1;32m----> 9\u001b[1;33m             \u001b[0mcan_win\u001b[0m \u001b[1;33m=\u001b[0m \u001b[0many\u001b[0m\u001b[1;33m(\u001b[0m\u001b[1;33m[\u001b[0m\u001b[0mcan_win\u001b[0m\u001b[1;33m,\u001b[0m \u001b[1;32mnot\u001b[0m \u001b[0mrecur\u001b[0m\u001b[1;33m(\u001b[0m\u001b[0mi\u001b[0m\u001b[1;33m)\u001b[0m\u001b[1;33m]\u001b[0m\u001b[1;33m)\u001b[0m\u001b[1;33m\u001b[0m\u001b[1;33m\u001b[0m\u001b[0m\n\u001b[0m\u001b[0;32m     10\u001b[0m             \u001b[0mli\u001b[0m\u001b[1;33m[\u001b[0m\u001b[0mi\u001b[0m\u001b[1;33m]\u001b[0m \u001b[1;33m+=\u001b[0m \u001b[1;36m1\u001b[0m\u001b[1;33m\u001b[0m\u001b[1;33m\u001b[0m\u001b[0m\n\u001b[0;32m     11\u001b[0m \u001b[1;33m\u001b[0m\u001b[0m\n",
      "\u001b[1;32m<ipython-input-46-6fa0bf59bcfe>\u001b[0m in \u001b[0;36mrecur\u001b[1;34m(prev)\u001b[0m\n\u001b[0;32m      7\u001b[0m         \u001b[1;32mif\u001b[0m \u001b[0mli\u001b[0m\u001b[1;33m[\u001b[0m\u001b[0mi\u001b[0m\u001b[1;33m]\u001b[0m \u001b[1;33m>=\u001b[0m \u001b[1;36m1\u001b[0m \u001b[1;32mand\u001b[0m \u001b[0mi\u001b[0m \u001b[1;33m!=\u001b[0m \u001b[0mprev\u001b[0m\u001b[1;33m:\u001b[0m\u001b[1;33m\u001b[0m\u001b[1;33m\u001b[0m\u001b[0m\n\u001b[0;32m      8\u001b[0m             \u001b[0mli\u001b[0m\u001b[1;33m[\u001b[0m\u001b[0mi\u001b[0m\u001b[1;33m]\u001b[0m \u001b[1;33m-=\u001b[0m \u001b[1;36m1\u001b[0m\u001b[1;33m\u001b[0m\u001b[1;33m\u001b[0m\u001b[0m\n\u001b[1;32m----> 9\u001b[1;33m             \u001b[0mcan_win\u001b[0m \u001b[1;33m=\u001b[0m \u001b[0many\u001b[0m\u001b[1;33m(\u001b[0m\u001b[1;33m[\u001b[0m\u001b[0mcan_win\u001b[0m\u001b[1;33m,\u001b[0m \u001b[1;32mnot\u001b[0m \u001b[0mrecur\u001b[0m\u001b[1;33m(\u001b[0m\u001b[0mi\u001b[0m\u001b[1;33m)\u001b[0m\u001b[1;33m]\u001b[0m\u001b[1;33m)\u001b[0m\u001b[1;33m\u001b[0m\u001b[1;33m\u001b[0m\u001b[0m\n\u001b[0m\u001b[0;32m     10\u001b[0m             \u001b[0mli\u001b[0m\u001b[1;33m[\u001b[0m\u001b[0mi\u001b[0m\u001b[1;33m]\u001b[0m \u001b[1;33m+=\u001b[0m \u001b[1;36m1\u001b[0m\u001b[1;33m\u001b[0m\u001b[1;33m\u001b[0m\u001b[0m\n\u001b[0;32m     11\u001b[0m \u001b[1;33m\u001b[0m\u001b[0m\n",
      "\u001b[1;32m<ipython-input-46-6fa0bf59bcfe>\u001b[0m in \u001b[0;36mrecur\u001b[1;34m(prev)\u001b[0m\n\u001b[0;32m      7\u001b[0m         \u001b[1;32mif\u001b[0m \u001b[0mli\u001b[0m\u001b[1;33m[\u001b[0m\u001b[0mi\u001b[0m\u001b[1;33m]\u001b[0m \u001b[1;33m>=\u001b[0m \u001b[1;36m1\u001b[0m \u001b[1;32mand\u001b[0m \u001b[0mi\u001b[0m \u001b[1;33m!=\u001b[0m \u001b[0mprev\u001b[0m\u001b[1;33m:\u001b[0m\u001b[1;33m\u001b[0m\u001b[1;33m\u001b[0m\u001b[0m\n\u001b[0;32m      8\u001b[0m             \u001b[0mli\u001b[0m\u001b[1;33m[\u001b[0m\u001b[0mi\u001b[0m\u001b[1;33m]\u001b[0m \u001b[1;33m-=\u001b[0m \u001b[1;36m1\u001b[0m\u001b[1;33m\u001b[0m\u001b[1;33m\u001b[0m\u001b[0m\n\u001b[1;32m----> 9\u001b[1;33m             \u001b[0mcan_win\u001b[0m \u001b[1;33m=\u001b[0m \u001b[0many\u001b[0m\u001b[1;33m(\u001b[0m\u001b[1;33m[\u001b[0m\u001b[0mcan_win\u001b[0m\u001b[1;33m,\u001b[0m \u001b[1;32mnot\u001b[0m \u001b[0mrecur\u001b[0m\u001b[1;33m(\u001b[0m\u001b[0mi\u001b[0m\u001b[1;33m)\u001b[0m\u001b[1;33m]\u001b[0m\u001b[1;33m)\u001b[0m\u001b[1;33m\u001b[0m\u001b[1;33m\u001b[0m\u001b[0m\n\u001b[0m\u001b[0;32m     10\u001b[0m             \u001b[0mli\u001b[0m\u001b[1;33m[\u001b[0m\u001b[0mi\u001b[0m\u001b[1;33m]\u001b[0m \u001b[1;33m+=\u001b[0m \u001b[1;36m1\u001b[0m\u001b[1;33m\u001b[0m\u001b[1;33m\u001b[0m\u001b[0m\n\u001b[0;32m     11\u001b[0m \u001b[1;33m\u001b[0m\u001b[0m\n",
      "\u001b[1;32m<ipython-input-46-6fa0bf59bcfe>\u001b[0m in \u001b[0;36mrecur\u001b[1;34m(prev)\u001b[0m\n\u001b[0;32m      7\u001b[0m         \u001b[1;32mif\u001b[0m \u001b[0mli\u001b[0m\u001b[1;33m[\u001b[0m\u001b[0mi\u001b[0m\u001b[1;33m]\u001b[0m \u001b[1;33m>=\u001b[0m \u001b[1;36m1\u001b[0m \u001b[1;32mand\u001b[0m \u001b[0mi\u001b[0m \u001b[1;33m!=\u001b[0m \u001b[0mprev\u001b[0m\u001b[1;33m:\u001b[0m\u001b[1;33m\u001b[0m\u001b[1;33m\u001b[0m\u001b[0m\n\u001b[0;32m      8\u001b[0m             \u001b[0mli\u001b[0m\u001b[1;33m[\u001b[0m\u001b[0mi\u001b[0m\u001b[1;33m]\u001b[0m \u001b[1;33m-=\u001b[0m \u001b[1;36m1\u001b[0m\u001b[1;33m\u001b[0m\u001b[1;33m\u001b[0m\u001b[0m\n\u001b[1;32m----> 9\u001b[1;33m             \u001b[0mcan_win\u001b[0m \u001b[1;33m=\u001b[0m \u001b[0many\u001b[0m\u001b[1;33m(\u001b[0m\u001b[1;33m[\u001b[0m\u001b[0mcan_win\u001b[0m\u001b[1;33m,\u001b[0m \u001b[1;32mnot\u001b[0m \u001b[0mrecur\u001b[0m\u001b[1;33m(\u001b[0m\u001b[0mi\u001b[0m\u001b[1;33m)\u001b[0m\u001b[1;33m]\u001b[0m\u001b[1;33m)\u001b[0m\u001b[1;33m\u001b[0m\u001b[1;33m\u001b[0m\u001b[0m\n\u001b[0m\u001b[0;32m     10\u001b[0m             \u001b[0mli\u001b[0m\u001b[1;33m[\u001b[0m\u001b[0mi\u001b[0m\u001b[1;33m]\u001b[0m \u001b[1;33m+=\u001b[0m \u001b[1;36m1\u001b[0m\u001b[1;33m\u001b[0m\u001b[1;33m\u001b[0m\u001b[0m\n\u001b[0;32m     11\u001b[0m \u001b[1;33m\u001b[0m\u001b[0m\n",
      "\u001b[1;32m<ipython-input-46-6fa0bf59bcfe>\u001b[0m in \u001b[0;36mrecur\u001b[1;34m(prev)\u001b[0m\n\u001b[0;32m      7\u001b[0m         \u001b[1;32mif\u001b[0m \u001b[0mli\u001b[0m\u001b[1;33m[\u001b[0m\u001b[0mi\u001b[0m\u001b[1;33m]\u001b[0m \u001b[1;33m>=\u001b[0m \u001b[1;36m1\u001b[0m \u001b[1;32mand\u001b[0m \u001b[0mi\u001b[0m \u001b[1;33m!=\u001b[0m \u001b[0mprev\u001b[0m\u001b[1;33m:\u001b[0m\u001b[1;33m\u001b[0m\u001b[1;33m\u001b[0m\u001b[0m\n\u001b[0;32m      8\u001b[0m             \u001b[0mli\u001b[0m\u001b[1;33m[\u001b[0m\u001b[0mi\u001b[0m\u001b[1;33m]\u001b[0m \u001b[1;33m-=\u001b[0m \u001b[1;36m1\u001b[0m\u001b[1;33m\u001b[0m\u001b[1;33m\u001b[0m\u001b[0m\n\u001b[1;32m----> 9\u001b[1;33m             \u001b[0mcan_win\u001b[0m \u001b[1;33m=\u001b[0m \u001b[0many\u001b[0m\u001b[1;33m(\u001b[0m\u001b[1;33m[\u001b[0m\u001b[0mcan_win\u001b[0m\u001b[1;33m,\u001b[0m \u001b[1;32mnot\u001b[0m \u001b[0mrecur\u001b[0m\u001b[1;33m(\u001b[0m\u001b[0mi\u001b[0m\u001b[1;33m)\u001b[0m\u001b[1;33m]\u001b[0m\u001b[1;33m)\u001b[0m\u001b[1;33m\u001b[0m\u001b[1;33m\u001b[0m\u001b[0m\n\u001b[0m\u001b[0;32m     10\u001b[0m             \u001b[0mli\u001b[0m\u001b[1;33m[\u001b[0m\u001b[0mi\u001b[0m\u001b[1;33m]\u001b[0m \u001b[1;33m+=\u001b[0m \u001b[1;36m1\u001b[0m\u001b[1;33m\u001b[0m\u001b[1;33m\u001b[0m\u001b[0m\n\u001b[0;32m     11\u001b[0m \u001b[1;33m\u001b[0m\u001b[0m\n",
      "\u001b[1;32m<ipython-input-46-6fa0bf59bcfe>\u001b[0m in \u001b[0;36mrecur\u001b[1;34m(prev)\u001b[0m\n\u001b[0;32m      7\u001b[0m         \u001b[1;32mif\u001b[0m \u001b[0mli\u001b[0m\u001b[1;33m[\u001b[0m\u001b[0mi\u001b[0m\u001b[1;33m]\u001b[0m \u001b[1;33m>=\u001b[0m \u001b[1;36m1\u001b[0m \u001b[1;32mand\u001b[0m \u001b[0mi\u001b[0m \u001b[1;33m!=\u001b[0m \u001b[0mprev\u001b[0m\u001b[1;33m:\u001b[0m\u001b[1;33m\u001b[0m\u001b[1;33m\u001b[0m\u001b[0m\n\u001b[0;32m      8\u001b[0m             \u001b[0mli\u001b[0m\u001b[1;33m[\u001b[0m\u001b[0mi\u001b[0m\u001b[1;33m]\u001b[0m \u001b[1;33m-=\u001b[0m \u001b[1;36m1\u001b[0m\u001b[1;33m\u001b[0m\u001b[1;33m\u001b[0m\u001b[0m\n\u001b[1;32m----> 9\u001b[1;33m             \u001b[0mcan_win\u001b[0m \u001b[1;33m=\u001b[0m \u001b[0many\u001b[0m\u001b[1;33m(\u001b[0m\u001b[1;33m[\u001b[0m\u001b[0mcan_win\u001b[0m\u001b[1;33m,\u001b[0m \u001b[1;32mnot\u001b[0m \u001b[0mrecur\u001b[0m\u001b[1;33m(\u001b[0m\u001b[0mi\u001b[0m\u001b[1;33m)\u001b[0m\u001b[1;33m]\u001b[0m\u001b[1;33m)\u001b[0m\u001b[1;33m\u001b[0m\u001b[1;33m\u001b[0m\u001b[0m\n\u001b[0m\u001b[0;32m     10\u001b[0m             \u001b[0mli\u001b[0m\u001b[1;33m[\u001b[0m\u001b[0mi\u001b[0m\u001b[1;33m]\u001b[0m \u001b[1;33m+=\u001b[0m \u001b[1;36m1\u001b[0m\u001b[1;33m\u001b[0m\u001b[1;33m\u001b[0m\u001b[0m\n\u001b[0;32m     11\u001b[0m \u001b[1;33m\u001b[0m\u001b[0m\n",
      "\u001b[1;32m<ipython-input-46-6fa0bf59bcfe>\u001b[0m in \u001b[0;36mrecur\u001b[1;34m(prev)\u001b[0m\n\u001b[0;32m      7\u001b[0m         \u001b[1;32mif\u001b[0m \u001b[0mli\u001b[0m\u001b[1;33m[\u001b[0m\u001b[0mi\u001b[0m\u001b[1;33m]\u001b[0m \u001b[1;33m>=\u001b[0m \u001b[1;36m1\u001b[0m \u001b[1;32mand\u001b[0m \u001b[0mi\u001b[0m \u001b[1;33m!=\u001b[0m \u001b[0mprev\u001b[0m\u001b[1;33m:\u001b[0m\u001b[1;33m\u001b[0m\u001b[1;33m\u001b[0m\u001b[0m\n\u001b[0;32m      8\u001b[0m             \u001b[0mli\u001b[0m\u001b[1;33m[\u001b[0m\u001b[0mi\u001b[0m\u001b[1;33m]\u001b[0m \u001b[1;33m-=\u001b[0m \u001b[1;36m1\u001b[0m\u001b[1;33m\u001b[0m\u001b[1;33m\u001b[0m\u001b[0m\n\u001b[1;32m----> 9\u001b[1;33m             \u001b[0mcan_win\u001b[0m \u001b[1;33m=\u001b[0m \u001b[0many\u001b[0m\u001b[1;33m(\u001b[0m\u001b[1;33m[\u001b[0m\u001b[0mcan_win\u001b[0m\u001b[1;33m,\u001b[0m \u001b[1;32mnot\u001b[0m \u001b[0mrecur\u001b[0m\u001b[1;33m(\u001b[0m\u001b[0mi\u001b[0m\u001b[1;33m)\u001b[0m\u001b[1;33m]\u001b[0m\u001b[1;33m)\u001b[0m\u001b[1;33m\u001b[0m\u001b[1;33m\u001b[0m\u001b[0m\n\u001b[0m\u001b[0;32m     10\u001b[0m             \u001b[0mli\u001b[0m\u001b[1;33m[\u001b[0m\u001b[0mi\u001b[0m\u001b[1;33m]\u001b[0m \u001b[1;33m+=\u001b[0m \u001b[1;36m1\u001b[0m\u001b[1;33m\u001b[0m\u001b[1;33m\u001b[0m\u001b[0m\n\u001b[0;32m     11\u001b[0m \u001b[1;33m\u001b[0m\u001b[0m\n",
      "\u001b[1;32m<ipython-input-46-6fa0bf59bcfe>\u001b[0m in \u001b[0;36mrecur\u001b[1;34m(prev)\u001b[0m\n\u001b[0;32m      7\u001b[0m         \u001b[1;32mif\u001b[0m \u001b[0mli\u001b[0m\u001b[1;33m[\u001b[0m\u001b[0mi\u001b[0m\u001b[1;33m]\u001b[0m \u001b[1;33m>=\u001b[0m \u001b[1;36m1\u001b[0m \u001b[1;32mand\u001b[0m \u001b[0mi\u001b[0m \u001b[1;33m!=\u001b[0m \u001b[0mprev\u001b[0m\u001b[1;33m:\u001b[0m\u001b[1;33m\u001b[0m\u001b[1;33m\u001b[0m\u001b[0m\n\u001b[0;32m      8\u001b[0m             \u001b[0mli\u001b[0m\u001b[1;33m[\u001b[0m\u001b[0mi\u001b[0m\u001b[1;33m]\u001b[0m \u001b[1;33m-=\u001b[0m \u001b[1;36m1\u001b[0m\u001b[1;33m\u001b[0m\u001b[1;33m\u001b[0m\u001b[0m\n\u001b[1;32m----> 9\u001b[1;33m             \u001b[0mcan_win\u001b[0m \u001b[1;33m=\u001b[0m \u001b[0many\u001b[0m\u001b[1;33m(\u001b[0m\u001b[1;33m[\u001b[0m\u001b[0mcan_win\u001b[0m\u001b[1;33m,\u001b[0m \u001b[1;32mnot\u001b[0m \u001b[0mrecur\u001b[0m\u001b[1;33m(\u001b[0m\u001b[0mi\u001b[0m\u001b[1;33m)\u001b[0m\u001b[1;33m]\u001b[0m\u001b[1;33m)\u001b[0m\u001b[1;33m\u001b[0m\u001b[1;33m\u001b[0m\u001b[0m\n\u001b[0m\u001b[0;32m     10\u001b[0m             \u001b[0mli\u001b[0m\u001b[1;33m[\u001b[0m\u001b[0mi\u001b[0m\u001b[1;33m]\u001b[0m \u001b[1;33m+=\u001b[0m \u001b[1;36m1\u001b[0m\u001b[1;33m\u001b[0m\u001b[1;33m\u001b[0m\u001b[0m\n\u001b[0;32m     11\u001b[0m \u001b[1;33m\u001b[0m\u001b[0m\n",
      "\u001b[1;32m<ipython-input-46-6fa0bf59bcfe>\u001b[0m in \u001b[0;36mrecur\u001b[1;34m(prev)\u001b[0m\n\u001b[0;32m      8\u001b[0m             \u001b[0mli\u001b[0m\u001b[1;33m[\u001b[0m\u001b[0mi\u001b[0m\u001b[1;33m]\u001b[0m \u001b[1;33m-=\u001b[0m \u001b[1;36m1\u001b[0m\u001b[1;33m\u001b[0m\u001b[1;33m\u001b[0m\u001b[0m\n\u001b[0;32m      9\u001b[0m             \u001b[0mcan_win\u001b[0m \u001b[1;33m=\u001b[0m \u001b[0many\u001b[0m\u001b[1;33m(\u001b[0m\u001b[1;33m[\u001b[0m\u001b[0mcan_win\u001b[0m\u001b[1;33m,\u001b[0m \u001b[1;32mnot\u001b[0m \u001b[0mrecur\u001b[0m\u001b[1;33m(\u001b[0m\u001b[0mi\u001b[0m\u001b[1;33m)\u001b[0m\u001b[1;33m]\u001b[0m\u001b[1;33m)\u001b[0m\u001b[1;33m\u001b[0m\u001b[1;33m\u001b[0m\u001b[0m\n\u001b[1;32m---> 10\u001b[1;33m             \u001b[0mli\u001b[0m\u001b[1;33m[\u001b[0m\u001b[0mi\u001b[0m\u001b[1;33m]\u001b[0m \u001b[1;33m+=\u001b[0m \u001b[1;36m1\u001b[0m\u001b[1;33m\u001b[0m\u001b[1;33m\u001b[0m\u001b[0m\n\u001b[0m\u001b[0;32m     11\u001b[0m \u001b[1;33m\u001b[0m\u001b[0m\n\u001b[0;32m     12\u001b[0m     \u001b[1;32mreturn\u001b[0m \u001b[0mcan_win\u001b[0m\u001b[1;33m\u001b[0m\u001b[1;33m\u001b[0m\u001b[0m\n",
      "\u001b[1;31mKeyboardInterrupt\u001b[0m: "
     ]
    }
   ],
   "source": [
    "# n = int(input())\n",
    "# li = list(map(int, input().split()))\n",
    "\n",
    "def recur(prev):\n",
    "    can_win = False\n",
    "    for i in range(n):\n",
    "        if li[i] >= 1 and i != prev:\n",
    "            li[i] -= 1\n",
    "            can_win = any([can_win, not recur(i)])\n",
    "            li[i] += 1\n",
    "            \n",
    "    return can_win\n",
    "\n",
    "n = 3\n",
    "for a in range(1, 9):\n",
    "    for b in range(a, 9):\n",
    "        for c in range(b, 9):\n",
    "            li = [a, b, c]\n",
    "\n",
    "            print(a, b, c, (a+b+c) % 2, recur(-1))"
   ]
  },
  {
   "cell_type": "code",
   "execution_count": null,
   "metadata": {
    "scrolled": true
   },
   "outputs": [],
   "source": [
    "5,7"
   ]
  },
  {
   "cell_type": "code",
   "execution_count": null,
   "metadata": {
    "scrolled": true
   },
   "outputs": [],
   "source": [
    "\n",
    "1 1 4,6,8\n",
    "1 2 5,7,9\n",
    "1 3 6,9\n",
    "\n",
    "2 2 6,8\n",
    "2 3 7,9\n",
    "2 4 8,10"
   ]
  },
  {
   "cell_type": "markdown",
   "metadata": {},
   "source": [
    "https://codeforces.com/problemset/problem/1707/B B. Difference Array"
   ]
  },
  {
   "cell_type": "code",
   "execution_count": null,
   "metadata": {
    "scrolled": true
   },
   "outputs": [],
   "source": [
    "정렬을 하지 않고 그냥 diff를 구하는 식으로 했을 경우 음수가 나올 수 있다는 차이점 빼고 똑같음\n",
    "-> 달랐음"
   ]
  },
  {
   "cell_type": "code",
   "execution_count": null,
   "metadata": {
    "scrolled": true
   },
   "outputs": [],
   "source": [
    "1 10 100\n",
    " 9  90\n",
    "   81\n",
    "\n",
    "\n",
    "4 8 9 13\n",
    " 4 1 4     1 4 4\n",
    "  3 0        0 3\n",
    "   3"
   ]
  },
  {
   "cell_type": "code",
   "execution_count": null,
   "metadata": {
    "scrolled": true
   },
   "outputs": [],
   "source": [
    "8 13\n",
    " 5\n",
    "    \n",
    "0 8 13\n",
    " 8 5    5 8\n",
    "  3\n",
    "\n",
    "0 0 8 13\n",
    " 0 8 5  0 5 8\n",
    "  5 3   3 5\n",
    "   2\n",
    "    \n",
    "0 0 0 8 13\n",
    " 0 0 8 5    0 0 5 8\n",
    "  0 5 3       0 3 5\n",
    "   3 2         2 3\n",
    "    1"
   ]
  },
  {
   "cell_type": "code",
   "execution_count": null,
   "metadata": {
    "scrolled": true
   },
   "outputs": [],
   "source": [
    "0 2 3\n",
    " 2 1   1 2\n",
    "    \n",
    "0 1 2\n",
    " 1 1    1 1\n",
    "  \n",
    "0 1 1\n",
    " 0 0    0"
   ]
  },
  {
   "cell_type": "code",
   "execution_count": null,
   "metadata": {
    "scrolled": true
   },
   "outputs": [],
   "source": [
    "import sys\n",
    "# input = lambda: sys.stdin.readline().rstrip()\n",
    " \n",
    "for _ in range(int(input())):\n",
    "    n = int(input())\n",
    "    li = list(map(int, input().split()))\n",
    " \n",
    "    c0 = 0\n",
    "    while len(li) >= 2:\n",
    "        diffs = []\n",
    "        for i in range(len(li) - 1):\n",
    "            diff = li[i + 1] - li[i]\n",
    "            if diff >= 1:\n",
    "                diffs.append(li[i + 1] - li[i])\n",
    "            else:\n",
    "                c0 += 1\n",
    "                \n",
    "        if c0 >= 1:\n",
    "            c0 -= 1\n",
    "            diffs.append(0)\n",
    "            \n",
    "        diffs.sort()\n",
    "        li = diffs.copy()\n",
    " \n",
    "    print(li[0])"
   ]
  },
  {
   "cell_type": "markdown",
   "metadata": {},
   "source": [
    "https://codeforces.com/problemset/problem/1638/B B. Odd Swap Sort"
   ]
  },
  {
   "cell_type": "code",
   "execution_count": 21,
   "metadata": {
    "scrolled": true
   },
   "outputs": [
    {
     "name": "stdout",
     "output_type": "stream",
     "text": [
      "4\n",
      "1 6 31 14\n",
      "YES\n"
     ]
    }
   ],
   "source": [
    "import sys\n",
    "input = lambda: sys.stdin.readline().rstrip()\n",
    "\n",
    "for _ in range(int(input())):\n",
    "    n = int(input())\n",
    "    li = list(map(int, input().split()))\n",
    "\n",
    "    odds = []\n",
    "    evens = []\n",
    "    for v in li:\n",
    "        if v % 2 == 0:\n",
    "            evens.append(v)\n",
    "        else:\n",
    "            odds.append(v)\n",
    "\n",
    "    if evens != sorted(evens) or odds != sorted(odds):\n",
    "        print('NO')\n",
    "    else:\n",
    "        print('YES')"
   ]
  },
  {
   "cell_type": "markdown",
   "metadata": {},
   "source": [
    "https://codeforces.com/problemset/problem/1637/C C. Andrew and Stones"
   ]
  },
  {
   "cell_type": "code",
   "execution_count": 30,
   "metadata": {
    "scrolled": true
   },
   "outputs": [
    {
     "name": "stdout",
     "output_type": "stream",
     "text": [
      "4\n",
      "3 1 1 2\n",
      "-1\n"
     ]
    }
   ],
   "source": [
    "import sys\n",
    "# input = lambda: sys.stdin.readline().rstrip()\n",
    "\n",
    "n = int(input())\n",
    "li = list(map(int, input().split()))\n",
    "\n",
    "to_cover = []\n",
    "can_cover = False\n",
    "total = 0\n",
    "for i in range(1, n - 1):\n",
    "    if li[i] % 2 == 1:\n",
    "        total += 1\n",
    "        if can_cover:\n",
    "            can_cover = False\n",
    "            li[i] += 1\n",
    "        else:\n",
    "            to_cover.append(i)\n",
    "            \n",
    "    if li[i] >= 2 and not can_cover:\n",
    "        can_cover = True\n",
    "        \n",
    "        \n",
    "        \n",
    "\n",
    "    for i in range(1, n - 1):\n",
    "        total += li[i] // 2\n",
    "\n",
    "    print(total)"
   ]
  },
  {
   "cell_type": "code",
   "execution_count": 2,
   "metadata": {
    "scrolled": true
   },
   "outputs": [
    {
     "name": "stdout",
     "output_type": "stream",
     "text": [
      "5\n",
      "1 2 2 3 6\n",
      "4\n"
     ]
    }
   ],
   "source": [
    "import sys\n",
    "input = lambda: sys.stdin.readline().rstrip()\n",
    "\n",
    "for _ in range(int(input())):\n",
    "    n = int(input())\n",
    "    li = list(map(int, input().split()))\n",
    "\n",
    "    if n == 3 and li[1] % 2 == 1:\n",
    "        print(-1)\n",
    "    else:\n",
    "        ip = False\n",
    "        for i in range(1, n - 1):\n",
    "            if li[i] >= 2:\n",
    "                ip = True\n",
    "                break\n",
    "        if not ip:\n",
    "            print(-1)\n",
    "        else:\n",
    "            total = 0\n",
    "            for i in range(1, n - 1):\n",
    "                total += (li[i] + 1) // 2\n",
    "\n",
    "            print(total)"
   ]
  },
  {
   "cell_type": "markdown",
   "metadata": {},
   "source": [
    "https://codeforces.com/problemset/problem/1635/C C. Differential Sorting"
   ]
  },
  {
   "cell_type": "code",
   "execution_count": null,
   "metadata": {
    "scrolled": true
   },
   "outputs": [],
   "source": [
    "1 2 2 2 3 4"
   ]
  },
  {
   "cell_type": "code",
   "execution_count": null,
   "metadata": {
    "scrolled": true
   },
   "outputs": [],
   "source": [
    "5 -4 2 -1 2"
   ]
  },
  {
   "cell_type": "code",
   "execution_count": null,
   "metadata": {
    "scrolled": true
   },
   "outputs": [],
   "source": [
    "5 -4 -3 -1 2"
   ]
  },
  {
   "cell_type": "code",
   "execution_count": 7,
   "metadata": {
    "scrolled": true
   },
   "outputs": [
    {
     "name": "stdout",
     "output_type": "stream",
     "text": [
      "3\n",
      "-3 -2 -1\n",
      "0\n"
     ]
    }
   ],
   "source": [
    "import sys\n",
    "input = lambda: sys.stdin.readline().rstrip()\n",
    "\n",
    "for _ in range(int(input())):\n",
    "    n = int(input())\n",
    "    li = list(map(int, input().split()))\n",
    "\n",
    "    if li[-2] > li[-1]:\n",
    "        print(-1)\n",
    "    else:\n",
    "        ip = True\n",
    "        rs = []\n",
    "        for i in range(n - 3, -1, -1):\n",
    "            if li[i] > li[i + 1]:\n",
    "                rs.append((i + 1, i + 2, n))\n",
    "                li[i] = li[i + 1] - li[-1]\n",
    "                if li[i] > li[i + 1]:\n",
    "                    ip = False\n",
    "                    break\n",
    "        if not ip:\n",
    "            print(-1)\n",
    "        else:\n",
    "            print(len(rs))\n",
    "            for v in rs:\n",
    "                print(*v)"
   ]
  },
  {
   "cell_type": "markdown",
   "metadata": {},
   "source": [
    "https://codeforces.com/problemset/problem/1578/E E. Easy Scheduling"
   ]
  },
  {
   "cell_type": "code",
   "execution_count": null,
   "metadata": {
    "scrolled": true
   },
   "outputs": [],
   "source": [
    "import sys\n",
    "input = lambda: sys.stdin.readline().rstrip()\n",
    "\n",
    "for _ in range(int(input())):\n",
    "    h, p = map(int, input().split())\n",
    "\n",
    "    nodes = 2 ** h - 1\n",
    "    cur_p = 1\n",
    "\n",
    "    tm = 0\n",
    "    while nodes >= 1:\n",
    "        tm += 1\n",
    "        nodes -= cur_p\n",
    "        if cur_p * 2 >= p:\n",
    "            cur_p = p\n",
    "            break\n",
    "        else:\n",
    "            cur_p *= 2\n",
    "\n",
    "    tm += nodes // cur_p\n",
    "    if nodes % cur_p:\n",
    "        tm += 1\n",
    "\n",
    "    print(tm)"
   ]
  },
  {
   "cell_type": "markdown",
   "metadata": {},
   "source": [
    "https://codeforces.com/problemset/problem/1553/C C. Penalty"
   ]
  },
  {
   "cell_type": "code",
   "execution_count": 26,
   "metadata": {},
   "outputs": [
    {
     "name": "stdout",
     "output_type": "stream",
     "text": [
      "1?0???1001\n",
      "7\n"
     ]
    }
   ],
   "source": [
    "import sys\n",
    "input = lambda: sys.stdin.readline().rstrip()\n",
    "\n",
    "for _ in range(int(input())):\n",
    "    s = input()\n",
    "\n",
    "    team1 = 0\n",
    "    team2 = 0\n",
    "    re_team1 = 5\n",
    "    re_team2 = 5\n",
    "    for t1 in range(10):\n",
    "        if t1 % 2 == 0:\n",
    "            if s[t1] == '1' or s[t1] == '?':\n",
    "                team1 += 1\n",
    "            re_team1 -= 1\n",
    "        else:\n",
    "            if s[t1] == '1':\n",
    "                team2 += 1\n",
    "            re_team2 -= 1\n",
    "\n",
    "        if team1 > team2 + re_team2 or team2 > team1 + re_team1:\n",
    "            break\n",
    "\n",
    "    team1 = 0\n",
    "    team2 = 0\n",
    "    re_team1 = 5\n",
    "    re_team2 = 5\n",
    "    for t2 in range(10):\n",
    "        if t2 % 2 == 0:\n",
    "            if s[t2] == '1':\n",
    "                team1 += 1\n",
    "            re_team1 -= 1\n",
    "        else:\n",
    "            if s[t2] == '1' or s[t2] == '?':\n",
    "                team2 += 1\n",
    "            re_team2 -= 1\n",
    "\n",
    "        if team1 > team2 + re_team2 or team2 > team1 + re_team1:\n",
    "            break\n",
    "\n",
    "    result = min(t1, t2) + 1\n",
    "\n",
    "    print(result)"
   ]
  },
  {
   "cell_type": "markdown",
   "metadata": {},
   "source": [
    "https://codeforces.com/problemset/problem/1546/B B. AquaMoon and Stolen String"
   ]
  },
  {
   "cell_type": "code",
   "execution_count": 35,
   "metadata": {},
   "outputs": [
    {
     "name": "stdout",
     "output_type": "stream",
     "text": [
      "ccccc\n"
     ]
    }
   ],
   "source": [
    "import sys\n",
    "input = lambda: sys.stdin.readline().rstrip()\n",
    "\n",
    "for _ in range(int(input())):\n",
    "    n, m = map(int, input().split())\n",
    "    oli = [input() for _ in range(n)]\n",
    "    li = [input() for _ in range(n - 1)]\n",
    "\n",
    "    r = [0] * m\n",
    "    for mi in range(m):\n",
    "        ct = [0] * 26\n",
    "        for ni in range(n):\n",
    "            ct[ord(oli[ni][mi]) - 97] += 1\n",
    "\n",
    "        ct2 = [0] * 26\n",
    "        for ni in range(n - 1):\n",
    "            ct2[ord(li[ni][mi]) - 97] += 1\n",
    "\n",
    "        for alpha_i in range(26):\n",
    "            if ct[alpha_i] != ct2[alpha_i]:\n",
    "                r[mi] = alpha_i\n",
    "                break\n",
    "\n",
    "    r = [chr(v + 97) for v in r]\n",
    "\n",
    "    print(''.join(r))"
   ]
  },
  {
   "cell_type": "markdown",
   "metadata": {},
   "source": [
    "https://codeforces.com/problemset/problem/1541/B B. Pleasant Pairs"
   ]
  },
  {
   "cell_type": "markdown",
   "metadata": {},
   "source": [
    "4.47 5.01"
   ]
  },
  {
   "cell_type": "code",
   "execution_count": 45,
   "metadata": {},
   "outputs": [
    {
     "name": "stdout",
     "output_type": "stream",
     "text": [
      "3\n",
      "6 1 5\n",
      "1\n"
     ]
    }
   ],
   "source": [
    "import sys\n",
    "input = lambda: sys.stdin.readline().rstrip()\n",
    "\n",
    "for _ in range(int(input())):\n",
    "    n = int(input())\n",
    "    li = list(map(int, input().split()))\n",
    "\n",
    "    to_index = [-1] * (2 * n + 1)\n",
    "    for i in range(n):\n",
    "        to_index[li[i]] = i + 1\n",
    "\n",
    "    total = 0\n",
    "    for num in range(2, 2 * n):\n",
    "        for mod in range(1, int(num ** 0.5) + 1):\n",
    "            if num % mod == 0:\n",
    "                if mod == num // mod:\n",
    "                    continue\n",
    "                a = to_index[mod]\n",
    "                b = to_index[num // mod]\n",
    "\n",
    "                if a != -1 and b != -1 and a + b == num:\n",
    "                    total += 1\n",
    "\n",
    "    print(total)"
   ]
  },
  {
   "cell_type": "code",
   "execution_count": 47,
   "metadata": {},
   "outputs": [
    {
     "name": "stdout",
     "output_type": "stream",
     "text": [
      "5\n",
      "3 1 5 9 2\n",
      "3\n"
     ]
    }
   ],
   "source": [
    "import sys\n",
    "input = lambda: sys.stdin.readline().rstrip()\n",
    "\n",
    "for _ in range(int(input())):\n",
    "    n = int(input())\n",
    "    li = list(map(int, input().split()))\n",
    "\n",
    "    to_index = [-1] * (2 * n + 1)\n",
    "    for i in range(n):\n",
    "        to_index[li[i]] = i + 1\n",
    "\n",
    "    total = 0\n",
    "    for a in range(1, 10 * n):\n",
    "        for b in range(a + 1, 10 * n):\n",
    "            if a * b >= 2 * n:\n",
    "                break\n",
    "\n",
    "            if to_index[a] != -1 and to_index[b] != -1 and to_index[a] + to_index[b] == a * b:\n",
    "                total += 1\n",
    "\n",
    "        if a * (a + 1) >= 2 * n:\n",
    "            break\n",
    "\n",
    "    print(total)"
   ]
  },
  {
   "cell_type": "markdown",
   "metadata": {},
   "source": [
    "https://codeforces.com/problemset/problem/1637/B B. MEX and Array"
   ]
  },
  {
   "cell_type": "code",
   "execution_count": 10,
   "metadata": {},
   "outputs": [
    {
     "name": "stdout",
     "output_type": "stream",
     "text": [
      "5\n",
      "0 1 1 0 1\n",
      "48\n"
     ]
    }
   ],
   "source": [
    "import sys\n",
    "input = lambda: sys.stdin.readline().rstrip()\n",
    "\n",
    "for _ in range(int(input())):\n",
    "    n = int(input())\n",
    "    li = list(map(int, input().split()))\n",
    "\n",
    "    total = 0\n",
    "    for s in range(n):\n",
    "        for e in range(s, n):\n",
    "            for i in range(s, e + 1):\n",
    "                if li[i] == 0:\n",
    "                    total += 1\n",
    "            total += e - s + 1\n",
    "\n",
    "    print(total)"
   ]
  },
  {
   "cell_type": "markdown",
   "metadata": {},
   "source": [
    "https://codeforces.com/problemset/problem/1625/B B. Elementary Particles"
   ]
  },
  {
   "cell_type": "code",
   "execution_count": 13,
   "metadata": {},
   "outputs": [
    {
     "name": "stdout",
     "output_type": "stream",
     "text": [
      "7\n",
      "3 1 5 2 1 3 4\n",
      "4\n"
     ]
    }
   ],
   "source": [
    "from collections import defaultdict as dd\n",
    "from random import randint\n",
    "import sys\n",
    "input = lambda: sys.stdin.readline().rstrip()\n",
    "\n",
    "rd = randint(1, int(1e9))\n",
    "\n",
    "for _ in range(int(input())):\n",
    "    n = int(input())\n",
    "    li = list(map(int, input().split()))\n",
    "\n",
    "    d = dd(list)\n",
    "    for i in range(n):\n",
    "        v = li[i]\n",
    "        w = li[i] ^ rd\n",
    "\n",
    "        d[w].append(i)\n",
    "\n",
    "    max_r = -1\n",
    "    for key in d:\n",
    "        d[key].sort()\n",
    "\n",
    "        for i in range(len(d[key]) - 1):\n",
    "            diff = d[key][i + 1] - d[key][i]\n",
    "            max_r = max(max_r, n - diff)\n",
    "\n",
    "    print(max_r)"
   ]
  },
  {
   "cell_type": "markdown",
   "metadata": {},
   "source": [
    "https://codeforces.com/problemset/problem/1575/A A. Another Sorting Problem"
   ]
  },
  {
   "cell_type": "markdown",
   "metadata": {},
   "source": [
    "4.31 4:44"
   ]
  },
  {
   "cell_type": "code",
   "execution_count": 23,
   "metadata": {},
   "outputs": [
    {
     "name": "stdout",
     "output_type": "stream",
     "text": [
      "5 2\n",
      "AA\n",
      "AB\n",
      "BB\n",
      "BA\n",
      "AZ\n",
      "5 2 1 3 4\n"
     ]
    }
   ],
   "source": [
    "import functools\n",
    "import sys\n",
    "input = lambda: sys.stdin.readline().rstrip()\n",
    "    \n",
    "def compare(a, b):\n",
    "    for i in range(m):\n",
    "        if a[i] != b[i]:\n",
    "            if i % 2 == 0:\n",
    "                if a[i] < b[i]:\n",
    "                    return -1\n",
    "                else:\n",
    "                    return 1\n",
    "            else:\n",
    "                if a[i] > b[i]:\n",
    "                    return -1\n",
    "                else:\n",
    "                    return 1\n",
    "\n",
    "n, m = map(int, input().split())\n",
    " \n",
    "to_index = dict()\n",
    "li = []\n",
    "for i in range(n):\n",
    "    s = input()\n",
    "    \n",
    "    li.append(s)\n",
    "    to_index[s] = i + 1\n",
    "    \n",
    "li.sort(key=functools.cmp_to_key(compare))\n",
    "r = [to_index[v] for v in li]\n",
    " \n",
    "print(*r)"
   ]
  },
  {
   "cell_type": "code",
   "execution_count": 24,
   "metadata": {},
   "outputs": [
    {
     "name": "stdout",
     "output_type": "stream",
     "text": [
      "5 2\n",
      "AA\n",
      "AB\n",
      "BB\n",
      "BA\n",
      "AZ\n",
      "4 1 0 2 3\n"
     ]
    }
   ],
   "source": [
    "import functools\n",
    "import sys\n",
    "# input = lambda: sys.stdin.readline().rstrip()\n",
    "    \n",
    "def compare(a, b):\n",
    "    for i in range(m):\n",
    "        if a[0][i] != b[0][i]:\n",
    "            if i % 2 == 0:\n",
    "                if a[0][i] < b[0][i]:\n",
    "                    return -1\n",
    "                else:\n",
    "                    return 1\n",
    "            else:\n",
    "                if a[0][i] > b[0][i]:\n",
    "                    return -1\n",
    "                else:\n",
    "                    return 1\n",
    "\n",
    "n, m = map(int, input().split())\n",
    " \n",
    "li = []\n",
    "for i in range(n):\n",
    "    s = input()\n",
    "    \n",
    "    li.append((s, i))\n",
    "    \n",
    "li.sort(key=functools.cmp_to_key(compare))\n",
    "r = [v[1] + 1 for v in li]\n",
    " \n",
    "print(*r)"
   ]
  },
  {
   "cell_type": "markdown",
   "metadata": {},
   "source": [
    "https://codeforces.com/problemset/problem/1574/B B. Combinatorics Homework"
   ]
  },
  {
   "cell_type": "markdown",
   "metadata": {},
   "source": [
    "4.49 4.58"
   ]
  },
  {
   "cell_type": "code",
   "execution_count": null,
   "metadata": {},
   "outputs": [],
   "source": [
    "aabbccc 최대 4\n",
    "\n",
    "abcabcc 최소 1"
   ]
  },
  {
   "cell_type": "code",
   "execution_count": null,
   "metadata": {},
   "outputs": [],
   "source": [
    "4 2 2\n",
    "\n",
    "aaaabbcc\n",
    "\n",
    "ababacac"
   ]
  },
  {
   "cell_type": "code",
   "execution_count": 28,
   "metadata": {},
   "outputs": [
    {
     "name": "stdout",
     "output_type": "stream",
     "text": [
      "2 2 1 0\n",
      "YES\n"
     ]
    }
   ],
   "source": [
    "import sys\n",
    "input = lambda: sys.stdin.readline().rstrip()\n",
    "\n",
    "for _ in range(int(input())):\n",
    "    a, b, c, m = map(int, input().split())\n",
    "\n",
    "    max_v = a - 1 + b - 1 + c - 1\n",
    "\n",
    "    t1 = max(a, b, c)\n",
    "    t2 = a + b + c - t1\n",
    "\n",
    "    min_v = 0\n",
    "    diff = t1 - t2\n",
    "    if diff >= 1:\n",
    "        min_v = diff - 1\n",
    "\n",
    "    if min_v <= m <= max_v:\n",
    "        print('YES')\n",
    "    else:\n",
    "        print('NO')"
   ]
  },
  {
   "cell_type": "markdown",
   "metadata": {},
   "source": [
    "https://codeforces.com/problemset/problem/1534/B B. Histogram Ugliness"
   ]
  },
  {
   "cell_type": "markdown",
   "metadata": {},
   "source": [
    "5.03 5.33 풀이"
   ]
  },
  {
   "cell_type": "code",
   "execution_count": 46,
   "metadata": {},
   "outputs": [
    {
     "name": "stdout",
     "output_type": "stream",
     "text": [
      "4\n",
      "3 1 1 3\n",
      "6\n"
     ]
    }
   ],
   "source": [
    "import sys\n",
    "# input = lambda: sys.stdin.readline().rstrip()\n",
    "\n",
    "for _ in range(int(input())):\n",
    "    n = int(input())\n",
    "    li = list(map(int, input().split()))\n",
    "\n",
    "    if n == 1:\n",
    "        print(li[0])\n",
    "    else:\n",
    "        total = 0\n",
    "        for i in range(n):\n",
    "            cur_max = -1\n",
    "            if i - 1 >= 0:\n",
    "                cur_max = max(cur_max, li[i - 1])\n",
    "            if i + 1 < n:\n",
    "                cur_max = max(cur_max, li[i + 1])\n",
    "\n",
    "            if li[i] > cur_max:\n",
    "                total += li[i] - cur_max\n",
    "                li[i] = cur_max\n",
    "\n",
    "        total += li[0] + li[-1]\n",
    "        for i in range(1, n):\n",
    "            diff = abs(li[i] - li[i - 1])\n",
    "\n",
    "            total += diff\n",
    "\n",
    "        print(total)"
   ]
  },
  {
   "cell_type": "markdown",
   "metadata": {},
   "source": [
    "https://codeforces.com/problemset/problem/1529/B B. Sifid and Strange Subsequences"
   ]
  },
  {
   "cell_type": "code",
   "execution_count": null,
   "metadata": {},
   "outputs": [],
   "source": [
    "양수 두 개는 안됨\n",
    "양수 없으면 다 가능\n",
    "\n",
    "양수 하나 이상 있으면 그 중 최솟값이 같이 있을 수 있는지 확인하기"
   ]
  },
  {
   "cell_type": "code",
   "execution_count": 49,
   "metadata": {},
   "outputs": [
    {
     "data": {
      "text/plain": [
       "1"
      ]
     },
     "execution_count": 49,
     "metadata": {},
     "output_type": "execute_result"
    }
   ],
   "source": [
    "a = -2\n",
    "b = -3\n",
    "\n",
    "a - b"
   ]
  },
  {
   "cell_type": "code",
   "execution_count": 61,
   "metadata": {},
   "outputs": [
    {
     "name": "stdout",
     "output_type": "stream",
     "text": [
      "5\n",
      "0 5 -3 2 -5\n",
      "4\n"
     ]
    }
   ],
   "source": [
    "import sys\n",
    "input = lambda: sys.stdin.readline().rstrip()\n",
    "\n",
    "for _ in range(int(input())):\n",
    "    n = int(input())\n",
    "    li = sorted(map(int, input().split()))\n",
    "\n",
    "    min_po = -1\n",
    "    while li and li[-1] > 0:\n",
    "        min_po = li.pop()\n",
    "\n",
    "    if min_po == -1:\n",
    "        print(len(li))\n",
    "    else:\n",
    "        ip = True\n",
    "        for i in range(len(li) - 1):\n",
    "            diff = abs(li[i + 1] - li[i])\n",
    "\n",
    "            if diff < min_po:\n",
    "                ip = False\n",
    "                break\n",
    "\n",
    "        if ip:\n",
    "            print(len(li) + 1)\n",
    "        else:\n",
    "            print(len(li))"
   ]
  },
  {
   "cell_type": "markdown",
   "metadata": {},
   "source": [
    "https://codeforces.com/problemset/problem/1536/B B. Prinzessin der Verurteilung"
   ]
  },
  {
   "cell_type": "markdown",
   "metadata": {},
   "source": [
    "6.22 6.36"
   ]
  },
  {
   "cell_type": "code",
   "execution_count": 62,
   "metadata": {},
   "outputs": [
    {
     "data": {
      "text/plain": [
       "998"
      ]
     },
     "execution_count": 62,
     "metadata": {},
     "output_type": "execute_result"
    }
   ],
   "source": [
    "1000 - 2"
   ]
  },
  {
   "cell_type": "code",
   "execution_count": 66,
   "metadata": {},
   "outputs": [
    {
     "data": {
      "text/plain": [
       "17576"
      ]
     },
     "execution_count": 66,
     "metadata": {},
     "output_type": "execute_result"
    }
   ],
   "source": [
    "26 * 26 * 26"
   ]
  },
  {
   "cell_type": "code",
   "execution_count": 63,
   "metadata": {},
   "outputs": [
    {
     "data": {
      "text/plain": [
       "26"
      ]
     },
     "execution_count": 63,
     "metadata": {},
     "output_type": "execute_result"
    }
   ],
   "source": [
    "ord('z') - ord('a') + 1"
   ]
  },
  {
   "cell_type": "code",
   "execution_count": 70,
   "metadata": {},
   "outputs": [
    {
     "name": "stdout",
     "output_type": "stream",
     "text": [
      "4\n",
      "4\n",
      "aaaa\n",
      "b\n",
      "3\n",
      "aaa\n",
      "b\n",
      "4\n",
      "abcd\n",
      "e\n",
      "3\n",
      "aab\n",
      "c\n"
     ]
    }
   ],
   "source": [
    "import sys\n",
    "# input = lambda: sys.stdin.readline().rstrip()\n",
    "\n",
    "def solve():\n",
    "    n = int(input())\n",
    "    s = input()\n",
    "\n",
    "    st1 = set()\n",
    "    for i in range(n):\n",
    "        st1.add(s[i])\n",
    "        \n",
    "    for a1 in range(26):\n",
    "        if chr(a1 + 97) not in st1:\n",
    "            return chr(a1 + 97)\n",
    "        \n",
    "    st2 = set()\n",
    "    for i in range(n - 1):\n",
    "        st2.add(s[i:i + 2])\n",
    "        \n",
    "    for a1 in range(26):\n",
    "        for a2 in range(26):\n",
    "            if chr(a1 + 97) + chr(a2 + 97) not in st2:\n",
    "                return chr(a1 + 97) + chr(a2 + 97)\n",
    "            \n",
    "    st3 = set()\n",
    "    for i in range(n - 2):\n",
    "        st3.add(s[i:i + 3])\n",
    "    \n",
    "    for a1 in range(26):\n",
    "        for a2 in range(26):\n",
    "            for a3 in range(26):\n",
    "                temp = chr(a1 + 97) + chr(a2 + 97) + chr(a3 + 97)\n",
    "                if temp not in st3:\n",
    "                    return temp\n",
    "                \n",
    "for _ in range(int(input())):\n",
    "    print(solve())"
   ]
  },
  {
   "cell_type": "markdown",
   "metadata": {},
   "source": [
    "https://codeforces.com/problemset/problem/1530/C C. Pursuit"
   ]
  },
  {
   "cell_type": "markdown",
   "metadata": {},
   "source": [
    "6.36 7.04"
   ]
  },
  {
   "cell_type": "code",
   "execution_count": null,
   "metadata": {},
   "outputs": [],
   "source": [
    "시뮬레이션, 이분탐색"
   ]
  },
  {
   "cell_type": "code",
   "execution_count": 79,
   "metadata": {},
   "outputs": [
    {
     "name": "stdout",
     "output_type": "stream",
     "text": [
      "1 1\n",
      "2 2\n",
      "3 3\n",
      "4 3\n",
      "5 4\n",
      "6 5\n",
      "7 6\n",
      "8 6\n",
      "9 7\n",
      "10 8\n",
      "11 9\n",
      "12 9\n",
      "13 10\n",
      "14 11\n",
      "15 12\n",
      "16 12\n",
      "17 13\n",
      "18 14\n",
      "19 15\n"
     ]
    }
   ],
   "source": [
    "for num in range(1, 20):\n",
    "    print(num, num - num // 4)"
   ]
  },
  {
   "cell_type": "code",
   "execution_count": 78,
   "metadata": {},
   "outputs": [
    {
     "name": "stdout",
     "output_type": "stream",
     "text": [
      "4\n",
      "20 30 40 50\n",
      "100 100 100 100\n",
      "3\n"
     ]
    }
   ],
   "source": [
    "import sys\n",
    "input = lambda: sys.stdin.readline().rstrip()\n",
    "\n",
    "get_left = lambda num: num - num // 4\n",
    "\n",
    "for _ in range(int(input())):\n",
    "    n = int(input())\n",
    "    a = sorted(map(int, input().split()), reverse=True)\n",
    "    b = sorted(map(int, input().split()), reverse=True)\n",
    "\n",
    "    sa = []\n",
    "    sb = []\n",
    "    cma = 0\n",
    "    cmb = 0\n",
    "    for i in range(n):\n",
    "        cma += a[i]\n",
    "        cmb += b[i]\n",
    "        \n",
    "        sa.append(cma)\n",
    "        sb.append(cmb)\n",
    "\n",
    "    start = 0\n",
    "    end = 100005\n",
    "    result = 100006\n",
    "    while start <= end:\n",
    "        to_add = (start + end) // 2\n",
    "\n",
    "        to_use = get_left(n + to_add)\n",
    "        used = min(to_use, to_add)\n",
    "        \n",
    "        score_a = used * 100\n",
    "        to_use -= used\n",
    "        \n",
    "        if to_use > 0:\n",
    "            score_a += sa[to_use - 1]\n",
    "            \n",
    "        to_use = get_left(n + to_add)\n",
    "        if to_use >= n:\n",
    "            score_b = sb[-1]\n",
    "        else:\n",
    "            score_b = sb[to_use - 1]\n",
    "        \n",
    "        if score_a >= score_b:\n",
    "            result = to_add\n",
    "            end = to_add - 1\n",
    "        else:\n",
    "            start = to_add + 1\n",
    "\n",
    "    print(result)"
   ]
  },
  {
   "cell_type": "markdown",
   "metadata": {},
   "source": [
    "https://codeforces.com/problemset/problem/1523/B B. Lord of the Values"
   ]
  },
  {
   "cell_type": "markdown",
   "metadata": {},
   "source": [
    "2.22"
   ]
  },
  {
   "cell_type": "code",
   "execution_count": null,
   "metadata": {},
   "outputs": [],
   "source": [
    "4 8\n",
    "\n",
    "12 8\n",
    "12 -4\n",
    "12 -16\n",
    "-4 -16    \n",
    "-4 -12 \n",
    "\n",
    "12 8\n",
    "12 -4\n"
   ]
  },
  {
   "cell_type": "code",
   "execution_count": 40,
   "metadata": {},
   "outputs": [],
   "source": [
    "from itertools import product\n",
    "\n",
    "oli = [7, 19, 9]\n",
    "k = 9\n",
    "for case in product(*[range(5)] * k):\n",
    "    li = oli.copy()\n",
    "    \n",
    "    for i in range(k):\n",
    "        if case[i] == 0:\n",
    "            li[0] = li[0] + li[1]\n",
    "        elif case[i] == 1:\n",
    "            li[1] = li[1] + li[2]\n",
    "        elif case[i] == 2:\n",
    "            li[1] = li[1] - li[0]\n",
    "        elif case[i] == 3:\n",
    "            li[2] = li[2] - li[0]\n",
    "        elif case[i] == 4:\n",
    "            li[2] = li[2] - li[1]\n",
    "\n",
    "    ip = True\n",
    "    for i in range(3):\n",
    "        if li[i] != -oli[i]:\n",
    "            ip = False\n",
    "            break\n",
    "            \n",
    "    if ip:\n",
    "        print(case, li)"
   ]
  },
  {
   "cell_type": "code",
   "execution_count": 45,
   "metadata": {},
   "outputs": [
    {
     "name": "stdout",
     "output_type": "stream",
     "text": [
      "(0, 0, 1, 0, 0, 1) [-4, -16]\n",
      "(0, 1, 0, 0, 1, 0) [-4, -16]\n",
      "(0, 1, 0, 1, 0, 1) [-4, -16]\n",
      "(0, 1, 1, 0, 1, 1) [-4, -16]\n",
      "(1, 0, 0, 1, 0, 0) [-4, -16]\n",
      "(1, 0, 1, 0, 1, 0) [-4, -16]\n",
      "(1, 0, 1, 1, 0, 1) [-4, -16]\n",
      "(1, 1, 0, 1, 1, 0) [-4, -16]\n"
     ]
    }
   ],
   "source": [
    "from itertools import product\n",
    "\n",
    "oli = [4, 16]\n",
    "k = 6\n",
    "for case in product(*[range(5)] * k):\n",
    "    li = oli.copy()\n",
    "    \n",
    "    for i in range(k):\n",
    "        if case[i] == 0:\n",
    "            li[0] = li[0] + li[1]\n",
    "        elif case[i] == 1:\n",
    "            li[1] = li[1] - li[0]\n",
    "\n",
    "    ip = True\n",
    "    for i in range(2):\n",
    "        if li[i] != -oli[i]:\n",
    "            ip = False\n",
    "            break\n",
    "            \n",
    "    if ip:\n",
    "        print(case, li)"
   ]
  },
  {
   "cell_type": "code",
   "execution_count": null,
   "metadata": {},
   "outputs": [],
   "source": [
    "2개를 6번만에 처리 가능\n",
    "1000개를 3000번만에 처리 가능"
   ]
  },
  {
   "cell_type": "code",
   "execution_count": 47,
   "metadata": {},
   "outputs": [
    {
     "name": "stdout",
     "output_type": "stream",
     "text": [
      "4\n",
      "1 1 1 1\n",
      "12\n",
      "1 1 2\n",
      "1 1 2\n",
      "2 1 2\n",
      "1 1 2\n",
      "1 1 2\n",
      "2 1 2\n",
      "1 3 4\n",
      "1 3 4\n",
      "2 3 4\n",
      "1 3 4\n",
      "1 3 4\n",
      "2 3 4\n"
     ]
    }
   ],
   "source": [
    "import sys\n",
    "input = lambda: sys.stdin.readline().rstrip()\n",
    "\n",
    "for _ in range(int(input())):\n",
    "    n = int(input())\n",
    "    li = list(map(int, input().split()))\n",
    "\n",
    "    print(n * 3)\n",
    "    for i in range(0, n, 2):\n",
    "        print(1, i + 1, i + 2)\n",
    "        print(1, i + 1, i + 2)\n",
    "        print(2, i + 1, i + 2)\n",
    "        print(1, i + 1, i + 2)\n",
    "        print(1, i + 1, i + 2)\n",
    "        print(2, i + 1, i + 2)    "
   ]
  },
  {
   "cell_type": "code",
   "execution_count": null,
   "metadata": {},
   "outputs": [],
   "source": [
    "5 7\n",
    "\n",
    "5 12\n",
    "-7 12\n",
    "-7 5\n",
    "\n",
    "-7 -2\n",
    "-5 -2\n",
    "-5 -7"
   ]
  },
  {
   "cell_type": "markdown",
   "metadata": {},
   "source": [
    "https://codeforces.com/problemset/problem/1511/C C. Yet Another Card Deck"
   ]
  },
  {
   "cell_type": "code",
   "execution_count": 49,
   "metadata": {},
   "outputs": [
    {
     "name": "stdout",
     "output_type": "stream",
     "text": [
      "7 5\n",
      "2 1 1 4 3 3 1\n",
      "3 2 1 1 4\n",
      "5 2 3 1 5\n"
     ]
    }
   ],
   "source": [
    "import sys\n",
    "input = lambda: sys.stdin.readline().rstrip()\n",
    "\n",
    "n, q = map(int, input().split())\n",
    "li = list(map(int, input().split()))\n",
    "qs = list(map(int, input().split()))\n",
    "\n",
    "tops = [0] * 51\n",
    "for i in range(n - 1, -1, -1):\n",
    "    tops[li[i]] = i\n",
    "    \n",
    "result = []\n",
    "for v in qs:\n",
    "    result.append(tops[v] + 1)\n",
    "    \n",
    "    cri = tops[v]\n",
    "    for i in range(1, 51):\n",
    "        if tops[i] < cri:\n",
    "            tops[i] += 1  \n",
    "    tops[v] = 0\n",
    "\n",
    "print(*result)"
   ]
  },
  {
   "cell_type": "markdown",
   "metadata": {},
   "source": [
    "https://codeforces.com/problemset/problem/1511/B B. GCD Length"
   ]
  },
  {
   "cell_type": "code",
   "execution_count": null,
   "metadata": {},
   "outputs": [],
   "source": [
    "2 3 1\n",
    "\n",
    "10 111 1\n",
    "\n",
    "\n",
    "2 3 2\n",
    "\n",
    "10 110 10\n",
    "\n",
    "4 4 4\n",
    "1000 1000 1000\n",
    "\n",
    "4 4 3\n",
    "1000 1100 100"
   ]
  },
  {
   "cell_type": "code",
   "execution_count": null,
   "metadata": {},
   "outputs": [],
   "source": [
    "1000 1110 100"
   ]
  },
  {
   "cell_type": "code",
   "execution_count": 60,
   "metadata": {},
   "outputs": [
    {
     "data": {
      "text/plain": [
       "10"
      ]
     },
     "execution_count": 60,
     "metadata": {},
     "output_type": "execute_result"
    }
   ],
   "source": [
    "gcd(1000, 1110)"
   ]
  },
  {
   "cell_type": "code",
   "execution_count": 73,
   "metadata": {},
   "outputs": [
    {
     "name": "stdout",
     "output_type": "stream",
     "text": [
      "1 1 1\n",
      "1 1\n"
     ]
    }
   ],
   "source": [
    "import sys\n",
    "input = lambda: sys.stdin.readline().rstrip()\n",
    "\n",
    "for _ in range(int(input())):\n",
    "    a, b, c = map(int, input().split())\n",
    "\n",
    "    x = ['1'] + ['0'] * (a - 1)\n",
    "    y = ['1'] + ['0'] * (b - 1)\n",
    "\n",
    "    for i in range(a - c, -1, -1):\n",
    "        x[i] = '1'\n",
    "\n",
    "    print(''.join(x), ''.join(y))"
   ]
  },
  {
   "cell_type": "markdown",
   "metadata": {},
   "source": [
    "https://codeforces.com/problemset/problem/1509/B B. TMT Document"
   ]
  },
  {
   "cell_type": "code",
   "execution_count": 88,
   "metadata": {},
   "outputs": [
    {
     "name": "stdout",
     "output_type": "stream",
     "text": [
      "6\n",
      "TMTTTT\n",
      "NO\n"
     ]
    }
   ],
   "source": [
    "import sys\n",
    "input = lambda: sys.stdin.readline().rstrip()\n",
    "\n",
    "for _ in range(int(input())):\n",
    "    n = int(input())\n",
    "    s = input()\n",
    "\n",
    "    ip = True\n",
    "    tc = 0\n",
    "    mc = 0\n",
    "    for i in range(n):\n",
    "        if s[i] == 'T':\n",
    "            tc += 1\n",
    "        else:\n",
    "            mc += 1\n",
    "\n",
    "        if tc < mc:\n",
    "            ip = False\n",
    "            break\n",
    "\n",
    "    tc = 0\n",
    "    mc = 0\n",
    "    for i in range(n - 1, -1, -1):\n",
    "        if s[i] == 'T':\n",
    "            tc += 1\n",
    "        else:\n",
    "            mc += 1\n",
    "\n",
    "        if tc < mc:\n",
    "            ip = False\n",
    "            break\n",
    "    else:\n",
    "        if mc * 2 != tc:\n",
    "            ip = False\n",
    "\n",
    "    if ip:\n",
    "        print('YES')\n",
    "    else:\n",
    "        print('NO')"
   ]
  },
  {
   "cell_type": "markdown",
   "metadata": {},
   "source": [
    "https://codeforces.com/problemset/problem/1506/B B. Partial Replacement"
   ]
  },
  {
   "cell_type": "markdown",
   "metadata": {},
   "source": [
    "6.30 6.45 -1"
   ]
  },
  {
   "cell_type": "code",
   "execution_count": 107,
   "metadata": {},
   "outputs": [
    {
     "name": "stdout",
     "output_type": "stream",
     "text": [
      "5 2\n",
      "*.*.*\n",
      "3\n"
     ]
    }
   ],
   "source": [
    "import sys\n",
    "# input = lambda: sys.stdin.readline().rstrip()\n",
    "\n",
    "for _ in range(int(input())):\n",
    "    n, k = map(int, input().split())\n",
    "    li = list(input())\n",
    "\n",
    "    if li.count('*') == 1:\n",
    "        print(1)\n",
    "    else:\n",
    "        s = -1\n",
    "        e = -1\n",
    "        for i in range(n):\n",
    "            if li[i] == '*':\n",
    "                if s == -1:\n",
    "                    s = i\n",
    "                e = i\n",
    "\n",
    "        li[s] = 'x'\n",
    "        li[e] = 'x'\n",
    "        total = 2\n",
    "\n",
    "        last = s\n",
    "        i = s\n",
    "        while True:\n",
    "            if i - last <= k:\n",
    "                if i == e:\n",
    "                    break\n",
    "                i += 1\n",
    "            else:\n",
    "                i -= 1\n",
    "                for j in range(i, -1, -1):\n",
    "                    if li[j] == '*':\n",
    "                        break\n",
    "                i = j\n",
    "                li[i] = 'x'\n",
    "                last = i\n",
    "                total += 1\n",
    "\n",
    "        print(total)"
   ]
  },
  {
   "cell_type": "markdown",
   "metadata": {},
   "source": [
    "https://codeforces.com/problemset/problem/1496/B B. Max and Mex"
   ]
  },
  {
   "cell_type": "markdown",
   "metadata": {},
   "source": [
    "6.47 6.59"
   ]
  },
  {
   "cell_type": "code",
   "execution_count": null,
   "metadata": {},
   "outputs": [],
   "source": [
    "같은거 추가되기 시작하면 더 이상 바뀌는건 없음\n",
    "만약 max값 + 1이 mex 값이라면 이젠 정답이 1씩 추가됨"
   ]
  },
  {
   "cell_type": "code",
   "execution_count": 110,
   "metadata": {},
   "outputs": [
    {
     "name": "stdout",
     "output_type": "stream",
     "text": [
      "3 7\n",
      "0 1 2\n",
      "10\n"
     ]
    }
   ],
   "source": [
    "import sys\n",
    "input = lambda: sys.stdin.readline().rstrip()\n",
    "\n",
    "for _ in range(int(input())):\n",
    "    n, k = map(int, input().split())\n",
    "    st = set(map(int, input().split()))\n",
    "\n",
    "    cur_mex = 0\n",
    "    while True:\n",
    "        if cur_mex in st:\n",
    "            cur_mex += 1\n",
    "        else:\n",
    "            break\n",
    "\n",
    "    cur_max = max(st)\n",
    "    result = -1\n",
    "    while k:\n",
    "        if cur_mex == cur_max + 1:\n",
    "            result = len(st) + k\n",
    "            break\n",
    "        k -= 1\n",
    "\n",
    "        temp = cur_max + cur_mex\n",
    "\n",
    "        value = temp // 2\n",
    "        if temp % 2 != 0:\n",
    "            value += 1\n",
    "\n",
    "        if value in st:\n",
    "            break\n",
    "\n",
    "        st.add(value)\n",
    "        cur_max = max(cur_max, value)\n",
    "        while True:\n",
    "            if cur_mex in st:\n",
    "                cur_mex += 1\n",
    "            else:\n",
    "                break\n",
    "\n",
    "    if result == -1:\n",
    "        print(len(st))\n",
    "    else:\n",
    "        print(result)"
   ]
  },
  {
   "cell_type": "markdown",
   "metadata": {},
   "source": [
    "https://codeforces.com/problemset/problem/1492/B B. Card Deck"
   ]
  },
  {
   "cell_type": "markdown",
   "metadata": {},
   "source": [
    "8.29 8.44"
   ]
  },
  {
   "cell_type": "markdown",
   "metadata": {},
   "source": [
    "새로운 것의 아래쪽에 최대한 가장 큰 수가 오도록 해야함"
   ]
  },
  {
   "cell_type": "code",
   "execution_count": null,
   "metadata": {},
   "outputs": [],
   "source": [
    "4    1\n",
    "3   2\n",
    "2   3\n",
    "1    4"
   ]
  },
  {
   "cell_type": "code",
   "execution_count": null,
   "metadata": {},
   "outputs": [],
   "source": [
    "3  \n",
    "4   3\n",
    "2   3\n",
    "5   2\n",
    "1   5"
   ]
  },
  {
   "cell_type": "code",
   "execution_count": 118,
   "metadata": {},
   "outputs": [
    {
     "name": "stdout",
     "output_type": "stream",
     "text": [
      "6\n",
      "4 2 5 3 6 1\n",
      "6 1 5 3 4 2\n"
     ]
    }
   ],
   "source": [
    "import sys\n",
    "input = lambda: sys.stdin.readline().rstrip()\n",
    "\n",
    "for _ in range(int(input())):\n",
    "    n = int(input())\n",
    "    li = list(map(int, input().split()))\n",
    "\n",
    "    sli = sorted(li, reverse=True)\n",
    "\n",
    "    result = []\n",
    "\n",
    "    vt = set()\n",
    "    for value in sli:\n",
    "        if value in vt:\n",
    "            continue\n",
    "        temp = []\n",
    "\n",
    "        while True:\n",
    "            v = li.pop()\n",
    "            vt.add(v)\n",
    "            temp.append(v)\n",
    "            if v == value:\n",
    "                break\n",
    "\n",
    "        while temp:\n",
    "            result.append(temp.pop())\n",
    "\n",
    "    print(*result)"
   ]
  },
  {
   "cell_type": "markdown",
   "metadata": {},
   "source": [
    "https://codeforces.com/problemset/problem/1523/C C. Compression and Expansion"
   ]
  },
  {
   "cell_type": "code",
   "execution_count": 121,
   "metadata": {},
   "outputs": [
    {
     "name": "stdout",
     "output_type": "stream",
     "text": [
      "4\n",
      "1\n",
      "1\n",
      "2\n",
      "3\n",
      "1\n",
      "1.1\n",
      "1.2\n",
      "1.3\n"
     ]
    }
   ],
   "source": [
    "import sys\n",
    "input = lambda: sys.stdin.readline().rstrip()\n",
    "\n",
    "for _ in range(int(input())):\n",
    "    n = int(input())\n",
    "    li = [int(input()) for _ in range(n)]\n",
    "\n",
    "    stack = []\n",
    "    for v in li:\n",
    "        if v == 1:\n",
    "            stack.append(1)\n",
    "        else:  \n",
    "            while v != stack[-1] + 1:\n",
    "                stack.pop()\n",
    "\n",
    "            stack[-1] += 1\n",
    "\n",
    "        print('.'.join(map(str, stack)))"
   ]
  },
  {
   "cell_type": "markdown",
   "metadata": {},
   "source": [
    "https://codeforces.com/problemset/problem/1490/C C. Sum of Cubes"
   ]
  },
  {
   "cell_type": "markdown",
   "metadata": {},
   "source": [
    "10.43 10.50"
   ]
  },
  {
   "cell_type": "code",
   "execution_count": null,
   "metadata": {},
   "outputs": [],
   "source": [
    "x = int(input())"
   ]
  },
  {
   "cell_type": "code",
   "execution_count": 122,
   "metadata": {},
   "outputs": [
    {
     "data": {
      "text/plain": [
       "9999.999999999995"
      ]
     },
     "execution_count": 122,
     "metadata": {},
     "output_type": "execute_result"
    }
   ],
   "source": [
    "1e12 ** (1/3)"
   ]
  },
  {
   "cell_type": "code",
   "execution_count": 123,
   "metadata": {},
   "outputs": [
    {
     "data": {
      "text/plain": [
       "1000000000000"
      ]
     },
     "execution_count": 123,
     "metadata": {},
     "output_type": "execute_result"
    }
   ],
   "source": [
    "10000 ** 3"
   ]
  },
  {
   "cell_type": "code",
   "execution_count": 124,
   "metadata": {},
   "outputs": [
    {
     "data": {
      "text/plain": [
       "1000000000000"
      ]
     },
     "execution_count": 124,
     "metadata": {},
     "output_type": "execute_result"
    }
   ],
   "source": [
    "int(1e12)"
   ]
  },
  {
   "cell_type": "code",
   "execution_count": 129,
   "metadata": {},
   "outputs": [],
   "source": [
    "st = set()\n",
    "li = []\n",
    "for num in range(1, 10001):\n",
    "    st.add(num ** 3)\n",
    "    li.append(num ** 3)\n",
    "\n"
   ]
  },
  {
   "cell_type": "code",
   "execution_count": 132,
   "metadata": {},
   "outputs": [
    {
     "name": "stdout",
     "output_type": "stream",
     "text": [
      "1\n",
      "NO\n"
     ]
    }
   ],
   "source": [
    "import sys\n",
    "input = lambda: sys.stdin.readline().rstrip()\n",
    "\n",
    "st = set()\n",
    "li = []\n",
    "for num in range(1, 10001):\n",
    "    st.add(num ** 3)\n",
    "    li.append(num ** 3)\n",
    "\n",
    "for _ in range(int(input())):\n",
    "    n = int(input())\n",
    "\n",
    "    ip = False\n",
    "    for v in li:\n",
    "        if n - v in st:\n",
    "            ip = True\n",
    "            break\n",
    "\n",
    "    if ip:\n",
    "        print('YES')\n",
    "    else:\n",
    "        print('NO')"
   ]
  },
  {
   "cell_type": "markdown",
   "metadata": {},
   "source": [
    "https://codeforces.com/problemset/problem/1481/B B. New Colony"
   ]
  },
  {
   "cell_type": "markdown",
   "metadata": {},
   "source": [
    "10.52 10.59"
   ]
  },
  {
   "cell_type": "code",
   "execution_count": null,
   "metadata": {},
   "outputs": [],
   "source": [
    "k가 어느 이상 높으면 전부 -1일 수 있지 않을까?\n",
    "한번 굴러떨어지기 시작하면 계속 굴러떨어짐"
   ]
  },
  {
   "cell_type": "code",
   "execution_count": null,
   "metadata": {},
   "outputs": [],
   "source": [
    "1 1 1 1 1 1 1 1 1 1 100"
   ]
  },
  {
   "cell_type": "code",
   "execution_count": 134,
   "metadata": {},
   "outputs": [
    {
     "data": {
      "text/plain": [
       "1000000"
      ]
     },
     "execution_count": 134,
     "metadata": {},
     "output_type": "execute_result"
    }
   ],
   "source": [
    "100 * 100 * 100"
   ]
  },
  {
   "cell_type": "code",
   "execution_count": 138,
   "metadata": {},
   "outputs": [
    {
     "name": "stdout",
     "output_type": "stream",
     "text": [
      "2 7\n",
      "1 8\n",
      "1\n"
     ]
    }
   ],
   "source": [
    "import sys\n",
    "input = lambda: sys.stdin.readline().rstrip()\n",
    "\n",
    "for _ in range(int(input())):\n",
    "    n, k = map(int, input().split())\n",
    "    li = list(map(int, input().split()))\n",
    "\n",
    "    cur_k = 1\n",
    "    while True:\n",
    "        stopped = -1\n",
    "        for i in range(n - 1):\n",
    "            if li[i] < li[i + 1]:\n",
    "                stopped = i\n",
    "                li[i] += 1\n",
    "                break\n",
    "\n",
    "        if stopped == -1:\n",
    "            print(-1)\n",
    "            break\n",
    "        if cur_k == k:\n",
    "            print(stopped + 1)\n",
    "            break\n",
    "\n",
    "        cur_k += 1"
   ]
  },
  {
   "cell_type": "markdown",
   "metadata": {},
   "source": [
    "https://codeforces.com/problemset/problem/1478/B B. Nezzar and Lucky Number"
   ]
  },
  {
   "cell_type": "markdown",
   "metadata": {},
   "source": [
    "10.59 11.22"
   ]
  },
  {
   "cell_type": "code",
   "execution_count": null,
   "metadata": {},
   "outputs": [],
   "source": [
    "100 이상은 다 됨"
   ]
  },
  {
   "cell_type": "code",
   "execution_count": null,
   "metadata": {},
   "outputs": [],
   "source": [
    "24\n",
    "\n",
    "7 17"
   ]
  },
  {
   "cell_type": "code",
   "execution_count": null,
   "metadata": {},
   "outputs": [],
   "source": [
    "100\n",
    "\n",
    "70"
   ]
  },
  {
   "cell_type": "code",
   "execution_count": 140,
   "metadata": {},
   "outputs": [
    {
     "name": "stdout",
     "output_type": "stream",
     "text": [
      "7\n",
      "14\n",
      "21\n",
      "28\n",
      "35\n",
      "42\n",
      "49\n",
      "56\n",
      "63\n",
      "70\n",
      "77\n",
      "84\n",
      "91\n",
      "98\n",
      "105\n"
     ]
    }
   ],
   "source": [
    "for i in range(1, 16):\n",
    "    print(i * 7)"
   ]
  },
  {
   "cell_type": "code",
   "execution_count": null,
   "metadata": {},
   "outputs": [],
   "source": [
    "100\n",
    "27\n",
    "73"
   ]
  },
  {
   "cell_type": "code",
   "execution_count": null,
   "metadata": {},
   "outputs": [],
   "source": [
    "100\n",
    "\n",
    "91\n",
    "9\n",
    "\n",
    "101\n",
    "\n",
    "92\n",
    "9\n",
    "\n",
    "108\n",
    "\n",
    "99\n",
    "9\n",
    "\n",
    "109\n",
    "\n",
    "90\n",
    "19"
   ]
  },
  {
   "cell_type": "code",
   "execution_count": 151,
   "metadata": {},
   "outputs": [
    {
     "name": "stdout",
     "output_type": "stream",
     "text": [
      "3 7\n",
      "24 25 27\n",
      "YES\n",
      "NO\n",
      "YES\n"
     ]
    }
   ],
   "source": [
    "import sys\n",
    "input = lambda: sys.stdin.readline().rstrip()\n",
    "\n",
    "sts = [set() for _ in range(10)]\n",
    "for num in range(1, 10):\n",
    "    sts[num].add(num)\n",
    "\n",
    "    for to_add in range(10, 100, 10):\n",
    "        sts[num].add(num + to_add)\n",
    "\n",
    "    cur = num * 10\n",
    "    for to_add in range(10):\n",
    "        sts[num].add(cur + to_add)\n",
    "\n",
    "    for i in range(100):\n",
    "        ip = False\n",
    "        for v in sts[num]:\n",
    "            if i - v in sts[num]:\n",
    "                ip = True\n",
    "                break\n",
    "\n",
    "        if ip:\n",
    "            sts[num].add(i)\n",
    "\n",
    "for _ in range(int(input())):\n",
    "    q, d = map(int, input().split())\n",
    "    li = list(map(int, input().split()))\n",
    "    for v in li:\n",
    "        if v >= 100:\n",
    "            print('YES')\n",
    "        else:\n",
    "            if v in sts[d]:\n",
    "                print('YES')\n",
    "            else:\n",
    "                print('NO')"
   ]
  }
 ],
 "metadata": {
  "kernelspec": {
   "display_name": "Python 3",
   "language": "python",
   "name": "python3"
  },
  "language_info": {
   "codemirror_mode": {
    "name": "ipython",
    "version": 3
   },
   "file_extension": ".py",
   "mimetype": "text/x-python",
   "name": "python",
   "nbconvert_exporter": "python",
   "pygments_lexer": "ipython3",
   "version": "3.7.4"
  }
 },
 "nbformat": 4,
 "nbformat_minor": 2
}
