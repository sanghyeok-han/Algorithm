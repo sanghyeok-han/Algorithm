{
 "cells": [
  {
   "cell_type": "markdown",
   "metadata": {},
   "source": [
    "### A. Sum of 2050"
   ]
  },
  {
   "cell_type": "code",
   "execution_count": null,
   "metadata": {},
   "outputs": [],
   "source": [
    "2050 및 그 후의 수들은 전부 2050의 배수\n",
    "base = 2050"
   ]
  },
  {
   "cell_type": "code",
   "execution_count": 11,
   "metadata": {},
   "outputs": [
    {
     "name": "stdout",
     "output_type": "stream",
     "text": [
      "6\n",
      "205\n",
      "-1\n",
      "2050\n",
      "1\n",
      "4100\n",
      "2\n",
      "20500\n",
      "1\n",
      "22550\n",
      "2\n",
      "25308639900\n",
      "36\n"
     ]
    }
   ],
   "source": [
    "for _ in range(int(input())):\n",
    "    n = int(input())\n",
    "\n",
    "    count = 0\n",
    "    while n >= 2050:\n",
    "        str_n = str(n)\n",
    "        zero_length = len(str_n[3:])\n",
    "        if int(str_n[:3]) < 205:\n",
    "            n -= 205 * 10 ** (zero_length - 1)\n",
    "        else:\n",
    "            n -= 205 * 10 ** zero_length\n",
    "\n",
    "        count += 1\n",
    "\n",
    "    if n == 0:\n",
    "        print(count)\n",
    "    else:\n",
    "        print(-1)"
   ]
  },
  {
   "cell_type": "markdown",
   "metadata": {},
   "source": [
    "### B. Morning Jogging"
   ]
  },
  {
   "cell_type": "code",
   "execution_count": null,
   "metadata": {},
   "outputs": [],
   "source": [
    "전체를 (수, 어디 것인지)로 오름차순 정렬\n",
    "가장 적은 m개를 선택 (서로 다른 루트에 속하게 될 것)\n",
    "선택되지 않은 나머지는 루트별로 구분한 형태로 리스트로 저장\n",
    "선택된 m개를 for 문 돌리면서 선택된 것에 해당하는 루트 파트를 제외한 나머지를 차례대로 끼워맞춤\n",
    "위의 결과를 계속 정답 리스트에 저장"
   ]
  },
  {
   "cell_type": "code",
   "execution_count": 25,
   "metadata": {},
   "outputs": [
    {
     "name": "stdout",
     "output_type": "stream",
     "text": [
      "2\n",
      "2 3\n",
      "2 3 4\n",
      "1 3 5\n",
      "4 2 3\n",
      "1 5 3\n",
      "3 2\n",
      "2 3\n",
      "4 1\n",
      "3 5\n",
      "3 2\n",
      "1 4\n",
      "5 3\n"
     ]
    }
   ],
   "source": [
    "import sys\n",
    "input = sys.stdin.readline\n",
    "\n",
    "for _ in range(int(input())):\n",
    "    n, m = map(int, input().rstrip().split())\n",
    "    li = []\n",
    "    for i in range(n):\n",
    "        for v in map(int, input().rstrip().split()):\n",
    "            li.append((v, i))\n",
    "\n",
    "    li.sort()\n",
    "    selected = li[:m]\n",
    "    not_selected = li[m:]\n",
    "\n",
    "    new_not_selected = [[] for _ in range(n)]\n",
    "    for v, i in not_selected:\n",
    "        new_not_selected[i].append(v)\n",
    "\n",
    "    result = []\n",
    "    for s in selected:\n",
    "        selected_value, selected_route_part = s\n",
    "\n",
    "        temp = []\n",
    "        for j in range(n):\n",
    "            if j == selected_route_part:\n",
    "                temp.append(selected_value)\n",
    "            else:\n",
    "                temp.append(new_not_selected[j].pop())\n",
    "\n",
    "        result.append(temp)\n",
    "\n",
    "    new_result = list(zip(*result))\n",
    "    for v in new_result:\n",
    "        print(' '.join(map(str, v)))"
   ]
  },
  {
   "cell_type": "markdown",
   "metadata": {},
   "source": [
    "### C. Fillomino 2"
   ]
  },
  {
   "cell_type": "markdown",
   "metadata": {},
   "source": [
    "C번 수정 사항: Instead of \"The x-th region sholud contain cell (x, x)\",\n",
    "it should be \"The x-th region should contain cell on the main diagonal with number x\"\n",
    "\n",
    "---\n",
    "Adjacent cells means cells that share a side"
   ]
  },
  {
   "cell_type": "code",
   "execution_count": null,
   "metadata": {},
   "outputs": [],
   "source": [
    "아래 비어있으면 아래로 이동, 아래 차있으면 왼쪽으로 이동, 왼쪽도 차있으면 위쪽으로 이동, 위쪽도 차있으면 오른쪽으로 이동(이동했던 곳 제외)"
   ]
  },
  {
   "cell_type": "code",
   "execution_count": 10,
   "metadata": {},
   "outputs": [
    {
     "name": "stdout",
     "output_type": "stream",
     "text": [
      "5\n",
      "1 2 3 4 5\n",
      "1\n",
      "2 2\n",
      "3 3 3\n",
      "4 4 4 4\n",
      "5 5 5 5 5\n"
     ]
    }
   ],
   "source": [
    "n = int(input())\n",
    "diag = tuple(map(int, input().split()))\n",
    "\n",
    "li = [[0] * n for _ in range(n)]\n",
    "for i in range(n):\n",
    "    li[i][i] = diag[i]\n",
    "    \n",
    "is_failed = False\n",
    "for i in range(n - 1, -1, -1):\n",
    "    region_num = diag[i]\n",
    "    \n",
    "    x = y = i\n",
    "    for _ in range(region_num - 1):\n",
    "        nx, ny = x + 1, y  \n",
    "        if 0 <= nx < n and 0 <= ny <= i and li[nx][ny] == 0:\n",
    "            li[nx][ny] = region_num\n",
    "            x, y = nx, ny\n",
    "            continue\n",
    "            \n",
    "        nx, ny = x, y - 1 \n",
    "        if 0 <= nx < n and 0 <= ny <= i and li[nx][ny] == 0:\n",
    "            li[nx][ny] = region_num\n",
    "            x, y = nx, ny\n",
    "            continue    \n",
    "            \n",
    "        nx, ny = x - 1, y  \n",
    "        if 0 <= nx < n and 0 <= ny <= i and li[nx][ny] == 0:\n",
    "            li[nx][ny] = region_num\n",
    "            x, y = nx, ny\n",
    "            continue\n",
    "            \n",
    "        nx, ny = x, y + 1 \n",
    "        if 0 <= nx < n and 0 <= ny <= i and li[nx][ny] == 0:\n",
    "            li[nx][ny] = region_num\n",
    "            x, y = nx, ny\n",
    "            continue \n",
    "            \n",
    "        is_failed = True\n",
    "        break\n",
    "        \n",
    "    if is_failed:\n",
    "        break\n",
    "        \n",
    "if is_failed:\n",
    "    print(-1)\n",
    "else:\n",
    "    for i in range(n):\n",
    "        print(*li[i][:i + 1])"
   ]
  },
  {
   "cell_type": "code",
   "execution_count": 6,
   "metadata": {},
   "outputs": [
    {
     "name": "stdout",
     "output_type": "stream",
     "text": [
      "[2, 0, 0]\n",
      "[3, 3, 0]\n",
      "[0, 3, 1]\n"
     ]
    }
   ],
   "source": [
    "for v in li:\n",
    "    print(v)"
   ]
  },
  {
   "cell_type": "code",
   "execution_count": 28,
   "metadata": {},
   "outputs": [
    {
     "data": {
      "text/plain": [
       "[[1, 0, 0], [0, 2, 0], [0, 0, 3]]"
      ]
     },
     "execution_count": 28,
     "metadata": {},
     "output_type": "execute_result"
    }
   ],
   "source": [
    "\n",
    "    \n",
    "    "
   ]
  },
  {
   "cell_type": "markdown",
   "metadata": {},
   "source": [
    "### D. Explorer Space"
   ]
  },
  {
   "cell_type": "code",
   "execution_count": null,
   "metadata": {},
   "outputs": [],
   "source": [
    "k가 홀수일 경우 모든 곳에서의 답은 -1\n",
    "\n",
    "주어진 인풋을 무방향 그래프로 변경 가능\n",
    "k // 2 길이의 가장 짧은 길을 택하고 곱하기 2 하면 정답임\n",
    "\n",
    "깊이우선탐색으로 k // 2번 이동하기\n"
   ]
  },
  {
   "cell_type": "code",
   "execution_count": null,
   "metadata": {},
   "outputs": [],
   "source": [
    "# 초기 장소 여러번 방문 가능"
   ]
  },
  {
   "cell_type": "code",
   "execution_count": 46,
   "metadata": {},
   "outputs": [
    {
     "data": {
      "text/plain": [
       "[(1,), (3,)]"
      ]
     },
     "execution_count": 46,
     "metadata": {},
     "output_type": "execute_result"
    }
   ],
   "source": [
    "to_rights"
   ]
  },
  {
   "cell_type": "code",
   "execution_count": 47,
   "metadata": {},
   "outputs": [
    {
     "data": {
      "text/plain": [
       "[(4, 2)]"
      ]
     },
     "execution_count": 47,
     "metadata": {},
     "output_type": "execute_result"
    }
   ],
   "source": [
    "to_downs"
   ]
  },
  {
   "cell_type": "code",
   "execution_count": 52,
   "metadata": {},
   "outputs": [
    {
     "name": "stdout",
     "output_type": "stream",
     "text": [
      "2 2 3\n",
      "1\n",
      "2\n",
      "3 4\n",
      "-1 -1\n",
      "-1 -1\n"
     ]
    }
   ],
   "source": [
    "n, m, k = map(int, input().split())\n",
    "\n",
    "to_rights = []\n",
    "for i in range(n):\n",
    "    to_rights.append(tuple(map(int, input().split())))\n",
    "    \n",
    "to_downs = []\n",
    "for i in range(n - 1):\n",
    "    to_downs.append(tuple(map(int, input().split())))\n",
    "\n",
    "result = [[0] * m for _ in range(n)]\n",
    "if k % 2 == 1:\n",
    "    for i in range(n):\n",
    "        for j in range(m):\n",
    "            result[i][j] = -1\n",
    "else:\n",
    "    # left, right, up, down\n",
    "    dx = [0, 0, -1, 1]\n",
    "    dy = [-1, 1, 0, 0]\n",
    "\n",
    "    for i in range(n):\n",
    "        for j in range(m):\n",
    "            stack = []\n",
    "            stack.append((i, j, 0, 0))\n",
    "\n",
    "            min_value = float('inf')\n",
    "            visited = set()\n",
    "            while stack:\n",
    "                x, y, cumul, count = stack.pop()\n",
    "\n",
    "                if count == k // 2:\n",
    "                    if cumul < min_value:\n",
    "                        min_value = cumul\n",
    "\n",
    "                for d in range(4):\n",
    "                    nx = x + dx[d]\n",
    "                    ny = y + dy[d]\n",
    "\n",
    "                    if 0 <= nx < n and 0 <= ny < m:\n",
    "                        if d == 0:\n",
    "                            new_cumul = cumul + to_rights[nx][ny]\n",
    "                        elif d == 1:\n",
    "                            new_cumul = cumul + to_rights[nx][y]\n",
    "                        elif d == 2:\n",
    "                            new_cumul = cumul + to_downs[nx][ny]\n",
    "                        else:\n",
    "                            new_cumul = cumul + to_downs[x][ny]\n",
    "\n",
    "                        if new_cumul < min_value:\n",
    "                            stack.append((nx, ny, new_cumul, count + 1))\n",
    "                            \n",
    "            result[i][j] = min_value * 2\n",
    "            \n",
    "for v in result:\n",
    "    print(*v)"
   ]
  },
  {
   "cell_type": "code",
   "execution_count": null,
   "metadata": {},
   "outputs": [],
   "source": [
    "n, m, k = map(int, input().split())\n",
    "\n",
    "to_rights = []\n",
    "for i in range(n):\n",
    "    to_rights.append(tuple(map(int, input().split())))\n",
    "    \n",
    "to_downs = []\n",
    "for i in range(n - 1):\n",
    "    to_downs.append(tuple(map(int, input().split())))\n",
    "\n",
    "result = [[0] * m for _ in range(n)]\n",
    "if k % 2 == 1:\n",
    "    for i in range(n):\n",
    "        for j in range(m):\n",
    "            result[i][j] = -1\n",
    "else:\n",
    "    dp = [] # dp[i][j][k]"
   ]
  }
 ],
 "metadata": {
  "kernelspec": {
   "display_name": "Python 3",
   "language": "python",
   "name": "python3"
  },
  "language_info": {
   "codemirror_mode": {
    "name": "ipython",
    "version": 3
   },
   "file_extension": ".py",
   "mimetype": "text/x-python",
   "name": "python",
   "nbconvert_exporter": "python",
   "pygments_lexer": "ipython3",
   "version": "3.7.3"
  }
 },
 "nbformat": 4,
 "nbformat_minor": 4
}
