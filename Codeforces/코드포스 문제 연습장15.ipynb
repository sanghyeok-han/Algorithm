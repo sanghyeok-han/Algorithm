{
 "cells": [
  {
   "cell_type": "markdown",
   "metadata": {},
   "source": [
    "https://codeforces.com/contest/1731/problem/C C. Even Subarrays"
   ]
  },
  {
   "cell_type": "code",
   "execution_count": 42,
   "metadata": {},
   "outputs": [
    {
     "name": "stdout",
     "output_type": "stream",
     "text": [
      "1\n",
      "7\n",
      "5 7 3 7 1 7 3\n",
      "20\n"
     ]
    }
   ],
   "source": [
    "from math import log2\n",
    "import io, os, sys\n",
    "input = io.BytesIO(os.read(0,os.fstat(0).st_size)).readline\n",
    "\n",
    "for _ in range(int(input())):\n",
    "    n = int(input())\n",
    "    li = list(map(int, input().split()))\n",
    "\n",
    "    max_num = 2 ** ceil(log2(n)) + 1\n",
    "    \n",
    "    cumul = 0\n",
    "    ct = [0] * max_num\n",
    "    ct[0] = 1\n",
    "\n",
    "    to_minus = 0\n",
    "    for v in li:\n",
    "        cumul ^= v\n",
    "\n",
    "        cur = 0\n",
    "        while True:\n",
    "            cur_s = cur * cur\n",
    "            if cur_s >= max_num:\n",
    "                break\n",
    "\n",
    "            to_minus += ct[cumul ^ cur_s]\n",
    "            cur += 1\n",
    "\n",
    "        ct[cumul] += 1\n",
    "\n",
    "    total = n * (n + 1) // 2\n",
    "    result = total - to_minus\n",
    "\n",
    "    print(result)"
   ]
  },
  {
   "cell_type": "code",
   "execution_count": 41,
   "metadata": {},
   "outputs": [
    {
     "data": {
      "text/plain": [
       "8"
      ]
     },
     "execution_count": 41,
     "metadata": {},
     "output_type": "execute_result"
    }
   ],
   "source": [
    "from math import log2, ceil\n",
    "\n",
    "2 ** ceil(log2(7))"
   ]
  },
  {
   "cell_type": "code",
   "execution_count": 34,
   "metadata": {},
   "outputs": [
    {
     "data": {
      "text/plain": [
       "(6, 9)"
      ]
     },
     "execution_count": 34,
     "metadata": {},
     "output_type": "execute_result"
    }
   ],
   "source": [
    "cumul, cur_s"
   ]
  },
  {
   "cell_type": "code",
   "execution_count": 35,
   "metadata": {},
   "outputs": [
    {
     "data": {
      "text/plain": [
       "('0b110', '0b1001')"
      ]
     },
     "execution_count": 35,
     "metadata": {},
     "output_type": "execute_result"
    }
   ],
   "source": [
    "bin(cumul), bin(cur_s)"
   ]
  },
  {
   "cell_type": "code",
   "execution_count": 25,
   "metadata": {},
   "outputs": [
    {
     "data": {
      "text/plain": [
       "12"
      ]
     },
     "execution_count": 25,
     "metadata": {},
     "output_type": "execute_result"
    }
   ],
   "source": [
    "1\n",
    "7\n",
    "5 7 3 7 1 7 3\n",
    "20"
   ]
  },
  {
   "cell_type": "code",
   "execution_count": 23,
   "metadata": {},
   "outputs": [
    {
     "name": "stdout",
     "output_type": "stream",
     "text": [
      "0 0\n",
      "0 1\n",
      "0 2\n",
      "1 1\n",
      "1 2\n",
      "2 2\n"
     ]
    }
   ],
   "source": [
    "for i in range(3):\n",
    "    for j in range(i, 3):\n",
    "        print(i, j)"
   ]
  },
  {
   "cell_type": "markdown",
   "metadata": {},
   "source": [
    "https://codeforces.com/contest/1770/problem/D D. Koxia and Game"
   ]
  },
  {
   "cell_type": "code",
   "execution_count": null,
   "metadata": {},
   "outputs": [],
   "source": [
    "from collections import deque\n",
    "import io, os, sys\n",
    "# input = io.BytesIO(os.read(0,os.fstat(0).st_size)).readline\n",
    "\n",
    "mod = 998244353\n",
    "\n",
    "for _ in range(int(input())):\n",
    "    n = int(input())\n",
    "    a = list(map(int, input().split()))\n",
    "    b = list(map(int, input().split()))\n",
    "\n",
    "    li = [[] for _ in range(n + 1)]\n",
    "    for i in range(n):\n",
    "        li[a[i]].append((b[i], i))\n",
    "        li[b[i]].append((a[i], i))\n",
    "\n",
    "    vt = [False] * (n + 1)\n",
    "    cycle_c = same_c = 0\n",
    "    ip = True\n",
    "    for num in range(1, n + 1):\n",
    "        if vt[num]:\n",
    "            continue\n",
    "        vt[num] = True\n",
    "\n",
    "        st_e = set()\n",
    "        st_n = {num}\n",
    "        queue = deque()\n",
    "        queue.append(num)\n",
    "\n",
    "        is_same = 0\n",
    "        while queue:\n",
    "            value = queue.popleft()\n",
    "\n",
    "            for v, edge_num in li[value]:\n",
    "                st_e.add(edge_num)\n",
    "\n",
    "                if v == value:\n",
    "                    is_same = True\n",
    "                else:   \n",
    "                    if not vt[v]:\n",
    "                        vt[v] = True\n",
    "                        st_n.add(v)\n",
    "                        queue.append(v)\n",
    "\n",
    "        st_n_len = len(st_n)\n",
    "        st_e_len = len(st_e)\n",
    "        \n",
    "        if st_n_len == st_e_len:\n",
    "            if is_same:\n",
    "                same_c += 1\n",
    "            else:\n",
    "                cycle_c += 1\n",
    "        else:\n",
    "            ip = False\n",
    "            break\n",
    "\n",
    "    if not ip:\n",
    "        print(0)\n",
    "    else:\n",
    "        result = pow(2, cycle_c, mod) * pow(n, same_c, mod) % mod\n",
    "\n",
    "        print(result)"
   ]
  },
  {
   "cell_type": "markdown",
   "metadata": {},
   "source": [
    "https://codeforces.com/contest/1779/problem/E E. Anya's Simultaneous Exhibition"
   ]
  },
  {
   "cell_type": "code",
   "execution_count": null,
   "metadata": {},
   "outputs": [],
   "source": [
    "import sys\n",
    "# input = lambda: sys.stdin.readline().rstrip()\n",
    "\n",
    "n = int(input())\n",
    "\n",
    "win_cs = []\n",
    "to_print = ['1'] * n\n",
    "for i in range(n):\n",
    "    to_print[i] = '0'\n",
    "    print('?', i + 1, ''.join(to_print))\n",
    "    sys.stdout.flush()\n",
    "    \n",
    "    to_print[i] = '1'\n",
    "    \n",
    "    win_c = int(input())\n",
    "    \n",
    "    win_cs.append((win_c, i))\n",
    "    \n",
    "win_cs.sort(key=lambda x: x[0])\n",
    "\n",
    "result = ['0'] * n\n",
    "to_print = ['0'] * n\n",
    "\n",
    "result[win_cs[n - 1][1]] = '1'\n",
    "to_print[win_cs[n - 1][1]] = '1'\n",
    "\n",
    "cur_cri = win_cs[n - 1][0]\n",
    "stack = []\n",
    "for i in range(n - 2, -1, -1):\n",
    "    value, index = win_cs[i]\n",
    "    stack.append(index)\n",
    "    \n",
    "    print('?', index + 1, ''.join(to_print))\n",
    "    sys.stdout.flush()\n",
    "\n",
    "    win_c = int(input())\n",
    "    \n",
    "    if win_c >= 1:\n",
    "        while stack:\n",
    "            f_index = stack.pop()\n",
    "            \n",
    "            result[f_index] = '1'\n",
    "            to_print[f_index] = '1'\n",
    "            cur_cri = value\n",
    "        \n",
    "print('!', ''.join(result))\n",
    "sys.stdout.flush()"
   ]
  },
  {
   "cell_type": "markdown",
   "metadata": {},
   "source": [
    "https://codeforces.com/contest/1770/problem/C C. Koxia and Number Theory"
   ]
  },
  {
   "cell_type": "code",
   "execution_count": 2,
   "metadata": {},
   "outputs": [
    {
     "data": {
      "text/plain": [
       "4950"
      ]
     },
     "execution_count": 2,
     "metadata": {},
     "output_type": "execute_result"
    }
   ],
   "source": [
    "(100 * 99) // 2"
   ]
  },
  {
   "cell_type": "code",
   "execution_count": null,
   "metadata": {},
   "outputs": [],
   "source": [
    "4950 이하의 소수만 확인하면 됨"
   ]
  },
  {
   "cell_type": "code",
   "execution_count": 7,
   "metadata": {},
   "outputs": [],
   "source": [
    "max_num = 50\n",
    "ip = [True] * (max_num + 1)\n",
    "ip[0] = ip[1] = False\n",
    "for mod1 in range(2, int((max_num + 1) ** 0.5) + 1):\n",
    "    if ip[mod1]:\n",
    "        for v in range(mod1 * mod1, max_num + 1, mod1):\n",
    "            ip[v] = False\n",
    "            \n",
    "primes = [i for i, v in enumerate(ip) if v]"
   ]
  },
  {
   "cell_type": "code",
   "execution_count": 17,
   "metadata": {},
   "outputs": [
    {
     "name": "stdout",
     "output_type": "stream",
     "text": [
      "3\n",
      "3 3 4\n",
      "YES\n"
     ]
    }
   ],
   "source": [
    "import io, os, sys\n",
    "input = io.BytesIO(os.read(0,os.fstat(0).st_size)).readline\n",
    "\n",
    "max_num = 50\n",
    "ip = [True] * (max_num + 1)\n",
    "ip[0] = ip[1] = False\n",
    "for mod1 in range(2, int((max_num + 1) ** 0.5) + 1):\n",
    "    if ip[mod1]:\n",
    "        for v in range(mod1 * mod1, max_num + 1, mod1):\n",
    "            ip[v] = False\n",
    "            \n",
    "primes = [i for i, v in enumerate(ip) if v]\n",
    "\n",
    "for _ in range(int(input())):\n",
    "    n = int(input())\n",
    "    li = list(map(int, input().split()))\n",
    "\n",
    "    ip = True\n",
    "    if len(set(li)) < n:\n",
    "        ip = False\n",
    "\n",
    "    if ip:\n",
    "        for p in primes:\n",
    "            ct = [0] * p\n",
    "\n",
    "            for v in li:\n",
    "                ct[v % p] += 1\n",
    "\n",
    "            can_use = False\n",
    "            for rem in ct:\n",
    "                if rem <= 1:\n",
    "                    can_use = True\n",
    "                    break\n",
    "\n",
    "            if not can_use:\n",
    "                ip = False\n",
    "                break\n",
    "\n",
    "    if ip:\n",
    "        print('YES')\n",
    "    else:\n",
    "        print('NO')"
   ]
  },
  {
   "cell_type": "code",
   "execution_count": null,
   "metadata": {},
   "outputs": [],
   "source": [
    "n = 30, t = 30 p 개수: 15"
   ]
  },
  {
   "cell_type": "code",
   "execution_count": 15,
   "metadata": {},
   "outputs": [
    {
     "data": {
      "text/plain": [
       "22500"
      ]
     },
     "execution_count": 15,
     "metadata": {},
     "output_type": "execute_result"
    }
   ],
   "source": [
    "30 * 15 * max(30, 50)"
   ]
  },
  {
   "cell_type": "markdown",
   "metadata": {},
   "source": [
    "https://codeforces.com/problemset/problem/1775/E E. The Human Equation"
   ]
  },
  {
   "cell_type": "code",
   "execution_count": 2,
   "metadata": {},
   "outputs": [
    {
     "name": "stdout",
     "output_type": "stream",
     "text": [
      "6\n",
      "2 -4 3 -5 4 1\n",
      "6\n"
     ]
    }
   ],
   "source": [
    "import io, os, sys\n",
    "input = io.BytesIO(os.read(0,os.fstat(0).st_size)).readline\n",
    "\n",
    "for _ in range(int(input())):\n",
    "    n = int(input())\n",
    "    li = list(map(int, input().split()))\n",
    "\n",
    "    prefix = [0] * n\n",
    "    cumul = 0\n",
    "    for i in range(n):\n",
    "        cumul += li[i]\n",
    "        prefix[i] = cumul\n",
    "\n",
    "    min_v = min(prefix)\n",
    "    max_v = max(prefix)\n",
    "\n",
    "    result = 0\n",
    "    if min_v < 0:\n",
    "        result -= min_v\n",
    "    if max_v > 0:\n",
    "        result += max_v\n",
    "\n",
    "    print(result)"
   ]
  },
  {
   "cell_type": "markdown",
   "metadata": {},
   "source": [
    "https://codeforces.com/group/5a7SOR44aV/contest/1741/problem/F F. Multi-Colored Segments"
   ]
  },
  {
   "cell_type": "code",
   "execution_count": 5,
   "metadata": {},
   "outputs": [
    {
     "name": "stdout",
     "output_type": "stream",
     "text": [
      "1\n",
      "3\n",
      "1 2 1\n",
      "3 4 1\n",
      "5 6 2\n",
      "3 1 1\n"
     ]
    }
   ],
   "source": [
    "from heapq import heappush, heappop, heapify\n",
    "import io, os, sys\n",
    "# input = io.BytesIO(os.read(0,os.fstat(0).st_size)).readline\n",
    "\n",
    "inf = float('inf')\n",
    "\n",
    "def update():\n",
    "    init_l, init_r, init_c, init_index = li[0]\n",
    "    \n",
    "    min_dist = inf\n",
    "    for i in range(1, n):\n",
    "        l, r, c, _ = li[i]\n",
    "        \n",
    "        if c != init_c:\n",
    "            if init_r <= l:\n",
    "                dist = l - init_r\n",
    "                min_dist = min(min_dist, dist)\n",
    "            else:\n",
    "                min_dist = 0\n",
    "                \n",
    "    result[init_index] = min(result[init_index], min_dist)\n",
    "    \n",
    "    heap = []\n",
    "    for l, r, c, index in li:\n",
    "        while heap:\n",
    "            fr, fc, findex = heappop(heap)\n",
    "            fr = -fr\n",
    "\n",
    "            if c != fc:\n",
    "                if l <= fr:\n",
    "                    result[index] = 0\n",
    "                    result[findex] = 0\n",
    "                else:\n",
    "                    dist = l - fr\n",
    "                    result[index] = min(result[index], dist)\n",
    "                    result[findex] = min(result[findex], dist)\n",
    "\n",
    "        for i in range(len(heap)):\n",
    "            fr, fc, findex = heap\n",
    "            fr = -fr\n",
    "            \n",
    "            if fc == c:\n",
    "                heap[i][0] = max(heap[i][0], r)\n",
    "                heapify(heap)\n",
    "                break\n",
    "        else:\n",
    "            heappush(heap, (-r, c, index))\n",
    "\n",
    "        if len(heap) >= 3:\n",
    "            heappop(heap)\n",
    "\n",
    "\n",
    "for _ in range(int(input())):\n",
    "    n = int(input())\n",
    "    li = [list(map(int, input().split())) + [i] for i in range(n)]\n",
    "\n",
    "    result = [inf] * n\n",
    "\n",
    "    li.sort(key=lambda x: x[0])\n",
    "\n",
    "    update()\n",
    "\n",
    "    for i in range(n):\n",
    "        li[i][0], li[i][1] = -li[i][1], -li[i][0]\n",
    "\n",
    "    li.sort(key=lambda x: x[0])\n",
    "\n",
    "    update()\n",
    "        \n",
    "    print(*result)"
   ]
  },
  {
   "cell_type": "code",
   "execution_count": 16,
   "metadata": {},
   "outputs": [
    {
     "name": "stdout",
     "output_type": "stream",
     "text": [
      "1\n",
      "3\n",
      "3 4 1\n",
      "2 5 1\n",
      "1 6 2\n",
      "{'1': [(5, 1), (4, 0)]}\n",
      "{'1': [(-2, 1), (-3, 0)]}\n",
      "inf 0 0\n"
     ]
    }
   ],
   "source": [
    "import io, os, sys\n",
    "# input = io.BytesIO(os.read(0,os.fstat(0).st_size)).readline\n",
    "\n",
    "inf = float('inf')\n",
    "\n",
    "def update():\n",
    "    min_dist = inf\n",
    "    \n",
    "    d = dict()\n",
    "    for l, r, c, index in li:\n",
    "        c = str(c)\n",
    "        \n",
    "        to_dels = []\n",
    "        for key in d:\n",
    "            if key == c:\n",
    "                continue\n",
    "            while d[key]:\n",
    "                fr, findex = d[key].pop()\n",
    "                \n",
    "                if fr < l:\n",
    "                    dist = l - fr\n",
    "                else:\n",
    "                    dist = 0\n",
    "                    \n",
    "                result[findex] = dist\n",
    "                result[index] = dist\n",
    "                \n",
    "            to_dels.append(key)\n",
    "        \n",
    "        for key in to_dels:\n",
    "            del d[key]\n",
    "            \n",
    "        if c not in d:\n",
    "            d[c] = [(r, index)]\n",
    "        else:\n",
    "            d[c].append((r, index))\n",
    "            \n",
    "    print(d)\n",
    "\n",
    "\n",
    "for _ in range(int(input())):\n",
    "    n = int(input())\n",
    "    li = [list(map(int, input().split())) + [i] for i in range(n)]\n",
    "\n",
    "    result = [inf] * n\n",
    "\n",
    "    li.sort(key=lambda x: (x[0], x[3]))\n",
    "\n",
    "    update()\n",
    "\n",
    "    for i in range(n):\n",
    "        li[i][0], li[i][1] = -li[i][1], -li[i][0]\n",
    "\n",
    "    li.sort(key=lambda x: (x[0], -x[3]))\n",
    "\n",
    "    update()\n",
    "        \n",
    "    print(*result)"
   ]
  },
  {
   "cell_type": "markdown",
   "metadata": {},
   "source": [
    "https://codeforces.com/problemset/problem/1782/D D. Many Perfect Squares"
   ]
  },
  {
   "cell_type": "code",
   "execution_count": null,
   "metadata": {},
   "outputs": [],
   "source": [
    "from math import isqrt\n",
    "import io, os, sys\n",
    "input = io.BytesIO(os.read(0, os.fstat(0).st_size)).readline\n",
    "\n",
    "cri = int(1e18)\n",
    "\n",
    "def get_divisors(num):\n",
    "    divisors = []\n",
    "    for mod in range(1, int(num ** 0.5)):\n",
    "        if num % mod == 0:\n",
    "            divisors.append(mod)\n",
    "            divisors.append(num // mod)\n",
    "            \n",
    "    mod = int(num ** 0.5)\n",
    "    if num % mod == 0:\n",
    "        divisors.append(mod)\n",
    "        if num // mod != mod:\n",
    "            divisors.append(num // mod)\n",
    "            \n",
    "    return divisors\n",
    "\n",
    "for _ in range(int(input())):\n",
    "    n = int(input())\n",
    "    li = list(map(int, input().split()))\n",
    "\n",
    "    max_c = 1\n",
    "    for i in range(n):\n",
    "        for j in range(i + 1, n):\n",
    "            ai = li[i]\n",
    "            aj = li[j]\n",
    "            \n",
    "            if ai < aj:\n",
    "                ai, aj = aj, ai\n",
    "            diff = abs(ai - aj)\n",
    "\n",
    "            for div in get_divisors(diff):\n",
    "                bi_m_bj = div\n",
    "                bi_p_bj = diff // div\n",
    "\n",
    "                if bi_m_bj < bi_p_bj:\n",
    "                    bi_2 = bi_m_bj + bi_p_bj\n",
    "                    bj_2 = bi_p_bj - bi_m_bj\n",
    "\n",
    "                    if bi_2 % 2 == 0 and bj_2 % 2 == 0:\n",
    "                        bi = bi_2 // 2\n",
    "                        bj = bj_2 // 2\n",
    "\n",
    "                        x1 = bi ** 2 - ai\n",
    "                        x2 = bj ** 2 - aj\n",
    "\n",
    "                        if x1 == x2 and 0 <= x1 <= cri:\n",
    "                            c = 0\n",
    "                            for v in li:\n",
    "                                nv = v + x1\n",
    "\n",
    "                                nv_sq = isqrt(nv)\n",
    "                                if nv_sq ** 2 == nv:\n",
    "                                    c += 1\n",
    "                            max_c = max(max_c, c)\n",
    "\n",
    "    print(max_c)"
   ]
  },
  {
   "cell_type": "code",
   "execution_count": null,
   "metadata": {},
   "outputs": [],
   "source": [
    "ai + x = bi^2\n",
    "aj + x = bj^2\n",
    "\n",
    "ai - aj = bi^2 - bj^2 = (bi - bj) * (bi + bj)\n",
    "\n",
    "aa = bi - bj\n",
    "bb = bi + bj\n",
    "\n",
    "x = bi^2 - ai\n",
    "x = bj^2 - aj"
   ]
  },
  {
   "cell_type": "code",
   "execution_count": 2,
   "metadata": {},
   "outputs": [
    {
     "data": {
      "text/plain": [
       "1581138.8300841895"
      ]
     },
     "execution_count": 2,
     "metadata": {},
     "output_type": "execute_result"
    }
   ],
   "source": [
    "1e9 ** 0.5 * 50"
   ]
  },
  {
   "cell_type": "markdown",
   "metadata": {},
   "source": [
    "https://codeforces.com/contest/1739/problem/D D. Reset K Edges"
   ]
  },
  {
   "cell_type": "code",
   "execution_count": 12,
   "metadata": {},
   "outputs": [
    {
     "name": "stdout",
     "output_type": "stream",
     "text": [
      "1\n",
      "6 0\n",
      "1 2 3 4 5\n",
      "5\n"
     ]
    }
   ],
   "source": [
    "import io, os, sys\n",
    "input = io.BytesIO(os.read(0,os.fstat(0).st_size)).readline\n",
    "\n",
    "def get_needed_c(mid):\n",
    "    cur_max_hs = [0] * (n + 1)\n",
    "    \n",
    "    needed = 0\n",
    "    for c_num in range(n, 1, -1):\n",
    "        p_num = pa[c_num]\n",
    "        \n",
    "        if cur_max_hs[c_num] + 1 == mid and p_num != 1:\n",
    "            needed += 1\n",
    "            cur_max_hs[c_num] = -1\n",
    "        \n",
    "        cur_max_hs[p_num] = max(cur_max_hs[p_num], cur_max_hs[c_num] + 1)\n",
    "        \n",
    "    return needed\n",
    "\n",
    "for _ in range(int(input())):\n",
    "    n, k = map(int, input().split())\n",
    "    pa = [-1, -1] + list(map(int, input().split()))\n",
    "\n",
    "    start = 1\n",
    "    end = n - 1\n",
    "    r = n - 1\n",
    "    while start <= end:\n",
    "        mid = (start + end) // 2\n",
    "\n",
    "        needed = get_needed_c(mid)\n",
    "\n",
    "        if needed <= k:\n",
    "            r = mid\n",
    "            end = mid - 1\n",
    "        else:\n",
    "            start = mid + 1\n",
    "\n",
    "    print(r)"
   ]
  },
  {
   "cell_type": "markdown",
   "metadata": {},
   "source": [
    "https://codeforces.com/contest/1729/problem/F F. Kirei and the Linear Function"
   ]
  },
  {
   "cell_type": "code",
   "execution_count": 11,
   "metadata": {},
   "outputs": [
    {
     "name": "stdout",
     "output_type": "stream",
     "text": [
      "179572007\n",
      "4 2\n",
      "2 7 3\n",
      "1 5\n",
      "2 7 4\n",
      "1 2\n"
     ]
    }
   ],
   "source": [
    "import io, os, sys\n",
    "input = io.BytesIO(os.read(0, os.fstat(0).st_size)).readline\n",
    "\n",
    "inf = float('inf')\n",
    "\n",
    "for _ in range(int(input())):\n",
    "    li = list(map(int, input().decode().rstrip()))\n",
    "    w, m = map(int, input().split())\n",
    "\n",
    "    n = len(li)\n",
    "\n",
    "    prefix = [0] * (n + 1)\n",
    "    cumul = 0\n",
    "    for i in range(n):\n",
    "        cumul += li[i]\n",
    "        cumul %= 9\n",
    "        prefix[i + 1] = cumul\n",
    "\n",
    "    starts = [[] for _ in range(10)]\n",
    "    for i in range(w - 1, n):\n",
    "        l = i - w + 1\n",
    "        r = i\n",
    "\n",
    "        v = prefix[r + 1] - prefix[l]\n",
    "        v %= 9\n",
    "\n",
    "        if len(starts[v]) < 2:\n",
    "            starts[v].append(l + 1)\n",
    "\n",
    "    for _ in range(m):\n",
    "        l, r, k = map(int, input().split())\n",
    "        l -= 1\n",
    "        r -= 1\n",
    "\n",
    "        v_l_r = prefix[r + 1] - prefix[l]\n",
    "\n",
    "        result = (inf, inf)\n",
    "        for v_l1 in range(9):\n",
    "            for v_l2 in range(9):\n",
    "                if (v_l1 * v_l_r + v_l2) % 9 == k:\n",
    "                    if v_l1 == v_l2:\n",
    "                        if len(starts[v_l1]) >= 2:\n",
    "                            result = min(result, (starts[v_l1][0], starts[v_l1][1]))\n",
    "                    else:\n",
    "                        if starts[v_l1] and starts[v_l2]:\n",
    "                            result = min(result, (starts[v_l1][0], starts[v_l2][0]))\n",
    "\n",
    "        if result[0] == inf:\n",
    "            print(-1, -1)\n",
    "        else:\n",
    "            print(*result)"
   ]
  },
  {
   "cell_type": "markdown",
   "metadata": {},
   "source": [
    "https://codeforces.com/problemset/problem/1624/G G. MinOr Tree"
   ]
  },
  {
   "cell_type": "code",
   "execution_count": 31,
   "metadata": {},
   "outputs": [
    {
     "name": "stdout",
     "output_type": "stream",
     "text": [
      "3 4\n",
      "1 2 1\n",
      "2 3 2\n",
      "1 3 3\n",
      "3 1 4\n",
      "3\n"
     ]
    }
   ],
   "source": [
    "import io, os, sys\n",
    "input = io.BytesIO(os.read(0, os.fstat(0).st_size)).readline\n",
    "print = sys.stdout.write\n",
    "\n",
    "def find(v):\n",
    "    while v != pa[v]:\n",
    "        pa[v] = pa[pa[v]]\n",
    "        v = pa[v]\n",
    "    return v\n",
    "\n",
    "def union(a, b):\n",
    "    if rank[a] < rank[b]:\n",
    "        a, b = b, a\n",
    "    pa[b] = a\n",
    "    \n",
    "    if rank[a] == rank[b]:\n",
    "        rank[a] += 1\n",
    "\n",
    "for _ in range(int(input())):\n",
    "    input()\n",
    "    \n",
    "    n, m = map(int, input().split())\n",
    "    edges = [list(map(int, input().split())) for _ in range(m)]\n",
    "\n",
    "    cur_bit = 2 ** 29\n",
    "    result = 0\n",
    "    \n",
    "    to_avoids = set()\n",
    "    for _ in range(30):\n",
    "        haves = set()\n",
    "\n",
    "        pa = list(range(n + 1))\n",
    "        rank = [0] * (n + 1)\n",
    "        for edge_i in range(m):\n",
    "            if edge_i in to_avoids:\n",
    "                continue\n",
    "            \n",
    "            u, v, w = edges[edge_i]\n",
    "\n",
    "            if w & cur_bit:\n",
    "                haves.add(edge_i)\n",
    "            else:\n",
    "                ra = find(u)\n",
    "                rb = find(v)\n",
    "\n",
    "                if ra != rb:\n",
    "                    union(ra, rb)\n",
    "\n",
    "        fv = find(1)\n",
    "        ip = True\n",
    "        for i in range(2, n + 1):\n",
    "            if fv != find(i):\n",
    "                ip = False\n",
    "                break\n",
    "\n",
    "        if not ip:\n",
    "            result += cur_bit\n",
    "        else:\n",
    "            to_avoids |= haves\n",
    "\n",
    "        cur_bit //= 2\n",
    "\n",
    "    print(str(result) + '\\n')"
   ]
  },
  {
   "cell_type": "code",
   "execution_count": 28,
   "metadata": {},
   "outputs": [
    {
     "data": {
      "text/plain": [
       "2"
      ]
     },
     "execution_count": 28,
     "metadata": {},
     "output_type": "execute_result"
    }
   ],
   "source": [
    "import io, os, sys\n",
    "input = io.BytesIO(os.read(0, os.fstat(0).st_size)).readline\n",
    "print = sys.stdout.write\n",
    "\n",
    "def find(v):\n",
    "    while v != pa[v]:\n",
    "        pa[v] = pa[pa[v]]\n",
    "        v = pa[v]\n",
    "    return v\n",
    "\n",
    "def union(a, b):\n",
    "    if rank[a] < rank[b]:\n",
    "        a, b = b, a\n",
    "    pa[b] = a\n",
    "    \n",
    "    if rank[a] == rank[b]:\n",
    "        rank[a] += 1\n",
    "\n",
    "for _ in range(int(input())):\n",
    "    input()\n",
    "    \n",
    "    n, m = map(int, input().split())\n",
    "    edges = [list(map(int, input().split())) for _ in range(m)]\n",
    "\n",
    "    cur_bit = 2 ** 29\n",
    "    result = 0\n",
    "    for _ in range(30):\n",
    "        haves = set()\n",
    "\n",
    "        pa = list(range(n + 1))\n",
    "        rank = [0] * (n + 1)\n",
    "        for edge_i in range(len(edges)):\n",
    "            u, v, w = edges[edge_i]\n",
    "\n",
    "            if w & cur_bit:\n",
    "                haves.add(edge_i)\n",
    "            else:\n",
    "                ra = find(u)\n",
    "                rb = find(v)\n",
    "\n",
    "                if ra != rb:\n",
    "                    union(ra, rb)\n",
    "\n",
    "        fv = find(1)\n",
    "        ip = True\n",
    "        for i in range(2, n + 1):\n",
    "            if fv != find(i):\n",
    "                ip = False\n",
    "                break\n",
    "\n",
    "        if not ip:\n",
    "            result += cur_bit\n",
    "        else:\n",
    "            edges = [edges[i] for i in range(len(edges)) if i not in haves]\n",
    "\n",
    "        cur_bit //= 2\n",
    "\n",
    "    print(str(result) + '\\n')"
   ]
  },
  {
   "cell_type": "markdown",
   "metadata": {},
   "source": [
    "https://codeforces.com/contest/1777/problem/B B. Emordnilap"
   ]
  },
  {
   "cell_type": "code",
   "execution_count": 16,
   "metadata": {},
   "outputs": [
    {
     "name": "stdout",
     "output_type": "stream",
     "text": [
      "3\n",
      "1\n",
      "0\n",
      "2\n",
      "4\n",
      "100\n",
      "389456655\n"
     ]
    }
   ],
   "source": [
    "import io, os, sys\n",
    "input = io.BytesIO(os.read(0, os.fstat(0).st_size)).readline\n",
    "\n",
    "mod = 1000000007\n",
    "\n",
    "def get_sum(num):\n",
    "    return num * (num + 1) // 2\n",
    "\n",
    "def nCk(n, k):\n",
    "    if n < k:\n",
    "        return 0\n",
    "    if k < 0:\n",
    "        return 0\n",
    "    \n",
    "    if n - k < k:\n",
    "        k = n - k\n",
    "        \n",
    "    num = 1\n",
    "    for i in range(n, n - k, -1):\n",
    "        num *= i\n",
    "    \n",
    "    denom = 1\n",
    "    for i in range(2, k + 1):\n",
    "        denom *= i\n",
    "        \n",
    "    return num // denom\n",
    "    \n",
    "facts = [0] * 100001\n",
    "facts[0] = facts[1] = 1\n",
    "for num in range(2, 100001):\n",
    "    v = facts[num - 1] * num\n",
    "    v %= mod\n",
    "    \n",
    "    facts[num] = v\n",
    "\n",
    "for _ in range(int(input())):\n",
    "    n = int(input())\n",
    "\n",
    "    if n == 1:\n",
    "        print(0)\n",
    "    else:\n",
    "        r = nCk(n, 2) * nCk(n, 2) % mod * facts[n - 2] % mod * 2 % mod + get_sum(n - 1) * facts[n] % mod\n",
    "        r %= mod\n",
    "\n",
    "        print(r)"
   ]
  },
  {
   "cell_type": "markdown",
   "metadata": {},
   "source": [
    "https://codeforces.com/contest/1777/problem/E E. Edge Reverse"
   ]
  },
  {
   "cell_type": "code",
   "execution_count": null,
   "metadata": {},
   "outputs": [],
   "source": [
    "from collections import deque\n",
    "import io, os, sys\n",
    "input = io.BytesIO(os.read(0,os.fstat(0).st_size)).readline\n",
    " \n",
    "## PYRIVAL BOOTSTRAP\n",
    "# https://github.com/cheran-senthil/PyRival/blob/master/pyrival/misc/bootstrap.py\n",
    "# This decorator allows for recursion without actually doing recursion\n",
    "## @bootstrap, yield when getting and returning value in recursive functions, end of functions\n",
    "from types import GeneratorType\n",
    " \n",
    "def bootstrap(f, stack=[]):\n",
    "    def wrappedfunc(*args, **kwargs):\n",
    "        if stack:\n",
    "            return f(*args, **kwargs)\n",
    "        else:\n",
    "            to = f(*args, **kwargs)\n",
    "            while True:\n",
    "                if type(to) is GeneratorType:\n",
    "                    stack.append(to)\n",
    "                    to = next(to)\n",
    "                else:\n",
    "                    stack.pop()\n",
    "                    if not stack:\n",
    "                        break\n",
    "                    to = stack[-1].send(to)\n",
    "            return to\n",
    "    return wrappedfunc\n",
    " \n",
    "@bootstrap\n",
    "def dfs(value, mid):\n",
    "    global next_id\n",
    "    \n",
    "    stack.append(value)\n",
    "    on_stack[value] = True\n",
    "    min_id = ids[value]\n",
    "    \n",
    "    for v, w in li[value]:\n",
    "        if w > mid:\n",
    "            continue\n",
    "        \n",
    "        if ids[v] != 0:\n",
    "            if not on_stack[v]:\n",
    "                continue\n",
    "            min_id = min(min_id, low_ids[v])\n",
    "        else:\n",
    "            ids[v] = next_id\n",
    "            low_ids[v] = next_id\n",
    "            next_id += 1\n",
    "            temp = yield dfs(v, mid)\n",
    "            min_id = min(min_id, temp)\n",
    "        \n",
    "    low_ids[value] = min_id\n",
    "         \n",
    "    if ids[value] == low_ids[value]:\n",
    "        temp_r = []\n",
    "        while True:\n",
    "            v = stack.pop()\n",
    "            temp_r.append(v)\n",
    "            on_stack[v] = False\n",
    "            \n",
    "            if value == v:\n",
    "                break\n",
    "        scc.append(temp_r)\n",
    "        \n",
    "    yield min_id\n",
    "    \n",
    "for _ in range(int(input())):\n",
    "    n, m = map(int, input().split())\n",
    "    \n",
    "    li = [[] for _ in range(n + 1)]\n",
    "    ws = {0}\n",
    "    for _ in range(m):\n",
    "        a, b, w = map(int, input().split())\n",
    "\n",
    "        li[a].append((b, 0))\n",
    "        li[b].append((a, w))\n",
    "        ws.add(w)\n",
    "    \n",
    "    ws = sorted(ws)\n",
    "    \n",
    "    result = -1\n",
    "    start_i = 0\n",
    "    end_i = len(ws) - 1\n",
    "    while start_i <= end_i:\n",
    "        mid_i = (start_i + end_i) // 2\n",
    "        mid = ws[mid_i]\n",
    "        \n",
    "        ids = [0] * (n + 1)\n",
    "        low_ids = [0] * (n + 1)\n",
    "        on_stack = [False] * (n + 1)\n",
    "        stack = []\n",
    "        scc = []\n",
    "        next_id = 1\n",
    "\n",
    "        for i in range(1, n + 1):\n",
    "            if ids[i] == 0:\n",
    "                ids[i] = next_id\n",
    "                low_ids[i] = next_id\n",
    "                next_id += 1\n",
    "                dfs(i, mid)\n",
    "\n",
    "        sp = scc[-1][-1]\n",
    "        \n",
    "        queue = deque()\n",
    "        queue.append(sp)\n",
    "        \n",
    "        vt = [False] * (n + 1)\n",
    "        vt[sp] = True\n",
    "        \n",
    "        vt_c = 1\n",
    "\n",
    "        while queue:\n",
    "            value = queue.popleft()\n",
    "\n",
    "            for v, w in li[value]:\n",
    "                if w > mid:\n",
    "                    continue\n",
    "                if vt[v]:\n",
    "                    continue\n",
    "                vt[v] = True\n",
    "                vt_c += 1\n",
    "                \n",
    "                queue.append(v)\n",
    "\n",
    "        if vt_c == n:\n",
    "            result = mid\n",
    "            end_i = mid_i - 1 \n",
    "        else:\n",
    "            start_i = mid_i + 1\n",
    "\n",
    "    print(result)"
   ]
  },
  {
   "cell_type": "markdown",
   "metadata": {},
   "source": [
    "https://codeforces.com/contest/1758/problem/B B. XOR = Average"
   ]
  },
  {
   "cell_type": "code",
   "execution_count": 7,
   "metadata": {},
   "outputs": [
    {
     "name": "stdout",
     "output_type": "stream",
     "text": [
      "6\n",
      "2 2 2 2 1 3\n"
     ]
    }
   ],
   "source": [
    "import io, os, sys\n",
    "input = io.BytesIO(os.read(0,os.fstat(0).st_size)).readline\n",
    "\n",
    "for _ in range(int(input())):\n",
    "    n = int(input())\n",
    "\n",
    "    if n % 2 == 1:\n",
    "        print(*[1] * n)\n",
    "    elif n % 2 == 0:\n",
    "        print(*[2] * (n - 2) + [1, 3])"
   ]
  },
  {
   "cell_type": "markdown",
   "metadata": {},
   "source": [
    "https://codeforces.com/contest/1758/problem/C C. Almost All Multiples"
   ]
  },
  {
   "cell_type": "code",
   "execution_count": 11,
   "metadata": {},
   "outputs": [
    {
     "name": "stdout",
     "output_type": "stream",
     "text": [
      "19\n",
      "37\n",
      "61\n",
      "91\n",
      "127\n",
      "169\n",
      "217\n",
      "9\n"
     ]
    }
   ],
   "source": [
    "1 2  3 4 5 6 7 8 9 10 11 12 13 14 15 16\n",
    "2 16 3 4 5 6 7 8 9 10 11 12 13 14 15  1\n"
   ]
  },
  {
   "cell_type": "code",
   "execution_count": null,
   "metadata": {},
   "outputs": [],
   "source": [
    "1 2  3 4 5 6 7 8  9 10 11 12 13 14 15 16\n",
    "8 2  3 4 5 6 7 16 9 10 11 12 13 14 15  1"
   ]
  },
  {
   "cell_type": "code",
   "execution_count": null,
   "metadata": {},
   "outputs": [],
   "source": [
    "1 2 4 8 16"
   ]
  },
  {
   "cell_type": "code",
   "execution_count": null,
   "metadata": {},
   "outputs": [],
   "source": [
    "1 2  3  4 5 6 7 8 9 10 11 12\n",
    "2 12 3  4 5 6 7 8 9 10 11  1\n",
    "2 4  3  12 5 6 7 8 9 10 11  1"
   ]
  },
  {
   "cell_type": "code",
   "execution_count": null,
   "metadata": {},
   "outputs": [],
   "source": [
    "12 = 2 * 2 * 3"
   ]
  },
  {
   "cell_type": "code",
   "execution_count": 22,
   "metadata": {},
   "outputs": [
    {
     "name": "stdout",
     "output_type": "stream",
     "text": [
      "1\n",
      "3 3\n",
      "3 2 1\n"
     ]
    }
   ],
   "source": [
    "import io, os, sys\n",
    "# input = io.BytesIO(os.read(0, os.fstat(0).st_size)).readline\n",
    "\n",
    "def p_facto(num):\n",
    "    r = []\n",
    "    for mod in range(2, int(num ** 0.5) + 1):\n",
    "        while num % mod == 0:\n",
    "            num //= mod\n",
    "            r.append(mod)\n",
    "    \n",
    "    if num != 1:\n",
    "        r.append(num)\n",
    "        \n",
    "    return r\n",
    "\n",
    "for _ in range(int(input())):\n",
    "    n, x = map(int, input().split())\n",
    "\n",
    "    if n % x != 0:\n",
    "        print(-1)\n",
    "    else:\n",
    "        result = [0] + list(range(1, n + 1))\n",
    "        result[n] = 1\n",
    "        result[1] = x\n",
    "        \n",
    "        if x != n:\n",
    "            result[x] = n\n",
    "\n",
    "        pfs = p_facto(n // x)\n",
    "\n",
    "        for i in range(len(pfs) - 1):\n",
    "            to_ex = x * pfs[i]\n",
    "\n",
    "            result[to_ex], result[x] = result[x], result[to_ex]\n",
    "\n",
    "            x = to_ex\n",
    "\n",
    "        print(*result[1:])"
   ]
  },
  {
   "cell_type": "code",
   "execution_count": null,
   "metadata": {},
   "outputs": [],
   "source": [
    "st = {1000, 2000, 5000, 7000}\n",
    "to_assign_as = [10, 100, 1000, 10023]\n",
    "to_assign_ai = 0\n",
    "a = 0\n",
    "for i in range(1000, 10001, 1000):\n",
    "    if i in st:\n",
    "        a = to_assign_as[to_assign_ai]\n",
    "        to_assign_ai += 1\n",
    "        b = 0"
   ]
  },
  {
   "cell_type": "code",
   "execution_count": null,
   "metadata": {},
   "outputs": [],
   "source": [
    "a_info = [(1000, 13), (2000, 342), (5000, 1000), (7000, 1232)] # [(criteria, to assign), ...]\n",
    "a_info_len = len(a_info)\n",
    "\n",
    "a_info_i = 0\n",
    "a = 0\n",
    "for i in range(1000, 10001, 1000):\n",
    "    if a_info_i < a_info_len and i == a_info[a_info_i][0]:\n",
    "            a = a_info[a_info_i][1]\n",
    "            a_info_i += 1\n",
    "            b = 0"
   ]
  },
  {
   "cell_type": "code",
   "execution_count": null,
   "metadata": {},
   "outputs": [],
   "source": []
  }
 ],
 "metadata": {
  "kernelspec": {
   "display_name": "Python 3",
   "language": "python",
   "name": "python3"
  },
  "language_info": {
   "codemirror_mode": {
    "name": "ipython",
    "version": 3
   },
   "file_extension": ".py",
   "mimetype": "text/x-python",
   "name": "python",
   "nbconvert_exporter": "python",
   "pygments_lexer": "ipython3",
   "version": "3.8.3"
  }
 },
 "nbformat": 4,
 "nbformat_minor": 2
}
