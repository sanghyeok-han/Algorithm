{
 "cells": [
  {
   "cell_type": "markdown",
   "metadata": {},
   "source": [
    "### A"
   ]
  },
  {
   "cell_type": "code",
   "execution_count": 6,
   "metadata": {},
   "outputs": [
    {
     "name": "stdout",
     "output_type": "stream",
     "text": [
      "1 5\n",
      "kaavi\n",
      "NO\n"
     ]
    }
   ],
   "source": [
    "import sys\n",
    "input = lambda: sys.stdin.readline().rstrip()\n",
    "\n",
    "for _ in range(int(input())):\n",
    "    alphas = 'vika'\n",
    "    cur_i = 0\n",
    "\n",
    "    n, m = map(int, input().split())\n",
    "    li = [input() for _ in range(n)]\n",
    "\n",
    "    for j in range(m):\n",
    "        st = set()\n",
    "        for i in range(n):\n",
    "            st.add(li[i][j])\n",
    "\n",
    "        if cur_i <= 3 and alphas[cur_i] in st:\n",
    "            cur_i += 1\n",
    "\n",
    "    if cur_i == 4:\n",
    "        print('YES')\n",
    "    else:\n",
    "        print('NO')"
   ]
  },
  {
   "cell_type": "markdown",
   "metadata": {},
   "source": [
    "### B"
   ]
  },
  {
   "cell_type": "code",
   "execution_count": 12,
   "metadata": {},
   "outputs": [
    {
     "name": "stdout",
     "output_type": "stream",
     "text": [
      "1\n",
      "1\n",
      "1\n",
      "1\n"
     ]
    }
   ],
   "source": [
    "import io, os, sys\n",
    "input = io.BytesIO(os.read(0, os.fstat(0).st_size)).readline\n",
    "\n",
    "for _ in range(int(input())):\n",
    "    n = int(input())\n",
    "    li = list(map(int, input().split()))\n",
    "\n",
    "    nli = []\n",
    "    for v in li:\n",
    "        nli.append(v)\n",
    "        if v != 1:\n",
    "            nli.append(1)b\n",
    "\n",
    "    print(len(nli))\n",
    "    print(*nli)"
   ]
  },
  {
   "cell_type": "markdown",
   "metadata": {},
   "source": [
    "### C"
   ]
  },
  {
   "cell_type": "code",
   "execution_count": 30,
   "metadata": {},
   "outputs": [
    {
     "name": "stdout",
     "output_type": "stream",
     "text": [
      "6\n",
      "6 3 2 2 1 1\n",
      "[6, 4, 2, 1, 1, 1]\n"
     ]
    }
   ],
   "source": [
    "import io, os, sys\n",
    "input = io.BytesIO(os.read(0, os.fstat(0).st_size)).readline\n",
    "\n",
    "for _ in range(int(input())):\n",
    "    n = int(input())\n",
    "    li = list(map(int, input().split()))\n",
    "\n",
    "    if li[0] != n:\n",
    "        print('NO')\n",
    "    else:\n",
    "        nli = []\n",
    "        cur = n\n",
    "        cur_to_minus = 0\n",
    "        for i in range(n - 1, -1, -1):\n",
    "            if (li[i] - cur_to_minus) >= 1:\n",
    "                nli.extend([cur] * (li[i] - cur_to_minus))\n",
    "            cur_to_minus = li[i]\n",
    "            cur -= 1\n",
    "\n",
    "        if nli == li:\n",
    "            print('YES')\n",
    "        else:\n",
    "            print('NO')"
   ]
  },
  {
   "cell_type": "markdown",
   "metadata": {},
   "source": [
    "### D"
   ]
  },
  {
   "cell_type": "code",
   "execution_count": 67,
   "metadata": {},
   "outputs": [
    {
     "name": "stdout",
     "output_type": "stream",
     "text": [
      "1000000000000000000\n",
      "2648956421\n"
     ]
    }
   ],
   "source": [
    "import io, os, sys\n",
    "input = io.BytesIO(os.read(0, os.fstat(0).st_size)).readline\n",
    "\n",
    "for _ in range(int(input())):\n",
    "    n = int(input())\n",
    "\n",
    "    start = 2\n",
    "    end = int(1e19)\n",
    "\n",
    "    result = end\n",
    "    result_v = 0\n",
    "    while start <= end:\n",
    "        mid = (start + end) // 2\n",
    "\n",
    "        v = mid * (mid - 1) // 2\n",
    "\n",
    "        if v <= n:\n",
    "            result = mid\n",
    "            result_v = v\n",
    "            start = mid + 1\n",
    "        else:\n",
    "            end = mid - 1\n",
    "\n",
    "    r = result + n - result_v\n",
    "\n",
    "    print(r)"
   ]
  },
  {
   "cell_type": "markdown",
   "metadata": {},
   "source": [
    "### E"
   ]
  },
  {
   "cell_type": "code",
   "execution_count": 55,
   "metadata": {},
   "outputs": [
    {
     "name": "stdout",
     "output_type": "stream",
     "text": [
      "6 3 2\n",
      "-8 8 -2 -1 9 0\n",
      "7\n"
     ]
    }
   ],
   "source": [
    "from heapq import heappush, heappop\n",
    "import io, os, sys\n",
    "input = io.BytesIO(os.read(0, os.fstat(0).st_size)).readline\n",
    "\n",
    "for _ in range(int(input())):\n",
    "    n, m, d = map(int, input().split())\n",
    "    li = list(map(int, input().split()))\n",
    "\n",
    "    max_r = 0\n",
    "    heap = []\n",
    "    heap_sum = 0\n",
    "    for i in range(n):\n",
    "        if li[i] >= 1:\n",
    "            if len(heap) < m:\n",
    "                heappush(heap, li[i])\n",
    "                heap_sum += li[i]\n",
    "            else:\n",
    "                min_v = heappop(heap)\n",
    "                if li[i] > min_v:\n",
    "                    heappush(heap, li[i])\n",
    "                    heap_sum += li[i] - min_v\n",
    "                else:\n",
    "                    heappush(heap, min_v)\n",
    "\n",
    "        max_r = max(max_r, heap_sum - (i + 1) * d)\n",
    "\n",
    "    print(max_r)"
   ]
  },
  {
   "cell_type": "markdown",
   "metadata": {},
   "source": [
    "### F"
   ]
  },
  {
   "cell_type": "code",
   "execution_count": 72,
   "metadata": {},
   "outputs": [
    {
     "data": {
      "text/plain": [
       "20000000"
      ]
     },
     "execution_count": 72,
     "metadata": {},
     "output_type": "execute_result"
    }
   ],
   "source": [
    "100 * 10000 * 20"
   ]
  },
  {
   "cell_type": "code",
   "execution_count": 81,
   "metadata": {},
   "outputs": [
    {
     "name": "stdout",
     "output_type": "stream",
     "text": [
      "190 90\n",
      "2\n",
      "23 97\n",
      "1\n"
     ]
    }
   ],
   "source": [
    "import io, os, sys\n",
    "input = io.BytesIO(os.read(0, os.fstat(0).st_size)).readline\n",
    "\n",
    "def check(ww, ff):\n",
    "    if ww >= sv or ff >= sv:\n",
    "        return True\n",
    "    \n",
    "    dp = [False] * (ww + 1)\n",
    "    dp[0] = True\n",
    "    \n",
    "    for i in range(n):\n",
    "        for j in range(ww, li[i] - 1, -1):\n",
    "            if dp[j - li[i]]:\n",
    "                dp[j] = True\n",
    "            \n",
    "    can_use = 0\n",
    "    for j in range(ww, -1, -1):\n",
    "        if dp[j]:\n",
    "            can_use = j\n",
    "            break\n",
    "            \n",
    "    remained = sv - can_use\n",
    "    if remained <= ff:\n",
    "        return True\n",
    "    else:\n",
    "        return False\n",
    "\n",
    "for _ in range(int(input())):\n",
    "    w, f = map(int, input().split())\n",
    "    n = int(input())\n",
    "    li = list(map(int, input().split()))\n",
    "\n",
    "    sv = sum(li)\n",
    "\n",
    "    start = 1\n",
    "    end = 1000000000\n",
    "    result = end\n",
    "    while start <= end:\n",
    "        mid = (start + end) // 2\n",
    "\n",
    "        ww = w * mid\n",
    "        ff = f * mid\n",
    "\n",
    "        if check(ww, ff):\n",
    "            result = mid\n",
    "            end = mid - 1\n",
    "        else:\n",
    "            start = mid + 1\n",
    "\n",
    "    print(result)"
   ]
  },
  {
   "cell_type": "markdown",
   "metadata": {},
   "source": [
    "### G"
   ]
  },
  {
   "cell_type": "code",
   "execution_count": 117,
   "metadata": {},
   "outputs": [
    {
     "name": "stdout",
     "output_type": "stream",
     "text": [
      "1\n",
      "5\n",
      "2 5 1 10 6\n",
      "1\n",
      "1 7\n",
      "{1, 2, 5, 6, 10} {1, 1, 3, 4} init\n",
      "{1, 5, 6, 10} {1, 4, 4} -\n",
      "{1, 5, 6, 7, 10} {1, 1, 3, 4} +\n",
      "14\n"
     ]
    }
   ],
   "source": [
    "import io, os, sys\n",
    "# input = io.BytesIO(os.read(0, os.fstat(0).st_size)).readline\n",
    "\n",
    "# https://github.com/tatyam-prime/SortedSet/blob/main/SortedMultiset.py\n",
    "import math\n",
    "from bisect import bisect_left, bisect_right, insort\n",
    "from typing import Generic, Iterable, Iterator, TypeVar, Union, List\n",
    "T = TypeVar('T')\n",
    "\n",
    "class SortedMultiset(Generic[T]):\n",
    "    BUCKET_RATIO = 50\n",
    "    REBUILD_RATIO = 170\n",
    "\n",
    "    def _build(self, a=None) -> None:\n",
    "        \"Evenly divide `a` into buckets.\"\n",
    "        if a is None: a = list(self)\n",
    "        size = self.size = len(a)\n",
    "        bucket_size = int(math.ceil(math.sqrt(size / self.BUCKET_RATIO)))\n",
    "        self.a = [a[size * i // bucket_size : size * (i + 1) // bucket_size] for i in range(bucket_size)]\n",
    "    \n",
    "    def __init__(self, a: Iterable[T] = []) -> None:\n",
    "        \"Make a new SortedMultiset from iterable. / O(N) if sorted / O(N log N)\"\n",
    "        a = list(a)\n",
    "        if not all(a[i] <= a[i + 1] for i in range(len(a) - 1)):\n",
    "            a = sorted(a)\n",
    "        self._build(a)\n",
    "\n",
    "    def __iter__(self) -> Iterator[T]:\n",
    "        for i in self.a:\n",
    "            for j in i: yield j\n",
    "\n",
    "    def __reversed__(self) -> Iterator[T]:\n",
    "        for i in reversed(self.a):\n",
    "            for j in reversed(i): yield j\n",
    "    \n",
    "    def __len__(self) -> int:\n",
    "        return self.size\n",
    "    \n",
    "    def __repr__(self) -> str:\n",
    "        return \"SortedMultiset\" + str(self.a)\n",
    "    \n",
    "    def __str__(self) -> str:\n",
    "        s = str(list(self))\n",
    "        return \"{\" + s[1 : len(s) - 1] + \"}\"\n",
    "\n",
    "    def _find_bucket(self, x: T) -> List[T]:\n",
    "        \"Find the bucket which should contain x. self must not be empty.\"\n",
    "        for a in self.a:\n",
    "            if x <= a[-1]: return a\n",
    "        return a\n",
    "\n",
    "    def __contains__(self, x: T) -> bool:\n",
    "        if self.size == 0: return False\n",
    "        a = self._find_bucket(x)\n",
    "        i = bisect_left(a, x)\n",
    "        return i != len(a) and a[i] == x\n",
    "\n",
    "    def count(self, x: T) -> int:\n",
    "        \"Count the number of x.\"\n",
    "        return self.index_right(x) - self.index(x)\n",
    "\n",
    "    def add(self, x: T) -> None:\n",
    "        \"Add an element. / O(√N)\"\n",
    "        if self.size == 0:\n",
    "            self.a = [[x]]\n",
    "            self.size = 1\n",
    "            return\n",
    "        a = self._find_bucket(x)\n",
    "        insort(a, x)\n",
    "        self.size += 1\n",
    "        if len(a) > len(self.a) * self.REBUILD_RATIO:\n",
    "            self._build()\n",
    "\n",
    "    def discard(self, x: T) -> bool:\n",
    "        \"Remove an element and return True if removed. / O(√N)\"\n",
    "        if self.size == 0: return False\n",
    "        a = self._find_bucket(x)\n",
    "        i = bisect_left(a, x)\n",
    "        if i == len(a) or a[i] != x: return False\n",
    "        a.pop(i)\n",
    "        self.size -= 1\n",
    "        if len(a) == 0: self._build()\n",
    "        return True\n",
    "\n",
    "    def lt(self, x: T) -> Union[T, None]:\n",
    "        \"Find the largest element < x, or None if it doesn't exist.\"\n",
    "        for a in reversed(self.a):\n",
    "            if a[0] < x:\n",
    "                return a[bisect_left(a, x) - 1]\n",
    "\n",
    "    def le(self, x: T) -> Union[T, None]:\n",
    "        \"Find the largest element <= x, or None if it doesn't exist.\"\n",
    "        for a in reversed(self.a):\n",
    "            if a[0] <= x:\n",
    "                return a[bisect_right(a, x) - 1]\n",
    "\n",
    "    def gt(self, x: T) -> Union[T, None]:\n",
    "        \"Find the smallest element > x, or None if it doesn't exist.\"\n",
    "        for a in self.a:\n",
    "            if a[-1] > x:\n",
    "                return a[bisect_right(a, x)]\n",
    "\n",
    "    def ge(self, x: T) -> Union[T, None]:\n",
    "        \"Find the smallest element >= x, or None if it doesn't exist.\"\n",
    "        for a in self.a:\n",
    "            if a[-1] >= x:\n",
    "                return a[bisect_left(a, x)]\n",
    "    \n",
    "    def __getitem__(self, x: int) -> T:\n",
    "        \"Return the x-th element, or IndexError if it doesn't exist.\"\n",
    "        if x < 0: x += self.size\n",
    "        if x < 0: raise IndexError\n",
    "        for a in self.a:\n",
    "            if x < len(a): return a[x]\n",
    "            x -= len(a)\n",
    "        raise IndexError\n",
    "\n",
    "    def index(self, x: T) -> int:\n",
    "        \"Count the number of elements < x.\"\n",
    "        ans = 0\n",
    "        for a in self.a:\n",
    "            if a[-1] >= x:\n",
    "                return ans + bisect_left(a, x)\n",
    "            ans += len(a)\n",
    "        return ans\n",
    "\n",
    "    def index_right(self, x: T) -> int:\n",
    "        \"Count the number of elements <= x.\"\n",
    "        ans = 0\n",
    "        for a in self.a:\n",
    "            if a[-1] > x:\n",
    "                return ans + bisect_right(a, x)\n",
    "            ans += len(a)\n",
    "        return ans\n",
    "\n",
    "for _ in range(int(input())):\n",
    "    ms = SortedMultiset()\n",
    "    diff_ms = SortedMultiset()\n",
    "\n",
    "    n = int(input())\n",
    "    li = list(map(int, input().split()))\n",
    "    q = int(input())\n",
    "\n",
    "    if n == 1:\n",
    "        for _ in range(q):\n",
    "            i, x = map(int, input().split())\n",
    "            i -= 1\n",
    "\n",
    "            print(x)\n",
    "    else:\n",
    "        nli = sorted(li)\n",
    "        for i in range(n - 1):\n",
    "            ms.add(li[i])\n",
    "\n",
    "            diff = nli[i + 1] - nli[i]\n",
    "            diff_ms.add(diff)\n",
    "\n",
    "        ms.add(li[n - 1])\n",
    "\n",
    "        result = []\n",
    "        for _ in range(q):\n",
    "            i, x = map(int, input().split())\n",
    "            i -= 1\n",
    "\n",
    "            ori = li[i]\n",
    "            li[i] = x\n",
    "\n",
    "            print(ms, diff_ms, 'init')\n",
    "            \n",
    "            index = ms.index(ori)\n",
    "            if index == 0:\n",
    "                diff = ms[1] - ms[0]\n",
    "                diff_ms.discard(diff)\n",
    "            elif index == len(ms) - 1:\n",
    "                diff = ms[-1] - ms[-2]\n",
    "                diff_ms.discard(diff)\n",
    "            else:\n",
    "                diff1 = ms[index] - ms[index - 1]\n",
    "                diff2 = ms[index + 1] - ms[index]\n",
    "\n",
    "                diff_ms.discard(diff1)\n",
    "                diff_ms.discard(diff2)\n",
    "                \n",
    "                diff_ms.add(ms[index + 1] - ms[index - 1])\n",
    "                \n",
    "            ms.discard(ori)\n",
    "            \n",
    "            print(ms, diff_ms, '-')\n",
    "\n",
    "            index = ms.index(x)\n",
    "\n",
    "            if index != 0 and index != len(ms):\n",
    "                diff = ms[index] - ms[index - 1]\n",
    "                diff_ms.discard(diff)\n",
    "\n",
    "            ms.add(x)\n",
    "\n",
    "            index = ms.index(x)\n",
    "            if index == 0:\n",
    "                diff = ms[1] - ms[0]\n",
    "                diff_ms.add(diff)\n",
    "            elif index == len(ms) - 1:\n",
    "                diff = ms[-1] - ms[-2]\n",
    "                diff_ms.add(diff)\n",
    "            else:\n",
    "                diff1 = ms[index] - ms[index - 1]\n",
    "                diff2 = ms[index + 1] - ms[index]\n",
    "\n",
    "                diff_ms.add(diff1)\n",
    "                diff_ms.add(diff2)        \n",
    "\n",
    "            r = ms[-1] + diff_ms[-1]\n",
    "            result.append(r)\n",
    "\n",
    "            \n",
    "            print(ms, diff_ms, '+')\n",
    "        print(*result)"
   ]
  },
  {
   "cell_type": "code",
   "execution_count": 109,
   "metadata": {},
   "outputs": [
    {
     "data": {
      "text/plain": [
       "[9, 8, 1, 8, 6]"
      ]
     },
     "execution_count": 109,
     "metadata": {},
     "output_type": "execute_result"
    }
   ],
   "source": [
    "li"
   ]
  },
  {
   "cell_type": "code",
   "execution_count": 110,
   "metadata": {},
   "outputs": [
    {
     "data": {
      "text/plain": [
       "SortedMultiset[[1, 6, 8, 8, 9]]"
      ]
     },
     "execution_count": 110,
     "metadata": {},
     "output_type": "execute_result"
    }
   ],
   "source": [
    "ms"
   ]
  },
  {
   "cell_type": "code",
   "execution_count": 111,
   "metadata": {},
   "outputs": [
    {
     "data": {
      "text/plain": [
       "SortedMultiset[[0, 1, 5]]"
      ]
     },
     "execution_count": 111,
     "metadata": {},
     "output_type": "execute_result"
    }
   ],
   "source": [
    "diff_ms"
   ]
  },
  {
   "cell_type": "code",
   "execution_count": 101,
   "metadata": {},
   "outputs": [
    {
     "data": {
      "text/plain": [
       "SortedMultiset[[6, 8]]"
      ]
     },
     "execution_count": 101,
     "metadata": {},
     "output_type": "execute_result"
    }
   ],
   "source": [
    "ms"
   ]
  },
  {
   "cell_type": "code",
   "execution_count": 97,
   "metadata": {},
   "outputs": [
    {
     "data": {
      "text/plain": [
       "(SortedMultiset[[2, 2, 4]], SortedMultiset[[4, 6, 8]])"
      ]
     },
     "execution_count": 97,
     "metadata": {},
     "output_type": "execute_result"
    }
   ],
   "source": [
    "diff_ms, ms"
   ]
  },
  {
   "cell_type": "code",
   "execution_count": 84,
   "metadata": {},
   "outputs": [
    {
     "data": {
      "text/plain": [
       "(8, 4)"
      ]
     },
     "execution_count": 84,
     "metadata": {},
     "output_type": "execute_result"
    }
   ],
   "source": [
    "ms[-1], diff_ms[-1]"
   ]
  },
  {
   "cell_type": "code",
   "execution_count": null,
   "metadata": {},
   "outputs": [],
   "source": [
    "[3, 5, 10]"
   ]
  }
 ],
 "metadata": {
  "kernelspec": {
   "display_name": "Python 3",
   "language": "python",
   "name": "python3"
  },
  "language_info": {
   "codemirror_mode": {
    "name": "ipython",
    "version": 3
   },
   "file_extension": ".py",
   "mimetype": "text/x-python",
   "name": "python",
   "nbconvert_exporter": "python",
   "pygments_lexer": "ipython3",
   "version": "3.8.3"
  }
 },
 "nbformat": 4,
 "nbformat_minor": 4
}
