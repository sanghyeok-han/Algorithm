{
 "cells": [
  {
   "cell_type": "markdown",
   "metadata": {},
   "source": [
    "A"
   ]
  },
  {
   "cell_type": "code",
   "execution_count": null,
   "metadata": {},
   "outputs": [],
   "source": [
    "from collections import Counter\n",
    "\n",
    "for _ in range(int(input())):\n",
    "    s = input()\n",
    "    c = Counter(s)\n",
    "\n",
    "    c1s = []\n",
    "    c2s = []\n",
    "    for v in c:\n",
    "        if c[v] == 2:\n",
    "            c2s.append(v)\n",
    "        else:\n",
    "            c1s.append(v)\n",
    "\n",
    "    r = ''.join(c2s) * 2 + ''.join(c1s)\n",
    "\n",
    "    print(r)    "
   ]
  },
  {
   "cell_type": "markdown",
   "metadata": {},
   "source": [
    "B"
   ]
  },
  {
   "cell_type": "code",
   "execution_count": null,
   "metadata": {},
   "outputs": [],
   "source": [
    "가장 뒤쪽에서 더했을 때 10 넘는게 우선\n",
    "그런게 없으면 가장 앞쪽에서 더했을 때 앞 숫자보다 커지는게 우선"
   ]
  },
  {
   "cell_type": "code",
   "execution_count": 6,
   "metadata": {},
   "outputs": [
    {
     "name": "stdout",
     "output_type": "stream",
     "text": [
      "90\n",
      "9\n"
     ]
    }
   ],
   "source": [
    "for _ in range(int(input())):\n",
    "    s = input()\n",
    "    n = len(s)\n",
    "\n",
    "    target = -1\n",
    "    for i in range(n - 1, 0, -1):\n",
    "        temp = int(s[i]) + int(s[i - 1])\n",
    "\n",
    "        if temp >= 10:\n",
    "            target = i - 1\n",
    "            break\n",
    "\n",
    "    if target == -1:\n",
    "        for i in range(n - 1):\n",
    "            temp = int(s[i]) + int(s[i + 1])\n",
    "\n",
    "            if temp > int(s[i]):\n",
    "                target = i\n",
    "                break\n",
    "\n",
    "    if target == -1:\n",
    "        target = n - 2\n",
    "\n",
    "    ns = s[:target] + str(int(s[target]) + int(s[target + 1])) + s[target + 2:]\n",
    "    \n",
    "    print(ns)"
   ]
  },
  {
   "cell_type": "markdown",
   "metadata": {},
   "source": [
    "C"
   ]
  },
  {
   "cell_type": "code",
   "execution_count": null,
   "metadata": {},
   "outputs": [],
   "source": [
    "n\n",
    "k1, k2, k3, k4\n",
    "h1, h2, h3, h4\n",
    "\n",
    "1\n",
    "6\n",
    "4\n",
    "\n",
    "\n",
    "2\n",
    "4 5\n",
    "2 2\n",
    "\n",
    "\n",
    "3\n",
    "5 7 9\n",
    "2 1 2"
   ]
  },
  {
   "cell_type": "code",
   "execution_count": null,
   "metadata": {},
   "outputs": [],
   "source": [
    "hi <= ki\n",
    "\n"
   ]
  },
  {
   "cell_type": "code",
   "execution_count": null,
   "metadata": {},
   "outputs": [],
   "source": [
    "뒤쪽부터 확인할 필요가 있어보임\n",
    "\n",
    "앞쪽에 얼마나 최적화가 되든 뒤쪽에 엄청 큰 수 있으면 그거 맞춰야 함"
   ]
  },
  {
   "cell_type": "code",
   "execution_count": null,
   "metadata": {},
   "outputs": [],
   "source": [
    "5 7 9\n",
    "2 1 8\n",
    "\n",
    "5 6 7 8 9\n",
    "\n",
    "5 2 9\n",
    "5 1 8\n",
    "\n",
    "  현재 체력: 5\n",
    "뒤에꺼 살리려면\n",
    "  0 이상 필요 -> 끊고 여기서 새로 시작하면 됨\n",
    "  1 이상 필요  -> 5 - 1만큼 추가 필요하고 계속 이어나가면 됨\n",
    "  2 이상 필요  -> 5 - 2만큼 추가 필요하고 계속 이어나가면 됨\n",
    "  10 이상 필요 -> 계속 이어나가면 됨"
   ]
  },
  {
   "cell_type": "code",
   "execution_count": 13,
   "metadata": {},
   "outputs": [
    {
     "name": "stdout",
     "output_type": "stream",
     "text": [
      "6\n"
     ]
    }
   ],
   "source": [
    "get_sum = lambda x: x * (x + 1) // 2\n",
    "\n",
    "for _ in range(int(input())):\n",
    "    n = int(input())\n",
    "    ks = list(map(int, input().split()))\n",
    "    hs = list(map(int, input().split()))\n",
    "\n",
    "    total = 0\n",
    "    cep = -1 # cur_end_point\n",
    "    cur = cep\n",
    "    for i in range(n - 1, -1, -1):\n",
    "        if cep == -1:\n",
    "            cep = hs[i]\n",
    "            cur = cep\n",
    "            continue\n",
    "        else:\n",
    "            cur -= ks[i + 1] - ks[i]\n",
    "\n",
    "            if cur <= 0:\n",
    "                total += get_sum(cep)\n",
    "                cep = hs[i]\n",
    "                cur = cep\n",
    "            else:\n",
    "                if cur >= hs[i]:\n",
    "                    continue\n",
    "                else:\n",
    "                    cep += hs[i] - cur\n",
    "                    cur = hs[i]\n",
    "\n",
    "    if cep != -1:\n",
    "        total += get_sum(cep)\n",
    "\n",
    "    print(total)"
   ]
  },
  {
   "cell_type": "markdown",
   "metadata": {},
   "source": [
    "D"
   ]
  },
  {
   "cell_type": "code",
   "execution_count": null,
   "metadata": {},
   "outputs": [],
   "source": [
    "정렬부터 하기\n",
    "절대적인 수치는 전혀 의미 없고 같은 수가 어디부터 어디까지 연속되어 있는지만 의미가 있음\n",
    "\n",
    "이분탐색으로 같은 값 중에 가장 빠른 인덱스 찾기?"
   ]
  },
  {
   "cell_type": "code",
   "execution_count": 14,
   "metadata": {},
   "outputs": [
    {
     "name": "stdout",
     "output_type": "stream",
     "text": [
      "8\n",
      "6 3 6 3 6 3 6 6\n"
     ]
    }
   ],
   "source": [
    "n = int(input())\n",
    "li = sorted(map(int, input().split()))"
   ]
  },
  {
   "cell_type": "code",
   "execution_count": 15,
   "metadata": {},
   "outputs": [
    {
     "data": {
      "text/plain": [
       "[3, 3, 3, 6, 6, 6, 6, 6]"
      ]
     },
     "execution_count": 15,
     "metadata": {},
     "output_type": "execute_result"
    }
   ],
   "source": [
    "li"
   ]
  },
  {
   "cell_type": "code",
   "execution_count": 22,
   "metadata": {},
   "outputs": [
    {
     "data": {
      "text/plain": [
       "262144"
      ]
     },
     "execution_count": 22,
     "metadata": {},
     "output_type": "execute_result"
    }
   ],
   "source": [
    "2 ** 18"
   ]
  },
  {
   "cell_type": "code",
   "execution_count": 24,
   "metadata": {},
   "outputs": [
    {
     "data": {
      "text/plain": [
       "6859"
      ]
     },
     "execution_count": 24,
     "metadata": {},
     "output_type": "execute_result"
    }
   ],
   "source": [
    "19 * 19 * 19"
   ]
  },
  {
   "cell_type": "code",
   "execution_count": null,
   "metadata": {},
   "outputs": [],
   "source": [
    "앞에서부터 찾고 뒤에서부터 찾아보기\n",
    "먼저 앞에서부터 만들어보기"
   ]
  },
  {
   "cell_type": "code",
   "execution_count": 38,
   "metadata": {},
   "outputs": [
    {
     "name": "stdout",
     "output_type": "stream",
     "text": [
      "6\n",
      "2 2 2 1 1 1\n",
      "3\n"
     ]
    }
   ],
   "source": [
    "from math import log2\n",
    "from bisect import bisect_left, bisect\n",
    "\n",
    "for _ in range(int(input())):\n",
    "    n = int(input())\n",
    "    li = sorted(map(int, input().split()))\n",
    "\n",
    "    cri = int(log2(n)) + 1\n",
    "\n",
    "    mti = float('inf') # min total invited\n",
    "    for aa in range(cri + 1):\n",
    "        a = 2 ** aa\n",
    "\n",
    "        a_end = a - 1\n",
    "        if a_end >= n:\n",
    "            ti = a_end - n + 1 + 2 # total invited\n",
    "            mti = min(mti, ti)\n",
    "            break\n",
    "\n",
    "        for bb in range(cri + 1):\n",
    "            b = 2 ** bb\n",
    "\n",
    "            for cc in range(cri + 1):\n",
    "                ti = 0 \n",
    "                c = 2 ** cc\n",
    "\n",
    "                n_a_end = bisect(li, li[a_end]) - 1\n",
    "                if n_a_end > a_end:\n",
    "                    ti += 2 ** (int(log2(n_a_end + 1)) + 1) - (n_a_end + 1)\n",
    "\n",
    "                b_end = n_a_end + b\n",
    "                if b_end >= n:\n",
    "                    ti += b_end - n + 1 + 1\n",
    "                    mti = min(mti, ti)\n",
    "                    continue\n",
    "\n",
    "                n_b_end = bisect(li, li[b_end]) - 1\n",
    "                if n_b_end > b_end:\n",
    "                    ti += 2 ** (int(log2(n_b_end + 1)) + 1) - (n_b_end + 1)\n",
    "\n",
    "                c_end = n_b_end + c\n",
    "                if c_end >= n:\n",
    "                    ti += c_end - n + 1\n",
    "                    mti = min(mti, ti)\n",
    "                    continue\n",
    "\n",
    "                n_c_end = bisect(li, li[c_end]) - 1\n",
    "                if n_c_end > c_end:\n",
    "                    ti += 2 ** (int(log2(n_c_end + 1)) + 1) - (n_c_end + 1)\n",
    "\n",
    "                mti = min(mti, ti)\n",
    "\n",
    "    print(mti)"
   ]
  },
  {
   "cell_type": "code",
   "execution_count": 34,
   "metadata": {},
   "outputs": [
    {
     "data": {
      "text/plain": [
       "1"
      ]
     },
     "execution_count": 34,
     "metadata": {},
     "output_type": "execute_result"
    }
   ],
   "source": [
    "from bisect import bisect_left, bisect\n",
    "            \n",
    "bisect_left([1, 2, 2, 2, 3], 2)"
   ]
  },
  {
   "cell_type": "code",
   "execution_count": 33,
   "metadata": {},
   "outputs": [
    {
     "data": {
      "text/plain": [
       "4"
      ]
     },
     "execution_count": 33,
     "metadata": {},
     "output_type": "execute_result"
    }
   ],
   "source": [
    "bisect([1, 2, 2, 2, 3], 2)"
   ]
  },
  {
   "cell_type": "markdown",
   "metadata": {},
   "source": [
    "### 제출본"
   ]
  },
  {
   "cell_type": "code",
   "execution_count": null,
   "metadata": {},
   "outputs": [],
   "source": [
    "import os\n",
    "import sys\n",
    "from io import BytesIO, IOBase\n",
    "\n",
    "## PYRIVAL BOOTSTRAP\n",
    "# https://github.com/cheran-senthil/PyRival/blob/master/pyrival/misc/bootstrap.py\n",
    "# This decorator allows for recursion without actually doing recursion\n",
    "from types import GeneratorType\n",
    "## @bootstrap, yield when getting and returning value in recursive functions\n",
    "\n",
    "\n",
    "def main():\n",
    "    from math import log2\n",
    "    from bisect import bisect_left, bisect\n",
    "\n",
    "    for _ in range(int(input())):\n",
    "        n = int(input())\n",
    "        li = sorted(map(int, input().split()))\n",
    "\n",
    "        cri = int(log2(n)) + 1\n",
    "\n",
    "        mti = float('inf') # min total invited\n",
    "        for aa in range(cri + 1):\n",
    "            a = 2 ** aa\n",
    "\n",
    "            a_end = a - 1\n",
    "            if a_end >= n:\n",
    "                ti = a_end - n + 1 + 2 # total invited\n",
    "                mti = min(mti, ti)\n",
    "                break\n",
    "\n",
    "            for bb in range(cri + 1):\n",
    "                b = 2 ** bb\n",
    "\n",
    "                for cc in range(cri + 1):\n",
    "                    ti = 0 \n",
    "                    c = 2 ** cc\n",
    "\n",
    "                    n_a_end = bisect(li, li[a_end]) - 1\n",
    "                    if n_a_end > a_end:\n",
    "                        ti += 2 ** (int(log2(n_a_end + 1)) + 1) - (n_a_end + 1)\n",
    "\n",
    "                    b_end = n_a_end + b\n",
    "                    if b_end >= n:\n",
    "                        ti += b_end - n + 1 + 1\n",
    "                        mti = min(mti, ti)\n",
    "                        continue\n",
    "\n",
    "                    n_b_end = bisect(li, li[b_end]) - 1\n",
    "                    if n_b_end > b_end:\n",
    "                        ti += 2 ** (int(log2(n_b_end + 1)) + 1) - (n_b_end + 1)\n",
    "\n",
    "                    c_end = n_b_end + c\n",
    "                    if c_end >= n:\n",
    "                        ti += c_end - n + 1\n",
    "                        mti = min(mti, ti)\n",
    "                        continue\n",
    "\n",
    "                    n_c_end = bisect(li, li[c_end]) - 1\n",
    "                    if n_c_end > c_end:\n",
    "                        ti += 2 ** (int(log2(n_c_end + 1)) + 1) - (n_c_end + 1)\n",
    "\n",
    "                    mti = min(mti, ti)\n",
    "\n",
    "        print(mti)\n",
    "\n",
    "\n",
    "\n",
    "    \n",
    "# region fastio\n",
    " \n",
    "BUFSIZE = 8192\n",
    " \n",
    "\n",
    "class FastIO(IOBase):\n",
    "    newlines = 0\n",
    " \n",
    "    def __init__(self, file):\n",
    "        self._fd = file.fileno()\n",
    "        self.buffer = BytesIO()\n",
    "        self.writable = \"x\" in file.mode or \"r\" not in file.mode\n",
    "        self.write = self.buffer.write if self.writable else None\n",
    " \n",
    "    def read(self):\n",
    "        while True:\n",
    "            b = os.read(self._fd, max(os.fstat(self._fd).st_size, BUFSIZE))\n",
    "            if not b:\n",
    "                break\n",
    "            ptr = self.buffer.tell()\n",
    "            self.buffer.seek(0, 2), self.buffer.write(b), self.buffer.seek(ptr)\n",
    "        self.newlines = 0\n",
    "        return self.buffer.read()\n",
    " \n",
    "    def readline(self):\n",
    "        while self.newlines == 0:\n",
    "            b = os.read(self._fd, max(os.fstat(self._fd).st_size, BUFSIZE))\n",
    "            self.newlines = b.count(b\"\\n\") + (not b)\n",
    "            ptr = self.buffer.tell()\n",
    "            self.buffer.seek(0, 2), self.buffer.write(b), self.buffer.seek(ptr)\n",
    "        self.newlines -= 1\n",
    "        return self.buffer.readline()\n",
    " \n",
    "    def flush(self):\n",
    "        if self.writable:\n",
    "            os.write(self._fd, self.buffer.getvalue())\n",
    "            self.buffer.truncate(0), self.buffer.seek(0)\n",
    " \n",
    " \n",
    "class IOWrapper(IOBase):\n",
    "    def __init__(self, file):\n",
    "        self.buffer = FastIO(file)\n",
    "        self.flush = self.buffer.flush\n",
    "        self.writable = self.buffer.writable\n",
    "        self.write = lambda s: self.buffer.write(s.encode(\"ascii\"))\n",
    "        self.read = lambda: self.buffer.read().decode(\"ascii\")\n",
    "        self.readline = lambda: self.buffer.readline().decode(\"ascii\")\n",
    " \n",
    " \n",
    "sys.stdin, sys.stdout = IOWrapper(sys.stdin), IOWrapper(sys.stdout)\n",
    "input = lambda: sys.stdin.readline().rstrip(\"\\r\\n\")\n",
    " \n",
    "# endregion\n",
    " \n",
    "if __name__ == \"__main__\":\n",
    "    def bootstrap(f, stack=[]):\n",
    "        def wrappedfunc(*args, **kwargs):\n",
    "            if stack:\n",
    "                return f(*args, **kwargs)\n",
    "            else:\n",
    "                to = f(*args, **kwargs)\n",
    "                while True:\n",
    "                    if type(to) is GeneratorType:\n",
    "                        stack.append(to)\n",
    "                        to = next(to)\n",
    "                    else:\n",
    "                        stack.pop()\n",
    "                        if not stack:\n",
    "                            break\n",
    "                        to = stack[-1].send(to)\n",
    "                return to\n",
    "        return wrappedfunc\n",
    "    \n",
    "    ip = lambda: input()\n",
    "    iip = lambda: int(input())\n",
    "    miip = lambda: map(int, input().split())\n",
    "    liip = lambda: list(map(int, input().split()))\n",
    "    sip = lambda: input().split() # splitted input\n",
    "    lip = lambda: list(input())\n",
    "    \n",
    "    main()"
   ]
  }
 ],
 "metadata": {
  "kernelspec": {
   "display_name": "Python 3",
   "language": "python",
   "name": "python3"
  },
  "language_info": {
   "codemirror_mode": {
    "name": "ipython",
    "version": 3
   },
   "file_extension": ".py",
   "mimetype": "text/x-python",
   "name": "python",
   "nbconvert_exporter": "python",
   "pygments_lexer": "ipython3",
   "version": "3.7.4"
  }
 },
 "nbformat": 4,
 "nbformat_minor": 4
}
