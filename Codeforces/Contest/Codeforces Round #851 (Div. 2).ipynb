{
 "cells": [
  {
   "cell_type": "markdown",
   "metadata": {},
   "source": [
    "A"
   ]
  },
  {
   "cell_type": "code",
   "execution_count": 3,
   "metadata": {},
   "outputs": [
    {
     "name": "stdout",
     "output_type": "stream",
     "text": [
      "4\n",
      "1 1 1 1\n",
      "1\n"
     ]
    }
   ],
   "source": [
    "import io, os, sys\n",
    "input = io.BytesIO(os.read(0, os.fstat(0).st_size)).readline\n",
    "\n",
    "for _ in range(int(input())):\n",
    "    n = int(input())\n",
    "    li = list(map(int, input().split()))\n",
    "\n",
    "    prefix = [0] * n\n",
    "    cur = 0\n",
    "    for i in range(n):\n",
    "        if li[i] == 2:\n",
    "            cur += 1\n",
    "        prefix[i] = cur\n",
    "\n",
    "    postfix = [0] * n\n",
    "    cur = 0\n",
    "    for i in range(n - 1, -1, -1):\n",
    "        if li[i] == 2:\n",
    "            cur += 1\n",
    "        postfix[i] = cur\n",
    "\n",
    "    k = -1\n",
    "    for i in range(n - 1):\n",
    "        if prefix[i] == postfix[i + 1]:\n",
    "            k = i + 1\n",
    "            break\n",
    "\n",
    "    print(k)"
   ]
  },
  {
   "cell_type": "markdown",
   "metadata": {},
   "source": [
    "B"
   ]
  },
  {
   "cell_type": "code",
   "execution_count": null,
   "metadata": {},
   "outputs": [],
   "source": [
    "import io, os, sys\n",
    "input = io.BytesIO(os.read(0, os.fstat(0).st_size)).readline\n",
    "\n",
    "for _ in range(int(input())):\n",
    "    n = int(input())\n",
    "\n",
    "    if n % 2 == 0:\n",
    "        print(n // 2, n // 2)\n",
    "    else:\n",
    "        sn = str(n)\n",
    "        \n",
    "        rs = [[0] * len(sn), [0] * len(sn)]\n",
    "        cur = 0\n",
    "        for i in range(len(sn)):\n",
    "            for _ in range(int(sn[i])):\n",
    "                rs[cur][i] += 1\n",
    "                cur ^= 1\n",
    "                \n",
    "        ra = int(''.join(map(str, rs[0])))\n",
    "        rb = int(''.join(map(str, rs[1])))\n",
    "        \n",
    "        print(ra, rb)"
   ]
  },
  {
   "cell_type": "markdown",
   "metadata": {},
   "source": [
    "C"
   ]
  },
  {
   "cell_type": "code",
   "execution_count": 39,
   "metadata": {},
   "outputs": [
    {
     "name": "stdout",
     "output_type": "stream",
     "text": [
      "3\n",
      "YES\n",
      "1 6\n",
      "2 4\n",
      "3 5\n"
     ]
    }
   ],
   "source": [
    "import io, os, sys\n",
    "input = io.BytesIO(os.read(0, os.fstat(0).st_size)).readline\n",
    "\n",
    "for _ in range(int(input())):\n",
    "    n = int(input())\n",
    "\n",
    "    if n % 2 == 1:\n",
    "        print('YES')\n",
    "\n",
    "        r = []\n",
    "        for i in range(2 * n, n, -2):\n",
    "            r.append(i)\n",
    "        for i in range(2 * n - 1, n, -2):\n",
    "            r.append(i)\n",
    "\n",
    "        for i in range(n):\n",
    "            print(i + 1, r[i])\n",
    "    else:\n",
    "        print('NO')"
   ]
  },
  {
   "cell_type": "markdown",
   "metadata": {},
   "source": [
    "D"
   ]
  },
  {
   "cell_type": "code",
   "execution_count": 40,
   "metadata": {},
   "outputs": [
    {
     "name": "stdout",
     "output_type": "stream",
     "text": [
      "10\n",
      "5 -2 -4 -6 2 3 -6 5 3 -2\n"
     ]
    }
   ],
   "source": [
    "from collections import deque\n",
    "\n",
    "def find(a):\n",
    "    while a != pa[a]:\n",
    "        pa[a] = pa[pa[a]]\n",
    "        a = pa[a]\n",
    "        \n",
    "def union(a, b):\n",
    "    if a > b:\n",
    "        a, b = b, a\n",
    "    pa[b] = a\n",
    "\n",
    "n = int(input())\n",
    "li = list(map(int, input().split()))\n",
    "\n",
    "svs = [li[i] for i in range(n)]\n",
    "pa = list(range(n))\n",
    "pos = [False] * n\n",
    "\n",
    "queue = deque()\n"
   ]
  },
  {
   "cell_type": "code",
   "execution_count": 41,
   "metadata": {},
   "outputs": [
    {
     "data": {
      "text/plain": [
       "-2"
      ]
     },
     "execution_count": 41,
     "metadata": {},
     "output_type": "execute_result"
    }
   ],
   "source": [
    "2: 6\n",
    "    \n",
    "1 2 4 1\n",
    "1 2 6 1\n",
    "1 4 6 1\n",
    "2 4 6 1\n",
    "\n",
    "1 2 4 6 1\n",
    "\n"
   ]
  }
 ],
 "metadata": {
  "kernelspec": {
   "display_name": "Python 3",
   "language": "python",
   "name": "python3"
  },
  "language_info": {
   "codemirror_mode": {
    "name": "ipython",
    "version": 3
   },
   "file_extension": ".py",
   "mimetype": "text/x-python",
   "name": "python",
   "nbconvert_exporter": "python",
   "pygments_lexer": "ipython3",
   "version": "3.7.4"
  }
 },
 "nbformat": 4,
 "nbformat_minor": 2
}
