{
 "cells": [
  {
   "cell_type": "markdown",
   "metadata": {},
   "source": [
    "A"
   ]
  },
  {
   "cell_type": "code",
   "execution_count": null,
   "metadata": {},
   "outputs": [],
   "source": [
    "import sys\n",
    "input = lambda: sys.stdin.readline().rstrip()\n",
    "\n",
    "for _ in range(int(input())):\n",
    "    n = int(input())\n",
    "\n",
    "    print(n)"
   ]
  },
  {
   "cell_type": "markdown",
   "metadata": {},
   "source": [
    "B"
   ]
  },
  {
   "cell_type": "code",
   "execution_count": 16,
   "metadata": {},
   "outputs": [
    {
     "name": "stdout",
     "output_type": "stream",
     "text": [
      "26\n"
     ]
    }
   ],
   "source": [
    "import sys\n",
    "input = lambda: sys.stdin.readline().rstrip()\n",
    "\n",
    "for _ in range(int(input())):\n",
    "    n = int(input())\n",
    "    li = [list(map(int, input().split())) for _ in range(n)]\n",
    "\n",
    "    sum_a = 0\n",
    "    max_b = -1\n",
    "    for i in range(n):\n",
    "        a = li[i][0]\n",
    "        b = li[i][1]\n",
    "\n",
    "        if a > b:\n",
    "            li[i][0], li[i][1] = li[i][1], li[i][0]\n",
    "\n",
    "        sum_a += li[i][0]\n",
    "        max_b = max(max_b, li[i][1])\n",
    "\n",
    "    r = sum_a * 2 + max_b * 2\n",
    "\n",
    "    print(r)"
   ]
  },
  {
   "cell_type": "markdown",
   "metadata": {},
   "source": [
    "C"
   ]
  },
  {
   "cell_type": "code",
   "execution_count": null,
   "metadata": {},
   "outputs": [],
   "source": [
    "8 17 19 45\n",
    "\n",
    "8 45   17 19"
   ]
  },
  {
   "cell_type": "code",
   "execution_count": 17,
   "metadata": {},
   "outputs": [
    {
     "data": {
      "text/plain": [
       "63"
      ]
     },
     "execution_count": 17,
     "metadata": {},
     "output_type": "execute_result"
    }
   ],
   "source": [
    "1 2 3 3 5\n",
    "\n",
    "1 5 3 3 2b"
   ]
  },
  {
   "cell_type": "code",
   "execution_count": 20,
   "metadata": {},
   "outputs": [
    {
     "name": "stdout",
     "output_type": "stream",
     "text": [
      "4\n",
      "17 8 19 45\n",
      "63\n"
     ]
    }
   ],
   "source": [
    "import sys\n",
    "input = lambda: sys.stdin.readline().rstrip()\n",
    "\n",
    "for _ in range(int(input())):\n",
    "    n = int(input())\n",
    "    li = sorted(map(int, input().split()))\n",
    "\n",
    "    t1 = li[n - 1] - li[0]\n",
    "    t2 = li[n - 1] - li[n - 2]\n",
    "    r1 = t1 + t2\n",
    "    \n",
    "    t1 = li[n - 1] - li[0]\n",
    "    t2 = li[1] - li[0]\n",
    "    r2 = t1 + t2\n",
    "    \n",
    "    r = max(r1, r2)\n",
    "    \n",
    "    print(r)"
   ]
  },
  {
   "cell_type": "code",
   "execution_count": 37,
   "metadata": {},
   "outputs": [
    {
     "name": "stdout",
     "output_type": "stream",
     "text": [
      "3\n",
      "1 2 3\n",
      "3\n"
     ]
    }
   ],
   "source": [
    "import sys\n",
    "input = lambda: sys.stdin.readline().rstrip()\n",
    "\n",
    "for _ in range(int(input())):\n",
    "    n = int(input())\n",
    "    li = sorted(map(int, input().split()))\n",
    "\n",
    "    t1 = li[n - 1] - li[0]\n",
    "    t2 = li[n - 1] - li[n - 2]\n",
    "    max_r1 = t1 + t2\n",
    "\n",
    "    cur = max_r1\n",
    "    for i in range(n - 2, 0, -1):\n",
    "        diff1 = li[i + 1] - li[i]\n",
    "        diff2 = li[i] - li[i - 1]\n",
    "\n",
    "        cur -= diff1\n",
    "        cur += diff2 - diff1\n",
    "\n",
    "        max_r1 = max(max_r1, cur)\n",
    "\n",
    "    t1 = li[n - 1] - li[0]\n",
    "    t2 = li[1] - li[0]\n",
    "    max_r2 = t1 + t2\n",
    "\n",
    "    cur = max_r2\n",
    "    for i in range(1, n - 1):\n",
    "        diff1 = li[i] - li[i - 1]\n",
    "        diff2 = li[i + 1] - li[i]\n",
    "\n",
    "        cur -= diff1\n",
    "        cur += diff2 - diff1\n",
    "\n",
    "        max_r2 = max(max_r2, cur)\n",
    "\n",
    "\n",
    "    r = max(max_r1, max_r2)\n",
    "\n",
    "    print(r)"
   ]
  },
  {
   "cell_type": "markdown",
   "metadata": {},
   "source": [
    "D"
   ]
  },
  {
   "cell_type": "code",
   "execution_count": 43,
   "metadata": {},
   "outputs": [
    {
     "name": "stdout",
     "output_type": "stream",
     "text": [
      "3 4 10\n",
      "10 4 9 3 5 6 8 2 7 1\n",
      "YA\n"
     ]
    }
   ],
   "source": [
    "# WA\n",
    "from heapq import heappush, heappop\n",
    "import sys\n",
    "# input = lambda: sys.stdin.readline().rstrip()\n",
    "\n",
    "for _ in range(int(input())):\n",
    "    n, m, k = map(int, input().split())\n",
    "    li = list(map(int, input().split()))\n",
    "\n",
    "    free = n + m - 1\n",
    "\n",
    "    heap = []\n",
    "    to_find = k\n",
    "    ip = True\n",
    "    for v in li:\n",
    "        heappush(heap, -v)\n",
    "\n",
    "        while heap:\n",
    "            if -heap[0] == to_find:\n",
    "                to_find -= 1\n",
    "                heappop(heap)\n",
    "            else:\n",
    "                break\n",
    "\n",
    "        if len(heap) > free:\n",
    "            ip = False\n",
    "            break\n",
    "\n",
    "    if ip:\n",
    "        print('YA')\n",
    "    else:\n",
    "        print('TIDAK')"
   ]
  },
  {
   "cell_type": "code",
   "execution_count": 46,
   "metadata": {},
   "outputs": [
    {
     "name": "stdout",
     "output_type": "stream",
     "text": [
      "3 3 6\n",
      "3 6 4 1 2 5\n",
      "YA\n"
     ]
    }
   ],
   "source": [
    "from heapq import heappush, heappop\n",
    "import sys\n",
    "input = lambda: sys.stdin.readline().rstrip()\n",
    "\n",
    "for _ in range(int(input())):\n",
    "    n, m, k = map(int, input().split())\n",
    "    li = list(map(int, input().split()))\n",
    "\n",
    "    cri = n * m - 2\n",
    "\n",
    "    heap = []\n",
    "    to_find = k\n",
    "    ip = True\n",
    "    for v in li:\n",
    "        heappush(heap, -v)\n",
    "\n",
    "        if len(heap) >= cri:\n",
    "            ip = False\n",
    "            break\n",
    "\n",
    "        while heap:\n",
    "            if -heap[0] == to_find:\n",
    "                to_find -= 1\n",
    "                heappop(heap)\n",
    "            else:\n",
    "                break\n",
    "\n",
    "    if ip:\n",
    "        print('YA')\n",
    "    else:\n",
    "        print('TIDAK')"
   ]
  },
  {
   "cell_type": "markdown",
   "metadata": {},
   "source": [
    "E"
   ]
  },
  {
   "cell_type": "code",
   "execution_count": 56,
   "metadata": {},
   "outputs": [
    {
     "name": "stdout",
     "output_type": "stream",
     "text": [
      "2\n",
      "1\n",
      "2\n"
     ]
    }
   ],
   "source": [
    "import sys\n",
    "input = lambda: sys.stdin.readline().rstrip()\n",
    "\n",
    "## PYRIVAL BOOTSTRAP\n",
    "# https://github.com/cheran-senthil/PyRival/blob/master/pyrival/misc/bootstrap.py\n",
    "# This decorator allows for recursion without actually doing recursion\n",
    "## @bootstrap, yield when getting and returning value in recursive functions, end of functions\n",
    "from types import GeneratorType\n",
    "\n",
    "def bootstrap(f, stack=[]):\n",
    "    def wrappedfunc(*args, **kwargs):\n",
    "        if stack:\n",
    "            return f(*args, **kwargs)\n",
    "        else:\n",
    "            to = f(*args, **kwargs)\n",
    "            while True:\n",
    "                if type(to) is GeneratorType:\n",
    "                    stack.append(to)\n",
    "                    to = next(to)\n",
    "                else:\n",
    "                    stack.pop()\n",
    "                    if not stack:\n",
    "                        break\n",
    "                    to = stack[-1].send(to)\n",
    "            return to\n",
    "    return wrappedfunc\n",
    "\n",
    "@bootstrap\n",
    "def dfs(value):\n",
    "    if not nli[value]:\n",
    "        dp[value] = [1, 1]\n",
    "        yield\n",
    "    \n",
    "    over_1_sum = 0\n",
    "    max_1 = -1\n",
    "    for v in nli[value]:\n",
    "        yield dfs(v)\n",
    "        \n",
    "        over_1_sum += max(dp[v][0], dp[v][1])\n",
    "        max_1 = max(max_1, dp[v][1])\n",
    "        \n",
    "    max_1 += 1\n",
    "    dp[value] = [over_1_sum, max_1]\n",
    "    \n",
    "    yield\n",
    "    \n",
    "\n",
    "n = int(input())\n",
    "li = list(map(int, input().split()))\n",
    "\n",
    "root = 1\n",
    "nli = [[] for _ in range(n + 1)]\n",
    "for i in range(n - 1):\n",
    "    c = i + 2\n",
    "    p = li[i]\n",
    "    \n",
    "    nli[p].append(c)\n",
    "    \n",
    "dp = [[0] * 2 for _ in range(n + 1)] # [get over 2, get just 1]\n",
    "dfs(root)\n",
    "\n",
    "r = max(dp[1])\n",
    "\n",
    "print(r)"
   ]
  },
  {
   "cell_type": "code",
   "execution_count": null,
   "metadata": {},
   "outputs": [],
   "source": []
  }
 ],
 "metadata": {
  "kernelspec": {
   "display_name": "Python 3",
   "language": "python",
   "name": "python3"
  },
  "language_info": {
   "codemirror_mode": {
    "name": "ipython",
    "version": 3
   },
   "file_extension": ".py",
   "mimetype": "text/x-python",
   "name": "python",
   "nbconvert_exporter": "python",
   "pygments_lexer": "ipython3",
   "version": "3.7.4"
  }
 },
 "nbformat": 4,
 "nbformat_minor": 2
}
