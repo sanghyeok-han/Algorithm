{
 "cells": [
  {
   "cell_type": "markdown",
   "metadata": {},
   "source": [
    "A"
   ]
  },
  {
   "cell_type": "code",
   "execution_count": null,
   "metadata": {},
   "outputs": [],
   "source": [
    "n = int(input())"
   ]
  },
  {
   "cell_type": "code",
   "execution_count": null,
   "metadata": {},
   "outputs": [],
   "source": [
    "1 2 3\n",
    "1 1 1 1"
   ]
  },
  {
   "cell_type": "code",
   "execution_count": null,
   "metadata": {},
   "outputs": [],
   "source": [
    "li = [1, 2, 3, 4, 5, 6]\n"
   ]
  },
  {
   "cell_type": "code",
   "execution_count": null,
   "metadata": {},
   "outputs": [],
   "source": [
    "2 2 9 3 6\n",
    "\n"
   ]
  },
  {
   "cell_type": "code",
   "execution_count": null,
   "metadata": {},
   "outputs": [],
   "source": [
    "3 1\n",
    "\n",
    "2 5"
   ]
  },
  {
   "cell_type": "code",
   "execution_count": 1,
   "metadata": {},
   "outputs": [
    {
     "name": "stdout",
     "output_type": "stream",
     "text": [
      "4\n",
      "1 1 1 1\n",
      "YES\n"
     ]
    }
   ],
   "source": [
    "import sys\n",
    "input = lambda: sys.stdin.readline().rstrip()\n",
    "\n",
    "for _ in range(int(input())):\n",
    "    n = int(input())\n",
    "    li = list(map(int, input().split()))\n",
    "\n",
    "    ip = True\n",
    "    for v in li:\n",
    "        if v % li[0] != 0:\n",
    "            ip = False\n",
    "            break\n",
    "\n",
    "    if ip:\n",
    "        print('YES')\n",
    "    else:\n",
    "        print('NO')"
   ]
  },
  {
   "cell_type": "markdown",
   "metadata": {},
   "source": [
    "B"
   ]
  },
  {
   "cell_type": "code",
   "execution_count": null,
   "metadata": {},
   "outputs": [],
   "source": [
    "gcd의 결과가 해당 값이 되게 만들어야 함"
   ]
  },
  {
   "cell_type": "code",
   "execution_count": 22,
   "metadata": {},
   "outputs": [
    {
     "name": "stdout",
     "output_type": "stream",
     "text": [
      "1 1000 1000\n",
      "0 1000 0\n",
      "1000\n"
     ]
    }
   ],
   "source": [
    "import sys\n",
    "input = lambda: sys.stdin.readline().rstrip()\n",
    "\n",
    "for _ in range(int(input())):\n",
    "    n, l, r = map(int, input().split())\n",
    "\n",
    "    result = [0] * n\n",
    "    ip = True\n",
    "    for i in range(n):\n",
    "        num = i + 1\n",
    "        remained = l % num\n",
    "        to_fill = 0\n",
    "        if remained:\n",
    "            to_fill = num - remained\n",
    "\n",
    "        num = l + to_fill\n",
    "\n",
    "        if num > r:\n",
    "            ip = False\n",
    "            break\n",
    "        result[i] = num\n",
    "\n",
    "    if ip:\n",
    "        print('YES')\n",
    "        print(*result)\n",
    "    else:\n",
    "        print('NO')"
   ]
  },
  {
   "cell_type": "markdown",
   "metadata": {},
   "source": [
    "C"
   ]
  },
  {
   "cell_type": "code",
   "execution_count": null,
   "metadata": {},
   "outputs": [],
   "source": [
    "먹고 까이거나\n",
    "먹고 그냥 넘어가거나\n",
    "안먹고 그냥 넘어가거나\n",
    "\n"
   ]
  },
  {
   "cell_type": "code",
   "execution_count": 26,
   "metadata": {},
   "outputs": [
    {
     "name": "stdout",
     "output_type": "stream",
     "text": [
      "5 2\n",
      "5 1 2 4 3\n",
      "3\n"
     ]
    }
   ],
   "source": [
    "from collections import defaultdict as dd\n",
    "from random import randint\n",
    "\n",
    "rd = randint(1, int(1e9))\n",
    "\n",
    "n, q = map(int, input().split())\n",
    "li = list(map(int, input().split()))\n",
    "\n",
    "d = dd(int)\n",
    "for v in li:\n",
    "    w = v ^ rd\n",
    "    d[w] += 1\n",
    "    \n",
    "r = ['0'] * n\n",
    "for i in range(n):    \n",
    "    w = li[i] ^ rd\n",
    "    d[w] -= 1\n",
    "\n",
    "    if li[i] <= q:\n",
    "        r[i] = '1'\n",
    "    elif q == 0:\n",
    "        break\n",
    "    else:\n",
    "        damaged_c = d[q ^ rd]\n",
    "        \n",
    "        if damaged_c > q - 1:\n",
    "            continue\n",
    "        else:\n",
    "            q -= 1\n",
    "            r[i] = '1'\n",
    "        "
   ]
  },
  {
   "cell_type": "code",
   "execution_count": 27,
   "metadata": {},
   "outputs": [
    {
     "data": {
      "text/plain": [
       "['1', '1', '1', '0', '0']"
      ]
     },
     "execution_count": 27,
     "metadata": {},
     "output_type": "execute_result"
    }
   ],
   "source": [
    "r"
   ]
  },
  {
   "cell_type": "code",
   "execution_count": 24,
   "metadata": {},
   "outputs": [
    {
     "name": "stdout",
     "output_type": "stream",
     "text": [
      "5 2\n",
      "5 1 2 4 3\n",
      "[4, 3, 0]\n"
     ]
    }
   ],
   "source": [
    "n, q = map(int, input().split())\n",
    "li = list(map(int, input().split()))\n",
    "\n",
    "overed = []\n",
    "for i in range(n - 1, -1, -1):\n",
    "    if li[i] > q:\n",
    "        overed.append(i)\n",
    "        \n",
    "print(overed)"
   ]
  },
  {
   "cell_type": "code",
   "execution_count": null,
   "metadata": {},
   "outputs": [],
   "source": [
    "mid = 2\n",
    "\n",
    "to_use = [False] * n\n",
    "for i in range(mid):\n",
    "    "
   ]
  },
  {
   "cell_type": "code",
   "execution_count": null,
   "metadata": {},
   "outputs": [],
   "source": [
    "def get_value(mid):\n",
    "    \n",
    "\n",
    "n, q = map(int, input().split())\n",
    "li = list(map(int, input().split()))\n",
    "\n",
    "start = 0\n",
    "end = min(n, q)\n",
    "result = 0\n",
    "while start <= end:\n",
    "    mid1 = (start * 2 + end) // 3\n",
    "    mid2 = (start + end * 2) // 3\n",
    "    \n",
    "    t1 = get_value(mid1)\n",
    "    t2 = get_value(mid2)\n",
    "    \n",
    "    result = max(result, t1, t2)\n",
    "    \n",
    "    if end - start <= 5:\n",
    "        for mid in range(start, end + 1):\n",
    "            result = max(result, get_value(mid))\n",
    "        break\n",
    "    \n",
    "    if t1 <= t2:\n",
    "        start = mid1\n",
    "    else:\n",
    "        end = mid2\n",
    "        \n",
    "print(result)"
   ]
  },
  {
   "cell_type": "code",
   "execution_count": null,
   "metadata": {},
   "outputs": [],
   "source": [
    "? 3\n",
    "\n",
    "초반 3 다 먹을 수 있고 3 남음\n",
    "\n",
    "2로 만들면 뒤에서 \n",
    "\n",
    "3 3 3 4 4 2 2 2 4\n",
    "                          "
   ]
  },
  {
   "cell_type": "code",
   "execution_count": null,
   "metadata": {},
   "outputs": [],
   "source": [
    "3 3 3 4 4 2 2 2 4"
   ]
  },
  {
   "cell_type": "code",
   "execution_count": null,
   "metadata": {},
   "outputs": [],
   "source": [
    "import sys\n",
    "input = lambda: sys.stdin.readline().rstrip()\n",
    "\n",
    "for _ in range(int(input())):\n",
    "    n, q = map(int, input().split())\n",
    "    li = list(map(int, input().split()))\n",
    "\n",
    "    cur = 0\n",
    "    r = ['0'] * n\n",
    "    for i in range(n - 1, -1, -1):\n",
    "        if li[i] <= cur:\n",
    "            r[i] = '1'\n",
    "        else:\n",
    "            if cur < q:\n",
    "                cur += 1\n",
    "                r[i] = '1'\n",
    "\n",
    "    print(''.join(r))"
   ]
  }
 ],
 "metadata": {
  "kernelspec": {
   "display_name": "Python 3",
   "language": "python",
   "name": "python3"
  },
  "language_info": {
   "codemirror_mode": {
    "name": "ipython",
    "version": 3
   },
   "file_extension": ".py",
   "mimetype": "text/x-python",
   "name": "python",
   "nbconvert_exporter": "python",
   "pygments_lexer": "ipython3",
   "version": "3.7.4"
  }
 },
 "nbformat": 4,
 "nbformat_minor": 2
}
