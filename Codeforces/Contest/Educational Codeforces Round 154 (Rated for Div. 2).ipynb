{
 "cells": [
  {
   "cell_type": "markdown",
   "metadata": {},
   "source": [
    "### A"
   ]
  },
  {
   "cell_type": "code",
   "execution_count": null,
   "metadata": {},
   "outputs": [],
   "source": [
    "import sys\n",
    "input = lambda: sys.stdin.readline().rstrip()\n",
    "\n",
    "for _ in range(int(input())):\n",
    "    s = input()\n",
    "\n",
    "    loc1 = s.find('1')\n",
    "    loc3 = s.find('3')\n",
    "\n",
    "    if loc1 < loc3:\n",
    "        print(13)\n",
    "    else:\n",
    "        print(31)"
   ]
  },
  {
   "cell_type": "markdown",
   "metadata": {},
   "source": [
    "### B"
   ]
  },
  {
   "cell_type": "code",
   "execution_count": 2,
   "metadata": {},
   "outputs": [
    {
     "name": "stdout",
     "output_type": "stream",
     "text": [
      "011\n",
      "001\n",
      "NO\n"
     ]
    }
   ],
   "source": [
    "import sys\n",
    "input = lambda: sys.stdin.readline().rstrip()\n",
    "\n",
    "for _ in range(int(input())):\n",
    "    a = input()\n",
    "    b = input()\n",
    "\n",
    "    ip = False\n",
    "    for i in range(len(a) - 1):\n",
    "        if a[i] == b[i] == '0' and a[i + 1] == b[i + 1] == '1':\n",
    "            ip = True\n",
    "            break       \n",
    "\n",
    "    if ip:\n",
    "        print('YES')\n",
    "    else:\n",
    "        print('NO')"
   ]
  },
  {
   "cell_type": "markdown",
   "metadata": {},
   "source": [
    "### C"
   ]
  },
  {
   "cell_type": "code",
   "execution_count": 18,
   "metadata": {},
   "outputs": [
    {
     "name": "stdout",
     "output_type": "stream",
     "text": [
      "++++++0-1\n",
      "YES\n"
     ]
    }
   ],
   "source": [
    "import sys\n",
    "input = lambda: sys.stdin.readline().rstrip()\n",
    "\n",
    "for _ in range(int(input())):\n",
    "    s = input()\n",
    "    n = len(s)\n",
    "\n",
    "    ip = True\n",
    "    last_sorted = -1\n",
    "    unsorted_start = -1\n",
    "\n",
    "    cur_len = 0\n",
    "    for i in range(n):\n",
    "        v = s[i]\n",
    "\n",
    "        if v == '+':\n",
    "            cur_len += 1\n",
    "        elif v == '-':\n",
    "            cur_len -= 1\n",
    "            if last_sorted > cur_len:\n",
    "                last_sorted -= 1\n",
    "            if unsorted_start > cur_len:\n",
    "                unsorted_start = -1\n",
    "        elif v == '1':\n",
    "            if cur_len <= 1:\n",
    "                last_sorted = cur_len\n",
    "                continue\n",
    "            if unsorted_start != -1:\n",
    "                ip = False\n",
    "                break\n",
    "            last_sorted = cur_len\n",
    "        elif v == '0':\n",
    "            if cur_len <= 1:\n",
    "                ip = False\n",
    "                break\n",
    "            if last_sorted == cur_len:\n",
    "                ip = False\n",
    "                break\n",
    "            if unsorted_start == -1:\n",
    "                unsorted_start = cur_len\n",
    "\n",
    "    if ip:\n",
    "        print('YES')\n",
    "    else:\n",
    "        print('NO')"
   ]
  },
  {
   "cell_type": "markdown",
   "metadata": {},
   "source": [
    "### D"
   ]
  },
  {
   "cell_type": "code",
   "execution_count": 116,
   "metadata": {},
   "outputs": [
    {
     "name": "stdout",
     "output_type": "stream",
     "text": [
      "1\n",
      "5\n",
      "5 4 3 2 2\n",
      "1\n"
     ]
    }
   ],
   "source": [
    "import sys\n",
    "# input = lambda: sys.stdin.readline().rstrip()\n",
    "\n",
    "for _ in range(int(input())):\n",
    "    n = int(input())\n",
    "    li = list(map(int, input().split()))\n",
    "\n",
    "    if n == 1:\n",
    "        print(0)\n",
    "    else:\n",
    "        diff = []\n",
    "        for i in range(n - 1):\n",
    "            if li[i] < li[i + 1]:\n",
    "                diff.append('+')\n",
    "            elif li[i] == li[i + 1]:\n",
    "                diff.append('=')\n",
    "            else:\n",
    "                diff.append('-')\n",
    "\n",
    "        from_left = [0] * (n - 1)\n",
    "        cur = 1\n",
    "        for i in range(n - 1):\n",
    "            if diff[i] == '+' or diff[i] == '=':\n",
    "                cur += 1\n",
    "            from_left[i] = cur\n",
    "\n",
    "        from_right = [0] * (n - 1)\n",
    "        cur = 0\n",
    "        for i in range(n - 2, -1, -1):\n",
    "            if diff[i] == '-' or diff[i] == '=':\n",
    "                cur += 1\n",
    "            from_right[i] = cur\n",
    "\n",
    "        r = min(from_left[-1], from_right[0])\n",
    "        if len(from_left) >= 2:\n",
    "            r = min(r, from_left[-2])\n",
    "        for i in range(n - 3):\n",
    "            r = min(r, from_left[i] + from_right[i + 2])\n",
    "\n",
    "        print(r)"
   ]
  }
 ],
 "metadata": {
  "kernelspec": {
   "display_name": "Python 3",
   "language": "python",
   "name": "python3"
  },
  "language_info": {
   "codemirror_mode": {
    "name": "ipython",
    "version": 3
   },
   "file_extension": ".py",
   "mimetype": "text/x-python",
   "name": "python",
   "nbconvert_exporter": "python",
   "pygments_lexer": "ipython3",
   "version": "3.8.3"
  }
 },
 "nbformat": 4,
 "nbformat_minor": 4
}
