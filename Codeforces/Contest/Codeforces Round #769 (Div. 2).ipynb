{
 "cells": [
  {
   "cell_type": "code",
   "execution_count": null,
   "metadata": {},
   "outputs": [],
   "source": [
    "import sys\n",
    "# input = lambda: sys.stdin.readline().rstrip()"
   ]
  },
  {
   "cell_type": "markdown",
   "metadata": {},
   "source": [
    "A"
   ]
  },
  {
   "cell_type": "code",
   "execution_count": 6,
   "metadata": {},
   "outputs": [
    {
     "name": "stdout",
     "output_type": "stream",
     "text": [
      "4\n",
      "1\n",
      "1\n",
      "YES\n",
      "2\n",
      "10\n",
      "YES\n",
      "2\n",
      "01\n",
      "YES\n",
      "4\n",
      "1010\n",
      "NO\n"
     ]
    }
   ],
   "source": [
    "import sys\n",
    "# input = lambda: sys.stdin.readline().rstrip()\n",
    "\n",
    "for _ in range(int(input())):\n",
    "    n = int(input())\n",
    "    s = input()\n",
    "\n",
    "    if s in ['0', '1', '01', '10']:\n",
    "        print('YES')\n",
    "    else:\n",
    "        print('NO')"
   ]
  },
  {
   "cell_type": "markdown",
   "metadata": {},
   "source": [
    "B"
   ]
  },
  {
   "cell_type": "code",
   "execution_count": 62,
   "metadata": {},
   "outputs": [
    {
     "name": "stdout",
     "output_type": "stream",
     "text": [
      "3\n",
      "1 0 2\n"
     ]
    }
   ],
   "source": [
    "import sys\n",
    "input = lambda: sys.stdin.readline().rstrip()\n",
    "\n",
    "for _ in range(int(input())):\n",
    "    n = int(input())\n",
    "\n",
    "    cur = 1\n",
    "    while True:\n",
    "        if cur > n - 1:\n",
    "            cur //= 2\n",
    "            break\n",
    "        cur *= 2\n",
    "\n",
    "    li = list(range(1, cur)) + [0] + list(range(cur, n))\n",
    "\n",
    "    print(*li)"
   ]
  },
  {
   "cell_type": "code",
   "execution_count": 33,
   "metadata": {},
   "outputs": [
    {
     "name": "stdout",
     "output_type": "stream",
     "text": [
      "1 2 0b1 0b10 3\n",
      "2 3 0b10 0b11 1\n",
      "3 0 0b11 0b0 3\n",
      "0 4 0b0 0b100 4\n",
      "4 5 0b100 0b101 1\n",
      "5 6 0b101 0b110 3\n"
     ]
    }
   ],
   "source": [
    "n = 7\n",
    "s = '1 2 3 0 4 5 6'\n",
    "li = list(map(int, s.split()))\n",
    "\n",
    "mv = -float('inf') # max value\n",
    "for i in range(n - 1):\n",
    "    print(li[i], li[i + 1], bin(li[i]), bin(li[i + 1]), li[i] ^ li[i + 1])"
   ]
  },
  {
   "cell_type": "markdown",
   "metadata": {},
   "source": [
    "### C"
   ]
  },
  {
   "cell_type": "code",
   "execution_count": 152,
   "metadata": {},
   "outputs": [],
   "source": [
    "cur = 1\n",
    "ss = []\n",
    "while cur < int(1e7):\n",
    "    ss.append(cur)\n",
    "    cur *= 2"
   ]
  },
  {
   "cell_type": "code",
   "execution_count": 221,
   "metadata": {},
   "outputs": [],
   "source": [
    "a, b = 56678, 164422"
   ]
  },
  {
   "cell_type": "code",
   "execution_count": 220,
   "metadata": {},
   "outputs": [
    {
     "name": "stdout",
     "output_type": "stream",
     "text": [
      "2\n"
     ]
    }
   ],
   "source": [
    "if a >= b:\n",
    "    r = a - b\n",
    "    \n",
    "    print(r)\n",
    "else:\n",
    "    mc = b - a # min count\n",
    "    \n",
    "    base_c = 0\n",
    "    while a <= b:\n",
    "        c = base_c\n",
    "        \n",
    "        na = a | b\n",
    "        \n",
    "        c += na - b\n",
    "        mc = min(mc, c)\n",
    "        \n",
    "        a += 1\n",
    "        base_c += 1\n",
    "        \n",
    "    cur = float('inf')\n",
    "    base_c = 0\n",
    "    while True:\n",
    "        c = base_c\n",
    "        \n",
    "        nb += base_c\n",
    "        \n",
    "        na = a | nb\n",
    "        \n",
    "        c += abs(nb - na) + 1\n",
    "        \n",
    "        if c < cur:\n",
    "            cur = c\n",
    "        else:\n",
    "            break\n",
    "            \n",
    "        mc = min(mc, c)\n",
    "        base_c += 1\n",
    "        \n",
    "    print(mc)"
   ]
  },
  {
   "cell_type": "markdown",
   "metadata": {},
   "source": [
    "E1"
   ]
  },
  {
   "cell_type": "code",
   "execution_count": 166,
   "metadata": {},
   "outputs": [
    {
     "name": "stdout",
     "output_type": "stream",
     "text": [
      "4\n",
      "1 2\n",
      "2 3\n",
      "1 4\n"
     ]
    },
    {
     "data": {
      "text/plain": [
       "[[], [(2, 1), (4, 1)], [(1, 1), (3, 1)], [(2, 1)], [(1, 1)]]"
      ]
     },
     "execution_count": 166,
     "metadata": {},
     "output_type": "execute_result"
    }
   ],
   "source": [
    "n = int(input())\n",
    "li = [[] for _ in range(n + 1)]\n",
    "for _ in range(n - 1):\n",
    "    a, b = map(int, input().split())\n",
    "    \n",
    "    li[a].append((b, 1))\n",
    "    li[b].append((a, 1))\n",
    "    \n",
    "li"
   ]
  },
  {
   "cell_type": "code",
   "execution_count": 176,
   "metadata": {},
   "outputs": [
    {
     "name": "stdout",
     "output_type": "stream",
     "text": [
      "7\n",
      "1 2\n",
      "1 3\n",
      "3 4\n",
      "3 5\n",
      "3 6\n",
      "5 7\n",
      "2 2 3 3 3 3 3\n"
     ]
    }
   ],
   "source": [
    "from heapq import heappush, heappop\n",
    "import sys\n",
    "# input = lambda: sys.stdin.readline().rstrip()\n",
    "\n",
    "def dij():\n",
    "    heap = []\n",
    "    heappush(heap, (0, 1))\n",
    "\n",
    "    dists = [float('inf')] * (n + 1)\n",
    "    dists[1] = 0\n",
    "    while heap:\n",
    "        dist, value = heappop(heap)\n",
    "\n",
    "        if dist > dists[value]:\n",
    "            continue\n",
    "\n",
    "        for v, d in li[value]:\n",
    "            ndist = dist + d\n",
    "            if ndist < dists[v]:\n",
    "                dists[v] = ndist\n",
    "                heappush(heap, (ndist, v))\n",
    "    return dists\n",
    "    \n",
    "for _ in range(int(input())):\n",
    "    n = int(input())\n",
    "    li = [[] for _ in range(n + 1)]\n",
    "    for _ in range(n - 1):\n",
    "        a, b = map(int, input().split())\n",
    "\n",
    "        li[a].append((b, 1))\n",
    "        li[b].append((a, 1))\n",
    "\n",
    "    dists = dij()\n",
    "\n",
    "    mv = -1\n",
    "    mv_index = -1\n",
    "    for i in range(1, n + 1):\n",
    "        if dists[i] > mv:\n",
    "            mv = dists[i]\n",
    "            mv_index = i\n",
    "\n",
    "    r = []\n",
    "    target = mv_index\n",
    "    for to_add in range(1, n + 1):\n",
    "        li[1].append((target, to_add))\n",
    "        li[target].append((1, to_add))\n",
    "\n",
    "        dists = dij()\n",
    "        mv = -1\n",
    "        for i in range(1, n + 1):\n",
    "            if dists[i] > mv:\n",
    "                mv = dists[i]\n",
    "        r.append(mv)\n",
    "\n",
    "        li[1].pop()\n",
    "        li[target].pop()\n",
    "\n",
    "    print(*r)"
   ]
  },
  {
   "cell_type": "code",
   "execution_count": 173,
   "metadata": {},
   "outputs": [
    {
     "data": {
      "text/plain": [
       "[1, 2, 2, 2]"
      ]
     },
     "execution_count": 173,
     "metadata": {},
     "output_type": "execute_result"
    }
   ],
   "source": [
    "r"
   ]
  },
  {
   "cell_type": "code",
   "execution_count": 171,
   "metadata": {},
   "outputs": [
    {
     "data": {
      "text/plain": [
       "3"
      ]
     },
     "execution_count": 171,
     "metadata": {},
     "output_type": "execute_result"
    }
   ],
   "source": [
    "mv_index"
   ]
  },
  {
   "cell_type": "code",
   "execution_count": null,
   "metadata": {},
   "outputs": [],
   "source": []
  },
  {
   "cell_type": "code",
   "execution_count": null,
   "metadata": {},
   "outputs": [],
   "source": []
  },
  {
   "cell_type": "code",
   "execution_count": null,
   "metadata": {},
   "outputs": [],
   "source": []
  },
  {
   "cell_type": "code",
   "execution_count": null,
   "metadata": {},
   "outputs": [],
   "source": []
  },
  {
   "cell_type": "code",
   "execution_count": null,
   "metadata": {},
   "outputs": [],
   "source": []
  },
  {
   "cell_type": "code",
   "execution_count": null,
   "metadata": {},
   "outputs": [],
   "source": [
    "# template for bootstrap\n",
    "\n",
    "import os\n",
    "import sys\n",
    "from io import BytesIO, IOBase\n",
    "\n",
    "## PYRIVAL BOOTSTRAP\n",
    "# https://github.com/cheran-senthil/PyRival/blob/master/pyrival/misc/bootstrap.py\n",
    "# This decorator allows for recursion without actually doing recursion\n",
    "from types import GeneratorType\n",
    "## @bootstrap, yield when getting and returning value in recursive functions\n",
    "\n",
    "\n",
    "def main():\n",
    "    from collections import deque\n",
    "    \n",
    "    for _ in range(int(input())):\n",
    "        n = int(input())\n",
    "        li = list(map(int, input().split()))\n",
    "\n",
    "        occurs = [deque() for _ in range(n + 1)]\n",
    "        for i in range(n):\n",
    "            occurs[li[i]].append(i)\n",
    "\n",
    "        r = []\n",
    "\n",
    "\n",
    "\n",
    "\n",
    "    \n",
    "# region fastio\n",
    " \n",
    "BUFSIZE = 8192\n",
    " \n",
    "\n",
    "class FastIO(IOBase):\n",
    "    newlines = 0\n",
    " \n",
    "    def __init__(self, file):\n",
    "        self._fd = file.fileno()\n",
    "        self.buffer = BytesIO()\n",
    "        self.writable = \"x\" in file.mode or \"r\" not in file.mode\n",
    "        self.write = self.buffer.write if self.writable else None\n",
    " \n",
    "    def read(self):\n",
    "        while True:\n",
    "            b = os.read(self._fd, max(os.fstat(self._fd).st_size, BUFSIZE))\n",
    "            if not b:\n",
    "                break\n",
    "            ptr = self.buffer.tell()\n",
    "            self.buffer.seek(0, 2), self.buffer.write(b), self.buffer.seek(ptr)\n",
    "        self.newlines = 0\n",
    "        return self.buffer.read()\n",
    " \n",
    "    def readline(self):\n",
    "        while self.newlines == 0:\n",
    "            b = os.read(self._fd, max(os.fstat(self._fd).st_size, BUFSIZE))\n",
    "            self.newlines = b.count(b\"\\n\") + (not b)\n",
    "            ptr = self.buffer.tell()\n",
    "            self.buffer.seek(0, 2), self.buffer.write(b), self.buffer.seek(ptr)\n",
    "        self.newlines -= 1\n",
    "        return self.buffer.readline()\n",
    " \n",
    "    def flush(self):\n",
    "        if self.writable:\n",
    "            os.write(self._fd, self.buffer.getvalue())\n",
    "            self.buffer.truncate(0), self.buffer.seek(0)\n",
    " \n",
    " \n",
    "class IOWrapper(IOBase):\n",
    "    def __init__(self, file):\n",
    "        self.buffer = FastIO(file)\n",
    "        self.flush = self.buffer.flush\n",
    "        self.writable = self.buffer.writable\n",
    "        self.write = lambda s: self.buffer.write(s.encode(\"ascii\"))\n",
    "        self.read = lambda: self.buffer.read().decode(\"ascii\")\n",
    "        self.readline = lambda: self.buffer.readline().decode(\"ascii\")\n",
    " \n",
    " \n",
    "sys.stdin, sys.stdout = IOWrapper(sys.stdin), IOWrapper(sys.stdout)\n",
    "input = lambda: sys.stdin.readline().rstrip(\"\\r\\n\")\n",
    " \n",
    "# endregion\n",
    " \n",
    "if __name__ == \"__main__\":\n",
    "    def bootstrap(f, stack=[]):\n",
    "        def wrappedfunc(*args, **kwargs):\n",
    "            if stack:\n",
    "                return f(*args, **kwargs)\n",
    "            else:\n",
    "                to = f(*args, **kwargs)\n",
    "                while True:\n",
    "                    if type(to) is GeneratorType:\n",
    "                        stack.append(to)\n",
    "                        to = next(to)\n",
    "                    else:\n",
    "                        stack.pop()\n",
    "                        if not stack:\n",
    "                            break\n",
    "                        to = stack[-1].send(to)\n",
    "                return to\n",
    "        return wrappedfunc\n",
    "    \n",
    "    ip = lambda: input()\n",
    "    iip = lambda: int(input())\n",
    "    miip = lambda: map(int, input().split())\n",
    "    liip = lambda: list(map(int, input().split()))\n",
    "    sip = lambda: input().split() # splitted input\n",
    "    lip = lambda: list(input())\n",
    "    \n",
    "    main()"
   ]
  }
 ],
 "metadata": {
  "kernelspec": {
   "display_name": "Python 3",
   "language": "python",
   "name": "python3"
  },
  "language_info": {
   "codemirror_mode": {
    "name": "ipython",
    "version": 3
   },
   "file_extension": ".py",
   "mimetype": "text/x-python",
   "name": "python",
   "nbconvert_exporter": "python",
   "pygments_lexer": "ipython3",
   "version": "3.7.4"
  }
 },
 "nbformat": 4,
 "nbformat_minor": 4
}
