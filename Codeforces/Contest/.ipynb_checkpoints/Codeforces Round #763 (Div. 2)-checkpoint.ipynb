{
 "cells": [
  {
   "cell_type": "markdown",
   "metadata": {},
   "source": [
    "A"
   ]
  },
  {
   "cell_type": "code",
   "execution_count": null,
   "metadata": {},
   "outputs": [],
   "source": [
    "for _ in range(int(input())):\n",
    "    n, m, x, y, tx, ty = map(int, input().split())\n",
    "\n",
    "    count = 0\n",
    "\n",
    "    dx = 1\n",
    "    dy = 1\n",
    "    while True:\n",
    "        if x == tx or y == ty:\n",
    "            break     \n",
    "        count += 1\n",
    "\n",
    "        nx = x + dx\n",
    "        ny = y + dy\n",
    "\n",
    "        if nx == 0 or nx == n + 1:\n",
    "            dx = -dx\n",
    "            nx = x + dx\n",
    "\n",
    "        if ny == 0 or ny == m + 1:\n",
    "            dy = -dy\n",
    "            ny = y + dy\n",
    "\n",
    "        x, y = nx, ny\n",
    "\n",
    "    print(count)"
   ]
  },
  {
   "cell_type": "markdown",
   "metadata": {},
   "source": [
    "B"
   ]
  },
  {
   "cell_type": "code",
   "execution_count": 11,
   "metadata": {},
   "outputs": [],
   "source": [
    "# n = int(input())\n",
    "# li = [list(map(int, input().split())) for _ in range(n)]\n",
    "\n",
    "n = 1\n",
    "s = '''1 1'''\n",
    "li = [list(map(int, v.split())) for v in s.split('\\n')]\n",
    "\n",
    "li.sort(key=lambda x: (x[1] - x[0]))"
   ]
  },
  {
   "cell_type": "code",
   "execution_count": 12,
   "metadata": {},
   "outputs": [
    {
     "name": "stdout",
     "output_type": "stream",
     "text": [
      "1 1 1\n"
     ]
    }
   ],
   "source": [
    "used = set()\n",
    "\n",
    "result = []\n",
    "for s, e in li:\n",
    "    ns = s\n",
    "    while ns in used:\n",
    "        ns += 1\n",
    "        \n",
    "    used.add(ns)\n",
    "    result.append([s, e, ns])\n",
    "        \n",
    "for v in result:\n",
    "    print(*v)"
   ]
  },
  {
   "cell_type": "code",
   "execution_count": 13,
   "metadata": {},
   "outputs": [
    {
     "name": "stdout",
     "output_type": "stream",
     "text": [
      "1\n",
      "1\n",
      "1 1\n",
      "1 1 1\n"
     ]
    }
   ],
   "source": [
    "for _ in range(int(input())):\n",
    "    n = int(input())\n",
    "    li = [list(map(int, input().split())) for _ in range(n)]\n",
    "\n",
    "    li.sort(key=lambda x: (x[1] - x[0]))\n",
    "\n",
    "    used = set()\n",
    "\n",
    "    result = []\n",
    "    for s, e in li:\n",
    "        ns = s\n",
    "        while ns in used:\n",
    "            ns += 1\n",
    "\n",
    "        used.add(ns)\n",
    "        result.append([s, e, ns])\n",
    "\n",
    "    for v in result:\n",
    "        print(*v)"
   ]
  },
  {
   "cell_type": "markdown",
   "metadata": {},
   "source": [
    "C"
   ]
  },
  {
   "cell_type": "code",
   "execution_count": 46,
   "metadata": {},
   "outputs": [
    {
     "name": "stdout",
     "output_type": "stream",
     "text": [
      "4\n",
      "1 2 10 100\n",
      "7\n"
     ]
    }
   ],
   "source": [
    "n = int(input())\n",
    "li = list(map(int, input().split()))\n",
    "\n",
    "# n = 4\n",
    "# s = '1 2 10 100'\n",
    "# li = list(map(int, s.split()))\n",
    "\n",
    "max_ds = [0] * n\n",
    "for i in range(2, n):\n",
    "    max_ds[i] = li[i] // 3\n",
    "    \n",
    "start = 1\n",
    "end = max(li)\n",
    "result = float('inf')\n",
    "nli = li.copy()\n",
    "while start <= end:\n",
    "    tmm = (start + end) // 2 # target max min\n",
    "    \n",
    "    need_to_down_tmm = False\n",
    "    min_value = float('inf')\n",
    "    for i in range(n - 1, 1, -1):\n",
    "        d3 = min(max_ds[i] * 3, max(0, nli[i] - tmm))\n",
    "        d = d3 // 3\n",
    "        \n",
    "        nli[i - 1] += d\n",
    "        nli[i - 2] += d * 2\n",
    "        nli[i] -= d * 3\n",
    "        min_value = min(min_value, nli[i])\n",
    "        nli[i] = li[i]\n",
    "        \n",
    "        if min_value < tmm:\n",
    "            need_to_down_tmm = True\n",
    "            break  \n",
    "            \n",
    "    min_value = min(min_value, nli[0], nli[1])\n",
    "    nli[0] = li[0]\n",
    "    nli[1] = li[1]\n",
    "    \n",
    "    if min_value < tmm:\n",
    "        need_to_down_tmm = True\n",
    "            \n",
    "    if need_to_down_tmm:\n",
    "        end = tmm - 1\n",
    "    else:\n",
    "        result = tmm\n",
    "        start = tmm + 1\n",
    "        \n",
    "print(result)"
   ]
  },
  {
   "cell_type": "code",
   "execution_count": 8,
   "metadata": {},
   "outputs": [
    {
     "name": "stdout",
     "output_type": "stream",
     "text": [
      "5\n",
      "5\n",
      "5 4 3 2 1\n",
      "1\n",
      "5\n",
      "7 6 5 4 3\n",
      "3\n",
      "5\n",
      "3 4 5 6 7\n",
      "4\n",
      "i\n"
     ]
    },
    {
     "ename": "ValueError",
     "evalue": "invalid literal for int() with base 10: 'i'",
     "output_type": "error",
     "traceback": [
      "\u001b[1;31m---------------------------------------------------------------------------\u001b[0m",
      "\u001b[1;31mValueError\u001b[0m                                Traceback (most recent call last)",
      "\u001b[1;32m<ipython-input-8-1c9892e078da>\u001b[0m in \u001b[0;36m<module>\u001b[1;34m\u001b[0m\n\u001b[0;32m      1\u001b[0m \u001b[1;32mfor\u001b[0m \u001b[0m_\u001b[0m \u001b[1;32min\u001b[0m \u001b[0mrange\u001b[0m\u001b[1;33m(\u001b[0m\u001b[0mint\u001b[0m\u001b[1;33m(\u001b[0m\u001b[0minput\u001b[0m\u001b[1;33m(\u001b[0m\u001b[1;33m)\u001b[0m\u001b[1;33m)\u001b[0m\u001b[1;33m)\u001b[0m\u001b[1;33m:\u001b[0m\u001b[1;33m\u001b[0m\u001b[1;33m\u001b[0m\u001b[0m\n\u001b[1;32m----> 2\u001b[1;33m     \u001b[0mn\u001b[0m \u001b[1;33m=\u001b[0m \u001b[0mint\u001b[0m\u001b[1;33m(\u001b[0m\u001b[0minput\u001b[0m\u001b[1;33m(\u001b[0m\u001b[1;33m)\u001b[0m\u001b[1;33m)\u001b[0m\u001b[1;33m\u001b[0m\u001b[1;33m\u001b[0m\u001b[0m\n\u001b[0m\u001b[0;32m      3\u001b[0m     \u001b[0mli\u001b[0m \u001b[1;33m=\u001b[0m \u001b[0mlist\u001b[0m\u001b[1;33m(\u001b[0m\u001b[0mmap\u001b[0m\u001b[1;33m(\u001b[0m\u001b[0mint\u001b[0m\u001b[1;33m,\u001b[0m \u001b[0minput\u001b[0m\u001b[1;33m(\u001b[0m\u001b[1;33m)\u001b[0m\u001b[1;33m.\u001b[0m\u001b[0msplit\u001b[0m\u001b[1;33m(\u001b[0m\u001b[1;33m)\u001b[0m\u001b[1;33m)\u001b[0m\u001b[1;33m)\u001b[0m\u001b[1;33m\u001b[0m\u001b[1;33m\u001b[0m\u001b[0m\n\u001b[0;32m      4\u001b[0m \u001b[1;33m\u001b[0m\u001b[0m\n\u001b[0;32m      5\u001b[0m     \u001b[0mstart\u001b[0m \u001b[1;33m=\u001b[0m \u001b[1;36m1\u001b[0m\u001b[1;33m\u001b[0m\u001b[1;33m\u001b[0m\u001b[0m\n",
      "\u001b[1;31mValueError\u001b[0m: invalid literal for int() with base 10: 'i'"
     ]
    }
   ],
   "source": [
    "for _ in range(int(input())):\n",
    "    n = int(input())\n",
    "    li = list(map(int, input().split()))\n",
    "\n",
    "    start = 1\n",
    "    end = int(1e9)\n",
    "    result = float('inf')\n",
    "    nli = li.copy()\n",
    "    while start <= end:\n",
    "        tmm = (start + end) // 2 # target max min\n",
    "\n",
    "        need_to_down_tmm = False\n",
    "        min_value = float('inf')\n",
    "        for i in range(n - 1, 1, -1):\n",
    "            d3 = min((li[i] // 3) * 3, max(0, nli[i] - tmm))\n",
    "            d = d3 // 3\n",
    "\n",
    "            nli[i - 1] += d\n",
    "            nli[i - 2] += d * 2\n",
    "            nli[i] -= d3\n",
    "            min_value = min(min_value, nli[i])\n",
    "            nli[i] = li[i]\n",
    "\n",
    "            if min_value < tmm:\n",
    "                need_to_down_tmm = True\n",
    "                break  \n",
    "\n",
    "        min_value = min(min_value, nli[0], nli[1])\n",
    "        nli[0] = li[0]\n",
    "        nli[1] = li[1]\n",
    "\n",
    "        if min_value < tmm:\n",
    "            need_to_down_tmm = True\n",
    "\n",
    "        if need_to_down_tmm:\n",
    "            end = tmm - 1\n",
    "        else:\n",
    "            result = tmm\n",
    "            start = tmm + 1\n",
    "\n",
    "    print(result)    "
   ]
  },
  {
   "cell_type": "code",
   "execution_count": 29,
   "metadata": {},
   "outputs": [
    {
     "data": {
      "text/plain": [
       "-1"
      ]
     },
     "execution_count": 29,
     "metadata": {},
     "output_type": "execute_result"
    }
   ],
   "source": [
    "-3 // 3"
   ]
  },
  {
   "cell_type": "code",
   "execution_count": null,
   "metadata": {},
   "outputs": [],
   "source": []
  },
  {
   "cell_type": "code",
   "execution_count": null,
   "metadata": {},
   "outputs": [],
   "source": [
    "'100 100 100 100'이면 옮길 필요가 하나도 없음\n",
    "\n",
    "100 100 100 102 이면 옮길 필요가 하나도 없음\n",
    "\n",
    "200 200 100 100 이면 옮길 필요가 하나도 없음\n",
    "\n",
    "1 1 150 100 100 이면"
   ]
  },
  {
   "cell_type": "code",
   "execution_count": null,
   "metadata": {},
   "outputs": [],
   "source": [
    "[]"
   ]
  },
  {
   "cell_type": "markdown",
   "metadata": {},
   "source": [
    "### 제출본"
   ]
  },
  {
   "cell_type": "code",
   "execution_count": null,
   "metadata": {},
   "outputs": [],
   "source": [
    "import os\n",
    "import sys\n",
    "from io import BytesIO, IOBase\n",
    "\n",
    "## PYRIVAL BOOTSTRAP\n",
    "# https://github.com/cheran-senthil/PyRival/blob/master/pyrival/misc/bootstrap.py\n",
    "# This decorator allows for recursion without actually doing recursion\n",
    "from types import GeneratorType\n",
    "## @bootstrap, yield when getting and returning value in recursive functions\n",
    "\n",
    "\n",
    "def main():\n",
    "    for _ in range(int(input())):\n",
    "        n = int(input())\n",
    "        li = list(map(int, input().split()))\n",
    "\n",
    "        start = 1\n",
    "        end = int(1e9)\n",
    "        result = float('inf')\n",
    "        nli = li.copy()\n",
    "        while start <= end:\n",
    "            tmm = (start + end) // 2 # target max min\n",
    "\n",
    "            need_to_down_tmm = False\n",
    "            min_value = float('inf')\n",
    "            for i in range(n - 1, 1, -1):\n",
    "                d3 = min((li[i] // 3) * 3, max(0, nli[i] - tmm))\n",
    "                d = d3 // 3\n",
    "\n",
    "                nli[i - 1] += d\n",
    "                nli[i - 2] += d * 2\n",
    "                nli[i] -= d * 3\n",
    "                min_value = min(min_value, nli[i])\n",
    "                nli[i] = li[i]\n",
    "\n",
    "                if min_value < tmm:\n",
    "                    need_to_down_tmm = True\n",
    "                    break  \n",
    "\n",
    "            min_value = min(min_value, nli[0], nli[1])\n",
    "            nli[0] = li[0]\n",
    "            nli[1] = li[1]\n",
    "\n",
    "            if min_value < tmm:\n",
    "                need_to_down_tmm = True\n",
    "\n",
    "            if need_to_down_tmm:\n",
    "                end = tmm - 1\n",
    "            else:\n",
    "                result = tmm\n",
    "                start = tmm + 1\n",
    "\n",
    "        print(result)     \n",
    "\n",
    "\n",
    "\n",
    "\n",
    "    \n",
    "# region fastio\n",
    " \n",
    "BUFSIZE = 8192\n",
    " \n",
    "\n",
    "class FastIO(IOBase):\n",
    "    newlines = 0\n",
    " \n",
    "    def __init__(self, file):\n",
    "        self._fd = file.fileno()\n",
    "        self.buffer = BytesIO()\n",
    "        self.writable = \"x\" in file.mode or \"r\" not in file.mode\n",
    "        self.write = self.buffer.write if self.writable else None\n",
    " \n",
    "    def read(self):\n",
    "        while True:\n",
    "            b = os.read(self._fd, max(os.fstat(self._fd).st_size, BUFSIZE))\n",
    "            if not b:\n",
    "                break\n",
    "            ptr = self.buffer.tell()\n",
    "            self.buffer.seek(0, 2), self.buffer.write(b), self.buffer.seek(ptr)\n",
    "        self.newlines = 0\n",
    "        return self.buffer.read()\n",
    " \n",
    "    def readline(self):\n",
    "        while self.newlines == 0:\n",
    "            b = os.read(self._fd, max(os.fstat(self._fd).st_size, BUFSIZE))\n",
    "            self.newlines = b.count(b\"\\n\") + (not b)\n",
    "            ptr = self.buffer.tell()\n",
    "            self.buffer.seek(0, 2), self.buffer.write(b), self.buffer.seek(ptr)\n",
    "        self.newlines -= 1\n",
    "        return self.buffer.readline()\n",
    " \n",
    "    def flush(self):\n",
    "        if self.writable:\n",
    "            os.write(self._fd, self.buffer.getvalue())\n",
    "            self.buffer.truncate(0), self.buffer.seek(0)\n",
    " \n",
    " \n",
    "class IOWrapper(IOBase):\n",
    "    def __init__(self, file):\n",
    "        self.buffer = FastIO(file)\n",
    "        self.flush = self.buffer.flush\n",
    "        self.writable = self.buffer.writable\n",
    "        self.write = lambda s: self.buffer.write(s.encode(\"ascii\"))\n",
    "        self.read = lambda: self.buffer.read().decode(\"ascii\")\n",
    "        self.readline = lambda: self.buffer.readline().decode(\"ascii\")\n",
    " \n",
    " \n",
    "sys.stdin, sys.stdout = IOWrapper(sys.stdin), IOWrapper(sys.stdout)\n",
    "input = lambda: sys.stdin.readline().rstrip(\"\\r\\n\")\n",
    " \n",
    "# endregion\n",
    " \n",
    "if __name__ == \"__main__\":\n",
    "    def bootstrap(f, stack=[]):\n",
    "        def wrappedfunc(*args, **kwargs):\n",
    "            if stack:\n",
    "                return f(*args, **kwargs)\n",
    "            else:\n",
    "                to = f(*args, **kwargs)\n",
    "                while True:\n",
    "                    if type(to) is GeneratorType:\n",
    "                        stack.append(to)\n",
    "                        to = next(to)\n",
    "                    else:\n",
    "                        stack.pop()\n",
    "                        if not stack:\n",
    "                            break\n",
    "                        to = stack[-1].send(to)\n",
    "                return to\n",
    "        return wrappedfunc\n",
    "    \n",
    "    ip = lambda: input()\n",
    "    iip = lambda: int(input())\n",
    "    miip = lambda: map(int, input().split())\n",
    "    liip = lambda: list(map(int, input().split()))\n",
    "    sip = lambda: input().split() # splitted input\n",
    "    lip = lambda: list(input())\n",
    "    \n",
    "    main()"
   ]
  }
 ],
 "metadata": {
  "kernelspec": {
   "display_name": "Python 3",
   "language": "python",
   "name": "python3"
  },
  "language_info": {
   "codemirror_mode": {
    "name": "ipython",
    "version": 3
   },
   "file_extension": ".py",
   "mimetype": "text/x-python",
   "name": "python",
   "nbconvert_exporter": "python",
   "pygments_lexer": "ipython3",
   "version": "3.7.4"
  }
 },
 "nbformat": 4,
 "nbformat_minor": 4
}
