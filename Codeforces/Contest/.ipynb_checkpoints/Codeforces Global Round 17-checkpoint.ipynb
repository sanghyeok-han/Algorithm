{
 "cells": [
  {
   "cell_type": "markdown",
   "metadata": {},
   "source": [
    "A"
   ]
  },
  {
   "cell_type": "code",
   "execution_count": 1,
   "metadata": {},
   "outputs": [
    {
     "name": "stdout",
     "output_type": "stream",
     "text": [
      "2 3\n",
      "2\n"
     ]
    }
   ],
   "source": [
    "n, m = map(int, input().split())\n",
    "\n",
    "print(min(n, m))"
   ]
  },
  {
   "cell_type": "code",
   "execution_count": 109,
   "metadata": {},
   "outputs": [
    {
     "name": "stdout",
     "output_type": "stream",
     "text": [
      "42\n"
     ]
    }
   ],
   "source": [
    "def get_dist(a, b):\n",
    "    ax, ay = a\n",
    "    bx, by = b\n",
    "    \n",
    "    return abs(ax - bx) + abs(ay - by)\n",
    "    \n",
    "n, m = 2, 21\n",
    "    \n",
    "t = [(0, 0), (n - 1, 0)]\n",
    "st = set()\n",
    "for i in range(n):\n",
    "    for j in range(m):\n",
    "        temp = (get_dist((i, j), t[0]), get_dist((i, j), t[1]))\n",
    "        \n",
    "        if temp in st:\n",
    "            print(temp)\n",
    "            break\n",
    "        else:\n",
    "            st.add(temp)\n",
    "            \n",
    "print(len(st))"
   ]
  },
  {
   "cell_type": "code",
   "execution_count": null,
   "metadata": {},
   "outputs": [],
   "source": [
    "for _ in range(int(input())):\n",
    "    n, m = map(int, input().split())\n",
    "\n",
    "    if n == 1 and m == 1:\n",
    "        print(0)\n",
    "    elif min(n, m) == 1:\n",
    "        print(1)\n",
    "    else:\n",
    "        print(2)"
   ]
  },
  {
   "cell_type": "markdown",
   "metadata": {},
   "source": [
    "B"
   ]
  },
  {
   "cell_type": "code",
   "execution_count": 4,
   "metadata": {},
   "outputs": [
    {
     "name": "stdout",
     "output_type": "stream",
     "text": [
      "5\n",
      "1 4 4 1 4\n"
     ]
    }
   ],
   "source": [
    "n = int(input())\n",
    "li = list(map(int, input().split()))\n",
    "\n"
   ]
  },
  {
   "cell_type": "code",
   "execution_count": 13,
   "metadata": {},
   "outputs": [
    {
     "name": "stdout",
     "output_type": "stream",
     "text": [
      "1\n",
      "1\n",
      "YES\n"
     ]
    }
   ],
   "source": [
    "def get_to_change():\n",
    "    for i in range(n // 2):\n",
    "        if li[i] != li[n - 1 - i]:\n",
    "            return li[i], li[n - 1 - i]\n",
    "    else:\n",
    "        return -1, -1\n",
    "\n",
    "def check(num):\n",
    "    start = 0\n",
    "    end = n - 1\n",
    "    \n",
    "    while start < end:\n",
    "        if li[start] != li[end]:\n",
    "            if num == li[start]:\n",
    "                start += 1\n",
    "                continue\n",
    "        \n",
    "            if num == li[end]:\n",
    "                end -= 1\n",
    "                continue\n",
    "            \n",
    "            return False\n",
    "        else:\n",
    "            start += 1\n",
    "            end -= 1\n",
    "            \n",
    "    return True\n",
    "    \n",
    "n = int(input())\n",
    "li = list(map(int, input().split()))\n",
    "  \n",
    "tc = get_to_change()\n",
    "\n",
    "if tc[0] == -1:\n",
    "    print('YES')\n",
    "else:\n",
    "    r = 'NO'\n",
    "    for v in tc:\n",
    "        if check(v):\n",
    "            r = 'YES'\n",
    "            break\n",
    "            \n",
    "    print(r)"
   ]
  },
  {
   "cell_type": "code",
   "execution_count": 14,
   "metadata": {},
   "outputs": [
    {
     "name": "stdout",
     "output_type": "stream",
     "text": [
      "1\n",
      "1\n",
      "1\n",
      "YES\n"
     ]
    }
   ],
   "source": [
    "def get_to_change():\n",
    "    for i in range(n // 2):\n",
    "        if li[i] != li[n - 1 - i]:\n",
    "            return li[i], li[n - 1 - i]\n",
    "    else:\n",
    "        return -1, -1\n",
    "\n",
    "def check(num):\n",
    "    start = 0\n",
    "    end = n - 1\n",
    "    \n",
    "    while start < end:\n",
    "        if li[start] != li[end]:\n",
    "            if num == li[start]:\n",
    "                start += 1\n",
    "                continue\n",
    "        \n",
    "            if num == li[end]:\n",
    "                end -= 1\n",
    "                continue\n",
    "            \n",
    "            return False\n",
    "        else:\n",
    "            start += 1\n",
    "            end -= 1\n",
    "            \n",
    "    return True\n",
    "\n",
    "for _ in range(int(input())):\n",
    "    n = int(input())\n",
    "    li = list(map(int, input().split()))\n",
    "\n",
    "    tc = get_to_change()\n",
    "\n",
    "    if tc[0] == -1:\n",
    "        print('YES')\n",
    "    else:\n",
    "        r = 'NO'\n",
    "        for v in tc:\n",
    "            if check(v):\n",
    "                r = 'YES'\n",
    "                break\n",
    "\n",
    "        print(r)    "
   ]
  },
  {
   "cell_type": "markdown",
   "metadata": {},
   "source": [
    "C"
   ]
  },
  {
   "cell_type": "code",
   "execution_count": null,
   "metadata": {},
   "outputs": [],
   "source": [
    "4 2\n",
    "5 1\n",
    "3 8\n",
    "1 3\n",
    "4 2\n",
    "1 8\n",
    "8 2\n",
    "1 8\n",
    "0 0\n",
    "4 8"
   ]
  },
  {
   "cell_type": "code",
   "execution_count": 22,
   "metadata": {},
   "outputs": [
    {
     "name": "stdout",
     "output_type": "stream",
     "text": [
      "10\n",
      "4 2\n",
      "5 1\n",
      "3 8\n",
      "1 3\n",
      "4 2\n",
      "1 8\n",
      "8 2\n",
      "1 8\n",
      "0 0\n",
      "4 8\n"
     ]
    }
   ],
   "source": [
    "# n = int(input())\n",
    "# li = []\n",
    "# for i in range(n):\n",
    "#     a, b = map(int, input().split())\n",
    "    \n",
    "#     a = min(n - 1 - i, a)\n",
    "#     b = min(b, i)\n",
    "    \n",
    "#     li.append((i, a, b, a + b))"
   ]
  },
  {
   "cell_type": "code",
   "execution_count": 56,
   "metadata": {},
   "outputs": [],
   "source": [
    "n = 2\n",
    "s = '''1 0\n",
    "0 1'''\n",
    "s = s.split('\\n')\n",
    "\n",
    "li = []\n",
    "li_a = []\n",
    "li_b = []\n",
    "for i in range(n):\n",
    "    a, b = map(int, s[i].split())\n",
    "\n",
    "    a = min(n - 1 - i, a)\n",
    "    b = min(b, i)\n",
    "\n",
    "    li.append((a, b))\n",
    "    li_a.append(a)\n",
    "    li_b.append(b)\n",
    "    \n",
    "li_a.sort(reverse=True)\n",
    "li_b.sort(reverse=True)"
   ]
  },
  {
   "cell_type": "code",
   "execution_count": 57,
   "metadata": {},
   "outputs": [
    {
     "data": {
      "text/plain": [
       "2"
      ]
     },
     "execution_count": 57,
     "metadata": {},
     "output_type": "execute_result"
    }
   ],
   "source": [
    "t1 = 0\n",
    "for i in range(n):\n",
    "    if li_a[i] >= i + 1:\n",
    "        t1 = i + 1\n",
    "\n",
    "t2 = 0\n",
    "for i in range(n):\n",
    "    if li_b[i] >= i + 1:\n",
    "        t2 = i + 1\n",
    "        \n",
    "min(t1, t2) + 1"
   ]
  },
  {
   "cell_type": "code",
   "execution_count": 58,
   "metadata": {},
   "outputs": [],
   "source": [
    "##########################"
   ]
  },
  {
   "cell_type": "code",
   "execution_count": 82,
   "metadata": {},
   "outputs": [
    {
     "name": "stdout",
     "output_type": "stream",
     "text": [
      "3\n",
      "3\n",
      "1 2\n",
      "2 1\n",
      "1 1\n",
      "2\n",
      "2\n",
      "0 0\n",
      "0 1\n",
      "1\n",
      "2\n",
      "1 0\n",
      "0 1\n",
      "2\n"
     ]
    }
   ],
   "source": [
    "for _ in range(int(input())):\n",
    "    n = int(input())\n",
    "\n",
    "    li = []\n",
    "    for i in range(n):\n",
    "        a, b = map(int, input().split())\n",
    "\n",
    "        a = min(n - 1 - i, a)\n",
    "        b = min(b, i)\n",
    "\n",
    "        li.append(a + b)\n",
    "\n",
    "    li.sort(reverse=True)\n",
    "\n",
    "    t = 0\n",
    "    for i in range(n):\n",
    "        if li[i] >= i:\n",
    "            t = i\n",
    "\n",
    "    print(t + 1)"
   ]
  },
  {
   "cell_type": "code",
   "execution_count": 81,
   "metadata": {},
   "outputs": [
    {
     "data": {
      "text/plain": [
       "[2, 1, 1]"
      ]
     },
     "execution_count": 81,
     "metadata": {},
     "output_type": "execute_result"
    }
   ],
   "source": [
    "li"
   ]
  },
  {
   "cell_type": "code",
   "execution_count": 83,
   "metadata": {},
   "outputs": [
    {
     "name": "stdout",
     "output_type": "stream",
     "text": [
      "3\n",
      "3\n",
      "1 2\n",
      "2 1\n",
      "1 1\n",
      "2\n",
      "2\n",
      "0 0\n",
      "0 1\n",
      "1\n",
      "2\n",
      "1 0\n",
      "0 1\n",
      "1\n"
     ]
    }
   ],
   "source": [
    "for _ in range(int(input())):\n",
    "    n = int(input())\n",
    "\n",
    "    li_a = []\n",
    "    li_b = []\n",
    "    for i in range(n):\n",
    "        a, b = map(int, input().split())\n",
    "\n",
    "        a = min(n - 1 - i, a)\n",
    "        b = min(b, i)\n",
    "\n",
    "        li_a.append(a)\n",
    "        li_b.append(b)\n",
    "\n",
    "    li_a.sort(reverse=True)\n",
    "    li_b.sort(reverse=True)\n",
    "\n",
    "    t1 = 0\n",
    "    for i in range(n):\n",
    "        if li_a[i] >= i:\n",
    "            t1 = i\n",
    "\n",
    "    t2 = 0\n",
    "    for i in range(n):\n",
    "        if li_b[i] >= i:\n",
    "            t2 = i\n",
    "\n",
    "    print(min(t1, t2) + 1)"
   ]
  },
  {
   "cell_type": "code",
   "execution_count": 84,
   "metadata": {},
   "outputs": [
    {
     "data": {
      "text/plain": [
       "[1, 0]"
      ]
     },
     "execution_count": 84,
     "metadata": {},
     "output_type": "execute_result"
    }
   ],
   "source": [
    "li_a"
   ]
  },
  {
   "cell_type": "code",
   "execution_count": 85,
   "metadata": {},
   "outputs": [
    {
     "data": {
      "text/plain": [
       "[1, 0]"
      ]
     },
     "execution_count": 85,
     "metadata": {},
     "output_type": "execute_result"
    }
   ],
   "source": [
    "li_b"
   ]
  },
  {
   "cell_type": "markdown",
   "metadata": {},
   "source": [
    "D"
   ]
  },
  {
   "cell_type": "code",
   "execution_count": null,
   "metadata": {},
   "outputs": [],
   "source": []
  },
  {
   "cell_type": "markdown",
   "metadata": {},
   "source": [
    "### 제출본"
   ]
  },
  {
   "cell_type": "code",
   "execution_count": null,
   "metadata": {},
   "outputs": [],
   "source": [
    "import os\n",
    "import sys\n",
    "from io import BytesIO, IOBase\n",
    " \n",
    "\n",
    "def main():\n",
    "    for _ in range(int(input())):\n",
    "        n, m = map(int, input().split())\n",
    "\n",
    "        if n == 1 and m == 1:\n",
    "            print(0)\n",
    "        elif min(n, m) == 1:\n",
    "            print(1)\n",
    "        else:\n",
    "            print(2)\n",
    "\n",
    "    \n",
    "    \n",
    "    \n",
    "    \n",
    "    \n",
    "\n",
    "# region fastio\n",
    " \n",
    "BUFSIZE = 8192\n",
    " \n",
    "\n",
    "class FastIO(IOBase):\n",
    "    newlines = 0\n",
    " \n",
    "    def __init__(self, file):\n",
    "        self._fd = file.fileno()\n",
    "        self.buffer = BytesIO()\n",
    "        self.writable = \"x\" in file.mode or \"r\" not in file.mode\n",
    "        self.write = self.buffer.write if self.writable else None\n",
    " \n",
    "    def read(self):\n",
    "        while True:\n",
    "            b = os.read(self._fd, max(os.fstat(self._fd).st_size, BUFSIZE))\n",
    "            if not b:\n",
    "                break\n",
    "            ptr = self.buffer.tell()\n",
    "            self.buffer.seek(0, 2), self.buffer.write(b), self.buffer.seek(ptr)\n",
    "        self.newlines = 0\n",
    "        return self.buffer.read()\n",
    " \n",
    "    def readline(self):\n",
    "        while self.newlines == 0:\n",
    "            b = os.read(self._fd, max(os.fstat(self._fd).st_size, BUFSIZE))\n",
    "            self.newlines = b.count(b\"\\n\") + (not b)\n",
    "            ptr = self.buffer.tell()\n",
    "            self.buffer.seek(0, 2), self.buffer.write(b), self.buffer.seek(ptr)\n",
    "        self.newlines -= 1\n",
    "        return self.buffer.readline()\n",
    " \n",
    "    def flush(self):\n",
    "        if self.writable:\n",
    "            os.write(self._fd, self.buffer.getvalue())\n",
    "            self.buffer.truncate(0), self.buffer.seek(0)\n",
    " \n",
    " \n",
    "class IOWrapper(IOBase):\n",
    "    def __init__(self, file):\n",
    "        self.buffer = FastIO(file)\n",
    "        self.flush = self.buffer.flush\n",
    "        self.writable = self.buffer.writable\n",
    "        self.write = lambda s: self.buffer.write(s.encode(\"ascii\"))\n",
    "        self.read = lambda: self.buffer.read().decode(\"ascii\")\n",
    "        self.readline = lambda: self.buffer.readline().decode(\"ascii\")\n",
    " \n",
    " \n",
    "sys.stdin, sys.stdout = IOWrapper(sys.stdin), IOWrapper(sys.stdout)\n",
    "input = lambda: sys.stdin.readline().rstrip(\"\\r\\n\")\n",
    " \n",
    "# endregion\n",
    " \n",
    "if __name__ == \"__main__\":\n",
    "    main()"
   ]
  }
 ],
 "metadata": {
  "kernelspec": {
   "display_name": "Python 3",
   "language": "python",
   "name": "python3"
  },
  "language_info": {
   "codemirror_mode": {
    "name": "ipython",
    "version": 3
   },
   "file_extension": ".py",
   "mimetype": "text/x-python",
   "name": "python",
   "nbconvert_exporter": "python",
   "pygments_lexer": "ipython3",
   "version": "3.7.3"
  }
 },
 "nbformat": 4,
 "nbformat_minor": 4
}
