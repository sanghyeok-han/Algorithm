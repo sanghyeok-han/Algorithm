{
 "cells": [
  {
   "cell_type": "markdown",
   "metadata": {},
   "source": [
    "A"
   ]
  },
  {
   "cell_type": "code",
   "execution_count": 1,
   "metadata": {},
   "outputs": [
    {
     "name": "stdout",
     "output_type": "stream",
     "text": [
      "3 1 100 100\n",
      "50 100 50\n",
      "2\n"
     ]
    }
   ],
   "source": [
    "for _ in range(int(input())):\n",
    "    n, l, r, k = map(int, input().split())\n",
    "    li = list(map(int, input().split()))\n",
    "    li = [v for v in li if l <= v <= r]\n",
    "    li.sort()\n",
    "\n",
    "    count = 0\n",
    "    for v in li:\n",
    "        k -= v\n",
    "        if k >= 0:\n",
    "            count += 1\n",
    "        else:\n",
    "            break\n",
    "\n",
    "    print(count)"
   ]
  },
  {
   "cell_type": "markdown",
   "metadata": {},
   "source": [
    "B"
   ]
  },
  {
   "cell_type": "code",
   "execution_count": 19,
   "metadata": {},
   "outputs": [
    {
     "name": "stdout",
     "output_type": "stream",
     "text": [
      "5\n",
      "3 8 10 6 1\n",
      "1111 1 10 0 20\n",
      "1111 -1 8 0 16\n",
      "1111 2 6 0 24\n",
      "1111 -2 3 0 12\n",
      "1111 3 1 0 6\n",
      "78\n",
      "0 -2 -1 1 2 3\n"
     ]
    }
   ],
   "source": [
    "n = int(input())\n",
    "li = list(map(int, input().split()))\n",
    "li = [(v, i + 1) for i, v in enumerate(li)]\n",
    "li.sort(key=lambda x: -x[0])\n",
    "\n",
    "coords = [0] * (n + 1)\n",
    "total = 0\n",
    "to_assign = 1\n",
    "for v, num in li:\n",
    "    coords[num] = to_assign\n",
    "        \n",
    "    dist = abs(to_assign) * v * 2\n",
    "    total += dist\n",
    "    \n",
    "    if to_assign >= 0:\n",
    "        to_assign = -to_assign\n",
    "    else:\n",
    "        to_assign = -to_assign + 1\n",
    "    \n",
    "print(total)\n",
    "print(*coords)"
   ]
  },
  {
   "cell_type": "code",
   "execution_count": null,
   "metadata": {},
   "outputs": [],
   "source": [
    "for _ in range(int(input())):\n",
    "    n = int(input())\n",
    "    li = list(map(int, input().split()))\n",
    "    li = [(v, i + 1) for i, v in enumerate(li)]\n",
    "    li.sort(key=lambda x: -x[0])\n",
    "\n",
    "    coords = [0] * (n + 1)\n",
    "    total = 0\n",
    "    to_assign = 1\n",
    "    for v, num in li:\n",
    "        coords[num] = to_assign\n",
    "\n",
    "        dist = abs(to_assign) * v * 2\n",
    "        total += dist\n",
    "\n",
    "        if to_assign >= 0:\n",
    "            to_assign = -to_assign\n",
    "        else:\n",
    "            to_assign = -to_assign + 1\n",
    "\n",
    "    print(total)\n",
    "    print(*coords)"
   ]
  },
  {
   "cell_type": "markdown",
   "metadata": {},
   "source": [
    "C"
   ]
  },
  {
   "cell_type": "code",
   "execution_count": 40,
   "metadata": {},
   "outputs": [
    {
     "data": {
      "text/plain": [
       "32"
      ]
     },
     "execution_count": 40,
     "metadata": {},
     "output_type": "execute_result"
    }
   ],
   "source": [
    "pow(2, 5)"
   ]
  },
  {
   "cell_type": "code",
   "execution_count": 65,
   "metadata": {},
   "outputs": [
    {
     "name": "stdout",
     "output_type": "stream",
     "text": [
      "112\n"
     ]
    }
   ],
   "source": [
    "mod = int(1e9) +7\n",
    "\n",
    "def get_sum():\n",
    "    '''https://www.geeksforgeeks.org/sum-xor-possible-subsets/'''\n",
    "    \n",
    "    cur = 0\n",
    "    \n",
    "    for i in range(n):\n",
    "        cur |= li[i]\n",
    "    \n",
    "    temp = 1\n",
    "    for _ in range(n - 1):\n",
    "        temp *= 2\n",
    "        temp %= mod\n",
    "    \n",
    "    return cur * temp\n",
    "\n",
    "n, m = 5, 4\n",
    "s = '''1 2 7\n",
    "3 3 7\n",
    "4 4 0\n",
    "4 5 2'''\n",
    "segs = [list(map(int, v.split())) for v in s.split('\\n')]\n",
    "segs.sort(key=lambda x: (-x[2]))\n",
    "li = [0] * n\n",
    "for l, r, x in segs:\n",
    "    l -= 1\n",
    "    r -= 1\n",
    "    for i in range(l, r + 1):\n",
    "        li[i] = x\n",
    "    \n",
    "print(get_sum())"
   ]
  },
  {
   "cell_type": "code",
   "execution_count": 82,
   "metadata": {},
   "outputs": [
    {
     "ename": "KeyboardInterrupt",
     "evalue": "Interrupted by user",
     "output_type": "error",
     "traceback": [
      "\u001b[1;31m---------------------------------------------------------------------------\u001b[0m",
      "\u001b[1;31mKeyboardInterrupt\u001b[0m                         Traceback (most recent call last)",
      "\u001b[1;32m<ipython-input-82-72551cf9a175>\u001b[0m in \u001b[0;36m<module>\u001b[1;34m\u001b[0m\n\u001b[0;32m     19\u001b[0m \u001b[1;33m\u001b[0m\u001b[0m\n\u001b[0;32m     20\u001b[0m \u001b[1;33m\u001b[0m\u001b[0m\n\u001b[1;32m---> 21\u001b[1;33m \u001b[0mn\u001b[0m\u001b[1;33m,\u001b[0m \u001b[0mm\u001b[0m \u001b[1;33m=\u001b[0m \u001b[0mmap\u001b[0m\u001b[1;33m(\u001b[0m\u001b[0mint\u001b[0m\u001b[1;33m,\u001b[0m \u001b[0minput\u001b[0m\u001b[1;33m(\u001b[0m\u001b[1;33m)\u001b[0m\u001b[1;33m.\u001b[0m\u001b[0msplit\u001b[0m\u001b[1;33m(\u001b[0m\u001b[1;33m)\u001b[0m\u001b[1;33m)\u001b[0m\u001b[1;33m\u001b[0m\u001b[1;33m\u001b[0m\u001b[0m\n\u001b[0m\u001b[0;32m     22\u001b[0m \u001b[0msegs\u001b[0m \u001b[1;33m=\u001b[0m \u001b[1;33m[\u001b[0m\u001b[0mtuple\u001b[0m\u001b[1;33m(\u001b[0m\u001b[0mmap\u001b[0m\u001b[1;33m(\u001b[0m\u001b[0mint\u001b[0m\u001b[1;33m,\u001b[0m \u001b[0minput\u001b[0m\u001b[1;33m(\u001b[0m\u001b[1;33m)\u001b[0m\u001b[1;33m.\u001b[0m\u001b[0msplit\u001b[0m\u001b[1;33m(\u001b[0m\u001b[1;33m)\u001b[0m\u001b[1;33m)\u001b[0m\u001b[1;33m)\u001b[0m \u001b[1;32mfor\u001b[0m \u001b[0m_\u001b[0m \u001b[1;32min\u001b[0m \u001b[0mrange\u001b[0m\u001b[1;33m(\u001b[0m\u001b[0mm\u001b[0m\u001b[1;33m)\u001b[0m\u001b[1;33m]\u001b[0m\u001b[1;33m\u001b[0m\u001b[1;33m\u001b[0m\u001b[0m\n\u001b[0;32m     23\u001b[0m \u001b[1;33m\u001b[0m\u001b[0m\n",
      "\u001b[1;32m~\\Anaconda3\\lib\\site-packages\\ipykernel\\kernelbase.py\u001b[0m in \u001b[0;36mraw_input\u001b[1;34m(self, prompt)\u001b[0m\n\u001b[0;32m    861\u001b[0m             \u001b[0mself\u001b[0m\u001b[1;33m.\u001b[0m\u001b[0m_parent_ident\u001b[0m\u001b[1;33m,\u001b[0m\u001b[1;33m\u001b[0m\u001b[1;33m\u001b[0m\u001b[0m\n\u001b[0;32m    862\u001b[0m             \u001b[0mself\u001b[0m\u001b[1;33m.\u001b[0m\u001b[0m_parent_header\u001b[0m\u001b[1;33m,\u001b[0m\u001b[1;33m\u001b[0m\u001b[1;33m\u001b[0m\u001b[0m\n\u001b[1;32m--> 863\u001b[1;33m             \u001b[0mpassword\u001b[0m\u001b[1;33m=\u001b[0m\u001b[1;32mFalse\u001b[0m\u001b[1;33m,\u001b[0m\u001b[1;33m\u001b[0m\u001b[1;33m\u001b[0m\u001b[0m\n\u001b[0m\u001b[0;32m    864\u001b[0m         )\n\u001b[0;32m    865\u001b[0m \u001b[1;33m\u001b[0m\u001b[0m\n",
      "\u001b[1;32m~\\Anaconda3\\lib\\site-packages\\ipykernel\\kernelbase.py\u001b[0m in \u001b[0;36m_input_request\u001b[1;34m(self, prompt, ident, parent, password)\u001b[0m\n\u001b[0;32m    902\u001b[0m             \u001b[1;32mexcept\u001b[0m \u001b[0mKeyboardInterrupt\u001b[0m\u001b[1;33m:\u001b[0m\u001b[1;33m\u001b[0m\u001b[1;33m\u001b[0m\u001b[0m\n\u001b[0;32m    903\u001b[0m                 \u001b[1;31m# re-raise KeyboardInterrupt, to truncate traceback\u001b[0m\u001b[1;33m\u001b[0m\u001b[1;33m\u001b[0m\u001b[1;33m\u001b[0m\u001b[0m\n\u001b[1;32m--> 904\u001b[1;33m                 \u001b[1;32mraise\u001b[0m \u001b[0mKeyboardInterrupt\u001b[0m\u001b[1;33m(\u001b[0m\u001b[1;34m\"Interrupted by user\"\u001b[0m\u001b[1;33m)\u001b[0m \u001b[1;32mfrom\u001b[0m \u001b[1;32mNone\u001b[0m\u001b[1;33m\u001b[0m\u001b[1;33m\u001b[0m\u001b[0m\n\u001b[0m\u001b[0;32m    905\u001b[0m             \u001b[1;32mexcept\u001b[0m \u001b[0mException\u001b[0m \u001b[1;32mas\u001b[0m \u001b[0me\u001b[0m\u001b[1;33m:\u001b[0m\u001b[1;33m\u001b[0m\u001b[1;33m\u001b[0m\u001b[0m\n\u001b[0;32m    906\u001b[0m                 \u001b[0mself\u001b[0m\u001b[1;33m.\u001b[0m\u001b[0mlog\u001b[0m\u001b[1;33m.\u001b[0m\u001b[0mwarning\u001b[0m\u001b[1;33m(\u001b[0m\u001b[1;34m\"Invalid Message:\"\u001b[0m\u001b[1;33m,\u001b[0m \u001b[0mexc_info\u001b[0m\u001b[1;33m=\u001b[0m\u001b[1;32mTrue\u001b[0m\u001b[1;33m)\u001b[0m\u001b[1;33m\u001b[0m\u001b[1;33m\u001b[0m\u001b[0m\n",
      "\u001b[1;31mKeyboardInterrupt\u001b[0m: Interrupted by user"
     ]
    }
   ],
   "source": [
    "# 준비본\n",
    "\n",
    "mod = int(1e9) +7\n",
    "\n",
    "def get_sum():\n",
    "    '''https://www.geeksforgeeks.org/sum-xor-possible-subsets/'''\n",
    "    \n",
    "    cur = 0\n",
    "    \n",
    "    for i in range(n):\n",
    "        cur |= li[i]\n",
    "    \n",
    "    temp = 1\n",
    "    for _ in range(n - 1):\n",
    "        temp *= 2\n",
    "        temp %= mod\n",
    "    \n",
    "    return cur * temp\n",
    "\n",
    "\n",
    "n, m = map(int, input().split())\n",
    "segs = [tuple(map(int, input().split())) for _ in range(m)]\n",
    "\n",
    "segs.sort(key=lambda x: (x[0], x[1]))\n",
    " \n",
    "li = [-1] * n\n",
    "fr = 0\n",
    "for l, r, x in segs:\n",
    "    l -= 1\n",
    "    r -= 1\n",
    "    \n",
    "    if li[l] == -1:\n",
    "        li[l] = x\n",
    "    elif li[l] < x:\n",
    "        li[fr + 1] = x\n",
    "    elif li[l] > x:\n",
    "        li[r + 1] = li[l]\n",
    "        li[l] = x\n",
    "    fr = r\n",
    "    \n",
    "for i in range(n):\n",
    "    if li[i] == -1:\n",
    "        li[i] = 0\n",
    "\n",
    "print(get_sum() % mod)"
   ]
  },
  {
   "cell_type": "code",
   "execution_count": 84,
   "metadata": {},
   "outputs": [
    {
     "name": "stdout",
     "output_type": "stream",
     "text": [
      "1\n",
      "4 3\n",
      "1 3 2\n",
      "2 4 3\n",
      "2 2 0\n",
      "24\n"
     ]
    }
   ],
   "source": [
    "def get_sum():\n",
    "    '''https://www.geeksforgeeks.org/sum-xor-possible-subsets/'''\n",
    "    \n",
    "    cur = 0\n",
    "    \n",
    "    for i in range(n):\n",
    "        cur |= li[i]\n",
    "    \n",
    "    temp = 1\n",
    "    for _ in range(n - 1):\n",
    "        temp *= 2\n",
    "        temp %= mod\n",
    "    \n",
    "    return cur * temp\n",
    "\n",
    "\n",
    "mod = int(1e9) +7\n",
    "\n",
    "for _ in range(int(input())):\n",
    "    n, m = map(int, input().split())\n",
    "    segs = [tuple(map(int, input().split())) for _ in range(m)]\n",
    "\n",
    "    segs.sort(key=lambda x: (x[0], x[1]))\n",
    "\n",
    "    li = [-1] * n\n",
    "    fr = 0\n",
    "    for l, r, x in segs:\n",
    "        l -= 1\n",
    "        r -= 1\n",
    "\n",
    "        if li[l] == -1:\n",
    "            li[l] = x\n",
    "        elif li[l] < x:\n",
    "            li[fr + 1] = x\n",
    "        elif li[l] > x:\n",
    "            li[r + 1] = li[l]\n",
    "            li[l] = x\n",
    "        fr = r\n",
    "\n",
    "    for i in range(n):\n",
    "        if li[i] == -1:\n",
    "            li[i] = 0\n",
    "\n",
    "    print(get_sum() % mod)"
   ]
  },
  {
   "cell_type": "code",
   "execution_count": 85,
   "metadata": {},
   "outputs": [
    {
     "data": {
      "text/plain": [
       "[2, 0, 3, 0]"
      ]
     },
     "execution_count": 85,
     "metadata": {},
     "output_type": "execute_result"
    }
   ],
   "source": [
    "li"
   ]
  },
  {
   "cell_type": "code",
   "execution_count": 47,
   "metadata": {},
   "outputs": [
    {
     "data": {
      "text/plain": [
       "[[1, 2, 7], [3, 3, 7], [4, 4, 0], [4, 5, 2]]"
      ]
     },
     "execution_count": 47,
     "metadata": {},
     "output_type": "execute_result"
    }
   ],
   "source": [
    "segs"
   ]
  },
  {
   "cell_type": "code",
   "execution_count": 51,
   "metadata": {},
   "outputs": [
    {
     "data": {
      "text/plain": [
       "15"
      ]
     },
     "execution_count": 51,
     "metadata": {},
     "output_type": "execute_result"
    }
   ],
   "source": [
    "10 |13"
   ]
  },
  {
   "cell_type": "code",
   "execution_count": 53,
   "metadata": {},
   "outputs": [
    {
     "data": {
      "text/plain": [
       "'0b111'"
      ]
     },
     "execution_count": 53,
     "metadata": {},
     "output_type": "execute_result"
    }
   ],
   "source": [
    "bin(7)"
   ]
  },
  {
   "cell_type": "code",
   "execution_count": 39,
   "metadata": {},
   "outputs": [
    {
     "data": {
      "text/plain": [
       "7"
      ]
     },
     "execution_count": 39,
     "metadata": {},
     "output_type": "execute_result"
    }
   ],
   "source": [
    "5 | 7"
   ]
  },
  {
   "cell_type": "markdown",
   "metadata": {},
   "source": [
    "D1"
   ]
  },
  {
   "cell_type": "code",
   "execution_count": 20,
   "metadata": {},
   "outputs": [],
   "source": [
    "from math import gcd"
   ]
  },
  {
   "cell_type": "code",
   "execution_count": 21,
   "metadata": {},
   "outputs": [
    {
     "data": {
      "text/plain": [
       "2"
      ]
     },
     "execution_count": 21,
     "metadata": {},
     "output_type": "execute_result"
    }
   ],
   "source": [
    "gcd(10, 8)"
   ]
  },
  {
   "cell_type": "code",
   "execution_count": 36,
   "metadata": {},
   "outputs": [
    {
     "data": {
      "text/plain": [
       "2"
      ]
     },
     "execution_count": 36,
     "metadata": {},
     "output_type": "execute_result"
    }
   ],
   "source": [
    "gcd(100, 54)"
   ]
  },
  {
   "cell_type": "code",
   "execution_count": null,
   "metadata": {},
   "outputs": [],
   "source": [
    "100, "
   ]
  },
  {
   "cell_type": "code",
   "execution_count": 60,
   "metadata": {},
   "outputs": [
    {
     "data": {
      "text/plain": [
       "7"
      ]
     },
     "execution_count": 60,
     "metadata": {},
     "output_type": "execute_result"
    }
   ],
   "source": [
    "5|6"
   ]
  },
  {
   "cell_type": "code",
   "execution_count": 61,
   "metadata": {},
   "outputs": [
    {
     "data": {
      "text/plain": [
       "7"
      ]
     },
     "execution_count": 61,
     "metadata": {},
     "output_type": "execute_result"
    }
   ],
   "source": [
    "5|7"
   ]
  },
  {
   "cell_type": "code",
   "execution_count": 38,
   "metadata": {},
   "outputs": [
    {
     "name": "stdout",
     "output_type": "stream",
     "text": [
      "100\n",
      "2\n",
      "1\n",
      "1\n",
      "1\n",
      "1\n",
      "1\n",
      "1\n",
      "1\n",
      "1\n",
      "110\n"
     ]
    }
   ],
   "source": [
    "from math import gcd\n",
    "\n",
    "n = 10\n",
    "li = [5, 7, 10, 3, 1, 10, 100, 3, 42, 54]\n",
    "li = [100, 54, 5, 7, 10, 3, 1, 10, 3, 42]\n",
    "# li = [100,10,10,5,1,3,3,7,42,54]\n",
    "\n",
    "cumul = li[0]\n",
    "cur = li[0]\n",
    "print(cur)\n",
    "\n",
    "for i in range(1, n):\n",
    "    cur = gcd(cur, li[i])\n",
    "    cumul += cur\n",
    "    \n",
    "    print(cur)\n",
    "    \n",
    "print(cumul)"
   ]
  },
  {
   "cell_type": "code",
   "execution_count": 73,
   "metadata": {},
   "outputs": [
    {
     "data": {
      "text/plain": [
       "7"
      ]
     },
     "execution_count": 73,
     "metadata": {},
     "output_type": "execute_result"
    }
   ],
   "source": [
    "4|3"
   ]
  },
  {
   "cell_type": "markdown",
   "metadata": {},
   "source": [
    "### 제출본"
   ]
  },
  {
   "cell_type": "code",
   "execution_count": null,
   "metadata": {},
   "outputs": [],
   "source": [
    "import os\n",
    "import sys\n",
    "from io import BytesIO, IOBase\n",
    " \n",
    "\n",
    "def main():\n",
    "    def get_sum():\n",
    "        '''https://www.geeksforgeeks.org/sum-xor-possible-subsets/'''\n",
    "\n",
    "        cur = 0\n",
    "\n",
    "        for i in range(n):\n",
    "            cur |= li[i]\n",
    "\n",
    "        temp = 1\n",
    "        for _ in range(n - 1):\n",
    "            temp *= 2\n",
    "            temp %= mod\n",
    "\n",
    "        return cur * temp\n",
    "\n",
    "\n",
    "    mod = int(1e9) +7\n",
    "\n",
    "    for _ in range(int(input())):\n",
    "        n, m = map(int, input().split())\n",
    "        segs = [tuple(map(int, input().split())) for _ in range(m)]\n",
    "\n",
    "        segs.sort(key=lambda x: (x[0], x[1]))\n",
    "\n",
    "        li = [-1] * n\n",
    "        fr = 0\n",
    "        for l, r, x in segs:\n",
    "            l -= 1\n",
    "            r -= 1\n",
    "\n",
    "            if li[l] == -1:\n",
    "                li[l] = x\n",
    "            elif li[l] < x:\n",
    "                li[fr + 1] = x\n",
    "            elif li[l] > x:\n",
    "                li[r + 1] = li[l]\n",
    "                li[l] = x\n",
    "            fr = r\n",
    "\n",
    "        for i in range(n):\n",
    "            if li[i] == -1:\n",
    "                li[i] = 0\n",
    "\n",
    "        print(get_sum() % mod)\n",
    "\n",
    "\n",
    "    \n",
    "    \n",
    "    \n",
    "    \n",
    "    \n",
    "    \n",
    "    \n",
    "\n",
    "# region fastio\n",
    " \n",
    "BUFSIZE = 8192\n",
    " \n",
    "\n",
    "class FastIO(IOBase):\n",
    "    newlines = 0\n",
    " \n",
    "    def __init__(self, file):\n",
    "        self._fd = file.fileno()\n",
    "        self.buffer = BytesIO()\n",
    "        self.writable = \"x\" in file.mode or \"r\" not in file.mode\n",
    "        self.write = self.buffer.write if self.writable else None\n",
    " \n",
    "    def read(self):\n",
    "        while True:\n",
    "            b = os.read(self._fd, max(os.fstat(self._fd).st_size, BUFSIZE))\n",
    "            if not b:\n",
    "                break\n",
    "            ptr = self.buffer.tell()\n",
    "            self.buffer.seek(0, 2), self.buffer.write(b), self.buffer.seek(ptr)\n",
    "        self.newlines = 0\n",
    "        return self.buffer.read()\n",
    " \n",
    "    def readline(self):\n",
    "        while self.newlines == 0:\n",
    "            b = os.read(self._fd, max(os.fstat(self._fd).st_size, BUFSIZE))\n",
    "            self.newlines = b.count(b\"\\n\") + (not b)\n",
    "            ptr = self.buffer.tell()\n",
    "            self.buffer.seek(0, 2), self.buffer.write(b), self.buffer.seek(ptr)\n",
    "        self.newlines -= 1\n",
    "        return self.buffer.readline()\n",
    " \n",
    "    def flush(self):\n",
    "        if self.writable:\n",
    "            os.write(self._fd, self.buffer.getvalue())\n",
    "            self.buffer.truncate(0), self.buffer.seek(0)\n",
    " \n",
    " \n",
    "class IOWrapper(IOBase):\n",
    "    def __init__(self, file):\n",
    "        self.buffer = FastIO(file)\n",
    "        self.flush = self.buffer.flush\n",
    "        self.writable = self.buffer.writable\n",
    "        self.write = lambda s: self.buffer.write(s.encode(\"ascii\"))\n",
    "        self.read = lambda: self.buffer.read().decode(\"ascii\")\n",
    "        self.readline = lambda: self.buffer.readline().decode(\"ascii\")\n",
    " \n",
    " \n",
    "sys.stdin, sys.stdout = IOWrapper(sys.stdin), IOWrapper(sys.stdout)\n",
    "input = lambda: sys.stdin.readline().rstrip(\"\\r\\n\")\n",
    " \n",
    "# endregion\n",
    " \n",
    "if __name__ == \"__main__\":\n",
    "    main()"
   ]
  }
 ],
 "metadata": {
  "kernelspec": {
   "display_name": "Python 3",
   "language": "python",
   "name": "python3"
  },
  "language_info": {
   "codemirror_mode": {
    "name": "ipython",
    "version": 3
   },
   "file_extension": ".py",
   "mimetype": "text/x-python",
   "name": "python",
   "nbconvert_exporter": "python",
   "pygments_lexer": "ipython3",
   "version": "3.7.3"
  }
 },
 "nbformat": 4,
 "nbformat_minor": 4
}
