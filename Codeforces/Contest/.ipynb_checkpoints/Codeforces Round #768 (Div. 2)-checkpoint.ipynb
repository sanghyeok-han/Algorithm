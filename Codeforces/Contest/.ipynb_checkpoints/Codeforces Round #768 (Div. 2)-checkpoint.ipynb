{
 "cells": [
  {
   "cell_type": "markdown",
   "metadata": {},
   "source": [
    "A"
   ]
  },
  {
   "cell_type": "code",
   "execution_count": 2,
   "metadata": {},
   "outputs": [
    {
     "name": "stdout",
     "output_type": "stream",
     "text": [
      "5 1\n",
      "2 2 2 2 2\n",
      "100 100 100 100 100\n",
      "1\n"
     ]
    }
   ],
   "source": [
    "for _ in range(int(input())):\n",
    "    n, k = map(int, input().split())\n",
    "    a = list(map(int, input().split()))\n",
    "    b = list(map(int, input().split()))\n",
    "\n",
    "    li = [(a[i], b[i]) for i in range(n)]\n",
    "    li.sort(key=lambda x: x[0])\n",
    "\n",
    "    cur = k\n",
    "    for aa, bb in li:\n",
    "        if aa <= cur:\n",
    "            cur += bb\n",
    "        else:\n",
    "            break\n",
    "\n",
    "    print(cur)"
   ]
  },
  {
   "cell_type": "markdown",
   "metadata": {},
   "source": [
    "### B"
   ]
  },
  {
   "cell_type": "code",
   "execution_count": 4,
   "metadata": {},
   "outputs": [
    {
     "name": "stdout",
     "output_type": "stream",
     "text": [
      "1\n"
     ]
    }
   ],
   "source": [
    "from math import gcd\n",
    "\n",
    "li = [1, 2, 3, 4, 5, 6, 7]\n",
    "\n",
    "cur = li[0]\n",
    "for i in range(1, len(li)):\n",
    "    cur = gcd(cur, li[i])\n",
    "    \n",
    "print(cur)"
   ]
  },
  {
   "cell_type": "code",
   "execution_count": 16,
   "metadata": {},
   "outputs": [
    {
     "name": "stdout",
     "output_type": "stream",
     "text": [
      "9\n",
      "1 1 0\n",
      "NO\n",
      "3 5 1\n",
      "NO\n",
      "13 13 0\n",
      "YES\n",
      "4 4 0\n",
      "YES\n",
      "3 7 4\n",
      "YES\n",
      "4 10 3\n",
      "YES\n",
      "2 4 0\n",
      "NO\n",
      "1 7 3\n",
      "NO\n",
      "1 5 3\n",
      "YES\n"
     ]
    }
   ],
   "source": [
    "gons = lambda x: (x + 1) // 2 # get odd num sum\n",
    "\n",
    "for _ in range(int(input())):\n",
    "    l, r, k = map(int, input().split())\n",
    "\n",
    "    if l == r:\n",
    "        if l == 1:\n",
    "            print('NO')\n",
    "        else:\n",
    "            print('YES')\n",
    "    else:\n",
    "        needed = gons(r) - gons(l - 1)\n",
    "        if k >= needed:\n",
    "            print('YES')\n",
    "        else:\n",
    "            print('NO')"
   ]
  },
  {
   "cell_type": "markdown",
   "metadata": {},
   "source": [
    "### C"
   ]
  },
  {
   "cell_type": "code",
   "execution_count": 69,
   "metadata": {
    "scrolled": true
   },
   "outputs": [
    {
     "name": "stdout",
     "output_type": "stream",
     "text": [
      "1\n",
      "5\n",
      "1 0 2 0 3\n",
      "1\n",
      "4\n"
     ]
    }
   ],
   "source": [
    "from collections import deque\n",
    "\n",
    "for _ in range(int(input())):\n",
    "    n = int(input())\n",
    "    li = list(map(int, input().split()))\n",
    "\n",
    "    occurs = [deque() for _ in range(n + 1)]\n",
    "    for i in range(n):\n",
    "        occurs[li[i]].append(i)\n",
    "\n",
    "    r = []\n",
    "    former_max = -1\n",
    "    cur_max = 0\n",
    "    while True:\n",
    "        while occurs[0]:\n",
    "            if occurs[0][0] <= former_max:\n",
    "                occurs[0].popleft()\n",
    "            else:\n",
    "                break\n",
    "        if not occurs[0]:\n",
    "            break\n",
    "\n",
    "        for num in range(n + 1):\n",
    "            while occurs[num]:\n",
    "                if occurs[num][0] <= former_max:\n",
    "                    occurs[num].popleft()\n",
    "                else:\n",
    "                    break\n",
    "\n",
    "            if not occurs[num]:\n",
    "                r.append(num)\n",
    "                former_max = max(former_max, cur_max)\n",
    "                break\n",
    "            else:\n",
    "                cur_max = max(cur_max, occurs[num].popleft())\n",
    "        else:\n",
    "            r.append(num + 1)\n",
    "            former_max = max(former_max, cur_max)\n",
    "\n",
    "    for num in range(n + 1):\n",
    "        while occurs[num]:\n",
    "            if occurs[num][0] <= former_max:\n",
    "                occurs[num].popleft()\n",
    "            else:\n",
    "                break\n",
    "        r.extend([0] * len(occurs[num]))\n",
    "    \n",
    "    print(len(r))\n",
    "    print(*r)"
   ]
  },
  {
   "cell_type": "markdown",
   "metadata": {},
   "source": [
    "### D"
   ]
  },
  {
   "cell_type": "code",
   "execution_count": null,
   "metadata": {},
   "outputs": [],
   "source": []
  },
  {
   "cell_type": "markdown",
   "metadata": {},
   "source": [
    "### 제출본"
   ]
  },
  {
   "cell_type": "code",
   "execution_count": null,
   "metadata": {},
   "outputs": [],
   "source": [
    "import os\n",
    "import sys\n",
    "from io import BytesIO, IOBase\n",
    "\n",
    "## PYRIVAL BOOTSTRAP\n",
    "# https://github.com/cheran-senthil/PyRival/blob/master/pyrival/misc/bootstrap.py\n",
    "# This decorator allows for recursion without actually doing recursion\n",
    "from types import GeneratorType\n",
    "## @bootstrap, yield when getting and returning value in recursive functions\n",
    "\n",
    "\n",
    "def main():\n",
    "    from collections import deque\n",
    "    \n",
    "    for _ in range(int(input())):\n",
    "        n = int(input())\n",
    "        li = list(map(int, input().split()))\n",
    "\n",
    "        occurs = [deque() for _ in range(n + 1)]\n",
    "        for i in range(n):\n",
    "            occurs[li[i]].append(i)\n",
    "\n",
    "        r = []\n",
    "        former_max = -1\n",
    "        cur_max = 0\n",
    "        while True:\n",
    "            while occurs[0]:\n",
    "                if occurs[0][0] <= former_max:\n",
    "                    occurs[0].popleft()\n",
    "                else:\n",
    "                    break\n",
    "            if not occurs[0]:\n",
    "                break\n",
    "\n",
    "            for num in range(n + 1):\n",
    "                while occurs[num]:\n",
    "                    if occurs[num][0] <= former_max:\n",
    "                        occurs[num].popleft()\n",
    "                    else:\n",
    "                        break\n",
    "\n",
    "                if not occurs[num]:\n",
    "                    r.append(num)\n",
    "                    former_max = max(former_max, cur_max)\n",
    "                    break\n",
    "                else:\n",
    "                    cur_max = max(cur_max, occurs[num].popleft())\n",
    "            else:\n",
    "                r.append(num + 1)\n",
    "                former_max = max(former_max, cur_max)\n",
    "\n",
    "        for num in range(n + 1):\n",
    "            while occurs[num]:\n",
    "                if occurs[num][0] <= former_max:\n",
    "                    occurs[num].popleft()\n",
    "                else:\n",
    "                    break\n",
    "            r.extend([0] * len(occurs[num]))\n",
    "\n",
    "        print(*r)\n",
    "\n",
    "\n",
    "\n",
    "\n",
    "    \n",
    "# region fastio\n",
    " \n",
    "BUFSIZE = 8192\n",
    " \n",
    "\n",
    "class FastIO(IOBase):\n",
    "    newlines = 0\n",
    " \n",
    "    def __init__(self, file):\n",
    "        self._fd = file.fileno()\n",
    "        self.buffer = BytesIO()\n",
    "        self.writable = \"x\" in file.mode or \"r\" not in file.mode\n",
    "        self.write = self.buffer.write if self.writable else None\n",
    " \n",
    "    def read(self):\n",
    "        while True:\n",
    "            b = os.read(self._fd, max(os.fstat(self._fd).st_size, BUFSIZE))\n",
    "            if not b:\n",
    "                break\n",
    "            ptr = self.buffer.tell()\n",
    "            self.buffer.seek(0, 2), self.buffer.write(b), self.buffer.seek(ptr)\n",
    "        self.newlines = 0\n",
    "        return self.buffer.read()\n",
    " \n",
    "    def readline(self):\n",
    "        while self.newlines == 0:\n",
    "            b = os.read(self._fd, max(os.fstat(self._fd).st_size, BUFSIZE))\n",
    "            self.newlines = b.count(b\"\\n\") + (not b)\n",
    "            ptr = self.buffer.tell()\n",
    "            self.buffer.seek(0, 2), self.buffer.write(b), self.buffer.seek(ptr)\n",
    "        self.newlines -= 1\n",
    "        return self.buffer.readline()\n",
    " \n",
    "    def flush(self):\n",
    "        if self.writable:\n",
    "            os.write(self._fd, self.buffer.getvalue())\n",
    "            self.buffer.truncate(0), self.buffer.seek(0)\n",
    " \n",
    " \n",
    "class IOWrapper(IOBase):\n",
    "    def __init__(self, file):\n",
    "        self.buffer = FastIO(file)\n",
    "        self.flush = self.buffer.flush\n",
    "        self.writable = self.buffer.writable\n",
    "        self.write = lambda s: self.buffer.write(s.encode(\"ascii\"))\n",
    "        self.read = lambda: self.buffer.read().decode(\"ascii\")\n",
    "        self.readline = lambda: self.buffer.readline().decode(\"ascii\")\n",
    " \n",
    " \n",
    "sys.stdin, sys.stdout = IOWrapper(sys.stdin), IOWrapper(sys.stdout)\n",
    "input = lambda: sys.stdin.readline().rstrip(\"\\r\\n\")\n",
    " \n",
    "# endregion\n",
    " \n",
    "if __name__ == \"__main__\":\n",
    "    def bootstrap(f, stack=[]):\n",
    "        def wrappedfunc(*args, **kwargs):\n",
    "            if stack:\n",
    "                return f(*args, **kwargs)\n",
    "            else:\n",
    "                to = f(*args, **kwargs)\n",
    "                while True:\n",
    "                    if type(to) is GeneratorType:\n",
    "                        stack.append(to)\n",
    "                        to = next(to)\n",
    "                    else:\n",
    "                        stack.pop()\n",
    "                        if not stack:\n",
    "                            break\n",
    "                        to = stack[-1].send(to)\n",
    "                return to\n",
    "        return wrappedfunc\n",
    "    \n",
    "    ip = lambda: input()\n",
    "    iip = lambda: int(input())\n",
    "    miip = lambda: map(int, input().split())\n",
    "    liip = lambda: list(map(int, input().split()))\n",
    "    sip = lambda: input().split() # splitted input\n",
    "    lip = lambda: list(input())\n",
    "    \n",
    "    main()"
   ]
  }
 ],
 "metadata": {
  "kernelspec": {
   "display_name": "Python 3",
   "language": "python",
   "name": "python3"
  },
  "language_info": {
   "codemirror_mode": {
    "name": "ipython",
    "version": 3
   },
   "file_extension": ".py",
   "mimetype": "text/x-python",
   "name": "python",
   "nbconvert_exporter": "python",
   "pygments_lexer": "ipython3",
   "version": "3.7.4"
  }
 },
 "nbformat": 4,
 "nbformat_minor": 4
}
