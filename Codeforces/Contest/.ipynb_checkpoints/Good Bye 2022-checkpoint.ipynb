{
 "cells": [
  {
   "cell_type": "markdown",
   "metadata": {},
   "source": [
    "A"
   ]
  },
  {
   "cell_type": "code",
   "execution_count": null,
   "metadata": {},
   "outputs": [],
   "source": [
    "3 2\n",
    "1 2 3\n",
    "5 4"
   ]
  },
  {
   "cell_type": "code",
   "execution_count": null,
   "metadata": {},
   "outputs": [],
   "source": [
    "2 2 3 4 5\n",
    "6 3 4 2 7 1\n",
    "\n"
   ]
  },
  {
   "cell_type": "markdown",
   "metadata": {},
   "source": [
    "B"
   ]
  },
  {
   "cell_type": "code",
   "execution_count": 10,
   "metadata": {},
   "outputs": [
    {
     "name": "stdout",
     "output_type": "stream",
     "text": [
      "3\n",
      "5 3\n",
      "5 4 1 2 3\n",
      "5 1\n",
      "1 2 3 4 5\n",
      "6 6\n",
      "6 5 4 3 2 1\n"
     ]
    }
   ],
   "source": [
    "from collections import deque\n",
    "import io, os, sys\n",
    "# input = io.BytesIO(os.read(0,os.fstat(0).st_size)).readline\n",
    "\n",
    "for _ in range(int(input())):\n",
    "    n, k = map(int, input().split())\n",
    "\n",
    "    if k == 1:\n",
    "        print(*list(range(1, n + 1)))\n",
    "    else:\n",
    "        deq = deque(range(1, n + 1))\n",
    "\n",
    "        result = []\n",
    "        while deq:\n",
    "            for _ in range(k - 1):\n",
    "                if deq:\n",
    "                    result.append(deq.pop())\n",
    "                else:\n",
    "                    break\n",
    "\n",
    "            for _ in range(k - 1):\n",
    "                if deq:\n",
    "                    result.append(deq.popleft())\n",
    "                else:\n",
    "                    break\n",
    "\n",
    "        print(*result)"
   ]
  },
  {
   "cell_type": "markdown",
   "metadata": {},
   "source": [
    "C"
   ]
  },
  {
   "cell_type": "code",
   "execution_count": null,
   "metadata": {},
   "outputs": [],
   "source": [
    "같은 숫자 있으면 안됨, 홀홀, 짝짝 조합이 같이 있으면 안됨"
   ]
  },
  {
   "cell_type": "code",
   "execution_count": null,
   "metadata": {},
   "outputs": [],
   "source": [
    "2 4 6"
   ]
  },
  {
   "cell_type": "code",
   "execution_count": 12,
   "metadata": {},
   "outputs": [
    {
     "name": "stdout",
     "output_type": "stream",
     "text": [
      "3\n",
      "3 3 4\n",
      "NO\n"
     ]
    }
   ],
   "source": [
    "import io, os, sys\n",
    "# input = io.BytesIO(os.read(0,os.fstat(0).st_size)).readline\n",
    "\n",
    "for _ in range(int(input())):\n",
    "    n = int(input())\n",
    "    li = list(map(int, input().split()))\n",
    "\n",
    "    if len(set(li)) < n:\n",
    "        print('NO')\n",
    "    else:\n",
    "        even_d = 0\n",
    "        odd_d = 0\n",
    "        for i in range(n):\n",
    "            for j in range(i + 1, n):\n",
    "                if li[i] % 2 == 0 and li[j] % 2 == 0:\n",
    "                    even_d = True\n",
    "                if li[i] % 2 == 1 and li[j] % 2 == 1:\n",
    "                    odd_d = True\n",
    "\n",
    "        if even_d and odd_d:\n",
    "            print('NO')\n",
    "        else:\n",
    "            print('YES')"
   ]
  },
  {
   "cell_type": "code",
   "execution_count": 39,
   "metadata": {},
   "outputs": [
    {
     "name": "stdout",
     "output_type": "stream",
     "text": [
      "3 6 3 3\n",
      "4 7 3 1\n",
      "5 8 3 1\n",
      "6 9 3 3\n",
      "7 10 3 1\n",
      "8 11 3 1\n",
      "9 12 3 3\n",
      "10 13 3 1\n",
      "11 14 3 1\n",
      "12 15 3 3\n",
      "13 16 3 1\n",
      "14 17 3 1\n",
      "15 18 3 3\n",
      "16 19 3 1\n",
      "17 20 3 1\n",
      "18 21 3 3\n",
      "19 22 3 1\n"
     ]
    }
   ],
   "source": [
    "from math import gcd\n",
    "\n",
    "for a in range(3, 20):\n",
    "    b = a + 3\n",
    "    \n",
    "    print(a, b, b - a, gcd(a, b))"
   ]
  },
  {
   "cell_type": "markdown",
   "metadata": {},
   "source": [
    "A"
   ]
  },
  {
   "cell_type": "code",
   "execution_count": 26,
   "metadata": {},
   "outputs": [
    {
     "name": "stdout",
     "output_type": "stream",
     "text": [
      "5 3\n",
      "1 1 1 1 1\n",
      "1000000000 1000000000 1000000000\n",
      "3000000002\n"
     ]
    }
   ],
   "source": [
    "from heapq import heappush, heappop, heapify\n",
    "import io, os, sys\n",
    "input = io.BytesIO(os.read(0,os.fstat(0).st_size)).readline\n",
    "\n",
    "for _ in range(int(input())):\n",
    "    n, m = map(int, input().split())\n",
    "    heap = list(map(int, input().split()))\n",
    "    b = list(map(int, input().split()))\n",
    "\n",
    "    heapify(heap)\n",
    "    for v in b:\n",
    "        heappop(heap)\n",
    "        heappush(heap, v)\n",
    "\n",
    "    result = sum(heap)\n",
    "\n",
    "    print(result)"
   ]
  }
 ],
 "metadata": {
  "kernelspec": {
   "display_name": "Python 3",
   "language": "python",
   "name": "python3"
  },
  "language_info": {
   "codemirror_mode": {
    "name": "ipython",
    "version": 3
   },
   "file_extension": ".py",
   "mimetype": "text/x-python",
   "name": "python",
   "nbconvert_exporter": "python",
   "pygments_lexer": "ipython3",
   "version": "3.7.4"
  }
 },
 "nbformat": 4,
 "nbformat_minor": 2
}
