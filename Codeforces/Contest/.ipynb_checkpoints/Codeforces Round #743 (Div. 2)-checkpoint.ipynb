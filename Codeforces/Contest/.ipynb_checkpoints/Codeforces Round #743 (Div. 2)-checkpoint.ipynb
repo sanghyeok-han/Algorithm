{
 "cells": [
  {
   "cell_type": "markdown",
   "metadata": {},
   "source": [
    "### A. Countdown"
   ]
  },
  {
   "cell_type": "code",
   "execution_count": 3,
   "metadata": {},
   "outputs": [
    {
     "name": "stdout",
     "output_type": "stream",
     "text": [
      "7\n",
      "3\n",
      "007\n",
      "7\n",
      "4\n",
      "1000\n",
      "2\n",
      "5\n",
      "00000\n",
      "0\n",
      "3\n",
      "103\n",
      "5\n",
      "4\n",
      "2020\n",
      "6\n",
      "9\n",
      "123456789\n",
      "53\n",
      "30\n",
      "001678294039710047203946100020\n",
      "115\n"
     ]
    }
   ],
   "source": [
    "t = int(input())\n",
    "for _ in range(t):\n",
    "    n = int(input())\n",
    "    s = input()\n",
    "    \n",
    "    count = int(s[-1])\n",
    "    for i in range(n - 1):\n",
    "        if int(s[i]) > 0:\n",
    "            count += 1\n",
    "            count += int(s[i])\n",
    "            \n",
    "    print(count)"
   ]
  },
  {
   "cell_type": "markdown",
   "metadata": {},
   "source": [
    "### B. Swaps"
   ]
  },
  {
   "cell_type": "raw",
   "metadata": {},
   "source": [
    "a배열이 b배열보다 작게 만들기\n",
    "\n",
    "스왑 횟수는 a와 b의 필요한 각 원소가 맨 처음에 오게 하는 횟수로 충분함\n",
    "\n",
    "a에서 원하는 원소의 인덱스\n",
    "+\n",
    "b에서 원하는 원소의 인덱스"
   ]
  },
  {
   "cell_type": "code",
   "execution_count": 24,
   "metadata": {},
   "outputs": [
    {
     "name": "stdout",
     "output_type": "stream",
     "text": [
      "1\n",
      "4\n",
      "7 3 5 1\n",
      "2 4 6 8\n",
      "2\n"
     ]
    }
   ],
   "source": [
    "t = int(input())\n",
    "for _ in range(t):\n",
    "    n = int(input())\n",
    "    a = list(map(int, input().split()))\n",
    "    b = list(map(int, input().split()))  \n",
    "    \n",
    "    if a[0] < b[0]:\n",
    "        print(0)\n",
    "    else:\n",
    "        c1 = float('inf')\n",
    "        if a[1] < b[1]:\n",
    "            c1 = 2\n",
    "        \n",
    "        # fixed a index case\n",
    "        cb = float('inf')\n",
    "        for i in range(1, n):\n",
    "            if a[0] < b[i]:\n",
    "                cb = i\n",
    "                break\n",
    "        ca = float('inf')\n",
    "        for i in range(1, n):\n",
    "            if a[i] < b[0]:\n",
    "                ca = i\n",
    "                break\n",
    "                \n",
    "        print(min(c1, ca, cb))"
   ]
  },
  {
   "cell_type": "code",
   "execution_count": 28,
   "metadata": {},
   "outputs": [
    {
     "name": "stdout",
     "output_type": "stream",
     "text": [
      "1\n",
      "4\n",
      "7 3 5 1\n",
      "2 4 6 8\n",
      "2\n"
     ]
    }
   ],
   "source": [
    "t = int(input())\n",
    "for _ in range(t):\n",
    "    n = int(input())\n",
    "    a = list(map(int, input().split()))\n",
    "    b = list(map(int, input().split()))  \n",
    "\n",
    "    if a[0] < b[0]:\n",
    "        print(0)\n",
    "    else:\n",
    "        c1 = float('inf')\n",
    "        for i in range(1, n):\n",
    "            if a[i] < b[i]:\n",
    "                c1 = i * 2\n",
    "                break\n",
    "\n",
    "        # fixed a index case\n",
    "        cb = float('inf')\n",
    "        for i in range(1, n):\n",
    "            if a[0] < b[i]:\n",
    "                cb = i\n",
    "                break\n",
    "        ca = float('inf')\n",
    "        for i in range(1, n):\n",
    "            if a[i] < b[0]:\n",
    "                ca = i\n",
    "                break\n",
    "\n",
    "        print(min(c1, ca, cb))"
   ]
  },
  {
   "cell_type": "markdown",
   "metadata": {},
   "source": [
    "### C. Book"
   ]
  },
  {
   "cell_type": "code",
   "execution_count": 19,
   "metadata": {},
   "outputs": [
    {
     "name": "stdout",
     "output_type": "stream",
     "text": [
      "5\n",
      "4\n",
      "1 2\n",
      "0\n",
      "2 1 4\n",
      "1 2\n",
      "2\n",
      "5\n",
      "1 5\n",
      "1 1\n",
      "1 2\n",
      "1 3\n",
      "1 4\n",
      "-1\n",
      "5\n",
      "0\n",
      "0\n",
      "2 1 2\n",
      "1 2\n",
      "2 2 1\n",
      "1\n",
      "4\n",
      "2 2 3\n",
      "0\n",
      "0\n",
      "2 3 2\n",
      "2\n",
      "5\n",
      "1 2\n",
      "1 3\n",
      "1 4\n",
      "1 5\n",
      "0\n",
      "5\n"
     ]
    }
   ],
   "source": [
    "from heapq import heappush, heappop\n",
    "\n",
    "for _ in range(int(input())):\n",
    "    n = int(input())\n",
    "    \n",
    "    indegree = [0] * (n + 1)\n",
    "    pres = [[] for _ in range(n + 1)]\n",
    "    posts = [[] for _ in range(n + 1)]\n",
    "    for t in range(1, n + 1):\n",
    "        temp = list(map(int, input().split()))\n",
    "        for f in temp[1:]:\n",
    "#             pres[t].append(f)\n",
    "            indegree[t] += 1\n",
    "            posts[f].append(t)\n",
    "    \n",
    "    heap = []\n",
    "    for i in range(1, n + 1):\n",
    "        if indegree[i] == 0:\n",
    "            heappush(heap, (1, i))\n",
    "    \n",
    "#     print(indegree)\n",
    "#     print(pres)\n",
    "#     print(posts)\n",
    "    count = 0\n",
    "    max_c = 0\n",
    "    while heap:\n",
    "        c, value = heappop(heap)\n",
    "#         print(c, value)\n",
    "        max_c = max(max_c, c)\n",
    "        count += 1\n",
    "        \n",
    "        for v in posts[value]:\n",
    "            indegree[v] -= 1\n",
    "            if indegree[v] == 0:\n",
    "                if value < v:\n",
    "                    heappush(heap, (c, v))\n",
    "                else:\n",
    "                    heappush(heap, (c + 1, v))\n",
    "\n",
    "#     print(222, count)\n",
    "    if count < n:\n",
    "        print(-1)\n",
    "    else:\n",
    "        print(max_c)"
   ]
  },
  {
   "cell_type": "code",
   "execution_count": null,
   "metadata": {},
   "outputs": [],
   "source": [
    "1 2\n",
    "2 1\n",
    "2 4\n",
    "3 3"
   ]
  },
  {
   "cell_type": "code",
   "execution_count": null,
   "metadata": {},
   "outputs": [],
   "source": [
    "1\n",
    "4\n",
    "1 2\n",
    "0\n",
    "2 1 4\n",
    "1 2"
   ]
  },
  {
   "cell_type": "code",
   "execution_count": 10,
   "metadata": {},
   "outputs": [
    {
     "data": {
      "text/plain": [
       "[1, 1, 1, 1, 0, 0]"
      ]
     },
     "execution_count": 10,
     "metadata": {},
     "output_type": "execute_result"
    }
   ],
   "source": [
    "1\n",
    "5\n",
    "1 2\n",
    "1 3\n",
    "1 4\n",
    "1 5\n",
    "0\n",
    "-1"
   ]
  },
  {
   "cell_type": "markdown",
   "metadata": {},
   "source": [
    "### 제출용 파트"
   ]
  },
  {
   "cell_type": "code",
   "execution_count": null,
   "metadata": {},
   "outputs": [],
   "source": [
    "import os\n",
    "import sys\n",
    "from io import BytesIO, IOBase\n",
    " \n",
    "\n",
    "def main():\n",
    "    t = int(input())\n",
    "    for _ in range(t):\n",
    "        n = int(input())\n",
    "        a = list(map(int, input().split()))\n",
    "        b = list(map(int, input().split()))  \n",
    " \n",
    "        if a[0] < b[0]:\n",
    "            print(0)\n",
    "        else:\n",
    "            c1 = float('inf')\n",
    "            for i in range(1, n):\n",
    "                if a[i] < b[i]:\n",
    "                    c1 = i * 2\n",
    "                    break\n",
    " \n",
    "            # fixed a index case\n",
    "            cb = float('inf')\n",
    "            for i in range(1, n):\n",
    "                if a[0] < b[i]:\n",
    "                    cb = i\n",
    "                    break\n",
    "            ca = float('inf')\n",
    "            for i in range(1, n):\n",
    "                if a[i] < b[0]:\n",
    "                    ca = i\n",
    "                    break\n",
    " \n",
    "            print(min(c1, ca, cb))\n",
    "    \n",
    "\n",
    "# region fastio\n",
    " \n",
    "BUFSIZE = 8192\n",
    " \n",
    "\n",
    "class FastIO(IOBase):\n",
    "    newlines = 0\n",
    " \n",
    "    def __init__(self, file):\n",
    "        self._fd = file.fileno()\n",
    "        self.buffer = BytesIO()\n",
    "        self.writable = \"x\" in file.mode or \"r\" not in file.mode\n",
    "        self.write = self.buffer.write if self.writable else None\n",
    " \n",
    "    def read(self):\n",
    "        while True:\n",
    "            b = os.read(self._fd, max(os.fstat(self._fd).st_size, BUFSIZE))\n",
    "            if not b:\n",
    "                break\n",
    "            ptr = self.buffer.tell()\n",
    "            self.buffer.seek(0, 2), self.buffer.write(b), self.buffer.seek(ptr)\n",
    "        self.newlines = 0\n",
    "        return self.buffer.read()\n",
    " \n",
    "    def readline(self):\n",
    "        while self.newlines == 0:\n",
    "            b = os.read(self._fd, max(os.fstat(self._fd).st_size, BUFSIZE))\n",
    "            self.newlines = b.count(b\"\\n\") + (not b)\n",
    "            ptr = self.buffer.tell()\n",
    "            self.buffer.seek(0, 2), self.buffer.write(b), self.buffer.seek(ptr)\n",
    "        self.newlines -= 1\n",
    "        return self.buffer.readline()\n",
    " \n",
    "    def flush(self):\n",
    "        if self.writable:\n",
    "            os.write(self._fd, self.buffer.getvalue())\n",
    "            self.buffer.truncate(0), self.buffer.seek(0)\n",
    " \n",
    " \n",
    "class IOWrapper(IOBase):\n",
    "    def __init__(self, file):\n",
    "        self.buffer = FastIO(file)\n",
    "        self.flush = self.buffer.flush\n",
    "        self.writable = self.buffer.writable\n",
    "        self.write = lambda s: self.buffer.write(s.encode(\"ascii\"))\n",
    "        self.read = lambda: self.buffer.read().decode(\"ascii\")\n",
    "        self.readline = lambda: self.buffer.readline().decode(\"ascii\")\n",
    " \n",
    " \n",
    "sys.stdin, sys.stdout = IOWrapper(sys.stdin), IOWrapper(sys.stdout)\n",
    "input = lambda: sys.stdin.readline().rstrip(\"\\r\\n\")\n",
    " \n",
    "# endregion\n",
    " \n",
    "if __name__ == \"__main__\":\n",
    "    main()"
   ]
  }
 ],
 "metadata": {
  "kernelspec": {
   "display_name": "Python 3",
   "language": "python",
   "name": "python3"
  },
  "language_info": {
   "codemirror_mode": {
    "name": "ipython",
    "version": 3
   },
   "file_extension": ".py",
   "mimetype": "text/x-python",
   "name": "python",
   "nbconvert_exporter": "python",
   "pygments_lexer": "ipython3",
   "version": "3.7.3"
  }
 },
 "nbformat": 4,
 "nbformat_minor": 4
}
