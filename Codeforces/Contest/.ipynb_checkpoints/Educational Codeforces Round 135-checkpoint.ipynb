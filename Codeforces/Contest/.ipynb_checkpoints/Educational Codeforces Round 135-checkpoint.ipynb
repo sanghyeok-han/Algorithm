{
 "cells": [
  {
   "cell_type": "markdown",
   "metadata": {},
   "source": [
    "A"
   ]
  },
  {
   "cell_type": "code",
   "execution_count": 4,
   "metadata": {},
   "outputs": [
    {
     "name": "stdout",
     "output_type": "stream",
     "text": [
      "1\n",
      "2\n",
      "4 7\n",
      "2\n"
     ]
    }
   ],
   "source": [
    "import sys\n",
    "input = lambda: sys.stdin.readline().rstrip()\n",
    "\n",
    "for _ in range(int(input())):\n",
    "    n = int(input())\n",
    "    li = list(map(int, input().split()))\n",
    "\n",
    "    r = -1\n",
    "    max_v = -1\n",
    "    for i in range(n):\n",
    "        if li[i] > max_v:\n",
    "            max_v = li[i]\n",
    "            r = i + 1\n",
    "\n",
    "    print(r)"
   ]
  },
  {
   "cell_type": "markdown",
   "metadata": {},
   "source": [
    "https://codeforces.com/contest/1728/problem/B B. Best Permutation"
   ]
  },
  {
   "cell_type": "code",
   "execution_count": 11,
   "metadata": {},
   "outputs": [
    {
     "name": "stdout",
     "output_type": "stream",
     "text": [
      "4\n",
      "2 1 3 4\n"
     ]
    }
   ],
   "source": [
    "import sys\n",
    "input = lambda: sys.stdin.readline().rstrip()\n",
    "\n",
    "for _ in range(int(input())):\n",
    "    n = int(input())\n",
    "\n",
    "    if n % 2 == 0:\n",
    "        r = list(range(n - 2, 0, -1)) + [n - 1, n]\n",
    "    else:\n",
    "        r = [1, 2, 3] + list(range(n - 2, 3, -1)) + [n - 1, n]\n",
    "\n",
    "    print(*r)"
   ]
  },
  {
   "cell_type": "markdown",
   "metadata": {},
   "source": [
    "https://codeforces.com/contest/1728/problem/C C. Digital Logarithm"
   ]
  },
  {
   "cell_type": "code",
   "execution_count": 27,
   "metadata": {},
   "outputs": [
    {
     "name": "stdout",
     "output_type": "stream",
     "text": [
      "10\n",
      "75019 709259 5 611271314 9024533 81871864 9 3 6 4865\n",
      "9503 2 371245467 6 7 37376159 8 364036498 52295554 169\n",
      "18\n"
     ]
    }
   ],
   "source": [
    "from collections import defaultdict as dd\n",
    "import sys\n",
    "input = lambda: sys.stdin.readline().rstrip()\n",
    "\n",
    "for _ in range(int(input())):\n",
    "    n = int(input())\n",
    "    a = list(map(int, input().split()))\n",
    "    b = list(map(int, input().split()))\n",
    "\n",
    "    a_ct = dd(int)\n",
    "    b_ct = dd(int)\n",
    "    for i in range(n):\n",
    "        a_ct[str(a[i])] += 1\n",
    "        b_ct[str(b[i])] += 1\n",
    "\n",
    "    for key in a_ct:\n",
    "        if key in b_ct:\n",
    "            c = min(a_ct[key], b_ct[key])\n",
    "            a_ct[key] -= c\n",
    "            b_ct[key] -= c\n",
    "\n",
    "    total = 0\n",
    "\n",
    "    for key in list(a_ct.keys()):\n",
    "        if a_ct[key] and len(key) >= 2:\n",
    "            total += a_ct[key]\n",
    "            a_ct[str(len(key))] += a_ct[key]\n",
    "            del a_ct[key]\n",
    "\n",
    "    for key in list(b_ct.keys()):\n",
    "        if b_ct[key] and len(key) >= 2:\n",
    "            total += b_ct[key]\n",
    "            b_ct[str(len(key))] += b_ct[key]\n",
    "            del b_ct[key]\n",
    "\n",
    "    for key in a_ct:\n",
    "        if key in b_ct:\n",
    "            c = min(a_ct[key], b_ct[key])\n",
    "            a_ct[key] -= c\n",
    "            b_ct[key] -= c\n",
    "\n",
    "    for key in a_ct:\n",
    "        if a_ct[key]:\n",
    "            if key != '1':\n",
    "                total += a_ct[key]\n",
    "\n",
    "    for key in b_ct:\n",
    "        if b_ct[key]:\n",
    "            if key != '1':\n",
    "                total += b_ct[key]\n",
    "\n",
    "    print(total)"
   ]
  },
  {
   "cell_type": "markdown",
   "metadata": {},
   "source": [
    "D"
   ]
  },
  {
   "cell_type": "code",
   "execution_count": null,
   "metadata": {},
   "outputs": [],
   "source": [
    "가장 큰 수가 하나 있으면 Bob이 마지막에 그것을 가져갈 수밖에 없으므로 Alice가 승리함\n",
    "\n"
   ]
  },
  {
   "cell_type": "code",
   "execution_count": null,
   "metadata": {},
   "outputs": [],
   "source": [
    "# 틀렸음\n",
    "import sys\n",
    "input = lambda: sys.stdin.readline().rstrip()\n",
    "\n",
    "for _ in range(int(input())):\n",
    "    li = list(map(ord, input()))\n",
    "    n = len(li)\n",
    "\n",
    "    is_palin = True\n",
    "    for i in range(n // 2):\n",
    "        if li[i] != li[n - 1 - i]:\n",
    "            is_palin = False\n",
    "            break\n",
    "\n",
    "    is_inc = True\n",
    "    for i in range(n // 2):\n",
    "        if li[i] > li[i + 1]:\n",
    "            is_inc = False\n",
    "            break\n",
    "\n",
    "    if is_palin and is_inc:\n",
    "        print('Draw')\n",
    "    else:\n",
    "        print('Alice')"
   ]
  },
  {
   "cell_type": "code",
   "execution_count": null,
   "metadata": {},
   "outputs": [],
   "source": [
    "비기는 경우들\n",
    "\n",
    "abba\n",
    "aabb\n",
    "baab"
   ]
  },
  {
   "cell_type": "code",
   "execution_count": 2,
   "metadata": {},
   "outputs": [
    {
     "name": "stdout",
     "output_type": "stream",
     "text": [
      "4\n",
      "abab\n",
      "Alice\n",
      "sdf\n",
      "Alice\n",
      "aabb\n",
      "Draw\n",
      "sdf\n",
      "Alice\n"
     ]
    }
   ],
   "source": [
    "import sys\n",
    "sys.setrecursionlimit(50000)\n",
    "# input = lambda: sys.stdin.readline().rstrip()\n",
    "\n",
    "def recur(player, start, end, alice_selected=0):\n",
    "    if dp[start][end] != -1:\n",
    "        return dp[start][end]\n",
    "    \n",
    "    if player == 0:\n",
    "        is_alice_win = False\n",
    "        \n",
    "        alice_selected = start\n",
    "        if not recur(1, start + 1, end, alice_selected):\n",
    "            is_alice_win = True\n",
    "        alice_selected = end\n",
    "        if not recur(1, start, end - 1, alice_selected):\n",
    "            is_alice_win = True\n",
    "\n",
    "        dp[start][end] = is_alice_win\n",
    "        return is_alice_win\n",
    "    else:\n",
    "        is_defended = False\n",
    "        if li[start] == li[alice_selected]:\n",
    "            if start == end or not recur(0, start + 1, end):\n",
    "                is_defended = True\n",
    "        if li[end] == li[alice_selected]:\n",
    "            if start == end or not recur(0, start, end - 1):\n",
    "                is_defended = True\n",
    "                \n",
    "        dp[start][end] = is_defended\n",
    "        return is_defended\n",
    "\n",
    "for _ in range(int(input())):\n",
    "    li = list(map(ord, input()))\n",
    "    n = len(li)\n",
    "\n",
    "    dp = [[-1] * n for _ in range(n)]\n",
    "\n",
    "    if recur(0, 0, n - 1, 0):\n",
    "        print('Alice')\n",
    "    else:\n",
    "        print('Draw')"
   ]
  }
 ],
 "metadata": {
  "kernelspec": {
   "display_name": "Python 3",
   "language": "python",
   "name": "python3"
  },
  "language_info": {
   "codemirror_mode": {
    "name": "ipython",
    "version": 3
   },
   "file_extension": ".py",
   "mimetype": "text/x-python",
   "name": "python",
   "nbconvert_exporter": "python",
   "pygments_lexer": "ipython3",
   "version": "3.7.4"
  }
 },
 "nbformat": 4,
 "nbformat_minor": 2
}
