{
 "cells": [
  {
   "cell_type": "markdown",
   "metadata": {},
   "source": [
    "A"
   ]
  },
  {
   "cell_type": "code",
   "execution_count": 12,
   "metadata": {},
   "outputs": [
    {
     "name": "stdout",
     "output_type": "stream",
     "text": [
      "10 5\n",
      "bcdxedbcfg\n",
      "aaaaa\n"
     ]
    }
   ],
   "source": [
    "from collections import Counter\n",
    "import sys\n",
    "input = lambda: sys.stdin.readline().rstrip()\n",
    "\n",
    "for _ in range(int(input())):\n",
    "    n, k = map(int, input().split())\n",
    "    ct = Counter(map(ord, input()))\n",
    "\n",
    "    each = n // k\n",
    "    result = []\n",
    "\n",
    "    for _ in range(k):\n",
    "        cur = 0\n",
    "        to_find = 97\n",
    "        for v in range(97, 122):\n",
    "            if v in ct and ct[v] >= 1:\n",
    "                to_find += 1\n",
    "                ct[v] -= 1\n",
    "                cur += 1\n",
    "            else:\n",
    "                break\n",
    "            if cur == each:\n",
    "                break\n",
    "        result.append(chr(to_find))\n",
    "\n",
    "    result = ''.join(result)\n",
    "\n",
    "    print(result)"
   ]
  },
  {
   "cell_type": "markdown",
   "metadata": {},
   "source": [
    "B"
   ]
  },
  {
   "cell_type": "code",
   "execution_count": 14,
   "metadata": {},
   "outputs": [
    {
     "name": "stdout",
     "output_type": "stream",
     "text": [
      "1 1\n",
      "2 1\n",
      "3 1\n",
      "4 2\n",
      "6 2\n",
      "8 2\n",
      "9 3\n",
      "12 3\n",
      "15 3\n",
      "16 4\n",
      "20 4\n",
      "24 4\n",
      "25 5\n",
      "30 5\n",
      "35 5\n",
      "36 6\n",
      "42 6\n",
      "48 6\n",
      "49 7\n",
      "56 7\n",
      "63 7\n",
      "64 8\n",
      "72 8\n",
      "80 8\n",
      "81 9\n",
      "90 9\n",
      "99 9\n"
     ]
    }
   ],
   "source": [
    "for num in range(1, 100):\n",
    "    snum = int(num ** 0.5)\n",
    "    \n",
    "    if num % snum == 0:\n",
    "        print(num, snum)"
   ]
  },
  {
   "cell_type": "code",
   "execution_count": 39,
   "metadata": {},
   "outputs": [
    {
     "name": "stdout",
     "output_type": "stream",
     "text": [
      "1\n",
      "8 19\n",
      "5\n"
     ]
    }
   ],
   "source": [
    "import sys\n",
    "input = lambda: sys.stdin.readline().rstrip()\n",
    "\n",
    "def get_r(num):\n",
    "    max_p_start = int(num ** 0.5)\n",
    "\n",
    "    r = (max_p_start - 1) * 3 + 1\n",
    "    if max_p_start * (max_p_start + 1) <= num:\n",
    "        r += 1\n",
    "    if max_p_start * (max_p_start + 2) <= num:\n",
    "        r += 1\n",
    "\n",
    "    return r\n",
    "\n",
    "for _ in range(int(input())):\n",
    "    l, r = map(int, input().split())\n",
    "    \n",
    "    result = get_r(r) - get_r(l - 1)\n",
    "    \n",
    "    print(result)"
   ]
  },
  {
   "cell_type": "markdown",
   "metadata": {},
   "source": [
    "C"
   ]
  },
  {
   "cell_type": "code",
   "execution_count": 42,
   "metadata": {},
   "outputs": [
    {
     "name": "stdout",
     "output_type": "stream",
     "text": [
      "8\n",
      "7 2 8 2 7 1\n",
      "5 1\n",
      "7 2\n",
      "NO\n"
     ]
    }
   ],
   "source": [
    "import sys\n",
    "input = lambda: sys.stdin.readline().rstrip()\n",
    "\n",
    "def check_diag(r, c):\n",
    "    if r < 1 or r > n or c < 1 or c > n:\n",
    "        return False\n",
    "    \n",
    "    if x - r == y - c:\n",
    "        return True\n",
    "    if x - r == c - y:\n",
    "        return True\n",
    "    \n",
    "for _ in range(int(input())):\n",
    "    n = int(input())\n",
    "    r1, c1, r2, c2, r3, c3 = map(int, input().split())\n",
    "    x, y = map(int, input().split())\n",
    "\n",
    "    mid_r = -1\n",
    "    mid_c = -1\n",
    "    if r1 == r2:\n",
    "        mid_r = r1\n",
    "    else:\n",
    "        mid_r = r3\n",
    "\n",
    "    if c1 == c2:\n",
    "        mid_c = c1\n",
    "    else:\n",
    "        mid_c = c3\n",
    "    \n",
    "    ip = False\n",
    "    if mid_r in [1, n] and mid_c in [1, n]:\n",
    "        if x == mid_r or y == mid_c:\n",
    "            ip = True\n",
    "    else:\n",
    "        if x % 2 == mid_r % 2:\n",
    "            ip = True\n",
    "        if y % 2 == mid_c % 2:\n",
    "            ip = True\n",
    "            \n",
    "    if ip:\n",
    "        print('YES')\n",
    "    else:\n",
    "        print('NO')"
   ]
  },
  {
   "cell_type": "markdown",
   "metadata": {},
   "source": [
    "D"
   ]
  },
  {
   "cell_type": "code",
   "execution_count": 45,
   "metadata": {},
   "outputs": [
    {
     "data": {
      "text/plain": [
       "125000000"
      ]
     },
     "execution_count": 45,
     "metadata": {},
     "output_type": "execute_result"
    }
   ],
   "source": [
    "사용이 필요한 와이어만 움직이면 됨. 즉 wi * 2가 됨"
   ]
  },
  {
   "cell_type": "code",
   "execution_count": 51,
   "metadata": {},
   "outputs": [
    {
     "name": "stdout",
     "output_type": "stream",
     "text": [
      "1\n",
      "8 9\n",
      "1 2 3\n",
      "6 4 5\n",
      "3 5 6\n",
      "6 1 3\n",
      "7 4 4\n",
      "3 8 4\n",
      "2 3 3\n",
      "7 8 5\n",
      "4 5 2\n",
      "6\n"
     ]
    }
   ],
   "source": [
    "inf = float('inf')\n",
    "\n",
    "for _ in range(int(input())):\n",
    "    n, m = map(int, input().split())\n",
    "\n",
    "    nli = [[inf] * n for _ in range(n)]\n",
    "    for i in range(n):\n",
    "        nli[i][i] = 0\n",
    "\n",
    "    for _ in range(m):\n",
    "        u, v, w = map(int, input().split())\n",
    "        u -= 1\n",
    "        v -= 1\n",
    "\n",
    "        nli[u][v] = min(nli[u][v], w)\n",
    "        nli[v][u] = min(nli[v][u], w)\n",
    "\n",
    "    for mid in range(n):\n",
    "        for i in range(n):\n",
    "            for j in range(n):\n",
    "                if mid == i or mid == j or i == j:\n",
    "                    continue\n",
    "\n",
    "                t1 = nli[i][mid] + nli[mid][j]\n",
    "                t2 = nli[i][mid] * 2\n",
    "                t3 = nli[mid][j] * 2\n",
    "\n",
    "                nli[i][j] = min(nli[i][j], t1, t2, t3)\n",
    "\n",
    "    print(nli[0][n - 1])"
   ]
  },
  {
   "cell_type": "code",
   "execution_count": 52,
   "metadata": {},
   "outputs": [
    {
     "name": "stdout",
     "output_type": "stream",
     "text": [
      "[0, 3, 6, 4, 4, 3, 6, 6]\n",
      "[3, 0, 3, 4, 4, 6, 6, 6]\n",
      "[6, 3, 0, 4, 4, 6, 6, 4]\n",
      "[4, 4, 4, 0, 2, 4, 4, 4]\n",
      "[4, 4, 4, 2, 0, 4, 4, 4]\n",
      "[3, 6, 6, 4, 4, 0, 6, 6]\n",
      "[6, 6, 6, 4, 4, 6, 0, 5]\n",
      "[6, 6, 4, 4, 4, 6, 5, 0]\n"
     ]
    }
   ],
   "source": [
    "for v in nli:\n",
    "    print(v)"
   ]
  },
  {
   "cell_type": "code",
   "execution_count": 47,
   "metadata": {},
   "outputs": [
    {
     "data": {
      "text/plain": [
       "[[0, 0, 0, 0], [0, 0, 0, 0], [0, 0, 0, 0], [0, 0, 0, 0]]"
      ]
     },
     "execution_count": 47,
     "metadata": {},
     "output_type": "execute_result"
    }
   ],
   "source": [
    "nli"
   ]
  }
 ],
 "metadata": {
  "kernelspec": {
   "display_name": "Python 3",
   "language": "python",
   "name": "python3"
  },
  "language_info": {
   "codemirror_mode": {
    "name": "ipython",
    "version": 3
   },
   "file_extension": ".py",
   "mimetype": "text/x-python",
   "name": "python",
   "nbconvert_exporter": "python",
   "pygments_lexer": "ipython3",
   "version": "3.7.4"
  }
 },
 "nbformat": 4,
 "nbformat_minor": 2
}
