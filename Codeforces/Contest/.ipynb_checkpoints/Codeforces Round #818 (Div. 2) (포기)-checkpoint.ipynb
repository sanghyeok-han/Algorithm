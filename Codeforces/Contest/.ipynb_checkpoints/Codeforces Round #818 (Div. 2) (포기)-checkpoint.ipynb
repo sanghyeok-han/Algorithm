{
 "cells": [
  {
   "cell_type": "markdown",
   "metadata": {},
   "source": [
    "A"
   ]
  },
  {
   "cell_type": "code",
   "execution_count": 23,
   "metadata": {},
   "outputs": [
    {
     "name": "stdout",
     "output_type": "stream",
     "text": [
      "100000000\n",
      "266666666\n"
     ]
    }
   ],
   "source": [
    "import sys\n",
    "input = lambda: sys.stdin.readline().rstrip()\n",
    "\n",
    "for _ in range(int(input())):\n",
    "    n = int(input())\n",
    "\n",
    "    r = n + n // 2 * 2 + n // 3 * 2\n",
    "\n",
    "    print(r)"
   ]
  },
  {
   "cell_type": "markdown",
   "metadata": {},
   "source": [
    "B"
   ]
  },
  {
   "cell_type": "code",
   "execution_count": 32,
   "metadata": {},
   "outputs": [
    {
     "name": "stdout",
     "output_type": "stream",
     "text": [
      "2 1 1 2\n",
      "XX\n",
      "XX\n"
     ]
    }
   ],
   "source": [
    "import sys\n",
    "input = lambda: sys.stdin.readline().rstrip()\n",
    "\n",
    "for _ in range(int(input())):\n",
    "    n, k, r, c = map(int, input().split())\n",
    "\n",
    "    li = [[False] * n for _ in range(n)]\n",
    "\n",
    "    rr = (r - 1) % k\n",
    "    cc = (c - 1) % k\n",
    "\n",
    "    li[rr][cc] = True\n",
    "    for _ in range(k - 1):\n",
    "        rr += 1\n",
    "        cc += 1\n",
    "\n",
    "        rr %= k\n",
    "        cc %= k\n",
    "\n",
    "        li[rr][cc] = True\n",
    "\n",
    "    for i in range(n):\n",
    "        for j in range(n):\n",
    "            if li[i][j]:\n",
    "                if j + k < n:\n",
    "                    li[i][j + k] = True\n",
    "                else:\n",
    "                    break\n",
    "\n",
    "    for j in range(n):\n",
    "        for i in range(n):\n",
    "            if li[i][j]:\n",
    "                if i + k < n:\n",
    "                    li[i + k][j] = True\n",
    "                else:\n",
    "                    break\n",
    "\n",
    "\n",
    "    for i in range(n):\n",
    "        for j in range(n):\n",
    "            if li[i][j]:\n",
    "                print('X', end='')\n",
    "            else:\n",
    "                print('.', end='')\n",
    "        print()"
   ]
  }
 ],
 "metadata": {
  "kernelspec": {
   "display_name": "Python 3",
   "language": "python",
   "name": "python3"
  },
  "language_info": {
   "codemirror_mode": {
    "name": "ipython",
    "version": 3
   },
   "file_extension": ".py",
   "mimetype": "text/x-python",
   "name": "python",
   "nbconvert_exporter": "python",
   "pygments_lexer": "ipython3",
   "version": "3.7.4"
  }
 },
 "nbformat": 4,
 "nbformat_minor": 2
}
