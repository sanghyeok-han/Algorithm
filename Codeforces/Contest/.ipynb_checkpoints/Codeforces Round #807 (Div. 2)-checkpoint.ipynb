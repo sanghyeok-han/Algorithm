{
 "cells": [
  {
   "cell_type": "markdown",
   "metadata": {},
   "source": [
    "A"
   ]
  },
  {
   "cell_type": "code",
   "execution_count": 1,
   "metadata": {},
   "outputs": [
    {
     "data": {
      "text/plain": [
       "10000"
      ]
     },
     "execution_count": 1,
     "metadata": {},
     "output_type": "execute_result"
    }
   ],
   "source": [
    "100 * 100"
   ]
  },
  {
   "cell_type": "code",
   "execution_count": null,
   "metadata": {},
   "outputs": [],
   "source": [
    "1 3 9 10 12 16\n",
    "\n",
    "1 3 9\n",
    "10 12 16"
   ]
  },
  {
   "cell_type": "code",
   "execution_count": 4,
   "metadata": {},
   "outputs": [
    {
     "name": "stdout",
     "output_type": "stream",
     "text": [
      "1 2\n",
      "8 6\n",
      "YES\n"
     ]
    }
   ],
   "source": [
    "import sys, os, io\n",
    "input = io.BytesIO(os.read(0,os.fstat(0).st_size)).readline\n",
    "\n",
    "for _ in range(int(input())):\n",
    "    n, x = map(int, input().split())\n",
    "    li = sorted(map(int, input().split()))\n",
    "\n",
    "    ip = True\n",
    "    for i in range(n):\n",
    "        if li[i] + x > li[i + n]:\n",
    "            ip = False\n",
    "            break\n",
    "\n",
    "    if not ip:\n",
    "        print('NO')\n",
    "    else:\n",
    "        print('YES')"
   ]
  },
  {
   "cell_type": "markdown",
   "metadata": {},
   "source": [
    "B"
   ]
  },
  {
   "cell_type": "code",
   "execution_count": null,
   "metadata": {},
   "outputs": [],
   "source": [
    "뒤에서부터 전부 1이상으로 채우면 이제 해당 과정에서 걸린 연산과 맨 끝값을 제외한 모든 값의 합이 정답이 됨"
   ]
  },
  {
   "cell_type": "code",
   "execution_count": null,
   "metadata": {},
   "outputs": [],
   "source": [
    "import sys, os, io\n",
    "# input = io.BytesIO(os.read(0,os.fstat(0).st_size)).readline\n",
    "\n",
    "for _ in range(int(input())):\n",
    "    n = int(input())\n",
    "    li = list(map(int, input().split()))\n",
    "\n",
    "    total = 0\n",
    "    remained = 0\n",
    "    is_over_1 = False\n",
    "    for i in range(n):\n",
    "        if li[i] >= 1:\n",
    "            is_over_1 = True\n",
    "        if li[i] >= 2:\n",
    "            remained += li[i] - 1\n",
    "        elif li[i] == 0:\n",
    "            if i == n - 1:\n",
    "                continue\n",
    "            if not is_over_1:\n",
    "                continue\n",
    "            if remained >= 1:\n",
    "                remained -= 1\n",
    "                total += 1\n",
    "                li[0] -= 1\n",
    "                li[i] = 1\n",
    "            else:\n",
    "                total += 1\n",
    "\n",
    "    total += sum(li[:-1])\n",
    "\n",
    "    print(total)"
   ]
  },
  {
   "cell_type": "code",
   "execution_count": null,
   "metadata": {},
   "outputs": [],
   "source": [
    "0 2 0 2 0\n",
    "\n",
    "0 1 1 1 1  2\n"
   ]
  },
  {
   "cell_type": "code",
   "execution_count": null,
   "metadata": {},
   "outputs": [],
   "source": [
    "1 0 0 1 1 0 0\n",
    "\n",
    "2 0 2 0 2 0 2\n",
    "\n",
    "2 0 2 0 2 0 "
   ]
  },
  {
   "cell_type": "code",
   "execution_count": null,
   "metadata": {},
   "outputs": [],
   "source": [
    "2 0 0 0 0 0\n",
    "1 1 0 0 0 0\n",
    "0 1 1 0 0 0\n",
    "0 0 1 1 0 0"
   ]
  },
  {
   "cell_type": "code",
   "execution_count": null,
   "metadata": {},
   "outputs": [],
   "source": [
    "2 0 3 0 4 6\n",
    "\n",
    "0 2 3 0 4 6  2\n",
    "\n",
    "\n"
   ]
  },
  {
   "cell_type": "markdown",
   "metadata": {},
   "source": [
    "C"
   ]
  },
  {
   "cell_type": "code",
   "execution_count": null,
   "metadata": {},
   "outputs": [],
   "source": [
    "  4    4   3\n",
    "mark mark mar"
   ]
  },
  {
   "cell_type": "code",
   "execution_count": 22,
   "metadata": {},
   "outputs": [
    {
     "data": {
      "text/plain": [
       "11"
      ]
     },
     "execution_count": 22,
     "metadata": {},
     "output_type": "execute_result"
    }
   ],
   "source": [
    "4+4+3"
   ]
  },
  {
   "cell_type": "code",
   "execution_count": null,
   "metadata": {},
   "outputs": [],
   "source": [
    "7번째 숫자? 첫 번째 추가까지만 상관 있음"
   ]
  },
  {
   "cell_type": "code",
   "execution_count": null,
   "metadata": {},
   "outputs": [],
   "source": [
    "1 2 3 4 5 6 7 8 9 0 1 2 3 4 5 6 7\n",
    "m a r k m a r k m a r r k m a r k"
   ]
  },
  {
   "cell_type": "code",
   "execution_count": 38,
   "metadata": {},
   "outputs": [
    {
     "data": {
      "text/plain": [
       "'mark'"
      ]
     },
     "execution_count": 38,
     "metadata": {},
     "output_type": "execute_result"
    }
   ],
   "source": [
    "s"
   ]
  },
  {
   "cell_type": "code",
   "execution_count": 32,
   "metadata": {},
   "outputs": [
    {
     "data": {
      "text/plain": [
       "[0, [1, 4], [5, 7], [3, 8]]"
      ]
     },
     "execution_count": 32,
     "metadata": {},
     "output_type": "execute_result"
    }
   ],
   "source": [
    "intvs"
   ]
  },
  {
   "cell_type": "code",
   "execution_count": null,
   "metadata": {},
   "outputs": [],
   "source": [
    "[[0], [1, 4], [5, 7], [3, 8]] [4, 8, 11, 17]"
   ]
  },
  {
   "cell_type": "code",
   "execution_count": 27,
   "metadata": {},
   "outputs": [
    {
     "data": {
      "text/plain": [
       "3"
      ]
     },
     "execution_count": 27,
     "metadata": {},
     "output_type": "execute_result"
    }
   ],
   "source": [
    "from bisect import bisect_left\n",
    "\n",
    "li = [4, 8, 11, 17]\n",
    "bisect_left(li, 12)"
   ]
  },
  {
   "cell_type": "code",
   "execution_count": null,
   "metadata": {},
   "outputs": [],
   "source": [
    "cumuls = [4, 7]\n",
    "intvs =  [[1-3]]"
   ]
  },
  {
   "cell_type": "code",
   "execution_count": null,
   "metadata": {},
   "outputs": [],
   "source": [
    "mark   4\n",
    "1 4  4개 복사 후 8\n",
    "5 7  3개 복사 후 11\n",
    "3 8  6개 복사 후 17\n",
    "\n",
    "16번째?\n",
    "\n",
    "마지막 복사 후임\n",
    "3-8을 복사했었음 16번째면 17 - 1 즉  맨뒤인 8 - 1\n",
    "\n",
    "7번째?\n",
    "\n",
    "첫 번째 복사 후임\n",
    "1-4를 복사했었음 7번째면 8 - 1 즉 맨뒤인 4 - 1\n",
    "\n",
    "3번째?\n",
    "\n",
    "맨 처음임 맨 뒤 - 1 번째가 됨"
   ]
  },
  {
   "cell_type": "code",
   "execution_count": 51,
   "metadata": {},
   "outputs": [
    {
     "name": "stdout",
     "output_type": "stream",
     "text": [
      "1111 17 3\n",
      "1111 8 1\n",
      "1111 4 0\n",
      "k\n"
     ]
    }
   ],
   "source": [
    "from bisect import bisect_left\n",
    "import sys, os, io\n",
    "input = lambda: sys.stdin.readline().rstrip()\n",
    "\n",
    "for _ in range(int(input())):\n",
    "    n, c, q = map(int, input().split())\n",
    "    s = input()\n",
    "\n",
    "    intvs = [0] + [list(map(int, input().split())) for _ in range(c)]\n",
    "    cumuls = [n]\n",
    "    cumul = n\n",
    "    for i in range(1, c + 1):\n",
    "        cumul += intvs[i][1] - intvs[i][0] + 1\n",
    "        cumuls.append(cumul)\n",
    "\n",
    "    for _ in range(q):\n",
    "        to_find = int(input())\n",
    "\n",
    "        while True:\n",
    "            index = bisect_left(cumuls, to_find)\n",
    "\n",
    "            if index == 0:\n",
    "                print(s[to_find - 1])\n",
    "                break\n",
    "            else:\n",
    "                diff = cumuls[index] - to_find\n",
    "                to_find = intvs[index][-1] - diff"
   ]
  },
  {
   "cell_type": "markdown",
   "metadata": {},
   "source": [
    "D"
   ]
  },
  {
   "cell_type": "code",
   "execution_count": null,
   "metadata": {},
   "outputs": [],
   "source": [
    "처음과 끝이 다르면 만드는게 불가능함"
   ]
  },
  {
   "cell_type": "code",
   "execution_count": null,
   "metadata": {},
   "outputs": [],
   "source": [
    "0000, 11111 사이는 어쩔 수 없고 경계를 서로 점령하는 느낌\n",
    "\n",
    "즉, 0과 1의 반복 상태가 서로 다르면 안됨\n",
    "\n",
    "앞쪽부터 보면서 개수가 다르면 누군가 점령해서 개수를 맞춰줌"
   ]
  },
  {
   "cell_type": "code",
   "execution_count": null,
   "metadata": {},
   "outputs": [],
   "source": [
    "1.\n",
    "010000\n",
    "\n",
    "011000\n",
    "001000\n",
    "001100\n",
    "000100\n",
    "000110\n",
    "\n",
    "000010 O\n",
    "\n",
    "2.\n",
    "010000\n",
    "\n",
    "011000\n",
    "011100\n",
    "011110\n",
    "\n",
    "011110 O\n",
    "\n",
    "3.\n",
    "010000000\n",
    "\n",
    "010000000\n",
    "\n",
    "011111100\n",
    "000011000\n",
    "000111000\n",
    "\n",
    "\n",
    "010001110\n",
    "\n"
   ]
  },
  {
   "cell_type": "code",
   "execution_count": null,
   "metadata": {},
   "outputs": [],
   "source": [
    "000101\n",
    "010011\n",
    "\n",
    "3 1 1 1\n",
    "1 1 2 2\n",
    "\n"
   ]
  },
  {
   "cell_type": "code",
   "execution_count": null,
   "metadata": {},
   "outputs": [],
   "source": [
    "000101\n",
    "\n",
    "011101  2\n",
    "\n",
    "010001  2\n",
    "\n",
    "010011  1"
   ]
  },
  {
   "cell_type": "code",
   "execution_count": null,
   "metadata": {},
   "outputs": [],
   "source": [
    "3 1 1 1\n",
    "\n",
    "1 3 1 1\n",
    "1 1 3 1\n",
    "\n",
    "1 1 2 2\n",
    "\n"
   ]
  },
  {
   "cell_type": "code",
   "execution_count": null,
   "metadata": {},
   "outputs": [],
   "source": [
    "1 1 2 2\n",
    "\n",
    "3 -1 2 2  2\n",
    "3 1 0 2   2\n",
    "3 1 1 1   1\n",
    "\n",
    "3 1 1 1\n",
    "\n"
   ]
  },
  {
   "cell_type": "code",
   "execution_count": null,
   "metadata": {},
   "outputs": [],
   "source": [
    "-2 0 1 1"
   ]
  },
  {
   "cell_type": "code",
   "execution_count": null,
   "metadata": {},
   "outputs": [],
   "source": [
    "-2 "
   ]
  },
  {
   "cell_type": "code",
   "execution_count": null,
   "metadata": {},
   "outputs": [],
   "source": [
    "010001\n",
    "\n",
    "011001\n",
    "001001\n",
    "001101\n",
    "000101\n",
    "\n",
    "000101"
   ]
  },
  {
   "cell_type": "code",
   "execution_count": null,
   "metadata": {},
   "outputs": [],
   "source": [
    "0000111000\n",
    "\n",
    "\n",
    "\n",
    "0011100000"
   ]
  },
  {
   "cell_type": "code",
   "execution_count": 56,
   "metadata": {},
   "outputs": [
    {
     "name": "stdout",
     "output_type": "stream",
     "text": [
      "6\n",
      "010011\n",
      "000101\n",
      "5\n"
     ]
    }
   ],
   "source": [
    "import sys\n",
    "input = lambda: sys.stdin.readline().rstrip()\n",
    "\n",
    "for _ in range(int(input())):\n",
    "    n = int(input())\n",
    "    s = list(map(int, input()))\n",
    "    t = list(map(int, input()))\n",
    "\n",
    "    if s[0] != t[0] or s[-1] != t[-1]:\n",
    "        print(-1)\n",
    "    else:\n",
    "        ns = []\n",
    "        nt = []\n",
    "\n",
    "        fsv = ''\n",
    "        ftv = ''\n",
    "        s_cont = 0\n",
    "        t_cont = 0\n",
    "        for i in range(n):\n",
    "            if s[i] != fsv:\n",
    "                if s_cont:\n",
    "                    ns.append(s_cont)\n",
    "                s_cont = 1\n",
    "                fsv = s[i]\n",
    "            else:\n",
    "                s_cont += 1\n",
    "\n",
    "            if t[i] != ftv:\n",
    "                if t_cont:\n",
    "                    nt.append(t_cont)\n",
    "                t_cont = 1\n",
    "                ftv = t[i]\n",
    "            else:\n",
    "                t_cont += 1\n",
    "\n",
    "        ns.append(s_cont)\n",
    "        nt.append(t_cont)\n",
    "\n",
    "        if len(ns) != len(nt):\n",
    "            print(-1)\n",
    "        else:\n",
    "            total = 0\n",
    "            for i in range(len(ns) - 1):\n",
    "                if ns[i] < nt[i]:\n",
    "                    diff = nt[i] - ns[i]\n",
    "                    total += diff\n",
    "                    ns[i] + diff\n",
    "                    ns[i + 1] -= diff\n",
    "                elif ns[i] > nt[i]:\n",
    "                    diff = ns[i] - nt[i]\n",
    "                    total += diff\n",
    "                    ns[i] -= diff\n",
    "                    ns[i + 1] += diff\n",
    "\n",
    "            print(total)"
   ]
  },
  {
   "cell_type": "markdown",
   "metadata": {},
   "source": [
    "E"
   ]
  },
  {
   "cell_type": "code",
   "execution_count": null,
   "metadata": {},
   "outputs": [],
   "source": [
    "2 2 3 4 5"
   ]
  },
  {
   "cell_type": "code",
   "execution_count": null,
   "metadata": {},
   "outputs": [],
   "source": [
    "2 2 2 2 3 3 3 3 4 4 4 4 5 5 5 6 6 6 6 6"
   ]
  },
  {
   "cell_type": "code",
   "execution_count": null,
   "metadata": {},
   "outputs": [],
   "source": [
    "2 -> 3"
   ]
  },
  {
   "cell_type": "code",
   "execution_count": null,
   "metadata": {},
   "outputs": [],
   "source": [
    "빼는 경우 빠지는 숫자는 무조건 있는 숫자임 그게 개수 패리티가 0이었다면 전에 사용되었었음. 그리고 1로 바뀜\n",
    "개수 패리티가 1이었다면 어차피 안쓰였음. 그리고 0으로 바뀜\n",
    "\n",
    "더하는 경우 더하는 숫자 개수 패리티가 0이 되면 새로 사용됨. 1이 되면 사용 못함"
   ]
  },
  {
   "cell_type": "code",
   "execution_count": null,
   "metadata": {},
   "outputs": [],
   "source": [
    "n, q = map(int, input().split())\n",
    "li = list(map(int, input().split()))\n",
    "\n"
   ]
  },
  {
   "cell_type": "code",
   "execution_count": null,
   "metadata": {},
   "outputs": [],
   "source": [
    "00000111110010"
   ]
  },
  {
   "cell_type": "code",
   "execution_count": 65,
   "metadata": {},
   "outputs": [
    {
     "ename": "MemoryError",
     "evalue": "",
     "output_type": "error",
     "traceback": [
      "\u001b[1;31m---------------------------------------------------------------------------\u001b[0m",
      "\u001b[1;31mMemoryError\u001b[0m                               Traceback (most recent call last)",
      "\u001b[1;32m<ipython-input-65-47cf98274c5b>\u001b[0m in \u001b[0;36m<module>\u001b[1;34m\u001b[0m\n\u001b[0;32m      3\u001b[0m \u001b[1;32mfor\u001b[0m \u001b[0mi\u001b[0m \u001b[1;32min\u001b[0m \u001b[0mrange\u001b[0m\u001b[1;33m(\u001b[0m\u001b[1;36m200001\u001b[0m\u001b[1;33m)\u001b[0m\u001b[1;33m:\u001b[0m\u001b[1;33m\u001b[0m\u001b[1;33m\u001b[0m\u001b[0m\n\u001b[0;32m      4\u001b[0m     \u001b[0mtwos\u001b[0m\u001b[1;33m.\u001b[0m\u001b[0mappend\u001b[0m\u001b[1;33m(\u001b[0m\u001b[0mcur\u001b[0m\u001b[1;33m)\u001b[0m\u001b[1;33m\u001b[0m\u001b[1;33m\u001b[0m\u001b[0m\n\u001b[1;32m----> 5\u001b[1;33m     \u001b[0mcur\u001b[0m \u001b[1;33m*=\u001b[0m \u001b[1;36m2\u001b[0m\u001b[1;33m\u001b[0m\u001b[1;33m\u001b[0m\u001b[0m\n\u001b[0m",
      "\u001b[1;31mMemoryError\u001b[0m: "
     ]
    }
   ],
   "source": [
    "twos = []\n",
    "cur = 1\n",
    "for i in range(200001):\n",
    "    twos.append(cur)\n",
    "    cur *= 2"
   ]
  },
  {
   "cell_type": "code",
   "execution_count": 66,
   "metadata": {},
   "outputs": [
    {
     "ename": "OverflowError",
     "evalue": "(34, 'Result too large')",
     "output_type": "error",
     "traceback": [
      "\u001b[1;31m---------------------------------------------------------------------------\u001b[0m",
      "\u001b[1;31mOverflowError\u001b[0m                             Traceback (most recent call last)",
      "\u001b[1;32m<ipython-input-66-926b9e83f269>\u001b[0m in \u001b[0;36m<module>\u001b[1;34m\u001b[0m\n\u001b[0;32m      1\u001b[0m \u001b[1;32mfor\u001b[0m \u001b[0m_\u001b[0m \u001b[1;32min\u001b[0m \u001b[0mrange\u001b[0m\u001b[1;33m(\u001b[0m\u001b[1;36m1\u001b[0m\u001b[1;33m)\u001b[0m\u001b[1;33m:\u001b[0m\u001b[1;33m\u001b[0m\u001b[1;33m\u001b[0m\u001b[0m\n\u001b[1;32m----> 2\u001b[1;33m     \u001b[1;36m2\u001b[0m \u001b[1;33m**\u001b[0m \u001b[1;33m(\u001b[0m\u001b[1;36m2e5\u001b[0m\u001b[1;33m)\u001b[0m\u001b[1;33m\u001b[0m\u001b[1;33m\u001b[0m\u001b[0m\n\u001b[0m",
      "\u001b[1;31mOverflowError\u001b[0m: (34, 'Result too large')"
     ]
    }
   ],
   "source": [
    "for _ in range(1):\n",
    "    2 ** (2e5)"
   ]
  }
 ],
 "metadata": {
  "kernelspec": {
   "display_name": "Python 3",
   "language": "python",
   "name": "python3"
  },
  "language_info": {
   "codemirror_mode": {
    "name": "ipython",
    "version": 3
   },
   "file_extension": ".py",
   "mimetype": "text/x-python",
   "name": "python",
   "nbconvert_exporter": "python",
   "pygments_lexer": "ipython3",
   "version": "3.7.4"
  }
 },
 "nbformat": 4,
 "nbformat_minor": 2
}
