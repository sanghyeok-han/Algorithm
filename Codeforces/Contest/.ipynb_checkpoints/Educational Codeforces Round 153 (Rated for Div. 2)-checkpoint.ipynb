{
 "cells": [
  {
   "cell_type": "markdown",
   "metadata": {},
   "source": [
    "### A"
   ]
  },
  {
   "cell_type": "code",
   "execution_count": 3,
   "metadata": {},
   "outputs": [
    {
     "name": "stdout",
     "output_type": "stream",
     "text": [
      "1\n",
      "()\n",
      "NO\n"
     ]
    }
   ],
   "source": [
    "import sys\n",
    "input = lambda: sys.stdin.readline().rstrip()\n",
    "\n",
    "t = int(input())\n",
    "\n",
    "for _ in range(t):\n",
    "    s = input()\n",
    "    \n",
    "    if s == '()':\n",
    "        print('NO')\n",
    "    else:\n",
    "        print('YES')\n",
    "    \n",
    "        cand1 = '()' * len(s)\n",
    "        cand2 = '(' * len(s) + ')' * len(s)\n",
    "\n",
    "        if s not in cand1:\n",
    "            print(cand1)\n",
    "        else:\n",
    "            print(cand2)"
   ]
  },
  {
   "cell_type": "markdown",
   "metadata": {},
   "source": [
    "### B"
   ]
  },
  {
   "cell_type": "code",
   "execution_count": 24,
   "metadata": {},
   "outputs": [
    {
     "name": "stdout",
     "output_type": "stream",
     "text": [
      "11 3 0 0\n",
      "5\n"
     ]
    }
   ],
   "source": [
    "import io, os, sys\n",
    "input = io.BytesIO(os.read(0, os.fstat(0).st_size)).readline\n",
    "\n",
    "inf = float('inf')\n",
    "\n",
    "for _ in range(int(input())):\n",
    "    m, k, a1, ak = map(int, input().split())\n",
    "\n",
    "    mm = m\n",
    "    mm -= min(mm // k, ak) * k\n",
    "    mm -= min(mm, a1)\n",
    "    r1 = mm // k\n",
    "    temp_c = r1\n",
    "    r1 += mm % k\n",
    "\n",
    "    mm = m\n",
    "    mm -= min(mm // k, ak) * k\n",
    "\n",
    "    r2 = inf\n",
    "    if mm >= (temp_c + 1) * k:\n",
    "        r2 = temp_c + 1\n",
    "        mm -= (temp_c + 1) * k\n",
    "        mm -= min(mm, a1)\n",
    "        r2 += mm\n",
    "\n",
    "    r = min(r1, r2)\n",
    "\n",
    "    print(r)"
   ]
  },
  {
   "cell_type": "markdown",
   "metadata": {},
   "source": [
    "### C"
   ]
  },
  {
   "cell_type": "code",
   "execution_count": 29,
   "metadata": {},
   "outputs": [
    {
     "name": "stdout",
     "output_type": "stream",
     "text": [
      "4\n",
      "2 1 4 3\n",
      "2\n"
     ]
    }
   ],
   "source": [
    "import io, os, sys\n",
    "input = io.BytesIO(os.read(0, os.fstat(0).st_size)).readline\n",
    "\n",
    "inf = float('inf')\n",
    "\n",
    "for _ in range(int(input())):\n",
    "    n = int(input())\n",
    "    li = list(map(int, input().split()))\n",
    "\n",
    "    r = 0\n",
    "    cur_min = inf\n",
    "    cur_min_lucky = inf\n",
    "    for v in li:\n",
    "        if v < cur_min:\n",
    "            cur_min = v\n",
    "        else:\n",
    "            if v < cur_min_lucky:\n",
    "                cur_min_lucky = v\n",
    "                r += 1\n",
    "\n",
    "    print(r)"
   ]
  },
  {
   "cell_type": "markdown",
   "metadata": {},
   "source": [
    "### D"
   ]
  },
  {
   "cell_type": "code",
   "execution_count": 107,
   "metadata": {},
   "outputs": [
    {
     "name": "stdout",
     "output_type": "stream",
     "text": [
      "11001100\n",
      "2\n"
     ]
    }
   ],
   "source": [
    "s = input()\n",
    "n = len(s)\n",
    "\n",
    "c0 = c1 = c01 = c10 = 0\n",
    "for v in s:\n",
    "    if v == '0':\n",
    "        c10 += c1\n",
    "        c0 += 1\n",
    "    else:\n",
    "        c01 += c0\n",
    "        c1 += 1\n",
    "        \n",
    "if c10 == c01:\n",
    "    print(0)\n",
    "else:\n",
    "    to_checks = []\n",
    "    \n",
    "    li = list(s)\n",
    "    for i in range(n):\n",
    "        for j in range(i + 1, n):\n",
    "            if li[i] != li[j]:\n",
    "                li[i], li[j] = li[j], li[i]               \n",
    "\n",
    "                ns = ''.join(li)\n",
    "                to_checks.append(ns)\n",
    "\n",
    "                li[i], li[j] = li[j], li[i]\n",
    "\n",
    "    is_found_1 = False\n",
    "    is_found_2 = False\n",
    "    for to_check in to_checks:\n",
    "        c0 = c1 = c01 = c10 = 0\n",
    "        for v in to_check:\n",
    "            if v == '0':\n",
    "                c10 += c1\n",
    "                c0 += 1\n",
    "            else:\n",
    "                c01 += c0\n",
    "                c1 += 1\n",
    "\n",
    "        if c10 == c01:\n",
    "            is_found_1 = True\n",
    "            break\n",
    "            \n",
    "        prefix_1 = [0] * (n + 1)\n",
    "        cumul_1 = 0\n",
    "        for i in range(n):\n",
    "            if to_check[i] == '1':\n",
    "                cumul_1 += 1\n",
    "            prefix_1[i + 1] = cumul_1\n",
    "\n",
    "        parity_1 = parity_2 = 0\n",
    "        for i in range(n):\n",
    "            for j in range(i + 1, n):\n",
    "                if to_check[i] != to_check[j]:\n",
    "                    mid_1c = prefix_1[j + 1] - prefix_1[i]\n",
    "                    \n",
    "                    if to_check[i] == '1':\n",
    "                        mid_1c -= 1\n",
    "                    if to_check[j] == '1':\n",
    "                        mid_1c -= 1\n",
    "                        \n",
    "                    mid_0c = j - i - 1 - mid_1c\n",
    "                    \n",
    "                    assert mid_0c >= 0 and mid_1c >= 0\n",
    "                    \n",
    "                    # 0.....1 -> 1.....0\n",
    "                    if to_check[i] == '0':\n",
    "                        nc10 = c10\n",
    "                        nc01 = c01\n",
    "        \n",
    "                        nc01 -= mid_1c\n",
    "                        nc01 -= mid_0c\n",
    "                        \n",
    "                        nc10 += mid_0c\n",
    "                        nc10 += mid_1c\n",
    "                        \n",
    "                        nc01 -= 1\n",
    "                        nc10 += 1\n",
    "                        \n",
    "                        if abs(nc01 - nc10) % 2 == 1:\n",
    "                            parity_1 = True\n",
    "                        else:\n",
    "                            parity_2 = True\n",
    "                        \n",
    "                        assert nc01 >= 0 and nc10 >= 0\n",
    "\n",
    "                        if nc10 == nc01:\n",
    "                            is_found_2 = True\n",
    "                            break\n",
    "                    # 1.....0 -> 0.....1\n",
    "                    else:\n",
    "                        nc10 = c10\n",
    "                        nc01 = c01\n",
    "                        \n",
    "                        nc10 -= mid_0c\n",
    "                        nc10 -= mid_1c\n",
    "                        \n",
    "                        nc01 += mid_1c\n",
    "                        nc01 += mid_0c\n",
    "                        \n",
    "                        nc10 -= 1\n",
    "                        nc01 += 1\n",
    "                        \n",
    "                        if abs(nc01 - nc10) % 2 == 1:\n",
    "                            parity_1 = True\n",
    "                        else:\n",
    "                            parity_2 = True\n",
    "                        \n",
    "                        assert nc01 >= 0 and nc10 >= 0\n",
    " \n",
    "                        if nc10 == nc01:\n",
    "                            is_found_2 = True\n",
    "                            break\n",
    "                \n",
    "    if is_found_1:\n",
    "        print(1)\n",
    "    elif is_found_2:\n",
    "        print(2)\n",
    "    elif parity_1:\n",
    "        print(4)\n",
    "    else:\n",
    "        print(3)"
   ]
  },
  {
   "cell_type": "code",
   "execution_count": 124,
   "metadata": {},
   "outputs": [
    {
     "name": "stdout",
     "output_type": "stream",
     "text": [
      "49 72\n"
     ]
    }
   ],
   "source": [
    "s = '11110000'\n",
    "s = '10110001'\n",
    "s = '1111000000011111110000'\n",
    "\n",
    "c0 = c1 = c01 = c10 = 0\n",
    "for v in s:\n",
    "    if v == '0':\n",
    "        c10 += c1\n",
    "        c0 += 1\n",
    "    else:\n",
    "        c01 += c0\n",
    "        c1 += 1\n",
    "        \n",
    "print(c01, c10)"
   ]
  },
  {
   "cell_type": "code",
   "execution_count": 79,
   "metadata": {},
   "outputs": [
    {
     "data": {
      "text/plain": [
       "True"
      ]
     },
     "execution_count": 79,
     "metadata": {},
     "output_type": "execute_result"
    }
   ],
   "source": [
    "is_end"
   ]
  },
  {
   "cell_type": "code",
   "execution_count": 54,
   "metadata": {},
   "outputs": [
    {
     "data": {
      "text/plain": [
       "990000"
      ]
     },
     "execution_count": 54,
     "metadata": {},
     "output_type": "execute_result"
    }
   ],
   "source": [
    "00000000001111111111\n",
    "100 0\n",
    "\n",
    "11000000001111111100\n",
    "\n",
    "11100000001111111000\n",
    "49 51"
   ]
  },
  {
   "cell_type": "code",
   "execution_count": null,
   "metadata": {},
   "outputs": [],
   "source": [
    "11001100\n",
    "4 12"
   ]
  },
  {
   "cell_type": "code",
   "execution_count": null,
   "metadata": {},
   "outputs": [],
   "source": [
    "11010\n",
    "1 5"
   ]
  },
  {
   "cell_type": "code",
   "execution_count": null,
   "metadata": {},
   "outputs": [],
   "source": [
    "10011\n",
    "4 2"
   ]
  },
  {
   "cell_type": "code",
   "execution_count": null,
   "metadata": {},
   "outputs": [],
   "source": [
    "00011011\n",
    "14 2"
   ]
  },
  {
   "cell_type": "code",
   "execution_count": null,
   "metadata": {},
   "outputs": [],
   "source": [
    "00001111\n",
    "16 0"
   ]
  },
  {
   "cell_type": "code",
   "execution_count": null,
   "metadata": {},
   "outputs": [],
   "source": [
    "0100110\n",
    "7 5"
   ]
  },
  {
   "cell_type": "code",
   "execution_count": null,
   "metadata": {},
   "outputs": [],
   "source": [
    "0100110\n",
    "4 12"
   ]
  }
 ],
 "metadata": {
  "kernelspec": {
   "display_name": "Python 3",
   "language": "python",
   "name": "python3"
  },
  "language_info": {
   "codemirror_mode": {
    "name": "ipython",
    "version": 3
   },
   "file_extension": ".py",
   "mimetype": "text/x-python",
   "name": "python",
   "nbconvert_exporter": "python",
   "pygments_lexer": "ipython3",
   "version": "3.8.3"
  }
 },
 "nbformat": 4,
 "nbformat_minor": 4
}
