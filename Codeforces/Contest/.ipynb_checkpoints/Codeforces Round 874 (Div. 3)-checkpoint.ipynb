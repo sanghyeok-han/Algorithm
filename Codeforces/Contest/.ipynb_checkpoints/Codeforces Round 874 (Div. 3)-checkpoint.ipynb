{
 "cells": [
  {
   "cell_type": "markdown",
   "metadata": {},
   "source": [
    "A"
   ]
  },
  {
   "cell_type": "code",
   "execution_count": 4,
   "metadata": {},
   "outputs": [
    {
     "name": "stdout",
     "output_type": "stream",
     "text": [
      "5\n",
      "babdd\n",
      "4\n"
     ]
    }
   ],
   "source": [
    "import sys\n",
    "input = lambda: sys.stdin.readline().rstrip()\n",
    "\n",
    "for _ in range(int(input())):\n",
    "    n = int(input())\n",
    "    s = input()\n",
    "\n",
    "    st = set()\n",
    "    for i in range(n - 1):\n",
    "        st.add(s[i:i + 2])\n",
    "\n",
    "    print(len(st))"
   ]
  },
  {
   "cell_type": "markdown",
   "metadata": {},
   "source": [
    "B"
   ]
  },
  {
   "cell_type": "code",
   "execution_count": 6,
   "metadata": {},
   "outputs": [
    {
     "name": "stdout",
     "output_type": "stream",
     "text": [
      "6 1\n",
      "-1 3 -2 0 -5 -1\n",
      "-4 0 -1 4 0 0\n",
      "0 4 -1 0 -4 0\n"
     ]
    }
   ],
   "source": [
    "import io, os, sys\n",
    "input = io.BytesIO(os.read(0, os.fstat(0).st_size)).readline\n",
    "\n",
    "for _ in range(int(input())):\n",
    "    n, k = map(int, input().split())\n",
    "    A = list(map(int, input().split()))\n",
    "    B = list(map(int, input().split()))\n",
    "\n",
    "    nA = [(A[i], i) for i in range(n)]\n",
    "\n",
    "    nA.sort(key=lambda x: x[0])\n",
    "    B.sort()\n",
    "\n",
    "    result = [0] * n\n",
    "\n",
    "    for i in range(n):\n",
    "        result[nA[i][1]] = B[i]\n",
    "\n",
    "    print(*result)"
   ]
  },
  {
   "cell_type": "markdown",
   "metadata": {},
   "source": [
    "C"
   ]
  },
  {
   "cell_type": "code",
   "execution_count": null,
   "metadata": {},
   "outputs": [],
   "source": [
    "전부 odd거나 전부 even이거나 가장 작은게 odd"
   ]
  },
  {
   "cell_type": "code",
   "execution_count": 7,
   "metadata": {},
   "outputs": [
    {
     "name": "stdout",
     "output_type": "stream",
     "text": [
      "4\n",
      "2 5 5 4\n",
      "NO\n"
     ]
    }
   ],
   "source": [
    "import io, os, sys\n",
    "input = io.BytesIO(os.read(0, os.fstat(0).st_size)).readline\n",
    "\n",
    "for _ in range(int(input())):\n",
    "    n = int(input())\n",
    "    li = sorted(map(int, input().split()))\n",
    "\n",
    "    ip = False\n",
    "    c0 = 0\n",
    "    c1 = 0\n",
    "    for i in range(n):\n",
    "        if li[i] % 2 == 0:\n",
    "            c0 += 1\n",
    "        else:\n",
    "            c1 += 1\n",
    "\n",
    "    if c0 == 0 or c1 == 0:\n",
    "        ip = True\n",
    "\n",
    "    if not ip:\n",
    "        if li[0] % 2 == 1:\n",
    "            ip = True\n",
    "\n",
    "    if ip:\n",
    "        print('YES')\n",
    "    else:\n",
    "        print('NO')"
   ]
  },
  {
   "cell_type": "markdown",
   "metadata": {},
   "source": [
    "D"
   ]
  },
  {
   "cell_type": "code",
   "execution_count": null,
   "metadata": {},
   "outputs": [],
   "source": [
    "1 2 3 4 5 7 6\n",
    "\n"
   ]
  },
  {
   "cell_type": "code",
   "execution_count": null,
   "metadata": {},
   "outputs": [],
   "source": [
    "import io, os, sys\n",
    "input = io.BytesIO(os.read(0, os.fstat(0).st_size)).readline\n",
    "\n",
    "for _ in range(int(input())):\n",
    "    n = int(input())\n",
    "    li = list(map(int, input().split()))\n",
    "\n",
    "    if n == 1:\n",
    "        print(li[0])\n",
    "    else:\n",
    "        max_num = -1\n",
    "        max_num_index = -1\n",
    "        for i in range(1, n):\n",
    "            if li[i] > max_num:\n",
    "                max_num = li[i]\n",
    "                max_num_index = i\n",
    "\n",
    "        result = [max_num] + li[max_num_index + 1:] + [li[max_num_index - 1]]\n",
    "\n",
    "\n",
    "        cri = max_num_index - 1\n",
    "        for i in range(cri - 1, 0, -1):\n",
    "            if li[i] > li[0]:\n",
    "                result.append(li[i])\n",
    "            else:\n",
    "                break\n",
    "\n",
    "        for i in range(n):\n",
    "            if len(result) < n:\n",
    "                result.append(li[i])\n",
    "            else:\n",
    "                break\n",
    "\n",
    "        if max_num_index == n - 1:\n",
    "            result2 = [li[-1]] + li[:-1]\n",
    "            \n",
    "            if result2 > result:\n",
    "                result = result2\n",
    "                \n",
    "        print(*result)"
   ]
  },
  {
   "cell_type": "markdown",
   "metadata": {},
   "source": [
    "E"
   ]
  },
  {
   "cell_type": "code",
   "execution_count": null,
   "metadata": {},
   "outputs": [],
   "source": [
    "최대 개수: 연결 컴포넌트 개수\n",
    "    \n",
    "최소 개수: 길이 3 이상 사이클은 더 이상 연결 불가능, 길이 2 사이클은 여력을 만들고 간선에 여력이 있으면 연결 가능\n",
    "    \n",
    "           여력 있는 컴포넌트는 전부 연결 가능"
   ]
  },
  {
   "cell_type": "code",
   "execution_count": 28,
   "metadata": {},
   "outputs": [
    {
     "name": "stdout",
     "output_type": "stream",
     "text": [
      "2\n",
      "2 1\n",
      "1 1\n"
     ]
    }
   ],
   "source": [
    "import io, os, sys\n",
    "input = io.BytesIO(os.read(0, os.fstat(0).st_size)).readline\n",
    "\n",
    "get_value = lambda x: int(x) - 1\n",
    "\n",
    "def find(v):\n",
    "    while v != pa[v]:\n",
    "        pa[v] = pa[pa[v]]\n",
    "        v = pa[v]\n",
    "    return v\n",
    "\n",
    "def union(a, b):\n",
    "    pa[b] = a\n",
    "\n",
    "for _ in range(int(input())):\n",
    "    n = int(input())\n",
    "    li = list(map(get_value, input().split()))\n",
    "\n",
    "    pa = list(range(n))\n",
    "\n",
    "    is_indirs = [False] * n\n",
    "    for i in range(n):\n",
    "        if i == li[li[i]]:\n",
    "            is_indirs[i] = True\n",
    "\n",
    "    for i in range(n):\n",
    "        ra = find(i)\n",
    "        rb = find(li[i])\n",
    "\n",
    "        union(ra, rb)\n",
    "\n",
    "    indirs_root = set()\n",
    "    st = set()\n",
    "    for i in range(n):\n",
    "        ri = find(i)\n",
    "\n",
    "        if is_indirs[i]:\n",
    "            indirs_root.add(ri)\n",
    "        st.add(ri)\n",
    "\n",
    "    max_r = len(st)\n",
    "    min_r = len(st)\n",
    "\n",
    "    if len(indirs_root) >= 2:\n",
    "        min_r -= len(indirs_root) - 1\n",
    "\n",
    "    print(min_r, max_r)"
   ]
  },
  {
   "cell_type": "markdown",
   "metadata": {},
   "source": [
    "F"
   ]
  },
  {
   "cell_type": "code",
   "execution_count": null,
   "metadata": {},
   "outputs": [],
   "source": [
    "import io, os, sys\n",
    "input = io.BytesIO(os.read(0, os.fstat(0).st_size)).readline\n",
    "\n",
    "mod = int(1e9) + 7\n",
    "\n",
    "for _ in range(int(input())):\n",
    "    n, m = map(int, input().split())\n",
    "    li = list(map(int, input().split()))\n",
    "\n",
    "    if m == 1:\n",
    "        print(n)\n",
    "    else:\n",
    "        d = dict()\n",
    "        st = set()\n",
    "        for v in li:\n",
    "            st.add(v)\n",
    "            sv = str(v)\n",
    "            if sv in d:\n",
    "                d[sv] += 1\n",
    "            else:\n",
    "                d[sv] = 1\n",
    "\n",
    "        total = 0\n",
    "        keys = list(map(str, sorted(st)))\n",
    "        cur_w = d[keys[0]]\n",
    "        cur_c = 1\n",
    "        for i in range(1, len(keys)):\n",
    "            v = keys[i]\n",
    "            fv = keys[i - 1]\n",
    "            if int(v) == int(fv) + 1:\n",
    "                if cur_c < m:\n",
    "                    cur_c += 1\n",
    "                    cur_w *= d[v]\n",
    "                else:\n",
    "                    cur_w *= d[v]\n",
    "                    cur_w *= pow(d[keys[i - m]], mod - 2, mod)\n",
    "                cur_w %= mod\n",
    "            else:\n",
    "                cur_c = 1\n",
    "                cur_w = d[v]\n",
    "\n",
    "            if cur_c == m:\n",
    "                total += cur_w\n",
    "                total %= mod\n",
    "\n",
    "        print(total)"
   ]
  },
  {
   "cell_type": "markdown",
   "metadata": {},
   "source": [
    "G"
   ]
  },
  {
   "cell_type": "code",
   "execution_count": null,
   "metadata": {},
   "outputs": [],
   "source": [
    "만약 n이 3의 배수가 아니면 안됨"
   ]
  },
  {
   "cell_type": "code",
   "execution_count": 65,
   "metadata": {},
   "outputs": [
    {
     "name": "stdout",
     "output_type": "stream",
     "text": [
      "6\n",
      "1 2\n",
      "2 3\n",
      "3 4\n",
      "4 5\n",
      "5 6\n",
      "1\n",
      "3\n"
     ]
    }
   ],
   "source": [
    "import io, os, sys\n",
    "# input = io.BytesIO(os.read(0, os.fstat(0).st_size)).readline\n",
    "\n",
    "## PYRIVAL BOOTSTRAP\n",
    "# https://github.com/cheran-senthil/PyRival/blob/master/pyrival/misc/bootstrap.py\n",
    "# This decorator allows for recursion without actually doing recursion\n",
    "## @bootstrap, yield when getting and returning value in recursive functions, end of functions\n",
    "from types import GeneratorType\n",
    "\n",
    "def bootstrap(f, stack=[]):\n",
    "    def wrappedfunc(*args, **kwargs):\n",
    "        if stack:\n",
    "            return f(*args, **kwargs)\n",
    "        else:\n",
    "            to = f(*args, **kwargs)\n",
    "            while True:\n",
    "                if type(to) is GeneratorType:\n",
    "                    stack.append(to)\n",
    "                    to = next(to)\n",
    "                else:\n",
    "                    stack.pop()\n",
    "                    if not stack:\n",
    "                        break\n",
    "                    to = stack[-1].send(to)\n",
    "            return to\n",
    "    return wrappedfunc\n",
    "\n",
    "@bootstrap\n",
    "def dfs(value, from_edge):\n",
    "    global result\n",
    "    global ip\n",
    "    \n",
    "    vt[value] = True\n",
    "    \n",
    "    c = 1\n",
    "    for v, edge_i in li[value]:\n",
    "        if vt[v]:\n",
    "            continue\n",
    "         \n",
    "        c += yield dfs(v, edge_i)\n",
    "        \n",
    "    if c > 3:\n",
    "        ip = False\n",
    "        yield 0\n",
    "    elif c == 3:\n",
    "        if value != root:\n",
    "            result.append(from_edge + 1)\n",
    "        yield 0\n",
    "    else:\n",
    "        yield c\n",
    "\n",
    "# for _ in range(int(input())):\n",
    "n = int(input())\n",
    "\n",
    "li = [[] for _ in range(n + 1)]\n",
    "for i in range(n - 1):\n",
    "    u, v = map(int, input().split())\n",
    "\n",
    "    li[u].append((v, i))\n",
    "    li[v].append((u, i))\n",
    "\n",
    "if n % 3 != 0:\n",
    "    print(-1)\n",
    "else:\n",
    "    vt = [False] * (n + 1)\n",
    "    result = []\n",
    "\n",
    "    root = -1\n",
    "    for i in range(1, n + 1):\n",
    "        if len(li[i]) == 1:\n",
    "            root = i\n",
    "            break\n",
    "\n",
    "    ip = True\n",
    "    if dfs(root, -1) != 0:\n",
    "        ip = False\n",
    "\n",
    "    if not ip:\n",
    "        print(-1)\n",
    "    else:\n",
    "        print(len(result))\n",
    "        print(*result)"
   ]
  },
  {
   "cell_type": "code",
   "execution_count": 61,
   "metadata": {},
   "outputs": [
    {
     "data": {
      "text/plain": [
       "[[],\n",
       " [(2, 0)],\n",
       " [(1, 0), (3, 1)],\n",
       " [(2, 1), (4, 2)],\n",
       " [(3, 2), (5, 3)],\n",
       " [(4, 3), (6, 4)],\n",
       " [(5, 4)]]"
      ]
     },
     "execution_count": 61,
     "metadata": {},
     "output_type": "execute_result"
    }
   ],
   "source": [
    "li"
   ]
  },
  {
   "cell_type": "code",
   "execution_count": 60,
   "metadata": {},
   "outputs": [
    {
     "data": {
      "text/plain": [
       "1"
      ]
     },
     "execution_count": 60,
     "metadata": {},
     "output_type": "execute_result"
    }
   ],
   "source": [
    "root"
   ]
  }
 ],
 "metadata": {
  "kernelspec": {
   "display_name": "Python 3",
   "language": "python",
   "name": "python3"
  },
  "language_info": {
   "codemirror_mode": {
    "name": "ipython",
    "version": 3
   },
   "file_extension": ".py",
   "mimetype": "text/x-python",
   "name": "python",
   "nbconvert_exporter": "python",
   "pygments_lexer": "ipython3",
   "version": "3.7.4"
  }
 },
 "nbformat": 4,
 "nbformat_minor": 2
}
