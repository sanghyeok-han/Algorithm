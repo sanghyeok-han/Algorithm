{
 "cells": [
  {
   "cell_type": "markdown",
   "metadata": {},
   "source": [
    "A"
   ]
  },
  {
   "cell_type": "code",
   "execution_count": 7,
   "metadata": {},
   "outputs": [
    {
     "name": "stdout",
     "output_type": "stream",
     "text": [
      "1 100\n",
      "1\n",
      "1\n"
     ]
    }
   ],
   "source": [
    "import sys\n",
    "input = lambda: sys.stdin.readline().rstrip()\n",
    "\n",
    "for _ in range(int(input())):\n",
    "    n, c = map(int, input().split())\n",
    "    li = list(map(int, input().split()))\n",
    "\n",
    "    ct = [0] * 101\n",
    "    for v in li:\n",
    "        ct[v] += 1\n",
    "\n",
    "    total = 0\n",
    "    for v in ct:\n",
    "        if v:\n",
    "            total += min(v, c)\n",
    "\n",
    "    print(total)"
   ]
  },
  {
   "cell_type": "markdown",
   "metadata": {},
   "source": [
    "B"
   ]
  },
  {
   "cell_type": "code",
   "execution_count": 20,
   "metadata": {},
   "outputs": [
    {
     "name": "stdout",
     "output_type": "stream",
     "text": [
      "1\n",
      "3\n",
      "1 2 3\n",
      "4 1 2\n",
      "1.0\n"
     ]
    }
   ],
   "source": [
    "import io, os, sys\n",
    "input = io.BytesIO(os.read(0,os.fstat(0).st_size)).readline\n",
    "\n",
    "inf = float('inf')\n",
    "\n",
    "def get_value(mid):\n",
    "    max_r = -inf\n",
    "    for i in range(n):\n",
    "        temp = abs(mid - xs[i]) + ts[i]\n",
    "        max_r = max(max_r, temp)\n",
    "        \n",
    "    return max_r\n",
    "\n",
    "e7 = int(1e7)\n",
    "\n",
    "for _ in range(int(input())):\n",
    "    n = int(input())\n",
    "    xs = list(map(int, input().split()))\n",
    "    ts = list(map(int, input().split()))\n",
    "\n",
    "    for i in range(n):\n",
    "        xs[i] *= e7\n",
    "        ts[i] *= e7\n",
    "\n",
    "    start = 0\n",
    "    end = e7 * int(1e8) + 5\n",
    "    min_r = inf\n",
    "    min_r_loc = -1\n",
    "    while start <= end:\n",
    "        mid1 = (start * 2 + end) // 3\n",
    "        mid2 = (start + end * 2) // 3\n",
    "\n",
    "        t1 = get_value(mid1)\n",
    "        t2 = get_value(mid2)\n",
    "\n",
    "        if t1 < min_r:\n",
    "            min_r = t1\n",
    "            min_r_loc = mid1\n",
    "        if t2 < min_r:\n",
    "            min_r = t2\n",
    "            min_r_loc = mid2\n",
    "\n",
    "        if end - start <= 5:\n",
    "            for mid in range(start, end + 1):\n",
    "                temp = get_value(mid)\n",
    "\n",
    "                if temp < min_r:\n",
    "                    min_r = temp\n",
    "                    min_r_loc = mid\n",
    "            break\n",
    "\n",
    "        if t1 >= t2:\n",
    "            start = mid1\n",
    "        else:\n",
    "            end = mid2\n",
    "\n",
    "    print(min_r_loc / e7)"
   ]
  },
  {
   "cell_type": "markdown",
   "metadata": {},
   "source": [
    "https://codeforces.com/contest/1730/problem/C C. Minimum Notation"
   ]
  },
  {
   "cell_type": "code",
   "execution_count": 76,
   "metadata": {},
   "outputs": [
    {
     "name": "stdout",
     "output_type": "stream",
     "text": [
      "314752277691991\n",
      "111334567888999\n"
     ]
    }
   ],
   "source": [
    "import sys\n",
    "input = lambda: sys.stdin.readline().rstrip()\n",
    "\n",
    "for _ in range(int(input())):\n",
    "    li = list(map(int, input()))\n",
    "    n = len(li)\n",
    "\n",
    "    cur_min = li[n - 1]\n",
    "    to_use = []\n",
    "    for i in range(n - 1, -1, -1):\n",
    "        cur_min = min(cur_min, li[i])\n",
    "\n",
    "        if li[i] > cur_min:\n",
    "            to_use.append(min(9, li[i] + 1))\n",
    "            del li[i]\n",
    "\n",
    "    to_use.sort()\n",
    "\n",
    "    to_use_len = len(to_use)\n",
    "    n = len(li)\n",
    "\n",
    "    r = []\n",
    "    i = 0\n",
    "    tui = 0\n",
    "\n",
    "    while i < n and tui < to_use_len:\n",
    "        if li[i] < to_use[tui]:\n",
    "            r.append(li[i])\n",
    "            i += 1\n",
    "        else:\n",
    "            r.append(to_use[tui])\n",
    "            tui += 1\n",
    "\n",
    "    for ni in range(i, n):\n",
    "        r.append(li[ni])\n",
    "\n",
    "    for ntui in range(tui, to_use_len):\n",
    "        r.append(to_use[ntui])\n",
    "\n",
    "    r = ''.join(map(str, r))\n",
    "\n",
    "    print(r)"
   ]
  },
  {
   "cell_type": "markdown",
   "metadata": {},
   "source": [
    "https://codeforces.com/contest/1730/problem/D D. Prefixes and Suffixes"
   ]
  },
  {
   "cell_type": "code",
   "execution_count": 226,
   "metadata": {},
   "outputs": [
    {
     "name": "stdout",
     "output_type": "stream",
     "text": [
      "abc\n",
      "def\n"
     ]
    }
   ],
   "source": [
    "oa = list(input())\n",
    "ob = list(input())\n",
    "\n",
    "def change(num):\n",
    "    a[:num], b[-num:] = b[-num:], a[:num]\n",
    "    st.add((tuple(a), tuple(b)))\n",
    "\n",
    "a = oa.copy()\n",
    "b = ob.copy()\n",
    "    \n",
    "st = set()\n",
    "change(1)\n",
    "change(1)"
   ]
  },
  {
   "cell_type": "code",
   "execution_count": 242,
   "metadata": {},
   "outputs": [
    {
     "data": {
      "text/plain": [
       "{(('a', 'b', 'c'), ('d', 'e', 'f')),\n",
       " (('a', 'b', 'd'), ('c', 'e', 'f')),\n",
       " (('a', 'c', 'b'), ('e', 'd', 'f')),\n",
       " (('a', 'c', 'e'), ('b', 'd', 'f')),\n",
       " (('a', 'd', 'b'), ('e', 'c', 'f')),\n",
       " (('a', 'd', 'e'), ('b', 'c', 'f')),\n",
       " (('a', 'e', 'c'), ('d', 'b', 'f')),\n",
       " (('a', 'e', 'd'), ('c', 'b', 'f')),\n",
       " (('b', 'a', 'c'), ('d', 'f', 'e')),\n",
       " (('b', 'a', 'd'), ('c', 'f', 'e')),\n",
       " (('b', 'c', 'a'), ('f', 'd', 'e')),\n",
       " (('b', 'c', 'f'), ('a', 'd', 'e')),\n",
       " (('b', 'd', 'a'), ('f', 'c', 'e')),\n",
       " (('b', 'd', 'f'), ('a', 'c', 'e')),\n",
       " (('b', 'f', 'c'), ('d', 'a', 'e')),\n",
       " (('b', 'f', 'd'), ('c', 'a', 'e')),\n",
       " (('c', 'a', 'b'), ('e', 'f', 'd')),\n",
       " (('c', 'a', 'e'), ('b', 'f', 'd')),\n",
       " (('c', 'b', 'a'), ('f', 'e', 'd')),\n",
       " (('c', 'b', 'f'), ('a', 'e', 'd')),\n",
       " (('c', 'e', 'a'), ('f', 'b', 'd')),\n",
       " (('c', 'e', 'f'), ('a', 'b', 'd')),\n",
       " (('c', 'f', 'b'), ('e', 'a', 'd')),\n",
       " (('c', 'f', 'e'), ('b', 'a', 'd')),\n",
       " (('d', 'a', 'b'), ('e', 'f', 'c')),\n",
       " (('d', 'a', 'e'), ('b', 'f', 'c')),\n",
       " (('d', 'b', 'a'), ('f', 'e', 'c')),\n",
       " (('d', 'b', 'f'), ('a', 'e', 'c')),\n",
       " (('d', 'e', 'a'), ('f', 'b', 'c')),\n",
       " (('d', 'e', 'f'), ('a', 'b', 'c')),\n",
       " (('d', 'f', 'b'), ('e', 'a', 'c')),\n",
       " (('d', 'f', 'e'), ('b', 'a', 'c')),\n",
       " (('e', 'a', 'c'), ('d', 'f', 'b')),\n",
       " (('e', 'a', 'd'), ('c', 'f', 'b')),\n",
       " (('e', 'c', 'a'), ('f', 'd', 'b')),\n",
       " (('e', 'c', 'f'), ('a', 'd', 'b')),\n",
       " (('e', 'd', 'a'), ('f', 'c', 'b')),\n",
       " (('e', 'd', 'f'), ('a', 'c', 'b')),\n",
       " (('e', 'f', 'c'), ('d', 'a', 'b')),\n",
       " (('e', 'f', 'd'), ('c', 'a', 'b')),\n",
       " (('f', 'b', 'c'), ('d', 'e', 'a')),\n",
       " (('f', 'b', 'd'), ('c', 'e', 'a')),\n",
       " (('f', 'c', 'b'), ('e', 'd', 'a')),\n",
       " (('f', 'c', 'e'), ('b', 'd', 'a')),\n",
       " (('f', 'd', 'b'), ('e', 'c', 'a')),\n",
       " (('f', 'd', 'e'), ('b', 'c', 'a')),\n",
       " (('f', 'e', 'c'), ('d', 'b', 'a')),\n",
       " (('f', 'e', 'd'), ('c', 'b', 'a'))}"
      ]
     },
     "execution_count": 242,
     "metadata": {},
     "output_type": "execute_result"
    }
   ],
   "source": [
    "st"
   ]
  },
  {
   "cell_type": "code",
   "execution_count": 240,
   "metadata": {},
   "outputs": [],
   "source": [
    "change(2)\n",
    "change(1)\n",
    "change(3)\n",
    "change(3)\n",
    "change(2)\n",
    "change(2)\n",
    "change(2)\n",
    "change(2)\n",
    "change(3)\n",
    "change(2)\n",
    "change(3)\n",
    "change(1)\n",
    "change(3)\n",
    "change(1)\n",
    "change(1)\n",
    "change(1)\n",
    "change(2)\n",
    "change(2)\n",
    "change(3)\n",
    "change(3)\n",
    "change(3)\n",
    "change(2)\n",
    "change(2)\n",
    "change(2)\n",
    "change(3)\n",
    "change(3)\n",
    "change(2)\n",
    "change(1)\n",
    "change(2)\n",
    "change(2)\n",
    "change(3)\n",
    "change(3)\n",
    "change(1)\n",
    "change(2)\n",
    "change(2)\n",
    "change(2)\n",
    "change(2)\n",
    "change(3)\n",
    "change(2)\n",
    "change(3)\n",
    "change(2)\n",
    "change(3)\n",
    "change(1)\n",
    "change(3)\n",
    "change(2)\n",
    "change(2)\n",
    "change(2)\n",
    "change(1)\n",
    "change(1)\n",
    "change(2)\n",
    "change(3)\n",
    "change(2)\n",
    "change(3)\n",
    "change(1)\n",
    "change(3)\n",
    "change(3)\n",
    "change(2)\n",
    "change(2)\n",
    "change(1)\n",
    "change(2)\n",
    "change(3)\n",
    "change(3)\n",
    "change(3)\n",
    "change(2)\n",
    "change(2)\n",
    "change(2)\n",
    "change(3)\n",
    "change(3)\n",
    "change(2)\n",
    "change(2)\n",
    "change(2)\n",
    "change(2)\n",
    "change(3)\n",
    "change(3)\n",
    "change(3)\n",
    "change(1)\n",
    "change(2)\n",
    "change(2)\n",
    "change(2)\n",
    "change(2)\n",
    "change(3)\n",
    "change(2)\n",
    "change(3)\n",
    "change(2)\n",
    "change(2)\n",
    "change(2)\n",
    "change(1)\n",
    "change(2)\n",
    "change(2)\n",
    "change(2)\n",
    "change(1)\n",
    "change(3)\n",
    "change(3)\n",
    "change(3)\n",
    "change(3)\n",
    "change(1)"
   ]
  }
 ],
 "metadata": {
  "kernelspec": {
   "display_name": "Python 3",
   "language": "python",
   "name": "python3"
  },
  "language_info": {
   "codemirror_mode": {
    "name": "ipython",
    "version": 3
   },
   "file_extension": ".py",
   "mimetype": "text/x-python",
   "name": "python",
   "nbconvert_exporter": "python",
   "pygments_lexer": "ipython3",
   "version": "3.7.4"
  }
 },
 "nbformat": 4,
 "nbformat_minor": 2
}
