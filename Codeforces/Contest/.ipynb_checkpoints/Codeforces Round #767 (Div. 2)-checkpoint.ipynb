{
 "cells": [
  {
   "cell_type": "markdown",
   "metadata": {},
   "source": [
    "Interactive"
   ]
  },
  {
   "cell_type": "code",
   "execution_count": null,
   "metadata": {},
   "outputs": [],
   "source": [
    "import sys\n",
    " \n",
    "start = 1\n",
    "end = 1000000\n",
    " \n",
    "result = 0\n",
    "st = set()\n",
    "while start <= end:\n",
    "    mid = (start + end + 1) // 2\n",
    "    \n",
    "    print(mid)\n",
    "    sys.stdout.flush()\n",
    "    \n",
    "    feedback = input()\n",
    "    \n",
    "    if feedback == '<':\n",
    "        end = mid - 1\n",
    "    else:\n",
    "        start = mid\n",
    "        if mid in st:\n",
    "            break\n",
    "        st.add(mid)\n",
    "        \n",
    "result = f\"! {mid}\"\n",
    "print(result)\n",
    "sys.stdout.flush()"
   ]
  },
  {
   "cell_type": "code",
   "execution_count": null,
   "metadata": {},
   "outputs": [],
   "source": [
    "import sys\n",
    "\n",
    "print('? 1 2')\n",
    "sys.stdout.flush()\n",
    "a1_add_a2 = int(input())\n",
    "\n",
    "\n",
    "print('')\n",
    "a"
   ]
  },
  {
   "cell_type": "markdown",
   "metadata": {},
   "source": [
    "A"
   ]
  },
  {
   "cell_type": "code",
   "execution_count": 1,
   "metadata": {},
   "outputs": [
    {
     "name": "stdout",
     "output_type": "stream",
     "text": [
      "3\n",
      "6\n",
      "3 4 2 4 1 2\n",
      "3\n",
      "3\n",
      "1000 1002 998\n",
      "4\n",
      "2\n",
      "12 11\n",
      "1\n"
     ]
    }
   ],
   "source": [
    "for _ in range(int(input())):\n",
    "    n = int(input())\n",
    "    li = list(map(int, input().split()))\n",
    "\n",
    "    print(max(li) - min(li))"
   ]
  },
  {
   "cell_type": "markdown",
   "metadata": {},
   "source": [
    "B"
   ]
  },
  {
   "cell_type": "code",
   "execution_count": 11,
   "metadata": {},
   "outputs": [
    {
     "name": "stdout",
     "output_type": "stream",
     "text": [
      "1 2 3\n",
      "YES\n"
     ]
    }
   ],
   "source": [
    "for _ in range(int(input())):\n",
    "    a, b, c = map(int, input().split())\n",
    "\n",
    "    is_a_case = False\n",
    "    diff = c - b\n",
    "    x = (b - diff) / a\n",
    "    if x > 0 and x == int(x):\n",
    "        is_a_case = True\n",
    "\n",
    "    is_b_case = False\n",
    "    x = (a + c) / (2 * b)\n",
    "    if x > 0 and x == int(x):\n",
    "        is_b_case = True\n",
    "\n",
    "    is_c_case = False\n",
    "    diff = b - a\n",
    "    x = (diff + b) / c\n",
    "    if x > 0 and x == int(x):\n",
    "        is_c_case = True\n",
    "\n",
    "    if any([is_a_case, is_b_case, is_c_case]):\n",
    "        print('YES')\n",
    "    else:\n",
    "        print('NO')"
   ]
  },
  {
   "cell_type": "markdown",
   "metadata": {},
   "source": [
    "C"
   ]
  },
  {
   "cell_type": "code",
   "execution_count": 7,
   "metadata": {},
   "outputs": [
    {
     "name": "stdout",
     "output_type": "stream",
     "text": [
      "1\n",
      "4\n",
      "2 8 12 12\n",
      "YES\n"
     ]
    }
   ],
   "source": [
    "# AC -> WA\n",
    "for _ in range(int(inpuzt())):\n",
    "    n = int(input())\n",
    "    li = list(map(int, input().split()))\n",
    "\n",
    "    for i in range(n):\n",
    "        while li[i] > n:\n",
    "            li[i] //= 2\n",
    "\n",
    "    to_make = set(range(1, n + 1))\n",
    "\n",
    "    to_deletes = set()\n",
    "    for i in range(n):\n",
    "        if li[i] in to_make:\n",
    "            to_deletes.add(i)\n",
    "        to_make.discard(li[i])\n",
    "\n",
    "    nli = [v for i, v in enumerate(li) if i not in to_deletes]\n",
    "    nli.sort()\n",
    "    for v in nli:\n",
    "        while True:\n",
    "            v //= 2\n",
    "            if v in to_make:\n",
    "                to_make.discard(v)\n",
    "            if v <= 1:\n",
    "                break\n",
    "\n",
    "    if len(to_make) == 0:\n",
    "        print('YES')\n",
    "    else:\n",
    "        print('NO')"
   ]
  },
  {
   "cell_type": "code",
   "execution_count": null,
   "metadata": {},
   "outputs": [],
   "source": [
    "# AC\n",
    "for _ in range(int(input())):\n",
    "    n = int(input())\n",
    "    li = list(map(int, input().split()))\n",
    "\n",
    "    for i in range(n):\n",
    "        while li[i] > n:\n",
    "            li[i] //= 2\n",
    "\n",
    "    to_make = set(range(1, n + 1))\n",
    "\n",
    "    to_deletes = set()\n",
    "    for i in range(n):\n",
    "        if li[i] in to_make:\n",
    "            to_deletes.add(i)\n",
    "        to_make.discard(li[i])\n",
    "\n",
    "    nli = [v for i, v in enumerate(li) if i not in to_deletes]\n",
    "    nli.sort()\n",
    "    for v in nli:\n",
    "        while True:\n",
    "            v //= 2\n",
    "            if v in to_make:\n",
    "                to_make.discard(v)\n",
    "                break\n",
    "            if v <= 1:\n",
    "                break\n",
    "\n",
    "    if len(to_make) == 0:\n",
    "        print('YES')\n",
    "    else:\n",
    "        print('NO')"
   ]
  },
  {
   "cell_type": "markdown",
   "metadata": {},
   "source": [
    "D"
   ]
  },
  {
   "cell_type": "code",
   "execution_count": 77,
   "metadata": {},
   "outputs": [
    {
     "name": "stdout",
     "output_type": "stream",
     "text": [
      "1\n",
      "2 2\n",
      "aa\n",
      "1\n"
     ]
    }
   ],
   "source": [
    "from collections import Counter\n",
    "\n",
    "for _ in range(int(input())):\n",
    "    n, k = map(int, input().split())\n",
    "    s = input()\n",
    "\n",
    "    c = Counter(s)\n",
    "    cli = list(c.values())\n",
    "\n",
    "    c2 = 0\n",
    "    c1 = 0\n",
    "    for v in cli:\n",
    "        c2 += v // 2\n",
    "        c1 += v % 2\n",
    "\n",
    "    ans = 0\n",
    "    alled = c2 // k\n",
    "    ans += alled * 2\n",
    "\n",
    "    c1 += (c2 % k) * 2\n",
    "\n",
    "    if c1 // k >= 1:\n",
    "        ans += 1\n",
    "\n",
    "    print(ans)"
   ]
  },
  {
   "cell_type": "markdown",
   "metadata": {},
   "source": [
    "E"
   ]
  },
  {
   "cell_type": "code",
   "execution_count": 82,
   "metadata": {},
   "outputs": [
    {
     "data": {
      "text/plain": [
       "500500"
      ]
     },
     "execution_count": 82,
     "metadata": {},
     "output_type": "execute_result"
    }
   ],
   "source": [
    "두 자리 수, 세 자리 수만 필요함"
   ]
  },
  {
   "cell_type": "code",
   "execution_count": 86,
   "metadata": {},
   "outputs": [],
   "source": [
    "st1 = {'123', '12', '345'}\n",
    "st2 = {'123', '12', '45'}"
   ]
  },
  {
   "cell_type": "code",
   "execution_count": 90,
   "metadata": {},
   "outputs": [
    {
     "name": "stdout",
     "output_type": "stream",
     "text": [
      "4 8\n",
      "12340219\n",
      "20215601\n",
      "56782022\n",
      "12300678\n",
      "12345678\n"
     ]
    }
   ],
   "source": [
    "n, m = map(int, input().split())\n",
    "li = [input() for _ in range(n)]\n",
    "s = input()"
   ]
  },
  {
   "cell_type": "code",
   "execution_count": 88,
   "metadata": {},
   "outputs": [
    {
     "data": {
      "text/plain": [
       "[True, False, True, True, False, True]"
      ]
     },
     "execution_count": 88,
     "metadata": {},
     "output_type": "execute_result"
    }
   ],
   "source": [
    "dp = [False] * (len(s) + 1)\n",
    "dp[0] = True\n",
    "rs = [[] for _ in range(len(s) + 1)]\n",
    "for i in range(1, len(s)):\n",
    "    if dp[i - 1] and s[i - 1:i + 1] in st1:\n",
    "        dp[i + 1] = True\n",
    "        rs[i + 1].extend(rs[i - 1])\n",
    "        rs[i + 1].append(값)\n",
    "        continue\n",
    "    if i - 2 >= 0 and dp[i - 2] and s[i - 2:i + 1] in st1:\n",
    "        dp[i + 1] = True\n",
    "        rs[i + 1] != rs[i - 2]\n",
    "        rs[i + 1].add(값)\n",
    "        \n",
    "if dp[-1] == False:\n",
    "    print(-1)\n",
    "else:\n",
    "    for v in rs:\n",
    "        print(v)"
   ]
  },
  {
   "cell_type": "code",
   "execution_count": 104,
   "metadata": {},
   "outputs": [
    {
     "name": "stdout",
     "output_type": "stream",
     "text": [
      "1\n",
      "\n",
      "1 4\n",
      "1210\n",
      "1221\n",
      "2\n",
      "1 2 1\n",
      "2 3 1\n"
     ]
    }
   ],
   "source": [
    "# Accepted -> TLE\n",
    "for _ in range(int(input())):\n",
    "    input()\n",
    "    n, m = map(int, input().split())\n",
    "    li = [input() for _ in range(n)]\n",
    "    s = input()\n",
    "\n",
    "    d = dict()\n",
    "    for num in range(n):\n",
    "        for i in range(m - 1):\n",
    "            temp = li[num][i:i + 2]\n",
    "            if temp not in d:\n",
    "                d[temp] = f'{i + 1} {i + 2} {num + 1}'\n",
    "        for i in range(m - 2):\n",
    "            temp = li[num][i:i + 3]\n",
    "            if temp not in d:\n",
    "                d[temp] = f'{i + 1} {i + 3} {num + 1}'  \n",
    "\n",
    "    dp = [False] * (len(s) + 1)\n",
    "    dp[0] = True\n",
    "    rs = [[] for _ in range(len(s) + 1)]\n",
    "    for i in range(1, len(s)):\n",
    "        temp = s[i - 1:i + 1]\n",
    "        if dp[i - 1] and temp in d:\n",
    "            dp[i + 1] = True\n",
    "            rs[i + 1].extend(rs[i - 1])\n",
    "            rs[i + 1].append(d[temp])\n",
    "            continue\n",
    "        if i - 2 >= 0:\n",
    "            temp = s[i - 2:i + 1]\n",
    "            if dp[i - 2] and temp in d:\n",
    "                dp[i + 1] = True\n",
    "                rs[i + 1].extend(rs[i - 2])\n",
    "                rs[i + 1].append(d[temp])\n",
    "\n",
    "    if dp[-1] == False:\n",
    "        print(-1)\n",
    "    else:\n",
    "        print(len(rs[-1]))\n",
    "        for v in rs[-1]:\n",
    "            print(v)"
   ]
  },
  {
   "cell_type": "code",
   "execution_count": 54,
   "metadata": {},
   "outputs": [
    {
     "name": "stdout",
     "output_type": "stream",
     "text": [
      "1\n",
      "\n",
      "2 4\n",
      "1912\n",
      "1934\n",
      "1234\n",
      "2\n",
      "3 4 1\n",
      "3 4 2\n"
     ]
    }
   ],
   "source": [
    "# AC\n",
    "for _ in range(int(input())):\n",
    "    input()\n",
    "    n, m = map(int, input().split())\n",
    "    li = [input() for _ in range(n)]\n",
    "    s = input()\n",
    "\n",
    "    d = dict()\n",
    "    for num in range(n):\n",
    "        for i in range(m - 2):\n",
    "            temp = li[num][i:i + 2]\n",
    "            if temp not in d:\n",
    "                d[temp] = f'{i + 1} {i + 2} {num + 1}'\n",
    "            temp = li[num][i:i + 3]\n",
    "            if temp not in d:\n",
    "                d[temp] = f'{i + 1} {i + 3} {num + 1}'\n",
    "                \n",
    "        temp = li[num][m - 2:m]\n",
    "        if temp not in d:\n",
    "            d[temp] = f'{m - 1} {m} {num + 1}'\n",
    "\n",
    "\n",
    "    dp = [False] * (len(s) + 1)\n",
    "    dp[0] = True\n",
    "    rs = [[] for _ in range(len(s) + 1)]\n",
    "    for i in range(1, len(s)):\n",
    "        temp = s[i - 1:i + 1]\n",
    "        if dp[i - 1] and temp in d:\n",
    "            dp[i + 1] = True\n",
    "            rs[i + 1].extend(rs[i - 1])\n",
    "            rs[i + 1].append(d[temp])\n",
    "            continue\n",
    "        if i - 2 >= 0:\n",
    "            temp = s[i - 2:i + 1]\n",
    "            if dp[i - 2] and temp in d:\n",
    "                dp[i + 1] = True\n",
    "                rs[i + 1].extend(rs[i - 2])\n",
    "                rs[i + 1].append(d[temp])\n",
    "\n",
    "    if dp[-1] == False:\n",
    "        print(-1)\n",
    "    else:\n",
    "        print(len(rs[-1]))\n",
    "        for v in rs[-1]:\n",
    "            print(v)"
   ]
  },
  {
   "cell_type": "code",
   "execution_count": null,
   "metadata": {},
   "outputs": [],
   "source": [
    "1\n",
    "\n",
    "2 4\n",
    "1912\n",
    "1934\n",
    "1234\n",
    "2\n",
    "2 3 4\n",
    "2 3 4"
   ]
  },
  {
   "cell_type": "code",
   "execution_count": null,
   "metadata": {},
   "outputs": [],
   "source": [
    "1\n",
    "\n",
    "2 3\n",
    "134\n",
    "126\n",
    "123"
   ]
  },
  {
   "cell_type": "markdown",
   "metadata": {},
   "source": [
    "### 제출본"
   ]
  },
  {
   "cell_type": "code",
   "execution_count": null,
   "metadata": {},
   "outputs": [],
   "source": [
    "import os\n",
    "import sys\n",
    "from io import BytesIO, IOBase\n",
    "\n",
    "## PYRIVAL BOOTSTRAP\n",
    "# https://github.com/cheran-senthil/PyRival/blob/master/pyrival/misc/bootstrap.py\n",
    "# This decorator allows for recursion without actually doing recursion\n",
    "from types import GeneratorType\n",
    "## @bootstrap, yield when getting and returning value in recursive functions\n",
    "\n",
    "\n",
    "def main():\n",
    "    for _ in range(int(input())):\n",
    "        input()\n",
    "        n, m = map(int, input().split())\n",
    "        li = [input() for _ in range(n)]\n",
    "        s = input()\n",
    "\n",
    "        d = dict()\n",
    "        for num in range(n):\n",
    "            for i in range(m - 2):\n",
    "                temp = li[num][i:i + 2]\n",
    "                if temp not in d:\n",
    "                    d[temp] = f'{i + 1} {i + 2} {num + 1}'\n",
    "                temp = li[num][i:i + 3]\n",
    "                if temp not in d:\n",
    "                    d[temp] = f'{i + 1} {i + 3} {num + 1}'\n",
    "\n",
    "            temp = li[num][m - 2:m]\n",
    "            if temp not in d:\n",
    "                d[temp] = f'{m - 1} {m} {num + 1}'\n",
    "\n",
    "\n",
    "        dp = [False] * (len(s) + 1)\n",
    "        dp[0] = True\n",
    "        rs = [[] for _ in range(len(s) + 1)]\n",
    "        for i in range(1, len(s)):\n",
    "            temp = s[i - 1:i + 1]\n",
    "            if dp[i - 1] and temp in d:\n",
    "                dp[i + 1] = True\n",
    "                rs[i + 1].extend(rs[i - 1])\n",
    "                rs[i + 1].append(d[temp])\n",
    "                continue\n",
    "            if i - 2 >= 0:\n",
    "                temp = s[i - 2:i + 1]\n",
    "                if dp[i - 2] and temp in d:\n",
    "                    dp[i + 1] = True\n",
    "                    rs[i + 1].extend(rs[i - 2])\n",
    "                    rs[i + 1].append(d[temp])\n",
    "\n",
    "        if dp[-1] == False:\n",
    "            print(-1)\n",
    "        else:\n",
    "            print(len(rs[-1]))\n",
    "            for v in rs[-1]:\n",
    "                print(v)\n",
    "\n",
    "\n",
    "\n",
    "\n",
    "    \n",
    "# region fastio\n",
    " \n",
    "BUFSIZE = 8192\n",
    " \n",
    "\n",
    "class FastIO(IOBase):\n",
    "    newlines = 0\n",
    " \n",
    "    def __init__(self, file):\n",
    "        self._fd = file.fileno()\n",
    "        self.buffer = BytesIO()\n",
    "        self.writable = \"x\" in file.mode or \"r\" not in file.mode\n",
    "        self.write = self.buffer.write if self.writable else None\n",
    " \n",
    "    def read(self):\n",
    "        while True:\n",
    "            b = os.read(self._fd, max(os.fstat(self._fd).st_size, BUFSIZE))\n",
    "            if not b:\n",
    "                break\n",
    "            ptr = self.buffer.tell()\n",
    "            self.buffer.seek(0, 2), self.buffer.write(b), self.buffer.seek(ptr)\n",
    "        self.newlines = 0\n",
    "        return self.buffer.read()\n",
    " \n",
    "    def readline(self):\n",
    "        while self.newlines == 0:\n",
    "            b = os.read(self._fd, max(os.fstat(self._fd).st_size, BUFSIZE))\n",
    "            self.newlines = b.count(b\"\\n\") + (not b)\n",
    "            ptr = self.buffer.tell()\n",
    "            self.buffer.seek(0, 2), self.buffer.write(b), self.buffer.seek(ptr)\n",
    "        self.newlines -= 1\n",
    "        return self.buffer.readline()\n",
    " \n",
    "    def flush(self):\n",
    "        if self.writable:\n",
    "            os.write(self._fd, self.buffer.getvalue())\n",
    "            self.buffer.truncate(0), self.buffer.seek(0)\n",
    " \n",
    " \n",
    "class IOWrapper(IOBase):\n",
    "    def __init__(self, file):\n",
    "        self.buffer = FastIO(file)\n",
    "        self.flush = self.buffer.flush\n",
    "        self.writable = self.buffer.writable\n",
    "        self.write = lambda s: self.buffer.write(s.encode(\"ascii\"))\n",
    "        self.read = lambda: self.buffer.read().decode(\"ascii\")\n",
    "        self.readline = lambda: self.buffer.readline().decode(\"ascii\")\n",
    " \n",
    " \n",
    "sys.stdin, sys.stdout = IOWrapper(sys.stdin), IOWrapper(sys.stdout)\n",
    "input = lambda: sys.stdin.readline().rstrip(\"\\r\\n\")\n",
    " \n",
    "# endregion\n",
    " \n",
    "if __name__ == \"__main__\":\n",
    "    def bootstrap(f, stack=[]):\n",
    "        def wrappedfunc(*args, **kwargs):\n",
    "            if stack:\n",
    "                return f(*args, **kwargs)\n",
    "            else:\n",
    "                to = f(*args, **kwargs)\n",
    "                while True:\n",
    "                    if type(to) is GeneratorType:\n",
    "                        stack.append(to)\n",
    "                        to = next(to)\n",
    "                    else:\n",
    "                        stack.pop()\n",
    "                        if not stack:\n",
    "                            break\n",
    "                        to = stack[-1].send(to)\n",
    "                return to\n",
    "        return wrappedfunc\n",
    "    \n",
    "    ip = lambda: input()\n",
    "    iip = lambda: int(input())\n",
    "    miip = lambda: map(int, input().split())\n",
    "    liip = lambda: list(map(int, input().split()))\n",
    "    sip = lambda: input().split() # splitted input\n",
    "    lip = lambda: list(input())\n",
    "    \n",
    "    main()"
   ]
  }
 ],
 "metadata": {
  "kernelspec": {
   "display_name": "Python 3",
   "language": "python",
   "name": "python3"
  },
  "language_info": {
   "codemirror_mode": {
    "name": "ipython",
    "version": 3
   },
   "file_extension": ".py",
   "mimetype": "text/x-python",
   "name": "python",
   "nbconvert_exporter": "python",
   "pygments_lexer": "ipython3",
   "version": "3.7.4"
  }
 },
 "nbformat": 4,
 "nbformat_minor": 4
}
