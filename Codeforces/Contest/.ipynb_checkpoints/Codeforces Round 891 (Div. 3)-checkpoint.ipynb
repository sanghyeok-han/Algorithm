{
 "cells": [
  {
   "cell_type": "markdown",
   "metadata": {},
   "source": [
    "### A"
   ]
  },
  {
   "cell_type": "code",
   "execution_count": 1,
   "metadata": {},
   "outputs": [
    {
     "name": "stdout",
     "output_type": "stream",
     "text": [
      "3\n",
      "3 9 8\n",
      "YES\n"
     ]
    }
   ],
   "source": [
    "import io, os, sys\n",
    "input = io.BytesIO(os.read(0, os.fstat(0).st_size)).readline\n",
    "\n",
    "for _ in range(int(input())):\n",
    "    n = int(input())\n",
    "    li = list(map(int, input().split()))\n",
    "\n",
    "    if sum(li) % 2 == 1:\n",
    "        print('NO')\n",
    "    else:\n",
    "        print('YES')"
   ]
  },
  {
   "cell_type": "markdown",
   "metadata": {},
   "source": [
    "### B"
   ]
  },
  {
   "cell_type": "code",
   "execution_count": 11,
   "metadata": {},
   "outputs": [
    {
     "name": "stdout",
     "output_type": "stream",
     "text": [
      "60947\n",
      "100000\n"
     ]
    }
   ],
   "source": [
    "import sys\n",
    "input = lambda: sys.stdin.readline().rstrip()\n",
    "\n",
    "for _ in range(int(input())):\n",
    "    li = [0] + list(map(int, input()))\n",
    "\n",
    "    to_zero_starts = [False] * len(li)\n",
    "    for i in range(len(li) - 1, 0, -1):\n",
    "        if li[i] == 10:\n",
    "            li[i] = 0\n",
    "            li[i - 1] += 1\n",
    "\n",
    "        if li[i] >= 5:\n",
    "            to_zero_starts[i] = True\n",
    "            li[i - 1] += 1\n",
    "\n",
    "    is_zero_start = False\n",
    "    for i in range(len(li)):\n",
    "        if to_zero_starts[i]:\n",
    "            is_zero_start = True\n",
    "\n",
    "        if is_zero_start:\n",
    "            li[i] = 0\n",
    "\n",
    "    print(''.join(map(str, li)).lstrip('0'))"
   ]
  },
  {
   "cell_type": "markdown",
   "metadata": {},
   "source": [
    "### C"
   ]
  },
  {
   "cell_type": "code",
   "execution_count": 16,
   "metadata": {},
   "outputs": [
    {
     "name": "stdout",
     "output_type": "stream",
     "text": [
      "2\n",
      "10\n",
      "10 10\n"
     ]
    }
   ],
   "source": [
    "import io, os, sys\n",
    "input = io.BytesIO(os.read(0, os.fstat(0).st_size)).readline\n",
    "\n",
    "for _ in range(int(input())):\n",
    "    n = int(input())\n",
    "    li = sorted(map(int, input().split()))\n",
    "\n",
    "    cur = -1\n",
    "    term = n - 1\n",
    "\n",
    "    result = []\n",
    "    while True:\n",
    "        cur += term\n",
    "        result.append(li[cur])\n",
    "\n",
    "        term -= 1\n",
    "        if term == 0:\n",
    "            break\n",
    "\n",
    "    result.append(result[-1])\n",
    "\n",
    "    print(*result)"
   ]
  },
  {
   "cell_type": "markdown",
   "metadata": {},
   "source": [
    "### D"
   ]
  },
  {
   "cell_type": "code",
   "execution_count": null,
   "metadata": {},
   "outputs": [],
   "source": [
    "import io, os, sys\n",
    "# input = io.BytesIO(os.read(0, os.fstat(0).st_size)).readline\n",
    "\n",
    "for _ in range(int(input())):\n",
    "    n = int(input())\n",
    "    A = list(map(int, input().split()))\n",
    "    B = list(map(int, input().split()))\n",
    "\n",
    "    diffs = [(A[i] - B[i], i + 1) for i in range(n)]\n",
    "    diffs.sort(key=lambda x: -x[0])\n",
    "\n",
    "    largest = diffs[0][0]\n",
    "    result = []\n",
    "    for i in range(n):\n",
    "        if diffs[i][0] == largest:\n",
    "            result.append(diffs[i][1])\n",
    "        else:\n",
    "            break\n",
    "\n",
    "    print(len(result))\n",
    "    print(*result)"
   ]
  },
  {
   "cell_type": "markdown",
   "metadata": {},
   "source": [
    "### E"
   ]
  },
  {
   "cell_type": "code",
   "execution_count": 26,
   "metadata": {},
   "outputs": [
    {
     "name": "stdout",
     "output_type": "stream",
     "text": [
      "4\n",
      "1 10 100 1000\n",
      "1111 1093 1093 2893\n"
     ]
    }
   ],
   "source": [
    "import io, os, sys\n",
    "input = io.BytesIO(os.read(0, os.fstat(0).st_size)).readline\n",
    "\n",
    "def get_sum(num):\n",
    "    return num * (num + 1) // 2\n",
    "\n",
    "for _ in range(int(input())):\n",
    "    n = int(input())\n",
    "    li = list(map(int, input().split()))\n",
    "\n",
    "    nli = [(v, i) for i, v in enumerate(li)]\n",
    "    nli.sort(key=lambda x: x[0])\n",
    "\n",
    "    diffs = [nli[i][0] - nli[i - 1][0] - 1 for i in range(1, n)]\n",
    "\n",
    "    ws = list(range(n - 1, 0, -1))\n",
    "    cur_betws = 0\n",
    "    for i in range(n - 1):\n",
    "        cur_betws += diffs[i] * ws[i]\n",
    "\n",
    "    cur_points = 0\n",
    "    left_c = 0\n",
    "    right_c = n - 1\n",
    "    cur_points = get_sum(left_c) + get_sum(right_c) + n\n",
    "\n",
    "    total = cur_betws + cur_points\n",
    "\n",
    "    result = [0] * n\n",
    "    result[nli[0][1]] = cur_betws + cur_points\n",
    "\n",
    "    for i in range(1, n):\n",
    "        cur_betws -= diffs[i - 1] * ws[i - 1]\n",
    "        ws[i - 1] = n - ws[i - 1]\n",
    "        cur_betws += diffs[i - 1] * ws[i - 1]\n",
    "\n",
    "        left_c = i\n",
    "        right_c = n - 1 - i\n",
    "        cur_points = get_sum(left_c) + get_sum(right_c) + n\n",
    "\n",
    "        total = cur_betws + cur_points\n",
    "        result[nli[i][1]] = cur_betws + cur_points\n",
    "\n",
    "    print(*result)"
   ]
  },
  {
   "cell_type": "markdown",
   "metadata": {},
   "source": [
    "### F"
   ]
  },
  {
   "cell_type": "code",
   "execution_count": null,
   "metadata": {},
   "outputs": [],
   "source": [
    "# y가 큰 것에 비해 비효율적임\n",
    "def get_divisors(num):\n",
    "    divisors = []\n",
    "    for mod in range(1, int(num ** 0.5)):\n",
    "        if num % mod == 0:\n",
    "            divisors.append(mod)\n",
    "            divisors.append(num // mod)\n",
    "            \n",
    "    mod = int(num ** 0.5)\n",
    "    if num % mod == 0:\n",
    "        divisors.append(mod)\n",
    "        if num // mod != mod:\n",
    "            divisors.append(num // mod)\n",
    "            \n",
    "    return divisors\n",
    "\n",
    "n = int(input())\n",
    "li = list(map(int, input().split()))\n",
    "\n",
    "ct = dict()\n",
    "for v in li:\n",
    "    sv = str(v)\n",
    "    if sv not in ct:\n",
    "        ct[sv] = 1\n",
    "    else:\n",
    "        ct[sv] += 1\n",
    "        \n",
    "result = []\n",
    "q = int(input())\n",
    "for _ in range(q):\n",
    "    x, y = map(int, input().split())\n",
    "    \n",
    "    st = set()\n",
    "    temp_r = 0\n",
    "    \n",
    "    for a in get_divisors(abs(y)):\n",
    "        b = abs(y) // a\n",
    "        \n",
    "        if a in st or b in st:\n",
    "            continue\n",
    "        st.add(a)\n",
    "        st.add(b)\n",
    "        \n",
    "        if a == b:\n",
    "            if a + a == x:\n",
    "                sa = str(a)\n",
    "                if sa in ct:\n",
    "                    temp_r += ct[sa] * (ct[sa] - 1) // 2\n",
    "            if -a -a == x:\n",
    "                sa = str(-a)\n",
    "                if sa in ct:\n",
    "                    temp_r += ct[sa] * (ct[sa] - 1) // 2                \n",
    "        else:\n",
    "            pa = a\n",
    "            ma = -a\n",
    "\n",
    "            pb = b\n",
    "            mb = -b\n",
    "            \n",
    "            print(pa, ma, pb, mb)\n",
    "            \n",
    "            if pa + pb == x:\n",
    "                sa = str(pa)\n",
    "                sb = str(pb)\n",
    "\n",
    "                if sa != sb:\n",
    "                    if sa in ct and sb in ct:\n",
    "                        temp_r += ct[sa] * ct[sb]\n",
    "            if ma + pb == x:\n",
    "                sa = str(ma)\n",
    "                sb = str(pb)\n",
    "\n",
    "                if sa != sb:\n",
    "                    if sa in ct and sb in ct:\n",
    "                        temp_r += ct[sa] * ct[sb]    \n",
    "            if pa + mb == x:\n",
    "                sa = str(pa)\n",
    "                sb = str(mb)\n",
    "\n",
    "                if sa != sb:\n",
    "                    if sa in ct and sb in ct:\n",
    "                        temp_r += ct[sa] * ct[sb]\n",
    "            if ma + mb == x:\n",
    "                sa = str(ma)\n",
    "                sb = str(mb)\n",
    "\n",
    "                if sa != sb:\n",
    "                    if sa in ct and sb in ct:\n",
    "                        temp_r += ct[sa] * ct[sb]\n",
    "                        \n",
    "    result.append(temp_r)\n",
    "    \n",
    "print(*result)"
   ]
  }
 ],
 "metadata": {
  "kernelspec": {
   "display_name": "Python 3",
   "language": "python",
   "name": "python3"
  },
  "language_info": {
   "codemirror_mode": {
    "name": "ipython",
    "version": 3
   },
   "file_extension": ".py",
   "mimetype": "text/x-python",
   "name": "python",
   "nbconvert_exporter": "python",
   "pygments_lexer": "ipython3",
   "version": "3.8.3"
  }
 },
 "nbformat": 4,
 "nbformat_minor": 4
}
