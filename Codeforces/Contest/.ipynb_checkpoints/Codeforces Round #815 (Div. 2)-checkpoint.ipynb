{
 "cells": [
  {
   "cell_type": "markdown",
   "metadata": {},
   "source": [
    "A"
   ]
  },
  {
   "cell_type": "code",
   "execution_count": 2,
   "metadata": {},
   "outputs": [
    {
     "name": "stdout",
     "output_type": "stream",
     "text": [
      "1\n",
      "0 3 0 4\n",
      "0\n"
     ]
    }
   ],
   "source": [
    "from math import gcd\n",
    "import sys\n",
    "input = lambda: sys.stdin.readline().rstrip()\n",
    "\n",
    "for _ in range(int(input())):\n",
    "    a, b, c, d = map(int, input().split())\n",
    "\n",
    "    g1 = gcd(a, b)\n",
    "    g2 = gcd(c, d)\n",
    "\n",
    "    a = a // g1\n",
    "    b = b // g1\n",
    "\n",
    "    c = c // g2\n",
    "    d = d // g2\n",
    "\n",
    "    if a == c and b == d:\n",
    "        print(0)\n",
    "    else:\n",
    "        aa = a * d\n",
    "        bb = c * b\n",
    "        \n",
    "        if aa == 0 or bb == 0:\n",
    "            print(1)\n",
    "        elif aa % bb == 0 or bb % aa == 0:\n",
    "            print(1)\n",
    "        else:\n",
    "            print(2)"
   ]
  },
  {
   "cell_type": "markdown",
   "metadata": {},
   "source": [
    "B"
   ]
  },
  {
   "cell_type": "code",
   "execution_count": 5,
   "metadata": {},
   "outputs": [
    {
     "name": "stdout",
     "output_type": "stream",
     "text": [
      "1 6\n"
     ]
    }
   ],
   "source": [
    "n = 6\n",
    "for l in range(1, 7):\n",
    "    for r in range(l, 7):\n",
    "        if r - l + 1 >= n:\n",
    "            print(l, r)"
   ]
  },
  {
   "cell_type": "code",
   "execution_count": null,
   "metadata": {},
   "outputs": [],
   "source": [
    "1 2 3 100 200\n",
    "  l    r"
   ]
  },
  {
   "cell_type": "code",
   "execution_count": 6,
   "metadata": {},
   "outputs": [
    {
     "data": {
      "text/plain": [
       "297"
      ]
     },
     "execution_count": 6,
     "metadata": {},
     "output_type": "execute_result"
    }
   ],
   "source": [
    "200 - 1 + 100 - 2"
   ]
  },
  {
   "cell_type": "code",
   "execution_count": 7,
   "metadata": {},
   "outputs": [
    {
     "data": {
      "text/plain": [
       "14"
      ]
     },
     "execution_count": 7,
     "metadata": {},
     "output_type": "execute_result"
    }
   ],
   "source": [
    "8 - 1 + 8 - 1"
   ]
  },
  {
   "cell_type": "code",
   "execution_count": null,
   "metadata": {},
   "outputs": [],
   "source": [
    "1 2 3 4 5"
   ]
  },
  {
   "cell_type": "code",
   "execution_count": null,
   "metadata": {},
   "outputs": [],
   "source": [
    "5 1 1 1 5"
   ]
  },
  {
   "cell_type": "code",
   "execution_count": null,
   "metadata": {},
   "outputs": [],
   "source": [
    "5 1 1 1 1 6 1 1 1 5"
   ]
  },
  {
   "cell_type": "code",
   "execution_count": null,
   "metadata": {},
   "outputs": [],
   "source": [
    "9 4 4 4 1"
   ]
  },
  {
   "cell_type": "code",
   "execution_count": null,
   "metadata": {},
   "outputs": [],
   "source": [
    "9  4 4 4 4 1"
   ]
  },
  {
   "cell_type": "code",
   "execution_count": 24,
   "metadata": {},
   "outputs": [
    {
     "name": "stdout",
     "output_type": "stream",
     "text": [
      "6\n",
      "7 8 3 1 1 8\n",
      "14\n"
     ]
    }
   ],
   "source": [
    "import sys\n",
    "input = lambda: sys.stdin.readline().rstrip()\n",
    "\n",
    "for _ in range(int(input())):\n",
    "    n = int(input())\n",
    "    li = sorted(map(int, input().split()))\n",
    "\n",
    "    r = li[-1] - li[0] + li[-2] - li[1]\n",
    "\n",
    "    print(r)"
   ]
  },
  {
   "cell_type": "code",
   "execution_count": 22,
   "metadata": {},
   "outputs": [
    {
     "data": {
      "text/plain": [
       "297"
      ]
     },
     "execution_count": 22,
     "metadata": {},
     "output_type": "execute_result"
    }
   ],
   "source": [
    "li[-1] - li[0] + li[-2] - li[1]"
   ]
  },
  {
   "cell_type": "markdown",
   "metadata": {},
   "source": [
    "C"
   ]
  },
  {
   "cell_type": "code",
   "execution_count": null,
   "metadata": {},
   "outputs": [],
   "source": [
    "0이 2개 붙어있는 경우가 있으면 모든 1 사용 가능\n",
    "0이 하나 있으면 1을 처음에 2개 없애고 그 후로 1개씩 사용 가능\n",
    "0이 하나도 없으면 1을 처음에 3개 없애고 그 후로 1개씩 사용 가능"
   ]
  },
  {
   "cell_type": "code",
   "execution_count": null,
   "metadata": {},
   "outputs": [],
   "source": [
    "import sys\n",
    "# input = lambda: sys.stdin.readline().rstrip()\n",
    "\n",
    "dx = [-1, -1, -1, 0, 0, 1, 1, 1]\n",
    "dy = [-1, 0, 1, -1, 1, -1, 0, 1]\n",
    "\n",
    "for _ in range(int(input())):\n",
    "    n, m = map(int, input().split())\n",
    "    li = [list(map(int, input())) for _ in range(n)]\n",
    "\n",
    "    is_20 = False\n",
    "    is_0 = False\n",
    "    c1 = 0\n",
    "    for i in range(n):\n",
    "        for j in range(m):\n",
    "            if li[i][j] == 0:\n",
    "                is_0 = True\n",
    "                for d in range(8):\n",
    "                    ni = i + dx[d]\n",
    "                    nj = j + dy[d]\n",
    "\n",
    "                    if ni < 0 or ni >= n or nj < 0 or nj >= m:\n",
    "                        continue\n",
    "                    if li[ni][nj] == 0:\n",
    "                        is_20 = True\n",
    "            else:\n",
    "                c1 += 1\n",
    "\n",
    "    r = 0\n",
    "    if is_20:\n",
    "        r = c1\n",
    "    elif is_0:\n",
    "        r = max(0, c1 - 1)\n",
    "    else:\n",
    "        r = max(0, c1 - 2)\n",
    "\n",
    "    print(r)"
   ]
  },
  {
   "cell_type": "markdown",
   "metadata": {},
   "source": [
    "D1"
   ]
  },
  {
   "cell_type": "code",
   "execution_count": 27,
   "metadata": {},
   "outputs": [
    {
     "data": {
      "text/plain": [
       "256"
      ]
     },
     "execution_count": 27,
     "metadata": {},
     "output_type": "execute_result"
    }
   ],
   "source": [
    "index 1 2 4\n",
    "value 2 4 1\n",
    "\n"
   ]
  },
  {
   "cell_type": "code",
   "execution_count": 28,
   "metadata": {},
   "outputs": [
    {
     "data": {
      "text/plain": [
       "(0, 5)"
      ]
     },
     "execution_count": 28,
     "metadata": {},
     "output_type": "execute_result"
    }
   ],
   "source": [
    "2 ^ 2, 4 ^ 1"
   ]
  },
  {
   "cell_type": "code",
   "execution_count": 29,
   "metadata": {},
   "outputs": [
    {
     "data": {
      "text/plain": [
       "(0, 3)"
      ]
     },
     "execution_count": 29,
     "metadata": {},
     "output_type": "execute_result"
    }
   ],
   "source": [
    "4 ^ 4, 1 ^ 2"
   ]
  },
  {
   "cell_type": "code",
   "execution_count": null,
   "metadata": {},
   "outputs": [],
   "source": [
    "index = 000 001 010 011 100\n",
    "value = 101 010 100 011 001"
   ]
  },
  {
   "cell_type": "code",
   "execution_count": null,
   "metadata": {},
   "outputs": [],
   "source": [
    "인덱스가 더 큰 것보다 인덱스가 더 작은 것과의 교차가 더 커야함"
   ]
  },
  {
   "cell_type": "code",
   "execution_count": null,
   "metadata": {},
   "outputs": [],
   "source": [
    "01 00\n",
    "01 00"
   ]
  },
  {
   "cell_type": "code",
   "execution_count": 46,
   "metadata": {},
   "outputs": [
    {
     "name": "stdout",
     "output_type": "stream",
     "text": [
      "0 1 False 7\n",
      "0 2 False 4\n",
      "0 3 False 4\n",
      "0 4 False 4\n",
      "0 5 True 7\n",
      "0 6 True 88\n",
      "0 7 True 36\n",
      "1 2 False 3\n",
      "1 3 True 3\n",
      "1 4 False 3\n",
      "1 5 False 0\n",
      "1 6 True 95\n",
      "1 7 True 35\n",
      "2 3 False 0\n",
      "2 4 False 0\n",
      "2 5 False 3\n",
      "2 6 True 92\n",
      "2 7 True 32\n",
      "3 4 False 0\n",
      "3 5 False 3\n",
      "3 6 True 92\n",
      "3 7 True 32\n",
      "4 5 True 3\n",
      "4 6 True 92\n",
      "4 7 True 32\n",
      "5 6 True 95\n",
      "5 7 True 35\n",
      "6 7 False 124\n"
     ]
    }
   ],
   "source": [
    "a = [4, 3, 0, 0, 0, 3, 92, 32]\n",
    "\n",
    "for i in range(8):\n",
    "    for j in range(i + 1, 8):\n",
    "        print(i, j, a[i] ^ j < a[j] ^ i, a[i] ^ a[j])"
   ]
  },
  {
   "cell_type": "code",
   "execution_count": 38,
   "metadata": {},
   "outputs": [
    {
     "data": {
      "text/plain": [
       "(5, 13)"
      ]
     },
     "execution_count": 38,
     "metadata": {},
     "output_type": "execute_result"
    }
   ],
   "source": [
    "4 ^ 1, 9 ^ 4"
   ]
  },
  {
   "cell_type": "code",
   "execution_count": 39,
   "metadata": {},
   "outputs": [
    {
     "data": {
      "text/plain": [
       "(1, 9)"
      ]
     },
     "execution_count": 39,
     "metadata": {},
     "output_type": "execute_result"
    }
   ],
   "source": [
    "4 ^ 1 ^ 4, 9"
   ]
  },
  {
   "cell_type": "code",
   "execution_count": 40,
   "metadata": {},
   "outputs": [
    {
     "data": {
      "text/plain": [
       "(10, 5)"
      ]
     },
     "execution_count": 40,
     "metadata": {},
     "output_type": "execute_result"
    }
   ],
   "source": [
    "3 ^ 9, 2 ^ 7"
   ]
  },
  {
   "cell_type": "code",
   "execution_count": 41,
   "metadata": {},
   "outputs": [
    {
     "data": {
      "text/plain": [
       "(8, 7)"
      ]
     },
     "execution_count": 41,
     "metadata": {},
     "output_type": "execute_result"
    }
   ],
   "source": [
    "3 ^ 9 ^ 2, 7"
   ]
  },
  {
   "cell_type": "code",
   "execution_count": 42,
   "metadata": {},
   "outputs": [
    {
     "data": {
      "text/plain": [
       "(13, 2)"
      ]
     },
     "execution_count": 42,
     "metadata": {},
     "output_type": "execute_result"
    }
   ],
   "source": [
    "3 ^ 9 ^ 7, 2"
   ]
  }
 ],
 "metadata": {
  "kernelspec": {
   "display_name": "Python 3",
   "language": "python",
   "name": "python3"
  },
  "language_info": {
   "codemirror_mode": {
    "name": "ipython",
    "version": 3
   },
   "file_extension": ".py",
   "mimetype": "text/x-python",
   "name": "python",
   "nbconvert_exporter": "python",
   "pygments_lexer": "ipython3",
   "version": "3.7.4"
  }
 },
 "nbformat": 4,
 "nbformat_minor": 2
}
