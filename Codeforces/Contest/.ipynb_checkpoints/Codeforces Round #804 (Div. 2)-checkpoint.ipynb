{
 "cells": [
  {
   "cell_type": "markdown",
   "metadata": {},
   "source": [
    "A"
   ]
  },
  {
   "cell_type": "markdown",
   "metadata": {},
   "source": [
    "https://codeforces.com/contest/1699/problem/0"
   ]
  },
  {
   "cell_type": "code",
   "execution_count": 19,
   "metadata": {},
   "outputs": [
    {
     "data": {
      "text/plain": [
       "16"
      ]
     },
     "execution_count": 19,
     "metadata": {},
     "output_type": "execute_result"
    }
   ],
   "source": [
    "gv = lambda a, b, c: (a ^ b) + (b ^ c) + (a ^ c)\n",
    "\n",
    "n = 10\n",
    "\n",
    "gv(8, 0, 0)"
   ]
  },
  {
   "cell_type": "code",
   "execution_count": 20,
   "metadata": {},
   "outputs": [
    {
     "name": "stdout",
     "output_type": "stream",
     "text": [
      "2\n",
      "4\n",
      "2 0 0\n",
      "1\n",
      "-1\n"
     ]
    }
   ],
   "source": [
    "import sys\n",
    "input = lambda: sys.stdin.readline().rstrip()\n",
    "\n",
    "for _ in range(int(input())):\n",
    "    n = int(input())\n",
    "    \n",
    "    if n % 2 == 0:\n",
    "        print(n // 2, 0, 0)\n",
    "    else:\n",
    "        print(-1)"
   ]
  },
  {
   "cell_type": "markdown",
   "metadata": {},
   "source": [
    "B"
   ]
  },
  {
   "cell_type": "code",
   "execution_count": 28,
   "metadata": {},
   "outputs": [
    {
     "name": "stdout",
     "output_type": "stream",
     "text": [
      "4 4\n",
      "1 0 0 1\n",
      "0 1 1 0\n",
      "0 1 1 0\n",
      "1 0 0 1\n"
     ]
    }
   ],
   "source": [
    "import sys\n",
    "input = lambda: sys.stdin.readline().rstrip()\n",
    "\n",
    "for _ in range(int(input())):\n",
    "    n, m = map(int, input().split())\n",
    "\n",
    "    c1 = [1]\n",
    "    cur = 0\n",
    "    for i in range((m - 1) // 2):\n",
    "        c1.append(cur)\n",
    "        c1.append(cur)\n",
    "        cur ^= 1\n",
    "\n",
    "    c1.append(cur)\n",
    "\n",
    "    c2 = [0] * m\n",
    "    for i in range(m):\n",
    "        c2[i] = c1[i] ^ 1\n",
    "\n",
    "    print(*c1)\n",
    "    cur_to_p = 1\n",
    "    for _ in range((n - 1) // 2):\n",
    "        if cur_to_p == 1:\n",
    "            print(*c2)\n",
    "            print(*c2)\n",
    "        else:\n",
    "            print(*c1)\n",
    "            print(*c1)\n",
    "        cur_to_p ^= 1\n",
    "\n",
    "    if cur_to_p == 1:\n",
    "        print(*c2)\n",
    "    else:\n",
    "        print(*c1)"
   ]
  },
  {
   "cell_type": "markdown",
   "metadata": {},
   "source": [
    "C"
   ]
  },
  {
   "cell_type": "code",
   "execution_count": 56,
   "metadata": {},
   "outputs": [
    {
     "name": "stdout",
     "output_type": "stream",
     "text": [
      "1\n",
      "8\n",
      "1 3 7 2 5 0 6 4\n",
      "999 4\n",
      "999 3\n",
      "999 2\n",
      "999 1\n",
      "999 0\n",
      "9999 6\n",
      "9999 7\n",
      "72\n"
     ]
    }
   ],
   "source": [
    "import sys\n",
    "input = lambda: sys.stdin.readline().rstrip()\n",
    "\n",
    "mod = int(1e9) + 7\n",
    "    \n",
    "for _ in range(int(input())):\n",
    "    n = int(input())\n",
    "    li = list(map(int, input().split()))\n",
    "\n",
    "    locs = [0] * n\n",
    "    for i in range(n):\n",
    "        locs[li[i]] = i\n",
    "\n",
    "    start = locs[0]\n",
    "    end = locs[0]\n",
    "    cur_mex = 1\n",
    "    vt = {0}\n",
    "    fixed = 1\n",
    "    result = 1\n",
    "    while cur_mex < n:\n",
    "        if locs[cur_mex] < start:\n",
    "            for i in range(start - 1, locs[cur_mex] - 1, -1):\n",
    "                vt.add(li[i])\n",
    "            start = locs[cur_mex]\n",
    "        else:\n",
    "            for i in range(end + 1, locs[cur_mex] + 1):\n",
    "                vt.add(li[i])\n",
    "            end = locs[cur_mex]\n",
    "        fixed += 1    \n",
    "\n",
    "        while True:\n",
    "            if cur_mex in vt:\n",
    "                cur_mex += 1\n",
    "            else:\n",
    "                break\n",
    "\n",
    "        intv_len = end - start + 1\n",
    "\n",
    "        nn = intv_len - fixed\n",
    "        nk = cur_mex - fixed\n",
    "\n",
    "        for num in range(nn - nk + 1, nn + 1):\n",
    "            result *= num\n",
    "            result %= mod\n",
    "\n",
    "        fixed += cur_mex - fixed\n",
    "\n",
    "    print(result)"
   ]
  },
  {
   "cell_type": "code",
   "execution_count": null,
   "metadata": {},
   "outputs": [],
   "source": [
    "(intv_len - fixed)P(cur_mex - fixed)"
   ]
  },
  {
   "cell_type": "markdown",
   "metadata": {},
   "source": [
    "D"
   ]
  },
  {
   "cell_type": "code",
   "execution_count": null,
   "metadata": {},
   "outputs": [],
   "source": []
  },
  {
   "cell_type": "code",
   "execution_count": 64,
   "metadata": {},
   "outputs": [
    {
     "name": "stdout",
     "output_type": "stream",
     "text": [
      "1\n",
      "12\n",
      "1 5 2 3 3 3 4 4 4 4 3 3\n",
      "1 0\n",
      "2 0\n",
      "3 4\n",
      "4 4\n",
      "5 0\n",
      "4\n"
     ]
    }
   ],
   "source": [
    "import sys\n",
    "# input = lambda: sys.stdin.readline().rstrip()\n",
    "\n",
    "for _ in range(int(input())):\n",
    "    n = int(input())\n",
    "    li = list(map(int, input().split()))\n",
    "    \n",
    "    max_r = 0\n",
    "    for v in set(li):\n",
    "        for i in range(n):\n",
    "            \n",
    "        \n",
    "        saved_v = 0\n",
    "        i = 0\n",
    "        while i < n:\n",
    "            if li[i] == v:\n",
    "                saved_v += 1\n",
    "                i += 1\n",
    "            else:\n",
    "                i += 2\n",
    "\n",
    "        if i == n + 1:\n",
    "            saved_v -= 1\n",
    "            \n",
    "        print(v, saved_v)\n",
    "\n",
    "        max_r = max(max_r, saved_v)\n",
    "\n",
    "    print(max_r)"
   ]
  },
  {
   "cell_type": "code",
   "execution_count": null,
   "metadata": {},
   "outputs": [],
   "source": [
    "1 5 2 3 3 3 4 4 4 4 3 3\n"
   ]
  }
 ],
 "metadata": {
  "kernelspec": {
   "display_name": "Python 3",
   "language": "python",
   "name": "python3"
  },
  "language_info": {
   "codemirror_mode": {
    "name": "ipython",
    "version": 3
   },
   "file_extension": ".py",
   "mimetype": "text/x-python",
   "name": "python",
   "nbconvert_exporter": "python",
   "pygments_lexer": "ipython3",
   "version": "3.7.4"
  }
 },
 "nbformat": 4,
 "nbformat_minor": 2
}
