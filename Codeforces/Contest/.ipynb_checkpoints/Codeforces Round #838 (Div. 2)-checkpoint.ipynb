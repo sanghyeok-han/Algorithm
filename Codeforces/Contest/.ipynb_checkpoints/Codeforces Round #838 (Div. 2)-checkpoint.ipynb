{
 "cells": [
  {
   "cell_type": "markdown",
   "metadata": {},
   "source": [
    "A"
   ]
  },
  {
   "cell_type": "code",
   "execution_count": null,
   "metadata": {},
   "outputs": [],
   "source": [
    "짝 홀 홀 홀 짝"
   ]
  },
  {
   "cell_type": "code",
   "execution_count": 10,
   "metadata": {},
   "outputs": [
    {
     "name": "stdout",
     "output_type": "stream",
     "text": [
      "1\n",
      "15\n",
      "4\n"
     ]
    }
   ],
   "source": [
    "import io, os, sys\n",
    "input = io.BytesIO(os.read(0,os.fstat(0).st_size)).readline\n",
    "\n",
    "inf = float('inf')\n",
    "\n",
    "for _ in range(int(input())):\n",
    "    n = int(input())\n",
    "    li = list(map(int, input().split()))\n",
    "\n",
    "    c_odd = 0\n",
    "    c_even = 0\n",
    "    min_c = inf\n",
    "    for v in li:\n",
    "        o_parity = v % 2\n",
    "\n",
    "        if o_parity == 1:\n",
    "            c_odd += 1\n",
    "        else:\n",
    "            c_even += 1\n",
    "\n",
    "        c = 0\n",
    "        while v != 0:\n",
    "            c += 1\n",
    "            v //= 2\n",
    "\n",
    "            if v % 2 != o_parity:\n",
    "                break\n",
    "\n",
    "        min_c = min(min_c, c)\n",
    "\n",
    "    if c_odd % 2 == 0:\n",
    "        print(0)\n",
    "    else:\n",
    "        print(min_c)"
   ]
  },
  {
   "cell_type": "markdown",
   "metadata": {},
   "source": [
    "B"
   ]
  },
  {
   "cell_type": "code",
   "execution_count": null,
   "metadata": {},
   "outputs": [],
   "source": [
    "1 2 6 24 120"
   ]
  },
  {
   "cell_type": "code",
   "execution_count": null,
   "metadata": {},
   "outputs": [],
   "source": [
    "1 2 4 8 16"
   ]
  },
  {
   "cell_type": "code",
   "execution_count": 14,
   "metadata": {},
   "outputs": [
    {
     "data": {
      "text/plain": [
       "1000000000"
      ]
     },
     "execution_count": 14,
     "metadata": {},
     "output_type": "execute_result"
    }
   ],
   "source": [
    "int(1e9)"
   ]
  },
  {
   "cell_type": "code",
   "execution_count": 20,
   "metadata": {},
   "outputs": [
    {
     "data": {
      "text/plain": [
       "1073741824"
      ]
     },
     "execution_count": 20,
     "metadata": {},
     "output_type": "execute_result"
    }
   ],
   "source": [
    "2 ** 30"
   ]
  },
  {
   "cell_type": "code",
   "execution_count": 12,
   "metadata": {},
   "outputs": [
    {
     "data": {
      "text/plain": [
       "1000000000000000000"
      ]
     },
     "execution_count": 12,
     "metadata": {},
     "output_type": "execute_result"
    }
   ],
   "source": [
    "int(1e18)"
   ]
  },
  {
   "cell_type": "code",
   "execution_count": 27,
   "metadata": {},
   "outputs": [
    {
     "name": "stdout",
     "output_type": "stream",
     "text": [
      "3\n",
      "31 5 17\n",
      "3\n",
      "1 1\n",
      "2 3\n",
      "3 15\n"
     ]
    }
   ],
   "source": [
    "from bisect import bisect_left\n",
    "import io, os, sys\n",
    "input = io.BytesIO(os.read(0,os.fstat(0).st_size)).readline\n",
    "\n",
    "twos = []\n",
    "for i in range(1, 31):\n",
    "    twos.append(2 ** i)\n",
    "    \n",
    "for _ in range(int(input())):\n",
    "    n = int(input())\n",
    "    li = list(map(int, input().split()))\n",
    "\n",
    "    result = []\n",
    "    for i in range(n):\n",
    "        v = li[i]\n",
    "\n",
    "        index = bisect_left(twos, v)\n",
    "\n",
    "        x = twos[index] - v\n",
    "        if x > 0:\n",
    "            result.append((i + 1, x))\n",
    "\n",
    "    print(len(result))\n",
    "    for v in result:\n",
    "        print(*v)"
   ]
  },
  {
   "cell_type": "markdown",
   "metadata": {},
   "source": [
    "C"
   ]
  },
  {
   "cell_type": "code",
   "execution_count": null,
   "metadata": {},
   "outputs": [],
   "source": [
    "i 1 2 3 4 5\n",
    "v 1 0 1 0 1"
   ]
  },
  {
   "cell_type": "code",
   "execution_count": null,
   "metadata": {},
   "outputs": [],
   "source": [
    "0 ? 1 ? 1\n",
    "0 개수는 전체에서 n // 2 (2)개 이하여야됨\n",
    "\n",
    "현재 0: 1개, 1: 2개\n",
    "\n",
    "0은 1개까지 더 허용 가능"
   ]
  },
  {
   "cell_type": "code",
   "execution_count": null,
   "metadata": {},
   "outputs": [],
   "source": [
    "? 2개 중 1개 이하가 0 가능"
   ]
  },
  {
   "cell_type": "code",
   "execution_count": null,
   "metadata": {},
   "outputs": [],
   "source": []
  },
  {
   "cell_type": "code",
   "execution_count": 33,
   "metadata": {},
   "outputs": [
    {
     "name": "stdout",
     "output_type": "stream",
     "text": [
      "37\n",
      "1011011111011010000011011111111011111\n",
      "1 0\n",
      "2 0\n",
      "3 1\n",
      "4 2\n",
      "5 1\n",
      "6 3\n",
      "7 4\n",
      "8 5\n",
      "9 6\n",
      "10 7\n",
      "11 2\n",
      "12 8\n",
      "13 9\n",
      "14 3\n",
      "15 10\n",
      "16 4\n",
      "17 5\n",
      "18 6\n",
      "19 7\n",
      "20 8\n",
      "21 11\n",
      "22 12\n",
      "23 9\n",
      "24 13\n",
      "25 14\n",
      "26 15\n",
      "27 16\n",
      "28 17\n",
      "29 18\n",
      "30 19\n",
      "31 20\n",
      "32 10\n",
      "33 21\n",
      "34 22\n",
      "35 23\n",
      "36 24\n",
      "37 25\n",
      "134146941862\n"
     ]
    }
   ],
   "source": [
    "mod = 998244353\n",
    "\n",
    "def nCk(n, k):\n",
    "    if n < k:\n",
    "        return 0\n",
    "    if k < 0:\n",
    "        return 0\n",
    "    \n",
    "    if n - k < k:\n",
    "        k = n - k\n",
    "        \n",
    "    num = 1\n",
    "    for i in range(n, n - k, -1):\n",
    "        num *= i\n",
    "    \n",
    "    denom = 1\n",
    "    for i in range(2, k + 1):\n",
    "        denom *= i\n",
    "        \n",
    "    return num // denom\n",
    "\n",
    "n = int(input())\n",
    "li = list(map(int, input()))\n",
    "\n",
    "c0 = 0\n",
    "c1 = 0\n",
    "cur_c = 0\n",
    "cur_ex_c = 0\n",
    "result = 0\n",
    "for v in li:\n",
    "    if v == 0:\n",
    "        c0 += 1\n",
    "    else:\n",
    "        c1 += 1\n",
    "        \n",
    "    cur_c += 1\n",
    "    cur_ex_c = cur_c * 2 - 1\n",
    "\n",
    "    left = cur_ex_c // 2\n",
    "    if v == 0:\n",
    "        left -= c1\n",
    "    else:\n",
    "        left -= c0\n",
    "        \n",
    "    if \n",
    "        \n",
    "print(result)"
   ]
  },
  {
   "cell_type": "code",
   "execution_count": null,
   "metadata": {},
   "outputs": [],
   "source": [
    "0 ? 0\n",
    "  01\n",
    "    \n",
    "0 0 0 ? 1\n",
    "      x   \n",
    "\n",
    "0 1 0 ? 1\n",
    "      1\n",
    "    \n",
    "    \n",
    "0 ? 0 ? 0\n",
    "  01  01\n",
    "    \n",
    "0 0 0 1 0 x 1\n",
    "0 1 0 1 0 1 1\n",
    "0 0 0 0 0 x 1"
   ]
  },
  {
   "cell_type": "markdown",
   "metadata": {},
   "source": [
    "D"
   ]
  },
  {
   "cell_type": "code",
   "execution_count": null,
   "metadata": {},
   "outputs": [],
   "source": [
    "import sys\n",
    "input = lambda: sys.stdin.readline().rstrip()\n",
    "\n",
    "for _ in range(int(input())):\n",
    "    n = int(input())\n",
    "    max_num = n - 1\n",
    "\n",
    "    if n == 2:\n",
    "        print('!', 1, 2)\n",
    "        sys.stdout.flush()\n",
    "        inp = int(input())\n",
    "\n",
    "        if inp == -1:\n",
    "            break \n",
    "    else:\n",
    "        cri = max_num // 2 + 1\n",
    "\n",
    "        i = 0\n",
    "        max_input = -1\n",
    "        max_input_j = -1\n",
    "        result = [-1, -1]\n",
    "        for j in range(1, n):\n",
    "            print('?', i + 1, j + 1)\n",
    "            sys.stdout.flush()\n",
    "\n",
    "            inp = int(input())\n",
    "\n",
    "            if inp >= cri:\n",
    "                result = [i + 1, j + 1]\n",
    "                break\n",
    "\n",
    "            if inp > max_input:\n",
    "                max_input = inp\n",
    "                max_input_j = j\n",
    "\n",
    "        if result[0] == -1:\n",
    "            i = max_input_j\n",
    "            for j in range(n):\n",
    "                if j == i:\n",
    "                    continue\n",
    "\n",
    "                print('?', i + 1, j + 1)\n",
    "                sys.stdout.flush()\n",
    "\n",
    "                inp = int(input())\n",
    "\n",
    "                if inp >= cri:\n",
    "                    result = [i + 1, j + 1]\n",
    "                    break\n",
    "\n",
    "        print('!', result[0], result[1])\n",
    "        sys.stdout.flush()\n",
    "        inp = int(input())\n",
    "\n",
    "        if inp == -1:\n",
    "            break"
   ]
  },
  {
   "cell_type": "code",
   "execution_count": 39,
   "metadata": {},
   "outputs": [
    {
     "name": "stdout",
     "output_type": "stream",
     "text": [
      "? 1 2\n",
      "? 1 3\n",
      "? 1 4\n",
      "? 1 5\n",
      "? 1 6\n",
      "? 2 1\n",
      "? 2 3\n",
      "? 2 4\n",
      "! 2 4\n"
     ]
    }
   ],
   "source": [
    "from math import gcd\n",
    "\n",
    "import io, os, sys\n",
    "# input = io.BytesIO(os.read(0,os.fstat(0).st_size)).readline\n",
    "\n",
    "# n = int(input())\n",
    "n = 6\n",
    "max_num = n - 1\n",
    "\n",
    "ans = [2, 0, 1, 3, 4, 5]\n",
    "\n",
    "cri = max_num // 2 + 1\n",
    "\n",
    "i = 0\n",
    "max_input = -1\n",
    "max_input_j = -1\n",
    "result = [-1, -1]\n",
    "for j in range(1, n):\n",
    "    print('?', i + 1, j + 1)\n",
    "    sys.stdout.flush()\n",
    "\n",
    "#     inp = int(input())\n",
    "    inp = gcd(ans[i], ans[j])\n",
    "\n",
    "    if inp >= cri:\n",
    "        result = [i + 1, j + 1]\n",
    "        break\n",
    "\n",
    "    if inp > max_input:\n",
    "        max_input = inp\n",
    "        max_input_j = j\n",
    "\n",
    "if result[0] == -1:\n",
    "    i = max_input_j\n",
    "    for j in range(n):\n",
    "        if j == i:\n",
    "            continue\n",
    "\n",
    "        print('?', i + 1, j + 1)\n",
    "        sys.stdout.flush()\n",
    "\n",
    "        inp = gcd(ans[i], ans[j])\n",
    "#         inp = int(input())\n",
    "\n",
    "        if inp >= cri:\n",
    "            result = [i + 1, j + 1]\n",
    "            break\n",
    "\n",
    "print('!', result[0], result[1])\n",
    "sys.stdout.flush()"
   ]
  }
 ],
 "metadata": {
  "kernelspec": {
   "display_name": "Python 3",
   "language": "python",
   "name": "python3"
  },
  "language_info": {
   "codemirror_mode": {
    "name": "ipython",
    "version": 3
   },
   "file_extension": ".py",
   "mimetype": "text/x-python",
   "name": "python",
   "nbconvert_exporter": "python",
   "pygments_lexer": "ipython3",
   "version": "3.7.4"
  }
 },
 "nbformat": 4,
 "nbformat_minor": 2
}
