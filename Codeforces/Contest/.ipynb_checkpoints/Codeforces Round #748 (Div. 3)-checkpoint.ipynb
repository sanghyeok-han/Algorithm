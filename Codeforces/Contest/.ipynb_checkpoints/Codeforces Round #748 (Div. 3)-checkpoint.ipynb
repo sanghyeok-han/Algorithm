{
 "cells": [
  {
   "cell_type": "markdown",
   "metadata": {},
   "source": [
    "A"
   ]
  },
  {
   "cell_type": "code",
   "execution_count": null,
   "metadata": {},
   "outputs": [],
   "source": [
    "for _ in range(int(input())):\n",
    "    a, b, c = map(int, input().split())\n",
    "\n",
    "    li = [a, b, c]\n",
    "    max_value = max(li)\n",
    "    max_value_count = len([v for v in li if v == max_value])\n",
    "    result = []\n",
    "    if max_value_count == 1:\n",
    "        for v in li:\n",
    "            if v == max_value:\n",
    "                result.append(0)\n",
    "            else:\n",
    "                result.append(max_value + 1 - v)\n",
    "    else:\n",
    "        for v in li:\n",
    "            result.append(max_value + 1 - v)\n",
    "\n",
    "    print(*result)"
   ]
  },
  {
   "cell_type": "markdown",
   "metadata": {},
   "source": [
    "B"
   ]
  },
  {
   "cell_type": "code",
   "execution_count": null,
   "metadata": {},
   "outputs": [],
   "source": [
    "맨 끝이 25, 50, 75, 00이어야 하며 다만 0만 남으면 안됨"
   ]
  },
  {
   "cell_type": "code",
   "execution_count": null,
   "metadata": {},
   "outputs": [],
   "source": [
    "맨 끝이 5인 경우와 맨 끝이 0인 경우가 있음\n",
    "\n",
    "맨 끝이 5면 바로 앞은 2, 7이어야 하고\n",
    "맨 끝이 0면 바로 앞은 5, 0이어야 함"
   ]
  },
  {
   "cell_type": "code",
   "execution_count": 15,
   "metadata": {},
   "outputs": [
    {
     "name": "stdout",
     "output_type": "stream",
     "text": [
      "2060047\n",
      "2\n"
     ]
    }
   ],
   "source": [
    "for _ in range(int(input())):\n",
    "    li = list(input())\n",
    "\n",
    "    min_count = float('inf')\n",
    "    nli = li.copy()\n",
    "    # last is 5\n",
    "    count = 0\n",
    "    while nli:\n",
    "        if nli[-1] != '5':\n",
    "            nli.pop()\n",
    "            count += 1\n",
    "        else:\n",
    "            break\n",
    "\n",
    "    while len(nli) >= 2:\n",
    "        if nli[-2] not in ['2', '7']:\n",
    "            nli.pop(-2)\n",
    "            count += 1\n",
    "        else:\n",
    "            break\n",
    "\n",
    "    if len(nli) >= 2:\n",
    "        min_count = count\n",
    "\n",
    "    nli = li.copy()\n",
    "    # last is 0\n",
    "    count = 0\n",
    "    while nli:\n",
    "        if nli[-1] != '0':\n",
    "            nli.pop()\n",
    "            count += 1\n",
    "        else:\n",
    "            break\n",
    "\n",
    "    while len(nli) >= 2:\n",
    "        if nli[-2] not in ['0', '5']:\n",
    "            nli.pop(-2)\n",
    "            count += 1\n",
    "        else:\n",
    "            break\n",
    "\n",
    "    if len(nli) >= 2:\n",
    "        min_count = min(min_count, count)\n",
    "\n",
    "    print(min_count)"
   ]
  },
  {
   "cell_type": "markdown",
   "metadata": {},
   "source": [
    "C"
   ]
  },
  {
   "cell_type": "code",
   "execution_count": 25,
   "metadata": {},
   "outputs": [
    {
     "name": "stdout",
     "output_type": "stream",
     "text": [
      "2 8\n",
      "1 1 1 1 1 1 1 1\n",
      "1\n"
     ]
    }
   ],
   "source": [
    "for _ in range(int(input())):\n",
    "    n, k = map(int, input().split())\n",
    "    li = sorted(map(int, input().split()), reverse=True)\n",
    "\n",
    "    cat_loc = 0\n",
    "    count = 0\n",
    "    for v in li:\n",
    "        if cat_loc >= v:\n",
    "            break\n",
    "\n",
    "        mouse_moved = n - v\n",
    "        n_cat_loc = cat_loc + mouse_moved\n",
    "        count += 1\n",
    "        cat_loc = n_cat_loc\n",
    "\n",
    "    print(count)"
   ]
  },
  {
   "cell_type": "markdown",
   "metadata": {},
   "source": [
    "D1"
   ]
  },
  {
   "cell_type": "code",
   "execution_count": 32,
   "metadata": {},
   "outputs": [
    {
     "name": "stdout",
     "output_type": "stream",
     "text": [
      "1100\n"
     ]
    }
   ],
   "source": [
    "from math import gcd\n",
    "\n",
    "for _ in range(int(input())):\n",
    "    n = int(input())\n",
    "    li = sorted(map(int, input().split()))\n",
    "\n",
    "    if len(set(li)) == 1:\n",
    "        print(-1)\n",
    "    else:\n",
    "        cur_gcd = li[1] - li[0]\n",
    "        for i in range(2, n):\n",
    "            cur_gcd = gcd(cur_gcd, li[i] - li[i - 1])\n",
    "\n",
    "        print(cur_gcd)"
   ]
  },
  {
   "cell_type": "markdown",
   "metadata": {},
   "source": [
    "D2"
   ]
  },
  {
   "cell_type": "code",
   "execution_count": null,
   "metadata": {},
   "outputs": [],
   "source": [
    "# 미제출\n",
    "from math import gcd\n",
    "\n",
    "for _ in range(int(input())):\n",
    "    n = int(input())\n",
    "    li = sorted(map(int, input().split()))\n",
    "\n",
    "    if len(set(li)) == 1:\n",
    "        print(-1)\n",
    "    else:\n",
    "        cur_gcd = li[1] - li[0]\n",
    "        for i in range(2, n):\n",
    "            cur_gcd = gcd(cur_gcd, li[i] - li[i - 1])\n",
    "\n",
    "        print(cur_gcd)"
   ]
  },
  {
   "cell_type": "markdown",
   "metadata": {},
   "source": [
    "E"
   ]
  },
  {
   "cell_type": "code",
   "execution_count": null,
   "metadata": {},
   "outputs": [],
   "source": [
    "리프와 연결된 리프가 아닌 노드들은 전 단계의 리프가 모두 사라지는 순간 리프가 됨"
   ]
  },
  {
   "cell_type": "code",
   "execution_count": null,
   "metadata": {},
   "outputs": [],
   "source": [
    "모든 리프를 queue에 넣고서 서서히 세력을 k번째 만큼 넓혀나감 (중복 방문 허용 x)"
   ]
  },
  {
   "cell_type": "code",
   "execution_count": 72,
   "metadata": {},
   "outputs": [
    {
     "name": "stdout",
     "output_type": "stream",
     "text": [
      "7\n"
     ]
    }
   ],
   "source": [
    "from collections import deque\n",
    "\n",
    "# n, k = map(int, input().split())\n",
    "\n",
    "# trees = [[] for _ in range(n)]\n",
    "# get_num = lambda x: int(x) - 1\n",
    "# for _ in range(n - 1):\n",
    "#     a, b = map(get_num, input().split())\n",
    "#     trees[a].append(b)\n",
    "#     trees[b].append(a)\n",
    "\n",
    "n, k = 14, 1\n",
    "s = '''1 2\n",
    "2 3\n",
    "2 4\n",
    "4 5\n",
    "4 6\n",
    "2 7\n",
    "7 8\n",
    "8 9\n",
    "8 10\n",
    "3 11\n",
    "3 12\n",
    "1 13\n",
    "13 14'''\n",
    "\n",
    "get_num = lambda x: int(x) - 1\n",
    "trees = [set() for _ in range(n)]\n",
    "for v in s.split('\\n'):\n",
    "    a, b = map(get_num, v.split())\n",
    "    trees[a].add(b)\n",
    "    trees[b].add(a)    \n",
    "\n",
    "vt = [False] * n \n",
    "queue = deque()\n",
    "for i in range(n):\n",
    "    if len(trees[i]) < 2:\n",
    "        queue.append((i, 1))\n",
    "        vt[i] = True\n",
    "\n",
    "total = n\n",
    "while queue:\n",
    "    value, c = queue.popleft()\n",
    "    total -= 1\n",
    "\n",
    "    if c >= k:\n",
    "        continue\n",
    "    nc = c + 1\n",
    "\n",
    "    for v in trees[value]:\n",
    "        if vt[v]:\n",
    "            continue\n",
    "        trees[v].discard(value)\n",
    "        if len(trees[v]) < 2:\n",
    "            vt[v] = True\n",
    "            queue.append((v, nc))\n",
    "\n",
    "print(total)"
   ]
  },
  {
   "cell_type": "code",
   "execution_count": 76,
   "metadata": {},
   "outputs": [
    {
     "name": "stdout",
     "output_type": "stream",
     "text": [
      "2\n",
      "\n",
      "3 2\n",
      "1 2\n",
      "2 3\n",
      "0\n",
      "\n",
      "7 1\n",
      "4 3\n",
      "5 1\n",
      "1 3\n",
      "6 1\n",
      "1 7\n",
      "2 1\n",
      "2\n"
     ]
    }
   ],
   "source": [
    "from collections import deque\n",
    "\n",
    "t = int(input())\n",
    "for _ in range(t):\n",
    "    input()\n",
    "    n, k = map(int, input().split())\n",
    "\n",
    "    trees = [set() for _ in range(n)]\n",
    "    get_num = lambda x: int(x) - 1\n",
    "    for _ in range(n - 1):\n",
    "        a, b = map(get_num, input().split())\n",
    "        trees[a].add(b)\n",
    "        trees[b].add(a)\n",
    "\n",
    "    vt = [False] * n \n",
    "    queue = deque()\n",
    "    for i in range(n):\n",
    "        if len(trees[i]) < 2:\n",
    "            queue.append((i, 1))\n",
    "            vt[i] = True\n",
    "\n",
    "    total = n\n",
    "    while queue:\n",
    "        value, c = queue.popleft()\n",
    "        total -= 1\n",
    "\n",
    "        if c >= k:\n",
    "            continue\n",
    "        nc = c + 1\n",
    "\n",
    "        for v in trees[value]:\n",
    "            if vt[v]:\n",
    "                continue\n",
    "            trees[v].discard(value)\n",
    "            if len(trees[v]) < 2:\n",
    "                vt[v] = True\n",
    "                queue.append((v, nc))\n",
    "\n",
    "    print(total)"
   ]
  },
  {
   "cell_type": "markdown",
   "metadata": {},
   "source": [
    "G"
   ]
  },
  {
   "cell_type": "code",
   "execution_count": null,
   "metadata": {},
   "outputs": [],
   "source": [
    "(나 ), [나 ]의 방향 위치는 상관 없으므로 (인지, [인지만 고려 대상이다.\n",
    "방향이 꼬여있는 ([의 수의 누적합을 구하면 되나?\n",
    "           \n",
    "스택 활용할 필요 있어보임\n",
    "\n",
    "[((([])([])[()]))]"
   ]
  },
  {
   "cell_type": "markdown",
   "metadata": {},
   "source": [
    "### 제출본"
   ]
  },
  {
   "cell_type": "code",
   "execution_count": null,
   "metadata": {},
   "outputs": [],
   "source": [
    "import os\n",
    "import sys\n",
    "from io import BytesIO, IOBase\n",
    " \n",
    "\n",
    "def main():\n",
    "    from collections import deque\n",
    "\n",
    "    t = int(input())\n",
    "    for _ in range(t):\n",
    "        input()\n",
    "        n, k = map(int, input().split())\n",
    "\n",
    "        trees = [set() for _ in range(n)]\n",
    "        get_num = lambda x: int(x) - 1\n",
    "        for _ in range(n - 1):\n",
    "            a, b = map(get_num, input().split())\n",
    "            trees[a].add(b)\n",
    "            trees[b].add(a)\n",
    "\n",
    "        vt = [False] * n \n",
    "        queue = deque()\n",
    "        for i in range(n):\n",
    "            if len(trees[i]) < 2:\n",
    "                queue.append((i, 1))\n",
    "                vt[i] = True\n",
    "\n",
    "        total = n\n",
    "        while queue:\n",
    "            value, c = queue.popleft()\n",
    "            total -= 1\n",
    "\n",
    "            if c >= k:\n",
    "                continue\n",
    "            nc = c + 1\n",
    "\n",
    "            for v in trees[value]:\n",
    "                if vt[v]:\n",
    "                    continue\n",
    "                trees[v].discard(value)\n",
    "                if len(trees[v]) < 2:\n",
    "                    vt[v] = True\n",
    "                    queue.append((v, nc))\n",
    "\n",
    "        print(total)\n",
    "    \n",
    "    \n",
    "    \n",
    "    \n",
    "    \n",
    "    \n",
    "    \n",
    "    \n",
    "    \n",
    "    \n",
    "    \n",
    "\n",
    "# region fastio\n",
    " \n",
    "BUFSIZE = 8192\n",
    " \n",
    "\n",
    "class FastIO(IOBase):\n",
    "    newlines = 0\n",
    " \n",
    "    def __init__(self, file):\n",
    "        self._fd = file.fileno()\n",
    "        self.buffer = BytesIO()\n",
    "        self.writable = \"x\" in file.mode or \"r\" not in file.mode\n",
    "        self.write = self.buffer.write if self.writable else None\n",
    " \n",
    "    def read(self):\n",
    "        while True:\n",
    "            b = os.read(self._fd, max(os.fstat(self._fd).st_size, BUFSIZE))\n",
    "            if not b:\n",
    "                break\n",
    "            ptr = self.buffer.tell()\n",
    "            self.buffer.seek(0, 2), self.buffer.write(b), self.buffer.seek(ptr)\n",
    "        self.newlines = 0\n",
    "        return self.buffer.read()\n",
    " \n",
    "    def readline(self):\n",
    "        while self.newlines == 0:\n",
    "            b = os.read(self._fd, max(os.fstat(self._fd).st_size, BUFSIZE))\n",
    "            self.newlines = b.count(b\"\\n\") + (not b)\n",
    "            ptr = self.buffer.tell()\n",
    "            self.buffer.seek(0, 2), self.buffer.write(b), self.buffer.seek(ptr)\n",
    "        self.newlines -= 1\n",
    "        return self.buffer.readline()\n",
    " \n",
    "    def flush(self):\n",
    "        if self.writable:\n",
    "            os.write(self._fd, self.buffer.getvalue())\n",
    "            self.buffer.truncate(0), self.buffer.seek(0)\n",
    " \n",
    " \n",
    "class IOWrapper(IOBase):\n",
    "    def __init__(self, file):\n",
    "        self.buffer = FastIO(file)\n",
    "        self.flush = self.buffer.flush\n",
    "        self.writable = self.buffer.writable\n",
    "        self.write = lambda s: self.buffer.write(s.encode(\"ascii\"))\n",
    "        self.read = lambda: self.buffer.read().decode(\"ascii\")\n",
    "        self.readline = lambda: self.buffer.readline().decode(\"ascii\")\n",
    " \n",
    " \n",
    "sys.stdin, sys.stdout = IOWrapper(sys.stdin), IOWrapper(sys.stdout)\n",
    "input = lambda: sys.stdin.readline().rstrip(\"\\r\\n\")\n",
    " \n",
    "# endregion\n",
    " \n",
    "if __name__ == \"__main__\":\n",
    "    main()"
   ]
  }
 ],
 "metadata": {
  "kernelspec": {
   "display_name": "Python 3",
   "language": "python",
   "name": "python3"
  },
  "language_info": {
   "codemirror_mode": {
    "name": "ipython",
    "version": 3
   },
   "file_extension": ".py",
   "mimetype": "text/x-python",
   "name": "python",
   "nbconvert_exporter": "python",
   "pygments_lexer": "ipython3",
   "version": "3.7.3"
  }
 },
 "nbformat": 4,
 "nbformat_minor": 4
}
