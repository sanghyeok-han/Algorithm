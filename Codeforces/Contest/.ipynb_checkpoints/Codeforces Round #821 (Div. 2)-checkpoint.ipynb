{
 "cells": [
  {
   "cell_type": "markdown",
   "metadata": {},
   "source": [
    "A"
   ]
  },
  {
   "cell_type": "code",
   "execution_count": null,
   "metadata": {},
   "outputs": [],
   "source": [
    "5 3\n",
    "7 0 4 0 4\n",
    "1 2 0 1 2"
   ]
  },
  {
   "cell_type": "code",
   "execution_count": 3,
   "metadata": {},
   "outputs": [
    {
     "name": "stdout",
     "output_type": "stream",
     "text": [
      "5 3\n",
      "7 0 4 0 4\n",
      "15\n"
     ]
    }
   ],
   "source": [
    "import sys\n",
    "input = lambda: sys.stdin.readline().rstrip()\n",
    "\n",
    "for _ in range(int(input())):\n",
    "    n, k = map(int, input().split())\n",
    "    li = list(map(int, input().split()))\n",
    "\n",
    "    max_r = 0\n",
    "    for start in range(0, k):\n",
    "        temp = 0\n",
    "        for i in range(start, n, k):\n",
    "            temp = max(temp, li[i])\n",
    "        max_r += temp\n",
    "\n",
    "    print(max_r)"
   ]
  },
  {
   "cell_type": "markdown",
   "metadata": {},
   "source": [
    "B"
   ]
  },
  {
   "cell_type": "code",
   "execution_count": 7,
   "metadata": {},
   "outputs": [
    {
     "name": "stdout",
     "output_type": "stream",
     "text": [
      "6 3 0\n",
      "-1\n"
     ]
    }
   ],
   "source": [
    "import sys\n",
    "input = lambda: sys.stdin.readline().rstrip()\n",
    "\n",
    "for _ in range(int(input())):\n",
    "    n, x, y = map(int, input().split())\n",
    "\n",
    "    if x == 0 and y == 0:\n",
    "        print(-1)\n",
    "    elif x != 0 and y != 0:\n",
    "        print(-1)\n",
    "    else:\n",
    "        if x == 0:\n",
    "            num = y\n",
    "        else:\n",
    "            num = x\n",
    "\n",
    "        if (n - 1) % num != 0:\n",
    "            print(-1)\n",
    "        else:\n",
    "            result = []\n",
    "            cur = 2\n",
    "            while True:\n",
    "                result.extend([cur] * num)\n",
    "                cur += num\n",
    "\n",
    "                if cur > n:\n",
    "                    break\n",
    "\n",
    "            print(*result)"
   ]
  },
  {
   "cell_type": "markdown",
   "metadata": {},
   "source": [
    "C"
   ]
  },
  {
   "cell_type": "code",
   "execution_count": null,
   "metadata": {},
   "outputs": [],
   "source": [
    "합이 홀수면 오른쪽 값을 왼쪽 값으로 바꿈\n",
    "합이 짝수면 왼쪽 값을 오른쪽 값으로 바꿈"
   ]
  },
  {
   "cell_type": "code",
   "execution_count": null,
   "metadata": {},
   "outputs": [],
   "source": [
    "홀홀 -> 홀홀\n",
    "짝짝 -> 짝짝\n",
    "합: 짝수\n",
    "\n",
    "홀짝 -> 홀홀\n",
    "짝홀 -> 짝짝\n",
    "합: 홀수\n"
   ]
  },
  {
   "cell_type": "code",
   "execution_count": null,
   "metadata": {},
   "outputs": [],
   "source": [
    "앞 값은 작게 뒷 값은 크게"
   ]
  },
  {
   "cell_type": "code",
   "execution_count": null,
   "metadata": {},
   "outputs": [],
   "source": [
    "6 4 2 10 9 8"
   ]
  },
  {
   "cell_type": "code",
   "execution_count": null,
   "metadata": {},
   "outputs": [],
   "source": [
    "6 3 2 5 4 1\n",
    "  6   6   6\n",
    "    \n",
    "6 6 2 6 4 6\n",
    "    6   6\n",
    "\n",
    "6 6 6 6 6 6"
   ]
  },
  {
   "cell_type": "code",
   "execution_count": null,
   "metadata": {},
   "outputs": [],
   "source": [
    "6 3 2 5 4 4 2\n",
    "2\n",
    "2 3 2 5 4 4 2\n",
    "  2   2 2 2"
   ]
  },
  {
   "cell_type": "code",
   "execution_count": null,
   "metadata": {},
   "outputs": [],
   "source": [
    "6 3 2 5 4 4 2\n",
    "2\n",
    "2 3 2 5 4 4 2"
   ]
  },
  {
   "cell_type": "code",
   "execution_count": 11,
   "metadata": {},
   "outputs": [
    {
     "name": "stdout",
     "output_type": "stream",
     "text": [
      "2\n",
      "1\n",
      "0\n",
      "0\n",
      "2\n",
      "7 8\n",
      "1\n",
      "1 2\n"
     ]
    }
   ],
   "source": [
    "import sys\n",
    "# input = lambda: sys.stdin.readline().rstrip()\n",
    "\n",
    "for _ in range(int(input())):\n",
    "    n = int(input())\n",
    "    li = list(map(int, input().split()))\n",
    "\n",
    "    if n == 1:\n",
    "        print(0)\n",
    "    else:\n",
    "        cri = -1\n",
    "        if (li[0] + li[n - 1]) % 2 == 1:\n",
    "            cri = li[0]\n",
    "        else:\n",
    "            cri = li[n - 1]    \n",
    "        result = [[1, n]]\n",
    "\n",
    "        for i in range(1, n - 1):\n",
    "            if (cri + li[i]) % 2 == 1:\n",
    "                result.append([1, i + 1])\n",
    "            else:\n",
    "                result.append([i + 1, n])\n",
    "\n",
    "        print(len(result))\n",
    "        for v in result:\n",
    "            print(*v)"
   ]
  },
  {
   "cell_type": "markdown",
   "metadata": {},
   "source": [
    "D1"
   ]
  },
  {
   "cell_type": "code",
   "execution_count": null,
   "metadata": {},
   "outputs": [],
   "source": [
    "1개수 패리티가 서로 다르면 -1"
   ]
  },
  {
   "cell_type": "code",
   "execution_count": null,
   "metadata": {},
   "outputs": [],
   "source": [
    "import sys\n",
    "input = lambda: sys.stdin.readline().rstrip()\n",
    "\n",
    "for _ in range(int(input())):\n",
    "    n, x, y = map(int, input().split())\n",
    "    a = input()\n",
    "    b = input()\n",
    "\n",
    "    diffs = []\n",
    "    for i in range(n):\n",
    "        if a[i] != b[i]:\n",
    "            diffs.append(i)\n",
    "\n",
    "    if len(diffs) % 2 == 1:\n",
    "        print(-1)\n",
    "    else:\n",
    "        if len(diffs) == 2:\n",
    "            if diffs[0] + 1 == diffs[1]:\n",
    "                if x < y * 2:\n",
    "                    result = x\n",
    "                else:\n",
    "                    result = y * 2\n",
    "            else:\n",
    "                result = y\n",
    "        else:\n",
    "            result = (len(diffs) // 2) * y\n",
    "\n",
    "        print(result)"
   ]
  },
  {
   "cell_type": "markdown",
   "metadata": {},
   "source": [
    "D2"
   ]
  },
  {
   "cell_type": "code",
   "execution_count": null,
   "metadata": {},
   "outputs": [],
   "source": [
    "from heapq import heappush, heappop\n",
    "import sys\n",
    "# input = lambda: sys.stdin.readline().rstrip()\n",
    "\n",
    "for _ in range(int(input())):\n",
    "    n, x, y = map(int, input().split())\n",
    "    a = input()\n",
    "    b = input()\n",
    "\n",
    "    diffs = []\n",
    "    for i in range(n):\n",
    "        if a[i] != b[i]:\n",
    "            diffs.append(i)\n",
    "\n",
    "    if x >= y:      \n",
    "        if len(diffs) % 2 == 1:\n",
    "            print(-1)\n",
    "        else:\n",
    "            if len(diffs) == 2:\n",
    "                if diffs[0] + 1 == diffs[1]:\n",
    "                    if x < y * 2:\n",
    "                        result = x\n",
    "                    else:\n",
    "                        result = y * 2\n",
    "                else:\n",
    "                    result = y\n",
    "            else:\n",
    "                result = (len(diffs) // 2) * y\n",
    "\n",
    "            print(result)\n",
    "    else:\n",
    "        if len(diffs) % 2 == 1:\n",
    "            print(-1)\n",
    "        else:\n",
    "            heap = []\n",
    "            for i in range(len(diffs) - 1):\n",
    "                heappush(heap, (diffs[i + 1] - diffs[i], i, i + 1))\n",
    "            \n",
    "            can_c = y // x\n",
    "            \n",
    "            result = 0\n",
    "            st = set()\n",
    "            remained = set()\n",
    "            while heap:\n",
    "                nd, a, b = heappop(heap)\n",
    "            \n",
    "                if a in st or b in st:\n",
    "                    remained.add(a)\n",
    "                    remained.add(b)\n",
    "                    continue\n",
    "                    \n",
    "                if nd <= can_c:\n",
    "                    result += nd * x\n",
    "                    st.add(a)\n",
    "                    st.add(b)"
   ]
  }
 ],
 "metadata": {
  "kernelspec": {
   "display_name": "Python 3",
   "language": "python",
   "name": "python3"
  },
  "language_info": {
   "codemirror_mode": {
    "name": "ipython",
    "version": 3
   },
   "file_extension": ".py",
   "mimetype": "text/x-python",
   "name": "python",
   "nbconvert_exporter": "python",
   "pygments_lexer": "ipython3",
   "version": "3.7.4"
  }
 },
 "nbformat": 4,
 "nbformat_minor": 2
}
