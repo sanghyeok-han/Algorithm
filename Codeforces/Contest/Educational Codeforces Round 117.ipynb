{
 "cells": [
  {
   "cell_type": "markdown",
   "metadata": {},
   "source": [
    "A"
   ]
  },
  {
   "cell_type": "code",
   "execution_count": null,
   "metadata": {},
   "outputs": [],
   "source": [
    "n = int(input())\n"
   ]
  },
  {
   "cell_type": "code",
   "execution_count": null,
   "metadata": {},
   "outputs": [],
   "source": [
    "for _ in range(int(input())):\n",
    "    x, y = map(int, input().split())\n",
    "\n",
    "    if x % 2 == 0 and y % 2 == 0:\n",
    "        print(x // 2, y // 2)\n",
    "    else:\n",
    "        cx = x\n",
    "        cy = (y - x) / 2\n",
    "        if round(cy, 7) == int(cy) and cy >= 0:\n",
    "            cy = int(cy)\n",
    "            print(cx, cy)\n",
    "            continue\n",
    "\n",
    "        cy = y\n",
    "        cx = (x - y) / 2\n",
    "        if round(cx, 7) == int(cx) and cx >= 0:\n",
    "            cx = int(cx)\n",
    "            print(cx, cy)\n",
    "            continue\n",
    "\n",
    "        print(-1, -1)"
   ]
  },
  {
   "cell_type": "markdown",
   "metadata": {},
   "source": [
    "B"
   ]
  },
  {
   "cell_type": "code",
   "execution_count": 10,
   "metadata": {},
   "outputs": [
    {
     "name": "stdout",
     "output_type": "stream",
     "text": [
      "2 1 2\n",
      "1 2\n"
     ]
    }
   ],
   "source": [
    "n, a, b = map(int, input().split())\n",
    "\n",
    "left = [a]\n",
    "right = [b]\n",
    "\n",
    "if n >= 4:\n",
    "    uud = set(range(1, n + 1))\n",
    "    uud.discard(a)\n",
    "    uud.discard(b)\n",
    "\n",
    "    counter = n // 2 - 1\n",
    "    cur_check = n\n",
    "    while True:\n",
    "        if cur_check in uud:\n",
    "            uud.discard(cur_check)\n",
    "            left.append(cur_check)\n",
    "            counter -= 1\n",
    "            if counter == 0:\n",
    "                break\n",
    "\n",
    "        cur_check -= 1\n",
    "\n",
    "    counter = n // 2 - 1\n",
    "    cur_check = 1\n",
    "    while True:\n",
    "        if cur_check in uud:\n",
    "            uud.discard(cur_check)\n",
    "            right.append(cur_check)\n",
    "            counter -= 1\n",
    "            if counter == 0:\n",
    "                break\n",
    "\n",
    "        cur_check += 1\n",
    "        \n",
    "if min(left) == a and max(right) == b:\n",
    "    temp = left + right\n",
    "    print(*temp)\n",
    "else:\n",
    "    print(-1)"
   ]
  },
  {
   "cell_type": "code",
   "execution_count": null,
   "metadata": {},
   "outputs": [],
   "source": [
    "for _ in range(int(input())):\n",
    "    n, a, b = map(int, input().split())\n",
    "\n",
    "    left = [a]\n",
    "    right = [b]\n",
    "\n",
    "    if n >= 4:\n",
    "        uud = set(range(1, n + 1))\n",
    "        uud.discard(a)\n",
    "        uud.discard(b)\n",
    "\n",
    "        counter = n // 2 - 1\n",
    "        cur_check = n\n",
    "        while True:\n",
    "            if cur_check in uud:\n",
    "                uud.discard(cur_check)\n",
    "                left.append(cur_check)\n",
    "                counter -= 1\n",
    "                if counter == 0:\n",
    "                    break\n",
    "\n",
    "            cur_check -= 1\n",
    "\n",
    "        counter = n // 2 - 1\n",
    "        cur_check = 1\n",
    "        while True:\n",
    "            if cur_check in uud:\n",
    "                uud.discard(cur_check)\n",
    "                right.append(cur_check)\n",
    "                counter -= 1\n",
    "                if counter == 0:\n",
    "                    break\n",
    "\n",
    "            cur_check += 1\n",
    "\n",
    "    if min(left) == a and max(right) == b:\n",
    "        temp = left + right\n",
    "        print(*temp)\n",
    "    else:\n",
    "        print(-1)"
   ]
  },
  {
   "cell_type": "markdown",
   "metadata": {},
   "source": [
    "C"
   ]
  },
  {
   "cell_type": "code",
   "execution_count": 16,
   "metadata": {},
   "outputs": [
    {
     "name": "stdout",
     "output_type": "stream",
     "text": [
      "1 2\n",
      "0\n"
     ]
    }
   ],
   "source": [
    "def get_sum(num):\n",
    "    return num * (num + 1) // 2\n",
    "\n",
    "k, x = map(int, input().split())\n",
    "\n",
    "\n",
    "    start = 1\n",
    "    end = 2 * k - 1\n",
    "    result = 0\n",
    "    while start <= end:\n",
    "        mid = (start + end) // 2\n",
    "\n",
    "        if mid <= k:\n",
    "            temp = get_sum(mid)\n",
    "        else:\n",
    "            temp = get_sum(k)\n",
    "            temp -= get_sum(k - 1) - get_sum((2 * k - 1) - mid)\n",
    "\n",
    "        if temp >= x:\n",
    "            result = mid\n",
    "            end = mid - 1\n",
    "        else:\n",
    "            start = mid + 1\n",
    "\n",
    "    print(result)"
   ]
  },
  {
   "cell_type": "code",
   "execution_count": 43,
   "metadata": {},
   "outputs": [
    {
     "name": "stdout",
     "output_type": "stream",
     "text": [
      "1000000000000000000\n"
     ]
    }
   ],
   "source": [
    "k, x = 1000000000, 923456789987654321\n",
    "mid = 1999999999\n",
    "if mid <= k:\n",
    "        temp = get_sum(mid)\n",
    "else:\n",
    "    temp = get_sum(k)\n",
    "    temp += get_sum(k - 1) - get_sum((2 * k - 1) - mid)\n",
    "    \n",
    "    \n",
    "\n",
    "print(temp)"
   ]
  },
  {
   "cell_type": "code",
   "execution_count": 42,
   "metadata": {},
   "outputs": [
    {
     "data": {
      "text/plain": [
       "500000000500000000"
      ]
     },
     "execution_count": 42,
     "metadata": {},
     "output_type": "execute_result"
    }
   ],
   "source": [
    "get_sum(k)"
   ]
  },
  {
   "cell_type": "code",
   "execution_count": 45,
   "metadata": {},
   "outputs": [
    {
     "name": "stdout",
     "output_type": "stream",
     "text": [
      "1000000000 923456789987654321\n",
      "1608737403\n"
     ]
    }
   ],
   "source": [
    "k, x = map(int, input().split())\n",
    "\n",
    "start = 1\n",
    "end = 2 * k - 1\n",
    "result = float('inf')\n",
    "while start <= end:\n",
    "    mid = (start + end) // 2\n",
    "\n",
    "    if mid <= k:\n",
    "        temp = get_sum(mid)\n",
    "    else:\n",
    "        temp = get_sum(k)\n",
    "        temp += get_sum(k - 1) - get_sum((2 * k - 1) - mid)\n",
    "\n",
    "#     print(start, end, mid, temp, temp >= x)\n",
    "    if temp >= x:\n",
    "        result = mid\n",
    "        end = mid - 1\n",
    "    else:\n",
    "        start = mid + 1\n",
    "\n",
    "if result == float('inf'):\n",
    "    print(k)\n",
    "else:\n",
    "    print(result)"
   ]
  },
  {
   "cell_type": "code",
   "execution_count": 47,
   "metadata": {},
   "outputs": [
    {
     "name": "stdout",
     "output_type": "stream",
     "text": [
      "1\n",
      "2 5\n",
      "2\n"
     ]
    }
   ],
   "source": [
    "def get_sum(num):\n",
    "    return num * (num + 1) // 2\n",
    "\n",
    "for _ in range(int(input())):\n",
    "    k, x = map(int, input().split())\n",
    "\n",
    "    start = 1\n",
    "    end = 2 * k - 1\n",
    "    result = float('inf')\n",
    "    while start <= end:\n",
    "        mid = (start + end) // 2\n",
    "\n",
    "        if mid <= k:\n",
    "            temp = get_sum(mid)\n",
    "        else:\n",
    "            temp = get_sum(k)\n",
    "            temp += get_sum(k - 1) - get_sum((2 * k - 1) - mid)\n",
    "\n",
    "    #     print(start, end, mid, temp, temp >= x)\n",
    "        if temp >= x:\n",
    "            result = mid\n",
    "            end = mid - 1\n",
    "        else:\n",
    "            start = mid + 1\n",
    "\n",
    "    if result == float('inf'):\n",
    "        print(2 * k - 1)\n",
    "    else:\n",
    "        print(result)"
   ]
  },
  {
   "cell_type": "markdown",
   "metadata": {},
   "source": [
    "D"
   ]
  },
  {
   "cell_type": "code",
   "execution_count": 51,
   "metadata": {},
   "outputs": [
    {
     "name": "stdout",
     "output_type": "stream",
     "text": [
      "40 50 90\n",
      "NO\n"
     ]
    }
   ],
   "source": [
    "def check(a, b, x):\n",
    "    while True:\n",
    "        if a > b:\n",
    "            a, b = b, a\n",
    "        if x >= b % a and x % a == b % a:\n",
    "            return True\n",
    "        a, b = b % a, a\n",
    "\n",
    "        if a == 0:\n",
    "            return False\n",
    "        if a == 1:\n",
    "            if x <= b:\n",
    "                return True\n",
    "            else:\n",
    "                return False\n",
    "\n",
    "a, b, x = map(int, input().split())\n",
    "\n",
    "if a == x or b == x:\n",
    "    print('YES')\n",
    "elif max(a, b) < x:\n",
    "    print('NO')\n",
    "else:\n",
    "    if check(a, b, x):\n",
    "        print('YES')\n",
    "    else:\n",
    "        print('NO')"
   ]
  },
  {
   "cell_type": "code",
   "execution_count": null,
   "metadata": {},
   "outputs": [],
   "source": [
    "def check(a, b, x):\n",
    "    while True:\n",
    "        if a > b:\n",
    "            a, b = b, a\n",
    "        if x >= b % a and x % a == b % a:\n",
    "            return True\n",
    "        a, b = b % a, a\n",
    "\n",
    "        if a == 0:\n",
    "            return False\n",
    "        if a == 1:\n",
    "            if x <= b:\n",
    "                return True\n",
    "            else:\n",
    "                return False\n",
    "\n",
    "for _ in range(int(input())):\n",
    "    a, b, x = map(int, input().split())\n",
    "\n",
    "    if a == x or b == x:\n",
    "        print('YES')\n",
    "    elif max(a, b) < x:\n",
    "        print('NO')\n",
    "    else:\n",
    "        if check(a, b, x):\n",
    "            print('YES')\n",
    "        else:\n",
    "            print('NO')    "
   ]
  },
  {
   "cell_type": "code",
   "execution_count": 65,
   "metadata": {},
   "outputs": [
    {
     "name": "stdout",
     "output_type": "stream",
     "text": [
      "1 True\n",
      "2 True\n",
      "3 True\n",
      "4 False\n",
      "5 True\n",
      "6 False\n",
      "7 True\n",
      "8 True\n",
      "9 True\n",
      "10 False\n",
      "11 True\n"
     ]
    },
    {
     "data": {
      "text/plain": [
       "True"
      ]
     },
     "execution_count": 65,
     "metadata": {},
     "output_type": "execute_result"
    }
   ],
   "source": [
    "a, b = 11, 3\n",
    "\n",
    "def check(a, b, x):\n",
    "    while True:\n",
    "        if a > b:\n",
    "            a, b = b, a\n",
    "        \n",
    "            \n",
    "        print(a, b, b % a, x % a)\n",
    "        if x >= b % a and x % a == b % a:\n",
    "            return True\n",
    "        a, b = b % a, a\n",
    "\n",
    "        if a == 0:\n",
    "            return False\n",
    "        if a == 1:\n",
    "            if x <= b:\n",
    "                return True\n",
    "            else:\n",
    "                return False\n",
    "         \n",
    "    \n",
    "for x in range(1, max(a, b) + 1):\n",
    "    print(x, check(a, b, x))\n",
    "        \n",
    "check(a, b, x)"
   ]
  },
  {
   "cell_type": "code",
   "execution_count": 67,
   "metadata": {},
   "outputs": [
    {
     "data": {
      "text/plain": [
       "False"
      ]
     },
     "execution_count": 67,
     "metadata": {},
     "output_type": "execute_result"
    }
   ],
   "source": [
    "a, b, x = 11, 3, 9\n",
    "\n",
    "def check(a, b, x):\n",
    "    while True:\n",
    "        if a > b:\n",
    "            a, b = b, a\n",
    "        if x > b:\n",
    "            return False\n",
    "            \n",
    "        print(a, b, b % a, x % a)\n",
    "        if x >= b % a and x % a == b % a:\n",
    "            return True\n",
    "        a, b = b % a, a\n",
    "\n",
    "        if a == 0:\n",
    "            return False\n",
    "        if a == 1:\n",
    "            if x <= b:\n",
    "                return True\n",
    "            else:\n",
    "                return False\n",
    "        \n",
    "check(a, b, x)"
   ]
  },
  {
   "cell_type": "markdown",
   "metadata": {},
   "source": [
    "E"
   ]
  },
  {
   "cell_type": "code",
   "execution_count": 87,
   "metadata": {},
   "outputs": [
    {
     "name": "stdout",
     "output_type": "stream",
     "text": [
      "2\n",
      "10 5\n"
     ]
    }
   ],
   "source": [
    "n = int(input())\n",
    "li = [list(map(int, input().split())) for _ in range(n)]\n",
    "\n",
    "mv = -1 # max value\n",
    "mv_list = []\n",
    "for selected_count in range(1, 21):\n",
    "    d = dict()\n",
    "    for m, k in li:\n",
    "        if m not in d:\n",
    "            d[m] = min(1, k / selected_count)\n",
    "        else:\n",
    "            d[m] += min(1, k / selected_count)\n",
    "        \n",
    "    temp = sorted(d.items(), key=lambda x: -x[1])\n",
    "    \n",
    "    v = 0\n",
    "    temp_mv_list = []\n",
    "    for i in range(min(selected_count, len(temp))):\n",
    "        temp_mv_list.append(temp[i][0])\n",
    "        v += temp[i][1]\n",
    "        \n",
    "#     print(selected_count, v, temp_mv_list)\n",
    "    if v > mv:\n",
    "        mv = v\n",
    "        mv_list = temp_mv_list.copy()\n",
    "        \n",
    "print(len(mv_list))\n",
    "print(*mv_list)"
   ]
  },
  {
   "cell_type": "code",
   "execution_count": null,
   "metadata": {},
   "outputs": [],
   "source": [
    "n = int(input())\n",
    "li = [list(map(int, input().split())) for _ in range(n)]\n",
    "\n",
    "mv = -1 # max value\n",
    "mv_list = []\n",
    "for selected_count in range(1, 21):\n",
    "    d = dict()\n",
    "    for m, k in li:\n",
    "        if m not in d:\n",
    "            d[m] = min(1, k / selected_count)\n",
    "        else:\n",
    "            d[m] += min(1, k / selected_count)\n",
    "\n",
    "    temp = sorted(d.items(), key=lambda x: -x[1])\n",
    "\n",
    "    v = 0\n",
    "    temp_mv_list = []\n",
    "    for i in range(min(selected_count, len(temp))):\n",
    "        temp_mv_list.append(temp[i][0])\n",
    "        v += temp[i][1]\n",
    "\n",
    "#     print(selected_count, v, temp_mv_list)\n",
    "    if v > mv:\n",
    "        mv = v\n",
    "        mv_list = temp_mv_list.copy()\n",
    "\n",
    "print(len(mv_list))\n",
    "print(*mv_list)"
   ]
  },
  {
   "cell_type": "markdown",
   "metadata": {},
   "source": [
    "### 제출본"
   ]
  },
  {
   "cell_type": "code",
   "execution_count": null,
   "metadata": {},
   "outputs": [],
   "source": [
    "import os\n",
    "import sys\n",
    "from io import BytesIO, IOBase\n",
    " \n",
    "\n",
    "def main():\n",
    "    temp_mv_lists = []\n",
    "    sc = 0\n",
    "    n = int(input())\n",
    "    li = [list(map(int, input().split())) for _ in range(n)]\n",
    "\n",
    "    mv = -1 # max value\n",
    "    mv_list = []\n",
    "    for selected_count in range(1, 21):\n",
    "        d = dict()\n",
    "        for m, k in li:\n",
    "            if m not in d:\n",
    "                d[m] = min(1, k / selected_count)\n",
    "            else:\n",
    "                d[m] += min(1, k / selected_count)\n",
    "\n",
    "        temp = sorted(d.items(), key=lambda x: -x[1])\n",
    "\n",
    "        v = 0\n",
    "        temp_mv_list = []\n",
    "        for i in range(min(selected_count, len(temp))):\n",
    "            temp_mv_list.append(temp[i][0])\n",
    "            v += temp[i][1]\n",
    "        temp_mv_lists.append(temp_mv_list)\n",
    "\n",
    "    #     print(selected_count, v, temp_mv_list)\n",
    "        if v > mv:\n",
    "            mv = v\n",
    "            sc = selected_count\n",
    "\n",
    "    print(len(mv_list))\n",
    "    print(*temp_mv_lists[sc])\n",
    "    \n",
    "    \n",
    "    \n",
    "    \n",
    "    \n",
    "\n",
    "# region fastio\n",
    " \n",
    "BUFSIZE = 8192\n",
    " \n",
    "\n",
    "class FastIO(IOBase):\n",
    "    newlines = 0\n",
    " \n",
    "    def __init__(self, file):\n",
    "        self._fd = file.fileno()\n",
    "        self.buffer = BytesIO()\n",
    "        self.writable = \"x\" in file.mode or \"r\" not in file.mode\n",
    "        self.write = self.buffer.write if self.writable else None\n",
    " \n",
    "    def read(self):\n",
    "        while True:\n",
    "            b = os.read(self._fd, max(os.fstat(self._fd).st_size, BUFSIZE))\n",
    "            if not b:\n",
    "                break\n",
    "            ptr = self.buffer.tell()\n",
    "            self.buffer.seek(0, 2), self.buffer.write(b), self.buffer.seek(ptr)\n",
    "        self.newlines = 0\n",
    "        return self.buffer.read()\n",
    " \n",
    "    def readline(self):\n",
    "        while self.newlines == 0:\n",
    "            b = os.read(self._fd, max(os.fstat(self._fd).st_size, BUFSIZE))\n",
    "            self.newlines = b.count(b\"\\n\") + (not b)\n",
    "            ptr = self.buffer.tell()\n",
    "            self.buffer.seek(0, 2), self.buffer.write(b), self.buffer.seek(ptr)\n",
    "        self.newlines -= 1\n",
    "        return self.buffer.readline()\n",
    " \n",
    "    def flush(self):\n",
    "        if self.writable:\n",
    "            os.write(self._fd, self.buffer.getvalue())\n",
    "            self.buffer.truncate(0), self.buffer.seek(0)\n",
    " \n",
    " \n",
    "class IOWrapper(IOBase):\n",
    "    def __init__(self, file):\n",
    "        self.buffer = FastIO(file)\n",
    "        self.flush = self.buffer.flush\n",
    "        self.writable = self.buffer.writable\n",
    "        self.write = lambda s: self.buffer.write(s.encode(\"ascii\"))\n",
    "        self.read = lambda: self.buffer.read().decode(\"ascii\")\n",
    "        self.readline = lambda: self.buffer.readline().decode(\"ascii\")\n",
    " \n",
    " \n",
    "sys.stdin, sys.stdout = IOWrapper(sys.stdin), IOWrapper(sys.stdout)\n",
    "input = lambda: sys.stdin.readline().rstrip(\"\\r\\n\")\n",
    " \n",
    "# endregion\n",
    " \n",
    "if __name__ == \"__main__\":\n",
    "    main()"
   ]
  }
 ],
 "metadata": {
  "kernelspec": {
   "display_name": "Python 3",
   "language": "python",
   "name": "python3"
  },
  "language_info": {
   "codemirror_mode": {
    "name": "ipython",
    "version": 3
   },
   "file_extension": ".py",
   "mimetype": "text/x-python",
   "name": "python",
   "nbconvert_exporter": "python",
   "pygments_lexer": "ipython3",
   "version": "3.7.3"
  }
 },
 "nbformat": 4,
 "nbformat_minor": 4
}
