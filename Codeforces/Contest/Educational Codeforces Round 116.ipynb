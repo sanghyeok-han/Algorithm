{
 "cells": [
  {
   "cell_type": "code",
   "execution_count": null,
   "metadata": {},
   "outputs": [],
   "source": [
    "n = int(input())\n",
    "li = list(map(int, input().split()))"
   ]
  },
  {
   "cell_type": "markdown",
   "metadata": {},
   "source": [
    "A"
   ]
  },
  {
   "cell_type": "code",
   "execution_count": 4,
   "metadata": {},
   "outputs": [
    {
     "name": "stdout",
     "output_type": "stream",
     "text": [
      "2\n",
      "abab\n",
      "bbab\n",
      "abbb\n",
      "bbbb\n"
     ]
    }
   ],
   "source": [
    "for _ in range(int(input())):\n",
    "    li = list(input())\n",
    "    n = len(li)\n",
    "\n",
    "    c_ab = 0\n",
    "    c_ba = 0\n",
    "    \n",
    "    for i in range(n - 1):\n",
    "        if li[i] == 'a' and li[i + 1] == 'b':\n",
    "            c_ab += 1\n",
    "        elif li[i] == 'b' and li[i + 1] == 'a':\n",
    "            c_ba += 1\n",
    "\n",
    "    if c_ab < c_ba:\n",
    "        li[-1] = 'b'\n",
    "    elif c_ba < c_ab:\n",
    "        li[0] = 'b'\n",
    "\n",
    "    print(''.join(li))"
   ]
  },
  {
   "cell_type": "markdown",
   "metadata": {},
   "source": [
    "B"
   ]
  },
  {
   "cell_type": "code",
   "execution_count": 48,
   "metadata": {},
   "outputs": [
    {
     "name": "stdout",
     "output_type": "stream",
     "text": [
      "1 1\n",
      "0\n"
     ]
    }
   ],
   "source": [
    "for _ in range(int(input())):\n",
    "    n, k = map(int, input().split())\n",
    "\n",
    "    cumul = 1\n",
    "    t = 0\n",
    "    w = 1\n",
    "    while True:\n",
    "        if cumul >= n:\n",
    "            break\n",
    "\n",
    "        cumul += w\n",
    "        t += 1\n",
    "\n",
    "        w *= 2\n",
    "        if w > k:\n",
    "            break\n",
    "\n",
    "    if cumul < n:\n",
    "        n -= cumul\n",
    "        t += n // k\n",
    "        if n % k:\n",
    "            t += 1\n",
    "\n",
    "    print(t)"
   ]
  },
  {
   "cell_type": "markdown",
   "metadata": {},
   "source": [
    "C"
   ]
  },
  {
   "cell_type": "code",
   "execution_count": 62,
   "metadata": {},
   "outputs": [
    {
     "name": "stdout",
     "output_type": "stream",
     "text": [
      "10 1000000000\n",
      "0 1 2 3 4 5 6 7 8 9\n",
      "999999920999999999\n"
     ]
    }
   ],
   "source": [
    "for _ in range(int(input())):\n",
    "    n, k = map(int, input().split())\n",
    "    li = sorted(map(int, input().split()), reverse=True)\n",
    "\n",
    "    cur_check = 9\n",
    "    while True:\n",
    "        cur = cur_check\n",
    "        needed = 0\n",
    "        for v in li:\n",
    "            temp = 10 ** v\n",
    "            if temp <= cur:\n",
    "                c = cur // temp\n",
    "                needed += c\n",
    "                cur %= temp\n",
    "\n",
    "        if needed > k:\n",
    "            break\n",
    "\n",
    "        cur_check = cur_check * 10 + 9\n",
    "\n",
    "\n",
    "    cand = cur_check\n",
    "    to_check = len(str(cand)) - 1\n",
    "    while True:\n",
    "        t = 10 ** to_check\n",
    "        ncand = cand - t\n",
    "\n",
    "        ncand_c = ncand\n",
    "        needed = 0\n",
    "        for v in li:\n",
    "            temp = 10 ** v\n",
    "            if temp <= ncand_c:\n",
    "                c = ncand_c // temp\n",
    "                needed += c\n",
    "                ncand_c %= temp\n",
    "\n",
    "        if needed > k:\n",
    "            cand = ncand\n",
    "            continue\n",
    "        else:\n",
    "            to_check -= 1\n",
    "            if to_check == -1:\n",
    "                break\n",
    "\n",
    "    print(cand)"
   ]
  },
  {
   "cell_type": "markdown",
   "metadata": {},
   "source": [
    "E"
   ]
  },
  {
   "cell_type": "code",
   "execution_count": null,
   "metadata": {},
   "outputs": [],
   "source": []
  },
  {
   "cell_type": "markdown",
   "metadata": {},
   "source": [
    "### 제출본"
   ]
  },
  {
   "cell_type": "code",
   "execution_count": null,
   "metadata": {},
   "outputs": [],
   "source": [
    "import os\n",
    "import sys\n",
    "from io import BytesIO, IOBase\n",
    " \n",
    "\n",
    "def main():\n",
    "    for _ in range(int(input())):\n",
    "        n, k = map(int, input().split())\n",
    "        li = sorted(map(int, input().split()), reverse=True)\n",
    "\n",
    "        cur_check = 9\n",
    "        while True:\n",
    "            cur = cur_check\n",
    "            needed = 0\n",
    "            for v in li:\n",
    "                temp = 10 ** v\n",
    "                if temp <= cur:\n",
    "                    c = cur // temp\n",
    "                    needed += c\n",
    "                    cur %= temp\n",
    "\n",
    "            if needed > k:\n",
    "                break\n",
    "\n",
    "            cur_check = cur_check * 10 + 9\n",
    "\n",
    "\n",
    "        cand = cur_check\n",
    "        to_check = len(str(cand)) - 1\n",
    "        while True:\n",
    "            t = 10 ** to_check\n",
    "            ncand = cand - t\n",
    "\n",
    "            ncand_c = ncand\n",
    "            needed = 0\n",
    "            for v in li:\n",
    "                temp = 10 ** v\n",
    "                if temp <= ncand_c:\n",
    "                    c = ncand_c // temp\n",
    "                    needed += c\n",
    "                    ncand_c %= temp\n",
    "\n",
    "            if needed > k:\n",
    "                cand = ncand\n",
    "                continue\n",
    "            else:\n",
    "                to_check -= 1\n",
    "                if to_check == -1:\n",
    "                    break\n",
    "\n",
    "        print(cand)\n",
    "    \n",
    "    \n",
    "    \n",
    "    \n",
    "    \n",
    "\n",
    "# region fastio\n",
    " \n",
    "BUFSIZE = 8192\n",
    " \n",
    "\n",
    "class FastIO(IOBase):\n",
    "    newlines = 0\n",
    " \n",
    "    def __init__(self, file):\n",
    "        self._fd = file.fileno()\n",
    "        self.buffer = BytesIO()\n",
    "        self.writable = \"x\" in file.mode or \"r\" not in file.mode\n",
    "        self.write = self.buffer.write if self.writable else None\n",
    " \n",
    "    def read(self):\n",
    "        while True:\n",
    "            b = os.read(self._fd, max(os.fstat(self._fd).st_size, BUFSIZE))\n",
    "            if not b:\n",
    "                break\n",
    "            ptr = self.buffer.tell()\n",
    "            self.buffer.seek(0, 2), self.buffer.write(b), self.buffer.seek(ptr)\n",
    "        self.newlines = 0\n",
    "        return self.buffer.read()\n",
    " \n",
    "    def readline(self):\n",
    "        while self.newlines == 0:\n",
    "            b = os.read(self._fd, max(os.fstat(self._fd).st_size, BUFSIZE))\n",
    "            self.newlines = b.count(b\"\\n\") + (not b)\n",
    "            ptr = self.buffer.tell()\n",
    "            self.buffer.seek(0, 2), self.buffer.write(b), self.buffer.seek(ptr)\n",
    "        self.newlines -= 1\n",
    "        return self.buffer.readline()\n",
    " \n",
    "    def flush(self):\n",
    "        if self.writable:\n",
    "            os.write(self._fd, self.buffer.getvalue())\n",
    "            self.buffer.truncate(0), self.buffer.seek(0)\n",
    " \n",
    " \n",
    "class IOWrapper(IOBase):\n",
    "    def __init__(self, file):\n",
    "        self.buffer = FastIO(file)\n",
    "        self.flush = self.buffer.flush\n",
    "        self.writable = self.buffer.writable\n",
    "        self.write = lambda s: self.buffer.write(s.encode(\"ascii\"))\n",
    "        self.read = lambda: self.buffer.read().decode(\"ascii\")\n",
    "        self.readline = lambda: self.buffer.readline().decode(\"ascii\")\n",
    " \n",
    " \n",
    "sys.stdin, sys.stdout = IOWrapper(sys.stdin), IOWrapper(sys.stdout)\n",
    "input = lambda: sys.stdin.readline().rstrip(\"\\r\\n\")\n",
    " \n",
    "# endregion\n",
    " \n",
    "if __name__ == \"__main__\":\n",
    "    main()"
   ]
  }
 ],
 "metadata": {
  "kernelspec": {
   "display_name": "Python 3",
   "language": "python",
   "name": "python3"
  },
  "language_info": {
   "codemirror_mode": {
    "name": "ipython",
    "version": 3
   },
   "file_extension": ".py",
   "mimetype": "text/x-python",
   "name": "python",
   "nbconvert_exporter": "python",
   "pygments_lexer": "ipython3",
   "version": "3.7.3"
  }
 },
 "nbformat": 4,
 "nbformat_minor": 4
}
