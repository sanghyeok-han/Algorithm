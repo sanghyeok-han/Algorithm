{
 "cells": [
  {
   "cell_type": "markdown",
   "metadata": {},
   "source": [
    "### A"
   ]
  },
  {
   "cell_type": "code",
   "execution_count": null,
   "metadata": {},
   "outputs": [],
   "source": [
    "n, h = map(int, input().split())\n",
    "li = sorted(map(int, input().split()), reverse=True)\n",
    "\n",
    "wps = li[:2] # weapons\n",
    "d = sum(wps)\n",
    "count = (h // d) * 2\n",
    "h %= d\n",
    "\n",
    "if h == 0:\n",
    "    print(count)\n",
    "else:\n",
    "    print(count + 1)"
   ]
  },
  {
   "cell_type": "code",
   "execution_count": null,
   "metadata": {},
   "outputs": [],
   "source": [
    "2 1"
   ]
  },
  {
   "cell_type": "code",
   "execution_count": 9,
   "metadata": {},
   "outputs": [
    {
     "name": "stdout",
     "output_type": "stream",
     "text": [
      "1\n",
      "2 6\n",
      "4 4\n",
      "2\n"
     ]
    }
   ],
   "source": [
    "t = int(input())\n",
    "for _ in range(t):\n",
    "    n, h = map(int, input().split())\n",
    "    li = sorted(map(int, input().split()), reverse=True)\n",
    "\n",
    "    wps = li[:2] # weapons\n",
    "    d = sum(wps)\n",
    "    count = (h // d) * 2\n",
    "    h %= d\n",
    "\n",
    "    if h == 0:\n",
    "        print(count)\n",
    "    elif h <= wps[0]:\n",
    "        print(count + 1)\n",
    "    else:\n",
    "        print(count + 2)"
   ]
  },
  {
   "cell_type": "code",
   "execution_count": null,
   "metadata": {},
   "outputs": [],
   "source": [
    "5\n",
    "5 2\n",
    "4 4\n",
    "5 4\n",
    "4 4\n",
    "5 6\n",
    "4 4\n",
    "5 8\n",
    "4 4\n",
    "5 10\n",
    "4 4"
   ]
  },
  {
   "cell_type": "markdown",
   "metadata": {},
   "source": [
    "### B"
   ]
  },
  {
   "cell_type": "code",
   "execution_count": 19,
   "metadata": {},
   "outputs": [
    {
     "name": "stdout",
     "output_type": "stream",
     "text": [
      "1 1\n",
      "6 5 4 3 2 1\n"
     ]
    }
   ],
   "source": [
    "n, x = map(int, input().split())\n",
    "li = list(map(int, input().split()))"
   ]
  },
  {
   "cell_type": "code",
   "execution_count": 47,
   "metadata": {},
   "outputs": [
    {
     "name": "stdout",
     "output_type": "stream",
     "text": [
      "5 3\n",
      "5 4 3 2 1\n",
      "YES\n"
     ]
    }
   ],
   "source": [
    "n, x = map(int, input().split())\n",
    "li = list(map(int, input().split()))\n",
    "\n",
    "left_end = x\n",
    "right_start = n - 1 - x\n",
    "if left_end <= right_start:\n",
    "    print('YES')\n",
    "else:\n",
    "    temp = li[right_start + 1: left_end]\n",
    "    \n",
    "    sorted_li = sorted(li)\n",
    "    li2 = sorted_li[:]\n",
    "    li2[right_start + 1: left_end] = temp\n",
    "    \n",
    "    if sorted_li != li2:\n",
    "        print('NO')\n",
    "    else:\n",
    "        print('YES')"
   ]
  },
  {
   "cell_type": "code",
   "execution_count": 46,
   "metadata": {},
   "outputs": [
    {
     "data": {
      "text/plain": [
       "[5, 4, 3, 2, 1]"
      ]
     },
     "execution_count": 46,
     "metadata": {},
     "output_type": "execute_result"
    }
   ],
   "source": [
    "li"
   ]
  },
  {
   "cell_type": "code",
   "execution_count": 45,
   "metadata": {},
   "outputs": [
    {
     "data": {
      "text/plain": [
       "[3]"
      ]
     },
     "execution_count": 45,
     "metadata": {},
     "output_type": "execute_result"
    }
   ],
   "source": [
    "temp"
   ]
  },
  {
   "cell_type": "code",
   "execution_count": null,
   "metadata": {},
   "outputs": [],
   "source": [
    "5 4\n",
    "1 2 3 4 5\n",
    "YES"
   ]
  },
  {
   "cell_type": "code",
   "execution_count": 40,
   "metadata": {},
   "outputs": [
    {
     "data": {
      "text/plain": [
       "[2, 3, 4]"
      ]
     },
     "execution_count": 40,
     "metadata": {},
     "output_type": "execute_result"
    }
   ],
   "source": [
    "temp"
   ]
  },
  {
   "cell_type": "code",
   "execution_count": null,
   "metadata": {},
   "outputs": [],
   "source": [
    "t = int(input())\n",
    "for _ in range(t):\n",
    "    n, x = map(int, input().split())\n",
    "    li = list(map(int, input().split()))\n",
    "\n",
    "    left_end = x\n",
    "    right_start = n - 1 - x\n",
    "    if left_end <= right_start:\n",
    "        print('YES')\n",
    "    else:\n",
    "        temp = li[right_start + 1: left_end]\n",
    "\n",
    "        sorted_li = sorted(li)\n",
    "        li2 = sorted_li[:]\n",
    "        li2[right_start + 1: left_end] = temp\n",
    "\n",
    "        if sorted_li != li2:\n",
    "            print('NO')\n",
    "        else:\n",
    "            print('YES')"
   ]
  },
  {
   "cell_type": "code",
   "execution_count": 37,
   "metadata": {},
   "outputs": [
    {
     "data": {
      "text/plain": [
       "[2, 3, 4]"
      ]
     },
     "execution_count": 37,
     "metadata": {},
     "output_type": "execute_result"
    }
   ],
   "source": [
    "temp"
   ]
  },
  {
   "cell_type": "code",
   "execution_count": 36,
   "metadata": {},
   "outputs": [
    {
     "name": "stdout",
     "output_type": "stream",
     "text": [
      "[3, 5, 4, 6, 2, 1]\n",
      "[3, 2, 4, 6, 5, 1]\n",
      "[3, 2, 1, 6, 5, 4]\n",
      "[5, 2, 1, 6, 3, 4]\n",
      "[5, 4, 1, 6, 3, 2]\n"
     ]
    }
   ],
   "source": [
    "li = [6, 5, 4, 3, 2, 1]\n",
    "x = 3\n",
    "\n",
    "def s(ai, bi):\n",
    "    li[ai], li[bi] = li[bi], li[ai]\n",
    "    print(li)\n",
    "    \n",
    "s(0, 3)\n",
    "s(1, 4)\n",
    "s(2, 5)\n",
    "s(0, 4)\n",
    "s(1, 5)"
   ]
  },
  {
   "cell_type": "markdown",
   "metadata": {},
   "source": [
    "### C"
   ]
  },
  {
   "cell_type": "markdown",
   "metadata": {},
   "source": [
    "### 전부 분리된 상태에서 붙히기 시작하면 어떨까?"
   ]
  },
  {
   "cell_type": "code",
   "execution_count": null,
   "metadata": {},
   "outputs": [],
   "source": [
    "def find(v):\n",
    "    if v = parent[v]:\n",
    "        return v\n",
    "    else:\n",
    "        parent[v] = find(parent[v])\n",
    "        return parent[v]\n",
    "    \n",
    "def union(a, b):\n",
    "    if b < a:\n",
    "        a, b = b, a\n",
    "    parent[b] = a\n",
    "\n",
    "n, k = map(int, input().split())\n",
    "tree = list(map(int, input().split()))\n",
    "\n",
    "parent = list(range(n))\n",
    "for _ in range(k - 1):\n",
    "    a, b = "
   ]
  },
  {
   "cell_type": "code",
   "execution_count": 48,
   "metadata": {},
   "outputs": [
    {
     "data": {
      "text/plain": [
       "7"
      ]
     },
     "execution_count": 48,
     "metadata": {},
     "output_type": "execute_result"
    }
   ],
   "source": [
    "3 ^ 4"
   ]
  },
  {
   "cell_type": "code",
   "execution_count": 49,
   "metadata": {},
   "outputs": [
    {
     "data": {
      "text/plain": [
       "'0b11'"
      ]
     },
     "execution_count": 49,
     "metadata": {},
     "output_type": "execute_result"
    }
   ],
   "source": [
    "bin(3)"
   ]
  },
  {
   "cell_type": "code",
   "execution_count": 50,
   "metadata": {},
   "outputs": [
    {
     "data": {
      "text/plain": [
       "'0b100'"
      ]
     },
     "execution_count": 50,
     "metadata": {},
     "output_type": "execute_result"
    }
   ],
   "source": [
    "bin(4)"
   ]
  },
  {
   "cell_type": "code",
   "execution_count": 51,
   "metadata": {},
   "outputs": [
    {
     "data": {
      "text/plain": [
       "'0b111'"
      ]
     },
     "execution_count": 51,
     "metadata": {},
     "output_type": "execute_result"
    }
   ],
   "source": [
    "bin(3^4)"
   ]
  },
  {
   "cell_type": "markdown",
   "metadata": {},
   "source": [
    "### F1"
   ]
  },
  {
   "cell_type": "code",
   "execution_count": null,
   "metadata": {},
   "outputs": [],
   "source": [
    "# 우측 상단 쓸 일이 있나?\n",
    "# 우측 하단도 쓸 일이 있나?\n",
    "\n",
    "# 왼쪽으로만 전부 커버한다면?"
   ]
  },
  {
   "cell_type": "markdown",
   "metadata": {},
   "source": [
    "### 인터렉티브 예시"
   ]
  },
  {
   "cell_type": "code",
   "execution_count": null,
   "metadata": {},
   "outputs": [],
   "source": [
    "import sys\n",
    "\n",
    "start = 1\n",
    "end = 1000000\n",
    "\n",
    "result = 0\n",
    "st = set()\n",
    "while start <= end:\n",
    "    mid = (start + end + 1) // 2\n",
    "    \n",
    "    print(mid)\n",
    "    sys.stdout.flush()\n",
    "    \n",
    "    feedback = input()\n",
    "    \n",
    "    if feedback == '<':\n",
    "        end = mid - 1\n",
    "    else:\n",
    "        start = mid\n",
    "        if mid in st:\n",
    "            break\n",
    "        st.add(mid)\n",
    "        \n",
    "result = f\"! {mid}\"\n",
    "print(result)\n",
    "sys.stdout.flush()"
   ]
  },
  {
   "cell_type": "markdown",
   "metadata": {},
   "source": [
    "### 제출본"
   ]
  },
  {
   "cell_type": "code",
   "execution_count": null,
   "metadata": {},
   "outputs": [],
   "source": [
    "import os\n",
    "import sys\n",
    "from io import BytesIO, IOBase\n",
    " \n",
    "\n",
    "def main():\n",
    "    t = int(input())\n",
    "    for _ in range(t):\n",
    "        n, x = map(int, input().split())\n",
    "        li = list(map(int, input().split()))\n",
    "\n",
    "        left_end = x\n",
    "        right_start = n - 1 - x\n",
    "        if left_end <= right_start:\n",
    "            print('YES')\n",
    "        else:\n",
    "            temp = li[right_start + 1: left_end]\n",
    "\n",
    "            sorted_li = sorted(li)\n",
    "            li2 = sorted_li[:]\n",
    "            li2[right_start + 1: left_end] = temp\n",
    "\n",
    "            if sorted_li != li2:\n",
    "                print('NO')\n",
    "            else:\n",
    "                print('YES')\n",
    "    \n",
    "    \n",
    "    \n",
    "    \n",
    "    \n",
    "    \n",
    "    \n",
    "    \n",
    "\n",
    "# region fastio\n",
    " \n",
    "BUFSIZE = 8192\n",
    " \n",
    "\n",
    "class FastIO(IOBase):\n",
    "    newlines = 0\n",
    " \n",
    "    def __init__(self, file):\n",
    "        self._fd = file.fileno()\n",
    "        self.buffer = BytesIO()\n",
    "        self.writable = \"x\" in file.mode or \"r\" not in file.mode\n",
    "        self.write = self.buffer.write if self.writable else None\n",
    " \n",
    "    def read(self):\n",
    "        while True:\n",
    "            b = os.read(self._fd, max(os.fstat(self._fd).st_size, BUFSIZE))\n",
    "            if not b:\n",
    "                break\n",
    "            ptr = self.buffer.tell()\n",
    "            self.buffer.seek(0, 2), self.buffer.write(b), self.buffer.seek(ptr)\n",
    "        self.newlines = 0\n",
    "        return self.buffer.read()\n",
    " \n",
    "    def readline(self):\n",
    "        while self.newlines == 0:\n",
    "            b = os.read(self._fd, max(os.fstat(self._fd).st_size, BUFSIZE))\n",
    "            self.newlines = b.count(b\"\\n\") + (not b)\n",
    "            ptr = self.buffer.tell()\n",
    "            self.buffer.seek(0, 2), self.buffer.write(b), self.buffer.seek(ptr)\n",
    "        self.newlines -= 1\n",
    "        return self.buffer.readline()\n",
    " \n",
    "    def flush(self):\n",
    "        if self.writable:\n",
    "            os.write(self._fd, self.buffer.getvalue())\n",
    "            self.buffer.truncate(0), self.buffer.seek(0)\n",
    " \n",
    " \n",
    "class IOWrapper(IOBase):\n",
    "    def __init__(self, file):\n",
    "        self.buffer = FastIO(file)\n",
    "        self.flush = self.buffer.flush\n",
    "        self.writable = self.buffer.writable\n",
    "        self.write = lambda s: self.buffer.write(s.encode(\"ascii\"))\n",
    "        self.read = lambda: self.buffer.read().decode(\"ascii\")\n",
    "        self.readline = lambda: self.buffer.readline().decode(\"ascii\")\n",
    " \n",
    " \n",
    "sys.stdin, sys.stdout = IOWrapper(sys.stdin), IOWrapper(sys.stdout)\n",
    "input = lambda: sys.stdin.readline().rstrip(\"\\r\\n\")\n",
    " \n",
    "# endregion\n",
    " \n",
    "if __name__ == \"__main__\":\n",
    "    main()"
   ]
  }
 ],
 "metadata": {
  "kernelspec": {
   "display_name": "Python 3",
   "language": "python",
   "name": "python3"
  },
  "language_info": {
   "codemirror_mode": {
    "name": "ipython",
    "version": 3
   },
   "file_extension": ".py",
   "mimetype": "text/x-python",
   "name": "python",
   "nbconvert_exporter": "python",
   "pygments_lexer": "ipython3",
   "version": "3.7.3"
  }
 },
 "nbformat": 4,
 "nbformat_minor": 4
}
