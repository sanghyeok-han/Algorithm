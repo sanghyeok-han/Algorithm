{
 "cells": [
  {
   "cell_type": "markdown",
   "metadata": {},
   "source": [
    "A"
   ]
  },
  {
   "cell_type": "code",
   "execution_count": 3,
   "metadata": {},
   "outputs": [
    {
     "name": "stdout",
     "output_type": "stream",
     "text": [
      "3\n",
      "BBB\n",
      "NO\n"
     ]
    }
   ],
   "source": [
    "import sys\n",
    "input = lambda: sys.stdin.readline().rstrip()\n",
    "\n",
    "to_comp = 'FBFFBFFBFBFFBFFBFBFFBFFBFBFFBFFB'\n",
    "\n",
    "for _ in range(int(input())):\n",
    "    n = int(input())\n",
    "    s = input()\n",
    "\n",
    "    if s in to_comp:\n",
    "        print('YES')\n",
    "    else:\n",
    "        print('NO')"
   ]
  },
  {
   "cell_type": "markdown",
   "metadata": {},
   "source": [
    "B"
   ]
  },
  {
   "cell_type": "code",
   "execution_count": null,
   "metadata": {},
   "outputs": [],
   "source": [
    "n *\n",
    "1 0\n",
    "2 1\n",
    "3 1\n",
    "4 2\n",
    "5 2\n",
    "6 3\n",
    "7 3"
   ]
  },
  {
   "cell_type": "code",
   "execution_count": null,
   "metadata": {},
   "outputs": [],
   "source": [
    "aaaabbccccc\n",
    "ddddbbeeeee\n",
    "\n",
    "*bb*"
   ]
  },
  {
   "cell_type": "code",
   "execution_count": null,
   "metadata": {},
   "outputs": [],
   "source": [
    "aaaabebcccc\n",
    "ggggbdbhhhh\n",
    "\n",
    "*b*b*\n",
    "*b*b*"
   ]
  },
  {
   "cell_type": "code",
   "execution_count": null,
   "metadata": {},
   "outputs": [],
   "source": [
    "aabc\n",
    "bcaa\n",
    "\n",
    "*aa*"
   ]
  },
  {
   "cell_type": "code",
   "execution_count": 8,
   "metadata": {
    "scrolled": true
   },
   "outputs": [
    {
     "name": "stdout",
     "output_type": "stream",
     "text": [
      "c\n",
      "f\n",
      "NO\n"
     ]
    }
   ],
   "source": [
    "import sys\n",
    "input = lambda: sys.stdin.readline().rstrip()\n",
    "\n",
    "for _ in range(int(input())):\n",
    "    a = input()\n",
    "    b = input()\n",
    "\n",
    "    if a[0] == b[0]:\n",
    "        print('YES')\n",
    "        print(a[0] + '*')\n",
    "    elif a[-1] == b[-1]:\n",
    "        print('YES')\n",
    "        print('*' + a[-1])\n",
    "    else:\n",
    "        if len(a) == 1:\n",
    "            print('NO')\n",
    "        else:\n",
    "            st = set()\n",
    "            for i in range(len(a) - 1):\n",
    "                st.add(a[i] + a[i + 1])\n",
    "\n",
    "            ip = False\n",
    "            r = ''\n",
    "            for i in range(len(b) - 1):\n",
    "                if (b[i] + b[i + 1]) in st:\n",
    "                    ip = True\n",
    "                    r = '*' + (b[i] + b[i + 1]) + '*'\n",
    "\n",
    "            if ip:\n",
    "                print('YES')\n",
    "                print(r)\n",
    "            else:\n",
    "                print('NO')"
   ]
  },
  {
   "cell_type": "markdown",
   "metadata": {},
   "source": [
    "C"
   ]
  },
  {
   "cell_type": "code",
   "execution_count": 41,
   "metadata": {},
   "outputs": [
    {
     "name": "stdout",
     "output_type": "stream",
     "text": [
      "4 100\n",
      "7\n"
     ]
    }
   ],
   "source": [
    "import io, os, sys\n",
    "input = io.BytesIO(os.read(0, os.fstat(0).st_size)).readline\n",
    "\n",
    "mod = 998244353\n",
    "\n",
    "for _ in range(int(input())):\n",
    "    l, r = map(int, input().split())\n",
    "\n",
    "    cur = l\n",
    "    max_len = 0\n",
    "    mulled = 1\n",
    "    while cur <= r:\n",
    "        max_len += 1\n",
    "        cur *= 2\n",
    "        mulled *= 2\n",
    "\n",
    "    mulled //= 2\n",
    "\n",
    "    start = l\n",
    "    end = r\n",
    "    can_start_max = -1\n",
    "    while start <= end:\n",
    "        mid = (start + end) // 2\n",
    "\n",
    "        if mid * mulled <= r:\n",
    "            can_start_max = mid\n",
    "            start = mid + 1\n",
    "        else:\n",
    "            end = mid - 1\n",
    "\n",
    "    if can_start_max != -1:\n",
    "        result = can_start_max - l + 1\n",
    "\n",
    "    if mulled >= 2:\n",
    "        mulled //= 2\n",
    "        mulled *= 3\n",
    "\n",
    "        start = l\n",
    "        end = r\n",
    "        can_start_max = -1\n",
    "        while start <= end:\n",
    "            mid = (start + end) // 2\n",
    "\n",
    "            if mid * mulled <= r:\n",
    "                can_start_max = mid\n",
    "                start = mid + 1\n",
    "            else:\n",
    "                end = mid - 1   \n",
    "\n",
    "        if can_start_max != -1:\n",
    "            result += (can_start_max - l + 1) * (max_len - 1)\n",
    "\n",
    "    print(max_len, result % mod)"
   ]
  },
  {
   "cell_type": "markdown",
   "metadata": {},
   "source": [
    "D"
   ]
  },
  {
   "cell_type": "code",
   "execution_count": null,
   "metadata": {},
   "outputs": [],
   "source": [
    "모두가 음수일 때 가장 좋은 경우에서 k개까지 양수로 전환 가능함\n",
    "\n",
    "1~k개의 원소만을 선택했을 때의 가장 큰 수"
   ]
  },
  {
   "cell_type": "code",
   "execution_count": 59,
   "metadata": {},
   "outputs": [
    {
     "name": "stdout",
     "output_type": "stream",
     "text": [
      "1\n",
      "3 2 4\n",
      "5 -1 5\n",
      "12\n"
     ]
    }
   ],
   "source": [
    "import io, os, sys\n",
    "# input = io.BytesIO(os.read(0, os.fstat(0).st_size)).readline\n",
    "\n",
    "for _ in range(int(input())):\n",
    "    n, k, x = map(int, input().split())\n",
    "    li = list(map(int, input().split()))\n",
    "\n",
    "    if x < 0:\n",
    "        k = (n - k)\n",
    "        x = -x\n",
    "\n",
    "    nli = [v - x for v in li]\n",
    "\n",
    "    max_r = 0\n",
    "    max_r_len = 0\n",
    "\n",
    "    start = 0\n",
    "    end = 0\n",
    "    cur = nli[0]\n",
    "    while True:\n",
    "        if cur < 0:\n",
    "            cur -= nli[start]\n",
    "            start += 1\n",
    "            if start > end:\n",
    "                end = start\n",
    "                if end == n:\n",
    "                    break\n",
    "                cur += nli[end]\n",
    "        else:\n",
    "            if cur > max_r:\n",
    "                max_r = cur\n",
    "                max_r_len = end - start + 1\n",
    "            end += 1\n",
    "            if end == n:\n",
    "                break\n",
    "            cur += nli[end]\n",
    "\n",
    "    max_r = max_r + min(max_r_len, k) * (x * 2)\n",
    "    r1 = max_r\n",
    "\n",
    "    nli = [v + x for v in li]\n",
    "\n",
    "    max_r = 0\n",
    "    start = 0\n",
    "    end = 0\n",
    "    cur = nli[0]\n",
    "    while True:\n",
    "        if (end - start + 1) > k or cur < 0:\n",
    "            cur -= nli[start]\n",
    "            start += 1\n",
    "            if start > end:\n",
    "                end = start\n",
    "                if end == n:\n",
    "                    break\n",
    "                cur += nli[end]\n",
    "        else:\n",
    "            if cur > max_r:\n",
    "                max_r = cur\n",
    "                max_r_len = end - start + 1\n",
    "            end += 1\n",
    "            if end == n:\n",
    "                break\n",
    "            cur += nli[end]\n",
    "\n",
    "    r2 = max_r\n",
    "\n",
    "    result = max(0, r1, r2)\n",
    "\n",
    "    print(result)"
   ]
  },
  {
   "cell_type": "code",
   "execution_count": 56,
   "metadata": {},
   "outputs": [],
   "source": [
    "import io, os, sys\n",
    "input = io.BytesIO(os.read(0, os.fstat(0).st_size)).readline\n",
    "\n",
    "for _ in range(int(input())):\n",
    "    n, k, x = map(int, input().split())\n",
    "    li = list(map(int, input().split()))\n",
    "\n",
    "    if x < 0:\n",
    "        k = (n - k)\n",
    "        x = -x\n",
    "\n",
    "    nli = [v - x for v in li]\n",
    "\n",
    "    max_r = 0\n",
    "    max_r_len = 0\n",
    "\n",
    "    start = 0\n",
    "    end = 0\n",
    "    cur = nli[0]\n",
    "    while True:\n",
    "        if end - start + 1 <= k:\n",
    "            end += 1\n",
    "            if end == n:\n",
    "                break\n",
    "            cur += nli[end]\n",
    "        elif cur < 0:\n",
    "            cur -= nli[start]\n",
    "            start += 1\n",
    "            if start > end:\n",
    "                end = start\n",
    "                if end == n:\n",
    "                    break\n",
    "                cur += nli[end]\n",
    "        else:\n",
    "            if cur > max_r:\n",
    "                max_r = cur\n",
    "                max_r_len = end - start + 1\n",
    "            end += 1\n",
    "            if end == n:\n",
    "                break\n",
    "            cur += nli[end]\n",
    "           \n",
    "    max_r = 0\n",
    "    if max_r_len >= 1:\n",
    "        max_r = max_r + k * (x * 2)\n",
    "    r1 = max_r\n",
    "\n",
    "    nli = [v + x for v in li]\n",
    "\n",
    "    for cri in range(1, k + 1):\n",
    "        max_r = 0\n",
    "        start = 0\n",
    "        end = 0\n",
    "        cur = nli[0]\n",
    "        while True:\n",
    "            if (end - start + 1) > k or cur < 0:\n",
    "                cur -= nli[start]\n",
    "                start += 1\n",
    "                if start > end:\n",
    "                    end = start\n",
    "                    if end == n:\n",
    "                        break\n",
    "                    cur += nli[end]\n",
    "            else:\n",
    "                if cur > max_r:\n",
    "                    max_r = cur\n",
    "                end += 1\n",
    "                if end == n:\n",
    "                    break\n",
    "                cur += nli[end]\n",
    "\n",
    "        result - max\n",
    "\n",
    "    result = max(0, r1, r2)\n",
    "\n",
    "    print(result)"
   ]
  }
 ],
 "metadata": {
  "kernelspec": {
   "display_name": "Python 3",
   "language": "python",
   "name": "python3"
  },
  "language_info": {
   "codemirror_mode": {
    "name": "ipython",
    "version": 3
   },
   "file_extension": ".py",
   "mimetype": "text/x-python",
   "name": "python",
   "nbconvert_exporter": "python",
   "pygments_lexer": "ipython3",
   "version": "3.8.3"
  }
 },
 "nbformat": 4,
 "nbformat_minor": 4
}
