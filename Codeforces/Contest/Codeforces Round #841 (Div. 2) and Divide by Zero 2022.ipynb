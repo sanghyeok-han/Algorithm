{
 "cells": [
  {
   "cell_type": "markdown",
   "metadata": {},
   "source": [
    "A"
   ]
  },
  {
   "cell_type": "code",
   "execution_count": null,
   "metadata": {},
   "outputs": [],
   "source": [
    "2 3 2\n",
    "\n",
    "1 6 2\n",
    "\n",
    "1 1 12"
   ]
  },
  {
   "cell_type": "code",
   "execution_count": 2,
   "metadata": {},
   "outputs": [
    {
     "data": {
      "text/plain": [
       "2022000000004044"
      ]
     },
     "execution_count": 2,
     "metadata": {},
     "output_type": "execute_result"
    }
   ],
   "source": [
    "(1000000 * 1000000 + 2) * 2022"
   ]
  },
  {
   "cell_type": "code",
   "execution_count": 5,
   "metadata": {},
   "outputs": [
    {
     "name": "stdout",
     "output_type": "stream",
     "text": [
      "1\n",
      "2\n",
      "1 3\n",
      "8088\n"
     ]
    }
   ],
   "source": [
    "import io, os, sys\n",
    "input = io.BytesIO(os.read(0,os.fstat(0).st_size)).readline\n",
    "\n",
    "for _ in range(int(input())):\n",
    "    n = int(input())\n",
    "    li = list(map(int, input().split()))\n",
    "    \n",
    "    temp = 1\n",
    "    for v in li:\n",
    "        temp *= v\n",
    "        \n",
    "    temp += (n - 1)\n",
    "    temp *= 2022\n",
    "    \n",
    "    print(temp)"
   ]
  },
  {
   "cell_type": "markdown",
   "metadata": {},
   "source": [
    "B"
   ]
  },
  {
   "cell_type": "code",
   "execution_count": 6,
   "metadata": {},
   "outputs": [
    {
     "data": {
      "text/plain": [
       "(49, 46)"
      ]
     },
     "execution_count": 6,
     "metadata": {},
     "output_type": "execute_result"
    }
   ],
   "source": [
    "1+2+3+6+9+12+16, 1+2+3+4+8+12+16"
   ]
  },
  {
   "cell_type": "code",
   "execution_count": 17,
   "metadata": {},
   "outputs": [
    {
     "data": {
      "text/plain": [
       "20"
      ]
     },
     "execution_count": 17,
     "metadata": {},
     "output_type": "execute_result"
    }
   ],
   "source": [
    "n = 9\n",
    "\n",
    "(2 * n ** 2 - 1 + (-1) ** n) // 8"
   ]
  },
  {
   "cell_type": "code",
   "execution_count": null,
   "metadata": {},
   "outputs": [],
   "source": [
    "1,2,4,6,9,12,16\n",
    "1   2   3    4\n",
    "1 3 7 13 22\n",
    "\n",
    "2 3 4 5 6 7"
   ]
  },
  {
   "cell_type": "code",
   "execution_count": 18,
   "metadata": {},
   "outputs": [
    {
     "data": {
      "text/plain": [
       "(1, 3, 7, 13, 22, 34)"
      ]
     },
     "execution_count": 18,
     "metadata": {},
     "output_type": "execute_result"
    }
   ],
   "source": [
    "1, 1+2, 1+2+4, 1+2+4+6, 1+2+4+6+9, 1+2+4+6+9+12"
   ]
  },
  {
   "cell_type": "code",
   "execution_count": 48,
   "metadata": {},
   "outputs": [
    {
     "name": "stdout",
     "output_type": "stream",
     "text": [
      "1000000000\n",
      "999589541\n"
     ]
    }
   ],
   "source": [
    "import io, os, sys\n",
    "input = io.BytesIO(os.read(0,os.fstat(0).st_size)).readline\n",
    "\n",
    "mod = int(1e9) + 7\n",
    "\n",
    "for _ in range(int(input())):\n",
    "    on = int(input())\n",
    "\n",
    "    n = (on * 2 - 1) + 1\n",
    "\n",
    "    r = (4 * n ** 3 + 6 * n ** 2 - 4 * n - 3 + 3 * (-1) ** n) // 48 * 2022 % mod\n",
    "\n",
    "    print(r)"
   ]
  },
  {
   "cell_type": "markdown",
   "metadata": {},
   "source": [
    "C"
   ]
  },
  {
   "cell_type": "code",
   "execution_count": 85,
   "metadata": {},
   "outputs": [
    {
     "data": {
      "text/plain": [
       "('0b0', '0b1', '0b100', '0b1001', '0b10000', '0b11001', '0b100100')"
      ]
     },
     "execution_count": 85,
     "metadata": {},
     "output_type": "execute_result"
    }
   ],
   "source": [
    "bin(0), bin(1), bin(4), bin(9), bin(16), bin(25), bin(36)"
   ]
  },
  {
   "cell_type": "code",
   "execution_count": 65,
   "metadata": {},
   "outputs": [
    {
     "name": "stdout",
     "output_type": "stream",
     "text": [
      "4\n",
      "1\n",
      "1\n",
      "4\n",
      "11\n"
     ]
    }
   ],
   "source": [
    "r = 0\n",
    "for i in range(n):\n",
    "    for j in range(i, n):\n",
    "        nli = li[i:j + 1]\n",
    "        \n",
    "        xor = 0\n",
    "        for v in nli:\n",
    "            xor ^= v\n",
    "            \n",
    "        if xor not in [0, 1, 4, 9, 16, 25, 36, 49]:\n",
    "            r += 1\n",
    "        else:\n",
    "            print(xor)\n",
    "            \n",
    "print(r)"
   ]
  },
  {
   "cell_type": "code",
   "execution_count": 53,
   "metadata": {},
   "outputs": [
    {
     "data": {
      "text/plain": [
       "'0b110000110101000000'"
      ]
     },
     "execution_count": 53,
     "metadata": {},
     "output_type": "execute_result"
    }
   ],
   "source": [
    "bin(200000)"
   ]
  },
  {
   "cell_type": "code",
   "execution_count": 55,
   "metadata": {},
   "outputs": [
    {
     "data": {
      "text/plain": [
       "131071"
      ]
     },
     "execution_count": 55,
     "metadata": {},
     "output_type": "execute_result"
    }
   ],
   "source": [
    "int('11111111111111111', 2)\n",
    "\n",
    "110000110101000000\n",
    "111111111111111111"
   ]
  },
  {
   "cell_type": "code",
   "execution_count": 86,
   "metadata": {},
   "outputs": [
    {
     "data": {
      "text/plain": [
       "80000000"
      ]
     },
     "execution_count": 86,
     "metadata": {},
     "output_type": "execute_result"
    }
   ],
   "source": [
    "200000 * 400"
   ]
  },
  {
   "cell_type": "code",
   "execution_count": null,
   "metadata": {},
   "outputs": [],
   "source": [
    "20000"
   ]
  },
  {
   "cell_type": "code",
   "execution_count": 95,
   "metadata": {},
   "outputs": [
    {
     "name": "stdout",
     "output_type": "stream",
     "text": [
      "1\n",
      "7\n",
      "5 7 3 7 1 7 3\n",
      "20\n"
     ]
    }
   ],
   "source": [
    "import io, os, sys\n",
    "input = io.BytesIO(os.read(0,os.fstat(0).st_size)).readline\n",
    "\n",
    "# https://www.geeksforgeeks.org/count-number-subarrays-given-xor/\n",
    "def subarrayXor():\n",
    "    d=dict()\n",
    "    d[str(0)]=1\n",
    "    count=0\n",
    "    curSum=0\n",
    "    for i in li:\n",
    "        curSum^=i\n",
    "        if str(curSum^m) in d:\n",
    "            count+=d[str(curSum^m)]\n",
    "            \n",
    "        if str(curSum) in d:\n",
    "            d[str(curSum)]+= 1\n",
    "        else:\n",
    "            d[str(curSum)] = 1\n",
    "            \n",
    "    return count\n",
    "\n",
    "for _ in range(int(input())):\n",
    "    n = int(input())\n",
    "    li = list(map(int, input().split()))\n",
    "\n",
    "    tm = 0\n",
    "    cur = 0\n",
    "    while True:\n",
    "        m = cur * cur\n",
    "\n",
    "        if m >= 280000:\n",
    "            break\n",
    "\n",
    "        tm += subarrayXor()\n",
    "\n",
    "        cur += 1\n",
    "\n",
    "    r = n * (n - 1) // 2 + n - tm\n",
    "\n",
    "    print(r)"
   ]
  },
  {
   "cell_type": "code",
   "execution_count": null,
   "metadata": {},
   "outputs": [],
   "source": []
  },
  {
   "cell_type": "markdown",
   "metadata": {},
   "source": [
    "D"
   ]
  },
  {
   "cell_type": "code",
   "execution_count": 83,
   "metadata": {},
   "outputs": [
    {
     "name": "stdout",
     "output_type": "stream",
     "text": [
      "1\n",
      "1 3\n",
      "1 2 3\n",
      "1\n"
     ]
    }
   ],
   "source": [
    "import io, os, sys\n",
    "input = io.BytesIO(os.read(0,os.fstat(0).st_size)).readline\n",
    "\n",
    "for _ in range(int(input())):\n",
    "    n, m = map(int, input().split())\n",
    "    li = [list(map(int, input().split())) for _ in range(n)]\n",
    "\n",
    "    start = 1\n",
    "    end = min(n, m)\n",
    "    max_r = 0\n",
    "    while start <= end:\n",
    "        mid = (start + end) // 2\n",
    "\n",
    "        dp = [[0] * m for _ in range(n)]\n",
    "        max_v = 0\n",
    "\n",
    "        j = 0\n",
    "        for i in range(n):\n",
    "            if li[i][j] >= mid:\n",
    "                dp[i][j] = 1\n",
    "                max_v = 1\n",
    "\n",
    "        i = 0\n",
    "        for j in range(m):\n",
    "            if li[i][j] >= mid:\n",
    "                dp[i][j] = 1\n",
    "                max_v = 1\n",
    "\n",
    "        for i in range(1, n):\n",
    "            for j in range(1, m):\n",
    "                if li[i][j] >= mid:\n",
    "                    dp[i][j] = 1\n",
    "                    min_value = min((dp[i - 1][j - 1]), dp[i - 1][j], dp[i][j - 1])\n",
    "                    if min_value >= 1:\n",
    "                        dp[i][j] = min_value + 1\n",
    "\n",
    "                max_v = max(max_v, dp[i][j])\n",
    "                \n",
    "        if max_v >= mid:\n",
    "            max_r = mid\n",
    "            start = mid + 1\n",
    "        else:\n",
    "            end = mid - 1\n",
    "\n",
    "    print(max_r)"
   ]
  }
 ],
 "metadata": {
  "kernelspec": {
   "display_name": "Python 3",
   "language": "python",
   "name": "python3"
  },
  "language_info": {
   "codemirror_mode": {
    "name": "ipython",
    "version": 3
   },
   "file_extension": ".py",
   "mimetype": "text/x-python",
   "name": "python",
   "nbconvert_exporter": "python",
   "pygments_lexer": "ipython3",
   "version": "3.7.4"
  }
 },
 "nbformat": 4,
 "nbformat_minor": 2
}
