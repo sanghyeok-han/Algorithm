{
 "cells": [
  {
   "cell_type": "markdown",
   "metadata": {},
   "source": [
    "A"
   ]
  },
  {
   "cell_type": "code",
   "execution_count": 2,
   "metadata": {},
   "outputs": [
    {
     "name": "stdout",
     "output_type": "stream",
     "text": [
      "3 1\n",
      "2 2\n",
      "YES\n"
     ]
    }
   ],
   "source": [
    "import sys\n",
    "input = lambda: sys.stdin.readline().rstrip()\n",
    "\n",
    "for _ in range(int(input())):\n",
    "    n, m = map(int, input().split())\n",
    "    li = [list(map(int, input().split())) for _ in range(m)]\n",
    "\n",
    "    if n == 1:\n",
    "        print('NO')\n",
    "    else:\n",
    "        if n > m:\n",
    "            print('YES')\n",
    "        else:\n",
    "            print('NO')"
   ]
  },
  {
   "cell_type": "markdown",
   "metadata": {},
   "source": [
    "B"
   ]
  },
  {
   "cell_type": "code",
   "execution_count": 3,
   "metadata": {},
   "outputs": [
    {
     "name": "stdout",
     "output_type": "stream",
     "text": [
      "3\n",
      "100 1 100\n",
      "1 100 1\n",
      "203\n"
     ]
    }
   ],
   "source": [
    "import sys\n",
    "input = lambda: sys.stdin.readline().rstrip()\n",
    "\n",
    "for _ in range(int(input())):\n",
    "    n = int(input())\n",
    "    a = list(map(int, input().split()))\n",
    "    b = list(map(int, input().split()))\n",
    "\n",
    "    r = sum(a) + sum(b) - max(b)\n",
    "\n",
    "    print(r)"
   ]
  },
  {
   "cell_type": "markdown",
   "metadata": {},
   "source": [
    "C"
   ]
  },
  {
   "cell_type": "code",
   "execution_count": null,
   "metadata": {},
   "outputs": [],
   "source": [
    "엘리스는 지울 수 있는 것들 중 가장 큰 것을 지우고\n",
    "밥은 엘리스가 다음 턴에 지울 수 있는 것들 중 가장 큰 것에 더해주면 되나?"
   ]
  },
  {
   "cell_type": "code",
   "execution_count": 9,
   "metadata": {},
   "outputs": [
    {
     "name": "stdout",
     "output_type": "stream",
     "text": [
      "5\n",
      "1 3 2 1 1\n",
      "3\n"
     ]
    }
   ],
   "source": [
    "from collections import deque\n",
    "import io, os, sys\n",
    "input = io.BytesIO(os.read(0,os.fstat(0).st_size)).readline\n",
    "\n",
    "for _ in range(int(input())):\n",
    "    n = int(input())\n",
    "    li = sorted(map(int, input().split()))\n",
    "\n",
    "    result_k = 0\n",
    "    for cur_k in range(n, 0, -1):\n",
    "        deq = deque(li)\n",
    "        ip = True\n",
    "        for num in range(cur_k, 0, -1):\n",
    "            while deq and deq[-1] > num:\n",
    "                deq.pop()\n",
    "\n",
    "            if not deq:\n",
    "                ip = False\n",
    "                break\n",
    "            deq.pop()\n",
    "\n",
    "            if deq:\n",
    "                deq.popleft()\n",
    "\n",
    "        if ip:\n",
    "            result_k = cur_k\n",
    "            break\n",
    "\n",
    "    print(result_k)"
   ]
  },
  {
   "cell_type": "markdown",
   "metadata": {},
   "source": [
    "D"
   ]
  },
  {
   "cell_type": "code",
   "execution_count": null,
   "metadata": {},
   "outputs": [],
   "source": [
    "mod = 998244353\n",
    "\n"
   ]
  },
  {
   "cell_type": "code",
   "execution_count": null,
   "metadata": {},
   "outputs": [],
   "source": [
    "i\n",
    "1 2\n",
    "\n",
    "1\n",
    "2\n",
    "\n",
    "1 1   \n",
    "1 2\n",
    "1 3\n",
    "2 1\n",
    "2 2\n",
    "2 3\n",
    "3 1\n",
    "3 2\n",
    "3 3"
   ]
  },
  {
   "cell_type": "code",
   "execution_count": null,
   "metadata": {},
   "outputs": [],
   "source": [
    "1\n",
    "2\n",
    "(0)\n",
    "\n",
    "1 1\n",
    "1 3\n",
    "2 1\n",
    "2 3\n",
    "3 1\n",
    "3 3\n",
    "(6)\n",
    "\n",
    "1 1 1 o\n",
    "1 1 2 \n",
    "1 2 1\n",
    "1 2 2\n",
    "2 1 1\n",
    "2 1 2\n",
    "2 2 1\n",
    "2 2 3\n",
    "(8)\n",
    "\n",
    "1 1 1 1\n",
    "1 1 1 2\n",
    "1 1 2 1\n",
    "1 1 2 2\n",
    "1 2 1 1\n",
    "1 2 1 2\n",
    "1 2 2 1\n",
    "1 2 2 2\n",
    "2 1 1 1\n",
    "2 1 1 2\n",
    "2 1 2 1\n",
    "2 1 2 2\n",
    "2 2 1 1\n",
    "2 2 1 2\n",
    "2 2 2 1\n",
    "2 2 2 2\n",
    "(16)"
   ]
  },
  {
   "cell_type": "code",
   "execution_count": null,
   "metadata": {},
   "outputs": [],
   "source": [
    "5 2 6 2 6"
   ]
  },
  {
   "cell_type": "code",
   "execution_count": 10,
   "metadata": {},
   "outputs": [
    {
     "data": {
      "text/plain": [
       "26"
      ]
     },
     "execution_count": 10,
     "metadata": {},
     "output_type": "execute_result"
    }
   ],
   "source": [
    "길이가 1일 때는 다 안됨\n",
    "길이가 2일 때는 보류\n",
    "길이가 3이상일 때는 다 됨"
   ]
  },
  {
   "cell_type": "code",
   "execution_count": 11,
   "metadata": {},
   "outputs": [],
   "source": [
    "len = 2\n",
    "k = 10\n",
    "\n",
    "1 1~10\n",
    "2 1~10"
   ]
  },
  {
   "cell_type": "code",
   "execution_count": 44,
   "metadata": {},
   "outputs": [
    {
     "name": "stdout",
     "output_type": "stream",
     "text": [
      "4 6\n",
      "1494\n"
     ]
    }
   ],
   "source": [
    "mod = 998244353\n",
    "\n",
    "max_num = 300001\n",
    "ip = [True] * (max_num + 1)\n",
    "ip[0] = ip[1] = False\n",
    "for mod1 in range(2, int((max_num + 1) ** 0.5) + 1):\n",
    "    if ip[mod1]:\n",
    "        for v in range(mod1 * mod1, max_num + 1, mod1):\n",
    "            ip[v] = False\n",
    "\n",
    "primes = [i for i, v in enumerate(ip) if v] + [float('inf'), float('inf')]\n",
    "\n",
    "n, m = map(int, input().split())\n",
    "\n",
    "total_to_evade_c = 0\n",
    "cur_to_evade_c = m\n",
    "cur_to_check = 2\n",
    "pi = 0\n",
    "for i in range(2, n + 1):\n",
    "    if i == primes[pi + 1]:\n",
    "        pi += 1\n",
    "        cur_to_check *= primes[pi]\n",
    "        \n",
    "    cur_to_evade_c *= m // cur_to_check\n",
    "    if cur_to_evade_c == 0:\n",
    "        break\n",
    "    \n",
    "    cur_to_evade_c %= mod\n",
    "    \n",
    "    total_to_evade_c += cur_to_evade_c\n",
    "    total_to_evade_c %= mod\n",
    "    \n",
    "to_add = m ** 2 % mod\n",
    "all_case_c = to_add\n",
    "\n",
    "for i in range(3, n + 1):\n",
    "    to_add *= m\n",
    "    to_add %= mod\n",
    "    \n",
    "    all_case_c += to_add\n",
    "    all_case_c %= mod\n",
    "    \n",
    "r = (all_case_c - total_to_evade_c) % mod\n",
    "\n",
    "print(r)"
   ]
  }
 ],
 "metadata": {
  "kernelspec": {
   "display_name": "Python 3",
   "language": "python",
   "name": "python3"
  },
  "language_info": {
   "codemirror_mode": {
    "name": "ipython",
    "version": 3
   },
   "file_extension": ".py",
   "mimetype": "text/x-python",
   "name": "python",
   "nbconvert_exporter": "python",
   "pygments_lexer": "ipython3",
   "version": "3.7.4"
  }
 },
 "nbformat": 4,
 "nbformat_minor": 2
}
