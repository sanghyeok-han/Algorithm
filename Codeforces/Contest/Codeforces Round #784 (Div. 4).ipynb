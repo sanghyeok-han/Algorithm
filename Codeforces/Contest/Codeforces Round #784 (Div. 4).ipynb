{
 "cells": [
  {
   "cell_type": "code",
   "execution_count": null,
   "metadata": {},
   "outputs": [],
   "source": [
    "import sys\n",
    "# input = lambda: sys.stdin.readline().rstrip()"
   ]
  },
  {
   "cell_type": "markdown",
   "metadata": {},
   "source": [
    "A"
   ]
  },
  {
   "cell_type": "code",
   "execution_count": 1,
   "metadata": {},
   "outputs": [
    {
     "name": "stdout",
     "output_type": "stream",
     "text": [
      "1400\n",
      "Division 3\n"
     ]
    }
   ],
   "source": [
    "import sys\n",
    "input = lambda: sys.stdin.readline().rstrip()\n",
    "\n",
    "for _ in range(int(input())):\n",
    "    n = int(input())\n",
    "\n",
    "    if n <= 1399:\n",
    "        print('Division 4')\n",
    "    elif n <= 1599:\n",
    "        print('Division 3')\n",
    "    elif n <= 1899:\n",
    "        print('Division 2')\n",
    "    else:\n",
    "        print('Division 1')"
   ]
  },
  {
   "cell_type": "markdown",
   "metadata": {},
   "source": [
    "B"
   ]
  },
  {
   "cell_type": "code",
   "execution_count": 3,
   "metadata": {},
   "outputs": [
    {
     "name": "stdout",
     "output_type": "stream",
     "text": [
      "2\n",
      "2 2\n",
      "-1\n"
     ]
    }
   ],
   "source": [
    "from collections import defaultdict as dd\n",
    "import sys\n",
    "input = lambda: sys.stdin.readline().rstrip()\n",
    "\n",
    "for _ in range(int(input())):\n",
    "    n = int(input())\n",
    "    li = list(map(int, input().split()))\n",
    "\n",
    "    d = dd(int)\n",
    "    r = -1\n",
    "    for v in li:\n",
    "        d[v] += 1\n",
    "        if d[v] >= 3:\n",
    "            r = v\n",
    "            break\n",
    "\n",
    "    print(r)"
   ]
  },
  {
   "cell_type": "markdown",
   "metadata": {},
   "source": [
    "C"
   ]
  },
  {
   "cell_type": "code",
   "execution_count": null,
   "metadata": {},
   "outputs": [],
   "source": [
    "import sys\n",
    "# input = lambda: sys.stdin.readline().rstrip()\n",
    "\n",
    "for _ in range(int(input())):\n",
    "    n = int(input())\n",
    "    li = list(map(int, input().split()))\n",
    "\n",
    "    ip = True\n",
    "\n",
    "    st = set()\n",
    "    for i in range(0, n, 2):\n",
    "        st.add(li[i] % 2)\n",
    "\n",
    "    if len(st) == 2:\n",
    "        ip = False\n",
    "\n",
    "    st = set()\n",
    "    for i in range(1, n, 2):\n",
    "        st.add(li[i] % 2)\n",
    "\n",
    "    if len(st) == 2:\n",
    "        ip = False\n",
    "\n",
    "    if ip:\n",
    "        print('YES')\n",
    "    else:\n",
    "        print('NO')"
   ]
  },
  {
   "cell_type": "markdown",
   "metadata": {},
   "source": [
    "D"
   ]
  },
  {
   "cell_type": "code",
   "execution_count": null,
   "metadata": {},
   "outputs": [],
   "source": [
    "import sys\n",
    "# input = lambda: sys.stdin.readline().rstrip()\n",
    "\n",
    "for _ in range(int(input())):\n",
    "    n = int(input())\n",
    "    s = input()\n",
    "\n",
    "    ip = True\n",
    "    for v in s.split('W'):\n",
    "        if not v:\n",
    "            continue\n",
    "        is_b = False\n",
    "        is_r = False\n",
    "        for w in v:\n",
    "            if w == 'B':\n",
    "                is_b = True\n",
    "            else:\n",
    "                is_r = True\n",
    "        if not is_b or not is_r:\n",
    "            ip = False\n",
    "            break\n",
    "\n",
    "    if ip:\n",
    "        print('YES')\n",
    "    else:\n",
    "        print('NO')"
   ]
  },
  {
   "cell_type": "markdown",
   "metadata": {},
   "source": [
    "E"
   ]
  },
  {
   "cell_type": "code",
   "execution_count": 25,
   "metadata": {},
   "outputs": [
    {
     "name": "stdout",
     "output_type": "stream",
     "text": [
      "6\n",
      "ab\n",
      "cb\n",
      "db\n",
      "aa\n",
      "cc\n",
      "ef\n",
      "5\n"
     ]
    }
   ],
   "source": [
    "from collections import defaultdict as dd\n",
    "import sys\n",
    "input = lambda: sys.stdin.readline().rstrip()\n",
    "\n",
    "nC2 = lambda x: x * (x - 1) // 2\n",
    "\n",
    "for _ in range(int(input())):\n",
    "    n = int(input())\n",
    "\n",
    "    fd = dd(int) # first\n",
    "    ld = dd(int) # last\n",
    "    ad = dd(int) # all\n",
    "    for _ in range(n):\n",
    "        s = input()\n",
    "        ad[s] += 1\n",
    "        fd[s[0]] += 1\n",
    "        ld[s[1]] += 1\n",
    "\n",
    "    temp = 0\n",
    "    for key in fd:\n",
    "        if fd[key] >= 2:\n",
    "            temp += nC2(fd[key])\n",
    "    for key in ld:\n",
    "        if ld[key] >= 2:\n",
    "            temp += nC2(ld[key])\n",
    "    for key in ad:\n",
    "        if ad[key] >= 2:\n",
    "            temp -= nC2(ad[key]) * 2\n",
    "\n",
    "    print(temp)"
   ]
  },
  {
   "cell_type": "markdown",
   "metadata": {},
   "source": [
    "F"
   ]
  },
  {
   "cell_type": "code",
   "execution_count": 5,
   "metadata": {},
   "outputs": [
    {
     "name": "stdout",
     "output_type": "stream",
     "text": [
      "9\n",
      "7 3 20 5 15 1 11 8 10\n",
      "7\n"
     ]
    }
   ],
   "source": [
    "import sys\n",
    "input = lambda: sys.stdin.readline().rstrip()\n",
    "\n",
    "for _ in range(int(input())):\n",
    "    n = int(input())\n",
    "    li = list(map(int, input().split()))\n",
    "\n",
    "    d = dict()\n",
    "    cumul = 0\n",
    "    for i in range(n):\n",
    "        cumul += li[i]\n",
    "        d[cumul] = i\n",
    "\n",
    "    r = 0\n",
    "    cumul = 0\n",
    "    for i in range(n - 1, -1, -1):\n",
    "        cumul += li[i]\n",
    "        if cumul in d:\n",
    "            if d[cumul] < i:\n",
    "                r = d[cumul] + 1 + n - i\n",
    "            else:\n",
    "                break\n",
    "\n",
    "    print(r)"
   ]
  },
  {
   "cell_type": "markdown",
   "metadata": {},
   "source": [
    "G"
   ]
  },
  {
   "cell_type": "code",
   "execution_count": 8,
   "metadata": {},
   "outputs": [
    {
     "name": "stdout",
     "output_type": "stream",
     "text": [
      "2 9\n",
      "...***ooo\n",
      ".*o.*o.*o\n",
      "....**ooo\n",
      ".*o**o.*o\n"
     ]
    }
   ],
   "source": [
    "import sys\n",
    "input = lambda: sys.stdin.readline().rstrip()\n",
    "\n",
    "for _ in range(int(input())):\n",
    "    n, m = map(int, input().split())\n",
    "    li = [list(input()) for _ in range(n)]\n",
    "\n",
    "    for i in range(n - 1, -1, -1):\n",
    "        for j in range(m):\n",
    "            if li[i][j] == '*':\n",
    "                for ni in range(i + 1, n):\n",
    "                    if li[ni][j] == '.':\n",
    "                        li[ni][j], li[ni - 1][j] = li[ni - 1][j], li[ni][j]\n",
    "                    else:\n",
    "                        break\n",
    "\n",
    "    for v in li:\n",
    "        print(''.join(v))"
   ]
  },
  {
   "cell_type": "markdown",
   "metadata": {},
   "source": [
    "H"
   ]
  },
  {
   "cell_type": "code",
   "execution_count": 16,
   "metadata": {},
   "outputs": [
    {
     "name": "stdout",
     "output_type": "stream",
     "text": [
      "4 4\n",
      "3 1 3 1\n",
      "1073741825\n"
     ]
    }
   ],
   "source": [
    "import sys\n",
    "input = lambda: sys.stdin.readline().rstrip()\n",
    "\n",
    "for _ in range(int(input())):\n",
    "    n, k = map(int, input().split())\n",
    "    li = list(map(int, input().split()))\n",
    "\n",
    "    ones = [0] * 31\n",
    "    for v in li:\n",
    "        bv = bin(v)\n",
    "        cur = 0\n",
    "        for i in range(len(bv) - 1, 1, -1):\n",
    "            if bv[i] == '1':\n",
    "                ones[cur] += 1\n",
    "\n",
    "            cur += 1\n",
    "\n",
    "    zeros = [0] * 31\n",
    "    for i in range(31):\n",
    "        zeros[i] = n - ones[i]\n",
    "\n",
    "    r = 0\n",
    "    for i in range(30, -1, -1):\n",
    "        if k >= zeros[i]:\n",
    "            k -= zeros[i]\n",
    "            r += 2 ** i\n",
    "\n",
    "    print(r)"
   ]
  }
 ],
 "metadata": {
  "kernelspec": {
   "display_name": "Python 3",
   "language": "python",
   "name": "python3"
  },
  "language_info": {
   "codemirror_mode": {
    "name": "ipython",
    "version": 3
   },
   "file_extension": ".py",
   "mimetype": "text/x-python",
   "name": "python",
   "nbconvert_exporter": "python",
   "pygments_lexer": "ipython3",
   "version": "3.7.4"
  }
 },
 "nbformat": 4,
 "nbformat_minor": 4
}
