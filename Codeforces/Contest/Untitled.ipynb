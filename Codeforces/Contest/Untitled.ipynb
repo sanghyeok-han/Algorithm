{
 "cells": [
  {
   "cell_type": "markdown",
   "metadata": {},
   "source": [
    "A"
   ]
  },
  {
   "cell_type": "code",
   "execution_count": null,
   "metadata": {},
   "outputs": [],
   "source": [
    "가장 왼쪽의 R와 가장 오른쪽의 L만 확인함"
   ]
  },
  {
   "cell_type": "code",
   "execution_count": 3,
   "metadata": {},
   "outputs": [
    {
     "name": "stdout",
     "output_type": "stream",
     "text": [
      "7\n",
      "RRLRRRL\n",
      "0\n"
     ]
    }
   ],
   "source": [
    "import sys\n",
    "input = lambda: sys.stdin.readline().rstrip()\n",
    "\n",
    "for _ in range(int(input())):\n",
    "    n = int(input())\n",
    "    s = input()\n",
    "\n",
    "    rightest_l = -1\n",
    "    leftest_r = -1\n",
    "    for i in range(n):\n",
    "        if s[i] == 'L':\n",
    "            rightest_l = i\n",
    "        else:\n",
    "            if leftest_r == -1:\n",
    "                leftest_r = i\n",
    "\n",
    "    if leftest_r != -1 and rightest_l != -1 and leftest_r < rightest_l:\n",
    "        print(0)\n",
    "    else:\n",
    "        r = -1\n",
    "        for i in range(n - 1):\n",
    "            if s[i] == 'L' and s[i + 1] == 'R':\n",
    "                r = i + 1\n",
    "                break\n",
    "\n",
    "        print(r)"
   ]
  },
  {
   "cell_type": "markdown",
   "metadata": {},
   "source": [
    "B"
   ]
  },
  {
   "cell_type": "code",
   "execution_count": 61,
   "metadata": {},
   "outputs": [
    {
     "name": "stdout",
     "output_type": "stream",
     "text": [
      "5\n",
      "5\n",
      "YES\n",
      "-1 2 -1 2 -1\n",
      "7\n",
      "YES\n",
      "-2 3 -2 3 -2 3 -2\n",
      "9\n",
      "YES\n",
      "-3 4 -3 4 -3 4 -3 4 -3\n",
      "11\n",
      "YES\n",
      "-4 5 -4 5 -4 5 -4 5 -4 5 -4\n",
      "13\n",
      "YES\n",
      "-5 6 -5 6 -5 6 -5 6 -5 6 -5 6 -5\n"
     ]
    }
   ],
   "source": [
    "import io, os, sys\n",
    "# input = io.BytesIO(os.read(0,os.fstat(0).st_size)).readline\n",
    "\n",
    "for _ in range(int(input())):\n",
    "    n = int(input())\n",
    "\n",
    "    if n == 3:\n",
    "        print('NO')\n",
    "    elif n % 2 == 0:\n",
    "        print('YES')\n",
    "        print(*[-1, 1] * (n // 2))\n",
    "    else:\n",
    "        half = n // 2\n",
    "\n",
    "        result = [-(half - 1), half] * (n // 2)\n",
    "        result.append(-(half - 1))\n",
    "\n",
    "        print('YES')\n",
    "        print(*result)"
   ]
  },
  {
   "cell_type": "markdown",
   "metadata": {},
   "source": [
    "D"
   ]
  },
  {
   "cell_type": "code",
   "execution_count": null,
   "metadata": {},
   "outputs": [],
   "source": [
    "from collections import defaultdict as dd\n",
    "import io, os, sys\n",
    "input = io.BytesIO(os.read(0,os.fstat(0).st_size)).readline\n",
    "\n",
    "for _ in range(int(input())):\n",
    "    n = int(input())\n",
    "    a = list(map(int, input().split()))\n",
    "    b = list(map(int, input().split()))\n",
    "    m = int(input())\n",
    "    x = list(map(int, input().split()))\n",
    "\n",
    "    x_cs = dd(int)\n",
    "    for v in x:\n",
    "        x_cs[str(v)] += 1\n",
    "\n",
    "    stack = []\n",
    "    ip = True\n",
    "    for i in range(n):\n",
    "        if a[i] < b[i]:\n",
    "            ip = False\n",
    "            break\n",
    "\n",
    "        is_same = a[i] == b[i]\n",
    "\n",
    "        while stack and stack[-1] < b[i]:\n",
    "            fv = stack.pop()\n",
    "            x_cs[str(fv)] -= 1\n",
    "            if x_cs[str(fv)] == -1:\n",
    "                ip = False\n",
    "                break\n",
    "\n",
    "        if not is_same and not (stack and stack[-1] == b[i]):\n",
    "            stack.append(b[i])\n",
    "\n",
    "    while stack:\n",
    "        fv = stack.pop()\n",
    "        \n",
    "        x_cs[str(fv)] -= 1\n",
    "        if x_cs[str(fv)] == -1:\n",
    "            ip = False\n",
    "            break\n",
    "\n",
    "    if ip:\n",
    "        print('YES')\n",
    "    else:\n",
    "        print('NO')"
   ]
  },
  {
   "cell_type": "markdown",
   "metadata": {},
   "source": [
    "C"
   ]
  },
  {
   "cell_type": "code",
   "execution_count": 60,
   "metadata": {},
   "outputs": [
    {
     "name": "stdout",
     "output_type": "stream",
     "text": [
      "1\n",
      "10 4\n",
      "345875723 -48 384678321 -375635768 -35867853 -35863586 -358683842 -81725678 38576 -357865873\n",
      "3\n",
      "5\n"
     ]
    }
   ],
   "source": [
    "from collections import deque\n",
    "import io, os, sys\n",
    "# input = io.BytesIO(os.read(0,os.fstat(0).st_size)).readline\n",
    "\n",
    "for _ in range(int(input())):\n",
    "    n, m = map(int, input().split())\n",
    "    m -= 1\n",
    "\n",
    "    li = list(map(int, input().split()))\n",
    "\n",
    "    cumul = 0\n",
    "    cur_v = 0\n",
    "    prefix = [0] * n\n",
    "    for i in range(n):\n",
    "        cumul += li[i]\n",
    "        prefix[i] = cumul\n",
    "\n",
    "        if i == m:\n",
    "            cur_v = cumul\n",
    "\n",
    "    used_c = 0\n",
    "\n",
    "    cur_changed = 0\n",
    "    for i in range(m + 1, n):\n",
    "        prefix[i] += cur_changed\n",
    "\n",
    "        if prefix[i] < cur_v:\n",
    "            used_c += 1\n",
    "            cur_changed += -li[i] * 2\n",
    "\n",
    "    if m >= 1 and li[m] > 0:\n",
    "        used_c += 1\n",
    "        li[m] = -li[m]\n",
    "\n",
    "    print(used_c)\n",
    "        \n",
    "    cur_v = li[m]\n",
    "    for i in range(m - 1, -1, -1):\n",
    "        n_v = cur_v + li[i]\n",
    "\n",
    "        if n_v < li[i]:\n",
    "            used_c += 1\n",
    "            n_v = cur_v - li[i]\n",
    "\n",
    "        cur_v = n_v\n",
    "\n",
    "    print(used_c)"
   ]
  },
  {
   "cell_type": "code",
   "execution_count": null,
   "metadata": {},
   "outputs": [],
   "source": []
  }
 ],
 "metadata": {
  "kernelspec": {
   "display_name": "Python 3",
   "language": "python",
   "name": "python3"
  },
  "language_info": {
   "codemirror_mode": {
    "name": "ipython",
    "version": 3
   },
   "file_extension": ".py",
   "mimetype": "text/x-python",
   "name": "python",
   "nbconvert_exporter": "python",
   "pygments_lexer": "ipython3",
   "version": "3.7.4"
  }
 },
 "nbformat": 4,
 "nbformat_minor": 2
}
