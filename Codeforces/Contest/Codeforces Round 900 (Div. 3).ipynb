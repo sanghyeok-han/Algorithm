{
 "cells": [
  {
   "cell_type": "markdown",
   "metadata": {},
   "source": [
    "A"
   ]
  },
  {
   "cell_type": "code",
   "execution_count": null,
   "metadata": {},
   "outputs": [],
   "source": [
    "import io, os, sys\n",
    "input = io.BytesIO(os.read(0, os.fstat(0).st_size)).readline\n",
    "\n",
    "for _ in range(int(input())):\n",
    "    n, k = map(int, input().split())\n",
    "    A = list(map(int, input().split()))\n",
    "\n",
    "    if k in A:\n",
    "        print('YES')\n",
    "    else:\n",
    "        print('NO')"
   ]
  },
  {
   "cell_type": "markdown",
   "metadata": {},
   "source": [
    "B"
   ]
  },
  {
   "cell_type": "code",
   "execution_count": null,
   "metadata": {},
   "outputs": [],
   "source": [
    "(a0 + a1),  3 * a2"
   ]
  },
  {
   "cell_type": "code",
   "execution_count": null,
   "metadata": {},
   "outputs": [],
   "source": [
    "1 3 5 7 9 11"
   ]
  },
  {
   "cell_type": "code",
   "execution_count": 3,
   "metadata": {},
   "outputs": [
    {
     "name": "stdout",
     "output_type": "stream",
     "text": [
      "7\n",
      "1 3 5 7 9 11 13\n"
     ]
    }
   ],
   "source": [
    "import io, os, sys\n",
    "input = io.BytesIO(os.read(0, os.fstat(0).st_size)).readline\n",
    "\n",
    "for _ in range(int(input())):\n",
    "    n = int(input())\n",
    "\n",
    "    result = []\n",
    "    cur = 1\n",
    "    for _ in range(n):\n",
    "        result.append(cur)\n",
    "        cur += 2\n",
    "\n",
    "    print(*result)"
   ]
  },
  {
   "cell_type": "markdown",
   "metadata": {},
   "source": [
    "C"
   ]
  },
  {
   "cell_type": "code",
   "execution_count": 5,
   "metadata": {},
   "outputs": [
    {
     "name": "stdout",
     "output_type": "stream",
     "text": [
      "5 3 3\n",
      "NO\n"
     ]
    }
   ],
   "source": [
    "import io, os, sys\n",
    "input = io.BytesIO(os.read(0, os.fstat(0).st_size)).readline\n",
    "\n",
    "def get_sum(n):\n",
    "    return n * (n + 1) // 2\n",
    "\n",
    "for _ in range(int(input())):\n",
    "    n, k, x = map(int, input().split())\n",
    "\n",
    "    left = get_sum(k)\n",
    "    right = get_sum(n) - get_sum(n - k)\n",
    "\n",
    "    if left <= x <= right:\n",
    "        print('YES')\n",
    "    else:\n",
    "        print('NO')"
   ]
  },
  {
   "cell_type": "markdown",
   "metadata": {},
   "source": [
    "D"
   ]
  },
  {
   "cell_type": "code",
   "execution_count": 15,
   "metadata": {},
   "outputs": [
    {
     "name": "stdout",
     "output_type": "stream",
     "text": [
      "5 3\n",
      "abcde\n",
      "1 2 3\n",
      "1 2 5\n",
      "3\n",
      "1 2 3\n",
      "abedc\n"
     ]
    }
   ],
   "source": [
    "from bisect import bisect_left\n",
    "import sys\n",
    "input = lambda: sys.stdin.readline().rstrip()\n",
    "\n",
    "get_v = lambda x: int(x) - 1\n",
    "\n",
    "for _ in range(int(input())):\n",
    "    n, k = map(int, input().split())\n",
    "    s = input()\n",
    "    L = list(map(get_v, input().split()))\n",
    "    R = list(map(get_v, input().split()))\n",
    "\n",
    "    info = [s[L[i]:R[i] + 1] for i in range(k)]\n",
    "    rev_info = [v[::-1] for v in info]\n",
    "\n",
    "    rev_s = ''.join(rev_info)\n",
    "\n",
    "    deltas = [0] * (n + 1)\n",
    "\n",
    "    q = int(input())\n",
    "    qs = list(map(get_v, input().split()))\n",
    "\n",
    "    for x in qs:\n",
    "        index = bisect_left(R, x)\n",
    "\n",
    "        l = L[index]\n",
    "        r = R[index]\n",
    "\n",
    "        a = min(x, r + l - x)\n",
    "        b = max(x, r + l - x)\n",
    "\n",
    "        deltas[a] += 1\n",
    "        deltas[b + 1] -= 1\n",
    "\n",
    "    result = []\n",
    "    cur = 0\n",
    "    for i in range(n):\n",
    "        cur += deltas[i]\n",
    "\n",
    "        if cur % 2 == 0:\n",
    "            result.append(s[i])\n",
    "        else:\n",
    "            result.append(rev_s[i])\n",
    "\n",
    "    result = ''.join(result)\n",
    "\n",
    "    print(result)"
   ]
  },
  {
   "cell_type": "markdown",
   "metadata": {},
   "source": [
    "E"
   ]
  },
  {
   "cell_type": "code",
   "execution_count": 32,
   "metadata": {},
   "outputs": [
    {
     "name": "stdout",
     "output_type": "stream",
     "text": [
      "5\n",
      "15 14 17 42 34\n",
      "3\n",
      "1 7\n",
      "2\n",
      "2 15\n",
      "2\n",
      "4 5\n",
      "5\n"
     ]
    }
   ],
   "source": [
    "import io, os, sys\n",
    "input = io.BytesIO(os.read(0, os.fstat(0).st_size)).readline\n",
    "\n",
    "class SegmentTree:\n",
    "    def __init__(self, data, default=10**15, func=lambda a, b: max(a,b)):\n",
    "        \"\"\"initialize the segment tree with data\"\"\"\n",
    "        self._default = default\n",
    "        self._func = func\n",
    "        self._len = len(data)\n",
    "        self._size = _size = 1 << (self._len - 1).bit_length()\n",
    " \n",
    "        self.data = [default] * (2 * _size)\n",
    "        self.data[_size:_size + self._len] = data\n",
    "        for i in reversed(range(_size)):\n",
    "            self.data[i] = func(self.data[i + i], self.data[i + i + 1])\n",
    " \n",
    "    def __delitem__(self, idx):\n",
    "        self[idx] = self._default\n",
    " \n",
    "    def __getitem__(self, idx):\n",
    "        return self.data[idx + self._size]\n",
    " \n",
    "    def __setitem__(self, idx, value):\n",
    "        idx += self._size\n",
    "        self.data[idx] = value\n",
    "        idx >>= 1\n",
    "        while idx:\n",
    "            self.data[idx] = self._func(self.data[2 * idx], self.data[2 * idx + 1])\n",
    "            idx >>= 1\n",
    " \n",
    "    def __len__(self):\n",
    "        return self._len\n",
    " \n",
    "    def query(self, start, stop):\n",
    "        if start == stop:\n",
    "            return self.__getitem__(start)\n",
    "        stop += 1\n",
    "        start += self._size\n",
    "        stop += self._size\n",
    " \n",
    "        res = self._default\n",
    "        while start < stop:\n",
    "            if start & 1:\n",
    "                res = self._func(res, self.data[start])\n",
    "                start += 1\n",
    "            if stop & 1:\n",
    "                stop -= 1\n",
    "                res = self._func(res, self.data[stop])\n",
    "            start >>= 1\n",
    "            stop >>= 1\n",
    "        return res\n",
    " \n",
    "    def __repr__(self):\n",
    "        return \"SegmentTree({0})\".format(self.data)\n",
    "    \n",
    "func = lambda a, b: a & b\n",
    "\n",
    "for _ in range(int(input())):\n",
    "    n = int(input())\n",
    "    li = list(map(int, input().split()))\n",
    "\n",
    "    seg = SegmentTree(li, 2 ** 33 - 1, func=func)\n",
    "\n",
    "    q = int(input())\n",
    "\n",
    "    result = []\n",
    "    for _ in range(q):\n",
    "        l, x = map(int, input().split())\n",
    "        l -= 1\n",
    "\n",
    "        start = l\n",
    "        end = n - 1\n",
    "        r = -2\n",
    "        while start <= end:\n",
    "            mid = (start + end) // 2\n",
    "\n",
    "            v = seg.query(l, mid)\n",
    "\n",
    "            if v >= x:\n",
    "                r = mid\n",
    "                start = mid + 1\n",
    "            else:\n",
    "                end = mid - 1\n",
    "\n",
    "        result.append(r + 1)\n",
    "        \n",
    "    print(*result)"
   ]
  },
  {
   "cell_type": "markdown",
   "metadata": {},
   "source": [
    "F"
   ]
  },
  {
   "cell_type": "code",
   "execution_count": null,
   "metadata": {},
   "outputs": [],
   "source": [
    "import io, os, sys\n",
    "input = io.BytesIO(os.read(0, os.fstat(0).st_size)).readline\n",
    "\n",
    "max_num = int(1e6) + 5\n",
    "sp = [0] * (max_num + 1)\n",
    "primes = []\n",
    "for i in range(2, max_num + 1):\n",
    "    if sp[i] == 0:\n",
    "        sp[i] = i\n",
    "        primes.append(i)\n",
    "        \n",
    "    j = 0\n",
    "    while j < len(primes) and i * primes[j] <= max_num and primes[j] <= sp[i]:\n",
    "        sp[i * primes[j]] = primes[j]\n",
    "        j += 1\n",
    "\n",
    "def get_factos(num):\n",
    "    d = dict()\n",
    "    while num > 1:\n",
    "        to_add = str(sp[num])\n",
    "        d[to_add] = d.get(to_add, 0) + 1\n",
    "        \n",
    "        num //= sp[num]\n",
    "        \n",
    "    return d\n",
    "\n",
    "def get_divisor_c():\n",
    "    divisor_c = 1\n",
    "    for key in cur_d:\n",
    "        divisor_c *= (cur_d[key] + 1)\n",
    "        \n",
    "    return divisor_c\n",
    "\n",
    "for _ in range(int(input())):\n",
    "    n, q = map(int, input().split())\n",
    "\n",
    "    init_d = get_factos(n)\n",
    "\n",
    "    cur = n\n",
    "    cur_d = init_d.copy()\n",
    "    for _ in range(q):\n",
    "        qu = list(map(int, input().split()))\n",
    "\n",
    "        tp = qu[0]\n",
    "        if tp == 2:\n",
    "            cur = n\n",
    "            cur_d = init_d.copy()\n",
    "        elif tp == 1:\n",
    "            x = qu[1]\n",
    "            cur *= x\n",
    "\n",
    "            for key, value in get_factos(x).items():\n",
    "                cur_d[key] = cur_d.get(key, 0) + value\n",
    "\n",
    "            divisor_c = get_divisor_c()\n",
    "            if cur % divisor_c == 0:\n",
    "                print('YES')\n",
    "            else:\n",
    "                print('NO')"
   ]
  },
  {
   "cell_type": "markdown",
   "metadata": {},
   "source": [
    "G"
   ]
  },
  {
   "cell_type": "code",
   "execution_count": null,
   "metadata": {},
   "outputs": [],
   "source": []
  }
 ],
 "metadata": {
  "kernelspec": {
   "display_name": "Python 3",
   "language": "python",
   "name": "python3"
  },
  "language_info": {
   "codemirror_mode": {
    "name": "ipython",
    "version": 3
   },
   "file_extension": ".py",
   "mimetype": "text/x-python",
   "name": "python",
   "nbconvert_exporter": "python",
   "pygments_lexer": "ipython3",
   "version": "3.8.3"
  }
 },
 "nbformat": 4,
 "nbformat_minor": 4
}
