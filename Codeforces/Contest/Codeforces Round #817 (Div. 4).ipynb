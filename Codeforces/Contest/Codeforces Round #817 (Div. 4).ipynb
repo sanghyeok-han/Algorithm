{
 "cells": [
  {
   "cell_type": "markdown",
   "metadata": {},
   "source": [
    "A"
   ]
  },
  {
   "cell_type": "code",
   "execution_count": null,
   "metadata": {},
   "outputs": [],
   "source": [
    "from collections import Counter\n",
    "import sys\n",
    "input = lambda: sys.stdin.readline().rstrip()\n",
    "\n",
    "ct = Counter('Timur')\n",
    "\n",
    "for _ in range(int(input())):\n",
    "    n = int(input())\n",
    "    nct = Counter(input())\n",
    "\n",
    "    if ct == nct:\n",
    "        print('YES')\n",
    "    else:\n",
    "        print('NO')"
   ]
  },
  {
   "cell_type": "markdown",
   "metadata": {},
   "source": [
    "B"
   ]
  },
  {
   "cell_type": "code",
   "execution_count": null,
   "metadata": {},
   "outputs": [],
   "source": [
    "import sys\n",
    "input = lambda: sys.stdin.readline().rstrip()\n",
    "\n",
    "for _ in range(int(input())):\n",
    "    n = int(input())\n",
    "    a = input()\n",
    "    b = input()\n",
    "\n",
    "    ip = True\n",
    "    for i in range(n):\n",
    "        if a[i] == 'R':\n",
    "            if b[i] != 'R':\n",
    "                ip = False\n",
    "                break\n",
    "        else:\n",
    "            if b[i] == 'R':\n",
    "                ip = False\n",
    "                break\n",
    "                \n",
    "    if ip:\n",
    "        print('YES')\n",
    "    else:\n",
    "        print('NO')"
   ]
  },
  {
   "cell_type": "markdown",
   "metadata": {},
   "source": [
    "C"
   ]
  },
  {
   "cell_type": "code",
   "execution_count": 2,
   "metadata": {},
   "outputs": [
    {
     "name": "stdout",
     "output_type": "stream",
     "text": [
      "1\n",
      "1\n",
      "abc\n",
      "def\n",
      "abc\n",
      "1 3 1\n"
     ]
    }
   ],
   "source": [
    "from collections import defaultdict as dd\n",
    "import sys\n",
    "input = lambda: sys.stdin.readline().rstrip()\n",
    "\n",
    "for _ in range(int(input())):\n",
    "    n = int(input())\n",
    "    li = [input().split() for _ in range(3)]\n",
    "\n",
    "    ct = dd(int)\n",
    "    for num in range(3):\n",
    "        for i in range(n):\n",
    "            ct[li[num][i]] += 1\n",
    "\n",
    "    scs = [0] * 3\n",
    "    for num in range(3):\n",
    "        for i in range(n):\n",
    "            c = ct[li[num][i]]\n",
    "            if c == 1:\n",
    "                scs[num] += 3\n",
    "            elif c == 2:\n",
    "                scs[num] += 1\n",
    "\n",
    "    print(*scs)"
   ]
  },
  {
   "cell_type": "markdown",
   "metadata": {},
   "source": [
    "D"
   ]
  },
  {
   "cell_type": "code",
   "execution_count": 3,
   "metadata": {},
   "outputs": [
    {
     "name": "stdout",
     "output_type": "stream",
     "text": [
      "3\n",
      "LLR\n"
     ]
    }
   ],
   "source": [
    "import sys\n",
    "input = lambda: sys.stdin.readline().rstrip()\n",
    "\n",
    "for _ in range(int(input())):\n",
    "    n = int(input())\n",
    "    s = input()\n",
    "\n",
    "    can_improve = []\n",
    "    cur = 0\n",
    "    for i in range(n):\n",
    "        l = i\n",
    "        r = n - 1 - i\n",
    "\n",
    "        temp = 0\n",
    "        if s[i] == 'L':\n",
    "            temp = l\n",
    "        else:\n",
    "            temp = r\n",
    "\n",
    "        cur += temp\n",
    "        can_improve.append(max(l, r) - temp)\n",
    "\n",
    "    can_improve.sort()\n",
    "    r = []\n",
    "    for _ in range(n):\n",
    "        cur += can_improve.pop()\n",
    "        r.append(cur)\n",
    "\n",
    "    print(*r)"
   ]
  },
  {
   "cell_type": "markdown",
   "metadata": {},
   "source": [
    "E"
   ]
  },
  {
   "cell_type": "code",
   "execution_count": 14,
   "metadata": {},
   "outputs": [
    {
     "name": "stdout",
     "output_type": "stream",
     "text": [
      "2 1\n",
      "2 3\n",
      "3 2\n",
      "1 1 3 4\n",
      "6\n"
     ]
    }
   ],
   "source": [
    "import sys\n",
    "input = lambda: sys.stdin.readline().rstrip()\n",
    "\n",
    "for _ in range(int(input())):\n",
    "    n, q = map(int, input().split())\n",
    "    li = [list(map(int, input().split())) for _ in range(n)]\n",
    "    qus = [list(map(int, input().split())) for _ in range(q)]\n",
    "\n",
    "    svs = [[0] * 1001 for _ in range(1001)]\n",
    "    for h, w in li:\n",
    "        svs[h][w] += h * w\n",
    "\n",
    "    prefix = [[0] * 1002 for _ in range(1002)]\n",
    "    for i in range(1001):\n",
    "        cumul = 0\n",
    "        for j in range(1001):\n",
    "            cumul += svs[i][j]\n",
    "            prefix[i + 1][j + 1] = prefix[i][j + 1] + cumul\n",
    "\n",
    "    for hs, ws, hb, wb in qus:\n",
    "        hs += 1\n",
    "        ws += 1\n",
    "        hb -= 1\n",
    "        wb -= 1\n",
    "\n",
    "        if hs > hb or ws > wb:\n",
    "            print(0)\n",
    "        else:\n",
    "            r = prefix[hb + 1][wb + 1] - prefix[hs][wb + 1] - prefix[hb + 1][ws] + prefix[hs][ws]\n",
    "            print(r)"
   ]
  },
  {
   "cell_type": "markdown",
   "metadata": {},
   "source": [
    "F"
   ]
  },
  {
   "cell_type": "code",
   "execution_count": 26,
   "metadata": {},
   "outputs": [
    {
     "name": "stdout",
     "output_type": "stream",
     "text": [
      "1\n",
      "4 4\n",
      "**..\n",
      "*...\n",
      "..*.\n",
      ".**.\n",
      "YES\n"
     ]
    }
   ],
   "source": [
    "import sys\n",
    "# input = lambda: sys.stdin.readline().rstrip()\n",
    "\n",
    "def check(i, j):\n",
    "    for ni in range(i - 1, i + 3):\n",
    "        for nj in range(j - 1, j + 3):\n",
    "            if (ni, nj) in nex:\n",
    "                continue\n",
    "            if ni < 0 or ni >= n or nj < 0 or nj >= m:\n",
    "                continue\n",
    "            if li[ni][nj] == '*':\n",
    "                return False\n",
    "    return True\n",
    "\n",
    "for _ in range(int(input())):\n",
    "    n, m = map(int, input().split())\n",
    "    li = [input() for _ in range(n)]\n",
    "\n",
    "    checked = [[False] * m for _ in range(n)]\n",
    "    ip = True\n",
    "    for i in range(n - 1):\n",
    "        for j in range(m - 1):\n",
    "            if li[i][j] == '*' and li[i + 1][j] == '*' and li[i + 1][j + 1] == '*':\n",
    "                ex = {(i, j), (i + 1, j), (i + 1, j + 1)}\n",
    "                nex = ex.copy()\n",
    "                nex.add((i - 1, j + 2))\n",
    "                if check(i, j):\n",
    "                    for ni, nj in ex:\n",
    "                        checked[ni][nj] = True\n",
    "                else:\n",
    "                    ip = False\n",
    "                    break\n",
    "\n",
    "            if li[i][j] == '*' and li[i][j + 1] == '*' and li[i + 1][j + 1] == '*':\n",
    "                ex = {(i, j), (i, j + 1), (i + 1, j + 1)}\n",
    "                nex = ex.copy()\n",
    "                nex.add((i + 2, j - 1))\n",
    "                if check(i, j):\n",
    "                    for ni, nj in ex:\n",
    "                        checked[ni][nj] = True\n",
    "                else:\n",
    "                    ip = False\n",
    "                    break\n",
    "\n",
    "            if li[i][j + 1] == '*' and li[i + 1][j] == '*' and li[i + 1][j + 1] == '*':\n",
    "                ex = {(i, j + 1), (i + 1, j), (i + 1, j + 1)}\n",
    "                nex = ex.copy()\n",
    "                nex.add((i - 1, j - 1))\n",
    "                if check(i, j):\n",
    "                    for ni, nj in ex:\n",
    "                        checked[ni][nj] = True\n",
    "                else:\n",
    "                    ip = False\n",
    "                    break\n",
    "\n",
    "            if li[i][j] == '*' and li[i][j + 1] == '*' and li[i + 1][j] == '*':\n",
    "                ex = {(i, j), (i, j + 1), (i + 1, j)}\n",
    "                nex = ex.copy()\n",
    "                nex.add((i + 2, j + 2))\n",
    "                if check(i, j):\n",
    "                    for ni, nj in ex:\n",
    "                        checked[ni][nj] = True\n",
    "                else:\n",
    "                    ip = False\n",
    "                    break\n",
    "\n",
    "    if ip:\n",
    "        for i in range(n):\n",
    "            for j in range(m):\n",
    "                if li[i][j] == '*' and not checked[i][j]:\n",
    "                    ip = False\n",
    "                    break\n",
    "\n",
    "    if ip:\n",
    "        print('YES')\n",
    "    else:\n",
    "        print('NO')"
   ]
  },
  {
   "cell_type": "markdown",
   "metadata": {},
   "source": [
    "G"
   ]
  },
  {
   "cell_type": "code",
   "execution_count": 29,
   "metadata": {},
   "outputs": [
    {
     "data": {
      "text/plain": [
       "4"
      ]
     },
     "execution_count": 29,
     "metadata": {},
     "output_type": "execute_result"
    }
   ],
   "source": [
    "3 ^ 7"
   ]
  },
  {
   "cell_type": "code",
   "execution_count": 30,
   "metadata": {},
   "outputs": [
    {
     "data": {
      "text/plain": [
       "3"
      ]
     },
     "execution_count": 30,
     "metadata": {},
     "output_type": "execute_result"
    }
   ],
   "source": [
    "5 ^ 6"
   ]
  },
  {
   "cell_type": "code",
   "execution_count": 32,
   "metadata": {},
   "outputs": [
    {
     "data": {
      "text/plain": [
       "6"
      ]
     },
     "execution_count": 32,
     "metadata": {},
     "output_type": "execute_result"
    }
   ],
   "source": [
    "3 ^ 5"
   ]
  },
  {
   "cell_type": "code",
   "execution_count": 33,
   "metadata": {},
   "outputs": [
    {
     "data": {
      "text/plain": [
       "6"
      ]
     },
     "execution_count": 33,
     "metadata": {},
     "output_type": "execute_result"
    }
   ],
   "source": [
    "1 ^ 7"
   ]
  },
  {
   "cell_type": "code",
   "execution_count": 34,
   "metadata": {},
   "outputs": [
    {
     "data": {
      "text/plain": [
       "4"
      ]
     },
     "execution_count": 34,
     "metadata": {},
     "output_type": "execute_result"
    }
   ],
   "source": [
    "000 001 010 011 100 101 110 111\n",
    "0   1   2   3    4   5   6   7"
   ]
  },
  {
   "cell_type": "code",
   "execution_count": null,
   "metadata": {},
   "outputs": [],
   "source": [
    "001 100 101"
   ]
  },
  {
   "cell_type": "code",
   "execution_count": null,
   "metadata": {},
   "outputs": [],
   "source": [
    "    1\n",
    "    0\n",
    "    1\n",
    "    0\n",
    "    1\n",
    "    0\n",
    "    1\n",
    "    \n",
    "    1\n",
    "    0\n",
    "    1\n",
    "    0\n",
    "    1\n",
    "    0\n",
    "    1\n",
    "    "
   ]
  },
  {
   "cell_type": "code",
   "execution_count": 38,
   "metadata": {},
   "outputs": [
    {
     "name": "stdout",
     "output_type": "stream",
     "text": [
      "[2, 3, 5, 7, 11, 13, 17, 19, 23, 29, 31, 37, 41, 43, 47, 53, 59, 61, 67, 71, 73, 79, 83, 89, 97]\n"
     ]
    }
   ],
   "source": [
    "max_num = 100\n",
    "ip = [True] * (max_num + 1)\n",
    "ip[0] = ip[1] = False\n",
    "for mod in range(2, int(max_num ** 0.5) + 1):\n",
    "    if ip[mod]:\n",
    "        for v in range(mod * mod, max_num + 1, mod):\n",
    "            ip[v] = False\n",
    "            \n",
    "primes = [i for i, v in enumerate(ip) if v]\n",
    "\n",
    "print(primes)"
   ]
  },
  {
   "cell_type": "code",
   "execution_count": 41,
   "metadata": {},
   "outputs": [
    {
     "name": "stdout",
     "output_type": "stream",
     "text": [
      "[2, 3, 5, 7, 11, 13, 17, 19, 23, 29, 31, 37, 41, 43, 47, 53, 59, 61, 67, 71, 73, 79, 83, 89, 97]\n"
     ]
    }
   ],
   "source": [
    "print(primes[:29])"
   ]
  },
  {
   "cell_type": "code",
   "execution_count": 39,
   "metadata": {},
   "outputs": [
    {
     "data": {
      "text/plain": [
       "6469693230"
      ]
     },
     "execution_count": 39,
     "metadata": {},
     "output_type": "execute_result"
    }
   ],
   "source": [
    "\n",
    "2*3*5*7*11*13*17*19*23*29"
   ]
  },
  {
   "cell_type": "code",
   "execution_count": 85,
   "metadata": {},
   "outputs": [
    {
     "name": "stdout",
     "output_type": "stream",
     "text": [
      "0 32768 163840 65536 196608\n"
     ]
    }
   ],
   "source": [
    "from itertools import product\n",
    "import sys\n",
    "input = lambda: sys.stdin.readline().rstrip()\n",
    "\n",
    "def to_num(li):\n",
    "    w = 1\n",
    "    total = 0\n",
    "    for i in range(len(li)):\n",
    "        total += li[i] * w\n",
    "        w *= 2\n",
    "    return total\n",
    "\n",
    "cases = list(product(*[range(2)] * 17))\n",
    "cases.pop(0)\n",
    "\n",
    "for _ in range(int(input())):\n",
    "    n = int(input())\n",
    "\n",
    "    if n == 3:\n",
    "        print(2, 1, 3)\n",
    "    else:\n",
    "        half = n // 2\n",
    "\n",
    "        bits_odd = cases[:half]\n",
    "        bits_even = cases[:half]\n",
    "\n",
    "        bits_odd = [list(v) for v in bits_odd]\n",
    "        bits_even = [list(v) for v in bits_even]\n",
    "\n",
    "        if half % 2 == 0:\n",
    "            for i in range(half):\n",
    "                bits_odd[i].append(0)\n",
    "                bits_even[i].append(1)\n",
    "        else:\n",
    "            for i in range(half):\n",
    "                bits_odd[i].append(0)\n",
    "                bits_even[i].append(1)\n",
    "\n",
    "            bits_even[-1][-1] = 0\n",
    "\n",
    "            for i in range(half):\n",
    "                bits_odd[i].append(0)\n",
    "                bits_even[i].append(1)\n",
    "\n",
    "            bits_even[0][-1] = 0\n",
    "\n",
    "        result = []\n",
    "        if n % 2 == 1:\n",
    "            result.append(0)\n",
    "\n",
    "        for i in range(half * 2):\n",
    "            if i % 2 == 0:\n",
    "                num = to_num(bits_odd.pop())\n",
    "            else:\n",
    "                num = to_num(bits_even.pop())\n",
    "\n",
    "            result.append(num)\n",
    "\n",
    "        print(*result)"
   ]
  },
  {
   "cell_type": "code",
   "execution_count": 83,
   "metadata": {},
   "outputs": [
    {
     "data": {
      "text/plain": [
       "True"
      ]
     },
     "execution_count": 83,
     "metadata": {},
     "output_type": "execute_result"
    }
   ],
   "source": [
    "32768  ^ 65536  == 163840  ^ 196608"
   ]
  },
  {
   "cell_type": "code",
   "execution_count": 78,
   "metadata": {},
   "outputs": [
    {
     "data": {
      "text/plain": [
       "(67897944, 67897944)"
      ]
     },
     "execution_count": 78,
     "metadata": {},
     "output_type": "execute_result"
    }
   ],
   "source": [
    "id(bits_odd[0]), id(bits_even[0])"
   ]
  },
  {
   "cell_type": "code",
   "execution_count": 75,
   "metadata": {},
   "outputs": [],
   "source": [
    "bits_odd[0].append(2)"
   ]
  },
  {
   "cell_type": "code",
   "execution_count": 68,
   "metadata": {},
   "outputs": [
    {
     "data": {
      "text/plain": [
       "[[0, 0, 0, 0, 0, 0, 0, 0, 0, 0, 0, 0, 0, 0, 0, 0, 1],\n",
       " [0, 0, 0, 0, 0, 0, 0, 0, 0, 0, 0, 0, 0, 0, 0, 1, 0],\n",
       " [0, 0, 0, 0, 0, 0, 0, 0, 0, 0, 0, 0, 0, 0, 0, 1, 1],\n",
       " [0, 0, 0, 0, 0, 0, 0, 0, 0, 0, 0, 0, 0, 0, 1, 0, 0],\n",
       " [0, 0, 0, 0, 0, 0, 0, 0, 0, 0, 0, 0, 0, 0, 1, 0, 1],\n",
       " [0, 0, 0, 0, 0, 0, 0, 0, 0, 0, 0, 0, 0, 0, 1, 1, 0],\n",
       " [0, 0, 0, 0, 0, 0, 0, 0, 0, 0, 0, 0, 0, 0, 1, 1, 1],\n",
       " [0, 0, 0, 0, 0, 0, 0, 0, 0, 0, 0, 0, 0, 1, 0, 0, 0],\n",
       " [0, 0, 0, 0, 0, 0, 0, 0, 0, 0, 0, 0, 0, 1, 0, 0, 1],\n",
       " [0, 0, 0, 0, 0, 0, 0, 0, 0, 0, 0, 0, 0, 1, 0, 1, 0]]"
      ]
     },
     "execution_count": 68,
     "metadata": {},
     "output_type": "execute_result"
    }
   ],
   "source": [
    "294912 ^ 67174400  == "
   ]
  },
  {
   "cell_type": "code",
   "execution_count": 55,
   "metadata": {},
   "outputs": [
    {
     "data": {
      "text/plain": [
       "[[0, 0, 0, 0, 0, 0, 0, 0, 0, 0, 0, 0, 0, 0, 0, 0, 1, 0, 1],\n",
       " [0, 0, 0, 0, 0, 0, 0, 0, 0, 0, 0, 0, 0, 0, 0, 1, 0, 0, 1],\n",
       " [0, 0, 0, 0, 0, 0, 0, 0, 0, 0, 0, 0, 0, 0, 0, 1, 1, 0, 1]]"
      ]
     },
     "execution_count": 55,
     "metadata": {},
     "output_type": "execute_result"
    }
   ],
   "source": [
    "bits_odd"
   ]
  },
  {
   "cell_type": "code",
   "execution_count": 56,
   "metadata": {},
   "outputs": [
    {
     "data": {
      "text/plain": [
       "[]"
      ]
     },
     "execution_count": 56,
     "metadata": {},
     "output_type": "execute_result"
    }
   ],
   "source": [
    "bits_even"
   ]
  },
  {
   "cell_type": "code",
   "execution_count": 52,
   "metadata": {},
   "outputs": [
    {
     "data": {
      "text/plain": [
       "[[0, 0, 0, 0, 0, 0, 0, 0, 0, 0, 0, 0, 0, 0, 0, 0, 0],\n",
       " [0, 0, 0, 0, 0, 0, 0, 0, 0, 0, 0, 0, 0, 0, 0, 0, 1],\n",
       " [0, 0, 0, 0, 0, 0, 0, 0, 0, 0, 0, 0, 0, 0, 0, 1, 0],\n",
       " [0, 0, 0, 0, 0, 0, 0, 0, 0, 0, 0, 0, 0, 0, 0, 1, 1]]"
      ]
     },
     "execution_count": 52,
     "metadata": {},
     "output_type": "execute_result"
    }
   ],
   "source": [
    "bits_odd"
   ]
  },
  {
   "cell_type": "code",
   "execution_count": 50,
   "metadata": {},
   "outputs": [],
   "source": [
    "cases = list(product(*[range(2)] * 17))\n",
    "cases = [list(v) for v in cases]"
   ]
  },
  {
   "cell_type": "code",
   "execution_count": 49,
   "metadata": {},
   "outputs": [
    {
     "data": {
      "text/plain": [
       "[(0, 0, 0),\n",
       " (0, 0, 1),\n",
       " (0, 1, 0),\n",
       " (0, 1, 1),\n",
       " (1, 0, 0),\n",
       " (1, 0, 1),\n",
       " (1, 1, 0),\n",
       " (1, 1, 1)]"
      ]
     },
     "execution_count": 49,
     "metadata": {},
     "output_type": "execute_result"
    }
   ],
   "source": [
    "from itertools import product\n",
    "\n",
    "list(product(*[range(2)] * 17))"
   ]
  },
  {
   "cell_type": "code",
   "execution_count": 66,
   "metadata": {},
   "outputs": [],
   "source": [
    "cases = list(product(*[range(2)] * 17))\n",
    "cases.pop(0)\n",
    "cases = [list(v) for v in cases]"
   ]
  },
  {
   "cell_type": "code",
   "execution_count": 67,
   "metadata": {},
   "outputs": [
    {
     "name": "stdout",
     "output_type": "stream",
     "text": [
      "17\n",
      "17\n",
      "17\n",
      "17\n",
      "17\n",
      "17\n",
      "17\n",
      "17\n",
      "17\n",
      "17\n"
     ]
    }
   ],
   "source": [
    "for v in cases[:10]:\n",
    "    print(len(v))"
   ]
  }
 ],
 "metadata": {
  "kernelspec": {
   "display_name": "Python 3",
   "language": "python",
   "name": "python3"
  },
  "language_info": {
   "codemirror_mode": {
    "name": "ipython",
    "version": 3
   },
   "file_extension": ".py",
   "mimetype": "text/x-python",
   "name": "python",
   "nbconvert_exporter": "python",
   "pygments_lexer": "ipython3",
   "version": "3.7.4"
  }
 },
 "nbformat": 4,
 "nbformat_minor": 2
}
