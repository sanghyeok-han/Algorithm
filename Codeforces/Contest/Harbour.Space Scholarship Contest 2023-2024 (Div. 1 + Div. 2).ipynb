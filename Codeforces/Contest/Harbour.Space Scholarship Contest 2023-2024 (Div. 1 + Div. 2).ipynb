{
 "cells": [
  {
   "cell_type": "markdown",
   "metadata": {},
   "source": [
    "### A"
   ]
  },
  {
   "cell_type": "code",
   "execution_count": 6,
   "metadata": {},
   "outputs": [
    {
     "name": "stdout",
     "output_type": "stream",
     "text": [
      "100 200 4\n",
      "100 197 199 200\n"
     ]
    }
   ],
   "source": [
    "import io, os, sys\n",
    "input = io.BytesIO(os.read(0, os.fstat(0).st_size)).readline\n",
    "\n",
    "for _ in range(int(input())):\n",
    "    x, y, n = map(int, input().split())\n",
    "\n",
    "    li = [0] * n\n",
    "    li[0] = x\n",
    "    li[n - 1] = y\n",
    "\n",
    "    to_sub = 1\n",
    "    for i in range(n - 2, 0, -1):\n",
    "        li[i] = li[i + 1] - to_sub\n",
    "        to_sub += 1\n",
    "\n",
    "    if li[0] < li[1] and li[1] - li[0] > li[2] - li[1]:\n",
    "        print(*li)\n",
    "    else:\n",
    "        print(-1)"
   ]
  },
  {
   "cell_type": "markdown",
   "metadata": {},
   "source": [
    "### B"
   ]
  },
  {
   "cell_type": "code",
   "execution_count": null,
   "metadata": {},
   "outputs": [],
   "source": [
    "홀수 칸씩 뒤집을 수 있으면 의미 없음, 같은 패리티 인덱스끼리만 정렬 가능\n",
    "짝수 칸씩 뒤집을 수 있으면 전부 정렬 가능함"
   ]
  },
  {
   "cell_type": "code",
   "execution_count": 17,
   "metadata": {},
   "outputs": [
    {
     "name": "stdout",
     "output_type": "stream",
     "text": [
      "5 3\n",
      "abcde\n",
      "abcde\n"
     ]
    }
   ],
   "source": [
    "import sys\n",
    "input = lambda: sys.stdin.readline().rstrip()\n",
    "\n",
    "for _ in range(int(input())):\n",
    "    n, k = map(int, input().split())\n",
    "    s = input()\n",
    "\n",
    "    if k % 2 == 0:\n",
    "        print(''.join(sorted(s)))\n",
    "    else:\n",
    "        temp0 = []\n",
    "        temp1 = []\n",
    "        for i in range(n):\n",
    "            if i % 2 == 0:\n",
    "                temp0.append(s[i])\n",
    "            else:\n",
    "                temp1.append(s[i])\n",
    "\n",
    "        temp0.sort()\n",
    "        temp1.sort()\n",
    "\n",
    "        result = []\n",
    "        for i in range(n // 2):\n",
    "            result.append(temp0[i])\n",
    "            result.append(temp1[i])\n",
    "\n",
    "        if n % 2 == 1:\n",
    "            result.append(temp0[-1])\n",
    "\n",
    "        print(''.join(result))"
   ]
  },
  {
   "cell_type": "markdown",
   "metadata": {},
   "source": [
    "### C"
   ]
  },
  {
   "cell_type": "code",
   "execution_count": 25,
   "metadata": {},
   "outputs": [
    {
     "data": {
      "text/plain": [
       "2342334"
      ]
     },
     "execution_count": 25,
     "metadata": {},
     "output_type": "execute_result"
    }
   ],
   "source": [
    "2342335 - 1"
   ]
  },
  {
   "cell_type": "code",
   "execution_count": 27,
   "metadata": {},
   "outputs": [
    {
     "data": {
      "text/plain": [
       "1171167"
      ]
     },
     "execution_count": 27,
     "metadata": {},
     "output_type": "execute_result"
    }
   ],
   "source": [
    "2342334 // 2"
   ]
  },
  {
   "cell_type": "code",
   "execution_count": 60,
   "metadata": {},
   "outputs": [
    {
     "name": "stdout",
     "output_type": "stream",
     "text": [
      "123\n",
      "12\n",
      "123 122 120 60 30 28 14 12 6 4 2 1\n"
     ]
    }
   ],
   "source": [
    "import io, os, sys\n",
    "# input = io.BytesIO(os.read(0, os.fstat(0).st_size)).readline\n",
    "\n",
    "x = int(input())\n",
    "\n",
    "result = [x]\n",
    "while x > 1:\n",
    "    if x % 2 == 1:\n",
    "        x -= 1\n",
    "        result.append(x)\n",
    "    else:\n",
    "        x1 = x // 2\n",
    "        x2 = x - 2\n",
    "        \n",
    "        if x1 == 1 or x2 == 1:\n",
    "            x = 1\n",
    "            result.append(x)\n",
    "        elif x1 % 2 == 1:\n",
    "            result.append(x2)\n",
    "            x = x2\n",
    "        else:\n",
    "            result.append(x1)\n",
    "            x = x1\n",
    "\n",
    "print(len(result))\n",
    "print(*result)"
   ]
  },
  {
   "cell_type": "markdown",
   "metadata": {},
   "source": [
    "### D"
   ]
  },
  {
   "cell_type": "code",
   "execution_count": 94,
   "metadata": {},
   "outputs": [
    {
     "name": "stdout",
     "output_type": "stream",
     "text": [
      "[0, 0, 0, 1, 1, 0, 0, 1, 0, 0]\n",
      "[0, 0, 1, 0, 0, 1, 1, 1, 1, 0]\n",
      "[0, 1, 0, 0, 0, 1, 0, 1, 1, 1]\n",
      "[1, 0, 0, 0, 1, 1, 1, 0, 1, 1]\n",
      "[0, 0, 0, 1, 1, 1, 1, 1, 0, 1]\n",
      "[0, 0, 1, 1, 1, 1, 1, 1, 1, 0]\n",
      "[0, 1, 1, 1, 1, 1, 1, 1, 1, 1]\n",
      "[1, 1, 1, 1, 1, 1, 1, 1, 1, 1]\n",
      "[1, 1, 1, 1, 1, 1, 1, 1, 1, 1]\n",
      "[1, 1, 1, 1, 1, 1, 1, 1, 1, 1]\n"
     ]
    }
   ],
   "source": [
    "def change(i, j):\n",
    "    li[i][j] ^= 1\n",
    "    for x in range(n):\n",
    "        for y in range(n):\n",
    "            if x > i and x - i >= abs(y - j):\n",
    "                li[x][y] ^= 1\n",
    "\n",
    "# n = int(input())\n",
    "\n",
    "n = 10\n",
    "li = [[0] * n for _ in range(n)]\n",
    "\n",
    "change(0, 3)\n",
    "change(0, 4)\n",
    "# change(0, 5)\n",
    "change(0, 7)\n",
    "\n",
    "for v in li:\n",
    "    print(v)"
   ]
  },
  {
   "cell_type": "code",
   "execution_count": 103,
   "metadata": {},
   "outputs": [
    {
     "name": "stdout",
     "output_type": "stream",
     "text": [
      "3\n",
      "100\n",
      "110\n",
      "110\n",
      "2\n"
     ]
    }
   ],
   "source": [
    "import sys\n",
    "input = lambda: sys.stdin.readline().rstrip()\n",
    "\n",
    "for _ in range(int(input())):\n",
    "    n = int(input())\n",
    "    li = [list(map(int, input())) for _ in range(n)]\n",
    "\n",
    "    c = 0\n",
    "    starts = set()\n",
    "    ends = set()\n",
    "    for i in range(n):\n",
    "        n_starts = set()\n",
    "        zero_c = 0\n",
    "        for v in starts:\n",
    "            if v - 1 <= 0:\n",
    "                zero_c += 1\n",
    "            else:\n",
    "                n_starts.add(v - 1)\n",
    "\n",
    "        n_ends = set()\n",
    "        n_minus_1_c = 0\n",
    "        for v in ends:\n",
    "            if v + 1 >= n - 1:\n",
    "                n_minus_1_c += 1\n",
    "            else:\n",
    "                n_ends.add(v + 1)\n",
    "\n",
    "        if zero_c % 2 == 1:\n",
    "            n_starts.add(0) \n",
    "        if n_minus_1_c % 2 == 1:\n",
    "            n_ends.add(n - 1)\n",
    "\n",
    "        starts = n_starts\n",
    "        ends = n_ends\n",
    "\n",
    "        deltas = [0] * (n + 1)\n",
    "        for v in starts:\n",
    "            deltas[v] = 1\n",
    "\n",
    "        for v in ends:\n",
    "            deltas[v + 1] -= 1\n",
    "\n",
    "        changes = [0] * n\n",
    "        cur = 0\n",
    "        for j in range(n):\n",
    "            cur += deltas[j]\n",
    "            changes[j] = cur % 2\n",
    "\n",
    "        for j in range(n):\n",
    "            if changes[j] == 1:\n",
    "                li[i][j] ^= 1\n",
    "\n",
    "            if li[i][j] == 1:\n",
    "                c += 1\n",
    "                if j in starts:\n",
    "                    starts.discard(j)\n",
    "                else:\n",
    "                    starts.add(j)\n",
    "\n",
    "                if j in ends:\n",
    "                    ends.discard(j)\n",
    "                else:\n",
    "                    ends.add(j)\n",
    "\n",
    "    print(c)"
   ]
  },
  {
   "cell_type": "markdown",
   "metadata": {},
   "source": [
    "### E"
   ]
  },
  {
   "cell_type": "code",
   "execution_count": 104,
   "metadata": {},
   "outputs": [
    {
     "data": {
      "text/plain": [
       "('0b10', '0b11')"
      ]
     },
     "execution_count": 104,
     "metadata": {},
     "output_type": "execute_result"
    }
   ],
   "source": [
    "bin(2), bin(3)"
   ]
  },
  {
   "cell_type": "code",
   "execution_count": null,
   "metadata": {},
   "outputs": [],
   "source": [
    "10 10   2\n",
    "10 11   3\n",
    "11 10   2    \n",
    "11 11   3"
   ]
  },
  {
   "cell_type": "code",
   "execution_count": 105,
   "metadata": {},
   "outputs": [
    {
     "data": {
      "text/plain": [
       "('0b1001', '0b110')"
      ]
     },
     "execution_count": 105,
     "metadata": {},
     "output_type": "execute_result"
    }
   ],
   "source": [
    "bin(9), bin(6)\n",
    "\n",
    "\n",
    "1001\n",
    "0110\n",
    "\n",
    "1111"
   ]
  },
  {
   "cell_type": "code",
   "execution_count": null,
   "metadata": {},
   "outputs": [],
   "source": [
    "1 1 9 9   3 s\n",
    "1 2 9 9   3\n",
    "1 3 9 6   2\n",
    "2 1 9 9   3\n",
    "2 2 9 9   3 s\n",
    "2 3 9 6   2\n",
    "3 1 6 9   1\n",
    "3 2 6 9   1\n",
    "3 3 6 6   3 s"
   ]
  },
  {
   "cell_type": "code",
   "execution_count": 135,
   "metadata": {},
   "outputs": [
    {
     "data": {
      "text/plain": [
       "('0b1001', '0b110')"
      ]
     },
     "execution_count": 135,
     "metadata": {},
     "output_type": "execute_result"
    }
   ],
   "source": [
    "bin(9), bin(6)"
   ]
  },
  {
   "cell_type": "code",
   "execution_count": 119,
   "metadata": {},
   "outputs": [
    {
     "data": {
      "text/plain": [
       "(21, 9)"
      ]
     },
     "execution_count": 119,
     "metadata": {},
     "output_type": "execute_result"
    }
   ],
   "source": [
    "(3+3+2+3+3+2+1+1+3), 9"
   ]
  },
  {
   "cell_type": "code",
   "execution_count": null,
   "metadata": {},
   "outputs": [],
   "source": [
    "17 / 9 mod 998244353"
   ]
  },
  {
   "cell_type": "code",
   "execution_count": 120,
   "metadata": {},
   "outputs": [
    {
     "name": "stdout",
     "output_type": "stream",
     "text": [
      "21\n"
     ]
    }
   ],
   "source": [
    "mod = 998244353\n",
    "\n",
    "\n",
    "for i in range(1, 50):\n",
    "    if i * pow(9, mod - 2, mod) % mod == 332748120:\n",
    "        print(i)\n",
    "        break"
   ]
  },
  {
   "cell_type": "code",
   "execution_count": 142,
   "metadata": {},
   "outputs": [
    {
     "name": "stdout",
     "output_type": "stream",
     "text": [
      "3\n",
      "9 9 6\n",
      "9\n",
      "3 0\n",
      "3 0\n",
      "3 0\n",
      "3 0\n",
      "3 0\n",
      "3 0\n",
      "3 0\n",
      "3 0\n",
      "3 0\n",
      "3 0\n",
      "3 0\n",
      "3 0\n",
      "3 0\n",
      "3 0\n",
      "3 0\n",
      "3 0\n",
      "3 0\n",
      "3 0\n",
      "3 0\n",
      "3 0\n",
      "3 0\n",
      "3 0\n",
      "3 0\n",
      "3 0\n",
      "3 0\n",
      "3 0\n",
      "3 0\n",
      "1 2\n",
      "0 1\n",
      "0 1\n",
      "1 0\n",
      "2 0\n",
      "2 0\n",
      "0 2\n"
     ]
    },
    {
     "data": {
      "text/plain": [
       "(15, 9)"
      ]
     },
     "execution_count": 142,
     "metadata": {},
     "output_type": "execute_result"
    }
   ],
   "source": [
    "def to_bli(v):\n",
    "    bli = [0] * 31\n",
    "    \n",
    "    bv = bin(v)\n",
    "    cur = 0\n",
    "    for i in range(len(bv) - 1, 1, -1):\n",
    "        if bv[i] == '1':\n",
    "            bli[cur] = 1\n",
    "        cur += 1\n",
    "        \n",
    "    return bli\n",
    "\n",
    "def recur(blis, cur_i, w):\n",
    "    global r\n",
    "    \n",
    "    left = []\n",
    "    right = []\n",
    "    \n",
    "    for bli in blis:\n",
    "        if bli[cur_i]:\n",
    "            right.append(bli)\n",
    "        else:\n",
    "            left.append(bli)\n",
    "            \n",
    "    print(len(left), len(right))\n",
    "    r += len(left) * len(right) * (w + (w + 1))\n",
    "    if cur_i - 1 >= 0:\n",
    "        if left:\n",
    "            recur(left, cur_i - 1, w)\n",
    "        if right:\n",
    "            recur(right, cur_i - 1, w + 2)\n",
    "\n",
    "n = int(input())\n",
    "li = list(map(int, input().split()))\n",
    "\n",
    "blis = [to_bli(v) for v in li]\n",
    "\n",
    "r = n\n",
    "for i in range(n):\n",
    "    for j in range(31):\n",
    "        if blis[i][j] == 1:\n",
    "            r += 1\n",
    "\n",
    "print(r)\n",
    "            \n",
    "recur(blis, 30, 1)\n",
    "\n",
    "r, n * n"
   ]
  },
  {
   "cell_type": "code",
   "execution_count": null,
   "metadata": {},
   "outputs": [],
   "source": [
    "n ** n"
   ]
  },
  {
   "cell_type": "code",
   "execution_count": null,
   "metadata": {},
   "outputs": [],
   "source": [
    "pow(n, )"
   ]
  },
  {
   "cell_type": "code",
   "execution_count": 122,
   "metadata": {},
   "outputs": [
    {
     "data": {
      "text/plain": [
       "'0b1000'"
      ]
     },
     "execution_count": 122,
     "metadata": {},
     "output_type": "execute_result"
    }
   ],
   "source": [
    "bin(8)"
   ]
  },
  {
   "cell_type": "code",
   "execution_count": null,
   "metadata": {},
   "outputs": [],
   "source": [
    "bli = [0] * n"
   ]
  }
 ],
 "metadata": {
  "kernelspec": {
   "display_name": "Python 3",
   "language": "python",
   "name": "python3"
  },
  "language_info": {
   "codemirror_mode": {
    "name": "ipython",
    "version": 3
   },
   "file_extension": ".py",
   "mimetype": "text/x-python",
   "name": "python",
   "nbconvert_exporter": "python",
   "pygments_lexer": "ipython3",
   "version": "3.8.3"
  }
 },
 "nbformat": 4,
 "nbformat_minor": 4
}
