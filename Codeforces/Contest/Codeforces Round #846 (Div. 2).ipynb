{
 "cells": [
  {
   "cell_type": "markdown",
   "metadata": {},
   "source": [
    "A"
   ]
  },
  {
   "cell_type": "code",
   "execution_count": null,
   "metadata": {},
   "outputs": [],
   "source": [
    "홀 홀 홀 = 홀\n",
    "홀 홀 짝 = 짝\n",
    "\n",
    "홀 짝 짝 = 짝"
   ]
  },
  {
   "cell_type": "code",
   "execution_count": 2,
   "metadata": {},
   "outputs": [
    {
     "name": "stdout",
     "output_type": "stream",
     "text": [
      "3\n",
      "1 1 1\n",
      "YES\n",
      "1 2 3\n"
     ]
    }
   ],
   "source": [
    "import io, os, sys\n",
    "input = io.BytesIO(os.read(0, os.fstat(0).st_size)).readline\n",
    "\n",
    "for _ in range(int(input())):\n",
    "    n = int(input())\n",
    "    li = list(map(int, input().split()))\n",
    "\n",
    "    evens = []\n",
    "    odds = []\n",
    "    for i in range(n):\n",
    "        if li[i] % 2 == 0:\n",
    "            evens.append(i + 1)\n",
    "        else:\n",
    "            odds.append(i + 1)\n",
    "\n",
    "    if len(odds) >= 3:\n",
    "        print('YES')\n",
    "        print(*odds[:3])\n",
    "    elif len(odds) >= 1 and len(evens) >= 2:\n",
    "        print('YES')\n",
    "        r = [odds.pop(), evens.pop(), evens.pop()]\n",
    "        print(*r)\n",
    "    else:\n",
    "        print('NO')"
   ]
  },
  {
   "cell_type": "markdown",
   "metadata": {},
   "source": [
    "B"
   ]
  },
  {
   "cell_type": "code",
   "execution_count": 7,
   "metadata": {},
   "outputs": [
    {
     "name": "stdout",
     "output_type": "stream",
     "text": [
      "6\n",
      "1 2 1 1 1 3\n",
      "3\n"
     ]
    }
   ],
   "source": [
    "from math import gcd\n",
    "import io, os, sys\n",
    "input = io.BytesIO(os.read(0, os.fstat(0).st_size)).readline\n",
    "\n",
    "for _ in range(int(input())):\n",
    "    n = int(input())\n",
    "    li = list(map(int, input().split()))\n",
    "\n",
    "    prefix = [0] * n\n",
    "    cumul = 0\n",
    "    for i in range(n):\n",
    "        cumul += li[i]\n",
    "        prefix[i] = cumul\n",
    "\n",
    "    sv = prefix[-1]\n",
    "    max_g = 1\n",
    "    for i in range(n - 1):\n",
    "        a = prefix[i]\n",
    "        b = sv - a\n",
    "\n",
    "        g = gcd(a, b)\n",
    "\n",
    "        max_g = max(max_g, g)\n",
    "\n",
    "    print(max_g)"
   ]
  },
  {
   "cell_type": "markdown",
   "metadata": {},
   "source": [
    "C"
   ]
  },
  {
   "cell_type": "code",
   "execution_count": null,
   "metadata": {},
   "outputs": [],
   "source": [
    "손님들의 수, 테이블의 수\n",
    "\n",
    "전체 테이블의 용량 >= 전체 손님의 수"
   ]
  },
  {
   "cell_type": "code",
   "execution_count": null,
   "metadata": {},
   "outputs": [],
   "source": [
    "1 1 2 2 3 3 3\n",
    "\n",
    "2 2 3 5\n",
    "3 4 5"
   ]
  },
  {
   "cell_type": "code",
   "execution_count": null,
   "metadata": {},
   "outputs": [],
   "source": [
    "1 1 1 2 2 2 2 2 2 3 3 3 3 3 3 4 4 4\n",
    "2 4 4 8 8 10 100\n",
    "\n",
    "1 1 3 3 5 5 9 9\n",
    "1 1 4 4 10 10"
   ]
  },
  {
   "cell_type": "code",
   "execution_count": null,
   "metadata": {},
   "outputs": [],
   "source": [
    "1을 뺐을 때 cnt가 1 줄어들면 깔끔하게 답임\n",
    "cnt가 그대로면 해당 비트는 1이 아니었음\n"
   ]
  },
  {
   "cell_type": "code",
   "execution_count": null,
   "metadata": {},
   "outputs": [],
   "source": [
    "import sys\n",
    "input = lambda: sys.stdin.readline().rstrip()\n",
    "\n",
    "for _ in range(int(input())):\n",
    "    init_cnt = int(input())\n",
    "\n",
    "    result = 0\n",
    "    cur = 1\n",
    "\n",
    "    cnt = init_cnt\n",
    "    for _ in range(init_cnt):\n",
    "        print('-', cur)\n",
    "        sys.stdout.flush()\n",
    "\n",
    "        n_cnt = int(input())\n",
    "\n",
    "        if cnt > n_cnt:\n",
    "            result += cur\n",
    "            cur *= 2\n",
    "        else:\n",
    "            diff = n_cnt - cnt\n",
    "\n",
    "            loc_1 = cur * (2 ** (diff + 1))\n",
    "            result += loc_1\n",
    "            cur = loc_1 * 2\n",
    "\n",
    "        cnt = n_cnt\n",
    "\n",
    "    print(\"!\", result)\n",
    "    sys.stdout.flush()"
   ]
  },
  {
   "cell_type": "code",
   "execution_count": 24,
   "metadata": {},
   "outputs": [
    {
     "name": "stdout",
     "output_type": "stream",
     "text": [
      "- 1\n",
      "- 4\n",
      "! 6\n"
     ]
    }
   ],
   "source": [
    "### 확인용\n",
    "\n",
    "get_c1 = lambda x: bin(x).count('1')\n",
    "\n",
    "\n",
    "init_cnt = get_c1(n)\n",
    "\n",
    "result = 0\n",
    "cur = 1\n",
    "\n",
    "cnt = init_cnt\n",
    "for _ in range(init_cnt):\n",
    "    print('-', cur)\n",
    "    \n",
    "    n -= cur\n",
    "    n_cnt = get_c1(n)\n",
    "    \n",
    "    if cnt > n_cnt:\n",
    "        result += cur\n",
    "        cur *= 2\n",
    "    else:\n",
    "        diff = n_cnt - cnt\n",
    "        \n",
    "        loc_1 = cur * (2 ** (diff + 1))\n",
    "        result += loc_1\n",
    "        cur = loc_1 * 2\n",
    "        \n",
    "    cnt = n_cnt\n",
    "        \n",
    "print(\"!\", result)"
   ]
  },
  {
   "cell_type": "markdown",
   "metadata": {},
   "source": [
    "F"
   ]
  },
  {
   "cell_type": "code",
   "execution_count": null,
   "metadata": {},
   "outputs": [],
   "source": [
    "여러 친구들 중 3명을 골라서 초대할 수 있는데 min와 max가 서로소인 경우의 수는 얼마인가?"
   ]
  },
  {
   "cell_type": "code",
   "execution_count": null,
   "metadata": {},
   "outputs": [],
   "source": [
    "1 2 3 4 5 6 7 8"
   ]
  },
  {
   "cell_type": "code",
   "execution_count": 26,
   "metadata": {},
   "outputs": [
    {
     "data": {
      "text/plain": [
       "25997"
      ]
     },
     "execution_count": 26,
     "metadata": {},
     "output_type": "execute_result"
    }
   ],
   "source": [
    "max_num = 300001\n",
    "ip = [True] * (max_num + 1)\n",
    "ip[0] = ip[1] = False\n",
    "for mod1 in range(2, int((max_num + 1) ** 0.5) + 1):\n",
    "    if ip[mod1]:\n",
    "        for v in range(mod1 * mod1, max_num + 1, mod1):\n",
    "            ip[v] = False\n",
    "            \n",
    "primes = [i for i, v in enumerate(ip) if v]\n",
    "\n",
    "len(primes)"
   ]
  },
  {
   "cell_type": "code",
   "execution_count": 28,
   "metadata": {},
   "outputs": [
    {
     "data": {
      "text/plain": [
       "[2, 3, 5, 7, 11, 13, 17, 19, 23, 29]"
      ]
     },
     "execution_count": 28,
     "metadata": {},
     "output_type": "execute_result"
    }
   ],
   "source": [
    "primes[:10]"
   ]
  },
  {
   "cell_type": "code",
   "execution_count": 30,
   "metadata": {},
   "outputs": [
    {
     "data": {
      "text/plain": [
       "30030"
      ]
     },
     "execution_count": 30,
     "metadata": {},
     "output_type": "execute_result"
    }
   ],
   "source": [
    "2*3*5*7*11*13"
   ]
  },
  {
   "cell_type": "code",
   "execution_count": 31,
   "metadata": {},
   "outputs": [
    {
     "data": {
      "text/plain": [
       "720"
      ]
     },
     "execution_count": 31,
     "metadata": {},
     "output_type": "execute_result"
    }
   ],
   "source": [
    "6*5*4*3*2*1"
   ]
  },
  {
   "cell_type": "code",
   "execution_count": 32,
   "metadata": {},
   "outputs": [
    {
     "data": {
      "text/plain": [
       "216000000"
      ]
     },
     "execution_count": 32,
     "metadata": {},
     "output_type": "execute_result"
    }
   ],
   "source": [
    "720 * 300000"
   ]
  },
  {
   "cell_type": "code",
   "execution_count": 34,
   "metadata": {},
   "outputs": [
    {
     "data": {
      "text/plain": [
       "36000000"
      ]
     },
     "execution_count": 34,
     "metadata": {},
     "output_type": "execute_result"
    }
   ],
   "source": [
    "5*4*3*2*1 * 300000"
   ]
  },
  {
   "cell_type": "code",
   "execution_count": null,
   "metadata": {},
   "outputs": [],
   "source": [
    "모든 i에 대해 a[i]의 소인수가 2, 5, 7이라면\n",
    "2: [i], 5: [i], (2, 5): [i], (2, 7): [i], (2, 5, 7): [i]와 같이 추가함\n",
    "                    \n",
    "그 후 포함배제를 이용해서 소인수가 1개일 때의 합 - 2개일 때의 합...을 함\n",
    "\n",
    "전체의 경우의 수에서 해당 수를 뺌\n",
    "\n",
    "각각의 소인수 조합별 경우의 수를 구하는 방법:\n",
    "인덱스가 1, 5, 10라면:\n",
    "    "
   ]
  },
  {
   "cell_type": "code",
   "execution_count": null,
   "metadata": {},
   "outputs": [],
   "source": [
    "12 3\n",
    "1 1 1 1 1 2 2 2 2 2 2 2\n",
    "3 4 5"
   ]
  },
  {
   "cell_type": "code",
   "execution_count": null,
   "metadata": {},
   "outputs": [],
   "source": [
    "5 7"
   ]
  }
 ],
 "metadata": {
  "kernelspec": {
   "display_name": "Python 3",
   "language": "python",
   "name": "python3"
  },
  "language_info": {
   "codemirror_mode": {
    "name": "ipython",
    "version": 3
   },
   "file_extension": ".py",
   "mimetype": "text/x-python",
   "name": "python",
   "nbconvert_exporter": "python",
   "pygments_lexer": "ipython3",
   "version": "3.7.4"
  }
 },
 "nbformat": 4,
 "nbformat_minor": 2
}
