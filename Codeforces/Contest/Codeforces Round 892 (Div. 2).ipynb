{
 "cells": [
  {
   "cell_type": "markdown",
   "metadata": {},
   "source": [
    "### A"
   ]
  },
  {
   "cell_type": "code",
   "execution_count": 11,
   "metadata": {},
   "outputs": [
    {
     "name": "stdout",
     "output_type": "stream",
     "text": [
      "3\n",
      "3\n",
      "2 2 2\n",
      "-1\n",
      "3\n",
      "2 2 3\n",
      "2 1\n",
      "2 2\n",
      "3\n",
      "3\n",
      "2 3 3\n",
      "1 2\n",
      "2\n",
      "3 3\n"
     ]
    }
   ],
   "source": [
    "import io, os, sys\n",
    "input = io.BytesIO(os.read(0, os.fstat(0).st_size)).readline\n",
    "\n",
    "for _ in range(int(input())):\n",
    "    n = int(input())\n",
    "    A = sorted(map(int, input().split()))\n",
    "\n",
    "    B = []\n",
    "    C = []\n",
    "    \n",
    "    max_v = A[-1]\n",
    "    while A and A[-1] == max_v:\n",
    "        C.append(A.pop())\n",
    "        \n",
    "    if not A:\n",
    "        print(-1)\n",
    "    else:\n",
    "        B = A\n",
    "        \n",
    "        print(len(B), len(C))\n",
    "        print(*B)\n",
    "        print(*C)"
   ]
  },
  {
   "cell_type": "markdown",
   "metadata": {},
   "source": [
    "### B"
   ]
  },
  {
   "cell_type": "code",
   "execution_count": 15,
   "metadata": {},
   "outputs": [
    {
     "name": "stdout",
     "output_type": "stream",
     "text": [
      "3\n",
      "4\n",
      "1001 7 1007 5\n",
      "3\n",
      "8 11 6\n",
      "2\n",
      "2 9\n",
      "19\n"
     ]
    }
   ],
   "source": [
    "import io, os, sys\n",
    "input = io.BytesIO(os.read(0, os.fstat(0).st_size)).readline\n",
    "\n",
    "inf = float('inf')\n",
    "\n",
    "for _ in range(int(input())):\n",
    "    n = int(input())\n",
    "    seconds = []\n",
    "    min_first = inf\n",
    "    for _ in range(n):\n",
    "        input()\n",
    "        a1, a2, *r = sorted(map(int, input().split()))\n",
    "\n",
    "        min_first = min(min_first, a1)\n",
    "        seconds.append(a2)\n",
    "\n",
    "    seconds.sort()\n",
    "    result = min_first + sum(seconds[1:])\n",
    "\n",
    "    print(result)"
   ]
  },
  {
   "cell_type": "markdown",
   "metadata": {},
   "source": [
    "### C"
   ]
  },
  {
   "cell_type": "code",
   "execution_count": 24,
   "metadata": {},
   "outputs": [
    {
     "name": "stdout",
     "output_type": "stream",
     "text": [
      "10\n",
      "294\n"
     ]
    }
   ],
   "source": [
    "n = int(input())\n",
    "\n",
    "P = list(range(1, n + 1))\n",
    "P[-1], P[-2] = P[-2], P[-1]\n",
    "\n",
    "result = 0\n",
    "for i in range(n - 1):\n",
    "    result += P[i] * (i + 1)\n",
    "    \n",
    "print(result)"
   ]
  },
  {
   "cell_type": "code",
   "execution_count": 57,
   "metadata": {},
   "outputs": [
    {
     "name": "stdout",
     "output_type": "stream",
     "text": [
      "5\n",
      "2\n",
      "2\n",
      "4\n",
      "17\n",
      "3\n",
      "7\n",
      "10\n",
      "303\n",
      "20\n",
      "2529\n"
     ]
    }
   ],
   "source": [
    "from itertools import permutations as perm\n",
    "import io, os, sys\n",
    "input = io.BytesIO(os.read(0, os.fstat(0).st_size)).readline\n",
    "\n",
    "for _ in range(int(input())):\n",
    "    n = int(input())\n",
    "    \n",
    "    max_sv = -1\n",
    "    for mid in range(n + 1):\n",
    "        P = list(range(1, mid + 1)) + list(range(n, mid, -1))\n",
    "\n",
    "        vs = []\n",
    "        for i in range(n):\n",
    "            v = P[i] * (i + 1)\n",
    "            vs.append(v)\n",
    "\n",
    "        vs.sort()\n",
    "        vs.pop()\n",
    "\n",
    "        sv = sum(vs)\n",
    "        if sv > max_sv:\n",
    "            max_sv = sv\n",
    "\n",
    "    print(max_sv)"
   ]
  },
  {
   "cell_type": "markdown",
   "metadata": {},
   "source": [
    "### D"
   ]
  },
  {
   "cell_type": "code",
   "execution_count": null,
   "metadata": {},
   "outputs": [],
   "source": [
    "처음 가능한 점에서 어디까지 갈 수 있나?\n",
    "새로운 점에서는 어디까지 갈 수 있나..."
   ]
  },
  {
   "cell_type": "code",
   "execution_count": 69,
   "metadata": {},
   "outputs": [
    {
     "name": "stdout",
     "output_type": "stream",
     "text": [
      "10 2 23 15 28 18\n",
      "1 8 1 8\n",
      "6 14 1 8\n",
      "16 22 1 14\n",
      "14 14 23 15 28 22\n"
     ]
    }
   ],
   "source": [
    "import io, os, sys\n",
    "input = io.BytesIO(os.read(0, os.fstat(0).st_size)).readline\n",
    "\n",
    "for _ in range(int(input())):\n",
    "    n = int(input())\n",
    "    li = []\n",
    "    for _ in range(n):\n",
    "        l, r, a, b = map(int, input().split())\n",
    "\n",
    "        li.append([l, b])\n",
    "\n",
    "    li.sort(key=lambda x: x[0])\n",
    "\n",
    "    q = int(input())\n",
    "    qs = [[v, i] for i, v in enumerate(map(int, input().split()))]\n",
    "    qs.sort(key=lambda x: -x[0])\n",
    "\n",
    "    result = [0] * q \n",
    "    cur_start = li[0][0]\n",
    "    cur_end = li[0][1]\n",
    "    for i in range(n):\n",
    "        start, end = li[i]\n",
    "\n",
    "        if start <= cur_end:\n",
    "            cur_end = max(cur_end, end)\n",
    "        else:\n",
    "            while qs and qs[-1][0] <= cur_end:\n",
    "                qu, qi = qs.pop()\n",
    "\n",
    "                if qu < cur_start:\n",
    "                    result[qi] = qu\n",
    "                else:\n",
    "                    result[qi] = cur_end\n",
    "\n",
    "            cur_start = start\n",
    "            cur_end = end\n",
    "\n",
    "    while qs and qs[-1][0] <= cur_end:\n",
    "        qu, qi = qs.pop()\n",
    "\n",
    "        if qu < cur_start:\n",
    "            result[qi] = qu\n",
    "        else:\n",
    "            result[qi] = cur_end\n",
    "\n",
    "    while qs:\n",
    "        qu, qi = qs.pop()\n",
    "        result[qi] = qu\n",
    "\n",
    "    print(*result)"
   ]
  },
  {
   "cell_type": "markdown",
   "metadata": {},
   "source": [
    "### E"
   ]
  },
  {
   "cell_type": "code",
   "execution_count": 77,
   "metadata": {},
   "outputs": [
    {
     "name": "stdout",
     "output_type": "stream",
     "text": [
      "56921900\n"
     ]
    }
   ],
   "source": [
    "c = 0\n",
    "for i in range(700):\n",
    "    for j in range(i):\n",
    "        for k in range(j):\n",
    "            c += 1\n",
    "            \n",
    "print(c)"
   ]
  },
  {
   "cell_type": "code",
   "execution_count": 75,
   "metadata": {},
   "outputs": [
    {
     "data": {
      "text/plain": [
       "125000000"
      ]
     },
     "execution_count": 75,
     "metadata": {},
     "output_type": "execute_result"
    }
   ],
   "source": [
    "500 ** 3"
   ]
  }
 ],
 "metadata": {
  "kernelspec": {
   "display_name": "Python 3",
   "language": "python",
   "name": "python3"
  },
  "language_info": {
   "codemirror_mode": {
    "name": "ipython",
    "version": 3
   },
   "file_extension": ".py",
   "mimetype": "text/x-python",
   "name": "python",
   "nbconvert_exporter": "python",
   "pygments_lexer": "ipython3",
   "version": "3.8.3"
  }
 },
 "nbformat": 4,
 "nbformat_minor": 4
}
