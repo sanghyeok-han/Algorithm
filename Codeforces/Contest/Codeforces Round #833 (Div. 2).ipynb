{
 "cells": [
  {
   "cell_type": "markdown",
   "metadata": {},
   "source": [
    "A"
   ]
  },
  {
   "cell_type": "code",
   "execution_count": null,
   "metadata": {},
   "outputs": [],
   "source": [
    "1 2 3 4 5 6\n",
    "1 1 2 2 3 3"
   ]
  },
  {
   "cell_type": "code",
   "execution_count": 3,
   "metadata": {},
   "outputs": [
    {
     "name": "stdout",
     "output_type": "stream",
     "text": [
      "197654321\n",
      "98827161\n"
     ]
    }
   ],
   "source": [
    "import io, os, sys\n",
    "input = io.BytesIO(os.read(0,os.fstat(0).st_size)).readline\n",
    "\n",
    "for _ in range(int(input())):\n",
    "    n = int(input())\n",
    "\n",
    "    r = n // 2\n",
    "    if n % 2:\n",
    "        r += 1\n",
    "\n",
    "    print(r)"
   ]
  },
  {
   "cell_type": "markdown",
   "metadata": {},
   "source": [
    "B"
   ]
  },
  {
   "cell_type": "code",
   "execution_count": null,
   "metadata": {},
   "outputs": [],
   "source": [
    "0 1 2 3 4 5 6 7 8 9 distinct = 9\n",
    "\n",
    "0이 10 개 있으면 넘기게 됨"
   ]
  },
  {
   "cell_type": "code",
   "execution_count": 4,
   "metadata": {},
   "outputs": [
    {
     "data": {
      "text/plain": [
       "90"
      ]
     },
     "execution_count": 4,
     "metadata": {},
     "output_type": "execute_result"
    }
   ],
   "source": [
    "9 * 10"
   ]
  },
  {
   "cell_type": "code",
   "execution_count": 1,
   "metadata": {},
   "outputs": [
    {
     "name": "stdout",
     "output_type": "stream",
     "text": [
      "3\n",
      "1\n",
      "7\n",
      "1\n",
      "2\n",
      "77\n",
      "2\n",
      "4\n",
      "1010\n",
      "10\n"
     ]
    }
   ],
   "source": [
    "import sys\n",
    "input = lambda: sys.stdin.readline().rstrip()\n",
    "\n",
    "for _ in range(int(input())):\n",
    "    n = int(input())\n",
    "    li = list(map(int, input()))\n",
    "\n",
    "    r = 0\n",
    "    for intv in range(1, min(n + 1, 102)):\n",
    "        ct = [0] * 10\n",
    "        for i in range(intv):\n",
    "            ct[li[i]] += 1\n",
    "\n",
    "        c1 = 0\n",
    "        max_v = 0\n",
    "        for v in ct:\n",
    "            if v:\n",
    "                c1 += 1\n",
    "            max_v = max(max_v, v)\n",
    "\n",
    "        if c1 >= max_v:\n",
    "            r += 1\n",
    "\n",
    "        for i in range(intv, n):\n",
    "            ct[li[i - intv]] -= 1\n",
    "            ct[li[i]] += 1\n",
    "\n",
    "            c1 = 0\n",
    "            max_v = 0\n",
    "            for v in ct:\n",
    "                if v:\n",
    "                    c1 += 1\n",
    "                max_v = max(max_v, v)\n",
    "\n",
    "            if c1 >= max_v:\n",
    "                r += 1\n",
    "\n",
    "    print(r)"
   ]
  },
  {
   "cell_type": "markdown",
   "metadata": {},
   "source": [
    "C"
   ]
  },
  {
   "cell_type": "code",
   "execution_count": null,
   "metadata": {},
   "outputs": [],
   "source": [
    "import io, os, sys\n",
    "input = io.BytesIO(os.read(0,os.fstat(0).st_size)).readline\n",
    "\n",
    "for _ in range(int(input())):\n",
    "    n = int(input())\n",
    "    li = list(map(int, input().split()))\n",
    "\n",
    "    sli = [0] * n\n",
    "    cumul = 0\n",
    "    for i in range(n):\n",
    "        cumul += li[i]\n",
    "        sli[i] = cumul\n",
    "\n",
    "    result = 0\n",
    "    is_found_zero = False\n",
    "    ct = {}\n",
    "    max_c = 0\n",
    "    for i in range(n):\n",
    "        if li[i] == 0:\n",
    "            if not is_found_zero:\n",
    "                is_found_zero = True\n",
    "\n",
    "                if '0' in ct:\n",
    "                    result += ct['0']\n",
    "                ct = {}\n",
    "                max_c = 0\n",
    "            else:\n",
    "                result += max_c\n",
    "                ct = {}\n",
    "                max_c = 0\n",
    "\n",
    "        str_v = str(sli[i])\n",
    "        if str_v not in ct:\n",
    "            ct[str_v] = 1\n",
    "        else:\n",
    "            ct[str_v] += 1\n",
    "            \n",
    "        max_c = max(max_c, ct[str_v])\n",
    "\n",
    "    if not is_found_zero:\n",
    "        if '0' in ct:\n",
    "            result += ct['0']\n",
    "    else:\n",
    "        result += max_c\n",
    "        \n",
    "    print(result)"
   ]
  },
  {
   "cell_type": "markdown",
   "metadata": {},
   "source": [
    "D"
   ]
  },
  {
   "cell_type": "markdown",
   "metadata": {},
   "source": [
    "a가 d로 나눠 떨어지고, b도 d로 나눠 떨어지면 답으로 0 가능함\n",
    "\n"
   ]
  },
  {
   "cell_type": "code",
   "execution_count": 27,
   "metadata": {},
   "outputs": [
    {
     "data": {
      "text/plain": [
       "4"
      ]
     },
     "execution_count": 27,
     "metadata": {},
     "output_type": "execute_result"
    }
   ],
   "source": [
    "4 % 5"
   ]
  },
  {
   "cell_type": "code",
   "execution_count": 30,
   "metadata": {},
   "outputs": [
    {
     "data": {
      "text/plain": [
       "'0b1100'"
      ]
     },
     "execution_count": 30,
     "metadata": {},
     "output_type": "execute_result"
    }
   ],
   "source": [
    "bin(a)"
   ]
  },
  {
   "cell_type": "code",
   "execution_count": 29,
   "metadata": {},
   "outputs": [
    {
     "data": {
      "text/plain": [
       "[1,\n",
       " 2,\n",
       " 4,\n",
       " 1,\n",
       " 2,\n",
       " 4,\n",
       " 1,\n",
       " 2,\n",
       " 4,\n",
       " 1,\n",
       " 2,\n",
       " 4,\n",
       " 1,\n",
       " 2,\n",
       " 4,\n",
       " 1,\n",
       " 2,\n",
       " 4,\n",
       " 1,\n",
       " 2,\n",
       " 4,\n",
       " 1,\n",
       " 2,\n",
       " 4,\n",
       " 1,\n",
       " 2,\n",
       " 4,\n",
       " 1,\n",
       " 2,\n",
       " 4,\n",
       " 1,\n",
       " 2,\n",
       " 4,\n",
       " 1,\n",
       " 2,\n",
       " 4,\n",
       " 1,\n",
       " 2,\n",
       " 4,\n",
       " 1,\n",
       " 2,\n",
       " 4,\n",
       " 1,\n",
       " 2,\n",
       " 4,\n",
       " 1,\n",
       " 2,\n",
       " 4,\n",
       " 1,\n",
       " 2,\n",
       " 4,\n",
       " 1,\n",
       " 2,\n",
       " 4,\n",
       " 1,\n",
       " 2,\n",
       " 4,\n",
       " 1,\n",
       " 2,\n",
       " 4]"
      ]
     },
     "execution_count": 29,
     "metadata": {},
     "output_type": "execute_result"
    }
   ],
   "source": [
    "a, b, d = 12, 39, 7\n",
    "\n",
    "def to_bit_li(num):\n",
    "    bn = bin(num)\n",
    "    bli = [0] * 31\n",
    "    \n",
    "    \n",
    "\n",
    "a_nd = d - a % d # a needed\n",
    "if a_nd == d:\n",
    "    a_nd = 0\n",
    "    \n",
    "b_nd = d - b % d\n",
    "if b_nd == d:\n",
    "    b_nd = 0\n",
    "    \n",
    "moded = [0] * 60\n",
    "cur = 1\n",
    "for i in range(60):\n",
    "    cur %= d\n",
    "    moded[i] = cur\n",
    "    cur *= 2\n",
    "    "
   ]
  },
  {
   "cell_type": "code",
   "execution_count": null,
   "metadata": {},
   "outputs": [],
   "source": []
  },
  {
   "cell_type": "code",
   "execution_count": null,
   "metadata": {},
   "outputs": [],
   "source": [
    "1 0 0 1 1 0     1 0 1 1 0 1"
   ]
  },
  {
   "cell_type": "code",
   "execution_count": 23,
   "metadata": {},
   "outputs": [
    {
     "data": {
      "text/plain": [
       "1073741824"
      ]
     },
     "execution_count": 23,
     "metadata": {},
     "output_type": "execute_result"
    }
   ],
   "source": [
    "2 ** 30"
   ]
  }
 ],
 "metadata": {
  "kernelspec": {
   "display_name": "Python 3",
   "language": "python",
   "name": "python3"
  },
  "language_info": {
   "codemirror_mode": {
    "name": "ipython",
    "version": 3
   },
   "file_extension": ".py",
   "mimetype": "text/x-python",
   "name": "python",
   "nbconvert_exporter": "python",
   "pygments_lexer": "ipython3",
   "version": "3.7.4"
  }
 },
 "nbformat": 4,
 "nbformat_minor": 2
}
