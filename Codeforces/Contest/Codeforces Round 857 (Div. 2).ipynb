{
 "cells": [
  {
   "cell_type": "markdown",
   "metadata": {},
   "source": [
    "### A"
   ]
  },
  {
   "cell_type": "code",
   "execution_count": null,
   "metadata": {},
   "outputs": [],
   "source": [
    "import io, os, sys\n",
    "input = io.BytesIO(os.read(0, os.fstat(0).st_size)).readline\n",
    "\n",
    "for _ in range(int(input())):\n",
    "    n = int(input())\n",
    "    li = list(map(int, input().split()))\n",
    "\n",
    "    nli = sorted(li, reverse=True)\n",
    "    result = []\n",
    "    cur = 0\n",
    "    for v in nli:\n",
    "        if v > 0:\n",
    "            cur += 1\n",
    "        else:\n",
    "            cur -= 1\n",
    "        result.append(cur)\n",
    "\n",
    "    print(*result)\n",
    "\n",
    "    double_c = 0\n",
    "    st = set()\n",
    "    for v in li:\n",
    "        abs_v = abs(v)\n",
    "\n",
    "        if abs_v in st:\n",
    "            double_c += 1\n",
    "        else:\n",
    "            st.add(abs_v)\n",
    "\n",
    "    result = [1, 0] * double_c\n",
    "    rem = n - double_c * 2\n",
    "    result.extend(range(1, rem + 1))\n",
    "\n",
    "    print(*result)"
   ]
  },
  {
   "cell_type": "markdown",
   "metadata": {},
   "source": [
    "### B"
   ]
  },
  {
   "cell_type": "code",
   "execution_count": null,
   "metadata": {},
   "outputs": [],
   "source": [
    "모르는거는 따로\n",
    "\n",
    "아는거는\n",
    "\n",
    "0 -> 0\n",
    "1 -> 1\n",
    "2 -> 2\n",
    "3 -> 2\n",
    "4 -> 3\n",
    "5 -> 3\n",
    "6 -> 4\n",
    "7 -> 4\n",
    "8 -> 5"
   ]
  },
  {
   "cell_type": "code",
   "execution_count": 16,
   "metadata": {},
   "outputs": [
    {
     "data": {
      "text/plain": [
       "5"
      ]
     },
     "execution_count": 16,
     "metadata": {},
     "output_type": "execute_result"
    }
   ],
   "source": [
    "x = 8\n",
    "(x + 2) // 2"
   ]
  },
  {
   "cell_type": "code",
   "execution_count": null,
   "metadata": {},
   "outputs": [],
   "source": [
    "import io, os, sys\n",
    "input = io.BytesIO(os.read(0, os.fstat(0).st_size)).readline\n",
    "\n",
    "for _ in range(int(input())):\n",
    "    n = int(input())\n",
    "    li = list(map(int, input().split()))\n",
    "\n",
    "    max_c = 0\n",
    "    nk_c = 0\n",
    "    unk_c = 0\n",
    "    for v in li:\n",
    "        if v == 2:\n",
    "            nk_c += unk_c\n",
    "            unk_c = 0\n",
    "        else:\n",
    "            unk_c += 1\n",
    "\n",
    "        needed = unk_c\n",
    "        if nk_c <= 2:\n",
    "            needed += nk_c\n",
    "        else:\n",
    "            needed += (nk_c + 2) // 2\n",
    "\n",
    "        max_c = max(max_c, needed)\n",
    "\n",
    "    print(max_c)"
   ]
  },
  {
   "cell_type": "markdown",
   "metadata": {},
   "source": [
    "### C"
   ]
  },
  {
   "cell_type": "code",
   "execution_count": 21,
   "metadata": {},
   "outputs": [
    {
     "data": {
      "text/plain": [
       "40000"
      ]
     },
     "execution_count": 21,
     "metadata": {},
     "output_type": "execute_result"
    }
   ],
   "source": [
    "200 * 200"
   ]
  },
  {
   "cell_type": "code",
   "execution_count": 52,
   "metadata": {},
   "outputs": [
    {
     "data": {
      "text/plain": [
       "524288"
      ]
     },
     "execution_count": 52,
     "metadata": {},
     "output_type": "execute_result"
    }
   ],
   "source": [
    "2 ** 19"
   ]
  },
  {
   "cell_type": "code",
   "execution_count": null,
   "metadata": {},
   "outputs": [],
   "source": [
    "import io, os, sys\n",
    "input = io.BytesIO(os.read(0, os.fstat(0).st_size)).readline\n",
    "\n",
    "for _ in range(int(input())):\n",
    "    n, m = map(int, input().split())\n",
    "\n",
    "    li = [[0] * m for _ in range(n)]\n",
    "\n",
    "    cur_w = 1\n",
    "    cur_term = 1\n",
    "    cur_mod = 2\n",
    "    for cur in range(1, 22):\n",
    "        for j in range(0, m, 2):\n",
    "            for i in range(n):\n",
    "                if i % cur_mod >= cur_term:\n",
    "                    li[i][j] += cur_w\n",
    "\n",
    "        for j in range(1, m, 2):\n",
    "            for i in range(n):\n",
    "                if i % cur_mod < cur_term:\n",
    "                    li[i][j] += cur_w\n",
    "\n",
    "        cur_term *= 2\n",
    "        cur_mod *= 2\n",
    "        cur_w *= 2\n",
    "\n",
    "    cur_term = 1\n",
    "    cur_mod = 2\n",
    "    for cur in range(1, 22):\n",
    "        for i in range(0, n, 2):\n",
    "            for j in range(m):\n",
    "                if j % cur_mod >= cur_term:\n",
    "                    li[i][j] += cur_w\n",
    "\n",
    "        for i in range(1, n, 2):\n",
    "            for j in range(m):\n",
    "                if j % cur_mod < cur_term:\n",
    "                    li[i][j] += cur_w\n",
    "\n",
    "        cur_term *= 2\n",
    "        cur_mod *= 2\n",
    "        cur_w *= 2\n",
    "\n",
    "    print(n * m)\n",
    "    for v in li:\n",
    "        print(*v)"
   ]
  },
  {
   "cell_type": "markdown",
   "metadata": {},
   "source": [
    "### D"
   ]
  },
  {
   "cell_type": "code",
   "execution_count": 85,
   "metadata": {},
   "outputs": [
    {
     "name": "stdout",
     "output_type": "stream",
     "text": [
      "1\n",
      "5\n",
      "1 5\n",
      "2 7\n",
      "3 3\n",
      "4 10\n",
      "2 5\n",
      "1\n"
     ]
    }
   ],
   "source": [
    "from heapq import heappush, heappop\n",
    "import io, os, sys\n",
    "# input = io.BytesIO(os.read(0, os.fstat(0).st_size)).readline\n",
    "\n",
    "inf = float('inf')\n",
    "\n",
    "for _ in range(int(input())):\n",
    "    n = int(input())\n",
    "    li = [list(map(int, input().split())) for _ in range(n)]\n",
    "    li.sort(key=lambda x: (x[0], -x[1]))\n",
    "\n",
    "    musts = [0] * n\n",
    "    cumul_max = 0\n",
    "    for i in range(n - 1, -1, -1):\n",
    "        cumul_max = max(cumul_max, li[i][1])\n",
    "        musts[i] = cumul_max\n",
    "\n",
    "    can_choose = []\n",
    "\n",
    "    min_r = inf\n",
    "    for i in range(n):\n",
    "        a, b = li[i]\n",
    "        \n",
    "        max_must = -1\n",
    "        if i + 1 < n:\n",
    "            max_must = musts[i + 1]\n",
    "        \n",
    "        ss = -inf\n",
    "        ls = -inf\n",
    "        ms = -inf\n",
    "        msd = inf\n",
    "        \n",
    "        while len(can_choose) >= 2:\n",
    "            t1 = heappop(can_choose)\n",
    "            t2 = heappop(can_choose)\n",
    "            \n",
    "            if t2 <= a:\n",
    "                heappush(can_choose, t2)\n",
    "            else:\n",
    "                heappush(can_choose, t1)\n",
    "                heappush(can_choose, t2)\n",
    "                break\n",
    "\n",
    "        if ls == -inf and len(can_choose) >= 2:\n",
    "            temp = heappop(can_choose)\n",
    "            ls = can_choose[0]\n",
    "            heappush(can_choose, temp)\n",
    "        if ss == -inf and can_choose:\n",
    "            ss = can_choose[0]\n",
    "        \n",
    "        if abs(a - ss) < msd:\n",
    "            ms = ss\n",
    "            msd = abs(a - ss)\n",
    "        \n",
    "        if abs(a - ls) < msd:\n",
    "            ms = ls\n",
    "            msd = abs(a - ls)\n",
    "\n",
    "        to_check = max(max_must, ms)\n",
    "\n",
    "        abs_diff = abs(to_check - a)\n",
    "        min_r = min(min_r, abs_diff)\n",
    "            \n",
    "        heappush(can_choose, b)\n",
    "\n",
    "    print(min_r)"
   ]
  },
  {
   "cell_type": "markdown",
   "metadata": {},
   "source": [
    "### E"
   ]
  },
  {
   "cell_type": "code",
   "execution_count": null,
   "metadata": {},
   "outputs": [],
   "source": [
    "4 9 4 6 8\n",
    "7\n",
    "8 6\n",
    "1\n",
    "\n",
    "1 7 8 6 4 9 4 6 8"
   ]
  },
  {
   "cell_type": "code",
   "execution_count": null,
   "metadata": {},
   "outputs": [],
   "source": [
    "1 2 3 9\n",
    "7 10 11\n",
    "8"
   ]
  }
 ],
 "metadata": {
  "kernelspec": {
   "display_name": "Python 3",
   "language": "python",
   "name": "python3"
  },
  "language_info": {
   "codemirror_mode": {
    "name": "ipython",
    "version": 3
   },
   "file_extension": ".py",
   "mimetype": "text/x-python",
   "name": "python",
   "nbconvert_exporter": "python",
   "pygments_lexer": "ipython3",
   "version": "3.8.3"
  }
 },
 "nbformat": 4,
 "nbformat_minor": 4
}
