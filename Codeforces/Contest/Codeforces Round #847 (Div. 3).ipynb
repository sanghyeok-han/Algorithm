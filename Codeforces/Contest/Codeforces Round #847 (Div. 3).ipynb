{
 "cells": [
  {
   "cell_type": "markdown",
   "metadata": {},
   "source": [
    "A"
   ]
  },
  {
   "cell_type": "code",
   "execution_count": 1,
   "metadata": {},
   "outputs": [
    {
     "name": "stdout",
     "output_type": "stream",
     "text": [
      "3\n",
      "1\n",
      "0\n",
      "31\n",
      "2\n",
      "3\n",
      "1\n"
     ]
    }
   ],
   "source": [
    "import sys\n",
    "# input = lambda: sys.stdin.readline().rstrip()\n",
    "\n",
    "pi = '314159265358979323846264338327'\n",
    "\n",
    "for _ in range(int(input())):\n",
    "    s = input()\n",
    "    n = len(s)\n",
    "    \n",
    "    r = 0\n",
    "    for i in range(n):\n",
    "        if pi[i] == s[i]:\n",
    "            r += 1\n",
    "        else:\n",
    "            break\n",
    "            \n",
    "    print(r)"
   ]
  },
  {
   "cell_type": "markdown",
   "metadata": {},
   "source": [
    "B"
   ]
  },
  {
   "cell_type": "code",
   "execution_count": 4,
   "metadata": {},
   "outputs": [
    {
     "name": "stdout",
     "output_type": "stream",
     "text": [
      "4 9 5\n",
      "2 2 1 4\n"
     ]
    }
   ],
   "source": [
    "import io, os, sys\n",
    "input = io.BytesIO(os.read(0, os.fstat(0).st_size)).readline\n",
    "\n",
    "for _ in range(int(input())):\n",
    "    n, s, r = map(int, input().split())\n",
    "\n",
    "    result = [0] * n\n",
    "    result[-1] = s - r\n",
    "\n",
    "    i = 0\n",
    "    while r:\n",
    "        r -= 1\n",
    "        result[i] += 1\n",
    "\n",
    "        i += 1\n",
    "        if i == n - 1:\n",
    "            i = 0\n",
    "\n",
    "    print(*result)"
   ]
  },
  {
   "cell_type": "markdown",
   "metadata": {},
   "source": [
    "C"
   ]
  },
  {
   "cell_type": "code",
   "execution_count": 9,
   "metadata": {},
   "outputs": [
    {
     "name": "stdout",
     "output_type": "stream",
     "text": [
      "4\n",
      "4 2 1\n",
      "4 2 3\n",
      "2 1 3\n",
      "4 1 3\n",
      "4 2 1 3\n"
     ]
    }
   ],
   "source": [
    "import io, os, sys\n",
    "input = io.BytesIO(os.read(0, os.fstat(0).st_size)).readline\n",
    "\n",
    "for _ in range(int(input())):\n",
    "    n = int(input())\n",
    "    li = [list(map(int, input().split())) for _ in range(n)]\n",
    "\n",
    "    st = set()\n",
    "    temp = []\n",
    "    for i in range(n):\n",
    "        st.add(li[i][0])\n",
    "        temp.append(li[i][0])\n",
    "\n",
    "    fs_i = -1\n",
    "    for v in st:\n",
    "        if temp.count(v) == 1:\n",
    "            fs_i = temp.index(v)\n",
    "            st.discard(v)\n",
    "\n",
    "            break\n",
    "\n",
    "    print(*([st.pop()] + li[fs_i]))"
   ]
  },
  {
   "cell_type": "markdown",
   "metadata": {},
   "source": [
    "D"
   ]
  },
  {
   "cell_type": "code",
   "execution_count": 11,
   "metadata": {},
   "outputs": [
    {
     "name": "stdout",
     "output_type": "stream",
     "text": [
      "5\n",
      "4 2 2 3 4\n",
      "3\n"
     ]
    }
   ],
   "source": [
    "import io, os, sys\n",
    "input = io.BytesIO(os.read(0, os.fstat(0).st_size)).readline\n",
    "\n",
    "# https://github.com/tatyam-prime/SortedSet/blob/main/SortedMultiset.py\n",
    "import math\n",
    "from bisect import bisect_left, bisect_right, insort\n",
    "from typing import Generic, Iterable, Iterator, TypeVar, Union, List\n",
    "T = TypeVar('T')\n",
    "\n",
    "class SortedMultiset(Generic[T]):\n",
    "    BUCKET_RATIO = 50\n",
    "    REBUILD_RATIO = 170\n",
    "\n",
    "    def _build(self, a=None) -> None:\n",
    "        \"Evenly divide `a` into buckets.\"\n",
    "        if a is None: a = list(self)\n",
    "        size = self.size = len(a)\n",
    "        bucket_size = int(math.ceil(math.sqrt(size / self.BUCKET_RATIO)))\n",
    "        self.a = [a[size * i // bucket_size : size * (i + 1) // bucket_size] for i in range(bucket_size)]\n",
    "    \n",
    "    def __init__(self, a: Iterable[T] = []) -> None:\n",
    "        \"Make a new SortedMultiset from iterable. / O(N) if sorted / O(N log N)\"\n",
    "        a = list(a)\n",
    "        if not all(a[i] <= a[i + 1] for i in range(len(a) - 1)):\n",
    "            a = sorted(a)\n",
    "        self._build(a)\n",
    "\n",
    "    def __iter__(self) -> Iterator[T]:\n",
    "        for i in self.a:\n",
    "            for j in i: yield j\n",
    "\n",
    "    def __reversed__(self) -> Iterator[T]:\n",
    "        for i in reversed(self.a):\n",
    "            for j in reversed(i): yield j\n",
    "    \n",
    "    def __len__(self) -> int:\n",
    "        return self.size\n",
    "    \n",
    "    def __repr__(self) -> str:\n",
    "        return \"SortedMultiset\" + str(self.a)\n",
    "    \n",
    "    def __str__(self) -> str:\n",
    "        s = str(list(self))\n",
    "        return \"{\" + s[1 : len(s) - 1] + \"}\"\n",
    "\n",
    "    def _find_bucket(self, x: T) -> List[T]:\n",
    "        \"Find the bucket which should contain x. self must not be empty.\"\n",
    "        for a in self.a:\n",
    "            if x <= a[-1]: return a\n",
    "        return a\n",
    "\n",
    "    def __contains__(self, x: T) -> bool:\n",
    "        if self.size == 0: return False\n",
    "        a = self._find_bucket(x)\n",
    "        i = bisect_left(a, x)\n",
    "        return i != len(a) and a[i] == x\n",
    "\n",
    "    def count(self, x: T) -> int:\n",
    "        \"Count the number of x.\"\n",
    "        return self.index_right(x) - self.index(x)\n",
    "\n",
    "    def add(self, x: T) -> None:\n",
    "        \"Add an element. / O(√N)\"\n",
    "        if self.size == 0:\n",
    "            self.a = [[x]]\n",
    "            self.size = 1\n",
    "            return\n",
    "        a = self._find_bucket(x)\n",
    "        insort(a, x)\n",
    "        self.size += 1\n",
    "        if len(a) > len(self.a) * self.REBUILD_RATIO:\n",
    "            self._build()\n",
    "\n",
    "    def discard(self, x: T) -> bool:\n",
    "        \"Remove an element and return True if removed. / O(√N)\"\n",
    "        if self.size == 0: return False\n",
    "        a = self._find_bucket(x)\n",
    "        i = bisect_left(a, x)\n",
    "        if i == len(a) or a[i] != x: return False\n",
    "        a.pop(i)\n",
    "        self.size -= 1\n",
    "        if len(a) == 0: self._build()\n",
    "        return True\n",
    "\n",
    "    def lt(self, x: T) -> Union[T, None]:\n",
    "        \"Find the largest element < x, or None if it doesn't exist.\"\n",
    "        for a in reversed(self.a):\n",
    "            if a[0] < x:\n",
    "                return a[bisect_left(a, x) - 1]\n",
    "\n",
    "    def le(self, x: T) -> Union[T, None]:\n",
    "        \"Find the largest element <= x, or None if it doesn't exist.\"\n",
    "        for a in reversed(self.a):\n",
    "            if a[0] <= x:\n",
    "                return a[bisect_right(a, x) - 1]\n",
    "\n",
    "    def gt(self, x: T) -> Union[T, None]:\n",
    "        \"Find the smallest element > x, or None if it doesn't exist.\"\n",
    "        for a in self.a:\n",
    "            if a[-1] > x:\n",
    "                return a[bisect_right(a, x)]\n",
    "\n",
    "    def ge(self, x: T) -> Union[T, None]:\n",
    "        \"Find the smallest element >= x, or None if it doesn't exist.\"\n",
    "        for a in self.a:\n",
    "            if a[-1] >= x:\n",
    "                return a[bisect_left(a, x)]\n",
    "    \n",
    "    def __getitem__(self, x: int) -> T:\n",
    "        \"Return the x-th element, or IndexError if it doesn't exist.\"\n",
    "        if x < 0: x += self.size\n",
    "        if x < 0: raise IndexError\n",
    "        for a in self.a:\n",
    "            if x < len(a): return a[x]\n",
    "            x -= len(a)\n",
    "        raise IndexError\n",
    "\n",
    "    def index(self, x: T) -> int:\n",
    "        \"Count the number of elements < x.\"\n",
    "        ans = 0\n",
    "        for a in self.a:\n",
    "            if a[-1] >= x:\n",
    "                return ans + bisect_left(a, x)\n",
    "            ans += len(a)\n",
    "        return ans\n",
    "\n",
    "    def index_right(self, x: T) -> int:\n",
    "        \"Count the number of elements <= x.\"\n",
    "        ans = 0\n",
    "        for a in self.a:\n",
    "            if a[-1] > x:\n",
    "                return ans + bisect_right(a, x)\n",
    "            ans += len(a)\n",
    "        return ans\n",
    "\n",
    "for _ in range(int(input())):\n",
    "    n = int(input())\n",
    "    li = list(map(int, input().split()))\n",
    "\n",
    "    ms = SortedMultiset()\n",
    "\n",
    "    for v in li:\n",
    "        ms.add(v)\n",
    "\n",
    "    c = 0\n",
    "    while ms:\n",
    "        c += 1\n",
    "        cur = ms[0]\n",
    "        while True:\n",
    "            if cur in ms:\n",
    "                ms.discard(cur)\n",
    "                cur += 1\n",
    "            else:\n",
    "                break\n",
    "\n",
    "    print(c)"
   ]
  },
  {
   "cell_type": "markdown",
   "metadata": {},
   "source": [
    "E"
   ]
  },
  {
   "cell_type": "code",
   "execution_count": 29,
   "metadata": {},
   "outputs": [
    {
     "name": "stdout",
     "output_type": "stream",
     "text": [
      "6\n",
      "-1\n"
     ]
    }
   ],
   "source": [
    "import io, os, sys\n",
    "input = io.BytesIO(os.read(0, os.fstat(0).st_size)).readline\n",
    "\n",
    "for _ in range(int(input())):\n",
    "    x = int(input())\n",
    "\n",
    "    if x % 2 == 1:\n",
    "        print(-1)\n",
    "    else:\n",
    "        a_xor_b = bin(x)[2:]\n",
    "        a_and_b = '0' + a_xor_b[:-1]\n",
    "\n",
    "        n = len(a_xor_b)\n",
    "\n",
    "        a = 0\n",
    "        b = 0\n",
    "        cur = 1\n",
    "\n",
    "        ip = True\n",
    "        for i in range(n - 1, -1, -1):\n",
    "            if a_xor_b[i] == '1' and a_and_b[i] == '0':\n",
    "                a += cur\n",
    "            elif a_xor_b[i] == '0' and a_and_b[i] == '1':\n",
    "                a += cur\n",
    "                b += cur\n",
    "            elif a_xor_b[i] == '0' and a_and_b[i] == '0':\n",
    "                pass\n",
    "            else:\n",
    "                ip = False\n",
    "                break\n",
    "\n",
    "            cur *= 2\n",
    "\n",
    "        if not ip:\n",
    "            print(-1)\n",
    "        else:\n",
    "            print(a, b)"
   ]
  },
  {
   "cell_type": "markdown",
   "metadata": {},
   "source": [
    "F -> 파이썬으로는 시간 초과 날 가능성 높음"
   ]
  },
  {
   "cell_type": "code",
   "execution_count": null,
   "metadata": {},
   "outputs": [],
   "source": [
    "모두 검은색인 상태에서 흰색을 만들어 나가는 편이 나을거 같음"
   ]
  },
  {
   "cell_type": "markdown",
   "metadata": {},
   "source": [
    "G"
   ]
  },
  {
   "cell_type": "code",
   "execution_count": null,
   "metadata": {},
   "outputs": [],
   "source": [
    "1에 토큰 있으면 바로 성공\n",
    "\n",
    "두 토큰이 보너스 선을 따라 이동할 수 있으면 성공\n",
    "\n",
    "보너스 선을 아무 것도 못따라가면 실패\n",
    "\n",
    "한 토큰이 보너스 선 따라갈 수 있을 때,\n",
    " 나머지 토큰들 중 보너스를 계속 반복할 수 있는게 있으면 성공,\n",
    " 나머지 토큰들 중 보너스로 한번 갈 수 있는 것의 개수를 구함\n",
    "\n",
    "t1                                  t2\n",
    "성공할 토큰과 1의 거리, 나머지 토큰들 중 보너스로 한번 갈 수 있는 것의 개수를 비교해야됨\n",
    "\n",
    "t1 <= t2 + 1이면 성공함"
   ]
  },
  {
   "cell_type": "code",
   "execution_count": 31,
   "metadata": {},
   "outputs": [
    {
     "name": "stdout",
     "output_type": "stream",
     "text": [
      "2 1\n",
      "1 0\n",
      "2\n",
      "\n",
      "1 2\n",
      "NO\n"
     ]
    },
    {
     "ename": "NameError",
     "evalue": "name 'tn' is not defined",
     "output_type": "error",
     "traceback": [
      "\u001b[1;31m---------------------------------------------------------------------------\u001b[0m",
      "\u001b[1;31mNameError\u001b[0m                                 Traceback (most recent call last)",
      "\u001b[1;32m<ipython-input-31-862cb908296d>\u001b[0m in \u001b[0;36m<module>\u001b[1;34m\u001b[0m\n\u001b[0;32m     82\u001b[0m                 \u001b[0mprint\u001b[0m\u001b[1;33m(\u001b[0m\u001b[1;34m'NO'\u001b[0m\u001b[1;33m)\u001b[0m\u001b[1;33m\u001b[0m\u001b[1;33m\u001b[0m\u001b[0m\n\u001b[0;32m     83\u001b[0m \u001b[1;33m\u001b[0m\u001b[0m\n\u001b[1;32m---> 84\u001b[1;33m \u001b[1;32mif\u001b[0m \u001b[0mtn\u001b[0m \u001b[1;33m<\u001b[0m \u001b[0mt\u001b[0m \u001b[1;33m-\u001b[0m \u001b[1;36m1\u001b[0m\u001b[1;33m:\u001b[0m\u001b[1;33m\u001b[0m\u001b[1;33m\u001b[0m\u001b[0m\n\u001b[0m\u001b[0;32m     85\u001b[0m     \u001b[0minput\u001b[0m\u001b[1;33m(\u001b[0m\u001b[1;33m)\u001b[0m\u001b[1;33m\u001b[0m\u001b[1;33m\u001b[0m\u001b[0m\n",
      "\u001b[1;31mNameError\u001b[0m: name 'tn' is not defined"
     ]
    }
   ],
   "source": [
    "from collections import deque\n",
    "\n",
    "inf = float('inf')\n",
    "\n",
    "# t = int(input())\n",
    "# for tn in range(t):\n",
    "n, m = map(int, input().split())\n",
    "p, b = map(int, input().split())\n",
    "tokens = set(map(int, input().split()))\n",
    "bonuses = set(map(int, input().split()))\n",
    "\n",
    "li = [[] for _ in range(n + 1)]\n",
    "for _ in range(m):\n",
    "    u, v = map(int, input().split())\n",
    "\n",
    "    li[u].append(v)\n",
    "    li[v].append(u)\n",
    "\n",
    "if 1 in tokens:\n",
    "    print('YES')\n",
    "else:\n",
    "    queue = deque()\n",
    "    queue.append(1)\n",
    "\n",
    "    dists = [inf] * (n + 1)\n",
    "    dists[1] = 0\n",
    "\n",
    "    token_dists = []\n",
    "    can_token_num = -1\n",
    "    while queue:\n",
    "        value = queue.popleft()\n",
    "\n",
    "        for v in li[value]:\n",
    "            if dists[v] == inf:\n",
    "                dists[v] = dists[value] + 1\n",
    "\n",
    "                if v in tokens:\n",
    "                    token_dists.append(dists[v])\n",
    "                    can_token_num = v\n",
    "                if v in bonuses:\n",
    "                    queue.append(v)        \n",
    "\n",
    "    if len(token_dists) >= 2:\n",
    "        print('YES')\n",
    "    elif not token_dists:\n",
    "        print('NO')\n",
    "    else:\n",
    "        token_dist = token_dists[0]\n",
    "        if token_dist == 1:\n",
    "            print('YES')\n",
    "        else:\n",
    "            is_adj_bs = [False] * (n + 1)\n",
    "            for value in range(1, n + 1):\n",
    "                for v in li[value]:\n",
    "                    if v in bonuses:\n",
    "                        is_adj_bs[value] = True\n",
    "                        break\n",
    "\n",
    "            c_level_1 = 0\n",
    "            is_level_2 = False\n",
    "            for token in tokens:\n",
    "                if token == can_token_num:\n",
    "                    continue\n",
    "\n",
    "                level = 0\n",
    "                for v in li[token]:\n",
    "                    if v in bonuses:\n",
    "                        level = max(level, 1)\n",
    "                        if is_adj_bs[v]:\n",
    "                            level = 2\n",
    "\n",
    "                if level == 2:\n",
    "                    is_level_2 = True\n",
    "                elif level == 1:\n",
    "                    c_level_1 += 1\n",
    "\n",
    "            if is_level_2:\n",
    "                print('YES')\n",
    "            elif token_dist <= c_level_1 + 1:\n",
    "                print('YES')\n",
    "            else:\n",
    "                print('NO')\n",
    "\n",
    "# if tn < t - 1:\n",
    "#     input()"
   ]
  },
  {
   "cell_type": "code",
   "execution_count": 33,
   "metadata": {},
   "outputs": [
    {
     "data": {
      "text/plain": [
       "[inf, 0, 1]"
      ]
     },
     "execution_count": 33,
     "metadata": {},
     "output_type": "execute_result"
    }
   ],
   "source": [
    "dists"
   ]
  }
 ],
 "metadata": {
  "kernelspec": {
   "display_name": "Python 3",
   "language": "python",
   "name": "python3"
  },
  "language_info": {
   "codemirror_mode": {
    "name": "ipython",
    "version": 3
   },
   "file_extension": ".py",
   "mimetype": "text/x-python",
   "name": "python",
   "nbconvert_exporter": "python",
   "pygments_lexer": "ipython3",
   "version": "3.7.4"
  }
 },
 "nbformat": 4,
 "nbformat_minor": 2
}
