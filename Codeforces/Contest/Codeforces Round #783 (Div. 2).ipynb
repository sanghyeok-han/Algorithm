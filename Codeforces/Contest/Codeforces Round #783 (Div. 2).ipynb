{
 "cells": [
  {
   "cell_type": "code",
   "execution_count": null,
   "metadata": {},
   "outputs": [],
   "source": [
    "import sys\n",
    "# input = lambda: sys.stdin.readline().rstrip()"
   ]
  },
  {
   "cell_type": "markdown",
   "metadata": {},
   "source": [
    "A"
   ]
  },
  {
   "cell_type": "code",
   "execution_count": 12,
   "metadata": {},
   "outputs": [
    {
     "name": "stdout",
     "output_type": "stream",
     "text": [
      "1\n",
      "3 3\n",
      "4\n",
      "4\n"
     ]
    }
   ],
   "source": [
    "import sys\n",
    "input = lambda: sys.stdin.readline().rstrip()\n",
    "\n",
    "for _ in range(int(input())):\n",
    "    n, m = map(int, input().split())\n",
    "\n",
    "    if n == 1 and m == 1:\n",
    "        print(0)\n",
    "    elif n == 1 and m == 2:\n",
    "        print(1)\n",
    "    elif n == 2 and m == 1:\n",
    "        print(1)\n",
    "    elif n == 1 or m == 1:\n",
    "        print(-1)\n",
    "    else:\n",
    "        n -= 1\n",
    "        m -= 1\n",
    "\n",
    "        if abs(n - m) <= 1:\n",
    "            print(n + m)\n",
    "        else:\n",
    "            if m < n:\n",
    "                n, m = m, n\n",
    "\n",
    "            r = min(m, n) * 2\n",
    "            m -= min(m, n)\n",
    "\n",
    "            r += m // 2 * 4\n",
    "            if m % 2:\n",
    "                r += 1\n",
    "\n",
    "            print(r)"
   ]
  },
  {
   "cell_type": "markdown",
   "metadata": {},
   "source": [
    "B"
   ]
  },
  {
   "cell_type": "code",
   "execution_count": null,
   "metadata": {},
   "outputs": [],
   "source": [
    "import sys\n",
    "input = lambda: sys.stdin.readline().rstrip()\n",
    "\n",
    "for _ in range(int(input())):\n",
    "    n, m = map(int, input().split())\n",
    "    li = sorted(map(int, input().split()), reverse=True)\n",
    "\n",
    "    r = 0\n",
    "    for i in range(n - 1):\n",
    "        r += li[i]\n",
    "\n",
    "    r += li[0]\n",
    "    r += n\n",
    "\n",
    "    if m < r:\n",
    "        print('NO')\n",
    "    else:\n",
    "        print('YES')"
   ]
  },
  {
   "cell_type": "markdown",
   "metadata": {},
   "source": [
    "C"
   ]
  },
  {
   "cell_type": "code",
   "execution_count": 19,
   "metadata": {},
   "outputs": [
    {
     "name": "stdout",
     "output_type": "stream",
     "text": [
      "3\n",
      "2 1 3\n",
      "2\n"
     ]
    }
   ],
   "source": [
    "n = int(input())\n",
    "li = list(map(int, input().split()))\n",
    "\n",
    "r = float('inf')\n",
    "for i in range(n):\n",
    "    temp_r = 0\n",
    "\n",
    "    cur = 0\n",
    "    for j in range(i + 1, n):\n",
    "        temp = cur // li[j]\n",
    "        temp_r += temp\n",
    "        \n",
    "        ncur = temp * li[j]\n",
    "        \n",
    "        temp_r += 1\n",
    "        ncur += li[j]\n",
    "        \n",
    "        cur = ncur\n",
    "        \n",
    "    cur = 0\n",
    "    for j in range(i - 1, -1, -1):\n",
    "        temp = cur // li[j]\n",
    "        temp_r += temp\n",
    "        \n",
    "        ncur = temp * li[j]\n",
    "        \n",
    "        temp_r += 1\n",
    "        ncur += li[j]\n",
    "        \n",
    "        cur = ncur\n",
    "        \n",
    "    r = min(r, temp_r)\n",
    "    \n",
    "print(r)"
   ]
  },
  {
   "cell_type": "markdown",
   "metadata": {},
   "source": [
    "D"
   ]
  },
  {
   "cell_type": "code",
   "execution_count": 224,
   "metadata": {},
   "outputs": [
    {
     "name": "stdout",
     "output_type": "stream",
     "text": [
      "20\n",
      "13\n",
      "1 1\n",
      "2 3\n",
      "3 5\n",
      "4 7\n",
      "5 9\n",
      "6 11\n",
      "7 13\n",
      "8 2\n",
      "9 4\n",
      "10 6\n",
      "11 8\n",
      "12 10\n",
      "13 12\n"
     ]
    }
   ],
   "source": [
    "n = int(input())\n",
    "\n",
    "if n <= 2:\n",
    "    print(1)\n",
    "    print(1, 1)\n",
    "elif n == 3:\n",
    "    print(2)\n",
    "    print(1, 1)\n",
    "    print(1, 2)\n",
    "elif n == 4:\n",
    "    print(3)\n",
    "    print(1, 1)\n",
    "    print(1, 2)\n",
    "    print(1, 3)\n",
    "else:\n",
    "    if n <= 7:\n",
    "        print(n - 2)\n",
    "        for i in range(n - 4):\n",
    "            print(i + 1, i + 1)\n",
    "        print(i + 3, i + 2)\n",
    "        print(i + 2, i + 3)\n",
    "    else:\n",
    "        if n % 2 == 1:\n",
    "            n -= 1\n",
    "        \n",
    "        temp = n - 8\n",
    "        delta = temp // 6\n",
    "        \n",
    "        if n == 15 or (n - 15) % 6 == 0:\n",
    "            delta -= 1\n",
    "        \n",
    "        r = [(1, 1)]\n",
    "        x = 1\n",
    "        y = 2\n",
    "        for _ in range((n - 4) // 2 - delta):\n",
    "            r.append((x + 1, y + 1))\n",
    "            x += 1\n",
    "            y += 2\n",
    "\n",
    "        y = 1\n",
    "        for _ in range((n - 4) // 2 - delta):\n",
    "            r.append((x + 1, y + 1))\n",
    "            x += 1\n",
    "            y += 2\n",
    "            \n",
    "        print(len(r))\n",
    "        for v in r:\n",
    "            print(*v)"
   ]
  },
  {
   "cell_type": "code",
   "execution_count": null,
   "metadata": {},
   "outputs": [],
   "source": [
    "-1은 14 6\n",
    "-2은 20 12\n",
    "-3은 26 18"
   ]
  },
  {
   "cell_type": "code",
   "execution_count": null,
   "metadata": {},
   "outputs": [],
   "source": [
    "15, 21, 27\n",
    "\n"
   ]
  },
  {
   "cell_type": "code",
   "execution_count": 247,
   "metadata": {},
   "outputs": [
    {
     "data": {
      "text/plain": [
       "6"
      ]
     },
     "execution_count": 247,
     "metadata": {},
     "output_type": "execute_result"
    }
   ],
   "source": [
    "21 - 15"
   ]
  },
  {
   "cell_type": "code",
   "execution_count": 248,
   "metadata": {},
   "outputs": [
    {
     "data": {
      "text/plain": [
       "12"
      ]
     },
     "execution_count": 248,
     "metadata": {},
     "output_type": "execute_result"
    }
   ],
   "source": [
    "27 - 15"
   ]
  },
  {
   "cell_type": "code",
   "execution_count": null,
   "metadata": {},
   "outputs": [],
   "source": [
    "n == 15 or (n - 15) % 6 == 0"
   ]
  },
  {
   "cell_type": "code",
   "execution_count": null,
   "metadata": {},
   "outputs": [],
   "source": [
    "8 정답\n",
    "color(0, 0)\n",
    "color(1, 2)\n",
    "color(2, 4)\n",
    "color(3, 1)\n",
    "color(4, 3)\n"
   ]
  },
  {
   "cell_type": "code",
   "execution_count": null,
   "metadata": {},
   "outputs": [],
   "source": [
    "0 0\n",
    "2 1\n",
    "1 2"
   ]
  },
  {
   "cell_type": "code",
   "execution_count": null,
   "metadata": {},
   "outputs": [],
   "source": [
    "4 2"
   ]
  },
  {
   "cell_type": "code",
   "execution_count": null,
   "metadata": {},
   "outputs": [],
   "source": [
    "1 1\n",
    "2 3\n",
    "3 5\n",
    "4 2\n",
    "5 4\n",
    "\n",
    "li = "
   ]
  },
  {
   "cell_type": "code",
   "execution_count": 246,
   "metadata": {},
   "outputs": [
    {
     "name": "stdout",
     "output_type": "stream",
     "text": [
      "0 0\n",
      "1 2\n",
      "2 4\n",
      "3 6\n",
      "4 8\n",
      "5 10\n",
      "6 12\n",
      "7 14\n",
      "8 1\n",
      "9 3\n",
      "10 5\n",
      "11 7\n",
      "12 9\n",
      "13 11\n",
      "14 13\n",
      "True\n"
     ]
    }
   ],
   "source": [
    "def color(x, y):\n",
    "    for i in range(n):\n",
    "        li[x][i] = '*'\n",
    "        li[i][y] = '*'\n",
    "        \n",
    "    nx = x\n",
    "    ny = y\n",
    "    while nx >= 0 and ny >= 0:\n",
    "        li[nx][ny] = '*'\n",
    "        nx -= 1\n",
    "        ny -= 1\n",
    "    \n",
    "    nx = x\n",
    "    ny = y\n",
    "    while nx < n and ny < n:\n",
    "        li[nx][ny] = '*'\n",
    "        nx += 1\n",
    "        ny += 1\n",
    "\n",
    "\n",
    "\n",
    "\n",
    "n = 23\n",
    "li = [[' '] * n for _ in range(n)]\n",
    "\n",
    "color(0, 0)\n",
    "print(0, 0)\n",
    "\n",
    "x = 1\n",
    "y = 2\n",
    "for _ in range((n - 4) // 2 - 2):\n",
    "    color(x, y)\n",
    "    print(x, y)\n",
    "    x += 1\n",
    "    y += 2\n",
    "    \n",
    "y = 1\n",
    "for _ in range((n - 4) // 2 - 2):\n",
    "    color(x, y)\n",
    "    print(x, y)\n",
    "    x += 1\n",
    "    y += 2\n",
    "\n",
    "c = 0\n",
    "for i in range(n):\n",
    "    for j in range(n):\n",
    "        if li[i][j] == '*':\n",
    "            c += 1\n",
    "\n",
    "print(n * n == c)"
   ]
  },
  {
   "cell_type": "code",
   "execution_count": null,
   "metadata": {},
   "outputs": [],
   "source": [
    "-1은 14\n",
    "-2은 20\n",
    "-3은 26"
   ]
  },
  {
   "cell_type": "code",
   "execution_count": null,
   "metadata": {},
   "outputs": [],
   "source": [
    "15, 21, 27"
   ]
  },
  {
   "cell_type": "code",
   "execution_count": null,
   "metadata": {},
   "outputs": [],
   "source": [
    "8 정답\n",
    "color(0, 0)\n",
    "color(1, 2)\n",
    "color(2, 4)\n",
    "color(3, 1)\n",
    "color(4, 3)\n",
    "\n",
    "10정답\n",
    "color(0, 0)\n",
    "color(1, 2)\n",
    "color(2, 4)\n",
    "color(3, 6)\n",
    "color(4, 1)\n",
    "color(5, 3)\n",
    "color(6, 5)\n",
    "\n",
    "12 안됨\n",
    "\n",
    "14됨 16됨 18됨\n"
   ]
  },
  {
   "cell_type": "code",
   "execution_count": null,
   "metadata": {},
   "outputs": [],
   "source": [
    "8 -> 6\n",
    "4 2\n",
    "\n",
    "9 -> 7\n",
    "5 2\n",
    "\n",
    "10 -> 8\n",
    "6 2"
   ]
  },
  {
   "cell_type": "code",
   "execution_count": null,
   "metadata": {},
   "outputs": [],
   "source": [
    "8 -> 5\n",
    "['*', True, True, True, True, True, True, True]\n",
    "[True, True, '*', True, True, True, True, True]\n",
    "[True, True, True, True, '*', True, True, True]\n",
    "[True, '*', True, True, True, True, True, True]\n",
    "[True, True, True, '*', True, True, True, True]\n",
    "[True, True, True, True, True, True, True, True]\n",
    "[True, True, True, True, True, True, True, True]\n",
    "[True, True, True, True, True, True, True, True]\n",
    "\n",
    "\n",
    "5, 6, 9, 10, 11, 12 같은 것 적용됨\n",
    "\n",
    "8은 n - 3?"
   ]
  },
  {
   "cell_type": "code",
   "execution_count": null,
   "metadata": {},
   "outputs": [],
   "source": [
    "li"
   ]
  },
  {
   "cell_type": "code",
   "execution_count": null,
   "metadata": {},
   "outputs": [],
   "source": [
    "from itertools import combinations as comb\n",
    "\n",
    "def color(x, y):\n",
    "    for i in range(n):\n",
    "        li[x][i] = True\n",
    "        li[i][y] = True\n",
    "        \n",
    "    nx = x\n",
    "    ny = y\n",
    "    while nx >= 0 and ny >= 0:\n",
    "        li[nx][ny] = True\n",
    "        nx -= 1\n",
    "        ny -= 1\n",
    "    \n",
    "    nx = x\n",
    "    ny = y\n",
    "    while nx < n and ny < n:\n",
    "        li[nx][ny] = True\n",
    "        nx += 1\n",
    "        ny += 1\n",
    "\n",
    "n = 9\n",
    "cases = comb(range(n * n), n - 4)\n",
    "for case in cases:\n",
    "    li = [[False] * n for _ in range(n)]\n",
    "    for v in case:\n",
    "        color(v // n, v % n)\n",
    "\n",
    "    temp = sum(sum(li, []))\n",
    "    if temp == n * n:\n",
    "        for v in case:\n",
    "            li[v // n][v % n] = '*'\n",
    "            \n",
    "        for v in li:\n",
    "            print(v)\n",
    "        print()"
   ]
  },
  {
   "cell_type": "code",
   "execution_count": null,
   "metadata": {},
   "outputs": [],
   "source": []
  },
  {
   "cell_type": "code",
   "execution_count": 40,
   "metadata": {},
   "outputs": [
    {
     "data": {
      "text/plain": [
       "[(0, 1),\n",
       " (0, 2),\n",
       " (0, 3),\n",
       " (0, 4),\n",
       " (0, 5),\n",
       " (0, 6),\n",
       " (0, 7),\n",
       " (0, 8),\n",
       " (0, 9),\n",
       " (0, 10),\n",
       " (0, 11),\n",
       " (0, 12),\n",
       " (0, 13),\n",
       " (0, 14),\n",
       " (0, 15),\n",
       " (1, 2),\n",
       " (1, 3),\n",
       " (1, 4),\n",
       " (1, 5),\n",
       " (1, 6),\n",
       " (1, 7),\n",
       " (1, 8),\n",
       " (1, 9),\n",
       " (1, 10),\n",
       " (1, 11),\n",
       " (1, 12),\n",
       " (1, 13),\n",
       " (1, 14),\n",
       " (1, 15),\n",
       " (2, 3),\n",
       " (2, 4),\n",
       " (2, 5),\n",
       " (2, 6),\n",
       " (2, 7),\n",
       " (2, 8),\n",
       " (2, 9),\n",
       " (2, 10),\n",
       " (2, 11),\n",
       " (2, 12),\n",
       " (2, 13),\n",
       " (2, 14),\n",
       " (2, 15),\n",
       " (3, 4),\n",
       " (3, 5),\n",
       " (3, 6),\n",
       " (3, 7),\n",
       " (3, 8),\n",
       " (3, 9),\n",
       " (3, 10),\n",
       " (3, 11),\n",
       " (3, 12),\n",
       " (3, 13),\n",
       " (3, 14),\n",
       " (3, 15),\n",
       " (4, 5),\n",
       " (4, 6),\n",
       " (4, 7),\n",
       " (4, 8),\n",
       " (4, 9),\n",
       " (4, 10),\n",
       " (4, 11),\n",
       " (4, 12),\n",
       " (4, 13),\n",
       " (4, 14),\n",
       " (4, 15),\n",
       " (5, 6),\n",
       " (5, 7),\n",
       " (5, 8),\n",
       " (5, 9),\n",
       " (5, 10),\n",
       " (5, 11),\n",
       " (5, 12),\n",
       " (5, 13),\n",
       " (5, 14),\n",
       " (5, 15),\n",
       " (6, 7),\n",
       " (6, 8),\n",
       " (6, 9),\n",
       " (6, 10),\n",
       " (6, 11),\n",
       " (6, 12),\n",
       " (6, 13),\n",
       " (6, 14),\n",
       " (6, 15),\n",
       " (7, 8),\n",
       " (7, 9),\n",
       " (7, 10),\n",
       " (7, 11),\n",
       " (7, 12),\n",
       " (7, 13),\n",
       " (7, 14),\n",
       " (7, 15),\n",
       " (8, 9),\n",
       " (8, 10),\n",
       " (8, 11),\n",
       " (8, 12),\n",
       " (8, 13),\n",
       " (8, 14),\n",
       " (8, 15),\n",
       " (9, 10),\n",
       " (9, 11),\n",
       " (9, 12),\n",
       " (9, 13),\n",
       " (9, 14),\n",
       " (9, 15),\n",
       " (10, 11),\n",
       " (10, 12),\n",
       " (10, 13),\n",
       " (10, 14),\n",
       " (10, 15),\n",
       " (11, 12),\n",
       " (11, 13),\n",
       " (11, 14),\n",
       " (11, 15),\n",
       " (12, 13),\n",
       " (12, 14),\n",
       " (12, 15),\n",
       " (13, 14),\n",
       " (13, 15),\n",
       " (14, 15)]"
      ]
     },
     "execution_count": 40,
     "metadata": {},
     "output_type": "execute_result"
    }
   ],
   "source": [
    "list(cases)"
   ]
  },
  {
   "cell_type": "code",
   "execution_count": null,
   "metadata": {},
   "outputs": [],
   "source": [
    "64c 7"
   ]
  },
  {
   "cell_type": "code",
   "execution_count": 36,
   "metadata": {},
   "outputs": [
    {
     "data": {
      "text/plain": [
       "74974368"
      ]
     },
     "execution_count": 36,
     "metadata": {},
     "output_type": "execute_result"
    }
   ],
   "source": [
    "def nCr(n, r):\n",
    "    if n - r < r:\n",
    "        r = n - r\n",
    "        \n",
    "    num = 1\n",
    "    for i in range(n, n - r, -1):\n",
    "        num *= i\n",
    "    \n",
    "    denom = 1\n",
    "    for i in range(2, r + 1):\n",
    "        denom *= i\n",
    "        \n",
    "    return num // denom\n",
    "\n",
    "nCr(64, 6)"
   ]
  }
 ],
 "metadata": {
  "kernelspec": {
   "display_name": "Python 3",
   "language": "python",
   "name": "python3"
  },
  "language_info": {
   "codemirror_mode": {
    "name": "ipython",
    "version": 3
   },
   "file_extension": ".py",
   "mimetype": "text/x-python",
   "name": "python",
   "nbconvert_exporter": "python",
   "pygments_lexer": "ipython3",
   "version": "3.7.4"
  }
 },
 "nbformat": 4,
 "nbformat_minor": 4
}
