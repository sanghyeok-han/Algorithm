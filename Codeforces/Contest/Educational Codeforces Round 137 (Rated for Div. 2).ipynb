{
 "cells": [
  {
   "cell_type": "markdown",
   "metadata": {},
   "source": [
    "### A"
   ]
  },
  {
   "cell_type": "code",
   "execution_count": null,
   "metadata": {},
   "outputs": [],
   "source": [
    "1 1 2 2\n",
    "1 2 1 2\n",
    "1 2 2 1\n",
    "2 1 1 2\n",
    "2 1 2 1\n",
    "2 2 1 2"
   ]
  },
  {
   "cell_type": "code",
   "execution_count": 2,
   "metadata": {},
   "outputs": [
    {
     "name": "stdout",
     "output_type": "stream",
     "text": [
      "8\n",
      "0 1 2 4 5 6 8 9\n",
      "6\n"
     ]
    }
   ],
   "source": [
    "import sys\n",
    "input = lambda: sys.stdin.readline().rstrip()\n",
    "\n",
    "for _ in range(int(input())):\n",
    "    n = int(input())\n",
    "    st = set(map(int, input().split()))\n",
    "\n",
    "    ps = 10 - len(st)\n",
    "\n",
    "    r = ps * (ps - 1) // 2 * 6\n",
    "\n",
    "    print(r)"
   ]
  },
  {
   "cell_type": "markdown",
   "metadata": {},
   "source": [
    "### B"
   ]
  },
  {
   "cell_type": "code",
   "execution_count": null,
   "metadata": {},
   "outputs": [],
   "source": [
    "1 3 5 2 4\n",
    "\n",
    "1 6 5 4 3 2"
   ]
  },
  {
   "cell_type": "code",
   "execution_count": 4,
   "metadata": {},
   "outputs": [
    {
     "name": "stdout",
     "output_type": "stream",
     "text": [
      "6\n",
      "1 6 2 3 4 5\n"
     ]
    }
   ],
   "source": [
    "import sys\n",
    "input = lambda: sys.stdin.readline().rstrip()\n",
    "\n",
    "for _ in range(int(input())):\n",
    "    n = int(input())\n",
    "\n",
    "    li = [1, n] + list(range(2, n))\n",
    "\n",
    "    print(*li)"
   ]
  },
  {
   "cell_type": "markdown",
   "metadata": {},
   "source": [
    "### C"
   ]
  },
  {
   "cell_type": "code",
   "execution_count": null,
   "metadata": {},
   "outputs": [],
   "source": [
    "import sys\n",
    "input = lambda: sys.stdin.readline().rstrip()\n",
    "\n",
    "inf = float('inf')\n",
    "\n",
    "for _ in range(int(input())):\n",
    "    n = int(input())\n",
    "    covers = list(map(int, input()))\n",
    "    li = list(map(int, input().split()))\n",
    "\n",
    "    cover_start = -1\n",
    "    min_v = inf\n",
    "    min_v_i = -1\n",
    "    for i in range(n):\n",
    "        if covers[i]:\n",
    "            if cover_start == -1:\n",
    "                cover_start = i\n",
    "            if li[i] < min_v:\n",
    "                min_v = li[i]\n",
    "                min_v_i = i\n",
    "        else:\n",
    "            if cover_start != -1:\n",
    "                if cover_start != 0 and li[cover_start - 1] >= min_v:\n",
    "                    covers[cover_start - 1] = 1\n",
    "                    covers[min_v_i] = 0\n",
    "                cover_start = -1\n",
    "                min_v = inf\n",
    "                min_v_i = -1\n",
    "\n",
    "    if cover_start != -1:\n",
    "        if cover_start != 0 and li[cover_start - 1] >= min_v:\n",
    "            covers[cover_start - 1] = 1\n",
    "            covers[min_v_i] = 0\n",
    "        cover_start = -1\n",
    "        min_v = inf\n",
    "        min_v_i = -1\n",
    "\n",
    "    total = 0\n",
    "    for i in range(n):\n",
    "        if covers[i]:\n",
    "            total += li[i]\n",
    "\n",
    "    print(total)"
   ]
  },
  {
   "cell_type": "markdown",
   "metadata": {},
   "source": [
    "D"
   ]
  },
  {
   "cell_type": "code",
   "execution_count": null,
   "metadata": {},
   "outputs": [],
   "source": [
    "각각 확인해보면서 새 start 위치들을 전부 뽑음"
   ]
  },
  {
   "cell_type": "code",
   "execution_count": 50,
   "metadata": {},
   "outputs": [
    {
     "data": {
      "text/plain": [
       "0.99609375"
      ]
     },
     "execution_count": 50,
     "metadata": {},
     "output_type": "execute_result"
    }
   ],
   "source": [
    "from itertools import product as prod\n",
    "\n",
    "n = 8\n",
    "\n",
    "c = 0\n",
    "for case in prod(*[range(2)] * n):\n",
    "    case = ''.join(map(str, case))\n",
    "    \n",
    "    if '11' in case:\n",
    "        c += 1\n",
    "        \n",
    "c / 2 ** n"
   ]
  },
  {
   "cell_type": "code",
   "execution_count": 58,
   "metadata": {},
   "outputs": [
    {
     "data": {
      "text/plain": [
       "1024"
      ]
     },
     "execution_count": 58,
     "metadata": {},
     "output_type": "execute_result"
    }
   ],
   "source": [
    "2 ** 10"
   ]
  },
  {
   "cell_type": "code",
   "execution_count": 71,
   "metadata": {},
   "outputs": [
    {
     "name": "stdout",
     "output_type": "stream",
     "text": [
      "3\n",
      "101\n",
      "111\n"
     ]
    }
   ],
   "source": [
    "import sys\n",
    "# input = lambda: sys.stdin.readline().rstrip()\n",
    "\n",
    "n = int(input())\n",
    "s = input().lstrip('0')\n",
    "n = len(s)\n",
    "\n",
    "if n == 0:\n",
    "    print(0)\n",
    "else:\n",
    "    zero_start = -1\n",
    "    for i in range(n):\n",
    "        if s[i] == '0':\n",
    "            zero_start = i\n",
    "            break\n",
    "            \n",
    "    int_s1 = int(s, 2)\n",
    "    if zero_start == -1:\n",
    "        print(int_s1)\n",
    "    else:\n",
    "        max_r = int_s1\n",
    "        from_zero_length = n - zero_start\n",
    "        for one_i in range(zero_start):\n",
    "            s2 = s[one_i:one_i + from_zero_length]\n",
    "            \n",
    "            temp_r = int(s2, 2) | int_s1\n",
    "            max_r = max(max_r, temp_r)\n",
    "    \n",
    "        print(bin(max_r)[2:])"
   ]
  },
  {
   "cell_type": "markdown",
   "metadata": {},
   "source": [
    "E"
   ]
  },
  {
   "cell_type": "code",
   "execution_count": null,
   "metadata": {},
   "outputs": [],
   "source": [
    "p1은 혼자서 쏠 수도 있다고 가정"
   ]
  },
  {
   "cell_type": "code",
   "execution_count": null,
   "metadata": {},
   "outputs": [],
   "source": [
    "p1, t1 = map(int, input().split())\n",
    "p2, t2 = map(int, input().split())\n",
    "\n",
    "if t1"
   ]
  }
 ],
 "metadata": {
  "kernelspec": {
   "display_name": "Python 3",
   "language": "python",
   "name": "python3"
  },
  "language_info": {
   "codemirror_mode": {
    "name": "ipython",
    "version": 3
   },
   "file_extension": ".py",
   "mimetype": "text/x-python",
   "name": "python",
   "nbconvert_exporter": "python",
   "pygments_lexer": "ipython3",
   "version": "3.7.4"
  }
 },
 "nbformat": 4,
 "nbformat_minor": 2
}
