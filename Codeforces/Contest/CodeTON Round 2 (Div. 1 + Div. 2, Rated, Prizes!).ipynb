{
 "cells": [
  {
   "cell_type": "markdown",
   "metadata": {},
   "source": [
    "A"
   ]
  },
  {
   "cell_type": "code",
   "execution_count": 3,
   "metadata": {},
   "outputs": [
    {
     "name": "stdout",
     "output_type": "stream",
     "text": [
      "6 2\n",
      "001001\n",
      "11\n",
      "YES\n"
     ]
    }
   ],
   "source": [
    "from collections import deque\n",
    "import sys\n",
    "input = lambda: sys.stdin.readline().rstrip()\n",
    "\n",
    "for _ in range(int(input())):\n",
    "    n, m = map(int, input().split())\n",
    "    a = deque(map(int, input()))\n",
    "    b = list(map(int, input()))\n",
    "\n",
    "    while len(a) > len(b):\n",
    "        a1 = a.popleft()\n",
    "        a2 = a.popleft()\n",
    "\n",
    "        if a1 == b[0] or a2 == b[0]:\n",
    "            a.appendleft(b[0])\n",
    "        else:\n",
    "            a.appendleft(a1)\n",
    "\n",
    "    if list(a) != b:\n",
    "        print('NO')\n",
    "    else:\n",
    "        print('YES')"
   ]
  },
  {
   "cell_type": "markdown",
   "metadata": {},
   "source": [
    "B"
   ]
  },
  {
   "cell_type": "markdown",
   "metadata": {},
   "source": [
    "11.21 11.28"
   ]
  },
  {
   "cell_type": "code",
   "execution_count": 6,
   "metadata": {},
   "outputs": [
    {
     "name": "stdout",
     "output_type": "stream",
     "text": [
      "15 5\n",
      "11 4 13 23 7 10 5 21 20 11 17 5 29 16 11\n",
      "6\n"
     ]
    }
   ],
   "source": [
    "import sys\n",
    "input = lambda: sys.stdin.readline().rstrip()\n",
    "\n",
    "for _ in range(int(input())):\n",
    "    n, x = map(int, input().split())\n",
    "    a = list(map(int, input().split()))\n",
    "\n",
    "    cur_min = a[0]\n",
    "    cur_max = a[0]\n",
    "    total = 0\n",
    "    for v in a:\n",
    "        cur_min = min(cur_min, v)\n",
    "        cur_max = max(cur_max, v)\n",
    "\n",
    "        if cur_max - cur_min > x * 2:\n",
    "            total += 1\n",
    "            cur_min = v\n",
    "            cur_max = v\n",
    "\n",
    "    print(total)"
   ]
  },
  {
   "cell_type": "markdown",
   "metadata": {},
   "source": [
    "C"
   ]
  },
  {
   "cell_type": "markdown",
   "metadata": {},
   "source": [
    "11.29"
   ]
  },
  {
   "cell_type": "code",
   "execution_count": 27,
   "metadata": {},
   "outputs": [
    {
     "name": "stdout",
     "output_type": "stream",
     "text": [
      "6 2\n",
      "2 5\n",
      "[2, 2]\n",
      "5\n"
     ]
    }
   ],
   "source": [
    "import sys\n",
    "input = lambda: sys.stdin.readline().rstrip()\n",
    "\n",
    "for _ in range(int(input())):\n",
    "    n, m = map(int, input().split())\n",
    "    li = sorted(map(int, input().split()))\n",
    "\n",
    "    li.append(n + li[0])\n",
    "    diffs = []\n",
    "    for i in range(m):\n",
    "        diffs.append(li[i + 1] - li[i] - 1)\n",
    "\n",
    "    diffs.sort(reverse=True)\n",
    "\n",
    "    saved = 0\n",
    "    to_minus = 0\n",
    "    for i in range(len(diffs)):\n",
    "        diffs[i] -= to_minus\n",
    "        if diffs[i] <= 0:\n",
    "            break\n",
    "\n",
    "        saved += 1\n",
    "        diffs[i] -= 2\n",
    "        if diffs[i] >= 1:\n",
    "            saved += diffs[i]\n",
    "\n",
    "        to_minus += 4\n",
    "\n",
    "    r = n - saved\n",
    "\n",
    "    print(r)"
   ]
  },
  {
   "cell_type": "markdown",
   "metadata": {},
   "source": [
    "D"
   ]
  },
  {
   "cell_type": "markdown",
   "metadata": {},
   "source": [
    "11:59"
   ]
  },
  {
   "cell_type": "code",
   "execution_count": null,
   "metadata": {},
   "outputs": [],
   "source": [
    "첫번째 원소값의 최소를 먼저 구함 그리고 그 중 최소를 기준으로 전부 revert 시킴\n",
    "\n",
    "마지막 값이 혼자 다르면 스페셜임\n",
    "\n",
    "b와 스페셜 인덱스가 무엇인지 구한다음 그것의 원래 리스트에서 그리디하게 답을 구함"
   ]
  },
  {
   "cell_type": "code",
   "execution_count": null,
   "metadata": {},
   "outputs": [],
   "source": [
    "from copy import deepcopy\n",
    "\n",
    "inf = float('inf')\n",
    "\n",
    "n, m = map(int, input().split())\n",
    "oli = [list(map(int, input().split())) for _ in range(n)]\n",
    "\n",
    "li = deepcopy(oli)\n",
    "\n",
    "\n",
    "for mi in range(m - 1):\n",
    "    min_v = inf\n",
    "    for ni in range(n):\n",
    "        min_v = min(min_v, li[ni][mi])\n",
    "    \n",
    "    \n",
    "    for ni in range(n):\n",
    "        diff = li[ni][mi] - min_v\n",
    "        \n",
    "        \n",
    "        "
   ]
  },
  {
   "cell_type": "markdown",
   "metadata": {},
   "source": [
    "E"
   ]
  },
  {
   "cell_type": "code",
   "execution_count": 32,
   "metadata": {},
   "outputs": [
    {
     "name": "stdout",
     "output_type": "stream",
     "text": [
      "3 2\n",
      "1 1 1\n",
      "1 2\n",
      "2 3\n"
     ]
    },
    {
     "data": {
      "text/plain": [
       "(3, 3)"
      ]
     },
     "execution_count": 32,
     "metadata": {},
     "output_type": "execute_result"
    }
   ],
   "source": [
    "mod = 998244353\n",
    "\n",
    "def dfs(value):\n",
    "    p_tm, p_c = 0, 0\n",
    "    for v in li[value]:\n",
    "        tm, c = dfs(v)\n",
    "        p_tm = max(p_tm, tm)\n",
    "        p_c += c\n",
    "    \n",
    "    p_tm += 1\n",
    "    p_c += a[value - 1]\n",
    "        \n",
    "    if p_tm < p_c:\n",
    "        p_tm = p_c\n",
    "        \n",
    "    if p_c == 0:\n",
    "        return 0, 0\n",
    "    else:\n",
    "        return p_tm, p_c\n",
    "    \n",
    "for _ in range(int(input())):\n",
    "    n, m = map(int, input().split())\n",
    "    a = list(map(int, input().split()))\n",
    "\n",
    "    li = [[] for _ in range(n + 1)]\n",
    "    no_out_cand = set(range(1, n + 1))\n",
    "    for _ in range(m):\n",
    "        u, v = map(int, input().split())\n",
    "        li[v].append(u)\n",
    "        no_out_cand.discard(u)\n",
    "\n",
    "    root = no_out_cand.pop()\n",
    "    \n",
    "    r = dfs(root)[0]\n",
    "    \n",
    "    print(r % mod)"
   ]
  }
 ],
 "metadata": {
  "kernelspec": {
   "display_name": "Python 3",
   "language": "python",
   "name": "python3"
  },
  "language_info": {
   "codemirror_mode": {
    "name": "ipython",
    "version": 3
   },
   "file_extension": ".py",
   "mimetype": "text/x-python",
   "name": "python",
   "nbconvert_exporter": "python",
   "pygments_lexer": "ipython3",
   "version": "3.7.4"
  }
 },
 "nbformat": 4,
 "nbformat_minor": 2
}
