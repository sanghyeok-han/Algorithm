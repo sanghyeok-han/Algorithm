{
 "cells": [
  {
   "cell_type": "code",
   "execution_count": null,
   "metadata": {},
   "outputs": [],
   "source": [
    "import sys\n",
    "input = lambda: sys.stdin.readline().rstrip()"
   ]
  },
  {
   "cell_type": "markdown",
   "metadata": {},
   "source": [
    "A"
   ]
  },
  {
   "cell_type": "code",
   "execution_count": 1,
   "metadata": {},
   "outputs": [
    {
     "data": {
      "text/plain": [
       "10000000"
      ]
     },
     "execution_count": 1,
     "metadata": {},
     "output_type": "execute_result"
    }
   ],
   "source": [
    "import sys\n",
    "input = lambda: sys.stdin.readline().rstrip()\n",
    "\n",
    "for _ in range(int(input())):\n",
    "    n = int(input())\n",
    "    li = list(map(int, input().split()))\n",
    "    \n",
    "    print(li[0])"
   ]
  },
  {
   "cell_type": "markdown",
   "metadata": {},
   "source": [
    "B"
   ]
  },
  {
   "cell_type": "code",
   "execution_count": 17,
   "metadata": {},
   "outputs": [
    {
     "name": "stdout",
     "output_type": "stream",
     "text": [
      "5 2\n",
      "2 9 2 4 1\n",
      "2\n"
     ]
    }
   ],
   "source": [
    "import sys\n",
    "input = lambda: sys.stdin.readline().rstrip()\n",
    "\n",
    "for _ in range(int(input())):\n",
    "    n, k = map(int, input().split())\n",
    "    li = list(map(int, input().split()))\n",
    "\n",
    "    if k == 1:\n",
    "        r = (n - 1) // 2\n",
    "\n",
    "        print(r)\n",
    "    else:\n",
    "        r = 0\n",
    "        for i in range(1, n - 1):\n",
    "            if li[i - 1] + li[i + 1] < li[i]:\n",
    "                r += 1\n",
    "\n",
    "        print(r)"
   ]
  },
  {
   "cell_type": "markdown",
   "metadata": {},
   "source": [
    "C"
   ]
  },
  {
   "cell_type": "code",
   "execution_count": 18,
   "metadata": {},
   "outputs": [
    {
     "data": {
      "text/plain": [
       "0"
      ]
     },
     "execution_count": 18,
     "metadata": {},
     "output_type": "execute_result"
    }
   ],
   "source": [
    "음수나 양수가 2개 이상이면 안됨\n",
    "전부 0이거나 양쪽 끝이 절댓값이 같아야됨"
   ]
  },
  {
   "cell_type": "code",
   "execution_count": 33,
   "metadata": {},
   "outputs": [
    {
     "data": {
      "text/plain": [
       "0"
      ]
     },
     "execution_count": 33,
     "metadata": {},
     "output_type": "execute_result"
    }
   ],
   "source": [
    "import sys\n",
    "input = lambda: sys.stdin.readline().rstrip()\n",
    "\n",
    "for _ in range(int(input())):\n",
    "    n = int(input())\n",
    "    li = list(map(int, input().split()))\n",
    "\n",
    "    cp = 0\n",
    "    cm = 0\n",
    "    p = 0\n",
    "    m = 0\n",
    "    c0 = 0\n",
    "    for v in li:\n",
    "        if v < 0:\n",
    "            cm += 1\n",
    "            m = v\n",
    "        elif v > 0:\n",
    "            cp += 1\n",
    "            p = v\n",
    "        else:\n",
    "            c0 += 1\n",
    "\n",
    "    r = False\n",
    "    if c0 >= 1:\n",
    "        if cp == 0 and cm == 0:\n",
    "            r = True\n",
    "        elif cp == 1 and cm == 0:\n",
    "            r = True\n",
    "        elif cp == 0 and cm == 1:\n",
    "            r = True\n",
    "        elif cp == 1 and cm == 1 and p + m == 0:\n",
    "            r = True\n",
    "    else:\n",
    "        if cp >= 3 or cm >= 3:\n",
    "            r = False\n",
    "        else:  \n",
    "            ip = True\n",
    "            st = set(li)\n",
    "            for i in range(n):\n",
    "                for j in range(i + 1, n):\n",
    "                    for k in range(j + 1, n):\n",
    "                        if li[i] + li[j] + li[k] not in st:\n",
    "                            ip = False\n",
    "                            break\n",
    "            if ip:\n",
    "                r = True\n",
    "        \n",
    "    if r:\n",
    "        print('YES')\n",
    "    else:\n",
    "        print('NO')"
   ]
  },
  {
   "cell_type": "markdown",
   "metadata": {},
   "source": [
    "https://codeforces.com/contest/1698/problem/D"
   ]
  },
  {
   "cell_type": "code",
   "execution_count": null,
   "metadata": {},
   "outputs": [],
   "source": [
    "import sys\n",
    "input = lambda: sys.stdin.readline().rstrip()\n",
    "\n",
    "n = int(input())\n",
    "print(\"? 1 1\")\n",
    "sys.stdout.flush()\n",
    "alpha = input()\n",
    "num = ord(alpha) - 97\n",
    "\n",
    "result = [num]\n",
    "most_recent = [-1] * 26\n",
    "most_recent[num] = 1\n",
    "\n",
    "for i in range(2, n + 1):\n",
    "    cands = [(v, index) for v, index in enumerate(most_recent) if index != -1]\n",
    "    cands.sort(key=lambda x: x[1])\n",
    "    \n",
    "    s = 0\n",
    "    e = len(cands) - 1\n",
    "    r = -1\n",
    "    while s <= e:\n",
    "        mid = (s + e) // 2\n",
    "        \n",
    "        print(f\"? 2 {cands[mid][1]} {i}\")\n",
    "        sys.stdout.flush()\n",
    "        query_r = int(input())\n",
    "        origin_unique = len(cands) - 1 - mid + 1\n",
    "        \n",
    "        if origin_unique < query_r:\n",
    "            e = mid - 1\n",
    "        else:\n",
    "            r = mid\n",
    "            s = mid + 1\n",
    "            \n",
    "    if r == -1:\n",
    "        print(f\"? 1 {i}\")\n",
    "        sys.stdout.flush()\n",
    "        alpha = input()\n",
    "        num = ord(alpha) - 97\n",
    "        result.append(num)\n",
    "        most_recent[num] = i\n",
    "    else:\n",
    "        result.append(cands[r][0])\n",
    "        most_recent[cands[r][0]] = i\n",
    "        \n",
    "result = [chr(v + 97) for v in result]\n",
    "result = ''.join(result)\n",
    "print('!', result)"
   ]
  },
  {
   "cell_type": "code",
   "execution_count": null,
   "metadata": {},
   "outputs": [],
   "source": [
    "3 -> 1 개 고름\n",
    "5 -> 2\n",
    "7 -> 3"
   ]
  },
  {
   "cell_type": "code",
   "execution_count": null,
   "metadata": {},
   "outputs": [],
   "source": [
    "import sys\n",
    "input = lambda: sys.stdin.readline().rstrip()\n",
    "\n",
    "t = int(input())\n",
    "for _ in range(t):\n",
    "    n = int(input())\n",
    "    \n",
    "    s = 0\n",
    "    e = n - 1\n",
    "    count = 0\n",
    "    while True:\n",
    "        mid = (s + e) // 2\n",
    "        count += 1\n",
    "        if count > 15:\n",
    "            while True:\n",
    "                continue\n",
    "\n",
    "        print('?', s + 1, mid + 1)\n",
    "        sys.stdout.flush()\n",
    "\n",
    "        total = set(range(s + 1, e + 2))\n",
    "        cand_left = set(range(s + 1, mid + 2))\n",
    "        cand_right = set(range(mid + 2, e + 2))\n",
    "\n",
    "        given_left = set(map(int, input().split()))\n",
    "        if list(given_left)[0] == -1:\n",
    "            while True:\n",
    "                continue\n",
    "\n",
    "        for num in range(s + 1, mid + 2):\n",
    "            if num not in given_left:\n",
    "                cand_left.discard(num)\n",
    "            else:\n",
    "                given_left.discard(num)\n",
    "\n",
    "        for v in given_left:\n",
    "            cand_right.discard(v)\n",
    "\n",
    "        if len(cand_left) % 2 == 1:\n",
    "            temp = sorted(cand_left)\n",
    "        else:\n",
    "            temp = sorted(cand_right)\n",
    "\n",
    "        if len(temp) == 1:\n",
    "            print('!', temp[0])\n",
    "            sys.stdout.flush()\n",
    "            break\n",
    "\n",
    "        s = temp[0] - 1\n",
    "        e = temp[-1] - 1\n"
   ]
  },
  {
   "cell_type": "markdown",
   "metadata": {},
   "source": [
    "https://codeforces.com/contest/1698/problem/E"
   ]
  },
  {
   "cell_type": "code",
   "execution_count": null,
   "metadata": {},
   "outputs": [],
   "source": [
    "mod = 998244353\n",
    "\n",
    "n, s = map(int, input())\n",
    "a = list(map(int, input().split()))\n",
    "b = list(map(int, input().split()))\n",
    "\n"
   ]
  }
 ],
 "metadata": {
  "kernelspec": {
   "display_name": "Python 3",
   "language": "python",
   "name": "python3"
  },
  "language_info": {
   "codemirror_mode": {
    "name": "ipython",
    "version": 3
   },
   "file_extension": ".py",
   "mimetype": "text/x-python",
   "name": "python",
   "nbconvert_exporter": "python",
   "pygments_lexer": "ipython3",
   "version": "3.7.4"
  }
 },
 "nbformat": 4,
 "nbformat_minor": 2
}
