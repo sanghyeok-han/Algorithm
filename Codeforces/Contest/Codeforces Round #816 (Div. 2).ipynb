{
 "cells": [
  {
   "cell_type": "markdown",
   "metadata": {},
   "source": [
    "A"
   ]
  },
  {
   "cell_type": "code",
   "execution_count": 11,
   "metadata": {},
   "outputs": [
    {
     "name": "stdout",
     "output_type": "stream",
     "text": [
      "1\n",
      "1 5\n",
      "5\n"
     ]
    }
   ],
   "source": [
    "import sys\n",
    "# input = lambda: sys.stdin.readline().rstrip()\n",
    "\n",
    "for _ in range(int(input())):\n",
    "    n, m = map(int, input().split())\n",
    "    \n",
    "    if n == 1 and m == 1:\n",
    "        print(0)\n",
    "    elif n == 1 or m == 1:\n",
    "        r = max(n, m)\n",
    "        \n",
    "        print(r)\n",
    "    else:\n",
    "        r = n - 1 + m - 1 + min(n, m)\n",
    "\n",
    "        print(r)"
   ]
  },
  {
   "cell_type": "markdown",
   "metadata": {},
   "source": [
    "B"
   ]
  },
  {
   "cell_type": "code",
   "execution_count": 32,
   "metadata": {},
   "outputs": [
    {
     "name": "stdout",
     "output_type": "stream",
     "text": [
      "4 1000000000 1000000000 1000000000000000000\n",
      "1000000000000000000 0 0 0\n"
     ]
    }
   ],
   "source": [
    "import sys\n",
    "input = lambda: sys.stdin.readline().rstrip()\n",
    "\n",
    "for _ in range(int(input())):\n",
    "    n, k, b, s = map(int, input().split())\n",
    "\n",
    "    if s // k < b:\n",
    "        print(-1)\n",
    "    else:\n",
    "        li = [0] * n\n",
    "        li[0] = s\n",
    "\n",
    "        cur_b = s // k\n",
    "\n",
    "        i = 1\n",
    "        while cur_b > b and i < n:\n",
    "            to_use = min(li[0], k - 1)\n",
    "            li[0] -= to_use\n",
    "            li[i] += to_use\n",
    "\n",
    "            cur_b = li[0] // k\n",
    "            i += 1\n",
    "\n",
    "        if cur_b == b:\n",
    "            print(*li)\n",
    "        else:\n",
    "            print(-1)"
   ]
  },
  {
   "cell_type": "code",
   "execution_count": 29,
   "metadata": {},
   "outputs": [
    {
     "data": {
      "text/plain": [
       "[19, 0, 0]"
      ]
     },
     "execution_count": 29,
     "metadata": {},
     "output_type": "execute_result"
    }
   ],
   "source": [
    "li"
   ]
  },
  {
   "cell_type": "code",
   "execution_count": 25,
   "metadata": {},
   "outputs": [
    {
     "data": {
      "text/plain": [
       "[19, 0, 0]"
      ]
     },
     "execution_count": 25,
     "metadata": {},
     "output_type": "execute_result"
    }
   ],
   "source": [
    "li"
   ]
  },
  {
   "cell_type": "code",
   "execution_count": 12,
   "metadata": {},
   "outputs": [
    {
     "data": {
      "text/plain": [
       "3"
      ]
     },
     "execution_count": 12,
     "metadata": {},
     "output_type": "execute_result"
    }
   ],
   "source": [
    "k = 6\n",
    "li = [0, 0, 19]\n",
    "\n",
    "19 //  k"
   ]
  },
  {
   "cell_type": "code",
   "execution_count": 14,
   "metadata": {},
   "outputs": [
    {
     "data": {
      "text/plain": [
       "19"
      ]
     },
     "execution_count": 14,
     "metadata": {},
     "output_type": "execute_result"
    }
   ],
   "source": [
    "5 4 7 38"
   ]
  },
  {
   "cell_type": "code",
   "execution_count": 21,
   "metadata": {},
   "outputs": [
    {
     "data": {
      "text/plain": [
       "7"
      ]
     },
     "execution_count": 21,
     "metadata": {},
     "output_type": "execute_result"
    }
   ],
   "source": [
    "[3, 3, 3, 38 - 9]\n",
    "\n",
    "(38 - 9) // 4"
   ]
  },
  {
   "cell_type": "code",
   "execution_count": 16,
   "metadata": {},
   "outputs": [
    {
     "data": {
      "text/plain": [
       "2"
      ]
     },
     "execution_count": 16,
     "metadata": {},
     "output_type": "execute_result"
    }
   ],
   "source": [
    "38 % 4"
   ]
  },
  {
   "cell_type": "code",
   "execution_count": 15,
   "metadata": {},
   "outputs": [
    {
     "data": {
      "text/plain": [
       "9"
      ]
     },
     "execution_count": 15,
     "metadata": {},
     "output_type": "execute_result"
    }
   ],
   "source": [
    "38 // 4"
   ]
  },
  {
   "cell_type": "markdown",
   "metadata": {},
   "source": [
    "C"
   ]
  },
  {
   "cell_type": "code",
   "execution_count": 117,
   "metadata": {},
   "outputs": [
    {
     "name": "stdout",
     "output_type": "stream",
     "text": [
      "56\n"
     ]
    }
   ],
   "source": [
    "def get_value(li):\n",
    "    n = len(li)\n",
    "    \n",
    "    fv = -1\n",
    "    c = 0\n",
    "    for i in range(n):\n",
    "        if li[i] != fv:\n",
    "            fv = li[i]\n",
    "            c += 1\n",
    "            \n",
    "    return c\n",
    "        \n",
    "\n",
    "n, m = 6, 5\n",
    "#           6\n",
    "li = [1, 2, 3, 4, 5, 6]\n",
    "w = [0] * n\n",
    "\n",
    "c = 0\n",
    "for i in range(n):\n",
    "    for j in range(i, n):\n",
    "        c += get_value(li[i:j + 1])\n",
    "#         if get_value(li[i:j + 1]) != len(li[i:j + 1]):\n",
    "#             print(1)\n",
    "            \n",
    "        for k in range(i, j + 1):\n",
    "            w[k] += 1\n",
    "        \n",
    "print(c)"
   ]
  },
  {
   "cell_type": "markdown",
   "metadata": {},
   "source": [
    "D"
   ]
  },
  {
   "cell_type": "code",
   "execution_count": null,
   "metadata": {},
   "outputs": [],
   "source": [
    "n, q = map(int, input().split())\n",
    "li = [list(map(int, input().split())) for _ in range(q)]\n",
    "\n",
    "li.sort(key=lambda x: x[])"
   ]
  },
  {
   "cell_type": "code",
   "execution_count": null,
   "metadata": {},
   "outputs": [],
   "source": [
    "0 0 0 0 0\n",
    "\n",
    "\n",
    "5 1 1001\n",
    "5 2 1011\n",
    "5 3 1100\n",
    "\n",
    "0001 0011 0100 0000 1000\n",
    "\n",
    "4 1 0001\n",
    "4 2 0011\n",
    "쿼리들 &   0001\n",
    "1 & 2      0001 \n",
    "\n",
    "0001 0011 0100 0000 0000"
   ]
  },
  {
   "cell_type": "code",
   "execution_count": null,
   "metadata": {},
   "outputs": [],
   "source": [
    "0 0 0 0 0\n",
    "\n",
    "\n",
    "5 1 1000\n",
    "5 2 1011\n",
    "5 3 1100\n",
    "\n",
    "0000 0011 0100 0000 1000\n",
    "\n",
    "4 1 0001\n",
    "4 2 0011\n",
    "쿼리들 &   0001\n",
    "1 & 2      0000\n",
    "\n",
    "0000 0011 0100 0001 1000"
   ]
  },
  {
   "cell_type": "code",
   "execution_count": 181,
   "metadata": {},
   "outputs": [
    {
     "name": "stdout",
     "output_type": "stream",
     "text": [
      "4 4\n",
      "1 1 4\n",
      "2 2 4\n",
      "3 3 4\n",
      "1 4 5\n",
      "4 4 4 1\n"
     ]
    }
   ],
   "source": [
    "import sys\n",
    "# input = lambda: sys.stdin.readline().rstrip()\n",
    "\n",
    "def add_b(li, num):\n",
    "    bnum = bin(num)\n",
    "    cur = 0\n",
    "    for i in range(len(bnum) - 1, 1, -1):\n",
    "        if bnum[i] == '1':\n",
    "            li[cur] |= 1           \n",
    "        cur += 1\n",
    "        \n",
    "def and_b(li, num_or_nli):\n",
    "    if type(num_or_nli) == int:\n",
    "        num = num_or_nli\n",
    "        bnum = bin(num)\n",
    "        cur = 0\n",
    "        for i in range(len(bnum) - 1, 1, -1):\n",
    "            if bnum[i] == '0':\n",
    "                li[cur] = 0\n",
    "            cur += 1\n",
    "        for ncur in range(cur, 31):\n",
    "            li[ncur] = 0\n",
    "    else:\n",
    "        nli = num_or_nli\n",
    "        for i in range(31):\n",
    "            if nli[i] == 0:\n",
    "                li[i] = 0\n",
    "\n",
    "get_value = lambda x: int(x) - 1\n",
    "\n",
    "n, q = map(int, input().split())\n",
    "oli = [list(map(get_value, input().split())) for _ in range(q)]\n",
    "\n",
    "qus = [[] for _ in range(n)]\n",
    "r = [[0] * 31 for _ in range(n)]\n",
    "for i, j, x in oli:\n",
    "    x += 1\n",
    "    \n",
    "    if i == j:\n",
    "        add_b(r[i], x)\n",
    "    else:\n",
    "        qus[max(i, j)].append((min(i, j), x))\n",
    "\n",
    "for max_num in range(n - 1, 0, -1):\n",
    "    if not qus[max_num]:\n",
    "        continue\n",
    "    \n",
    "    qu_and = [1] * 31\n",
    "    mins_and = [1] * 31\n",
    "    for min_num, x in qus[max_num]:\n",
    "        and_b(qu_and, x)\n",
    "        and_b(mins_and, r[min_num])\n",
    "        \n",
    "    for min_num, x in qus[max_num]:\n",
    "        cur = 0\n",
    "        bx = bin(x)\n",
    "        for i in range(len(bx) - 1, 1, -1):\n",
    "            if bx[i] == '1':\n",
    "                if qu_and[cur] == 0:\n",
    "                    r[min_num][cur] = 1\n",
    "                elif qu_and[cur] == 1:\n",
    "                    if mins_and[cur] == 0:\n",
    "                        r[max_num][cur] = 1\n",
    "            cur += 1\n",
    "                        \n",
    "result = [0] * n\n",
    "for i in range(n):\n",
    "    temp = 0\n",
    "    cur_w = 1\n",
    "    for num in range(31):\n",
    "        if r[i][num] == 1:\n",
    "            temp += cur_w\n",
    "        cur_w *= 2\n",
    "        \n",
    "    result[i] = temp\n",
    "        \n",
    "print(*result)"
   ]
  },
  {
   "cell_type": "code",
   "execution_count": 182,
   "metadata": {},
   "outputs": [
    {
     "name": "stdout",
     "output_type": "stream",
     "text": [
      "4 3\n",
      "1 2 3\n",
      "1 3 2\n",
      "4 1 2\n",
      "0 3 2 2\n"
     ]
    }
   ],
   "source": [
    "import sys\n",
    "# input = lambda: sys.stdin.readline().rstrip()\n",
    "\n",
    "def add_b(li, num):\n",
    "    bnum = bin(num)\n",
    "    cur = 0\n",
    "    for i in range(len(bnum) - 1, 1, -1):\n",
    "        if bnum[i] == '1':\n",
    "            li[cur] |= 1           \n",
    "        cur += 1\n",
    "        \n",
    "def and_b(li, num_or_nli):\n",
    "    if type(num_or_nli) == int:\n",
    "        num = num_or_nli\n",
    "        bnum = bin(num)\n",
    "        cur = 0\n",
    "        for i in range(len(bnum) - 1, 1, -1):\n",
    "            if bnum[i] == '0':\n",
    "                li[cur] = 0\n",
    "            cur += 1\n",
    "        for ncur in range(cur, 31):\n",
    "            li[ncur] = 0\n",
    "    else:\n",
    "        nli = num_or_nli\n",
    "        for i in range(31):\n",
    "            if nli[i] == 0:\n",
    "                li[i] = 0\n",
    "\n",
    "get_value = lambda x: int(x) - 1\n",
    "\n",
    "n, q = map(int, input().split())\n",
    "oli = [list(map(get_value, input().split())) for _ in range(q)]\n",
    "\n",
    "qus = [[] for _ in range(n)]\n",
    "r = [[0] * 31 for _ in range(n)]\n",
    "for i, j, x in oli:\n",
    "    x += 1\n",
    "    \n",
    "    if i == j:\n",
    "        add_b(r[i], x)\n",
    "    else:\n",
    "        qus[max(i, j)].append((min(i, j), x))\n",
    "\n",
    "for max_num in range(n - 1, 0, -1):\n",
    "    if not qus[max_num]:\n",
    "        continue\n",
    "    \n",
    "    qu_and = [1] * 31\n",
    "    mins_and = [1] * 31\n",
    "    for min_num, x in qus[max_num]:\n",
    "        and_b(qu_and, x)\n",
    "        and_b(mins_and, r[min_num])\n",
    "        \n",
    "    for min_num, x in qus[max_num]:\n",
    "        cur = 0\n",
    "        bx = bin(x)\n",
    "        for i in range(len(bx) - 1, 1, -1):\n",
    "            if bx[i] == '1':\n",
    "                if qu_and[cur] == 1:\n",
    "                    if mins_and[cur] == 0:\n",
    "                        r[max_num][cur] = 1\n",
    "            cur += 1      \n",
    "            \n",
    "for max_num in range(n):\n",
    "    if not qus[max_num]:\n",
    "        continue\n",
    "    \n",
    "    qu_and = [1] * 31\n",
    "    mins_and = [1] * 31\n",
    "    for min_num, x in qus[max_num]:\n",
    "        and_b(qu_and, x)\n",
    "        and_b(mins_and, r[min_num])\n",
    "        \n",
    "    for min_num, x in qus[max_num]:\n",
    "        cur = 0\n",
    "        bx = bin(x)\n",
    "        for i in range(len(bx) - 1, 1, -1):\n",
    "            if bx[i] == '1':\n",
    "                if qu_and[cur] == 0:\n",
    "                    r[min_num][cur] = 1\n",
    "            cur += 1            \n",
    "\n",
    "                \n",
    "result = [0] * n\n",
    "for i in range(n):\n",
    "    temp = 0\n",
    "    cur_w = 1\n",
    "    for num in range(31):\n",
    "        if r[i][num] == 1:\n",
    "            temp += cur_w\n",
    "        cur_w *= 2\n",
    "        \n",
    "    result[i] = temp\n",
    "        \n",
    "print(*result)"
   ]
  },
  {
   "cell_type": "code",
   "execution_count": 156,
   "metadata": {},
   "outputs": [
    {
     "data": {
      "text/plain": [
       "[[], [(0, 2)], [(0, 1)], [(0, 1)]]"
      ]
     },
     "execution_count": 156,
     "metadata": {},
     "output_type": "execute_result"
    }
   ],
   "source": [
    "4 4\n",
    "1 1 4\n",
    "2 2 4\n",
    "3 3 4\n",
    "1 4 4\n",
    "4 4 4 0"
   ]
  },
  {
   "cell_type": "code",
   "execution_count": 164,
   "metadata": {},
   "outputs": [
    {
     "name": "stdout",
     "output_type": "stream",
     "text": [
      "[[0, 0, 0, 0, 0, 0, 0, 0, 0, 0, 0, 0, 0, 0, 0, 0, 0, 0, 0, 0, 0, 0, 0, 0, 0, 0, 0, 0, 0, 0, 0], [1, 1, 0, 0, 0, 0, 0, 0, 0, 0, 0, 0, 0, 0, 0, 0, 0, 0, 0, 0, 0, 0, 0, 0, 0, 0, 0, 0, 0, 0, 0], [0, 1, 0, 0, 0, 0, 0, 0, 0, 0, 0, 0, 0, 0, 0, 0, 0, 0, 0, 0, 0, 0, 0, 0, 0, 0, 0, 0, 0, 0, 0], [0, 1, 0, 0, 0, 0, 0, 0, 0, 0, 0, 0, 0, 0, 0, 0, 0, 0, 0, 0, 0, 0, 0, 0, 0, 0, 0, 0, 0, 0, 0]]\n"
     ]
    }
   ],
   "source": [
    "3 3 3 3"
   ]
  },
  {
   "cell_type": "code",
   "execution_count": 169,
   "metadata": {},
   "outputs": [
    {
     "data": {
      "text/plain": [
       "[0, 3, 2, 2]"
      ]
     },
     "execution_count": 169,
     "metadata": {},
     "output_type": "execute_result"
    }
   ],
   "source": [
    "result = [0] * n\n",
    "for i in range(n):\n",
    "    temp = 0\n",
    "    cur_w = 1\n",
    "    for num in range(31):\n",
    "        if r[i][num] == 1:\n",
    "            temp += cur_w\n",
    "        cur_w *= 2\n",
    "        \n",
    "    result[i] = temp\n",
    "        \n",
    "result"
   ]
  },
  {
   "cell_type": "code",
   "execution_count": null,
   "metadata": {},
   "outputs": [],
   "source": [
    "일단 max(a, b) 기준으로 모아놓음\n",
    "큰 것부터 보면서 모든 쿼리들의 &를 구함\n",
    "또한 각 쿼리들의 작은 수들의 &를 구함\n",
    "\n",
    "각 쿼리에 모든 쿼리들의 & 결과를 빼고 뺀 결과를 그 중 작은 수에 추가해줌\n",
    "모든 쿼리들의 &들 중 각 쿼리들의 작은 수들의 &로 커버하지 못하는 것은 큰 수에 추가해줌"
   ]
  }
 ],
 "metadata": {
  "kernelspec": {
   "display_name": "Python 3",
   "language": "python",
   "name": "python3"
  },
  "language_info": {
   "codemirror_mode": {
    "name": "ipython",
    "version": 3
   },
   "file_extension": ".py",
   "mimetype": "text/x-python",
   "name": "python",
   "nbconvert_exporter": "python",
   "pygments_lexer": "ipython3",
   "version": "3.7.4"
  }
 },
 "nbformat": 4,
 "nbformat_minor": 2
}
