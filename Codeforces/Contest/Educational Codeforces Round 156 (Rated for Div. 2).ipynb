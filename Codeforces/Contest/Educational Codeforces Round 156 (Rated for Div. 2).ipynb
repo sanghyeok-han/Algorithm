{
 "cells": [
  {
   "cell_type": "markdown",
   "id": "759dc6d1",
   "metadata": {},
   "source": [
    "A"
   ]
  },
  {
   "cell_type": "code",
   "execution_count": null,
   "id": "1635be97",
   "metadata": {},
   "outputs": [],
   "source": [
    "10\n",
    "1 1 8\n",
    "\n",
    "9\n",
    "1 1 7\n",
    "\n",
    "8\n",
    "\n",
    "1 2\n"
   ]
  },
  {
   "cell_type": "code",
   "execution_count": 7,
   "id": "ead5a38f",
   "metadata": {},
   "outputs": [
    {
     "name": "stdout",
     "output_type": "stream",
     "text": [
      "9\n",
      "NO\n"
     ]
    }
   ],
   "source": [
    "import io, os, sys\n",
    "input = io.BytesIO(os.read(0, os.fstat(0).st_size)).readline\n",
    "\n",
    "for _ in range(int(input())):\n",
    "    n = int(input())\n",
    "\n",
    "    cand1 = [1, 2, n - 3]\n",
    "    cand2 = [1, 4, n - 5]\n",
    "    cand3 = [2, 5, n - 7]\n",
    "\n",
    "    if cand1[2] >= 1 and cand1[2] != cand1[0] and cand1[2] != cand1[1] and cand1[2] % 3 != 0:\n",
    "        print('YES')\n",
    "        print(*cand1)\n",
    "    elif cand2[2] >= 1 and cand2[2] != cand2[0] and cand2[2] != cand2[1] and cand2[2] % 3 != 0:\n",
    "        print('YES')\n",
    "        print(*cand2)\n",
    "    elif cand3[2] >= 1 and cand3[2] != cand3[0] and cand3[2] != cand3[1] and cand3[2] % 3 != 0:\n",
    "        print('YES')\n",
    "        print(*cand3)\n",
    "    else:\n",
    "        print('NO')"
   ]
  },
  {
   "cell_type": "markdown",
   "id": "108416c5",
   "metadata": {},
   "source": [
    "B"
   ]
  },
  {
   "cell_type": "code",
   "execution_count": 10,
   "id": "ed71adaf",
   "metadata": {},
   "outputs": [
    {
     "name": "stdout",
     "output_type": "stream",
     "text": [
      "3 3\n",
      "1 0\n",
      "-1 6\n",
      "3.605551275463989\n"
     ]
    }
   ],
   "source": [
    "import io, os, sys\n",
    "input = io.BytesIO(os.read(0, os.fstat(0).st_size)).readline\n",
    "\n",
    "def get_dist(a, b):\n",
    "    ax, ay = a\n",
    "    bx, by = b\n",
    "    \n",
    "    return ((ax - bx) ** 2 + (ay - by) ** 2) ** 0.5\n",
    "\n",
    "for _ in range(int(input())):\n",
    "    O = [0, 0]\n",
    "    P = list(map(int, input().split()))\n",
    "    A = list(map(int, input().split()))\n",
    "    B = list(map(int, input().split()))\n",
    "\n",
    "    # OA, PA case\n",
    "    d1 = get_dist(O, A)\n",
    "    d2 = get_dist(P, A)\n",
    "    ra = max(d1, d2)\n",
    "\n",
    "    # OB, PB case\n",
    "    d1 = get_dist(O, B)\n",
    "    d2 = get_dist(P, B)\n",
    "    rb = max(d1, d2)\n",
    "\n",
    "    # OA, PB case\n",
    "    d1 = get_dist(O, A)\n",
    "    d2 = get_dist(P, B)\n",
    "    d3 = get_dist(A, B) / 2\n",
    "\n",
    "    r1 = max(d1, d2, d3)\n",
    "\n",
    "    # OB, PA case\n",
    "    d1 = get_dist(O, B)\n",
    "    d2 = get_dist(P, A)\n",
    "    d3 = get_dist(A, B) / 2\n",
    "\n",
    "    r2 = max(d1, d2, d3)\n",
    "\n",
    "    result = min(ra, rb, r1, r2)\n",
    "\n",
    "    print(result)"
   ]
  },
  {
   "cell_type": "markdown",
   "id": "132743bc",
   "metadata": {},
   "source": [
    "C"
   ]
  },
  {
   "cell_type": "code",
   "execution_count": 63,
   "id": "0e71183e",
   "metadata": {},
   "outputs": [
    {
     "name": "stdout",
     "output_type": "stream",
     "text": [
      "3\n",
      "cab\n",
      "6\n",
      "abcd\n",
      "9\n",
      "x\n",
      "1\n",
      "abx\n"
     ]
    }
   ],
   "source": [
    "import sys\n",
    "input = lambda: sys.stdin.readline().rstrip()\n",
    "\n",
    "result = []\n",
    "\n",
    "for _ in range(int(input())):\n",
    "    s = input()\n",
    "    pos = int(input()) - 1\n",
    "\n",
    "    w = len(s)\n",
    "    cur_covered = w - 1\n",
    "    w -= 1\n",
    "    stack = []\n",
    "    is_end = False\n",
    "    for i in range(len(s)):\n",
    "        if pos <= cur_covered:\n",
    "            for j in range(i, len(s)):\n",
    "                stack.append(s[j])\n",
    "\n",
    "            is_end = True\n",
    "            break\n",
    "\n",
    "        while stack and s[i] < stack[-1]:\n",
    "            stack.pop()\n",
    "            cur_covered += w\n",
    "            w -= 1\n",
    "\n",
    "            if pos <= cur_covered:\n",
    "                for j in range(i, len(s)):\n",
    "                    stack.append(s[j])\n",
    "\n",
    "                is_end = True \n",
    "                break\n",
    "\n",
    "        if is_end:\n",
    "            break\n",
    "        stack.append(s[i])\n",
    "\n",
    "    if not is_end:\n",
    "        while stack:\n",
    "            stack.pop()\n",
    "            cur_covered += w\n",
    "            w -= 1\n",
    "\n",
    "            if pos <= cur_covered:\n",
    "                is_end = True \n",
    "                break\n",
    "\n",
    "    result.append(stack[-(cur_covered - pos + 1)])\n",
    "\n",
    "print(''.join(result))"
   ]
  },
  {
   "cell_type": "markdown",
   "id": "0fe8a5cd",
   "metadata": {},
   "source": [
    "D"
   ]
  },
  {
   "cell_type": "code",
   "execution_count": 207,
   "id": "d0b5d982",
   "metadata": {},
   "outputs": [
    {
     "name": "stdout",
     "output_type": "stream",
     "text": [
      "24\n"
     ]
    }
   ],
   "source": [
    "from itertools import permutations as perm\n",
    "\n",
    "n = 6\n",
    "li = list(range(1, n + 1))\n",
    "#          01234\n",
    "s = ' ' + '<<???'\n",
    "\n",
    "max_v = -1\n",
    "max_v = n + 1\n",
    "c = 0\n",
    "for case in perm(li):\n",
    "    max_v = case[0]\n",
    "    min_v = case[0]\n",
    "    \n",
    "    ip = True\n",
    "    for i in range(1, n):\n",
    "        max_v = max(max_v, case[i])\n",
    "        min_v = min(min_v, case[i])       \n",
    "        \n",
    "        if s[i] == '<' and case[i] != min_v:\n",
    "            ip = False\n",
    "            break\n",
    "        elif s[i] == '>' and case[i] != max_v:\n",
    "            ip = False\n",
    "            break\n",
    "        elif s[i] == '?' and (case[i] == min_v or case[i] == max_v):\n",
    "            ip = False\n",
    "            break\n",
    "            \n",
    "    if ip:\n",
    "        c += 1\n",
    "        \n",
    "print(c)"
   ]
  },
  {
   "cell_type": "code",
   "execution_count": 196,
   "id": "20619583",
   "metadata": {},
   "outputs": [
    {
     "data": {
      "text/plain": [
       "2.0"
      ]
     },
     "execution_count": 196,
     "metadata": {},
     "output_type": "execute_result"
    }
   ],
   "source": [
    "24 / 12"
   ]
  },
  {
   "cell_type": "code",
   "execution_count": null,
   "id": "f4c08a46",
   "metadata": {},
   "outputs": [],
   "source": []
  },
  {
   "cell_type": "code",
   "execution_count": 211,
   "id": "de0095d0",
   "metadata": {},
   "outputs": [
    {
     "name": "stdout",
     "output_type": "stream",
     "text": [
      "2 2\n",
      ">\n",
      "1\n",
      "1 ?\n",
      "0\n",
      "1 <\n",
      "1\n"
     ]
    }
   ],
   "source": [
    "from math import factorial as fact\n",
    "import sys\n",
    "# input = lambda: sys.stdin.readline().rstrip()\n",
    "\n",
    "mod = 998244353\n",
    "\n",
    "facts = [0] * 400000\n",
    "facts[0] = 1\n",
    "\n",
    "cur = 1\n",
    "for i in range(1, 400000):\n",
    "    cur *= i\n",
    "    cur %= mod\n",
    "    \n",
    "    facts[i] = cur\n",
    "\n",
    "n, m = map(int, input().split())\n",
    "s = list(input())\n",
    "\n",
    "is_zero = False\n",
    "if s[0] == '?':\n",
    "    is_zero = True\n",
    "\n",
    "num = facts[n - 2]\n",
    "\n",
    "denom = 1\n",
    "for i in range(1, n - 1):\n",
    "    if s[i] != '?':\n",
    "        denom *= i\n",
    "        denom %= mod\n",
    "    \n",
    "result = num * pow(denom, mod - 2, mod)\n",
    "result %= mod\n",
    "\n",
    "if is_zero:\n",
    "    print(0)\n",
    "else:\n",
    "    print(result)\n",
    "\n",
    "for _ in range(m):\n",
    "    index, alpha = input().split()\n",
    "    index = int(index) - 1\n",
    "    \n",
    "    if s[index] != '?' and alpha == '?':\n",
    "        s[index] = '?'\n",
    "        \n",
    "        if index == 0:\n",
    "            is_zero = True\n",
    "        else:\n",
    "            result *= index\n",
    "            result %= mod\n",
    "    elif s[index] == '?' and alpha != '?':\n",
    "        s[index] = '>'\n",
    "        \n",
    "        if index == 0:\n",
    "            is_zero = False\n",
    "        else:\n",
    "            result *= pow(index, mod - 2, mod)\n",
    "            result %= mod\n",
    "            \n",
    "    if is_zero:\n",
    "        print(0)\n",
    "    else:\n",
    "        print(result)"
   ]
  },
  {
   "cell_type": "code",
   "execution_count": 205,
   "id": "bef715d4",
   "metadata": {},
   "outputs": [
    {
     "data": {
      "text/plain": [
       "(24, 15)"
      ]
     },
     "execution_count": 205,
     "metadata": {},
     "output_type": "execute_result"
    }
   ],
   "source": [
    "num, denom"
   ]
  },
  {
   "cell_type": "code",
   "execution_count": 198,
   "id": "b3d520ef",
   "metadata": {},
   "outputs": [
    {
     "data": {
      "text/plain": [
       "15"
      ]
     },
     "execution_count": 198,
     "metadata": {},
     "output_type": "execute_result"
    }
   ],
   "source": [
    "denom"
   ]
  },
  {
   "cell_type": "code",
   "execution_count": 153,
   "id": "4bed6a0d",
   "metadata": {},
   "outputs": [
    {
     "data": {
      "text/plain": [
       "720"
      ]
     },
     "execution_count": 153,
     "metadata": {},
     "output_type": "execute_result"
    }
   ],
   "source": [
    "6*5*4*3*2*1"
   ]
  },
  {
   "cell_type": "code",
   "execution_count": 152,
   "id": "66603ef4",
   "metadata": {},
   "outputs": [
    {
     "data": {
      "text/plain": [
       "720"
      ]
     },
     "execution_count": 152,
     "metadata": {},
     "output_type": "execute_result"
    }
   ],
   "source": [
    "fact(n)"
   ]
  },
  {
   "cell_type": "code",
   "execution_count": 151,
   "id": "c69dcb7d",
   "metadata": {},
   "outputs": [
    {
     "data": {
      "text/plain": [
       "48"
      ]
     },
     "execution_count": 151,
     "metadata": {},
     "output_type": "execute_result"
    }
   ],
   "source": [
    "denom"
   ]
  },
  {
   "cell_type": "code",
   "execution_count": 148,
   "id": "3b9a21cd",
   "metadata": {},
   "outputs": [
    {
     "data": {
      "text/plain": [
       "48.0"
      ]
     },
     "execution_count": 148,
     "metadata": {},
     "output_type": "execute_result"
    }
   ],
   "source": [
    "720 /3 / 5"
   ]
  },
  {
   "cell_type": "code",
   "execution_count": null,
   "id": "62be99e6",
   "metadata": {},
   "outputs": [],
   "source": [
    "240, 60"
   ]
  },
  {
   "cell_type": "code",
   "execution_count": 144,
   "id": "ca261e6f",
   "metadata": {},
   "outputs": [
    {
     "data": {
      "text/plain": [
       "3.0"
      ]
     },
     "execution_count": 144,
     "metadata": {},
     "output_type": "execute_result"
    }
   ],
   "source": [
    "720 / 240"
   ]
  },
  {
   "cell_type": "code",
   "execution_count": 101,
   "id": "928f95e8",
   "metadata": {},
   "outputs": [
    {
     "data": {
      "text/plain": [
       "4.0"
      ]
     },
     "execution_count": 101,
     "metadata": {},
     "output_type": "execute_result"
    }
   ],
   "source": [
    "720, 360, 240, 180, 144"
   ]
  },
  {
   "cell_type": "code",
   "execution_count": null,
   "id": "4096742b",
   "metadata": {},
   "outputs": [],
   "source": [
    "360, 120, 90, 72, 60"
   ]
  },
  {
   "cell_type": "code",
   "execution_count": 135,
   "id": "206d2f7b",
   "metadata": {},
   "outputs": [
    {
     "data": {
      "text/plain": [
       "6.0"
      ]
     },
     "execution_count": 135,
     "metadata": {},
     "output_type": "execute_result"
    }
   ],
   "source": [
    "360 / 60"
   ]
  }
 ],
 "metadata": {
  "kernelspec": {
   "display_name": "Python 3 (ipykernel)",
   "language": "python",
   "name": "python3"
  },
  "language_info": {
   "codemirror_mode": {
    "name": "ipython",
    "version": 3
   },
   "file_extension": ".py",
   "mimetype": "text/x-python",
   "name": "python",
   "nbconvert_exporter": "python",
   "pygments_lexer": "ipython3",
   "version": "3.11.5"
  }
 },
 "nbformat": 4,
 "nbformat_minor": 5
}
