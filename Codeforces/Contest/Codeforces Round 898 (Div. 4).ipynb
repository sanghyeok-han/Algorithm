{
 "cells": [
  {
   "cell_type": "markdown",
   "metadata": {},
   "source": [
    "A"
   ]
  },
  {
   "cell_type": "code",
   "execution_count": null,
   "metadata": {},
   "outputs": [],
   "source": [
    "for _ in range(int(input())):\n",
    "    s = input()\n",
    "\n",
    "    if s == 'bca' or s == 'cab':\n",
    "        print('NO')\n",
    "    else:\n",
    "        print('YES')"
   ]
  },
  {
   "cell_type": "markdown",
   "metadata": {},
   "source": [
    "B"
   ]
  },
  {
   "cell_type": "code",
   "execution_count": 6,
   "metadata": {},
   "outputs": [
    {
     "name": "stdout",
     "output_type": "stream",
     "text": [
      "4\n",
      "2 2 1 2\n",
      "16\n"
     ]
    }
   ],
   "source": [
    "import io, os, sys\n",
    "input = io.BytesIO(os.read(0, os.fstat(0).st_size)).readline\n",
    "\n",
    "for _ in range(int(input())):\n",
    "    n = int(input())\n",
    "    li = sorted(map(int, input().split()))\n",
    "\n",
    "    li[0] += 1\n",
    "\n",
    "    cur = 1\n",
    "    for v in li:\n",
    "        cur *= v\n",
    "\n",
    "    print(cur)"
   ]
  },
  {
   "cell_type": "markdown",
   "metadata": {},
   "source": [
    "C"
   ]
  },
  {
   "cell_type": "code",
   "execution_count": null,
   "metadata": {},
   "outputs": [],
   "source": [
    "import sys\n",
    "input = lambda: sys.stdin.readline().rstrip()\n",
    "\n",
    "def get_sc(x, y):\n",
    "    if x >= 5:\n",
    "        x = 9 - x\n",
    "    if y >= 5:\n",
    "        y = 9 - y\n",
    "        \n",
    "    for i in range(5):\n",
    "        if x <= i or y <= i:\n",
    "            sc = i + 1\n",
    "            break\n",
    "            \n",
    "    return sc\n",
    "\n",
    "for _ in range(int(input())):\n",
    "    li = [input() for _ in range(10)]\n",
    "    total_sc = 0\n",
    "    for i in range(10):\n",
    "        for j in range(10):\n",
    "            if li[i][j] == 'X':\n",
    "                total_sc += get_sc(i, j)\n",
    "\n",
    "    print(total_sc)"
   ]
  },
  {
   "cell_type": "markdown",
   "metadata": {},
   "source": [
    "D"
   ]
  },
  {
   "cell_type": "code",
   "execution_count": 8,
   "metadata": {},
   "outputs": [
    {
     "name": "stdout",
     "output_type": "stream",
     "text": [
      "7 3\n",
      "WWBWBWW\n",
      "1\n"
     ]
    }
   ],
   "source": [
    "import sys\n",
    "input = lambda: sys.stdin.readline().rstrip()\n",
    "\n",
    "for _ in range(int(input())):\n",
    "    n, k = map(int, input().split())\n",
    "    s = input()\n",
    "\n",
    "    bs = []\n",
    "    for i in range(n):\n",
    "        if s[i] == 'B':\n",
    "            bs.append(i)\n",
    "\n",
    "    end = -1\n",
    "    result = 0\n",
    "    for v in bs:\n",
    "        if v <= end:\n",
    "            continue\n",
    "        result += 1\n",
    "        end = v + k - 1\n",
    "\n",
    "    print(result)"
   ]
  },
  {
   "cell_type": "markdown",
   "metadata": {},
   "source": [
    "E"
   ]
  },
  {
   "cell_type": "code",
   "execution_count": null,
   "metadata": {},
   "outputs": [],
   "source": [
    "import io, os, sys\n",
    "input = io.BytesIO(os.read(0, os.fstat(0).st_size)).readline\n",
    "\n",
    "def check(mid):\n",
    "    amount = 0\n",
    "    for v in li:\n",
    "        if v <= mid:\n",
    "            diff = mid - v\n",
    "            amount += diff\n",
    "            \n",
    "    if amount <= x:\n",
    "        return True\n",
    "    return False\n",
    "\n",
    "for _ in range(int(input())):\n",
    "    n, x = map(int, input().split())\n",
    "    li = list(map(int, input().split()))\n",
    "\n",
    "    start = 1\n",
    "    end = int(1e20)\n",
    "    result = end\n",
    "    while start <= end:\n",
    "        mid = (start + end) // 2\n",
    "\n",
    "        if check(mid):\n",
    "            result = mid\n",
    "            start = mid + 1\n",
    "        else:\n",
    "            end = mid - 1\n",
    "\n",
    "    print(result)"
   ]
  },
  {
   "cell_type": "markdown",
   "metadata": {},
   "source": [
    "F"
   ]
  },
  {
   "cell_type": "code",
   "execution_count": 28,
   "metadata": {},
   "outputs": [
    {
     "name": "stdout",
     "output_type": "stream",
     "text": [
      "5 12\n",
      "3 2 4 1 8\n",
      "4 4 2 4 1\n",
      "3\n"
     ]
    }
   ],
   "source": [
    "from collections import deque\n",
    "import io, os, sys\n",
    "input = io.BytesIO(os.read(0, os.fstat(0).st_size)).readline\n",
    "\n",
    "for _ in range(int(input())):\n",
    "    n, k = map(int, input().split())\n",
    "    A = list(map(int, input().split()))\n",
    "    H = list(map(int, input().split()))\n",
    "\n",
    "    deq = deque()\n",
    "    max_len = 0\n",
    "    if A[0] <= k:\n",
    "        cur = A[0]\n",
    "        deq.append(A[0])\n",
    "        max_len = 1\n",
    "    else:\n",
    "        cur = 0    \n",
    "\n",
    "    for i in range(1, n):\n",
    "        if H[i - 1] % H[i] == 0:\n",
    "            while deq and cur + A[i] > k:\n",
    "                cur -= deq.popleft()\n",
    "\n",
    "            if cur + A[i] <= k:\n",
    "                cur += A[i]\n",
    "                deq.append(A[i])\n",
    "                max_len = max(max_len, len(deq))\n",
    "        else:\n",
    "            deq = deque()\n",
    "            if A[i] <= k:\n",
    "                cur = A[i]\n",
    "                deq.append(A[i])\n",
    "                max_len = max(max_len, len(deq))\n",
    "            else:\n",
    "                cur = 0            \n",
    "\n",
    "    print(max_len)"
   ]
  },
  {
   "cell_type": "markdown",
   "metadata": {},
   "source": [
    "G"
   ]
  },
  {
   "cell_type": "code",
   "execution_count": 35,
   "metadata": {},
   "outputs": [
    {
     "name": "stdout",
     "output_type": "stream",
     "text": [
      "AAAAAB\n",
      "5\n"
     ]
    }
   ],
   "source": [
    "import sys\n",
    "input = lambda: sys.stdin.readline().rstrip()\n",
    "\n",
    "for _ in range(int(input())):\n",
    "    s = input()\n",
    "\n",
    "    cont_A = 0\n",
    "    li = []\n",
    "    b_c = 0\n",
    "    for v in s:\n",
    "        if v == 'A':\n",
    "            cont_A += 1\n",
    "        else:\n",
    "            b_c += 1\n",
    "            if cont_A:\n",
    "                li.append(cont_A)\n",
    "                cont_A = 0\n",
    "\n",
    "    if cont_A:\n",
    "        li.append(cont_A)\n",
    "\n",
    "    if b_c >= len(li):\n",
    "        result = sum(li)\n",
    "    else:\n",
    "        result = sum(li) - min(li)\n",
    "\n",
    "    print(result)"
   ]
  },
  {
   "cell_type": "markdown",
   "metadata": {},
   "source": [
    "H"
   ]
  },
  {
   "cell_type": "markdown",
   "metadata": {},
   "source": [
    "1. 사이클 속한 노드들 찾기\n",
    "2. a, b 각각 현재 노드에서 사이클 속한 노드까지의 거리 구하기\n",
    "3. 사이클에 속한 해당 노드끼리의 최단 거리 구하기"
   ]
  },
  {
   "cell_type": "code",
   "execution_count": 55,
   "metadata": {},
   "outputs": [
    {
     "name": "stdout",
     "output_type": "stream",
     "text": [
      "1\n",
      "3 2 1\n",
      "2 1\n",
      "3 2\n",
      "1 3\n",
      "YES\n"
     ]
    }
   ],
   "source": [
    "from collections import deque\n",
    "import io, os, sys\n",
    "input = io.BytesIO(os.read(0, os.fstat(0).st_size)).readline\n",
    "\n",
    "## PYRIVAL BOOTSTRAP\n",
    "# https://github.com/cheran-senthil/PyRival/blob/master/pyrival/misc/bootstrap.py\n",
    "# This decorator allows for recursion without actually doing recursion\n",
    "## @bootstrap, yield when getting or returning values in recursive function, and return is necessary\n",
    "from types import GeneratorType\n",
    "\n",
    "def bootstrap(f, stack=[]):\n",
    "    def wrappedfunc(*args, **kwargs):\n",
    "        if stack:\n",
    "            return f(*args, **kwargs)\n",
    "        else:\n",
    "            to = f(*args, **kwargs)\n",
    "            while True:\n",
    "                if type(to) is GeneratorType:\n",
    "                    stack.append(to)\n",
    "                    to = next(to)\n",
    "                else:\n",
    "                    stack.pop()\n",
    "                    if not stack:\n",
    "                        break\n",
    "                    to = stack[-1].send(to)\n",
    "            return to\n",
    "    return wrappedfunc\n",
    "\n",
    "inf = float('inf')\n",
    "\n",
    "@bootstrap\n",
    "def dfs(value):\n",
    "    global cycle\n",
    "    \n",
    "    on_stack[value] = True\n",
    "    stack.append(value)\n",
    "    \n",
    "    for v in li[value]:\n",
    "        if cycle:\n",
    "            on_stack[value] = False\n",
    "            stack.pop()\n",
    "            yield\n",
    "        \n",
    "        if on_stack[v]:\n",
    "            if len(stack) >= 2 and stack[-2] == v:\n",
    "                continue\n",
    "            else:\n",
    "                for i in range(len(stack) - 1, -1, -1):\n",
    "                    cycle.append(stack[i])\n",
    "                    if stack[i] == v:\n",
    "                        break\n",
    "        else:\n",
    "            yield dfs(v)\n",
    "            \n",
    "    on_stack[value] = False\n",
    "    stack.pop()\n",
    "    \n",
    "    yield\n",
    "    \n",
    "def bfs(start):\n",
    "    dists = [inf] * (n + 1)\n",
    "    dists[start] = 0\n",
    "    \n",
    "    queue = deque()\n",
    "    queue.append(start)\n",
    "    while queue:\n",
    "        value = queue.popleft()\n",
    "        \n",
    "        if value in cycle_st:\n",
    "            return value, dists[value]\n",
    "        \n",
    "        for v in li[value]:\n",
    "            if dists[v] == inf:\n",
    "                dists[v] = dists[value] + 1\n",
    "                queue.append(v)\n",
    "    \n",
    "for _ in range(int(input())):\n",
    "    n, a, b = map(int, input().split())\n",
    "\n",
    "    li = [[] for _ in range(n + 1)]\n",
    "    for _ in range(n):\n",
    "        u, v = map(int, input().split())\n",
    "        li[u].append(v)\n",
    "        li[v].append(u)\n",
    "\n",
    "    on_stack = [False] * (n + 1)\n",
    "    stack = []\n",
    "    cycle = []\n",
    "\n",
    "    dfs(1)\n",
    "\n",
    "    cycle_st = set(cycle)\n",
    "\n",
    "    a_dist = 0\n",
    "    b_dist = 0\n",
    "\n",
    "    a_to_in_cycle = -1\n",
    "    if a in cycle_st:\n",
    "        a_dist = 0\n",
    "        a_to_in_cycle = a\n",
    "    else:\n",
    "        a_to_in_cycle, a_dist = bfs(a)\n",
    "\n",
    "    b_to_in_cycle = -1\n",
    "    if b in cycle_st:\n",
    "        b_dist = 0\n",
    "        b_to_in_cycle = b\n",
    "    else:\n",
    "        b_to_in_cycle, b_dist = bfs(b)   \n",
    "\n",
    "    ai, bi = cycle.index(a_to_in_cycle), cycle.index(b_to_in_cycle)\n",
    "    if ai > bi:\n",
    "        ai, bi = bi, ai\n",
    "\n",
    "    cand1 = bi - ai\n",
    "    cand2 = len(cycle) - cand1\n",
    "\n",
    "    c_dist = min(cand1, cand2)\n",
    "\n",
    "    if a_dist + c_dist > b_dist:\n",
    "        print('YES')\n",
    "    else:\n",
    "        print('NO')"
   ]
  }
 ],
 "metadata": {
  "kernelspec": {
   "display_name": "Python 3",
   "language": "python",
   "name": "python3"
  },
  "language_info": {
   "codemirror_mode": {
    "name": "ipython",
    "version": 3
   },
   "file_extension": ".py",
   "mimetype": "text/x-python",
   "name": "python",
   "nbconvert_exporter": "python",
   "pygments_lexer": "ipython3",
   "version": "3.8.3"
  }
 },
 "nbformat": 4,
 "nbformat_minor": 4
}
