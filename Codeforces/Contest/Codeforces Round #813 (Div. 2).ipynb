{
 "cells": [
  {
   "cell_type": "markdown",
   "metadata": {},
   "source": [
    "A"
   ]
  },
  {
   "cell_type": "code",
   "execution_count": 6,
   "metadata": {},
   "outputs": [
    {
     "name": "stdout",
     "output_type": "stream",
     "text": [
      "1 1\n",
      "1\n",
      "0\n"
     ]
    }
   ],
   "source": [
    "import sys\n",
    "input = lambda: sys.stdin.readline().rstrip()\n",
    "\n",
    "for _ in range(int(input())):\n",
    "    n, k = map(int, input().split())\n",
    "    li = list(map(int, input().split()))\n",
    "\n",
    "    cri = k\n",
    "    total = 0\n",
    "    for i in range(k):\n",
    "        if li[i] > cri:\n",
    "            total += 1\n",
    "\n",
    "    print(total)"
   ]
  },
  {
   "cell_type": "markdown",
   "metadata": {},
   "source": [
    "B"
   ]
  },
  {
   "cell_type": "code",
   "execution_count": 11,
   "metadata": {},
   "outputs": [
    {
     "name": "stdout",
     "output_type": "stream",
     "text": [
      "5\n",
      "1 3 2 5 4\n"
     ]
    }
   ],
   "source": [
    "import sys\n",
    "input = lambda: sys.stdin.readline().rstrip()\n",
    "\n",
    "for _ in range(int(input())):\n",
    "    n = int(input())\n",
    "\n",
    "    li = list(range(1, n + 1))\n",
    "    for i in range(n - 1, -1, -2):\n",
    "        if i - 1 >= 0:\n",
    "            li[i], li[i - 1] = li[i - 1], li[i]\n",
    "\n",
    "    print(*li)"
   ]
  },
  {
   "cell_type": "markdown",
   "metadata": {},
   "source": [
    "C"
   ]
  },
  {
   "cell_type": "code",
   "execution_count": null,
   "metadata": {},
   "outputs": [],
   "source": [
    "3 4 2\n",
    "\n",
    "뒤에서부터 확인하면서 i번째보다 i - 1번째 수가 더 크면 0으로 바꿔야함.\n",
    "또한 그 이전 값도 전부 0으로 바꿔야 함\n",
    "\n",
    "0으로 바꿀 값은 전부 set에 넣음\n",
    "뒤쪽에서부터 다시 돌려서 0으로 바꿀 값이 나오면 그 처음 나온 값부터 전부 또 set에 넣음\n",
    "\n",
    "set의 길이를 출력함"
   ]
  },
  {
   "cell_type": "code",
   "execution_count": 16,
   "metadata": {},
   "outputs": [
    {
     "name": "stdout",
     "output_type": "stream",
     "text": [
      "1\n",
      "1\n",
      "0\n"
     ]
    }
   ],
   "source": [
    "import sys\n",
    "input = lambda: sys.stdin.readline().rstrip()\n",
    "\n",
    "for _ in range(int(input())):\n",
    "    n = int(input())\n",
    "    li = list(map(int, input().split()))\n",
    "\n",
    "    to_0 = set()\n",
    "    for i in range(n - 1, 0, -1):\n",
    "        if li[i - 1] > li[i]:\n",
    "            for j in range(i - 1, -1, -1):\n",
    "                to_0.add(li[j])\n",
    "            break\n",
    "\n",
    "    for i in range(n - 1, -1, -1):\n",
    "        if li[i] in to_0:\n",
    "            for j in range(i - 1, -1, -1):\n",
    "                to_0.add(li[j])\n",
    "            break\n",
    "\n",
    "    print(len(to_0))"
   ]
  },
  {
   "cell_type": "markdown",
   "metadata": {},
   "source": [
    "D"
   ]
  },
  {
   "cell_type": "code",
   "execution_count": null,
   "metadata": {},
   "outputs": [],
   "source": [
    "어차피 comple"
   ]
  },
  {
   "cell_type": "code",
   "execution_count": 36,
   "metadata": {},
   "outputs": [
    {
     "name": "stdout",
     "output_type": "stream",
     "text": [
      "500000000 [1000000000, 1000000000, 1000000000, 1] False 1\n",
      "249999999 [1000000000, 1000000000, 1000000000, 1] False 1\n",
      "124999999 [1000000000, 1000000000, 1000000000, 1] False 1\n",
      "62499999 [1000000000, 1000000000, 1000000000, 1] False 1\n",
      "31249999 [1000000000, 1000000000, 1000000000, 1] False 1\n",
      "15624999 [1000000000, 1000000000, 1000000000, 1] False 1\n",
      "7812499 [1000000000, 1000000000, 1000000000, 1] False 1\n",
      "3906249 [1000000000, 1000000000, 1000000000, 1] False 1\n",
      "1953124 [1000000000, 1000000000, 1000000000, 1] False 1\n",
      "976561 [1000000000, 1000000000, 1000000000, 1] False 1\n",
      "488280 [1000000000, 1000000000, 1000000000, 1] False 1\n",
      "244139 [1000000000, 1000000000, 1000000000, 1] False 1\n",
      "122069 [1000000000, 1000000000, 1000000000, 1] False 1\n",
      "61034 [1000000000, 1000000000, 1000000000, 1] False 1\n",
      "30516 [1000000000, 1000000000, 1000000000, 1] False 1\n",
      "15257 [1000000000, 1000000000, 1000000000, 1] False 1\n",
      "7628 [1000000000, 1000000000, 1000000000, 1] False 1\n",
      "3813 [1000000000, 1000000000, 1000000000, 1] False 1\n",
      "1906 [1000000000, 1000000000, 1000000000, 1] False 1\n",
      "952 [1000000000, 1000000000, 1000000000, 1] False 1\n",
      "475 [1000000000, 1000000000, 1000000000, 1] False 1\n",
      "237 [1000000000, 1000000000, 1000000000, 1] False 1\n",
      "118 [1000000000, 1000000000, 1000000000, 1] False 1\n",
      "58 [1000000000, 1000000000, 1000000000, 1] False 1\n",
      "28 [1000000000, 1000000000, 1000000000, 1] False 1\n",
      "13 [1000000000, 1000000000, 1000000000, 1] False 1\n",
      "6 [1000000000, 1000000000, 1000000000, 1] False 1\n",
      "2 [1, 1, 1, 1] True 1000000000\n",
      "4 [1000000000, 1000000000, 1000000000, 1] False 1000000000\n",
      "3 [1000000000, 1000000000, 1000000000, 1] False 1000000000\n",
      "2\n"
     ]
    }
   ],
   "source": [
    "import sys\n",
    "input = lambda: sys.stdin.readline().rstrip()\n",
    "\n",
    "for _ in range(int(input())):\n",
    "    n, k = map(int, input().split())\n",
    "    li = list(map(int, input().split()))\n",
    "\n",
    "    if k == n:\n",
    "        print(1000000000)\n",
    "    else:\n",
    "        e9 = int(1e9)\n",
    "\n",
    "        start = 0\n",
    "        end = e9\n",
    "        result = 0\n",
    "        while start <= end:\n",
    "            mid = (start + end) // 2\n",
    "\n",
    "            to_change = (mid - 1) // 2\n",
    "            nli = li.copy()\n",
    "            nk = k\n",
    "            ip = True        \n",
    "            for i in range(n):\n",
    "                if nli[i] <= to_change:\n",
    "                    nk -= 1\n",
    "                    if nk < 0:\n",
    "                        ip = False\n",
    "                        break\n",
    "                    nli[i] = e9\n",
    "\n",
    "            if ip:\n",
    "                if nk >= 2:\n",
    "                    max_v = e9\n",
    "                elif nk >= 1:\n",
    "                    max_v = max(nli)\n",
    "                else:\n",
    "                    max_v = 0\n",
    "                    for i in range(n - 1):\n",
    "                        v = min(nli[i], nli[i + 1])\n",
    "                        max_v = max(max_v, v)\n",
    "\n",
    "                if max_v < mid:\n",
    "                    ip = False\n",
    "\n",
    "            if ip:\n",
    "                result = mid\n",
    "                start = mid + 1\n",
    "            else:\n",
    "                end = mid - 1\n",
    "\n",
    "        print(result)"
   ]
  },
  {
   "cell_type": "code",
   "execution_count": null,
   "metadata": {},
   "outputs": [],
   "source": [
    "1\n",
    "4 3\n",
    "1 1 1 1\n",
    "1 -> 2"
   ]
  },
  {
   "cell_type": "code",
   "execution_count": null,
   "metadata": {},
   "outputs": [],
   "source": [
    "inf inf inf 1"
   ]
  },
  {
   "cell_type": "code",
   "execution_count": null,
   "metadata": {},
   "outputs": [],
   "source": [
    "3 1\n",
    "10 2 6\n",
    "12"
   ]
  },
  {
   "cell_type": "code",
   "execution_count": null,
   "metadata": {},
   "outputs": [],
   "source": [
    "목표가 10이면 4 이하는 전부 inf로 바꿔야 함\n",
    "목표가 11이면 5 이하는 전부 inf로 바꿔야 함\n",
    "목표가 12이면 5 이하는 전부 inf로 바꿔야 함\n",
    "\n",
    "그 후 남은 i가 남으면 그거 하나를 현재 가장 큰 값 옆에 붙이면 됨\n",
    "남는게 없으면 그대로 확인함"
   ]
  },
  {
   "cell_type": "code",
   "execution_count": 19,
   "metadata": {},
   "outputs": [
    {
     "data": {
      "text/plain": [
       "4"
      ]
     },
     "execution_count": 19,
     "metadata": {},
     "output_type": "execute_result"
    }
   ],
   "source": [
    "(10 - 1) // 2"
   ]
  },
  {
   "cell_type": "markdown",
   "metadata": {},
   "source": [
    "E1"
   ]
  },
  {
   "cell_type": "code",
   "execution_count": 40,
   "metadata": {},
   "outputs": [
    {
     "data": {
      "text/plain": [
       "(54, 54)"
      ]
     },
     "execution_count": 40,
     "metadata": {},
     "output_type": "execute_result"
    }
   ],
   "source": [
    "from math import gcd\n",
    "\n",
    "lcm = lambda a, b: a * b // gcd(a, b)\n",
    "\n",
    "\n",
    "a, b, c = 6, 12, 18\n",
    "a, b, c = 9, 18, 27\n",
    "\n",
    "lcm(lcm(a, b), c), a + b + c"
   ]
  },
  {
   "cell_type": "code",
   "execution_count": 106,
   "metadata": {},
   "outputs": [
    {
     "data": {
      "text/plain": [
       "[1, 2, 3, 4, 6, 7, 12, 14, 21, 28, 42, 84]"
      ]
     },
     "execution_count": 106,
     "metadata": {},
     "output_type": "execute_result"
    }
   ],
   "source": [
    "def get_divisors(num):\n",
    "    divisors = set()\n",
    "    for mod in range(1, int(num ** 0.5) + 1):\n",
    "        if num % mod == 0:\n",
    "            divisors.add(mod)\n",
    "            divisors.add(num // mod)\n",
    "            \n",
    "    return sorted(divisors)\n",
    "\n",
    "get_divisors(84)"
   ]
  },
  {
   "cell_type": "code",
   "execution_count": 133,
   "metadata": {},
   "outputs": [
    {
     "data": {
      "text/plain": [
       "(12, 22)"
      ]
     },
     "execution_count": 133,
     "metadata": {},
     "output_type": "execute_result"
    }
   ],
   "source": [
    "a = 4\n",
    "b = 6\n",
    "\n",
    "a, b, c = 8 * 3, 8 * 6, 8 * 12\n",
    "a, b, c = 8 * 3, 8 * 4, 8 * 12\n",
    "a, b, c = 8 * 3, 8 * 5, 8 * 15\n",
    "a, b, c = 8 * 4, 8 * 8, 8 * 24\n",
    "a, b, c = 4, 8, 24\n",
    "a, b, c = 1, 2, 6\n",
    "a, b, c = 8 * 8, 8 * 12, 8 * 24\n",
    "a, b, c = 4, 6 ,12\n",
    "\n",
    "# a, b, c = 8 * 3, 8 * 9, 8 * 12 x\n",
    "\n",
    "\n",
    "\n",
    "lcm(lcm(a, b), c), a + b + c"
   ]
  },
  {
   "cell_type": "code",
   "execution_count": null,
   "metadata": {},
   "outputs": [],
   "source": [
    "c는 a의 배수, c는 b의 배수"
   ]
  },
  {
   "cell_type": "code",
   "execution_count": 111,
   "metadata": {},
   "outputs": [
    {
     "data": {
      "text/plain": [
       "12.0"
      ]
     },
     "execution_count": 111,
     "metadata": {},
     "output_type": "execute_result"
    }
   ],
   "source": [
    "84 / 7dd"
   ]
  },
  {
   "cell_type": "code",
   "execution_count": 167,
   "metadata": {},
   "outputs": [
    {
     "name": "stdout",
     "output_type": "stream",
     "text": [
      "79041\n"
     ]
    }
   ],
   "source": [
    "def nCk(n, k):\n",
    "    if n < k:\n",
    "        return 0\n",
    "    \n",
    "    if n - k < k:\n",
    "        k = n - k\n",
    "        \n",
    "    num = 1\n",
    "    for i in range(n, n - k, -1):\n",
    "        num *= i\n",
    "    \n",
    "    denom = 1\n",
    "    for i in range(2, k + 1):\n",
    "        denom *= i\n",
    "        \n",
    "    return num // denom\n",
    "\n",
    "l, r = 8, 86\n",
    "\n",
    "total_to_minus = 0\n",
    "for a in range(l, r - 1):\n",
    "    mul = 2\n",
    "    while True:\n",
    "        b = a * mul\n",
    "        if b >= r:\n",
    "            break\n",
    "        \n",
    "        mulmul = 2\n",
    "        while True:\n",
    "            c = b * mulmul\n",
    "            if c > r:\n",
    "                break\n",
    "            total_to_minus += 1\n",
    "            mulmul += 1\n",
    "        mul += 1\n",
    "            \n",
    "result = nCk(r - l + 1, 3) - total_to_minus\n",
    "\n",
    "print(result)"
   ]
  },
  {
   "cell_type": "code",
   "execution_count": 166,
   "metadata": {},
   "outputs": [
    {
     "name": "stdout",
     "output_type": "stream",
     "text": [
      "78991\n"
     ]
    }
   ],
   "source": [
    "from bisect import bisect_left\n",
    "\n",
    "def nCk(n, k):\n",
    "    if n < k:\n",
    "        return 0\n",
    "    \n",
    "    if n - k < k:\n",
    "        k = n - k\n",
    "        \n",
    "    num = 1\n",
    "    for i in range(n, n - k, -1):\n",
    "        num *= i\n",
    "    \n",
    "    denom = 1\n",
    "    for i in range(2, k + 1):\n",
    "        denom *= i\n",
    "        \n",
    "    return num // denom\n",
    "\n",
    "def get_divisors(num):\n",
    "    divisors = set()\n",
    "    for mod in range(1, int(num ** 0.5) + 1):\n",
    "        if num % mod == 0:\n",
    "            divisors.add(mod)\n",
    "            divisors.add(num // mod)\n",
    "    return sorted(divisors)\n",
    "\n",
    "l, r = 8, 86\n",
    "\n",
    "total_to_minus = 0\n",
    "for c in range(l + 2, r + 1):\n",
    "    divisors = get_divisors(c)\n",
    "    min_can_use_i = bisect_left(divisors, l)\n",
    "    max_can_use_i = len(divisors) - 2\n",
    "    \n",
    "    if max_can_use_i - min_can_use_i + 1 >= 2:\n",
    "        total_to_minus += nCk(max_can_use_i - min_can_use_i + 1, 2)\n",
    "            \n",
    "result = nCk(r - l + 1, 3) - total_to_minus\n",
    "\n",
    "print(result)"
   ]
  },
  {
   "cell_type": "code",
   "execution_count": 134,
   "metadata": {},
   "outputs": [
    {
     "data": {
      "text/plain": [
       "[1, 2, 3, 6]"
      ]
     },
     "execution_count": 134,
     "metadata": {},
     "output_type": "execute_result"
    }
   ],
   "source": [
    "def get_divisors(num):\n",
    "    divisors = set()\n",
    "    for mod in range(1, int(num ** 0.5) + 1):\n",
    "        if num % mod == 0:\n",
    "            divisors.add(mod)\n",
    "            divisors.add(num // mod)\n",
    "            \n",
    "    return sorted(divisors)\n",
    "\n",
    "get_divisors(6)"
   ]
  },
  {
   "cell_type": "code",
   "execution_count": 136,
   "metadata": {},
   "outputs": [
    {
     "data": {
      "text/plain": [
       "3"
      ]
     },
     "execution_count": 136,
     "metadata": {},
     "output_type": "execute_result"
    }
   ],
   "source": [
    "from bisect import bisect_left\n",
    "\n",
    "\n",
    "\n",
    "bisect_left([1, 2, 3, 6], 4)"
   ]
  },
  {
   "cell_type": "code",
   "execution_count": 168,
   "metadata": {},
   "outputs": [
    {
     "data": {
      "text/plain": [
       "71"
      ]
     },
     "execution_count": 168,
     "metadata": {},
     "output_type": "execute_result"
    }
   ],
   "source": [
    "190 - 119"
   ]
  },
  {
   "cell_type": "code",
   "execution_count": 169,
   "metadata": {},
   "outputs": [
    {
     "data": {
      "text/plain": [
       "1829"
      ]
     },
     "execution_count": 169,
     "metadata": {},
     "output_type": "execute_result"
    }
   ],
   "source": [
    "1710 + 119"
   ]
  },
  {
   "cell_type": "code",
   "execution_count": null,
   "metadata": {},
   "outputs": [],
   "source": [
    "1829에서 2137"
   ]
  }
 ],
 "metadata": {
  "kernelspec": {
   "display_name": "Python 3",
   "language": "python",
   "name": "python3"
  },
  "language_info": {
   "codemirror_mode": {
    "name": "ipython",
    "version": 3
   },
   "file_extension": ".py",
   "mimetype": "text/x-python",
   "name": "python",
   "nbconvert_exporter": "python",
   "pygments_lexer": "ipython3",
   "version": "3.7.4"
  }
 },
 "nbformat": 4,
 "nbformat_minor": 2
}
