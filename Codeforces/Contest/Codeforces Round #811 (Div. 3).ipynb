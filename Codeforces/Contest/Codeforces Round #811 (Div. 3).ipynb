{
 "cells": [
  {
   "cell_type": "markdown",
   "metadata": {},
   "source": [
    "A"
   ]
  },
  {
   "cell_type": "code",
   "execution_count": 5,
   "metadata": {},
   "outputs": [
    {
     "name": "stdout",
     "output_type": "stream",
     "text": [
      "2 23 35\n",
      "20 15\n",
      "10 30\n",
      "10 55\n"
     ]
    }
   ],
   "source": [
    "import sys\n",
    "input = lambda: sys.stdin.readline().rstrip()\n",
    "\n",
    "inf = float('inf')\n",
    "\n",
    "def get_tm(H, M, h, m):\n",
    "    t1 = H * 60 + M\n",
    "    t2 = h * 60 + m\n",
    "    \n",
    "    if t1 > t2:\n",
    "        t2 += 24 * 60\n",
    "        \n",
    "    diff = t2 - t1\n",
    "    return diff\n",
    "\n",
    "for _ in range(int(input())):\n",
    "    n, H, M = map(int, input().split())\n",
    "    li = [list(map(int, input().split())) for _ in range(n)]\n",
    "\n",
    "    min_tm = inf\n",
    "    for h, m in li:\n",
    "        min_tm = min(min_tm, get_tm(H, M, h, m))\n",
    "\n",
    "    print(min_tm // 60, min_tm % 60)"
   ]
  },
  {
   "cell_type": "markdown",
   "metadata": {},
   "source": [
    "B"
   ]
  },
  {
   "cell_type": "code",
   "execution_count": 9,
   "metadata": {},
   "outputs": [
    {
     "name": "stdout",
     "output_type": "stream",
     "text": [
      "5\n",
      "1 1 1 1 1\n",
      "4\n"
     ]
    }
   ],
   "source": [
    "import sys\n",
    "input = lambda: sys.stdin.readline().rstrip()\n",
    "\n",
    "for _ in range(int(input())):\n",
    "    n = int(input())\n",
    "    li = list(map(int, input().split()))\n",
    "\n",
    "    st = set()\n",
    "    result = 0\n",
    "    for i in range(n - 1, -1, -1):\n",
    "        if li[i] in st:\n",
    "            result = i + 1\n",
    "            break\n",
    "        st.add(li[i])\n",
    "\n",
    "    print(result)"
   ]
  },
  {
   "cell_type": "markdown",
   "metadata": {},
   "source": [
    "C"
   ]
  },
  {
   "cell_type": "code",
   "execution_count": null,
   "metadata": {},
   "outputs": [],
   "source": [
    "9 8 7 6 5 4 3 2 1"
   ]
  },
  {
   "cell_type": "code",
   "execution_count": 13,
   "metadata": {},
   "outputs": [
    {
     "name": "stdout",
     "output_type": "stream",
     "text": [
      "4\n",
      "20\n",
      "389\n",
      "8\n",
      "8\n",
      "45\n",
      "123456789\n",
      "10\n",
      "19\n"
     ]
    }
   ],
   "source": [
    "from itertools import combinations as comb\n",
    "import sys\n",
    "input = lambda: sys.stdin.readline().rstrip()\n",
    "\n",
    "inf = float('inf')\n",
    "\n",
    "min_cases = [inf] * 46\n",
    "for num in range(1, 10):\n",
    "    for case in comb(range(1, 10), num):\n",
    "        sv = sum(case)\n",
    "        case = sorted(case)\n",
    "        ncase = int(''.join(map(str, case)))\n",
    "        min_cases[sv] = min(min_cases[sv], ncase)\n",
    "        \n",
    "for _ in range(int(input())):\n",
    "    s = int(input())\n",
    "    \n",
    "    r = min_cases[s]\n",
    "    \n",
    "    print(r)"
   ]
  },
  {
   "cell_type": "markdown",
   "metadata": {},
   "source": [
    "D"
   ]
  },
  {
   "cell_type": "code",
   "execution_count": 19,
   "metadata": {},
   "outputs": [
    {
     "name": "stdout",
     "output_type": "stream",
     "text": [
      "bababa\n",
      "2\n",
      "ba\n",
      "aba\n",
      "3\n",
      "1 1\n",
      "2 2\n",
      "2 4\n"
     ]
    }
   ],
   "source": [
    "import sys\n",
    "input = lambda: sys.stdin.readline().rstrip()\n",
    "\n",
    "for _ in range(int(input())):\n",
    "    s = input()\n",
    "    s_len = len(s)\n",
    "\n",
    "    n = int(input())\n",
    "    li = [input() for _ in range(n)]\n",
    "\n",
    "    to_index = dict()\n",
    "    for i in range(n):\n",
    "        to_index[li[i]] = i + 1\n",
    "    st = set(li)\n",
    "\n",
    "    to_start = 0\n",
    "    to_end = 0\n",
    "\n",
    "    total = 0\n",
    "    seq = []\n",
    "\n",
    "    ip = True\n",
    "    while True:\n",
    "        max_end = -1\n",
    "        max_end_start = -1\n",
    "        max_end_seq = ''\n",
    "        for start in range(to_start, to_end + 1):\n",
    "            for end in range(start, start + 10):\n",
    "                if end == s_len:\n",
    "                    break\n",
    "                if end <= max_end:\n",
    "                    continue\n",
    "                temp = s[start:end + 1]\n",
    "                if temp in st:\n",
    "                    max_end_start = start\n",
    "                    max_end_seq = temp\n",
    "                    max_end = end\n",
    "\n",
    "        if max_end == -1:\n",
    "            ip = False\n",
    "            break\n",
    "\n",
    "        total += 1\n",
    "        seq.append((to_index[max_end_seq], max_end_start + 1))\n",
    "        to_start = to_end + 1\n",
    "        to_end = max_end + 1\n",
    "\n",
    "        if to_end == s_len:\n",
    "            break\n",
    "\n",
    "    if not ip:\n",
    "        print(-1)\n",
    "    else:\n",
    "        print(total)\n",
    "        for v in seq:\n",
    "            print(*v)"
   ]
  },
  {
   "cell_type": "markdown",
   "metadata": {},
   "source": [
    "E"
   ]
  },
  {
   "cell_type": "code",
   "execution_count": 32,
   "metadata": {},
   "outputs": [
    {
     "name": "stdout",
     "output_type": "stream",
     "text": [
      "1\n",
      "2\n",
      "50 30\n",
      "Yes\n"
     ]
    }
   ],
   "source": [
    "import sys\n",
    "# input = lambda: sys.stdin.readline().rstrip()\n",
    "\n",
    "for _ in range(int(input())):\n",
    "    n = int(input())\n",
    "    li = list(map(int, input().split()))\n",
    "\n",
    "    st = {0, 8}\n",
    "    for i in range(n):\n",
    "        while True:\n",
    "            rem = li[i] % 10\n",
    "            if rem not in st:\n",
    "                li[i] += rem\n",
    "            else:\n",
    "                break\n",
    "\n",
    "    ip = True\n",
    "    is8 = False\n",
    "    is0 = False\n",
    "    zeros = set()\n",
    "    for v in li:\n",
    "        rem = v % 10\n",
    "\n",
    "        if rem == 0:\n",
    "            is0 = True\n",
    "            zeros.add(v)\n",
    "        else:\n",
    "            is8 = True\n",
    "\n",
    "    if is0 and is8:\n",
    "        ip = False\n",
    "    elif is0:\n",
    "        if len(zeros) == 1:\n",
    "            ip = True\n",
    "        else:\n",
    "            ip = False\n",
    "    else:\n",
    "        nli = {v % 20 for v in li}\n",
    "\n",
    "        if len(nli) == 1:\n",
    "            ip = True\n",
    "        else:\n",
    "            ip = False\n",
    "\n",
    "    if ip:\n",
    "        print('Yes')\n",
    "    else:\n",
    "        print('No')"
   ]
  },
  {
   "cell_type": "markdown",
   "metadata": {},
   "source": [
    "G"
   ]
  },
  {
   "cell_type": "code",
   "execution_count": 75,
   "metadata": {},
   "outputs": [
    {
     "name": "stdout",
     "output_type": "stream",
     "text": [
      "0 3 1 2 1 1 2 3\n"
     ]
    }
   ],
   "source": [
    "from heapq import heappush, heappop\n",
    "import sys\n",
    "input = lambda: sys.stdin.readline().rstrip()\n",
    "\n",
    "## PYRIVAL BOOTSTRAP\n",
    "# https://github.com/cheran-senthil/PyRival/blob/master/pyrival/misc/bootstrap.py\n",
    "# This decorator allows for recursion without actually doing recursion\n",
    "## @bootstrap, yield when getting and returning value in recursive functions, end of functions\n",
    "from types import GeneratorType\n",
    "\n",
    "def bootstrap(f, stack=[]):\n",
    "    def wrappedfunc(*args, **kwargs):\n",
    "        if stack:\n",
    "            return f(*args, **kwargs)\n",
    "        else:\n",
    "            to = f(*args, **kwargs)\n",
    "            while True:\n",
    "                if type(to) is GeneratorType:\n",
    "                    stack.append(to)\n",
    "                    to = next(to)\n",
    "                else:\n",
    "                    stack.pop()\n",
    "                    if not stack:\n",
    "                        break\n",
    "                    to = stack[-1].send(to)\n",
    "            return to\n",
    "    return wrappedfunc\n",
    "\n",
    "@bootstrap\n",
    "def find(v):\n",
    "    if v != parent[v]:\n",
    "        parent[v] = yield find(parent[v])\n",
    "    yield parent[v]\n",
    "\n",
    "def union(a, b):\n",
    "    if len(heaps[a]) < len(heaps[b]):\n",
    "        a, b = b, a\n",
    "        \n",
    "    parent[b] = a\n",
    "    while heaps[b]:\n",
    "        heappush(heaps[a], heappop(heaps[b]))\n",
    "    \n",
    "@bootstrap\n",
    "def dfs(value, depth, ta, tb):\n",
    "    depths[value] = depth\n",
    "    \n",
    "    for v, a, b in li[value]:\n",
    "        yield dfs(v, depth + 1, ta + a, tb + b)\n",
    "        rvalue = yield find(value)\n",
    "        rv = yield find(v)\n",
    "                 \n",
    "        union(rvalue, rv)\n",
    "    \n",
    "    rvalue = yield find(value)\n",
    "    \n",
    "    heappush(heaps[rvalue], (-ta, value))\n",
    "    \n",
    "#     print(value, heaps[rvalue], tb)\n",
    "    \n",
    "    while heaps[rvalue]:\n",
    "        if tb <= -heaps[rvalue][0][0]:\n",
    "            check_ta, vv = heappop(heaps[rvalue])\n",
    "#             print(value, vv, -check_ta, tb)\n",
    "\n",
    "            result[vv] = depth\n",
    "        else:\n",
    "            break\n",
    "            \n",
    "#     print(value, heaps[rvalue])\n",
    "\n",
    "    \n",
    "    yield\n",
    "    \n",
    "for _ in range(int(input())):\n",
    "    n = int(input())\n",
    "    li = [[] for _ in range(n)]\n",
    "    for child in range(1, n):\n",
    "        p, a, b = map(int, input().split())\n",
    "        p -= 1\n",
    "\n",
    "        li[p].append((child, a, b))\n",
    "\n",
    "    depths = [-1] * n\n",
    "    heaps = [[] for _ in range(n)]\n",
    "    parent = list(range(n))\n",
    "    result = [0] * n\n",
    "\n",
    "    dfs(0, 0, 0, 0)\n",
    "\n",
    "    print(*result[1:])"
   ]
  }
 ],
 "metadata": {
  "kernelspec": {
   "display_name": "Python 3",
   "language": "python",
   "name": "python3"
  },
  "language_info": {
   "codemirror_mode": {
    "name": "ipython",
    "version": 3
   },
   "file_extension": ".py",
   "mimetype": "text/x-python",
   "name": "python",
   "nbconvert_exporter": "python",
   "pygments_lexer": "ipython3",
   "version": "3.7.4"
  }
 },
 "nbformat": 4,
 "nbformat_minor": 2
}
