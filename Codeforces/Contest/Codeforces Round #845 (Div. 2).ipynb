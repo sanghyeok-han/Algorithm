{
 "cells": [
  {
   "cell_type": "markdown",
   "metadata": {},
   "source": [
    "A"
   ]
  },
  {
   "cell_type": "code",
   "execution_count": null,
   "metadata": {},
   "outputs": [],
   "source": [
    "홀 * 홀 = 홀\n",
    "짝 * 짝 = 짝"
   ]
  },
  {
   "cell_type": "code",
   "execution_count": 4,
   "metadata": {},
   "outputs": [
    {
     "name": "stdout",
     "output_type": "stream",
     "text": [
      "6\n",
      "1 1 1 2 2 3\n",
      "3\n"
     ]
    }
   ],
   "source": [
    "import io, os, sys\n",
    "input = io.BytesIO(os.read(0,os.fstat(0).st_size)).readline\n",
    "\n",
    "for _ in range(int(input())):\n",
    "    n = int(input())\n",
    "    li = list(map(int, input().split()))\n",
    "\n",
    "    c = 0\n",
    "    for i in range(1, n):\n",
    "        if li[i - 1] % 2 == li[i] % 2:\n",
    "            c += 1\n",
    "\n",
    "    print(c)"
   ]
  },
  {
   "cell_type": "markdown",
   "metadata": {},
   "source": [
    "B"
   ]
  },
  {
   "cell_type": "code",
   "execution_count": 21,
   "metadata": {},
   "outputs": [
    {
     "name": "stdout",
     "output_type": "stream",
     "text": [
      "52920\n"
     ]
    }
   ],
   "source": [
    "from itertools import permutations as perm\n",
    "from collections import defaultdict as dd\n",
    "\n",
    "def merge_sort(li):\n",
    "    global count\n",
    "    \n",
    "    if len(li) == 1:\n",
    "        return li\n",
    "    \n",
    "    left = merge_sort(li[:len(li) // 2])\n",
    "    right = merge_sort(li[len(li) // 2:])\n",
    "    \n",
    "    nl = len(left)\n",
    "    nr = len(right)\n",
    "    \n",
    "    nli = []\n",
    "    l_i = r_i = 0\n",
    "    while True:\n",
    "        if left[l_i] <= right[r_i]:\n",
    "            nli.append(left[l_i])\n",
    "            count += r_i\n",
    "            l_i += 1\n",
    "            \n",
    "            if l_i == nl:\n",
    "                while r_i < nr:\n",
    "                    nli.append(right[r_i])\n",
    "                    r_i += 1\n",
    "                break    \n",
    "        else:\n",
    "            nli.append(right[r_i])\n",
    "            r_i += 1\n",
    "            \n",
    "            if r_i == nr:\n",
    "                while l_i < nl:\n",
    "                    nli.append(left[l_i])\n",
    "                    count += r_i\n",
    "                    l_i += 1\n",
    "                break\n",
    "    return nli\n",
    "\n",
    "ct = dd(int)\n",
    "total = 0\n",
    "for case in perm([1, 2, 3, 4, 5, 6, 7]):\n",
    "    count = 0\n",
    "    \n",
    "    merge_sort(case)\n",
    "    total += count\n",
    "    \n",
    "print(total)"
   ]
  },
  {
   "cell_type": "code",
   "execution_count": null,
   "metadata": {},
   "outputs": [],
   "source": [
    "4\n",
    "0 1 2 3 4 5 6 \n",
    "1 3 5 6 5 3 1\n",
    "1 4 9 15 20 22 20 15 9 4 1\n",
    "\n",
    "1 2 2 1"
   ]
  },
  {
   "cell_type": "code",
   "execution_count": null,
   "metadata": {},
   "outputs": [],
   "source": [
    "0\n",
    "1\n",
    "9\n",
    "72\n",
    "600\n",
    "5400\n",
    "52920"
   ]
  },
  {
   "cell_type": "code",
   "execution_count": 35,
   "metadata": {},
   "outputs": [
    {
     "name": "stdout",
     "output_type": "stream",
     "text": [
      "3\n",
      "1\n",
      "0\n",
      "2\n",
      "4\n",
      "100\n",
      "389456655\n"
     ]
    }
   ],
   "source": [
    "import io, os, sys\n",
    "input = io.BytesIO(os.read(0,os.fstat(0).st_size)).readline\n",
    "\n",
    "mod = int(1e9) + 7\n",
    "\n",
    "def get_sum(n):\n",
    "    return (n * (n + 1) // 2) % mod\n",
    "\n",
    "facts = [1]\n",
    "for num in range(1, 100001):\n",
    "    nv = facts[-1] * num\n",
    "    nv %= mod\n",
    "    facts.append(nv)\n",
    "    \n",
    "for _ in range(int(input())): \n",
    "    n = int(input())\n",
    "    \n",
    "    result = (get_sum(n - 1) * facts[n] % mod + facts[n] * (n * (n - 1) // 2)) % mod\n",
    "\n",
    "    print(result)"
   ]
  },
  {
   "cell_type": "raw",
   "metadata": {},
   "source": [
    "total number of inversions in all the permutations: facts[n] * n * (n - 1) // 4\n",
    "total number of inversions in all the permutations * 2: facts[n] * n * (n - 1) // 2\n",
    "    \n",
    "n일 때: get_sum(n - 1) * facts[n] + facts[n] * n * (n - 1) // 2"
   ]
  },
  {
   "cell_type": "code",
   "execution_count": 31,
   "metadata": {},
   "outputs": [
    {
     "data": {
      "text/plain": [
       "389456655"
      ]
     },
     "execution_count": 31,
     "metadata": {},
     "output_type": "execute_result"
    }
   ],
   "source": [
    "(2167694743500 + 694728331) % mod"
   ]
  },
  {
   "cell_type": "code",
   "execution_count": 27,
   "metadata": {},
   "outputs": [
    {
     "data": {
      "text/plain": [
       "0"
      ]
     },
     "execution_count": 27,
     "metadata": {},
     "output_type": "execute_result"
    }
   ],
   "source": [
    "get_sum(1)"
   ]
  },
  {
   "cell_type": "markdown",
   "metadata": {},
   "source": [
    "https://codeforces.com/contest/1777/problem/C C. Quiz Master"
   ]
  },
  {
   "cell_type": "code",
   "execution_count": null,
   "metadata": {},
   "outputs": [],
   "source": [
    "a_i가 T의 배수여야 함\n",
    "\n",
    "팀원의 능력치의 최댓값 - 최솟값의 최소화"
   ]
  },
  {
   "cell_type": "code",
   "execution_count": 46,
   "metadata": {},
   "outputs": [
    {
     "name": "stdout",
     "output_type": "stream",
     "text": [
      "3\n",
      "2 4\n",
      "3 7\n",
      "-1\n",
      "4 2\n",
      "3 7 2 9\n",
      "0\n",
      "5 7\n",
      "6 4 3 5 7\n",
      "3\n"
     ]
    }
   ],
   "source": [
    "import io, os, sys\n",
    "input = io.BytesIO(os.read(0,os.fstat(0).st_size)).readline\n",
    "\n",
    "inf = float('inf')\n",
    "\n",
    "def get_divisors(num):\n",
    "    divisors = []\n",
    "    for mod in range(1, int(num ** 0.5)):\n",
    "        if num % mod == 0:\n",
    "            divisors.append(mod)\n",
    "            divisors.append(num // mod)\n",
    "            \n",
    "    mod = int(num ** 0.5)\n",
    "    if num % mod == 0:\n",
    "        divisors.append(mod)\n",
    "        if num // mod != mod:\n",
    "            divisors.append(num // mod)\n",
    "            \n",
    "    return divisors\n",
    "\n",
    "for _ in range(int(input())):\n",
    "    n, m = map(int, input().split())\n",
    "    li = sorted(map(int, input().split()))\n",
    "\n",
    "    divs = []\n",
    "    for v in li:\n",
    "        divs.append(get_divisors(v))\n",
    "\n",
    "    start = 0\n",
    "    end = 0\n",
    "    ct = [0] * (m + 1)\n",
    "    have = 0\n",
    "\n",
    "    for v in divs[0]:\n",
    "        if v <= m:\n",
    "            ct[v] += 1\n",
    "            have += 1\n",
    "\n",
    "    min_diff = inf\n",
    "    if have == m:\n",
    "        diff = li[end] - li[start]\n",
    "        min_diff = min(min_diff, diff)\n",
    "\n",
    "    while True:\n",
    "        if have < m:\n",
    "            end += 1\n",
    "            if end == n:\n",
    "                break\n",
    "\n",
    "            for v in divs[end]:\n",
    "                if v <= m:\n",
    "                    ct[v] += 1\n",
    "\n",
    "                    if ct[v] == 1:\n",
    "                        have += 1\n",
    "        else:\n",
    "            diff = li[end] - li[start]\n",
    "            min_diff = min(min_diff, diff)\n",
    "\n",
    "            for v in divs[start]:\n",
    "                if v <= m:\n",
    "                    ct[v] -= 1\n",
    "\n",
    "                    if ct[v] == 0:\n",
    "                        have -= 1        \n",
    "            start += 1\n",
    "            if start > end:\n",
    "                end = start\n",
    "\n",
    "                if end == n:\n",
    "                    break\n",
    "\n",
    "                for v in divs[end]:\n",
    "                    if v <= m:\n",
    "                        ct[v] += 1\n",
    "\n",
    "                        if ct[v] == 1:\n",
    "                            have += 1\n",
    "\n",
    "    if min_diff == inf:\n",
    "        print(-1)\n",
    "    else:\n",
    "        print(min_diff)"
   ]
  },
  {
   "cell_type": "markdown",
   "metadata": {},
   "source": [
    "https://codeforces.com/contest/1777/problem/D D. Score of a Tree"
   ]
  },
  {
   "cell_type": "code",
   "execution_count": null,
   "metadata": {},
   "outputs": [],
   "source": [
    "파이썬으로도 넉넉하게 통과할 수 있음"
   ]
  },
  {
   "cell_type": "code",
   "execution_count": null,
   "metadata": {},
   "outputs": [],
   "source": [
    "자식 수에 관계없이 자식의 모든 경우를 다 본다면 부모가 0, 1이 되는 경우의 수는 동일함"
   ]
  },
  {
   "cell_type": "code",
   "execution_count": 48,
   "metadata": {},
   "outputs": [
    {
     "data": {
      "text/plain": [
       "320"
      ]
     },
     "execution_count": 48,
     "metadata": {},
     "output_type": "execute_result"
    }
   ],
   "source": [
    "2 ** 5 * 10"
   ]
  },
  {
   "cell_type": "code",
   "execution_count": null,
   "metadata": {},
   "outputs": [],
   "source": [
    "import io, os, sys\n",
    "# input = io.BytesIO(os.read(0,os.fstat(0).st_size)).readline\n",
    "\n",
    "mod = int(1e9) + 7\n",
    "\n",
    "## PYRIVAL BOOTSTRAP\n",
    "# https://github.com/cheran-senthil/PyRival/blob/master/pyrival/misc/bootstrap.py\n",
    "# This decorator allows for recursion without actually doing recursion\n",
    "## @bootstrap, yield when getting and returning value in recursive functions, end of functions\n",
    "from types import GeneratorType\n",
    "\n",
    "def bootstrap(f, stack=[]):\n",
    "    def wrappedfunc(*args, **kwargs):\n",
    "        if stack:\n",
    "            return f(*args, **kwargs)\n",
    "        else:\n",
    "            to = f(*args, **kwargs)\n",
    "            while True:\n",
    "                if type(to) is GeneratorType:\n",
    "                    stack.append(to)\n",
    "                    to = next(to)\n",
    "                else:\n",
    "                    stack.pop()\n",
    "                    if not stack:\n",
    "                        break\n",
    "                    to = stack[-1].send(to)\n",
    "            return to\n",
    "    return wrappedfunc\n",
    "\n",
    "@bootstrap\n",
    "def dfs(value):\n",
    "    vt[value] = True\n",
    "\n",
    "    max_resist = 1\n",
    "    for v in li[value]:\n",
    "        if not vt[v]:\n",
    "            yield dfs(v)\n",
    "            \n",
    "            max_resist = max(max_resist, can_resist[v] + 1)\n",
    "            \n",
    "    can_resist[value] = max_resist\n",
    "    \n",
    "    yield\n",
    "\n",
    "for _ in range(int(input())):\n",
    "    n = int(input())\n",
    "    li = [[] for _ in range(n + 1)]\n",
    "\n",
    "    for _ in range(n - 1):\n",
    "        u, v = map(int, input().split())\n",
    "\n",
    "        li[u].append(v)\n",
    "        li[v].append(u)\n",
    "\n",
    "    vt = [False] * (n + 1)\n",
    "\n",
    "    can_resist = [0] * (n + 1)\n",
    "    dfs(1)\n",
    "\n",
    "    t1 = pow(2, n - 1, mod)\n",
    "    t2 = sum(can_resist) % mod\n",
    "    r = t1 * t2 % mod\n",
    "\n",
    "    print(r)"
   ]
  },
  {
   "cell_type": "markdown",
   "metadata": {},
   "source": [
    "https://codeforces.com/contest/1777/problem/E E. Edge Reverse"
   ]
  },
  {
   "cell_type": "code",
   "execution_count": null,
   "metadata": {},
   "outputs": [],
   "source": [
    "간선의 방향을 바꿔서 적어도 하나의 노드에서 출발해서 모든 노드에 도착할 수 있게 만들어야 한다.\n",
    "\n"
   ]
  }
 ],
 "metadata": {
  "kernelspec": {
   "display_name": "Python 3",
   "language": "python",
   "name": "python3"
  },
  "language_info": {
   "codemirror_mode": {
    "name": "ipython",
    "version": 3
   },
   "file_extension": ".py",
   "mimetype": "text/x-python",
   "name": "python",
   "nbconvert_exporter": "python",
   "pygments_lexer": "ipython3",
   "version": "3.7.4"
  }
 },
 "nbformat": 4,
 "nbformat_minor": 2
}
