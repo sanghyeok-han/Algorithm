{
 "cells": [
  {
   "cell_type": "markdown",
   "metadata": {},
   "source": [
    "A"
   ]
  },
  {
   "cell_type": "code",
   "execution_count": null,
   "metadata": {},
   "outputs": [],
   "source": [
    "b가 a, c와 비교했을 때 가장 크거나 가장 작아야 함\n",
    "\n",
    "b가 가장 작은 경우는 b에 a만 주면 됨"
   ]
  },
  {
   "cell_type": "code",
   "execution_count": 6,
   "metadata": {},
   "outputs": [
    {
     "name": "stdout",
     "output_type": "stream",
     "text": [
      "bbbbb\n",
      "b bbb b\n"
     ]
    }
   ],
   "source": [
    "import sys\n",
    "input = lambda: sys.stdin.readline().rstrip()\n",
    "\n",
    "for _ in range(int(input())):\n",
    "    s = input()\n",
    "    n = len(s)\n",
    "\n",
    "    ra = rb = rc = ''\n",
    "    for i in range(1, n - 1):\n",
    "        if s[i] == 'a':\n",
    "            ra = s[:i]\n",
    "            rb = 'a'\n",
    "            rc = s[i + 1:]\n",
    "            break\n",
    "\n",
    "    if not ra:\n",
    "        ra = s[0]\n",
    "        rb = s[1:n - 1]\n",
    "        rc = s[n - 1]\n",
    "\n",
    "    print(ra, rb, rc)"
   ]
  },
  {
   "cell_type": "markdown",
   "metadata": {},
   "source": [
    "B"
   ]
  },
  {
   "cell_type": "code",
   "execution_count": 10,
   "metadata": {},
   "outputs": [
    {
     "name": "stdout",
     "output_type": "stream",
     "text": [
      "2\n",
      "2 1 2\n",
      "1 2\n",
      "YES\n"
     ]
    }
   ],
   "source": [
    "import io, os, sys\n",
    "input = io.BytesIO(os.read(0,os.fstat(0).st_size)).readline\n",
    "\n",
    "for _ in range(int(input())):\n",
    "    n = int(input())\n",
    "\n",
    "    ct = dict()\n",
    "    li = []\n",
    "    for _ in range(n):\n",
    "        c, *temp = list(map(int, input().split()))\n",
    "\n",
    "        li.append(temp)\n",
    "        for v in temp:\n",
    "            sv = str(v)\n",
    "            if sv in ct:\n",
    "                ct[sv] += 1\n",
    "            else:\n",
    "                ct[sv] = 1\n",
    "\n",
    "    r = False\n",
    "    for cand in li:\n",
    "        ip = True\n",
    "        for v in cand:\n",
    "            sv = str(v)\n",
    "            if ct[sv] == 1:\n",
    "                ip = False\n",
    "                break\n",
    "\n",
    "        if ip:\n",
    "            r = True\n",
    "            break\n",
    "\n",
    "    if r:\n",
    "        print('Yes')\n",
    "    else:\n",
    "        print('No')"
   ]
  },
  {
   "cell_type": "markdown",
   "metadata": {},
   "source": [
    "C"
   ]
  },
  {
   "cell_type": "code",
   "execution_count": null,
   "metadata": {},
   "outputs": [],
   "source": [
    "1 2 3 4 5\n",
    "\n",
    "1 2 3 ->0 ->0 안됨\n",
    "\n",
    "\n",
    "1 2 3 4 5\n",
    "\n",
    "1 ->0 3 4 5 안됨\n",
    "\n",
    "->0 ->0 3 4 5 됨"
   ]
  },
  {
   "cell_type": "code",
   "execution_count": 13,
   "metadata": {},
   "outputs": [
    {
     "data": {
      "text/plain": [
       "('0b10100', '0b10000')"
      ]
     },
     "execution_count": 13,
     "metadata": {},
     "output_type": "execute_result"
    }
   ],
   "source": [
    "bin(20), bin(16)"
   ]
  },
  {
   "cell_type": "code",
   "execution_count": 16,
   "metadata": {},
   "outputs": [
    {
     "data": {
      "text/plain": [
       "'0b110111100000101101101011001110100111011001000000000000000000'"
      ]
     },
     "execution_count": 16,
     "metadata": {},
     "output_type": "execute_result"
    }
   ],
   "source": [
    "bin(int(1e18))"
   ]
  },
  {
   "cell_type": "code",
   "execution_count": 17,
   "metadata": {},
   "outputs": [
    {
     "data": {
      "text/plain": [
       "1000000000000000000"
      ]
     },
     "execution_count": 17,
     "metadata": {},
     "output_type": "execute_result"
    }
   ],
   "source": [
    "int(1e18)"
   ]
  },
  {
   "cell_type": "code",
   "execution_count": 21,
   "metadata": {},
   "outputs": [
    {
     "data": {
      "text/plain": [
       "1152921504606846976"
      ]
     },
     "execution_count": 21,
     "metadata": {},
     "output_type": "execute_result"
    }
   ],
   "source": [
    "2 ** 60"
   ]
  },
  {
   "cell_type": "code",
   "execution_count": 12,
   "metadata": {},
   "outputs": [
    {
     "data": {
      "text/plain": [
       "'0b110111100000101101101011001110100111011001000000000000000000'"
      ]
     },
     "execution_count": 12,
     "metadata": {},
     "output_type": "execute_result"
    }
   ],
   "source": [
    "n에서 0인 비트를 x에서 1로 만들 수는 없음\n",
    "즉, n에서 x로 갈 때 각 비트별로 0 -> 0, 1 -> 1, 1 -> 0 케이스만이 존재할 수 있음\n",
    "\n",
    "1 -> 1일 때는 0하고 연산하면 안되고, 1 -> 0일 때는 0하고 연산해야 함.\n",
    "\n",
    "지워야 하는 1의 자리가 지켜야 하는 1의 자리보다 더 클 수는 없음"
   ]
  },
  {
   "cell_type": "code",
   "execution_count": null,
   "metadata": {},
   "outputs": [],
   "source": [
    "import io, os, sys\n",
    "# input = io.BytesIO(os.read(0,os.fstat(0).st_size)).readline\n",
    "\n",
    "def to_bli(num):\n",
    "    bn = bin(num)\n",
    "    \n",
    "    bli = [0] * 65\n",
    "    cur_bit = 0\n",
    "    for i in range(len(bn) - 1, 1, -1):\n",
    "        if bn[i] == '1':\n",
    "            bli[cur_bit] = 1\n",
    "        \n",
    "        cur_bit += 1\n",
    "        \n",
    "    return bli\n",
    "        \n",
    "for _ in range(int(input())):\n",
    "    n, x = map(int, input().split())\n",
    "\n",
    "    n_bli = to_bli(n)\n",
    "    x_bli = to_bli(x)\n",
    "\n",
    "    ip = True\n",
    "    to_dels = []\n",
    "    to_saves = []\n",
    "    for cur_bit in range(65):\n",
    "        if n_bli[cur_bit] == 0 and x_bli[cur_bit] == 1:\n",
    "            ip = False\n",
    "            break\n",
    "\n",
    "        if n_bli[cur_bit] == 1:\n",
    "            if x_bli[cur_bit] == 1:\n",
    "                to_saves.append(cur_bit)\n",
    "            else:\n",
    "                if to_saves:\n",
    "                    ip = False\n",
    "                    break\n",
    "\n",
    "                to_dels.append(cur_bit)\n",
    "\n",
    "    if not ip:\n",
    "        print(-1)\n",
    "    else:\n",
    "        if not to_dels:\n",
    "            result = n\n",
    "        else:\n",
    "            r_bli = n_bli.copy()\n",
    "\n",
    "            cri = to_dels[-1]\n",
    "            r_bli[cri] = 0\n",
    "            for i in range(cri + 1, 65):\n",
    "                if r_bli[i] == 0:\n",
    "                    r_bli[i] = 1\n",
    "                    break\n",
    "                else:\n",
    "                    r_bli[i] = 0\n",
    "\n",
    "            for i in range(cri, -1, -1):\n",
    "                r_bli[i] = 0\n",
    "\n",
    "            cur_v = 1\n",
    "            result = 0\n",
    "            for cur_bit in range(65):\n",
    "                if r_bli[cur_bit]:\n",
    "                    result += cur_v\n",
    "                cur_v *= 2\n",
    "\n",
    "            ip = True\n",
    "            for cur_bit in range(65):\n",
    "                if r_bli[cur_bit] == 0 and x_bli[cur_bit] == 1:\n",
    "                    ip = False\n",
    "                    \n",
    "            if not ip:\n",
    "                result = -1\n",
    "        print(result)"
   ]
  },
  {
   "cell_type": "markdown",
   "metadata": {},
   "source": [
    "D"
   ]
  },
  {
   "cell_type": "code",
   "execution_count": 87,
   "metadata": {},
   "outputs": [
    {
     "name": "stdout",
     "output_type": "stream",
     "text": [
      "7\n",
      "2 14 9 6 8 15 11\n",
      "5 6\n",
      "1\n",
      "5 4 6\n"
     ]
    }
   ],
   "source": [
    "from collections import deque\n",
    "\n",
    "max_num = 300001\n",
    "sp = [0] * (max_num + 1)\n",
    "primes = []\n",
    "for i in range(2, max_num + 1):\n",
    "    if sp[i] == 0:\n",
    "        sp[i] = i\n",
    "        primes.append(i)\n",
    "        \n",
    "    j = 0\n",
    "    while j < len(primes) and i * primes[j] <= max_num and primes[j] <= sp[i]:\n",
    "        sp[i * primes[j]] = primes[j]\n",
    "        j += 1\n",
    "\n",
    "n = int(input())\n",
    "li = list(map(int, input().split()))\n",
    "s, t = map(int, input().split())\n",
    "\n",
    "s -= 1\n",
    "t -= 1\n",
    "\n",
    "index_to_primes = []\n",
    "prime_to_indices = dict()\n",
    "for i in range(n):\n",
    "    num = li[i]\n",
    "    st = set()\n",
    "    while num > 1:\n",
    "        st.add(sp[num])\n",
    "        num //= sp[num]\n",
    "\n",
    "    index_to_primes.append(st)\n",
    "    \n",
    "    for v in st:\n",
    "        sv = str(v)\n",
    "        \n",
    "        if sv in prime_to_indices:\n",
    "            prime_to_indices[sv].add(i)\n",
    "        else:\n",
    "            prime_to_indices[sv] = {i}\n",
    "            \n",
    "dists = [-1] * n\n",
    "dists[s] = 0\n",
    "\n",
    "from_ = [-1] * n\n",
    "\n",
    "primes_vt = set()\n",
    "\n",
    "queue = deque()\n",
    "queue.append(s)\n",
    "while queue:\n",
    "    value = queue.popleft()\n",
    "    \n",
    "    for prime in index_to_primes[value]:\n",
    "        if prime in primes_vt:\n",
    "            continue\n",
    "        primes_vt.add(prime)\n",
    "        \n",
    "        for v in prime_to_indices[str(prime)]:\n",
    "            if dists[v] == -1:\n",
    "                dists[v] = dists[value] + 1\n",
    "                from_[v] = value\n",
    "                queue.append(v)\n",
    "                \n",
    "if dists[t] == -1:\n",
    "    print(-1)\n",
    "else:\n",
    "    cur = t\n",
    "    result = [t + 1]\n",
    "    while cur != s:\n",
    "        ncur = from_[cur]\n",
    "        result.append(ncur + 1)\n",
    "\n",
    "        cur = ncur\n",
    "\n",
    "    print(len(result))\n",
    "    print(*reversed(result))"
   ]
  },
  {
   "cell_type": "markdown",
   "metadata": {},
   "source": [
    "E"
   ]
  },
  {
   "cell_type": "code",
   "execution_count": null,
   "metadata": {},
   "outputs": [],
   "source": [
    "하나만 선택해서 언제든지 0으로 만들 수 있음\n",
    "\n",
    "+-에서 하나를 올릴 필요가 없는 것을 올리거나\n",
    "내릴 필요가 없는 것을 내리면 효과가 상쇄되어서 쓸모 없어짐\n",
    "\n",
    "-끼리나 +끼리 서로 병합할 수 있음"
   ]
  },
  {
   "cell_type": "code",
   "execution_count": 102,
   "metadata": {},
   "outputs": [
    {
     "name": "stdout",
     "output_type": "stream",
     "text": [
      "4\n",
      "1 2 -3 -3\n"
     ]
    }
   ],
   "source": [
    "# https://github.com/tatyam-prime/SortedSet/blob/main/SortedSet.py\n",
    "import math\n",
    "from bisect import bisect_left, bisect_right\n",
    "from typing import Generic, Iterable, Iterator, TypeVar, Union, List\n",
    "T = TypeVar('T')\n",
    "\n",
    "class SortedSet(Generic[T]):\n",
    "    BUCKET_RATIO = 50\n",
    "    REBUILD_RATIO = 170\n",
    "\n",
    "    def _build(self, a=None) -> None:\n",
    "        \"Evenly divide `a` into buckets.\"\n",
    "        if a is None: a = list(self)\n",
    "        size = self.size = len(a)\n",
    "        bucket_size = int(math.ceil(math.sqrt(size / self.BUCKET_RATIO)))\n",
    "        self.a = [a[size * i // bucket_size : size * (i + 1) // bucket_size] for i in range(bucket_size)]\n",
    "    \n",
    "    def __init__(self, a: Iterable[T] = []) -> None:\n",
    "        \"Make a new SortedSet from iterable. / O(N) if sorted and unique / O(N log N)\"\n",
    "        a = list(a)\n",
    "        if not all(a[i] < a[i + 1] for i in range(len(a) - 1)):\n",
    "            a = sorted(set(a))\n",
    "        self._build(a)\n",
    "\n",
    "    def __iter__(self) -> Iterator[T]:\n",
    "        for i in self.a:\n",
    "            for j in i: yield j\n",
    "\n",
    "    def __reversed__(self) -> Iterator[T]:\n",
    "        for i in reversed(self.a):\n",
    "            for j in reversed(i): yield j\n",
    "    \n",
    "    def __len__(self) -> int:\n",
    "        return self.size\n",
    "    \n",
    "    def __repr__(self) -> str:\n",
    "        return \"SortedSet\" + str(self.a)\n",
    "    \n",
    "    def __str__(self) -> str:\n",
    "        s = str(list(self))\n",
    "        return \"{\" + s[1 : len(s) - 1] + \"}\"\n",
    "\n",
    "    def _find_bucket(self, x: T) -> List[T]:\n",
    "        \"Find the bucket which should contain x. self must not be empty.\"\n",
    "        for a in self.a:\n",
    "            if x <= a[-1]: return a\n",
    "        return a\n",
    "\n",
    "    def __contains__(self, x: T) -> bool:\n",
    "        if self.size == 0: return False\n",
    "        a = self._find_bucket(x)\n",
    "        i = bisect_left(a, x)\n",
    "        return i != len(a) and a[i] == x\n",
    "\n",
    "    def add(self, x: T) -> bool:\n",
    "        \"Add an element and return True if added. / O(√N)\"\n",
    "        if self.size == 0:\n",
    "            self.a = [[x]]\n",
    "            self.size = 1\n",
    "            return True\n",
    "        a = self._find_bucket(x)\n",
    "        i = bisect_left(a, x)\n",
    "        if i != len(a) and a[i] == x: return False\n",
    "        a.insert(i, x)\n",
    "        self.size += 1\n",
    "        if len(a) > len(self.a) * self.REBUILD_RATIO:\n",
    "            self._build()\n",
    "        return True\n",
    "\n",
    "    def discard(self, x: T) -> bool:\n",
    "        \"Remove an element and return True if removed. / O(√N)\"\n",
    "        if self.size == 0: return False\n",
    "        a = self._find_bucket(x)\n",
    "        i = bisect_left(a, x)\n",
    "        if i == len(a) or a[i] != x: return False\n",
    "        a.pop(i)\n",
    "        self.size -= 1\n",
    "        if len(a) == 0: self._build()\n",
    "        return True\n",
    "    \n",
    "    def lt(self, x: T) -> Union[T, None]:\n",
    "        \"Find the largest element < x, or None if it doesn't exist.\"\n",
    "        for a in reversed(self.a):\n",
    "            if a[0] < x:\n",
    "                return a[bisect_left(a, x) - 1]\n",
    "\n",
    "    def le(self, x: T) -> Union[T, None]:\n",
    "        \"Find the largest element <= x, or None if it doesn't exist.\"\n",
    "        for a in reversed(self.a):\n",
    "            if a[0] <= x:\n",
    "                return a[bisect_right(a, x) - 1]\n",
    "\n",
    "    def gt(self, x: T) -> Union[T, None]:\n",
    "        \"Find the smallest element > x, or None if it doesn't exist.\"\n",
    "        for a in self.a:\n",
    "            if a[-1] > x:\n",
    "                return a[bisect_right(a, x)]\n",
    "\n",
    "    def ge(self, x: T) -> Union[T, None]:\n",
    "        \"Find the smallest element >= x, or None if it doesn't exist.\"\n",
    "        for a in self.a:\n",
    "            if a[-1] >= x:\n",
    "                return a[bisect_left(a, x)]\n",
    "    \n",
    "    def __getitem__(self, x: int) -> T:\n",
    "        \"Return the x-th element, or IndexError if it doesn't exist.\"\n",
    "        if x < 0: x += self.size\n",
    "        if x < 0: raise IndexError\n",
    "        for a in self.a:\n",
    "            if x < len(a): return a[x]\n",
    "            x -= len(a)\n",
    "        raise IndexError\n",
    "    \n",
    "    def index(self, x: T) -> int:\n",
    "        \"Count the number of elements < x.\"\n",
    "        ans = 0\n",
    "        for a in self.a:\n",
    "            if a[-1] >= x:\n",
    "                return ans + bisect_left(a, x)\n",
    "            ans += len(a)\n",
    "        return ans\n",
    "\n",
    "    def index_right(self, x: T) -> int:\n",
    "        \"Count the number of elements <= x.\"\n",
    "        ans = 0\n",
    "        for a in self.a:\n",
    "            if a[-1] > x:\n",
    "                return ans + bisect_right(a, x)\n",
    "            ans += len(a)\n",
    "        return\n",
    "\n",
    "def find(v):\n",
    "    if v != pa[v]:\n",
    "        pa[v] = find(v)\n",
    "    \n",
    "    return pa[v]\n",
    "\n",
    "def union(a, b):\n",
    "    if a > b:\n",
    "        a, b = b, a\n",
    "    \n",
    "    pa[b] = a\n",
    "        \n",
    "\n",
    "n = int(input())\n",
    "li = list(map(int, input().split()))\n",
    "\n",
    "groups = []\n",
    "\n",
    "f_sign = 0\n",
    "cumul = 0\n",
    "for v in li:\n",
    "    if v > 0:\n",
    "        if f_sign == 1 or f_sign == 0:\n",
    "            cumul += v\n",
    "        elif f_sign == -1:\n",
    "            groups.append(cumul)\n",
    "            cumul = v\n",
    "        f_sign = 1\n",
    "    elif v < 0:\n",
    "        if f_sign == -1 or f_sign == 0:\n",
    "            cumul += v\n",
    "        elif f_sign == 1:\n",
    "            groups.append(cumul)\n",
    "            cumul = v\n",
    "        f_sign = -1\n",
    "            \n",
    "groups.append(cumul)\n",
    "\n",
    "group_len = len(groups)\n",
    "\n",
    "pa = list(range(group_len))\n",
    "\n",
    "sst_n = SortedSet()\n",
    "sst_p = SortedSet()\n",
    "for i in range(group_len):\n",
    "    v = groups[i]\n",
    "    \n",
    "    if v < 0:\n",
    "        sst_n.add((v, i))\n",
    "    else:\n",
    "        sst_p.add((v, i))\n",
    "        \n",
    "total = 0\n",
    "while sst_n or sst_p:\n",
    "    if not sst_n:\n",
    "        for v, index in sst_p:\n",
    "            total += v\n",
    "        break\n",
    "        \n",
    "    if not sst_p:\n",
    "        for v, index in sst_n:\n",
    "            total += v\n",
    "        break\n",
    "        \n",
    "    nv, ni = sst_n[-1]\n",
    "    pv, pi = sst_p[0]\n",
    "    \n",
    "    if "
   ]
  },
  {
   "cell_type": "code",
   "execution_count": 99,
   "metadata": {},
   "outputs": [
    {
     "data": {
      "text/plain": [
       "3"
      ]
     },
     "execution_count": 99,
     "metadata": {},
     "output_type": "execute_result"
    }
   ],
   "source": [
    "cumul"
   ]
  },
  {
   "cell_type": "code",
   "execution_count": 103,
   "metadata": {},
   "outputs": [
    {
     "data": {
      "text/plain": [
       "[3, -6]"
      ]
     },
     "execution_count": 103,
     "metadata": {},
     "output_type": "execute_result"
    }
   ],
   "source": [
    "groups"
   ]
  }
 ],
 "metadata": {
  "kernelspec": {
   "display_name": "Python 3",
   "language": "python",
   "name": "python3"
  },
  "language_info": {
   "codemirror_mode": {
    "name": "ipython",
    "version": 3
   },
   "file_extension": ".py",
   "mimetype": "text/x-python",
   "name": "python",
   "nbconvert_exporter": "python",
   "pygments_lexer": "ipython3",
   "version": "3.8.3"
  }
 },
 "nbformat": 4,
 "nbformat_minor": 4
}
