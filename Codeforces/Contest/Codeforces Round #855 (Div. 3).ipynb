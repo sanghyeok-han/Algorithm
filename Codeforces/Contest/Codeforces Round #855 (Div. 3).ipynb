{
 "cells": [
  {
   "cell_type": "code",
   "execution_count": 6,
   "metadata": {},
   "outputs": [
    {
     "name": "stdout",
     "output_type": "stream",
     "text": [
      "4\n",
      "meow\n",
      "YES\n"
     ]
    }
   ],
   "source": [
    "import sys\n",
    "input = lambda: sys.stdin.readline().rstrip()\n",
    "\n",
    "for _ in range(int(input())):\n",
    "    n = int(input())\n",
    "    li = list(input().lower())\n",
    "\n",
    "    ip = True\n",
    "    if not li or li[-1] != 'w':\n",
    "        ip = False\n",
    "    else:\n",
    "        while li and li[-1] == 'w':\n",
    "            li.pop()\n",
    "\n",
    "    if not li or li[-1] != 'o':\n",
    "        ip = False\n",
    "    else:\n",
    "        while li and li[-1] == 'o':\n",
    "            li.pop()\n",
    "\n",
    "    if not li or li[-1] != 'e':\n",
    "        ip = False\n",
    "    else:\n",
    "        while li and li[-1] == 'e':\n",
    "            li.pop()\n",
    "\n",
    "    if not li or li[-1] != 'm':\n",
    "        ip = False\n",
    "    else:\n",
    "        while li and li[-1] == 'm':\n",
    "            li.pop()\n",
    "            \n",
    "    if li:\n",
    "        ip = False\n",
    "\n",
    "    if not ip:\n",
    "        print('NO')\n",
    "    else:\n",
    "        print('YES')"
   ]
  },
  {
   "cell_type": "markdown",
   "metadata": {},
   "source": [
    "B"
   ]
  },
  {
   "cell_type": "code",
   "execution_count": 22,
   "metadata": {},
   "outputs": [
    {
     "name": "stdout",
     "output_type": "stream",
     "text": [
      "6 0\n",
      "abBAcC\n",
      "3\n"
     ]
    }
   ],
   "source": [
    "from collections import Counter\n",
    "import sys\n",
    "input = lambda: sys.stdin.readline().rstrip()\n",
    "\n",
    "for _ in range(int(input())):\n",
    "    n, k = map(int, input().split())\n",
    "    s = input()\n",
    "\n",
    "    ct = Counter(s)\n",
    "\n",
    "    r = 0\n",
    "    for num in range(65, 65 + 26):\n",
    "        a = chr(num)\n",
    "        b = chr(num + 32)\n",
    "\n",
    "        min_v = min(ct[a], ct[b])\n",
    "        r += min_v\n",
    "        ct[a] -= min_v\n",
    "        ct[b] -= min_v\n",
    "\n",
    "        can_use = min(k, (ct[a] + ct[b]) // 2)\n",
    "        r += can_use\n",
    "        k -= can_use\n",
    "\n",
    "    print(r)"
   ]
  },
  {
   "cell_type": "markdown",
   "metadata": {},
   "source": [
    "C"
   ]
  },
  {
   "cell_type": "code",
   "execution_count": 28,
   "metadata": {},
   "outputs": [
    {
     "name": "stdout",
     "output_type": "stream",
     "text": [
      "5\n",
      "3 1 0 0 4\n",
      "4\n"
     ]
    }
   ],
   "source": [
    "from heapq import heappush, heappop\n",
    "import io, os, sys\n",
    "input = io.BytesIO(os.read(0, os.fstat(0).st_size)).readline\n",
    "\n",
    "for _ in range(int(input())):\n",
    "    n = int(input())\n",
    "    li = list(map(int, input().split()))\n",
    "\n",
    "    result = 0\n",
    "    heap = []\n",
    "    for v in li:\n",
    "        if v == 0:\n",
    "            if heap:\n",
    "                result += -heappop(heap)\n",
    "        else:\n",
    "            heappush(heap, -v)\n",
    "\n",
    "    print(result)"
   ]
  },
  {
   "cell_type": "markdown",
   "metadata": {},
   "source": [
    "D"
   ]
  },
  {
   "cell_type": "code",
   "execution_count": 34,
   "metadata": {},
   "outputs": [
    {
     "name": "stdout",
     "output_type": "stream",
     "text": [
      "1\n",
      "10\n",
      "aaaaaaaaaa\n",
      "1\n"
     ]
    }
   ],
   "source": [
    "import sys\n",
    "input = lambda: sys.stdin.readline().rstrip()\n",
    "\n",
    "for _ in range(int(input())):\n",
    "    n = int(input())\n",
    "    s = input()\n",
    "\n",
    "    result = n - 1\n",
    "    for i in range(n - 2):\n",
    "        if s[i] == s[i + 2]:\n",
    "            result -= 1\n",
    "\n",
    "    print(result)"
   ]
  },
  {
   "cell_type": "markdown",
   "metadata": {},
   "source": [
    "E1"
   ]
  },
  {
   "cell_type": "code",
   "execution_count": 35,
   "metadata": {},
   "outputs": [
    {
     "name": "stdout",
     "output_type": "stream",
     "text": [
      "5 3\n",
      "accio\n",
      "cicao\n",
      "YES\n"
     ]
    }
   ],
   "source": [
    "import sys\n",
    "input = lambda: sys.stdin.readline().rstrip()\n",
    "\n",
    "for _ in range(int(input())):\n",
    "    n, k = map(int, input().split())\n",
    "\n",
    "    a = input()\n",
    "    b = input()\n",
    "\n",
    "    can_ex = [False] * n\n",
    "\n",
    "    temp = n - 1 - k\n",
    "    if temp >= 0:\n",
    "        for i in range(temp, -1, -1):\n",
    "            can_ex[i] = True\n",
    "\n",
    "    temp = k\n",
    "    if temp < n:\n",
    "        for i in range(temp, n):\n",
    "            can_ex[i] = True\n",
    "\n",
    "    aa_ex = []\n",
    "    bb_ex = []\n",
    "\n",
    "    aa_nex = []\n",
    "    bb_nex = []\n",
    "    for i in range(n):\n",
    "        if can_ex[i]:\n",
    "            aa_ex.append(a[i])\n",
    "            bb_ex.append(b[i])\n",
    "        else:\n",
    "            aa_nex.append(a[i])\n",
    "            bb_nex.append(b[i])\n",
    "\n",
    "    ip = True\n",
    "    if aa_nex != bb_nex:\n",
    "        ip = False\n",
    "\n",
    "    aa_ex.sort()\n",
    "    bb_ex.sort()\n",
    "\n",
    "    if aa_ex != bb_ex:\n",
    "        ip = False\n",
    "\n",
    "    if ip:\n",
    "        print('YES')\n",
    "    else:\n",
    "        print('NO')"
   ]
  },
  {
   "cell_type": "markdown",
   "metadata": {},
   "source": [
    "F"
   ]
  },
  {
   "cell_type": "code",
   "execution_count": null,
   "metadata": {},
   "outputs": [],
   "source": [
    "from collections import Counter\n",
    "\n",
    "n = int(input())\n",
    "li = [ord(input()) - 97 for _ in range(n)]\n",
    "\n",
    "odd_lens = [[] for _ in range(26)]\n",
    "even_lens = [[] for _ in range(26)]\n",
    "\n",
    "\n",
    "for v in li:\n",
    "    ct = Counter(v)\n",
    "    \n",
    "    for num in range(26):\n",
    "        if num not in ct:\n",
    "            if len(v) % 2 == 0:\n",
    "                even_lens[num].append(ct)\n",
    "            else:\n",
    "                odd_lens[num].append(ct)"
   ]
  },
  {
   "cell_type": "code",
   "execution_count": 43,
   "metadata": {},
   "outputs": [
    {
     "data": {
      "text/plain": [
       "67108862"
      ]
     },
     "execution_count": 43,
     "metadata": {},
     "output_type": "execute_result"
    }
   ],
   "source": [
    "def nCk(n, k):\n",
    "    if n < k:\n",
    "        return 0\n",
    "    if k < 0:\n",
    "        return 0\n",
    "    \n",
    "    if n - k < k:\n",
    "        k = n - k\n",
    "        \n",
    "    num = 1\n",
    "    for i in range(n, n - k, -1):\n",
    "        num *= i\n",
    "    \n",
    "    denom = 1\n",
    "    for i in range(2, k + 1):\n",
    "        denom *= i\n",
    "        \n",
    "    return num // denom\n",
    "\n",
    "r = 0\n",
    "for i in range(1, 26):\n",
    "    r += nCk(26, i)\n",
    "    \n",
    "r"
   ]
  },
  {
   "cell_type": "markdown",
   "metadata": {},
   "source": [
    "G"
   ]
  },
  {
   "cell_type": "code",
   "execution_count": 56,
   "metadata": {},
   "outputs": [
    {
     "name": "stdout",
     "output_type": "stream",
     "text": [
      "5\n",
      "1 2\n",
      "2 3\n",
      "3 4\n",
      "4 5\n",
      "YES\n"
     ]
    }
   ],
   "source": [
    "from collections import deque\n",
    "\n",
    "def preorder(a, b):\n",
    "    if a != b or len(li[a]) != len(li[b]):\n",
    "        return False\n",
    "    \n",
    "    size = len(li[a])\n",
    "    \n",
    "    for i in range(0, (size + 1) // 2):\n",
    "        if not preorder(li[a][i], li[b][size - 1 - i]):\n",
    "            return False\n",
    "        \n",
    "    return True\n",
    "\n",
    "n = int(input())\n",
    "oli = [[] for _ in range(n + 1)]\n",
    "for _ in range(n - 1):\n",
    "    u, v = map(int, input().split())\n",
    "    \n",
    "    oli[u].append(v)\n",
    "    oli[v].append(u)\n",
    "    \n",
    "queue = deque()\n",
    "queue.append(1)\n",
    "\n",
    "vt = [False] * (n + 1)\n",
    "vt[1] = True\n",
    "\n",
    "li = [[] for _ in range(n + 1)]\n",
    "while queue:\n",
    "    value = queue.popleft()\n",
    "    \n",
    "    for v in oli[value]:\n",
    "        if vt[v]:\n",
    "            continue\n",
    "        li[value].append(v)\n",
    "        \n",
    "r = preorder(1, 1)\n",
    "if r == True:\n",
    "    print('YES')\n",
    "else:\n",
    "    print('NO')"
   ]
  }
 ],
 "metadata": {
  "kernelspec": {
   "display_name": "Python 3",
   "language": "python",
   "name": "python3"
  },
  "language_info": {
   "codemirror_mode": {
    "name": "ipython",
    "version": 3
   },
   "file_extension": ".py",
   "mimetype": "text/x-python",
   "name": "python",
   "nbconvert_exporter": "python",
   "pygments_lexer": "ipython3",
   "version": "3.8.3"
  }
 },
 "nbformat": 4,
 "nbformat_minor": 4
}
