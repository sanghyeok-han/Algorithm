{
 "cells": [
  {
   "cell_type": "markdown",
   "metadata": {},
   "source": [
    "A"
   ]
  },
  {
   "cell_type": "code",
   "execution_count": null,
   "metadata": {},
   "outputs": [],
   "source": [
    "4 2 28"
   ]
  },
  {
   "cell_type": "code",
   "execution_count": null,
   "metadata": {},
   "outputs": [],
   "source": [
    "n, k, x = map(int, input().split())\n",
    "\n"
   ]
  },
  {
   "cell_type": "code",
   "execution_count": null,
   "metadata": {},
   "outputs": [],
   "source": [
    "x 7\n",
    "k 7 8x 9x"
   ]
  },
  {
   "cell_type": "code",
   "execution_count": null,
   "metadata": {},
   "outputs": [],
   "source": [
    "n = 4 mex = 4\n",
    "0 1 2 3"
   ]
  },
  {
   "cell_type": "code",
   "execution_count": 14,
   "metadata": {},
   "outputs": [
    {
     "name": "stdout",
     "output_type": "stream",
     "text": [
      "4 2 28\n",
      "57\n"
     ]
    }
   ],
   "source": [
    "import io, os, sys\n",
    "input = io.BytesIO(os.read(0, os.fstat(0).st_size)).readline\n",
    "\n",
    "def get_sum(x):\n",
    "    return x * (x + 1) // 2\n",
    "\n",
    "for _ in range(int(input())):\n",
    "    n, k, x = map(int, input().split())\n",
    "\n",
    "    if k > x + 1:\n",
    "        print(-1)\n",
    "    elif k > n:\n",
    "        print(-1)\n",
    "    else:\n",
    "        if x == k:\n",
    "            r = get_sum(k - 1) + (n - k) * (k - 1)\n",
    "        else:\n",
    "            r = get_sum(k - 1) + (n - k) * x\n",
    "\n",
    "        print(r)"
   ]
  },
  {
   "cell_type": "markdown",
   "metadata": {},
   "source": [
    "B"
   ]
  },
  {
   "cell_type": "code",
   "execution_count": null,
   "metadata": {},
   "outputs": [],
   "source": [
    "n이 홀수일 때 최대는 싹 다 or해서 채우는 것\n",
    "n이 홀수일 때 최소는 ?\n",
    "\n",
    "n이 짝수일 때 최소는 싹 다 or해서 채우는 것"
   ]
  },
  {
   "cell_type": "code",
   "execution_count": 64,
   "metadata": {},
   "outputs": [
    {
     "name": "stdout",
     "output_type": "stream",
     "text": [
      "2 3\n",
      "0 1\n",
      "1 2 3\n",
      "0 1\n"
     ]
    }
   ],
   "source": [
    "import io, os, sys\n",
    "input = io.BytesIO(os.read(0, os.fstat(0).st_size)).readline\n",
    "\n",
    "for _ in range(int(input())):\n",
    "    n, m = map(int, input().split())\n",
    "    A = list(map(int, input().split()))\n",
    "    B = list(map(int, input().split()))\n",
    "\n",
    "    all_b = 0\n",
    "    for v in B:\n",
    "        all_b |= v\n",
    "\n",
    "    if n % 2 == 0:\n",
    "        max_r = 0\n",
    "        for v in A:\n",
    "            max_r ^= v\n",
    "\n",
    "        min_r = 0\n",
    "        for v in A:\n",
    "            min_r ^= (v | all_b)\n",
    "    else:\n",
    "        max_r = 0\n",
    "        for v in A:\n",
    "            max_r ^= (v | all_b) \n",
    "\n",
    "        min_r = 0\n",
    "        for v in A:\n",
    "            min_r ^= v\n",
    "\n",
    "    print(min_r, max_r)"
   ]
  },
  {
   "cell_type": "markdown",
   "metadata": {},
   "source": [
    "C"
   ]
  },
  {
   "cell_type": "code",
   "execution_count": 26,
   "metadata": {},
   "outputs": [
    {
     "name": "stdout",
     "output_type": "stream",
     "text": [
      "1\n",
      "2 1\n",
      "1 1\n",
      "4\n"
     ]
    }
   ],
   "source": [
    "from collections import deque\n",
    "import io, os, sys\n",
    "input = io.BytesIO(os.read(0, os.fstat(0).st_size)).readline\n",
    "\n",
    "for _ in range(int(input())):\n",
    "    n, k = map(int, input().split())\n",
    "    A = deque(map(int, input().split()))\n",
    "\n",
    "    st_A = set(A)\n",
    "\n",
    "    result = [0] * k\n",
    "    for cur in range(1, k + 1):\n",
    "        if cur not in st_A:\n",
    "            result[cur - 1] = 0\n",
    "        else: \n",
    "            while A[0] < cur:\n",
    "                A.popleft()\n",
    "            while A[-1] < cur:\n",
    "                A.pop()        \n",
    "\n",
    "            if result:\n",
    "                result[cur - 1] = len(A) * 2\n",
    "            else:\n",
    "                result[cur - 1] = 0\n",
    "\n",
    "    print(*result)"
   ]
  },
  {
   "cell_type": "markdown",
   "metadata": {},
   "source": [
    "### D"
   ]
  },
  {
   "cell_type": "code",
   "execution_count": 50,
   "metadata": {},
   "outputs": [
    {
     "name": "stdout",
     "output_type": "stream",
     "text": [
      "6\n",
      "10 6 4 6 3 4\n",
      "7\n",
      "2 2 2 2 2 1\n"
     ]
    }
   ],
   "source": [
    "import io, os, sys\n",
    "input = io.BytesIO(os.read(0, os.fstat(0).st_size)).readline\n",
    "\n",
    "inf = float('inf')\n",
    "\n",
    "for _ in range(int(input())):\n",
    "    n = int(input())\n",
    "    C = list(map(int, input().split()))\n",
    "    k = int(input())\n",
    "\n",
    "    to_uses = []\n",
    "    fv = inf\n",
    "    for i in range(n - 1, -1, -1):\n",
    "        if C[i] < fv:\n",
    "            fv = C[i]\n",
    "            to_uses.append((fv, i))\n",
    "\n",
    "    result = [0] * n\n",
    "    while to_uses:\n",
    "        while len(to_uses) >= 2 and k // to_uses[-1][0] == k // to_uses[-2][0]:\n",
    "            to_uses.pop()\n",
    "\n",
    "        if len(to_uses) == 1:\n",
    "            amount = k // to_uses[-1][0]\n",
    "            result[to_uses[-1][1]] += amount\n",
    "            break\n",
    "\n",
    "        start = 0\n",
    "        end = k // to_uses[-1][0]\n",
    "        amount = 0\n",
    "        while start <= end:\n",
    "            mid = (start + end) // 2\n",
    "\n",
    "    #         print(mid, (k - mid * to_uses[-1][0]) // to_uses[-1][0], (k - mid * to_uses[-1][0]) // to_uses[-2][0])\n",
    "\n",
    "            if (k - mid * to_uses[-1][0]) // to_uses[-1][0] == (k - mid * to_uses[-1][0]) // to_uses[-2][0]:\n",
    "                amount = mid\n",
    "                end = mid - 1\n",
    "            else:\n",
    "                start = mid + 1\n",
    "\n",
    "        result[to_uses[-1][1]] += amount\n",
    "        k -= amount * to_uses[-1][0]\n",
    "\n",
    "    cumul = 0\n",
    "    for i in range(n - 1, -1, -1):\n",
    "        temp = result[i] + cumul\n",
    "\n",
    "        cumul += result[i]\n",
    "        result[i] = temp\n",
    "\n",
    "    print(*result)"
   ]
  },
  {
   "cell_type": "markdown",
   "metadata": {},
   "source": [
    "### E"
   ]
  },
  {
   "cell_type": "code",
   "execution_count": null,
   "metadata": {},
   "outputs": [],
   "source": [
    "4096, 2048, 1024, 512, 256, 128, 64, 32, 16, 8, 4, 2, 1"
   ]
  },
  {
   "cell_type": "code",
   "execution_count": 86,
   "metadata": {},
   "outputs": [
    {
     "name": "stdout",
     "output_type": "stream",
     "text": [
      "10\n",
      "2 1 0 7 1 2 0 2 4 3\n",
      "6\n"
     ]
    }
   ],
   "source": [
    "from heapq import heappush, heappop\n",
    "\n",
    "checks = []\n",
    "for num in range(13):\n",
    "    checks.append(2 ** num - 1)\n",
    "    \n",
    "checks.reverse()\n",
    "\n",
    "n = int(input())\n",
    "li = list(map(int, input().split()))\n",
    "\n",
    "mexes = []\n",
    "for start in range(n):\n",
    "    mex = 0\n",
    "    heap = []\n",
    "    \n",
    "    for end in range(start, n):\n",
    "        heappush(heap, li[end])\n",
    "        \n",
    "        while heap:\n",
    "            v = heappop(heap)\n",
    "            if v == mex:\n",
    "                mex += 1\n",
    "            else:\n",
    "                heappush(heap, v)\n",
    "                break\n",
    "                \n",
    "        if mex >= 1:\n",
    "            mexes.append((mex, start, end))\n",
    "            \n",
    "mexes.sort(key=lambda x: (-x[0], x[2] - x[1], x[1]))\n",
    "\n",
    "result = 0\n",
    "fmex = 0\n",
    "used = []\n",
    "for mex, s, e in mexes:\n",
    "    if mex == fmex:\n",
    "        continue\n",
    "    \n",
    "    ip = True\n",
    "    for fs, fe, _ in used:\n",
    "        if s <= fs <= e or s <= fe <= e or fs <= s <= fe or fs <= e <= fe:\n",
    "            ip = False\n",
    "            break\n",
    "            \n",
    "    if ip:\n",
    "        result += mex + 1\n",
    "        fmex = mex\n",
    "        used.append((s, e, mex))\n",
    "        \n",
    "print(result)"
   ]
  }
 ],
 "metadata": {
  "kernelspec": {
   "display_name": "Python 3",
   "language": "python",
   "name": "python3"
  },
  "language_info": {
   "codemirror_mode": {
    "name": "ipython",
    "version": 3
   },
   "file_extension": ".py",
   "mimetype": "text/x-python",
   "name": "python",
   "nbconvert_exporter": "python",
   "pygments_lexer": "ipython3",
   "version": "3.8.3"
  }
 },
 "nbformat": 4,
 "nbformat_minor": 4
}
