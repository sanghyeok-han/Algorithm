{
 "cells": [
  {
   "cell_type": "markdown",
   "metadata": {},
   "source": [
    "A"
   ]
  },
  {
   "cell_type": "code",
   "execution_count": null,
   "metadata": {},
   "outputs": [],
   "source": [
    "1   2 3   4   5  6  7  8 9\n",
    "\n",
    "a   b b    a  a  b  b  a a \n",
    "\n",
    "0   1 2   3   4  5  6  7 8"
   ]
  },
  {
   "cell_type": "code",
   "execution_count": 8,
   "metadata": {},
   "outputs": [
    {
     "name": "stdout",
     "output_type": "stream",
     "text": [
      "1000000\n",
      "500202 499798\n"
     ]
    }
   ],
   "source": [
    "import io, os, sys\n",
    "input = io.BytesIO(os.read(0, os.fstat(0).st_size)).readline\n",
    "\n",
    "for _ in range(int(input())):\n",
    "    n = int(input())\n",
    "\n",
    "    turn = 0\n",
    "    ca = cb = 0\n",
    "    while True:\n",
    "        to_have = turn + 1\n",
    "\n",
    "        if turn % 4 == 0 or turn % 4 == 3:\n",
    "            if to_have <= n:\n",
    "                ca += to_have\n",
    "                n -= to_have\n",
    "            else:\n",
    "                ca += n\n",
    "                break\n",
    "        else:\n",
    "            if to_have <= n:\n",
    "                cb += to_have\n",
    "                n -= to_have\n",
    "            else:\n",
    "                cb += n\n",
    "                break\n",
    "        turn += 1\n",
    "\n",
    "    print(ca, cb)"
   ]
  },
  {
   "cell_type": "markdown",
   "metadata": {},
   "source": [
    "B"
   ]
  },
  {
   "cell_type": "code",
   "execution_count": 19,
   "metadata": {},
   "outputs": [
    {
     "name": "stdout",
     "output_type": "stream",
     "text": [
      "1000000\n",
      "250278 249924 249722 250076\n"
     ]
    }
   ],
   "source": [
    "import io, os, sys\n",
    "input = io.BytesIO(os.read(0, os.fstat(0).st_size)).readline\n",
    "\n",
    "for _ in range(int(input())):\n",
    "    n = int(input())\n",
    "\n",
    "    turn = 0\n",
    "    start_color = 0 # 0: white, 1: black\n",
    "    c_aw = c_ab = c_bw = c_bb = 0\n",
    "    cur_used = 0\n",
    "    while True:\n",
    "        to_have = turn + 1\n",
    "\n",
    "        left = n - cur_used\n",
    "        if left == 0:\n",
    "            break\n",
    "\n",
    "        if cur_used % 2 == 0:\n",
    "            start_color = 0\n",
    "        else:\n",
    "            start_color = 1\n",
    "\n",
    "        if turn % 4 == 0 or turn % 4 == 3:\n",
    "            to_have = min(to_have, left)\n",
    "\n",
    "            to_have_h = to_have // 2\n",
    "            c_aw += to_have_h\n",
    "            c_ab += to_have_h\n",
    "\n",
    "            if to_have % 2 == 1:\n",
    "                if start_color == 0:\n",
    "                    c_aw += 1\n",
    "                else:\n",
    "                    c_ab += 1\n",
    "        else:\n",
    "            to_have = min(to_have, left)\n",
    "\n",
    "            to_have_h = to_have // 2\n",
    "            c_bw += to_have_h\n",
    "            c_bb += to_have_h\n",
    "\n",
    "            if to_have % 2 == 1:\n",
    "                if start_color == 0:\n",
    "                    c_bw += 1\n",
    "                else:\n",
    "                    c_bb += 1\n",
    "\n",
    "        cur_used += to_have\n",
    "        turn += 1\n",
    "\n",
    "    print(c_aw, c_ab, c_bw, c_bb)"
   ]
  },
  {
   "cell_type": "markdown",
   "metadata": {},
   "source": [
    "B"
   ]
  },
  {
   "cell_type": "code",
   "execution_count": 21,
   "metadata": {},
   "outputs": [
    {
     "name": "stdout",
     "output_type": "stream",
     "text": [
      "3 3 2\n",
      "13 22 29\n",
      "5 16 25\n",
      "YES\n"
     ]
    }
   ],
   "source": [
    "import io, os, sys\n",
    "input = io.BytesIO(os.read(0, os.fstat(0).st_size)).readline\n",
    "\n",
    "for _ in range(int(input())):\n",
    "    n, w, h = map(int, input().split())\n",
    "    A = list(map(int, input().split()))\n",
    "    B = list(map(int, input().split()))\n",
    "\n",
    "    diffs = [A[i] - B[i] for i in range(n)]\n",
    "\n",
    "    max_diff = max(diffs)\n",
    "    min_diff = min(diffs)\n",
    "\n",
    "    if max_diff - min_diff <= 2 * w - 2 * h:\n",
    "        print('YES')\n",
    "    else:\n",
    "        print('NO')"
   ]
  },
  {
   "cell_type": "markdown",
   "metadata": {},
   "source": [
    "C"
   ]
  },
  {
   "cell_type": "code",
   "execution_count": 24,
   "metadata": {},
   "outputs": [
    {
     "name": "stdout",
     "output_type": "stream",
     "text": [
      "6\n",
      "1 1 1 4 4 5\n",
      "4\n"
     ]
    }
   ],
   "source": [
    "import io, os, sys\n",
    "input = io.BytesIO(os.read(0, os.fstat(0).st_size)).readline\n",
    "\n",
    "for _ in range(int(input())):\n",
    "    n = int(input())\n",
    "    li = sorted(map(int, input().split()))\n",
    "\n",
    "    to_make = 1\n",
    "    needed = 0\n",
    "    for v in li:\n",
    "        if v < to_make:\n",
    "            continue\n",
    "        elif v == to_make:\n",
    "            to_make += 1\n",
    "        elif v > to_make:\n",
    "            needed += v - to_make\n",
    "            to_make += 1\n",
    "\n",
    "    print(needed)"
   ]
  },
  {
   "cell_type": "markdown",
   "metadata": {},
   "source": [
    "D"
   ]
  },
  {
   "cell_type": "code",
   "execution_count": 48,
   "metadata": {},
   "outputs": [
    {
     "name": "stdout",
     "output_type": "stream",
     "text": [
      "1\n",
      "3\n",
      "inn\n",
      "nww\n",
      "wii\n",
      "(1, 2) (2, 0) (0, 1)\n",
      "2\n",
      "1 n 3 i\n",
      "2 w 1 i\n"
     ]
    }
   ],
   "source": [
    "from collections import defaultdict as dd\n",
    "import sys\n",
    "input = lambda: sys.stdin.readline().rstrip()\n",
    "\n",
    "tps = 'win'\n",
    "\n",
    "for _ in range(int(input())):\n",
    "    n = int(input())\n",
    "\n",
    "    needed = [[[] for _ in range(3)] for _ in range(3)] # needed[a][b]: a to out, b to in\n",
    "    for i in range(n):\n",
    "        s = input()\n",
    "\n",
    "        cs = [0] * 3\n",
    "        for v in s:\n",
    "            if v == 'w':\n",
    "                cs[0] += 1\n",
    "            elif v == 'i':\n",
    "                cs[1] += 1\n",
    "            elif v == 'n':\n",
    "                cs[2] += 1\n",
    "\n",
    "        alls = [0, 1, 2]\n",
    "        have_zero_tp = -1\n",
    "        have_two_tp = -1\n",
    "        for tp in range(3):\n",
    "            if cs[tp] == 3:\n",
    "                alls.remove(tp)\n",
    "                needed[tp][alls.pop()].append(i + 1)\n",
    "                needed[tp][alls.pop()].append(i + 1)\n",
    "                break\n",
    "\n",
    "            elif cs[tp] == 2:\n",
    "                have_two_tp = tp\n",
    "            elif cs[tp] == 0:\n",
    "                have_zero_tp = tp\n",
    "\n",
    "        if have_two_tp != -1:\n",
    "            needed[have_two_tp][have_zero_tp].append(i + 1)\n",
    "\n",
    "    result = []\n",
    "    for i in range(3):\n",
    "        for j in range(i, 3):\n",
    "            while needed[i][j] and needed[j][i]:\n",
    "                result.append((needed[i][j].pop(), tps[i], needed[j][i].pop(), tps[j]))\n",
    "\n",
    "    lefts = dd(list)\n",
    "    for i in range(3):\n",
    "        for j in range(i, 3):\n",
    "            if needed[i][j]:\n",
    "                lefts[(i, j)] = needed[i][j]\n",
    "            if needed[j][i]:\n",
    "                lefts[(j, i)] = needed[j][i]\n",
    "\n",
    "    if lefts:\n",
    "        keys = list(lefts.keys())\n",
    "\n",
    "        a = keys.pop()\n",
    "        b = keys.pop()\n",
    "        c = keys.pop()\n",
    "\n",
    "        if a[1] != b[0]:\n",
    "            a, b = b, a\n",
    "            \n",
    "        while lefts[a]:\n",
    "            pi = lefts[a].pop()\n",
    "            pj = lefts[b].pop()\n",
    "\n",
    "            result.append((pj, tps[b[0]], pi, tps[a[0]]))\n",
    "\n",
    "            pk = lefts[c].pop()\n",
    "\n",
    "            result.append((pk, tps[c[0]], pj, tps[c[1]]))\n",
    "\n",
    "    print(len(result))\n",
    "    for v in result:\n",
    "        print(*v)"
   ]
  },
  {
   "cell_type": "markdown",
   "metadata": {},
   "source": [
    "E"
   ]
  },
  {
   "cell_type": "code",
   "execution_count": null,
   "metadata": {},
   "outputs": [],
   "source": [
    "각 경우별로 can_make와 to_make를 구한다고 할 때\n",
    "can_make가 추가적으로 들어오는건 의미가 없음\n",
    "\n",
    "can_make 초과의 값이 들어온다면, 그 값 초과의 값은 전부 1씩 쓸 필요 없어짐"
   ]
  },
  {
   "cell_type": "code",
   "execution_count": 67,
   "metadata": {},
   "outputs": [
    {
     "name": "stdout",
     "output_type": "stream",
     "text": [
      "3\n",
      "3 1 2\n",
      "2\n",
      "1\n",
      "1\n"
     ]
    }
   ],
   "source": [
    "can_make = 0\n",
    "to_make = 1\n",
    "\n",
    "n = int(input())\n",
    "li = list(map(int, input().split()))\n",
    "\n",
    "ans = 0\n",
    "st = set()\n",
    "for v in li:    \n",
    "    if v <= can_make:\n",
    "        pass\n",
    "    else:   \n",
    "        if v > to_make:\n",
    "            ans += v - to_make\n",
    "            \n",
    "        if v < to_make:\n",
    "            ans -= to_make - v\n",
    "            \n",
    "        if v > to_make:\n",
    "            to_make += 1\n",
    "            ans += \n",
    "\n",
    "            \n",
    "    st.add(v)\n",
    "    while can_make + 1 in st:\n",
    "        can_make += 1\n",
    "        \n",
    "    print(ans)"
   ]
  }
 ],
 "metadata": {
  "kernelspec": {
   "display_name": "Python 3",
   "language": "python",
   "name": "python3"
  },
  "language_info": {
   "codemirror_mode": {
    "name": "ipython",
    "version": 3
   },
   "file_extension": ".py",
   "mimetype": "text/x-python",
   "name": "python",
   "nbconvert_exporter": "python",
   "pygments_lexer": "ipython3",
   "version": "3.7.4"
  }
 },
 "nbformat": 4,
 "nbformat_minor": 2
}
