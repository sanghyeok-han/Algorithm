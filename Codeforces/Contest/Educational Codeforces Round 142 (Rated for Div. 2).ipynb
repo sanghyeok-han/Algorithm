{
 "cells": [
  {
   "cell_type": "markdown",
   "metadata": {},
   "source": [
    "A"
   ]
  },
  {
   "cell_type": "code",
   "execution_count": null,
   "metadata": {},
   "outputs": [],
   "source": [
    "2 2\n",
    "1 1\n",
    "0 0"
   ]
  },
  {
   "cell_type": "code",
   "execution_count": 4,
   "metadata": {},
   "outputs": [
    {
     "name": "stdout",
     "output_type": "stream",
     "text": [
      "5\n",
      "1 2 3 4 5\n",
      "5\n"
     ]
    }
   ],
   "source": [
    "import io, os, sys\n",
    "input = io.BytesIO(os.read(0, os.fstat(0).st_size)).readline\n",
    "\n",
    "for _ in range(int(input())):\n",
    "    n = int(input())\n",
    "    li = sorted(map(int, input().split()), reverse=True)\n",
    "\n",
    "    c = 0\n",
    "    while len(li) >= 2:\n",
    "        if li[-1] == li[-2] == 1:\n",
    "            li.pop()\n",
    "            li.pop()\n",
    "            c += 1\n",
    "        else:\n",
    "            break\n",
    "\n",
    "    c += len(li)\n",
    "\n",
    "    print(c)"
   ]
  },
  {
   "cell_type": "markdown",
   "metadata": {},
   "source": [
    "B"
   ]
  },
  {
   "cell_type": "code",
   "execution_count": null,
   "metadata": {},
   "outputs": [],
   "source": [
    "모두가 좋아하는 것부터 전부 사용\n",
    "\n",
    "type 2, 3를 번갈아서 사용 후 남은 것 최대한 사용\n",
    "\n",
    "type 4 사용"
   ]
  },
  {
   "cell_type": "code",
   "execution_count": 12,
   "metadata": {},
   "outputs": [
    {
     "name": "stdout",
     "output_type": "stream",
     "text": [
      "3 0 0 7\n",
      "7\n"
     ]
    }
   ],
   "source": [
    "import io, os, sys\n",
    "input = io.BytesIO(os.read(0, os.fstat(0).st_size)).readline\n",
    "\n",
    "for _ in range(int(input())):\n",
    "    a, b, c, d = map(int, input().split())\n",
    "\n",
    "    ac = bc = 0\n",
    "    result = 0\n",
    "\n",
    "    ac = bc = a\n",
    "    result = a\n",
    "    a = 0\n",
    "\n",
    "    if ac:\n",
    "        to_use = min(b, c)\n",
    "\n",
    "        b -= to_use\n",
    "        c -= to_use\n",
    "        result += to_use * 2\n",
    "\n",
    "    c_to_use = min(ac, c)\n",
    "    result += c_to_use\n",
    "    c -= c_to_use\n",
    "\n",
    "    ac -= c_to_use\n",
    "    bc += c_to_use\n",
    "\n",
    "    b_to_use = min(bc, b)\n",
    "    result += b_to_use\n",
    "    b -= b_to_use\n",
    "\n",
    "    ac += b_to_use\n",
    "    bc -= b_to_use\n",
    "\n",
    "    d_to_use = min(ac, bc, d)\n",
    "    result += d_to_use\n",
    "    d -= d_to_use\n",
    "\n",
    "    if b or c or d:\n",
    "        result += 1\n",
    "\n",
    "    print(result)"
   ]
  },
  {
   "cell_type": "markdown",
   "metadata": {},
   "source": [
    "C"
   ]
  },
  {
   "cell_type": "code",
   "execution_count": null,
   "metadata": {},
   "outputs": [],
   "source": [
    "import io, os, sys\n",
    "input = io.BytesIO(os.read(0, os.fstat(0).st_size)).readline\n",
    "\n",
    "for _ in range(int(input())):\n",
    "    n = int(input())\n",
    "    li = list(map(int, input().split()))\n",
    "\n",
    "    indices = [0] * (n + 1)\n",
    "    for i in range(n):\n",
    "        indices[li[i]] = i\n",
    "\n",
    "    needed = n // 2\n",
    "\n",
    "    if n % 2 == 1:\n",
    "        mid = n // 2 + 1\n",
    "\n",
    "        left_i = right_i = indices[mid]\n",
    "\n",
    "        to_find = [mid - 1, mid + 1]\n",
    "    else:\n",
    "        mid1 = n // 2\n",
    "        mid2 = n // 2 + 1\n",
    "\n",
    "        left_i = indices[mid1]\n",
    "        right_i = indices[mid2]\n",
    "\n",
    "        to_find = [mid1 - 1, mid2 + 1]\n",
    "        if left_i < right_i:\n",
    "            needed -= 1\n",
    "\n",
    "    while True:\n",
    "        if left_i > right_i:\n",
    "            break\n",
    "\n",
    "        if to_find[0] == 0:\n",
    "            break\n",
    "\n",
    "        n_left_i = indices[to_find[0]]\n",
    "        n_right_i = indices[to_find[1]]\n",
    "\n",
    "        if n_left_i < left_i and right_i < n_right_i:\n",
    "            needed -= 1\n",
    "            to_find[0] -= 1\n",
    "            to_find[1] += 1\n",
    "            left_i = n_left_i\n",
    "            right_i = n_right_i\n",
    "        else:\n",
    "            break\n",
    "\n",
    "    print(needed)"
   ]
  },
  {
   "cell_type": "markdown",
   "metadata": {},
   "source": [
    "D"
   ]
  },
  {
   "cell_type": "code",
   "execution_count": 6,
   "metadata": {},
   "outputs": [
    {
     "name": "stdout",
     "output_type": "stream",
     "text": [
      "3 4\n",
      "2 4 1 3\n",
      "1 2 4 3\n",
      "2 1 3 4\n",
      "1 4 4\n"
     ]
    }
   ],
   "source": [
    "import io, os, sys\n",
    "input = io.BytesIO(os.read(0, os.fstat(0).st_size)).readline\n",
    "\n",
    "get_value = lambda x: int(x) - 1\n",
    "\n",
    "for _ in range(int(input())):\n",
    "    root = dict()\n",
    "\n",
    "    n, m = map(int, input().split())\n",
    "    li = [list(map(get_value, input().split())) for _ in range(n)]\n",
    "\n",
    "    for i in range(n):\n",
    "        indices = [0] * m\n",
    "        for j in range(m):\n",
    "            v = li[i][j]\n",
    "            indices[v] = j\n",
    "\n",
    "        cur = root\n",
    "        for v in range(m):\n",
    "            index = indices[v]\n",
    "\n",
    "            if index not in cur:\n",
    "                cur[index] = dict()\n",
    "                cur = cur[index]\n",
    "            else:\n",
    "                cur = cur[index]\n",
    "\n",
    "    result = []\n",
    "    for i in range(n):\n",
    "        c = 0\n",
    "        cur = root\n",
    "        for j in range(m):\n",
    "            v = li[i][j]\n",
    "            if v in cur:\n",
    "                c += 1\n",
    "                cur = cur[v]\n",
    "            else:\n",
    "                break\n",
    "\n",
    "        result.append(c)\n",
    "\n",
    "    print(*result)"
   ]
  }
 ],
 "metadata": {
  "kernelspec": {
   "display_name": "Python 3",
   "language": "python",
   "name": "python3"
  },
  "language_info": {
   "codemirror_mode": {
    "name": "ipython",
    "version": 3
   },
   "file_extension": ".py",
   "mimetype": "text/x-python",
   "name": "python",
   "nbconvert_exporter": "python",
   "pygments_lexer": "ipython3",
   "version": "3.7.4"
  }
 },
 "nbformat": 4,
 "nbformat_minor": 2
}
