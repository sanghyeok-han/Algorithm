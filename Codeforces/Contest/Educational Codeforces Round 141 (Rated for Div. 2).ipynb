{
 "cells": [
  {
   "cell_type": "markdown",
   "metadata": {},
   "source": [
    "A"
   ]
  },
  {
   "cell_type": "code",
   "execution_count": 7,
   "metadata": {},
   "outputs": [
    {
     "name": "stdout",
     "output_type": "stream",
     "text": [
      "1\n",
      "3\n",
      "1 4 4\n",
      "YES\n",
      "1 4 4\n"
     ]
    }
   ],
   "source": [
    "import io, os, sys\n",
    "# input = io.BytesIO(os.read(0,os.fstat(0).st_size)).readline\n",
    "\n",
    "for _ in range(int(input())):\n",
    "    n = int(input())\n",
    "    li = sorted(map(int, input().split()), reverse=True)\n",
    "\n",
    "    if li[0] == li[-1]:\n",
    "        print('NO')\n",
    "    else:\n",
    "        print('YES')\n",
    "        \n",
    "        if li[0] == li[1]:\n",
    "            print(li.pop(), end=\" \")\n",
    "            print(*li)\n",
    "        else:\n",
    "            print(*li)"
   ]
  },
  {
   "cell_type": "markdown",
   "metadata": {},
   "source": [
    "B"
   ]
  },
  {
   "cell_type": "code",
   "execution_count": 8,
   "metadata": {},
   "outputs": [
    {
     "data": {
      "text/plain": [
       "8"
      ]
     },
     "execution_count": 8,
     "metadata": {},
     "output_type": "execute_result"
    }
   ],
   "source": [
    "n = 3\n",
    "li = [[1, 3, 4], [9, 2, 7], [5, 8, 6]]\n",
    "\n",
    "st = set()\n",
    "for i in range(n):\n",
    "    for j in range(n):\n",
    "        if i + 1 < n:\n",
    "            st.add(abs(li[i][j] - li[i + 1][j]))\n",
    "        if j + 1 < n:\n",
    "            st.add(abs(li[i][j] - li[i][j + 1]))\n",
    "            \n",
    "len(st)"
   ]
  },
  {
   "cell_type": "code",
   "execution_count": 12,
   "metadata": {},
   "outputs": [
    {
     "name": "stdout",
     "output_type": "stream",
     "text": [
      "4\n",
      "1 16 2 15\n",
      "13 4 14 3\n",
      "5 12 6 11\n",
      "9 8 10 7\n"
     ]
    }
   ],
   "source": [
    "from collections import deque\n",
    "import io, os, sys\n",
    "input = io.BytesIO(os.read(0,os.fstat(0).st_size)).readline\n",
    "\n",
    "for _ in range(int(input())):\n",
    "    n = int(input())\n",
    "\n",
    "    deq = deque(range(1, n ** 2 + 1))\n",
    "\n",
    "    result = [[0] * n for _ in range(n)]\n",
    "    cur = 0\n",
    "    for i in range(n):\n",
    "        if i % 2 == 0:\n",
    "            for j in range(n):\n",
    "                if cur == 0:\n",
    "                    temp = deq.popleft()\n",
    "                else:\n",
    "                    temp = deq.pop()\n",
    "                result[i][j] = temp\n",
    "                cur ^= 1\n",
    "        else:\n",
    "            for j in range(n - 1, -1, -1):\n",
    "                if cur == 0:\n",
    "                    temp = deq.popleft()\n",
    "                else:\n",
    "                    temp = deq.pop()\n",
    "                result[i][j] = temp\n",
    "                cur ^= 1\n",
    "\n",
    "    for v in result:\n",
    "        print(*v)"
   ]
  },
  {
   "cell_type": "markdown",
   "metadata": {},
   "source": [
    "C"
   ]
  },
  {
   "cell_type": "code",
   "execution_count": 19,
   "metadata": {},
   "outputs": [
    {
     "name": "stdout",
     "output_type": "stream",
     "text": [
      "4 401\n",
      "100 100 200 1\n",
      "1\n"
     ]
    }
   ],
   "source": [
    "import io, os, sys\n",
    "input = io.BytesIO(os.read(0,os.fstat(0).st_size)).readline\n",
    "\n",
    "inf = float('inf')\n",
    "\n",
    "for _ in range(int(input())):\n",
    "    n, m = map(int, input().split())\n",
    "    li = list(map(int, input().split()))\n",
    "\n",
    "    sli = sorted(li)\n",
    "\n",
    "    c = 0\n",
    "    cur_m = m\n",
    "    for v in sli:\n",
    "        if v <= cur_m:\n",
    "            cur_m -= v\n",
    "            c += 1\n",
    "        else:\n",
    "            break\n",
    "\n",
    "    if c == n:\n",
    "        print(1)\n",
    "    elif c == 0:\n",
    "        print(n + 1)\n",
    "    else:\n",
    "        result = n + 1 - c\n",
    "\n",
    "        cur_m = m\n",
    "        if li[c] <= cur_m:\n",
    "            cur_m -= li[c]\n",
    "            del li[c]\n",
    "\n",
    "            sli = sorted(li)\n",
    "            nc = 1\n",
    "            for v in sli:\n",
    "                if v <= cur_m:\n",
    "                    cur_m -= v\n",
    "                    nc += 1\n",
    "                else:\n",
    "                    break\n",
    "\n",
    "            if c == nc:\n",
    "                result -= 1\n",
    "\n",
    "        print(result)"
   ]
  },
  {
   "cell_type": "markdown",
   "metadata": {},
   "source": [
    "D"
   ]
  },
  {
   "cell_type": "code",
   "execution_count": 20,
   "metadata": {},
   "outputs": [
    {
     "data": {
      "text/plain": [
       "90000"
      ]
     },
     "execution_count": 20,
     "metadata": {},
     "output_type": "execute_result"
    }
   ],
   "source": [
    "300 * 300\n",
    "\n",
    "원소의 최댓값: 90000"
   ]
  },
  {
   "cell_type": "code",
   "execution_count": 21,
   "metadata": {},
   "outputs": [
    {
     "data": {
      "text/plain": [
       "27000000"
      ]
     },
     "execution_count": 21,
     "metadata": {},
     "output_type": "execute_result"
    }
   ],
   "source": [
    "90000 * 300"
   ]
  },
  {
   "cell_type": "code",
   "execution_count": 94,
   "metadata": {},
   "outputs": [
    {
     "name": "stdout",
     "output_type": "stream",
     "text": [
      "4\n",
      "0 0 0 0\n",
      "1\n"
     ]
    }
   ],
   "source": [
    "mod = 998244353 \n",
    "\n",
    "n = int(input())\n",
    "li = list(map(int, input().split()))\n",
    "\n",
    "dp = [[0] * 180000 for _ in range(n)]\n",
    "dp[1][li[1] + 90000] = 1\n",
    "\n",
    "for i in range(1, n - 1):\n",
    "    for dp_num in range(180000):\n",
    "        c = dp[i][dp_num]\n",
    "        if c >= 1:\n",
    "            num = dp_num - 90000\n",
    "            \n",
    "            nnum1 = li[i + 1] + num\n",
    "            nnum2 = li[i + 1] - num\n",
    "            \n",
    "            dp_nnum1 = nnum1 + 90000\n",
    "            dp_nnum2 = nnum2 + 90000\n",
    "            \n",
    "            if dp_nnum1 != dp_nnum2:\n",
    "                dp[i + 1][dp_nnum1] += c\n",
    "                dp[i + 1][dp_nnum2] += c\n",
    "            else:\n",
    "                dp[i + 1][dp_nnum1] += c\n",
    "            \n",
    "            dp[i + 1][dp_nnum1] %= mod\n",
    "            dp[i + 1][dp_nnum2] %= mod\n",
    "            \n",
    "result = sum(dp[n - 1]) % mod\n",
    "\n",
    "print(result)"
   ]
  },
  {
   "cell_type": "code",
   "execution_count": 70,
   "metadata": {},
   "outputs": [
    {
     "data": {
      "text/plain": [
       "[90001, 0, 0, 0, 0, 0, 0, 0, 0, 0]"
      ]
     },
     "execution_count": 70,
     "metadata": {},
     "output_type": "execute_result"
    }
   ],
   "source": [
    "dp[i][:10]"
   ]
  },
  {
   "cell_type": "code",
   "execution_count": 66,
   "metadata": {},
   "outputs": [
    {
     "data": {
      "text/plain": [
       "(-89999, 90001)"
      ]
     },
     "execution_count": 66,
     "metadata": {},
     "output_type": "execute_result"
    }
   ],
   "source": [
    "nnum1, nnum2"
   ]
  },
  {
   "cell_type": "code",
   "execution_count": 63,
   "metadata": {},
   "outputs": [
    {
     "data": {
      "text/plain": [
       "54000000"
      ]
     },
     "execution_count": 63,
     "metadata": {},
     "output_type": "execute_result"
    }
   ],
   "source": [
    "(90000 + 90000) * 300"
   ]
  },
  {
   "cell_type": "markdown",
   "metadata": {},
   "source": [
    "E"
   ]
  },
  {
   "cell_type": "code",
   "execution_count": null,
   "metadata": {},
   "outputs": [],
   "source": [
    "k가 A의 최대 이상일 때는 다 가능\n",
    "\n",
    "필요한 횟수는 k를 나눈 몫\n",
    "mono가 필요한 횟수가 poly보다 많아지면 안됨\n",
    "\n"
   ]
  },
  {
   "cell_type": "code",
   "execution_count": null,
   "metadata": {
    "scrolled": false
   },
   "outputs": [],
   "source": [
    "a = 101\n",
    "b = 89\n",
    "\n",
    "for k in range(1, 110):\n",
    "    print(k, a // k + 1, b // k + 1)"
   ]
  },
  {
   "cell_type": "code",
   "execution_count": 47,
   "metadata": {},
   "outputs": [
    {
     "data": {
      "text/plain": [
       "(133, 150)"
      ]
     },
     "execution_count": 47,
     "metadata": {},
     "output_type": "execute_result"
    }
   ],
   "source": [
    "b // 2 * 3 + 1, a // 2 * 3"
   ]
  },
  {
   "cell_type": "code",
   "execution_count": 48,
   "metadata": {},
   "outputs": [
    {
     "data": {
      "text/plain": [
       "(89, 100)"
      ]
     },
     "execution_count": 48,
     "metadata": {},
     "output_type": "execute_result"
    }
   ],
   "source": [
    "b // 2 * 2 + 1, a // 2 * 2"
   ]
  },
  {
   "cell_type": "code",
   "execution_count": 49,
   "metadata": {},
   "outputs": [
    {
     "data": {
      "text/plain": [
       "(45, 50)"
      ]
     },
     "execution_count": 49,
     "metadata": {},
     "output_type": "execute_result"
    }
   ],
   "source": [
    "b // 2 * 1 + 1, a // 2 * 1"
   ]
  },
  {
   "cell_type": "code",
   "execution_count": null,
   "metadata": {},
   "outputs": [],
   "source": [
    "a가 b보다 크다면\n",
    "\n",
    "b * x + 1에서 a * x까지는 안됨"
   ]
  }
 ],
 "metadata": {
  "kernelspec": {
   "display_name": "Python 3",
   "language": "python",
   "name": "python3"
  },
  "language_info": {
   "codemirror_mode": {
    "name": "ipython",
    "version": 3
   },
   "file_extension": ".py",
   "mimetype": "text/x-python",
   "name": "python",
   "nbconvert_exporter": "python",
   "pygments_lexer": "ipython3",
   "version": "3.7.4"
  }
 },
 "nbformat": 4,
 "nbformat_minor": 2
}
