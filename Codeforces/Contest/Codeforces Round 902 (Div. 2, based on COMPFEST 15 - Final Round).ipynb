{
 "cells": [
  {
   "cell_type": "markdown",
   "metadata": {},
   "source": [
    "A"
   ]
  },
  {
   "cell_type": "code",
   "execution_count": 3,
   "metadata": {},
   "outputs": [
    {
     "name": "stdout",
     "output_type": "stream",
     "text": [
      "11\n",
      "-30 12 -57 7 0 -81 -68 41 -89 0\n",
      "265\n"
     ]
    }
   ],
   "source": [
    "import io, os, sys\n",
    "input = io.BytesIO(os.read(0, os.fstat(0).st_size)).readline\n",
    "\n",
    "for _ in range(int(input())):\n",
    "    n = int(input())\n",
    "    li = list(map(int, input().split()))\n",
    "\n",
    "    result = -sum(li)\n",
    "\n",
    "    print(result)"
   ]
  },
  {
   "cell_type": "markdown",
   "metadata": {},
   "source": [
    "B"
   ]
  },
  {
   "cell_type": "code",
   "execution_count": 6,
   "metadata": {},
   "outputs": [
    {
     "name": "stdout",
     "output_type": "stream",
     "text": [
      "4 94\n",
      "1 4 2 3\n",
      "103 96 86 57\n",
      "265\n"
     ]
    }
   ],
   "source": [
    "import io, os, sys\n",
    "input = io.BytesIO(os.read(0, os.fstat(0).st_size)).readline\n",
    "\n",
    "for _ in range(int(input())):\n",
    "    n, p = map(int, input().split())\n",
    "    A = list(map(int, input().split()))\n",
    "    B = list(map(int, input().split()))\n",
    "\n",
    "    AB = [(A[i], B[i]) for i in range(n)]\n",
    "    AB.sort(key=lambda x: x[1])\n",
    "\n",
    "    result = p\n",
    "\n",
    "    covered = 1\n",
    "    for a, b in AB:\n",
    "        left = n - covered\n",
    "\n",
    "        to_use = min(a, left)\n",
    "        covered += to_use\n",
    "        result += to_use * min(b, p)\n",
    "        \n",
    "        if covered == n:\n",
    "            break\n",
    "\n",
    "    print(result)"
   ]
  },
  {
   "cell_type": "markdown",
   "metadata": {},
   "source": [
    "C"
   ]
  },
  {
   "cell_type": "code",
   "execution_count": 20,
   "metadata": {},
   "outputs": [
    {
     "name": "stdout",
     "output_type": "stream",
     "text": [
      "3 10 2\n",
      "5\n"
     ]
    }
   ],
   "source": [
    "import io, os, sys\n",
    "input = io.BytesIO(os.read(0, os.fstat(0).st_size)).readline\n",
    "\n",
    "for _ in range(int(input())):\n",
    "    n, m, k = map(int, input().split())\n",
    "\n",
    "    if k == 1:\n",
    "        print(1)\n",
    "    else:\n",
    "        temp = min(m, n - 1)\n",
    "        temp += m // n\n",
    "\n",
    "        if k == 2:\n",
    "            print(temp)\n",
    "        elif k == 3:\n",
    "            print(m - temp)\n",
    "        else:\n",
    "            print(0)"
   ]
  },
  {
   "cell_type": "code",
   "execution_count": null,
   "metadata": {},
   "outputs": [],
   "source": [
    "1 2 3 4 5\n",
    "0 0 2 2 6\n",
    "0 0 1 1 5"
   ]
  },
  {
   "cell_type": "code",
   "execution_count": 12,
   "metadata": {},
   "outputs": [
    {
     "data": {
      "text/plain": [
       "(4, 1)"
      ]
     },
     "execution_count": 12,
     "metadata": {},
     "output_type": "execute_result"
    }
   ],
   "source": [
    "temp, last"
   ]
  },
  {
   "cell_type": "markdown",
   "metadata": {},
   "source": [
    "D"
   ]
  },
  {
   "cell_type": "code",
   "execution_count": 69,
   "metadata": {},
   "outputs": [
    {
     "name": "stdout",
     "output_type": "stream",
     "text": [
      "{5: 63}\n"
     ]
    }
   ],
   "source": [
    "from itertools import product as prod\n",
    "\n",
    "mod = 998244353\n",
    "li = [1, 1, 1, 5, 5, 5]\n",
    "n = len(li)\n",
    "ct = {}\n",
    "\n",
    "for case in prod(*[range(2) for _ in range(n)]):\n",
    "    case = list(case)\n",
    "    \n",
    "    selected = case.copy()\n",
    "    for i in range(n):\n",
    "        if case[i]:\n",
    "            for j in range(i, n, i + 1):\n",
    "                selected[j] = 1\n",
    "            \n",
    "    max_v = 0\n",
    "    for i in range(n):\n",
    "        if selected[i]:\n",
    "            max_v = max(max_v, li[i])\n",
    "            \n",
    "    ct[max_v] = ct.get(max_v, 0) + 1\n",
    "\n",
    "del ct[0]\n",
    "\n",
    "print(ct)"
   ]
  },
  {
   "cell_type": "code",
   "execution_count": 47,
   "metadata": {},
   "outputs": [
    {
     "data": {
      "text/plain": [
       "{0: 1, 1: 1, 2: 2, 3: 4, 4: 8, 6: 48}"
      ]
     },
     "execution_count": 47,
     "metadata": {},
     "output_type": "execute_result"
    }
   ],
   "source": [
    "ct"
   ]
  },
  {
   "cell_type": "code",
   "execution_count": 30,
   "metadata": {},
   "outputs": [
    {
     "name": "stdout",
     "output_type": "stream",
     "text": [
      "5\n",
      "3 4 2 2 3\n"
     ]
    },
    {
     "data": {
      "text/plain": [
       "[(0, 0), (3, 1), (2, 0), (1, 1), (4, 0)]"
      ]
     },
     "execution_count": 30,
     "metadata": {},
     "output_type": "execute_result"
    }
   ],
   "source": [
    "get_v = lambda x: int(x) - 1\n",
    "\n",
    "n = int(input())\n",
    "li = list(map(get_v, input().split()))\n",
    "\n",
    "info = []\n",
    "for i in range(n):\n",
    "    if i == li[li[i]]:\n",
    "        info.append((li[i], 1))\n",
    "    else:\n",
    "        info.append((i, 0))\n",
    "        \n",
    "info"
   ]
  },
  {
   "cell_type": "code",
   "execution_count": null,
   "metadata": {},
   "outputs": [],
   "source": [
    "0 1 2 3 4\n",
    "2 3 1 1 2"
   ]
  }
 ],
 "metadata": {
  "kernelspec": {
   "display_name": "Python 3",
   "language": "python",
   "name": "python3"
  },
  "language_info": {
   "codemirror_mode": {
    "name": "ipython",
    "version": 3
   },
   "file_extension": ".py",
   "mimetype": "text/x-python",
   "name": "python",
   "nbconvert_exporter": "python",
   "pygments_lexer": "ipython3",
   "version": "3.8.3"
  }
 },
 "nbformat": 4,
 "nbformat_minor": 4
}
