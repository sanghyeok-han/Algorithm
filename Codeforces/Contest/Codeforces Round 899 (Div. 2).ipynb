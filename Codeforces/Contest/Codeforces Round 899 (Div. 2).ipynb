{
 "cells": [
  {
   "cell_type": "markdown",
   "metadata": {},
   "source": [
    "A"
   ]
  },
  {
   "cell_type": "code",
   "execution_count": 3,
   "metadata": {},
   "outputs": [
    {
     "name": "stdout",
     "output_type": "stream",
     "text": [
      "1\n",
      "1\n",
      "2\n"
     ]
    }
   ],
   "source": [
    "import io, os, sys\n",
    "input = io.BytesIO(os.read(0, os.fstat(0).st_size)).readline\n",
    "\n",
    "for _ in range(int(input())):\n",
    "    n = int(input())\n",
    "    A = list(map(int, input().split()))\n",
    "\n",
    "    cur = 0\n",
    "    for v in A:\n",
    "        cur += 1\n",
    "        if v == cur:\n",
    "            cur += 1\n",
    "\n",
    "    print(cur)"
   ]
  },
  {
   "cell_type": "markdown",
   "metadata": {},
   "source": [
    "B"
   ]
  },
  {
   "cell_type": "code",
   "execution_count": 20,
   "metadata": {},
   "outputs": [
    {
     "name": "stdout",
     "output_type": "stream",
     "text": [
      "1\n",
      "3\n",
      "3 1 2 3\n",
      "2 4 5\n",
      "2 3 4\n",
      "4\n"
     ]
    }
   ],
   "source": [
    "import io, os, sys\n",
    "input = io.BytesIO(os.read(0, os.fstat(0).st_size)).readline\n",
    "\n",
    "for _ in range(int(input())):\n",
    "    n = int(input())\n",
    "\n",
    "    all_st = set()\n",
    "    sts = []\n",
    "    for _ in range(n):\n",
    "        c, *temp = map(int, input().split())\n",
    "\n",
    "        temp_st = set(temp)\n",
    "        sts.append(temp_st)\n",
    "        all_st |= temp_st\n",
    "        \n",
    "    max_r = 0\n",
    "    for v in all_st:\n",
    "        check_st = set()\n",
    "        for i in range(n):\n",
    "            if v not in sts[i]:\n",
    "                check_st |= sts[i]\n",
    "                \n",
    "        max_r = max(max_r, len(check_st))\n",
    "        \n",
    "    print(max_r)"
   ]
  },
  {
   "cell_type": "markdown",
   "metadata": {},
   "source": [
    "C"
   ]
  },
  {
   "cell_type": "code",
   "execution_count": 19,
   "metadata": {},
   "outputs": [
    {
     "data": {
      "text/plain": [
       "{1, 2, 3, 4, 5}"
      ]
     },
     "execution_count": 19,
     "metadata": {},
     "output_type": "execute_result"
    }
   ],
   "source": [
    "a1\n",
    "a2\n",
    "a3\n",
    "a4\n",
    "\n",
    "\n",
    "a4 얻? a1~a3 중 가장 작은거 쓰거나 버려야함\n",
    "\n",
    "-1\n",
    "100\n",
    "-9\n",
    "1000\n",
    "\n"
   ]
  },
  {
   "cell_type": "code",
   "execution_count": 24,
   "metadata": {},
   "outputs": [
    {
     "name": "stdout",
     "output_type": "stream",
     "text": [
      "1\n",
      "-1\n",
      "0\n"
     ]
    }
   ],
   "source": [
    "import io, os, sys\n",
    "input = io.BytesIO(os.read(0, os.fstat(0).st_size)).readline\n",
    "\n",
    "for _ in range(int(input())):\n",
    "    n = int(input())\n",
    "    li = list(map(int, input().split()))\n",
    "\n",
    "    postfix = [0] * (n + 2)\n",
    "    cumul = 0\n",
    "    for i in range(n - 1, -1, -1):\n",
    "        if li[i] >= 1:\n",
    "            cumul += li[i]\n",
    "\n",
    "        postfix[i] = cumul\n",
    "\n",
    "    max_r = 0\n",
    "    for i in range(n):\n",
    "        if i % 2 == 0:\n",
    "            r = li[i] + postfix[i + 1]\n",
    "            max_r = max(max_r, r)\n",
    "        else:\n",
    "            r = postfix[i + 1]\n",
    "            max_r = max(max_r, r)\n",
    "\n",
    "    print(max_r)"
   ]
  },
  {
   "cell_type": "markdown",
   "metadata": {},
   "source": [
    "D"
   ]
  },
  {
   "cell_type": "code",
   "execution_count": 35,
   "metadata": {},
   "outputs": [
    {
     "name": "stdout",
     "output_type": "stream",
     "text": [
      "4\n",
      "3 2 1 0\n",
      "1 2\n",
      "2 3\n",
      "2 4\n",
      "8 6 12 10\n"
     ]
    }
   ],
   "source": [
    "import io, os, sys\n",
    "input = io.BytesIO(os.read(0, os.fstat(0).st_size)).readline\n",
    "\n",
    "inf = float('inf')\n",
    "\n",
    "## PYRIVAL BOOTSTRAP\n",
    "# https://github.com/cheran-senthil/PyRival/blob/master/pyrival/misc/bootstrap.py\n",
    "# This decorator allows for recursion without actually doing recursion\n",
    "## @bootstrap, yield when getting and returning value in recursive functions, end of functions\n",
    "from types import GeneratorType\n",
    "\n",
    "def bootstrap(f, stack=[]):\n",
    "    def wrappedfunc(*args, **kwargs):\n",
    "        if stack:\n",
    "            return f(*args, **kwargs)\n",
    "        else:\n",
    "            to = f(*args, **kwargs)\n",
    "            while True:\n",
    "                if type(to) is GeneratorType:\n",
    "                    stack.append(to)\n",
    "                    to = next(to)\n",
    "                else:\n",
    "                    stack.pop()\n",
    "                    if not stack:\n",
    "                        break\n",
    "                    to = stack[-1].send(to)\n",
    "            return to\n",
    "    return wrappedfunc\n",
    "\n",
    "@bootstrap\n",
    "def dfs(value, depth):\n",
    "    global init_cost\n",
    "    \n",
    "    vt_dfs[value] = True\n",
    "    \n",
    "    subtree_c = 1\n",
    "    for v in li[value]:\n",
    "        if vt_dfs[v]:\n",
    "            continue\n",
    "        \n",
    "        child_subtree_c = yield dfs(v, depth + 1)\n",
    "        \n",
    "        init_cost += (A[value] ^ A[v]) * child_subtree_c\n",
    "        subtree_c += child_subtree_c\n",
    "        \n",
    "    subtree_cs[value] = subtree_c\n",
    "    \n",
    "    \n",
    "        \n",
    "    yield subtree_c\n",
    "    \n",
    "@bootstrap\n",
    "def reroot(value):\n",
    "    vt_reroot[value] = True\n",
    "    \n",
    "    for v in li[value]:\n",
    "        if vt_reroot[v]:\n",
    "            continue\n",
    "            \n",
    "        upper = n - subtree_cs[v]\n",
    "        diff = subtree_cs[v] - upper\n",
    "        needed = dp[value] - diff * (A[value] ^ A[v])\n",
    "        \n",
    "        dp[v] = needed\n",
    "            \n",
    "        yield reroot(v)\n",
    "    yield\n",
    "    \n",
    "for _ in range(int(input())):\n",
    "    n = int(input())\n",
    "    A = list(map(int, input().split()))\n",
    "\n",
    "    li = [[] for _ in range(n)]\n",
    "    for _ in range(n - 1):\n",
    "        u, v = map(int, input().split())\n",
    "        u -= 1\n",
    "        v -= 1\n",
    "\n",
    "        li[u].append(v)\n",
    "        li[v].append(u)\n",
    "\n",
    "    subtree_cs = [0] * n\n",
    "    vt_dfs = [False] * n\n",
    "    dp = [0] * n\n",
    "    init_cost = 0\n",
    "    dfs(0, 0)\n",
    "\n",
    "    dp[0] = init_cost\n",
    "\n",
    "    vt_reroot = [False] * n\n",
    "    reroot(0)\n",
    "\n",
    "    print(*dp)"
   ]
  },
  {
   "cell_type": "markdown",
   "metadata": {},
   "source": [
    "E1"
   ]
  },
  {
   "cell_type": "code",
   "execution_count": 74,
   "metadata": {},
   "outputs": [],
   "source": [
    "from random import randint\n",
    "\n",
    "li = [4, 3, 2, 1]\n",
    "n = len(li)\n",
    "\n",
    "history = [li.copy()]\n",
    "indices = []\n",
    "for _ in range(100):\n",
    "    rd = randint(0, n - 1)\n",
    "    \n",
    "    li = li[rd + 1:] + [li[rd]] + li[:rd]\n",
    "\n",
    "    history.append(li)\n",
    "    indices.append(rd)"
   ]
  },
  {
   "cell_type": "code",
   "execution_count": 75,
   "metadata": {},
   "outputs": [
    {
     "name": "stdout",
     "output_type": "stream",
     "text": [
      "[1, 2, 3, 4]\n",
      "[3, 4, 2, 1]\n",
      "[1, 3, 4, 2]\n",
      "[2, 4, 1, 3]\n",
      "[3, 2, 4, 1]\n",
      "[1, 4, 3, 2]\n",
      "[4, 3, 2, 1]\n"
     ]
    }
   ],
   "source": [
    "cur = [1, 2, 3, 4]\n",
    "print(cur)\n",
    "while cur != history[0]:\n",
    "    index = history.index(cur)\n",
    "    cur = history[index - 1]\n",
    "    print(cur)"
   ]
  },
  {
   "cell_type": "code",
   "execution_count": 12,
   "metadata": {},
   "outputs": [
    {
     "name": "stdout",
     "output_type": "stream",
     "text": [
      "2 2\n",
      "1 2\n",
      "2 1\n",
      "-1\n"
     ]
    }
   ],
   "source": [
    "def func(li):\n",
    "    n = len(li)\n",
    "    seq = []\n",
    "    target = list(range(1, n + 1))\n",
    "    \n",
    "    for _ in range(10000):\n",
    "        cri = li[-1]\n",
    "\n",
    "        if cri == n:\n",
    "            to_move = n - 1\n",
    "            seq.append(to_move + 1)\n",
    "            li = li[to_move + 1:] + [li[to_move]] + li[:to_move]\n",
    "        else:\n",
    "            to_move = li.index(cri + 1)\n",
    "            seq.append(to_move + 1)\n",
    "            li = li[to_move + 1:] + [li[to_move]] + li[:to_move]\n",
    "        \n",
    "        if li == target:\n",
    "            break\n",
    "    else:\n",
    "        return [-1]\n",
    "            \n",
    "    return seq\n",
    "        \n",
    "n, m = map(int, input().split())\n",
    "A = list(map(int, input().split()))\n",
    "B = list(map(int, input().split()))\n",
    "\n",
    "r1 = func(A)\n",
    "r2 = func(B)\n",
    "\n",
    "if r1 and r1[0] == -1 or r2 and r2[0] == -1:\n",
    "    print(-1)\n",
    "else:\n",
    "    len_diff = abs(len(r1) - len(r2))\n",
    "    if len_diff % 2 == 1:\n",
    "        print(-1)\n",
    "    else:\n",
    "        if len(r1) < len(r2):\n",
    "            r1.extend([1, n] * (len_diff // 2))\n",
    "        else:\n",
    "            r2.extend([1, m] * (len_diff // 2))\n",
    "\n",
    "        print(len(r1))\n",
    "        for i in range(len(r1)):\n",
    "            print(r1[i], r2[i])"
   ]
  },
  {
   "cell_type": "code",
   "execution_count": 10,
   "metadata": {},
   "outputs": [
    {
     "data": {
      "text/plain": [
       "([3, 2, 1, 3, 1, 3, 1, 3], [4, 3, 2, 2, 5, 2, 5, 2])"
      ]
     },
     "execution_count": 10,
     "metadata": {},
     "output_type": "execute_result"
    }
   ],
   "source": [
    "r1, r2"
   ]
  },
  {
   "cell_type": "code",
   "execution_count": null,
   "metadata": {},
   "outputs": [],
   "source": [
    "1 2 3\n",
    "\n",
    "2 3 1"
   ]
  },
  {
   "cell_type": "code",
   "execution_count": 3,
   "metadata": {},
   "outputs": [
    {
     "data": {
      "text/plain": [
       "([3, 2], 10001)"
      ]
     },
     "execution_count": 3,
     "metadata": {},
     "output_type": "execute_result"
    }
   ],
   "source": [
    "func([2, 1, 3])"
   ]
  },
  {
   "cell_type": "code",
   "execution_count": null,
   "metadata": {},
   "outputs": [],
   "source": [
    "2 1 3\n",
    "3 2 1\n",
    "1 2 3"
   ]
  },
  {
   "cell_type": "code",
   "execution_count": 193,
   "metadata": {},
   "outputs": [
    {
     "name": "stdout",
     "output_type": "stream",
     "text": [
      "[4, 1, 2, 3]\n",
      "[1, 2, 3, 4] 0\n"
     ]
    },
    {
     "data": {
      "text/plain": [
       "([4, 1], 0)"
      ]
     },
     "execution_count": 193,
     "metadata": {},
     "output_type": "execute_result"
    }
   ],
   "source": [
    "func([1, 2, 3, 4])"
   ]
  }
 ],
 "metadata": {
  "kernelspec": {
   "display_name": "Python 3",
   "language": "python",
   "name": "python3"
  },
  "language_info": {
   "codemirror_mode": {
    "name": "ipython",
    "version": 3
   },
   "file_extension": ".py",
   "mimetype": "text/x-python",
   "name": "python",
   "nbconvert_exporter": "python",
   "pygments_lexer": "ipython3",
   "version": "3.8.3"
  }
 },
 "nbformat": 4,
 "nbformat_minor": 4
}
