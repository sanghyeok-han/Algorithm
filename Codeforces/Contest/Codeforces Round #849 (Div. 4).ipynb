{
 "cells": [
  {
   "cell_type": "markdown",
   "metadata": {},
   "source": [
    "A"
   ]
  },
  {
   "cell_type": "code",
   "execution_count": null,
   "metadata": {},
   "outputs": [],
   "source": [
    "import sys\n",
    "# input = lambda: sys.stdin.readline().rstrip()\n",
    "\n",
    "for _ in range(int(input())):\n",
    "    c = input()\n",
    "\n",
    "    if c in 'codeforces':\n",
    "        print('yes')\n",
    "    else:\n",
    "        print('no')"
   ]
  },
  {
   "cell_type": "markdown",
   "metadata": {},
   "source": [
    "B"
   ]
  },
  {
   "cell_type": "code",
   "execution_count": null,
   "metadata": {},
   "outputs": [],
   "source": [
    "import sys\n",
    "input = lambda: sys.stdin.readline().rstrip()\n",
    "\n",
    "# L R D U\n",
    "dx = [-1, 1, 0, 0]\n",
    "dy = [0, 0, -1, 1]\n",
    "alphas = 'LRDU'\n",
    "\n",
    "for _ in range(int(input())):\n",
    "    n = int(input())\n",
    "    s = input()\n",
    "\n",
    "    x = y = 0\n",
    "    ip = False\n",
    "    for v in s:\n",
    "        d = alphas.index(v)\n",
    "\n",
    "        x += dx[d]\n",
    "        y += dy[d]\n",
    "\n",
    "        if x == y == 1:\n",
    "            ip = True\n",
    "            break\n",
    "\n",
    "    if ip:\n",
    "        print('YES')\n",
    "    else:\n",
    "        print('NO')"
   ]
  },
  {
   "cell_type": "markdown",
   "metadata": {},
   "source": [
    "C"
   ]
  },
  {
   "cell_type": "code",
   "execution_count": null,
   "metadata": {},
   "outputs": [],
   "source": [
    "from collections import deque\n",
    "import sys\n",
    "input = lambda: sys.stdin.readline().rstrip()\n",
    "\n",
    "for _ in range(int(input())):\n",
    "    n = int(input())\n",
    "\n",
    "    deq = deque(input())\n",
    "    while deq and deq[0] != deq[-1]:\n",
    "        deq.popleft()\n",
    "        deq.pop()\n",
    "\n",
    "    r = len(deq)\n",
    "\n",
    "    print(r)"
   ]
  },
  {
   "cell_type": "markdown",
   "metadata": {},
   "source": [
    "D"
   ]
  },
  {
   "cell_type": "code",
   "execution_count": 4,
   "metadata": {},
   "outputs": [
    {
     "name": "stdout",
     "output_type": "stream",
     "text": [
      "2\n",
      "aa\n",
      "2\n"
     ]
    }
   ],
   "source": [
    "import sys\n",
    "input = lambda: sys.stdin.readline().rstrip()\n",
    "\n",
    "get_value = lambda x: ord(x) - 97\n",
    "\n",
    "for _ in range(int(input())):\n",
    "    n = int(input())\n",
    "    li = list(map(get_value, input()))\n",
    "\n",
    "    ct_l = [0] * 26\n",
    "    ct_r = [0] * 26\n",
    "    for i in range(n):\n",
    "        v = li[i]\n",
    "\n",
    "        ct_r[v] += 1\n",
    "\n",
    "    max_c = 0\n",
    "    for i in range(n - 1):\n",
    "        v = li[i]\n",
    "\n",
    "        ct_r[v] -= 1\n",
    "        ct_l[v] += 1\n",
    "\n",
    "        c = 0\n",
    "        for i in range(26):\n",
    "            if ct_l[i] > 0:\n",
    "                c += 1\n",
    "            if ct_r[i] > 0:\n",
    "                c += 1\n",
    "\n",
    "        max_c = max(max_c, c)\n",
    "\n",
    "    print(max_c)"
   ]
  },
  {
   "cell_type": "markdown",
   "metadata": {},
   "source": [
    "E"
   ]
  },
  {
   "cell_type": "code",
   "execution_count": 15,
   "metadata": {
    "scrolled": true
   },
   "outputs": [
    {
     "name": "stdout",
     "output_type": "stream",
     "text": [
      "2\n",
      "-1 -1\n",
      "2\n"
     ]
    }
   ],
   "source": [
    "import io, os, sys\n",
    "# input = io.BytesIO(os.read(0, os.fstat(0).st_size)).readline\n",
    "\n",
    "for _ in range(int(input())):\n",
    "    n = int(input())\n",
    "    li = list(map(int, input().split()))\n",
    "\n",
    "    dp = [[0] * 2 for _ in range(n + 1)]\n",
    "    dp[1] = [li[0], li[0]]\n",
    "\n",
    "    for i in range(1, n):\n",
    "        sv = li[i - 1] + li[i]\n",
    "\n",
    "        max_fsv = max(dp[i - 1])\n",
    "\n",
    "        dp[i + 1][0] = max_fsv - sv\n",
    "        dp[i + 1][1] = max_fsv + sv\n",
    "\n",
    "    r = max(dp[-1])\n",
    "\n",
    "    print(r)"
   ]
  },
  {
   "cell_type": "code",
   "execution_count": 59,
   "metadata": {},
   "outputs": [
    {
     "name": "stdout",
     "output_type": "stream",
     "text": [
      "1\n",
      "2\n",
      "-3 2\n",
      "-1\n"
     ]
    }
   ],
   "source": [
    "import io, os, sys\n",
    "input = io.BytesIO(os.read(0, os.fstat(0).st_size)).readline\n",
    "\n",
    "for _ in range(int(input())):\n",
    "    n = int(input())\n",
    "    li = list(map(int, input().split()))\n",
    "\n",
    "    ps = []\n",
    "    ms = []\n",
    "    c0 = 0\n",
    "    for v in li:\n",
    "        if v > 0:\n",
    "            ps.append(v)\n",
    "        elif v < 0:\n",
    "            ms.append(v)\n",
    "        else:\n",
    "            c0 += 1\n",
    "\n",
    "    if c0 >= 1 or len(ms) % 2 == 0:\n",
    "        r = sum(ps) - sum(ms)\n",
    "    else:\n",
    "        li.sort(key=lambda x: -abs(x))\n",
    "        to_minus = abs(li.pop())\n",
    "        \n",
    "        r = 0\n",
    "        for v in li:\n",
    "            r += abs(v)\n",
    "            \n",
    "        r -= to_minus\n",
    "\n",
    "    print(r)"
   ]
  },
  {
   "cell_type": "code",
   "execution_count": 55,
   "metadata": {},
   "outputs": [
    {
     "data": {
      "text/plain": [
       "[-3, -2, -1]"
      ]
     },
     "execution_count": 55,
     "metadata": {},
     "output_type": "execute_result"
    }
   ],
   "source": [
    "읽어보니까 전자의 내용은 동업자가 부정행위를 했을 때 본인이 결백함을 밝혀야 하는 상황이 주인거 같고\n",
    "후자의 내용은 외로운 노인이 결혼 후 배우자가 재산 일부 나눠달라 하는 것에 동의했는데 동의 후 배우자가 그 노인을 제대로 보살피지 않았을 때 노인의 사망 후 유증의 처리에 관한 문제가 주인거 같긴 하네 ㅎㅎ "
   ]
  },
  {
   "cell_type": "code",
   "execution_count": null,
   "metadata": {},
   "outputs": [],
   "source": [
    "+++++-\n",
    "++++-+\n",
    "+++-++\n",
    "++-+++\n",
    "+-++++\n",
    "\n",
    "+-+-+-+\n",
    "++--+-+\n",
    "+++++-+\n",
    "++++++-\n",
    "\n",
    "0+++++-\n",
    "0-+++++\n",
    "0++++++\n",
    "\n"
   ]
  },
  {
   "cell_type": "markdown",
   "metadata": {},
   "source": [
    "F"
   ]
  },
  {
   "cell_type": "code",
   "execution_count": 16,
   "metadata": {},
   "outputs": [
    {
     "name": "stdout",
     "output_type": "stream",
     "text": [
      "2 3\n",
      "9999 1000\n",
      "1 1 2\n",
      "2 1\n",
      "36\n",
      "2 2\n",
      "1\n"
     ]
    }
   ],
   "source": [
    "import sys\n",
    "input = lambda: sys.stdin.readline().rstrip()\n",
    "\n",
    "class SegmentTree:\n",
    "    def __init__(self, data, default=10**15, func=lambda a, b: max(a,b)):\n",
    "        \"\"\"initialize the segment tree with data\"\"\"\n",
    "        self._default = default\n",
    "        self._func = func\n",
    "        self._len = len(data)\n",
    "        self._size = _size = 1 << (self._len - 1).bit_length()\n",
    " \n",
    "        self.data = [default] * (2 * _size)\n",
    "        self.data[_size:_size + self._len] = data\n",
    "        for i in reversed(range(_size)):\n",
    "            self.data[i] = func(self.data[i + i], self.data[i + i + 1])\n",
    " \n",
    "    def __delitem__(self, idx):\n",
    "        self[idx] = self._default\n",
    " \n",
    "    def __getitem__(self, idx):\n",
    "        return self.data[idx + self._size]\n",
    " \n",
    "    def __setitem__(self, idx, value):\n",
    "        idx += self._size\n",
    "        self.data[idx] = value\n",
    "        idx >>= 1\n",
    "        while idx:\n",
    "            self.data[idx] = self._func(self.data[2 * idx], self.data[2 * idx + 1])\n",
    "            idx >>= 1\n",
    " \n",
    "    def __len__(self):\n",
    "        return self._len\n",
    " \n",
    "    def query(self, start, stop):\n",
    "        if start == stop:\n",
    "            return self.__getitem__(start)\n",
    "        stop += 1\n",
    "        start += self._size\n",
    "        stop += self._size\n",
    " \n",
    "        res = self._default\n",
    "        while start < stop:\n",
    "            if start & 1:\n",
    "                res = self._func(res, self.data[start])\n",
    "                start += 1\n",
    "            if stop & 1:\n",
    "                stop -= 1\n",
    "                res = self._func(res, self.data[stop])\n",
    "            start >>= 1\n",
    "            stop >>= 1\n",
    "        return res\n",
    " \n",
    "    def __repr__(self):\n",
    "        return \"SegmentTree({0})\".format(self.data)\n",
    "    \n",
    "func = lambda a, b: a + b\n",
    "\n",
    "for _ in range(int(input())):\n",
    "    n, q = map(int, input().split())\n",
    "    li = input().split()\n",
    "\n",
    "    seg = SegmentTree([0] * (n + 1), 0, func=func)\n",
    "\n",
    "    for i in range(q):\n",
    "        tp, *qu = map(int, input().split())\n",
    "\n",
    "        if tp == 1:\n",
    "            l, r = qu[0], qu[1]\n",
    "            l -= 1\n",
    "            r -= 1\n",
    "\n",
    "            seg[l] += 1\n",
    "            seg[r + 1] -= 1\n",
    "        else:\n",
    "            x = qu[0]\n",
    "            x -= 1\n",
    "\n",
    "            sv = seg.query(0, x)\n",
    "\n",
    "            cur = li[x]\n",
    "            for _ in range(sv):\n",
    "                if len(cur) == 1:\n",
    "                    break\n",
    "\n",
    "                ncur = 0\n",
    "                for v in cur:\n",
    "                    ncur += int(v)\n",
    "                cur = str(ncur)\n",
    "\n",
    "            print(cur)"
   ]
  },
  {
   "cell_type": "markdown",
   "metadata": {},
   "source": [
    "G1"
   ]
  },
  {
   "cell_type": "code",
   "execution_count": 24,
   "metadata": {},
   "outputs": [
    {
     "name": "stdout",
     "output_type": "stream",
     "text": [
      "5 6\n",
      "1 1 1 1 1\n",
      "2\n"
     ]
    }
   ],
   "source": [
    "import sys\n",
    "input = lambda: sys.stdin.readline().rstrip()\n",
    "\n",
    "inf = float('inf')\n",
    "\n",
    "for _ in range(int(input())):\n",
    "    n, c = map(int, input().split())\n",
    "    li = [inf] + list(map(int, input().split()))\n",
    "\n",
    "    ws = [li[i] + i for i in range(n + 1)]\n",
    "    ws.sort()\n",
    "\n",
    "    r = 0\n",
    "    for w in ws:\n",
    "        if w <= c:\n",
    "            c -= w\n",
    "            r += 1\n",
    "        else:\n",
    "            break\n",
    "\n",
    "    print(r)"
   ]
  },
  {
   "cell_type": "markdown",
   "metadata": {},
   "source": [
    "G2"
   ]
  },
  {
   "cell_type": "code",
   "execution_count": 69,
   "metadata": {},
   "outputs": [
    {
     "name": "stdout",
     "output_type": "stream",
     "text": [
      "1\n",
      "10 5\n",
      "100 100 100 100 100 100 100 100 1 1 \n",
      "1\n"
     ]
    }
   ],
   "source": [
    "import io, os, sys\n",
    "# input = io.BytesIO(os.read(0, os.fstat(0).st_size)).readline\n",
    "\n",
    "inf = float('inf')\n",
    "\n",
    "for _ in range(int(input())):\n",
    "    n, c = map(int, input().split())\n",
    "    li = [inf] + list(map(int, input().split()))\n",
    "    \n",
    "    ws = []\n",
    "    r_to_l_diffs = [inf] * (n + 1)\n",
    "    for i in range(1, n + 1):\n",
    "        ws.append((li[i] + i, i, 1))\n",
    "        ws.append((li[i] + n + 1 - i, i, -1))\n",
    "        r_to_l_diffs[i] = i - (n + 1 - i)\n",
    " \n",
    "    ws.sort(key=lambda x: x[0])\n",
    "\n",
    "    r = 0\n",
    "    is_met_l = False\n",
    "    st = set()\n",
    "    max_w = 0\n",
    "    \n",
    "    cand_i = -1\n",
    "    cand_w = -1\n",
    "    for w, index, d in ws:\n",
    "        if index in st:\n",
    "            continue\n",
    "            \n",
    "        if d == 1 and cand_i == -1:\n",
    "            cand_i = index\n",
    "            cand_w = w\n",
    "        \n",
    "        if w <= c:\n",
    "            st.add(index)\n",
    "            c -= w\n",
    "            r += 1\n",
    "            max_w = max(max_w, w)\n",
    "            \n",
    "            if d == 1:\n",
    "                is_met_l = True\n",
    "\n",
    "    if is_met_l:\n",
    "        print(r)\n",
    "    else:\n",
    "        if n + 1 <= c:\n",
    "            print(r)\n",
    "        else:\n",
    "            ip = False\n",
    "            for index in st:\n",
    "                if r_to_l_diffs[index] <= c:\n",
    "                    ip = True\n",
    "                    break\n",
    "                    \n",
    "            if not ip:   \n",
    "                if cand_i != -1:\n",
    "                    needed = cand_w - max_w\n",
    "                    if needed <= c:\n",
    "                        ip = True\n",
    "                        \n",
    "            if ip:\n",
    "                print(r)\n",
    "            else:\n",
    "                r -= 1\n",
    "                r = max(r, 0)\n",
    "                \n",
    "                print(r)         "
   ]
  },
  {
   "cell_type": "code",
   "execution_count": null,
   "metadata": {},
   "outputs": [
    {
     "name": "stdout",
     "output_type": "stream",
     "text": [
      "1\n",
      "10 5\n"
     ]
    }
   ],
   "source": [
    "import sys\n",
    "\n",
    "\n",
    "def solve():\n",
    "    n, c = map(int, input().split())\n",
    "    lst = list(map(int, input().split()))\n",
    "    left = lst.copy()\n",
    "    right = lst.copy()\n",
    "    for i in range(n):\n",
    "        left[i] += i + 1\n",
    "        right[n - 1 - i] += i + 1\n",
    "    xd = [[-1, -1, -1,-1] for i in range(n)]\n",
    "\n",
    "    for i in range(n):\n",
    "        xd[i][0] = min(left[i], right[i])\n",
    "        xd[i][2] = abs(left[i] - right[i])\n",
    "        xd[i][3] = left[i]\n",
    "        if (left[i] < right[i]):\n",
    "            xd[i][1] = 1\n",
    "        elif (left[i] > right[i]):\n",
    "            xd[i][1] = 2\n",
    "        else:\n",
    "            xd[i][1] = 0\n",
    "\n",
    "    xd.sort(key=lambda x: x[0])\n",
    "    j = 0\n",
    "    sum = 0\n",
    "    count = 0\n",
    "    while c >= sum and j < n:\n",
    "        if c >= sum + xd[j][0]:\n",
    "            sum += xd[j][0]\n",
    "            count += 1\n",
    "            j += 1\n",
    "        else:\n",
    "            break\n",
    "    t = [xd[i][1] for i in range(count)]\n",
    "    if (0 in t) or (1 in t):\n",
    "        print(count)\n",
    "    else:\n",
    "        mega = [xd[i][3] -xd[count-1][0] for i in range(count,n)]\n",
    "        if c >= sum + min([xd[i][2] for i in range(count )] + mega ):\n",
    "            print(count)\n",
    "        else:\n",
    "            print(max(count - 1, 0))\n",
    "\n",
    "\n",
    "\n",
    "t = int(input())\n",
    "for i in range(t):\n",
    "    solve()"
   ]
  }
 ],
 "metadata": {
  "kernelspec": {
   "display_name": "Python 3",
   "language": "python",
   "name": "python3"
  },
  "language_info": {
   "codemirror_mode": {
    "name": "ipython",
    "version": 3
   },
   "file_extension": ".py",
   "mimetype": "text/x-python",
   "name": "python",
   "nbconvert_exporter": "python",
   "pygments_lexer": "ipython3",
   "version": "3.7.4"
  }
 },
 "nbformat": 4,
 "nbformat_minor": 2
}
