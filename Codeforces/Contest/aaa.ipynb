{
 "cells": [
  {
   "cell_type": "markdown",
   "metadata": {},
   "source": [
    "A"
   ]
  },
  {
   "cell_type": "code",
   "execution_count": 3,
   "metadata": {},
   "outputs": [
    {
     "name": "stdout",
     "output_type": "stream",
     "text": [
      "4\n",
      "1 -1 -1 1\n",
      "4\n"
     ]
    }
   ],
   "source": [
    "import io, os, sys\n",
    "input = io.BytesIO(os.read(0, os.fstat(0).st_size)).readline\n",
    "\n",
    "for _ in range(int(input())):\n",
    "    n = int(input())\n",
    "    li = list(map(int, input().split()))\n",
    "\n",
    "    is_pp = False\n",
    "    is_mp = False\n",
    "    is_mm = False\n",
    "    for i in range(n - 1):\n",
    "        if li[i] == 1 and li[i + 1] == 1:\n",
    "            is_pp = True\n",
    "        elif li[i] == -1 and li[i + 1] == -1:\n",
    "            is_mm = True\n",
    "        else:\n",
    "            is_mp = True\n",
    "\n",
    "    sv = sum(li)\n",
    "\n",
    "    if is_mm:\n",
    "        r = sv + 4\n",
    "    elif is_mp:\n",
    "        r = sv\n",
    "    else:\n",
    "        r = sv - 4\n",
    "\n",
    "    print(r)"
   ]
  },
  {
   "cell_type": "markdown",
   "metadata": {},
   "source": [
    "B"
   ]
  },
  {
   "cell_type": "code",
   "execution_count": null,
   "metadata": {},
   "outputs": [],
   "source": [
    "good if   pos(a_i) > pos(a_i+1)\n",
    "       or pos(a_i+1) > pos(a_i) + d\n",
    "       or pos(a_i) + d < pos(a_i+1)\n",
    "       or pos(a_i) < pos(a_i+1) - d\n",
    "    \n",
    "good if   pos(a_i) > pos(a_i+1)\n",
    "     or   pos(a_i) + d < pos(a_i+1)"
   ]
  },
  {
   "cell_type": "code",
   "execution_count": 22,
   "metadata": {},
   "outputs": [
    {
     "name": "stdout",
     "output_type": "stream",
     "text": [
      "5 2 4\n",
      "5 4 3 2 1\n",
      "5 2\n",
      "2\n"
     ]
    }
   ],
   "source": [
    "import io, os, sys\n",
    "input = io.BytesIO(os.read(0, os.fstat(0).st_size)).readline\n",
    "\n",
    "inf = float('inf')\n",
    "\n",
    "for _ in range(int(input())):\n",
    "    n, m, d = map(int, input().split())\n",
    "    P = list(map(int, input().split()))\n",
    "    A = list(map(int, input().split()))\n",
    "\n",
    "    pos = [0] * (n + 1)\n",
    "    for i in range(n):\n",
    "        pos[P[i]] = i\n",
    "\n",
    "    indices = []\n",
    "    for i in range(m):\n",
    "        av = A[i]\n",
    "\n",
    "        index = pos[av]\n",
    "        indices.append(index)\n",
    "\n",
    "    needed = inf\n",
    "\n",
    "    min_dist = inf\n",
    "    max_dist = -1\n",
    "    for i in range(m - 1):\n",
    "        if indices[i] > indices[i + 1] or indices[i] + d < indices[i + 1]:\n",
    "            needed = 0\n",
    "            break\n",
    "\n",
    "        dist = indices[i + 1] - indices[i]\n",
    "        min_dist = min(min_dist, dist)\n",
    "        max_dist = max(max_dist, dist)\n",
    "\n",
    "    needed = min(needed, min_dist)\n",
    "\n",
    "    if d + 1 <= n - 1:\n",
    "        needed = min(needed, d + 1 - max_dist)\n",
    "\n",
    "    print(needed)"
   ]
  },
  {
   "cell_type": "markdown",
   "metadata": {},
   "source": [
    "C"
   ]
  },
  {
   "cell_type": "code",
   "execution_count": 14,
   "metadata": {},
   "outputs": [
    {
     "name": "stdout",
     "output_type": "stream",
     "text": [
      "3 1\n",
      "abc\n",
      "abd\n",
      "6\n"
     ]
    }
   ],
   "source": [
    "from itertools import combinations as comb\n",
    "import io, os, sys\n",
    "input = io.BytesIO(os.read(0, os.fstat(0).st_size)).readline\n",
    "\n",
    "inf = float('inf')\n",
    "\n",
    "def get_sum(num):\n",
    "    return num * (num + 1) // 2\n",
    "\n",
    "for _ in range(int(input())):\n",
    "    n, k = map(int, input().split())\n",
    "    a = input()\n",
    "    b = input()\n",
    "\n",
    "    in_as = set(a)\n",
    "    if len(in_as) <= k:\n",
    "        to_select = len(in_as)\n",
    "    else:\n",
    "        to_select = k\n",
    "\n",
    "    max_r = 0\n",
    "    for case in comb(in_as, to_select):\n",
    "        case = set(case)\n",
    "        temp_r = 0\n",
    "\n",
    "        cont_c = 0\n",
    "        for i in range(n):\n",
    "            if a[i] == b[i]:\n",
    "                cont_c += 1\n",
    "            else:\n",
    "                if a[i] in case:\n",
    "                    cont_c += 1\n",
    "                else:\n",
    "                    temp_r += get_sum(cont_c)\n",
    "                    cont_c = 0\n",
    "\n",
    "        temp_r += get_sum(cont_c)\n",
    "        max_r = max(max_r, temp_r)\n",
    "\n",
    "    print(max_r)"
   ]
  },
  {
   "cell_type": "markdown",
   "metadata": {},
   "source": [
    "D"
   ]
  },
  {
   "cell_type": "code",
   "execution_count": null,
   "metadata": {},
   "outputs": [],
   "source": [
    "mod = 998244353"
   ]
  },
  {
   "cell_type": "code",
   "execution_count": 26,
   "metadata": {},
   "outputs": [
    {
     "name": "stdout",
     "output_type": "stream",
     "text": [
      "4\n",
      "1000\n",
      "1110\n"
     ]
    }
   ],
   "source": [
    "N = int(input())\n",
    "a = input()\n",
    "b = input()\n",
    "\n",
    "diff_c = 0\n",
    "for i in range(N):\n",
    "    if a[i] != b[i]:\n",
    "        diff_c += 1\n"
   ]
  },
  {
   "cell_type": "code",
   "execution_count": 27,
   "metadata": {},
   "outputs": [
    {
     "data": {
      "text/plain": [
       "14"
      ]
     },
     "execution_count": 27,
     "metadata": {},
     "output_type": "execute_result"
    }
   ],
   "source": [
    "(2 * N - diff_c + 1) * diff_c"
   ]
  }
 ],
 "metadata": {
  "kernelspec": {
   "display_name": "Python 3",
   "language": "python",
   "name": "python3"
  },
  "language_info": {
   "codemirror_mode": {
    "name": "ipython",
    "version": 3
   },
   "file_extension": ".py",
   "mimetype": "text/x-python",
   "name": "python",
   "nbconvert_exporter": "python",
   "pygments_lexer": "ipython3",
   "version": "3.7.4"
  }
 },
 "nbformat": 4,
 "nbformat_minor": 2
}
