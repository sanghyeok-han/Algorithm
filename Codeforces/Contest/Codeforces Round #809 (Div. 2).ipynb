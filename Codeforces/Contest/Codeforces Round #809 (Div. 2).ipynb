{
 "cells": [
  {
   "cell_type": "markdown",
   "metadata": {},
   "source": [
    "A"
   ]
  },
  {
   "cell_type": "code",
   "execution_count": 4,
   "metadata": {},
   "outputs": [
    {
     "name": "stdout",
     "output_type": "stream",
     "text": [
      "4 5\n",
      "1 1 3 1\n",
      "ABABA\n"
     ]
    }
   ],
   "source": [
    "import sys\n",
    "input = lambda: sys.stdin.readline().rstrip()\n",
    "\n",
    "for _ in range(int(input())):\n",
    "    n, m = map(int, input().split())\n",
    "    li = list(map(int, input().split()))\n",
    "\n",
    "    rs = [''] + ['B'] * m\n",
    "    for i in range(n):\n",
    "        a = li[i]\n",
    "        b = m + 1 - li[i]\n",
    "\n",
    "        if a > b:\n",
    "            a, b = b, a\n",
    "\n",
    "        if rs[a] == 'A':\n",
    "            rs[b] = 'A'\n",
    "        else:\n",
    "            rs[a] = 'A'\n",
    "\n",
    "    print(''.join(rs[1:]))"
   ]
  },
  {
   "cell_type": "markdown",
   "metadata": {},
   "source": [
    "B"
   ]
  },
  {
   "cell_type": "code",
   "execution_count": null,
   "metadata": {},
   "outputs": [],
   "source": [
    "pypy64로 제출하기"
   ]
  },
  {
   "cell_type": "code",
   "execution_count": 45,
   "metadata": {},
   "outputs": [
    {
     "name": "stdout",
     "output_type": "stream",
     "text": [
      "7\n",
      "1 2 3 1 2 3 1\n"
     ]
    }
   ],
   "source": [
    "import sys\n",
    "input = lambda: sys.stdin.readline().rstrip()\n",
    "\n",
    "for _ in range(int(input())):\n",
    "    n = int(input())\n",
    "    li = list(map(int, input().split()))\n",
    "\n",
    "    recent = [-1] * (n + 1)\n",
    "    count = [0] * (n + 1)\n",
    "\n",
    "    for i in range(n):\n",
    "        v = li[i]\n",
    "\n",
    "        if recent[v] == -1:\n",
    "            recent[v] = i\n",
    "            count[v] = 1\n",
    "        else:\n",
    "            diff = i - recent[v]\n",
    "            if diff % 2 == 1:\n",
    "                count[v] += 1\n",
    "                recent[v] = i\n",
    "\n",
    "    print(*count[1:])"
   ]
  },
  {
   "cell_type": "code",
   "execution_count": 46,
   "metadata": {},
   "outputs": [
    {
     "name": "stdout",
     "output_type": "stream",
     "text": [
      "3 2 2 0 0 0 0\n"
     ]
    }
   ],
   "source": [
    "recent = [-1] * (n + 1)\n",
    "count = [0] * (n + 1)\n",
    "\n",
    "for i in range(n):\n",
    "    v = li[i]\n",
    "    \n",
    "    if recent[v] == -1:\n",
    "        recent[v] = i\n",
    "        count[v] = 1\n",
    "    else:\n",
    "        diff = i - recent[v]\n",
    "        if diff % 2 == 1:\n",
    "            count[v] += 1\n",
    "            recent[v] = i\n",
    "            \n",
    "print(*count[1:])"
   ]
  },
  {
   "cell_type": "markdown",
   "metadata": {},
   "source": [
    "C"
   ]
  },
  {
   "cell_type": "code",
   "execution_count": null,
   "metadata": {},
   "outputs": [],
   "source": [
    "홀수 케이스일 때는 결정됨\n",
    "짝수일 경우는 그렇지 않음"
   ]
  },
  {
   "cell_type": "code",
   "execution_count": 41,
   "metadata": {},
   "outputs": [
    {
     "name": "stdout",
     "output_type": "stream",
     "text": [
      "1\n",
      "4 4\n"
     ]
    },
    {
     "data": {
      "text/plain": [
       "2"
      ]
     },
     "execution_count": 41,
     "metadata": {},
     "output_type": "execute_result"
    }
   ],
   "source": [
    "def get_value(mid):\n",
    "    added = 0\n",
    "    cur = 1\n",
    "    sv = 0\n",
    "    while True:\n",
    "        print(cur)\n",
    "        if added == mid:\n",
    "            cur += 1\n",
    "        sv += needs[cur]\n",
    "        cur += 2\n",
    "        added += 1\n",
    "        \n",
    "        print(cur, nn)\n",
    "        if cur >= nn:\n",
    "            break\n",
    "\n",
    "    return sv\n",
    "\n",
    "get_value(0)"
   ]
  },
  {
   "cell_type": "code",
   "execution_count": 29,
   "metadata": {},
   "outputs": [
    {
     "data": {
      "text/plain": [
       "[0, 4, 2, 1, 1, 0]"
      ]
     },
     "execution_count": 29,
     "metadata": {},
     "output_type": "execute_result"
    }
   ],
   "source": [
    " 0  1  2  3  4  5\n",
    "[0, 4, 2, 1, 1, 0]"
   ]
  },
  {
   "cell_type": "code",
   "execution_count": 52,
   "metadata": {},
   "outputs": [
    {
     "name": "stdout",
     "output_type": "stream",
     "text": [
      "6\n",
      "3 1 4 5 5 2\n",
      "3\n"
     ]
    }
   ],
   "source": [
    "import sys\n",
    "input = lambda: sys.stdin.readline().rstrip()\n",
    "\n",
    "for _ in range(int(input())):\n",
    "    n = int(input())\n",
    "    li = list(map(int, input().split()))\n",
    "\n",
    "    total = 0\n",
    "    if n % 2 == 1:\n",
    "        for i in range(n):\n",
    "            if i % 2 == 0:\n",
    "                continue\n",
    "            cri = max(li[i - 1], li[i + 1]) + 1\n",
    "            needed = cri - li[i]\n",
    "\n",
    "            if needed > 0:\n",
    "                total += needed\n",
    "\n",
    "        print(total)\n",
    "    else:\n",
    "        needed = [0] * n\n",
    "        for i in range(1, n - 1):\n",
    "            cri = max(li[i - 1], li[i + 1]) + 1\n",
    "            temp = cri - li[i]\n",
    "            temp = max(0, temp)\n",
    "            needed[i] = temp\n",
    "\n",
    "        odds = []\n",
    "        evens = []\n",
    "        for i in range(1, n - 1):\n",
    "            if i % 2 == 1:\n",
    "                odds.append(needed[i])\n",
    "            else:\n",
    "                evens.append(needed[i])\n",
    "\n",
    "        sodds = []\n",
    "        cumul_odd = 0\n",
    "        sevens = []\n",
    "        cumul_even = 0\n",
    "        for i in range((n - 2) // 2):\n",
    "            cumul_odd += odds[i]\n",
    "            cumul_even += evens[i]\n",
    "\n",
    "            sodds.append(cumul_odd)\n",
    "            sevens.append(cumul_even)\n",
    "\n",
    "        min_r = min(sodds[-1], sevens[-1])\n",
    "        for i in range(1, (n - 2) // 2):\n",
    "            temp = sodds[i - 1] + sevens[-1] - sevens[i - 1]\n",
    "            min_r = min(min_r, temp)\n",
    "\n",
    "        print(min_r)"
   ]
  },
  {
   "cell_type": "code",
   "execution_count": 50,
   "metadata": {},
   "outputs": [
    {
     "data": {
      "text/plain": [
       "[0, 4, 2, 1, 1, 0]"
      ]
     },
     "execution_count": 50,
     "metadata": {},
     "output_type": "execute_result"
    }
   ],
   "source": [
    "한번 even 후 계속 even"
   ]
  },
  {
   "cell_type": "code",
   "execution_count": null,
   "metadata": {},
   "outputs": [],
   "source": [
    "3: 1\n",
    "4: 1 2\n",
    "5: 1,3\n",
    "6: 1,3  2,4\n",
    "7: 1,3,5\n",
    "8: 1,3,5 2,4,6"
   ]
  },
  {
   "cell_type": "code",
   "execution_count": null,
   "metadata": {},
   "outputs": [],
   "source": [
    "3 1\n",
    "4 1\n",
    "5 2\n",
    "6 2\n",
    "7 3\n",
    "8 3\n",
    "9 4\n",
    "10 4"
   ]
  },
  {
   "cell_type": "markdown",
   "metadata": {},
   "source": [
    "D1"
   ]
  },
  {
   "cell_type": "code",
   "execution_count": null,
   "metadata": {},
   "outputs": [],
   "source": [
    "max 파트는 작을수록 좋고 min 파트는 클수록 좋다."
   ]
  },
  {
   "cell_type": "code",
   "execution_count": 70,
   "metadata": {},
   "outputs": [],
   "source": [
    "n = 5\n",
    "a = [4, 5, 6, 8, 11]\n",
    "p = [2, 2, 2, 2, 2]"
   ]
  },
  {
   "cell_type": "code",
   "execution_count": 69,
   "metadata": {},
   "outputs": [
    {
     "name": "stdout",
     "output_type": "stream",
     "text": [
      "1\n",
      "2\n",
      "3\n",
      "4\n",
      "5\n"
     ]
    }
   ],
   "source": [
    "for i in range(n):\n",
    "    print(a[i] // p[i])"
   ]
  }
 ],
 "metadata": {
  "kernelspec": {
   "display_name": "Python 3",
   "language": "python",
   "name": "python3"
  },
  "language_info": {
   "codemirror_mode": {
    "name": "ipython",
    "version": 3
   },
   "file_extension": ".py",
   "mimetype": "text/x-python",
   "name": "python",
   "nbconvert_exporter": "python",
   "pygments_lexer": "ipython3",
   "version": "3.7.4"
  }
 },
 "nbformat": 4,
 "nbformat_minor": 2
}
