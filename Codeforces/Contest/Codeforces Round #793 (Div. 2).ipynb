{
 "cells": [
  {
   "cell_type": "markdown",
   "metadata": {},
   "source": [
    "A"
   ]
  },
  {
   "cell_type": "code",
   "execution_count": 12,
   "metadata": {},
   "outputs": [
    {
     "name": "stdout",
     "output_type": "stream",
     "text": [
      "3\n",
      "aba\n",
      "1\n"
     ]
    }
   ],
   "source": [
    "import sys\n",
    "input = lambda: sys.stdin.readline().rstrip()\n",
    "\n",
    "for _ in range(int(input())):\n",
    "    n = int(input())\n",
    "    s = input()\n",
    "\n",
    "    mid = n // 2\n",
    "    target = s[mid]\n",
    "\n",
    "    r = 0\n",
    "    for i in range(mid - 1, -1, -1):\n",
    "        if s[i] == target:\n",
    "            r += 1\n",
    "        else:\n",
    "            break\n",
    "    for i in range(mid, n):\n",
    "        if s[i] == target:\n",
    "            r += 1\n",
    "        else:\n",
    "            break\n",
    "\n",
    "    print(r)"
   ]
  },
  {
   "cell_type": "markdown",
   "metadata": {},
   "source": [
    "B"
   ]
  },
  {
   "cell_type": "code",
   "execution_count": 18,
   "metadata": {},
   "outputs": [
    {
     "name": "stdout",
     "output_type": "stream",
     "text": [
      "4\n",
      "4\n",
      "0 1 3 2\n",
      "2\n",
      "2\n",
      "1 0\n",
      "0\n",
      "7\n",
      "0 1 2 3 5 6 4\n",
      "4\n",
      "5\n",
      "0 3 2 1 4\n",
      "1\n"
     ]
    }
   ],
   "source": [
    "import sys\n",
    "input = lambda: sys.stdin.readline().rstrip()\n",
    "\n",
    "for _ in range(int(input())):\n",
    "    n = int(input())\n",
    "    li = list(map(int, input().split()))\n",
    "\n",
    "    cur = -1\n",
    "    for i in range(n):\n",
    "        if li[i] != i:\n",
    "            if cur == -1:\n",
    "                cur = li[i]\n",
    "            else:\n",
    "                cur &= li[i]\n",
    "\n",
    "    print(cur)"
   ]
  },
  {
   "cell_type": "markdown",
   "metadata": {},
   "source": [
    "C"
   ]
  },
  {
   "cell_type": "code",
   "execution_count": 37,
   "metadata": {},
   "outputs": [
    {
     "name": "stdout",
     "output_type": "stream",
     "text": [
      "6\n",
      "2 5 4 5 2 4\n"
     ]
    }
   ],
   "source": [
    "n = int(input())\n",
    "li = sorted(map(int, input().split()))"
   ]
  },
  {
   "cell_type": "code",
   "execution_count": null,
   "metadata": {},
   "outputs": [],
   "source": [
    "import sys\n",
    "# input = lambda: sys.stdin.readline().rstrip()\n",
    "\n",
    "for _ in range(int(input())):\n",
    "    n = int(input())\n",
    "    li = sorted(map(int, input().split()))\n",
    "\n",
    "    cs = []\n",
    "    cont = 0\n",
    "    fv = li[0]\n",
    "    for i in range(n):\n",
    "        if li[i] == fv:\n",
    "            cont += 1\n",
    "        else:\n",
    "            cs.append(cont)\n",
    "            cont = 1\n",
    "            fv = li[i]\n",
    "\n",
    "    cs.append(cont)\n",
    "\n",
    "    if len(cs) == 1:\n",
    "        print(1)\n",
    "    else:\n",
    "        c1 = 0\n",
    "        c2 = 0\n",
    "        for i in range(len(cs)):\n",
    "            v = cs[i]\n",
    "            if v == 1:\n",
    "                c1 += 1\n",
    "            else:\n",
    "                c2 += 1\n",
    "\n",
    "        if c1:\n",
    "            c1 -= 1\n",
    "        else:\n",
    "            c2 -= 1\n",
    "                \n",
    "        r = 1 + c2 + c1 // 2\n",
    "\n",
    "        print(r)"
   ]
  },
  {
   "cell_type": "code",
   "execution_count": 20,
   "metadata": {},
   "outputs": [],
   "source": [
    "from bisect import bisect_left\n",
    "\n",
    "def lis(li):\n",
    "    nli = [li[0]]\n",
    "    for i in range(1, len(li)):\n",
    "        index = bisect_left(nli, li[i])\n",
    "\n",
    "        if index == len(nli):\n",
    "            nli.append(li[i])\n",
    "        else:\n",
    "            nli[index] = li[i]\n",
    "\n",
    "    return len(nli)"
   ]
  },
  {
   "cell_type": "code",
   "execution_count": 98,
   "metadata": {
    "scrolled": false
   },
   "outputs": [
    {
     "name": "stdout",
     "output_type": "stream",
     "text": [
      "3 2\n"
     ]
    }
   ],
   "source": [
    "from itertools import permutations as perm\n",
    "\n",
    "li = [1, 1, 2, 3, 3]\n",
    "n = len(li)\n",
    "\n",
    "max_c = 0\n",
    "for case in perm(li):\n",
    "    nli = list(case)\n",
    "    \n",
    "    t1 = lis(nli)\n",
    "    t2 = lis(nli[::-1])\n",
    "    max_c = max(max_c, min(t1, t2))\n",
    "    \n",
    "print(max_c, solve(li))"
   ]
  },
  {
   "cell_type": "markdown",
   "metadata": {},
   "source": [
    "D"
   ]
  },
  {
   "cell_type": "code",
   "execution_count": null,
   "metadata": {},
   "outputs": [],
   "source": [
    "어떤 상황이 겹치는건지 구체화하기"
   ]
  },
  {
   "cell_type": "code",
   "execution_count": null,
   "metadata": {},
   "outputs": [],
   "source": [
    "n이 짝수면 e는 홀수개 있으면 안됨\n",
    "n이 홀수면 e는 짝수개 있으면 안됨"
   ]
  },
  {
   "cell_type": "code",
   "execution_count": null,
   "metadata": {},
   "outputs": [],
   "source": [
    "홀수 3개 이어져 있으면 서로 붙임 그리고 가운데 것만 유효하게 바꿈\n",
    "\n",
    "짝홀 조합 연결\n",
    "짝짝 조합 연결"
   ]
  },
  {
   "cell_type": "code",
   "execution_count": null,
   "metadata": {},
   "outputs": [],
   "source": [
    "n = int(input())\n",
    "li = list(map(int, input()))\n",
    "\n",
    "ce = 0\n",
    "for v in li:\n",
    "    if v == 0:\n",
    "        ce += 1\n",
    "        \n",
    "if n % 2 != ce % 2:\n",
    "    print('NO')\n",
    "else:\n",
    "    for i in range(n):\n",
    "        if li[-1]"
   ]
  },
  {
   "cell_type": "code",
   "execution_count": null,
   "metadata": {},
   "outputs": [],
   "source": []
  },
  {
   "cell_type": "code",
   "execution_count": null,
   "metadata": {},
   "outputs": [],
   "source": []
  }
 ],
 "metadata": {
  "kernelspec": {
   "display_name": "Python 3",
   "language": "python",
   "name": "python3"
  },
  "language_info": {
   "codemirror_mode": {
    "name": "ipython",
    "version": 3
   },
   "file_extension": ".py",
   "mimetype": "text/x-python",
   "name": "python",
   "nbconvert_exporter": "python",
   "pygments_lexer": "ipython3",
   "version": "3.7.4"
  }
 },
 "nbformat": 4,
 "nbformat_minor": 2
}
