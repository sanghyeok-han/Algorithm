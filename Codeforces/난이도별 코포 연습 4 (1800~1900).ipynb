{
 "cells": [
  {
   "cell_type": "markdown",
   "metadata": {},
   "source": [
    "https://codeforces.com/problemset/problem/1691/D D. Max GEQ Sum"
   ]
  },
  {
   "cell_type": "code",
   "execution_count": 54,
   "metadata": {},
   "outputs": [
    {
     "name": "stdout",
     "output_type": "stream",
     "text": [
      "3\n",
      "2 3 -1\n",
      "0 2 2\n",
      "1 5 3 3\n",
      "NO\n"
     ]
    }
   ],
   "source": [
    "from math import log2, ceil\n",
    "import sys\n",
    "# input = lambda: sys.stdin.readline().rstrip()\n",
    "\n",
    "inf = float('inf')\n",
    "\n",
    "def construct(segtree, li, node, start, end):\n",
    "    if start == end:\n",
    "        segtree[node] = li[start]\n",
    "        return segtree[node]\n",
    "    mid = (start + end) // 2\n",
    "    \n",
    "    t1 = construct(segtree, li, node * 2, start, mid)\n",
    "    t2 = construct(segtree, li, node * 2 + 1, mid + 1, end)\n",
    "    \n",
    "    segtree[node] = max(t1, t2)\n",
    "    \n",
    "    return segtree[node]\n",
    "\n",
    "def query(segtree, node, s, e, qs, qe):\n",
    "    if e < qs or s > qe:\n",
    "        return -inf\n",
    "    if qs <= s and e <= qe:\n",
    "        return segtree[node]\n",
    "    else:\n",
    "        mid = (s + e) // 2\n",
    "        \n",
    "        t1 = query(segtree, node * 2, s, mid, qs, qe)\n",
    "        t2 = query(segtree, node * 2 + 1, mid + 1, e, qs, qe)\n",
    "        \n",
    "        return max(t1, t2)\n",
    "\n",
    "for _ in range(int(input())):\n",
    "    n = int(input())\n",
    "    li = list(map(int, input().split()))\n",
    "\n",
    "    stack = []\n",
    "    itvs = [[-1, -1] for _ in range(n)]\n",
    "    for i in range(n):\n",
    "        while stack and stack[-1][0] < li[i]:\n",
    "            fv, fis = stack.pop()\n",
    "            for fi in fis:\n",
    "                itvs[fi][1] = i - 1\n",
    "        if stack:\n",
    "            if stack[-1][0] == li[i]:\n",
    "                stack[-1][1].append(i)\n",
    "                if len(stack) >= 2:\n",
    "                    itvs[i][0] = stack[-2][1][-1] + 1\n",
    "                else:\n",
    "                    itvs[i][0] = 0\n",
    "            else:\n",
    "                itvs[i][0] = stack[-1][1][-1] + 1\n",
    "                stack.append([li[i], [i]])\n",
    "        else:\n",
    "            itvs[i][0] = 0\n",
    "            stack.append([li[i], [i]])\n",
    "\n",
    "    while stack:\n",
    "        fv, fis = stack.pop()\n",
    "        for fi in fis:\n",
    "            itvs[fi][1] = n - 1\n",
    "\n",
    "    to_right_sum = [0] * n\n",
    "    cumul = 0\n",
    "    for i in range(n):\n",
    "        cumul += li[i]\n",
    "        to_right_sum[i] = cumul\n",
    "\n",
    "    to_left_sum = [0] * n\n",
    "    cumul = 0\n",
    "    for i in range(n - 1, -1, -1):\n",
    "        cumul += li[i]\n",
    "        to_left_sum[i] = cumul\n",
    "\n",
    "    size = 2 ** (ceil(log2(n)) + 1) + 1\n",
    "\n",
    "    to_right_tree = [0] * size\n",
    "    construct(to_right_tree, to_right_sum, 1, 0, n - 1)\n",
    "\n",
    "    to_left_tree = [0] * size\n",
    "    construct(to_left_tree, to_left_sum, 1, 0, n - 1)\n",
    "\n",
    "    ip = True\n",
    "    for i in range(n):\n",
    "        l = itvs[i][0]\n",
    "        r = itvs[i][1]\n",
    "\n",
    "        if 0 < i < n - 1:\n",
    "            left_max = query(to_left_tree, 1, 0, n - 1, l, i) - to_left_sum[i] + li[i]\n",
    "            right_max = query(to_right_tree, 1, 0, n - 1, i, r) - to_right_sum[i] + li[i] \n",
    "            if max(left_max, right_max) > li[i]:\n",
    "                ip = False\n",
    "                break\n",
    "        elif i == 0:\n",
    "            right_max = query(to_right_tree, 1, 0, n - 1, i, r) - to_right_sum[i] + li[i] \n",
    "            if right_max > li[i]:\n",
    "                ip = False\n",
    "                break\n",
    "        else:\n",
    "            left_max = query(to_left_tree, 1, 0, n - 1, l, i) - to_left_sum[i] + li[i]\n",
    "            if left_max > li[i]:\n",
    "                ip = False\n",
    "                break\n",
    "\n",
    "    if ip:\n",
    "        print('YES')\n",
    "    else:\n",
    "        print('NO')"
   ]
  },
  {
   "cell_type": "code",
   "execution_count": null,
   "metadata": {},
   "outputs": [],
   "source": [
    "from math import log2, ceil\n",
    "import sys\n",
    "# input = lambda: sys.stdin.readline().rstrip()\n",
    "\n",
    "inf = float('inf')\n",
    "\n",
    "def construct(segtree, li, node, start, end):\n",
    "    if start == end:\n",
    "        segtree[node] = li[start]\n",
    "        return segtree[node]\n",
    "    mid = (start + end) // 2\n",
    "    \n",
    "    t1 = construct(segtree, li, node * 2, start, mid)\n",
    "    t2 = construct(segtree, li, node * 2 + 1, mid + 1, end)\n",
    "    \n",
    "    segtree[node] = max(t1, t2)\n",
    "    \n",
    "    return segtree[node]\n",
    "\n",
    "def query(segtree, node, s, e, qs, qe):\n",
    "    if e < qs or s > qe:\n",
    "        return -inf\n",
    "    if qs <= s and e <= qe:\n",
    "        return segtree[node]\n",
    "    else:\n",
    "        mid = (s + e) // 2\n",
    "        \n",
    "        t1 = query(segtree, node * 2, s, mid, qs, qe)\n",
    "        t2 = query(segtree, node * 2 + 1, mid + 1, e, qs, qe)\n",
    "        \n",
    "        return max(t1, t2)\n",
    "    \n",
    "for _ in range(int(input())):\n",
    "    n = int(input())\n",
    "    li = list(map(int, input().split()))\n",
    "\n",
    "    to_right_sum = [0] * n\n",
    "    cumul = 0\n",
    "\n",
    "    stack_i = []\n",
    "    stack_v = []\n",
    "    r_limit = [n - 1] * n\n",
    "    \n",
    "    to_left_sum = [0] * n\n",
    "    cumul2 = 0\n",
    "\n",
    "    stack_i2 = []\n",
    "    stack_v2 = []\n",
    "    l_limit = [0] * n\n",
    "    for i in range(n):\n",
    "        v = li[i]\n",
    "        while stack_v and stack_v[-1] < v:\n",
    "            stack_v.pop()\n",
    "            r_limit[stack_i.pop()] = i - 1\n",
    "        stack_v.append(v)\n",
    "        stack_i.append(i)\n",
    "\n",
    "        cumul += li[i]\n",
    "        to_right_sum[i] = cumul\n",
    "\n",
    "        j = n - 1 - i\n",
    "        w = li[j]\n",
    "        while stack_v2 and stack_v2[-1] < w:\n",
    "            stack_v2.pop()\n",
    "            l_limit[stack_i2.pop()] = j + 1\n",
    "        stack_v2.append(w)\n",
    "        stack_i2.append(j)\n",
    "\n",
    "        cumul2 += li[j]\n",
    "        to_left_sum[j] = cumul2\n",
    "\n",
    "    size = 2 ** (ceil(log2(n)) + 1) + 1\n",
    "\n",
    "    to_right_tree = [0] * size\n",
    "    construct(to_right_tree, to_right_sum, 1, 0, n - 1)\n",
    "\n",
    "    to_left_tree = [0] * size\n",
    "    construct(to_left_tree, to_left_sum, 1, 0, n - 1)\n",
    "\n",
    "    ip = True\n",
    "    for i in range(n):\n",
    "        l = l_limit[i]\n",
    "        r = r_limit[i]\n",
    "\n",
    "        if 0 < i < n - 1:\n",
    "            left_max = query(to_left_tree, 1, 0, n - 1, l, i) - to_left_sum[i] + li[i]\n",
    "            right_max = query(to_right_tree, 1, 0, n - 1, i, r) - to_right_sum[i] + li[i] \n",
    "            if max(left_max, right_max) > li[i]:\n",
    "                ip = False\n",
    "                break\n",
    "        elif i == 0:\n",
    "            right_max = query(to_right_tree, 1, 0, n - 1, i, r) - to_right_sum[i] + li[i] \n",
    "            if right_max > li[i]:\n",
    "                ip = False\n",
    "                break\n",
    "        else:\n",
    "            left_max = query(to_left_tree, 1, 0, n - 1, l, i) - to_left_sum[i] + li[i]\n",
    "            if left_max > li[i]:\n",
    "                ip = False\n",
    "                break\n",
    "\n",
    "    if ip:\n",
    "        print('YES')\n",
    "    else:\n",
    "        print('NO')"
   ]
  },
  {
   "cell_type": "markdown",
   "metadata": {},
   "source": [
    "https://codeforces.com/problemset/problem/1700/D D. River Locks"
   ]
  },
  {
   "cell_type": "code",
   "execution_count": 6,
   "metadata": {},
   "outputs": [
    {
     "name": "stdout",
     "output_type": "stream",
     "text": [
      "5\n",
      "4 1 5 4 1\n",
      "[0, 3, 2, 2, 5] [15, 11, 10, 5, 1]\n"
     ]
    }
   ],
   "source": [
    "import sys\n",
    "input = lambda: sys.stdin.readline().rstrip()\n",
    "\n",
    "n = int(input())\n",
    "li = list(map(int, input().split()))\n",
    "\n",
    "start = 1\n",
    "end = int(1e9)\n",
    "min_needed = end + 1\n",
    "while start <= end:\n",
    "    mid = (start + end) // 2\n",
    "    \n",
    "    remained = 0\n",
    "    ip = True\n",
    "    for v in li:\n",
    "        remained += mid\n",
    "        if v > remained:\n",
    "            ip = False\n",
    "            break\n",
    "        remained -= v\n",
    "        \n",
    "    if ip:\n",
    "        min_needed = mid\n",
    "        end = mid - 1\n",
    "    else:\n",
    "        start = mid + 1\n",
    "        \n",
    "remained = 0\n",
    "frees = [0] * n\n",
    "for i in range(n):\n",
    "    remained += min_needed\n",
    "    remained -= li[i]\n",
    "    frees[i] = remained\n",
    "    \n",
    "to_left_sli = [0] * (n + 1)\n",
    "cumul = 0\n",
    "for i in range(n - 1, -1, -1):\n",
    "    cumul += li[i]\n",
    "    to_left_sli[i] = cumul\n",
    "    \n",
    "q = int(input())\n",
    "for _ in range(q):\n",
    "    t = int(input())\n",
    "    if t < min_needed:\n",
    "        print(-1)\n",
    "    else:\n",
    "        start = 0\n",
    "        end = n - 1\n",
    "        min_used = n + 1\n",
    "        while start <= end:\n",
    "            mid = (start + end) // 2\n",
    "\n",
    "            if frees[mid] + (t - min_needed) * (mid + 1) >= to_left_sli[mid + 1]:\n",
    "                min_used = mid + 1\n",
    "                end = mid - 1\n",
    "            else:\n",
    "                start = mid + 1\n",
    "\n",
    "        print(min_used)"
   ]
  },
  {
   "cell_type": "markdown",
   "metadata": {},
   "source": [
    "https://codeforces.com/problemset/problem/1442/B B. Identify the Operations"
   ]
  },
  {
   "cell_type": "code",
   "execution_count": 23,
   "metadata": {},
   "outputs": [
    {
     "name": "stdout",
     "output_type": "stream",
     "text": [
      "5 3\n",
      "1 2 3 4 5\n",
      "3 2 5\n",
      "2\n"
     ]
    }
   ],
   "source": [
    "import sys\n",
    "input = lambda: sys.stdin.readline().rstrip()\n",
    "\n",
    "mod = 998244353\n",
    "\n",
    "for _ in range(int(input())):\n",
    "    n, k = map(int, input().split())\n",
    "    a = list(map(int, input().split()))\n",
    "    b = list(map(int, input().split()))\n",
    "\n",
    "    cant_remove = set(b)\n",
    "    na = []\n",
    "    a_locs = [-1] * (n + 1)\n",
    "    for i in range(n):\n",
    "        a_locs[a[i]] = i\n",
    "        na.append([i - 1, a[i], i + 1])\n",
    "\n",
    "    cur = 1\n",
    "    # print(na)\n",
    "    for bv in b:\n",
    "        if a_locs[bv] == -1:\n",
    "            cur = 0\n",
    "            break\n",
    "        nai = a_locs[bv]\n",
    "        prev, _, nxt = na[nai]\n",
    "        can_del_c = 0\n",
    "        if prev >= 0 and na[prev][1] not in cant_remove:\n",
    "    #         print(bv, 11)\n",
    "            can_del_c += 1\n",
    "\n",
    "            na[nai][0] = na[prev][0]\n",
    "            if na[prev][0] >= 0:\n",
    "                na[na[prev][0]][2] = nai\n",
    "        if nxt < n and na[nxt][1] not in cant_remove:\n",
    "    #         print(bv, 22)\n",
    "\n",
    "            can_del_c += 1\n",
    "            if can_del_c == 1:\n",
    "                na[nai][2] = na[nxt][2]\n",
    "                if na[nxt][2] < n:\n",
    "                    na[na[nxt][2]][0] = nai\n",
    "\n",
    "        if can_del_c == 0:\n",
    "            cur = 0\n",
    "            break\n",
    "        cur *= can_del_c\n",
    "        cur %= mod\n",
    "\n",
    "        cant_remove.discard(bv)\n",
    "\n",
    "    print(cur)"
   ]
  },
  {
   "cell_type": "code",
   "execution_count": null,
   "metadata": {},
   "outputs": [],
   "source": [
    "pp pai pnxt | prev, ai, nxt"
   ]
  },
  {
   "cell_type": "markdown",
   "metadata": {},
   "source": [
    "https://codeforces.com/problemset/problem/1420/D D. Rescue Nibel!"
   ]
  },
  {
   "cell_type": "code",
   "execution_count": 8,
   "metadata": {},
   "outputs": [
    {
     "name": "stdout",
     "output_type": "stream",
     "text": [
      "3 1\n",
      "1 1\n",
      "2 2\n",
      "3 3\n",
      "3\n"
     ]
    }
   ],
   "source": [
    "from heapq import heappush, heappop\n",
    "import sys\n",
    "input = lambda: sys.stdin.readline().rstrip()\n",
    "\n",
    "mod = 998244353\n",
    "max_num = 300010\n",
    "\n",
    "factos = [0] * (max_num + 1)\n",
    "factos[0] = 1\n",
    "invs = [0] * (max_num + 1)\n",
    "cur = 1\n",
    "for i in range(1, max_num + 1):\n",
    "    cur *= i\n",
    "    cur %= mod\n",
    "    factos[i] = cur\n",
    "    \n",
    "invs[max_num] = pow(factos[max_num], mod - 2, mod)\n",
    "for i in range(max_num - 1, -1, -1):\n",
    "    invs[i] = (i + 1) * invs[i + 1] % mod\n",
    "    \n",
    "def nCk(n, k, mod):\n",
    "    if n < k:\n",
    "        return 0\n",
    "    return factos[n] * invs[k] * invs[n - k] % mod\n",
    "\n",
    "def calcul():\n",
    "    global total\n",
    "    global cur_start\n",
    "    \n",
    "    while heap and heap[0] < cur_start:\n",
    "        heappop(heap)\n",
    "\n",
    "    total += nCk(len(temp) + len(heap), k, mod) - nCk(len(heap), k, mod)\n",
    "    total %= mod\n",
    "    while temp:\n",
    "        heappush(heap, temp.pop())\n",
    "    if i <= n - 1:\n",
    "        cur_start = li[i][0]    \n",
    "\n",
    "n, k = map(int, input().split())\n",
    "li = [list(map(int, input().split())) for _ in range(n)]\n",
    "li.sort(key=lambda x: x[0])\n",
    "\n",
    "heap = []\n",
    "total = 0\n",
    "cur_start = li[0][0]\n",
    "i = 0\n",
    "temp = []\n",
    "while True:\n",
    "    if cur_start == li[i][0]:\n",
    "        temp.append(li[i][1])\n",
    "        i += 1\n",
    "        if i >= n:\n",
    "            break\n",
    "    else:\n",
    "        calcul()\n",
    "if temp:\n",
    "    calcul()\n",
    "    \n",
    "print(total)"
   ]
  },
  {
   "cell_type": "markdown",
   "metadata": {},
   "source": [
    "https://codeforces.com/problemset/problem/1409/E E. Two Platforms"
   ]
  },
  {
   "cell_type": "code",
   "execution_count": 12,
   "metadata": {},
   "outputs": [
    {
     "name": "stdout",
     "output_type": "stream",
     "text": [
      "[1, 2, 3, 4, 5]\n",
      "[3, 2, 2, 3, 2]\n",
      "6\n"
     ]
    }
   ],
   "source": [
    "from collections import deque\n",
    "import sys\n",
    "input = lambda: sys.stdin.readline().rstrip()\n",
    "\n",
    "inf = float('inf')\n",
    "\n",
    "for _ in range(int(input())):\n",
    "    n, k = map(int, input().split())\n",
    "    xs = sorted(map(int, input().split()))\n",
    "    input()\n",
    "\n",
    "    xs.append(inf)\n",
    "    starts = []\n",
    "    counts = []\n",
    "\n",
    "    start = 0\n",
    "    end = 0\n",
    "    starts.append(xs[start])\n",
    "    while start <= end:\n",
    "        needed = xs[end] - xs[start]\n",
    "\n",
    "        if needed > k:\n",
    "            counts.append(end - start)\n",
    "            nstart = start\n",
    "            while xs[nstart] == xs[start]:  \n",
    "                nstart += 1\n",
    "\n",
    "            start = nstart\n",
    "            if start == n:\n",
    "                break\n",
    "            starts.append(xs[start])\n",
    "        else:\n",
    "            end += 1\n",
    "\n",
    "    # print(starts)\n",
    "    # print(counts)\n",
    "    starts_len = len(starts)\n",
    "\n",
    "    to_left_smax = deque()\n",
    "    cur_max = 0\n",
    "    for i in range(starts_len - 1, -1, -1):\n",
    "        cur_max = max(cur_max, counts[i])\n",
    "        to_left_smax.appendleft(cur_max) \n",
    "\n",
    "    max_r = 0\n",
    "    end = 0\n",
    "    for start in range(starts_len):\n",
    "        is_end = False\n",
    "        while True:\n",
    "            to_check = starts[end] - starts[start]\n",
    "            if to_check <= k:\n",
    "                end += 1\n",
    "                if end == starts_len:\n",
    "                    is_end = True\n",
    "                    break\n",
    "            else:\n",
    "                break\n",
    "\n",
    "        if not is_end:\n",
    "            max_r = max(max_r, counts[start] + to_left_smax[end])\n",
    "        else:\n",
    "            max_r = max(max_r, counts[start])\n",
    "            break\n",
    "\n",
    "    print(max_r)"
   ]
  },
  {
   "cell_type": "markdown",
   "metadata": {},
   "source": [
    "https://codeforces.com/problemset/problem/1696/D D. Permutation Graph"
   ]
  },
  {
   "cell_type": "code",
   "execution_count": 33,
   "metadata": {},
   "outputs": [
    {
     "name": "stdout",
     "output_type": "stream",
     "text": [
      "1\n",
      "6\n",
      "6 2 3 4 5 1\n",
      "1\n"
     ]
    }
   ],
   "source": [
    "from collections import deque\n",
    "import sys\n",
    "# input = lambda: sys.stdin.readline().rstrip()\n",
    "\n",
    "inf = float('inf')\n",
    "\n",
    "min_func = lambda a, b: min(a, b)\n",
    "max_func = lambda a, b: max(a, b)\n",
    "\n",
    "class SegmentTree:\n",
    "    def __init__(self, data, default=10**15, func=lambda a, b: max(a,b)):\n",
    "        \"\"\"initialize the segment tree with data\"\"\"\n",
    "        self._default = default\n",
    "        self._func = func\n",
    "        self._len = len(data)\n",
    "        self._size = _size = 1 << (self._len - 1).bit_length()\n",
    " \n",
    "        self.data = [default] * (2 * _size)\n",
    "        self.data[_size:_size + self._len] = data\n",
    "        for i in reversed(range(_size)):\n",
    "            self.data[i] = func(self.data[i + i], self.data[i + i + 1])\n",
    " \n",
    "    def __delitem__(self, idx):\n",
    "        self[idx] = self._default\n",
    " \n",
    "    def __getitem__(self, idx):\n",
    "        return self.data[idx + self._size]\n",
    " \n",
    "    def __setitem__(self, idx, value):\n",
    "        idx += self._size\n",
    "        self.data[idx] = value\n",
    "        idx >>= 1\n",
    "        while idx:\n",
    "            self.data[idx] = self._func(self.data[2 * idx], self.data[2 * idx + 1])\n",
    "            idx >>= 1\n",
    " \n",
    "    def __len__(self):\n",
    "        return self._len\n",
    " \n",
    "    def query(self, start, stop):\n",
    "        if start == stop:\n",
    "            return self.__getitem__(start)\n",
    "        stop += 1\n",
    "        start += self._size\n",
    "        stop += self._size\n",
    " \n",
    "        res = self._default\n",
    "        while start < stop:\n",
    "            if start & 1:\n",
    "                res = self._func(res, self.data[start])\n",
    "                start += 1\n",
    "            if stop & 1:\n",
    "                stop -= 1\n",
    "                res = self._func(res, self.data[stop])\n",
    "            start >>= 1\n",
    "            stop >>= 1\n",
    "        return res\n",
    " \n",
    "    def __repr__(self):\n",
    "        return \"SegmentTree({0})\".format(self.data)\n",
    "\n",
    "for _ in range(int(input())):\n",
    "    n = int(input())\n",
    "    li = list(map(int, input().split()))\n",
    "\n",
    "    if n == 1:\n",
    "        print(0)\n",
    "    else:\n",
    "        locs = [0] * (n + 1)\n",
    "        for i in range(n):\n",
    "            locs[li[i]] = i\n",
    "\n",
    "        min_seg = SegmentTree(li, inf, func=min_func)\n",
    "        max_seg = SegmentTree(li, -inf, func=max_func)\n",
    "\n",
    "        is_end = [False] * n\n",
    "        is_end[-1] = True\n",
    "\n",
    "        queue = deque()\n",
    "        queue.append((0, n - 1, 1)) # 0: min 1: max\n",
    "        while queue:\n",
    "            l, r, to_check = queue.popleft()\n",
    "\n",
    "            if to_check == 0:\n",
    "                min_v = min_seg.query(l, r)\n",
    "\n",
    "                if li[l] == min_v or li[r] == min_v:\n",
    "                    pass\n",
    "                else:\n",
    "                    mid = locs[min_v]\n",
    "                    is_end[mid] = True\n",
    "\n",
    "                    if l + 1 < mid:\n",
    "                        queue.append((l, mid, 1))\n",
    "                    if mid + 1 < r:\n",
    "                        queue.append((mid, r, 1))\n",
    "            else:\n",
    "                max_v = max_seg.query(l, r)\n",
    "\n",
    "                if li[l] == max_v or li[r] == max_v:\n",
    "                    pass\n",
    "                else:\n",
    "                    mid = locs[max_v]\n",
    "                    is_end[mid] = True\n",
    "\n",
    "                    if l + 1 < mid:\n",
    "                        queue.append((l, mid, 0))\n",
    "                    if mid + 1 < r:\n",
    "                        queue.append((mid, r, 0))\n",
    "                        \n",
    "            if l == 0 and r == n - 1 and to_check == 1:\n",
    "                queue.append((l, r, 0))\n",
    "\n",
    "        total = sum(is_end)\n",
    "\n",
    "        print(total)"
   ]
  },
  {
   "cell_type": "markdown",
   "metadata": {},
   "source": [
    "https://codeforces.com/problemset/problem/1673/D D.Lost Arithmetic Progression "
   ]
  },
  {
   "cell_type": "code",
   "execution_count": null,
   "metadata": {},
   "outputs": [],
   "source": [
    "먼저, C에 있는게 B에 다 있지 않으면 답은 0\n",
    "    q가 r보다 크면 0\n",
    "    C와 B의 시작값, 끝값 비교\n",
    "    q가 r의 약수가 아니면 0\n",
    "    두 시작점을 q로 나눴을 때의 나머지가 서로 다르면 0"
   ]
  },
  {
   "cell_type": "code",
   "execution_count": null,
   "metadata": {},
   "outputs": [],
   "source": [
    "~의 배수는 시작점을 0으로 두었을 떄 기준\n",
    "\n",
    "B={−9,−6,−3,0,3,6,9,12,15,18,21}  3의 배수\n",
    "C={0,6,12}  6의 배수\n",
    "\n",
    "A가 \n",
    "1의 배수면 3의 배수 들어가서 안됨\n",
    "2의 배수면 가능함\n",
    "3의 배수면 3의 배수 들어가서 안됨\n",
    "6의 배수면 가능함\n",
    "12의 배수면 6의 배수가 안들어가서 안됨"
   ]
  },
  {
   "cell_type": "code",
   "execution_count": null,
   "metadata": {},
   "outputs": [],
   "source": [
    "6의 약수이면서도 3의 약수가 아니어야 함\n",
    "즉 A의 가능한 공차는 r의 약수면서도 q의 약수가 아니어야 함, 단 q과 r이 같으면 q는 가능함\n",
    "\n",
    "2, 6 가능함"
   ]
  },
  {
   "cell_type": "code",
   "execution_count": null,
   "metadata": {},
   "outputs": [],
   "source": [
    "A의 양 끝으로 계속 뻗어나갈 때 멈출 수 있는 곳은 어디인가?\n",
    "그것은 C의 공차이다.\n",
    "B가 C의 시작점에서 C의 공차를 뺀 값을 포함하지 못하면 정답은 -1이 된다."
   ]
  },
  {
   "cell_type": "code",
   "execution_count": null,
   "metadata": {},
   "outputs": [],
   "source": [
    "1 3 5 7 9 11 13 15 17 19 21 23 25   1 2 13\n",
    "        9          17               9 8 2\n",
    "    "
   ]
  },
  {
   "cell_type": "code",
   "execution_count": null,
   "metadata": {},
   "outputs": [],
   "source": [
    "-1000 3 10000\n",
    "2 12 5"
   ]
  },
  {
   "cell_type": "code",
   "execution_count": 40,
   "metadata": {},
   "outputs": [
    {
     "name": "stdout",
     "output_type": "stream",
     "text": [
      "1\n",
      "-1000 3 10000\n",
      "2 12 2\n",
      "2 36\n",
      "4 9\n",
      "6 4\n",
      "12 1\n",
      "50\n"
     ]
    }
   ],
   "source": [
    "import sys\n",
    "# input = lambda: sys.stdin.readline().rstrip()\n",
    "\n",
    "mod = int(1e9) + 7\n",
    "\n",
    "def solve():\n",
    "    b_start = b\n",
    "    c_start = c\n",
    "    \n",
    "    if q > r or c_start < b_start:\n",
    "        return 0\n",
    "    \n",
    "    b_end = b + q * (y - 1)\n",
    "    c_end = c + r * (z - 1)\n",
    "    if b_end < c_end:\n",
    "        return 0\n",
    "    \n",
    "    if r % q != 0:\n",
    "        return 0\n",
    "    \n",
    "    if b_start % q != c_start % q:\n",
    "        return 0\n",
    "    \n",
    "    if c_start - r < b_start or b_end < c_end + r:\n",
    "        return -1\n",
    "    \n",
    "    r_divisors = set()\n",
    "    for mm in range(1, int(r ** 0.5) + 1):\n",
    "        if r % mm == 0:\n",
    "            r_divisors.add(mm)\n",
    "            r_divisors.add(r // mm)\n",
    "    \n",
    "#     print(111, r_divisors)\n",
    "    \n",
    "    if r != q:\n",
    "        for mm in range(1, int(q ** 0.5) + 1):\n",
    "            if q % mm == 0:\n",
    "                r_divisors.discard(mm)\n",
    "                r_divisors.discard(q // mm)\n",
    "        \n",
    "#     print(222, r_divisors)\n",
    "        \n",
    "    total = 0\n",
    "    for cand in r_divisors:\n",
    "        print(cand, (r // cand) ** 2 % mod)\n",
    "        total += (r // cand) ** 2 % mod\n",
    "        total %= mod\n",
    "        \n",
    "    return total\n",
    "    \n",
    "for _ in range(int(input())):\n",
    "    b, q, y = map(int, input().split())\n",
    "    c, r, z = map(int, input().split())\n",
    "\n",
    "    result = solve()\n",
    "    print(result)"
   ]
  },
  {
   "cell_type": "code",
   "execution_count": null,
   "metadata": {},
   "outputs": [],
   "source": [
    "2\n",
    "3\n",
    "12\n",
    "\n",
    "2 4 6 8 10 12 14 16 18\n",
    "    6  9   12   15  18\n",
    "    \n",
    "    6               18"
   ]
  },
  {
   "cell_type": "code",
   "execution_count": 38,
   "metadata": {},
   "outputs": [
    {
     "name": "stdout",
     "output_type": "stream",
     "text": [
      "1\n",
      "-1000 3 10000\n",
      "2 12 5\n",
      "12 1\n",
      "4 9\n",
      "10\n"
     ]
    }
   ],
   "source": [
    "from math import gcd\n",
    "import sys\n",
    "# input = lambda: sys.stdin.readline().rstrip()\n",
    "\n",
    "lcm = lambda a, b: a * b // gcd(a, b)\n",
    "\n",
    "mod = int(1e9) + 7\n",
    "\n",
    "def solve():\n",
    "    b_start = b\n",
    "    c_start = c\n",
    "    \n",
    "    if q > r or c_start < b_start:\n",
    "        return 0\n",
    "    \n",
    "    b_end = b + q * (y - 1)\n",
    "    c_end = c + r * (z - 1)\n",
    "    if b_end < c_end:\n",
    "        return 0\n",
    "    \n",
    "    if r % q != 0:\n",
    "        return 0\n",
    "    \n",
    "    if b_start % q != c_start % q:\n",
    "        return 0\n",
    "    \n",
    "    if c_start - r < b_start or b_end < c_end + r:\n",
    "        return -1\n",
    "    \n",
    "    total = 0\n",
    "    for mm in range(1, int(r ** 0.5) + 1):\n",
    "        if r % mm == 0:\n",
    "            cand1 = r // mm\n",
    "            cand2 = mm\n",
    "        \n",
    "            if lcm(cand1, q) == r:\n",
    "                print(cand1, (r // cand1) ** 2 % mod)\n",
    "                total += (r // cand1) ** 2 % mod\n",
    "                total %= mod\n",
    "                \n",
    "            if cand1 != cand2:\n",
    "                if lcm(cand2, q) == r:\n",
    "                    print(cand2, (r // cand2) ** 2 % mod)\n",
    "                    total += (r // cand2) ** 2 % mod\n",
    "                    total %= mod\n",
    "        \n",
    "    return total\n",
    "       \n",
    "for _ in range(int(input())):\n",
    "    b, q, y = map(int, input().split())\n",
    "    c, r, z = map(int, input().split())\n",
    "\n",
    "    result = solve()\n",
    "    print(result)"
   ]
  },
  {
   "cell_type": "code",
   "execution_count": null,
   "metadata": {},
   "outputs": [],
   "source": [
    "-1000 3 10000\n",
    "2 12 5"
   ]
  },
  {
   "cell_type": "code",
   "execution_count": 42,
   "metadata": {},
   "outputs": [
    {
     "data": {
      "text/plain": [
       "1800"
      ]
     },
     "execution_count": 42,
     "metadata": {},
     "output_type": "execute_result"
    }
   ],
   "source": [
    "360 * 5"
   ]
  },
  {
   "cell_type": "markdown",
   "metadata": {},
   "source": [
    "https://codeforces.com/problemset/problem/1661/D D. Progressions Covering"
   ]
  },
  {
   "cell_type": "code",
   "execution_count": null,
   "metadata": {},
   "outputs": [],
   "source": [
    "앞에서부터 가능한 최대를 맞추면 될거 같음, 뒤쪽에는 더할 값을 저장해줌\n",
    "마지막에 남은 것들은 별도로 확인해서 필요한 최댓값을 더해줌"
   ]
  },
  {
   "cell_type": "code",
   "execution_count": null,
   "metadata": {},
   "outputs": [],
   "source": [
    "a    0 0 0\n",
    "b    5 4 6\n",
    "\n",
    "a 0 0 0 0 0 0\n",
    "b 1 2 3 2 2 3"
   ]
  },
  {
   "cell_type": "code",
   "execution_count": null,
   "metadata": {},
   "outputs": [],
   "source": [
    "2 5 8 1\n",
    "1 2 3\n",
    "1 2 3\n",
    "  1 2 3"
   ]
  },
  {
   "cell_type": "code",
   "execution_count": null,
   "metadata": {},
   "outputs": [],
   "source": [
    "total = 5"
   ]
  },
  {
   "cell_type": "code",
   "execution_count": null,
   "metadata": {},
   "outputs": [],
   "source": [
    "  2 3\n",
    "    2 3"
   ]
  },
  {
   "cell_type": "code",
   "execution_count": null,
   "metadata": {},
   "outputs": [],
   "source": [
    "untils = [[2, 1], [3, 3]]"
   ]
  },
  {
   "cell_type": "code",
   "execution_count": 75,
   "metadata": {},
   "outputs": [
    {
     "name": "stdout",
     "output_type": "stream",
     "text": [
      "3 3\n",
      "5 4 6\n",
      "5\n"
     ]
    }
   ],
   "source": [
    "from collections import deque\n",
    "\n",
    "n, k = map(int, input().split())\n",
    "b = list(map(int, input().split()))\n",
    "\n",
    "untils = deque()\n",
    "\n",
    "c = 0\n",
    "used = 0\n",
    "ccr = 0 # cur can reduce\n",
    "for i in range(n - 1, -1, -1):\n",
    "    ccr -= c\n",
    "    if untils and untils[0][0] > i:\n",
    "        c -= untils[0][1]\n",
    "        untils.popleft()\n",
    "    \n",
    "    b[i] -= ccr\n",
    "    if i >= k - 1 and b[i] >= 1:\n",
    "        to_use = b[i] // k\n",
    "        if b[i] % k:\n",
    "            to_use += 1\n",
    "        \n",
    "        used += to_use\n",
    "        c += to_use\n",
    "        untils.append([i - k + 1, to_use])\n",
    "        ccr += to_use * k\n",
    "        b[i] -= to_use * k\n",
    "    \n",
    "w = 1\n",
    "max_needed = 0\n",
    "for i in range(k - 1):\n",
    "    needed = 0\n",
    "    if b[i] >= 1:\n",
    "        needed = b[i] // w\n",
    "        if b[i] % w:\n",
    "            needed += 1  \n",
    "        max_needed = max(max_needed, needed)\n",
    "        \n",
    "    w += 1\n",
    "\n",
    "used += max_needed\n",
    "\n",
    "print(used)"
   ]
  },
  {
   "cell_type": "code",
   "execution_count": null,
   "metadata": {},
   "outputs": [],
   "source": [
    "5 3\n",
    "0 0 2 4 6"
   ]
  },
  {
   "cell_type": "code",
   "execution_count": null,
   "metadata": {},
   "outputs": [],
   "source": [
    "1 2 3 2 2 3\n",
    "      1 2 3\n",
    "    \n",
    "1 2 3 1 0 0   1\n",
    "1 1 1 -2 0 0  2\n",
    "0 -1 -2 -2 0 0 3\n",
    "    \n"
   ]
  },
  {
   "cell_type": "code",
   "execution_count": null,
   "metadata": {},
   "outputs": [],
   "source": [
    "5 4 6\n",
    "\n",
    "1 2 3\n",
    "1 2 3\n",
    "1 2 3\n",
    "\n",
    "3 6 9"
   ]
  },
  {
   "cell_type": "code",
   "execution_count": null,
   "metadata": {},
   "outputs": [],
   "source": [
    "50 17 81 25 42 39 96\n",
    "50 100 150"
   ]
  },
  {
   "cell_type": "code",
   "execution_count": null,
   "metadata": {},
   "outputs": [],
   "source": [
    "50 + 25 + "
   ]
  },
  {
   "cell_type": "code",
   "execution_count": null,
   "metadata": {},
   "outputs": [],
   "source": [
    "0 0 0 0 100 1 1 1 1 1 1 1\n",
    "\n",
    "                    1 2 3\n",
    "                  1 2 3"
   ]
  },
  {
   "cell_type": "markdown",
   "metadata": {},
   "source": [
    "https://codeforces.com/problemset/problem/1656/D D. K-good"
   ]
  },
  {
   "cell_type": "code",
   "execution_count": null,
   "metadata": {},
   "outputs": [],
   "source": [
    "15\n",
    "1 5 9   3\n",
    "\n",
    "20\n",
    "2 3 4 5 6  5\n",
    "\n",
    "k가 4라면 나머지가 각각 0 1 2 3 나머지의 합: 6\n",
    "k가 3라면 나머지가 각각 0 1 2  나머지의 합: 3\n",
    "    \n",
    "각각 6, 3을 빼고 난 후의 값들의 나머지는 모두 0이어야 함.\n",
    "그 값들을 모두 더 했을 때도 나머지가 0이어야 하므로 해당 값들의 합은 k로 나누어 떨어져야 함.\n",
    "만약 나누어 떨어지기만 한다면 0, 0, n - 나머지의 합 같이 쓸 수도 있음"
   ]
  },
  {
   "cell_type": "code",
   "execution_count": null,
   "metadata": {},
   "outputs": [],
   "source": [
    "n k\n",
    "15 3\n",
    "\n",
    "15 - get_sum(k - 1)이 3의 배수?"
   ]
  },
  {
   "cell_type": "code",
   "execution_count": null,
   "metadata": {},
   "outputs": [],
   "source": [
    "15 - 1+2 이 3의 배수?\n",
    "15 - 1+2+3이 4의 배수?"
   ]
  },
  {
   "cell_type": "code",
   "execution_count": null,
   "metadata": {},
   "outputs": [],
   "source": [
    "k가 4라면 0 4 8 16   + 6"
   ]
  },
  {
   "cell_type": "code",
   "execution_count": 159,
   "metadata": {},
   "outputs": [
    {
     "name": "stdout",
     "output_type": "stream",
     "text": [
      "2 1\n",
      "3 0\n",
      "4 2\n",
      "5 0\n",
      "6 3\n",
      "7 0\n",
      "8 4\n",
      "9 0\n"
     ]
    }
   ],
   "source": [
    "for k in range(2, 10):\n",
    "    print(k, get_sum(k - 1) % k)"
   ]
  },
  {
   "cell_type": "code",
   "execution_count": 168,
   "metadata": {},
   "outputs": [
    {
     "name": "stdout",
     "output_type": "stream",
     "text": [
      "3 2 0\n",
      "4 0 2\n",
      "5 0 0\n",
      "6 2 3\n"
     ]
    }
   ],
   "source": [
    "n = 2\n",
    "\n",
    "for k in range(3, 20):\n",
    "    if n - get_sum(k - 1) < 0:\n",
    "        break\n",
    "    \n",
    "    if k % 2 == 1:\n",
    "        print(k, n % k, 0)\n",
    "    else:\n",
    "        print(k, n % k, k // 2)\n",
    "        \n",
    "# k가 홀수일 때는 n이 k로 나눠지기만 하면 됨"
   ]
  },
  {
   "cell_type": "markdown",
   "metadata": {},
   "source": [
    "https://codeforces.com/problemset/problem/1651/D D. Nearest Excluded Points"
   ]
  },
  {
   "cell_type": "code",
   "execution_count": 176,
   "metadata": {},
   "outputs": [
    {
     "name": "stdout",
     "output_type": "stream",
     "text": [
      "8\n",
      "4 4\n",
      "2 4\n",
      "2 2\n",
      "2 3\n",
      "1 4\n",
      "4 2\n",
      "1 3\n",
      "3 3\n",
      "4 5\n",
      "1 5\n",
      "3 4\n",
      "3 4\n",
      "1 5\n",
      "\n",
      "1 5\n",
      "3 4\n"
     ]
    }
   ],
   "source": [
    "from collections import defaultdict as dd, deque\n",
    "import sys\n",
    "# input = lambda: sys.stdin.readline().rstrip()\n",
    "\n",
    "dx = [-1, 1, 0, 0]\n",
    "dy = [0, 0, -1, 1]\n",
    "\n",
    "n = int(input())\n",
    "li = [tuple(map(int, input().split())) for _ in range(n)]\n",
    "st = set(li)\n",
    "\n",
    "result = dd(tuple)\n",
    "nears = dd(set)\n",
    "queue = deque()\n",
    "for x, y in st:\n",
    "    r = ()\n",
    "    tu = (x, y)\n",
    "    for d in range(4):\n",
    "        nx = x + dx[d]\n",
    "        ny = y + dy[d]\n",
    "        \n",
    "        if (nx, ny) in st:\n",
    "            nears[tu].add((nx, ny))\n",
    "        else:\n",
    "            r = (nx, ny)\n",
    "            \n",
    "    if len(nears[tu]) < 4:\n",
    "        result[tu] = r\n",
    "        \n",
    "        queue.append((x, y))\n",
    "\n",
    "while queue:\n",
    "    x, y = queue.popleft()\n",
    "    \n",
    "    tu = (x, y)\n",
    "    for d in range(4):\n",
    "        nx = x + dx[d]\n",
    "        ny = y + dy[d]  \n",
    "        \n",
    "        ntu = (nx, ny)\n",
    "        if ntu in st:\n",
    "            if not result[ntu]:\n",
    "                result[ntu] = result[tu]\n",
    "                queue.append(ntu)\n",
    "                \n",
    "for tu in li:\n",
    "    print(*result[tu])"
   ]
  }
 ],
 "metadata": {
  "kernelspec": {
   "display_name": "Python 3",
   "language": "python",
   "name": "python3"
  },
  "language_info": {
   "codemirror_mode": {
    "name": "ipython",
    "version": 3
   },
   "file_extension": ".py",
   "mimetype": "text/x-python",
   "name": "python",
   "nbconvert_exporter": "python",
   "pygments_lexer": "ipython3",
   "version": "3.7.4"
  }
 },
 "nbformat": 4,
 "nbformat_minor": 2
}
