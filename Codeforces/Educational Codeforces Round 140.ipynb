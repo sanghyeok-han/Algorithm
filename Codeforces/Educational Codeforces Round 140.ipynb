{
 "cells": [
  {
   "cell_type": "markdown",
   "metadata": {},
   "source": [
    "A"
   ]
  },
  {
   "cell_type": "code",
   "execution_count": null,
   "metadata": {},
   "outputs": [],
   "source": [
    "import io, os, sys\n",
    "input = io.BytesIO(os.read(0,os.fstat(0).st_size)).readline\n",
    "\n",
    "for _ in range(int(input())):\n",
    "    input()\n",
    "    \n",
    "    x1, y1 = map(int, input().split())\n",
    "    x2, y2 = map(int, input().split())\n",
    "    x3, y3 = map(int, input().split())\n",
    "\n",
    "    is_same1 = False\n",
    "    if x1 == x2 or x2 == x3 or x1 == x3:\n",
    "        is_same1 = True\n",
    "\n",
    "    is_same2 = False\n",
    "    if y1 == y2 or y2 == y3 or y1 == y3:\n",
    "        is_same2 = True\n",
    "\n",
    "    if is_same1 and is_same2:\n",
    "        print('NO')\n",
    "    else:\n",
    "        print('YES')"
   ]
  },
  {
   "cell_type": "markdown",
   "metadata": {},
   "source": [
    "B"
   ]
  },
  {
   "cell_type": "code",
   "execution_count": 7,
   "metadata": {},
   "outputs": [
    {
     "name": "stdout",
     "output_type": "stream",
     "text": [
      "10\n",
      "3 8 6 7 4 1 2 4 10 1\n",
      "9\n"
     ]
    }
   ],
   "source": [
    "import io, os, sys\n",
    "input = io.BytesIO(os.read(0,os.fstat(0).st_size)).readline\n",
    "\n",
    "for _ in range(int(input())):\n",
    "    n = int(input())\n",
    "    first, *li = list(map(int, input().split()))\n",
    "\n",
    "    li.sort()\n",
    "\n",
    "    for v in li:\n",
    "        diff = v - first\n",
    "        if diff >= 1:\n",
    "            to_give = diff // 2\n",
    "            if diff % 2:\n",
    "                to_give += 1\n",
    "\n",
    "            first += to_give\n",
    "\n",
    "    print(first)"
   ]
  },
  {
   "cell_type": "markdown",
   "metadata": {},
   "source": [
    "C"
   ]
  },
  {
   "cell_type": "code",
   "execution_count": null,
   "metadata": {},
   "outputs": [],
   "source": [
    "12:11 전체에서 달라야 하는데 다 같은 경우만 빼면 어떨까?\n",
    "1:17  diff 조건 범위끼리 서로 겹치는 경우는 어떻게 처리하면 좋을까?, 만약 dp로 한다면 어떻게 하나?\n",
    "1:23  same 조건 범위 안에 diff 조건 범위가 전부 들어가는게 없어야 함"
   ]
  },
  {
   "cell_type": "code",
   "execution_count": 26,
   "metadata": {},
   "outputs": [
    {
     "name": "stdout",
     "output_type": "stream",
     "text": [
      "3\n",
      "1 1 2\n",
      "1 0\n",
      "1\n",
      "2\n"
     ]
    }
   ],
   "source": [
    "import io, os, sys\n",
    "input = io.BytesIO(os.read(0,os.fstat(0).st_size)).readline\n",
    "\n",
    "mod = 998244353\n",
    "\n",
    "n = int(input())\n",
    "li = [[0] * n for _ in range(n)]\n",
    "\n",
    "to_same = []\n",
    "to_diff = []\n",
    "ip = True\n",
    "for i in range(n):\n",
    "    temp = list(map(int, input().split()))\n",
    "    if temp[0] == 2:\n",
    "        ip = False\n",
    "    \n",
    "    for j in range(i, n):\n",
    "        v = temp[j - i]\n",
    "        \n",
    "        if v == 1:\n",
    "            to_same.append([i, j])\n",
    "        else:\n",
    "            to_diff.append([i, j])\n",
    "\n",
    "result = 0\n",
    "if ip:\n",
    "    to_same.sort(key=lambda x: x[0])\n",
    "\n",
    "    stack_s = []\n",
    "    for s, e in to_same:\n",
    "        if stack_s and s <= stack_s[-1][-1]:\n",
    "            ne = max(e, stack_s[-1][-1])\n",
    "            stack_s[-1][-1] = ne\n",
    "        else:\n",
    "            stack_s.append([s, e])\n",
    "\n",
    "    colors = [-1] * n\n",
    "    cur_c = 0\n",
    "    \n",
    "    all_case_num = n\n",
    "    for s, e in stack_s:\n",
    "        for i in range(s, e + 1):\n",
    "            colors[i] = cur_c\n",
    "        cur_c += 1\n",
    "        \n",
    "        all_case_num -= e - s\n",
    "\n",
    "    to_diff.sort(key=lambda x: x[0])\n",
    "\n",
    "    stack_d = []\n",
    "    for s, e in to_diff:\n",
    "        if stack_d and s <= stack_d[-1][-1]:\n",
    "            ne = max(e, stack_d[-1][-1])\n",
    "            stack_d[-1][-1] = ne\n",
    "        else:\n",
    "            stack_d.append([s, e])\n",
    "\n",
    "    for s, e in to_diff:\n",
    "        if colors[s] == colors[e]:\n",
    "            ip = False\n",
    "            break\n",
    "        \n",
    "if not ip:\n",
    "    print(0)\n",
    "else:\n",
    "    result = pow(2, all_case_num, mod) - pow(2, len(stack_d), mod)\n",
    "    result %= mod\n",
    "    \n",
    "    print(result)"
   ]
  },
  {
   "cell_type": "code",
   "execution_count": null,
   "metadata": {},
   "outputs": [],
   "source": [
    "n = int(input())\n",
    "li = [[0] * n for _ in range(n)]\n",
    "\n",
    "to_same = []\n",
    "to_diff = []\n",
    "ip = True\n",
    "for i in range(n):\n",
    "    temp = list(map(int, input().split()))\n",
    "    if temp[0] == 2:\n",
    "        ip = False\n",
    "    \n",
    "    for j in range(i, n):\n",
    "        v = temp[j - i]\n",
    "        \n",
    "        li[i][j] = v\n",
    "        \n",
    "if not ip:\n",
    "    print(0)\n",
    "else:\n",
    "    dp = [[0] * 3 for _ in range(n)]\n",
    "\n",
    "    for term in range(1, n):\n",
    "        for start in range(n):\n",
    "            end = start + term\n",
    "            if end >= n:\n",
    "                break\n",
    "                \n",
    "            for left_end in range(start, end - 1):\n",
    "                dp[start][left_end]"
   ]
  },
  {
   "cell_type": "markdown",
   "metadata": {},
   "source": [
    "D"
   ]
  },
  {
   "cell_type": "code",
   "execution_count": 36,
   "metadata": {
    "scrolled": true
   },
   "outputs": [
    {
     "name": "stdout",
     "output_type": "stream",
     "text": [
      "1\n",
      "1\n",
      "2\n"
     ]
    }
   ],
   "source": [
    "n = int(input())\n",
    "s = input()\n",
    "\n",
    "surved = list(range(1, 2 ** n + 1))\n",
    "for i in range(n):\n",
    "    if s[i] == '1':\n",
    "        surved = surved[len(surved) // 2:]\n",
    "    else:\n",
    "        surved = [surved[i] for i in range(len(surved)) if i % 2 == 0]\n",
    "        \n",
    "surved_max = surved[0]\n",
    "\n",
    "surved = list(range(1, 2 ** n + 1))\n",
    "for i in range(n):\n",
    "    if s[i] == '0':\n",
    "        surved = surved[:len(surved) // 2]\n",
    "    else:\n",
    "        surved = [surved[i] for i in range(len(surved)) if i % 2 == 1]\n",
    "        \n",
    "surved_min = surved[0]\n",
    "\n",
    "print(*list(range(surved_min, surved_max + 1)))"
   ]
  }
 ],
 "metadata": {
  "kernelspec": {
   "display_name": "Python 3",
   "language": "python",
   "name": "python3"
  },
  "language_info": {
   "codemirror_mode": {
    "name": "ipython",
    "version": 3
   },
   "file_extension": ".py",
   "mimetype": "text/x-python",
   "name": "python",
   "nbconvert_exporter": "python",
   "pygments_lexer": "ipython3",
   "version": "3.7.4"
  }
 },
 "nbformat": 4,
 "nbformat_minor": 2
}
