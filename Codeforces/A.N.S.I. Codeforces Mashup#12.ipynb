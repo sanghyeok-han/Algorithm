{
 "cells": [
  {
   "cell_type": "markdown",
   "metadata": {},
   "source": [
    "https://codeforces.com/gym/384518"
   ]
  },
  {
   "cell_type": "markdown",
   "metadata": {},
   "source": [
    "https://codeforces.com/gym/384518/problem/A"
   ]
  },
  {
   "cell_type": "code",
   "execution_count": 20,
   "metadata": {},
   "outputs": [
    {
     "name": "stdout",
     "output_type": "stream",
     "text": [
      "12\n",
      "1 3 4 5 6 7 8 9 1 2 2 1\n",
      "4\n"
     ]
    }
   ],
   "source": [
    "from collections import defaultdict as dd\n",
    "\n",
    "def check():\n",
    "    for key in to_include:\n",
    "        if to_include[key] > temp[key]:\n",
    "            return False\n",
    "    return True\n",
    "\n",
    "n = int(input())\n",
    "li = list(map(int, input().split()))\n",
    "\n",
    "d = dd(int)\n",
    "for i in range(n):\n",
    "    d[li[i]] += 1\n",
    "    \n",
    "to_include = dd(int)\n",
    "start = 0\n",
    "for key in d:\n",
    "    if d[key] >= 2:\n",
    "        to_include[key] = d[key] - 1\n",
    "        start += to_include[key]\n",
    "        \n",
    "if start == 0:\n",
    "    print(0)\n",
    "else:\n",
    "    r = -1\n",
    "    for rc in range(start, n):\n",
    "        temp = dd(int)\n",
    "        for i in range(rc):\n",
    "            temp[li[i]] += 1\n",
    "            \n",
    "        if check():\n",
    "            r = rc\n",
    "            break\n",
    "        for cur_end in range(rc, n):\n",
    "            temp[li[cur_end - rc]] -= 1\n",
    "            temp[li[cur_end]] += 1\n",
    "            \n",
    "            if check():\n",
    "                r = rc\n",
    "                break\n",
    "                \n",
    "        if r != -1:\n",
    "            break\n",
    "            \n",
    "    print(r)"
   ]
  },
  {
   "cell_type": "code",
   "execution_count": null,
   "metadata": {},
   "outputs": [],
   "source": [
    "1 3 4 5 6 7 8 9 1 2 2 1"
   ]
  },
  {
   "cell_type": "markdown",
   "metadata": {},
   "source": [
    "https://codeforces.com/gym/384518/problem/B"
   ]
  },
  {
   "cell_type": "code",
   "execution_count": null,
   "metadata": {},
   "outputs": [],
   "source": [
    "100\n",
    "\n",
    "123456789\n",
    "987654321"
   ]
  },
  {
   "cell_type": "code",
   "execution_count": null,
   "metadata": {},
   "outputs": [],
   "source": [
    "2001\n",
    "\n",
    "   9\n",
    "   2\n",
    "\n",
    "  101"
   ]
  },
  {
   "cell_type": "code",
   "execution_count": null,
   "metadata": {},
   "outputs": [],
   "source": [
    "0\n",
    "못넘김 넘김\n",
    "0      1~9\n",
    "0      9~1\n",
    "1개    9개\n",
    "\n",
    "1\n",
    "01     2~9\n",
    "10     9~2\n",
    "2개    8개\n",
    "\n",
    "2\n",
    "012    3~9\n",
    "210    9~3\n",
    "3개    7개\n",
    "\n",
    "9\n",
    "0123456789\n",
    "9876543210\n",
    "10개       0개"
   ]
  },
  {
   "cell_type": "code",
   "execution_count": 51,
   "metadata": {},
   "outputs": [
    {
     "name": "stdout",
     "output_type": "stream",
     "text": [
      "2\n",
      "100\n",
      "9\n",
      "12\n",
      "4\n"
     ]
    }
   ],
   "source": [
    "import sys\n",
    "input = lambda: sys.stdin.readline().rstrip()\n",
    "\n",
    "def recur(li, i, count):\n",
    "    global temp\n",
    "    \n",
    "    if i == -1:\n",
    "        temp += count\n",
    "        return\n",
    "    \n",
    "    ncount = count * (li[i] + 1)\n",
    "    recur(li.copy(), i - 1, ncount)\n",
    "    \n",
    "    nli = li.copy()\n",
    "    ncount = count * (10 - (li[i] + 1))\n",
    "    \n",
    "    j = i - 1\n",
    "    ip = True\n",
    "    while True:\n",
    "        if j < 0:\n",
    "            ip = False\n",
    "            break\n",
    "        if 1 <= nli[j]:\n",
    "            nli[j] -= 1\n",
    "            break\n",
    "        nli[j] = 9\n",
    "        j -= 1\n",
    "        \n",
    "    if ip:\n",
    "        recur(nli, i - 1, ncount)\n",
    "\n",
    "for _ in range(int(input())):\n",
    "    li = list(map(int, input()))\n",
    "    \n",
    "    a = []\n",
    "    b = []\n",
    "    for i in range(len(li)):\n",
    "        if i % 2 == 0:\n",
    "            a.append(li[i])\n",
    "        else:\n",
    "            b.append(li[i])\n",
    "\n",
    "    temp = 0\n",
    "    if a:\n",
    "        recur(a, len(a) - 1, 1)\n",
    "    cur = max(temp, 1)\n",
    "\n",
    "    temp = 0\n",
    "    if b:\n",
    "        recur(b, len(b) - 1, 1)\n",
    "    cur *= max(temp, 1)\n",
    "    cur -= 2\n",
    "\n",
    "    print(cur)"
   ]
  },
  {
   "cell_type": "code",
   "execution_count": null,
   "metadata": {},
   "outputs": [],
   "source": [
    "2, 2, 2, 2\n",
    "2, 2, 2, 1\n",
    "\n",
    "1, 0, 0, 2\n",
    "0, 9, 9, 2"
   ]
  },
  {
   "cell_type": "code",
   "execution_count": 47,
   "metadata": {},
   "outputs": [],
   "source": [
    "def recur(li, i, count):\n",
    "    global temp\n",
    "    \n",
    "    print(li, i, count)\n",
    "    \n",
    "    if i == -1:\n",
    "        temp += count\n",
    "        return\n",
    "    \n",
    "    ncount = count * (li[i] + 1)\n",
    "    recur(li.copy(), i - 1, ncount)\n",
    "    \n",
    "    nli = li.copy()\n",
    "    ncount = count * (10 - (li[i] + 1))\n",
    "    \n",
    "    j = i - 1\n",
    "    ip = True\n",
    "    while True:\n",
    "        if j < 0:\n",
    "            ip = False\n",
    "            break\n",
    "        if 1 <= nli[j]:\n",
    "            nli[j] -= 1\n",
    "            break\n",
    "        nli[j] = 9\n",
    "        j -= 1\n",
    "        \n",
    "    if ip:\n",
    "        recur(nli, i - 1, ncount)"
   ]
  },
  {
   "cell_type": "code",
   "execution_count": 48,
   "metadata": {},
   "outputs": [
    {
     "name": "stdout",
     "output_type": "stream",
     "text": [
      "[1, 0] 1 1\n",
      "[1, 0] 0 1\n",
      "[1, 0] -1 2\n",
      "[0, 0] 0 9\n",
      "[0, 0] -1 9\n"
     ]
    },
    {
     "data": {
      "text/plain": [
       "11"
      ]
     },
     "execution_count": 48,
     "metadata": {},
     "output_type": "execute_result"
    }
   ],
   "source": [
    "temp = 0\n",
    "recur([1, 0], 1, 1)\n",
    "temp"
   ]
  },
  {
   "cell_type": "markdown",
   "metadata": {},
   "source": [
    "https://codeforces.com/gym/384518/problem/C"
   ]
  },
  {
   "cell_type": "code",
   "execution_count": 29,
   "metadata": {},
   "outputs": [
    {
     "name": "stdout",
     "output_type": "stream",
     "text": [
      "4 -1\n",
      "-2 1 -2 3\n",
      "3\n"
     ]
    }
   ],
   "source": [
    "# https://github.com/tatyam-prime/SortedSet/blob/main/SortedMultiset.py\n",
    "import math\n",
    "from bisect import bisect_left, bisect_right, insort\n",
    "from typing import Generic, Iterable, Iterator, TypeVar, Union, List\n",
    "T = TypeVar('T')\n",
    "\n",
    "class SortedMultiset(Generic[T]):\n",
    "    BUCKET_RATIO = 50\n",
    "    REBUILD_RATIO = 170\n",
    "\n",
    "    def _build(self, a=None) -> None:\n",
    "        \"Evenly divide `a` into buckets.\"\n",
    "        if a is None: a = list(self)\n",
    "        size = self.size = len(a)\n",
    "        bucket_size = int(math.ceil(math.sqrt(size / self.BUCKET_RATIO)))\n",
    "        self.a = [a[size * i // bucket_size : size * (i + 1) // bucket_size] for i in range(bucket_size)]\n",
    "    \n",
    "    def __init__(self, a: Iterable[T] = []) -> None:\n",
    "        \"Make a new SortedMultiset from iterable. / O(N) if sorted / O(N log N)\"\n",
    "        a = list(a)\n",
    "        if not all(a[i] <= a[i + 1] for i in range(len(a) - 1)):\n",
    "            a = sorted(a)\n",
    "        self._build(a)\n",
    "\n",
    "    def __iter__(self) -> Iterator[T]:\n",
    "        for i in self.a:\n",
    "            for j in i: yield j\n",
    "\n",
    "    def __reversed__(self) -> Iterator[T]:\n",
    "        for i in reversed(self.a):\n",
    "            for j in reversed(i): yield j\n",
    "    \n",
    "    def __len__(self) -> int:\n",
    "        return self.size\n",
    "    \n",
    "    def __repr__(self) -> str:\n",
    "        return \"SortedMultiset\" + str(self.a)\n",
    "    \n",
    "    def __str__(self) -> str:\n",
    "        s = str(list(self))\n",
    "        return \"{\" + s[1 : len(s) - 1] + \"}\"\n",
    "\n",
    "    def _find_bucket(self, x: T) -> List[T]:\n",
    "        \"Find the bucket which should contain x. self must not be empty.\"\n",
    "        for a in self.a:\n",
    "            if x <= a[-1]: return a\n",
    "        return a\n",
    "\n",
    "    def __contains__(self, x: T) -> bool:\n",
    "        if self.size == 0: return False\n",
    "        a = self._find_bucket(x)\n",
    "        i = bisect_left(a, x)\n",
    "        return i != len(a) and a[i] == x\n",
    "\n",
    "    def count(self, x: T) -> int:\n",
    "        \"Count the number of x.\"\n",
    "        return self.index_right(x) - self.index(x)\n",
    "\n",
    "    def add(self, x: T) -> None:\n",
    "        \"Add an element. / O(√N)\"\n",
    "        if self.size == 0:\n",
    "            self.a = [[x]]\n",
    "            self.size = 1\n",
    "            return\n",
    "        a = self._find_bucket(x)\n",
    "        insort(a, x)\n",
    "        self.size += 1\n",
    "        if len(a) > len(self.a) * self.REBUILD_RATIO:\n",
    "            self._build()\n",
    "\n",
    "    def discard(self, x: T) -> bool:\n",
    "        \"Remove an element and return True if removed. / O(√N)\"\n",
    "        if self.size == 0: return False\n",
    "        a = self._find_bucket(x)\n",
    "        i = bisect_left(a, x)\n",
    "        if i == len(a) or a[i] != x: return False\n",
    "        a.pop(i)\n",
    "        self.size -= 1\n",
    "        if len(a) == 0: self._build()\n",
    "        return True\n",
    "\n",
    "    def lt(self, x: T) -> Union[T, None]:\n",
    "        \"Find the largest element < x, or None if it doesn't exist.\"\n",
    "        for a in reversed(self.a):\n",
    "            if a[0] < x:\n",
    "                return a[bisect_left(a, x) - 1]\n",
    "\n",
    "    def le(self, x: T) -> Union[T, None]:\n",
    "        \"Find the largest element <= x, or None if it doesn't exist.\"\n",
    "        for a in reversed(self.a):\n",
    "            if a[0] <= x:\n",
    "                return a[bisect_right(a, x) - 1]\n",
    "\n",
    "    def gt(self, x: T) -> Union[T, None]:\n",
    "        \"Find the smallest element > x, or None if it doesn't exist.\"\n",
    "        for a in self.a:\n",
    "            if a[-1] > x:\n",
    "                return a[bisect_right(a, x)]\n",
    "\n",
    "    def ge(self, x: T) -> Union[T, None]:\n",
    "        \"Find the smallest element >= x, or None if it doesn't exist.\"\n",
    "        for a in self.a:\n",
    "            if a[-1] >= x:\n",
    "                return a[bisect_left(a, x)]\n",
    "    \n",
    "    def __getitem__(self, x: int) -> T:\n",
    "        \"Return the x-th element, or IndexError if it doesn't exist.\"\n",
    "        if x < 0: x += self.size\n",
    "        if x < 0: raise IndexError\n",
    "        for a in self.a:\n",
    "            if x < len(a): return a[x]\n",
    "            x -= len(a)\n",
    "        raise IndexError\n",
    "\n",
    "    def index(self, x: T) -> int:\n",
    "        \"Count the number of elements < x.\"\n",
    "        ans = 0\n",
    "        for a in self.a:\n",
    "            if a[-1] >= x:\n",
    "                return ans + bisect_left(a, x)\n",
    "            ans += len(a)\n",
    "        return ans\n",
    "\n",
    "    def index_right(self, x: T) -> int:\n",
    "        \"Count the number of elements <= x.\"\n",
    "        ans = 0\n",
    "        for a in self.a:\n",
    "            if a[-1] > x:\n",
    "                return ans + bisect_right(a, x)\n",
    "            ans += len(a)\n",
    "        return ans\n",
    "\n",
    "n, t = map(int, input().split())\n",
    "li = list(map(int, input().split()))\n",
    "\n",
    "sli = [0]\n",
    "cumul = 0\n",
    "for i in range(n):\n",
    "    cumul += li[i]\n",
    "    sli.append(cumul)\n",
    "    \n",
    "ms = SortedMultiset()\n",
    "ms.add(0)\n",
    "total = 0\n",
    "for i in range(1, n + 1):\n",
    "    c = i - ms.index(sli[i] - t + 0.1)\n",
    "    total += c\n",
    "    ms.add(sli[i])\n",
    "    \n",
    "print(total)"
   ]
  },
  {
   "cell_type": "markdown",
   "metadata": {},
   "source": [
    "https://codeforces.com/gym/384518/problem/D"
   ]
  },
  {
   "cell_type": "code",
   "execution_count": 38,
   "metadata": {},
   "outputs": [
    {
     "name": "stdout",
     "output_type": "stream",
     "text": [
      "8\n",
      "1 8 2 7 3 6 4 5\n",
      "16\n"
     ]
    }
   ],
   "source": [
    "n = int(input())\n",
    "a = list(map(int, input().split()))\n",
    "\n",
    "min_total = float('inf')\n",
    "for i in range(n):\n",
    "    total = 0\n",
    "    cur = 0\n",
    "    for j in range(i - 1, -1, -1):\n",
    "        c = cur // a[j] + 1\n",
    "        total += c\n",
    "        cur = a[j] * c\n",
    "        \n",
    "    cur = 0\n",
    "    for j in range(i + 1, n):\n",
    "        c = cur // a[j] + 1\n",
    "        total += c\n",
    "        cur = a[j] * c\n",
    "        \n",
    "    min_total = min(min_total, total)\n",
    "    \n",
    "print(min_total)"
   ]
  },
  {
   "cell_type": "code",
   "execution_count": null,
   "metadata": {},
   "outputs": [],
   "source": [
    "8"
   ]
  },
  {
   "cell_type": "code",
   "execution_count": null,
   "metadata": {},
   "outputs": [],
   "source": [
    "5로 최소 10 초과?"
   ]
  },
  {
   "cell_type": "code",
   "execution_count": 31,
   "metadata": {},
   "outputs": [
    {
     "data": {
      "text/plain": [
       "2"
      ]
     },
     "execution_count": 31,
     "metadata": {},
     "output_type": "execute_result"
    }
   ],
   "source": [
    "10 // 5"
   ]
  },
  {
   "cell_type": "code",
   "execution_count": null,
   "metadata": {},
   "outputs": [],
   "source": [
    "5로 최소 9 초과?"
   ]
  },
  {
   "cell_type": "code",
   "execution_count": 32,
   "metadata": {},
   "outputs": [
    {
     "data": {
      "text/plain": [
       "1"
      ]
     },
     "execution_count": 32,
     "metadata": {},
     "output_type": "execute_result"
    }
   ],
   "source": [
    "9 // 5"
   ]
  },
  {
   "cell_type": "markdown",
   "metadata": {},
   "source": [
    "https://codeforces.com/gym/384518/problem/E"
   ]
  },
  {
   "cell_type": "code",
   "execution_count": 9,
   "metadata": {},
   "outputs": [
    {
     "name": "stdout",
     "output_type": "stream",
     "text": [
      "5 4\n",
      "2 4 8 2 4\n",
      "3\n"
     ]
    }
   ],
   "source": [
    "import sys\n",
    "input = lambda: sys.stdin.readline().rstrip()\n",
    "\n",
    "cri = 2 * int(1e9)\n",
    "\n",
    "values = []\n",
    "cur = 1\n",
    "d = dict()\n",
    "seq = 0\n",
    "while True:\n",
    "    values.append(cur)\n",
    "    d[cur] = seq\n",
    "    seq += 1\n",
    "    cur *= 2\n",
    "    if cur > cri:\n",
    "        break\n",
    "\n",
    "lv = len(values)\n",
    "\n",
    "n, q = map(int, input().split())\n",
    "li = list(map(int, input().split()))\n",
    "ct = [0] * lv\n",
    "for v in li:\n",
    "    ct[d[v]] += 1\n",
    "    \n",
    "for _ in range(q):\n",
    "    b = int(input())\n",
    "    \n",
    "    total = 0\n",
    "    for i in range(lv -1, -1, -1):\n",
    "        t1 = b // values[i]\n",
    "        t2 = ct[i]\n",
    "\n",
    "        c = min(t1, t2)\n",
    "        total += c\n",
    "        b -= values[i] * c\n",
    "\n",
    "    if b != 0:\n",
    "        print(-1)\n",
    "    else:\n",
    "        print(total)"
   ]
  },
  {
   "cell_type": "markdown",
   "metadata": {},
   "source": [
    "https://codeforces.com/gym/384518/problem/G"
   ]
  },
  {
   "cell_type": "code",
   "execution_count": null,
   "metadata": {},
   "outputs": [],
   "source": [
    "import sys\n",
    "input = lambda: sys.stdin.readline().rstrip()\n",
    "\n",
    "for _ in range(int(input())):\n",
    "    n, m = map(int, input().split())\n",
    "    li = [list(map(int, input().split())) for _ in range(n)]\n",
    "    sli = [sorted(v) for v in li]\n",
    "\n",
    "    s = -1\n",
    "    e = -1\n",
    "    ip = True\n",
    "    for i in range(n):\n",
    "        for j in range(m):\n",
    "            if sli[i][j] != li[i][j]:\n",
    "                if s == -1:\n",
    "                    s = j\n",
    "                elif e == -1:\n",
    "                    e = j\n",
    "                else:\n",
    "                    ip = False\n",
    "                    break\n",
    "        if s != -1:\n",
    "            break\n",
    "\n",
    "    if ip:\n",
    "        if s == -1:\n",
    "            print(1, 1)\n",
    "        else:\n",
    "            for i in range(n):\n",
    "                li[i][s], li[i][e] = li[i][e], li[i][s]\n",
    "                if li[i] != sli[i]:\n",
    "                    ip = False\n",
    "                    break\n",
    "\n",
    "            if ip:\n",
    "                print(s + 1, e + 1)\n",
    "            else:\n",
    "                print(-1)\n",
    "    else:\n",
    "        print(-1)"
   ]
  },
  {
   "cell_type": "markdown",
   "metadata": {},
   "source": [
    "https://codeforces.com/gym/384518/problem/F"
   ]
  },
  {
   "cell_type": "code",
   "execution_count": 48,
   "metadata": {},
   "outputs": [
    {
     "name": "stdout",
     "output_type": "stream",
     "text": [
      "1\n",
      "1\n",
      "1\n"
     ]
    }
   ],
   "source": [
    "from collections import defaultdict as dd\n",
    "\n",
    "n = int(input())\n",
    "li = list(map(int, input().split()))\n",
    "\n",
    "sli = [0] * (n + 1)\n",
    "cumul = 0\n",
    "for i in range(n):\n",
    "    cumul += li[i]\n",
    "    sli[i + 1] = cumul\n",
    "    \n",
    "d = dd(lambda: -1)\n",
    "d[0] = 0\n",
    "total = 0\n",
    "cur_max = -1\n",
    "for e in range(1, n + 1):\n",
    "    Se = sli[e]\n",
    "    cur_max = max(cur_max, d[Se])\n",
    "    total += e - cur_max - 1\n",
    "    d[Se] = e\n",
    "    \n",
    "print(total)"
   ]
  }
 ],
 "metadata": {
  "kernelspec": {
   "display_name": "Python 3",
   "language": "python",
   "name": "python3"
  },
  "language_info": {
   "codemirror_mode": {
    "name": "ipython",
    "version": 3
   },
   "file_extension": ".py",
   "mimetype": "text/x-python",
   "name": "python",
   "nbconvert_exporter": "python",
   "pygments_lexer": "ipython3",
   "version": "3.7.4"
  }
 },
 "nbformat": 4,
 "nbformat_minor": 2
}
