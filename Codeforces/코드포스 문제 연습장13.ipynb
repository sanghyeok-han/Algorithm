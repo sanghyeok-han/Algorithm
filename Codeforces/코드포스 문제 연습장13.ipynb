{
 "cells": [
  {
   "cell_type": "markdown",
   "metadata": {},
   "source": [
    "https://codeforces.com/problemset/problem/1520/F1"
   ]
  },
  {
   "cell_type": "markdown",
   "metadata": {},
   "source": [
    "5.53 6.07 -1"
   ]
  },
  {
   "cell_type": "code",
   "execution_count": null,
   "metadata": {},
   "outputs": [],
   "source": [
    "import sys\n",
    "input = lambda: sys.stdin.readline().rstrip()\n",
    "\n",
    "n, t = map(int, input().split())\n",
    "k = int(input())\n",
    "\n",
    "start = 0\n",
    "end = n - 1\n",
    "result = -1\n",
    "while start <= end:\n",
    "    mid = (start + end) // 2\n",
    "    \n",
    "    print('?', 1, mid + 1)\n",
    "    sys.stdout.flush()\n",
    "    \n",
    "    value = int(input())\n",
    "    \n",
    "    c1 = value\n",
    "    c0 = mid + 1 - c1\n",
    "    \n",
    "    if c0 < k:\n",
    "        start = mid + 1\n",
    "    else:\n",
    "        result = mid\n",
    "        end = mid - 1\n",
    "        \n",
    "result += 1\n",
    "print('!', result)\n",
    "sys.stdout.flush()"
   ]
  },
  {
   "cell_type": "markdown",
   "metadata": {},
   "source": [
    "https://codeforces.com/problemset/problem/1519/D"
   ]
  },
  {
   "cell_type": "markdown",
   "metadata": {},
   "source": [
    "6.11 풀이"
   ]
  },
  {
   "cell_type": "code",
   "execution_count": null,
   "metadata": {},
   "outputs": [],
   "source": [
    "n = int(input())\n",
    "a = list(map(int, input().split()))\n",
    "b = list(map(int, input().split()))"
   ]
  },
  {
   "cell_type": "code",
   "execution_count": 21,
   "metadata": {},
   "outputs": [
    {
     "name": "stdout",
     "output_type": "stream",
     "text": [
      "1073\n"
     ]
    }
   ],
   "source": [
    "sv = 0\n",
    "for i in range(len(a)):\n",
    "    sv += a[i] * b[i]\n",
    "    \n",
    "print(sv)"
   ]
  },
  {
   "cell_type": "code",
   "execution_count": 25,
   "metadata": {},
   "outputs": [
    {
     "name": "stdout",
     "output_type": "stream",
     "text": [
      "6\n",
      "1 8 7 6 3 6\n",
      "5 9 6 8 8 6\n",
      "235\n"
     ]
    }
   ],
   "source": [
    "n = int(input())\n",
    "a = list(map(int, input().split()))\n",
    "b = list(map(int, input().split()))\n",
    "\n",
    "total = 0\n",
    "muls = [0] * n\n",
    "for i in range(n):\n",
    "    total += a[i] * b[i]\n",
    "    muls[i] = a[i] * b[i]\n",
    "    \n",
    "max_r = total\n",
    "for l in range(n):\n",
    "    r = l\n",
    "    ntotal = total\n",
    "    \n",
    "    while True:\n",
    "        r += 1\n",
    "        l -= 1\n",
    "        \n",
    "        if l < 0 or r == n:\n",
    "            break\n",
    "        \n",
    "        ori = muls[l] + muls[r]\n",
    "        new = a[r] * b[l] + a[l] * b[r]\n",
    "    \n",
    "        delta = new - ori\n",
    "        ntotal += delta\n",
    "        \n",
    "        max_r = max(max_r, ntotal)\n",
    "        \n",
    "for l in range(n - 1):\n",
    "    r = l + 1  \n",
    "    ntotal = total\n",
    "    \n",
    "    while True:\n",
    "        if l < 0 or r == n:\n",
    "            break\n",
    "        \n",
    "        ori = muls[l] + muls[r]\n",
    "        new = a[r] * b[l] + a[l] * b[r]\n",
    "    \n",
    "        delta = new - ori\n",
    "        ntotal += delta\n",
    "        \n",
    "        max_r = max(max_r, ntotal)\n",
    "        \n",
    "        r += 1\n",
    "        l -= 1\n",
    "        \n",
    "print(max_r)"
   ]
  },
  {
   "cell_type": "markdown",
   "metadata": {},
   "source": [
    "https://codeforces.com/problemset/problem/1514/C C. Product 1 Modulo N"
   ]
  },
  {
   "cell_type": "code",
   "execution_count": null,
   "metadata": {},
   "outputs": [],
   "source": [
    "1은 언제나 포함 가능함"
   ]
  },
  {
   "cell_type": "code",
   "execution_count": 28,
   "metadata": {},
   "outputs": [
    {
     "data": {
      "text/plain": [
       "1"
      ]
     },
     "execution_count": 28,
     "metadata": {},
     "output_type": "execute_result"
    }
   ],
   "source": [
    "n = 5\n",
    "li = [1, 2, 3, 4]\n",
    "\n",
    "1 * 2 * 3 % 5"
   ]
  },
  {
   "cell_type": "code",
   "execution_count": 33,
   "metadata": {},
   "outputs": [
    {
     "data": {
      "text/plain": [
       "3"
      ]
     },
     "execution_count": 33,
     "metadata": {},
     "output_type": "execute_result"
    }
   ],
   "source": [
    "1,2,3,4,5,6,7\n",
    "\n",
    "1*3*5*7 % 8"
   ]
  },
  {
   "cell_type": "code",
   "execution_count": 70,
   "metadata": {},
   "outputs": [
    {
     "data": {
      "text/plain": [
       "0"
      ]
     },
     "execution_count": 70,
     "metadata": {},
     "output_type": "execute_result"
    }
   ],
   "source": [
    "75 % 15"
   ]
  },
  {
   "cell_type": "code",
   "execution_count": null,
   "metadata": {},
   "outputs": [],
   "source": [
    "a*b*c % n == 1\n",
    "\n",
    "a*b*c - 1 % n == 0\n",
    "\n",
    "a*b*c는 n의 배수 + 1"
   ]
  },
  {
   "cell_type": "code",
   "execution_count": 75,
   "metadata": {},
   "outputs": [
    {
     "data": {
      "text/plain": [
       "40320"
      ]
     },
     "execution_count": 75,
     "metadata": {},
     "output_type": "execute_result"
    }
   ],
   "source": [
    "n = 8\n",
    "\n",
    "8*7*6*5*4*3*2*1"
   ]
  },
  {
   "cell_type": "code",
   "execution_count": 81,
   "metadata": {},
   "outputs": [
    {
     "data": {
      "text/plain": [
       "4"
      ]
     },
     "execution_count": 81,
     "metadata": {},
     "output_type": "execute_result"
    }
   ],
   "source": [
    "2 * 3 * 5 * 6 * 7 % 8"
   ]
  },
  {
   "cell_type": "code",
   "execution_count": 98,
   "metadata": {},
   "outputs": [
    {
     "data": {
      "text/plain": [
       "1"
      ]
     },
     "execution_count": 98,
     "metadata": {},
     "output_type": "execute_result"
    }
   ],
   "source": [
    "1*3*5*7 % 8"
   ]
  },
  {
   "cell_type": "code",
   "execution_count": 100,
   "metadata": {},
   "outputs": [
    {
     "data": {
      "text/plain": [
       "(105, 8)"
      ]
     },
     "execution_count": 100,
     "metadata": {},
     "output_type": "execute_result"
    }
   ],
   "source": [
    "1*3*5*7, 8"
   ]
  },
  {
   "cell_type": "code",
   "execution_count": 133,
   "metadata": {},
   "outputs": [
    {
     "data": {
      "text/plain": [
       "1"
      ]
     },
     "execution_count": 133,
     "metadata": {},
     "output_type": "execute_result"
    }
   ],
   "source": [
    "from math import gcd\n",
    "\n",
    "gcd(9 * 6 - 1, 9)"
   ]
  },
  {
   "cell_type": "code",
   "execution_count": 155,
   "metadata": {},
   "outputs": [
    {
     "name": "stdout",
     "output_type": "stream",
     "text": [
      "22\n",
      "21\n"
     ]
    }
   ],
   "source": [
    "from math import gcd\n",
    "\n",
    "n = int(input())\n",
    "\n",
    "cands = []\n",
    "for i in range(1, n):\n",
    "    if gcd(i, n) == 1:\n",
    "        cands.append(i)\n",
    "    \n",
    "mulv = 1\n",
    "for v in cands:\n",
    "    mulv *= v\n",
    "    mulv %= n\n",
    "    \n",
    "if mulv != 1:\n",
    "    cands.remove(mulv)\n",
    "\n",
    "print(len(cands))\n",
    "print(*cands)"
   ]
  },
  {
   "cell_type": "markdown",
   "metadata": {},
   "source": [
    "https://codeforces.com/contest/1750/problem/A A. Indirect Sort"
   ]
  },
  {
   "cell_type": "code",
   "execution_count": null,
   "metadata": {},
   "outputs": [],
   "source": [
    "import sys\n",
    "input = lambda: sys.stdin.readline().rstrip()\n",
    "\n",
    "for _ in range(int(input())):\n",
    "    n = int(input())\n",
    "    li = list(map(int, input().split()))\n",
    "\n",
    "    if li[0] == 1:\n",
    "        print('Yes')\n",
    "    else:\n",
    "        print('No')"
   ]
  },
  {
   "cell_type": "markdown",
   "metadata": {},
   "source": [
    "https://codeforces.com/contest/1750/problem/B B. Maximum Substring"
   ]
  },
  {
   "cell_type": "code",
   "execution_count": 6,
   "metadata": {},
   "outputs": [
    {
     "name": "stdout",
     "output_type": "stream",
     "text": [
      "1\n",
      "0\n",
      "1\n"
     ]
    }
   ],
   "source": [
    "import sys\n",
    "input = lambda: sys.stdin.readline().rstrip()\n",
    "\n",
    "for _ in range(int(input())):\n",
    "    n = int(input())\n",
    "    li = list(map(int, input()))\n",
    "\n",
    "    cont0 = 0\n",
    "    cont1 = 0\n",
    "    max_cont0 = 0\n",
    "    max_cont1 = 1\n",
    "    c0 = 0\n",
    "    c1 = 0\n",
    "    for v in li:\n",
    "        if v == 0:\n",
    "            c0 += 1\n",
    "            cont1 = 0\n",
    "            cont0 += 1\n",
    "            max_cont0 = max(max_cont0, cont0)\n",
    "        else:\n",
    "            c1 += 1\n",
    "            cont0 = 0\n",
    "            cont1 += 1\n",
    "            max_cont1 = max(max_cont1, cont1)\n",
    "\n",
    "    r1 = c0 * c1\n",
    "    r2 = max_cont0 ** 2\n",
    "    r3 = max_cont1 ** 2\n",
    "\n",
    "    print(max(r1, r2, r3))"
   ]
  },
  {
   "cell_type": "markdown",
   "metadata": {},
   "source": [
    "https://codeforces.com/contest/1750/problem/C C. Complementary XOR"
   ]
  },
  {
   "cell_type": "code",
   "execution_count": null,
   "metadata": {},
   "outputs": [],
   "source": [
    "111\n",
    "111\n",
    "\n",
    "011\n",
    "100\n",
    "\n",
    "000\n",
    "000\n",
    "\n",
    "010\n",
    "101\n",
    "\n",
    "101\n",
    "101\n",
    "\n",
    "001\n",
    "110\n",
    "\n",
    "000\n",
    "000"
   ]
  },
  {
   "cell_type": "code",
   "execution_count": null,
   "metadata": {},
   "outputs": [],
   "source": [
    "11111\n",
    "01110\n",
    "\n",
    "11110\n",
    "10000\n",
    "\n",
    "10001\n",
    "00000\n",
    "\n"
   ]
  },
  {
   "cell_type": "code",
   "execution_count": null,
   "metadata": {},
   "outputs": [],
   "source": [
    "11111\n",
    "11111\n",
    "\n",
    "11001 a에는 a 적용 구간 적용, 전체를 뒤집는건 자유\n",
    "00110 b에는 a의 적용 구간 적용하고 전체를 뒤집은게 됨"
   ]
  },
  {
   "cell_type": "code",
   "execution_count": null,
   "metadata": {},
   "outputs": [],
   "source": [
    "010     000 \n",
    "101  111 -> 000"
   ]
  },
  {
   "cell_type": "code",
   "execution_count": null,
   "metadata": {},
   "outputs": [],
   "source": [
    "10         00    11\n",
    "10   00 -> 11    11"
   ]
  },
  {
   "cell_type": "code",
   "execution_count": null,
   "metadata": {},
   "outputs": [],
   "source": [
    "01     00\n",
    "10     11 -> 00"
   ]
  },
  {
   "cell_type": "code",
   "execution_count": null,
   "metadata": {},
   "outputs": [],
   "source": [
    "11000\n",
    "11000\n",
    "\n",
    "11000\n",
    "00111"
   ]
  },
  {
   "cell_type": "code",
   "execution_count": null,
   "metadata": {},
   "outputs": [],
   "source": [
    "10101\n",
    "01010\n",
    "\n",
    "00101\n",
    "11010 -> 00101"
   ]
  },
  {
   "cell_type": "code",
   "execution_count": 23,
   "metadata": {},
   "outputs": [
    {
     "name": "stdout",
     "output_type": "stream",
     "text": [
      "1\n",
      "3\n",
      "111\n",
      "111\n",
      "YES\n",
      "6\n",
      "1 1\n",
      "2 2\n",
      "3 3\n",
      "1 3\n",
      "1 1\n",
      "2 3\n"
     ]
    }
   ],
   "source": [
    "import sys\n",
    "# input = lambda: sys.stdin.readline().rstrip()\n",
    "\n",
    "for _ in range(int(input())):\n",
    "    n = int(input())\n",
    "    a = list(map(int, input()))\n",
    "    b = list(map(int, input()))\n",
    "    nb = [v ^ 1 for v in b]\n",
    "    b0 = b[0]\n",
    "    \n",
    "    if a != b and a != nb:\n",
    "        print('NO')\n",
    "    else:\n",
    "        print('YES')\n",
    "\n",
    "        result = []\n",
    "        for i in range(n):\n",
    "            if a[i] == 1:\n",
    "                result.append((i + 1, i + 1))\n",
    "                \n",
    "                if i != 0:\n",
    "                    b0 ^= 1\n",
    "            \n",
    "        if b0 == 1:\n",
    "            result.append((1, n))\n",
    "            result.append((1, 1))\n",
    "            result.append((2, n))\n",
    "\n",
    "        print(len(result))\n",
    "        for v in result:\n",
    "            print(*v)"
   ]
  },
  {
   "cell_type": "markdown",
   "metadata": {},
   "source": [
    "https://codeforces.com/contest/1750/problem/D D. Count GCD"
   ]
  },
  {
   "cell_type": "code",
   "execution_count": 34,
   "metadata": {},
   "outputs": [
    {
     "name": "stdout",
     "output_type": "stream",
     "text": [
      "2 1000000000\n",
      "1000000000 2\n",
      "499999999\n"
     ]
    }
   ],
   "source": [
    "# X\n",
    "mod_r = 998244353\n",
    "\n",
    "n, m = map(int, input().split())\n",
    "li = list(map(int, input().split()))\n",
    "\n",
    "ip = True\n",
    "for i in range(n - 1):\n",
    "    if li[i] % li[i + 1] != 0:\n",
    "        ip = False\n",
    "        break\n",
    "        \n",
    "if not ip:\n",
    "    print(0)\n",
    "else:\n",
    "    fv = li[0]\n",
    "    result = 1\n",
    "    for i in range(1, n):\n",
    "        v = li[i]\n",
    "        \n",
    "        if fv == v:\n",
    "            result *= m // v\n",
    "            result %= mod_r\n",
    "        else:\n",
    "            c1 = m // v\n",
    "            c2 = m // fv\n",
    "\n",
    "            result *= (c1 - c2)\n",
    "            result %= mod_r\n",
    "        \n",
    "        fv = v\n",
    "        \n",
    "    print(result)"
   ]
  },
  {
   "cell_type": "code",
   "execution_count": 54,
   "metadata": {},
   "outputs": [
    {
     "data": {
      "text/plain": [
       "31622.776601683792"
      ]
     },
     "execution_count": 54,
     "metadata": {},
     "output_type": "execute_result"
    }
   ],
   "source": [
    "1e9 ** 0.5"
   ]
  },
  {
   "cell_type": "code",
   "execution_count": 103,
   "metadata": {},
   "outputs": [
    {
     "name": "stdout",
     "output_type": "stream",
     "text": [
      "4 1000000000\n",
      "60 30 1 1\n",
      "943340565\n"
     ]
    }
   ],
   "source": [
    "from itertools import combinations as comb\n",
    "from math import gcd\n",
    "\n",
    "lcm = lambda a, b: a * b // gcd(a, b)\n",
    "\n",
    "mod_r = 998244353\n",
    "\n",
    "def get_cs(num):\n",
    "    cs = {}\n",
    "    cri = int(num ** 0.5) + 1 \n",
    "    for mod in primes:\n",
    "        if mod > cri:\n",
    "            break\n",
    "\n",
    "        c = 0\n",
    "        while num % mod == 0:\n",
    "            num //= mod\n",
    "            c += 1\n",
    "            \n",
    "        if c >= 1:\n",
    "            cs[mod] = c\n",
    "\n",
    "    if num != 1:\n",
    "        cs[num] = 1\n",
    "    \n",
    "    return cs\n",
    "\n",
    "max_num = 32000\n",
    "ip = [True] * (max_num + 1)\n",
    "ip[0] = ip[1] = False\n",
    "for mod1 in range(2, int((max_num + 1) ** 0.5) + 1):\n",
    "    if ip[mod1]:\n",
    "        for v in range(mod1 * mod1, max_num + 1, mod1):\n",
    "            ip[v] = False\n",
    "            \n",
    "primes = [i for i, v in enumerate(ip) if v]\n",
    "\n",
    "n, m = map(int, input().split())\n",
    "li = list(map(int, input().split()))\n",
    "\n",
    "ip = True\n",
    "for i in range(n - 1):\n",
    "    if li[i] % li[i + 1] != 0:\n",
    "        ip = False\n",
    "        break\n",
    "        \n",
    "if not ip:\n",
    "    print(0)\n",
    "else:\n",
    "    fv = li[0]\n",
    "    result = 1\n",
    "    for i in range(1, n):\n",
    "        v = li[i]\n",
    "        \n",
    "        if fv == v:\n",
    "            result *= m // v\n",
    "            result %= mod_r\n",
    "        else:\n",
    "            to_mul = m // v\n",
    "            \n",
    "            cs_fv = get_cs(fv)\n",
    "            cs_v = get_cs(v)\n",
    "    \n",
    "            to_ex = []\n",
    "            for prime in cs_fv:\n",
    "                if prime not in cs_v:\n",
    "                    to_ex.append(prime)\n",
    "                else:\n",
    "                    if cs_v[prime] < cs_fv[prime]:\n",
    "                        to_ex.append(prime ** (cs_v[prime] + 1))\n",
    "                        \n",
    "            for c in range(1, len(to_ex) + 1):\n",
    "                for case in comb(to_ex, c):\n",
    "                    temp = 1\n",
    "                    for num in case:\n",
    "                        temp *= num\n",
    "                        \n",
    "                    lc = lcm(v, temp)\n",
    "                    if c % 2 == 1:\n",
    "                        to_mul -= m // lc\n",
    "                    else:\n",
    "                        to_mul += m // lc\n",
    "                    \n",
    "            result *= to_mul\n",
    "            result %= mod_r\n",
    "            \n",
    "    print(result)"
   ]
  },
  {
   "cell_type": "code",
   "execution_count": null,
   "metadata": {},
   "outputs": [],
   "source": [
    "m 이하의 2의 배수 중에서 temp의 배수"
   ]
  },
  {
   "cell_type": "code",
   "execution_count": 81,
   "metadata": {},
   "outputs": [
    {
     "data": {
      "text/plain": [
       "100000000"
      ]
     },
     "execution_count": 81,
     "metadata": {},
     "output_type": "execute_result"
    }
   ],
   "source": [
    "500000000 - 250000000 -200000000 + 50000000"
   ]
  },
  {
   "cell_type": "code",
   "execution_count": 80,
   "metadata": {},
   "outputs": [
    {
     "data": {
      "text/plain": [
       "500000000"
      ]
     },
     "execution_count": 80,
     "metadata": {},
     "output_type": "execute_result"
    }
   ],
   "source": [
    "2 10000\n",
    "10000 2"
   ]
  },
  {
   "cell_type": "code",
   "execution_count": 96,
   "metadata": {},
   "outputs": [
    {
     "name": "stdout",
     "output_type": "stream",
     "text": [
      "{2: 1}\n",
      "{2: 2}\n",
      "{2: 1, 3: 1}\n",
      "{2: 3}\n"
     ]
    },
    {
     "data": {
      "text/plain": [
       "4"
      ]
     },
     "execution_count": 96,
     "metadata": {},
     "output_type": "execute_result"
    }
   ],
   "source": [
    "from math import gcd\n",
    "\n",
    "c = 0\n",
    "for num in range(1, 11):\n",
    "    if gcd(10, num) == 2:\n",
    "        print(get_cs(num))\n",
    "        c += 1\n",
    "\n",
    "c"
   ]
  },
  {
   "cell_type": "code",
   "execution_count": null,
   "metadata": {},
   "outputs": [],
   "source": [
    "2 5    2"
   ]
  },
  {
   "cell_type": "code",
   "execution_count": 90,
   "metadata": {},
   "outputs": [
    {
     "data": {
      "text/plain": [
       "10"
      ]
     },
     "execution_count": 90,
     "metadata": {},
     "output_type": "execute_result"
    }
   ],
   "source": [
    "10 // 2 - 10 // 5\n",
    "   5          2\n",
    "    \n",
    "    \n",
    "1 2 3 4 5 6 7 8 9 10\n",
    "\n",
    "  2   4   6   8   10\n",
    "    \n"
   ]
  },
  {
   "cell_type": "code",
   "execution_count": null,
   "metadata": {},
   "outputs": [],
   "source": []
  },
  {
   "cell_type": "code",
   "execution_count": null,
   "metadata": {},
   "outputs": [],
   "source": [
    "2의 배수이면서 4의 배수는 아님"
   ]
  },
  {
   "cell_type": "code",
   "execution_count": 93,
   "metadata": {},
   "outputs": [
    {
     "data": {
      "text/plain": [
       "25"
      ]
     },
     "execution_count": 93,
     "metadata": {},
     "output_type": "execute_result"
    }
   ],
   "source": [
    "100 // 2 - 100 // 4"
   ]
  },
  {
   "cell_type": "code",
   "execution_count": 51,
   "metadata": {},
   "outputs": [
    {
     "data": {
      "text/plain": [
       "True"
      ]
     },
     "execution_count": 51,
     "metadata": {},
     "output_type": "execute_result"
    }
   ],
   "source": [
    "2*3*5*7*11*13*17*19*23*31 > 1000000000"
   ]
  }
 ],
 "metadata": {
  "kernelspec": {
   "display_name": "Python 3",
   "language": "python",
   "name": "python3"
  },
  "language_info": {
   "codemirror_mode": {
    "name": "ipython",
    "version": 3
   },
   "file_extension": ".py",
   "mimetype": "text/x-python",
   "name": "python",
   "nbconvert_exporter": "python",
   "pygments_lexer": "ipython3",
   "version": "3.7.4"
  }
 },
 "nbformat": 4,
 "nbformat_minor": 2
}
