{
 "cells": [
  {
   "cell_type": "markdown",
   "metadata": {},
   "source": [
    "### 전화번호 목록 5052"
   ]
  },
  {
   "cell_type": "code",
   "execution_count": 2,
   "metadata": {},
   "outputs": [
    {
     "name": "stdout",
     "output_type": "stream",
     "text": [
      "5\n",
      "113\n",
      "12340\n",
      "123440\n",
      "12345\n",
      "98346\n",
      "YES\n"
     ]
    }
   ],
   "source": [
    "import sys\n",
    "# input = lambda: sys.stdin.readline().rstrip()\n",
    "\n",
    "def check(st):\n",
    "    for s in st:\n",
    "        temp = ''\n",
    "        for i in range(len(s) - 1):\n",
    "            temp += s[i]\n",
    "            if temp in st:\n",
    "                return 'NO'\n",
    "    return 'YES'\n",
    "\n",
    "for _ in range(int(input())):\n",
    "    n = int(input())\n",
    "    st = {input() for _ in range(n)}\n",
    "    \n",
    "    print(check(st))"
   ]
  },
  {
   "cell_type": "markdown",
   "metadata": {},
   "source": [
    "### 골드바흐의 추측 6588"
   ]
  },
  {
   "cell_type": "code",
   "execution_count": 25,
   "metadata": {},
   "outputs": [
    {
     "name": "stdout",
     "output_type": "stream",
     "text": [
      "6\n",
      "6 = 3 + 3\n",
      "8\n",
      "8 = 3 + 5\n",
      "10\n",
      "10 = 3 + 7\n",
      "34\n",
      "34 = 3 + 31\n",
      "38\n",
      "38 = 7 + 31\n",
      "1000000\n",
      "1000000 = 17 + 999983\n",
      "0\n"
     ]
    }
   ],
   "source": [
    "import sys\n",
    "# input = lambda: sys.stdin.readline().rstrip()\n",
    "\n",
    "is_prime = [False, False] + [True] * 999999\n",
    "\n",
    "for mod in range(2, int(1000000 ** 0.5) + 1):\n",
    "    if not is_prime[mod]:\n",
    "        continue\n",
    "    for num in range(mod * mod, 1000001, mod):\n",
    "        is_prime[num] = False\n",
    "        \n",
    "primes = [i for i, v in enumerate(is_prime) if v]\n",
    "del primes[0]\n",
    "st = set(primes)\n",
    "\n",
    "while True:\n",
    "    n = int(input())\n",
    "    if n == 0:\n",
    "        break\n",
    "    \n",
    "    half = n // 2\n",
    "    for p in primes:\n",
    "        if p > half:\n",
    "            print('''\"Goldbach's conjecture is wrong.\"''')\n",
    "            break\n",
    "        if n - p in st:\n",
    "            print(f'{n} = {p} + {n - p}')\n",
    "            break"
   ]
  },
  {
   "cell_type": "markdown",
   "metadata": {},
   "source": [
    "### 조합 0의 개수 2004"
   ]
  },
  {
   "cell_type": "code",
   "execution_count": 27,
   "metadata": {},
   "outputs": [
    {
     "name": "stdout",
     "output_type": "stream",
     "text": [
      "25 12\n",
      "2\n"
     ]
    }
   ],
   "source": [
    "a, b = map(int, input().split())\n",
    "r = str(a * b)[::-1]\n",
    "c = 0\n",
    "for v in r:\n",
    "    if v == '0':\n",
    "        c += 1\n",
    "print(c)"
   ]
  },
  {
   "cell_type": "code",
   "execution_count": 41,
   "metadata": {},
   "outputs": [
    {
     "data": {
      "text/plain": [
       "210"
      ]
     },
     "execution_count": 41,
     "metadata": {},
     "output_type": "execute_result"
    }
   ],
   "source": [
    "def aCb(a, b):\n",
    "    if b > a - b:\n",
    "        b = a - b\n",
    "    u = 1\n",
    "    d = 1\n",
    "    m = 0\n",
    "    for _ in range(b):\n",
    "        u *= (a - m)\n",
    "        d *= (b - m)\n",
    "        m += 1\n",
    "    return u // d\n",
    "\n",
    "aCb(10, 4)"
   ]
  },
  {
   "cell_type": "markdown",
   "metadata": {},
   "source": [
    "### Two Dots 16929"
   ]
  },
  {
   "cell_type": "code",
   "execution_count": 56,
   "metadata": {},
   "outputs": [
    {
     "name": "stdout",
     "output_type": "stream",
     "text": [
      "2 13\n",
      "ABCDEFGHIJKLM\n",
      "NOPQRSTUVWXYZ\n",
      "No\n"
     ]
    }
   ],
   "source": [
    "n, m = map(int, input().split())\n",
    "li = [input() for _ in range(n)]\n",
    "\n",
    "def dfs(x, y, count):\n",
    "    ncount = count + 1\n",
    "    dx = [-1, 1, 0, 0]\n",
    "    dy = [0, 0, -1, 1]\n",
    "    \n",
    "    for i in range(4):\n",
    "        nx = x + dx[i]\n",
    "        ny = y + dy[i]\n",
    "        \n",
    "        if nx < 0 or nx >= n or ny < 0 or ny >= m:\n",
    "            continue\n",
    "        if li[nx][ny] != li[x][y]:\n",
    "            continue\n",
    "        if (nx, ny) in nvisited:\n",
    "            if counts[nx][ny] < counts[x][y] - 1:\n",
    "                return True\n",
    "            continue\n",
    "        visited.add((nx, ny))\n",
    "        nvisited.add((nx, ny))\n",
    "        counts[nx][ny] = count\n",
    "        if dfs(nx, ny, ncount):\n",
    "            return True\n",
    "        nvisited.remove((nx, ny))\n",
    "    return False\n",
    "\n",
    "visited = set()\n",
    "counts = [[-1] * m for _ in range(n)]\n",
    "result = False\n",
    "for i in range(n):\n",
    "    for j in range(m):\n",
    "        if (i, j) in visited:\n",
    "            continue\n",
    "        visited.add((i, j))\n",
    "        nvisited = {(i, j)}\n",
    "        if dfs(i, j, 0):\n",
    "            result = True\n",
    "            break\n",
    "    if result:\n",
    "        break\n",
    "        \n",
    "if result:\n",
    "    print('Yes')\n",
    "else:\n",
    "    print('No')"
   ]
  },
  {
   "cell_type": "markdown",
   "metadata": {},
   "source": [
    "### 서울 지하철 2호선 16947"
   ]
  },
  {
   "cell_type": "code",
   "execution_count": 68,
   "metadata": {},
   "outputs": [
    {
     "name": "stdout",
     "output_type": "stream",
     "text": [
      "12\n",
      "1 3\n",
      "3 4\n",
      "4 5\n",
      "5 6\n",
      "6 7\n",
      "7 8\n",
      "8 4\n",
      "2 3\n",
      "7 9\n",
      "9 12\n",
      "7 10\n",
      "10 11\n",
      "2 2 1 0 0 0 0 0 1 1 2 2\n"
     ]
    }
   ],
   "source": [
    "from collections import deque\n",
    "import sys\n",
    "sys.setrecursionlimit(1000000)\n",
    "# input = lambda: sys.stdin.readline().rstrip()\n",
    "\n",
    "n = int(input())\n",
    "li = [[] for _ in range(n + 1)]\n",
    "for _ in range(n):\n",
    "    a, b = map(int, input().split())\n",
    "    li[a].append(b)\n",
    "    li[b].append(a)\n",
    "    \n",
    "def dfs(value, c):\n",
    "    nc = c + 1\n",
    "    for v in li[value]:\n",
    "        if v in visited_st:\n",
    "            if counts[v] + 1 < c:\n",
    "                for cy in range(visited.index(v), len(visited)):\n",
    "                    in_cycles.add(visited[cy])\n",
    "            continue\n",
    "        counts[v] = nc\n",
    "        visited_st.add(v)\n",
    "        visited.append(v)\n",
    "        dfs(v, nc)\n",
    "        visited_st.remove(v)\n",
    "        visited.pop()\n",
    "    \n",
    "visited_st = set([1])\n",
    "visited = [1]\n",
    "counts = [0] * (n + 1)\n",
    "in_cycles = set()\n",
    "\n",
    "dfs(1, 0)\n",
    "    \n",
    "result = [float('inf')] * (n + 1)\n",
    "for in_cycle in in_cycles:\n",
    "    result[in_cycle] = 0\n",
    "    \n",
    "all_set = set(range(1, n + 1))\n",
    "to_find = all_set - in_cycles\n",
    "\n",
    "def bfs(value):\n",
    "    queue = deque()\n",
    "    queue.append((value, 0))\n",
    "    \n",
    "    visited = set()\n",
    "    visited.add(value)\n",
    "    while queue:\n",
    "        value, c = queue.popleft()\n",
    "        nc = c + 1\n",
    "        for v in li[value]:\n",
    "            if v in in_cycles:\n",
    "                return nc\n",
    "            if v in visited:\n",
    "                continue\n",
    "            visited.add(v)\n",
    "            queue.append((v, nc))\n",
    "\n",
    "for value in to_find:\n",
    "    result[value] = bfs(value)\n",
    "    \n",
    "print(' '.join(map(str, result[1:])))"
   ]
  },
  {
   "cell_type": "markdown",
   "metadata": {},
   "source": [
    "### 노드사이의 거리 1240"
   ]
  },
  {
   "cell_type": "code",
   "execution_count": 69,
   "metadata": {},
   "outputs": [
    {
     "name": "stdout",
     "output_type": "stream",
     "text": [
      "4 2\n",
      "2 1 2\n",
      "4 3 2\n",
      "1 4 3\n",
      "1 2\n",
      "2\n",
      "3 2\n",
      "7\n"
     ]
    }
   ],
   "source": [
    "from collections import deque\n",
    "import sys\n",
    "# input = lambda: sys.stdin.readline().rstrip()\n",
    "\n",
    "n, m = map(int, input().split())\n",
    "li = [[] for _ in range(n + 1)]\n",
    "for _ in range(n - 1):\n",
    "    a, b, d = map(int, input().split())\n",
    "    li[a].append((b, d))\n",
    "    li[b].append((a, d))\n",
    "    \n",
    "def bfs(s, e):\n",
    "    visited = set()\n",
    "    visited.add(s)\n",
    "    queue = deque()\n",
    "    queue.append((s, 0))\n",
    "    while queue:\n",
    "        value, count = queue.popleft()\n",
    "        for v, c in li[value]:\n",
    "            if v == e:\n",
    "                return c + count\n",
    "            if v in visited:\n",
    "                continue\n",
    "            visited.add(v)\n",
    "            queue.append((v, c + count))\n",
    "    \n",
    "for _ in range(m):\n",
    "    s, e = map(int, input().split())\n",
    "    print(bfs(s, e))"
   ]
  },
  {
   "cell_type": "markdown",
   "metadata": {},
   "source": [
    "### "
   ]
  },
  {
   "cell_type": "markdown",
   "metadata": {},
   "source": [
    "### 물 채우기 2276, Water 8068, Rain (Small) 14324, Rain (Large) 14325\n",
    "#### (인풋 순서, 테케 수 차이 있음)"
   ]
  },
  {
   "cell_type": "raw",
   "metadata": {},
   "source": [
    "테두리 제외 모든걸 최소힙에 넣고 작은 것부터 주변 살피고 out 있으면 out 체크해줌. (밖에 나가거나 작은 값 만나는 경우) 같은 값 있으면 li와 outs에 전 값의 [4] 같은 식으로 리스트 통째로 가져옴\n",
    "out되는 경우가 있으면 outs의 전 값을 가져오고 내부 값을 True로 바꿔줌\n",
    "돌다가 True를 만나면\n",
    "다 돌고 out 없으면 지나온 값들을 주변 값 중 가장 작은 값으로 전부 바꾸고 (그 값 - 원래값) * 지나온 값을 total에 추가해줌. out이면\n",
    "그냥 둠\n",
    "\n",
    "최소힙에서 꺼냈을 때 꺼낸 값이 바뀐 상태라면 버림"
   ]
  },
  {
   "cell_type": "code",
   "execution_count": 69,
   "metadata": {},
   "outputs": [
    {
     "name": "stdout",
     "output_type": "stream",
     "text": [
      "1\n",
      "3 3\n",
      "3 5 5\n",
      "5 4 5\n",
      "5 5 5\n",
      "Case #1: 1\n"
     ]
    }
   ],
   "source": [
    "from heapq import heappush, heappop\n",
    "from collections import deque\n",
    "\n",
    "for t in range(int(input())):\n",
    "    n, m = map(int, input().split())\n",
    "    li = [list(map(int, input().split())) for _ in range(n)]\n",
    "\n",
    "    heap = []\n",
    "    for i in range(1, n - 1):\n",
    "        for j in range(1, m - 1):\n",
    "            heappush(heap, (li[i][j], i, j))\n",
    "\n",
    "    dx = [-1, 1, 0, 0]\n",
    "    dy = [0, 0, -1, 1]\n",
    "\n",
    "    total = 0\n",
    "    for i in range(n):\n",
    "        for j in range(m):\n",
    "            li[i][j] = [li[i][j]]\n",
    "\n",
    "    outs = [[[False] for _ in range(m)] for _ in range(n)]\n",
    "    total = 0\n",
    "    while heap:\n",
    "        svalue, sx, sy = heappop(heap)\n",
    "        if li[sx][sy][0] > svalue:\n",
    "            continue\n",
    "        queue = deque()\n",
    "        queue.append((sx, sy))\n",
    "        visited = set()\n",
    "        visited.add((sx, sy))\n",
    "        min_higher_value = float('inf')\n",
    "        same_count = 1\n",
    "        while queue:\n",
    "            x, y = queue.popleft()\n",
    "            for i in range(4):\n",
    "                nx = x + dx[i]\n",
    "                ny = y + dy[i]\n",
    "                if nx < 0 or nx >= n or ny < 0 or ny >= m or li[nx][ny][0] < li[x][y][0] or outs[nx][ny][0]:\n",
    "                    outs[x][y][0] = True\n",
    "                    break\n",
    "                if (nx, ny) in visited:\n",
    "                    continue\n",
    "                visited.add((nx, ny))\n",
    "                if li[nx][ny][0] > li[x][y][0]:\n",
    "                    if li[nx][ny][0] < min_higher_value:\n",
    "                        min_higher_value = li[nx][ny][0]\n",
    "                    continue\n",
    "                same_count += 1\n",
    "                outs[nx][ny] = outs[x][y]\n",
    "                li[nx][ny] = li[x][y]\n",
    "                queue.append((nx, ny))\n",
    "        if outs[sx][sy][0]:\n",
    "            continue\n",
    "        total += (min_higher_value - svalue) * same_count\n",
    "        li[sx][sy][0] = min_higher_value\n",
    "\n",
    "    print(f'Case #{t + 1}: {total}')"
   ]
  },
  {
   "cell_type": "markdown",
   "metadata": {},
   "source": [
    "### 불 끄기 14939"
   ]
  },
  {
   "cell_type": "code",
   "execution_count": null,
   "metadata": {},
   "outputs": [],
   "source": [
    "만약 총 전구 개수가 2개 이하면 불가능함"
   ]
  },
  {
   "cell_type": "code",
   "execution_count": 1,
   "metadata": {},
   "outputs": [],
   "source": [
    "li = [[0] * 10 for _ in range(10)]"
   ]
  },
  {
   "cell_type": "code",
   "execution_count": 5,
   "metadata": {},
   "outputs": [],
   "source": [
    "def t(x, y):\n",
    "    dx = [-1, 1, 0, 0]\n",
    "    dy = [0, 0, -1, 1]\n",
    "    \n",
    "    li[x][y] ^= 1\n",
    "    for i in range(4):\n",
    "        nx = x + dx[i]\n",
    "        ny = y + dy[i]\n",
    "        if nx < 0 or nx >= 10 or ny < 0 or ny >= 10:\n",
    "            continue\n",
    "        li[nx][ny] ^= 1"
   ]
  },
  {
   "cell_type": "code",
   "execution_count": 54,
   "metadata": {},
   "outputs": [
    {
     "name": "stdout",
     "output_type": "stream",
     "text": [
      "[0, 0, 0, 0, 0, 0, 0, 0, 0, 0]\n",
      "[0, 0, 1, 1, 0, 0, 1, 1, 0, 0]\n",
      "[0, 0, 0, 1, 0, 0, 1, 0, 0, 0]\n",
      "[0, 0, 0, 0, 0, 0, 0, 0, 0, 0]\n",
      "[0, 0, 0, 0, 0, 0, 0, 0, 0, 0]\n",
      "[0, 0, 0, 0, 0, 0, 0, 0, 0, 0]\n",
      "[0, 0, 0, 0, 0, 0, 0, 0, 0, 0]\n",
      "[0, 0, 0, 0, 0, 0, 0, 0, 0, 0]\n",
      "[0, 0, 0, 0, 0, 0, 0, 0, 0, 0]\n",
      "[0, 0, 0, 0, 0, 0, 0, 0, 0, 0]\n"
     ]
    }
   ],
   "source": [
    "li = [[0] * 10 for _ in range(10)]\n",
    "t(0, 5)\n",
    "t(0, 4)\n",
    "t(1, 3)\n",
    "t(1, 6)\n",
    "# t(3, 3)\n",
    "# t(3, 6)\n",
    "# t(4, 3)\n",
    "\n",
    "for v in li:\n",
    "    print(v)"
   ]
  },
  {
   "cell_type": "code",
   "execution_count": 36,
   "metadata": {},
   "outputs": [],
   "source": [
    "# 테스트용 함수\n",
    "def rotate(li):\n",
    "    new_li = [[0] * 10 for _ in range(10)]\n",
    "    for i in range(n):\n",
    "        for j in range(n):\n",
    "            new_li[i][j] = li[n - 1 - j][i]\n",
    "    return new_li"
   ]
  },
  {
   "cell_type": "code",
   "execution_count": 82,
   "metadata": {},
   "outputs": [
    {
     "name": "stdout",
     "output_type": "stream",
     "text": [
      "[0, 0, 0, 0, 0, 0, 0, 0, 0, 0]\n",
      "[0, 0, 1, 1, 0, 0, 1, 1, 0, 0]\n",
      "[0, 1, 0, 1, 0, 0, 1, 0, 1, 0]\n",
      "[0, 1, 1, 0, 0, 0, 0, 1, 1, 0]\n",
      "[0, 0, 0, 0, 0, 0, 0, 0, 0, 0]\n",
      "[0, 0, 0, 0, 0, 0, 0, 0, 0, 0]\n",
      "[0, 1, 1, 0, 0, 0, 0, 1, 1, 0]\n",
      "[0, 1, 0, 1, 0, 0, 1, 0, 1, 0]\n",
      "[0, 0, 1, 1, 0, 0, 1, 1, 0, 0]\n",
      "[0, 0, 0, 0, 0, 0, 0, 0, 0, 0]\n"
     ]
    }
   ],
   "source": [
    "li = [[0] * 10 for _ in range(10)]\n",
    "t(0, 5)\n",
    "t(0, 4)\n",
    "t(1, 3)\n",
    "t(1, 6)\n",
    "li = rotate(li)\n",
    "t(0, 5)\n",
    "t(0, 4)\n",
    "t(1, 3)\n",
    "t(1, 6)\n",
    "li = rotate(li)\n",
    "t(0, 5)\n",
    "t(0, 4)\n",
    "t(1, 3)\n",
    "t(1, 6)\n",
    "li = rotate(li)\n",
    "t(0, 5)\n",
    "t(0, 4)\n",
    "t(1, 3)\n",
    "t(1, 6)\n",
    "\n",
    "for v in li:\n",
    "    print(v)"
   ]
  },
  {
   "cell_type": "code",
   "execution_count": 94,
   "metadata": {},
   "outputs": [
    {
     "name": "stdout",
     "output_type": "stream",
     "text": [
      "#O########\n",
      "OOO#######\n",
      "#O########\n",
      "####OO####\n",
      "###O##O###\n",
      "####OO####\n",
      "##########\n",
      "########O#\n",
      "#######OOO\n",
      "########O#\n",
      "4\n"
     ]
    }
   ],
   "source": [
    "# 맞았음\n",
    "from itertools import product\n",
    "\n",
    "def t(x, y):\n",
    "    dx = [-1, 1, 0, 0]\n",
    "    dy = [0, 0, -1, 1]\n",
    "    \n",
    "    li[x][y] ^= 1\n",
    "    for i in range(4):\n",
    "        nx = x + dx[i]\n",
    "        ny = y + dy[i]\n",
    "        if nx < 0 or nx >= 10 or ny < 0 or ny >= 10:\n",
    "            continue\n",
    "        li[nx][ny] ^= 1\n",
    "\n",
    "n = 10\n",
    "li = [list(input()) for _ in range(n)]\n",
    "\n",
    "for i in range(n):\n",
    "    for j in range(n):\n",
    "        if li[i][j] == 'O':\n",
    "            li[i][j] = 1\n",
    "        else:\n",
    "            li[i][j] = 0\n",
    "\n",
    "p = product(*[range(2)] * n)\n",
    "min_count = float('inf')\n",
    "for case in p:\n",
    "    changed = []\n",
    "    count = 0\n",
    "    for j in range(n):\n",
    "        if case[j]:\n",
    "            t(0, j)\n",
    "            changed.append((0, j))\n",
    "            count += 1\n",
    "            \n",
    "    on_in_last = False\n",
    "    for i in range(1, n):\n",
    "        for j in range(n):\n",
    "            if li[i - 1][j] == 1:\n",
    "                t(i, j)\n",
    "                changed.append((i, j))\n",
    "                count += 1\n",
    "            if i == n - 1:\n",
    "                if j - 1 >= 0:\n",
    "                    if li[i][j - 1] == 1:\n",
    "                        on_in_last = True\n",
    "    if li[n - 1][n - 1] == 1:\n",
    "        on_in_last = True\n",
    "        \n",
    "    if not on_in_last:\n",
    "        min_count = min(min_count, count)\n",
    "    for i, j in changed:\n",
    "        t(i, j)\n",
    "\n",
    "if min_count == float('inf'):\n",
    "    print(-1)\n",
    "else:\n",
    "    print(min_count)"
   ]
  },
  {
   "cell_type": "code",
   "execution_count": 18,
   "metadata": {},
   "outputs": [
    {
     "name": "stdout",
     "output_type": "stream",
     "text": [
      "#O########\n",
      "OOO#######\n",
      "#O########\n",
      "####OO####\n",
      "###O##O###\n",
      "####OO####\n",
      "##########\n",
      "########O#\n",
      "#######OOO\n",
      "########O#\n",
      "4\n"
     ]
    }
   ],
   "source": [
    "# 맞았음, 비트마스킹 사용\n",
    "from itertools import product\n",
    "\n",
    "def t(x, y):  \n",
    "    for i in range(5):\n",
    "        nx = x + dx[i]\n",
    "        ny = y + dy[i]\n",
    "        if nx < 0 or nx >= n or ny < 0 or ny >= n:\n",
    "            continue\n",
    "        b[nx] ^= d[ny]\n",
    "\n",
    "dx = [0, -1, 1, 0, 0]\n",
    "dy = [0, 0, 0, -1, 1]\n",
    "\n",
    "n = 10\n",
    "li = [list(input()) for _ in range(n)]\n",
    "\n",
    "d = [0] * n\n",
    "for j in range(n):\n",
    "    d[j] = 1 << j\n",
    "\n",
    "all_off = 1 << n\n",
    "ob = [all_off] * n # original b\n",
    "for i in range(n):\n",
    "    for j in range(n):\n",
    "        if li[i][j] == 'O':\n",
    "            ob[i] |= d[j]\n",
    "\n",
    "b = ob[:]\n",
    "min_count = float('inf')\n",
    "for case in product(*[range(2)] * n):\n",
    "    count = 0\n",
    "    for j in range(n):\n",
    "        if case[j]:\n",
    "            t(0, j)\n",
    "            count += 1\n",
    "            \n",
    "    for i in range(1, n):\n",
    "        for j in range(n):\n",
    "            if b[i - 1] & d[j]:\n",
    "                t(i, j)\n",
    "                count += 1\n",
    "            if i == n - 1:\n",
    "                if j - 1 >= 0:\n",
    "                    if b[i] & d[j - 1]:\n",
    "                        count = -1\n",
    "                        break\n",
    "        b[i - 1] = ob[i - 1]\n",
    "        if count == -1:\n",
    "            break\n",
    "            \n",
    "    if b[n - 1] == all_off:\n",
    "        if count < min_count:\n",
    "            min_count = count\n",
    "    b[n - 1] = ob[n - 1]\n",
    "\n",
    "if min_count == float('inf'):\n",
    "    print(-1)\n",
    "else:\n",
    "    print(min_count)"
   ]
  },
  {
   "cell_type": "markdown",
   "metadata": {},
   "source": [
    "### 전구 끄기 14927"
   ]
  },
  {
   "cell_type": "code",
   "execution_count": null,
   "metadata": {},
   "outputs": [],
   "source": [
    "n이 6일 때\n",
    "012345\n",
    "012345"
   ]
  },
  {
   "cell_type": "code",
   "execution_count": 17,
   "metadata": {},
   "outputs": [
    {
     "name": "stdout",
     "output_type": "stream",
     "text": [
      "5\n",
      "0 0 0 1 0\n",
      "1 1 0 1 1\n",
      "1 1 1 0 1\n",
      "1 1 0 0 0\n",
      "0 0 0 0 1\n",
      "-1\n"
     ]
    }
   ],
   "source": [
    "from itertools import product\n",
    "\n",
    "def t(x, y):  \n",
    "    for i in range(5):\n",
    "        nx = x + dx[i]\n",
    "        ny = y + dy[i]\n",
    "        if nx < 0 or nx >= n or ny < 0 or ny >= n:\n",
    "            continue\n",
    "        b[nx] ^= d[ny]\n",
    "\n",
    "dx = [0, -1, 1, 0, 0]\n",
    "dy = [0, 0, 0, -1, 1]\n",
    "\n",
    "n = int(input())\n",
    "li = [list(map(int, input().split())) for _ in range(n)]\n",
    "\n",
    "d = [0] * n\n",
    "for j in range(n):\n",
    "    d[j] = 1 << j\n",
    "\n",
    "all_off = 1 << n\n",
    "ob = [all_off] * n # original b\n",
    "for i in range(n):\n",
    "    for j in range(n):\n",
    "        if li[i][j]:\n",
    "            ob[i] |= d[j]\n",
    "\n",
    "b = ob[:]\n",
    "min_count = float('inf')\n",
    "for case in product(*[range(2)] * n):\n",
    "    count = 0\n",
    "    for j in range(n):\n",
    "        if case[j]:\n",
    "            t(0, j)\n",
    "            count += 1\n",
    "            \n",
    "    for i in range(1, n):\n",
    "        for j in range(n):\n",
    "            if b[i - 1] & d[j]:\n",
    "                t(i, j)\n",
    "                count += 1\n",
    "            if i == n - 1:\n",
    "                if j - 1 >= 0:\n",
    "                    if b[i] & d[j - 1]:\n",
    "                        count = -1\n",
    "                        break\n",
    "        b[i - 1] = ob[i - 1]\n",
    "        if count == -1:\n",
    "            break\n",
    "            \n",
    "    if b[n - 1] == all_off:\n",
    "        if count < min_count:\n",
    "            min_count = count\n",
    "    b[n - 1] = ob[n - 1]\n",
    "\n",
    "if min_count == float('inf'):\n",
    "    print(-1)\n",
    "else:\n",
    "    print(min_count)"
   ]
  },
  {
   "cell_type": "markdown",
   "metadata": {},
   "source": [
    "### 도로검문 2307"
   ]
  },
  {
   "cell_type": "code",
   "execution_count": 7,
   "metadata": {},
   "outputs": [
    {
     "name": "stdout",
     "output_type": "stream",
     "text": [
      "8 11\n",
      "1 2 1\n",
      "1 5 8\n",
      "1 7 9\n",
      "2 5 2\n",
      "3 4 4\n",
      "3 6 3\n",
      "3 8 5\n",
      "4 6 10\n",
      "4 8 11\n",
      "5 6 6\n",
      "5 7 7\n",
      "-1\n"
     ]
    }
   ],
   "source": [
    "from heapq import heappush, heappop\n",
    "from collections import deque\n",
    "import sys\n",
    "# input = lambda: sys.stdin.readline().rstrip()\n",
    "\n",
    "n, m = map(int, input().split())\n",
    "li = [set() for _ in range(n + 1)]\n",
    "d = dict()\n",
    "for _ in range(m):\n",
    "    a, b, c = map(int, input().split())\n",
    "    d[(a, b)] = c\n",
    "    d[(b, a)] = c\n",
    "    li[a].add((b, c))\n",
    "    li[b].add((a, c))\n",
    "\n",
    "def dij_trace():\n",
    "    froms = [[] for _ in range(n + 1)]\n",
    "    dists = [float('inf')] * (n + 1)\n",
    "    dists[1] = 0\n",
    "\n",
    "    heap = [(0, 1)]\n",
    "    while heap:\n",
    "        dist, value = heappop(heap)\n",
    "        if dists[value] < dist:\n",
    "            continue\n",
    "        for v, d in li[value]:\n",
    "            ndist = dist + d\n",
    "            if ndist == dists[v]:\n",
    "                froms[v].append(value)\n",
    "            elif ndist < dists[v]:\n",
    "                dists[v] = ndist\n",
    "                froms[v] = [value]\n",
    "                heappush(heap, (ndist, v))\n",
    "    return dists[n], froms\n",
    "\n",
    "def dij():\n",
    "    dists = [float('inf')] * (n + 1)\n",
    "    dists[1] = 0\n",
    "\n",
    "    heap = [(0, 1)]\n",
    "    while heap:\n",
    "        dist, value = heappop(heap)\n",
    "        if dists[value] < dist:\n",
    "            continue\n",
    "        for v, d in li[value]:\n",
    "            ndist = dist + d\n",
    "            if ndist < dists[v]:\n",
    "                dists[v] = ndist\n",
    "                heappush(heap, (ndist, v))\n",
    "    return dists[n]\n",
    "                \n",
    "no_check_min_dist, froms = dij_trace()\n",
    "cands = set()\n",
    "visited = [False] * (n + 1)\n",
    "visited[n] = True\n",
    "\n",
    "queue = deque()\n",
    "queue.append(n)\n",
    "while queue:\n",
    "    _to = queue.popleft()\n",
    "    for _from in froms[_to]:\n",
    "        if not visited[_from]:\n",
    "            visited[_from] = True\n",
    "            cands.add((_from, _to))\n",
    "            queue.append(_from)\n",
    "            \n",
    "max_check_min_dist = 0\n",
    "for a, b in cands:\n",
    "    li[a].remove((b, d[(a, b)]))\n",
    "    li[b].remove((a, d[(a, b)]))\n",
    "    max_check_min_dist = max(max_check_min_dist, dij())\n",
    "    li[a].add((b, d[(a, b)]))\n",
    "    li[b].add((a, d[(a, b)]))\n",
    "\n",
    "result = max_check_min_dist - no_check_min_dist\n",
    "if result == float('inf'):\n",
    "    print(-1)\n",
    "else:\n",
    "    print(result)"
   ]
  },
  {
   "cell_type": "markdown",
   "metadata": {},
   "source": [
    "### 숫자구슬 2613"
   ]
  },
  {
   "cell_type": "code",
   "execution_count": 22,
   "metadata": {},
   "outputs": [
    {
     "name": "stdout",
     "output_type": "stream",
     "text": [
      "8 3\n",
      "5 4 2 6 9 3 8 7\n",
      "17\n",
      "4 2 2\n"
     ]
    }
   ],
   "source": [
    "# 틀렸음\n",
    "n, m = map(int, input().split())\n",
    "li = list(map(int, input().split()))\n",
    "\n",
    "s_indices = list(range(m)) # 각 그룹의 시작 인덱스\n",
    "sums = []\n",
    "for i in range(m - 1):\n",
    "    sums.append(li[i])\n",
    "sums.append(sum(li[s_indices[-1]:]))\n",
    "\n",
    "min_max_sum = max(sums)\n",
    "while True:\n",
    "    is_improved = False\n",
    "    for i in range(m - 1, 0, -1):\n",
    "        while True:\n",
    "            if s_indices[i] + 1 >= n:\n",
    "                break\n",
    "            if i + 1 < m and s_indices[i] + 1 == s_indices[i + 1]:\n",
    "                break\n",
    "            sums[i] -= li[s_indices[i]]\n",
    "            sums[i - 1] += li[s_indices[i]]\n",
    "            max_sum = max(sums)\n",
    "            if max_sum <= min_max_sum:\n",
    "                min_max_sum = max_sum\n",
    "                s_indices[i] += 1\n",
    "                is_improved = True\n",
    "            else:\n",
    "                sums[i] += li[s_indices[i]]\n",
    "                sums[i - 1] -= li[s_indices[i]]\n",
    "                break\n",
    "    if not is_improved:\n",
    "        break\n",
    "\n",
    "counts = []\n",
    "for i in range(1, m):\n",
    "    counts.append(s_indices[i] - s_indices[i - 1])\n",
    "counts.append(n - s_indices[-1])\n",
    "\n",
    "print(min_max_sum)\n",
    "print(*counts)"
   ]
  },
  {
   "cell_type": "code",
   "execution_count": null,
   "metadata": {},
   "outputs": [],
   "source": [
    "8, 5\n",
    "5 4 2 6 9 3 8 7\n",
    "\n",
    "(5, 1, 5) (4, 2, 5)   (2, 3, 5)  5  4  2\n",
    "           (9, 1, 9)  (6, 2, 6)  5  42\n",
    "                      (2, 2, 9)  54  2\n",
    "                      (11, 1, 11)  542"
   ]
  },
  {
   "cell_type": "code",
   "execution_count": 94,
   "metadata": {},
   "outputs": [
    {
     "name": "stdout",
     "output_type": "stream",
     "text": [
      "8 3\n",
      "5 4 2 6 9 3 8 7\n",
      "[[15, 3, 17, 4, 2, 2], [7, 3, 20, 4, 3, 1], [18, 2, 26, 5, 3], [15, 2, 29, 6, 2], [7, 2, 37, 7, 1], [44, 1, 44, 8]]\n",
      "17\n",
      "4 2 2\n"
     ]
    }
   ],
   "source": [
    "# 45%에서 틀렸음\n",
    "from copy import deepcopy\n",
    "\n",
    "n, m = map(int, input().split())\n",
    "li = list(map(int, input().split()))\n",
    "\n",
    "dp = [[li[0], 1, li[0], 1]]\n",
    "for i in range(1, n):\n",
    "    ndp = []\n",
    "    for j in range(len(dp)):\n",
    "        current = dp[j][0]\n",
    "        group = dp[j][1]\n",
    "        max_value = dp[j][2]\n",
    "        \n",
    "        if group + 1 <= m:\n",
    "            ncurrent = li[i]\n",
    "            ngroup = group + 1\n",
    "            nmax_value = max(max_value, li[i])\n",
    "            \n",
    "            ndp.append(deepcopy(dp[j]))\n",
    "            ndp[-1][0] = ncurrent\n",
    "            ndp[-1][1] = ngroup\n",
    "            ndp[-1][2] = nmax_value\n",
    "            ndp[-1].append(1)\n",
    "            \n",
    "        ncurrent = current + li[i]\n",
    "        ngroup = group\n",
    "        nmax_value = max(max_value, current + li[i])\n",
    "\n",
    "        ndp.append(deepcopy(dp[j]))\n",
    "        ndp[-1][0] = ncurrent\n",
    "        ndp[-1][1] = ngroup\n",
    "        ndp[-1][2] = nmax_value\n",
    "        ndp[-1][-1] += 1\n",
    "\n",
    "    dp = []\n",
    "    for j in range(len(ndp)):\n",
    "        is_added = True\n",
    "        for k in range(len(ndp)):\n",
    "            if j == k:\n",
    "                continue\n",
    "            if ndp[k][1] <= ndp[j][1] and ndp[k][0] <= ndp[j][0] and ndp[k][2] <= ndp[j][2]:\n",
    "                if ndp[k][1] == ndp[j][1] and ndp[k][0] == ndp[j][0] and ndp[k][2] == ndp[j][2]:\n",
    "                    if j > k:\n",
    "                        continue\n",
    "                is_added = False\n",
    "                break    \n",
    "                    \n",
    "        if is_added:\n",
    "            dp.append(ndp[j])\n",
    "\n",
    "dp.sort(key=lambda x: (-x[1], x[2]))\n",
    "print(dp)\n",
    "\n",
    "print(dp[0][2])\n",
    "print(*dp[0][3:])"
   ]
  },
  {
   "cell_type": "code",
   "execution_count": null,
   "metadata": {},
   "outputs": [],
   "source": [
    "4 2\n",
    "1 2 3 4\n",
    "6\n",
    "3 1"
   ]
  },
  {
   "cell_type": "code",
   "execution_count": null,
   "metadata": {},
   "outputs": [],
   "source": [
    "[(4, 2, 5), (9, 1, 9)]\n",
    "[(2, 3, 5), (6, 2, 6), (2, 2, 9), (11, 1, 11)]\n",
    "[(8, 3, 8), (6, 3, 6), (12, 2, 12), (6, 3, 9), (8, 2, 9), (6, 2, 11), (17, 1, 17)]"
   ]
  },
  {
   "cell_type": "code",
   "execution_count": null,
   "metadata": {},
   "outputs": [],
   "source": [
    "[(5, 2, 5)]\n",
    "[(4, 3, 5)]\n",
    "[(6, 3, 6)]\n",
    "[(12, 3, 12)]"
   ]
  },
  {
   "cell_type": "code",
   "execution_count": null,
   "metadata": {},
   "outputs": [],
   "source": [
    "dp = [(l)]"
   ]
  },
  {
   "cell_type": "code",
   "execution_count": 47,
   "metadata": {},
   "outputs": [
    {
     "data": {
      "text/plain": [
       "9000000"
      ]
     },
     "execution_count": 47,
     "metadata": {},
     "output_type": "execute_result"
    }
   ],
   "source": [
    "30000 * 300"
   ]
  },
  {
   "cell_type": "markdown",
   "metadata": {},
   "source": [
    "### 드래곤 커브 15685"
   ]
  },
  {
   "cell_type": "code",
   "execution_count": null,
   "metadata": {},
   "outputs": [],
   "source": [
    "def turn(v, c):\n",
    "    vx, vy = v # 돌리는 좌표\n",
    "    cx, cy = c # 기준 좌표\n",
    "    \n",
    "    vx -= cx\n",
    "    vy -= cy\n",
    "    vx, vy = -vy, vx\n",
    "    vx += cx\n",
    "    vy += cy\n",
    "    return vx, vy\n",
    "\n",
    "def get_init_curve(x, y, d):\n",
    "    li = [(x, y)]\n",
    "    if d == 0:\n",
    "        li.append((x + 1, y))\n",
    "    elif d == 1:\n",
    "        li.append((x, y - 1))\n",
    "    elif d == 2:\n",
    "        li.append((x - 1, y))\n",
    "    else:\n",
    "        li.append((x, y + 1))      \n",
    "    return li\n",
    "\n",
    "n = int(input())\n",
    "\n",
    "board = [[0] * 101 for _ in range(101)]\n",
    "for _ in range(n):\n",
    "    x, y, d, g = map(int, input().split())\n",
    "    curve = get_init_curve(x, y, d)\n",
    "    while g:\n",
    "        g -= 1\n",
    "        c = curve[-1]\n",
    "        added = []\n",
    "        for i in range(len(curve) - 2, -1, -1):\n",
    "            added.append(turn(curve[i], c))\n",
    "        curve.extend(added)\n",
    "    for x, y in curve:\n",
    "        board[x][y] = 1\n",
    "\n",
    "result = 0\n",
    "for i in range(100):\n",
    "    for j in range(100):\n",
    "        count = board[i][j] + board[i][j + 1] + board[i + 1][j] + board[i + 1][j + 1]\n",
    "        if count == 4:\n",
    "            result += 1\n",
    "print(result)"
   ]
  },
  {
   "cell_type": "markdown",
   "metadata": {},
   "source": [
    "### 가르침 1062"
   ]
  },
  {
   "cell_type": "raw",
   "metadata": {},
   "source": [
    "만약 k가 4 이하라면 antic을 못배우므로 답은 0이 된다."
   ]
  },
  {
   "cell_type": "code",
   "execution_count": 68,
   "metadata": {},
   "outputs": [
    {
     "name": "stdout",
     "output_type": "stream",
     "text": [
      "5\n"
     ]
    }
   ],
   "source": [
    "from itertools import combinations\n",
    "\n",
    "def delete_antic(st):\n",
    "    st.discard('a')\n",
    "    st.discard('n')\n",
    "    st.discard('t')\n",
    "    st.discard('i')\n",
    "    st.discard('c')\n",
    "    return st\n",
    "\n",
    "n, k = map(int, input().split())\n",
    "li = [delete_antic(set(input())) for _ in range(n)]\n",
    "\n",
    "if k <= 4:\n",
    "    print(0)\n",
    "else:\n",
    "    base_count = 0\n",
    "    k -= 5\n",
    "    for i in range(n - 1, -1, -1):\n",
    "        if not li[i]:\n",
    "            base_count += 1\n",
    "            del li[i]\n",
    "    if not li:\n",
    "        print(base_count)\n",
    "    else:\n",
    "        need_to_learn = set()\n",
    "        for st in li:\n",
    "            need_to_learn |= st\n",
    "            \n",
    "        max_count = 0\n",
    "        c = combinations(need_to_learn, min(len(need_to_learn), k))\n",
    "        for case in c:\n",
    "            count = 0\n",
    "            case_st = set(case)\n",
    "            for st in li:\n",
    "                if not (st - case_st):\n",
    "                    count += 1\n",
    "            max_count = max(max_count, count)\n",
    "        print(max_count + base_count)"
   ]
  },
  {
   "cell_type": "markdown",
   "metadata": {},
   "source": [
    "### 행성 탐사 5549"
   ]
  },
  {
   "cell_type": "code",
   "execution_count": 80,
   "metadata": {},
   "outputs": [
    {
     "name": "stdout",
     "output_type": "stream",
     "text": [
      "4 7\n",
      "4\n",
      "JIOJOIJ\n",
      "IOJOIJO\n",
      "JOIJOOI\n",
      "OOJJIJO\n",
      "3 5 4 7\n",
      "1 3 2\n",
      "2 2 3 6\n",
      "3 5 2\n",
      "2 2 2 2\n",
      "0 1 0\n",
      "1 1 4 7\n",
      "10 11 7\n"
     ]
    }
   ],
   "source": [
    "# 맞았음\n",
    "import sys\n",
    "# input = lambda: sys.stdin.readline().rstrip()\n",
    "\n",
    "n, m = map(int, input().split())\n",
    "k = int(input())\n",
    "li = [list(input()) for _ in range(n)]\n",
    "d = {'J': 0, 'O': 1, 'I': 2}\n",
    "for i in range(n):\n",
    "    for j in range(m):\n",
    "        li[i][j] = d[li[i][j]]\n",
    "\n",
    "sums = [[[0, 0, 0] for _ in range(m)] for _ in range(n)] # sums[x][y] = [J 개수, O 개수, I 개수]\n",
    "for i in range(n):\n",
    "    for j in range(m):\n",
    "        if i - 1 >= 0:\n",
    "            for t in range(3):\n",
    "                sums[i][j][t] += sums[i - 1][j][t]\n",
    "        if j - 1 >= 0:\n",
    "            for t in range(3):\n",
    "                sums[i][j][t] += sums[i][j - 1][t]\n",
    "        if i - 1 >= 0 and j - 1 >= 0:\n",
    "            for t in range(3):\n",
    "                sums[i][j][t] -= sums[i - 1][j - 1][t]\n",
    "        sums[i][j][li[i][j]] += 1\n",
    "\n",
    "get_value = lambda x: int(x) - 1\n",
    "for _ in range(k):\n",
    "    a, b, c, d = map(get_value, input().split())\n",
    "    # (c, d) - (a - 1, d) - (c, b - 1) + (a - 1, b - 1)\n",
    "    counts = [0, 0, 0]\n",
    "    for t in range(3):\n",
    "        counts[t] += sums[c][d][t]\n",
    "    if a - 1 >= 0:\n",
    "        for t in range(3):\n",
    "            counts[t] -= sums[a - 1][d][t]\n",
    "    if b - 1 >= 0:\n",
    "        for t in range(3):\n",
    "            counts[t] -= sums[c][b - 1][t]\n",
    "    if a - 1 >= 0 and b - 1 >= 0:\n",
    "        for t in range(3):\n",
    "            counts[t] += sums[a - 1][b - 1][t]\n",
    "    counts = ' '.join(map(str, counts)) + '\\n'\n",
    "    print(counts)"
   ]
  },
  {
   "cell_type": "code",
   "execution_count": null,
   "metadata": {},
   "outputs": [],
   "source": [
    "# 맞았음, 효율성 개선함\n",
    "import sys\n",
    "# input = lambda: sys.stdin.readline().rstrip()\n",
    "\n",
    "n, m = map(int, input().split())\n",
    "k = int(input())\n",
    "li = [list(input()) for _ in range(n)]\n",
    "d = {'J': 0, 'O': 1, 'I': 2}\n",
    "\n",
    "sums = [[[0, 0] for _ in range(m + 1)] for _ in range(n + 1)] # sums[x][y] = [J 개수, O 개수]\n",
    "for i in range(1, n + 1):\n",
    "    for j in range(1, m + 1):\n",
    "        li[i - 1][j - 1] = d[li[i - 1][j - 1]]\n",
    "        for t in range(2):\n",
    "            sums[i][j][t] += sums[i - 1][j][t]\n",
    "            sums[i][j][t] += sums[i][j - 1][t]\n",
    "            sums[i][j][t] -= sums[i - 1][j - 1][t]\n",
    "        \n",
    "        if li[i - 1][j - 1] != 2:\n",
    "            sums[i][j][li[i - 1][j - 1]] += 1\n",
    "\n",
    "for _ in range(k):\n",
    "    a, b, c, d = map(int, input().split())\n",
    "    # (c, d) - (a - 1, d) - (c, b - 1) + (a - 1, b - 1)\n",
    "    counts = [0, 0]\n",
    "    for t in range(2):\n",
    "        counts[t] += sums[c][d][t]\n",
    "        counts[t] -= sums[a - 1][d][t]\n",
    "        counts[t] -= sums[c][b - 1][t]\n",
    "        counts[t] += sums[a - 1][b - 1][t]\n",
    "    counts.append((c - a + 1) * (d - b + 1) - counts[0] - counts[1])\n",
    "    print(*counts)"
   ]
  },
  {
   "cell_type": "code",
   "execution_count": 99,
   "metadata": {},
   "outputs": [
    {
     "name": "stdout",
     "output_type": "stream",
     "text": [
      "1 3 2\n",
      "3 5 2\n",
      "0 1 0\n",
      "10 11 7\n"
     ]
    }
   ],
   "source": [
    "# 맞았음, 효율성 개선 시도\n",
    "import sys\n",
    "# input = lambda: sys.stdin.readline().rstrip()\n",
    "\n",
    "n, m = map(int, input().split())\n",
    "k = int(input())\n",
    "li = [list(input()) for _ in range(n)]\n",
    "queries = [list(map(int, input().split())) for _ in range(k)]\n",
    "\n",
    "sums = [[{'J': 0, 'O': 0} for _ in range(m + 1)] for _ in range(n + 1)]\n",
    "for i in range(1, n + 1):\n",
    "    temp_sum = {'J': 0, 'O': 0}\n",
    "    for j in range(1, m + 1):\n",
    "        if li[i - 1][j - 1] != 'I': \n",
    "            temp_sum[li[i - 1][j - 1]] += 1\n",
    "        sums[i][j]['J'] += temp_sum['J'] + sums[i - 1][j]['J']\n",
    "        sums[i][j]['O'] += temp_sum['O'] + sums[i - 1][j]['O']\n",
    "\n",
    "for q in queries:\n",
    "    counts = {'J': 0, 'O': 0}\n",
    "    counts['J'] += sums[q[2]][q[3]]['J']\n",
    "    counts['J'] -= sums[q[0] - 1][q[3]]['J']\n",
    "    counts['J'] -= sums[q[2]][q[1] - 1]['J']\n",
    "    counts['J'] += sums[q[0] - 1][q[1] - 1]['J']\n",
    "    counts['O'] += sums[q[2]][q[3]]['O']\n",
    "    counts['O'] -= sums[q[0] - 1][q[3]]['O']\n",
    "    counts['O'] -= sums[q[2]][q[1] - 1]['O']\n",
    "    counts['O'] += sums[q[0] - 1][q[1] - 1]['O']\n",
    "    print(counts['J'], counts['O'], (q[2] - q[0] + 1) * (q[3] - q[1] + 1) - counts['J'] - counts['O'])"
   ]
  },
  {
   "cell_type": "markdown",
   "metadata": {},
   "source": [
    "### 겹치는 건 싫어 20922"
   ]
  },
  {
   "cell_type": "code",
   "execution_count": 115,
   "metadata": {},
   "outputs": [
    {
     "name": "stdout",
     "output_type": "stream",
     "text": [
      "9 2\n",
      "3 2 5 5 6 4 4 5 7\n",
      "7\n"
     ]
    }
   ],
   "source": [
    "from collections import defaultdict\n",
    "\n",
    "n, k = map(int, input().split())\n",
    "li = list(map(int, input().split()))\n",
    "\n",
    "d = defaultdict(int)\n",
    "s = 0\n",
    "e = 0\n",
    "max_len = 0\n",
    "while s <= e <= n - 1:\n",
    "    if d[li[e]] < k:\n",
    "        d[li[e]] += 1\n",
    "        max_len = max(max_len, e - s + 1)\n",
    "    else:\n",
    "        while li[s] != li[e]:\n",
    "            d[li[s]] -= 1\n",
    "            s += 1\n",
    "        s += 1\n",
    "    e += 1\n",
    "print(max_len)"
   ]
  },
  {
   "cell_type": "code",
   "execution_count": null,
   "metadata": {},
   "outputs": [],
   "source": [
    "10 2\n",
    "1 1 1 1 2 3 4 5 6 7\n",
    "8"
   ]
  },
  {
   "cell_type": "markdown",
   "metadata": {},
   "source": [
    "### 호석이 두 마리 치킨 21278"
   ]
  },
  {
   "cell_type": "raw",
   "metadata": {},
   "source": [
    "플로이드 워셜 + 브루트포스"
   ]
  },
  {
   "cell_type": "code",
   "execution_count": 125,
   "metadata": {},
   "outputs": [
    {
     "name": "stdout",
     "output_type": "stream",
     "text": [
      "1 2 6\n"
     ]
    }
   ],
   "source": [
    "import sys\n",
    "# input = lambda: sys.stdin.readline().rstrip()\n",
    "\n",
    "get_value = lambda x: int(x) - 1\n",
    "\n",
    "n, m = map(int, input().split())\n",
    "li = [[float('inf')] * n for _ in range(n)]\n",
    "for i in range(n):\n",
    "    li[i][i] = 0\n",
    "for _ in range(m):\n",
    "    a, b = map(get_value, input().split())\n",
    "    li[a][b] = 1\n",
    "    li[b][a] = 1\n",
    "    \n",
    "for mid in range(n):\n",
    "    for i in range(n):\n",
    "        for j in range(n):\n",
    "            li[i][j] = min(li[i][j], li[i][mid] + li[mid][j])\n",
    "\n",
    "min_dist = float('inf')\n",
    "ri = rj = 0\n",
    "for i in range(n - 2, -1, -1):\n",
    "    for j in range(n - 1, i, -1):\n",
    "        temp = 0\n",
    "        for k in range(n):\n",
    "            temp += min(li[i][k], li[j][k])\n",
    "        if temp <= min_dist:\n",
    "            min_dist = temp\n",
    "            ri = i\n",
    "            rj = j\n",
    "            \n",
    "print(ri + 1, rj + 1, min_dist * 2)"
   ]
  },
  {
   "cell_type": "markdown",
   "metadata": {},
   "source": [
    "### 최소 회의실 개수 19598"
   ]
  },
  {
   "cell_type": "code",
   "execution_count": null,
   "metadata": {},
   "outputs": [],
   "source": [
    "일찍 끝나고 일찍 시작하는 순으로 정렬함\n",
    "->\n",
    "일찍 시작하는 순으로 정렬함\n",
    "우선순위 큐는 끝나는 거를 넣음\n",
    "heap에서 꺼낸 것이 현재 시작하는 것보다 작거나 같으면 제거함"
   ]
  },
  {
   "cell_type": "code",
   "execution_count": 146,
   "metadata": {},
   "outputs": [
    {
     "name": "stdout",
     "output_type": "stream",
     "text": [
      "6\n",
      "1 3\n",
      "1 3\n",
      "1 3\n",
      "4 5\n",
      "2 6\n",
      "2 6\n",
      "3\n"
     ]
    }
   ],
   "source": [
    "# 틀렸음\n",
    "from collections import deque\n",
    "import sys\n",
    "# input = lambda: sys.stdin.readline().rstrip()\n",
    "\n",
    "n = int(input())\n",
    "li = [list(map(int, input().split())) for _ in range(n)]\n",
    "li.sort(key=lambda x: (x[1], x[0]))\n",
    "\n",
    "max_count = 1\n",
    "deq = deque()\n",
    "for i in range(n):\n",
    "    s, e = li[i]\n",
    "    if not deq:\n",
    "        deq.append(li[i])\n",
    "        continue\n",
    "    while True:\n",
    "        if deq and deq[0][1] <= s:\n",
    "            deq.popleft()\n",
    "        else:\n",
    "            break\n",
    "    deq.append(li[i])\n",
    "    max_count = max(max_count, len(deq))\n",
    "print(max_count)"
   ]
  },
  {
   "cell_type": "code",
   "execution_count": null,
   "metadata": {},
   "outputs": [],
   "source": [
    "6\n",
    "1 3\n",
    "1 3\n",
    "1 3\n",
    "4 5\n",
    "2 6\n",
    "2 6\n",
    "5"
   ]
  },
  {
   "cell_type": "code",
   "execution_count": 151,
   "metadata": {},
   "outputs": [
    {
     "name": "stdout",
     "output_type": "stream",
     "text": [
      "6\n",
      "2 4\n",
      "3 5\n",
      "4 6\n",
      "5 7\n",
      "6 8\n",
      "7 9\n",
      "2\n"
     ]
    }
   ],
   "source": [
    "# 맞았음\n",
    "from heapq import heappush, heappop\n",
    "import sys\n",
    "# input = lambda: sys.stdin.readline().rstrip()\n",
    "\n",
    "n = int(input())\n",
    "li = [list(map(int, input().split())) for _ in range(n)]\n",
    "li.sort()\n",
    "\n",
    "max_count = 1\n",
    "heap = []\n",
    "for i in range(n):\n",
    "    s, e = li[i]\n",
    "    while heap:\n",
    "        value = heappop(heap)\n",
    "        if value > s:\n",
    "            heappush(heap, value)\n",
    "            break\n",
    "    heappush(heap, e)\n",
    "    max_count = max(max_count, len(heap))\n",
    "    \n",
    "print(max_count)"
   ]
  },
  {
   "cell_type": "markdown",
   "metadata": {},
   "source": [
    "### 먹을 것인가 먹힐 것인가 7795"
   ]
  },
  {
   "cell_type": "code",
   "execution_count": 185,
   "metadata": {},
   "outputs": [
    {
     "name": "stdout",
     "output_type": "stream",
     "text": [
      "1\n",
      "3 4\n",
      "2 13 7\n",
      "103 11 290 215\n",
      "1\n"
     ]
    }
   ],
   "source": [
    "import sys\n",
    "# input = lambda: sys.stdin.readline().rstrip()\n",
    "\n",
    "for _ in range(int(input())):\n",
    "    a, b = map(int, input().split())\n",
    "    A = sorted(map(int, input().split()), reverse=True)\n",
    "    B = sorted(map(int, input().split()), reverse=True)\n",
    "\n",
    "    count = 0\n",
    "    bi = 0\n",
    "    for ai in range(a):\n",
    "        while bi < b:\n",
    "            if A[ai] <= B[bi]:\n",
    "                bi += 1\n",
    "            else:\n",
    "                break\n",
    "        else:\n",
    "            continue\n",
    "        count += b - bi\n",
    "\n",
    "    print(count)"
   ]
  },
  {
   "cell_type": "markdown",
   "metadata": {},
   "source": [
    "### 사과나무 20002"
   ]
  },
  {
   "cell_type": "raw",
   "metadata": {},
   "source": [
    "누적합 구한 후 모든 영역 브루트포스\n",
    "->\n",
    "누적합 구한 후 필요 영역들만 확인"
   ]
  },
  {
   "cell_type": "code",
   "execution_count": 32,
   "metadata": {},
   "outputs": [
    {
     "name": "stdout",
     "output_type": "stream",
     "text": [
      "45\n"
     ]
    }
   ],
   "source": [
    "n = int(input())\n",
    "li = [list(map(int, input().split())) for _ in range(n)]\n",
    "\n",
    "sums = [[0] * (n + 1) for _ in range(n + 1)]\n",
    "for i in range(1, n + 1):\n",
    "    temp = 0\n",
    "    for j in range(1, n + 1):\n",
    "        temp += li[i - 1][j - 1]\n",
    "        sums[i][j] = sums[i - 1][j] + temp\n",
    "        \n",
    "get_area_sum = lambda ax, ay, bx, by: sums[bx][by] - sums[ax - 1][by] - sums[bx][ay - 1] + sums[ax - 1][ay - 1]\n",
    "max_value = -float('inf')\n",
    "for ax in range(1, n + 1):\n",
    "    for ay in range(1, n + 1):\n",
    "        bx, by = ax, ay\n",
    "        while True:\n",
    "            max_value = max(max_value, get_area_sum(ax, ay, bx, by))\n",
    "            bx += 1\n",
    "            by += 1\n",
    "            if bx >= n + 1 or by >= n + 1:\n",
    "                break\n",
    "    \n",
    "print(max_value)"
   ]
  }
 ],
 "metadata": {
  "kernelspec": {
   "display_name": "Python 3",
   "language": "python",
   "name": "python3"
  },
  "language_info": {
   "codemirror_mode": {
    "name": "ipython",
    "version": 3
   },
   "file_extension": ".py",
   "mimetype": "text/x-python",
   "name": "python",
   "nbconvert_exporter": "python",
   "pygments_lexer": "ipython3",
   "version": "3.7.3"
  }
 },
 "nbformat": 4,
 "nbformat_minor": 4
}
