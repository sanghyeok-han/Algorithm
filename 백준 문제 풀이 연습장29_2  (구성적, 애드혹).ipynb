{
 "cells": [
  {
   "cell_type": "markdown",
   "metadata": {},
   "source": [
    "## Boys and Girls 13474"
   ]
  },
  {
   "cell_type": "code",
   "execution_count": null,
   "metadata": {},
   "outputs": [],
   "source": [
    "생성 가능 케이스가 좌우 대칭임을 확인했음"
   ]
  },
  {
   "cell_type": "code",
   "execution_count": null,
   "metadata": {},
   "outputs": [],
   "source": [
    "n, x, y = map(int, input().split())"
   ]
  },
  {
   "cell_type": "code",
   "execution_count": 18,
   "metadata": {},
   "outputs": [
    {
     "name": "stdout",
     "output_type": "stream",
     "text": [
      "0\n",
      "1 1\n"
     ]
    }
   ],
   "source": [
    "s = 'GB'\n",
    "n = len(s)\n",
    "\n",
    "bc = 0\n",
    "gc = 0\n",
    "for i in range(n):\n",
    "    if s[(i - 1) % n] == 'B' or s[(i + 1) % n] == 'B':\n",
    "        print(i)\n",
    "        bc += 1\n",
    "    if s[(i - 1) % n] == 'G' or s[(i + 1) % n] == 'G':\n",
    "        gc += 1 \n",
    "        \n",
    "print(bc, gc)"
   ]
  },
  {
   "cell_type": "markdown",
   "metadata": {},
   "source": [
    "### 생성 가능 케이스 검사"
   ]
  },
  {
   "cell_type": "code",
   "execution_count": null,
   "metadata": {},
   "outputs": [],
   "source": [
    "층수\n",
    "      5 6 7 8 9 10\n",
    "      2 2 3 3 4 4\n",
    "\n",
    "대각선 여부\n",
    "2 3 4 5 6 7 8 9 10\n",
    "O X O X O X O X O\n",
    "-> 2의 배수\n",
    "\n",
    "맨 끄트머리 (n * n) 여부\n",
    "2 3 4 5 6 7 8 9 10 11 12\n",
    "X X O X X X O X  X  X O\n",
    "-> 4의 배수\n",
    "\n",
    "대각선이 없을 때는 대각선으로 1칸 건너뛰는 경우가 없고\n",
    "대각선이 있을 때는 대각선 가장 위쪽으로 한 칸 건너뛰어서 존재하는게 있음"
   ]
  },
  {
   "cell_type": "code",
   "execution_count": 369,
   "metadata": {},
   "outputs": [
    {
     "name": "stdout",
     "output_type": "stream",
     "text": [
      "[' 0', ' 0', ' 0', ' 0', ' 0', ' 0', ' 0', ' 0', ' 0', ' 0', ' 0', ' 0', ' 0', ' 0', '14']\n",
      "[' 0', ' 0', ' 0', ' 0', ' 0', ' 0', ' 0', ' 0', ' 0', ' 0', ' 0', ' 0', ' 0', ' 0', ' 0']\n",
      "[' 0', ' 0', ' 0', ' 0', ' 0', ' 0', ' 0', ' 0', ' 0', ' 0', ' 0', ' 0', ' 0', ' 0', '14']\n",
      "[' 0', ' 0', ' 0', ' 0', ' 0', ' 0', ' 0', ' 0', ' 0', ' 0', ' 0', ' 0', ' 0', '14', ' 0']\n",
      "[' 0', ' 0', ' 0', ' 0', ' 0', ' 0', ' 0', ' 0', ' 0', ' 0', ' 0', ' 0', '14', ' 0', '14']\n",
      "[' 0', ' 0', ' 0', ' 0', ' 0', ' 0', ' 0', ' 0', ' 0', ' 0', ' 0', '14', ' 0', '14', ' 0']\n",
      "[' 0', ' 0', ' 0', ' 0', ' 0', ' 0', ' 0', ' 0', ' 0', ' 0', '14', ' 0', '14', ' 0', '14']\n",
      "[' 0', ' 0', ' 0', ' 0', ' 0', ' 0', ' 0', '14', ' 0', '14', ' 0', '14', ' 0', '14', ' 0']\n",
      "[' 0', ' 0', ' 0', ' 0', ' 0', ' 0', ' 0', ' 0', ' 0', ' 0', '14', ' 0', '14', ' 0', '14']\n",
      "[' 0', ' 0', ' 0', ' 0', ' 0', ' 0', ' 0', '14', ' 0', '14', ' 0', '14', ' 0', '14', ' 0']\n",
      "[' 0', ' 0', ' 0', ' 0', ' 0', ' 0', '14', ' 0', '14', ' 0', '14', ' 0', '14', ' 0', '14']\n",
      "[' 0', ' 0', ' 0', ' 0', ' 0', '14', ' 0', '14', ' 0', '14', ' 0', '14', ' 0', '14', ' 0']\n",
      "[' 0', ' 0', ' 0', ' 0', '14', ' 0', '14', ' 0', '14', ' 0', '14', ' 0', '14', ' 0', '14']\n",
      "[' 0', ' 0', ' 0', '14', ' 0', '14', ' 0', '14', ' 0', '14', ' 0', '14', ' 0', '14', ' 0']\n",
      "['14', ' 0', '14', ' 0', '14', ' 0', '14', ' 0', '14', ' 0', '14', ' 0', '14', ' 0', ' 0']\n"
     ]
    }
   ],
   "source": [
    "from itertools import product\n",
    "\n",
    "max_num = 14\n",
    "ps = [[0] * (max_num + 1) for _ in range(max_num + 1)]\n",
    "for n in range(max_num, max_num + 1): \n",
    "    for case in product(*[range(2)] * n):\n",
    "        bc = 0\n",
    "        gc = 0\n",
    "        for i in range(n):\n",
    "            if case[(i - 1) % n] == 0 or case[(i + 1) % n] == 0:\n",
    "                bc += 1\n",
    "            if case[(i - 1) % n] == 1 or case[(i + 1) % n] == 1:\n",
    "                gc += 1 \n",
    "#         ps[bc][gc] = n        \n",
    "        if not ps[bc][gc]:\n",
    "            ps[bc][gc] = n\n",
    "            \n",
    "s = str(max_num)\n",
    "ls = len(s)\n",
    "\n",
    "for i in range(max_num + 1):\n",
    "    for j in range(max_num + 1):\n",
    "        ps[i][j] = str(ps[i][j]).rjust(ls, ' ')\n",
    "        \n",
    "for v in ps:\n",
    "    print(v)"
   ]
  },
  {
   "cell_type": "markdown",
   "metadata": {},
   "source": [
    "### 케이스 검사"
   ]
  },
  {
   "cell_type": "code",
   "execution_count": 346,
   "metadata": {},
   "outputs": [],
   "source": [
    "max_num = 16\n",
    "\n",
    "ps = [[set() for _ in range(max_num + 1)] for _ in range(max_num + 1)]\n",
    "for n in range(max_num, max_num + 1): \n",
    "    for case in product(*[range(2)] * n):\n",
    "        bc = 0\n",
    "        gc = 0\n",
    "        for i in range(n):\n",
    "            if case[(i - 1) % n] == 0 or case[(i + 1) % n] == 0:\n",
    "                bc += 1\n",
    "            if case[(i - 1) % n] == 1 or case[(i + 1) % n] == 1:\n",
    "                gc += 1 \n",
    "            \n",
    "        ps[bc][gc].add(''.join(list(map(str, case))))\n",
    "        \n",
    "# for i in range(max_num + 1):\n",
    "#     for j in range(max_num + 1):\n",
    "#         ps[i][j] = ' '.join(sorted(map(str, ps[i][j])))\n",
    "#         if not ps[i][j].strip():\n",
    "#             ps[i][j] = ' ' * max_num\n",
    "        \n",
    "# print(ps[6][4])"
   ]
  },
  {
   "cell_type": "code",
   "execution_count": null,
   "metadata": {},
   "outputs": [],
   "source": [
    "print(ps[10][10])"
   ]
  },
  {
   "cell_type": "markdown",
   "metadata": {},
   "source": [
    "### 케이스 전수 검사"
   ]
  },
  {
   "cell_type": "code",
   "execution_count": 29,
   "metadata": {},
   "outputs": [],
   "source": [
    "from itertools import product\n",
    "\n",
    "li = [set() for _ in range(10)]\n",
    "for n in range(2, 9): \n",
    "    for case in product(*[range(2)] * n):\n",
    "        bc = 0\n",
    "        gc = 0\n",
    "        for i in range(n):\n",
    "            if case[(i - 1) % n] == 0 or case[(i + 1) % n] == 0:\n",
    "                bc += 1\n",
    "            if case[(i - 1) % n] == 1 or case[(i + 1) % n] == 1:\n",
    "                gc += 1 \n",
    "            \n",
    "        li[n].add((bc, gc))"
   ]
  },
  {
   "cell_type": "markdown",
   "metadata": {},
   "source": [
    "### n이 7 이하일 때는 전수 조사해보기"
   ]
  },
  {
   "cell_type": "code",
   "execution_count": 335,
   "metadata": {},
   "outputs": [
    {
     "name": "stdout",
     "output_type": "stream",
     "text": [
      "16 10 8\n",
      "BBBGBGBGBGBGBGBG\n"
     ]
    }
   ],
   "source": [
    "n, x, y = map(int, input().split())\n",
    "\n",
    "is_reversed = False\n",
    "if x < y:\n",
    "    is_reversed = True\n",
    "    x, y = y, x\n",
    "\n",
    "r = ''\n",
    "for case in product(*[range(2)] * n):\n",
    "    bc = 0\n",
    "    gc = 0\n",
    "    for i in range(n):\n",
    "        if case[(i - 1) % n] == 0 or case[(i + 1) % n] == 0:\n",
    "            bc += 1\n",
    "        if case[(i - 1) % n] == 1 or case[(i + 1) % n] == 1:\n",
    "            gc += 1 \n",
    "\n",
    "    if bc == x and gc == y:\n",
    "        r = case\n",
    "        break\n",
    "        \n",
    "rr = ''\n",
    "for v in r:\n",
    "    if is_reversed:\n",
    "        v ^= 1\n",
    "    if v == 0:\n",
    "        rr += 'B'\n",
    "    else:\n",
    "        rr += 'G'\n",
    "        \n",
    "if rr:\n",
    "    print(rr)\n",
    "else:\n",
    "    print('Impossible')"
   ]
  },
  {
   "cell_type": "code",
   "execution_count": 342,
   "metadata": {},
   "outputs": [
    {
     "name": "stdout",
     "output_type": "stream",
     "text": [
      "6 4 4\n",
      "Impossible\n"
     ]
    }
   ],
   "source": [
    "from itertools import product\n",
    "\n",
    "n, x, y = map(int, input().split())\n",
    "\n",
    "is_reversed = False\n",
    "if x < y:\n",
    "    is_reversed = True\n",
    "    x, y = y, x\n",
    "\n",
    "if n <= 7:\n",
    "    r = ''\n",
    "    for case in product(*[range(2)] * n):\n",
    "        bc = 0\n",
    "        gc = 0\n",
    "        for i in range(n):\n",
    "            if case[(i - 1) % n] == 0 or case[(i + 1) % n] == 0:\n",
    "                bc += 1\n",
    "            if case[(i - 1) % n] == 1 or case[(i + 1) % n] == 1:\n",
    "                gc += 1 \n",
    "\n",
    "        if bc == x and gc == y:\n",
    "            r = case\n",
    "            break\n",
    "\n",
    "    rr = ''\n",
    "    for v in r:\n",
    "        if is_reversed:\n",
    "            v ^= 1\n",
    "        if v == 0:\n",
    "            rr += 'B'\n",
    "        else:\n",
    "            rr += 'G'\n",
    "\n",
    "    if rr:\n",
    "        print(rr)\n",
    "    else:\n",
    "        print('Impossible')\n",
    "else:\n",
    "    ip = True\n",
    "    case = []\n",
    "    cur = []\n",
    "    if n % 2 == 0 and x == y == n // 2:\n",
    "        case = [1] * (n // 2)\n",
    "    elif x == y == n // 2 + 1:\n",
    "        ip = False\n",
    "    elif x <= n - (n - 1) // 2:\n",
    "        ip = False\n",
    "    elif x == n and y == 0:\n",
    "        case = []\n",
    "    elif n % 2 == 0 and (x + y) % 2 == 1 or n % 2 == 1 and (x + y) % 2 == 0:\n",
    "        ip = False\n",
    "    elif n >= 10 and (n - 10) % 4 == 0 and x == n and y == n:\n",
    "        ip = False\n",
    "    else:\n",
    "        to_move = n - x\n",
    "        ox, oy = x, y\n",
    "\n",
    "        x += to_move\n",
    "        y -= to_move\n",
    "\n",
    "        if y <= 0 or y % 2 == 1:\n",
    "            ip = False\n",
    "        elif y == 2:\n",
    "            case = [1] * (to_move + 1)\n",
    "        elif y == 4:\n",
    "            case = [2 + to_move]\n",
    "        else:\n",
    "            cur = [1]\n",
    "            cur_y = 2\n",
    "\n",
    "            while cur_y < y:\n",
    "                if cur[-1] == 1:\n",
    "                    cur[-1] = 2\n",
    "                else:\n",
    "                    cur.append(1)\n",
    "                cur_y += 2\n",
    "\n",
    "            cur[0] += to_move\n",
    "\n",
    "    if not ip:\n",
    "        print('Impossible')\n",
    "    else:\n",
    "        if cur:\n",
    "            r = ''\n",
    "            lc = len(cur)\n",
    "\n",
    "            if not is_reversed:\n",
    "                for i in range(lc):\n",
    "                    v = cur[i]\n",
    "                    r += 'G' * v\n",
    "                    if i != lc - 1:\n",
    "                        r += 'B' * 2\n",
    "                r += 'B' * (n - len(r))\n",
    "            else:\n",
    "                for i in range(lc):\n",
    "                    v = cur[i]\n",
    "                    r += 'B' * v\n",
    "                    if i != lc - 1:\n",
    "                        r += 'G' * 2\n",
    "                r += 'G' * (n - len(r))\n",
    "\n",
    "            print(r)\n",
    "        else:\n",
    "            r = []\n",
    "            lc = len(case)\n",
    "\n",
    "            if not is_reversed:\n",
    "                for i in range(lc):\n",
    "                    v = case[i]\n",
    "                    r += 'G' * v\n",
    "                    if i != lc - 1:\n",
    "                        r += 'B' * 1\n",
    "                r += 'B' * (n - len(r))\n",
    "            else:\n",
    "                for i in range(lc):\n",
    "                    v = case[i]\n",
    "                    r += 'B' * v\n",
    "                    if i != lc - 1:\n",
    "                        r += 'G' * 1\n",
    "                r += 'G' * (n - len(r))\n",
    "\n",
    "            print(''.join(r))"
   ]
  },
  {
   "cell_type": "markdown",
   "metadata": {},
   "source": [
    "### 디버깅용"
   ]
  },
  {
   "cell_type": "code",
   "execution_count": 370,
   "metadata": {},
   "outputs": [],
   "source": [
    "def to_debug(n, x, y):\n",
    "    is_reversed = False\n",
    "    if x < y:\n",
    "        is_reversed = True\n",
    "        x, y = y, x\n",
    "\n",
    "    if n <= 7:\n",
    "        r = ''\n",
    "        for case in product(*[range(2)] * n):\n",
    "            bc = 0\n",
    "            gc = 0\n",
    "            for i in range(n):\n",
    "                if case[(i - 1) % n] == 0 or case[(i + 1) % n] == 0:\n",
    "                    bc += 1\n",
    "                if case[(i - 1) % n] == 1 or case[(i + 1) % n] == 1:\n",
    "                    gc += 1 \n",
    "\n",
    "            if bc == x and gc == y:\n",
    "                r = case\n",
    "                break\n",
    "\n",
    "        rr = ''\n",
    "        for v in r:\n",
    "            if is_reversed:\n",
    "                v ^= 1\n",
    "            if v == 0:\n",
    "                rr += 'B'\n",
    "            else:\n",
    "                rr += 'G'\n",
    "\n",
    "        if rr:\n",
    "            return rr\n",
    "        else:\n",
    "            return 'Impossible'\n",
    "    else:\n",
    "        ip = True\n",
    "        case = []\n",
    "        cur = []\n",
    "        if n % 2 == 0 and x == y == n // 2:\n",
    "            case = [1] * (n // 2)\n",
    "        elif x == y == n // 2 + 1:\n",
    "            ip = False\n",
    "        elif x <= n - (n - 1) // 2:\n",
    "            ip = False\n",
    "        elif x == n and y == 0:\n",
    "            case = []\n",
    "        elif n % 2 == 0 and (x + y) % 2 == 1 or n % 2 == 1 and (x + y) % 2 == 0:\n",
    "            ip = False\n",
    "        elif n >= 10 and (n - 10) % 4 == 0 and x == n and y == n:\n",
    "            ip = False\n",
    "        else:\n",
    "            to_move = n - x\n",
    "            ox, oy = x, y\n",
    "\n",
    "            x += to_move\n",
    "            y -= to_move\n",
    "\n",
    "            if y <= 0 or y % 2 == 1:\n",
    "                ip = False\n",
    "            elif y == 2:\n",
    "                case = [1] * (to_move + 1)\n",
    "            elif y == 4:\n",
    "                case = [2 + to_move]\n",
    "            else:\n",
    "                cur = [1]\n",
    "                cur_y = 2\n",
    "\n",
    "                while cur_y < y:\n",
    "                    if cur[-1] == 1:\n",
    "                        cur[-1] = 2\n",
    "                    else:\n",
    "                        cur.append(1)\n",
    "                    cur_y += 2\n",
    "\n",
    "                cur[0] += to_move\n",
    "\n",
    "        if not ip:\n",
    "            return 'Impossible'\n",
    "        else:\n",
    "            if cur:\n",
    "                r = ''\n",
    "                lc = len(cur)\n",
    "\n",
    "                if not is_reversed:\n",
    "                    for i in range(lc):\n",
    "                        v = cur[i]\n",
    "                        r += 'G' * v\n",
    "                        if i != lc - 1:\n",
    "                            r += 'B' * 2\n",
    "                    r += 'B' * (n - len(r))\n",
    "                else:\n",
    "                    for i in range(lc):\n",
    "                        v = cur[i]\n",
    "                        r += 'B' * v\n",
    "                        if i != lc - 1:\n",
    "                            r += 'G' * 2\n",
    "                    r += 'G' * (n - len(r))\n",
    "\n",
    "                return r\n",
    "            else:\n",
    "                r = []\n",
    "                lc = len(case)\n",
    "\n",
    "                if not is_reversed:\n",
    "                    for i in range(lc):\n",
    "                        v = case[i]\n",
    "                        r += 'G' * v\n",
    "                        if i != lc - 1:\n",
    "                            r += 'B' * 1\n",
    "                    r += 'B' * (n - len(r))\n",
    "                else:\n",
    "                    for i in range(lc):\n",
    "                        v = case[i]\n",
    "                        r += 'B' * v\n",
    "                        if i != lc - 1:\n",
    "                            r += 'G' * 1\n",
    "                    r += 'G' * (n - len(r))\n",
    "\n",
    "                return ''.join(r)"
   ]
  },
  {
   "cell_type": "code",
   "execution_count": 374,
   "metadata": {},
   "outputs": [],
   "source": [
    "for n in range(2, 15):\n",
    "    max_num = n\n",
    "    ps = [[set() for _ in range(max_num + 1)] for _ in range(max_num + 1)]\n",
    "    for n in range(max_num, max_num + 1): \n",
    "        for case in product(*[range(2)] * n):\n",
    "            bc = 0\n",
    "            gc = 0\n",
    "            for i in range(n):\n",
    "                if case[(i - 1) % n] == 0 or case[(i + 1) % n] == 0:\n",
    "                    bc += 1\n",
    "                if case[(i - 1) % n] == 1 or case[(i + 1) % n] == 1:\n",
    "                    gc += 1 \n",
    "\n",
    "            ps[bc][gc].add(''.join(list(map(str, case))))    \n",
    "    \n",
    "    for x in range(n + 1):\n",
    "        for y in range(n + 1):\n",
    "            r = to_debug(n, x, y)\n",
    "            rr = ''\n",
    "\n",
    "            if r == 'Impossible':\n",
    "                rr = ''\n",
    "            else:\n",
    "                for v in r:\n",
    "                    if v == 'G':\n",
    "                        rr += '1'\n",
    "                    else:\n",
    "                        rr += '0'\n",
    "\n",
    "            if not rr and not ps[x][y]:\n",
    "                pass\n",
    "            elif not rr and ps[x][y]:\n",
    "                print(1, n, x, y)\n",
    "            elif rr and not ps[x][y]:\n",
    "                print(2, n, x, y)\n",
    "            elif rr not in ps[x][y]:\n",
    "                print(3, n, x, y)"
   ]
  },
  {
   "cell_type": "markdown",
   "metadata": {},
   "source": [
    "## 텔레점프 3999"
   ]
  },
  {
   "cell_type": "code",
   "execution_count": 234,
   "metadata": {},
   "outputs": [],
   "source": [
    "from itertools import permutations as perm\n",
    "from collections import defaultdict as dd\n",
    "\n",
    "n = 9\n",
    "\n",
    "d = dd(set)\n",
    "cases = perm(range(1, n))\n",
    "st = set()\n",
    "for case in cases:    \n",
    "    moves = [0, 0, 0]\n",
    "    cur = 0\n",
    "    ip = True\n",
    "    temp = []\n",
    "    for v in case:\n",
    "        t = abs(cur - v)\n",
    "        if 1 <= t <= 3:\n",
    "            temp.append(v - cur)\n",
    "            moves[t - 1] += 1\n",
    "        else:\n",
    "            ip = False\n",
    "            break\n",
    "        cur = v\n",
    "    if ip:\n",
    "        st.add(tuple(moves))\n",
    "        moves = tuple(moves)\n",
    "        temp = tuple(temp)\n",
    "        d[moves].add(temp)"
   ]
  },
  {
   "cell_type": "code",
   "execution_count": 228,
   "metadata": {},
   "outputs": [
    {
     "name": "stdout",
     "output_type": "stream",
     "text": [
      "(0, 3, 5)\n",
      "(0, 4, 4)\n",
      "(0, 5, 3)\n",
      "(1, 1, 6)\n",
      "(1, 2, 5)\n",
      "(1, 3, 4)\n",
      "(1, 4, 3)\n",
      "(1, 5, 2)\n",
      "(1, 6, 1)\n",
      "(1, 7, 0)\n",
      "(2, 0, 6)\n",
      "(2, 1, 5)\n",
      "(2, 2, 4)\n",
      "(2, 3, 3)\n",
      "(2, 4, 2)\n",
      "(2, 5, 1)\n",
      "(2, 6, 0)\n",
      "(3, 0, 5)\n",
      "(3, 1, 4)\n",
      "(3, 2, 3)\n",
      "(3, 3, 2)\n",
      "(3, 4, 1)\n",
      "(3, 5, 0)\n",
      "(4, 0, 4)\n",
      "(4, 1, 3)\n",
      "(4, 2, 2)\n",
      "(4, 3, 1)\n",
      "(4, 4, 0)\n",
      "(5, 0, 3)\n",
      "(5, 1, 2)\n",
      "(5, 2, 1)\n",
      "(5, 3, 0)\n",
      "(6, 0, 2)\n",
      "(6, 1, 1)\n",
      "(6, 2, 0)\n",
      "(7, 0, 1)\n",
      "(7, 1, 0)\n",
      "(8, 0, 0)\n"
     ]
    }
   ],
   "source": [
    "for v in sorted(st):\n",
    "    print(v)"
   ]
  },
  {
   "cell_type": "code",
   "execution_count": 235,
   "metadata": {},
   "outputs": [
    {
     "data": {
      "text/plain": [
       "{(1, 2, 2, 2, 1, -2, -2, -2), (2, -1, 2, 2, 2, 1, -2, -2)}"
      ]
     },
     "execution_count": 235,
     "metadata": {},
     "output_type": "execute_result"
    }
   ],
   "source": []
  },
  {
   "cell_type": "code",
   "execution_count": 221,
   "metadata": {},
   "outputs": [
    {
     "name": "stdout",
     "output_type": "stream",
     "text": [
      "(0, 3, 4)\n",
      "(2, 3, 2, -3, -3, 2, 3)\n",
      "\n",
      "(0, 4, 3)\n",
      "(2, 3, 2, -3, 2, -3, -2)\n",
      "\n",
      "(1, 2, 4)\n",
      "(2, 3, -2, 3, 1, -3, -3)\n",
      "(3, 3, -2, 3, -2, -3, -1)\n",
      "(2, 3, 1, -3, -2, 3, 3)\n",
      "(3, 3, 1, -2, -3, 2, -3)\n",
      "(3, 3, -2, -3, 1, 3, 2)\n",
      "\n",
      "(1, 3, 3)\n",
      "(3, -2, 3, -2, 3, 2, -1)\n",
      "(1, 2, 3, -2, 3, -2, -3)\n",
      "(2, 3, -2, -2, 3, 3, -1)\n",
      "(2, -1, 3, 3, -2, -2, 3)\n",
      "(3, -2, 3, 2, 1, -2, -3)\n",
      "(3, -2, 1, 3, 2, -3, 2)\n",
      "(2, 3, 2, -1, -3, -2, 3)\n",
      "\n",
      "(1, 4, 2)\n",
      "(1, 2, 3, -2, -2, 3, 2)\n",
      "(2, 2, -3, 2, 3, -1, 2)\n",
      "(2, 3, -2, -2, 3, 2, 1)\n",
      "(2, 3, 2, -1, -2, -3, 2)\n",
      "(2, -1, 2, 3, -2, 3, -2)\n",
      "(2, 2, 3, -2, 1, -3, -2)\n",
      "(2, -1, 3, 2, -3, 2, 2)\n",
      "(2, 2, -3, 2, 3, 1, -2)\n",
      "\n",
      "(1, 5, 1)\n",
      "(2, 2, -3, 2, 2, 2, -1)\n",
      "(2, -1, 2, 2, 2, -3, 2)\n",
      "\n",
      "(1, 6, 0)\n",
      "(2, 2, 2, 1, -2, -2, -2)\n",
      "\n",
      "(2, 0, 5)\n",
      "(3, 3, -1, -3, -1, 3, 3)\n",
      "(3, 3, 1, -3, -3, 1, 3)\n",
      "\n",
      "(2, 1, 4)\n",
      "(1, 3, 3, -1, -3, 2, -3)\n",
      "(3, -2, 3, 3, -1, -1, -3)\n",
      "(1, 3, 3, -2, -3, 1, 3)\n",
      "(3, 3, -1, 2, -3, -3, 1)\n",
      "(3, 3, 1, -2, -3, -1, 3)\n",
      "(3, 2, -3, -1, 3, 3, -1)\n",
      "\n",
      "(2, 2, 3)\n",
      "(2, 3, -1, 3, -1, -3, -2)\n",
      "(1, 3, -2, 3, -2, 3, 1)\n",
      "(2, 1, 3, -1, 2, -3, -3)\n",
      "(1, 2, 3, -1, -3, 2, 3)\n",
      "(2, -1, 3, 3, -1, -3, 2)\n",
      "(1, 1, 3, 2, -3, 2, -3)\n",
      "(2, 3, -1, -3, 2, 3, 1)\n",
      "(1, 3, 2, -3, -1, 3, 2)\n",
      "(3, 2, -3, -1, 3, 2, 1)\n",
      "(1, 1, 3, -2, 3, -2, 3)\n",
      "(2, 3, 1, 1, -3, -3, 2)\n",
      "(1, 2, 3, 1, -3, -2, 3)\n",
      "(3, -2, 1, 3, 1, -2, 3)\n",
      "(1, 3, -2, 3, 2, -1, -3)\n",
      "(3, -2, 3, -2, 3, 1, 1)\n",
      "(3, -1, 3, 2, -1, -2, -3)\n",
      "(2, 3, 2, -1, -3, 1, -3)\n",
      "(3, 3, -1, 2, -3, -2, -1)\n",
      "(2, -1, 3, 3, -2, 1, -3)\n",
      "\n",
      "(2, 3, 2)\n",
      "(1, 1, 2, 3, -2, -2, 3)\n",
      "(1, 2, -1, 3, 2, -3, 2)\n",
      "(3, -2, 1, 2, 3, -2, 1)\n",
      "(3, 2, 2, -1, -2, -3, 1)\n",
      "(2, 1, -2, 3, 3, -2, 1)\n",
      "(1, 2, 3, -1, 2, -3, -2)\n",
      "(1, 2, 3, 1, -2, -3, 2)\n",
      "(1, 2, 2, -3, 2, 3, -1)\n",
      "(3, -2, 1, 3, 2, -1, -2)\n",
      "(2, -1, 2, 3, -1, 2, -3)\n",
      "\n",
      "(2, 4, 1)\n",
      "(2, 2, 3, -1, -1, -2, -2)\n",
      "(2, -1, 2, 2, 1, -2, 3)\n",
      "(1, 2, 2, -3, 2, 2, 1)\n",
      "(2, 3, 2, -1, -2, -1, -2)\n",
      "(2, 2, -3, 2, 2, 1, 1)\n",
      "(3, -2, 1, 2, 2, -1, 2)\n",
      "(3, -2, 1, 2, 2, 1, -2)\n",
      "(1, 1, 2, 2, -3, 2, 2)\n",
      "(3, 2, 2, -1, -2, -2, -1)\n",
      "(2, 2, 1, 2, -1, -3, -2)\n",
      "(2, -1, 2, 3, -2, 1, 2)\n",
      "(2, 1, -2, 3, 2, 1, -2)\n",
      "(2, 1, -2, 3, 2, -1, 2)\n",
      "(2, 1, 2, 2, -1, -2, -3)\n",
      "(2, -1, 3, 2, 1, -2, -2)\n",
      "\n",
      "(2, 5, 0)\n",
      "(2, -1, 2, 2, 2, -1, -2)\n",
      "(1, 2, 2, 2, -1, -2, -2)\n",
      "\n",
      "(3, 0, 4)\n",
      "(1, 3, 3, -1, -3, -1, 3)\n",
      "(3, 3, 1, -3, 1, -3, -1)\n",
      "(3, -1, 3, 1, 1, -3, -3)\n",
      "\n",
      "(3, 1, 3)\n",
      "(1, 3, -1, 3, 1, -2, -3)\n",
      "(3, 3, 1, -2, -1, -3, 1)\n",
      "(1, 2, 3, 1, -3, 1, -3)\n",
      "(1, 1, 3, 2, -3, -1, 3)\n",
      "(3, -2, 1, 3, -1, 3, -1)\n",
      "(3, -2, 1, 3, 1, 1, -3)\n",
      "(3, 2, 1, 1, -3, -3, 1)\n",
      "(3, -1, -1, 3, 3, -2, 1)\n",
      "(1, 3, 3, -2, 1, -3, -1)\n",
      "(3, 1, -3, 1, 3, 2, -1)\n",
      "(1, 1, 3, -2, 3, 1, -3)\n",
      "\n",
      "(3, 2, 2)\n",
      "(2, -1, 3, -1, 3, -1, 2)\n",
      "(3, 3, 1, -2, -1, -2, -1)\n",
      "(2, 3, 1, 1, -3, -1, -2)\n",
      "(1, 1, 2, 3, -2, 1, -3)\n",
      "(1, 3, 2, 1, -2, -3, 1)\n",
      "(3, -1, -1, 3, 2, 1, -2)\n",
      "(1, 1, 2, 3, -1, -3, 2)\n",
      "(2, -1, 3, 3, -1, -1, -2)\n",
      "(2, -1, 3, -1, 3, 1, -2)\n",
      "(2, -1, 3, 1, -2, 3, 1)\n",
      "(2, 1, 3, 1, -2, -1, -3)\n",
      "(3, 1, 2, 1, -2, -3, -1)\n",
      "(3, -2, 1, 2, 3, -1, -1)\n",
      "(2, -1, 3, 1, 2, -1, -3)\n",
      "(3, 2, 1, 1, -3, -2, -1)\n",
      "(2, -1, 2, 3, -1, -1, 3)\n",
      "(2, 1, -2, 3, 3, -1, -1)\n",
      "(1, 1, 1, 3, -2, 3, -2)\n",
      "(2, -1, 2, 3, 1, -3, 1)\n",
      "(1, 3, -2, 1, 3, -1, 2)\n",
      "(3, -2, 1, 3, -1, 2, 1)\n",
      "(1, 3, -2, 1, 3, 1, -2)\n",
      "(3, -1, -1, 3, 2, -1, 2)\n",
      "(2, 1, 2, 1, 1, -3, -3)\n",
      "(1, 2, -1, 3, 1, -2, 3)\n",
      "\n",
      "(3, 3, 1)\n",
      "(1, 2, 1, 2, 1, -2, -3)\n",
      "(2, 1, -2, 3, 1, 2, -1)\n",
      "(1, 2, -1, 3, 2, -1, -2)\n",
      "(1, 1, 1, 2, 2, -3, 2)\n",
      "(1, 2, -1, 2, 3, -2, 1)\n",
      "(2, -1, 2, 2, 1, 1, -3)\n",
      "(1, 2, 2, 1, 1, -3, -2)\n",
      "(2, -1, 3, -1, 2, 2, -1)\n",
      "(2, -1, 2, 1, 3, -2, 1)\n",
      "(3, -2, 1, 2, 1, 2, -1)\n",
      "(2, -1, 2, 2, -1, 3, -1)\n",
      "(1, 2, 3, 1, -2, -1, -2)\n",
      "(2, -1, 2, 3, 1, -2, -1)\n",
      "(1, 3, 2, 1, -2, -2, -1)\n",
      "(1, 2, 1, -2, 3, 2, -1)\n",
      "(1, 3, -2, 1, 2, 2, -1)\n",
      "\n",
      "(3, 4, 0)\n",
      "(1, 2, -1, 2, 2, -1, 2)\n",
      "(2, -1, 2, 1, 2, -1, 2)\n",
      "(2, -1, 2, 2, -1, 2, 1)\n",
      "(1, 1, 2, 2, 1, -2, -2)\n",
      "(1, 2, -1, 2, 2, 1, -2)\n",
      "(2, -1, 2, 1, 2, 1, -2)\n",
      "\n",
      "(4, 0, 3)\n",
      "(1, 3, 3, -1, -1, -3, 1)\n",
      "(3, 1, 3, -1, -1, -3, -1)\n",
      "(3, -1, -1, 3, 3, -1, -1)\n",
      "(1, 1, 3, -1, 3, -1, -3)\n",
      "(1, 3, 1, -3, 1, 3, 1)\n",
      "(1, 1, 3, 1, -3, 1, 3)\n",
      "(3, 1, -3, 1, 3, 1, 1)\n",
      "\n",
      "(4, 1, 2)\n",
      "(1, 2, -1, 3, 1, 1, -3)\n",
      "(1, 3, -1, -1, 3, 2, -1)\n",
      "(1, 3, 3, -1, -1, -2, -1)\n",
      "(1, 1, 3, -2, 1, 3, -1)\n",
      "(1, 2, 1, 3, -1, -1, -3)\n",
      "(1, 1, 1, 3, -1, 2, -3)\n",
      "(1, 3, 1, 2, -1, -3, -1)\n",
      "(1, 2, -1, 3, -1, 3, -1)\n",
      "(1, 1, 3, 2, -1, -3, 1)\n",
      "(3, -1, -1, 3, 1, 2, -1)\n",
      "\n",
      "(4, 2, 1)\n",
      "(2, -1, 3, -1, 2, 1, 1)\n",
      "(1, 1, 2, 1, -2, 3, 1)\n",
      "(2, -1, 2, 1, 3, -1, -1)\n",
      "(3, -2, 1, 2, 1, 1, 1)\n",
      "(1, 2, -1, 3, -1, 2, 1)\n",
      "(1, 1, 1, 2, 1, -2, 3)\n",
      "(1, 1, 1, 3, -2, 1, 2)\n",
      "(1, 1, 2, -1, 3, 1, -2)\n",
      "(1, 2, -1, 2, 3, -1, -1)\n",
      "(1, 3, -2, 1, 2, 1, 1)\n",
      "(2, 1, -2, 3, 1, 1, 1)\n",
      "(1, 1, 2, 1, 2, -1, -3)\n",
      "(1, 1, 3, -2, 1, 2, 1)\n",
      "(1, 1, 3, 2, -1, -2, -1)\n",
      "(1, 2, 1, -2, 3, 1, 1)\n",
      "(1, 1, 2, -1, 3, -1, 2)\n",
      "(1, 1, 2, 3, -1, -1, -2)\n",
      "\n",
      "(4, 3, 0)\n",
      "(1, 1, 1, 2, 2, -1, -2)\n",
      "(1, 1, 2, -1, 2, 2, -1)\n",
      "(2, -1, 2, 1, 1, 2, -1)\n",
      "(1, 2, -1, 2, 1, 2, -1)\n",
      "\n",
      "(5, 0, 2)\n",
      "(1, 1, 1, 3, -1, -1, 3)\n",
      "(1, 1, 3, -1, -1, 3, 1)\n",
      "(1, 3, -1, -1, 3, 1, 1)\n",
      "(3, -1, -1, 3, 1, 1, 1)\n",
      "(1, 1, 1, 3, 1, -3, 1)\n",
      "(1, 1, 3, 1, 1, -3, -1)\n",
      "\n",
      "(5, 1, 1)\n",
      "(1, 1, 1, 3, 1, -2, -1)\n",
      "(1, 1, 1, 1, 3, -2, 1)\n",
      "(1, 1, 1, 2, 1, 1, -3)\n",
      "(1, 1, 1, 2, -1, 3, -1)\n",
      "\n",
      "(5, 2, 0)\n",
      "(1, 1, 1, 2, -1, 2, 1)\n",
      "(1, 1, 1, 1, 2, -1, 2)\n",
      "(2, -1, 2, 1, 1, 1, 1)\n",
      "(1, 2, -1, 2, 1, 1, 1)\n",
      "(1, 1, 1, 1, 2, 1, -2)\n",
      "(1, 1, 2, -1, 2, 1, 1)\n",
      "\n",
      "(6, 0, 1)\n",
      "(1, 1, 1, 1, 3, -1, -1)\n",
      "\n",
      "(6, 1, 0)\n",
      "(1, 1, 1, 1, 1, 2, -1)\n",
      "\n",
      "(7, 0, 0)\n",
      "(1, 1, 1, 1, 1, 1, 1)\n",
      "\n"
     ]
    }
   ],
   "source": [
    "for key in sorted(d.keys()):\n",
    "    print(key)\n",
    "    for v in d[key]:\n",
    "        print(v)\n",
    "              \n",
    "    print()"
   ]
  },
  {
   "cell_type": "code",
   "execution_count": null,
   "metadata": {},
   "outputs": [],
   "source": [
    "(2, 3, -2, 3, -2, -3)\n",
    "(3, -2, 3, 3, 2, -3, 2, -3, -3)\n",
    "\n",
    "2 -2 -2\n",
    "-2 2 2\n",
    "\n",
    "(2, 3, 3, 3, -2, 3, 3, -2, -3, -3)"
   ]
  },
  {
   "cell_type": "code",
   "execution_count": null,
   "metadata": {},
   "outputs": [],
   "source": [
    "0 2 5 3 6 4 1"
   ]
  },
  {
   "cell_type": "code",
   "execution_count": null,
   "metadata": {},
   "outputs": [],
   "source": [
    "(3, 3)\n",
    "(2, 3, -2, 3, -2, -3)\n",
    "(3, 4) 7\n",
    "(2, 3, 2, -3, -3, 2, 3)\n",
    "(3, 5) 8\n",
    "(2, 3, 3, -2, -3, -2, 3, 3)\n",
    "(3, 6) 9\n",
    "(3, -2, 3, 3, 2, -3, 2, -3, -3)\n",
    "(3, 7) 10\n",
    "(3, 3, 3, -2, 3, -2, -3, -3, 2, -3)\n",
    "(2, 3, 3, 2, -3, -3, -3, 2, 3, 3)\n",
    "(3, 8) 11\n",
    "(2, 3, 3, 3, -2, -3, -3, -2, 3, 3, 3)\n",
    "(3, 9) 12\n",
    "X\n",
    "(3, 10) 13:    4, 7, 10, 13\n",
    "(2, 3, 3, 3, 2, -3, -3, -3, -3, 2, 3, 3, 3)\n",
    "(3, 11) 14  :  5, 8, 11, 14\n",
    "(2, 3, 3, 3, 3, -2, -3, -3, -3, -2, 3, 3, 3, 3)"
   ]
  },
  {
   "cell_type": "code",
   "execution_count": null,
   "metadata": {},
   "outputs": [],
   "source": [
    "1을 초반에 다 쓰고 가능한가?"
   ]
  },
  {
   "cell_type": "code",
   "execution_count": null,
   "metadata": {},
   "outputs": [],
   "source": [
    "다른건 초반에 다 쓰고 가능한가? -> 안되는거 같음"
   ]
  },
  {
   "cell_type": "code",
   "execution_count": null,
   "metadata": {},
   "outputs": [],
   "source": [
    "(3, 5)\n",
    "(2, 3, 3, -2, -3, -2, 3, 3)\n",
    "\n",
    "(4, 4)\n",
    "(2, 3, 2, -3, -3, 2, 3, 2)\n",
    "\n",
    "(5, 3)\n",
    "(2, 2, 3, -2, 3, -2, -3, -2)\n",
    "(2, 2, -3, 2, 3, 2, -3, 2)"
   ]
  },
  {
   "cell_type": "code",
   "execution_count": null,
   "metadata": {},
   "outputs": [],
   "source": [
    "11 case\n",
    "\n",
    "(3, 8)\n",
    "(2, 3, 3, 3, -2, -3, -3, -2, 3, 3, 3)\n",
    "\n",
    "(4, 7)\n",
    "(2, 3, -2, 3, 3, 2, -3, 2, -3, -3, -3)\n",
    "(3, 3, 3, 2, -3, 2, -3, -2, -3, 2, -3)\n",
    "(2, 3, 3, 2, -3, -3, -3, 2, 3, 3, 2)\n",
    "\n",
    "(5, 6)\n",
    "(2, 3, 2, -3, -3, 2, 3, 3, 2, -3, 2)\n",
    "(3, -2, 3, 2, 3, 2, -3, 2, -3, -2, -3)\n",
    "(3, -2, 3, -2, 3, 2, 3, -2, 3, -2, -3)\n",
    "(2, 2, -3, 2, 3, 3, 2, -3, -3, 2, 3)\n",
    "(2, 3, 2, 3, -2, 3, -2, -3, -3, -2, 3)\n",
    "(2, 3, -2, -2, 3, 3, 3, -2, 3, -2, -3)\n",
    "\n",
    "(6, 5)\n",
    "(2, 2, -3, 2, 3, 3, 2, -3, 2, -3, -2)\n",
    "(2, 3, 2, 3, -2, 3, -2, -3, -2, -3, 2)\n",
    "(2, 3, -2, -2, 3, 2, 3, 2, -3, 2, -3)\n",
    "(3, -2, 3, -2, 3, 2, 3, -2, -2, 3, 2)\n",
    "(2, 3, -2, -2, 3, 2, 3, -2, 3, -2, 3)\n",
    "(2, 3, -2, -2, 3, 3, 3, -2, -2, 3, 2)\n",
    "\n",
    "(7, 4)\n",
    "(2, 2, -3, 2, 2, 2, 3, -2, 3, -2, -3)\n",
    "(2, 3, -2, -2, 3, 2, 2, 3, -2, -2, 3)\n",
    "\n",
    "(8, 3)\n",
    "(2, 2, 2, 3, 2, -3, 2, -3, -2, -2, -2)\n",
    "(2, 3, -2, -2, 3, 2, 2, 2, -3, 2, 2)\n",
    "(2, 2, -3, 2, 2, 2, 3, -2, -2, 3, 2)"
   ]
  },
  {
   "cell_type": "code",
   "execution_count": null,
   "metadata": {},
   "outputs": [],
   "source": [
    "12 case 일부\n",
    "\n",
    "(5, 7)\n",
    "(3, 3, 2, 3, -2, 3, -2, -3, -2, -3, 2, -3)\n",
    "(3, -2, 3, -2, 3, 2, 3, 2, -3, -3, 2, 3)\n",
    "\n",
    "(6, 6)\n",
    "(3, -2, 3, -2, 3, 2, 3, 2, -3, 2, -3, -2)\n",
    "(3, -2, 3, 2, 2, 3, -2, 3, -2, -3, -2, -3)"
   ]
  },
  {
   "cell_type": "code",
   "execution_count": null,
   "metadata": {},
   "outputs": [],
   "source": [
    "### 1을 맨 앞에 전부 붙이는 경우만 알아봄"
   ]
  },
  {
   "cell_type": "code",
   "execution_count": null,
   "metadata": {},
   "outputs": [],
   "source": [
    "from \n",
    "\n",
    "means = [-2, 2, -3, 3]\n"
   ]
  },
  {
   "cell_type": "code",
   "execution_count": 155,
   "metadata": {},
   "outputs": [
    {
     "name": "stdout",
     "output_type": "stream",
     "text": [
      "True 3 17\n"
     ]
    }
   ],
   "source": [
    "seq = (2, 3, 3, 3, 3, 3, 3, -2, -3, -3, -3, -3, -3, -2, 3, 3, 3, 3, 3, 3)\n",
    "\n",
    "cur = 0\n",
    "vt = [False] * (len(seq) + 1)\n",
    "vt[cur] = True\n",
    "for v in seq:\n",
    "    cur += v\n",
    "    vt[cur] = True\n",
    "    \n",
    "print(all(vt), seq.count(2) + seq.count(-2), seq.count(3) + seq.count(-3))"
   ]
  },
  {
   "cell_type": "markdown",
   "metadata": {},
   "source": [
    "### 해결"
   ]
  },
  {
   "cell_type": "markdown",
   "metadata": {},
   "source": [
    "처음에는 위의 Boys and Girls 문제처럼 시간복잡도 반영해서 만들 수 있는 모든 경우를 만들어서 규칙을 찾아보려다 오히려 더 헷갈렸음, 다만 만들 수 있는지 여부를 확인하는 것에는 유용했음\n",
    "\n",
    "1은 혼자 남아도 맨 앞에 쓰는 걸로 커버할 수 있음\n",
    "1을 기교 역할로 해서 나머지 처리하기 어려운 것들을 먼저 없에보기\n",
    "\n",
    "3을 없애는 케이스에서는 앞이 다 채워진 형태의 맨 뒤쪽으로 갈 수 있고, 2를 없에는 케이스에서는 불가능하므로\n",
    "3을 먼저 다 없애고, 2를 다 없애는걸 기본으로 함"
   ]
  },
  {
   "cell_type": "code",
   "execution_count": null,
   "metadata": {},
   "outputs": [],
   "source": [
    "3: 5, 8, 11...\n",
    "\n",
    "5\n",
    "3 3 -1 -3 1 3 3\n",
    "8\n",
    "3 3 3 -1 -3 -3 1 3 3 3\n",
    "\n",
    "2 1 2\n",
    "3 2 3"
   ]
  },
  {
   "cell_type": "code",
   "execution_count": 276,
   "metadata": {},
   "outputs": [
    {
     "data": {
      "text/plain": [
       "[3, 3, -1, -3, -1, 3, 3]"
      ]
     },
     "execution_count": 276,
     "metadata": {},
     "output_type": "execute_result"
    }
   ],
   "source": [
    "c = 5\n",
    "base = c // 3\n",
    "[3] * (base + 1) + [-1] + [-3] * base + [-1] + [3] * (base + 1)"
   ]
  },
  {
   "cell_type": "code",
   "execution_count": null,
   "metadata": {},
   "outputs": [],
   "source": [
    "3: 4, 7, 10...\n",
    "    \n",
    "4\n",
    "3 3 -2 -3 1 3 2\n",
    "7\n",
    "3 3 3 -2 -3 -3 1 3 3 2"
   ]
  },
  {
   "cell_type": "code",
   "execution_count": 275,
   "metadata": {},
   "outputs": [
    {
     "data": {
      "text/plain": [
       "[3, 3, 3, -2, -3, -3, -1, 3, 3, 2]"
      ]
     },
     "execution_count": 275,
     "metadata": {},
     "output_type": "execute_result"
    }
   ],
   "source": [
    "c = 7\n",
    "base = c // 3\n",
    "[3] * (base + 1) + [-2] + [-3] * base + [1] + [3] * base + [2]"
   ]
  },
  {
   "cell_type": "code",
   "execution_count": null,
   "metadata": {},
   "outputs": [],
   "source": [
    "3: 3, 6...\n",
    "    \n",
    "3\n",
    "2 3 -1 -3 2 3\n",
    "6\n",
    "2 3 3 -1 -3 -3 2 3 3"
   ]
  },
  {
   "cell_type": "code",
   "execution_count": 250,
   "metadata": {},
   "outputs": [
    {
     "data": {
      "text/plain": [
       "[2, 3, 3, -1, -3, -3, 2, 3, 3]"
      ]
     },
     "execution_count": 250,
     "metadata": {},
     "output_type": "execute_result"
    }
   ],
   "source": [
    "c = 6\n",
    "base = c // 3\n",
    "[2] + [3] * base + [-1] + [-3] * base + [2] + [3] * base"
   ]
  },
  {
   "cell_type": "code",
   "execution_count": 249,
   "metadata": {},
   "outputs": [
    {
     "data": {
      "text/plain": [
       "1"
      ]
     },
     "execution_count": 249,
     "metadata": {},
     "output_type": "execute_result"
    }
   ],
   "source": [
    "3 // 3"
   ]
  },
  {
   "cell_type": "code",
   "execution_count": null,
   "metadata": {},
   "outputs": [],
   "source": [
    "2: 1, 3, 5..\n",
    "    \n",
    "1\n",
    "2 -1\n",
    "3\n",
    "2 2 -1 -2\n",
    "5\n",
    "2 2 2 -1 -2 -2"
   ]
  },
  {
   "cell_type": "code",
   "execution_count": 279,
   "metadata": {},
   "outputs": [
    {
     "data": {
      "text/plain": [
       "[2, 2, 2, -1, -2, -2]"
      ]
     },
     "execution_count": 279,
     "metadata": {},
     "output_type": "execute_result"
    }
   ],
   "source": [
    "b = 5\n",
    "base = b // 2\n",
    "[2] * (base + 1) + [-1] + [-2] * base"
   ]
  },
  {
   "cell_type": "code",
   "execution_count": null,
   "metadata": {},
   "outputs": [],
   "source": [
    "2: 2, 4, 6..\n",
    "    \n",
    "2\n",
    "2 1 -2\n",
    "4\n",
    "2 2 1 -2 -2\n",
    "6\n",
    "2 2 2 1 -2 -2 -2"
   ]
  },
  {
   "cell_type": "code",
   "execution_count": 260,
   "metadata": {},
   "outputs": [
    {
     "data": {
      "text/plain": [
       "[2, 2, 1, -2, -2]"
      ]
     },
     "execution_count": 260,
     "metadata": {},
     "output_type": "execute_result"
    }
   ],
   "source": [
    "b = 4\n",
    "base = b // 2\n",
    "[2] * base + [1] + [-2] * base"
   ]
  },
  {
   "cell_type": "code",
   "execution_count": null,
   "metadata": {},
   "outputs": [],
   "source": [
    "### 총합본\n",
    "\n",
    "# a, b, c = map(int, input().split())\n",
    "\n",
    "for oa in range(3, 10):\n",
    "    for ob in range(3, 10):\n",
    "        for oc in range(3, 10):\n",
    "            n = oa + ob + oc\n",
    "            a, b, c = oa, ob, oc\n",
    "\n",
    "            r = []\n",
    "            if c % 3 == 0:\n",
    "                a -= 2\n",
    "                b -= 2\n",
    "\n",
    "                r += [1] * a\n",
    "                base = c // 3\n",
    "                r += [2] + [3] * base + [-1] + [-3] * base + [2] + [3] * base\n",
    "            elif c % 3 == 1:\n",
    "                a -= 2\n",
    "                b -= 2\n",
    "\n",
    "                r += [1] * a\n",
    "                base = c // 3\n",
    "                r += [3] * (base + 1) + [-2] + [-3] * base + [1] + [3] * base + [2]\n",
    "            else:\n",
    "                a -= 3\n",
    "\n",
    "                r += [1] * a\n",
    "                base = c // 3\n",
    "                r += [3] * (base + 1) + [-1] + [-3] * base + [-1] + [3] * (base + 1)\n",
    "\n",
    "\n",
    "            if b % 2 == 0:\n",
    "                base = b // 2\n",
    "                r += [2] * base + [1] + [-2] * base\n",
    "            else:\n",
    "                base = b // 2\n",
    "                r += [2] * (base + 1) + [-1] + [-2] * base\n",
    "\n",
    "            cur = 0\n",
    "            rr = [0]\n",
    "            for v in r:\n",
    "                cur += v\n",
    "                rr.append(cur)\n",
    "\n",
    "#             print(rr)\n",
    "#             print(sorted(rr))\n",
    "#             print(list(range(n + 1)))\n",
    "            \n",
    "            if not sorted(rr) == list(range(n + 1)):\n",
    "                print(rr, a, b, c)\n",
    "#             print(sorted(rr) == list(range(n + 1)))"
   ]
  },
  {
   "cell_type": "code",
   "execution_count": 289,
   "metadata": {},
   "outputs": [
    {
     "name": "stdout",
     "output_type": "stream",
     "text": [
      "3 4 3\n",
      "0 1 3 6 5 2 4 7 9 10 8\n"
     ]
    }
   ],
   "source": [
    "# 제출본, 맞았음\n",
    "for _ in range(int(input())):\n",
    "    a, b, c = map(int, input().split())\n",
    "\n",
    "    r = []\n",
    "    if c % 3 == 0:\n",
    "        a -= 2\n",
    "        b -= 2\n",
    "\n",
    "        r += [1] * a\n",
    "        base = c // 3\n",
    "        r += [2] + [3] * base + [-1] + [-3] * base + [2] + [3] * base\n",
    "    elif c % 3 == 1:\n",
    "        a -= 2\n",
    "        b -= 2\n",
    "\n",
    "        r += [1] * a\n",
    "        base = c // 3\n",
    "        r += [3] * (base + 1) + [-2] + [-3] * base + [1] + [3] * base + [2]\n",
    "    else:\n",
    "        a -= 3\n",
    "\n",
    "        r += [1] * a\n",
    "        base = c // 3\n",
    "        r += [3] * (base + 1) + [-1] + [-3] * base + [-1] + [3] * (base + 1)\n",
    "\n",
    "    if b % 2 == 0:\n",
    "        base = b // 2\n",
    "        r += [2] * base + [1] + [-2] * base\n",
    "    else:\n",
    "        base = b // 2\n",
    "        r += [2] * (base + 1) + [-1] + [-2] * base\n",
    "\n",
    "    cur = 0\n",
    "    rr = [0]\n",
    "    for v in r:\n",
    "        cur += v\n",
    "        rr.append(cur)\n",
    "\n",
    "    print(*rr)"
   ]
  }
 ],
 "metadata": {
  "kernelspec": {
   "display_name": "Python 3",
   "language": "python",
   "name": "python3"
  },
  "language_info": {
   "codemirror_mode": {
    "name": "ipython",
    "version": 3
   },
   "file_extension": ".py",
   "mimetype": "text/x-python",
   "name": "python",
   "nbconvert_exporter": "python",
   "pygments_lexer": "ipython3",
   "version": "3.7.4"
  }
 },
 "nbformat": 4,
 "nbformat_minor": 4
}
