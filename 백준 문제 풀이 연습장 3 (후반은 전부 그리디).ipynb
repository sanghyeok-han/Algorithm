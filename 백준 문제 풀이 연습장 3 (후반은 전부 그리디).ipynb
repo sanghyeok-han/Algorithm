{
 "cells": [
  {
   "cell_type": "code",
   "execution_count": 1,
   "metadata": {},
   "outputs": [
    {
     "name": "stdout",
     "output_type": "stream",
     "text": [
      "216\n"
     ]
    }
   ],
   "source": [
    "n = int(input())"
   ]
  },
  {
   "cell_type": "code",
   "execution_count": 5,
   "metadata": {},
   "outputs": [
    {
     "data": {
      "text/plain": [
       "9"
      ]
     },
     "execution_count": 5,
     "metadata": {},
     "output_type": "execute_result"
    }
   ],
   "source": [
    "sum(map(int, tuple(str(n))))"
   ]
  },
  {
   "cell_type": "markdown",
   "metadata": {},
   "source": [
    "분해합 2231\n",
    "- 완전탐색"
   ]
  },
  {
   "cell_type": "code",
   "execution_count": 10,
   "metadata": {},
   "outputs": [
    {
     "name": "stdout",
     "output_type": "stream",
     "text": [
      "216\n",
      "198\n"
     ]
    }
   ],
   "source": [
    "n = int(input())\n",
    "\n",
    "for i in range(1, n + 1):\n",
    "    if i + sum(map(int, tuple(str(i)))) == n:\n",
    "        print(i)\n",
    "        break\n",
    "else:\n",
    "    print(0)"
   ]
  },
  {
   "cell_type": "markdown",
   "metadata": {},
   "source": [
    "덩치 1631\n",
    "- 완전탐색"
   ]
  },
  {
   "cell_type": "code",
   "execution_count": 14,
   "metadata": {},
   "outputs": [
    {
     "name": "stdout",
     "output_type": "stream",
     "text": [
      "5\n",
      "55 185\n",
      "58 183\n",
      "88 186\n",
      "60 175\n",
      "46 155\n"
     ]
    }
   ],
   "source": [
    "n = int(input())\n",
    "\n",
    "li = []\n",
    "for _ in range(n):\n",
    "    li.append(tuple(map(int, input().split())))"
   ]
  },
  {
   "cell_type": "code",
   "execution_count": 16,
   "metadata": {},
   "outputs": [],
   "source": [
    "n = int(input())\n",
    "\n",
    "li = []\n",
    "for _ in range(n):\n",
    "    li.append(tuple(map(int, input().split())))\n",
    "\n",
    "rank_li = [0] * n\n",
    "for i in range(n):\n",
    "    for j in range(i + 1, n):\n",
    "        if li[i][0] > li[j][0] and li[i][1] > li[j][1]:\n",
    "            rank_li[j] +=1\n",
    "        elif li[i][0] < li[j][0] and li[i][1] < li[j][1]:\n",
    "            rank_li[i] +=1\n",
    "            \n",
    "print(\" \".join(map(lambda x: str(x + 1), rank_li)))"
   ]
  },
  {
   "cell_type": "markdown",
   "metadata": {},
   "source": [
    "체스판 다시 칠하기 1018\n",
    "- 완전탐색"
   ]
  },
  {
   "cell_type": "code",
   "execution_count": null,
   "metadata": {},
   "outputs": [],
   "source": [
    "h, w = map(int, input().split())\n",
    "\n",
    "li = []\n",
    "for _ in range(h):\n",
    "    li.append(input())\n",
    "\n",
    "h_min_max = h - 8\n",
    "w_min_max = w - 8\n",
    "\n",
    "values = []\n",
    "for i in range(h_min_max + 1):\n",
    "    for j in range(w_min_max + 1):\n",
    "        new_li = li[i:i + 8]\n",
    "        new_li = list(map(lambda x: x[j:j + 8], new_li))\n",
    "        \n",
    "        count1 = 0\n",
    "        count2 = 0\n",
    "        for x in range(8):\n",
    "            for y in range(8):\n",
    "                if (x + y) % 2 == 0:\n",
    "                    if new_li[x][y] != 'B':\n",
    "                        count1 += 1\n",
    "                    else:\n",
    "                        count2 += 1\n",
    "                else:\n",
    "                    if new_li[x][y] != 'W':\n",
    "                        count1 += 1\n",
    "                    else:\n",
    "                        count2 += 1\n",
    "\n",
    "        values.append(min((count1, count2)))\n",
    "        \n",
    "print(min(values))"
   ]
  },
  {
   "cell_type": "markdown",
   "metadata": {},
   "source": [
    "영화감독 숌 1436\n",
    "- 완전탐색"
   ]
  },
  {
   "cell_type": "code",
   "execution_count": 77,
   "metadata": {},
   "outputs": [
    {
     "name": "stdout",
     "output_type": "stream",
     "text": [
      "10000\n",
      "2666799\n"
     ]
    }
   ],
   "source": [
    "n = int(input())\n",
    "\n",
    "current = 1\n",
    "count = 0\n",
    "while True:\n",
    "    if \"666\" in str(current):\n",
    "        count += 1\n",
    "        \n",
    "    if count == n:\n",
    "        break\n",
    "        \n",
    "    current += 1\n",
    "    \n",
    "print(current)"
   ]
  },
  {
   "cell_type": "markdown",
   "metadata": {},
   "source": [
    "통계학\n",
    "- 정렬"
   ]
  },
  {
   "cell_type": "code",
   "execution_count": 79,
   "metadata": {},
   "outputs": [
    {
     "name": "stdout",
     "output_type": "stream",
     "text": [
      "5\n",
      "1\n",
      "3\n",
      "8\n",
      "-2\n",
      "2\n"
     ]
    }
   ],
   "source": [
    "n = int(input())\n",
    "\n",
    "li = []\n",
    "for _ in range(n):\n",
    "    li.append(int(input()))"
   ]
  },
  {
   "cell_type": "code",
   "execution_count": 114,
   "metadata": {},
   "outputs": [
    {
     "name": "stdout",
     "output_type": "stream",
     "text": [
      "5\n",
      "1\n",
      "3\n",
      "8\n",
      "-2\n",
      "2\n",
      "2\n",
      "2\n",
      "1\n",
      "10\n"
     ]
    }
   ],
   "source": [
    "from collections import Counter\n",
    "\n",
    "n = int(input())\n",
    "\n",
    "li = []\n",
    "for _ in range(n):\n",
    "    li.append(int(input()))\n",
    "    \n",
    "\n",
    "mean = sum(li) / len(li)\n",
    "\n",
    "is_mean_minus = False\n",
    "if mean < 0:\n",
    "    is_mean_minus = True\n",
    "    mean *= -1\n",
    "    \n",
    "if mean - int(mean) >= 0.5:\n",
    "    mean = int(mean) + 1\n",
    "else:\n",
    "    mean = int(mean)\n",
    "    \n",
    "if is_mean_minus:\n",
    "    mean *= -1\n",
    "    \n",
    "li = sorted(li)\n",
    "median = li[len(li) // 2]\n",
    "\n",
    "c = Counter(li).most_common()\n",
    "most_freq_count = c[0][1]\n",
    "c = [v for v in c if v[1] == most_freq_count]\n",
    "\n",
    "if len(c) == 1:\n",
    "    mode = c[0][0]\n",
    "else:\n",
    "    c = sorted(c, key=lambda x: x[0])\n",
    "    mode = c[1][0]\n",
    "\n",
    "ran = max(li) - min(li)\n",
    "\n",
    "print(mean)\n",
    "print(median)\n",
    "print(mode)\n",
    "print(ran)"
   ]
  },
  {
   "cell_type": "code",
   "execution_count": 109,
   "metadata": {},
   "outputs": [
    {
     "data": {
      "text/plain": [
       "-0.5"
      ]
     },
     "execution_count": 109,
     "metadata": {},
     "output_type": "execute_result"
    }
   ],
   "source": [
    "-3.5 - int(-3.5)"
   ]
  },
  {
   "cell_type": "markdown",
   "metadata": {},
   "source": [
    "좌표 정렬하기 2 11651\n",
    "- 정렬"
   ]
  },
  {
   "cell_type": "code",
   "execution_count": 119,
   "metadata": {},
   "outputs": [
    {
     "name": "stdout",
     "output_type": "stream",
     "text": [
      "5\n",
      "0 4\n",
      "1 2\n",
      "1 -1\n",
      "5 2\n",
      "3 2\n"
     ]
    }
   ],
   "source": [
    "n = int(input())\n",
    "li = []\n",
    "for _ in range(n):\n",
    "    li.append(tuple(map(int, input().split())))"
   ]
  },
  {
   "cell_type": "code",
   "execution_count": 133,
   "metadata": {},
   "outputs": [],
   "source": [
    "li.sort(key=lambda x: x[1])"
   ]
  },
  {
   "cell_type": "code",
   "execution_count": 134,
   "metadata": {},
   "outputs": [
    {
     "data": {
      "text/plain": [
       "[(1, -1), (1, 2), (5, 2), (3, 2), (0, 4)]"
      ]
     },
     "execution_count": 134,
     "metadata": {},
     "output_type": "execute_result"
    }
   ],
   "source": [
    "li"
   ]
  },
  {
   "cell_type": "code",
   "execution_count": 144,
   "metadata": {},
   "outputs": [
    {
     "name": "stdout",
     "output_type": "stream",
     "text": [
      "3\n",
      "5 5\n",
      "3 3\n",
      "1 3\n",
      "1 3\n",
      "3 3\n",
      "5 5\n"
     ]
    }
   ],
   "source": [
    "n = int(input())\n",
    "\n",
    "li = []\n",
    "for _ in range(n):\n",
    "    li.append(tuple(map(int, input().split())))\n",
    "    \n",
    "li.sort(key=lambda x: x[1])\n",
    "    \n",
    "current_set = set()\n",
    "\n",
    "for i in range(len(li) - 1):\n",
    "    if li[i][1] == li[i + 1][1]:\n",
    "        if current_set:\n",
    "            current_set.add(i + 1)\n",
    "        else:\n",
    "            current_set.add(i)\n",
    "            current_set.add(i + 1)\n",
    "    else:\n",
    "        if current_set:\n",
    "            r = sorted(current_set)\n",
    "            li[r[0]: r[-1] + 1] = sorted(li[r[0]: r[-1] + 1], key=lambda x: x[0])\n",
    "            current_set = set()\n",
    "\n",
    "if current_set:\n",
    "    r = sorted(current_set)\n",
    "    li[r[0]: r[1] + 1] = sorted(li[r[0]: r[1] + 1], key=lambda x: x[0])\n",
    "    current_set = set()\n",
    "    \n",
    "for x, y in li:\n",
    "    print(x, y)"
   ]
  },
  {
   "cell_type": "code",
   "execution_count": 142,
   "metadata": {},
   "outputs": [
    {
     "name": "stdout",
     "output_type": "stream",
     "text": [
      "1 -1\n",
      "1 2\n",
      "3 2\n",
      "5 2\n",
      "0 4\n"
     ]
    }
   ],
   "source": [
    "for x, y in li:\n",
    "    print(x, y)"
   ]
  },
  {
   "cell_type": "markdown",
   "metadata": {},
   "source": [
    "### 하노이 탑 이동 순서 11729\n",
    "- 재귀"
   ]
  },
  {
   "cell_type": "code",
   "execution_count": 22,
   "metadata": {},
   "outputs": [
    {
     "name": "stdout",
     "output_type": "stream",
     "text": [
      "4\n",
      "15\n",
      "1 2\n",
      "1 3\n",
      "2 3\n",
      "1 2\n",
      "3 1\n",
      "3 2\n",
      "1 2\n",
      "1 3\n",
      "2 3\n",
      "2 1\n",
      "3 1\n",
      "2 3\n",
      "1 2\n",
      "1 3\n",
      "2 3\n"
     ]
    }
   ],
   "source": [
    "import sys\n",
    "sys.setrecursionlimit(3000000)\n",
    "\n",
    "c = int(input())\n",
    "\n",
    "\n",
    "def hanoi(c, s, e):\n",
    "    m = (set([1, 2, 3]) - set([s, e])).pop()\n",
    "    if c == 2:\n",
    "        print(s, m)\n",
    "        print(s, e)\n",
    "        print(m, e)\n",
    "    else:\n",
    "        hanoi(c - 1, s, m)\n",
    "        print(s, e)\n",
    "        hanoi(c - 1, m, e)\n",
    "\n",
    "\n",
    "if c == 1:\n",
    "    print(1)\n",
    "    print(1, 3)\n",
    "else:\n",
    "    count = 1\n",
    "    for _ in range(c - 1):      \n",
    "        count = 2 * count + 1\n",
    "  \n",
    "    print(count)\n",
    "    hanoi(c, 1, 3)"
   ]
  },
  {
   "cell_type": "markdown",
   "metadata": {},
   "source": [
    "### 하노이 탑 1914\n",
    "- 임의 정밀도 / 큰 수 연산, 재귀"
   ]
  },
  {
   "cell_type": "code",
   "execution_count": null,
   "metadata": {},
   "outputs": [],
   "source": [
    "import sys\n",
    "sys.setrecursionlimit(3000000)\n",
    "\n",
    "c = int(input())\n",
    "\n",
    "\n",
    "def hanoi(c, s, e):\n",
    "    m = (set([1, 2, 3]) - set([s, e])).pop()\n",
    "    if c == 2:\n",
    "        print(s, m)\n",
    "        print(s, e)\n",
    "        print(m, e)\n",
    "    else:\n",
    "        hanoi(c - 1, s, m)\n",
    "        print(s, e)\n",
    "        hanoi(c - 1, m, e)\n",
    "\n",
    "\n",
    "if c == 1:\n",
    "    print(1)\n",
    "    print(1, 3)\n",
    "else:\n",
    "    count = 1\n",
    "    for _ in range(c - 1):      \n",
    "        count = 2 * count + 1\n",
    "    print(count)\n",
    "    \n",
    "    if c <= 20:\n",
    "        hanoi(c, 1, 3)"
   ]
  },
  {
   "cell_type": "markdown",
   "metadata": {},
   "source": [
    "### 탈옥 9376\n",
    "- 너비 우선 탐색, 다익스트라"
   ]
  },
  {
   "cell_type": "code",
   "execution_count": 1,
   "metadata": {},
   "outputs": [
    {
     "name": "stdout",
     "output_type": "stream",
     "text": [
      "9 9\n",
      "*#**#**#*\n",
      "*#**#**#*\n",
      "*#**#**#*\n",
      "*#**.**#*\n",
      "*#*#.#*#*\n",
      "*$##*##$*\n",
      "*#*****#*\n",
      "*.#.#.#.*\n",
      "*********\n"
     ]
    }
   ],
   "source": [
    "from copy import deepcopy\n",
    "import heapq\n",
    "\n",
    "\n",
    "h, w = map(int, input().split())\n",
    "\n",
    "coords = []\n",
    "for _ in range(h):\n",
    "    value = input()\n",
    "    value = list(value)\n",
    "    new_value = []\n",
    "    for v in value:\n",
    "        if v == \"#\":\n",
    "            new_value.append(1)\n",
    "        elif v == \".\":\n",
    "            new_value.append(0)\n",
    "        else:\n",
    "            new_value.append(v)\n",
    "    coords.append(new_value)\n",
    "\n",
    "prisoners = []\n",
    "\n",
    "for i in range(h):\n",
    "    for j in range(w):\n",
    "        if coords[i][j] == \"$\":\n",
    "            prisoners.append((i, j))"
   ]
  },
  {
   "cell_type": "code",
   "execution_count": 52,
   "metadata": {},
   "outputs": [],
   "source": [
    "def dij(prisoner):\n",
    "    nx = [-1, 1, 0, 0]\n",
    "    ny = [0, 0, -1, 1]\n",
    "\n",
    "    distance_li = [[float(\"inf\")] * w for _ in range(h)]\n",
    "    heap = []\n",
    "    heapq.heappush(heap, (0, prisoner))\n",
    "    \n",
    "    while heap:\n",
    "        dist, (x, y) = heapq.heappop(heap)    \n",
    "        \n",
    "        for i in range(4):\n",
    "            a = x + nx[i]\n",
    "            b = y + ny[i]\n",
    "            \n",
    "            if 0 <= a < h and 0 <= b < w:\n",
    "                if coords[a][b] != \"*\":\n",
    "                    if coords[a][b] == 1:\n",
    "                        new_dist = dist + 1\n",
    "                    else:\n",
    "                        new_dist = dist\n",
    "                    \n",
    "                    if new_dist < distance_li[a][b]:\n",
    "                        distance_li[a][b] = new_dist          \n",
    "                        heapq.heappush(heap, (new_dist, (a, b)))\n",
    "\n",
    "                        \n",
    "    return distance_li\n",
    "\n",
    "\n",
    "def dij2(former_distance_li, former_other_distance_li, prisoner):\n",
    "    nx = [-1, 1, 0, 0]\n",
    "    ny = [0, 0, -1, 1]\n",
    "    \n",
    "    new_distance_li = [[[float('inf'), 0] for _ in range(w)] for _ in range(h)]\n",
    "    heap = []\n",
    "    heapq.heappush(heap, (0, prisoner, 0, 0))\n",
    "    \n",
    "    while heap:\n",
    "        dist, (x, y), broken_door_num, current_max_other_distance = heapq.heappop(heap)\n",
    "        \n",
    "        for i in range(4):\n",
    "            a = x + nx[i]\n",
    "            b = y + ny[i]\n",
    "            \n",
    "            if 0 <= a < h and 0 <= b < w:\n",
    "                if coords[a][b] != \"*\":\n",
    "                    if coords[a][b] == 1:\n",
    "                        new_dist = dist + 1\n",
    "                        if former_other_distance_li[a][b] <= former_distance_li[a][b]:\n",
    "                            if former_other_distance_li[a][b] < current_max_other_distance:\n",
    "                                broken_door_num = 1\n",
    "                            else:\n",
    "                                current_max_other_distance = former_other_distance_li[a][b]\n",
    "                                broken_door_num += 1\n",
    "\n",
    "                            if new_dist - broken_door_num < new_distance_li[a][b][0] - new_distance_li[a][b][1]:\n",
    "                                new_distance_li[a][b] = [new_dist, broken_door_num]\n",
    "                                heapq.heappush(heap, (new_dist, (a, b), broken_door_num, current_max_other_distance))\n",
    "                                                  \n",
    "                        else:    \n",
    "                            if new_distance_li[a][b][0] > former_distance_li[a][b]:\n",
    "                                new_distance_li[a][b][0] = former_distance_li[a][b]\n",
    "                                heapq.heappush(heap, (new_dist, (a, b), broken_door_num, current_max_other_distance))\n",
    "                    else:    \n",
    "                        if new_distance_li[a][b][0] > former_distance_li[a][b]:\n",
    "                            new_distance_li[a][b][0] = former_distance_li[a][b]\n",
    "                            heapq.heappush(heap, (new_dist, (a, b), broken_door_num, current_max_other_distance))\n",
    "                                   \n",
    "    return new_distance_li"
   ]
  },
  {
   "cell_type": "code",
   "execution_count": 53,
   "metadata": {},
   "outputs": [],
   "source": [
    "p1, p2 = prisoners\n",
    "\n",
    "p1_coords = dij(p1)\n",
    "p2_coords = dij(p2)\n",
    "new_p1_coords = dij2(p1_coords, p2_coords, p1)\n",
    "new_p2_coords = dij2(p2_coords, p1_coords, p2)"
   ]
  },
  {
   "cell_type": "code",
   "execution_count": 62,
   "metadata": {},
   "outputs": [
    {
     "data": {
      "text/plain": [
       "[[[inf, 0],\n",
       "  [5, 0],\n",
       "  [inf, 0],\n",
       "  [inf, 0],\n",
       "  [8, 3],\n",
       "  [inf, 0],\n",
       "  [inf, 0],\n",
       "  [13, 4],\n",
       "  [inf, 0]],\n",
       " [[inf, 0],\n",
       "  [4, 0],\n",
       "  [inf, 0],\n",
       "  [inf, 0],\n",
       "  [7, 2],\n",
       "  [inf, 0],\n",
       "  [inf, 0],\n",
       "  [12, 3],\n",
       "  [inf, 0]],\n",
       " [[inf, 0],\n",
       "  [3, 0],\n",
       "  [inf, 0],\n",
       "  [inf, 0],\n",
       "  [6, 1],\n",
       "  [inf, 0],\n",
       "  [inf, 0],\n",
       "  [11, 2],\n",
       "  [inf, 0]],\n",
       " [[inf, 0],\n",
       "  [2, 0],\n",
       "  [inf, 0],\n",
       "  [inf, 0],\n",
       "  [3, 0],\n",
       "  [inf, 0],\n",
       "  [inf, 0],\n",
       "  [10, 1],\n",
       "  [inf, 0]],\n",
       " [[inf, 0],\n",
       "  [1, 0],\n",
       "  [inf, 0],\n",
       "  [3, 0],\n",
       "  [3, 0],\n",
       "  [5, 1],\n",
       "  [inf, 0],\n",
       "  [9, 1],\n",
       "  [inf, 0]],\n",
       " [[inf, 0],\n",
       "  [1, 0],\n",
       "  [1, 0],\n",
       "  [2, 0],\n",
       "  [inf, 0],\n",
       "  [6, 1],\n",
       "  [7, 1],\n",
       "  [5, 0],\n",
       "  [inf, 0]],\n",
       " [[inf, 0],\n",
       "  [1, 0],\n",
       "  [inf, 0],\n",
       "  [inf, 0],\n",
       "  [inf, 0],\n",
       "  [inf, 0],\n",
       "  [inf, 0],\n",
       "  [9, 1],\n",
       "  [inf, 0]],\n",
       " [[inf, 0], [1, 0], [2, 0], [2, 0], [5, 1], [3, 0], [7, 1], [4, 0], [inf, 0]],\n",
       " [[inf, 0],\n",
       "  [inf, 0],\n",
       "  [inf, 0],\n",
       "  [inf, 0],\n",
       "  [inf, 0],\n",
       "  [inf, 0],\n",
       "  [inf, 0],\n",
       "  [inf, 0],\n",
       "  [inf, 0]]]"
      ]
     },
     "execution_count": 62,
     "metadata": {},
     "output_type": "execute_result"
    }
   ],
   "source": []
  },
  {
   "cell_type": "code",
   "execution_count": 64,
   "metadata": {},
   "outputs": [
    {
     "data": {
      "text/plain": [
       "[inf,\n",
       " 5,\n",
       " inf,\n",
       " inf,\n",
       " 5,\n",
       " inf,\n",
       " inf,\n",
       " 9,\n",
       " inf,\n",
       " inf,\n",
       " 4,\n",
       " inf,\n",
       " inf,\n",
       " 5,\n",
       " inf,\n",
       " inf,\n",
       " 9,\n",
       " inf,\n",
       " inf,\n",
       " 3,\n",
       " inf,\n",
       " inf,\n",
       " 5,\n",
       " inf,\n",
       " inf,\n",
       " 9,\n",
       " inf,\n",
       " inf,\n",
       " 2,\n",
       " inf,\n",
       " inf,\n",
       " 3,\n",
       " inf,\n",
       " inf,\n",
       " 9,\n",
       " inf,\n",
       " inf,\n",
       " 1,\n",
       " inf,\n",
       " 3,\n",
       " 3,\n",
       " 4,\n",
       " inf,\n",
       " 8,\n",
       " inf,\n",
       " inf,\n",
       " 1,\n",
       " 1,\n",
       " 2,\n",
       " inf,\n",
       " 5,\n",
       " 6,\n",
       " 5,\n",
       " inf,\n",
       " inf,\n",
       " 1,\n",
       " inf,\n",
       " inf,\n",
       " inf,\n",
       " inf,\n",
       " inf,\n",
       " 8,\n",
       " inf,\n",
       " inf,\n",
       " 1,\n",
       " 2,\n",
       " 2,\n",
       " 4,\n",
       " 3,\n",
       " 6,\n",
       " 4,\n",
       " inf,\n",
       " inf,\n",
       " inf,\n",
       " inf,\n",
       " inf,\n",
       " inf,\n",
       " inf,\n",
       " inf,\n",
       " inf,\n",
       " inf]"
      ]
     },
     "execution_count": 64,
     "metadata": {},
     "output_type": "execute_result"
    }
   ],
   "source": [
    "from itertools import chain\n",
    "[v - b for v, b in (chain(*new_p1_coords))]"
   ]
  },
  {
   "cell_type": "code",
   "execution_count": 75,
   "metadata": {},
   "outputs": [],
   "source": [
    "def get_needed_value(li):\n",
    "    zipped = list(zip(*li))\n",
    "    a = li[0]\n",
    "    b = li[-1]\n",
    "    c = list(zipped[0])\n",
    "    d = list(zipped[-1])\n",
    "    print(a)\n",
    "    \n",
    "    return a + b + c + d"
   ]
  },
  {
   "cell_type": "code",
   "execution_count": 77,
   "metadata": {},
   "outputs": [
    {
     "data": {
      "text/plain": [
       "[[[inf, 0],\n",
       "  [5, 0],\n",
       "  [inf, 0],\n",
       "  [inf, 0],\n",
       "  [8, 3],\n",
       "  [inf, 0],\n",
       "  [inf, 0],\n",
       "  [13, 4],\n",
       "  [inf, 0]],\n",
       " [[inf, 0],\n",
       "  [4, 0],\n",
       "  [inf, 0],\n",
       "  [inf, 0],\n",
       "  [7, 2],\n",
       "  [inf, 0],\n",
       "  [inf, 0],\n",
       "  [12, 3],\n",
       "  [inf, 0]],\n",
       " [[inf, 0],\n",
       "  [3, 0],\n",
       "  [inf, 0],\n",
       "  [inf, 0],\n",
       "  [6, 1],\n",
       "  [inf, 0],\n",
       "  [inf, 0],\n",
       "  [11, 2],\n",
       "  [inf, 0]],\n",
       " [[inf, 0],\n",
       "  [2, 0],\n",
       "  [inf, 0],\n",
       "  [inf, 0],\n",
       "  [3, 0],\n",
       "  [inf, 0],\n",
       "  [inf, 0],\n",
       "  [10, 1],\n",
       "  [inf, 0]],\n",
       " [[inf, 0],\n",
       "  [1, 0],\n",
       "  [inf, 0],\n",
       "  [3, 0],\n",
       "  [3, 0],\n",
       "  [5, 1],\n",
       "  [inf, 0],\n",
       "  [9, 1],\n",
       "  [inf, 0]],\n",
       " [[inf, 0],\n",
       "  [1, 0],\n",
       "  [1, 0],\n",
       "  [2, 0],\n",
       "  [inf, 0],\n",
       "  [6, 1],\n",
       "  [7, 1],\n",
       "  [5, 0],\n",
       "  [inf, 0]],\n",
       " [[inf, 0],\n",
       "  [1, 0],\n",
       "  [inf, 0],\n",
       "  [inf, 0],\n",
       "  [inf, 0],\n",
       "  [inf, 0],\n",
       "  [inf, 0],\n",
       "  [9, 1],\n",
       "  [inf, 0]],\n",
       " [[inf, 0], [1, 0], [2, 0], [2, 0], [5, 1], [3, 0], [7, 1], [4, 0], [inf, 0]],\n",
       " [[inf, 0],\n",
       "  [inf, 0],\n",
       "  [inf, 0],\n",
       "  [inf, 0],\n",
       "  [inf, 0],\n",
       "  [inf, 0],\n",
       "  [inf, 0],\n",
       "  [inf, 0],\n",
       "  [inf, 0]]]"
      ]
     },
     "execution_count": 77,
     "metadata": {},
     "output_type": "execute_result"
    }
   ],
   "source": [
    "new_p1_coords"
   ]
  },
  {
   "cell_type": "code",
   "execution_count": null,
   "metadata": {},
   "outputs": [],
   "source": []
  },
  {
   "cell_type": "code",
   "execution_count": null,
   "metadata": {},
   "outputs": [],
   "source": [
    "# 시도1\n",
    "from copy import deepcopy\n",
    "import heapq\n",
    "\n",
    "\n",
    "h, w = map(int, input().split())\n",
    "\n",
    "o_coords = []\n",
    "for _ in range(h):\n",
    "    value = input()\n",
    "    value = list(value)\n",
    "    new_value = []\n",
    "    for v in value:\n",
    "        if v == \"#\":\n",
    "            new_value.append(1)\n",
    "        elif v == \".\":\n",
    "            new_value.append(0)\n",
    "        else:\n",
    "            new_value.append(v)\n",
    "    o_coords.append(new_value)\n",
    "\n",
    "prisoners = []\n",
    "\n",
    "for i in range(h):\n",
    "    for j in range(w):\n",
    "        if o_coords[i][j] == \"$\":\n",
    "            prisoners.append((i, j))\n",
    "\n",
    "            \n",
    "def dij(coords, prisoner):\n",
    "    nx = [-1, 1, 0, 0]\n",
    "    ny = [0, 0, -1, 1]\n",
    "\n",
    "    distance_li = [[float(\"inf\")] * w for _ in range(h)]\n",
    "    heap = []\n",
    "    heapq.heappush(heap, (0, prisoner, [], 0))\n",
    "    \n",
    "    while heap:\n",
    "        dist, (x, y), broken_doors, before_merged_value = heapq.heappop(heap)    \n",
    "        \n",
    "        for i in range(4):\n",
    "            a = x + nx[i]\n",
    "            b = y + ny[i]\n",
    "            \n",
    "            if 0 <= a < h and 0 <= b < w:\n",
    "                if coords[a][b] != \"*\":\n",
    "                    if coords[a][b] == 0:\n",
    "                        new_dist = dist + 0    \n",
    "                    elif coords[a][b] == 1:\n",
    "                        new_dist = dist + 1\n",
    "                        broken_doors.append((a, b))\n",
    "                    elif coords[a][b] == '$':\n",
    "                        before_merged_value = dist\n",
    "                        new_dist = 0\n",
    "                    \n",
    "                    if new_dist < distance_li[a][b]:\n",
    "                        distance_li[a][b] = new_dist          \n",
    "                        heapq.heappush(heap, (new_dist, (a, b), deepcopy(broken_doors), before_merged_value))\n",
    "\n",
    "                        \n",
    "    return deepcopy(broken_doors), dist, before_merged_value\n",
    "    \n",
    "\n",
    "coords = deepcopy(o_coords)\n",
    "result = []\n",
    "for prisoner in prisoners:\n",
    "    broken_doors, min_dist, before_merged_value = dij(coords, prisoner)\n",
    "    if before_merged_value == True\n",
    "    \n",
    "    result.append(min_dist)\n",
    "\n",
    "    for broken_door in broken_doors:\n",
    "        x, y = broken_door\n",
    "        coords[x][y] = 0\n",
    "        \n",
    "\n",
    "if result[0] > result[1]:\n",
    "    coords = deepcopy(o_coords)\n",
    "    result = []\n",
    "    prisoners.reverse()\n",
    "    \n",
    "    for prisoner in prisoners:\n",
    "       \n",
    "        broken_doors, min_dist = dij(coords, prisoner)\n",
    "        result.append(min_dist)\n",
    "        \n",
    "        for broken_door in broken_doors:\n",
    "            x, y = broken_door\n",
    "            coords[x][y] = 0\n",
    "        \n",
    "    print(sum(result))\n",
    "else:\n",
    "    print(sum(result))"
   ]
  },
  {
   "cell_type": "markdown",
   "metadata": {},
   "source": [
    "시도 2"
   ]
  },
  {
   "cell_type": "code",
   "execution_count": 3,
   "metadata": {},
   "outputs": [
    {
     "name": "stdout",
     "output_type": "stream",
     "text": [
      "9 9\n",
      "*#**#**#*\n",
      "*#**#**#*\n",
      "*#**#**#*\n",
      "*#**.**#*\n",
      "*#*#.#*#*\n",
      "*$##*##$*\n",
      "*#*****#*\n",
      "*.#.#.#.*\n",
      "*********\n"
     ]
    }
   ],
   "source": [
    "from copy import deepcopy\n",
    "import heapq\n",
    "\n",
    "h, w = map(int, input().split())\n",
    "\n",
    "o_coords = []\n",
    "for _ in range(h):\n",
    "    value = input()\n",
    "    value = list(value)\n",
    "    new_value = []\n",
    "    for v in value:\n",
    "        if v == \"#\":\n",
    "            new_value.append(1)\n",
    "        elif v == \".\":\n",
    "            new_value.append(0)\n",
    "        else:\n",
    "            new_value.append(v)\n",
    "    o_coords.append(new_value)"
   ]
  },
  {
   "cell_type": "code",
   "execution_count": 25,
   "metadata": {},
   "outputs": [
    {
     "data": {
      "text/plain": [
       "[['*', 1, '*', '*', 1, '*', '*', 1, '*'],\n",
       " ['*', 1, '*', '*', 1, '*', '*', 1, '*'],\n",
       " ['*', 1, '*', '*', 1, '*', '*', 1, '*'],\n",
       " ['*', 1, '*', '*', 0, '*', '*', 1, '*'],\n",
       " ['*', 1, '*', 1, 0, 1, '*', 1, '*'],\n",
       " ['*', '$', 1, 1, '*', 1, 1, '$', '*'],\n",
       " ['*', 1, '*', '*', '*', '*', '*', 1, '*'],\n",
       " ['*', 0, 1, 0, 1, 0, 1, 0, '*'],\n",
       " ['*', '*', '*', '*', '*', '*', '*', '*', '*']]"
      ]
     },
     "execution_count": 25,
     "metadata": {},
     "output_type": "execute_result"
    }
   ],
   "source": [
    "o_coords"
   ]
  },
  {
   "cell_type": "code",
   "execution_count": 44,
   "metadata": {},
   "outputs": [
    {
     "name": "stderr",
     "output_type": "stream",
     "text": [
      "\n",
      "KeyboardInterrupt\n",
      "\n"
     ]
    }
   ],
   "source": [
    "prisoners = []\n",
    "\n",
    "for i in range(h):\n",
    "    for j in range(w):\n",
    "        if o_coords[i][j] == \"$\":\n",
    "            prisoners.append((i, j))\n",
    "            \n",
    "def dij(coords, prisoner):\n",
    "    nx = [-1, 1, 0, 0]\n",
    "    ny = [0, 0, -1, 1]\n",
    "\n",
    "    distance_li = [[float(\"inf\")] * w for _ in range(h)]\n",
    "    merged_distance_li = [[float(\"inf\")] * w for _ in range(h)]\n",
    "    \n",
    "    coords[prisoner[0]][prisoner[1]] = 0\n",
    "    distance_li[prisoner[0]][prisoner[1]] = 0\n",
    "    merged_distance_li[prisoner[0]][prisoner[1]] = 0\n",
    "    \n",
    "    heap = []\n",
    "    heapq.heappush(heap, (0, prisoner, [], False))\n",
    "    \n",
    "    while heap:\n",
    "        dist, (x, y), broken_doors, is_merged = heapq.heappop(heap)  \n",
    "#         print(dist, (x, y), is_merged)\n",
    "        \n",
    "        for i in range(4):\n",
    "            new_broken_doors = deepcopy(broken_doors)\n",
    "            \n",
    "            a = x + nx[i]\n",
    "            b = y + ny[i]\n",
    "            \n",
    "            if 0 <= a < h and 0 <= b < w:\n",
    "                if coords[a][b] != \"*\":\n",
    "                    if coords[a][b] == 0:\n",
    "                        new_dist = dist\n",
    "                    elif coords[a][b] == 1:\n",
    "                        if is_merged and coords[a][b] in broken_doors:\n",
    "                            new_dist = dist\n",
    "                        else:\n",
    "                            new_dist = dist + 1\n",
    "                            new_broken_doors.append((a, b))\n",
    "                    elif coords[a][b] == '$':\n",
    "                        if is_merged:\n",
    "                            new_dist = float('inf')\n",
    "                        else:\n",
    "                            is_merged = True\n",
    "                            new_dist = dist\n",
    "                    \n",
    "                    if is_merged:\n",
    "                        if coords[a][b] == '$':\n",
    "                            merged_distance_li[a][b] = float('inf')\n",
    "                            \n",
    "                        if a == 0 or b == 0 or a == h - 1 or b == w - 1:   \n",
    "                            if new_dist < merged_distance_li[a][b]:\n",
    "                                merged_distance_li[a][b] = new_dist\n",
    "                        else:\n",
    "                            heapq.heappush(heap, (new_dist, (a, b), new_broken_doors, True))\n",
    "                    else:\n",
    "                        if new_dist < distance_li[a][b]:\n",
    "                            distance_li[a][b] = new_dist\n",
    "                            if a == 0 or b == 0 or a == h - 1 or b == w - 1:\n",
    "                                pass\n",
    "                            else:\n",
    "                                heapq.heappush(heap, (new_dist, (a, b), new_broken_doors, False))\n",
    "                        \n",
    "    return distance_li, merged_distance_li\n",
    "\n",
    "\n",
    "coords = deepcopy(o_coords)\n",
    "\n",
    "result = []\n",
    "for prisoner in prisoners:\n",
    "    distance_li, merged_distance_li = dij(coords, prisoner)\n",
    "    \n",
    "    print(distance_li)\n",
    "    print(merged_distance_li)\n",
    "    break"
   ]
  },
  {
   "cell_type": "code",
   "execution_count": 14,
   "metadata": {},
   "outputs": [
    {
     "data": {
      "text/plain": [
       "[['*', 1, '*', '*', 1, '*', '*', 1, '*'],\n",
       " ['*', 1, '*', '*', 1, '*', '*', 1, '*'],\n",
       " ['*', 1, '*', '*', 1, '*', '*', 1, '*'],\n",
       " ['*', 1, '*', '*', 0, '*', '*', 1, '*'],\n",
       " ['*', 1, '*', 1, 0, 1, '*', 1, '*'],\n",
       " ['*', 0, 1, 1, '*', 1, 1, '$', '*'],\n",
       " ['*', 1, '*', '*', '*', '*', '*', 1, '*'],\n",
       " ['*', 0, 1, 0, 1, 0, 1, 0, '*'],\n",
       " ['*', '*', '*', '*', '*', '*', '*', '*', '*']]"
      ]
     },
     "execution_count": 14,
     "metadata": {},
     "output_type": "execute_result"
    }
   ],
   "source": [
    "coords"
   ]
  },
  {
   "cell_type": "code",
   "execution_count": 45,
   "metadata": {},
   "outputs": [
    {
     "name": "stdout",
     "output_type": "stream",
     "text": [
      "inf             inf             inf             inf             11             inf             inf             10             inf\n",
      "inf             inf             inf             inf             10             inf             inf             9             inf\n",
      "inf             inf             inf             inf             9             inf             inf             8             inf\n",
      "inf             inf             inf             inf             8             inf             inf             7             inf\n",
      "inf             inf             inf             9             8             8             inf             6             inf\n",
      "inf             0             11             10             inf             7             6             inf             inf\n",
      "inf             9             inf             inf             inf             inf             inf             6             inf\n",
      "inf             8             8             7             7             6             6             5             inf\n",
      "inf             inf             inf             inf             inf             inf             inf             inf             inf\n"
     ]
    }
   ],
   "source": [
    "for coord in merged_distance_li:\n",
    "    print(\"             \".join(map(str, coord)))"
   ]
  },
  {
   "cell_type": "markdown",
   "metadata": {},
   "source": [
    "시도 3"
   ]
  },
  {
   "cell_type": "code",
   "execution_count": 59,
   "metadata": {},
   "outputs": [],
   "source": [
    "prisoners = []\n",
    "\n",
    "for i in range(h):\n",
    "    for j in range(w):\n",
    "        if o_coords[i][j] == \"$\":\n",
    "            prisoners.append((i, j))\n",
    "            \n",
    "def dij(coords, prisoner):\n",
    "    nx = [-1, 1, 0, 0]\n",
    "    ny = [0, 0, -1, 1]\n",
    "\n",
    "    distance_li = [[float(\"inf\")] * w for _ in range(h)]\n",
    "    distance_li[prisoner[0]][prisoner[1]] = 0\n",
    "    \n",
    "    heap = []\n",
    "    heapq.heappush(heap, (0, prisoner))\n",
    "    \n",
    "    while heap:\n",
    "        dist, (x, y) = heapq.heappop(heap)\n",
    "        \n",
    "        for i in range(4):\n",
    "            a = x + nx[i]\n",
    "            b = y + ny[i]\n",
    "            \n",
    "            if 0 <= a < h and 0 <= b < w:\n",
    "                if coords[a][b] != \"*\":\n",
    "#                     if coords[a][b] == '$':\n",
    "#                         continue\n",
    "                        \n",
    "                    if coords[a][b] == 0 or coords[a][b] == \"$\":\n",
    "                        new_dist = dist\n",
    "                    elif coords[a][b] == 1:\n",
    "                        new_dist = dist + 1\n",
    "                    \n",
    "                    if new_dist < distance_li[a][b]:\n",
    "                        distance_li[a][b] = new_dist\n",
    "                        heapq.heappush(heap, (new_dist, (a, b)))\n",
    "                        \n",
    "    return distance_li\n",
    "\n",
    "\n",
    "distance_lis = []\n",
    "for i in range(2):\n",
    "    distance_li = dij(o_coords, prisoners[i])\n",
    "    distance_lis.append(distance_li)"
   ]
  },
  {
   "cell_type": "code",
   "execution_count": 60,
   "metadata": {},
   "outputs": [
    {
     "data": {
      "text/plain": [
       "[[inf, 5, inf, inf, 6, inf, inf, 10, inf],\n",
       " [inf, 4, inf, inf, 5, inf, inf, 9, inf],\n",
       " [inf, 3, inf, inf, 4, inf, inf, 8, inf],\n",
       " [inf, 2, inf, inf, 3, inf, inf, 7, inf],\n",
       " [inf, 1, inf, 3, 3, 4, inf, 6, inf],\n",
       " [inf, 0, 1, 2, inf, 5, 6, 5, inf],\n",
       " [inf, 1, inf, inf, inf, inf, inf, 5, inf],\n",
       " [inf, 1, 2, 2, 3, 3, 4, 4, inf],\n",
       " [inf, inf, inf, inf, inf, inf, inf, inf, inf]]"
      ]
     },
     "execution_count": 60,
     "metadata": {},
     "output_type": "execute_result"
    }
   ],
   "source": [
    "distance_lis[0]"
   ]
  },
  {
   "cell_type": "code",
   "execution_count": 67,
   "metadata": {},
   "outputs": [
    {
     "data": {
      "text/plain": [
       "[[inf, 10, inf, inf, 6, inf, inf, 5, inf],\n",
       " [inf, 9, inf, inf, 5, inf, inf, 4, inf],\n",
       " [inf, 8, inf, inf, 4, inf, inf, 3, inf],\n",
       " [inf, 7, inf, inf, 3, inf, inf, 2, inf],\n",
       " [inf, 6, inf, 4, 3, 3, inf, 1, inf],\n",
       " [inf, 5, 6, 5, inf, 2, 1, 0, inf],\n",
       " [inf, 5, inf, inf, inf, inf, inf, 1, inf],\n",
       " [inf, 4, 4, 3, 3, 2, 2, 1, inf],\n",
       " [inf, inf, inf, inf, inf, inf, inf, inf, inf]]"
      ]
     },
     "execution_count": 67,
     "metadata": {},
     "output_type": "execute_result"
    }
   ],
   "source": [
    "distance_lis[1]"
   ]
  },
  {
   "cell_type": "code",
   "execution_count": 62,
   "metadata": {},
   "outputs": [],
   "source": [
    "sum_distance_lis = [[float(\"inf\")] * w for _ in range(h)]\n",
    "\n",
    "for i in range(h):\n",
    "    for j in range(w):\n",
    "        sum_distance_lis[i][j] = distance_lis[0][i][j] + distance_lis[1][i][j]"
   ]
  },
  {
   "cell_type": "code",
   "execution_count": 63,
   "metadata": {},
   "outputs": [
    {
     "data": {
      "text/plain": [
       "[[inf, 15, inf, inf, 12, inf, inf, 15, inf],\n",
       " [inf, 13, inf, inf, 10, inf, inf, 13, inf],\n",
       " [inf, 11, inf, inf, 8, inf, inf, 11, inf],\n",
       " [inf, 9, inf, inf, 6, inf, inf, 9, inf],\n",
       " [inf, 7, inf, 7, 6, 7, inf, 7, inf],\n",
       " [inf, 5, 7, 7, inf, 7, 7, 5, inf],\n",
       " [inf, 6, inf, inf, inf, inf, inf, 6, inf],\n",
       " [inf, 5, 6, 5, 6, 5, 6, 5, inf],\n",
       " [inf, inf, inf, inf, inf, inf, inf, inf, inf]]"
      ]
     },
     "execution_count": 63,
     "metadata": {},
     "output_type": "execute_result"
    }
   ],
   "source": [
    "sum_distance_lis"
   ]
  },
  {
   "cell_type": "code",
   "execution_count": 66,
   "metadata": {},
   "outputs": [
    {
     "name": "stdout",
     "output_type": "stream",
     "text": [
      "inf      15      inf      inf      12      inf      inf      15      inf\n",
      "inf      13      inf      inf      10      inf      inf      13      inf\n",
      "inf      11      inf      inf      8      inf      inf      11      inf\n",
      "inf      9      inf      inf      6      inf      inf      9      inf\n",
      "inf      7      inf      7      6      7      inf      7      inf\n",
      "inf      5      7      7      inf      7      7      5      inf\n",
      "inf      6      inf      inf      inf      inf      inf      6      inf\n",
      "inf      5      6      5      6      5      6      5      inf\n",
      "inf      inf      inf      inf      inf      inf      inf      inf      inf\n"
     ]
    },
    {
     "data": {
      "text/plain": [
       "[None, None, None, None, None, None, None, None, None]"
      ]
     },
     "execution_count": 66,
     "metadata": {},
     "output_type": "execute_result"
    }
   ],
   "source": [
    "[print(\"      \".join(map(str, li))) for li in sum_distance_lis]"
   ]
  },
  {
   "cell_type": "code",
   "execution_count": 52,
   "metadata": {},
   "outputs": [],
   "source": [
    "new_coords = [[\"*\"] * w for _ in range(h)]\n",
    "\n",
    "for i in range(h):\n",
    "    for j in range(w):\n",
    "        if distance_lis[0][i][j] != float('inf') and distance_lis[1][i][j] != float('inf'):\n",
    "            new_coords[i][j] = o_coords[i][j]\n",
    "        if o_coords[i][j] == \"$\":\n",
    "            new_coords[i][j] = \"$\""
   ]
  },
  {
   "cell_type": "code",
   "execution_count": 58,
   "metadata": {},
   "outputs": [
    {
     "name": "stdout",
     "output_type": "stream",
     "text": [
      "****1****\n",
      "****1****\n",
      "****1****\n",
      "****0****\n",
      "***101***\n",
      "*$11*11$*\n",
      "*1*****1*\n",
      "*0101010*\n",
      "*********\n"
     ]
    },
    {
     "data": {
      "text/plain": [
       "[None, None, None, None, None, None, None, None, None]"
      ]
     },
     "execution_count": 58,
     "metadata": {},
     "output_type": "execute_result"
    }
   ],
   "source": [
    "[print(\"\".join(map(str, li))) for li in new_coords]"
   ]
  },
  {
   "cell_type": "code",
   "execution_count": 56,
   "metadata": {},
   "outputs": [
    {
     "data": {
      "text/plain": [
       "[['*', '*', '*', '*', 1, '*', '*', '*', '*'],\n",
       " ['*', '*', '*', '*', 1, '*', '*', '*', '*'],\n",
       " ['*', '*', '*', '*', 1, '*', '*', '*', '*'],\n",
       " ['*', '*', '*', '*', 0, '*', '*', '*', '*'],\n",
       " ['*', '*', '*', 1, 0, 1, '*', '*', '*'],\n",
       " ['*', '$', 1, 1, '*', 1, 1, '$', '*'],\n",
       " ['*', 1, '*', '*', '*', '*', '*', 1, '*'],\n",
       " ['*', 0, 1, 0, 1, 0, 1, 0, '*'],\n",
       " ['*', '*', '*', '*', '*', '*', '*', '*', '*']]"
      ]
     },
     "execution_count": 56,
     "metadata": {},
     "output_type": "execute_result"
    }
   ],
   "source": [
    "new_coords # ($ ! ! ! $ ! 같은 경우 못풀음)"
   ]
  },
  {
   "cell_type": "markdown",
   "metadata": {},
   "source": [
    "### 신나는 함수 실행 9184\n",
    "- 다이나믹 프로그래밍, 재귀"
   ]
  },
  {
   "cell_type": "code",
   "execution_count": 10,
   "metadata": {},
   "outputs": [],
   "source": [
    "\n",
    "\n",
    "def w(a, b, c):\n",
    "    if a <= 0 or b <= 0 or c <= 0:\n",
    "        return 1\n",
    "    if a > 20 or b > 20 or c > 20:\n",
    "        if memory_li[20 + 50][20 + 50][20 + 50] is None:\n",
    "            memory_li[20 + 50][20 + 50][20 + 50] = w(20, 20, 20)\n",
    "            \n",
    "            return memory_li[20 + 50][20 + 50][20 + 50]\n",
    "    if a < b and b < c:\n",
    "        if memory_li[a + 50][b + 50][c-1 + 50] is None:\n",
    "            memory_li[a + 50][b + 50][c-1 + 50] = w(a, b, c-1)\n",
    "        if memory_li[a + 50][b-1 + 50][c-1 + 50] is None:\n",
    "            memory_li[a + 50][b-1 + 50][c-1 + 50] = w(a, b-1, c-1)\n",
    "        if memory_li[a + 50][b-1 + 50][c + 50] is None:\n",
    "            memory_li[a + 50][b-1 + 50][c + 50] = w(a, b-1, c)\n",
    "            \n",
    "        return memory_li[a + 50][b + 50][c-1 + 50] + memory_li[a + 50][b-1 + 50][c-1 + 50] - memory_li[a + 50][b-1 + 50][c + 50]\n",
    "    else:\n",
    "        if memory_li[a-1 + 50][b + 50][c + 50] is None:\n",
    "            memory_li[a-1 + 50][b + 50][c + 50] = w(a-1, b, c)\n",
    "        if memory_li[a-1 + 50][b-1 + 50][c + 50] is None:\n",
    "            memory_li[a-1 + 50][b-1 + 50][c + 50] = w(a-1, b-1, c)\n",
    "        if memory_li[a-1 + 50][b + 50][c-1 + 50] is None:\n",
    "            memory_li[a-1 + 50][b + 50][c-1 + 50] = w(a-1, b, c-1)\n",
    "        if memory_li[a-1 + 50][b-1 + 50][c-1 + 50] is None:\n",
    "            memory_li[a-1 + 50][b-1 + 50][c-1 + 50] = w(a-1, b-1, c-1)\n",
    "        \n",
    "        return  memory_li[a-1 + 50][b + 50][c + 50] + memory_li[a-1 + 50][b-1 + 50][c + 50] + memory_li[a-1 + 50][b + 50][c-1 + 50] - memory_li[a-1 + 50][b-1 + 50][c-1 + 50]"
   ]
  },
  {
   "cell_type": "code",
   "execution_count": 4,
   "metadata": {},
   "outputs": [],
   "source": [
    "def w1(a, b, c):\n",
    "    if a <= 0 or b <= 0 or c <= 0:\n",
    "        return 1\n",
    "\n",
    "    if a > 20 or b > 20 or c > 20:\n",
    "        return w(20, 20, 20)\n",
    "\n",
    "    if a < b and b < c:\n",
    "        return w(a, b, c-1) + w(a, b-1, c-1) - w(a, b-1, c)\n",
    "\n",
    "    return w(a-1, b, c) + w(a-1, b-1, c) + w(a-1, b, c-1) - w(a-1, b-1, c-1)"
   ]
  },
  {
   "cell_type": "code",
   "execution_count": 13,
   "metadata": {},
   "outputs": [
    {
     "data": {
      "text/plain": [
       "32768"
      ]
     },
     "execution_count": 13,
     "metadata": {},
     "output_type": "execute_result"
    }
   ],
   "source": [
    "w(15, 15, 15)"
   ]
  },
  {
   "cell_type": "code",
   "execution_count": 14,
   "metadata": {},
   "outputs": [
    {
     "name": "stdout",
     "output_type": "stream",
     "text": [
      "1 1 1\n",
      "w(1, 1, 1) = 2\n",
      "2 2 2\n",
      "w(2, 2, 2) = 4\n",
      "10 4 6\n",
      "w(10, 4, 6) = 523\n",
      "50 50 50\n",
      "w(50, 50, 50) = 1048576\n",
      "-1 7 18\n",
      "w(-1, 7, 18) = 1\n",
      "-1 -1 -1\n"
     ]
    }
   ],
   "source": [
    "memory_li = [[[None] * 101 for _ in range(101)] for _ in range(101)]\n",
    "\n",
    "def w(a, b, c):\n",
    "    if a <= 0 or b <= 0 or c <= 0:\n",
    "        return 1\n",
    "    if a > 20 or b > 20 or c > 20:\n",
    "        if memory_li[a + 50][b + 50][c + 50] is None:\n",
    "            memory_li[a + 50][b + 50][c + 50] = w(20, 20, 20)    \n",
    "        return memory_li[a + 50][b + 50][c + 50]\n",
    "        \n",
    "    if a < b and b < c:\n",
    "        if memory_li[a + 50][b + 50][c-1 + 50] is None:\n",
    "            memory_li[a + 50][b + 50][c-1 + 50] = w(a, b, c-1)\n",
    "        if memory_li[a + 50][b-1 + 50][c-1 + 50] is None:\n",
    "            memory_li[a + 50][b-1 + 50][c-1 + 50] = w(a, b-1, c-1)\n",
    "        if memory_li[a + 50][b-1 + 50][c + 50] is None:\n",
    "            memory_li[a + 50][b-1 + 50][c + 50] = w(a, b-1, c)\n",
    "            \n",
    "        return memory_li[a + 50][b + 50][c-1 + 50] + memory_li[a + 50][b-1 + 50][c-1 + 50] - memory_li[a + 50][b-1 + 50][c + 50]\n",
    "\n",
    "    if memory_li[a-1 + 50][b + 50][c + 50] is None:\n",
    "        memory_li[a-1 + 50][b + 50][c + 50] = w(a-1, b, c)\n",
    "    if memory_li[a-1 + 50][b-1 + 50][c + 50] is None:\n",
    "        memory_li[a-1 + 50][b-1 + 50][c + 50] = w(a-1, b-1, c)\n",
    "    if memory_li[a-1 + 50][b + 50][c-1 + 50] is None:\n",
    "        memory_li[a-1 + 50][b + 50][c-1 + 50] = w(a-1, b, c-1)\n",
    "    if memory_li[a-1 + 50][b-1 + 50][c-1 + 50] is None:\n",
    "        memory_li[a-1 + 50][b-1 + 50][c-1 + 50] = w(a-1, b-1, c-1)\n",
    "\n",
    "    return  memory_li[a-1 + 50][b + 50][c + 50] + memory_li[a-1 + 50][b-1 + 50][c + 50] + memory_li[a-1 + 50][b + 50][c-1 + 50] - memory_li[a-1 + 50][b-1 + 50][c-1 + 50]\n",
    "\n",
    "while True:\n",
    "    a, b, c = map(int, input().split())\n",
    "    if a == -1 and b == -1 and c == -1:\n",
    "        break\n",
    "    answer = w(a, b, c)\n",
    "    print(f'w({a}, {b}, {c}) = {answer}')"
   ]
  },
  {
   "cell_type": "markdown",
   "metadata": {},
   "source": [
    "### 파도반 수열 9461\n",
    "- 수학, 다이나믹 프로그래밍"
   ]
  },
  {
   "cell_type": "code",
   "execution_count": 15,
   "metadata": {},
   "outputs": [],
   "source": [
    "dp = [0, 1, 1, 1, 2, 2, 3, 4, 5, 7, 9, 12, 16, 21]"
   ]
  },
  {
   "cell_type": "code",
   "execution_count": 16,
   "metadata": {},
   "outputs": [],
   "source": [
    "for i in range(101):\n",
    "    dp.append(dp[-1] + dp[-5])"
   ]
  },
  {
   "cell_type": "code",
   "execution_count": 19,
   "metadata": {},
   "outputs": [
    {
     "name": "stdout",
     "output_type": "stream",
     "text": [
      "2\n",
      "6\n",
      "3\n",
      "12\n",
      "16\n"
     ]
    }
   ],
   "source": [
    "T = int(input())\n",
    "\n",
    "dp = [0, 1, 1, 1, 2, 2, 3, 4, 5, 7, 9, 12, 16, 21]\n",
    "\n",
    "for i in range(101):\n",
    "    dp.append(dp[-1] + dp[-5])\n",
    "\n",
    "for _ in range(T):\n",
    "    print(dp[int(input())])"
   ]
  },
  {
   "cell_type": "markdown",
   "metadata": {},
   "source": [
    "### 정수 삼각형 1932\n",
    "- 다이나믹 프로그래밍"
   ]
  },
  {
   "cell_type": "code",
   "execution_count": 22,
   "metadata": {},
   "outputs": [],
   "source": [
    "import copy\n",
    "o_dp = copy.deepcopy(dp)"
   ]
  },
  {
   "cell_type": "code",
   "execution_count": 42,
   "metadata": {},
   "outputs": [
    {
     "name": "stdout",
     "output_type": "stream",
     "text": [
      "2\n",
      "1\n",
      "2 3\n"
     ]
    }
   ],
   "source": [
    "n = int(input())\n",
    "\n",
    "dp = []\n",
    "for _ in range(n):\n",
    "    dp.append(list(map(int, input().split())))"
   ]
  },
  {
   "cell_type": "code",
   "execution_count": 29,
   "metadata": {},
   "outputs": [
    {
     "data": {
      "text/plain": [
       "(8, 1)"
      ]
     },
     "execution_count": 29,
     "metadata": {},
     "output_type": "execute_result"
    }
   ],
   "source": [
    "dp[2][0], dp[2][1]"
   ]
  },
  {
   "cell_type": "code",
   "execution_count": 44,
   "metadata": {},
   "outputs": [
    {
     "data": {
      "text/plain": [
       "[[1], [3, 4]]"
      ]
     },
     "execution_count": 44,
     "metadata": {},
     "output_type": "execute_result"
    }
   ],
   "source": [
    "dp"
   ]
  },
  {
   "cell_type": "code",
   "execution_count": 43,
   "metadata": {},
   "outputs": [
    {
     "name": "stdout",
     "output_type": "stream",
     "text": [
      "4\n"
     ]
    }
   ],
   "source": [
    "for i in range(1, n):\n",
    "    for j in range(i + 1):\n",
    "        if j == 0:\n",
    "            dp[i][j] += dp[i - 1][j]\n",
    "        else:\n",
    "            dp[i][j] += max(dp[i - 1][j - 1: j + 1])\n",
    "            \n",
    "print(max(dp[-1]))"
   ]
  },
  {
   "cell_type": "code",
   "execution_count": 45,
   "metadata": {},
   "outputs": [
    {
     "name": "stdout",
     "output_type": "stream",
     "text": [
      "3\n",
      "1\n",
      "1 2\n",
      "1 2 3\n",
      "6\n"
     ]
    }
   ],
   "source": [
    "n = int(input())\n",
    "\n",
    "dp = []\n",
    "for _ in range(n):\n",
    "    dp.append(list(map(int, input().split())))\n",
    "    \n",
    "for i in range(1, n):\n",
    "    for j in range(i + 1):\n",
    "        if j == 0:\n",
    "            dp[i][j] += dp[i - 1][j]\n",
    "        else:\n",
    "            dp[i][j] += max(dp[i - 1][j - 1: j + 1])\n",
    "            \n",
    "print(max(dp[-1]))"
   ]
  },
  {
   "cell_type": "markdown",
   "metadata": {},
   "source": [
    "### 쉬운 계단 수 10844\n",
    "- 다이나믹 프로그래밍"
   ]
  },
  {
   "cell_type": "code",
   "execution_count": 46,
   "metadata": {},
   "outputs": [],
   "source": [
    "d = {0: 0, 1: 1, 2: 1, 3: 1, 4: 1, 5: 1, 6: 1, 7: 1, 8: 1, 9: 1}"
   ]
  },
  {
   "cell_type": "code",
   "execution_count": 47,
   "metadata": {},
   "outputs": [],
   "source": [
    "new_d = {i: 0 for i in range(10)}"
   ]
  },
  {
   "cell_type": "code",
   "execution_count": 48,
   "metadata": {},
   "outputs": [
    {
     "data": {
      "text/plain": [
       "{0: 0, 1: 0, 2: 0, 3: 0, 4: 0, 5: 0, 6: 0, 7: 0, 8: 0, 9: 0}"
      ]
     },
     "execution_count": 48,
     "metadata": {},
     "output_type": "execute_result"
    }
   ],
   "source": [
    "new_d"
   ]
  },
  {
   "cell_type": "code",
   "execution_count": 67,
   "metadata": {},
   "outputs": [],
   "source": [
    "def stair(d):\n",
    "    new_d = {i: 0 for i in range(10)}\n",
    "    \n",
    "    for key, item in d.items():\n",
    "        if key == 0:\n",
    "            new_d[1] += item\n",
    "            new_d[1] %= 1000000000\n",
    "        elif key == 9:\n",
    "            new_d[8] += item\n",
    "            new_d[8] %= 1000000000\n",
    "        else:\n",
    "            new_d[key - 1] += item\n",
    "            new_d[key + 1] += item\n",
    "            \n",
    "            new_d[key - 1] %= 1000000000\n",
    "            new_d[key + 1] %= 1000000000\n",
    "    return new_d"
   ]
  },
  {
   "cell_type": "code",
   "execution_count": 75,
   "metadata": {},
   "outputs": [
    {
     "name": "stdout",
     "output_type": "stream",
     "text": [
      "100\n",
      "18404112\n"
     ]
    }
   ],
   "source": [
    "n = int(input())\n",
    "\n",
    "def stair(d):\n",
    "    new_d = {i: 0 for i in range(10)}\n",
    "    \n",
    "    for key, item in d.items():\n",
    "        if key == 0:\n",
    "            new_d[1] += item\n",
    "            new_d[1] %= 1000000000\n",
    "        elif key == 9:\n",
    "            new_d[8] += item\n",
    "            new_d[8] %= 1000000000\n",
    "        else:\n",
    "            new_d[key - 1] += item\n",
    "            new_d[key + 1] += item\n",
    "            \n",
    "            new_d[key - 1] %= 1000000000\n",
    "            new_d[key + 1] %= 1000000000\n",
    "    return new_d\n",
    "\n",
    "d = {0: 0, 1: 1, 2: 1, 3: 1, 4: 1, 5: 1, 6: 1, 7: 1, 8: 1, 9: 1}\n",
    "for _ in range(1, n):\n",
    "    d = stair(d)\n",
    "    \n",
    "print(sum(d.values()) % 1000000000)"
   ]
  },
  {
   "cell_type": "markdown",
   "metadata": {},
   "source": [
    "### 포도주 시식 2156\n",
    "- 다이나믹 프로그래밍"
   ]
  },
  {
   "cell_type": "code",
   "execution_count": 76,
   "metadata": {},
   "outputs": [
    {
     "name": "stdout",
     "output_type": "stream",
     "text": [
      "6\n",
      "6\n",
      "10\n",
      "13\n",
      "9\n",
      "8\n",
      "1\n"
     ]
    }
   ],
   "source": [
    "n = int(input())\n",
    "li = []\n",
    "for _ in range(n):\n",
    "    li.append(int(input()))"
   ]
  },
  {
   "cell_type": "code",
   "execution_count": 77,
   "metadata": {},
   "outputs": [
    {
     "data": {
      "text/plain": [
       "[6, 10, 13, 9, 8, 1]"
      ]
     },
     "execution_count": 77,
     "metadata": {},
     "output_type": "execute_result"
    }
   ],
   "source": [
    "li"
   ]
  },
  {
   "cell_type": "code",
   "execution_count": 85,
   "metadata": {},
   "outputs": [],
   "source": [
    "dp = []\n",
    "dp.append((li[0], li[0]))"
   ]
  },
  {
   "cell_type": "code",
   "execution_count": 86,
   "metadata": {},
   "outputs": [],
   "source": [
    "for i in range(1, len(li)):\n",
    "    if i == 1:\n",
    "        dp.append((li[0] + li[1], -float('inf')))\n",
    "    else:\n",
    "        dp.append((li[i] + dp[-1][1], li[i] + max(dp[-2])))"
   ]
  },
  {
   "cell_type": "code",
   "execution_count": 89,
   "metadata": {},
   "outputs": [
    {
     "data": {
      "text/plain": [
       "33"
      ]
     },
     "execution_count": 89,
     "metadata": {},
     "output_type": "execute_result"
    }
   ],
   "source": [
    "max(dp[-2] + dp[-1])"
   ]
  },
  {
   "cell_type": "code",
   "execution_count": 145,
   "metadata": {},
   "outputs": [
    {
     "name": "stdout",
     "output_type": "stream",
     "text": [
      "6\n",
      "4\n",
      "5\n",
      "1\n",
      "1\n",
      "16\n",
      "15\n",
      "37\n"
     ]
    }
   ],
   "source": [
    "n = int(input())\n",
    "li = []\n",
    "for _ in range(n):\n",
    "    li.append(int(input()))\n",
    "\n",
    "    \n",
    "def drink(li):\n",
    "    dp = []\n",
    "    dp.append((li[0], li[0]))\n",
    "\n",
    "    for i in range(1, len(li)):\n",
    "        if i == 1:\n",
    "            dp.append((li[1] + li[0], -float('inf')))\n",
    "        else:\n",
    "            dp.append((li[i] + dp[-1][1], li[i] + max(dp[-2])))\n",
    "\n",
    "    return max(dp[-2] + dp[-1])\n",
    "    \n",
    "    \n",
    "if n <= 2:\n",
    "    print(sum(li))\n",
    "else:\n",
    "    print(max((drink(li[:]), drink(li[1:]))))"
   ]
  },
  {
   "cell_type": "code",
   "execution_count": 19,
   "metadata": {},
   "outputs": [
    {
     "name": "stdout",
     "output_type": "stream",
     "text": [
      "4\n",
      "4\n",
      "1\n",
      "4\n",
      "4\n",
      "12\n"
     ]
    }
   ],
   "source": [
    "# 맞았음\n",
    "\n",
    "n = int(input())\n",
    "li = []\n",
    "for _ in range(n):\n",
    "    li.append(int(input()))\n",
    "\n",
    "    \n",
    "def max_drink(li):\n",
    "    dp = []\n",
    "    dp.append((li[0], li[0], 0))\n",
    "\n",
    "    for i in range(1, len(li)):\n",
    "        if i == 1:\n",
    "            dp.append((li[1] + li[0], li[1], li[0]))\n",
    "        else:\n",
    "            dp.append((li[i] + dp[-1][1], li[i] + max(dp[-2]), max(dp[-2] + dp[-1])))\n",
    "\n",
    "    return max(dp[-1])\n",
    "    \n",
    "    \n",
    "if n <= 2:\n",
    "    print(sum(li))\n",
    "else:\n",
    "    print(max_drink(li))"
   ]
  },
  {
   "cell_type": "markdown",
   "metadata": {},
   "source": [
    "### 전깃줄 2565\n",
    "- 다이나믹 프로그래밍"
   ]
  },
  {
   "cell_type": "code",
   "execution_count": 27,
   "metadata": {},
   "outputs": [
    {
     "name": "stdout",
     "output_type": "stream",
     "text": [
      "8\n",
      "1 8\n",
      "3 9\n",
      "2 2\n",
      "4 1\n",
      "6 4\n",
      "10 10\n",
      "9 7\n",
      "7 6\n"
     ]
    }
   ],
   "source": [
    "n = int(input())\n",
    "\n",
    "li = []\n",
    "for _ in range(n):\n",
    "    li.append(tuple(map(int, input().split())))"
   ]
  },
  {
   "cell_type": "code",
   "execution_count": 30,
   "metadata": {},
   "outputs": [],
   "source": [
    "new_li = [v[1] for v in sorted(li)]"
   ]
  },
  {
   "cell_type": "code",
   "execution_count": 31,
   "metadata": {},
   "outputs": [
    {
     "data": {
      "text/plain": [
       "[8, 2, 9, 1, 4, 6, 7, 10]"
      ]
     },
     "execution_count": 31,
     "metadata": {},
     "output_type": "execute_result"
    }
   ],
   "source": [
    "new_li"
   ]
  },
  {
   "cell_type": "code",
   "execution_count": 32,
   "metadata": {},
   "outputs": [],
   "source": [
    "dp = []"
   ]
  },
  {
   "cell_type": "code",
   "execution_count": 35,
   "metadata": {},
   "outputs": [],
   "source": [
    "for v in new_li:\n",
    "    candidates = [value[1] for value in dp if value[0] < v]\n",
    "    if not candidates:\n",
    "        dp.append((v, 1))\n",
    "    else:\n",
    "        dp.append((v, max(candidates) + 1))"
   ]
  },
  {
   "cell_type": "code",
   "execution_count": 37,
   "metadata": {},
   "outputs": [],
   "source": [
    "dp.sort(key=lambda x: x[1], reverse=True)"
   ]
  },
  {
   "cell_type": "code",
   "execution_count": 41,
   "metadata": {},
   "outputs": [],
   "source": [
    "num_to_save = dp[0][1]"
   ]
  },
  {
   "cell_type": "code",
   "execution_count": 42,
   "metadata": {},
   "outputs": [
    {
     "data": {
      "text/plain": [
       "3"
      ]
     },
     "execution_count": 42,
     "metadata": {},
     "output_type": "execute_result"
    }
   ],
   "source": [
    "print(n - num_to_save)"
   ]
  },
  {
   "cell_type": "code",
   "execution_count": 46,
   "metadata": {},
   "outputs": [
    {
     "name": "stdout",
     "output_type": "stream",
     "text": [
      "2\n",
      "1 3\n",
      "2 4\n",
      "0\n"
     ]
    }
   ],
   "source": [
    "n = int(input())\n",
    "\n",
    "li = []\n",
    "for _ in range(n):\n",
    "    li.append(tuple(map(int, input().split())))\n",
    "    \n",
    "new_li = [v[1] for v in sorted(li)]\n",
    "dp = []\n",
    "\n",
    "for v in new_li:\n",
    "    candidates = [value[1] for value in dp if value[0] < v]\n",
    "    if not candidates:\n",
    "        dp.append((v, 1))\n",
    "    else:\n",
    "        dp.append((v, max(candidates) + 1))\n",
    "        \n",
    "dp.sort(key=lambda x: x[1], reverse=True)\n",
    "num_to_save = dp[0][1]\n",
    "print(n - num_to_save)"
   ]
  },
  {
   "cell_type": "markdown",
   "metadata": {},
   "source": [
    "### 연속합 1912\n",
    "- 다이나믹 프로그래밍"
   ]
  },
  {
   "cell_type": "code",
   "execution_count": 47,
   "metadata": {},
   "outputs": [
    {
     "name": "stdout",
     "output_type": "stream",
     "text": [
      "10\n",
      "10 -4 3 1 5 6 -35 12 21 -1\n"
     ]
    }
   ],
   "source": [
    "n = int(input())\n",
    "li = list(map(int, input().split()))"
   ]
  },
  {
   "cell_type": "code",
   "execution_count": 48,
   "metadata": {},
   "outputs": [],
   "source": [
    "dp = []\n",
    "\n",
    "for i in range(n):\n",
    "    if i == 0:\n",
    "        dp.append((li[0], li[0]))\n",
    "    else:\n",
    "        dp.append((li[i], li[i] + max(dp[-1])))"
   ]
  },
  {
   "cell_type": "code",
   "execution_count": 52,
   "metadata": {},
   "outputs": [
    {
     "name": "stdout",
     "output_type": "stream",
     "text": [
      "33\n"
     ]
    }
   ],
   "source": [
    "from itertools import chain\n",
    "print(max(chain(*dp)))"
   ]
  },
  {
   "cell_type": "code",
   "execution_count": 56,
   "metadata": {},
   "outputs": [
    {
     "name": "stdout",
     "output_type": "stream",
     "text": [
      "1\n",
      "5\n",
      "5\n"
     ]
    }
   ],
   "source": [
    "from itertools import chain\n",
    "\n",
    "n = int(input())\n",
    "li = list(map(int, input().split()))\n",
    "\n",
    "dp = []\n",
    "\n",
    "for i in range(n):\n",
    "    if i == 0:\n",
    "        dp.append((li[0], li[0]))\n",
    "    else:\n",
    "        dp.append((li[i], li[i] + max(dp[-1])))\n",
    "        \n",
    "print(max(chain(*dp)))"
   ]
  },
  {
   "cell_type": "markdown",
   "metadata": {},
   "source": [
    "### 회의실 배정 1931\n",
    "- 그리디, 정렬"
   ]
  },
  {
   "cell_type": "code",
   "execution_count": 1,
   "metadata": {},
   "outputs": [
    {
     "name": "stdout",
     "output_type": "stream",
     "text": [
      "11\n",
      "1 4\n",
      "3 5\n",
      "0 6\n",
      "5 7\n",
      "3 8\n",
      "5 9\n",
      "6 10\n",
      "8 11\n",
      "8 12\n",
      "2 13\n",
      "12 14\n"
     ]
    }
   ],
   "source": [
    "n = int(input())\n",
    "\n",
    "li = []\n",
    "for _ in range(n):\n",
    "    li.append(tuple(map(int, input().split())))"
   ]
  },
  {
   "cell_type": "code",
   "execution_count": 2,
   "metadata": {},
   "outputs": [],
   "source": [
    "li.sort(key=lambda x: x[1])"
   ]
  },
  {
   "cell_type": "code",
   "execution_count": 3,
   "metadata": {},
   "outputs": [
    {
     "data": {
      "text/plain": [
       "[(1, 4),\n",
       " (3, 5),\n",
       " (0, 6),\n",
       " (5, 7),\n",
       " (3, 8),\n",
       " (5, 9),\n",
       " (6, 10),\n",
       " (8, 11),\n",
       " (8, 12),\n",
       " (2, 13),\n",
       " (12, 14)]"
      ]
     },
     "execution_count": 3,
     "metadata": {},
     "output_type": "execute_result"
    }
   ],
   "source": [
    "li"
   ]
  },
  {
   "cell_type": "code",
   "execution_count": 4,
   "metadata": {},
   "outputs": [],
   "source": [
    "count = 0\n",
    "last_end_time = -1\n",
    "for start, end in li:\n",
    "    if last_end_time < start:\n",
    "        count += 1\n",
    "        last_end_time = end"
   ]
  },
  {
   "cell_type": "code",
   "execution_count": 5,
   "metadata": {},
   "outputs": [
    {
     "data": {
      "text/plain": [
       "4"
      ]
     },
     "execution_count": 5,
     "metadata": {},
     "output_type": "execute_result"
    }
   ],
   "source": [
    "count"
   ]
  },
  {
   "cell_type": "code",
   "execution_count": 11,
   "metadata": {},
   "outputs": [
    {
     "name": "stdout",
     "output_type": "stream",
     "text": [
      "5\n",
      "0 0\n",
      "2 2\n",
      "1 2\n",
      "0 2\n",
      "2 3\n",
      "3\n"
     ]
    }
   ],
   "source": [
    "import sys\n",
    "# input = sys.stdin.readline\n",
    "\n",
    "n = int(input())\n",
    "\n",
    "li = []\n",
    "for _ in range(n):\n",
    "    li.append(tuple(map(int, input().split())))\n",
    "    \n",
    "li.sort(key=lambda x: (x[1], x[0]))\n",
    "\n",
    "count = 0\n",
    "last_end_time = -1\n",
    "for start, end in li:\n",
    "    if last_end_time <= start:\n",
    "        count += 1\n",
    "        last_end_time = end\n",
    "        \n",
    "print(count)"
   ]
  },
  {
   "cell_type": "markdown",
   "metadata": {},
   "source": [
    "### 잃어버린 괄호\n",
    "- 그리디, 수학, 파싱, 문자열"
   ]
  },
  {
   "cell_type": "code",
   "execution_count": 27,
   "metadata": {},
   "outputs": [
    {
     "name": "stdout",
     "output_type": "stream",
     "text": [
      "1+2-3+4\n"
     ]
    }
   ],
   "source": [
    "value = input()"
   ]
  },
  {
   "cell_type": "code",
   "execution_count": 28,
   "metadata": {},
   "outputs": [
    {
     "name": "stdout",
     "output_type": "stream",
     "text": [
      "-4\n"
     ]
    }
   ],
   "source": [
    "value = input()\n",
    "\n",
    "if '-' in value:\n",
    "    minus_index = value.index(\"-\")\n",
    "    before_minus = value[:minus_index]\n",
    "    before_minus = before_minus.replace(\"+\", \" \")\n",
    "    before_minus_sum = sum(map(int, before_minus.split(\" \")))\n",
    "    \n",
    "    after_minus = value[minus_index + 1:]\n",
    "    after_minus = after_minus.replace(\"+\", \" \").replace(\"-\", \" \")\n",
    "    after_minus_sum = sum(map(int, after_minus.split(\" \")))\n",
    "    \n",
    "    result = before_minus_sum - after_minus_sum\n",
    "else:\n",
    "    value = value.replace(\"+\", \" \")\n",
    "    result = sum(map(int, value.split(\" \")))\n",
    "    \n",
    "print(result)"
   ]
  },
  {
   "cell_type": "markdown",
   "metadata": {},
   "source": [
    "### 주유소 13305\n",
    "- 그리디"
   ]
  },
  {
   "cell_type": "code",
   "execution_count": 34,
   "metadata": {},
   "outputs": [
    {
     "name": "stdout",
     "output_type": "stream",
     "text": [
      "4\n",
      "3 3 4\n",
      "1 1 1 1\n"
     ]
    }
   ],
   "source": [
    "n = int(input())\n",
    "distances = list(map(int, input().split()))\n",
    "prices = list(map(int, input().split()))[:-1]"
   ]
  },
  {
   "cell_type": "code",
   "execution_count": 30,
   "metadata": {},
   "outputs": [
    {
     "data": {
      "text/plain": [
       "[5, 2, 4]"
      ]
     },
     "execution_count": 30,
     "metadata": {},
     "output_type": "execute_result"
    }
   ],
   "source": [
    "prices"
   ]
  },
  {
   "cell_type": "code",
   "execution_count": 35,
   "metadata": {},
   "outputs": [],
   "source": [
    "price_sequence = sorted(set(prices))"
   ]
  },
  {
   "cell_type": "code",
   "execution_count": 36,
   "metadata": {},
   "outputs": [
    {
     "name": "stdout",
     "output_type": "stream",
     "text": [
      "10\n"
     ]
    }
   ],
   "source": [
    "total = 0\n",
    "for price in price_sequence:\n",
    "    if price in prices:\n",
    "        price_index = prices.index(price)\n",
    "        total += sum(distances[price_index:]) * price\n",
    "        del distances[price_index:]\n",
    "        del prices[price_index:]\n",
    "        \n",
    "        if not distances:\n",
    "            break\n",
    "            \n",
    "print(total)"
   ]
  },
  {
   "cell_type": "code",
   "execution_count": 38,
   "metadata": {},
   "outputs": [
    {
     "name": "stdout",
     "output_type": "stream",
     "text": [
      "2\n",
      "2\n",
      "1 2\n",
      "2\n"
     ]
    }
   ],
   "source": [
    "# 시간 초과\n",
    "n = int(input())\n",
    "distances = list(map(int, input().split()))\n",
    "prices = list(map(int, input().split()))[:-1]\n",
    "\n",
    "price_sequence = sorted(set(prices))\n",
    "\n",
    "total = 0\n",
    "for price in price_sequence:\n",
    "    if price in prices:\n",
    "        price_index = prices.index(price)\n",
    "        total += sum(distances[price_index:]) * price\n",
    "        del distances[price_index:]\n",
    "        del prices[price_index:]\n",
    "        \n",
    "        if not distances:\n",
    "            break\n",
    "            \n",
    "print(total)"
   ]
  },
  {
   "cell_type": "code",
   "execution_count": 43,
   "metadata": {},
   "outputs": [
    {
     "name": "stdout",
     "output_type": "stream",
     "text": [
      "4\n",
      "2 3 1\n",
      "5 2 4 1\n",
      "18\n"
     ]
    }
   ],
   "source": [
    "# 시간 초과\n",
    "n = int(input())\n",
    "distances = list(map(int, input().split()))\n",
    "prices = list(map(int, input().split()))[:-1]\n",
    "prices = [(v, i) for i, v in enumerate(prices)]\n",
    "prices = sorted(prices, key=lambda x: x[0])\n",
    "\n",
    "total_distance = sum(distances)\n",
    "covered_distance = 0\n",
    "total = 0\n",
    "for price, index in prices:\n",
    "    if covered_distance < sum(distances[index:]):\n",
    "        total += (sum(distances[index:]) - covered_distance) * price\n",
    "        covered_distance = sum(distances[index:])\n",
    "        \n",
    "    if covered_distance == total_distance:\n",
    "        break\n",
    "        \n",
    "print(total)"
   ]
  },
  {
   "cell_type": "code",
   "execution_count": 60,
   "metadata": {},
   "outputs": [
    {
     "name": "stdout",
     "output_type": "stream",
     "text": [
      "2\n",
      "3\n",
      "2 1\n",
      "6\n"
     ]
    }
   ],
   "source": [
    "# 맞았음\n",
    "from itertools import accumulate\n",
    "\n",
    "n = int(input())\n",
    "distances = list(map(int, input().split()))\n",
    "prices = list(map(int, input().split()))[:-1]\n",
    "\n",
    "cumul_distances = list(accumulate(reversed(distances)))\n",
    "cumul_distances.reverse()\n",
    "\n",
    "prices = [(v, i) for i, v in enumerate(prices)]\n",
    "prices = sorted(prices, key=lambda x: x[0])\n",
    "\n",
    "total_distance = sum(distances)\n",
    "\n",
    "covered_distance = 0\n",
    "total = 0\n",
    "for price, index in prices:\n",
    "    cumul_distance =  cumul_distances[index]\n",
    "    if covered_distance < cumul_distance:\n",
    "        total += (cumul_distance - covered_distance) * price\n",
    "        covered_distance = cumul_distance\n",
    "        \n",
    "    if covered_distance == total_distance:\n",
    "        break\n",
    "        \n",
    "print(total)"
   ]
  },
  {
   "cell_type": "code",
   "execution_count": 62,
   "metadata": {},
   "outputs": [
    {
     "name": "stdout",
     "output_type": "stream",
     "text": [
      "2\n",
      "3\n",
      "2 1\n",
      "6\n"
     ]
    }
   ],
   "source": [
    "# 다른 사람 코드(sohn1029)\n",
    "N = int(input())\n",
    "dist = list(map(int, input().split()))\n",
    "price = list(map(int, input().split()))\n",
    "\n",
    "ans = 0\n",
    "current = price[0]\n",
    "for i in range(N-1):\n",
    "    if current > price[i]:\n",
    "        current = price[i]\n",
    "    ans += (current * dist[i])\n",
    "\n",
    "print(ans)"
   ]
  },
  {
   "cell_type": "markdown",
   "metadata": {},
   "source": [
    "### 배수와 약수 5086"
   ]
  },
  {
   "cell_type": "code",
   "execution_count": 63,
   "metadata": {},
   "outputs": [
    {
     "name": "stdout",
     "output_type": "stream",
     "text": [
      "8 16\n"
     ]
    }
   ],
   "source": [
    "a, b = map(int, input().split())"
   ]
  },
  {
   "cell_type": "code",
   "execution_count": 69,
   "metadata": {},
   "outputs": [
    {
     "name": "stdout",
     "output_type": "stream",
     "text": [
      "0 0\n"
     ]
    }
   ],
   "source": [
    "import sys\n",
    "# input = sys.stdin.readline\n",
    "\n",
    "while True:\n",
    "    a, b = map(int, input().split())\n",
    "    if a == b == 0:\n",
    "        break\n",
    "\n",
    "    if a % b == 0:\n",
    "        print(\"multiple\")\n",
    "    elif b % a == 0:\n",
    "        print(\"factor\")\n",
    "    else:\n",
    "        print(\"neither\")"
   ]
  },
  {
   "cell_type": "code",
   "execution_count": 72,
   "metadata": {},
   "outputs": [
    {
     "name": "stdout",
     "output_type": "stream",
     "text": [
      "1\n",
      "3\n",
      "9\n"
     ]
    }
   ],
   "source": [
    "n = int(input())\n",
    "li = list(map(int, input().split()))\n",
    "li.sort()\n",
    "\n",
    "if n == 1:\n",
    "    result = li[0] ** 2\n",
    "else:\n",
    "    result = li[0] * li[-1]\n",
    "\n",
    "print(result)"
   ]
  },
  {
   "cell_type": "code",
   "execution_count": 73,
   "metadata": {},
   "outputs": [
    {
     "name": "stdout",
     "output_type": "stream",
     "text": [
      "5 2\n",
      "10\n"
     ]
    }
   ],
   "source": [
    "from decimal import getcontext, Decimal\n",
    "\n",
    "getcontext().prec = 1000\n",
    "\n",
    "n, m = map(int, input().split())\n",
    "\n",
    "nom = 1\n",
    "for i in range(n, n - m, -1):\n",
    "    nom *= i\n",
    "\n",
    "denom = 1\n",
    "for i in range(1, m + 1):\n",
    "    denom *= i\n",
    "    \n",
    "print(Decimal(nom) // Decimal(denom))"
   ]
  },
  {
   "cell_type": "markdown",
   "metadata": {},
   "source": [
    "### 벌집 2292"
   ]
  },
  {
   "cell_type": "code",
   "execution_count": 57,
   "metadata": {},
   "outputs": [
    {
     "name": "stdout",
     "output_type": "stream",
     "text": [
      "1000000000\n",
      "18258\n"
     ]
    }
   ],
   "source": [
    "n = int(input())\n",
    "\n",
    "if n == 1:\n",
    "    print(1)\n",
    "elif 2 <= n <= 7:\n",
    "    print(2)\n",
    "else:\n",
    "    current_a = 7\n",
    "    current_b = 6\n",
    "\n",
    "    count = 3\n",
    "    while True:\n",
    "        current_b += 6\n",
    "        current_a += current_b\n",
    "        \n",
    "        if current_a >= n:\n",
    "            break\n",
    "            \n",
    "        count += 1\n",
    "\n",
    "    print(count)"
   ]
  },
  {
   "cell_type": "code",
   "execution_count": null,
   "metadata": {},
   "outputs": [],
   "source": [
    "# 다른 사람 코드(2292)\n",
    "Num = int(input())\n",
    "\n",
    "X = 1\n",
    "i = 1\n",
    "while(Num > X):\n",
    "    X += 6*i\n",
    "    i += 1\n",
    "\n",
    "print(i)"
   ]
  },
  {
   "cell_type": "markdown",
   "metadata": {},
   "source": [
    "### 분수찾기 1193"
   ]
  },
  {
   "cell_type": "code",
   "execution_count": null,
   "metadata": {},
   "outputs": [],
   "source": [
    "1/1 1/2 2/1 3/1 2/2 1/3 4/1 3/2 2/3 1/4 5/1 4/2 3/3 2/4 1/5"
   ]
  },
  {
   "cell_type": "code",
   "execution_count": null,
   "metadata": {},
   "outputs": [],
   "source": [
    "2\n",
    "11\n",
    "\n",
    "3\n",
    "12 21\n",
    "\n",
    "4\n",
    "31 22 13\n",
    "\n",
    "5\n",
    "14 23 32 41\n",
    "\n",
    "6\n",
    "51 42 33 24 15"
   ]
  },
  {
   "cell_type": "code",
   "execution_count": 59,
   "metadata": {},
   "outputs": [
    {
     "name": "stdout",
     "output_type": "stream",
     "text": [
      "14\n"
     ]
    }
   ],
   "source": [
    "x = int(input())"
   ]
  },
  {
   "cell_type": "code",
   "execution_count": null,
   "metadata": {},
   "outputs": [],
   "source": [
    "2  1\n",
    "3  2,3\n",
    "4  4,5,6\n",
    "5  7,8,9,10\n",
    "6  11,12,13,14,15"
   ]
  },
  {
   "cell_type": "code",
   "execution_count": 88,
   "metadata": {},
   "outputs": [
    {
     "name": "stdout",
     "output_type": "stream",
     "text": [
      "10000000\n",
      "2844/1629\n"
     ]
    }
   ],
   "source": [
    "n = int(input())\n",
    "\n",
    "included_group = 2\n",
    "current_num = 0\n",
    "\n",
    "i = 1\n",
    "while True:\n",
    "    if current_num <= n <= current_num + i:\n",
    "        diff = n - current_num\n",
    "        \n",
    "        if included_group % 2 == 1:\n",
    "            print(f'{str(diff)}/{str(included_group - diff)}')\n",
    "        else:\n",
    "            print(f'{str(included_group - diff)}/{str(diff)}')\n",
    "        break\n",
    "    current_num = current_num + i\n",
    "    included_group += 1\n",
    "    i += 1\n",
    "    "
   ]
  },
  {
   "cell_type": "code",
   "execution_count": null,
   "metadata": {},
   "outputs": [],
   "source": [
    "# 다른 사람 코드(mondsichel123)\n",
    "a = int(input())\n",
    "n = int(1)\n",
    "m = int(2)\n",
    "while True:\n",
    "    if a <= n:\n",
    "        break\n",
    "    else:\n",
    "        n = n + m\n",
    "        m = m + 1\n",
    "if m % 2 == 0:\n",
    "    x = n - a + 1\n",
    "    y = m - x\n",
    "    print('%d/%d' %(x ,  y))\n",
    "else:\n",
    "    x = n - a + 1\n",
    "    y = m - x\n",
    "    print('%d/%d' %(y ,  x))"
   ]
  },
  {
   "cell_type": "code",
   "execution_count": null,
   "metadata": {},
   "outputs": [],
   "source": [
    "# 다른 사람 코드(dntjd7849)\n",
    "\n",
    "from sys import *\n",
    "\n",
    "s = int(stdin.readline())\n",
    "i = 1\n",
    "x = 1\n",
    "while True :\n",
    "    if s <= x :\n",
    "        break\n",
    "    i += 1\n",
    "    x += i\n",
    "\n",
    "k = x - s + 1\n",
    "if i % 2 == 0 :\n",
    "    print(\"%s/%s\"%(i + 1 - k, k))\n",
    "else :\n",
    "    print(\"%s/%s\"%(k, i + 1 - k))"
   ]
  },
  {
   "cell_type": "markdown",
   "metadata": {},
   "source": [
    "### 달팽이는 올라가고 싶다 2869\n",
    "- 수학"
   ]
  },
  {
   "cell_type": "code",
   "execution_count": 100,
   "metadata": {},
   "outputs": [
    {
     "name": "stdout",
     "output_type": "stream",
     "text": [
      "100 99 1000000000\n"
     ]
    }
   ],
   "source": [
    "a, b, v = map(int, input().split())\n"
   ]
  },
  {
   "cell_type": "code",
   "execution_count": 101,
   "metadata": {},
   "outputs": [
    {
     "name": "stdout",
     "output_type": "stream",
     "text": [
      "999999901\n"
     ]
    }
   ],
   "source": [
    "a, b, v = map(int, input().split())\n",
    "\n",
    "result = 1\n",
    "result += (v - a) // (a - b)\n",
    "if (v - a) % (a - b) > 0:\n",
    "    result += 1\n",
    "    \n",
    "print(result)"
   ]
  },
  {
   "cell_type": "markdown",
   "metadata": {},
   "source": [
    "### 스택 10828"
   ]
  },
  {
   "cell_type": "code",
   "execution_count": 122,
   "metadata": {},
   "outputs": [
    {
     "name": "stdout",
     "output_type": "stream",
     "text": [
      "7\n",
      "pop\n",
      "-1\n",
      "top\n",
      "-1\n",
      "push 123\n",
      "top\n",
      "123\n",
      "pop\n",
      "123\n",
      "top\n",
      "-1\n",
      "pop\n",
      "-1\n"
     ]
    }
   ],
   "source": [
    "# 틀렸음\n",
    "import sys\n",
    "# input = sys.stdin.readline\n",
    "\n",
    "n = int(input())\n",
    "stack = []\n",
    "\n",
    "for _ in range(n):\n",
    "    command = input()\n",
    "    \n",
    "    if command[:2] == \"pu\":\n",
    "        _, num = command.split(' ')\n",
    "        stack.append(num)\n",
    "    elif command[:2] == \"po\":\n",
    "        if stack:\n",
    "            print(stack.pop())\n",
    "        else:\n",
    "            print(-1)\n",
    "    elif command == \"size\":\n",
    "        print(len(stack))\n",
    "    elif command == \"empty\":\n",
    "        if stack:\n",
    "            print(0)\n",
    "        else:\n",
    "            print(1)\n",
    "    elif command == \"top\":\n",
    "        if stack:\n",
    "            print(stack[-1])\n",
    "        else:\n",
    "            print(-1)"
   ]
  },
  {
   "cell_type": "markdown",
   "metadata": {},
   "source": [
    "### 캥거루 세마리2 11034\n",
    "- 그리디"
   ]
  },
  {
   "cell_type": "code",
   "execution_count": 2,
   "metadata": {},
   "outputs": [
    {
     "name": "stdout",
     "output_type": "stream",
     "text": [
      "3 5 9\n"
     ]
    }
   ],
   "source": [
    "li = list(map(int, input().split()))"
   ]
  },
  {
   "cell_type": "code",
   "execution_count": 3,
   "metadata": {},
   "outputs": [],
   "source": [
    "li.sort()"
   ]
  },
  {
   "cell_type": "code",
   "execution_count": 4,
   "metadata": {},
   "outputs": [],
   "source": [
    "diff1 = li[1] - li[0]\n",
    "diff2 = li[2] - li[1]"
   ]
  },
  {
   "cell_type": "code",
   "execution_count": 6,
   "metadata": {},
   "outputs": [
    {
     "name": "stdout",
     "output_type": "stream",
     "text": [
      "3\n"
     ]
    }
   ],
   "source": [
    "print(max((diff1, diff2)) - 1)"
   ]
  },
  {
   "cell_type": "code",
   "execution_count": null,
   "metadata": {},
   "outputs": [],
   "source": [
    "while True:\n",
    "    try:\n",
    "        a, b, c = map(int, input().split())\n",
    "\n",
    "        diff1 = b - a\n",
    "        diff2 = c - b\n",
    "\n",
    "        print(max((diff1, diff2)) - 1)\n",
    "    except:\n",
    "        break"
   ]
  },
  {
   "cell_type": "markdown",
   "metadata": {},
   "source": [
    "### 책 정리 1434\n",
    "- 수학, 구현, 그리디, 사칙연산"
   ]
  },
  {
   "cell_type": "code",
   "execution_count": 12,
   "metadata": {
    "scrolled": true
   },
   "outputs": [
    {
     "name": "stdout",
     "output_type": "stream",
     "text": [
      "4 5\n",
      "3 4 5 6\n",
      "3 3 3 3 3\n",
      "3\n"
     ]
    }
   ],
   "source": [
    "n, m = map(int, input().split())\n",
    "li_a = list(map(int, input().split()))\n",
    "li_b = list(map(int, input().split()))\n",
    "print(sum(li_a) - sum(li_b))"
   ]
  },
  {
   "cell_type": "markdown",
   "metadata": {},
   "source": [
    "### 컵홀더 2810\n",
    "- 구현, 그리디, 문자열"
   ]
  },
  {
   "cell_type": "code",
   "execution_count": 18,
   "metadata": {},
   "outputs": [
    {
     "name": "stdout",
     "output_type": "stream",
     "text": [
      "9\n",
      "SLLLLSSLL\n",
      "7\n"
     ]
    }
   ],
   "source": [
    "from collections import Counter\n",
    "import re\n",
    "\n",
    "n = int(input())\n",
    "s = input()\n",
    "s = s.replace(\"LL\", \"P\")\n",
    "\n",
    "c = Counter(s)\n",
    "cupholder_num = c['S'] + c['P'] + 1\n",
    "people_num = c['S'] + 2 * c['P']\n",
    "\n",
    "if people_num <= cupholder_num:\n",
    "    print(people_num)\n",
    "else:\n",
    "    print(cupholder_num)"
   ]
  },
  {
   "cell_type": "markdown",
   "metadata": {},
   "source": [
    "### 한조서열정리하고옴ㅋㅋ 14659\n",
    "- 그리디"
   ]
  },
  {
   "cell_type": "code",
   "execution_count": 5,
   "metadata": {},
   "outputs": [
    {
     "name": "stdout",
     "output_type": "stream",
     "text": [
      "3\n",
      "1 2 3\n"
     ]
    }
   ],
   "source": [
    "n = int(input())\n",
    "li = list(map(int, input().split()))"
   ]
  },
  {
   "cell_type": "code",
   "execution_count": 12,
   "metadata": {},
   "outputs": [
    {
     "name": "stdout",
     "output_type": "stream",
     "text": [
      "3\n",
      "3 2 1\n",
      "2\n"
     ]
    }
   ],
   "source": [
    "n = int(input())\n",
    "li = list(map(int, input().split()))\n",
    "\n",
    "count = 0\n",
    "max_count = 0\n",
    "current = 0\n",
    "for i in range(len(li)):\n",
    "    if i == 0:\n",
    "        current = li[i]\n",
    "    else :\n",
    "        if current > li[i]:\n",
    "            count += 1\n",
    "        else:\n",
    "            count = 0\n",
    "            current = li[i]\n",
    "            \n",
    "        if count > max_count:\n",
    "                max_count = count\n",
    "\n",
    "print(max_count)"
   ]
  },
  {
   "cell_type": "code",
   "execution_count": 3,
   "metadata": {},
   "outputs": [
    {
     "data": {
      "text/plain": [
       "3"
      ]
     },
     "execution_count": 3,
     "metadata": {},
     "output_type": "execute_result"
    }
   ],
   "source": [
    "max_count"
   ]
  },
  {
   "cell_type": "markdown",
   "metadata": {},
   "source": [
    "### Mount Marathon 16533"
   ]
  },
  {
   "cell_type": "code",
   "execution_count": 35,
   "metadata": {},
   "outputs": [
    {
     "name": "stdout",
     "output_type": "stream",
     "text": [
      "5\n",
      "2 4 6 8 10\n"
     ]
    }
   ],
   "source": [
    "n = int(input())\n",
    "li = list(map(int, input().split()))"
   ]
  },
  {
   "cell_type": "code",
   "execution_count": 36,
   "metadata": {},
   "outputs": [
    {
     "name": "stdout",
     "output_type": "stream",
     "text": [
      "5\n"
     ]
    }
   ],
   "source": [
    "n = int(input())\n",
    "li = list(map(int, input().split()))\n",
    "\n",
    "count = 0\n",
    "for i in range(len(li) - 1):\n",
    "    if li[i] >= li[i + 1]:\n",
    "        count += 1\n",
    "\n",
    "print(n - count)"
   ]
  },
  {
   "cell_type": "markdown",
   "metadata": {},
   "source": [
    "### APC는 왜 서브태스크 대회가 되었을까? 17224\n",
    "- 그리디, 정렬"
   ]
  },
  {
   "cell_type": "code",
   "execution_count": 37,
   "metadata": {},
   "outputs": [
    {
     "name": "stdout",
     "output_type": "stream",
     "text": [
      "4 8 4\n",
      "1 8\n",
      "4 5\n",
      "6 20\n",
      "9 12\n"
     ]
    }
   ],
   "source": [
    "n, l, k = map(int, input().split())\n",
    "\n",
    "li = []\n",
    "for _ in range(n):\n",
    "    li.append(tuple(map(int, input().split())))"
   ]
  },
  {
   "cell_type": "code",
   "execution_count": 53,
   "metadata": {},
   "outputs": [
    {
     "name": "stdout",
     "output_type": "stream",
     "text": [
      "8 7 5\n",
      "1 3\n",
      "2 5\n",
      "3 5\n",
      "4 8\n",
      "5 8\n",
      "6 9\n",
      "6 7\n",
      "7 10\n",
      "660\n"
     ]
    }
   ],
   "source": [
    "n, l, k = map(int, input().split())\n",
    "\n",
    "li = []\n",
    "for _ in range(n):\n",
    "    li.append(tuple(map(int, input().split())))\n",
    "\n",
    "li = [v for v in li if v[0] <= l]\n",
    "hard_posible_li = [v for v in li if v[1] <= l]\n",
    "hard_solved_count = min(k, len(hard_posible_li))\n",
    "\n",
    "if k - hard_solved_count == 0:\n",
    "    result = hard_solved_count * 140\n",
    "else:\n",
    "    easy_solved_count = min((len(li) - hard_solved_count, k - hard_solved_count))\n",
    "    result = hard_solved_count * 140 + easy_solved_count * 100\n",
    "\n",
    "print(result)"
   ]
  },
  {
   "cell_type": "markdown",
   "metadata": {},
   "source": [
    "### ZOAC 2 18238\n",
    "- 그리디"
   ]
  },
  {
   "cell_type": "code",
   "execution_count": 54,
   "metadata": {},
   "outputs": [],
   "source": [
    "import string"
   ]
  },
  {
   "cell_type": "code",
   "execution_count": 74,
   "metadata": {},
   "outputs": [
    {
     "name": "stdout",
     "output_type": "stream",
     "text": [
      "LBOLVUEEPMOIENMG\n"
     ]
    }
   ],
   "source": [
    "s = input()\n",
    "s = 'A' + s"
   ]
  },
  {
   "cell_type": "code",
   "execution_count": 71,
   "metadata": {},
   "outputs": [
    {
     "data": {
      "text/plain": [
       "26"
      ]
     },
     "execution_count": 71,
     "metadata": {},
     "output_type": "execute_result"
    }
   ],
   "source": [
    "len(string.ascii_uppercase)"
   ]
  },
  {
   "cell_type": "code",
   "execution_count": 75,
   "metadata": {},
   "outputs": [
    {
     "name": "stdout",
     "output_type": "stream",
     "text": [
      "100\n"
     ]
    }
   ],
   "source": [
    "import string\n",
    "\n",
    "s = input()\n",
    "s = 'A' + s\n",
    "\n",
    "alphas = string.ascii_uppercase\n",
    "\n",
    "count = 0\n",
    "for i in range(len(s) - 1):\n",
    "    diff = abs(alphas.index(s[i]) - alphas.index(s[i + 1]))\n",
    "    if diff > 13:\n",
    "        diff = 26 - diff\n",
    "    count += diff\n",
    "    \n",
    "print(count)"
   ]
  },
  {
   "cell_type": "markdown",
   "metadata": {},
   "source": [
    "### 사과 담기 게임 2828\n",
    "- 그리디"
   ]
  },
  {
   "cell_type": "code",
   "execution_count": 91,
   "metadata": {},
   "outputs": [
    {
     "name": "stdout",
     "output_type": "stream",
     "text": [
      "2 1\n",
      "2\n",
      "2\n",
      "1\n"
     ]
    }
   ],
   "source": [
    "n, m = map(int, input().split())\n",
    "j = int(input())\n",
    "li = []\n",
    "\n",
    "for _ in range(j):\n",
    "    li.append(int(input()))"
   ]
  },
  {
   "cell_type": "code",
   "execution_count": 85,
   "metadata": {},
   "outputs": [
    {
     "data": {
      "text/plain": [
       "[1, 5, 3]"
      ]
     },
     "execution_count": 85,
     "metadata": {},
     "output_type": "execute_result"
    }
   ],
   "source": [
    "li"
   ]
  },
  {
   "cell_type": "code",
   "execution_count": 96,
   "metadata": {},
   "outputs": [
    {
     "name": "stdout",
     "output_type": "stream",
     "text": [
      "5 2\n",
      "4\n",
      "5\n",
      "1\n",
      "5\n",
      "4\n",
      "4\n",
      "1\n",
      "4\n",
      "4\n",
      "9\n"
     ]
    }
   ],
   "source": [
    "n, m = map(int, input().split())\n",
    "j = int(input())\n",
    "li = []\n",
    "\n",
    "for _ in range(j):\n",
    "    li.append(int(input()))\n",
    "\n",
    "current_leftest_location = 1\n",
    "\n",
    "count = 0\n",
    "for i in range(j):\n",
    "    diff = li[i] - current_leftest_location\n",
    "    if 0 <= diff < m:\n",
    "        pass\n",
    "    elif diff < 0:\n",
    "        current_leftest_location += diff\n",
    "        count -= diff\n",
    "    else:\n",
    "        current_leftest_location += diff - m + 1\n",
    "        count += diff - m + 1\n",
    "        \n",
    "print(count)"
   ]
  },
  {
   "cell_type": "markdown",
   "metadata": {},
   "source": [
    "### 숫자 더하기 9440\n",
    "- 그리디"
   ]
  },
  {
   "cell_type": "code",
   "execution_count": 101,
   "metadata": {},
   "outputs": [
    {
     "name": "stdout",
     "output_type": "stream",
     "text": [
      "9 0 1 2 3 4 0 1 2 3\n"
     ]
    }
   ],
   "source": [
    "li = list(input().split())\n",
    "li = li[1:]"
   ]
  },
  {
   "cell_type": "code",
   "execution_count": 103,
   "metadata": {},
   "outputs": [],
   "source": [
    "first_possible_nums = sorted([v for v in li if v != \"0\"])"
   ]
  },
  {
   "cell_type": "code",
   "execution_count": 104,
   "metadata": {},
   "outputs": [
    {
     "data": {
      "text/plain": [
       "['1', '1', '2', '2', '3', '3', '4']"
      ]
     },
     "execution_count": 104,
     "metadata": {},
     "output_type": "execute_result"
    }
   ],
   "source": [
    "first_possible_nums"
   ]
  },
  {
   "cell_type": "code",
   "execution_count": null,
   "metadata": {},
   "outputs": [],
   "source": []
  },
  {
   "cell_type": "code",
   "execution_count": 105,
   "metadata": {},
   "outputs": [],
   "source": [
    "s1 = first_possible_nums[0]\n",
    "li.remove(first_possible_nums[0])\n",
    "\n",
    "s2 = first_possible_nums[1]\n",
    "li.remove(first_possible_nums[1])"
   ]
  },
  {
   "cell_type": "code",
   "execution_count": 106,
   "metadata": {},
   "outputs": [
    {
     "data": {
      "text/plain": [
       "'1'"
      ]
     },
     "execution_count": 106,
     "metadata": {},
     "output_type": "execute_result"
    }
   ],
   "source": [
    "s1"
   ]
  },
  {
   "cell_type": "code",
   "execution_count": 107,
   "metadata": {},
   "outputs": [
    {
     "data": {
      "text/plain": [
       "'1'"
      ]
     },
     "execution_count": 107,
     "metadata": {},
     "output_type": "execute_result"
    }
   ],
   "source": [
    "s2"
   ]
  },
  {
   "cell_type": "code",
   "execution_count": 115,
   "metadata": {},
   "outputs": [
    {
     "name": "stdout",
     "output_type": "stream",
     "text": [
      "2 3 1\n",
      "4\n"
     ]
    }
   ],
   "source": [
    "while True:\n",
    "    li = list(input().split())\n",
    "    \n",
    "    if len(li) == 1:\n",
    "        break\n",
    "    \n",
    "    li = li[1:]\n",
    "\n",
    "    first_possible_nums = sorted([v for v in li if v != \"0\"])\n",
    "\n",
    "    s1 = first_possible_nums[0]\n",
    "    li.remove(first_possible_nums[0])\n",
    "\n",
    "    s2 = first_possible_nums[1]\n",
    "    li.remove(first_possible_nums[1])\n",
    "\n",
    "    li.sort()\n",
    "\n",
    "    for i in range(len(li)):\n",
    "        if i % 2 == 0:\n",
    "            s1 += li[i]\n",
    "        else:\n",
    "            s2 += li[i]\n",
    "\n",
    "    print(int(s1) + int(s2))"
   ]
  },
  {
   "cell_type": "markdown",
   "metadata": {},
   "source": [
    "### Pizza voting 10280\n",
    "- 수학, 그리디"
   ]
  },
  {
   "cell_type": "code",
   "execution_count": 26,
   "metadata": {},
   "outputs": [],
   "source": [
    "from collections import deque"
   ]
  },
  {
   "cell_type": "code",
   "execution_count": 62,
   "metadata": {},
   "outputs": [
    {
     "name": "stdout",
     "output_type": "stream",
     "text": [
      "3 2\n"
     ]
    }
   ],
   "source": [
    "import sys\n",
    "\n",
    "n, want = map(int, input().split())\n",
    "sys.stdin.readlines()\n",
    "\n",
    "li = [i for i in range(1, n + 1)]\n",
    "li = deque(li)"
   ]
  },
  {
   "cell_type": "code",
   "execution_count": 63,
   "metadata": {},
   "outputs": [],
   "source": [
    "while len(li) > 1:\n",
    "    li.pop()\n",
    "    if len(li) == 1:\n",
    "        break\n",
    "    li.popleft()\n",
    "    if len(li) == 1:\n",
    "        break\n",
    "        \n",
    "    index = li.index(want)\n",
    "    \n",
    "    if index >= len(li) // 2:\n",
    "        li.popleft()\n",
    "        if len(li) == 1:\n",
    "            break\n",
    "    else:\n",
    "        li.pop()\n",
    "        if len(li) == 1:\n",
    "            break"
   ]
  },
  {
   "cell_type": "code",
   "execution_count": 65,
   "metadata": {},
   "outputs": [
    {
     "name": "stdout",
     "output_type": "stream",
     "text": [
      "YES\n"
     ]
    }
   ],
   "source": [
    "if li.pop() == want:\n",
    "    print('YES')\n",
    "else:\n",
    "    print('NO')"
   ]
  },
  {
   "cell_type": "code",
   "execution_count": 80,
   "metadata": {},
   "outputs": [
    {
     "name": "stdout",
     "output_type": "stream",
     "text": [
      "10 4\n",
      "YES\n"
     ]
    }
   ],
   "source": [
    "from collections import deque\n",
    "import sys\n",
    "\n",
    "n, want = map(int, input().split())\n",
    "sys.stdin.readlines()\n",
    "\n",
    "li = [i for i in range(1, n + 1)]\n",
    "li = deque(li)\n",
    "\n",
    "while len(li) > 1:\n",
    "    li.pop()\n",
    "    if len(li) == 1:\n",
    "        break\n",
    "    li.popleft()\n",
    "    if len(li) == 1:\n",
    "        break\n",
    "    \n",
    "    if len(li) == 2:\n",
    "        if li[0] == want:\n",
    "            li.pop()\n",
    "        else:\n",
    "            li.popleft()\n",
    "        break\n",
    "    else: \n",
    "        if want >= (li[0] + li[-1]) / 2:\n",
    "            li.popleft()\n",
    "            if len(li) == 1:\n",
    "                break\n",
    "        else:\n",
    "            li.pop()\n",
    "            if len(li) == 1:\n",
    "                break\n",
    "            \n",
    "if li.pop() == want:\n",
    "    print('YES')\n",
    "else:\n",
    "    print('NO')"
   ]
  },
  {
   "cell_type": "code",
   "execution_count": null,
   "metadata": {},
   "outputs": [],
   "source": [
    "# 다른 사람 코드 (ksci195)\n",
    "from sys import stdin\n",
    "\n",
    "# stdin = open(\"./input.txt\", 'r')\n",
    "\n",
    "# n : pizza의 수 , p: 선호하는 pizza의 index\n",
    "n, p = map(int, stdin.readline().rstrip().split())\n",
    "\n",
    "if (n - 1) % 3 == 0:\n",
    "    # Alice가 피자를 select하는 횟수\n",
    "    alice_num = (n - 1) // 3\n",
    "    # Bob이 피자를 select하는 횟수\n",
    "    bob_num = (n - 1) // 3\n",
    "elif (n - 1) % 3 == 1:\n",
    "    # Alice가 피자를 select하는 횟수\n",
    "    alice_num = (n - 1) // 3 + 1\n",
    "    # Bob이 피자를 select하는 횟수\n",
    "    bob_num = (n - 1) // 3\n",
    "else:\n",
    "    # Alice가 피자를 select하는 횟수\n",
    "    alice_num = (n - 1) // 3 + 1\n",
    "    # Bob이 피자를 select하는 횟수\n",
    "    bob_num = (n - 1) // 3 + 1\n",
    "\n",
    "\n",
    "if p > bob_num and p < n - alice_num + 1:\n",
    "    print(\"YES\")\n",
    "else:\n",
    "    print(\"NO\")\n"
   ]
  },
  {
   "cell_type": "markdown",
   "metadata": {},
   "source": [
    "### 떨어진 수정 13170\n",
    "- 그리디"
   ]
  },
  {
   "cell_type": "code",
   "execution_count": 81,
   "metadata": {},
   "outputs": [
    {
     "name": "stdout",
     "output_type": "stream",
     "text": [
      "2 1 90 25\n"
     ]
    }
   ],
   "source": [
    "n, k, p, w = map(int, input().split())"
   ]
  },
  {
   "cell_type": "code",
   "execution_count": 85,
   "metadata": {},
   "outputs": [
    {
     "name": "stdout",
     "output_type": "stream",
     "text": [
      "4\n"
     ]
    }
   ],
   "source": [
    "n, k, p, w = map(int, input().split())\n",
    "\n",
    "result = p // w\n",
    "if p % w > 0:\n",
    "    result += 1\n",
    "    \n",
    "print(result)"
   ]
  },
  {
   "cell_type": "markdown",
   "metadata": {},
   "source": [
    "### UCPC는 무엇의 약자일까? 15904"
   ]
  },
  {
   "cell_type": "code",
   "execution_count": 88,
   "metadata": {},
   "outputs": [],
   "source": [
    "s = 'CPCPUU'"
   ]
  },
  {
   "cell_type": "code",
   "execution_count": 90,
   "metadata": {},
   "outputs": [],
   "source": [
    "import re\n",
    "s = \"\".join(re.findall(\"U|C|P\", s))"
   ]
  },
  {
   "cell_type": "code",
   "execution_count": 92,
   "metadata": {},
   "outputs": [],
   "source": [
    "li = list(s)"
   ]
  },
  {
   "cell_type": "code",
   "execution_count": 95,
   "metadata": {},
   "outputs": [
    {
     "data": {
      "text/plain": [
       "['U', 'U']"
      ]
     },
     "execution_count": 95,
     "metadata": {},
     "output_type": "execute_result"
    }
   ],
   "source": [
    "li"
   ]
  },
  {
   "cell_type": "code",
   "execution_count": 106,
   "metadata": {},
   "outputs": [
    {
     "name": "stdout",
     "output_type": "stream",
     "text": [
      "UUUUCCCSFE\n",
      "I love UCPC\n"
     ]
    }
   ],
   "source": [
    "import re\n",
    "\n",
    "s = input()\n",
    "s = \"\".join(re.findall(\"U|C|P\", s))\n",
    "li = list(s)\n",
    "\n",
    "def delete(char):\n",
    "    while li:\n",
    "        former_len = len(li)\n",
    "        \n",
    "        if li[0] != char:\n",
    "            li.pop(0)\n",
    "            \n",
    "        if len(li) == former_len:\n",
    "            if li and li[0] == char:\n",
    "                return True\n",
    "            else:\n",
    "                return False\n",
    "            \n",
    "if not delete(\"U\"):\n",
    "    print('I hate UCPC')\n",
    "    exit()\n",
    "    \n",
    "if not delete(\"C\"):\n",
    "    print('I hate UCPC')\n",
    "    exit()\n",
    "        \n",
    "if not delete(\"P\"):\n",
    "    print('I hate UCPC')\n",
    "    exit()\n",
    "            \n",
    "if not delete(\"C\"):\n",
    "    print('I hate UCPC')\n",
    "    exit()\n",
    "\n",
    "print('I love UCPC')"
   ]
  },
  {
   "cell_type": "markdown",
   "metadata": {},
   "source": [
    "### 팬덤이 넘쳐흘러 17262\n",
    "- 그리디"
   ]
  },
  {
   "cell_type": "code",
   "execution_count": 114,
   "metadata": {},
   "outputs": [
    {
     "name": "stdout",
     "output_type": "stream",
     "text": [
      "2\n",
      "1 4\n",
      "5 6\n"
     ]
    }
   ],
   "source": [
    "n = int(input())\n",
    "li = []\n",
    "\n",
    "for _ in range(n):\n",
    "    li.append(tuple(map(int, input().split())))"
   ]
  },
  {
   "cell_type": "code",
   "execution_count": null,
   "metadata": {},
   "outputs": [],
   "source": [
    "n = int(input())\n",
    "li = []\n",
    "\n",
    "for _ in range(n):\n",
    "    li.append(tuple(map(int, input().split())))\n",
    "\n",
    "leftest_end_time = min(li, key=lambda x: x[1])[1]\n",
    "rightest_start_time = max(li, key=lambda x: x[0])[0]\n",
    "duration = rightest_start_time - leftest_end_time\n",
    "\n",
    "if duration <= 0:\n",
    "    print(0)\n",
    "else:\n",
    "    print(duration)"
   ]
  },
  {
   "cell_type": "markdown",
   "metadata": {},
   "source": [
    "### 병든 나이트 1783\n",
    "- 구현, 그리디, Case work"
   ]
  },
  {
   "cell_type": "code",
   "execution_count": 127,
   "metadata": {},
   "outputs": [
    {
     "name": "stdout",
     "output_type": "stream",
     "text": [
      "20 4\n"
     ]
    }
   ],
   "source": [
    "n, m = map(int, input().split())"
   ]
  },
  {
   "cell_type": "code",
   "execution_count": null,
   "metadata": {},
   "outputs": [],
   "source": [
    "# 맞았음\n",
    "n, m = map(int, input().split())\n",
    "\n",
    "if n == 1 or m == 1:\n",
    "    print(1)\n",
    "elif n == 2 and m == 2:\n",
    "    print(1)\n",
    "elif n == 2:\n",
    "    if m >= 7:\n",
    "        print(4)\n",
    "    elif 3 <= m <= 4:\n",
    "        print(2)\n",
    "    elif 5 <= m <= 6:\n",
    "        print(3)\n",
    "elif m == 2:\n",
    "    print(2)\n",
    "elif m == 3:\n",
    "    print(3)\n",
    "elif m >= 7:\n",
    "    print(m - 2)\n",
    "else:\n",
    "    print(4)"
   ]
  },
  {
   "cell_type": "markdown",
   "metadata": {},
   "source": [
    "### 카약과 강풍 2891\n",
    "- 그리디"
   ]
  },
  {
   "cell_type": "code",
   "execution_count": 129,
   "metadata": {},
   "outputs": [
    {
     "name": "stdout",
     "output_type": "stream",
     "text": [
      "5 2 1\n",
      "2 4\n",
      "3\n"
     ]
    }
   ],
   "source": [
    "n, s, r = map(int, input().split())\n",
    "damaged = set(map(int, input().split()))\n",
    "more = set(map(int, input().split()))\n",
    "both = damaged & more\n",
    "\n",
    "# 0, 1, 2\n",
    "li = [1 for _ in range(n + 1)]"
   ]
  },
  {
   "cell_type": "code",
   "execution_count": 130,
   "metadata": {},
   "outputs": [
    {
     "data": {
      "text/plain": [
       "set()"
      ]
     },
     "execution_count": 130,
     "metadata": {},
     "output_type": "execute_result"
    }
   ],
   "source": [
    "both"
   ]
  },
  {
   "cell_type": "code",
   "execution_count": 132,
   "metadata": {},
   "outputs": [],
   "source": [
    "for i in range(len(li)):\n",
    "    if i in damaged:\n",
    "        li[i] = 0\n",
    "    elif i in more:\n",
    "        li[i] = 2\n",
    "    elif i in both:\n",
    "        li[i] = 1"
   ]
  },
  {
   "cell_type": "code",
   "execution_count": 133,
   "metadata": {},
   "outputs": [
    {
     "data": {
      "text/plain": [
       "[1, 1, 0, 2, 0, 1]"
      ]
     },
     "execution_count": 133,
     "metadata": {},
     "output_type": "execute_result"
    }
   ],
   "source": [
    "li"
   ]
  },
  {
   "cell_type": "code",
   "execution_count": 134,
   "metadata": {},
   "outputs": [],
   "source": [
    "for i in range(len(li) - 1):\n",
    "    if li[i] == 0 and li[i + 1] == 2:\n",
    "        li[i] = li[i + 1] = 1\n",
    "    elif li[i] == 2 and li[i + 1] == 0:\n",
    "        li[i] = li[i + 1] = 1"
   ]
  },
  {
   "cell_type": "code",
   "execution_count": 136,
   "metadata": {},
   "outputs": [
    {
     "data": {
      "text/plain": [
       "1"
      ]
     },
     "execution_count": 136,
     "metadata": {},
     "output_type": "execute_result"
    }
   ],
   "source": [
    "print(li.count(0))"
   ]
  },
  {
   "cell_type": "code",
   "execution_count": 137,
   "metadata": {},
   "outputs": [
    {
     "name": "stdout",
     "output_type": "stream",
     "text": [
      "5 2 3\n",
      "2 4\n",
      "1 3 5\n",
      "0\n"
     ]
    }
   ],
   "source": [
    "n, s, r = map(int, input().split())\n",
    "damaged = set(map(int, input().split()))\n",
    "more = set(map(int, input().split()))\n",
    "both = damaged & more\n",
    "\n",
    "# 0, 1, 2\n",
    "li = [1 for _ in range(n + 1)]\n",
    "\n",
    "for i in range(len(li)):\n",
    "    if i in damaged:\n",
    "        li[i] = 0\n",
    "    if i in more:\n",
    "        li[i] = 2  \n",
    "    if i in both:\n",
    "        li[i] = 1\n",
    "        \n",
    "for i in range(len(li) - 1):\n",
    "    if li[i] == 0 and li[i + 1] == 2:\n",
    "        li[i] = li[i + 1] = 1\n",
    "    elif li[i] == 2 and li[i + 1] == 0:\n",
    "        li[i] = li[i + 1] = 1\n",
    "        \n",
    "print(li.count(0))"
   ]
  },
  {
   "cell_type": "markdown",
   "metadata": {},
   "source": [
    "### 캠핑 4796\n",
    "- 그리디"
   ]
  },
  {
   "cell_type": "code",
   "execution_count": 143,
   "metadata": {},
   "outputs": [
    {
     "name": "stdout",
     "output_type": "stream",
     "text": [
      "5 8 17\n"
     ]
    }
   ],
   "source": [
    "l, p, v = map(int, input().split())"
   ]
  },
  {
   "cell_type": "code",
   "execution_count": 146,
   "metadata": {},
   "outputs": [
    {
     "name": "stdout",
     "output_type": "stream",
     "text": [
      "5 8 20\n",
      "Case 1: 14\n",
      "5 8 17\n",
      "Case 2: 11\n",
      "0 0 0\n"
     ]
    }
   ],
   "source": [
    "i = 1\n",
    "while True:\n",
    "    l, p, v = map(int, input().split())\n",
    "    if l == p == v == 0:\n",
    "        break\n",
    "\n",
    "    main = (v // p) * l\n",
    "    sub = min((v % p, l))\n",
    "\n",
    "    result = main + sub\n",
    "    print(f'Case {str(i)}: {str(result)}')\n",
    "    \n",
    "    i += 1"
   ]
  },
  {
   "cell_type": "markdown",
   "metadata": {},
   "source": [
    "### 사탕 11256\n",
    "- 그리디"
   ]
  },
  {
   "cell_type": "code",
   "execution_count": 147,
   "metadata": {},
   "outputs": [
    {
     "name": "stdout",
     "output_type": "stream",
     "text": [
      "20 5\n",
      "3 4\n",
      "2 5\n",
      "1 8\n",
      "3 3\n",
      "2 5\n"
     ]
    }
   ],
   "source": [
    "j, n = map(int, input().split())\n",
    "boxes = []\n",
    "for _ in range(n):\n",
    "    r, c = map(int, input().split())\n",
    "    boxes.append(r * c)"
   ]
  },
  {
   "cell_type": "code",
   "execution_count": 151,
   "metadata": {},
   "outputs": [],
   "source": [
    "boxes.sort()"
   ]
  },
  {
   "cell_type": "code",
   "execution_count": 152,
   "metadata": {},
   "outputs": [],
   "source": [
    "count = 1\n",
    "while True:\n",
    "    diff = j - boxes.pop()\n",
    "    if diff <= 0:\n",
    "        break\n",
    "    j = diff\n",
    "    count += 1"
   ]
  },
  {
   "cell_type": "code",
   "execution_count": 153,
   "metadata": {},
   "outputs": [
    {
     "name": "stdout",
     "output_type": "stream",
     "text": [
      "2\n"
     ]
    }
   ],
   "source": [
    "print(count)"
   ]
  },
  {
   "cell_type": "code",
   "execution_count": 154,
   "metadata": {},
   "outputs": [
    {
     "name": "stdout",
     "output_type": "stream",
     "text": [
      "2\n",
      "12 3\n",
      "2 7\n",
      "1 5\n",
      "3 2\n",
      "1\n",
      "20 3\n",
      "2 7\n",
      "1 5\n",
      "3 2\n",
      "2\n"
     ]
    }
   ],
   "source": [
    "T = int(input())\n",
    "\n",
    "for _ in range(T):\n",
    "    j, n = map(int, input().split())\n",
    "    boxes = []\n",
    "    for _ in range(n):\n",
    "        r, c = map(int, input().split())\n",
    "        boxes.append(r * c)\n",
    "\n",
    "    boxes.sort()\n",
    "\n",
    "    count = 1\n",
    "    while True:\n",
    "        diff = j - boxes.pop()\n",
    "        if diff <= 0:\n",
    "            break\n",
    "        j = diff\n",
    "        count += 1\n",
    "\n",
    "    print(count)"
   ]
  },
  {
   "cell_type": "markdown",
   "metadata": {},
   "source": [
    "### 비트 우정지수 12782\n",
    "- 그리디"
   ]
  },
  {
   "cell_type": "code",
   "execution_count": 155,
   "metadata": {},
   "outputs": [
    {
     "name": "stdout",
     "output_type": "stream",
     "text": [
      "1011 1100\n"
     ]
    }
   ],
   "source": [
    "n, m = input().split()"
   ]
  },
  {
   "cell_type": "code",
   "execution_count": 160,
   "metadata": {},
   "outputs": [
    {
     "data": {
      "text/plain": [
       "'1011'"
      ]
     },
     "execution_count": 160,
     "metadata": {},
     "output_type": "execute_result"
    }
   ],
   "source": [
    "n"
   ]
  },
  {
   "cell_type": "code",
   "execution_count": 161,
   "metadata": {},
   "outputs": [
    {
     "data": {
      "text/plain": [
       "'1100'"
      ]
     },
     "execution_count": 161,
     "metadata": {},
     "output_type": "execute_result"
    }
   ],
   "source": [
    "m"
   ]
  },
  {
   "cell_type": "code",
   "execution_count": null,
   "metadata": {},
   "outputs": [],
   "source": [
    "# n을 m으로 만들기"
   ]
  },
  {
   "cell_type": "code",
   "execution_count": 162,
   "metadata": {},
   "outputs": [],
   "source": [
    "false_0_count = 0\n",
    "false_1_count = 0\n",
    "for i in range(len(n)):\n",
    "    if m[i] == \"1\" and n[i] == \"0\":\n",
    "        false_0_count += 1\n",
    "    elif m[i] == \"0\" and n[i] == \"1\":\n",
    "        false_1_count += 1"
   ]
  },
  {
   "cell_type": "code",
   "execution_count": 165,
   "metadata": {},
   "outputs": [
    {
     "name": "stdout",
     "output_type": "stream",
     "text": [
      "2\n"
     ]
    }
   ],
   "source": [
    "change_location_count = min((false_0_count, false_1_count))\n",
    "change_num_count = max((false_0_count, false_1_count)) - min((false_0_count, false_1_count))\n",
    "print(change_location_count + change_num_count)"
   ]
  },
  {
   "cell_type": "code",
   "execution_count": 166,
   "metadata": {},
   "outputs": [
    {
     "name": "stdout",
     "output_type": "stream",
     "text": [
      "3\n",
      "1011 1100\n",
      "2\n",
      "100101 110100\n",
      "1\n",
      "00110100 10010111\n",
      "3\n"
     ]
    }
   ],
   "source": [
    "T = int(input())\n",
    "\n",
    "for _ in range(T):\n",
    "    n, m = input().split()\n",
    "\n",
    "    false_0_count = 0\n",
    "    false_1_count = 0\n",
    "    for i in range(len(n)):\n",
    "        if m[i] == \"1\" and n[i] == \"0\":\n",
    "            false_0_count += 1\n",
    "        elif m[i] == \"0\" and n[i] == \"1\":\n",
    "            false_1_count += 1\n",
    "\n",
    "    change_location_count = min((false_0_count, false_1_count))\n",
    "    change_num_count = max((false_0_count, false_1_count)) - min((false_0_count, false_1_count))\n",
    "\n",
    "    print(change_location_count + change_num_count)"
   ]
  },
  {
   "cell_type": "markdown",
   "metadata": {},
   "source": [
    "### A를 B로 13019\n",
    "- 그리디"
   ]
  },
  {
   "cell_type": "code",
   "execution_count": 6,
   "metadata": {},
   "outputs": [
    {
     "name": "stdout",
     "output_type": "stream",
     "text": [
      "ABCDE\n",
      "CDBAE\n"
     ]
    }
   ],
   "source": [
    "a = list(input())\n",
    "b = list(input())"
   ]
  },
  {
   "cell_type": "code",
   "execution_count": 7,
   "metadata": {},
   "outputs": [],
   "source": [
    "# 포기\n",
    "from collections import Counter\n",
    "\n",
    "if Counter(a) != Counter(b):\n",
    "    print(-1)\n",
    "else:\n",
    "    count = 0\n",
    "    \n",
    "    original_length = len(a)\n",
    "    for i in range(original_length - 1, -1, -1):\n",
    "        if a[i] == b[i]:\n",
    "            a.pop()\n",
    "            b.pop()\n",
    "        else:\n",
    "            break\n",
    "            \n",
    "    new_length = len(a)\n",
    "    if new_length == 0:\n",
    "        break\n",
    "    \n",
    "    for i in range(new_length - 2, -1, -1):\n",
    "        if b[i] != a[0]:\n",
    "            value = a.pop(a.index())"
   ]
  },
  {
   "cell_type": "code",
   "execution_count": 8,
   "metadata": {},
   "outputs": [
    {
     "data": {
      "text/plain": [
       "['A', 'B', 'C', 'D']"
      ]
     },
     "execution_count": 8,
     "metadata": {},
     "output_type": "execute_result"
    }
   ],
   "source": [
    "a"
   ]
  },
  {
   "cell_type": "code",
   "execution_count": 9,
   "metadata": {},
   "outputs": [
    {
     "data": {
      "text/plain": [
       "['C', 'D', 'B', 'A']"
      ]
     },
     "execution_count": 9,
     "metadata": {},
     "output_type": "execute_result"
    }
   ],
   "source": [
    "b"
   ]
  },
  {
   "cell_type": "markdown",
   "metadata": {},
   "source": [
    "### 귀찮음 16208"
   ]
  },
  {
   "cell_type": "code",
   "execution_count": 54,
   "metadata": {},
   "outputs": [
    {
     "name": "stdout",
     "output_type": "stream",
     "text": [
      "4\n",
      "3 3 3 1\n"
     ]
    }
   ],
   "source": [
    "n = int(input())\n",
    "li = list(map(int, input().split()))"
   ]
  },
  {
   "cell_type": "code",
   "execution_count": 55,
   "metadata": {},
   "outputs": [],
   "source": [
    "total = sum(li)"
   ]
  },
  {
   "cell_type": "code",
   "execution_count": 48,
   "metadata": {},
   "outputs": [],
   "source": []
  },
  {
   "cell_type": "code",
   "execution_count": 44,
   "metadata": {},
   "outputs": [],
   "source": [
    "li = "
   ]
  },
  {
   "cell_type": "code",
   "execution_count": 56,
   "metadata": {},
   "outputs": [
    {
     "name": "stdout",
     "output_type": "stream",
     "text": [
      "4\n",
      "3 3 3 1\n",
      "36\n"
     ]
    }
   ],
   "source": [
    "n = int(input())\n",
    "li = list(map(int, input().split()))\n",
    "\n",
    "li.sort()\n",
    "\n",
    "total = sum(li)\n",
    "result = 0\n",
    "for v in li:\n",
    "    result += (total - v) * v\n",
    "    total -= v\n",
    "    \n",
    "print(result)"
   ]
  },
  {
   "cell_type": "code",
   "execution_count": 58,
   "metadata": {},
   "outputs": [
    {
     "name": "stdout",
     "output_type": "stream",
     "text": [
      "36\n"
     ]
    }
   ],
   "source": [
    "li.sort(reverse=True)\n",
    "\n",
    "total = sum(li)\n",
    "result = 0\n",
    "for v in li:\n",
    "    result += (total - v) * v\n",
    "    total -= v\n",
    "    \n",
    "print(result)"
   ]
  },
  {
   "cell_type": "markdown",
   "metadata": {},
   "source": [
    "### 스네이크버드 16435\n",
    "- 그리디"
   ]
  },
  {
   "cell_type": "code",
   "execution_count": 59,
   "metadata": {},
   "outputs": [
    {
     "name": "stdout",
     "output_type": "stream",
     "text": [
      "9 1\n",
      "9 5 8 1 3 2 7 6 4\n"
     ]
    }
   ],
   "source": [
    "n, l = map(int, input().split())\n",
    "li = list(map(int, input().split()))"
   ]
  },
  {
   "cell_type": "code",
   "execution_count": 61,
   "metadata": {},
   "outputs": [],
   "source": []
  },
  {
   "cell_type": "code",
   "execution_count": 62,
   "metadata": {},
   "outputs": [
    {
     "data": {
      "text/plain": [
       "[1, 2, 3, 4, 5, 6, 7, 8, 9]"
      ]
     },
     "execution_count": 62,
     "metadata": {},
     "output_type": "execute_result"
    }
   ],
   "source": [
    "li"
   ]
  },
  {
   "cell_type": "code",
   "execution_count": 63,
   "metadata": {},
   "outputs": [],
   "source": [
    "n, l = map(int, input().split())\n",
    "li = list(map(int, input().split()))\n",
    "li.sort()\n",
    "\n",
    "for v in li:\n",
    "    if v <= l:\n",
    "        l += 1\n",
    "print(l)"
   ]
  },
  {
   "cell_type": "markdown",
   "metadata": {},
   "source": [
    "### 박 터뜨리기 19939\n",
    "- 그리디"
   ]
  },
  {
   "cell_type": "code",
   "execution_count": 84,
   "metadata": {},
   "outputs": [
    {
     "name": "stdout",
     "output_type": "stream",
     "text": [
      "9 3\n"
     ]
    }
   ],
   "source": [
    "n, k = map(int, input().split())"
   ]
  },
  {
   "cell_type": "code",
   "execution_count": 138,
   "metadata": {},
   "outputs": [
    {
     "name": "stdout",
     "output_type": "stream",
     "text": [
      "5 3\n",
      "-1\n"
     ]
    }
   ],
   "source": [
    "n, k = map(int, input().split())\n",
    "\n",
    "minimum_requirement = (k * (k + 1)) // 2\n",
    "\n",
    "if n < minimum_requirement:\n",
    "    print(-1)\n",
    "else:\n",
    "    second_most = k - 1\n",
    "    maximum = n - ((k - 1) * (k)) // 2\n",
    "    minimum = 1\n",
    "    minus_num = k - 1\n",
    "    while True:\n",
    "        new_maximum = maximum - minus_num\n",
    "        new_second_most = second_most + 1\n",
    "        \n",
    "        if new_second_most >= new_maximum:\n",
    "            minus_num -= 1\n",
    "            \n",
    "            if minus_num == 0:\n",
    "                break\n",
    "        else:\n",
    "            maximum = new_maximum\n",
    "            second_most = new_second_most\n",
    "            \n",
    "            if minus_num == k - 1:\n",
    "                minimum += 1\n",
    "                \n",
    "    print(maximum - minimum)"
   ]
  },
  {
   "cell_type": "code",
   "execution_count": 109,
   "metadata": {},
   "outputs": [
    {
     "data": {
      "text/plain": [
       "498501.0"
      ]
     },
     "execution_count": 109,
     "metadata": {},
     "output_type": "execute_result"
    }
   ],
   "source": [
    "k = 999\n",
    "((k - 1) * (k)) / 2"
   ]
  },
  {
   "cell_type": "code",
   "execution_count": 83,
   "metadata": {},
   "outputs": [
    {
     "name": "stdout",
     "output_type": "stream",
     "text": [
      "999\n"
     ]
    }
   ],
   "source": [
    "print(int(maximum - minimum))"
   ]
  },
  {
   "cell_type": "markdown",
   "metadata": {},
   "source": [
    "### 당근 키우기 20363\n",
    "- 그리디"
   ]
  },
  {
   "cell_type": "code",
   "execution_count": 148,
   "metadata": {},
   "outputs": [
    {
     "name": "stdout",
     "output_type": "stream",
     "text": [
      "1 3\n"
     ]
    }
   ],
   "source": [
    "x, y = map(int, input().split())"
   ]
  },
  {
   "cell_type": "code",
   "execution_count": 149,
   "metadata": {},
   "outputs": [
    {
     "data": {
      "text/plain": [
       "4"
      ]
     },
     "execution_count": 149,
     "metadata": {},
     "output_type": "execute_result"
    }
   ],
   "source": [
    "x, y = map(int, input().split())\n",
    "print(x + y + min((x, y)) // 10)"
   ]
  },
  {
   "cell_type": "markdown",
   "metadata": {},
   "source": [
    "### 폴리오미노 1343\n",
    "- 그리디"
   ]
  },
  {
   "cell_type": "code",
   "execution_count": 156,
   "metadata": {},
   "outputs": [
    {
     "name": "stdout",
     "output_type": "stream",
     "text": [
      "XXXXXX..XXXX\n"
     ]
    }
   ],
   "source": [
    "s = input()"
   ]
  },
  {
   "cell_type": "code",
   "execution_count": 173,
   "metadata": {},
   "outputs": [
    {
     "name": "stdout",
     "output_type": "stream",
     "text": [
      "XXXXXX.XXXXXX...XXXXXX\n",
      "AAAABB.AAAABB...AAAABB\n"
     ]
    }
   ],
   "source": [
    "s = input()\n",
    "\n",
    "odd_num = len([len(v) for v in s.split(\".\") if len(v) % 2 == 1])\n",
    "\n",
    "if odd_num:\n",
    "    print(-1)\n",
    "else:\n",
    "    li = s.split(\".\")\n",
    "    \n",
    "    result = ''\n",
    "    for v in li:\n",
    "        if v:\n",
    "            result += \"AAAA\" * (len(v) // 4)\n",
    "            result += \"BB\" * ((len(v) % 4) // 2) \n",
    "        result += \".\"\n",
    "        \n",
    "    print(result[:-1])"
   ]
  },
  {
   "cell_type": "markdown",
   "metadata": {},
   "source": [
    "### 알바생 강호 1758\n",
    "- 그리디"
   ]
  },
  {
   "cell_type": "code",
   "execution_count": 180,
   "metadata": {},
   "outputs": [
    {
     "name": "stdout",
     "output_type": "stream",
     "text": [
      "4\n",
      "3\n",
      "3\n",
      "3\n",
      "3\n"
     ]
    }
   ],
   "source": [
    "n = int(input())\n",
    "li = []\n",
    "for _ in range(n):\n",
    "    li.append(int(input()))"
   ]
  },
  {
   "cell_type": "code",
   "execution_count": 181,
   "metadata": {},
   "outputs": [],
   "source": []
  },
  {
   "cell_type": "code",
   "execution_count": 184,
   "metadata": {},
   "outputs": [
    {
     "name": "stdout",
     "output_type": "stream",
     "text": [
      "4\n",
      "3\n",
      "3\n",
      "3\n",
      "3\n",
      "6\n"
     ]
    }
   ],
   "source": [
    "import sys\n",
    "# input = sys.stdin.readline\n",
    "\n",
    "n = int(input())\n",
    "li = []\n",
    "for _ in range(n):\n",
    "    li.append(int(input()))\n",
    "\n",
    "li.sort(reverse=True)\n",
    "\n",
    "total = 0\n",
    "for i in range(len(li)):\n",
    "    tip = li[i] - i\n",
    "    if tip >= 1:\n",
    "        total += tip\n",
    "    else:\n",
    "        break\n",
    "        \n",
    "print(total)"
   ]
  },
  {
   "cell_type": "markdown",
   "metadata": {},
   "source": [
    "### 짐 챙기는 숌 1817\n",
    "- 그리디"
   ]
  },
  {
   "cell_type": "code",
   "execution_count": 18,
   "metadata": {},
   "outputs": [
    {
     "name": "stdout",
     "output_type": "stream",
     "text": [
      "3 9\n",
      "1 8 8\n",
      "2\n"
     ]
    }
   ],
   "source": [
    "n, m = map(int, input().split())\n",
    "\n",
    "if n == 0:\n",
    "    print(0)\n",
    "else:\n",
    "    li = list(map(int, input().split()))\n",
    "    \n",
    "    count = 1\n",
    "    current = 0\n",
    "    for v in li:\n",
    "        sum_value = current + v\n",
    "        if sum_value > m:\n",
    "            current = v\n",
    "            count += 1\n",
    "        else:\n",
    "            current = sum_value\n",
    "    print(count)\n",
    "        \n"
   ]
  },
  {
   "cell_type": "markdown",
   "metadata": {},
   "source": [
    "### 로프 2217\n",
    "- 그리디"
   ]
  },
  {
   "cell_type": "code",
   "execution_count": 32,
   "metadata": {},
   "outputs": [
    {
     "name": "stdout",
     "output_type": "stream",
     "text": [
      "3\n",
      "10\n",
      "20\n",
      "30\n",
      "40\n"
     ]
    }
   ],
   "source": [
    "import sys\n",
    "input = sys.stdin.readline\n",
    "\n",
    "n = int(input())\n",
    "li = []\n",
    "for _ in range(n):\n",
    "    li.append(int(input()))\n",
    "    \n",
    "li.sort(reverse=True)\n",
    "\n",
    "result = []\n",
    "for i, v in enumerate(li, 1):\n",
    "    result.append(i * v)\n",
    "    \n",
    "print(max(result))"
   ]
  },
  {
   "cell_type": "markdown",
   "metadata": {},
   "source": [
    "### 숫자 놀이 2777\n",
    "- 수학, 그리디"
   ]
  },
  {
   "cell_type": "code",
   "execution_count": null,
   "metadata": {},
   "outputs": [],
   "source": [
    "# 9, 8, 7, 6.. 2로 차례대로 나누면서 몫, 나머지 이용"
   ]
  },
  {
   "cell_type": "code",
   "execution_count": 49,
   "metadata": {},
   "outputs": [],
   "source": [
    "x = 10"
   ]
  },
  {
   "cell_type": "code",
   "execution_count": 58,
   "metadata": {},
   "outputs": [
    {
     "name": "stdout",
     "output_type": "stream",
     "text": [
      "1\n",
      "2\n",
      "1\n"
     ]
    }
   ],
   "source": [
    "T = int(input())\n",
    "\n",
    "for _ in range(T):\n",
    "    x = int(input())\n",
    "    \n",
    "    if x == 1:\n",
    "        print(1)\n",
    "    else:\n",
    "        count = 0\n",
    "\n",
    "        for i in range(9, 1, -1):\n",
    "            while True:\n",
    "                if x % i == 0:\n",
    "                    x //= i\n",
    "                    count += 1\n",
    "                else:\n",
    "                    break\n",
    "\n",
    "        if x != 1:\n",
    "            print(-1)\n",
    "        else:\n",
    "            print(count)"
   ]
  },
  {
   "cell_type": "markdown",
   "metadata": {},
   "source": [
    "### 게임을 만든 동준이 2847\n",
    "- 그리디"
   ]
  },
  {
   "cell_type": "code",
   "execution_count": 65,
   "metadata": {},
   "outputs": [],
   "source": [
    "n = 4\n",
    "li = [5, 3, 7, 5]"
   ]
  },
  {
   "cell_type": "code",
   "execution_count": 69,
   "metadata": {},
   "outputs": [
    {
     "name": "stdout",
     "output_type": "stream",
     "text": [
      "2\n",
      "7\n",
      "4\n",
      "4\n"
     ]
    }
   ],
   "source": [
    "import sys\n",
    "# input = sys.stdin.readline\n",
    "\n",
    "n = int(input())\n",
    "li = []\n",
    "\n",
    "for _ in range(n):\n",
    "    li.append(int(input()))\n",
    "\n",
    "if n == 1:\n",
    "    print(0)\n",
    "else:\n",
    "    count = 0\n",
    "    current = li[-1] - 1\n",
    "    li = li[:-1]\n",
    "    for i in range(len(li) - 1, -1, -1):\n",
    "        if li[i] >= current:\n",
    "            count += li[i] - current\n",
    "            current -= 1\n",
    "        else:\n",
    "            current = li[i] - 1\n",
    "    print(count)"
   ]
  }
 ],
 "metadata": {
  "kernelspec": {
   "display_name": "Python 3",
   "language": "python",
   "name": "python3"
  },
  "language_info": {
   "codemirror_mode": {
    "name": "ipython",
    "version": 3
   },
   "file_extension": ".py",
   "mimetype": "text/x-python",
   "name": "python",
   "nbconvert_exporter": "python",
   "pygments_lexer": "ipython3",
   "version": "3.7.3"
  }
 },
 "nbformat": 4,
 "nbformat_minor": 4
}
