{
 "cells": [
  {
   "cell_type": "markdown",
   "metadata": {},
   "source": [
    "### DFS와 BFS 1260"
   ]
  },
  {
   "cell_type": "code",
   "execution_count": 12,
   "metadata": {},
   "outputs": [
    {
     "name": "stdout",
     "output_type": "stream",
     "text": [
      "4 5 1\n",
      "1 2\n",
      "1 3\n",
      "1 4\n",
      "2 4\n",
      "3 4\n",
      "1 2 4 3\n",
      "1 2 3 4\n"
     ]
    }
   ],
   "source": [
    "from collections import defaultdict\n",
    "import sys\n",
    "\n",
    "input = sys.stdin.readline\n",
    "\n",
    "n, m, v = map(int, input().split())\n",
    "d = defaultdict(list)\n",
    "\n",
    "for _ in range(m):\n",
    "    a, b = map(int, input().split())\n",
    "    d[a].append(b)\n",
    "    d[b].append(a)\n",
    "    \n",
    "    \n",
    "def dfs(v):\n",
    "    visited = []\n",
    "    stack = [v]\n",
    "    \n",
    "    while stack:\n",
    "        node = stack.pop()\n",
    "        \n",
    "        if node in visited:\n",
    "            continue\n",
    "        \n",
    "        stack.extend(sorted(d[node], reverse=True))\n",
    "        visited.append(node)\n",
    "        \n",
    "    return visited\n",
    "\n",
    "\n",
    "def bfs(v):\n",
    "    visited = []\n",
    "    queue = [v]\n",
    "    \n",
    "    while queue:\n",
    "        node = queue.pop(0)\n",
    "        \n",
    "        if node in visited:\n",
    "            continue\n",
    "        \n",
    "        queue.extend(sorted(d[node]))\n",
    "        visited.append(node)\n",
    "        \n",
    "    return visited\n",
    "\n",
    "print(\" \".join(map(str, dfs(v))))\n",
    "print(\" \".join(map(str, bfs(v))))"
   ]
  },
  {
   "cell_type": "code",
   "execution_count": 13,
   "metadata": {},
   "outputs": [
    {
     "name": "stdout",
     "output_type": "stream",
     "text": [
      "4 5 1\n",
      "1 2\n",
      "1 3\n",
      "1 4\n",
      "2 4\n",
      "3 4\n",
      "1 2 4 3 \n",
      "1 2 3 4 "
     ]
    }
   ],
   "source": [
    "# 예시 정답\n",
    "\n",
    "from collections import deque\n",
    "\n",
    "def dfs(v):\n",
    "    print(v, end=' ')\n",
    "    visited[v] = True\n",
    "    for e in adj[v]:\n",
    "        if not(visited[e]):\n",
    "            dfs(e)\n",
    "            \n",
    "def bfs(v):\n",
    "    q = deque([v])\n",
    "    while q:\n",
    "        v = q.popleft()\n",
    "        if not(visited[v]):\n",
    "            visited[v] = True\n",
    "            print(v, end=' ')\n",
    "            for e in adj[v]:\n",
    "                if not visited[e]:\n",
    "                    q.append(e)\n",
    "            \n",
    "n, m, v = map(int, input().split())\n",
    "adj = [[] for _ in range(n + 1)]\n",
    "\n",
    "for _ in range(m):\n",
    "    x, y = map(int, input().split())\n",
    "    adj[x].append(y)\n",
    "    adj[y].append(x)\n",
    "    \n",
    "for e in adj:\n",
    "    e.sort()\n",
    "    \n",
    "visited = [False] * (n + 1)\n",
    "dfs(v)\n",
    "print()\n",
    "visited = [False] * (n + 1)\n",
    "bfs(v)"
   ]
  },
  {
   "cell_type": "markdown",
   "metadata": {},
   "source": [
    "### 숨바꼭질 1697"
   ]
  },
  {
   "cell_type": "code",
   "execution_count": 69,
   "metadata": {},
   "outputs": [
    {
     "name": "stdout",
     "output_type": "stream",
     "text": [
      "1 10\n",
      "4\n"
     ]
    }
   ],
   "source": [
    "# 틀렸음\n",
    "from collections import deque\n",
    "import math\n",
    "\n",
    "n, k = map(int, input().split())\n",
    "\n",
    "visited = [False] * 100001\n",
    "\n",
    "queue = deque([n])\n",
    "\n",
    "count = 0\n",
    "while queue:\n",
    "    count += 1\n",
    "    value = queue.popleft()\n",
    "    \n",
    "    if value == k:\n",
    "        break\n",
    "    else:\n",
    "        if not visited[value]:\n",
    "            if value * 2 <= 100000:\n",
    "                queue.append(value * 2)\n",
    "            if value + 1 <= 100000:\n",
    "                queue.append(value + 1)\n",
    "            if 0 <= value - 1:\n",
    "                queue.append(value - 1)\n",
    "                \n",
    "            visited[value] = True\n",
    "\n",
    "print(math.ceil(math.log(count, 3)))"
   ]
  },
  {
   "cell_type": "code",
   "execution_count": 86,
   "metadata": {},
   "outputs": [
    {
     "name": "stdout",
     "output_type": "stream",
     "text": [
      "5 17\n",
      "5\n"
     ]
    }
   ],
   "source": [
    "# 예시정답 반영 직접 구현1\n",
    "from collections import deque\n",
    "\n",
    "n, k = map(int, input().split())\n",
    "\n",
    "queue = deque([n])\n",
    "visited = [False] * 100001\n",
    "min_times = [0] * 100001\n",
    "\n",
    "count = 0\n",
    "while queue:\n",
    "    if count == 0:\n",
    "        value = queue.popleft()\n",
    "        count += 1\n",
    "    else:\n",
    "        former_value = value\n",
    "        value = queue.popleft()\n",
    "        \n",
    "        if visited[value]:\n",
    "            continue\n",
    "        \n",
    "        min_times[value] = min_times[former_value] + 1\n",
    "        \n",
    "    if value == k:\n",
    "        break\n",
    "    else:\n",
    "        if not visited[value]:\n",
    "            visited[value] = True\n",
    "            if visited[value * 2] <= 100000:\n",
    "                queue.append(value * 2)\n",
    "            if value + 1 <= 100000:\n",
    "                queue.append(value + 1)\n",
    "            if 0 <= value - 1:\n",
    "                queue.append(value - 1)\n",
    "                \n",
    "print(min_times[k])"
   ]
  },
  {
   "cell_type": "code",
   "execution_count": 90,
   "metadata": {},
   "outputs": [
    {
     "name": "stdout",
     "output_type": "stream",
     "text": [
      "2 5\n",
      "2\n"
     ]
    }
   ],
   "source": [
    "# 예시정답 반영 직접 구현2\n",
    "\n",
    "from collections import deque\n",
    "\n",
    "n, k = map(int, input().split())\n",
    "\n",
    "queue = deque([n])\n",
    "min_times = [0] * 100001\n",
    "\n",
    "while queue:\n",
    "    current_value = queue.popleft()\n",
    "    \n",
    "    if current_value == k:\n",
    "        print(min_times[current_value])\n",
    "        break\n",
    "    \n",
    "    for new_value in (current_value + 1, current_value - 1, current_value * 2):\n",
    "        if 0 <= new_value <= 100000 and min_times[new_value] == 0:\n",
    "            queue.append(new_value)\n",
    "            min_times[new_value] = min_times[current_value] + 1      "
   ]
  },
  {
   "cell_type": "code",
   "execution_count": 91,
   "metadata": {},
   "outputs": [
    {
     "name": "stdout",
     "output_type": "stream",
     "text": [
      "2 5\n",
      "2\n"
     ]
    }
   ],
   "source": [
    "# 예시 정답\n",
    "\n",
    "from collections import deque\n",
    "\n",
    "MAX = 100001\n",
    "n, k = map(int, input().split())\n",
    "array = [0] * MAX\n",
    "\n",
    "def bfs():\n",
    "    q = deque([n])\n",
    "    while q:\n",
    "        now_pos = q.popleft()\n",
    "        if now_pos == k:\n",
    "            return array[now_pos]\n",
    "        for next_pos in (now_pos - 1, now_pos + 1, now_pos * 2):\n",
    "            if 0 <= next_pos < MAX and not array[next_pos]:\n",
    "                array[next_pos] = array[now_pos] + 1\n",
    "                q.append(next_pos)\n",
    "                \n",
    "print(bfs())"
   ]
  },
  {
   "cell_type": "markdown",
   "metadata": {},
   "source": [
    "### 바이러스 2606"
   ]
  },
  {
   "cell_type": "code",
   "execution_count": 1,
   "metadata": {},
   "outputs": [
    {
     "name": "stdout",
     "output_type": "stream",
     "text": [
      "7\n",
      "6\n",
      "1 2\n",
      "2 3\n",
      "1 5\n",
      "5 2\n",
      "5 6\n",
      "4 7\n",
      "4\n"
     ]
    }
   ],
   "source": [
    "# 맞았음\n",
    "\n",
    "from collections import deque\n",
    "\n",
    "n = int(input())\n",
    "m = int(input())\n",
    "\n",
    "graph = [[] for _ in range(n + 1)]\n",
    "for _ in range(m):\n",
    "    a, b = map(int, input().split())\n",
    "    \n",
    "    graph[a].append(b)\n",
    "    graph[b].append(a)\n",
    "    \n",
    "queue = deque([1])\n",
    "visited = [0] * (n + 1)\n",
    "\n",
    "while queue:\n",
    "    value = queue.popleft()\n",
    "    \n",
    "    if not visited[value]:\n",
    "        visited[value] = 1\n",
    "        for v in graph[value]:\n",
    "            queue.append(v)\n",
    "            \n",
    "print(sum(visited) - 1)"
   ]
  },
  {
   "cell_type": "code",
   "execution_count": 3,
   "metadata": {},
   "outputs": [
    {
     "name": "stdout",
     "output_type": "stream",
     "text": [
      "7\n",
      "6\n",
      "1 2\n",
      "2 3\n",
      "1 5\n",
      "5 2\n",
      "5 6\n",
      "4 7\n",
      "4\n"
     ]
    }
   ],
   "source": [
    "from collections import deque\n",
    "\n",
    "n = int(input())\n",
    "m = int(input())\n",
    "\n",
    "def dfs(node):\n",
    "    if not visited[node]:\n",
    "        visited[node] = 1\n",
    "        for v in graph[node]:\n",
    "            dfs(v)\n",
    "    \n",
    "\n",
    "graph = [[] for _ in range(n + 1)]\n",
    "for _ in range(m):\n",
    "    a, b = map(int, input().split())\n",
    "    \n",
    "    graph[a].append(b)\n",
    "    graph[b].append(a)\n",
    "    \n",
    "visited = [0] * (n + 1)\n",
    "\n",
    "dfs(1)\n",
    "\n",
    "print(sum(visited) - 1)"
   ]
  },
  {
   "cell_type": "code",
   "execution_count": 5,
   "metadata": {},
   "outputs": [
    {
     "name": "stdout",
     "output_type": "stream",
     "text": [
      "7\n",
      "6\n",
      "1 2\n",
      "2 3\n",
      "1 5\n",
      "5 2\n",
      "5 6\n",
      "4 7\n",
      "4\n"
     ]
    }
   ],
   "source": [
    "# 예시 코드\n",
    "\n",
    "n = int(input())\n",
    "m = int(input())\n",
    "adj = [[] for _ in range(n + 1)]\n",
    "visited = [False] * (n + 1)\n",
    "count = 0\n",
    "\n",
    "for _ in range(m):\n",
    "    x, y = map(int, input().split())\n",
    "    adj[x].append(y)\n",
    "    adj[y].append(x)\n",
    "\n",
    "def dfs(now_pos):\n",
    "    global count\n",
    "    count += 1\n",
    "    visited[now_pos] = True\n",
    "    for next_pos in graph[now_pos]:\n",
    "        if not visited[next_pos]:\n",
    "            dfs(next_pos)\n",
    "            \n",
    "dfs(1)\n",
    "print(count - 1)"
   ]
  },
  {
   "cell_type": "markdown",
   "metadata": {},
   "source": [
    "### 유기농 배추 1012"
   ]
  },
  {
   "cell_type": "code",
   "execution_count": 19,
   "metadata": {},
   "outputs": [
    {
     "name": "stdout",
     "output_type": "stream",
     "text": [
      "1\n",
      "5 3 6\n",
      "0 2\n",
      "1 2\n",
      "2 2\n",
      "3 2\n",
      "4 2\n",
      "4 0\n",
      "2\n"
     ]
    }
   ],
   "source": [
    "# 시간 초과\n",
    "from collections import deque\n",
    "import sys\n",
    "input = sys.stdin.readline\n",
    "    \n",
    "case_num = int(input())\n",
    "    \n",
    "for _ in range(case_num):\n",
    "    m, n, k = map(int, input().split())\n",
    "    coords = []\n",
    "    coords2 = [[False] * n for _ in range(m)]\n",
    "    visited = [[False] * n for _ in range(m)]\n",
    "    count = 0\n",
    "\n",
    "    for _ in range(k):\n",
    "        x, y = map(int, input().split())\n",
    "        coords.append((x, y))\n",
    "        coords2[x][y] = True\n",
    "\n",
    "    queue = deque([coord])\n",
    "    \n",
    "    for coord in coords:\n",
    "        x, y = coord\n",
    "        if visited[x][y]:\n",
    "            continue\n",
    "        count += 1\n",
    "\n",
    "        while queue:\n",
    "            value = queue.popleft()\n",
    "            a, b = value\n",
    "            visited[a][b] = True\n",
    "\n",
    "            if coords2[a][b]:\n",
    "                for v, w in [(a - 1, b), (a + 1, b), (a, b + 1), (a, b - 1)]:\n",
    "                    if 0 <= v < m and 0 <= w < n and not visited[v][w]:\n",
    "                        queue.append((v, w))\n",
    "\n",
    "    print(count)"
   ]
  },
  {
   "cell_type": "code",
   "execution_count": 13,
   "metadata": {},
   "outputs": [
    {
     "name": "stdout",
     "output_type": "stream",
     "text": [
      "1\n",
      "5 3 6\n",
      "0 2\n",
      "1 2\n",
      "2 2\n",
      "3 2\n",
      "4 2\n",
      "4 0\n",
      "2\n"
     ]
    }
   ],
   "source": [
    "# 맞았음\n",
    "from collections import deque, defaultdict\n",
    "import sys\n",
    "input = sys.stdin.readline\n",
    "    \n",
    "case_num = int(input())\n",
    "    \n",
    "for _ in range(case_num):\n",
    "    m, n, k = map(int, input().split())\n",
    "    d = defaultdict(list)\n",
    "    to_visit = []\n",
    "    count = 0\n",
    "    queue = deque([])\n",
    "    \n",
    "    for _ in range(k):\n",
    "        x, y = map(int, input().split())\n",
    "        to_visit.append((x, y))\n",
    "        d[(x, y)] = ((x-1, y), (x+1, y), (x, y-1), (x, y+1))\n",
    "        \n",
    "    while to_visit:\n",
    "        x, y = to_visit.pop(0)\n",
    "        count += 1\n",
    "        \n",
    "        queue.append((x, y))\n",
    "        \n",
    "        while queue:\n",
    "            a, b = queue.popleft()\n",
    "            for v, w in d[(a, b)]: \n",
    "                if 0 <= v < m and 0 <= w < n and (v, w) in to_visit:\n",
    "                    to_visit.remove((v, w))\n",
    "                    queue.append((v, w))\n",
    "    print(count)"
   ]
  },
  {
   "cell_type": "code",
   "execution_count": 34,
   "metadata": {},
   "outputs": [],
   "source": [
    "s = '''0 0\n",
    "1 0\n",
    "1 1\n",
    "4 2\n",
    "4 3\n",
    "4 5\n",
    "2 4\n",
    "3 4\n",
    "7 4\n",
    "8 4\n",
    "9 4\n",
    "7 5\n",
    "8 5\n",
    "9 5\n",
    "7 6\n",
    "8 6\n",
    "9 6'''"
   ]
  },
  {
   "cell_type": "code",
   "execution_count": 37,
   "metadata": {},
   "outputs": [
    {
     "data": {
      "text/plain": [
       "['0', '0']"
      ]
     },
     "execution_count": 37,
     "metadata": {},
     "output_type": "execute_result"
    }
   ],
   "source": [
    "s.split(\"\\n\")[0].split()"
   ]
  },
  {
   "cell_type": "code",
   "execution_count": 46,
   "metadata": {},
   "outputs": [
    {
     "name": "stdout",
     "output_type": "stream",
     "text": [
      "10 8 17\n",
      "5\n",
      "연산 수:  68\n",
      "[[(0, 0), (-1, 0)], [(0, 0), (1, 0)], [(0, 0), (0, 1)], [(0, 0), (0, -1)], [(1, 0), (0, 0)], [(1, 0), (2, 0)], [(1, 0), (1, 1)], [(1, 0), (1, -1)], [(1, 1), (0, 1)], [(1, 1), (2, 1)], [(1, 1), (1, 2)], [(1, 1), (1, 0)], [(4, 2), (3, 2)], [(4, 2), (5, 2)], [(4, 2), (4, 3)], [(4, 2), (4, 1)], [(4, 3), (3, 3)], [(4, 3), (5, 3)], [(4, 3), (4, 4)], [(4, 3), (4, 2)], [(4, 5), (3, 5)], [(4, 5), (5, 5)], [(4, 5), (4, 6)], [(4, 5), (4, 4)], [(2, 4), (1, 4)], [(2, 4), (3, 4)], [(2, 4), (2, 5)], [(2, 4), (2, 3)], [(3, 4), (2, 4)], [(3, 4), (4, 4)], [(3, 4), (3, 5)], [(3, 4), (3, 3)], [(7, 4), (6, 4)], [(7, 4), (8, 4)], [(7, 4), (7, 5)], [(7, 4), (7, 3)], [(8, 4), (7, 4)], [(8, 4), (9, 4)], [(8, 4), (8, 5)], [(8, 4), (8, 3)], [(7, 5), (6, 5)], [(7, 5), (8, 5)], [(7, 5), (7, 6)], [(7, 5), (7, 4)], [(9, 4), (8, 4)], [(9, 4), (10, 4)], [(9, 4), (9, 5)], [(9, 4), (9, 3)], [(8, 5), (7, 5)], [(8, 5), (9, 5)], [(8, 5), (8, 6)], [(8, 5), (8, 4)], [(7, 6), (6, 6)], [(7, 6), (8, 6)], [(7, 6), (7, 7)], [(7, 6), (7, 5)], [(9, 5), (8, 5)], [(9, 5), (10, 5)], [(9, 5), (9, 6)], [(9, 5), (9, 4)], [(8, 6), (7, 6)], [(8, 6), (9, 6)], [(8, 6), (8, 7)], [(8, 6), (8, 5)], [(9, 6), (8, 6)], [(9, 6), (10, 6)], [(9, 6), (9, 7)], [(9, 6), (9, 5)]]\n"
     ]
    }
   ],
   "source": [
    "# 시간초과 이유 밝히기\n",
    "from collections import deque\n",
    "import sys\n",
    "    \n",
    "case_num = 1\n",
    "    \n",
    "for _ in range(case_num):\n",
    "    c = 0\n",
    "    li = []\n",
    "    m, n, k = map(int, input().split())\n",
    "    coords = []\n",
    "    coords2 = [[False] * n for _ in range(m)]\n",
    "    visited = [[False] * n for _ in range(m)]\n",
    "    count = 0\n",
    "\n",
    "    for st in s.split(\"\\n\"):\n",
    "        x, y = map(int, st.split())\n",
    "        coords.append((x, y))\n",
    "        coords2[x][y] = True\n",
    "    \n",
    "    for coord in coords:\n",
    "        x, y = coord\n",
    "        if visited[x][y]:\n",
    "            continue\n",
    "        count += 1\n",
    "\n",
    "        queue = deque([coord])\n",
    "        while queue:\n",
    "            value = queue.popleft()\n",
    "            a, b = value\n",
    "            \n",
    "            \n",
    "            --------\n",
    "            visited[a][b] = True\n",
    "            if coords2[a][b]:\n",
    "                \n",
    "            --\n",
    "            to\n",
    "            --\n",
    "            \n",
    "            if coords2[a][b] and not visited[a][b]:\n",
    "                visited[a][b] = True\n",
    "            --------\n",
    "            \n",
    "            \n",
    "                for v, w in [(a - 1, b), (a + 1, b), (a, b + 1), (a, b - 1)]:\n",
    "                    li.append([value, (v, w)])\n",
    "                    c += 1\n",
    "                    if 0 <= v < m and 0 <= w < n and not visited[v][w]:\n",
    "                        queue.append((v, w))\n",
    "\n",
    "    print(count)\n",
    "    print(\"연산 수: \", c)\n",
    "    print(li)"
   ]
  },
  {
   "cell_type": "code",
   "execution_count": 42,
   "metadata": {},
   "outputs": [
    {
     "name": "stdout",
     "output_type": "stream",
     "text": [
      "10 8 17\n",
      "5\n",
      "연산 수:  68\n",
      "[[(0, 0), (-1, 0)], [(0, 0), (1, 0)], [(0, 0), (0, -1)], [(0, 0), (0, 1)], [(1, 0), (0, 0)], [(1, 0), (2, 0)], [(1, 0), (1, -1)], [(1, 0), (1, 1)], [(1, 1), (0, 1)], [(1, 1), (2, 1)], [(1, 1), (1, 0)], [(1, 1), (1, 2)], [(4, 2), (3, 2)], [(4, 2), (5, 2)], [(4, 2), (4, 1)], [(4, 2), (4, 3)], [(4, 3), (3, 3)], [(4, 3), (5, 3)], [(4, 3), (4, 2)], [(4, 3), (4, 4)], [(4, 5), (3, 5)], [(4, 5), (5, 5)], [(4, 5), (4, 4)], [(4, 5), (4, 6)], [(2, 4), (1, 4)], [(2, 4), (3, 4)], [(2, 4), (2, 3)], [(2, 4), (2, 5)], [(3, 4), (2, 4)], [(3, 4), (4, 4)], [(3, 4), (3, 3)], [(3, 4), (3, 5)], [(7, 4), (6, 4)], [(7, 4), (8, 4)], [(7, 4), (7, 3)], [(7, 4), (7, 5)], [(8, 4), (7, 4)], [(8, 4), (9, 4)], [(8, 4), (8, 3)], [(8, 4), (8, 5)], [(7, 5), (6, 5)], [(7, 5), (8, 5)], [(7, 5), (7, 4)], [(7, 5), (7, 6)], [(9, 4), (8, 4)], [(9, 4), (10, 4)], [(9, 4), (9, 3)], [(9, 4), (9, 5)], [(8, 5), (7, 5)], [(8, 5), (9, 5)], [(8, 5), (8, 4)], [(8, 5), (8, 6)], [(7, 6), (6, 6)], [(7, 6), (8, 6)], [(7, 6), (7, 5)], [(7, 6), (7, 7)], [(9, 5), (8, 5)], [(9, 5), (10, 5)], [(9, 5), (9, 4)], [(9, 5), (9, 6)], [(8, 6), (7, 6)], [(8, 6), (9, 6)], [(8, 6), (8, 5)], [(8, 6), (8, 7)], [(9, 6), (8, 6)], [(9, 6), (10, 6)], [(9, 6), (9, 5)], [(9, 6), (9, 7)]]\n"
     ]
    }
   ],
   "source": [
    "# 시간초과 비교용\n",
    "from collections import deque, defaultdict\n",
    "import sys\n",
    "    \n",
    "case_num = 1\n",
    "    \n",
    "for _ in range(case_num):\n",
    "    m, n, k = map(int, input().split())\n",
    "    d = defaultdict(list)\n",
    "    to_visit = []\n",
    "    count = 0\n",
    "    queue = deque([])\n",
    "    c = 0\n",
    "    li = []\n",
    "    \n",
    "    for st in s.split(\"\\n\"):\n",
    "        x, y = map(int, st.split())\n",
    "        to_visit.append((x, y))\n",
    "        d[(x, y)] = ((x-1, y), (x+1, y), (x, y-1), (x, y+1))\n",
    "        \n",
    "    while to_visit:\n",
    "        x, y = to_visit.pop(0)\n",
    "        count += 1\n",
    "        \n",
    "        queue.append((x, y))\n",
    "        \n",
    "        while queue:\n",
    "            a, b = queue.popleft()\n",
    "            for v, w in d[(a, b)]: \n",
    "                li.append([(a, b), (v, w)])\n",
    "                c += 1\n",
    "                if 0 <= v < m and 0 <= w < n and (v, w) in to_visit:\n",
    "                    to_visit.remove((v, w))\n",
    "                    queue.append((v, w))\n",
    "    print(count)\n",
    "    print(\"연산 수: \", c)\n",
    "    print(li)"
   ]
  },
  {
   "cell_type": "markdown",
   "metadata": {},
   "source": [
    "### 효율적인 해킹 1325"
   ]
  },
  {
   "cell_type": "code",
   "execution_count": 57,
   "metadata": {},
   "outputs": [
    {
     "data": {
      "text/plain": [
       "[[], [3], [3], [4, 5], []]"
      ]
     },
     "execution_count": 57,
     "metadata": {},
     "output_type": "execute_result"
    }
   ],
   "source": [
    "adj"
   ]
  },
  {
   "cell_type": "code",
   "execution_count": null,
   "metadata": {},
   "outputs": [],
   "source": [
    "# 시간 초과\n",
    "\n",
    "import sys\n",
    "input = sys.stdin.readline\n",
    "sys.setrecursionlimit(300000)\n",
    "\n",
    "n, m = map(int, input().split())\n",
    "adj = [[] for _ in range(n + 1)]\n",
    "\n",
    "for _ in range(m):\n",
    "    a, b = map(int, input().split())\n",
    "    adj[b].append(a)\n",
    "\n",
    "def dfs(node):\n",
    "    visited[node] = True\n",
    "    \n",
    "    for v in adj[node]:\n",
    "        if not visited[v]:\n",
    "            dfs(v)\n",
    "    \n",
    "counts_li = []\n",
    "for node in range(1, n + 1):\n",
    "    visited = [False] * (n + 1)\n",
    "    dfs(node)\n",
    "    counts_li.append(sum(visited))\n",
    "\n",
    "result_li = sorted([i for i, v in enumerate(counts_li, 1) if v == max(counts_li)])\n",
    "for v in result_li:\n",
    "    print(v, end=\" \")"
   ]
  },
  {
   "cell_type": "code",
   "execution_count": 71,
   "metadata": {},
   "outputs": [
    {
     "name": "stdout",
     "output_type": "stream",
     "text": [
      "5 4\n",
      "3 1\n",
      "3 2\n",
      "4 3\n",
      "5 3\n",
      "111 1\n",
      "111 2\n",
      "1 2 "
     ]
    }
   ],
   "source": [
    "import sys\n",
    "sys.setrecursionlimit(300000)\n",
    "\n",
    "n, m = map(int, input().split())\n",
    "adj = [[] for _ in range(n + 1)]\n",
    "\n",
    "for _ in range(m):\n",
    "    a, b = map(int, input().split())\n",
    "    adj[b].append(a)\n",
    "\n",
    "def dfs(node):\n",
    "    original_count = counts_li[node]\n",
    "    \n",
    "    for v in adj[node]:\n",
    "        if counts_li[v] > 1:\n",
    "            counts_li[node] = max([counts_li[v] + 1, original_count])\n",
    "            continue\n",
    "        dfs(v)\n",
    "    \n",
    "counts_li = [1] * (n + 1)\n",
    "to_visit = list(range(1, n + 1))\n",
    "\n",
    "for node in range(1, n + 1):\n",
    "    dfs(node)\n",
    "\n",
    "result_li = sorted([i for i, v in enumerate(counts_li) if v == max(counts_li)])\n",
    "for v in result_li:\n",
    "    print(v, end=\" \")"
   ]
  },
  {
   "cell_type": "code",
   "execution_count": 53,
   "metadata": {},
   "outputs": [],
   "source": [
    "s = '''3 1\n",
    "3 2\n",
    "4 3\n",
    "5 3'''\n",
    "\n",
    "s = '''3 1\n",
    "3 2\n",
    "4 3\n",
    "5 3\n",
    "5 4\n",
    "1 5\n",
    "5 1'''"
   ]
  },
  {
   "cell_type": "code",
   "execution_count": 2,
   "metadata": {},
   "outputs": [
    {
     "name": "stdout",
     "output_type": "stream",
     "text": [
      "1 2 0.0\n",
      "연산량:  4\n"
     ]
    }
   ],
   "source": [
    "# 시간 초과\n",
    "import sys\n",
    "import time\n",
    "\n",
    "c = 0\n",
    "start = time.time()\n",
    "# input = sys.stdin.readline\n",
    "\n",
    "# n, m = map(int, input().split())\n",
    "n, m = 5, 4\n",
    "adj = [[] for _ in range(n + 1)]\n",
    "\n",
    "# for _ in range(m):\n",
    "#     a, b = map(int, input().split())\n",
    "#     adj[b].append(a)\n",
    "\n",
    "for st in s.split(\"\\n\"):\n",
    "    a, b = map(int, st.split())\n",
    "    adj[b].append(a)\n",
    "\n",
    "    \n",
    "# 이거 while로 만들기\n",
    "def dfs(node):\n",
    "    global c\n",
    "    li = []\n",
    "    for v in adj[node]:\n",
    "        c += 1\n",
    "        if visited[v]:\n",
    "            li.extend(visited[v])\n",
    "        else:\n",
    "            li.extend(dfs(v))\n",
    "    \n",
    "    li = list(set(li))\n",
    "    visited[node] = li\n",
    "    li.append(node)\n",
    "    return li\n",
    "    \n",
    "visited = [[] for _ in range(n + 1)]\n",
    "\n",
    "for node in range(1, n + 1):\n",
    "    if not visited[node]:\n",
    "        visited[node] = dfs(node)\n",
    "        \n",
    "result_li = sorted([i for i, v in enumerate(map(len, visited)) if v == max(map(len, visited))])\n",
    "for v in result_li:\n",
    "    print(v, end=\" \")\n",
    "    \n",
    "end = time.time()\n",
    "print(end - start)\n",
    "print(\"연산량: \" ,c)"
   ]
  },
  {
   "cell_type": "code",
   "execution_count": 4,
   "metadata": {},
   "outputs": [
    {
     "name": "stdout",
     "output_type": "stream",
     "text": [
      "1 2 0.0010004043579101562\n",
      "연산량:  6\n"
     ]
    }
   ],
   "source": [
    "# 시간 초과\n",
    "import sys\n",
    "import time\n",
    "start = time.time()\n",
    "c = 0\n",
    "# input = sys.stdin.readline\n",
    "\n",
    "n, m = 5, 4\n",
    "adj = [[] for _ in range(n + 1)]\n",
    "\n",
    "# for _ in range(m):\n",
    "#     a, b = map(int, input().split())\n",
    "#     adj[b].append(a)\n",
    "\n",
    "for st in s.split(\"\\n\"):\n",
    "    a, b = map(int, st.split())\n",
    "    adj[b].append(a)\n",
    "    \n",
    "visited = [set() for i in range(n + 1)]\n",
    "\n",
    "while True:\n",
    "    li = [node for node, e in enumerate(visited) if node >= 1 and not len(e)]\n",
    "    if not li:\n",
    "        break\n",
    "        \n",
    "    for node in li:\n",
    "        if not visited[node]:\n",
    "            stack = [node]\n",
    "\n",
    "            while stack:\n",
    "                is_all_visited = True\n",
    "\n",
    "                node = stack.pop()\n",
    "                for v in adj[node]:\n",
    "                    c += 1\n",
    "                    if visited[v]:\n",
    "                        for w in visited[v]:\n",
    "                            visited[node].add(w)\n",
    "                    else:\n",
    "                        stack.extend(adj[v])\n",
    "                        is_all_visited = False\n",
    "\n",
    "                if is_all_visited:\n",
    "                    visited[node].add(node)\n",
    "\n",
    "result_li = sorted([i for i, v in enumerate(map(len, visited)) if v == max(map(len, visited))])\n",
    "for v in result_li:\n",
    "    print(v, end=\" \")\n",
    "    \n",
    "end = time.time()\n",
    "print(end - start)\n",
    "print(\"연산량: \", c)"
   ]
  },
  {
   "cell_type": "code",
   "execution_count": 14,
   "metadata": {},
   "outputs": [
    {
     "name": "stdout",
     "output_type": "stream",
     "text": [
      "1 2 "
     ]
    }
   ],
   "source": [
    "# 시간 초과\n",
    "import sys\n",
    "# input = sys.stdin.readline\n",
    "\n",
    "n, m = 5, 4\n",
    "adj = [[] for _ in range(n + 1)]\n",
    "\n",
    "# for _ in range(m):\n",
    "#     a, b = map(int, input().split())\n",
    "#     adj[b].append(a)\n",
    "\n",
    "for st in s.split(\"\\n\"):\n",
    "    a, b = map(int, st.split())\n",
    "    adj[b].append(a)\n",
    "    \n",
    "visited = [set() for i in range(n + 1)]\n",
    "pending = [set() for i in range(n + 1)]\n",
    "\n",
    "for node in range(1, n + 1):\n",
    "    if visited[node]:\n",
    "        continue\n",
    "    \n",
    "    stack = [node]\n",
    "    all_info = [node]\n",
    "\n",
    "    while stack:\n",
    "        node = stack.pop()\n",
    "        for v in adj[node]:\n",
    "            c += 1\n",
    "            if visited[v]:\n",
    "                visited[node] = visited[node].union(visited[v])\n",
    "            else:\n",
    "                pending[v].add(node)\n",
    "                stack.extend(adj[v])\n",
    "                all_info.extend(adj[v])\n",
    "                \n",
    "        visited[node].add(node)\n",
    "        \n",
    "    all_info = list(reversed(all_info))\n",
    "    for v in all_info:\n",
    "        for w in pending[v]:\n",
    "            visited[w] = visited[w].union(visited[v])\n",
    "    \n",
    "\n",
    "result_li = sorted([i for i, v in enumerate(map(len, visited)) if v == max(map(len, visited))])\n",
    "for v in result_li:\n",
    "    print(v, end=\" \")"
   ]
  },
  {
   "cell_type": "code",
   "execution_count": 17,
   "metadata": {},
   "outputs": [
    {
     "name": "stdout",
     "output_type": "stream",
     "text": [
      "1 2 "
     ]
    }
   ],
   "source": [
    "import sys\n",
    "from collections import deque\n",
    "# input = sys.stdin.readline\n",
    "\n",
    "n, m = 5, 4\n",
    "adj = [[] for _ in range(n + 1)]\n",
    "\n",
    "# for _ in range(m):\n",
    "#     a, b = map(int, input().split())\n",
    "#     adj[b].append(a)\n",
    "\n",
    "for st in s.split(\"\\n\"):\n",
    "    a, b = map(int, st.split())\n",
    "    adj[b].append(a)\n",
    "    \n",
    "visited = [set() for i in range(n + 1)]\n",
    "pending = [set() for i in range(n + 1)]\n",
    "\n",
    "for node in range(1, n + 1):\n",
    "    if visited[node]:\n",
    "        continue\n",
    "    \n",
    "    queue = deque([node])\n",
    "    all_info = [node]\n",
    "\n",
    "    while queue:\n",
    "        node = queue.popleft()\n",
    "        for v in adj[node]:\n",
    "            c += 1\n",
    "            if visited[v]:\n",
    "                visited[node] = visited[node].union(visited[v])\n",
    "            else:\n",
    "                pending[v].add(node)\n",
    "                queue.extend(adj[v])\n",
    "                all_info.extend(adj[v])\n",
    "                \n",
    "        visited[node].add(node)\n",
    "        \n",
    "    all_info = list(reversed(all_info))\n",
    "    for v in all_info:\n",
    "        for w in pending[v]:\n",
    "            visited[w] = visited[w].union(visited[v])\n",
    "    \n",
    "\n",
    "result_li = sorted([i for i, v in enumerate(map(len, visited)) if v == max(map(len, visited))])\n",
    "for v in result_li:\n",
    "    print(v, end=\" \")"
   ]
  },
  {
   "cell_type": "code",
   "execution_count": null,
   "metadata": {},
   "outputs": [],
   "source": [
    "# 시간 초과\n",
    "import sys\n",
    "from collections import deque\n",
    "input = sys.stdin.readline\n",
    "\n",
    "n, m = map(int, input().split())\n",
    "adj = [[] for _ in range(n + 1)]\n",
    "\n",
    "for _ in range(m):\n",
    "    a, b = map(int, input().split())\n",
    "    adj[b].append(a)\n",
    "    \n",
    "visited = [set() for i in range(n + 1)]\n",
    "pending = [set() for i in range(n + 1)]\n",
    "\n",
    "for node in range(1, n + 1):\n",
    "    if visited[node]:\n",
    "        continue\n",
    "    \n",
    "    queue = deque([node])\n",
    "    all_info = [node]\n",
    "\n",
    "    while queue:\n",
    "        node = queue.popleft()\n",
    "        for v in adj[node]:\n",
    "            if visited[v]:\n",
    "                visited[node] = visited[node].union(visited[v])\n",
    "            else:\n",
    "                pending[v].add(node)\n",
    "                queue.extend(adj[v])\n",
    "                all_info.extend(adj[v])\n",
    "                \n",
    "        visited[node].add(node)\n",
    "        \n",
    "    all_info = list(reversed(all_info))\n",
    "    for v in all_info:\n",
    "        for w in pending[v]:\n",
    "            visited[w] = visited[w].union(visited[v])\n",
    "    \n",
    "\n",
    "result_li = sorted([i for i, v in enumerate(map(len, visited)) if v == max(map(len, visited))])\n",
    "for v in result_li:\n",
    "    print(v, end=\" \")"
   ]
  },
  {
   "cell_type": "code",
   "execution_count": 60,
   "metadata": {},
   "outputs": [
    {
     "name": "stdout",
     "output_type": "stream",
     "text": [
      "[set(), {1, 3, 4, 5}, set(), {3, 4, 5}, {4, 5}, {1, 3, 4, 5}]\n",
      "[set(), {1, 3, 4, 5}, {2, 3, 4, 5}, {3, 4, 5}, {4, 5}, {1, 3, 4, 5}]\n",
      "1 2 5 "
     ]
    }
   ],
   "source": [
    "# 재시도, 틀렸음, 사이클이 있는 경우에 오류 가능성 있음\n",
    "from collections import deque\n",
    "\n",
    "# n, m = map(int, input().split())\n",
    "n, m = 5, 7\n",
    "adj = [[] for _ in range(n + 1)]\n",
    "\n",
    "# for _ in range(m):\n",
    "#     a, b = map(int, input().split())\n",
    "#     adj[b].append(a)\n",
    "\n",
    "for st in s.split(\"\\n\"):\n",
    "    a, b = map(int, st.split())\n",
    "    adj[b].append(a)\n",
    "    \n",
    "visited = [set() for i in range(n + 1)]\n",
    "pending = [set() for i in range(n + 1)]\n",
    "\n",
    "for node in range(n, 0, -1):\n",
    "    if visited[node]:\n",
    "        continue\n",
    "    \n",
    "    queue = deque([node])\n",
    "    all_info = [node]\n",
    "\n",
    "    while queue:\n",
    "        node = queue.popleft()\n",
    "        visited[node].add(node)\n",
    "        for v in adj[node]:\n",
    "            if visited[v]:\n",
    "                visited[node] = visited[node].union(visited[v])\n",
    "            else:\n",
    "                pending[v].add(node)\n",
    "                visited[v].add(v)\n",
    "                queue.append(v)\n",
    "                all_info.append(v)\n",
    "        \n",
    "    all_info = list(reversed(all_info))\n",
    "    for v in all_info:\n",
    "        for w in pending[v]:\n",
    "            visited[w] = visited[w].union(visited[v])\n",
    "    print(visited)\n",
    "    \n",
    "\n",
    "result_li = sorted([i for i, v in enumerate(map(len, visited)) if v == max(map(len, visited))])\n",
    "for v in result_li:\n",
    "    print(v, end=\" \")"
   ]
  },
  {
   "cell_type": "code",
   "execution_count": 52,
   "metadata": {},
   "outputs": [
    {
     "data": {
      "text/plain": [
       "[set(), {1, 3, 4, 5}, {2, 3, 4, 5}, {3, 4, 5}, {4, 5}, {1, 3, 4, 5}]"
      ]
     },
     "execution_count": 52,
     "metadata": {},
     "output_type": "execute_result"
    }
   ],
   "source": [
    "visited"
   ]
  },
  {
   "cell_type": "code",
   "execution_count": 30,
   "metadata": {},
   "outputs": [
    {
     "name": "stdout",
     "output_type": "stream",
     "text": [
      "5 4\n",
      "3 1\n",
      "3 2\n",
      "4 3\n",
      "5 3\n",
      "1 2 "
     ]
    }
   ],
   "source": [
    "# 시간 초과\n",
    "from collections import deque\n",
    "import sys\n",
    "# input = sys.stdin.readline\n",
    "\n",
    "n, m = map(int, input().split())\n",
    "adj = [[] for _ in range(n + 1)]\n",
    "\n",
    "for _ in range(m):\n",
    "    a, b = map(int, input().split())\n",
    "    adj[b].append(a)\n",
    "\n",
    "def bfs(node):\n",
    "    visited = [False] * (n + 1)\n",
    "    visited[node] = True\n",
    "    \n",
    "    queue = deque([node])\n",
    "    while queue:\n",
    "        node = queue.popleft()\n",
    "        visited[node] = True\n",
    "        for v in adj[node]:\n",
    "            if not visited[v]:\n",
    "                queue.extend(adj[v])\n",
    "    counts_li.append(sum(visited))\n",
    "    \n",
    "counts_li = []\n",
    "for node in range(1, n + 1):\n",
    "    bfs(node)\n",
    "\n",
    "result_li = sorted([i for i, v in enumerate(counts_li, 1) if v == max(counts_li)])\n",
    "for v in result_li:\n",
    "    print(v, end=\" \")"
   ]
  },
  {
   "cell_type": "code",
   "execution_count": 33,
   "metadata": {},
   "outputs": [
    {
     "name": "stdout",
     "output_type": "stream",
     "text": [
      "5 4\n",
      "3 1\n",
      "3 2\n",
      "4 3\n",
      "5 3\n",
      "1 2 "
     ]
    }
   ],
   "source": [
    "# 맞았음\n",
    "from collections import deque\n",
    "\n",
    "n, m = map(int, input().split())\n",
    "adj = [[] for _ in range(n + 1)]\n",
    "\n",
    "for _ in range(m):\n",
    "    a, b = map(int, input().split())\n",
    "    adj[b].append(a)\n",
    "\n",
    "def bfs(node):\n",
    "    queue = deque([node])\n",
    "    visited = [False] * (n + 1)\n",
    "    visited[node] = True\n",
    "    count = 1\n",
    "    while queue:\n",
    "        node = queue.popleft()        \n",
    "        for v in adj[node]:\n",
    "            if not visited[v]:\n",
    "                visited[v] = True\n",
    "                count += 1\n",
    "                queue.append(v)\n",
    "    return count\n",
    "    \n",
    "result = []\n",
    "max_count = -1\n",
    "for node in range(1, n + 1):\n",
    "    count = bfs(node)\n",
    "    if count > max_count:\n",
    "        result = [node]\n",
    "        max_count = count\n",
    "    elif count == max_count:\n",
    "        result.append(node)\n",
    "        \n",
    "for v in result:\n",
    "    print(v, end=\" \")"
   ]
  },
  {
   "cell_type": "code",
   "execution_count": 32,
   "metadata": {},
   "outputs": [
    {
     "name": "stdout",
     "output_type": "stream",
     "text": [
      "4 4\n",
      "2 1\n",
      "3 1\n",
      "3 2\n",
      "4 2\n",
      "1 "
     ]
    }
   ],
   "source": [
    "# 맞았음\n",
    "# 맞은 이유 python3 -> pypy3, dfs -> bfs, visited[v] 위치 변경, visited[node](실수) -> visited[v]\n",
    "# 좋아 보였지만 맞지 못했던 경우: 모든 노드가 아니라 지나간 적 없는 노드만 탐색 수행(사이클 경우 캐치 못함)\n",
    "\n",
    "from collections import deque\n",
    "\n",
    "n, m = map(int, input().split())\n",
    "adj = [[] for _ in range(n + 1)]\n",
    "\n",
    "for _ in range(m):\n",
    "    a, b = map(int, input().split())\n",
    "    adj[b].append(a)\n",
    "\n",
    "def bfs(node):\n",
    "    visited = [False] * (n + 1)\n",
    "    visited[node] = True\n",
    "    \n",
    "    queue = deque([node])\n",
    "    while queue:\n",
    "        node = queue.popleft()\n",
    "        visited[node] = True\n",
    "        for v in adj[node]:\n",
    "            if not visited[v]:\n",
    "                visited[v] = True # 이거 없으면 시간 초과됨\n",
    "                queue.append(v)\n",
    "    counts_li.append(sum(visited))\n",
    "    \n",
    "counts_li = []\n",
    "for node in range(1, n + 1):\n",
    "    bfs(node)\n",
    "\n",
    "result_li = sorted([i for i, v in enumerate(counts_li, 1) if v == max(counts_li)])\n",
    "for v in result_li:\n",
    "    print(v, end=\" \")"
   ]
  },
  {
   "cell_type": "code",
   "execution_count": 70,
   "metadata": {},
   "outputs": [
    {
     "name": "stdout",
     "output_type": "stream",
     "text": [
      "4 4\n",
      "2 1\n",
      "3 1\n",
      "3 2\n",
      "4 3\n"
     ]
    }
   ],
   "source": [
    "# 재확인\n",
    "\n",
    "from collections import deque\n",
    "\n",
    "n, m = map(int, input().split())\n",
    "adj = [[] for _ in range(n + 1)]\n",
    "\n",
    "for _ in range(m):\n",
    "    a, b = map(int, input().split())\n",
    "    adj[b].append(a)"
   ]
  },
  {
   "cell_type": "code",
   "execution_count": null,
   "metadata": {},
   "outputs": [],
   "source": [
    "def bfs(node):\n",
    "    c = 0\n",
    "    visited = [0] * (n + 1)\n",
    "    visited[node] += 1\n",
    "    \n",
    "    queue = deque([node])\n",
    "    while queue:\n",
    "        node = queue.popleft()\n",
    "        visited[node] += 1\n",
    "        for v in adj[node]:\n",
    "            c += 1\n",
    "            if not visited[v]:\n",
    "                visited[v] += 1 # 이거 없으면 시간 초과됨\n",
    "                              \n",
    "#                 4 4\n",
    "#                 2 1\n",
    "#                 3 1\n",
    "#                 3 2\n",
    "#                 4 3\n",
    "#                 같은 경우에서 queue에 굳이 한 번 더 들어갈 수 있음\n",
    "                \n",
    "                queue.append(v)\n",
    "    counts_li.append(sum(visited))\n",
    "    print(c, visited)\n",
    "    \n",
    "counts_li = []\n",
    "for node in range(1, n + 1):\n",
    "    bfs(node)\n",
    "\n",
    "result_li = sorted([i for i, v in enumerate(counts_li, 1) if v == max(counts_li)])\n",
    "for v in result_li:\n",
    "    print(v, end=\" \")"
   ]
  },
  {
   "cell_type": "code",
   "execution_count": null,
   "metadata": {},
   "outputs": [],
   "source": [
    "5 4\n",
    "3 1\n",
    "3 2\n",
    "4 3\n",
    "5 3\n",
    "1 2 "
   ]
  },
  {
   "cell_type": "code",
   "execution_count": null,
   "metadata": {},
   "outputs": [],
   "source": [
    "## 예시 코드\n",
    "\n",
    "from collections import deque\n",
    "\n",
    "n, m = map(int, input().split())\n",
    "adj = [[] for _ in range(n + 1)]\n",
    "\n",
    "for _ in range(m):\n",
    "    x, y = map(int, input().split())\n",
    "    adj[y].append(x)\n",
    "    \n",
    "def bfs(v):\n",
    "    queue = deque([v])\n",
    "    visited = [False] * (n + 1)\n",
    "    visited[v] = True\n",
    "    count = 1\n",
    "    while queue:\n",
    "        v = queue.popleft()\n",
    "        for e in adj[v]:\n",
    "            if not visited[e]:\n",
    "                queue.append(e)\n",
    "                visited[e] = True\n",
    "                count += 1\n",
    "    return count\n",
    "r = []\n",
    "max_value = -1\n",
    "\n",
    "for i in range(1, n + 1):\n",
    "    c = bfs(i)\n",
    "    if c > max_value:\n",
    "        r = [i]\n",
    "        max_value = c\n",
    "    elif c == max_value:\n",
    "        r.append(i)\n",
    "        max_value == c\n",
    "        \n",
    "for e in r:\n",
    "    print(e, end=\" \")"
   ]
  }
 ],
 "metadata": {
  "kernelspec": {
   "display_name": "Python 3",
   "language": "python",
   "name": "python3"
  },
  "language_info": {
   "codemirror_mode": {
    "name": "ipython",
    "version": 3
   },
   "file_extension": ".py",
   "mimetype": "text/x-python",
   "name": "python",
   "nbconvert_exporter": "python",
   "pygments_lexer": "ipython3",
   "version": "3.7.3"
  }
 },
 "nbformat": 4,
 "nbformat_minor": 4
}
