{
 "cells": [
  {
   "cell_type": "markdown",
   "metadata": {},
   "source": [
    "### 트리 순회 1991"
   ]
  },
  {
   "cell_type": "code",
   "execution_count": null,
   "metadata": {},
   "outputs": [],
   "source": [
    "5.08 5.43"
   ]
  },
  {
   "cell_type": "code",
   "execution_count": 1,
   "metadata": {},
   "outputs": [],
   "source": [
    "class Node():\n",
    "    def __init__(self, value, left_node=None, right_node=None):\n",
    "        self.value = value\n",
    "        self.left = left_node\n",
    "        self.right = right_node\n",
    "\n",
    "class nodeMgmt():\n",
    "    def __init__(self, value, left_value, right_value):\n",
    "        self.head = Node(value, Node(left_value), Node(right_value))\n",
    "        \n",
    "    def add(self, value, left_value, right_value):\n",
    "        node = self.head\n",
    "        queue = [node]\n",
    "        while queue:\n",
    "            popped_node = queue.pop(0)\n",
    "            if popped_node:           \n",
    "                if popped_node.left and popped_node.left.value == value:\n",
    "                    node = popped_node.left\n",
    "                    break\n",
    "                elif popped_node.right and popped_node.right.value == value:\n",
    "                    node = popped_node.right\n",
    "                    break\n",
    "                else:\n",
    "                    queue.extend([popped_node.left, popped_node.right])\n",
    "        if left_value != None:\n",
    "            node.left = Node(left_value)\n",
    "        if right_value != None:\n",
    "            node.right = Node(right_value)"
   ]
  },
  {
   "cell_type": "code",
   "execution_count": 2,
   "metadata": {},
   "outputs": [
    {
     "name": "stdout",
     "output_type": "stream",
     "text": [
      "7\n",
      "A B C\n",
      "B D .\n",
      "C E F\n",
      "E . .\n",
      "F . G\n",
      "D . .\n",
      "G . .\n"
     ]
    }
   ],
   "source": [
    "n = int(input())\n",
    "\n",
    "for i in range(n):\n",
    "    value, left, right = input().split()\n",
    "    \n",
    "    if left == \".\":\n",
    "        left = None\n",
    "    if right == \".\":\n",
    "        right = None\n",
    "    \n",
    "    if i == 0:     \n",
    "        nmgt = nodeMgmt(value, left, right)\n",
    "    else:\n",
    "        if left != None or right != None:\n",
    "            nmgt.add(value, left, right)"
   ]
  },
  {
   "cell_type": "code",
   "execution_count": 4,
   "metadata": {},
   "outputs": [
    {
     "data": {
      "text/plain": [
       "<__main__.Node at 0xba420b46d8>"
      ]
     },
     "execution_count": 4,
     "metadata": {},
     "output_type": "execute_result"
    }
   ],
   "source": [
    "nmgt.head.left"
   ]
  },
  {
   "cell_type": "code",
   "execution_count": 14,
   "metadata": {},
   "outputs": [],
   "source": [
    "def preorder_traversal(node):\n",
    "    if node == None:\n",
    "        return\n",
    "    li.append(node.value)\n",
    "    preorder_traversal(node.left)\n",
    "    preorder_traversal(node.right)\n",
    "    \n",
    "def inorder_traversal(node):\n",
    "    if node == None:\n",
    "        return\n",
    "    inorder_traversal(node.left)\n",
    "    li.append(node.value)\n",
    "    inorder_traversal(node.right)\n",
    "    \n",
    "def postorder_traversal(node):\n",
    "    if node == None:\n",
    "        return\n",
    "    postorder_traversal(node.left)\n",
    "    postorder_traversal(node.right)\n",
    "    li.append(node.value)"
   ]
  },
  {
   "cell_type": "code",
   "execution_count": 15,
   "metadata": {},
   "outputs": [
    {
     "name": "stdout",
     "output_type": "stream",
     "text": [
      "ABDCEFG\n",
      "DBAECFG\n",
      "DBEGFCA\n"
     ]
    }
   ],
   "source": [
    "node = nmgt.head\n",
    "\n",
    "li = []\n",
    "preorder_traversal(node)\n",
    "print(\"\".join(li))\n",
    "li = []\n",
    "inorder_traversal(node)\n",
    "print(\"\".join(li))\n",
    "li = []\n",
    "postorder_traversal(node)\n",
    "print(\"\".join(li))"
   ]
  },
  {
   "cell_type": "code",
   "execution_count": null,
   "metadata": {},
   "outputs": [],
   "source": [
    "# 맞았음\n",
    "n = int(input())\n",
    "\n",
    "class Node():\n",
    "    def __init__(self, value, left_node=None, right_node=None):\n",
    "        self.value = value\n",
    "        self.left = left_node\n",
    "        self.right = right_node\n",
    "\n",
    "class nodeMgmt():\n",
    "    def __init__(self, value):\n",
    "        self.head = Node(value)\n",
    "        \n",
    "    def add(self, value, left_value, right_value):\n",
    "        node = self.head\n",
    "        queue = [node]\n",
    "        while queue:\n",
    "            popped_node = queue.pop(0)\n",
    "            if popped_node:           \n",
    "                if popped_node.left and popped_node.left.value == value:\n",
    "                    node = popped_node.left\n",
    "                    break\n",
    "                elif popped_node.right and popped_node.right.value == value:\n",
    "                    node = popped_node.right\n",
    "                    break\n",
    "                else:\n",
    "                    queue.extend([popped_node.left, popped_node.right])\n",
    "        if left_value != None:\n",
    "            node.left = Node(left_value)\n",
    "        if right_value != None:\n",
    "            node.right = Node(right_value)\n",
    "\n",
    "for i in range(n):\n",
    "    value, left, right = input().split()\n",
    "    \n",
    "    if left == \".\":\n",
    "        left = None\n",
    "    if right == \".\":\n",
    "        right = None\n",
    "    \n",
    "    if i == 0:     \n",
    "        nmgt = nodeMgmt(value)\n",
    "    if left != None or right != None:\n",
    "        nmgt.add(value, left, right)            \n",
    "\n",
    "def preorder_traversal(node):\n",
    "    if node is None:\n",
    "        return\n",
    "    li.append(node.value)\n",
    "    preorder_traversal(node.left)\n",
    "    preorder_traversal(node.right)\n",
    "    \n",
    "def inorder_traversal(node):\n",
    "    if node is None:\n",
    "        return\n",
    "    inorder_traversal(node.left)\n",
    "    li.append(node.value)\n",
    "    inorder_traversal(node.right)\n",
    "    \n",
    "def postorder_traversal(node):\n",
    "    if node is None:\n",
    "        return\n",
    "    postorder_traversal(node.left)\n",
    "    postorder_traversal(node.right)\n",
    "    li.append(node.value)\n",
    "    \n",
    "node = nmgt.head\n",
    "\n",
    "li = []\n",
    "preorder_traversal(node)\n",
    "print(\"\".join(li))\n",
    "li = []\n",
    "inorder_traversal(node)\n",
    "print(\"\".join(li))\n",
    "li = []\n",
    "postorder_traversal(node)\n",
    "print(\"\".join(li))"
   ]
  },
  {
   "cell_type": "code",
   "execution_count": 42,
   "metadata": {},
   "outputs": [
    {
     "name": "stdout",
     "output_type": "stream",
     "text": [
      "7\n",
      "A B C\n",
      "B D .\n",
      "C E F\n",
      "E . .\n",
      "F . G\n",
      "D . .\n",
      "G . .\n",
      "ABDCEFG\n",
      "DBAECFG\n",
      "DBEGFCA"
     ]
    }
   ],
   "source": [
    "## 예시 정답\n",
    "\n",
    "class Node:\n",
    "    def __init__(self, data, left_node, right_node):\n",
    "        self.data = data\n",
    "        self.left_node = left_node\n",
    "        self.right_node = right_node\n",
    "    \n",
    "def pre_order(node):\n",
    "    print(node.data, end='')\n",
    "    if node.left_node != '.':\n",
    "        pre_order(tree[node.left_node])\n",
    "    if node.right_node != '.':\n",
    "        pre_order(tree[node.right_node])\n",
    "        \n",
    "def in_order(node):\n",
    "    if node.left_node != '.':\n",
    "        in_order(tree[node.left_node])\n",
    "    print(node.data, end='')\n",
    "    if node.right_node != '.':\n",
    "        in_order(tree[node.right_node])\n",
    "        \n",
    "def post_order(node):\n",
    "    if node.left_node != '.':\n",
    "        post_order(tree[node.left_node])\n",
    "    if node.right_node != '.':\n",
    "        post_order(tree[node.right_node])\n",
    "    print(node.data, end='')\n",
    "    \n",
    "n = int(input())\n",
    "tree = {}\n",
    "for i in range(n):\n",
    "    data, left_node, right_node = input().split()\n",
    "    tree[data] = Node(data, left_node, right_node)\n",
    "\n",
    "pre_order(tree['A'])\n",
    "print()\n",
    "in_order(tree['A'])\n",
    "print()\n",
    "post_order(tree['A'])"
   ]
  },
  {
   "cell_type": "code",
   "execution_count": null,
   "metadata": {},
   "outputs": [],
   "source": [
    "## 예시 정답 수정\n",
    "\n",
    "class Node:\n",
    "    def __init__(self, data, left_value, right_value):\n",
    "        self.data = data\n",
    "        self.left_value = left_value\n",
    "        self.right_value = right_value\n",
    "    \n",
    "def pre_order(node):\n",
    "    print(node.data, end='')\n",
    "    if node.left_value != '.':\n",
    "        pre_order(tree[node.left_value])\n",
    "    if node.right_value != '.':\n",
    "        pre_order(tree[node.right_value])\n",
    "        \n",
    "def in_order(node):\n",
    "    if node.left_value != '.':\n",
    "        in_order(tree[node.left_value])\n",
    "    print(node.data, end='')\n",
    "    if node.right_value != '.':\n",
    "        in_order(tree[node.right_value])\n",
    "        \n",
    "def post_order(node):\n",
    "    if node.left_value != '.':\n",
    "        post_order(tree[node.left_value])\n",
    "    if node.right_value != '.':\n",
    "        post_order(tree[node.right_value])\n",
    "    print(node.data, end='')\n",
    "    \n",
    "n = int(input())\n",
    "tree = {}\n",
    "for i in range(n):\n",
    "    data, left_value, right_value = input().split()\n",
    "    tree[data] = Node(data, left_value, right_value)\n",
    "\n",
    "pre_order(tree['A'])\n",
    "print()\n",
    "in_order(tree['A'])\n",
    "print()\n",
    "post_order(tree['A'])"
   ]
  },
  {
   "cell_type": "markdown",
   "metadata": {},
   "source": [
    "### 트리의 높이와 너비 2250"
   ]
  },
  {
   "cell_type": "markdown",
   "metadata": {},
   "source": [
    "7:59"
   ]
  },
  {
   "cell_type": "code",
   "execution_count": null,
   "metadata": {},
   "outputs": [],
   "source": [
    "class Node():\n",
    "    def __init__(self, data, left_value, right_value):\n",
    "        self.data = data\n",
    "        self.left_value = left_value\n",
    "        self.right_value = right_value"
   ]
  },
  {
   "cell_type": "code",
   "execution_count": 55,
   "metadata": {},
   "outputs": [
    {
     "name": "stdout",
     "output_type": "stream",
     "text": [
      "3\n",
      "1 2 3\n",
      "2 -1 -1\n",
      "3 -1 -1\n"
     ]
    }
   ],
   "source": [
    "n = int(input())\n",
    "\n",
    "class Node():\n",
    "    def __init__(self, data, left_value, right_value):\n",
    "        self.data = data\n",
    "        self.left_value = left_value\n",
    "        self.right_value = right_value\n",
    "\n",
    "tree = {}\n",
    "for _ in range(n):\n",
    "    data, left_value, right_value = map(int, input().split(' '))\n",
    "    tree[data] = Node(data, left_value, right_value)\n",
    "\n",
    "li = []\n",
    "x = 1\n",
    "def inorder(node, level):\n",
    "    global x\n",
    "    \n",
    "    if node.left_value != -1:\n",
    "        inorder(tree[node.left_value], level + 1)\n",
    "    li.append((x, level))\n",
    "    x += 1\n",
    "    if node.right_value != -1:\n",
    "        inorder(tree[node.right_value], level + 1)\n",
    "\n",
    "inorder(tree[1], 1)"
   ]
  },
  {
   "cell_type": "code",
   "execution_count": 56,
   "metadata": {},
   "outputs": [
    {
     "name": "stdout",
     "output_type": "stream",
     "text": [
      "2 3\n"
     ]
    }
   ],
   "source": [
    "\n",
    "\n",
    "result_li = []\n",
    "for i in range(1, max(li, key=lambda x: x[1])[1] + 1):\n",
    "    same_level_li = [x for x, l in li if l == i]\n",
    "    result_li.append((i, max(same_level_li) - min(same_level_li) + 1))\n",
    "    \n",
    "max_width = max([width for level, width in result_li])\n",
    "result_li = [(level, width) for level, width in result_li if width == max_width]\n",
    "result_li = sorted(result_li, key=lambda x: x[0])\n",
    "print(result_li[0][0], result_li[0][1])"
   ]
  },
  {
   "cell_type": "code",
   "execution_count": null,
   "metadata": {},
   "outputs": [],
   "source": [
    "19\n",
    "1 2 3\n",
    "2 4 5\n",
    "3 6 7\n",
    "4 8 -1\n",
    "5 9 10\n",
    "6 11 12\n",
    "7 13 -1\n",
    "8 -1 -1\n",
    "9 14 15\n",
    "10 -1 -1\n",
    "11 16 -1\n",
    "12 -1 -1\n",
    "13 17 -1\n",
    "14 -1 -1\n",
    "15 18 -1\n",
    "16 -1 -1\n",
    "17 -1 19\n",
    "18 -1 -1\n",
    "19 -1 -1"
   ]
  },
  {
   "cell_type": "code",
   "execution_count": 86,
   "metadata": {},
   "outputs": [
    {
     "name": "stdout",
     "output_type": "stream",
     "text": [
      "3\n",
      "3 -1 -1\n",
      "4 -1 -1\n",
      "2 3 4\n",
      "2 3\n"
     ]
    }
   ],
   "source": [
    "# 맞았음\n",
    "from collections import Counter\n",
    "\n",
    "n = int(input())\n",
    "\n",
    "class Node():\n",
    "    def __init__(self, data, left_value, right_value):\n",
    "        self.data = data\n",
    "        self.left_value = left_value\n",
    "        self.right_value = right_value\n",
    "\n",
    "        \n",
    "root_data = None\n",
    "tree = {}\n",
    "root_check_li = []\n",
    "for i in range(n):\n",
    "    data, left_value, right_value = map(int, input().split())\n",
    "    root_check_li.extend((data, left_value, right_value))\n",
    "    if n == 1:\n",
    "        root_data = data\n",
    "    tree[data] = Node(data, left_value, right_value)\n",
    "\n",
    "if root_data is None:\n",
    "    if -1 in root_check_li:\n",
    "        root_check_li.remove(-1)\n",
    "    root_data = Counter(root_check_li).most_common()[-1][0]\n",
    "\n",
    "li = []\n",
    "x = 1\n",
    "\n",
    "def inorder(node, level):\n",
    "    global x\n",
    "    \n",
    "    if node.left_value != -1:\n",
    "        inorder(tree[node.left_value], level + 1)\n",
    "    li.append((x, level))\n",
    "    x += 1\n",
    "    if node.right_value != -1:\n",
    "        inorder(tree[node.right_value], level + 1)\n",
    "\n",
    "inorder(tree[root_data], 1)\n",
    "\n",
    "result_li = []\n",
    "for i in range(1, max(li, key=lambda x: x[1])[1] + 1):\n",
    "    same_level_li = [x for x, l in li if l == i]\n",
    "    result_li.append((i, max(same_level_li) - min(same_level_li) + 1))\n",
    "    \n",
    "max_width = max([width for level, width in result_li])\n",
    "result_li = [(level, width) for level, width in result_li if width == max_width]\n",
    "result_li = sorted(result_li, key=lambda x: x[0])\n",
    "print(result_li[0][0], result_li[0][1])"
   ]
  },
  {
   "cell_type": "code",
   "execution_count": 77,
   "metadata": {},
   "outputs": [
    {
     "name": "stdout",
     "output_type": "stream",
     "text": [
      "[3, -1, -1, 4, 2, 4]\n"
     ]
    }
   ],
   "source": [
    "a = [(3, -1, -1), (4, 2, 4)]\n",
    "\n",
    "aa = []\n",
    "for v in a:\n",
    "    aa.extend(v)\n",
    "print(aa)"
   ]
  },
  {
   "cell_type": "code",
   "execution_count": 84,
   "metadata": {},
   "outputs": [
    {
     "data": {
      "text/plain": [
       "2"
      ]
     },
     "execution_count": 84,
     "metadata": {},
     "output_type": "execute_result"
    }
   ],
   "source": [
    "from collections import Counter\n",
    "Counter(aa).most_common()[-1][0]"
   ]
  },
  {
   "cell_type": "code",
   "execution_count": 71,
   "metadata": {},
   "outputs": [
    {
     "name": "stdout",
     "output_type": "stream",
     "text": [
      "-1 -1\n"
     ]
    }
   ],
   "source": [
    "print(int(-1), '-1')"
   ]
  },
  {
   "cell_type": "code",
   "execution_count": 68,
   "metadata": {},
   "outputs": [
    {
     "data": {
      "text/plain": [
       "[(1, 2), (2, 3), (3, 1), (4, 3), (5, 2)]"
      ]
     },
     "execution_count": 68,
     "metadata": {},
     "output_type": "execute_result"
    }
   ],
   "source": [
    "li"
   ]
  },
  {
   "cell_type": "code",
   "execution_count": 67,
   "metadata": {},
   "outputs": [
    {
     "data": {
      "text/plain": [
       "(2, 3)"
      ]
     },
     "execution_count": 67,
     "metadata": {},
     "output_type": "execute_result"
    }
   ],
   "source": [
    "max(li, key=lambda x: x[1])"
   ]
  },
  {
   "cell_type": "code",
   "execution_count": 90,
   "metadata": {},
   "outputs": [
    {
     "name": "stdout",
     "output_type": "stream",
     "text": [
      "1\n",
      "1 -1 -1\n",
      "1 1\n"
     ]
    }
   ],
   "source": [
    "# 예시 정답\n",
    "\n",
    "class Node:\n",
    "    def __init__(self, number, left_node, right_node):\n",
    "        self.parent = -1\n",
    "        self.number= number\n",
    "        self.left_node = left_node\n",
    "        self.right_node = right_node\n",
    "        \n",
    "def in_order(node, level):\n",
    "    global level_depth, x\n",
    "    level_depth = max(level_depth, level)\n",
    "    if node.left_node != -1:\n",
    "        in_order(tree[node.left_node], level + 1)\n",
    "    level_min[level] = min(level_min[level], x)\n",
    "    level_max[level] = max(level_max[level], x)\n",
    "    x += 1\n",
    "    if node.right_node != -1:\n",
    "        in_order(tree[node.right_node], level + 1)\n",
    "    \n",
    "n = int(input())\n",
    "tree = {}\n",
    "level_min = [n]\n",
    "level_max = [0]\n",
    "root = -1\n",
    "x = 1\n",
    "level_depth = 1\n",
    "    \n",
    "for i in range(1, n + 1):\n",
    "    tree[i] = Node(i, -1, -1)\n",
    "    level_min.append(n)\n",
    "    level_max.append(0)\n",
    "\n",
    "for _ in range(n):\n",
    "    number, left_node, right_node = map(int, input().split())\n",
    "    tree[number].left_node = left_node\n",
    "    tree[number].right_node = right_node\n",
    "    if left_node != -1:\n",
    "        tree[left_node].parent = number\n",
    "    if right_node != -1:\n",
    "        tree[right_node].parent = number\n",
    "    \n",
    "for i in range(1, n + 1):\n",
    "    if tree[i].parent == -1:\n",
    "        root = i\n",
    "\n",
    "in_order(tree[root], 1)\n",
    "\n",
    "result_level = 1\n",
    "result_width = level_max[1] - level_min[1] + 1\n",
    "for i in range(2, level_depth + 1):\n",
    "    width = level_max[i] - level_min[i] + 1\n",
    "    if result_width < width:\n",
    "        result_level = i\n",
    "        result_width = width\n",
    "print(result_level, result_width)"
   ]
  },
  {
   "cell_type": "markdown",
   "metadata": {},
   "source": [
    "### 최소 힙 1927"
   ]
  },
  {
   "cell_type": "code",
   "execution_count": 91,
   "metadata": {},
   "outputs": [],
   "source": [
    "import heapq"
   ]
  },
  {
   "cell_type": "code",
   "execution_count": 97,
   "metadata": {},
   "outputs": [
    {
     "data": {
      "text/plain": [
       "30"
      ]
     },
     "execution_count": 97,
     "metadata": {},
     "output_type": "execute_result"
    }
   ],
   "source": [
    "li = []\n",
    "heapq.heappush(li, 444)\n",
    "heapq.heappush(li, 30)\n",
    "heapq.heappush(li, 844)\n",
    "\n",
    "heapq.heappop(li)"
   ]
  },
  {
   "cell_type": "code",
   "execution_count": 99,
   "metadata": {},
   "outputs": [
    {
     "name": "stdout",
     "output_type": "stream",
     "text": [
      "9\n",
      "0\n",
      "0\n",
      "123\n",
      "1\n",
      "2\n",
      "0\n",
      "1\n",
      "0\n",
      "2\n",
      "0\n",
      "123\n",
      "0\n",
      "0\n",
      "32\n"
     ]
    }
   ],
   "source": [
    "# 맞았음\n",
    "import heapq\n",
    "import sys\n",
    "\n",
    "n = int(sys.stdin.readline())\n",
    "\n",
    "li = []\n",
    "for _ in range(n):\n",
    "    value = int(sys.stdin.readline())\n",
    "    \n",
    "    if value == 0:\n",
    "        if len(li) == 0:\n",
    "            print(0)\n",
    "        else:\n",
    "            print(heapq.heappop(li))\n",
    "    else:\n",
    "        heapq.heappush(li, value)"
   ]
  },
  {
   "cell_type": "code",
   "execution_count": 102,
   "metadata": {},
   "outputs": [
    {
     "name": "stdout",
     "output_type": "stream",
     "text": [
      "3\n",
      "4\n",
      "5\n",
      "0\n",
      "4\n"
     ]
    }
   ],
   "source": [
    "# 예시 정답\n",
    "import heapq\n",
    "\n",
    "n = int(input())\n",
    "heap = []\n",
    "result = []\n",
    "\n",
    "for _ in range(n):\n",
    "    data = int(input())\n",
    "    if data == 0:\n",
    "        if heap:\n",
    "            result.append(heapq.heappop(heap))\n",
    "        else:\n",
    "            result.append(0)\n",
    "    else:\n",
    "        heapq.heappush(heap, data)\n",
    "            \n",
    "for data in result:\n",
    "    print(data)"
   ]
  },
  {
   "cell_type": "code",
   "execution_count": 96,
   "metadata": {},
   "outputs": [
    {
     "data": {
      "text/plain": [
       "[9]"
      ]
     },
     "execution_count": 96,
     "metadata": {},
     "output_type": "execute_result"
    }
   ],
   "source": [
    "heapq.nlargest(1, li)"
   ]
  },
  {
   "cell_type": "markdown",
   "metadata": {},
   "source": [
    "### 카드 정렬하기 1715"
   ]
  },
  {
   "cell_type": "code",
   "execution_count": 119,
   "metadata": {},
   "outputs": [
    {
     "name": "stdout",
     "output_type": "stream",
     "text": [
      "4\n",
      "10\n",
      "10\n",
      "10\n",
      "10\n",
      "80\n"
     ]
    }
   ],
   "source": [
    "import heapq\n",
    "import sys\n",
    "\n",
    "n = int(sys.stdin.readline())\n",
    "heap = []\n",
    "\n",
    "for _ in range(n):\n",
    "    heapq.heappush(heap, int(sys.stdin.readline()))\n",
    "    \n",
    "total = 0\n",
    "\n",
    "while len(heap) >= 2:\n",
    "    value1 = heapq.heappop(heap)\n",
    "    value2 = heapq.heappop(heap)\n",
    "    total = total + value1 + value2\n",
    "    heapq.heappush(heap, value1 + value2)\n",
    "    \n",
    "print(total)"
   ]
  },
  {
   "cell_type": "code",
   "execution_count": 122,
   "metadata": {},
   "outputs": [
    {
     "name": "stdout",
     "output_type": "stream",
     "text": [
      "4\n",
      "10\n",
      "10\n",
      "10\n",
      "10\n",
      "80\n"
     ]
    }
   ],
   "source": [
    "# 예시 정답\n",
    "\n",
    "import heapq\n",
    "\n",
    "n = int(input())\n",
    "heap = []\n",
    "\n",
    "for i in range(n):\n",
    "    data = int(input())\n",
    "    heapq.heappush(heap, data)\n",
    "    \n",
    "result = 0\n",
    "\n",
    "while len(heap) != 1:\n",
    "    one = heapq.heappop(heap)\n",
    "    two = heapq.heappop(heap)\n",
    "    sum_value = one + two\n",
    "    result += sum_value\n",
    "    heapq.heappush(heap, sum_value)\n",
    "\n",
    "print(result)"
   ]
  },
  {
   "cell_type": "markdown",
   "metadata": {},
   "source": [
    "### 문제집 1766"
   ]
  },
  {
   "cell_type": "markdown",
   "metadata": {},
   "source": [
    "12:34"
   ]
  },
  {
   "cell_type": "code",
   "execution_count": 148,
   "metadata": {},
   "outputs": [],
   "source": [
    "a = [4, 3, 1]\n",
    "new = [4, 2]"
   ]
  },
  {
   "cell_type": "code",
   "execution_count": null,
   "metadata": {},
   "outputs": [],
   "source": [
    "n, m = map(int, input().split())\n",
    "\n",
    "info_li = []\n",
    "for _ in range(m):\n",
    "    new = tuple(map(int, input().split()))\n",
    "    if not info_li:\n",
    "        info_li.append(new)\n",
    "    else:\n",
    "        "
   ]
  },
  {
   "cell_type": "code",
   "execution_count": 149,
   "metadata": {},
   "outputs": [],
   "source": [
    "if new[0] in a and new[1] in a:\n",
    "    a[a.index(new[0])], a[a.index(new[1])] = a[a.index(new[1])], a[a.index(new[0])]\n",
    "    \n",
    "elif new[0] in a:\n",
    "    index = a.index(new[0])\n",
    "    \n",
    "    while index <= len(a) - 2:\n",
    "        if new[1] > a[index + 1]:\n",
    "            index += 1\n",
    "        else:\n",
    "            break\n",
    "            \n",
    "    if index == len(a) - 1:\n",
    "        a.append(new[1])\n",
    "    else:\n",
    "        a.insert(index + 1, new[1])\n",
    "        \n",
    "elif new[1] in a:\n",
    "    index = a.index(new[1])\n",
    "    \n",
    "    while index >= 1:\n",
    "        if new[0] < a[index - 1]:\n",
    "            index -= 1\n",
    "        else:\n",
    "            break\n",
    "    a.insert(index, new[0])"
   ]
  },
  {
   "cell_type": "code",
   "execution_count": 2,
   "metadata": {},
   "outputs": [
    {
     "name": "stdout",
     "output_type": "stream",
     "text": [
      "4 2\n",
      "4 2\n",
      "3 1\n",
      "3 1 4 2 "
     ]
    }
   ],
   "source": [
    "# 예시 정답\n",
    "import heapq\n",
    "\n",
    "n, m = map(int, input().split())\n",
    "array = [[] for i in range(n + 1)]\n",
    "indegree = [0] * (n + 1)\n",
    "\n",
    "heap = []\n",
    "result = []\n",
    "\n",
    "for _ in range(m):\n",
    "    x, y = map(int, input().split())\n",
    "    array[x].append(y)\n",
    "    indegree[y] += 1\n",
    "\n",
    "for i in range(1, n + 1):\n",
    "    if indegree[i] == 0:\n",
    "        heapq.heappush(heap, i)\n",
    "        \n",
    "result = []\n",
    "\n",
    "while heap:\n",
    "    data = heapq.heappop(heap)\n",
    "    result.append(data)\n",
    "    for y in array[data]:\n",
    "        indegree[y] -= 1\n",
    "        if indegree[y] == 0:\n",
    "            heapq.heappush(heap, y)\n",
    "\n",
    "for i in result:\n",
    "    print(i, end=' ')"
   ]
  },
  {
   "cell_type": "code",
   "execution_count": null,
   "metadata": {},
   "outputs": [],
   "source": [
    "## 예시 정답 바탕 다시 풀어봄\n",
    "\n",
    "import heapq\n",
    "import sys\n",
    "\n",
    "n, m = map(int, sys.stdin.readline().split())\n",
    "\n",
    "indegree_num_li = [0 for _ in range(n + 1)]\n",
    "array = [[] for _ in range(n + 1)] # 각 값은 해당 값의 인덱스 번 문제를 푼 후에 풀 수 있는 문제들 \n",
    "\n",
    "for _ in range(m):\n",
    "    a, b = map(int, sys.stdin.readline().split())\n",
    "    indegree_num_li[b] += 1\n",
    "    array[a].append(b)\n",
    "    \n",
    "heap = []\n",
    "for i in range(1, n + 1):\n",
    "    if indegree_num_li[i] == 0:\n",
    "        heapq.heappush(heap, i)\n",
    "\n",
    "result = []\n",
    "while heap:\n",
    "    value = heapq.heappop(heap)\n",
    "    result.append(value)\n",
    "    for b in array[value]:\n",
    "        indegree_num_li[b] -= 1\n",
    "        \n",
    "        if indegree_num_li[b] == 0:\n",
    "            heapq.heappush(heap, b)\n",
    "        \n",
    "print(\" \".join(map(str, result)))"
   ]
  },
  {
   "cell_type": "code",
   "execution_count": 4,
   "metadata": {},
   "outputs": [
    {
     "name": "stdout",
     "output_type": "stream",
     "text": [
      "[3, 1, 2] [1, 2]\n",
      "[1, 2] [1]\n"
     ]
    }
   ],
   "source": [
    "li = [3, 1, 2]\n",
    "\n",
    "for v in li:\n",
    "    print(li, end=\" \")    \n",
    "    li.remove(v)\n",
    "    print(li)"
   ]
  },
  {
   "cell_type": "code",
   "execution_count": 8,
   "metadata": {},
   "outputs": [
    {
     "name": "stdout",
     "output_type": "stream",
     "text": [
      "[3, 4] [3, 4, 1, 2]\n",
      "[3, 4, 1, 2] [3, 4, 1, 2, 1, 2]\n",
      "[3, 4, 1, 2, 1, 2] [3, 4, 1, 2, 1, 2, 1, 2]\n",
      "[3, 4, 1, 2, 1, 2, 1, 2] [3, 4, 1, 2, 1, 2, 1, 2, 1, 2]\n",
      "[3, 4, 1, 2, 1, 2, 1, 2, 1, 2] [3, 4, 1, 2, 1, 2, 1, 2, 1, 2, 1, 2]\n",
      "[3, 4, 1, 2, 1, 2, 1, 2, 1, 2, 1, 2] [3, 4, 1, 2, 1, 2, 1, 2, 1, 2, 1, 2, 1, 2]\n",
      "[3, 4, 1, 2, 1, 2, 1, 2, 1, 2, 1, 2, 1, 2] [3, 4, 1, 2, 1, 2, 1, 2, 1, 2, 1, 2, 1, 2, 1, 2]\n",
      "[3, 4, 1, 2, 1, 2, 1, 2, 1, 2, 1, 2, 1, 2, 1, 2] [3, 4, 1, 2, 1, 2, 1, 2, 1, 2, 1, 2, 1, 2, 1, 2, 1, 2]\n",
      "[3, 4, 1, 2, 1, 2, 1, 2, 1, 2, 1, 2, 1, 2, 1, 2, 1, 2] [3, 4, 1, 2, 1, 2, 1, 2, 1, 2, 1, 2, 1, 2, 1, 2, 1, 2, 1, 2]\n",
      "[3, 4, 1, 2, 1, 2, 1, 2, 1, 2, 1, 2, 1, 2, 1, 2, 1, 2, 1, 2] [3, 4, 1, 2, 1, 2, 1, 2, 1, 2, 1, 2, 1, 2, 1, 2, 1, 2, 1, 2, 1, 2]\n"
     ]
    }
   ],
   "source": [
    "li = [3, 4]\n",
    "\n",
    "count = 0\n",
    "for v in li:\n",
    "    print(li, end=\" \")    \n",
    "    li.extend([1, 2])\n",
    "    print(li)\n",
    "    count += 1\n",
    "    if count == 10:\n",
    "        break"
   ]
  }
 ],
 "metadata": {
  "kernelspec": {
   "display_name": "Python 3",
   "language": "python",
   "name": "python3"
  },
  "language_info": {
   "codemirror_mode": {
    "name": "ipython",
    "version": 3
   },
   "file_extension": ".py",
   "mimetype": "text/x-python",
   "name": "python",
   "nbconvert_exporter": "python",
   "pygments_lexer": "ipython3",
   "version": "3.7.4"
  }
 },
 "nbformat": 4,
 "nbformat_minor": 4
}
