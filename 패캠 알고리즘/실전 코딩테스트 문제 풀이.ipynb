{
 "cells": [
  {
   "cell_type": "markdown",
   "metadata": {},
   "source": [
    "### 행복 15969\n",
    "- 수학, 구현, 사칙연산"
   ]
  },
  {
   "cell_type": "code",
   "execution_count": 3,
   "metadata": {},
   "outputs": [
    {
     "name": "stdout",
     "output_type": "stream",
     "text": [
      "8\n",
      "85 42 79 95 37 11 72 32\n",
      "84\n"
     ]
    }
   ],
   "source": [
    "n = int(input())\n",
    "li = list(map(int, input().split()))\n",
    "\n",
    "print(max(li) - min(li))"
   ]
  },
  {
   "cell_type": "markdown",
   "metadata": {},
   "source": [
    "### 수빈이와 수열 10539\n",
    "- 수학"
   ]
  },
  {
   "cell_type": "code",
   "execution_count": 9,
   "metadata": {},
   "outputs": [
    {
     "name": "stdout",
     "output_type": "stream",
     "text": [
      "5\n",
      "1 2 2 3 4\n",
      "1 3 2 6 8\n"
     ]
    }
   ],
   "source": [
    "n = int(input())\n",
    "li = list(map(int, input().split()))\n",
    "result_li = [0] * n\n",
    "result_li[0] = li[0]\n",
    "\n",
    "for i in range(1, n):\n",
    "    result_li[i] = li[i] * (i + 1) - sum(result_li[:i])\n",
    "    \n",
    "print(\" \".join(map(str, result_li)))"
   ]
  },
  {
   "cell_type": "markdown",
   "metadata": {},
   "source": [
    "### 이름궁합 테스트 17269\n",
    "- 수학, 구현, 사칙연산"
   ]
  },
  {
   "cell_type": "code",
   "execution_count": 31,
   "metadata": {},
   "outputs": [
    {
     "name": "stdout",
     "output_type": "stream",
     "text": [
      "3 2\n",
      "BOJ IN\n",
      "1%\n"
     ]
    }
   ],
   "source": [
    "li = [3, 2, 1, 2, 4, 3, 1, 3, 1, 1, 3, 1, 3, 2, 1, 2, 2, 2, 1, 2, 1, 1, 1, 2, 2, 1]\n",
    "d = {chr(i) : li[i - 65] for i in range(65, 91)}\n",
    "\n",
    "n, m = map(int, input().split())\n",
    "s1, s2 = input().split()\n",
    "\n",
    "stack1 = list(s1)\n",
    "stack2 = list(s2)\n",
    "\n",
    "stack1.reverse()\n",
    "stack2.reverse()\n",
    "\n",
    "merged = []\n",
    "\n",
    "while stack1 and stack2:\n",
    "    if stack1:\n",
    "        merged.append(stack1.pop())\n",
    "    if stack2:\n",
    "        merged.append(stack2.pop())\n",
    "        \n",
    "if stack1:\n",
    "    stack1.reverse()\n",
    "    merged.extend(stack1)\n",
    "elif stack2:\n",
    "    stack2.reverse()\n",
    "    merged.extend(stack2)\n",
    "    \n",
    "merged = [d[v] for v in merged]\n",
    "while len(merged) > 2:\n",
    "    merged = [(a + b) % 10 for a, b in zip(merged[1:], merged[:-1])]\n",
    "    \n",
    "result = \"\".join(list(map(str, merged)))\n",
    "if result[0] == \"0\":\n",
    "    result = result[1:]\n",
    "    \n",
    "print(result + '%')"
   ]
  },
  {
   "cell_type": "markdown",
   "metadata": {},
   "source": [
    "### 보너스 점수 17389"
   ]
  },
  {
   "cell_type": "code",
   "execution_count": 37,
   "metadata": {},
   "outputs": [
    {
     "name": "stdout",
     "output_type": "stream",
     "text": [
      "1\n",
      "O\n",
      "1\n"
     ]
    }
   ],
   "source": [
    "n = int(input())\n",
    "s = input()\n",
    "\n",
    "total_score = 0\n",
    "current_bonus_score = 0\n",
    "for i in range(n):\n",
    "    if s[i] =='O':\n",
    "        total_score += i + 1\n",
    "        total_score += current_bonus_score\n",
    "        current_bonus_score += 1\n",
    "    else:\n",
    "        current_bonus_score = 0\n",
    "        \n",
    "print(total_score)"
   ]
  },
  {
   "cell_type": "markdown",
   "metadata": {},
   "source": [
    "### 수 찾기 1920 (이미 풀었음)"
   ]
  },
  {
   "cell_type": "markdown",
   "metadata": {},
   "source": [
    "### 걸그룹 마스터 준석이 16165\n",
    "- 자료 구조, 해시를 사용한 집합과 맵"
   ]
  },
  {
   "cell_type": "code",
   "execution_count": 45,
   "metadata": {},
   "outputs": [
    {
     "name": "stdout",
     "output_type": "stream",
     "text": [
      "3 4\n",
      "twice\n",
      "9\n",
      "jihyo\n",
      "dahyeon\n",
      "mina\n",
      "momo\n",
      "chaeyoung\n",
      "jeongyeon\n",
      "tzuyu\n",
      "sana\n",
      "nayeon\n",
      "blackpink\n",
      "4\n",
      "jisu\n",
      "lisa\n",
      "rose\n",
      "jenny\n",
      "redvelvet\n",
      "5\n",
      "wendy\n",
      "irene\n",
      "seulgi\n",
      "yeri\n",
      "joy\n"
     ]
    }
   ],
   "source": [
    "from collections import defaultdict\n",
    "\n",
    "member_to_team = dict()\n",
    "team_to_member = defaultdict(list)\n",
    "\n",
    "n, m = map(int, input().split())\n",
    "\n",
    "for _ in range(n):\n",
    "    team_name = input()\n",
    "    member_count = int(input())\n",
    "    li = [input() for _ in range(member_count)]\n",
    "    li.sort()\n",
    "    \n",
    "    for v in li:\n",
    "        team_to_member[team_name].append(v)\n",
    "        member_to_team[v] = team_name\n",
    "        \n",
    "for _ in range(m):\n",
    "    name = input()\n",
    "    quiz_type = int(input())\n",
    "    \n",
    "    if quiz_type == 0:\n",
    "        print(\"\\n\".join(team_to_member[name]))\n",
    "    else:\n",
    "        print(member_to_team[name])"
   ]
  },
  {
   "cell_type": "markdown",
   "metadata": {},
   "source": [
    "### APC는 왜 서브태스크 대회가 되었을까? 17224 (다시 풀음)\n",
    "- 그리디"
   ]
  },
  {
   "cell_type": "code",
   "execution_count": 49,
   "metadata": {},
   "outputs": [
    {
     "name": "stdout",
     "output_type": "stream",
     "text": [
      "8 9 5\n",
      "1 8\n",
      "3 10\n",
      "4 5\n",
      "5 20\n",
      "7 12\n",
      "8 15\n",
      "9 50\n",
      "14 14 \n",
      "580\n"
     ]
    }
   ],
   "source": [
    "n, l, k = map(int, input().split())\n",
    "\n",
    "li = []\n",
    "for _ in range(n):\n",
    "    easy, hard = map(int, input().split())\n",
    "    \n",
    "    if hard <= l:\n",
    "        li.append(140)\n",
    "    elif easy <= l:\n",
    "        li.append(100)\n",
    "\n",
    "li.sort(reverse=True)\n",
    "li = li[:k]\n",
    "print(sum(li))"
   ]
  },
  {
   "cell_type": "markdown",
   "metadata": {},
   "source": [
    "### The candy war 9037\n",
    "- 구현"
   ]
  },
  {
   "cell_type": "code",
   "execution_count": 58,
   "metadata": {},
   "outputs": [
    {
     "name": "stdout",
     "output_type": "stream",
     "text": [
      "4\n",
      "5\n",
      "2 4 7 8 9\n",
      "6\n",
      "1\n",
      "9\n",
      "0\n",
      "6\n",
      "10 5 13 2 7 8\n",
      "4\n",
      "4\n",
      "3 4 4 3\n",
      "1\n"
     ]
    }
   ],
   "source": [
    "T = int(input())\n",
    "for _ in range(T):\n",
    "    n = int(input())\n",
    "    li = list(map(int, input().split()))\n",
    "    li = list(map(lambda x: x + 1 if x % 2 == 1 else x, li))\n",
    "\n",
    "    if len(set(li)) == 1:\n",
    "        print(0)\n",
    "    else:\n",
    "        count = 1\n",
    "        while True:\n",
    "            new_li = li[:]\n",
    "            for i in range(n - 1):\n",
    "                new_li[i] -= li[i] // 2\n",
    "                new_li[i + 1] += li[i] // 2\n",
    "\n",
    "            new_li[-1] -= li[-1] // 2\n",
    "            new_li[0] += li[-1] // 2\n",
    "            \n",
    "            for i in range(n):\n",
    "                if new_li[i] % 2 == 1:\n",
    "                    new_li[i] += 1\n",
    "\n",
    "            if len(set(new_li)) == 1:\n",
    "                break\n",
    "\n",
    "            li = new_li[:]\n",
    "            count += 1\n",
    "        print(count)"
   ]
  },
  {
   "cell_type": "markdown",
   "metadata": {},
   "source": [
    "### Mixing Milk 16769\n",
    "- 수학, 구현, 사칙연산"
   ]
  },
  {
   "cell_type": "code",
   "execution_count": 59,
   "metadata": {},
   "outputs": [
    {
     "name": "stdout",
     "output_type": "stream",
     "text": [
      "10 3\n",
      "11 4\n",
      "12 5\n",
      "0\n",
      "10\n",
      "2\n"
     ]
    }
   ],
   "source": [
    "li = [list(map(int, input().split())) for _ in range(3)]\n",
    "\n",
    "current_from = 0\n",
    "current_to = 1\n",
    "\n",
    "for _ in range(100):\n",
    "    move_amount = min(li[current_from][1], li[current_to][0] - li[current_to][1])\n",
    "    li[current_from][1] -= move_amount\n",
    "    li[current_to][1] += move_amount\n",
    "    \n",
    "    current_from += 1\n",
    "    current_to += 1\n",
    "    \n",
    "    if current_from == 3:\n",
    "        current_from = 0\n",
    "    if current_to == 3:\n",
    "        current_to = 0\n",
    "        \n",
    "for i in range(3):\n",
    "    print(li[i][1]) 2.45"
   ]
  },
  {
   "cell_type": "markdown",
   "metadata": {},
   "source": [
    "### Z 1074 (이미 풀음)"
   ]
  },
  {
   "cell_type": "markdown",
   "metadata": {},
   "source": [
    "### 주사위 세개 2480 (다시 풀음)"
   ]
  },
  {
   "cell_type": "code",
   "execution_count": 61,
   "metadata": {},
   "outputs": [
    {
     "name": "stdout",
     "output_type": "stream",
     "text": [
      "3 3 6\n",
      "1300\n"
     ]
    }
   ],
   "source": [
    "li = list(map(int, input().split()))\n",
    "\n",
    "if len(set(li)) == 1:\n",
    "    print(10000 + li[0] * 1000)\n",
    "elif len(set(li)) == 2:\n",
    "    if li[0] == li[1] or li[0] == li[2]:\n",
    "        print(1000 + li[0] * 100)\n",
    "    else:\n",
    "        print(1000 + li[1] * 100)\n",
    "else:\n",
    "    print(max(li) * 100)"
   ]
  },
  {
   "cell_type": "markdown",
   "metadata": {},
   "source": [
    "### 주사위 네개 2484\n",
    "- 수학, 구현"
   ]
  },
  {
   "cell_type": "code",
   "execution_count": 74,
   "metadata": {},
   "outputs": [
    {
     "name": "stdout",
     "output_type": "stream",
     "text": [
      "1\n",
      "1 3 1 3\n",
      "4000\n"
     ]
    }
   ],
   "source": [
    "n = int(input())\n",
    "\n",
    "max_score = 0\n",
    "for _ in range(n):\n",
    "    li = sorted(map(int, input().split()))\n",
    "    st = set(li)\n",
    "    \n",
    "    if len(st) == 1:\n",
    "        score = 50000 + li[0] * 5000\n",
    "    elif len(st) == 2:\n",
    "        if li[0] == li[1] and li[2] == li[3]:\n",
    "            score = 2000 + li[0] * 500 + li[2] * 500\n",
    "        else:\n",
    "            score = 10000 + li[1] * 1000\n",
    "    elif li[0] == li[1] or li[1] == li[2]:\n",
    "        score = 1000 + li[1] * 100\n",
    "    elif li[2] == li[3]:\n",
    "        score = 1000 + li[2] * 100\n",
    "    else:\n",
    "        score = li[3] * 100\n",
    "        \n",
    "    if score > max_score:\n",
    "        max_score = score\n",
    "        \n",
    "print(max_score)"
   ]
  },
  {
   "cell_type": "markdown",
   "metadata": {},
   "source": [
    "### 두 개의 손 16675\n",
    "- 구현, 시뮬레이션"
   ]
  },
  {
   "cell_type": "code",
   "execution_count": 88,
   "metadata": {},
   "outputs": [
    {
     "name": "stdout",
     "output_type": "stream",
     "text": [
      "P P S S\n",
      "TK\n"
     ]
    }
   ],
   "source": [
    "ml, mr, tl, tr = input().split()\n",
    "\n",
    "result = '?'\n",
    "\n",
    "if ml == mr:\n",
    "    if ml == 'R':\n",
    "        if tl == 'P' or tr == 'P':\n",
    "            result = 'TK'\n",
    "        elif tl == 'S' and tr == 'S':\n",
    "            result = 'MS'\n",
    "    elif ml == 'S':\n",
    "        if tl == 'R' or tr == 'R':\n",
    "            result = 'TK'\n",
    "        elif tl == 'P' and tr == 'P':\n",
    "            result = 'MS'\n",
    "    else:\n",
    "        if tl == 'S' or tr == 'S':\n",
    "            result = 'TK'\n",
    "        elif tl == 'R' and tr == 'R':\n",
    "            result = 'MS'\n",
    "elif tl == tr:\n",
    "    if tl == 'R' and (ml == 'P' or mr == 'P'):\n",
    "        result = 'MS'\n",
    "    elif tl == 'P' and (ml == 'S' or mr == 'S'):\n",
    "        result = 'MS'\n",
    "    elif tl == 'S' and (ml == 'R' or mr == 'R'):\n",
    "        result = 'MS'\n",
    "\n",
    "print(result)"
   ]
  },
  {
   "cell_type": "markdown",
   "metadata": {},
   "source": [
    "### 단어 뒤집기 2\n",
    "- 구현, 문자열"
   ]
  },
  {
   "cell_type": "code",
   "execution_count": 96,
   "metadata": {},
   "outputs": [
    {
     "name": "stdout",
     "output_type": "stream",
     "text": [
      "<   space   >space space space<    spa   c e>\n",
      "<   space   >ecaps ecaps ecaps<    spa   c e>\n"
     ]
    }
   ],
   "source": [
    "s = input()\n",
    "\n",
    "is_in_tag = False\n",
    "temp = \"\"\n",
    "result = \"\"\n",
    "for v in s:\n",
    "    if v == \"<\":\n",
    "        result += temp[::-1]\n",
    "        temp = \"\"\n",
    "        result += '<'\n",
    "        is_in_tag = True\n",
    "        continue\n",
    "    elif v == \">\":\n",
    "        result += \">\"\n",
    "        is_in_tag = False\n",
    "        continue\n",
    "    \n",
    "    if is_in_tag:\n",
    "        result += v\n",
    "    else:\n",
    "        if v == \" \":\n",
    "            result += temp[::-1] + \" \"\n",
    "            temp = \"\"\n",
    "        else:\n",
    "            temp += v\n",
    "            \n",
    "result += temp[::-1]\n",
    "print(result)"
   ]
  },
  {
   "cell_type": "markdown",
   "metadata": {},
   "source": [
    "### 늑대와 양 16956 (이미 풀음)\n",
    "- 너비 우선 탐색, 구성적"
   ]
  },
  {
   "cell_type": "markdown",
   "metadata": {},
   "source": [
    "### 꽃길 14620"
   ]
  },
  {
   "cell_type": "raw",
   "metadata": {},
   "source": [
    "1:26 1:45\n",
    "min_total_cost = 0을 디버깅하는 것에 오래 걸렸음"
   ]
  },
  {
   "cell_type": "code",
   "execution_count": 15,
   "metadata": {},
   "outputs": [
    {
     "name": "stdout",
     "output_type": "stream",
     "text": [
      "12\n"
     ]
    }
   ],
   "source": [
    "from itertools import combinations\n",
    "\n",
    "n = int(input())\n",
    "li = [tuple(map(int, input().split())) for _ in range(n)]\n",
    "\n",
    "coords = [(i, j) for i in range(1, n - 1) for j in range(1, n - 1)]\n",
    "c = combinations(coords, 3)\n",
    "\n",
    "dx = [0, 0, 0, -1, 1]\n",
    "dy = [0, -1, 1, 0, 0]\n",
    "\n",
    "min_total_cost = float('inf')\n",
    "for case in c:\n",
    "    total_cost = float('inf')\n",
    "    cost_temp = 0\n",
    "    visited = [[False] * n for _ in range(n)]\n",
    "    is_duplicated = False\n",
    "    \n",
    "    for x, y in case:\n",
    "        for i in range(5):\n",
    "            nx = x + dx[i]\n",
    "            ny = y + dy[i]\n",
    "            if visited[nx][ny]:\n",
    "                is_duplicated = True\n",
    "                break\n",
    "            visited[nx][ny] = True\n",
    "            cost_temp += li[nx][ny]\n",
    "                \n",
    "        if is_duplicated:\n",
    "            break\n",
    "    if not is_duplicated:\n",
    "        total_cost = cost_temp\n",
    "    \n",
    "    if total_cost < min_total_cost:\n",
    "        min_total_cost = total_cost\n",
    "\n",
    "print(min_total_cost)"
   ]
  },
  {
   "cell_type": "markdown",
   "metadata": {},
   "source": [
    "### 유기농 배추 1012 (다시 풀음)"
   ]
  },
  {
   "cell_type": "code",
   "execution_count": 14,
   "metadata": {},
   "outputs": [
    {
     "name": "stdout",
     "output_type": "stream",
     "text": [
      "1\n",
      "10 10 1\n",
      "5 5\n",
      "1\n"
     ]
    }
   ],
   "source": [
    "from collections import deque\n",
    "\n",
    "T = int(input())\n",
    "for _ in range(T):\n",
    "    m, n, k = map(int, input().split()) \n",
    "\n",
    "    li = [[0] * m for _ in range(n)]\n",
    "\n",
    "    coords = []\n",
    "    for _ in range(k):\n",
    "        x, y = map(int, input().split())\n",
    "        coords.append((y, x))\n",
    "        li[y][x] = 1\n",
    "\n",
    "    dx = [-1, 1, 0, 0]\n",
    "    dy = [0, 0, -1, 1]\n",
    "\n",
    "    count = 0\n",
    "    visited = [[False] * m for _ in range(n)]\n",
    "\n",
    "    for x, y in coords:\n",
    "        if visited[x][y]:\n",
    "            continue\n",
    "        visited[x][y] = True\n",
    "        count += 1\n",
    "\n",
    "        queue = deque()\n",
    "        queue.append((x, y))\n",
    "\n",
    "        while queue:\n",
    "            x, y = queue.popleft()\n",
    "\n",
    "            for i in range(4):\n",
    "                nx = x + dx[i]\n",
    "                ny = y + dy[i]\n",
    "\n",
    "                if 0 <= nx < n and 0 <= ny < m:\n",
    "                    if not visited[nx][ny]:\n",
    "                        visited[nx][ny] = True\n",
    "                        if li[nx][ny] == 1:\n",
    "                            queue.append((nx, ny))\n",
    "\n",
    "    print(count)"
   ]
  },
  {
   "cell_type": "markdown",
   "metadata": {},
   "source": [
    "### 2048 (Easy) 12100\n",
    "- 구현, 브루트포스, 시뮬레이션"
   ]
  },
  {
   "cell_type": "markdown",
   "metadata": {},
   "source": [
    "5:20 6:39"
   ]
  },
  {
   "cell_type": "code",
   "execution_count": 87,
   "metadata": {},
   "outputs": [
    {
     "name": "stdout",
     "output_type": "stream",
     "text": [
      "4\n",
      "0 0 0 0\n",
      "0 0 0 0\n",
      "0 0 0 0\n",
      "0 0 0 2\n",
      "2\n"
     ]
    }
   ],
   "source": [
    "from copy import deepcopy\n",
    "\n",
    "n = int(input())\n",
    "li = [list(map(int, input().split())) for _ in range(n)]\n",
    "\n",
    "if n == 1:\n",
    "    print(li[0][0])\n",
    "else:\n",
    "    stack = []\n",
    "    stack.append((li, 0)) # (li, move_count) \n",
    "    max_score = max((max(v) for v in li))\n",
    "    \n",
    "    while stack:\n",
    "        board, move_count= stack.pop()\n",
    "\n",
    "        if move_count == 5:\n",
    "            continue\n",
    "\n",
    "        # 위로 이동하는 케이스\n",
    "        is_merged = [[False] * n for _ in range(n)]\n",
    "        new_board = deepcopy(board)\n",
    "        for j in range(n):\n",
    "            for i in range(1, n):\n",
    "                if new_board[i][j] == 0:\n",
    "                    continue\n",
    "\n",
    "                c = 0\n",
    "                while True:           \n",
    "                    if i - 1 - c >= 0 and new_board[i - 1 - c][j] == 0:\n",
    "                        new_board[i - 1 - c][j] = new_board[i - c][j]\n",
    "                        new_board[i - c][j] = 0\n",
    "                        c += 1\n",
    "                    else:\n",
    "                        break\n",
    "\n",
    "                if i - 1 - c < 0:\n",
    "                    continue\n",
    "                else:   \n",
    "                    if new_board[i - 1 - c][j] == new_board[i - c][j]:\n",
    "                        if not is_merged[i - 1 - c][j]:\n",
    "                            is_merged[i - 1 - c][j] = True\n",
    "                            new_board[i - 1 - c][j] *= 2\n",
    "                            if max_score < new_board[i - 1 - c][j]:\n",
    "                                max_score = new_board[i - 1 - c][j]\n",
    "                            new_board[i - c][j] = 0\n",
    "\n",
    "        stack.append((new_board, move_count + 1))\n",
    "\n",
    "        # 아래로 이동하는 케이스\n",
    "        is_merged = [[False] * n for _ in range(n)]\n",
    "        new_board = deepcopy(board)\n",
    "        for j in range(n):\n",
    "            for i in range(n - 2, -1, -1):\n",
    "                if new_board[i][j] == 0:\n",
    "                    continue\n",
    "\n",
    "                c = 0\n",
    "                while True:           \n",
    "                    if i + 1 + c < n and new_board[i + 1 + c][j] == 0:\n",
    "                        new_board[i + 1 + c][j] = new_board[i + c][j]\n",
    "                        new_board[i + c][j] = 0\n",
    "                        c += 1\n",
    "                    else:\n",
    "                        break\n",
    "\n",
    "                if i + 1 + c >= n:\n",
    "                    continue\n",
    "                else:   \n",
    "                    if new_board[i + 1 + c][j] == new_board[i + c][j]:\n",
    "                        if not is_merged[i + 1 + c][j]:\n",
    "                            is_merged[i + 1 + c][j] = True\n",
    "                            new_board[i + 1 + c][j] *= 2\n",
    "                            if max_score < new_board[i + 1 + c][j]:\n",
    "                                max_score = new_board[i + 1 + c][j]\n",
    "                            new_board[i + c][j] = 0                    \n",
    "        stack.append((new_board, move_count + 1))\n",
    "\n",
    "        # 왼쪽으로 이동하는 케이스\n",
    "        is_merged = [[False] * n for _ in range(n)]\n",
    "        new_board = deepcopy(board)\n",
    "        for i in range(n):\n",
    "            for j in range(1, n):\n",
    "                if new_board[i][j] == 0:\n",
    "                    continue\n",
    "\n",
    "                c = 0\n",
    "                while True:           \n",
    "                    if j - 1 - c >= 0 and new_board[i][j - 1 - c] == 0:\n",
    "                        new_board[i][j - 1 - c] = new_board[i][j - c]\n",
    "                        new_board[i][j - c] = 0\n",
    "                        c += 1\n",
    "                    else:\n",
    "                        break\n",
    "\n",
    "                if j - 1 - c < 0:\n",
    "                    continue\n",
    "                else:   \n",
    "                    if new_board[i][j - 1 - c] == new_board[i][j - c]:\n",
    "                        if not is_merged[i][j - 1 - c]:\n",
    "                            is_merged[i][j - 1 - c] = True\n",
    "                            new_board[i][j - 1 - c] *= 2\n",
    "                            if max_score < new_board[i][j - 1 - c]:\n",
    "                                max_score = new_board[i][j - 1 - c]\n",
    "                            new_board[i][j - c] = 0                    \n",
    "        stack.append((new_board, move_count + 1))\n",
    "\n",
    "        # 오른쪽으로 이동하는 케이스\n",
    "        is_merged = [[False] * n for _ in range(n)]\n",
    "        new_board = deepcopy(board)\n",
    "        for i in range(n):\n",
    "            for j in range(n - 2, -1, -1):\n",
    "                if new_board[i][j] == 0:\n",
    "                    continue\n",
    "\n",
    "                c = 0\n",
    "                while True:           \n",
    "                    if j + 1 + c < n and new_board[i][j + 1 + c] == 0:\n",
    "                        new_board[i][j + 1 + c] = new_board[i][j + c]\n",
    "                        new_board[i][j + c] = 0\n",
    "                        c += 1\n",
    "                    else:\n",
    "                        break\n",
    "\n",
    "                if j + 1 + c >= n:\n",
    "                    continue\n",
    "                else:   \n",
    "                    if new_board[i][j + 1 + c] == new_board[i][j + c]:\n",
    "                        if not is_merged[i][j + 1 + c]:\n",
    "                            is_merged[i][j + 1 + c] = True\n",
    "                            new_board[i][j + 1 + c] *= 2\n",
    "                            if max_score < new_board[i][j + 1 + c]:\n",
    "                                max_score = new_board[i][j + 1 + c]\n",
    "                            new_board[i][j + c] = 0                    \n",
    "        stack.append((new_board, move_count + 1))\n",
    "\n",
    "    print(max_score)"
   ]
  },
  {
   "cell_type": "markdown",
   "metadata": {},
   "source": [
    "### Mooyo Mooyo 16768"
   ]
  },
  {
   "cell_type": "code",
   "execution_count": 66,
   "metadata": {},
   "outputs": [
    {
     "name": "stdout",
     "output_type": "stream",
     "text": [
      "6 3\n",
      "0000000000\n",
      "0000000300\n",
      "0054000300\n",
      "1054502230\n",
      "2211122220\n",
      "1111111223\n",
      "0000000000\n",
      "0000000000\n",
      "0000000000\n",
      "0000000000\n",
      "1054000000\n",
      "2254500000\n"
     ]
    }
   ],
   "source": [
    "# 맞았음, i 변수 이름 중복과 가로 길이를 10 고정이 아닌 n으로 한 것을 디버깅하는데 오래 걸렸음\n",
    "from collections import deque\n",
    "\n",
    "n, k = map(int, input().split())\n",
    "li = [list(map(int, input())) for _ in range(n)]\n",
    "\n",
    "dx = [0, 0, -1, 1]\n",
    "dy = [-1, 1, 0, 0]\n",
    "\n",
    "def get_coords_to_delete():\n",
    "    visited = [[False] * 10 for _ in range(n)]\n",
    "    to_delete = []\n",
    "    for i in range(n):\n",
    "        for j in range(10):  \n",
    "            if visited[i][j] or li[i][j] == 0:\n",
    "                continue\n",
    "            visited[i][j] = True\n",
    "\n",
    "            queue = deque()\n",
    "            queue.append((i, j))\n",
    "            \n",
    "            selected_coords = [(i, j)]\n",
    "            color = li[i][j]\n",
    "\n",
    "            while queue:\n",
    "                x, y = queue.popleft()\n",
    "\n",
    "                for direction in range(4):\n",
    "                    nx = x + dx[direction]\n",
    "                    ny = y + dy[direction]\n",
    "\n",
    "                    if 0 <= nx < n and 0 <= ny < 10:\n",
    "                        if li[nx][ny] == color:\n",
    "                            if not visited[nx][ny]:\n",
    "                                visited[nx][ny] = True\n",
    "                                selected_coords.append((nx, ny))\n",
    "                                queue.append((nx, ny))\n",
    "\n",
    "            if len(selected_coords) >= k:\n",
    "                to_delete.extend(selected_coords)\n",
    "                \n",
    "    return to_delete\n",
    "                \n",
    "                \n",
    "def reflect_gravity():\n",
    "    for i in range(n - 2, -1, -1):\n",
    "        for j in range(10):\n",
    "            if li[i][j] == 0:\n",
    "                continue\n",
    "                \n",
    "            c = 1\n",
    "            while True:\n",
    "                if i + c <= n - 1 and li[i + c][j] == 0:\n",
    "                    c += 1\n",
    "                else:\n",
    "                    c -= 1\n",
    "                    break\n",
    "                    \n",
    "            li[i][j], li[i + c][j] = li[i + c][j], li[i][j]\n",
    "\n",
    "while True:\n",
    "    to_delete = get_coords_to_delete()\n",
    "    \n",
    "    if not to_delete:\n",
    "        break\n",
    "        \n",
    "    for x, y in to_delete:\n",
    "        li[x][y] = 0\n",
    "    \n",
    "    reflect_gravity()\n",
    "            \n",
    "print('\\n'.join([\"\".join(map(str, v)) for v in li]))"
   ]
  },
  {
   "cell_type": "markdown",
   "metadata": {},
   "source": [
    "### 배열 돌리기 4 17406\n",
    "- 구현, 브루트포스"
   ]
  },
  {
   "cell_type": "code",
   "execution_count": null,
   "metadata": {},
   "outputs": [],
   "source": [
    "### 오른쪽, 아래쪽, 왼쪽, 위쪽의 반복\n",
    "### 왼, 위쪽 대각선 구석부터 시작\n",
    "### 앞으로 갈 것이 주어진 배열을 벗어나거나 visited라면 방향 전환"
   ]
  },
  {
   "cell_type": "code",
   "execution_count": 48,
   "metadata": {},
   "outputs": [
    {
     "name": "stdout",
     "output_type": "stream",
     "text": [
      "5 6 2\n",
      "1 2 3 2 5 6\n",
      "3 8 7 2 1 3\n",
      "8 2 3 1 4 5\n",
      "3 4 5 1 1 1\n",
      "9 3 2 1 4 3\n",
      "3 4 2\n",
      "4 2 1\n",
      "12\n"
     ]
    }
   ],
   "source": [
    "from copy import deepcopy\n",
    "from collections import deque\n",
    "import math\n",
    "from itertools import permutations\n",
    "\n",
    "n, m, k = map(int, input().split())\n",
    "o_li = [list(map(int, input().split())) for _ in range(n)]\n",
    "turning_operators = [tuple(map(int, input().split())) for _ in range(k)]\n",
    "\n",
    "li = deepcopy(o_li)\n",
    "\n",
    "def rotate(li, turning_operator):\n",
    "    r, c, s = turning_operator\n",
    "    r -= 1\n",
    "    c -= 1\n",
    "    \n",
    "    next_li = deepcopy(li)\n",
    "    visited = [[False] * m for _ in range(n)]\n",
    "    \n",
    "    queue = deque()\n",
    "    \n",
    "    top_left_corner = (r - s, c - s)\n",
    "    bottom_right_corner = (r + s, c + s)\n",
    "    \n",
    "    if top_left_corner == bottom_right_corner:\n",
    "        return li\n",
    "    \n",
    "    center = ((top_left_corner[0] + bottom_right_corner[0]) / 2, (top_left_corner[1] + bottom_right_corner[1]) / 2)\n",
    "\n",
    "    queue.append((top_left_corner[0], top_left_corner[1], 0, 0)) # (x, y, direction, out_count)\n",
    "    visited[r - s][c - s] = True\n",
    "\n",
    "    dx = [0, 1, 0, -1]\n",
    "    dy = [1, 0, -1, 0]\n",
    "\n",
    "    while queue:\n",
    "        x, y, d, out_count = queue.popleft()\n",
    "\n",
    "        nx = x + dx[d % 4]\n",
    "        ny = y + dy[d % 4]\n",
    "\n",
    "        if nx < top_left_corner[0] or nx > bottom_right_corner[0] or ny < top_left_corner[1] or ny > bottom_right_corner[1] or visited[nx][ny]:\n",
    "            if (nx, ny) == top_left_corner:\n",
    "                top_left_corner = (x, y + 1)\n",
    "\n",
    "            if out_count >= 2:\n",
    "                break\n",
    "            queue.append((x, y, d + 1, out_count + 1))\n",
    "        else:\n",
    "            if (x, y) == top_left_corner:\n",
    "                next_li[x][y] = li[x + 1][y]\n",
    "            next_li[nx][ny] = li[x][y]\n",
    "            visited[nx][ny] = True\n",
    "            queue.append((nx, ny, d, 0))\n",
    "\n",
    "    if math.ceil(center[0]) == math.floor(center[0]) and  math.ceil(center[1]) == math.floor(center[1]):\n",
    "        next_li[int(center[0])][int(center[1])] = li[int(center[0])][int(center[1])]\n",
    "\n",
    "    return next_li\n",
    "\n",
    "def get_value_of_matrix(li):\n",
    "    return min([sum(v) for v in li])\n",
    "\n",
    "p = permutations(turning_operators, k)\n",
    "\n",
    "min_value = float('inf')\n",
    "for turning_operators in p:\n",
    "    li = deepcopy(o_li)\n",
    "    \n",
    "    for turning_operator in turning_operators:\n",
    "        li = rotate(li, turning_operator)\n",
    "    \n",
    "    value = get_value_of_matrix(li)\n",
    "    if min_value > value:\n",
    "        min_value = value\n",
    "        \n",
    "print(min_value)"
   ]
  },
  {
   "cell_type": "markdown",
   "metadata": {},
   "source": [
    "### 정수 삼각형 1932 (이미 풀음)\n",
    "- 다이나믹 프로그래밍"
   ]
  },
  {
   "cell_type": "markdown",
   "metadata": {},
   "source": [
    "### 가장 큰 증가 부분 수열 11055 (이미 풀음)\n",
    "- 다이나믹 프로그래밍"
   ]
  },
  {
   "cell_type": "markdown",
   "metadata": {},
   "source": [
    "### 2차원 배열의 합 2167\n",
    "- 구현, 누적 합"
   ]
  },
  {
   "cell_type": "code",
   "execution_count": 71,
   "metadata": {},
   "outputs": [
    {
     "name": "stdout",
     "output_type": "stream",
     "text": [
      "1 1\n",
      "3\n",
      "1\n",
      "1 1 1 1\n",
      "3\n"
     ]
    }
   ],
   "source": [
    "n, m = map(int, input().split())\n",
    "li = []\n",
    "li.append([0] * (m + 1))\n",
    "\n",
    "for _ in range(n):\n",
    "    value = list(map(int, input().split()))\n",
    "    li.append([0] + value)\n",
    "\n",
    "k = int(input())\n",
    "\n",
    "dp = [[0] * (m + 1) for _ in range(n + 1)]\n",
    "for i in range(1, n + 1):\n",
    "    for j in range(1, m + 1):\n",
    "        dp[i][j] = dp[i - 1][j] + dp[i][j - 1] - dp[i - 1][j - 1] + li[i][j]\n",
    "        \n",
    "for _ in range(k):\n",
    "    i, j, x, y = map(int, input().split())\n",
    "    \n",
    "    print(dp[x][y] - dp[x][j - 1] - dp[i - 1][y] + dp[i - 1][j - 1])"
   ]
  },
  {
   "cell_type": "markdown",
   "metadata": {},
   "source": [
    "### 가장 큰 정사각형 1915 (이미 풀음)\n",
    "- 다이나믹 프로그래밍"
   ]
  },
  {
   "cell_type": "markdown",
   "metadata": {},
   "source": [
    "### 본대 산책 12849\n",
    "- 다이나믹 프로그래밍"
   ]
  },
  {
   "cell_type": "code",
   "execution_count": 82,
   "metadata": {},
   "outputs": [
    {
     "name": "stdout",
     "output_type": "stream",
     "text": [
      "3\n",
      "2\n"
     ]
    }
   ],
   "source": [
    "li = [[1, 7], [0, 2, 7], [1, 3, 6, 7], [2, 4, 6], [3, 5], [4, 6], [2, 3, 5, 7], [0, 1, 2, 6]]\n",
    "\n",
    "d = int(input())\n",
    "\n",
    "if d == 1:\n",
    "    print(0)\n",
    "else:\n",
    "    mod = 1000000007\n",
    "\n",
    "    dp = [[0] * d for _ in range(8)]\n",
    "    dp[1][1] = 1\n",
    "    dp[7][1] = 1\n",
    "\n",
    "    for i in range(2, d):\n",
    "        for node_num in range(8):\n",
    "\n",
    "            sum_value = 0\n",
    "            for v in li[node_num]:\n",
    "                sum_value += dp[v][i - 1]\n",
    "\n",
    "            dp[node_num][i] = sum_value % mod\n",
    "\n",
    "    print((dp[1][d - 1] + dp[7][d - 1]) % mod)"
   ]
  },
  {
   "cell_type": "markdown",
   "metadata": {},
   "source": [
    "### 파일 합치기 11066\n",
    "- 다이나믹 프로그래밍"
   ]
  },
  {
   "cell_type": "code",
   "execution_count": 83,
   "metadata": {},
   "outputs": [
    {
     "name": "stdout",
     "output_type": "stream",
     "text": [
      "4\n",
      "40 30 30 50\n"
     ]
    }
   ],
   "source": [
    "n = int(input())\n",
    "li = list(map(int, input().split()))"
   ]
  },
  {
   "cell_type": "code",
   "execution_count": 114,
   "metadata": {},
   "outputs": [],
   "source": [
    "from collections import defaultdict\n",
    "\n",
    "def return_inf():\n",
    "    return float('inf')\n",
    "\n",
    "d = defaultdict(return_inf)"
   ]
  },
  {
   "cell_type": "code",
   "execution_count": 146,
   "metadata": {},
   "outputs": [
    {
     "name": "stdout",
     "output_type": "stream",
     "text": [
      "defaultdict(<function return_inf at 0x0000002A26EFEA60>, {(True, True, True, False): 160, (False, True, True, True): 170})\n",
      "defaultdict(<function return_inf at 0x0000002A26EFEA60>, {(True, True, True, True): 310})\n"
     ]
    }
   ],
   "source": [
    "# 구상을 잘못하였음\n",
    "from collections import defaultdict\n",
    "\n",
    "n = int(input())\n",
    "li = list(map(int, input().split()))\n",
    "\n",
    "def return_inf():\n",
    "    return float('inf')\n",
    "\n",
    "d = defaultdict(return_inf)\n",
    "\n",
    "for i in range(n - 1):\n",
    "    d[tuple([False] * (i) + [True] * 2 + [False] * (n - 2 - i))] = li[i] + li[i + 1]\n",
    "    \n",
    "\n",
    "for _ in range(n - 2):\n",
    "    new_d = defaultdict(return_inf)\n",
    "    \n",
    "    for key, value in d.items():\n",
    "        first_true_index = 0\n",
    "        last_true_index = n - 1\n",
    "        temp = 0\n",
    "        is_true_appeared = False\n",
    "        \n",
    "        for index, boolean in enumerate(key):      \n",
    "            if boolean:\n",
    "                temp += li[index]\n",
    "                \n",
    "                if not is_true_appeared:\n",
    "                    first_true_index = index\n",
    "                    is_true_appeared = True\n",
    "                \n",
    "            if not boolean:\n",
    "                if is_true_appeared:\n",
    "                    last_true_index = index - 1\n",
    "                    break\n",
    "\n",
    "        if last_true_index != n - 1:\n",
    "            new_key = list(key)\n",
    "            new_key[last_true_index + 1] = True\n",
    "            new_key = tuple(new_key)\n",
    "            new_value = value + temp + li[last_true_index + 1]\n",
    "            if new_value < new_d[new_key]:\n",
    "                new_d[new_key] = new_value\n",
    "                \n",
    "        if first_true_index != 0:\n",
    "            new_key = list(key)\n",
    "            new_key[first_true_index - 1] = True\n",
    "            new_key = tuple(new_key)\n",
    "            new_value = value + temp + li[first_true_index - 1]\n",
    "            if new_value < new_d[new_key]:\n",
    "                new_d[new_key] = new_value\n",
    "    print(new_d)\n",
    "    d = new_d.copy()"
   ]
  },
  {
   "cell_type": "code",
   "execution_count": 151,
   "metadata": {},
   "outputs": [
    {
     "name": "stdout",
     "output_type": "stream",
     "text": [
      "4\n",
      "40 30 30 50\n"
     ]
    }
   ],
   "source": [
    "n = int(input())\n",
    "li = list(map(int, input().split()))"
   ]
  },
  {
   "cell_type": "code",
   "execution_count": 152,
   "metadata": {},
   "outputs": [],
   "source": [
    "sum_li =li[:]\n",
    "for i in range(1, n):\n",
    "    sum_li[i] = sum_li[i - 1] + tp[i]"
   ]
  },
  {
   "cell_type": "code",
   "execution_count": 154,
   "metadata": {},
   "outputs": [],
   "source": [
    "sum_li = [0] + sum_li"
   ]
  },
  {
   "cell_type": "code",
   "execution_count": 189,
   "metadata": {},
   "outputs": [
    {
     "name": "stdout",
     "output_type": "stream",
     "text": [
      "2\n",
      "4\n",
      "40 30 30 50\n",
      "300\n",
      "15\n",
      "1 21 3 4 5 35 5 4 3 5 98 21 14 17 32\n",
      "864\n"
     ]
    }
   ],
   "source": [
    "T = int(input())\n",
    "for _ in range(T):\n",
    "    n = int(input())\n",
    "    li = list(map(int, input().split()))\n",
    "\n",
    "    sum_li =li[:]\n",
    "    for i in range(1, n):\n",
    "        sum_li[i] = sum_li[i - 1] + li[i]\n",
    "\n",
    "    sum_li = [0] + sum_li\n",
    "\n",
    "    dp = [[0] * n for _ in range(n)]\n",
    "\n",
    "    for interval in range(2, n + 1):\n",
    "        for i in range(n - interval + 1):\n",
    "            min_value = float('inf')\n",
    "            for j in range(i, i + interval - 1):\n",
    "                value = dp[i][j] + dp[j + 1][i + interval - 1] + sum_li[i + interval] - sum_li[i]\n",
    "                if min_value > value:\n",
    "                    min_value = value\n",
    "            dp[i][i + interval - 1] = min_value        \n",
    "\n",
    "    print(dp[0][n- 1])"
   ]
  },
  {
   "cell_type": "markdown",
   "metadata": {},
   "source": [
    "### 뒤집기 1439 (다시 풀음)\n",
    "- 그리디"
   ]
  },
  {
   "cell_type": "code",
   "execution_count": 11,
   "metadata": {},
   "outputs": [
    {
     "name": "stdout",
     "output_type": "stream",
     "text": [
      "010101010\n",
      "4\n"
     ]
    }
   ],
   "source": [
    "li = list(map(int, input()))\n",
    "\n",
    "current_color = li[0]\n",
    "del li[0]\n",
    "\n",
    "change_count = 0\n",
    "for v in li:\n",
    "    if v != current_color:\n",
    "        current_color = v\n",
    "        change_count += 1\n",
    "        \n",
    "print((change_count + 1) // 2)"
   ]
  },
  {
   "cell_type": "markdown",
   "metadata": {},
   "source": [
    "### 근우의 다이어리 꾸미기 16676\n",
    "- 그리디"
   ]
  },
  {
   "cell_type": "code",
   "execution_count": 21,
   "metadata": {},
   "outputs": [
    {
     "name": "stdout",
     "output_type": "stream",
     "text": [
      "0\n",
      "1\n"
     ]
    }
   ],
   "source": [
    "n = int(input())\n",
    "\n",
    "if n == 0:\n",
    "    print(1)\n",
    "else:  \n",
    "    count_1 = 1\n",
    "    while True:\n",
    "        if n >= int(\"1\" * count_1):\n",
    "            count_1 += 1\n",
    "        else:\n",
    "            count_1 -= 1\n",
    "            break\n",
    "            \n",
    "    print(count_1)"
   ]
  },
  {
   "cell_type": "markdown",
   "metadata": {},
   "source": [
    "### 저울 2437\n",
    "- 그리디, 정렬"
   ]
  },
  {
   "cell_type": "code",
   "execution_count": 31,
   "metadata": {},
   "outputs": [
    {
     "name": "stdout",
     "output_type": "stream",
     "text": [
      "3\n",
      "2 3 4\n",
      "1\n"
     ]
    }
   ],
   "source": [
    "n = int(input())\n",
    "li = list(map(int, input().split()))\n",
    "\n",
    "li.sort()\n",
    "\n",
    "candidate = 1\n",
    "for v in li:\n",
    "    if v <= candidate:\n",
    "        candidate += v\n",
    "    else:\n",
    "        break\n",
    "        \n",
    "print(candidate)"
   ]
  },
  {
   "cell_type": "markdown",
   "metadata": {},
   "source": [
    "### 행렬 1080 (이미 풀음)\n",
    "- 그리디"
   ]
  },
  {
   "cell_type": "markdown",
   "metadata": {},
   "source": [
    "### 소수의 곱 2014\n",
    "- 그리디, 수학, 자료 구조, 정수론, 우선순위 큐"
   ]
  },
  {
   "cell_type": "code",
   "execution_count": null,
   "metadata": {},
   "outputs": [],
   "source": [
    "# 메모리 초과\n",
    "import heapq\n",
    "\n",
    "criteria = 2 ** 31\n",
    "\n",
    "k, n = map(int, input().split())\n",
    "primes = list(map(int, input().split()))\n",
    "st = set()\n",
    "\n",
    "heap = primes[:]\n",
    "heapq.heapify(heap)\n",
    "\n",
    "count = 1\n",
    "while True:\n",
    "    value = heapq.heappop(heap)\n",
    "    \n",
    "    if count == n:\n",
    "        print(value)\n",
    "        break\n",
    "    \n",
    "    for p in primes:\n",
    "        new_value = p * value\n",
    "        \n",
    "        if new_value >= criteria or new_value in st:\n",
    "            continue\n",
    "\n",
    "        st.add(new_value)\n",
    "        heapq.heappush(heap, new_value)\n",
    "            \n",
    "    count += 1"
   ]
  },
  {
   "cell_type": "code",
   "execution_count": 30,
   "metadata": {},
   "outputs": [
    {
     "name": "stdout",
     "output_type": "stream",
     "text": [
      "4 19\n",
      "2 3 5 7\n",
      "27\n"
     ]
    }
   ],
   "source": [
    "import heapq\n",
    "\n",
    "criteria = 2 ** 31\n",
    "\n",
    "k, n = map(int, input().split())\n",
    "primes = list(map(int, input().split()))\n",
    "st = set()\n",
    "\n",
    "heap = primes[:]\n",
    "heapq.heapify(heap)\n",
    "\n",
    "count = 1\n",
    "while True:\n",
    "    value = heapq.heappop(heap)\n",
    "    \n",
    "    if value in st:\n",
    "        continue\n",
    "        \n",
    "    if count == n:\n",
    "        print(value)\n",
    "        break\n",
    "        \n",
    "    st.add(value)\n",
    "    \n",
    "    for p in primes:\n",
    "        new_value = p * value\n",
    "        \n",
    "        if new_value < criteria:\n",
    "            heapq.heappush(heap, new_value)\n",
    "            \n",
    "    count += 1"
   ]
  }
 ],
 "metadata": {
  "kernelspec": {
   "display_name": "Python 3",
   "language": "python",
   "name": "python3"
  },
  "language_info": {
   "codemirror_mode": {
    "name": "ipython",
    "version": 3
   },
   "file_extension": ".py",
   "mimetype": "text/x-python",
   "name": "python",
   "nbconvert_exporter": "python",
   "pygments_lexer": "ipython3",
   "version": "3.7.3"
  }
 },
 "nbformat": 4,
 "nbformat_minor": 4
}
