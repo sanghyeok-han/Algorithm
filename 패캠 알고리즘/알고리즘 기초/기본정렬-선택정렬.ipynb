{
 "cells": [
  {
   "cell_type": "markdown",
   "metadata": {},
   "source": [
    "정렬: 어떤 데이터들이 주어졌을 때 이를 정해진 순서대로 나열하는 것"
   ]
  },
  {
   "cell_type": "markdown",
   "metadata": {},
   "source": [
    "선택 정렬: 다음과 같은 순서를 반복하며 정렬하는 알고리즘\n",
    "\n",
    "1. 주어진 데이터 중, 최소값을 찾음\n",
    "2. 해당 최소값을 데이터 맨 앞에 위치한 값과 교체함\n",
    "3. 맨 앞의 위치를 뺀 나머지 데이터를 동일한 방법으로 반복함"
   ]
  },
  {
   "cell_type": "code",
   "execution_count": 29,
   "metadata": {},
   "outputs": [],
   "source": [
    "# 선택정렬 구현\n",
    "def selection_sort(data):\n",
    "    for stand in range(len(data) - 1):\n",
    "        lowest = stand\n",
    "        for index in range(stand + 1, len(data)):\n",
    "            if data[lowest] > data[index]:\n",
    "                lowest = index\n",
    "        data[lowest], data[stand] = data[stand], data[lowest]\n",
    "    return data"
   ]
  },
  {
   "cell_type": "code",
   "execution_count": 26,
   "metadata": {},
   "outputs": [],
   "source": [
    "import random\n",
    "\n",
    "data_list = random.sample(range(100), 10)"
   ]
  },
  {
   "cell_type": "code",
   "execution_count": 30,
   "metadata": {},
   "outputs": [
    {
     "data": {
      "text/plain": [
       "[2, 3, 40, 45, 61, 72, 74, 77, 92, 95]"
      ]
     },
     "execution_count": 30,
     "metadata": {},
     "output_type": "execute_result"
    }
   ],
   "source": [
    "selection_sort(data_list)"
   ]
  },
  {
   "cell_type": "code",
   "execution_count": 13,
   "metadata": {},
   "outputs": [],
   "source": [
    "# 선택정렬 직접 구현\n",
    "def selection_sort(li):\n",
    "    for i in range(len(li) - 1):\n",
    "        min_value = min(li[i:])\n",
    "        min_value_index = li.index(min_value)\n",
    "        if li[i] > min_value:\n",
    "            li[i], li[min_value_index] = li[min_value_index], li[i]\n",
    "    return li"
   ]
  },
  {
   "cell_type": "code",
   "execution_count": 32,
   "metadata": {},
   "outputs": [],
   "source": [
    "# 선택정렬 직접 구현2\n",
    "def selection_sort(li):\n",
    "    for i in range(len(li) - 1):\n",
    "        min_value_index = i\n",
    "        for j in range(i + 1, len(li)):\n",
    "            if li[j] < li[min_value_index]:\n",
    "                min_value_index = j\n",
    "        if li[i] > li[min_value_index]:\n",
    "            li[i], li[min_value_index] = li[min_value_index], li[i]\n",
    "    return li"
   ]
  },
  {
   "cell_type": "markdown",
   "metadata": {},
   "source": [
    "#### 알고리즘 분석\n",
    "- 반복문이 두 개 O($n^2$)"
   ]
  }
 ],
 "metadata": {
  "kernelspec": {
   "display_name": "Python 3",
   "language": "python",
   "name": "python3"
  },
  "language_info": {
   "codemirror_mode": {
    "name": "ipython",
    "version": 3
   },
   "file_extension": ".py",
   "mimetype": "text/x-python",
   "name": "python",
   "nbconvert_exporter": "python",
   "pygments_lexer": "ipython3",
   "version": "3.7.3"
  }
 },
 "nbformat": 4,
 "nbformat_minor": 4
}
