{
 "cells": [
  {
   "cell_type": "code",
   "execution_count": 1,
   "metadata": {},
   "outputs": [],
   "source": [
    "# 팩토리얼 재귀함수 구현\n",
    "def factorial(num):\n",
    "    if num > 1:\n",
    "        return num * factorial(num - 1)\n",
    "    else:\n",
    "        return num"
   ]
  },
  {
   "cell_type": "code",
   "execution_count": 2,
   "metadata": {},
   "outputs": [],
   "source": [
    "# 팩토리얼 재귀함수 구현2\n",
    "def factorial(num):\n",
    "    if num <= 1:\n",
    "        return num\n",
    "    return_value = num * factorial(num - 1)\n",
    "    return return_value"
   ]
  },
  {
   "cell_type": "code",
   "execution_count": 3,
   "metadata": {},
   "outputs": [],
   "source": [
    "# 팩토리얼 재귀함수 직접 구현\n",
    "def factorial(n):\n",
    "    if n <= 1:\n",
    "        return 1\n",
    "    else:\n",
    "        return n * factorial(n-1)"
   ]
  },
  {
   "cell_type": "code",
   "execution_count": 4,
   "metadata": {},
   "outputs": [
    {
     "name": "stdout",
     "output_type": "stream",
     "text": [
      "1\n",
      "1\n",
      "2\n",
      "6\n",
      "24\n",
      "120\n",
      "720\n",
      "5040\n",
      "40320\n",
      "362880\n"
     ]
    }
   ],
   "source": [
    "for num in range(10):\n",
    "    print(factorial(num))"
   ]
  },
  {
   "cell_type": "code",
   "execution_count": 5,
   "metadata": {},
   "outputs": [
    {
     "data": {
      "text/plain": [
       "720"
      ]
     },
     "execution_count": 5,
     "metadata": {},
     "output_type": "execute_result"
    }
   ],
   "source": [
    "factorial(6)"
   ]
  },
  {
   "cell_type": "code",
   "execution_count": 6,
   "metadata": {},
   "outputs": [
    {
     "data": {
      "text/plain": [
       "720"
      ]
     },
     "execution_count": 6,
     "metadata": {},
     "output_type": "execute_result"
    }
   ],
   "source": [
    "1*2*3*4*5*6"
   ]
  },
  {
   "cell_type": "markdown",
   "metadata": {},
   "source": [
    "## 재귀 호출의 일반적인 형태"
   ]
  },
  {
   "cell_type": "code",
   "execution_count": null,
   "metadata": {},
   "outputs": [],
   "source": [
    "# 일반적인 형태1\n",
    "def function(입력):\n",
    "    if 입력 > 일정값:\n",
    "        return function(입력 - 1)\n",
    "    else:\n",
    "        return 일정값, 입력값 또는 특정값\n",
    "\n",
    "# 일반적인 형태2\n",
    "def function(입력):\n",
    "    if 입력 <= 일정값:\n",
    "        return 일정값 또는 입력값\n",
    "    function(입력보다 작은 값)\n",
    "    return 결과값"
   ]
  },
  {
   "cell_type": "markdown",
   "metadata": {},
   "source": [
    "## 재귀 용법을 활용한 프로그래밍 연습"
   ]
  },
  {
   "cell_type": "markdown",
   "metadata": {},
   "source": [
    "### 다음 함수를 재귀 함수를 활용해서 완성해서 1부터 num까지의 곱이 출력되게 만드세요"
   ]
  },
  {
   "cell_type": "code",
   "execution_count": 8,
   "metadata": {},
   "outputs": [
    {
     "data": {
      "text/plain": [
       "3628800"
      ]
     },
     "execution_count": 8,
     "metadata": {},
     "output_type": "execute_result"
    }
   ],
   "source": [
    "def multiple(data):\n",
    "    if data <= 1:\n",
    "        return data\n",
    "    \n",
    "    return data * multiple(data - 1) \n",
    "\n",
    "multiple(10)"
   ]
  },
  {
   "cell_type": "code",
   "execution_count": 9,
   "metadata": {},
   "outputs": [],
   "source": [
    "def multiple(data):\n",
    "    return_value = 1\n",
    "    for index in range(1, num + 1):\n",
    "        return_value = return_value * index\n",
    "    return return_value"
   ]
  },
  {
   "cell_type": "markdown",
   "metadata": {},
   "source": [
    "### 숫자가 들어 있는 리스트가 주어졌을 때, 리스트의 합을 리턴하는 함수를 만드세요 (재귀함수를 써보세요)"
   ]
  },
  {
   "cell_type": "code",
   "execution_count": 20,
   "metadata": {},
   "outputs": [],
   "source": [
    "def sum_list(data):\n",
    "    if len(data) <= 1:\n",
    "        return data[0]\n",
    "    return data[0] + sum_list(data[1:])"
   ]
  },
  {
   "cell_type": "code",
   "execution_count": 15,
   "metadata": {},
   "outputs": [],
   "source": [
    "## 직접구현\n",
    "def sum_list(data):\n",
    "    if len(data) == 1:\n",
    "        return data[0]\n",
    "    return data.pop() + sum_list(data)"
   ]
  },
  {
   "cell_type": "code",
   "execution_count": 22,
   "metadata": {},
   "outputs": [
    {
     "name": "stdout",
     "output_type": "stream",
     "text": [
      "560\n",
      "560\n"
     ]
    }
   ],
   "source": [
    "import random\n",
    "data = random.sample(range(100), 10)\n",
    "print(sum_list(data))\n",
    "print(sum(data))"
   ]
  },
  {
   "cell_type": "markdown",
   "metadata": {},
   "source": [
    "### 회문(palindrome) 판정"
   ]
  },
  {
   "cell_type": "code",
   "execution_count": null,
   "metadata": {},
   "outputs": [],
   "source": [
    "def palindrome(string):\n",
    "    if len(string) <= 1:\n",
    "        return True:\n",
    "        \n",
    "    if string[0] == string[-1]:\n",
    "        return palindrome(string[1:-1])\n",
    "    else:\n",
    "        return False  "
   ]
  },
  {
   "cell_type": "code",
   "execution_count": 37,
   "metadata": {},
   "outputs": [],
   "source": [
    "## 재귀함수 안쓰고 직접 구현\n",
    "def check_palindrome(data):\n",
    "    if len(data) % 2 == 1:\n",
    "        data = data[:len(data)//2] + data[len(data)//2 + 1:]\n",
    "    print(data)\n",
    "    if data[:len(data)//2] == data[len(data):len(data)//2-1:-1]:\n",
    "        return True\n",
    "    else:\n",
    "        return False"
   ]
  },
  {
   "cell_type": "code",
   "execution_count": 42,
   "metadata": {},
   "outputs": [],
   "source": [
    "# 재귀함수 쓰고 직접 구현\n",
    "def check_palindrome(data):\n",
    "    if len(data) <= 1:\n",
    "        return True\n",
    "    if data[0] != data[-1]:\n",
    "        return False\n",
    "    else:\n",
    "        return check_palindrome(data[1:-1])"
   ]
  },
  {
   "cell_type": "code",
   "execution_count": 44,
   "metadata": {},
   "outputs": [
    {
     "data": {
      "text/plain": [
       "False"
      ]
     },
     "execution_count": 44,
     "metadata": {},
     "output_type": "execute_result"
    }
   ],
   "source": [
    "check_palindrome(\"abccbaa\")"
   ]
  },
  {
   "cell_type": "markdown",
   "metadata": {},
   "source": [
    "1. 정수 n에 대해\n",
    "2. n이 홀수이면 3 X n + 1을 하고\n",
    "3. n이 짝수이면 n을 2로 나눈다.\n",
    "4. 이렇게 계속 진행해서 n이 결국 1이 될 때까지 2와 3의 과정을 반복한다.\n",
    "5. 이러한 과정을 모두 출력하는 프로그램을 제작한다."
   ]
  },
  {
   "cell_type": "code",
   "execution_count": 61,
   "metadata": {},
   "outputs": [],
   "source": [
    "## 프로그램 구현\n",
    "def func(n):\n",
    "    print(n)\n",
    "    if n == 1:\n",
    "        return n\n",
    "    if n % 2 == 1:\n",
    "        return(func((3*n)+1))\n",
    "    else:\n",
    "        return (func(int(n/2)))"
   ]
  },
  {
   "cell_type": "code",
   "execution_count": 59,
   "metadata": {},
   "outputs": [],
   "source": [
    "## 프로그램 직접 구현\n",
    "def program(n):\n",
    "    print(n)\n",
    "    if n == 1:\n",
    "        return\n",
    "    if n % 2 == 1:\n",
    "        return program(3 * n + 1)\n",
    "    else:\n",
    "        return program(int(n / 2))"
   ]
  },
  {
   "cell_type": "code",
   "execution_count": 62,
   "metadata": {},
   "outputs": [
    {
     "name": "stdout",
     "output_type": "stream",
     "text": [
      "3\n",
      "10\n",
      "5\n",
      "16\n",
      "8\n",
      "4\n",
      "2\n",
      "1\n"
     ]
    }
   ],
   "source": [
    "program(3)"
   ]
  },
  {
   "cell_type": "code",
   "execution_count": 60,
   "metadata": {},
   "outputs": [
    {
     "name": "stdout",
     "output_type": "stream",
     "text": [
      "3\n",
      "10\n",
      "5\n",
      "16\n",
      "8\n",
      "4\n",
      "2\n",
      "1\n"
     ]
    },
    {
     "data": {
      "text/plain": [
       "1"
      ]
     },
     "execution_count": 60,
     "metadata": {},
     "output_type": "execute_result"
    }
   ],
   "source": [
    "func(3)"
   ]
  },
  {
   "cell_type": "markdown",
   "metadata": {},
   "source": [
    "### 정수 n이 입력으로 주어졌을 때, n을 1, 2, 3의 합으로 나타낼 수 있는 방법의 수를 구하시오"
   ]
  },
  {
   "cell_type": "code",
   "execution_count": 17,
   "metadata": {},
   "outputs": [],
   "source": [
    "# 재귀용법 미사용 직접 구현\n",
    "def func(n):\n",
    "    if n < 1:\n",
    "        return 0\n",
    "    else:\n",
    "        li = [1]\n",
    "        count = 0\n",
    "        while True:\n",
    "            if sum(li) == n:\n",
    "                count += 1\n",
    "                while True:\n",
    "                    del li[-1]\n",
    "                    if len(li) == 0:\n",
    "                        return count\n",
    "                    if li[-1] != 3:\n",
    "                        li[-1] += 1\n",
    "                        break\n",
    "            else:\n",
    "                li.append(1)"
   ]
  },
  {
   "cell_type": "code",
   "execution_count": 18,
   "metadata": {},
   "outputs": [],
   "source": [
    "# 재귀용법 사용 직접 구현\n",
    "def func(n):\n",
    "    if n == 1:\n",
    "        return 1\n",
    "    elif n == 2:\n",
    "        return 2\n",
    "    elif n == 3:\n",
    "        return 4\n",
    "    else:\n",
    "        return func(n-1) + func(n-2) + func(n-3)"
   ]
  },
  {
   "cell_type": "code",
   "execution_count": 19,
   "metadata": {},
   "outputs": [
    {
     "data": {
      "text/plain": [
       "24"
      ]
     },
     "execution_count": 19,
     "metadata": {},
     "output_type": "execute_result"
    }
   ],
   "source": [
    "func(6)"
   ]
  },
  {
   "cell_type": "code",
   "execution_count": 22,
   "metadata": {},
   "outputs": [],
   "source": [
    "# 재귀용법 사용 구현\n",
    "def func(data):\n",
    "    if data == 1:\n",
    "        return 1\n",
    "    elif data == 2:\n",
    "        return 2\n",
    "    elif data == 3:\n",
    "        return 4\n",
    "    \n",
    "    return func(data-1) + func(data-2) + func(data-3)"
   ]
  },
  {
   "cell_type": "code",
   "execution_count": 24,
   "metadata": {},
   "outputs": [
    {
     "data": {
      "text/plain": [
       "13"
      ]
     },
     "execution_count": 24,
     "metadata": {},
     "output_type": "execute_result"
    }
   ],
   "source": [
    "func(5)"
   ]
  },
  {
   "cell_type": "markdown",
   "metadata": {},
   "source": [
    "## 하노이타워 재귀용법 구현 (강의와 별도)"
   ]
  },
  {
   "cell_type": "code",
   "execution_count": 50,
   "metadata": {},
   "outputs": [],
   "source": [
    "def hanoi(n):\n",
    "    if n == 1:\n",
    "        return 1\n",
    "    else:\n",
    "        return 2 * hanoi(n-1) + 1"
   ]
  },
  {
   "cell_type": "code",
   "execution_count": 55,
   "metadata": {},
   "outputs": [],
   "source": [
    "## 나무위키 C언어 자료 활용\n",
    "def hanoi(_from, to, n):\n",
    "    if n == 1:\n",
    "        print(f\"{_from} {to}\")\n",
    "        return 0\n",
    "    hanoi(_from, 6 - _from - to, n-1)\n",
    "    print(f\"{_from} {to}\")\n",
    "    hanoi(6-_from-to, to, n-1)\n",
    "    return 0"
   ]
  },
  {
   "cell_type": "code",
   "execution_count": 52,
   "metadata": {},
   "outputs": [
    {
     "data": {
      "text/plain": [
       "7"
      ]
     },
     "execution_count": 52,
     "metadata": {},
     "output_type": "execute_result"
    }
   ],
   "source": [
    "hanoi(3)"
   ]
  },
  {
   "cell_type": "code",
   "execution_count": 53,
   "metadata": {},
   "outputs": [
    {
     "data": {
      "text/plain": [
       "15"
      ]
     },
     "execution_count": 53,
     "metadata": {},
     "output_type": "execute_result"
    }
   ],
   "source": [
    "hanoi(4)"
   ]
  }
 ],
 "metadata": {
  "kernelspec": {
   "display_name": "Python 3",
   "language": "python",
   "name": "python3"
  },
  "language_info": {
   "codemirror_mode": {
    "name": "ipython",
    "version": 3
   },
   "file_extension": ".py",
   "mimetype": "text/x-python",
   "name": "python",
   "nbconvert_exporter": "python",
   "pygments_lexer": "ipython3",
   "version": "3.7.3"
  }
 },
 "nbformat": 4,
 "nbformat_minor": 4
}
