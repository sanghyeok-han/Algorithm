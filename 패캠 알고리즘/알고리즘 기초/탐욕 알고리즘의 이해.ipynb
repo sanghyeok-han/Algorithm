{
 "cells": [
  {
   "cell_type": "markdown",
   "metadata": {},
   "source": [
    "### 1. 탐욕 알고리즘이란?\n",
    "\n",
    "*  Greedy algorithm 또는 탐욕 알고리즘이라고 불림\n",
    "*  최적의 해에 가까운 값을 구하기 위해 사용됨\n",
    "*  여러 경우 중 하나를 결정해야할 때마다, <b>매순간 최적이라고 생각되는 경우를 선택</b>하는 방식으로 진행해서 최종적인 값을 구하는 방식"
   ]
  },
  {
   "cell_type": "markdown",
   "metadata": {},
   "source": [
    "### 2. 탐욕 알고리즘 예"
   ]
  },
  {
   "cell_type": "markdown",
   "metadata": {},
   "source": [
    "### 문제1: 동전 문제\n",
    "    \n",
    "* 지불해야 하는 값이 4720원일 때 1원, 50원, 100원, 500원 동전으로 동전의 수가 가장 적게 지불하시오.\n",
    "  * 가장 큰 동전부터 최대한 지불해야 하는 값을 채우는 방식으로 구현 가능\n",
    "  * 탐욕 알고리즘으로 매순간 최적이라고 생각되는 경우를 선택하면 됨"
   ]
  },
  {
   "cell_type": "code",
   "execution_count": 15,
   "metadata": {},
   "outputs": [],
   "source": [
    "## 동전 문제 직접 구현\n",
    "coin_list = [1, 50, 100, 500]\n",
    "used_coins = {1: 0, 50: 0, 100: 0, 500: 0}\n",
    "coin_count = 0\n",
    "need_to_fill = 4720\n",
    "\n",
    "while need_to_fill > 0:\n",
    "    used_coin = max([coin for coin in coin_list if coin <= need_to_fill])\n",
    "    coin_count += 1\n",
    "    need_to_fill -= used_coin\n",
    "    used_coins[used_coin] += 1"
   ]
  },
  {
   "cell_type": "code",
   "execution_count": 17,
   "metadata": {},
   "outputs": [
    {
     "data": {
      "text/plain": [
       "{1: 20, 50: 0, 100: 2, 500: 9}"
      ]
     },
     "execution_count": 17,
     "metadata": {},
     "output_type": "execute_result"
    }
   ],
   "source": [
    "used_coins"
   ]
  },
  {
   "cell_type": "code",
   "execution_count": 16,
   "metadata": {},
   "outputs": [
    {
     "data": {
      "text/plain": [
       "31"
      ]
     },
     "execution_count": 16,
     "metadata": {},
     "output_type": "execute_result"
    }
   ],
   "source": [
    "coin_count"
   ]
  },
  {
   "cell_type": "code",
   "execution_count": 22,
   "metadata": {},
   "outputs": [],
   "source": [
    "## 탐욕 알고리즘을 이용한 구현\n",
    "coin_list = [500, 100, 50, 1]\n",
    "\n",
    "def min_coin_count(value, coin_list):\n",
    "    total_coin_count = 0\n",
    "    details = list()\n",
    "    coin_list.sort(reverse=True)\n",
    "    for coin in coin_list:\n",
    "        coin_num = value // coin\n",
    "        total_coin_count += coin_num\n",
    "        value -= coin_num * coin\n",
    "        details.append([coin, coin_num])\n",
    "    return total_coin_count, details"
   ]
  },
  {
   "cell_type": "code",
   "execution_count": 23,
   "metadata": {},
   "outputs": [
    {
     "data": {
      "text/plain": [
       "(31, [[500, 9], [100, 2], [50, 0], [1, 20]])"
      ]
     },
     "execution_count": 23,
     "metadata": {},
     "output_type": "execute_result"
    }
   ],
   "source": [
    "min_coin_count(4720, coin_list)"
   ]
  },
  {
   "cell_type": "markdown",
   "metadata": {},
   "source": [
    "### 문제1: 동전 문제\n",
    "    \n",
    "* 무게 제한이 k인 배낭에 최대 가치를 가지도록 물건을 넣는 문제\n",
    "  * 각 물건은 무게(w)와 가치(v)로 표현될 수 있음\n",
    "  * 물건은 쪼갤 수 있으므로 물건의 일부분이 배낭에 넣어질 수 있음. 그래서 Fractional Knapsack Problem으로 부름\n",
    "    * Fractional Knapsack Problem의 반대로 물건을 쪼개서 넣을 수 없는 배낭 문제도 존재함 (0/1 Knapsack Problem으로 부름)"
   ]
  },
  {
   "cell_type": "markdown",
   "metadata": {},
   "source": [
    "|물건(i)|물건1|물건2|물건3|물건4|물건5|\n",
    "|--|--|--|--|--|--|\n",
    "|무게(w)|10|15|20|25|30|\n",
    "|가치(v)|10|12|10|8|5|"
   ]
  },
  {
   "cell_type": "code",
   "execution_count": 36,
   "metadata": {},
   "outputs": [],
   "source": [
    "data_list = [(10, 10), (15, 12), (20, 10), (25, 8), (30, 5)]"
   ]
  },
  {
   "cell_type": "code",
   "execution_count": 50,
   "metadata": {},
   "outputs": [],
   "source": [
    "## 직접 구현\n",
    "def get_max_value(data_list, capacity):\n",
    "    data_list = sorted(data_list, key=lambda x: x[1] / x[0], reverse=True)\n",
    "    \n",
    "    total_value = 0\n",
    "    for data in data_list:\n",
    "        if data[0] <= capacity:\n",
    "            total_value += data[1]\n",
    "            capacity -= data[0]\n",
    "        elif data[0] == capacity:\n",
    "            total_value += data[1]\n",
    "            return total_value\n",
    "        else:\n",
    "            total_value += capacity * data[1] / data[0]\n",
    "            return total_value"
   ]
  },
  {
   "cell_type": "code",
   "execution_count": 52,
   "metadata": {},
   "outputs": [],
   "source": [
    "def get_max_value(data_list, capacity):\n",
    "    data_list = sorted(data_list, key=lambda x: x[1] / x[0], reverse=True)\n",
    "    total_value = 0\n",
    "    details = list()\n",
    "    \n",
    "    for data in data_list:\n",
    "        if capacity - data[0] >= 0:\n",
    "            capacity -= data[0]\n",
    "            total_value += data[1]\n",
    "            details.append([data[0], data[1], 1])\n",
    "        else:\n",
    "            fraction = capacity / data[0]\n",
    "            total_value += data[1] * fraction\n",
    "            details.append([data[0], data[1], fraction])\n",
    "            break\n",
    "    return total_value, details"
   ]
  },
  {
   "cell_type": "code",
   "execution_count": 53,
   "metadata": {},
   "outputs": [
    {
     "data": {
      "text/plain": [
       "(24.5, [[10, 10, 1], [15, 12, 1], [20, 10, 0.25]])"
      ]
     },
     "execution_count": 53,
     "metadata": {},
     "output_type": "execute_result"
    }
   ],
   "source": [
    "get_max_value(data_list, 30)"
   ]
  },
  {
   "cell_type": "markdown",
   "metadata": {},
   "source": [
    "### 3. 탐욕 알고리즘의 한계\n",
    "* Gready algorithm 또는 탐욕 알고리즘이라고 불림\n",
    "* 최적의 해에 가까운 값을 구하기 위해 사용됨\n",
    "* 여러 경우 중 하나를 결정해야할 때마다, 매순간 최적이라고 생각되는 경우를 선택하는 방식으로 진행해서, 최종적인 값을 구하는 방식"
   ]
  }
 ],
 "metadata": {
  "kernelspec": {
   "display_name": "Python 3",
   "language": "python",
   "name": "python3"
  },
  "language_info": {
   "codemirror_mode": {
    "name": "ipython",
    "version": 3
   },
   "file_extension": ".py",
   "mimetype": "text/x-python",
   "name": "python",
   "nbconvert_exporter": "python",
   "pygments_lexer": "ipython3",
   "version": "3.7.3"
  }
 },
 "nbformat": 4,
 "nbformat_minor": 4
}
