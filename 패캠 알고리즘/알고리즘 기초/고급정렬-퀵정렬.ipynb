{
 "cells": [
  {
   "cell_type": "markdown",
   "metadata": {},
   "source": [
    "## 퀵 정렬이란?"
   ]
  },
  {
   "cell_type": "markdown",
   "metadata": {},
   "source": [
    "* 정렬 알고리즘의 꽃\n",
    "* 기준점(pivot 이라고 부름)을 정해서, 기준점보다 작은 데이터는 왼쪽, 큰 데이터는 오른쪽으로 모으는 함수를 작성함\n",
    "* 각 왼쪽, 오른쪽은 재귀용법을 사용해서 다시 동일 함수를 호출하여 위 작업을 반복함\n",
    "* 함수는 왼쪽 + 기준점 + 오른쪽을 리턴함\n",
    "* 분할 정복의 대표적인 예시 중 하나"
   ]
  },
  {
   "cell_type": "code",
   "execution_count": 46,
   "metadata": {},
   "outputs": [],
   "source": [
    "## 퀵 정렬 직접 구현\n",
    "def qsort(li):\n",
    "    if len(li) <= 1:\n",
    "        return li\n",
    "    pivot = li[0]\n",
    "    left = list(filter(lambda x: x < pivot, li[1:]))\n",
    "    right = list(filter(lambda x: x >= pivot, li[1:]))\n",
    "    return quick_sort(left) + [pivot] + quick_sort(right)"
   ]
  },
  {
   "cell_type": "code",
   "execution_count": 34,
   "metadata": {},
   "outputs": [
    {
     "data": {
      "text/plain": [
       "[1, 2, 3, 4, 4, 5]"
      ]
     },
     "execution_count": 34,
     "metadata": {},
     "output_type": "execute_result"
    }
   ],
   "source": [
    "quick_sort([3, 2, 1, 5, 4, 4])"
   ]
  },
  {
   "cell_type": "code",
   "execution_count": 39,
   "metadata": {},
   "outputs": [],
   "source": [
    "def qsort(data):\n",
    "    if len(data) <= 1:\n",
    "        return data\n",
    "    \n",
    "    left, right = list(), list()\n",
    "    pivot = data[0]\n",
    "    for index in range(1, len(data)):\n",
    "        if pivot > data[index]:\n",
    "            left.append(data[index])\n",
    "        else:\n",
    "            right.append(data[index])\n",
    "    return qsort(left) + [pivot] + qsort(right)"
   ]
  },
  {
   "cell_type": "code",
   "execution_count": 44,
   "metadata": {},
   "outputs": [],
   "source": [
    "def qsort(data):\n",
    "    if len(data) <= 1:\n",
    "        return data\n",
    "    \n",
    "    pivot = data[0]\n",
    "    \n",
    "    left = [item for item in data[1:] if pivot > item]\n",
    "    right = [item for item in data[1:] if pivot <= item]\n",
    "    \n",
    "    return qsort(left) + [pivot] + qsort(right)"
   ]
  },
  {
   "cell_type": "code",
   "execution_count": 47,
   "metadata": {},
   "outputs": [
    {
     "data": {
      "text/plain": [
       "[4, 9, 28, 41, 48, 58, 59, 73, 90, 98]"
      ]
     },
     "execution_count": 47,
     "metadata": {},
     "output_type": "execute_result"
    }
   ],
   "source": [
    "import random\n",
    "\n",
    "data_list = random.sample(range(100), 10)\n",
    "\n",
    "qsort(data_list)"
   ]
  },
  {
   "cell_type": "markdown",
   "metadata": {},
   "source": [
    "## 알고리즘 시간 복잡도: O($nlog(n)$)"
   ]
  }
 ],
 "metadata": {
  "kernelspec": {
   "display_name": "Python 3",
   "language": "python",
   "name": "python3"
  },
  "language_info": {
   "codemirror_mode": {
    "name": "ipython",
    "version": 3
   },
   "file_extension": ".py",
   "mimetype": "text/x-python",
   "name": "python",
   "nbconvert_exporter": "python",
   "pygments_lexer": "ipython3",
   "version": "3.7.3"
  }
 },
 "nbformat": 4,
 "nbformat_minor": 4
}
