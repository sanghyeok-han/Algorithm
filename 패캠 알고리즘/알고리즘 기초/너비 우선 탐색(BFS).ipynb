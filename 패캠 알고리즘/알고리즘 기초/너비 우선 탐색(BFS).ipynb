{
 "cells": [
  {
   "cell_type": "markdown",
   "metadata": {},
   "source": [
    "## 너비 우선 탐색 (Breadth-First Search)\n",
    "\n",
    "### 1. BFS와 DFS란?\n",
    "\n",
    "* 대표적인 그래프 탐색 알고리즘\n",
    "  * 너비 우선 탐색: 정점들과 같은 레벨에 있는 노드들 (형제 노드들)을 먼저 탐색하는 방식\n",
    "  * 깊이 우선 탐색: 정점의 자식들을 먼저 탐색하는 방식\n",
    "* 왼쪽, 오른쪽 순서는 상관 없음"
   ]
  },
  {
   "cell_type": "markdown",
   "metadata": {},
   "source": [
    "### BFS/DFS 방식 이해를 위한 예제"
   ]
  },
  {
   "cell_type": "code",
   "execution_count": 7,
   "metadata": {},
   "outputs": [],
   "source": [
    "graph = dict()\n",
    "\n",
    "graph[\"A\"] = [\"B\", \"C\"]\n",
    "graph[\"B\"] = [\"A\", \"D\"]\n",
    "graph[\"C\"] = [\"A\", \"G\", \"H\", \"I\"]\n",
    "graph[\"D\"]= [\"B\", \"E\", \"F\"]\n",
    "graph[\"E\"]= [\"D\"]\n",
    "graph[\"F\"]= [\"D\"]\n",
    "graph[\"G\"]= [\"C\"]\n",
    "graph[\"H\"]= [\"C\"]\n",
    "graph[\"I\"]= [\"C\", \"J\"]\n",
    "graph[\"J\"]= [\"I\"]"
   ]
  },
  {
   "cell_type": "code",
   "execution_count": 8,
   "metadata": {},
   "outputs": [
    {
     "data": {
      "text/plain": [
       "{'A': ['B', 'C'],\n",
       " 'B': ['A', 'D'],\n",
       " 'C': ['A', 'G', 'H', 'I'],\n",
       " 'D': ['B', 'E', 'F'],\n",
       " 'E': ['D'],\n",
       " 'F': ['D'],\n",
       " 'G': ['C'],\n",
       " 'H': ['C'],\n",
       " 'I': ['C', 'J'],\n",
       " 'J': ['I']}"
      ]
     },
     "execution_count": 8,
     "metadata": {},
     "output_type": "execute_result"
    }
   ],
   "source": [
    "graph"
   ]
  },
  {
   "cell_type": "markdown",
   "metadata": {},
   "source": [
    "### BFS 알고리즘 구현"
   ]
  },
  {
   "cell_type": "code",
   "execution_count": 30,
   "metadata": {},
   "outputs": [],
   "source": [
    "## BFS 직접 구현\n",
    "def bfs(graph, start_node):\n",
    "    visited = []\n",
    "    need_visit = []\n",
    "\n",
    "    need_visit.append(start_node)\n",
    "\n",
    "    while len(need_visit) >= 1:\n",
    "        value = need_visit[0]\n",
    "        del need_visit[0]\n",
    "\n",
    "        if value not in visited:\n",
    "            visited.append(value)\n",
    "            need_visit.extend(graph[value])\n",
    "    \n",
    "    return visited"
   ]
  },
  {
   "cell_type": "code",
   "execution_count": 41,
   "metadata": {},
   "outputs": [],
   "source": [
    "## BFS 구현\n",
    "def bfs(graph, start_node):\n",
    "    visited = []\n",
    "    need_visit = []\n",
    "    \n",
    "    need_visit.append(start_node)\n",
    "    \n",
    "    while need_visit:\n",
    "        node = need_visit.pop(0)\n",
    "        if node not in visited:\n",
    "            visited.append(node)\n",
    "            need_visit.extend(graph[node])\n",
    "    \n",
    "    return visited"
   ]
  },
  {
   "cell_type": "code",
   "execution_count": 42,
   "metadata": {},
   "outputs": [
    {
     "data": {
      "text/plain": [
       "['A', 'B', 'C', 'D', 'G', 'H', 'I', 'E', 'F', 'J']"
      ]
     },
     "execution_count": 42,
     "metadata": {},
     "output_type": "execute_result"
    }
   ],
   "source": [
    "bfs(graph, \"A\")"
   ]
  },
  {
   "cell_type": "markdown",
   "metadata": {},
   "source": [
    "## 시간복잡도"
   ]
  },
  {
   "cell_type": "markdown",
   "metadata": {},
   "source": [
    "* 일반적인 BFS 시간 복잡도\n",
    "    * 노드 수: V\n",
    "    * 간선 수: E\n",
    "        * 위 코드에서 while heed_visit은 V + E 번만큼 수행함\n",
    "    * 시간 복잡도: O(V + E)"
   ]
  }
 ],
 "metadata": {
  "kernelspec": {
   "display_name": "Python 3",
   "language": "python",
   "name": "python3"
  },
  "language_info": {
   "codemirror_mode": {
    "name": "ipython",
    "version": 3
   },
   "file_extension": ".py",
   "mimetype": "text/x-python",
   "name": "python",
   "nbconvert_exporter": "python",
   "pygments_lexer": "ipython3",
   "version": "3.7.3"
  }
 },
 "nbformat": 4,
 "nbformat_minor": 4
}
