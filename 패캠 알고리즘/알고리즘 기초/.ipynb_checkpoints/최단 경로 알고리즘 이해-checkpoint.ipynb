{
 "cells": [
  {
   "cell_type": "markdown",
   "metadata": {},
   "source": [
    "### 최단 경로 문제란?\n",
    "* 최단 경로 문제란 두 노드를 잇는 가장 짧으 경로를 찾는 문제임\n",
    "* 가중치 그래프에서 간선의 가중치 합이 최소가 되도록 하는 경로를 찾는 것이 목적"
   ]
  },
  {
   "cell_type": "markdown",
   "metadata": {},
   "source": [
    "### 최단 경로 문제 종류\n",
    "1. 단일 출발 및 단일 도착 최단 경로 문제\n",
    "  * 그래프 내의 특정 노드 u에서 출발, 또 다른 특정 노드 v에 도착하는 가장 짧은 경로를 찾는 문제\n",
    "2. 단일 출발 최단 경로 문제\n",
    "  * 그래프 내의 특정 노드 u와 그래프 내 다른 모든 노드 각각의 가장 짧은 경로를 찾는 문제\n",
    "3. 전체 쌍 최단 경로: 그래프 내의 모든 노드 쌍(u, v)에 대한 최단 경로를 찾는 문제"
   ]
  },
  {
   "cell_type": "markdown",
   "metadata": {},
   "source": [
    "### 2. 최단 경로 알고리즘 - 다익스트라 알고리즘\n",
    "* 다익스트라 알고리즘은 위의 최단 경로 문제 종류 중, 2번에 해당\n",
    "  * 하나의 정점에서 다른 모든 정점 간의 각각 가장 짧은 거리를 구하는 문제"
   ]
  },
  {
   "cell_type": "markdown",
   "metadata": {},
   "source": [
    "### 다익스트라 알고리즘 로직\n",
    "* 첫 정점을 기준으로 연결되어 있는 정점들을 추가해 가며, 최단거리를 갱신하는 기법\n",
    "* 다익스트라 알고리즘은 너비우선탐색과 유사\n",
    "  * 첫 정점부터 각 노드간의 거리를 저장하는 배열을 만든 후, 첫 정점의 인접 노드 간의 거리부터 먼저 계산하면서 업데이트"
   ]
  },
  {
   "cell_type": "markdown",
   "metadata": {},
   "source": [
    "### 가장 개선된 다익스트라 알고리즘: 우선순위 큐 사용\n",
    "* 우선순위 큐 사용 장점\n",
    "  * 지금까지 발견된 가장 짧은 거리의 노드에 대해서 먼저 계산\n",
    "  * 더 긴 거리로계산된 루트에 대해서는 계산을 스킵할 수 있음"
   ]
  },
  {
   "cell_type": "markdown",
   "metadata": {},
   "source": [
    "### 다익스트라 알고리즘 구현 (우선순위 큐 활용 포함)"
   ]
  },
  {
   "cell_type": "markdown",
   "metadata": {},
   "source": [
    "#### 기초"
   ]
  },
  {
   "cell_type": "code",
   "execution_count": 1,
   "metadata": {},
   "outputs": [],
   "source": [
    "import heapq"
   ]
  },
  {
   "cell_type": "code",
   "execution_count": 2,
   "metadata": {},
   "outputs": [],
   "source": [
    "queue = [] # 최소힙의 구조를 가진 우선순위 큐를 만듦\n",
    "\n",
    "heapq.heappush(queue, [2, 'A'])\n",
    "heapq.heappush(queue, [5, 'B'])\n",
    "heapq.heappush(queue, [1, 'C'])\n",
    "heapq.heappush(queue, [7, 'D'])"
   ]
  },
  {
   "cell_type": "code",
   "execution_count": 4,
   "metadata": {},
   "outputs": [
    {
     "name": "stdout",
     "output_type": "stream",
     "text": [
      "[[1, 'C'], [5, 'B'], [2, 'A'], [7, 'D']]\n",
      "[1, 'C']\n",
      "[2, 'A']\n",
      "[5, 'B']\n",
      "[7, 'D']\n"
     ]
    }
   ],
   "source": [
    "print(queue)\n",
    "for index in range(len(queue)):\n",
    "    print(heapq.heappop(queue))"
   ]
  },
  {
   "cell_type": "code",
   "execution_count": 7,
   "metadata": {},
   "outputs": [],
   "source": [
    "mygraph = {\n",
    "    'A': {\"B\": 8, \"C\": 1, \"D\": 2},\n",
    "    'B': {},\n",
    "    'C': {'B': 5, 'D': 2},\n",
    "    'D': {'E': 3, 'F': 5},\n",
    "    'E': {'F': 1},\n",
    "    'F': {'A': 5}\n",
    "}"
   ]
  },
  {
   "cell_type": "code",
   "execution_count": 39,
   "metadata": {},
   "outputs": [],
   "source": [
    "## 다익스트라 알고리즘 직접 구현\n",
    "import numpy as np\n",
    "import heapq\n",
    "\n",
    "\n",
    "def dstra(mygraph, start_node):\n",
    "    min_distance_dict = {\"A\": np.inf, \"B\": np.inf, \"C\": np.inf,\n",
    "                         \"B\": np.inf, \"C\": np.inf, \"D\": np.inf,\n",
    "                         \"E\": np.inf, \"F\": np.inf}\n",
    "    queue = []\n",
    "    heapq.heappush(queue, [0, start_node])\n",
    "    min_distance_dict[start_node] = 0\n",
    "    \n",
    "    while len(queue) > 0:\n",
    "        current = heapq.heappop(queue)\n",
    "        if current[0] <= min_distance_dict[current[1]] or current[1] == start_node:\n",
    "            for node, distance in mygraph[current[1]].items():\n",
    "                if current[0] + distance < min_distance_dict[node]:\n",
    "                    min_distance_dict[node] = current[0] + distance\n",
    "                    heapq.heappush(queue, [current[0] + distance, node])\n",
    "    return min_distance_dict"
   ]
  },
  {
   "cell_type": "code",
   "execution_count": 47,
   "metadata": {},
   "outputs": [],
   "source": [
    "## 다익스트라 알고리즘 직접 구현2\n",
    "import heapq\n",
    "\n",
    "\n",
    "def dstra(mygraph, start_node):\n",
    "    min_distance_dict = {node: float(\"inf\") for node in mygraph}\n",
    "    queue = []\n",
    "    heapq.heappush(queue, [0, start_node])\n",
    "    min_distance_dict[start_node] = 0\n",
    "    \n",
    "    while queue:\n",
    "        current = heapq.heappop(queue)\n",
    "        if current[0] <= min_distance_dict[current[1]] or current[1] == start_node:\n",
    "            for node, distance in mygraph[current[1]].items():\n",
    "                total_distance = current[0] + distance\n",
    "                if total_distance < min_distance_dict[node]:\n",
    "                    min_distance_dict[node] = total_distance\n",
    "                    heapq.heappush(queue, [total_distance, node])\n",
    "    return min_distance_dict"
   ]
  },
  {
   "cell_type": "code",
   "execution_count": 48,
   "metadata": {},
   "outputs": [
    {
     "data": {
      "text/plain": [
       "{'A': 0, 'B': 6, 'C': 1, 'D': 2, 'E': 5, 'F': 6}"
      ]
     },
     "execution_count": 48,
     "metadata": {},
     "output_type": "execute_result"
    }
   ],
   "source": [
    "dstra(mygraph, 'A')"
   ]
  },
  {
   "cell_type": "code",
   "execution_count": 59,
   "metadata": {},
   "outputs": [],
   "source": [
    "import heapq\n",
    "\n",
    "def dijkstra(graph, start):\n",
    "    distances = {node: float('inf') for node in graph}\n",
    "    distances[start] = 0    \n",
    "    queue = []\n",
    "    heapq.heappush(queue, [distances[start], start])\n",
    "\n",
    "    while queue:\n",
    "        current_distance, current_node = heapq.heappop(queue)\n",
    "        \n",
    "        if distances[current_node] < current_distance:\n",
    "            continue\n",
    "        \n",
    "        for adjacent, weight in graph[current_node].items():\n",
    "            distance = current_distance + weight\n",
    "\n",
    "            if distance < distances[adjacent]:\n",
    "                distances[adjacent] = distance\n",
    "                heapq.heappush(queue, [distance, adjacent])\n",
    "    return distances"
   ]
  },
  {
   "cell_type": "code",
   "execution_count": 60,
   "metadata": {},
   "outputs": [
    {
     "data": {
      "text/plain": [
       "{'A': 0, 'B': 6, 'C': 1, 'D': 2, 'E': 5, 'F': 6}"
      ]
     },
     "execution_count": 60,
     "metadata": {},
     "output_type": "execute_result"
    }
   ],
   "source": [
    "dijkstra(mygraph, \"A\")"
   ]
  },
  {
   "cell_type": "markdown",
   "metadata": {},
   "source": [
    "## 시간 복잡도"
   ]
  },
  {
   "cell_type": "markdown",
   "metadata": {},
   "source": [
    "* 과정1: 각 노드마다 인접한 간선들을 모두 검사하는 과정\n",
    "* 과정2: 우선순위 큐에 노드/거리 정보를 넣고 삭제(pop)하는 과정"
   ]
  },
  {
   "cell_type": "markdown",
   "metadata": {},
   "source": [
    "* 과정1에서 각 노드는 최대 한 번씩 방문하므로, 그래프의 모든 간선은 최대 한 번씩 검사함\n",
    "  * 즉, 각 노드마다 인접한 간선들을 모두 검사하는 과정은 O(E) 시간이 걸림, E는 간선 (edge)의 약자\n",
    "* 과정2에서 우선순위 큐에 가장 많은 노드, 거리 정보가 들어가는 경우, 우선순위큐에 노드/거리 정보를 넣고, 삭제하는 과정이 최악의 시간이 걸림.\n",
    "  * 우선순위 큐에 가장 많은 노드, 거리 정보가 들어가는 시나리오는 그래프의 모든 간선이 검사될 때마다, 배열의 최단 거리가 갱신되고, 우선순위 큐에 노드/거리가 추가되는 것임\n",
    "  * 이 때 추가는 각 간선마다 최대 한 번 일어날 수 있으므로, 최대 O(E)의 시간이 걸리고, O(E) 개의 노드/거리 정보에 대해 우선순위 큐를 유지하는 작업은 $O(logE$)가 걸림\n",
    "  * 따라서 해당 과정의 시간 복잡도는 $O(ElogE$)\n"
   ]
  },
  {
   "cell_type": "markdown",
   "metadata": {},
   "source": [
    "### 총 시간 복잡도\n",
    "* 과정1 + 과정2 = $O(E)$ + $O(ElogE$) = $O(E + ElogE$) = $O(ElogE$)"
   ]
  }
 ],
 "metadata": {
  "kernelspec": {
   "display_name": "Python 3",
   "language": "python",
   "name": "python3"
  },
  "language_info": {
   "codemirror_mode": {
    "name": "ipython",
    "version": 3
   },
   "file_extension": ".py",
   "mimetype": "text/x-python",
   "name": "python",
   "nbconvert_exporter": "python",
   "pygments_lexer": "ipython3",
   "version": "3.7.3"
  }
 },
 "nbformat": 4,
 "nbformat_minor": 4
}
