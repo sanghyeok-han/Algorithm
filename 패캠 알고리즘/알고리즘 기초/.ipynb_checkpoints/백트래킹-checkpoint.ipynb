{
 "cells": [
  {
   "cell_type": "markdown",
   "metadata": {},
   "source": [
    "### 1. 백 트래킹 (backtracking)\n",
    "- 백트래킹 (backtracking) 또는 퇴각 검색 (backtrack)으로 부름\n",
    "- 제약 조건 만족 문제 (Constraint Satisfaction Problem) 에서 해를 찾기 위한 전략\n",
    "  - 해를 찾기 위해, 후보군에 제약 조건을 점진적으로 체크하다가, 해당 후보군이 제약 조건을 만족할 수 없다고 판단되는 즉시 backtrack (다시는 이 후보군을 체크하지 않을 것을 표기)하고, 바로 다른 후보군으로 넘어가며, 결국 최적의 해를 찾는 방법\n",
    "- 실제 구현시, 고려할 수 있는 모든 경우의 수 (후보군)를 상태공간트리(State Space Tree)를 통해 표현\n",
    "  - 각 후보군을 DFS 방식으로 확인\n",
    "  - 상태 공간 트리를 탐색하면서, 제약이 맞지 않으면 해의 후보가 될만한 곳으로 바로 넘어가서 탐색\n",
    "    - Promising: 해당 루트가 조건에 맞는지를 검사하는 기법\n",
    "    - Pruning (가지치기): 조건에 맞지 않으면 포기하고 다른 루트로 바로 돌아서서, 탐색의 시간을 절약하는 기법\n",
    "\n",
    "> 즉, 백트래킹은 트리 구조를 기반으로 DFS로 깊이 탐색을 진행하면서 각 루트에 대해 조건에 부합하는지 체크(Promising), 만약 해당 트리(나무)에서 조건에 맞지않는 노드는 더 이상 DFS로 깊이 탐색을 진행하지 않고, 가지를 쳐버림 (Pruning)"
   ]
  },
  {
   "cell_type": "markdown",
   "metadata": {},
   "source": [
    "## 상태 공간 트리 (State Space Tree)\n",
    "\n",
    "* 문제 해결 과정의 중간 상태를 각각의 노드로 나타낸 트리"
   ]
  },
  {
   "cell_type": "code",
   "execution_count": 139,
   "metadata": {},
   "outputs": [],
   "source": [
    "## N Queens 문제 직접 구현\n",
    "\n",
    "def n_queens(n):  \n",
    "    stack = [(0, i) for i in range(n-1, -1, -1)]\n",
    "    tree = []\n",
    "    former_value = (0, 0)\n",
    "    while stack:\n",
    "        value = stack.pop()\n",
    "        if value[0] < former_value[0]:\n",
    "            tree.pop()\n",
    "\n",
    "        diagonal_pass = True\n",
    "        for node in tree:\n",
    "            axis0_diff = value[0] - node[0]\n",
    "            axis1_diff = value[1] - node[1]\n",
    "\n",
    "            if axis0_diff == abs(axis1_diff):\n",
    "                diagonal_pass = False\n",
    "\n",
    "        if value[1] in [v[1] for v in tree] or value[0] in [v[0] for v in tree] or not diagonal_pass:\n",
    "            continue\n",
    "\n",
    "        tree.append(value)\n",
    "        if len(tree) == n:\n",
    "            return tree\n",
    "        stack.extend(reversed([(len(tree), i) for i in range(0, n)]))\n",
    "        \n",
    "        former_value = value\n",
    "            \n",
    "    return \"No result\""
   ]
  },
  {
   "cell_type": "code",
   "execution_count": 140,
   "metadata": {},
   "outputs": [
    {
     "name": "stdout",
     "output_type": "stream",
     "text": [
      "No result\n",
      "[(0, 2), (1, 0), (2, 3), (3, 1)]\n",
      "[(0, 0), (1, 2), (2, 4), (3, 1), (4, 3)]\n",
      "[(0, 3), (1, 0), (2, 4), (3, 1), (4, 5), (5, 2)]\n",
      "[(0, 1), (1, 4), (2, 0), (3, 3), (4, 6), (5, 2), (6, 5)]\n"
     ]
    }
   ],
   "source": [
    "print(n_queens(3))\n",
    "print(n_queens(4))\n",
    "print(n_queens(5))\n",
    "print(n_queens(6))\n",
    "print(n_queens(7))"
   ]
  },
  {
   "cell_type": "code",
   "execution_count": 141,
   "metadata": {},
   "outputs": [],
   "source": [
    "## N Queens 문제 구현\n",
    "\n",
    "def is_available(candidate, candidate_col):\n",
    "    current_row = len(candidate)     \n",
    "    for queen_row in range(current_row):\n",
    "        if candidate[queen_row] == candidate_col or abs(candidate[queen_row] - candidate_col) == current_row - queen_row:\n",
    "            return False\n",
    "    return True\n",
    "\n",
    "\n",
    "def DFS(N, current_row, current_candidate, final_result):\n",
    "    if current_row == N:\n",
    "        final_result.append(current_candidate[:])\n",
    "        return\n",
    "    \n",
    "    for candidate_col in range(N):\n",
    "        if is_available(current_candidate, candidate_col):\n",
    "            current_candidate.append(candidate_col)\n",
    "            DFS(N, current_row + 1, current_candidate, final_result)\n",
    "            current_candidate.pop()\n",
    "\n",
    "def solve_n_queens(N):\n",
    "    final_result = []\n",
    "    DFS(N, 0, [], final_result)\n",
    "    return final_result    "
   ]
  },
  {
   "cell_type": "code",
   "execution_count": 143,
   "metadata": {},
   "outputs": [
    {
     "data": {
      "text/plain": [
       "[[1, 3, 0, 2], [2, 0, 3, 1]]"
      ]
     },
     "execution_count": 143,
     "metadata": {},
     "output_type": "execute_result"
    }
   ],
   "source": [
    "solve_n_queens(4)"
   ]
  }
 ],
 "metadata": {
  "kernelspec": {
   "display_name": "Python 3",
   "language": "python",
   "name": "python3"
  },
  "language_info": {
   "codemirror_mode": {
    "name": "ipython",
    "version": 3
   },
   "file_extension": ".py",
   "mimetype": "text/x-python",
   "name": "python",
   "nbconvert_exporter": "python",
   "pygments_lexer": "ipython3",
   "version": "3.7.3"
  }
 },
 "nbformat": 4,
 "nbformat_minor": 4
}
