{
 "cells": [
  {
   "cell_type": "markdown",
   "metadata": {},
   "source": [
    "### 1. 프림 알고리즘 (Prim's algorithm)"
   ]
  },
  {
   "cell_type": "markdown",
   "metadata": {},
   "source": [
    "* 대표적인 최소 신장 트리 알고리즘\n",
    "  * 크루스칼 알고리즘, 프림 알고리즘\n",
    "* 프림 알고리즘\n",
    "  * 시작 정점을 선택한 후, 정점에 인접한 간선중 최소 간선으로 연결된 정점을 선택하고, 해당 정점에서 다시 최소 간선으로 연결된 정점을 선택하는 방식으로 최소 신장 트리를 확장해가는 방식\n",
    "* Kruskal's algorithm과 Prim's algorithm 비교\n",
    "  * 둘 다 탐욕 알고리즘을 기초로 하고 있음 (당장 눈 앞의 최소 비용을 선택해서 결과적으로 최적의 솔루션을 찾음)\n",
    "  * Kruskal's algorithm은 가장 가중치가 작은 간선부터 선택하면서 MST를 구함\n",
    "  * Prim's algorithm은 특정 정점에서 시작, 해당 정점에 연결된 가장 가중치가 작은 간선을 선택, 간선으로 연결된 정점들에 연결된 간선 중에서 가장 가중치가 작은 간선을 택하는 방식으로 MST를 구함"
   ]
  },
  {
   "cell_type": "code",
   "execution_count": 11,
   "metadata": {},
   "outputs": [],
   "source": [
    "mygraph = {\n",
    "    'vertices': ['A', \"B\", \"C\", \"D\", \"E\", \"F\", \"G\"],\n",
    "    'edges': [(7, 'A', 'B'),\n",
    "              (5, 'A', 'D'),\n",
    "              (7, 'B', 'A'),\n",
    "              (8, 'B', 'C'),\n",
    "              (9, 'B', 'D'),\n",
    "              (7, 'B', 'E'),\n",
    "              (8, 'C', 'B'),\n",
    "              (5, 'C', 'E'),\n",
    "              (5, 'D', 'A'),\n",
    "              (9, 'D', 'B'),\n",
    "              (7, 'D', 'E'),\n",
    "              (6, 'D', 'F'),\n",
    "              (5, 'E', 'C'),\n",
    "              (7, 'E', 'D'),\n",
    "              (8, 'E', 'F'),\n",
    "              (9, 'E', 'G'),\n",
    "              (6, 'F', 'D'),\n",
    "              (8, 'F', 'E'),\n",
    "              (11, 'F', 'G'),\n",
    "              (9, 'G', 'E'),\n",
    "              (11, 'G', 'F')\n",
    "    ]\n",
    "}"
   ]
  },
  {
   "cell_type": "code",
   "execution_count": 66,
   "metadata": {},
   "outputs": [],
   "source": [
    "## 프림 알고리즘 직접 구현\n",
    "import heapq\n",
    "\n",
    "def prim(graph, start_node):\n",
    "    nodes = [start_node]\n",
    "    edges_queue = []\n",
    "    mst = []\n",
    "    for edge in graph[\"edges\"]:\n",
    "        if edge[1] == start_node:\n",
    "            heapq.heappush(edges_queue, (edge[0], [edge[1], edge[2]]))\n",
    "   \n",
    "    while edges_queue:\n",
    "        current_edge = heapq.heappop(edges_queue)\n",
    "        if current_edge[1][1] not in nodes: \n",
    "            mst.append(current_edge)\n",
    "            nodes.append(current_edge[1][1])\n",
    "            for edge in graph[\"edges\"]:\n",
    "                if edge[1] == current_edge[1][1] and edge[2] not in nodes:\n",
    "                    heapq.heappush(edges_queue, (edge[0], [edge[1], edge[2]]))\n",
    "    return mst"
   ]
  },
  {
   "cell_type": "code",
   "execution_count": 67,
   "metadata": {},
   "outputs": [
    {
     "data": {
      "text/plain": [
       "[(5, ['A', 'D']),\n",
       " (6, ['D', 'F']),\n",
       " (7, ['A', 'B']),\n",
       " (7, ['B', 'E']),\n",
       " (5, ['E', 'C']),\n",
       " (9, ['E', 'G'])]"
      ]
     },
     "execution_count": 67,
     "metadata": {},
     "output_type": "execute_result"
    }
   ],
   "source": [
    "prim(mygraph, \"A\")"
   ]
  },
  {
   "cell_type": "code",
   "execution_count": 27,
   "metadata": {},
   "outputs": [
    {
     "name": "stdout",
     "output_type": "stream",
     "text": [
      "[2, 'A']\n",
      "[3, 'C']\n",
      "[5, 'B']\n",
      "[]\n"
     ]
    }
   ],
   "source": [
    "# heap 연습1\n",
    "import heapq\n",
    "\n",
    "queue = []\n",
    "graph_data = [[2, 'A'], [5, 'B'], [3, 'C']]\n",
    "\n",
    "for edge in graph_data:\n",
    "    heapq.heappush(queue, edge)\n",
    "    \n",
    "for index in range(len(queue)):\n",
    "    print(heapq.heappop(queue))\n",
    "    \n",
    "print(queue)"
   ]
  },
  {
   "cell_type": "code",
   "execution_count": 28,
   "metadata": {},
   "outputs": [
    {
     "name": "stdout",
     "output_type": "stream",
     "text": [
      "[2, 'A']\n",
      "[3, 'C']\n",
      "[5, 'B']\n",
      "[]\n"
     ]
    }
   ],
   "source": [
    "# heap 연습2\n",
    "import heapq\n",
    "\n",
    "graph_data = [[2, 'A'], [5, 'B'], [3, 'C']]\n",
    "heapq.heapify(graph_data)\n",
    "\n",
    "for index in range(len(graph_data)):\n",
    "    print(heapq.heappop(graph_data))\n",
    "    \n",
    "print(graph_data)"
   ]
  },
  {
   "cell_type": "code",
   "execution_count": 53,
   "metadata": {},
   "outputs": [
    {
     "name": "stdout",
     "output_type": "stream",
     "text": [
      "[]\n"
     ]
    }
   ],
   "source": [
    "from collections import defaultdict\n",
    "\n",
    "list_dict = defaultdict(list)\n",
    "print(list_dict['key1'])"
   ]
  },
  {
   "cell_type": "code",
   "execution_count": 54,
   "metadata": {},
   "outputs": [
    {
     "data": {
      "text/plain": [
       "defaultdict(list, {'key1': []})"
      ]
     },
     "execution_count": 54,
     "metadata": {},
     "output_type": "execute_result"
    }
   ],
   "source": [
    "list_dict"
   ]
  },
  {
   "cell_type": "code",
   "execution_count": 59,
   "metadata": {},
   "outputs": [],
   "source": [
    "myedges = [(7, 'A', 'B'),\n",
    "          (5, 'A', 'D'),\n",
    "          (8, 'B', 'C'),\n",
    "          (9, 'B', 'D'),\n",
    "          (7, 'B', 'E'),\n",
    "          (5, 'C', 'E'),\n",
    "          (7, 'D', 'E'),\n",
    "          (6, 'D', 'F'),\n",
    "          (8, 'E', 'F'),\n",
    "          (9, 'E', 'G'),\n",
    "          (11, 'F', 'G')\n",
    "]"
   ]
  },
  {
   "cell_type": "code",
   "execution_count": 68,
   "metadata": {},
   "outputs": [],
   "source": [
    "## 프림 알고리즘 구현\n",
    "from collections import defaultdict\n",
    "from heapq import *\n",
    "\n",
    "def prim(start_node, edges):\n",
    "    mst = list()\n",
    "    adjacent_edges = defaultdict(list)\n",
    "    for weight, n1, n2 in edges:\n",
    "        adjacent_edges[n1].append((weight, n1, n2))\n",
    "        adjacent_edges[n2].append((weight, n2, n1))\n",
    "    \n",
    "    connected_nodes = set(start_node)\n",
    "    candidate_edge_list = adjacent_edges[start_node]\n",
    "    heapify(candidate_edge_list)\n",
    "    \n",
    "    while candidate_edge_list:\n",
    "        weight, n1, n2 = heappop(candidate_edge_list)\n",
    "        \n",
    "        if n2 not in connected_nodes:\n",
    "            connected_nodes.add(n2)\n",
    "            mst.append((weight, n1, n2))\n",
    "            \n",
    "            for edge in adjacent_edges[n2]:\n",
    "                if edge[2] not in connected_nodes:\n",
    "                    heappush(candidate_edge_list, edge)\n",
    "    return mst"
   ]
  },
  {
   "cell_type": "code",
   "execution_count": 69,
   "metadata": {},
   "outputs": [
    {
     "data": {
      "text/plain": [
       "[(5, 'A', 'D'),\n",
       " (6, 'D', 'F'),\n",
       " (7, 'A', 'B'),\n",
       " (7, 'B', 'E'),\n",
       " (5, 'E', 'C'),\n",
       " (9, 'E', 'G')]"
      ]
     },
     "execution_count": 69,
     "metadata": {},
     "output_type": "execute_result"
    }
   ],
   "source": [
    "prim(\"A\", myedges)"
   ]
  },
  {
   "cell_type": "markdown",
   "metadata": {},
   "source": [
    "### 시간 복잡도\n",
    "* 최악의 경우, while 구문에서 모든 간선에 대해 반복하고, 최소 힙 구조를 사용하므로 $O(ElogE)$ 시간 복잡도를 가짐"
   ]
  },
  {
   "cell_type": "markdown",
   "metadata": {},
   "source": [
    "### 참고: 개선된 프림 알고리즘\n",
    "\n",
    "* 간선이 아닌 노드를 중심으로 우선순위 큐를 적용하는 방식\n",
    "  * 초기화 - 정점: key 구조를 만들어놓고, 특정 정점의 key 값을 0, 이외의 정점들의 key값은 무한대로 놓음. 모든 정점: key 값은 우선순위 큐에 놓음\n",
    "  * 가장 key 값이 적은 정점: key를 추출한 후 (pop 하므로 해당 정점: key 정보는 우선순위 큐에서 삭제됨), (extract min 로직이라고 부름)\n",
    "  * 해당 정점의 인접한 정점들에 대해 key 값과 연결된 가중치 값을 비교하여 key 값이 작으면 해당 정점:key 값을 갱신\n",
    "    * 정점: key 값 갱신시, 우선순위 큐는 최소 key 값을 가지는 정점: key를 루트노드로 올려놓도록 재구성함 (decrease key 로직이라고 부름)"
   ]
  },
  {
   "cell_type": "code",
   "execution_count": 12,
   "metadata": {},
   "outputs": [],
   "source": [
    "mygraph = {\n",
    "    'A': {'B': 7, 'D': 5},\n",
    "    'B': {'A': 7, 'D': 9, 'C': 8, 'E': 7},\n",
    "    'C': {'B': 8, 'E': 5},\n",
    "    'D': {'A': 5, 'B': 9, 'E': 7, 'F': 6},\n",
    "    'E': {'B': 7, 'C': 5, 'D': 7, 'F': 8, 'G': 9},\n",
    "    'F': {'D': 6, 'E': 8, 'G': 11},\n",
    "    'G': {'E': 9, 'F': 11}    \n",
    "}"
   ]
  },
  {
   "cell_type": "code",
   "execution_count": 26,
   "metadata": {},
   "outputs": [],
   "source": [
    "from heapdict import heapdict\n",
    "\n",
    "def prim(graph, start):\n",
    "    mst, keys, pi, total_weight = list(), heapdict(), dict(), 0\n",
    "    for node in graph.keys():\n",
    "        keys[node] = float('inf')\n",
    "        pi[node] = None\n",
    "    keys[start], pi[start] = 0, start\n",
    "    \n",
    "    while keys:\n",
    "        current_node, current_key = keys.popitem()\n",
    "        mst.append([pi[current_node], current_node, current_key])\n",
    "        total_weight += current_key\n",
    "        for adjacent, weight in graph[current_node].items():\n",
    "            if adjacent in keys and weight < keys[adjacent]:\n",
    "                keys[adjacent] = weight\n",
    "                pi[adjacent] = current_node\n",
    "    return mst, total_weight"
   ]
  },
  {
   "cell_type": "code",
   "execution_count": 27,
   "metadata": {},
   "outputs": [
    {
     "data": {
      "text/plain": [
       "([['A', 'A', 0],\n",
       "  ['A', 'D', 5],\n",
       "  ['D', 'F', 6],\n",
       "  ['A', 'B', 7],\n",
       "  ['D', 'E', 7],\n",
       "  ['E', 'C', 5],\n",
       "  ['E', 'G', 9]],\n",
       " 39)"
      ]
     },
     "execution_count": 27,
     "metadata": {},
     "output_type": "execute_result"
    }
   ],
   "source": [
    "prim(mygraph, \"A\")"
   ]
  },
  {
   "cell_type": "markdown",
   "metadata": {},
   "source": [
    "###  개선된 프림 알고리즘의 시간 복잡도: $O(ElogV)$"
   ]
  },
  {
   "cell_type": "markdown",
   "metadata": {},
   "source": [
    "* $O(V) + O(VlogV) + O(ElogV)$ -> 상대적으로 영향력이 적은 $O(V)$와 $O(VlogV)$를 제거하면 결과적으로 $O(ElogV)$"
   ]
  }
 ],
 "metadata": {
  "kernelspec": {
   "display_name": "Python 3",
   "language": "python",
   "name": "python3"
  },
  "language_info": {
   "codemirror_mode": {
    "name": "ipython",
    "version": 3
   },
   "file_extension": ".py",
   "mimetype": "text/x-python",
   "name": "python",
   "nbconvert_exporter": "python",
   "pygments_lexer": "ipython3",
   "version": "3.7.3"
  }
 },
 "nbformat": 4,
 "nbformat_minor": 4
}
