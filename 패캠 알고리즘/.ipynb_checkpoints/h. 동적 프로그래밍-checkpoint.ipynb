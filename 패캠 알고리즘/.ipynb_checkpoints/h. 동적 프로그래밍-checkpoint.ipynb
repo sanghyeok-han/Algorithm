{
 "cells": [
  {
   "cell_type": "markdown",
   "metadata": {},
   "source": [
    "### 01 타일 1904"
   ]
  },
  {
   "cell_type": "markdown",
   "metadata": {},
   "source": [
    "4:35"
   ]
  },
  {
   "cell_type": "code",
   "execution_count": 2,
   "metadata": {},
   "outputs": [
    {
     "name": "stdout",
     "output_type": "stream",
     "text": [
      "10\n",
      "89\n"
     ]
    }
   ],
   "source": [
    "# 시간 초과\n",
    "n = int(input())\n",
    "\n",
    "if n <= 2:\n",
    "    print(n)\n",
    "else:  \n",
    "    a = 1\n",
    "    b = 2\n",
    "    for i in range(3, n + 1):\n",
    "        a, b = b, a + b\n",
    "    print(b % 15746)"
   ]
  },
  {
   "cell_type": "code",
   "execution_count": 10,
   "metadata": {},
   "outputs": [
    {
     "name": "stdout",
     "output_type": "stream",
     "text": [
      "1000000\n",
      "7871\n"
     ]
    }
   ],
   "source": [
    "# 시간 초과\n",
    "n = int(input())\n",
    "\n",
    "li = [0, 1, 2]\n",
    "if n <= 2:\n",
    "    print(li[n])\n",
    "else:  \n",
    "    for i in range(3, n + 1):\n",
    "        li.append(li.pop(-2) + li[-1])\n",
    "    print(li[-1] % 15746)"
   ]
  },
  {
   "cell_type": "code",
   "execution_count": 11,
   "metadata": {},
   "outputs": [
    {
     "name": "stdout",
     "output_type": "stream",
     "text": [
      "7871\n"
     ]
    }
   ],
   "source": [
    "# 예시 정답\n",
    "dp = [0] * 1000001\n",
    "dp[1] = 1\n",
    "dp[2] = 2\n",
    "\n",
    "for i in range(3, n + 1):\n",
    "    dp[i] = (dp[i - 2] + dp[i - 1]) % 15746\n",
    "    \n",
    "print(dp[n])"
   ]
  },
  {
   "cell_type": "code",
   "execution_count": 15,
   "metadata": {},
   "outputs": [
    {
     "name": "stdout",
     "output_type": "stream",
     "text": [
      "1000000\n",
      "7871\n"
     ]
    }
   ],
   "source": [
    "n = int(input())\n",
    "\n",
    "li = [0] * 1000001\n",
    "li[1:3] = [1, 2]\n",
    "\n",
    "for i in range(3, n + 1):\n",
    "    li[i] = (li[i - 2] + li[i - 1]) % 15746\n",
    "    \n",
    "print(li[n])"
   ]
  },
  {
   "cell_type": "markdown",
   "metadata": {},
   "source": [
    "### 평범한 배낭 12865"
   ]
  },
  {
   "cell_type": "code",
   "execution_count": 16,
   "metadata": {},
   "outputs": [
    {
     "name": "stdout",
     "output_type": "stream",
     "text": [
      "4 7\n",
      "6 13\n",
      "4 8\n",
      "3 6\n",
      "5 12\n",
      "12\n"
     ]
    }
   ],
   "source": [
    "# 최적 값 안나옴\n",
    "n, k = map(int, input().split())\n",
    "li = []\n",
    "\n",
    "for _ in range(n):\n",
    "    w, v = map(int, input().split())\n",
    "    li.append((w, v))\n",
    "\n",
    "li = sorted(li, key=lambda x: x[1] / x[0], reverse=True)\n",
    "\n",
    "remain_weight = k\n",
    "current_value = 0\n",
    "for w, v in li:\n",
    "    if w < remain_weight:\n",
    "        current_value += v\n",
    "        remain_weight -= w\n",
    "        \n",
    "print(current_value)"
   ]
  },
  {
   "cell_type": "code",
   "execution_count": 24,
   "metadata": {},
   "outputs": [
    {
     "name": "stdout",
     "output_type": "stream",
     "text": [
      "4 7\n",
      "6 13\n",
      "4 8\n",
      "3 6\n",
      "5 12\n",
      "14\n"
     ]
    }
   ],
   "source": [
    "# 예시 정답 반영 작성\n",
    "n, k = map(int, input().split())\n",
    "li = [[0] * (k + 1) for _ in range(n + 1)]\n",
    "\n",
    "for i in range(1, n + 1):\n",
    "    w, v = map(int, input().split())\n",
    "    for j in range(1, k + 1):\n",
    "        if j >= w:\n",
    "            c = v + li[i - 1][j - w]\n",
    "            if li[i - 1][j] <= c:\n",
    "                li[i][j] = c\n",
    "            else:\n",
    "                li[i][j] = li[i - 1][j]\n",
    "        else:\n",
    "            li[i][j] = li[i - 1][j]\n",
    "print(max(li[-1]))"
   ]
  },
  {
   "cell_type": "code",
   "execution_count": null,
   "metadata": {},
   "outputs": [],
   "source": [
    "# 예시 정답 반영 수정2\n",
    "n, k = map(int, input().split())\n",
    "li = [[0] * (k + 1) for _ in range(n + 1)]\n",
    "\n",
    "for i in range(1, n + 1):\n",
    "    w, v = map(int, input().split())\n",
    "    for j in range(1, k + 1):\n",
    "        if j >= w:\n",
    "            li[i][j] = max(li[i - 1][j], v + li[i - 1][j - w])\n",
    "        else:\n",
    "            li[i][j] = li[i - 1][j]\n",
    "print(max(li[-1]))"
   ]
  },
  {
   "cell_type": "code",
   "execution_count": null,
   "metadata": {},
   "outputs": [],
   "source": [
    "# 예시 정답\n",
    "n, k = map(int, input().split())\n",
    "dp = [[0] * (k + 1) for _ in range(n + 1)]\n",
    "\n",
    "for i in range(1, n + 1):\n",
    "    weight, value = map(int, input().split())\n",
    "    for j in range(1, k + 1):\n",
    "        if j < weight:\n",
    "            dp[i][j] = dp[i - 1][j]\n",
    "        else:\n",
    "            dp[i][j] = max(dp[i - 1][j], dp[i - 1][j - weight] + value)\n",
    "            \n",
    "print(dp[n][k])"
   ]
  },
  {
   "cell_type": "markdown",
   "metadata": {},
   "source": [
    "### 가장 긴 증가하는 부분 수열 11053"
   ]
  },
  {
   "cell_type": "code",
   "execution_count": 1,
   "metadata": {},
   "outputs": [],
   "source": [
    "li = [10, 20, 12, 15, 18]"
   ]
  },
  {
   "cell_type": "code",
   "execution_count": 10,
   "metadata": {},
   "outputs": [
    {
     "name": "stdout",
     "output_type": "stream",
     "text": [
      "5\n",
      "10 20 12 15 18\n",
      "10\n",
      "20\n",
      "2\n"
     ]
    }
   ],
   "source": [
    "# 예상 반례: [10, 11, 12, 13, 8, 9]\n",
    "# 예상 반례 외의 문제도 있음\n",
    "\n",
    "n = int(input())\n",
    "li = list(map(int, input().split()))\n",
    "\n",
    "if n == 1:\n",
    "    print(1)\n",
    "elif n == 2:\n",
    "    if li[0] < li[1]:\n",
    "        print(2)\n",
    "    else:\n",
    "        print(1)\n",
    "else:\n",
    "    max_value = 0\n",
    "    count = 0\n",
    "    for i in range(len(li) - 2):\n",
    "        if li[i] > max_value:\n",
    "            if len([v for v in li[i + 1:] if v < li[i] and v > max([li[i], max_value])]) < 2:\n",
    "                print(li[i])\n",
    "                max_value = li[i]\n",
    "                count += 1\n",
    "\n",
    "    for v in li[-2:]:\n",
    "        if v > max_value:\n",
    "            print(v)\n",
    "            max_value = v\n",
    "            count += 1\n",
    "\n",
    "    print(count)"
   ]
  },
  {
   "cell_type": "code",
   "execution_count": 15,
   "metadata": {},
   "outputs": [
    {
     "name": "stdout",
     "output_type": "stream",
     "text": [
      "7\n",
      "10 20 11 12 13 8 9\n",
      "4\n"
     ]
    }
   ],
   "source": [
    "n = int(input())\n",
    "li = list(map(int, input().split()))\n",
    "dp = []\n",
    "\n",
    "for v in li:\n",
    "    possible_former_values_count = [count for value, count in dp if value < v]\n",
    "    if possible_former_values_count:\n",
    "        dp.append((v, max(possible_former_values_count) + 1))\n",
    "    else:\n",
    "        dp.append((v, 1))\n",
    "        \n",
    "dp = sorted(dp, key=lambda x: x[1], reverse=True)\n",
    "print(dp[0][1])"
   ]
  },
  {
   "cell_type": "code",
   "execution_count": 16,
   "metadata": {},
   "outputs": [
    {
     "name": "stdout",
     "output_type": "stream",
     "text": [
      "7\n",
      "10 20 11 12 13 8 9\n",
      "4\n"
     ]
    }
   ],
   "source": [
    "# 예시 코드 바탕 구현\n",
    "n = int(input())\n",
    "li = list(map(int, input().split()))\n",
    "dp = [1] * n\n",
    "\n",
    "for i in range(1, n):\n",
    "    for j in range(i):\n",
    "        if li[j] < li[i]:\n",
    "            dp[i] = max(dp[i], dp[j] + 1)\n",
    "            \n",
    "print(max(dp))"
   ]
  },
  {
   "cell_type": "markdown",
   "metadata": {},
   "source": [
    "### LCS 9251"
   ]
  },
  {
   "cell_type": "code",
   "execution_count": 4,
   "metadata": {},
   "outputs": [
    {
     "data": {
      "text/plain": [
       "0"
      ]
     },
     "execution_count": 4,
     "metadata": {},
     "output_type": "execute_result"
    }
   ],
   "source": [
    "\"asdf\".index(\"a\")"
   ]
  },
  {
   "cell_type": "code",
   "execution_count": 37,
   "metadata": {},
   "outputs": [],
   "source": [
    "s1 = 'ACAYKP'\n",
    "s2 = 'CAPCAK'"
   ]
  },
  {
   "cell_type": "code",
   "execution_count": 41,
   "metadata": {},
   "outputs": [],
   "source": [
    "exception = set(s1) ^ set(s2)"
   ]
  },
  {
   "cell_type": "code",
   "execution_count": 42,
   "metadata": {},
   "outputs": [],
   "source": [
    "s1 = [v for v in s1 if v not in exception]\n",
    "s2 = [v for v in s2 if v not in exception]"
   ]
  },
  {
   "cell_type": "code",
   "execution_count": 43,
   "metadata": {},
   "outputs": [
    {
     "data": {
      "text/plain": [
       "['A', 'C', 'A', 'K', 'P']"
      ]
     },
     "execution_count": 43,
     "metadata": {},
     "output_type": "execute_result"
    }
   ],
   "source": [
    "s1"
   ]
  },
  {
   "cell_type": "code",
   "execution_count": 44,
   "metadata": {},
   "outputs": [
    {
     "data": {
      "text/plain": [
       "['C', 'A', 'P', 'C', 'A', 'K']"
      ]
     },
     "execution_count": 44,
     "metadata": {},
     "output_type": "execute_result"
    }
   ],
   "source": [
    "s2"
   ]
  },
  {
   "cell_type": "code",
   "execution_count": 17,
   "metadata": {},
   "outputs": [],
   "source": [
    "s1 = \"abcdef\"\n",
    "os2 = \"abdecf\"\n",
    "\n",
    "\n",
    "li = []\n",
    "for i in range(len(s1)):\n",
    "    li.append([0] * i)\n",
    "    s2 = os2\n",
    "    for j in range(i, len(s1)):\n",
    "        if s1[j] in s2:\n",
    "            s2 = s2[s2.index(s1[j]) + 1:]\n",
    "            if not li[i]:\n",
    "                li[i].append(1)\n",
    "            else:\n",
    "                li[i].append(li[i][-1] + 1)\n",
    "        else:\n",
    "            if not li[i]:\n",
    "                li[i].append(0)\n",
    "            else:\n",
    "                li[i].append(li[i][-1])\n",
    "                \n",
    "li = li[:-1]                \n",
    "                \n",
    "li2 = []\n",
    "for i in range(len(s1) - 1):\n",
    "    li2.append([w - v for v, w in zip(li[i][:-1], li[i][1:])])\n",
    "    \n",
    "len([v for v in list(map(sum, list(zip(*li2)))) if v > 0]) + 1   "
   ]
  },
  {
   "cell_type": "code",
   "execution_count": 45,
   "metadata": {},
   "outputs": [
    {
     "name": "stdout",
     "output_type": "stream",
     "text": [
      "ACAYKP\n",
      "CAPCAK\n",
      "4\n"
     ]
    }
   ],
   "source": [
    "# 예시 정답 알고리즘 반영 직접 구현\n",
    "\n",
    "s1 = input()\n",
    "s2 = input()\n",
    "\n",
    "# [[0] * (len(s2) + 1)] * (len(s1) + 1)로 하면 원소 하나 바꿀 때 같이 바뀜\n",
    "li = [[0] * (len(s2) + 1) for _ in range(len(s1) + 1)]\n",
    "for i in range(1, len(s1) + 1):\n",
    "    for j in range(1, len(s2) + 1):\n",
    "        if s1[i - 1] == s2[j - 1]:\n",
    "            li[i][j] = li[i - 1][j - 1] + 1\n",
    "        else:\n",
    "            li[i][j] = max(li[i][j - 1], li[i - 1][j])\n",
    "            \n",
    "print(li[-1][-1])"
   ]
  },
  {
   "cell_type": "code",
   "execution_count": null,
   "metadata": {},
   "outputs": [],
   "source": [
    "# 예시 정답\n",
    "\n",
    "x = input()\n",
    "y = input()\n",
    "\n",
    "dp = [[0] * (len(y) + 1) for _ in range(len(x) + 1)]\n",
    "\n",
    "for i in range(1, len(x) + 1):\n",
    "    for j in range(1, len(y) + 1):\n",
    "        if x[i - 1] == y[j -1]:\n",
    "            dp[i][j] = dp[i - 1][j - 1] + 1\n",
    "        else:\n",
    "            dp[i][k] = max(dp[i][j - 1], dp[i - 1][j])\n",
    "            \n",
    "print(dp[len(x)[len(y)]])"
   ]
  },
  {
   "cell_type": "markdown",
   "metadata": {},
   "source": [
    "### 기타리스트 1495"
   ]
  },
  {
   "cell_type": "markdown",
   "metadata": {},
   "source": [
    "1:38 ~ 2.13"
   ]
  },
  {
   "cell_type": "code",
   "execution_count": 51,
   "metadata": {},
   "outputs": [
    {
     "name": "stdout",
     "output_type": "stream",
     "text": [
      "3 5 10\n",
      "5 3 7\n",
      "10\n"
     ]
    }
   ],
   "source": [
    "# 맞았음\n",
    "n, s, m = map(int, input().split())\n",
    "li = list(map(int, input().split()))\n",
    "possible_li = [s]\n",
    "\n",
    "for v in li:\n",
    "    subtracted_li = list(map(lambda x: x - v, possible_li))\n",
    "    subtracted_li = [w for w in subtracted_li if w >= 0]\n",
    "    plused_li = list(map(lambda x: x + v, possible_li))\n",
    "    plused_li = [w for w in plused_li if w <= m]\n",
    "    possible_li = list(set(subtracted_li + plused_li))\n",
    "    if not possible_li:\n",
    "        print(-1)\n",
    "        break\n",
    "else:        \n",
    "    print(max(possible_li))"
   ]
  },
  {
   "cell_type": "code",
   "execution_count": null,
   "metadata": {},
   "outputs": [],
   "source": [
    "n, s, m = map(int, input().split())\n",
    "li = list(map(int, input().split()))\n",
    "p = {s}\n",
    "\n",
    "for v in li:\n",
    "    sub = list(map(lambda x: x - v, p))\n",
    "    sub = [w for w in sub if w >= 0]\n",
    "    plus = list(map(lambda x: x + v, p))\n",
    "    plus = [w for w in plus if w <= m]\n",
    "    p = set(sub + plus)\n",
    "    if not p:\n",
    "        print(-1)\n",
    "        break\n",
    "else:        \n",
    "    print(max(p))"
   ]
  },
  {
   "cell_type": "code",
   "execution_count": 66,
   "metadata": {},
   "outputs": [
    {
     "data": {
      "text/plain": [
       "[6, 7]"
      ]
     },
     "execution_count": 66,
     "metadata": {},
     "output_type": "execute_result"
    }
   ],
   "source": [
    "b = 1\n",
    "c = {5}\n",
    "[a for b in c for a in [b + 1, b + 2]]"
   ]
  },
  {
   "cell_type": "code",
   "execution_count": 67,
   "metadata": {},
   "outputs": [
    {
     "data": {
      "text/plain": [
       "[6, 7]"
      ]
     },
     "execution_count": 67,
     "metadata": {},
     "output_type": "execute_result"
    }
   ],
   "source": [
    "li = []\n",
    "for b in c:\n",
    "    for a in [b - 1, b + 1]:\n",
    "        if -1 < a < m:\n",
    "            li.append(a)\n",
    "li"
   ]
  },
  {
   "cell_type": "code",
   "execution_count": null,
   "metadata": {},
   "outputs": [],
   "source": [
    "last = {s}\n",
    "\n",
    "for i in V:   \n",
    "    set1 = {}\n",
    "    for v in last:\n",
    "        for n in [v-i, v+i]:\n",
    "            if 0 <= n <= m:\n",
    "                set1.add(n)\n",
    "    last = set1"
   ]
  },
  {
   "cell_type": "code",
   "execution_count": 70,
   "metadata": {},
   "outputs": [
    {
     "name": "stdout",
     "output_type": "stream",
     "text": [
      "3 5 10\n",
      "5 3 7\n",
      "10\n"
     ]
    }
   ],
   "source": [
    "# 예시 설명 반영 직접 구현\n",
    "\n",
    "n, s, m = map(int, input().split())\n",
    "li = list(map(int, input().split()))\n",
    "dp = [[False] * (m + 1) for _ in range(len(li) + 1)]\n",
    "dp[0][s] = True\n",
    "\n",
    "for i in range(1, len(li) + 1):\n",
    "    for j in range(m + 1):\n",
    "        if dp[i - 1][j]:\n",
    "            if j - li[i - 1] >= 0:\n",
    "                dp[i][j - li[i - 1]] = True\n",
    "            if j + li[i - 1] <= m:\n",
    "                dp[i][j + li[i - 1]] = True\n",
    "    if sum(dp[i]) == 0:\n",
    "        print(-1)\n",
    "        break\n",
    "else:\n",
    "    print(max([i for i, v in enumerate(dp[-1]) if v]))"
   ]
  },
  {
   "cell_type": "code",
   "execution_count": 72,
   "metadata": {},
   "outputs": [
    {
     "name": "stdout",
     "output_type": "stream",
     "text": [
      "3 5 10\n",
      "5 3 7\n",
      "10\n"
     ]
    }
   ],
   "source": [
    "# 예시 정답\n",
    "\n",
    "n, s, m = map(int, input().split())\n",
    "array = list(map(int, input().split()))\n",
    "\n",
    "dp = [[0] * (m + 1) for _ in range(n + 1)]\n",
    "dp[0][s] = 1\n",
    "\n",
    "for i in range(1, n + 1):\n",
    "    for j in range(m + 1):\n",
    "        if dp[i - 1][j] == 0:\n",
    "            continue\n",
    "        if j - array[i - 1] >= 0:\n",
    "            dp[i][j - array[i - 1]] = 1\n",
    "        if j + array[i - 1] <= m:\n",
    "            dp[i][j + array[i - 1]] = 1\n",
    "result = -1\n",
    "for i in range(m, -1, -1):\n",
    "    if dp[n][i] == 1:\n",
    "        result = i\n",
    "        break\n",
    "        \n",
    "print(result)"
   ]
  },
  {
   "cell_type": "markdown",
   "metadata": {},
   "source": [
    "### 가장높은탑쌓기 2655"
   ]
  },
  {
   "cell_type": "code",
   "execution_count": 86,
   "metadata": {},
   "outputs": [
    {
     "name": "stdout",
     "output_type": "stream",
     "text": [
      "3\n",
      "5\n",
      "3\n",
      "1\n"
     ]
    }
   ],
   "source": [
    "n = int(input())\n",
    "li = [] # [(index, squre, height, weight)]\n",
    "for i in range(1, n + 1):\n",
    "    li.append(list(map(int, [i] + input().split())))\n",
    "\n",
    "li = sorted(li, key=lambda x: x[3])\n",
    "\n",
    "h_dp = list(list(zip(*li))[2])\n",
    "\n",
    "for i in range(1, n):\n",
    "    original_h = h_dp[i]\n",
    "    for j in range(i):\n",
    "        if li[j][1] < li[i][1]:\n",
    "            h_dp[i] = max(h_dp[i], h_dp[j] + original_h)  \n",
    "\n",
    "current_index = h_dp.index(max(h_dp))\n",
    "current_s = li[current_index][1]\n",
    "result_li = [current_index]\n",
    "while True:\n",
    "    possible_li = [(index, h) for index, h in enumerate(h_dp) if li[index][1] < current_s and index < current_index]\n",
    "    if not possible_li:\n",
    "        break\n",
    "    else:\n",
    "        possible_li = sorted(possible_li, key=lambda x: x[1], reverse=True)\n",
    "        next_value = possible_li[0]\n",
    "        current_index = next_value[0]\n",
    "        result_li.append(current_index)\n",
    "        current_s = li[current_index][1]\n",
    "        \n",
    "print(len(result_li))\n",
    "for i in reversed(result_li):\n",
    "    print(li[i][0])"
   ]
  },
  {
   "cell_type": "code",
   "execution_count": 2,
   "metadata": {},
   "outputs": [
    {
     "name": "stdout",
     "output_type": "stream",
     "text": [
      "5\n",
      "25 3 4\n",
      "4 4 6\n",
      "9 2 3\n",
      "16 2 5\n",
      "1 5 2\n",
      "3\n",
      "5\n",
      "3\n",
      "1\n"
     ]
    },
    {
     "data": {
      "text/plain": [
       "[None, None, None]"
      ]
     },
     "execution_count": 2,
     "metadata": {},
     "output_type": "execute_result"
    }
   ],
   "source": [
    "n = int(input())\n",
    "array = []\n",
    "\n",
    "array.append((0, 0, 0, 0))\n",
    "for i in range(1, n + 1):\n",
    "    area, height, weight = map(int,input().split())\n",
    "    array.append((i, area, height, weight))\n",
    "    \n",
    "array.sort(key=lambda data: data[3])\n",
    "\n",
    "dp = [0] * (n + 1)\n",
    "\n",
    "for i in range(1, n + 1):\n",
    "    for j in range(0, i):\n",
    "        if array[i][1] > array[j][1]:\n",
    "            dp[i] = max(dp[i], dp[j] + array[i][2])\n",
    "            \n",
    "max_value = max(dp)\n",
    "index = n\n",
    "result = []\n",
    "\n",
    "while index != 0:\n",
    "    if max_value == dp[index]:\n",
    "        result.append(array[index][0])\n",
    "        max_value -= array[index][2]\n",
    "    index -= 1\n",
    "\n",
    "result.reverse()\n",
    "print(len(result))\n",
    "[print(i) for i in result]"
   ]
  }
 ],
 "metadata": {
  "kernelspec": {
   "display_name": "Python 3",
   "language": "python",
   "name": "python3"
  },
  "language_info": {
   "codemirror_mode": {
    "name": "ipython",
    "version": 3
   },
   "file_extension": ".py",
   "mimetype": "text/x-python",
   "name": "python",
   "nbconvert_exporter": "python",
   "pygments_lexer": "ipython3",
   "version": "3.7.4"
  }
 },
 "nbformat": 4,
 "nbformat_minor": 4
}
