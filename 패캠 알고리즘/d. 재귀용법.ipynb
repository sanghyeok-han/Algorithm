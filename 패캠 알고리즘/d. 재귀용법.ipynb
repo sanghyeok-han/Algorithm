{
 "cells": [
  {
   "cell_type": "markdown",
   "metadata": {},
   "source": [
    "### 피보나치 수 2747 번"
   ]
  },
  {
   "cell_type": "code",
   "execution_count": 5,
   "metadata": {},
   "outputs": [
    {
     "name": "stdout",
     "output_type": "stream",
     "text": [
      "10\n",
      "55\n"
     ]
    }
   ],
   "source": [
    "# 시간 초과\n",
    "n = int(input())\n",
    "\n",
    "def fibo(n):\n",
    "    if n <= 1:\n",
    "        return n\n",
    "    else:\n",
    "        return fibo(n - 2) + fibo(n - 1)\n",
    "    \n",
    "print(fibo(n))"
   ]
  },
  {
   "cell_type": "code",
   "execution_count": 8,
   "metadata": {},
   "outputs": [
    {
     "name": "stdout",
     "output_type": "stream",
     "text": [
      "10\n",
      "55\n"
     ]
    }
   ],
   "source": [
    "# 맞았음\n",
    "n = int(input())\n",
    "\n",
    "li = [0, 1]\n",
    "\n",
    "if n <= 1:\n",
    "    print(li[n])\n",
    "    exit()\n",
    "\n",
    "for i in range(2, n + 1):\n",
    "    li.append(li[i - 1] + li[i - 2])    \n",
    "\n",
    "print(li[-1])"
   ]
  },
  {
   "cell_type": "code",
   "execution_count": 9,
   "metadata": {},
   "outputs": [
    {
     "name": "stdout",
     "output_type": "stream",
     "text": [
      "10\n",
      "55\n"
     ]
    }
   ],
   "source": [
    "# 다시 풀어봄\n",
    "n = int(input())\n",
    "\n",
    "if n <= 1:\n",
    "    print(n)\n",
    "    exit()\n",
    "\n",
    "a = 0\n",
    "b = 1\n",
    "\n",
    "while n - 1:\n",
    "    a, b = b, a + b\n",
    "    n -= 1\n",
    "    \n",
    "print(b)"
   ]
  },
  {
   "cell_type": "code",
   "execution_count": null,
   "metadata": {},
   "outputs": [],
   "source": [
    "# 예시 정답\n",
    "n = int(input())\n",
    "\n",
    "a, b = 0, 1\n",
    "\n",
    "while n > 0:\n",
    "    a, b = b, a + b\n",
    "    n -= 1\n",
    "    \n",
    "print(a)"
   ]
  },
  {
   "cell_type": "markdown",
   "metadata": {},
   "source": [
    "### Z 1074번"
   ]
  },
  {
   "cell_type": "markdown",
   "metadata": {},
   "source": [
    "1:06 1:46"
   ]
  },
  {
   "cell_type": "code",
   "execution_count": 39,
   "metadata": {},
   "outputs": [
    {
     "name": "stdout",
     "output_type": "stream",
     "text": [
      "2 3 1\n",
      "11\n"
     ]
    }
   ],
   "source": [
    "# count += (n // 2) ** 2 대신 count += n로 한 실수를 늦게 파악하여 오래 걸렸음\n",
    "\n",
    "N, R, C = map(int, input().split(' '))\n",
    "\n",
    "def recur(n, r, c, count=0):\n",
    "    if n == 2:\n",
    "        if r == 0 and c == 1:\n",
    "            count += 1\n",
    "        elif r == 1 and c == 0:\n",
    "            count += 2\n",
    "        elif r == 1 and c == 1:\n",
    "            count += 3\n",
    "        print(count)\n",
    "        \n",
    "    else:\n",
    "        if r < n // 2 and c < n // 2:\n",
    "            recur(n // 2, r, c, count)\n",
    "        elif r < n // 2 and c >= n // 2:\n",
    "            count += (n // 2) ** 2\n",
    "            recur(n // 2, r, c - n // 2, count)\n",
    "        elif r >= n // 2 and c < n // 2:\n",
    "            count += 2 * (n // 2) ** 2\n",
    "            recur(n // 2, r - n // 2, c, count)\n",
    "        else:\n",
    "            count += 3 * (n // 2) ** 2\n",
    "            recur(n // 2, r - n // 2, c - n // 2, count)\n",
    "            \n",
    "recur(2 ** N , R, C)"
   ]
  },
  {
   "cell_type": "code",
   "execution_count": null,
   "metadata": {},
   "outputs": [],
   "source": [
    "## 예시 정답\n",
    "def solve(n, x, y):\n",
    "    global result\n",
    "    if n == 2:\n",
    "        if x == X and y == Y:\n",
    "            print(result)\n",
    "            return\n",
    "        result += 1\n",
    "        if x == X and y + 1 == Y:\n",
    "            print(result)\n",
    "            return\n",
    "        result += 1\n",
    "        if x + 1 == X and y + 1 = Y:\n",
    "            print(result)\n",
    "            return\n",
    "        result += 1\n",
    "        return\n",
    "    solve(n / 2, x, y)\n",
    "    solve(n / 2, x, y + n / 2)\n",
    "    solve(n / 2, x + n / 2, y)\n",
    "    solve(n / 2, x + n / 2, y + n / 2)\n",
    "    \n",
    "result = 0\n",
    "N, X, Y = map(int, input().split(' '))\n",
    "solve(2 ** N, X, Y)"
   ]
  },
  {
   "cell_type": "markdown",
   "metadata": {},
   "source": [
    "### 0 만들기 7490번"
   ]
  },
  {
   "cell_type": "markdown",
   "metadata": {},
   "source": [
    "8:28 8:57"
   ]
  },
  {
   "cell_type": "code",
   "execution_count": 12,
   "metadata": {},
   "outputs": [
    {
     "name": "stdout",
     "output_type": "stream",
     "text": [
      "2\n",
      "3\n",
      "1+2-3\n",
      "\n",
      "7\n",
      "1+2-3+4-5-6+7\n",
      "1+2-3-4+5+6-7\n",
      "1-2 3+4+5+6+7\n",
      "1-2 3-4 5+6 7\n",
      "1-2+3+4-5+6-7\n",
      "1-2-3-4-5+6+7\n",
      "\n"
     ]
    }
   ],
   "source": [
    "# 맞았음\n",
    "\n",
    "def recur(n, max_n, current=\"1\"):\n",
    "    if n == max_n:\n",
    "        if eval(current.replace(\" \", \"\")) == 0:\n",
    "            print(current)\n",
    "    else:\n",
    "        s = str(n + 1)\n",
    "        recur(n + 1, max_n, current + \" \" + s)\n",
    "        recur(n + 1, max_n, current + \"+\" + s)\n",
    "        recur(n + 1, max_n, current + \"-\" + s)\n",
    "\n",
    "case_num = int(input())\n",
    "\n",
    "for _ in range(case_num):\n",
    "    max_n = int(input())\n",
    "    recur(1, max_n)\n",
    "    print()"
   ]
  },
  {
   "cell_type": "code",
   "execution_count": null,
   "metadata": {},
   "outputs": [],
   "source": [
    "# 숏코딩\n",
    "\n",
    "def r(n,c=\"1\"):\n",
    "    if n==m:\n",
    "        if eval(c.replace(\" \", \"\"))==0:print(c)\n",
    "    else:s=str(n+1);r(n+1,c+\" \"+s);r(n+1,c+\"+\"+s);r(n+1,c+\"-\"+s)\n",
    "for _ in range(int(input())):m=int(input());r(1);print()"
   ]
  },
  {
   "cell_type": "code",
   "execution_count": 13,
   "metadata": {},
   "outputs": [
    {
     "name": "stdout",
     "output_type": "stream",
     "text": [
      "2\n",
      "3\n",
      "1+2-3\n",
      "\n",
      "7\n",
      "1+2-3+4-5-6+7\n",
      "1+2-3-4+5+6-7\n",
      "1-2 3+4+5+6+7\n",
      "1-2 3-4 5+6 7\n",
      "1-2+3+4-5+6-7\n",
      "1-2-3-4-5+6+7\n",
      "\n"
     ]
    }
   ],
   "source": [
    "# 예시 정답\n",
    "\n",
    "import copy\n",
    "\n",
    "def recursive(array, n):\n",
    "    if len(array) == n:\n",
    "        operators_list.append(copy.deepcopy(array))\n",
    "        return\n",
    "    array.append(' ')\n",
    "    recursive(array, n)\n",
    "    array.pop()\n",
    "    \n",
    "    array.append('+')\n",
    "    recursive(array, n)\n",
    "    array.pop()\n",
    "    \n",
    "    array.append('-')\n",
    "    recursive(array, n)\n",
    "    array.pop()\n",
    "    \n",
    "test_case = int(input())\n",
    "\n",
    "for _ in range(test_case):\n",
    "    operators_list = []\n",
    "    n = int(input())\n",
    "    recursive([], n - 1)\n",
    "    \n",
    "    integers = [i for i in range(1, n + 1)]\n",
    "    \n",
    "    for operators in operators_list:\n",
    "        string = \"\"\n",
    "        for i in range(n - 1):\n",
    "            string += str(integers[i]) + operators[i]\n",
    "        string += str(integers[-1])\n",
    "        if eval(string.replace(\" \", \"\")) == 0:\n",
    "            print(string)\n",
    "    print()"
   ]
  },
  {
   "cell_type": "code",
   "execution_count": null,
   "metadata": {},
   "outputs": [],
   "source": [
    "sys.stdin.readline()"
   ]
  }
 ],
 "metadata": {
  "kernelspec": {
   "display_name": "Python 3",
   "language": "python",
   "name": "python3"
  },
  "language_info": {
   "codemirror_mode": {
    "name": "ipython",
    "version": 3
   },
   "file_extension": ".py",
   "mimetype": "text/x-python",
   "name": "python",
   "nbconvert_exporter": "python",
   "pygments_lexer": "ipython3",
   "version": "3.7.3"
  }
 },
 "nbformat": 4,
 "nbformat_minor": 4
}
