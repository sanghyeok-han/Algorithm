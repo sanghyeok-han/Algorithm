{
 "cells": [
  {
   "cell_type": "markdown",
   "metadata": {},
   "source": [
    "* 추천 풀이 시간: 실전에서 써 먹을 수 있는 시간\n",
    "* 추천 풀이 시간 * 2 초과시 문제 접근법을 다시 배우는 것이 좋음"
   ]
  },
  {
   "cell_type": "markdown",
   "metadata": {},
   "source": [
    "# 1. 기초 문제풀이"
   ]
  },
  {
   "cell_type": "markdown",
   "metadata": {},
   "source": [
    "## 음계"
   ]
  },
  {
   "cell_type": "markdown",
   "metadata": {},
   "source": [
    "##### 2920번"
   ]
  },
  {
   "cell_type": "code",
   "execution_count": 4,
   "metadata": {},
   "outputs": [
    {
     "name": "stdout",
     "output_type": "stream",
     "text": [
      "4 3 2 1\n",
      "[4, 3, 2, 1]\n"
     ]
    }
   ],
   "source": [
    "nums = input()\n",
    "nums = list(map(int, input().split()))\n",
    "print(nums)"
   ]
  },
  {
   "cell_type": "code",
   "execution_count": 9,
   "metadata": {},
   "outputs": [
    {
     "name": "stdout",
     "output_type": "stream",
     "text": [
      "1 3 2\n"
     ]
    },
    {
     "data": {
      "text/plain": [
       "'mixed'"
      ]
     },
     "execution_count": 9,
     "metadata": {},
     "output_type": "execute_result"
    }
   ],
   "source": [
    "def solve(nums):\n",
    "    if nums == sorted(nums):\n",
    "        return \"ascending\"\n",
    "    elif nums == sorted(nums, reverse=True):\n",
    "        return \"descending\"\n",
    "    else:\n",
    "        return \"mixed\""
   ]
  },
  {
   "cell_type": "code",
   "execution_count": 16,
   "metadata": {},
   "outputs": [],
   "source": [
    "def solve(nums):\n",
    "    ascending = True\n",
    "    descending = True\n",
    "    for i in range(len(nums) - 1):\n",
    "        if nums[i] < nums[i+1]:\n",
    "            descending = False\n",
    "        else:\n",
    "            ascending = False\n",
    "    if ascending:\n",
    "        return \"ascending\"\n",
    "    elif descending:\n",
    "        return \"descending\"\n",
    "    else:\n",
    "        return \"mixed\""
   ]
  },
  {
   "cell_type": "code",
   "execution_count": 17,
   "metadata": {},
   "outputs": [
    {
     "name": "stdout",
     "output_type": "stream",
     "text": [
      "1 2 3\n",
      "ascending\n"
     ]
    }
   ],
   "source": [
    "print(solve(list(map(int, input().split()))))"
   ]
  },
  {
   "cell_type": "code",
   "execution_count": 15,
   "metadata": {},
   "outputs": [
    {
     "name": "stdout",
     "output_type": "stream",
     "text": [
      "1 2 3 4 5 6 7 8\n",
      "ascending\n"
     ]
    }
   ],
   "source": [
    "## 정답\n",
    "a = list(map(int, input().split(' ')))\n",
    "\n",
    "ascending = True\n",
    "descending = True\n",
    "\n",
    "for i in range(1, 8):\n",
    "    if a[i] > a[i - 1]:\n",
    "        descending = False\n",
    "    elif a[i] < a[i - 1]:\n",
    "        ascending = False\n",
    "if ascending:\n",
    "    print('ascending')\n",
    "elif descending:\n",
    "    print('descending')\n",
    "else:\n",
    "    print('mixed')"
   ]
  },
  {
   "cell_type": "markdown",
   "metadata": {},
   "source": [
    "## 블랙잭"
   ]
  },
  {
   "cell_type": "markdown",
   "metadata": {},
   "source": [
    "##### 2798번"
   ]
  },
  {
   "cell_type": "code",
   "execution_count": 24,
   "metadata": {},
   "outputs": [
    {
     "name": "stdout",
     "output_type": "stream",
     "text": [
      "5 21\n",
      "5 6 7 8 9\n"
     ]
    }
   ],
   "source": [
    "N, M = list(map(int, input().split(\" \")))\n",
    "cards = list(map(int, input().split(\" \")))"
   ]
  },
  {
   "cell_type": "code",
   "execution_count": null,
   "metadata": {},
   "outputs": [],
   "source": [
    "from itertools import combinations\n",
    "\n",
    "print(max(list(v for v in map(sum, combinations(cards, 3)) if v <= M)))"
   ]
  },
  {
   "cell_type": "code",
   "execution_count": 37,
   "metadata": {},
   "outputs": [
    {
     "name": "stdout",
     "output_type": "stream",
     "text": [
      "21\n"
     ]
    }
   ],
   "source": [
    "max_value = 0\n",
    "for i1 in range(N):\n",
    "    for i2 in range(i1 + 1, N):\n",
    "        for i3 in range(i2 + 1, N):\n",
    "            sum_value = cards[i1] + cards[i2] + cards[i3]\n",
    "            if sum_value <= M:\n",
    "                if max_value < sum_value:\n",
    "                    max_value = sum_value\n",
    "print(max_value)"
   ]
  },
  {
   "cell_type": "code",
   "execution_count": null,
   "metadata": {},
   "outputs": [],
   "source": [
    "##정답\n",
    "\n",
    "n, m = list(map(int, input().split(' ')))\n",
    "data = list(map(int, input().split(' ')))\n",
    "\n",
    "result = 0\n",
    "length = len(data)\n",
    "\n",
    "count = 0\n",
    "for i in range(0, length):\n",
    "    for j in range(i + 1, length):\n",
    "        for k in range(j + 1, length):\n",
    "            sum_value = data[i] + data[j] + data[k]\n",
    "            if sum_value <= m:\n",
    "                result = max(result, sum_value)\n",
    "                \n",
    "print(result)"
   ]
  },
  {
   "cell_type": "markdown",
   "metadata": {},
   "source": [
    "# 2. 핵심 유형 문제풀이"
   ]
  },
  {
   "cell_type": "markdown",
   "metadata": {},
   "source": [
    "## 스택수열\n",
    "##### 1874번"
   ]
  },
  {
   "cell_type": "code",
   "execution_count": null,
   "metadata": {},
   "outputs": [],
   "source": [
    "n = 8\n",
    "\n",
    "input_list = []\n",
    "for _ in range(n):\n",
    "    value = int(input())\n",
    "    input_stack.append(value)\n",
    "\n",
    "input_list = list(reversed(input_stack))"
   ]
  },
  {
   "cell_type": "code",
   "execution_count": 3,
   "metadata": {},
   "outputs": [],
   "source": [
    "n = 8\n",
    "example_list = [1, 2, 5, 7, 8, 6, 3, 4]\n",
    "given_list = [i for i in range(1, 9)]\n",
    "stack = []\n",
    "other_stack = []"
   ]
  },
  {
   "cell_type": "code",
   "execution_count": null,
   "metadata": {},
   "outputs": [],
   "source": [
    "current_index = 0\n",
    "while current_index < n:\n",
    "    if given_list[0] == example_list[current_index]:\n",
    "        while stack[current_index]\n",
    "        stack.append(given_list.pop(0))\n",
    "        current_index += 1\n",
    "        \n",
    "    elif given_list[0] < example_list[current_index]:\n",
    "        stack.append(given_list.pop(0))\n",
    "        "
   ]
  },
  {
   "cell_type": "code",
   "execution_count": 5,
   "metadata": {
    "scrolled": true
   },
   "outputs": [
    {
     "name": "stdout",
     "output_type": "stream",
     "text": [
      "1\n",
      "2\n",
      "3\n",
      "4\n",
      "5\n",
      "6\n",
      "7\n",
      "8\n"
     ]
    }
   ],
   "source": [
    "example_list = [1, 2, 5, 7, 8, 6, 3, 4]\n",
    "current_value = example_list.pop(0)\n",
    "for i in range(1, n + 1):\n",
    "    if current_value == example_list:\n",
    "        "
   ]
  },
  {
   "cell_type": "code",
   "execution_count": 71,
   "metadata": {},
   "outputs": [
    {
     "name": "stdout",
     "output_type": "stream",
     "text": [
      "1\n",
      "1\n",
      "+\n",
      "-\n"
     ]
    }
   ],
   "source": [
    "n = int(input())\n",
    "stack = []\n",
    "value = int(input())\n",
    "saved_count = n - 1\n",
    "result = []\n",
    "last = []\n",
    "\n",
    "if n == 1:\n",
    "    result = [\"+\", \"-\"]\n",
    "else:\n",
    "    for i in range(1, n + 1):\n",
    "        if i < value:\n",
    "            stack.append(i)\n",
    "            result.append(\"+\")\n",
    "        elif i == value:\n",
    "            stack.append(i)\n",
    "            result.append(\"+\")\n",
    "            stack.pop()\n",
    "            result.append(\"-\")\n",
    "            value = int(input())\n",
    "            saved_count -= 1\n",
    "            if saved_count == 0:\n",
    "                break\n",
    "            current = i-1\n",
    "            while current == value:\n",
    "                stack.pop()\n",
    "                result.append(\"-\")\n",
    "                value = int(input())\n",
    "                saved_count -= 1\n",
    "                current -= 1\n",
    "                if saved_count == 0:\n",
    "                    break\n",
    "\n",
    "    while saved_count >= 1:\n",
    "        value = int(input())\n",
    "        saved_count -= 1\n",
    "        last.append(value)\n",
    "\n",
    "    for i in range(len(stack)):\n",
    "        result.append(\"-\")\n",
    "\n",
    "    if last and sorted(last, reverse=True) != last:\n",
    "        result = [\"NO\"]\n",
    "\n",
    "result = \"\\n\".join(result)\n",
    "\n",
    "print(result)"
   ]
  },
  {
   "cell_type": "code",
   "execution_count": 101,
   "metadata": {},
   "outputs": [
    {
     "name": "stdout",
     "output_type": "stream",
     "text": [
      "8\n",
      "1\n",
      "3\n",
      "2\n",
      "4\n",
      "5\n",
      "8\n",
      "7\n",
      "6\n",
      "+\n",
      "-\n",
      "+\n",
      "+\n",
      "-\n",
      "-\n",
      "+\n",
      "-\n",
      "+\n",
      "-\n",
      "+\n",
      "+\n",
      "+\n",
      "-\n",
      "-\n",
      "-\n"
     ]
    }
   ],
   "source": [
    "# 맞았음\n",
    "n = int(input())\n",
    "stack = []\n",
    "value = int(input())\n",
    "result = []\n",
    "count = 1\n",
    "\n",
    "for i in range(1, n + 1):\n",
    "    if i == value:    \n",
    "        stack.append(i)\n",
    "        result.append(\"+\")\n",
    "        temp = []\n",
    "        while count < n and stack and stack[-1] == value:\n",
    "            stack.pop()\n",
    "            result.append(\"-\")\n",
    "            value = int(input())\n",
    "            count += 1\n",
    "            temp.append(value)\n",
    "            \n",
    "        if i == n and temp and sorted(temp, reverse=True) != temp:\n",
    "            result = [\"NO\"]\n",
    "            break\n",
    "    elif i < value:\n",
    "        stack.append(i)\n",
    "        result.append(\"+\")\n",
    "\n",
    "if len(stack) >= 2:\n",
    "    result = [\"NO\"]\n",
    "\n",
    "if len(stack) == 1:\n",
    "    stack.pop()\n",
    "    result.append(\"-\")\n",
    "\n",
    "result = \"\\n\".join(result)\n",
    "\n",
    "print(result)"
   ]
  },
  {
   "cell_type": "code",
   "execution_count": null,
   "metadata": {},
   "outputs": [],
   "source": [
    "# 정답\n",
    "\n",
    "n = int(input())\n",
    "\n",
    "count = 1\n",
    "stack = []\n",
    "result = []\n",
    "\n",
    "for i in range(1, n + 1):\n",
    "    data = int(input())\n",
    "    while count <= data:\n",
    "        stack.append(count)\n",
    "        count += 1\n",
    "        result.append(\"+\")\n",
    "    if stack[-1] == data:\n",
    "        stack.pop()\n",
    "        result.append(\"-\")\n",
    "    else:\n",
    "        print(\"NO\")\n",
    "        exit(0)\n",
    "        \n",
    "print(\"\\n\".join(result))"
   ]
  },
  {
   "cell_type": "markdown",
   "metadata": {},
   "source": [
    "## 프린터 큐"
   ]
  },
  {
   "cell_type": "markdown",
   "metadata": {},
   "source": [
    "##### 1966번"
   ]
  },
  {
   "cell_type": "markdown",
   "metadata": {},
   "source": [
    "11:31 11:55"
   ]
  },
  {
   "cell_type": "code",
   "execution_count": 122,
   "metadata": {},
   "outputs": [
    {
     "name": "stdout",
     "output_type": "stream",
     "text": [
      "3\n",
      "1 0\n",
      "5\n",
      "4 2\n",
      "1 2 3 4\n",
      "6 0\n",
      "1 1 9 1 1 1\n",
      "1\n",
      "2\n",
      "5\n"
     ]
    }
   ],
   "source": [
    "## 맞았음\n",
    "case_num = int(input())\n",
    "result = []\n",
    "\n",
    "for _ in range(case_num):\n",
    "    n, m = map(int, input().split(\" \"))\n",
    "    queue = list(map(int, input().split(\" \")))\n",
    "    \n",
    "    count = 1\n",
    "    while True:\n",
    "        value = queue.pop(0)\n",
    "        if not queue:\n",
    "            result.append(str(count))\n",
    "            break\n",
    "        if value < max(queue): # 출력을 안하는 경우\n",
    "            if m == 0:\n",
    "                m = len(queue)\n",
    "            else:\n",
    "                m -= 1\n",
    "            queue.append(value)\n",
    "        else:\n",
    "            if m == 0:\n",
    "                result.append(str(count))\n",
    "                break\n",
    "            else:\n",
    "                m -= 1\n",
    "            count += 1\n",
    "    \n",
    "\n",
    "print(\"\\n\".join(result))"
   ]
  },
  {
   "cell_type": "code",
   "execution_count": 126,
   "metadata": {},
   "outputs": [
    {
     "name": "stdout",
     "output_type": "stream",
     "text": [
      "1 2\n",
      "1 2\n"
     ]
    }
   ],
   "source": [
    "## 예시 정답\n",
    "\n",
    "test_case = int(input())\n",
    "\n",
    "for _ in range(test_case):\n",
    "    n, m = list(map(int, input().split(' ')))\n",
    "    queue = list(map(int, input().split(' ')))\n",
    "    queue = [(i, inx) for idx, i in enumerate(queue)]\n",
    "    \n",
    "    count = 0\n",
    "    while True:\n",
    "        if queue[0][0] == max(queue, key=lambda x: x[0])[0]:\n",
    "        count += 1\n",
    "        if queue[0][1] == m:\n",
    "            print(count)\n",
    "            break\n",
    "        else:\n",
    "            queue.pop(0)\n",
    "        else:\n",
    "            queue.append(queue.pop(0))"
   ]
  },
  {
   "cell_type": "code",
   "execution_count": 127,
   "metadata": {},
   "outputs": [
    {
     "data": {
      "text/plain": [
       "3"
      ]
     },
     "execution_count": 127,
     "metadata": {},
     "output_type": "execute_result"
    }
   ],
   "source": [
    "max([1, 2, 3], key=lambda x: x)"
   ]
  },
  {
   "cell_type": "markdown",
   "metadata": {},
   "source": [
    "## 키로거"
   ]
  },
  {
   "cell_type": "markdown",
   "metadata": {},
   "source": [
    "##### 5397번"
   ]
  },
  {
   "cell_type": "markdown",
   "metadata": {},
   "source": [
    "5:53 7.05"
   ]
  },
  {
   "cell_type": "code",
   "execution_count": 1,
   "metadata": {},
   "outputs": [],
   "source": [
    "s = list(\"<<BP<A>>Cd-\")"
   ]
  },
  {
   "cell_type": "code",
   "execution_count": 45,
   "metadata": {},
   "outputs": [
    {
     "name": "stdout",
     "output_type": "stream",
     "text": [
      "2\n",
      "<<BP<A>>Cd-\n",
      "BAPC\n",
      "ThIsIsS3Cr3t\n",
      "ThIsIsS3Cr3t\n"
     ]
    }
   ],
   "source": [
    "## 런타임 에러(index 에러)\n",
    "case_num = int(input())\n",
    "for _ in range(case_num):\n",
    "    input_keys = input()\n",
    "    password = []\n",
    "    current_index = 0\n",
    "    for value in input_keys:\n",
    "        if current_index > 0 and value == \"<\":\n",
    "            current_index -= 1\n",
    "        elif value not in [\"<\", \">\", \"-\"]:\n",
    "            if current_index == len(password):\n",
    "                password.append(value)\n",
    "            else:\n",
    "                password.insert(current_index, value)\n",
    "            current_index += 1\n",
    "        elif value == \">\":\n",
    "            if current_index < len(password):\n",
    "                current_index += 1\n",
    "        elif value == \"-\":\n",
    "            if password:\n",
    "                password.pop(current_index - 1)\n",
    "                current_index -= 1\n",
    "    print(\"\".join(password))"
   ]
  },
  {
   "cell_type": "code",
   "execution_count": 58,
   "metadata": {},
   "outputs": [
    {
     "name": "stdout",
     "output_type": "stream",
     "text": [
      "1\n",
      "abc<<\n",
      "['a'] ['c', 'b']\n",
      "abc\n"
     ]
    }
   ],
   "source": [
    "# 맞았음\n",
    "## list(reversed(temp_stack)) 부분에서 예시로 확인할 때 stack 구조를 잘못 써서 헷갈렸였음\n",
    "case_num = int(input())\n",
    "for _ in range(case_num):\n",
    "    input_keys = input()\n",
    "    password_stack = []\n",
    "    temp_stack = []\n",
    "    for key in input_keys:\n",
    "        if key == \"<\":\n",
    "            if password_stack:\n",
    "                temp_stack.append(password_stack.pop())\n",
    "        elif key == \">\":\n",
    "            if temp_stack:\n",
    "                password_stack.append(temp_stack.pop())\n",
    "        elif key == \"-\":\n",
    "            if password_stack:\n",
    "                password_stack.pop()\n",
    "        else:\n",
    "            password_stack.append(key)\n",
    "    \n",
    "    password = password_stack + list(reversed(temp_stack))\n",
    "    print(\"\".join(password))"
   ]
  },
  {
   "cell_type": "code",
   "execution_count": null,
   "metadata": {},
   "outputs": [],
   "source": [
    "# 예시 정답\n",
    "test_case = int(input())\n",
    "\n",
    "for _ in range(test_case):\n",
    "    left_stack = []\n",
    "    right_stack = [] \n",
    "    data = input()\n",
    "    for i in data:\n",
    "        if i == '-':\n",
    "            if left_stack:\n",
    "                left_stack.pop()\n",
    "        elif i == '<':\n",
    "            if left_stack:\n",
    "                right_stack.append(right_stack.pop())\n",
    "        else:\n",
    "            left_stack.append(i)\n",
    "    left_stack.extend(reversed(right_stack))\n",
    "    print(\"\".join(left_stack))"
   ]
  },
  {
   "cell_type": "code",
   "execution_count": null,
   "metadata": {},
   "outputs": [],
   "source": []
  }
 ],
 "metadata": {
  "kernelspec": {
   "display_name": "Python 3",
   "language": "python",
   "name": "python3"
  },
  "language_info": {
   "codemirror_mode": {
    "name": "ipython",
    "version": 3
   },
   "file_extension": ".py",
   "mimetype": "text/x-python",
   "name": "python",
   "nbconvert_exporter": "python",
   "pygments_lexer": "ipython3",
   "version": "3.7.3"
  }
 },
 "nbformat": 4,
 "nbformat_minor": 4
}
