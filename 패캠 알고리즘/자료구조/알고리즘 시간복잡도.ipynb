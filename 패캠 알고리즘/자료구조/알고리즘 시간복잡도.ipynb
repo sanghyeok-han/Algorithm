{
 "cells": [
  {
   "cell_type": "markdown",
   "metadata": {},
   "source": [
    "# 알고리즘 복잡도 표현 방법"
   ]
  },
  {
   "cell_type": "markdown",
   "metadata": {},
   "source": [
    "## 1. 알고리즘 복잡도 계산이 필요한 이유"
   ]
  },
  {
   "cell_type": "markdown",
   "metadata": {},
   "source": [
    "### 하나의 문제를 푸는 알고리즘은 다양할 수 있음"
   ]
  },
  {
   "cell_type": "markdown",
   "metadata": {},
   "source": [
    "정수의 절대값 구하기 - 정수 제곱 후 루트, 정수가 음수인지 확인해서 음수일 때만 '-1'곱"
   ]
  },
  {
   "cell_type": "markdown",
   "metadata": {},
   "source": [
    "알고리즘의 성능을 표현하기 위하여 시간복잡도가 고안되었다. (가장 빠르게 해결되는 알고리즘)"
   ]
  },
  {
   "cell_type": "raw",
   "metadata": {},
   "source": [
    "1. 시간 복잡도: 알고리즘 실행 속도\n",
    "2. 공간 복잡도: 알고리즘이 사용하는 메모리 사이즈"
   ]
  },
  {
   "cell_type": "markdown",
   "metadata": {},
   "source": [
    "## 알고리즘 시간 복잡도의 주요 요소\n",
    "> 반복문이 지배합니다."
   ]
  },
  {
   "cell_type": "markdown",
   "metadata": {},
   "source": [
    "- 무조건 상수회 실행 O(1)\n",
    "\n",
    "```python\n",
    "    n = 1\n",
    "    if n > 10:\n",
    "        pass\n",
    "```\n",
    "\n",
    "- n에 따라 n번, 또는 3n + 10번 등 실행한다. O(n)\n",
    "\n",
    "```python\n",
    "    variable = 1\n",
    "    for num in range(3):\n",
    "        for index in range(n):\n",
    "            print(index)\n",
    "```\n",
    "\n",
    "- n에 따라 $n^2$, $300n^2 + 1$등 실행한다. O($n^2$)\n",
    "\n",
    "```python\n",
    "    variable = 1\n",
    "    for i in range(300):\n",
    "        for num in range(n):\n",
    "            for index in range(n):\n",
    "                print(index)\n",
    "```"
   ]
  },
  {
   "cell_type": "code",
   "execution_count": null,
   "metadata": {},
   "outputs": [],
   "source": []
  }
 ],
 "metadata": {
  "kernelspec": {
   "display_name": "Python 3",
   "language": "python",
   "name": "python3"
  },
  "language_info": {
   "codemirror_mode": {
    "name": "ipython",
    "version": 3
   },
   "file_extension": ".py",
   "mimetype": "text/x-python",
   "name": "python",
   "nbconvert_exporter": "python",
   "pygments_lexer": "ipython3",
   "version": "3.7.3"
  }
 },
 "nbformat": 4,
 "nbformat_minor": 4
}
