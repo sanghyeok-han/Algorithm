{
 "cells": [
  {
   "cell_type": "markdown",
   "metadata": {},
   "source": [
    "### 거스름돈 5585"
   ]
  },
  {
   "cell_type": "markdown",
   "metadata": {},
   "source": [
    "4:56 5:00"
   ]
  },
  {
   "cell_type": "code",
   "execution_count": 7,
   "metadata": {},
   "outputs": [
    {
     "name": "stdout",
     "output_type": "stream",
     "text": [
      "620\n",
      "7\n"
     ]
    }
   ],
   "source": [
    "# 맞았음\n",
    "n = int(input())\n",
    "remain = 1000 - n\n",
    "li = [500, 100, 50, 10, 5, 1]\n",
    "\n",
    "count = 0\n",
    "for v in li:\n",
    "    count += remain // v\n",
    "    remain %= v\n",
    "    \n",
    "    if remain == 0:\n",
    "        break\n",
    "print(count)"
   ]
  },
  {
   "cell_type": "code",
   "execution_count": null,
   "metadata": {},
   "outputs": [],
   "source": [
    "# 예시코드 반영해서 수정해봄\n",
    "remain = 1000 - int(input())\n",
    "count = 0\n",
    "\n",
    "for v in [500, 100, 50, 10, 5, 1]:\n",
    "    count += remain // v\n",
    "    remain %= v\n",
    "    \n",
    "print(count)"
   ]
  },
  {
   "cell_type": "markdown",
   "metadata": {},
   "source": [
    "### 뒤집기 1439"
   ]
  },
  {
   "cell_type": "markdown",
   "metadata": {},
   "source": [
    "5:07 5.20\n",
    "그리디로 다시 풀기 5.23 5.32"
   ]
  },
  {
   "cell_type": "code",
   "execution_count": 18,
   "metadata": {},
   "outputs": [
    {
     "name": "stdout",
     "output_type": "stream",
     "text": [
      "00\n"
     ]
    }
   ],
   "source": [
    "s = input()"
   ]
  },
  {
   "cell_type": "code",
   "execution_count": 21,
   "metadata": {},
   "outputs": [
    {
     "name": "stdout",
     "output_type": "stream",
     "text": [
      "00110\n",
      "1\n"
     ]
    }
   ],
   "source": [
    "# 맞았음\n",
    "s = input()\n",
    "\n",
    "if len(s) <= 1:\n",
    "    print(0)\n",
    "else:\n",
    "    count = 0\n",
    "    former_value = s[0]\n",
    "    for v in s[1:]:\n",
    "        if v != former_value:\n",
    "            count += 1\n",
    "        former_value = v\n",
    "        \n",
    "print(count // 2 + count % 2)"
   ]
  },
  {
   "cell_type": "code",
   "execution_count": 5,
   "metadata": {},
   "outputs": [
    {
     "name": "stdout",
     "output_type": "stream",
     "text": [
      "01\n",
      "1\n"
     ]
    }
   ],
   "source": [
    "# 다시 풀기, 맞았음\n",
    "from collections import Counter\n",
    "\n",
    "s = input()\n",
    "if len(s) <= 1:\n",
    "    print(0)\n",
    "else:\n",
    "    li = []\n",
    "    former_value = s[0]\n",
    "    li.append(former_value)\n",
    "    for v in s[1:]:\n",
    "        if v != former_value:\n",
    "            li.append(v)\n",
    "            former_value = v\n",
    "            \n",
    "    c = Counter(li)\n",
    "    if len(c) <= 1:\n",
    "        print(0)\n",
    "    else:\n",
    "        print(c.most_common()[1][1])"
   ]
  },
  {
   "cell_type": "code",
   "execution_count": 6,
   "metadata": {},
   "outputs": [
    {
     "name": "stdout",
     "output_type": "stream",
     "text": [
      "01001\n",
      "2\n"
     ]
    }
   ],
   "source": [
    "# 예시 정답\n",
    "data = input()\n",
    "count0 = 0\n",
    "count1 = 0\n",
    "\n",
    "if data[0] == '1':\n",
    "    count0 += 1\n",
    "else:\n",
    "    count1 += 1\n",
    "    \n",
    "for i in range(len(data) - 1):\n",
    "    if data[i] != data[i + 1]:\n",
    "        if data[i + 1] == '1':\n",
    "            count0 += 1\n",
    "        else:\n",
    "            count1 += 1\n",
    "\n",
    "print(min(count0, count1))"
   ]
  },
  {
   "cell_type": "markdown",
   "metadata": {},
   "source": [
    "### 등수 매기기 2012"
   ]
  },
  {
   "cell_type": "markdown",
   "metadata": {},
   "source": [
    "6:11 6.17"
   ]
  },
  {
   "cell_type": "code",
   "execution_count": 7,
   "metadata": {},
   "outputs": [
    {
     "name": "stdout",
     "output_type": "stream",
     "text": [
      "5\n",
      "1\n",
      "5\n",
      "3\n",
      "1\n",
      "2\n"
     ]
    }
   ],
   "source": [
    "n = int(input())\n",
    "li = []\n",
    "\n",
    "for _ in range(n):\n",
    "    li.append(int(input()))"
   ]
  },
  {
   "cell_type": "code",
   "execution_count": 8,
   "metadata": {},
   "outputs": [
    {
     "name": "stdout",
     "output_type": "stream",
     "text": [
      "3\n"
     ]
    }
   ],
   "source": [
    "# 맞았음\n",
    "import sys\n",
    "input = sys.stdin.readline\n",
    "\n",
    "n = int(input())\n",
    "li = []\n",
    "\n",
    "for _ in range(n):\n",
    "    li.append(int(input()))\n",
    "\n",
    "result = 0\n",
    "for i, v in enumerate(sorted(li), 1):\n",
    "    result += abs(i - v)\n",
    "    \n",
    "print(result)"
   ]
  },
  {
   "cell_type": "markdown",
   "metadata": {},
   "source": [
    "### 배 1092"
   ]
  },
  {
   "cell_type": "markdown",
   "metadata": {},
   "source": [
    "7:02 ~ 7.05, 9.51 10.38"
   ]
  },
  {
   "cell_type": "code",
   "execution_count": 14,
   "metadata": {},
   "outputs": [
    {
     "name": "stdout",
     "output_type": "stream",
     "text": [
      "4\n",
      "2 3 5 7\n",
      "1\n",
      "5\n",
      "1\n"
     ]
    }
   ],
   "source": [
    "# 맞았음\n",
    "n = int(input())\n",
    "weight_limits = list(map(int, input().split()))\n",
    "\n",
    "m = int(input())\n",
    "weights = list(map(int, input().split()))\n",
    "\n",
    "if max(weight_limits) < max(weights):\n",
    "    print(-1)\n",
    "else:\n",
    "    weight_limits = sorted(weight_limits)\n",
    "\n",
    "    possible_count_li = [0] * n\n",
    "\n",
    "    for i in range(len(weight_limits)):\n",
    "        for j in range(len(weights)):\n",
    "            if weights[j] <= weight_limits[i]:\n",
    "                possible_count_li[i] += 1\n",
    "\n",
    "    count = 0\n",
    "    while possible_count_li != [0] * n:\n",
    "        count += 1\n",
    "        for i in range(len(weight_limits)):\n",
    "            if possible_count_li[i] != 0:\n",
    "                if i >= 1:\n",
    "                    for j in range(i - 1, -1, -1):\n",
    "                        if possible_count_li[j] == possible_count_li[i]:\n",
    "                            possible_count_li[j] -= 1\n",
    "                        else:\n",
    "                            break\n",
    "                \n",
    "                possible_count_li[i:] = list(map(lambda x: x - 1, possible_count_li[i:]))\n",
    "    print(count)"
   ]
  },
  {
   "cell_type": "code",
   "execution_count": 19,
   "metadata": {},
   "outputs": [
    {
     "name": "stdout",
     "output_type": "stream",
     "text": [
      "3\n",
      "6 8 9\n",
      "5\n",
      "2 5 2 4 7\n",
      "2\n"
     ]
    }
   ],
   "source": [
    "## 예시 정답\n",
    "\n",
    "import sys\n",
    "\n",
    "n = int(input())\n",
    "cranes = list(map(int, input().split()))\n",
    "\n",
    "m = int(input())\n",
    "boxes = list(map(int, input().split()))\n",
    "\n",
    "if max(cranes) < max(boxes):\n",
    "    print(-1)\n",
    "    sys.exit()\n",
    "    \n",
    "positions = [0] * n\n",
    "checked = [False] * m\n",
    "cranes.sort(reverse=True)\n",
    "boxes.sort(reverse=True)\n",
    "\n",
    "result = 0\n",
    "count = 0\n",
    "\n",
    "while True:\n",
    "    if count == len(boxes):\n",
    "        break\n",
    "    for i in range(n):\n",
    "        while positions[i] < len(boxes):\n",
    "            if not checked[positions[i]] and cranes[i] >= boxes[positions[i]]:\n",
    "                checked[positions[i]] = True\n",
    "                positions[i] += 1\n",
    "                count += 1\n",
    "                break\n",
    "            positions[i] += 1\n",
    "    result += 1\n",
    "        \n",
    "print(result)"
   ]
  },
  {
   "cell_type": "markdown",
   "metadata": {},
   "source": [
    "### 센서 2212"
   ]
  },
  {
   "cell_type": "markdown",
   "metadata": {},
   "source": [
    "5.53 6.07  \n",
    "11.56"
   ]
  },
  {
   "cell_type": "code",
   "execution_count": 1,
   "metadata": {},
   "outputs": [
    {
     "name": "stdout",
     "output_type": "stream",
     "text": [
      "1 6 9 3 6 7\n"
     ]
    }
   ],
   "source": [
    "li = list(map(int, input().split()))"
   ]
  },
  {
   "cell_type": "code",
   "execution_count": 4,
   "metadata": {},
   "outputs": [],
   "source": [
    "li = sorted(set(li))"
   ]
  },
  {
   "cell_type": "code",
   "execution_count": 5,
   "metadata": {},
   "outputs": [],
   "source": [
    "diff = []\n",
    "for i in range(len(li) - 1):\n",
    "    diff.append(li[i + 1] - li[i])"
   ]
  },
  {
   "cell_type": "code",
   "execution_count": 9,
   "metadata": {},
   "outputs": [],
   "source": [
    "diff = sorted(diff, reverse=True)"
   ]
  },
  {
   "cell_type": "code",
   "execution_count": 11,
   "metadata": {},
   "outputs": [],
   "source": [
    "diff_sum = sum(diff)"
   ]
  },
  {
   "cell_type": "code",
   "execution_count": 18,
   "metadata": {},
   "outputs": [],
   "source": [
    "result = diff[k-1:]"
   ]
  },
  {
   "cell_type": "code",
   "execution_count": 26,
   "metadata": {},
   "outputs": [
    {
     "name": "stdout",
     "output_type": "stream",
     "text": [
      "3\n",
      "1\n",
      "1 4 6\n",
      "5\n"
     ]
    }
   ],
   "source": [
    "n = int(input())\n",
    "k = int(input())\n",
    "li = list(map(int, input().split()))\n",
    "\n",
    "li = sorted(set(li))\n",
    "\n",
    "diff = []\n",
    "for i in range(len(li) - 1):\n",
    "    diff.append(li[i + 1] - li[i])\n",
    "\n",
    "diff = sorted(diff, reverse=True)\n",
    "diff_sum = sum(diff)\n",
    "result_li = diff[k-1:]\n",
    "\n",
    "if result_li:\n",
    "    print(sum(result_li))\n",
    "else:\n",
    "    print(0)"
   ]
  },
  {
   "cell_type": "markdown",
   "metadata": {},
   "source": [
    "### 도서관 1461"
   ]
  },
  {
   "cell_type": "code",
   "execution_count": null,
   "metadata": {},
   "outputs": [],
   "source": [
    "# 이전에 풀어서 맞았음\n",
    "n, m = map(int, input().split())\n",
    "li = list(map(int, input().split()))\n",
    "\n",
    "minuses = sorted([-v for v in li if v < 0])\n",
    "pluses = sorted([v for v in li if v > 0])\n",
    "\n",
    "count = 0\n",
    "if not minuses:\n",
    "    count += pluses[-1]\n",
    "    for _ in range(m):\n",
    "        pluses.pop()\n",
    "        if not pluses:\n",
    "            break\n",
    "elif not pluses:\n",
    "    count += minuses[-1]\n",
    "    for _ in range(m):\n",
    "        minuses.pop()\n",
    "        if not minuses:\n",
    "            break\n",
    "elif pluses[-1] >= minuses[-1]:\n",
    "    count += pluses[-1]\n",
    "    for _ in range(m):\n",
    "        pluses.pop()\n",
    "        if not pluses:\n",
    "            break\n",
    "elif minuses[-1] > pluses[-1]:\n",
    "    count += minuses[-1]\n",
    "    for _ in range(m):\n",
    "        minuses.pop()\n",
    "        if not minuses:\n",
    "            break\n",
    "\n",
    "while minuses:\n",
    "    count += 2 * minuses[-1]\n",
    "    for _ in range(m):\n",
    "        minuses.pop()\n",
    "        if not minuses:\n",
    "            break\n",
    "            \n",
    "while pluses:\n",
    "    count += 2 * pluses[-1]\n",
    "    for _ in range(m):\n",
    "        pluses.pop()\n",
    "        if not pluses:\n",
    "            break\n",
    "            \n",
    "print(count)"
   ]
  },
  {
   "cell_type": "code",
   "execution_count": null,
   "metadata": {},
   "outputs": [],
   "source": [
    "# 예시 코드\n",
    "\n",
    "import heapq\n",
    "\n",
    "n, m = map(int, input().split(''))\n",
    "\n",
    "array = list(map(int, input().split('')))\n",
    "positive = []\n",
    "negative = []\n",
    "\n",
    "largest = max(max(array), - min(array))\n",
    "\n",
    "for i in array:\n",
    "    if i > 0:\n",
    "        heapq.heappush(positive, -i)\n",
    "    else:\n",
    "        heapq.heappush(negative, i)\n",
    "\n",
    "result = 0\n",
    "\n",
    "while positive:\n",
    "    result += heapq,heappop(positive)\n",
    "    for _ in range(m - 1):\n",
    "        if positive:\n",
    "            heapq.heappop(positive)\n",
    "while negative:\n",
    "    result += heapq.heappop(negative)\n",
    "    for _ in range(m - 1):\n",
    "        if negative:\n",
    "            heapq.heappop(negative)\n",
    "            \n",
    "pirnt(-result * 2 - largest)"
   ]
  },
  {
   "cell_type": "code",
   "execution_count": 3,
   "metadata": {},
   "outputs": [
    {
     "data": {
      "text/plain": [
       "4"
      ]
     },
     "execution_count": 3,
     "metadata": {},
     "output_type": "execute_result"
    }
   ],
   "source": [
    "max(3, 4, 3)"
   ]
  },
  {
   "cell_type": "markdown",
   "metadata": {},
   "source": [
    "### 컵라면 1781\n",
    "- 그리디"
   ]
  },
  {
   "cell_type": "markdown",
   "metadata": {},
   "source": [
    "10:34 ~ 10:52"
   ]
  },
  {
   "cell_type": "code",
   "execution_count": null,
   "metadata": {},
   "outputs": [],
   "source": [
    "import heapq\n",
    "\n",
    "n = int(input())"
   ]
  },
  {
   "cell_type": "code",
   "execution_count": 10,
   "metadata": {},
   "outputs": [
    {
     "name": "stdout",
     "output_type": "stream",
     "text": [
      "1\n",
      "2 4\n",
      "4\n"
     ]
    }
   ],
   "source": [
    "import heapq\n",
    "import sys\n",
    "# input = sys.stdin.readline\n",
    "\n",
    "n = int(input())\n",
    "\n",
    "li = []\n",
    "for _ in range(n):\n",
    "    d, r = map(int, input().split())\n",
    "    li.append((d, r))\n",
    "\n",
    "li.sort(key=lambda x: x[0])\n",
    "\n",
    "heap = []\n",
    "for d, r in li:\n",
    "    heapq.heappush(heap, r)  \n",
    "    if len(heap) > d:\n",
    "        heapq.heappop(heap)\n",
    "\n",
    "print(sum(heap))"
   ]
  }
 ],
 "metadata": {
  "kernelspec": {
   "display_name": "Python 3",
   "language": "python",
   "name": "python3"
  },
  "language_info": {
   "codemirror_mode": {
    "name": "ipython",
    "version": 3
   },
   "file_extension": ".py",
   "mimetype": "text/x-python",
   "name": "python",
   "nbconvert_exporter": "python",
   "pygments_lexer": "ipython3",
   "version": "3.7.3"
  }
 },
 "nbformat": 4,
 "nbformat_minor": 4
}
