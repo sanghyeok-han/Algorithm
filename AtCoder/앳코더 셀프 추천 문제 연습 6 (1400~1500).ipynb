{
 "cells": [
  {
   "cell_type": "markdown",
   "metadata": {},
   "source": [
    "1400 1500 5\n",
    "1. https://atcoder.jp/contests/abc075/tasks/abc075_d   D. Axis-Parallel Rectangle\n",
    "\n",
    "2. https://atcoder.jp/contests/abc184/tasks/abc184_e   E. Third Avenue\n",
    "\n",
    "3. https://atcoder.jp/contests/arc108/tasks/arc108_c   C. Keep Graph Connected\n",
    "\n",
    "4. https://atcoder.jp/contests/arc124/tasks/arc124_c   C. LCM of GCDs\n",
    "\n",
    "5. https://atcoder.jp/contests/abc059/tasks/arc072_a   C. Sequence"
   ]
  },
  {
   "cell_type": "markdown",
   "metadata": {},
   "source": [
    "1"
   ]
  },
  {
   "cell_type": "code",
   "execution_count": 13,
   "metadata": {},
   "outputs": [
    {
     "data": {
      "text/plain": [
       "1500625"
      ]
     },
     "execution_count": 13,
     "metadata": {},
     "output_type": "execute_result"
    }
   ],
   "source": [
    "(50 * 49 // 2) * (50 * 49 // 2)"
   ]
  },
  {
   "cell_type": "code",
   "execution_count": 4,
   "metadata": {},
   "outputs": [
    {
     "data": {
      "text/plain": [
       "11515000"
      ]
     },
     "execution_count": 4,
     "metadata": {},
     "output_type": "execute_result"
    }
   ],
   "source": [
    "temp = 50 * 49 * 48 * 47 // (4 * 3 * 2 * 1)\n",
    "temp * 50"
   ]
  },
  {
   "cell_type": "code",
   "execution_count": 37,
   "metadata": {},
   "outputs": [
    {
     "name": "stdout",
     "output_type": "stream",
     "text": [
      "4 2\n",
      "0 0\n",
      "1 1\n",
      "2 2\n",
      "3 3\n"
     ]
    }
   ],
   "source": [
    "n, k = map(int, input().split())\n",
    "li = [list(map(int, input().split())) for _ in range(n)]\n",
    "\n",
    "r = float('inf')\n",
    "for xi1 in range(n):\n",
    "    for xi2 in range(xi1 + 1, n):\n",
    "        x1 = li[xi1][0]\n",
    "        x2 = li[xi2][0]\n",
    "\n",
    "        if x1 > x2:\n",
    "            x1, x2 = x2, x1\n",
    "        \n",
    "        for yi1 in range(n):\n",
    "            for yi2 in range(yi1 + 1, n):    \n",
    "                y1 = li[yi1][1]\n",
    "                y2 = li[yi2][1]\n",
    "                \n",
    "                if y1 > y2:\n",
    "                    y1, y2 = y2, y1\n",
    "                    \n",
    "                area = (x2 - x1) * (y2 - y1)\n",
    "                if area >= r:\n",
    "                    continue\n",
    "                    \n",
    "                c = 0\n",
    "                for xx, yy in li:\n",
    "                    if x1 <= xx <= x2 and y1 <= yy <= y2:\n",
    "                        c += 1\n",
    "                        \n",
    "                if c >= k:\n",
    "                    r = area\n",
    "                    \n",
    "print(r)"
   ]
  },
  {
   "cell_type": "markdown",
   "metadata": {},
   "source": [
    "2"
   ]
  },
  {
   "cell_type": "code",
   "execution_count": 5,
   "metadata": {},
   "outputs": [
    {
     "name": "stdout",
     "output_type": "stream",
     "text": [
      "2 5\n",
      "S.b.b\n",
      "a.a.G\n",
      "4\n"
     ]
    }
   ],
   "source": [
    "from collections import defaultdict as dd\n",
    "from collections import deque\n",
    "import sys\n",
    "input = lambda: sys.stdin.readline().rstrip()\n",
    "\n",
    "n, m = map(int, input().split())\n",
    "li = [list(input()) for _ in range(n)]\n",
    "\n",
    "d = dd(list)\n",
    "sx, sy = 0, 0\n",
    "tx, ty = 0, 0\n",
    "for i in range(n):\n",
    "    for j in range(m):\n",
    "        if li[i][j] == 'S':\n",
    "            sx = i\n",
    "            sy = j\n",
    "            li[i][j] = '.'\n",
    "        elif li[i][j] == 'G':\n",
    "            tx = i\n",
    "            ty = j\n",
    "            li[i][j] = '.'\n",
    "        elif li[i][j] != '#' and li[i][j] != '.':\n",
    "            d[li[i][j]].append((i, j))\n",
    "        \n",
    "dx = [-1, 1, 0, 0]\n",
    "dy = [0, 0, -1, 1]\n",
    "        \n",
    "vt = [[False] * m for _ in range(n)]\n",
    "vt[sx][sy] = True\n",
    "queue = deque() # (x, y, count)\n",
    "queue.append((sx, sy, 0))\n",
    "\n",
    "r = -1\n",
    "while queue:\n",
    "    x, y, count = queue.popleft()\n",
    "    \n",
    "    if x == tx and y == ty:\n",
    "        r = count\n",
    "        break\n",
    "    \n",
    "    if li[x][y] != '.':\n",
    "        while d[li[x][y]]:\n",
    "            nx, ny = d[li[x][y]].pop()\n",
    "            \n",
    "            if vt[nx][ny]:\n",
    "                continue\n",
    "            queue.append((nx, ny, count + 1))\n",
    "    \n",
    "    for i in range(4):\n",
    "        nx = x + dx[i]\n",
    "        ny = y + dy[i]\n",
    "        \n",
    "        if nx < 0 or nx >= n or ny < 0 or ny >= m:\n",
    "            continue\n",
    "        if li[nx][ny] == '#':\n",
    "            continue\n",
    "        if vt[nx][ny]:\n",
    "            continue\n",
    "        vt[nx][ny] = True\n",
    "        \n",
    "        queue.append((nx, ny, count + 1))\n",
    "        \n",
    "print(r)"
   ]
  },
  {
   "cell_type": "markdown",
   "metadata": {},
   "source": [
    "3"
   ]
  },
  {
   "cell_type": "code",
   "execution_count": 3,
   "metadata": {},
   "outputs": [
    {
     "name": "stdout",
     "output_type": "stream",
     "text": [
      "3 4\n",
      "1 2 1\n",
      "2 3 2\n",
      "3 1 3\n",
      "1 3 1\n",
      "1\n",
      "2\n",
      "1\n"
     ]
    }
   ],
   "source": [
    "import sys\n",
    "input = lambda: sys.stdin.readline().rstrip()\n",
    "\n",
    "## PYRIVAL BOOTSTRAP\n",
    "# https://github.com/cheran-senthil/PyRival/blob/master/pyrival/misc/bootstrap.py\n",
    "# This decorator allows for recursion without actually doing recursion\n",
    "## @bootstrap, yield when getting and returning value in recursive functions, end of functions\n",
    "from types import GeneratorType\n",
    "\n",
    "def bootstrap(f, stack=[]):\n",
    "    def wrappedfunc(*args, **kwargs):\n",
    "        if stack:\n",
    "            return f(*args, **kwargs)\n",
    "        else:\n",
    "            to = f(*args, **kwargs)\n",
    "            while True:\n",
    "                if type(to) is GeneratorType:\n",
    "                    stack.append(to)\n",
    "                    to = next(to)\n",
    "                else:\n",
    "                    stack.pop()\n",
    "                    if not stack:\n",
    "                        break\n",
    "                    to = stack[-1].send(to)\n",
    "            return to\n",
    "    return wrappedfunc\n",
    "\n",
    "@bootstrap\n",
    "def find(v):\n",
    "    if v == parent[v]:\n",
    "        yield v\n",
    "    parent[v] = yield find(parent[v])\n",
    "    yield parent[v]\n",
    "\n",
    "def union(a, b):\n",
    "    if a > b:\n",
    "        a, b = b, a\n",
    "    parent[b] = a\n",
    "\n",
    "@bootstrap    \n",
    "def dfs(value):\n",
    "    vt[value] = True\n",
    "    \n",
    "    for v, c in li[value]:\n",
    "        if vt[v]:\n",
    "            continue\n",
    "        if colors[value] == c:\n",
    "            if c == 1:\n",
    "                colors[v] = 2\n",
    "            else:\n",
    "                colors[v] = 1\n",
    "        else:\n",
    "            colors[v] = c\n",
    "            \n",
    "        yield dfs(v)\n",
    "    yield\n",
    "    \n",
    "n, m = map(int, input().split())\n",
    "\n",
    "parent = list(range(n + 1))\n",
    "li = [[] for _ in range(n + 1)]\n",
    "for _ in range(m):\n",
    "    a, b, c = map(int, input().split())\n",
    "    \n",
    "    ra = find(a)\n",
    "    rb = find(b)\n",
    "    if ra == rb:\n",
    "        continue\n",
    "    union(ra, rb)\n",
    "    li[a].append((b, c))\n",
    "    li[b].append((a, c))\n",
    "    \n",
    "colors = [0] * (n + 1)\n",
    "colors[1] = 1\n",
    "vt = [False] * (n + 1)\n",
    "dfs(1)\n",
    "\n",
    "for i in range(1, n + 1):\n",
    "    print(colors[i])"
   ]
  },
  {
   "cell_type": "markdown",
   "metadata": {},
   "source": [
    "4"
   ]
  },
  {
   "cell_type": "code",
   "execution_count": null,
   "metadata": {},
   "outputs": [],
   "source": [
    "from math import gcd\n",
    "\n",
    "def get_divisors(num):\n",
    "    divisors = set()\n",
    "    for mod in range(1, int(num ** 0.5) + 1):\n",
    "        if num % mod == 0:\n",
    "            divisors.add(mod)\n",
    "            divisors.add(num // mod)\n",
    "            \n",
    "    return divisors\n",
    "\n",
    "lcm = lambda a, b: a * b // gcd(a, b)\n",
    "\n",
    "n = int(input())\n",
    "li = [list(map(int, input().split())) for _ in range(n)]\n",
    "\n",
    "xs = get_divisors(li[0][0])\n",
    "ys = get_divisors(li[0][1])\n",
    "\n",
    "max_value = 0\n",
    "for x in xs:\n",
    "    for y in ys:\n",
    "        ip = True\n",
    "        for a, b in li:\n",
    "            if a % x == 0 and b % y == 0 or b % x == 0 and a % y == 0:\n",
    "                continue\n",
    "            ip = False\n",
    "            break\n",
    "        if ip:\n",
    "            max_value = max(max_value, lcm(x, y))\n",
    "            \n",
    "print(max_value)"
   ]
  },
  {
   "cell_type": "markdown",
   "metadata": {},
   "source": [
    "5"
   ]
  },
  {
   "cell_type": "code",
   "execution_count": null,
   "metadata": {},
   "outputs": [],
   "source": [
    "+-+-+-인 경우하고 -+-+-+인 경우 둘 다 해보기"
   ]
  },
  {
   "cell_type": "code",
   "execution_count": 24,
   "metadata": {},
   "outputs": [
    {
     "name": "stdout",
     "output_type": "stream",
     "text": [
      "6\n",
      "-1 4 3 2 -5 4\n",
      "8\n"
     ]
    }
   ],
   "source": [
    "n = int(input())\n",
    "li = list(map(int, input().split()))\n",
    "\n",
    "sli = [0] * (n + 1)\n",
    "cumul = 0\n",
    "for i in range(n):\n",
    "    cumul += li[i]\n",
    "    sli[i + 1] = cumul\n",
    "    \n",
    "tc1 = 0\n",
    "to_add = 0\n",
    "# +-+-+-\n",
    "for i in range(1, n + 1):\n",
    "    cur = sli[i] + to_add\n",
    "    \n",
    "    if i % 2 == 1:\n",
    "        if cur > 0:\n",
    "            continue\n",
    "        diff = 1 - cur\n",
    "        tc1 += diff\n",
    "        to_add += diff\n",
    "    else:\n",
    "        if cur < 0:\n",
    "            continue\n",
    "        diff = cur + 1\n",
    "        tc1 += diff\n",
    "        to_add -= diff\n",
    "           \n",
    "tc2 = 0\n",
    "to_add = 0\n",
    "# -+-+-+\n",
    "for i in range(1, n + 1):\n",
    "    cur = sli[i] + to_add\n",
    "    \n",
    "    if i % 2 == 0:\n",
    "        if cur > 0:\n",
    "            continue\n",
    "        diff = 1 - cur\n",
    "        tc2 += diff\n",
    "        to_add += diff\n",
    "    else:\n",
    "        if cur < 0:\n",
    "            continue\n",
    "        diff = cur + 1\n",
    "        tc2 += diff\n",
    "        to_add -= diff\n",
    "        \n",
    "r = min(tc1, tc2)\n",
    "\n",
    "print(r)"
   ]
  }
 ],
 "metadata": {
  "kernelspec": {
   "display_name": "Python 3",
   "language": "python",
   "name": "python3"
  },
  "language_info": {
   "codemirror_mode": {
    "name": "ipython",
    "version": 3
   },
   "file_extension": ".py",
   "mimetype": "text/x-python",
   "name": "python",
   "nbconvert_exporter": "python",
   "pygments_lexer": "ipython3",
   "version": "3.7.4"
  }
 },
 "nbformat": 4,
 "nbformat_minor": 4
}
