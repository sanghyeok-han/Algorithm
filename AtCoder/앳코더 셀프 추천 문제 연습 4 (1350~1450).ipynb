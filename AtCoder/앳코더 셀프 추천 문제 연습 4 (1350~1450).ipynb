{
 "cells": [
  {
   "cell_type": "markdown",
   "metadata": {},
   "source": [
    "1350 1450 5\n",
    "1. https://atcoder.jp/contests/abc159/tasks/abc159_e   E. Dividing Chocolate\n",
    "\n",
    "2. https://atcoder.jp/contests/code-festival-2016-qualc/tasks/codefestival_2016_qualC_c   C. 二人のアルピニスト / Two Alpinists\n",
    "\n",
    "3. https://atcoder.jp/contests/abc184/tasks/abc184_f   F. Programming Contest\n",
    "\n",
    "4. https://atcoder.jp/contests/abc169/tasks/abc169_e   E. Count Median\n",
    "\n",
    "5. https://atcoder.jp/contests/abc047/tasks/arc063_b   D. 高橋君と見えざる手 / An Invisible Hand"
   ]
  },
  {
   "cell_type": "markdown",
   "metadata": {},
   "source": [
    "1"
   ]
  },
  {
   "cell_type": "code",
   "execution_count": 66,
   "metadata": {},
   "outputs": [
    {
     "name": "stdout",
     "output_type": "stream",
     "text": [
      "3\n"
     ]
    }
   ],
   "source": [
    "from itertools import combinations as comb\n",
    "\n",
    "h, w, k = map(int, input().split())\n",
    "li = [list(map(int, input())) for _ in range(h)]\n",
    "\n",
    "li = [list(v) for v in zip(*li)]\n",
    "h, w = w, h\n",
    "\n",
    "sli = []\n",
    "for v in li:\n",
    "    sv = [0]\n",
    "    cumul = 0\n",
    "    for vv in v:\n",
    "        cumul += vv\n",
    "        sv.append(cumul)\n",
    "    sli.append(sv)\n",
    "\n",
    "min_count = float('inf')\n",
    "for pnum in range(w):\n",
    "    ip = True\n",
    "    nnp = False # need new partition\n",
    "    for ps in comb(range(1, w), pnum):\n",
    "        cumuls = [0] * (len(ps) + 1)\n",
    "        count = pnum\n",
    "        for i in range(h):\n",
    "            fp = 0\n",
    "            temp = [0] * (len(ps) + 1)\n",
    "            for index, p in enumerate(ps + (w,)):\n",
    "                sv = sli[i][p] - sli[i][fp]\n",
    "                temp[index] = sv\n",
    "                fp = p\n",
    "            \n",
    "            for j in range(len(ps) + 1):\n",
    "                if temp[j] > k:\n",
    "                    ip = False\n",
    "                    break\n",
    "                if cumuls[j] + temp[j] > k:\n",
    "                    nnp = True\n",
    "                    \n",
    "            if not ip:\n",
    "                break\n",
    "            if nnp:\n",
    "                cumuls = temp.copy()\n",
    "                count += 1\n",
    "                nnp = False\n",
    "            else:\n",
    "                for j in range(len(ps) + 1):\n",
    "                    cumuls[j] += temp[j]\n",
    "                    \n",
    "        if ip:\n",
    "            min_count = min(min_count, count)\n",
    "            \n",
    "print(min_count)"
   ]
  },
  {
   "cell_type": "markdown",
   "metadata": {},
   "source": [
    "2"
   ]
  },
  {
   "cell_type": "code",
   "execution_count": null,
   "metadata": {},
   "outputs": [],
   "source": [
    "숫자가 높아진다면 해당 값이 max가 됨"
   ]
  },
  {
   "cell_type": "code",
   "execution_count": 87,
   "metadata": {},
   "outputs": [
    {
     "name": "stdout",
     "output_type": "stream",
     "text": [
      "5\n",
      "1 3 3 3 3\n",
      "3 3 2 2 2\n",
      "4\n"
     ]
    }
   ],
   "source": [
    "mod = int(1e9) + 7\n",
    "\n",
    "n = int(input())\n",
    "a = list(map(int, input().split()))\n",
    "b = list(map(int, input().split()))\n",
    "\n",
    "def solve():\n",
    "    hs = [-1] * n\n",
    "    hs[0] = a[0]\n",
    "    for i in range(1, n):\n",
    "        if a[i - 1] > a[i]:\n",
    "            return 0\n",
    "        if a[i - 1] < a[i]:\n",
    "            hs[i] = a[i]\n",
    "\n",
    "    if hs[n - 1] != -1 and hs[n - 1] != b[n - 1]:\n",
    "        return 0\n",
    "    hs[n - 1] = b[n - 1]\n",
    "    for i in range(n - 2, -1, -1):\n",
    "        if b[i] < b[i + 1]:\n",
    "            return 0\n",
    "        if hs[i] != -1:\n",
    "            if b[i] < hs[i]:\n",
    "                return 0\n",
    "        if b[i] > b[i + 1]:\n",
    "            if hs[i] != -1 and hs[i] != b[i]:\n",
    "                return 0\n",
    "            hs[i] = b[i]\n",
    "        \n",
    "    mins = [min(a[i], b[i]) for i in range(n)]\n",
    "    cur = 1\n",
    "    for i in range(n):\n",
    "        if hs[i] != -1:\n",
    "            continue\n",
    "        cur *= mins[i]\n",
    "        cur %= mod\n",
    "        \n",
    "    return cur\n",
    "\n",
    "r = solve()\n",
    "\n",
    "print(r)"
   ]
  },
  {
   "cell_type": "code",
   "execution_count": null,
   "metadata": {},
   "outputs": [],
   "source": [
    "4\n",
    "2 2 4 4\n",
    "3 3 3 3\n",
    "2"
   ]
  },
  {
   "cell_type": "markdown",
   "metadata": {},
   "source": [
    "3"
   ]
  },
  {
   "cell_type": "code",
   "execution_count": null,
   "metadata": {},
   "outputs": [],
   "source": [
    "중간에서 만나기"
   ]
  },
  {
   "cell_type": "code",
   "execution_count": 32,
   "metadata": {},
   "outputs": [
    {
     "name": "stdout",
     "output_type": "stream",
     "text": [
      "7 273599681\n",
      "6706927 91566569 89131517 71069699 75200339 98298649 92857057\n"
     ]
    }
   ],
   "source": [
    "n, t = map(int, input().split())\n",
    "li = list(map(int, input().split()))"
   ]
  },
  {
   "cell_type": "code",
   "execution_count": 34,
   "metadata": {},
   "outputs": [
    {
     "name": "stdout",
     "output_type": "stream",
     "text": [
      "6 100\n",
      "1 2 7 5 8 10\n",
      "33\n"
     ]
    }
   ],
   "source": [
    "from itertools import combinations as comb\n",
    "from bisect import bisect\n",
    "\n",
    "n, t = map(int, input().split())\n",
    "li = list(map(int, input().split()))\n",
    "\n",
    "a = li[:n // 2]\n",
    "b = li[n // 2:]\n",
    "\n",
    "aa = set()\n",
    "for c in range(1, len(a) + 1):\n",
    "    for case in comb(a, c):\n",
    "        aa.add(sum(case))\n",
    "        \n",
    "aa = sorted(aa)\n",
    "\n",
    "bb = set()\n",
    "for c in range(1, len(b) + 1):\n",
    "    for case in comb(b, c):\n",
    "        bb.add(sum(case))\n",
    "        \n",
    "bb = sorted(bb)\n",
    "\n",
    "r = 0\n",
    "\n",
    "index = bisect(aa, t) - 1\n",
    "if index != -1:\n",
    "    r = aa[index]\n",
    "    \n",
    "index = bisect(bb, t) - 1\n",
    "if index != -1:\n",
    "    r = max(r, bb[index])\n",
    "    \n",
    "for v in aa:\n",
    "    if v >= t:\n",
    "        break\n",
    "        \n",
    "    remained = t - v\n",
    "    index = bisect(bb, remained) - 1\n",
    "    \n",
    "    if index != -1:\n",
    "        r = max(r, v + bb[index])\n",
    "        \n",
    "print(r)"
   ]
  },
  {
   "cell_type": "markdown",
   "metadata": {},
   "source": [
    "4"
   ]
  },
  {
   "cell_type": "code",
   "execution_count": 63,
   "metadata": {},
   "outputs": [
    {
     "name": "stdout",
     "output_type": "stream",
     "text": [
      "2\n",
      "1 2\n",
      "2 3\n",
      "3\n"
     ]
    }
   ],
   "source": [
    "n = int(input())\n",
    "\n",
    "a = []\n",
    "b = []\n",
    "for _ in range(n):\n",
    "    aa, bb = map(int, input().split())\n",
    "    \n",
    "    a.append(aa)\n",
    "    b.append(bb)\n",
    "    \n",
    "a.sort()\n",
    "b.sort()\n",
    "\n",
    "r = 0\n",
    "if n % 2 == 1:\n",
    "    mi = n // 2\n",
    "    s = a[mi]\n",
    "    e = b[mi]\n",
    "    \n",
    "    r = e - s + 1\n",
    "else:\n",
    "    mi = (n - 1) // 2\n",
    "    s = a[mi] + a[mi + 1]\n",
    "    e = b[mi] + b[mi + 1]\n",
    "    \n",
    "    r = e - s + 1\n",
    "    \n",
    "print(r)"
   ]
  },
  {
   "cell_type": "markdown",
   "metadata": {},
   "source": [
    "5"
   ]
  },
  {
   "cell_type": "code",
   "execution_count": 113,
   "metadata": {},
   "outputs": [
    {
     "name": "stdout",
     "output_type": "stream",
     "text": [
      "5 8\n",
      "3 8 2 7 8\n",
      "1\n"
     ]
    }
   ],
   "source": [
    "n, t = map(int, input().split())\n",
    "li = list(map(int, input().split()))\n",
    "\n",
    "bpc = 0 # buying points count\n",
    "spc = 0 # selling points count\n",
    "cmpc = 1 # cur min points count\n",
    "unused_cmpc = 1\n",
    "cur_min = li[0]\n",
    "cur_max_profit = 1\n",
    "for i in range(1, n):\n",
    "    profit = li[i] - cur_min\n",
    "    if profit > cur_max_profit:\n",
    "        cur_max_profit = profit\n",
    "        spc = 1\n",
    "        bpc = cmpc\n",
    "        unused_cmpc = 0\n",
    "    elif profit == cur_max_profit:\n",
    "        bpc += unused_cmpc\n",
    "        unused_cmpc = 0\n",
    "        spc += 1\n",
    "        \n",
    "    if li[i] < cur_min:\n",
    "        cur_min = li[i]\n",
    "        cmpc = 1\n",
    "        unused_cmpc = 1\n",
    "    elif li[i] == cur_min:\n",
    "        cmpc += 1\n",
    "        unused_cmpc += 1\n",
    "    \n",
    "r = min(bpc, spc)\n",
    "\n",
    "print(r)"
   ]
  }
 ],
 "metadata": {
  "kernelspec": {
   "display_name": "Python 3",
   "language": "python",
   "name": "python3"
  },
  "language_info": {
   "codemirror_mode": {
    "name": "ipython",
    "version": 3
   },
   "file_extension": ".py",
   "mimetype": "text/x-python",
   "name": "python",
   "nbconvert_exporter": "python",
   "pygments_lexer": "ipython3",
   "version": "3.7.4"
  }
 },
 "nbformat": 4,
 "nbformat_minor": 4
}
