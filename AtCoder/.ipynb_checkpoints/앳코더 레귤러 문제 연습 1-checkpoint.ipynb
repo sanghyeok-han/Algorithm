{
 "cells": [
  {
   "cell_type": "markdown",
   "metadata": {},
   "source": [
    "https://atcoder.jp/contests/arc149/tasks/arc149_a A - Repdigit Number "
   ]
  },
  {
   "cell_type": "code",
   "execution_count": 11,
   "metadata": {},
   "outputs": [
    {
     "name": "stdout",
     "output_type": "stream",
     "text": [
      "1 3\n",
      "9\n"
     ]
    }
   ],
   "source": [
    "n, m = map(int, input().split())\n",
    "\n",
    "max_c = 0\n",
    "max_c_num = 0\n",
    "\n",
    "for num in range(1, 10):  \n",
    "    c = 1\n",
    "    nnum = num\n",
    "    \n",
    "    if nnum % m == 0:\n",
    "        if c > max_c:\n",
    "            max_c = c\n",
    "            max_c_num = num\n",
    "        elif c == max_c and num > max_c_num:\n",
    "            max_c_num = num \n",
    "    \n",
    "    for _ in range(n - 1):\n",
    "        c += 1\n",
    "        nnum *= 10\n",
    "        nnum += num\n",
    "        nnum %= m\n",
    "        \n",
    "        if nnum == 0:\n",
    "            if c > max_c:\n",
    "                max_c = c\n",
    "                max_c_num = num\n",
    "            elif c == max_c and num > max_c_num:\n",
    "                max_c_num = num\n",
    "        \n",
    "if max_c == 0:\n",
    "    print(-1)\n",
    "else:\n",
    "    print(str(max_c_num) * max_c)"
   ]
  },
  {
   "cell_type": "markdown",
   "metadata": {},
   "source": [
    "https://atcoder.jp/contests/arc149/tasks/arc149_c Avoid Prime Sum"
   ]
  },
  {
   "cell_type": "code",
   "execution_count": null,
   "metadata": {},
   "outputs": [],
   "source": [
    "3 * 3\n",
    "\n",
    "1 3 5 7 9\n",
    "2 4 6 8\n",
    "\n"
   ]
  },
  {
   "cell_type": "code",
   "execution_count": 1,
   "metadata": {},
   "outputs": [
    {
     "data": {
      "text/plain": [
       "(2, 4, 6, 2, 4, 6, 2, 4, 6)"
      ]
     },
     "execution_count": 1,
     "metadata": {},
     "output_type": "execute_result"
    }
   ],
   "source": [
    "3 * 3\n",
    "\n",
    "3 * (1, 3)\n",
    "3 * (2, 4)\n",
    "\n",
    "4 * 4\n",
    "\n",
    "3 * (1, 3, 5)\n",
    "3 * (2, 4, 6)\n",
    "\n",
    "5 * 5\n",
    "\n",
    "3 * (1, 3, 5, 7)\n",
    "3 * (2, 4, 6, 8)\n",
    "\n",
    "6 * 6\n",
    "\n",
    "3 * (1, 3, 5, 7, 9, 11)\n",
    "3 * (2, 4, 6, 8, 10, 12)\n",
    "\n",
    "7 * 7\n",
    "\n",
    "3 * (1, 3, 5, 7, 9, 11, 13, 15)\n",
    "3 * (2, 4, 6, 8, 10, 12, 14, 16)"
   ]
  },
  {
   "cell_type": "code",
   "execution_count": 28,
   "metadata": {},
   "outputs": [
    {
     "name": "stdout",
     "output_type": "stream",
     "text": [
      "6\n",
      "1 35 5 7 11 13\n",
      "17 19 23 25 29 31\n",
      "3 9 15 21 27 33\n",
      "6 12 18 24 30 36\n",
      "32 2 34 4 8 10\n",
      "14 16 20 22 26 28\n"
     ]
    }
   ],
   "source": [
    "n = int(input())\n",
    "\n",
    "if n == 3:\n",
    "    r = [[1, 3, 5], [8, 6, 9], [4, 2, 7]]\n",
    "elif n == 4:\n",
    "    r = [[7, 11, 13, 15], [3, 9, 1, 5], [6, 12, 8, 10], [2, 4, 14, 16]]\n",
    "elif n == 5:\n",
    "    r = [[5, 7, 11, 13, 17], [19, 23, 25, 21, 1], [3, 9, 15, 24, 8], [6, 12, 18, 2, 4], [10, 14, 16, 20, 22]]\n",
    "elif n >= 6:\n",
    "    pa = [[0] * n for _ in range(n)]\n",
    "    c2 = c1 = (n * n) // 2\n",
    "    if n % 2:\n",
    "        c1 += 1\n",
    "\n",
    "    for i in range(n):\n",
    "        for j in range(n):\n",
    "            if c1:\n",
    "                pa[i][j] = 1\n",
    "                c1 -= 1\n",
    "            else:\n",
    "                pa[i][j] = 2\n",
    "\n",
    "    r = [[0] * n for _ in range(n)]\n",
    "    to_use_1 = set(range(1, n * n + 1, 2))\n",
    "    to_use_2 = set(range(2, n * n + 1, 2))\n",
    "\n",
    "    cur_1 = 3\n",
    "    cur_2 = 6\n",
    "    for i in range(1, n):\n",
    "        for j in range(n):\n",
    "            if pa[i - 1][j] == 1 and pa[i][j] == 2:\n",
    "                r[i - 1][j] = cur_1\n",
    "                r[i][j] = cur_2\n",
    "\n",
    "                to_use_1.discard(cur_1)\n",
    "                to_use_2.discard(cur_2)\n",
    "\n",
    "                cur_1 += 6\n",
    "                cur_2 += 6\n",
    "\n",
    "    for i in range(n):\n",
    "        for j in range(n):\n",
    "            if r[i][j] == 0:\n",
    "                if pa[i][j] == 1:\n",
    "                    r[i][j] = to_use_1.pop()\n",
    "                else:\n",
    "                    r[i][j] = to_use_2.pop()\n",
    "\n",
    "for v in r:\n",
    "    print(*v)"
   ]
  },
  {
   "cell_type": "code",
   "execution_count": 25,
   "metadata": {},
   "outputs": [
    {
     "name": "stdout",
     "output_type": "stream",
     "text": [
      "[1, 3, 5]\n",
      "[8, 6, 9]\n",
      "[4, 2, 7]\n"
     ]
    }
   ],
   "source": [
    "from itertools import permutations as perm\n",
    "\n",
    "max_num = 100\n",
    "ip = [True] * (max_num + 1)\n",
    "ip[0] = ip[1] = False\n",
    "for mod in range(2, int((max_num + 1) ** 0.5) + 1):\n",
    "    if ip[mod]:\n",
    "        for v in range(mod * mod, max_num + 1, mod):\n",
    "            ip[v] = False\n",
    "            \n",
    "p = {i for i, v in enumerate(ip) if v}\n",
    "\n",
    "n = 3\n",
    "\n",
    "for ca in perm(range(1, n * n + 1)):\n",
    "    li = [[ca[0], ca[1], ca[2]], [ca[3], ca[4], ca[5]], [ca[6], ca[7], ca[8]]]\n",
    "    \n",
    "    ip = True\n",
    "    for i in range(n):\n",
    "        for j in range(1, n):\n",
    "            if (li[i][j - 1] + li[i][j]) in p:\n",
    "                ip = False\n",
    "                break\n",
    "\n",
    "    for i in range(1, n):\n",
    "        for j in range(n):\n",
    "            if (li[i - 1][j] + li[i][j]) in p:\n",
    "                ip = False\n",
    "                break               \n",
    "                \n",
    "    if ip:\n",
    "        for v in li:\n",
    "            print(v)\n",
    "        break"
   ]
  },
  {
   "cell_type": "markdown",
   "metadata": {},
   "source": [
    "https://atcoder.jp/contests/arc148/tasks/arc148_a A - mod M"
   ]
  },
  {
   "cell_type": "code",
   "execution_count": 59,
   "metadata": {},
   "outputs": [
    {
     "name": "stdout",
     "output_type": "stream",
     "text": [
      "10\n",
      "3785 5176 10740 7744 3999 3143 9028 2822 4748 6888\n",
      "1\n"
     ]
    }
   ],
   "source": [
    "max_num = 32000\n",
    "ip = [True] * (max_num + 1)\n",
    "ip[0] = ip[1] = False\n",
    "for mod in range(2, int((max_num + 1) ** 0.5) + 1):\n",
    "    if ip[mod]:\n",
    "        for v in range(mod * mod, max_num + 1, mod):\n",
    "            ip[v] = False\n",
    "            \n",
    "primes = [i for i, v in enumerate(ip) if v]\n",
    "\n",
    "def p_facto(num):\n",
    "    r = set()\n",
    "    for mod in primes:\n",
    "        while num % mod == 0:\n",
    "            num //= mod\n",
    "            r.add(mod)\n",
    "    \n",
    "    if num != 1:\n",
    "        r.add(num)\n",
    "        \n",
    "    return r\n",
    "\n",
    "n = int(input())\n",
    "li = list(map(int, input().split()))\n",
    "\n",
    "diffs = []\n",
    "for i in range(n - 1):\n",
    "    temp = abs(li[i + 1] - li[i])\n",
    "    if temp >= 1:\n",
    "        diffs.append(temp)\n",
    "    \n",
    "if not diffs:\n",
    "    print(1)\n",
    "else: \n",
    "    cands = p_facto(diffs[0])\n",
    "    for i in range(1, len(diffs)):\n",
    "        ncands = set()\n",
    "        for p in cands:\n",
    "            if diffs[i] % p == 0:\n",
    "                ncands.add(p)\n",
    "\n",
    "        cands = ncands.copy()\n",
    "\n",
    "    if cands:\n",
    "        print(1)\n",
    "    else:\n",
    "        print(2)"
   ]
  },
  {
   "cell_type": "code",
   "execution_count": 61,
   "metadata": {},
   "outputs": [
    {
     "name": "stdout",
     "output_type": "stream",
     "text": [
      "3\n",
      "1 4 8\n",
      "2\n"
     ]
    }
   ],
   "source": [
    "from math import gcd\n",
    "\n",
    "n = int(input())\n",
    "li = list(map(int, input().split()))\n",
    "\n",
    "diffs = []\n",
    "for i in range(n - 1):\n",
    "    temp = abs(li[i + 1] - li[i])\n",
    "    diffs.append(temp)\n",
    "    \n",
    "cur = diffs[0]\n",
    "for i in range(1, n - 1):\n",
    "    cur = gcd(cur, diffs[i])\n",
    "    \n",
    "if cur == 0:\n",
    "    print(1)\n",
    "elif cur == 1:\n",
    "    print(2)\n",
    "else:\n",
    "    print(1)"
   ]
  },
  {
   "cell_type": "markdown",
   "metadata": {},
   "source": [
    "https://atcoder.jp/contests/arc148/tasks/arc148_b B - dp"
   ]
  },
  {
   "cell_type": "code",
   "execution_count": 10,
   "metadata": {},
   "outputs": [
    {
     "name": "stdout",
     "output_type": "stream",
     "text": [
      "11\n",
      "ddpdpdppddp\n",
      "ddddpdpdddp\n"
     ]
    }
   ],
   "source": [
    "n = int(input())\n",
    "s = input()\n",
    "\n",
    "start = -1\n",
    "for i in range(n):\n",
    "    if s[i] == 'p':\n",
    "        start = i\n",
    "        break\n",
    "        \n",
    "if start == -1:\n",
    "    print(s)\n",
    "else:\n",
    "    min_r = s\n",
    "    for end in range(start, n):\n",
    "        mid = []\n",
    "        for i in range(end, start - 1, -1):\n",
    "            if s[i] == 'p':\n",
    "                mid.append('d')\n",
    "            else:\n",
    "                mid.append('p')\n",
    "                \n",
    "        mid = ''.join(mid)\n",
    "        temp = s[:start] + mid + s[end + 1:]\n",
    "\n",
    "        min_r = min(min_r, temp)\n",
    "        \n",
    "    print(min_r)"
   ]
  },
  {
   "cell_type": "markdown",
   "metadata": {},
   "source": [
    "https://atcoder.jp/contests/arc148/tasks/arc148_c C - Lights Out on Tree"
   ]
  },
  {
   "cell_type": "code",
   "execution_count": 11,
   "metadata": {},
   "outputs": [
    {
     "name": "stdout",
     "output_type": "stream",
     "text": [
      "6 2\n",
      "1 1 2 2 5\n",
      "6 1 2 3 4 5 6\n",
      "6\n",
      "3 2 5 6\n",
      "4\n"
     ]
    }
   ],
   "source": [
    "import sys\n",
    "input = lambda: sys.stdin.readline().rstrip()\n",
    "\n",
    "n, q = map(int, input().split())\n",
    "ps = [0, 0] + list(map(int, input().split()))\n",
    "\n",
    "children_cs = [0] * (n + 1)\n",
    "for i in range(1, n + 1):\n",
    "    p = ps[i]\n",
    "    children_cs[p] += 1\n",
    "\n",
    "for _ in range(q):\n",
    "    m, *temp = map(int, input().split())\n",
    "    \n",
    "    to_ch = set(temp)\n",
    "    result = 0\n",
    "    \n",
    "    for v in to_ch:\n",
    "        result += 1 + children_cs[v]\n",
    "        if ps[v] in to_ch:\n",
    "            result -= 2\n",
    "            \n",
    "    print(result)"
   ]
  },
  {
   "cell_type": "markdown",
   "metadata": {},
   "source": [
    "https://atcoder.jp/contests/arc147/tasks/arc147_a A - Max Mod Min"
   ]
  },
  {
   "cell_type": "code",
   "execution_count": 20,
   "metadata": {},
   "outputs": [
    {
     "name": "stdout",
     "output_type": "stream",
     "text": [
      "6\n",
      "1232 452 23491 34099 57341 21488\n",
      "12\n"
     ]
    }
   ],
   "source": [
    "# 시간 초과\n",
    "\n",
    "# https://github.com/tatyam-prime/SortedSet/blob/main/SortedMultiset.py\n",
    "import math\n",
    "from bisect import bisect_left, bisect_right, insort\n",
    "from typing import Generic, Iterable, Iterator, TypeVar, Union, List\n",
    "T = TypeVar('T')\n",
    "\n",
    "class SortedMultiset(Generic[T]):\n",
    "    BUCKET_RATIO = 50\n",
    "    REBUILD_RATIO = 170\n",
    "\n",
    "    def _build(self, a=None) -> None:\n",
    "        \"Evenly divide `a` into buckets.\"\n",
    "        if a is None: a = list(self)\n",
    "        size = self.size = len(a)\n",
    "        bucket_size = int(math.ceil(math.sqrt(size / self.BUCKET_RATIO)))\n",
    "        self.a = [a[size * i // bucket_size : size * (i + 1) // bucket_size] for i in range(bucket_size)]\n",
    "    \n",
    "    def __init__(self, a: Iterable[T] = []) -> None:\n",
    "        \"Make a new SortedMultiset from iterable. / O(N) if sorted / O(N log N)\"\n",
    "        a = list(a)\n",
    "        if not all(a[i] <= a[i + 1] for i in range(len(a) - 1)):\n",
    "            a = sorted(a)\n",
    "        self._build(a)\n",
    "\n",
    "    def __iter__(self) -> Iterator[T]:\n",
    "        for i in self.a:\n",
    "            for j in i: yield j\n",
    "\n",
    "    def __reversed__(self) -> Iterator[T]:\n",
    "        for i in reversed(self.a):\n",
    "            for j in reversed(i): yield j\n",
    "    \n",
    "    def __len__(self) -> int:\n",
    "        return self.size\n",
    "    \n",
    "    def __repr__(self) -> str:\n",
    "        return \"SortedMultiset\" + str(self.a)\n",
    "    \n",
    "    def __str__(self) -> str:\n",
    "        s = str(list(self))\n",
    "        return \"{\" + s[1 : len(s) - 1] + \"}\"\n",
    "\n",
    "    def _find_bucket(self, x: T) -> List[T]:\n",
    "        \"Find the bucket which should contain x. self must not be empty.\"\n",
    "        for a in self.a:\n",
    "            if x <= a[-1]: return a\n",
    "        return a\n",
    "\n",
    "    def __contains__(self, x: T) -> bool:\n",
    "        if self.size == 0: return False\n",
    "        a = self._find_bucket(x)\n",
    "        i = bisect_left(a, x)\n",
    "        return i != len(a) and a[i] == x\n",
    "\n",
    "    def count(self, x: T) -> int:\n",
    "        \"Count the number of x.\"\n",
    "        return self.index_right(x) - self.index(x)\n",
    "\n",
    "    def add(self, x: T) -> None:\n",
    "        \"Add an element. / O(√N)\"\n",
    "        if self.size == 0:\n",
    "            self.a = [[x]]\n",
    "            self.size = 1\n",
    "            return\n",
    "        a = self._find_bucket(x)\n",
    "        insort(a, x)\n",
    "        self.size += 1\n",
    "        if len(a) > len(self.a) * self.REBUILD_RATIO:\n",
    "            self._build()\n",
    "\n",
    "    def discard(self, x: T) -> bool:\n",
    "        \"Remove an element and return True if removed. / O(√N)\"\n",
    "        if self.size == 0: return False\n",
    "        a = self._find_bucket(x)\n",
    "        i = bisect_left(a, x)\n",
    "        if i == len(a) or a[i] != x: return False\n",
    "        a.pop(i)\n",
    "        self.size -= 1\n",
    "        if len(a) == 0: self._build()\n",
    "        return True\n",
    "\n",
    "    def lt(self, x: T) -> Union[T, None]:\n",
    "        \"Find the largest element < x, or None if it doesn't exist.\"\n",
    "        for a in reversed(self.a):\n",
    "            if a[0] < x:\n",
    "                return a[bisect_left(a, x) - 1]\n",
    "\n",
    "    def le(self, x: T) -> Union[T, None]:\n",
    "        \"Find the largest element <= x, or None if it doesn't exist.\"\n",
    "        for a in reversed(self.a):\n",
    "            if a[0] <= x:\n",
    "                return a[bisect_right(a, x) - 1]\n",
    "\n",
    "    def gt(self, x: T) -> Union[T, None]:\n",
    "        \"Find the smallest element > x, or None if it doesn't exist.\"\n",
    "        for a in self.a:\n",
    "            if a[-1] > x:\n",
    "                return a[bisect_right(a, x)]\n",
    "\n",
    "    def ge(self, x: T) -> Union[T, None]:\n",
    "        \"Find the smallest element >= x, or None if it doesn't exist.\"\n",
    "        for a in self.a:\n",
    "            if a[-1] >= x:\n",
    "                return a[bisect_left(a, x)]\n",
    "    \n",
    "    def __getitem__(self, x: int) -> T:\n",
    "        \"Return the x-th element, or IndexError if it doesn't exist.\"\n",
    "        if x < 0: x += self.size\n",
    "        if x < 0: raise IndexError\n",
    "        for a in self.a:\n",
    "            if x < len(a): return a[x]\n",
    "            x -= len(a)\n",
    "        raise IndexError\n",
    "\n",
    "    def index(self, x: T) -> int:\n",
    "        \"Count the number of elements < x.\"\n",
    "        ans = 0\n",
    "        for a in self.a:\n",
    "            if a[-1] >= x:\n",
    "                return ans + bisect_left(a, x)\n",
    "            ans += len(a)\n",
    "        return ans\n",
    "\n",
    "    def index_right(self, x: T) -> int:\n",
    "        \"Count the number of elements <= x.\"\n",
    "        ans = 0\n",
    "        for a in self.a:\n",
    "            if a[-1] > x:\n",
    "                return ans + bisect_right(a, x)\n",
    "            ans += len(a)\n",
    "        return ans\n",
    "    \n",
    "ms = SortedMultiset()\n",
    "\n",
    "n = int(input())\n",
    "li = list(map(int, input().split()))\n",
    "\n",
    "for v in li:\n",
    "    ms.add(v)\n",
    "    \n",
    "c = 0\n",
    "while len(ms) > 1:\n",
    "    c += 1\n",
    "    \n",
    "    min_v = ms[0]\n",
    "    max_v = ms[-1]\n",
    "    \n",
    "    ms.discard(max_v)\n",
    "    \n",
    "    temp = max_v % min_v\n",
    "    if temp != 0:\n",
    "        ms.add(temp)\n",
    "        \n",
    "    if temp == 1:\n",
    "        c += len(ms) - 1\n",
    "        break\n",
    "        \n",
    "print(c)"
   ]
  },
  {
   "cell_type": "code",
   "execution_count": 39,
   "metadata": {},
   "outputs": [
    {
     "name": "stdout",
     "output_type": "stream",
     "text": [
      "3\n",
      "2 3 6\n",
      "3\n"
     ]
    }
   ],
   "source": [
    "from collections import deque\n",
    "\n",
    "n = int(input())\n",
    "deq = deque(sorted(map(int, input().split())))\n",
    "\n",
    "cur_min = deq[0]\n",
    "\n",
    "c = 0\n",
    "while len(deq) >= 2:\n",
    "    c += 1\n",
    "    \n",
    "    value = deq.pop()\n",
    "    \n",
    "    v = value % deq[0]\n",
    "    if v != 0:\n",
    "        deq.appendleft(v)\n",
    "        \n",
    "print(c)"
   ]
  },
  {
   "cell_type": "markdown",
   "metadata": {},
   "source": [
    "https://atcoder.jp/contests/arc147/tasks/arc147_b B - Swap to Sort"
   ]
  },
  {
   "cell_type": "code",
   "execution_count": 51,
   "metadata": {},
   "outputs": [
    {
     "data": {
      "text/plain": [
       "160000"
      ]
     },
     "execution_count": 51,
     "metadata": {},
     "output_type": "execute_result"
    }
   ],
   "source": [
    "400 * 400"
   ]
  }
 ],
 "metadata": {
  "kernelspec": {
   "display_name": "Python 3",
   "language": "python",
   "name": "python3"
  },
  "language_info": {
   "codemirror_mode": {
    "name": "ipython",
    "version": 3
   },
   "file_extension": ".py",
   "mimetype": "text/x-python",
   "name": "python",
   "nbconvert_exporter": "python",
   "pygments_lexer": "ipython3",
   "version": "3.7.4"
  }
 },
 "nbformat": 4,
 "nbformat_minor": 2
}
