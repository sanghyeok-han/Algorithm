{
 "cells": [
  {
   "cell_type": "markdown",
   "metadata": {},
   "source": [
    "1300 1400 5\n",
    "1. https://atcoder.jp/contests/abc187/tasks/abc187_e   E. Through Path\n",
    "\n",
    "2. https://atcoder.jp/contests/abc029/tasks/abc029_d   D. 1\n",
    "\n",
    "3. https://atcoder.jp/contests/agc053/tasks/agc053_a   A. >< again\n",
    "\n",
    "4. https://atcoder.jp/contests/arc119/tasks/arc119_c   C. ARC Wrecker 2\n",
    "\n",
    "5. https://atcoder.jp/contests/abc073/tasks/abc073_d   D. joisino's travel"
   ]
  },
  {
   "cell_type": "markdown",
   "metadata": {},
   "source": [
    "1"
   ]
  },
  {
   "cell_type": "code",
   "execution_count": 23,
   "metadata": {},
   "outputs": [
    {
     "name": "stdout",
     "output_type": "stream",
     "text": [
      "11\n",
      "110\n",
      "1110\n",
      "110\n",
      "100\n"
     ]
    }
   ],
   "source": [
    "from collections import defaultdict as dd\n",
    "import sys\n",
    "input = lambda: sys.stdin.readline().rstrip()\n",
    "\n",
    "## PYRIVAL BOOTSTRAP\n",
    "# https://github.com/cheran-senthil/PyRival/blob/master/pyrival/misc/bootstrap.py\n",
    "# This decorator allows for recursion without actually doing recursion\n",
    "## @bootstrap, yield when getting and returning value in recursive functions, end of functions\n",
    "from types import GeneratorType\n",
    "\n",
    "def bootstrap(f, stack=[]):\n",
    "    def wrappedfunc(*args, **kwargs):\n",
    "        if stack:\n",
    "            return f(*args, **kwargs)\n",
    "        else:\n",
    "            to = f(*args, **kwargs)\n",
    "            while True:\n",
    "                if type(to) is GeneratorType:\n",
    "                    stack.append(to)\n",
    "                    to = next(to)\n",
    "                else:\n",
    "                    stack.pop()\n",
    "                    if not stack:\n",
    "                        break\n",
    "                    to = stack[-1].send(to)\n",
    "            return to\n",
    "    return wrappedfunc\n",
    "\n",
    "@bootstrap\n",
    "def dfs(value, cumul):\n",
    "    global to_plus\n",
    "    vt[value] = True\n",
    "    \n",
    "    r[value] = cumul\n",
    "    for v in li[value]:\n",
    "        temp = cumul\n",
    "\n",
    "        if not vt[v]:       \n",
    "            if (value, v) in d:\n",
    "                temp += d[(value, v)]\n",
    "            if (v, value) in d:\n",
    "                temp -= d[(v, value)]\n",
    "                to_plus += d[(v, value)]\n",
    "            \n",
    "            yield dfs(v, temp)\n",
    "    yield\n",
    "             \n",
    "n = int(input())\n",
    "li = [[] for _ in range(n + 1)]\n",
    "edges = []\n",
    "for _ in range(n - 1):\n",
    "    a, b = map(int, input().split())\n",
    "    \n",
    "    edges.append((a, b))\n",
    "    li[a].append(b)\n",
    "    li[b].append(a)\n",
    "    \n",
    "q = int(input())\n",
    "\n",
    "d = dd(int)\n",
    "for _ in range(q):\n",
    "    t, e, x = map(int, input().split())\n",
    "    e -= 1\n",
    "    \n",
    "    a, b = edges[e][0], edges[e][1]\n",
    "    \n",
    "    if t == 2:\n",
    "        d[(a, b)] += x\n",
    "    else:\n",
    "        d[(b, a)] += x\n",
    "    \n",
    "r = [0] * (n + 1)\n",
    "to_plus = 0\n",
    "vt = [False] * (n + 1)\n",
    "dfs(1, 0)\n",
    "\n",
    "for i in range(1, n + 1):\n",
    "    print(r[i] + to_plus)"
   ]
  },
  {
   "cell_type": "markdown",
   "metadata": {},
   "source": [
    "2 (일본어라 패스)"
   ]
  },
  {
   "cell_type": "markdown",
   "metadata": {},
   "source": [
    "3"
   ]
  },
  {
   "cell_type": "code",
   "execution_count": 106,
   "metadata": {
    "scrolled": true
   },
   "outputs": [
    {
     "name": "stdout",
     "output_type": "stream",
     "text": [
      "3\n",
      "<<>\n",
      "2 5 7 5\n",
      "2\n",
      "0 1 2 0\n",
      "2 4 5 5\n"
     ]
    }
   ],
   "source": [
    "n = int(input())\n",
    "s = input()\n",
    "li = list(map(int, input().split()))\n",
    "\n",
    "temp = []\n",
    "cont = 0\n",
    "fv = ''\n",
    "for i in range(n):\n",
    "    if s[i] == '<':\n",
    "        if i >= 1 and fv != s[i]:\n",
    "            temp.append(list(range(cont, -1, -1)))\n",
    "            cont = 1\n",
    "        else:\n",
    "            cont += 1\n",
    "    else:\n",
    "        if i >= 1 and fv != s[i]:\n",
    "            temp.append(list(range(cont + 1)))\n",
    "            cont = 1\n",
    "        else:\n",
    "            cont += 1\n",
    "            \n",
    "    fv = s[i]\n",
    "    \n",
    "if s[-1] == '<':\n",
    "    temp.append(list(range(cont + 1)))\n",
    "else:\n",
    "    temp.append(list(range(cont, -1, -1)))        \n",
    "            \n",
    "            \n",
    "mins = []\n",
    "for i in range(len(temp)):\n",
    "    if i == 0:\n",
    "        mins.extend(temp[i])\n",
    "    else:\n",
    "        mins.append(max(mins.pop(), temp[i][0]))\n",
    "        mins.extend(temp[i][1:])\n",
    "    \n",
    "min_abs_diff = float('inf')\n",
    "for i in range(1, n + 1):\n",
    "    min_abs_diff = min(min_abs_diff, abs(li[i] - li[i - 1]))\n",
    "    \n",
    "print(min_abs_diff)\n",
    "for _ in range(min_abs_diff - 1):\n",
    "    print(*mins)\n",
    "\n",
    "for i in range(n + 1):\n",
    "    li[i] -= (min_abs_diff - 1) * mins[i]\n",
    "print(*li)"
   ]
  },
  {
   "cell_type": "code",
   "execution_count": 107,
   "metadata": {},
   "outputs": [
    {
     "data": {
      "text/plain": [
       "[0, 1, 2, 0]"
      ]
     },
     "execution_count": 107,
     "metadata": {},
     "output_type": "execute_result"
    }
   ],
   "source": [
    "mins"
   ]
  },
  {
   "cell_type": "code",
   "execution_count": null,
   "metadata": {},
   "outputs": [],
   "source": [
    "반례\n",
    "\n",
    "input:\n",
    "3\n",
    "<<>\n",
    "2 5 7 5\n",
    "\n",
    "output:\n",
    "2\n",
    "0 1 2 0\n",
    "2 4 5 5"
   ]
  },
  {
   "cell_type": "code",
   "execution_count": null,
   "metadata": {},
   "outputs": [],
   "source": [
    "n = int(input())\n",
    "s = input()\n",
    "li = list(map(int, input().split()))\n",
    "\n",
    "min_abs_diff = float('inf')\n",
    "for i in range(1, n + 1):\n",
    "    min_abs_diff = min(min_abs_diff, abs(li[i] - li[i - 1]))\n",
    "    \n",
    "r = []    \n",
    "for i in range(n + 1):\n",
    "    r.append(li[i] // min_abs_diff)\n",
    "    \n",
    "    \n",
    "print(min_abs_diff)\n",
    "for _ in range(min_abs_diff - 1):\n",
    "    print(*r)\n",
    "\n",
    "for i in range(n + 1):\n",
    "    li[i] -= (li[i] // min_abs_diff) * (min_abs_diff - 1)\n",
    "print(*li)"
   ]
  },
  {
   "cell_type": "code",
   "execution_count": null,
   "metadata": {},
   "outputs": [],
   "source": [
    "반례\n",
    "\n",
    "input:\n",
    "3\n",
    "<><\n",
    "1 10 3 8\n",
    "\n",
    "output:\n",
    "5\n",
    "0 2 0 1\n",
    "0 2 0 1\n",
    "0 2 0 1\n",
    "0 2 0 1\n",
    "1 2 3 4"
   ]
  },
  {
   "cell_type": "code",
   "execution_count": 14,
   "metadata": {},
   "outputs": [
    {
     "name": "stdout",
     "output_type": "stream",
     "text": [
      "2 5 7 5\n",
      "2\n",
      "0 1 2 1\n",
      "2 4 5 4\n",
      "True\n"
     ]
    }
   ],
   "source": [
    "# n = int(input())\n",
    "# s = input()\n",
    "oli = list(map(int, input().split()))\n",
    "li = oli.copy()\n",
    "n = len(li) - 1\n",
    "\n",
    "min_abs_diff = float('inf')\n",
    "diffs = []\n",
    "for i in range(1, n + 1):\n",
    "    min_abs_diff = min(min_abs_diff, abs(li[i] - li[i - 1]))\n",
    "    diffs.append(li[i] - li[i - 1])\n",
    "\n",
    "min_cur = 0\n",
    "cur = 0\n",
    "if min_abs_diff >= 2:\n",
    "    temp = [0]\n",
    "    for i in range(len(diffs)):\n",
    "        if diffs[i] > 0:\n",
    "            cur += 1\n",
    "            value = temp[-1] + 1\n",
    "        else:\n",
    "            cur -= 1\n",
    "            value = temp[-1] - 1\n",
    "            \n",
    "        min_cur = min(min_cur, cur)\n",
    "        temp.append(value)\n",
    "        \n",
    "        if diffs[i] > 0:\n",
    "            diffs[i] -= (min_abs_diff - 1)\n",
    "        else:\n",
    "            diffs[i] += (min_abs_diff - 1)\n",
    "    \n",
    "    init_value = 0\n",
    "    if min_cur < 0:\n",
    "        init_value = -min_cur\n",
    "        \n",
    "    min_iter_possible = min_abs_diff - 1\n",
    "    for i in range(n + 1):\n",
    "        temp[i] += init_value\n",
    "        \n",
    "        if temp[i] > 0:\n",
    "            min_iter_possible = min(min_iter_possible, li[i] // temp[i])\n",
    "        \n",
    "    print(min_iter_possible + 1)\n",
    "    for _ in range(min_iter_possible):\n",
    "        print(*temp)\n",
    "        \n",
    "    for i in range(n + 1):\n",
    "        li[i] -= temp[i] * min_iter_possible\n",
    "\n",
    "print(*li)\n",
    "\n",
    "ip = True\n",
    "if min_abs_diff >= 2:\n",
    "    for i in range(1, n + 1):\n",
    "        if oli[i] - oli[i - 1] < 0:\n",
    "            if li[i] - li[i - 1] > 0 or temp[i] - temp[i - 1] > 0:\n",
    "                ip = False\n",
    "        if oli[i] - oli[i - 1] > 0:\n",
    "            if li[i] - li[i - 1] < 0 or temp[i] - temp[i - 1] < 0:\n",
    "                ip = False    \n",
    "\n",
    "        if temp[i] * (min_abs_diff - 1) + li[i] != oli[i]:\n",
    "            ip = False\n",
    "            \n",
    "print(ip)"
   ]
  },
  {
   "cell_type": "code",
   "execution_count": 33,
   "metadata": {},
   "outputs": [
    {
     "name": "stdout",
     "output_type": "stream",
     "text": [
      "23 10 39 14\n",
      "[-13, 29, -25]\n",
      "[-1, 2, -1]\n",
      "[0, 3, -12]\n",
      "1 0 3 1\n",
      "1 0 3 1\n",
      "1 0 3 1\n",
      "1 0 2 0\n",
      "1 0 2 0\n",
      "1 0 2 0\n",
      "1 0 2 0\n",
      "1 0 2 0\n",
      "1 0 2 0\n",
      "1 0 2 0\n",
      "1 0 2 0\n",
      "1 0 2 0\n",
      "11 10 12 11\n"
     ]
    }
   ],
   "source": [
    "# n = int(input())\n",
    "# s = input()\n",
    "oli = list(map(int, input().split()))\n",
    "li = oli.copy()\n",
    "n = len(li) - 1\n",
    "\n",
    "min_abs_diff = float('inf')\n",
    "diffs = []\n",
    "for i in range(1, n + 1):\n",
    "    min_abs_diff = min(min_abs_diff, abs(li[i] - li[i - 1]))\n",
    "    diffs.append(li[i] - li[i - 1])\n",
    "\n",
    "bases = []\n",
    "to_add = []\n",
    "for i in range(n):\n",
    "    temp = abs(diffs[i]) // min_abs_diff\n",
    "    if diffs[i] < 0:\n",
    "        temp = -temp\n",
    "    bases.append(temp)    \n",
    "    \n",
    "    temp = abs(diffs[i]) % min_abs_diff\n",
    "    if diffs[i] < 0:\n",
    "        temp = -temp\n",
    "    to_add.append(temp)        \n",
    "\n",
    "print(diffs)\n",
    "print(bases)\n",
    "print(to_add)\n",
    "for _ in range(min_abs_diff - 1):\n",
    "    temp = [0] * (n + 1)\n",
    "    min_cur = 0\n",
    "    cur = 0\n",
    "    for i in range(n):\n",
    "        tt = bases[i]\n",
    "        if to_add[i]:\n",
    "            if to_add[i] < 0:\n",
    "                to_add[i] += 1\n",
    "                tt -= 1\n",
    "            else:\n",
    "                to_add[i] -= 1\n",
    "                tt += 1\n",
    "        cur += tt\n",
    "        min_cur = min(min_cur, cur)\n",
    "        temp[i + 1] = cur\n",
    "        \n",
    "    ta = 0\n",
    "    if min_cur < 0:\n",
    "        ta = -min_cur\n",
    "        \n",
    "    for i in range(n + 1):\n",
    "        temp[i] += ta\n",
    "        li[i] -= temp[i]\n",
    "        \n",
    "    print(*temp)\n",
    "    \n",
    "print(*li)"
   ]
  },
  {
   "cell_type": "code",
   "execution_count": 39,
   "metadata": {},
   "outputs": [
    {
     "name": "stdout",
     "output_type": "stream",
     "text": [
      "1\n",
      "<\n",
      "-2 2\n",
      "4\n",
      "-1 0 \n",
      "-1 0 \n",
      "0 1 \n",
      "0 1 \n"
     ]
    }
   ],
   "source": [
    "n = int(input())\n",
    "s = input()\n",
    "li = list(map(int, input().split()))\n",
    "\n",
    "min_abs_diff = float('inf')\n",
    "for i in range(1, n + 1):\n",
    "    min_abs_diff = min(min_abs_diff, abs(li[i] - li[i - 1]))      \n",
    "\n",
    "print(min_abs_diff)\n",
    "for i in range(min_abs_diff):\n",
    "    for j in range(n + 1):\n",
    "        temp = (li[j] + i) // min_abs_diff\n",
    "        print(temp, end= ' ')\n",
    "    print()"
   ]
  },
  {
   "cell_type": "markdown",
   "metadata": {},
   "source": [
    "4"
   ]
  },
  {
   "cell_type": "code",
   "execution_count": 8,
   "metadata": {},
   "outputs": [
    {
     "name": "stdout",
     "output_type": "stream",
     "text": [
      "14\n",
      "630551244 683685976 249199599 863395255 667330388 617766025 564631293 614195656 944865979 277535591 390222868 527065404 136842536 971731491\n",
      "8\n"
     ]
    }
   ],
   "source": [
    "from collections import defaultdict as dd\n",
    "\n",
    "n = int(input())\n",
    "li = list(map(int, input().split()))\n",
    "\n",
    "for i in range(n):\n",
    "    if i % 2 == 0:\n",
    "        li[i] = -li[i]\n",
    "        \n",
    "sli = [0] * (n + 1)\n",
    "cumul = 0\n",
    "for i in range(n):\n",
    "    cumul += li[i]\n",
    "    sli[i + 1] = cumul\n",
    "    \n",
    "c = 0\n",
    "d = dd(int)\n",
    "for i in range(n + 1):\n",
    "    c += d[sli[i]]\n",
    "    d[sli[i]] += 1\n",
    "    \n",
    "print(c)"
   ]
  },
  {
   "cell_type": "markdown",
   "metadata": {},
   "source": [
    "5"
   ]
  },
  {
   "cell_type": "markdown",
   "metadata": {},
   "source": [
    "플로이드 워셜 + 브루트포스"
   ]
  },
  {
   "cell_type": "code",
   "execution_count": 4,
   "metadata": {},
   "outputs": [
    {
     "name": "stdout",
     "output_type": "stream",
     "text": [
      "4 6 3\n",
      "2 3 4\n",
      "1 2 4\n",
      "2 3 3\n",
      "4 3 1\n",
      "1 4 1\n",
      "4 2 2\n",
      "3 1 6\n",
      "3\n"
     ]
    }
   ],
   "source": [
    "from itertools import permutations as perm\n",
    "import sys\n",
    "input = lambda: sys.stdin.readline().rstrip()\n",
    "\n",
    "inf = float('inf')\n",
    "\n",
    "n, m, r = map(int, input().split())\n",
    "get_value = lambda x: int(x) - 1\n",
    "rs = list(map(get_value, input().split()))\n",
    "\n",
    "li = [[inf] * n for _ in range(n)]\n",
    "for i in range(n):\n",
    "    li[i][i] = 0\n",
    "    \n",
    "for _ in range(m):\n",
    "    a, b, c = map(int, input().split())\n",
    "    a -= 1\n",
    "    b -= 1\n",
    "    \n",
    "    li[a][b] = c\n",
    "    li[b][a] = c\n",
    "    \n",
    "for mid in range(n):\n",
    "    for i in range(n):\n",
    "        for j in range(n):\n",
    "            if li[i][j] > li[i][mid] + li[mid][j]:\n",
    "                li[i][j] = li[i][mid] + li[mid][j]\n",
    "    \n",
    "min_dist = inf\n",
    "for case in perm(rs, r):\n",
    "    dist = 0\n",
    "    for i in range(r - 1):\n",
    "        dist += li[case[i]][case[i + 1]]\n",
    "        \n",
    "    min_dist = min(min_dist, dist)\n",
    "    \n",
    "print(min_dist)"
   ]
  }
 ],
 "metadata": {
  "kernelspec": {
   "display_name": "Python 3",
   "language": "python",
   "name": "python3"
  },
  "language_info": {
   "codemirror_mode": {
    "name": "ipython",
    "version": 3
   },
   "file_extension": ".py",
   "mimetype": "text/x-python",
   "name": "python",
   "nbconvert_exporter": "python",
   "pygments_lexer": "ipython3",
   "version": "3.7.4"
  }
 },
 "nbformat": 4,
 "nbformat_minor": 4
}
