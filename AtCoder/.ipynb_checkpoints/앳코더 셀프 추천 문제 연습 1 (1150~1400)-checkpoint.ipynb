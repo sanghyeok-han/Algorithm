{
 "cells": [
  {
   "cell_type": "markdown",
   "metadata": {},
   "source": [
    ".난이도 쿼리: 1150 1400 10"
   ]
  },
  {
   "cell_type": "markdown",
   "metadata": {},
   "source": [
    "1. https://atcoder.jp/contests/arc113/tasks/arc113_d   D. Sky Reflector\n",
    "\n",
    "2. https://atcoder.jp/contests/abc121/tasks/abc121_d   D. XOR World\n",
    "\n",
    "3. https://atcoder.jp/contests/abc147/tasks/abc147_d   D. Xor Sum 4\n",
    "\n",
    "4. https://atcoder.jp/contests/arc097/tasks/arc097_b   D. Equals\n",
    "\n",
    "5. https://atcoder.jp/contests/abc104/tasks/abc104_c   C. All Green\n",
    "\n",
    "6. https://atcoder.jp/contests/digitalarts2012/tasks/digitalarts_2   B. Password\n",
    "\n",
    "7. https://atcoder.jp/contests/abc157/tasks/abc157_d   D. Friend Suggestions\n",
    "\n",
    "8. https://atcoder.jp/contests/abc151/tasks/abc151_e   E. Max-Min Sums\n",
    "\n",
    "9. https://atcoder.jp/contests/arc021/tasks/arc021_2   B. Your Numbers are XORed...\n",
    "\n",
    "10. https://atcoder.jp/contests/arc107/tasks/arc107_c   C. Shuffle Permutation"
   ]
  },
  {
   "cell_type": "markdown",
   "metadata": {},
   "source": [
    "1"
   ]
  },
  {
   "cell_type": "code",
   "execution_count": 6,
   "metadata": {},
   "outputs": [
    {
     "name": "stdout",
     "output_type": "stream",
     "text": [
      "1 1 100\n",
      "100\n"
     ]
    }
   ],
   "source": [
    "mod = 998244353\n",
    "\n",
    "n, m, k = map(int, input().split())\n",
    "\n",
    "total = 0\n",
    "if n == 1:\n",
    "    total = pow(k, m, mod)\n",
    "elif m == 1:\n",
    "    total = pow(k, n, mod)\n",
    "else:\n",
    "    for x in range(1, k + 1):\n",
    "        total += (pow(x, n, mod) - pow(x - 1, n, mod)) * pow(k - x + 1, m, mod) % mod\n",
    "        total %= mod\n",
    "    \n",
    "print(total)"
   ]
  },
  {
   "cell_type": "markdown",
   "metadata": {},
   "source": [
    "2"
   ]
  },
  {
   "cell_type": "code",
   "execution_count": null,
   "metadata": {},
   "outputs": [],
   "source": [
    "각 비트에서의 1의 개수만 중요함"
   ]
  },
  {
   "cell_type": "code",
   "execution_count": 34,
   "metadata": {},
   "outputs": [
    {
     "name": "stdout",
     "output_type": "stream",
     "text": [
      "1 2\n",
      "3\n"
     ]
    }
   ],
   "source": [
    "def get_sum(value):\n",
    "    remainder = value % 4\n",
    "    \n",
    "    amount = (remainder + 1) % 4\n",
    "\n",
    "    cur = 0\n",
    "    for v in range(value, value - amount, -1):\n",
    "        cur ^= v\n",
    "        \n",
    "    return cur\n",
    "    \n",
    "a, b = map(int, input().split())\n",
    "    \n",
    "left = get_sum(a - 1)\n",
    "right = get_sum(b)\n",
    "\n",
    "r = left ^ right\n",
    "\n",
    "print(r)"
   ]
  },
  {
   "cell_type": "markdown",
   "metadata": {},
   "source": [
    "3"
   ]
  },
  {
   "cell_type": "code",
   "execution_count": 70,
   "metadata": {},
   "outputs": [
    {
     "name": "stdout",
     "output_type": "stream",
     "text": [
      "10\n",
      "3 14 159 2653 58979 323846 2643383 27950288 419716939 9375105820\n",
      "103715602\n"
     ]
    }
   ],
   "source": [
    "mod = int(1e9) + 7\n",
    "\n",
    "n = int(input())\n",
    "li = list(map(int, input().split()))\n",
    "\n",
    "bits = [[0] * 61 for _ in range(n)]\n",
    "total_bit = [0] * 61\n",
    "\n",
    "for i in range(n):\n",
    "    value = li[i]\n",
    "    cur = 0\n",
    "    while value != 0:\n",
    "        bits[i][cur] = value % 2\n",
    "        total_bit[cur] += value % 2\n",
    "        value //= 2\n",
    "        cur += 1\n",
    "    \n",
    "for i in range(61):\n",
    "    total_bit[i] -= bits[0][i]\n",
    "    \n",
    "result = [0] * 61\n",
    "cur_len = n - 1\n",
    "for i in range(n - 1):\n",
    "    for j in range(61):\n",
    "        if bits[i][j] == 0:\n",
    "            result[j] += total_bit[j]\n",
    "        else:\n",
    "            result[j] += cur_len - total_bit[j]\n",
    "            \n",
    "        total_bit[j] -= bits[i + 1][j]\n",
    "        \n",
    "    cur_len -= 1\n",
    "    \n",
    "r = 0\n",
    "for i in range(61):\n",
    "    r += result[i] * pow(2, i, mod)\n",
    "    r %= mod\n",
    "\n",
    "print(r)"
   ]
  },
  {
   "cell_type": "markdown",
   "metadata": {},
   "source": [
    "4"
   ]
  },
  {
   "cell_type": "code",
   "execution_count": null,
   "metadata": {},
   "outputs": [],
   "source": [
    "서로 이동 가능하면 어떻게든 정렬 가능함"
   ]
  },
  {
   "cell_type": "code",
   "execution_count": null,
   "metadata": {},
   "outputs": [],
   "source": [
    "import sys\n",
    "input = lambda: sys.stdin.readline().rstrip()\n",
    "\n",
    "def find(v):\n",
    "    if v == parent[v]:\n",
    "        return v\n",
    "    parent[v] = find(parent[v])\n",
    "    \n",
    "    return parent[v]\n",
    "\n",
    "def union(a, b):\n",
    "    if len(iids[a]) >= len(iids[b]):\n",
    "        parent[b] = a\n",
    "        iids[a] |= iids[b]\n",
    "        iids[b] = set()\n",
    "    else:\n",
    "        parent[a] = b\n",
    "        iids[b] |= iids[a]\n",
    "        iids[a] = set()\n",
    "        \n",
    "get_value = lambda x: int(x) - 1\n",
    "    \n",
    "n, m = map(int, input().split())\n",
    "li = list(map(get_value, input().split()))\n",
    "\n",
    "parent = list(range(n))\n",
    "iids = [{i} for i in range(n)] # included indices\n",
    "for _ in range(m):\n",
    "    a, b = map(get_value, input().split())\n",
    "    \n",
    "    ra = find(a)\n",
    "    rb = find(b)\n",
    "    \n",
    "    if ra != rb:\n",
    "        union(ra, rb)    \n",
    "    \n",
    "count = 0\n",
    "for i in range(n):\n",
    "    for index in iids[i]:\n",
    "        if li[index] in iids[i]:\n",
    "            count += 1\n",
    "            \n",
    "print(count)"
   ]
  },
  {
   "cell_type": "markdown",
   "metadata": {},
   "source": [
    "5"
   ]
  },
  {
   "cell_type": "code",
   "execution_count": 104,
   "metadata": {},
   "outputs": [
    {
     "name": "stdout",
     "output_type": "stream",
     "text": [
      "7\n"
     ]
    }
   ],
   "source": [
    "from itertools import combinations as comb\n",
    "\n",
    "d, g = map(int, input().split())\n",
    "g //= 100\n",
    "\n",
    "counts = [0]\n",
    "bonuses = [0]\n",
    "for _ in range(d):\n",
    "    c, b = map(int, input().split())\n",
    "    b //= 100\n",
    "    \n",
    "    counts.append(c)\n",
    "    bonuses.append(b)\n",
    "    \n",
    "min_needed = float('inf')\n",
    "for full_count in range(d + 1):\n",
    "    cases = comb(range(1, d + 1), full_count)\n",
    "    for fulls in cases:\n",
    "        fulls = set(fulls)\n",
    "        \n",
    "        needed = 0\n",
    "        cur_g = 0\n",
    "        for i in fulls:\n",
    "            needed += counts[i]\n",
    "            cur_g += counts[i] * i\n",
    "            cur_g += bonuses[i]\n",
    "            \n",
    "        if needed > min_needed:\n",
    "            continue\n",
    "        cur_check = d\n",
    "        while cur_g < g:\n",
    "            if cur_check < 0:\n",
    "                break\n",
    "            \n",
    "            if cur_check in fulls:\n",
    "                cur_check -= 1\n",
    "                continue\n",
    "                \n",
    "            temp = cur_check * (counts[cur_check] - 1)\n",
    "            if cur_g + temp >= g:\n",
    "                additional_needed = (g - cur_g) // cur_check\n",
    "                if (g - cur_g) % cur_check:\n",
    "                    additional_needed += 1\n",
    "                \n",
    "                needed += additional_needed\n",
    "                cur_g += cur_check * additional_needed\n",
    "                break\n",
    "            else:\n",
    "                cur_g += temp\n",
    "                needed += counts[cur_check] - 1\n",
    "                \n",
    "            cur_check -= 1\n",
    "        \n",
    "        if cur_g >= g:\n",
    "            min_needed = min(min_needed, needed)\n",
    "        \n",
    "print(min_needed)"
   ]
  },
  {
   "cell_type": "markdown",
   "metadata": {},
   "source": [
    "6 (일본어라 패스)"
   ]
  },
  {
   "cell_type": "markdown",
   "metadata": {},
   "source": [
    "7"
   ]
  },
  {
   "cell_type": "code",
   "execution_count": null,
   "metadata": {},
   "outputs": [],
   "source": [
    "friendship을 포함한 friendship 관계 - freindship 수"
   ]
  },
  {
   "cell_type": "code",
   "execution_count": 3,
   "metadata": {},
   "outputs": [
    {
     "name": "stdout",
     "output_type": "stream",
     "text": [
      "4 4 1\n",
      "2 1\n",
      "1 3\n",
      "3 2\n",
      "3 4\n",
      "4 1\n",
      "-3 1 -4 -2 "
     ]
    }
   ],
   "source": [
    "import sys\n",
    "# input = lambda: sys.stdin.readline().rstrip()\n",
    "\n",
    "## PYRIVAL BOOTSTRAP\n",
    "# https://github.com/cheran-senthil/PyRival/blob/master/pyrival/misc/bootstrap.py\n",
    "# This decorator allows for recursion without actually doing recursion\n",
    "## @bootstrap, yield when getting and returning value in recursive functions, end of functions\n",
    "from types import GeneratorType\n",
    "\n",
    "def bootstrap(f, stack=[]):\n",
    "    def wrappedfunc(*args, **kwargs):\n",
    "        if stack:\n",
    "            return f(*args, **kwargs)\n",
    "        else:\n",
    "            to = f(*args, **kwargs)\n",
    "            while True:\n",
    "                if type(to) is GeneratorType:\n",
    "                    stack.append(to)\n",
    "                    to = next(to)\n",
    "                else:\n",
    "                    stack.pop()\n",
    "                    if not stack:\n",
    "                        break\n",
    "                    to = stack[-1].send(to)\n",
    "            return to\n",
    "    return wrappedfunc\n",
    "\n",
    "@bootstrap\n",
    "def find(v):\n",
    "    if parent[v] == v:\n",
    "        yield v\n",
    "    parent[v] = yield find(parent[v])\n",
    "    yield parent[v]\n",
    "\n",
    "def union(a, b):\n",
    "    if a < b:\n",
    "        parent[b] = a\n",
    "        cfcount[a] += cfcount[b]\n",
    "    else:\n",
    "        parent[a] = b\n",
    "        cfcount[b] += cfcount[a]\n",
    "\n",
    "n, m, k = map(int, input().split())\n",
    "\n",
    "parent = list(range(n + 1))\n",
    "cfcount = [1] * (n + 1)\n",
    "fcount = [1] * (n + 1)\n",
    "for _ in range(m):\n",
    "    a, b = map(int, input().split())\n",
    "    \n",
    "    fcount[a] += 1\n",
    "    fcount[b] += 1\n",
    "    \n",
    "    ra = find(a)\n",
    "    rb = find(b)\n",
    "    \n",
    "    if ra != rb:\n",
    "        union(ra, rb)\n",
    "        \n",
    "r = [0] * (n + 1)\n",
    "for i in range(1, n + 1):\n",
    "    r[i] = cfcount[find(i)] - fcount[i]\n",
    "    \n",
    "for _ in range(k):\n",
    "    c, d = map(int, input().split())\n",
    "    \n",
    "    rc = find(c)\n",
    "    rd = find(d)\n",
    "    \n",
    "    if rc == rd:\n",
    "        r[c] -= 1\n",
    "        r[d] -= 1\n",
    "    \n",
    "print(*r)"
   ]
  },
  {
   "cell_type": "markdown",
   "metadata": {},
   "source": [
    "8"
   ]
  },
  {
   "cell_type": "code",
   "execution_count": 17,
   "metadata": {},
   "outputs": [
    {
     "name": "stdout",
     "output_type": "stream",
     "text": [
      "10 6\n",
      "1000000000 1000000000 1000000000 1000000000 1000000000 0 0 0 0 0\n",
      "999998537\n"
     ]
    }
   ],
   "source": [
    "mod = int(1e9) + 7\n",
    "\n",
    "n, k = map(int, input().split())\n",
    "li = sorted(map(int, input().split()))\n",
    "\n",
    "if k == 1:\n",
    "    print(0)\n",
    "elif k == 2:\n",
    "    maxes_count = list(range(n))\n",
    "    mins_count = maxes_count[::-1]\n",
    "    \n",
    "    r = 0\n",
    "    for i in range(n):\n",
    "        diff = maxes_count[i] - mins_count[i]\n",
    "        r += li[i] * diff\n",
    "        r %= mod\n",
    "        \n",
    "    print(r)\n",
    "else:\n",
    "    mins_count = [0] * n\n",
    "    maxes_count = [0] * n\n",
    "    \n",
    "    invs = [0] * 100001\n",
    "    for i in range(100001):\n",
    "        invs[i] = pow(i, mod - 2, mod)\n",
    "\n",
    "    w = 1\n",
    "    si = k - 1\n",
    "    cumul = 1\n",
    "    cur_to_divide = 1\n",
    "    for i in range(si, n):\n",
    "        if i == si:\n",
    "            maxes_count[si] = 1\n",
    "        else:\n",
    "            w *= (cur_to_divide + k - 2)\n",
    "            w *= invs[cur_to_divide]\n",
    "            w %= mod\n",
    "            cumul += w\n",
    "            cumul %= mod\n",
    "\n",
    "            maxes_count[i] = cumul\n",
    "            \n",
    "            cur_to_divide += 1\n",
    "            \n",
    "            \n",
    "    mins_count = maxes_count[::-1]\n",
    "    \n",
    "    r = 0\n",
    "    for i in range(n):\n",
    "        diff = maxes_count[i] - mins_count[i]\n",
    "        r += li[i] * diff\n",
    "        r %= mod\n",
    "        \n",
    "    print(r)"
   ]
  },
  {
   "cell_type": "code",
   "execution_count": 173,
   "metadata": {},
   "outputs": [
    {
     "data": {
      "text/plain": [
       "(1, 4)"
      ]
     },
     "execution_count": 173,
     "metadata": {},
     "output_type": "execute_result"
    }
   ],
   "source": [
    "mod = 5\n",
    "\n",
    "r1 = 6 % mod * 3 // 2\n",
    "r2 = 6 * 3 // 2 % mod\n",
    "\n",
    "r1, r2"
   ]
  }
 ],
 "metadata": {
  "kernelspec": {
   "display_name": "Python 3",
   "language": "python",
   "name": "python3"
  },
  "language_info": {
   "codemirror_mode": {
    "name": "ipython",
    "version": 3
   },
   "file_extension": ".py",
   "mimetype": "text/x-python",
   "name": "python",
   "nbconvert_exporter": "python",
   "pygments_lexer": "ipython3",
   "version": "3.7.4"
  }
 },
 "nbformat": 4,
 "nbformat_minor": 2
}
