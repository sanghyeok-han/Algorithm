{
 "cells": [
  {
   "cell_type": "code",
   "execution_count": 1,
   "metadata": {},
   "outputs": [],
   "source": [
    "from selenium import webdriver\n",
    "from selenium.webdriver.support.ui import WebDriverWait as Wait\n",
    "from selenium.webdriver.support import expected_conditions as ec\n",
    "from selenium.webdriver.common.by import By\n",
    "from selenium.webdriver.common.keys import Keys\n",
    "import pandas as pd\n",
    "import time\n",
    "import re"
   ]
  },
  {
   "cell_type": "markdown",
   "metadata": {},
   "source": [
    "### 문제 정보 스크래핑"
   ]
  },
  {
   "cell_type": "code",
   "execution_count": 2,
   "metadata": {},
   "outputs": [],
   "source": [
    "url = 'https://kenkoooo.com/atcoder/#/list/hsh8086?status=All'"
   ]
  },
  {
   "cell_type": "code",
   "execution_count": 3,
   "metadata": {},
   "outputs": [
    {
     "name": "stderr",
     "output_type": "stream",
     "text": [
      "C:\\Users\\User\\Anaconda3\\envs\\bot\\lib\\site-packages\\ipykernel_launcher.py:1: DeprecationWarning: executable_path has been deprecated, please pass in a Service object\n",
      "  \"\"\"Entry point for launching an IPython kernel.\n"
     ]
    }
   ],
   "source": [
    "driver = webdriver.Chrome(\"C:/selenium/chromedriver\")\n",
    "driver.implicitly_wait(1)"
   ]
  },
  {
   "cell_type": "code",
   "execution_count": 4,
   "metadata": {},
   "outputs": [],
   "source": [
    "driver.get(url)"
   ]
  },
  {
   "cell_type": "code",
   "execution_count": null,
   "metadata": {},
   "outputs": [],
   "source": [
    "urls = Wait(driver, 0.5) \\\n",
    "              .until(ec.presence_of_all_elements_located((By.CSS_SELECTOR, 'div.list-table tr td:nth-child(2) a')))\n",
    "urls = [v.get_attribute('href') for v in urls]\n",
    "print(len(urls))\n",
    "\n",
    "titles = Wait(driver, 0.5) \\\n",
    "              .until(ec.presence_of_all_elements_located((By.CSS_SELECTOR, 'div.list-table tr td:nth-child(2)')))\n",
    "titles = [v.text for v in titles]\n",
    "print(len(titles))\n",
    "\n",
    "difficulties = Wait(driver, 0.5) \\\n",
    "              .until(ec.presence_of_all_elements_located((By.CSS_SELECTOR, 'div.list-table tr td:nth-child(8)')))\n",
    "difficulties = [v.text for v in difficulties]\n",
    "print(len(difficulties))\n",
    "\n",
    "# solve_probs = Wait(driver, 0.5) \\\n",
    "#               .until(ec.presence_of_all_elements_located((By.CSS_SELECTOR, 'div.list-table tr td:nth-child(9)')))\n",
    "# solve_probs = [v.text for v in solve_probs]\n",
    "# print(len(solve_probs))"
   ]
  },
  {
   "cell_type": "code",
   "execution_count": 16,
   "metadata": {},
   "outputs": [],
   "source": [
    "to_deletes = set()\n",
    "for i in range(len(difficulties)):\n",
    "    if difficulties[i] == '-':\n",
    "        to_deletes.add(i)"
   ]
  },
  {
   "cell_type": "code",
   "execution_count": 17,
   "metadata": {},
   "outputs": [],
   "source": [
    "urls2 = [v for i, v in enumerate(urls) if i not in to_deletes]\n",
    "titles2 = [v for i, v in enumerate(titles) if i not in to_deletes]\n",
    "difficulties2 = [v for i, v in enumerate(difficulties) if i not in to_deletes]\n",
    "# solve_probs2 = [v for i, v in enumerate(solve_probs) if i not in to_deletes]"
   ]
  },
  {
   "cell_type": "code",
   "execution_count": 18,
   "metadata": {},
   "outputs": [],
   "source": [
    "for i in range(len(titles2)):\n",
    "    if titles2[i][0] == '🧪':\n",
    "        titles2[i] = titles2[i][1:]\n",
    "        \n",
    "ids = [v[v.rfind('/') + 1:] for v in urls2]\n",
    "    \n",
    "# solve_probs3 = []\n",
    "# for i in range(len(urls2)):\n",
    "#     solve_probs3.append(int(re.search(\"\\d+\", solve_probs2[i]).group()))\n",
    "    \n",
    "difficulties3 = [int(v) for v in difficulties2]"
   ]
  },
  {
   "cell_type": "code",
   "execution_count": 19,
   "metadata": {},
   "outputs": [],
   "source": [
    "problems_df = pd.DataFrame({\n",
    "    \"id\": ids,\n",
    "    \"url\": urls2,\n",
    "    \"title\": titles2,\n",
    "#     \"solve_prob\": solve_probs3,\n",
    "    \"difficulty\": difficulties3\n",
    "})"
   ]
  },
  {
   "cell_type": "code",
   "execution_count": 20,
   "metadata": {},
   "outputs": [
    {
     "data": {
      "text/html": [
       "<div>\n",
       "<style scoped>\n",
       "    .dataframe tbody tr th:only-of-type {\n",
       "        vertical-align: middle;\n",
       "    }\n",
       "\n",
       "    .dataframe tbody tr th {\n",
       "        vertical-align: top;\n",
       "    }\n",
       "\n",
       "    .dataframe thead th {\n",
       "        text-align: right;\n",
       "    }\n",
       "</style>\n",
       "<table border=\"1\" class=\"dataframe\">\n",
       "  <thead>\n",
       "    <tr style=\"text-align: right;\">\n",
       "      <th></th>\n",
       "      <th>id</th>\n",
       "      <th>url</th>\n",
       "      <th>title</th>\n",
       "      <th>difficulty</th>\n",
       "    </tr>\n",
       "  </thead>\n",
       "  <tbody>\n",
       "    <tr>\n",
       "      <td>0</td>\n",
       "      <td>abc242_a</td>\n",
       "      <td>https://atcoder.jp/contests/abc242/tasks/abc242_a</td>\n",
       "      <td>A. T-shirt</td>\n",
       "      <td>37</td>\n",
       "    </tr>\n",
       "    <tr>\n",
       "      <td>1</td>\n",
       "      <td>abc242_b</td>\n",
       "      <td>https://atcoder.jp/contests/abc242/tasks/abc242_b</td>\n",
       "      <td>B. Minimize Ordering</td>\n",
       "      <td>45</td>\n",
       "    </tr>\n",
       "    <tr>\n",
       "      <td>2</td>\n",
       "      <td>abc242_c</td>\n",
       "      <td>https://atcoder.jp/contests/abc242/tasks/abc242_c</td>\n",
       "      <td>C. 1111gal password</td>\n",
       "      <td>512</td>\n",
       "    </tr>\n",
       "    <tr>\n",
       "      <td>3</td>\n",
       "      <td>abc242_d</td>\n",
       "      <td>https://atcoder.jp/contests/abc242/tasks/abc242_d</td>\n",
       "      <td>D. ABC Transform</td>\n",
       "      <td>1286</td>\n",
       "    </tr>\n",
       "    <tr>\n",
       "      <td>4</td>\n",
       "      <td>abc242_e</td>\n",
       "      <td>https://atcoder.jp/contests/abc242/tasks/abc242_e</td>\n",
       "      <td>E. (∀x∀)</td>\n",
       "      <td>1365</td>\n",
       "    </tr>\n",
       "  </tbody>\n",
       "</table>\n",
       "</div>"
      ],
      "text/plain": [
       "         id                                                url  \\\n",
       "0  abc242_a  https://atcoder.jp/contests/abc242/tasks/abc242_a   \n",
       "1  abc242_b  https://atcoder.jp/contests/abc242/tasks/abc242_b   \n",
       "2  abc242_c  https://atcoder.jp/contests/abc242/tasks/abc242_c   \n",
       "3  abc242_d  https://atcoder.jp/contests/abc242/tasks/abc242_d   \n",
       "4  abc242_e  https://atcoder.jp/contests/abc242/tasks/abc242_e   \n",
       "\n",
       "                  title  difficulty  \n",
       "0            A. T-shirt          37  \n",
       "1  B. Minimize Ordering          45  \n",
       "2   C. 1111gal password         512  \n",
       "3      D. ABC Transform        1286  \n",
       "4              E. (∀x∀)        1365  "
      ]
     },
     "execution_count": 20,
     "metadata": {},
     "output_type": "execute_result"
    }
   ],
   "source": [
    "problems_df.head()"
   ]
  },
  {
   "cell_type": "code",
   "execution_count": 21,
   "metadata": {},
   "outputs": [],
   "source": [
    "problems_df.to_csv(\"problems.csv\", index=False, encoding=\"utf-8-sig\")"
   ]
  },
  {
   "cell_type": "markdown",
   "metadata": {},
   "source": [
    "### 이미 푼 문제 정보 스크래핑"
   ]
  },
  {
   "cell_type": "code",
   "execution_count": null,
   "metadata": {},
   "outputs": [],
   "source": [
    "url = 'https://kenkoooo.com/atcoder/#/list/hsh8086?status=Only+AC'"
   ]
  },
  {
   "cell_type": "code",
   "execution_count": 5,
   "metadata": {},
   "outputs": [
    {
     "name": "stdout",
     "output_type": "stream",
     "text": [
      "162\n",
      "162\n",
      "162\n"
     ]
    }
   ],
   "source": [
    "urls = Wait(driver, 0.5) \\\n",
    "              .until(ec.presence_of_all_elements_located((By.CSS_SELECTOR, 'div.list-table tr td:nth-child(2) a')))\n",
    "urls = [v.get_attribute('href') for v in urls]\n",
    "print(len(urls))\n",
    "\n",
    "titles = Wait(driver, 0.5) \\\n",
    "              .until(ec.presence_of_all_elements_located((By.CSS_SELECTOR, 'div.list-table tr td:nth-child(2)')))\n",
    "titles = [v.text for v in titles]\n",
    "print(len(titles))\n",
    "\n",
    "last_ac_dates = Wait(driver, 0.5) \\\n",
    "              .until(ec.presence_of_all_elements_located((By.CSS_SELECTOR, 'div.list-table tr td:nth-child(5)')))\n",
    "last_ac_dates = [v.text for v in last_ac_dates]\n",
    "print(len(last_ac_dates))\n",
    "\n",
    "ids = [v[v.rfind('/') + 1:] for v in urls]"
   ]
  },
  {
   "cell_type": "code",
   "execution_count": 6,
   "metadata": {},
   "outputs": [],
   "source": [
    "solved_by_me_df = pd.DataFrame({\n",
    "    \"id\": ids,\n",
    "    \"date\": last_ac_dates\n",
    "})"
   ]
  },
  {
   "cell_type": "code",
   "execution_count": 8,
   "metadata": {},
   "outputs": [],
   "source": [
    "solved_by_me_df.to_csv(\"solved_by_me.csv\", index=False, encoding=\"utf-8-sig\")"
   ]
  },
  {
   "cell_type": "code",
   "execution_count": 131,
   "metadata": {},
   "outputs": [],
   "source": [
    "driver.close()"
   ]
  },
  {
   "cell_type": "markdown",
   "metadata": {},
   "source": [
    "### 제거할 문제 추가"
   ]
  },
  {
   "cell_type": "code",
   "execution_count": 37,
   "metadata": {},
   "outputs": [],
   "source": [
    "# https://atcoder-tags.herokuapp.com/tags/Data-Structure/Segment-Tree\n",
    "s = '''1\tabc185_f\tF. Range Xor Query\t1053\t4432\n",
    "2\tabc194_e\tE. Mex Min\t1088\t4428\n",
    "3\tabc125_c\tC. GCD on Blackboard\t1197\t8324\n",
    "4\tabl_d\tD. Flat Subsequence\t1283\t2569\n",
    "5\tabc157_e\tE. Simple String Queries\t1443\t3747\n",
    "6\tabc231_f\tF. Jealous Two\t1580\t1666\n",
    "7\tarc033_3\tC. データ構造\t1641\t1631\n",
    "8\tabc223_f\tF. Parenthesis Checking\t1641\t1562\n",
    "9\tnikkei2019_2_qual_d\tD. Shortest Path on a Line\t1647\t1867\n",
    "10\tcode_festival_qualB_d\tD. 登山家\t1651\t858\n",
    "11\tdonuts_2015_3\tC. 行列のできるドーナツ屋\t1661\t733\n",
    "12\tabc038_d\tD. プレゼント\t1804\t1958\n",
    "13\tabc165_f\tF. LIS on Tree\t1843\t2393\n",
    "14\tarc026_3\tC. 蛍光灯\t1930\t795\n",
    "15\tjsc2021_f\tF. Max Matrix\t1954\t805\n",
    "16\tarc035_d\tD. 高橋くんとマラソンコース\t2173\t347\n",
    "17\tarc017_4\tD. ARCたんクッキー\t2244\t277\n",
    "18\tarc080_c\tE. Young Maids\t2277\t1209\n",
    "19\tabc136_f\tF. Enclosed Points\t2334\t1017\n",
    "20\tmujin_pc_2016_d\tD. 括弧列 / Parenthesis Sequence\t2404\t221\n",
    "21\tarc008_4\tD. タコヤキオイシクナール\t2430\t807\n",
    "22\tarc027_4\tD. ぴょんぴょんトレーニング\t2474\t142\n",
    "23\tarc038_c\tC. 茶碗と豆\t2531\t331\n",
    "24\tarc067_d\tF. Yakiniku Restaurants\t2729\t662\n",
    "25\tarc076_d\tF. Exhausted?\t2819\t650\n",
    "26\tarc025_4\tD. コンセント\t2863\t53\n",
    "27\tarc073_d\tF. Many Moves\t2867\t669\n",
    "28\tarc049_d\tD. すわっぷしまーす\t2988\t47\n",
    "29\tarc054_d\tD. バブルソート\t3095\t40'''"
   ]
  },
  {
   "cell_type": "code",
   "execution_count": 38,
   "metadata": {},
   "outputs": [],
   "source": [
    "li = [v.split('\\t') for v in s.split('\\n')]\n",
    "li = [v[1] for v in li]"
   ]
  },
  {
   "cell_type": "code",
   "execution_count": 39,
   "metadata": {},
   "outputs": [],
   "source": [
    "reasons = ['seg_tree'] * len(li)\n",
    "to_exclude_df = pd.DataFrame({\n",
    "    \"id\": li,\n",
    "    \"reason\": reasons\n",
    "})"
   ]
  },
  {
   "cell_type": "code",
   "execution_count": 41,
   "metadata": {},
   "outputs": [],
   "source": [
    "problems_df = pd.read_csv(\"problems.csv\")"
   ]
  },
  {
   "cell_type": "code",
   "execution_count": 42,
   "metadata": {},
   "outputs": [],
   "source": [
    "ids_to_delete = []\n",
    "for i in range(len(problems_df)):\n",
    "    title = problems_df.loc[i, 'title']\n",
    "    \n",
    "    is_add = False\n",
    "    for v in title[2:]:\n",
    "        temp = ord(v)\n",
    "\n",
    "        if temp == 32:\n",
    "            continue\n",
    "        if ord(v) <= 10000:\n",
    "            is_add = True\n",
    "            break\n",
    "            \n",
    "    if not is_add:\n",
    "        ids_to_delete.append(problems_df.loc[i, 'id'])\n",
    "        \n",
    "reasons = ['no_english'] * len(ids_to_delete)\n",
    "\n",
    "temp_df = pd.DataFrame({\n",
    "    \"id\": ids_to_delete,\n",
    "    \"reason\": reasons\n",
    "})\n",
    "\n",
    "to_exclude_df = to_exclude_df.append(temp_df, ignore_index=True)"
   ]
  },
  {
   "cell_type": "code",
   "execution_count": 43,
   "metadata": {},
   "outputs": [
    {
     "data": {
      "text/html": [
       "<div>\n",
       "<style scoped>\n",
       "    .dataframe tbody tr th:only-of-type {\n",
       "        vertical-align: middle;\n",
       "    }\n",
       "\n",
       "    .dataframe tbody tr th {\n",
       "        vertical-align: top;\n",
       "    }\n",
       "\n",
       "    .dataframe thead th {\n",
       "        text-align: right;\n",
       "    }\n",
       "</style>\n",
       "<table border=\"1\" class=\"dataframe\">\n",
       "  <thead>\n",
       "    <tr style=\"text-align: right;\">\n",
       "      <th></th>\n",
       "      <th>id</th>\n",
       "      <th>reason</th>\n",
       "    </tr>\n",
       "  </thead>\n",
       "  <tbody>\n",
       "    <tr>\n",
       "      <td>0</td>\n",
       "      <td>abc185_f</td>\n",
       "      <td>seg_tree</td>\n",
       "    </tr>\n",
       "    <tr>\n",
       "      <td>1</td>\n",
       "      <td>abc194_e</td>\n",
       "      <td>seg_tree</td>\n",
       "    </tr>\n",
       "    <tr>\n",
       "      <td>2</td>\n",
       "      <td>abc125_c</td>\n",
       "      <td>seg_tree</td>\n",
       "    </tr>\n",
       "    <tr>\n",
       "      <td>3</td>\n",
       "      <td>abl_d</td>\n",
       "      <td>seg_tree</td>\n",
       "    </tr>\n",
       "    <tr>\n",
       "      <td>4</td>\n",
       "      <td>abc157_e</td>\n",
       "      <td>seg_tree</td>\n",
       "    </tr>\n",
       "    <tr>\n",
       "      <td>...</td>\n",
       "      <td>...</td>\n",
       "      <td>...</td>\n",
       "    </tr>\n",
       "    <tr>\n",
       "      <td>441</td>\n",
       "      <td>arc003_4</td>\n",
       "      <td>no_english</td>\n",
       "    </tr>\n",
       "    <tr>\n",
       "      <td>442</td>\n",
       "      <td>arc002_1</td>\n",
       "      <td>no_english</td>\n",
       "    </tr>\n",
       "    <tr>\n",
       "      <td>443</td>\n",
       "      <td>arc002_2</td>\n",
       "      <td>no_english</td>\n",
       "    </tr>\n",
       "    <tr>\n",
       "      <td>444</td>\n",
       "      <td>arc002_3</td>\n",
       "      <td>no_english</td>\n",
       "    </tr>\n",
       "    <tr>\n",
       "      <td>445</td>\n",
       "      <td>arc002_4</td>\n",
       "      <td>no_english</td>\n",
       "    </tr>\n",
       "  </tbody>\n",
       "</table>\n",
       "<p>446 rows × 2 columns</p>\n",
       "</div>"
      ],
      "text/plain": [
       "           id      reason\n",
       "0    abc185_f    seg_tree\n",
       "1    abc194_e    seg_tree\n",
       "2    abc125_c    seg_tree\n",
       "3       abl_d    seg_tree\n",
       "4    abc157_e    seg_tree\n",
       "..        ...         ...\n",
       "441  arc003_4  no_english\n",
       "442  arc002_1  no_english\n",
       "443  arc002_2  no_english\n",
       "444  arc002_3  no_english\n",
       "445  arc002_4  no_english\n",
       "\n",
       "[446 rows x 2 columns]"
      ]
     },
     "execution_count": 43,
     "metadata": {},
     "output_type": "execute_result"
    }
   ],
   "source": [
    "to_exclude_df"
   ]
  },
  {
   "cell_type": "code",
   "execution_count": 44,
   "metadata": {},
   "outputs": [],
   "source": [
    "to_exclude_df.to_csv(\"to_exclude.csv\", index=False, encoding=\"utf-8-sig\")"
   ]
  }
 ],
 "metadata": {
  "kernelspec": {
   "display_name": "Python 3",
   "language": "python",
   "name": "python3"
  },
  "language_info": {
   "codemirror_mode": {
    "name": "ipython",
    "version": 3
   },
   "file_extension": ".py",
   "mimetype": "text/x-python",
   "name": "python",
   "nbconvert_exporter": "python",
   "pygments_lexer": "ipython3",
   "version": "3.7.4"
  }
 },
 "nbformat": 4,
 "nbformat_minor": 2
}
