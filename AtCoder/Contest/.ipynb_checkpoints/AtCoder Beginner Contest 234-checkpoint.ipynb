{
 "cells": [
  {
   "cell_type": "code",
   "execution_count": null,
   "metadata": {},
   "outputs": [],
   "source": [
    "import sys\n",
    "input = lambda: sys.stdin.readline().rstrip()"
   ]
  },
  {
   "cell_type": "markdown",
   "metadata": {},
   "source": [
    "A"
   ]
  },
  {
   "cell_type": "code",
   "execution_count": 2,
   "metadata": {},
   "outputs": [
    {
     "name": "stdout",
     "output_type": "stream",
     "text": [
      "10\n",
      "1111355571\n"
     ]
    }
   ],
   "source": [
    "t = int(input())\n",
    "\n",
    "f = lambda x: x ** 2 + 2 * x + 3\n",
    "\n",
    "print(f(f(f(t) + t) + f(f(t))))"
   ]
  },
  {
   "cell_type": "markdown",
   "metadata": {},
   "source": [
    "B"
   ]
  },
  {
   "cell_type": "code",
   "execution_count": 3,
   "metadata": {},
   "outputs": [
    {
     "name": "stdout",
     "output_type": "stream",
     "text": [
      "3\n",
      "0 0\n",
      "0 1\n",
      "1 1\n",
      "1.4142135623730951\n"
     ]
    }
   ],
   "source": [
    "gls = lambda x1, y1, x2, y2: (x1 - x2) ** 2 + (y1 - y2) ** 2 # get length squared\n",
    "\n",
    "n = int(input())\n",
    "li = [list(map(int, input().split())) for _ in range(n)]\n",
    "\n",
    "max_ls = 0\n",
    "for i in range(n):\n",
    "    for j in range(i + 1, n):\n",
    "        max_ls = max(max_ls, gls(li[i][0], li[i][1], li[j][0], li[j][1]))\n",
    "        \n",
    "print(max_ls ** 0.5)"
   ]
  },
  {
   "cell_type": "markdown",
   "metadata": {},
   "source": [
    "C"
   ]
  },
  {
   "cell_type": "code",
   "execution_count": 11,
   "metadata": {},
   "outputs": [
    {
     "name": "stdout",
     "output_type": "stream",
     "text": [
      "3\n",
      "22\n"
     ]
    }
   ],
   "source": [
    "n = int(input())\n",
    "\n",
    "r = bin(n)[2:].replace('1', '2')\n",
    "\n",
    "print(r)"
   ]
  },
  {
   "cell_type": "markdown",
   "metadata": {},
   "source": [
    "D"
   ]
  },
  {
   "cell_type": "code",
   "execution_count": 20,
   "metadata": {},
   "outputs": [
    {
     "name": "stdout",
     "output_type": "stream",
     "text": [
      "11 5\n",
      "3 7 2 5 11 6 1 9 8 10 4\n",
      "2\n",
      "3\n",
      "3\n",
      "5\n",
      "6\n",
      "7\n",
      "7\n"
     ]
    }
   ],
   "source": [
    "from heapq import heappush, heappop\n",
    "\n",
    "n, k = map(int, input().split())\n",
    "li = list(map(int, input().split()))\n",
    "\n",
    "heap = []\n",
    "for i in range(k):\n",
    "    heappush(heap, li[i])\n",
    "    \n",
    "print(heap[0])\n",
    "for i in range(k, n):\n",
    "    heappush(heap, li[i])\n",
    "    heappop(heap)\n",
    "    print(heap[0])"
   ]
  },
  {
   "cell_type": "markdown",
   "metadata": {},
   "source": [
    "E"
   ]
  },
  {
   "cell_type": "code",
   "execution_count": null,
   "metadata": {},
   "outputs": [],
   "source": [
    "X 이상의 arithmetic 수 구하기"
   ]
  },
  {
   "cell_type": "code",
   "execution_count": null,
   "metadata": {},
   "outputs": [],
   "source": [
    "모든 자릿수가 9일 수 있으므로 자릿수가 넘어갈 일은 없음"
   ]
  },
  {
   "cell_type": "code",
   "execution_count": 50,
   "metadata": {},
   "outputs": [
    {
     "name": "stdout",
     "output_type": "stream",
     "text": [
      "100000000000000000\n",
      "111111111111111111\n"
     ]
    }
   ],
   "source": [
    "cases = set()\n",
    "for term in range(-9, 10):\n",
    "    if term == 0:\n",
    "        continue\n",
    "    for start in range(1, 10):\n",
    "        cur = start\n",
    "        cumul = str(cur)\n",
    "        cases.add(int(cumul))\n",
    "        while True:\n",
    "            cur += term\n",
    "            if cur < 0 or cur >= 10:\n",
    "                break           \n",
    "            cumul += str(cur)\n",
    "            cases.add(int(cumul))\n",
    "            \n",
    "for i in range(1, 20):\n",
    "    for num in range(1, 10):\n",
    "        temp = str(num) * i\n",
    "        cases.add(int(temp))\n",
    "        \n",
    "cases = sorted(cases)\n",
    "\n",
    "x = int(input())\n",
    "\n",
    "for v in cases:\n",
    "    if v >= x:\n",
    "        print(v)\n",
    "        break"
   ]
  },
  {
   "cell_type": "markdown",
   "metadata": {},
   "source": [
    "F"
   ]
  },
  {
   "cell_type": "code",
   "execution_count": 72,
   "metadata": {},
   "outputs": [
    {
     "name": "stdout",
     "output_type": "stream",
     "text": [
      "1 1 1\n",
      "2 2 2\n",
      "3 6 2\n",
      "5\n"
     ]
    }
   ],
   "source": [
    "from collections import Counter\n",
    "from math import factorial as fact\n",
    "\n",
    "def facto(num):\n",
    "    cur = 1\n",
    "    for i in range(2, num + 1):\n",
    "        cur *= i\n",
    "        cur %= mod\n",
    "    return cur\n",
    "\n",
    "def get_count(k):\n",
    "    nu = fact(k)\n",
    "    denom = 1\n",
    "    for v in li:\n",
    "        denom *= fact(min(v, k))\n",
    "        \n",
    "    print(k, nu, denom)\n",
    "        \n",
    "    return nu // denom\n",
    "\n",
    "\n",
    "mod = 998244353\n",
    "\n",
    "s = 'aab'\n",
    "n = len(s)\n",
    "li = list(Counter(s).values())\n",
    "\n",
    "total = 0\n",
    "for i in range(1, n + 1):\n",
    "    count = get_count(i)\n",
    "    total += count\n",
    "    total %= mod\n",
    "    \n",
    "print(total)"
   ]
  }
 ],
 "metadata": {
  "kernelspec": {
   "display_name": "Python 3",
   "language": "python",
   "name": "python3"
  },
  "language_info": {
   "codemirror_mode": {
    "name": "ipython",
    "version": 3
   },
   "file_extension": ".py",
   "mimetype": "text/x-python",
   "name": "python",
   "nbconvert_exporter": "python",
   "pygments_lexer": "ipython3",
   "version": "3.7.4"
  }
 },
 "nbformat": 4,
 "nbformat_minor": 4
}
