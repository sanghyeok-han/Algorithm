{
 "cells": [
  {
   "cell_type": "markdown",
   "metadata": {},
   "source": [
    "A"
   ]
  },
  {
   "cell_type": "code",
   "execution_count": 1,
   "metadata": {},
   "outputs": [
    {
     "name": "stdout",
     "output_type": "stream",
     "text": [
      "3\n",
      "2 7 2\n",
      "11\n"
     ]
    }
   ],
   "source": [
    "n = int(input())\n",
    "li = list(map(int, input().split()))\n",
    "\n",
    "r = sum(li)\n",
    "\n",
    "print(r)"
   ]
  },
  {
   "cell_type": "markdown",
   "metadata": {},
   "source": [
    "B"
   ]
  },
  {
   "cell_type": "code",
   "execution_count": 5,
   "metadata": {},
   "outputs": [
    {
     "name": "stdout",
     "output_type": "stream",
     "text": [
      "4 2\n",
      "3 1 2 4\n",
      "3 2 3 4\n",
      "No\n"
     ]
    }
   ],
   "source": [
    "from itertools import combinations as comb\n",
    "import sys\n",
    "input = lambda: sys.stdin.readline().rstrip()\n",
    "\n",
    "n, m = map(int, input().split())\n",
    "\n",
    "to_find = set(comb(range(1, n + 1), 2))\n",
    "for _ in range(m):\n",
    "    k, *xs = map(int, input().split())\n",
    "    \n",
    "    for i in range(k):\n",
    "        for j in range(i + 1, k):\n",
    "            to_find.discard((xs[i], xs[j]))\n",
    "            \n",
    "if to_find:\n",
    "    print('No')\n",
    "else:\n",
    "    print('Yes')"
   ]
  },
  {
   "cell_type": "markdown",
   "metadata": {},
   "source": [
    "C"
   ]
  },
  {
   "cell_type": "code",
   "execution_count": null,
   "metadata": {},
   "outputs": [],
   "source": [
    "홀홀\n",
    "짝짝"
   ]
  },
  {
   "cell_type": "code",
   "execution_count": 9,
   "metadata": {},
   "outputs": [
    {
     "name": "stdout",
     "output_type": "stream",
     "text": [
      "2\n",
      "1 0\n",
      "-1\n"
     ]
    }
   ],
   "source": [
    "n = int(input())\n",
    "li = list(map(int, input().split()))\n",
    "\n",
    "odds = []\n",
    "evens = []\n",
    "for v in li:\n",
    "    if v % 2 == 0:\n",
    "        evens.append(v)\n",
    "    else:\n",
    "        odds.append(v)\n",
    "        \n",
    "evens.sort()\n",
    "odds.sort()\n",
    "\n",
    "r = -1\n",
    "\n",
    "if len(evens) >= 2:\n",
    "    r = evens[-1] + evens[-2]\n",
    "if len(odds) >= 2:\n",
    "    r = max(r, odds[-1] + odds[-2])\n",
    "    \n",
    "print(r)"
   ]
  },
  {
   "cell_type": "markdown",
   "metadata": {},
   "source": [
    "D"
   ]
  },
  {
   "cell_type": "code",
   "execution_count": null,
   "metadata": {},
   "outputs": [],
   "source": [
    "exactly M\n",
    "as (i - k) ** 2 + (j - l) ** 2"
   ]
  },
  {
   "cell_type": "code",
   "execution_count": 12,
   "metadata": {},
   "outputs": [
    {
     "data": {
      "text/plain": [
       "64000000"
      ]
     },
     "execution_count": 12,
     "metadata": {},
     "output_type": "execute_result"
    }
   ],
   "source": [
    "400 * 400 * 400"
   ]
  },
  {
   "cell_type": "code",
   "execution_count": 14,
   "metadata": {},
   "outputs": [
    {
     "name": "stdout",
     "output_type": "stream",
     "text": [
      "10 5\n",
      "0 -1 -1 -1 -1 -1 -1 -1 -1 -1\n",
      "-1 -1 1 -1 -1 -1 -1 -1 -1 -1\n",
      "-1 1 -1 -1 2 -1 -1 -1 -1 -1\n",
      "-1 -1 -1 2 -1 -1 3 -1 -1 -1\n",
      "-1 -1 2 -1 -1 3 -1 -1 4 -1\n",
      "-1 -1 -1 -1 3 -1 -1 4 -1 -1\n",
      "-1 -1 -1 3 -1 -1 4 -1 -1 5\n",
      "-1 -1 -1 -1 -1 4 -1 -1 5 -1\n",
      "-1 -1 -1 -1 4 -1 -1 5 -1 -1\n",
      "-1 -1 -1 -1 -1 -1 5 -1 -1 6\n"
     ]
    }
   ],
   "source": [
    "# tle\n",
    "from collections import deque\n",
    "\n",
    "n, m = map(int, input().split())\n",
    "\n",
    "dists = [[-1] * n for _ in range(n)]\n",
    "dists[0][0] = 0\n",
    "\n",
    "queue = deque()\n",
    "queue.append((0, 0))\n",
    "while queue:\n",
    "    x, y = queue.popleft()\n",
    "    \n",
    "    for i in range(x, n):\n",
    "        for j in range(y, n):\n",
    "            if dists[i][j] == -1:\n",
    "                dist = (x - i) ** 2 + (y - j) ** 2\n",
    "                if dist == m:\n",
    "                    dists[i][j] = dists[x][y] + 1\n",
    "                    queue.append((i, j))\n",
    "                    \n",
    "for v in dists:\n",
    "    print(*v)"
   ]
  },
  {
   "cell_type": "code",
   "execution_count": 30,
   "metadata": {},
   "outputs": [
    {
     "name": "stdout",
     "output_type": "stream",
     "text": [
      "10 5\n",
      "0 3 2 3 2 3 4 5 4 5\n",
      "3 4 1 2 3 4 3 4 5 6\n",
      "2 1 4 3 2 3 4 5 4 5\n",
      "3 2 3 2 3 4 3 4 5 6\n",
      "2 3 2 3 4 3 4 5 4 5\n",
      "3 4 3 4 3 4 5 4 5 6\n",
      "4 3 4 3 4 5 4 5 6 5\n",
      "5 4 5 4 5 4 5 6 5 6\n",
      "4 5 4 5 4 5 6 5 6 7\n",
      "5 6 5 6 5 6 5 6 7 6\n"
     ]
    }
   ],
   "source": [
    "from collections import deque\n",
    "\n",
    "n, m = map(int, input().split())\n",
    "\n",
    "snums = []\n",
    "for cur in range(0, n + 2):\n",
    "    snums.append(cur ** 2)\n",
    "    \n",
    "dx = []\n",
    "dy = []\n",
    "for num1 in snums:\n",
    "    for num2 in snums:\n",
    "        if num1 + num2 == m:\n",
    "            onum1 = int(num1 ** 0.5)\n",
    "            onum2 = int(num2 ** 0.5)\n",
    "            \n",
    "            dx.append(onum1)\n",
    "            dy.append(onum2)\n",
    "            \n",
    "            dx.append(-onum1)\n",
    "            dy.append(onum2)\n",
    "            \n",
    "            dx.append(onum1)\n",
    "            dy.append(-onum2)   \n",
    "            \n",
    "            dx.append(-onum1)\n",
    "            dy.append(-onum2)\n",
    "            \n",
    "d_len = len(dx)\n",
    "\n",
    "dists = [[-1] * n for _ in range(n)]\n",
    "dists[0][0] = 0\n",
    "\n",
    "queue = deque()\n",
    "queue.append((0, 0))\n",
    "while queue:\n",
    "    x, y = queue.popleft()\n",
    "    \n",
    "    for d in range(d_len):\n",
    "        nx = x + dx[d]\n",
    "        ny = y + dy[d]\n",
    "        \n",
    "        if nx < 0 or nx >= n or ny < 0 or ny >= n:\n",
    "            continue\n",
    "        if dists[nx][ny] == -1:\n",
    "            dists[nx][ny] = dists[x][y] + 1\n",
    "            queue.append((nx, ny))\n",
    "                    \n",
    "for v in dists:\n",
    "    print(*v)"
   ]
  },
  {
   "cell_type": "markdown",
   "metadata": {},
   "source": [
    "E"
   ]
  },
  {
   "cell_type": "code",
   "execution_count": 35,
   "metadata": {},
   "outputs": [
    {
     "name": "stdout",
     "output_type": "stream",
     "text": [
      "5 6\n",
      "-2 -2 -5 -7 -15\n",
      "1\n",
      "3\n",
      "2\n",
      "0\n",
      "0\n",
      "0\n"
     ]
    }
   ],
   "source": [
    "n, m = map(int, input().split())\n",
    "li = list(map(int, input().split()))\n",
    "\n",
    "max_con = n - 1 # max considered\n",
    "starts = [[] for _ in range(m + 1)] # starts[start_seq] = [[cur, inc]]\n",
    "\n",
    "for i in range(n):\n",
    "    cur = li[i]\n",
    "    inc = i + 1\n",
    "    \n",
    "    if cur > max_con:\n",
    "        continue\n",
    "        \n",
    "    if 0 <= cur <= max_con:\n",
    "        starts[0].append((cur, inc))\n",
    "    elif cur < 0:\n",
    "        diff = -cur\n",
    "        \n",
    "        needed = diff // inc\n",
    "        if diff % inc:\n",
    "            needed += 1\n",
    "            \n",
    "        cur = cur + inc * needed\n",
    "        if needed <= m:\n",
    "            starts[needed].append((cur, inc))\n",
    "\n",
    "nums = starts[0]\n",
    "for cur_seq in range(1, m + 1):\n",
    "    included = set()\n",
    "    nnums = []\n",
    "    for fv, inc in nums:\n",
    "        v = fv + inc\n",
    "        if v <= max_con:\n",
    "            nnums.append((v, inc))\n",
    "            included.add(v)\n",
    "    \n",
    "    for v, inc in starts[cur_seq]:\n",
    "        nnums.append((v, inc))\n",
    "        included.add(v)\n",
    "        \n",
    "    mex = 0\n",
    "    for to_find in range(n):\n",
    "        if to_find in included:\n",
    "            mex += 1\n",
    "        else:\n",
    "            break\n",
    "            \n",
    "    nums = nnums.copy()\n",
    "            \n",
    "    print(mex)"
   ]
  },
  {
   "cell_type": "markdown",
   "metadata": {},
   "source": [
    "F"
   ]
  },
  {
   "cell_type": "code",
   "execution_count": null,
   "metadata": {},
   "outputs": [],
   "source": [
    "adb\n",
    "\n",
    "cab\n",
    "abc\n",
    "bac"
   ]
  },
  {
   "cell_type": "code",
   "execution_count": null,
   "metadata": {},
   "outputs": [],
   "source": [
    "n = int(input())\n"
   ]
  },
  {
   "cell_type": "code",
   "execution_count": null,
   "metadata": {},
   "outputs": [],
   "source": []
  },
  {
   "cell_type": "markdown",
   "metadata": {},
   "source": [
    "G"
   ]
  },
  {
   "cell_type": "code",
   "execution_count": null,
   "metadata": {},
   "outputs": [],
   "source": [
    "n이 3이면 2개 이상\n",
    "n이 4면   3개 이상\n",
    "n이 5면   3개 이상\n",
    "n이 6이면 4개 이상\n"
   ]
  },
  {
   "cell_type": "code",
   "execution_count": 78,
   "metadata": {},
   "outputs": [
    {
     "name": "stdout",
     "output_type": "stream",
     "text": [
      "3\n",
      "5 10 9\n",
      "5\n"
     ]
    }
   ],
   "source": [
    "from collections import defaultdict as dd\n",
    "\n",
    "max_num = 40000\n",
    "ip = [True] * (max_num + 1)\n",
    "ip[0] = ip[1] = False\n",
    "for mod in range(2, int((max_num + 1) ** 0.5) + 1):\n",
    "    if ip[mod]:\n",
    "        for v in range(mod * mod, max_num + 1, mod):\n",
    "            ip[v] = False\n",
    "primes = [i for i, v in enumerate(ip) if v]\n",
    "            \n",
    "n = int(input())\n",
    "li = list(map(int, input().split()))\n",
    "\n",
    "to_same_or_above = n // 2\n",
    "\n",
    "diffs = dd(list)\n",
    "for i in range(n):\n",
    "    for j in range(i + 1, n):\n",
    "        diff = abs(li[i] - li[j])\n",
    "        \n",
    "        temp = set()\n",
    "        cri = int(diff ** 0.5) + 5\n",
    "        for mod in primes:\n",
    "            if mod > cri:\n",
    "                break\n",
    "\n",
    "            while diff % mod == 0:\n",
    "                diff //= mod\n",
    "                temp.add(mod)\n",
    "\n",
    "        if diff != 1:\n",
    "            temp.add(diff)\n",
    "            \n",
    "        for v in temp:\n",
    "            if v >= 3:\n",
    "                diffs[(v, li[i] % v)].append((i, j))\n",
    "    \n",
    "r = -1\n",
    "for key in diffs:\n",
    "    used = set()\n",
    "    c = 0\n",
    "    for a, b in diffs[key]:\n",
    "        if a in used and b in used:\n",
    "            continue\n",
    "        used.add(a)\n",
    "        used.add(b)\n",
    "        c += 1\n",
    "        \n",
    "    if c >= to_same_or_above:\n",
    "        r = key[0]\n",
    "        break\n",
    "        \n",
    "print(r)"
   ]
  },
  {
   "cell_type": "code",
   "execution_count": 72,
   "metadata": {},
   "outputs": [
    {
     "data": {
      "text/plain": [
       "31622.776601683792"
      ]
     },
     "execution_count": 72,
     "metadata": {},
     "output_type": "execute_result"
    }
   ],
   "source": [
    "1e9 ** 0.5"
   ]
  },
  {
   "cell_type": "code",
   "execution_count": 58,
   "metadata": {},
   "outputs": [
    {
     "name": "stdout",
     "output_type": "stream",
     "text": [
      "1 2 0 1 2 0 1 2 0 1 \n"
     ]
    }
   ],
   "source": [
    "for v in li:\n",
    "    print(v % 3, end = ' ')\n",
    "print()"
   ]
  },
  {
   "cell_type": "code",
   "execution_count": 63,
   "metadata": {},
   "outputs": [
    {
     "data": {
      "text/plain": [
       "defaultdict(list,\n",
       "            {(2, 1): [(0, 2),\n",
       "              (0, 4),\n",
       "              (0, 6),\n",
       "              (0, 8),\n",
       "              (2, 4),\n",
       "              (2, 6),\n",
       "              (2, 8),\n",
       "              (4, 6),\n",
       "              (4, 8),\n",
       "              (6, 8)],\n",
       "             (3, 1): [(0, 3), (0, 6), (0, 9), (3, 6), (3, 9), (6, 9)],\n",
       "             (5, 1): [(0, 5)],\n",
       "             (7, 1): [(0, 7)],\n",
       "             (2, 0): [(1, 3),\n",
       "              (1, 5),\n",
       "              (1, 7),\n",
       "              (1, 9),\n",
       "              (3, 5),\n",
       "              (3, 7),\n",
       "              (3, 9),\n",
       "              (5, 7),\n",
       "              (5, 9),\n",
       "              (7, 9)],\n",
       "             (3, 2): [(1, 4), (1, 7), (4, 7)],\n",
       "             (5, 2): [(1, 6)],\n",
       "             (7, 2): [(1, 8)],\n",
       "             (3, 0): [(2, 5), (2, 8), (5, 8)],\n",
       "             (5, 3): [(2, 7)],\n",
       "             (7, 3): [(2, 9)],\n",
       "             (5, 4): [(3, 8)],\n",
       "             (5, 0): [(4, 9)]})"
      ]
     },
     "execution_count": 63,
     "metadata": {},
     "output_type": "execute_result"
    }
   ],
   "source": [
    "diffs"
   ]
  }
 ],
 "metadata": {
  "kernelspec": {
   "display_name": "Python 3",
   "language": "python",
   "name": "python3"
  },
  "language_info": {
   "codemirror_mode": {
    "name": "ipython",
    "version": 3
   },
   "file_extension": ".py",
   "mimetype": "text/x-python",
   "name": "python",
   "nbconvert_exporter": "python",
   "pygments_lexer": "ipython3",
   "version": "3.7.4"
  }
 },
 "nbformat": 4,
 "nbformat_minor": 2
}
