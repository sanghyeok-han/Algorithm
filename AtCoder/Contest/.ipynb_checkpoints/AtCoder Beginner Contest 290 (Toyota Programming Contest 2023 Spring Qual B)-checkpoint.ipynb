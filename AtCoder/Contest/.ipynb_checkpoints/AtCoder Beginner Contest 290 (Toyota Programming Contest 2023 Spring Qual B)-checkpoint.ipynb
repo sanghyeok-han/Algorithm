{
 "cells": [
  {
   "cell_type": "markdown",
   "metadata": {},
   "source": [
    "A"
   ]
  },
  {
   "cell_type": "code",
   "execution_count": 1,
   "metadata": {},
   "outputs": [
    {
     "name": "stdout",
     "output_type": "stream",
     "text": [
      "3 2\n",
      "10 20 30\n",
      "1 3\n",
      "40\n"
     ]
    }
   ],
   "source": [
    "n, m = map(int, input().split())\n",
    "A = list(map(int, input().split()))\n",
    "B = list(map(int, input().split()))\n",
    "\n",
    "total = 0\n",
    "for v in B:\n",
    "    total += A[v - 1]\n",
    "    \n",
    "print(total)"
   ]
  },
  {
   "cell_type": "markdown",
   "metadata": {},
   "source": [
    "B"
   ]
  },
  {
   "cell_type": "code",
   "execution_count": 2,
   "metadata": {},
   "outputs": [
    {
     "name": "stdout",
     "output_type": "stream",
     "text": [
      "10 3\n",
      "oxxoxooxox\n",
      "oxxoxoxxxx\n"
     ]
    }
   ],
   "source": [
    "n, k = map(int, input().split())\n",
    "s = input()\n",
    "\n",
    "result = ['x'] * n\n",
    "\n",
    "for i in range(n):\n",
    "    if k and s[i] == 'o':\n",
    "        k -= 1\n",
    "        result[i] = 'o'\n",
    "        \n",
    "result = ''.join(result)\n",
    "\n",
    "print(result)"
   ]
  },
  {
   "cell_type": "markdown",
   "metadata": {},
   "source": [
    "C"
   ]
  },
  {
   "cell_type": "code",
   "execution_count": 4,
   "metadata": {},
   "outputs": [
    {
     "name": "stdout",
     "output_type": "stream",
     "text": [
      "7 3\n",
      "2 0 2 3 2 1 9\n",
      "3\n"
     ]
    }
   ],
   "source": [
    "n, k = map(int, input().split())\n",
    "A = sorted(map(int, input().split()))\n",
    "\n",
    "to_find = 0\n",
    "for i in range(n):\n",
    "    if k and A[i] == to_find:\n",
    "        k -= 1\n",
    "        to_find += 1\n",
    "        \n",
    "print(to_find)"
   ]
  },
  {
   "cell_type": "markdown",
   "metadata": {},
   "source": [
    "D"
   ]
  },
  {
   "cell_type": "code",
   "execution_count": null,
   "metadata": {},
   "outputs": [],
   "source": [
    "0 1 2 3 4 n-1"
   ]
  },
  {
   "cell_type": "code",
   "execution_count": 23,
   "metadata": {},
   "outputs": [
    {
     "name": "stdout",
     "output_type": "stream",
     "text": [
      "5 8 5\n",
      "2\n"
     ]
    }
   ],
   "source": [
    "from math import gcd\n",
    "import io, os, sys\n",
    "input = io.BytesIO(os.read(0, os.fstat(0).st_size)).readline\n",
    "\n",
    "lcm = lambda a, b: a * b // gcd(a, b)\n",
    "\n",
    "for _ in range(int(input())):\n",
    "    n, d, k = map(int, input().split())\n",
    "    k -= 1\n",
    "\n",
    "    in_group_c = lcm(n, d) // d\n",
    "\n",
    "    added = k // in_group_c\n",
    "\n",
    "    nth_in_first_group = k % in_group_c\n",
    "\n",
    "    nth_in_first_group\n",
    "\n",
    "    temp = d * nth_in_first_group % n\n",
    "    temp += added\n",
    "    temp %= n\n",
    "\n",
    "    print(temp)"
   ]
  },
  {
   "cell_type": "markdown",
   "metadata": {},
   "source": [
    "E"
   ]
  },
  {
   "cell_type": "code",
   "execution_count": null,
   "metadata": {},
   "outputs": [],
   "source": [
    "inde_sum, indes, followed_c"
   ]
  },
  {
   "cell_type": "code",
   "execution_count": 27,
   "metadata": {},
   "outputs": [
    {
     "name": "stdout",
     "output_type": "stream",
     "text": [
      "5\n",
      "5 2 1 2 2\n",
      "9\n"
     ]
    }
   ],
   "source": [
    "from heapq import heappush, heappop\n",
    "\n",
    "n = int(input())\n",
    "A = list(map(int, input().split()))\n",
    "\n",
    "total = 0\n",
    "for cur_len in range(1, n + 1):\n",
    "    temp_c = cur_len // 2\n",
    "    total += (n - cur_len + 1) * temp_c\n",
    "    \n",
    "info = [[0, [], 0] for _ in range(n + 1)] # inde_sum, indes heap, followed_c\n",
    "for i in range(n):\n",
    "    av = A[i]\n",
    "\n",
    "    left_c = i + 1\n",
    "    right_c = n - i\n",
    "    followed_c = info[av][2]\n",
    "    \n",
    "    while info[av][1] and -info[av][1][0] >= right_c:\n",
    "        fav = -heappop(info[av][1])\n",
    "    \n",
    "        info[av][0] -= fav\n",
    "        followed_c += 1\n",
    "        \n",
    "    to_minus = info[av][0] + followed_c * right_c\n",
    "    total -= to_minus\n",
    "    \n",
    "    if left_c < right_c:\n",
    "        info[av][0] += left_c\n",
    "        heappush(info[av][1], -left_c)\n",
    "    else:\n",
    "        followed_c += 1\n",
    "        \n",
    "    info[av][2] = followed_c\n",
    "    \n",
    "print(total)"
   ]
  },
  {
   "cell_type": "markdown",
   "metadata": {},
   "source": [
    "F"
   ]
  },
  {
   "cell_type": "code",
   "execution_count": 57,
   "metadata": {},
   "outputs": [
    {
     "name": "stdout",
     "output_type": "stream",
     "text": [
      "1 0\n",
      "2 0\n",
      "3 0\n",
      "4 0\n",
      "5 0\n",
      "6 0\n",
      "7 0\n",
      "8 1\n",
      "9 4\n",
      "10 10\n",
      "11 20\n",
      "12 35\n",
      "13 56\n",
      "14 84\n"
     ]
    }
   ],
   "source": [
    "from itertools import product as prod\n",
    "\n",
    "min_c = 2\n",
    "node_c = 4\n",
    "for sum_v in range(1, 15):\n",
    "\n",
    "    c = 0\n",
    "    for case in prod(*[range(min_c, sum_v + 1)] * node_c):\n",
    "        if sum(case) == sum_v:\n",
    "            c += 1\n",
    "\n",
    "    print(sum_v, c)"
   ]
  },
  {
   "cell_type": "code",
   "execution_count": null,
   "metadata": {},
   "outputs": [],
   "source": [
    "node_c sum_v\n",
    "1      n - 1\n",
    "2         n\n",
    "3      n + 1\n",
    "4      n + 2\n",
    "5      n + 3"
   ]
  },
  {
   "cell_type": "code",
   "execution_count": null,
   "metadata": {},
   "outputs": [],
   "source": [
    "node_c = 4\n",
    "sum_v 8부터 3C0, 4C1, 5C2...\n",
    "\n",
    "node_c = 5\n",
    "sum_v 10부터 4C0, 5C1, 6C2...\n",
    "\n"
   ]
  },
  {
   "cell_type": "code",
   "execution_count": null,
   "metadata": {},
   "outputs": [],
   "source": [
    "5 20 35\n",
    " 5  15\n",
    "  10"
   ]
  }
 ],
 "metadata": {
  "kernelspec": {
   "display_name": "Python 3",
   "language": "python",
   "name": "python3"
  },
  "language_info": {
   "codemirror_mode": {
    "name": "ipython",
    "version": 3
   },
   "file_extension": ".py",
   "mimetype": "text/x-python",
   "name": "python",
   "nbconvert_exporter": "python",
   "pygments_lexer": "ipython3",
   "version": "3.7.4"
  }
 },
 "nbformat": 4,
 "nbformat_minor": 2
}
