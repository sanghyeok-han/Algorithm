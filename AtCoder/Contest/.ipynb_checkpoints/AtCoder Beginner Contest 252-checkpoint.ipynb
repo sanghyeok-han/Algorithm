{
 "cells": [
  {
   "cell_type": "markdown",
   "metadata": {},
   "source": [
    "A"
   ]
  },
  {
   "cell_type": "code",
   "execution_count": 6,
   "metadata": {},
   "outputs": [
    {
     "name": "stdout",
     "output_type": "stream",
     "text": [
      "1 1\n",
      "1 1\n",
      "0\n"
     ]
    }
   ],
   "source": [
    "h, w = map(int, input().split())\n",
    "x, y = map(int, input().split())\n",
    "x -= 1\n",
    "y -= 1\n",
    "\n",
    "dx = [-1, 1, 0, 0]\n",
    "dy = [0, 0, -1, 1]\n",
    "\n",
    "c = 0\n",
    "for i in range(4):\n",
    "    nx = x + dx[i]\n",
    "    ny = y + dy[i]\n",
    "    \n",
    "    if nx < 0 or nx >= h or ny < 0 or ny >= w:\n",
    "        continue\n",
    "    c += 1\n",
    "    \n",
    "print(c)"
   ]
  },
  {
   "cell_type": "markdown",
   "metadata": {},
   "source": [
    "B"
   ]
  },
  {
   "cell_type": "code",
   "execution_count": 16,
   "metadata": {},
   "outputs": [
    {
     "name": "stdout",
     "output_type": "stream",
     "text": [
      "5 1 5\n",
      ".....#####.....#####.....\n",
      "#####.....#####.....#####\n",
      ".....#####.....#####.....\n",
      "#####.....#####.....#####\n",
      ".....#####.....#####.....\n"
     ]
    }
   ],
   "source": [
    "n, a, b = map(int, input().split())\n",
    "\n",
    "tp1 = ('.' * b + '#' * b) * (n // 2)\n",
    "if n % 2 == 1:\n",
    "    tp1 += '.' * b\n",
    "    \n",
    "tp2 = ('#' * b + '.' * b) * (n // 2)\n",
    "if n % 2 == 1:\n",
    "    tp2 += '#' * b\n",
    "    \n",
    "for i in range(n):\n",
    "    if i % 2 == 0:\n",
    "        for _ in range(a):\n",
    "            print(tp1)\n",
    "    else:\n",
    "        for _ in range(a):\n",
    "            print(tp2)"
   ]
  },
  {
   "cell_type": "markdown",
   "metadata": {},
   "source": [
    "C"
   ]
  },
  {
   "cell_type": "code",
   "execution_count": 26,
   "metadata": {},
   "outputs": [
    {
     "name": "stdout",
     "output_type": "stream",
     "text": [
      "10 6\n",
      "1\n",
      "5\n",
      "2\n",
      "9\n",
      "6\n",
      "6\n",
      "1 2 3 4 5 7 6 8 10 9\n"
     ]
    }
   ],
   "source": [
    "import sys\n",
    "input = lambda: sys.stdin.readline().rstrip()\n",
    "\n",
    "n, q = map(int, input().split())\n",
    "qs = [int(input()) for _ in range(q)]\n",
    "\n",
    "li = list(range(1, n + 1))\n",
    "locs = [0] + list(range(n))\n",
    "for v in qs:\n",
    "    loc = locs[v]\n",
    "    nxt = loc + 1\n",
    "    \n",
    "    if nxt == n:\n",
    "        nxt = loc - 1\n",
    "    \n",
    "    locs[v], locs[li[nxt]] = locs[li[nxt]], locs[v]\n",
    "    li[loc], li[nxt] = li[nxt], li[loc]\n",
    "    \n",
    "print(*li)"
   ]
  },
  {
   "cell_type": "markdown",
   "metadata": {},
   "source": [
    "D"
   ]
  },
  {
   "cell_type": "code",
   "execution_count": 65,
   "metadata": {},
   "outputs": [
    {
     "name": "stdout",
     "output_type": "stream",
     "text": [
      "123456789012345\n",
      "226863\n"
     ]
    }
   ],
   "source": [
    "from bisect import bisect\n",
    "\n",
    "max_num = 1000000\n",
    "ip = [True] * (max_num + 1)\n",
    "ip[0] = ip[1] = False\n",
    "for mod in range(2, int(max_num ** 0.5) + 1):\n",
    "    if ip[mod]:\n",
    "        for v in range(mod * mod, max_num + 1, mod):\n",
    "            ip[v] = False\n",
    "primes = [i for i, v in enumerate(ip) if v]\n",
    "\n",
    "n = int(input())\n",
    "\n",
    "c = 0\n",
    "for qi in range(1, len(primes)):\n",
    "    q = primes[qi]\n",
    "    cri = n // (q ** 3)\n",
    "    t1 = bisect(primes, cri)\n",
    "    t2 = qi\n",
    "    \n",
    "    v = min(t1, t2)\n",
    "    \n",
    "    c += v\n",
    "            \n",
    "print(c)"
   ]
  },
  {
   "cell_type": "markdown",
   "metadata": {},
   "source": [
    "E"
   ]
  },
  {
   "cell_type": "code",
   "execution_count": 73,
   "metadata": {},
   "outputs": [
    {
     "ename": "IndexError",
     "evalue": "list index out of range",
     "output_type": "error",
     "traceback": [
      "\u001b[1;31m---------------------------------------------------------------------------\u001b[0m",
      "\u001b[1;31mIndexError\u001b[0m                                Traceback (most recent call last)",
      "\u001b[1;32m<ipython-input-73-638d9600b867>\u001b[0m in \u001b[0;36m<module>\u001b[1;34m\u001b[0m\n\u001b[0;32m     32\u001b[0m         \u001b[0mneed_to_find_in_b\u001b[0m\u001b[1;33m.\u001b[0m\u001b[0madd\u001b[0m\u001b[1;33m(\u001b[0m\u001b[0ma\u001b[0m\u001b[1;33m[\u001b[0m\u001b[0mai\u001b[0m\u001b[1;33m]\u001b[0m\u001b[1;33m)\u001b[0m\u001b[1;33m\u001b[0m\u001b[1;33m\u001b[0m\u001b[0m\n\u001b[0;32m     33\u001b[0m \u001b[1;33m\u001b[0m\u001b[0m\n\u001b[1;32m---> 34\u001b[1;33m     \u001b[1;32mif\u001b[0m \u001b[0mb\u001b[0m\u001b[1;33m[\u001b[0m\u001b[0mbi\u001b[0m\u001b[1;33m]\u001b[0m \u001b[1;32min\u001b[0m \u001b[0mneed_to_find_in_b\u001b[0m\u001b[1;33m:\u001b[0m\u001b[1;33m\u001b[0m\u001b[1;33m\u001b[0m\u001b[0m\n\u001b[0m\u001b[0;32m     35\u001b[0m         \u001b[0mneed_to_find_in_b\u001b[0m\u001b[1;33m.\u001b[0m\u001b[0mdiscard\u001b[0m\u001b[1;33m(\u001b[0m\u001b[0mb\u001b[0m\u001b[1;33m[\u001b[0m\u001b[0mbi\u001b[0m\u001b[1;33m]\u001b[0m\u001b[1;33m)\u001b[0m\u001b[1;33m\u001b[0m\u001b[1;33m\u001b[0m\u001b[0m\n\u001b[0;32m     36\u001b[0m     \u001b[1;32melif\u001b[0m \u001b[0mb\u001b[0m\u001b[1;33m[\u001b[0m\u001b[0mbi\u001b[0m\u001b[1;33m]\u001b[0m \u001b[1;32min\u001b[0m \u001b[0ma_st\u001b[0m\u001b[1;33m:\u001b[0m\u001b[1;33m\u001b[0m\u001b[1;33m\u001b[0m\u001b[0m\n",
      "\u001b[1;31mIndexError\u001b[0m: list index out of range"
     ]
    }
   ],
   "source": [
    "# n = int(input())\n",
    "# a = list(map(int, input().split()))\n",
    "# b = list(map(int, input().split()))\n",
    "ai = 0\n",
    "bi = 0\n",
    "a_st = set()\n",
    "b_st = set()\n",
    "need_to_find_in_a = set()\n",
    "need_to_find_in_b = set()\n",
    "\n",
    "# q = int(input())\n",
    "r = [False] * q\n",
    "\n",
    "# qs = [[] for _ in range(n)]\n",
    "# for qnum in range(q):\n",
    "#     x, y = map(int, input().split())\n",
    "    \n",
    "#     x -= 1\n",
    "#     y -= 1\n",
    "#     qs[x].append((y, qnum))\n",
    "\n",
    "covered_b_start = -1\n",
    "covered_b_end = -1\n",
    "while ai <= n - 1:\n",
    "    a_st.add(a[ai])\n",
    "    \n",
    "    if a[ai] in need_to_find_in_a:\n",
    "        need_to_find_in_a.discard(a[ai])\n",
    "    elif a[ai] in b_st:\n",
    "        pass\n",
    "    else:\n",
    "        need_to_find_in_b.add(a[ai])\n",
    "\n",
    "    if b[bi] in need_to_find_in_b:\n",
    "        need_to_find_in_b.discard(b[bi])\n",
    "    elif b[bi] in a_st:\n",
    "        pass\n",
    "    else:\n",
    "        need_to_find_in_a.add(b[bi])\n",
    "        \n",
    "    if need_to_find_in_a:\n",
    "        covered_b_start = -1\n",
    "        covered_b_end = -1\n",
    "        ai += 1\n",
    "        a_st.add(a[ai])\n",
    "        continue\n",
    "        \n",
    "    if need_to_find_in_b:\n",
    "        covered_b_start = -1\n",
    "        covered_b_end = -1\n",
    "        bi += 1\n",
    "        b_st.add(b[bi])\n",
    "        continue\n",
    "    \n",
    "    if covered_b_start == -1:\n",
    "        covered_b_start = bi\n",
    "        \n",
    "    while bi < n:\n",
    "        b_st.add(b[bi])\n",
    "        bi += 1\n",
    "        if bi >= n:\n",
    "            break\n",
    "        if b[bi] in a_st:\n",
    "            pass\n",
    "        else:\n",
    "            bi -= 1\n",
    "            break\n",
    "            \n",
    "    covered_b_end = bi\n",
    "    \n",
    "    for bb, qnum in qs[ai]:\n",
    "        if covered_b_start <= bb <= covered_b_end:\n",
    "            r[qnum] = True\n",
    "            \n",
    "    ai += 1\n",
    "    a_st.add(a[ai])\n",
    "    \n",
    "print(r)"
   ]
  },
  {
   "cell_type": "code",
   "execution_count": null,
   "metadata": {},
   "outputs": [],
   "source": []
  }
 ],
 "metadata": {
  "kernelspec": {
   "display_name": "Python 3",
   "language": "python",
   "name": "python3"
  },
  "language_info": {
   "codemirror_mode": {
    "name": "ipython",
    "version": 3
   },
   "file_extension": ".py",
   "mimetype": "text/x-python",
   "name": "python",
   "nbconvert_exporter": "python",
   "pygments_lexer": "ipython3",
   "version": "3.7.4"
  }
 },
 "nbformat": 4,
 "nbformat_minor": 2
}
