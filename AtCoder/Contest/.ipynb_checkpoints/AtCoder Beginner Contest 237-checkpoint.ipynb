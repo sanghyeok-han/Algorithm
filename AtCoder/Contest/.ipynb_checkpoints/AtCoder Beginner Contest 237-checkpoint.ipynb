{
 "cells": [
  {
   "cell_type": "code",
   "execution_count": null,
   "metadata": {},
   "outputs": [],
   "source": [
    "import sys\n",
    "input = lambda: sys.stdin.readline().rstrip()"
   ]
  },
  {
   "cell_type": "markdown",
   "metadata": {},
   "source": [
    "A"
   ]
  },
  {
   "cell_type": "code",
   "execution_count": 4,
   "metadata": {},
   "outputs": [
    {
     "name": "stdout",
     "output_type": "stream",
     "text": [
      "483597848400000\n",
      "No\n"
     ]
    }
   ],
   "source": [
    "n = int(input())\n",
    "\n",
    "if - 2 ** 31 <= n <= 2 ** 31 - 1:\n",
    "    print('Yes')\n",
    "else:\n",
    "    print('No')"
   ]
  },
  {
   "cell_type": "markdown",
   "metadata": {},
   "source": [
    "B"
   ]
  },
  {
   "cell_type": "code",
   "execution_count": 21,
   "metadata": {},
   "outputs": [
    {
     "name": "stdout",
     "output_type": "stream",
     "text": [
      "2 2\n",
      "1000000000 1000000000\n",
      "1000000000 1000000000\n",
      "1000000000 1000000000\n",
      "1000000000 1000000000\n"
     ]
    }
   ],
   "source": [
    "import sys\n",
    "input = lambda: sys.stdin.readline().rstrip()\n",
    "\n",
    "n, m = map(int, input().split())\n",
    "li = [list(map(int, input().split())) for _ in range(n)]\n",
    "\n",
    "for v in map(list, zip(*li)):\n",
    "    print(*v)"
   ]
  },
  {
   "cell_type": "markdown",
   "metadata": {},
   "source": [
    "C"
   ]
  },
  {
   "cell_type": "code",
   "execution_count": 36,
   "metadata": {},
   "outputs": [
    {
     "name": "stdout",
     "output_type": "stream",
     "text": [
      "aabaaaaaaa\n",
      "Yes\n"
     ]
    }
   ],
   "source": [
    "from collections import deque\n",
    "import sys\n",
    "input = lambda: sys.stdin.readline().rstrip()\n",
    "\n",
    "s = input()\n",
    "\n",
    "deq = deque(s)\n",
    "right_a_c = 0\n",
    "while True:\n",
    "    if deq and deq[-1] == 'a':\n",
    "        deq.pop()\n",
    "        right_a_c += 1\n",
    "    else:\n",
    "        break\n",
    "        \n",
    "for _ in range(right_a_c):\n",
    "    if deq and deq[0] == 'a':\n",
    "        deq.popleft()\n",
    "    else:\n",
    "        break\n",
    "        \n",
    "def check():\n",
    "    n = len(deq)\n",
    "    for i in range(n // 2):\n",
    "        if deq[i] != deq[n - 1 - i]:\n",
    "            return False\n",
    "    return True\n",
    "\n",
    "if check():\n",
    "    print('Yes')\n",
    "else:\n",
    "    print('No')"
   ]
  },
  {
   "cell_type": "code",
   "execution_count": 56,
   "metadata": {},
   "outputs": [
    {
     "name": "stdout",
     "output_type": "stream",
     "text": [
      "aphp\n",
      "No\n"
     ]
    }
   ],
   "source": [
    "import sys\n",
    "input = lambda: sys.stdin.readline().rstrip()\n",
    "\n",
    "def check(s):\n",
    "    nn = right_end - left_end + 1\n",
    "    for i in range(left_end, right_end + 1):\n",
    "        rr = right_end - (i - left_end)\n",
    "        if i > rr:\n",
    "            break\n",
    "        if s[i] != s[rr]:\n",
    "            return False\n",
    "    return True\n",
    "\n",
    "s = input()\n",
    "n = len(s)\n",
    "\n",
    "lc = 0\n",
    "for i in range(n):\n",
    "    if s[i] == 'a':\n",
    "        lc += 1\n",
    "    else:\n",
    "        break\n",
    "        \n",
    "rc = 0\n",
    "for i in range(n - 1, -1, -1):\n",
    "    if s[i] == 'a':\n",
    "        rc += 1\n",
    "    else:\n",
    "        break\n",
    "        \n",
    "if lc > rc:\n",
    "    print('No')\n",
    "else:\n",
    "    right_end = n - 1 - rc\n",
    "    left_end = lc\n",
    "\n",
    "    if check(s):\n",
    "        print('Yes')\n",
    "    else:\n",
    "        print('No')"
   ]
  },
  {
   "cell_type": "markdown",
   "metadata": {},
   "source": [
    "D"
   ]
  },
  {
   "cell_type": "code",
   "execution_count": 10,
   "metadata": {},
   "outputs": [
    {
     "name": "stdout",
     "output_type": "stream",
     "text": [
      "7\n",
      "LLLLLLL\n",
      "7 6 5 4 3 2 1 0\n"
     ]
    }
   ],
   "source": [
    "from collections import deque\n",
    "\n",
    "n = int(input())\n",
    "s = input()\n",
    "\n",
    "left = deque()\n",
    "cur = 0\n",
    "right = deque()\n",
    "\n",
    "for i in range(n):\n",
    "    ncur = i + 1\n",
    "    \n",
    "    if s[i] == 'L':\n",
    "        right.appendleft(cur)\n",
    "    else:\n",
    "        left.append(cur)\n",
    "    cur = ncur\n",
    "    \n",
    "r = list(left) + [cur] + list(right)\n",
    "\n",
    "print(*r)"
   ]
  },
  {
   "cell_type": "markdown",
   "metadata": {},
   "source": [
    "E"
   ]
  },
  {
   "cell_type": "code",
   "execution_count": null,
   "metadata": {},
   "outputs": [],
   "source": [
    "4 4\n",
    "10 8 12 5\n",
    "1 2\n",
    "1 3\n",
    "2 3\n",
    "3 4"
   ]
  },
  {
   "cell_type": "code",
   "execution_count": null,
   "metadata": {},
   "outputs": [],
   "source": [
    "내려가면 -되고 올라가면 +된다."
   ]
  },
  {
   "cell_type": "code",
   "execution_count": 102,
   "metadata": {},
   "outputs": [
    {
     "name": "stdout",
     "output_type": "stream",
     "text": [
      "2 1\n",
      "0 10\n",
      "1 2\n",
      "0\n"
     ]
    }
   ],
   "source": [
    "from heapq import heappush, heappop\n",
    "import sys\n",
    "input = lambda: sys.stdin.readline().rstrip()\n",
    "\n",
    "n, m = map(int, input().split())\n",
    "hs = list(map(int, input().split()))\n",
    "\n",
    "li = [[] for _ in range(n + 1)]\n",
    "\n",
    "def get_delta(f, t):\n",
    "    f -= 1\n",
    "    t -= 1\n",
    "    \n",
    "    hf = hs[f]\n",
    "    ht = hs[t]\n",
    "    \n",
    "    delta = 0\n",
    "    if hf > ht:\n",
    "        delta = hf - ht\n",
    "    else:\n",
    "        delta = - 2 * (ht - hf)\n",
    "        \n",
    "    return delta\n",
    "\n",
    "    \n",
    "for _ in range(m):\n",
    "    a, b = map(int, input().split())\n",
    "\n",
    "    li[a].append((b, get_delta(a, b)))\n",
    "    li[b].append((a, get_delta(b, a)))\n",
    "\n",
    "hps = [-float('inf') for _ in range(n + 1)] # happiness\n",
    "hps[1] = 0\n",
    "\n",
    "heap = []\n",
    "heappush(heap, (0, 1))\n",
    "while heap:\n",
    "    hp, value = heappop(heap)\n",
    "    hp = -hp\n",
    "    \n",
    "    if hp < hps[value]:\n",
    "        continue\n",
    "        \n",
    "    for v, c in li[value]:\n",
    "        nhp = hp + c\n",
    "        if nhp > hps[v]:\n",
    "            hps[v] = nhp\n",
    "            heappush(heap, (-nhp, v))\n",
    "            \n",
    "r = max(hps)\n",
    "\n",
    "print(r)"
   ]
  },
  {
   "cell_type": "markdown",
   "metadata": {},
   "source": [
    "### F"
   ]
  },
  {
   "cell_type": "code",
   "execution_count": 135,
   "metadata": {},
   "outputs": [
    {
     "name": "stdout",
     "output_type": "stream",
     "text": [
      "4 5\n",
      "5 4 3\n",
      "95\n"
     ]
    }
   ],
   "source": [
    "mod = 998244353\n",
    "\n",
    "n, m = map(int, input().split())\n",
    "\n",
    "n, m = m, n\n",
    "k = 3\n",
    "\n",
    "\n",
    "r = max(0, m + 1 - k) * nCm(n, k) * pow(n, m - k, mod) - max(0, m - k) * nCm(n, k + 1) * pow(n, m - k - 1, mod)\n",
    "\n",
    "print(r)"
   ]
  },
  {
   "cell_type": "code",
   "execution_count": 137,
   "metadata": {},
   "outputs": [
    {
     "data": {
      "text/plain": [
       "100"
      ]
     },
     "execution_count": 137,
     "metadata": {},
     "output_type": "execute_result"
    }
   ],
   "source": [
    "max(0, m + 1 - k) * nCm(n, k) * pow(n, m - k, mod)"
   ]
  },
  {
   "cell_type": "code",
   "execution_count": 136,
   "metadata": {},
   "outputs": [
    {
     "data": {
      "text/plain": [
       "5"
      ]
     },
     "execution_count": 136,
     "metadata": {},
     "output_type": "execute_result"
    }
   ],
   "source": [
    "max(0, m - k) * nCm(n, k + 1) * pow(n, m - k - 1, mod)"
   ]
  },
  {
   "cell_type": "code",
   "execution_count": 112,
   "metadata": {},
   "outputs": [],
   "source": [
    "mod = 998244353\n",
    "\n",
    "def nCm(n, m):\n",
    "    if m > n - m:\n",
    "        m = n - m\n",
    "        \n",
    "    nu = 1\n",
    "    for i in range(n, n - m, -1):\n",
    "        nu *= i\n",
    "        nu %= mod\n",
    "        \n",
    "    denom = 1\n",
    "    for i in range(1, m + 1):\n",
    "        denom *= i\n",
    "        denom %= mod\n",
    "        \n",
    "    return nu // denom"
   ]
  },
  {
   "cell_type": "code",
   "execution_count": 121,
   "metadata": {},
   "outputs": [
    {
     "data": {
      "text/plain": [
       "6"
      ]
     },
     "execution_count": 121,
     "metadata": {},
     "output_type": "execute_result"
    }
   ],
   "source": [
    "nCm(4, 2)"
   ]
  },
  {
   "cell_type": "code",
   "execution_count": 117,
   "metadata": {},
   "outputs": [],
   "source": []
  },
  {
   "cell_type": "code",
   "execution_count": 118,
   "metadata": {},
   "outputs": [
    {
     "data": {
      "text/plain": [
       "95"
      ]
     },
     "execution_count": 118,
     "metadata": {},
     "output_type": "execute_result"
    }
   ],
   "source": [
    "r"
   ]
  },
  {
   "cell_type": "code",
   "execution_count": null,
   "metadata": {},
   "outputs": [],
   "source": []
  },
  {
   "cell_type": "code",
   "execution_count": null,
   "metadata": {},
   "outputs": [],
   "source": []
  },
  {
   "cell_type": "code",
   "execution_count": null,
   "metadata": {},
   "outputs": [],
   "source": []
  },
  {
   "cell_type": "code",
   "execution_count": null,
   "metadata": {},
   "outputs": [],
   "source": []
  },
  {
   "cell_type": "code",
   "execution_count": null,
   "metadata": {},
   "outputs": [],
   "source": []
  },
  {
   "cell_type": "code",
   "execution_count": null,
   "metadata": {},
   "outputs": [],
   "source": []
  },
  {
   "cell_type": "code",
   "execution_count": null,
   "metadata": {},
   "outputs": [],
   "source": []
  },
  {
   "cell_type": "code",
   "execution_count": null,
   "metadata": {},
   "outputs": [],
   "source": []
  },
  {
   "cell_type": "code",
   "execution_count": null,
   "metadata": {},
   "outputs": [],
   "source": []
  },
  {
   "cell_type": "code",
   "execution_count": null,
   "metadata": {},
   "outputs": [],
   "source": []
  },
  {
   "cell_type": "code",
   "execution_count": null,
   "metadata": {},
   "outputs": [],
   "source": []
  },
  {
   "cell_type": "code",
   "execution_count": null,
   "metadata": {},
   "outputs": [],
   "source": []
  },
  {
   "cell_type": "code",
   "execution_count": null,
   "metadata": {},
   "outputs": [],
   "source": []
  },
  {
   "cell_type": "code",
   "execution_count": null,
   "metadata": {},
   "outputs": [],
   "source": []
  },
  {
   "cell_type": "code",
   "execution_count": null,
   "metadata": {},
   "outputs": [],
   "source": [
    "# template for bootstrap\n",
    "import os\n",
    "import sys\n",
    "from io import BytesIO, IOBase\n",
    "\n",
    "## PYRIVAL BOOTSTRAP\n",
    "# https://github.com/cheran-senthil/PyRival/blob/master/pyrival/misc/bootstrap.py\n",
    "# This decorator allows for recursion without actually doing recursion\n",
    "from types import GeneratorType\n",
    "## @bootstrap, yield when getting and returning value in recursive functions, end of functions\n",
    "\n",
    "\n",
    "def main():\n",
    "    from collections import defaultdict as dd\n",
    "    \n",
    "    n = int(input())\n",
    "    colors = [0] + list(map(int, input().split()))\n",
    "\n",
    "    li = [[] for _ in range(n + 1)]\n",
    "    for _ in range(n - 1):\n",
    "        a, b = map(int, input().split())\n",
    "        li[a].append(b)\n",
    "        li[b].append(a)\n",
    "\n",
    "    @bootstrap\n",
    "    def dfs(value):\n",
    "        if cdd[colors[value]] == 0:\n",
    "            possibles.append(value)\n",
    "        cdd[colors[value]] += 1\n",
    "\n",
    "        for v in li[value]:\n",
    "            if vt[v]:\n",
    "                continue\n",
    "            vt[v] = True\n",
    "            yield dfs(v)\n",
    "\n",
    "        cdd[colors[value]] -= 1\n",
    "        yield\n",
    "\n",
    "    possibles = []\n",
    "    cdd = dd(int) # color defaultdict\n",
    "\n",
    "    vt = [False] * (n + 1)\n",
    "    vt[1] = True\n",
    "\n",
    "    dfs(1)\n",
    "\n",
    "    possibles.sort()\n",
    "    possibles = '\\n'.join([str(v) for v in possibles])\n",
    "\n",
    "    print(possibles)\n",
    "\n",
    "    \n",
    "# region fastio\n",
    " \n",
    "BUFSIZE = 8192\n",
    " \n",
    "\n",
    "class FastIO(IOBase):\n",
    "    newlines = 0\n",
    " \n",
    "    def __init__(self, file):\n",
    "        self._fd = file.fileno()\n",
    "        self.buffer = BytesIO()\n",
    "        self.writable = \"x\" in file.mode or \"r\" not in file.mode\n",
    "        self.write = self.buffer.write if self.writable else None\n",
    " \n",
    "    def read(self):\n",
    "        while True:\n",
    "            b = os.read(self._fd, max(os.fstat(self._fd).st_size, BUFSIZE))\n",
    "            if not b:\n",
    "                break\n",
    "            ptr = self.buffer.tell()\n",
    "            self.buffer.seek(0, 2), self.buffer.write(b), self.buffer.seek(ptr)\n",
    "        self.newlines = 0\n",
    "        return self.buffer.read()\n",
    " \n",
    "    def readline(self):\n",
    "        while self.newlines == 0:\n",
    "            b = os.read(self._fd, max(os.fstat(self._fd).st_size, BUFSIZE))\n",
    "            self.newlines = b.count(b\"\\n\") + (not b)\n",
    "            ptr = self.buffer.tell()\n",
    "            self.buffer.seek(0, 2), self.buffer.write(b), self.buffer.seek(ptr)\n",
    "        self.newlines -= 1\n",
    "        return self.buffer.readline()\n",
    " \n",
    "    def flush(self):\n",
    "        if self.writable:\n",
    "            os.write(self._fd, self.buffer.getvalue())\n",
    "            self.buffer.truncate(0), self.buffer.seek(0)\n",
    " \n",
    " \n",
    "class IOWrapper(IOBase):\n",
    "    def __init__(self, file):\n",
    "        self.buffer = FastIO(file)\n",
    "        self.flush = self.buffer.flush\n",
    "        self.writable = self.buffer.writable\n",
    "        self.write = lambda s: self.buffer.write(s.encode(\"ascii\"))\n",
    "        self.read = lambda: self.buffer.read().decode(\"ascii\")\n",
    "        self.readline = lambda: self.buffer.readline().decode(\"ascii\")\n",
    " \n",
    " \n",
    "sys.stdin, sys.stdout = IOWrapper(sys.stdin), IOWrapper(sys.stdout)\n",
    "input = lambda: sys.stdin.readline().rstrip(\"\\r\\n\")\n",
    " \n",
    "# endregion\n",
    " \n",
    "if __name__ == \"__main__\":\n",
    "    def bootstrap(f, stack=[]):\n",
    "        def wrappedfunc(*args, **kwargs):\n",
    "            if stack:\n",
    "                return f(*args, **kwargs)\n",
    "            else:\n",
    "                to = f(*args, **kwargs)\n",
    "                while True:\n",
    "                    if type(to) is GeneratorType:\n",
    "                        stack.append(to)\n",
    "                        to = next(to)\n",
    "                    else:\n",
    "                        stack.pop()\n",
    "                        if not stack:\n",
    "                            break\n",
    "                        to = stack[-1].send(to)\n",
    "                return to\n",
    "        return wrappedfunc\n",
    "    \n",
    "    main()"
   ]
  }
 ],
 "metadata": {
  "kernelspec": {
   "display_name": "Python 3",
   "language": "python",
   "name": "python3"
  },
  "language_info": {
   "codemirror_mode": {
    "name": "ipython",
    "version": 3
   },
   "file_extension": ".py",
   "mimetype": "text/x-python",
   "name": "python",
   "nbconvert_exporter": "python",
   "pygments_lexer": "ipython3",
   "version": "3.7.4"
  }
 },
 "nbformat": 4,
 "nbformat_minor": 4
}
