{
 "cells": [
  {
   "cell_type": "markdown",
   "metadata": {},
   "source": [
    "A"
   ]
  },
  {
   "cell_type": "code",
   "execution_count": 2,
   "metadata": {},
   "outputs": [
    {
     "name": "stdout",
     "output_type": "stream",
     "text": [
      "2 5 3\n",
      "No\n"
     ]
    }
   ],
   "source": [
    "a, b, c = map(int, input().split())\n",
    "\n",
    "if a <= b <= c or a >= b >= c:\n",
    "    print('Yes')\n",
    "else:\n",
    "    print('No')"
   ]
  },
  {
   "cell_type": "markdown",
   "metadata": {},
   "source": [
    "B"
   ]
  },
  {
   "cell_type": "code",
   "execution_count": 3,
   "metadata": {},
   "outputs": [
    {
     "name": "stdout",
     "output_type": "stream",
     "text": [
      "2 3\n",
      "--o\n",
      "o--\n",
      "3\n"
     ]
    }
   ],
   "source": [
    "n, m = map(int, input().split())\n",
    "li = [input() for _ in range(n)]\n",
    "\n",
    "os = []\n",
    "for i in range(n):\n",
    "    for j in range(m):\n",
    "        if li[i][j] == 'o':\n",
    "            os.append((i, j))\n",
    "            \n",
    "x1, y1 = os[0]\n",
    "x2, y2 = os[1]\n",
    "\n",
    "r = abs(x1 - x2) + abs(y1 - y2)\n",
    "\n",
    "print(r)"
   ]
  },
  {
   "cell_type": "markdown",
   "metadata": {},
   "source": [
    "C"
   ]
  },
  {
   "cell_type": "code",
   "execution_count": null,
   "metadata": {},
   "outputs": [],
   "source": [
    "from collections import defaultdict as dd\n",
    "import sys\n",
    "input = lambda: sys.stdin.readline().rstrip()\n",
    "\n",
    "# https://github.com/tatyam-prime/SortedSet/blob/main/SortedMultiset.py\n",
    "import math\n",
    "from bisect import bisect_left, bisect_right, insort\n",
    "from typing import Generic, Iterable, Iterator, TypeVar, Union, List\n",
    "T = TypeVar('T')\n",
    "\n",
    "class SortedMultiset(Generic[T]):\n",
    "    BUCKET_RATIO = 50\n",
    "    REBUILD_RATIO = 170\n",
    "\n",
    "    def _build(self, a=None) -> None:\n",
    "        \"Evenly divide `a` into buckets.\"\n",
    "        if a is None: a = list(self)\n",
    "        size = self.size = len(a)\n",
    "        bucket_size = int(math.ceil(math.sqrt(size / self.BUCKET_RATIO)))\n",
    "        self.a = [a[size * i // bucket_size : size * (i + 1) // bucket_size] for i in range(bucket_size)]\n",
    "    \n",
    "    def __init__(self, a: Iterable[T] = []) -> None:\n",
    "        \"Make a new SortedMultiset from iterable. / O(N) if sorted / O(N log N)\"\n",
    "        a = list(a)\n",
    "        if not all(a[i] <= a[i + 1] for i in range(len(a) - 1)):\n",
    "            a = sorted(a)\n",
    "        self._build(a)\n",
    "\n",
    "    def __iter__(self) -> Iterator[T]:\n",
    "        for i in self.a:\n",
    "            for j in i: yield j\n",
    "\n",
    "    def __reversed__(self) -> Iterator[T]:\n",
    "        for i in reversed(self.a):\n",
    "            for j in reversed(i): yield j\n",
    "    \n",
    "    def __len__(self) -> int:\n",
    "        return self.size\n",
    "    \n",
    "    def __repr__(self) -> str:\n",
    "        return \"SortedMultiset\" + str(self.a)\n",
    "    \n",
    "    def __str__(self) -> str:\n",
    "        s = str(list(self))\n",
    "        return \"{\" + s[1 : len(s) - 1] + \"}\"\n",
    "\n",
    "    def _find_bucket(self, x: T) -> List[T]:\n",
    "        \"Find the bucket which should contain x. self must not be empty.\"\n",
    "        for a in self.a:\n",
    "            if x <= a[-1]: return a\n",
    "        return a\n",
    "\n",
    "    def __contains__(self, x: T) -> bool:\n",
    "        if self.size == 0: return False\n",
    "        a = self._find_bucket(x)\n",
    "        i = bisect_left(a, x)\n",
    "        return i != len(a) and a[i] == x\n",
    "\n",
    "    def count(self, x: T) -> int:\n",
    "        \"Count the number of x.\"\n",
    "        return self.index_right(x) - self.index(x)\n",
    "\n",
    "    def add(self, x: T) -> None:\n",
    "        \"Add an element. / O(√N)\"\n",
    "        if self.size == 0:\n",
    "            self.a = [[x]]\n",
    "            self.size = 1\n",
    "            return\n",
    "        a = self._find_bucket(x)\n",
    "        insort(a, x)\n",
    "        self.size += 1\n",
    "        if len(a) > len(self.a) * self.REBUILD_RATIO:\n",
    "            self._build()\n",
    "\n",
    "    def discard(self, x: T) -> bool:\n",
    "        \"Remove an element and return True if removed. / O(√N)\"\n",
    "        if self.size == 0: return False\n",
    "        a = self._find_bucket(x)\n",
    "        i = bisect_left(a, x)\n",
    "        if i == len(a) or a[i] != x: return False\n",
    "        a.pop(i)\n",
    "        self.size -= 1\n",
    "        if len(a) == 0: self._build()\n",
    "        return True\n",
    "\n",
    "    def lt(self, x: T) -> Union[T, None]:\n",
    "        \"Find the largest element < x, or None if it doesn't exist.\"\n",
    "        for a in reversed(self.a):\n",
    "            if a[0] < x:\n",
    "                return a[bisect_left(a, x) - 1]\n",
    "\n",
    "    def le(self, x: T) -> Union[T, None]:\n",
    "        \"Find the largest element <= x, or None if it doesn't exist.\"\n",
    "        for a in reversed(self.a):\n",
    "            if a[0] <= x:\n",
    "                return a[bisect_right(a, x) - 1]\n",
    "\n",
    "    def gt(self, x: T) -> Union[T, None]:\n",
    "        \"Find the smallest element > x, or None if it doesn't exist.\"\n",
    "        for a in self.a:\n",
    "            if a[-1] > x:\n",
    "                return a[bisect_right(a, x)]\n",
    "\n",
    "    def ge(self, x: T) -> Union[T, None]:\n",
    "        \"Find the smallest element >= x, or None if it doesn't exist.\"\n",
    "        for a in self.a:\n",
    "            if a[-1] >= x:\n",
    "                return a[bisect_left(a, x)]\n",
    "    \n",
    "    def __getitem__(self, x: int) -> T:\n",
    "        \"Return the x-th element, or IndexError if it doesn't exist.\"\n",
    "        if x < 0: x += self.size\n",
    "        if x < 0: raise IndexError\n",
    "        for a in self.a:\n",
    "            if x < len(a): return a[x]\n",
    "            x -= len(a)\n",
    "        raise IndexError\n",
    "\n",
    "    def index(self, x: T) -> int:\n",
    "        \"Count the number of elements < x.\"\n",
    "        ans = 0\n",
    "        for a in self.a:\n",
    "            if a[-1] >= x:\n",
    "                return ans + bisect_left(a, x)\n",
    "            ans += len(a)\n",
    "        return ans\n",
    "\n",
    "    def index_right(self, x: T) -> int:\n",
    "        \"Count the number of elements <= x.\"\n",
    "        ans = 0\n",
    "        for a in self.a:\n",
    "            if a[-1] > x:\n",
    "                return ans + bisect_right(a, x)\n",
    "            ans += len(a)\n",
    "        return ans\n",
    "    \n",
    "ms = SortedMultiset()\n",
    "\n",
    "q = int(input())\n",
    "\n",
    "qs = [list(map(int, input().split())) for _ in range(q)]\n",
    "added = set()\n",
    "for v in qs:\n",
    "    if v[0] <= 2:\n",
    "        added.add(v[1])\n",
    "    \n",
    "to_reduce = dict()\n",
    "to_original = dict()\n",
    "for i, v in enumerate(sorted(added)):\n",
    "    to_reduce[v] = i\n",
    "    to_original[i] = v\n",
    "\n",
    "ct = dd(int)\n",
    "for query in qs:\n",
    "    tp = query[0]\n",
    "    \n",
    "    if tp == 1:\n",
    "        v = to_reduce[query[1]]\n",
    "        ct[v] += 1\n",
    "        ms.add(to_reduce[query[1]])\n",
    "    elif tp == 2:\n",
    "        v = to_reduce[query[1]]\n",
    "        m = min(query[2], ct[v])\n",
    "        for _ in range(m):\n",
    "            ms.discard(v)\n",
    "        ct[v] -= m\n",
    "    else:\n",
    "        r = to_original[ms[-1]] - to_original[ms[0]]\n",
    "        \n",
    "        print(r)"
   ]
  },
  {
   "cell_type": "markdown",
   "metadata": {},
   "source": [
    "D"
   ]
  },
  {
   "cell_type": "code",
   "execution_count": 17,
   "metadata": {},
   "outputs": [
    {
     "name": "stdout",
     "output_type": "stream",
     "text": [
      "1000000000 314 159\n",
      "495273003954006262\n"
     ]
    }
   ],
   "source": [
    "from math import gcd\n",
    "\n",
    "def get_sum(num):\n",
    "    return num * (num + 1) // 2\n",
    "\n",
    "n, a, b = map(int, input().split())\n",
    "\n",
    "t1 = get_sum(n)\n",
    "t2 = a * get_sum(n // a)\n",
    "t3 = b * get_sum(n // b)\n",
    "lcmed = a * b // gcd(a, b)\n",
    "t4 = lcmed * get_sum(n // lcmed)\n",
    "\n",
    "r = t1 - t2 - t3 + t4\n",
    "\n",
    "print(r)"
   ]
  },
  {
   "cell_type": "markdown",
   "metadata": {},
   "source": [
    "E"
   ]
  },
  {
   "cell_type": "code",
   "execution_count": 91,
   "metadata": {},
   "outputs": [
    {
     "name": "stdout",
     "output_type": "stream",
     "text": [
      "2 3 0\n",
      "9\n"
     ]
    }
   ],
   "source": [
    "mod = 998244353\n",
    "\n",
    "n, m, k = map(int, input().split())\n",
    "\n",
    "if k != 0:\n",
    "    bds = [[]] # borders\n",
    "    for num in range(1, m + 1):\n",
    "        t1 = max(0, num - k) \n",
    "        t2 = min(m, num + k - 1)\n",
    "\n",
    "        bds.append((t1, t2))\n",
    "\n",
    "    dp = [[0] * (m + 1) for _ in range(n)]\n",
    "    sdp = [[0] * (m + 1) for _ in range(n)]\n",
    "\n",
    "    for j in range(1, m + 1):\n",
    "        dp[0][j] = 1\n",
    "        sdp[0][j] = j\n",
    "\n",
    "    for i in range(1, n):\n",
    "        cumul = 0\n",
    "        for j in range(1, m + 1):\n",
    "            low = sdp[i - 1][bds[j][0]]\n",
    "            high = sdp[i - 1][-1] - sdp[i - 1][bds[j][1]]\n",
    "\n",
    "            dp[i][j] = low + high\n",
    "            dp[i][j] %= mod\n",
    "\n",
    "            cumul += dp[i][j]\n",
    "            cumul %= mod\n",
    "            sdp[i][j] = cumul\n",
    "\n",
    "    r = sdp[-1][-1]\n",
    "\n",
    "    print(r)\n",
    "else:\n",
    "    r = pow(m, n, mod)\n",
    "    \n",
    "    print(r)"
   ]
  }
 ],
 "metadata": {
  "kernelspec": {
   "display_name": "Python 3",
   "language": "python",
   "name": "python3"
  },
  "language_info": {
   "codemirror_mode": {
    "name": "ipython",
    "version": 3
   },
   "file_extension": ".py",
   "mimetype": "text/x-python",
   "name": "python",
   "nbconvert_exporter": "python",
   "pygments_lexer": "ipython3",
   "version": "3.7.4"
  }
 },
 "nbformat": 4,
 "nbformat_minor": 2
}
