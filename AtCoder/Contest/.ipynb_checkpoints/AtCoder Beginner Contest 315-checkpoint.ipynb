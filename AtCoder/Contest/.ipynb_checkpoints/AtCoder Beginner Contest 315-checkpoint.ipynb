{
 "cells": [
  {
   "cell_type": "markdown",
   "metadata": {},
   "source": [
    "### A"
   ]
  },
  {
   "cell_type": "code",
   "execution_count": 5,
   "metadata": {},
   "outputs": [
    {
     "name": "stdout",
     "output_type": "stream",
     "text": [
      "atcoder\n",
      "tcdr\n"
     ]
    }
   ],
   "source": [
    "s = input()\n",
    "\n",
    "s = s.replace('a', '')\n",
    "s = s.replace('e', '')\n",
    "s = s.replace('i', '')\n",
    "s = s.replace('o', '')\n",
    "s = s.replace('u', '')\n",
    "\n",
    "print(s)"
   ]
  },
  {
   "cell_type": "markdown",
   "metadata": {},
   "source": [
    "### B"
   ]
  },
  {
   "cell_type": "code",
   "execution_count": null,
   "metadata": {},
   "outputs": [],
   "source": [
    "0 1 2 3 4"
   ]
  },
  {
   "cell_type": "code",
   "execution_count": 14,
   "metadata": {},
   "outputs": [
    {
     "name": "stdout",
     "output_type": "stream",
     "text": [
      "6\n",
      "3 1 4 1 5 9\n",
      "5 3\n"
     ]
    }
   ],
   "source": [
    "m = int(input())\n",
    "ds = list(map(int, input().split()))\n",
    "\n",
    "months = []\n",
    "days = []\n",
    "for month in range(m):\n",
    "    for day in range(ds[month]):\n",
    "        months.append(month + 1)\n",
    "        days.append(day + 1)\n",
    "        \n",
    "mid = len(days) // 2\n",
    "\n",
    "a = months[mid]\n",
    "b = days[mid]\n",
    "\n",
    "print(a, b)"
   ]
  },
  {
   "cell_type": "markdown",
   "metadata": {},
   "source": [
    "### C"
   ]
  },
  {
   "cell_type": "code",
   "execution_count": 16,
   "metadata": {},
   "outputs": [
    {
     "name": "stdout",
     "output_type": "stream",
     "text": [
      "4\n",
      "4 10\n",
      "3 2\n",
      "2 4\n",
      "4 12\n",
      "17\n"
     ]
    }
   ],
   "source": [
    "import io, os, sys\n",
    "input = io.BytesIO(os.read(0, os.fstat(0).st_size)).readline\n",
    "\n",
    "n = int(input())\n",
    "li = [list(map(int, input().split())) for _ in range(n)]\n",
    "\n",
    "li.sort(key=lambda x: -x[1])\n",
    "\n",
    "cri_f = li[0][0]\n",
    "cri_s = li[0][1]\n",
    "\n",
    "max_sum_s = 0\n",
    "for i in range(1, n):\n",
    "    f = li[i][0]\n",
    "    s = li[i][1]\n",
    "    \n",
    "    if cri_f == f:\n",
    "        sum_s = cri_s + s // 2\n",
    "    else:\n",
    "        sum_s = cri_s + s\n",
    "        \n",
    "    max_sum_s = max(max_sum_s, sum_s)\n",
    "    \n",
    "print(max_sum_s)"
   ]
  },
  {
   "cell_type": "markdown",
   "metadata": {},
   "source": [
    "### D"
   ]
  },
  {
   "cell_type": "code",
   "execution_count": 49,
   "metadata": {},
   "outputs": [
    {
     "name": "stdout",
     "output_type": "stream",
     "text": [
      "3 3\n",
      "aaa\n",
      "aaa\n",
      "aaa\n",
      "0\n"
     ]
    }
   ],
   "source": [
    "from collections import Counter\n",
    "\n",
    "h, w = map(int, input().split())\n",
    "li = [input() for _ in range(h)]\n",
    "\n",
    "hs = []\n",
    "for i in range(h):\n",
    "    hs.append(Counter(li[i]))\n",
    "    \n",
    "ws = []\n",
    "for j in range(w):\n",
    "    ct = Counter()\n",
    "    for i in range(h):\n",
    "        ct[li[i][j]] += 1\n",
    "        \n",
    "    ws.append(ct)\n",
    "    \n",
    "saved_hs = set(range(h))\n",
    "saved_ws = set(range(w))\n",
    "while True:\n",
    "    is_changed = False\n",
    "    \n",
    "    w_to_dels = Counter()\n",
    "    temp_h = []\n",
    "    for i in saved_hs:\n",
    "        if len(hs[i]) == 1:\n",
    "            only_key = list(hs[i].keys())[0]   \n",
    "            if hs[i][only_key] >= 2:\n",
    "                is_changed = True\n",
    "                w_to_dels[only_key] += 1\n",
    "                temp_h.append(i)\n",
    "                \n",
    "    h_to_dels = Counter()\n",
    "    temp_w = []\n",
    "    for j in saved_ws:\n",
    "        if len(ws[j]) == 1:\n",
    "            only_key = list(ws[j].keys())[0]   \n",
    "            if ws[j][only_key] >= 2:\n",
    "                is_changed = True\n",
    "                h_to_dels[only_key] += 1\n",
    "                temp_w.append(j)\n",
    "            \n",
    "    for i in temp_h:\n",
    "        hs[i] = Counter()\n",
    "        saved_hs.discard(i)\n",
    "        \n",
    "    if w_to_dels:    \n",
    "        temp = []\n",
    "        for j in saved_ws:\n",
    "            for key in w_to_dels:\n",
    "                ws[j][key] -= w_to_dels[key]\n",
    "                if ws[j][key] == 0:\n",
    "                    del ws[j][key]\n",
    "\n",
    "                    if len(ws[j]) == 0:\n",
    "                        temp.append(j)\n",
    "\n",
    "        for j in temp:\n",
    "            ws[j] = Counter()\n",
    "            saved_ws.discard(j)\n",
    "            \n",
    "            \n",
    "    for j in temp_w:\n",
    "        ws[j] = Counter()\n",
    "        saved_ws.discard(j)\n",
    "        \n",
    "    if h_to_dels:    \n",
    "        temp = []\n",
    "        for i in saved_hs:\n",
    "            for key in h_to_dels:\n",
    "                hs[i][key] -= h_to_dels[key]\n",
    "                if hs[i][key] == 0:\n",
    "                    del hs[i][key]\n",
    "\n",
    "                    if len(hs[i]) == 0:\n",
    "                        temp.append(i)\n",
    "\n",
    "        for i in temp:\n",
    "            hs[i] = Counter()\n",
    "            saved_hs.discard(i)    \n",
    "\n",
    "    if not is_changed:\n",
    "        break\n",
    "        \n",
    "r = 0\n",
    "for i in saved_hs:\n",
    "    for key in hs[i]:\n",
    "        r += hs[i][key]\n",
    "        \n",
    "print(r)"
   ]
  },
  {
   "cell_type": "markdown",
   "metadata": {},
   "source": [
    "### E"
   ]
  },
  {
   "cell_type": "code",
   "execution_count": 62,
   "metadata": {},
   "outputs": [
    {
     "name": "stdout",
     "output_type": "stream",
     "text": [
      "8\n",
      "1 5\n",
      "1 6\n",
      "1 7\n",
      "1 8\n",
      "0\n",
      "0\n",
      "0\n",
      "0\n",
      "5\n"
     ]
    }
   ],
   "source": [
    "from collections import deque\n",
    "from heapq import heappush, heappop\n",
    "import io, os, sys\n",
    "input = io.BytesIO(os.read(0, os.fstat(0).st_size)).readline\n",
    "\n",
    "n = int(input())\n",
    "posts = [[] for _ in range(n)]\n",
    "pres = [[] for _ in range(n)]\n",
    "indegree = [0] * n\n",
    "for i in range(n):\n",
    "    c, *ps = map(int, input().split())\n",
    "    \n",
    "    indegree[i] = c\n",
    "    for pre in ps:\n",
    "        pre -= 1\n",
    "        \n",
    "        pres[i].append(pre)\n",
    "        posts[pre].append(i)\n",
    "        \n",
    "queue = deque()\n",
    "for i in range(n):\n",
    "    if indegree[i] == 0:\n",
    "        queue.append(i)\n",
    "        \n",
    "waits = [0] * n\n",
    "seqs = [[] for _ in range(n)]\n",
    "while queue:\n",
    "    value = queue.popleft()\n",
    "    \n",
    "    for v in posts[value]:\n",
    "        waits[v] = max(waits[v], waits[value] + 1)\n",
    "        \n",
    "        indegree[v] -= 1\n",
    "        if indegree[v] == 0:\n",
    "            queue.append(v)\n",
    "            \n",
    "heap = [(waits[0], 0)]\n",
    "vt = set()\n",
    "result = []\n",
    "while heap:\n",
    "    wait, value = heappop(heap)\n",
    "    result.append(value + 1)\n",
    "    \n",
    "    for pre in pres[value]:\n",
    "        if pre not in vt:\n",
    "            vt.add(pre)\n",
    "            heappush(heap, (-waits[pre], pre))\n",
    "        \n",
    "result = result[::-1]\n",
    "result.pop()\n",
    "\n",
    "print(*result)"
   ]
  },
  {
   "cell_type": "markdown",
   "metadata": {},
   "source": [
    "### F"
   ]
  },
  {
   "cell_type": "code",
   "execution_count": 71,
   "metadata": {},
   "outputs": [
    {
     "name": "stdout",
     "output_type": "stream",
     "text": [
      "6\n",
      "0 0\n",
      "1 1\n",
      "2 0\n",
      "0 1\n",
      "1 0\n",
      "2 1\n",
      "5.82842712474619\n"
     ]
    }
   ],
   "source": [
    "from heapq import heappush, heappop\n",
    "import io, os, sys\n",
    "input = io.BytesIO(os.read(0, os.fstat(0).st_size)).readline\n",
    "\n",
    "def get_dist(a, b):\n",
    "    ax, ay = li[a]\n",
    "    bx, by = li[b]\n",
    "    \n",
    "    return ((ax - bx) ** 2 + (ay - by) ** 2) ** 0.5\n",
    "\n",
    "inf = float('inf')\n",
    "\n",
    "n = int(input())\n",
    "li = [list(map(int, input().split())) for _ in range(n)]\n",
    "\n",
    "dists = [[inf] * 30 for _ in range(n)]\n",
    "dists[0][0] = 0\n",
    "\n",
    "heap = []\n",
    "heappush(heap, (0, 0, 0)) # dist, skip_c, value\n",
    "\n",
    "while heap:\n",
    "    dist, skip_c, value = heappop(heap)\n",
    "    \n",
    "    if dist > dists[value][skip_c]:\n",
    "        continue\n",
    "        \n",
    "    c = 0\n",
    "    for v in range(value + 1, n):\n",
    "        n_skip_c = skip_c + c\n",
    "        c += 1\n",
    "        if n_skip_c >= 30:\n",
    "            break\n",
    "        \n",
    "        ndist = dist + get_dist(value, v)\n",
    "        if ndist < dists[v][n_skip_c]:\n",
    "            dists[v][n_skip_c] = ndist\n",
    "            heappush(heap, (ndist, n_skip_c, v))\n",
    "            \n",
    "min_s = inf\n",
    "for skip_c in range(0, 30):\n",
    "    if skip_c == 0:\n",
    "        s = dists[n - 1][skip_c]\n",
    "    else:\n",
    "        s = dists[n - 1][skip_c] + 2 ** (skip_c - 1)\n",
    "        \n",
    "    min_s = min(min_s, s)\n",
    "    \n",
    "print(min_s)"
   ]
  }
 ],
 "metadata": {
  "kernelspec": {
   "display_name": "Python 3",
   "language": "python",
   "name": "python3"
  },
  "language_info": {
   "codemirror_mode": {
    "name": "ipython",
    "version": 3
   },
   "file_extension": ".py",
   "mimetype": "text/x-python",
   "name": "python",
   "nbconvert_exporter": "python",
   "pygments_lexer": "ipython3",
   "version": "3.8.3"
  }
 },
 "nbformat": 4,
 "nbformat_minor": 4
}
