{
 "cells": [
  {
   "cell_type": "markdown",
   "metadata": {},
   "source": [
    "A"
   ]
  },
  {
   "cell_type": "code",
   "execution_count": 33,
   "metadata": {},
   "outputs": [
    {
     "name": "stdout",
     "output_type": "stream",
     "text": [
      "1\n",
      "1 1 1\n",
      "0\n"
     ]
    }
   ],
   "source": [
    "import io, os, sys\n",
    "# input = io.BytesIO(os.read(0, os.fstat(0).st_size)).readline\n",
    "\n",
    "for _ in range(int(input())):\n",
    "    li = list(map(int, input().split()))\n",
    "    max_v = max(li)\n",
    "\n",
    "    rems = []\n",
    "    for v in li:\n",
    "        rems.append(max_v - v)\n",
    "\n",
    "    rems.sort()\n",
    "    if rems[1] % 2 == 1 or rems[2] % 2 == 1:\n",
    "        print(-1)\n",
    "    elif sum(rems) % 6 != 0:\n",
    "        print(-1)\n",
    "    else:\n",
    "        result = 0\n",
    "\n",
    "        diff = rems[2] - rems[1]\n",
    "\n",
    "        to_use = min(rems[1] // 2, diff // 2)\n",
    "        result += to_use\n",
    "        rems[1] -= to_use * 2\n",
    "        rems[2] -= to_use * 4\n",
    "\n",
    "        if rems[1] == rems[2]:\n",
    "            result += (rems[1] // 6) * 2\n",
    "        else:\n",
    "            result += (rems[2] // 6) * 2\n",
    "\n",
    "        print(result)"
   ]
  },
  {
   "cell_type": "markdown",
   "metadata": {},
   "source": [
    "B"
   ]
  },
  {
   "cell_type": "code",
   "execution_count": null,
   "metadata": {},
   "outputs": [],
   "source": [
    "3 3 -3"
   ]
  },
  {
   "cell_type": "code",
   "execution_count": 34,
   "metadata": {},
   "outputs": [
    {
     "data": {
      "text/plain": [
       "-0.1111111111111111"
      ]
     },
     "execution_count": 34,
     "metadata": {},
     "output_type": "execute_result"
    }
   ],
   "source": [
    "(3+3-3)/(-27)"
   ]
  },
  {
   "cell_type": "code",
   "execution_count": 116,
   "metadata": {},
   "outputs": [
    {
     "data": {
      "text/plain": [
       "-0.12475"
      ]
     },
     "execution_count": 116,
     "metadata": {},
     "output_type": "execute_result"
    }
   ],
   "source": [
    "a, b, c = 1000, 2, -4\n",
    "\n",
    "(a+b+c)/(a*b*c)"
   ]
  },
  {
   "cell_type": "code",
   "execution_count": 123,
   "metadata": {},
   "outputs": [
    {
     "name": "stdout",
     "output_type": "stream",
     "text": [
      "10\n",
      "-1 -2 -3 -4 -5 1 2 3 4 5\n",
      "-1.0\n",
      "1.0\n"
     ]
    }
   ],
   "source": [
    "from itertools import combinations as comb\n",
    "\n",
    "inf = float('inf')\n",
    "\n",
    "def get_v(a, b, c):\n",
    "    return (a + b + c) / (a * b * c)\n",
    "\n",
    "n = int(input())\n",
    "li = list(map(int, input().split()))\n",
    "\n",
    "ms = []\n",
    "ps = []\n",
    "for v in li:\n",
    "    if v < 0:\n",
    "        ms.append(v)\n",
    "    else:\n",
    "        ps.append(v)\n",
    "        \n",
    "ms.sort()\n",
    "ps.sort()\n",
    "\n",
    "to_uses = []\n",
    "\n",
    "if len(ms) <= 6:\n",
    "    to_uses.extend(ms)\n",
    "else:\n",
    "    to_uses.extend(ms[:3])\n",
    "    to_uses.extend(ms[-3:])\n",
    "    \n",
    "if len(ps) <= 6:\n",
    "    to_uses.extend(ps)\n",
    "else:\n",
    "    to_uses.extend(ps[:3])\n",
    "    to_uses.extend(ps[-3:])\n",
    "    \n",
    "max_r = -inf\n",
    "min_r = inf\n",
    "for cases in comb(to_uses, 3):\n",
    "    temp_r = get_v(*cases)\n",
    "    \n",
    "    max_r = max(max_r, temp_r)\n",
    "    min_r = min(min_r, temp_r)\n",
    "    \n",
    "print(min_r)\n",
    "print(max_r)"
   ]
  }
 ],
 "metadata": {
  "kernelspec": {
   "display_name": "Python 3",
   "language": "python",
   "name": "python3"
  },
  "language_info": {
   "codemirror_mode": {
    "name": "ipython",
    "version": 3
   },
   "file_extension": ".py",
   "mimetype": "text/x-python",
   "name": "python",
   "nbconvert_exporter": "python",
   "pygments_lexer": "ipython3",
   "version": "3.8.3"
  }
 },
 "nbformat": 4,
 "nbformat_minor": 4
}
