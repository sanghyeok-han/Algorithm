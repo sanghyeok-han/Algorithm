{
 "cells": [
  {
   "cell_type": "markdown",
   "metadata": {},
   "source": [
    "### A"
   ]
  },
  {
   "cell_type": "code",
   "execution_count": 4,
   "metadata": {},
   "outputs": [
    {
     "name": "stdout",
     "output_type": "stream",
     "text": [
      "86411\n",
      "No\n"
     ]
    }
   ],
   "source": [
    "li = list(map(int, input()))\n",
    "\n",
    "ip = True\n",
    "for i in range(len(li) - 1):\n",
    "    if li[i] <= li[i + 1]:\n",
    "        ip = False\n",
    "        break\n",
    "        \n",
    "if ip:\n",
    "    print('Yes')\n",
    "else:\n",
    "    print('No')"
   ]
  },
  {
   "cell_type": "markdown",
   "metadata": {},
   "source": [
    "### B"
   ]
  },
  {
   "cell_type": "code",
   "execution_count": 8,
   "metadata": {},
   "outputs": [
    {
     "name": "stdout",
     "output_type": "stream",
     "text": [
      "10 480\n",
      "59 98 88 54 70 24 8 94 46\n",
      "45\n"
     ]
    }
   ],
   "source": [
    "n, x = map(int, input().split())\n",
    "li = list(map(int, input().split()))\n",
    "\n",
    "result = -1\n",
    "for sc in range(101):\n",
    "    nli = li + [sc]\n",
    "    \n",
    "    nli.sort()\n",
    "    \n",
    "    total_sc = sum(nli[1:-1])\n",
    "    \n",
    "    if total_sc >= x:\n",
    "        result = sc\n",
    "        break\n",
    "        \n",
    "print(result)"
   ]
  },
  {
   "cell_type": "markdown",
   "metadata": {},
   "source": [
    "### C"
   ]
  },
  {
   "cell_type": "code",
   "execution_count": 11,
   "metadata": {},
   "outputs": [
    {
     "name": "stdout",
     "output_type": "stream",
     "text": [
      "777\n",
      "983210\n"
     ]
    }
   ],
   "source": [
    "cases = []\n",
    "\n",
    "def recur(s):\n",
    "    cases.append(int(s))\n",
    "    for i in range(0, int(s[-1])):\n",
    "        recur(s + str(i))\n",
    "    \n",
    "for i in range(0, 10):\n",
    "    recur(str(i))\n",
    "    \n",
    "cases.sort()\n",
    "    \n",
    "n = int(input())\n",
    "if n >= len(cases):\n",
    "    print(-1)\n",
    "else:\n",
    "    print(cases[n])"
   ]
  },
  {
   "cell_type": "markdown",
   "metadata": {},
   "source": [
    "### D"
   ]
  },
  {
   "cell_type": "code",
   "execution_count": 15,
   "metadata": {},
   "outputs": [
    {
     "name": "stdout",
     "output_type": "stream",
     "text": [
      "7 12 25514963\n",
      "2436426 24979445 61648772 23690081 33933447 76190629 62703497\n",
      "11047202 71407775 28894325 31963982 22804784 50968417 30302156 82631932 61735902 80895728 23078537 7723857\n",
      "2115597124\n"
     ]
    }
   ],
   "source": [
    "n, m, p = map(int, input().split())\n",
    "A = list(map(int, input().split()))\n",
    "B = sorted(map(int, input().split()))\n",
    "\n",
    "pre_B = [0] * m\n",
    "cumul = 0\n",
    "for i in range(m):\n",
    "    cumul += B[i]\n",
    "    pre_B[i] = cumul\n",
    "    \n",
    "total_result = 0\n",
    "for a in A:\n",
    "    start = 0\n",
    "    end = m - 1\n",
    "    result = -1\n",
    "    while start <= end:\n",
    "        mid = (start + end) // 2\n",
    "        \n",
    "        if a + B[mid] < p:\n",
    "            result = mid\n",
    "            start = mid + 1\n",
    "        else:\n",
    "            end = mid - 1\n",
    "    \n",
    "    if result == -1:\n",
    "        total_result += p * m\n",
    "    else:\n",
    "        t1 = pre_B[result] + a * (result + 1)\n",
    "        t2 = p * (m - (result + 1))\n",
    "        \n",
    "        total_result += t1 + t2\n",
    "        \n",
    "print(total_result)"
   ]
  },
  {
   "cell_type": "markdown",
   "metadata": {},
   "source": [
    "### E"
   ]
  },
  {
   "cell_type": "code",
   "execution_count": 35,
   "metadata": {},
   "outputs": [
    {
     "name": "stdout",
     "output_type": "stream",
     "text": [
      "9\n",
      "4\n"
     ]
    }
   ],
   "source": [
    "from math import log2\n",
    "from bisect import bisect_left\n",
    "\n",
    "twos = [0] * 61\n",
    "for i in range(61):\n",
    "    twos[i] = 2 ** i\n",
    "\n",
    "n = int(input())\n",
    "# n, x, k = map(int, input().split())\n",
    "\n",
    "max_nth = bisect_left(twos, n)\n",
    "x_nth = bisect_left(twos, x)\n",
    "\n",
    "max_estimated = twos[max_nth]\n",
    "\n",
    "total = 0\n",
    "if x_nth + k <= max_nth:\n",
    "    # down\n",
    "    init = x\n",
    "    \n",
    "    left = init * twos[k]\n",
    "    right = (init + 2) * twos(k - 1) - 1\n",
    "    right = min(n, right)\n",
    "    \n",
    "    if left <= right:\n",
    "        total += right - left + 1\n",
    "        \n",
    "    # up\n",
    "    highest = x - k\n",
    "    lowest = x + k - 2\n",
    "    \n",
    "    start = 0\n",
    "    if highest < 0:\n",
    "        diff = -highest\n",
    "        \n",
    "        start = twos[(diff - 1)]\n",
    "        \n",
    "    end = twos[lowest]\n",
    "    \n",
    "    if end  max_estimated"
   ]
  },
  {
   "cell_type": "code",
   "execution_count": null,
   "metadata": {},
   "outputs": [],
   "source": [
    "2 ** "
   ]
  },
  {
   "cell_type": "code",
   "execution_count": 51,
   "metadata": {},
   "outputs": [
    {
     "data": {
      "text/plain": [
       "11"
      ]
     },
     "execution_count": 51,
     "metadata": {},
     "output_type": "execute_result"
    }
   ],
   "source": [
    "i = 3\n",
    "c1 = 1\n",
    "\n",
    "(init + 2) * 2 ** (i - 1) - 1"
   ]
  },
  {
   "cell_type": "markdown",
   "metadata": {},
   "source": [
    "### F"
   ]
  },
  {
   "cell_type": "code",
   "execution_count": null,
   "metadata": {},
   "outputs": [],
   "source": [
    "2 2 2 3 3 4 4 5\n",
    "\n",
    "\n",
    "1 2 3 4 5 6 \n",
    "0 3 2 2 1 0"
   ]
  },
  {
   "cell_type": "code",
   "execution_count": null,
   "metadata": {},
   "outputs": [],
   "source": [
    "[1, -inf, -inf, -inf, -inf, -inf, -inf]\n",
    "\n",
    "+2 [1, -inf, 1, -inf, -inf, -inf, -inf]\n",
    "\n",
    "+3 [1, -inf, 1, 1, -inf, 1, -inf]\n",
    "\n",
    "+2 [1, -inf, 1, 1, 1, 2, -inf]"
   ]
  },
  {
   "cell_type": "code",
   "execution_count": null,
   "metadata": {},
   "outputs": [],
   "source": [
    "import sys\n",
    "input = lambda: sys.stdin.readline().rstrip()\n",
    "\n",
    "mod = 998244353\n",
    "\n",
    "dp = [0] * 5001\n",
    "dp[0] = 1\n",
    "\n",
    "q, k = map(int, input().split())\n",
    "for _ in range(q):\n",
    "    tp, num = input().split()\n",
    "    num = int(num)\n",
    "    \n",
    "    if tp == '+':\n",
    "        for i in range(5000, num - 1, -1):\n",
    "            dp[i] += dp[i - num]\n",
    "            dp[i] %= mod\n",
    "    else:\n",
    "        for i in range(num, 5001):\n",
    "            dp[i] -= dp[i - num]\n",
    "            dp[i] %= mod\n",
    "            \n",
    "    print(dp[k] % mod)"
   ]
  }
 ],
 "metadata": {
  "kernelspec": {
   "display_name": "Python 3",
   "language": "python",
   "name": "python3"
  },
  "language_info": {
   "codemirror_mode": {
    "name": "ipython",
    "version": 3
   },
   "file_extension": ".py",
   "mimetype": "text/x-python",
   "name": "python",
   "nbconvert_exporter": "python",
   "pygments_lexer": "ipython3",
   "version": "3.8.3"
  }
 },
 "nbformat": 4,
 "nbformat_minor": 4
}
