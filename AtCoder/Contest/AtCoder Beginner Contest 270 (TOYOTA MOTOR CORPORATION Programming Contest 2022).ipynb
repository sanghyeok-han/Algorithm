{
 "cells": [
  {
   "cell_type": "markdown",
   "metadata": {},
   "source": [
    "A"
   ]
  },
  {
   "cell_type": "code",
   "execution_count": 3,
   "metadata": {},
   "outputs": [
    {
     "name": "stdout",
     "output_type": "stream",
     "text": [
      "0 0\n",
      "0\n"
     ]
    }
   ],
   "source": [
    "a, b = map(int, input().split())\n",
    "\n",
    "r = a | b\n",
    "\n",
    "print(r)"
   ]
  },
  {
   "cell_type": "markdown",
   "metadata": {},
   "source": [
    "B"
   ]
  },
  {
   "cell_type": "code",
   "execution_count": 6,
   "metadata": {},
   "outputs": [
    {
     "name": "stdout",
     "output_type": "stream",
     "text": [
      "100 1 1000\n",
      "-1\n"
     ]
    }
   ],
   "source": [
    "x, y, z = map(int, input().split())\n",
    "\n",
    "if 0 < x < y or y < x < 0 or y < 0 < x or x < 0 < y:\n",
    "    r = abs(x)\n",
    "else:\n",
    "    if 0 < y < z or z < y < 0:\n",
    "        r = -1\n",
    "    else:\n",
    "        r = abs(z) + abs(y - z) + abs(x - y)\n",
    "        \n",
    "print(r)"
   ]
  },
  {
   "cell_type": "markdown",
   "metadata": {},
   "source": [
    "C"
   ]
  },
  {
   "cell_type": "code",
   "execution_count": 10,
   "metadata": {},
   "outputs": [
    {
     "name": "stdout",
     "output_type": "stream",
     "text": [
      "5 2 5\n",
      "1 2\n",
      "1 3\n",
      "3 4\n",
      "3 5\n",
      "2 1 3 5\n"
     ]
    }
   ],
   "source": [
    "import sys\n",
    "input = lambda: sys.stdin.readline().rstrip()\n",
    "\n",
    "## PYRIVAL BOOTSTRAP\n",
    "# https://github.com/cheran-senthil/PyRival/blob/master/pyrival/misc/bootstrap.py\n",
    "# This decorator allows for recursion without actually doing recursion\n",
    "## @bootstrap, yield when getting and returning value in recursive functions, end of functions\n",
    "from types import GeneratorType\n",
    "\n",
    "def bootstrap(f, stack=[]):\n",
    "    def wrappedfunc(*args, **kwargs):\n",
    "        if stack:\n",
    "            return f(*args, **kwargs)\n",
    "        else:\n",
    "            to = f(*args, **kwargs)\n",
    "            while True:\n",
    "                if type(to) is GeneratorType:\n",
    "                    stack.append(to)\n",
    "                    to = next(to)\n",
    "                else:\n",
    "                    stack.pop()\n",
    "                    if not stack:\n",
    "                        break\n",
    "                    to = stack[-1].send(to)\n",
    "            return to\n",
    "    return wrappedfunc\n",
    "\n",
    "@bootstrap\n",
    "def dfs(value):\n",
    "    global result\n",
    "    \n",
    "    vt[value] = True\n",
    "    route.append(value)\n",
    "    \n",
    "    if value == y:\n",
    "        result = route.copy()\n",
    "        \n",
    "    for v in li[value]:\n",
    "        if not vt[v]:\n",
    "            yield dfs(v)\n",
    "            \n",
    "    route.pop()\n",
    "    \n",
    "    yield\n",
    "        \n",
    "\n",
    "n, x, y = map(int, input().split())\n",
    "\n",
    "li = [[] for _ in range(n + 1)]\n",
    "for _ in range(n - 1):\n",
    "    u, v = map(int, input().split())\n",
    "    \n",
    "    li[u].append(v)\n",
    "    li[v].append(u)\n",
    "    \n",
    "vt = [False] * (n + 1)\n",
    "route = []\n",
    "result = []\n",
    "dfs(x)\n",
    "\n",
    "print(*result)"
   ]
  },
  {
   "cell_type": "markdown",
   "metadata": {},
   "source": [
    "D"
   ]
  },
  {
   "cell_type": "code",
   "execution_count": 14,
   "metadata": {},
   "outputs": [
    {
     "name": "stdout",
     "output_type": "stream",
     "text": [
      "10000 10\n",
      "1 2 4 8 16 32 64 128 256 512\n",
      "5136\n"
     ]
    }
   ],
   "source": [
    "# 접근 방식이 잘못되었음\n",
    "n, k = map(int, input().split())\n",
    "li = sorted(map(int, input().split()))\n",
    "\n",
    "cur_i = k - 1\n",
    "r = 0\n",
    "while True:\n",
    "    while cur_i >= 0 and li[cur_i] > n:\n",
    "        cur_i -= 1\n",
    "    if cur_i == -1:\n",
    "        break\n",
    "    \n",
    "    r += li[cur_i]\n",
    "    n -= li[cur_i]\n",
    "    \n",
    "    while cur_i >= 0 and li[cur_i] > n:\n",
    "        cur_i -= 1\n",
    "    if cur_i == -1:\n",
    "        break\n",
    "        \n",
    "    n -= li[cur_i]\n",
    "        \n",
    "print(r)"
   ]
  },
  {
   "cell_type": "code",
   "execution_count": 18,
   "metadata": {},
   "outputs": [
    {
     "name": "stdout",
     "output_type": "stream",
     "text": [
      "10000 10\n",
      "1 2 4 8 16 32 64 128 256 512\n",
      "5136\n"
     ]
    }
   ],
   "source": [
    "n, k = map(int, input().split())\n",
    "li = sorted(map(int, input().split()))\n",
    "\n",
    "dp_f = [0] * (n + 1)\n",
    "dp_o = [0] * (n + 1)\n",
    "\n",
    "for num in range(1, n + 1):\n",
    "    max_f = -1\n",
    "    max_f_o = -1\n",
    "    for i in range(k):\n",
    "        f_num = num - li[i]\n",
    "        if f_num < 0:\n",
    "            break\n",
    "        \n",
    "        temp = dp_o[f_num] + li[i]\n",
    "        if temp > max_f:\n",
    "            max_f = temp\n",
    "            max_f_o = dp_f[f_num]\n",
    "            \n",
    "    dp_f[num] = max_f\n",
    "    dp_o[num] = max_f_o\n",
    "    \n",
    "print(dp_f[n])"
   ]
  },
  {
   "cell_type": "markdown",
   "metadata": {},
   "source": [
    "E"
   ]
  },
  {
   "cell_type": "code",
   "execution_count": 38,
   "metadata": {},
   "outputs": [
    {
     "name": "stdout",
     "output_type": "stream",
     "text": [
      "2 1000000000000\n",
      "1000000000000 1000000000000\n",
      "500000000000 500000000000\n"
     ]
    }
   ],
   "source": [
    "from collections import deque\n",
    "\n",
    "n, k = map(int, input().split())\n",
    "li = list(map(int, input().split()))\n",
    "\n",
    "start = 0\n",
    "end = k\n",
    "max_eaten = 0\n",
    "max_eaten_mid = 0\n",
    "n_start = 0\n",
    "while start <= end:\n",
    "    mid = (start + end) // 2\n",
    "        \n",
    "    ate = 0\n",
    "    for i in range(n):\n",
    "        ate += min(mid, li[i])\n",
    "            \n",
    "    if ate > k:\n",
    "        end = mid - 1\n",
    "    else:\n",
    "        max_eaten = ate\n",
    "        max_eaten_mid = mid\n",
    "        start = mid + 1\n",
    "\n",
    "deq = deque()\n",
    "for i in range(n):\n",
    "    ate = min(max_eaten_mid, li[i])\n",
    "    li[i] -= ate\n",
    "    \n",
    "    if li[i] >= 1:\n",
    "        deq.append(i)\n",
    "        \n",
    "k -= max_eaten\n",
    "while k:\n",
    "    index = deq.popleft()\n",
    "    k -= 1\n",
    "    li[index] -= 1\n",
    "    \n",
    "    if li[index] >= 1:\n",
    "        deq.append(index)\n",
    "        \n",
    "print(*li)"
   ]
  },
  {
   "cell_type": "markdown",
   "metadata": {},
   "source": [
    "F"
   ]
  },
  {
   "cell_type": "code",
   "execution_count": 46,
   "metadata": {},
   "outputs": [
    {
     "name": "stdout",
     "output_type": "stream",
     "text": [
      "16 31 16 inf\n"
     ]
    }
   ],
   "source": [
    "import sys\n",
    "input = lambda: sys.stdin.readline().rstrip()\n",
    "\n",
    "inf = float('inf')\n",
    "\n",
    "## PYRIVAL BOOTSTRAP\n",
    "# https://github.com/cheran-senthil/PyRival/blob/master/pyrival/misc/bootstrap.py\n",
    "# This decorator allows for recursion without actually doing recursion\n",
    "## @bootstrap, yield when getting and returning value in recursive functions, end of functions\n",
    "from types import GeneratorType\n",
    "\n",
    "def bootstrap(f, stack=[]):\n",
    "    def wrappedfunc(*args, **kwargs):\n",
    "        if stack:\n",
    "            return f(*args, **kwargs)\n",
    "        else:\n",
    "            to = f(*args, **kwargs)\n",
    "            while True:\n",
    "                if type(to) is GeneratorType:\n",
    "                    stack.append(to)\n",
    "                    to = next(to)\n",
    "                else:\n",
    "                    stack.pop()\n",
    "                    if not stack:\n",
    "                        break\n",
    "                    to = stack[-1].send(to)\n",
    "            return to\n",
    "    return wrappedfunc\n",
    "\n",
    "@bootstrap\n",
    "def find(v):\n",
    "    if v != parent[v]:\n",
    "        parent[v] = yield find(parent[v])\n",
    "        \n",
    "    yield parent[v]\n",
    "\n",
    "def union(a, b):\n",
    "    if a > b:\n",
    "        a, b = b, a\n",
    "        \n",
    "    parent[b] = a\n",
    "\n",
    "inf = float('inf')\n",
    "\n",
    "n, m = map(int, input().split())\n",
    "xs = list(map(int, input().split()))\n",
    "ys = list(map(int, input().split()))\n",
    "\n",
    "o_edges = []\n",
    "for _ in range(m):\n",
    "    a, b, z = map(int, input().split())\n",
    "    a -= 1\n",
    "    b -= 1\n",
    "    o_edges.append((a, b, z))\n",
    "    \n",
    "r1 = 0\n",
    "edges = o_edges.copy()\n",
    "    \n",
    "min_x = inf\n",
    "min_x_index = -1\n",
    "min_y = inf\n",
    "min_y_index = -1\n",
    "for i in range(n):\n",
    "    if xs[i] < min_x:\n",
    "        min_x = xs[i]\n",
    "        min_x_index = i\n",
    "        \n",
    "    if ys[i] < min_y:\n",
    "        min_y = ys[i]\n",
    "        min_y_index = i\n",
    "r1 += min_x + min_y\n",
    "        \n",
    "for i in range(n):\n",
    "    cost_x = xs[i]\n",
    "    edges.append((min_x_index, i, cost_x))\n",
    "    \n",
    "    cost_y = ys[i]\n",
    "    edges.append((min_y_index, i, cost_y))\n",
    "    \n",
    "edges.sort(key=lambda x: x[2])\n",
    "parent = list(range(n))\n",
    "for a, b, c in edges:\n",
    "    ra = find(a)\n",
    "    rb = find(b)\n",
    "    \n",
    "    if ra != rb:\n",
    "        r1 += c\n",
    "        union(ra, rb) \n",
    "\n",
    "r2 = min_x\n",
    "edges = o_edges.copy()\n",
    "\n",
    "for i in range(n):\n",
    "    cost_x = xs[i]\n",
    "    edges.append((min_x_index, i, cost_x))\n",
    "    \n",
    "edges.sort(key=lambda x: x[2])\n",
    "parent = list(range(n))\n",
    "for a, b, c in edges:\n",
    "    ra = find(a)\n",
    "    rb = find(b)\n",
    "    \n",
    "    if ra != rb:\n",
    "        r2 += c\n",
    "        union(ra, rb)\n",
    "\n",
    "r3 = min_y\n",
    "edges = o_edges.copy()\n",
    "\n",
    "for i in range(n):\n",
    "    cost_y = ys[i]\n",
    "    edges.append((min_y_index, i, cost_y))\n",
    "    \n",
    "edges.sort(key=lambda x: x[2])\n",
    "parent = list(range(n))\n",
    "for a, b, c in edges:\n",
    "    ra = find(a)\n",
    "    rb = find(b)\n",
    "    \n",
    "    if ra != rb:\n",
    "        r3 += c\n",
    "        union(ra, rb)  \n",
    "        \n",
    "r4 = 0\n",
    "o_edges.sort(key=lambda x: x[2])\n",
    "parent = list(range(n))\n",
    "for a, b, c in o_edges:\n",
    "    ra = find(a)\n",
    "    rb = find(b)\n",
    "    \n",
    "    if ra != rb:\n",
    "        r4 += c\n",
    "        union(ra, rb)\n",
    "        \n",
    "for v in parent:\n",
    "    find(v)\n",
    "if len(set(parent)) != 1:\n",
    "    r4 = inf\n",
    "\n",
    "r = min(r1, r2, r3, r4)\n",
    "\n",
    "print(r)"
   ]
  },
  {
   "cell_type": "code",
   "execution_count": 45,
   "metadata": {},
   "outputs": [
    {
     "data": {
      "text/plain": [
       "[(0, 2, 5), (0, 3, 6)]"
      ]
     },
     "execution_count": 45,
     "metadata": {},
     "output_type": "execute_result"
    }
   ],
   "source": [
    "o_edges"
   ]
  },
  {
   "cell_type": "code",
   "execution_count": null,
   "metadata": {},
   "outputs": [],
   "source": [
    "도로\n",
    "\n",
    "도로 항구\n",
    "\n",
    "도로 공항\n",
    "\n",
    "도로 항구 공항"
   ]
  }
 ],
 "metadata": {
  "kernelspec": {
   "display_name": "Python 3",
   "language": "python",
   "name": "python3"
  },
  "language_info": {
   "codemirror_mode": {
    "name": "ipython",
    "version": 3
   },
   "file_extension": ".py",
   "mimetype": "text/x-python",
   "name": "python",
   "nbconvert_exporter": "python",
   "pygments_lexer": "ipython3",
   "version": "3.7.4"
  }
 },
 "nbformat": 4,
 "nbformat_minor": 2
}
