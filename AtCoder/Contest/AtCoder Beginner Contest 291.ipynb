{
 "cells": [
  {
   "cell_type": "markdown",
   "metadata": {},
   "source": [
    "A"
   ]
  },
  {
   "cell_type": "code",
   "execution_count": 2,
   "metadata": {},
   "outputs": [
    {
     "name": "stdout",
     "output_type": "stream",
     "text": [
      "Zz\n",
      "1\n"
     ]
    }
   ],
   "source": [
    "s = input()\n",
    "\n",
    "r = 0\n",
    "for i in range(len(s)):\n",
    "    if s[i].isupper():\n",
    "        r = i + 1\n",
    "        break\n",
    "        \n",
    "print(r)"
   ]
  },
  {
   "cell_type": "markdown",
   "metadata": {},
   "source": [
    "B"
   ]
  },
  {
   "cell_type": "code",
   "execution_count": 4,
   "metadata": {},
   "outputs": [
    {
     "name": "stdout",
     "output_type": "stream",
     "text": [
      "2\n",
      "3 3 3 4 5 6 7 8 99 100\n",
      "5.5\n"
     ]
    }
   ],
   "source": [
    "from collections import deque\n",
    "\n",
    "n = int(input())\n",
    "deq = deque(sorted(map(int, input().split())))\n",
    "\n",
    "for _ in range(n):\n",
    "    deq.popleft()\n",
    "    deq.pop()\n",
    "    \n",
    "r = sum(deq) / len(deq)\n",
    "\n",
    "print(r)"
   ]
  },
  {
   "cell_type": "markdown",
   "metadata": {},
   "source": [
    "C"
   ]
  },
  {
   "cell_type": "code",
   "execution_count": 6,
   "metadata": {},
   "outputs": [
    {
     "name": "stdout",
     "output_type": "stream",
     "text": [
      "20\n",
      "URDDLLUUURRRDDDDLLLL\n",
      "No\n"
     ]
    }
   ],
   "source": [
    "dirs = 'RLUD'\n",
    "dx = [1, -1, 0, 0]\n",
    "dy = [0, 0, 1, -1]\n",
    "\n",
    "n = int(input())\n",
    "s = input()\n",
    "\n",
    "ip = False\n",
    "\n",
    "x = y = 0\n",
    "st = {(0, 0)}\n",
    "for d in s:\n",
    "    d = dirs.index(d)\n",
    "    \n",
    "    x += dx[d]\n",
    "    y += dy[d]\n",
    "    \n",
    "    if (x, y) in st:\n",
    "        ip = True\n",
    "        break\n",
    "    st.add((x, y))\n",
    "    \n",
    "if ip:\n",
    "    print('Yes')\n",
    "else:\n",
    "    print('No')"
   ]
  },
  {
   "cell_type": "markdown",
   "metadata": {},
   "source": [
    "D"
   ]
  },
  {
   "cell_type": "code",
   "execution_count": 8,
   "metadata": {},
   "outputs": [
    {
     "name": "stdout",
     "output_type": "stream",
     "text": [
      "4\n",
      "1 5\n",
      "2 6\n",
      "3 7\n",
      "4 8\n",
      "16\n"
     ]
    }
   ],
   "source": [
    "import io, os, sys\n",
    "input = io.BytesIO(os.read(0, os.fstat(0).st_size)).readline\n",
    "\n",
    "mod = 998244353\n",
    "\n",
    "n = int(input())\n",
    "li = [list(map(int, input().split())) for _ in range(n)]\n",
    "\n",
    "dp = [[0] * 2 for _ in range(n)]\n",
    "dp[0][0] = 1\n",
    "dp[0][1] = 1\n",
    "\n",
    "for i in range(1, n):\n",
    "    if li[i - 1][0] != li[i][0]:\n",
    "        dp[i][0] += dp[i - 1][0]\n",
    "    if li[i - 1][1] != li[i][0]:\n",
    "        dp[i][0] += dp[i - 1][1]\n",
    "        \n",
    "    if li[i - 1][0] != li[i][1]:\n",
    "        dp[i][1] += dp[i - 1][0]\n",
    "    if li[i - 1][1] != li[i][1]:\n",
    "        dp[i][1] += dp[i - 1][1]\n",
    "        \n",
    "    dp[i][0] %= mod\n",
    "    dp[i][1] %= mod\n",
    "    \n",
    "result = sum(dp[n - 1])\n",
    "result %= mod\n",
    "\n",
    "print(result)"
   ]
  },
  {
   "cell_type": "markdown",
   "metadata": {},
   "source": [
    "E"
   ]
  },
  {
   "cell_type": "code",
   "execution_count": 11,
   "metadata": {},
   "outputs": [
    {
     "name": "stdout",
     "output_type": "stream",
     "text": [
      "3 2\n",
      "3 1\n",
      "3 2\n",
      "No\n"
     ]
    }
   ],
   "source": [
    "from collections import deque\n",
    "import io, os, sys\n",
    "input = io.BytesIO(os.read(0, os.fstat(0).st_size)).readline\n",
    "\n",
    "get_v = lambda x: int(x) - 1\n",
    "\n",
    "n, m = map(int, input().split())\n",
    "edges = [list(map(get_v, input().split())) for _ in range(m)]\n",
    "\n",
    "indegree = [0] * n\n",
    "posts = [[] for _ in range(n)]\n",
    "for x, y in edges:\n",
    "    posts[x].append(y)\n",
    "    indegree[y] += 1\n",
    "    \n",
    "queue = deque()\n",
    "for i in range(n):\n",
    "    if indegree[i] == 0:\n",
    "        queue.append(i)\n",
    "        \n",
    "ip = True\n",
    "if len(queue) >= 2 or not queue:\n",
    "    ip = False\n",
    "    \n",
    "if ip:\n",
    "    result = [0] * n\n",
    "    nxt_num = 1 \n",
    "    while queue:\n",
    "        value = queue.popleft()\n",
    "        \n",
    "        result[value] = nxt_num\n",
    "        nxt_num += 1\n",
    "        \n",
    "        for v in posts[value]:\n",
    "            indegree[v] -= 1\n",
    "            if indegree[v] == 0:\n",
    "                queue.append(v)\n",
    "                \n",
    "        if len(queue) >= 2:\n",
    "            ip = False\n",
    "            break\n",
    "            \n",
    "    if nxt_num != n + 1:\n",
    "        ip = False\n",
    "        \n",
    "if ip:\n",
    "    print('Yes')\n",
    "    print(*result)\n",
    "else:\n",
    "    print('No')"
   ]
  },
  {
   "cell_type": "markdown",
   "metadata": {},
   "source": [
    "F"
   ]
  },
  {
   "cell_type": "code",
   "execution_count": 20,
   "metadata": {},
   "outputs": [
    {
     "name": "stdout",
     "output_type": "stream",
     "text": [
      "6 3\n",
      "101\n",
      "001\n",
      "101\n",
      "000\n",
      "100\n",
      "000\n",
      "-1 3 3 -1\n"
     ]
    }
   ],
   "source": [
    "from collections import deque\n",
    "import sys\n",
    "input = lambda: sys.stdin.readline().rstrip()\n",
    "\n",
    "inf = float('inf')\n",
    "\n",
    "n, m = map(int, input().split())\n",
    "ss = [list(map(int, input())) for _ in range(n)]\n",
    "\n",
    "li = [[] for _ in range(n)]\n",
    "rli = [[] for _ in range(n)]\n",
    "for i in range(n):\n",
    "    for j in range(i + 1, i + m + 1):\n",
    "        nth = j - i - 1\n",
    "        \n",
    "        if ss[i][nth] == 1:\n",
    "            li[i].append(j)\n",
    "            rli[j].append(i)\n",
    "\n",
    "dists_from_l = [inf] * n\n",
    "dists_from_l[0] = 0\n",
    "\n",
    "queue = deque()\n",
    "queue.append(0)\n",
    "while queue:\n",
    "    value = queue.popleft()\n",
    "    \n",
    "    for v in li[value]:\n",
    "        if dists_from_l[v] == inf:\n",
    "            dists_from_l[v] = dists_from_l[value] + 1\n",
    "            queue.append(v)\n",
    "            \n",
    "dists_from_r = [inf] * n\n",
    "dists_from_r[n - 1] = 0\n",
    "queue = deque()\n",
    "queue.append(n - 1)\n",
    "while queue:\n",
    "    value = queue.popleft()\n",
    "    \n",
    "    for v in rli[value]:\n",
    "        if dists_from_r[v] == inf:\n",
    "            dists_from_r[v] = dists_from_r[value] + 1\n",
    "            queue.append(v)\n",
    "\n",
    "result = [-1] * (n - 2)\n",
    "for to_ex in range(1, n - 1):\n",
    "    min_r = inf\n",
    "    for left_c in range(1, m):\n",
    "        for ss_i in range(left_c, m):\n",
    "            if to_ex - left_c >= 0 and ss[to_ex - left_c][ss_i] == 1:\n",
    "                temp = dists_from_l[to_ex - left_c] + dists_from_r[to_ex - left_c + ss_i + 1] + 1\n",
    "                min_r = min(min_r, temp)\n",
    "                \n",
    "    if min_r != inf:\n",
    "        result[to_ex - 1] = min_r\n",
    "        \n",
    "print(*result)"
   ]
  },
  {
   "cell_type": "code",
   "execution_count": 14,
   "metadata": {},
   "outputs": [
    {
     "data": {
      "text/plain": [
       "[[1, 2], [3], [3, 4], [4], [], []]"
      ]
     },
     "execution_count": 14,
     "metadata": {},
     "output_type": "execute_result"
    }
   ],
   "source": [
    "li"
   ]
  },
  {
   "cell_type": "code",
   "execution_count": null,
   "metadata": {},
   "outputs": [],
   "source": [
    "import sys\n",
    "\n",
    "def dfs(value, is_root):\n",
    "    global next_num\n",
    "    \n",
    "    child_count = 0\n",
    "    min_visited = vt[value]\n",
    "    for v in li[value]:\n",
    "        if vt[v] == 0:\n",
    "            vt[v] = next_num\n",
    "            next_num += 1\n",
    "            temp = dfs(v, False)\n",
    "         \n",
    "            if not is_root and temp >= vt[value]:\n",
    "                is_ans[value] = True\n",
    "            \n",
    "            min_visited = min(min_visited, temp)\n",
    "            child_count += 1\n",
    "        else:\n",
    "            min_visited = min(min_visited, vt[v])\n",
    "    \n",
    "    if is_root and child_count >= 2:\n",
    "        is_ans[value] = True\n",
    "        \n",
    "    return min_visited\n",
    "        \n",
    "n, m = map(int, input().split())\n",
    "\n",
    "li = [[] for _ in range(n + 1)]\n",
    "for _ in range(m):\n",
    "    a, b = map(int, input().split())\n",
    "    \n",
    "    li[a].append(b)\n",
    "    li[b].append(a)\n",
    "    \n",
    "vt = [0] * (n + 1)\n",
    "next_num = 1\n",
    "is_ans = [False] * (n + 1)\n",
    "for i in range(1, n + 1):\n",
    "    if vt[i] != 0:\n",
    "        continue\n",
    "    vt[i] = next_num\n",
    "    next_num += 1\n",
    "    \n",
    "    dfs(i, True)\n",
    "\n",
    "r = []\n",
    "for i in range(1, n + 1):\n",
    "    if is_ans[i]:\n",
    "        r.append(i)\n",
    "        \n",
    "print(len(r))\n",
    "print(*r)"
   ]
  }
 ],
 "metadata": {
  "kernelspec": {
   "display_name": "Python 3",
   "language": "python",
   "name": "python3"
  },
  "language_info": {
   "codemirror_mode": {
    "name": "ipython",
    "version": 3
   },
   "file_extension": ".py",
   "mimetype": "text/x-python",
   "name": "python",
   "nbconvert_exporter": "python",
   "pygments_lexer": "ipython3",
   "version": "3.7.4"
  }
 },
 "nbformat": 4,
 "nbformat_minor": 2
}
