{
 "cells": [
  {
   "cell_type": "code",
   "execution_count": null,
   "metadata": {},
   "outputs": [],
   "source": [
    "import sys\n",
    "input = lambda: sys.stdin.readline().rstrip()"
   ]
  },
  {
   "cell_type": "markdown",
   "metadata": {},
   "source": [
    "A"
   ]
  },
  {
   "cell_type": "code",
   "execution_count": 3,
   "metadata": {},
   "outputs": [
    {
     "name": "stdout",
     "output_type": "stream",
     "text": [
      "0 0 0 0 0 0 0 0 0 0\n",
      "0\n"
     ]
    }
   ],
   "source": [
    "li = list(map(int, input().split()))\n",
    "\n",
    "cur = 0\n",
    "cur = li[cur]\n",
    "cur = li[cur]\n",
    "cur = li[cur]\n",
    "\n",
    "print(cur)"
   ]
  },
  {
   "cell_type": "markdown",
   "metadata": {},
   "source": [
    "B"
   ]
  },
  {
   "cell_type": "code",
   "execution_count": 11,
   "metadata": {},
   "outputs": [
    {
     "name": "stdout",
     "output_type": "stream",
     "text": [
      "5 2\n",
      "1 2 3 4 5\n",
      "5 5\n",
      "No\n"
     ]
    }
   ],
   "source": [
    "from collections import Counter\n",
    "\n",
    "n, m = map(int, input().split())\n",
    "a = Counter(map(int, input().split()))\n",
    "b = Counter(map(int, input().split()))\n",
    "\n",
    "ip = True\n",
    "for key in b:\n",
    "    if a[key] - b[key] < 0:\n",
    "        ip = False\n",
    "        break\n",
    "        \n",
    "if ip:\n",
    "    print('Yes')\n",
    "else:\n",
    "    print('No')"
   ]
  },
  {
   "cell_type": "markdown",
   "metadata": {},
   "source": [
    "C"
   ]
  },
  {
   "cell_type": "code",
   "execution_count": 20,
   "metadata": {},
   "outputs": [
    {
     "name": "stdout",
     "output_type": "stream",
     "text": [
      "No\n"
     ]
    }
   ],
   "source": [
    "import sys\n",
    "input = lambda: sys.stdin.readline().rstrip()\n",
    "\n",
    "n = int(input())\n",
    "li = [input() for _ in range(n)]\n",
    "\n",
    "ip = False\n",
    "for i in range(n):\n",
    "    cur_c = 0\n",
    "    for j in range(6):\n",
    "        if li[i][j] == '#':\n",
    "            cur_c += 1\n",
    "            \n",
    "    if cur_c >= 4:\n",
    "        ip = True\n",
    "        break\n",
    "        \n",
    "    for j in range(6, n):\n",
    "        if li[i][j - 6] == '#':\n",
    "            cur_c -= 1\n",
    "        if li[i][j] == '#':\n",
    "            cur_c += 1\n",
    "            \n",
    "        if cur_c >= 4:\n",
    "            ip = True\n",
    "            break\n",
    "            \n",
    "    if ip:\n",
    "        break\n",
    "        \n",
    "for j in range(n):\n",
    "    cur_c = 0\n",
    "    for i in range(6):\n",
    "        if li[i][j] == '#':\n",
    "            cur_c += 1\n",
    "            \n",
    "    if cur_c >= 4:\n",
    "        ip = True\n",
    "        break\n",
    "        \n",
    "    for i in range(6, n):\n",
    "        if li[i - 6][j] == '#':\n",
    "            cur_c -= 1\n",
    "        if li[i][j] == '#':\n",
    "            cur_c += 1\n",
    "            \n",
    "        if cur_c >= 4:\n",
    "            ip = True\n",
    "            break\n",
    "            \n",
    "    if ip:\n",
    "        break\n",
    "        \n",
    "vt = [[False] * n for _ in range(n)]\n",
    "for i in range(n):\n",
    "    for j in range(n):\n",
    "        if vt[i][j]:\n",
    "            continue\n",
    "        vt[i][j] = True\n",
    "        cur_c = 0\n",
    "        cont_count = 1\n",
    "        if li[i][j] == '#':\n",
    "            cur_c += 1\n",
    "        ni = i\n",
    "        nj = j\n",
    "        while True:\n",
    "            ni += 1\n",
    "            nj += 1\n",
    "            \n",
    "            if ni >= n or nj >= n:\n",
    "                break\n",
    "            vt[ni][nj] = True\n",
    "            if li[ni][nj] == '#':\n",
    "                cur_c += 1\n",
    "            cont_count += 1\n",
    "            \n",
    "            if cont_count >= 6:\n",
    "                if cur_c >= 4:\n",
    "                    ip = True\n",
    "                    break\n",
    "                if li[ni - 5][nj - 5] == '#':\n",
    "                    cur_c -= 1\n",
    "\n",
    "vt = [[False] * n for _ in range(n)]\n",
    "for i in range(n):\n",
    "    for j in range(n):\n",
    "        if vt[i][j]:\n",
    "            continue\n",
    "        vt[i][j] = True\n",
    "        cur_c = 0\n",
    "        cont_count = 1\n",
    "        if li[i][j] == '#':\n",
    "            cur_c += 1\n",
    "        ni = i\n",
    "        nj = j\n",
    "        while True:\n",
    "            ni += 1\n",
    "            nj -= 1\n",
    "            \n",
    "            if ni >= n or nj < 0:\n",
    "                break\n",
    "            vt[ni][nj] = True\n",
    "            if li[ni][nj] == '#':\n",
    "                cur_c += 1\n",
    "            cont_count += 1\n",
    "            \n",
    "            if cont_count >= 6:\n",
    "                if cur_c >= 4:\n",
    "                    ip = True\n",
    "                    break\n",
    "                if li[ni - 5][nj + 5] == '#':\n",
    "                    cur_c -= 1\n",
    "                    \n",
    "if ip:\n",
    "    print('Yes')\n",
    "else:\n",
    "    print('No')"
   ]
  },
  {
   "cell_type": "markdown",
   "metadata": {},
   "source": [
    "D"
   ]
  },
  {
   "cell_type": "code",
   "execution_count": 81,
   "metadata": {},
   "outputs": [
    {
     "name": "stdout",
     "output_type": "stream",
     "text": [
      "11\n",
      "1 20\n",
      "1 10\n",
      "1 30\n",
      "1 20\n",
      "3 15 1\n",
      "20\n",
      "3 15 2\n",
      "20\n",
      "3 15 3\n",
      "30\n",
      "3 15 4\n",
      "-1\n",
      "2 100 5\n",
      "-1\n",
      "1 1\n",
      "2 100 5\n",
      "1\n"
     ]
    }
   ],
   "source": [
    "from bisect import bisect_left\n",
    "import sys\n",
    "input = lambda: sys.stdin.readline().rstrip()\n",
    "\n",
    "q = int(input())\n",
    "\n",
    "li = []\n",
    "for _ in range(q):\n",
    "    query = list(map(int, input().split()))\n",
    "    \n",
    "    if query[0] == 1:\n",
    "        li.append(query[1])\n",
    "        li.sort()\n",
    "    else:\n",
    "        tp, x, k = query\n",
    "        \n",
    "        if tp == 3:\n",
    "            index = bisect_left(li, x)\n",
    "            index += k - 1\n",
    "            if index >= len(li):\n",
    "                print(-1)\n",
    "            else:\n",
    "                print(li[index])\n",
    "        else:\n",
    "            index = bisect_left(li, x + 0.1) - 1\n",
    "            index -= k - 1\n",
    "            if index < 0:\n",
    "                print(-1)\n",
    "            else:\n",
    "                print(li[index])"
   ]
  },
  {
   "cell_type": "code",
   "execution_count": 80,
   "metadata": {},
   "outputs": [
    {
     "data": {
      "text/plain": [
       "3"
      ]
     },
     "execution_count": 80,
     "metadata": {},
     "output_type": "execute_result"
    }
   ],
   "source": [
    "from bisect import bisect, bisect_left\n",
    "\n",
    "li = [10, 20, 20, 20, 25]\n",
    "bisect_left(li, 20.1) - 1"
   ]
  },
  {
   "cell_type": "code",
   "execution_count": null,
   "metadata": {},
   "outputs": [],
   "source": []
  },
  {
   "cell_type": "code",
   "execution_count": null,
   "metadata": {},
   "outputs": [],
   "source": []
  },
  {
   "cell_type": "code",
   "execution_count": null,
   "metadata": {},
   "outputs": [],
   "source": []
  },
  {
   "cell_type": "code",
   "execution_count": null,
   "metadata": {},
   "outputs": [],
   "source": []
  },
  {
   "cell_type": "markdown",
   "metadata": {},
   "source": [
    "E"
   ]
  },
  {
   "cell_type": "code",
   "execution_count": 70,
   "metadata": {},
   "outputs": [
    {
     "name": "stdout",
     "output_type": "stream",
     "text": [
      "10 1000000000000\n",
      "260522 914575 436426 979445 648772 690081 933447 190629 703497 47202\n",
      "826617499998784056\n"
     ]
    }
   ],
   "source": [
    "n, k = map(int, input().split())\n",
    "li = list(map(int, input().split()))\n",
    "\n",
    "mod = n\n",
    "\n",
    "st = set()\n",
    "seq = []\n",
    "cur = 0\n",
    "for _ in range(n * 2):\n",
    "    temp = cur % n\n",
    "    seq.append(temp)\n",
    "    if temp in st:\n",
    "        cur += li[temp]\n",
    "        seq.append(cur % n)\n",
    "        break\n",
    "    else:\n",
    "        st.add(temp)\n",
    "        cur += li[temp]\n",
    "    \n",
    "index = seq[:-1].index(seq[-1])\n",
    "    \n",
    "init = seq[:index]\n",
    "itered = seq[index:-1]\n",
    "\n",
    "if k <= len(init):\n",
    "    cur = 0\n",
    "    for i in range(k):\n",
    "        cur += li[init[i]]\n",
    "\n",
    "    print(cur)\n",
    "else:\n",
    "    cur = 0\n",
    "    for i in range(len(init)):\n",
    "        cur += li[init[i]]\n",
    "\n",
    "    k -= len(init)\n",
    "    \n",
    "    temp1 = k // len(itered)\n",
    "    temp2 = k % len(itered)\n",
    "    \n",
    "    sv1 = 0\n",
    "    for v in itered:\n",
    "        sv1 += li[v]\n",
    "    \n",
    "    cur += temp1 * sv1\n",
    "    \n",
    "    sv2 = 0\n",
    "    for i in range(temp2):\n",
    "        sv2 += li[itered[i]]\n",
    "    \n",
    "    cur += sv2\n",
    "\n",
    "    print(cur)"
   ]
  },
  {
   "cell_type": "code",
   "execution_count": null,
   "metadata": {},
   "outputs": [],
   "source": []
  },
  {
   "cell_type": "code",
   "execution_count": null,
   "metadata": {},
   "outputs": [],
   "source": []
  },
  {
   "cell_type": "code",
   "execution_count": null,
   "metadata": {},
   "outputs": [],
   "source": []
  },
  {
   "cell_type": "code",
   "execution_count": null,
   "metadata": {},
   "outputs": [],
   "source": []
  },
  {
   "cell_type": "code",
   "execution_count": null,
   "metadata": {},
   "outputs": [],
   "source": []
  },
  {
   "cell_type": "code",
   "execution_count": null,
   "metadata": {},
   "outputs": [],
   "source": []
  },
  {
   "cell_type": "code",
   "execution_count": null,
   "metadata": {},
   "outputs": [],
   "source": []
  },
  {
   "cell_type": "code",
   "execution_count": null,
   "metadata": {},
   "outputs": [],
   "source": []
  },
  {
   "cell_type": "code",
   "execution_count": null,
   "metadata": {},
   "outputs": [],
   "source": []
  },
  {
   "cell_type": "code",
   "execution_count": null,
   "metadata": {},
   "outputs": [],
   "source": []
  },
  {
   "cell_type": "code",
   "execution_count": null,
   "metadata": {},
   "outputs": [],
   "source": []
  },
  {
   "cell_type": "code",
   "execution_count": null,
   "metadata": {},
   "outputs": [],
   "source": [
    "# template for bootstrap\n",
    "import os\n",
    "import sys\n",
    "from io import BytesIO, IOBase\n",
    "\n",
    "## PYRIVAL BOOTSTRAP\n",
    "# https://github.com/cheran-senthil/PyRival/blob/master/pyrival/misc/bootstrap.py\n",
    "# This decorator allows for recursion without actually doing recursion\n",
    "from types import GeneratorType\n",
    "## @bootstrap, yield when getting and returning value in recursive functions, end of functions\n",
    "\n",
    "def main():\n",
    "    from collections import defaultdict as dd\n",
    "    \n",
    "    n = int(input())\n",
    "    colors = [0] + list(map(int, input().split()))\n",
    "\n",
    "    li = [[] for _ in range(n + 1)]\n",
    "    for _ in range(n - 1):\n",
    "        a, b = map(int, input().split())\n",
    "        li[a].append(b)\n",
    "        li[b].append(a)\n",
    "\n",
    "    @bootstrap\n",
    "    def dfs(value):\n",
    "        if cdd[colors[value]] == 0:\n",
    "            possibles.append(value)\n",
    "        cdd[colors[value]] += 1\n",
    "\n",
    "        for v in li[value]:\n",
    "            if vt[v]:\n",
    "                continue\n",
    "            vt[v] = True\n",
    "            yield d\n",
    "    \n",
    "# region fastio\n",
    " \n",
    "BUFSIZE = 8192\n",
    " \n",
    "\n",
    "class FastIO(IOBase):\n",
    "    newlines = 0\n",
    " \n",
    "    def __init__(self, file):\n",
    "        self._fd = file.fileno()\n",
    "        self.buffer = BytesIO()\n",
    "        self.writable = \"x\" in file.mode or \"r\" not in file.mode\n",
    "        self.write = self.buffer.write if self.writable else None\n",
    " \n",
    "    def read(self):\n",
    "        while True:\n",
    "            b = os.read(self._fd, max(os.fstat(self._fd).st_size, BUFSIZE))\n",
    "            if not b:\n",
    "                break\n",
    "            ptr = self.buffer.tell()\n",
    "            self.buffer.seek(0, 2), self.buffer.write(b), self.buffer.seek(ptr)\n",
    "        self.newlines = 0\n",
    "        return self.buffer.read()\n",
    " \n",
    "    def readline(self):\n",
    "        while self.newlines == 0:\n",
    "            b = os.read(self._fd, max(os.fstat(self._fd).st_size, BUFSIZE))\n",
    "            self.newlines = b.count(b\"\\n\") + (not b)\n",
    "            ptr = self.buffer.tell()\n",
    "            self.buffer.seek(0, 2), self.buffer.write(b), self.buffer.seek(ptr)\n",
    "        self.newlines -= 1\n",
    "        return self.buffer.readline()\n",
    " \n",
    "    def flush(self):\n",
    "        if self.writable:\n",
    "            os.write(self._fd, self.buffer.getvalue())\n",
    "            self.buffer.truncate(0), self.buffer.seek(0)\n",
    " \n",
    " \n",
    "class IOWrapper(IOBase):\n",
    "    def __init__(self, file):\n",
    "        self.buffer = FastIO(file)\n",
    "        self.flush = self.buffer.flush\n",
    "        self.writable = self.buffer.writable\n",
    "        self.write = lambda s: self.buffer.write(s.encode(\"ascii\"))\n",
    "        self.read = lambda: self.buffer.read().decode(\"ascii\")\n",
    "        self.readline = lambda: self.buffer.readline().decode(\"ascii\")\n",
    " \n",
    " \n",
    "sys.stdin, sys.stdout = IOWrapper(sys.stdin), IOWrapper(sys.stdout)\n",
    "input = lambda: sys.stdin.readline().rstrip(\"\\r\\n\")\n",
    " \n",
    "# endregion\n",
    " \n",
    "if __name__ == \"__main__\":\n",
    "    def bootstrap(f, stack=[]):\n",
    "        def wrappedfunc(*args, **kwargs):\n",
    "            if stack:\n",
    "                return f(*args, **kwargs)\n",
    "            else:\n",
    "                to = f(*args, **kwargs)\n",
    "                while True:\n",
    "                    if type(to) is GeneratorType:\n",
    "                        stack.append(to)\n",
    "                        to = next(to)\n",
    "                    else:\n",
    "                        stack.pop()\n",
    "                        if not stack:\n",
    "                            break\n",
    "                        to = stack[-1].send(to)\n",
    "                return to\n",
    "        return wrappedfunc\n",
    "    \n",
    "    main()"
   ]
  }
 ],
 "metadata": {
  "kernelspec": {
   "display_name": "Python 3",
   "language": "python",
   "name": "python3"
  },
  "language_info": {
   "codemirror_mode": {
    "name": "ipython",
    "version": 3
   },
   "file_extension": ".py",
   "mimetype": "text/x-python",
   "name": "python",
   "nbconvert_exporter": "python",
   "pygments_lexer": "ipython3",
   "version": "3.7.4"
  }
 },
 "nbformat": 4,
 "nbformat_minor": 4
}
