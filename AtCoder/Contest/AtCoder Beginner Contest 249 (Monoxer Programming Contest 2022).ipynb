{
 "cells": [
  {
   "cell_type": "markdown",
   "metadata": {},
   "source": [
    "A"
   ]
  },
  {
   "cell_type": "code",
   "execution_count": 25,
   "metadata": {},
   "outputs": [
    {
     "name": "stdout",
     "output_type": "stream",
     "text": [
      "1 1 1 1 1 1 1\n",
      "Draw\n"
     ]
    }
   ],
   "source": [
    "a, b, c, d, e, f, x = map(int, input().split())\n",
    "\n",
    "li1 = [0] * 200\n",
    "li2 = [0] * 200\n",
    "\n",
    "cur = 0\n",
    "while True:\n",
    "    for i in range(cur, cur + a):\n",
    "        if i >= 150:\n",
    "            break\n",
    "        li1[i] = b\n",
    "    \n",
    "    if cur >= 150:\n",
    "        break\n",
    "    \n",
    "    cur += a\n",
    "    for i in range(cur, cur + c):\n",
    "        if i >= 150:\n",
    "            break\n",
    "        li1[i] = 0\n",
    "    cur += c\n",
    "    \n",
    "    if cur >= 150:\n",
    "        break\n",
    "        \n",
    "cur = 0\n",
    "while True:\n",
    "    for i in range(cur, cur + d):\n",
    "        if i >= 150:\n",
    "            break\n",
    "        li2[i] = e\n",
    "    \n",
    "    if cur >= 150:\n",
    "        break\n",
    "    \n",
    "    cur += d\n",
    "    for i in range(cur, cur + f):\n",
    "        if i >= 150:\n",
    "            break\n",
    "        li2[i] = 0\n",
    "    cur += f\n",
    "    \n",
    "    if cur >= 150:\n",
    "        break\n",
    "        \n",
    "t1 = sum(li1[:x])\n",
    "t2 = sum(li2[:x])\n",
    "\n",
    "if t1 > t2:\n",
    "    print('Takahashi')\n",
    "elif t1 < t2:\n",
    "    print('Aoki')\n",
    "else:\n",
    "    print('Draw')"
   ]
  },
  {
   "cell_type": "markdown",
   "metadata": {},
   "source": [
    "B"
   ]
  },
  {
   "cell_type": "code",
   "execution_count": 30,
   "metadata": {},
   "outputs": [
    {
     "name": "stdout",
     "output_type": "stream",
     "text": [
      "sSs\n",
      "No\n"
     ]
    }
   ],
   "source": [
    "s = input()\n",
    "\n",
    "iu = False\n",
    "il = False\n",
    "for v in s:\n",
    "    if v.islower():\n",
    "        il = True\n",
    "    else:\n",
    "        iu = True\n",
    "        \n",
    "ip = True\n",
    "if not iu or not il:\n",
    "    ip = False\n",
    "    \n",
    "if len(set(s)) != len(s):\n",
    "    ip = False\n",
    "    \n",
    "if ip:\n",
    "    print('Yes')\n",
    "else:\n",
    "    print('No')"
   ]
  },
  {
   "cell_type": "markdown",
   "metadata": {},
   "source": [
    "C"
   ]
  },
  {
   "cell_type": "code",
   "execution_count": 51,
   "metadata": {},
   "outputs": [
    {
     "name": "stdout",
     "output_type": "stream",
     "text": [
      "5 2\n",
      "abpqxyz\n",
      "az\n",
      "pq\n",
      "bc\n",
      "cy\n",
      "7\n"
     ]
    }
   ],
   "source": [
    "from itertools import product\n",
    "from collections import Counter\n",
    "\n",
    "n, k = map(int, input().split())\n",
    "li = [Counter(input()) for _ in range(n)]\n",
    "\n",
    "r = 0\n",
    "for case in product(*[range(2)] * n):\n",
    "    ct = Counter()\n",
    "    for i in range(n):\n",
    "        if case[i]:\n",
    "            ct += li[i]\n",
    "            \n",
    "    t_r = 0\n",
    "    for key in ct:\n",
    "        if ct[key] == k:\n",
    "            t_r += 1\n",
    "            \n",
    "    r = max(r, t_r)\n",
    "    \n",
    "print(r)"
   ]
  },
  {
   "cell_type": "markdown",
   "metadata": {},
   "source": [
    "D"
   ]
  },
  {
   "cell_type": "code",
   "execution_count": 44,
   "metadata": {},
   "outputs": [
    {
     "name": "stdout",
     "output_type": "stream",
     "text": [
      "10\n",
      "1 3 2 4 6 8 2 2 3 7\n",
      "62\n"
     ]
    }
   ],
   "source": [
    "from collections import defaultdict as dd\n",
    "\n",
    "n = int(input())\n",
    "li = list(map(int, input().split()))\n",
    "\n",
    "d = dd(int)\n",
    "for v in li:\n",
    "    d[v] += 1\n",
    "\n",
    "r = 0\n",
    "st = set()\n",
    "for v in li:\n",
    "    for mod in range(1, int(v ** 0.5) + 1):\n",
    "        if v % mod == 0:\n",
    "            if (mod, v) in st:\n",
    "                continue\n",
    "            st.add((mod, v))\n",
    "            \n",
    "            temp = d[mod] * d[v // mod] * d[v]\n",
    "            if mod != v // mod:\n",
    "                temp *= 2\n",
    "            r += temp\n",
    "            \n",
    "print(r)"
   ]
  },
  {
   "cell_type": "markdown",
   "metadata": {},
   "source": [
    "E"
   ]
  },
  {
   "cell_type": "markdown",
   "metadata": {},
   "source": [
    "F"
   ]
  },
  {
   "cell_type": "code",
   "execution_count": 17,
   "metadata": {},
   "outputs": [
    {
     "name": "stdout",
     "output_type": "stream",
     "text": [
      "4 2\n",
      "1 4\n",
      "1 3\n",
      "1 2\n",
      "2 2\n",
      "6\n"
     ]
    }
   ],
   "source": [
    "from heapq import heappush, heappop\n",
    "\n",
    "n, ok = map(int, input().split())\n",
    "k = ok\n",
    "li = [list(map(int, input().split())) for _ in range(n)]\n",
    "\n",
    "heap = []\n",
    "cur_2_total = 0\n",
    "affecting_minus = [False] * n\n",
    "for i in range(n):\n",
    "    if li[i][0] == 2:\n",
    "        cur_2_total += li[i][1]\n",
    "        if li[i][1] < 0:\n",
    "            heappush(heap, (li[i][1], i))\n",
    "            affecting_minus[i] = True\n",
    "    else:\n",
    "        k -= 1\n",
    "\n",
    "r = -float('inf')\n",
    "deleted_2 = [False] * n\n",
    "if k >= 0:\n",
    "    while k and heap:\n",
    "        v, i = heappop(heap)\n",
    "        cur_2_total -= v\n",
    "        affecting_minus[i] = False\n",
    "        deleted_2[i] = True\n",
    "        k -= 1\n",
    "        \n",
    "    r = cur_2_total\n",
    "\n",
    "for i in range(n):\n",
    "    if li[i][0] == 2 and li[i][1] >= 0:\n",
    "        cur_2_total -= li[i][1]\n",
    "    if deleted_2[i]:\n",
    "        k += 1\n",
    "    if affecting_minus[i]:\n",
    "        affecting_minus[i] = False\n",
    "        cur_2_total -= li[i][1]\n",
    "\n",
    "    if li[i][0] == 1:\n",
    "        k += 1\n",
    "        \n",
    "    if k >= 0 and li[i][0] == 1:\n",
    "        while k and heap:\n",
    "            v, index = heappop(heap)\n",
    "            if affecting_minus[index]:\n",
    "                affecting_minus[index] = False\n",
    "                deleted_2[i] = True\n",
    "                cur_2_total -= v\n",
    "                k -= 1\n",
    "            \n",
    "        r = max(r, li[i][1] + cur_2_total)\n",
    "        \n",
    "print(r)"
   ]
  },
  {
   "cell_type": "code",
   "execution_count": 11,
   "metadata": {},
   "outputs": [
    {
     "ename": "AssertionError",
     "evalue": "",
     "output_type": "error",
     "traceback": [
      "\u001b[1;31m---------------------------------------------------------------------------\u001b[0m",
      "\u001b[1;31mAssertionError\u001b[0m                            Traceback (most recent call last)",
      "\u001b[1;32m<ipython-input-11-a871fdc9ebee>\u001b[0m in \u001b[0;36m<module>\u001b[1;34m\u001b[0m\n\u001b[1;32m----> 1\u001b[1;33m \u001b[1;32massert\u001b[0m \u001b[1;32mFalse\u001b[0m\u001b[1;33m\u001b[0m\u001b[1;33m\u001b[0m\u001b[0m\n\u001b[0m",
      "\u001b[1;31mAssertionError\u001b[0m: "
     ]
    }
   ],
   "source": [
    "assert False"
   ]
  },
  {
   "cell_type": "code",
   "execution_count": null,
   "metadata": {},
   "outputs": [],
   "source": [
    "4 2\n",
    "2 1\n",
    "1 -1\n",
    "2 1\n",
    "1 -1"
   ]
  }
 ],
 "metadata": {
  "kernelspec": {
   "display_name": "Python 3",
   "language": "python",
   "name": "python3"
  },
  "language_info": {
   "codemirror_mode": {
    "name": "ipython",
    "version": 3
   },
   "file_extension": ".py",
   "mimetype": "text/x-python",
   "name": "python",
   "nbconvert_exporter": "python",
   "pygments_lexer": "ipython3",
   "version": "3.7.4"
  }
 },
 "nbformat": 4,
 "nbformat_minor": 4
}
