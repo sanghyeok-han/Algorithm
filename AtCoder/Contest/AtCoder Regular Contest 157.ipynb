{
 "cells": [
  {
   "cell_type": "markdown",
   "metadata": {},
   "source": [
    "A"
   ]
  },
  {
   "cell_type": "code",
   "execution_count": 4,
   "metadata": {},
   "outputs": [
    {
     "name": "stdout",
     "output_type": "stream",
     "text": [
      "5 1 0 0 1\n",
      "No\n"
     ]
    }
   ],
   "source": [
    "n, xx, xy, yx, yy = map(int, input().split())\n",
    "\n",
    "if abs(xy - yx) >= 2:\n",
    "    print('No')\n",
    "elif (xx and yy) and not (xy or yx):\n",
    "    print('No')\n",
    "else:\n",
    "    print('Yes')"
   ]
  },
  {
   "cell_type": "markdown",
   "metadata": {},
   "source": [
    "B"
   ]
  },
  {
   "cell_type": "code",
   "execution_count": 36,
   "metadata": {},
   "outputs": [
    {
     "name": "stdout",
     "output_type": "stream",
     "text": [
      "5 2\n",
      "XXXYY\n",
      "3\n"
     ]
    }
   ],
   "source": [
    "n, k = map(int, input().split())\n",
    "li = list(input())\n",
    "\n",
    "cx = 0\n",
    "fy_loc = -1\n",
    "mid_x_cs = []\n",
    "for i in range(n):\n",
    "    if li[i] == 'Y':\n",
    "        if fy_loc != -1:\n",
    "            mid_x_c = i - fy_loc - 1\n",
    "            if mid_x_c >= 1:\n",
    "                mid_x_cs.append((mid_x_c, fy_loc))\n",
    "        fy_loc = i\n",
    "    else:\n",
    "        cx += 1\n",
    "        \n",
    "if k >= cx:\n",
    "    to_x_c = k - cx\n",
    "    \n",
    "    fx_loc = -1\n",
    "    mid_y_cs = []\n",
    "    for i in range(n):\n",
    "        if li[i] == 'X':\n",
    "            if fx_loc != -1:\n",
    "                mid_y_c = i - fx_loc - 1\n",
    "                if mid_y_c >= 1:\n",
    "                    mid_y_cs.append((mid_y_c, fx_loc))\n",
    "            fx_loc = i\n",
    "        \n",
    "#     print(li, mid_y_cs)\n",
    "        \n",
    "    mid_y_cs.sort(key=lambda x: -x[0])\n",
    "    \n",
    "    nli = ['Y'] * n\n",
    "    \n",
    "    for i in range(n):\n",
    "        if li[i] == 'Y' and to_x_c:\n",
    "            to_x_c -= 1\n",
    "            nli[i] = 'X'\n",
    "        else:\n",
    "            break\n",
    "            \n",
    "    for i in range(n - 1, -1, -1):\n",
    "        if li[i] == 'Y' and to_x_c:\n",
    "            to_x_c -= 1\n",
    "            nli[i] = 'X'\n",
    "        else:\n",
    "            break\n",
    "    \n",
    "    for mid_y_c, fx_loc in mid_y_cs:\n",
    "        if mid_y_c <= to_x_c:\n",
    "            to_x_c -= mid_y_c\n",
    "            for i in range(fx_loc + 1, n):\n",
    "                if li[i] == 'Y':\n",
    "                    nli[i] = 'X'\n",
    "                else:\n",
    "                    break\n",
    "        else:\n",
    "            for i in range(fx_loc + 1, n):\n",
    "                if li[i] == 'Y' and to_x_c:\n",
    "                    to_x_c -= 1\n",
    "                    nli[i] = 'X'\n",
    "                else:\n",
    "                    break\n",
    "                    \n",
    "    li = nli.copy()\n",
    "else:      \n",
    "    mid_x_cs.sort(key=lambda x: x[0])\n",
    "\n",
    "    for mid_x_c, fy_loc in mid_x_cs:\n",
    "        if mid_x_c <= k:\n",
    "            k -= mid_x_c\n",
    "            for i in range(fy_loc + 1, n):\n",
    "                if li[i] == 'X':\n",
    "                    li[i] = 'Y'\n",
    "                else:\n",
    "                    break\n",
    "        else:\n",
    "            break\n",
    "                \n",
    "    for i in range(n - 1):\n",
    "        if k and li[i] == 'Y' and li[i + 1] == 'X':\n",
    "            k -= 1\n",
    "            li[i + 1] = 'Y'\n",
    "    \n",
    "    for i in range(n - 1, 0, -1):\n",
    "        if k and li[i] == 'Y' and li[i - 1] == 'X':\n",
    "            k -= 1\n",
    "            li[i - 1] = 'Y'\n",
    "    \n",
    "    for i in range(n):\n",
    "        if k and li[i] == 'X':\n",
    "            k -= 1\n",
    "            li[i] = 'Y'\n",
    "        \n",
    "result = 0\n",
    "for i in range(n - 1):\n",
    "    if li[i] == li[i + 1] == 'Y':\n",
    "        result += 1\n",
    "            \n",
    "print(result)    "
   ]
  },
  {
   "cell_type": "markdown",
   "metadata": {},
   "source": [
    "C"
   ]
  },
  {
   "cell_type": "code",
   "execution_count": 40,
   "metadata": {},
   "outputs": [
    {
     "name": "stdout",
     "output_type": "stream",
     "text": [
      "10 20\n",
      "YYYYYYYYYYYYYYYYYYYY\n",
      "YYYYYYYYYYYYYYYYYYYY\n",
      "YYYYYYYYYYYYYYYYYYYY\n",
      "YYYYYYYYYYYYYYYYYYYY\n",
      "YYYYYYYYYYYYYYYYYYYY\n",
      "YYYYYYYYYYYYYYYYYYYY\n",
      "YYYYYYYYYYYYYYYYYYYY\n",
      "YYYYYYYYYYYYYYYYYYYY\n",
      "YYYYYYYYYYYYYYYYYYYY\n",
      "YYYYYYYYYYYYYYYYYYYY\n",
      "423787835\n"
     ]
    }
   ],
   "source": [
    "import sys\n",
    "input = lambda: sys.stdin.readline().rstrip()\n",
    "\n",
    "mod = 998244353\n",
    "\n",
    "h, w = map(int, input().split())\n",
    "li = [input() for _ in range(h)]\n",
    "\n",
    "dp = [[dict() for _ in range(w)] for _ in range(h)]\n",
    "dp[0][0][0] = 1\n",
    "\n",
    "i = 0\n",
    "for j in range(1, w):\n",
    "    if li[i][j - 1] == 'Y' and li[i][j] == 'Y':\n",
    "        added = 1\n",
    "    else:\n",
    "        added = 0\n",
    "        \n",
    "    for key in dp[i][j - 1]:\n",
    "        nkey = key + added\n",
    "        if nkey in dp[i][j]:\n",
    "            dp[i][j][nkey] += dp[i][j - 1][key]\n",
    "        else:\n",
    "            dp[i][j][nkey] = dp[i][j - 1][key]\n",
    "            \n",
    "        dp[i][j][nkey] %= mod\n",
    "\n",
    "j = 0\n",
    "for i in range(1, h):\n",
    "    if li[i - 1][j] == 'Y' and li[i][j] == 'Y':\n",
    "        added = 1\n",
    "    else:\n",
    "        added = 0\n",
    "        \n",
    "    for key in dp[i - 1][j]:\n",
    "        nkey = key + added\n",
    "        if nkey in dp[i][j]:\n",
    "            dp[i][j][nkey] += dp[i - 1][j][key]\n",
    "        else:\n",
    "            dp[i][j][nkey] = dp[i - 1][j][key]\n",
    "            \n",
    "        dp[i][j][nkey] %= mod\n",
    "            \n",
    "for i in range(1, h):\n",
    "    for j in range(1, w):\n",
    "        if li[i][j - 1] == 'Y' and li[i][j] == 'Y':\n",
    "            added = 1\n",
    "        else:\n",
    "            added = 0\n",
    "\n",
    "        for key in dp[i][j - 1]:\n",
    "            nkey = key + added\n",
    "            if nkey in dp[i][j]:\n",
    "                dp[i][j][nkey] += dp[i][j - 1][key]\n",
    "                dp[i][j][nkey] %= mod\n",
    "            else:\n",
    "                dp[i][j][nkey] = dp[i][j - 1][key]  \n",
    "                dp[i][j][nkey] %= mod\n",
    "                \n",
    "        if li[i - 1][j] == 'Y' and li[i][j] == 'Y':\n",
    "            added = 1\n",
    "        else:\n",
    "            added = 0\n",
    "\n",
    "        for key in dp[i - 1][j]:\n",
    "            nkey = key + added\n",
    "            if nkey in dp[i][j]:\n",
    "                dp[i][j][nkey] += dp[i - 1][j][key]\n",
    "                dp[i][j][nkey] %= mod\n",
    "            else:\n",
    "                dp[i][j][nkey] = dp[i - 1][j][key]\n",
    "                dp[i][j][nkey] %= mod\n",
    "\n",
    "result = 0\n",
    "for key in dp[h - 1][w - 1]:\n",
    "    result += (key ** 2) * dp[h - 1][w - 1][key]\n",
    "    result %= mod\n",
    "    \n",
    "print(result)"
   ]
  },
  {
   "cell_type": "code",
   "execution_count": 41,
   "metadata": {},
   "outputs": [
    {
     "data": {
      "text/plain": [
       "66"
      ]
     },
     "execution_count": 41,
     "metadata": {},
     "output_type": "execute_result"
    }
   ],
   "source": [
    "4 ** 2 + 5 ** 2 + 5 ** 2"
   ]
  },
  {
   "cell_type": "code",
   "execution_count": 42,
   "metadata": {},
   "outputs": [
    {
     "data": {
      "text/plain": [
       "97"
      ]
     },
     "execution_count": 42,
     "metadata": {},
     "output_type": "execute_result"
    }
   ],
   "source": [
    "5 ** 2 + 6 ** 2 + 6 ** 2"
   ]
  },
  {
   "cell_type": "code",
   "execution_count": 43,
   "metadata": {},
   "outputs": [
    {
     "data": {
      "text/plain": [
       "31"
      ]
     },
     "execution_count": 43,
     "metadata": {},
     "output_type": "execute_result"
    }
   ],
   "source": [
    "97 - 66"
   ]
  }
 ],
 "metadata": {
  "kernelspec": {
   "display_name": "Python 3",
   "language": "python",
   "name": "python3"
  },
  "language_info": {
   "codemirror_mode": {
    "name": "ipython",
    "version": 3
   },
   "file_extension": ".py",
   "mimetype": "text/x-python",
   "name": "python",
   "nbconvert_exporter": "python",
   "pygments_lexer": "ipython3",
   "version": "3.8.3"
  }
 },
 "nbformat": 4,
 "nbformat_minor": 4
}
