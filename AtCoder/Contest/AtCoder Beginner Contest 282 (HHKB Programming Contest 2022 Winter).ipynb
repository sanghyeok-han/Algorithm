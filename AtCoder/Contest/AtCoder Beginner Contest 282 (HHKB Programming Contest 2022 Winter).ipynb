{
 "cells": [
  {
   "cell_type": "markdown",
   "metadata": {},
   "source": [
    "A"
   ]
  },
  {
   "cell_type": "code",
   "execution_count": 3,
   "metadata": {},
   "outputs": [
    {
     "name": "stdout",
     "output_type": "stream",
     "text": [
      "3\n",
      "ABC\n"
     ]
    }
   ],
   "source": [
    "k = int(input())\n",
    "\n",
    "result = []\n",
    "for i in range(k):\n",
    "    result.append(chr(65 + i))\n",
    "    \n",
    "print(''.join(result))"
   ]
  },
  {
   "cell_type": "markdown",
   "metadata": {},
   "source": [
    "B"
   ]
  },
  {
   "cell_type": "code",
   "execution_count": null,
   "metadata": {},
   "outputs": [],
   "source": [
    "n, m = map(int, input().split())\n",
    "li = [input() for _ in range(n)]\n",
    "\n",
    "total = 0\n",
    "for a in range(n):\n",
    "    for b in range(a + 1, n):\n",
    "        ip = True\n",
    "        for j in range(m):\n",
    "            if li[a][j] == 'x' and li[b][j] == 'x':\n",
    "                ip = False\n",
    "                break\n",
    "        if ip:\n",
    "            total += 1\n",
    "            \n",
    "print(total)"
   ]
  },
  {
   "cell_type": "markdown",
   "metadata": {},
   "source": [
    "C"
   ]
  },
  {
   "cell_type": "code",
   "execution_count": 8,
   "metadata": {},
   "outputs": [
    {
     "name": "stdout",
     "output_type": "stream",
     "text": [
      "20\n",
      "a,\"t,\"c,\"o,\"d,\"e,\"r,\n",
      "a.\"t,\"c.\"o,\"d.\"e,\"r.\n"
     ]
    }
   ],
   "source": [
    "n = int(input())\n",
    "s = input()\n",
    "\n",
    "result = []\n",
    "status = 0\n",
    "for i in range(n):\n",
    "    if s[i] == '\"':\n",
    "        result.append(s[i])\n",
    "        status ^= 1\n",
    "    elif s[i] == ',':\n",
    "        if status:\n",
    "            result.append(',')\n",
    "        else:\n",
    "            result.append('.')\n",
    "    else:\n",
    "        result.append(s[i])\n",
    "        \n",
    "result = ''.join(result)\n",
    "\n",
    "print(result)"
   ]
  },
  {
   "cell_type": "markdown",
   "metadata": {},
   "source": [
    "D"
   ]
  },
  {
   "cell_type": "code",
   "execution_count": null,
   "metadata": {},
   "outputs": [],
   "source": [
    "9.16 이분그래프는 길이가 홀수인 사이클이 없어야 한다.\n",
    "9.23 원래 이분 그래프가 아닌 것은 간선을 추가해도 이분 그래프가 아닐 것이다.\n"
   ]
  },
  {
   "cell_type": "code",
   "execution_count": 60,
   "metadata": {},
   "outputs": [
    {
     "name": "stdout",
     "output_type": "stream",
     "text": [
      "18\n"
     ]
    }
   ],
   "source": [
    "from collections import deque\n",
    "import io, os, sys\n",
    "input = io.BytesIO(os.read(0,os.fstat(0).st_size)).readline\n",
    "\n",
    "def check():\n",
    "    colors = [0] * (n + 1)\n",
    "    visited = [False] * (n + 1)\n",
    "    \n",
    "    cs = []\n",
    "    for s in range(1, n + 1):\n",
    "        if visited[s]:\n",
    "            continue\n",
    "        visited[s] = True\n",
    "        \n",
    "        colors[s] = 1\n",
    "   \n",
    "        c1 = 1\n",
    "        c2 = 0\n",
    "        \n",
    "        queue = deque()\n",
    "        queue.append(s)\n",
    "\n",
    "        while queue:\n",
    "            value = queue.popleft()\n",
    "            for v in li[value]:\n",
    "                if colors[v] != 0 and colors[value] == colors[v]:\n",
    "                    return []\n",
    "                \n",
    "                if visited[v]:\n",
    "                    continue\n",
    "                \n",
    "                visited[v] = True\n",
    "                colors[v] = 1 if colors[value] == 2 else 2\n",
    "                \n",
    "                if colors[v] == 2:\n",
    "                    c2 += 1\n",
    "                else:\n",
    "                    c1 += 1\n",
    "                \n",
    "                queue.append(v)\n",
    "                \n",
    "        cs.append([c1, c2])\n",
    "        \n",
    "    return cs\n",
    "\n",
    "n, m = map(int, input().split())\n",
    "li = [[] for _ in range(n + 1)]\n",
    "\n",
    "for _ in range(m):\n",
    "    a, b = map(int, input().split())\n",
    "    li[a].append(b)\n",
    "    li[b].append(a)\n",
    "\n",
    "cs = check()\n",
    "\n",
    "if not cs:\n",
    "    print(0)\n",
    "else:\n",
    "    total = 0\n",
    "    temp = 0\n",
    "    for c1, c2 in cs:\n",
    "        t1 = c1 * c2\n",
    "        t2 = (c1 + c2) * (n - (c1 + c2))\n",
    "\n",
    "        total += t1\n",
    "        temp += t2\n",
    "\n",
    "    temp //= 2\n",
    "    total += temp\n",
    "    \n",
    "    total -= m\n",
    "\n",
    "    print(total)"
   ]
  },
  {
   "cell_type": "markdown",
   "metadata": {},
   "source": [
    "E"
   ]
  },
  {
   "cell_type": "code",
   "execution_count": null,
   "metadata": {},
   "outputs": [],
   "source": [
    "10.4 수식을 분해해서 분할정복을 이용한 거듭제곱 이용 가능"
   ]
  },
  {
   "cell_type": "code",
   "execution_count": 68,
   "metadata": {},
   "outputs": [
    {
     "name": "stdout",
     "output_type": "stream",
     "text": [
      "4 5\n",
      "2 4 1 3\n",
      "6\n"
     ]
    }
   ],
   "source": [
    "def get_v(x, y):\n",
    "    r = pow(x, y, mod) + pow(y, x, mod)\n",
    "    r %= mod\n",
    "    \n",
    "    return r\n",
    "    \n",
    "n, mod = map(int, input().split())\n",
    "li = list(map(int, input().split()))\n",
    "\n",
    "sv = 0\n",
    "for i in range(n - 1):\n",
    "    sv += get_v(li[i], li[i + 1])\n",
    "        \n",
    "print(sv)"
   ]
  },
  {
   "cell_type": "code",
   "execution_count": 86,
   "metadata": {},
   "outputs": [
    {
     "data": {
      "text/plain": [
       "0"
      ]
     },
     "execution_count": 86,
     "metadata": {},
     "output_type": "execute_result"
    }
   ],
   "source": [
    "mod = 5\n",
    "\n",
    "get_v(5, 10)"
   ]
  }
 ],
 "metadata": {
  "kernelspec": {
   "display_name": "Python 3",
   "language": "python",
   "name": "python3"
  },
  "language_info": {
   "codemirror_mode": {
    "name": "ipython",
    "version": 3
   },
   "file_extension": ".py",
   "mimetype": "text/x-python",
   "name": "python",
   "nbconvert_exporter": "python",
   "pygments_lexer": "ipython3",
   "version": "3.7.4"
  }
 },
 "nbformat": 4,
 "nbformat_minor": 2
}
