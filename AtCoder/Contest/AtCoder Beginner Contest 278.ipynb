{
 "cells": [
  {
   "cell_type": "markdown",
   "metadata": {},
   "source": [
    "A"
   ]
  },
  {
   "cell_type": "code",
   "execution_count": 3,
   "metadata": {},
   "outputs": [
    {
     "name": "stdout",
     "output_type": "stream",
     "text": [
      "9 5\n",
      "1 2 3 4 5 6 7 8 9\n",
      "6 7 8 9 0 0 0 0 0\n"
     ]
    }
   ],
   "source": [
    "from collections import deque\n",
    "\n",
    "n, k = map(int, input().split())\n",
    "deq = deque(map(int, input().split()))\n",
    "\n",
    "for _ in range(k):\n",
    "    deq.popleft()\n",
    "    deq.append(0)\n",
    "    \n",
    "print(*deq)"
   ]
  },
  {
   "cell_type": "markdown",
   "metadata": {},
   "source": [
    "B"
   ]
  },
  {
   "cell_type": "code",
   "execution_count": 13,
   "metadata": {},
   "outputs": [
    {
     "name": "stdout",
     "output_type": "stream",
     "text": [
      "1 23\n",
      "1 23\n"
     ]
    }
   ],
   "source": [
    "h, m = input().split()\n",
    "\n",
    "cur_h = int(h)\n",
    "cur_m = int(m)\n",
    "while True:\n",
    "    h = list(str(cur_h).rjust(2, '0'))\n",
    "    m = list(str(cur_m).rjust(2, '0'))\n",
    "    \n",
    "    li = [h, m]\n",
    "    li[0][1], li[1][0] = li[1][0], li[0][1]\n",
    "    \n",
    "    nh = int(''.join(li[0]))\n",
    "    nm = int(''.join(li[1]))\n",
    "    \n",
    "    if 0 <= nh <= 23 and 0 <= nm <= 59:\n",
    "        print(cur_h, cur_m)\n",
    "        break\n",
    "        \n",
    "    cur_m += 1\n",
    "    if cur_m == 60:\n",
    "        cur_m = 0\n",
    "        cur_h += 1\n",
    "        \n",
    "        if cur_h == 24:\n",
    "            cur_h = 0"
   ]
  },
  {
   "cell_type": "markdown",
   "metadata": {},
   "source": [
    "C"
   ]
  },
  {
   "cell_type": "code",
   "execution_count": null,
   "metadata": {},
   "outputs": [],
   "source": [
    "from collections import defaultdict as dd\n",
    "import io, os, sys\n",
    "input = io.BytesIO(os.read(0,os.fstat(0).st_size)).readline\n",
    "\n",
    "n, q = map(int, input().split())\n",
    "\n",
    "d = dd(set)\n",
    "for _ in range(q):\n",
    "    t, a, b = map(int, input().split())\n",
    "    \n",
    "    if t == 1:\n",
    "        d[a].add(b)\n",
    "    elif t == 2:\n",
    "        d[a].discard(b)\n",
    "    else:\n",
    "        if b in d[a] and a in d[b]:\n",
    "            print('Yes')\n",
    "        else:\n",
    "            print('No')"
   ]
  },
  {
   "cell_type": "markdown",
   "metadata": {},
   "source": [
    "D"
   ]
  },
  {
   "cell_type": "code",
   "execution_count": null,
   "metadata": {},
   "outputs": [],
   "source": [
    "import io, os, sys\n",
    "input = io.BytesIO(os.read(0,os.fstat(0).st_size)).readline\n",
    "\n",
    "n = int(input())\n",
    "li = [0] + list(map(int, input().split()))\n",
    "q = int(input())\n",
    "\n",
    "assi_v = 0\n",
    "assi_tm = -1\n",
    "added = [[0, -1] for _ in range(n + 1)]\n",
    "\n",
    "for qi in range(q):\n",
    "    qu = list(map(int, input().split()))\n",
    "    \n",
    "    tp = qu[0]\n",
    "    if tp == 1:\n",
    "        v = qu[1]\n",
    "        \n",
    "        assi_v = v\n",
    "        assi_tm = qi\n",
    "    elif tp == 2:\n",
    "        index, to_add = qu[1:]\n",
    "        \n",
    "        if added[index][1] < assi_tm:\n",
    "            added[index] = [to_add, qi]\n",
    "        else:\n",
    "            added[index][0] += to_add\n",
    "            added[index][1] = qi\n",
    "    else:\n",
    "        index = qu[1]\n",
    "        \n",
    "        if assi_tm == -1:\n",
    "            result = li[index] + added[index][0]\n",
    "        else:\n",
    "            if assi_tm < added[index][1]:\n",
    "                result = assi_v + added[index][0]\n",
    "            else:\n",
    "                result = assi_v\n",
    "            \n",
    "        print(result)"
   ]
  },
  {
   "cell_type": "markdown",
   "metadata": {},
   "source": [
    "E"
   ]
  },
  {
   "cell_type": "code",
   "execution_count": 29,
   "metadata": {},
   "outputs": [
    {
     "name": "stdout",
     "output_type": "stream",
     "text": [
      "0 1\n",
      "0 2\n",
      "4 4 3\n",
      "5 3 4\n"
     ]
    }
   ],
   "source": [
    "import io, os, sys\n",
    "input = io.BytesIO(os.read(0,os.fstat(0).st_size)).readline\n",
    "\n",
    "n, m, max_num, h, w = map(int, input().split())\n",
    "\n",
    "li = [list(map(int, input().split())) for _ in range(n)]\n",
    "\n",
    "ct = [0] * (max_num + 1)\n",
    "c1 = 0\n",
    "for i in range(n):\n",
    "    for j in range(m):\n",
    "        v = li[i][j]\n",
    "        ct[v] += 1\n",
    "        if ct[v] == 1:\n",
    "            c1 += 1\n",
    "\n",
    "for i in range(h):\n",
    "    for j in range(w):\n",
    "        v = li[i][j]\n",
    "        ct[v] -= 1\n",
    "        if ct[v] == 0:\n",
    "            c1 -= 1\n",
    "\n",
    "result = [[0] * (m - w + 1) for _ in range(n - h + 1)]    \n",
    "result[0][0] = c1\n",
    "\n",
    "sx = 0\n",
    "sy = 0\n",
    "while True:\n",
    "    while True: \n",
    "        sy += 1\n",
    "        if sy + w - 1 >= m:\n",
    "            sy -= 1\n",
    "            break\n",
    "        j1 = sy - 1 # to add\n",
    "        j2 = sy + w - 1 # to minus\n",
    "\n",
    "        for x in range(sx, sx + h):\n",
    "            v1 = li[x][j1]\n",
    "            v2 = li[x][j2]\n",
    "\n",
    "            ct[v1] += 1\n",
    "            if ct[v1] == 1:\n",
    "                c1 += 1\n",
    "\n",
    "            ct[v2] -= 1\n",
    "            if ct[v2] == 0:\n",
    "                c1 -= 1\n",
    "\n",
    "        result[sx][sy] = c1\n",
    "\n",
    "    sx += 1\n",
    "    if sx + h - 1 >= n:\n",
    "        break\n",
    "    i1 = sx - 1 # to add\n",
    "    i2 = sx + h - 1 # to minus\n",
    "    \n",
    "    for y in range(sy, sy + w):\n",
    "        v1 = li[i1][y]\n",
    "        v2 = li[i2][y]\n",
    "        \n",
    "        ct[v1] += 1\n",
    "        if ct[v1] == 1:\n",
    "            c1 += 1\n",
    "\n",
    "        ct[v2] -= 1\n",
    "        if ct[v2] == 0:\n",
    "            c1 -= 1\n",
    "\n",
    "    result[sx][sy] = c1\n",
    "    \n",
    "    while True: \n",
    "        sy -= 1\n",
    "        if sy < 0:\n",
    "            sy += 1\n",
    "            break\n",
    "        j1 = sy + w # to add\n",
    "        j2 = sy # to minus\n",
    "\n",
    "        for x in range(sx, sx + h):\n",
    "            v1 = li[x][j1]\n",
    "            v2 = li[x][j2]\n",
    "\n",
    "            ct[v1] += 1\n",
    "            if ct[v1] == 1:\n",
    "                c1 += 1\n",
    "\n",
    "            ct[v2] -= 1\n",
    "            if ct[v2] == 0:\n",
    "                c1 -= 1\n",
    "\n",
    "        result[sx][sy] = c1\n",
    "        \n",
    "    sx += 1\n",
    "    if sx + h - 1 >= n:\n",
    "        break        \n",
    "    \n",
    "    i1 = sx - 1 # to add\n",
    "    i2 = sx + h - 1 # to minus\n",
    "    \n",
    "    for y in range(sy, sy + w):\n",
    "        v1 = li[i1][y]\n",
    "        v2 = li[i2][y]\n",
    "        \n",
    "        ct[v1] += 1\n",
    "        if ct[v1] == 1:\n",
    "            c1 += 1\n",
    "\n",
    "        ct[v2] -= 1\n",
    "        if ct[v2] == 0:\n",
    "            c1 -= 1\n",
    "\n",
    "    result[sx][sy] = c1\n",
    "    \n",
    "for v in result:\n",
    "    print(*v)"
   ]
  },
  {
   "cell_type": "markdown",
   "metadata": {},
   "source": [
    "F"
   ]
  },
  {
   "cell_type": "code",
   "execution_count": 31,
   "metadata": {},
   "outputs": [
    {
     "data": {
      "text/plain": [
       "10321920"
      ]
     },
     "execution_count": 31,
     "metadata": {},
     "output_type": "execute_result"
    }
   ],
   "source": [
    "16 * 14 * 12 * 10 * 8 * 6 * 4 * 2"
   ]
  },
  {
   "cell_type": "code",
   "execution_count": null,
   "metadata": {},
   "outputs": [],
   "source": [
    "from collections import defaultdict as dd\n",
    "\n",
    "def recur(f_end):\n",
    "    unused_li = list(set(unused))\n",
    "    \n",
    "    if len(starts[f_end]) == 0:\n",
    "        return True\n",
    "    \n",
    "    covered = set()\n",
    "    for to_use in unused_li:\n",
    "        n_start = li[to_use][0]\n",
    "        n_end = li[to_used][1]\n",
    "        \n",
    "        if n_start in starts[f_end]:\n",
    "            covered.add(n_start)\n",
    "            \n",
    "    \n",
    "\n",
    "n = int(input())\n",
    "li = [input() for _ in range(n)]\n",
    "\n",
    "li = [v[0] + v[-1] for v in li]\n",
    "\n",
    "starts = {chr(i): dd(int) for i in range(97, 123)}\n",
    "unused = set(range(n))\n",
    "unused_ws = dd(set)\n",
    "for i in range(n):\n",
    "    start = li[i][0]\n",
    "    end = li[i][1]\n",
    "    \n",
    "    starts[start][end] += 1\n",
    "    unused_ws[start + end].add(to_use)\n",
    "\n",
    "can_win = False\n",
    "for to_use in range(n):\n",
    "    unused.discard(to_use)\n",
    "    unused_ws[li[to_use]].discard(to_use)\n",
    "    \n",
    "    start = li[to_use][0]\n",
    "    end = li[to_used][1]\n",
    "    \n",
    "    starts[start][end] -= 1\n",
    "    if starts[start][end] == 0:\n",
    "        del starts[start][end]\n",
    "    \n",
    "    if recur(end):\n",
    "        can_win = True\n",
    "        \n",
    "    starts[start][end] += 1\n",
    "    unused.add(to_use)\n",
    "    unused_ws[li[to_use]].add(to_use)\n",
    "        \n",
    "if can_win:\n",
    "    print('First')\n",
    "else:\n",
    "    print('Second')"
   ]
  },
  {
   "cell_type": "code",
   "execution_count": 32,
   "metadata": {},
   "outputs": [
    {
     "data": {
      "text/plain": [
       "(97, 122)"
      ]
     },
     "execution_count": 32,
     "metadata": {},
     "output_type": "execute_result"
    }
   ],
   "source": [
    "ord('a'), ord('z')"
   ]
  }
 ],
 "metadata": {
  "kernelspec": {
   "display_name": "Python 3",
   "language": "python",
   "name": "python3"
  },
  "language_info": {
   "codemirror_mode": {
    "name": "ipython",
    "version": 3
   },
   "file_extension": ".py",
   "mimetype": "text/x-python",
   "name": "python",
   "nbconvert_exporter": "python",
   "pygments_lexer": "ipython3",
   "version": "3.7.4"
  }
 },
 "nbformat": 4,
 "nbformat_minor": 2
}
