{
 "cells": [
  {
   "cell_type": "markdown",
   "metadata": {},
   "source": [
    "A"
   ]
  },
  {
   "cell_type": "code",
   "execution_count": 2,
   "metadata": {},
   "outputs": [
    {
     "name": "stdout",
     "output_type": "stream",
     "text": [
      "10\n",
      "22 75 26 45 72 81 47 29 97 2\n",
      "9\n"
     ]
    }
   ],
   "source": [
    "n = int(input())\n",
    "li = list(map(int, input().split()))\n",
    "\n",
    "r = li.index(max(li)) + 1\n",
    "\n",
    "print(r)"
   ]
  },
  {
   "cell_type": "markdown",
   "metadata": {},
   "source": [
    "B"
   ]
  },
  {
   "cell_type": "code",
   "execution_count": 5,
   "metadata": {},
   "outputs": [
    {
     "name": "stdout",
     "output_type": "stream",
     "text": [
      "1000000000000000000 1000000000000000000 1000000000000000000 1000000000000000000 1000000000000000000 1000000000000000000\n",
      "0\n"
     ]
    }
   ],
   "source": [
    "mod = 998244353\n",
    "\n",
    "a, b, c, d, e, f = map(int, input().split())\n",
    "\n",
    "t1 = a * b % mod\n",
    "t1 = t1 * c % mod\n",
    "\n",
    "t2 = d * e % mod\n",
    "t2 = t2 * f % mod\n",
    "\n",
    "r = (t1 - t2) % mod\n",
    "\n",
    "print(r)"
   ]
  },
  {
   "cell_type": "markdown",
   "metadata": {},
   "source": [
    "D"
   ]
  },
  {
   "cell_type": "code",
   "execution_count": 9,
   "metadata": {},
   "outputs": [
    {
     "name": "stdout",
     "output_type": "stream",
     "text": [
      "100\n",
      "55\n"
     ]
    }
   ],
   "source": [
    "def recur(n):\n",
    "    if n in dp:\n",
    "        return dp[n]\n",
    "    \n",
    "    r = recur(n // 2) + recur(n // 3)\n",
    "    dp[n] = r\n",
    "\n",
    "    return r\n",
    "\n",
    "n = int(input())\n",
    "\n",
    "dp = {}\n",
    "dp[0] = 1\n",
    "r = recur(n)\n",
    "\n",
    "print(r)"
   ]
  },
  {
   "cell_type": "markdown",
   "metadata": {},
   "source": [
    "C"
   ]
  },
  {
   "cell_type": "code",
   "execution_count": null,
   "metadata": {},
   "outputs": [],
   "source": [
    "1 -2   x -y\n",
    "2 1    \n",
    "3 -1"
   ]
  },
  {
   "cell_type": "code",
   "execution_count": null,
   "metadata": {},
   "outputs": [],
   "source": [
    "1 -2\n",
    "\n",
    "1 -2\n",
    "2  1\n",
    "\n",
    "1 -2\n",
    "2  1\n",
    "-1 2\n",
    "= 2 1"
   ]
  },
  {
   "cell_type": "code",
   "execution_count": null,
   "metadata": {},
   "outputs": [],
   "source": [
    "x -y\n",
    "\n",
    "x -y\n",
    "y x\n",
    "= x + y, x - y\n",
    "\n",
    "y, x"
   ]
  },
  {
   "cell_type": "code",
   "execution_count": null,
   "metadata": {},
   "outputs": [],
   "source": [
    "li = [input() for _ in range(9)]\n",
    "\n",
    "c = 0\n",
    "for i in range(9):\n",
    "    for j in range(9):\n",
    "        if li[i][j] == '#':\n",
    "            for x in range(-9, 10):\n",
    "                for y in range(-9, 10):\n",
    "                    ax, ay = i + x, j - y\n",
    "                    bx, by = i + x + y, j + x - y\n",
    "                    cx, cy = i + y, j + x\n",
    "                    \n",
    "                    if ax < 0 or ax >= 9 or ay < 0 or ay >= 9:\n",
    "                        continue\n",
    "                    if bx < 0 or bx >= 9 or by < 0 or by >= 9:\n",
    "                        continue\n",
    "                    if cx < 0 or cx >= 9 or cy < 0 or cy >= 9:\n",
    "                        continue\n",
    "                        \n",
    "                    if li[ax][ay] == li[bx][by] == li[cx][cy] == '#':\n",
    "                        c += 1\n",
    "                        \n",
    "print(c)"
   ]
  },
  {
   "cell_type": "markdown",
   "metadata": {},
   "source": [
    "E"
   ]
  },
  {
   "cell_type": "code",
   "execution_count": null,
   "metadata": {},
   "outputs": [],
   "source": []
  },
  {
   "cell_type": "code",
   "execution_count": null,
   "metadata": {},
   "outputs": [],
   "source": [
    "나눗셈 시 모듈러 곱셈 역원 이용하기"
   ]
  },
  {
   "cell_type": "code",
   "execution_count": null,
   "metadata": {},
   "outputs": [],
   "source": [
    "\n",
    "# https://www.acmicpc.net/source/2140259\n",
    "long long divide(long long a, long long b){\n",
    "    long long ans = 1;\n",
    "    while (B > 0)\n",
    "    {\n",
    "        if (B % 2 == 1) ans =(ans*A)%mod;\n",
    "        A = (A*A) % mod;\n",
    "        B /= 2;\n",
    "    }\n",
    "    return ans   \n",
    "}\n",
    "\n",
    "scanf(\"%d %d %d\", &n, &m, &k);\n",
    "\n",
    "long long r = 0;\n",
    "long long dp[n + 1] = {0,};\n",
    "long long ndp[n + 1] = {0,};\n",
    "int excessed, f_n, cur_n;\n",
    "\n",
    "for (int i=0;i<k;i++){\n",
    "    for (int j=0;j<n + 1;j++){\n",
    "        ndp[j] = 0;\n",
    "    }\n",
    "    for (int f_n=0;f_n<n;f_n++){\n",
    "        for (int cur_m=1;cur_m<m + 1;cur_m++){\n",
    "            cur_n = f_n + cur_m;\n",
    "            excessed = cur_n - n;\n",
    "            if (excessed >= 1){\n",
    "                cur_n = n - excessed;\n",
    "            }\n",
    "            \n",
    "            ndp[cur_n] += divide(dp[f_n], m);\n",
    "            ndp[cur_n ]%= mod;\n",
    "        }\n",
    "    }\n",
    "    \n",
    "    r += ndp[n];\n",
    "    r %= mod;\n",
    "    for (int j=0;j<n + 1;j++){\n",
    "        dp[j] = ndp[j];\n",
    "    }    \n",
    "}\n",
    "\n",
    "printf(\"%lld\", r)"
   ]
  },
  {
   "cell_type": "code",
   "execution_count": 20,
   "metadata": {},
   "outputs": [
    {
     "name": "stdout",
     "output_type": "stream",
     "text": [
      "100 1 99\n",
      "0\n"
     ]
    }
   ],
   "source": [
    "mod = 998244353\n",
    "\n",
    "def divide(a, b):\n",
    "    return a * pow(b, mod - 2, mod) % mod\n",
    "\n",
    "n, m, k = map(int, input().split())\n",
    "\n",
    "r = 0\n",
    "dp = [0] * (n + 1)\n",
    "dp[0] = 1\n",
    "for _ in range(k):\n",
    "    ndp = [0] * (n + 1)\n",
    "    for f_n in range(n):\n",
    "        for cur_m in range(1, m + 1):\n",
    "            cur_n = f_n + cur_m\n",
    "            excessed = cur_n - n\n",
    "            if excessed >= 1:\n",
    "                cur_n = n - excessed\n",
    "                \n",
    "            ndp[cur_n] += divide(dp[f_n], m)\n",
    "            ndp[cur_n] %= mod\n",
    "            \n",
    "    r += ndp[n]\n",
    "    r %= mod\n",
    "    dp = ndp.copy()\n",
    "    \n",
    "print(r)"
   ]
  },
  {
   "cell_type": "code",
   "execution_count": 30,
   "metadata": {},
   "outputs": [
    {
     "name": "stdout",
     "output_type": "stream",
     "text": [
      "2 2 1\n",
      "1\n"
     ]
    }
   ],
   "source": [
    "mod = 998244353\n",
    "\n",
    "def divide(a, b):\n",
    "    return a * pow(b, mod - 2, mod) % mod\n",
    "\n",
    "n, m, k = map(int, input().split())\n",
    "\n",
    "r = 0\n",
    "dp = [0] * (n + 1)\n",
    "dp[0] = 1\n",
    "for _ in range(k):\n",
    "    ndp = [0] * (n + 1)\n",
    "    for f_n in range(n):\n",
    "        for cur_m in range(1, m + 1):\n",
    "            cur_n = f_n + cur_m\n",
    "            excessed = cur_n - n\n",
    "            if excessed >= 1:\n",
    "                cur_n = n - excessed\n",
    "                \n",
    "            ndp[cur_n] += dp[f_n]\n",
    "            ndp[cur_n] %= mod\n",
    "            \n",
    "    r += ndp[n]\n",
    "    r %= mod\n",
    "    dp = ndp.copy()\n",
    "    \n",
    "\n",
    "\n",
    "print(r)"
   ]
  },
  {
   "cell_type": "code",
   "execution_count": 31,
   "metadata": {},
   "outputs": [
    {
     "name": "stdout",
     "output_type": "stream",
     "text": [
      "10 5 6\n",
      "522409223\n"
     ]
    }
   ],
   "source": [
    "mod = 998244353\n",
    "\n",
    "def divide(a, b):\n",
    "    return a * pow(b, mod - 2, mod) % mod\n",
    "\n",
    "n, m, k = map(int, input().split())\n",
    "\n",
    "dp = [[0] * (n + 1) for _ in range(k + 1)]\n",
    "dp[0][0] = 1\n",
    "\n",
    "sdp = [[0] * (n + 2) for _ in range(k + 1)]\n",
    "sdp[0] = [1] * (n + 2)\n",
    "sdp[0][0] = 0\n",
    "\n",
    "for cur_k in range(1, k + 1):\n",
    "    cumul = 0\n",
    "    for cur_n in range(n + 1):  \n",
    "        f_n = cur_n - m\n",
    "        f_n = max(0, f_n)\n",
    "        \n",
    "        start = f_n\n",
    "        end = cur_n\n",
    "        temp = sdp[cur_k - 1][end + 1] - sdp[cur_k - 1][start]\n",
    "        t1 = divide(temp, m)\n",
    "        \n",
    "        left = n - cur_n\n",
    "        t2 = 0\n",
    "        if left > m:\n",
    "            start = n - left\n",
    "            end = n - 1\n",
    "            \n",
    "            temp = sdp[cur_k - 1][end + 1] - sdp[cur_k - 1][start]\n",
    "            t2 = divide(temp, m)\n",
    "            \n",
    "        t3 = t1 + t2\n",
    "        t3 %= mod\n",
    "        dp[cur_k][cur_n] = t3\n",
    "        \n",
    "        cumul += t3\n",
    "        cumul %= mod\n",
    "        sdp[cur_k][cur_n + 1] = cumul\n",
    "        \n",
    "    \n",
    "r = 0\n",
    "for cur_k in range(k + 1):\n",
    "    r += dp[cur_k][n]\n",
    "    r %= mod\n",
    "    \n",
    "print(r)"
   ]
  },
  {
   "cell_type": "code",
   "execution_count": 32,
   "metadata": {
    "scrolled": true
   },
   "outputs": [
    {
     "name": "stdout",
     "output_type": "stream",
     "text": [
      "[1, 0, 0, 0, 0, 0, 0, 0, 0, 0, 0]\n",
      "[199648871, 598946612, 598946612, 598946612, 598946612, 598946612, 0, 0, 0, 0, 0]\n",
      "[878455031, 559016838, 559016838, 559016838, 559016838, 239578645, 598946612, 279508419, 958314579, 638876386, 319438193]\n",
      "[343396058, 479157290, 479157290, 479157290, 479157290, 471171335, 15971910, 559016838, 239578645, 55901684, 7985955]\n",
      "[589363467, 816164584, 816164584, 816164584, 816164584, 346590440, 480754481, 297077520, 249161791, 563808411, 469574144]\n",
      "[78262359, 323271453, 323271453, 323271453, 323271453, 640473578, 19805169, 514934368, 601182680, 750360316, 681042228]\n",
      "[395975587, 844275147, 844275147, 844275147, 844275147, 801662091, 789970653, 828303236, 85289999, 969303254, 42613056]\n"
     ]
    }
   ],
   "source": [
    "for v in dp:\n",
    "    print(v)"
   ]
  },
  {
   "cell_type": "markdown",
   "metadata": {},
   "source": [
    "F"
   ]
  },
  {
   "cell_type": "code",
   "execution_count": 21,
   "metadata": {},
   "outputs": [
    {
     "data": {
      "text/plain": [
       "10000000"
      ]
     },
     "execution_count": 21,
     "metadata": {},
     "output_type": "execute_result"
    }
   ],
   "source": [
    "n, m = map(int, input().split())\n",
    "li = list(map(int, input().split()))\n",
    "\n"
   ]
  }
 ],
 "metadata": {
  "kernelspec": {
   "display_name": "Python 3",
   "language": "python",
   "name": "python3"
  },
  "language_info": {
   "codemirror_mode": {
    "name": "ipython",
    "version": 3
   },
   "file_extension": ".py",
   "mimetype": "text/x-python",
   "name": "python",
   "nbconvert_exporter": "python",
   "pygments_lexer": "ipython3",
   "version": "3.7.4"
  }
 },
 "nbformat": 4,
 "nbformat_minor": 2
}
