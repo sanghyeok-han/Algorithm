{
 "cells": [
  {
   "cell_type": "code",
   "execution_count": null,
   "metadata": {},
   "outputs": [],
   "source": [
    "import sys\n",
    "input = lambda: sys.stdin.readline().rstrip()"
   ]
  },
  {
   "cell_type": "markdown",
   "metadata": {},
   "source": [
    "A"
   ]
  },
  {
   "cell_type": "code",
   "execution_count": 4,
   "metadata": {},
   "outputs": [
    {
     "name": "stdout",
     "output_type": "stream",
     "text": [
      "100000 1 1 1\n",
      "M\n"
     ]
    }
   ],
   "source": [
    "v, a, b, c = map(int, input().split())\n",
    "\n",
    "li = [a, b, c]\n",
    "ans = ['F', 'M', 'T']\n",
    "cur = 0\n",
    "while True:\n",
    "    v -= li[cur]\n",
    "    if v < 0:\n",
    "        print(ans[cur])\n",
    "        break\n",
    "    cur += 1\n",
    "    if cur == 3:\n",
    "        cur = 0"
   ]
  },
  {
   "cell_type": "markdown",
   "metadata": {},
   "source": [
    "B"
   ]
  },
  {
   "cell_type": "code",
   "execution_count": 8,
   "metadata": {},
   "outputs": [
    {
     "name": "stdout",
     "output_type": "stream",
     "text": [
      "7\n",
      "4 8 1 7 9 5 6\n",
      "3 5 1 7 8 2 6\n",
      "3\n",
      "2\n"
     ]
    }
   ],
   "source": [
    "n = int(input())\n",
    "a = list(map(int, input().split()))\n",
    "b = list(map(int, input().split()))\n",
    "\n",
    "st = set(a) & set(b)\n",
    "\n",
    "c1 = 0\n",
    "c2 = 0\n",
    "for i in range(n):\n",
    "    if a[i] not in st:\n",
    "        continue\n",
    "    if a[i] == b[i]:\n",
    "        c1 += 1\n",
    "    else:\n",
    "        c2 += 1\n",
    "        \n",
    "print(c1)\n",
    "print(c2)"
   ]
  },
  {
   "cell_type": "markdown",
   "metadata": {},
   "source": [
    "C"
   ]
  },
  {
   "cell_type": "code",
   "execution_count": null,
   "metadata": {},
   "outputs": [],
   "source": [
    "y 좌표가 같은 것끼리 뭉침\n",
    "R 다음에 L이 있으면 안됨"
   ]
  },
  {
   "cell_type": "code",
   "execution_count": 12,
   "metadata": {},
   "outputs": [
    {
     "name": "stdout",
     "output_type": "stream",
     "text": [
      "10\n",
      "1 3\n",
      "1 4\n",
      "0 0\n",
      "0 2\n",
      "0 4\n",
      "3 1\n",
      "2 4\n",
      "4 2\n",
      "4 4\n",
      "3 3\n",
      "RLRRRLRLRR\n",
      "Yes\n"
     ]
    }
   ],
   "source": [
    "from collections import defaultdict as dd\n",
    "import sys\n",
    "input = lambda: sys.stdin.readline().rstrip()\n",
    "\n",
    "n = int(input())\n",
    "li = [list(map(int, input().split())) for _ in range(n)]\n",
    "s = input()\n",
    "\n",
    "d = dd(list)\n",
    "for i in range(n):\n",
    "    x, y = li[i]\n",
    "    d[y].append((x, s[i]))\n",
    "    \n",
    "is_c = False\n",
    "for key in d:\n",
    "    d[key].sort(key=lambda x: x[0])\n",
    "    \n",
    "    cur_find = 'R'\n",
    "    for _, direction in d[key]:\n",
    "        if direction == cur_find:\n",
    "            if cur_find == 'R':\n",
    "                cur_find = 'L'\n",
    "            else:\n",
    "                is_c = True\n",
    "                break\n",
    "    if is_c:\n",
    "        break\n",
    "        \n",
    "if is_c:\n",
    "    print('Yes')\n",
    "else:\n",
    "    print('No')"
   ]
  },
  {
   "cell_type": "markdown",
   "metadata": {},
   "source": [
    "D"
   ]
  },
  {
   "cell_type": "code",
   "execution_count": 41,
   "metadata": {},
   "outputs": [
    {
     "name": "stdout",
     "output_type": "stream",
     "text": [
      "30 123456789\n",
      "LRULURLURLULULRURRLRULRRRUURRU\n",
      "126419752371\n"
     ]
    }
   ],
   "source": [
    "n, x = map(int, input().split())\n",
    "s = input()\n",
    " \n",
    "stack = []\n",
    "for v in s:\n",
    "    if v != 'U':\n",
    "        stack.append(v)\n",
    "    else:\n",
    "        if stack and stack[-1] != 'U':\n",
    "            stack.pop()\n",
    "        else:\n",
    "            stack.append('U')\n",
    "\n",
    "for v in stack:\n",
    "    if v == 'U':\n",
    "        x //= 2\n",
    "    elif v == 'R':\n",
    "        x = x * 2 + 1\n",
    "    else:\n",
    "        x *= 2\n",
    "        \n",
    "print(x)"
   ]
  },
  {
   "cell_type": "markdown",
   "metadata": {},
   "source": [
    "E"
   ]
  },
  {
   "cell_type": "code",
   "execution_count": 16,
   "metadata": {},
   "outputs": [
    {
     "name": "stdout",
     "output_type": "stream",
     "text": [
      "5 4\n",
      "1 3 3\n",
      "2 3 9\n",
      "3 5 3\n",
      "4 5 3\n",
      "0\n"
     ]
    }
   ],
   "source": [
    "import sys\n",
    "# input = lambda: sys.stdin.readline().rstrip()\n",
    "\n",
    "n, m = map(int, input().split())\n",
    "edges = [list(map(int, input().split())) for _ in range(m)]\n",
    "\n",
    "inf = float('inf')\n",
    "\n",
    "li = [[inf] * n for _ in range(n)]\n",
    "\n",
    "for a, b, c in edges:\n",
    "    a -= 1\n",
    "    b -= 1\n",
    "    \n",
    "    li[a][b] = c\n",
    "    li[b][a] = c\n",
    "\n",
    "for i in range(n):\n",
    "    li[i][i] = 0\n",
    "    \n",
    "for mid in range(n):\n",
    "    for i in range(n):\n",
    "        for j in range(n):\n",
    "            li[i][j] = min(li[i][j], li[i][mid] + li[mid][j])\n",
    "\n",
    "count = 0\n",
    "for a, b, c in edges:\n",
    "    a -= 1\n",
    "    b -= 1\n",
    "    to_delete = False\n",
    "    \n",
    "    for mid in range(n):\n",
    "        if mid in [a, b]:\n",
    "            continue\n",
    "            \n",
    "        if li[a][mid] + li[mid][b] <= c:\n",
    "            to_delete = True\n",
    "            break\n",
    "        \n",
    "    if to_delete:\n",
    "        count += 1\n",
    "        \n",
    "print(count)"
   ]
  },
  {
   "cell_type": "code",
   "execution_count": 9,
   "metadata": {},
   "outputs": [
    {
     "name": "stdout",
     "output_type": "stream",
     "text": [
      "[0, 2, inf, 6]\n",
      "[2, 0, 2, inf]\n",
      "[inf, 2, 0, 2]\n",
      "[6, inf, 2, 0]\n"
     ]
    }
   ],
   "source": [
    "for v in li:\n",
    "    print(v)"
   ]
  },
  {
   "cell_type": "code",
   "execution_count": null,
   "metadata": {},
   "outputs": [],
   "source": [
    "1 - 3\n",
    "\n",
    "1 - 2 - 3\n",
    "1 - 4 - 3\n",
    "1 - 5 - 3\n",
    "\n"
   ]
  }
 ],
 "metadata": {
  "kernelspec": {
   "display_name": "Python 3",
   "language": "python",
   "name": "python3"
  },
  "language_info": {
   "codemirror_mode": {
    "name": "ipython",
    "version": 3
   },
   "file_extension": ".py",
   "mimetype": "text/x-python",
   "name": "python",
   "nbconvert_exporter": "python",
   "pygments_lexer": "ipython3",
   "version": "3.7.4"
  }
 },
 "nbformat": 4,
 "nbformat_minor": 4
}
