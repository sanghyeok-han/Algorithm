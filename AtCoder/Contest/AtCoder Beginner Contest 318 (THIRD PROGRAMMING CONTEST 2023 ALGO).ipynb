{
 "cells": [
  {
   "cell_type": "markdown",
   "metadata": {},
   "source": [
    "### A"
   ]
  },
  {
   "cell_type": "code",
   "execution_count": 4,
   "metadata": {},
   "outputs": [
    {
     "name": "stdout",
     "output_type": "stream",
     "text": [
      "200000 314 318\n",
      "628\n"
     ]
    }
   ],
   "source": [
    "n, m, p = map(int, input().split())\n",
    "\n",
    "if n < m:\n",
    "    print(0)\n",
    "elif n == m:\n",
    "    print(1)\n",
    "else:\n",
    "    r = (n - m) // p + 1\n",
    "    \n",
    "    print(r)"
   ]
  },
  {
   "cell_type": "markdown",
   "metadata": {},
   "source": [
    "### B"
   ]
  },
  {
   "cell_type": "code",
   "execution_count": 9,
   "metadata": {},
   "outputs": [
    {
     "name": "stdout",
     "output_type": "stream",
     "text": [
      "3\n",
      "0 1 0 1\n",
      "0 3 0 5\n",
      "5 10 0 10\n",
      "65\n"
     ]
    }
   ],
   "source": [
    "n = int(input())\n",
    "\n",
    "result = [[False] * 101 for _ in range(101)]\n",
    "for _ in range(n):\n",
    "    a, b, c, d = map(int, input().split())\n",
    "    \n",
    "    for i in range(a, b):\n",
    "        for j in range(c, d):\n",
    "            result[i][j] = True\n",
    "\n",
    "sv = 0\n",
    "for i in range(101):\n",
    "    for j in range(101):\n",
    "        sv += result[i][j]\n",
    "        \n",
    "print(sv)"
   ]
  },
  {
   "cell_type": "markdown",
   "metadata": {},
   "source": [
    "### C"
   ]
  },
  {
   "cell_type": "code",
   "execution_count": 12,
   "metadata": {},
   "outputs": [
    {
     "name": "stdout",
     "output_type": "stream",
     "text": [
      "8 3 1000000000\n",
      "1000000000 1000000000 1000000000 1000000000 1000000000 1000000000 1000000000 1000000000\n",
      "3000000000\n"
     ]
    }
   ],
   "source": [
    "n, d, p = map(int, input().split())\n",
    "li = sorted(map(int, input().split()))\n",
    "\n",
    "result = sum(li)\n",
    "\n",
    "while li:\n",
    "    is_needed = False\n",
    "    temp_sv = 0\n",
    "    for _ in range(d):\n",
    "        if li:\n",
    "            temp_sv += li.pop()\n",
    "            \n",
    "    if p < temp_sv:\n",
    "        saved = temp_sv - p\n",
    "        result -= saved\n",
    "        is_needed = True\n",
    "        \n",
    "    if not is_needed:\n",
    "        break\n",
    "        \n",
    "print(result)"
   ]
  },
  {
   "cell_type": "markdown",
   "metadata": {},
   "source": [
    "### D"
   ]
  },
  {
   "cell_type": "code",
   "execution_count": 12,
   "metadata": {},
   "outputs": [
    {
     "name": "stdout",
     "output_type": "stream",
     "text": [
      "4\n",
      "1 5 4\n",
      "7 8\n",
      "6\n",
      "13\n"
     ]
    }
   ],
   "source": [
    "def recur(res, sv):\n",
    "    global max_sv\n",
    "    \n",
    "    last = res.pop()\n",
    "    for v in res:\n",
    "        nres = [w for w in res if w != v]\n",
    "        \n",
    "        nsv = sv + values[v][last]\n",
    "        \n",
    "        if len(nres) <= 1:\n",
    "            max_sv = max(max_sv, nsv)\n",
    "        \n",
    "        if nres:\n",
    "            recur(nres, nsv)\n",
    "            \n",
    "    res.append(last)\n",
    "    \n",
    "n = int(input())\n",
    "li = [list(map(int, input().split())) for _ in range(n - 1)]\n",
    "    \n",
    "values = [[0] * n for _ in range(n)]\n",
    "for i in range(n - 1):\n",
    "    for j in range(n - i - 1):\n",
    "        values[i][i + j + 1] = li[i][j]\n",
    "        \n",
    "max_sv = 0\n",
    "\n",
    "res = list(range(n))\n",
    "recur(res, 0)\n",
    "res = list(range(n - 1))\n",
    "if len(res) >= 2:\n",
    "    recur(res, 0)\n",
    "\n",
    "print(max_sv)"
   ]
  },
  {
   "cell_type": "code",
   "execution_count": 15,
   "metadata": {},
   "outputs": [
    {
     "name": "stdout",
     "output_type": "stream",
     "text": [
      "3\n",
      "1 2\n",
      "3\n",
      "3\n"
     ]
    }
   ],
   "source": [
    "# https://github.com/tatyam-prime/SortedSet/blob/main/SortedSet.py\n",
    "import math\n",
    "from bisect import bisect_left, bisect_right\n",
    "from typing import Generic, Iterable, Iterator, TypeVar, Union, List\n",
    "T = TypeVar('T')\n",
    "\n",
    "class SortedSet(Generic[T]):\n",
    "    BUCKET_RATIO = 50\n",
    "    REBUILD_RATIO = 170\n",
    "\n",
    "    def _build(self, a=None) -> None:\n",
    "        \"Evenly divide `a` into buckets.\"\n",
    "        if a is None: a = list(self)\n",
    "        size = self.size = len(a)\n",
    "        bucket_size = int(math.ceil(math.sqrt(size / self.BUCKET_RATIO)))\n",
    "        self.a = [a[size * i // bucket_size : size * (i + 1) // bucket_size] for i in range(bucket_size)]\n",
    "    \n",
    "    def __init__(self, a: Iterable[T] = []) -> None:\n",
    "        \"Make a new SortedSet from iterable. / O(N) if sorted and unique / O(N log N)\"\n",
    "        a = list(a)\n",
    "        if not all(a[i] < a[i + 1] for i in range(len(a) - 1)):\n",
    "            a = sorted(set(a))\n",
    "        self._build(a)\n",
    "\n",
    "    def __iter__(self) -> Iterator[T]:\n",
    "        for i in self.a:\n",
    "            for j in i: yield j\n",
    "\n",
    "    def __reversed__(self) -> Iterator[T]:\n",
    "        for i in reversed(self.a):\n",
    "            for j in reversed(i): yield j\n",
    "    \n",
    "    def __len__(self) -> int:\n",
    "        return self.size\n",
    "    \n",
    "    def __repr__(self) -> str:\n",
    "        return \"SortedSet\" + str(self.a)\n",
    "    \n",
    "    def __str__(self) -> str:\n",
    "        s = str(list(self))\n",
    "        return \"{\" + s[1 : len(s) - 1] + \"}\"\n",
    "\n",
    "    def _find_bucket(self, x: T) -> List[T]:\n",
    "        \"Find the bucket which should contain x. self must not be empty.\"\n",
    "        for a in self.a:\n",
    "            if x <= a[-1]: return a\n",
    "        return a\n",
    "\n",
    "    def __contains__(self, x: T) -> bool:\n",
    "        if self.size == 0: return False\n",
    "        a = self._find_bucket(x)\n",
    "        i = bisect_left(a, x)\n",
    "        return i != len(a) and a[i] == x\n",
    "\n",
    "    def add(self, x: T) -> bool:\n",
    "        \"Add an element and return True if added. / O(√N)\"\n",
    "        if self.size == 0:\n",
    "            self.a = [[x]]\n",
    "            self.size = 1\n",
    "            return True\n",
    "        a = self._find_bucket(x)\n",
    "        i = bisect_left(a, x)\n",
    "        if i != len(a) and a[i] == x: return False\n",
    "        a.insert(i, x)\n",
    "        self.size += 1\n",
    "        if len(a) > len(self.a) * self.REBUILD_RATIO:\n",
    "            self._build()\n",
    "        return True\n",
    "\n",
    "    def discard(self, x: T) -> bool:\n",
    "        \"Remove an element and return True if removed. / O(√N)\"\n",
    "        if self.size == 0: return False\n",
    "        a = self._find_bucket(x)\n",
    "        i = bisect_left(a, x)\n",
    "        if i == len(a) or a[i] != x: return False\n",
    "        a.pop(i)\n",
    "        self.size -= 1\n",
    "        if len(a) == 0: self._build()\n",
    "        return True\n",
    "    \n",
    "    def lt(self, x: T) -> Union[T, None]:\n",
    "        \"Find the largest element < x, or None if it doesn't exist.\"\n",
    "        for a in reversed(self.a):\n",
    "            if a[0] < x:\n",
    "                return a[bisect_left(a, x) - 1]\n",
    "\n",
    "    def le(self, x: T) -> Union[T, None]:\n",
    "        \"Find the largest element <= x, or None if it doesn't exist.\"\n",
    "        for a in reversed(self.a):\n",
    "            if a[0] <= x:\n",
    "                return a[bisect_right(a, x) - 1]\n",
    "\n",
    "    def gt(self, x: T) -> Union[T, None]:\n",
    "        \"Find the smallest element > x, or None if it doesn't exist.\"\n",
    "        for a in self.a:\n",
    "            if a[-1] > x:\n",
    "                return a[bisect_right(a, x)]\n",
    "\n",
    "    def ge(self, x: T) -> Union[T, None]:\n",
    "        \"Find the smallest element >= x, or None if it doesn't exist.\"\n",
    "        for a in self.a:\n",
    "            if a[-1] >= x:\n",
    "                return a[bisect_left(a, x)]\n",
    "    \n",
    "    def __getitem__(self, x: int) -> T:\n",
    "        \"Return the x-th element, or IndexError if it doesn't exist.\"\n",
    "        if x < 0: x += self.size\n",
    "        if x < 0: raise IndexError\n",
    "        for a in self.a:\n",
    "            if x < len(a): return a[x]\n",
    "            x -= len(a)\n",
    "        raise IndexError\n",
    "    \n",
    "    def index(self, x: T) -> int:\n",
    "        \"Count the number of elements < x.\"\n",
    "        ans = 0\n",
    "        for a in self.a:\n",
    "            if a[-1] >= x:\n",
    "                return ans + bisect_left(a, x)\n",
    "            ans += len(a)\n",
    "        return ans\n",
    "\n",
    "    def index_right(self, x: T) -> int:\n",
    "        \"Count the number of elements <= x.\"\n",
    "        ans = 0\n",
    "        for a in self.a:\n",
    "            if a[-1] > x:\n",
    "                return ans + bisect_right(a, x)\n",
    "            ans += len(a)\n",
    "        return \n",
    "    \n",
    "def recur(res, sv):\n",
    "    global max_sv\n",
    "    \n",
    "    last = res[-1]\n",
    "    res.discard(last)\n",
    "    \n",
    "    for i in range(len(res)):\n",
    "        fv = res[i]\n",
    "        nsv = sv + values[fv][last]\n",
    "        \n",
    "        if len(res) <= 1:\n",
    "            max_sv = max(max_sv, nsv)\n",
    "        else:\n",
    "            res.discard(fv)\n",
    "            recur(res, nsv)\n",
    "            res.add(fv)\n",
    "            \n",
    "    res.add(last)\n",
    "    \n",
    "n = int(input())\n",
    "li = [list(map(int, input().split())) for _ in range(n - 1)]\n",
    "    \n",
    "values = [[0] * n for _ in range(n)]\n",
    "for i in range(n - 1):\n",
    "    for j in range(n - i - 1):\n",
    "        values[i][i + j + 1] = li[i][j]\n",
    "        \n",
    "max_sv = 0\n",
    "\n",
    "if n % 2 == 0:\n",
    "    temp_res = list(range(n))\n",
    "    res = SortedSet()\n",
    "    for v in temp_res:\n",
    "        res.add(v)\n",
    "        \n",
    "    recur(res, 0)\n",
    "else:\n",
    "    for to_except in range(n):\n",
    "        temp_res = [v for v in range(n) if v != to_except]\n",
    "        res = SortedSet()\n",
    "        for v in temp_res:\n",
    "            res.add(v)        \n",
    "        \n",
    "        recur(res, 0)\n",
    "\n",
    "print(max_sv)"
   ]
  },
  {
   "cell_type": "markdown",
   "metadata": {},
   "source": [
    "### E"
   ]
  },
  {
   "cell_type": "code",
   "execution_count": 10,
   "metadata": {},
   "outputs": [
    {
     "name": "stdout",
     "output_type": "stream",
     "text": [
      "13\n",
      "9 7 11 7 3 8 1 13 11 11 11 6 13\n",
      "20\n"
     ]
    }
   ],
   "source": [
    "n = int(input())\n",
    "li = list(map(int, input().split()))\n",
    "\n",
    "nli = [[] for _ in range(n + 1)]\n",
    "for i in range(n):\n",
    "    v = li[i]\n",
    "    \n",
    "    nli[v].append(i)\n",
    "    \n",
    "result = 0\n",
    "for num in range(1, n + 1):\n",
    "    diffs = []\n",
    "    for i in range(len(nli[num]) - 1):\n",
    "        diffs.append(nli[num][i + 1] - nli[num][i] - 1)\n",
    "        \n",
    "    total = 0\n",
    "    \n",
    "    cur_sum = 0\n",
    "    cur = 0\n",
    "    for v in diffs:\n",
    "        cur += v\n",
    "        cur_sum += cur\n",
    "        \n",
    "        \n",
    "    total = cur_sum\n",
    "    cur_w = len(diffs)\n",
    "    for i in range(len(diffs) - 1):\n",
    "        cur_sum -= diffs[i] * cur_w\n",
    "        total += cur_sum\n",
    "        cur_w -= 1\n",
    "        \n",
    "    result += total\n",
    "    \n",
    "print(result)"
   ]
  },
  {
   "cell_type": "code",
   "execution_count": 13,
   "metadata": {},
   "outputs": [
    {
     "data": {
      "text/plain": [
       "40320"
      ]
     },
     "execution_count": 13,
     "metadata": {},
     "output_type": "execute_result"
    }
   ],
   "source": [
    "8*7*6*5*4*3*2*1"
   ]
  },
  {
   "cell_type": "code",
   "execution_count": 20,
   "metadata": {},
   "outputs": [
    {
     "name": "stdout",
     "output_type": "stream",
     "text": [
      "Yes\n"
     ]
    }
   ],
   "source": [
    "import io, os, sys\n",
    "sys.setrecursionlimit(200010)\n",
    "# input = io.BytesIO(os.read(0, os.fstat(0).st_size)).readline\n",
    "\n",
    "def dfs(value):\n",
    "    global route\n",
    "    stack.append(value)\n",
    "    in_stack[value] = True\n",
    "    \n",
    "    if value == target:\n",
    "        route = stack.copy()\n",
    "    \n",
    "    if direction == 1:\n",
    "        for v in li[value]:\n",
    "            if not in_stack[v] and v != to_evade:\n",
    "                dfs(v)\n",
    "    else:\n",
    "        for i in range(len(li[value]) - 1, -1, -1):\n",
    "            v = li[value][i]\n",
    "            \n",
    "            if not in_stack[v] and v != to_evade:\n",
    "                dfs(v)\n",
    "                \n",
    "    stack.pop()\n",
    "    in_stack[value] = False\n",
    "    \n",
    "n, m = map(int, input().split())\n",
    "a, b, c = map(int, input().split())\n",
    "\n",
    "li = [[] for _ in range(n + 1)]\n",
    "for _ in range(m):\n",
    "    u, v = map(int, input().split())\n",
    "    li[u].append(v)\n",
    "    li[v].append(u)\n",
    "    \n",
    "for i in range(n + 1):\n",
    "    li[i].sort()\n",
    "    \n",
    "direction = 1\n",
    "target = a\n",
    "to_evade = c\n",
    "route = []\n",
    "in_stack = [False] * (n + 1)\n",
    "stack = []\n",
    "dfs(b)\n",
    "\n",
    "if not route:\n",
    "    print('No')\n",
    "else:\n",
    "    st1 = set(route)\n",
    "    st1.discard(b)\n",
    "    st1.discard(a)\n",
    "\n",
    "    direction = 0\n",
    "    target = c\n",
    "    to_evade = a\n",
    "    route = []\n",
    "    in_stack = [False] * (n + 1)\n",
    "    stack = []\n",
    "    dfs(b)\n",
    "    \n",
    "    if not route:\n",
    "        print('No')\n",
    "    else:\n",
    "        st2 = set(route)\n",
    "        st2.discard(c)\n",
    "        st2.discard(a)\n",
    "        \n",
    "        if not (st1 & st2):\n",
    "            print('Yes')\n",
    "        else:\n",
    "            direction = 0\n",
    "            target = a\n",
    "            to_evade = c\n",
    "            route = []\n",
    "            in_stack = [False] * (n + 1)\n",
    "            stack = []\n",
    "            dfs(b) \n",
    "            \n",
    "            st1 = set(route)\n",
    "            st1.discard(b)\n",
    "            st1.discard(a)\n",
    "            \n",
    "            direction = 1\n",
    "            target = c\n",
    "            to_evade = a\n",
    "            route = []\n",
    "            in_stack = [False] * (n + 1)\n",
    "            stack = []\n",
    "            dfs(b)\n",
    "            \n",
    "            st2 = set(route)\n",
    "            st2.discard(c)\n",
    "            st2.discard(a)\n",
    "            \n",
    "            if not (st1 & st2):\n",
    "                print('Yes')\n",
    "            else:\n",
    "                print('No')"
   ]
  },
  {
   "cell_type": "code",
   "execution_count": 16,
   "metadata": {},
   "outputs": [
    {
     "data": {
      "text/plain": [
       "{3}"
      ]
     },
     "execution_count": 16,
     "metadata": {},
     "output_type": "execute_result"
    }
   ],
   "source": [
    "{2, 3} & {3, 6}"
   ]
  }
 ],
 "metadata": {
  "kernelspec": {
   "display_name": "Python 3",
   "language": "python",
   "name": "python3"
  },
  "language_info": {
   "codemirror_mode": {
    "name": "ipython",
    "version": 3
   },
   "file_extension": ".py",
   "mimetype": "text/x-python",
   "name": "python",
   "nbconvert_exporter": "python",
   "pygments_lexer": "ipython3",
   "version": "3.8.3"
  }
 },
 "nbformat": 4,
 "nbformat_minor": 4
}
