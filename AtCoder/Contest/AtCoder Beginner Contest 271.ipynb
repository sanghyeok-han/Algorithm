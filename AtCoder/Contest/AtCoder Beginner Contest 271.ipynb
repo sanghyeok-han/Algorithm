{
 "cells": [
  {
   "cell_type": "markdown",
   "metadata": {},
   "source": [
    "A"
   ]
  },
  {
   "cell_type": "code",
   "execution_count": 12,
   "metadata": {},
   "outputs": [
    {
     "name": "stdout",
     "output_type": "stream",
     "text": [
      "255\n",
      "FF\n"
     ]
    }
   ],
   "source": [
    "n = int(input())\n",
    "\n",
    "r = hex(n)[2:].upper()\n",
    "r = r.rjust(2, '0')\n",
    "\n",
    "print(r)"
   ]
  },
  {
   "cell_type": "markdown",
   "metadata": {},
   "source": [
    "B"
   ]
  },
  {
   "cell_type": "code",
   "execution_count": null,
   "metadata": {},
   "outputs": [],
   "source": [
    "import sys\n",
    "input = lambda: sys.stdin.readline().rstrip()\n",
    "\n",
    "n, q = map(int, input().split())\n",
    "\n",
    "li = []\n",
    "for _ in range(n):\n",
    "    l, *temp = map(int, input().split())\n",
    "    li.append(temp)\n",
    "    \n",
    "for _ in range(q):\n",
    "    s, t = map(int, input().split())\n",
    "    \n",
    "    s -= 1\n",
    "    t -= 1\n",
    "    \n",
    "    r = li[s][t]\n",
    "    \n",
    "    print(r)"
   ]
  },
  {
   "cell_type": "markdown",
   "metadata": {},
   "source": [
    "C"
   ]
  },
  {
   "cell_type": "code",
   "execution_count": 38,
   "metadata": {},
   "outputs": [
    {
     "name": "stdout",
     "output_type": "stream",
     "text": [
      "6\n",
      "1 2 4 5 6 7\n",
      "5\n"
     ]
    }
   ],
   "source": [
    "def check(target):\n",
    "    to_find = set(range(1, target + 1))\n",
    "    \n",
    "    remained = 0\n",
    "    for i in range(n):\n",
    "        if li[i] in to_find:\n",
    "            to_find.discard(li[i])\n",
    "        else:\n",
    "            remained += 1\n",
    "            \n",
    "    left = len(to_find)\n",
    "    left -= remained // 2\n",
    "    \n",
    "    if left <= 0:\n",
    "        return True\n",
    "    return False\n",
    "\n",
    "n = int(input())\n",
    "li = sorted(map(int, input().split()))\n",
    "          \n",
    "start = 1\n",
    "end = 3 * int(1e5)\n",
    "result = 0\n",
    "while start <= end:\n",
    "    target = (start + end) // 2\n",
    "\n",
    "    if check(target):\n",
    "        result = target\n",
    "        start = target + 1\n",
    "    else:\n",
    "        end = target - 1\n",
    "        \n",
    "print(result)"
   ]
  },
  {
   "cell_type": "markdown",
   "metadata": {},
   "source": [
    "D"
   ]
  },
  {
   "cell_type": "code",
   "execution_count": 25,
   "metadata": {},
   "outputs": [
    {
     "name": "stdout",
     "output_type": "stream",
     "text": [
      "3 11\n",
      "1 4\n",
      "2 3\n",
      "5 7\n",
      "['H', 'T', 'T']\n"
     ]
    }
   ],
   "source": [
    "n, s = map(int, input().split())\n",
    "li = [list(map(int, input().split())) for _ in range(n)]\n",
    "\n",
    "d = {li[0][0]: ['H'], li[0][1]: ['T']}\n",
    "for i in range(1, n):\n",
    "    nd = dict()\n",
    "    for key in d:\n",
    "        nkey1 = key + li[i][0]\n",
    "        if nkey1 not in nd:\n",
    "            temp = d[key].copy()\n",
    "            temp.append('H')\n",
    "            nd[nkey1] = temp\n",
    "        \n",
    "        nkey2 = key + li[i][1]\n",
    "        if nkey2 not in nd:  \n",
    "            temp = d[key].copy()\n",
    "            temp.append('T')\n",
    "            nd[nkey2] = temp\n",
    "            \n",
    "    d = nd.copy()\n",
    "    \n",
    "if s in d:\n",
    "    print('Yes')\n",
    "    print(''.join(d[s]))\n",
    "else:\n",
    "    print('No')"
   ]
  },
  {
   "cell_type": "markdown",
   "metadata": {},
   "source": [
    "E"
   ]
  },
  {
   "cell_type": "code",
   "execution_count": null,
   "metadata": {},
   "outputs": [],
   "source": [
    "import sys\n",
    "input = lambda: sys.stdin.readline().rstrip()\n",
    "\n",
    "inf = float('inf')\n",
    "\n",
    "n, m, k = map(int, input().split())\n",
    "roads = [list(map(int, input().split())) for _ in range(m)]\n",
    "\n",
    "get_value = lambda x: int(x) - 1\n",
    "es = list(map(get_value, input().split()))\n",
    "\n",
    "dists = [inf] * (n + 1)\n",
    "dists[1] = 0\n",
    "\n",
    "for rn in es:\n",
    "    f, t, dist = roads[rn]\n",
    "    \n",
    "    if dists[f] + dist < dists[t]:\n",
    "        dists[t] = dists[f] + dist\n",
    "        \n",
    "if dists[n] == inf:\n",
    "    print(-1)\n",
    "else:\n",
    "    print(dists[n])"
   ]
  },
  {
   "cell_type": "markdown",
   "metadata": {},
   "source": [
    "F"
   ]
  },
  {
   "cell_type": "code",
   "execution_count": 43,
   "metadata": {},
   "outputs": [
    {
     "name": "stdout",
     "output_type": "stream",
     "text": [
      "3\n",
      "1 5 2\n",
      "7 0 5\n",
      "4 2 3\n",
      "0 2 1\n",
      "1 1 2\n",
      "2 0 2\n",
      "2\n"
     ]
    }
   ],
   "source": [
    "from collections import defaultdict as dd\n",
    "\n",
    "n = int(input())\n",
    "li = [list(map(int, input().split())) for _ in range(n)]\n",
    "\n",
    "dp = [[dd(int) for _ in range(n)] for _ in range(n)]\n",
    "\n",
    "dp[0][0][li[0][0]] = 1\n",
    "for i in range(n):\n",
    "    for j in range(n - i):\n",
    "        if i == j == 0:\n",
    "            continue\n",
    "        \n",
    "        if i - 1 >= 0:\n",
    "            for fnum in dp[i - 1][j]:\n",
    "                dp[i][j][fnum ^ li[i][j]] += dp[i - 1][j][fnum]\n",
    "                \n",
    "        if j - 1 >= 0:\n",
    "            for fnum in dp[i][j - 1]:\n",
    "                dp[i][j][fnum ^ li[i][j]] += dp[i][j - 1][fnum]\n",
    "                \n",
    "dp[-1][-1][li[-1][-1]] = 1\n",
    "for i in range(n - 1, -1, -1):\n",
    "    for j in range(n - 1, n - i - 1, -1):\n",
    "        if i == j == n - 1:\n",
    "            continue\n",
    "        \n",
    "        if i + 1 < n:\n",
    "            for fnum in dp[i + 1][j]:\n",
    "                dp[i][j][fnum ^ li[i][j]] += dp[i + 1][j][fnum]\n",
    "                \n",
    "        if j + 1 < n:\n",
    "            for fnum in dp[i][j + 1]:\n",
    "                dp[i][j][fnum ^ li[i][j]] += dp[i][j + 1][fnum]\n",
    "                \n",
    "total = 0\n",
    "for i in range(n):\n",
    "    j = n - 1 - i\n",
    "    for key in dp[i][j]:\n",
    "        if i + 1 < n:\n",
    "            total += dp[i][j][key] * dp[i + 1][j][key]\n",
    "        if j + 1 < n:\n",
    "            total += dp[i][j][key] * dp[i][j + 1][key]\n",
    "            \n",
    "print(total)"
   ]
  },
  {
   "cell_type": "code",
   "execution_count": 40,
   "metadata": {},
   "outputs": [
    {
     "name": "stdout",
     "output_type": "stream",
     "text": [
      "{1: 1} {4: 1} {6: 1} \n",
      "{6: 1} {4: 1, 6: 1} {6: 3, 4: 0} \n",
      "{2: 1} {1: 3, 4: 0, 6: 0, 2: 0} {3: 3} \n"
     ]
    }
   ],
   "source": [
    "for v in dp:\n",
    "    for w in v:\n",
    "        print(dict(w), end=' ')\n",
    "    print()"
   ]
  },
  {
   "cell_type": "code",
   "execution_count": 41,
   "metadata": {},
   "outputs": [
    {
     "data": {
      "text/plain": [
       "3"
      ]
     },
     "execution_count": 41,
     "metadata": {},
     "output_type": "execute_result"
    }
   ],
   "source": []
  },
  {
   "cell_type": "code",
   "execution_count": 33,
   "metadata": {},
   "outputs": [
    {
     "data": {
      "text/plain": [
       "[[defaultdict(int, {1: 1}),\n",
       "  defaultdict(int, {4: 1}),\n",
       "  defaultdict(int, {6: 1})],\n",
       " [defaultdict(int, {6: 1}),\n",
       "  defaultdict(int, {4: 1, 6: 1}),\n",
       "  defaultdict(int, {6: 3, 4: 0})],\n",
       " [defaultdict(int, {2: 1}),\n",
       "  defaultdict(int, {1: 3, 4: 0, 6: 0, 2: 0}),\n",
       "  defaultdict(int, {3: 3})]]"
      ]
     },
     "execution_count": 33,
     "metadata": {},
     "output_type": "execute_result"
    }
   ],
   "source": [
    "3\n",
    "1 5 2\n",
    "7 0 5\n",
    "4 2 3"
   ]
  },
  {
   "cell_type": "code",
   "execution_count": 24,
   "metadata": {},
   "outputs": [
    {
     "data": {
      "text/plain": [
       "4"
      ]
     },
     "execution_count": 24,
     "metadata": {},
     "output_type": "execute_result"
    }
   ],
   "source": [
    "1 ^ 5"
   ]
  },
  {
   "cell_type": "code",
   "execution_count": 6,
   "metadata": {},
   "outputs": [
    {
     "name": "stdout",
     "output_type": "stream",
     "text": [
      "0 1 2\n",
      "1 0 2\n"
     ]
    }
   ],
   "source": [
    "for i in range(n):\n",
    "    print(i, n - 1 - i, li[i][n - 1 - i])"
   ]
  },
  {
   "cell_type": "code",
   "execution_count": 3,
   "metadata": {},
   "outputs": [
    {
     "name": "stdout",
     "output_type": "stream",
     "text": [
      "2 2\n",
      "2 1\n",
      "1 2\n"
     ]
    }
   ],
   "source": [
    "n = 3\n",
    "\n",
    "for i in range(n - 1, -1, -1):\n",
    "    for j in range(n - 1, n - i - 1, -1):\n",
    "        print(i, j)"
   ]
  }
 ],
 "metadata": {
  "kernelspec": {
   "display_name": "Python 3",
   "language": "python",
   "name": "python3"
  },
  "language_info": {
   "codemirror_mode": {
    "name": "ipython",
    "version": 3
   },
   "file_extension": ".py",
   "mimetype": "text/x-python",
   "name": "python",
   "nbconvert_exporter": "python",
   "pygments_lexer": "ipython3",
   "version": "3.7.4"
  }
 },
 "nbformat": 4,
 "nbformat_minor": 2
}
