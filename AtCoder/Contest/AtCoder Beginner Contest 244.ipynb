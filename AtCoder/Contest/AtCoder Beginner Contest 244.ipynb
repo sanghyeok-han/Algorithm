{
 "cells": [
  {
   "cell_type": "markdown",
   "metadata": {},
   "source": [
    "A"
   ]
  },
  {
   "cell_type": "code",
   "execution_count": 2,
   "metadata": {},
   "outputs": [
    {
     "name": "stdout",
     "output_type": "stream",
     "text": [
      "1\n",
      "a\n",
      "a\n"
     ]
    }
   ],
   "source": [
    "n = int(input())\n",
    "s = input()\n",
    "\n",
    "r = s[-1]\n",
    "\n",
    "print(r)"
   ]
  },
  {
   "cell_type": "markdown",
   "metadata": {},
   "source": [
    "B"
   ]
  },
  {
   "cell_type": "code",
   "execution_count": 4,
   "metadata": {},
   "outputs": [
    {
     "name": "stdout",
     "output_type": "stream",
     "text": [
      "20\n",
      "SRSRSSRSSSRSRRRRRSRR\n",
      "0 1\n"
     ]
    }
   ],
   "source": [
    "n = int(input())\n",
    "s = input()\n",
    "\n",
    "x, y = 0, 0\n",
    "# 동, 남, 서, 북\n",
    "dx = [1, 0, -1, 0]\n",
    "dy = [0, -1, 0, 1]\n",
    "d = 0\n",
    "for v in s:\n",
    "    if v == 'S':\n",
    "        x += dx[d]\n",
    "        y += dy[d]\n",
    "    else:\n",
    "        d += 1\n",
    "        if d == 4:\n",
    "            d = 0\n",
    "            \n",
    "print(x, y)"
   ]
  },
  {
   "cell_type": "markdown",
   "metadata": {},
   "source": [
    "C"
   ]
  },
  {
   "cell_type": "code",
   "execution_count": null,
   "metadata": {},
   "outputs": [],
   "source": [
    "# 참고 코드\n",
    "import sys\n",
    " \n",
    "start = 1\n",
    "end = 1000000\n",
    " \n",
    "result = 0\n",
    "st = set()\n",
    "while start <= end:\n",
    "    mid = (start + end + 1) // 2\n",
    "    \n",
    "    print(mid)\n",
    "    sys.stdout.flush()\n",
    "    \n",
    "    feedback = input()\n",
    "    \n",
    "    if feedback == '<':\n",
    "        end = mid - 1\n",
    "    else:\n",
    "        start = mid\n",
    "        if mid in st:\n",
    "            break\n",
    "        st.add(mid)\n",
    "        \n",
    "result = f\"! {mid}\"\n",
    "print(result)\n",
    "sys.stdout.flush()"
   ]
  },
  {
   "cell_type": "code",
   "execution_count": 6,
   "metadata": {},
   "outputs": [
    {
     "name": "stdout",
     "output_type": "stream",
     "text": [
      "2\n"
     ]
    },
    {
     "data": {
      "text/plain": [
       "{1, 2, 3, 4, 5}"
      ]
     },
     "execution_count": 6,
     "metadata": {},
     "output_type": "execute_result"
    }
   ],
   "source": [
    "import sys\n",
    "\n",
    "n = int(input())\n",
    "\n",
    "st = set(range(1, 2 * n + 2))\n",
    "while True:\n",
    "    cand = st.pop()\n",
    "    print(cand)\n",
    "    sys.stdout.flush()\n",
    "\n",
    "    feedback = int(input())\n",
    "    if feedback == 0:\n",
    "        break\n",
    "    st.discard(feedback)"
   ]
  },
  {
   "cell_type": "markdown",
   "metadata": {},
   "source": [
    "D"
   ]
  },
  {
   "cell_type": "code",
   "execution_count": 18,
   "metadata": {},
   "outputs": [
    {
     "name": "stdout",
     "output_type": "stream",
     "text": [
      "R G B\n",
      "B R G\n",
      "Yes\n"
     ]
    }
   ],
   "source": [
    "from collections import Counter\n",
    "\n",
    "s = input().split()\n",
    "t = input().split()\n",
    "\n",
    "if Counter(s) != Counter(t):\n",
    "    print('No')\n",
    "else:\n",
    "    diff_count = 0\n",
    "    for i in range(3):\n",
    "        if s[i] != t[i]:\n",
    "            diff_count += 1\n",
    "    \n",
    "    if diff_count == 2:\n",
    "        print('No')\n",
    "    else:\n",
    "        print('Yes')"
   ]
  },
  {
   "cell_type": "code",
   "execution_count": null,
   "metadata": {},
   "outputs": [],
   "source": [
    "모두 같음 = O\n",
    "두개다름 = X\n",
    "세개 다름 = O"
   ]
  },
  {
   "cell_type": "markdown",
   "metadata": {},
   "source": [
    "E"
   ]
  },
  {
   "cell_type": "code",
   "execution_count": 24,
   "metadata": {},
   "outputs": [
    {
     "name": "stdout",
     "output_type": "stream",
     "text": [
      "6 5 10 1 2 3\n",
      "2 3\n",
      "2 4\n",
      "4 6\n",
      "3 6\n",
      "1 5\n",
      "0\n"
     ]
    }
   ],
   "source": [
    "import sys\n",
    "input = lambda: sys.stdin.readline().rstrip()\n",
    "\n",
    "mod = 998244353\n",
    "\n",
    "n, m, k, s, t, x = map(int, input().split())\n",
    "li = [[] for _ in range(n + 1)]\n",
    "for _ in range(m):\n",
    "    u, v = map(int, input().split())\n",
    "    \n",
    "    li[u].append(v)\n",
    "    li[v].append(u)\n",
    "    \n",
    "dp = [[[0] * 2 for _ in range(n + 1)] for _ in range(k + 1)]\n",
    "dp[0][s][0] = 1\n",
    "\n",
    "for seq in range(1, k + 1):\n",
    "    for value in range(1, n + 1):\n",
    "        for v in li[value]:\n",
    "            if value != x:\n",
    "                dp[seq][value][0] += dp[seq - 1][v][0]\n",
    "                dp[seq][value][1] += dp[seq - 1][v][1]\n",
    "            else:\n",
    "                dp[seq][value][1] += dp[seq - 1][v][0]\n",
    "                dp[seq][value][0] += dp[seq - 1][v][1]                \n",
    "            dp[seq][value][0] %= mod\n",
    "            dp[seq][value][1] %= mod\n",
    "\n",
    "print(dp[k][t][0] % mod)"
   ]
  },
  {
   "cell_type": "markdown",
   "metadata": {},
   "source": [
    "F"
   ]
  },
  {
   "cell_type": "code",
   "execution_count": null,
   "metadata": {},
   "outputs": [],
   "source": [
    "2 ** 17번 브루트포스 가능할 거로 추정됨"
   ]
  },
  {
   "cell_type": "code",
   "execution_count": null,
   "metadata": {},
   "outputs": [],
   "source": [
    "n, m = map(int, input().split())\n",
    "li = [[] for _ in range(n + 1)]\n",
    "\n"
   ]
  },
  {
   "cell_type": "code",
   "execution_count": 34,
   "metadata": {},
   "outputs": [
    {
     "name": "stdout",
     "output_type": "stream",
     "text": [
      "5 5\n",
      "4 2\n",
      "2 3\n",
      "1 3\n",
      "2 1\n",
      "1 5\n",
      "47\n"
     ]
    }
   ],
   "source": [
    "import sys\n",
    "# input = lambda: sys.stdin.readline().rstrip()\n",
    "\n",
    "inf = float('inf')\n",
    "\n",
    "n, m = map(int, input().split())\n",
    "\n",
    "li = [[inf] * n for _ in range(n)]\n",
    "    \n",
    "for _ in range(m):\n",
    "    a, b = map(int, input().split())\n",
    "    a -= 1\n",
    "    b -= 1\n",
    "    li[a][b] = 1\n",
    "    li[b][a] = 1\n",
    "    \n",
    "for value in range(n):\n",
    "    li[value][value] = 0\n",
    "    \n",
    "for mid in range(n):\n",
    "    for i in range(n):\n",
    "        for j in range(n):\n",
    "            li[i][j] = min(li[i][j], li[i][mid] + li[mid][j])\n",
    "    \n",
    "tt = 0\n",
    "for v in li:\n",
    "    tt += sum(v)\n",
    "    \n",
    "print(tt + n * (n + 1) // 2)"
   ]
  },
  {
   "cell_type": "code",
   "execution_count": null,
   "metadata": {},
   "outputs": [],
   "source": []
  }
 ],
 "metadata": {
  "kernelspec": {
   "display_name": "Python 3",
   "language": "python",
   "name": "python3"
  },
  "language_info": {
   "codemirror_mode": {
    "name": "ipython",
    "version": 3
   },
   "file_extension": ".py",
   "mimetype": "text/x-python",
   "name": "python",
   "nbconvert_exporter": "python",
   "pygments_lexer": "ipython3",
   "version": "3.7.4"
  }
 },
 "nbformat": 4,
 "nbformat_minor": 4
}
