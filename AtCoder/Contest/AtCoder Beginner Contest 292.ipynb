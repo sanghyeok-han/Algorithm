{
 "cells": [
  {
   "cell_type": "markdown",
   "metadata": {},
   "source": [
    "A"
   ]
  },
  {
   "cell_type": "code",
   "execution_count": 1,
   "metadata": {},
   "outputs": [
    {
     "name": "stdout",
     "output_type": "stream",
     "text": [
      "abc\n",
      "ABC\n"
     ]
    }
   ],
   "source": [
    "s = input()\n",
    "\n",
    "r = s.upper()\n",
    "\n",
    "print(r)"
   ]
  },
  {
   "cell_type": "markdown",
   "metadata": {},
   "source": [
    "B"
   ]
  },
  {
   "cell_type": "code",
   "execution_count": null,
   "metadata": {},
   "outputs": [],
   "source": [
    "n, q = map(int, input().split())\n",
    "\n",
    "curs = [0] * (n + 1)\n",
    "for _ in range(q):\n",
    "    tp, x = map(int, input().split())\n",
    "    \n",
    "    if tp == 1:\n",
    "        curs[x] += 1\n",
    "    elif tp == 2:\n",
    "        curs[x] += 2\n",
    "    else:\n",
    "        if curs[x] >= 2:\n",
    "            print('Yes')\n",
    "        else:\n",
    "            print('No')"
   ]
  },
  {
   "cell_type": "markdown",
   "metadata": {},
   "source": [
    "C"
   ]
  },
  {
   "cell_type": "code",
   "execution_count": null,
   "metadata": {},
   "outputs": [],
   "source": [
    "max_num = 200001\n",
    "sp = [0] * (max_num + 1)\n",
    "primes = []\n",
    "for i in range(2, max_num + 1):\n",
    "    if sp[i] == 0:\n",
    "        sp[i] = i\n",
    "        primes.append(i)\n",
    "        \n",
    "    j = 0\n",
    "    while j < len(primes) and i * primes[j] <= max_num and primes[j] <= sp[i]:\n",
    "        sp[i * primes[j]] = primes[j]\n",
    "        j += 1\n",
    "        \n"
   ]
  },
  {
   "cell_type": "code",
   "execution_count": 7,
   "metadata": {},
   "outputs": [
    {
     "name": "stdout",
     "output_type": "stream",
     "text": [
      "19876\n",
      "2219958\n"
     ]
    }
   ],
   "source": [
    "class dict_(dict):\n",
    "    def __missing__(self, key):\n",
    "        return 0\n",
    "\n",
    "max_num = 200001\n",
    "sp = [0] * (max_num + 1)\n",
    "primes = []\n",
    "for i in range(2, max_num + 1):\n",
    "    if sp[i] == 0:\n",
    "        sp[i] = i\n",
    "        primes.append(i)\n",
    "        \n",
    "    j = 0\n",
    "    while j < len(primes) and i * primes[j] <= max_num and primes[j] <= sp[i]:\n",
    "        sp[i * primes[j]] = primes[j]\n",
    "        j += 1\n",
    "    \n",
    "n = int(input())\n",
    "cs = [0] * n\n",
    "for onum in range(1, n):\n",
    "    \n",
    "    num = onum\n",
    "    ct = dict_()\n",
    "    while num > 1:\n",
    "        ct[sp[num]] += 1\n",
    "        num //= sp[num]\n",
    "    \n",
    "    c = 1\n",
    "    for key in ct:\n",
    "        c *= ct[key] + 1\n",
    "    \n",
    "    cs[onum] = c\n",
    "    \n",
    "result = 0\n",
    "for a in range(1, n):\n",
    "    b = n - a\n",
    "    \n",
    "    result += cs[a] * cs[b]\n",
    "    \n",
    "print(result)"
   ]
  },
  {
   "cell_type": "markdown",
   "metadata": {},
   "source": [
    "D"
   ]
  },
  {
   "cell_type": "code",
   "execution_count": null,
   "metadata": {},
   "outputs": [],
   "source": [
    "from collections import deque\n",
    "import io, os, sys\n",
    "input = io.BytesIO(os.read(0, os.fstat(0).st_size)).readline\n",
    "\n",
    "n, m = map(int, input().split())\n",
    "li = [[] for _ in range(n + 1)]\n",
    "\n",
    "for edge_num in range(m):\n",
    "    u, v = map(int, input().split())\n",
    "   \n",
    "    li[u].append((v, edge_num))\n",
    "    li[v].append((u, edge_num))\n",
    "    \n",
    "vt = [False] * (n + 1)\n",
    "ip = True\n",
    "for start in range(1, n + 1):\n",
    "    if vt[start]:\n",
    "        continue\n",
    "    vt[start] = True\n",
    "    \n",
    "    queue = deque()\n",
    "    queue.append(start)\n",
    "    \n",
    "    node_c = 1\n",
    "    edge_nums = set()\n",
    "    while queue:\n",
    "        value = queue.popleft()\n",
    "        \n",
    "        for v, edge_num in li[value]:\n",
    "            edge_nums.add(edge_num)\n",
    "            if not vt[v]:\n",
    "                node_c += 1\n",
    "                vt[v] = True\n",
    "                queue.append(v)\n",
    "                \n",
    "    edge_c = len(edge_nums)\n",
    "    if node_c != edge_c:\n",
    "        ip = False\n",
    "        break\n",
    "        \n",
    "if ip:\n",
    "    print('Yes')\n",
    "else:\n",
    "    print('No')"
   ]
  },
  {
   "cell_type": "markdown",
   "metadata": {},
   "source": [
    "E"
   ]
  },
  {
   "cell_type": "code",
   "execution_count": 40,
   "metadata": {},
   "outputs": [
    {
     "name": "stdout",
     "output_type": "stream",
     "text": [
      "4 3\n",
      "2 4\n",
      "3 1\n",
      "4 3\n",
      "3\n"
     ]
    }
   ],
   "source": [
    "from collections import deque\n",
    "import io, os, sys\n",
    "sys.setrecursionlimit(5000)\n",
    "input = io.BytesIO(os.read(0, os.fstat(0).st_size)).readline\n",
    "\n",
    "def dfs(value):\n",
    "    global next_id\n",
    "    \n",
    "    stack.append(value)\n",
    "    on_stack[value] = True\n",
    "    min_id = ids[value]\n",
    "    \n",
    "    for v in li[value]:\n",
    "        if ids[v] != 0:\n",
    "            if not on_stack[v]:\n",
    "                continue\n",
    "            min_id = min(min_id, low_ids[v])\n",
    "        else:\n",
    "            ids[v] = next_id\n",
    "            low_ids[v] = next_id\n",
    "            next_id += 1\n",
    "            temp = dfs(v)\n",
    "            min_id = min(min_id, temp)\n",
    "        \n",
    "    low_ids[value] = min_id\n",
    "         \n",
    "    if ids[value] == low_ids[value]:\n",
    "        temp_r = []\n",
    "        while True:\n",
    "            v = stack.pop()\n",
    "            temp_r.append(v)\n",
    "            on_stack[v] = False\n",
    "            \n",
    "            if value == v:\n",
    "                break\n",
    "        r.append(temp_r)\n",
    "        \n",
    "    return min_id\n",
    "    \n",
    "n, m = map(int, input().split())\n",
    "li = [[] for _ in range(n + 1)]\n",
    "for _ in range(m):\n",
    "    a, b = map(int, input().split())\n",
    "    \n",
    "    li[a].append(b)\n",
    "    \n",
    "ids = [0] * (n + 1)\n",
    "low_ids = [0] * (n + 1)\n",
    "on_stack = [False] * (n + 1)\n",
    "stack = []\n",
    "r = []\n",
    "next_id = 1\n",
    "\n",
    "for i in range(1, n + 1):\n",
    "    if ids[i] == 0:\n",
    "        ids[i] = next_id\n",
    "        low_ids[i] = next_id\n",
    "        next_id += 1\n",
    "        dfs(i)\n",
    "        \n",
    "in_groups = [-1] * (n + 1)\n",
    "for i in range(len(r)):\n",
    "    for v in r[i]:\n",
    "        in_groups[v] = i\n",
    "        \n",
    "vt = [False] * (n + 1)\n",
    "scc_li = [set() for _ in range(len(r))]\n",
    "scc_rli = [set() for _ in range(len(r))]\n",
    "scc_indegree = [0] * len(r)\n",
    "for ri in range(len(r) - 1, -1, -1):\n",
    "    start = r[ri][0]\n",
    "    \n",
    "    if vt[start]:\n",
    "        continue\n",
    "    vt[start] = True\n",
    "    \n",
    "    queue = deque()\n",
    "    queue.append(start)\n",
    "    while queue:\n",
    "        value = queue.popleft()\n",
    "        \n",
    "        for v in li[value]:\n",
    "            scc_li[in_groups[value]].add(in_groups[v])\n",
    "            scc_rli[in_groups[v]].add(in_groups[value])\n",
    "            \n",
    "            if not vt[v]:\n",
    "                vt[v] = True\n",
    "                queue.append(v)\n",
    "                \n",
    "needed = 0\n",
    "for v in r:\n",
    "    needed += len(v) * (len(v) - 1)\n",
    "                \n",
    "for i in range(len(r)):\n",
    "    scc_li[i].discard(i)\n",
    "    scc_rli[i].discard(i)\n",
    "    \n",
    "    scc_indegree[i] = len(scc_rli[i])\n",
    "    \n",
    "queue = deque()\n",
    "for i in range(len(r)):\n",
    "    if scc_indegree[i] == 0:\n",
    "        queue.append(i)\n",
    "        \n",
    "dp = [0] * len(r)\n",
    "while queue:\n",
    "    value = queue.popleft()\n",
    "    \n",
    "    for v in scc_li[value]:\n",
    "        scc_indegree[v] -= 1\n",
    "        dp[v] += dp[value] + len(r[value])\n",
    "        \n",
    "        if scc_indegree[v] == 0:\n",
    "            queue.append(v)\n",
    "            \n",
    "needed += sum(dp)\n",
    "\n",
    "print(needed - m)"
   ]
  },
  {
   "cell_type": "code",
   "execution_count": null,
   "metadata": {},
   "outputs": [],
   "source": []
  },
  {
   "cell_type": "code",
   "execution_count": 39,
   "metadata": {},
   "outputs": [
    {
     "data": {
      "text/plain": [
       "10"
      ]
     },
     "execution_count": 39,
     "metadata": {},
     "output_type": "execute_result"
    }
   ],
   "source": [
    "needed"
   ]
  },
  {
   "cell_type": "code",
   "execution_count": 33,
   "metadata": {},
   "outputs": [
    {
     "data": {
      "text/plain": [
       "[3, 2, 1, 0]"
      ]
     },
     "execution_count": 33,
     "metadata": {},
     "output_type": "execute_result"
    }
   ],
   "source": [
    "dp"
   ]
  },
  {
   "cell_type": "code",
   "execution_count": 30,
   "metadata": {},
   "outputs": [
    {
     "data": {
      "text/plain": [
       "[set(), {0}, {1}, {2}]"
      ]
     },
     "execution_count": 30,
     "metadata": {},
     "output_type": "execute_result"
    }
   ],
   "source": [
    "scc_li"
   ]
  },
  {
   "cell_type": "code",
   "execution_count": 29,
   "metadata": {},
   "outputs": [
    {
     "data": {
      "text/plain": [
       "[{1}, {2}, {3}, set()]"
      ]
     },
     "execution_count": 29,
     "metadata": {},
     "output_type": "execute_result"
    }
   ],
   "source": [
    "scc_rli"
   ]
  },
  {
   "cell_type": "code",
   "execution_count": 23,
   "metadata": {},
   "outputs": [
    {
     "data": {
      "text/plain": [
       "[set(), {0}, {1}, {2}]"
      ]
     },
     "execution_count": 23,
     "metadata": {},
     "output_type": "execute_result"
    }
   ],
   "source": [
    "scc_li"
   ]
  },
  {
   "cell_type": "code",
   "execution_count": 18,
   "metadata": {},
   "outputs": [
    {
     "data": {
      "text/plain": [
       "[0, 0, 1, 0]"
      ]
     },
     "execution_count": 18,
     "metadata": {},
     "output_type": "execute_result"
    }
   ],
   "source": [
    "dp"
   ]
  },
  {
   "cell_type": "code",
   "execution_count": 13,
   "metadata": {},
   "outputs": [
    {
     "data": {
      "text/plain": [
       "([0, 1, 2, 4, 3], [0, 1, 2, 4, 3])"
      ]
     },
     "execution_count": 13,
     "metadata": {},
     "output_type": "execute_result"
    }
   ],
   "source": [
    "ids, low_ids"
   ]
  }
 ],
 "metadata": {
  "kernelspec": {
   "display_name": "Python 3",
   "language": "python",
   "name": "python3"
  },
  "language_info": {
   "codemirror_mode": {
    "name": "ipython",
    "version": 3
   },
   "file_extension": ".py",
   "mimetype": "text/x-python",
   "name": "python",
   "nbconvert_exporter": "python",
   "pygments_lexer": "ipython3",
   "version": "3.8.3"
  }
 },
 "nbformat": 4,
 "nbformat_minor": 4
}
