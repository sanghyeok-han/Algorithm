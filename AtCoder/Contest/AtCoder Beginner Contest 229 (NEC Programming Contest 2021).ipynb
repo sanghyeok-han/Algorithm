{
 "cells": [
  {
   "cell_type": "markdown",
   "metadata": {},
   "source": [
    "A"
   ]
  },
  {
   "cell_type": "code",
   "execution_count": 2,
   "metadata": {},
   "outputs": [
    {
     "name": "stdout",
     "output_type": "stream",
     "text": [
      ".#\n",
      "#.\n",
      "No\n"
     ]
    }
   ],
   "source": [
    "li = [input() for _ in range(2)]\n",
    "\n",
    "if li[0] == '.#' and li[1] == '#.' or li[0] == '#.' and li[1] == '.#':\n",
    "    print('No')\n",
    "else:\n",
    "    print('Yes')"
   ]
  },
  {
   "cell_type": "markdown",
   "metadata": {},
   "source": [
    "B"
   ]
  },
  {
   "cell_type": "code",
   "execution_count": 7,
   "metadata": {},
   "outputs": [
    {
     "name": "stdout",
     "output_type": "stream",
     "text": [
      "123456789 9876543210\n",
      "Easy\n"
     ]
    }
   ],
   "source": [
    "a, b = input().split()\n",
    "\n",
    "al = len(a)\n",
    "bl = len(b)\n",
    "\n",
    "ml = max(al, bl)\n",
    "\n",
    "a = a.rjust(ml, '0')\n",
    "b = b.rjust(ml, '0')\n",
    "\n",
    "for i in range(ml):\n",
    "    if int(a[i]) + int(b[i]) >= 10:\n",
    "        print('Hard')\n",
    "        break\n",
    "else:\n",
    "    print('Easy')"
   ]
  },
  {
   "cell_type": "markdown",
   "metadata": {},
   "source": [
    "C"
   ]
  },
  {
   "cell_type": "code",
   "execution_count": 11,
   "metadata": {},
   "outputs": [
    {
     "name": "stdout",
     "output_type": "stream",
     "text": [
      "4 100\n",
      "6 2\n",
      "1 5\n",
      "3 9\n",
      "8 7\n"
     ]
    }
   ],
   "source": [
    "n, w = map(int, input().split())\n",
    "\n",
    "li = [list(map(int, input().split())) for _ in range(n)]\n",
    "li.sort(key=lambda x: -x[0])"
   ]
  },
  {
   "cell_type": "code",
   "execution_count": 12,
   "metadata": {},
   "outputs": [
    {
     "name": "stdout",
     "output_type": "stream",
     "text": [
      "100\n"
     ]
    }
   ],
   "source": [
    "n, w = map(int, input().split())\n",
    "\n",
    "li = [list(map(int, input().split())) for _ in range(n)]\n",
    "li.sort(key=lambda x: -x[0])\n",
    "\n",
    "total = 0\n",
    "for a, b in li:\n",
    "    to_use = min(w, b)\n",
    "    total += a * to_use\n",
    "    w -= to_use\n",
    "    \n",
    "print(total)"
   ]
  },
  {
   "cell_type": "code",
   "execution_count": null,
   "metadata": {},
   "outputs": [],
   "source": [
    "이분탐색, 누적합"
   ]
  },
  {
   "cell_type": "code",
   "execution_count": 26,
   "metadata": {},
   "outputs": [
    {
     "name": "stdout",
     "output_type": "stream",
     "text": [
      "XXXX\n",
      "200000\n",
      "4\n"
     ]
    }
   ],
   "source": [
    "s = input()\n",
    "k = int(input())\n",
    "\n",
    "n =len(s)\n",
    "li = [0] * n\n",
    "for i in range(n):\n",
    "    if s[i] == 'X':\n",
    "        li[i] = 0\n",
    "    else:\n",
    "        li[i] = 1\n",
    "        \n",
    "start = 0\n",
    "end = n\n",
    "result = 0\n",
    "while start <= end:\n",
    "    mid = (start + end) // 2\n",
    "    \n",
    "    cur_sum = 0\n",
    "    for i in range(mid):\n",
    "        cur_sum += li[i]\n",
    "    \n",
    "    ip = False\n",
    "    for i in range(mid, n + 1):\n",
    "        if cur_sum <= k:\n",
    "            ip = True\n",
    "            break\n",
    "            \n",
    "        if i == n:\n",
    "            break\n",
    "        cur_sum -= li[i - mid]\n",
    "        cur_sum += li[i]\n",
    "    \n",
    "    if ip:\n",
    "        result = mid\n",
    "        start = mid + 1\n",
    "    else:\n",
    "        end = mid - 1\n",
    "        \n",
    "print(result)"
   ]
  },
  {
   "cell_type": "markdown",
   "metadata": {},
   "source": [
    "### E"
   ]
  },
  {
   "cell_type": "code",
   "execution_count": null,
   "metadata": {},
   "outputs": [],
   "source": [
    "오프라인 쿼리\n",
    "뒤에서부터 추가해나감\n",
    "\n",
    "주어진 간선들을 노드 번호의 min 값으로 정렬함\n",
    "뒤에서부터 보면서 가능하면 pop으로 빼내고 분리집합으로 연결함\n",
    "\n",
    "현재까지 있는 노드 수 - parent가 다른 것들끼리 연결된 누적 횟수를 구함"
   ]
  },
  {
   "cell_type": "code",
   "execution_count": 34,
   "metadata": {},
   "outputs": [
    {
     "name": "stdout",
     "output_type": "stream",
     "text": [
      "1 0\n",
      "1\n",
      "0\n"
     ]
    }
   ],
   "source": [
    "def find(v):\n",
    "    if parent[v] == v:\n",
    "        return v\n",
    "    parent[v] = find(parent[v])\n",
    "    return parent[v]\n",
    "\n",
    "def union(ra, rb):\n",
    "    if rank[ra] >= rank[rb]:\n",
    "        if rank[ra] == rank[rb]:\n",
    "            rank[ra] += 1\n",
    "        parent[rb] = ra\n",
    "    else:\n",
    "        parent[ra] = rb\n",
    "        \n",
    "n, m = map(int, input().split())\n",
    "edges = []\n",
    "for _ in range(m):\n",
    "    a, b = map(int, input().split())\n",
    "    \n",
    "    edges.append((a, b, min(a, b)))\n",
    "    \n",
    "edges.sort(key=lambda x: x[2])\n",
    "\n",
    "if n == 1:\n",
    "    print(0)\n",
    "elif n == 2:\n",
    "    print(1)\n",
    "    print(0)\n",
    "else:\n",
    "    parent = list(range(n + 1))\n",
    "    rank = [0] * (n + 1)\n",
    "\n",
    "    tcc = 0 # total connected count\n",
    "    result = [0, 1]\n",
    "    cnc = 2 # cur node count\n",
    "    for node in range(n - 1, 1, -1):\n",
    "\n",
    "        while edges:\n",
    "            a, b, mv = edges.pop()\n",
    "            if mv >= node:\n",
    "                ra = find(a)\n",
    "                rb = find(b)\n",
    "\n",
    "                if ra != rb:\n",
    "                    tcc += 1\n",
    "                    union(ra, rb)\n",
    "            else:\n",
    "                edges.append((a, b, mv))\n",
    "                break\n",
    "\n",
    "        result.append(cnc - tcc)\n",
    "        cnc += 1\n",
    "\n",
    "    print('\\n'.join(map(str, reversed(result))))"
   ]
  },
  {
   "cell_type": "markdown",
   "metadata": {},
   "source": [
    "### F"
   ]
  },
  {
   "cell_type": "code",
   "execution_count": 35,
   "metadata": {},
   "outputs": [
    {
     "data": {
      "text/plain": [
       "49.82892142331043"
      ]
     },
     "execution_count": 35,
     "metadata": {},
     "output_type": "execute_result"
    }
   ],
   "source": [
    "edge의 가중치가 큰 것부터 차례대로 이분 그래프를 깨트리지 않는 선에서 연결함"
   ]
  },
  {
   "cell_type": "code",
   "execution_count": null,
   "metadata": {},
   "outputs": [],
   "source": [
    "n = int(input())\n",
    "temp = list(map(int, input().split()))\n",
    "\n",
    "edges = []\n",
    "for v in edges:\n",
    "    \n"
   ]
  },
  {
   "cell_type": "markdown",
   "metadata": {},
   "source": [
    "### G"
   ]
  },
  {
   "cell_type": "code",
   "execution_count": null,
   "metadata": {},
   "outputs": [],
   "source": []
  },
  {
   "cell_type": "markdown",
   "metadata": {},
   "source": [
    "### 제출용 파트"
   ]
  },
  {
   "cell_type": "code",
   "execution_count": null,
   "metadata": {},
   "outputs": [],
   "source": [
    "import os\n",
    "import sys\n",
    "from io import BytesIO, IOBase\n",
    " \n",
    "\n",
    "def main():\n",
    "    def find(v):\n",
    "        if parent[v] == v:\n",
    "            return v\n",
    "        parent[v] = find(parent[v])\n",
    "        return parent[v]\n",
    "\n",
    "    def union(ra, rb):\n",
    "        if rank[ra] >= rank[rb]:\n",
    "            if rank[ra] == rank[rb]:\n",
    "                rank[ra] += 1\n",
    "            parent[rb] = ra\n",
    "        else:\n",
    "            parent[ra] = rb\n",
    "\n",
    "    n, m = map(int, input().split())\n",
    "    edges = []\n",
    "    for _ in range(m):\n",
    "        a, b = map(int, input().split())\n",
    "\n",
    "        edges.append((a, b, min(a, b)))\n",
    "\n",
    "    edges.sort(key=lambda x: x[2])\n",
    "\n",
    "    if n == 1:\n",
    "        print(0)\n",
    "    elif n == 2:\n",
    "        print(1)\n",
    "        print(0)\n",
    "    else:\n",
    "        parent = list(range(n + 1))\n",
    "        rank = [0] * (n + 1)\n",
    "\n",
    "        tcc = 0 # total connected count\n",
    "        result = [0, 1]\n",
    "        cnc = 2 # cur node count\n",
    "        for node in range(n - 1, 1, -1):\n",
    "\n",
    "            while edges:\n",
    "                a, b, mv = edges.pop()\n",
    "                if mv >= node:\n",
    "                    ra = find(a)\n",
    "                    rb = find(b)\n",
    "\n",
    "                    if ra != rb:\n",
    "                        tcc += 1\n",
    "                        union(ra, rb)\n",
    "                else:\n",
    "                    edges.append((a, b, mv))\n",
    "                    break\n",
    "\n",
    "            result.append(cnc - tcc)\n",
    "            cnc += 1\n",
    "\n",
    "        print('\\n'.join(map(str, reversed(result))))\n",
    "        \n",
    "        \n",
    "        \n",
    "        \n",
    "        \n",
    "        \n",
    "        \n",
    "        \n",
    "        \n",
    "        \n",
    "# region fastio\n",
    " \n",
    "BUFSIZE = 8192\n",
    " \n",
    "\n",
    "class FastIO(IOBase):\n",
    "    newlines = 0\n",
    " \n",
    "    def __init__(self, file):\n",
    "        self._fd = file.fileno()\n",
    "        self.buffer = BytesIO()\n",
    "        self.writable = \"x\" in file.mode or \"r\" not in file.mode\n",
    "        self.write = self.buffer.write if self.writable else None\n",
    " \n",
    "    def read(self):\n",
    "        while True:\n",
    "            b = os.read(self._fd, max(os.fstat(self._fd).st_size, BUFSIZE))\n",
    "            if not b:\n",
    "                break\n",
    "            ptr = self.buffer.tell()\n",
    "            self.buffer.seek(0, 2), self.buffer.write(b), self.buffer.seek(ptr)\n",
    "        self.newlines = 0\n",
    "        return self.buffer.read()\n",
    " \n",
    "    def readline(self):\n",
    "        while self.newlines == 0:\n",
    "            b = os.read(self._fd, max(os.fstat(self._fd).st_size, BUFSIZE))\n",
    "            self.newlines = b.count(b\"\\n\") + (not b)\n",
    "            ptr = self.buffer.tell()\n",
    "            self.buffer.seek(0, 2), self.buffer.write(b), self.buffer.seek(ptr)\n",
    "        self.newlines -= 1\n",
    "        return self.buffer.readline()\n",
    " \n",
    "    def flush(self):\n",
    "        if self.writable:\n",
    "            os.write(self._fd, self.buffer.getvalue())\n",
    "            self.buffer.truncate(0), self.buffer.seek(0)\n",
    " \n",
    " \n",
    "class IOWrapper(IOBase):\n",
    "    def __init__(self, file):\n",
    "        self.buffer = FastIO(file)\n",
    "        self.flush = self.buffer.flush\n",
    "        self.writable = self.buffer.writable\n",
    "        self.write = lambda s: self.buffer.write(s.encode(\"ascii\"))\n",
    "        self.read = lambda: self.buffer.read().decode(\"ascii\")\n",
    "        self.readline = lambda: self.buffer.readline().decode(\"ascii\")\n",
    " \n",
    " \n",
    "sys.stdin, sys.stdout = IOWrapper(sys.stdin), IOWrapper(sys.stdout)\n",
    "input = lambda: sys.stdin.readline().rstrip(\"\\r\\n\")\n",
    " \n",
    "# endregion\n",
    " \n",
    "if __name__ == \"__main__\":\n",
    "    main()"
   ]
  }
 ],
 "metadata": {
  "kernelspec": {
   "display_name": "Python 3",
   "language": "python",
   "name": "python3"
  },
  "language_info": {
   "codemirror_mode": {
    "name": "ipython",
    "version": 3
   },
   "file_extension": ".py",
   "mimetype": "text/x-python",
   "name": "python",
   "nbconvert_exporter": "python",
   "pygments_lexer": "ipython3",
   "version": "3.7.3"
  }
 },
 "nbformat": 4,
 "nbformat_minor": 4
}
