{
 "cells": [
  {
   "cell_type": "markdown",
   "metadata": {},
   "source": [
    "A"
   ]
  },
  {
   "cell_type": "code",
   "execution_count": 1,
   "metadata": {},
   "outputs": [
    {
     "name": "stdout",
     "output_type": "stream",
     "text": [
      "254\n",
      "54\n"
     ]
    }
   ],
   "source": [
    "s = input()\n",
    "\n",
    "r = s[-2:]\n",
    "\n",
    "print(r)"
   ]
  },
  {
   "cell_type": "markdown",
   "metadata": {},
   "source": [
    "B"
   ]
  },
  {
   "cell_type": "code",
   "execution_count": 6,
   "metadata": {},
   "outputs": [
    {
     "name": "stdout",
     "output_type": "stream",
     "text": [
      "2\n",
      "1\n",
      "1 1\n"
     ]
    }
   ],
   "source": [
    "n = int(input())\n",
    "\n",
    "cur = [1]\n",
    "print(*cur)\n",
    "for _ in range(n - 1):\n",
    "    ncur = [1]\n",
    "    for i in range(len(cur) - 1):\n",
    "        ncur.append(cur[i] + cur[i + 1])\n",
    "    ncur.append(1)\n",
    "    \n",
    "    cur = ncur.copy()\n",
    "    print(*cur)"
   ]
  },
  {
   "cell_type": "markdown",
   "metadata": {},
   "source": [
    "C"
   ]
  },
  {
   "cell_type": "code",
   "execution_count": 9,
   "metadata": {},
   "outputs": [
    {
     "name": "stdout",
     "output_type": "stream",
     "text": [
      "7 5\n",
      "1 2 3 4 5 5 10\n",
      "Yes\n"
     ]
    }
   ],
   "source": [
    "n, k = map(int, input().split())\n",
    "li = list(map(int, input().split()))\n",
    "    \n",
    "groups = [[] for _ in range(k)]\n",
    "for i in range(n):\n",
    "    groups[i % k].append(li[i])\n",
    "    \n",
    "for i in range(k):\n",
    "    groups[i].sort()\n",
    "    \n",
    "nli = [0] * n\n",
    "for i in range(n - 1, -1, -1):\n",
    "    nli[i] = groups[i % k].pop()\n",
    "    \n",
    "if sorted(li) == nli:\n",
    "    print('Yes')\n",
    "else:\n",
    "    print('No')"
   ]
  },
  {
   "cell_type": "markdown",
   "metadata": {},
   "source": [
    "D"
   ]
  },
  {
   "cell_type": "code",
   "execution_count": null,
   "metadata": {},
   "outputs": [],
   "source": [
    "1 4 9 16 25 ..."
   ]
  },
  {
   "cell_type": "code",
   "execution_count": null,
   "metadata": {},
   "outputs": [],
   "source": [
    "1 1\n",
    "2 2\n",
    "3 3\n",
    "4 4\n",
    "5 5"
   ]
  },
  {
   "cell_type": "code",
   "execution_count": null,
   "metadata": {},
   "outputs": [],
   "source": [
    "4\n",
    "1 4\n",
    "2 2\n",
    "4 1"
   ]
  },
  {
   "cell_type": "code",
   "execution_count": null,
   "metadata": {},
   "outputs": [],
   "source": [
    "9\n",
    "1 9\n",
    "3 3"
   ]
  },
  {
   "cell_type": "code",
   "execution_count": null,
   "metadata": {},
   "outputs": [],
   "source": [
    "16\n",
    "1 16\n",
    "2 8\n",
    "4 4\n",
    "8 2\n",
    "16 1"
   ]
  },
  {
   "cell_type": "code",
   "execution_count": null,
   "metadata": {},
   "outputs": [],
   "source": [
    "1\n",
    "1 1\n",
    "\n",
    "2\n",
    "2 2\n",
    "\n",
    "3\n",
    "3 3\n",
    "\n",
    "4\n",
    "1 4\n",
    "4 1\n",
    "4 4\n",
    "\n",
    "5\n",
    "5 5\n",
    "\n",
    "6\n",
    "6 6\n",
    "\n",
    "7\n",
    "7 7\n",
    "\n",
    "8\n",
    "2 8\n",
    "8 2\n",
    "8 8\n",
    "\n",
    "9\n",
    "1 9\n",
    "3 3\n",
    "9 1\n",
    "\n",
    "10\n",
    "10 10\n",
    "\n",
    "11\n",
    "11 11\n",
    "\n",
    "16\n",
    "1 16\n",
    "4 16\n",
    "16 1\n",
    "16 4\n",
    "16 16"
   ]
  },
  {
   "cell_type": "code",
   "execution_count": 35,
   "metadata": {},
   "outputs": [
    {
     "name": "stdout",
     "output_type": "stream",
     "text": [
      "2 1 2\n",
      "3 1 1\n",
      "5 1 1\n",
      "7\n"
     ]
    }
   ],
   "source": [
    "n = 5\n",
    "\n",
    "ss = set()\n",
    "for i in range(1, n + 1):\n",
    "    ss.add(i * i)\n",
    "    \n",
    "total = 1\n",
    "for num in range(2, n + 1):\n",
    "    if num in ss:\n",
    "        continue\n",
    "    \n",
    "    num_s = num * num\n",
    "        \n",
    "    max_odds = 0\n",
    "    nnum = num\n",
    "    while nnum <= n:\n",
    "        max_odds += 1\n",
    "        nnum *= num_s\n",
    "        \n",
    "    max_evens = 0\n",
    "    nnum = 1\n",
    "    while nnum <= n:\n",
    "        max_evens += 1\n",
    "        nnum *= num_s\n",
    "        \n",
    "    print(num, max_odds, max_evens)\n",
    "        \n",
    "    total += max_odds ** 2\n",
    "    total += max_evens ** 2\n",
    "    total -= 1\n",
    "    \n",
    "print(total)"
   ]
  },
  {
   "cell_type": "code",
   "execution_count": 49,
   "metadata": {},
   "outputs": [
    {
     "name": "stdout",
     "output_type": "stream",
     "text": [
      "2 defaultdict(<class 'int'>, {2: 1}) 2\n",
      "3 defaultdict(<class 'int'>, {3: 1}) 2\n",
      "4 defaultdict(<class 'int'>, {2: 2}) 4\n",
      "8\n"
     ]
    }
   ],
   "source": [
    "from collections import defaultdict as dd\n",
    "\n",
    "max_num = 200001\n",
    "ip = [True] * (max_num + 1)\n",
    "ip[0] = ip[1] = False\n",
    "for mod in range(2, int(max_num ** 0.5) + 1):\n",
    "    if ip[mod]:\n",
    "        for v in range(mod * mod, max_num + 1, mod):\n",
    "            ip[v] = False\n",
    "            \n",
    "primes = [i for i, v in enumerate(ip) if v]\n",
    "\n",
    "n = 4\n",
    "\n",
    "total = 0\n",
    "for num in range(2, n + 1):\n",
    "    onum = num\n",
    "    d = dd(int)\n",
    "    for mod in primes:\n",
    "        if mod > num:\n",
    "            break\n",
    "        while num % mod == 0:\n",
    "            num //= mod\n",
    "            d[mod] += 1\n",
    "\n",
    "    if num != 1:\n",
    "        d[num] += 1\n",
    "        \n",
    "    for key in d:\n",
    "        while pow(key, d[key]) > n:\n",
    "            d[key] -= 1\n",
    "        \n",
    "    cur = 1\n",
    "    for key in d.values():\n",
    "        v *= 2\n",
    "        v += 1\n",
    "        cur *= v\n",
    "        \n",
    "    print(onum, d, cur - 1)\n",
    "        \n",
    "    total += cur - 1\n",
    "    \n",
    "print(total)"
   ]
  },
  {
   "cell_type": "code",
   "execution_count": 10,
   "metadata": {},
   "outputs": [
    {
     "name": "stdout",
     "output_type": "stream",
     "text": [
      "254\n",
      "896\n"
     ]
    }
   ],
   "source": [
    "from collections import defaultdict as dd\n",
    "\n",
    "max_num = 200001\n",
    "ip = [True] * (max_num + 1)\n",
    "ip[0] = ip[1] = False\n",
    "for mod in range(2, int(max_num ** 0.5) + 1):\n",
    "    if ip[mod]:\n",
    "        for v in range(mod * mod, max_num + 1, mod):\n",
    "            ip[v] = False\n",
    "            \n",
    "primes = [i for i, v in enumerate(ip) if v]\n",
    "\n",
    "def p_facto(num):\n",
    "    nnum = 1\n",
    "    cri = int(num ** 0.5) + 1\n",
    "    for mod in primes:\n",
    "        if mod > cri:\n",
    "            break\n",
    "        c = 0\n",
    "        while num % mod == 0:\n",
    "            num //= mod\n",
    "            c ^= 1\n",
    "            \n",
    "        if c:\n",
    "            nnum *= mod\n",
    "    \n",
    "    if num != 1:\n",
    "        nnum *= num\n",
    "        \n",
    "    return nnum\n",
    "\n",
    "n = int(input())\n",
    "ct = dd(int)\n",
    "for num in range(1, n + 1):\n",
    "    ct[p_facto(num)] += 1\n",
    "    \n",
    "total = 0\n",
    "for v in ct.values():\n",
    "    total += v ** 2\n",
    "    \n",
    "print(total)"
   ]
  },
  {
   "cell_type": "markdown",
   "metadata": {},
   "source": [
    "E"
   ]
  },
  {
   "cell_type": "code",
   "execution_count": null,
   "metadata": {},
   "outputs": [],
   "source": [
    "from collections import deque\n",
    "import sys\n",
    "input = lambda: sys.stdin.readline().rstrip()\n",
    "\n",
    "n, m = map(int, input().split())\n",
    "li = [[] for _ in range(n + 1)]\n",
    "for _ in range(m):\n",
    "    a, b = map(int, input().split())\n",
    "    li[a].append(b)\n",
    "    li[b].append(a)\n",
    "\n",
    "r = [[0] * 4 for _ in range(n + 1)]\n",
    "\n",
    "for start in range(1, n + 1):\n",
    "    queue = deque()\n",
    "    queue.append((start, 0))\n",
    "    vt = {start}\n",
    "    while queue:\n",
    "        value, dist = queue.popleft()\n",
    "        \n",
    "        r[start][dist] += value\n",
    "        \n",
    "        if dist >= 3:\n",
    "            continue\n",
    "        for v in li[value]:\n",
    "            if v in vt:\n",
    "                continue\n",
    "            vt.add(v)\n",
    "            \n",
    "            queue.append((v, dist + 1))\n",
    "            \n",
    "q = int(input())\n",
    "for _ in range(q):\n",
    "    x, k = map(int, input().split())\n",
    "    \n",
    "    total = 0\n",
    "    for i in range(k + 1):\n",
    "        total += r[x][i]\n",
    "        \n",
    "    print(total)"
   ]
  }
 ],
 "metadata": {
  "kernelspec": {
   "display_name": "Python 3",
   "language": "python",
   "name": "python3"
  },
  "language_info": {
   "codemirror_mode": {
    "name": "ipython",
    "version": 3
   },
   "file_extension": ".py",
   "mimetype": "text/x-python",
   "name": "python",
   "nbconvert_exporter": "python",
   "pygments_lexer": "ipython3",
   "version": "3.7.4"
  }
 },
 "nbformat": 4,
 "nbformat_minor": 2
}
