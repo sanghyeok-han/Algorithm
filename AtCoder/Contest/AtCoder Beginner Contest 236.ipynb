{
 "cells": [
  {
   "cell_type": "code",
   "execution_count": null,
   "metadata": {},
   "outputs": [],
   "source": [
    "import sys\n",
    "input = lambda: sys.stdin.readline().rstrip()"
   ]
  },
  {
   "cell_type": "markdown",
   "metadata": {},
   "source": [
    "A"
   ]
  },
  {
   "cell_type": "code",
   "execution_count": 2,
   "metadata": {},
   "outputs": [
    {
     "name": "stdout",
     "output_type": "stream",
     "text": [
      "chokudai\n",
      "3 5\n",
      "chukodai\n"
     ]
    }
   ],
   "source": [
    "li = list(input())\n",
    "a, b = map(int, input().split())\n",
    "\n",
    "a -= 1\n",
    "b -= 1\n",
    "li[a], li[b] = li[b], li[a]\n",
    "\n",
    "r = ''.join(li)\n",
    "\n",
    "print(r)"
   ]
  },
  {
   "cell_type": "markdown",
   "metadata": {},
   "source": [
    "B"
   ]
  },
  {
   "cell_type": "code",
   "execution_count": 5,
   "metadata": {},
   "outputs": [
    {
     "name": "stdout",
     "output_type": "stream",
     "text": [
      "4\n",
      "3 2 1 1 2 4 4 4 4 3 1 3 2 1 3\n",
      "2\n"
     ]
    }
   ],
   "source": [
    "from collections import Counter\n",
    "\n",
    "n = int(input())\n",
    "li = list(map(int, input().split()))\n",
    "\n",
    "c = Counter(li)\n",
    "mc = c.most_common()\n",
    "\n",
    "r = mc[-1][0]\n",
    "\n",
    "print(r)"
   ]
  },
  {
   "cell_type": "markdown",
   "metadata": {},
   "source": [
    "C"
   ]
  },
  {
   "cell_type": "code",
   "execution_count": 6,
   "metadata": {},
   "outputs": [
    {
     "name": "stdout",
     "output_type": "stream",
     "text": [
      "5 3\n",
      "tokyo kanda akiba okachi ueno\n",
      "tokyo akiba ueno\n",
      "Yes\n",
      "No\n",
      "Yes\n",
      "No\n",
      "Yes\n"
     ]
    }
   ],
   "source": [
    "n, m = map(int, input().split())\n",
    "li = input().split()\n",
    "\n",
    "go = set(input().split())\n",
    "for v in li:\n",
    "    if v in go:\n",
    "        print('Yes')\n",
    "    else:\n",
    "        print('No')"
   ]
  },
  {
   "cell_type": "markdown",
   "metadata": {},
   "source": [
    "D"
   ]
  },
  {
   "cell_type": "code",
   "execution_count": 57,
   "metadata": {},
   "outputs": [
    {
     "name": "stdout",
     "output_type": "stream",
     "text": [
      "1\n",
      "5\n",
      "5\n"
     ]
    }
   ],
   "source": [
    "# 시간초과, 틀렸음\n",
    "def bt(cur_xor, cur, cands):\n",
    "    global r\n",
    "    \n",
    "    t1 = t2 = 0\n",
    "    if len(cur) == 2:\n",
    "        t1 = cur.pop()\n",
    "        t2 = cur.pop()\n",
    "    \n",
    "    if t1 > t2:\n",
    "        t1, t2 = t2, t1\n",
    "        \n",
    "    if len(cands) != n * 2 and len(cur) == 0:\n",
    "        cur_xor ^= li[t1][t2]\n",
    "    \n",
    "    if not cands:\n",
    "        r = max(cur_xor, r)\n",
    "        return\n",
    "    \n",
    "    ncands = cands.copy()\n",
    "    for v in cands:\n",
    "        ncands.discard(v)\n",
    "        cur.add(v)\n",
    "        bt(cur_xor, cur, ncands)\n",
    "        ncands.add(v)\n",
    "        cur.discard(v)\n",
    "    \n",
    "n = int(input())\n",
    "li = [list(map(int, input().split())) for _ in range(n * 2 - 1)]\n",
    "\n",
    "nli = [[-1] * (2 * n) for _ in range(2 * n)]\n",
    "for i in range(2 * n):\n",
    "    for j in range(2 * n):\n",
    "        try:\n",
    "            nli[i][i + j + 1] = li[i][j]\n",
    "        except:\n",
    "            pass\n",
    "        \n",
    "li = nli.copy()\n",
    "    \n",
    "r = 0\n",
    "cands = set(range(2 * n))\n",
    "bt(0, set(), cands)\n",
    "\n",
    "print(r)"
   ]
  },
  {
   "cell_type": "code",
   "execution_count": 78,
   "metadata": {},
   "outputs": [
    {
     "name": "stdout",
     "output_type": "stream",
     "text": [
      "2\n",
      "4 0 1\n",
      "5 3\n",
      "2\n"
     ]
    },
    {
     "data": {
      "text/plain": [
       "[(4, 0, 1), (0, 0, 2), (1, 0, 3), (5, 1, 2), (3, 1, 3), (2, 2, 3)]"
      ]
     },
     "execution_count": 78,
     "metadata": {},
     "output_type": "execute_result"
    }
   ],
   "source": [
    "n = int(input())\n",
    "li = [list(map(int, input().split())) for _ in range(n * 2 - 1)]\n",
    "\n",
    "nli = []\n",
    "for i in range(2 * n):\n",
    "    for j in range(2 * n):\n",
    "        try:\n",
    "            nli.append((li[i][j], i, i + j + 1))\n",
    "        except:\n",
    "            pass\n",
    "        \n",
    "nli"
   ]
  },
  {
   "cell_type": "code",
   "execution_count": null,
   "metadata": {},
   "outputs": [],
   "source": [
    "(0, 1) (2, 3) (4, 5) (6, 7)"
   ]
  },
  {
   "cell_type": "code",
   "execution_count": 75,
   "metadata": {},
   "outputs": [
    {
     "data": {
      "text/plain": [
       "[(5, 1, 2), (4, 0, 1), (3, 1, 3), (2, 2, 3), (1, 0, 3), (0, 0, 2)]"
      ]
     },
     "execution_count": 75,
     "metadata": {},
     "output_type": "execute_result"
    }
   ],
   "source": [
    "nli"
   ]
  }
 ],
 "metadata": {
  "kernelspec": {
   "display_name": "Python 3",
   "language": "python",
   "name": "python3"
  },
  "language_info": {
   "codemirror_mode": {
    "name": "ipython",
    "version": 3
   },
   "file_extension": ".py",
   "mimetype": "text/x-python",
   "name": "python",
   "nbconvert_exporter": "python",
   "pygments_lexer": "ipython3",
   "version": "3.7.4"
  }
 },
 "nbformat": 4,
 "nbformat_minor": 4
}
