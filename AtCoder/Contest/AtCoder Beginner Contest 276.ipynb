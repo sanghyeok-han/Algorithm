{
 "cells": [
  {
   "cell_type": "markdown",
   "metadata": {},
   "source": [
    "A"
   ]
  },
  {
   "cell_type": "code",
   "execution_count": 3,
   "metadata": {},
   "outputs": [
    {
     "name": "stdout",
     "output_type": "stream",
     "text": [
      "bcbbbz\n",
      "-1\n"
     ]
    }
   ],
   "source": [
    "s = input()\n",
    "\n",
    "if 'a' not in s:\n",
    "    print(-1)\n",
    "else:\n",
    "    r = 0\n",
    "    for i in range(len(s)):\n",
    "        if s[i] == 'a':\n",
    "            r = i\n",
    "            \n",
    "    r += 1\n",
    "    \n",
    "    print(r)"
   ]
  },
  {
   "cell_type": "markdown",
   "metadata": {},
   "source": [
    "B"
   ]
  },
  {
   "cell_type": "code",
   "execution_count": 4,
   "metadata": {},
   "outputs": [
    {
     "name": "stdout",
     "output_type": "stream",
     "text": [
      "6 6\n",
      "3 6\n",
      "1 3\n",
      "5 6\n",
      "2 5\n",
      "1 2\n",
      "1 6\n",
      "3 2 3 6\n",
      "2 1 5\n",
      "2 1 6\n",
      "0\n",
      "2 2 6\n",
      "3 1 3 5\n"
     ]
    }
   ],
   "source": [
    "import io, os, sys\n",
    "input = io.BytesIO(os.read(0,os.fstat(0).st_size)).readline\n",
    "\n",
    "n, m = map(int, input().split())\n",
    "\n",
    "li = [[] for _ in range(n + 1)]\n",
    "for _ in range(m):\n",
    "    a, b = map(int, input().split())\n",
    "    \n",
    "    li[a].append(b)\n",
    "    li[b].append(a)\n",
    "    \n",
    "for i in range(1, n + 1):\n",
    "    print(len(li[i]), *sorted(li[i]))"
   ]
  },
  {
   "cell_type": "markdown",
   "metadata": {},
   "source": [
    "C"
   ]
  },
  {
   "cell_type": "code",
   "execution_count": 6,
   "metadata": {},
   "outputs": [
    {
     "name": "stdout",
     "output_type": "stream",
     "text": [
      "10\n",
      "9 8 6 5 10 3 1 2 4 7\n",
      "9 8 6 5 10 2 7 4 3 1\n"
     ]
    }
   ],
   "source": [
    "n = int(input())\n",
    "li = list(map(int, input().split()))\n",
    "\n",
    "if sorted(li) == li:\n",
    "    print(-1)\n",
    "else:\n",
    "    for i in range(n - 1, 0, -1):\n",
    "        if li[i - 1] > li[i]:\n",
    "            left = li[i - 1]\n",
    "            right_list = li[i:]\n",
    "            candidates = [v for v in right_list if v < left]\n",
    "            selected = max(candidates)\n",
    "\n",
    "            li[i - 1] = selected\n",
    "            right_list.remove(selected)\n",
    "            right_list.append(left)\n",
    "            right_list.sort(reverse=True)\n",
    "            li[i:] = right_list\n",
    "            break\n",
    "\n",
    "    print(\" \".join(map(str, li)))"
   ]
  },
  {
   "cell_type": "markdown",
   "metadata": {},
   "source": [
    "D"
   ]
  },
  {
   "cell_type": "code",
   "execution_count": 9,
   "metadata": {},
   "outputs": [
    {
     "name": "stdout",
     "output_type": "stream",
     "text": [
      "6\n",
      "1 1 1 1 1 1\n",
      "0\n"
     ]
    }
   ],
   "source": [
    "inf = float('inf')\n",
    "\n",
    "n = int(input())\n",
    "li = list(map(int, input().split()))\n",
    "\n",
    "cs = [[0] * 2 for _ in range(n)]\n",
    "st = set()\n",
    "\n",
    "min_2 = inf\n",
    "min_3 = inf\n",
    "for i in range(n):\n",
    "    v = li[i]\n",
    "    while True:\n",
    "        if v % 2 == 0:\n",
    "            cs[i][0] += 1\n",
    "            v //= 2\n",
    "        else:\n",
    "            break\n",
    "            \n",
    "    while True:\n",
    "        if v % 3 == 0:\n",
    "            cs[i][1] += 1\n",
    "            v //= 3\n",
    "        else:\n",
    "            break  \n",
    "            \n",
    "    min_2 = min(min_2, cs[i][0])\n",
    "    min_3 = min(min_3, cs[i][1])\n",
    "    st.add(v)\n",
    "    \n",
    "if len(st) >= 2:\n",
    "    print(-1)\n",
    "else:\n",
    "    total = 0\n",
    "    for i in range(n):\n",
    "        total += cs[i][0] - min_2\n",
    "        total += cs[i][1] - min_3\n",
    "        \n",
    "    print(total)"
   ]
  },
  {
   "cell_type": "markdown",
   "metadata": {},
   "source": [
    "E"
   ]
  },
  {
   "cell_type": "code",
   "execution_count": 10,
   "metadata": {},
   "outputs": [
    {
     "data": {
      "text/plain": [
       "1000000.0"
      ]
     },
     "execution_count": 10,
     "metadata": {},
     "output_type": "execute_result"
    }
   ],
   "source": [
    "import sys\n",
    "input = lambda: sys.stdin.readline().rstrip()\n",
    "\n",
    "## PYRIVAL BOOTSTRAP\n",
    "# https://github.com/cheran-senthil/PyRival/blob/master/pyrival/misc/bootstrap.py\n",
    "# This decorator allows for recursion without actually doing recursion\n",
    "## @bootstrap, yield when getting and returning value in recursive functions, end of functions\n",
    "from types import GeneratorType\n",
    "\n",
    "def bootstrap(f, stack=[]):\n",
    "    def wrappedfunc(*args, **kwargs):\n",
    "        if stack:\n",
    "            return f(*args, **kwargs)\n",
    "        else:\n",
    "            to = f(*args, **kwargs)\n",
    "            while True:\n",
    "                if type(to) is GeneratorType:\n",
    "                    stack.append(to)\n",
    "                    to = next(to)\n",
    "                else:\n",
    "                    stack.pop()\n",
    "                    if not stack:\n",
    "                        break\n",
    "                    to = stack[-1].send(to)\n",
    "            return to\n",
    "    return wrappedfunc\n",
    "\n",
    "dx = [-1, 1, 0, 0]\n",
    "dy = [0, 0, -1, 1]\n",
    "\n",
    "@bootstrap\n",
    "def dfs(x, y, depth):\n",
    "    global result\n",
    "    \n",
    "    vt[x][y] = True\n",
    "    \n",
    "    for d in range(4):\n",
    "        nx = x + dx[d]\n",
    "        ny = y + dy[d]\n",
    "        \n",
    "        if nx < 0 or nx >= h or ny < 0 or ny >= w:\n",
    "            continue\n",
    "        if li[nx][ny] == '#':\n",
    "            continue\n",
    "        if li[nx][ny] == 'S' and depth >= 3:\n",
    "            result = True\n",
    "        if not vt[nx][ny]:\n",
    "            yield dfs(nx, ny, depth + 1)\n",
    "            \n",
    "    yield\n",
    "\n",
    "h, w = map(int, input().split())\n",
    "li = [input() for _ in range(h)]\n",
    "\n",
    "sx = sy = -1\n",
    "for i in range(h):\n",
    "    for j in range(w):\n",
    "        if li[i][j] == 'S':\n",
    "            sx = i\n",
    "            sy = j\n",
    "            break\n",
    "    if sx != -1:\n",
    "        break\n",
    "        \n",
    "vt = [[False] * w for _ in range(h)]\n",
    "result = False\n",
    "dfs(sx, sy, 0)\n",
    "\n",
    "if result:\n",
    "    print('Yes')\n",
    "else:\n",
    "    print('No')"
   ]
  },
  {
   "cell_type": "markdown",
   "metadata": {},
   "source": [
    "F"
   ]
  },
  {
   "cell_type": "code",
   "execution_count": 52,
   "metadata": {},
   "outputs": [
    {
     "data": {
      "text/plain": [
       "443664163"
      ]
     },
     "execution_count": 52,
     "metadata": {},
     "output_type": "execute_result"
    }
   ],
   "source": [
    "mod = 998244353\n",
    "\n",
    "num = (1 * 5) + (3 * 5) + (5 * 7)\n",
    "denom = 3 * 3\n",
    "\n",
    "num * pow(denom, mod - 2, mod) % mod"
   ]
  },
  {
   "cell_type": "code",
   "execution_count": null,
   "metadata": {},
   "outputs": [],
   "source": [
    "1 3 5 7 9\n",
    "\n",
    "denom = 현재 개수 * 현재 개수"
   ]
  },
  {
   "cell_type": "code",
   "execution_count": 79,
   "metadata": {},
   "outputs": [],
   "source": [
    "del input"
   ]
  },
  {
   "cell_type": "code",
   "execution_count": 80,
   "metadata": {},
   "outputs": [
    {
     "name": "stdout",
     "output_type": "stream",
     "text": [
      "7\n",
      "22 75 26 45 72 81 47\n",
      "22\n",
      "249561150\n",
      "110916092\n",
      "873463862\n",
      "279508479\n",
      "360477194\n",
      "529680742\n"
     ]
    }
   ],
   "source": [
    "import sys\n",
    "input = lambda: sys.stdin.readline().rstrip()\n",
    "\n",
    "mod = 998244353\n",
    "\n",
    "class SegmentTree:\n",
    "    def __init__(self, data, default=10**15, func=lambda a, b: max(a,b)):\n",
    "        \"\"\"initialize the segment tree with data\"\"\"\n",
    "        self._default = default\n",
    "        self._func = func\n",
    "        self._len = len(data)\n",
    "        self._size = _size = 1 << (self._len - 1).bit_length()\n",
    " \n",
    "        self.data = [default] * (2 * _size)\n",
    "        self.data[_size:_size + self._len] = data\n",
    "        for i in reversed(range(_size)):\n",
    "            self.data[i] = func(self.data[i + i], self.data[i + i + 1])\n",
    " \n",
    "    def __delitem__(self, idx):\n",
    "        self[idx] = self._default\n",
    " \n",
    "    def __getitem__(self, idx):\n",
    "        return self.data[idx + self._size]\n",
    " \n",
    "    def __setitem__(self, idx, value):\n",
    "        idx += self._size\n",
    "        self.data[idx] = value\n",
    "        idx >>= 1\n",
    "        while idx:\n",
    "            self.data[idx] = self._func(self.data[2 * idx], self.data[2 * idx + 1])\n",
    "            idx >>= 1\n",
    " \n",
    "    def __len__(self):\n",
    "        return self._len\n",
    " \n",
    "    def query(self, start, stop):\n",
    "        if start == stop:\n",
    "            return self.__getitem__(start)\n",
    "        stop += 1\n",
    "        start += self._size\n",
    "        stop += self._size\n",
    " \n",
    "        res = self._default\n",
    "        while start < stop:\n",
    "            if start & 1:\n",
    "                res = self._func(res, self.data[start])\n",
    "                start += 1\n",
    "            if stop & 1:\n",
    "                stop -= 1\n",
    "                res = self._func(res, self.data[stop])\n",
    "            start >>= 1\n",
    "            stop >>= 1\n",
    "        return res\n",
    " \n",
    "    def __repr__(self):\n",
    "        return \"SegmentTree({0})\".format(self.data)\n",
    "\n",
    "# https://github.com/tatyam-prime/SortedSet/blob/main/SortedSet.py\n",
    "import math\n",
    "from bisect import bisect_left, bisect_right\n",
    "from typing import Generic, Iterable, Iterator, TypeVar, Union, List\n",
    "T = TypeVar('T')\n",
    "\n",
    "class SortedSet(Generic[T]):\n",
    "    BUCKET_RATIO = 50\n",
    "    REBUILD_RATIO = 170\n",
    "\n",
    "    def _build(self, a=None) -> None:\n",
    "        \"Evenly divide `a` into buckets.\"\n",
    "        if a is None: a = list(self)\n",
    "        size = self.size = len(a)\n",
    "        bucket_size = int(math.ceil(math.sqrt(size / self.BUCKET_RATIO)))\n",
    "        self.a = [a[size * i // bucket_size : size * (i + 1) // bucket_size] for i in range(bucket_size)]\n",
    "    \n",
    "    def __init__(self, a: Iterable[T] = []) -> None:\n",
    "        \"Make a new SortedSet from iterable. / O(N) if sorted and unique / O(N log N)\"\n",
    "        a = list(a)\n",
    "        if not all(a[i] < a[i + 1] for i in range(len(a) - 1)):\n",
    "            a = sorted(set(a))\n",
    "        self._build(a)\n",
    "\n",
    "    def __iter__(self) -> Iterator[T]:\n",
    "        for i in self.a:\n",
    "            for j in i: yield j\n",
    "\n",
    "    def __reversed__(self) -> Iterator[T]:\n",
    "        for i in reversed(self.a):\n",
    "            for j in reversed(i): yield j\n",
    "    \n",
    "    def __len__(self) -> int:\n",
    "        return self.size\n",
    "    \n",
    "    def __repr__(self) -> str:\n",
    "        return \"SortedSet\" + str(self.a)\n",
    "    \n",
    "    def __str__(self) -> str:\n",
    "        s = str(list(self))\n",
    "        return \"{\" + s[1 : len(s) - 1] + \"}\"\n",
    "\n",
    "    def _find_bucket(self, x: T) -> List[T]:\n",
    "        \"Find the bucket which should contain x. self must not be empty.\"\n",
    "        for a in self.a:\n",
    "            if x <= a[-1]: return a\n",
    "        return a\n",
    "\n",
    "    def __contains__(self, x: T) -> bool:\n",
    "        if self.size == 0: return False\n",
    "        a = self._find_bucket(x)\n",
    "        i = bisect_left(a, x)\n",
    "        return i != len(a) and a[i] == x\n",
    "\n",
    "    def add(self, x: T) -> bool:\n",
    "        \"Add an element and return True if added. / O(√N)\"\n",
    "        if self.size == 0:\n",
    "            self.a = [[x]]\n",
    "            self.size = 1\n",
    "            return True\n",
    "        a = self._find_bucket(x)\n",
    "        i = bisect_left(a, x)\n",
    "        if i != len(a) and a[i] == x: return False\n",
    "        a.insert(i, x)\n",
    "        self.size += 1\n",
    "        if len(a) > len(self.a) * self.REBUILD_RATIO:\n",
    "            self._build()\n",
    "        return True\n",
    "\n",
    "    def discard(self, x: T) -> bool:\n",
    "        \"Remove an element and return True if removed. / O(√N)\"\n",
    "        if self.size == 0: return False\n",
    "        a = self._find_bucket(x)\n",
    "        i = bisect_left(a, x)\n",
    "        if i == len(a) or a[i] != x: return False\n",
    "        a.pop(i)\n",
    "        self.size -= 1\n",
    "        if len(a) == 0: self._build()\n",
    "        return True\n",
    "    \n",
    "    def lt(self, x: T) -> Union[T, None]:\n",
    "        \"Find the largest element < x, or None if it doesn't exist.\"\n",
    "        for a in reversed(self.a):\n",
    "            if a[0] < x:\n",
    "                return a[bisect_left(a, x) - 1]\n",
    "\n",
    "    def le(self, x: T) -> Union[T, None]:\n",
    "        \"Find the largest element <= x, or None if it doesn't exist.\"\n",
    "        for a in reversed(self.a):\n",
    "            if a[0] <= x:\n",
    "                return a[bisect_right(a, x) - 1]\n",
    "\n",
    "    def gt(self, x: T) -> Union[T, None]:\n",
    "        \"Find the smallest element > x, or None if it doesn't exist.\"\n",
    "        for a in self.a:\n",
    "            if a[-1] > x:\n",
    "                return a[bisect_right(a, x)]\n",
    "\n",
    "    def ge(self, x: T) -> Union[T, None]:\n",
    "        \"Find the smallest element >= x, or None if it doesn't exist.\"\n",
    "        for a in self.a:\n",
    "            if a[-1] >= x:\n",
    "                return a[bisect_left(a, x)]\n",
    "    \n",
    "    def __getitem__(self, x: int) -> T:\n",
    "        \"Return the x-th element, or IndexError if it doesn't exist.\"\n",
    "        if x < 0: x += self.size\n",
    "        if x < 0: raise IndexError\n",
    "        for a in self.a:\n",
    "            if x < len(a): return a[x]\n",
    "            x -= len(a)\n",
    "        raise IndexError\n",
    "    \n",
    "    def index(self, x: T) -> int:\n",
    "        \"Count the number of elements < x.\"\n",
    "        ans = 0\n",
    "        for a in self.a:\n",
    "            if a[-1] >= x:\n",
    "                return ans + bisect_left(a, x)\n",
    "            ans += len(a)\n",
    "        return ans\n",
    "\n",
    "    def index_right(self, x: T) -> int:\n",
    "        \"Count the number of elements <= x.\"\n",
    "        ans = 0\n",
    "        for a in self.a:\n",
    "            if a[-1] > x:\n",
    "                return ans + bisect_right(a, x)\n",
    "            ans += len(a)\n",
    "        return \n",
    "    \n",
    "func = lambda a, b: a + b\n",
    "\n",
    "n = int(input())\n",
    "li = list(map(int, input().split()))\n",
    "\n",
    "segtree = SegmentTree([0] * n, 0, func=func)\n",
    "\n",
    "same_or_mores = [0] * n\n",
    "nli = [(li[i], i) for i in range(n)]\n",
    "nli.sort(key=lambda x: -x[0])\n",
    "for v, i in nli:\n",
    "    same_or_mores[i] = segtree.query(0, i) % mod\n",
    "    segtree[i] = v\n",
    "    \n",
    "sst = SortedSet()\n",
    "num = 0\n",
    "for i in range(n):\n",
    "    v = li[i]\n",
    "    \n",
    "    index = sst.index(v - 0.1)\n",
    "    num += v * (index * 2 + 1)\n",
    "    num %= mod\n",
    "    num += same_or_mores[i] * 2\n",
    "    num %= mod\n",
    "    denom = (i + 1) * (i + 1) % mod\n",
    "    \n",
    "    r = num * pow(denom, mod - 2, mod) % mod    \n",
    "    print(r)\n",
    "    \n",
    "    sst.add(v)"
   ]
  },
  {
   "cell_type": "code",
   "execution_count": 65,
   "metadata": {},
   "outputs": [
    {
     "data": {
      "text/plain": [
       "26"
      ]
     },
     "execution_count": 65,
     "metadata": {},
     "output_type": "execute_result"
    }
   ],
   "source": [
    "5 * 1 + 7 * 3"
   ]
  },
  {
   "cell_type": "code",
   "execution_count": null,
   "metadata": {},
   "outputs": [],
   "source": [
    "0 1 2 3\n",
    "1 3 5 7"
   ]
  },
  {
   "cell_type": "code",
   "execution_count": null,
   "metadata": {},
   "outputs": [],
   "source": []
  },
  {
   "cell_type": "code",
   "execution_count": 59,
   "metadata": {},
   "outputs": [
    {
     "data": {
      "text/plain": [
       "[(7, 1), (5, 0), (5, 2)]"
      ]
     },
     "execution_count": 59,
     "metadata": {},
     "output_type": "execute_result"
    }
   ],
   "source": [
    "from bisect import "
   ]
  },
  {
   "cell_type": "code",
   "execution_count": null,
   "metadata": {},
   "outputs": [],
   "source": [
    "1 3\n",
    "5 7\n",
    "\n",
    "1 3 5  1 3 5\n",
    "5 7    5 5 7\n",
    "\n"
   ]
  },
  {
   "cell_type": "code",
   "execution_count": null,
   "metadata": {},
   "outputs": [],
   "source": [
    "1 3 5 7 9\n",
    "1\n",
    "\n",
    "1 8\n",
    "1 3 8\n",
    "1 2 3 8      3, 8의 가중치가 각각 2씩 증가했음"
   ]
  },
  {
   "cell_type": "code",
   "execution_count": null,
   "metadata": {},
   "outputs": [],
   "source": [
    "이전에 있던 것 중 자신보다 더 큰 수의 합을 저장해놓음"
   ]
  },
  {
   "cell_type": "code",
   "execution_count": null,
   "metadata": {},
   "outputs": [],
   "source": [
    "1 5 5 5 7\n",
    "1 5 5 5 5 7"
   ]
  }
 ],
 "metadata": {
  "kernelspec": {
   "display_name": "Python 3",
   "language": "python",
   "name": "python3"
  },
  "language_info": {
   "codemirror_mode": {
    "name": "ipython",
    "version": 3
   },
   "file_extension": ".py",
   "mimetype": "text/x-python",
   "name": "python",
   "nbconvert_exporter": "python",
   "pygments_lexer": "ipython3",
   "version": "3.7.4"
  }
 },
 "nbformat": 4,
 "nbformat_minor": 2
}
