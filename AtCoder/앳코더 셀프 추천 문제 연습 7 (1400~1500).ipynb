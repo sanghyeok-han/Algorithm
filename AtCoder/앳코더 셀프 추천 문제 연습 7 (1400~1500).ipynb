{
 "cells": [
  {
   "cell_type": "markdown",
   "metadata": {},
   "source": [
    "1400 1500 5\n",
    "1. https://atcoder.jp/contests/arc120/tasks/arc120_c   C. Swaps 2\n",
    "\n",
    "2. https://atcoder.jp/contests/arc093/tasks/arc093_b   D. Grid Components\n",
    "\n",
    "3. https://atcoder.jp/contests/abc067/tasks/arc078_b   D. Fennec VS. Snuke\n",
    "\n",
    "4. https://atcoder.jp/contests/abc087/tasks/arc090_b   D. People on a Line\n",
    "\n",
    "5. https://atcoder.jp/contests/abc222/tasks/abc222_e   E. Red and Blue Tree"
   ]
  },
  {
   "cell_type": "markdown",
   "metadata": {},
   "source": [
    "1"
   ]
  },
  {
   "cell_type": "code",
   "execution_count": null,
   "metadata": {},
   "outputs": [],
   "source": [
    "a와 b의 총합은 같아야됨"
   ]
  },
  {
   "cell_type": "code",
   "execution_count": 54,
   "metadata": {},
   "outputs": [
    {
     "name": "stdout",
     "output_type": "stream",
     "text": [
      "6\n",
      "8 5 4 7 4 5\n",
      "10 5 6 7 4 1\n",
      "7\n"
     ]
    }
   ],
   "source": [
    "from collections import Counter, defaultdict as dd\n",
    "\n",
    "def merge_sort(li):\n",
    "    global count\n",
    "    \n",
    "    if len(li) == 1:\n",
    "        return li\n",
    "    \n",
    "    left = merge_sort(li[:len(li) // 2])\n",
    "    right = merge_sort(li[len(li) // 2:])\n",
    "    \n",
    "    nl = len(left)\n",
    "    nr = len(right)\n",
    "    \n",
    "    nli = []\n",
    "    l_i = r_i = 0\n",
    "    while True:\n",
    "        if left[l_i] <= right[r_i]:\n",
    "            nli.append(left[l_i])\n",
    "            count += r_i\n",
    "            l_i += 1\n",
    "            \n",
    "            if l_i == nl:\n",
    "                while r_i < nr:\n",
    "                    nli.append(right[r_i])\n",
    "                    r_i += 1\n",
    "                break    \n",
    "        else:\n",
    "            nli.append(right[r_i])\n",
    "            r_i += 1\n",
    "            \n",
    "            if r_i == nr:\n",
    "                while l_i < nl:\n",
    "                    nli.append(left[l_i])\n",
    "                    count += r_i\n",
    "                    l_i += 1\n",
    "                break\n",
    "    return nli \n",
    "\n",
    "n = int(input())\n",
    "a = list(map(int, input().split()))\n",
    "b = list(map(int, input().split()))\n",
    "\n",
    "for i in range(n):\n",
    "    a[i] += i\n",
    "    b[i] += i\n",
    "    \n",
    "if Counter(a) != Counter(b):\n",
    "    print(-1)\n",
    "else:\n",
    "    ad = dd(list)\n",
    "    bd = dd(list)\n",
    "    \n",
    "    for i in range(n):\n",
    "        ad[a[i]].append(i)\n",
    "        bd[b[i]].append(i)\n",
    "        \n",
    "    li = [0] * n\n",
    "    for key in ad:\n",
    "        for i in range(len(ad[key])):\n",
    "            li[ad[key][i]] = bd[key][i]\n",
    "            \n",
    "    count = 0\n",
    "    merge_sort(li)\n",
    "    \n",
    "    print(count)"
   ]
  },
  {
   "cell_type": "markdown",
   "metadata": {},
   "source": [
    "2"
   ]
  },
  {
   "cell_type": "code",
   "execution_count": null,
   "metadata": {},
   "outputs": [],
   "source": [
    "a, b = map(int, input().split())\n",
    "\n",
    "a -= 1\n",
    "b -= 1\n",
    "li = []\n",
    "for i in range(50):\n",
    "    li.append(['.'] * 100)\n",
    "for i in range(50):\n",
    "    li.append(['#'] * 100)\n",
    "    \n",
    "def change1(b):\n",
    "    for i in range(0, 100, 2):\n",
    "        for j in range(0, 100, 2):\n",
    "            if b == 0:\n",
    "                return\n",
    "            li[i][j] = '#'\n",
    "            b -= 1\n",
    "            \n",
    "def change2(a):\n",
    "    for i in range(99, -1, -2):\n",
    "        for j in range(0, 100, 2):\n",
    "            if a == 0:\n",
    "                return\n",
    "            li[i][j] = '.'\n",
    "            a -= 1\n",
    "            \n",
    "change1(b)\n",
    "change2(a)\n",
    "\n",
    "print(100, 100)\n",
    "for v in li:\n",
    "    print(''.join(v))"
   ]
  }
 ],
 "metadata": {
  "kernelspec": {
   "display_name": "Python 3",
   "language": "python",
   "name": "python3"
  },
  "language_info": {
   "codemirror_mode": {
    "name": "ipython",
    "version": 3
   },
   "file_extension": ".py",
   "mimetype": "text/x-python",
   "name": "python",
   "nbconvert_exporter": "python",
   "pygments_lexer": "ipython3",
   "version": "3.7.4"
  }
 },
 "nbformat": 4,
 "nbformat_minor": 4
}
