{
 "cells": [
  {
   "cell_type": "markdown",
   "metadata": {},
   "source": [
    "### 독수리 16238"
   ]
  },
  {
   "cell_type": "code",
   "execution_count": null,
   "metadata": {},
   "outputs": [],
   "source": [
    "from collections import deque\n",
    "\n",
    "n = int(input())\n",
    "li = list(map(int, input().split()))\n",
    "\n",
    "to_subtract = 0\n",
    "total_score = 0\n",
    "while li:\n",
    "    deq = deque(li)\n",
    "\n",
    "    new_li = []\n",
    "    while deq:\n",
    "        if deq[0] <= deq[-1]:\n",
    "            new_li.append(deq.popleft())\n",
    "        else:\n",
    "            new_li.append(deq.pop())\n",
    "            \n",
    "    value = new_li.pop()\n",
    "    score = value - to_subtract\n",
    "    if score >= 1:\n",
    "        total_score += score\n",
    "        to_subtract += 1\n",
    "    else:\n",
    "        break\n",
    "    li = new_li[:]\n",
    "\n",
    "print(total_score)"
   ]
  },
  {
   "cell_type": "markdown",
   "metadata": {},
   "source": [
    "### 대결 1489"
   ]
  },
  {
   "cell_type": "code",
   "execution_count": 1,
   "metadata": {},
   "outputs": [
    {
     "name": "stdout",
     "output_type": "stream",
     "text": [
      "2\n",
      "5 8\n",
      "7 3\n"
     ]
    }
   ],
   "source": [
    "n = int(input())\n",
    "li1 = list(map(int, input().split()))\n",
    "li2 = list(map(int, input().split()))"
   ]
  },
  {
   "cell_type": "code",
   "execution_count": 3,
   "metadata": {},
   "outputs": [],
   "source": [
    "li1.sort()\n",
    "li2.sort(reverse=True)"
   ]
  },
  {
   "cell_type": "code",
   "execution_count": 6,
   "metadata": {},
   "outputs": [
    {
     "name": "stdout",
     "output_type": "stream",
     "text": [
      "4\n",
      "[0, 1]\n",
      "[]\n"
     ]
    }
   ],
   "source": [
    "indices = []\n",
    "total_score = 0\n",
    "for i in range(n):\n",
    "    for j in range(len(li2)):\n",
    "        if li1[i] > li2[j]:\n",
    "            total_score += 2\n",
    "            indices.append(i)\n",
    "            del li2[j]\n",
    "            break\n",
    "print(total_score)\n",
    "print(indices)\n",
    "print(li2)\n",
    "\n",
    "for "
   ]
  },
  {
   "cell_type": "code",
   "execution_count": 13,
   "metadata": {},
   "outputs": [
    {
     "name": "stdout",
     "output_type": "stream",
     "text": [
      "4\n",
      "1 10 7 4\n",
      "15 3 8 7\n",
      "5\n"
     ]
    }
   ],
   "source": [
    "n = int(input())\n",
    "li1 = list(map(int, input().split()))\n",
    "li2 = list(map(int, input().split()))\n",
    "\n",
    "li1.sort()\n",
    "li2.sort(reverse=True)\n",
    "\n",
    "indices = []\n",
    "total_score = 0\n",
    "for i in range(n):\n",
    "    for j in range(len(li2)):\n",
    "        if li1[i] > li2[j]:\n",
    "            total_score += 2\n",
    "            indices.append(i)\n",
    "            del li2[j]\n",
    "            break\n",
    "            \n",
    "for index in reversed(indices):\n",
    "    del li1[index]\n",
    "    \n",
    "for i in range(len(li1)):\n",
    "    for j in range(len(li2)):\n",
    "        if li1[i] == li2[j]:\n",
    "            total_score += 1\n",
    "            del li2[j]\n",
    "            break\n",
    "            \n",
    "print(total_score)"
   ]
  },
  {
   "cell_type": "markdown",
   "metadata": {},
   "source": [
    "### 축구 게임 13560"
   ]
  },
  {
   "cell_type": "code",
   "execution_count": null,
   "metadata": {},
   "outputs": [],
   "source": [
    "5 4 4 1 1 0\n",
    "1 -> -1"
   ]
  },
  {
   "cell_type": "code",
   "execution_count": 42,
   "metadata": {},
   "outputs": [
    {
     "name": "stdout",
     "output_type": "stream",
     "text": [
      "7\n",
      "6 5 4 4 1 1 0\n",
      "-1\n"
     ]
    }
   ],
   "source": [
    "n = int(input())\n",
    "li = list(map(int, input().split()))\n",
    "li.sort(reverse=True)\n",
    "if li[-2] == 0:\n",
    "    print(-1)\n",
    "elif li[1] == n - 1:\n",
    "    print(-1)\n",
    "elif sum(li) != (n - 1) * n // 2:\n",
    "    print(-1)\n",
    "elif li[0] == n - 1:\n",
    "    result = 1\n",
    "    max_possible = n - 1\n",
    "    for i in range(n):\n",
    "        if li[i] == max_possible:\n",
    "            max_possible -= 1\n",
    "        elif li[i] > max_possible:\n",
    "                result = -1\n",
    "                break\n",
    "        else:\n",
    "            break\n",
    "    print(result)\n",
    "else:\n",
    "    print(1)"
   ]
  },
  {
   "cell_type": "markdown",
   "metadata": {},
   "source": [
    "### 제271회 웰노운컵 16225\n",
    "- 그리디, 정렬, 우선순위 큐"
   ]
  },
  {
   "cell_type": "code",
   "execution_count": null,
   "metadata": {},
   "outputs": [],
   "source": [
    "from heapq import heappush, heappop\n",
    "\n",
    "n = int(input())\n",
    "A = list(map(int, input().split()))\n",
    "B = list(map(int, input().split()))\n",
    "li = sorted(zip(A, B), key=lambda x: x[1])\n",
    "li = [v[0] for v in li]\n",
    "\n",
    "heap = []\n",
    "to_delete = []\n",
    "\n",
    "to_delete.append(li.pop())\n",
    "for value in reversed(li):\n",
    "    heappush(heap, value)\n",
    "    if len(heap) > len(to_delete):\n",
    "        to_delete.append(heappop(heap))\n",
    "    \n",
    "print(sum(heap))"
   ]
  },
  {
   "cell_type": "markdown",
   "metadata": {},
   "source": [
    "### 수 지우기 1467"
   ]
  },
  {
   "cell_type": "code",
   "execution_count": 2,
   "metadata": {},
   "outputs": [
    {
     "name": "stdout",
     "output_type": "stream",
     "text": [
      "63454136\n",
      "344\n",
      "65136\n"
     ]
    }
   ],
   "source": [
    "# 틀렸음\n",
    "li = list(input())\n",
    "to_deletes = list(input())\n",
    "to_deletes.sort(reverse=True)\n",
    "\n",
    "n = len(li)\n",
    "for value in to_deletes:\n",
    "    candidates = []\n",
    "    for i in range(n):\n",
    "        if value == li[i]:\n",
    "            candidates.append(i)\n",
    "        \n",
    "    max_index = float('inf')\n",
    "    max_value = 0\n",
    "    for c in candidates:\n",
    "        new_li = li[:c] + li[c + 1:]\n",
    "        new_value = int(''.join(new_li))\n",
    "        \n",
    "        if new_value > max_value:\n",
    "            max_value = new_value\n",
    "            max_index = c\n",
    "    n -= 1\n",
    "    del li[max_index]\n",
    "    \n",
    "print(''.join(li))"
   ]
  },
  {
   "cell_type": "code",
   "execution_count": 10,
   "metadata": {},
   "outputs": [
    {
     "name": "stdout",
     "output_type": "stream",
     "text": [
      "31\n"
     ]
    }
   ],
   "source": [
    "6344136\n",
    "344\n",
    "오름차순시 6136 -> 6316\n",
    "\n",
    "1322431\n",
    "322\n",
    "내림차순시 1341 -> 1431\n",
    "\n",
    "24824\n",
    "24\n",
    "\n",
    "24324\n",
    "24\n",
    "\n",
    "53585\n",
    "5\n",
    "5385"
   ]
  },
  {
   "cell_type": "code",
   "execution_count": null,
   "metadata": {},
   "outputs": [],
   "source": [
    "2163441362\n",
    "2344\n",
    "\n",
    "251634413621\n",
    "23445\n",
    "\n",
    "13224321\n",
    "322\n",
    "\n",
    "14321"
   ]
  },
  {
   "cell_type": "code",
   "execution_count": 9,
   "metadata": {},
   "outputs": [
    {
     "name": "stdout",
     "output_type": "stream",
     "text": [
      "74734582982\n",
      "4782\n",
      "7435892\n"
     ]
    }
   ],
   "source": [
    "from collections import Counter\n",
    "\n",
    "s = input()\n",
    "to_deletes = input()\n",
    "s_c = Counter(s)\n",
    "to_deletes_c = Counter(to_deletes)\n",
    "\n",
    "early_deletes = []\n",
    "for key, value in to_deletes_c.items():\n",
    "    if value - s_c[key] == 0:\n",
    "        early_deletes.append(key)\n",
    "\n",
    "for value in early_deletes:\n",
    "    s = s.replace(value, '')\n",
    "    to_deletes = to_deletes.replace(value, '')\n",
    "\n",
    "to_deletes = sorted(to_deletes, reverse=True)\n",
    "li = list(s)\n",
    "n = len(li)\n",
    "for value in to_deletes:\n",
    "    candidates = []\n",
    "    for i in range(n):\n",
    "        if value == li[i]:\n",
    "            candidates.append(i)\n",
    "        \n",
    "    max_index = float('inf')\n",
    "    max_value = 0\n",
    "    for c in candidates:\n",
    "        new_li = li[:c] + li[c + 1:]\n",
    "        new_value = int(''.join(new_li))\n",
    "        \n",
    "        if new_value > max_value:\n",
    "            max_value = new_value\n",
    "            max_index = c\n",
    "    n -= 1\n",
    "    del li[max_index]\n",
    "    \n",
    "print(''.join(li))"
   ]
  },
  {
   "cell_type": "code",
   "execution_count": null,
   "metadata": {},
   "outputs": [],
   "source": [
    "74734\n",
    "47\n",
    "734 -> 743"
   ]
  },
  {
   "cell_type": "code",
   "execution_count": null,
   "metadata": {},
   "outputs": [],
   "source": [
    "582982\n",
    "82\n",
    "5892 -> 5982"
   ]
  },
  {
   "cell_type": "code",
   "execution_count": null,
   "metadata": {},
   "outputs": [],
   "source": [
    "74734582982\n",
    "4782\n",
    "7345982, 7435892-> 7435982"
   ]
  },
  {
   "cell_type": "markdown",
   "metadata": {},
   "source": [
    "### 버스 1161\n",
    "- 자료 구조, 우선순위 큐"
   ]
  },
  {
   "cell_type": "code",
   "execution_count": 57,
   "metadata": {},
   "outputs": [
    {
     "name": "stdout",
     "output_type": "stream",
     "text": [
      "4 15 4\n",
      "1 7 2\n",
      "2 10 2\n",
      "10 12 3\n",
      "8 14 4\n",
      "[(-7, 2)] 1 7 cumul: 2 total: 2\n",
      "[(-10, 2), (-7, 2)] 2 10 cumul: 4 total: 4\n",
      "[(-12, 3), (-7, 1)] 10 12 cumul: 4 total: 7\n",
      "[(-14, 1), (-12, 3)] 8 14 cumul: 4 total: 8\n",
      "8\n"
     ]
    }
   ],
   "source": [
    "from heapq import heappush, heappop\n",
    "import sys\n",
    "# input = sys.stdin.readline\n",
    "\n",
    "k, n, c = map(int, input().rstrip().split()) \n",
    "li = [list(map(int, input().rstrip().split())) for _ in range(k)]\n",
    "li.sort(key=lambda x: (x[1], x[0]))\n",
    "\n",
    "heap = []\n",
    "total = 0\n",
    "cumul = 0\n",
    "for i in range(k):\n",
    "    start, end, popul = li[i]\n",
    "    \n",
    "    if not heap:\n",
    "        heappush(heap, (-end, min(c, popul)))\n",
    "        cumul += min(c, popul)\n",
    "        total = cumul\n",
    "    else:\n",
    "        temp = []\n",
    "        total_newly_added = 0\n",
    "        while heap:\n",
    "            former_end, p = heappop(heap)\n",
    "            former_end = -former_end\n",
    "            \n",
    "            if former_end <= start:\n",
    "                to_delete = min(popul, p)\n",
    "                popul -= to_delete\n",
    "                cumul -= to_delete\n",
    "                p -= to_delete\n",
    "                total_newly_added += to_delete\n",
    "                if popul == 0:\n",
    "                    if p > 0:\n",
    "                        heap.append((-former_end, p))\n",
    "                    break\n",
    "            else:\n",
    "                temp.append((former_end, p))\n",
    "                \n",
    "        for t in temp:\n",
    "            heappush(heap, (-t[0], t[1]))\n",
    "            \n",
    "        cumul += total_newly_added\n",
    "        if cumul < c:\n",
    "            total_newly_added += min(popul, c - cumul)\n",
    "            cumul += min(popul, c - cumul)\n",
    "        total += total_newly_added\n",
    "        \n",
    "        if total_newly_added > 0:\n",
    "            heappush(heap, (-end, total_newly_added))\n",
    "            \n",
    "#     print(heap, start, end, 'cumul:', cumul, 'total:', total)\n",
    "        \n",
    "print(total)"
   ]
  },
  {
   "cell_type": "code",
   "execution_count": null,
   "metadata": {},
   "outputs": [],
   "source": [
    "5 15 4\n",
    "1 3 1\n",
    "4 5 1\n",
    "6 7 1\n",
    "8 9 1\n",
    "7 15 4\n",
    "[(-3, 1)] 1 3\n",
    "[(-5, 1)] 4 5\n",
    "[(-7, 1)] 6 7\n",
    "[(-9, 1)] 8 9\n",
    "[(-9, 1)] 7 15\n",
    "4"
   ]
  },
  {
   "cell_type": "markdown",
   "metadata": {},
   "source": [
    "### 같은 수로 만들기 2 13146"
   ]
  },
  {
   "cell_type": "code",
   "execution_count": 27,
   "metadata": {},
   "outputs": [
    {
     "name": "stdout",
     "output_type": "stream",
     "text": [
      "1\n",
      "4\n",
      "0\n"
     ]
    }
   ],
   "source": [
    "# 맞았음, 링크드 리스트 형식을 리스트로 직접 구현하였음\n",
    "from heapq import heapify, heappush, heappop\n",
    "import sys\n",
    "# input = sys.stdin.readline\n",
    "\n",
    "n = int(input().rstrip())\n",
    "li = [] # [value, former_index, next_index]\n",
    "\n",
    "former_value = float('inf')\n",
    "current_index = 0\n",
    "for _ in range(n):\n",
    "    value = int(input().rstrip())\n",
    "    if value != former_value:\n",
    "        former_value = value\n",
    "        li.append([value, current_index - 1, current_index + 1])\n",
    "        current_index += 1\n",
    "\n",
    "li[0][1] = li[-1][2] = None\n",
    "\n",
    "heap = [(li[i][0], i) for i in range(len(li))]\n",
    "heapify(heap)\n",
    "\n",
    "total_add_count = 0\n",
    "while len(heap) > 1:\n",
    "    value, index = heappop(heap)\n",
    "    min_around_value = float('inf')\n",
    "    for i in range(1, 3):\n",
    "        if li[index][i] != None:\n",
    "            min_around_value = min(min_around_value, li[li[index][i]][0])\n",
    "            li[li[index][i]][3 - i] = li[index][3 - i]\n",
    "    total_add_count += min_around_value - value\n",
    "    \n",
    "print(total_add_count)"
   ]
  },
  {
   "cell_type": "markdown",
   "metadata": {},
   "source": [
    "### Pen Pineapple Apple Pen  15881"
   ]
  },
  {
   "cell_type": "code",
   "execution_count": null,
   "metadata": {},
   "outputs": [],
   "source": [
    "n = int(input())\n",
    "s = input()\n",
    "\n",
    "count = 0\n",
    "current_check = 0\n",
    "for value in s:\n",
    "    if current_check <= 2:           \n",
    "        if current_check == 1:\n",
    "            if value == 'P':\n",
    "                current_check += 1\n",
    "            else:\n",
    "                current_check = 0\n",
    "        elif current_check == 2:\n",
    "            if value == 'A':\n",
    "                current_check += 1\n",
    "            else:\n",
    "                current_check = 0\n",
    "        if value == 'p':\n",
    "            current_check = 1    \n",
    "    else:\n",
    "        current_check = 0\n",
    "        if value == 'p':\n",
    "            count += 1\n",
    "            \n",
    "print(count)"
   ]
  },
  {
   "cell_type": "markdown",
   "metadata": {},
   "source": [
    "### 숫자 게임 2923\n",
    "- 두 포인터"
   ]
  },
  {
   "cell_type": "raw",
   "metadata": {},
   "source": [
    "하나는 내림차순, 하나는 오름차순으로 두고 차례대로 더한 최댓값을 구해야 한다.\n",
    "시간 초과나는 해결 방법: 받을 때마다 새로 정렬 후 하나는 처음부터 하나는 끝부터\n",
    "                         인덱스를 돌리면서 값을 더해나가며 최댓값을 구한다.\n",
    "                         \n",
    "숫자가 1부터 100까지임을 이용\n",
    "A = [0] * 101\n",
    "B = [0] * 101\n",
    "\n",
    "A는 1부터 오른쪽으로 B는 100부터 왼쪽으로\n",
    "만약 값이 둘 다 0이면 각각 오른쪽, 왼쪽으로 보냄. 한쪽은 값 있고 다른 쪽은 값 없으면 없는 쪽이 이동함\n",
    "만약 두 값이 같으면 해당 인덱스의 합 max 비교하고 각각 오른쪽, 왼쪽으로 보냄, 만약 한 쪽 값이 더 크면 차 만큼 기회 저장해두었다가 다음과 비교함 기회 없는 쪽은 이동함. 역전되거나 범위 벗어나게되면 종료함. Max값 출력함.\n",
    "\n",
    "remain으로 갱신하는 방식을 써서 값을 누적시키는 배열에서 직접 빼지 않도록 함\n",
    "\n",
    "값 있는 것들끼리 만났을시 remain에 해당 값들을 할당함. remain이 서로 같을시 다 0으로 만들고 비교 후 넘김.\n",
    "remain이 서로 다를시 큰거에서 작은거 빼고 remain에 남김 없는 쪽은 넘어가서 다시 채움 "
   ]
  },
  {
   "cell_type": "code",
   "execution_count": 14,
   "metadata": {},
   "outputs": [
    {
     "name": "stdout",
     "output_type": "stream",
     "text": [
      "4\n",
      "1 4\n",
      "5\n",
      "5 5\n",
      "9\n",
      "5 5\n",
      "10\n",
      "5 5\n",
      "10\n"
     ]
    }
   ],
   "source": [
    "import sys\n",
    "# input = sys.stdin.readline\n",
    "\n",
    "n = int(input().rstrip())\n",
    "A = [0] * 102\n",
    "B = [0] * 102\n",
    "for _ in range(n):\n",
    "    a_value, b_value = map(int, input().rstrip().split())\n",
    "    A[a_value] += 1\n",
    "    B[b_value] += 1\n",
    "    \n",
    "    a_index = 1\n",
    "    b_index = 100\n",
    "    \n",
    "    a_remain = A[a_index]\n",
    "    b_remain = B[b_index]\n",
    "    \n",
    "    max_value = 0\n",
    "    while 1 <= b_index and a_index <= 100:\n",
    "        if a_remain == 0:\n",
    "            a_index += 1\n",
    "            a_remain = A[a_index]\n",
    "            continue\n",
    "        if b_remain == 0:\n",
    "            b_index -= 1\n",
    "            b_remain = B[b_index]\n",
    "            continue\n",
    "        if a_remain == b_remain:\n",
    "            max_value = max(max_value, a_index + b_index)\n",
    "            a_index += 1\n",
    "            b_index -= 1\n",
    "            a_remain = A[a_index]\n",
    "            b_remain = B[b_index]\n",
    "            continue\n",
    "        if a_remain > b_remain:\n",
    "            max_value = max(max_value, a_index + b_index)\n",
    "            a_remain -= b_remain\n",
    "            b_index -= 1\n",
    "            b_remain = B[b_index]\n",
    "            continue\n",
    "        max_value = max(max_value, a_index + b_index)\n",
    "        b_remain -= a_remain\n",
    "        a_index += 1\n",
    "        a_remain = A[a_index]\n",
    "        \n",
    "    print(max_value)   "
   ]
  },
  {
   "cell_type": "code",
   "execution_count": null,
   "metadata": {},
   "outputs": [],
   "source": [
    "4\n",
    "1 1\n",
    "9 8\n",
    "9 9\n",
    "10 10\n",
    "\n",
    "답:\n",
    "2\n",
    "10\n",
    "17\n",
    "18"
   ]
  },
  {
   "cell_type": "markdown",
   "metadata": {},
   "source": [
    "### 수열 줄이기 3366"
   ]
  },
  {
   "cell_type": "raw",
   "metadata": {},
   "source": [
    "처음에 오름차순 케이스들을 먼저 처리하고 내림차순을 뒤에서부터 처리하면 어떨까?\n",
    "\n",
    "반례: 4 1 5\n",
    "\n",
    "합쳤을 때의 max 값이 가장 작은 값들부터 합침\n",
    "근데 리스트의 각 원소들을 max(li[i], li[i + 1])했을 때의 경우의 합과 같은 것으로 보임"
   ]
  },
  {
   "cell_type": "code",
   "execution_count": null,
   "metadata": {},
   "outputs": [],
   "source": [
    "import sys\n",
    "input = sys.stdin.readline\n",
    "\n",
    "n = int(input().rstrip())\n",
    "li = [int(input().rstrip()) for _ in range(n)]\n",
    "total = 0\n",
    "for i in range(1, n):\n",
    "    total += max(li[i - 1], li[i])\n",
    "    \n",
    "print(total)"
   ]
  },
  {
   "cell_type": "code",
   "execution_count": 6,
   "metadata": {},
   "outputs": [
    {
     "name": "stdout",
     "output_type": "stream",
     "text": [
      "3\n",
      "1\n",
      "2\n",
      "3\n",
      "5\n"
     ]
    }
   ],
   "source": [
    "# 숏코딩\n",
    "import sys;r=sys.stdin.readline;l=lambda _:int(r());n=l(1);a=[l(1)for _ in range(n)];print(sum((max(a[i-1],a[i])for i in range(1,n)))if a else 0)"
   ]
  },
  {
   "cell_type": "markdown",
   "metadata": {},
   "source": [
    "### 상남자 곽철용 17947"
   ]
  },
  {
   "cell_type": "code",
   "execution_count": null,
   "metadata": {},
   "outputs": [],
   "source": [
    "### 첫 번째에 뽑은 것, 곽철용이 뽑은 것 제외 전부 나머지 구해서 정렬해둠\n",
    "### 정렬된 것에서 두 포인터 돌리면서 곽철용보다 높은 점수가 되는 쌍에서 작은 값만 set에 추가\n",
    "### set 길이 추가"
   ]
  },
  {
   "cell_type": "code",
   "execution_count": null,
   "metadata": {},
   "outputs": [],
   "source": [
    "# 일단 포기\n",
    "import sys\n",
    "# input = sys.stdin.readline\n",
    "\n",
    "n, m, k = map(int, input().rstrip().split())\n",
    "st = set()\n",
    "for _ in range(m):\n",
    "    a, b = map(int, input().rstrip().split())\n",
    "    st.add(a)\n",
    "    st.add(b)\n",
    "a, b = map(int, input().rstrip().split())\n",
    "criteria = abs(a % k - b % k)\n",
    "st.add(a)\n",
    "st.add(b)\n",
    "\n",
    "li = sorted([i % k for i in range(1, 4 * n + 1) if i not in st])\n",
    "start = 0\n",
    "end = 1\n",
    "\n",
    "used = set()\n",
    "while start <= end < len(li):\n",
    "    if li[end] - li[start] > criteria:\n",
    "        used.add(start)\n",
    "        used.add(end)\n",
    "        start += 1\n",
    "        end += 1\n",
    "    else:\n",
    "        end += 1\n",
    "        \n",
    "print(len(used) // 2)"
   ]
  },
  {
   "cell_type": "code",
   "execution_count": null,
   "metadata": {},
   "outputs": [],
   "source": [
    "5 5 5\n",
    "10 2\n",
    "3 7\n",
    "4 8\n",
    "14 6\n",
    "12 18\n",
    "9 11\n",
    "1"
   ]
  },
  {
   "cell_type": "code",
   "execution_count": 13,
   "metadata": {},
   "outputs": [
    {
     "data": {
      "text/plain": [
       "[0, 0, 0, 1, 1, 2, 3, 4]"
      ]
     },
     "execution_count": 13,
     "metadata": {},
     "output_type": "execute_result"
    }
   ],
   "source": [
    "0 1 4 5 8 9\n",
    "답: 3\n",
    "    \n",
    "0 5\n",
    "1 8\n",
    "4 9\n"
   ]
  },
  {
   "cell_type": "markdown",
   "metadata": {},
   "source": [
    "### 소가 길을 건너간 이유 3 14469"
   ]
  },
  {
   "cell_type": "code",
   "execution_count": 1,
   "metadata": {},
   "outputs": [
    {
     "name": "stdout",
     "output_type": "stream",
     "text": [
      "3\n",
      "2 1\n",
      "8 3\n",
      "5 7\n",
      "15\n"
     ]
    }
   ],
   "source": [
    "n = int(input())\n",
    "\n",
    "li = [list(map(int, input().split())) for _ in range(n)]\n",
    "li.sort()\n",
    "\n",
    "cur = 0\n",
    "for s, d in li:\n",
    "    if cur < s:\n",
    "        cur = s\n",
    "    cur += d\n",
    "    \n",
    "print(cur)"
   ]
  },
  {
   "cell_type": "markdown",
   "metadata": {},
   "source": [
    "### Byte Coin 17521"
   ]
  },
  {
   "cell_type": "code",
   "execution_count": 10,
   "metadata": {},
   "outputs": [
    {
     "name": "stdout",
     "output_type": "stream",
     "text": [
      "7 54\n",
      "7\n",
      "5\n",
      "5\n",
      "4\n",
      "2\n",
      "2\n",
      "1\n",
      "54\n"
     ]
    }
   ],
   "source": [
    "n, w = map(int, input().split())\n",
    "li = [int(input()) for _ in range(n)]\n",
    "\n",
    "cur = w\n",
    "byte = 0\n",
    "for i in range(n - 1):\n",
    "    if li[i] < li[i + 1]:\n",
    "        count = cur // li[i]\n",
    "        byte += count\n",
    "        cur -= count * li[i]\n",
    "    elif li[i] > li[i + 1]:\n",
    "        cur += byte * li[i]\n",
    "        byte = 0\n",
    "        \n",
    "print(cur + byte * li[-1])"
   ]
  },
  {
   "cell_type": "markdown",
   "metadata": {},
   "source": [
    "### 오셀로 재배치 13413"
   ]
  },
  {
   "cell_type": "code",
   "execution_count": 15,
   "metadata": {},
   "outputs": [
    {
     "name": "stdout",
     "output_type": "stream",
     "text": [
      "5\n",
      "WBBWW\n",
      "WBWBW\n",
      "1\n"
     ]
    }
   ],
   "source": [
    "import sys\n",
    "# input = lambda: sys.stdin.readline().rstrip()\n",
    "\n",
    "for _ in range(int(input())):\n",
    "    n = int(input())\n",
    "    a = input()\n",
    "    b = input()\n",
    "\n",
    "    b_to_w = 0\n",
    "    w_to_b = 0\n",
    "    for i in range(n):\n",
    "        if a[i] != b[i]:\n",
    "            if b[i] == 'W':\n",
    "                b_to_w += 1\n",
    "            else:\n",
    "                w_to_b += 1\n",
    "\n",
    "    temp = min(b_to_w, w_to_b)\n",
    "    result = b_to_w + w_to_b - temp\n",
    "\n",
    "    print(result)"
   ]
  },
  {
   "cell_type": "markdown",
   "metadata": {},
   "source": [
    "### Project Teams 20044"
   ]
  },
  {
   "cell_type": "code",
   "execution_count": 21,
   "metadata": {},
   "outputs": [
    {
     "name": "stdout",
     "output_type": "stream",
     "text": [
      "3\n",
      "1 7 3 5 9 2\n",
      "8\n"
     ]
    }
   ],
   "source": [
    "n = int(input())\n",
    "li = sorted(map(int, input().split()))\n",
    "\n",
    "Sm = float('inf')\n",
    "for i in range(n):\n",
    "    Sm = min(Sm, li[i] + li[2 * n - 1 - i])\n",
    "    \n",
    "print(Sm)"
   ]
  },
  {
   "cell_type": "markdown",
   "metadata": {},
   "source": [
    "### 우리집엔 도서관이 있어 2872"
   ]
  },
  {
   "cell_type": "code",
   "execution_count": 36,
   "metadata": {},
   "outputs": [
    {
     "name": "stdout",
     "output_type": "stream",
     "text": [
      "4\n",
      "1\n",
      "3\n",
      "4\n",
      "2\n",
      "2\n"
     ]
    }
   ],
   "source": [
    "import sys\n",
    "# input = lambda: sys.stdin.readline().rstrip()\n",
    "\n",
    "n = int(input())\n",
    "li = [int(input()) for _ in range(n)]\n",
    "cur = n\n",
    "for i in range(n - 1, -1, -1):\n",
    "     if li[i] == cur:\n",
    "        cur -= 1   \n",
    "        \n",
    "print(cur)"
   ]
  },
  {
   "cell_type": "markdown",
   "metadata": {},
   "source": [
    "### 최고의 피자 5545"
   ]
  },
  {
   "cell_type": "code",
   "execution_count": 42,
   "metadata": {},
   "outputs": [
    {
     "name": "stdout",
     "output_type": "stream",
     "text": [
      "4\n",
      "20 3\n",
      "900\n",
      "300\n",
      "100\n",
      "400\n",
      "1300\n",
      "100\n"
     ]
    }
   ],
   "source": [
    "n = int(input())\n",
    "a, b = map(int, input().split())\n",
    "base = int(input())\n",
    "li = [int(input()) for _ in range(n)]\n",
    "\n",
    "li.sort(reverse=True)\n",
    "cur_ratio = base / a\n",
    "total_price = a\n",
    "total_k = base\n",
    "for tk in li:\n",
    "    if tk / b > cur_ratio:\n",
    "        total_price += b\n",
    "        total_k += tk\n",
    "        cur_ratio = total_k / total_price\n",
    "    else:\n",
    "        break\n",
    "        \n",
    "print(int(cur_ratio))"
   ]
  },
  {
   "cell_type": "markdown",
   "metadata": {},
   "source": [
    "### 주식 11501"
   ]
  },
  {
   "cell_type": "code",
   "execution_count": 52,
   "metadata": {},
   "outputs": [
    {
     "name": "stdout",
     "output_type": "stream",
     "text": [
      "5\n",
      "1 1 3 1 2\n",
      "5\n"
     ]
    }
   ],
   "source": [
    "import sys\n",
    "input = lambda: sys.stdin.readline().rstrip()\n",
    "\n",
    "for _ in range(int(input())):\n",
    "    n = int(input())\n",
    "    li = list(map(int, input().split()))\n",
    "\n",
    "    cmsp = li[n - 1] # cur_max_stock_price\n",
    "    profit = 0\n",
    "    for i in range(n - 2, -1, -1):\n",
    "        if li[i] < cmsp:\n",
    "            profit += cmsp - li[i]\n",
    "        else:\n",
    "            cmsp = li[i]\n",
    "\n",
    "    print(profit)"
   ]
  },
  {
   "cell_type": "markdown",
   "metadata": {},
   "source": [
    "### 2+1 세일 11508"
   ]
  },
  {
   "cell_type": "code",
   "execution_count": 54,
   "metadata": {},
   "outputs": [
    {
     "name": "stdout",
     "output_type": "stream",
     "text": [
      "6\n",
      "6\n",
      "4\n",
      "5\n",
      "5\n",
      "5\n",
      "5\n",
      "21\n"
     ]
    }
   ],
   "source": [
    "import sys\n",
    "# input = lambda: sys.stdin.readline().rstrip()\n",
    "\n",
    "n = int(input())\n",
    "li = [int(input()) for _ in range(n)]\n",
    "\n",
    "li.sort(reverse=True)\n",
    "price = 0\n",
    "for i in range(n):\n",
    "    if i % 3 == 2:\n",
    "        continue\n",
    "    price += li[i]\n",
    "    \n",
    "print(price)"
   ]
  },
  {
   "cell_type": "markdown",
   "metadata": {},
   "source": [
    "### Yonsei TOTO 12018"
   ]
  },
  {
   "cell_type": "code",
   "execution_count": 60,
   "metadata": {},
   "outputs": [
    {
     "name": "stdout",
     "output_type": "stream",
     "text": [
      "2 10\n",
      "1 1\n",
      "10\n",
      "2 10\n",
      "1 1\n",
      "1\n"
     ]
    }
   ],
   "source": [
    "n, m = map(int, input().split())\n",
    "\n",
    "cands = []\n",
    "for _ in range(n):\n",
    "    p, l = map(int, input().split())\n",
    "    li = sorted(map(int, input().split()), reverse=True)\n",
    "    \n",
    "    if p < l:\n",
    "        cands.append(1)\n",
    "    else:\n",
    "        cands.append(li[l - 1])\n",
    "    \n",
    "cands.sort()\n",
    "count = 0\n",
    "for cand in cands:\n",
    "    if cand <= m:\n",
    "        count += 1\n",
    "        m -= cand\n",
    "    else:\n",
    "        break\n",
    "        \n",
    "print(count)"
   ]
  },
  {
   "cell_type": "markdown",
   "metadata": {},
   "source": [
    "### 카드 문자열 13417"
   ]
  },
  {
   "cell_type": "code",
   "execution_count": 63,
   "metadata": {},
   "outputs": [
    {
     "name": "stdout",
     "output_type": "stream",
     "text": [
      "7\n",
      "B A C A B A C\n",
      "AAABCBC\n"
     ]
    }
   ],
   "source": [
    "from collections import deque\n",
    "import sys\n",
    "# input = lambda: sys.stdin.readline().rstrip()\n",
    "\n",
    "for _ in range(int(input())):\n",
    "    n = int(input())\n",
    "    li = input().split()\n",
    "\n",
    "    deq = deque()\n",
    "    deq.append(li[0])\n",
    "    for i in range(1, n):\n",
    "        if li[i] <= deq[0]:\n",
    "            deq.appendleft(li[i])\n",
    "        else:\n",
    "            deq.append(li[i])\n",
    "\n",
    "    print(''.join(deq))"
   ]
  },
  {
   "cell_type": "markdown",
   "metadata": {},
   "source": [
    "### 구두 수선공 14908"
   ]
  },
  {
   "cell_type": "code",
   "execution_count": 11,
   "metadata": {},
   "outputs": [
    {
     "name": "stdout",
     "output_type": "stream",
     "text": [
      "4\n",
      "3 4\n",
      "1 1000\n",
      "2 2\n",
      "5 5\n",
      "2 1 3 4\n"
     ]
    }
   ],
   "source": [
    "import sys\n",
    "input = lambda: sys.stdin.readline().rstrip()\n",
    "\n",
    "def compare(a, b):\n",
    "    if nd[a] * sp[b] < nd[b] * sp[a]:\n",
    "        return True\n",
    "    else:\n",
    "        return False\n",
    "\n",
    "def cqs(li):\n",
    "    \"\"\"custom quick sort\"\"\"\n",
    "    \n",
    "    if len(li) <= 1:\n",
    "        return li\n",
    "    \n",
    "    left = []\n",
    "    right = []\n",
    "    pivot = li[0]\n",
    "    for i in range(1, len(li)):\n",
    "        if compare(li[i], pivot):\n",
    "            left.append(li[i])\n",
    "        else:\n",
    "            right.append(li[i])\n",
    "            \n",
    "    return cqs(left) + [pivot] + cqs(right)\n",
    "\n",
    "def plus_1(v):\n",
    "    return v + 1\n",
    "\n",
    "n = int(input())\n",
    "\n",
    "nd = [] # needed_days\n",
    "sp = [] # spents\n",
    "for _ in range(n):\n",
    "    a, b = map(int, input().split())\n",
    "    nd.append(a)\n",
    "    sp.append(b)\n",
    "    \n",
    "indices = list(range(n))\n",
    "print(*map(plus_1, cqs(indices)))"
   ]
  },
  {
   "cell_type": "markdown",
   "metadata": {},
   "source": [
    "### SW 역량 테스트 13448"
   ]
  },
  {
   "cell_type": "code",
   "execution_count": null,
   "metadata": {},
   "outputs": [],
   "source": [
    "처음에 테스트 시간 넘는 문제들 제거함\n",
    "exchange argument\n",
    "  테스트 시간을 넘을 경우의 처리는? -> 해당 문제는 0점으로 처리함\n",
    "처음부터 돌리면서 점수 계산함"
   ]
  },
  {
   "cell_type": "code",
   "execution_count": 37,
   "metadata": {},
   "outputs": [
    {
     "name": "stdout",
     "output_type": "stream",
     "text": [
      "3 30\n",
      "100 100 100000\n",
      "1 1 100\n",
      "15 15 30\n",
      "97000\n"
     ]
    }
   ],
   "source": [
    "# 틀렸음, 일단 포기\n",
    "def get_score(i, t):\n",
    "    if t > T:\n",
    "        return 0\n",
    "    else:\n",
    "        return max(0, ms[i] - t * ps[i])\n",
    "\n",
    "def compare(a, b):\n",
    "    absc = 0 # a to b score\n",
    "    t = rs[a]\n",
    "    absc += get_score(a, t)\n",
    "    t += rs[b]\n",
    "    absc += get_score(b, t)\n",
    "    \n",
    "    basc = 0 # b to a score\n",
    "    t = rs[b]\n",
    "    basc += get_score(b, t)\n",
    "    t += rs[a]\n",
    "    basc += get_score(a, t)\n",
    "    \n",
    "    if absc >= basc:\n",
    "        return True\n",
    "    return False\n",
    "    \n",
    "def cqs(li):\n",
    "    \"\"\"custom quick sort\"\"\"\n",
    "    \n",
    "    if len(li) <= 1:\n",
    "        return li\n",
    "    pivot = li[0]\n",
    "    left = []\n",
    "    right = []\n",
    "    for i in range(1, len(li)):\n",
    "        if compare(li[i], pivot):\n",
    "            left.append(li[i])\n",
    "        else:\n",
    "            right.append(li[i])\n",
    "    \n",
    "    return cqs(left) + [pivot] + cqs(right)\n",
    "\n",
    "n, T = map(int, input().split())\n",
    "ms = list(map(int, input().split()))\n",
    "ps = list(map(int, input().split()))\n",
    "rs = list(map(int, input().split()))\n",
    "\n",
    "to_delete = []\n",
    "for i in range(n - 1, -1, -1):\n",
    "    if rs[i] > T or ms[i] <= rs[i] * ps[i]:\n",
    "        to_delete.append(i) \n",
    "for i in to_delete:\n",
    "    del ms[i]\n",
    "    del ps[i]\n",
    "    del rs[i]\n",
    "    \n",
    "n = len(ms)\n",
    "indices = list(range(n))\n",
    "\n",
    "indices = cqs(indices)\n",
    "max_score = 0\n",
    "cur_time = 0\n",
    "for i in indices:\n",
    "    cur_time += rs[i]\n",
    "    \n",
    "    if cur_time > T:\n",
    "        cur_time -= rs[i]\n",
    "        continue\n",
    "        \n",
    "    score = ms[i] - cur_time * ps[i]\n",
    "    if score >= 1:\n",
    "        max_score += score\n",
    "    else:\n",
    "        cur_time -= rs[i]\n",
    "    \n",
    "print(max_score)"
   ]
  },
  {
   "cell_type": "markdown",
   "metadata": {},
   "source": [
    "### 카풀 매칭 17280"
   ]
  },
  {
   "cell_type": "code",
   "execution_count": null,
   "metadata": {},
   "outputs": [],
   "source": [
    "승객을 위치 순으로 정렬함\n",
    "택시를 가장 멀리 떨어진 곳을 기준으로 정렬함\n",
    "가장 먼 위치의 승객부터 순회하면서 해당 승객을 태울 수 있는 모든 택시의 시작값을 최대힙에 넣음\n",
    "그 후에 힙에서 꺼내면서 해당 승객을 태울 수 없는 값들은 바로 제거하고 태울 수 있으면 count + 1하고 다음 승객으로 넘어감\n",
    "이 동안 heap이 비어있는 등의 조건도 확인해야됨"
   ]
  },
  {
   "cell_type": "code",
   "execution_count": null,
   "metadata": {},
   "outputs": [],
   "source": [
    "from heapq import heappush, heappop\n",
    "import sys\n",
    "# input = lambda: sys.stdin.readline().rstrip()\n",
    "\n",
    "for _ in range(int(input())):\n",
    "    n, m = map(int, input().split())\n",
    "    cs = sorted(map(int, input().split()), reverse=True) # customers\n",
    "    ds = [list(map(int, input().split())) for _ in range(m)] # drivers\n",
    "\n",
    "    ds.sort(key=lambda x: x[1])\n",
    "    heap = []\n",
    "    count = 0\n",
    "    for c in cs:\n",
    "        while ds and c <= ds[-1][1]:\n",
    "            heappush(heap, -ds.pop()[0])\n",
    "\n",
    "        while heap:\n",
    "            s = heappop(heap)\n",
    "            if c < -s:\n",
    "                continue\n",
    "            else:\n",
    "                heappush(heap, s)\n",
    "                break\n",
    "\n",
    "        if heap:\n",
    "            heappop(heap)\n",
    "            count += 1\n",
    "\n",
    "    print(count)"
   ]
  },
  {
   "cell_type": "markdown",
   "metadata": {},
   "source": [
    "### Touch The Sky 15773"
   ]
  },
  {
   "cell_type": "raw",
   "metadata": {},
   "source": [
    "고도제한이 낮은 순서로 정렬,\n",
    "낮은 고도제한을 가진 풍선들부터 확인해보면서\n",
    "heap은 (현재 고도, 터뜨린 풍선 개수)이며, 현재 고도가 낮은 순, 풍선을 많이 터뜨린 순으로 관리함\n",
    "같거나 더 높은 고도라면 더 많이 풍선을 터뜨린 경우만 남길 수 있음\n",
    "-> 처음 구상 방식: 시간 초과"
   ]
  },
  {
   "cell_type": "code",
   "execution_count": null,
   "metadata": {},
   "outputs": [],
   "source": [
    "from heapq import heappush, heappop\n",
    "\n",
    "n = int(input())\n",
    "li = [list(map(int, input().split())) for _ in range(n)]\n",
    "li.sort(key=lambda x: x[0])\n",
    "\n",
    "heap = [(0, 0)]\n",
    "for res, cp in li:\n",
    "    cur_pc = 0\n",
    "    for \n",
    "    h, pc =  heappop(heap) # h: height, pc: popped count"
   ]
  },
  {
   "cell_type": "markdown",
   "metadata": {},
   "source": [
    "### 거스름돈 14916"
   ]
  },
  {
   "cell_type": "code",
   "execution_count": 9,
   "metadata": {},
   "outputs": [
    {
     "name": "stdout",
     "output_type": "stream",
     "text": [
      "14\n",
      "4\n"
     ]
    }
   ],
   "source": [
    "# 맞았음 dp\n",
    "n = int(input())\n",
    "\n",
    "dp = [float('inf')] * (n + 1)\n",
    "dp[n] = 0\n",
    "\n",
    "for i in range(n, 4, -1):\n",
    "    dp[i - 5] = min(dp[i - 5], dp[i] + 1)\n",
    "    \n",
    "for i in range(n, 1, -1):\n",
    "    dp[i - 2] = min(dp[i - 2], dp[i] + 1)\n",
    "    \n",
    "if dp[0] != float('inf'):\n",
    "    print(dp[0])\n",
    "else:\n",
    "    print(-1)"
   ]
  },
  {
   "cell_type": "code",
   "execution_count": 12,
   "metadata": {},
   "outputs": [
    {
     "name": "stdout",
     "output_type": "stream",
     "text": [
      "1\n",
      "-1\n"
     ]
    }
   ],
   "source": [
    "# 맞았음, 그리디\n",
    "n = int(input())\n",
    "\n",
    "result = 0\n",
    "while n >= 0:\n",
    "    if n % 5 == 0:\n",
    "        result += n // 5\n",
    "        print(result)\n",
    "        break\n",
    "    n -= 2\n",
    "    result += 1\n",
    "else:\n",
    "    print(-1)"
   ]
  },
  {
   "cell_type": "markdown",
   "metadata": {},
   "source": [
    "### 인간 탑 쌓기 2123"
   ]
  },
  {
   "cell_type": "code",
   "execution_count": 17,
   "metadata": {},
   "outputs": [
    {
     "name": "stdout",
     "output_type": "stream",
     "text": [
      "3\n",
      "10 3\n",
      "2 5\n",
      "3 3\n",
      "2\n"
     ]
    }
   ],
   "source": [
    "import sys\n",
    "# input = lambda: sys.stdin.readline().rstrip()\n",
    "\n",
    "def compare(a, b):\n",
    "    if a[0] - b[1] < b[0] - a[1]:\n",
    "        return True\n",
    "    return False\n",
    "    \n",
    "def cqs(li):\n",
    "    \"\"\"custom quick sort\"\"\"\n",
    "    \n",
    "    if len(li) <= 1:\n",
    "        return li\n",
    "    \n",
    "    pivot = li[0]\n",
    "    # left에 해당하는 사람들이 위쪽으로 와야함\n",
    "    left, right = [], []\n",
    "    for i in range(1, len(li)):\n",
    "        if compare(li[i], pivot):\n",
    "            left.append(li[i])\n",
    "        else:\n",
    "            right.append(li[i])\n",
    "            \n",
    "    return cqs(left) + [pivot] + cqs(right)\n",
    "\n",
    "n = int(input())\n",
    "li = [list(map(int, input().split())) for _ in range(n)]\n",
    "\n",
    "li = cqs(li)\n",
    "\n",
    "cw = 0 # cumul weight\n",
    "md = -float('inf') # max danger\n",
    "for w, s in li:\n",
    "    md = max(md, cw - s)\n",
    "    cw += w\n",
    "    \n",
    "print(md)"
   ]
  }
 ],
 "metadata": {
  "kernelspec": {
   "display_name": "Python 3",
   "language": "python",
   "name": "python3"
  },
  "language_info": {
   "codemirror_mode": {
    "name": "ipython",
    "version": 3
   },
   "file_extension": ".py",
   "mimetype": "text/x-python",
   "name": "python",
   "nbconvert_exporter": "python",
   "pygments_lexer": "ipython3",
   "version": "3.7.3"
  }
 },
 "nbformat": 4,
 "nbformat_minor": 4
}
