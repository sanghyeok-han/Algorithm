{
 "cells": [
  {
   "cell_type": "markdown",
   "metadata": {},
   "source": [
    "### 배 1092"
   ]
  },
  {
   "cell_type": "code",
   "execution_count": 31,
   "metadata": {},
   "outputs": [
    {
     "name": "stdout",
     "output_type": "stream",
     "text": [
      "1\n",
      "4\n",
      "4\n",
      "1 2 3 4\n",
      "4\n"
     ]
    }
   ],
   "source": [
    "n = int(input())\n",
    "cranes = list(map(int, input().split()))\n",
    "m = int(input())\n",
    "boxes = list(map(int, input().split()))\n",
    "\n",
    "cranes.sort(reverse=True)\n",
    "boxes.sort()\n",
    "if boxes[-1] > cranes[0]:\n",
    "    print(-1)\n",
    "elif n == 1:\n",
    "    print(m)\n",
    "else:\n",
    "    used_counts = [0] * n\n",
    "    i = 0\n",
    "    while boxes:\n",
    "        value = boxes.pop()\n",
    "        if cranes[i] < value:\n",
    "            used_counts[0] += 1\n",
    "            i = 1\n",
    "        else:\n",
    "            used_counts[i] += 1\n",
    "            if used_counts[i] == used_counts[0]:\n",
    "                i += 1\n",
    "                if i == n:\n",
    "                    i = 0\n",
    "    print(used_counts[0])"
   ]
  },
  {
   "cell_type": "markdown",
   "metadata": {},
   "source": [
    "### 스택 수열 1874"
   ]
  },
  {
   "cell_type": "code",
   "execution_count": 34,
   "metadata": {},
   "outputs": [
    {
     "name": "stdout",
     "output_type": "stream",
     "text": [
      "5\n",
      "1\n",
      "2\n",
      "5\n",
      "3\n",
      "4\n",
      "NO\n"
     ]
    }
   ],
   "source": [
    "import sys\n",
    "input = lambda: sys.stdin.readline().rstrip()\n",
    "\n",
    "n = int(input())\n",
    "seq = [int(input()) for _ in range(n)][::-1]\n",
    "\n",
    "def solve():\n",
    "    stack = []\n",
    "    temp = []\n",
    "    for i in range(1, n + 1):\n",
    "        stack.append(i)\n",
    "        temp.append('+')\n",
    "        while seq and stack and seq[-1] == stack[-1]:\n",
    "            seq.pop()\n",
    "            stack.pop()\n",
    "            temp.append('-')\n",
    "    while stack and seq:\n",
    "        if stack[-1] == seq[-1]:\n",
    "            temp.append('-')\n",
    "            seq.pop()\n",
    "            stack.pop()\n",
    "        else:\n",
    "            return False\n",
    "    if stack or seq:\n",
    "        return False\n",
    "    return temp\n",
    "        \n",
    "result = solve()\n",
    "if not result:\n",
    "    print('NO')\n",
    "else:\n",
    "    print('\\n'.join(result))"
   ]
  },
  {
   "cell_type": "markdown",
   "metadata": {},
   "source": [
    "### 거스름돈 5585"
   ]
  },
  {
   "cell_type": "code",
   "execution_count": 30,
   "metadata": {},
   "outputs": [
    {
     "name": "stdout",
     "output_type": "stream",
     "text": [
      "1\n",
      "15\n"
     ]
    }
   ],
   "source": [
    "def add(total, n, coin):\n",
    "    total += n // coin\n",
    "    n %= coin\n",
    "    return total, n\n",
    "\n",
    "n = int(input())\n",
    "\n",
    "n = 1000 - n\n",
    "coins = [500, 100, 50, 10, 5, 1]\n",
    "total = 0\n",
    "for coin in coins:\n",
    "    total, n = add(total, n, coin)\n",
    "    \n",
    "print(total)"
   ]
  },
  {
   "cell_type": "markdown",
   "metadata": {},
   "source": [
    "### 근우의 다이어리 꾸미기 16675"
   ]
  },
  {
   "cell_type": "code",
   "execution_count": 42,
   "metadata": {},
   "outputs": [
    {
     "name": "stdout",
     "output_type": "stream",
     "text": [
      "1000000000\n",
      "9\n"
     ]
    }
   ],
   "source": [
    "n = int(input())\n",
    "\n",
    "result = 1\n",
    "cur = 11\n",
    "for _ in range(8):\n",
    "    if n >= cur:\n",
    "        result += 1\n",
    "    cur *= 10\n",
    "    cur += 1\n",
    "    \n",
    "print(result)"
   ]
  },
  {
   "cell_type": "markdown",
   "metadata": {},
   "source": [
    "### 설탕 배달 2839"
   ]
  },
  {
   "cell_type": "code",
   "execution_count": 57,
   "metadata": {},
   "outputs": [
    {
     "name": "stdout",
     "output_type": "stream",
     "text": [
      "10\n",
      "2\n"
     ]
    }
   ],
   "source": [
    "n = int(input())\n",
    "\n",
    "result = 0\n",
    "while n >= 0:\n",
    "    if n % 5 == 0:\n",
    "        result += n // 5\n",
    "        print(result)\n",
    "        break\n",
    "    n -= 3\n",
    "    result += 1\n",
    "else:\n",
    "    print(-1)"
   ]
  },
  {
   "cell_type": "markdown",
   "metadata": {},
   "source": [
    "### APC는 왜 서브태스크 대회가 되었을까? 17224"
   ]
  },
  {
   "cell_type": "code",
   "execution_count": null,
   "metadata": {},
   "outputs": [],
   "source": [
    "쉬운 문제가 쉬운 순으로 정렬함\n",
    "어려운 순으로 가능한 것들 다 가져가며 그 문제 제거함\n",
    "쉬운 난이도가 쉬운 순으로 정렬함\n"
   ]
  },
  {
   "cell_type": "code",
   "execution_count": 61,
   "metadata": {},
   "outputs": [
    {
     "name": "stdout",
     "output_type": "stream",
     "text": [
      "1 1 0\n",
      "3 4\n",
      "0\n"
     ]
    }
   ],
   "source": [
    "n, l, k = map(int, input().split())\n",
    "li = [list(map(int, input().split())) for _ in range(n)]\n",
    "li.sort(key=lambda x: x[0])\n",
    "total = 0\n",
    "if k:\n",
    "    for i in range(n - 1, -1, -1):\n",
    "        if li[i][1] <= l:\n",
    "            k -= 1\n",
    "            del li[i]\n",
    "            total += 140\n",
    "            if not k:\n",
    "                break\n",
    "            \n",
    "if k:\n",
    "    for easy, _ in li:\n",
    "        if easy <= l:\n",
    "            total += 100\n",
    "            k -= 1\n",
    "            if not k:\n",
    "                break\n",
    "print(total)"
   ]
  },
  {
   "cell_type": "markdown",
   "metadata": {},
   "source": [
    "### 뒤집기 1439"
   ]
  },
  {
   "cell_type": "code",
   "execution_count": 68,
   "metadata": {},
   "outputs": [
    {
     "name": "stdout",
     "output_type": "stream",
     "text": [
      "00110011\n",
      "2\n"
     ]
    }
   ],
   "source": [
    "s = input()\n",
    "\n",
    "c = 0\n",
    "for i in range(1, len(s)):\n",
    "    if s[i] != s[i - 1]:\n",
    "        c += 1\n",
    "        \n",
    "print((c + 1) // 2)"
   ]
  },
  {
   "cell_type": "markdown",
   "metadata": {},
   "source": [
    "### 주유소 13305"
   ]
  },
  {
   "cell_type": "code",
   "execution_count": 70,
   "metadata": {},
   "outputs": [
    {
     "name": "stdout",
     "output_type": "stream",
     "text": [
      "4\n",
      "3 3 4\n",
      "1 1 1 1\n",
      "10\n"
     ]
    }
   ],
   "source": [
    "n = int(input())\n",
    "dists = list(map(int, input().split()))\n",
    "prices = list(map(int, input().split()))\n",
    "\n",
    "total = 0\n",
    "min_price = prices[0]\n",
    "\n",
    "for i in range(n - 1):\n",
    "    total += min_price * dists[i]\n",
    "    min_price = min(min_price, prices[i + 1])\n",
    "\n",
    "print(total)"
   ]
  },
  {
   "cell_type": "markdown",
   "metadata": {},
   "source": [
    "### ATM 11399"
   ]
  },
  {
   "cell_type": "code",
   "execution_count": 81,
   "metadata": {},
   "outputs": [
    {
     "name": "stdout",
     "output_type": "stream",
     "text": [
      "5\n",
      "2 3 1 5 20\n",
      "1\n",
      "4\n",
      "10\n",
      "21\n",
      "52\n",
      "52\n"
     ]
    }
   ],
   "source": [
    "n = int(input())\n",
    "li = list(map(int, input().split()))\n",
    "\n",
    "li.sort()\n",
    "result = 0\n",
    "cumul = 0\n",
    "for v in li:\n",
    "    cumul += v\n",
    "    result += cumul\n",
    "    print(result)\n",
    "\n",
    "print(result)"
   ]
  },
  {
   "cell_type": "markdown",
   "metadata": {},
   "source": [
    "### 등수 매기기 2012"
   ]
  },
  {
   "cell_type": "code",
   "execution_count": 83,
   "metadata": {},
   "outputs": [
    {
     "name": "stdout",
     "output_type": "stream",
     "text": [
      "5\n",
      "1\n",
      "5\n",
      "3\n",
      "1\n",
      "2\n",
      "3\n"
     ]
    }
   ],
   "source": [
    "import sys\n",
    "# input = lambda: sys.stdin.readline().rstrip()\n",
    "\n",
    "n = int(input())\n",
    "li = [int(input()) for _ in range(n)]\n",
    "\n",
    "li.sort()\n",
    "total = 0\n",
    "for i, v in enumerate(li, 1):\n",
    "    total += abs(i - v)\n",
    "\n",
    "print(total)"
   ]
  },
  {
   "cell_type": "markdown",
   "metadata": {},
   "source": [
    "### 안테나 18310"
   ]
  },
  {
   "cell_type": "code",
   "execution_count": 84,
   "metadata": {},
   "outputs": [
    {
     "name": "stdout",
     "output_type": "stream",
     "text": [
      "4\n",
      "5 1 7 9\n",
      "5\n"
     ]
    }
   ],
   "source": [
    "n = int(input())\n",
    "li = list(map(int, input().split()))\n",
    "\n",
    "li.sort()\n",
    "print(li[(n - 1) // 2])"
   ]
  },
  {
   "cell_type": "markdown",
   "metadata": {},
   "source": [
    "### 회의실 배정 1931"
   ]
  },
  {
   "cell_type": "code",
   "execution_count": 88,
   "metadata": {},
   "outputs": [
    {
     "name": "stdout",
     "output_type": "stream",
     "text": [
      "4\n"
     ]
    }
   ],
   "source": [
    "import sys\n",
    "# input = lambda: sys.stdin.readline().rstrip()\n",
    "\n",
    "n = int(input())\n",
    "li = [list(map(int, input().split())) for _ in range(n)]\n",
    "\n",
    "li.sort(key=lambda x: (x[1], x[0]))\n",
    "count = 0\n",
    "current_end = -1\n",
    "for s, e in li:\n",
    "    if current_end <= s:\n",
    "        count += 1\n",
    "        current_end = e\n",
    "        \n",
    "print(count)"
   ]
  },
  {
   "cell_type": "markdown",
   "metadata": {},
   "source": [
    "### 행렬 1080"
   ]
  },
  {
   "cell_type": "code",
   "execution_count": 90,
   "metadata": {},
   "outputs": [
    {
     "name": "stdout",
     "output_type": "stream",
     "text": [
      "3 4\n",
      "0000\n",
      "0010\n",
      "0000\n",
      "1001\n",
      "1011\n",
      "1001\n",
      "2\n"
     ]
    }
   ],
   "source": [
    "n, m = map(int, input().split())\n",
    "a = [list(map(int, input())) for _ in range(n)]\n",
    "b = [list(map(int, input())) for _ in range(n)]\n",
    "\n",
    "def change_a(i, j):\n",
    "    for dx in range(3):\n",
    "        for dy in range(3):\n",
    "            a[i + dx][j + dy] ^= 1\n",
    "\n",
    "count = 0\n",
    "for i in range(n - 2):\n",
    "    for j in range(m - 2):\n",
    "        if a[i][j] != b[i][j]:\n",
    "            change_a(i, j)\n",
    "            count += 1\n",
    "if a != b:\n",
    "    print(-1)\n",
    "else:\n",
    "    print(count)"
   ]
  },
  {
   "cell_type": "markdown",
   "metadata": {},
   "source": [
    "### 동전 0 11047"
   ]
  },
  {
   "cell_type": "code",
   "execution_count": 98,
   "metadata": {},
   "outputs": [
    {
     "name": "stdout",
     "output_type": "stream",
     "text": [
      "10 4790\n",
      "1\n",
      "5\n",
      "10\n",
      "50\n",
      "100\n",
      "500\n",
      "1000\n",
      "5000\n",
      "10000\n",
      "50000\n",
      "12\n"
     ]
    }
   ],
   "source": [
    "n, k = map(int, input().split())\n",
    "li = [int(input()) for _ in range(n)]\n",
    "\n",
    "li.reverse()\n",
    "count = 0\n",
    "for v in li:\n",
    "    count += k // v\n",
    "    k %= v\n",
    "    \n",
    "print(count)"
   ]
  },
  {
   "cell_type": "markdown",
   "metadata": {},
   "source": [
    "### 잃어버린 괄호 1541"
   ]
  },
  {
   "cell_type": "code",
   "execution_count": 108,
   "metadata": {},
   "outputs": [
    {
     "name": "stdout",
     "output_type": "stream",
     "text": [
      "55-50+40\n",
      "-35\n"
     ]
    }
   ],
   "source": [
    "li = list(input())\n",
    "\n",
    "new_li = []\n",
    "for i in range(len(li)):\n",
    "    if not new_li:\n",
    "        if li[i] == '0':\n",
    "            continue\n",
    "        else:\n",
    "            new_li.append(li[i])\n",
    "    else:\n",
    "        if new_li[-1] in ['-', '+'] and li[i] == '0':\n",
    "            continue\n",
    "        else:\n",
    "            new_li.append(li[i])\n",
    "            \n",
    "s = ''.join(new_li)\n",
    "result = 0\n",
    "if '-' in s:\n",
    "    m = s.index('-')\n",
    "    a = s[:m]\n",
    "    b = s[m + 1:].replace('-', '+')\n",
    "    result = eval(a) - eval(b)\n",
    "else:\n",
    "    result = eval(s)\n",
    "    \n",
    "print(result)"
   ]
  },
  {
   "cell_type": "markdown",
   "metadata": {},
   "source": [
    "### 센서 2212"
   ]
  },
  {
   "cell_type": "code",
   "execution_count": 110,
   "metadata": {},
   "outputs": [
    {
     "name": "stdout",
     "output_type": "stream",
     "text": [
      "1\n",
      "1\n",
      "3\n",
      "0\n"
     ]
    }
   ],
   "source": [
    "n = int(input())\n",
    "k = int(input())\n",
    "li = list(map(int, input().split()))\n",
    "\n",
    "li.sort()\n",
    "diffs = [a - b for a, b in zip(li[1:], li[:-1])]\n",
    "diffs.sort()\n",
    "\n",
    "k = min(k, n)\n",
    "for _ in range(k - 1):\n",
    "    diffs.pop()\n",
    "    \n",
    "print(sum(diffs))"
   ]
  },
  {
   "cell_type": "markdown",
   "metadata": {},
   "source": [
    "### 도서관 1461"
   ]
  },
  {
   "cell_type": "code",
   "execution_count": 119,
   "metadata": {},
   "outputs": [
    {
     "name": "stdout",
     "output_type": "stream",
     "text": [
      "7 2\n",
      "-37 2 -6 -39 -29 11 -28\n",
      "131\n"
     ]
    }
   ],
   "source": [
    "from bisect import bisect_left\n",
    "\n",
    "n, m = map(int, input().split())\n",
    "li = list(map(int, input().split()))\n",
    "\n",
    "li.sort()\n",
    "plus_start = bisect_left(li, 0)\n",
    "minus = li[:plus_start]\n",
    "plus = li[plus_start:]\n",
    "plus.reverse()\n",
    "\n",
    "total = 0\n",
    "for i in range(0, len(minus), m):\n",
    "    total += -minus[i] * 2\n",
    "for i in range(0, len(plus), m):\n",
    "    total += plus[i] * 2\n",
    "\n",
    "max_abs = 0\n",
    "if minus:\n",
    "    max_abs = max(max_abs, -minus[0])\n",
    "if plus:\n",
    "    max_abs = max(max_abs, plus[0])\n",
    "total -= max_abs\n",
    "\n",
    "print(total)"
   ]
  },
  {
   "cell_type": "markdown",
   "metadata": {},
   "source": [
    "### 배 1092"
   ]
  },
  {
   "cell_type": "code",
   "execution_count": null,
   "metadata": {},
   "outputs": [],
   "source": [
    "n = int(input())\n",
    "cranes = list(map(int, input().split()))\n",
    "m = int(input())\n",
    "boxes = list(map(int, input().split()))\n",
    "\n",
    "cranes.sort(reverse=True)\n",
    "boxes.sort(reverse=True)\n",
    "if cranes[0] < boxes[0]:\n",
    "    print(-1)\n",
    "else:\n",
    "    counts = [0] * n\n",
    "    c_index = 0\n",
    "    b_index = 0\n",
    "    while b_index < m:\n",
    "        if boxes[b_index] <= cranes[c_index]:\n",
    "            b_index += 1\n",
    "            counts[c_index] += 1\n",
    "            if counts[c_index] >= counts[0]:\n",
    "                c_index += 1\n",
    "                if c_index == n:\n",
    "                    c_index = 0\n",
    "        else:\n",
    "            c_index = 0\n",
    "            \n",
    "    print(counts[0])"
   ]
  },
  {
   "cell_type": "markdown",
   "metadata": {},
   "source": [
    "### 크게 만들기 2812"
   ]
  },
  {
   "cell_type": "code",
   "execution_count": 12,
   "metadata": {},
   "outputs": [
    {
     "name": "stdout",
     "output_type": "stream",
     "text": [
      "5 2\n",
      "54321\n",
      "543\n"
     ]
    }
   ],
   "source": [
    "n, k = map(int, input().split())\n",
    "li = list(map(int, input()))\n",
    "\n",
    "stack = []\n",
    "for i in range(n):\n",
    "    while k and stack and stack[-1] < li[i]:\n",
    "        stack.pop()\n",
    "        k -= 1\n",
    "    stack.append(li[i])\n",
    "\n",
    "while k:\n",
    "    stack.pop()\n",
    "    k -= 1\n",
    "    \n",
    "print(''.join(map(str, stack)))"
   ]
  },
  {
   "cell_type": "markdown",
   "metadata": {},
   "source": [
    "### 카드 정렬하기 1715"
   ]
  },
  {
   "cell_type": "code",
   "execution_count": 15,
   "metadata": {},
   "outputs": [
    {
     "name": "stdout",
     "output_type": "stream",
     "text": [
      "3\n",
      "10\n",
      "20\n",
      "40\n",
      "100\n"
     ]
    }
   ],
   "source": [
    "from heapq import heapify, heappush, heappop\n",
    "import sys\n",
    "input = lambda: sys.stdin.readline().rstrip()\n",
    "\n",
    "n = int(input())\n",
    "heap = [int(input()) for _ in range(n)]\n",
    "heapify(heap)\n",
    "\n",
    "total = 0\n",
    "while len(heap) >= 2:\n",
    "    a, b = heappop(heap), heappop(heap)\n",
    "    total += a + b\n",
    "    heappush(heap, a + b)\n",
    "    \n",
    "print(total)"
   ]
  },
  {
   "cell_type": "markdown",
   "metadata": {},
   "source": [
    "### 수 묶기 1744"
   ]
  },
  {
   "cell_type": "code",
   "execution_count": null,
   "metadata": {},
   "outputs": [],
   "source": [
    "import sys\n",
    "input = lambda: sys.stdin.readline().rstrip()\n",
    "\n",
    "n = int(input())\n",
    "zb = [] # zero or below\n",
    "ov = [] # over one\n",
    "c1 = 0 # count 1\n",
    "for _ in range(n):\n",
    "    value = int(input())\n",
    "    if value <= 0:\n",
    "        zb.append(value)\n",
    "    elif value == 1:\n",
    "        c1 += 1\n",
    "    else:\n",
    "        ov.append(value)\n",
    "        \n",
    "zb.sort()\n",
    "ov.sort(reverse=True)\n",
    "total = 0\n",
    "\n",
    "def add(total, li):\n",
    "    for i in range(0, len(li) - 1, 2):\n",
    "        total += li[i] * li[i + 1]\n",
    "    if len(li) % 2 == 1:\n",
    "        total += li[-1]\n",
    "    return total\n",
    "\n",
    "total = add(total, zb)\n",
    "total = add(total, ov)\n",
    "total += c1\n",
    "\n",
    "print(total)"
   ]
  },
  {
   "cell_type": "markdown",
   "metadata": {},
   "source": [
    "### 저울 2437"
   ]
  },
  {
   "cell_type": "code",
   "execution_count": 18,
   "metadata": {},
   "outputs": [
    {
     "name": "stdout",
     "output_type": "stream",
     "text": [
      "3\n",
      "2 3 4\n",
      "1\n"
     ]
    }
   ],
   "source": [
    "n = int(input())\n",
    "li = sorted(map(int, input().split()))\n",
    "\n",
    "current = 0 # 0까지 만들 수 있음\n",
    "for v in li:\n",
    "    if v > current + 1:\n",
    "        print(current + 1)\n",
    "        break\n",
    "    current += v\n",
    "else:\n",
    "    print(current + 1)"
   ]
  },
  {
   "cell_type": "markdown",
   "metadata": {},
   "source": [
    "### 컵라면 1781"
   ]
  },
  {
   "cell_type": "code",
   "execution_count": 21,
   "metadata": {},
   "outputs": [
    {
     "name": "stdout",
     "output_type": "stream",
     "text": [
      "7\n",
      "1 6\n",
      "1 7\n",
      "3 2\n",
      "3 1\n",
      "2 4\n",
      "2 5\n",
      "6 1\n",
      "15\n"
     ]
    }
   ],
   "source": [
    "from heapq import heappush, heappop\n",
    "import sys\n",
    "input = lambda: sys.stdin.readline().rstrip()\n",
    "\n",
    "n = int(input())\n",
    "li = [list(map(int, input().split())) for _ in range(n)]\n",
    "\n",
    "li.sort(key=lambda x: x[0])\n",
    "heap = []\n",
    "for d, c in li:\n",
    "    heappush(heap, c)\n",
    "    if len(heap) > d:\n",
    "        heappop(heap)\n",
    "        \n",
    "print(sum(heap))"
   ]
  },
  {
   "cell_type": "markdown",
   "metadata": {},
   "source": [
    "### 소수의 곱 2014"
   ]
  },
  {
   "cell_type": "code",
   "execution_count": 31,
   "metadata": {},
   "outputs": [
    {
     "name": "stdout",
     "output_type": "stream",
     "text": [
      "4 19\n",
      "2 3 5 7\n",
      "27\n"
     ]
    }
   ],
   "source": [
    "from heapq import heapify, heappush, heappop\n",
    "\n",
    "k, n = map(int, input().split())\n",
    "primes = list(map(int, input().split()))\n",
    "criteria = 2 ** 31\n",
    "\n",
    "heap = primes[:]\n",
    "heapify(heap)\n",
    "\n",
    "st = set()\n",
    "count = 0\n",
    "while True:\n",
    "    value = heappop(heap)\n",
    "    if value in st:\n",
    "        continue\n",
    "    st.add(value)\n",
    "    count += 1\n",
    "    \n",
    "    if count == n:\n",
    "        print(value)\n",
    "        break\n",
    "    \n",
    "    for prime in primes:\n",
    "        v = value * prime\n",
    "        if v < criteria:\n",
    "            heappush(heap, v)"
   ]
  },
  {
   "cell_type": "markdown",
   "metadata": {},
   "source": [
    "### 두 개의 손 16675"
   ]
  },
  {
   "cell_type": "code",
   "execution_count": 8,
   "metadata": {},
   "outputs": [
    {
     "name": "stdout",
     "output_type": "stream",
     "text": [
      "R R S S\n",
      "MS\n"
     ]
    }
   ],
   "source": [
    "ml, mr, tl, tr = input().split()\n",
    "\n",
    "m = [ml, mr]\n",
    "t = [tl, tr]\n",
    "r = '?'\n",
    "\n",
    "if ml == mr:\n",
    "    if ml == 'S' and 'R' in t or ml == 'R' and 'P' in t or ml == 'P' and 'S' in t:\n",
    "          r = 'TK'\n",
    "if tl == tr:\n",
    "    if tl == 'S' and 'R' in m or tl == 'R' and 'P' in m or tl == 'P' and 'S' in m:\n",
    "          r = 'MS'\n",
    "\n",
    "print(r)"
   ]
  },
  {
   "cell_type": "markdown",
   "metadata": {},
   "source": [
    "### 공 바꾸기 10813"
   ]
  },
  {
   "cell_type": "code",
   "execution_count": 2,
   "metadata": {},
   "outputs": [
    {
     "name": "stdout",
     "output_type": "stream",
     "text": [
      "5 4\n",
      "1 2\n",
      "3 4\n",
      "1 4\n",
      "2 2\n",
      "3 1 4 2 5\n"
     ]
    }
   ],
   "source": [
    "n, m = map(int, input().split())\n",
    "\n",
    "li = list(range(n + 1))\n",
    "for _ in range(m):\n",
    "    a, b = map(int, input().split())\n",
    "    li[a], li[b] = li[b], li[a]\n",
    "    \n",
    "print(*li[1:])"
   ]
  },
  {
   "cell_type": "markdown",
   "metadata": {},
   "source": [
    "### 럭키 스트레이트 18406"
   ]
  },
  {
   "cell_type": "code",
   "execution_count": null,
   "metadata": {},
   "outputs": [],
   "source": [
    "s = input()\n",
    "\n",
    "n = len(s)\n",
    "a, b = s[:n // 2], s[n // 2:]\n",
    "sa, sb = sum(map(int, a)), sum(map(int, b))\n",
    "\n",
    "print('LUCKY') if sa == sb else print('READY')"
   ]
  },
  {
   "cell_type": "markdown",
   "metadata": {},
   "source": [
    "### 번데기 15721"
   ]
  },
  {
   "cell_type": "code",
   "execution_count": 38,
   "metadata": {},
   "outputs": [
    {
     "name": "stdout",
     "output_type": "stream",
     "text": [
      "2\n",
      "1\n",
      "0\n",
      "111 0 1 0 -1\n",
      "0\n"
     ]
    }
   ],
   "source": [
    "from collections import deque\n",
    "\n",
    "n = int(input())\n",
    "t = int(input())\n",
    "s = int(input())\n",
    "\n",
    "def solve():\n",
    "    seq = [[0, 1], [1, 1], [0, 1], [1, 1], [0, 2], [1, 2]]\n",
    "    loc = -1\n",
    "    cs = 0\n",
    "    queue = deque()\n",
    "    while True:\n",
    "        queue.extend(seq)\n",
    "        while queue:\n",
    "            v, c = queue.popleft()\n",
    "            if s == v:\n",
    "                if t <= cs + c :\n",
    "                    while cs < t:\n",
    "                        cs += 1\n",
    "                        loc += 1\n",
    "                    return loc % n\n",
    "                cs += c\n",
    "            loc += c    \n",
    "        seq[4][1] += 1\n",
    "        seq[5][1] += 1\n",
    "        \n",
    "print(solve())"
   ]
  },
  {
   "cell_type": "markdown",
   "metadata": {},
   "source": [
    "### 주사위 네개 2484"
   ]
  },
  {
   "cell_type": "code",
   "execution_count": null,
   "metadata": {},
   "outputs": [],
   "source": [
    "n = int(input())\n",
    "\n",
    "def get_prize(li):\n",
    "    if li[0] == li[3]:\n",
    "        return 50000 + li[0] * 5000\n",
    "    if li[0] == li[2] or li[1] == li[3]:\n",
    "        return 10000 + li[1] * 1000\n",
    "    if li[0] == li[1] and li[2] == li[3]:\n",
    "        return 2000 + li[0] * 500 + li[2] * 500\n",
    "    if len(set(li)) == 4:\n",
    "        return li[3] * 100\n",
    "    return 1000 + 100 * (li[1] if li[1] == li[3] else li[2])\n",
    "    \n",
    "mp = 0 # max prize\n",
    "for _ in range(n):\n",
    "    mp = max(mp, get_prize(sorted(map(int, input().split()))))\n",
    "    \n",
    "print(mp)"
   ]
  },
  {
   "cell_type": "markdown",
   "metadata": {},
   "source": [
    "### Mixing Milk 16769"
   ]
  },
  {
   "cell_type": "code",
   "execution_count": null,
   "metadata": {},
   "outputs": [],
   "source": [
    "li = [list(map(int, input().split())) for _ in range(3)]\n",
    "\n",
    "seq = [[0, 1], [1, 2], [2, 0]]\n",
    "for i in range(100):\n",
    "    cur = i % 3\n",
    "    from_, to_ = seq[cur]\n",
    "    to_move = min(li[from_][1], li[to_][0] - li[to_][1])\n",
    "    li[from_][1] -= to_move\n",
    "    li[to_][1] += to_move\n",
    "    \n",
    "for i in range(3):\n",
    "    print(li[i][1])"
   ]
  },
  {
   "cell_type": "markdown",
   "metadata": {},
   "source": [
    "### 상수 2908"
   ]
  },
  {
   "cell_type": "code",
   "execution_count": null,
   "metadata": {},
   "outputs": [],
   "source": [
    "li = [*map(lambda x: int(x[::-1]), input().split())]\n",
    "\n",
    "print(li[0]) if li[0] > li[1] else print(li[1])"
   ]
  },
  {
   "cell_type": "markdown",
   "metadata": {},
   "source": [
    "### 음계 2920"
   ]
  },
  {
   "cell_type": "code",
   "execution_count": null,
   "metadata": {},
   "outputs": [],
   "source": [
    "li = list(map(int, input().split()))\n",
    "\n",
    "if li == sorted(li):\n",
    "    print('ascending')\n",
    "elif li == sorted(li, reverse=True):\n",
    "    print('descending')\n",
    "else:\n",
    "    print('mixed')"
   ]
  },
  {
   "cell_type": "markdown",
   "metadata": {},
   "source": [
    "### The candy war 9037"
   ]
  },
  {
   "cell_type": "code",
   "execution_count": null,
   "metadata": {},
   "outputs": [],
   "source": [
    "from collections import deque\n",
    "\n",
    "for _ in range(int(input())):\n",
    "    n = int(input())\n",
    "    li = list(map(int, input().split()))\n",
    "\n",
    "    cycle_num = 0\n",
    "    while True:\n",
    "        for i in range(n):\n",
    "            if li[i] % 2 == 1:\n",
    "                li[i] += 1 \n",
    "\n",
    "        if len(set(li)) == 1:\n",
    "            print(cycle_num)\n",
    "            break\n",
    "        cycle_num += 1\n",
    "\n",
    "        halves = list(map(lambda x: x // 2, li))\n",
    "        nhalves = deque(halves)\n",
    "        nhalves.rotate(1)\n",
    "        li = [a + b for a, b in zip(halves, nhalves)]"
   ]
  },
  {
   "cell_type": "markdown",
   "metadata": {},
   "source": [
    "### 소가 길을 건너간 이유 1 14467 (신규)"
   ]
  },
  {
   "cell_type": "code",
   "execution_count": null,
   "metadata": {},
   "outputs": [],
   "source": [
    "n = int(input())\n",
    "\n",
    "c = 0\n",
    "d = dict()\n",
    "for _ in range(n):\n",
    "    num, loc = map(int, input().split())\n",
    "    if num in d and loc != d[num]:\n",
    "        c += 1\n",
    "    d[num] = loc\n",
    "    \n",
    "print(c)"
   ]
  },
  {
   "cell_type": "markdown",
   "metadata": {},
   "source": [
    "### 덩치 7568"
   ]
  },
  {
   "cell_type": "code",
   "execution_count": null,
   "metadata": {},
   "outputs": [],
   "source": [
    "n = int(input())\n",
    "li = [list(map(int, input().split())) for _ in range(n)]\n",
    "\n",
    "mores = [0] * n\n",
    "for i in range(n):\n",
    "    c = 1\n",
    "    for j in range(n):\n",
    "        if li[i][0] < li[j][0] and li[i][1] < li[j][1]:\n",
    "            c += 1\n",
    "    print(c, end=' ')"
   ]
  },
  {
   "cell_type": "markdown",
   "metadata": {},
   "source": [
    "### 별 찍기 - 23 13015 (신규)"
   ]
  },
  {
   "cell_type": "code",
   "execution_count": null,
   "metadata": {},
   "outputs": [],
   "source": [
    "n = int(input())\n",
    "\n",
    "cms = (n - 1) * 2 - 1 # cur_mid_space\n",
    "lefts = list(range(n)) + list(range(n - 2, -1, -1))\n",
    "for i in range(n * 2 - 1):\n",
    "    lc = ' ' * lefts[i] # left_common\n",
    "    if i == 0 or i == n * 2 - 2:\n",
    "        print(lc + '*' * n + ' ' * abs(cms) + '*' * n)\n",
    "        cms -= 2\n",
    "    elif i == n - 1:\n",
    "        print(lc + '*' + ' ' * (n - 2) + '*' + ' ' * (n - 2) + '*')\n",
    "    else:\n",
    "        print(lc + '*' + ' ' * (n - 2) + '*' +  ' ' * abs(cms) + '*' + ' ' * (n - 2) + '*')\n",
    "        cms -= 2"
   ]
  },
  {
   "cell_type": "markdown",
   "metadata": {},
   "source": [
    "### 기상캐스터 10709"
   ]
  },
  {
   "cell_type": "code",
   "execution_count": null,
   "metadata": {},
   "outputs": [],
   "source": [
    "n, m = map(int, input().split())\n",
    "li = [input() for _ in range(n)]\n",
    "\n",
    "for i in range(n):\n",
    "    cur = -1\n",
    "    for j in range(m):\n",
    "        if li[i][j] == 'c':\n",
    "            cur = 0\n",
    "        print(cur, end=' ')\n",
    "        \n",
    "        if cur >= 0:\n",
    "            cur += 1\n",
    "    print()"
   ]
  },
  {
   "cell_type": "markdown",
   "metadata": {},
   "source": [
    "### 팰린드롬 만들기 1213"
   ]
  },
  {
   "cell_type": "code",
   "execution_count": null,
   "metadata": {},
   "outputs": [],
   "source": [
    "from collections import Counter\n",
    "\n",
    "s = input()\n",
    "\n",
    "c = Counter(s)\n",
    "result = \"I'm Sorry Hansoo\"\n",
    "\n",
    "counts = list(c.items())\n",
    "evens = []\n",
    "odd = ''\n",
    "odd_len = 0\n",
    "for i in range(len(counts)):\n",
    "    if counts[i][1] % 2 == 0:\n",
    "        evens.extend([counts[i][0] * (counts[i][1] // 2)])\n",
    "    else:\n",
    "        if odd:\n",
    "            break\n",
    "        odd = counts[i][0]\n",
    "        odd_len = counts[i][1]\n",
    "else:\n",
    "    evens.extend([odd * (odd_len // 2)])\n",
    "    \n",
    "    evens.sort()\n",
    "    evens = ''.join(evens)\n",
    "    result = evens + odd + evens[::-1]\n",
    "\n",
    "print(result)"
   ]
  },
  {
   "cell_type": "markdown",
   "metadata": {},
   "source": [
    "### 킹 1063"
   ]
  },
  {
   "cell_type": "code",
   "execution_count": 41,
   "metadata": {},
   "outputs": [
    {
     "name": "stdout",
     "output_type": "stream",
     "text": [
      "A1 A2 5\n",
      "B\n",
      "L\n",
      "LB\n",
      "RB\n",
      "LT\n",
      "A1\n",
      "A2\n"
     ]
    }
   ],
   "source": [
    "alphas = 'abcdefgh'.upper()\n",
    "moves = ['R', 'L', 'B', 'T', 'RT', 'LT', 'RB', 'LB']\n",
    "da = [1, -1, 0, 0, 1, -1, 1, -1]\n",
    "di = [0, 0, -1, 1, 1, 1, -1, -1]\n",
    "\n",
    "k, s, n = input().split()\n",
    "n = int(n)\n",
    "\n",
    "ka, ki = k\n",
    "ka, ki = alphas.index(ka), int(ki)\n",
    "sa, si = s\n",
    "sa, si = alphas.index(sa), int(si)\n",
    "\n",
    "for _ in range(n):\n",
    "    d = moves.index(input())\n",
    "    \n",
    "    nka = ka + da[d]\n",
    "    nki = ki + di[d]\n",
    "    nsa = sa\n",
    "    nsi = si\n",
    "    \n",
    "    if nka < 0 or nka >= 8 or nki < 1 or nki >= 9:\n",
    "        continue\n",
    "    if sa == nka and si == nki:\n",
    "        nsa = sa + da[d]\n",
    "        nsi = si + di[d]\n",
    "        \n",
    "        if nsa < 0 or nsa >= 8 or nsi < 1 or nsi >= 9:\n",
    "            continue\n",
    "            \n",
    "    ka, ki, sa, si = nka, nki, nsa, nsi\n",
    "    \n",
    "kf = alphas[ka] + str(ki)\n",
    "sf = alphas[sa] + str(si)\n",
    "\n",
    "print(kf)\n",
    "print(sf)"
   ]
  },
  {
   "cell_type": "markdown",
   "metadata": {},
   "source": [
    "### 스위치 켜고 끄기 1244"
   ]
  },
  {
   "cell_type": "code",
   "execution_count": 46,
   "metadata": {},
   "outputs": [
    {
     "name": "stdout",
     "output_type": "stream",
     "text": [
      "23\n",
      "0 0 0 0 0 0 0 0 0 0 0 0 0 0 0 0 0 0 0 0 1 1 1\n",
      "1\n",
      "1 1\n",
      "1 1 1 1 1 1 1 1 1 1 1 1 1 1 1 1 1 1 1 1\n",
      "0 0 0\n"
     ]
    }
   ],
   "source": [
    "n = int(input())\n",
    "li = [-1] + list(map(int, input().split()))\n",
    "for _ in range(int(input())):\n",
    "    gender, num = map(int, input().split())\n",
    "    \n",
    "    if gender == 1:\n",
    "        mul = 1\n",
    "        while True:\n",
    "            if num * mul > n:\n",
    "                break\n",
    "            li[num * mul] ^= 1\n",
    "            mul += 1\n",
    "    else:\n",
    "        s, e = num, num\n",
    "        \n",
    "        while True:\n",
    "            ns = s - 1\n",
    "            ne = e + 1\n",
    "            \n",
    "            if ns < 1 or ne > n:\n",
    "                break\n",
    "            if li[ns] != li[ne]:\n",
    "                break\n",
    "            s, e = ns, ne\n",
    "            \n",
    "        for i in range(s, e + 1):\n",
    "            li[i] ^= 1\n",
    "            \n",
    "for i in range(1, n + 1, 20):\n",
    "    print(*li[i:i + 20])"
   ]
  },
  {
   "cell_type": "markdown",
   "metadata": {},
   "source": [
    "### 프린터 큐 1966"
   ]
  },
  {
   "cell_type": "code",
   "execution_count": 54,
   "metadata": {},
   "outputs": [
    {
     "name": "stdout",
     "output_type": "stream",
     "text": [
      "1 0\n",
      "5\n",
      "1\n"
     ]
    }
   ],
   "source": [
    "from collections import deque\n",
    "from heapq import heapify, heappop\n",
    "\n",
    "for _ in range(int(input())):\n",
    "    n, m = map(int, input().split())\n",
    "    li = list(map(int, input().split()))\n",
    "\n",
    "    deq = deque([(-v, i) for i, v in enumerate(li)])\n",
    "    heap = [-v for v in li]\n",
    "    heapify(heap)\n",
    "\n",
    "    count = 0\n",
    "    cci = heappop(heap) # current checking importance\n",
    "    while True:\n",
    "        if deq[0][0] == cci:\n",
    "            count += 1\n",
    "            if deq[0][1] == m:\n",
    "                break\n",
    "            deq.popleft()\n",
    "            cci = heappop(heap)\n",
    "        else:\n",
    "            deq.rotate(-1)\n",
    "\n",
    "    print(count)"
   ]
  },
  {
   "cell_type": "markdown",
   "metadata": {},
   "source": [
    "### 단어 뒤집기 2 17413"
   ]
  },
  {
   "cell_type": "code",
   "execution_count": 69,
   "metadata": {},
   "outputs": [
    {
     "name": "stdout",
     "output_type": "stream",
     "text": [
      "<problem>17413<is hardest>problem ever<end>\n",
      "<problem>31471<is hardest>melborp reve<end>\n"
     ]
    }
   ],
   "source": [
    "from collections import deque\n",
    "\n",
    "s = input()\n",
    "\n",
    "def temp_to_result():\n",
    "    while temp:\n",
    "        result.append(temp.pop())\n",
    "        \n",
    "is_tag_on = False\n",
    "result = []\n",
    "temp = deque()\n",
    "for v in s:\n",
    "    if v == '<':\n",
    "        temp_to_result()\n",
    "        is_tag_on = True\n",
    "        result.append('<')\n",
    "    elif v == '>':\n",
    "        is_tag_on = False\n",
    "        result.append('>')\n",
    "    else:\n",
    "        if is_tag_on:\n",
    "            result.append(v)\n",
    "        else:\n",
    "            if v == ' ':\n",
    "                temp_to_result()\n",
    "                result.append(' ')\n",
    "            else:\n",
    "                temp.append(v)\n",
    "temp_to_result()\n",
    "                \n",
    "print(''.join(result))"
   ]
  },
  {
   "cell_type": "markdown",
   "metadata": {},
   "source": [
    "### 컨베이어 벨트 위의 로봇 20055"
   ]
  },
  {
   "cell_type": "code",
   "execution_count": 88,
   "metadata": {},
   "outputs": [
    {
     "name": "stdout",
     "output_type": "stream",
     "text": [
      "5 8\n",
      "100 99 60 80 30 20 10 89 99 100\n",
      "472\n"
     ]
    }
   ],
   "source": [
    "from collections import deque\n",
    "\n",
    "n, k = map(int, input().split())\n",
    "li = list(map(int, input().split()))\n",
    "\n",
    "deq = deque([v, False] for v in li)\n",
    "c0 = 0\n",
    "cur = 1\n",
    "while True:\n",
    "    deq.rotate(1)\n",
    "    deq[n - 1][1] = False\n",
    "    \n",
    "    for i in range(n - 2, 0, -1):\n",
    "        if deq[i][1] and not deq[i + 1][1] and deq[i + 1][0] > 0:\n",
    "            deq[i + 1][0] -= 1\n",
    "            if deq[i + 1][0] == 0:\n",
    "                c0 += 1\n",
    "                \n",
    "            deq[i + 1][1] = True\n",
    "            deq[i][1] = False\n",
    "            \n",
    "    if deq[0][0]:\n",
    "        deq[0][0] -= 1\n",
    "        if deq[0][0] == 0:\n",
    "            c0 += 1\n",
    "        deq[0][1] = True\n",
    "    \n",
    "    if c0 >= k:\n",
    "        break\n",
    "        \n",
    "    deq[n - 1][1] = False\n",
    "    cur += 1\n",
    "    \n",
    "print(cur)"
   ]
  },
  {
   "cell_type": "markdown",
   "metadata": {},
   "source": [
    "### 경비원 2564 (신규)"
   ]
  },
  {
   "cell_type": "code",
   "execution_count": 124,
   "metadata": {},
   "outputs": [
    {
     "name": "stdout",
     "output_type": "stream",
     "text": [
      "10 5\n",
      "3\n",
      "1 4\n",
      "3 2\n",
      "2 8\n",
      "2 3\n",
      "23\n"
     ]
    }
   ],
   "source": [
    "m, n = map(int, input().split())\n",
    "shops = [list(map(int, input().split())) for _ in range(int(input()))]\n",
    "loc, dist  = map(int, input().split())\n",
    "\n",
    "def gc(loc, dist): # get coord\n",
    "    x = y = 0\n",
    "    if loc == 1 or loc == 2:\n",
    "        y = dist\n",
    "        if loc == 1:\n",
    "            x = 0\n",
    "        else:\n",
    "            x = n\n",
    "    else:\n",
    "        x = dist\n",
    "        if loc == 3:\n",
    "            y = 0\n",
    "        else:\n",
    "            y = m\n",
    "            \n",
    "    return x, y\n",
    "\n",
    "x, y = gc(loc, dist)\n",
    "\n",
    "cir_len = (n + 1) * 2 + (m + 1) * 2 - 4 # circle len\n",
    "cir = [float('inf')] * cir_len # circle\n",
    "mp = dict() # mapper\n",
    "\n",
    "cur = 0\n",
    "for j in range(m + 1):\n",
    "    mp[(0, j)] = cur\n",
    "    cur += 1\n",
    "for i in range(1, n + 1):\n",
    "    mp[(i, m)] = cur\n",
    "    cur += 1\n",
    "for j in range(m - 1, -1, -1):\n",
    "    mp[(n, j)] = cur\n",
    "    cur += 1\n",
    "for i in range(n - 1, 0, -1):\n",
    "    mp[(i, 0)] = cur\n",
    "    cur += 1\n",
    "     \n",
    "s = mp[(x, y)] # start\n",
    "cir[s] = 0\n",
    "for dist in range(1, cir_len // 2 + 1):\n",
    "    cir[(s + dist) % cir_len] = dist\n",
    "    cir[(s - dist) % cir_len] = dist\n",
    "\n",
    "total = 0\n",
    "for l, d in shops:\n",
    "    total += cir[mp[gc(l, d)]]\n",
    "    \n",
    "print(total)"
   ]
  },
  {
   "cell_type": "markdown",
   "metadata": {},
   "source": [
    "### 행렬 1080"
   ]
  },
  {
   "cell_type": "code",
   "execution_count": null,
   "metadata": {},
   "outputs": [],
   "source": [
    "n, m = map(int, input().split())\n",
    "a = [list(map(int, input())) for _ in range(n)]\n",
    "b = [list(map(int, input())) for _ in range(n)]\n",
    "\n",
    "def cv(x, y):\n",
    "    \"\"\"convert\"\"\"\n",
    "    \n",
    "    for dx in range(3):\n",
    "        for dy in range(3):\n",
    "            a[x + dx][y + dy] ^= 1\n",
    "\n",
    "c = 0\n",
    "for i in range(n - 2):\n",
    "    for j in range(m - 2):\n",
    "        if a[i][j] != b[i][j]:\n",
    "            c += 1\n",
    "            cv(i, j)\n",
    "            \n",
    "print(c) if a == b else print(-1)"
   ]
  },
  {
   "cell_type": "markdown",
   "metadata": {},
   "source": [
    "### 도서관 1461"
   ]
  },
  {
   "cell_type": "code",
   "execution_count": 139,
   "metadata": {},
   "outputs": [
    {
     "name": "stdout",
     "output_type": "stream",
     "text": [
      "7 2\n",
      "-37 2 -6 -39 -29 11 -28\n",
      "131\n"
     ]
    }
   ],
   "source": [
    "from bisect import bisect\n",
    "\n",
    "n, m = map(int, input().split())\n",
    "li = sorted(map(int, input().split()))\n",
    "\n",
    "plus_start = bisect(li, 0)\n",
    "minus = li[:plus_start]\n",
    "plus = li[plus_start:]\n",
    "\n",
    "total = 0\n",
    "for i in range(0, len(minus), m):\n",
    "    total -= minus[i] * 2\n",
    "for i in range(len(plus) - 1, -1, -m):\n",
    "    total += plus[i] * 2\n",
    "total -= max(abs(li[0]), abs(li[-1]))\n",
    "\n",
    "print(total)"
   ]
  },
  {
   "cell_type": "markdown",
   "metadata": {},
   "source": [
    "### 수 묶기 1744"
   ]
  },
  {
   "cell_type": "code",
   "execution_count": 154,
   "metadata": {},
   "outputs": [
    {
     "name": "stdout",
     "output_type": "stream",
     "text": [
      "6\n"
     ]
    }
   ],
   "source": [
    "import sys\n",
    "# input = lambda: sys.stdin.readline().rstrip()\n",
    "\n",
    "n = int(input())\n",
    "li = sorted(int(input()) for _ in range(n))\n",
    "\n",
    "moz = [] # minus_or_zero\n",
    "c1 = 0 # count one\n",
    "ovn = [] # over one\n",
    "for v in li:\n",
    "    if v <= 0:\n",
    "        moz.append(v)\n",
    "    elif v == 1:\n",
    "        c1 += 1\n",
    "    else:\n",
    "        ovn.append(v)\n",
    "        \n",
    "ovn.reverse()\n",
    "total = 0\n",
    "for i in range(0, len(moz), 2):\n",
    "    if i + 1 < len(moz):\n",
    "        total += moz[i] * moz[i + 1]\n",
    "    else:\n",
    "        total += moz[i]\n",
    "        \n",
    "for i in range(0, len(ovn), 2):\n",
    "    if i + 1 < len(ovn):\n",
    "        total += ovn[i] * ovn[i + 1]\n",
    "    else:\n",
    "        total += ovn[i]\n",
    "\n",
    "total += c1\n",
    "\n",
    "print(total)"
   ]
  },
  {
   "cell_type": "markdown",
   "metadata": {},
   "source": [
    "### 저울 2437"
   ]
  },
  {
   "cell_type": "code",
   "execution_count": null,
   "metadata": {},
   "outputs": [],
   "source": [
    "n = int(input())\n",
    "li = sorted(map(int, input().split()))\n",
    "\n",
    "check = 1\n",
    "for v in li:\n",
    "    if v <= check:\n",
    "        check += v\n",
    "    else:\n",
    "        break\n",
    "        \n",
    "print(check)"
   ]
  },
  {
   "cell_type": "markdown",
   "metadata": {},
   "source": [
    "### 컵라면 1781"
   ]
  },
  {
   "cell_type": "code",
   "execution_count": 159,
   "metadata": {},
   "outputs": [
    {
     "name": "stdout",
     "output_type": "stream",
     "text": [
      "15\n"
     ]
    }
   ],
   "source": [
    "from heapq import heappush, heappop\n",
    "import sys\n",
    "# input = lambda: sys.stdin.readline().rstrip()\n",
    "\n",
    "n = int(input())\n",
    "li = [list(map(int, input().split())) for _ in range(n)]\n",
    "li.sort(key=lambda x: x[0])\n",
    "\n",
    "heap = []\n",
    "for d, c in li:\n",
    "    heappush(heap, c)\n",
    "    while len(heap) > d:\n",
    "        heappop(heap)\n",
    "        \n",
    "print(sum(heap))"
   ]
  },
  {
   "cell_type": "markdown",
   "metadata": {},
   "source": [
    "### 보석 도둑 1202"
   ]
  },
  {
   "cell_type": "raw",
   "metadata": {},
   "source": [
    "가장 가치가 큰 보석부터 넣을 수 있는 가방이 있으면 그 중 가장 최대 무게가 낮은 가방에 넣는다.\n",
    "->\n",
    "가장 최대 무게가 낮은 가방부터 넣을 수 있는 보석 중 가장 가치 있는 보석을 넣는다."
   ]
  },
  {
   "cell_type": "code",
   "execution_count": 161,
   "metadata": {},
   "outputs": [
    {
     "name": "stdout",
     "output_type": "stream",
     "text": [
      "3 2\n",
      "1 65\n",
      "5 23\n",
      "2 99\n",
      "10\n",
      "2\n",
      "164\n"
     ]
    }
   ],
   "source": [
    "from heapq import heappush, heappop\n",
    "import sys\n",
    "input = lambda: sys.stdin.readline().rstrip()\n",
    "\n",
    "n, k = map(int, input().split())\n",
    "jewels = [list(map(int, input().split())) for _ in range(n)]\n",
    "bags = [int(input()) for _ in range(k)]\n",
    "\n",
    "bags.sort()\n",
    "jewels.sort(key=lambda x: -x[0])\n",
    "\n",
    "total = 0\n",
    "heap = []\n",
    "for bag in bags:\n",
    "    while True:\n",
    "        if jewels and jewels[-1][0] <= bag:\n",
    "            heappush(heap, -jewels.pop()[1])\n",
    "        else:\n",
    "            break\n",
    "    if heap:\n",
    "        total -= heappop(heap)\n",
    "        \n",
    "print(total)"
   ]
  },
  {
   "cell_type": "markdown",
   "metadata": {},
   "source": [
    "### 소수의 곱 2014"
   ]
  },
  {
   "cell_type": "code",
   "execution_count": 166,
   "metadata": {},
   "outputs": [
    {
     "name": "stdout",
     "output_type": "stream",
     "text": [
      "4 19\n",
      "2 3 5 7\n",
      "27\n"
     ]
    }
   ],
   "source": [
    "from heapq import heapify, heappush, heappop\n",
    "\n",
    "n, k = map(int, input().split())\n",
    "li = list(map(int, input().split()))\n",
    "\n",
    "ct = 2 ** 31 # criteria\n",
    "st = set()\n",
    "heap = li[:]\n",
    "heapify(heap)\n",
    "cur = 0\n",
    "while True:\n",
    "    value = heappop(heap)\n",
    "    \n",
    "    if value in st:\n",
    "        continue\n",
    "    st.add(value)  \n",
    "    cur += 1\n",
    "    if cur == k:\n",
    "        print(value)\n",
    "        break\n",
    "        \n",
    "    for v in li:\n",
    "        nvalue = value * v\n",
    "        if nvalue < ct:\n",
    "            heappush(heap, nvalue)"
   ]
  },
  {
   "cell_type": "markdown",
   "metadata": {},
   "source": [
    "### 카풀 매칭 17280 (신규)"
   ]
  },
  {
   "cell_type": "raw",
   "metadata": {},
   "source": [
    "승객을 위치 순으로 정렬함\n",
    "택시를 가장 멀리 떨어진 곳을 기준으로 정렬함\n",
    "가장 먼 위치의 승객부터 순회하면서 해당 승객을 태울 수 있는 모든 택시의 시작값을 최대힙에 넣음\n",
    "그 후에 힙에서 꺼내면서 해당 승객을 태울 수 없는 값들은 바로 제거하고 태울 수 있으면 count + 1하고 다음 승객으로 넘어감\n",
    "이 동안 heap이 비어있는 등의 조건도 확인해야됨"
   ]
  },
  {
   "cell_type": "code",
   "execution_count": 180,
   "metadata": {},
   "outputs": [
    {
     "name": "stdout",
     "output_type": "stream",
     "text": [
      "3 3\n",
      "1 2 3\n",
      "10 20\n",
      "30 40\n",
      "50 60\n",
      "0\n"
     ]
    }
   ],
   "source": [
    "from heapq import heappush, heappop\n",
    "import sys\n",
    "# input = lambda: sys.stdin.readline().rstrip()\n",
    "\n",
    "for _ in range(int(input())):\n",
    "    n, m = map(int, input().split())\n",
    "    cs = sorted(map(int, input().split()), reverse=True) # customers\n",
    "    ds = [list(map(int, input().split())) for _ in range(m)] # drivers\n",
    "\n",
    "    ds.sort(key=lambda x: x[1])\n",
    "    heap = []\n",
    "    count = 0\n",
    "    for c in cs:\n",
    "        while ds and c <= ds[-1][1]:\n",
    "            heappush(heap, -ds.pop()[0])\n",
    "\n",
    "        while heap:\n",
    "            s = heappop(heap)\n",
    "            if c < -s:\n",
    "                continue\n",
    "            else:\n",
    "                heappush(heap, s)\n",
    "                break\n",
    "\n",
    "        if heap:\n",
    "            heappop(heap)\n",
    "            count += 1\n",
    "\n",
    "    print(count)"
   ]
  },
  {
   "cell_type": "markdown",
   "metadata": {},
   "source": [
    "### 뱀 3190"
   ]
  },
  {
   "cell_type": "code",
   "execution_count": 9,
   "metadata": {},
   "outputs": [
    {
     "name": "stdout",
     "output_type": "stream",
     "text": [
      "6\n",
      "3\n",
      "3 4\n",
      "2 5\n",
      "5 3\n",
      "3\n",
      "3 D\n",
      "15 L\n",
      "17 D\n",
      "9\n"
     ]
    }
   ],
   "source": [
    "# 맞았음, 뱀 상태 관리시 set을 사용하지 않아도 충분히 통과하지만 연습을 위해 사용해봤음\n",
    "from collections import deque\n",
    "\n",
    "n = int(input())\n",
    "k = int(input())\n",
    "\n",
    "get_value = lambda x: int(x) - 1\n",
    "apples = set(tuple(map(get_value, input().split())) for _ in range(k))\n",
    "l = int(input())\n",
    "turns = deque()\n",
    "for _ in range(l):\n",
    "    t, c = input().split()\n",
    "    t = int(t)\n",
    "    turns.append((t, c))\n",
    "\n",
    "# 상우하좌\n",
    "dx = [-1, 0, 1, 0]\n",
    "dy = [0, 1, 0, -1]\n",
    "\n",
    "snake = deque()\n",
    "snake.append((0, 0))\n",
    "snake_st = set()\n",
    "snake_st.add((0, 0))\n",
    "cur = 1\n",
    "d = 1\n",
    "x = y = 0\n",
    "while True:\n",
    "    nx, ny = x + dx[d % 4], y + dy[d % 4]\n",
    "    if nx < 0 or nx >= n or ny < 0 or ny >= n:\n",
    "        break\n",
    "    if (nx, ny) in snake_st:\n",
    "        break\n",
    "    \n",
    "    snake_st.add((nx, ny))\n",
    "    snake.append((nx, ny))\n",
    "    if (nx, ny) in apples:\n",
    "        apples.discard((nx, ny))\n",
    "    else:\n",
    "        snake_st.discard(snake.popleft())\n",
    "    \n",
    "    if turns and turns[0][0] == cur:\n",
    "        _, c = turns.popleft()\n",
    "        if c == 'L':\n",
    "            d -= 1\n",
    "        else:\n",
    "            d += 1\n",
    "    cur += 1\n",
    "    x, y = nx, ny\n",
    "    \n",
    "print(cur)"
   ]
  },
  {
   "cell_type": "markdown",
   "metadata": {},
   "source": [
    "### 치킨 배달 15686"
   ]
  },
  {
   "cell_type": "code",
   "execution_count": 21,
   "metadata": {},
   "outputs": [
    {
     "name": "stdout",
     "output_type": "stream",
     "text": [
      "5 2\n",
      "0 2 0 1 0\n",
      " 1 0 1 0 0\n",
      "0 0 0 0 0\n",
      "2 0 0 1 1\n",
      "2 2 0 1 2\n",
      "10\n"
     ]
    }
   ],
   "source": [
    "from itertools import combinations as comb\n",
    "\n",
    "n, m = map(int, input().split())\n",
    "li = [list(map(int, input().split())) for _ in range(n)]\n",
    "\n",
    "cities = []\n",
    "shops = []\n",
    "for i in range(n):\n",
    "    for j in range(n):\n",
    "        if li[i][j] == 1:\n",
    "            cities.append((i, j))\n",
    "        elif li[i][j] == 2:\n",
    "            shops.append((i, j))\n",
    "\n",
    "get_dist = lambda cx, cy, sx, sy: abs(cx - sx) + abs(cy - sy)\n",
    "cases = comb(shops, m)\n",
    "mcdoc = float('inf') # min_c_dist_of_city\n",
    "for case in cases:\n",
    "    cdoc = 0 # c_dist_of_city\n",
    "    for cx, cy in cities:\n",
    "        cd = float('inf') # c_dist\n",
    "        for sx, sy in case:\n",
    "            cd = min(cd, get_dist(cx, cy, sx, sy))\n",
    "        cdoc += cd\n",
    "    mcdoc = min(mcdoc, cdoc)\n",
    "\n",
    "print(mcdoc)"
   ]
  }
 ],
 "metadata": {
  "kernelspec": {
   "display_name": "Python 3",
   "language": "python",
   "name": "python3"
  },
  "language_info": {
   "codemirror_mode": {
    "name": "ipython",
    "version": 3
   },
   "file_extension": ".py",
   "mimetype": "text/x-python",
   "name": "python",
   "nbconvert_exporter": "python",
   "pygments_lexer": "ipython3",
   "version": "3.7.3"
  }
 },
 "nbformat": 4,
 "nbformat_minor": 4
}
