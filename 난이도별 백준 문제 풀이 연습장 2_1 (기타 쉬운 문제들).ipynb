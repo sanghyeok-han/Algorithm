{
 "cells": [
  {
   "cell_type": "code",
   "execution_count": 4,
   "metadata": {},
   "outputs": [
    {
     "name": "stdout",
     "output_type": "stream",
     "text": [
      "Nat tan\n",
      "Yes\n"
     ]
    }
   ],
   "source": [
    "def check(s):\n",
    "    n = len(s)\n",
    "    \n",
    "    for i in range(n // 2):\n",
    "        if s[i] != s[n - i - 1]:\n",
    "            return False\n",
    "    return True\n",
    "\n",
    "for _ in range(int(input())):\n",
    "    s = input().lower()\n",
    "\n",
    "    if check(s):\n",
    "        print('Yes')\n",
    "    else:\n",
    "        print('No')"
   ]
  },
  {
   "cell_type": "code",
   "execution_count": 9,
   "metadata": {},
   "outputs": [
    {
     "name": "stdout",
     "output_type": "stream",
     "text": [
      "wd\n",
      "false\n"
     ]
    }
   ],
   "source": [
    "def check(s):\n",
    "    n = len(s)\n",
    "    \n",
    "    for i in range(n // 2):\n",
    "        if s[i] != s[n - i - 1]:\n",
    "            return False\n",
    "    return True\n",
    "\n",
    "s = input()\n",
    "\n",
    "if check(s):\n",
    "    print('true')\n",
    "else:\n",
    "    print('false')"
   ]
  },
  {
   "cell_type": "code",
   "execution_count": 2,
   "metadata": {},
   "outputs": [
    {
     "name": "stdout",
     "output_type": "stream",
     "text": [
      "21\n",
      "14\n"
     ]
    }
   ],
   "source": [
    "def check(num):\n",
    "    if num % sum(map(int, str(num))) == 0:\n",
    "        return True\n",
    "    return False\n",
    "\n",
    "n = int(input())\n",
    "\n",
    "count = 0\n",
    "for i in range(1, n + 1):\n",
    "    if check(i):\n",
    "        count += 1\n",
    "        \n",
    "print(count)"
   ]
  },
  {
   "cell_type": "code",
   "execution_count": 3,
   "metadata": {},
   "outputs": [
    {
     "name": "stdout",
     "output_type": "stream",
     "text": [
      "-2 0 21 3 8 17 32 -8 7 0\n",
      "6\n"
     ]
    }
   ],
   "source": [
    "li = list(map(int, input().split()))\n",
    "\n",
    "li = [v for v in li if v > 0]\n",
    "\n",
    "print(len(li))"
   ]
  },
  {
   "cell_type": "code",
   "execution_count": null,
   "metadata": {},
   "outputs": [],
   "source": [
    "import sys\n",
    "input = lambda: sys.stdin.readline().rstrip()\n",
    "\n",
    "for _ in range(int(input())):\n",
    "    n = int(input())\n",
    "\n",
    "    total = 0\n",
    "    for _ in range(n):\n",
    "        li = list(map(int, input().split()))\n",
    "\n",
    "        mv = max(li)\n",
    "        if mv > 0:\n",
    "            total += mv\n",
    "\n",
    "    print(total)"
   ]
  },
  {
   "cell_type": "code",
   "execution_count": 10,
   "metadata": {},
   "outputs": [
    {
     "name": "stdout",
     "output_type": "stream",
     "text": [
      "10 9\n",
      "-1\n"
     ]
    }
   ],
   "source": [
    "for _ in range(int(input())):\n",
    "    n, m = map(int, input().split())\n",
    "\n",
    "    if n < 12 or m < 4:\n",
    "        print(-1)\n",
    "    else:\n",
    "        li = [[0] * m for _ in range(n)]\n",
    "\n",
    "        for i in range(n):\n",
    "            for j in range(m):\n",
    "                li[i][j] = i * m + j + 1\n",
    "\n",
    "        print(li[11][3])"
   ]
  },
  {
   "cell_type": "code",
   "execution_count": 11,
   "metadata": {},
   "outputs": [
    {
     "name": "stdout",
     "output_type": "stream",
     "text": [
      "3 4\n",
      "1 2 3 4\n",
      "5 6 7 8\n",
      "9 10 11 12\n"
     ]
    }
   ],
   "source": [
    "n, m = map(int, input().split())\n",
    "\n",
    "li = [[0] * m for _ in range(n)]\n",
    "for i in range(n):\n",
    "    for j in range(m):\n",
    "        li[i][j] = i * m + j + 1\n",
    "\n",
    "for v in li:\n",
    "    print(*v)"
   ]
  },
  {
   "cell_type": "code",
   "execution_count": 12,
   "metadata": {},
   "outputs": [
    {
     "name": "stdout",
     "output_type": "stream",
     "text": [
      "INFP\n",
      "ESTJ\n"
     ]
    }
   ],
   "source": [
    "s = input()\n",
    "\n",
    "d = {'E': 'I', 'S': 'N', 'T': 'F', 'J': 'P'}\n",
    "\n",
    "nd = d.copy()\n",
    "for key in d:\n",
    "    nd[d[key]] = key\n",
    "    \n",
    "ns = ''\n",
    "for v in s:\n",
    "    ns += nd[v]\n",
    "    \n",
    "print(ns)"
   ]
  },
  {
   "cell_type": "code",
   "execution_count": null,
   "metadata": {},
   "outputs": [],
   "source": [
    "n, a, b = map(int, input().split())\n",
    "li = [list(map(int, input().split())) for _ in range(n)]\n",
    "\n",
    "a -= 1\n",
    "b -= 1\n",
    "\n",
    "is_found = False\n",
    "cri = li[a][b]\n",
    "for i in range(n):\n",
    "    if li[a][i] > cri:\n",
    "        is_found = True\n",
    "    if li[i][b] > cri:\n",
    "        is_found = True\n",
    "        \n",
    "if is_found:\n",
    "    print('ANGRY')\n",
    "else:\n",
    "    print('HAPPY')"
   ]
  },
  {
   "cell_type": "code",
   "execution_count": 8,
   "metadata": {},
   "outputs": [
    {
     "name": "stdout",
     "output_type": "stream",
     "text": [
      "100 8\n",
      "113\n"
     ]
    }
   ],
   "source": [
    "n, m = map(int, input().split())\n",
    "\n",
    "total = n\n",
    "while n >= m:\n",
    "    total += n // m\n",
    "    n //= m\n",
    "\n",
    "print(total)"
   ]
  },
  {
   "cell_type": "code",
   "execution_count": 14,
   "metadata": {},
   "outputs": [
    {
     "name": "stdout",
     "output_type": "stream",
     "text": [
      "1000000 5\n",
      "16\n"
     ]
    }
   ],
   "source": [
    "import sys\n",
    "input = lambda: sys.stdin.readline().rstrip()\n",
    "\n",
    "while True:\n",
    "    b, n = map(int, input().split())\n",
    "    if b == 0 and n == 0:\n",
    "        break\n",
    "\n",
    "    md = float('inf') # min diff\n",
    "    mda = 0 # min diff a\n",
    "    a = 0\n",
    "    while True:\n",
    "        temp = a ** n\n",
    "\n",
    "        if temp >= b:\n",
    "            if temp - b < md:\n",
    "                md = temp - b\n",
    "                mda = a\n",
    "            break\n",
    "\n",
    "        if b - temp < md:\n",
    "            md = b - temp\n",
    "            mda = a\n",
    "        a += 1\n",
    "\n",
    "    r = mda\n",
    "\n",
    "    print(r)"
   ]
  },
  {
   "cell_type": "code",
   "execution_count": 1,
   "metadata": {},
   "outputs": [
    {
     "name": "stdout",
     "output_type": "stream",
     "text": [
      "7\n",
      "21\n"
     ]
    }
   ],
   "source": [
    "n = int(input())\n",
    "\n",
    "c = 0\n",
    "for i in range(n):\n",
    "    for j in range(i + 1, n):\n",
    "        c += 1\n",
    "         \n",
    "print(c)"
   ]
  },
  {
   "cell_type": "code",
   "execution_count": 5,
   "metadata": {},
   "outputs": [
    {
     "name": "stdout",
     "output_type": "stream",
     "text": [
      "1\n",
      "0\n",
      "2\n"
     ]
    }
   ],
   "source": [
    "n = int(input())\n",
    "\n",
    "r = n * (n - 1) // 2\n",
    "\n",
    "print(r)\n",
    "print(2)"
   ]
  },
  {
   "cell_type": "code",
   "execution_count": 3,
   "metadata": {},
   "outputs": [
    {
     "name": "stdout",
     "output_type": "stream",
     "text": [
      "7\n",
      "SUNGPIL\n",
      "98\n"
     ]
    }
   ],
   "source": [
    "n = int(input())\n",
    "s = input()\n",
    "\n",
    "total = 0\n",
    "for v in s:\n",
    "    total += ord(v) - 64\n",
    "    \n",
    "print(total)"
   ]
  },
  {
   "cell_type": "code",
   "execution_count": 4,
   "metadata": {},
   "outputs": [
    {
     "name": "stdout",
     "output_type": "stream",
     "text": [
      "5 5\n",
      "1 2\n",
      "3 4\n",
      "2 5\n",
      "5 1\n",
      "4 2\n",
      "2\n",
      "3\n",
      "1\n",
      "2\n",
      "2\n"
     ]
    }
   ],
   "source": [
    "import sys\n",
    "input = lambda: sys.stdin.readline().rstrip()\n",
    "\n",
    "n, m = map(int, input().split())\n",
    "li = [0] * (n + 1)\n",
    "\n",
    "for _ in range(m):\n",
    "    a, b = map(int, input().split())\n",
    "    li[a] += 1\n",
    "    li[b] += 1\n",
    "    \n",
    "for v in li[1:]:\n",
    "    print(v)"
   ]
  },
  {
   "cell_type": "code",
   "execution_count": 6,
   "metadata": {},
   "outputs": [
    {
     "name": "stdout",
     "output_type": "stream",
     "text": [
      "aaa\n",
      "aa\n",
      "1\n"
     ]
    }
   ],
   "source": [
    "print(input().count(input()))"
   ]
  },
  {
   "cell_type": "code",
   "execution_count": 10,
   "metadata": {},
   "outputs": [
    {
     "name": "stdout",
     "output_type": "stream",
     "text": [
      "1 7\n",
      "7 $\n",
      "0\n"
     ]
    }
   ],
   "source": [
    "import sys\n",
    "input = lambda: sys.stdin.readline().rstrip()\n",
    "\n",
    "while True:\n",
    "    n, *li = map(int, input().split())\n",
    "    if n == 0:\n",
    "        break\n",
    "    \n",
    "    r = [li[0]]\n",
    "    for i in range(1, n):\n",
    "        if li[i] != li[i - 1]:\n",
    "            r.append(li[i])\n",
    "    r.append('$')\n",
    "    \n",
    "    print(*r)"
   ]
  },
  {
   "cell_type": "code",
   "execution_count": 11,
   "metadata": {},
   "outputs": [
    {
     "name": "stdout",
     "output_type": "stream",
     "text": [
      "3\n",
      "3 2 1\n",
      "3\n"
     ]
    }
   ],
   "source": [
    "n = int(input())\n",
    "\n",
    "li = list(map(int, input().split()))\n",
    "\n",
    "r = max(li)\n",
    "\n",
    "print(r)"
   ]
  },
  {
   "cell_type": "code",
   "execution_count": 14,
   "metadata": {},
   "outputs": [
    {
     "name": "stdout",
     "output_type": "stream",
     "text": [
      "1 100000\n",
      "-99998\n"
     ]
    }
   ],
   "source": [
    "import sys\n",
    "input = lambda: sys.stdin.readline().rstrip()\n",
    "\n",
    "while True:\n",
    "    li = sorted(map(int, input().split()))\n",
    "\n",
    "    if li[0] == 0 and li[1] == 0:\n",
    "        break\n",
    "    \n",
    "    diff = li[1] - li[0]\n",
    "\n",
    "    print(li[0] - diff)"
   ]
  },
  {
   "cell_type": "code",
   "execution_count": 16,
   "metadata": {},
   "outputs": [
    {
     "name": "stdout",
     "output_type": "stream",
     "text": [
      "000e\n",
      "0000\n"
     ]
    }
   ],
   "source": [
    "import sys\n",
    "input = lambda: sys.stdin.readline().rstrip()\n",
    "\n",
    "while True:\n",
    "    s = input()\n",
    "    if s == '#':\n",
    "        break\n",
    "\n",
    "    c1 = s.count('1')\n",
    "\n",
    "    if s[-1] == 'e':\n",
    "        if c1 % 2 == 1:\n",
    "            r = s[:-1] + '1'\n",
    "        else:\n",
    "            r = s[:-1] + '0'\n",
    "    else:\n",
    "        if c1 % 2 == 1:\n",
    "            r = s[:-1] + '0'\n",
    "        else:\n",
    "            r = s[:-1] + '1'\n",
    "\n",
    "    print(r)"
   ]
  },
  {
   "cell_type": "code",
   "execution_count": 19,
   "metadata": {},
   "outputs": [
    {
     "name": "stdout",
     "output_type": "stream",
     "text": [
      "6\n",
      "1\n"
     ]
    }
   ],
   "source": [
    "n = int(input())\n",
    "\n",
    "count = 0\n",
    "for a in range(1, n):\n",
    "    for b in range(1, n):\n",
    "        c = n - a - b\n",
    "        if c <= 0:\n",
    "            continue\n",
    "            \n",
    "        if c % 2 == 1:\n",
    "            continue\n",
    "            \n",
    "        if a >= b + 2:\n",
    "            count += 1\n",
    "            \n",
    "r = count\n",
    "\n",
    "print(r)"
   ]
  },
  {
   "cell_type": "code",
   "execution_count": 21,
   "metadata": {},
   "outputs": [
    {
     "name": "stdout",
     "output_type": "stream",
     "text": [
      "4\n",
      "1 3\n",
      "2 5\n",
      "4 9\n",
      "11 13\n",
      "10\n"
     ]
    }
   ],
   "source": [
    "import sys\n",
    "input = lambda: sys.stdin.readline().rstrip()\n",
    "\n",
    "n = int(input())\n",
    "deltas = [0] * 10001\n",
    "\n",
    "for _ in range(n):\n",
    "    a, b = map(int, input().split())\n",
    "    \n",
    "    if a > b:\n",
    "        a, b = b, a\n",
    "        \n",
    "    deltas[a] += 1\n",
    "    deltas[b] -= 1\n",
    "    \n",
    "cumul = 0\n",
    "count = 0\n",
    "for i in range(10001):\n",
    "    cumul += deltas[i]\n",
    "\n",
    "    if cumul >= 1:\n",
    "        count += 1\n",
    "\n",
    "print(count)"
   ]
  },
  {
   "cell_type": "code",
   "execution_count": 22,
   "metadata": {},
   "outputs": [
    {
     "name": "stdout",
     "output_type": "stream",
     "text": [
      "285 271 270 268 264 251 237 236 228 227 226 225 224 217 216 205 198 193 192 190 182 168 165 161 157 146 141 135 127 126 122 114 105 81 80 76 70 67 63 59 55 44 34 24 19 14 9 5 2 1\n",
      "251\n"
     ]
    }
   ],
   "source": [
    "li = sorted(map(int, input().split()), reverse=True)\n",
    "\n",
    "target = li.index(int(input()))"
   ]
  },
  {
   "cell_type": "code",
   "execution_count": 24,
   "metadata": {},
   "outputs": [],
   "source": [
    "r = target + 1"
   ]
  },
  {
   "cell_type": "code",
   "execution_count": 26,
   "metadata": {},
   "outputs": [
    {
     "name": "stdout",
     "output_type": "stream",
     "text": [
      "A0\n"
     ]
    }
   ],
   "source": [
    "li = sorted(map(int, input().split()), reverse=True)\n",
    "\n",
    "target = li.index(int(input()))\n",
    "r = target + 1\n",
    "\n",
    "rr = ['A+', 'A0', 'B+', 'B0', 'C+', 'C0', 'F']\n",
    "conds = [(1, 5), (6, 15), (16, 30), (31, 35), (36, 45), (46, 48), (49, 50)]\n",
    "\n",
    "for i in range(7):\n",
    "    if conds[i][0] <= r <= conds[i][1]:\n",
    "        print(rr[i])\n",
    "        break"
   ]
  },
  {
   "cell_type": "code",
   "execution_count": 42,
   "metadata": {},
   "outputs": [
    {
     "name": "stdout",
     "output_type": "stream",
     "text": [
      "3 4 9 32\n",
      "4 5\n"
     ]
    }
   ],
   "source": [
    "a, b, n, w = map(int, input().split())\n",
    "\n",
    "r = [-1]\n",
    "for aa in range(1, n):\n",
    "    bb = n - aa\n",
    "    \n",
    "    if a * aa + b * bb == w:\n",
    "        if r[0] == -1:\n",
    "            r = [aa, bb]\n",
    "        else:\n",
    "            r = [-1]\n",
    "            break\n",
    "            \n",
    "print(*r)"
   ]
  },
  {
   "cell_type": "code",
   "execution_count": 57,
   "metadata": {},
   "outputs": [
    {
     "name": "stdout",
     "output_type": "stream",
     "text": [
      "6 9 20\n",
      "40\n"
     ]
    }
   ],
   "source": [
    "n, l, d = map(int, input().split())\n",
    "\n",
    "li = []\n",
    "for _ in range(n):\n",
    "    li.extend([False] * l)\n",
    "    li.extend([True] * 5)\n",
    "    \n",
    "li.extend([True] * 30)\n",
    "    \n",
    "cur = 0\n",
    "r = 0\n",
    "while True:\n",
    "    if li[cur]:\n",
    "        r = cur\n",
    "        break\n",
    "    cur += d\n",
    "    \n",
    "print(r)"
   ]
  },
  {
   "cell_type": "code",
   "execution_count": 59,
   "metadata": {},
   "outputs": [
    {
     "name": "stdout",
     "output_type": "stream",
     "text": [
      "2\n",
      "\n",
      "5\n",
      "5\n",
      "2\n",
      "7\n",
      "3\n",
      "8\n",
      "YES\n",
      "\n",
      "6\n",
      "7\n",
      "11\n",
      "2\n",
      "7\n",
      "3\n",
      "4\n",
      "NO\n"
     ]
    }
   ],
   "source": [
    "import sys\n",
    "input = lambda: sys.stdin.readline().rstrip()\n",
    "\n",
    "t = int(input())\n",
    "for _ in range(t):\n",
    "    input()\n",
    "    n = int(input())\n",
    "    li = [int(input()) for _ in range(n)]\n",
    "    \n",
    "    if sum(li) % n == 0:\n",
    "        print('YES')\n",
    "    else:\n",
    "        print('NO')"
   ]
  },
  {
   "cell_type": "code",
   "execution_count": 60,
   "metadata": {},
   "outputs": [
    {
     "name": "stdout",
     "output_type": "stream",
     "text": [
      "10 5\n",
      "0\n",
      "0\n",
      "5\n",
      "6\n",
      "-3\n",
      "8\n",
      "1\n",
      "8\n",
      "-4\n",
      "0\n",
      "1\n",
      "3\n",
      "5\n",
      "1\n",
      "5\n"
     ]
    }
   ],
   "source": [
    "n, m = map(int, input().split())\n",
    "li = [int(input()) for _ in range(n)]\n",
    "com = [int(input()) for _ in range(m)]"
   ]
  },
  {
   "cell_type": "code",
   "execution_count": 61,
   "metadata": {},
   "outputs": [
    {
     "name": "stdout",
     "output_type": "stream",
     "text": [
      "5\n"
     ]
    }
   ],
   "source": [
    "n, m = map(int, input().split())\n",
    "li = [int(input()) for _ in range(n)]\n",
    "com = [int(input()) for _ in range(m)]\n",
    "\n",
    "cur = 0\n",
    "for i in range(m):\n",
    "    cur += com[i]\n",
    "    \n",
    "    if cur >= n - 1:\n",
    "        break\n",
    "        \n",
    "    cur += li[cur]\n",
    "    \n",
    "    if cur >= n - 1:\n",
    "        break\n",
    "        \n",
    "print(i + 1)"
   ]
  },
  {
   "cell_type": "code",
   "execution_count": null,
   "metadata": {},
   "outputs": [],
   "source": [
    "while True:\n",
    "    n = int(input())\n",
    "    if n == 0:\n",
    "        break\n",
    "    \n",
    "    r = [n]\n",
    "    while n >= 10:\n",
    "        sn = str(n)\n",
    "        n = 1\n",
    "        for v in sn:\n",
    "            n *= int(v)\n",
    "            \n",
    "        r.append(n)\n",
    "        \n",
    "    print(*r)"
   ]
  },
  {
   "cell_type": "code",
   "execution_count": 66,
   "metadata": {},
   "outputs": [
    {
     "name": "stdout",
     "output_type": "stream",
     "text": [
      "4\n",
      "0\n"
     ]
    }
   ],
   "source": [
    "s = input()\n",
    "\n",
    "c2 = s.count('2')\n",
    "c0 = s.count('0')\n",
    "c1 = s.count('1')\n",
    "c8 = s.count('8')\n",
    "\n",
    "if c2 + c0 + c1 + c8 == len(s):\n",
    "    if c2 == c0 == c1 == c8:\n",
    "        print(8)\n",
    "    elif min([c2, c0, c1, c8]) >= 1:\n",
    "        print(2)\n",
    "    else:\n",
    "        print(1)\n",
    "else:\n",
    "    print(0)"
   ]
  },
  {
   "cell_type": "code",
   "execution_count": 70,
   "metadata": {},
   "outputs": [
    {
     "name": "stdout",
     "output_type": "stream",
     "text": [
      "1\n",
      "Batman\n",
      "Batman is A BADDY\n"
     ]
    }
   ],
   "source": [
    "n = int(input())\n",
    "for _ in range(n):\n",
    "    os = input()\n",
    "    s = os.lower()\n",
    "    \n",
    "    cb = s.count('b')\n",
    "    cg = s.count('g')\n",
    "    \n",
    "    if cb == cg:\n",
    "        r = 'NEUTRAL'\n",
    "    elif cb > cg:\n",
    "        r = 'A BADDY'\n",
    "    else:\n",
    "        r = 'GOOD'\n",
    "        \n",
    "    print(f'{os} is {r}')"
   ]
  },
  {
   "cell_type": "code",
   "execution_count": null,
   "metadata": {},
   "outputs": [],
   "source": [
    "import sys\n",
    "input = lambda: sys.stdin.readline().rstrip()\n",
    "\n",
    "n = int(input())\n",
    "total = sum([sum(map(int, input().split())) for _ in range(n)])\n",
    "\n",
    "print(total)"
   ]
  },
  {
   "cell_type": "code",
   "execution_count": null,
   "metadata": {},
   "outputs": [],
   "source": [
    "for _ in range(int(input())):\n",
    "    n = int(input())\n",
    "    li = list(map(int, input().split()))\n",
    "    print(min(li), max(li))"
   ]
  },
  {
   "cell_type": "code",
   "execution_count": 4,
   "metadata": {},
   "outputs": [
    {
     "name": "stdout",
     "output_type": "stream",
     "text": [
      "BBC\n",
      "15\n",
      "#\n"
     ]
    }
   ],
   "source": [
    "import sys\n",
    "input = lambda: sys.stdin.readline().rstrip()\n",
    "\n",
    "while True:\n",
    "    s = input()\n",
    "    if s == '#':\n",
    "        break\n",
    "        \n",
    "    total = 0\n",
    "    for i in range(len(s)):\n",
    "        if s[i] == ' ':\n",
    "            continue\n",
    "        total += (i + 1) * (ord(s[i]) - 64)\n",
    "        \n",
    "    print(total)"
   ]
  },
  {
   "cell_type": "code",
   "execution_count": 13,
   "metadata": {},
   "outputs": [
    {
     "name": "stdout",
     "output_type": "stream",
     "text": [
      "5\n",
      "3\n",
      "3 3 1\n",
      "2 4 3 3 3\n",
      "4 3 3 3 1\n",
      "1 3 4 1 1\n",
      "3\n",
      "1\n",
      "6\n",
      "3\n",
      "2\n"
     ]
    }
   ],
   "source": [
    "get_value = lambda x: int(x) - 1\n",
    "\n",
    "n = int(input())\n",
    "m = int(input())\n",
    "li = list(map(get_value, input().split()))\n",
    "\n",
    "scores = [0] * n\n",
    "for i in range(m):\n",
    "    temp = list(map(get_value, input().split()))\n",
    "    \n",
    "    s = 0\n",
    "    for j in range(n):\n",
    "        if temp[j] == li[i]:\n",
    "            scores[j] += 1\n",
    "        else:\n",
    "            s += 1\n",
    "            \n",
    "    scores[li[i]] += s\n",
    "    \n",
    "for v in scores:\n",
    "    print(v)"
   ]
  },
  {
   "cell_type": "code",
   "execution_count": 17,
   "metadata": {},
   "outputs": [
    {
     "name": "stdout",
     "output_type": "stream",
     "text": [
      "DY\n",
      "D\n",
      "Y\n"
     ]
    }
   ],
   "source": [
    "import sys\n",
    "input = lambda: sys.stdin.readline().rstrip()\n",
    "\n",
    "for _ in range(int(input())):\n",
    "    s = input() * 30\n",
    "    n = len(s)\n",
    "\n",
    "    r1 = ''\n",
    "    st = set()\n",
    "    for i in range(0, n, 2):\n",
    "        if s[i] not in st:\n",
    "            st.add(s[i])\n",
    "            r1 += s[i]\n",
    "        else:\n",
    "            break\n",
    "\n",
    "    r2 = ''\n",
    "    st = set()\n",
    "    for i in range(1, n, 2):\n",
    "        if s[i] not in st:\n",
    "            st.add(s[i])\n",
    "            r2 += s[i]\n",
    "        else:\n",
    "            break\n",
    "\n",
    "    print(r1)\n",
    "    print(r2)"
   ]
  },
  {
   "cell_type": "code",
   "execution_count": 20,
   "metadata": {},
   "outputs": [
    {
     "name": "stdout",
     "output_type": "stream",
     "text": [
      "679\n",
      "5\n"
     ]
    }
   ],
   "source": [
    "n = int(input())\n",
    "\n",
    "cur = 0\n",
    "while n >= 10:\n",
    "    cur += 1\n",
    "    nn = 1\n",
    "    for v in str(n):\n",
    "        nn *= int(v)\n",
    "    n = nn\n",
    "    \n",
    "print(cur)"
   ]
  },
  {
   "cell_type": "code",
   "execution_count": null,
   "metadata": {},
   "outputs": [],
   "source": [
    "import sys\n",
    "# input = lambda: sys.stdin.readline().rstrip()\n",
    "\n",
    "while True:\n",
    "    a, b, c, d = map(int, input().split())\n",
    "    if a == b == c == d == 0:\n",
    "        break\n",
    "\n",
    "    cur = 0\n",
    "    while len(set([a, b, c, d])) >= 2:\n",
    "        cur += 1\n",
    "        na = abs(a - b)\n",
    "        nb = abs(b - c)\n",
    "        nc = abs(c - d)\n",
    "        nd = abs(d - a)\n",
    "\n",
    "        a, b, c, d = na, nb, nc, nd\n",
    "\n",
    "    print(cur)"
   ]
  },
  {
   "cell_type": "code",
   "execution_count": 24,
   "metadata": {},
   "outputs": [
    {
     "name": "stdout",
     "output_type": "stream",
     "text": [
      "1\n",
      "9 +\n",
      "+++++++++\n"
     ]
    }
   ],
   "source": [
    "n = int(input())\n",
    "for _ in range(n):\n",
    "    l, s = input().split()\n",
    "    l = int(l)\n",
    "    \n",
    "    print(s * l)"
   ]
  },
  {
   "cell_type": "code",
   "execution_count": 28,
   "metadata": {},
   "outputs": [
    {
     "name": "stdout",
     "output_type": "stream",
     "text": [
      "7 10\n",
      "4 8\n",
      "6\n"
     ]
    }
   ],
   "source": [
    "a, b = map(int, input().split())\n",
    "c, d = map(int, input().split())\n",
    "\n",
    "li = [False] * 101\n",
    "for i in range(c, d):\n",
    "    li[i] = True\n",
    "\n",
    "for i in range(a, b):\n",
    "    li[i] = True\n",
    "    \n",
    "c = 0\n",
    "for v in li:\n",
    "    c += v\n",
    "        \n",
    "print(c)"
   ]
  },
  {
   "cell_type": "code",
   "execution_count": 2,
   "metadata": {},
   "outputs": [
    {
     "name": "stdout",
     "output_type": "stream",
     "text": [
      "5\n",
      "0 4\n",
      "1 2\n",
      "1 -1\n",
      "2 2\n",
      "3 3\n",
      "1 -1\n",
      "1 2\n",
      "2 2\n",
      "3 3\n",
      "0 4\n"
     ]
    }
   ],
   "source": [
    "import sys\n",
    "input = lambda: sys.stdin.readline().rstrip()\n",
    "\n",
    "n = int(input())\n",
    "li = [list(map(int, input().split())) for _ in range(n)]\n",
    "\n",
    "li.sort(key=lambda x: (x[1], x[0]))\n",
    "\n",
    "for v in li:\n",
    "    print(*v)"
   ]
  }
 ],
 "metadata": {
  "kernelspec": {
   "display_name": "Python 3",
   "language": "python",
   "name": "python3"
  },
  "language_info": {
   "codemirror_mode": {
    "name": "ipython",
    "version": 3
   },
   "file_extension": ".py",
   "mimetype": "text/x-python",
   "name": "python",
   "nbconvert_exporter": "python",
   "pygments_lexer": "ipython3",
   "version": "3.7.4"
  }
 },
 "nbformat": 4,
 "nbformat_minor": 4
}
