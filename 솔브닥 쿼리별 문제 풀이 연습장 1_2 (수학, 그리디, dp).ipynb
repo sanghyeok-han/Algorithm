{
 "cells": [
  {
   "cell_type": "raw",
   "metadata": {},
   "source": [
    "tier:s3.. solved:100.. (tag:dp|tag:greedy|tag:math) - solved_by:hsh8086"
   ]
  },
  {
   "cell_type": "markdown",
   "metadata": {},
   "source": [
    "### 삼각형으로 자르기 1198"
   ]
  },
  {
   "cell_type": "code",
   "execution_count": null,
   "metadata": {},
   "outputs": [],
   "source": [
    "브루트포스 + 수학"
   ]
  },
  {
   "cell_type": "code",
   "execution_count": 5,
   "metadata": {},
   "outputs": [
    {
     "name": "stdout",
     "output_type": "stream",
     "text": [
      "4\n",
      "1 1\n",
      "1 2\n",
      "3 3\n",
      "2 1\n",
      "1.5\n"
     ]
    }
   ],
   "source": [
    "from itertools import combinations as comb\n",
    "\n",
    "n = int(input())\n",
    "li = [tuple(map(int, input().split())) for _ in range(n)]\n",
    "\n",
    "cases = comb(li, 3)\n",
    "\n",
    "max_result = 0\n",
    "for a, b, c in cases:\n",
    "    A = [a[0], b[0], c[0], a[0]]\n",
    "    B = [a[1], b[1], c[1], a[1]]\n",
    "    \n",
    "    t1 = 0\n",
    "    for i in range(3):\n",
    "        t1 += A[i] * B[i + 1]\n",
    "    \n",
    "    t2 = 0\n",
    "    for i in range(3):\n",
    "        t2 += A[i + 1] * B[i]\n",
    "        \n",
    "    max_result = max(max_result, abs(t1 - t2) * 0.5)\n",
    "    \n",
    "print(max_result)"
   ]
  },
  {
   "cell_type": "markdown",
   "metadata": {},
   "source": [
    "### 다음 팰린드롬 수 1334"
   ]
  },
  {
   "cell_type": "code",
   "execution_count": null,
   "metadata": {},
   "outputs": [],
   "source": [
    "전부 9가 아닌 이상 전부 9를 만드는 것도 가능하므로 새로운 자리수가 생길 일은 없음"
   ]
  },
  {
   "cell_type": "code",
   "execution_count": 40,
   "metadata": {},
   "outputs": [
    {
     "name": "stdout",
     "output_type": "stream",
     "text": [
      "858\n",
      "868\n"
     ]
    }
   ],
   "source": [
    "li = list(map(int, input()))\n",
    "n = len(li)\n",
    "\n",
    "def check():\n",
    "    for i in range(n // 2):\n",
    "        if li[i] != li[n - 1 - i]:\n",
    "            return False\n",
    "    return True\n",
    "\n",
    "if check():\n",
    "    for i in range((n - 1) // 2 + 1, n):\n",
    "        li[i] = 0\n",
    "    num = int(''.join(map(str, li)))\n",
    "    to_add = 10 ** (n - 1 - ((n - 1) // 2))\n",
    "    num += to_add\n",
    "    li = list(map(int , str(num)))\n",
    "    n = len(li)\n",
    "        \n",
    "while True:\n",
    "    to_up = False\n",
    "    for i in range(n // 2):\n",
    "        if li[i] == li[n - 1 - i]:\n",
    "            continue\n",
    "        else:\n",
    "            if li[i] < li[n - 1 - i]:\n",
    "                to_up = True\n",
    "            else:\n",
    "                to_up = False\n",
    "            li[n - 1 - i] = li[i]\n",
    "\n",
    "    if to_up:\n",
    "        cur = (n - 1) // 2\n",
    "        while True:\n",
    "            li[cur] += 1\n",
    "            if li[cur] == 10:\n",
    "                cur -= 1\n",
    "                if cur == -1:\n",
    "                    li = [1] + li\n",
    "                    cur = 0\n",
    "            else:\n",
    "                for i in range(cur + 1, len(li)):\n",
    "                    li[i] = 0\n",
    "                break\n",
    "    else:\n",
    "        break\n",
    "        \n",
    "print(''.join(map(str, li)))"
   ]
  },
  {
   "cell_type": "markdown",
   "metadata": {},
   "source": [
    "### 활자 1951"
   ]
  },
  {
   "cell_type": "code",
   "execution_count": 83,
   "metadata": {},
   "outputs": [
    {
     "name": "stdout",
     "output_type": "stream",
     "text": [
      "1\n",
      "1\n"
     ]
    }
   ],
   "source": [
    "n = int(input())\n",
    "\n",
    "slen = len(str(n))\n",
    "total = (n - (10 ** (slen - 1)) + 1) * slen\n",
    "\n",
    "while True:\n",
    "    n = (10 ** (len(str(n)) - 1)) - 1\n",
    "    if n == 0:\n",
    "        break\n",
    "\n",
    "    total += 10 ** (len(str(n)) - 1) * 9 * len(str(n))\n",
    "    total %= 1234567\n",
    "    \n",
    "print(total % 1234567)"
   ]
  },
  {
   "cell_type": "markdown",
   "metadata": {},
   "source": [
    "### 지뢰 2232"
   ]
  },
  {
   "cell_type": "code",
   "execution_count": 94,
   "metadata": {},
   "outputs": [
    {
     "name": "stdout",
     "output_type": "stream",
     "text": [
      "4\n",
      "1\n",
      "2\n",
      "3\n",
      "2\n",
      "3\n"
     ]
    }
   ],
   "source": [
    "import sys\n",
    "input = lambda: sys.stdin.readline().rstrip()\n",
    "\n",
    "n = int(input())\n",
    "li = [int(input()) for _ in range(n)]\n",
    "\n",
    "nli = [(v, i) for i, v in enumerate(li)]\n",
    "nli.sort(key=lambda x: -x[0])\n",
    "\n",
    "popped = [False] * n\n",
    "result = []\n",
    "for v, oloc in nli:\n",
    "    if popped[oloc]:\n",
    "        continue\n",
    "    popped[oloc] = True\n",
    "    result.append(oloc + 1)\n",
    "    \n",
    "    loc = oloc\n",
    "    nloc = loc - 1\n",
    "    while nloc >= 0:\n",
    "        if popped[nloc]:\n",
    "            break\n",
    "        if li[nloc] < li[loc]:\n",
    "            popped[nloc] = True\n",
    "            loc -= 1\n",
    "            nloc -= 1\n",
    "        else:\n",
    "            break\n",
    "\n",
    "    loc = oloc\n",
    "    nloc = loc + 1\n",
    "    while nloc < n:\n",
    "        if popped[nloc]:\n",
    "            break\n",
    "        if li[nloc] < li[loc]:\n",
    "            popped[nloc] = True\n",
    "            loc += 1\n",
    "            nloc += 1\n",
    "        else:\n",
    "            break\n",
    "            \n",
    "print('\\n'.join(map(str, sorted(result))))"
   ]
  },
  {
   "cell_type": "markdown",
   "metadata": {},
   "source": [
    "### 엑셀 2757"
   ]
  },
  {
   "cell_type": "code",
   "execution_count": 99,
   "metadata": {},
   "outputs": [
    {
     "name": "stdout",
     "output_type": "stream",
     "text": [
      "R53C17602\n",
      "YZZ53\n",
      "R0C0\n"
     ]
    }
   ],
   "source": [
    "import re\n",
    "import sys\n",
    "input = lambda: sys.stdin.readline().rstrip()\n",
    "\n",
    "while True:\n",
    "    s = input()\n",
    "    if s == 'R0C0':\n",
    "        break\n",
    "\n",
    "    r, c = map(int, re.findall(\"\\d+\", s))\n",
    "\n",
    "    other_r = str(r)\n",
    "\n",
    "    alpha_len = 1\n",
    "    f_cumul = 0\n",
    "    cumul = 26\n",
    "    weight = 2\n",
    "    while cumul < c:\n",
    "        alpha_len += 1\n",
    "        f_cumul = cumul\n",
    "        cumul += 26 ** weight\n",
    "        weight += 1\n",
    "\n",
    "    c -= f_cumul + 1\n",
    "\n",
    "    changed_c = []\n",
    "    while c != 0:\n",
    "        changed_c.append(c % 26)\n",
    "        c //= 26\n",
    "\n",
    "    changed_c.reverse()\n",
    "    changed_c = [chr(v + 65) for v in changed_c]\n",
    "    other_c = ''.join(changed_c).rjust(alpha_len, 'A')\n",
    "\n",
    "    print(other_c + other_r)"
   ]
  },
  {
   "cell_type": "markdown",
   "metadata": {},
   "source": [
    "### 편의점 2 14400"
   ]
  },
  {
   "cell_type": "code",
   "execution_count": 100,
   "metadata": {},
   "outputs": [
    {
     "name": "stdout",
     "output_type": "stream",
     "text": [
      "5\n",
      "2 2\n",
      "3 4\n",
      "5 6\n",
      "1 9\n",
      "-2 -8\n",
      "30\n"
     ]
    }
   ],
   "source": [
    "import sys\n",
    "input = lambda: sys.stdin.readline().rstrip()\n",
    "\n",
    "n = int(input())\n",
    "\n",
    "xs = []\n",
    "ys = []\n",
    "for _ in range(n):\n",
    "    x, y = map(int, input().split())\n",
    "    \n",
    "    xs.append(x)\n",
    "    ys.append(y)\n",
    "    \n",
    "xs.sort()\n",
    "ys.sort()\n",
    "\n",
    "mx = xs[(n - 1) // 2]\n",
    "my = ys[(n - 1) // 2]\n",
    "\n",
    "total = 0\n",
    "for i in range(n):\n",
    "    total += abs(xs[i] - mx)\n",
    "    total += abs(ys[i] - my)\n",
    "    \n",
    "print(total)"
   ]
  },
  {
   "cell_type": "markdown",
   "metadata": {},
   "source": [
    "### COW 10751"
   ]
  },
  {
   "cell_type": "code",
   "execution_count": 104,
   "metadata": {},
   "outputs": [
    {
     "name": "stdout",
     "output_type": "stream",
     "text": [
      "4\n",
      "CCOW\n",
      "2\n"
     ]
    }
   ],
   "source": [
    "n = int(input())\n",
    "s = input()\n",
    "\n",
    "scc = [0] * n # sum c count\n",
    "swc = [0] * n # sum w count\n",
    "\n",
    "cumul_c = 0\n",
    "cumul_w = 0\n",
    "for i in range(n):\n",
    "    if s[i] == 'C':\n",
    "        cumul_c += 1\n",
    "    scc[i] = cumul_c\n",
    "    \n",
    "    if s[n - 1 - i] == 'W':\n",
    "        cumul_w += 1\n",
    "    swc[n - 1 - i] = cumul_w\n",
    "    \n",
    "total = 0\n",
    "for i in range(n):\n",
    "    if s[i] == 'O':\n",
    "        total += scc[i] * swc[i]\n",
    "        \n",
    "print(total)"
   ]
  },
  {
   "cell_type": "code",
   "execution_count": 106,
   "metadata": {},
   "outputs": [
    {
     "name": "stdout",
     "output_type": "stream",
     "text": [
      "6\n",
      "COWCOW\n",
      "4\n"
     ]
    }
   ],
   "source": [
    "n = int(input())\n",
    "s = input()\n",
    "\n",
    "c1 = 0\n",
    "c2 = 0\n",
    "c3 = 0\n",
    "for i in range(n):\n",
    "    if s[i] == 'C':\n",
    "        c1 += 1\n",
    "    elif s[i] == 'O':\n",
    "        c2 += c1\n",
    "    else:\n",
    "        c3 += c2\n",
    "        \n",
    "print(c3)"
   ]
  },
  {
   "cell_type": "markdown",
   "metadata": {},
   "source": [
    "### 나무 자르기 14247"
   ]
  },
  {
   "cell_type": "code",
   "execution_count": 107,
   "metadata": {},
   "outputs": [
    {
     "name": "stdout",
     "output_type": "stream",
     "text": [
      "5\n",
      "1 3 2 4 6\n",
      "2 7 3 4 1\n",
      "64\n"
     ]
    }
   ],
   "source": [
    "n = int(input())\n",
    "total = sum(map(int, input().split()))\n",
    "a = sorted(map(int, input().split()))\n",
    "\n",
    "for i in range(n):\n",
    "    total += a[i] * i\n",
    "    \n",
    "print(total)"
   ]
  },
  {
   "cell_type": "markdown",
   "metadata": {},
   "source": [
    "### 케이크(?) 자르기 14445"
   ]
  },
  {
   "cell_type": "code",
   "execution_count": 129,
   "metadata": {},
   "outputs": [
    {
     "name": "stdout",
     "output_type": "stream",
     "text": [
      "9\n",
      "8\n"
     ]
    }
   ],
   "source": [
    "# 틀렸음\n",
    "n = int(input())\n",
    "\n",
    "if n == 1:\n",
    "    print(0)\n",
    "else:\n",
    "    cur = 0\n",
    "    while True:\n",
    "        if n <= 2 ** cur:\n",
    "            print(2 ** (cur - 1))\n",
    "            break\n",
    "        cur += 1"
   ]
  },
  {
   "cell_type": "markdown",
   "metadata": {},
   "source": [
    "### 가주아 16464"
   ]
  },
  {
   "cell_type": "code",
   "execution_count": null,
   "metadata": {
    "scrolled": true
   },
   "outputs": [],
   "source": [
    "# 방향이 잘못된 것으로 보임\n",
    "import sys\n",
    "# input = lambda: sys.stdin.readline().rstrip()\n",
    "\n",
    "def get_sum(num):\n",
    "    return num * (num + 1) // 2\n",
    "\n",
    "def check(k):\n",
    "    start = 0\n",
    "    end = 1\n",
    "    while start < end <= k - 1:\n",
    "        diff = li[end] - li[start]\n",
    "\n",
    "        if diff == k:\n",
    "            return True\n",
    "        if diff < k:\n",
    "            end += 1\n",
    "        else:\n",
    "            start += 1\n",
    "            \n",
    "    return False\n",
    "\n",
    "li = [0]\n",
    "cur = 1\n",
    "while True:\n",
    "    value = get_sum(cur)\n",
    "    if value > 1e10:\n",
    "        break\n",
    "    li.append(value)  \n",
    "    cur += 1\n",
    "\n",
    "for _ in range(int(input())):\n",
    "    k = int(input())\n",
    "\n",
    "    if check(k):\n",
    "        print('Gazua')\n",
    "    else:\n",
    "        print('GoHanGang')"
   ]
  },
  {
   "cell_type": "code",
   "execution_count": 158,
   "metadata": {},
   "outputs": [
    {
     "name": "stdout",
     "output_type": "stream",
     "text": [
      "2\n",
      "1000000000\n",
      "Gazua\n",
      "2000003\n",
      "Gazua\n"
     ]
    }
   ],
   "source": [
    "# 맞았음\n",
    "import sys\n",
    "# input = lambda: sys.stdin.readline().rstrip()\n",
    "\n",
    "def get_sum(num):\n",
    "    return num * (num + 1) // 2\n",
    "\n",
    "def check(k):\n",
    "    cur = 2\n",
    "    while True:\n",
    "        temp = get_sum(cur - 1)\n",
    "        if temp >= k:\n",
    "            break\n",
    "            \n",
    "        if (k - temp) % cur == 0:\n",
    "            return True\n",
    "        cur += 1\n",
    "    return False\n",
    "\n",
    "for _ in range(int(input())):\n",
    "    k = int(input())\n",
    "\n",
    "    if check(k):\n",
    "        print('Gazua')\n",
    "    else:\n",
    "        print('GoHanGang')"
   ]
  },
  {
   "cell_type": "markdown",
   "metadata": {},
   "source": [
    "### 라스칼 삼각형 2676"
   ]
  },
  {
   "cell_type": "code",
   "execution_count": null,
   "metadata": {},
   "outputs": [
    {
     "name": "stdout",
     "output_type": "stream",
     "text": [
      "5\n",
      "45678 12345\n"
     ]
    }
   ],
   "source": [
    "# dp로 불가능함\n",
    "import sys\n",
    "input = lambda: sys.stdin.readline().rstrip()\n",
    "sys.setrecursionlimit(100000)\n",
    "\n",
    "dp = dict()\n",
    "dp[(0, 0)] = 1\n",
    "\n",
    "def recur(nn, mm):\n",
    "    if nn < 2 or mm == 0 or mm == nn:\n",
    "        return 1\n",
    "    if (nn, mm) in dp:\n",
    "        return dp[(nn, mm)]\n",
    "    \n",
    "    dp[(nn, mm)] = (recur(nn - 1, mm - 1) * recur(nn - 1, mm) + 1) // recur(nn - 2, mm - 1)\n",
    "    return dp[(nn, mm)]\n",
    "\n",
    "for _ in range(int(input())):\n",
    "    n, m = map(int, input().split())\n",
    "\n",
    "    if n < 2:\n",
    "        print(1)\n",
    "    else:\n",
    "        print(recur(n, m))"
   ]
  },
  {
   "cell_type": "code",
   "execution_count": 5,
   "metadata": {},
   "outputs": [
    {
     "name": "stdout",
     "output_type": "stream",
     "text": [
      "34567 11398\n",
      "264080263\n"
     ]
    }
   ],
   "source": [
    "import sys\n",
    "input = lambda: sys.stdin.readline().rstrip()\n",
    "\n",
    "for _ in range(int(input())):\n",
    "    n, m = map(int, input().split())\n",
    "\n",
    "    if n - m < m:\n",
    "        m = n - m\n",
    "\n",
    "    cur = 1\n",
    "    diff = n - 1\n",
    "    for i in range(m):\n",
    "        cur += diff\n",
    "        diff -= 2\n",
    "\n",
    "    print(cur)"
   ]
  },
  {
   "cell_type": "markdown",
   "metadata": {},
   "source": [
    "### 수열과 시프트 쿼리 17499"
   ]
  },
  {
   "cell_type": "code",
   "execution_count": null,
   "metadata": {},
   "outputs": [],
   "source": [
    "오른쪽으로 가면 왼쪽에 있는 것에 추가됨"
   ]
  },
  {
   "cell_type": "code",
   "execution_count": 6,
   "metadata": {},
   "outputs": [
    {
     "name": "stdout",
     "output_type": "stream",
     "text": [
      "5 4\n",
      "1 2 3 4 5\n",
      "1 1 4\n",
      "2 3\n",
      "1 2 2\n",
      "3 1\n",
      "6 5 5 2 3\n"
     ]
    }
   ],
   "source": [
    "from collections import deque\n",
    "import sys\n",
    "input = lambda: sys.stdin.readline().rstrip()\n",
    "\n",
    "n, q = map(int, input().split())\n",
    "deq = deque(map(int, input().split()))\n",
    "\n",
    "cur_change = 0\n",
    "for _ in range(q):\n",
    "    query = list(map(int, input().split()))\n",
    "    \n",
    "    if query[0] == 1:\n",
    "        i, x = query[1], query[2]\n",
    "        i -= 1\n",
    "        i -= cur_change\n",
    "        i %= n;\n",
    "        deq[i] += x\n",
    "    elif query[0] == 2:\n",
    "        cur_change += query[1]\n",
    "    else:\n",
    "        cur_change -= query[1]\n",
    "        \n",
    "deq.rotate(cur_change)\n",
    "\n",
    "print(*deq)"
   ]
  },
  {
   "cell_type": "markdown",
   "metadata": {},
   "source": [
    "### 삼삼한 수 17252, 삼삼한 수 2 17253"
   ]
  },
  {
   "cell_type": "code",
   "execution_count": null,
   "metadata": {},
   "outputs": [],
   "source": [
    "n = int(input())\n",
    "\n",
    "if n == 0:\n",
    "    print('NO')\n",
    "else:   \n",
    "    while n != 0:\n",
    "        if n % 3 == 1:\n",
    "            n -= 1\n",
    "        elif n % 3 == 0:\n",
    "            n //= 3\n",
    "        else:\n",
    "            break\n",
    "\n",
    "    if n == 0:\n",
    "        print('YES')\n",
    "    else:\n",
    "        print('NO')"
   ]
  },
  {
   "cell_type": "markdown",
   "metadata": {},
   "source": [
    "### K번째 소수 15965"
   ]
  },
  {
   "cell_type": "code",
   "execution_count": 27,
   "metadata": {},
   "outputs": [
    {
     "name": "stdout",
     "output_type": "stream",
     "text": [
      "3\n",
      "5\n"
     ]
    }
   ],
   "source": [
    "k = int(input())\n",
    "k -= 1\n",
    "\n",
    "max_num = 7380000\n",
    "ip = [True] * (max_num + 1)\n",
    "ip[0] = ip[1] = False\n",
    "for mod in range(2, int(max_num ** 0.5) + 1):\n",
    "    if ip[mod]:\n",
    "        for v in range(mod * mod, max_num + 1, mod):\n",
    "            ip[v] = False\n",
    "            \n",
    "primes = [i for i,v in enumerate(ip) if v]\n",
    "\n",
    "print(primes[k])"
   ]
  },
  {
   "cell_type": "markdown",
   "metadata": {},
   "source": [
    "### 행복한 소수 10434"
   ]
  },
  {
   "cell_type": "code",
   "execution_count": 44,
   "metadata": {},
   "outputs": [
    {
     "name": "stdout",
     "output_type": "stream",
     "text": [
      "2\n",
      "1 1\n",
      "1 1 NO\n",
      "2 7\n",
      "2 7 YES\n"
     ]
    }
   ],
   "source": [
    "import sys\n",
    "input = lambda: sys.stdin.readline().rstrip()\n",
    "\n",
    "max_num = 10000\n",
    "ip = [True] * (max_num + 1)\n",
    "ip[0] = ip[1] = False\n",
    "for mod in range(2, int(max_num ** 0.5) + 1):\n",
    "    if ip[mod]:\n",
    "        for v in range(mod * mod, max_num + 1, mod):\n",
    "            ip[v] = False\n",
    "\n",
    "for _ in range(int(input())):\n",
    "    t, om = map(int, input().split())\n",
    "\n",
    "    if not ip[om]:\n",
    "        print(t, om, 'NO')\n",
    "    else:\n",
    "        st = set()\n",
    "        st.add(om)\n",
    "\n",
    "        m = om\n",
    "        while m != 1:\n",
    "            new_m = 0\n",
    "            while m != 0:\n",
    "                new_m += (m % 10) ** 2\n",
    "                m //= 10\n",
    "            m = new_m\n",
    "\n",
    "            if m in st:\n",
    "                print(t, om, 'NO')\n",
    "                break\n",
    "            st.add(m)\n",
    "        else:\n",
    "            print(t, om, 'YES')"
   ]
  },
  {
   "cell_type": "markdown",
   "metadata": {},
   "source": [
    "### 소수 최소 공배수 21919"
   ]
  },
  {
   "cell_type": "code",
   "execution_count": 52,
   "metadata": {},
   "outputs": [
    {
     "name": "stdout",
     "output_type": "stream",
     "text": [
      "4\n",
      "4 16 64 256\n",
      "-1\n"
     ]
    }
   ],
   "source": [
    "max_num = 1000000\n",
    "ip = [True] * (max_num + 1)\n",
    "ip[0] = ip[1] = False\n",
    "for mod in range(2, int((max_num + 1) ** 0.5) + 1):\n",
    "    if ip[mod]:\n",
    "        for v in range(mod * mod, max_num + 1, mod):\n",
    "            ip[v] = False\n",
    "\n",
    "n = int(input())\n",
    "li = list(map(int, input().split()))\n",
    "\n",
    "cur = 1\n",
    "count = 0\n",
    "for v in li:\n",
    "    if ip[v]:\n",
    "        count += 1\n",
    "        cur = lcm(cur, v)\n",
    "\n",
    "if count == 0:\n",
    "    print(-1)\n",
    "else:\n",
    "    print(cur)"
   ]
  },
  {
   "cell_type": "markdown",
   "metadata": {},
   "source": [
    "### 폰 호석만 21275"
   ]
  },
  {
   "cell_type": "code",
   "execution_count": 30,
   "metadata": {},
   "outputs": [
    {
     "name": "stdout",
     "output_type": "stream",
     "text": [
      "2222222222222222222222222222222222222222222222222222222222222222222222 8888888888888888888888888888888\n",
      "Impossible\n"
     ]
    }
   ],
   "source": [
    "from collections import defaultdict as dd\n",
    "\n",
    "def change(li):\n",
    "    for i in range(len(li)):\n",
    "        if li[i].isdigit():\n",
    "            li[i] = int(li[i])\n",
    "        else:\n",
    "            li[i] = ord(li[i]) - 87\n",
    "        \n",
    "    return li\n",
    "\n",
    "a, b = input().split()\n",
    "\n",
    "a = list(a)\n",
    "b = list(b)\n",
    "\n",
    "a = change(a)\n",
    "b = change(b)\n",
    "\n",
    "ad = dd(list)\n",
    "bd = dd(list)\n",
    "\n",
    "for A in range(max(2, max(a) + 1), 37):\n",
    "    X = 0\n",
    "    for i in range(len(a)):\n",
    "        X += a[len(a) - 1 - i] * (A ** i)\n",
    "        \n",
    "    if X >= 2 ** 63:\n",
    "        continue\n",
    "        \n",
    "    ad[X].append(A)\n",
    "    \n",
    "X_to_check = set()\n",
    "for B in range(max(2, max(b) + 1), 37):\n",
    "    X = 0\n",
    "    for i in range(len(b)):\n",
    "        X += b[len(b) - 1 - i] * (B ** i)\n",
    "        \n",
    "    if X >= 2 ** 63:\n",
    "        continue\n",
    "        \n",
    "    if X in ad:\n",
    "        if ad[X][0] != B:\n",
    "            X_to_check.add(X)\n",
    "    bd[X].append(B)\n",
    "    \n",
    "if not X_to_check:\n",
    "    print('Impossible')\n",
    "else:\n",
    "    count = 0\n",
    "    target_X = 0\n",
    "    \n",
    "    if len(X_to_check) >= 2:\n",
    "        print('Multiple')\n",
    "    else:\n",
    "        X = X_to_check.pop()\n",
    "        count += len(ad[X]) * len(bd[X])\n",
    "\n",
    "        if count == 1:\n",
    "            print(X, ad[X][0], bd[X][0])\n",
    "        else:\n",
    "            print('Multiple')"
   ]
  },
  {
   "cell_type": "markdown",
   "metadata": {},
   "source": [
    "### 레벨 햄버거 16974"
   ]
  },
  {
   "cell_type": "code",
   "execution_count": 79,
   "metadata": {},
   "outputs": [],
   "source": [
    "length = [1, 5]\n",
    "pc = [1, 3]\n",
    "\n",
    "for i in range(49):\n",
    "    nlen = length[-1] * 2 + 3\n",
    "    np = length[-1] * 2 + 1\n",
    "    \n",
    "    length.append(nlen)\n",
    "    pc.append(np)"
   ]
  },
  {
   "cell_type": "code",
   "execution_count": 80,
   "metadata": {},
   "outputs": [
    {
     "name": "stdout",
     "output_type": "stream",
     "text": [
      "2 7\n"
     ]
    }
   ],
   "source": [
    "n, x = map(int, input().split())"
   ]
  },
  {
   "cell_type": "code",
   "execution_count": 103,
   "metadata": {},
   "outputs": [
    {
     "name": "stdout",
     "output_type": "stream",
     "text": [
      "50 4321098765432109\n",
      "2160549382716056\n"
     ]
    }
   ],
   "source": [
    "length = [1, 5]\n",
    "pc = [1, 3]\n",
    "\n",
    "for i in range(49):\n",
    "    nlen = length[-1] * 2 + 3\n",
    "    np = pc[-1] * 2 + 1\n",
    "    \n",
    "    length.append(nlen)\n",
    "    pc.append(np)\n",
    "\n",
    "def solve(n, x):\n",
    "    cumul = 0\n",
    "    result = 0\n",
    "    cur_level = n - 1\n",
    "    while True:\n",
    "        li_len = [1] + [length[cur_level]] + [1] + [length[cur_level]] + [1]\n",
    "        li_pc = [0] + [pc[cur_level]] + [1] + [pc[cur_level]] + [0]\n",
    "\n",
    "        for i in range(4, -1, -1):\n",
    "            cumul += li_len[i]\n",
    "            if cumul == x:\n",
    "                result += li_pc[i]\n",
    "                return result\n",
    "            elif cumul < x:\n",
    "                result += li_pc[i]\n",
    "            else:\n",
    "                cumul -= li_len[i]\n",
    "                break\n",
    "                \n",
    "        cur_level -= 1\n",
    "        \n",
    "n, x = map(int, input().split())\n",
    "        \n",
    "print(solve(n, x))"
   ]
  },
  {
   "cell_type": "code",
   "execution_count": 100,
   "metadata": {},
   "outputs": [
    {
     "name": "stdout",
     "output_type": "stream",
     "text": [
      "2 1 0\n",
      "2 2 0\n",
      "2 3 1\n",
      "2 4 2\n",
      "2 5 3\n",
      "2 6 3\n",
      "2 7 4\n",
      "2 8 4\n",
      "2 9 5\n",
      "2 10 6\n",
      "2 11 7\n",
      "2 12 7\n",
      "2 13 7\n",
      "2 14 7\n"
     ]
    }
   ],
   "source": [
    "n = 2\n",
    "for x in range(1, 15):\n",
    "    print(n, x, solve(n, x))"
   ]
  }
 ],
 "metadata": {
  "kernelspec": {
   "display_name": "Python 3",
   "language": "python",
   "name": "python3"
  },
  "language_info": {
   "codemirror_mode": {
    "name": "ipython",
    "version": 3
   },
   "file_extension": ".py",
   "mimetype": "text/x-python",
   "name": "python",
   "nbconvert_exporter": "python",
   "pygments_lexer": "ipython3",
   "version": "3.7.4"
  }
 },
 "nbformat": 4,
 "nbformat_minor": 4
}
