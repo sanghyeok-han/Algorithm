{
 "cells": [
  {
   "cell_type": "markdown",
   "metadata": {},
   "source": [
    "https://arena.topcoder.com/#/u/practiceCode/17244/67923/15005/2/331608 A0Paper"
   ]
  },
  {
   "cell_type": "code",
   "execution_count": null,
   "metadata": {},
   "outputs": [],
   "source": [
    "class A0Paper():\n",
    "    def canBuild(self, A):\n",
    "        n = len(A)\n",
    "        li = list(A)\n",
    "        \n",
    "        for i in range(n - 1, 0, -1):\n",
    "            can_make = li[i] // 2            \n",
    "            li[i - 1] += can_make\n",
    "        \n",
    "        if li[0] >= 1:\n",
    "            return \"Possible\"\n",
    "        else:\n",
    "            return \"Impossible\""
   ]
  }
 ],
 "metadata": {
  "kernelspec": {
   "display_name": "Python 3",
   "language": "python",
   "name": "python3"
  },
  "language_info": {
   "codemirror_mode": {
    "name": "ipython",
    "version": 3
   },
   "file_extension": ".py",
   "mimetype": "text/x-python",
   "name": "python",
   "nbconvert_exporter": "python",
   "pygments_lexer": "ipython3",
   "version": "3.7.4"
  }
 },
 "nbformat": 4,
 "nbformat_minor": 2
}
