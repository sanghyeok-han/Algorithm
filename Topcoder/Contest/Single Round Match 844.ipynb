{
 "cells": [
  {
   "cell_type": "markdown",
   "metadata": {},
   "source": [
    "250"
   ]
  },
  {
   "cell_type": "code",
   "execution_count": 3,
   "metadata": {},
   "outputs": [
    {
     "name": "stdout",
     "output_type": "stream",
     "text": [
      "12096\n"
     ]
    }
   ],
   "source": [
    "N = 3\n",
    "X = [19]\n",
    "Y = [20, 10, 10]\n",
    "Z = [30, 30, 20]\n",
    "P = 1\n",
    "\n",
    "total = 0\n",
    "for i in range(N):\n",
    "    total += (X[i] - P * 2) * (Y[i] - P * 2) * (Z[i] - P * 2)\n",
    "\n",
    "print(total)"
   ]
  },
  {
   "cell_type": "code",
   "execution_count": null,
   "metadata": {},
   "outputs": [],
   "source": [
    "class Padding:\n",
    "    def volume(self, N, X, Y, Z, P):\n",
    "        \n",
    "        total = 0\n",
    "        for i in range(N):\n",
    "            if X[i] >= P * 2 and Y[i] >= P * 2 and Z[i] >= P * 2:\n",
    "                total += (X[i] - P * 2) * (Y[i] - P * 2) * (Z[i] - P * 2)\n",
    "        \n",
    "        return total"
   ]
  },
  {
   "cell_type": "code",
   "execution_count": 1,
   "metadata": {},
   "outputs": [
    {
     "data": {
      "text/plain": [
       "4032"
      ]
     },
     "execution_count": 1,
     "metadata": {},
     "output_type": "execute_result"
    }
   ],
   "source": [
    "(10 - 2) * (20 - 2) * (30 - 2)"
   ]
  },
  {
   "cell_type": "markdown",
   "metadata": {},
   "source": [
    "600"
   ]
  },
  {
   "cell_type": "code",
   "execution_count": null,
   "metadata": {},
   "outputs": [],
   "source": [
    "class MemoryGameDemo():\n",
    "    def demo(self, N, card, remove):\n",
    "        remove_len = len(remove)\n",
    "        \n",
    "        result = []\n",
    "        \n",
    "        d = dict()\n",
    "        for i in range(N * 3):\n",
    "            tp = card[i]\n",
    "            \n",
    "            if tp in d:\n",
    "                d[tp].append(i)\n",
    "            else:\n",
    "                d[tp] = [i]\n",
    "                \n",
    "        to_uses = list(d.values())\n",
    "        \n",
    "        cur_to_use = 0\n",
    "        for v in remove:\n",
    "            if v == 'N':\n",
    "                result.extend([to_uses[0][0], to_uses[0][1], to_uses[1][cur_to_use]])\n",
    "                cur_to_use ^= 1\n",
    "            else:\n",
    "                result.extend(to_uses.pop())\n",
    "                \n",
    "        return result"
   ]
  },
  {
   "cell_type": "markdown",
   "metadata": {},
   "source": [
    "1000"
   ]
  },
  {
   "cell_type": "code",
   "execution_count": null,
   "metadata": {},
   "outputs": [],
   "source": [
    "역추적 가능한 냅색"
   ]
  },
  {
   "cell_type": "code",
   "execution_count": 10,
   "metadata": {},
   "outputs": [],
   "source": [
    "class FeedADrake():\n",
    "    def feed(self, stomach, cakes, excess):\n",
    "        from_ = [-1] * stomach\n",
    "        from_[0] = 0\n",
    "\n",
    "        for cake in cakes:\n",
    "            for j in range(stomach - 1, cake - 1, -1):\n",
    "                if from_[j] == -1 and from_[j - cake] != -1:\n",
    "                    from_[j] = cake\n",
    "\n",
    "        start = -1\n",
    "        for i in range(stomach - 1, -1, -1):\n",
    "            if from_[i] != -1:\n",
    "                start = i\n",
    "                break\n",
    "\n",
    "        excess += 1\n",
    "        ct = dict()\n",
    "        for v in cakes:\n",
    "            sv = str(v)\n",
    "\n",
    "            if sv in ct:\n",
    "                ct[sv] += 1\n",
    "            else:\n",
    "                ct[sv] = 1\n",
    "\n",
    "        total = 0\n",
    "        while start != 0:\n",
    "            to_use = from_[start]\n",
    "            to_use_s = str(to_use)\n",
    "\n",
    "            total += to_use\n",
    "            ct[to_use_s] -= 1\n",
    "            if ct[to_use_s] == 0:\n",
    "                del ct[to_use_s]\n",
    "\n",
    "            start -= to_use\n",
    "\n",
    "        lefts = []\n",
    "        for key in ct:\n",
    "            lefts.extend([int(key)] * ct[key])\n",
    "\n",
    "        lefts.sort()\n",
    "\n",
    "        while excess and lefts:\n",
    "            total += lefts.pop()\n",
    "            excess -= 1\n",
    "            \n",
    "        return total"
   ]
  },
  {
   "cell_type": "code",
   "execution_count": null,
   "metadata": {},
   "outputs": [],
   "source": [
    "class FeedADrake():\n",
    "    def feed(self, stomach, cakes, excess):\n",
    "        cakes = list(cakes)\n",
    "        \n",
    "        cakes.sort()\n",
    "        excess += 1\n",
    "\n",
    "        total = 0\n",
    "        while excess and cakes:\n",
    "            total += cakes.pop()\n",
    "            excess -= 1\n",
    "\n",
    "        from_ = [-1] * stomach\n",
    "        from_[0] = 0\n",
    "\n",
    "        for cake in cakes:\n",
    "            for j in range(stomach - 1, cake - 1, -1):\n",
    "                if from_[j] == -1 and from_[j - cake] != -1:\n",
    "                    from_[j] = cake\n",
    "\n",
    "        start = -1\n",
    "        for i in range(stomach - 1, -1, -1):\n",
    "            if from_[i] != -1:\n",
    "                start = i\n",
    "                break\n",
    "\n",
    "        while start != 0:\n",
    "            to_use = from_[start]\n",
    "\n",
    "            total += to_use\n",
    "            start -= to_use\n",
    "\n",
    "        return total"
   ]
  },
  {
   "cell_type": "code",
   "execution_count": 20,
   "metadata": {},
   "outputs": [
    {
     "name": "stdout",
     "output_type": "stream",
     "text": [
      "6\n"
     ]
    }
   ],
   "source": [
    "stomach = 5\n",
    "cakes = [2, 2, 2, 2, 2]\n",
    "excess = 0\n",
    "\n",
    "from_ = [-1] * stomach\n",
    "from_[0] = 0\n",
    "\n",
    "for cake in cakes:\n",
    "    for j in range(stomach - 1, cake - 1, -1):\n",
    "        if from_[j] == -1 and from_[j - cake] != -1:\n",
    "            from_[j] = cake\n",
    "            \n",
    "start = -1\n",
    "for i in range(stomach - 1, -1, -1):\n",
    "    if from_[i] != -1:\n",
    "        start = i\n",
    "        break\n",
    "        \n",
    "excess += 1\n",
    "ct = dict()\n",
    "for v in cakes:\n",
    "    sv = str(v)\n",
    "    \n",
    "    if sv in ct:\n",
    "        ct[sv] += 1\n",
    "    else:\n",
    "        ct[sv] = 1\n",
    "\n",
    "total = 0\n",
    "while start != 0:\n",
    "    to_use = from_[start]\n",
    "    to_use_s = str(to_use)\n",
    "\n",
    "    total += to_use\n",
    "    ct[to_use_s] -= 1\n",
    "    if ct[to_use_s] == 0:\n",
    "        del ct[to_use_s]\n",
    "            \n",
    "    start -= to_use\n",
    "    \n",
    "lefts = []\n",
    "for key in ct:\n",
    "    lefts.extend([int(key)] * ct[key])\n",
    "    \n",
    "lefts.sort()\n",
    "\n",
    "while excess and lefts:\n",
    "    total += lefts.pop()\n",
    "    excess -= 1\n",
    "    \n",
    "print(total)"
   ]
  },
  {
   "cell_type": "code",
   "execution_count": 24,
   "metadata": {},
   "outputs": [
    {
     "name": "stdout",
     "output_type": "stream",
     "text": [
      "6\n"
     ]
    }
   ],
   "source": [
    "stomach = 5\n",
    "cakes = [2, 2, 2, 2, 2]\n",
    "excess = 0\n",
    "\n",
    "cakes.sort()\n",
    "excess += 1\n",
    "\n",
    "total = 0\n",
    "while excess and cakes:\n",
    "    total += cakes.pop()\n",
    "    excess -= 1\n",
    "    \n",
    "from_ = [-1] * stomach\n",
    "from_[0] = 0\n",
    "\n",
    "for cake in cakes:\n",
    "    for j in range(stomach - 1, cake - 1, -1):\n",
    "        if from_[j] == -1 and from_[j - cake] != -1:\n",
    "            from_[j] = cake\n",
    "            \n",
    "start = -1\n",
    "for i in range(stomach - 1, -1, -1):\n",
    "    if from_[i] != -1:\n",
    "        start = i\n",
    "        break\n",
    "\n",
    "while start != 0:\n",
    "    to_use = from_[start]\n",
    "\n",
    "    total += to_use\n",
    "    start -= to_use\n",
    "\n",
    "    \n",
    "print(total)"
   ]
  }
 ],
 "metadata": {
  "kernelspec": {
   "display_name": "Python 3",
   "language": "python",
   "name": "python3"
  },
  "language_info": {
   "codemirror_mode": {
    "name": "ipython",
    "version": 3
   },
   "file_extension": ".py",
   "mimetype": "text/x-python",
   "name": "python",
   "nbconvert_exporter": "python",
   "pygments_lexer": "ipython3",
   "version": "3.7.4"
  }
 },
 "nbformat": 4,
 "nbformat_minor": 2
}
