{
 "cells": [
  {
   "cell_type": "markdown",
   "metadata": {},
   "source": [
    "A"
   ]
  },
  {
   "cell_type": "code",
   "execution_count": 2,
   "metadata": {},
   "outputs": [
    {
     "name": "stdout",
     "output_type": "stream",
     "text": [
      "bnanasa\n"
     ]
    }
   ],
   "source": [
    "S = 'bananas'\n",
    "K = 1\n",
    "\n",
    "li = list(S)\n",
    "\n",
    "for i in range(len(S) - 1, -1, -1):\n",
    "    if li[i] == 'a':\n",
    "        for d in range(K):\n",
    "            li[i + d], li[i + d + 1] = li[i + d + 1], li[i + d]\n",
    "            \n",
    "r = ''.join(li)\n",
    "\n",
    "print(r)"
   ]
  },
  {
   "cell_type": "code",
   "execution_count": null,
   "metadata": {},
   "outputs": [],
   "source": [
    "class ARight():\n",
    "    def modify(self, S, K):\n",
    "        li = list(S)\n",
    "\n",
    "        for i in range(len(S) - 1, -1, -1):\n",
    "            if li[i] == 'a':\n",
    "                for d in range(K):\n",
    "                    li[i + d], li[i + d + 1] = li[i + d + 1], li[i + d]\n",
    "\n",
    "        r = ''.join(li)\n",
    "\n",
    "        return r"
   ]
  },
  {
   "cell_type": "markdown",
   "metadata": {},
   "source": [
    "B"
   ]
  },
  {
   "cell_type": "code",
   "execution_count": 9,
   "metadata": {},
   "outputs": [
    {
     "name": "stdout",
     "output_type": "stream",
     "text": [
      "-1\n"
     ]
    }
   ],
   "source": [
    "N = 2\n",
    "W = [4, 7]\n",
    "K = 5\n",
    "\n",
    "K -= 1\n",
    "\n",
    "bk = bin(K)[2:]\n",
    "\n",
    "if len(bk) > N:\n",
    "    print(-1)\n",
    "else:\n",
    "    w_i = 0\n",
    "    result = 0\n",
    "    for bk_i in range(len(bk) - 1, -1, -1):\n",
    "        if bk[bk_i] == '1':\n",
    "            result += W[w_i]\n",
    "        \n",
    "        w_i += 1\n",
    "        \n",
    "    print(result)"
   ]
  },
  {
   "cell_type": "code",
   "execution_count": null,
   "metadata": {},
   "outputs": [],
   "source": [
    "class SpecialWeights():\n",
    "    def solve(self, N, W, K):\n",
    "        K -= 1\n",
    "\n",
    "        bk = bin(K)[2:]\n",
    "\n",
    "        if len(bk) > N:\n",
    "            return -1\n",
    "        else:\n",
    "            w_i = 0\n",
    "            result = 0\n",
    "            for bk_i in range(len(bk) - 1, -1, -1):\n",
    "                if bk[bk_i] == '1':\n",
    "                    result += W[w_i]\n",
    "\n",
    "                w_i += 1\n",
    "\n",
    "            return result      "
   ]
  },
  {
   "cell_type": "markdown",
   "metadata": {},
   "source": [
    "C"
   ]
  },
  {
   "cell_type": "code",
   "execution_count": 12,
   "metadata": {},
   "outputs": [
    {
     "name": "stdout",
     "output_type": "stream",
     "text": [
      "2\n"
     ]
    }
   ],
   "source": [
    "mod = int(1e9) + 7\n",
    "max_num = 11000\n",
    "\n",
    "factos = [0] * (max_num + 1)\n",
    "factos[0] = 1\n",
    "invs = [0] * (max_num + 1)\n",
    "cur = 1\n",
    "for i in range(1, max_num + 1):\n",
    "    cur *= i\n",
    "    cur %= mod\n",
    "    factos[i] = cur\n",
    "    \n",
    "invs[max_num] = pow(factos[max_num], mod - 2, mod)\n",
    "for i in range(max_num - 1, -1, -1):\n",
    "    invs[i] = (i + 1) * invs[i + 1] % mod\n",
    "\n",
    "def nCk(n, k):\n",
    "    if n < k:\n",
    "        return 0\n",
    "    if k < 0:\n",
    "        return 0\n",
    "    return factos[n] * invs[k] * invs[n - k] % mod\n",
    "\n",
    "\n",
    "R = 1\n",
    "C = 1\n",
    "D = 0\n",
    "\n",
    "in_c = R * C - 1\n",
    "\n",
    "max_can_dist = (in_c + 1) // 2\n",
    "\n",
    "if max_can_dist < D:\n",
    "    result = 0\n",
    "elif in_c % 2 == 1 and D == max_can_dist:\n",
    "    result = nCk(R * C, D)\n",
    "else:\n",
    "    result = nCk(R * C, D) * 2\n",
    "\n",
    "result %= mod\n",
    "\n",
    "print(result)"
   ]
  },
  {
   "cell_type": "code",
   "execution_count": null,
   "metadata": {},
   "outputs": [],
   "source": [
    "mod = int(1e9) + 7\n",
    "max_num = 11000\n",
    "\n",
    "factos = [0] * (max_num + 1)\n",
    "factos[0] = 1\n",
    "invs = [0] * (max_num + 1)\n",
    "cur = 1\n",
    "for i in range(1, max_num + 1):\n",
    "    cur *= i\n",
    "    cur %= mod\n",
    "    factos[i] = cur\n",
    "    \n",
    "invs[max_num] = pow(factos[max_num], mod - 2, mod)\n",
    "for i in range(max_num - 1, -1, -1):\n",
    "    invs[i] = (i + 1) * invs[i + 1] % mod\n",
    "\n",
    "def nCk(n, k):\n",
    "    if n < k:\n",
    "        return 0\n",
    "    if k < 0:\n",
    "        return 0\n",
    "    return factos[n] * invs[k] * invs[n - k] % mod\n",
    "\n",
    "class AlmostCheckerboards():\n",
    "    def count(self, R, C, D):\n",
    "        in_c = R * C - 1\n",
    "\n",
    "        max_can_dist = (in_c + 1) // 2\n",
    "\n",
    "        if max_can_dist < D:\n",
    "            result = 0\n",
    "        elif in_c % 2 == 1 and D == max_can_dist:\n",
    "            result = nCk(R * C, D)\n",
    "        else:\n",
    "            result = nCk(R * C, D) * 2\n",
    "\n",
    "        result %= mod\n",
    "\n",
    "        return result\n"
   ]
  }
 ],
 "metadata": {
  "kernelspec": {
   "display_name": "Python 3",
   "language": "python",
   "name": "python3"
  },
  "language_info": {
   "codemirror_mode": {
    "name": "ipython",
    "version": 3
   },
   "file_extension": ".py",
   "mimetype": "text/x-python",
   "name": "python",
   "nbconvert_exporter": "python",
   "pygments_lexer": "ipython3",
   "version": "3.8.3"
  }
 },
 "nbformat": 4,
 "nbformat_minor": 4
}
