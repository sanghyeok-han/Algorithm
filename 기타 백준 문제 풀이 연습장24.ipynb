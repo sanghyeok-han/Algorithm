{
 "cells": [
  {
   "cell_type": "markdown",
   "metadata": {},
   "source": [
    "https://www.acmicpc.net/problem/1298 노트북의 주인을 찾아서"
   ]
  },
  {
   "cell_type": "code",
   "execution_count": 2,
   "metadata": {},
   "outputs": [
    {
     "name": "stdout",
     "output_type": "stream",
     "text": [
      "5 13\n",
      "1 2\n",
      "1 3\n",
      "2 2\n",
      "2 3\n",
      "3 1\n",
      "3 2\n",
      "4 1\n",
      "4 2\n",
      "5 1\n",
      "5 2\n",
      "5 3\n",
      "5 4\n",
      "5 5\n",
      "4\n"
     ]
    }
   ],
   "source": [
    "# 시간 초과\n",
    "from collections import deque\n",
    "import io, os, sys\n",
    "# input = io.BytesIO(os.read(0, os.fstat(0).st_size)).readline\n",
    "\n",
    "inf = float('inf')\n",
    "\n",
    "def bfs():\n",
    "    queue = deque()\n",
    "    dists[0] = inf\n",
    "    \n",
    "    for x in range(1, n + 1):\n",
    "        if xs[x] == 0:\n",
    "            dists[x] = 0\n",
    "            queue.append(x)\n",
    "        else:\n",
    "            dists[x] = inf\n",
    "            \n",
    "    while queue:\n",
    "        x = queue.popleft()\n",
    "        \n",
    "        for y in wants[x]:\n",
    "            nx = ys[y]\n",
    "            \n",
    "            if dists[nx] == inf:\n",
    "                dists[nx] = dists[x] + 1\n",
    "                queue.append(nx)\n",
    "                \n",
    "    return dists[0] != inf\n",
    "            \n",
    "def dfs(x):\n",
    "    for y in wants[x]:\n",
    "        nx = ys[y]\n",
    "        \n",
    "        if dists[nx] == dists[x] + 1 and (ys[y] == 0 or dfs(nx)):\n",
    "            xs[x] = y\n",
    "            ys[y] = x\n",
    "            \n",
    "            return True\n",
    "    \n",
    "    dists[x] = inf\n",
    "    \n",
    "    return False\n",
    "\n",
    "n, m = map(int, input().split())\n",
    "\n",
    "wants = [[] for _ in range(n + 1)]\n",
    "for _ in range(m):\n",
    "    a, b = map(int, input().split())\n",
    "    wants[a].append(b)\n",
    "    \n",
    "xs = [0] * (n + 1)\n",
    "ys = [0] * (n + 1)\n",
    "dists = [inf] * (n + 1)\n",
    "\n",
    "total = 0\n",
    "while True:\n",
    "    if not bfs():\n",
    "        break\n",
    "        \n",
    "    for x in range(1, n + 1):\n",
    "        if xs[x] == 0:\n",
    "            if dfs(x):\n",
    "                total += 1\n",
    "                \n",
    "print(total)"
   ]
  },
  {
   "cell_type": "markdown",
   "metadata": {},
   "source": [
    "https://www.acmicpc.net/problem/18251 내 생각에 A번인 단순 dfs 문제가 이 대회에서 E번이 되어버린 건에 관하여 (Easy)"
   ]
  },
  {
   "cell_type": "code",
   "execution_count": 161,
   "metadata": {},
   "outputs": [
    {
     "name": "stdout",
     "output_type": "stream",
     "text": [
      "15\n",
      "-2 8 -3 -9 0 -6 3 4 -1 10 -1 7 -100 7 -1\n",
      "24\n"
     ]
    }
   ],
   "source": [
    "from math import log2\n",
    "\n",
    "n = int(input())\n",
    "li = list(map(int, input().split()))\n",
    "\n",
    "row_num = int(log2(n + 1))\n",
    "col_num = n\n",
    "\n",
    "grid = [[0] * col_num for _ in range(row_num)]\n",
    " \n",
    "cur_x = row_num - 1\n",
    "cur_y_start = col_num - 1\n",
    "cur_term = 2\n",
    "cur_i = n - 1\n",
    "while True:\n",
    "    cur_y = cur_y_start\n",
    "    while True:\n",
    "#         print(cur_x, cur_y, li[cur_i])\n",
    "        \n",
    "        grid[cur_x][cur_y] = li[cur_i]\n",
    "        cur_i -= 1\n",
    "        cur_y -= cur_term\n",
    "        \n",
    "        if cur_y < 0:\n",
    "            break\n",
    "            \n",
    "    cur_x -= 1\n",
    "    cur_y_start -= cur_term // 2\n",
    "    cur_term *= 2\n",
    "    \n",
    "    if cur_i < 0:\n",
    "        break\n",
    "        \n",
    "grid_prefix = [[0] * col_num for _ in range(row_num + 1)]\n",
    "for j in range(col_num):\n",
    "    cumul = 0\n",
    "    for i in range(row_num):\n",
    "        cumul += grid[i][j]\n",
    "        grid_prefix[i + 1][j] = cumul\n",
    "        \n",
    "max_r = 0\n",
    "for x1 in range(row_num):\n",
    "    for x2 in range(x1, row_num):\n",
    "        start = 0\n",
    "        end = 0\n",
    "        cur_v = grid_prefix[x2 + 1][0] - grid_prefix[x1][0]\n",
    "        while start <= end:\n",
    "            max_r = max(max_r, cur_v)\n",
    "            \n",
    "            if cur_v <= 0:\n",
    "                to_minus = grid_prefix[x2 + 1][start] - grid_prefix[x1][start]\n",
    "                cur_v -= to_minus\n",
    "                start += 1\n",
    "                \n",
    "                if start > end:\n",
    "                    end = start\n",
    "                    if end >= col_num:\n",
    "                        break  \n",
    "                    to_add = grid_prefix[x2 + 1][end] - grid_prefix[x1][end]\n",
    "                    cur_v += to_add\n",
    "            else:\n",
    "                end += 1\n",
    "                if end >= col_num:\n",
    "                    break\n",
    "                to_add = grid_prefix[x2 + 1][end] - grid_prefix[x1][end]\n",
    "                cur_v += to_add\n",
    "                \n",
    "max_value = max(li)\n",
    "\n",
    "if max_value < 0:\n",
    "    print(max_value)\n",
    "else:\n",
    "    print(max_r)"
   ]
  },
  {
   "cell_type": "markdown",
   "metadata": {},
   "source": [
    "https://www.acmicpc.net/problem/1637 날카로운 눈"
   ]
  },
  {
   "cell_type": "code",
   "execution_count": 7,
   "metadata": {},
   "outputs": [
    {
     "name": "stdout",
     "output_type": "stream",
     "text": [
      "4\n",
      "1 10 1\n",
      "4 4 1\n",
      "1 5 1\n",
      "6 10 1\n",
      "4 3\n"
     ]
    }
   ],
   "source": [
    "import io, os, sys\n",
    "input = io.BytesIO(os.read(0, os.fstat(0).st_size)).readline\n",
    "\n",
    "def get_count_until(a, b, c, cri):\n",
    "    if cri < a:\n",
    "        return 0\n",
    "    else:\n",
    "        cri = min(cri, c)\n",
    "    \n",
    "    return (cri - a) // b + 1\n",
    "\n",
    "def get_is_included(a, b, c, cri):\n",
    "    if cri < a:\n",
    "        return False\n",
    "    if cri > c:\n",
    "        return False\n",
    "    \n",
    "    diff = cri - a\n",
    "    \n",
    "    if diff % b == 0:\n",
    "        return True\n",
    "    else:\n",
    "        return False\n",
    "\n",
    "n = int(input())\n",
    "li = [list(map(int, input().split())) for _ in range(n)]\n",
    "\n",
    "start = 1\n",
    "end = 2147483647\n",
    "result = -1\n",
    "while start <= end:\n",
    "    mid = (start + end) // 2\n",
    "    \n",
    "    count = 0\n",
    "    for i in range(n):\n",
    "        a, c, b = li[i]\n",
    "        \n",
    "        count += get_count_until(a, b, c, mid)\n",
    "        \n",
    "    if count % 2 == 0:\n",
    "        start = mid + 1\n",
    "    else:\n",
    "        result = mid\n",
    "        end = mid - 1\n",
    "        \n",
    "if result == -1:\n",
    "    print('NOTHING')\n",
    "else:\n",
    "    odd_c_num = result\n",
    "    \n",
    "    odd_c_num_count = 0\n",
    "    for i in range(n):\n",
    "        a, c, b = li[i]\n",
    "        \n",
    "        odd_c_num_count += get_is_included(a, b, c, odd_c_num)\n",
    "        \n",
    "    print(result, odd_c_num_count)"
   ]
  },
  {
   "cell_type": "markdown",
   "metadata": {},
   "source": [
    "https://www.acmicpc.net/contest/problem/1056/1 A번 - 3단 초콜릿 아이스크림"
   ]
  },
  {
   "cell_type": "code",
   "execution_count": 17,
   "metadata": {},
   "outputs": [
    {
     "name": "stdout",
     "output_type": "stream",
     "text": [
      "XYYXXY\n",
      "1\n"
     ]
    }
   ],
   "source": [
    "import sys\n",
    "input = lambda: sys.stdin.readline().rstrip()\n",
    "\n",
    "for _ in range(int(input())):\n",
    "    s = input()\n",
    "\n",
    "    n = len(s)\n",
    "\n",
    "    cri = n // 3\n",
    "    if n % 3:\n",
    "        cri += 1\n",
    "\n",
    "    ns = s[:cri]\n",
    "    ns_rev = ns[::-1]\n",
    "    ns_tail = ns[1:]\n",
    "    ns_rev_tail = ns_rev[1:]\n",
    "\n",
    "    if s == ns + ns_rev + ns or s == ns + ns_rev_tail + ns or s == ns + ns_rev + ns_tail or s == ns + ns_rev_tail + ns_tail:\n",
    "        print(1)\n",
    "    else:\n",
    "        print(0)"
   ]
  },
  {
   "cell_type": "markdown",
   "metadata": {},
   "source": [
    "https://www.acmicpc.net/problem/2673 교차하지 않는 원의 현들의 최대집합"
   ]
  },
  {
   "cell_type": "code",
   "execution_count": 48,
   "metadata": {},
   "outputs": [
    {
     "name": "stdout",
     "output_type": "stream",
     "text": [
      "5\n",
      "4 5\n",
      "3 6\n",
      "2 7\n",
      "1 8\n",
      "99 9\n",
      "5\n"
     ]
    }
   ],
   "source": [
    "from collections import defaultdict as dd\n",
    "\n",
    "# a, b: a에서 출발해서 시계 방향으로 b로 가는 경우\n",
    "def get_count(a, b):\n",
    "    if dp[(a, b)] != -1:\n",
    "        return dp[(a, b)]\n",
    "    \n",
    "    max_cand = 0\n",
    "    for i in range(n):\n",
    "        na, nb = li[i]\n",
    "        \n",
    "        if a < b:\n",
    "            if a < na < nb < b:\n",
    "                max_cand = max(max_cand, get_count(na, nb) + 1)\n",
    "        elif b < a:\n",
    "            a_m, b_m = a, b # modified\n",
    "            na_m, nb_m = na, nb\n",
    "            \n",
    "            b_m += 100\n",
    "            if na < b:\n",
    "                na_m += 100\n",
    "            if nb < b:\n",
    "                nb_m += 100\n",
    "                \n",
    "            if a_m < na_m < nb_m < b_m:\n",
    "                max_cand = max(max_cand, get_count(na, nb) + 1)\n",
    "                \n",
    "        nb, na = li[i]\n",
    "        \n",
    "        if a < b:\n",
    "            if a < na < nb < b:\n",
    "                max_cand = max(max_cand, get_count(na, nb) + 1)\n",
    "        elif b < a:\n",
    "            a_m, b_m = a, b # modified\n",
    "            na_m, nb_m = na, nb\n",
    "            \n",
    "            b_m += 100\n",
    "            if na < b:\n",
    "                na_m += 100\n",
    "            if nb < b:\n",
    "                nb_m += 100\n",
    "                \n",
    "            if a_m < na_m < nb_m < b_m:\n",
    "                max_cand = max(max_cand, get_count(na, nb) + 1)\n",
    "                            \n",
    "    dp[(a, b)] = max_cand\n",
    "    \n",
    "    return dp[(a, b)]\n",
    "                \n",
    "n = int(input())\n",
    "\n",
    "li = [list(map(int, input().split())) for _ in range(n)]\n",
    "\n",
    "dp = dd(lambda: -1)\n",
    "\n",
    "max_r = 0\n",
    "for i in range(n):\n",
    "    a, b = li[i]\n",
    "    \n",
    "    max_r = max(max_r, get_count(a, b) + get_count(b, a) + 1)\n",
    "    \n",
    "print(max_r)"
   ]
  },
  {
   "cell_type": "markdown",
   "metadata": {},
   "source": [
    "https://www.acmicpc.net/contest/problem/1057/1 A번 - 이브, 프시케 그리고 푸른 MEX의 아내"
   ]
  },
  {
   "cell_type": "code",
   "execution_count": 54,
   "metadata": {},
   "outputs": [
    {
     "name": "stdout",
     "output_type": "stream",
     "text": [
      "8\n",
      "0 2 0 1 3 2 1 0\n",
      "24\n"
     ]
    }
   ],
   "source": [
    "n = int(input())\n",
    "li = list(map(int, input().split()))\n",
    "\n",
    "c0 = 0\n",
    "c1 = 0\n",
    "cn = 0\n",
    "total = 0\n",
    "for i in range(n):\n",
    "    if li[i] == 0:\n",
    "        total += c0 + c1 * 2 + cn\n",
    "        c0 += 1\n",
    "    elif li[i] == 1:\n",
    "        total += c0 * 2\n",
    "        c1 += 1\n",
    "    else:\n",
    "        total += c0\n",
    "        cn += 1\n",
    "        \n",
    "print(total)"
   ]
  },
  {
   "cell_type": "markdown",
   "metadata": {},
   "source": [
    "B번 - 나도리합"
   ]
  },
  {
   "cell_type": "code",
   "execution_count": 58,
   "metadata": {},
   "outputs": [
    {
     "name": "stdout",
     "output_type": "stream",
     "text": [
      "3 3\n",
      "2 3 4\n",
      "1 2\n",
      "6\n",
      "2 3\n",
      "26\n",
      "1 3\n",
      "26\n"
     ]
    }
   ],
   "source": [
    "import io, os, sys\n",
    "# input = io.BytesIO(os.read(0, os.fstat(0).st_size)).readline\n",
    "\n",
    "def find(v):\n",
    "    while v != pa[v]:\n",
    "        pa[v] = pa[pa[v]]\n",
    "        v = pa[v]\n",
    "        \n",
    "    return v\n",
    "\n",
    "def union(a, b):\n",
    "    if a > b:\n",
    "        a, b = b, a\n",
    "        \n",
    "    pa[b] = a\n",
    "    mul_sums[a] += mul_sums[b] + sums[a] * sums[b]\n",
    "    sums[a] += sums[b]\n",
    "    \n",
    "    return mul_sums[a]\n",
    "\n",
    "n, q = map(int, input().split())\n",
    "li = list(map(int, input().split()))\n",
    "\n",
    "pa = list(range(n + 1))\n",
    "sums = [0] + li\n",
    "mul_sums = [0] * (n + 1)\n",
    "\n",
    "for _ in range(q):\n",
    "    a, b = map(int, input().split())\n",
    "    \n",
    "    ra = find(a)\n",
    "    rb = find(b)\n",
    "    \n",
    "    if ra == rb:\n",
    "        print(mul_sums[ra])\n",
    "    else:\n",
    "        print(union(ra, rb))"
   ]
  }
 ],
 "metadata": {
  "kernelspec": {
   "display_name": "Python 3",
   "language": "python",
   "name": "python3"
  },
  "language_info": {
   "codemirror_mode": {
    "name": "ipython",
    "version": 3
   },
   "file_extension": ".py",
   "mimetype": "text/x-python",
   "name": "python",
   "nbconvert_exporter": "python",
   "pygments_lexer": "ipython3",
   "version": "3.7.4"
  }
 },
 "nbformat": 4,
 "nbformat_minor": 4
}
