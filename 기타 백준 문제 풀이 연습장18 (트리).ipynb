{
 "cells": [
  {
   "cell_type": "markdown",
   "metadata": {},
   "source": [
    "### 트리 순회 1991 (다시 풀음)\n",
    "- 재귀"
   ]
  },
  {
   "cell_type": "code",
   "execution_count": 21,
   "metadata": {},
   "outputs": [
    {
     "name": "stdout",
     "output_type": "stream",
     "text": [
      "ABDCEFG\n",
      "DBAECFG\n",
      "DBEGFCA"
     ]
    }
   ],
   "source": [
    "class Node:\n",
    "    def __init__(self, value, left=None, right=None):\n",
    "        self.value = value\n",
    "        self.left = left\n",
    "        self.right = right\n",
    "\n",
    "def preorder(value):\n",
    "    if value:\n",
    "        node = tree[value]\n",
    "        print(node.value, end='')\n",
    "        preorder(node.left)\n",
    "        preorder(node.right)\n",
    "\n",
    "def inorder(value):\n",
    "    if value:\n",
    "        node = tree[value]\n",
    "        inorder(node.left)\n",
    "        print(node.value, end='')\n",
    "        inorder(node.right)\n",
    "\n",
    "def postorder(value):\n",
    "    if value:\n",
    "        node = tree[value]\n",
    "        postorder(node.left)\n",
    "        postorder(node.right)\n",
    "        print(node.value, end='')\n",
    "        \n",
    "n = int(input())\n",
    "\n",
    "tree = {}\n",
    "for _ in range(n):\n",
    "    value, left, right = input().split()\n",
    "    if left == '.':\n",
    "        left = None\n",
    "    if right == '.':\n",
    "        right = None\n",
    "        \n",
    "    tree[value] = Node(value, left, right)\n",
    "    \n",
    "preorder('A')\n",
    "print()\n",
    "inorder('A')\n",
    "print()\n",
    "postorder('A')"
   ]
  },
  {
   "cell_type": "markdown",
   "metadata": {},
   "source": [
    "### 트리의 높이와 너비 2250 (다시 풀음)"
   ]
  },
  {
   "cell_type": "code",
   "execution_count": 33,
   "metadata": {},
   "outputs": [
    {
     "name": "stdout",
     "output_type": "stream",
     "text": [
      "19\n"
     ]
    }
   ],
   "source": [
    "class Node:\n",
    "    def __init__(self, data, left_value=None, right_value=None):\n",
    "        self.data = data\n",
    "        self.left = left_value\n",
    "        self.right = right_value\n",
    "        \n",
    "tree = {}\n",
    "n = int(input())\n",
    "\n",
    "s = '''1 2 3\n",
    "2 4 5\n",
    "3 6 7\n",
    "4 8 -1\n",
    "5 9 10\n",
    "6 11 12\n",
    "7 13 -1\n",
    "8 -1 -1\n",
    "9 14 15\n",
    "10 -1 -1\n",
    "11 16 -1\n",
    "12 -1 -1\n",
    "13 17 -1\n",
    "14 -1 -1\n",
    "15 18 -1\n",
    "16 -1 -1\n",
    "17 -1 19\n",
    "18 -1 -1\n",
    "19 -1 -1'''\n",
    "li = [list(map(int, v.split())) for v in s.split('\\n')]\n",
    "\n",
    "for i in range(n):\n",
    "#     data, left, right = map(int, input().split())\n",
    "    data, left, right = li[i]\n",
    "    if left == -1:\n",
    "        left = None\n",
    "    if right == -1:\n",
    "        right = None\n",
    "    tree[data] = Node(data, left, right)"
   ]
  },
  {
   "cell_type": "code",
   "execution_count": 42,
   "metadata": {},
   "outputs": [],
   "source": [
    "def inorder_to_find_root(value):\n",
    "    if value:\n",
    "        node = tree[value]\n",
    "        inorder_to_find_root(node.left)\n",
    "        visited[node.data] = True\n",
    "        inorder_to_find_root(node.right)"
   ]
  },
  {
   "cell_type": "code",
   "execution_count": 43,
   "metadata": {},
   "outputs": [],
   "source": [
    "root_value = 0\n",
    "visited = [False] * (n + 1)\n",
    "for candidate in tree.keys():\n",
    "    if visited[candidate]:\n",
    "        continue\n",
    "    visited[candidate] = True\n",
    "    root_value = candidate\n",
    "    inorder_to_find_root(candidate)"
   ]
  },
  {
   "cell_type": "code",
   "execution_count": 44,
   "metadata": {},
   "outputs": [
    {
     "data": {
      "text/plain": [
       "1"
      ]
     },
     "execution_count": 44,
     "metadata": {},
     "output_type": "execute_result"
    }
   ],
   "source": [
    "root_value"
   ]
  },
  {
   "cell_type": "code",
   "execution_count": 53,
   "metadata": {},
   "outputs": [],
   "source": [
    "def inorder(value, level, accu_count):\n",
    "    count = 0\n",
    "    if value:\n",
    "        count += 1\n",
    "        node = tree[value]\n",
    "        \n",
    "        count += inorder(node.left, level + 1, accu_count)\n",
    "        accu_count += count\n",
    "        d[level].append(accu_count)\n",
    "        \n",
    "        count += inorder(node.right, level + 1, accu_count)\n",
    "    return count"
   ]
  },
  {
   "cell_type": "code",
   "execution_count": 54,
   "metadata": {},
   "outputs": [
    {
     "data": {
      "text/plain": [
       "19"
      ]
     },
     "execution_count": 54,
     "metadata": {},
     "output_type": "execute_result"
    }
   ],
   "source": [
    "from collections import defaultdict\n",
    "\n",
    "d = defaultdict(list)\n",
    "inorder(root_value, 1, 0)"
   ]
  },
  {
   "cell_type": "code",
   "execution_count": 56,
   "metadata": {},
   "outputs": [],
   "source": [
    "max_width_level = 0\n",
    "max_width = 0\n",
    "for level in d.keys():\n",
    "    width = max(d[level]) - min(d[level]) + 1\n",
    "    if width >= max_width:\n",
    "        if width == max_width and level > max_width_level:\n",
    "            continue\n",
    "        max_width_level, max_width = level, width"
   ]
  },
  {
   "cell_type": "code",
   "execution_count": 57,
   "metadata": {},
   "outputs": [
    {
     "name": "stdout",
     "output_type": "stream",
     "text": [
      "3 18\n"
     ]
    }
   ],
   "source": [
    "print(max_width_level, max_width)"
   ]
  },
  {
   "cell_type": "code",
   "execution_count": 58,
   "metadata": {},
   "outputs": [
    {
     "name": "stdout",
     "output_type": "stream",
     "text": [
      "19\n",
      "1 2 3\n",
      "2 4 5\n",
      "3 6 7\n",
      "4 8 -1\n",
      "5 9 10\n",
      "6 11 12\n",
      "7 13 -1\n",
      "8 -1 -1\n",
      "9 14 15\n",
      "10 -1 -1\n",
      "11 16 -1\n",
      "12 -1 -1\n",
      "13 17 -1\n",
      "14 -1 -1\n",
      "15 18 -1\n",
      "16 -1 -1\n",
      "17 -1 19\n",
      "18 -1 -1\n",
      "19 -1 -1\n",
      "3 18\n"
     ]
    }
   ],
   "source": [
    "from collections import defaultdict\n",
    "\n",
    "class Node:\n",
    "    def __init__(self, data, left_value=None, right_value=None):\n",
    "        self.data = data\n",
    "        self.left = left_value\n",
    "        self.right = right_value\n",
    "        \n",
    "tree = {}\n",
    "n = int(input())\n",
    "\n",
    "for _ in range(n):\n",
    "    data, left, right = map(int, input().split())\n",
    "    if left == -1:\n",
    "        left = None\n",
    "    if right == -1:\n",
    "        right = None\n",
    "        \n",
    "    tree[data] = Node(data, left, right)\n",
    "    \n",
    "def inorder_to_find_root(value):\n",
    "    if value:\n",
    "        node = tree[value]\n",
    "        inorder_to_find_root(node.left)\n",
    "        visited[node.data] = True\n",
    "        inorder_to_find_root(node.right)\n",
    "        \n",
    "root_value = 0\n",
    "visited = [False] * (n + 1)\n",
    "for candidate in tree.keys():\n",
    "    if visited[candidate]:\n",
    "        continue\n",
    "    visited[candidate] = True\n",
    "    root_value = candidate\n",
    "    inorder_to_find_root(candidate)\n",
    "    \n",
    "def inorder(value, level, accu_count):\n",
    "    count = 0\n",
    "    if value:\n",
    "        count += 1\n",
    "        node = tree[value]\n",
    "        \n",
    "        count += inorder(node.left, level + 1, accu_count)\n",
    "        accu_count += count\n",
    "        d[level].append(accu_count)\n",
    "        \n",
    "        count += inorder(node.right, level + 1, accu_count)\n",
    "    return count\n",
    "\n",
    "d = defaultdict(list)\n",
    "inorder(root_value, 1, 0)\n",
    "\n",
    "max_width_level = 0\n",
    "max_width = 0\n",
    "for level in d.keys():\n",
    "    width = max(d[level]) - min(d[level]) + 1\n",
    "    if width >= max_width:\n",
    "        if width == max_width and level > max_width_level:\n",
    "            continue\n",
    "        max_width_level, max_width = level, width\n",
    "        \n",
    "print(max_width_level, max_width)"
   ]
  },
  {
   "cell_type": "markdown",
   "metadata": {},
   "source": [
    "### 트리의 지름 1967"
   ]
  },
  {
   "cell_type": "code",
   "execution_count": 9,
   "metadata": {},
   "outputs": [
    {
     "name": "stdout",
     "output_type": "stream",
     "text": [
      "45\n"
     ]
    }
   ],
   "source": [
    "# 맞았음, 이진트리를 가정하고 풀어서 틀렸었음\n",
    "import sys\n",
    "sys.setrecursionlimit(10000000)\n",
    "# input = sys.stdin.readline\n",
    "\n",
    "class Node:\n",
    "    def __init__(self, data):\n",
    "        self.data = data\n",
    "        self.children = []\n",
    "\n",
    "tree = {1: Node(0)}\n",
    "n = int(input().rstrip())\n",
    "for i in range(n - 1):\n",
    "    p, c, w = map(int, input().rstrip().split())\n",
    "    tree[p].children.append(c)\n",
    "    tree[c] = Node(w)\n",
    "    \n",
    "result = 0\n",
    "        \n",
    "def traverse(key):\n",
    "    global result\n",
    "    \n",
    "    node = tree[key]\n",
    "    values = []\n",
    "    for c in node.children:\n",
    "        values.append(traverse(c))\n",
    "        \n",
    "    if not values:\n",
    "        return node.data\n",
    "        \n",
    "    values.sort(reverse=True)\n",
    "    if result < sum(values[:2]):\n",
    "        result = sum(values[:2])  \n",
    "    \n",
    "    return values[0] + node.data\n",
    "    \n",
    "traverse(1)\n",
    "print(result)"
   ]
  },
  {
   "cell_type": "markdown",
   "metadata": {},
   "source": [
    "### 트리의 지름 1167"
   ]
  },
  {
   "cell_type": "code",
   "execution_count": 3,
   "metadata": {},
   "outputs": [
    {
     "name": "stdout",
     "output_type": "stream",
     "text": [
      "5\n",
      "1 3 2 -1\n",
      "2 4 4 -1\n",
      "3 1 2 4 3 -1\n",
      "4 2 4 3 3 5 6 -1\n",
      "5 4 6 -1\n",
      "11\n"
     ]
    }
   ],
   "source": [
    "import sys\n",
    "sys.setrecursionlimit(1000000)\n",
    "# input = sys.stdin.readline\n",
    "\n",
    "class Node:\n",
    "    def __init__(self):\n",
    "        self.connected = []\n",
    "\n",
    "v = int(input().rstrip())\n",
    "tree = {i: Node() for i in range(1, v + 1)}\n",
    "visited = [0] * (v + 1)\n",
    "for _ in range(v):\n",
    "    li = list(map(int, input().rstrip().split()))\n",
    "    p = li[0]\n",
    "    visited[p] += 1\n",
    "    for i in range(1, len(li) - 1, 2):\n",
    "        c, d = li[i], li[i + 1]\n",
    "        tree[p].connected.append((c, d))\n",
    "        visited[c] += 1   \n",
    "        \n",
    "root_node_num = [i for i, value in enumerate(visited) if value == 2][0]\n",
    "result = 0\n",
    "visited = [False] * (v + 1)\n",
    "\n",
    "def traverse(key):\n",
    "    global result\n",
    "    global visited\n",
    "    \n",
    "    node = tree[key]\n",
    "    values = []\n",
    "    for c, d in node.connected:\n",
    "        if not visited[c]: \n",
    "            visited[c] = True\n",
    "            values.append(traverse(c) + d)\n",
    "    \n",
    "    if values:\n",
    "        values.sort(reverse=True)\n",
    "        if sum(values[:2]) > result:\n",
    "            result = sum(values[:2])\n",
    "        return values[0]\n",
    "    else:\n",
    "        return 0\n",
    "    \n",
    "visited[root_node_num] = True\n",
    "traverse(root_node_num)\n",
    "print(result)"
   ]
  },
  {
   "cell_type": "markdown",
   "metadata": {},
   "source": [
    "### 두 번째 트리의 지름 19581"
   ]
  },
  {
   "cell_type": "code",
   "execution_count": 17,
   "metadata": {},
   "outputs": [
    {
     "name": "stdout",
     "output_type": "stream",
     "text": [
      "3\n",
      "1 2 3\n",
      "2 3 4\n",
      "4\n"
     ]
    }
   ],
   "source": [
    "# 틀렸음, 일단포기\n",
    "import sys\n",
    "sys.setrecursionlimit(1000000)\n",
    "# input = sys.stdin.readline\n",
    "\n",
    "class Node:\n",
    "    def __init__(self):\n",
    "        self.connected = []\n",
    "\n",
    "n = int(input().rstrip())\n",
    "tree = {i: Node() for i in range(1, n + 1)}\n",
    "visited = [0] * (n + 1)\n",
    "for _ in range(n - 1):\n",
    "    a, b, w = list(map(int, input().rstrip().split()))\n",
    "    visited[a] += 1\n",
    "    visited[b] += 1\n",
    "\n",
    "    tree[a].connected.append((b, w))\n",
    "    tree[b].connected.append((a, w))\n",
    "        \n",
    "root_node_num = [i for i, value in enumerate(visited) if value == 2][0]\n",
    "result = []\n",
    "visited = [False] * (n + 1)\n",
    "\n",
    "def traverse(key):\n",
    "    global result\n",
    "    global visited\n",
    "    \n",
    "    node = tree[key]\n",
    "    values = []\n",
    "    for c, d in node.connected:\n",
    "        if not visited[c]: \n",
    "            visited[c] = True\n",
    "            values.append(traverse(c) + d)\n",
    "    \n",
    "    if values:\n",
    "        values.sort(reverse=True)\n",
    "        \n",
    "        sum_value = sum(values[:2])\n",
    "        if len(values) >= 2:\n",
    "            result.extend([values[0], values[1], sum(values[:2])])\n",
    "        else:\n",
    "            result.append(values[0])\n",
    "            \n",
    "        return values[0]\n",
    "    else:\n",
    "        return 0\n",
    "    \n",
    "visited[root_node_num] = True\n",
    "traverse(root_node_num)\n",
    "print(sorted(result)[-2])"
   ]
  },
  {
   "cell_type": "markdown",
   "metadata": {},
   "source": [
    "### 트리1068"
   ]
  },
  {
   "cell_type": "code",
   "execution_count": 36,
   "metadata": {},
   "outputs": [
    {
     "name": "stdout",
     "output_type": "stream",
     "text": [
      "4\n",
      "-1 0 1 2\n",
      "1\n",
      "1\n"
     ]
    }
   ],
   "source": [
    "# 트리 구성\n",
    "# 지울 노드 찾기, 찾아서 제거하기\n",
    "# 리프 노드 개수 구하기 (루트 노드 인자로 넘기기)\n",
    "\n",
    "class Node:\n",
    "    def __init__(self):\n",
    "        self.children = []\n",
    "\n",
    "n = int(input())\n",
    "tree = {i: Node() for i in range(n)}\n",
    "li = list(map(int, input().split()))\n",
    "root = 0\n",
    "for i, v in enumerate(li):\n",
    "    if v == -1:\n",
    "        root = i\n",
    "        continue\n",
    "    tree[v].children.append(i)\n",
    "\n",
    "to_delete = int(input())\n",
    "del tree[to_delete]\n",
    "\n",
    "result = 0\n",
    "def count_leaf_nodes(key):\n",
    "    global result\n",
    "    \n",
    "    if tree.get(key, False) is not False:\n",
    "        node = tree[key]\n",
    "        \n",
    "        if not node.children or len(node.children) == 1 and node.children[0] == to_delete:\n",
    "            result += 1\n",
    "        else:\n",
    "            for c in node.children:\n",
    "                count_leaf_nodes(c)\n",
    "    return 0\n",
    "    \n",
    "count_leaf_nodes(root)\n",
    "print(result)"
   ]
  },
  {
   "cell_type": "markdown",
   "metadata": {},
   "source": [
    "### 완전 이진 트리 9934"
   ]
  },
  {
   "cell_type": "code",
   "execution_count": 48,
   "metadata": {},
   "outputs": [
    {
     "name": "stdout",
     "output_type": "stream",
     "text": [
      "3\n",
      "1 6 4 3 5 2 7\n",
      "3\n",
      "6 2\n",
      "1 4 5 7\n"
     ]
    }
   ],
   "source": [
    "n = int(input())\n",
    "li = list(map(int, input().split()))\n",
    "\n",
    "result = []\n",
    "while li:\n",
    "    temp = []\n",
    "    to_delete = []\n",
    "    for i in range(0, len(li), 2):\n",
    "        temp.append(li[i])\n",
    "        to_delete.append(i)\n",
    "        \n",
    "    result.append(temp)\n",
    "    for index in to_delete[::-1]:\n",
    "        del li[index]\n",
    "        \n",
    "for r in result[::-1]:\n",
    "    print(*r)        "
   ]
  },
  {
   "cell_type": "markdown",
   "metadata": {},
   "source": [
    "### 이진 검색 트리 5639"
   ]
  },
  {
   "cell_type": "code",
   "execution_count": 49,
   "metadata": {},
   "outputs": [],
   "source": [
    "s = '''50\n",
    "30\n",
    "24\n",
    "5\n",
    "28\n",
    "45\n",
    "98\n",
    "52\n",
    "60'''\n",
    "\n",
    "li = list(map(int, s.split('\\n')))\n"
   ]
  },
  {
   "cell_type": "code",
   "execution_count": 55,
   "metadata": {},
   "outputs": [],
   "source": [
    "import sys\n",
    "sys.setrecursionlimit(1000000)\n",
    "input = sys.stdin.readline\n",
    "\n",
    "li = []\n",
    "while True:\n",
    "    try:\n",
    "        value = int(input())\n",
    "        li.append(value)\n",
    "    except:\n",
    "        break\n",
    "\n",
    "class Node:\n",
    "    def __init__(self, data, left=None, right=None):\n",
    "        self.data = data\n",
    "        self.left = left\n",
    "        self.right = right\n",
    "        \n",
    "root = Node(li[0])\n",
    "\n",
    "for value in li[1:]:\n",
    "    node = root\n",
    "    while True:\n",
    "        if value < node.data:\n",
    "            if node.left == None:\n",
    "                node.left = Node(value)\n",
    "                break\n",
    "            node = node.left\n",
    "        else:\n",
    "            if node.right == None:\n",
    "                node.right = Node(value)\n",
    "                break\n",
    "            node = node.right\n",
    "            \n",
    "result = []\n",
    "\n",
    "def postorder(node):\n",
    "    if node:\n",
    "        postorder(node.left)\n",
    "        postorder(node.right)\n",
    "        result.append(node.data)\n",
    "        \n",
    "postorder(root)\n",
    "print('\\n'.join(map(str, result)))"
   ]
  },
  {
   "cell_type": "markdown",
   "metadata": {},
   "source": [
    "### 트리인가? 6416"
   ]
  },
  {
   "cell_type": "code",
   "execution_count": null,
   "metadata": {},
   "outputs": [],
   "source": [
    "# 시간초과, 무방향 그래프가 아닌 방향 그래프였음\n",
    "import sys\n",
    "# input = sys.stdin.readline\n",
    "\n",
    "def find(v, parent):\n",
    "    if v == parent[v]:\n",
    "        return v\n",
    "    \n",
    "    parent[v] = find(parent[v], parent)\n",
    "    return parent[v]\n",
    "\n",
    "def union(a, b, rank, parent):\n",
    "    if rank[a] >= rank[b]:\n",
    "        if rank[a] == rank[b]:\n",
    "            rank[a] += 1\n",
    "        parent[b] = a\n",
    "    else:\n",
    "        parent[a] = b\n",
    "\n",
    "def is_tree(edges):\n",
    "    all_nodes = sum(edges, [])\n",
    "    all_nodes = set(all_nodes)\n",
    "    parent = {node: node for node in all_nodes}\n",
    "    rank = {node: 0 for node in all_nodes}\n",
    "    \n",
    "    for a, b in edges:\n",
    "        a, b = find(a, parent), find(b, parent)\n",
    "        if a == b:\n",
    "            return False\n",
    "        union(a, b, rank, parent)\n",
    "        \n",
    "    for node in all_nodes:\n",
    "        find(node, parent)\n",
    "        \n",
    "    if len(set(parent.values())) >= 2:\n",
    "        return False\n",
    "    return True\n",
    "\n",
    "case_num = 1\n",
    "while True:\n",
    "    edges = []\n",
    "    while True:\n",
    "        li = input().rstrip()\n",
    "        li = li.split('  ')\n",
    "        li = [list(map(int, v.split())) for v in li]\n",
    "        \n",
    "        edges.extend(li)\n",
    "        if edges[-1] == [0, 0]:\n",
    "            del edges[-1]\n",
    "            break\n",
    "            \n",
    "    if is_tree(edges):\n",
    "        print(f'Case {case_num} is a tree.')\n",
    "    else:\n",
    "        print(f'Case {case_num} is not a tree.')\n",
    "            \n",
    "    if len(input()) >= 2:\n",
    "        break\n",
    "        \n",
    "    case_num += 1"
   ]
  }
 ],
 "metadata": {
  "kernelspec": {
   "display_name": "Python 3",
   "language": "python",
   "name": "python3"
  },
  "language_info": {
   "codemirror_mode": {
    "name": "ipython",
    "version": 3
   },
   "file_extension": ".py",
   "mimetype": "text/x-python",
   "name": "python",
   "nbconvert_exporter": "python",
   "pygments_lexer": "ipython3",
   "version": "3.7.3"
  }
 },
 "nbformat": 4,
 "nbformat_minor": 4
}
