{
 "cells": [
  {
   "cell_type": "markdown",
   "metadata": {},
   "source": [
    "### 회의실 배정 2 19621\n",
    "- 브루트포스, 정렬, 백트래킹"
   ]
  },
  {
   "cell_type": "code",
   "execution_count": 7,
   "metadata": {},
   "outputs": [
    {
     "name": "stdout",
     "output_type": "stream",
     "text": [
      "6\n",
      "10 40 80\n",
      "30 60 60\n",
      "50 80 70\n",
      "70 100 100\n",
      "90 120 40\n",
      "110 140 50\n",
      "230\n"
     ]
    }
   ],
   "source": [
    "# 동적계획법으로 풀었음, 회의실 배정 3 19622는 같은 코드에 input만 sys로 받아서 풀었음\n",
    "dp = []\n",
    "\n",
    "n = int(input())\n",
    "for i in range(n):\n",
    "    _, _, value = map(int, input().split())\n",
    "    \n",
    "    if i == 0:\n",
    "         dp.append((value, 0))\n",
    "    else:\n",
    "        dp.append((dp[-1][1] + value, max(dp[-1])))\n",
    "        \n",
    "print(max(dp[-1]))"
   ]
  },
  {
   "cell_type": "code",
   "execution_count": 15,
   "metadata": {},
   "outputs": [
    {
     "name": "stdout",
     "output_type": "stream",
     "text": [
      "6\n",
      "10 40 80\n",
      "30 60 60\n",
      "50 80 70\n",
      "70 100 100\n",
      "90 120 40\n",
      "110 140 50\n",
      "230\n"
     ]
    }
   ],
   "source": [
    "# 숏코딩\n",
    "l=[int(input().split()[2])for _ in range(int(input()))];d=[(l[0],0)];del l[0]\n",
    "for v in l:d.append((d[-1][1]+v,max(d[-1])))\n",
    "print(max(d[-1]))"
   ]
  },
  {
   "cell_type": "markdown",
   "metadata": {},
   "source": [
    "### ABCDE 13023"
   ]
  },
  {
   "cell_type": "code",
   "execution_count": 4,
   "metadata": {},
   "outputs": [
    {
     "name": "stdout",
     "output_type": "stream",
     "text": [
      "1\n"
     ]
    }
   ],
   "source": [
    "import sys\n",
    "# input = sys.stdin.readline\n",
    "\n",
    "n, m = map(int, input().rstrip().split())\n",
    "\n",
    "li = [[] for _ in range(n)]\n",
    "for _ in range(m):\n",
    "    a, b = map(int, input().rstrip().split())\n",
    "    li[a].append(b)\n",
    "    li[b].append(a)\n",
    "\n",
    "stack = []\n",
    "stack.extend([(i, set([i])) for i in range(n)])\n",
    "\n",
    "result = 0\n",
    "while stack:\n",
    "    value, acc = stack.pop()\n",
    "    \n",
    "    if len(acc) == 5:\n",
    "        result = 1\n",
    "        break\n",
    "    \n",
    "    for v in li[value]:\n",
    "        if v not in acc:\n",
    "            new_acc = acc.copy()\n",
    "            new_acc.add(v)\n",
    "            stack.append((v, new_acc))\n",
    "            \n",
    "print(result)"
   ]
  }
 ],
 "metadata": {
  "kernelspec": {
   "display_name": "Python 3",
   "language": "python",
   "name": "python3"
  },
  "language_info": {
   "codemirror_mode": {
    "name": "ipython",
    "version": 3
   },
   "file_extension": ".py",
   "mimetype": "text/x-python",
   "name": "python",
   "nbconvert_exporter": "python",
   "pygments_lexer": "ipython3",
   "version": "3.7.3"
  }
 },
 "nbformat": 4,
 "nbformat_minor": 4
}
