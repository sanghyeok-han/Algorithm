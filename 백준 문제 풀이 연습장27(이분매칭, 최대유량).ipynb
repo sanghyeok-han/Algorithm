{
 "cells": [
  {
   "cell_type": "markdown",
   "metadata": {},
   "source": [
    "### 축사 배정 2188"
   ]
  },
  {
   "cell_type": "raw",
   "metadata": {},
   "source": [
    "소 별로 원하는 위치별로 돌리면서\n",
    "  만약 해당 소가 원하는 위치에 다른 소가 있으면\n",
    "    다른 소를 원하는 다른 위치로 옮길 수 있으면 그 소를 그 곳으로 옮기고\n",
    "    그렇지 않으면 그 위치를 포기함\n",
    "  다른 소가 없으면 그 위치에 바로 배정함"
   ]
  },
  {
   "cell_type": "code",
   "execution_count": 8,
   "metadata": {},
   "outputs": [
    {
     "name": "stdout",
     "output_type": "stream",
     "text": [
      "3 3\n",
      "0\n",
      "1 1\n",
      "2 1 2\n",
      "2\n"
     ]
    }
   ],
   "source": [
    "# 틀렸음, 한 번만 확인하였음\n",
    "n, m = map(int, input().split())\n",
    "wants = [[] for _ in range(n + 1)]\n",
    "for i in range(1, n + 1):\n",
    "    temp = list(map(int, input().split()))\n",
    "    wants[i].extend(temp[1:])\n",
    "    \n",
    "houses = [-1] * (m + 1)\n",
    "count = 0\n",
    "for cow in range(1, n + 1):\n",
    "    is_found = False\n",
    "    for want in wants[cow]:\n",
    "        if houses[want] == -1:\n",
    "            houses[want] = cow\n",
    "            is_found = True\n",
    "            break\n",
    "        other = houses[want]\n",
    "        for other_want in wants[other]:\n",
    "            if houses[other_want] == -1:\n",
    "                houses[other_want] = other\n",
    "                houses[want] = cow\n",
    "                is_found = True\n",
    "                break\n",
    "        if is_found:\n",
    "            break\n",
    "    if is_found:\n",
    "        count += 1\n",
    "            \n",
    "print(count)"
   ]
  },
  {
   "cell_type": "code",
   "execution_count": 30,
   "metadata": {},
   "outputs": [
    {
     "name": "stdout",
     "output_type": "stream",
     "text": [
      "4\n"
     ]
    }
   ],
   "source": [
    "n, m = map(int, input().split())\n",
    "wants = [[] for _ in range(n + 1)]\n",
    "for i in range(1, n + 1):\n",
    "    temp = list(map(int, input().split()))\n",
    "    wants[i].extend(temp[1:])\n",
    "    \n",
    "houses = [-1] * (m + 1)\n",
    "count = 0\n",
    "\n",
    "def dfs(cow):\n",
    "    for want in wants[cow]:\n",
    "        if not visited[want]:\n",
    "            visited[want] = True\n",
    "            if houses[want] == -1:\n",
    "                houses[want] = cow\n",
    "                return True\n",
    "            other = houses[want]\n",
    "            if dfs(other):\n",
    "                houses[want] = cow\n",
    "                return True    \n",
    "    return False\n",
    "\n",
    "for cow in range(1, n + 1):\n",
    "    visited = [False] * (m + 1)\n",
    "    if dfs(cow):\n",
    "        count += 1\n",
    "            \n",
    "print(count)"
   ]
  },
  {
   "cell_type": "markdown",
   "metadata": {},
   "source": [
    "### 열혈강호 11375"
   ]
  },
  {
   "cell_type": "code",
   "execution_count": 32,
   "metadata": {},
   "outputs": [
    {
     "name": "stdout",
     "output_type": "stream",
     "text": [
      "4\n"
     ]
    }
   ],
   "source": [
    "import sys\n",
    "# input = lambda: sys.stdin.readline().rstrip()\n",
    "\n",
    "n, m = map(int, input().split())\n",
    "possibles = [[] for _ in range(n + 1)]\n",
    "for i in range(n):\n",
    "    temp = list(map(int, input().split()))\n",
    "    for j in range(1, temp[0] + 1):\n",
    "        possibles[i + 1].append(temp[j])\n",
    "\n",
    "count = 0\n",
    "assigned = [0] * (m + 1)\n",
    "\n",
    "def dfs(worker):\n",
    "    for work in possibles[worker]:\n",
    "        if not visited[work]:\n",
    "            visited[work] = True\n",
    "            if not assigned[work]:\n",
    "                assigned[work] = worker\n",
    "                return True\n",
    "            if dfs(assigned[work]):\n",
    "                assigned[work] = worker\n",
    "                return True\n",
    "    return False\n",
    "\n",
    "for worker in range(1, n + 1):\n",
    "    visited = [False] * (m + 1)\n",
    "    if dfs(worker):\n",
    "        count += 1\n",
    "        \n",
    "print(count)"
   ]
  },
  {
   "cell_type": "markdown",
   "metadata": {},
   "source": [
    "### 열혈강호2 11376"
   ]
  },
  {
   "cell_type": "code",
   "execution_count": 41,
   "metadata": {},
   "outputs": [
    {
     "name": "stdout",
     "output_type": "stream",
     "text": [
      "5 5\n",
      "2 1 2\n",
      "2 1 2\n",
      "2 1 2\n",
      "2 4 5\n",
      "0\n",
      "4\n"
     ]
    }
   ],
   "source": [
    "import sys\n",
    "input = lambda: sys.stdin.readline().rstrip()\n",
    "\n",
    "n, m = map(int, input().split())\n",
    "possibles = [[] for _ in range(n + 1)]\n",
    "for i in range(n):\n",
    "    temp = list(map(int, input().split()))\n",
    "    for j in range(1, temp[0] + 1):\n",
    "        possibles[i + 1].append(temp[j])\n",
    "        \n",
    "def dfs(worker):\n",
    "    for work in possibles[worker]:\n",
    "        if not visited[work]:\n",
    "            visited[work] = True\n",
    "            if assigned[work] == 0:\n",
    "                assigned[work] = worker\n",
    "                return True\n",
    "            if assigned[work] == worker:\n",
    "                continue\n",
    "            else:\n",
    "                if dfs(assigned[work]):\n",
    "                    assigned[work] = worker\n",
    "                    return True\n",
    "    return False\n",
    "        \n",
    "count = 0\n",
    "assigned = [0] * (m + 1)\n",
    "for _ in range(2):\n",
    "    for worker in range(1, n + 1):\n",
    "        visited = [False] * (m + 1)\n",
    "        if dfs(worker):\n",
    "            count += 1\n",
    "    \n",
    "print(count)"
   ]
  },
  {
   "cell_type": "markdown",
   "metadata": {},
   "source": [
    "### 열혈강호3 11377"
   ]
  },
  {
   "cell_type": "code",
   "execution_count": 74,
   "metadata": {},
   "outputs": [
    {
     "name": "stdout",
     "output_type": "stream",
     "text": [
      "5 5 1\n",
      "3 1 2 3\n",
      "3 1 2 3\n",
      "1 5\n",
      "1 5\n",
      "1 5\n",
      "4\n"
     ]
    }
   ],
   "source": [
    "import sys\n",
    "# input = lambda: sys.stdin.readline().rstrip()\n",
    "\n",
    "n, m, k = map(int, input().split())\n",
    "possibles = [[] for _ in range(n + 1)]\n",
    "for i in range(n):\n",
    "    temp = list(map(int, input().split()))\n",
    "    for j in range(1, temp[0] + 1):\n",
    "        possibles[i + 1].append(temp[j])\n",
    "        \n",
    "def dfs(worker):\n",
    "    for work in possibles[worker]:\n",
    "        if not visited[work]:\n",
    "            visited[work] = True\n",
    "            if assigned[work] == 0:\n",
    "                assigned[work] = worker\n",
    "                return True\n",
    "            if assigned[work] == worker:\n",
    "                continue\n",
    "            else:\n",
    "                if dfs(assigned[work]):\n",
    "                    assigned[work] = worker\n",
    "                    return True\n",
    "    return False\n",
    "        \n",
    "count = 0\n",
    "assigned = [0] * (m + 1)\n",
    "for worker in range(1, n + 1):\n",
    "    visited = [False] * (m + 1)\n",
    "    if dfs(worker):\n",
    "        count += 1\n",
    "        \n",
    "for worker in range(1, n + 1):\n",
    "    visited = [False] * (m + 1)\n",
    "    if dfs(worker):\n",
    "        count += 1\n",
    "        k -= 1\n",
    "        if k == 0:\n",
    "            break\n",
    "            \n",
    "print(count)"
   ]
  },
  {
   "cell_type": "markdown",
   "metadata": {},
   "source": [
    "### 상어의 저녁식사 1671"
   ]
  },
  {
   "cell_type": "code",
   "execution_count": 72,
   "metadata": {},
   "outputs": [
    {
     "name": "stdout",
     "output_type": "stream",
     "text": [
      "6\n",
      "1 1 2\n",
      "1 1 2\n",
      "1 1 3\n",
      "1 1 1\n",
      "1 1 1\n",
      "1 1 1\n",
      "1\n"
     ]
    }
   ],
   "source": [
    "n = int(input())\n",
    "abils = [[] for _ in range(n)]\n",
    "for i in range(n):\n",
    "    abils[i] = list(map(int, input().split()))\n",
    "    \n",
    "def check(eater, pray):\n",
    "    for i in range(3):\n",
    "        if abils[eater][i] < abils[pray][i]:\n",
    "            return False\n",
    "    return True\n",
    "    \n",
    "def dfs(shark):\n",
    "    if visited[shark]:\n",
    "        return False\n",
    "    visited[shark] = True\n",
    "    for cand_pray in range(n):\n",
    "        if not check(shark, cand_pray):\n",
    "            continue\n",
    "        if shark == cand_pray:\n",
    "            continue\n",
    "        if assigned_eater[cand_pray] == shark:\n",
    "            continue\n",
    "        \n",
    "        need_to_skip = False\n",
    "        v = shark\n",
    "        while True:\n",
    "            nv = assigned_eater[v]\n",
    "            if nv == cand_pray:\n",
    "                need_to_skip = True\n",
    "                break\n",
    "            if nv == -1:\n",
    "                break\n",
    "            v = nv\n",
    "        else:\n",
    "            need_to_skip = True\n",
    "            \n",
    "        if need_to_skip:\n",
    "            continue\n",
    "        if assigned_eater[cand_pray] == -1 or dfs(assigned_eater[cand_pray]):\n",
    "            assigned_eater[cand_pray] = shark\n",
    "            return True\n",
    "    return False\n",
    "        \n",
    "assigned_eater = [-1] * n\n",
    "count = 0\n",
    "for _ in range(2):\n",
    "    for shark in range(n):\n",
    "        visited = [False] * n\n",
    "        if dfs(shark):\n",
    "            count += 1\n",
    "print(n - count)"
   ]
  },
  {
   "cell_type": "code",
   "execution_count": 69,
   "metadata": {},
   "outputs": [
    {
     "data": {
      "text/plain": [
       "[-1,\n",
       " 0,\n",
       " 1,\n",
       " 2,\n",
       " 3,\n",
       " 4,\n",
       " 5,\n",
       " 6,\n",
       " 7,\n",
       " 8,\n",
       " 9,\n",
       " 10,\n",
       " 11,\n",
       " 12,\n",
       " 13,\n",
       " 14,\n",
       " 15,\n",
       " 16,\n",
       " 17,\n",
       " 18,\n",
       " 19,\n",
       " 20,\n",
       " 21,\n",
       " 22,\n",
       " 23,\n",
       " 24,\n",
       " 25,\n",
       " 26,\n",
       " 27,\n",
       " 28,\n",
       " 29,\n",
       " 30,\n",
       " 31,\n",
       " 32,\n",
       " 33,\n",
       " 34,\n",
       " 35,\n",
       " 36,\n",
       " 37,\n",
       " 38,\n",
       " 39,\n",
       " 40,\n",
       " 41,\n",
       " 42,\n",
       " 43,\n",
       " 44,\n",
       " 45,\n",
       " 46,\n",
       " 47,\n",
       " 48]"
      ]
     },
     "execution_count": 69,
     "metadata": {},
     "output_type": "execute_result"
    }
   ],
   "source": [
    "assigned_eater"
   ]
  },
  {
   "cell_type": "code",
   "execution_count": 62,
   "metadata": {},
   "outputs": [
    {
     "data": {
      "text/plain": [
       "[False, False, False, False, True]"
      ]
     },
     "execution_count": 62,
     "metadata": {},
     "output_type": "execute_result"
    }
   ],
   "source": [
    "visited"
   ]
  },
  {
   "cell_type": "code",
   "execution_count": null,
   "metadata": {},
   "outputs": [],
   "source": [
    "4\n",
    "1 1 1\n",
    "1 1 1\n",
    "1 1 1\n",
    "1 1 1\n",
    "1"
   ]
  },
  {
   "cell_type": "code",
   "execution_count": null,
   "metadata": {},
   "outputs": [],
   "source": [
    "6\n",
    "1 1 1\n",
    "1 1 1\n",
    "2 2 2\n",
    "2 2 2\n",
    "3 3 3\n",
    "3 3 3\n",
    "1"
   ]
  },
  {
   "cell_type": "code",
   "execution_count": null,
   "metadata": {},
   "outputs": [],
   "source": [
    "6\n",
    "5 5 5\n",
    "5 5 5\n",
    "4 2 2\n",
    "2 4 2\n",
    "2 2 4\n",
    "3 3 3\n",
    "2"
   ]
  },
  {
   "cell_type": "code",
   "execution_count": null,
   "metadata": {},
   "outputs": [],
   "source": [
    "5\n",
    "3 3 3\n",
    "3 3 3\n",
    "1 1 1\n",
    "1 2 1\n",
    "1 2 1\n",
    "1"
   ]
  }
 ],
 "metadata": {
  "kernelspec": {
   "display_name": "Python 3",
   "language": "python",
   "name": "python3"
  },
  "language_info": {
   "codemirror_mode": {
    "name": "ipython",
    "version": 3
   },
   "file_extension": ".py",
   "mimetype": "text/x-python",
   "name": "python",
   "nbconvert_exporter": "python",
   "pygments_lexer": "ipython3",
   "version": "3.7.3"
  }
 },
 "nbformat": 4,
 "nbformat_minor": 4
}
