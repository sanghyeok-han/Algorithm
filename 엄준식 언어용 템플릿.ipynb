{
 "cells": [
  {
   "cell_type": "code",
   "execution_count": 74,
   "metadata": {},
   "outputs": [],
   "source": [
    "def prime_factor(num):\n",
    "    r = []\n",
    "    for mod in range(2, int(num ** 0.5) + 1):\n",
    "         while True:\n",
    "            if num % mod == 0:\n",
    "                num //= mod\n",
    "                r.append(mod)\n",
    "            else:\n",
    "                break\n",
    "    \n",
    "    if num != 1:\n",
    "        r.append(num)\n",
    "    \n",
    "    if not r:\n",
    "        r.append(1)\n",
    "        \n",
    "    return r\n",
    "\n",
    "def get_s_num(num):\n",
    "    for_numbers = ['어,,', '어,', '어', '어.', '어..', '어...', '어....', '어.....', '어......', '어.......']\n",
    "\n",
    "    if num == 0:\n",
    "        s = '.,'\n",
    "    elif num < 0:\n",
    "        s = ',' * abs(num)\n",
    "    elif 48 <= num <= 57:\n",
    "        num -= 48\n",
    "        s = for_numbers[num]\n",
    "    else:\n",
    "        r = []\n",
    "        used = prime_factor(num)\n",
    "        for v in used:\n",
    "            r.append('.' * v)\n",
    "            \n",
    "        s = ' '.join(r)\n",
    "        \n",
    "    return s\n",
    "\n",
    "def string_to_code(s):\n",
    "    temp = []\n",
    "    for v in s:\n",
    "        code = f'식{get_s_num(ord(v))}ㅋ'\n",
    "        temp.append(code)\n",
    "    return temp"
   ]
  },
  {
   "cell_type": "markdown",
   "metadata": {},
   "source": [
    "### 스트링 출력"
   ]
  },
  {
   "cell_type": "code",
   "execution_count": 22,
   "metadata": {},
   "outputs": [
    {
     "name": "stdout",
     "output_type": "stream",
     "text": [
      "어떻게\n",
      "\n",
      "식.. .. .. ... ...ㅋ\n",
      "식.....................................................................................................ㅋ\n",
      "식.. .. ... ... ...ㅋ\n",
      "식.. .. ... ... ...ㅋ\n",
      "식... .....................................ㅋ\n",
      "식.. .. .. .. ..ㅋ\n",
      "식... .............................ㅋ\n",
      "식... .....................................ㅋ\n",
      "식.. ... ...................ㅋ\n",
      "식.. .. ... ... ...ㅋ\n",
      "식.. .. ..... .....ㅋ\n",
      "식... ...........ㅋ\n",
      "\n",
      "이 사람이름이냐ㅋㅋ\n"
     ]
    }
   ],
   "source": [
    "s = 'Hello World!'\n",
    "\n",
    "codes = ['어떻게', '']\n",
    "codes.extend(string_to_code(s))\n",
    "    \n",
    "codes.extend(['', '이 사람이름이냐ㅋㅋ'])\n",
    "\n",
    "for code in codes:\n",
    "    print(code)"
   ]
  },
  {
   "cell_type": "markdown",
   "metadata": {},
   "source": [
    "### 숫자 하나 브루트포스 반복문"
   ]
  },
  {
   "cell_type": "code",
   "execution_count": null,
   "metadata": {},
   "outputs": [],
   "source": [
    "1에는 1 2에는 12 3에는 123 출력"
   ]
  },
  {
   "cell_type": "code",
   "execution_count": 78,
   "metadata": {},
   "outputs": [
    {
     "name": "stdout",
     "output_type": "stream",
     "text": [
      "어떻게\n",
      "\n",
      "어엄식?\n",
      "엄..... ..... ..\n",
      "동탄어어,?준.......\n",
      "준... ...\n",
      "식어,ㅋ\n",
      "화이팅!\n",
      "동탄어어,,?준...........\n",
      "준.. .......\n",
      "식어,ㅋ\n",
      "식어ㅋ\n",
      "화이팅!\n",
      "동탄어어,,,?준.. .. .. ..\n",
      "준.. .. .....\n",
      "식어,ㅋ\n",
      "식어ㅋ\n",
      "식어.ㅋ\n",
      "화이팅!\n",
      "\n",
      "이 사람이름이냐ㅋㅋ\n"
     ]
    }
   ],
   "source": [
    "outputs = ['', '1', '12', '123']\n",
    "\n",
    "codes = ['어떻게', '', '어엄식?', '엄..... ..... ..']\n",
    "cur_line = len(codes) + 1\n",
    "for n in range(1, 4):\n",
    "    cond_code = f'동탄어어{\",\" * n}?준{get_s_num(cur_line + 2)}'\n",
    "    codes.append(cond_code)\n",
    "    cur_line += 1\n",
    "    \n",
    "    nxt = cur_line + len(outputs[n]) + 2\n",
    "    nxt_code = f'준{get_s_num(nxt)}'\n",
    "    codes.append(nxt_code)\n",
    "    \n",
    "    codes.extend(string_to_code(outputs[n]))\n",
    "    codes.append('화이팅!')\n",
    "    \n",
    "    cur_line = nxt\n",
    "    \n",
    "codes.extend(['', '이 사람이름이냐ㅋㅋ'])\n",
    "\n",
    "for code in codes:\n",
    "    print(code)"
   ]
  },
  {
   "cell_type": "markdown",
   "metadata": {},
   "source": [
    "### 숫자 하나 브루트포스 반복문 (테케 여러 개)"
   ]
  },
  {
   "cell_type": "code",
   "execution_count": 45,
   "metadata": {},
   "outputs": [
    {
     "name": "stdout",
     "output_type": "stream",
     "text": [
      "어떻게\n",
      "\n",
      "어어엄식?\n",
      "\n",
      "엄식?\n",
      "\n",
      "동탄어,?준... ...\n",
      "준...........\n",
      "식....... .......ㅋ\n",
      "준.. ...........\n",
      "동탄어,,?준.............\n",
      "준.. .. .. ..\n",
      "식....... .......ㅋ\n",
      "식.. ..... .....ㅋ\n",
      "준.. ...........\n",
      "동탄어,,,?준.. ... ...\n",
      "준.. ...........\n",
      "식....... .......ㅋ\n",
      "식.. ..... .....ㅋ\n",
      "식... .................ㅋ\n",
      "준.. ...........\n",
      "\n",
      "식ㅋ\n",
      "어어엄어어어,\n",
      "동탄어어어?준... ... ...\n",
      "준.....\n",
      "\n",
      "이 사람이름이냐ㅋㅋ\n"
     ]
    }
   ],
   "source": [
    "outputs = ['', '1', '12', '123']\n",
    "\n",
    "codes = ['어떻게', '', '어어엄식?', '', '어엄식?', '엄..... ..... ..']\n",
    "cur_line = len(codes) + 1\n",
    "for n in range(1, 4):\n",
    "    cond_code = f'동탄어어{\",\" * n}?준{get_s_num(cur_line + 2)}'\n",
    "    codes.append(cond_code)\n",
    "    cur_line += 1\n",
    "    \n",
    "    nxt = cur_line + len(outputs[n]) + 2\n",
    "    nxt_code = f'준{get_s_num(nxt)}'\n",
    "    codes.append(nxt_code)\n",
    "    \n",
    "    codes.extend(string_to_code(outputs[n]))\n",
    "    codes.append('준end_line')\n",
    "    \n",
    "    cur_line = nxt\n",
    "    \n",
    "for i in range(len(codes)):\n",
    "    codes[i] = codes[i].replace('end_line', f'{get_s_num(nxt)}')\n",
    "    \n",
    "codes.extend(['', '식ㅋ', '어어엄어어어,'])\n",
    "cur_line = len(codes) + 1\n",
    "\n",
    "to_end = f'동탄어어어?준{get_s_num(cur_line + 2)}'\n",
    "codes.append(to_end)\n",
    "\n",
    "to_init = f'준{get_s_num(codes.index(\"어엄식?\") + 1)}'\n",
    "codes.append(to_init)\n",
    "\n",
    "codes.extend(['', '이 사람이름이냐ㅋㅋ'])\n",
    "\n",
    "for code in codes:\n",
    "    print(code)"
   ]
  },
  {
   "cell_type": "markdown",
   "metadata": {},
   "source": [
    "### 숫자 여러 개 브루트포스 반복문 (temp)"
   ]
  },
  {
   "cell_type": "code",
   "execution_count": 58,
   "metadata": {},
   "outputs": [
    {
     "data": {
      "text/plain": [
       "[['', '', ''], ['', '11', '12'], ['', '21', '22']]"
      ]
     },
     "execution_count": 58,
     "metadata": {},
     "output_type": "execute_result"
    }
   ],
   "source": [
    "outputs = [[''] * 3 for _ in range(3)]\n",
    "for n in range(1, 3):\n",
    "    for m in range(1, 3):\n",
    "        outputs[n][m] = f'{n}{m}'\n",
    "        \n",
    "outputs"
   ]
  },
  {
   "cell_type": "code",
   "execution_count": 70,
   "metadata": {},
   "outputs": [
    {
     "name": "stdout",
     "output_type": "stream",
     "text": [
      "[['', '', ''], ['', '11', '12'], ['', '21', '22']]\n",
      "어떻게\n",
      "\n",
      "엄식?\n",
      "어엄식?\n",
      "\n",
      "동탄어,?준.. .. ..\n",
      "준.............\n",
      "동탄어어,?준.. .....\n",
      "준.............\n",
      "식....... .......ㅋ\n",
      "식....... .......ㅋ\n",
      "화이팅!\n",
      "동탄어,?준... .....\n",
      "준.. .. .....\n",
      "동탄어어,,?준.................\n",
      "준.. .. .....\n",
      "식....... .......ㅋ\n",
      "식.. ..... .....ㅋ\n",
      "화이팅!\n",
      "동탄어,,?준.. ...........\n",
      "준... ... ...\n",
      "동탄어어,?준.. .. .. ...\n",
      "준... ... ...\n",
      "식.. ..... .....ㅋ\n",
      "식....... .......ㅋ\n",
      "화이팅!\n",
      "동탄어,,?준.............................\n",
      "준.. .................\n",
      "동탄어어,,?준...............................\n",
      "준.. .................\n",
      "식.. ..... .....ㅋ\n",
      "식.. ..... .....ㅋ\n",
      "화이팅!\n",
      "\n",
      "이 사람이름이냐ㅋㅋ\n"
     ]
    }
   ],
   "source": [
    "outputs = [[''] * 3 for _ in range(3)]\n",
    "for n in range(1, 3):\n",
    "    for m in range(1, 3):\n",
    "        outputs[n][m] = f'{n}{m}'\n",
    "        \n",
    "print(outputs)\n",
    "\n",
    "codes = ['어떻게', '', '엄식?', '어엄식?', '']\n",
    "cur_line = len(codes) + 1\n",
    "for n in range(1, 3):\n",
    "    for m in range(1, 3):\n",
    "        nxt = cur_line + len(outputs[n][m]) + 5\n",
    "        \n",
    "        cond_code1 = f'동탄어{get_s_num(n).replace(\".\", \",\")}?준{get_s_num(cur_line + 2)}'\n",
    "        codes.append(cond_code1)\n",
    "        cur_line += 3\n",
    "        \n",
    "        nxt_code = f'준{get_s_num(nxt)}'\n",
    "        codes.append(nxt_code)\n",
    "        \n",
    "        cond_code2 = f'동탄어어{get_s_num(m).replace(\".\", \",\")}?준{get_s_num(cur_line + 1)}'\n",
    "        codes.append(cond_code2)\n",
    "        \n",
    "        nxt_code = f'준{get_s_num(nxt)}'\n",
    "        codes.append(nxt_code)\n",
    "        \n",
    "        codes.extend(string_to_code(outputs[n][m]))\n",
    "        codes.append('화이팅!')\n",
    "\n",
    "        cur_line = nxt\n",
    "    \n",
    "codes.extend(['', '이 사람이름이냐ㅋㅋ'])\n",
    "\n",
    "for code in codes:\n",
    "    print(code)"
   ]
  }
 ],
 "metadata": {
  "kernelspec": {
   "display_name": "Python 3",
   "language": "python",
   "name": "python3"
  },
  "language_info": {
   "codemirror_mode": {
    "name": "ipython",
    "version": 3
   },
   "file_extension": ".py",
   "mimetype": "text/x-python",
   "name": "python",
   "nbconvert_exporter": "python",
   "pygments_lexer": "ipython3",
   "version": "3.7.4"
  }
 },
 "nbformat": 4,
 "nbformat_minor": 2
}
