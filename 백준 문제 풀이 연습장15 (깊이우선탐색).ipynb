{
 "cells": [
  {
   "cell_type": "markdown",
   "metadata": {},
   "source": [
    "### 회의실 배정 2 19621\n",
    "- 브루트포스, 정렬, 백트래킹"
   ]
  },
  {
   "cell_type": "code",
   "execution_count": 7,
   "metadata": {},
   "outputs": [
    {
     "name": "stdout",
     "output_type": "stream",
     "text": [
      "6\n",
      "10 40 80\n",
      "30 60 60\n",
      "50 80 70\n",
      "70 100 100\n",
      "90 120 40\n",
      "110 140 50\n",
      "230\n"
     ]
    }
   ],
   "source": [
    "# 동적계획법으로 풀었음, 회의실 배정 3 19622는 같은 코드에 input만 sys로 받아서 풀었음\n",
    "dp = []\n",
    "\n",
    "n = int(input())\n",
    "for i in range(n):\n",
    "    _, _, value = map(int, input().split())\n",
    "    \n",
    "    if i == 0:\n",
    "         dp.append((value, 0))\n",
    "    else:\n",
    "        dp.append((dp[-1][1] + value, max(dp[-1])))\n",
    "        \n",
    "print(max(dp[-1]))"
   ]
  },
  {
   "cell_type": "code",
   "execution_count": 15,
   "metadata": {},
   "outputs": [
    {
     "name": "stdout",
     "output_type": "stream",
     "text": [
      "6\n",
      "10 40 80\n",
      "30 60 60\n",
      "50 80 70\n",
      "70 100 100\n",
      "90 120 40\n",
      "110 140 50\n",
      "230\n"
     ]
    }
   ],
   "source": [
    "# 숏코딩\n",
    "l=[int(input().split()[2])for _ in range(int(input()))];d=[(l[0],0)];del l[0]\n",
    "for v in l:d.append((d[-1][1]+v,max(d[-1])))\n",
    "print(max(d[-1]))"
   ]
  },
  {
   "cell_type": "markdown",
   "metadata": {},
   "source": [
    "### ABCDE 13023"
   ]
  },
  {
   "cell_type": "code",
   "execution_count": 4,
   "metadata": {},
   "outputs": [
    {
     "name": "stdout",
     "output_type": "stream",
     "text": [
      "1\n"
     ]
    }
   ],
   "source": [
    "import sys\n",
    "# input = sys.stdin.readline\n",
    "\n",
    "n, m = map(int, input().rstrip().split())\n",
    "\n",
    "li = [[] for _ in range(n)]\n",
    "for _ in range(m):\n",
    "    a, b = map(int, input().rstrip().split())\n",
    "    li[a].append(b)\n",
    "    li[b].append(a)\n",
    "\n",
    "stack = []\n",
    "stack.extend([(i, set([i])) for i in range(n)])\n",
    "\n",
    "result = 0\n",
    "while stack:\n",
    "    value, acc = stack.pop()\n",
    "    \n",
    "    if len(acc) == 5:\n",
    "        result = 1\n",
    "        break\n",
    "    \n",
    "    for v in li[value]:\n",
    "        if v not in acc:\n",
    "            new_acc = acc.copy()\n",
    "            new_acc.add(v)\n",
    "            stack.append((v, new_acc))\n",
    "            \n",
    "print(result)"
   ]
  },
  {
   "cell_type": "markdown",
   "metadata": {},
   "source": [
    "### 텀 프로젝트 9466"
   ]
  },
  {
   "cell_type": "code",
   "execution_count": 12,
   "metadata": {},
   "outputs": [
    {
     "name": "stdout",
     "output_type": "stream",
     "text": [
      "3\n",
      "3 3 3\n",
      "2\n"
     ]
    }
   ],
   "source": [
    "import sys\n",
    "input = lambda: sys.stdin.readline().rstrip()\n",
    "\n",
    "def get_value(v):\n",
    "    return int(v) - 1\n",
    "\n",
    "for _ in range(int(input())):\n",
    "    n = int(input())\n",
    "    li = list(map(get_value, input().split()))\n",
    "    \n",
    "    counts = [[0, 0] for _ in range(n)] # counts[순회에서 몇 번째로 만났는지, 몇 번째 순회인지]\n",
    "    in_team_count = 0\n",
    "    current_dfs_count = 1\n",
    "    for v in range(n):\n",
    "        if counts[v][0]:\n",
    "            continue\n",
    "        counts[v] = [1, current_dfs_count]\n",
    "        while True:\n",
    "            nv = li[v]\n",
    "            if counts[nv][0] >= 1:\n",
    "                if counts[nv][1] == current_dfs_count:\n",
    "                    in_team_count += counts[v][0] - counts[nv][0] + 1\n",
    "                break\n",
    "            else:\n",
    "                counts[nv] = [counts[v][0] + 1, current_dfs_count]\n",
    "                v = nv\n",
    "        current_dfs_count += 1\n",
    "\n",
    "    print(n - in_team_count)"
   ]
  },
  {
   "cell_type": "code",
   "execution_count": 17,
   "metadata": {},
   "outputs": [
    {
     "name": "stdout",
     "output_type": "stream",
     "text": [
      "2\n",
      "7\n",
      "3 1 3 7 3 4 6\n",
      "3\n",
      "8\n",
      "1 2 3 4 5 6 7 8\n",
      "0\n"
     ]
    }
   ],
   "source": [
    "import sys\n",
    "# input = lambda: sys.stdin.readline().rstrip()\n",
    "\n",
    "def get_value(v):\n",
    "    return int(v) - 1\n",
    "\n",
    "for _ in range(int(input())):\n",
    "    n = int(input())\n",
    "    li = list(map(get_value, input().split()))\n",
    "    \n",
    "    iters = [0] * n # 몇 번째 순회인지\n",
    "    mets = [0] * n # 순회에서 몇 번째로 만났는지\n",
    "    \n",
    "    in_team_count = 0\n",
    "    current_dfs_count = 1\n",
    "    for v in range(n):\n",
    "        if mets[v]:\n",
    "            continue\n",
    "        iters[v] = current_dfs_count\n",
    "        mets[v] = 1\n",
    "        while True:\n",
    "            nv = li[v]\n",
    "            if mets[nv] >= 1:\n",
    "                if iters[nv] == current_dfs_count:\n",
    "                    in_team_count += mets[v] - mets[nv] + 1\n",
    "                break\n",
    "            else:\n",
    "                iters[nv] = current_dfs_count\n",
    "                mets[nv] = mets[v] + 1\n",
    "                v = nv\n",
    "        current_dfs_count += 1\n",
    "\n",
    "    print(n - in_team_count)"
   ]
  },
  {
   "cell_type": "markdown",
   "metadata": {},
   "source": [
    "### 그래프 탐색 2"
   ]
  },
  {
   "cell_type": "code",
   "execution_count": 19,
   "metadata": {},
   "outputs": [
    {
     "name": "stdout",
     "output_type": "stream",
     "text": [
      "5 3\n",
      "1 2\n",
      "1 3\n",
      "2 4\n",
      "5\n",
      "2 3\n",
      "0 1 1 2 -1 \n",
      "4 5\n",
      "0 1 1 2 3 \n",
      "3 4\n",
      "0 1 1 2 3 \n",
      "1 4\n",
      "0 1 1 1 2 \n",
      "1 5\n",
      "0 1 1 1 1 \n"
     ]
    }
   ],
   "source": [
    "from collections import deque\n",
    "import sys\n",
    "input = lambda: sys.stdin.readline().rstrip()\n",
    "\n",
    "n, m = map(int, input().split())\n",
    "li = [[] for _ in range(n + 1)]\n",
    "for _ in range(m):\n",
    "    a, b = map(int, input().split())\n",
    "    li[a].append(b)\n",
    "    li[b].append(a)\n",
    "\n",
    "for _ in range(int(input())):\n",
    "    a, b = map(int, input().split())\n",
    "    li[a].append(b)\n",
    "    li[b].append(a)\n",
    "    \n",
    "    queue = deque()\n",
    "    queue.append(1)\n",
    "    distance = [float('inf')] * (n + 1)\n",
    "    distance[1] = 0\n",
    "\n",
    "    while queue:\n",
    "        value = queue.popleft()\n",
    "\n",
    "        for v in li[value]:\n",
    "            if distance[value] + 1 < distance[v]:\n",
    "                distance[v] = distance[value] + 1\n",
    "                queue.append(v)\n",
    "    for i in range(1, n + 1):\n",
    "        if distance[i] == float('inf'):\n",
    "            distance[i] = -1\n",
    "        print(distance[i], end=' ')\n",
    "    print()"
   ]
  },
  {
   "cell_type": "markdown",
   "metadata": {},
   "source": [
    "### 미친 로봇 1405"
   ]
  },
  {
   "cell_type": "code",
   "execution_count": 45,
   "metadata": {},
   "outputs": [
    {
     "name": "stdout",
     "output_type": "stream",
     "text": [
      "2 25 25 25 25\n",
      "0.75\n"
     ]
    }
   ],
   "source": [
    "li = list(map(int, input().split()))\n",
    "\n",
    "N = li[0]\n",
    "del li[0]\n",
    "pers = list(map(lambda x: x * 0.01, li))\n",
    "\n",
    "dx = [0, 0, 1, -1]\n",
    "dy = [1, -1, 0, 0]\n",
    "\n",
    "result = 0\n",
    "\n",
    "def dfs(c, x, y, visited, p):\n",
    "    global result\n",
    "    \n",
    "    if c == N:\n",
    "        result += p\n",
    "        return\n",
    "    nc = c + 1\n",
    "    for i in range(4):\n",
    "        nx = x + dx[i]\n",
    "        ny = y + dy[i]\n",
    "    \n",
    "        if (nx, ny) not in visited:\n",
    "            visited.add((nx, ny))\n",
    "            dfs(nc, nx, ny, visited, p * pers[i])\n",
    "            visited.discard((nx, ny))\n",
    "\n",
    "dfs(0, 0, 0, {(0, 0)}, 1)\n",
    "print(result)"
   ]
  },
  {
   "cell_type": "code",
   "execution_count": 47,
   "metadata": {},
   "outputs": [
    {
     "name": "stdout",
     "output_type": "stream",
     "text": [
      "2 25 25 25 25\n",
      "0.75\n"
     ]
    }
   ],
   "source": [
    "def dfs(c, x, y, p):\n",
    "    global result\n",
    "    \n",
    "    if c == N:\n",
    "        result += p\n",
    "        return\n",
    "    nc = c + 1\n",
    "    for i in range(4):\n",
    "        nx = x + dx[i]\n",
    "        ny = y + dy[i]\n",
    "        if not visited[nx][ny]:\n",
    "            visited[nx][ny] = True\n",
    "            dfs(nc, nx, ny, p * pers[i])\n",
    "            visited[nx][ny] = False\n",
    "\n",
    "li = list(map(int, input().split()))\n",
    "\n",
    "N = li[0]\n",
    "del li[0]\n",
    "pers = list(map(lambda x: x * 0.01, li))\n",
    "\n",
    "dx = [0, 0, 1, -1]\n",
    "dy = [1, -1, 0, 0]\n",
    "\n",
    "visited = [[False] * 29 for _ in range(29)]\n",
    "visited[14][14] = True\n",
    "result = 0\n",
    "dfs(0, 14, 14, 1)\n",
    "print(result)"
   ]
  },
  {
   "cell_type": "markdown",
   "metadata": {},
   "source": [
    "### 신기한 소수 2023"
   ]
  },
  {
   "cell_type": "code",
   "execution_count": 49,
   "metadata": {},
   "outputs": [
    {
     "name": "stdout",
     "output_type": "stream",
     "text": [
      "4\n",
      "2333\n",
      "2339\n",
      "2393\n",
      "2399\n",
      "2939\n",
      "3119\n",
      "3137\n",
      "3733\n",
      "3739\n",
      "3793\n",
      "3797\n",
      "5939\n",
      "7193\n",
      "7331\n",
      "7333\n",
      "7393\n"
     ]
    }
   ],
   "source": [
    "n = int(input())\n",
    "\n",
    "def check(value):\n",
    "    for i in range(2, int(value ** 0.5) + 1):\n",
    "        if value % i == 0:\n",
    "            return False\n",
    "    return True\n",
    "\n",
    "def dfs(c, value):\n",
    "    if c == n:\n",
    "        print(value)\n",
    "    else:\n",
    "        for v in [1, 3, 7, 9]:\n",
    "            nvalue = value * 10 + v\n",
    "            if nvalue % 3 == 0:\n",
    "                continue\n",
    "            if check(nvalue):\n",
    "                dfs(c + 1, nvalue)\n",
    "        \n",
    "for value in [2, 3, 5, 7]:\n",
    "    dfs(1, value)"
   ]
  },
  {
   "cell_type": "markdown",
   "metadata": {},
   "source": [
    "### 숫자고르기 2668"
   ]
  },
  {
   "cell_type": "code",
   "execution_count": 72,
   "metadata": {},
   "outputs": [
    {
     "data": {
      "text/plain": [
       "{1}"
      ]
     },
     "execution_count": 72,
     "metadata": {},
     "output_type": "execute_result"
    }
   ],
   "source": [
    "set([i])"
   ]
  },
  {
   "cell_type": "code",
   "execution_count": 85,
   "metadata": {},
   "outputs": [
    {
     "name": "stdout",
     "output_type": "stream",
     "text": [
      "7\n",
      "3\n",
      "1\n",
      "1\n",
      "5\n",
      "5\n",
      "4\n",
      "6\n",
      "3\n",
      "1\n",
      "3\n",
      "5\n"
     ]
    }
   ],
   "source": [
    "def dfs(value, s):\n",
    "    v = li[value]\n",
    "    if visited[v]:\n",
    "        return []\n",
    "    if v in s:\n",
    "        return s[s.index(v):]\n",
    "    return dfs(v, s + [v])\n",
    "    \n",
    "n = int(input())\n",
    "li = [0] + [int(input()) for _ in range(n)]\n",
    "    \n",
    "visited = [False] * (n + 1)\n",
    "selected = []\n",
    "for i in range(1, n + 1):\n",
    "    if visited[i]:\n",
    "        continue\n",
    "    s = dfs(i, [i])\n",
    "    for v in s:\n",
    "        visited[v] = True\n",
    "    selected.extend(s)\n",
    "    \n",
    "print(len(selected))\n",
    "selected.sort()\n",
    "print('\\n'.join(map(str, selected)))"
   ]
  },
  {
   "cell_type": "markdown",
   "metadata": {},
   "source": [
    "### 소문난 칠공주 1941"
   ]
  },
  {
   "cell_type": "raw",
   "metadata": {},
   "source": [
    "7명의 자리를 뽑는 모든 케이스를 만듦\n",
    "각각의 케이스마다 'S'가 4개 미만으로 있을시 continue함\n",
    "각각의 케이스마다 bfs를 사용해서 한 곳에서 다른 곳까지 도달 가능한지 확인함"
   ]
  },
  {
   "cell_type": "code",
   "execution_count": null,
   "metadata": {},
   "outputs": [],
   "source": [
    "01234\n",
    "56789\n",
    "    14\n",
    "    19\n",
    "    24"
   ]
  },
  {
   "cell_type": "code",
   "execution_count": 88,
   "metadata": {},
   "outputs": [
    {
     "name": "stdout",
     "output_type": "stream",
     "text": [
      "YYYYY\n",
      "SYSYS\n",
      "YYYYY\n",
      "YSYYS\n",
      "YYYYY\n",
      "2\n"
     ]
    }
   ],
   "source": [
    "from itertools import combinations\n",
    "from collections import deque\n",
    "\n",
    "def check():\n",
    "    sx, sy = coords.pop()\n",
    "    visited = set()\n",
    "    visited.add((sx, sy))\n",
    "    \n",
    "    queue = deque()\n",
    "    queue.append((sx, sy))\n",
    "    while queue:\n",
    "        x, y = queue.popleft()\n",
    "        for i in range(4):\n",
    "            nx = x + dx[i]\n",
    "            ny = y + dy[i]\n",
    "            if (nx, ny) in coords:\n",
    "                if (nx, ny) not in visited:\n",
    "                    visited.add((nx, ny))\n",
    "                    queue.append((nx, ny))\n",
    "                    \n",
    "    return True if len(visited) == 7 else False\n",
    "\n",
    "dx = [-1, 1, 0, 0]\n",
    "dy = [0, 0, -1, 1]\n",
    "    \n",
    "li = [input() for _ in range(5)]\n",
    "cases = combinations(range(25), 7)\n",
    "result = 0\n",
    "for case in cases:\n",
    "    coords = {(i // 5, i % 5) for i in case}\n",
    "    s_count = 0\n",
    "    for x, y in coords:\n",
    "        if li[x][y] == 'S':\n",
    "            s_count += 1\n",
    "    if s_count <= 3:\n",
    "        continue\n",
    "    if check():\n",
    "        result += 1\n",
    "print(result)"
   ]
  },
  {
   "cell_type": "markdown",
   "metadata": {},
   "source": [
    "### DFS 스페셜 저지 16964"
   ]
  },
  {
   "cell_type": "code",
   "execution_count": 114,
   "metadata": {},
   "outputs": [
    {
     "name": "stdout",
     "output_type": "stream",
     "text": [
      "3\n",
      "1 2\n",
      "2 3\n",
      "1 3 2\n",
      "0\n"
     ]
    }
   ],
   "source": [
    "import sys\n",
    "# input = lambda: sys.stdin.readline().rstrip()\n",
    "\n",
    "n = int(input())\n",
    "li = [set() for _ in range(n + 1)]\n",
    "for _ in range(n - 1):\n",
    "    a, b = map(int, input().split())\n",
    "    li[a].add(b)\n",
    "    li[b].add(a)\n",
    "    \n",
    "seq = list(map(int, input().split()))\n",
    "\n",
    "def check(): \n",
    "    stack = [seq[0]]\n",
    "    for i in range(1, n):\n",
    "        value = seq[i]\n",
    "        while stack and value not in li[stack[-1]]:\n",
    "            stack.pop()\n",
    "            \n",
    "        if not stack:\n",
    "            return 0\n",
    "        stack.append(value)\n",
    "    return 1\n",
    "\n",
    "print(check())"
   ]
  }
 ],
 "metadata": {
  "kernelspec": {
   "display_name": "Python 3",
   "language": "python",
   "name": "python3"
  },
  "language_info": {
   "codemirror_mode": {
    "name": "ipython",
    "version": 3
   },
   "file_extension": ".py",
   "mimetype": "text/x-python",
   "name": "python",
   "nbconvert_exporter": "python",
   "pygments_lexer": "ipython3",
   "version": "3.7.3"
  }
 },
 "nbformat": 4,
 "nbformat_minor": 4
}
