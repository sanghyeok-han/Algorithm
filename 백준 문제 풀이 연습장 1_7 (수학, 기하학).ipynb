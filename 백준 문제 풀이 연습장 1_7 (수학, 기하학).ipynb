{
 "cells": [
  {
   "cell_type": "markdown",
   "metadata": {},
   "source": [
    "https://www.acmicpc.net/problem/13255 동전 뒤집기"
   ]
  },
  {
   "cell_type": "code",
   "execution_count": null,
   "metadata": {},
   "outputs": [],
   "source": [
    "max_n = 1000\n",
    "max_k = 1000\n",
    "\n",
    "c_dp = [[0] * (max_k + 1) for _ in range(max_n + 1)]\n",
    "for nn in range(max_n + 1):\n",
    "    c_dp[nn][0] = 1\n",
    "    cur = 1\n",
    "    for kk in range(1, max_k + 1):\n",
    "        if kk > nn:\n",
    "            break\n",
    "        cur = cur * (nn - (kk - 1)) // kk\n",
    "        c_dp[nn][kk] = cur\n",
    "\n",
    "nCk = lambda n, k: c_dp[n][k]\n",
    "\n",
    "n = int(input())\n",
    "k = int(input())\n",
    "li = list(map(int, input().split()))\n",
    "\n",
    "dp = [[0] * (n + 1) for _ in range(k + 1)] # dp[cur_k][cur_n] = p_front\n",
    "dp[0][n] = 1\n",
    "\n",
    "for cur_k in range(k):\n",
    "    tsc = li[cur_k] # to_select_c\n",
    "    \n",
    "    for front_c in range(n + 1):\n",
    "        cur_p = dp[cur_k][front_c]\n",
    "        back_c = n - front_c\n",
    "        \n",
    "        for selected_front_c in range(tsc + 1):\n",
    "            selected_back_c = tsc - selected_front_c\n",
    "            \n",
    "            if selected_front_c > front_c or selected_back_c > back_c:\n",
    "                continue\n",
    "                \n",
    "            r = cur_p * (nCk(front_c, selected_front_c) * nCk(back_c, selected_back_c) / nCk(n, tsc))\n",
    "            \n",
    "            front_c_delta = selected_back_c - selected_front_c\n",
    "            dp[cur_k + 1][front_c + front_c_delta] += r\n",
    "            \n",
    "cur_k = k\n",
    "total = 0\n",
    "for front_c in range(n + 1):\n",
    "    total += front_c * dp[cur_k][front_c]\n",
    "    \n",
    "print(total)"
   ]
  },
  {
   "cell_type": "code",
   "execution_count": 17,
   "metadata": {},
   "outputs": [
    {
     "name": "stdout",
     "output_type": "stream",
     "text": [
      "10\n",
      "3\n",
      "10 10 10\n",
      "0.0\n"
     ]
    }
   ],
   "source": [
    "n = int(input())\n",
    "k = int(input())\n",
    "li = list(map(int, input().split()))\n",
    "\n",
    "cur_f = n\n",
    "for cur_k in range(k):\n",
    "    tsc = li[cur_k] # to_select_c\n",
    "    \n",
    "    cur_b = n - cur_f\n",
    "    \n",
    "    cur_f = (tsc / n) * cur_b + (n - tsc) / n * cur_f\n",
    "    \n",
    "print(cur_f)"
   ]
  },
  {
   "cell_type": "markdown",
   "metadata": {},
   "source": [
    "https://www.acmicpc.net/problem/19847 여우 신탁"
   ]
  },
  {
   "cell_type": "code",
   "execution_count": 26,
   "metadata": {},
   "outputs": [
    {
     "name": "stdout",
     "output_type": "stream",
     "text": [
      "1\n",
      "6\n",
      "2.5\n"
     ]
    }
   ],
   "source": [
    "n = int(input())\n",
    "li = list(map(int, input().split()))\n",
    "\n",
    "dp = [1/li[0]] * li[0]\n",
    "\n",
    "cur = li[0]\n",
    "for i in range(1, n):\n",
    "    ncur = li[i]\n",
    "    \n",
    "    if cur <= ncur:\n",
    "        continue\n",
    "    \n",
    "    if cur >= ncur * 2:\n",
    "        ndp = [0] * ncur\n",
    "        \n",
    "        for num in range(cur):\n",
    "            ndp[num % ncur] += dp[num]\n",
    "            \n",
    "        dp = ndp.copy()\n",
    "    else:\n",
    "        diff = cur - ncur\n",
    "        ni = 0\n",
    "        for num in range(cur - diff, cur):\n",
    "            dp[ni] += dp[num]\n",
    "            ni += 1\n",
    "            \n",
    "    cur = ncur\n",
    "    \n",
    "result = 0\n",
    "for i in range(cur):\n",
    "    result += i * dp[i]\n",
    "    \n",
    "print(result)"
   ]
  },
  {
   "cell_type": "markdown",
   "metadata": {},
   "source": [
    "https://www.acmicpc.net/problem/13257 생태학"
   ]
  },
  {
   "cell_type": "code",
   "execution_count": 47,
   "metadata": {},
   "outputs": [
    {
     "name": "stdout",
     "output_type": "stream",
     "text": [
      "8 3 3 7\n",
      "0.2582908163265306\n"
     ]
    }
   ],
   "source": [
    "def nCk(n, k):\n",
    "    if n < k:\n",
    "        return 0\n",
    "    if k < 0:\n",
    "        return 0\n",
    "    \n",
    "    if n - k < k:\n",
    "        k = n - k\n",
    "        \n",
    "    num = 1\n",
    "    for i in range(n, n - k, -1):\n",
    "        num *= i\n",
    "    \n",
    "    denom = 1\n",
    "    for i in range(2, k + 1):\n",
    "        denom *= i\n",
    "        \n",
    "    return num // denom\n",
    "\n",
    "n, c, d, m = map(int, input().split())\n",
    "\n",
    "dp = [[0] * (n + 1) for _ in range(d + 1)]\n",
    "dp[0][0] = 1\n",
    "\n",
    "all_case_c = nCk(n, c)\n",
    "for cur_d in range(d):\n",
    "    for on_c in range(n + 1):\n",
    "        not_on_c = n - on_c\n",
    "        for on_to_add_c in range(c + 1):\n",
    "            cur_p = dp[cur_d][on_c] * nCk(not_on_c, on_to_add_c) * nCk(on_c, c - on_to_add_c) / all_case_c\n",
    "            \n",
    "            if cur_p:\n",
    "                dp[cur_d + 1][on_c + on_to_add_c] += cur_p\n",
    "\n",
    "result = dp[d][m]\n",
    "\n",
    "print(result)"
   ]
  },
  {
   "cell_type": "markdown",
   "metadata": {},
   "source": [
    "https://www.acmicpc.net/problem/23846 징검다리 건너기"
   ]
  },
  {
   "cell_type": "code",
   "execution_count": 98,
   "metadata": {},
   "outputs": [
    {
     "name": "stdout",
     "output_type": "stream",
     "text": [
      "4 2\n",
      "0.06172839506172839\n"
     ]
    }
   ],
   "source": [
    "n, k = map(int, input().split())\n",
    "\n",
    "dp = [[0] * 3 for _ in range(n + 1)]\n",
    "dp[0][2] = 1\n",
    "\n",
    "for _ in range(k):\n",
    "    for i in range(n):\n",
    "        dp[i + 1][2] += dp[i][0]\n",
    "        dp[i][0] = 0\n",
    "        \n",
    "        dp[i + 1][2] += dp[i][1] * 1/2\n",
    "        dp[i][0] += dp[i][1] * 1/2\n",
    "        dp[i][1] = 0\n",
    "        \n",
    "        dp[i + 1][2] += dp[i][2] * 1/3\n",
    "        dp[i][1] += dp[i][2] * 2/3\n",
    "        dp[i][2] = 0\n",
    "\n",
    "result = dp[n][2]\n",
    "\n",
    "print(result)"
   ]
  },
  {
   "cell_type": "markdown",
   "metadata": {},
   "source": [
    "https://www.acmicpc.net/problem/15997 승부 예측"
   ]
  },
  {
   "cell_type": "code",
   "execution_count": null,
   "metadata": {},
   "outputs": [],
   "source": []
  }
 ],
 "metadata": {
  "kernelspec": {
   "display_name": "Python 3",
   "language": "python",
   "name": "python3"
  },
  "language_info": {
   "codemirror_mode": {
    "name": "ipython",
    "version": 3
   },
   "file_extension": ".py",
   "mimetype": "text/x-python",
   "name": "python",
   "nbconvert_exporter": "python",
   "pygments_lexer": "ipython3",
   "version": "3.7.4"
  }
 },
 "nbformat": 4,
 "nbformat_minor": 2
}
