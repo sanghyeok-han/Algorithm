{
 "cells": [
  {
   "cell_type": "markdown",
   "metadata": {},
   "source": [
    "https://www.acmicpc.net/problem/1763 트리 색칠"
   ]
  },
  {
   "cell_type": "code",
   "execution_count": 51,
   "metadata": {},
   "outputs": [
    {
     "name": "stdout",
     "output_type": "stream",
     "text": [
      "6 1\n",
      "1 4 5 1 1 5\n",
      "1 2\n",
      "1 3\n",
      "3 4\n",
      "4 5\n",
      "5 6\n",
      "62\n"
     ]
    }
   ],
   "source": [
    "from heapq import heappush, heappop\n",
    "import io, os, sys\n",
    "# input = io.BytesIO(os.read(0, os.fstat(0).st_size)).readline\n",
    "\n",
    "n, r = map(int, input().split())\n",
    "r -= 1\n",
    "cs = list(map(int, input().split()))\n",
    "\n",
    "li = [[] for _ in range(n)]\n",
    "for _ in range(n - 1):\n",
    "    u, v = map(int, input().split())\n",
    "    u -= 1\n",
    "    v -= 1\n",
    "\n",
    "    li[u].append(v)\n",
    "    \n",
    "def dfs(value):\n",
    "    vt[value] = True\n",
    "    \n",
    "    temp = []\n",
    "    for v in li[value]:\n",
    "        if vt[v]:\n",
    "            continue\n",
    "            \n",
    "        dfs(v)\n",
    "        temp.append((ws[v], used[v]))\n",
    "        \n",
    "    to_check = [(cs[value], 1)] + sorted(temp, reverse=True)\n",
    "    \n",
    "    cur_max = -1\n",
    "    cur_max_cumul_used = -1\n",
    "    cumul = 0\n",
    "    cumul_used = 0\n",
    "    for i in range(len(to_check)):\n",
    "        cumul += (to_check[i][0] * to_check[i][1])\n",
    "        cumul_used += to_check[i][1]\n",
    "        \n",
    "        if cumul / cumul_used > cur_max:\n",
    "            cur_max = cumul / cumul_used\n",
    "            cur_max_cumul_used = cumul_used\n",
    "        \n",
    "    ws[value] = cur_max\n",
    "    used[value] = cur_max_cumul_used\n",
    "\n",
    "vt = [False] * n\n",
    "ws = [0] * n\n",
    "used = [1] * n\n",
    "dfs(r)\n",
    "\n",
    "result = 0\n",
    "heap = [(-ws[r], r)]\n",
    "turn = 1\n",
    "route = []\n",
    "while heap:\n",
    "    _, value = heappop(heap)\n",
    "    route.append(cs[value])\n",
    "    \n",
    "    result += cs[value] * turn\n",
    "    turn += 1\n",
    "    \n",
    "    for v in li[value]:\n",
    "        heappush(heap, (-ws[v], v))\n",
    "        \n",
    "print(result)"
   ]
  },
  {
   "cell_type": "code",
   "execution_count": null,
   "metadata": {},
   "outputs": [],
   "source": [
    "6 1\n",
    "1 2 5 1 1 5\n",
    "1 2\n",
    "1 3\n",
    "3 4\n",
    "4 5\n",
    "5 6"
   ]
  },
  {
   "cell_type": "code",
   "execution_count": 30,
   "metadata": {},
   "outputs": [
    {
     "name": "stdout",
     "output_type": "stream",
     "text": [
      "55\n"
     ]
    }
   ],
   "source": [
    "a = [1, 5, 1, 1, 5, 2]\n",
    "\n",
    "r = 0\n",
    "for i in range(len(a)):\n",
    "    r += a[i] * (i + 1)\n",
    "    \n",
    "print(r)"
   ]
  },
  {
   "cell_type": "markdown",
   "metadata": {},
   "source": [
    "https://www.acmicpc.net/contest/problem/1103/2 B번 - Potato"
   ]
  },
  {
   "cell_type": "code",
   "execution_count": 4,
   "metadata": {},
   "outputs": [
    {
     "name": "stdout",
     "output_type": "stream",
     "text": [
      "6\n",
      "2 2 3 3 4 4\n",
      "7 11\n"
     ]
    }
   ],
   "source": [
    "from collections import deque\n",
    "\n",
    "n = int(input())\n",
    "deq = deque(sorted(map(int, input().split())))\n",
    "\n",
    "large = 0\n",
    "small = 0\n",
    "while deq:\n",
    "    large += deq.pop()\n",
    "    if not deq:\n",
    "        break\n",
    "    small += deq.popleft()\n",
    "\n",
    "print(small, large)"
   ]
  },
  {
   "cell_type": "markdown",
   "metadata": {},
   "source": [
    "https://www.acmicpc.net/problem/1967 트리의 지름"
   ]
  },
  {
   "cell_type": "code",
   "execution_count": null,
   "metadata": {},
   "outputs": [],
   "source": [
    "import io, os, sys\n",
    "sys.setrecursionlimit(11000)\n",
    "input = io.BytesIO(os.read(0, os.fstat(0).st_size)).readline\n",
    "\n",
    "def dfs(value, dist):\n",
    "    vt[value] = True\n",
    "    dists[value] = dist\n",
    "    \n",
    "    for v, w in li[value]:\n",
    "        if not vt[v]:\n",
    "            dfs(v, dist + w)\n",
    "\n",
    "n = int(input())\n",
    "\n",
    "li = [[] for _ in range(n + 1)]\n",
    "for _ in range(n - 1):\n",
    "    u, v, w = map(int, input().split())\n",
    "    li[u].append((v, w))\n",
    "    li[v].append((u, w))\n",
    "           \n",
    "vt = [False] * (n + 1)\n",
    "dists = [0] * (n + 1)\n",
    "dfs(1, 0)\n",
    "\n",
    "max_dist = -1\n",
    "max_dist_value = -1\n",
    "for i in range(1, n + 1):\n",
    "    if dists[i] > max_dist:\n",
    "        max_dist = dists[i]\n",
    "        max_dist_value = i\n",
    "    \n",
    "vt = [False] * (n + 1)\n",
    "dists = [0] * (n + 1)\n",
    "dfs(max_dist_value, 0)\n",
    "\n",
    "result = max(dists)\n",
    "\n",
    "print(result)"
   ]
  },
  {
   "cell_type": "markdown",
   "metadata": {},
   "source": [
    "https://www.acmicpc.net/problem/21317 징검다리 건너기"
   ]
  },
  {
   "cell_type": "code",
   "execution_count": 4,
   "metadata": {},
   "outputs": [
    {
     "name": "stdout",
     "output_type": "stream",
     "text": [
      "3\n",
      "1 10\n",
      "1 10\n",
      "4\n",
      "2\n"
     ]
    }
   ],
   "source": [
    "inf = float('inf')\n",
    "\n",
    "n = int(input())\n",
    "li = [list(map(int, input().split())) for _ in range(n - 1)]\n",
    "k = int(input())\n",
    "\n",
    "dp = [[inf] * 2 for _ in range(n)]\n",
    "dp[0] = [0, 0]\n",
    "\n",
    "for i in range(1, n):\n",
    "    dp[i][0] = min(dp[i][0], dp[i - 1][0] + li[i - 1][0])\n",
    "    dp[i][1] = min(dp[i][1], dp[i - 1][1] + li[i - 1][0])\n",
    "    \n",
    "    if i >= 2:\n",
    "        dp[i][0] = min(dp[i][0], dp[i - 2][0] + li[i - 2][1])\n",
    "        dp[i][1] = min(dp[i][1], dp[i - 2][1] + li[i - 2][1])\n",
    "        \n",
    "    if i >= 3:\n",
    "        dp[i][1] = min(dp[i][1], dp[i - 3][0] + k)\n",
    "        \n",
    "result = min(dp[-1])\n",
    "\n",
    "print(result)"
   ]
  },
  {
   "cell_type": "markdown",
   "metadata": {},
   "source": [
    "https://www.acmicpc.net/problem/28131 K-지폐"
   ]
  },
  {
   "cell_type": "code",
   "execution_count": 6,
   "metadata": {},
   "outputs": [
    {
     "name": "stdout",
     "output_type": "stream",
     "text": [
      "4 6 2\n",
      "1 4\n",
      "1 2 2\n",
      "1 3 3\n",
      "2 3 5\n",
      "2 4 5\n",
      "3 4 6\n",
      "4 1 2\n",
      "16\n"
     ]
    }
   ],
   "source": [
    "from heapq import heappush, heappop\n",
    "import io, os, sys\n",
    "input = io.BytesIO(os.read(0, os.fstat(0).st_size)).readline\n",
    "\n",
    "inf = float('inf')\n",
    "\n",
    "n, m, k = map(int, input().split())\n",
    "s, t = map(int, input().split())\n",
    "s -= 1\n",
    "t -= 1\n",
    "\n",
    "li = [[] for _ in range(n + 1)]\n",
    "for _ in range(m):\n",
    "    u, v, w = map(int, input().split())\n",
    "    u -= 1\n",
    "    v -= 1\n",
    "    \n",
    "    li[u].append((v, w))\n",
    "\n",
    "dists = [[inf] * k for _ in range(n)]\n",
    "dists[s][0] = 0\n",
    "\n",
    "heap = []\n",
    "heappush(heap, (0, 0, s))\n",
    "\n",
    "while heap:\n",
    "    dist, rem, value = heappop(heap)\n",
    "    \n",
    "    if dist > dists[value][rem]:\n",
    "        continue\n",
    "        \n",
    "    for v, d in li[value]:\n",
    "        ndist = dist + d\n",
    "        nrem = (rem + d) % k\n",
    "        \n",
    "        if ndist < dists[v][nrem]:\n",
    "            dists[v][nrem] = ndist\n",
    "            heappush(heap, (ndist, nrem, v))\n",
    "            \n",
    "result = dists[t][0]\n",
    "\n",
    "if result == inf:\n",
    "    print('IMPOSSIBLE')\n",
    "else:\n",
    "    print(result)"
   ]
  },
  {
   "cell_type": "markdown",
   "metadata": {},
   "source": [
    "https://www.acmicpc.net/problem/28125 2023 아주머학교 프로그래딩 정시머힌"
   ]
  },
  {
   "cell_type": "code",
   "execution_count": 11,
   "metadata": {},
   "outputs": [],
   "source": [
    "s = '''a\t@\n",
    "c\t[\n",
    "i\t!\n",
    "j\t;\n",
    "n\t^\n",
    "o\t0\n",
    "t\t7'''\n",
    "\n",
    "d = {}\n",
    "for v in s.split('\\n'):\n",
    "    a, b = v.split('\\t')\n",
    "    \n",
    "    d[b] = a"
   ]
  },
  {
   "cell_type": "code",
   "execution_count": 12,
   "metadata": {},
   "outputs": [
    {
     "data": {
      "text/plain": [
       "{'@': 'a', '[': 'c', '!': 'i', ';': 'j', '^': 'n', '0': 'o', '7': 't'}"
      ]
     },
     "execution_count": 12,
     "metadata": {},
     "output_type": "execute_result"
    }
   ],
   "source": [
    "d"
   ]
  },
  {
   "cell_type": "code",
   "execution_count": 28,
   "metadata": {},
   "outputs": [
    {
     "name": "stdout",
     "output_type": "stream",
     "text": [
      "1\n",
      "\\'\\'\\'aaaa\n",
      "vvvaaaa\n"
     ]
    }
   ],
   "source": [
    "import re\n",
    "\n",
    "d = {'@': 'a', '[': 'c', '!': 'i', ';': 'j', '^': 'n', '0': 'o', '7': 't'}\n",
    "\n",
    "for _ in range(int(input())):\n",
    "    s = input()\n",
    "\n",
    "    changed_c = 0\n",
    "\n",
    "    changed_c += s.count(\"\\\\\\\\'\")\n",
    "    s = s.replace(\"\\\\\\\\'\", 'w')\n",
    "    \n",
    "    changed_c += s.count(\"\\\\'\")\n",
    "    s = s.replace(\"\\\\'\", 'v')\n",
    "\n",
    "    li = list(s)\n",
    "    for i in range(len(li)):\n",
    "        if li[i] in d:\n",
    "            li[i] = d[li[i]]\n",
    "            changed_c += 1\n",
    "\n",
    "    s = ''.join(li)\n",
    "\n",
    "    all_c = len(s)\n",
    "\n",
    "    if changed_c * 2 >= all_c:\n",
    "        print(\"I don't understand\")\n",
    "    else:\n",
    "        print(s)"
   ]
  },
  {
   "cell_type": "markdown",
   "metadata": {},
   "source": [
    "https://www.acmicpc.net/problem/1126 같은 탑"
   ]
  },
  {
   "cell_type": "code",
   "execution_count": 2,
   "metadata": {},
   "outputs": [
    {
     "data": {
      "text/plain": [
       "25000000"
      ]
     },
     "execution_count": 2,
     "metadata": {},
     "output_type": "execute_result"
    }
   ],
   "source": [
    "50 * 500000"
   ]
  },
  {
   "cell_type": "code",
   "execution_count": 44,
   "metadata": {},
   "outputs": [
    {
     "name": "stdout",
     "output_type": "stream",
     "text": [
      "3\n",
      "2 3 5\n",
      "5\n"
     ]
    }
   ],
   "source": [
    "inf = float('inf')\n",
    "\n",
    "n = int(input())\n",
    "li = list(map(int, input().split()))\n",
    "\n",
    "dp = [[-inf] * 500001 for _ in range(n + 1)]\n",
    "\n",
    "for i in range(n):\n",
    "    dp[i + 1][li[i]] = max(dp[i + 1][li[i]], 0)\n",
    "    \n",
    "    for f_diff in range(500001):\n",
    "        dp[i + 1][f_diff] = max(dp[i + 1][f_diff], dp[i][f_diff])\n",
    "        \n",
    "        f_h = dp[i][f_diff]\n",
    "        if f_h == -inf:\n",
    "            continue\n",
    "        \n",
    "        if li[i] < f_diff:\n",
    "            diff = f_diff - li[i]\n",
    "            h = f_h + li[i]\n",
    "        else:\n",
    "            diff = li[i] - f_diff\n",
    "            h = f_h + f_diff\n",
    "            \n",
    "        dp[i + 1][diff] = max(dp[i + 1][diff], h)\n",
    "        \n",
    "        diff = f_diff + li[i]\n",
    "        dp[i + 1][diff] = max(dp[i + 1][diff], f_h)\n",
    "        \n",
    "result = dp[n][0]\n",
    "\n",
    "if result == -inf:\n",
    "    print(-1)\n",
    "else:\n",
    "    print(result)"
   ]
  },
  {
   "cell_type": "markdown",
   "metadata": {},
   "source": [
    "### 제2회 흐즈로컵"
   ]
  },
  {
   "cell_type": "code",
   "execution_count": 5,
   "metadata": {},
   "outputs": [
    {
     "name": "stdout",
     "output_type": "stream",
     "text": [
      "3\n",
      "1 -1\n",
      "1 0\n",
      "1 1\n",
      "WA\n",
      "A\n",
      "XXWA\n"
     ]
    }
   ],
   "source": [
    "# 그리디 시도\n",
    "import io, os, sys\n",
    "# input = io.BytesIO(os.read(0, os.fstat(0).st_size)).readline\n",
    "\n",
    "inf = float('inf')\n",
    "\n",
    "n = int(input())\n",
    "li = [list(map(int, input().split())) + [i] for i in range(n)]\n",
    "\n",
    "former = ''\n",
    "target = [0, 0]\n",
    "result = [[] for _ in range(n)]\n",
    "while li:\n",
    "    min_abs = inf\n",
    "    min_abs_i = -1\n",
    "    for i in range(len(li)):\n",
    "        abs_v = abs(li[i][0] - target[0]) + abs(li[i][1] - target[1])\n",
    "        if abs_v < min_abs:\n",
    "            min_abs = abs_v\n",
    "            min_abs_i = i\n",
    "            \n",
    "    temp = []\n",
    "    i = min_abs_i\n",
    "    is_zero = False\n",
    "    \n",
    "    n_target = [li[i][0], li[i][1]]\n",
    "    while li[i][0] < target[0]:\n",
    "        li[i][0] += 1\n",
    "        temp.append('D')\n",
    "        if li[i][0] == li[i][1] == 0:\n",
    "            is_zero = True\n",
    "            break\n",
    "        \n",
    "    while li[i][1] < target[1]:\n",
    "        li[i][1] += 1\n",
    "        temp.append('W')\n",
    "        if li[i][0] == li[i][1] == 0:\n",
    "            is_zero = True\n",
    "            break\n",
    "        \n",
    "    while li[i][1] > target[1]:\n",
    "        li[i][1] -= 1\n",
    "        temp.append('X')\n",
    "        if li[i][0] == li[i][1] == 0:\n",
    "            is_zero = True\n",
    "            break\n",
    "            \n",
    "    if not is_zero:\n",
    "        new = ''.join(temp) + former\n",
    "        result[li[i][2]] = new\n",
    "    else:\n",
    "        new = ''.join(temp)\n",
    "        result[li[i][2]] = new\n",
    "        \n",
    "    former = new\n",
    "    target = n_target.copy()    \n",
    "    del li[i]\n",
    "        \n",
    "for v in result:\n",
    "    print(''.join(v))"
   ]
  },
  {
   "cell_type": "code",
   "execution_count": null,
   "metadata": {},
   "outputs": [],
   "source": [
    "# 소용돌이 모양\n",
    "dx = [0, 1, 0, -1]\n",
    "dy = [1, 0, -1, 0]\n",
    "\n",
    "alphas = 'WDXA'\n",
    "total = 31 * 31\n",
    "x = y = 0\n",
    "route = []\n",
    "d = 0\n",
    "vt_c = 0\n",
    "vt = [[False] * 31 for _ in range(31)]\n",
    "while True:\n",
    "    vt[x][y] = True\n",
    "    \n",
    "    vt_c += 1\n",
    "    if vt_c == total:\n",
    "        break\n",
    "    \n",
    "    nx = x + dx[d]\n",
    "    ny = y + dy[d]\n",
    "    \n",
    "    is_out = False\n",
    "    if nx < 0 or nx >= 31 or ny < 0 or ny >= 31 or vt[nx][ny]:\n",
    "        is_out = True\n",
    "    \n",
    "    if is_out:\n",
    "        d += 1\n",
    "        d %= 4\n",
    "        \n",
    "        nx = x + dx[d]\n",
    "        ny = y + dy[d]   \n",
    "        \n",
    "    x, y = nx, ny\n",
    "    route.append(alphas[d])\n",
    "\n",
    "x = y = 0\n",
    "d = 0\n",
    "vt_c = 0\n",
    "vt = [[False] * 31 for _ in range(31)]\n",
    "route = ''.join(route)\n",
    "results = [[''] * 31 for _ in range(31)]\n",
    "while True:\n",
    "    vt[x][y] = True\n",
    "    \n",
    "    results[x][y] = route\n",
    "    route = route[1:]\n",
    "    \n",
    "    vt_c += 1\n",
    "    if vt_c == total:\n",
    "        break\n",
    "    \n",
    "    nx = x + dx[d]\n",
    "    ny = y + dy[d]\n",
    "    \n",
    "    is_out = False\n",
    "    if nx < 0 or nx >= 31 or ny < 0 or ny >= 31 or vt[nx][ny]:\n",
    "        is_out = True\n",
    "    \n",
    "    if is_out:\n",
    "        d += 1\n",
    "        d %= 4\n",
    "        \n",
    "        nx = x + dx[d]\n",
    "        ny = y + dy[d]   \n",
    "        \n",
    "    x, y = nx, ny\n",
    "    \n",
    "n = int(input())\n",
    "for _ in range(n):\n",
    "    x, y = map(int, input().split())\n",
    "    x += 15\n",
    "    y += 15\n",
    "    \n",
    "    print(results[x][y])"
   ]
  },
  {
   "cell_type": "markdown",
   "metadata": {},
   "source": [
    "https://www.acmicpc.net/problem/28703 Double It"
   ]
  },
  {
   "cell_type": "code",
   "execution_count": 1,
   "metadata": {},
   "outputs": [
    {
     "name": "stdout",
     "output_type": "stream",
     "text": [
      "6\n",
      "31 41 51 92 65 3\n",
      "40\n"
     ]
    }
   ],
   "source": [
    "from heapq import heappush, heappop, heapify\n",
    "\n",
    "inf = float('inf')\n",
    "\n",
    "n = int(input())\n",
    "heap = list(map(int, input().split()))\n",
    "\n",
    "init_max_v = max(heap)\n",
    "max_v = init_max_v\n",
    "heapify(heap)\n",
    "result = inf\n",
    "while True:\n",
    "    min_v = heappop(heap)\n",
    "    if min_v > init_max_v:\n",
    "        break\n",
    "    \n",
    "    result = min(result, max_v - min_v)\n",
    "    \n",
    "    if min_v * 2 > max_v:\n",
    "        max_v = min_v * 2\n",
    "    heappush(heap, min_v * 2)\n",
    "    \n",
    "print(result)"
   ]
  },
  {
   "cell_type": "markdown",
   "metadata": {},
   "source": [
    "### 월간 향유회 2023. 08. A"
   ]
  },
  {
   "cell_type": "code",
   "execution_count": 3,
   "metadata": {},
   "outputs": [
    {
     "name": "stdout",
     "output_type": "stream",
     "text": [
      "4\n",
      "2 1 L\n",
      "-2 -1 R\n",
      "0 -2 U\n",
      "0 2 D\n",
      "9\n"
     ]
    }
   ],
   "source": [
    "import sys\n",
    "input = lambda: sys.stdin.readline().rstrip()\n",
    "\n",
    "inf = float('inf')\n",
    "\n",
    "lr = [-inf, inf]\n",
    "du = [-inf, inf]\n",
    "\n",
    "n = int(input())\n",
    "for _ in range(n):\n",
    "    info = input().split()\n",
    "    \n",
    "    x = int(info[0])\n",
    "    y = int(info[1])\n",
    "    d = info[2]\n",
    "    \n",
    "    if d == 'L':\n",
    "        lr[1] = min(lr[1], x - 1)\n",
    "    elif d == 'R':\n",
    "        lr[0] = max(lr[0], x + 1)\n",
    "    elif d == 'D':\n",
    "        du[1] = min(du[1], y - 1)\n",
    "    else:\n",
    "        du[0] = max(du[0], y + 1)\n",
    "        \n",
    "a = lr[1] - lr[0] + 1\n",
    "b = du[1] - du[0] + 1\n",
    "\n",
    "r = a * b\n",
    "\n",
    "if r == inf:\n",
    "    print('Infinity')\n",
    "else:\n",
    "    print(r)"
   ]
  },
  {
   "cell_type": "markdown",
   "metadata": {},
   "source": [
    "### B"
   ]
  },
  {
   "cell_type": "code",
   "execution_count": 5,
   "metadata": {},
   "outputs": [
    {
     "name": "stdout",
     "output_type": "stream",
     "text": [
      "2 1\n",
      "2 5\n",
      "1 10\n",
      "-1\n"
     ]
    }
   ],
   "source": [
    "import io, os, sys\n",
    "input = io.BytesIO(os.read(0, os.fstat(0).st_size)).readline\n",
    "\n",
    "n, m = map(int, input().split())\n",
    "li = sorted(map(int, input().split()))\n",
    "tq = [list(map(int, input().split())) for _ in range(m)]\n",
    "\n",
    "sv = 0\n",
    "cur_date = 0\n",
    "ip = True\n",
    "for i in range(m):\n",
    "    t, q = tq[i]\n",
    "    \n",
    "    diff = t - cur_date\n",
    "    cur_date = t\n",
    "    \n",
    "    while li and sv < q:\n",
    "        sv += li.pop() + cur_date\n",
    "        \n",
    "    if sv < q:\n",
    "        ip = False\n",
    "        break\n",
    "        \n",
    "if not ip:\n",
    "    print(-1)\n",
    "else:\n",
    "    while li:\n",
    "        sv += li.pop() + cur_date\n",
    "        \n",
    "    print(sv)"
   ]
  },
  {
   "cell_type": "markdown",
   "metadata": {},
   "source": [
    "### C"
   ]
  },
  {
   "cell_type": "code",
   "execution_count": null,
   "metadata": {},
   "outputs": [],
   "source": [
    "dfs 통해서 s에서 e로 가는 경로 하나 설정 후\n",
    "그 경로대로 가면서 만나는 다른 것들은 전부 이동을 못하는 방향으로 바꿔놓음\n",
    "나머진 상관 없음"
   ]
  },
  {
   "cell_type": "code",
   "execution_count": 16,
   "metadata": {},
   "outputs": [
    {
     "name": "stdout",
     "output_type": "stream",
     "text": [
      "4 3 1 4\n",
      "1 3\n",
      "3 2\n",
      "1 2\n",
      "-1\n"
     ]
    }
   ],
   "source": [
    "import io, os, sys\n",
    "sys.setrecursionlimit(210000)\n",
    "input = io.BytesIO(os.read(0, os.fstat(0).st_size)).readline\n",
    "\n",
    "n, m, s, e = map(int, input().split())\n",
    "edges = [list(map(int, input().split())) + [i] for i in range(m)]\n",
    "\n",
    "li = [[] for _ in range(n + 1)]\n",
    "for u, v, e_i in edges:\n",
    "    li[u].append([v, e_i, 0])\n",
    "    li[v].append([u, e_i, 1])\n",
    "    \n",
    "def dfs(value, value_e_i, value_rev_info):\n",
    "    global route\n",
    "    \n",
    "    vt[value] = True\n",
    "    stack.append((value, value_e_i, value_rev_info))\n",
    "    \n",
    "    if value == e:\n",
    "        route = stack.copy()\n",
    "    \n",
    "    for v, v_e_i, v_rev_info in li[value]:\n",
    "        if not vt[v]:\n",
    "            dfs(v, v_e_i, v_rev_info)\n",
    "            \n",
    "    stack.pop()\n",
    "            \n",
    "vt = [False] * (n + 1)\n",
    "stack = []\n",
    "route = []\n",
    "dfs(s, -1, -1)\n",
    "\n",
    "if not route:\n",
    "    print(-1)\n",
    "else:\n",
    "    result = [0] * m\n",
    "    for r_i in range(1, len(route)):\n",
    "        value, e_i, rev_info = route[r_i]\n",
    "        result[e_i] = rev_info\n",
    "\n",
    "    for r_i in range(len(route) - 1):\n",
    "        value, e_i, rev_info = route[r_i]\n",
    "\n",
    "        for v, v_e_i, v_rev_info in li[value]:\n",
    "            if v != route[r_i + 1][0]:\n",
    "                result[v_e_i] = v_rev_info ^ 1\n",
    "                \n",
    "    print(*result)"
   ]
  }
 ],
 "metadata": {
  "kernelspec": {
   "display_name": "Python 3",
   "language": "python",
   "name": "python3"
  },
  "language_info": {
   "codemirror_mode": {
    "name": "ipython",
    "version": 3
   },
   "file_extension": ".py",
   "mimetype": "text/x-python",
   "name": "python",
   "nbconvert_exporter": "python",
   "pygments_lexer": "ipython3",
   "version": "3.8.3"
  }
 },
 "nbformat": 4,
 "nbformat_minor": 4
}
