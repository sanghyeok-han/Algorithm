{
 "cells": [
  {
   "cell_type": "markdown",
   "metadata": {},
   "source": [
    "https://www.acmicpc.net/problem/1763 트리 색칠"
   ]
  },
  {
   "cell_type": "code",
   "execution_count": 51,
   "metadata": {},
   "outputs": [
    {
     "name": "stdout",
     "output_type": "stream",
     "text": [
      "6 1\n",
      "1 4 5 1 1 5\n",
      "1 2\n",
      "1 3\n",
      "3 4\n",
      "4 5\n",
      "5 6\n",
      "62\n"
     ]
    }
   ],
   "source": [
    "from heapq import heappush, heappop\n",
    "import io, os, sys\n",
    "# input = io.BytesIO(os.read(0, os.fstat(0).st_size)).readline\n",
    "\n",
    "n, r = map(int, input().split())\n",
    "r -= 1\n",
    "cs = list(map(int, input().split()))\n",
    "\n",
    "li = [[] for _ in range(n)]\n",
    "for _ in range(n - 1):\n",
    "    u, v = map(int, input().split())\n",
    "    u -= 1\n",
    "    v -= 1\n",
    "\n",
    "    li[u].append(v)\n",
    "    \n",
    "def dfs(value):\n",
    "    vt[value] = True\n",
    "    \n",
    "    temp = []\n",
    "    for v in li[value]:\n",
    "        if vt[v]:\n",
    "            continue\n",
    "            \n",
    "        dfs(v)\n",
    "        temp.append((ws[v], used[v]))\n",
    "        \n",
    "    to_check = [(cs[value], 1)] + sorted(temp, reverse=True)\n",
    "    \n",
    "    cur_max = -1\n",
    "    cur_max_cumul_used = -1\n",
    "    cumul = 0\n",
    "    cumul_used = 0\n",
    "    for i in range(len(to_check)):\n",
    "        cumul += (to_check[i][0] * to_check[i][1])\n",
    "        cumul_used += to_check[i][1]\n",
    "        \n",
    "        if cumul / cumul_used > cur_max:\n",
    "            cur_max = cumul / cumul_used\n",
    "            cur_max_cumul_used = cumul_used\n",
    "        \n",
    "    ws[value] = cur_max\n",
    "    used[value] = cur_max_cumul_used\n",
    "\n",
    "vt = [False] * n\n",
    "ws = [0] * n\n",
    "used = [1] * n\n",
    "dfs(r)\n",
    "\n",
    "result = 0\n",
    "heap = [(-ws[r], r)]\n",
    "turn = 1\n",
    "route = []\n",
    "while heap:\n",
    "    _, value = heappop(heap)\n",
    "    route.append(cs[value])\n",
    "    \n",
    "    result += cs[value] * turn\n",
    "    turn += 1\n",
    "    \n",
    "    for v in li[value]:\n",
    "        heappush(heap, (-ws[v], v))\n",
    "        \n",
    "print(result)"
   ]
  },
  {
   "cell_type": "code",
   "execution_count": null,
   "metadata": {},
   "outputs": [],
   "source": [
    "6 1\n",
    "1 2 5 1 1 5\n",
    "1 2\n",
    "1 3\n",
    "3 4\n",
    "4 5\n",
    "5 6"
   ]
  },
  {
   "cell_type": "code",
   "execution_count": 30,
   "metadata": {},
   "outputs": [
    {
     "name": "stdout",
     "output_type": "stream",
     "text": [
      "55\n"
     ]
    }
   ],
   "source": [
    "a = [1, 5, 1, 1, 5, 2]\n",
    "\n",
    "r = 0\n",
    "for i in range(len(a)):\n",
    "    r += a[i] * (i + 1)\n",
    "    \n",
    "print(r)"
   ]
  },
  {
   "cell_type": "markdown",
   "metadata": {},
   "source": [
    "https://www.acmicpc.net/contest/problem/1103/2 B번 - Potato"
   ]
  },
  {
   "cell_type": "code",
   "execution_count": 4,
   "metadata": {},
   "outputs": [
    {
     "name": "stdout",
     "output_type": "stream",
     "text": [
      "6\n",
      "2 2 3 3 4 4\n",
      "7 11\n"
     ]
    }
   ],
   "source": [
    "from collections import deque\n",
    "\n",
    "n = int(input())\n",
    "deq = deque(sorted(map(int, input().split())))\n",
    "\n",
    "large = 0\n",
    "small = 0\n",
    "while deq:\n",
    "    large += deq.pop()\n",
    "    if not deq:\n",
    "        break\n",
    "    small += deq.popleft()\n",
    "\n",
    "print(small, large)"
   ]
  },
  {
   "cell_type": "markdown",
   "metadata": {},
   "source": [
    "https://www.acmicpc.net/problem/1967 트리의 지름"
   ]
  },
  {
   "cell_type": "code",
   "execution_count": null,
   "metadata": {},
   "outputs": [],
   "source": [
    "import io, os, sys\n",
    "sys.setrecursionlimit(11000)\n",
    "input = io.BytesIO(os.read(0, os.fstat(0).st_size)).readline\n",
    "\n",
    "def dfs(value, dist):\n",
    "    vt[value] = True\n",
    "    dists[value] = dist\n",
    "    \n",
    "    for v, w in li[value]:\n",
    "        if not vt[v]:\n",
    "            dfs(v, dist + w)\n",
    "\n",
    "n = int(input())\n",
    "\n",
    "li = [[] for _ in range(n + 1)]\n",
    "for _ in range(n - 1):\n",
    "    u, v, w = map(int, input().split())\n",
    "    li[u].append((v, w))\n",
    "    li[v].append((u, w))\n",
    "           \n",
    "vt = [False] * (n + 1)\n",
    "dists = [0] * (n + 1)\n",
    "dfs(1, 0)\n",
    "\n",
    "max_dist = -1\n",
    "max_dist_value = -1\n",
    "for i in range(1, n + 1):\n",
    "    if dists[i] > max_dist:\n",
    "        max_dist = dists[i]\n",
    "        max_dist_value = i\n",
    "    \n",
    "vt = [False] * (n + 1)\n",
    "dists = [0] * (n + 1)\n",
    "dfs(max_dist_value, 0)\n",
    "\n",
    "result = max(dists)\n",
    "\n",
    "print(result)"
   ]
  },
  {
   "cell_type": "markdown",
   "metadata": {},
   "source": [
    "https://www.acmicpc.net/problem/21317 징검다리 건너기"
   ]
  },
  {
   "cell_type": "code",
   "execution_count": 4,
   "metadata": {},
   "outputs": [
    {
     "name": "stdout",
     "output_type": "stream",
     "text": [
      "3\n",
      "1 10\n",
      "1 10\n",
      "4\n",
      "2\n"
     ]
    }
   ],
   "source": [
    "inf = float('inf')\n",
    "\n",
    "n = int(input())\n",
    "li = [list(map(int, input().split())) for _ in range(n - 1)]\n",
    "k = int(input())\n",
    "\n",
    "dp = [[inf] * 2 for _ in range(n)]\n",
    "dp[0] = [0, 0]\n",
    "\n",
    "for i in range(1, n):\n",
    "    dp[i][0] = min(dp[i][0], dp[i - 1][0] + li[i - 1][0])\n",
    "    dp[i][1] = min(dp[i][1], dp[i - 1][1] + li[i - 1][0])\n",
    "    \n",
    "    if i >= 2:\n",
    "        dp[i][0] = min(dp[i][0], dp[i - 2][0] + li[i - 2][1])\n",
    "        dp[i][1] = min(dp[i][1], dp[i - 2][1] + li[i - 2][1])\n",
    "        \n",
    "    if i >= 3:\n",
    "        dp[i][1] = min(dp[i][1], dp[i - 3][0] + k)\n",
    "        \n",
    "result = min(dp[-1])\n",
    "\n",
    "print(result)"
   ]
  },
  {
   "cell_type": "markdown",
   "metadata": {},
   "source": [
    "https://www.acmicpc.net/problem/28131 K-지폐"
   ]
  },
  {
   "cell_type": "code",
   "execution_count": 6,
   "metadata": {},
   "outputs": [
    {
     "name": "stdout",
     "output_type": "stream",
     "text": [
      "4 6 2\n",
      "1 4\n",
      "1 2 2\n",
      "1 3 3\n",
      "2 3 5\n",
      "2 4 5\n",
      "3 4 6\n",
      "4 1 2\n",
      "16\n"
     ]
    }
   ],
   "source": [
    "from heapq import heappush, heappop\n",
    "import io, os, sys\n",
    "input = io.BytesIO(os.read(0, os.fstat(0).st_size)).readline\n",
    "\n",
    "inf = float('inf')\n",
    "\n",
    "n, m, k = map(int, input().split())\n",
    "s, t = map(int, input().split())\n",
    "s -= 1\n",
    "t -= 1\n",
    "\n",
    "li = [[] for _ in range(n + 1)]\n",
    "for _ in range(m):\n",
    "    u, v, w = map(int, input().split())\n",
    "    u -= 1\n",
    "    v -= 1\n",
    "    \n",
    "    li[u].append((v, w))\n",
    "\n",
    "dists = [[inf] * k for _ in range(n)]\n",
    "dists[s][0] = 0\n",
    "\n",
    "heap = []\n",
    "heappush(heap, (0, 0, s))\n",
    "\n",
    "while heap:\n",
    "    dist, rem, value = heappop(heap)\n",
    "    \n",
    "    if dist > dists[value][rem]:\n",
    "        continue\n",
    "        \n",
    "    for v, d in li[value]:\n",
    "        ndist = dist + d\n",
    "        nrem = (rem + d) % k\n",
    "        \n",
    "        if ndist < dists[v][nrem]:\n",
    "            dists[v][nrem] = ndist\n",
    "            heappush(heap, (ndist, nrem, v))\n",
    "            \n",
    "result = dists[t][0]\n",
    "\n",
    "if result == inf:\n",
    "    print('IMPOSSIBLE')\n",
    "else:\n",
    "    print(result)"
   ]
  },
  {
   "cell_type": "markdown",
   "metadata": {},
   "source": [
    "https://www.acmicpc.net/problem/28125 2023 아주머학교 프로그래딩 정시머힌"
   ]
  },
  {
   "cell_type": "code",
   "execution_count": 11,
   "metadata": {},
   "outputs": [],
   "source": [
    "s = '''a\t@\n",
    "c\t[\n",
    "i\t!\n",
    "j\t;\n",
    "n\t^\n",
    "o\t0\n",
    "t\t7'''\n",
    "\n",
    "d = {}\n",
    "for v in s.split('\\n'):\n",
    "    a, b = v.split('\\t')\n",
    "    \n",
    "    d[b] = a"
   ]
  },
  {
   "cell_type": "code",
   "execution_count": 12,
   "metadata": {},
   "outputs": [
    {
     "data": {
      "text/plain": [
       "{'@': 'a', '[': 'c', '!': 'i', ';': 'j', '^': 'n', '0': 'o', '7': 't'}"
      ]
     },
     "execution_count": 12,
     "metadata": {},
     "output_type": "execute_result"
    }
   ],
   "source": [
    "d"
   ]
  },
  {
   "cell_type": "code",
   "execution_count": 28,
   "metadata": {},
   "outputs": [
    {
     "name": "stdout",
     "output_type": "stream",
     "text": [
      "1\n",
      "\\'\\'\\'aaaa\n",
      "vvvaaaa\n"
     ]
    }
   ],
   "source": [
    "import re\n",
    "\n",
    "d = {'@': 'a', '[': 'c', '!': 'i', ';': 'j', '^': 'n', '0': 'o', '7': 't'}\n",
    "\n",
    "for _ in range(int(input())):\n",
    "    s = input()\n",
    "\n",
    "    changed_c = 0\n",
    "\n",
    "    changed_c += s.count(\"\\\\\\\\'\")\n",
    "    s = s.replace(\"\\\\\\\\'\", 'w')\n",
    "    \n",
    "    changed_c += s.count(\"\\\\'\")\n",
    "    s = s.replace(\"\\\\'\", 'v')\n",
    "\n",
    "    li = list(s)\n",
    "    for i in range(len(li)):\n",
    "        if li[i] in d:\n",
    "            li[i] = d[li[i]]\n",
    "            changed_c += 1\n",
    "\n",
    "    s = ''.join(li)\n",
    "\n",
    "    all_c = len(s)\n",
    "\n",
    "    if changed_c * 2 >= all_c:\n",
    "        print(\"I don't understand\")\n",
    "    else:\n",
    "        print(s)"
   ]
  },
  {
   "cell_type": "markdown",
   "metadata": {},
   "source": [
    "https://www.acmicpc.net/problem/1126 같은 탑"
   ]
  },
  {
   "cell_type": "code",
   "execution_count": 2,
   "metadata": {},
   "outputs": [
    {
     "data": {
      "text/plain": [
       "25000000"
      ]
     },
     "execution_count": 2,
     "metadata": {},
     "output_type": "execute_result"
    }
   ],
   "source": [
    "50 * 500000"
   ]
  },
  {
   "cell_type": "code",
   "execution_count": 44,
   "metadata": {},
   "outputs": [
    {
     "name": "stdout",
     "output_type": "stream",
     "text": [
      "3\n",
      "2 3 5\n",
      "5\n"
     ]
    }
   ],
   "source": [
    "inf = float('inf')\n",
    "\n",
    "n = int(input())\n",
    "li = list(map(int, input().split()))\n",
    "\n",
    "dp = [[-inf] * 500001 for _ in range(n + 1)]\n",
    "\n",
    "for i in range(n):\n",
    "    dp[i + 1][li[i]] = max(dp[i + 1][li[i]], 0)\n",
    "    \n",
    "    for f_diff in range(500001):\n",
    "        dp[i + 1][f_diff] = max(dp[i + 1][f_diff], dp[i][f_diff])\n",
    "        \n",
    "        f_h = dp[i][f_diff]\n",
    "        if f_h == -inf:\n",
    "            continue\n",
    "        \n",
    "        if li[i] < f_diff:\n",
    "            diff = f_diff - li[i]\n",
    "            h = f_h + li[i]\n",
    "        else:\n",
    "            diff = li[i] - f_diff\n",
    "            h = f_h + f_diff\n",
    "            \n",
    "        dp[i + 1][diff] = max(dp[i + 1][diff], h)\n",
    "        \n",
    "        diff = f_diff + li[i]\n",
    "        dp[i + 1][diff] = max(dp[i + 1][diff], f_h)\n",
    "        \n",
    "result = dp[n][0]\n",
    "\n",
    "if result == -inf:\n",
    "    print(-1)\n",
    "else:\n",
    "    print(result)"
   ]
  },
  {
   "cell_type": "markdown",
   "metadata": {},
   "source": [
    "### 제2회 흐즈로컵"
   ]
  },
  {
   "cell_type": "code",
   "execution_count": 5,
   "metadata": {},
   "outputs": [
    {
     "name": "stdout",
     "output_type": "stream",
     "text": [
      "3\n",
      "1 -1\n",
      "1 0\n",
      "1 1\n",
      "WA\n",
      "A\n",
      "XXWA\n"
     ]
    }
   ],
   "source": [
    "# 그리디 시도\n",
    "import io, os, sys\n",
    "# input = io.BytesIO(os.read(0, os.fstat(0).st_size)).readline\n",
    "\n",
    "inf = float('inf')\n",
    "\n",
    "n = int(input())\n",
    "li = [list(map(int, input().split())) + [i] for i in range(n)]\n",
    "\n",
    "former = ''\n",
    "target = [0, 0]\n",
    "result = [[] for _ in range(n)]\n",
    "while li:\n",
    "    min_abs = inf\n",
    "    min_abs_i = -1\n",
    "    for i in range(len(li)):\n",
    "        abs_v = abs(li[i][0] - target[0]) + abs(li[i][1] - target[1])\n",
    "        if abs_v < min_abs:\n",
    "            min_abs = abs_v\n",
    "            min_abs_i = i\n",
    "            \n",
    "    temp = []\n",
    "    i = min_abs_i\n",
    "    is_zero = False\n",
    "    \n",
    "    n_target = [li[i][0], li[i][1]]\n",
    "    while li[i][0] < target[0]:\n",
    "        li[i][0] += 1\n",
    "        temp.append('D')\n",
    "        if li[i][0] == li[i][1] == 0:\n",
    "            is_zero = True\n",
    "            break\n",
    "        \n",
    "    while li[i][1] < target[1]:\n",
    "        li[i][1] += 1\n",
    "        temp.append('W')\n",
    "        if li[i][0] == li[i][1] == 0:\n",
    "            is_zero = True\n",
    "            break\n",
    "        \n",
    "    while li[i][1] > target[1]:\n",
    "        li[i][1] -= 1\n",
    "        temp.append('X')\n",
    "        if li[i][0] == li[i][1] == 0:\n",
    "            is_zero = True\n",
    "            break\n",
    "            \n",
    "    if not is_zero:\n",
    "        new = ''.join(temp) + former\n",
    "        result[li[i][2]] = new\n",
    "    else:\n",
    "        new = ''.join(temp)\n",
    "        result[li[i][2]] = new\n",
    "        \n",
    "    former = new\n",
    "    target = n_target.copy()    \n",
    "    del li[i]\n",
    "        \n",
    "for v in result:\n",
    "    print(''.join(v))"
   ]
  },
  {
   "cell_type": "code",
   "execution_count": null,
   "metadata": {},
   "outputs": [],
   "source": [
    "# 소용돌이 모양\n",
    "dx = [0, 1, 0, -1]\n",
    "dy = [1, 0, -1, 0]\n",
    "\n",
    "alphas = 'WDXA'\n",
    "total = 31 * 31\n",
    "x = y = 0\n",
    "route = []\n",
    "d = 0\n",
    "vt_c = 0\n",
    "vt = [[False] * 31 for _ in range(31)]\n",
    "while True:\n",
    "    vt[x][y] = True\n",
    "    \n",
    "    vt_c += 1\n",
    "    if vt_c == total:\n",
    "        break\n",
    "    \n",
    "    nx = x + dx[d]\n",
    "    ny = y + dy[d]\n",
    "    \n",
    "    is_out = False\n",
    "    if nx < 0 or nx >= 31 or ny < 0 or ny >= 31 or vt[nx][ny]:\n",
    "        is_out = True\n",
    "    \n",
    "    if is_out:\n",
    "        d += 1\n",
    "        d %= 4\n",
    "        \n",
    "        nx = x + dx[d]\n",
    "        ny = y + dy[d]   \n",
    "        \n",
    "    x, y = nx, ny\n",
    "    route.append(alphas[d])\n",
    "\n",
    "x = y = 0\n",
    "d = 0\n",
    "vt_c = 0\n",
    "vt = [[False] * 31 for _ in range(31)]\n",
    "route = ''.join(route)\n",
    "results = [[''] * 31 for _ in range(31)]\n",
    "while True:\n",
    "    vt[x][y] = True\n",
    "    \n",
    "    results[x][y] = route\n",
    "    route = route[1:]\n",
    "    \n",
    "    vt_c += 1\n",
    "    if vt_c == total:\n",
    "        break\n",
    "    \n",
    "    nx = x + dx[d]\n",
    "    ny = y + dy[d]\n",
    "    \n",
    "    is_out = False\n",
    "    if nx < 0 or nx >= 31 or ny < 0 or ny >= 31 or vt[nx][ny]:\n",
    "        is_out = True\n",
    "    \n",
    "    if is_out:\n",
    "        d += 1\n",
    "        d %= 4\n",
    "        \n",
    "        nx = x + dx[d]\n",
    "        ny = y + dy[d]   \n",
    "        \n",
    "    x, y = nx, ny\n",
    "    \n",
    "n = int(input())\n",
    "for _ in range(n):\n",
    "    x, y = map(int, input().split())\n",
    "    x += 15\n",
    "    y += 15\n",
    "    \n",
    "    print(results[x][y])"
   ]
  },
  {
   "cell_type": "markdown",
   "metadata": {},
   "source": [
    "https://www.acmicpc.net/problem/28703 Double It"
   ]
  },
  {
   "cell_type": "code",
   "execution_count": 1,
   "metadata": {},
   "outputs": [
    {
     "name": "stdout",
     "output_type": "stream",
     "text": [
      "6\n",
      "31 41 51 92 65 3\n",
      "40\n"
     ]
    }
   ],
   "source": [
    "from heapq import heappush, heappop, heapify\n",
    "\n",
    "inf = float('inf')\n",
    "\n",
    "n = int(input())\n",
    "heap = list(map(int, input().split()))\n",
    "\n",
    "init_max_v = max(heap)\n",
    "max_v = init_max_v\n",
    "heapify(heap)\n",
    "result = inf\n",
    "while True:\n",
    "    min_v = heappop(heap)\n",
    "    if min_v > init_max_v:\n",
    "        break\n",
    "    \n",
    "    result = min(result, max_v - min_v)\n",
    "    \n",
    "    if min_v * 2 > max_v:\n",
    "        max_v = min_v * 2\n",
    "    heappush(heap, min_v * 2)\n",
    "    \n",
    "print(result)"
   ]
  },
  {
   "cell_type": "markdown",
   "metadata": {},
   "source": [
    "### 월간 향유회 2023. 08. A"
   ]
  },
  {
   "cell_type": "code",
   "execution_count": 3,
   "metadata": {},
   "outputs": [
    {
     "name": "stdout",
     "output_type": "stream",
     "text": [
      "4\n",
      "2 1 L\n",
      "-2 -1 R\n",
      "0 -2 U\n",
      "0 2 D\n",
      "9\n"
     ]
    }
   ],
   "source": [
    "import sys\n",
    "input = lambda: sys.stdin.readline().rstrip()\n",
    "\n",
    "inf = float('inf')\n",
    "\n",
    "lr = [-inf, inf]\n",
    "du = [-inf, inf]\n",
    "\n",
    "n = int(input())\n",
    "for _ in range(n):\n",
    "    info = input().split()\n",
    "    \n",
    "    x = int(info[0])\n",
    "    y = int(info[1])\n",
    "    d = info[2]\n",
    "    \n",
    "    if d == 'L':\n",
    "        lr[1] = min(lr[1], x - 1)\n",
    "    elif d == 'R':\n",
    "        lr[0] = max(lr[0], x + 1)\n",
    "    elif d == 'D':\n",
    "        du[1] = min(du[1], y - 1)\n",
    "    else:\n",
    "        du[0] = max(du[0], y + 1)\n",
    "        \n",
    "a = lr[1] - lr[0] + 1\n",
    "b = du[1] - du[0] + 1\n",
    "\n",
    "r = a * b\n",
    "\n",
    "if r == inf:\n",
    "    print('Infinity')\n",
    "else:\n",
    "    print(r)"
   ]
  },
  {
   "cell_type": "markdown",
   "metadata": {},
   "source": [
    "### B"
   ]
  },
  {
   "cell_type": "code",
   "execution_count": 5,
   "metadata": {},
   "outputs": [
    {
     "name": "stdout",
     "output_type": "stream",
     "text": [
      "2 1\n",
      "2 5\n",
      "1 10\n",
      "-1\n"
     ]
    }
   ],
   "source": [
    "import io, os, sys\n",
    "input = io.BytesIO(os.read(0, os.fstat(0).st_size)).readline\n",
    "\n",
    "n, m = map(int, input().split())\n",
    "li = sorted(map(int, input().split()))\n",
    "tq = [list(map(int, input().split())) for _ in range(m)]\n",
    "\n",
    "sv = 0\n",
    "cur_date = 0\n",
    "ip = True\n",
    "for i in range(m):\n",
    "    t, q = tq[i]\n",
    "    \n",
    "    diff = t - cur_date\n",
    "    cur_date = t\n",
    "    \n",
    "    while li and sv < q:\n",
    "        sv += li.pop() + cur_date\n",
    "        \n",
    "    if sv < q:\n",
    "        ip = False\n",
    "        break\n",
    "        \n",
    "if not ip:\n",
    "    print(-1)\n",
    "else:\n",
    "    while li:\n",
    "        sv += li.pop() + cur_date\n",
    "        \n",
    "    print(sv)"
   ]
  },
  {
   "cell_type": "markdown",
   "metadata": {},
   "source": [
    "### C"
   ]
  },
  {
   "cell_type": "code",
   "execution_count": null,
   "metadata": {},
   "outputs": [],
   "source": [
    "dfs 통해서 s에서 e로 가는 경로 하나 설정 후\n",
    "그 경로대로 가면서 만나는 다른 것들은 전부 이동을 못하는 방향으로 바꿔놓음\n",
    "나머진 상관 없음\n",
    "\n",
    "-> 사이클"
   ]
  },
  {
   "cell_type": "code",
   "execution_count": 3,
   "metadata": {},
   "outputs": [
    {
     "name": "stdout",
     "output_type": "stream",
     "text": [
      "3 3 1 3\n",
      "1 3\n",
      "1 2\n",
      "2 3\n",
      "0 0 1\n"
     ]
    }
   ],
   "source": [
    "from collections import deque\n",
    "import io, os, sys\n",
    "input = io.BytesIO(os.read(0, os.fstat(0).st_size)).readline\n",
    "\n",
    "n, m, s, e = map(int, input().split())\n",
    "edges = [list(map(int, input().split())) + [i] for i in range(m)]\n",
    "\n",
    "li = [[] for _ in range(n + 1)]\n",
    "for u, v, e_i in edges:\n",
    "    li[u].append([v, e_i, 0])\n",
    "    li[v].append([u, e_i, 1])\n",
    "\n",
    "def bfs():\n",
    "    queue = deque()\n",
    "    queue.append(s)\n",
    "  \n",
    "    vt[s] = True\n",
    "\n",
    "    while queue:\n",
    "        value = queue.popleft()\n",
    "        \n",
    "        for v, e_i, is_rev in li[value]:\n",
    "            if not vt[v]:\n",
    "                vt[v] = True\n",
    "                froms[v] = (value, e_i, is_rev)\n",
    "                queue.append(v)\n",
    "       \n",
    "    if not vt[e]:\n",
    "        return False\n",
    "    \n",
    "    cur = e\n",
    "    while cur != s:            \n",
    "        ncur, e_i, is_rev = froms[cur]\n",
    "        result[e_i] = is_rev\n",
    "        \n",
    "        for other_v, other_e_i, other_is_rev in li[cur]:\n",
    "            if other_v == ncur:\n",
    "                continue\n",
    "            result[other_e_i] = other_is_rev\n",
    "        \n",
    "        cur = ncur\n",
    "        \n",
    "    for other_v, other_e_i, other_is_rev in li[cur]:\n",
    "        if other_v == ncur:\n",
    "            continue\n",
    "        result[other_e_i] = other_is_rev        \n",
    "\n",
    "    return True\n",
    "\n",
    "vt = [False] * (n + 1)\n",
    "froms = [[] for _ in range(n + 1)]\n",
    "result = [0] * m\n",
    "ip = bfs()\n",
    "\n",
    "if not ip:\n",
    "    print(-1)\n",
    "else:\n",
    "    print(*result)"
   ]
  },
  {
   "cell_type": "markdown",
   "metadata": {},
   "source": [
    "https://www.acmicpc.net/problem/28115 등차수열의 합"
   ]
  },
  {
   "cell_type": "code",
   "execution_count": 3,
   "metadata": {},
   "outputs": [
    {
     "name": "stdout",
     "output_type": "stream",
     "text": [
      "3\n",
      "1 2 1\n",
      "NO\n"
     ]
    }
   ],
   "source": [
    "n = int(input())\n",
    "li = list(map(int, input().split()))\n",
    "\n",
    "if n == 1:\n",
    "    print('YES')\n",
    "    print(0)\n",
    "    print(li[0])\n",
    "else:\n",
    "    d = li[1] - li[0]\n",
    "    ip = True\n",
    "    for i in range(n - 1):\n",
    "        if li[i + 1] - li[i] != d:\n",
    "            ip = False\n",
    "            break\n",
    "            \n",
    "    if not ip:\n",
    "        print('NO')\n",
    "    else:\n",
    "        print('YES')\n",
    "        print(*li)\n",
    "        print(*[0] * n)"
   ]
  },
  {
   "cell_type": "markdown",
   "metadata": {},
   "source": [
    "https://www.acmicpc.net/problem/28114 팀명 정하기"
   ]
  },
  {
   "cell_type": "code",
   "execution_count": 6,
   "metadata": {},
   "outputs": [
    {
     "name": "stdout",
     "output_type": "stream",
     "text": [
      "1000 2022 PARK\n",
      "9000 2021 NAH\n",
      "2000 2019 LEE\n",
      "192122\n",
      "NLP\n"
     ]
    }
   ],
   "source": [
    "li = [input().split() for _ in range(3)]\n",
    "\n",
    "for i in range(3):\n",
    "    li[i][0] = int(li[i][0])\n",
    "    li[i][1] = int(li[i][1])\n",
    "    \n",
    "nli1 = [li[i][1] % 100 for i in range(3)]\n",
    "nli1.sort()\n",
    "\n",
    "r1 = ''.join(map(str, nli1))\n",
    "\n",
    "li.sort(key=lambda x: -x[0])\n",
    "\n",
    "r2 = ''.join([li[i][2][0] for i in range(3)])\n",
    "\n",
    "print(r1)\n",
    "print(r2)"
   ]
  },
  {
   "cell_type": "markdown",
   "metadata": {},
   "source": [
    "https://www.acmicpc.net/problem/28116 선택 정렬의 이동 거리"
   ]
  },
  {
   "cell_type": "code",
   "execution_count": 11,
   "metadata": {},
   "outputs": [
    {
     "name": "stdout",
     "output_type": "stream",
     "text": [
      "5\n",
      "1 3 5 2 4\n",
      "0 2 3 1 2\n"
     ]
    }
   ],
   "source": [
    "n = int(input())\n",
    "\n",
    "get_v = lambda x: int(x) - 1\n",
    "li = list(map(get_v, input().split()))\n",
    "\n",
    "locs = [0] * n\n",
    "for i in range(n):\n",
    "    locs[li[i]] = i\n",
    "    \n",
    "result = [0] * n\n",
    "\n",
    "for i in range(n):\n",
    "    if li[i] != i:\n",
    "        dist = abs(locs[i] - i)\n",
    "        \n",
    "        result[i] += dist\n",
    "        result[li[i]] += dist\n",
    "        \n",
    "        cur = i\n",
    "        cur_loc = locs[i]\n",
    "        other = li[i]\n",
    "        other_loc = locs[li[i]]\n",
    "        \n",
    "        li[cur_loc], li[other_loc] = li[other_loc], li[cur_loc]\n",
    "        locs[cur], locs[other] = locs[other], locs[cur]\n",
    "        \n",
    "print(*result)"
   ]
  },
  {
   "cell_type": "markdown",
   "metadata": {},
   "source": [
    "https://www.acmicpc.net/problem/28117 prlong longf"
   ]
  },
  {
   "cell_type": "code",
   "execution_count": 14,
   "metadata": {},
   "outputs": [
    {
     "name": "stdout",
     "output_type": "stream",
     "text": [
      "22\n",
      "longlongdoublelonglong\n",
      "4\n"
     ]
    }
   ],
   "source": [
    "dp = [0] * 100\n",
    "dp[1] = 1\n",
    "dp[2] = 2\n",
    "for i in range(3, 100):\n",
    "    dp[i] = dp[i - 1] + dp[i - 2]\n",
    "    \n",
    "n = int(input())\n",
    "s = input()\n",
    "\n",
    "ns = s.replace('long', 'A')\n",
    "\n",
    "result = 1\n",
    "cont = 0\n",
    "for v in ns:\n",
    "    if v == 'A':\n",
    "        cont += 1\n",
    "    else:\n",
    "        if cont:\n",
    "            result *= dp[cont]\n",
    "            cont = 0\n",
    "            \n",
    "if cont:\n",
    "    result *= dp[cont]\n",
    "    cont = 0\n",
    "    \n",
    "print(result)"
   ]
  },
  {
   "cell_type": "markdown",
   "metadata": {},
   "source": [
    "### L"
   ]
  },
  {
   "cell_type": "code",
   "execution_count": 3,
   "metadata": {},
   "outputs": [
    {
     "name": "stdout",
     "output_type": "stream",
     "text": [
      "44\n"
     ]
    }
   ],
   "source": [
    "import io, os, sys\n",
    "input = io.BytesIO(os.read(0, os.fstat(0).st_size)).readline\n",
    "\n",
    "# https://github.com/tatyam-prime/SortedSet/blob/main/SortedMultiset.py\n",
    "import math\n",
    "from bisect import bisect_left, bisect_right, insort\n",
    "from typing import Generic, Iterable, Iterator, TypeVar, Union, List\n",
    "T = TypeVar('T')\n",
    "\n",
    "class SortedMultiset(Generic[T]):\n",
    "    BUCKET_RATIO = 50\n",
    "    REBUILD_RATIO = 170\n",
    "\n",
    "    def _build(self, a=None) -> None:\n",
    "        \"Evenly divide `a` into buckets.\"\n",
    "        if a is None: a = list(self)\n",
    "        size = self.size = len(a)\n",
    "        bucket_size = int(math.ceil(math.sqrt(size / self.BUCKET_RATIO)))\n",
    "        self.a = [a[size * i // bucket_size : size * (i + 1) // bucket_size] for i in range(bucket_size)]\n",
    "    \n",
    "    def __init__(self, a: Iterable[T] = []) -> None:\n",
    "        \"Make a new SortedMultiset from iterable. / O(N) if sorted / O(N log N)\"\n",
    "        a = list(a)\n",
    "        if not all(a[i] <= a[i + 1] for i in range(len(a) - 1)):\n",
    "            a = sorted(a)\n",
    "        self._build(a)\n",
    "\n",
    "    def __iter__(self) -> Iterator[T]:\n",
    "        for i in self.a:\n",
    "            for j in i: yield j\n",
    "\n",
    "    def __reversed__(self) -> Iterator[T]:\n",
    "        for i in reversed(self.a):\n",
    "            for j in reversed(i): yield j\n",
    "    \n",
    "    def __len__(self) -> int:\n",
    "        return self.size\n",
    "    \n",
    "    def __repr__(self) -> str:\n",
    "        return \"SortedMultiset\" + str(self.a)\n",
    "    \n",
    "    def __str__(self) -> str:\n",
    "        s = str(list(self))\n",
    "        return \"{\" + s[1 : len(s) - 1] + \"}\"\n",
    "\n",
    "    def _find_bucket(self, x: T) -> List[T]:\n",
    "        \"Find the bucket which should contain x. self must not be empty.\"\n",
    "        for a in self.a:\n",
    "            if x <= a[-1]: return a\n",
    "        return a\n",
    "\n",
    "    def __contains__(self, x: T) -> bool:\n",
    "        if self.size == 0: return False\n",
    "        a = self._find_bucket(x)\n",
    "        i = bisect_left(a, x)\n",
    "        return i != len(a) and a[i] == x\n",
    "\n",
    "    def count(self, x: T) -> int:\n",
    "        \"Count the number of x.\"\n",
    "        return self.index_right(x) - self.index(x)\n",
    "\n",
    "    def add(self, x: T) -> None:\n",
    "        \"Add an element. / O(√N)\"\n",
    "        if self.size == 0:\n",
    "            self.a = [[x]]\n",
    "            self.size = 1\n",
    "            return\n",
    "        a = self._find_bucket(x)\n",
    "        insort(a, x)\n",
    "        self.size += 1\n",
    "        if len(a) > len(self.a) * self.REBUILD_RATIO:\n",
    "            self._build()\n",
    "\n",
    "    def discard(self, x: T) -> bool:\n",
    "        \"Remove an element and return True if removed. / O(√N)\"\n",
    "        if self.size == 0: return False\n",
    "        a = self._find_bucket(x)\n",
    "        i = bisect_left(a, x)\n",
    "        if i == len(a) or a[i] != x: return False\n",
    "        a.pop(i)\n",
    "        self.size -= 1\n",
    "        if len(a) == 0: self._build()\n",
    "        return True\n",
    "\n",
    "    def lt(self, x: T) -> Union[T, None]:\n",
    "        \"Find the largest element < x, or None if it doesn't exist.\"\n",
    "        for a in reversed(self.a):\n",
    "            if a[0] < x:\n",
    "                return a[bisect_left(a, x) - 1]\n",
    "\n",
    "    def le(self, x: T) -> Union[T, None]:\n",
    "        \"Find the largest element <= x, or None if it doesn't exist.\"\n",
    "        for a in reversed(self.a):\n",
    "            if a[0] <= x:\n",
    "                return a[bisect_right(a, x) - 1]\n",
    "\n",
    "    def gt(self, x: T) -> Union[T, None]:\n",
    "        \"Find the smallest element > x, or None if it doesn't exist.\"\n",
    "        for a in self.a:\n",
    "            if a[-1] > x:\n",
    "                return a[bisect_right(a, x)]\n",
    "\n",
    "    def ge(self, x: T) -> Union[T, None]:\n",
    "        \"Find the smallest element >= x, or None if it doesn't exist.\"\n",
    "        for a in self.a:\n",
    "            if a[-1] >= x:\n",
    "                return a[bisect_left(a, x)]\n",
    "    \n",
    "    def __getitem__(self, x: int) -> T:\n",
    "        \"Return the x-th element, or IndexError if it doesn't exist.\"\n",
    "        if x < 0: x += self.size\n",
    "        if x < 0: raise IndexError\n",
    "        for a in self.a:\n",
    "            if x < len(a): return a[x]\n",
    "            x -= len(a)\n",
    "        raise IndexError\n",
    "\n",
    "    def index(self, x: T) -> int:\n",
    "        \"Count the number of elements < x.\"\n",
    "        ans = 0\n",
    "        for a in self.a:\n",
    "            if a[-1] >= x:\n",
    "                return ans + bisect_left(a, x)\n",
    "            ans += len(a)\n",
    "        return ans\n",
    "\n",
    "    def index_right(self, x: T) -> int:\n",
    "        \"Count the number of elements <= x.\"\n",
    "        ans = 0\n",
    "        for a in self.a:\n",
    "            if a[-1] > x:\n",
    "                return ans + bisect_right(a, x)\n",
    "            ans += len(a)\n",
    "        return ans\n",
    "    \n",
    "n, k = map(int, input().split())\n",
    "\n",
    "cur = [SortedMultiset() for _ in range(12)]\n",
    "for _ in range(n):\n",
    "    p, w = map(int, input().split())\n",
    "    \n",
    "    cur[p].add(w)\n",
    "    \n",
    "for _ in range(k):\n",
    "    for i in range(1, 12):\n",
    "        if cur[i]:\n",
    "            v = cur[i][-1]\n",
    "            cur[i].discard(v)\n",
    "            \n",
    "            nv = max(0, v - 1)\n",
    "            cur[i].add(nv)\n",
    "    \n",
    "r = 0\n",
    "for i in range(1, 12):\n",
    "    if cur[i]:\n",
    "        r += cur[i][-1]\n",
    "        \n",
    "print(r)"
   ]
  },
  {
   "cell_type": "markdown",
   "metadata": {},
   "source": [
    "### G"
   ]
  },
  {
   "cell_type": "code",
   "execution_count": null,
   "metadata": {},
   "outputs": [],
   "source": [
    "import io, os, sys\n",
    "input = io.BytesIO(os.read(0, os.fstat(0).st_size)).readline\n",
    "\n",
    "n = int(input())\n",
    "cs = [0] + list(map(int, input().split()))\n",
    "\n",
    "times = [[] for _ in range(6)]\n",
    "for _ in range(n):\n",
    "    k, t = map(int, input().split())\n",
    "    \n",
    "    times[k].append(t)\n",
    "    \n",
    "for i in range(1, 6):\n",
    "    times[i].sort(reverse=True)\n",
    "    \n",
    "result = 240\n",
    "for diffy in range(1, 6):\n",
    "    former = -1\n",
    "    for i in range(cs[diffy]):\n",
    "        tm = times[diffy].pop()\n",
    "        \n",
    "        if former == -1:\n",
    "            result += tm\n",
    "        else:\n",
    "            result += tm - former\n",
    "            result += tm\n",
    "        \n",
    "        former = tm\n",
    "        \n",
    "print(result)"
   ]
  },
  {
   "cell_type": "markdown",
   "metadata": {},
   "source": [
    "### K"
   ]
  },
  {
   "cell_type": "code",
   "execution_count": 16,
   "metadata": {},
   "outputs": [
    {
     "name": "stdout",
     "output_type": "stream",
     "text": [
      "-2 -1\n",
      "-1 6\n",
      "-4 5\n",
      "1 0\n",
      "10 -8\n",
      "-3 -8\n",
      "1 -2\n",
      "6 -14\n",
      "-21/-4 -65/-4\n"
     ]
    }
   ],
   "source": [
    "from math import gcd\n",
    "\n",
    "A = [list(map(int, input().split())) for _ in range(4)]\n",
    "B = [list(map(int, input().split())) for _ in range(4)]\n",
    "\n",
    "x_st = set()\n",
    "y_st = set()\n",
    "for i in range(4):    \n",
    "    x_st.add(A[i][0])\n",
    "    y_st.add(A[i][1])\n",
    "    \n",
    "xs = sorted(x_st)\n",
    "ys = sorted(y_st)\n",
    "\n",
    "a_x = [xs[0] + xs[-1], 2]\n",
    "a_y = [ys[0] + ys[-1], 2]\n",
    "\n",
    "\n",
    "x_st = set()\n",
    "y_st = set()\n",
    "for i in range(4):    \n",
    "    x_st.add(B[i][0])\n",
    "    y_st.add(B[i][1])\n",
    "    \n",
    "xs = sorted(x_st)\n",
    "ys = sorted(y_st)\n",
    "\n",
    "b_x = [xs[0] + xs[-1], 2]\n",
    "b_y = [ys[0] + ys[-1], 2]\n",
    "\n",
    "diff_y = [a_y[0] - b_y[0], 2]\n",
    "diff_x = [a_x[0] - b_x[0], 2]\n",
    "\n",
    "p = [diff_y[0] * diff_x[1], diff_y[1] * diff_x[0]]\n",
    "\n",
    "px = [p[0] * a_x[0], p[1] * a_x[1]]\n",
    "\n",
    "mul1 = px[1]\n",
    "mul2 = a_y[1]\n",
    "\n",
    "a_y[0] *= mul1\n",
    "a_y[1] *= mul1\n",
    "px[0] *= mul2\n",
    "px[1] *= mul2\n",
    "\n",
    "q = y_minus_px = [a_y[0] - px[0], a_y[1]]\n",
    "\n",
    "if p[0] < 0 and p[1] < 0:\n",
    "    p[0] = -p[0]\n",
    "    p[1] = -p[1]\n",
    "    \n",
    "if q[0] < 0 and q[1] < 0:\n",
    "    q[0] = -q[0]\n",
    "    q[1] = -q[1]\n",
    "    \n",
    "g = gcd(p[0], p[1])\n",
    "p[0] //= g\n",
    "p[1] //= g\n",
    "\n",
    "g = gcd(q[0], q[1])\n",
    "q[0] //= g\n",
    "q[1] //= g\n",
    "\n",
    "if p[0] == 0:\n",
    "    r1 = 0\n",
    "elif p[1] == 1:\n",
    "    r1 = f'{p[0]}'\n",
    "elif p[1] == -1:\n",
    "    r1 = f'-{p[0]}'\n",
    "else:\n",
    "    if p[0] < 0 or p[1] < 0:\n",
    "        if p[0] < 0:\n",
    "            p[0] = -p[0]\n",
    "        elif p[1] < 0:\n",
    "            p[1] = -p[1]\n",
    "\n",
    "        r1 = f'-{p[0]}/{p[1]}'\n",
    "    else:\n",
    "        r1 = f'{p[0]}/{p[1]}'\n",
    "\n",
    "if q[0] == 0:\n",
    "    r2 = 0\n",
    "elif q[1] == 1:\n",
    "    r2 = f'{q[0]}'\n",
    "elif q[1] == -1:\n",
    "    r2 = f'-{q[0]}'\n",
    "else:\n",
    "    if q[0] < 0 or q[1] < 0:\n",
    "        if q[0] < 0:\n",
    "            q[0] = -q[0]\n",
    "        elif q[1] < 0:\n",
    "            q[1] = -q[1]\n",
    "            \n",
    "        r2 = f'-{q[0]}/{q[1]}'\n",
    "    else:\n",
    "        r2 = f'{q[0]}/{q[1]}'\n",
    "    \n",
    "print(r1, r2)"
   ]
  },
  {
   "cell_type": "markdown",
   "metadata": {},
   "source": [
    "### F"
   ]
  },
  {
   "cell_type": "code",
   "execution_count": null,
   "metadata": {},
   "outputs": [],
   "source": [
    "n, m = map(int, input().split())\n",
    "\n",
    "def get_mc(p):\n",
    "    n = len(p)\n",
    "    mc = [0] * n\n",
    "    j = 0\n",
    "    for i in range(1, n):\n",
    "        while j > 0 and p[i] != p[j]:\n",
    "            j = mc[j - 1]\n",
    "        if p[i] == p[j]:\n",
    "            j += 1\n",
    "            mc[i] = j\n",
    "    return mc\n",
    "\n",
    "def kmp(s, p):\n",
    "    n, m = len(s), len(p)\n",
    "    mc = get_mc(p)\n",
    "    pi = 0\n",
    "    result = []\n",
    "    for si in range(n):\n",
    "        while pi > 0 and s[si] != p[pi]:\n",
    "            pi = mc[pi - 1]\n",
    "        if s[si] == p[pi]:\n",
    "            pi += 1\n",
    "            if pi == m:\n",
    "                pi = mc[pi - 1]\n",
    "        result.append(pi > 0)\n",
    "    return result\n",
    "\n",
    "s = list(reversed(input().split()))\n",
    "p = list(reversed(input().split()))\n",
    "\n",
    "temp = kmp(s, p)\n",
    "\n",
    "conts = []\n",
    "cont = 0\n",
    "for v in temp:\n",
    "    if v:\n",
    "        cont += 1\n",
    "    else:\n",
    "        if cont:\n",
    "            conts.append(cont)\n",
    "        cont = 0\n",
    "if cont:\n",
    "    conts.append(cont)\n",
    "    \n",
    "if not conts:\n",
    "    print('Second')\n",
    "else:\n",
    "    over_5c = 0\n",
    "    for v in conts:\n",
    "        if v >= 5:\n",
    "            over_5c += 1\n",
    "    \n",
    "    cur = conts[0]\n",
    "    for i in range(1, len(conts)):\n",
    "        cur ^= conts[i]\n",
    "        \n",
    "    if over_5c % 2 == 0:\n",
    "        over\n",
    "        \n",
    "    if cur == 0 and over_5c % 2 == 0:\n",
    "        print('Second')\n",
    "    else:\n",
    "        print('First')"
   ]
  },
  {
   "cell_type": "markdown",
   "metadata": {},
   "source": [
    "https://www.acmicpc.net/problem/3553 Dragon’s Question"
   ]
  },
  {
   "cell_type": "code",
   "execution_count": 6,
   "metadata": {},
   "outputs": [
    {
     "name": "stdout",
     "output_type": "stream",
     "text": [
      "1 4\n",
      "4\n"
     ]
    }
   ],
   "source": [
    "n, d = map(int, input().split())\n",
    "\n",
    "d_len = len(str(d))\n",
    "\n",
    "if n < d_len:\n",
    "    print('No solution')\n",
    "else:\n",
    "    diff = (n - d_len)\n",
    "    r = str(d) + '0' * diff\n",
    "    \n",
    "    print(r)"
   ]
  },
  {
   "cell_type": "markdown",
   "metadata": {},
   "source": [
    "https://www.acmicpc.net/problem/18688 Military Service"
   ]
  },
  {
   "cell_type": "code",
   "execution_count": 14,
   "metadata": {},
   "outputs": [
    {
     "name": "stdout",
     "output_type": "stream",
     "text": [
      "4 1\n",
      "2\n"
     ]
    }
   ],
   "source": [
    "import io, os, sys\n",
    "input = io.BytesIO(os.read(0, os.fstat(0).st_size)).readline\n",
    "\n",
    "for _ in range(int(input())):\n",
    "    n, k = map(int, input().split())\n",
    "\n",
    "    if n == 0 or k == 0:\n",
    "        print(0)\n",
    "    else:\n",
    "        result = n\n",
    "\n",
    "        to_minus = (n - 1) // (k + 1) + 1\n",
    "\n",
    "        result -= to_minus\n",
    "\n",
    "        print(result)"
   ]
  },
  {
   "cell_type": "markdown",
   "metadata": {},
   "source": [
    "https://www.acmicpc.net/problem/20751 Barsik"
   ]
  },
  {
   "cell_type": "code",
   "execution_count": 17,
   "metadata": {},
   "outputs": [
    {
     "name": "stdout",
     "output_type": "stream",
     "text": [
      "8 4 3 3 1\n",
      "Barsik\n"
     ]
    }
   ],
   "source": [
    "import io, os, sys\n",
    "input = io.BytesIO(os.read(0, os.fstat(0).st_size)).readline\n",
    "\n",
    "for _ in range(int(input())):\n",
    "    n, m, r, c, s = map(int, input().split())\n",
    "\n",
    "    is_up = is_down = is_left = is_right = True\n",
    "\n",
    "    if r - s <= 1:\n",
    "        is_up = False\n",
    "    if r + s >= n:\n",
    "        is_down = False\n",
    "    if c - s <= 1:\n",
    "        is_left = False\n",
    "    if c + s >= m:\n",
    "        is_right = False\n",
    "\n",
    "    if (is_up and is_right) or (is_left and is_down):\n",
    "        print('Barsik')\n",
    "    else:\n",
    "        print('Tuzik')"
   ]
  },
  {
   "cell_type": "markdown",
   "metadata": {},
   "source": [
    "https://www.acmicpc.net/problem/22548 雅先生の地球侵略日誌"
   ]
  },
  {
   "cell_type": "code",
   "execution_count": 30,
   "metadata": {},
   "outputs": [
    {
     "name": "stdout",
     "output_type": "stream",
     "text": [
      "2000000000\n",
      "20\n"
     ]
    }
   ],
   "source": [
    "n = int(input())\n",
    "\n",
    "r = 1\n",
    "while n > 3:\n",
    "    r += 1\n",
    "    \n",
    "    temp = n // 3\n",
    "    if n % 3:\n",
    "        temp += 1\n",
    "        \n",
    "    n = temp\n",
    "        \n",
    "print(r)"
   ]
  },
  {
   "cell_type": "markdown",
   "metadata": {},
   "source": [
    "https://www.acmicpc.net/problem/8773 Szlaczek"
   ]
  },
  {
   "cell_type": "code",
   "execution_count": 38,
   "metadata": {},
   "outputs": [
    {
     "name": "stdout",
     "output_type": "stream",
     "text": [
      "5 8\n",
      "1 2 3 4 5\n",
      "2\n"
     ]
    }
   ],
   "source": [
    "import io, os, sys\n",
    "input = io.BytesIO(os.read(0, os.fstat(0).st_size)).readline\n",
    "\n",
    "for _ in range(int(input())):\n",
    "    n, m = map(int, input().split())\n",
    "    li = list(map(int, input().split()))\n",
    "\n",
    "    rli = list(reversed(li))\n",
    "\n",
    "    all_li = li + rli\n",
    "\n",
    "    cur = m // (n * 2)\n",
    "    rem = m % (n * 2)\n",
    "\n",
    "    print(all_li[rem])"
   ]
  },
  {
   "cell_type": "markdown",
   "metadata": {},
   "source": [
    "https://www.acmicpc.net/problem/29618 미술 시간"
   ]
  },
  {
   "cell_type": "code",
   "execution_count": 5,
   "metadata": {},
   "outputs": [
    {
     "name": "stdout",
     "output_type": "stream",
     "text": [
      "6 2\n",
      "4 4 3\n",
      "1 5 1\n",
      "1 1 1 3 1 0\n"
     ]
    }
   ],
   "source": [
    "import io, os, sys\n",
    "input = io.BytesIO(os.read(0, os.fstat(0).st_size)).readline\n",
    "\n",
    "def find(v):\n",
    "    while v != pa[v]:\n",
    "        pa[v] = pa[pa[v]]\n",
    "        v = pa[v]\n",
    "        \n",
    "    return v\n",
    "\n",
    "def union(a, b):\n",
    "    if a < b:\n",
    "        a, b = b, a\n",
    "        \n",
    "    pa[b] = a\n",
    "\n",
    "n, q = map(int, input().split())\n",
    "\n",
    "colors = [0] * n\n",
    "pa = list(range(n + 1))\n",
    "for _ in range(q):\n",
    "    a, b, x = map(int, input().split())\n",
    "    a -= 1\n",
    "    b -= 1\n",
    "    \n",
    "    cur = a\n",
    "    while True:\n",
    "        ncur = find(cur)\n",
    "        if cur == ncur:\n",
    "            colors[ncur] = x\n",
    "            union(cur, find(cur + 1))\n",
    "            cur = find(cur + 1)\n",
    "            if cur > b:\n",
    "                break\n",
    "        else:\n",
    "            cur = ncur\n",
    "            if cur > b:\n",
    "                break\n",
    "                \n",
    "print(*colors)"
   ]
  },
  {
   "cell_type": "markdown",
   "metadata": {},
   "source": [
    "https://www.acmicpc.net/contest/problem/1088/1 A번"
   ]
  },
  {
   "cell_type": "code",
   "execution_count": null,
   "metadata": {},
   "outputs": [],
   "source": [
    "n, u, l = map(int, input().split())\n",
    "\n",
    "if n >= 1000 and (u >= 8000 or l >= 260):\n",
    "    print('Very Good')\n",
    "elif n >= 1000:\n",
    "    print('Good')\n",
    "else:\n",
    "    print('Bad')"
   ]
  },
  {
   "cell_type": "code",
   "execution_count": null,
   "metadata": {},
   "outputs": [],
   "source": []
  },
  {
   "cell_type": "markdown",
   "metadata": {},
   "source": [
    "https://www.acmicpc.net/contest/problem/1088/5 E번 - 엘나스의 용사"
   ]
  },
  {
   "cell_type": "code",
   "execution_count": 26,
   "metadata": {},
   "outputs": [
    {
     "name": "stdout",
     "output_type": "stream",
     "text": [
      "3 4 10\n",
      "1 22 199\n",
      "1 23 30 76\n",
      "1 2\n",
      "10\n"
     ]
    }
   ],
   "source": [
    "from bisect import bisect_left\n",
    "\n",
    "inf = float('inf')\n",
    "\n",
    "n, m, k = map(int, input().split())\n",
    "hs = list(map(int, input().split()))\n",
    "ls = list(map(int, input().split()))\n",
    "\n",
    "cs = [0] * 201\n",
    "for v in hs:\n",
    "    cs[v] += 1\n",
    "    \n",
    "nls = [(v, i) for i, v in enumerate(ls)]\n",
    "nls.sort(key=lambda x: x[0])\n",
    "\n",
    "moved = [0] * (m + 1)\n",
    "for to_up in range(k):\n",
    "    for p_lev_temp in range(200):\n",
    "        p_lev = p_lev_temp + to_up\n",
    "        \n",
    "        if p_lev >= 200:\n",
    "            continue  \n",
    "        \n",
    "        to_go = bisect_left(nls, (p_lev, 10000)) - 1\n",
    "        moved[nls[to_go][1]] += cs[p_lev_temp]\n",
    "        \n",
    "r1 = 0\n",
    "for i in range(m + 1):\n",
    "    r1 += i * moved[i]\n",
    "    \n",
    "r2_loc = inf\n",
    "r2 = inf\n",
    "for cand in range(m + 1):\n",
    "    temp = 0\n",
    "    for cur in range(m + 1):\n",
    "        temp += min(cur, abs(cand - cur)) * moved[cur]\n",
    "        \n",
    "    if temp < r2:\n",
    "        r2 = temp\n",
    "        r2_loc = cand + 1\n",
    "        \n",
    "if r2_loc == 1:\n",
    "    r2_loc = 2\n",
    "    \n",
    "print(1, r2_loc)\n",
    "print(r1 - r2)"
   ]
  },
  {
   "cell_type": "markdown",
   "metadata": {},
   "source": [
    "https://www.acmicpc.net/contest/problem/1112/2"
   ]
  },
  {
   "cell_type": "code",
   "execution_count": 27,
   "metadata": {},
   "outputs": [
    {
     "name": "stdout",
     "output_type": "stream",
     "text": [
      "5 3\n",
      "3 -5 2 -1 4\n",
      "6\n"
     ]
    }
   ],
   "source": [
    "n, k = map(int, input().split())\n",
    "li = list(map(int, input().split()))\n",
    "\n",
    "sli = [0] * n\n",
    "cumul = 0\n",
    "for i in range(n):\n",
    "    cumul += li[i]\n",
    "    sli[i] = cumul\n",
    "    \n",
    "sli.sort()\n",
    "\n",
    "result = sum(sli[-k:])\n",
    "\n",
    "print(result)"
   ]
  },
  {
   "cell_type": "markdown",
   "metadata": {},
   "source": [
    "https://www.acmicpc.net/contest/problem/1112/3 C번 - 팰린드롬 이름"
   ]
  },
  {
   "cell_type": "code",
   "execution_count": null,
   "metadata": {},
   "outputs": [],
   "source": [
    "5 2\n",
    "\n",
    "baaaa\n",
    "\n",
    "aabaa"
   ]
  },
  {
   "cell_type": "code",
   "execution_count": 37,
   "metadata": {},
   "outputs": [
    {
     "name": "stdout",
     "output_type": "stream",
     "text": [
      "6\n"
     ]
    }
   ],
   "source": [
    "s = 'aaabbc'\n",
    "s = 'aaaabc'\n",
    "\n",
    "def check(s):\n",
    "    if s == s[::-1]:\n",
    "        return True\n",
    "    return False\n",
    "\n",
    "c = 0\n",
    "for i in range(n):\n",
    "    for j in range(i + 1, n):\n",
    "        if check(s[i:j + 1]):\n",
    "            c += 1  \n",
    "            \n",
    "print(c)"
   ]
  },
  {
   "cell_type": "code",
   "execution_count": 40,
   "metadata": {},
   "outputs": [
    {
     "data": {
      "text/plain": [
       "'a'"
      ]
     },
     "execution_count": 40,
     "metadata": {},
     "output_type": "execute_result"
    }
   ],
   "source": [
    "chr(97)"
   ]
  },
  {
   "cell_type": "code",
   "execution_count": 45,
   "metadata": {},
   "outputs": [
    {
     "name": "stdout",
     "output_type": "stream",
     "text": [
      "3 3\n",
      "abc\n"
     ]
    }
   ],
   "source": [
    "n, k = map(int, input().split())\n",
    "\n",
    "r_left = (n - (k - 1)) * 'a'\n",
    "r_right = ''\n",
    "for i in range(k - 1):\n",
    "    r_right += chr(98 + i)\n",
    "    \n",
    "r = r_left + r_right\n",
    "\n",
    "print(r)"
   ]
  },
  {
   "cell_type": "markdown",
   "metadata": {},
   "source": [
    "https://www.acmicpc.net/contest/problem/1112/4 D번 - 음악회"
   ]
  },
  {
   "cell_type": "code",
   "execution_count": 73,
   "metadata": {},
   "outputs": [
    {
     "name": "stdout",
     "output_type": "stream",
     "text": [
      "3\n",
      "2 1 1\n",
      "3\n",
      "1 1\n",
      "1 2\n",
      "1 2\n",
      "1 2\n",
      "2 2\n",
      "1 2\n"
     ]
    }
   ],
   "source": [
    "import io, os, sys\n",
    "# input = io.BytesIO(os.read(0, os.fstat(0).st_size)).readline\n",
    "\n",
    "# https://github.com/tatyam-prime/SortedSet/blob/main/SortedSet.py\n",
    "import math\n",
    "from bisect import bisect_left, bisect_right\n",
    "from typing import Generic, Iterable, Iterator, TypeVar, Union, List\n",
    "T = TypeVar('T')\n",
    "\n",
    "class SortedSet(Generic[T]):\n",
    "    BUCKET_RATIO = 50\n",
    "    REBUILD_RATIO = 170\n",
    "\n",
    "    def _build(self, a=None) -> None:\n",
    "        \"Evenly divide `a` into buckets.\"\n",
    "        if a is None: a = list(self)\n",
    "        size = self.size = len(a)\n",
    "        bucket_size = int(math.ceil(math.sqrt(size / self.BUCKET_RATIO)))\n",
    "        self.a = [a[size * i // bucket_size : size * (i + 1) // bucket_size] for i in range(bucket_size)]\n",
    "    \n",
    "    def __init__(self, a: Iterable[T] = []) -> None:\n",
    "        \"Make a new SortedSet from iterable. / O(N) if sorted and unique / O(N log N)\"\n",
    "        a = list(a)\n",
    "        if not all(a[i] < a[i + 1] for i in range(len(a) - 1)):\n",
    "            a = sorted(set(a))\n",
    "        self._build(a)\n",
    "\n",
    "    def __iter__(self) -> Iterator[T]:\n",
    "        for i in self.a:\n",
    "            for j in i: yield j\n",
    "\n",
    "    def __reversed__(self) -> Iterator[T]:\n",
    "        for i in reversed(self.a):\n",
    "            for j in reversed(i): yield j\n",
    "    \n",
    "    def __len__(self) -> int:\n",
    "        return self.size\n",
    "    \n",
    "    def __repr__(self) -> str:\n",
    "        return \"SortedSet\" + str(self.a)\n",
    "    \n",
    "    def __str__(self) -> str:\n",
    "        s = str(list(self))\n",
    "        return \"{\" + s[1 : len(s) - 1] + \"}\"\n",
    "\n",
    "    def _find_bucket(self, x: T) -> List[T]:\n",
    "        \"Find the bucket which should contain x. self must not be empty.\"\n",
    "        for a in self.a:\n",
    "            if x <= a[-1]: return a\n",
    "        return a\n",
    "\n",
    "    def __contains__(self, x: T) -> bool:\n",
    "        if self.size == 0: return False\n",
    "        a = self._find_bucket(x)\n",
    "        i = bisect_left(a, x)\n",
    "        return i != len(a) and a[i] == x\n",
    "\n",
    "    def add(self, x: T) -> bool:\n",
    "        \"Add an element and return True if added. / O(√N)\"\n",
    "        if self.size == 0:\n",
    "            self.a = [[x]]\n",
    "            self.size = 1\n",
    "            return True\n",
    "        a = self._find_bucket(x)\n",
    "        i = bisect_left(a, x)\n",
    "        if i != len(a) and a[i] == x: return False\n",
    "        a.insert(i, x)\n",
    "        self.size += 1\n",
    "        if len(a) > len(self.a) * self.REBUILD_RATIO:\n",
    "            self._build()\n",
    "        return True\n",
    "\n",
    "    def discard(self, x: T) -> bool:\n",
    "        \"Remove an element and return True if removed. / O(√N)\"\n",
    "        if self.size == 0: return False\n",
    "        a = self._find_bucket(x)\n",
    "        i = bisect_left(a, x)\n",
    "        if i == len(a) or a[i] != x: return False\n",
    "        a.pop(i)\n",
    "        self.size -= 1\n",
    "        if len(a) == 0: self._build()\n",
    "        return True\n",
    "    \n",
    "    def lt(self, x: T) -> Union[T, None]:\n",
    "        \"Find the largest element < x, or None if it doesn't exist.\"\n",
    "        for a in reversed(self.a):\n",
    "            if a[0] < x:\n",
    "                return a[bisect_left(a, x) - 1]\n",
    "\n",
    "    def le(self, x: T) -> Union[T, None]:\n",
    "        \"Find the largest element <= x, or None if it doesn't exist.\"\n",
    "        for a in reversed(self.a):\n",
    "            if a[0] <= x:\n",
    "                return a[bisect_right(a, x) - 1]\n",
    "\n",
    "    def gt(self, x: T) -> Union[T, None]:\n",
    "        \"Find the smallest element > x, or None if it doesn't exist.\"\n",
    "        for a in self.a:\n",
    "            if a[-1] > x:\n",
    "                return a[bisect_right(a, x)]\n",
    "\n",
    "    def ge(self, x: T) -> Union[T, None]:\n",
    "        \"Find the smallest element >= x, or None if it doesn't exist.\"\n",
    "        for a in self.a:\n",
    "            if a[-1] >= x:\n",
    "                return a[bisect_left(a, x)]\n",
    "    \n",
    "    def __getitem__(self, x: int) -> T:\n",
    "        \"Return the x-th element, or IndexError if it doesn't exist.\"\n",
    "        if x < 0: x += self.size\n",
    "        if x < 0: raise IndexError\n",
    "        for a in self.a:\n",
    "            if x < len(a): return a[x]\n",
    "            x -= len(a)\n",
    "        raise IndexError\n",
    "    \n",
    "    def index(self, x: T) -> int:\n",
    "        \"Count the number of elements < x.\"\n",
    "        ans = 0\n",
    "        for a in self.a:\n",
    "            if a[-1] >= x:\n",
    "                return ans + bisect_left(a, x)\n",
    "            ans += len(a)\n",
    "        return ans\n",
    "\n",
    "    def index_right(self, x: T) -> int:\n",
    "        \"Count the number of elements <= x.\"\n",
    "        ans = 0\n",
    "        for a in self.a:\n",
    "            if a[-1] > x:\n",
    "                return ans + bisect_right(a, x)\n",
    "            ans += len(a)\n",
    "        return \n",
    "\n",
    "n = int(input())\n",
    "li = list(map(int, input().split()))\n",
    "\n",
    "start_points = SortedSet()\n",
    "start_points_info = [[] for _ in range(n)]\n",
    "cands = SortedSet()\n",
    "\n",
    "cont = 0\n",
    "cur = li[-1]\n",
    "for i in range(n - 1, -1, -1):\n",
    "    if li[i] == cur:\n",
    "        cont += 1\n",
    "    else:\n",
    "        start_points.add(i + 1)\n",
    "        start_points_info[i + 1] = [cur, cont, i + 1]\n",
    "        cands.add((cur, cont, -(i + 1)))\n",
    "        \n",
    "        cur = li[i]\n",
    "        cont = 1\n",
    "        \n",
    "start_points.add(0)\n",
    "start_points_info[0] = [cur, cont, 0]\n",
    "cands.add((cur, cont, 0))\n",
    "\n",
    "q = int(input())\n",
    "for _ in range(q):\n",
    "    x, y = map(int, input().split())\n",
    "    x -= 1\n",
    "    \n",
    "    index = start_points.index(x + 0.5) - 1\n",
    "    info = starts_points_info[index]\n",
    "    \n",
    "    fv, length, start_index = info\n",
    "    cands.discard((fv, length, -start_index))\n",
    "    \n",
    "    if index + 1 < len(start_points) and start_points_info[start_points[index + 1]][0] == y:\n",
    "        length += \n",
    "    \n",
    "    print(start_index + 1, end_index + 1)"
   ]
  },
  {
   "cell_type": "markdown",
   "metadata": {},
   "source": [
    "https://www.acmicpc.net/contest/problem/1129/1 A번 - 학번을 찾아줘!"
   ]
  },
  {
   "cell_type": "code",
   "execution_count": 6,
   "metadata": {},
   "outputs": [
    {
     "name": "stdout",
     "output_type": "stream",
     "text": [
      "4\n",
      "50 25 25 50\n",
      "96807975\n"
     ]
    }
   ],
   "source": [
    "n = int(input())\n",
    "li = list(map(int, input().split()))\n",
    "\n",
    "li.extend([0] * (5 - n))\n",
    "\n",
    "r = 0\n",
    "\n",
    "diff = abs(li[0] - li[2])\n",
    "if li[0] > li[2]:\n",
    "    r += diff * 508\n",
    "else:\n",
    "    r += diff * 108\n",
    "\n",
    "diff = abs(li[1] - li[3])\n",
    "if li[1] > li[3]:\n",
    "    r += diff * 212\n",
    "else:\n",
    "    r += diff * 305\n",
    "    \n",
    "r += li[4] * 707\n",
    "    \n",
    "r *= 4763\n",
    "\n",
    "print(r)"
   ]
  }
 ],
 "metadata": {
  "kernelspec": {
   "display_name": "Python 3",
   "language": "python",
   "name": "python3"
  },
  "language_info": {
   "codemirror_mode": {
    "name": "ipython",
    "version": 3
   },
   "file_extension": ".py",
   "mimetype": "text/x-python",
   "name": "python",
   "nbconvert_exporter": "python",
   "pygments_lexer": "ipython3",
   "version": "3.8.3"
  }
 },
 "nbformat": 4,
 "nbformat_minor": 4
}
