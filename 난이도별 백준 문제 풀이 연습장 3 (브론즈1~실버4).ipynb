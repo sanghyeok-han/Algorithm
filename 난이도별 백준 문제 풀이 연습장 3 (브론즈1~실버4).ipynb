{
 "cells": [
  {
   "cell_type": "markdown",
   "metadata": {},
   "source": [
    "### 등수 구하기 1205"
   ]
  },
  {
   "cell_type": "code",
   "execution_count": null,
   "metadata": {},
   "outputs": [],
   "source": [
    "# 틀렸음\n",
    "n, new_score, p = map(int, input().split())\n",
    "if n == 0:\n",
    "    print(1)\n",
    "else:\n",
    "    li = list(map(int, input().split()))\n",
    "    li.sort(reverse=True)\n",
    "    ranks = [0] * n\n",
    "    ranks[0] = 1\n",
    "    for i in range(1, n):\n",
    "        if li[i - 1] > li[i]:\n",
    "            ranks[i] = ranks[i - 1] + 1\n",
    "        else:\n",
    "            ranks[i] = ranks[i - 1]\n",
    "           \n",
    "    result = -1\n",
    "    for i in range(n):\n",
    "        if li[i] < new_score:\n",
    "            result = i + 1\n",
    "            \n",
    "            if i >= 1 and li[i - 1] == new_score:\n",
    "                result = ranks[i - 1]\n",
    "            break\n",
    "    else:\n",
    "        i += 1\n",
    "        if li[-1] == new_score:\n",
    "            result = ranks[-1]\n",
    "        else:\n",
    "            result = i + 1\n",
    "            \n",
    "    i += 1\n",
    "    if i > p:\n",
    "        result = -1\n",
    "        \n",
    "    print(result)"
   ]
  },
  {
   "cell_type": "code",
   "execution_count": null,
   "metadata": {},
   "outputs": [],
   "source": [
    "5 2 5\n",
    "5 3 3 3 1 1\n",
    "5"
   ]
  },
  {
   "cell_type": "code",
   "execution_count": null,
   "metadata": {},
   "outputs": [],
   "source": [
    "4 10 4\n"
   ]
  },
  {
   "cell_type": "code",
   "execution_count": null,
   "metadata": {},
   "outputs": [],
   "source": [
    "4 10 5\n",
    "11 11 11 11\n",
    "2"
   ]
  },
  {
   "cell_type": "markdown",
   "metadata": {},
   "source": [
    "### D-Day 1308"
   ]
  },
  {
   "cell_type": "code",
   "execution_count": 109,
   "metadata": {},
   "outputs": [
    {
     "name": "stdout",
     "output_type": "stream",
     "text": [
      "2008 12 27\n",
      "2009 1 22\n",
      "D-26\n"
     ]
    }
   ],
   "source": [
    "from datetime import datetime\n",
    "\n",
    "ay, am, ad = input().split()\n",
    "by, bm, bd = input().split()\n",
    "\n",
    "ay = ay.rjust(4, '0')\n",
    "by = by.rjust(4, '0')\n",
    "\n",
    "aa = f'{ay} {am} {ad}'\n",
    "bb = f'{by} {bm} {bd}'\n",
    "\n",
    "aa = datetime.strptime(aa, '%Y %m %d')\n",
    "bb = datetime.strptime(bb, '%Y %m %d')\n",
    "\n",
    "diff = bb - aa\n",
    "diff = diff.days\n",
    "result = f'D-{diff}'\n",
    "\n",
    "def check():\n",
    "    if ay < by - 1000:\n",
    "        return True\n",
    "    if ay > by - 1000:\n",
    "        return False\n",
    "    if am < bm:\n",
    "        return True\n",
    "    if am > bm:\n",
    "        return False\n",
    "    if ad <= bd:\n",
    "        return True\n",
    "    return False\n",
    "\n",
    "ay = int(ay)\n",
    "by = int(by)\n",
    "\n",
    "if check():\n",
    "    result = 'gg'\n",
    "\n",
    "print(result)"
   ]
  },
  {
   "cell_type": "markdown",
   "metadata": {},
   "source": [
    "### 미로 만들기 1347"
   ]
  },
  {
   "cell_type": "code",
   "execution_count": 141,
   "metadata": {},
   "outputs": [
    {
     "name": "stdout",
     "output_type": "stream",
     "text": [
      "10\n",
      "RFFLFFRFFLFF\n",
      "# # . . .\n",
      "# # . # #\n",
      ". . . # #\n",
      ". # # # #\n",
      ". # # # #\n"
     ]
    }
   ],
   "source": [
    "# 틀렸음\n",
    "n = int(input())\n",
    "s = input()\n",
    "\n",
    "m = 101\n",
    "maze = [['#'] * m for _ in range(m)]\n",
    "maze[50][50] = '.'\n",
    "\n",
    "x, y = 50, 50\n",
    "\n",
    "# 남, 서, 북, 동\n",
    "dx = [1, 0, -1, 0]\n",
    "dy = [0, -1, 0, 1]\n",
    "\n",
    "direction = 0\n",
    "\n",
    "for c in s:\n",
    "    if c == 'R':\n",
    "        direction += 1\n",
    "    elif c == 'L':\n",
    "        direction -= 1\n",
    "    else:\n",
    "        x = x + dx[direction % 4]\n",
    "        y = y + dy[direction % 4]\n",
    "        maze[x][y] = '.'\n",
    "        \n",
    "c_start = float('inf')\n",
    "r_start = float('inf')\n",
    "c_end = -1\n",
    "r_end = -1\n",
    "for i in range(101):\n",
    "    for j in range(101):\n",
    "        if maze[i][j] == '.':\n",
    "            r_start = min(i, r_start)\n",
    "            r_end = max(i, r_end)\n",
    "            c_start = min(j, c_start)\n",
    "            c_end = max(j, c_end)\n",
    "    \n",
    "result = []\n",
    "for i in range(r_start, r_end + 1):\n",
    "    result.append(maze[i][c_start:c_end + 1])\n",
    "    \n",
    "for v in result:\n",
    "    print(*v)    "
   ]
  },
  {
   "cell_type": "markdown",
   "metadata": {},
   "source": [
    "### 나이트 투어 1331"
   ]
  },
  {
   "cell_type": "code",
   "execution_count": 142,
   "metadata": {},
   "outputs": [
    {
     "name": "stdout",
     "output_type": "stream",
     "text": [
      "A1\n",
      "B3\n",
      "A5\n",
      "C6\n",
      "E5\n",
      "F3\n",
      "D2\n",
      "F1\n",
      "E3\n",
      "F5\n",
      "D4\n",
      "B5\n",
      "A3\n",
      "B1\n",
      "C3\n",
      "A2\n",
      "C1\n",
      "E2\n",
      "F4\n",
      "E6\n",
      "C5\n",
      "A6\n",
      "B4\n",
      "D5\n",
      "F6\n",
      "E4\n",
      "D6\n",
      "C4\n",
      "B6\n",
      "A4\n",
      "B2\n",
      "D1\n",
      "F2\n",
      "D3\n",
      "E1\n",
      "C2\n"
     ]
    }
   ],
   "source": [
    "alpha_to_num = lambda x: ord(x) - 64\n",
    "\n",
    "dx = [-1, -2, -2, -1, 1, 2, 2, 1]\n",
    "dy = [-2, -1, 1, 2, -2, -1, 1, 2]\n",
    "\n",
    "li = []\n",
    "for _ in range(36):\n",
    "    value = input()\n",
    "    li.append(value)"
   ]
  },
  {
   "cell_type": "code",
   "execution_count": 143,
   "metadata": {},
   "outputs": [],
   "source": [
    "new_li = []\n",
    "for value in li:\n",
    "    x, y = value\n",
    "    x = alpha_to_num(x)\n",
    "    y = int(y)\n",
    "    \n",
    "    new_li.append((x, y))"
   ]
  },
  {
   "cell_type": "code",
   "execution_count": 2,
   "metadata": {},
   "outputs": [
    {
     "name": "stdout",
     "output_type": "stream",
     "text": [
      "Valid\n"
     ]
    }
   ],
   "source": [
    "def check_adjacent(li1, li2):\n",
    "    x, y = li1\n",
    "    tx, ty = li2\n",
    "\n",
    "    for j in range(len(dx)):\n",
    "        nx = x + dx[j]\n",
    "        ny = y + dy[j]\n",
    "        \n",
    "        if tx == nx and ty == ny:\n",
    "            return True\n",
    "    return False\n",
    "\n",
    "def check():\n",
    "    if len(li) != len(set(li)):\n",
    "        return False\n",
    "    \n",
    "    for i in range(35):\n",
    "        if not check_adjacent(new_li[i], new_li[i + 1]):\n",
    "            return False\n",
    "    if not check_adjacent(new_li[0], new_li[-1]):\n",
    "        return False\n",
    "    return True\n",
    "      \n",
    "alpha_to_num = lambda x: ord(x) - 64\n",
    "\n",
    "dx = [-1, -2, -2, -1, 1, 2, 2, 1]\n",
    "dy = [-2, -1, 1, 2, -2, -1, 1, 2]\n",
    "\n",
    "li = []\n",
    "for _ in range(36):\n",
    "    value = input()\n",
    "    li.append(value)\n",
    "    \n",
    "new_li = []\n",
    "for value in li:\n",
    "    x, y = value\n",
    "    x = alpha_to_num(x)\n",
    "    y = int(y)\n",
    "    \n",
    "    new_li.append((x, y))\n",
    "    \n",
    "if check():\n",
    "    print('Valid')\n",
    "else:\n",
    "    print('Invalid')"
   ]
  },
  {
   "cell_type": "markdown",
   "metadata": {},
   "source": [
    "### 올바른 배열 1337"
   ]
  },
  {
   "cell_type": "code",
   "execution_count": 50,
   "metadata": {},
   "outputs": [
    {
     "name": "stdout",
     "output_type": "stream",
     "text": [
      "3\n",
      "5\n",
      "6\n",
      "7\n",
      "2\n"
     ]
    }
   ],
   "source": [
    "import sys\n",
    "# input = sys.stdin.readline\n",
    "\n",
    "n = int(input().rstrip())\n",
    "li = [int(input().rstrip()) for _ in range(n)]\n",
    "li.sort()\n",
    "\n",
    "diff_li = [a - b for a, b in zip(li[1:], li[:-1])]\n",
    "result = 4\n",
    "for i in range(1, min(5, len(diff_li) + 1)):\n",
    "    for j in range(i, len(diff_li) + 1):\n",
    "        temp = sum(diff_li[j-i:j]) - i\n",
    "        remain = 5 - (i + 1 + sum(diff_li[j-i:j]) - i)\n",
    "        if remain >= 1:\n",
    "            temp += remain\n",
    "            \n",
    "        result = min(result, temp)\n",
    "        \n",
    "print(result)"
   ]
  },
  {
   "cell_type": "markdown",
   "metadata": {},
   "source": [
    "### 귀걸이 1380"
   ]
  },
  {
   "cell_type": "code",
   "execution_count": 55,
   "metadata": {},
   "outputs": [
    {
     "name": "stdout",
     "output_type": "stream",
     "text": [
      "3\n",
      "bb\n",
      "aa\n",
      "cc\n",
      "1 B\n",
      "2 A\n",
      "3 B\n",
      "3 A\n",
      "1 A\n",
      "1 aa\n",
      "0\n"
     ]
    }
   ],
   "source": [
    "case_num = 1\n",
    "while True:\n",
    "    n = int(input())\n",
    "    if n == 0:\n",
    "        break\n",
    "        \n",
    "    li = [input() for _ in range(n)]\n",
    "    st = set()\n",
    "    for _ in range(2 * n - 1):\n",
    "        num, alpha = input().split()\n",
    "        num = int(num)\n",
    "\n",
    "        if num not in st:\n",
    "            st.add(num)\n",
    "        else:\n",
    "            st.remove(num)\n",
    "\n",
    "    print(case_num, li[st.pop() - 1])\n",
    "    case_num += 1"
   ]
  },
  {
   "cell_type": "markdown",
   "metadata": {},
   "source": [
    "### 메시지 1384"
   ]
  },
  {
   "cell_type": "code",
   "execution_count": 58,
   "metadata": {},
   "outputs": [
    {
     "name": "stdout",
     "output_type": "stream",
     "text": [
      "5\n",
      "A P N P P\n",
      "B P P P P\n",
      "C P P P P\n",
      "D P N P P\n",
      "E P P P P\n"
     ]
    }
   ],
   "source": [
    "n = int(input())\n",
    "\n",
    "names = []\n",
    "words = []\n",
    "for _ in range(n):\n",
    "    li = input().split()\n",
    "    names.append(li[0])\n",
    "    words.append(li[1:])"
   ]
  },
  {
   "cell_type": "code",
   "execution_count": 59,
   "metadata": {},
   "outputs": [
    {
     "name": "stdout",
     "output_type": "stream",
     "text": [
      "['A', 'B', 'C', 'D', 'E']\n",
      "[['P', 'N', 'P', 'P'], ['P', 'P', 'P', 'P'], ['P', 'P', 'P', 'P'], ['P', 'N', 'P', 'P'], ['P', 'P', 'P', 'P']]\n"
     ]
    }
   ],
   "source": [
    "print(names)\n",
    "print(words)"
   ]
  },
  {
   "cell_type": "code",
   "execution_count": null,
   "metadata": {},
   "outputs": [],
   "source": [
    "group_num = 1\n",
    "while True:\n",
    "    n = int(input())\n",
    "    if n == 0:\n",
    "        break\n",
    "\n",
    "    names = []\n",
    "    words = []\n",
    "    for _ in range(n):\n",
    "        li = input().split()\n",
    "        names.append(li[0])\n",
    "        words.append(li[1:]) \n",
    "    print(f'Group {group_num}')\n",
    "    group_num += 1\n",
    "\n",
    "    nasty = False\n",
    "    for i in range(n):\n",
    "        for j in range(n - 1):\n",
    "            if words[i][j] == 'N':\n",
    "                nasty = True\n",
    "                _from = names[(i - (j + 1)) % n]\n",
    "                _to = names[i]\n",
    "                print(f'{_from} was nasty about {_to}')\n",
    "            \n",
    "    if not nasty:\n",
    "        print('Nobody was nasty')\n",
    "    print()"
   ]
  },
  {
   "cell_type": "markdown",
   "metadata": {},
   "source": [
    "### 바닥 장식 1388"
   ]
  },
  {
   "cell_type": "code",
   "execution_count": 1,
   "metadata": {},
   "outputs": [
    {
     "name": "stdout",
     "output_type": "stream",
     "text": [
      "4 4\n",
      "----\n",
      "----\n",
      "----\n",
      "----\n",
      "4\n"
     ]
    }
   ],
   "source": [
    "n, m = map(int, input().split())\n",
    "li = [input() for _ in range(n)]\n",
    "\n",
    "count = 0\n",
    "\n",
    "# 가로 확인\n",
    "for i in range(n):\n",
    "    is_continued = False\n",
    "    for j in range(m):\n",
    "        if li[i][j] == '-':\n",
    "            if not is_continued:\n",
    "                is_continued = True\n",
    "                count += 1\n",
    "        else:\n",
    "            is_continued = False\n",
    "            \n",
    "# 세로 확인\n",
    "for j in range(m):\n",
    "    is_continued = False\n",
    "    for i in range(n):\n",
    "        if li[i][j] == '|':\n",
    "            if not is_continued:\n",
    "                is_continued = True\n",
    "                count += 1\n",
    "        else:\n",
    "            is_continued = False\n",
    "            \n",
    "print(count)"
   ]
  },
  {
   "cell_type": "markdown",
   "metadata": {},
   "source": [
    "### 국회의원 선거 1417"
   ]
  },
  {
   "cell_type": "code",
   "execution_count": 2,
   "metadata": {},
   "outputs": [
    {
     "name": "stdout",
     "output_type": "stream",
     "text": [
      "3\n",
      "5\n",
      "7\n",
      "7\n",
      "2\n"
     ]
    }
   ],
   "source": [
    "from heapq import heappush, heappop\n",
    "\n",
    "n = int(input())\n",
    "criteria = int(input())\n",
    "\n",
    "if n == 1:\n",
    "    print(0)\n",
    "else:\n",
    "    count = 0\n",
    "    heap = []\n",
    "    for _ in range(n - 1):\n",
    "        heappush(heap, -int(input()))\n",
    "        \n",
    "    while heap:\n",
    "        max_candidate = heappop(heap)\n",
    "        max_candidate = -max_candidate\n",
    "        if criteria <= max_candidate:\n",
    "            count += 1\n",
    "            criteria += 1\n",
    "            max_candidate -= 1\n",
    "            heappush(heap, -max_candidate)\n",
    "        else:\n",
    "            break\n",
    "    print(count)"
   ]
  },
  {
   "cell_type": "markdown",
   "metadata": {},
   "source": [
    "### 피시방 알바 1453"
   ]
  },
  {
   "cell_type": "code",
   "execution_count": 4,
   "metadata": {},
   "outputs": [
    {
     "name": "stdout",
     "output_type": "stream",
     "text": [
      "3\n",
      "1 1 1\n",
      "2\n"
     ]
    }
   ],
   "source": [
    "n = int(input())\n",
    "li = list(map(int, input().split()))\n",
    "\n",
    "count = 0\n",
    "st = set()\n",
    "for value in li:\n",
    "    if value not in st:\n",
    "        st.add(value)\n",
    "    else:\n",
    "        count += 1\n",
    "        \n",
    "print(count)"
   ]
  },
  {
   "cell_type": "markdown",
   "metadata": {},
   "source": [
    "### 수 이어 쓰기 1515"
   ]
  },
  {
   "cell_type": "code",
   "execution_count": 42,
   "metadata": {},
   "outputs": [
    {
     "name": "stdout",
     "output_type": "stream",
     "text": [
      "1111111\n",
      "14\n"
     ]
    }
   ],
   "source": [
    "from collections import deque\n",
    "\n",
    "it = iter(range(1, 100000))\n",
    "\n",
    "s = input()\n",
    "queue = deque(s)\n",
    "\n",
    "def solve():\n",
    "    current = 0\n",
    "    while queue:\n",
    "        current = next(it)\n",
    "        for v in str(current):\n",
    "            if v == queue[0]:\n",
    "                queue.popleft()\n",
    "                if not queue:\n",
    "                    return current\n",
    "            \n",
    "print(solve())"
   ]
  },
  {
   "cell_type": "markdown",
   "metadata": {},
   "source": [
    "### 세준세비 1524"
   ]
  },
  {
   "cell_type": "code",
   "execution_count": 43,
   "metadata": {},
   "outputs": [
    {
     "name": "stdout",
     "output_type": "stream",
     "text": [
      "2\n",
      "\n",
      "1 1\n",
      "1\n",
      "1\n",
      "S\n",
      "\n",
      "3 2\n",
      "1 3 2\n",
      "5 5\n",
      "B\n"
     ]
    }
   ],
   "source": [
    "from collections import deque\n",
    "\n",
    "for _ in range(int(input())):\n",
    "    input()\n",
    "\n",
    "    n, m = map(int, input().split())\n",
    "    sj = deque(sorted(map(int, input().split())))\n",
    "    sb = deque(sorted(map(int, input().split())))\n",
    "\n",
    "    while sj and sb:\n",
    "        if sj[0] < sb[0]:\n",
    "            sj.popleft()\n",
    "        else:\n",
    "            sb.popleft()\n",
    "\n",
    "    if sj:\n",
    "        print('S')\n",
    "    else:\n",
    "        print('B')"
   ]
  },
  {
   "cell_type": "markdown",
   "metadata": {},
   "source": [
    "### 투명 1531"
   ]
  },
  {
   "cell_type": "code",
   "execution_count": 45,
   "metadata": {},
   "outputs": [
    {
     "name": "stdout",
     "output_type": "stream",
     "text": [
      "3 1\n",
      "21 21 80 80\n",
      "41 41 60 60\n",
      "71 71 90 90\n",
      "500\n"
     ]
    }
   ],
   "source": [
    "from collections import defaultdict\n",
    "\n",
    "n, m = map(int, input().split())\n",
    "d = defaultdict(int)\n",
    "\n",
    "for _ in range(n):\n",
    "    lx, ly, rx, ry = map(int, input().split())\n",
    "    \n",
    "    for x in range(lx, rx + 1):\n",
    "        for y in range(ly, ry + 1):\n",
    "            d[(x, y)] += 1\n",
    "            \n",
    "count = 0\n",
    "for value in d.values():\n",
    "    if value > m:\n",
    "        count += 1\n",
    "        \n",
    "print(count)"
   ]
  },
  {
   "cell_type": "markdown",
   "metadata": {},
   "source": [
    "### 사이클 단어 1544"
   ]
  },
  {
   "cell_type": "code",
   "execution_count": 52,
   "metadata": {},
   "outputs": [
    {
     "name": "stdout",
     "output_type": "stream",
     "text": [
      "5\n",
      "picture\n",
      "turepic\n",
      "icturep\n",
      "word\n",
      "ordw\n",
      "2\n"
     ]
    }
   ],
   "source": [
    "from collections import deque\n",
    "\n",
    "def check():\n",
    "    for v in st:\n",
    "        if len(v) != len(s):\n",
    "            continue      \n",
    "            \n",
    "        if v == s:\n",
    "            return False  \n",
    "        \n",
    "        v = deque(v)\n",
    "        for _ in range(len(v) - 1):\n",
    "            v.rotate(1)\n",
    "            if ''.join(v) == s:\n",
    "                return False        \n",
    "    return True\n",
    "\n",
    "n = int(input())\n",
    "st = set()\n",
    "\n",
    "count = 0\n",
    "for _ in range(n):\n",
    "    s = input()\n",
    "    if check():\n",
    "        count += 1\n",
    "        st.add(s)\n",
    "    \n",
    "print(count)"
   ]
  },
  {
   "cell_type": "markdown",
   "metadata": {},
   "source": [
    "### 공통 순열 1622"
   ]
  },
  {
   "cell_type": "code",
   "execution_count": 56,
   "metadata": {},
   "outputs": [
    {
     "name": "stdout",
     "output_type": "stream",
     "text": [
      "pw\n",
      "wp\n",
      "pw\n"
     ]
    }
   ],
   "source": [
    "from collections import Counter\n",
    "\n",
    "while True:\n",
    "    try:\n",
    "        a = input()\n",
    "        b = input()\n",
    "\n",
    "        ac = Counter(a)\n",
    "        bc = Counter(b)\n",
    "        c = ac & bc\n",
    "        li = []\n",
    "        for k, v in c.items():\n",
    "            li.extend([k] * v)\n",
    "        print(''.join(sorted(li)))\n",
    "    except:\n",
    "        break"
   ]
  },
  {
   "cell_type": "markdown",
   "metadata": {},
   "source": [
    "### 성지의 생일파티 1645"
   ]
  },
  {
   "cell_type": "code",
   "execution_count": 72,
   "metadata": {},
   "outputs": [
    {
     "name": "stdout",
     "output_type": "stream",
     "text": [
      "1\n",
      "1\n",
      "2\n"
     ]
    }
   ],
   "source": [
    "# 틀렸음\n",
    "n = int(input())\n",
    "li = [int(input()) for _ in range(n)]\n",
    "\n",
    "li.sort()\n",
    "max_value = li[-1]\n",
    "current = 0\n",
    "for i in range(n):\n",
    "    if current < max_value:\n",
    "        current += 1\n",
    "        \n",
    "        if current == max_value:\n",
    "            if li[i] == max_value:\n",
    "                current += 1\n",
    "            break\n",
    "            \n",
    "print(current)"
   ]
  },
  {
   "cell_type": "markdown",
   "metadata": {},
   "source": [
    "### 누울 자리를 찾아라 1652"
   ]
  },
  {
   "cell_type": "code",
   "execution_count": 83,
   "metadata": {},
   "outputs": [
    {
     "name": "stdout",
     "output_type": "stream",
     "text": [
      "5\n",
      "....X\n",
      "..XX.\n",
      ".....\n",
      ".XX..\n",
      "X....\n",
      "5 4\n"
     ]
    }
   ],
   "source": [
    "n = int(input())\n",
    "li = [input() for _ in range(n)]\n",
    "\n",
    "row = 0\n",
    "for i in range(n):\n",
    "    count = 0\n",
    "    for j in range(n):\n",
    "        if li[i][j] == '.':\n",
    "            count += 1\n",
    "            if count == 2:\n",
    "                row += 1\n",
    "        else:\n",
    "            count = 0\n",
    "                \n",
    "col = 0\n",
    "for j in range(n):\n",
    "    count = 0\n",
    "    for i in range(n):\n",
    "        if li[i][j] == '.':\n",
    "            count += 1\n",
    "            if count == 2:\n",
    "                col += 1\n",
    "        else:\n",
    "            count = 0\n",
    "\n",
    "    \n",
    "print(row, col)"
   ]
  },
  {
   "cell_type": "markdown",
   "metadata": {},
   "source": [
    "### 부분 문자열 6550"
   ]
  },
  {
   "cell_type": "code",
   "execution_count": 4,
   "metadata": {},
   "outputs": [
    {
     "name": "stdout",
     "output_type": "stream",
     "text": [
      "caseDoesMatter CaseDoesMatter\n",
      "No\n"
     ]
    }
   ],
   "source": [
    "from collections import deque\n",
    "\n",
    "while True:\n",
    "    try:\n",
    "        s, t = input().split()\n",
    "\n",
    "        queue = deque(s)\n",
    "        for i in range(len(t)):\n",
    "            if queue[0] == t[i]:\n",
    "                queue.popleft()\n",
    "                if not queue:\n",
    "                    break\n",
    "\n",
    "        if queue:\n",
    "            print('No')\n",
    "        else:\n",
    "            print('Yes')\n",
    "    except:\n",
    "        break"
   ]
  },
  {
   "cell_type": "markdown",
   "metadata": {},
   "source": [
    "### 디지털 친구 1985"
   ]
  },
  {
   "cell_type": "code",
   "execution_count": 11,
   "metadata": {},
   "outputs": [
    {
     "name": "stdout",
     "output_type": "stream",
     "text": [
      "137 470\n",
      "nothing\n"
     ]
    }
   ],
   "source": [
    "def check(a, b):\n",
    "    if set(a) == set(b):\n",
    "        return 'friends'\n",
    "    for i in range(len(b) - 1):\n",
    "        nb = list(b)\n",
    "        nb[i] = str(int(nb[i]) - 1)\n",
    "        nb[i + 1] = str(int(nb[i + 1]) + 1)\n",
    "        if i == 0 and nb[i] == '0':\n",
    "            continue\n",
    "        \n",
    "        if set(a) == set(nb):\n",
    "            return 'almost friends'\n",
    "        \n",
    "        nb = list(b)\n",
    "        nb[i] = str(int(nb[i]) + 1)\n",
    "        nb[i + 1] = str(int(nb[i + 1]) - 1)\n",
    "        \n",
    "        if set(a) == set(nb):\n",
    "            return 'almost friends'        \n",
    "        \n",
    "        \n",
    "    for i in range(len(a) - 1):\n",
    "        na = list(a)\n",
    "        na[i] = str(int(na[i]) - 1)\n",
    "        na[i + 1] = str(int(na[i + 1]) + 1)\n",
    "        if i == 0 and na[i] == '0':\n",
    "            continue\n",
    "        \n",
    "        if set(b) == set(na):\n",
    "            return 'almost friends' \n",
    "        \n",
    "        na = list(a)\n",
    "        na[i] = str(int(na[i]) + 1)\n",
    "        na[i + 1] = str(int(na[i + 1]) - 1)\n",
    "        \n",
    "        if set(b) == set(na):\n",
    "            return 'almost friends'  \n",
    "    return 'nothing'\n",
    "    \n",
    "for _ in range(3):\n",
    "    a, b = input().split()\n",
    "    print(check(a, b))"
   ]
  },
  {
   "cell_type": "markdown",
   "metadata": {},
   "source": [
    "### 성냥 2029"
   ]
  },
  {
   "cell_type": "code",
   "execution_count": 23,
   "metadata": {},
   "outputs": [
    {
     "name": "stdout",
     "output_type": "stream",
     "text": [
      "5 4\n"
     ]
    }
   ],
   "source": [
    "n = 10\n",
    "s = '''+--+--+--+\n",
    "|..|..|..|\n",
    "|..|..|..|\n",
    "+--+--+--+\n",
    "|..|..|..|\n",
    "|..|..|..|\n",
    "+--+--+--+\n",
    "|..|..|..|\n",
    "|..|..|..|\n",
    "+--+--+--+'''\n",
    "base = s.split('\\n')\n",
    "li = [input() for _ in range(n)]\n",
    "\n",
    "cond = [\n",
    " {(0, 1), (1, 0), (1, 3), (3, 1)},\n",
    " {(0, 4), (1, 3), (1, 6), (3, 4)},\n",
    " {(0, 7), (1, 6), (1, 9), (3, 7)},\n",
    " {(3, 1), (4, 0), (4, 3), (6, 1)},\n",
    " {(3, 4), (4, 3), (4, 6), (6, 4)},\n",
    " {(3, 7), (4, 6), (4, 9), (6, 7)},\n",
    " {(6, 1), (7, 0), (7, 3), (9, 1)},\n",
    " {(6, 4), (7, 3), (7, 6), (9, 4)},\n",
    " {(6, 7), (7, 6), (7, 9), (9, 7)},\n",
    " {(0, 1), (0, 4), (1, 0), (1, 6), (4, 0), (4, 6), (6, 1), (6, 4)},\n",
    " {(0, 4), (0, 7), (1, 3), (1, 9), (4, 3), (4, 9), (6, 4), (6, 7)},\n",
    " {(3, 1), (3, 4), (4, 0), (4, 6), (7, 0), (7, 6), (9, 1), (9, 4)},\n",
    " {(3, 4), (3, 7), (4, 3), (4, 9), (7, 3), (7, 9), (9, 4), (9, 7)},\n",
    " {(0, 1), (0, 4), (0, 7), (1, 0), (1, 9), (4, 0), (4, 9), (7, 0), (7, 9), (9, 1), (9, 4), (9, 7)}\n",
    "]\n",
    "\n",
    "check = [1] * 14 # i, j순, 작은 것 -> 큰 것 순\n",
    "diff_count = 0\n",
    "for i in range(n):\n",
    "    for j in range(n):\n",
    "        if li[i][j] != base[i][j]:\n",
    "            for k in range(14):\n",
    "                if (i, j) in cond[k]:\n",
    "                    check[k] = 0\n",
    "            diff_count += 1\n",
    "    \n",
    "print(diff_count // 2, sum(check))"
   ]
  },
  {
   "cell_type": "code",
   "execution_count": 22,
   "metadata": {},
   "outputs": [
    {
     "data": {
      "text/plain": [
       "[1, 1, 0, 0, 0, 0, 0, 0, 0, 1, 0, 0, 0, 0]"
      ]
     },
     "execution_count": 22,
     "metadata": {},
     "output_type": "execute_result"
    }
   ],
   "source": [
    "n = 10\n",
    "s = '''+--+--+--+\n",
    "|..|..|..|\n",
    "|..|..|..|\n",
    "+--+--+--+\n",
    "|..|..|..|\n",
    "|..|..|..|\n",
    "+--+--+--+\n",
    "|..|..|..|\n",
    "|..|..|..|\n",
    "+--+--+--+'''\n",
    "base = s.split('\\n')\n",
    "li = [input() for _ in range(n)]\n",
    "\n",
    "cond = [\n",
    " {(0, 1), (1, 0), (1, 3), (3, 1)},\n",
    " {(0, 4), (1, 3), (1, 6), (3, 4)},\n",
    " {(0, 7), (1, 6), (1, 9), (3, 7)},\n",
    " {(3, 1), (4, 0), (4, 3), (6, 1)},\n",
    " {(3, 4), (4, 3), (4, 6), (6, 4)},\n",
    " {(3, 7), (4, 6), (4, 9), (6, 7)},\n",
    " {(6, 1), (7, 0), (7, 3), (9, 1)},\n",
    " {(6, 4), (7, 3), (7, 6), (9, 4)},\n",
    " {(6, 7), (7, 6), (7, 9), (9, 7)},\n",
    " {(0, 1), (0, 4), (1, 0), (1, 6), (4, 0), (4, 6), (6, 1), (6, 4)},\n",
    " {(0, 4), (0, 7), (1, 3), (1, 9), (4, 3), (4, 9), (6, 4), (6, 7)},\n",
    " {(3, 1), (3, 4), (4, 0), (4, 6), (7, 0), (7, 6), (9, 1), (9, 4)},\n",
    " {(3, 4), (3, 7), (4, 3), (4, 9), (7, 3), (7, 9), (9, 4), (9, 7)},\n",
    " {(0, 1), (0, 4), (0, 7), (1, 0), (1, 9), (4, 0), (4, 9), (7, 0), (7, 9), (9, 1), (9, 4), (9, 7)}\n",
    "]\n",
    "\n",
    "check = [1] * 14 # i, j순, 작은 것 -> 큰 것 순\n",
    "diff_count = 0\n",
    "for i in range(n):\n",
    "    for j in range(n):\n",
    "        if li[i][j] != base[i][j]:\n",
    "            for k in range(14):\n",
    "                if (i, j) in cond[k]:\n",
    "                    check[k] = 0\n",
    "            diff_count += 1\n",
    "    \n",
    "print(diff_count // 2, sum(check))"
   ]
  },
  {
   "cell_type": "markdown",
   "metadata": {},
   "source": [
    "### 반음 2034"
   ]
  },
  {
   "cell_type": "code",
   "execution_count": 42,
   "metadata": {
    "scrolled": true
   },
   "outputs": [
    {
     "name": "stdout",
     "output_type": "stream",
     "text": [
      "D D\n"
     ]
    }
   ],
   "source": [
    "import sys\n",
    "input = sys.stdin.readline\n",
    "\n",
    "li = ['A', '', 'B', 'C', '', 'D', '', 'E', 'F', '', 'G', '']\n",
    "# n = int(input().rstrip())\n",
    "# music = [int(input().rstrip()) for _ in range(n)]\n",
    "\n",
    "def check(start_index):\n",
    "    current = start_index\n",
    "    for value in music:\n",
    "        current += value\n",
    "        if not li[current % 12]:\n",
    "            return -1\n",
    "    return current % 12\n",
    "\n",
    "result = []\n",
    "for i in [0, 2, 3, 5, 7, 8, 10]:\n",
    "    temp = check(i)\n",
    "    if temp == -1:\n",
    "        continue\n",
    "    result.append(f'{li[i]} {li[temp]}')\n",
    "    \n",
    "print('\\n'.join(result))"
   ]
  },
  {
   "cell_type": "markdown",
   "metadata": {},
   "source": [
    "### 성적 통계 5800"
   ]
  },
  {
   "cell_type": "code",
   "execution_count": 18,
   "metadata": {},
   "outputs": [
    {
     "name": "stdout",
     "output_type": "stream",
     "text": [
      "1\n",
      "5 30 25 76 23 78\n",
      "Class 1\n",
      "Max 78, Min 23, Largest gap 46\n"
     ]
    }
   ],
   "source": [
    "n = int(input())\n",
    "for i in range(n):\n",
    "    li = list(map(int, input().split()))\n",
    "    \n",
    "    del li[0]\n",
    "    li.sort(reverse=True)\n",
    "    \n",
    "    diffs = [a - b for a, b in zip(li[1:], li[:-1])]\n",
    "    print('Class', i + 1)\n",
    "    print(f'Max {max(li)}, Min {min(li)}, Largest gap {-min(diffs)}')"
   ]
  },
  {
   "cell_type": "markdown",
   "metadata": {},
   "source": [
    "### 박스 그림 문자 23038"
   ]
  },
  {
   "cell_type": "code",
   "execution_count": 6,
   "metadata": {},
   "outputs": [
    {
     "name": "stdout",
     "output_type": "stream",
     "text": [
      "............\n",
      ".##########.\n",
      ".#..#.....#.\n",
      ".#..#.....#.\n",
      ".#..#######.\n",
      ".#..#..#..#.\n",
      ".#..#..#..#.\n",
      ".#######..#.\n",
      ".#.....#..#.\n",
      ".#.....#..#.\n",
      ".##########.\n",
      "............\n"
     ]
    }
   ],
   "source": [
    "import sys\n",
    "input = lambda: sys.stdin.readline().rstrip()\n",
    "\n",
    "n, m = map(int, input().split())\n",
    "li = [list(input()) for _ in range(3 * n)]\n",
    "\n",
    "for si in range(3 * n):\n",
    "    for j in range(m):\n",
    "        if (si // 3 + j) % 2 == 0:\n",
    "            continue\n",
    "        sj = j * 3\n",
    "        \n",
    "        if sj - 1 >= 0 and li[si][sj - 1] == '#':\n",
    "            li[si][sj] = '#'\n",
    "            li[si][sj + 1] = '#'\n",
    "            \n",
    "        if sj + 3 < 3 * m and li[si][sj + 3] == '#':\n",
    "            li[si][sj + 1] = '#'\n",
    "            li[si][sj + 2] = '#'\n",
    "            \n",
    "for sj in range(3 * m):\n",
    "    for i in range(n):\n",
    "        if (i + sj // 3) % 2 == 0:\n",
    "            continue\n",
    "        si = i * 3\n",
    "        \n",
    "        if si - 1 >= 0 and li[si - 1][sj] == '#':\n",
    "            li[si][sj] = '#'\n",
    "            li[si + 1][sj] = '#'\n",
    "            \n",
    "        if si + 3 < 3 * n and li[si + 3][sj] == '#':\n",
    "            li[si + 1][sj] = '#'\n",
    "            li[si + 2][sj] = '#'\n",
    "            \n",
    "for si in range(3 * n):\n",
    "    print(''.join(li[si]))"
   ]
  },
  {
   "cell_type": "markdown",
   "metadata": {},
   "source": [
    "### 서로소 평균 21920"
   ]
  },
  {
   "cell_type": "code",
   "execution_count": 7,
   "metadata": {},
   "outputs": [
    {
     "name": "stdout",
     "output_type": "stream",
     "text": [
      "5\n",
      "4 2 8 5 7\n",
      "4\n",
      "6.0\n"
     ]
    }
   ],
   "source": [
    "from math import gcd\n",
    "\n",
    "n = int(input())\n",
    "li = list(map(int, input().split()))\n",
    "x = int(input())\n",
    "\n",
    "selected = []\n",
    "for v in li:\n",
    "    if gcd(v, x) == 1:\n",
    "        selected.append(v)\n",
    "        \n",
    "r = sum(selected) / len(selected)\n",
    "\n",
    "print(r)"
   ]
  },
  {
   "cell_type": "markdown",
   "metadata": {},
   "source": [
    "### 진짜 메시지 9324"
   ]
  },
  {
   "cell_type": "code",
   "execution_count": null,
   "metadata": {},
   "outputs": [],
   "source": [
    "import sys\n",
    "input = lambda: sys.stdin.readline().rstrip()\n",
    "\n",
    "for _ in range(int(input())):\n",
    "    s = input()\n",
    "\n",
    "    ip = True\n",
    "    for i in range(65, 91):\n",
    "        alpha = chr(i)\n",
    "        \n",
    "        c = 0\n",
    "        for j in range(len(s)):\n",
    "            if s[j] == alpha:\n",
    "                c += 1\n",
    "                \n",
    "                if (c - 3) % 4 == 0:\n",
    "                    if j + 1 == len(s) or s[j + 1] != alpha:\n",
    "                        ip = False\n",
    "                        break\n",
    "                        \n",
    "    if ip:\n",
    "        print('OK')\n",
    "    else:\n",
    "        print('FAKE')"
   ]
  }
 ],
 "metadata": {
  "kernelspec": {
   "display_name": "Python 3",
   "language": "python",
   "name": "python3"
  },
  "language_info": {
   "codemirror_mode": {
    "name": "ipython",
    "version": 3
   },
   "file_extension": ".py",
   "mimetype": "text/x-python",
   "name": "python",
   "nbconvert_exporter": "python",
   "pygments_lexer": "ipython3",
   "version": "3.7.4"
  }
 },
 "nbformat": 4,
 "nbformat_minor": 4
}
