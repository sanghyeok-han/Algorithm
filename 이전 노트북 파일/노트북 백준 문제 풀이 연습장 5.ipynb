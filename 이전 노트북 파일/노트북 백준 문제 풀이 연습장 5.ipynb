{
 "cells": [
  {
   "cell_type": "code",
   "execution_count": null,
   "metadata": {},
   "outputs": [],
   "source": [
    "import sys\n",
    "input = sys.stdin.readline\n",
    "\n",
    "def find(v):\n",
    "    if parent[v] == v:\n",
    "        return v\n",
    "    else:\n",
    "        parent[v] == find(parent[v])\n",
    "        return parent[v]\n",
    "    \n",
    "def union(a, b):\n",
    "    if rank[a] >= rank[b]:\n",
    "        if rank[a] == rank[b]:\n",
    "            rank[a] += 1\n",
    "        parent[b] = a\n",
    "    else:\n",
    "        parent[a] = b\n",
    "    \n",
    "T = int(input().rstrip())\n",
    "for t in range(T):\n",
    "    print(f'Scenario {t + 1}:')\n",
    "    n = int(input().rstrip())\n",
    "    k = int(input().rstrip())\n",
    "\n",
    "    parent = list(range(n))\n",
    "    rank = [0] * n\n",
    "\n",
    "    for _ in range(k):\n",
    "        a, b = map(int, input().rstrip().split())\n",
    "        a = find(a)\n",
    "        b = find(b)\n",
    "        if a != b:\n",
    "            union(a, b)\n",
    "\n",
    "    m = int(input().rstrip())\n",
    "    for _ in range(m):\n",
    "        u, v = map(int, input().rstrip().split())\n",
    "        u = find(u)\n",
    "        v = find(v)\n",
    "\n",
    "        if u == v:\n",
    "            print(1)\n",
    "        else:\n",
    "            print(0)\n",
    "    print()"
   ]
  },
  {
   "cell_type": "code",
   "execution_count": 4,
   "metadata": {},
   "outputs": [
    {
     "name": "stdout",
     "output_type": "stream",
     "text": [
      "1\n",
      "Scenario 1:\n",
      "1\n",
      "1\n",
      "0 0\n",
      "1\n",
      "0 0\n",
      "1\n",
      "\n"
     ]
    }
   ],
   "source": [
    "import sys\n",
    "# input = sys.stdin.readline\n",
    "\n",
    "def find(v):\n",
    "    if parent[v] == v:\n",
    "        return v\n",
    "    else:\n",
    "        parent[v] == find(parent[v])\n",
    "        return parent[v]\n",
    "    \n",
    "def union(a, b):\n",
    "    if rank[a] >= rank[b]:\n",
    "        if rank[a] == rank[b]:\n",
    "            rank[a] += 1\n",
    "        parent[b] = a\n",
    "    else:\n",
    "        parent[a] = b\n",
    "\n",
    "T = int(input().rstrip())\n",
    "for t in range(T):\n",
    "    print(f'Scenario {t + 1}:')\n",
    "    n = int(input().rstrip())\n",
    "    k = int(input().rstrip())\n",
    "\n",
    "    parent = list(range(n))\n",
    "    rank = [0] * n\n",
    "\n",
    "    for _ in range(k):\n",
    "        a, b = map(int, input().rstrip().split())\n",
    "        a = find(a)\n",
    "        b = find(b)\n",
    "        if a != b:\n",
    "            union(a, b)\n",
    "\n",
    "    m = int(input().rstrip())\n",
    "    for _ in range(m):\n",
    "        u, v = map(int, input().rstrip().split())\n",
    "        u = find(u)\n",
    "        v = find(v)\n",
    "\n",
    "        if u == v:\n",
    "            print(1)\n",
    "        else:\n",
    "            print(0)\n",
    "    print()"
   ]
  },
  {
   "cell_type": "markdown",
   "metadata": {},
   "source": [
    "### 평행선 2358"
   ]
  },
  {
   "cell_type": "code",
   "execution_count": null,
   "metadata": {},
   "outputs": [],
   "source": [
    "0 0\n",
    "0 10\n",
    "10 0\n",
    "10 10"
   ]
  },
  {
   "cell_type": "code",
   "execution_count": null,
   "metadata": {},
   "outputs": [],
   "source": [
    "0 0\n",
    "0 10\n",
    "10 0\n",
    "10 10"
   ]
  },
  {
   "cell_type": "markdown",
   "metadata": {},
   "source": [
    "### 암기왕 2776"
   ]
  },
  {
   "cell_type": "code",
   "execution_count": 6,
   "metadata": {},
   "outputs": [
    {
     "name": "stdout",
     "output_type": "stream",
     "text": [
      "1\n",
      "5\n",
      "4 1 5 2 3\n",
      "5\n",
      "1 3 7 9 5\n",
      "1\n",
      "1\n",
      "0\n",
      "0\n",
      "1\n"
     ]
    }
   ],
   "source": [
    "import sys\n",
    "# input = sys.stdin.readline\n",
    "\n",
    "t = int(input().rstrip())\n",
    "for _ in range(t):\n",
    "    n = int(input().rstrip())\n",
    "    st = set(map(int, input().rstrip().split()))\n",
    "    m = int(input().rstrip())\n",
    "    queries = list(map(int, input().rstrip().split()))\n",
    "    \n",
    "    for query in queries:\n",
    "        if query in st:\n",
    "            print(1)\n",
    "        else:\n",
    "            print(0)"
   ]
  },
  {
   "cell_type": "markdown",
   "metadata": {},
   "source": [
    "### 캠프파이어 3018"
   ]
  },
  {
   "cell_type": "code",
   "execution_count": 13,
   "metadata": {},
   "outputs": [
    {
     "name": "stdout",
     "output_type": "stream",
     "text": [
      "5\n",
      "3\n",
      "2 1 3\n",
      "2 2 1\n",
      "4 2 1 4 5\n",
      "1\n"
     ]
    }
   ],
   "source": [
    "it = iter(range(1000000))\n",
    "\n",
    "n = int(input())\n",
    "e = int(input())\n",
    "known = [set() for _ in range(n + 1)]\n",
    "songs = set()\n",
    "for _ in range(e):\n",
    "    li = list(map(int, input().split()))\n",
    "    st = set(li[1:])\n",
    "    \n",
    "    if 1 in st:\n",
    "        new_song = next(it)\n",
    "        songs.add(new_song)\n",
    "        for person in st:\n",
    "            known[person].add(new_song)\n",
    "    else:\n",
    "        to_share = set()\n",
    "        for person in st:\n",
    "            to_share |= known[person]\n",
    "            \n",
    "        for person in st:\n",
    "            known[person] = to_share.copy()\n",
    "            \n",
    "for i in range(1, n + 1):\n",
    "    if len(known[i]) == len(songs):\n",
    "        print(i)"
   ]
  },
  {
   "cell_type": "markdown",
   "metadata": {},
   "source": [
    "### CD 4158"
   ]
  },
  {
   "cell_type": "code",
   "execution_count": 14,
   "metadata": {},
   "outputs": [
    {
     "name": "stdout",
     "output_type": "stream",
     "text": [
      "3 3\n",
      "1\n",
      "2\n",
      "3\n",
      "1\n",
      "2\n",
      "4\n",
      "2\n"
     ]
    }
   ],
   "source": [
    "import sys\n",
    "# input = sys.stdin.readline\n",
    "\n",
    "while True:\n",
    "    n, m = map(int, input().rstrip().split())\n",
    "    if n == 0 and m == 0:\n",
    "        break\n",
    "\n",
    "    st1 = {int(input().rstrip()) for _ in range(n)}\n",
    "    st2 = {int(input().rstrip()) for _ in range(n)}\n",
    "\n",
    "    print(len(st1 & st2))"
   ]
  },
  {
   "cell_type": "markdown",
   "metadata": {},
   "source": [
    "### 배부른 마라토너10546"
   ]
  },
  {
   "cell_type": "code",
   "execution_count": 16,
   "metadata": {},
   "outputs": [
    {
     "name": "stdout",
     "output_type": "stream",
     "text": [
      "3\n",
      "leo\n",
      "kiki\n",
      "eden\n",
      "eden\n",
      "kiki\n",
      "leo\n"
     ]
    }
   ],
   "source": [
    "import sys\n",
    "# input = sys.stdin.readline\n",
    "\n",
    "n = int(input().rstrip())\n",
    "st = set()\n",
    "for _ in range(n * 2 - 1):\n",
    "    value = input().rstrip()\n",
    "    \n",
    "    if value not in st:\n",
    "        st.add(value)\n",
    "    else:\n",
    "        st.discard(value)\n",
    "        \n",
    "print(st.pop())"
   ]
  },
  {
   "cell_type": "code",
   "execution_count": 19,
   "metadata": {},
   "outputs": [
    {
     "name": "stdout",
     "output_type": "stream",
     "text": [
      "17\n",
      "a\n",
      "b\n",
      "b\n",
      "a\n",
      "a\n",
      "a\n",
      "c\n",
      "a\n",
      "b\n",
      "b\n",
      "c\n",
      "b\n",
      "b\n",
      "b\n",
      "b\n",
      "b\n",
      "b\n",
      "4\n"
     ]
    }
   ],
   "source": [
    "from collections import defaultdict\n",
    "import sys\n",
    "# input = sys.stdin.readline\n",
    "\n",
    "n = int(input().rstrip())\n",
    "d = defaultdict(int)\n",
    "count = 0\n",
    "for i in range(n):\n",
    "    name = input().rstrip()\n",
    "    \n",
    "    if d[name] > i // 2:\n",
    "        count += 1\n",
    "        \n",
    "    d[name] += 1\n",
    "\n",
    "print(count)"
   ]
  },
  {
   "cell_type": "markdown",
   "metadata": {},
   "source": [
    "### 야근 14402"
   ]
  },
  {
   "cell_type": "code",
   "execution_count": 22,
   "metadata": {},
   "outputs": [
    {
     "name": "stdout",
     "output_type": "stream",
     "text": [
      "7\n",
      "n +\n",
      "n -\n",
      "n -\n",
      "n -\n",
      "n +\n",
      "n +\n",
      "n +\n",
      "5\n"
     ]
    }
   ],
   "source": [
    "from collections import defaultdict\n",
    "import sys\n",
    "# input = sys.stdin.readline\n",
    "\n",
    "n = int(input().rstrip())\n",
    "count = 0\n",
    "d = defaultdict(int)\n",
    "for _ in range(n):\n",
    "    name, status = input().rstrip().split()\n",
    "    \n",
    "    if status == '+':\n",
    "        d[name] += 1\n",
    "    else:\n",
    "        if d[name] == 0:\n",
    "            count += 1\n",
    "        else:\n",
    "            d[name] -= 1\n",
    "            \n",
    "for value in d.values():\n",
    "    count += value\n",
    "    \n",
    "print(count)"
   ]
  },
  {
   "cell_type": "markdown",
   "metadata": {},
   "source": [
    "### 동일한 단어 그룹화하기 16499"
   ]
  },
  {
   "cell_type": "code",
   "execution_count": 30,
   "metadata": {},
   "outputs": [
    {
     "name": "stdout",
     "output_type": "stream",
     "text": [
      "2\n",
      "a\n",
      "a\n",
      "1\n"
     ]
    }
   ],
   "source": [
    "from collections import Counter\n",
    "\n",
    "n = int(input())\n",
    "st = set()\n",
    "for _ in range(n):\n",
    "    value = input()\n",
    "    st.add(tuple(sorted(Counter(value).items())))\n",
    "    \n",
    "print(len(st))"
   ]
  },
  {
   "cell_type": "markdown",
   "metadata": {},
   "source": [
    "### 비밀번호 찾기 17219"
   ]
  },
  {
   "cell_type": "code",
   "execution_count": 32,
   "metadata": {},
   "outputs": [
    {
     "name": "stdout",
     "output_type": "stream",
     "text": [
      "2 2\n",
      "a aa\n",
      "b bb\n",
      "b\n",
      "bb\n",
      "a\n",
      "aa\n"
     ]
    }
   ],
   "source": [
    "import sys\n",
    "input = sys.stdin.readline\n",
    "\n",
    "n, m = map(int, input().rstrip().split())\n",
    "d = dict()\n",
    "for _ in range(n):\n",
    "    name, password = input().rstrip().split()\n",
    "    d[name] = password\n",
    "for _ in range(m):\n",
    "    name = input().rstrip()\n",
    "    print(d[name])"
   ]
  },
  {
   "cell_type": "markdown",
   "metadata": {},
   "source": [
    "### Spelling Be 4775"
   ]
  },
  {
   "cell_type": "code",
   "execution_count": 41,
   "metadata": {},
   "outputs": [
    {
     "name": "stdout",
     "output_type": "stream",
     "text": [
      "2\n",
      "abc\n",
      "abcd\n",
      "2\n",
      "-1\n",
      "Email 1 is spelled correctly.\n",
      "-1\n",
      "Email 2 is spelled correctly.\n",
      "End of Output\n"
     ]
    }
   ],
   "source": [
    "import sys\n",
    "# input = sys.stdin.readline\n",
    "\n",
    "n = int(input().rstrip())\n",
    "st = {input().rstrip() for _ in range(n)}\n",
    "m = int(input().rstrip())\n",
    "for i in range(m):\n",
    "    not_correct_words = []\n",
    "    while True:\n",
    "        word = input().rstrip()\n",
    "        if word == '-1':\n",
    "            break    \n",
    "        if word not in st:\n",
    "            not_correct_words.append(word)\n",
    "    if len(not_correct_words) >= 1:\n",
    "        print(f'Email {i + 1} is not spelled correctly.')\n",
    "        print('\\n'.join(not_correct_words))\n",
    "    else:\n",
    "        print(f'Email {i + 1} is spelled correctly.')\n",
    "print('End of Output')"
   ]
  },
  {
   "cell_type": "code",
   "execution_count": null,
   "metadata": {},
   "outputs": [],
   "source": [
    "n = int(input())\n",
    "st = {input() for _ in range(n)}\n",
    "m = int(input())\n",
    "for i in range(m):\n",
    "    not_correct_words = []\n",
    "    while True:\n",
    "        word = input().rstrip()\n",
    "        if word == '-1':\n",
    "            break    \n",
    "        if word not in st:\n",
    "            not_correct_words.append(word)\n",
    "    if len(not_correct_words) >= 1:\n",
    "        print(f'Email {i + 1} is not spelled correctly.')\n",
    "        print('\\n'.join(not_correct_words))\n",
    "    else:\n",
    "        print(f'Email {i + 1} is spelled correctly.')\n",
    "print('End of Output')"
   ]
  },
  {
   "cell_type": "code",
   "execution_count": 38,
   "metadata": {},
   "outputs": [
    {
     "name": "stdout",
     "output_type": "stream",
     "text": [
      "1 3\n",
      "zagreb\n",
      "z\n",
      "zagreb\n",
      "z\n",
      "zagreb\n",
      "z\n",
      "zagreb\n"
     ]
    }
   ],
   "source": [
    "from collections import defaultdict\n",
    "import sys\n",
    "input = sys.stdin.readline\n",
    "\n",
    "k, n = map(int, input().rstrip().split())\n",
    "d = defaultdict(list)\n",
    "\n",
    "for _ in range(k):\n",
    "    value = input().rstrip()\n",
    "    d[value[0]].append(value)\n",
    "    \n",
    "current = dict()\n",
    "for key in d.keys():\n",
    "    d[key].sort()\n",
    "    current[key] = 0\n",
    "\n",
    "for _ in range(n):\n",
    "    key = input().rstrip()\n",
    "    print(d[key][current[key] % len(d[key])])\n",
    "    current[key] += 1"
   ]
  },
  {
   "cell_type": "markdown",
   "metadata": {},
   "source": [
    "### 트리 4804"
   ]
  },
  {
   "cell_type": "code",
   "execution_count": 4,
   "metadata": {},
   "outputs": [
    {
     "name": "stdout",
     "output_type": "stream",
     "text": [
      "6 3\n",
      "1 2\n",
      "2 3\n",
      "3 4\n",
      "Case 1: A forest of 3 trees.\n",
      "6 5\n",
      "1 2\n",
      "2 3\n",
      "3 4\n",
      "4 5\n",
      "5 6\n",
      "Case 2: There is one tree.\n",
      "6 6\n",
      "1 2\n",
      "2 3\n",
      "1 3\n",
      "4 5\n",
      "5 6\n",
      "6 4\n",
      "Case 3: No trees.\n",
      "0 0\n"
     ]
    }
   ],
   "source": [
    "import sys\n",
    "# input = sys.stdin.readline\n",
    "\n",
    "def find(v):\n",
    "    if parent[v] == v:\n",
    "        return parent[v]\n",
    "    parent[v] = find(parent[v])\n",
    "    return parent[v]\n",
    "\n",
    "def union(a, b):\n",
    "    if not is_tree[a]:\n",
    "        parent[b] = a\n",
    "    else:\n",
    "        parent[a] = b\n",
    "\n",
    "case_num = 1\n",
    "while True:      \n",
    "    n, m = map(int, input().rstrip().split())\n",
    "    if n == 0 and m == 0:\n",
    "        break\n",
    "\n",
    "    parent = list(range(n))\n",
    "    is_tree = [True] * n\n",
    "\n",
    "    for _ in range(m):\n",
    "        a, b = map(int, input().rstrip().split())\n",
    "        a -= 1\n",
    "        b -= 1\n",
    "\n",
    "        a = find(a)\n",
    "        b = find(b)\n",
    "\n",
    "        if a != b:\n",
    "            union(a, b)\n",
    "        else:\n",
    "            is_tree[a] = False\n",
    "            is_tree[b] = False\n",
    "\n",
    "    for i in range(n):\n",
    "        find(i)\n",
    "\n",
    "    parent_st = set(parent)\n",
    "    tree_count = 0\n",
    "    for value in parent_st:\n",
    "        if is_tree[value]:\n",
    "            tree_count += 1\n",
    "\n",
    "    if tree_count == 0:\n",
    "        print(f'Case {case_num}: No trees.')\n",
    "    elif tree_count == 1:\n",
    "        print(f'Case {case_num}: There is one tree.')\n",
    "    else:\n",
    "        print(f'Case {case_num}: A forest of {tree_count} trees.')\n",
    "        \n",
    "    case_num += 1"
   ]
  },
  {
   "cell_type": "code",
   "execution_count": 11,
   "metadata": {},
   "outputs": [
    {
     "name": "stdout",
     "output_type": "stream",
     "text": [
      "4\n",
      "5 4 3 2\n",
      "4 3 2 1\n",
      "8\n"
     ]
    }
   ],
   "source": [
    "n = int(input())\n",
    "li1 = list(map(int, input().split()))\n",
    "li2 = list(map(int, input().split()))\n",
    "\n",
    "li1.sort()\n",
    "li2.sort(reverse=True)\n",
    "\n",
    "indices = []\n",
    "total_score = 0\n",
    "for i in range(n):\n",
    "    for j in range(len(li2)):\n",
    "        if li1[i] > li2[j]:\n",
    "            total_score += 2\n",
    "            indices.append(i)\n",
    "            del li2[j]\n",
    "            break\n",
    "            \n",
    "for index in reversed(indices):\n",
    "    del li1[index]\n",
    "    \n",
    "for i in range(len(li1)):\n",
    "    for j in range(len(li2)):\n",
    "        if li1[i] == li2[j]:\n",
    "            total_score += 1\n",
    "            del li2[j]\n",
    "            break\n",
    "            \n",
    "print(total_score)"
   ]
  },
  {
   "cell_type": "code",
   "execution_count": 12,
   "metadata": {},
   "outputs": [
    {
     "name": "stdout",
     "output_type": "stream",
     "text": [
      "4\n",
      "5 4 3 2\n",
      "4 3 2 1\n",
      "8\n"
     ]
    }
   ],
   "source": [
    "n = int(input())\n",
    "a = list(map(int, input().split()))\n",
    "b = list(map(int, input().split()))\n",
    "\n",
    "a.sort()\n",
    "b.sort()\n",
    "\n",
    "point = 0\n",
    "for i in range(n):\n",
    "    check = 0\n",
    "    for j in range(n):\n",
    "        if a[i] > b[j] and b[j] != 0:      \n",
    "            check = 1\n",
    "            target = j\n",
    "            \n",
    "    if check == 1:\n",
    "        a[i] = 0\n",
    "        b[target] = 0\n",
    "        point += 2\n",
    "                 \n",
    "for i in range(n):\n",
    "    if a[i] == 0:\n",
    "        continue\n",
    "    \n",
    "    for j in range(n):\n",
    "        if a[i] == b[j]:\n",
    "            \n",
    "            b[j] = 0\n",
    "            point += 1\n",
    "            break\n",
    "                       \n",
    "print(point)"
   ]
  },
  {
   "cell_type": "markdown",
   "metadata": {},
   "source": [
    "### 자와 각도기 2916"
   ]
  },
  {
   "cell_type": "code",
   "execution_count": 23,
   "metadata": {},
   "outputs": [
    {
     "data": {
      "text/plain": [
       "300"
      ]
     },
     "execution_count": 23,
     "metadata": {},
     "output_type": "execute_result"
    }
   ],
   "source": [
    "360 - 60"
   ]
  },
  {
   "cell_type": "code",
   "execution_count": 27,
   "metadata": {},
   "outputs": [
    {
     "data": {
      "text/plain": [
       "40"
      ]
     },
     "execution_count": 27,
     "metadata": {},
     "output_type": "execute_result"
    }
   ],
   "source": [
    "100 - 60"
   ]
  },
  {
   "cell_type": "code",
   "execution_count": 40,
   "metadata": {
    "scrolled": false
   },
   "outputs": [
    {
     "name": "stdout",
     "output_type": "stream",
     "text": [
      "1 40\n",
      "2 20\n",
      "3 0\n",
      "4 40\n",
      "5 20\n",
      "6 0\n",
      "7 40\n",
      "8 20\n",
      "9 0\n",
      "10 40\n",
      "11 20\n",
      "12 0\n",
      "13 40\n",
      "14 20\n",
      "15 0\n",
      "16 40\n",
      "17 20\n",
      "18 0\n",
      "19 40\n"
     ]
    }
   ],
   "source": [
    "n = 100\n",
    "for i in range(1, 20):\n",
    "    print(i, ((n * i) % 360)"
   ]
  },
  {
   "cell_type": "markdown",
   "metadata": {},
   "source": [
    "### BFS 스페셜 저지 16940"
   ]
  },
  {
   "cell_type": "code",
   "execution_count": 19,
   "metadata": {},
   "outputs": [
    {
     "name": "stdout",
     "output_type": "stream",
     "text": [
      "4\n",
      "1 2\n",
      "1 3\n",
      "2 4\n",
      "1 2 4 3\n",
      "0\n"
     ]
    }
   ],
   "source": [
    "from collections import deque\n",
    "import sys\n",
    "# input = lambda: sys.stdin.readline().rstrip()\n",
    "\n",
    "n = int(input())\n",
    "li = [[] for _ in range(n + 1)]\n",
    "for _ in range(n - 1):\n",
    "    a, b = map(int, input().split())\n",
    "    li[a].append(b)\n",
    "    li[b].append(a)\n",
    "seq = list(map(int, input().split()))\n",
    "current_index = 1\n",
    "            \n",
    "def check():\n",
    "    global current_index\n",
    "    \n",
    "    queue = deque()\n",
    "    queue.append(1)\n",
    "\n",
    "    visited = [False] * (n + 1)\n",
    "    visited[1] = True\n",
    "    while queue:\n",
    "        value = queue.popleft()\n",
    "        cands = set()\n",
    "        for v in li[value]:\n",
    "            if not visited[v]:\n",
    "                visited[v] = True\n",
    "                cands.add(v)\n",
    "        s = seq[current_index:current_index + len(cands)]\n",
    "        if cands != set(s):\n",
    "            return 0\n",
    "        current_index += len(cands)\n",
    "        for v in s:\n",
    "            queue.append(v)\n",
    "    return 1\n",
    "\n",
    "print(check())"
   ]
  },
  {
   "cell_type": "markdown",
   "metadata": {},
   "source": [
    "### 피리 부는 사나이 16724"
   ]
  },
  {
   "cell_type": "code",
   "execution_count": null,
   "metadata": {},
   "outputs": [],
   "source": [
    "DDDDDDD\n",
    "RRDDDDL\n",
    "RRRLLDL\n",
    "RDUUDDL\n",
    "RRRUDDL\n",
    "RULLLDL\n",
    "RRLLLUL\n",
    "UUUUUUU"
   ]
  },
  {
   "cell_type": "code",
   "execution_count": 3,
   "metadata": {},
   "outputs": [
    {
     "name": "stdout",
     "output_type": "stream",
     "text": [
      "2 1\n",
      "D\n",
      "U\n",
      "1\n"
     ]
    }
   ],
   "source": [
    "# 맞았음, m 자리에도 n 써서 틀렸었고 x의 원본을 보전하지 못해서 틀렸었음\n",
    "\n",
    "n, m = map(int, input().split())\n",
    "li = [input() for _ in range(n)]\n",
    "\n",
    "s = 'UDLR'\n",
    "dx = [-1, 1, 0, 0]\n",
    "dy = [0, 0, -1, 1]\n",
    "\n",
    "safes = set()\n",
    "visited = set()\n",
    "for i in range(n):\n",
    "    for j in range(m):\n",
    "        x, y = i, j\n",
    "        coord = (x, y)\n",
    "        if coord in safes:\n",
    "            continue\n",
    "        if coord in visited:\n",
    "            continue\n",
    "        nvisited = set()\n",
    "        nvisited.add(coord)\n",
    "        while True:\n",
    "            d = s.index(li[x][y])\n",
    "            nx = x + dx[d]\n",
    "            ny = y + dy[d]\n",
    "            ncoord = (nx, ny)\n",
    "            if ncoord in safes:\n",
    "                break\n",
    "            if ncoord in visited:\n",
    "                break\n",
    "            if ncoord in nvisited:\n",
    "                safes.add((x, y))\n",
    "                break\n",
    "            nvisited.add(ncoord)\n",
    "            x, y = nx, ny\n",
    "            \n",
    "        visited |= nvisited\n",
    "        \n",
    "print(len(safes))"
   ]
  },
  {
   "cell_type": "markdown",
   "metadata": {},
   "source": [
    "### 큐빙 5373"
   ]
  },
  {
   "cell_type": "code",
   "execution_count": 4,
   "metadata": {},
   "outputs": [
    {
     "name": "stdout",
     "output_type": "stream",
     "text": [
      "10\n",
      "L- U- L+ U- L- U- U- L+ U+ U+\n",
      "gwo\n",
      "www\n",
      "rww\n"
     ]
    }
   ],
   "source": [
    "u = [['w'] * 3 for _ in range(3)]\n",
    "d = [['y'] * 3 for _ in range(3)]\n",
    "f = [['r'] * 3 for _ in range(3)]\n",
    "b = [['o'] * 3 for _ in range(3)]\n",
    "l = [['g'] * 3 for _ in range(3)]\n",
    "r = [['b'] * 3 for _ in range(3)]\n",
    "\n",
    "# u = [['u'] * 3 for _ in range(3)]\n",
    "# d = [['d'] * 3 for _ in range(3)]\n",
    "# f = [['f'] * 3 for _ in range(3)]\n",
    "# b = [['b'] * 3 for _ in range(3)]\n",
    "# l = [['l'] * 3 for _ in range(3)]\n",
    "# r = [['r'] * 3 for _ in range(3)]\n",
    "\n",
    "x = lambda v: (v - 1) // 3 \n",
    "y = lambda v: (v - 1) % 3\n",
    "\n",
    "# area rotate\n",
    "def ar(li, d='left'):\n",
    "    new_li = [[0] * 3 for _ in range(3)]\n",
    "    for i in range(3):\n",
    "        for j in range(3):\n",
    "            if d == 'left':\n",
    "                new_li[i][j] = li[j][2 - i]\n",
    "            else:\n",
    "                new_li[i][j] = li[2 - j][i]\n",
    "    return new_li\n",
    "\n",
    "def rotate(c, u, d, f, b, l, r):\n",
    "    if c == 'U+':\n",
    "        l[x(1)][y(1)], l[x(2)][y(2)], l[x(3)][y(3)], f[x(1)][y(1)], f[x(2)][y(2)], f[x(3)][y(3)], r[x(1)][y(1)], r[x(2)][y(2)], r[x(3)][y(3)], b[x(1)][y(1)], b[x(2)][y(2)], b[x(3)][y(3)] = \\\n",
    "        f[x(1)][y(1)], f[x(2)][y(2)], f[x(3)][y(3)], r[x(1)][y(1)], r[x(2)][y(2)], r[x(3)][y(3)], b[x(1)][y(1)], b[x(2)][y(2)], b[x(3)][y(3)], l[x(1)][y(1)], l[x(2)][y(2)], l[x(3)][y(3)]\n",
    "        u = ar(u, 'right')\n",
    "    elif c == 'U-':\n",
    "        f[x(1)][y(1)], f[x(2)][y(2)], f[x(3)][y(3)], r[x(1)][y(1)], r[x(2)][y(2)], r[x(3)][y(3)], b[x(1)][y(1)], b[x(2)][y(2)], b[x(3)][y(3)], l[x(1)][y(1)], l[x(2)][y(2)], l[x(3)][y(3)] = \\\n",
    "        l[x(1)][y(1)], l[x(2)][y(2)], l[x(3)][y(3)], f[x(1)][y(1)], f[x(2)][y(2)], f[x(3)][y(3)], r[x(1)][y(1)], r[x(2)][y(2)], r[x(3)][y(3)], b[x(1)][y(1)], b[x(2)][y(2)], b[x(3)][y(3)]\n",
    "        u = ar(u, 'left')\n",
    "    elif c == 'D+':\n",
    "        f[x(7)][y(7)], f[x(8)][y(8)], f[x(9)][y(9)], r[x(7)][y(7)], r[x(8)][y(8)], r[x(9)][y(9)], b[x(7)][y(7)], b[x(8)][y(8)], b[x(9)][y(9)], l[x(7)][y(7)], l[x(8)][y(8)], l[x(9)][y(9)] = \\\n",
    "        l[x(7)][y(7)], l[x(8)][y(8)], l[x(9)][y(9)], f[x(7)][y(7)], f[x(8)][y(8)], f[x(9)][y(9)], r[x(7)][y(7)], r[x(8)][y(8)], r[x(9)][y(9)], b[x(7)][y(7)], b[x(8)][y(8)], b[x(9)][y(9)]\n",
    "        d = ar(d, 'right')\n",
    "    elif c == 'D-':\n",
    "        l[x(7)][y(7)], l[x(8)][y(8)], l[x(9)][y(9)], f[x(7)][y(7)], f[x(8)][y(8)], f[x(9)][y(9)], r[x(7)][y(7)], r[x(8)][y(8)], r[x(9)][y(9)], b[x(7)][y(7)], b[x(8)][y(8)], b[x(9)][y(9)] = \\\n",
    "        f[x(7)][y(7)], f[x(8)][y(8)], f[x(9)][y(9)], r[x(7)][y(7)], r[x(8)][y(8)], r[x(9)][y(9)], b[x(7)][y(7)], b[x(8)][y(8)], b[x(9)][y(9)], l[x(7)][y(7)], l[x(8)][y(8)], l[x(9)][y(9)]\n",
    "        d = ar(d, 'left')\n",
    "    elif c == 'F+':\n",
    "        u[x(7)][y(7)], u[x(8)][y(8)], u[x(9)][y(9)], r[x(1)][y(1)], r[x(4)][y(4)], r[x(7)][y(7)], d[x(1)][y(1)], d[x(2)][y(2)], d[x(3)][y(3)], l[x(9)][y(9)], l[x(6)][y(6)], l[x(3)][y(3)] = \\\n",
    "        l[x(9)][y(9)], l[x(6)][y(6)], l[x(3)][y(3)], u[x(7)][y(7)], u[x(8)][y(8)], u[x(9)][y(9)], r[x(1)][y(1)], r[x(4)][y(4)], r[x(7)][y(7)], d[x(1)][y(1)], d[x(2)][y(2)], d[x(3)][y(3)]\n",
    "        f = ar(f, 'right')\n",
    "    elif c == 'F-':\n",
    "        l[x(9)][y(9)], l[x(6)][y(6)], l[x(3)][y(3)], u[x(7)][y(7)], u[x(8)][y(8)], u[x(9)][y(9)], r[x(1)][y(1)], r[x(4)][y(4)], r[x(7)][y(7)], d[x(1)][y(1)], d[x(2)][y(2)], d[x(3)][y(3)] = \\\n",
    "        u[x(7)][y(7)], u[x(8)][y(8)], u[x(9)][y(9)], r[x(1)][y(1)], r[x(4)][y(4)], r[x(7)][y(7)], d[x(1)][y(1)], d[x(2)][y(2)], d[x(3)][y(3)], l[x(9)][y(9)], l[x(6)][y(6)], l[x(3)][y(3)]\n",
    "        f = ar(f, 'left')\n",
    "    elif c == 'B+':\n",
    "    #     l 147 u 321, r 963 ,d 987, \n",
    "        l[x(1)][y(1)], l[x(4)][y(4)], l[x(7)][y(7)], u[x(3)][y(3)], u[x(2)][y(2)], u[x(1)][y(1)], r[x(9)][y(9)], r[x(6)][y(6)], r[x(3)][y(3)], d[x(9)][y(9)], d[x(8)][y(8)], d[x(7)][y(7)] = \\\n",
    "        u[x(3)][y(3)], u[x(2)][y(2)], u[x(1)][y(1)], r[x(9)][y(9)], r[x(6)][y(6)], r[x(3)][y(3)], d[x(9)][y(9)], d[x(8)][y(8)], d[x(7)][y(7)], l[x(1)][y(1)], l[x(4)][y(4)], l[x(7)][y(7)]\n",
    "        b = ar(b, 'right')\n",
    "    elif c == 'B-':\n",
    "        u[x(3)][y(3)], u[x(2)][y(2)], u[x(1)][y(1)], r[x(9)][y(9)], r[x(6)][y(6)], r[x(3)][y(3)], d[x(9)][y(9)], d[x(8)][y(8)], d[x(7)][y(7)], l[x(1)][y(1)], l[x(4)][y(4)], l[x(7)][y(7)] = \\\n",
    "        l[x(1)][y(1)], l[x(4)][y(4)], l[x(7)][y(7)], u[x(3)][y(3)], u[x(2)][y(2)], u[x(1)][y(1)], r[x(9)][y(9)], r[x(6)][y(6)], r[x(3)][y(3)], d[x(9)][y(9)], d[x(8)][y(8)], d[x(7)][y(7)] \n",
    "        b = ar(b, 'left')\n",
    "    elif c == 'L+':\n",
    "    #     u 147 f 147 d 369 b 963 = b, u, f, d\n",
    "        u[x(1)][y(1)], u[x(4)][y(4)], u[x(7)][y(7)], f[x(1)][y(1)], f[x(4)][y(4)], f[x(7)][y(7)], d[x(3)][y(3)], d[x(6)][y(6)], d[x(9)][y(9)], b[x(9)][y(9)], b[x(6)][y(6)], b[x(3)][y(3)] = \\\n",
    "        b[x(9)][y(9)], b[x(6)][y(6)], b[x(3)][y(3)], u[x(1)][y(1)], u[x(4)][y(4)], u[x(7)][y(7)], f[x(1)][y(1)], f[x(4)][y(4)], f[x(7)][y(7)], d[x(3)][y(3)], d[x(6)][y(6)], d[x(9)][y(9)]\n",
    "        l = ar(l, 'right')\n",
    "    elif c == 'L-':\n",
    "        b[x(9)][y(9)], b[x(6)][y(6)], b[x(3)][y(3)], u[x(1)][y(1)], u[x(4)][y(4)], u[x(7)][y(7)], f[x(1)][y(1)], f[x(4)][y(4)], f[x(7)][y(7)], d[x(3)][y(3)], d[x(6)][y(6)], d[x(9)][y(9)] = \\\n",
    "        u[x(1)][y(1)], u[x(4)][y(4)], u[x(7)][y(7)], f[x(1)][y(1)], f[x(4)][y(4)], f[x(7)][y(7)], d[x(3)][y(3)], d[x(6)][y(6)], d[x(9)][y(9)], b[x(9)][y(9)], b[x(6)][y(6)], b[x(3)][y(3)]\n",
    "        l = ar(l, 'left')\n",
    "    elif c == 'R+':\n",
    "    #     b 147 u 963 f 963  d 741 = u f d b\n",
    "        b[x(1)][y(1)], b[x(4)][y(4)], b[x(7)][y(7)], u[x(9)][y(9)], u[x(6)][y(6)], u[x(3)][y(3)], f[x(9)][y(9)], f[x(6)][y(6)], f[x(3)][y(3)], d[x(7)][y(7)], d[x(4)][y(4)], d[x(1)][y(1)] = \\\n",
    "        u[x(9)][y(9)], u[x(6)][y(6)], u[x(3)][y(3)], f[x(9)][y(9)], f[x(6)][y(6)], f[x(3)][y(3)], d[x(7)][y(7)], d[x(4)][y(4)], d[x(1)][y(1)], b[x(1)][y(1)], b[x(4)][y(4)], b[x(7)][y(7)]\n",
    "        r = ar(r, 'right')\n",
    "    else:\n",
    "        u[x(9)][y(9)], u[x(6)][y(6)], u[x(3)][y(3)], f[x(9)][y(9)], f[x(6)][y(6)], f[x(3)][y(3)], d[x(7)][y(7)], d[x(4)][y(4)], d[x(1)][y(1)], b[x(1)][y(1)], b[x(4)][y(4)], b[x(7)][y(7)] = \\\n",
    "        b[x(1)][y(1)], b[x(4)][y(4)], b[x(7)][y(7)], u[x(9)][y(9)], u[x(6)][y(6)], u[x(3)][y(3)], f[x(9)][y(9)], f[x(6)][y(6)], f[x(3)][y(3)], d[x(7)][y(7)], d[x(4)][y(4)], d[x(1)][y(1)]\n",
    "        r = ar(r, 'left')  \n",
    "    return c, u, d, f, b, l, r\n",
    "    \n",
    "n = int(input())\n",
    "li = input().split()\n",
    "for c in li:\n",
    "    c, u, d, f, b, l, r = rotate(c, u, d, f, b, l, r)\n",
    "    \n",
    "for v in u:\n",
    "    print(''.join(v))"
   ]
  },
  {
   "cell_type": "code",
   "execution_count": null,
   "metadata": {},
   "outputs": [],
   "source": [
    "x = lambda v: (v - 1) // 3 \n",
    "y = lambda v: (v - 1) % 3\n",
    "\n",
    "# rotate area\n",
    "def ra(li, d='left'):\n",
    "    new_li = [[0] * 3 for _ in range(3)]\n",
    "    for i in range(3):\n",
    "        for j in range(3):\n",
    "            if d == 'left':\n",
    "                new_li[i][j] = li[j][2 - i]\n",
    "            else:\n",
    "                new_li[i][j] = li[2 - j][i]\n",
    "    return new_li\n",
    "\n",
    "def rotate(c, u, d, f, b, l, r):\n",
    "    if c == 'U+':\n",
    "        # \n",
    "        l[x(1)][y(1)], l[x(2)][y(2)], l[x(3)][y(3)], f[x(1)][y(1)], f[x(2)][y(2)], f[x(3)][y(3)], r[x(1)][y(1)], r[x(2)][y(2)], r[x(3)][y(3)], b[x(1)][y(1)], b[x(2)][y(2)], b[x(3)][y(3)] = \\\n",
    "        f[x(1)][y(1)], f[x(2)][y(2)], f[x(3)][y(3)], r[x(1)][y(1)], r[x(2)][y(2)], r[x(3)][y(3)], b[x(1)][y(1)], b[x(2)][y(2)], b[x(3)][y(3)], l[x(1)][y(1)], l[x(2)][y(2)], l[x(3)][y(3)]\n",
    "        u = ra(u, 'right')\n",
    "    elif c == 'U-':\n",
    "        f[x(1)][y(1)], f[x(2)][y(2)], f[x(3)][y(3)], r[x(1)][y(1)], r[x(2)][y(2)], r[x(3)][y(3)], b[x(1)][y(1)], b[x(2)][y(2)], b[x(3)][y(3)], l[x(1)][y(1)], l[x(2)][y(2)], l[x(3)][y(3)] = \\\n",
    "        l[x(1)][y(1)], l[x(2)][y(2)], l[x(3)][y(3)], f[x(1)][y(1)], f[x(2)][y(2)], f[x(3)][y(3)], r[x(1)][y(1)], r[x(2)][y(2)], r[x(3)][y(3)], b[x(1)][y(1)], b[x(2)][y(2)], b[x(3)][y(3)]\n",
    "        u = ra(u, 'left')\n",
    "    elif c == 'D+':\n",
    "        f[x(7)][y(7)], f[x(8)][y(8)], f[x(9)][y(9)], r[x(7)][y(7)], r[x(8)][y(8)], r[x(9)][y(9)], b[x(7)][y(7)], b[x(8)][y(8)], b[x(9)][y(9)], l[x(7)][y(7)], l[x(8)][y(8)], l[x(9)][y(9)] = \\\n",
    "        l[x(7)][y(7)], l[x(8)][y(8)], l[x(9)][y(9)], f[x(7)][y(7)], f[x(8)][y(8)], f[x(9)][y(9)], r[x(7)][y(7)], r[x(8)][y(8)], r[x(9)][y(9)], b[x(7)][y(7)], b[x(8)][y(8)], b[x(9)][y(9)]\n",
    "        d = ra(d, 'right')\n",
    "    elif c == 'D-':\n",
    "        l[x(7)][y(7)], l[x(8)][y(8)], l[x(9)][y(9)], f[x(7)][y(7)], f[x(8)][y(8)], f[x(9)][y(9)], r[x(7)][y(7)], r[x(8)][y(8)], r[x(9)][y(9)], b[x(7)][y(7)], b[x(8)][y(8)], b[x(9)][y(9)] = \\\n",
    "        f[x(7)][y(7)], f[x(8)][y(8)], f[x(9)][y(9)], r[x(7)][y(7)], r[x(8)][y(8)], r[x(9)][y(9)], b[x(7)][y(7)], b[x(8)][y(8)], b[x(9)][y(9)], l[x(7)][y(7)], l[x(8)][y(8)], l[x(9)][y(9)]\n",
    "        d = ra(d, 'left')\n",
    "    elif c == 'F+':\n",
    "        u[x(7)][y(7)], u[x(8)][y(8)], u[x(9)][y(9)], r[x(1)][y(1)], r[x(4)][y(4)], r[x(7)][y(7)], d[x(1)][y(1)], d[x(2)][y(2)], d[x(3)][y(3)], l[x(9)][y(9)], l[x(6)][y(6)], l[x(3)][y(3)] = \\\n",
    "        l[x(9)][y(9)], l[x(6)][y(6)], l[x(3)][y(3)], u[x(7)][y(7)], u[x(8)][y(8)], u[x(9)][y(9)], r[x(1)][y(1)], r[x(4)][y(4)], r[x(7)][y(7)], d[x(1)][y(1)], d[x(2)][y(2)], d[x(3)][y(3)]\n",
    "        f = ra(f, 'right')\n",
    "    elif c == 'F-':\n",
    "        l[x(9)][y(9)], l[x(6)][y(6)], l[x(3)][y(3)], u[x(7)][y(7)], u[x(8)][y(8)], u[x(9)][y(9)], r[x(1)][y(1)], r[x(4)][y(4)], r[x(7)][y(7)], d[x(1)][y(1)], d[x(2)][y(2)], d[x(3)][y(3)] = \\\n",
    "        u[x(7)][y(7)], u[x(8)][y(8)], u[x(9)][y(9)], r[x(1)][y(1)], r[x(4)][y(4)], r[x(7)][y(7)], d[x(1)][y(1)], d[x(2)][y(2)], d[x(3)][y(3)], l[x(9)][y(9)], l[x(6)][y(6)], l[x(3)][y(3)]\n",
    "        f = ra(f, 'left')\n",
    "    elif c == 'B+':\n",
    "        l[x(1)][y(1)], l[x(4)][y(4)], l[x(7)][y(7)], u[x(3)][y(3)], u[x(2)][y(2)], u[x(1)][y(1)], r[x(9)][y(9)], r[x(6)][y(6)], r[x(3)][y(3)], d[x(9)][y(9)], d[x(8)][y(8)], d[x(7)][y(7)] = \\\n",
    "        u[x(3)][y(3)], u[x(2)][y(2)], u[x(1)][y(1)], r[x(9)][y(9)], r[x(6)][y(6)], r[x(3)][y(3)], d[x(9)][y(9)], d[x(8)][y(8)], d[x(7)][y(7)], l[x(1)][y(1)], l[x(4)][y(4)], l[x(7)][y(7)]\n",
    "        b = ra(b, 'right')\n",
    "    elif c == 'B-':\n",
    "        u[x(3)][y(3)], u[x(2)][y(2)], u[x(1)][y(1)], r[x(9)][y(9)], r[x(6)][y(6)], r[x(3)][y(3)], d[x(9)][y(9)], d[x(8)][y(8)], d[x(7)][y(7)], l[x(1)][y(1)], l[x(4)][y(4)], l[x(7)][y(7)] = \\\n",
    "        l[x(1)][y(1)], l[x(4)][y(4)], l[x(7)][y(7)], u[x(3)][y(3)], u[x(2)][y(2)], u[x(1)][y(1)], r[x(9)][y(9)], r[x(6)][y(6)], r[x(3)][y(3)], d[x(9)][y(9)], d[x(8)][y(8)], d[x(7)][y(7)] \n",
    "        b = ra(b, 'left')\n",
    "    elif c == 'L+':\n",
    "        u[x(1)][y(1)], u[x(4)][y(4)], u[x(7)][y(7)], f[x(1)][y(1)], f[x(4)][y(4)], f[x(7)][y(7)], d[x(3)][y(3)], d[x(6)][y(6)], d[x(9)][y(9)], b[x(9)][y(9)], b[x(6)][y(6)], b[x(3)][y(3)] = \\\n",
    "        b[x(9)][y(9)], b[x(6)][y(6)], b[x(3)][y(3)], u[x(1)][y(1)], u[x(4)][y(4)], u[x(7)][y(7)], f[x(1)][y(1)], f[x(4)][y(4)], f[x(7)][y(7)], d[x(3)][y(3)], d[x(6)][y(6)], d[x(9)][y(9)]\n",
    "        l = ra(l, 'right')\n",
    "    elif c == 'L-':\n",
    "        b[x(9)][y(9)], b[x(6)][y(6)], b[x(3)][y(3)], u[x(1)][y(1)], u[x(4)][y(4)], u[x(7)][y(7)], f[x(1)][y(1)], f[x(4)][y(4)], f[x(7)][y(7)], d[x(3)][y(3)], d[x(6)][y(6)], d[x(9)][y(9)] = \\\n",
    "        u[x(1)][y(1)], u[x(4)][y(4)], u[x(7)][y(7)], f[x(1)][y(1)], f[x(4)][y(4)], f[x(7)][y(7)], d[x(3)][y(3)], d[x(6)][y(6)], d[x(9)][y(9)], b[x(9)][y(9)], b[x(6)][y(6)], b[x(3)][y(3)]\n",
    "        l = ra(l, 'left')\n",
    "    elif c == 'R+':\n",
    "        b[x(1)][y(1)], b[x(4)][y(4)], b[x(7)][y(7)], u[x(9)][y(9)], u[x(6)][y(6)], u[x(3)][y(3)], f[x(9)][y(9)], f[x(6)][y(6)], f[x(3)][y(3)], d[x(7)][y(7)], d[x(4)][y(4)], d[x(1)][y(1)] = \\\n",
    "        u[x(9)][y(9)], u[x(6)][y(6)], u[x(3)][y(3)], f[x(9)][y(9)], f[x(6)][y(6)], f[x(3)][y(3)], d[x(7)][y(7)], d[x(4)][y(4)], d[x(1)][y(1)], b[x(1)][y(1)], b[x(4)][y(4)], b[x(7)][y(7)]\n",
    "        r = ra(r, 'right')\n",
    "    else:\n",
    "        u[x(9)][y(9)], u[x(6)][y(6)], u[x(3)][y(3)], f[x(9)][y(9)], f[x(6)][y(6)], f[x(3)][y(3)], d[x(7)][y(7)], d[x(4)][y(4)], d[x(1)][y(1)], b[x(1)][y(1)], b[x(4)][y(4)], b[x(7)][y(7)] = \\\n",
    "        b[x(1)][y(1)], b[x(4)][y(4)], b[x(7)][y(7)], u[x(9)][y(9)], u[x(6)][y(6)], u[x(3)][y(3)], f[x(9)][y(9)], f[x(6)][y(6)], f[x(3)][y(3)], d[x(7)][y(7)], d[x(4)][y(4)], d[x(1)][y(1)]\n",
    "        r = ra(r, 'left')  \n",
    "    return u, d, f, b, l, r\n",
    "    \n",
    "for _ in range(int(input())):\n",
    "    u = [['w'] * 3 for _ in range(3)]\n",
    "    d = [['y'] * 3 for _ in range(3)]\n",
    "    f = [['r'] * 3 for _ in range(3)]\n",
    "    b = [['o'] * 3 for _ in range(3)]\n",
    "    l = [['g'] * 3 for _ in range(3)]\n",
    "    r = [['b'] * 3 for _ in range(3)]\n",
    "    \n",
    "    n = int(input())\n",
    "    li = input().split()\n",
    "    \n",
    "    for c in li:\n",
    "        u, d, f, b, l, r = rotate(c, u, d, f, b, l, r)\n",
    "    for v in u:\n",
    "        print(''.join(v))"
   ]
  },
  {
   "cell_type": "code",
   "execution_count": null,
   "metadata": {},
   "outputs": [],
   "source": [
    "U- U+ D- D+ L- L+ R- R+ B- B+ F- F+"
   ]
  },
  {
   "cell_type": "code",
   "execution_count": 58,
   "metadata": {},
   "outputs": [
    {
     "name": "stdout",
     "output_type": "stream",
     "text": [
      "u\n",
      "['b', 'u', 'u']\n",
      "['b', 'u', 'u']\n",
      "['b', 'u', 'u']\n",
      "d\n",
      "['d', 'd', 'f']\n",
      "['d', 'd', 'f']\n",
      "['d', 'd', 'f']\n",
      "l\n",
      "['l', 'l', 'l']\n",
      "['l', 'l', 'l']\n",
      "['l', 'l', 'l']\n",
      "r\n",
      "['r', 'r', 'r']\n",
      "['r', 'r', 'r']\n",
      "['r', 'r', 'r']\n",
      "b\n",
      "['b', 'b', 'd']\n",
      "['b', 'b', 'd']\n",
      "['b', 'b', 'd']\n",
      "f\n",
      "['u', 'f', 'f']\n",
      "['u', 'f', 'f']\n",
      "['u', 'f', 'f']\n"
     ]
    }
   ],
   "source": [
    "print('u')\n",
    "for v in u:\n",
    "    print(v)\n",
    "print('d')\n",
    "for v in d:\n",
    "    print(v)\n",
    "print('l')\n",
    "for v in l:\n",
    "    print(v)\n",
    "print('r')\n",
    "for v in r:\n",
    "    print(v)\n",
    "print('b')\n",
    "for v in b:\n",
    "    print(v)\n",
    "print('f')\n",
    "for v in f:\n",
    "    print(v)"
   ]
  },
  {
   "cell_type": "code",
   "execution_count": null,
   "metadata": {},
   "outputs": [],
   "source": [
    "L- U- L+ U- L- U- U- L+ U+ U+"
   ]
  },
  {
   "cell_type": "code",
   "execution_count": null,
   "metadata": {},
   "outputs": [],
   "source": []
  },
  {
   "cell_type": "code",
   "execution_count": 26,
   "metadata": {},
   "outputs": [],
   "source": [
    "def area_rotate(li, d='left'):\n",
    "    new_li = [[0] * 3 for _ in range(3)]\n",
    "    for i in range(3):\n",
    "        for j in range(3):\n",
    "            if d == 'left':\n",
    "                new_li[i][j] = li[j][2 - i]\n",
    "            else:\n",
    "                new_li[i][j] = li[2 - j][i]\n",
    "    return new_li\n",
    "\n",
    "li = [[1, 2, 3], [4, 5, 6], [7, 8, 9]]\n",
    "li = area_rotate(li, 'right')"
   ]
  },
  {
   "cell_type": "code",
   "execution_count": 27,
   "metadata": {},
   "outputs": [
    {
     "name": "stdout",
     "output_type": "stream",
     "text": [
      "[7, 4, 1]\n",
      "[8, 5, 2]\n",
      "[9, 6, 3]\n"
     ]
    }
   ],
   "source": [
    "for v in li:\n",
    "    print(v)"
   ]
  },
  {
   "cell_type": "code",
   "execution_count": null,
   "metadata": {},
   "outputs": [],
   "source": [
    "de"
   ]
  },
  {
   "cell_type": "code",
   "execution_count": 14,
   "metadata": {},
   "outputs": [
    {
     "name": "stdout",
     "output_type": "stream",
     "text": [
      "rww\n",
      "rww\n",
      "rww\n"
     ]
    }
   ],
   "source": [
    "for v in u:\n",
    "    print(''.join(v))"
   ]
  },
  {
   "cell_type": "code",
   "execution_count": 2,
   "metadata": {},
   "outputs": [
    {
     "data": {
      "text/plain": [
       "[['w', 'w', 'w'], ['w', 'w', 'w'], ['w', 'w', 'w']]"
      ]
     },
     "execution_count": 2,
     "metadata": {},
     "output_type": "execute_result"
    }
   ],
   "source": []
  }
 ],
 "metadata": {
  "kernelspec": {
   "display_name": "Python 3",
   "language": "python",
   "name": "python3"
  },
  "language_info": {
   "codemirror_mode": {
    "name": "ipython",
    "version": 3
   },
   "file_extension": ".py",
   "mimetype": "text/x-python",
   "name": "python",
   "nbconvert_exporter": "python",
   "pygments_lexer": "ipython3",
   "version": "3.8.3"
  }
 },
 "nbformat": 4,
 "nbformat_minor": 4
}
