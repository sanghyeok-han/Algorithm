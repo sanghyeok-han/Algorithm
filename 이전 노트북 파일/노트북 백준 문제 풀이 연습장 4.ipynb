{
 "cells": [
  {
   "cell_type": "code",
   "execution_count": 5,
   "metadata": {},
   "outputs": [],
   "source": [
    "from math import gcd as get_gcd"
   ]
  },
  {
   "cell_type": "code",
   "execution_count": 10,
   "metadata": {},
   "outputs": [
    {
     "name": "stdout",
     "output_type": "stream",
     "text": [
      "3\n",
      "5 10\n",
      "10 5\n",
      "7 23\n",
      "161 1\n",
      "42 56\n",
      "168 14\n"
     ]
    }
   ],
   "source": [
    "from math import gcd as get_gcd\n",
    "\n",
    "for _ in range(int(input())):\n",
    "    a, b = map(int, input().split())\n",
    "    gcd = get_gcd(a, b)\n",
    "    lcm = a * b // gcd\n",
    "\n",
    "    print(lcm, gcd)"
   ]
  },
  {
   "cell_type": "markdown",
   "metadata": {},
   "source": [
    "### Divide and Conquer 5768"
   ]
  },
  {
   "cell_type": "code",
   "execution_count": 18,
   "metadata": {},
   "outputs": [
    {
     "name": "stdout",
     "output_type": "stream",
     "text": [
      "4500 5000\n",
      "4680 48\n"
     ]
    }
   ],
   "source": [
    "def get_divisor_count(num):\n",
    "    count = 0\n",
    "    for i in range(1, int(num ** 0.5)):\n",
    "        if num % i == 0:\n",
    "            count += 2\n",
    "    if int(num ** 0.5) == num ** 0.5:\n",
    "        count += 1\n",
    "    return count\n",
    "\n",
    "while True:\n",
    "    m, n = map(int, input().split())\n",
    "    if m == 0 and n == 0:\n",
    "        break\n",
    "\n",
    "    max_count = 0\n",
    "    max_count_num = -1\n",
    "    for i in range(m, n + 1):\n",
    "        count = get_divisor_count(i)\n",
    "        if count >= max_count:\n",
    "            max_count = count\n",
    "            max_count_num = i\n",
    "\n",
    "    print(max_count_num, max_count)"
   ]
  },
  {
   "cell_type": "markdown",
   "metadata": {},
   "source": [
    "### 팩트 6463"
   ]
  },
  {
   "cell_type": "code",
   "execution_count": 64,
   "metadata": {},
   "outputs": [
    {
     "name": "stdout",
     "output_type": "stream",
     "text": [
      "1\n",
      "    1 -> 1\n",
      "2\n",
      "    2 -> 2\n",
      "26\n",
      "   26 -> 4\n",
      "125\n",
      "  125 -> 8\n",
      "3125\n",
      " 3125 -> 2\n",
      "9999\n",
      " 9999 -> 8\n"
     ]
    }
   ],
   "source": [
    "def get_last_non_zero_num(num):\n",
    "    s = str(num)\n",
    "    for i in range(len(s) - 1, -1, -1):\n",
    "        if s[i] != '0':\n",
    "            s = s[:i + 1]\n",
    "            return int(s[-500:])\n",
    "\n",
    "def left_pad(n):\n",
    "    s = str(n)\n",
    "    return ' ' * (5 - len(s)) + s\n",
    "        \n",
    "dp = [0] * 10001\n",
    "dp[0] = 1\n",
    "for i in range(1, 10001):\n",
    "    dp[i] = get_last_non_zero_num(dp[i - 1] * i)\n",
    "      \n",
    "while True:\n",
    "    try:\n",
    "        n = int(input())\n",
    "        s = left_pad(n)\n",
    "        \n",
    "        print(f'{s} -> {str(dp[n])[-1]}')\n",
    "    except:\n",
    "        break"
   ]
  },
  {
   "cell_type": "markdown",
   "metadata": {},
   "source": [
    "### Euclid 9884"
   ]
  },
  {
   "cell_type": "code",
   "execution_count": 83,
   "metadata": {},
   "outputs": [
    {
     "name": "stdout",
     "output_type": "stream",
     "text": [
      "24 15\n",
      "3\n"
     ]
    }
   ],
   "source": [
    "a, b = map(int, input().split())\n",
    "\n",
    "while a != b:\n",
    "    ma = max(a, b)\n",
    "    mi = min(a, b)\n",
    "    \n",
    "    a = ma - mi\n",
    "    b = mi\n",
    "    \n",
    "print(a)"
   ]
  },
  {
   "cell_type": "markdown",
   "metadata": {},
   "source": [
    "### 이분 그래프 (다시 풀음) 1707"
   ]
  },
  {
   "cell_type": "code",
   "execution_count": 82,
   "metadata": {},
   "outputs": [
    {
     "name": "stdout",
     "output_type": "stream",
     "text": [
      "2\n",
      "3 2\n",
      "1 3\n",
      "2 3\n",
      "YES\n",
      "4 4\n",
      "1 2\n",
      "2 3\n",
      "3 4\n",
      "4 2\n",
      "NO\n"
     ]
    }
   ],
   "source": [
    "from collections import deque\n",
    "import sys\n",
    "# input = sys.stdin.readline\n",
    "\n",
    "def check(v):\n",
    "    colors = [0] * v # 0: 무색, 1: 빨간색, 2: 파란색\n",
    "    visited = [False] * v\n",
    "    for s in range(v):\n",
    "        if visited[s]:\n",
    "            continue\n",
    "        visited[s] = True\n",
    "        colors[s] = 1\n",
    "\n",
    "        queue = deque()\n",
    "        queue.append(s)\n",
    "\n",
    "        while queue:\n",
    "            value = queue.popleft()\n",
    "            for v in li[value]:\n",
    "                if colors[v] != 0 and colors[value] == colors[v]:\n",
    "                    return 'NO'\n",
    "                if visited[v]:\n",
    "                    continue\n",
    "                visited[v] = True\n",
    "                colors[v] = 1 if colors[value] == 2 else 2\n",
    "                queue.append(v)\n",
    "    return 'YES'\n",
    "\n",
    "for _ in range(int(input().rstrip())):\n",
    "    v, e = map(int, input().rstrip().split())\n",
    "    li = [[] for _ in range(v)]\n",
    "    for _ in range(e):\n",
    "        a, b = map(int, input().rstrip().split())\n",
    "        a -= 1\n",
    "        b -= 1\n",
    "        li[a].append(b)\n",
    "        li[b].append(a)\n",
    "\n",
    "    print(check(v))"
   ]
  },
  {
   "cell_type": "markdown",
   "metadata": {},
   "source": [
    "### Choosing Numbers 10495"
   ]
  },
  {
   "cell_type": "code",
   "execution_count": 97,
   "metadata": {},
   "outputs": [
    {
     "name": "stdout",
     "output_type": "stream",
     "text": [
      "2 4 7\n",
      "7\n",
      "4 4 8 15 16\n",
      "15\n",
      "4 2 3 4 8\n",
      "3\n"
     ]
    }
   ],
   "source": [
    "from math import gcd as get_gcd\n",
    "import sys\n",
    "# input = sys.stdin.readline\n",
    "\n",
    "def check(i):\n",
    "    for j in range(n):\n",
    "        if i == j:\n",
    "            continue\n",
    "        if get_gcd(li[i], li[j]) > 1:\n",
    "            return False\n",
    "    return True\n",
    "\n",
    "while True:\n",
    "    try:\n",
    "        li = list(map(int, input().rstrip().split()))\n",
    "        n = li[0]\n",
    "        li = sorted(li[1:], reverse=True)\n",
    "\n",
    "        for i in range(n):\n",
    "            if check(i):          \n",
    "                print(li[i])\n",
    "                break\n",
    "    except:\n",
    "        break"
   ]
  },
  {
   "cell_type": "markdown",
   "metadata": {},
   "source": [
    "### Wonowon 11290"
   ]
  },
  {
   "cell_type": "code",
   "execution_count": 150,
   "metadata": {
    "scrolled": true
   },
   "outputs": [
    {
     "name": "stdout",
     "output_type": "stream",
     "text": [
      "10000\n",
      "712\n"
     ]
    }
   ],
   "source": [
    "def get_primes(n):\n",
    "    primes = [True] * (n + 1)\n",
    "    primes[0] = primes[1] = False\n",
    "    \n",
    "    for mod in range(2, int(n ** 0.5) + 1):\n",
    "        if primes[mod]:\n",
    "            for i in range(mod * mod, n, mod):\n",
    "                primes[i] = False            \n",
    "    return primes\n",
    "\n",
    "def check(p):\n",
    "    current = 101\n",
    "    current_len = 3\n",
    "    while current_len <= p - 2:\n",
    "        if current % p == 0:\n",
    "            if current_len == p - 2:\n",
    "                return True\n",
    "            else:\n",
    "                return False\n",
    "        current *= 100\n",
    "        current += 1\n",
    "        current_len += 2\n",
    "    return False\n",
    "\n",
    "def main():\n",
    "    n = int(input())\n",
    "    primes = get_primes(n)\n",
    "    primes[2] = primes[5] = False\n",
    "    \n",
    "    count = 0\n",
    "    for i in range(n + 1):\n",
    "        if primes[i]:\n",
    "            if check(i):\n",
    "                count += 1\n",
    "    print(count)\n",
    "\n",
    "main()"
   ]
  },
  {
   "cell_type": "code",
   "execution_count": 167,
   "metadata": {},
   "outputs": [
    {
     "name": "stdout",
     "output_type": "stream",
     "text": [
      "100\n",
      "3 1 1\n",
      "7 5 0\n",
      "11 9 5\n",
      "13 11 0\n",
      "17 15 0\n",
      "19 17 0\n",
      "23 21 0\n",
      "29 27 0\n",
      "31 29 0\n",
      "37 35 0\n",
      "41 39 0\n",
      "43 41 0\n",
      "47 45 0\n",
      "53 51 0\n",
      "59 57 0\n",
      "61 59 0\n",
      "67 65 0\n",
      "71 69 0\n",
      "73 71 0\n",
      "79 77 0\n",
      "83 81 0\n",
      "89 87 0\n",
      "97 95 0\n",
      "100 97 1\n",
      "21\n"
     ]
    }
   ],
   "source": [
    "def get_primes(n):\n",
    "    primes = [True] * (n + 1)\n",
    "    primes[0] = primes[1] = False\n",
    "    \n",
    "    for mod in range(2, int(n ** 0.5) + 1):\n",
    "        if primes[mod]:\n",
    "            for i in range(mod * mod, n, mod):\n",
    "                primes[i] = False            \n",
    "    return primes\n",
    "\n",
    "def check(p):\n",
    "    wonowon = '1' + '01' * ((p - 3) // 2)\n",
    "\n",
    "    if int(wonowon) % p == 0:\n",
    "        return True\n",
    "    else:\n",
    "        return False\n",
    "    \n",
    "def main():\n",
    "    n = int(input())\n",
    "    primes = get_primes(n)\n",
    "    primes[2] = primes[5] = False\n",
    "    \n",
    "    count = 0\n",
    "    for i in range(n + 1):\n",
    "        if primes[i]:\n",
    "            if check(i):\n",
    "                count += 1\n",
    "    print(count)\n",
    "\n",
    "main()"
   ]
  },
  {
   "cell_type": "markdown",
   "metadata": {},
   "source": [
    "### 적어도 대부분의 배수 1145"
   ]
  },
  {
   "cell_type": "code",
   "execution_count": 191,
   "metadata": {},
   "outputs": [
    {
     "name": "stdout",
     "output_type": "stream",
     "text": [
      "30 42 70 35 90\n",
      "210\n"
     ]
    }
   ],
   "source": [
    "from math import gcd as get_gcd\n",
    "from itertools import combinations\n",
    "\n",
    "def get_lcm(a, b):\n",
    "    return a * b // get_gcd(a, b)\n",
    "\n",
    "li = list(map(int, input().split()))\n",
    "\n",
    "result = float('inf')\n",
    "for case in combinations(li, 3):\n",
    "    dp = [0] * 3\n",
    "    dp[0] = case[0]\n",
    "    for i in range(1, 3):\n",
    "        dp[i] = get_lcm(dp[i - 1], case[i])\n",
    "    result = min(result, dp[i])\n",
    "    \n",
    "print(result)"
   ]
  },
  {
   "cell_type": "code",
   "execution_count": 200,
   "metadata": {},
   "outputs": [
    {
     "name": "stdout",
     "output_type": "stream",
     "text": [
      "5 4 3 2 1\n",
      "4\n"
     ]
    }
   ],
   "source": [
    "from math import gcd as get_gcd\n",
    "from itertools import combinations\n",
    "\n",
    "def get_lcm(a, b):\n",
    "    return a * b // get_gcd(a, b)\n",
    "\n",
    "li = list(map(int, input().split()))\n",
    "\n",
    "result = float('inf')\n",
    "\n",
    "for i in range(5):\n",
    "    for j in range(i + 1, 5):\n",
    "        for k in range(j + 1, 5):\n",
    "            case = [li[i], li[j], li[k]]\n",
    "            dp = [0] * 3\n",
    "            dp[0] = case[0]\n",
    "            for l in range(1, 3):\n",
    "                dp[l] = get_lcm(dp[l - 1], case[l])\n",
    "\n",
    "            result = min(result, dp[-1])\n",
    "\n",
    "print(result)"
   ]
  },
  {
   "cell_type": "markdown",
   "metadata": {},
   "source": [
    "### 아기 상어 16236 (다시 풀음)"
   ]
  },
  {
   "cell_type": "code",
   "execution_count": 9,
   "metadata": {},
   "outputs": [
    {
     "name": "stdout",
     "output_type": "stream",
     "text": [
      "2\n",
      "1 0\n",
      "0 9\n",
      "2\n"
     ]
    }
   ],
   "source": [
    "from collections import deque\n",
    "\n",
    "n = int(input())\n",
    "li = [list(map(int, input().split())) for _ in range(n)]\n",
    "\n",
    "def get_target_coord(sx, sy):\n",
    "    queue = deque()\n",
    "    queue.append((sx, sy))\n",
    "    \n",
    "    distance = [[float('inf')] * n for _ in range(n)]\n",
    "    distance[sx][sy] = 0\n",
    "    \n",
    "    target_dist = float('inf')\n",
    "    target_coord = [float('inf'), float('inf')]\n",
    "    while queue:\n",
    "        x, y = queue.popleft()\n",
    "        \n",
    "        for i in range(4):\n",
    "            nx = x + dx[i]\n",
    "            ny = y + dy[i]\n",
    "            if nx < 0 or nx >= n or ny < 0 or ny >= n:\n",
    "                continue\n",
    "            if li[nx][ny] > size:\n",
    "                continue\n",
    "            if distance[nx][ny] == float('inf'):\n",
    "                distance[nx][ny] = distance[x][y] + 1\n",
    "                \n",
    "                if li[nx][ny] == 0 or li[nx][ny] == size:\n",
    "                    queue.append((nx, ny))\n",
    "                    continue\n",
    "                    \n",
    "                dist = distance[nx][ny]\n",
    "                if dist > target_dist:\n",
    "                    continue\n",
    "                if dist < target_dist:\n",
    "                    target_dist = dist\n",
    "                    target_coord = [nx, ny]\n",
    "                    continue\n",
    "                if nx > target_coord[0]:\n",
    "                    continue\n",
    "                if nx < target_coord[0]:\n",
    "                    target_dist = dist\n",
    "                    target_coord = [nx, ny]\n",
    "                    continue\n",
    "                if ny < target_coord[1]:\n",
    "                    target_dist = dist\n",
    "                    target_coord = [nx, ny]\n",
    "                               \n",
    "    return target_coord, target_dist\n",
    " \n",
    "sx = sy = float('inf')\n",
    "for i in range(n):\n",
    "    for j in range(n):\n",
    "        if li[i][j] == 9:\n",
    "            sx, sy = i, j\n",
    "            li[i][j] = 0\n",
    "        \n",
    "dx = [-1, 1, 0, 0]\n",
    "dy = [0, 0, -1, 1]\n",
    "\n",
    "size = 2\n",
    "remain = 2\n",
    "time_spent = 0\n",
    "    \n",
    "x, y = sx, sy\n",
    "while True:\n",
    "    # 아기상어가 먹을 먹이의 위치와 이동 거리를 반환하는 함수 호출\n",
    "    target_coord, target_dist = get_target_coord(x, y)\n",
    "    if target_dist == float('inf'):\n",
    "        print(time_spent)\n",
    "        break\n",
    "    else:\n",
    "        x, y = target_coord\n",
    "        li[x][y] = 0\n",
    "        \n",
    "        time_spent += target_dist\n",
    "        \n",
    "        remain -= 1\n",
    "        if remain == 0:\n",
    "            size += 1\n",
    "            remain = size"
   ]
  },
  {
   "cell_type": "markdown",
   "metadata": {},
   "source": [
    "### 킹 1063"
   ]
  },
  {
   "cell_type": "code",
   "execution_count": 15,
   "metadata": {},
   "outputs": [
    {
     "name": "stdout",
     "output_type": "stream",
     "text": [
      "A1 A2 5\n",
      "T\n",
      "T\n",
      "T\n",
      "T\n",
      "T\n",
      "A6\n",
      "A7\n"
     ]
    }
   ],
   "source": [
    "k, r, n = input().split()\n",
    "n = int(n)\n",
    "\n",
    "min_range = 1\n",
    "max_range = 8\n",
    "alpha_to_num = lambda x: ord(x) - 64\n",
    "num_to_alpha = lambda x: chr(x + 64)\n",
    "movement = ['R', 'L', 'B', 'T', 'RT', 'LT', 'RB', 'LB']\n",
    "dx = [0, 0, -1, 1, 1, 1, -1, -1]\n",
    "dy = [1, -1, 0, 0, 1, -1, 1, -1]\n",
    "\n",
    "ky, kx = k\n",
    "ry, rx = r\n",
    "\n",
    "kx = int(kx)\n",
    "ky = alpha_to_num(ky)\n",
    "\n",
    "rx = int(rx)\n",
    "ry = alpha_to_num(ry)\n",
    "\n",
    "for _ in range(n):\n",
    "    move = input()\n",
    "    \n",
    "    i = movement.index(move)\n",
    "    nkx = kx + dx[i]\n",
    "    nky = ky + dy[i]\n",
    "    \n",
    "    nrx = rx + dx[i]\n",
    "    nry = ry + dy[i]\n",
    "    \n",
    "    if nkx < min_range or nkx > max_range or nky < min_range or nky > max_range:\n",
    "        continue\n",
    "    if nkx == rx and nky == ry:\n",
    "        if nrx < min_range or nrx > max_range or nry < min_range or nry > max_range:\n",
    "            continue\n",
    "        rx = nrx\n",
    "        ry = nry\n",
    "        \n",
    "    kx = nkx\n",
    "    ky = nky\n",
    "    \n",
    "print(num_to_alpha(ky) + str(kx))\n",
    "print(num_to_alpha(ry) + str(rx))"
   ]
  },
  {
   "cell_type": "markdown",
   "metadata": {},
   "source": [
    "### 등수 구하기 1205"
   ]
  },
  {
   "cell_type": "code",
   "execution_count": null,
   "metadata": {},
   "outputs": [],
   "source": [
    "n, new_score, p = map(int, input().split())\n",
    "if n == 0:\n",
    "    print(1)\n",
    "else:\n",
    "    li = list(map(int, input().split()))\n",
    "    li.sort(reverse=True)\n",
    "    li.append(-1)\n",
    "    ranks = [0] * (n + 1)\n",
    "    ranks[0] = 1\n",
    "    for i in range(1, n + 1):\n",
    "        if li[i - 1] > li[i]:\n",
    "            ranks[i] = i + 1\n",
    "        else:\n",
    "            ranks[i] = ranks[i - 1]\n",
    "   \n",
    "    rank = -1\n",
    "    loc = -1\n",
    "    for i in range(n + 1):\n",
    "        if li[i] < new_score:\n",
    "            loc = i + 1\n",
    "            rank = i + 1\n",
    "            \n",
    "            if i >= 1 and li[i - 1] == new_score:\n",
    "                rank = ranks[i - 1]\n",
    "            break\n",
    "            \n",
    "    if loc > p:\n",
    "        rank = -1\n",
    "        \n",
    "    print(rank)"
   ]
  },
  {
   "cell_type": "markdown",
   "metadata": {},
   "source": [
    "### 학생 번호 1235"
   ]
  },
  {
   "cell_type": "code",
   "execution_count": 61,
   "metadata": {},
   "outputs": [
    {
     "name": "stdout",
     "output_type": "stream",
     "text": [
      "3\n",
      "123\n",
      "223\n",
      "323\n",
      "3\n"
     ]
    }
   ],
   "source": [
    "n = int(input())\n",
    "st = set()\n",
    "\n",
    "li = []\n",
    "for _ in range(n):\n",
    "    li.append(input())\n",
    "    \n",
    "result = 0\n",
    "for k in range(1, len(li[0]) + 1):\n",
    "    is_right = True\n",
    "    for j in range(n):\n",
    "        value = li[j][-k:]\n",
    "        if value in st:\n",
    "            is_right = False\n",
    "            break\n",
    "        st.add(value)\n",
    "    if is_right:\n",
    "        result = k\n",
    "        break\n",
    "        \n",
    "print(result)"
   ]
  },
  {
   "cell_type": "markdown",
   "metadata": {},
   "source": [
    "### 온라인 판매 1246"
   ]
  },
  {
   "cell_type": "code",
   "execution_count": null,
   "metadata": {},
   "outputs": [],
   "source": [
    "총 N개의 달걀이 있고, 그의 잠재적인 고객은 총 M명이다."
   ]
  },
  {
   "cell_type": "code",
   "execution_count": 129,
   "metadata": {},
   "outputs": [
    {
     "name": "stdout",
     "output_type": "stream",
     "text": [
      "5 4\n",
      "2\n",
      "8\n",
      "10\n",
      "7\n",
      "7 21\n"
     ]
    }
   ],
   "source": [
    "n, m = map(int, input().split())\n",
    "li = [int(input()) for _ in range(m)]\n",
    "li.sort(reverse=True)\n",
    "\n",
    "min_price = float('inf')\n",
    "max_profit = 0\n",
    "for i in range(min(n, m)):\n",
    "    profit = li[i] * (i + 1)\n",
    "    \n",
    "    if profit >= max_profit:\n",
    "        max_profit = profit\n",
    "        min_price = li[i]\n",
    "        \n",
    "print(min_price, max_profit)"
   ]
  },
  {
   "cell_type": "markdown",
   "metadata": {},
   "source": [
    "### 단어 나누기 1251"
   ]
  },
  {
   "cell_type": "code",
   "execution_count": 132,
   "metadata": {},
   "outputs": [
    {
     "name": "stdout",
     "output_type": "stream",
     "text": [
      "mobitel\n",
      "bometil\n"
     ]
    }
   ],
   "source": [
    "s = input()\n",
    "n = len(s)\n",
    "\n",
    "st = set()\n",
    "for i in range(n - 2):\n",
    "    for j in range(i + 2, n):\n",
    "        st.add(s[:i + 1][::-1] + s[i + 1: j][::-1] + s[j:][::-1])\n",
    "        \n",
    "print(sorted(st)[0])"
   ]
  },
  {
   "cell_type": "markdown",
   "metadata": {},
   "source": [
    "### 나이트 투어 1331"
   ]
  },
  {
   "cell_type": "code",
   "execution_count": 133,
   "metadata": {},
   "outputs": [
    {
     "name": "stdout",
     "output_type": "stream",
     "text": [
      "A1\n",
      "B3\n",
      "A5\n",
      "C6\n",
      "E5\n",
      "F3\n",
      "D2\n",
      "F1\n",
      "E3\n",
      "F5\n",
      "D4\n",
      "B4\n",
      "A3\n",
      "B1\n",
      "C3\n",
      "A2\n",
      "C1\n",
      "E2\n",
      "F4\n",
      "E6\n",
      "C5\n",
      "A6\n",
      "B4\n",
      "D5\n",
      "F6\n",
      "E4\n",
      "D6\n",
      "C4\n",
      "B6\n",
      "A4\n",
      "B2\n",
      "D1\n",
      "F2\n",
      "D3\n",
      "E1\n",
      "C2\n"
     ]
    }
   ],
   "source": [
    "li = [input() for _ in range(36)]"
   ]
  },
  {
   "cell_type": "code",
   "execution_count": 134,
   "metadata": {},
   "outputs": [
    {
     "data": {
      "text/plain": [
       "['A1',\n",
       " 'B3',\n",
       " 'A5',\n",
       " 'C6',\n",
       " 'E5',\n",
       " 'F3',\n",
       " 'D2',\n",
       " 'F1',\n",
       " 'E3',\n",
       " 'F5',\n",
       " 'D4',\n",
       " 'B4',\n",
       " 'A3',\n",
       " 'B1',\n",
       " 'C3',\n",
       " 'A2',\n",
       " 'C1',\n",
       " 'E2',\n",
       " 'F4',\n",
       " 'E6',\n",
       " 'C5',\n",
       " 'A6',\n",
       " 'B4',\n",
       " 'D5',\n",
       " 'F6',\n",
       " 'E4',\n",
       " 'D6',\n",
       " 'C4',\n",
       " 'B6',\n",
       " 'A4',\n",
       " 'B2',\n",
       " 'D1',\n",
       " 'F2',\n",
       " 'D3',\n",
       " 'E1',\n",
       " 'C2']"
      ]
     },
     "execution_count": 134,
     "metadata": {},
     "output_type": "execute_result"
    }
   ],
   "source": [
    "def main():\n",
    "    if len(set(li)) < 36:\n",
    "        print('Invalid')"
   ]
  },
  {
   "cell_type": "code",
   "execution_count": null,
   "metadata": {},
   "outputs": [],
   "source": [
    "n = int(input())\n",
    "li = [int(input()) for _ in range(n)]\n",
    "li.sort()\n",
    "\n"
   ]
  },
  {
   "cell_type": "markdown",
   "metadata": {},
   "source": [
    "### 뒤집힌 덧셈 1357"
   ]
  },
  {
   "cell_type": "code",
   "execution_count": 140,
   "metadata": {},
   "outputs": [
    {
     "name": "stdout",
     "output_type": "stream",
     "text": [
      "123 100\n",
      "223\n"
     ]
    }
   ],
   "source": [
    "x, y = input().split()\n",
    "\n",
    "def rev(s):\n",
    "    return str(int(s[::-1]))\n",
    "\n",
    "print(rev(str(int(rev(x)) + int(rev(y)))))"
   ]
  },
  {
   "cell_type": "markdown",
   "metadata": {},
   "source": [
    "### 🐜 기적의 매매법 🐜 20546"
   ]
  },
  {
   "cell_type": "code",
   "execution_count": 159,
   "metadata": {},
   "outputs": [
    {
     "name": "stdout",
     "output_type": "stream",
     "text": [
      "15\n",
      "20 20 33 98 15 6 4 1 1 1 2 3 6 14\n",
      "TIMING\n"
     ]
    }
   ],
   "source": [
    "n = int(input())\n",
    "li = list(map(int, input().split()))\n",
    "\n",
    "j_cash = n\n",
    "j_stocks = 0\n",
    "\n",
    "s_cash = n\n",
    "s_stocks = 0\n",
    "\n",
    "i_count = 0\n",
    "d_count = 0\n",
    "for i in range(14):\n",
    "    if j_cash >= li[i]:\n",
    "        j_stocks += j_cash // li[i]\n",
    "        j_cash %= li[i] \n",
    "        \n",
    "    if i >= 1:\n",
    "        if li[i] < li[i - 1]:\n",
    "            d_count += 1\n",
    "            i_count = 0\n",
    "        elif li[i] > li[i - 1]:\n",
    "            d_count = 0\n",
    "            i_count += 1\n",
    "        else:\n",
    "            d_count = 0\n",
    "            i_count = 0\n",
    "     \n",
    "    if d_count >= 3:\n",
    "        if s_cash >= li[i]:\n",
    "            s_stocks += s_cash // li[i]\n",
    "            s_cash %= li[i]\n",
    "            \n",
    "    if i_count >= 3:\n",
    "        if s_stocks:\n",
    "            s_cash += s_stocks * li[i]\n",
    "            s_stocks = 0\n",
    "\n",
    "j = j_cash + j_stocks * li[-1]\n",
    "s = s_cash + s_stocks * li[-1]\n",
    "if j == s:\n",
    "    print('SAMESAME')\n",
    "elif j > s:\n",
    "    print('BNP')\n",
    "else:\n",
    "    print('TIMING')"
   ]
  },
  {
   "cell_type": "markdown",
   "metadata": {},
   "source": [
    "### 미로 만들기 1347"
   ]
  },
  {
   "cell_type": "code",
   "execution_count": 161,
   "metadata": {},
   "outputs": [
    {
     "name": "stdout",
     "output_type": "stream",
     "text": [
      "5\n",
      "RRFRF\n"
     ]
    }
   ],
   "source": [
    "n = int(input())\n",
    "s = input()"
   ]
  },
  {
   "cell_type": "code",
   "execution_count": 176,
   "metadata": {},
   "outputs": [
    {
     "name": "stdout",
     "output_type": "stream",
     "text": [
      "5\n",
      "RRFRF\n",
      "49 50\n",
      "49 51\n",
      ". .\n",
      ". #\n"
     ]
    }
   ],
   "source": [
    "n = int(input())\n",
    "s = input()\n",
    "\n",
    "m = 101\n",
    "maze = [['#'] * m for _ in range(m)]\n",
    "maze[50][50] = '.'\n",
    "\n",
    "x, y = 50, 50\n",
    "\n",
    "# 남, 서, 북, 동\n",
    "dx = [1, 0, -1, 0]\n",
    "dy = [0, -1, 0, 1]\n",
    "\n",
    "direction = 0\n",
    "\n",
    "for c in s:\n",
    "    if c == 'R':\n",
    "        direction += 1\n",
    "    elif c == 'L':\n",
    "        direction -= 1\n",
    "    else:\n",
    "        x = x + dx[direction % 4]\n",
    "        y = y + dy[direction % 4]\n",
    "        print(x, y)\n",
    "        maze[x][y] = '.'\n",
    "        \n",
    "c_start = -1\n",
    "r_start = -1\n",
    "c_end = -1\n",
    "r_end = float('inf')\n",
    "for i in range(101):\n",
    "    is_dot_found = False\n",
    "    for j in range(101):\n",
    "        if maze[i][j] == '.':\n",
    "            if c_start == -1 and r_start == -1:\n",
    "                r_start = i\n",
    "                c_start = j\n",
    "            c_end = max(j, c_end)\n",
    "            is_dot_found = True\n",
    "    if is_dot_found:\n",
    "        r_end = i\n",
    "    \n",
    "result = []\n",
    "for i in range(r_start, r_end + 1):\n",
    "    result.append(maze[i][c_start:c_end + 1])\n",
    "    \n",
    "for v in result:\n",
    "    print(*v)    "
   ]
  },
  {
   "cell_type": "markdown",
   "metadata": {},
   "source": [
    "### 쓰레기 수거 1680"
   ]
  },
  {
   "cell_type": "code",
   "execution_count": 2,
   "metadata": {},
   "outputs": [
    {
     "name": "stdout",
     "output_type": "stream",
     "text": [
      "6 3\n",
      "1 1\n",
      "2 2\n",
      "3 3\n",
      "6\n"
     ]
    }
   ],
   "source": [
    "from collections import deque\n",
    "\n",
    "for _ in range(int(input())):\n",
    "    W, n = map(int, input().split())\n",
    "    li = [list(map(int, input().split())) for _ in range(n)]\n",
    "\n",
    "    queue = deque(li)\n",
    "    distance = 0\n",
    "    while queue:\n",
    "        current = 0\n",
    "        while queue:\n",
    "            x, w = queue.popleft()\n",
    "\n",
    "            if w + current == W:\n",
    "                distance += x * 2\n",
    "                break\n",
    "            elif w + current < W:\n",
    "                if not queue:\n",
    "                    distance += x * 2\n",
    "                current += w\n",
    "            else:\n",
    "                distance += x * 2\n",
    "                queue.appendleft((x, w))\n",
    "                break\n",
    "\n",
    "    print(distance)"
   ]
  },
  {
   "cell_type": "markdown",
   "metadata": {},
   "source": [
    "### 판화 1730"
   ]
  },
  {
   "cell_type": "code",
   "execution_count": 7,
   "metadata": {},
   "outputs": [
    {
     "name": "stdout",
     "output_type": "stream",
     "text": [
      "5\n",
      "RRDDLLUURRDDLLUUR\n",
      "+-+..\n",
      "|.|..\n",
      "+-+..\n",
      ".....\n",
      ".....\n"
     ]
    }
   ],
   "source": [
    "n = int(input())\n",
    "li = input()\n",
    "\n",
    "move = 'UDLR'\n",
    "dx = [-1, 1, 0, 0]\n",
    "dy = [0, 0, -1, 1]\n",
    "\n",
    "x, y, = 0, 0\n",
    "visited = [[set() for _ in range(n)] for _ in range(n)]\n",
    "\n",
    "for value in li:\n",
    "    nx = x + dx[move.index(value)]\n",
    "    ny = y + dy[move.index(value)]\n",
    "    \n",
    "    if nx < 0 or nx >= n or ny < 0 or ny >= n:\n",
    "        continue\n",
    "        \n",
    "    visited[x][y].add(value)\n",
    "    visited[nx][ny].add(value)\n",
    "    x, y = nx, ny\n",
    "    \n",
    "def convert(st):\n",
    "    is_row = False\n",
    "    if 'R' in st or 'L' in st:\n",
    "        is_row = True\n",
    "    is_col = False\n",
    "    if 'U' in st or 'D' in st:\n",
    "        is_col = True\n",
    "    \n",
    "    if is_row and is_col:\n",
    "        return '+'\n",
    "    elif is_row:\n",
    "        return '-'\n",
    "    elif is_col:\n",
    "        return '|'\n",
    "    else:\n",
    "        return '.'\n",
    "    \n",
    "for i in range(n):\n",
    "    for j in range(n):\n",
    "        visited[i][j] = convert(visited[i][j])\n",
    "    visited[i] = ''.join(visited[i])\n",
    "    \n",
    "print('\\n'.join(visited))"
   ]
  },
  {
   "cell_type": "code",
   "execution_count": 11,
   "metadata": {},
   "outputs": [
    {
     "name": "stdout",
     "output_type": "stream",
     "text": [
      "1234567\n",
      "3\n",
      "NO\n"
     ]
    }
   ],
   "source": [
    "def get_new_s(s):\n",
    "    temp = 0\n",
    "    for value in s:\n",
    "        temp += int(value)\n",
    "    return str(temp)\n",
    "\n",
    "s = input()\n",
    "count = 0\n",
    "while len(s) > 1:\n",
    "    count += 1\n",
    "    s = get_new_s(s)\n",
    "    \n",
    "print(count)\n",
    "    \n",
    "n = int(s)\n",
    "if n % 3 == 0:\n",
    "    print('YES')\n",
    "else:\n",
    "    print('NO')"
   ]
  },
  {
   "cell_type": "markdown",
   "metadata": {},
   "source": [
    "### 차집합 1822"
   ]
  },
  {
   "cell_type": "code",
   "execution_count": 13,
   "metadata": {},
   "outputs": [
    {
     "name": "stdout",
     "output_type": "stream",
     "text": [
      "4 3\n",
      "2 5 11 7\n",
      "9 7 4\n",
      "3\n",
      "2 5 11\n"
     ]
    }
   ],
   "source": [
    "na, nb = map(int, input().split())\n",
    "a = set(map(int, input().split()))\n",
    "b = set(map(int, input().split()))\n",
    "\n",
    "diff = a - b\n",
    "if len(diff) == 0:\n",
    "    print(0)\n",
    "else:\n",
    "    print(len(diff))\n",
    "    print(*sorted(diff))"
   ]
  },
  {
   "cell_type": "markdown",
   "metadata": {},
   "source": [
    "### 카드 1835"
   ]
  },
  {
   "cell_type": "code",
   "execution_count": 21,
   "metadata": {},
   "outputs": [
    {
     "name": "stdout",
     "output_type": "stream",
     "text": [
      "1\n",
      "1\n"
     ]
    }
   ],
   "source": [
    "from collections import deque\n",
    "\n",
    "n = int(input())\n",
    "result = [-1] * n\n",
    "indices = deque(range(n))\n",
    "\n",
    "count = 1\n",
    "while indices:\n",
    "    indices.rotate(-count)\n",
    "    result[indices.popleft()] = count\n",
    "    count += 1\n",
    "    \n",
    "print(*result)"
   ]
  },
  {
   "cell_type": "markdown",
   "metadata": {},
   "source": [
    "### 암호 1855"
   ]
  },
  {
   "cell_type": "code",
   "execution_count": 26,
   "metadata": {},
   "outputs": [
    {
     "name": "stdout",
     "output_type": "stream",
     "text": [
      "3\n",
      "aeijfbcgklhd\n"
     ]
    }
   ],
   "source": [
    "c = int(input())\n",
    "s = input()\n",
    "r = len(s) // c"
   ]
  },
  {
   "cell_type": "code",
   "execution_count": 32,
   "metadata": {},
   "outputs": [
    {
     "name": "stdout",
     "output_type": "stream",
     "text": [
      "3\n",
      "aeijfbcgklhd\n",
      "abcdefghijkl\n"
     ]
    }
   ],
   "source": [
    "c = int(input())\n",
    "s = input()\n",
    "r = len(s) // c\n",
    "\n",
    "li = [[''] * c for _ in range(r)]\n",
    "\n",
    "it = iter(s)\n",
    "for i in range(r):\n",
    "    if i % 2 == 0:\n",
    "        ran = (c,)\n",
    "    else:\n",
    "        ran = c - 1, -1, -1\n",
    "\n",
    "    for j in range(*ran):\n",
    "        li[i][j] = next(it)\n",
    "        \n",
    "result = []\n",
    "for j in range(c):\n",
    "    for i in range(r):\n",
    "        result.append(li[i][j])\n",
    "        \n",
    "print(''.join(result))"
   ]
  },
  {
   "cell_type": "markdown",
   "metadata": {},
   "source": [
    "### 필터 1895"
   ]
  },
  {
   "cell_type": "code",
   "execution_count": null,
   "metadata": {},
   "outputs": [],
   "source": [
    "r, c = map(int, input().split())\n",
    "li = [list(map(int, input().split())) for _ in range(r)]\n",
    "t = int(input())\n",
    "\n",
    "count = 0\n",
    "for i in range(2, r):\n",
    "    for j in range(2, c):\n",
    "        temp = []\n",
    "        for x in range(3):\n",
    "            for y in range(3):\n",
    "                temp.append(li[i - x][j - y])\n",
    "        temp.sort()\n",
    "        if temp[4] >= t:\n",
    "            count += 1\n",
    "            \n",
    "print(count)"
   ]
  },
  {
   "cell_type": "markdown",
   "metadata": {},
   "source": [
    "### 탄소 화합물 1907"
   ]
  },
  {
   "cell_type": "code",
   "execution_count": 45,
   "metadata": {},
   "outputs": [
    {
     "name": "stdout",
     "output_type": "stream",
     "text": [
      "HO3H2+O=H2O2O2\n",
      "2 6 3\n"
     ]
    }
   ],
   "source": [
    "def add_count(value, d):\n",
    "    temp = ''\n",
    "    for v in value:\n",
    "        if not temp:\n",
    "            temp = v\n",
    "        else:\n",
    "            if not v.isalpha():\n",
    "                d[temp] += int(v)\n",
    "                temp = ''\n",
    "            else:\n",
    "                d[temp] += 1\n",
    "                temp = v\n",
    "    if temp:\n",
    "        d[temp] += 1\n",
    "\n",
    "def get_new_d(d, m):\n",
    "    nd = {}\n",
    "    for k, v in d.items():\n",
    "        nd[k] = v * m\n",
    "    return nd\n",
    "\n",
    "def check(nad, nbd, ncd):\n",
    "    for k in nad.keys():\n",
    "        if nad[k] + nbd[k] != ncd[k]:\n",
    "            return False\n",
    "    return True\n",
    "    \n",
    "def solve():\n",
    "    for m1 in range(1, 11):\n",
    "        for m2 in range(1, 11):\n",
    "            for m3 in range(1, 11):\n",
    "                nad = get_new_d(ad, m1)\n",
    "                nbd = get_new_d(bd, m2)\n",
    "                ncd = get_new_d(cd, m3)\n",
    "                    \n",
    "                if check(nad, nbd, ncd):\n",
    "                    print(m1, m2, m3)\n",
    "                    return\n",
    "\n",
    "s = input()\n",
    "\n",
    "a_and_b, c = s.split('=')\n",
    "a, b = a_and_b.split('+')\n",
    "            \n",
    "ad = {'H': 0, 'O': 0, 'C': 0}\n",
    "bd = {'H': 0, 'O': 0, 'C': 0}\n",
    "cd = {'H': 0, 'O': 0, 'C': 0}\n",
    "    \n",
    "add_count(a, ad)\n",
    "add_count(b, bd)\n",
    "add_count(c, cd)\n",
    "\n",
    "solve()"
   ]
  },
  {
   "cell_type": "markdown",
   "metadata": {},
   "source": [
    "### 2007년 1924"
   ]
  },
  {
   "cell_type": "code",
   "execution_count": 65,
   "metadata": {},
   "outputs": [
    {
     "name": "stdout",
     "output_type": "stream",
     "text": [
      "12 25\n",
      "TUE\n"
     ]
    }
   ],
   "source": [
    "from datetime import datetime\n",
    "\n",
    "a, b = map(int, input().split())\n",
    "to_find = f'2007 {a} {b}'\n",
    "d = datetime.strptime(to_find, '%Y %m %d')\n",
    "\n",
    "days = ['MON', 'TUE', 'WED', 'THU', 'FRI', 'SAT', 'SUN']\n",
    "print(days[d.weekday()])"
   ]
  },
  {
   "cell_type": "markdown",
   "metadata": {},
   "source": [
    "### 주몽 1940"
   ]
  },
  {
   "cell_type": "code",
   "execution_count": 71,
   "metadata": {},
   "outputs": [
    {
     "name": "stdout",
     "output_type": "stream",
     "text": [
      "2\n",
      "2\n",
      "1 1\n",
      "1\n"
     ]
    }
   ],
   "source": [
    "n = int(input())\n",
    "m = int(input())\n",
    "li = sorted(map(int, input().split()))\n",
    "\n",
    "start = 0\n",
    "end = n - 1\n",
    "count = 0\n",
    "while start < end:\n",
    "    value = li[start] + li[end]\n",
    "    if value < m:\n",
    "        start += 1\n",
    "    elif value > m:\n",
    "        end -= 1\n",
    "    else:\n",
    "        count += 1\n",
    "        start += 1\n",
    "        end -= 1\n",
    "        \n",
    "print(count)"
   ]
  },
  {
   "cell_type": "markdown",
   "metadata": {},
   "source": [
    "### 햄버거 사랑 1980"
   ]
  },
  {
   "cell_type": "code",
   "execution_count": 84,
   "metadata": {},
   "outputs": [
    {
     "name": "stdout",
     "output_type": "stream",
     "text": [
      "7 11 13\n",
      "1 2\n"
     ]
    }
   ],
   "source": [
    "n, m, t = map(int, input().split())\n",
    "\n",
    "cola = float('inf')\n",
    "ham = 0\n",
    "for i in range(10001):\n",
    "    for j in range(10001):\n",
    "        value = n * i + m * j\n",
    "        \n",
    "        if value > t:\n",
    "            break\n",
    "        ncola = t - value\n",
    "        if ncola > cola:\n",
    "            continue\n",
    "        if ncola < cola:\n",
    "            cola = ncola\n",
    "            ham = i + j\n",
    "        if ham < i + j:\n",
    "            ham = i + j\n",
    "            \n",
    "print(ham, cola)"
   ]
  },
  {
   "cell_type": "markdown",
   "metadata": {},
   "source": [
    "### 디지털 친구 1985"
   ]
  },
  {
   "cell_type": "code",
   "execution_count": null,
   "metadata": {},
   "outputs": [],
   "source": [
    "x, y = input()\n",
    "\n",
    "sx = set(x)\n",
    "sy = set(y)\n",
    "\n",
    "if sx == sy:\n",
    "    print('friends')\n",
    "elif len(sx - sy) >= 1 and len(sy - sx) >= 1:\n",
    "    print('nothing')\n",
    "        print('')\n",
    "    \n",
    "    for i in range(len(x)):\n",
    "        if x[i] not in sy"
   ]
  },
  {
   "cell_type": "markdown",
   "metadata": {},
   "source": [
    "### 지뢰 찾기 1996"
   ]
  },
  {
   "cell_type": "code",
   "execution_count": 90,
   "metadata": {},
   "outputs": [
    {
     "name": "stdout",
     "output_type": "stream",
     "text": [
      "*4330\n",
      "14*30\n",
      "47730\n",
      "4*M99\n",
      "44M*9\n"
     ]
    }
   ],
   "source": [
    "n = int(input())\n",
    "li = [input() for _ in range(n)]\n",
    "\n",
    "dx = [-1, -1, -1, 0, 0, 1, 1, 1]\n",
    "dy = [-1, 0, 1, -1, 1, -1, 0, 1]\n",
    "\n",
    "result = [[0] * n for _ in range(n)]\n",
    "for x in range(n):\n",
    "    for y in range(n):\n",
    "        if li[x][y] != '.':\n",
    "            result[x][y] = '*'\n",
    "            continue\n",
    "        \n",
    "        for k in range(8):\n",
    "            nx = x + dx[k]\n",
    "            ny = y + dy[k]\n",
    "            \n",
    "            if nx < 0 or nx >= n or ny < 0 or ny >= n:\n",
    "                continue\n",
    "            if li[nx][ny] != '.':\n",
    "                result[x][y] += int(li[nx][ny])\n",
    "                \n",
    "        if result[x][y] >= 10:\n",
    "            result[x][y] = 'M'\n",
    "        else:\n",
    "            result[x][y] = str(result[x][y])\n",
    "    result[x] = ''.join(result[x])\n",
    "                \n",
    "print('\\n'.join(result))"
   ]
  }
 ],
 "metadata": {
  "kernelspec": {
   "display_name": "Python 3",
   "language": "python",
   "name": "python3"
  },
  "language_info": {
   "codemirror_mode": {
    "name": "ipython",
    "version": 3
   },
   "file_extension": ".py",
   "mimetype": "text/x-python",
   "name": "python",
   "nbconvert_exporter": "python",
   "pygments_lexer": "ipython3",
   "version": "3.8.3"
  }
 },
 "nbformat": 4,
 "nbformat_minor": 4
}
