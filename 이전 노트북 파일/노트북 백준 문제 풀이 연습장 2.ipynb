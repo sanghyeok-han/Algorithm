{
 "cells": [
  {
   "cell_type": "markdown",
   "metadata": {},
   "source": [
    "### 트리와 쿼리 15681"
   ]
  },
  {
   "cell_type": "code",
   "execution_count": 2,
   "metadata": {},
   "outputs": [
    {
     "name": "stdout",
     "output_type": "stream",
     "text": [
      "9 5 3\n",
      "1 3\n",
      "4 3\n",
      "5 4\n",
      "5 6\n",
      "6 7\n",
      "2 3\n",
      "9 6\n",
      "6 8\n",
      "5\n",
      "9\n",
      "4\n",
      "4\n",
      "8\n",
      "1\n"
     ]
    }
   ],
   "source": [
    "from collections import deque\n",
    "import sys\n",
    "sys.setrecursionlimit(1000000)\n",
    "input = sys.stdin.readline\n",
    "\n",
    "class Node:\n",
    "    def __init__(self):\n",
    "        self.sub_count = 0\n",
    "        self.children = []\n",
    "\n",
    "n, root, q = map(int, input().rstrip().split())\n",
    "root -= 1\n",
    "li = [[] for _ in range(n)]\n",
    "for _ in range(n - 1):\n",
    "    a, b = map(int, input().rstrip().split())\n",
    "    a -= 1\n",
    "    b -= 1\n",
    "    li[a].append(b)\n",
    "    li[b].append(a)\n",
    "    \n",
    "tree = {i: Node() for i in range(n)}\n",
    "    \n",
    "queue = deque()\n",
    "queue.append(root)\n",
    "\n",
    "visited = [False] * n\n",
    "visited[root] = True\n",
    "while queue:\n",
    "    value = queue.popleft()\n",
    "    \n",
    "    for v in li[value]:\n",
    "        if visited[v]:\n",
    "            continue\n",
    "        visited[v] = True\n",
    "        tree[value].children.append(v)\n",
    "        queue.append(v)\n",
    "    \n",
    "def get_sub_count(num):\n",
    "    node = tree[num]\n",
    "    if not node.children:\n",
    "        node.sub_count = 1\n",
    "        return node.sub_count\n",
    "    total = 1\n",
    "    for c in node.children:\n",
    "        total += get_sub_count(c)\n",
    "    node.sub_count = total\n",
    "    return node.sub_count\n",
    "\n",
    "get_sub_count(root)\n",
    "\n",
    "for _ in range(q):\n",
    "    num = int(input().rstrip())\n",
    "    num -= 1\n",
    "    print(tree[num].sub_count)"
   ]
  },
  {
   "cell_type": "markdown",
   "metadata": {},
   "source": [
    "### 사회망 서비스(SNS) 2533"
   ]
  },
  {
   "cell_type": "code",
   "execution_count": 56,
   "metadata": {},
   "outputs": [],
   "source": [
    "del input"
   ]
  },
  {
   "cell_type": "code",
   "execution_count": 11,
   "metadata": {},
   "outputs": [
    {
     "name": "stdout",
     "output_type": "stream",
     "text": [
      "8\n",
      "1 2\n",
      "1 3\n",
      "1 4\n",
      "2 5\n",
      "2 6\n",
      "4 7\n",
      "4 8\n",
      "3\n"
     ]
    }
   ],
   "source": [
    "import sys\n",
    "from collections import deque\n",
    "sys.setrecursionlimit(1100000)\n",
    "# input = sys.stdin.readline\n",
    "\n",
    "class Node():\n",
    "    def __init__(self):\n",
    "        self.children = []\n",
    "        \n",
    "n = int(input())\n",
    "tree = {i: Node() for i in range(n)}\n",
    "root = 0\n",
    "\n",
    "li = [[] for _ in range(n)]\n",
    "for _ in range(n - 1):\n",
    "    a, b = map(int, input().split())\n",
    "    a -= 1\n",
    "    b -= 1\n",
    "    li[a].append(b)\n",
    "    li[b].append(a)\n",
    "\n",
    "queue = deque()\n",
    "queue.append(root)\n",
    "\n",
    "visited = [False] * n\n",
    "visited[root] = True\n",
    "while queue:\n",
    "    value = queue.popleft()\n",
    "    \n",
    "    for v in li[value]:\n",
    "        if visited[v]:\n",
    "            continue\n",
    "        visited[v] = True\n",
    "        queue.append(v)\n",
    "        tree[value].children.append(v)\n",
    "        tree[v].parent = value\n",
    "        \n",
    "del visited\n",
    "del li\n",
    "        \n",
    "def calcul_dp(num):\n",
    "    node = tree[num]\n",
    "    if not node.children:\n",
    "        return [1, 0] # early adapter, not\n",
    "    else:\n",
    "        ne, nn = 0, 0 # early adapter, not\n",
    "        for c in node.children:\n",
    "            e, n = calcul_dp(c)\n",
    "            ne += min(e, n)\n",
    "            nn += e         \n",
    "        return (ne + 1, nn)\n",
    "    \n",
    "print(min(calcul_dp(0)))"
   ]
  },
  {
   "cell_type": "code",
   "execution_count": 8,
   "metadata": {},
   "outputs": [
    {
     "data": {
      "text/plain": [
       "[4, 4]"
      ]
     },
     "execution_count": 8,
     "metadata": {},
     "output_type": "execute_result"
    }
   ],
   "source": [
    "calcul_dp(0)"
   ]
  },
  {
   "cell_type": "code",
   "execution_count": null,
   "metadata": {},
   "outputs": [],
   "source": []
  },
  {
   "cell_type": "code",
   "execution_count": 73,
   "metadata": {},
   "outputs": [
    {
     "name": "stdout",
     "output_type": "stream",
     "text": [
      "None\n",
      "0\n",
      "0\n",
      "0\n",
      "1\n",
      "2\n",
      "3\n",
      "5\n",
      "6\n"
     ]
    }
   ],
   "source": [
    "for v in range(n):\n",
    "    print(tree[v].parent)"
   ]
  },
  {
   "cell_type": "markdown",
   "metadata": {},
   "source": [
    "### 인하니카 공화국 12784"
   ]
  },
  {
   "cell_type": "code",
   "execution_count": 54,
   "metadata": {},
   "outputs": [
    {
     "name": "stdout",
     "output_type": "stream",
     "text": [
      "7 6\n",
      "1 2 1\n",
      "2 3 4\n",
      "2 4 1\n",
      "5 1 4\n",
      "6 5 1\n",
      "7 5 2\n",
      "4\n"
     ]
    }
   ],
   "source": [
    "import sys\n",
    "from collections import deque\n",
    "# input = sys.stdin.readline\n",
    "sys.setrecursionlimit(500001)\n",
    "\n",
    "class Node():\n",
    "    def __init__(self):\n",
    "        self.value = None\n",
    "        self.children = []\n",
    "        \n",
    "def get_min_result(num):\n",
    "        node = tree[num]\n",
    "\n",
    "        if node.value is None:\n",
    "            if not node.children:\n",
    "                return 0\n",
    "            else:\n",
    "                total = 0\n",
    "                for c in node.children:\n",
    "                    total += get_min_result(c)\n",
    "                return total\n",
    "        else:\n",
    "            if not node.children:\n",
    "                return node.value\n",
    "            else:\n",
    "                total = 0\n",
    "                for c in node.children:\n",
    "                    total += get_min_result(c)\n",
    "                return min(node.value, total)\n",
    "\n",
    "for _ in range(int(input())):\n",
    "    n, m = map(int, input().rstrip().split())\n",
    "    li = [[] for _ in range(n)]\n",
    "    for _ in range(m):\n",
    "        a, b, c = map(int, input().rstrip().split())\n",
    "        a -= 1\n",
    "        b -= 1\n",
    "\n",
    "        li[a].append((b, c))\n",
    "        li[b].append((a, c))\n",
    "        \n",
    "    tree = {i: Node() for i in range(n)}\n",
    "    queue = deque()\n",
    "    queue.append(0)\n",
    "    visited = [False] * n\n",
    "    visited[0] = True\n",
    "    while queue:\n",
    "        value = queue.popleft()\n",
    "\n",
    "        for v, c in li[value]:\n",
    "            if visited[v]:\n",
    "                continue    \n",
    "            visited[v] = True\n",
    "            queue.append(v)\n",
    "            tree[v].value = c\n",
    "            tree[value].children.append(v)\n",
    "\n",
    "    del visited\n",
    "    del li\n",
    "\n",
    "    print(get_min_result(0))"
   ]
  },
  {
   "cell_type": "markdown",
   "metadata": {},
   "source": [
    "### 불 끄기 14939"
   ]
  },
  {
   "cell_type": "code",
   "execution_count": null,
   "metadata": {},
   "outputs": [],
   "source": [
    "# 일단 포기\n",
    "li = []\n",
    "for _ in range(10):\n",
    "    value = input()\n",
    "    new_value = []\n",
    "    for v in value:\n",
    "        if v == '#':\n",
    "            new_value.append(0)\n",
    "        else:\n",
    "            new_value.append(1)\n",
    "    li.appned(new_value)"
   ]
  },
  {
   "cell_type": "markdown",
   "metadata": {},
   "source": [
    "### 풍선 4716"
   ]
  },
  {
   "cell_type": "code",
   "execution_count": 52,
   "metadata": {},
   "outputs": [
    {
     "name": "stdout",
     "output_type": "stream",
     "text": [
      "3 15 35\n",
      "10 20 10\n",
      "10 10 30\n",
      "10 40 10\n",
      "300\n",
      "0 0 0\n"
     ]
    }
   ],
   "source": [
    "import sys\n",
    "# input = sys.stdin.readline\n",
    "\n",
    "def solve(li, A, B):\n",
    "    total = 0\n",
    "    for i, (diff, da, db, amount) in enumerate(li):\n",
    "        if diff > 0:\n",
    "            break\n",
    "        if amount <= A:\n",
    "            total += amount * da\n",
    "            A -= amount\n",
    "        else:\n",
    "            total += A * da\n",
    "            li[i][3] = amount - A\n",
    "            A = 0\n",
    "            break\n",
    "    else:\n",
    "        return total\n",
    "        \n",
    "    li = li[i:]\n",
    "    li.reverse()\n",
    "    for i, (diff, da, db, amount) in enumerate(li):\n",
    "        if amount <= B:\n",
    "            total += amount * db\n",
    "            B -= amount\n",
    "        else:\n",
    "            total += B * db       \n",
    "            li[i][3] = amount - B\n",
    "            B = 0\n",
    "            break\n",
    "    else:\n",
    "        return total\n",
    " \n",
    "    li = li[i:]\n",
    "    for diff, da, db, amount in li:\n",
    "        total += da * amount\n",
    "        \n",
    "    return total\n",
    "\n",
    "while True:\n",
    "    n, A, B = map(int, input().rstrip().split())\n",
    "    if n == A == B == 0:\n",
    "        break\n",
    "    \n",
    "    li = []\n",
    "    for _ in range(n):\n",
    "        amount, da, db = map(int, input().rstrip().split())\n",
    "        li.append([da - db, da, db, amount])\n",
    "    li.sort()\n",
    "\n",
    "    print(solve(li, A, B))"
   ]
  },
  {
   "cell_type": "markdown",
   "metadata": {},
   "source": [
    "### 문자열 판별 16500"
   ]
  },
  {
   "cell_type": "code",
   "execution_count": 57,
   "metadata": {},
   "outputs": [
    {
     "name": "stdout",
     "output_type": "stream",
     "text": [
      "ssss\n",
      "3\n",
      "s\n",
      "e\n",
      "f\n",
      "1\n"
     ]
    }
   ],
   "source": [
    "target = input()\n",
    "target_len = len(target)\n",
    "\n",
    "n = int(input())\n",
    "li = [input() for _ in range(n)]\n",
    "\n",
    "dp = [0] * (target_len + 1)\n",
    "dp[0] = 1\n",
    "\n",
    "for i in range(target_len):\n",
    "    if dp[i] == 1:\n",
    "        for s in li:\n",
    "            s_len = len(s)\n",
    "            if i + s_len > target_len:\n",
    "                continue\n",
    "            if target[i:i + s_len] == s:\n",
    "                dp[i + s_len] = 1\n",
    "                \n",
    "print(dp[-1])"
   ]
  },
  {
   "cell_type": "markdown",
   "metadata": {},
   "source": [
    "### 1, 2, 3 더하기 7 15992"
   ]
  },
  {
   "cell_type": "code",
   "execution_count": 78,
   "metadata": {},
   "outputs": [
    {
     "name": "stdout",
     "output_type": "stream",
     "text": [
      "3\n",
      "4 2\n",
      "3\n",
      "7 5\n",
      "15\n",
      "10 6\n",
      "90\n"
     ]
    }
   ],
   "source": [
    "# 시간 초과\n",
    "import sys\n",
    "# input = sys.stdin.readline\n",
    "\n",
    "def recur(n, m):\n",
    "    if dp[n][m] >= 0:\n",
    "        return dp[n][m]\n",
    "    else:\n",
    "        total = 0\n",
    "        if m - 1 >= 1:\n",
    "            for i in range(1, 4):\n",
    "                if n - i >= 1:\n",
    "                    total += recur(n - i, m - 1)\n",
    "        dp[n][m] = total % 1000000009\n",
    "        return dp[n][m]\n",
    "\n",
    "for _ in range(int(input().rstrip())):\n",
    "    n, m = map(int, input().rstrip().split())\n",
    "    dp = [[-1] * (m + 1) for _ in range(n + 1)] # dp[n][m]\n",
    "    dp[1][1] = dp[2][1] = dp[3][1] = 1\n",
    " \n",
    "    print(recur(n, m))"
   ]
  },
  {
   "cell_type": "code",
   "execution_count": 89,
   "metadata": {},
   "outputs": [
    {
     "name": "stdout",
     "output_type": "stream",
     "text": [
      "3\n",
      "4 2\n",
      "3\n",
      "7 5\n",
      "15\n",
      "10 6\n",
      "90\n"
     ]
    }
   ],
   "source": [
    "# 맞았음\n",
    "import sys\n",
    "# input = sys.stdin.readline\n",
    "\n",
    "def recur(n, m):\n",
    "    if dp[n][m] >= 0:\n",
    "        return dp[n][m]\n",
    "    else:\n",
    "        total = 0\n",
    "        if m - 1 >= 1:\n",
    "            for i in range(1, 4):\n",
    "                if n - i >= 1:\n",
    "                    total += recur(n - i, m - 1) % 1000000009\n",
    "        dp[n][m] = total % 1000000009\n",
    "        return dp[n][m]\n",
    "\n",
    "dp = [[-1] * (1001) for _ in range(1001)] # dp[n][m]\n",
    "dp[1][1] = dp[2][1] = dp[3][1] = 1\n",
    "\n",
    "for _ in range(int(input().rstrip())):\n",
    "    n, m = map(int, input().rstrip().split())\n",
    "    print(recur(n, m))"
   ]
  },
  {
   "cell_type": "markdown",
   "metadata": {},
   "source": [
    "### 우체국 2141\n",
    "- 그리디"
   ]
  },
  {
   "cell_type": "code",
   "execution_count": 84,
   "metadata": {},
   "outputs": [
    {
     "name": "stdout",
     "output_type": "stream",
     "text": [
      "3\n",
      "1 3\n",
      "2 5\n",
      "3 3\n",
      "2\n"
     ]
    }
   ],
   "source": [
    "# 맞았음\n",
    "from collections import defaultdict\n",
    "import sys\n",
    "input = sys.stdin.readline\n",
    "\n",
    "n = int(input().rstrip())\n",
    "d = defaultdict(int)\n",
    "total_popul = 0\n",
    "for _ in range(n):\n",
    "    loca, popul = map(int, input().rstrip().split())\n",
    "    d[loca] += popul\n",
    "    total_popul += popul\n",
    "    \n",
    "criteria = (total_popul + 1) // 2    \n",
    "\n",
    "cumul = 0\n",
    "for loca, popul in sorted(d.items()):\n",
    "    cumul += popul\n",
    "    if cumul >= criteria:\n",
    "        print(loca)\n",
    "        break"
   ]
  },
  {
   "cell_type": "code",
   "execution_count": 86,
   "metadata": {},
   "outputs": [
    {
     "name": "stdout",
     "output_type": "stream",
     "text": [
      "3\n",
      "1 3\n",
      "2 5\n",
      "3 3\n",
      "2\n"
     ]
    }
   ],
   "source": [
    "# 맞았음\n",
    "import sys\n",
    "# input = sys.stdin.readline\n",
    "\n",
    "n = int(input().rstrip())\n",
    "li = []\n",
    "total_popul = 0\n",
    "for i in range(n):\n",
    "    li.append(list(map(int, input().rstrip().split())))\n",
    "    total_popul += li[-1][1]\n",
    "    \n",
    "criteria = (total_popul + 1) // 2    \n",
    "\n",
    "cumul = 0\n",
    "for loca, popul in sorted(li):\n",
    "    cumul += popul\n",
    "    if cumul >= criteria:\n",
    "        print(loca)\n",
    "        break"
   ]
  },
  {
   "cell_type": "markdown",
   "metadata": {},
   "source": [
    "### 1, 2, 3 더하기 8 15993\n",
    "- 다이나믹 프로그래밍"
   ]
  },
  {
   "cell_type": "code",
   "execution_count": 101,
   "metadata": {},
   "outputs": [
    {
     "name": "stdout",
     "output_type": "stream",
     "text": [
      "3\n",
      "4\n",
      "3 4\n",
      "7\n",
      "22 22\n",
      "10\n",
      "137 137\n"
     ]
    }
   ],
   "source": [
    "dp = [[0, 0] for _ in range(100001)]\n",
    "dp[1] = [1, 0]\n",
    "dp[2] = [1, 1]\n",
    "dp[3] = [2, 2]\n",
    "\n",
    "mod = 1000000009\n",
    "for i in range(4, 100001):\n",
    "    dp[i][0] = (dp[i - 3][1] + dp[i - 2][1] + dp[i - 1][1]) % mod\n",
    "    dp[i][1] = (dp[i - 3][0] + dp[i - 2][0] + dp[i - 1][0]) % mod\n",
    "\n",
    "for _ in range(int(input())):\n",
    "    n = int(input())\n",
    "    print(*dp[n])"
   ]
  },
  {
   "cell_type": "markdown",
   "metadata": {},
   "source": [
    "### 1, 2, 3 더하기 9 16195"
   ]
  },
  {
   "cell_type": "code",
   "execution_count": 5,
   "metadata": {},
   "outputs": [
    {
     "name": "stdout",
     "output_type": "stream",
     "text": [
      "1\n",
      "4 1\n",
      "0\n"
     ]
    }
   ],
   "source": [
    "def recur(n, m):\n",
    "    if dp[n][m] >= 0:\n",
    "        return dp[n][m]\n",
    "    else:\n",
    "        total = 0\n",
    "        if m - 1 >= 1:\n",
    "            for i in range(1, 4):\n",
    "                if n - i >= 1:\n",
    "                    total += recur(n - i, m - 1) % mod\n",
    "        dp[n][m] = total % mod\n",
    "        return dp[n][m]\n",
    "\n",
    "dp = [[-1] * (1001) for _ in range(1001)] # dp[n][m]\n",
    "dp[1][1] = dp[2][1] = dp[3][1] = 1\n",
    "mod = 1000000009\n",
    "\n",
    "for _ in range(int(input().rstrip())):\n",
    "    n, m = map(int, input().rstrip().split())\n",
    "    \n",
    "    result = 0\n",
    "    for i in range(1, m + 1):\n",
    "        result += recur(n, i) % mod\n",
    "        \n",
    "    print(result % mod)"
   ]
  },
  {
   "cell_type": "markdown",
   "metadata": {},
   "source": [
    "### 음식 평론가 1188"
   ]
  },
  {
   "cell_type": "code",
   "execution_count": 29,
   "metadata": {},
   "outputs": [
    {
     "name": "stdout",
     "output_type": "stream",
     "text": [
      "1 1\n",
      "0\n"
     ]
    }
   ],
   "source": [
    "n, m = map(int, input().split())\n",
    "\n",
    "count = 0\n",
    "while n != m and m > 1:\n",
    "    if n > m:\n",
    "        n -= m\n",
    "    else:\n",
    "        count += n\n",
    "        m -= n\n",
    "    \n",
    "print(count)"
   ]
  },
  {
   "cell_type": "code",
   "execution_count": null,
   "metadata": {},
   "outputs": [],
   "source": [
    "from collections import deque\n",
    "\n",
    "n, l, r = map(int, input().split())\n",
    "land = []\n",
    "people = []\n",
    "for i in range(n):\n",
    "    a = list(map(int, input().split()))\n",
    "    land.append(a)\n",
    "    \n",
    "\n",
    "dx = [-1, 1, 0, 0]\n",
    "dy = [0, 0, -1, 1]\n",
    "\n",
    "movement = 0\n",
    "total_movement = 0\n",
    "while movement < n*n:\n",
    "     \n",
    "    visited = [[False] * n for i in range(n)]\n",
    "    \n",
    "    for i in range(n):\n",
    "        for j in range(n):\n",
    "            if visited[i][j] != False:\n",
    "                continue\n",
    "                \n",
    "            team = []\n",
    "            queue = deque([(i, j)])\n",
    "            team.append((i, j))\n",
    "            \n",
    "            total_pop = land[i][j]\n",
    "            count = 1\n",
    "    \n",
    "\n",
    "            while queue:\n",
    "                x, y = queue.popleft()\n",
    "                \n",
    "                visited[x][y] == True\n",
    "    \n",
    "                for k in range(4):\n",
    "                       \n",
    "        \n",
    "                    nx = x + dx[k]\n",
    "                    ny = y + dy[k]\n",
    "        \n",
    "                    if nx < 0 or nx >= n or ny < 0 or ny >= n:\n",
    "                        continue\n",
    "                    \n",
    "                    if visited[nx][ny] == False:\n",
    "                        if l <= abs(land[x][y] - land[nx][ny]) <= r:\n",
    "                            queue.append((nx, ny))\n",
    "                            team.append((nx, ny))\n",
    "                            total_pop += land[nx][ny]\n",
    "                            count += 1\n",
    "                            \n",
    "                            visited[nx][ny] = True\n",
    "                            \n",
    "            for p, q in team:\n",
    "                land[p][q] = total_pop // count\n",
    "            \n",
    "            \n",
    "            movement += 1\n",
    "            \n",
    "    \n",
    "        \n",
    "    total_movement += 1\n",
    "    \n",
    "    \n",
    "\n",
    "    \n",
    "print(total_movement)"
   ]
  },
  {
   "cell_type": "code",
   "execution_count": null,
   "metadata": {},
   "outputs": [],
   "source": [
    "from collections import deque\n",
    "from itertools import product\n",
    "from copy import deepcopy\n",
    "import sys\n",
    "# input = sys.stdin.readline\n",
    "\n",
    "n, l, r = map(int, input().rstrip().split())\n",
    "li = [list(map(int, input().rstrip().split())) for _ in range(n)]\n",
    "\n",
    "dx = [-1, 1, 0, 0]\n",
    "dy = [0, 0, -1, 1]\n",
    "\n",
    "to_search = product(range(n), range(n))\n",
    "count = 0\n",
    "while True:\n",
    "    is_moved = False\n",
    "    visited = [[False] * n for _ in range(n)]\n",
    "    new_to_search = []\n",
    "    for i, j in to_search:\n",
    "        if visited[i][j]:\n",
    "            continue\n",
    "        visited[i][j] = True    \n",
    "        team = [(i, j)]\n",
    "        popul = li[i][j]\n",
    "\n",
    "        queue = deque()\n",
    "        queue.append((i, j))\n",
    "        while queue:\n",
    "            x, y = queue.popleft()\n",
    "            for k in range(4):\n",
    "                nx = x + dx[k]\n",
    "                ny = y + dy[k]\n",
    "\n",
    "                if nx < 0 or nx >= n or ny < 0 or ny >= n:\n",
    "                    continue    \n",
    "                if l <= abs(li[nx][ny] - li[x][y]) <= r:\n",
    "                    if visited[nx][ny]:\n",
    "                        continue\n",
    "                    visited[nx][ny] = True\n",
    "                    queue.append((nx, ny))\n",
    "                    team.append((nx, ny))\n",
    "                    popul += li[nx][ny]\n",
    "        if len(team) >= 2:\n",
    "            is_moved = True\n",
    "            avg = popul // len(team)\n",
    "            for x, y in team:\n",
    "                li[x][y] = avg\n",
    "            new_to_search.extend(team)\n",
    "    if is_moved:\n",
    "        count += 1\n",
    "        to_search = deepcopy(new_to_search)\n",
    "    else:\n",
    "        break\n",
    "        \n",
    "print(count)"
   ]
  },
  {
   "cell_type": "code",
   "execution_count": 14,
   "metadata": {},
   "outputs": [
    {
     "data": {
      "text/plain": [
       "'0b10000'"
      ]
     },
     "execution_count": 14,
     "metadata": {},
     "output_type": "execute_result"
    }
   ],
   "source": [
    "bin(4 << 2)"
   ]
  },
  {
   "cell_type": "code",
   "execution_count": 15,
   "metadata": {},
   "outputs": [
    {
     "data": {
      "text/plain": [
       "'0b1000'"
      ]
     },
     "execution_count": 15,
     "metadata": {},
     "output_type": "execute_result"
    }
   ],
   "source": [
    "bin(4 << 1)"
   ]
  },
  {
   "cell_type": "code",
   "execution_count": 16,
   "metadata": {},
   "outputs": [
    {
     "data": {
      "text/plain": [
       "'0b100'"
      ]
     },
     "execution_count": 16,
     "metadata": {},
     "output_type": "execute_result"
    }
   ],
   "source": [
    "bin(4)"
   ]
  },
  {
   "cell_type": "code",
   "execution_count": 19,
   "metadata": {},
   "outputs": [
    {
     "data": {
      "text/plain": [
       "'0b1110'"
      ]
     },
     "execution_count": 19,
     "metadata": {},
     "output_type": "execute_result"
    }
   ],
   "source": [
    "bin(7 << 1)"
   ]
  },
  {
   "cell_type": "code",
   "execution_count": 22,
   "metadata": {},
   "outputs": [
    {
     "data": {
      "text/plain": [
       "14"
      ]
     },
     "execution_count": 22,
     "metadata": {},
     "output_type": "execute_result"
    }
   ],
   "source": [
    "7 << 1"
   ]
  },
  {
   "cell_type": "code",
   "execution_count": 23,
   "metadata": {},
   "outputs": [
    {
     "data": {
      "text/plain": [
       "7"
      ]
     },
     "execution_count": 23,
     "metadata": {},
     "output_type": "execute_result"
    }
   ],
   "source": [
    "14 >> 1"
   ]
  },
  {
   "cell_type": "code",
   "execution_count": 17,
   "metadata": {},
   "outputs": [
    {
     "data": {
      "text/plain": [
       "'0b111'"
      ]
     },
     "execution_count": 17,
     "metadata": {},
     "output_type": "execute_result"
    }
   ],
   "source": [
    "bin(7)"
   ]
  },
  {
   "cell_type": "code",
   "execution_count": 20,
   "metadata": {},
   "outputs": [
    {
     "data": {
      "text/plain": [
       "'0b11'"
      ]
     },
     "execution_count": 20,
     "metadata": {},
     "output_type": "execute_result"
    }
   ],
   "source": [
    "bin(7 >> 1)"
   ]
  },
  {
   "cell_type": "code",
   "execution_count": 39,
   "metadata": {},
   "outputs": [
    {
     "data": {
      "text/plain": [
       "b'\\x04\\x00\\x00\\x00\\x00'"
      ]
     },
     "execution_count": 39,
     "metadata": {},
     "output_type": "execute_result"
    }
   ],
   "source": [
    "(4).to_bytes(5, 'little')"
   ]
  },
  {
   "cell_type": "code",
   "execution_count": 40,
   "metadata": {},
   "outputs": [
    {
     "ename": "ValueError",
     "evalue": "invalid literal for int() with base 10: b'\\x04\\x00\\x00\\x00\\x00'",
     "output_type": "error",
     "traceback": [
      "\u001b[1;31m---------------------------------------------------------------------------\u001b[0m",
      "\u001b[1;31mValueError\u001b[0m                                Traceback (most recent call last)",
      "\u001b[1;32m<ipython-input-40-4de339e2041a>\u001b[0m in \u001b[0;36m<module>\u001b[1;34m\u001b[0m\n\u001b[1;32m----> 1\u001b[1;33m \u001b[0mint\u001b[0m\u001b[1;33m(\u001b[0m\u001b[1;33m(\u001b[0m\u001b[1;36m4\u001b[0m\u001b[1;33m)\u001b[0m\u001b[1;33m.\u001b[0m\u001b[0mto_bytes\u001b[0m\u001b[1;33m(\u001b[0m\u001b[1;36m5\u001b[0m\u001b[1;33m,\u001b[0m \u001b[1;34m'little'\u001b[0m\u001b[1;33m)\u001b[0m\u001b[1;33m)\u001b[0m\u001b[1;33m\u001b[0m\u001b[1;33m\u001b[0m\u001b[0m\n\u001b[0m",
      "\u001b[1;31mValueError\u001b[0m: invalid literal for int() with base 10: b'\\x04\\x00\\x00\\x00\\x00'"
     ]
    }
   ],
   "source": [
    "int((4).to_bytes(5, 'little'))"
   ]
  },
  {
   "cell_type": "code",
   "execution_count": 200,
   "metadata": {},
   "outputs": [
    {
     "data": {
      "text/plain": [
       "208"
      ]
     },
     "execution_count": 200,
     "metadata": {},
     "output_type": "execute_result"
    }
   ],
   "source": [
    "from ctypes import c_uint8 as unsigned_byte\n",
    "unsigned_byte(-30000).value\n"
   ]
  },
  {
   "cell_type": "code",
   "execution_count": 201,
   "metadata": {},
   "outputs": [
    {
     "ename": "SyntaxError",
     "evalue": "leading zeros in decimal integer literals are not permitted; use an 0o prefix for octal integers (<ipython-input-201-cb751cece972>, line 1)",
     "output_type": "error",
     "traceback": [
      "\u001b[1;36m  File \u001b[1;32m\"<ipython-input-201-cb751cece972>\"\u001b[1;36m, line \u001b[1;32m1\u001b[0m\n\u001b[1;33m    0b1111:04b\u001b[0m\n\u001b[1;37m            ^\u001b[0m\n\u001b[1;31mSyntaxError\u001b[0m\u001b[1;31m:\u001b[0m leading zeros in decimal integer literals are not permitted; use an 0o prefix for octal integers\n"
     ]
    }
   ],
   "source": [
    "f''0b1111:04b"
   ]
  },
  {
   "cell_type": "code",
   "execution_count": 203,
   "metadata": {},
   "outputs": [],
   "source": [
    "from struct import pack, unpack"
   ]
  },
  {
   "cell_type": "code",
   "execution_count": null,
   "metadata": {},
   "outputs": [],
   "source": [
    "n = int(input())\n",
    "arr = [0] * 21\n",
    "\n",
    "1 == '00000000000000000001'"
   ]
  },
  {
   "cell_type": "code",
   "execution_count": 210,
   "metadata": {},
   "outputs": [],
   "source": [
    "d = {i: 2** (i - 1) for i in range(1, 21)}"
   ]
  },
  {
   "cell_type": "code",
   "execution_count": 211,
   "metadata": {},
   "outputs": [
    {
     "data": {
      "text/plain": [
       "{1: 1,\n",
       " 2: 2,\n",
       " 3: 4,\n",
       " 4: 8,\n",
       " 5: 16,\n",
       " 6: 32,\n",
       " 7: 64,\n",
       " 8: 128,\n",
       " 9: 256,\n",
       " 10: 512,\n",
       " 11: 1024,\n",
       " 12: 2048,\n",
       " 13: 4096,\n",
       " 14: 8192,\n",
       " 15: 16384,\n",
       " 16: 32768,\n",
       " 17: 65536,\n",
       " 18: 131072,\n",
       " 19: 262144,\n",
       " 20: 524288}"
      ]
     },
     "execution_count": 211,
     "metadata": {},
     "output_type": "execute_result"
    }
   ],
   "source": [
    "d"
   ]
  },
  {
   "cell_type": "code",
   "execution_count": 223,
   "metadata": {},
   "outputs": [],
   "source": [
    "st = 0\n",
    "st |= d[1]"
   ]
  },
  {
   "cell_type": "code",
   "execution_count": 224,
   "metadata": {},
   "outputs": [],
   "source": [
    "st |= d[2]"
   ]
  },
  {
   "cell_type": "code",
   "execution_count": 225,
   "metadata": {},
   "outputs": [
    {
     "data": {
      "text/plain": [
       "3"
      ]
     },
     "execution_count": 225,
     "metadata": {},
     "output_type": "execute_result"
    }
   ],
   "source": [
    "st"
   ]
  },
  {
   "cell_type": "code",
   "execution_count": 222,
   "metadata": {},
   "outputs": [
    {
     "data": {
      "text/plain": [
       "'b'"
      ]
     },
     "execution_count": 222,
     "metadata": {},
     "output_type": "execute_result"
    }
   ],
   "source": [
    "bin(st)[-1]"
   ]
  },
  {
   "cell_type": "code",
   "execution_count": 240,
   "metadata": {},
   "outputs": [
    {
     "data": {
      "text/plain": [
       "'1'"
      ]
     },
     "execution_count": 240,
     "metadata": {},
     "output_type": "execute_result"
    }
   ],
   "source": [
    "bin(st)[-2]"
   ]
  },
  {
   "cell_type": "code",
   "execution_count": 243,
   "metadata": {},
   "outputs": [],
   "source": [
    "st = 3"
   ]
  },
  {
   "cell_type": "code",
   "execution_count": 250,
   "metadata": {},
   "outputs": [
    {
     "data": {
      "text/plain": [
       "'11'"
      ]
     },
     "execution_count": 250,
     "metadata": {},
     "output_type": "execute_result"
    }
   ],
   "source": [
    "bin(st)[-2:]"
   ]
  },
  {
   "cell_type": "code",
   "execution_count": 251,
   "metadata": {},
   "outputs": [
    {
     "data": {
      "text/plain": [
       "'0b11'"
      ]
     },
     "execution_count": 251,
     "metadata": {},
     "output_type": "execute_result"
    }
   ],
   "source": [
    "bin(st)"
   ]
  },
  {
   "cell_type": "code",
   "execution_count": 256,
   "metadata": {},
   "outputs": [
    {
     "data": {
      "text/plain": [
       "'1010'"
      ]
     },
     "execution_count": 256,
     "metadata": {},
     "output_type": "execute_result"
    }
   ],
   "source": [
    "b = bin(10)\n",
    "b[-(len(b) - 2):]"
   ]
  },
  {
   "cell_type": "code",
   "execution_count": 257,
   "metadata": {},
   "outputs": [
    {
     "data": {
      "text/plain": [
       "'0b1010'"
      ]
     },
     "execution_count": 257,
     "metadata": {},
     "output_type": "execute_result"
    }
   ],
   "source": [
    "if "
   ]
  },
  {
   "cell_type": "code",
   "execution_count": 245,
   "metadata": {},
   "outputs": [
    {
     "data": {
      "text/plain": [
       "1"
      ]
     },
     "execution_count": 245,
     "metadata": {},
     "output_type": "execute_result"
    }
   ],
   "source": [
    "st = 11111111111111111111"
   ]
  },
  {
   "cell_type": "code",
   "execution_count": 288,
   "metadata": {},
   "outputs": [
    {
     "name": "stdout",
     "output_type": "stream",
     "text": [
      "10\n",
      "check 3\n",
      "0\n",
      "add 3\n",
      "check 3\n",
      "1\n",
      "add 4\n",
      "check 4\n",
      "1\n",
      "add 7\n",
      "check 7\n",
      "1\n",
      "check 1\n",
      "0\n",
      "check 5\n",
      "0\n",
      "check 7\n",
      "1\n"
     ]
    }
   ],
   "source": [
    "n = int(input())\n",
    "\n",
    "d = {i: 2** (i - 1) for i in range(1, 21)}\n",
    "st = 0\n",
    "for _ in range(n):\n",
    "    li = input().split()\n",
    "    \n",
    "    if li[0] == 'all':\n",
    "        st = 11111111111111111111\n",
    "    elif li[0] == 'empty':\n",
    "        st = 0\n",
    "    else:\n",
    "        li[1] = int(li[1])\n",
    "        \n",
    "        if li[0] == 'add':\n",
    "            st |= d[li[1]]\n",
    "        else:\n",
    "            b = bin(st)\n",
    "            b = b[-(len(b) - 2):]\n",
    "            \n",
    "            is_in = 0\n",
    "            \n",
    "            if len(b) >= li[1] and b[-li[1]] == '1':\n",
    "                is_in = 1\n",
    "                \n",
    "            if li[0] == 'check':\n",
    "                print(is_in)\n",
    "            else:\n",
    "                break"
   ]
  },
  {
   "cell_type": "code",
   "execution_count": 290,
   "metadata": {},
   "outputs": [
    {
     "data": {
      "text/plain": [
       "'0b1001100'"
      ]
     },
     "execution_count": 290,
     "metadata": {},
     "output_type": "execute_result"
    }
   ],
   "source": [
    "bin(st)"
   ]
  },
  {
   "cell_type": "code",
   "execution_count": 276,
   "metadata": {},
   "outputs": [
    {
     "data": {
      "text/plain": [
       "True"
      ]
     },
     "execution_count": 276,
     "metadata": {},
     "output_type": "execute_result"
    }
   ],
   "source": [
    "len(b) >= 3"
   ]
  },
  {
   "cell_type": "code",
   "execution_count": 287,
   "metadata": {},
   "outputs": [
    {
     "data": {
      "text/plain": [
       "1"
      ]
     },
     "execution_count": 287,
     "metadata": {},
     "output_type": "execute_result"
    }
   ],
   "source": [
    "len(str(st))"
   ]
  },
  {
   "cell_type": "markdown",
   "metadata": {},
   "source": [
    "### 히스토그램에서 가장 큰 직사각형 6549"
   ]
  },
  {
   "cell_type": "code",
   "execution_count": 319,
   "metadata": {},
   "outputs": [
    {
     "name": "stdout",
     "output_type": "stream",
     "text": [
      "7 2 1 4 5 1 3 3\n",
      "8\n",
      "4 1000 1000 1000 1000\n",
      "4000\n",
      "0\n"
     ]
    }
   ],
   "source": [
    "while True:\n",
    "    li = list(map(int, input().split()))\n",
    "    if len(li) == 1:\n",
    "        break\n",
    "    \n",
    "    stack = [[li[1], 0]] # value, deleted_count\n",
    "    li = li[2:]\n",
    "    max_result = 0\n",
    "\n",
    "    for value in li:\n",
    "        weight = 1\n",
    "        total_deleted_count = 0\n",
    "        while stack:\n",
    "            if stack[-1][0] <= value:\n",
    "                break\n",
    "            else:\n",
    "                v, deleted_count = stack.pop()\n",
    "                total_deleted_count += deleted_count + 1\n",
    "                weight += deleted_count\n",
    "                max_result = max(max_result, weight * v)\n",
    "                weight += 1\n",
    "\n",
    "        stack.append([value, total_deleted_count])\n",
    "\n",
    "    weight = 1\n",
    "    while stack:\n",
    "        v, deleted_count = stack.pop()\n",
    "        weight += deleted_count\n",
    "        max_result = max(max_result, weight * v)\n",
    "        weight += 1\n",
    "\n",
    "    print(max_result)"
   ]
  },
  {
   "cell_type": "markdown",
   "metadata": {},
   "source": [
    "### 히스토그램 1725"
   ]
  },
  {
   "cell_type": "code",
   "execution_count": 324,
   "metadata": {},
   "outputs": [
    {
     "name": "stdout",
     "output_type": "stream",
     "text": [
      "2\n",
      "7\n",
      "4\n",
      "8\n"
     ]
    }
   ],
   "source": [
    "import sys\n",
    "input = sys.stdin.readline\n",
    "\n",
    "n = int(input().rstrip())\n",
    "li = [int(input().rstrip()) for _ in range(n)]\n",
    "\n",
    "stack = [[li[0], 0]] # value, deleted_count\n",
    "max_result = 0\n",
    "\n",
    "for value in li[1:]:\n",
    "    weight = 1\n",
    "    total_deleted_count = 0\n",
    "    while stack:\n",
    "        if stack[-1][0] <= value:\n",
    "            break\n",
    "        else:\n",
    "            v, deleted_count = stack.pop()\n",
    "            total_deleted_count += deleted_count + 1\n",
    "            weight += deleted_count\n",
    "            max_result = max(max_result, weight * v)\n",
    "            weight += 1\n",
    "\n",
    "    stack.append([value, total_deleted_count])\n",
    "\n",
    "weight = 1\n",
    "while stack:\n",
    "    v, deleted_count = stack.pop()\n",
    "    weight += deleted_count\n",
    "    max_result = max(max_result, weight * v)\n",
    "    weight += 1\n",
    "\n",
    "print(max_result)"
   ]
  },
  {
   "cell_type": "markdown",
   "metadata": {},
   "source": [
    "### 전생했더니 슬라임 연구자였던 건에 대하여 (Easy) 14715"
   ]
  },
  {
   "cell_type": "code",
   "execution_count": 326,
   "metadata": {},
   "outputs": [
    {
     "name": "stdout",
     "output_type": "stream",
     "text": [
      "24\n"
     ]
    }
   ],
   "source": []
  },
  {
   "cell_type": "code",
   "execution_count": 332,
   "metadata": {},
   "outputs": [
    {
     "data": {
      "text/plain": [
       "4"
      ]
     },
     "execution_count": 332,
     "metadata": {},
     "output_type": "execute_result"
    }
   ],
   "source": [
    "k = int(input())\n"
   ]
  },
  {
   "cell_type": "code",
   "execution_count": 61,
   "metadata": {},
   "outputs": [
    {
     "name": "stdout",
     "output_type": "stream",
     "text": [
      "12\n",
      "4 [1, 2, 2, 4] 2 2 1\n",
      "12 [1, 2, 3, 4, 6, 12] 3 4 2\n",
      "4 [1, 2, 2, 4] 2 2 1\n",
      "2\n"
     ]
    }
   ],
   "source": [
    "def get_depth(num):\n",
    "    divisors = []\n",
    "    for i in range(1, int(num ** (1 / 2)) + 1):\n",
    "        if num % i == 0:\n",
    "            divisors.append(i)\n",
    "            divisors.append(num // i)\n",
    "    divisors.sort()\n",
    "\n",
    "    mid = len(divisors) // 2\n",
    "    if len(divisors) % 2 == 1:\n",
    "        v = divisors[mid]\n",
    "        if v == 1:\n",
    "#             print(num, 1)\n",
    "            return 0\n",
    "        else:\n",
    "#             print(num, 2)\n",
    "            print(v, get_depth(v) + 1)\n",
    "            return get_depth(v) + 1\n",
    "    else:\n",
    "        a, b = divisors[mid - 1:mid + 1]\n",
    "        \n",
    "        if a == 1 or b == 1:\n",
    "#             print(num, 3)\n",
    "            return 0\n",
    "        else:\n",
    "#             print(num, a, b, 4)\n",
    "            print(num, divisors, a, b, max(get_depth(a), get_depth(b)) + 1)\n",
    "            return max(get_depth(a), get_depth(b)) + 1\n",
    "\n",
    "k = int(input())\n",
    "print(get_depth(k))"
   ]
  },
  {
   "cell_type": "code",
   "execution_count": 60,
   "metadata": {},
   "outputs": [
    {
     "name": "stdout",
     "output_type": "stream",
     "text": [
      "120\n",
      "120 [1, 2, 3, 4, 5, 6, 8, 10, 12, 15, 20, 24, 30, 40, 60, 120]\n",
      "10 [1, 2, 5, 10]\n",
      "2 [1, 2]\n",
      "5 [1, 5]\n",
      "12 [1, 2, 3, 4, 6, 12]\n",
      "3 [1, 3]\n",
      "4 [1, 2, 2, 4]\n",
      "2 [1, 2]\n",
      "2 [1, 2]\n",
      "3\n"
     ]
    }
   ],
   "source": [
    "def get_depth(num):\n",
    "    divisors = []\n",
    "    for i in range(1, int(num ** (1 / 2)) + 1):\n",
    "        if num % i == 0:\n",
    "            divisors.append(i)\n",
    "            divisors.append(num // i)\n",
    "    divisors.sort()\n",
    "    print(num, divisors)\n",
    "\n",
    "    mid = len(divisors) // 2\n",
    "    if len(divisors) % 2 == 1:\n",
    "        v = divisors[mid]\n",
    "        if v == 1:\n",
    "            return 0\n",
    "        else:\n",
    "            return get_depth(v) + 1\n",
    "    else:\n",
    "        a, b = divisors[mid - 1:mid + 1]\n",
    "        \n",
    "        if a == 1 or b == 1:\n",
    "            return 0\n",
    "        else:\n",
    "            return max(get_depth(a), get_depth(b)) + 1\n",
    "ㅇㅇ\n",
    "k = int(input())\n",
    "print(get_depth(k))"
   ]
  },
  {
   "cell_type": "code",
   "execution_count": 51,
   "metadata": {},
   "outputs": [
    {
     "data": {
      "text/plain": [
       "100"
      ]
     },
     "execution_count": 51,
     "metadata": {},
     "output_type": "execute_result"
    }
   ],
   "source": [
    "10 * 10"
   ]
  },
  {
   "cell_type": "markdown",
   "metadata": {},
   "source": [
    "### 독수리 16238"
   ]
  },
  {
   "cell_type": "code",
   "execution_count": 62,
   "metadata": {},
   "outputs": [
    {
     "name": "stdout",
     "output_type": "stream",
     "text": [
      "5\n",
      "1 10 4 10 1\n"
     ]
    }
   ],
   "source": [
    "from collections import deque\n",
    "n = int(input())\n",
    "deq = deque(map(int, input().split()))"
   ]
  },
  {
   "cell_type": "code",
   "execution_count": 52,
   "metadata": {},
   "outputs": [
    {
     "data": {
      "text/plain": [
       "100"
      ]
     },
     "execution_count": 52,
     "metadata": {},
     "output_type": "execute_result"
    }
   ],
   "source": [
    "10 * 10"
   ]
  },
  {
   "cell_type": "code",
   "execution_count": 71,
   "metadata": {
    "scrolled": true
   },
   "outputs": [
    {
     "name": "stdout",
     "output_type": "stream",
     "text": [
      "5\n",
      "1 10 4 10 1\n",
      "[1, 10, 4, 10, 1]\n"
     ]
    }
   ],
   "source": [
    "from collections import deque\n",
    "n = int(input())\n",
    "deq = deque(map(int, input().split()))\n",
    "\n",
    "li = []\n",
    "while deq:\n",
    "    if deq[0] >= deq[-1]:\n",
    "        li.append(deq.popleft())\n",
    "    else:\n",
    "        li.append(deq.pop())\n",
    "        \n",
    "print(li)"
   ]
  },
  {
   "cell_type": "code",
   "execution_count": null,
   "metadata": {},
   "outputs": [],
   "source": [
    "1 1 10 10 4\n",
    "\n"
   ]
  },
  {
   "cell_type": "code",
   "execution_count": null,
   "metadata": {},
   "outputs": [],
   "source": [
    "1 1 10 10 4\n",
    "\n",
    "\n",
    "1 10 4 10 1\n",
    "\n",
    "1 10 4 10 1"
   ]
  },
  {
   "cell_type": "code",
   "execution_count": null,
   "metadata": {},
   "outputs": [],
   "source": [
    "1 10 4 10 1\n",
    "10 4 10 1\n",
    "4 10 1\n"
   ]
  },
  {
   "cell_type": "code",
   "execution_count": null,
   "metadata": {},
   "outputs": [],
   "source": [
    "1 10 4 10 1       1 1\n",
    "10 4 10 1       10 1\n",
    "\n",
    "1 10 4 10 1\n",
    "\n",
    "\n",
    "1 1\n",
    "10 1"
   ]
  },
  {
   "cell_type": "markdown",
   "metadata": {},
   "source": [
    "### 독수리 16238"
   ]
  },
  {
   "cell_type": "code",
   "execution_count": null,
   "metadata": {},
   "outputs": [],
   "source": [
    "1 10 4 10 1\n",
    "1마리 10\n",
    "2마리 10, 10\n",
    "3마리 10, 10, 4\n",
    "4마리 1, 10, 10, 4\n",
    "5마리 1, 1, 10, 4, 10"
   ]
  },
  {
   "cell_type": "code",
   "execution_count": null,
   "metadata": {},
   "outputs": [],
   "source": [
    "4 3 2 1 1 1 5 6 7 1 1 1 1 1 1 1"
   ]
  },
  {
   "cell_type": "code",
   "execution_count": null,
   "metadata": {},
   "outputs": [],
   "source": [
    "### 양 옆 비교하면서 가장 작은 값부터 리스트에 넣기\n",
    "### 그러면 리스트 오른쪽부터 왼쪽으로 가면서 선택하면 독립이 됨"
   ]
  },
  {
   "cell_type": "code",
   "execution_count": null,
   "metadata": {},
   "outputs": [],
   "source": [
    "1 1 1 1 1 1 1 4 3 2 1 1 1 5 6 7\n",
    "\n",
    "\n",
    "1 1 10 4 10\n",
    "\n",
    "10 4 10 1 1\n",
    "\n",
    "\n"
   ]
  },
  {
   "cell_type": "code",
   "execution_count": null,
   "metadata": {},
   "outputs": [],
   "source": [
    "1 2 3 4 5 6 7"
   ]
  },
  {
   "cell_type": "code",
   "execution_count": null,
   "metadata": {},
   "outputs": [],
   "source": [
    "1 2 3 4 5 6 7 4"
   ]
  },
  {
   "cell_type": "code",
   "execution_count": null,
   "metadata": {},
   "outputs": [],
   "source": [
    "1 2 3 4 4 5 6 7"
   ]
  },
  {
   "cell_type": "code",
   "execution_count": null,
   "metadata": {},
   "outputs": [],
   "source": [
    "10 10 10 10 10 3 15 3 10 10 10\n",
    "\n",
    "\n",
    "10 10 10 10 10 3 10 10 10 3 15"
   ]
  },
  {
   "cell_type": "code",
   "execution_count": null,
   "metadata": {},
   "outputs": [],
   "source": [
    "n = int(input())\n",
    "li = list(map(int, input().split()))\n",
    "\n"
   ]
  },
  {
   "cell_type": "code",
   "execution_count": null,
   "metadata": {},
   "outputs": [],
   "source": [
    "from collections import deque\n",
    "\n",
    "n = int(input())\n",
    "li = list(map(int, input().split()))\n",
    "\n",
    "to_subtract = 0\n",
    "total_score = 0\n",
    "while li:\n",
    "    li = [(v, i) for i, v in enumerate(li)]\n",
    "    deq = deque(li)\n",
    "\n",
    "    new_li = []\n",
    "    while deq:\n",
    "        if deq[0][0] <= deq[-1][0]:\n",
    "            new_li.append(deq.popleft())\n",
    "        else:\n",
    "            new_li.append(deq.pop())\n",
    "            \n",
    "    value, index = new_li[-1]\n",
    "    score = value - to_subtract\n",
    "    if score >= 1:\n",
    "        total_score += score\n",
    "        to_subtract += 1\n",
    "    else:\n",
    "        break\n",
    "        \n",
    "    new_li.pop()\n",
    "    li = [v[0] for v in new_li]\n",
    "\n",
    "print(total_score)"
   ]
  },
  {
   "cell_type": "code",
   "execution_count": 73,
   "metadata": {},
   "outputs": [
    {
     "data": {
      "text/plain": [
       "deque([])"
      ]
     },
     "execution_count": 73,
     "metadata": {},
     "output_type": "execute_result"
    }
   ],
   "source": [
    "deq"
   ]
  },
  {
   "cell_type": "code",
   "execution_count": 96,
   "metadata": {},
   "outputs": [
    {
     "name": "stdout",
     "output_type": "stream",
     "text": [
      "3\n",
      "2 2 2\n",
      "3\n"
     ]
    }
   ],
   "source": [
    "from collections import deque\n",
    "\n",
    "n = int(input())\n",
    "li = list(map(int, input().split()))\n",
    "\n",
    "to_subtract = 0\n",
    "total_score = 0\n",
    "while li:\n",
    "    deq = deque(li)\n",
    "\n",
    "    new_li = []\n",
    "    while deq:\n",
    "        if deq[0] <= deq[-1]:\n",
    "            new_li.append(deq.popleft())\n",
    "        else:\n",
    "            new_li.append(deq.pop())\n",
    "            \n",
    "    value = new_li.pop()\n",
    "    score = value - to_subtract\n",
    "    if score >= 1:\n",
    "        total_score += score\n",
    "        to_subtract += 1\n",
    "    else:\n",
    "        break\n",
    "    li = new_li[:]\n",
    "\n",
    "print(total_score)"
   ]
  },
  {
   "cell_type": "markdown",
   "metadata": {},
   "source": [
    "### 같은 수로 만들기 2 13146"
   ]
  },
  {
   "cell_type": "code",
   "execution_count": 176,
   "metadata": {},
   "outputs": [
    {
     "name": "stdout",
     "output_type": "stream",
     "text": [
      "6\n",
      "5 4 2 2 5 6\n",
      "[5, 4, 5, 6] 5\n",
      "[5, 5, 6] 6\n",
      "[5, 6] 7\n",
      "8\n"
     ]
    }
   ],
   "source": [
    "# 일단 포기\n",
    "import sys\n",
    "# input = sys.stdin.readline\n",
    "\n",
    "n = int(input().rstrip())\n",
    "li = list(map(int, input().split()))\n",
    "# li = [int(input().rstrip()) for _ in range(n)]\n",
    "\n",
    "total = 0\n",
    "while len(li) > 1:\n",
    "    to_deletes = set()\n",
    "    if len(li) == 2:\n",
    "        total += max(li) - min(li)\n",
    "        li.pop()\n",
    "        break\n",
    "    for i in range(len(li)):\n",
    "        if i == 0:\n",
    "            if li[0] < li[1]:\n",
    "                total += li[1] - li[0]\n",
    "                to_deletes.add(0)\n",
    "        elif i == len(li) - 1:\n",
    "            if li[-1] <= li[-2]:\n",
    "                total += li[-2] - li[-1]\n",
    "                to_deletes.add(len(li) -1)\n",
    "        else:       \n",
    "            if li[i - 1] == li[i]:\n",
    "                to_deletes.add(i)\n",
    "            if li[i - 1] < li[i] or li[i + 1] < li[i]:\n",
    "                continue\n",
    "            else:\n",
    "                count = -float('inf')\n",
    "                if li[i] < li[i - 1]:\n",
    "                    count = li[i - 1] - li[i]\n",
    "                    if li[i] < li[i + 1] <= li[i - 1]:\n",
    "                        count = li[i + 1] - li[i]\n",
    "                else:\n",
    "                    if li[i] < li[i + 1]:\n",
    "                        count = li[i + 1] - li[i]\n",
    "\n",
    "                if count != -float('inf'):\n",
    "                    total += count\n",
    "                    to_deletes.add(i)\n",
    "    li = [v for i, v in enumerate(li) if i not in to_deletes]\n",
    "    print(li, total)\n",
    "    \n",
    "print(total)"
   ]
  },
  {
   "cell_type": "markdown",
   "metadata": {},
   "source": [
    "### 제271회 웰노운컵"
   ]
  },
  {
   "cell_type": "code",
   "execution_count": 178,
   "metadata": {},
   "outputs": [
    {
     "data": {
      "text/plain": [
       "33750000"
      ]
     },
     "execution_count": 178,
     "metadata": {},
     "output_type": "execute_result"
    }
   ],
   "source": [
    "B로 오름차순 정렬해놓으면 \n",
    "A에서 2개를 고를 때 항상 뒤쪽은 버리고 앞쪽을 가져가게 됨"
   ]
  },
  {
   "cell_type": "code",
   "execution_count": 182,
   "metadata": {},
   "outputs": [
    {
     "name": "stdout",
     "output_type": "stream",
     "text": [
      "4\n",
      "4 2 8 6\n",
      "6 5 7 8\n"
     ]
    }
   ],
   "source": [
    "n = int(input())\n",
    "A = list(map(int, input().split()))\n",
    "B = list(map(int, input().split()))\n",
    "li = sorted(zip(A, B), key=lambda x: x[1])"
   ]
  },
  {
   "cell_type": "code",
   "execution_count": 184,
   "metadata": {},
   "outputs": [],
   "source": [
    "li = [v[0] for v in li]"
   ]
  },
  {
   "cell_type": "code",
   "execution_count": 187,
   "metadata": {},
   "outputs": [],
   "source": [
    "li = [9, 1, 2, 8, 7, 6, 3, 4]"
   ]
  },
  {
   "cell_type": "code",
   "execution_count": 190,
   "metadata": {},
   "outputs": [
    {
     "name": "stdout",
     "output_type": "stream",
     "text": [
      "4\n",
      "4 2 8 6\n",
      "6 5 7 8\n",
      "10\n"
     ]
    }
   ],
   "source": [
    "from heapq import heappush, heappop\n",
    "\n",
    "n = int(input())\n",
    "A = list(map(int, input().split()))\n",
    "B = list(map(int, input().split()))\n",
    "li = sorted(zip(A, B), key=lambda x: x[1])\n",
    "li = [v[0] for v in li]\n",
    "\n",
    "heap = []\n",
    "to_delete = []\n",
    "\n",
    "to_delete.append(li.pop())\n",
    "for value in reversed(li):\n",
    "    heappush(heap, value)\n",
    "    if len(heap) > len(to_delete):\n",
    "        to_delete.append(heappop(heap))\n",
    "    \n",
    "print(sum(heap))"
   ]
  },
  {
   "cell_type": "markdown",
   "metadata": {},
   "source": [
    "### 소트 1071"
   ]
  },
  {
   "cell_type": "code",
   "execution_count": 12,
   "metadata": {},
   "outputs": [
    {
     "name": "stdout",
     "output_type": "stream",
     "text": [
      "2\n",
      "1 2\n"
     ]
    }
   ],
   "source": [
    "from collections import Counter\n",
    "\n",
    "n = int(input())\n",
    "li = list(map(int, input().split()))\n",
    "\n",
    "counts = [0] * 51\n",
    "\n",
    "for value in li:\n",
    "    counts[value] += 1\n",
    "\n",
    "c = Counter(li)\n",
    "li = sorted(list(c.keys()))"
   ]
  },
  {
   "cell_type": "code",
   "execution_count": 61,
   "metadata": {},
   "outputs": [
    {
     "name": "stdout",
     "output_type": "stream",
     "text": [
      "8\n",
      "1 3 2 3 4 3 5 4\n",
      "1 3 3 3 2 5 4 4\n"
     ]
    }
   ],
   "source": [
    "# 틀렸음\n",
    "from collections import Counter\n",
    "\n",
    "n = int(input())\n",
    "li = list(map(int, input().split()))\n",
    "\n",
    "counts = [0] * 1001\n",
    "for value in li:\n",
    "    counts[value] += 1\n",
    "\n",
    "c = Counter(li)\n",
    "li = sorted(list(c.keys()))\n",
    "\n",
    "new_n = len(li)\n",
    "result = []\n",
    "i = 0\n",
    "while i < new_n:\n",
    "    if i + 1 < new_n and li[i] + 1 == li[i + 1]:\n",
    "        if i + 2 < new_n:\n",
    "            result.extend([li[i], li[i + 2], li[i + 1]])\n",
    "            i += 3\n",
    "        else:\n",
    "            result.extend([li[i + 1], li[i]])\n",
    "            i += 2\n",
    "    else:\n",
    "        result.append(li[i])\n",
    "        i += 1\n",
    "            \n",
    "new_result = []\n",
    "for v in result:\n",
    "    new_result.extend([str(v)] * counts[v])\n",
    "    \n",
    "print(' '.join(map(str, new_result)))"
   ]
  },
  {
   "cell_type": "code",
   "execution_count": 63,
   "metadata": {},
   "outputs": [
    {
     "name": "stdout",
     "output_type": "stream",
     "text": [
      "8 15 3\n",
      "1 5 2\n",
      "13 14 1\n",
      "5 8 3\n",
      "8 14 2\n",
      "14 15 1\n",
      "9 12 1\n",
      "12 15 2\n",
      "4 6 1\n"
     ]
    }
   ],
   "source": [
    "k, n, c = map(int, input().split())\n",
    "li = [list(map(int, input().split())) for _ in range(k)]\n",
    "\n"
   ]
  },
  {
   "cell_type": "code",
   "execution_count": 67,
   "metadata": {},
   "outputs": [],
   "source": [
    "li.sort(key=lambda x: (x[1], x[0]))"
   ]
  },
  {
   "cell_type": "code",
   "execution_count": 74,
   "metadata": {},
   "outputs": [
    {
     "data": {
      "text/plain": [
       "[[1, 5, 2],\n",
       " [4, 6, 1],\n",
       " [5, 8, 3],\n",
       " [9, 12, 1],\n",
       " [8, 14, 2],\n",
       " [13, 14, 1],\n",
       " [12, 15, 2],\n",
       " [14, 15, 1]]"
      ]
     },
     "execution_count": 74,
     "metadata": {},
     "output_type": "execute_result"
    }
   ],
   "source": [
    "li"
   ]
  },
  {
   "cell_type": "code",
   "execution_count": 68,
   "metadata": {},
   "outputs": [
    {
     "data": {
      "text/plain": [
       "[[1, 5, 2],\n",
       " [4, 6, 1],\n",
       " [5, 8, 3],\n",
       " [9, 12, 1],\n",
       " [8, 14, 2],\n",
       " [13, 14, 1],\n",
       " [12, 15, 2],\n",
       " [14, 15, 1]]"
      ]
     },
     "execution_count": 68,
     "metadata": {},
     "output_type": "execute_result"
    }
   ],
   "source": [
    "current_people = 0\n",
    "for i in range(k):\n",
    "    start, end, popul = li[i]\n",
    "    \n",
    "    "
   ]
  },
  {
   "cell_type": "code",
   "execution_count": null,
   "metadata": {},
   "outputs": [],
   "source": [
    "5 2\n",
    "6 3\n",
    "8 3"
   ]
  },
  {
   "cell_type": "code",
   "execution_count": 79,
   "metadata": {},
   "outputs": [
    {
     "data": {
      "text/plain": [
       "2"
      ]
     },
     "execution_count": 79,
     "metadata": {},
     "output_type": "execute_result"
    }
   ],
   "source": [
    "import bisect\n",
    "\n",
    "li = [1, 2, 3, 5, 6]\n",
    "bisect.bisect_left(li, 3)"
   ]
  },
  {
   "cell_type": "code",
   "execution_count": null,
   "metadata": {},
   "outputs": [],
   "source": [
    "1 5 2\n",
    "5 8 3\n",
    "8 14 2\n",
    "9 12 1\n",
    "13 14 1\n",
    "14 15 1"
   ]
  },
  {
   "cell_type": "code",
   "execution_count": 73,
   "metadata": {},
   "outputs": [
    {
     "data": {
      "text/plain": [
       "10"
      ]
     },
     "execution_count": 73,
     "metadata": {},
     "output_type": "execute_result"
    }
   ],
   "source": [
    "2+ 1+ 2+ 1+ 2+ 1+ 1"
   ]
  },
  {
   "cell_type": "code",
   "execution_count": null,
   "metadata": {},
   "outputs": [],
   "source": [
    "current_people = 0\n",
    "location = 1\n",
    "for i in range(k):\n",
    "    "
   ]
  },
  {
   "cell_type": "code",
   "execution_count": null,
   "metadata": {},
   "outputs": [],
   "source": [
    "\n",
    "          current\n",
    "1, 5, 2     2\n",
    "4, 6, 1     3\n",
    "5, 8, 2      1 + 2\n",
    "  "
   ]
  },
  {
   "cell_type": "markdown",
   "metadata": {},
   "source": [
    "### 운동 1173"
   ]
  },
  {
   "cell_type": "code",
   "execution_count": 10,
   "metadata": {},
   "outputs": [
    {
     "name": "stdout",
     "output_type": "stream",
     "text": [
      "5 70 120 100 15\n",
      "-1\n"
     ]
    }
   ],
   "source": [
    "N, m, M, T, R = map(int, input().split())\n",
    "\n",
    "current_mac = m\n",
    "exercise_time = 0\n",
    "time_spent = 1\n",
    "\n",
    "if m + T > M:\n",
    "    print(-1)\n",
    "else:\n",
    "    while True:\n",
    "        if current_mac + T <= M:\n",
    "            current_mac += T\n",
    "            exercise_time += 1\n",
    "            if exercise_time == N:\n",
    "                break\n",
    "        else:\n",
    "            current_mac -= R\n",
    "            current_mac = max(current_mac, m)\n",
    "        time_spent += 1\n",
    "\n",
    "    print(time_spent)"
   ]
  },
  {
   "cell_type": "markdown",
   "metadata": {},
   "source": [
    "### 카풀 매칭 17280"
   ]
  },
  {
   "cell_type": "code",
   "execution_count": 44,
   "metadata": {},
   "outputs": [
    {
     "name": "stdout",
     "output_type": "stream",
     "text": [
      "3 3\n",
      "10 20 30\n",
      "8 8\n",
      "2 18\n",
      "25 35\n",
      "[[8, 8], [2, 18], [25, 35]]\n"
     ]
    }
   ],
   "source": [
    "n, m = map(int, input().split())\n",
    "customers = list(map(int, input().split()))\n",
    "li = [list(map(int, input().split())) for _ in range(m)]\n",
    "print(li)"
   ]
  },
  {
   "cell_type": "code",
   "execution_count": 47,
   "metadata": {},
   "outputs": [],
   "source": [
    "customers.sort()\n",
    "li.sort(key=lambda x: (x[1], -x[0]))"
   ]
  },
  {
   "cell_type": "code",
   "execution_count": 50,
   "metadata": {},
   "outputs": [
    {
     "name": "stdout",
     "output_type": "stream",
     "text": [
      "[10, 20, 30]\n",
      "[[8, 8], [2, 18], [25, 35]]\n"
     ]
    }
   ],
   "source": [
    "print(customers)\n",
    "print(li)"
   ]
  },
  {
   "cell_type": "code",
   "execution_count": null,
   "metadata": {},
   "outputs": [
    {
     "name": "stdout",
     "output_type": "stream",
     "text": [
      "3\n",
      "3 3\n",
      "10 20 30\n",
      "8 8\n",
      "2 18\n",
      "25 35\n",
      "0\n"
     ]
    }
   ],
   "source": [
    "import sys\n",
    "from collections import Counter\n",
    "# input = sys.stdin.readline\n",
    "\n",
    "for _ in range(int(input().rstrip())):\n",
    "    n, m = map(int, input().rstrip().split())\n",
    "    customers = list(map(int, input().rstrip().split()))\n",
    "    li = [list(map(int, input().rstrip().split())) for _ in range(m)]\n",
    "\n",
    "    customers.sort()\n",
    "    c = Counter(customers)\n",
    "    d = dict(c)         \n",
    "    li.sort(key=lambda x: (x[1], -x[0]))\n",
    "    for value in li:\n",
    "        customers = list(d.keys())\n",
    "        result = float('inf')\n",
    "        start = 0\n",
    "        end = len(customers) - 1\n",
    "\n",
    "        while start <= end:\n",
    "            mid = (start + end) // 2\n",
    "\n",
    "            if value[0] <= customers[mid] <= value[1]:\n",
    "                result = mid\n",
    "                end = mid - 1\n",
    "            elif value[1] < customers[mid]:\n",
    "                end = mid - 1\n",
    "            else:\n",
    "                start = mid + 1\n",
    "\n",
    "        if result != float('inf'):\n",
    "            if d[customers[result]] > 1:\n",
    "                d[customers[result]] -= 1\n",
    "            else:\n",
    "                del d[customers[result]]\n",
    "            \n",
    "    print(n - len(customers))"
   ]
  },
  {
   "cell_type": "markdown",
   "metadata": {},
   "source": [
    "### 게리맨더링 17471"
   ]
  },
  {
   "cell_type": "code",
   "execution_count": null,
   "metadata": {},
   "outputs": [],
   "source": [
    "각각 A 셋에 추가하면서 나머지를 B셋으로 하고 계산해봄"
   ]
  },
  {
   "cell_type": "code",
   "execution_count": 40,
   "metadata": {},
   "outputs": [
    {
     "name": "stdout",
     "output_type": "stream",
     "text": [
      "6\n",
      "5 2 3 4 1 2\n",
      "2 2 4\n",
      "4 1 3 6 5\n",
      "2 4 2\n",
      "2 1 3\n",
      "1 2\n",
      "1 2\n",
      "[[1, 3], [0, 2, 5, 4], [3, 1], [0, 2], [1], [1]]\n"
     ]
    }
   ],
   "source": [
    "\n",
    "\n",
    "n = int(input())\n",
    "populs = list(map(int, input().split()))\n",
    "total_popul = sum(populs)\n",
    "li = [[] for _ in range(n)]\n",
    "for i in range(n):\n",
    "    temp = list(map(lambda x: int(x) - 1, input().split()))\n",
    "    del temp[0]\n",
    "    \n",
    "    for v in temp:\n",
    "        li[i].append(v)\n",
    "print(li)"
   ]
  },
  {
   "cell_type": "code",
   "execution_count": 65,
   "metadata": {},
   "outputs": [
    {
     "name": "stdout",
     "output_type": "stream",
     "text": [
      "6\n",
      "1 1 1 1 1 1\n",
      "2 2 4\n",
      "4 1 3 6 5\n",
      "2 4 2\n",
      "2 1 3\n",
      "1 2\n",
      "1 2\n",
      "{0} {1, 2, 3, 4, 5} 6 1 5\n",
      "{0, 1} {2, 3, 4, 5} 6 2 4\n",
      "{0, 3} {1, 2, 4, 5} 6 2 4\n",
      "{0, 1, 2} {3, 4, 5} 6 3 3\n",
      "{0, 1, 5} {2, 3, 4} 6 3 3\n",
      "{0, 1, 4} {2, 3, 5} 6 3 3\n",
      "{0, 1, 2, 3} {4, 5} 6 4 2\n",
      "2\n"
     ]
    }
   ],
   "source": [
    "from collections import deque\n",
    "\n",
    "n = int(input())\n",
    "populs = list(map(int, input().split()))\n",
    "total_popul = sum(populs)\n",
    "li = [[] for _ in range(n)]\n",
    "for i in range(n):\n",
    "    temp = list(map(lambda x: int(x) - 1, input().split()))\n",
    "    del temp[0]\n",
    "    \n",
    "    for v in temp:\n",
    "        if v > i:\n",
    "            li[i].append(v)\n",
    "\n",
    "queue = deque()\n",
    "queue.append(0)\n",
    "\n",
    "visited = [False] * n\n",
    "visited[0] = True\n",
    "all_set = set(range(n))\n",
    "\n",
    "while queue:\n",
    "    value = queue.popleft()\n",
    "    visited[value] = True\n",
    "    for v in li[value]:\n",
    "        queue.append(v)\n",
    "        \n",
    "if False in visited:\n",
    "    print(-1)\n",
    "else:\n",
    "    cases = [] # set_B, diff_popul\n",
    "    queue = deque()\n",
    "    queue.append(({0}, 0, populs[0])) # set_A, node, popul\n",
    "    \n",
    "    while queue:\n",
    "        set_A, value, popul = queue.popleft()\n",
    "        set_B = all_set - set_A\n",
    "        print(set_A, set_B, total_popul, popul, total_popul - popul)\n",
    "        cases.append((set_B, abs(total_popul - popul - popul)))\n",
    "        for v in li[value]:\n",
    "            queue.append((set_A | {v}, v, popul + populs[v]))\n",
    " \n",
    "    cases.sort(key=lambda x: x[1])\n",
    "    for B, diff_popul in cases:\n",
    "        set_B = B.copy()\n",
    "        init = min(set_B)\n",
    "        set_B.remove(min(set_B))\n",
    "        queue = deque()\n",
    "        queue.append(init)\n",
    "\n",
    "        visited = [False] * n\n",
    "        visited[init] = True\n",
    "        while queue:\n",
    "            value = queue.popleft()\n",
    "\n",
    "            for v in li[value]:\n",
    "                if v not in set_B:\n",
    "                    continue\n",
    "                if visited[v]:\n",
    "                    continue\n",
    "                visited[v] = True\n",
    "                queue.append(v)\n",
    "        r = {visited[v] for v in set_B}\n",
    "        if False not in r:\n",
    "            print(diff_popul)\n",
    "            break"
   ]
  },
  {
   "cell_type": "code",
   "execution_count": 60,
   "metadata": {},
   "outputs": [
    {
     "data": {
      "text/plain": [
       "8"
      ]
     },
     "execution_count": 60,
     "metadata": {},
     "output_type": "execute_result"
    }
   ],
   "source": [
    "5+2+3+4+1+2 - 5 - 4"
   ]
  },
  {
   "cell_type": "code",
   "execution_count": 62,
   "metadata": {},
   "outputs": [
    {
     "data": {
      "text/plain": [
       "9"
      ]
     },
     "execution_count": 62,
     "metadata": {},
     "output_type": "execute_result"
    }
   ],
   "source": [
    "5+2+3+4+1+2 - 8"
   ]
  },
  {
   "cell_type": "code",
   "execution_count": 48,
   "metadata": {},
   "outputs": [
    {
     "data": {
      "text/plain": [
       "[({4, 5}, 0),\n",
       " ({3, 4}, 0),\n",
       " ({3, 5}, 0),\n",
       " ({3, 4, 5}, 2),\n",
       " ({2, 4, 5}, 2),\n",
       " ({1, 2, 3, 4, 5}, 4)]"
      ]
     },
     "execution_count": 48,
     "metadata": {},
     "output_type": "execute_result"
    }
   ],
   "source": [
    "cases"
   ]
  },
  {
   "cell_type": "code",
   "execution_count": 46,
   "metadata": {},
   "outputs": [
    {
     "name": "stdout",
     "output_type": "stream",
     "text": [
      "1\n"
     ]
    }
   ],
   "source": [
    "cases.sort(key=lambda x: x[1])\n",
    "for set_B, diff_popul in cases:\n",
    "    init = set_B.pop()\n",
    "    queue = deque()\n",
    "    queue.append(init)\n",
    "\n",
    "    visited = [False] * n\n",
    "    visited[init] = True\n",
    "    while queue:\n",
    "        value = queue.popleft()\n",
    "\n",
    "        for v in li[value]:\n",
    "            if v not in set_B:\n",
    "                continue\n",
    "            if visited[v]:\n",
    "                continue\n",
    "            visited[v] = True\n",
    "            queue.append(v)\n",
    "    r = {visited[v] for v in set_B}\n",
    "    if False not in r:\n",
    "        print(diff_popul)\n",
    "        break\n"
   ]
  },
  {
   "cell_type": "code",
   "execution_count": 43,
   "metadata": {},
   "outputs": [
    {
     "data": {
      "text/plain": [
       "{3}"
      ]
     },
     "execution_count": 43,
     "metadata": {},
     "output_type": "execute_result"
    }
   ],
   "source": [
    "{3}"
   ]
  },
  {
   "cell_type": "code",
   "execution_count": null,
   "metadata": {},
   "outputs": [],
   "source": [
    "set(a)\n",
    "1"
   ]
  },
  {
   "cell_type": "code",
   "execution_count": null,
   "metadata": {},
   "outputs": [],
   "source": [
    "7\n",
    "5\n",
    "2\n",
    "\n",
    "7 - 5 - 5\n",
    "\n",
    "\n",
    "1"
   ]
  },
  {
   "cell_type": "markdown",
   "metadata": {},
   "source": [
    "### K번째 수 1300"
   ]
  },
  {
   "cell_type": "code",
   "execution_count": 1,
   "metadata": {},
   "outputs": [
    {
     "name": "stdout",
     "output_type": "stream",
     "text": [
      "defaultdict(<class 'list'>, {1: [1], 2: [1, 2, 2, 4], 3: [1, 2, 2, 3, 3, 4, 6, 6, 9], 4: [1, 2, 2, 3, 3, 4, 4, 4, 6, 6, 8, 8, 9, 12, 12, 16], 5: [1, 2, 2, 3, 3, 4, 4, 4, 5, 5, 6, 6, 8, 8, 9, 10, 10, 12, 12, 15, 15, 16, 20, 20, 25], 6: [1, 2, 2, 3, 3, 4, 4, 4, 5, 5, 6, 6, 6, 6, 8, 8, 9, 10, 10, 12, 12, 12, 12, 15, 15, 16, 18, 18, 20, 20, 24, 24, 25, 30, 30, 36], 7: [1, 2, 2, 3, 3, 4, 4, 4, 5, 5, 6, 6, 6, 6, 7, 7, 8, 8, 9, 10, 10, 12, 12, 12, 12, 14, 14, 15, 15, 16, 18, 18, 20, 20, 21, 21, 24, 24, 25, 28, 28, 30, 30, 35, 35, 36, 42, 42, 49], 8: [1, 2, 2, 3, 3, 4, 4, 4, 5, 5, 6, 6, 6, 6, 7, 7, 8, 8, 8, 8, 9, 10, 10, 12, 12, 12, 12, 14, 14, 15, 15, 16, 16, 16, 18, 18, 20, 20, 21, 21, 24, 24, 24, 24, 25, 28, 28, 30, 30, 32, 32, 35, 35, 36, 40, 40, 42, 42, 48, 48, 49, 56, 56, 64], 9: [1, 2, 2, 3, 3, 4, 4, 4, 5, 5, 6, 6, 6, 6, 7, 7, 8, 8, 8, 8, 9, 9, 9, 10, 10, 12, 12, 12, 12, 14, 14, 15, 15, 16, 16, 16, 18, 18, 18, 18, 20, 20, 21, 21, 24, 24, 24, 24, 25, 27, 27, 28, 28, 30, 30, 32, 32, 35, 35, 36, 36, 36, 40, 40, 42, 42, 45, 45, 48, 48, 49, 54, 54, 56, 56, 63, 63, 64, 72, 72, 81]})\n"
     ]
    }
   ],
   "source": [
    "from collections import defaultdict\n",
    "\n",
    "d = defaultdict(list)\n",
    "for n in range(1, 10):\n",
    "    for i in range(1, n + 1):\n",
    "        for j in range(1, n + 1):\n",
    "            d[n].append(i * j)\n",
    "    d[n].sort()\n",
    "print(d)"
   ]
  },
  {
   "cell_type": "code",
   "execution_count": null,
   "metadata": {},
   "outputs": [],
   "source": []
  },
  {
   "cell_type": "code",
   "execution_count": 38,
   "metadata": {},
   "outputs": [
    {
     "name": "stdout",
     "output_type": "stream",
     "text": [
      "[1]\n",
      "[1, 2, 2, 4]\n",
      "[1, 2, 2, 3, 3, 4, 6, 6, 9]\n",
      "[1, 2, 2, 3, 3, 4, 4, 4, 6, 6, 8, 8, 9, 12, 12, 16]\n",
      "[1, 2, 2, 3, 3, 4, 4, 4, 5, 5, 6, 6, 8, 8, 9, 10, 10, 12, 12, 15, 15, 16, 20, 20, 25]\n"
     ]
    }
   ],
   "source": [
    "print(d[1])\n",
    "print(d[2])\n",
    "print(d[3])\n",
    "print(d[4])\n",
    "print(d[5])"
   ]
  },
  {
   "cell_type": "code",
   "execution_count": null,
   "metadata": {},
   "outputs": [],
   "source": [
    " 1   2   3   4   5   6   7   8    9  10  11   12  13  14  15  16  17  18  19  20  21   22  23  24  25\n",
    "1*1 1*2 2*1 1*3 3*1 1*4 2*2 4*1 1*5 5*1 2*3 3*2 2*4 4*2 3*3 2*5 5*2 3*4 4*3 3*5 5*3 4*4 4*5 5*4 5*5"
   ]
  },
  {
   "cell_type": "code",
   "execution_count": null,
   "metadata": {},
   "outputs": [],
   "source": [
    "3*3\n",
    "\n",
    "1*1\n",
    "1*2\n",
    "1*3\n",
    "2*1\n",
    "2*2\n",
    "2*3\n",
    "3*1\n",
    "3*2\n",
    "3*3\n",
    "\n",
    "\n",
    "4*4\n",
    "\n",
    "1*1\n",
    "1*2\n",
    "1*3\n",
    "1*4\n",
    "\n",
    "\n",
    "\n",
    "\n",
    "\n",
    "3*3\n",
    "\n",
    "5*5\n",
    "4*6\n",
    "3*7\n",
    "2*8\n",
    "2*9\n",
    "2*10\n",
    "2*11\n",
    "2*12"
   ]
  },
  {
   "cell_type": "code",
   "execution_count": 9,
   "metadata": {},
   "outputs": [
    {
     "name": "stdout",
     "output_type": "stream",
     "text": [
      "[1, 2, 2, 3, 3, 4, 4, 4, 5, 5, 6, 6, 6, 6, 8, 8, 9, 10, 10, 12, 12, 12, 12, 15, 15, 16, 18, 18, 20, 20, 24, 24, 25, 30, 30, 36]\n"
     ]
    }
   ],
   "source": [
    "print(d[6])"
   ]
  },
  {
   "cell_type": "code",
   "execution_count": 10,
   "metadata": {},
   "outputs": [
    {
     "name": "stdout",
     "output_type": "stream",
     "text": [
      "[1, 2, 2, 3, 3, 4, 4, 4, 5, 5, 6, 6, 6, 6, 7, 7, 8, 8, 9, 10, 10, 12, 12, 12, 12, 14, 14, 15, 15, 16, 18, 18, 20, 20, 21, 21, 24, 24, 25, 28, 28, 30, 30, 35, 35, 36, 42, 42, 49]\n"
     ]
    }
   ],
   "source": [
    "print(d[7])"
   ]
  },
  {
   "cell_type": "code",
   "execution_count": 11,
   "metadata": {},
   "outputs": [
    {
     "name": "stdout",
     "output_type": "stream",
     "text": [
      "[1, 2, 2, 3, 3, 4, 4, 4, 5, 5, 6, 6, 6, 6, 7, 7, 8, 8, 8, 8, 9, 10, 10, 12, 12, 12, 12, 14, 14, 15, 15, 16, 16, 16, 18, 18, 20, 20, 21, 21, 24, 24, 24, 24, 25, 28, 28, 30, 30, 32, 32, 35, 35, 36, 40, 40, 42, 42, 48, 48, 49, 56, 56, 64]\n"
     ]
    }
   ],
   "source": [
    "print(d[8])"
   ]
  },
  {
   "cell_type": "code",
   "execution_count": 12,
   "metadata": {},
   "outputs": [
    {
     "name": "stdout",
     "output_type": "stream",
     "text": [
      "[1, 2, 2, 3, 3, 4, 4, 4, 5, 5, 6, 6, 6, 6, 7, 7, 8, 8, 8, 8, 9, 9, 9, 10, 10, 12, 12, 12, 12, 14, 14, 15, 15, 16, 16, 16, 18, 18, 18, 18, 20, 20, 21, 21, 24, 24, 24, 24, 25, 27, 27, 28, 28, 30, 30, 32, 32, 35, 35, 36, 36, 36, 40, 40, 42, 42, 45, 45, 48, 48, 49, 54, 54, 56, 56, 63, 63, 64, 72, 72, 81]\n"
     ]
    }
   ],
   "source": [
    "print(d[9])"
   ]
  },
  {
   "cell_type": "code",
   "execution_count": 13,
   "metadata": {},
   "outputs": [
    {
     "name": "stdout",
     "output_type": "stream",
     "text": [
      "[]\n"
     ]
    }
   ],
   "source": [
    "print(d[10])"
   ]
  },
  {
   "cell_type": "code",
   "execution_count": 33,
   "metadata": {},
   "outputs": [
    {
     "data": {
      "text/plain": [
       "10"
      ]
     },
     "execution_count": 33,
     "metadata": {},
     "output_type": "execute_result"
    }
   ],
   "source": [
    "k = 20\n",
    "d[7][k - 1]"
   ]
  },
  {
   "cell_type": "markdown",
   "metadata": {},
   "source": [
    "### 카드2 2164"
   ]
  },
  {
   "cell_type": "code",
   "execution_count": 6,
   "metadata": {},
   "outputs": [
    {
     "name": "stdout",
     "output_type": "stream",
     "text": [
      "6\n",
      "4\n"
     ]
    }
   ],
   "source": [
    "from collections import deque\n",
    "\n",
    "n = int(input())\n",
    "r = range(1, n + 1)\n",
    "deq = deque(r)\n",
    "\n",
    "while len(deq) >= 2:\n",
    "    deq.popleft()\n",
    "    deq.rotate(-1)\n",
    "\n",
    "print(deq.popleft())"
   ]
  },
  {
   "cell_type": "code",
   "execution_count": 3,
   "metadata": {},
   "outputs": [
    {
     "name": "stdout",
     "output_type": "stream",
     "text": [
      "deque([3, 4, 2])\n"
     ]
    }
   ],
   "source": [
    "from collections import deque\n",
    "\n",
    "deq = deque()\n",
    "deq = deque([2, 3, 4])\n",
    "deq.rotate(-1)\n",
    "print(deq)"
   ]
  },
  {
   "cell_type": "markdown",
   "metadata": {},
   "source": [
    "## Equality 13985"
   ]
  },
  {
   "cell_type": "code",
   "execution_count": 30,
   "metadata": {},
   "outputs": [
    {
     "name": "stdout",
     "output_type": "stream",
     "text": [
      "2 + 2 = 5\n",
      "NO\n"
     ]
    }
   ],
   "source": [
    "import re\n",
    "\n",
    "s = input()\n",
    "li = re.findall(\"\\d+\", s)\n",
    "li = list(map(int, li))\n",
    "a, b, c = li\n",
    "if a + b == c:\n",
    "    print('YES')\n",
    "else:\n",
    "    print('NO')"
   ]
  },
  {
   "cell_type": "markdown",
   "metadata": {},
   "source": [
    "### Square Pasture 14173"
   ]
  },
  {
   "cell_type": "code",
   "execution_count": 31,
   "metadata": {},
   "outputs": [
    {
     "name": "stdout",
     "output_type": "stream",
     "text": [
      "6 6 8 8\n",
      "1 8 4 9\n",
      "49\n"
     ]
    }
   ],
   "source": [
    "ax1, ay1, ax2, ay2 = map(int, input().split())\n",
    "bx1, by1, bx2, by2 = map(int, input().split())\n",
    "\n",
    "print(max(max(ax2, bx2) - min(ax1, bx1), max(ay2, by2) - min(ay1, by1)) ** 2)"
   ]
  },
  {
   "cell_type": "markdown",
   "metadata": {},
   "source": [
    "### 정육각형과 삼각형 14264"
   ]
  },
  {
   "cell_type": "code",
   "execution_count": 56,
   "metadata": {},
   "outputs": [
    {
     "name": "stdout",
     "output_type": "stream",
     "text": [
      "100000\n",
      "4330127018.922194\n"
     ]
    }
   ],
   "source": [
    "n = int(input())\n",
    "half_n = n / 2\n",
    "\n",
    "part = (n * 2 * half_n * (3 ** 0.5)) * 1/2\n",
    "print(((n * (half_n * (3 ** (1/2))) * (1/2)) * 6 - part * 2) / 2)"
   ]
  },
  {
   "cell_type": "markdown",
   "metadata": {},
   "source": [
    "### 전자레인지 14470"
   ]
  },
  {
   "cell_type": "code",
   "execution_count": 60,
   "metadata": {},
   "outputs": [
    {
     "name": "stdout",
     "output_type": "stream",
     "text": [
      "35\n",
      "92\n",
      "31\n",
      "50\n",
      "11\n",
      "627\n"
     ]
    }
   ],
   "source": [
    "li = [int(input()) for _ in range(5)]\n",
    "a, b, c, d, e = li\n",
    "\n",
    "total_time = 0\n",
    "if a < 0:\n",
    "    total_time += -a * c + d\n",
    "    a = 0\n",
    "    \n",
    "total_time += e * (b - a)\n",
    "\n",
    "print(total_time)"
   ]
  },
  {
   "cell_type": "markdown",
   "metadata": {},
   "source": [
    "### 감정이입 14623"
   ]
  },
  {
   "cell_type": "code",
   "execution_count": 62,
   "metadata": {},
   "outputs": [
    {
     "name": "stdout",
     "output_type": "stream",
     "text": [
      "1000\n",
      "100\n",
      "100000\n"
     ]
    }
   ],
   "source": [
    "a = int(input(), 2)\n",
    "b = int(input(), 2)\n",
    "print(bin(a * b)[2:])"
   ]
  },
  {
   "cell_type": "markdown",
   "metadata": {},
   "source": [
    "### 수찬은 마린보이야!! 15921"
   ]
  },
  {
   "cell_type": "code",
   "execution_count": null,
   "metadata": {},
   "outputs": [],
   "source": [
    "n = int(input())\n",
    "if n > 0:\n",
    "    li = list(map(int, input().split()))\n",
    "\n",
    "if n == 0:\n",
    "    print('divide by zero')\n",
    "else:\n",
    "    print('1.00')"
   ]
  },
  {
   "cell_type": "markdown",
   "metadata": {},
   "source": [
    "### 카드 뽑기 16204"
   ]
  },
  {
   "cell_type": "code",
   "execution_count": 67,
   "metadata": {},
   "outputs": [
    {
     "name": "stdout",
     "output_type": "stream",
     "text": [
      "7 5 2\n",
      "4\n"
     ]
    }
   ],
   "source": [
    "n, m, k = map(int, input().split())\n",
    "\n",
    "same_o_count = min(m, k)\n",
    "same_x_count = min(n - m, n - k)\n",
    "\n",
    "print(same_o_count + same_x_count)"
   ]
  },
  {
   "cell_type": "markdown",
   "metadata": {},
   "source": [
    "### 베시와 데이지 16431"
   ]
  },
  {
   "cell_type": "code",
   "execution_count": 69,
   "metadata": {},
   "outputs": [
    {
     "name": "stdout",
     "output_type": "stream",
     "text": [
      "3 5\n",
      "1 1\n",
      "2 3\n",
      "bessie\n"
     ]
    }
   ],
   "source": [
    "bx, by = map(int, input().split())\n",
    "dx, dy = map(int, input().split())\n",
    "jx, jy = map(int, input().split())\n",
    "\n",
    "b = max(abs(jx - bx), abs(jy - by))\n",
    "d = abs(jx - dx) + abs(jy - dy)\n",
    "\n",
    "if b > d:\n",
    "    print('daisy')\n",
    "elif b < d:\n",
    "    print('bessie')\n",
    "else:\n",
    "    print('tie')"
   ]
  },
  {
   "cell_type": "markdown",
   "metadata": {},
   "source": [
    "### Winning Score 17009"
   ]
  },
  {
   "cell_type": "code",
   "execution_count": 71,
   "metadata": {},
   "outputs": [
    {
     "name": "stdout",
     "output_type": "stream",
     "text": [
      "7\n",
      "3\n",
      "0\n",
      "6\n",
      "4\n",
      "1\n",
      "T\n"
     ]
    }
   ],
   "source": [
    "li = [int(input()) for _ in range(6)]\n",
    "a3, a2, a1, b3, b2, b1 = li\n",
    "a = a3 * 3 + a2 * 2 + a1 * 1\n",
    "b = b3 * 3 + b2 * 2 + b1 * 1\n",
    "\n",
    "if a > b:\n",
    "    print('A')\n",
    "elif b > a:\n",
    "    print('B')\n",
    "else:\n",
    "    print('T')"
   ]
  },
  {
   "cell_type": "markdown",
   "metadata": {},
   "source": [
    "### 헛간 청약 19698"
   ]
  },
  {
   "cell_type": "code",
   "execution_count": 73,
   "metadata": {},
   "outputs": [
    {
     "name": "stdout",
     "output_type": "stream",
     "text": [
      "7 17 11 5\n",
      "6\n"
     ]
    }
   ],
   "source": [
    "n, w, h, l = map(int, input().split())\n",
    "\n",
    "max_value = (w // l) * (h // l)\n",
    "print(min(n, max_value))"
   ]
  },
  {
   "cell_type": "markdown",
   "metadata": {},
   "source": [
    "### Darius님 한타 안 함? 20499"
   ]
  },
  {
   "cell_type": "code",
   "execution_count": 78,
   "metadata": {},
   "outputs": [
    {
     "name": "stdout",
     "output_type": "stream",
     "text": [
      "0/0/1\n",
      "hasu\n"
     ]
    }
   ],
   "source": [
    "s = input()\n",
    "li = s.split('/')\n",
    "li = map(int, li)\n",
    "k, d, a = li\n",
    "\n",
    "if k + a < d or d == 0:\n",
    "    print('hasu')\n",
    "else:\n",
    "    print('gosu')"
   ]
  },
  {
   "cell_type": "markdown",
   "metadata": {},
   "source": [
    "### 부호 1247"
   ]
  },
  {
   "cell_type": "code",
   "execution_count": 80,
   "metadata": {},
   "outputs": [
    {
     "name": "stdout",
     "output_type": "stream",
     "text": [
      "3\n",
      "0\n",
      "0\n",
      "0\n",
      "0\n",
      "10\n",
      "1\n",
      "2\n",
      "4\n",
      "8\n",
      "16\n",
      "32\n",
      "64\n",
      "128\n",
      "256\n",
      "-512\n",
      "-\n",
      "6\n",
      "9\n",
      "8\n",
      "7\n",
      "1\n",
      "2\n",
      "3\n",
      "+\n"
     ]
    }
   ],
   "source": [
    "import sys\n",
    "# input = sys.stdin.readline\n",
    "\n",
    "for _ in range(3):\n",
    "    n = int(input().rstrip())\n",
    "    li = [int(input().rstrip()) for _ in range(n)]\n",
    "    value = sum(li)\n",
    "    \n",
    "    if value == 0:\n",
    "        print(0)\n",
    "    elif value < 0:\n",
    "        print('-')\n",
    "    else:\n",
    "        print('+')"
   ]
  },
  {
   "cell_type": "markdown",
   "metadata": {},
   "source": [
    "### 핸드폰 요금 1267"
   ]
  },
  {
   "cell_type": "code",
   "execution_count": 87,
   "metadata": {},
   "outputs": [
    {
     "name": "stdout",
     "output_type": "stream",
     "text": [
      "3\n",
      "29 29 29\n",
      "10\n",
      "10\n",
      "10\n",
      "Y 45\n"
     ]
    }
   ],
   "source": [
    "n = int(input())\n",
    "li = list(map(int, input().split()))\n",
    "\n",
    "total_cost_y = 0\n",
    "for value in li:\n",
    "    total_cost_y += (value // 30) * 10 + 10\n",
    "        \n",
    "total_cost_m = 0\n",
    "for value in li:\n",
    "    total_cost_m += (value // 60) * 15 + 15\n",
    "        \n",
    "if total_cost_y > total_cost_m:\n",
    "    print(f'M {total_cost_m}')\n",
    "elif total_cost_y < total_cost_m:\n",
    "    print(f'Y {total_cost_y}')\n",
    "else:\n",
    "    print(f'Y M {total_cost_m}')"
   ]
  },
  {
   "cell_type": "markdown",
   "metadata": {},
   "source": [
    "### 카풀 매칭 17280"
   ]
  },
  {
   "cell_type": "code",
   "execution_count": 94,
   "metadata": {},
   "outputs": [
    {
     "name": "stdout",
     "output_type": "stream",
     "text": [
      "3\n",
      "3 3\n",
      "10 20 30\n",
      "8 8\n",
      "2 18\n",
      "25 35\n",
      "2\n",
      "4 4\n",
      "2 3 4 5\n",
      "1 4\n",
      "2 4\n",
      "3 5\n",
      "3 4\n",
      "3\n",
      "3 3\n",
      "1 2 3\n",
      "10 20\n",
      "30 40\n",
      "50 60\n",
      "0\n"
     ]
    }
   ],
   "source": [
    "import sys\n",
    "from collections import deque\n",
    "# input = sys.stdin.readline\n",
    "\n",
    "for _ in range(int(input())):\n",
    "    n, m = map(int, input().rstrip().split())\n",
    "    customers = list(map(int, input().rstrip().split()))\n",
    "    li = [list(map(int, input().rstrip().split())) for _ in range(m)]\n",
    "\n",
    "    customers.sort()\n",
    "    li.sort(key=lambda x: (x[1], -x[0]))\n",
    "    deq = deque(li)\n",
    "\n",
    "    result = 0\n",
    "    for c in customers:\n",
    "        if not deq:\n",
    "            break\n",
    "\n",
    "        while deq:     \n",
    "            s, e = deq.popleft()\n",
    "\n",
    "            if s <= c <= e:\n",
    "                result += 1\n",
    "                break\n",
    "            elif s > c:\n",
    "                deq.appendleft((s, e))\n",
    "                break\n",
    "    print(result)"
   ]
  },
  {
   "cell_type": "markdown",
   "metadata": {},
   "source": [
    "### 집 주소 1284"
   ]
  },
  {
   "cell_type": "code",
   "execution_count": 97,
   "metadata": {},
   "outputs": [
    {
     "name": "stdout",
     "output_type": "stream",
     "text": [
      "100\n",
      "14\n"
     ]
    }
   ],
   "source": [
    "while True:\n",
    "    s = input()\n",
    "    if s == '0':\n",
    "        break\n",
    "    \n",
    "    total = len(s) + 1\n",
    "    for value in s:\n",
    "        if value == '0':\n",
    "            total += 4\n",
    "        elif value == '1':\n",
    "            total += 2\n",
    "        else:\n",
    "            total += 3\n",
    "    print(total)"
   ]
  },
  {
   "cell_type": "markdown",
   "metadata": {},
   "source": [
    "### 꼬리를 무는 숫자 나열 1598"
   ]
  },
  {
   "cell_type": "code",
   "execution_count": 98,
   "metadata": {},
   "outputs": [
    {
     "name": "stdout",
     "output_type": "stream",
     "text": [
      "11 33\n",
      "8\n"
     ]
    }
   ],
   "source": [
    "a, b = map(int, input().split())\n",
    "\n",
    "ax = (a - 1) // 4\n",
    "ay = (a - 1) % 4\n",
    "bx = (b - 1) // 4\n",
    "by = (b - 1) % 4\n",
    "\n",
    "print(abs(ax - bx) + abs(ay - by))"
   ]
  },
  {
   "cell_type": "markdown",
   "metadata": {},
   "source": [
    "### 암호제작 1837"
   ]
  },
  {
   "cell_type": "code",
   "execution_count": 100,
   "metadata": {},
   "outputs": [
    {
     "name": "stdout",
     "output_type": "stream",
     "text": [
      "143 10\n",
      "GOOD\n"
     ]
    }
   ],
   "source": [
    "p, k = map(int, input().split())\n",
    "\n",
    "if p <= k:\n",
    "    print('GOOD')\n",
    "else:\n",
    "    for i in range(2, k + 1):\n",
    "        if p % i == 0:\n",
    "            print('BAD', i)\n",
    "            break\n",
    "    else:\n",
    "        print('GOOD')"
   ]
  },
  {
   "cell_type": "markdown",
   "metadata": {},
   "source": [
    "### 과목선택 11948"
   ]
  },
  {
   "cell_type": "code",
   "execution_count": 1,
   "metadata": {},
   "outputs": [
    {
     "name": "stdout",
     "output_type": "stream",
     "text": [
      "100\n",
      "34\n",
      "76\n",
      "42\n",
      "10\n",
      "0\n",
      "228\n"
     ]
    }
   ],
   "source": [
    "li = [int(input()) for _ in range(6)]\n",
    "print(sum(li) - min(li[:4]) - min(li[-2:]))"
   ]
  },
  {
   "cell_type": "markdown",
   "metadata": {},
   "source": [
    "### 노솔브 방지문제야!! 15917"
   ]
  },
  {
   "cell_type": "code",
   "execution_count": 2,
   "metadata": {},
   "outputs": [
    {
     "name": "stdout",
     "output_type": "stream",
     "text": [
      "10\n",
      "1\n",
      "1\n",
      "2\n",
      "1\n",
      "7\n",
      "0\n",
      "4\n",
      "1\n",
      "14\n",
      "0\n",
      "32\n",
      "1\n",
      "33\n",
      "0\n",
      "34\n",
      "0\n",
      "35\n",
      "0\n",
      "36\n",
      "0\n"
     ]
    }
   ],
   "source": [
    "import sys\n",
    "from math import log2\n",
    "# input = sys.stdin.readline\n",
    "\n",
    "q = int(input().rstrip())\n",
    "for _ in range(q):\n",
    "    value = int(input().rstrip())\n",
    "    if log2(value) == int(log2(value)):\n",
    "        print(1)\n",
    "    else:\n",
    "        print(0)"
   ]
  },
  {
   "cell_type": "markdown",
   "metadata": {},
   "source": [
    "### 작은 수 내기 16471"
   ]
  },
  {
   "cell_type": "code",
   "execution_count": 19,
   "metadata": {},
   "outputs": [
    {
     "name": "stdout",
     "output_type": "stream",
     "text": [
      "5\n",
      "8 7 6 5 4\n",
      "4 4 4 4 4\n",
      "NO\n"
     ]
    }
   ],
   "source": [
    "n = int(input())\n",
    "a = list(map(lambda x: -int(x), input().split()))\n",
    "b = list(map(lambda x: -int(x), input().split()))\n",
    "\n",
    "a.sort(reverse=True)\n",
    "b.sort(reverse=True)\n",
    "\n",
    "score = 0\n",
    "current_b_index = 0\n",
    "for current_a in a:\n",
    "    while current_b_index < len(b):\n",
    "        if b[current_b_index] < current_a:\n",
    "            score += 1\n",
    "            current_b_index += 1\n",
    "            break\n",
    "        current_b_index += 1\n",
    "    if current_b_index >= len(b):\n",
    "        break\n",
    "        \n",
    "if score >= (n + 1) // 2:\n",
    "    print('YES')\n",
    "else:\n",
    "    print('NO')"
   ]
  },
  {
   "cell_type": "markdown",
   "metadata": {},
   "source": [
    "### 마인크래프트 18111"
   ]
  },
  {
   "cell_type": "code",
   "execution_count": 24,
   "metadata": {},
   "outputs": [
    {
     "name": "stdout",
     "output_type": "stream",
     "text": [
      "3 4 1\n",
      "64 64 64 64\n",
      "64 64 64 64\n",
      "64 64 64 63\n",
      "[63, 64, 64, 64, 64, 64, 64, 64, 64, 64, 64, 64]\n"
     ]
    }
   ],
   "source": [
    "from collections import deque\n",
    "\n",
    "total = 0\n",
    "n, m, b = map(int, input().split())\n",
    "li = [list(map(int, input().split())) for _ in range(n)]\n",
    "li = sum(li, [])\n",
    "li.sort()\n"
   ]
  },
  {
   "cell_type": "code",
   "execution_count": null,
   "metadata": {},
   "outputs": [],
   "source": []
  },
  {
   "cell_type": "code",
   "execution_count": null,
   "metadata": {},
   "outputs": [],
   "source": [
    "50\n",
    "\n",
    "10 10 10 10 10 10 10 10 10 20\n",
    "10 10 10 10 10 10 10 10 10 10\n",
    "    \n",
    "10 20 20 20 20 20 20 20 20 20\n",
    "20 20 20 20 20 20 20 20 20 20\n",
    "\n",
    "50\n",
    "1 1 1 1 1 2 2\n"
   ]
  },
  {
   "cell_type": "markdown",
   "metadata": {},
   "source": [
    "### 괄호의 값 2504"
   ]
  },
  {
   "cell_type": "code",
   "execution_count": 78,
   "metadata": {},
   "outputs": [
    {
     "name": "stdout",
     "output_type": "stream",
     "text": [
      "[()(()())]\n",
      "30\n"
     ]
    }
   ],
   "source": [
    "s = input()\n",
    "\n",
    "def recur(s):\n",
    "    total = 0\n",
    "    stack = []\n",
    "    start_index = 0\n",
    "    end_index = float('inf')\n",
    "    for index, value in enumerate(s):\n",
    "        if value == '(' or value == '[':\n",
    "            stack.append(value)\n",
    "        else:\n",
    "            v = stack.pop()\n",
    "            if not stack:\n",
    "                end_index = index\n",
    "                if value == ')':\n",
    "                    if start_index + 1 == end_index:\n",
    "                        total += 2\n",
    "                    else:\n",
    "                        total += 2 * recur(s[start_index + 1: end_index])\n",
    "                else:\n",
    "                    if start_index + 1 == end_index:\n",
    "                        total += 3\n",
    "                    else:\n",
    "                        total += 3 * recur(s[start_index + 1: end_index])\n",
    "                start_index = end_index + 1     \n",
    "    return total\n",
    "\n",
    "stack = []\n",
    "check = True\n",
    "for value in s:\n",
    "    if value == '(' or value == '[':\n",
    "        stack.append(value)\n",
    "    else:\n",
    "        if not stack:\n",
    "            check = False\n",
    "            break\n",
    "            \n",
    "        v = stack.pop()\n",
    "        if value == ']' and v != '[' or value == ')' and v != '(':\n",
    "            check = False\n",
    "            break\n",
    "            \n",
    "if len(stack) >= 1:\n",
    "    check = False\n",
    "    \n",
    "if not check:\n",
    "    print(0)\n",
    "else:\n",
    "    print(recur(s))"
   ]
  },
  {
   "cell_type": "code",
   "execution_count": 80,
   "metadata": {},
   "outputs": [
    {
     "name": "stdout",
     "output_type": "stream",
     "text": [
      "[()(()())]\n",
      "[]\n",
      "['[']\n",
      "['[', '(']\n",
      "['[', 2]\n",
      "['[', 2, '(']\n",
      "['[', 2, '(', '(']\n",
      "['[', 2, '(', 2]\n",
      "['[', 2, '(', 2, '(']\n",
      "['[', 2, '(', 2, 2]\n",
      "['[', 2, 8]\n",
      "30\n"
     ]
    }
   ],
   "source": [
    "stack = []\n",
    "possible = True\n",
    "\n",
    "stat = input()\n",
    "\n",
    "for s in stat:\n",
    "    if s == \"(\" or s == \"[\":\n",
    "        stack.append(s)\n",
    "    elif s == \")\":\n",
    "        if not stack or stack[-1] != \"(\":\n",
    "            possible = False\n",
    "            break\n",
    "        else:\n",
    "            stack.pop()\n",
    "    elif s == \"]\":\n",
    "        if not stack or stack[-1] != \"[\":\n",
    "            possible = False\n",
    "            break\n",
    "        else:\n",
    "            stack.pop()\n",
    "\n",
    "if not possible or stack:\n",
    "    print(0)\n",
    "else:\n",
    "    stack = []\n",
    "    for s in stat:\n",
    "        print(stack)\n",
    "        if s == \"(\" or s == \"[\":\n",
    "            stack.append(s)\n",
    "        elif s == \")\":\n",
    "            temp = 0\n",
    "            while stack[-1] != \"(\":\n",
    "                temp += stack.pop()\n",
    "            stack.pop()\n",
    "            if temp:\n",
    "                stack.append(temp * 2)\n",
    "            else:\n",
    "                stack.append(2)\n",
    "        elif s == \"]\":\n",
    "            temp = 0\n",
    "            while stack[-1] != \"[\":\n",
    "                temp += stack.pop()\n",
    "            stack.pop()\n",
    "            if temp:\n",
    "                stack.append(temp * 3)\n",
    "            else:\n",
    "                stack.append(3)\n",
    "\n",
    "    answer = 0\n",
    "\n",
    "    while stack:\n",
    "        answer += stack.pop()\n",
    "\n",
    "    print(answer)\n"
   ]
  },
  {
   "cell_type": "markdown",
   "metadata": {},
   "source": [
    "### 안정적인 문자열 4889"
   ]
  },
  {
   "cell_type": "code",
   "execution_count": 87,
   "metadata": {},
   "outputs": [
    {
     "name": "stdout",
     "output_type": "stream",
     "text": [
      "--\n"
     ]
    }
   ],
   "source": [
    "i = 1\n",
    "while True:\n",
    "    s = input()\n",
    "    if '-' in s:\n",
    "        break\n",
    "    \n",
    "    count = 0\n",
    "    stack = []\n",
    "    for value in s:\n",
    "        if value == '{':\n",
    "            stack.append(value)\n",
    "        else:\n",
    "            if not stack:\n",
    "                count += 1\n",
    "                stack.append('{')\n",
    "            else:\n",
    "                stack.pop()\n",
    "                \n",
    "    count += len(stack) // 2\n",
    "    print(f'{i}. {count}')\n",
    "    i += 1"
   ]
  },
  {
   "cell_type": "markdown",
   "metadata": {},
   "source": [
    "### 수영장 만들기 1113"
   ]
  },
  {
   "cell_type": "code",
   "execution_count": 52,
   "metadata": {},
   "outputs": [
    {
     "name": "stdout",
     "output_type": "stream",
     "text": [
      "3 4\n",
      "9999\n",
      "9789\n",
      "9999\n",
      "3\n"
     ]
    }
   ],
   "source": [
    "from heapq import heappush, heappop\n",
    "from collections import deque\n",
    "\n",
    "n, m = map(int, input().split())\n",
    "li = [list(map(int, input())) for _ in range(n)]\n",
    "\n",
    "heap = []\n",
    "for i in range(n):\n",
    "    for j in range(m):\n",
    "        heappush(heap, (li[i][j], i, j))\n",
    "\n",
    "dx = [-1, 1, 0, 0]\n",
    "dy = [0, 0, -1, 1]\n",
    "        \n",
    "total = 0\n",
    "while heap:\n",
    "    value, x, y = heappop(heap)\n",
    "    temp = set()\n",
    "    \n",
    "    while heap:\n",
    "        v, vx, vy = heappop(heap)\n",
    "        if v == value:\n",
    "            temp.add((vx, vy))\n",
    "        else:\n",
    "            heappush(heap, (v, vx, vy))\n",
    "            break\n",
    "    \n",
    "    queue = deque()\n",
    "    queue.append((x, y))\n",
    "    \n",
    "    visited = [[False] * m for _ in range(n)]\n",
    "    visited[x][y] = True\n",
    "    \n",
    "    target_height = float('inf')\n",
    "    is_need_to_fill = True\n",
    "    selected_tiles = {(x, y)}\n",
    "    while queue:\n",
    "        vx, vy = queue.popleft()\n",
    "        \n",
    "        for i in range(4):\n",
    "            nx = vx + dx[i]\n",
    "            ny = vy + dy[i]\n",
    "            \n",
    "            if nx < 0 or nx >= n or ny < 0 or ny >= m:\n",
    "                is_need_to_fill = False\n",
    "                continue\n",
    "            if visited[nx][ny]:\n",
    "                continue\n",
    "            visited[nx][ny] = True\n",
    "            \n",
    "            if li[nx][ny] < value:\n",
    "                is_need_to_fill = False\n",
    "            elif li[nx][ny] == value:\n",
    "                selected_tiles.add((nx, ny))\n",
    "                queue.append((nx, ny))\n",
    "            else:\n",
    "                target_height = min(target_height, li[nx][ny])\n",
    "    \n",
    "    to_return = temp - selected_tiles\n",
    "    for rx, ry in to_return:\n",
    "        heappush(heap, (value, rx, ry))\n",
    "\n",
    "    if is_need_to_fill:\n",
    "        total += len(selected_tiles) * (target_height - value)\n",
    "        for tx, ty in selected_tiles:\n",
    "            li[tx][ty] = target_height\n",
    "            heappush(heap, (target_height, tx, ty))\n",
    "print(total)"
   ]
  },
  {
   "cell_type": "markdown",
   "metadata": {},
   "source": [
    "### 수영장 사장님 15730"
   ]
  },
  {
   "cell_type": "code",
   "execution_count": 55,
   "metadata": {},
   "outputs": [
    {
     "name": "stdout",
     "output_type": "stream",
     "text": [
      "4 5\n",
      "4 5 3 4 2\n",
      "3 2 5 2 5\n",
      "4 1 2 3 1\n",
      "1 3 3 2 3\n",
      "5\n"
     ]
    }
   ],
   "source": [
    "from heapq import heappush, heappop\n",
    "from collections import deque\n",
    "\n",
    "n, m = map(int, input().split())\n",
    "li = [list(map(int, input().split())) for _ in range(n)]\n",
    "\n",
    "heap = []\n",
    "for i in range(n):\n",
    "    for j in range(m):\n",
    "        heappush(heap, (li[i][j], i, j))\n",
    "\n",
    "dx = [-1, 1, 0, 0]\n",
    "dy = [0, 0, -1, 1]\n",
    "        \n",
    "total = 0\n",
    "while heap:\n",
    "    value, x, y = heappop(heap)\n",
    "    temp = set()\n",
    "    \n",
    "    while heap:\n",
    "        v, vx, vy = heappop(heap)\n",
    "        if v == value:\n",
    "            temp.add((vx, vy))\n",
    "        else:\n",
    "            heappush(heap, (v, vx, vy))\n",
    "            break\n",
    "    \n",
    "    queue = deque()\n",
    "    queue.append((x, y))\n",
    "    \n",
    "    visited = [[False] * m for _ in range(n)]\n",
    "    visited[x][y] = True\n",
    "    \n",
    "    target_height = float('inf')\n",
    "    is_need_to_fill = True\n",
    "    selected_tiles = {(x, y)}\n",
    "    while queue:\n",
    "        vx, vy = queue.popleft()\n",
    "        \n",
    "        for i in range(4):\n",
    "            nx = vx + dx[i]\n",
    "            ny = vy + dy[i]\n",
    "            \n",
    "            if nx < 0 or nx >= n or ny < 0 or ny >= m:\n",
    "                is_need_to_fill = False\n",
    "                continue\n",
    "            if visited[nx][ny]:\n",
    "                continue\n",
    "            visited[nx][ny] = True\n",
    "            \n",
    "            if li[nx][ny] < value:\n",
    "                is_need_to_fill = False\n",
    "            elif li[nx][ny] == value:\n",
    "                selected_tiles.add((nx, ny))\n",
    "                queue.append((nx, ny))\n",
    "            else:\n",
    "                target_height = min(target_height, li[nx][ny])\n",
    "    \n",
    "    to_return = temp - selected_tiles\n",
    "    for rx, ry in to_return:\n",
    "        heappush(heap, (value, rx, ry))\n",
    "\n",
    "    if is_need_to_fill:\n",
    "        total += len(selected_tiles) * (target_height - value)\n",
    "        for tx, ty in selected_tiles:\n",
    "            li[tx][ty] = target_height\n",
    "            heappush(heap, (target_height, tx, ty))\n",
    "print(total)"
   ]
  },
  {
   "cell_type": "markdown",
   "metadata": {},
   "source": [
    "### 전쟁 - 전투 1303"
   ]
  },
  {
   "cell_type": "code",
   "execution_count": 92,
   "metadata": {},
   "outputs": [
    {
     "name": "stdout",
     "output_type": "stream",
     "text": [
      "5 5\n",
      "WBWWW\n",
      "WWWWW\n",
      "BBBBB\n",
      "BBBWW\n",
      "WWWWW\n",
      "130 65\n"
     ]
    }
   ],
   "source": [
    "from collections import deque\n",
    "\n",
    "n, m = map(int, input().split())\n",
    "li = [input() for _ in range(m)]\n",
    "\n",
    "dx = [-1, 1, 0, 0]\n",
    "dy = [0, 0, -1, 1]\n",
    "\n",
    "total_w = 0\n",
    "total_b = 0\n",
    "visited = [[False] * n for _ in range(m)]\n",
    "for sx in range(m):\n",
    "    for sy in range(n):\n",
    "        if visited[sx][sy]:\n",
    "            continue\n",
    "        visited[sx][sy] = True\n",
    "        \n",
    "        queue = deque()\n",
    "        queue.append((sx, sy))\n",
    "        \n",
    "        count = 1\n",
    "        while queue:\n",
    "            x, y = queue.popleft()\n",
    "            \n",
    "            for i in range(4):\n",
    "                nx = x + dx[i]\n",
    "                ny = y + dy[i]\n",
    "                \n",
    "                if nx < 0 or nx >= m or ny < 0 or ny >= n:\n",
    "                    continue\n",
    "                if li[nx][ny] == li[sx][sy]:\n",
    "                    if not visited[nx][ny]:\n",
    "                        visited[nx][ny] = True\n",
    "                        count += 1\n",
    "                        queue.append((nx, ny))\n",
    "        if li[sx][sy] == 'W':\n",
    "            total_w += count ** 2\n",
    "        else:\n",
    "            total_b += count ** 2\n",
    "\n",
    "print(total_w, total_b)"
   ]
  },
  {
   "cell_type": "markdown",
   "metadata": {},
   "source": [
    "### 스도쿠 2580"
   ]
  },
  {
   "cell_type": "code",
   "execution_count": null,
   "metadata": {},
   "outputs": [],
   "source": [
    "0 1 2 3 4 5 6 7 8 9"
   ]
  },
  {
   "cell_type": "code",
   "execution_count": 106,
   "metadata": {},
   "outputs": [
    {
     "name": "stdout",
     "output_type": "stream",
     "text": [
      "0 3 5 4 6 9 2 7 8\n",
      "7 8 2 1 0 5 6 0 9\n",
      "0 6 0 2 7 8 1 3 5\n",
      "3 2 1 0 4 6 8 9 7\n",
      "8 0 4 9 1 3 5 0 6\n",
      "5 9 6 8 2 0 4 1 3\n",
      "9 1 7 6 5 2 0 8 0\n",
      "6 0 3 7 0 1 9 5 2\n",
      "2 5 8 3 9 4 7 6 0\n"
     ]
    }
   ],
   "source": [
    "li = [list(map(int, input().split())) for _ in range(9)]"
   ]
  },
  {
   "cell_type": "code",
   "execution_count": 122,
   "metadata": {},
   "outputs": [],
   "source": [
    "from copy import deepcopy\n",
    "\n",
    "def get_cands(li, x, y):\n",
    "    used = set()\n",
    "    for i in range(x // 3 * 3, x // 3 * 3 + 3):\n",
    "        for j in range(y // 3 * 3, y // 3 * 3 + 3):\n",
    "            used.add(li[i][j])\n",
    "            \n",
    "    for i in range(9):\n",
    "        used.add(li[x][i])\n",
    "        used.add(li[i][y])\n",
    "\n",
    "    return st - used\n",
    "\n",
    "st = set(range(1, 10))\n",
    "blanks = []\n",
    "for i in range(9):\n",
    "    for j in range(9):\n",
    "        if li[i][j] == 0:\n",
    "            blanks.append((i, j))"
   ]
  },
  {
   "cell_type": "code",
   "execution_count": 125,
   "metadata": {},
   "outputs": [
    {
     "name": "stdout",
     "output_type": "stream",
     "text": [
      "[1, 3, 5, 4, 6, 9, 2, 7, 8]\n",
      "[7, 8, 2, 1, 3, 5, 6, 4, 9]\n",
      "[4, 6, 9, 2, 7, 8, 1, 3, 5]\n",
      "[3, 2, 1, 5, 4, 6, 8, 9, 7]\n",
      "[8, 7, 4, 9, 1, 3, 5, 2, 6]\n",
      "[5, 9, 6, 8, 2, 7, 4, 1, 3]\n",
      "[9, 1, 7, 6, 5, 2, 3, 8, 4]\n",
      "[6, 4, 3, 7, 8, 1, 9, 5, 2]\n",
      "[2, 5, 8, 3, 9, 4, 7, 6, 1]\n"
     ]
    }
   ],
   "source": [
    "from copy import deepcopy\n",
    "\n",
    "li = [list(map(int, input().split())) for _ in range(9)]\n",
    "\n",
    "def get_cands(li, x, y):\n",
    "    used = set()\n",
    "    for i in range(x // 3 * 3, x // 3 * 3 + 3):\n",
    "        for j in range(y // 3 * 3, y // 3 * 3 + 3):\n",
    "            used.add(li[i][j])\n",
    "            \n",
    "    for i in range(9):\n",
    "        used.add(li[x][i])\n",
    "        used.add(li[i][y])\n",
    "\n",
    "    return st - used\n",
    "\n",
    "st = set(range(1, 10))\n",
    "blanks = []\n",
    "for i in range(9):\n",
    "    for j in range(9):\n",
    "        if li[i][j] == 0:\n",
    "            blanks.append((i, j))\n",
    "\n",
    "def dfs(li, current_blank_index): \n",
    "    x, y = blanks[current_blank_index]\n",
    "    cands = get_cands(li, x, y)\n",
    "    \n",
    "    if cands:\n",
    "        if current_blank_index == len(blanks) - 1:\n",
    "            li[x][y] = cands.pop()\n",
    "            return li\n",
    "        else:\n",
    "            for cand in cands:\n",
    "                new_li = deepcopy(li)\n",
    "                new_li[x][y] = cand\n",
    "                return dfs(new_li, current_blank_index + 1)\n",
    "        \n",
    "result = dfs(li, 0)\n",
    "for v in result:\n",
    "    print(v)"
   ]
  },
  {
   "cell_type": "markdown",
   "metadata": {},
   "source": [
    "### 쉬운 계단 수 10844"
   ]
  },
  {
   "cell_type": "code",
   "execution_count": 10,
   "metadata": {},
   "outputs": [
    {
     "name": "stdout",
     "output_type": "stream",
     "text": [
      "2\n",
      "17\n"
     ]
    }
   ],
   "source": [
    "mod = 1000000000\n",
    "\n",
    "n = int(input())\n",
    "dp = [[0, 1, 1, 1, 1, 1, 1, 1, 1, 1]]\n",
    "for _ in range(1, n):\n",
    "    li = [0] * 10\n",
    "    li[0] = dp[-1][1]\n",
    "    li[9] = dp[-1][8]\n",
    "    \n",
    "    for i in range(1, 9):\n",
    "        li[i] = (dp[-1][i - 1] + dp[-1][i + 1]) % mod\n",
    "    dp.append(li)\n",
    "    \n",
    "print(sum(dp[-1]) % mod)"
   ]
  },
  {
   "cell_type": "markdown",
   "metadata": {},
   "source": [
    "### 팰린드롬 만들기 1695"
   ]
  },
  {
   "cell_type": "code",
   "execution_count": 3,
   "metadata": {},
   "outputs": [
    {
     "name": "stdout",
     "output_type": "stream",
     "text": [
      "4\n",
      "1 2 3 2\n",
      "1\n"
     ]
    }
   ],
   "source": [
    "n = int(input())\n",
    "li = list(map(int, input().split()))\n",
    "r = list(reversed(li))\n",
    "\n",
    "dp = [[0] * (n + 1) for _ in range(n + 1)]\n",
    "for i in range(1, n + 1):\n",
    "    for j in range(1, n + 1):\n",
    "        dp[i][j] = max(dp[i - 1][j], dp[i][j - 1])\n",
    "        if li[i - 1] == r[j - 1]:\n",
    "            dp[i][j] = max(dp[i][j], dp[i - 1][j - 1] + 1)\n",
    "            \n",
    "print(n - dp[-1][-1])"
   ]
  },
  {
   "cell_type": "markdown",
   "metadata": {},
   "source": [
    "### 팰린드롬 5502"
   ]
  },
  {
   "cell_type": "code",
   "execution_count": 5,
   "metadata": {},
   "outputs": [
    {
     "name": "stdout",
     "output_type": "stream",
     "text": [
      "5\n",
      "Ab3bd\n",
      "2\n"
     ]
    }
   ],
   "source": [
    "n = int(input())\n",
    "li = list(input())\n",
    "r = list(reversed(li))\n",
    "\n",
    "dp = [[0] * (n + 1) for _ in range(n + 1)]\n",
    "for i in range(1, n + 1):\n",
    "    for j in range(1, n + 1):\n",
    "        dp[i][j] = max(dp[i - 1][j], dp[i][j - 1])\n",
    "        if li[i - 1] == r[j - 1]:\n",
    "            dp[i][j] = max(dp[i][j], dp[i - 1][j - 1] + 1)\n",
    "            \n",
    "print(n - dp[-1][-1])"
   ]
  },
  {
   "cell_type": "markdown",
   "metadata": {},
   "source": [
    "### 경찰차 2618"
   ]
  },
  {
   "cell_type": "code",
   "execution_count": 10,
   "metadata": {},
   "outputs": [
    {
     "name": "stdout",
     "output_type": "stream",
     "text": [
      "4\n",
      "2\n",
      "2 2\n",
      "1 1\n",
      "4\n"
     ]
    }
   ],
   "source": [
    "# 그리디 풀이\n",
    "\n",
    "n = int(input())\n",
    "w = int(input())\n",
    "\n",
    "def get_num(x):\n",
    "    return int(x) - 1\n",
    "\n",
    "def get_dist(car_x, car_y, x, y):\n",
    "    return abs(car_x - x) + abs(car_y - y)\n",
    "    \n",
    "li = [tuple(map(get_num, input().split())) for _ in range(w)]\n",
    "\n",
    "current = [[0, 0], [n - 1, n - 1]]\n",
    "total_dist = 0\n",
    "for x, y in li:\n",
    "    dist1 = get_dist(current[0][0], current[0][1], x, y)\n",
    "    dist2 = get_dist(current[1][0], current[1][1], x, y)\n",
    "    if dist1 > dist2:\n",
    "        total_dist += dist2\n",
    "        current[1][0] = x\n",
    "        current[1][1] = y\n",
    "    else:\n",
    "        total_dist += dist1\n",
    "        current[0][0] = x\n",
    "        current[0][1] = y\n",
    "        \n",
    "print(total_dist)"
   ]
  },
  {
   "cell_type": "code",
   "execution_count": null,
   "metadata": {},
   "outputs": [],
   "source": [
    "그리디식으로 하면 하나가 중앙쪽으로 갔다가 다시 자기쪽으로 돌아와야하는 경우를 캐치하지 못함\n",
    "\n",
    "사건 여러 개가 두 군데만 계속 왔다갔다한다고 했을 때\n",
    "\n",
    "a 있는 구석과 a쪽 좌표에 번갈아 일어난다고 할 때\n",
    "과연 경찰차2가 a쪽 좌표에 한번 상주하는 것이 나을까 아니면 경찰차1이 계속 왕복하는 것이 더 나을까?\n",
    "\n",
    "도로의 개수를 나타내는 정수 N이 과연 시간 복잡도에 영향을 줄 수가 있나?\n",
    "\n",
    "\n",
    "4\n",
    "2\n",
    "2 2\n",
    "1 1\n",
    "4 -> 2"
   ]
  },
  {
   "cell_type": "code",
   "execution_count": 26,
   "metadata": {},
   "outputs": [
    {
     "name": "stdout",
     "output_type": "stream",
     "text": [
      "6\n",
      "3\n",
      "3 5\n",
      "5 5\n",
      "2 3\n"
     ]
    }
   ],
   "source": [
    "n = int(input())\n",
    "w = int(input())\n",
    "\n",
    "def get_dist(coord1, coord2):\n",
    "    return abs(coord1[0] - coord2[0]) + abs(coord1[1] - coord2[1])\n",
    "    \n",
    "li = [tuple(map(int, input().split())) for _ in range(w)]"
   ]
  },
  {
   "cell_type": "code",
   "execution_count": null,
   "metadata": {},
   "outputs": [],
   "source": [
    "dp[x][y]에서 x 또는 y가 n이 되면 후보로써 비교함"
   ]
  },
  {
   "cell_type": "code",
   "execution_count": 131,
   "metadata": {},
   "outputs": [
    {
     "name": "stdout",
     "output_type": "stream",
     "text": [
      "1 {(0, 0)}\n",
      "2 {(1, 0), (0, 1)}\n",
      "3 {(0, 2), (1, 2), (2, 0), (2, 1)}\n",
      "9\n",
      "[3, 2]\n",
      "[0, 2]\n",
      "[0, 1]\n",
      "[1, 2, 2]\n"
     ]
    }
   ],
   "source": [
    "n = int(input())\n",
    "w = int(input())\n",
    "\n",
    "def get_num(x):\n",
    "    return int(x) - 1\n",
    "\n",
    "def get_dist(coord1, coord2):\n",
    "    return abs(coord1[0] - coord2[0]) + abs(coord1[1] - coord2[1])\n",
    "    \n",
    "li = [tuple(map(get_num, input().split())) for _ in range(w)]\n",
    "\n",
    "# dp[경찰차1이 현재 맡은 사건 번호][경찰차2가 현재 맡은 사건 번호], 사건 번호는 0부터 시작함\n",
    "dp = [[float('inf')] * (w + 1) for _ in range(w + 1)] # 후에 -1로 바꾸는거 고려\n",
    "dp[0][0] = 0\n",
    "_from = [[-1] * (w + 1) for _ in range(w + 1)]\n",
    "st = set()\n",
    "st.add((0, 0))\n",
    "\n",
    "cand = float('inf')\n",
    "for i in range(1, w + 1):\n",
    "    print(i, st)\n",
    "    nst = set()\n",
    "    for car1_event_num, car2_event_num in st:\n",
    "        # 경찰차1이 새로운 사건 좌표로 이동하는 경우\n",
    "        nst.add((i, car2_event_num))\n",
    "        if car1_event_num == 0:\n",
    "            former_coord = (0, 0)\n",
    "        else:\n",
    "            former_coord = li[car1_event_num - 1]\n",
    "            \n",
    "        dist = get_dist(former_coord, li[i - 1])\n",
    "        if dp[car1_event_num][car2_event_num] + dist < dp[i][car2_event_num]:\n",
    "            dp[i][car2_event_num] = dp[car1_event_num][car2_event_num] + dist\n",
    "            _from[i][car2_event_num] = [car1_event_num, car2_event_num]\n",
    "        \n",
    "        \n",
    "        # 경찰차2가 새로운 사건 좌표로 이동하는 경우\n",
    "        nst.add((car1_event_num, i))\n",
    "        if car2_event_num == 0:\n",
    "            former_coord = (n - 1, n - 1)\n",
    "        else:\n",
    "            former_coord = li[car2_event_num - 1]       \n",
    "            \n",
    "        dist = get_dist(former_coord, li[i - 1])\n",
    "        if dp[car1_event_num][car2_event_num] + dist < dp[car1_event_num][i]:\n",
    "            dp[car1_event_num][i] = dp[car1_event_num][car2_event_num] + dist\n",
    "            _from[car1_event_num][i] = [car1_event_num, car2_event_num]\n",
    "        \n",
    "    st = nst.copy()\n",
    "    \n",
    "min_dist = float('inf')\n",
    "coord = [-1, -1]\n",
    "for i in range(w):\n",
    "    if dp[i][w] < min_dist:\n",
    "        min_dist = dp[i][w]\n",
    "        coord[0] = i\n",
    "        coord[1] = w\n",
    "        \n",
    "    if dp[w][i] < min_dist:\n",
    "        min_dist = dp[w][i]\n",
    "        coord[0] = w\n",
    "        coord[1] = i\n",
    "\n",
    "result = []\n",
    "for _ in range(w):\n",
    "    print(coord)\n",
    "    if _from[coord[0]][coord[1]][0] == coord[0]:\n",
    "        result.append(2)\n",
    "    else:\n",
    "        result.append(1)\n",
    "    coord = _from[coord[0]][coord[1]]\n",
    "    \n",
    "for i in range(w - 1, -1, -1):\n",
    "    print(result[i])"
   ]
  },
  {
   "cell_type": "code",
   "execution_count": 2,
   "metadata": {},
   "outputs": [
    {
     "name": "stdout",
     "output_type": "stream",
     "text": [
      "6\n",
      "3\n",
      "3 5\n",
      "5 5\n",
      "2 3\n",
      "9\n",
      "2\n",
      "2\n",
      "1\n"
     ]
    }
   ],
   "source": [
    "n = int(input())\n",
    "w = int(input())\n",
    "\n",
    "def get_num(x):\n",
    "    return int(x) - 1\n",
    "\n",
    "def get_dist(coord1, coord2):\n",
    "    return abs(coord1[0] - coord2[0]) + abs(coord1[1] - coord2[1])\n",
    "\n",
    "li = [tuple(map(get_num, input().split())) for _ in range(w)]\n",
    "\n",
    "# dp[경찰차1이 현재 맡은 사건 번호][경찰차2가 현재 맡은 사건 번호], 사건 번호는 1부터 시작함\n",
    "dp = [[float('inf')] * (w + 1) for _ in range(w + 1)] # 후에 -1로 바꾸는거 고려\n",
    "dp[0][0] = 0\n",
    "_from = [[-1] * (w + 1) for _ in range(w + 1)]\n",
    "st = set()\n",
    "st.add((0, 0))\n",
    "\n",
    "cand = float('inf')\n",
    "for i in range(1, w + 1):\n",
    "    nst = set()\n",
    "    for car1_event_num, car2_event_num in st:\n",
    "        # 경찰차1이 새로운 사건 좌표로 이동하는 경우\n",
    "        nst.add((i, car2_event_num))\n",
    "        if car1_event_num == 0:\n",
    "            former_coord = (0, 0)\n",
    "        else:\n",
    "            former_coord = li[car1_event_num - 1]\n",
    "            \n",
    "        dist = get_dist(former_coord, li[i - 1])\n",
    "        if dp[car1_event_num][car2_event_num] + dist < dp[i][car2_event_num]:\n",
    "            dp[i][car2_event_num] = dp[car1_event_num][car2_event_num] + dist\n",
    "            _from[i][car2_event_num] = [car1_event_num, car2_event_num]\n",
    "        \n",
    "        # 경찰차2가 새로운 사건 좌표로 이동하는 경우\n",
    "        nst.add((car1_event_num, i))\n",
    "        if car2_event_num == 0:\n",
    "            former_coord = (n - 1, n - 1)\n",
    "        else:\n",
    "            former_coord = li[car2_event_num - 1]\n",
    "            \n",
    "        dist = get_dist(former_coord, li[i - 1])\n",
    "        if dp[car1_event_num][car2_event_num] + dist < dp[car1_event_num][i]:\n",
    "            dp[car1_event_num][i] = dp[car1_event_num][car2_event_num] + dist\n",
    "            _from[car1_event_num][i] = [car1_event_num, car2_event_num]\n",
    "        \n",
    "    st = nst.copy()\n",
    "    \n",
    "min_dist = float('inf')\n",
    "coord = [-1, -1]\n",
    "for i in range(w):\n",
    "    if dp[i][w] < min_dist:\n",
    "        min_dist = dp[i][w]\n",
    "        coord[0] = i\n",
    "        coord[1] = w\n",
    "        \n",
    "    if dp[w][i] < min_dist:\n",
    "        min_dist = dp[w][i]\n",
    "        coord[0] = w\n",
    "        coord[1] = i\n",
    "\n",
    "result = []\n",
    "for _ in range(w):\n",
    "    if _from[coord[0]][coord[1]][0] == coord[0]:\n",
    "        result.append(2)\n",
    "    else:\n",
    "        result.append(1)\n",
    "    coord = _from[coord[0]][coord[1]]\n",
    "    \n",
    "print(min_dist)\n",
    "for i in range(w - 1, -1, -1):\n",
    "    print(result[i])"
   ]
  },
  {
   "cell_type": "code",
   "execution_count": 3,
   "metadata": {},
   "outputs": [
    {
     "name": "stdout",
     "output_type": "stream",
     "text": [
      "6\n",
      "3\n",
      "3 5\n",
      "5 5\n",
      "2 3\n",
      "9\n",
      "2\n",
      "2\n",
      "1\n"
     ]
    }
   ],
   "source": [
    "import sys\n",
    "# input = sys.stdin.readline\n",
    "\n",
    "n = int(input().rstrip())\n",
    "w = int(input().rstrip())\n",
    "\n",
    "def get_num(x):\n",
    "    return int(x) - 1\n",
    "\n",
    "def get_dist(coord1, coord2):\n",
    "    return abs(coord1[0] - coord2[0]) + abs(coord1[1] - coord2[1])\n",
    "\n",
    "li = [tuple(map(get_num, input().rstrip().split())) for _ in range(w)]\n",
    "\n",
    "# dp[경찰차1이 현재 맡은 사건 번호][경찰차2가 현재 맡은 사건 번호], 사건 번호는 1부터 시작함\n",
    "dp = [[-1] * (w + 1) for _ in range(w + 1)]\n",
    "dp[0][0] = 0\n",
    "_from = [[-1] * (w + 1) for _ in range(w + 1)]\n",
    "st = set()\n",
    "st.add((0, 0))\n",
    "\n",
    "for i in range(1, w + 1):\n",
    "    nst = set()\n",
    "    for car1_event_num, car2_event_num in st:\n",
    "        # 경찰차1이 새로운 사건 좌표로 이동하는 경우\n",
    "        nst.add((i, car2_event_num))\n",
    "        if car1_event_num == 0:\n",
    "            former_coord = (0, 0)\n",
    "        else:\n",
    "            former_coord = li[car1_event_num - 1]\n",
    "            \n",
    "        dist = get_dist(former_coord, li[i - 1])\n",
    "        if dp[i][car2_event_num] == -1 or dp[car1_event_num][car2_event_num] + dist < dp[i][car2_event_num]:\n",
    "            dp[i][car2_event_num] = dp[car1_event_num][car2_event_num] + dist\n",
    "            _from[i][car2_event_num] = [car1_event_num, car2_event_num]\n",
    "        \n",
    "        # 경찰차2가 새로운 사건 좌표로 이동하는 경우\n",
    "        nst.add((car1_event_num, i))\n",
    "        if car2_event_num == 0:\n",
    "            former_coord = (n - 1, n - 1)\n",
    "        else:\n",
    "            former_coord = li[car2_event_num - 1]\n",
    "            \n",
    "        dist = get_dist(former_coord, li[i - 1])\n",
    "        if dp[car1_event_num][i] == -1 or dp[car1_event_num][car2_event_num] + dist < dp[car1_event_num][i]:\n",
    "            dp[car1_event_num][i] = dp[car1_event_num][car2_event_num] + dist\n",
    "            _from[car1_event_num][i] = [car1_event_num, car2_event_num]\n",
    "        \n",
    "    st = nst.copy()\n",
    "    \n",
    "min_dist = float('inf')\n",
    "coord = [-1, -1]\n",
    "for i in range(w):\n",
    "    if dp[i][w] < min_dist:\n",
    "        min_dist = dp[i][w]\n",
    "        coord[0] = i\n",
    "        coord[1] = w\n",
    "        \n",
    "    if dp[w][i] < min_dist:\n",
    "        min_dist = dp[w][i]\n",
    "        coord[0] = w\n",
    "        coord[1] = i\n",
    "\n",
    "result = []\n",
    "for _ in range(w):\n",
    "    if _from[coord[0]][coord[1]][0] == coord[0]:\n",
    "        result.append(2)\n",
    "    else:\n",
    "        result.append(1)\n",
    "    coord = _from[coord[0]][coord[1]]\n",
    "    \n",
    "print(min_dist)\n",
    "for i in range(w - 1, -1, -1):\n",
    "    print(result[i])"
   ]
  }
 ],
 "metadata": {
  "kernelspec": {
   "display_name": "Python 3",
   "language": "python",
   "name": "python3"
  },
  "language_info": {
   "codemirror_mode": {
    "name": "ipython",
    "version": 3
   },
   "file_extension": ".py",
   "mimetype": "text/x-python",
   "name": "python",
   "nbconvert_exporter": "python",
   "pygments_lexer": "ipython3",
   "version": "3.8.3"
  }
 },
 "nbformat": 4,
 "nbformat_minor": 4
}
