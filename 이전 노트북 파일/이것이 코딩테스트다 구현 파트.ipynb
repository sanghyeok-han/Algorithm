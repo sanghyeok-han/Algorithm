{
 "cells": [
  {
   "cell_type": "markdown",
   "metadata": {},
   "source": [
    "## 구현"
   ]
  },
  {
   "cell_type": "raw",
   "metadata": {},
   "source": [
    "1. 주어진 문자열을 같은 길이만큼 양쪽으로 나눔\n",
    "2. 나눠진 각 문자열에서 각 자리수의 합을 구함\n",
    "3. 위의 두 합이 동일한지의 여부를 확인"
   ]
  },
  {
   "cell_type": "markdown",
   "metadata": {},
   "source": [
    "### 럭키 스트레이트"
   ]
  },
  {
   "cell_type": "code",
   "execution_count": 5,
   "metadata": {},
   "outputs": [
    {
     "name": "stdout",
     "output_type": "stream",
     "text": [
      "7755\n",
      "READY\n"
     ]
    }
   ],
   "source": [
    "s = input()\n",
    "s_length = len(s)\n",
    "mid = s_length // 2\n",
    "left = s[:mid]\n",
    "right = s[mid:]\n",
    "if sum(map(int, left)) == sum(map(int, right)):\n",
    "    print('LUCKY')\n",
    "else:\n",
    "    print('READY')"
   ]
  },
  {
   "cell_type": "markdown",
   "metadata": {},
   "source": [
    "### 문자열 재정렬"
   ]
  },
  {
   "cell_type": "raw",
   "metadata": {},
   "source": [
    "1. 주어진 문자열을 차례대로 순회하면서 숫자면 total_value에 더해주고 알파벳이면 alphas에 append해줌\n",
    "2. 알파벳을 오름차순으로 정렬한 결과를 문자열로 만들고 거기에 total_value를 string 형식으로 바꿔서 붙여줌"
   ]
  },
  {
   "cell_type": "code",
   "execution_count": 7,
   "metadata": {},
   "outputs": [
    {
     "name": "stdout",
     "output_type": "stream",
     "text": [
      "AJKDLSI412K4JSJ9D\n",
      "ADDIJJJKKLSS20\n"
     ]
    }
   ],
   "source": [
    "s = input()\n",
    "alphas = []\n",
    "total_value = 0\n",
    "for v in s:\n",
    "    if v.isdigit():\n",
    "        total_value += int(v)\n",
    "    else:\n",
    "        alphas.append(v)\n",
    "        \n",
    "alphas.sort()\n",
    "print(''.join(alphas) + str(total_value))"
   ]
  },
  {
   "cell_type": "markdown",
   "metadata": {},
   "source": [
    "### 문자열 압축"
   ]
  },
  {
   "cell_type": "raw",
   "metadata": {},
   "source": [
    "1. 문자열을 1부터 해당 문자열 길이까지의 단위로 압축하는 경우를 가장 위의 for 문으로 함\n",
    "2. stack을 활용하여 중복의 수를 확인\n",
    "3. min_length를 계속 갱신해줌"
   ]
  },
  {
   "cell_type": "code",
   "execution_count": null,
   "metadata": {},
   "outputs": [],
   "source": [
    "def add_to_temp_result(count, temp_result, stack, current):\n",
    "    if stack:\n",
    "        if count >= 2:\n",
    "            temp_result += str(count) + stack[-1]\n",
    "            count = 1\n",
    "        else:\n",
    "            temp_result += stack[-1]\n",
    "            stack.pop()\n",
    "    stack.append(current)\n",
    "    return count, temp_result    \n",
    "\n",
    "def solution(s): \n",
    "    min_length = float('inf')\n",
    "    for unit in range(1, len(s) + 1):\n",
    "        stack = []\n",
    "        temp_result = ''\n",
    "        count = 1\n",
    "        for i in range(0, len(s), unit):\n",
    "            current = s[i:i + unit]\n",
    "            if stack and stack[-1] == current:\n",
    "                count += 1\n",
    "                continue\n",
    "            count, temp_result = add_to_temp_result(count, temp_result, stack, current)\n",
    "        count, temp_result = add_to_temp_result(count, temp_result, stack, current)\n",
    "        rest = s[i + unit:]\n",
    "        if rest:\n",
    "            temp_result += rest\n",
    "        min_length = min(min_length, len(temp_result))\n",
    "    return min_length"
   ]
  },
  {
   "cell_type": "markdown",
   "metadata": {},
   "source": [
    "### 자물쇠와 열쇠"
   ]
  },
  {
   "cell_type": "raw",
   "metadata": {},
   "source": [
    "1. 자물쇠에 각 모퉁이에 열쇠의 모퉁이를 겹친 크기의 새로운 자물쇠를 선언함\n",
    "2. 자물쇠에서 각 열쇠 크기의 위치마다 홈의 개수를 확인해서 모든 홈이 해당 범위에 없으면 continue\n",
    "3. 해당 범위에서 열쇠를 돌려가면서 홈과 돌기의 조건을 충족시키는지 확인"
   ]
  },
  {
   "cell_type": "code",
   "execution_count": null,
   "metadata": {},
   "outputs": [],
   "source": [
    "from copy import deepcopy\n",
    "\n",
    "def rotate(key, m):\n",
    "    new_key = deepcopy(key)\n",
    "    for i in range(m):\n",
    "        for j in range(m):\n",
    "            new_key[i][j] = key[j][m - 1 - i]      \n",
    "    return new_key\n",
    "\n",
    "def get_zero_type_count(new_lock, x, y, m):\n",
    "    zero_type_count = 0\n",
    "    for i in range(x, x + m):\n",
    "        for j in range(y, y + m):\n",
    "            if new_lock[i][j] == 0:\n",
    "                zero_type_count += 1\n",
    "    return zero_type_count\n",
    "\n",
    "def compare(new_lock, key, x, y, m):\n",
    "    for i in range(x, x + m):\n",
    "        for j in range(y, y + m):\n",
    "            if new_lock[i][j] == -1:\n",
    "                continue\n",
    "            if new_lock[i][j] != 1 ^ key[i - x][j - y]:\n",
    "                return False\n",
    "    return True\n",
    "                \n",
    "def solution(key, lock):\n",
    "    n, m = len(lock), len(key)\n",
    "    new_lock_len = n + m * 2 - 2\n",
    "    new_lock = [[-1] * new_lock_len for _ in range(new_lock_len)]\n",
    "    # -1: 빈 공간, 0: 홈, 1: 돌기\n",
    "    for i in range(m - 1, m + n - 1):\n",
    "        for j in range(m - 1, m + n - 1):\n",
    "            new_lock[i][j] = lock[i - (m - 1)][j - (m - 1)]\n",
    "            \n",
    "    # 채워야하는 홈의 개수\n",
    "    zero_type_count = 0\n",
    "    for i in range(n):\n",
    "        for j in range(n):\n",
    "            if lock[i][j] == 0:\n",
    "                zero_type_count += 1\n",
    "    \n",
    "    for turn_count in range(4):\n",
    "        for i in range(new_lock_len - m + 1):\n",
    "            for j in range(new_lock_len - m + 1):\n",
    "                if get_zero_type_count(new_lock, i, j, m) < zero_type_count:\n",
    "                    continue\n",
    "                if compare(new_lock, key, i, j, m):\n",
    "                    return True\n",
    "        if turn_count <= 2:\n",
    "            key = rotate(key, m)\n",
    "    return False"
   ]
  },
  {
   "cell_type": "markdown",
   "metadata": {},
   "source": [
    "### 뱀"
   ]
  },
  {
   "cell_type": "raw",
   "metadata": {},
   "source": [
    "1. 좌표가 1부터 시작하는 것을 저장의 편리성을 위해서 0부터 시작하는 것으로 바꿈\n",
    "2. 방향벡터와 나머지 연산을 통한 코드의 간략화"
   ]
  },
  {
   "cell_type": "code",
   "execution_count": null,
   "metadata": {},
   "outputs": [],
   "source": [
    "from collections import deque\n",
    "\n",
    "# 상, 우, 하, 좌\n",
    "dx = [-1, 0, 1, 0]\n",
    "dy = [0, 1, 0, -1]\n",
    "\n",
    "snakes = deque()\n",
    "snakes.append((0, 0))\n",
    "\n",
    "n = int(input())\n",
    "k = int(input())\n",
    "apples = set()\n",
    "for _ in range(k):\n",
    "    apples.add(tuple(map(lambda x: int(x) - 1, input().split())))\n",
    "l = int(input())\n",
    "turns = deque()\n",
    "for _ in range(l):\n",
    "    s, d = input().split()\n",
    "    s = int(s)\n",
    "    d = 1 if d == 'D' else -1\n",
    "    turns.append((s, d))\n",
    "    \n",
    "move_count = 0\n",
    "current_d = 1\n",
    "current_second = 0\n",
    "x, y = 0, 0\n",
    "while True:\n",
    "    print(snakes)\n",
    "    nx, ny = x + dx[current_d % 4], y + dy[current_d % 4]\n",
    "    current_second += 1\n",
    "    \n",
    "    if nx < 0 or nx >= n or ny < 0 or ny >= n:\n",
    "        break\n",
    "    if (nx, ny) in snakes:\n",
    "        break\n",
    "    snakes.append((nx, ny))\n",
    "    if (nx, ny) not in apples:\n",
    "        snakes.popleft()\n",
    "    else:\n",
    "        apples.remove((nx, ny))\n",
    "    if turns and turns[0][0] == current_second:\n",
    "        current_d += turns[0][1]\n",
    "        turns.popleft()\n",
    "    \n",
    "    x, y = nx, ny\n",
    "    \n",
    "print(current_second)"
   ]
  },
  {
   "cell_type": "markdown",
   "metadata": {},
   "source": [
    "### 기둥과 보 설치"
   ]
  },
  {
   "cell_type": "raw",
   "metadata": {},
   "source": [
    "1. 각 경우별로 분리해서 해결\n",
    "2. 기둥과 보의 현재 상태를 각각의 set으로 관리, 후에 in, not in 문법을 통해 포함 여부 확인\n",
    "2. 주석을 통해서 디버깅을 좀 더 쉽게 하였음"
   ]
  },
  {
   "cell_type": "code",
   "execution_count": null,
   "metadata": {},
   "outputs": [],
   "source": [
    "def solution(n, build_frame):\n",
    "    # 구조물의 좌표는 기둥은 아래쪽, 보는 왼쪽을 기준으로 저장\n",
    "    columns = set()\n",
    "    rows = set()\n",
    "    for x, y, t, c in build_frame:\n",
    "        # 기둥을 설치하는 경우\n",
    "        if t == 0 and c == 1:\n",
    "            # 바닥이 아닌 경우\n",
    "            if y > 0:\n",
    "                # 밑에 다른 기둥이나 보가 없는 경우\n",
    "                if (x, y - 1) not in columns and (x - 1, y) not in rows and (x, y) not in rows:\n",
    "                    continue\n",
    "            columns.add((x, y))\n",
    "        # 기둥을 삭제하는 경우\n",
    "        elif t == 0 and c == 0:\n",
    "            # 위에 다른 기둥이 있는 경우\n",
    "            if (x, y + 1) in columns:\n",
    "                # 위 기둥을 받칠 보가 없는 경우\n",
    "                if not ((x - 1, y + 1) in rows or (x, y + 1) in rows):\n",
    "                    continue\n",
    "            # 기둥 위 왼쪽으로 보가 있는 경우\n",
    "            if (x - 1, y + 1) in rows:\n",
    "                # 기둥 왼쪽에 다른 기둥이 없는 경우\n",
    "                if (x - 1, y) not in columns:\n",
    "                    # 해당 보가 좌우로 연결되어있지 않은 경우\n",
    "                    if (x - 2, y + 1) not in rows or (x, y + 1) not in rows:\n",
    "                        continue\n",
    "            # 기둥 위 오른쪽으로 보가 있는 경우\n",
    "            if (x, y + 1) in rows:\n",
    "                # 기둥 오른쪽에 다른 기둥이 없는 경우\n",
    "                if (x + 1, y) not in columns:\n",
    "                    # 해당 보가 좌우로 연결되어있지 않은 경우\n",
    "                    if (x - 1, y + 1) not in rows or (x + 1, y + 1) not in rows:\n",
    "                        continue\n",
    "            columns.remove((x, y))\n",
    "        # 보를 설치하는 경우\n",
    "        elif t == 1 and c == 1:\n",
    "            # 밑에 기둥이 없는 경우\n",
    "            if not ((x, y - 1) in columns or (x + 1, y - 1) in columns):\n",
    "                # 양 옆으로 보가 연결되지 않은 경우\n",
    "                if (x - 1, y) not in rows or (x + 1, y) not in rows:\n",
    "                    continue\n",
    "            rows.add((x, y))\n",
    "        # 보를 삭제하는 경우\n",
    "        else:\n",
    "            # 왼쪽 기둥이 없는 경우\n",
    "            if (x, y - 1) not in columns:\n",
    "                # 왼쪽으로 이어진 보가 있는 경우\n",
    "                if (x - 1, y) in rows:\n",
    "                    # 왼쪽 보를 지탱하는 기둥이 없는 경우\n",
    "                    if (x - 1, y - 1) not in columns:\n",
    "                        continue\n",
    "                # 왼쪽으로 이어진 보가 없는 경우\n",
    "                else:\n",
    "                    # 보의 왼쪽 위에 기둥이 있는 경우\n",
    "                    if (x, y) in columns:\n",
    "                        continue\n",
    "            # 오른쪽 기둥이 없는 경우\n",
    "            if (x + 1, y - 1) not in columns:\n",
    "                # 오른쪽으로 이어진 보가 있는 경우\n",
    "                if (x + 1, y) in rows:\n",
    "                    # 오른쪽 보를 지탱하는 기둥이 없는 경우\n",
    "                    if (x + 2, y - 1) not in columns:\n",
    "                        continue\n",
    "                # 오른쪽으로 이어진 보가 없는 경우\n",
    "                else:\n",
    "                    # 보의 오른쪽 위에 기둥이 있는 경우\n",
    "                    if (x + 1, y) in columns:\n",
    "                        continue                     \n",
    "            rows.remove((x, y))\n",
    "            \n",
    "    rows = [[v[0], v[1], 1] for v in rows]\n",
    "    columns = [[v[0], v[1], 0] for v in columns]\n",
    "    total = []\n",
    "    total.extend(rows)\n",
    "    total.extend(columns)\n",
    "    total.sort()\n",
    "    return total"
   ]
  },
  {
   "cell_type": "markdown",
   "metadata": {},
   "source": [
    "### 치킨 배달"
   ]
  },
  {
   "cell_type": "raw",
   "metadata": {},
   "source": [
    "1. house와 chicken의 좌표를 각각 저장해줌\n",
    "2. M개의 치킨집의 좌표를 고르는 모든 경우의 수를 만들고 각 케이스별로 도시의 치킨 거리를 확인해서 최솟값을 구함"
   ]
  },
  {
   "cell_type": "code",
   "execution_count": 16,
   "metadata": {},
   "outputs": [
    {
     "name": "stdout",
     "output_type": "stream",
     "text": [
      "5 1\n",
      "32\n"
     ]
    }
   ],
   "source": [
    "from itertools import combinations as comb\n",
    "\n",
    "def get_distance(a, b):\n",
    "    return abs(a[0] - b[0]) + abs(a[1] - b[1])\n",
    "\n",
    "n, m = map(int, input().split())\n",
    "li = [list(map(int, input().split())) for _ in range(n)]\n",
    "\n",
    "chickens = []\n",
    "houses = []\n",
    "for i in range(n):\n",
    "    for j in range(n):\n",
    "        if li[i][j] == 1:\n",
    "            houses.append((i, j))\n",
    "        elif li[i][j] == 2:\n",
    "            chickens.append((i, j))\n",
    "chicken_cases = comb(chickens, m)\n",
    "\n",
    "min_total = float('inf')\n",
    "for chicken_case in chicken_cases:\n",
    "    total = 0\n",
    "    for house in houses:\n",
    "        min_value = float('inf')\n",
    "        for chicken in chicken_case:\n",
    "            min_value = min(min_value, get_distance(chicken, house))\n",
    "        total += min_value\n",
    "    min_total = min(min_total, total)\n",
    "    \n",
    "print(min_total)"
   ]
  },
  {
   "cell_type": "markdown",
   "metadata": {},
   "source": [
    "### 외벽 점검"
   ]
  },
  {
   "cell_type": "code",
   "execution_count": null,
   "metadata": {},
   "outputs": [],
   "source": [
    "# 가장 큰 거리로도 하나밖에 커버 안되는 케이스는 조기 종료하는 로직을 추가하였음\n",
    "from collections import deque\n",
    "\n",
    "def bfs(weaks, dists, n):\n",
    "    min_result = float('inf')\n",
    "    \n",
    "    queue = deque()\n",
    "    queue.append((0, weaks))\n",
    "    while queue:\n",
    "        dist_index, weaks = queue.popleft()\n",
    "        is_appended = False\n",
    "        # 사람을 투입할 때는 항상 취약지점에 투입하는게 효율적이다.\n",
    "        # 각각의 취약지점부터 시작하는 경우를 for문으로 확인한다.\n",
    "        for start in weaks:\n",
    "            # 원형인 점을 고려하여 시작 weak 지점 위치 + 해당 거리가\n",
    "            # n보다 큰지 작은지를 구분하여 여전히 커버 불가능한 취약지점들을\n",
    "            # new_weaks에 저장함\n",
    "            end = start + dists[dist_index]\n",
    "            if end < n:\n",
    "                new_weaks = [v for v in weaks if v < start or v > end]\n",
    "            else:\n",
    "                new_weaks = [v for v in weaks if end % n < v < start]\n",
    "            # 취약지점을 모두 커버한 경우\n",
    "            if not new_weaks:\n",
    "                min_result = dist_index + 1\n",
    "                return min_result\n",
    "            # 시작한 취약지점 외에 커버할 수 없는 경우\n",
    "            if len(new_weaks) == len(weaks) - 1:\n",
    "                continue\n",
    "            # 시작한 취약지점 외에 다른 시작 지점도 커버할 수 있으며,\n",
    "            # 투입할 수 있는 다른 인원이 남아있는 경우\n",
    "            if dist_index + 1 < len(dists):\n",
    "                is_appended = True\n",
    "                queue.append((dist_index + 1, new_weaks))\n",
    "        # 어느 곳에서 시작해도 시작한 취약지점 외에 커버할 수 없는 경우 또는\n",
    "        # 취약지점이 남아있지만 더 이상 투입할 인원이 없는 경우\n",
    "        if not is_appended:\n",
    "            # 아직 투입 안한 인원들로 각각의 취약지점을 커버할 수 있는 경우\n",
    "            if len(weaks) <= len(dists) - dist_index:\n",
    "                # 현재 투입한 인원부터 각 취약지점을 하나씩 커버하게 됨\n",
    "                min_result = min(min_result, dist_index + len(weaks))\n",
    "    return min_result\n",
    "        \n",
    "def solution(n, weaks, dists):\n",
    "    # 커버할 수 있는 범위가 가장 넓은 사람부터 투입하기 위해 내림차순 정렬\n",
    "    dists.sort(reverse=True)\n",
    "    # 가능한 최소 투입 인원 반환\n",
    "    min_result = bfs(weaks, dists, n)\n",
    "    if min_result == float('inf'):\n",
    "        return -1\n",
    "    else:\n",
    "        return min_result"
   ]
  }
 ],
 "metadata": {
  "kernelspec": {
   "display_name": "Python 3",
   "language": "python",
   "name": "python3"
  },
  "language_info": {
   "codemirror_mode": {
    "name": "ipython",
    "version": 3
   },
   "file_extension": ".py",
   "mimetype": "text/x-python",
   "name": "python",
   "nbconvert_exporter": "python",
   "pygments_lexer": "ipython3",
   "version": "3.8.3"
  }
 },
 "nbformat": 4,
 "nbformat_minor": 4
}
