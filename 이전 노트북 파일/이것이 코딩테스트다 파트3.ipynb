{
 "cells": [
  {
   "cell_type": "markdown",
   "metadata": {},
   "source": [
    "### 탑승구"
   ]
  },
  {
   "cell_type": "code",
   "execution_count": 29,
   "metadata": {},
   "outputs": [
    {
     "name": "stdout",
     "output_type": "stream",
     "text": [
      "4\n",
      "6\n",
      "2\n",
      "2\n",
      "3\n",
      "3\n",
      "4\n",
      "4\n",
      "3\n"
     ]
    }
   ],
   "source": [
    "g = int(input())\n",
    "p = int(input())\n",
    "\n",
    "parent = [i for i in range(g + 1)]\n",
    "\n",
    "def find(v):\n",
    "    if parent[v] == v:\n",
    "        return v\n",
    "    else:\n",
    "        parent[v] = find(parent[v])\n",
    "        return parent[v]\n",
    "\n",
    "def union(a, b):\n",
    "    parent[b] = a\n",
    "    \n",
    "li = [int(input()) for _ in range(p)]\n",
    "count = 0\n",
    "for value in li:\n",
    "    value = find(value)\n",
    "    \n",
    "    if value == 0:\n",
    "        break\n",
    "    else:\n",
    "        union(find(value) - 1, value)\n",
    "        count += 1\n",
    "        \n",
    "print(count)"
   ]
  },
  {
   "cell_type": "markdown",
   "metadata": {},
   "source": [
    "### 어두운 길"
   ]
  },
  {
   "cell_type": "code",
   "execution_count": 33,
   "metadata": {},
   "outputs": [
    {
     "name": "stdout",
     "output_type": "stream",
     "text": [
      "7 11\n",
      "0 1 7\n",
      "0 3 5\n",
      "1 2 8\n",
      "1 3 9\n",
      "1 4 7\n",
      "2 4 5\n",
      "3 4 15\n",
      "3 5 6\n",
      "4 5 8\n",
      "4 6 9\n",
      "5 6 11\n",
      "51\n"
     ]
    }
   ],
   "source": [
    "n, m = map(int, input().split())\n",
    "\n",
    "def union(a, b):\n",
    "    if rank[a] >= rank[b]:\n",
    "        if rank[a] == rank[b]:\n",
    "            rank[a] += 1\n",
    "        parent[b] = a\n",
    "    else:\n",
    "        parent[a] = b\n",
    "        \n",
    "def find(v):\n",
    "    if parent[v] == v:\n",
    "        return v\n",
    "    else:\n",
    "        parent[v] = find(parent[v])\n",
    "        return parent[v]\n",
    "    \n",
    "edges = [list(map(int, input().split())) for _ in range(m)]\n",
    "edges.sort(key=lambda x: x[2])\n",
    "parent = [i for i in range(n)]\n",
    "rank = [0] * n\n",
    "\n",
    "min_total_cost = 0\n",
    "for a, b, c in edges:\n",
    "    a = find(a)\n",
    "    b = find(b)\n",
    "    if a != b:\n",
    "        min_total_cost += c\n",
    "        union(a, b)\n",
    "        \n",
    "total_cost = sum([v[2] for v in edges])\n",
    "print(total_cost - min_total_cost)"
   ]
  },
  {
   "cell_type": "markdown",
   "metadata": {},
   "source": [
    "### 행성 터널"
   ]
  },
  {
   "cell_type": "code",
   "execution_count": 36,
   "metadata": {},
   "outputs": [
    {
     "name": "stdout",
     "output_type": "stream",
     "text": [
      "5\n",
      "11 -15 -15\n",
      "14 -5 -15\n",
      "-1 -1 -5\n",
      "10 -4 -1\n",
      "19 -4 19\n",
      "4\n"
     ]
    }
   ],
   "source": [
    "import sys\n",
    "input = sys.stdin.readline\n",
    "\n",
    "n = int(input().rstrip())\n",
    "nodes = []\n",
    "for i in range(n):\n",
    "    x, y, z = map(int, input().rstrip().split())\n",
    "    nodes.append((i, x, y, z))\n",
    "    \n",
    "edges = []\n",
    "for i in range(1, 4):\n",
    "    nodes.sort(key=lambda x: x[i])\n",
    "    for j in range(1, n):\n",
    "        edges.append([nodes[j - 1][0], nodes[j][0], abs(nodes[j - 1][i] - nodes[j][i])])\n",
    "        \n",
    "edges.sort(key=lambda x: x[2])\n",
    "\n",
    "parent = list(range(n))\n",
    "rank = [0] * n\n",
    "\n",
    "def find(v):\n",
    "    if v == parent[v]:\n",
    "        return v\n",
    "    else:\n",
    "        parent[v] = find(parent[v])\n",
    "        return parent[v]\n",
    "    \n",
    "def union(a, b):\n",
    "    if rank[a] >= rank[b]:\n",
    "        if rank[a] == rank[b]:\n",
    "            rank[a] += 1\n",
    "        parent[b] = a\n",
    "    else:\n",
    "        parent[a] = b\n",
    "    \n",
    "min_total_cost = 0\n",
    "for a, b, c in edges:\n",
    "    a = find(a)\n",
    "    b = find(b)\n",
    "    \n",
    "    if a != b:\n",
    "        union(a, b)\n",
    "        min_total_cost += c\n",
    "        \n",
    "print(min_total_cost)"
   ]
  },
  {
   "cell_type": "markdown",
   "metadata": {},
   "source": [
    "### 최종 순위"
   ]
  },
  {
   "cell_type": "code",
   "execution_count": 79,
   "metadata": {},
   "outputs": [
    {
     "name": "stdout",
     "output_type": "stream",
     "text": [
      "3\n",
      "5\n",
      "5 4 3 2 1\n",
      "2\n",
      "2 4\n",
      "3 4\n",
      "5 3 2 4 1\n",
      "3\n",
      "2 3 1\n",
      "0\n",
      "2 3 1\n",
      "4\n",
      "1 2 3 4\n",
      "3\n",
      "1 2\n",
      "3 4\n",
      "2 3\n",
      "IMPOSSIBLE\n"
     ]
    }
   ],
   "source": [
    "from collections import deque\n",
    "import sys\n",
    "# input = sys.stdin.readline\n",
    "\n",
    "def solve():\n",
    "    n = int(input().rstrip())\n",
    "    li = list(map(lambda x: int(x) - 1, input().split()))\n",
    "\n",
    "    infos = set() # (higher, lower)\n",
    "    for i in range(n - 1):\n",
    "        for j in range(i + 1, n):\n",
    "            infos.add((li[i], li[j]))\n",
    "\n",
    "    m = int(input().rstrip())\n",
    "    changed = [list(map(lambda x: int(x) - 1, input().rstrip().split())) for _ in range(m)]\n",
    "    for a, b in changed:\n",
    "        if (a, b) in infos:\n",
    "            infos.remove((a, b))\n",
    "            infos.add((b, a))\n",
    "        else:\n",
    "            infos.remove((b, a))\n",
    "            infos.add((a, b))\n",
    "    \n",
    "    indegree = [0] * n\n",
    "    posts = [[] for _ in range(n)]\n",
    "    for a, b in infos:\n",
    "        indegree[b] += 1\n",
    "        posts[a].append(b)\n",
    "\n",
    "    queue = deque()\n",
    "    for i in range(n):\n",
    "        if indegree[i] == 0:\n",
    "            queue.append(i)\n",
    "    \n",
    "    if len(queue) >= 2:\n",
    "        return 'IMPOSSIBLE'\n",
    "    \n",
    "    result = []\n",
    "    while queue:\n",
    "        value = queue.popleft()\n",
    "        result.append(value + 1)\n",
    "        for po in posts[value]:\n",
    "            indegree[po] -= 1\n",
    "            if indegree[po] == 0:\n",
    "                queue.append(po)\n",
    "        if len(queue) >= 2:\n",
    "            return 'IMPOSSIBLE'\n",
    "        \n",
    "    if len(result) < n:\n",
    "        return 'IMPOSSIBLE'\n",
    "    return result\n",
    "\n",
    "for _ in range(int(input())):\n",
    "    result = solve()\n",
    "    \n",
    "    if result == 'IMPOSSIBLE':\n",
    "        print(result)\n",
    "    else:\n",
    "        print(*result)"
   ]
  }
 ],
 "metadata": {
  "kernelspec": {
   "display_name": "Python 3",
   "language": "python",
   "name": "python3"
  },
  "language_info": {
   "codemirror_mode": {
    "name": "ipython",
    "version": 3
   },
   "file_extension": ".py",
   "mimetype": "text/x-python",
   "name": "python",
   "nbconvert_exporter": "python",
   "pygments_lexer": "ipython3",
   "version": "3.8.3"
  }
 },
 "nbformat": 4,
 "nbformat_minor": 4
}
