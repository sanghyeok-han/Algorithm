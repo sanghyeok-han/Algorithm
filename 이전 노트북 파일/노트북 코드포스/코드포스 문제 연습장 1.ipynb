{
 "cells": [
  {
   "cell_type": "markdown",
   "metadata": {},
   "source": [
    "https://codeforces.com/problemset/problem/1547/D"
   ]
  },
  {
   "cell_type": "code",
   "execution_count": 9,
   "metadata": {},
   "outputs": [
    {
     "name": "stdout",
     "output_type": "stream",
     "text": [
      "1\n",
      "1\n",
      "0\n",
      "0\n"
     ]
    }
   ],
   "source": [
    "for _ in range(int(input())):\n",
    "    n = int(input())\n",
    "    a = list(map(int, input().split()))\n",
    "    b = [0] * n\n",
    "    cumul = a[0]\n",
    "    for i in range(1, n):\n",
    "        cumul |= a[i]\n",
    "        b[i] = a[i] ^ cumul\n",
    "\n",
    "    print(*b)"
   ]
  },
  {
   "cell_type": "markdown",
   "metadata": {},
   "source": [
    "https://codeforces.com/problemset/problem/1398/C"
   ]
  },
  {
   "cell_type": "code",
   "execution_count": 21,
   "metadata": {},
   "outputs": [
    {
     "name": "stdout",
     "output_type": "stream",
     "text": [
      "1\n"
     ]
    }
   ],
   "source": [
    "for _ in range(int(input())):\n",
    "    n = int(input())\n",
    "    li = list(map(int, input()))\n",
    "    sum_li = []\n",
    "\n",
    "    cumul = 0\n",
    "    for i in range(n):\n",
    "        cumul += li[i]\n",
    "        sum_li.append(cumul)\n",
    "\n",
    "    result = 0\n",
    "    for count in range(1, n + 1):\n",
    "        for start in range(n - count + 1):\n",
    "            if start >= 1:\n",
    "                if sum_li[start + count - 1] - sum_li[start - 1] == count:\n",
    "                    result += 1 \n",
    "            else:\n",
    "                if sum_li[start + count - 1] == count:\n",
    "                    result += 1\n",
    "\n",
    "    print(result)"
   ]
  },
  {
   "cell_type": "markdown",
   "metadata": {},
   "source": [
    "https://codeforces.com/problemset/problem/1561/C"
   ]
  },
  {
   "cell_type": "code",
   "execution_count": 9,
   "metadata": {},
   "outputs": [
    {
     "name": "stdout",
     "output_type": "stream",
     "text": [
      "1\n",
      "1 42\n",
      "43\n"
     ]
    }
   ],
   "source": [
    "for _ in range(int(input())):\n",
    "    n = int(input())\n",
    "\n",
    "    caves = []\n",
    "    for _ in range(n):\n",
    "        li = list(map(int, input().split()))\n",
    "\n",
    "        max_value = 0\n",
    "        for i in range(1, li[0] + 1):\n",
    "            max_value = max(max_value, li[i] - (i - 1))\n",
    "\n",
    "        caves.append((max_value, li[0]))\n",
    "\n",
    "    caves.sort(key=lambda x: x[0])\n",
    "\n",
    "    needed = []\n",
    "    cumul = 0\n",
    "    for cave in caves:\n",
    "        needed.append(cave[0] - cumul)\n",
    "        cumul += cave[1]\n",
    "\n",
    "    print(max(needed) + 1)"
   ]
  },
  {
   "cell_type": "markdown",
   "metadata": {},
   "source": [
    "https://codeforces.com/problemset/problem/1560/D"
   ]
  },
  {
   "cell_type": "code",
   "execution_count": 10,
   "metadata": {},
   "outputs": [
    {
     "data": {
      "text/plain": [
       "1073741824"
      ]
     },
     "execution_count": 10,
     "metadata": {},
     "output_type": "execute_result"
    }
   ],
   "source": [
    "2 ** 30"
   ]
  },
  {
   "cell_type": "code",
   "execution_count": 14,
   "metadata": {},
   "outputs": [
    {
     "data": {
      "text/plain": [
       "1267650600228229401496703205376"
      ]
     },
     "execution_count": 14,
     "metadata": {},
     "output_type": "execute_result"
    }
   ],
   "source": [
    "2 ** 100"
   ]
  },
  {
   "cell_type": "code",
   "execution_count": 36,
   "metadata": {},
   "outputs": [
    {
     "name": "stdout",
     "output_type": "stream",
     "text": [
      "687194767\n",
      "2\n"
     ]
    }
   ],
   "source": [
    "for _ in range(int(input())):\n",
    "    n = input()\n",
    "\n",
    "    min_count = float('inf')\n",
    "    for i in range(101):\n",
    "        to = str(1 << i)\n",
    "\n",
    "        count = 0\n",
    "        to_i = 0\n",
    "        ni = 0\n",
    "        while ni < len(n) and to_i < len(to):\n",
    "            if to[to_i] == n[ni]:\n",
    "                to_i += 1\n",
    "                ni += 1\n",
    "            else:\n",
    "                ni += 1\n",
    "                count += 1\n",
    "\n",
    "        count += len(n) - ni\n",
    "        count += len(to) - to_i\n",
    "        min_count = min(min_count, count)\n",
    "\n",
    "    print(min_count)"
   ]
  },
  {
   "cell_type": "markdown",
   "metadata": {},
   "source": [
    "https://codeforces.com/problemset/problem/1558/A"
   ]
  },
  {
   "cell_type": "code",
   "execution_count": 66,
   "metadata": {},
   "outputs": [
    {
     "name": "stdout",
     "output_type": "stream",
     "text": [
      "1\n",
      "2 1\n",
      "4\n",
      "0 1 2 3\n"
     ]
    }
   ],
   "source": [
    "for _ in range(int(input())):\n",
    "    awc, bwc = map(int, input().split())\n",
    "\n",
    "    total = awc + bwc\n",
    "    asc = total // 2\n",
    "    arc = total // 2\n",
    "    if total % 2 == 1:\n",
    "        arc += 1\n",
    "\n",
    "    st = set()\n",
    "    for _ in range(2):\n",
    "        bsc, brc = arc, asc\n",
    "        for arwc in range(min(awc, arc) + 1):\n",
    "            aswc = awc - arwc\n",
    "            brlc = aswc\n",
    "            brwc = brc - brlc\n",
    "\n",
    "            if 0 <= brwc <= min(bwc, brc):\n",
    "                rwc = arwc + brwc\n",
    "                if rwc <= total:\n",
    "                    st.add(rwc)\n",
    "\n",
    "        asc, arc = arc, asc\n",
    "\n",
    "    print(len(st))\n",
    "    print(*sorted(st))"
   ]
  },
  {
   "cell_type": "markdown",
   "metadata": {},
   "source": [
    "https://codeforces.com/problemset/problem/1556/B"
   ]
  },
  {
   "cell_type": "code",
   "execution_count": 67,
   "metadata": {},
   "outputs": [
    {
     "name": "stdout",
     "output_type": "stream",
     "text": [
      "3\n",
      "6 6 1\n"
     ]
    }
   ],
   "source": [
    "n = int(input())\n",
    "li = list(map(int, input().split()))\n",
    "li = [v % 2 for v in li]"
   ]
  },
  {
   "cell_type": "code",
   "execution_count": 103,
   "metadata": {},
   "outputs": [
    {
     "name": "stdout",
     "output_type": "stream",
     "text": [
      "1\n",
      "5\n",
      "1 1 1 0 0\n",
      "3\n"
     ]
    }
   ],
   "source": [
    "for _ in range(int(input())):\n",
    "    n = int(input())\n",
    "    li = list(map(int, input().split()))\n",
    "    li = [v % 2 for v in li]\n",
    "\n",
    "    c0 = c1 = 0\n",
    "    for v in li:\n",
    "        if v:\n",
    "            c1 += 1\n",
    "        else:\n",
    "            c0 += 1\n",
    "\n",
    "    if abs(c1 - c0) >= 2:\n",
    "        print(-1)\n",
    "    else:\n",
    "        min_count = float('inf')\n",
    "        one_is = [i for i, v in enumerate(li) if v]\n",
    "\n",
    "        if c1 >= c0:\n",
    "            count = 0\n",
    "            to_check = 0\n",
    "            for one_i in one_is:\n",
    "                count += abs(to_check - one_i)\n",
    "                to_check += 2\n",
    "\n",
    "            min_count = min(min_count, count)\n",
    "\n",
    "        if c0 >= c1:\n",
    "            count = 0\n",
    "            to_check = 1\n",
    "            for one_i in one_is:\n",
    "                count += abs(to_check - one_i)\n",
    "                to_check += 2\n",
    "\n",
    "            min_count = min(min_count, count)\n",
    "\n",
    "        print(min_count)"
   ]
  },
  {
   "cell_type": "markdown",
   "metadata": {},
   "source": [
    "https://codeforces.com/problemset/problem/1555/C"
   ]
  },
  {
   "cell_type": "code",
   "execution_count": 124,
   "metadata": {},
   "outputs": [
    {
     "name": "stdout",
     "output_type": "stream",
     "text": [
      "1\n",
      "4\n",
      "7\n",
      "0\n"
     ]
    }
   ],
   "source": [
    "for _ in range(int(input())):\n",
    "    n = int(input())\n",
    "    a = list(map(int, input().split()))\n",
    "    b = list(map(int, input().split()))\n",
    "\n",
    "    sa = [0] * (n + 1)\n",
    "    sb = [0] * (n + 1)\n",
    "    cumul_a = 0\n",
    "    cumul_b = 0\n",
    "    for i in range(n):\n",
    "        cumul_a += a[i]\n",
    "        cumul_b += b[i]\n",
    "\n",
    "        sa[i + 1] = cumul_a\n",
    "        sb[i + 1] = cumul_b\n",
    "\n",
    "    min_sc = float('inf')\n",
    "    for i in range(n):\n",
    "        sc = max(sa[n] - sa[i + 1], sb[i] - sb[0])\n",
    "        min_sc = min(min_sc, sc)\n",
    "\n",
    "    print(min_sc)"
   ]
  },
  {
   "cell_type": "markdown",
   "metadata": {},
   "source": [
    "https://codeforces.com/problemset/problem/1555/B"
   ]
  },
  {
   "cell_type": "code",
   "execution_count": null,
   "metadata": {},
   "outputs": [],
   "source": [
    "테이블 B를 네 방향 구석에 놓는 경우만 비교해봄"
   ]
  },
  {
   "cell_type": "code",
   "execution_count": 130,
   "metadata": {},
   "outputs": [
    {
     "name": "stdout",
     "output_type": "stream",
     "text": [
      "3 1\n",
      "2 1\n",
      "2 1\n",
      "3 1\n",
      "3\n"
     ]
    }
   ],
   "source": [
    "# 일단 포기\n",
    "# w, h = map(int, input().split())\n",
    "# x1, y1, x2, y2 = map(int, input().split())\n",
    "# sw, sh = map(int, input().split())\n",
    "\n",
    "if x2 - x1 + sw > w and y2 - y1 + sh > h:\n",
    "    print(-1)\n",
    "else:\n",
    "    mr = float('inf') # min result\n",
    "    \n",
    "    wtm = max(0, x2 - (w - sw))\n",
    "    htm = max(0, y2 - (h - sh))\n",
    "    dist = wtm ** 2 + \n",
    "    mr = min(mr, wtm + htm)\n",
    "    \n",
    "    wtm = max(0, sw - x1)\n",
    "    htm = max(0, sh - y1)\n",
    "    print(wtm, htm)\n",
    "    mr = min(mr, wtm + htm)   \n",
    "    \n",
    "    wtm = max(0, sw - x1)\n",
    "    htm = max(0, y2 - (h - sh))\n",
    "    print(wtm, htm)\n",
    "    mr = min(mr, wtm + htm)\n",
    "    \n",
    "    wtm = max(0, x2 - (w - sw))\n",
    "    htm = max(0, sh - y1)\n",
    "    print(wtm, htm)\n",
    "    mr = min(mr, wtm + htm)\n",
    "    \n",
    "    print(mr)"
   ]
  },
  {
   "cell_type": "code",
   "execution_count": 127,
   "metadata": {},
   "outputs": [
    {
     "data": {
      "text/plain": [
       "(9, 5)"
      ]
     },
     "execution_count": 127,
     "metadata": {},
     "output_type": "execute_result"
    }
   ],
   "source": [
    "x2 - x1 + sw, y2 - y1 + sh"
   ]
  },
  {
   "cell_type": "code",
   "execution_count": 128,
   "metadata": {},
   "outputs": [
    {
     "data": {
      "text/plain": [
       "(2, 7, 4, 8)"
      ]
     },
     "execution_count": 128,
     "metadata": {},
     "output_type": "execute_result"
    }
   ],
   "source": [
    "x1, x2, sw, w"
   ]
  },
  {
   "cell_type": "markdown",
   "metadata": {},
   "source": [
    "https://codeforces.com/problemset/problem/1610/C"
   ]
  },
  {
   "cell_type": "code",
   "execution_count": 7,
   "metadata": {},
   "outputs": [
    {
     "name": "stdout",
     "output_type": "stream",
     "text": [
      "10\n",
      "1 2 2 5 6 4 3 7 8 9\n",
      "2\n"
     ]
    }
   ],
   "source": [
    "n = int(input())\n",
    "li = sorted(map(int, input().split()))\n",
    "\n",
    "for i in range(n - 1):\n",
    "    if li[i] == li[i + 1]:\n",
    "        print(li[i])\n",
    "        break"
   ]
  },
  {
   "cell_type": "code",
   "execution_count": 9,
   "metadata": {},
   "outputs": [
    {
     "name": "stdout",
     "output_type": "stream",
     "text": [
      "10\n",
      "1 2 2 5 6 4 3 7 8 9\n",
      "2\n"
     ]
    }
   ],
   "source": [
    "n = int(input())\n",
    "mp = map(int, input().split())\n",
    "\n",
    "vt = [False] * n\n",
    "for v in mp:\n",
    "    if vt[v]:\n",
    "        print(v)\n",
    "        break\n",
    "    else:\n",
    "        vt[v] = True"
   ]
  },
  {
   "cell_type": "code",
   "execution_count": 19,
   "metadata": {},
   "outputs": [
    {
     "name": "stdout",
     "output_type": "stream",
     "text": [
      "10\n",
      "1 2 2 5 6 4 3 7 8 9\n",
      "2\n"
     ]
    }
   ],
   "source": [
    "n = int(input())\n",
    "s = input()\n",
    "\n",
    "sv = sum(range(n))\n",
    "total = 0\n",
    "\n",
    "temp = ''\n",
    "for v in s:\n",
    "    if v != ' ':\n",
    "        temp += v\n",
    "    else:\n",
    "        total += int(temp)\n",
    "        temp = ''\n",
    "        \n",
    "total += int(temp)\n",
    "\n",
    "print(total - sv)"
   ]
  },
  {
   "cell_type": "markdown",
   "metadata": {},
   "source": [
    "https://codeforces.com/contest/1592/problem/C"
   ]
  },
  {
   "cell_type": "code",
   "execution_count": null,
   "metadata": {},
   "outputs": [],
   "source": [
    "## PYRIVAL BOOTSTRAP\n",
    "# https://github.com/cheran-senthil/PyRival/blob/master/pyrival/misc/bootstrap.py\n",
    "# This decorator allows for recursion without actually doing recursion\n",
    "from types import GeneratorType\n",
    " \n",
    "def bootstrap(f, stack=[]):\n",
    "    def wrappedfunc(*args, **kwargs):\n",
    "        if stack:\n",
    "            return f(*args, **kwargs)\n",
    "        else:\n",
    "            to = f(*args, **kwargs)\n",
    "            while True:\n",
    "                if type(to) is GeneratorType:\n",
    "                    stack.append(to)\n",
    "                    to = next(to)\n",
    "                else:\n",
    "                    stack.pop()\n",
    "                    if not stack:\n",
    "                        break\n",
    "                    to = stack[-1].send(to)\n",
    "            return to\n",
    " \n",
    "    return wrappedfunc\n",
    "\n",
    "import sys\n",
    "input = lambda: sys.stdin.readline().rstrip()\n",
    " \n",
    "for _ in range(int(input())):\n",
    "    n, k = map(int, input().split())\n",
    "    k -= 1\n",
    " \n",
    "    a = list(map(int, input().split()))\n",
    " \n",
    "    li = [[] for _ in range(n)]\n",
    "    get_value = lambda x: int(x) - 1\n",
    "    for _ in range(n - 1):\n",
    "        u, v = map(get_value, input().split())\n",
    "        li[u].append(v)\n",
    "        li[v].append(u)\n",
    " \n",
    "    cur = a[0]\n",
    "    for i in range(1, n):\n",
    "        cur ^= a[i]\n",
    " \n",
    "    if cur == 0:\n",
    "        print('YES')\n",
    "    else:\n",
    "        if k <= 1:\n",
    "            print('NO')\n",
    "        else:\n",
    "            @bootstrap\n",
    "            def dfs(value):\n",
    "                check_count = 0\n",
    " \n",
    "                cur = 0\n",
    "                for v in li[value]:\n",
    "                    if vt[v]:\n",
    "                        continue\n",
    "                    vt[v] = True\n",
    " \n",
    "                    temp, temp_check_count = (yield dfs(v))\n",
    "                    check_count += temp_check_count\n",
    "                    if not is_met_target[v]:\n",
    "                        cur ^= temp\n",
    " \n",
    "                cur ^= a[value]\n",
    "                if cur == 0 or cur == target:\n",
    "                    is_met_target[value] = True\n",
    "                    if cur == target:\n",
    "                        check_count += 1\n",
    " \n",
    "                yield cur, check_count\n",
    " \n",
    "            target = cur\n",
    "            is_met_target = [False] * n\n",
    " \n",
    "            vt = [False] * n\n",
    "            vt[0] = True\n",
    " \n",
    "            _, check_count = dfs(0)\n",
    "            if is_met_target[0] and check_count >= 3:\n",
    "                print('YES')\n",
    "            else:\n",
    "                print('NO')"
   ]
  },
  {
   "cell_type": "markdown",
   "metadata": {},
   "source": [
    "https://codeforces.com/contest/1611/problem/D"
   ]
  },
  {
   "cell_type": "code",
   "execution_count": 6,
   "metadata": {},
   "outputs": [
    {
     "name": "stdout",
     "output_type": "stream",
     "text": [
      "1\n",
      "5\n",
      "3 1 3 3 1\n",
      "3 1 2 5 4\n",
      "1 1 0 4 2\n"
     ]
    }
   ],
   "source": [
    "## PYRIVAL BOOTSTRAP\n",
    "# https://github.com/cheran-senthil/PyRival/blob/master/pyrival/misc/bootstrap.py\n",
    "# This decorator allows for recursion without actually doing recursion\n",
    "from types import GeneratorType\n",
    " \n",
    "def bootstrap(f, stack=[]):\n",
    "    def wrappedfunc(*args, **kwargs):\n",
    "        if stack:\n",
    "            return f(*args, **kwargs)\n",
    "        else:\n",
    "            to = f(*args, **kwargs)\n",
    "            while True:\n",
    "                if type(to) is GeneratorType:\n",
    "                    stack.append(to)\n",
    "                    to = next(to)\n",
    "                else:\n",
    "                    stack.pop()\n",
    "                    if not stack:\n",
    "                        break\n",
    "                    to = stack[-1].send(to)\n",
    "            return to\n",
    " \n",
    "    return wrappedfunc\n",
    "\n",
    "from collections import deque\n",
    "import sys\n",
    "input = lambda: sys.stdin.readline().rstrip()\n",
    " \n",
    "get_value = lambda x: int(x) - 1\n",
    " \n",
    "@bootstrap\n",
    "def dfs(value):\n",
    "    global ip\n",
    "    global available\n",
    "    global dist_to_make\n",
    "    global p\n",
    "    \n",
    "    if ip:\n",
    "        available |= li[value]\n",
    "        while True:\n",
    "            if not available:\n",
    "                break\n",
    "\n",
    "            if not ip:\n",
    "                break\n",
    "            if not p:\n",
    "                ip = False\n",
    "                break\n",
    "            if p[0] not in available:\n",
    "                ip = False\n",
    "                break\n",
    "            else:\n",
    "                v = p[0]\n",
    "                p.popleft()\n",
    "                new_dist = max(dist_to_make, dists[b[v]])\n",
    "                dists[v] = new_dist\n",
    "                dist_to_make = new_dist + 1\n",
    "                ws[v] = new_dist - dists[b[v]]\n",
    "                available.discard(v)\n",
    "                yield (yield dfs(v))\n",
    "    yield\n",
    "\n",
    "for _ in range(int(input())):\n",
    "    n = int(input())\n",
    "    b = list(map(get_value, input().split()))\n",
    "    p = deque(map(get_value, input().split()))\n",
    "    \n",
    "    if n == 1:\n",
    "        print(0)\n",
    "    else:\n",
    "        li = [set() for _ in range(n)]\n",
    "        root = -1\n",
    "        \n",
    "        ip = True # is possible \n",
    "        for child_node in range(n):\n",
    "            if b[child_node] == child_node:\n",
    "                if root == -1:\n",
    "                    root = child_node\n",
    "                else:\n",
    "                    ip = False\n",
    "            else:\n",
    "                li[b[child_node]].add(child_node)\n",
    "                \n",
    "        if root == -1:\n",
    "            ip = False\n",
    "        \n",
    "        if not ip:\n",
    "            print(-1)\n",
    "        else:\n",
    "            ws = [0] * n\n",
    "            dists = [0] * n\n",
    "            dist_to_make = 1\n",
    "            available = set()\n",
    " \n",
    " \n",
    "            if root != p[0]:\n",
    "                print(-1)\n",
    "            else:\n",
    "                p.popleft()\n",
    "                dfs(root)\n",
    " \n",
    "                if not ip:\n",
    "                    print(-1)\n",
    "                else:\n",
    "                    print(*ws)"
   ]
  },
  {
   "cell_type": "markdown",
   "metadata": {},
   "source": [
    "https://codeforces.com/problemset/problem/1583/C"
   ]
  },
  {
   "cell_type": "code",
   "execution_count": null,
   "metadata": {},
   "outputs": [],
   "source": [
    "..XX\n",
    "....\n",
    "....\n",
    "...."
   ]
  },
  {
   "cell_type": "code",
   "execution_count": null,
   "metadata": {},
   "outputs": [],
   "source": [
    "..XX\n",
    "....\n",
    "....\n",
    "...."
   ]
  },
  {
   "cell_type": "code",
   "execution_count": null,
   "metadata": {},
   "outputs": [],
   "source": [
    "..\n",
    "..\n",
    "XX"
   ]
  },
  {
   "cell_type": "code",
   "execution_count": null,
   "metadata": {},
   "outputs": [],
   "source": [
    "EE\n",
    "EE\n",
    "NN"
   ]
  },
  {
   "cell_type": "code",
   "execution_count": null,
   "metadata": {},
   "outputs": [],
   "source": [
    "XX\n",
    "..\n",
    ".."
   ]
  },
  {
   "cell_type": "code",
   "execution_count": null,
   "metadata": {},
   "outputs": [],
   "source": [
    "NN\n",
    "EE\n",
    "EE"
   ]
  },
  {
   "cell_type": "code",
   "execution_count": null,
   "metadata": {},
   "outputs": [],
   "source": [
    "X.\n",
    "..\n",
    ".."
   ]
  },
  {
   "cell_type": "code",
   "execution_count": null,
   "metadata": {},
   "outputs": [],
   "source": [
    ".X\n",
    "X.\n",
    ".X"
   ]
  },
  {
   "cell_type": "code",
   "execution_count": null,
   "metadata": {},
   "outputs": [],
   "source": [
    "통과 못하는 .이 있으면 해당 .는 X가 될 수도 있음\n",
    "해당 자리가 .일 때 통과 못하는 X가 있으면 해당 자리는 .가 될 수 있음\n",
    "모든 셀은 해당 자리가 .일 때 통과할 수 있어야지만 함\n",
    "\n",
    "어떤 셀이든 바로 위와 바로 왼쪽 둘 다에 X가 있으면 안됨"
   ]
  },
  {
   "cell_type": "code",
   "execution_count": null,
   "metadata": {},
   "outputs": [],
   "source": [
    "...\n",
    "...\n",
    "XXX"
   ]
  },
  {
   "cell_type": "code",
   "execution_count": null,
   "metadata": {},
   "outputs": [],
   "source": [
    "X.X\n",
    "..X\n",
    "XX."
   ]
  },
  {
   "cell_type": "code",
   "execution_count": null,
   "metadata": {},
   "outputs": [],
   "source": [
    "PPPP\n",
    "PPPP\n",
    "PPXX"
   ]
  },
  {
   "cell_type": "code",
   "execution_count": 20,
   "metadata": {},
   "outputs": [
    {
     "name": "stdout",
     "output_type": "stream",
     "text": [
      "5\n",
      "3 4\n",
      "YES\n",
      "2 3\n",
      "NO\n",
      "2 4\n",
      "NO\n",
      "3 4\n",
      "YES\n",
      "2 4\n",
      "NO\n"
     ]
    }
   ],
   "source": [
    "# n, m = map(int, input().split())\n",
    "# li = [input() for _ in range(n)]\n",
    "\n",
    "possibles = [0] * m\n",
    "for i in range(1, n):\n",
    "    for j in range(1, m):\n",
    "        if li[i - 1][j] == 'X' and li[i][j - 1] == 'X':\n",
    "            possibles[j] = 1\n",
    "            \n",
    "sum_p = [0]\n",
    "cumul = 0\n",
    "for j in range(m):\n",
    "    cumul += possibles[j]\n",
    "    sum_p.append(cumul)\n",
    "    \n",
    "for _ in range(int(input())):\n",
    "    a, b = map(int, input().split())\n",
    "    if a == b:\n",
    "        print('YES')\n",
    "    else:\n",
    "        r = sum_p[b] - sum_p[a]\n",
    "        if r >= 1:\n",
    "            print('NO')\n",
    "        else:\n",
    "            print('YES')"
   ]
  },
  {
   "cell_type": "code",
   "execution_count": 19,
   "metadata": {},
   "outputs": [
    {
     "data": {
      "text/plain": [
       "1"
      ]
     },
     "execution_count": 19,
     "metadata": {},
     "output_type": "execute_result"
    }
   ],
   "source": [
    "sum_p[4] - sum_p[2]"
   ]
  },
  {
   "cell_type": "code",
   "execution_count": null,
   "metadata": {},
   "outputs": [],
   "source": [
    "..X.\n",
    ".X..\n",
    "....\n",
    "...."
   ]
  },
  {
   "cell_type": "code",
   "execution_count": 11,
   "metadata": {},
   "outputs": [
    {
     "data": {
      "text/plain": [
       "5"
      ]
     },
     "execution_count": 11,
     "metadata": {},
     "output_type": "execute_result"
    }
   ],
   "source": [
    "1, 3이면\n",
    "\n",
    "2~3까지 1이 있는지 확인함\n",
    "\n",
    "3 - 1할 필요 있음"
   ]
  },
  {
   "cell_type": "markdown",
   "metadata": {},
   "source": [
    "https://codeforces.com/problemset/problem/1603/A"
   ]
  },
  {
   "cell_type": "code",
   "execution_count": 22,
   "metadata": {},
   "outputs": [
    {
     "name": "stdout",
     "output_type": "stream",
     "text": [
      "3\n",
      "1 2 3\n"
     ]
    }
   ],
   "source": [
    "n = int(input())\n",
    "li = list(map(int, input().split()))\n",
    "\n"
   ]
  },
  {
   "cell_type": "code",
   "execution_count": null,
   "metadata": {},
   "outputs": [],
   "source": [
    "1 2 3 4 5 6\n",
    "\n",
    "2 3 4 5 6 7 로 나눠지는지 확인해야함\n",
    "\n"
   ]
  },
  {
   "cell_type": "code",
   "execution_count": 1,
   "metadata": {},
   "outputs": [
    {
     "name": "stdout",
     "output_type": "stream",
     "text": [
      "2 2\n",
      "1 2\n",
      "3 4\n",
      "3\n"
     ]
    }
   ],
   "source": [
    "for _ in range(int(input())):\n",
    "    input()\n",
    "    \n",
    "    m, n = map(int, input().split())\n",
    "    li = [list(map(int, input().split())) for _ in range(m)]\n",
    "\n",
    "    start = 0\n",
    "    end = int(1e9)\n",
    "    result = 0\n",
    "    while start <= end:\n",
    "        mid = (start + end) // 2\n",
    "\n",
    "        is_two_possible = False\n",
    "        st = set()\n",
    "        for i in range(m):\n",
    "            possible_counts = 0\n",
    "            for j in range(n):\n",
    "                if li[i][j] >= mid:\n",
    "                    possible_counts +=1 \n",
    "                    st.add(j)\n",
    "            if possible_counts >= 2:\n",
    "                is_two_possible = True\n",
    "\n",
    "        if len(st) == n and is_two_possible:\n",
    "            result = mid\n",
    "            start = mid + 1\n",
    "        else:\n",
    "            end = mid - 1\n",
    "\n",
    "    print(result)"
   ]
  },
  {
   "cell_type": "markdown",
   "metadata": {},
   "source": [
    "### 제출본"
   ]
  },
  {
   "cell_type": "code",
   "execution_count": null,
   "metadata": {},
   "outputs": [],
   "source": [
    "import os\n",
    "import sys\n",
    "from io import BytesIO, IOBase\n",
    " \n",
    "\n",
    "def main():\n",
    "    for _ in range(int(input())):\n",
    "        input()\n",
    "\n",
    "        m, n = map(int, input().split())\n",
    "        li = [list(map(int, input().split())) for _ in range(m)]\n",
    "\n",
    "        start = 0\n",
    "        end = int(1e9)\n",
    "        result = 0\n",
    "        while start <= end:\n",
    "            mid = (start + end) // 2\n",
    "\n",
    "            is_two_possible = False\n",
    "            st = set()\n",
    "            for i in range(m):\n",
    "                possible_counts = 0\n",
    "                for j in range(n):\n",
    "                    if li[i][j] >= mid:\n",
    "                        possible_counts +=1 \n",
    "                        st.add(j)\n",
    "                if possible_counts >= 2:\n",
    "                    is_two_possible = True\n",
    "\n",
    "            if len(st) == n and is_two_possible:\n",
    "                result = mid\n",
    "                start = mid + 1\n",
    "            else:\n",
    "                end = mid - 1\n",
    "\n",
    "        print(result)\n",
    "\n",
    "    \n",
    "    \n",
    "    \n",
    "    \n",
    "    \n",
    "    \n",
    "    \n",
    "\n",
    "# region fastio\n",
    " \n",
    "BUFSIZE = 8192\n",
    " \n",
    "\n",
    "class FastIO(IOBase):\n",
    "    newlines = 0\n",
    " \n",
    "    def __init__(self, file):\n",
    "        self._fd = file.fileno()\n",
    "        self.buffer = BytesIO()\n",
    "        self.writable = \"x\" in file.mode or \"r\" not in file.mode\n",
    "        self.write = self.buffer.write if self.writable else None\n",
    " \n",
    "    def read(self):\n",
    "        while True:\n",
    "            b = os.read(self._fd, max(os.fstat(self._fd).st_size, BUFSIZE))\n",
    "            if not b:\n",
    "                break\n",
    "            ptr = self.buffer.tell()\n",
    "            self.buffer.seek(0, 2), self.buffer.write(b), self.buffer.seek(ptr)\n",
    "        self.newlines = 0\n",
    "        return self.buffer.read()\n",
    " \n",
    "    def readline(self):\n",
    "        while self.newlines == 0:\n",
    "            b = os.read(self._fd, max(os.fstat(self._fd).st_size, BUFSIZE))\n",
    "            self.newlines = b.count(b\"\\n\") + (not b)\n",
    "            ptr = self.buffer.tell()\n",
    "            self.buffer.seek(0, 2), self.buffer.write(b), self.buffer.seek(ptr)\n",
    "        self.newlines -= 1\n",
    "        return self.buffer.readline()\n",
    " \n",
    "    def flush(self):\n",
    "        if self.writable:\n",
    "            os.write(self._fd, self.buffer.getvalue())\n",
    "            self.buffer.truncate(0), self.buffer.seek(0)\n",
    " \n",
    " \n",
    "class IOWrapper(IOBase):\n",
    "    def __init__(self, file):\n",
    "        self.buffer = FastIO(file)\n",
    "        self.flush = self.buffer.flush\n",
    "        self.writable = self.buffer.writable\n",
    "        self.write = lambda s: self.buffer.write(s.encode(\"ascii\"))\n",
    "        self.read = lambda: self.buffer.read().decode(\"ascii\")\n",
    "        self.readline = lambda: self.buffer.readline().decode(\"ascii\")\n",
    " \n",
    " \n",
    "sys.stdin, sys.stdout = IOWrapper(sys.stdin), IOWrapper(sys.stdout)\n",
    "input = lambda: sys.stdin.readline().rstrip(\"\\r\\n\")\n",
    " \n",
    "# endregion\n",
    " \n",
    "if __name__ == \"__main__\":\n",
    "    main()"
   ]
  },
  {
   "cell_type": "code",
   "execution_count": 3,
   "metadata": {},
   "outputs": [
    {
     "name": "stdout",
     "output_type": "stream",
     "text": [
      "6\n",
      "1 2\n",
      "1 3\n",
      "2 4\n",
      "2 5\n",
      "5 6\n",
      "2\n",
      "3\n",
      "0\n",
      "4\n",
      "1\n"
     ]
    }
   ],
   "source": [
    "import sys\n",
    "input = lambda: sys.stdin.readline().rstrip()\n",
    "\n",
    "## PYRIVAL BOOTSTRAP\n",
    "# https://github.com/cheran-senthil/PyRival/blob/master/pyrival/misc/bootstrap.py\n",
    "# This decorator allows for recursion without actually doing recursion\n",
    "from types import GeneratorType\n",
    "def bootstrap(f, stack=[]):\n",
    "    def wrappedfunc(*args, **kwargs):\n",
    "        if stack:\n",
    "            return f(*args, **kwargs)\n",
    "        else:\n",
    "            to = f(*args, **kwargs)\n",
    "            while True:\n",
    "                if type(to) is GeneratorType:\n",
    "                    stack.append(to)\n",
    "                    to = next(to)\n",
    "                else:\n",
    "                    stack.pop()\n",
    "                    if not stack:\n",
    "                        break\n",
    "                    to = stack[-1].send(to)\n",
    "            return to\n",
    "    return wrappedfunc\n",
    "\n",
    "@bootstrap\n",
    "def dfs(value):\n",
    "    global cur_to_assign\n",
    "\n",
    "    for v in li[value]:\n",
    "        if vt[v]:\n",
    "            continue\n",
    "        vt[v] = True\n",
    "\n",
    "        if cur_to_assign >= 2:\n",
    "            break\n",
    "\n",
    "        if len(li[v]) == 1:\n",
    "            a, b = value, v\n",
    "            if a > b:\n",
    "                a, b = b, a\n",
    "\n",
    "            assigned[d[(a, b)]] = cur_to_assign\n",
    "            inits[cur_to_assign] = v\n",
    "            cur_to_assign += 1\n",
    "        else:\n",
    "            yield dfs(v)\n",
    "    yield\n",
    "\n",
    "@bootstrap\n",
    "def dfs2(value):\n",
    "    if value == inits[1]:\n",
    "        to_evade = set()\n",
    "        for i in range(len(temp) - 1):\n",
    "            a, b = temp[i], temp[i + 1]   \n",
    "            if a > b:\n",
    "                a, b = b, a\n",
    "            to_evade.add((a, b))\n",
    "\n",
    "        for edge, index in d.items():\n",
    "            if assigned[index] != -1:\n",
    "                continue\n",
    "            if edge in to_evade:\n",
    "                continue\n",
    "            assigned[index] = 2\n",
    "            yield True\n",
    "\n",
    "    for v in li[value]:\n",
    "        if vt[v]:\n",
    "            continue\n",
    "        vt[v] = True\n",
    "\n",
    "        temp.append(v)\n",
    "        if (yield dfs2(v)):\n",
    "            yield True\n",
    "        temp.pop()\n",
    "\n",
    "    yield False\n",
    "\n",
    "\n",
    "n = int(input())\n",
    "li = [[] for _ in range(n + 1)]\n",
    "d = dict()\n",
    "for i in range(n - 1):\n",
    "    a, b = map(int, input().split())\n",
    "\n",
    "    if a > b:\n",
    "        a, b = b, a\n",
    "\n",
    "    li[a].append(b)\n",
    "    li[b].append(a)\n",
    "\n",
    "    d[(a, b)] = i\n",
    "\n",
    "if n == 2:\n",
    "    print(0)\n",
    "elif n == 3:\n",
    "    print(0)\n",
    "    print(1)\n",
    "else:\n",
    "    assigned = [-1] * (n - 1)\n",
    "    inits = [-1, -1]\n",
    "    cur_to_assign = 0\n",
    "    vt = [False] * (n + 1)\n",
    "    vt[1] = True\n",
    "    dfs(1)\n",
    "\n",
    "    if cur_to_assign < 2:\n",
    "        for i in range(n - 1):\n",
    "            print(i)\n",
    "    else:\n",
    "        temp = [inits[0]]\n",
    "        vt = [False] * (n + 1)\n",
    "        vt[inits[0]] = True\n",
    "        if dfs2(inits[0]):\n",
    "            cur = 3\n",
    "            for v in assigned:\n",
    "                if v != -1:\n",
    "                    print(v)\n",
    "                else:\n",
    "                    print(cur)\n",
    "                    cur += 1\n",
    "        else:\n",
    "            for i in range(n - 1):\n",
    "                print(i)"
   ]
  },
  {
   "cell_type": "markdown",
   "metadata": {},
   "source": [
    "F. Array Walk https://codeforces.com/group/xxy9FJ47yv/contest/373066/problem/F"
   ]
  },
  {
   "cell_type": "code",
   "execution_count": null,
   "metadata": {},
   "outputs": [],
   "source": [
    "못가는 곳은 n이 적은 것이나 다름 없음"
   ]
  },
  {
   "cell_type": "code",
   "execution_count": 62,
   "metadata": {},
   "outputs": [
    {
     "name": "stdout",
     "output_type": "stream",
     "text": [
      "1 [] 52\n",
      "2 [(-6, 17)] 57\n",
      "3 [(-1, 16)] 51\n",
      "4 [(-2, 10), (-1, 16)] 49\n",
      "5 [(-2, 10), (-1, 16)] 46\n",
      "57\n"
     ]
    }
   ],
   "source": [
    "# 문제를 잘못 해석했음\n",
    "from heapq import heappush, heappop\n",
    "import sys\n",
    "# input = lambda: sys.stdin.readline().rstrip()\n",
    "\n",
    "# for _ in range(int(input())):\n",
    "# n, k, z = map(int, input().split())\n",
    "# li = list(map(int, input().split()))\n",
    "\n",
    "n, k, z = 9, 8, 5\n",
    "li = [7, 9, 1, 2, 4, 8, 9, 3, 2]\n",
    "# li = [1, 2, 3, 4, 5, 6, 7, 8, 9]\n",
    "\n",
    "n = k + 1\n",
    "while len(li) > n:\n",
    "    li.pop()\n",
    "\n",
    "heap = []\n",
    "for i in range(n - 1):\n",
    "    value = li[i] + li[i + 1]\n",
    "    heappush(heap, (-value, i + 1))\n",
    "\n",
    "selected_twos = [] # (-index, sum value)\n",
    "max_result = sum(li)\n",
    "cur = max_result\n",
    "\n",
    "end_index = n - 1\n",
    "left_moved = 0\n",
    "\n",
    "for to_reduce in range(1, n):\n",
    "    ip = True\n",
    "    cur -= li[end_index]\n",
    "    end_index -= 1\n",
    "    if to_reduce % 2 == 1:\n",
    "        left_moved += 1\n",
    "        if left_moved > z:\n",
    "            break\n",
    "\n",
    "        cur += li[end_index - 1]\n",
    "        if selected_twos and -selected_twos[0][0] >= end_index:\n",
    "            _, value = heappop(selected_twos)\n",
    "            cur -= value\n",
    "            while True:\n",
    "                if not heap:\n",
    "                    ip = False\n",
    "                    break\n",
    "                if heap[0][1] >= end_index:\n",
    "                    heappop(heap)\n",
    "                    continue\n",
    "                v, index = heappop(heap)\n",
    "                v = -v\n",
    "                heappush(selected_twos, (-index, v))\n",
    "                cur += v\n",
    "                break\n",
    "\n",
    "        if not ip:\n",
    "            break\n",
    "        max_result = max(max_result, cur)\n",
    "\n",
    "    else:\n",
    "        cur -= li[end_index]\n",
    "        while True:\n",
    "            if not heap:\n",
    "                ip = False\n",
    "                break\n",
    "            if heap[0][1] > end_index:\n",
    "                heappop(heap)\n",
    "                continue\n",
    "            v, index = heappop(heap)\n",
    "            v = -v\n",
    "            heappush(selected_twos, (-index, v))\n",
    "            cur += v\n",
    "            break\n",
    "\n",
    "        if not ip:\n",
    "            break\n",
    "        max_result = max(max_result, cur)\n",
    "    print(to_reduce, selected_twos, cur)\n",
    "\n",
    "print(max_result)"
   ]
  },
  {
   "cell_type": "code",
   "execution_count": 125,
   "metadata": {},
   "outputs": [
    {
     "name": "stdout",
     "output_type": "stream",
     "text": [
      "6 4 3\n"
     ]
    },
    {
     "ename": "ValueError",
     "evalue": "invalid literal for int() with base 10: '6 4 3'",
     "output_type": "error",
     "traceback": [
      "\u001b[1;31m---------------------------------------------------------------------------\u001b[0m",
      "\u001b[1;31mValueError\u001b[0m                                Traceback (most recent call last)",
      "\u001b[1;32m<ipython-input-125-4e103677ca30>\u001b[0m in \u001b[0;36m<module>\u001b[1;34m\u001b[0m\n\u001b[0;32m      3\u001b[0m \u001b[1;31m# input = lambda: sys.stdin.readline().rstrip()\u001b[0m\u001b[1;33m\u001b[0m\u001b[1;33m\u001b[0m\u001b[1;33m\u001b[0m\u001b[0m\n\u001b[0;32m      4\u001b[0m \u001b[1;33m\u001b[0m\u001b[0m\n\u001b[1;32m----> 5\u001b[1;33m \u001b[1;32mfor\u001b[0m \u001b[0m_\u001b[0m \u001b[1;32min\u001b[0m \u001b[0mrange\u001b[0m\u001b[1;33m(\u001b[0m\u001b[0mint\u001b[0m\u001b[1;33m(\u001b[0m\u001b[0minput\u001b[0m\u001b[1;33m(\u001b[0m\u001b[1;33m)\u001b[0m\u001b[1;33m)\u001b[0m\u001b[1;33m)\u001b[0m\u001b[1;33m:\u001b[0m\u001b[1;33m\u001b[0m\u001b[1;33m\u001b[0m\u001b[0m\n\u001b[0m\u001b[0;32m      6\u001b[0m     \u001b[0mn\u001b[0m\u001b[1;33m,\u001b[0m \u001b[0mk\u001b[0m\u001b[1;33m,\u001b[0m \u001b[0mz\u001b[0m \u001b[1;33m=\u001b[0m \u001b[0mmap\u001b[0m\u001b[1;33m(\u001b[0m\u001b[0mint\u001b[0m\u001b[1;33m,\u001b[0m \u001b[0minput\u001b[0m\u001b[1;33m(\u001b[0m\u001b[1;33m)\u001b[0m\u001b[1;33m.\u001b[0m\u001b[0msplit\u001b[0m\u001b[1;33m(\u001b[0m\u001b[1;33m)\u001b[0m\u001b[1;33m)\u001b[0m\u001b[1;33m\u001b[0m\u001b[1;33m\u001b[0m\u001b[0m\n\u001b[0;32m      7\u001b[0m     \u001b[0mli\u001b[0m \u001b[1;33m=\u001b[0m \u001b[0mlist\u001b[0m\u001b[1;33m(\u001b[0m\u001b[0mmap\u001b[0m\u001b[1;33m(\u001b[0m\u001b[0mint\u001b[0m\u001b[1;33m,\u001b[0m \u001b[0minput\u001b[0m\u001b[1;33m(\u001b[0m\u001b[1;33m)\u001b[0m\u001b[1;33m.\u001b[0m\u001b[0msplit\u001b[0m\u001b[1;33m(\u001b[0m\u001b[1;33m)\u001b[0m\u001b[1;33m)\u001b[0m\u001b[1;33m)\u001b[0m\u001b[1;33m\u001b[0m\u001b[1;33m\u001b[0m\u001b[0m\n",
      "\u001b[1;31mValueError\u001b[0m: invalid literal for int() with base 10: '6 4 3'"
     ]
    }
   ],
   "source": [
    "from heapq import heappush, heappop\n",
    "import sys\n",
    "# input = lambda: sys.stdin.readline().rstrip()\n",
    "\n",
    "for _ in range(int(input())):\n",
    "    n, k, z = map(int, input().split())\n",
    "    li = list(map(int, input().split()))\n",
    "\n",
    "    n = k + 1\n",
    "    while len(li) > n:\n",
    "        li.pop()\n",
    "\n",
    "    heap = []\n",
    "    for i in range(n - 1):\n",
    "        value = li[i] + li[i + 1]\n",
    "        heappush(heap, (-value, i + 1))\n",
    "\n",
    "    selected_two = 0\n",
    "    max_result = sum(li)\n",
    "    cur = max_result\n",
    "\n",
    "    end_index = n - 1\n",
    "    left_moved = 0\n",
    "    two_used = 0\n",
    "    two_sum = 0\n",
    "\n",
    "    for to_reduce in range(1, n):\n",
    "        ip = True\n",
    "        cur -= li[end_index]\n",
    "        end_index -= 1\n",
    "        if to_reduce % 2 == 1:\n",
    "            left_moved += 1\n",
    "            if left_moved > z:\n",
    "                break\n",
    "\n",
    "            cur += li[end_index - 1]\n",
    "            if selected_two and selected_two >= end_index:\n",
    "                while True:\n",
    "                    if not heap:\n",
    "                        ip = False\n",
    "                        break\n",
    "                    if heap[0][1] >= end_index:\n",
    "                        heappop(heap)\n",
    "                        continue\n",
    "                    v, index = heappop(heap)\n",
    "                    v = -v\n",
    "                    selected_two = index\n",
    "                    two_sum = v\n",
    "                    break\n",
    "\n",
    "            if not ip:\n",
    "                break\n",
    "            max_result = max(max_result, cur + two_used * two_sum)\n",
    "\n",
    "        else:\n",
    "            if not selected_two:\n",
    "                while True:\n",
    "                    if not heap:\n",
    "                        ip = False\n",
    "                        break\n",
    "                    if heap[0][1] > end_index:\n",
    "                        heappop(heap)\n",
    "                        continue\n",
    "                    break\n",
    "\n",
    "                if not ip:\n",
    "                    break\n",
    "\n",
    "                v, index = heappop(heap)\n",
    "                v = -v\n",
    "                selected_two = index\n",
    "                two_sum = v\n",
    "\n",
    "            two_used += 1\n",
    "            cur -= li[end_index]\n",
    "            max_result = max(max_result, cur + two_used * two_sum)\n",
    "\n",
    "    print(max_result)"
   ]
  },
  {
   "cell_type": "code",
   "execution_count": 138,
   "metadata": {},
   "outputs": [
    {
     "name": "stdout",
     "output_type": "stream",
     "text": [
      "5 4\n",
      "ENFP\n",
      "ENFP\n",
      "ENFP\n",
      "ENFP\n",
      "ENFP\n",
      "9\n"
     ]
    }
   ],
   "source": [
    "from itertools import product\n",
    "\n",
    "types = [['E', 'I'], ['N', 'S'], ['F', 'T'], ['P', 'J']]\n",
    "st = set()\n",
    "for v in product(*types):\n",
    "    st.add(''.join(v))\n",
    "    \n",
    "n, m = map(int, input().split())\n",
    "li = [input() for _ in range(n)]\n",
    "\n",
    "dx = [-1, -1, -1, 0, 0, 1, 1, 1]\n",
    "dy = [-1, 0, 1, -1, 1, -1, 0, 1]\n",
    "\n",
    "total = 0\n",
    "for i in range(n):\n",
    "    for j in range(m):\n",
    "        if li[i][j] == 'E' or li[i][j] == 'I':\n",
    "            for d in range(8):\n",
    "                cur = li[i][j]\n",
    "                ni = i\n",
    "                nj = j\n",
    "                for _ in range(3):\n",
    "                    ni += dx[d]\n",
    "                    nj += dy[d]\n",
    "                    \n",
    "                    if ni < 0 or ni >= n or nj < 0 or nj >= m:\n",
    "                        ip = False\n",
    "                        break\n",
    "                    cur += li[ni][nj]\n",
    "                    \n",
    "                if cur in st:\n",
    "                    total += 1\n",
    "                \n",
    "print(total)"
   ]
  },
  {
   "cell_type": "code",
   "execution_count": 166,
   "metadata": {},
   "outputs": [
    {
     "name": "stdout",
     "output_type": "stream",
     "text": [
      "1\n",
      "5 4 0\n",
      "1 5 4 3 2\n",
      "15\n"
     ]
    }
   ],
   "source": [
    "from heapq import heappush, heappop\n",
    "import sys\n",
    "input = lambda: sys.stdin.readline().rstrip()\n",
    " \n",
    "for _ in range(int(input())):\n",
    "    n, k, z = map(int, input().split())\n",
    "    li = list(map(int, input().split()))\n",
    "\n",
    "    n = k + 1\n",
    "    while len(li) > n:\n",
    "        li.pop()\n",
    "    end_index = n - 1\n",
    "\n",
    "    heap = []\n",
    "    for i in range(n - 1):\n",
    "        value = li[i] + li[i + 1]\n",
    "        heappush(heap, (-value, i + 1))\n",
    "\n",
    "    max_total = sum(li)\n",
    "    total = max_total\n",
    "\n",
    "    selected_two_sum = 0\n",
    "    selected_two_index = float('inf')\n",
    "    removed = 0\n",
    "    odd_temp = 0\n",
    "    temp = 0\n",
    "    left_moved = 0\n",
    "    added_two_count = 0\n",
    "\n",
    "    for i in range(n - 2):\n",
    "        removed += 1\n",
    "        total -= li[end_index]\n",
    "        end_index -= 1\n",
    "\n",
    "        if selected_two_index > end_index:\n",
    "            while heap:\n",
    "                value, index = heappop(heap)\n",
    "                value = -value\n",
    "\n",
    "                if index > end_index:\n",
    "                    continue\n",
    "                selected_two_sum = value\n",
    "                selected_two_index = index\n",
    "                break\n",
    "\n",
    "        total -= temp\n",
    "        temp = 0\n",
    "\n",
    "        if removed % 2 == 1:\n",
    "            left_moved += 1 \n",
    "            if left_moved > z:\n",
    "                break\n",
    "            odd_temp = li[end_index - 1]\n",
    "            total += odd_temp\n",
    "        else:\n",
    "            total -= odd_temp\n",
    "            odd_temp = 0\n",
    "            added_two_count += 1\n",
    "\n",
    "        temp = added_two_count * selected_two_sum\n",
    "        total += temp\n",
    "        max_total = max(max_total, total)\n",
    "\n",
    "    print(max_total)"
   ]
  },
  {
   "cell_type": "code",
   "execution_count": 157,
   "metadata": {},
   "outputs": [
    {
     "data": {
      "text/plain": [
       "[1, 5, 4, 3, 2]"
      ]
     },
     "execution_count": 157,
     "metadata": {},
     "output_type": "execute_result"
    }
   ],
   "source": [
    "li"
   ]
  },
  {
   "cell_type": "code",
   "execution_count": 158,
   "metadata": {},
   "outputs": [
    {
     "data": {
      "text/plain": [
       "2"
      ]
     },
     "execution_count": 158,
     "metadata": {},
     "output_type": "execute_result"
    }
   ],
   "source": [
    "1 2 1    1 1 1"
   ]
  },
  {
   "cell_type": "code",
   "execution_count": null,
   "metadata": {},
   "outputs": [],
   "source": [
    "A번 4점\n",
    "B번 3점\n",
    "C번 5점\n",
    "D번 5점\n",
    "E번 4점\n",
    "F번 5점\n",
    "G번 5점"
   ]
  }
 ],
 "metadata": {
  "kernelspec": {
   "display_name": "Python 3",
   "language": "python",
   "name": "python3"
  },
  "language_info": {
   "codemirror_mode": {
    "name": "ipython",
    "version": 3
   },
   "file_extension": ".py",
   "mimetype": "text/x-python",
   "name": "python",
   "nbconvert_exporter": "python",
   "pygments_lexer": "ipython3",
   "version": "3.8.3"
  }
 },
 "nbformat": 4,
 "nbformat_minor": 4
}
