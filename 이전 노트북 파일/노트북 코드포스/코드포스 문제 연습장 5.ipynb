{
 "cells": [
  {
   "cell_type": "markdown",
   "metadata": {},
   "source": [
    "https://codeforces.com/problemset/problem/1700/B B. Palindromic Numbers"
   ]
  },
  {
   "cell_type": "code",
   "execution_count": 8,
   "metadata": {},
   "outputs": [
    {
     "name": "stdout",
     "output_type": "stream",
     "text": [
      "2\n",
      "99\n"
     ]
    }
   ],
   "source": [
    "n = int(input())\n",
    "li = list(map(int, input()))"
   ]
  },
  {
   "cell_type": "code",
   "execution_count": 15,
   "metadata": {},
   "outputs": [
    {
     "name": "stdout",
     "output_type": "stream",
     "text": [
      "1\n",
      "2\n",
      "99\n",
      "[9, 9] False\n",
      "[0, 9] True\n",
      "12\n"
     ]
    }
   ],
   "source": [
    "import sys\n",
    "# input = lambda: sys.stdin.readline().rstrip()\n",
    "\n",
    "for _ in range(int(input())):\n",
    "    n = int(input())\n",
    "    li = list(map(int, input()))\n",
    "\n",
    "    r = [0] * n\n",
    "\n",
    "    if li[0] == 9:\n",
    "        is_added = False\n",
    "        for i in range(n - 1, -1, -1):\n",
    "            if is_added:\n",
    "                li[i] += 1\n",
    "                is_added = False\n",
    "\n",
    "            if li[i] >= 10:\n",
    "                is_added = True\n",
    "                li[i] -= 10\n",
    "\n",
    "            if li[i] == 0:\n",
    "                r[i] = 1\n",
    "            elif li[i] == 1:\n",
    "                r[i] = 0\n",
    "            else:\n",
    "                r[i] = 11 - li[i]\n",
    "                is_added = True\n",
    "    else:\n",
    "        for i in range(n):\n",
    "            r[i] = 9 - li[i]\n",
    "\n",
    "    print(''.join(map(str, r)))"
   ]
  },
  {
   "cell_type": "markdown",
   "metadata": {},
   "source": [
    "https://codeforces.com/problemset/problem/1674/D D. A-B-C Sort"
   ]
  },
  {
   "cell_type": "code",
   "execution_count": 23,
   "metadata": {},
   "outputs": [
    {
     "name": "stdout",
     "output_type": "stream",
     "text": [
      "4\n",
      "3 1 5 3\n",
      "YES\n"
     ]
    }
   ],
   "source": [
    "import sys\n",
    "input = lambda: sys.stdin.readline().rstrip()\n",
    "\n",
    "for _ in range(int(input())):\n",
    "    n = int(input())\n",
    "    li = list(map(int, input().split()))\n",
    "    nli = sorted(li)\n",
    "\n",
    "    ip = True\n",
    "    for i in range(n - 1, 0, -2):\n",
    "        if sorted([li[i - 1], li[i]]) != nli[i - 1:i + 1]:\n",
    "            ip = False\n",
    "            break\n",
    "\n",
    "    if ip:\n",
    "        print('YES')\n",
    "    else:\n",
    "        print('NO')"
   ]
  },
  {
   "cell_type": "markdown",
   "metadata": {},
   "source": [
    "https://codeforces.com/problemset/problem/1660/C C. Get an Even String"
   ]
  },
  {
   "cell_type": "code",
   "execution_count": 27,
   "metadata": {},
   "outputs": [
    {
     "name": "stdout",
     "output_type": "stream",
     "text": [
      "oaoaaaoo\n",
      "2\n"
     ]
    }
   ],
   "source": [
    "import sys\n",
    "input = lambda: sys.stdin.readline().rstrip()\n",
    "\n",
    "for _ in range(int(input())):\n",
    "    s = input()\n",
    "    n = len(s)\n",
    "\n",
    "    total = 0\n",
    "    st = set()\n",
    "    for i in range(n):\n",
    "        if not st:\n",
    "            st.add(s[i])\n",
    "            continue\n",
    "\n",
    "        if s[i] in st:\n",
    "            total += len(st) - 1\n",
    "            st = set()\n",
    "        else:\n",
    "            st.add(s[i])\n",
    "\n",
    "    total += len(st)\n",
    "\n",
    "    print(total)"
   ]
  },
  {
   "cell_type": "markdown",
   "metadata": {},
   "source": [
    "https://codeforces.com/problemset/problem/1648/A A. Weird Sum"
   ]
  },
  {
   "cell_type": "code",
   "execution_count": 32,
   "metadata": {},
   "outputs": [
    {
     "name": "stdout",
     "output_type": "stream",
     "text": [
      "4 4\n",
      "1 1 2 3\n",
      "2 1 1 2\n",
      "3 1 2 1\n",
      "1 1 2 1\n",
      "129\n"
     ]
    }
   ],
   "source": [
    "import sys\n",
    "input = lambda: sys.stdin.readline().rstrip()\n",
    "\n",
    "n, m = map(int, input().split())\n",
    "li = [list(map(int, input().split())) for _ in range(n)]\n",
    "\n",
    "xs = [[] for _ in range(100001)]\n",
    "ys = [[] for _ in range(100001)]\n",
    "\n",
    "for i in range(n):\n",
    "    for j in range(m):\n",
    "        color = li[i][j]\n",
    "        \n",
    "        xs[color].append(i)\n",
    "        ys[color].append(j)\n",
    "        \n",
    "sxs = [[] for _ in range(100001)]\n",
    "sys = [[] for _ in range(100001)]\n",
    "total = 0\n",
    "for i in range(100001):\n",
    "    xs[i].sort()\n",
    "    ys[i].sort()\n",
    "    \n",
    "    cx = 0\n",
    "    sxs[i].append(0)\n",
    "    cy = 0\n",
    "    sys[i].append(0)\n",
    "    for j in range(len(xs[i])):\n",
    "        cx += xs[i][j]\n",
    "        sxs[i].append(cx)\n",
    "        \n",
    "        cy += ys[i][j]\n",
    "        sys[i].append(cy)\n",
    "        \n",
    "    for j in range(len(xs[i])):\n",
    "        total += j * xs[i][j] - sxs[i][j]\n",
    "        total += sxs[i][-1] - sxs[i][j] - (len(xs[i]) - j) * xs[i][j]\n",
    "        \n",
    "        total += j * ys[i][j] - sys[i][j]\n",
    "        total += sys[i][-1] - sys[i][j] - (len(ys[i]) - j) * ys[i][j]\n",
    "        \n",
    "print(total // 2)"
   ]
  },
  {
   "cell_type": "markdown",
   "metadata": {},
   "source": [
    "https://codeforces.com/problemset/problem/1690/E E. Price Maximization"
   ]
  },
  {
   "cell_type": "code",
   "execution_count": 52,
   "metadata": {},
   "outputs": [
    {
     "name": "stdout",
     "output_type": "stream",
     "text": [
      "1\n",
      "6 3\n",
      "3 2 7 1 4 8\n",
      "10\n"
     ]
    }
   ],
   "source": [
    "from collections import deque\n",
    "import sys\n",
    "# input = lambda: sys.stdin.readline().rstrip()\n",
    "\n",
    "for _ in range(int(input())):\n",
    "    n, k = map(int, input().split())\n",
    "    li = list(map(int, input().split()))\n",
    "\n",
    "    nli = [(li[i] % k, li[i]) for i in range(n)]\n",
    "    nli.sort(key=lambda x: x[0])\n",
    "    deq = deque(nli)\n",
    "        \n",
    "    total = 0\n",
    "    while deq and deq[0] == 0:\n",
    "        _, v1 = deq.popleft()\n",
    "        _, v2 = deq.popleft()\n",
    "        \n",
    "        total += (v1 + v2) // k\n",
    "        \n",
    "    while deq:\n",
    "        if (deq[0][0] + deq[-1][0]) >= k:\n",
    "            _, v1 = deq.popleft()\n",
    "            _, v2 = deq.pop()\n",
    "            \n",
    "            total += (v1 + v2) // k\n",
    "        else:\n",
    "            _, v1 = deq.popleft()\n",
    "            _, v2 = deq.popleft()\n",
    "\n",
    "            total += (v1 + v2) // k\n",
    "            \n",
    "    print(total)"
   ]
  },
  {
   "cell_type": "markdown",
   "metadata": {},
   "source": [
    "https://codeforces.com/problemset/problem/1689/C C. Infected Tree"
   ]
  },
  {
   "cell_type": "code",
   "execution_count": 79,
   "metadata": {},
   "outputs": [
    {
     "name": "stdout",
     "output_type": "stream",
     "text": [
      "7\n",
      "1 2\n",
      "1 3\n",
      "2 4\n",
      "2 5\n",
      "3 6\n",
      "3 7\n",
      "2\n"
     ]
    }
   ],
   "source": [
    "from collections import deque \n",
    "import sys\n",
    "# input = lambda: sys.stdin.readline().rstrip()\n",
    "\n",
    "for _ in range(int(input())):\n",
    "    n = int(input())\n",
    "\n",
    "    li = [[] for _ in range(n + 1)]\n",
    "    for _ in range(n - 1):\n",
    "        a, b = map(int, input().split())\n",
    "        li[a].append(b)\n",
    "        li[b].append(a)\n",
    "\n",
    "    ccs = [0] * (n + 1) # children counts\n",
    "    ccs[1] = len(li[1])\n",
    "    for i in range(2, n + 1):\n",
    "        ccs[i] = len(li[i]) - 1\n",
    "\n",
    "    discarded = 1\n",
    "    if ccs[1] == 0:\n",
    "        pass\n",
    "    elif ccs[1] == 1:\n",
    "        discarded += 1\n",
    "    else:  \n",
    "        queue = deque()\n",
    "        queue.append(1)\n",
    "        is_end = False\n",
    "        end_with_del = 999\n",
    "        vt = [False] * (n + 1)\n",
    "        vt[1] = True\n",
    "        while True:\n",
    "            for _ in range(len(queue)):\n",
    "                value = queue.popleft()\n",
    "\n",
    "                cand = []\n",
    "                nxts = []\n",
    "                for v in li[value]:\n",
    "                    if vt[v]:\n",
    "                        continue\n",
    "                    vt[v] = True\n",
    "                    nxts.append(v)\n",
    "                    cand.append(ccs[v])\n",
    "\n",
    "                if cand[0] == 1 and cand[1] == 1:\n",
    "                    is_end = True\n",
    "                    end_with_del = min(end_with_del, 3)\n",
    "                elif not (cand[0] == 2 and cand[1] == 2):\n",
    "                    is_end = True\n",
    "                    end_with_del = min(end_with_del, 2)\n",
    "\n",
    "                for v in nxts:\n",
    "                    queue.append(v)\n",
    "\n",
    "            if is_end:\n",
    "                discarded += end_with_del\n",
    "                break\n",
    "            else:\n",
    "                discarded += 2\n",
    "\n",
    "    print(n - discarded)"
   ]
  },
  {
   "cell_type": "markdown",
   "metadata": {},
   "source": [
    "https://codeforces.com/problemset/problem/1472/C C. Long Jumps"
   ]
  },
  {
   "cell_type": "markdown",
   "metadata": {},
   "source": [
    "3.08 3.18"
   ]
  },
  {
   "cell_type": "code",
   "execution_count": 5,
   "metadata": {},
   "outputs": [
    {
     "name": "stdout",
     "output_type": "stream",
     "text": [
      "5\n",
      "7 3 1 2 3\n",
      "7\n"
     ]
    }
   ],
   "source": [
    "import sys\n",
    "input = lambda: sys.stdin.readline().rstrip()\n",
    "\n",
    "for _ in range(int(input())):\n",
    "    n = int(input())\n",
    "    li = list(map(int, input().split()))\n",
    "\n",
    "    dp = [0] * n\n",
    "    for i in range(n - 1, -1, -1):\n",
    "        cur = li[i]\n",
    "\n",
    "        ni = i + li[i]\n",
    "        if ni < n:\n",
    "            dp[i] = cur + dp[ni]\n",
    "        else:\n",
    "            dp[i] = cur\n",
    "\n",
    "    print(max(dp))"
   ]
  },
  {
   "cell_type": "markdown",
   "metadata": {},
   "source": [
    "https://codeforces.com/problemset/problem/1471/B B. Strange List"
   ]
  },
  {
   "cell_type": "markdown",
   "metadata": {},
   "source": [
    "3.38 3.49"
   ]
  },
  {
   "cell_type": "code",
   "execution_count": null,
   "metadata": {},
   "outputs": [],
   "source": [
    "q % x == 0"
   ]
  },
  {
   "cell_type": "code",
   "execution_count": null,
   "metadata": {},
   "outputs": [],
   "source": [
    "1 2\n",
    "12"
   ]
  },
  {
   "cell_type": "code",
   "execution_count": null,
   "metadata": {},
   "outputs": [],
   "source": [
    "12 6 6 3 3 3 3"
   ]
  },
  {
   "cell_type": "code",
   "execution_count": 16,
   "metadata": {},
   "outputs": [
    {
     "name": "stdout",
     "output_type": "stream",
     "text": [
      "1 2\n",
      "12\n",
      "36\n"
     ]
    }
   ],
   "source": [
    "import sys\n",
    "input = lambda: sys.stdin.readline().rstrip()\n",
    "\n",
    "for _ in range(int(input())):\n",
    "    n, x = map(int, input().split())\n",
    "    li = list(map(int, input().split()))\n",
    "\n",
    "    total = 0\n",
    "    cs = [0] * n\n",
    "    for i in range(n):\n",
    "        value = li[i]\n",
    "\n",
    "        v = value\n",
    "        c = 1\n",
    "        while v % x == 0:\n",
    "            c += 1\n",
    "            v //= x\n",
    "\n",
    "        cs[i] = c\n",
    "\n",
    "    min_c = min(cs)\n",
    "\n",
    "    total = sum(li) * min_c\n",
    "    for i in range(n):\n",
    "        if cs[i] > min_c:\n",
    "            total += li[i]\n",
    "        else:\n",
    "            break\n",
    "\n",
    "    print(total)"
   ]
  },
  {
   "cell_type": "code",
   "execution_count": 13,
   "metadata": {},
   "outputs": [
    {
     "data": {
      "text/plain": [
       "44"
      ]
     },
     "execution_count": 13,
     "metadata": {},
     "output_type": "execute_result"
    }
   ],
   "source": [
    "4 * 3 + 6 * 2 + 8 * 2 + 2 * 2"
   ]
  },
  {
   "cell_type": "code",
   "execution_count": null,
   "metadata": {},
   "outputs": [],
   "source": [
    "4 -> 2 -> 1\n",
    "6 -> 3\n",
    "8 -> 4 -> 2 -> 1\n",
    "2 -> 1"
   ]
  },
  {
   "cell_type": "code",
   "execution_count": 11,
   "metadata": {},
   "outputs": [
    {
     "data": {
      "text/plain": [
       "60"
      ]
     },
     "execution_count": 11,
     "metadata": {},
     "output_type": "execute_result"
    }
   ],
   "source": [
    "4 6 8 2 2 2"
   ]
  },
  {
   "cell_type": "markdown",
   "metadata": {},
   "source": [
    "https://codeforces.com/problemset/problem/1463/A A. Dungeon"
   ]
  },
  {
   "cell_type": "markdown",
   "metadata": {},
   "source": [
    "3.50 3.58"
   ]
  },
  {
   "cell_type": "code",
   "execution_count": 22,
   "metadata": {},
   "outputs": [
    {
     "name": "stdout",
     "output_type": "stream",
     "text": [
      "10 1 7\n",
      "NO\n"
     ]
    }
   ],
   "source": [
    "import sys\n",
    "input = lambda: sys.stdin.readline().rstrip()\n",
    "\n",
    "for _ in range(int(input())):\n",
    "    a, b, c = map(int, input().split())\n",
    "\n",
    "    v = a + b + c - 3\n",
    "    ct = v // 9\n",
    "    v %= 9\n",
    "\n",
    "    ct += 1\n",
    "\n",
    "    if v == 6 and min(a, b, c) >= ct:\n",
    "        print('YES')\n",
    "    else:\n",
    "        print('NO')"
   ]
  },
  {
   "cell_type": "markdown",
   "metadata": {},
   "source": [
    "https://codeforces.com/problemset/problem/1455/C C. Ping-pong"
   ]
  },
  {
   "cell_type": "markdown",
   "metadata": {},
   "source": [
    "4.27 4.36"
   ]
  },
  {
   "cell_type": "code",
   "execution_count": 26,
   "metadata": {},
   "outputs": [
    {
     "name": "stdout",
     "output_type": "stream",
     "text": [
      "1 7\n",
      "0 7\n"
     ]
    }
   ],
   "source": [
    "import sys\n",
    "input = lambda: sys.stdin.readline().rstrip()\n",
    "\n",
    "for _ in range(int(input())):\n",
    "    x, y = map(int, input().split())\n",
    "\n",
    "    rx = ry = 0\n",
    "    rx = x - 1\n",
    "    ry = y\n",
    "\n",
    "    print(rx, ry)"
   ]
  },
  {
   "cell_type": "markdown",
   "metadata": {},
   "source": [
    "https://codeforces.com/problemset/problem/1428/C C. ABBB"
   ]
  },
  {
   "cell_type": "markdown",
   "metadata": {},
   "source": [
    "4.38 4.44"
   ]
  },
  {
   "cell_type": "code",
   "execution_count": null,
   "metadata": {},
   "outputs": [],
   "source": [
    "AABBABBB"
   ]
  },
  {
   "cell_type": "code",
   "execution_count": 29,
   "metadata": {},
   "outputs": [
    {
     "name": "stdout",
     "output_type": "stream",
     "text": [
      "AABBBABBBB\n",
      "0\n"
     ]
    }
   ],
   "source": [
    "import sys\n",
    "input = lambda: sys.stdin.readline().rstrip()\n",
    "\n",
    "for _ in range(int(input())):\n",
    "    s = input()\n",
    "\n",
    "    stack = []\n",
    "    for v in s:\n",
    "        if v == 'A':\n",
    "            stack.append(v)\n",
    "        else:\n",
    "            if stack and stack[-1] == 'A':\n",
    "                stack.pop()\n",
    "            else:\n",
    "                stack.append('B')\n",
    "\n",
    "    cb = stack.count('B')\n",
    "    ca = len(stack) - cb\n",
    "\n",
    "    cb %= 2\n",
    "\n",
    "    total = ca + cb\n",
    "\n",
    "    print(total)"
   ]
  },
  {
   "cell_type": "markdown",
   "metadata": {},
   "source": [
    "https://codeforces.com/problemset/problem/1426/C C. Increase and Copy"
   ]
  },
  {
   "cell_type": "markdown",
   "metadata": {},
   "source": [
    "4.52 5.04"
   ]
  },
  {
   "cell_type": "code",
   "execution_count": null,
   "metadata": {},
   "outputs": [],
   "source": [
    "n = int(input())\n",
    "\n",
    "cri = int(n ** 0.5 * 2)\n",
    "\n",
    "for i in range(min())"
   ]
  },
  {
   "cell_type": "code",
   "execution_count": null,
   "metadata": {},
   "outputs": [],
   "source": [
    "1\n",
    "2\n",
    "3\n",
    "3 3\n",
    "3 3 3\n",
    "3 3 3 3"
   ]
  },
  {
   "cell_type": "code",
   "execution_count": null,
   "metadata": {},
   "outputs": [],
   "source": [
    "1\n",
    "2\n",
    "3\n",
    "4\n",
    "4 4\n",
    "4 4 4"
   ]
  },
  {
   "cell_type": "code",
   "execution_count": null,
   "metadata": {},
   "outputs": [],
   "source": [
    "1\n",
    "2\n",
    "3\n",
    "4\n",
    "5\n",
    "5 5\n",
    "5 5 5"
   ]
  },
  {
   "cell_type": "code",
   "execution_count": 36,
   "metadata": {},
   "outputs": [
    {
     "data": {
      "text/plain": [
       "63245.553203367585"
      ]
     },
     "execution_count": 36,
     "metadata": {},
     "output_type": "execute_result"
    }
   ],
   "source": [
    "int(1e9) ** 0.5 * 2"
   ]
  },
  {
   "cell_type": "code",
   "execution_count": 31,
   "metadata": {},
   "outputs": [
    {
     "data": {
      "text/plain": [
       "31622000"
      ]
     },
     "execution_count": 31,
     "metadata": {},
     "output_type": "execute_result"
    }
   ],
   "source": [
    "31622 31622 31622 31622 31622 31622 31622 31622 31622 31622 31622 31622  b"
   ]
  },
  {
   "cell_type": "code",
   "execution_count": 35,
   "metadata": {},
   "outputs": [
    {
     "data": {
      "text/plain": [
       "63244000"
      ]
     },
     "execution_count": 35,
     "metadata": {},
     "output_type": "execute_result"
    }
   ],
   "source": [
    "63244 * 1000"
   ]
  },
  {
   "cell_type": "code",
   "execution_count": 37,
   "metadata": {},
   "outputs": [
    {
     "data": {
      "text/plain": [
       "73.13002119512889"
      ]
     },
     "execution_count": 37,
     "metadata": {},
     "output_type": "execute_result"
    }
   ],
   "source": [
    "1337 ** 0.5 * 2"
   ]
  },
  {
   "cell_type": "code",
   "execution_count": 38,
   "metadata": {},
   "outputs": [
    {
     "data": {
      "text/plain": [
       "12.96148139681572"
      ]
     },
     "execution_count": 38,
     "metadata": {},
     "output_type": "execute_result"
    }
   ],
   "source": [
    "42 ** 0.5 * 2"
   ]
  },
  {
   "cell_type": "code",
   "execution_count": 39,
   "metadata": {},
   "outputs": [
    {
     "data": {
      "text/plain": [
       "4.47213595499958"
      ]
     },
     "execution_count": 39,
     "metadata": {},
     "output_type": "execute_result"
    }
   ],
   "source": [
    "5 ** 0.5 * 2"
   ]
  },
  {
   "cell_type": "code",
   "execution_count": 40,
   "metadata": {},
   "outputs": [
    {
     "data": {
      "text/plain": [
       "2.0"
      ]
     },
     "execution_count": 40,
     "metadata": {},
     "output_type": "execute_result"
    }
   ],
   "source": [
    "1 ** 0.5 * 2"
   ]
  },
  {
   "cell_type": "code",
   "execution_count": 41,
   "metadata": {},
   "outputs": [
    {
     "data": {
      "text/plain": [
       "36.565010597564445"
      ]
     },
     "execution_count": 41,
     "metadata": {},
     "output_type": "execute_result"
    }
   ],
   "source": [
    "1337 ** 0.5"
   ]
  },
  {
   "cell_type": "code",
   "execution_count": null,
   "metadata": {},
   "outputs": [],
   "source": [
    "1\n",
    "37\n",
    "37 * 37"
   ]
  },
  {
   "cell_type": "code",
   "execution_count": 44,
   "metadata": {},
   "outputs": [
    {
     "data": {
      "text/plain": [
       "72"
      ]
     },
     "execution_count": 44,
     "metadata": {},
     "output_type": "execute_result"
    }
   ],
   "source": [
    "36 + 36"
   ]
  },
  {
   "cell_type": "code",
   "execution_count": 55,
   "metadata": {},
   "outputs": [
    {
     "name": "stdout",
     "output_type": "stream",
     "text": [
      "1\n",
      "1\n",
      "0\n"
     ]
    }
   ],
   "source": [
    "from math import ceil\n",
    "import sys\n",
    "# input = lambda: sys.stdin.readline().rstrip()\n",
    "\n",
    "for _ in range(int(input())):\n",
    "    n = int(input())\n",
    "\n",
    "    value = ceil(n ** 0.5)\n",
    "\n",
    "    needed = n // value\n",
    "    if n % value:\n",
    "        needed += 1\n",
    "\n",
    "    r = value - 1 + needed - 1\n",
    "\n",
    "    print(r)"
   ]
  },
  {
   "cell_type": "code",
   "execution_count": null,
   "metadata": {},
   "outputs": [],
   "source": [
    "get_value 만들어서 실험해봐도 좋을듯"
   ]
  },
  {
   "cell_type": "code",
   "execution_count": 88,
   "metadata": {},
   "outputs": [
    {
     "name": "stdout",
     "output_type": "stream",
     "text": [
      "1\n",
      "1337\n",
      "72\n"
     ]
    }
   ],
   "source": [
    "import sys, os, io\n",
    "# input = io.BytesIO(os.read(0,os.fstat(0).st_size)).readline\n",
    "\n",
    "inf = float('inf')\n",
    "\n",
    "for _ in range(int(input())):\n",
    "    n = int(input())\n",
    "    \n",
    "    min_r = inf\n",
    "    cri = int(n ** 0.5)\n",
    "    for num in range(max(1, cri - 5), cri + 5):\n",
    "        c = num - 1\n",
    "        \n",
    "        needed = n // num\n",
    "        if n % num:\n",
    "            needed += 1\n",
    "        needed -= 1\n",
    "        \n",
    "        c += needed\n",
    "        min_r = min(min_r, c)\n",
    "        \n",
    "    print(min_r)"
   ]
  },
  {
   "cell_type": "markdown",
   "metadata": {},
   "source": [
    "https://codeforces.com/problemset/problem/1421/B"
   ]
  },
  {
   "cell_type": "markdown",
   "metadata": {},
   "source": [
    "5.24 5.35"
   ]
  },
  {
   "cell_type": "code",
   "execution_count": 89,
   "metadata": {},
   "outputs": [
    {
     "name": "stdout",
     "output_type": "stream",
     "text": [
      "4\n",
      "S010\n",
      "0001\n",
      "1000\n",
      "111F\n",
      "1\n",
      "3 4\n"
     ]
    }
   ],
   "source": [
    "import sys\n",
    "input = lambda: sys.stdin.readline().rstrip()\n",
    "\n",
    "for _ in range(int(input())):\n",
    "    n = int(input())\n",
    "    li = [input() for _ in range(n)]\n",
    "\n",
    "    c01 = li[0][1]\n",
    "    c10 = li[1][0]\n",
    "    cn1 = li[n - 2][n - 1]\n",
    "    cn2 = li[n - 1][n - 2]\n",
    "\n",
    "    if c01 == c10 and cn1 == cn2:\n",
    "        if c01 == cn1:\n",
    "            print(2)\n",
    "            print(1, 2)\n",
    "            print(2, 1)\n",
    "        else:\n",
    "            print(0)\n",
    "    elif c01 == c10:\n",
    "        if cn1 == c01:\n",
    "            print(1)\n",
    "            print(n - 1, n)\n",
    "        else:\n",
    "            print(1)\n",
    "            print(n, n - 1)\n",
    "    elif cn1 == cn2:\n",
    "        if c01 == cn1:\n",
    "            print(1)\n",
    "            print(1, 2)\n",
    "        else:\n",
    "            print(1)\n",
    "            print(2, 1)\n",
    "    else:\n",
    "        if c01 != cn1:\n",
    "            print(2)\n",
    "            print(1, 2)\n",
    "            print(n - 1, n)\n",
    "        elif c01 != cn2:\n",
    "            print(2)\n",
    "            print(1, 2)\n",
    "            print(n, n - 1)"
   ]
  },
  {
   "cell_type": "markdown",
   "metadata": {},
   "source": [
    "https://codeforces.com/problemset/problem/1417/B B. Two Arrays"
   ]
  },
  {
   "cell_type": "markdown",
   "metadata": {},
   "source": [
    "5.36 5.45"
   ]
  },
  {
   "cell_type": "code",
   "execution_count": 93,
   "metadata": {},
   "outputs": [
    {
     "name": "stdout",
     "output_type": "stream",
     "text": [
      "3 6\n",
      "3 3 3\n",
      "1 0 0\n"
     ]
    }
   ],
   "source": [
    "import sys\n",
    "input = lambda: sys.stdin.readline().rstrip()\n",
    "\n",
    "for _ in range(int(input())):\n",
    "    n, T = map(int, input().split())\n",
    "    li = list(map(int, input().split()))\n",
    "\n",
    "    if T % 2 == 1:\n",
    "        r = [0] * n\n",
    "        cri = T // 2\n",
    "        for i in range(n):\n",
    "            if li[i] <= cri:\n",
    "                r[i] = 1\n",
    "    else:\n",
    "        r = [0] * n\n",
    "        cri = T // 2\n",
    "        temp = []\n",
    "        for i in range(n):\n",
    "            if li[i] == cri:\n",
    "                temp.append(i)\n",
    "            elif li[i] < cri:\n",
    "                r[i] = 1\n",
    "\n",
    "        if temp:\n",
    "            c = len(temp) // 2\n",
    "            for i in range(c):\n",
    "                r[temp[i]] = 1\n",
    "\n",
    "    print(*r)"
   ]
  },
  {
   "cell_type": "markdown",
   "metadata": {},
   "source": [
    "https://codeforces.com/problemset/problem/1527/B1 B1. Palindrome Game (easy version)"
   ]
  },
  {
   "cell_type": "markdown",
   "metadata": {},
   "source": [
    "5.54 6.13"
   ]
  },
  {
   "cell_type": "code",
   "execution_count": 94,
   "metadata": {},
   "outputs": [
    {
     "data": {
      "text/plain": [
       "1000000"
      ]
     },
     "execution_count": 94,
     "metadata": {},
     "output_type": "execute_result"
    }
   ],
   "source": [
    "1000 * 1000"
   ]
  },
  {
   "cell_type": "code",
   "execution_count": null,
   "metadata": {},
   "outputs": [],
   "source": [
    "1이 1개면 bob이 이김\n",
    "짝수면 bob이 이김\n",
    "홀수에 가운데가 1이면 BoB이 이김\n",
    "홀수에 가운데가 0이면 alice가 이김"
   ]
  },
  {
   "cell_type": "code",
   "execution_count": 100,
   "metadata": {},
   "outputs": [
    {
     "name": "stdout",
     "output_type": "stream",
     "text": [
      "5\n",
      "10101\n",
      "BOB\n"
     ]
    }
   ],
   "source": [
    "import sys\n",
    "input = lambda: sys.stdin.readline().rstrip()\n",
    "\n",
    "for _ in range(int(input())):\n",
    "    n = int(input())\n",
    "    li = list(map(int, input()))\n",
    "\n",
    "    if li.count(0) == 1:\n",
    "        print('BOB')\n",
    "    elif n % 2 == 0:\n",
    "        print('BOB')\n",
    "    else:\n",
    "        if li[n // 2] == 1:\n",
    "            print('BOB')\n",
    "        else:\n",
    "            print('ALICE')"
   ]
  },
  {
   "cell_type": "markdown",
   "metadata": {},
   "source": [
    "https://codeforces.com/problemset/problem/1520/D D. Same Differences"
   ]
  },
  {
   "cell_type": "markdown",
   "metadata": {},
   "source": [
    "6.15 6.20"
   ]
  },
  {
   "cell_type": "code",
   "execution_count": 104,
   "metadata": {},
   "outputs": [
    {
     "name": "stdout",
     "output_type": "stream",
     "text": [
      "6\n",
      "1 6 3 4 5 6\n",
      "10\n"
     ]
    }
   ],
   "source": [
    "from collections import defaultdict as dd\n",
    "from random import randint\n",
    "import sys\n",
    "input = lambda: sys.stdin.readline().rstrip()\n",
    "\n",
    "rd = randint(1, int(1e9))\n",
    "\n",
    "for _ in range(int(input())):\n",
    "    n = int(input())\n",
    "    li = list(map(int, input().split()))\n",
    "\n",
    "    d = dd(int)\n",
    "    total = 0\n",
    "    for i in range(n):\n",
    "        li[i] = li[i] - (i + 1)\n",
    "\n",
    "        v = li[i]\n",
    "        w = v ^ rd\n",
    "\n",
    "        total += d[w]\n",
    "        d[w] += 1\n",
    "\n",
    "    print(total)"
   ]
  },
  {
   "cell_type": "markdown",
   "metadata": {},
   "source": [
    "https://codeforces.com/problemset/problem/1472/D D. Even-Odd Game"
   ]
  },
  {
   "cell_type": "code",
   "execution_count": 7,
   "metadata": {},
   "outputs": [
    {
     "name": "stdout",
     "output_type": "stream",
     "text": [
      "2\n",
      "7 8\n",
      "Alice\n"
     ]
    }
   ],
   "source": [
    "import sys\n",
    "input = lambda: sys.stdin.readline().rstrip()\n",
    "\n",
    "for _ in range(int(input())):\n",
    "    n = int(input())\n",
    "    li = sorted(map(int, input().split()), reverse=True)\n",
    "\n",
    "    s1 = 0\n",
    "    s2 = 0\n",
    "    for i in range(n):\n",
    "        if i % 2 == 0:\n",
    "            if li[i] % 2 == 0:\n",
    "                s1 += li[i]\n",
    "        else:\n",
    "            if li[i] % 2 == 1:\n",
    "                s2 += li[i]\n",
    "\n",
    "    if s1 > s2:\n",
    "        print('Alice')\n",
    "    elif s1 < s2:\n",
    "        print('Bob')\n",
    "    else:\n",
    "        print('Tie')"
   ]
  },
  {
   "cell_type": "markdown",
   "metadata": {},
   "source": [
    "https://codeforces.com/problemset/problem/1455/B B. Jumps"
   ]
  },
  {
   "cell_type": "code",
   "execution_count": 16,
   "metadata": {},
   "outputs": [
    {
     "name": "stdout",
     "output_type": "stream",
     "text": [
      "4\n",
      "3\n"
     ]
    }
   ],
   "source": [
    "import sys\n",
    "input = lambda: sys.stdin.readline().rstrip()\n",
    "\n",
    "for _ in range(int(input())):\n",
    "    n = int(input())\n",
    "\n",
    "    cur = 1\n",
    "    c = 1\n",
    "    while True:\n",
    "        if n <= cur:\n",
    "            if n == cur - 1:\n",
    "                c += 1\n",
    "            break\n",
    "        else:\n",
    "            c += 1\n",
    "            cur += c\n",
    "\n",
    "    print(c)"
   ]
  },
  {
   "cell_type": "markdown",
   "metadata": {},
   "source": [
    "https://codeforces.com/problemset/problem/1454/C C. Sequence Transformation"
   ]
  },
  {
   "cell_type": "markdown",
   "metadata": {},
   "source": [
    "4.15 4.22"
   ]
  },
  {
   "cell_type": "code",
   "execution_count": 18,
   "metadata": {},
   "outputs": [
    {
     "name": "stdout",
     "output_type": "stream",
     "text": [
      "11\n",
      "2 2 1 2 3 2 1 2 3 1 2\n",
      "3\n"
     ]
    }
   ],
   "source": [
    "from collections import defaultdict as dd\n",
    "from random import randint\n",
    "import sys\n",
    "input = lambda: sys.stdin.readline().rstrip()\n",
    "\n",
    "rd = randint(1, int(1e9))\n",
    "\n",
    "inf = float('inf')\n",
    "\n",
    "for _ in range(int(input())):\n",
    "    n = int(input())\n",
    "    li = list(map(int, input().split()))\n",
    "\n",
    "    d = dd(list) \n",
    "    for i in range(n):\n",
    "        v = li[i]\n",
    "        w = v ^ rd\n",
    "\n",
    "        d[w].append(i)\n",
    "\n",
    "    min_r = inf\n",
    "    for key in d:\n",
    "        cur = -1\n",
    "        c = 0\n",
    "        for v in d[key]:\n",
    "            if cur + 1 != v:\n",
    "                c += 1\n",
    "            cur = v\n",
    "\n",
    "        if cur + 1 != n:\n",
    "            c += 1\n",
    "\n",
    "        min_r = min(min_r, c)\n",
    "\n",
    "    print(min_r)"
   ]
  },
  {
   "cell_type": "markdown",
   "metadata": {},
   "source": [
    "https://codeforces.com/problemset/problem/1437/B B. Reverse Binary Strings"
   ]
  },
  {
   "cell_type": "markdown",
   "metadata": {},
   "source": [
    "4.23 4.39 -1"
   ]
  },
  {
   "cell_type": "code",
   "execution_count": 31,
   "metadata": {},
   "outputs": [
    {
     "name": "stdout",
     "output_type": "stream",
     "text": [
      "1\n",
      "10\n",
      "0011001100\n",
      "3\n"
     ]
    }
   ],
   "source": [
    "import sys\n",
    "input = lambda: sys.stdin.readline().rstrip()\n",
    "\n",
    "for _ in range(int(input())):\n",
    "    n = int(input())\n",
    "    li = list(map(int, input()))\n",
    "\n",
    "    stack = []\n",
    "    r = 0\n",
    "    for i in range(n - 1):\n",
    "        if li[i + 1] == li[i]:\n",
    "            if li[i] == 0:\n",
    "                if stack and stack[-1] == 1:\n",
    "                    stack.pop()\n",
    "                    r += 1\n",
    "                else:\n",
    "                    stack.append(0)\n",
    "            elif li[i] == 1:\n",
    "                if stack and stack[-1] == 0:\n",
    "                    stack.pop()\n",
    "                    r += 1\n",
    "                else:\n",
    "                    stack.append(1)\n",
    "\n",
    "    r += len(stack)\n",
    "\n",
    "    print(r)"
   ]
  },
  {
   "cell_type": "markdown",
   "metadata": {},
   "source": [
    "https://codeforces.com/problemset/problem/1433/D D. Districts Connection"
   ]
  },
  {
   "cell_type": "markdown",
   "metadata": {},
   "source": [
    "4.40 5.17 반례확인"
   ]
  },
  {
   "cell_type": "code",
   "execution_count": 60,
   "metadata": {},
   "outputs": [
    {
     "name": "stdout",
     "output_type": "stream",
     "text": [
      "4\n",
      "1 1000 101 1000\n",
      "1 2\n",
      "1 3\n",
      "1 4\n"
     ]
    }
   ],
   "source": [
    "import sys\n",
    "input = lambda: sys.stdin.readline().rstrip()\n",
    "\n",
    "for _ in range(int(input())):\n",
    "    n = int(input())\n",
    "    a = list(map(int, input().split()))\n",
    "\n",
    "    if len(set(a)) == 1:\n",
    "        print('NO')\n",
    "    else:\n",
    "        print('YES')\n",
    "        other_i = -1\n",
    "        to_connect = set(range(n))\n",
    "        cur = 0\n",
    "        to_connect.discard(cur)\n",
    "\n",
    "        for i in range(n):\n",
    "            if i in to_connect and a[i] != a[cur]:\n",
    "                other_i = i\n",
    "                to_connect.discard(i)\n",
    "                print(cur + 1, i + 1)\n",
    "\n",
    "        for i in to_connect:\n",
    "            print(other_i + 1, i + 1)"
   ]
  },
  {
   "cell_type": "markdown",
   "metadata": {},
   "source": [
    "https://codeforces.com/problemset/problem/1627/B B. Not Sitting"
   ]
  },
  {
   "cell_type": "code",
   "execution_count": 10,
   "metadata": {},
   "outputs": [
    {
     "name": "stdout",
     "output_type": "stream",
     "text": [
      "1 2\n",
      "1 1\n"
     ]
    }
   ],
   "source": [
    "from collections import deque\n",
    "import sys\n",
    "input = lambda: sys.stdin.readline().rstrip()\n",
    "\n",
    "dx = [-1, 1, 0, 0]\n",
    "dy = [0, 0, -1, 1]\n",
    "\n",
    "def get_dist(x1, y1, x2, y2):\n",
    "    return abs(x1 - x2) + abs(y1 - y2)\n",
    "\n",
    "for _ in range(int(input())):\n",
    "    n, m = map(int, input().split())\n",
    "\n",
    "    vt = set()\n",
    "    if n % 2 == 1 and m % 2 == 1:\n",
    "        vt.add((n // 2, m // 2))\n",
    "    elif n % 2 == 1 and m % 2 == 0:\n",
    "        vt.add((n // 2, m // 2 - 1))\n",
    "        vt.add((n // 2, m // 2))\n",
    "    elif n % 2 == 0 and m % 2 == 1:\n",
    "        vt.add((n // 2 - 1, m // 2))\n",
    "        vt.add((n // 2, m // 2))\n",
    "    else:\n",
    "        vt.add((n // 2 - 1, m // 2 - 1))\n",
    "        vt.add((n // 2 - 1, m // 2))\n",
    "        vt.add((n // 2, m // 2 - 1))\n",
    "        vt.add((n // 2, m // 2))\n",
    "\n",
    "    init = (n // 2, m // 2)\n",
    "    dist = get_dist(*init, 0, 0)\n",
    "\n",
    "    former = 0\n",
    "    result = []\n",
    "    cur_dist = dist\n",
    "    queue = deque(vt)\n",
    "    while True:\n",
    "        cur_c = len(vt) - former\n",
    "        former = len(vt)\n",
    "\n",
    "        result.extend([cur_dist] * cur_c)\n",
    "        cur_dist += 1\n",
    "\n",
    "        if len(vt) == n * m:\n",
    "            break\n",
    "\n",
    "        for _ in range(len(queue)):\n",
    "            x, y = queue.popleft()\n",
    "\n",
    "            for d in range(4):\n",
    "                nx = x + dx[d]\n",
    "                ny = y + dy[d]\n",
    "\n",
    "                if nx < 0 or nx >= n or ny < 0 or ny >= m:\n",
    "                    continue\n",
    "                if (nx, ny) in vt:\n",
    "                    continue\n",
    "                vt.add((nx, ny))\n",
    "                queue.append((nx, ny))\n",
    "\n",
    "    print(*result)"
   ]
  },
  {
   "cell_type": "markdown",
   "metadata": {},
   "source": [
    "https://codeforces.com/problemset/problem/1585/C C. Minimize Distance"
   ]
  },
  {
   "cell_type": "code",
   "execution_count": 14,
   "metadata": {},
   "outputs": [
    {
     "name": "stdout",
     "output_type": "stream",
     "text": [
      "4 2\n",
      "1000000000 1000000000 1000000000 1000000000\n",
      "3000000000\n"
     ]
    }
   ],
   "source": [
    "from bisect import bisect\n",
    "import sys\n",
    "input = lambda: sys.stdin.readline().rstrip()\n",
    "\n",
    "for _ in range(int(input())):\n",
    "    n, m = map(int, input().split())\n",
    "    li = sorted(map(int, input().split()))\n",
    "\n",
    "    plus_start = bisect(li, 0)\n",
    "    minus = li[:plus_start]\n",
    "    plus = li[plus_start:]\n",
    "\n",
    "    total = 0\n",
    "    for i in range(0, len(minus), m):\n",
    "        total -= minus[i] * 2\n",
    "    for i in range(len(plus) - 1, -1, -m):\n",
    "        total += plus[i] * 2\n",
    "    total -= max(abs(li[0]), abs(li[-1]))\n",
    "\n",
    "    print(total)"
   ]
  },
  {
   "cell_type": "markdown",
   "metadata": {},
   "source": [
    "https://codeforces.com/problemset/problem/1555/B B. Two Tables"
   ]
  },
  {
   "cell_type": "markdown",
   "metadata": {},
   "source": [
    "3.33 3.46"
   ]
  },
  {
   "cell_type": "code",
   "execution_count": 20,
   "metadata": {},
   "outputs": [
    {
     "name": "stdout",
     "output_type": "stream",
     "text": [
      "8 5\n",
      "2 1 7 4\n",
      "4 2\n",
      "1\n"
     ]
    }
   ],
   "source": [
    "import sys\n",
    "input = lambda: sys.stdin.readline().rstrip()\n",
    "\n",
    "inf = float('inf')\n",
    "\n",
    "for _ in range(int(input())):\n",
    "    w, h = map(int, input().split())\n",
    "    x1, y1, x2, y2 = map(int, input().split())\n",
    "    tw, th = map(int, input().split())\n",
    "\n",
    "    cand_w = max(x1, w - x2)\n",
    "    other_w = min(x1, w - x2)\n",
    "    cand_h = max(y1, h - y2)\n",
    "    other_h = min(y1, h - y2)\n",
    "\n",
    "    if tw <= cand_w or th <= cand_h:\n",
    "        print(0)\n",
    "    else:\n",
    "        r = inf\n",
    "\n",
    "        needed_w = tw - cand_w\n",
    "        if needed_w <= other_w:\n",
    "            r = min(r, needed_w)\n",
    "\n",
    "        needed_h = th - cand_h\n",
    "        if needed_h <= other_h:\n",
    "            r = min(r, needed_h)\n",
    "\n",
    "        if r == inf:\n",
    "            print(-1)\n",
    "        else:\n",
    "            print(r)"
   ]
  },
  {
   "cell_type": "markdown",
   "metadata": {},
   "source": [
    "https://codeforces.com/problemset/problem/1553/B B. Reverse String"
   ]
  },
  {
   "cell_type": "markdown",
   "metadata": {},
   "source": [
    "3.47 4.02"
   ]
  },
  {
   "cell_type": "code",
   "execution_count": 25,
   "metadata": {},
   "outputs": [
    {
     "name": "stdout",
     "output_type": "stream",
     "text": [
      "ba\n",
      "baa\n",
      "NO\n"
     ]
    }
   ],
   "source": [
    "import sys\n",
    "input = lambda: sys.stdin.readline().rstrip()\n",
    "\n",
    "for _ in range(int(input())):\n",
    "    s = input()\n",
    "    t = input()\n",
    "\n",
    "    s_len = len(s)\n",
    "    t_len = len(t)\n",
    "\n",
    "    ip = False\n",
    "    for start in range(s_len):\n",
    "        for end in range(start, s_len):       \n",
    "            ti = 0\n",
    "            check = True\n",
    "            for si in range(start, end + 1):\n",
    "                if s[si] != t[ti]:\n",
    "                    check = False\n",
    "                    break\n",
    "                ti += 1\n",
    "                if ti == t_len:\n",
    "                    ip = True\n",
    "                    break\n",
    "\n",
    "            if not check or ip:\n",
    "                break\n",
    "\n",
    "            for si in range(end - 1, -1, -1):\n",
    "                if s[si] != t[ti]:\n",
    "                    break\n",
    "                ti += 1\n",
    "                if ti == t_len:\n",
    "                    ip = True\n",
    "                    break\n",
    "\n",
    "            if ip:\n",
    "                break\n",
    "        if ip:\n",
    "            break\n",
    "\n",
    "    if ip:\n",
    "        print('YES')\n",
    "    else:\n",
    "        print('NO')"
   ]
  },
  {
   "cell_type": "markdown",
   "metadata": {},
   "source": [
    "https://codeforces.com/problemset/problem/1538/C C. Number of Pairs"
   ]
  },
  {
   "cell_type": "markdown",
   "metadata": {},
   "source": [
    "4.03 4.28 -1"
   ]
  },
  {
   "cell_type": "code",
   "execution_count": 51,
   "metadata": {},
   "outputs": [
    {
     "name": "stdout",
     "output_type": "stream",
     "text": [
      "1\n",
      "5 9 13\n",
      "2 5 5 1 1\n",
      "1\n"
     ]
    }
   ],
   "source": [
    "from collections import deque\n",
    "from bisect import bisect_left\n",
    "import sys\n",
    "# input = lambda: sys.stdin.readline().rstrip()\n",
    "\n",
    "for _ in range(int(input())):\n",
    "    n, l, r = map(int, input().split())\n",
    "    li = sorted(map(int, input().split()))\n",
    "\n",
    "    total = 0\n",
    "    for lo in range(1, n):\n",
    "        a = li[lo - 1]\n",
    "\n",
    "        if a > r:\n",
    "            break\n",
    "\n",
    "        nl = l - a\n",
    "        nr = r - a\n",
    "\n",
    "        from_ = bisect_left(li, nl, lo=lo)\n",
    "        end_ = bisect_left(li, nr + 0.1, lo=lo) - 1\n",
    "\n",
    "        if from_ == n or end_ < 0:\n",
    "            continue\n",
    "\n",
    "        total += end_ - from_ + 1\n",
    "\n",
    "    print(total)"
   ]
  },
  {
   "cell_type": "markdown",
   "metadata": {},
   "source": [
    "https://codeforces.com/problemset/problem/1534/C C. Little Alawn's Puzzle"
   ]
  },
  {
   "cell_type": "markdown",
   "metadata": {},
   "source": [
    "4.44 4.58"
   ]
  },
  {
   "cell_type": "code",
   "execution_count": null,
   "metadata": {},
   "outputs": [],
   "source": [
    "import sys\n",
    "input = lambda: sys.stdin.readline().rstrip()\n",
    "\n",
    "mod = int(1e9) + 7\n",
    "\n",
    "get_value = lambda x: int(x) - 1\n",
    "\n",
    "for _ in range(int(input())):\n",
    "    n = int(input())\n",
    "    a = list(map(get_value, input().split()))\n",
    "    b = list(map(get_value, input().split()))\n",
    "\n",
    "    a_loc = [0] * n\n",
    "    for ai in range(n):\n",
    "        a_loc[a[ai]] = ai\n",
    "\n",
    "    vt = set()\n",
    "    r = 1\n",
    "    for ai in range(n):\n",
    "        if ai in vt:\n",
    "            continue\n",
    "        r *= 2\n",
    "        r %= mod\n",
    "        vt.add(ai)\n",
    "\n",
    "        nai = ai\n",
    "        while True:\n",
    "            nai = a_loc[b[nai]]\n",
    "            if nai in vt:\n",
    "                break\n",
    "            vt.add(nai)\n",
    "\n",
    "    print(r)"
   ]
  },
  {
   "cell_type": "code",
   "execution_count": 67,
   "metadata": {},
   "outputs": [
    {
     "name": "stdout",
     "output_type": "stream",
     "text": [
      "1\n",
      "8\n",
      "2 6 5 1 4 3 7 8\n",
      "3 8 7 5 1 2 4 6\n",
      "8\n"
     ]
    }
   ],
   "source": [
    "import sys\n",
    "# input = lambda: sys.stdin.readline().rstrip()\n",
    "\n",
    "mod = int(1e9) + 7\n",
    "\n",
    "for _ in range(int(input())):\n",
    "    n = int(input())\n",
    "    a = list(map(int, input().split()))\n",
    "    b = list(map(int, input().split()))\n",
    "\n",
    "    a_loc = [0] * (n + 1)\n",
    "    for ai in range(n):\n",
    "        a_loc[a[ai]] = ai\n",
    "\n",
    "    vt = set()\n",
    "    r = 1\n",
    "    for ai in range(n):\n",
    "        if ai in vt:\n",
    "            continue\n",
    "        r *= 2\n",
    "        r %= mod\n",
    "        vt.add(ai)\n",
    "\n",
    "        nai = ai\n",
    "        while True:\n",
    "            nai = a_loc[b[nai]]\n",
    "            if nai in vt:\n",
    "                break\n",
    "            vt.add(nai)\n",
    "\n",
    "    print(r)"
   ]
  },
  {
   "cell_type": "markdown",
   "metadata": {},
   "source": [
    "https://codeforces.com/problemset/problem/1521/B B. Nastia and a Good Array"
   ]
  },
  {
   "cell_type": "markdown",
   "metadata": {},
   "source": [
    "5.03 5.36 풀이"
   ]
  },
  {
   "cell_type": "code",
   "execution_count": 77,
   "metadata": {},
   "outputs": [
    {
     "name": "stdout",
     "output_type": "stream",
     "text": [
      "5\n",
      "9 6 3 11 15\n",
      "4\n",
      "2 3 4 3\n",
      "1 3 5 3\n",
      "3 4 3 4\n",
      "3 5 3 5\n"
     ]
    }
   ],
   "source": [
    "import sys\n",
    "input = lambda: sys.stdin.readline().rstrip()\n",
    "\n",
    "for _ in range(int(input())):\n",
    "    n = int(input())\n",
    "    li = list(map(int, input().split()))\n",
    "\n",
    "    print(n - 1)\n",
    "\n",
    "    cri = li.index(min(li))\n",
    "    for i in range(cri - 1, -1, -1):\n",
    "        print(i + 1, cri + 1, li[cri] + cri - i, li[cri])\n",
    "    for i in range(cri + 1, n):\n",
    "        print(cri + 1, i + 1, li[cri], li[cri] + i - cri)"
   ]
  },
  {
   "cell_type": "markdown",
   "metadata": {},
   "source": [
    "https://codeforces.com/problemset/problem/1493/B B. Planet Lapituletti"
   ]
  },
  {
   "cell_type": "markdown",
   "metadata": {},
   "source": [
    "5.37 5.54"
   ]
  },
  {
   "cell_type": "code",
   "execution_count": 84,
   "metadata": {},
   "outputs": [
    {
     "name": "stdout",
     "output_type": "stream",
     "text": [
      "10 10\n",
      "04:04\n",
      "00:00\n"
     ]
    }
   ],
   "source": [
    "import sys\n",
    "input = lambda: sys.stdin.readline().rstrip()\n",
    "\n",
    "st = {'0', '1', '8', '2', '5'}\n",
    "\n",
    "def to_str(cur_h, cur_m):\n",
    "    sh = str(cur_h).rjust(2, '0')\n",
    "    sm = str(cur_m).rjust(2, '0')\n",
    "    return sh + ':' + sm\n",
    "\n",
    "def ch(v):\n",
    "    if v == '2':\n",
    "        return '5'\n",
    "    elif v == '5':\n",
    "        return '2'\n",
    "    else:\n",
    "        return v\n",
    "\n",
    "def is_valid(cur_h, cur_m):\n",
    "    sh = str(cur_h).rjust(2, '0')\n",
    "    sm = str(cur_m).rjust(2, '0')\n",
    "    \n",
    "    for v in sh:\n",
    "        if v not in st:\n",
    "            return False\n",
    "    for v in sm:\n",
    "        if v not in st:\n",
    "            return False\n",
    "        \n",
    "    nsh = ch(sm[1]) + ch(sm[0])\n",
    "    nsm = ch(sh[1]) + ch(sh[0])\n",
    "    \n",
    "    nh = int(nsh)\n",
    "    nm = int(nsm)\n",
    "     \n",
    "    if nh < h and nm < m:\n",
    "        return True\n",
    "    else:\n",
    "        return False\n",
    "\n",
    "for _ in range(int(input())):\n",
    "    h, m = map(int, input().split())\n",
    "    s = input()\n",
    "\n",
    "    cur_h, cur_m = map(int, s.split(':'))\n",
    "    while True:\n",
    "        if is_valid(cur_h, cur_m):\n",
    "            print(to_str(cur_h, cur_m))\n",
    "            break\n",
    "        else:\n",
    "            cur_m += 1\n",
    "            if cur_m == m:\n",
    "                cur_m = 0\n",
    "                cur_h += 1\n",
    "            if cur_h == h:\n",
    "                cur_h = 0"
   ]
  },
  {
   "cell_type": "markdown",
   "metadata": {},
   "source": [
    "https://codeforces.com/problemset/problem/1476/B B. Inflation"
   ]
  },
  {
   "cell_type": "markdown",
   "metadata": {},
   "source": [
    "5.57 6.16"
   ]
  },
  {
   "cell_type": "code",
   "execution_count": null,
   "metadata": {},
   "outputs": [],
   "source": [
    "첫 번째 값만 올려도 될듯"
   ]
  },
  {
   "cell_type": "code",
   "execution_count": 95,
   "metadata": {
    "scrolled": true
   },
   "outputs": [
    {
     "name": "stdout",
     "output_type": "stream",
     "text": [
      "3 100\n",
      "1 1 1\n",
      "0\n"
     ]
    }
   ],
   "source": [
    "from math import ceil\n",
    "import sys\n",
    "input = lambda: sys.stdin.readline().rstrip()\n",
    "\n",
    "for _ in range(int(input())):\n",
    "    n, k = map(int, input().split())\n",
    "    ps = list(map(int, input().split()))\n",
    "\n",
    "    total = 0\n",
    "    p = ps[0]\n",
    "    for i in range(1, n):\n",
    "        inc = ps[i]\n",
    "\n",
    "        temp = 100 * inc - k * p\n",
    "\n",
    "        to_add = temp // k\n",
    "        if temp % k:\n",
    "            to_add += 1\n",
    "\n",
    "        to_add = max(0, to_add)\n",
    "\n",
    "        total += to_add\n",
    "        p += inc + to_add\n",
    "\n",
    "    print(total)"
   ]
  },
  {
   "cell_type": "markdown",
   "metadata": {},
   "source": [
    "https://codeforces.com/problemset/problem/1372/B B. Omkar and Last Class of Math"
   ]
  },
  {
   "cell_type": "markdown",
   "metadata": {},
   "source": [
    "3.35 3.57"
   ]
  },
  {
   "cell_type": "code",
   "execution_count": 7,
   "metadata": {},
   "outputs": [
    {
     "name": "stdout",
     "output_type": "stream",
     "text": [
      "9\n",
      "3 6\n"
     ]
    }
   ],
   "source": [
    "import sys\n",
    "input = lambda: sys.stdin.readline().rstrip()\n",
    "\n",
    "inf = float('inf')\n",
    "\n",
    "def get_divisors(num):\n",
    "    divisors = set()\n",
    "    for mod in range(1, int(num ** 0.5) + 1):\n",
    "        if num % mod == 0:\n",
    "            divisors.add(mod)\n",
    "            divisors.add(num // mod)\n",
    "            \n",
    "    divisors.discard(num)\n",
    "    \n",
    "    return divisors\n",
    "\n",
    "for _ in range(int(input())):\n",
    "    n = int(input())\n",
    "\n",
    "    if n % 2 == 0:\n",
    "        print(n // 2, n // 2)\n",
    "    else:\n",
    "        min_r = inf\n",
    "        a, b = -1, -1\n",
    "        for mod in get_divisors(n):\n",
    "            temp = mod * (n // mod - 1)\n",
    "            if temp < min_r:\n",
    "                min_r = min(min_r, temp)\n",
    "                a = mod\n",
    "                b = n - mod\n",
    "\n",
    "        print(a, b)"
   ]
  },
  {
   "cell_type": "markdown",
   "metadata": {},
   "source": [
    "https://codeforces.com/problemset/problem/1367/C C. Social Distance"
   ]
  },
  {
   "cell_type": "code",
   "execution_count": null,
   "metadata": {
    "scrolled": true
   },
   "outputs": [],
   "source": [
    "import sys\n",
    "input = lambda: sys.stdin.readline().rstrip()\n",
    "\n",
    "for _ in range(int(input())):\n",
    "    n, k = map(int, input().split())\n",
    "    li = list(map(int, input()))\n",
    "\n",
    "    ones = []\n",
    "    for i in range(n):\n",
    "        if li[i]:\n",
    "            ones.append(i)\n",
    "    ones.append(10000000000000)\n",
    "\n",
    "    cur_s = -100000000000\n",
    "    cur_e = ones[0]\n",
    "\n",
    "    total = 0\n",
    "    one_i = 0\n",
    "    for i in range(n):\n",
    "        if li[i]:\n",
    "            cur_s = i\n",
    "            one_i += 1\n",
    "            cur_e = ones[one_i]\n",
    "            continue\n",
    "\n",
    "        if i - cur_s - 1 >= k and cur_e - i - 1 >= k:\n",
    "            total += 1\n",
    "            li[i] = 1\n",
    "            cur_s = i\n",
    "\n",
    "    print(total)"
   ]
  },
  {
   "cell_type": "markdown",
   "metadata": {},
   "source": [
    "https://codeforces.com/problemset/problem/1271/C C. Shawarma Tent"
   ]
  },
  {
   "cell_type": "code",
   "execution_count": null,
   "metadata": {},
   "outputs": [],
   "source": [
    "import sys\n",
    "input = lambda: sys.stdin.readline().rstrip()\n",
    "\n",
    "n, sx, sy = map(int, input().split())\n",
    "li = [list(map(int, input().split())) for _ in range(n)]\n",
    "\n",
    "dx = [-1, 1, 0, 0]\n",
    "dy = [0, 0, -1, 1]\n",
    "\n",
    "get_dist = lambda x1, y1, x2, y2: abs(x1 - x2) + abs(y1 - y2)\n",
    "\n",
    "max_r = -1\n",
    "max_r_x = -1\n",
    "max_r_y = -1\n",
    "for d in range(4):\n",
    "    nsx = sx + dx[d]\n",
    "    nsy = sy + dy[d]\n",
    "\n",
    "    if nsx < 0 or nsx > int(1e9) or nsy < 0 or nsy > int(1e9):\n",
    "        continue\n",
    "\n",
    "    c = 0\n",
    "    for x, y in li:\n",
    "        if get_dist(nsx, nsy, x, y) + 1 == get_dist(sx, sy, x, y):\n",
    "            c += 1\n",
    "\n",
    "    if c > max_r:\n",
    "        max_r = c\n",
    "        max_r_x = nsx\n",
    "        max_r_y = nsy\n",
    "\n",
    "print(max_r)\n",
    "print(max_r_x, max_r_y)"
   ]
  },
  {
   "cell_type": "markdown",
   "metadata": {},
   "source": [
    "https://codeforces.com/problemset/problem/1271/B B. Blocks"
   ]
  },
  {
   "cell_type": "code",
   "execution_count": 12,
   "metadata": {},
   "outputs": [
    {
     "name": "stdout",
     "output_type": "stream",
     "text": [
      "3\n",
      "BWB\n",
      "2\n",
      "1 2\n"
     ]
    }
   ],
   "source": [
    "n = int(input())\n",
    "oli = list(input())\n",
    "\n",
    "li = oli.copy()\n",
    "t1_seq = []\n",
    "t1_ip = True\n",
    "for i in range(n - 1):\n",
    "    if li[i] != 'W':\n",
    "        t1_seq.append(i + 1)\n",
    "        li[i] = 'W'\n",
    "        if li[i + 1] == 'W':\n",
    "            li[i + 1] = 'B'\n",
    "        else:\n",
    "            li[i + 1] = 'W'\n",
    "            \n",
    "if li[-1] != 'W':\n",
    "    t1_ip = False\n",
    "\n",
    "li = oli.copy()\n",
    "t2_seq = []\n",
    "t2_ip = True\n",
    "for i in range(n - 1):\n",
    "    if li[i] != 'B':\n",
    "        t2_seq.append(i + 1)\n",
    "        li[i] = 'B'\n",
    "        if li[i + 1] == 'W':\n",
    "            li[i + 1] = 'B'\n",
    "        else:\n",
    "            li[i + 1] = 'W'\n",
    "            \n",
    "if li[-1] != 'B':\n",
    "    t2_ip = False\n",
    "    \n",
    "if t1_ip:\n",
    "    print(len(t1_seq))\n",
    "    print(*t1_seq)\n",
    "elif t2_ip:\n",
    "    print(len(t2_seq))\n",
    "    print(*t2_seq)\n",
    "else:\n",
    "    print(-1)"
   ]
  },
  {
   "cell_type": "markdown",
   "metadata": {},
   "source": [
    "https://codeforces.com/problemset/problem/1265/B B. Beautiful Numbers"
   ]
  },
  {
   "cell_type": "code",
   "execution_count": 22,
   "metadata": {},
   "outputs": [
    {
     "name": "stdout",
     "output_type": "stream",
     "text": [
      "4\n",
      "1 4 3 2\n",
      "1001\n"
     ]
    }
   ],
   "source": [
    "import sys\n",
    "input = lambda: sys.stdin.readline().rstrip()\n",
    "\n",
    "get_value = lambda x: int(x) - 1\n",
    "\n",
    "for _ in range(int(input())):\n",
    "    n = int(input())\n",
    "    li = list(map(get_value, input().split()))\n",
    "\n",
    "    locs = [0] * n\n",
    "    for i in range(n):\n",
    "        locs[li[i]] = i\n",
    "\n",
    "    result = [0] * n\n",
    "    vt = [False] * (n + 1)\n",
    "    l = locs[0]\n",
    "    r = locs[0]\n",
    "    cur_mex = 1\n",
    "    vt[0] = True\n",
    "    result[0] = 1\n",
    "\n",
    "    for num in range(n):\n",
    "        if vt[num]:\n",
    "            if cur_mex == num + 1 and r - l + 1 == num + 1:\n",
    "                result[num] = 1\n",
    "            else:\n",
    "                result[num] = 0\n",
    "        else:\n",
    "            loc = locs[num]\n",
    "\n",
    "            if loc < l:\n",
    "                for i in range(l - 1, loc - 1, -1):\n",
    "                    vt[li[i]] = True\n",
    "                l = loc\n",
    "            else:\n",
    "                for i in range(r + 1, loc + 1):\n",
    "                    vt[li[i]] = True\n",
    "                r = loc\n",
    "\n",
    "            while True:\n",
    "                if vt[cur_mex]:\n",
    "                    cur_mex += 1\n",
    "                else:\n",
    "                    break\n",
    "\n",
    "            if cur_mex == num + 1 and r - l + 1 == num + 1:\n",
    "                result[num] = 1\n",
    "            else:\n",
    "                result[num] = 0\n",
    "\n",
    "    result = ''.join(map(str, result))\n",
    "    \n",
    "    print(result)"
   ]
  },
  {
   "cell_type": "markdown",
   "metadata": {},
   "source": [
    "https://codeforces.com/problemset/problem/1260/B B. Obtain Two Zeroes"
   ]
  },
  {
   "cell_type": "code",
   "execution_count": 25,
   "metadata": {},
   "outputs": [
    {
     "name": "stdout",
     "output_type": "stream",
     "text": [
      "1 2\n",
      "YES\n"
     ]
    }
   ],
   "source": [
    "import sys\n",
    "input = lambda: sys.stdin.readline().rstrip()\n",
    "\n",
    "for _ in range(int(input())):\n",
    "    a, b = map(int, input().split())\n",
    "\n",
    "    if a > b:\n",
    "        a, b = b, a\n",
    "\n",
    "    diff = b - a\n",
    "    a -= diff\n",
    "    b -= diff * 2\n",
    "\n",
    "    if a < 0 or b < 0:\n",
    "        print('NO')\n",
    "    else:\n",
    "        if a % 3 != 0:\n",
    "            print('NO')\n",
    "        else:\n",
    "            print('YES')"
   ]
  },
  {
   "cell_type": "code",
   "execution_count": 100,
   "metadata": {},
   "outputs": [
    {
     "name": "stdout",
     "output_type": "stream",
     "text": [
      "1\n",
      "1\n"
     ]
    }
   ],
   "source": [
    "# ac\n",
    "import sys\n",
    "input = lambda: sys.stdin.readline().rstrip()\n",
    "\n",
    "for _ in range(int(input())):\n",
    "    o_n = int(input())\n",
    "\n",
    "    cur_num = 1\n",
    "    cur_s = 0\n",
    "    while True:\n",
    "        if cur_num <= o_n:\n",
    "            cur_num *= 3\n",
    "            cur_s += 1\n",
    "        else:\n",
    "            break\n",
    "\n",
    "    stack = []\n",
    "    n = o_n\n",
    "    for s in range(cur_s, -1, -1):\n",
    "        c = 0\n",
    "        while cur_num <= n:\n",
    "            c += 1\n",
    "            n -= cur_num\n",
    "        if c >= 1:\n",
    "            stack.append([cur_num, c])\n",
    "\n",
    "        cur_num //= 3\n",
    "\n",
    "    r = 0\n",
    "    max_promoted = -1\n",
    "    while stack:\n",
    "        num, c = stack.pop()\n",
    "        if c == 1:\n",
    "            r += num\n",
    "        else:      \n",
    "            nnum = num * 3\n",
    "            max_promoted = nnum\n",
    "            if max_promoted > r:\n",
    "                r = max_promoted\n",
    "\n",
    "            if stack and stack[-1][0] == nnum:\n",
    "                stack[-1][1] += 1\n",
    "\n",
    "    print(r)"
   ]
  },
  {
   "cell_type": "code",
   "execution_count": null,
   "metadata": {},
   "outputs": [],
   "source": [
    "# ac\n",
    "import sys\n",
    "input = lambda: sys.stdin.readline().rstrip()\n",
    "\n",
    "for _ in range(int(input())):\n",
    "    o_n = int(input())\n",
    "\n",
    "    cur_num = 1\n",
    "    cur_s = 0\n",
    "    while True:\n",
    "        if cur_num <= o_n:\n",
    "            cur_num *= 3\n",
    "            cur_s += 1\n",
    "        else:\n",
    "            break\n",
    "\n",
    "    stack = []\n",
    "    n = o_n\n",
    "    for s in range(cur_s, -1, -1):\n",
    "        c = 0\n",
    "        while cur_num <= n:\n",
    "            c += 1\n",
    "            n -= cur_num\n",
    "        if c >= 1:\n",
    "            stack.append([cur_num, c])\n",
    "\n",
    "        cur_num //= 3\n",
    "\n",
    "    r = 0\n",
    "    max_promoted = -1\n",
    "    while stack:\n",
    "        num, c = stack.pop()\n",
    "        if c == 1:\n",
    "            if num != max_promoted:\n",
    "                r += num\n",
    "        else:      \n",
    "            nnum = num * 3\n",
    "            max_promoted = nnum\n",
    "            if max_promoted > r:\n",
    "                r = max_promoted\n",
    "\n",
    "            if stack and stack[-1][0] == nnum:\n",
    "                stack[-1][1] += 1\n",
    "            else:\n",
    "                stack.append([nnum, 1])\n",
    "\n",
    "    print(r)"
   ]
  },
  {
   "cell_type": "markdown",
   "metadata": {},
   "source": [
    "https://codeforces.com/problemset/problem/1249/B2 B2. Books Exchange (hard version)"
   ]
  },
  {
   "cell_type": "code",
   "execution_count": 111,
   "metadata": {},
   "outputs": [
    {
     "name": "stdout",
     "output_type": "stream",
     "text": [
      "5\n",
      "5 1 2 4 3\n",
      "4 4 4 1 4\n"
     ]
    }
   ],
   "source": [
    "import sys\n",
    "input = lambda: sys.stdin.readline().rstrip()\n",
    "\n",
    "get_value = lambda x: int(x) - 1\n",
    "\n",
    "for _ in range(int(input())):\n",
    "    n = int(input())\n",
    "    li = list(map(get_value, input().split()))\n",
    "\n",
    "    result = [0] * n\n",
    "    vt = [False] * n\n",
    "    for i in range(n):\n",
    "        if vt[li[i]]:\n",
    "            continue\n",
    "        vt[li[i]] = True\n",
    "\n",
    "        temp = {li[i]}\n",
    "        ni = li[i]\n",
    "        while True:\n",
    "            if vt[li[ni]]:\n",
    "                break\n",
    "            vt[li[ni]] = True\n",
    "            temp.add(li[ni])\n",
    "            ni = li[ni]\n",
    "\n",
    "        for v in temp:\n",
    "            result[v] = len(temp)\n",
    "\n",
    "    print(*result)"
   ]
  },
  {
   "cell_type": "markdown",
   "metadata": {},
   "source": [
    "https://codeforces.com/problemset/problem/1238/B B. Kill 'Em All"
   ]
  },
  {
   "cell_type": "code",
   "execution_count": 114,
   "metadata": {},
   "outputs": [
    {
     "name": "stdout",
     "output_type": "stream",
     "text": [
      "4 1\n",
      "5 2 3 5\n",
      "2\n"
     ]
    }
   ],
   "source": [
    "import sys\n",
    "input = lambda: sys.stdin.readline().rstrip()\n",
    "\n",
    "for _ in range(int(input())):\n",
    "    n, r = map(int, input().split())\n",
    "    li = sorted(set(map(int, input().split())))\n",
    "    n = len(li)\n",
    "\n",
    "    to_minus = 0\n",
    "    total = 0\n",
    "    for i in range(n - 1, -1, -1):\n",
    "        li[i] -= to_minus\n",
    "\n",
    "        if li[i] <= 0:\n",
    "            break\n",
    "        total += 1\n",
    "        to_minus += r\n",
    "\n",
    "    print(total)"
   ]
  },
  {
   "cell_type": "markdown",
   "metadata": {},
   "source": [
    "https://codeforces.com/problemset/problem/1237/B B. Balanced Tunnel"
   ]
  },
  {
   "cell_type": "markdown",
   "metadata": {},
   "source": [
    "3.41 3.49"
   ]
  },
  {
   "cell_type": "code",
   "execution_count": 117,
   "metadata": {},
   "outputs": [
    {
     "name": "stdout",
     "output_type": "stream",
     "text": [
      "2\n",
      "1 2\n",
      "1 2\n",
      "0\n"
     ]
    }
   ],
   "source": [
    "n = int(input())\n",
    "a = list(map(int, input().split()))\n",
    "b = list(map(int, input().split()))\n",
    "\n",
    "b_vt = set()\n",
    "total = 0\n",
    "bi = 0\n",
    "for ai in range(n):\n",
    "    if a[ai] in b_vt:\n",
    "        continue\n",
    "    to_find = a[ai]\n",
    "    \n",
    "    while b[bi] != to_find:\n",
    "        b_vt.add(b[bi])\n",
    "        total += 1\n",
    "        bi += 1\n",
    "        \n",
    "    b_vt.add(b[bi])\n",
    "    bi += 1\n",
    "    \n",
    "print(total)"
   ]
  },
  {
   "cell_type": "markdown",
   "metadata": {},
   "source": [
    "https://codeforces.com/problemset/problem/1236/C C. Labs"
   ]
  },
  {
   "cell_type": "code",
   "execution_count": 121,
   "metadata": {},
   "outputs": [
    {
     "name": "stdout",
     "output_type": "stream",
     "text": [
      "4\n",
      "1 5 12 16\n",
      "2 6 11 15\n",
      "3 7 10 14\n",
      "4 8 9 13\n"
     ]
    }
   ],
   "source": [
    "n = int(input())\n",
    "\n",
    "result = [[] for _ in range(n)]\n",
    "\n",
    "cur = 1\n",
    "for _ in range(n // 2):\n",
    "    for i in range(n):\n",
    "        result[i].append(cur)\n",
    "        cur += 1\n",
    "        \n",
    "for _ in range(n - n // 2):\n",
    "    for i in range(n - 1, -1, -1):\n",
    "        result[i].append(cur)\n",
    "        cur += 1\n",
    "        \n",
    "for v in result:\n",
    "    print(*v)"
   ]
  },
  {
   "cell_type": "markdown",
   "metadata": {},
   "source": [
    "https://codeforces.com/problemset/problem/1234/B2 B2. Social Network (hard version)"
   ]
  },
  {
   "cell_type": "markdown",
   "metadata": {},
   "source": [
    "4.27 4.34"
   ]
  },
  {
   "cell_type": "code",
   "execution_count": 125,
   "metadata": {},
   "outputs": [
    {
     "name": "stdout",
     "output_type": "stream",
     "text": [
      "10 4\n",
      "2 3 3 1 1 2 1 2 3 3\n",
      "3\n",
      "1 3 2\n"
     ]
    }
   ],
   "source": [
    "from collections import deque\n",
    "import sys\n",
    "# input = lambda: sys.stdin.readline().rstrip()\n",
    "\n",
    "n, k = map(int, input().split())\n",
    "li = list(map(int, input().split()))\n",
    "\n",
    "st = set()\n",
    "deq = deque()\n",
    "for v in li:\n",
    "    if v not in st:\n",
    "        deq.appendleft(v)\n",
    "        st.add(v)\n",
    "\n",
    "        if len(deq) > k:\n",
    "            st.discard(deq.pop())\n",
    "    else:\n",
    "        continue\n",
    "        \n",
    "print(len(deq))\n",
    "print(*deq)"
   ]
  },
  {
   "cell_type": "markdown",
   "metadata": {},
   "source": [
    "https://codeforces.com/problemset/problem/1225/B2 B2. TV Subscriptions (Hard Version)"
   ]
  },
  {
   "cell_type": "markdown",
   "metadata": {},
   "source": [
    "4.42 4.52"
   ]
  },
  {
   "cell_type": "code",
   "execution_count": 134,
   "metadata": {},
   "outputs": [
    {
     "name": "stdout",
     "output_type": "stream",
     "text": [
      "16 9 8\n",
      "3 1 4 1 5 9 2 6 5 3 5 8 9 7 9 3\n",
      "5\n"
     ]
    }
   ],
   "source": [
    "from collections import defaultdict as dd\n",
    "from random import randint\n",
    "import sys\n",
    "input = lambda: sys.stdin.readline().rstrip()\n",
    "\n",
    "inf = float('inf')\n",
    "\n",
    "rd = randint(1, int(1e9))\n",
    "\n",
    "for _ in range(int(input())):\n",
    "    n, k, d = map(int, input().split())\n",
    "    li = list(map(int, input().split()))\n",
    "\n",
    "    st = set()\n",
    "    ct = dd(int)\n",
    "\n",
    "    min_r = inf\n",
    "    for i in range(d):\n",
    "        v = li[i]\n",
    "        w = v ^ rd\n",
    "\n",
    "        ct[w] += 1\n",
    "        if ct[w] == 1:\n",
    "            st.add(v)\n",
    "    min_r = min(min_r, len(st))\n",
    "\n",
    "    for i in range(d, n):\n",
    "        v = li[i]\n",
    "        w = v ^ rd\n",
    "\n",
    "        ct[w] += 1\n",
    "        if ct[w] == 1:\n",
    "            st.add(v)\n",
    "\n",
    "        v = li[i - d]\n",
    "        w = v ^ rd\n",
    "        ct[w] -= 1\n",
    "        if ct[w] == 0:\n",
    "            st.discard(v)\n",
    "\n",
    "        min_r = min(min_r, len(st))\n",
    "\n",
    "    print(min_r)"
   ]
  }
 ],
 "metadata": {
  "kernelspec": {
   "display_name": "Python 3",
   "language": "python",
   "name": "python3"
  },
  "language_info": {
   "codemirror_mode": {
    "name": "ipython",
    "version": 3
   },
   "file_extension": ".py",
   "mimetype": "text/x-python",
   "name": "python",
   "nbconvert_exporter": "python",
   "pygments_lexer": "ipython3",
   "version": "3.8.3"
  }
 },
 "nbformat": 4,
 "nbformat_minor": 4
}
