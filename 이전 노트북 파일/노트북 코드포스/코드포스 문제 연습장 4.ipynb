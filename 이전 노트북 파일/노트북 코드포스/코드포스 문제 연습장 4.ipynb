{
 "cells": [
  {
   "cell_type": "markdown",
   "metadata": {},
   "source": [
    "https://codeforces.com/problemset/problem/1463/C C. Busy Robot"
   ]
  },
  {
   "cell_type": "code",
   "execution_count": 2,
   "metadata": {},
   "outputs": [
    {
     "name": "stdout",
     "output_type": "stream",
     "text": [
      "3\n",
      "1 5\n",
      "3 0\n",
      "6 4\n",
      "1\n"
     ]
    }
   ],
   "source": [
    "import sys\n",
    "input = lambda: sys.stdin.readline().rstrip()\n",
    "\n",
    "inf = float('inf')\n",
    "\n",
    "for _ in range(int(input())):\n",
    "    n = int(input())\n",
    "    li = [list(map(int, input().split())) for _ in range(n)] + [[inf, inf]]\n",
    "\n",
    "    total = 0\n",
    "    cur_loc = 0\n",
    "    cur_target = 0\n",
    "    is_pending = False\n",
    "    for i in range(n):\n",
    "        if not is_pending:\n",
    "            cur_target = li[i][1]\n",
    "            is_pending = True\n",
    "\n",
    "        can_spent = li[i + 1][0] - li[i][0]\n",
    "\n",
    "        a = cur_loc\n",
    "\n",
    "        needed = abs(cur_loc - cur_target)\n",
    "        if needed <= can_spent:\n",
    "            cur_loc = cur_target\n",
    "            is_pending = False\n",
    "            b = cur_loc\n",
    "        else:\n",
    "            if cur_loc <= cur_target:\n",
    "                cur_loc += can_spent\n",
    "            else:\n",
    "                cur_loc -= can_spent\n",
    "            b = cur_loc\n",
    "\n",
    "        if a > b:\n",
    "            a, b = b, a\n",
    "\n",
    "        if a <= li[i][1] <= b:\n",
    "            total += 1\n",
    "\n",
    "    print(total) "
   ]
  },
  {
   "cell_type": "markdown",
   "metadata": {},
   "source": [
    "https://codeforces.com/problemset/problem/1450/D D. Rating Compression"
   ]
  },
  {
   "cell_type": "code",
   "execution_count": null,
   "metadata": {},
   "outputs": [],
   "source": [
    "n = int(input())\n",
    "\n",
    "print(n, )"
   ]
  },
  {
   "cell_type": "code",
   "execution_count": null,
   "metadata": {},
   "outputs": [],
   "source": [
    "1~9     9\n",
    "\n",
    "10 ~ 99   90\n",
    "\n",
    "100 ~ 999   900"
   ]
  },
  {
   "cell_type": "code",
   "execution_count": 5,
   "metadata": {},
   "outputs": [
    {
     "name": "stdout",
     "output_type": "stream",
     "text": [
      "11\n",
      "6 5 2 7 8 6 8 3 5 6 7\n",
      "24\n"
     ]
    }
   ],
   "source": [
    "n = int(input())\n",
    "li = list(map(int, input().split())) + [-1]\n",
    "\n",
    "max_r = 0\n",
    "stack = [[li[0], 1]]\n",
    "for i in range(1, n + 1):\n",
    "    w = 0\n",
    "    while stack and stack[-1][0] >= li[i]:\n",
    "        fv, fw = stack.pop()\n",
    "\n",
    "        w += fw\n",
    "        max_r = max(max_r, fv * w)\n",
    "\n",
    "    stack.append([li[i], w + 1])\n",
    "\n",
    "print(max_r)"
   ]
  },
  {
   "cell_type": "markdown",
   "metadata": {},
   "source": [
    "https://codeforces.com/problemset/problem/1450/D D. Rating Compression"
   ]
  },
  {
   "cell_type": "code",
   "execution_count": 34,
   "metadata": {},
   "outputs": [
    {
     "name": "stdout",
     "output_type": "stream",
     "text": [
      "3\n",
      "3 3 2\n",
      "2 [3, 2] {1}\n",
      "3 [2] {1}\n",
      "000\n"
     ]
    }
   ],
   "source": [
    "from collections import deque\n",
    "import sys\n",
    "input = lambda: sys.stdin.readline().rstrip()\n",
    "\n",
    "def check(intv_len):\n",
    "    to_check = []\n",
    "    st = set(range(1, n - intv_len + 2)) \n",
    "    \n",
    "    min_deq = deque()\n",
    "    for i in range(n):\n",
    "        while min_deq:\n",
    "            if min_deq[0][1] <= i - intv_len:\n",
    "                min_deq.popleft()\n",
    "            else:\n",
    "                break\n",
    "\n",
    "        while min_deq:\n",
    "            if min_deq[-1][0] >= li[i]:\n",
    "                min_deq.pop()\n",
    "            else:\n",
    "                break\n",
    "\n",
    "        min_deq.append((li[i], i))\n",
    "        \n",
    "        if i >= intv_len - 1:\n",
    "            to_check.append(min_deq[0][0])\n",
    "            st.discard(min_deq[0][0])\n",
    "            \n",
    "    if not st:\n",
    "        return True\n",
    "    return False\n",
    "    \n",
    "for _ in range(int(input())):\n",
    "    n = int(input())\n",
    "    li = list(map(int, input().split()))\n",
    "\n",
    "    r = [0] * n\n",
    "    if sorted(li) == list(range(1, n + 1)):\n",
    "        r[0] = 1\n",
    "\n",
    "    max_not_po = 0\n",
    "    start = 2\n",
    "    end = n\n",
    "    while start <= end:\n",
    "        mid = (start + end) // 2\n",
    "\n",
    "        if not check(mid):\n",
    "            max_not_po = mid\n",
    "            start = mid + 1\n",
    "        else:\n",
    "            end = mid - 1\n",
    "            \n",
    "    if max_not_po == 0:\n",
    "        for i in range(1, n):\n",
    "            r[i] = 1\n",
    "    else:\n",
    "        for i in range(max_not_po, n):\n",
    "            r[i] = 1\n",
    "\n",
    "    print(''.join(map(str, r)))"
   ]
  },
  {
   "cell_type": "code",
   "execution_count": null,
   "metadata": {},
   "outputs": [],
   "source": [
    "1 2 3 4 5\n",
    "F F T T T"
   ]
  },
  {
   "cell_type": "code",
   "execution_count": null,
   "metadata": {},
   "outputs": [],
   "source": []
  },
  {
   "cell_type": "code",
   "execution_count": null,
   "metadata": {},
   "outputs": [],
   "source": []
  },
  {
   "cell_type": "code",
   "execution_count": null,
   "metadata": {},
   "outputs": [],
   "source": [
    "1 3 3 3 2\n",
    "1 3 3 2\n",
    "1 3 2\n",
    "1 2\n",
    "1"
   ]
  },
  {
   "cell_type": "code",
   "execution_count": null,
   "metadata": {},
   "outputs": [],
   "source": [
    "1 5 3 2 1 3 2\n",
    "\n",
    "1 5 3 2 1 3 2\n",
    "1 3 2 1 1 2\n",
    "1 2 1 1 1\n",
    "1 1 1 1\n",
    "1 1 1\n",
    "1 1\n",
    "1"
   ]
  },
  {
   "cell_type": "code",
   "execution_count": null,
   "metadata": {},
   "outputs": [],
   "source": [
    "\n",
    "1 5 3 4 2\n"
   ]
  },
  {
   "cell_type": "code",
   "execution_count": null,
   "metadata": {},
   "outputs": [],
   "source": [
    "1 5 3 4 2"
   ]
  },
  {
   "cell_type": "code",
   "execution_count": null,
   "metadata": {},
   "outputs": [],
   "source": [
    "1 0 1 1 1 1 1 1 1\n",
    "\n",
    "1 1 1 1 1 1 1 0 1"
   ]
  },
  {
   "cell_type": "code",
   "execution_count": null,
   "metadata": {},
   "outputs": [],
   "source": [
    "k가 1이면 그대로 perm인지 확인\n",
    "k가 n이면 min이 1인지 확인\n",
    "k가 2 <= k < n 이면 1이 하나만 있어야 하고 양끝이 아닌 곳에 1이 있으면 1이 2개 이상이 되어버림"
   ]
  },
  {
   "cell_type": "code",
   "execution_count": null,
   "metadata": {},
   "outputs": [],
   "source": [
    "n이 n - 1이면 1이 양쪽 끝 중 하나만 있어야 하고 나머지 구간의 최소는 2여야 함\n",
    "n이 n - 2이면 2이 양쪽 끝 중 하나만 있어야 하고 나머지 구간의 최소는 3이여야 함"
   ]
  },
  {
   "cell_type": "code",
   "execution_count": 31,
   "metadata": {},
   "outputs": [
    {
     "name": "stdout",
     "output_type": "stream",
     "text": [
      "3\n",
      "3 3 2\n",
      "000\n"
     ]
    }
   ],
   "source": [
    "import sys\n",
    "input = lambda: sys.stdin.readline().rstrip()\n",
    "\n",
    "inf = float('inf')\n",
    "\n",
    "class SegmentTree:\n",
    "    def __init__(self, data, default=10**15, func=lambda a, b: max(a,b)):\n",
    "        \"\"\"initialize the segment tree with data\"\"\"\n",
    "        self._default = default\n",
    "        self._func = func\n",
    "        self._len = len(data)\n",
    "        self._size = _size = 1 << (self._len - 1).bit_length()\n",
    " \n",
    "        self.data = [default] * (2 * _size)\n",
    "        self.data[_size:_size + self._len] = data\n",
    "        for i in reversed(range(_size)):\n",
    "            self.data[i] = func(self.data[i + i], self.data[i + i + 1])\n",
    " \n",
    "    def __delitem__(self, idx):\n",
    "        self[idx] = self._default\n",
    " \n",
    "    def __getitem__(self, idx):\n",
    "        return self.data[idx + self._size]\n",
    " \n",
    "    def __setitem__(self, idx, value):\n",
    "        idx += self._size\n",
    "        self.data[idx] = value\n",
    "        idx >>= 1\n",
    "        while idx:\n",
    "            self.data[idx] = self._func(self.data[2 * idx], self.data[2 * idx + 1])\n",
    "            idx >>= 1\n",
    " \n",
    "    def __len__(self):\n",
    "        return self._len\n",
    " \n",
    "    def query(self, start, stop):\n",
    "        if start == stop:\n",
    "            return self.__getitem__(start)\n",
    "        stop += 1\n",
    "        start += self._size\n",
    "        stop += self._size\n",
    " \n",
    "        res = self._default\n",
    "        while start < stop:\n",
    "            if start & 1:\n",
    "                res = self._func(res, self.data[start])\n",
    "                start += 1\n",
    "            if stop & 1:\n",
    "                stop -= 1\n",
    "                res = self._func(res, self.data[stop])\n",
    "            start >>= 1\n",
    "            stop >>= 1\n",
    "        return res\n",
    " \n",
    "    def __repr__(self):\n",
    "        return \"SegmentTree({0})\".format(self.data)\n",
    "\n",
    "\n",
    "func = lambda a, b: min(a, b)\n",
    "for _ in range(int(input())):\n",
    "    n = int(input())\n",
    "    li = list(map(int, input().split()))\n",
    "\n",
    "    segtree = SegmentTree(li, inf, func=func)\n",
    "\n",
    "    r = [0] * n\n",
    "    if segtree.query(0, n - 1) == 1:\n",
    "        r[n - 1] = 1\n",
    "    if sorted(li) == list(range(1, n + 1)):\n",
    "        r[0] = 1\n",
    "\n",
    "    ctc_end = 1 # cur_to_check_end\n",
    "    ctc_min_mid = 2 # cur_to_check_min_mid\n",
    "    s = 0\n",
    "    e = n - 1\n",
    "    ip = True\n",
    "    for intv_len in range(n - 1, 1, -1):\n",
    "        if not ip:\n",
    "            r[intv_len - 1] = 0\n",
    "            continue\n",
    "\n",
    "        checked = False\n",
    "        if li[s] == ctc_end and segtree.query(s + 1, e) == ctc_min_mid:\n",
    "            checked = True\n",
    "            r[intv_len - 1] = 1\n",
    "            s += 1\n",
    "        if li[e] == ctc_end and segtree.query(s, e - 1) == ctc_min_mid:\n",
    "            checked = True\n",
    "            r[intv_len - 1] = 1\n",
    "            e -= 1\n",
    "\n",
    "        if not checked:\n",
    "            ip = False\n",
    "        else:\n",
    "            ctc_end += 1\n",
    "            ctc_min_mid += 1\n",
    "\n",
    "    print(''.join(map(str, r)))"
   ]
  },
  {
   "cell_type": "markdown",
   "metadata": {},
   "source": [
    "https://codeforces.com/problemset/problem/1446/B B. Catching Cheaters"
   ]
  },
  {
   "cell_type": "code",
   "execution_count": 39,
   "metadata": {},
   "outputs": [
    {
     "name": "stdout",
     "output_type": "stream",
     "text": [
      "7 7\n",
      "uiibwws\n",
      "qhtkxcn\n",
      "0\n"
     ]
    }
   ],
   "source": [
    "n, m = map(int, input().split())\n",
    "a = input()\n",
    "b = input()\n",
    "\n",
    "dp = [[0] * (m + 1) for _ in range(n + 1)]\n",
    "max_r = 0\n",
    "for i in range(n):\n",
    "    for j in range(m):\n",
    "        if a[i] == b[j]:\n",
    "            dp[i + 1][j + 1] = max(dp[i][j + 1] - 1, dp[i + 1][j] - 1, dp[i][j] + 2)\n",
    "        else:\n",
    "            dp[i + 1][j + 1] = max(0, dp[i][j + 1] - 1, dp[i + 1][j] - 1)\n",
    "            \n",
    "        max_r = max(max_r, dp[i + 1][j + 1])\n",
    "        \n",
    "print(max_r)"
   ]
  },
  {
   "cell_type": "code",
   "execution_count": 36,
   "metadata": {},
   "outputs": [
    {
     "data": {
      "text/plain": [
       "[[0, 0, 0, 0, 0, 0],\n",
       " [0, 0, 2, 1, 2, 1],\n",
       " [0, 2, 1, 4, 3, 4],\n",
       " [0, 2, 1, 3, 2, 5],\n",
       " [0, 1, 4, 3, 5, 4]]"
      ]
     },
     "execution_count": 36,
     "metadata": {},
     "output_type": "execute_result"
    }
   ],
   "source": [
    "n, m = map(int, input().split())\n",
    "a = input()\n",
    "b = input()\n",
    "\n",
    "dp = [[0] * (m + 1) for _ in range(n + 1)]\n",
    "max_r = 0\n",
    "for i in range(n):\n",
    "    for j in range(m):\n",
    "        if a[i] == b[j]:\n",
    "            dp[i + 1][j + 1] = dp[i][j] + 2\n",
    "        else:\n",
    "            dp[i + 1][j + 1] = max(0, dp[i][j + 1] - 1, dp[i + 1][j] - 1)\n",
    "            \n",
    "        max_r = max(max_r, dp[i + 1][j + 1])\n",
    "        \n",
    "print(max_r)"
   ]
  },
  {
   "cell_type": "markdown",
   "metadata": {},
   "source": [
    "https://codeforces.com/problemset/problem/1442/B B. Identify the Operations"
   ]
  },
  {
   "cell_type": "code",
   "execution_count": null,
   "metadata": {},
   "outputs": [],
   "source": [
    "1 2 3 4 5\n",
    "-> 3 2 5"
   ]
  },
  {
   "cell_type": "code",
   "execution_count": null,
   "metadata": {},
   "outputs": [],
   "source": [
    "[3, 2, 5]\n",
    "\n",
    "  x x   x\n",
    "1 2 3 4 5  에서 3 얻어야함\n",
    "\n",
    "  x   x\n",
    "1 2 3 5  에서 2 얻어야함\n",
    "    x\n",
    "1 2 5 에서 5 얻어야함\n",
    "\n"
   ]
  },
  {
   "cell_type": "code",
   "execution_count": null,
   "metadata": {},
   "outputs": [],
   "source": [
    "    x   x\n",
    "1 2 3 4 5  에서 3 얻어야함"
   ]
  },
  {
   "cell_type": "code",
   "execution_count": null,
   "metadata": {},
   "outputs": [],
   "source": [
    "mod = 998244353\n",
    "\n",
    "n, k = map(int, input().split())\n",
    "a = list(map(int, input().split()))\n",
    "b = list(map(int, input().split()))\n",
    "\n",
    "\n",
    "cant_remove = set(b)\n"
   ]
  },
  {
   "cell_type": "markdown",
   "metadata": {},
   "source": [
    "https://codeforces.com/problemset/problem/1689/D D. Lena and Matrix"
   ]
  },
  {
   "cell_type": "code",
   "execution_count": 6,
   "metadata": {},
   "outputs": [
    {
     "name": "stdout",
     "output_type": "stream",
     "text": [
      "5 5\n",
      "BWBWB\n",
      "WBWBW\n",
      "BWBWB\n",
      "WBWBW\n",
      "BWBWB\n",
      "3 3\n"
     ]
    }
   ],
   "source": [
    "import sys\n",
    "input = lambda: sys.stdin.readline().rstrip()\n",
    "\n",
    "inf = float('inf')\n",
    "\n",
    "def get_dist(ax, ay, bx, by):\n",
    "    return abs(ax - bx) + abs(ay - by)\n",
    "\n",
    "for _ in range(int(input())):\n",
    "    n, m = map(int, input().split())\n",
    "    li = [input() for _ in range(n)]\n",
    "\n",
    "    # min(i - j), max(i - j), min(i + j), max(i + j)\n",
    "    impos = [[inf, -inf], [-inf, inf], [inf, inf], [-inf, -inf]]\n",
    "\n",
    "    for i in range(n):\n",
    "        for j in range(m):\n",
    "            if li[i][j] == 'B':\n",
    "                if i - j < impos[0][0] - impos[0][1]:\n",
    "                    impos[0] = [i, j]\n",
    "                if i - j > impos[1][0] - impos[1][1]:\n",
    "                    impos[1] = [i, j]\n",
    "                if i + j < impos[2][0] + impos[2][1]:\n",
    "                    impos[2] = [i, j]\n",
    "                if i + j > impos[3][0] + impos[3][1]:\n",
    "                    impos[3] = [i, j]\n",
    "\n",
    "    min_r = inf\n",
    "    rx, ry = 0, 0\n",
    "    for i in range(n):\n",
    "        for j in range(m):\n",
    "            temp_max = 0\n",
    "            for k in range(4):\n",
    "                temp_max = max(temp_max, get_dist(i, j, *impos[k]))\n",
    "\n",
    "            if temp_max < min_r:\n",
    "                min_r = temp_max\n",
    "                rx = i\n",
    "                ry = j\n",
    "\n",
    "    print(rx + 1, ry + 1)"
   ]
  },
  {
   "cell_type": "markdown",
   "metadata": {},
   "source": [
    "https://codeforces.com/problemset/problem/1442/A A. Extreme Subtraction"
   ]
  },
  {
   "cell_type": "code",
   "execution_count": 33,
   "metadata": {},
   "outputs": [
    {
     "name": "stdout",
     "output_type": "stream",
     "text": [
      "7\n",
      "3 1 2 3 2 1 3\n",
      "NO\n"
     ]
    }
   ],
   "source": [
    "import sys\n",
    "input = lambda: sys.stdin.readline().rstrip()\n",
    "\n",
    "for _ in range(int(input())):\n",
    "    n = int(input())\n",
    "    li = list(map(int, input().split()))\n",
    "\n",
    "    remained = [0] * n\n",
    "\n",
    "    left_rightest_nip_start = n + 1\n",
    "    for i in range(n - 1):\n",
    "        if li[i] < li[i + 1]:\n",
    "            left_rightest_nip_start = i + 1\n",
    "            break\n",
    "\n",
    "    if left_rightest_nip_start < n:    \n",
    "        to_add = li[left_rightest_nip_start - 1]\n",
    "        for i in range(left_rightest_nip_start, n):\n",
    "            remained[i] += to_add\n",
    "            to_add = min(to_add, li[i])\n",
    "\n",
    "    right_leftest_nip_start = -1\n",
    "    for i in range(n - 1, 0, -1):\n",
    "        if li[i - 1] > li[i]:\n",
    "            right_leftest_nip_start = i - 1\n",
    "            break\n",
    "\n",
    "    if left_rightest_nip_start > right_leftest_nip_start:\n",
    "        print('YES')\n",
    "    else:\n",
    "        ip = True\n",
    "        left_min_to_use = 0\n",
    "        for i in range(right_leftest_nip_start, left_rightest_nip_start - 1, -1):\n",
    "            left_max_can_use = remained[i]\n",
    "            tsost = li[i + 1] # to same or smaller than\n",
    "            li[i] -= left_min_to_use\n",
    "            used = left_min_to_use\n",
    "            if li[i] <= tsost:\n",
    "                pass\n",
    "            else:\n",
    "                diff = li[i] - tsost\n",
    "                used += diff\n",
    "\n",
    "                if used > left_max_can_use:\n",
    "                    ip = False\n",
    "                    break\n",
    "                left_min_to_use += diff\n",
    "                li[i] -= diff\n",
    "\n",
    "        if ip:\n",
    "            print('YES')\n",
    "        else:\n",
    "            print('NO')"
   ]
  },
  {
   "cell_type": "code",
   "execution_count": 38,
   "metadata": {},
   "outputs": [
    {
     "name": "stdout",
     "output_type": "stream",
     "text": [
      "5\n",
      "1 3 1 3 1\n",
      "[1, 1, -1, -1, -3] [0, 2, 2, 4, 4]\n"
     ]
    }
   ],
   "source": [
    "import sys\n",
    "input = lambda: sys.stdin.readline().rstrip()\n",
    "\n",
    "for _ in range(int(input())):\n",
    "    n = int(input())\n",
    "    li = list(map(int, input().split()))\n",
    "\n",
    "    a = [0] * n\n",
    "    b = [0] * n\n",
    "    a[0] = li[0]\n",
    "    for i in range(1, n):\n",
    "        a[i] = min(a[i - 1], li[i] - b[i - 1])\n",
    "        b[i] = li[i] - a[i]\n",
    "\n",
    "    ip = True\n",
    "    for i in range(n - 1):\n",
    "        if a[i] < a[i + 1] or a[i] < 0:\n",
    "            ip = False\n",
    "            break\n",
    "\n",
    "    if a[-1] < 0:\n",
    "        ip = False\n",
    "\n",
    "    if ip:\n",
    "        print('YES')\n",
    "    else:\n",
    "        print('NO')"
   ]
  },
  {
   "cell_type": "code",
   "execution_count": 42,
   "metadata": {},
   "outputs": [
    {
     "name": "stdout",
     "output_type": "stream",
     "text": [
      "1\n",
      "5\n",
      "1 3 1 3 1\n",
      "NO\n"
     ]
    }
   ],
   "source": [
    "import sys\n",
    "# input = lambda: sys.stdin.readline().rstrip()\n",
    "\n",
    "for _ in range(int(input())):\n",
    "    n = int(input())\n",
    "    li = list(map(int, input().split()))\n",
    "\n",
    "    a = [0] * n\n",
    "    b = [0] * n\n",
    "    a[0] = li[0]\n",
    "    for i in range(1, n):\n",
    "        a[i] = min(a[i - 1], li[i] - b[i - 1])\n",
    "        b[i] = li[i] - a[i]\n",
    "\n",
    "    ip = True\n",
    "    for i in range(n):\n",
    "        if a[i] < 0:\n",
    "            ip = False\n",
    "            break\n",
    "\n",
    "    if ip:\n",
    "        print('YES')\n",
    "    else:\n",
    "        print('NO')"
   ]
  },
  {
   "cell_type": "markdown",
   "metadata": {},
   "source": [
    "https://codeforces.com/problemset/problem/1437/C C. Chef Monocarp"
   ]
  },
  {
   "cell_type": "code",
   "execution_count": null,
   "metadata": {},
   "outputs": [],
   "source": [
    "7 7 7 7 7 7 7    4 5 6 7 8 9 10\n",
    "\n",
    "6 6 6 6 6 6   3 4 5 6 7 8\n",
    "\n",
    "5 5 5 5 5     3 4 5 6 7\n",
    "\n"
   ]
  },
  {
   "cell_type": "code",
   "execution_count": 44,
   "metadata": {},
   "outputs": [
    {
     "data": {
      "text/plain": [
       "64000000"
      ]
     },
     "execution_count": 44,
     "metadata": {},
     "output_type": "execute_result"
    }
   ],
   "source": [
    "400 * 400 * 400"
   ]
  },
  {
   "cell_type": "code",
   "execution_count": null,
   "metadata": {},
   "outputs": [],
   "source": [
    "dp[n][cur] = 현재까지 가능한 최소 불만"
   ]
  },
  {
   "cell_type": "code",
   "execution_count": null,
   "metadata": {},
   "outputs": [],
   "source": [
    "dp[4][2] = min(dp[3][1]) + 현재 불만\n",
    "dp[4][3] = min(dp[3][1], dp[3][2]) + 현재 불만"
   ]
  },
  {
   "cell_type": "code",
   "execution_count": 68,
   "metadata": {},
   "outputs": [
    {
     "name": "stdout",
     "output_type": "stream",
     "text": [
      "21\n",
      "21 8 1 4 1 5 21 1 8 21 11 21 11 3 12 8 19 15 9 11 13\n",
      "21\n"
     ]
    }
   ],
   "source": [
    "import sys\n",
    "input = lambda: sys.stdin.readline().rstrip()\n",
    "\n",
    "inf = float('inf')\n",
    "\n",
    "for _ in range(int(input())):\n",
    "    n = int(input())\n",
    "    mpn = n * 2 # max possible num\n",
    "    li = sorted(map(int, input().split()))\n",
    "\n",
    "    dp = [[inf] * (mpn + 1) for _ in range(n)]\n",
    "\n",
    "    for t in range(1, mpn + 1):\n",
    "        dp[0][t] = abs(li[0] - t)\n",
    "\n",
    "    for i in range(1, n):\n",
    "        cur_min = inf\n",
    "        for t in range(1, mpn + 1):\n",
    "            cur_min = min(cur_min, dp[i - 1][t - 1])\n",
    "            dp[i][t] = cur_min + abs(li[i] - t)\n",
    "\n",
    "    r = min(dp[n - 1])\n",
    "\n",
    "    print(r)"
   ]
  },
  {
   "cell_type": "code",
   "execution_count": null,
   "metadata": {},
   "outputs": [],
   "source": [
    "1 2 3 4 5 6 7 8 9 10 11 12 13 14 15 16 18 19 20"
   ]
  },
  {
   "cell_type": "code",
   "execution_count": 66,
   "metadata": {},
   "outputs": [
    {
     "name": "stdout",
     "output_type": "stream",
     "text": [
      "[1, 0, 1, 2, 3, 4, 5]\n",
      "[inf, 1, 1, 2, 3, 4, 5]\n",
      "[inf, inf, 2, 3, 4, 5, 6]\n"
     ]
    }
   ],
   "source": [
    "for v in dp:\n",
    "    print(v)"
   ]
  },
  {
   "cell_type": "markdown",
   "metadata": {},
   "source": [
    "###"
   ]
  },
  {
   "cell_type": "code",
   "execution_count": null,
   "metadata": {},
   "outputs": [],
   "source": [
    "k가 짝수라면\n",
    "2n가 k로 나눠지지만 n은 k로 나눠지지 않아야 한다."
   ]
  },
  {
   "cell_type": "code",
   "execution_count": null,
   "metadata": {},
   "outputs": [],
   "source": [
    "n = 10\n",
    "\n",
    "20은 k로 나눠짐\n",
    "10은 k로 나눠지지 않음"
   ]
  },
  {
   "cell_type": "code",
   "execution_count": null,
   "metadata": {},
   "outputs": [],
   "source": [
    "2 * 2 * 5는 2 * 2로 나눠짐\n",
    "2 * 5는 2 * 2로 나눠지지 않음"
   ]
  },
  {
   "cell_type": "code",
   "execution_count": 37,
   "metadata": {},
   "outputs": [
    {
     "name": "stdout",
     "output_type": "stream",
     "text": [
      "False\n",
      "8\n"
     ]
    }
   ],
   "source": [
    "n = 12\n",
    "\n",
    "c2 = 0\n",
    "nn = n\n",
    "while True:\n",
    "    if nn % 2 == 0:\n",
    "        c2 += 1\n",
    "        nn //= 2\n",
    "    else:\n",
    "        break\n",
    "    \n",
    "c2 += 1\n",
    "k1 = 2 ** c2\n",
    "print(get_sum(k1) <= n)\n",
    "\n",
    "print(k1)"
   ]
  },
  {
   "cell_type": "code",
   "execution_count": 14,
   "metadata": {},
   "outputs": [
    {
     "data": {
      "text/plain": [
       "0"
      ]
     },
     "execution_count": 14,
     "metadata": {},
     "output_type": "execute_result"
    }
   ],
   "source": [
    "2n은 k1로 나눠지는데\n",
    "n은 k1로 나눠지지 않음\n",
    "\n",
    "k1는 짝수\n",
    "2n은 k1 * 홀수인 무언가\n",
    "n은 k1 / 2 * 홀수인 무언가\n",
    "\n",
    "n은 k1 / 2 * k2\n",
    "\n",
    "n은 k1 * k2 / 2\n",
    "\n",
    "k2 = 2n / k1"
   ]
  },
  {
   "cell_type": "code",
   "execution_count": null,
   "metadata": {},
   "outputs": [],
   "source": [
    "k2가 홀수면 k2(k2 + 1) / 2 % k2 == 0 이므로 n % k2 == 0 이어야 함.\n",
    "즉 k2는 n의 약수이면서도 홀수인 가장 작은 수여야 함"
   ]
  },
  {
   "cell_type": "code",
   "execution_count": 9,
   "metadata": {},
   "outputs": [
    {
     "name": "stdout",
     "output_type": "stream",
     "text": [
      "2\n"
     ]
    }
   ],
   "source": [
    "def get_sum(num):\n",
    "    return num * (num + 1) // 2\n",
    "\n",
    "if get_sum(k1) <= n:\n",
    "    print(k1)\n",
    "else:\n",
    "    "
   ]
  },
  {
   "cell_type": "code",
   "execution_count": 49,
   "metadata": {},
   "outputs": [
    {
     "name": "stdout",
     "output_type": "stream",
     "text": [
      "2\n",
      "4\n",
      "-1\n",
      "6\n",
      "3\n"
     ]
    }
   ],
   "source": [
    "import sys\n",
    "input = lambda: sys.stdin.readline().rstrip()\n",
    "\n",
    "def get_sum(num):\n",
    "    return num * (num + 1) // 2\n",
    "\n",
    "for _ in range(int(input())):\n",
    "    n = int(input())\n",
    "\n",
    "    c2 = 0\n",
    "    nn = n\n",
    "    while True:\n",
    "        if nn % 2 == 0:\n",
    "            c2 += 1\n",
    "            nn //= 2\n",
    "        else:\n",
    "            break\n",
    "\n",
    "    c2 += 1\n",
    "    k1 = 2 ** c2\n",
    "    \n",
    "    if get_sum(k1) <= n:\n",
    "        print(k1)\n",
    "    else:\n",
    "        k2 = 2 * n // k1\n",
    "\n",
    "        if k2 == 1:\n",
    "            print(-1)\n",
    "        else:\n",
    "            print(k2)"
   ]
  },
  {
   "cell_type": "markdown",
   "metadata": {},
   "source": [
    "https://codeforces.com/problemset/problem/1650/E E. Rescheduling the Exam"
   ]
  },
  {
   "cell_type": "code",
   "execution_count": null,
   "metadata": {},
   "outputs": [],
   "source": [
    "1 2 3 4 5 6 7 8 9 10 11 12 13 14 15\n",
    "    1              1        1\n",
    "    \n",
    "1 2 3 4 5 6 7 8 9 10 11 12 13 14 15\n",
    "    1     1              1\n",
    "    \n",
    "3, 6 14\n",
    "\n",
    "최소 휴식을 하는 곳이 3개 이상이면 하나를 옮겨도 별 수 없음\n",
    "최소 휴식을 하는 곳이 2개인데 두 곳이 연속된 곳이 아니면 하나를 옮겨도 별 수 없음\n",
    "최소 휴식을 하는 곳이 2개인데 두 곳이 연속된 곳이면 앞쪽을 옮겨야 함\n",
    "최소 휴식을 하는 곳이 1개이면 그곳을 옮겨야 함\n",
    "\n",
    "옮겨야하는 곳이 없다는 가정하에 다시 휴식 길이들을 계산해줌\n",
    "옮겨야할 곳에 가장 긴 휴식을 할 수 있는 곳의 중간에 옮김\n",
    "\n",
    "그 결과 나눠진 구간 중 작은 곳의 휴식 기간, 마지막 장소가 비었다면 (그 곳 - 그 전)의 휴식 기간과 다시 계산했을 때의 최소 휴식 기간을\n",
    "가진 곳의 휴식 기간의 최솟값이 정답이 됨"
   ]
  },
  {
   "cell_type": "code",
   "execution_count": null,
   "metadata": {},
   "outputs": [],
   "source": [
    "1 2 3 4 5 6 7\n",
    "1   1     1"
   ]
  },
  {
   "cell_type": "code",
   "execution_count": null,
   "metadata": {},
   "outputs": [],
   "source": [
    "3 -> 1, 1\n",
    "4 -> 1, 2"
   ]
  },
  {
   "cell_type": "code",
   "execution_count": null,
   "metadata": {},
   "outputs": [],
   "source": [
    "(num - 1) // 2"
   ]
  },
  {
   "cell_type": "code",
   "execution_count": 70,
   "metadata": {},
   "outputs": [],
   "source": [
    "del input"
   ]
  },
  {
   "cell_type": "code",
   "execution_count": 78,
   "metadata": {},
   "outputs": [
    {
     "name": "stdout",
     "output_type": "stream",
     "text": [
      "2 5\n",
      "1 5\n",
      "1111 4\n",
      "2 0 4 2\n",
      "2\n"
     ]
    }
   ],
   "source": [
    "import sys\n",
    "input = lambda: sys.stdin.readline().rstrip()\n",
    "\n",
    "inf = float('inf')\n",
    "\n",
    "for _ in range(int(input())):\n",
    "    input()\n",
    "\n",
    "    n, d = map(int, input().split())\n",
    "    li = [0] + list(map(int, input().split()))\n",
    "    n += 1\n",
    "\n",
    "    md = inf # min diff\n",
    "    mdc = 0 # min diff count\n",
    "    lmd_eps = [] # least min diff end points\n",
    "    for i in range(n - 1):\n",
    "        diff = li[i + 1] - li[i] - 1\n",
    "        if diff < md:\n",
    "            md = diff\n",
    "            mdc = 1\n",
    "            lmd_eps = [i + 1]\n",
    "        elif diff == md:\n",
    "            mdc += 1\n",
    "            lmd_eps.append(i + 1)\n",
    "\n",
    "    if mdc == 3:\n",
    "        print(md)\n",
    "    elif mdc == 2 and lmd_eps[1] - lmd_eps[0] >= 2:\n",
    "        print(md)\n",
    "    else:\n",
    "        cands = []\n",
    "        if mdc == 1:\n",
    "            cands.append(lmd_eps[0])\n",
    "            if lmd_eps[0] - 1 != 0:\n",
    "                cands.append(lmd_eps[0] - 1)\n",
    "        else:\n",
    "            cands.append(lmd_eps[0])\n",
    "\n",
    "        nn = n - 1\n",
    "        result = 0\n",
    "        # tmi: to move index\n",
    "        for tmi in cands:\n",
    "            nli = li.copy()\n",
    "\n",
    "            del nli[tmi]\n",
    "\n",
    "            min_diff = inf\n",
    "            max_diff = -inf\n",
    "            for i in range(nn - 1):\n",
    "                diff = nli[i + 1] - nli[i] - 1\n",
    "                if diff < min_diff:\n",
    "                    min_diff = diff\n",
    "                if diff > max_diff:\n",
    "                    max_diff = diff\n",
    "\n",
    "            t1 = (max_diff - 1) // 2\n",
    "            t2 = 0\n",
    "            if nli[-1] != d:\n",
    "                t2 = d - nli[-1] - 1\n",
    "\n",
    "            t3 = min_diff\n",
    "\n",
    "            temp_r = max(t1, t2)\n",
    "            temp_r = min(temp_r, t3)\n",
    "\n",
    "    #         print(t1, t2, t3, temp_r)\n",
    "\n",
    "            result = max(result, temp_r)\n",
    "\n",
    "        print(result)"
   ]
  },
  {
   "cell_type": "code",
   "execution_count": 73,
   "metadata": {},
   "outputs": [
    {
     "data": {
      "text/plain": [
       "[0, 5]"
      ]
     },
     "execution_count": 73,
     "metadata": {},
     "output_type": "execute_result"
    }
   ],
   "source": [
    "nli"
   ]
  },
  {
   "cell_type": "code",
   "execution_count": 75,
   "metadata": {},
   "outputs": [
    {
     "data": {
      "text/plain": [
       "4"
      ]
     },
     "execution_count": 75,
     "metadata": {},
     "output_type": "execute_result"
    }
   ],
   "source": [
    "nli[1] - nli[0] - 1"
   ]
  },
  {
   "cell_type": "code",
   "execution_count": 76,
   "metadata": {},
   "outputs": [
    {
     "data": {
      "text/plain": [
       "1"
      ]
     },
     "execution_count": 76,
     "metadata": {},
     "output_type": "execute_result"
    }
   ],
   "source": [
    "(4 - 1) // 2"
   ]
  },
  {
   "cell_type": "code",
   "execution_count": null,
   "metadata": {},
   "outputs": [],
   "source": [
    "2 5\n",
    "1 5\n",
    "\n",
    "1 2 3 4 5\n",
    "        1\n",
    "\n"
   ]
  },
  {
   "cell_type": "code",
   "execution_count": null,
   "metadata": {},
   "outputs": [],
   "source": [
    "1 2 3 4\n",
    "1     1\n",
    "\n"
   ]
  },
  {
   "cell_type": "code",
   "execution_count": null,
   "metadata": {},
   "outputs": [],
   "source": [
    "1 2 3 4 5 6 7 8 9 10 11 12 13 14 15 16 17 18 19 20\n",
    "                1              1                \n",
    "               "
   ]
  },
  {
   "cell_type": "code",
   "execution_count": 57,
   "metadata": {},
   "outputs": [
    {
     "data": {
      "text/plain": [
       "17"
      ]
     },
     "execution_count": 57,
     "metadata": {},
     "output_type": "execute_result"
    }
   ],
   "source": [
    "17 - 0"
   ]
  },
  {
   "cell_type": "markdown",
   "metadata": {},
   "source": [
    "https://codeforces.com/problemset/problem/1648/C C. Tyler and Strings"
   ]
  },
  {
   "cell_type": "code",
   "execution_count": null,
   "metadata": {},
   "outputs": [],
   "source": [
    "mod = 998244353\n",
    "\n",
    "s = list(map(int, input().split()))\n",
    "t = list(map(int, input().split()))"
   ]
  },
  {
   "cell_type": "code",
   "execution_count": null,
   "metadata": {},
   "outputs": [],
   "source": [
    "2 1 2 1 보다 작음\n",
    "\n",
    "1 2 2\n",
    "2 1 1"
   ]
  },
  {
   "cell_type": "code",
   "execution_count": null,
   "metadata": {},
   "outputs": [],
   "source": [
    "4 3 2 1 보다 작음\n",
    "\n",
    "1 2 3 4\n",
    "...\n",
    "4 3 2 1"
   ]
  },
  {
   "cell_type": "code",
   "execution_count": null,
   "metadata": {},
   "outputs": [],
   "source": [
    "1 2 3 1\n",
    "1 2 3"
   ]
  },
  {
   "cell_type": "code",
   "execution_count": null,
   "metadata": {},
   "outputs": [],
   "source": [
    "숫자 길이가 같으면 그대로 비교 가능\n",
    "s가 더 길면 처음 t 길이까지의 서브스트링이 같거나 더 크면 안됨\n",
    "t가 더 길면 처음 t 길이까지"
   ]
  },
  {
   "cell_type": "markdown",
   "metadata": {},
   "source": [
    "https://codeforces.com/problemset/problem/1593/D2 D2. Half of Same"
   ]
  },
  {
   "cell_type": "code",
   "execution_count": null,
   "metadata": {},
   "outputs": [],
   "source": [
    "from collections import defaultdict as dd\n",
    "import sys\n",
    "# input = lambda: sys.stdin.readline().rstrip()\n",
    "\n",
    "def get_divisors(num):\n",
    "    divisors = set()\n",
    "    for mod in range(1, int(num ** 0.5) + 1):\n",
    "        if num % mod == 0:\n",
    "            divisors.add(mod)\n",
    "            divisors.add(num // mod)\n",
    "            \n",
    "    return divisors\n",
    "\n",
    "for _ in range(int(input())):\n",
    "    n = int(input())\n",
    "    li = list(map(int, input().split()))\n",
    "\n",
    "    sames = dd(int)\n",
    "    half = n // 2\n",
    "    is_inf = False\n",
    "    for i in range(n):\n",
    "        sames[li[i]] += 1\n",
    "\n",
    "        if sames[li[i]] >= half:\n",
    "            is_inf = True\n",
    "            break\n",
    "\n",
    "    if is_inf:\n",
    "        print(-1)\n",
    "    else:\n",
    "        max_p = 1\n",
    "        for cri_i in range(n):\n",
    "            cri = li[cri_i]\n",
    "            needed = half - sames[cri]\n",
    "\n",
    "            d = dd(int)\n",
    "            for i in range(n):\n",
    "                if i == cri_i:\n",
    "                    continue\n",
    "                    \n",
    "                if li[i] > cri:\n",
    "                    num = li[i] - cri\n",
    "\n",
    "                    for v in get_divisors(num):\n",
    "                        d[v] += 1\n",
    "                        if d[v] >= needed:\n",
    "                            max_p = max(max_p, v)\n",
    "\n",
    "        print(max_p)"
   ]
  },
  {
   "cell_type": "markdown",
   "metadata": {},
   "source": [
    "https://codeforces.com/problemset/problem/1690/F F. Shifting String"
   ]
  },
  {
   "cell_type": "code",
   "execution_count": 114,
   "metadata": {},
   "outputs": [
    {
     "name": "stdout",
     "output_type": "stream",
     "text": [
      "1\n",
      "4\n",
      "abab\n",
      "2 3 4 1\n",
      "2\n"
     ]
    }
   ],
   "source": [
    "from math import gcd\n",
    "import sys\n",
    "# input = lambda: sys.stdin.readline().rstrip()\n",
    "\n",
    "lcm = lambda a, b: a * b // gcd(a, b)\n",
    "\n",
    "get_value = lambda x: int(x) - 1\n",
    "\n",
    "def shift(s):\n",
    "    for i in range(1, len(s) + 1):\n",
    "        if s == s[i:] + s[:i]:\n",
    "            return i\n",
    "\n",
    "for _ in range(int(input())):\n",
    "    n = int(input())\n",
    "    s = input()\n",
    "    li = list(map(get_value, input().split()))\n",
    "\n",
    "    vt = [False] * n\n",
    "    cur_lcm = 1\n",
    "    for i in range(n):\n",
    "        if vt[i]:\n",
    "            continue\n",
    "        vt[i] = True\n",
    "\n",
    "        part = [s[i]]\n",
    "        st = {s[i]}\n",
    "        c = 1\n",
    "\n",
    "        ni = i\n",
    "        while True:\n",
    "            ni = li[ni]\n",
    "            if vt[ni]:\n",
    "                break\n",
    "            vt[ni] = True\n",
    "            c += 1\n",
    "            st.add(s[ni])\n",
    "            part.append(s[ni])\n",
    "\n",
    "        min_needed = 1\n",
    "        if len(st) != 1:\n",
    "            min_needed = shift(part)\n",
    "            \n",
    "#             min_needed = c \n",
    "#             nc = c\n",
    "#             while nc % 2 == 0:\n",
    "#                 nc //= 2\n",
    "#                 check_count = c // nc\n",
    "                \n",
    "#                 ip = True\n",
    "#                 for start in range(nc):\n",
    "#                     for j in range(start, c, nc):\n",
    "#                         if part[j] != part[start]:\n",
    "#                             ip = False\n",
    "#                             break\n",
    "#                     if not ip:\n",
    "#                         break\n",
    "#                 if ip:\n",
    "#                     min_needed = nc\n",
    "                    \n",
    "        cur_lcm = lcm(cur_lcm, min_needed)\n",
    "                \n",
    "\n",
    "    print(cur_lcm)"
   ]
  },
  {
   "cell_type": "code",
   "execution_count": 146,
   "metadata": {},
   "outputs": [
    {
     "name": "stdout",
     "output_type": "stream",
     "text": [
      "1\n",
      "5\n",
      "ababa\n",
      "3 4 5 2 1\n",
      "1\n"
     ]
    }
   ],
   "source": [
    "from math import gcd\n",
    "import sys\n",
    "# input = lambda: sys.stdin.readline().rstrip()\n",
    "\n",
    "def get_divisors(num):\n",
    "    divisors = set()\n",
    "    for mod in range(1, int(num ** 0.5) + 1):\n",
    "        if num % mod == 0:\n",
    "            divisors.add(mod)\n",
    "            divisors.add(num // mod)\n",
    "            \n",
    "    return divisors\n",
    "\n",
    "lcm = lambda a, b: a * b // gcd(a, b)\n",
    "\n",
    "get_value = lambda x: int(x) - 1\n",
    "\n",
    "for _ in range(int(input())):\n",
    "    n = int(input())\n",
    "    s = input()\n",
    "    li = list(map(get_value, input().split()))\n",
    "\n",
    "    vt = [False] * n\n",
    "    cur_lcm = 1\n",
    "    for i in range(n):\n",
    "        if vt[i]:\n",
    "            continue\n",
    "        vt[i] = True\n",
    "\n",
    "        part = [s[i]]\n",
    "        st = {s[i]}\n",
    "        c = 1\n",
    "\n",
    "        ni = i\n",
    "        while True:\n",
    "            ni = li[ni]\n",
    "            if vt[ni]:\n",
    "                break\n",
    "            vt[ni] = True\n",
    "            c += 1\n",
    "            st.add(s[ni])\n",
    "            part.append(s[ni])\n",
    "\n",
    "        min_needed = c\n",
    "        for nc in get_divisors(c):\n",
    "            ip = True\n",
    "            for start in range(nc):\n",
    "                for j in range(start, c, nc):\n",
    "                    if part[j] != part[start]:\n",
    "                        ip = False\n",
    "                        break\n",
    "                if not ip:\n",
    "                    break\n",
    "\n",
    "            if ip:\n",
    "                min_needed = min(min_needed, nc)\n",
    "                    \n",
    "        cur_lcm = lcm(cur_lcm, min_needed)\n",
    "                \n",
    "\n",
    "    print(cur_lcm)"
   ]
  },
  {
   "cell_type": "code",
   "execution_count": 113,
   "metadata": {},
   "outputs": [
    {
     "data": {
      "text/plain": [
       "2"
      ]
     },
     "execution_count": 113,
     "metadata": {},
     "output_type": "execute_result"
    }
   ],
   "source": [
    "def shift(s):\n",
    "    for i in range(1, len(s) + 1):\n",
    "        if s == s[i:] + s[:i]:\n",
    "            return i\n",
    "        \n",
    "shift(['a', 'b', 'a', 'b'])"
   ]
  },
  {
   "cell_type": "code",
   "execution_count": 128,
   "metadata": {},
   "outputs": [
    {
     "data": {
      "text/plain": [
       "<itertools.product at 0x1bac084cc80>"
      ]
     },
     "execution_count": 128,
     "metadata": {},
     "output_type": "execute_result"
    }
   ],
   "source": [
    "from itertools import product\n",
    "product(*[range(3)] * 3)"
   ]
  },
  {
   "cell_type": "code",
   "execution_count": 136,
   "metadata": {},
   "outputs": [
    {
     "name": "stdout",
     "output_type": "stream",
     "text": [
      "(0, 0, 0, 0, 0, 0)\n",
      "(0, 1, 0, 1, 0, 1)\n",
      "(0, 2, 0, 2, 0, 2)\n",
      "(0, 3, 0, 3, 0, 3)\n",
      "(1, 0, 1, 0, 1, 0)\n",
      "(1, 1, 1, 1, 1, 1)\n",
      "(1, 2, 1, 2, 1, 2)\n",
      "(1, 3, 1, 3, 1, 3)\n",
      "(2, 0, 2, 0, 2, 0)\n",
      "(2, 1, 2, 1, 2, 1)\n",
      "(2, 2, 2, 2, 2, 2)\n",
      "(2, 3, 2, 3, 2, 3)\n",
      "(3, 0, 3, 0, 3, 0)\n",
      "(3, 1, 3, 1, 3, 1)\n",
      "(3, 2, 3, 2, 3, 2)\n",
      "(3, 3, 3, 3, 3, 3)\n"
     ]
    }
   ],
   "source": [
    "from itertools import product\n",
    "\n",
    "for part in product(*[range(4)] * 6):\n",
    "    c = len(part)\n",
    "\n",
    "    min_needed = c \n",
    "    nc = c\n",
    "    while nc % 2 == 0:\n",
    "        nc //= 2\n",
    "        check_count = c // nc\n",
    "\n",
    "        ip = True\n",
    "        for start in range(nc):\n",
    "            for j in range(start, c, nc):\n",
    "                if part[j] != part[start]:\n",
    "                    ip = False\n",
    "                    break\n",
    "            if not ip:\n",
    "                break\n",
    "        if ip:\n",
    "            min_needed = nc\n",
    "    \n",
    "    if min_needed != shift(part):\n",
    "        print(part)"
   ]
  },
  {
   "cell_type": "markdown",
   "metadata": {},
   "source": [
    "https://codeforces.com/problemset/problem/698/B B. Fix a Tree"
   ]
  },
  {
   "cell_type": "code",
   "execution_count": null,
   "metadata": {},
   "outputs": [],
   "source": [
    "루트가 여러 개면 하나로 만들어 줘야함.\n",
    "그 밖에 사이클이 있으면 하나를 루트와 연결시켜 줘야함\n",
    "\n",
    "루트가 없을 때 사이클이 있다면 사이클 하나를 루트로 만들면 됨\n",
    "루트가 없다면 사이클이 있을 수밖에 없음"
   ]
  },
  {
   "cell_type": "code",
   "execution_count": 162,
   "metadata": {},
   "outputs": [
    {
     "name": "stdout",
     "output_type": "stream",
     "text": [
      "8\n",
      "2 3 5 4 1 6 6 7\n",
      "2\n",
      "4 3 5 4 1 4 6 7\n"
     ]
    }
   ],
   "source": [
    "import sys\n",
    "input = lambda: sys.stdin.readline().rstrip()\n",
    "\n",
    "get_value = lambda x: int(x) - 1\n",
    "\n",
    "n = int(input())\n",
    "li = list(map(get_value, input().split()))\n",
    "\n",
    "total = 0\n",
    "\n",
    "vt = [False] * n\n",
    "root = -1\n",
    "for i in range(n):\n",
    "    if li[i] == i:\n",
    "        vt[i] = True\n",
    "        \n",
    "        if root == -1:\n",
    "            root = i\n",
    "        else:\n",
    "            total += 1\n",
    "            li[i] = root\n",
    "            \n",
    "for i in range(n):\n",
    "    if vt[i]:\n",
    "        continue\n",
    "    vt[i] = True\n",
    "    \n",
    "    ni = i\n",
    "    part_st = {i}\n",
    "    is_cycled = False\n",
    "    while True:\n",
    "        ni = li[ni]\n",
    "        if vt[ni]:\n",
    "            if ni in part_st:\n",
    "                is_cycled = True\n",
    "                break\n",
    "            else:\n",
    "                break\n",
    "        else:\n",
    "            vt[ni] = True\n",
    "            part_st.add(ni)\n",
    "\n",
    "    if is_cycled:\n",
    "        total += 1\n",
    "        to_root_index = part_st.pop()\n",
    "        if root == -1:\n",
    "            root = to_root_index\n",
    "        li[to_root_index] = root\n",
    "                \n",
    "print(total)\n",
    "\n",
    "li = [v + 1 for v in li]\n",
    "print(*li)"
   ]
  }
 ],
 "metadata": {
  "kernelspec": {
   "display_name": "Python 3",
   "language": "python",
   "name": "python3"
  },
  "language_info": {
   "codemirror_mode": {
    "name": "ipython",
    "version": 3
   },
   "file_extension": ".py",
   "mimetype": "text/x-python",
   "name": "python",
   "nbconvert_exporter": "python",
   "pygments_lexer": "ipython3",
   "version": "3.8.3"
  }
 },
 "nbformat": 4,
 "nbformat_minor": 4
}
