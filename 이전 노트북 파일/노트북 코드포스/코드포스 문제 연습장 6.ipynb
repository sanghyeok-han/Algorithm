{
 "cells": [
  {
   "cell_type": "markdown",
   "metadata": {},
   "source": [
    "https://codeforces.com/problemset/problem/1627/C C. Not Assigning"
   ]
  },
  {
   "cell_type": "markdown",
   "metadata": {},
   "source": [
    "4.59 5.16"
   ]
  },
  {
   "cell_type": "code",
   "execution_count": 4,
   "metadata": {},
   "outputs": [
    {
     "name": "stdout",
     "output_type": "stream",
     "text": [
      "7\n",
      "1 2\n",
      "1 3\n",
      "3 4\n",
      "3 5\n",
      "6 2\n",
      "7 2\n",
      "-1\n"
     ]
    }
   ],
   "source": [
    "from collections import defaultdict as dd\n",
    "import sys\n",
    "input = lambda: sys.stdin.readline().rstrip()\n",
    "\n",
    "## PYRIVAL BOOTSTRAP\n",
    "# https://github.com/cheran-senthil/PyRival/blob/master/pyrival/misc/bootstrap.py\n",
    "# This decorator allows for recursion without actually doing recursion\n",
    "## @bootstrap, yield when getting and returning value in recursive functions, end of functions\n",
    "from types import GeneratorType\n",
    "\n",
    "def bootstrap(f, stack=[]):\n",
    "    def wrappedfunc(*args, **kwargs):\n",
    "        if stack:\n",
    "            return f(*args, **kwargs)\n",
    "        else:\n",
    "            to = f(*args, **kwargs)\n",
    "            while True:\n",
    "                if type(to) is GeneratorType:\n",
    "                    stack.append(to)\n",
    "                    to = next(to)\n",
    "                else:\n",
    "                    stack.pop()\n",
    "                    if not stack:\n",
    "                        break\n",
    "                    to = stack[-1].send(to)\n",
    "            return to\n",
    "    return wrappedfunc\n",
    "\n",
    "@bootstrap\n",
    "def dfs(value, cur_to_assign):\n",
    "    vt[value] = True\n",
    "    \n",
    "    for v in li[value]:\n",
    "        if vt[v]:\n",
    "            continue\n",
    "            \n",
    "        a = value\n",
    "        b = v\n",
    "        if a > b:\n",
    "            a, b = b, a\n",
    "            \n",
    "        result[edge_to_index[(a, b)]] = cur_to_assign \n",
    "        \n",
    "        if cur_to_assign == 2:\n",
    "            yield dfs(v, 3)\n",
    "        else:\n",
    "            yield dfs(v, 2)\n",
    "    yield\n",
    "\n",
    "for _ in range(int(input())):\n",
    "    n = int(input())\n",
    "\n",
    "    edge_to_index = dd(int)\n",
    "    li = [[] for _ in range(n + 1)]\n",
    "    for i in range(n - 1):\n",
    "        a, b = map(int, input().split())\n",
    "\n",
    "        if a > b:\n",
    "            a, b = b, a\n",
    "\n",
    "        edge_to_index[(a, b)] = i\n",
    "        li[a].append(b)\n",
    "        li[b].append(a)\n",
    "\n",
    "    ip = True\n",
    "    root = -1\n",
    "    for i in range(1, n + 1):\n",
    "        if len(li[i]) == 1:\n",
    "            root = i\n",
    "\n",
    "        if len(li[i]) >= 3:\n",
    "            ip = False\n",
    "            break\n",
    "\n",
    "    if not ip:\n",
    "        print(-1)\n",
    "    else:\n",
    "        result = [0] * (n - 1)\n",
    "\n",
    "        vt = [False] * (n + 1)\n",
    "        dfs(root, 2)\n",
    "\n",
    "        print(*result)"
   ]
  },
  {
   "cell_type": "markdown",
   "metadata": {},
   "source": [
    "https://codeforces.com/problemset/problem/1551/B2 B2. Wonderful Coloring - 2"
   ]
  },
  {
   "cell_type": "markdown",
   "metadata": {},
   "source": [
    "5.16 5.31"
   ]
  },
  {
   "cell_type": "code",
   "execution_count": 9,
   "metadata": {},
   "outputs": [
    {
     "name": "stdout",
     "output_type": "stream",
     "text": [
      "13 1\n",
      "3 1 4 1 5 9 2 6 5 3 5 8 9\n",
      "1 1 1 0 1 1 1 1 0 0 0 1 0\n"
     ]
    }
   ],
   "source": [
    "from collections import defaultdict as dd\n",
    "import sys\n",
    "input = lambda: sys.stdin.readline().rstrip()\n",
    "\n",
    "for _ in range(int(input())):\n",
    "    n, k = map(int, input().split())\n",
    "    li = list(map(int, input().split()))\n",
    "\n",
    "    d = dd(list)\n",
    "    for i in range(n):\n",
    "        d[str(li[i])].append(i)\n",
    "\n",
    "    result = []\n",
    "    keys = list(d.keys())\n",
    "    nxt = 1\n",
    "    for key in keys:\n",
    "        if len(d[key]) >= k:\n",
    "            for i in range(k):\n",
    "                result.append((d[key][i], nxt))\n",
    "                nxt += 1\n",
    "                if nxt > k:\n",
    "                    nxt = 1\n",
    "            del d[key]\n",
    "\n",
    "    for key in keys:\n",
    "        if d[key]:\n",
    "            for i in range(len(d[key])):\n",
    "                result.append((d[key][i], nxt))\n",
    "                nxt += 1\n",
    "                if nxt > k:\n",
    "                    nxt = 1\n",
    "\n",
    "    while result and result[-1][1] != k:\n",
    "        result.pop()\n",
    "\n",
    "    nresult = [0] * n\n",
    "    for index, color in result:\n",
    "        nresult[index] = color\n",
    "\n",
    "    print(*nresult)"
   ]
  },
  {
   "cell_type": "markdown",
   "metadata": {},
   "source": [
    "https://codeforces.com/contest/1551/problem/B1 B1. Wonderful Coloring - 1"
   ]
  },
  {
   "cell_type": "markdown",
   "metadata": {},
   "source": [
    "5.33 5.37"
   ]
  },
  {
   "cell_type": "code",
   "execution_count": 14,
   "metadata": {},
   "outputs": [
    {
     "name": "stdout",
     "output_type": "stream",
     "text": [
      "codeforces\n",
      "5\n"
     ]
    }
   ],
   "source": [
    "from collections import Counter\n",
    "import sys\n",
    "input = lambda: sys.stdin.readline().rstrip()\n",
    "\n",
    "for _ in range(int(input())):\n",
    "    s = input()\n",
    "\n",
    "    ct = Counter(s)\n",
    "\n",
    "    c1 = 0\n",
    "    c_over_2 = 0\n",
    "    for key in ct:\n",
    "        if ct[key] == 1:\n",
    "            c1 += 1\n",
    "        else:\n",
    "            c_over_2 += 1\n",
    "\n",
    "    result = c_over_2 + c1 // 2\n",
    "\n",
    "    print(result)"
   ]
  },
  {
   "cell_type": "markdown",
   "metadata": {},
   "source": [
    "https://codeforces.com/problemset/problem/1540/A A. Great Graphs"
   ]
  },
  {
   "cell_type": "markdown",
   "metadata": {},
   "source": [
    "5.38 포기"
   ]
  },
  {
   "cell_type": "code",
   "execution_count": 17,
   "metadata": {},
   "outputs": [
    {
     "name": "stdout",
     "output_type": "stream",
     "text": [
      "3\n",
      "0 2 3\n",
      "-3\n"
     ]
    }
   ],
   "source": [
    "import sys\n",
    "input = lambda: sys.stdin.readline().rstrip()\n",
    "\n",
    "for _ in range(int(input())):\n",
    "    n = int(input())\n",
    "    li = sorted(map(int, input().split()))\n",
    "\n",
    "    if n <= 2:\n",
    "        print(0)\n",
    "    else:\n",
    "        mid = n // 2\n",
    "        total = 0\n",
    "\n",
    "        w = (n % 2) ^ 1\n",
    "        for i in range(mid, n):\n",
    "            total += w * li[i]\n",
    "            total -= w * li[n - 1 - i]\n",
    "            w += 2\n",
    "\n",
    "        total -= li[-1]\n",
    "        total += li[0]\n",
    "\n",
    "        print(-total)"
   ]
  },
  {
   "cell_type": "markdown",
   "metadata": {},
   "source": [
    "https://codeforces.com/problemset/problem/1453/B"
   ]
  },
  {
   "cell_type": "code",
   "execution_count": 20,
   "metadata": {},
   "outputs": [
    {
     "name": "stdout",
     "output_type": "stream",
     "text": [
      "9\n",
      "-367741579 319422997 -415264583 -125558838 -300860379 420848004 294512916 -383235489 425814447\n",
      "2847372102\n"
     ]
    }
   ],
   "source": [
    "import sys\n",
    "input = lambda: sys.stdin.readline().rstrip()\n",
    "\n",
    "for _ in range(int(input())):\n",
    "    n = int(input())\n",
    "    li = list(map(int, input().split()))\n",
    "\n",
    "    total = 0\n",
    "    max_can_reduce = abs(li[1] - li[0])\n",
    "    for i in range(1, n):\n",
    "        total += abs(li[i] - li[i - 1])\n",
    "        if i != n - 1:\n",
    "            a = li[i - 1] - li[i]\n",
    "            b = li[i + 1] - li[i]\n",
    "\n",
    "            if a > b:\n",
    "                a, b = b, a\n",
    "\n",
    "            if a <= 0 and b >= 0:\n",
    "                continue\n",
    "            else:\n",
    "                max_can_reduce = max(max_can_reduce, min(abs(a), abs(b)) * 2)\n",
    "        else:\n",
    "            max_can_reduce = max(max_can_reduce, abs(li[i] - li[i - 1]))\n",
    "\n",
    "    total -= max_can_reduce\n",
    "\n",
    "    print(total)"
   ]
  },
  {
   "cell_type": "markdown",
   "metadata": {},
   "source": [
    "https://codeforces.com/problemset/problem/1452/B B. Toy Blocks"
   ]
  },
  {
   "cell_type": "code",
   "execution_count": 28,
   "metadata": {},
   "outputs": [
    {
     "name": "stdout",
     "output_type": "stream",
     "text": [
      "3\n",
      "3 2 2\n",
      "1\n"
     ]
    }
   ],
   "source": [
    "import sys\n",
    "input = lambda: sys.stdin.readline().rstrip()\n",
    "\n",
    "inf = float('inf')\n",
    "\n",
    "for _ in range(int(input())):\n",
    "    n = int(input())\n",
    "    li = list(map(int, input().split()))\n",
    "\n",
    "    if n == 2:\n",
    "        print(0)\n",
    "    else:\n",
    "        total = sum(li)\n",
    "        max_v = max(li)\n",
    "        min_cri = max_v * (n - 1)\n",
    "        \n",
    "        min_r = inf\n",
    "        for i in range(n):\n",
    "            cur = total - li[i]\n",
    "            diff = want - cur\n",
    "\n",
    "            if diff >= 0:\n",
    "                print(diff)\n",
    "            else:\n",
    "                overed = diff\n",
    "                overed %= (n - 1)\n",
    "\n",
    "                if overed >= 1:\n",
    "                    print(n - 1 - overed)"
   ]
  },
  {
   "cell_type": "markdown",
   "metadata": {},
   "source": [
    "https://codeforces.com/problemset/problem/1443/C C. The Delivery Dilemma"
   ]
  },
  {
   "cell_type": "code",
   "execution_count": 44,
   "metadata": {},
   "outputs": [
    {
     "name": "stdout",
     "output_type": "stream",
     "text": [
      "2\n",
      "10 10\n",
      "1 2\n",
      "3\n"
     ]
    }
   ],
   "source": [
    "import sys\n",
    "input = lambda: sys.stdin.readline().rstrip()\n",
    "\n",
    "inf = float('inf')\n",
    "\n",
    "for _ in range(int(input())):\n",
    "    n = int(input())\n",
    "    a = list(map(int, input().split()))\n",
    "    b = list(map(int, input().split()))\n",
    "\n",
    "    li = [(a[i], b[i]) for i in range(n)]\n",
    "    li.sort(key=lambda x: x[0])\n",
    "\n",
    "    cumul = 0\n",
    "    b_to_left = [0] * (n + 1)\n",
    "    for i in range(n - 1, -1, -1):\n",
    "        cumul += li[i][1]\n",
    "        b_to_left[i] = cumul\n",
    "\n",
    "    min_r = b_to_left[0]\n",
    "    for i in range(n):\n",
    "        t1 = li[i][0]\n",
    "        t2 = b_to_left[i + 1]\n",
    "\n",
    "        min_r = min(min_r, max(t1, t2))\n",
    "\n",
    "    print(min_r)"
   ]
  },
  {
   "cell_type": "markdown",
   "metadata": {},
   "source": [
    "https://codeforces.com/problemset/problem/1427/B B. Chess Cheater"
   ]
  },
  {
   "cell_type": "markdown",
   "metadata": {},
   "source": [
    "5.33 5.51"
   ]
  },
  {
   "cell_type": "code",
   "execution_count": 62,
   "metadata": {},
   "outputs": [
    {
     "name": "stdout",
     "output_type": "stream",
     "text": [
      "15 5\n",
      "WWWLLLWWWLLLWWW\n",
      "26\n"
     ]
    }
   ],
   "source": [
    "import sys\n",
    "input = lambda: sys.stdin.readline().rstrip()\n",
    "\n",
    "for _ in range(int(input())):\n",
    "    n, k = map(int, input().split())\n",
    "    s = input()\n",
    "\n",
    "    no_w = False\n",
    "    if 'W' not in s:\n",
    "        no_w = True\n",
    "\n",
    "    total = 0\n",
    "    iorl = 0 # init or last lose\n",
    "    mid_loses = []\n",
    "    temp = 0\n",
    "    is_win_start = False\n",
    "    for i in range(n):\n",
    "        if s[i] == 'W':\n",
    "            total += 1\n",
    "            if i - 1 >= 0 and s[i - 1] == 'W':\n",
    "                total += 1\n",
    "\n",
    "            if not is_win_start:\n",
    "                is_win_start = True\n",
    "                if temp:\n",
    "                    iorl += temp\n",
    "                    temp = 0\n",
    "            else:\n",
    "                if temp:\n",
    "                    mid_loses.append(temp)\n",
    "                    temp = 0\n",
    "        else:\n",
    "            temp += 1\n",
    "\n",
    "    iorl += temp\n",
    "\n",
    "    mid_loses.sort()\n",
    "    for v in mid_loses:\n",
    "        if k >= v:\n",
    "            k -= v\n",
    "            total += v * 2 + 1\n",
    "        else:\n",
    "            total += k * 2\n",
    "            k = 0\n",
    "            break\n",
    "\n",
    "    total += min(k, iorl) * 2\n",
    "\n",
    "    if no_w:\n",
    "        if total:\n",
    "            total -= 1\n",
    "\n",
    "    print(total)"
   ]
  },
  {
   "cell_type": "markdown",
   "metadata": {},
   "source": [
    "https://codeforces.com/problemset/problem/1425/F F. Flamingoes of Mystery"
   ]
  },
  {
   "cell_type": "code",
   "execution_count": null,
   "metadata": {},
   "outputs": [],
   "source": [
    "import sys\n",
    "input = lambda: sys.stdin.readline().rstrip()\n",
    "\n",
    "class SegmentTree:\n",
    "    def __init__(self, data, default=10**15, func=lambda a, b: max(a,b)):\n",
    "        \"\"\"initialize the segment tree with data\"\"\"\n",
    "        self._default = default\n",
    "        self._func = func\n",
    "        self._len = len(data)\n",
    "        self._size = _size = 1 << (self._len - 1).bit_length()\n",
    " \n",
    "        self.data = [default] * (2 * _size)\n",
    "        self.data[_size:_size + self._len] = data\n",
    "        for i in reversed(range(_size)):\n",
    "            self.data[i] = func(self.data[i + i], self.data[i + i + 1])\n",
    " \n",
    "    def __delitem__(self, idx):\n",
    "        self[idx] = self._default\n",
    " \n",
    "    def __getitem__(self, idx):\n",
    "        return self.data[idx + self._size]\n",
    " \n",
    "    def __setitem__(self, idx, value):\n",
    "        idx += self._size\n",
    "        self.data[idx] = value\n",
    "        idx >>= 1\n",
    "        while idx:\n",
    "            self.data[idx] = self._func(self.data[2 * idx], self.data[2 * idx + 1])\n",
    "            idx >>= 1\n",
    " \n",
    "    def __len__(self):\n",
    "        return self._len\n",
    " \n",
    "    def query(self, start, stop):\n",
    "        if start == stop:\n",
    "            return self.__getitem__(start)\n",
    "        stop += 1\n",
    "        start += self._size\n",
    "        stop += self._size\n",
    " \n",
    "        res = self._default\n",
    "        while start < stop:\n",
    "            if start & 1:\n",
    "                res = self._func(res, self.data[start])\n",
    "                start += 1\n",
    "            if stop & 1:\n",
    "                stop -= 1\n",
    "                res = self._func(res, self.data[stop])\n",
    "            start >>= 1\n",
    "            stop >>= 1\n",
    "        return res\n",
    " \n",
    "    def __repr__(self):\n",
    "        return \"SegmentTree({0})\".format(self.data)\n",
    "    \n",
    "func = lambda a, b: a + b\n",
    "\n",
    "n = int(input())\n",
    "li = list(map(int, input().split()))\n",
    "q = int(input())\n",
    "\n",
    "nxt_2 = 0\n",
    "q1s = []\n",
    "q2s = []\n",
    "for _ in range(q):\n",
    "    qu = list(map(int, input().split()))\n",
    "    \n",
    "    tp = qu[0]\n",
    "    if tp == 1:\n",
    "        q1s.append((qu[1], qu[2]))\n",
    "    else:\n",
    "        q2s.append((qu[1], qu[2], qu[3], nxt_2))\n",
    "        nxt_2 += 1\n",
    "        \n",
    "q2s.sort(key=lambda x: x[0])\n",
    "\n",
    "result = [0] * len(q2s)\n",
    "seg = SegmentTree(li, 0, func=func)\n",
    "\n",
    "cur_k = 0\n",
    "for k, i, j, q2i in q2s:\n",
    "    i -= 1 \n",
    "    j -= 1\n",
    "    \n",
    "    while cur_k < k:\n",
    "        index, v = q1s[cur_k]\n",
    "        index -= 1\n",
    "        seg[index] = v\n",
    "        cur_k += 1\n",
    "        \n",
    "    temp = seg.query(i, j)\n",
    "    result[q2i] = temp\n",
    "    \n",
    "print('\\n'.join(map(str, result)))"
   ]
  },
  {
   "cell_type": "markdown",
   "metadata": {},
   "source": [
    "https://codeforces.com/problemset/problem/1425/F F. Flamingoes of Mystery"
   ]
  },
  {
   "cell_type": "code",
   "execution_count": null,
   "metadata": {},
   "outputs": [],
   "source": [
    "import sys\n",
    "input = lambda: sys.stdin.readline().rstrip()\n",
    "\n",
    "n = int(input())\n",
    "\n",
    "print('? 1 2')\n",
    "sys.stdout.flush()\n",
    "c01 = int(input())\n",
    "\n",
    "print('? 2 3')\n",
    "sys.stdout.flush()\n",
    "c12 = int(input())\n",
    "\n",
    "print('? 1 3')\n",
    "sys.stdout.flush()\n",
    "c02 = int(input())\n",
    "\n",
    "result = [0] * n\n",
    "result[0] = c02 - c12\n",
    "result[2] = c02 - c01\n",
    "result[1] = c02 - (result[0] + result[2])\n",
    "\n",
    "for i in range(3, n):\n",
    "    print(f'? {i} {i + 1}')\n",
    "    sys.stdout.flush()\n",
    "    c = int(input())\n",
    "\n",
    "    result[i] = c - result[i - 1]\n",
    "    \n",
    "print('!', *result)"
   ]
  },
  {
   "cell_type": "markdown",
   "metadata": {},
   "source": [
    "https://codeforces.com/problemset/problem/1425/A A. Arena of Greed"
   ]
  },
  {
   "cell_type": "code",
   "execution_count": null,
   "metadata": {},
   "outputs": [],
   "source": [
    "import sys\n",
    "# input = lambda: sys.stdin.readline().rstrip()\n",
    "\n",
    "for _ in range(int(input())):\n",
    "    n = int(input())\n",
    "\n",
    "    total = 0\n",
    "    while True:\n",
    "        if n % 2 == 1 or (n > 8 and n % 4 == 0):\n",
    "            total += 1\n",
    "            n -= 1\n",
    "        else:\n",
    "            total += n // 2\n",
    "            n //= 2\n",
    "\n",
    "        if n == 0:\n",
    "            break\n",
    "\n",
    "        if n % 2 == 1 or (n > 8 and n % 4 == 0):\n",
    "            n -= 1\n",
    "        else:\n",
    "            n //= 2\n",
    "\n",
    "        if n == 0:\n",
    "            break\n",
    "\n",
    "    print(total)"
   ]
  },
  {
   "cell_type": "code",
   "execution_count": null,
   "metadata": {},
   "outputs": [],
   "source": [
    "dp = [0, 1]\n",
    "for num in range(2, 100):\n",
    "    ch_t1 = 1\n",
    "    ch_o1 = dp[num - 1]\n",
    "    ch_t1 += num - 1 - ch_o1\n",
    "    \n",
    "    ch_t2 = -1\n",
    "    ch_o2 = -1\n",
    "    if num % 2 == 0:\n",
    "        ch_t2 = num // 2\n",
    "        ch_o2 = dp[num // 2]\n",
    "        ch_t2 += num - num // 2 - ch_o2\n",
    "        \n",
    "    if ch_t1 > ch_t2:\n",
    "        dp.append(ch_t1)\n",
    "    else:\n",
    "        dp.append(ch_t2)"
   ]
  },
  {
   "cell_type": "code",
   "execution_count": null,
   "metadata": {},
   "outputs": [],
   "source": [
    "rs = [0] * 100\n",
    "for on in range(1, 100):\n",
    "    n = on\n",
    "    total = 0\n",
    "    while True:\n",
    "        if n % 2 == 1 or (n > 8 and n % 4 == 0):\n",
    "            total += 1\n",
    "            n -= 1\n",
    "        else:\n",
    "            total += n // 2\n",
    "            n //= 2\n",
    "\n",
    "        if n == 0:\n",
    "            break\n",
    "\n",
    "        if n % 2 == 1 or (n > 8 and n % 4 == 0):\n",
    "            n -= 1\n",
    "        else:\n",
    "            n //= 2\n",
    "\n",
    "        if n == 0:\n",
    "            break\n",
    "\n",
    "    rs[on] = total "
   ]
  },
  {
   "cell_type": "code",
   "execution_count": 84,
   "metadata": {},
   "outputs": [
    {
     "name": "stdout",
     "output_type": "stream",
     "text": [
      "[0, 1, 1, 2, 3, 2, 4, 3, 5, 4, 8, 3, 9, 4, 11, 4, 12, 5, 14, 5, 15, 6, 19, 4, 20, 5, 22, 5, 23, 6, 26, 5, 27, 6, 29, 6, 30, 7, 33, 6, 34, 7, 36, 7, 37, 8, 42, 5, 43, 6, 45, 6, 46, 7, 49, 6, 50, 7, 52, 7, 53, 8, 57, 6, 58, 7, 60, 7, 61, 8, 64, 7, 65, 8, 67, 8, 68, 9, 72, 7, 73, 8, 75, 8, 76, 9, 79, 8, 80, 9, 82, 9, 83, 10, 89, 6, 90, 7, 92, 7]\n",
      "[0, 1, 1, 2, 3, 2, 4, 3, 5, 4, 8, 3, 9, 4, 11, 4, 12, 5, 14, 5, 15, 6, 19, 4, 20, 5, 22, 5, 23, 6, 26, 5, 27, 6, 29, 6, 30, 7, 33, 6, 34, 7, 36, 7, 37, 8, 42, 5, 43, 6, 45, 6, 46, 7, 49, 6, 50, 7, 52, 7, 53, 8, 57, 6, 58, 7, 60, 7, 61, 8, 64, 7, 65, 8, 67, 8, 68, 9, 72, 7, 73, 8, 75, 8, 76, 9, 79, 8, 80, 9, 82, 9, 83, 10, 89, 6, 90, 7, 92, 7]\n"
     ]
    }
   ],
   "source": [
    "print(dp)\n",
    "print(rs)"
   ]
  },
  {
   "cell_type": "code",
   "execution_count": 4,
   "metadata": {},
   "outputs": [
    {
     "name": "stdout",
     "output_type": "stream",
     "text": [
      "abba\n",
      "Mike\n",
      "Ann\n",
      "Ann\n",
      "Mike\n"
     ]
    }
   ],
   "source": [
    "import sys\n",
    "input = lambda: sys.stdin.readline().rstrip()\n",
    "\n",
    "s = input()\n",
    "n = len(s)\n",
    "\n",
    "r = ['Mike'] * n\n",
    "\n",
    "to_right = [''] * n\n",
    "to_left = [''] * n\n",
    "\n",
    "cur = 'z'\n",
    "for i in range(n):\n",
    "    cur = min(cur, s[i])\n",
    "    to_right[i] = cur\n",
    "\n",
    "for i in range(1, n):\n",
    "    if to_right[i - 1] < s[i]:\n",
    "        r[i] = 'Ann'\n",
    "\n",
    "for v in r:\n",
    "    print(v)"
   ]
  },
  {
   "cell_type": "code",
   "execution_count": 69,
   "metadata": {},
   "outputs": [
    {
     "data": {
      "text/plain": [
       "89.5"
      ]
     },
     "execution_count": 69,
     "metadata": {},
     "output_type": "execute_result"
    }
   ],
   "source": [
    "n = 200\n",
    "n *= 2\n",
    "\n",
    "degree = 180 * (n - 2) // n / 2 \n",
    "\n",
    "degree"
   ]
  },
  {
   "cell_type": "code",
   "execution_count": 70,
   "metadata": {},
   "outputs": [
    {
     "data": {
      "text/plain": [
       "57.29650674006541"
      ]
     },
     "execution_count": 70,
     "metadata": {},
     "output_type": "execute_result"
    }
   ],
   "source": [
    "import math\n",
    "\n",
    "cosine = math.cos(math.pi / 180 * degree)\n",
    "side = 0.5 / cosine\n",
    "side"
   ]
  },
  {
   "cell_type": "code",
   "execution_count": 71,
   "metadata": {},
   "outputs": [
    {
     "data": {
      "text/plain": [
       "114.58865012931012"
      ]
     },
     "execution_count": 71,
     "metadata": {},
     "output_type": "execute_result"
    }
   ],
   "source": [
    "(side ** 2 - 0.5 ** 2) ** 0.5 * 2"
   ]
  },
  {
   "cell_type": "code",
   "execution_count": null,
   "metadata": {},
   "outputs": [],
   "source": [
    "\n",
    "0.5 / 빗변 == 코사인\n",
    "\n",
    "0.5 / 코사인 == 빗변"
   ]
  },
  {
   "cell_type": "code",
   "execution_count": 17,
   "metadata": {},
   "outputs": [
    {
     "data": {
      "text/plain": [
       "0.03490658503988659"
      ]
     },
     "execution_count": 17,
     "metadata": {},
     "output_type": "execute_result"
    }
   ],
   "source": [
    "math.pi / degree"
   ]
  },
  {
   "cell_type": "markdown",
   "metadata": {},
   "source": [
    "https://codeforces.com/problemset/problem/1351/C C. Skier "
   ]
  },
  {
   "cell_type": "code",
   "execution_count": 80,
   "metadata": {},
   "outputs": [
    {
     "name": "stdout",
     "output_type": "stream",
     "text": [
      "1\n",
      "NS\n",
      "6\n"
     ]
    }
   ],
   "source": [
    "import sys\n",
    "# input = lambda: sys.stdin.readline().rstrip()\n",
    "\n",
    "for _ in range(int(input())):\n",
    "    s = input()\n",
    "\n",
    "    loc = 'SNWE'\n",
    "    dx = [1, -1, 0, 0]\n",
    "    dy = [0, 0, -1, 1]\n",
    "\n",
    "    vt = set()\n",
    "    x = y = 0\n",
    "    total = 0\n",
    "    for v in s:\n",
    "        d = loc.index(v)\n",
    "\n",
    "        nx = x + dx[d]\n",
    "        ny = y + dy[d]\n",
    "        \n",
    "        path = [(x, y), (nx, ny)]\n",
    "        path.sort()\n",
    "        path = tuple(path)\n",
    "\n",
    "        if path in vt:\n",
    "            total += 1\n",
    "        else:\n",
    "            total += 5\n",
    "            vt.add(path)\n",
    "        \n",
    "        x, y = nx, ny\n",
    "\n",
    "    print(total)"
   ]
  },
  {
   "cell_type": "code",
   "execution_count": 87,
   "metadata": {},
   "outputs": [
    {
     "name": "stdout",
     "output_type": "stream",
     "text": [
      "1\n",
      "3\n",
      "6 10 15\n",
      "2\n",
      "1 1 2\n"
     ]
    }
   ],
   "source": [
    "import sys\n",
    "# input = lambda: sys.stdin.readline().rstrip()\n",
    "\n",
    "for _ in range(int(input())):\n",
    "    n = int(input())\n",
    "    li = list(map(int, input().split()))\n",
    "\n",
    "    nli = []\n",
    "    colors = dict()\n",
    "    nxt = 1\n",
    "    for v in li:\n",
    "        temp = -1\n",
    "        for mod in range(2, 1001):\n",
    "            if v % mod == 0:\n",
    "                temp = mod\n",
    "                break\n",
    "\n",
    "        if temp not in colors:\n",
    "            colors[temp] = nxt\n",
    "            nxt += 1\n",
    "\n",
    "        nli.append(temp)\n",
    "\n",
    "    r = [colors[v] for v in nli]\n",
    "\n",
    "    print(len(colors))\n",
    "    print(*r)"
   ]
  },
  {
   "cell_type": "markdown",
   "metadata": {},
   "source": [
    "https://codeforces.com/problemset/problem/1330/B B. Dreamoon Likes Permutations"
   ]
  },
  {
   "cell_type": "code",
   "execution_count": 93,
   "metadata": {},
   "outputs": [
    {
     "name": "stdout",
     "output_type": "stream",
     "text": [
      "3\n",
      "1 1 1\n",
      "0\n"
     ]
    }
   ],
   "source": [
    "import sys\n",
    "input = lambda: sys.stdin.readline().rstrip()\n",
    "\n",
    "def check(max1, max2):\n",
    "    cur_mex = 1\n",
    "    vt = set()\n",
    "    ip = False\n",
    "    for p1_end in range(n):\n",
    "        if li[p1_end] in vt:\n",
    "            p1_end -= 1\n",
    "            break\n",
    "        vt.add(li[p1_end])\n",
    "\n",
    "        while True:\n",
    "            if cur_mex in vt:\n",
    "                cur_mex += 1\n",
    "            else:\n",
    "                break\n",
    "        if cur_mex == max1 + 1:\n",
    "            ip = True\n",
    "            break\n",
    "\n",
    "    if not ip:\n",
    "        return False\n",
    "    \n",
    "    cur_mex = 1\n",
    "    vt = set()\n",
    "    ip = False        \n",
    "    for p2_start in range(n - 1, -1, -1):\n",
    "        if li[p2_start] in vt:\n",
    "            p2_start += 1\n",
    "            break\n",
    "        vt.add(li[p2_start])\n",
    "\n",
    "        while True:\n",
    "            if cur_mex in vt:\n",
    "                cur_mex += 1\n",
    "            else:\n",
    "                break\n",
    "        if cur_mex == max2 + 1:\n",
    "            ip = True\n",
    "            break\n",
    "            \n",
    "    if not ip:\n",
    "        return False\n",
    "\n",
    "    if p1_end + 1 == p2_start:\n",
    "        return True\n",
    "    else:\n",
    "        return False\n",
    "\n",
    "for _ in range(int(input())):\n",
    "    n = int(input())\n",
    "    li = list(map(int, input().split()))\n",
    "\n",
    "    max1 = max(li)\n",
    "    max2 = n - max1\n",
    "    cands = set()\n",
    "\n",
    "    if check(max1, max2):\n",
    "        cands.add((max1, max2))\n",
    "    if check(max2, max1):\n",
    "        cands.add((max2, max1))\n",
    "\n",
    "    print(len(cands))\n",
    "    for r1, r2 in cands:\n",
    "        print(r1, r2)"
   ]
  },
  {
   "cell_type": "code",
   "execution_count": null,
   "metadata": {},
   "outputs": [],
   "source": [
    "1 2 3 6 5 3 4 2 1"
   ]
  },
  {
   "cell_type": "code",
   "execution_count": null,
   "metadata": {},
   "outputs": [],
   "source": [
    "1 2 3 4 5 6\n",
    "1 2 3 4"
   ]
  },
  {
   "cell_type": "code",
   "execution_count": null,
   "metadata": {},
   "outputs": [],
   "source": [
    "6 5 4 3 2 1 2 4 5 6"
   ]
  },
  {
   "cell_type": "code",
   "execution_count": null,
   "metadata": {},
   "outputs": [],
   "source": [
    "1 2 3 4 5 5 4 3 2 1"
   ]
  },
  {
   "cell_type": "code",
   "execution_count": null,
   "metadata": {},
   "outputs": [],
   "source": [
    "3, 6\n",
    "6, 3"
   ]
  },
  {
   "cell_type": "markdown",
   "metadata": {},
   "source": [
    "https://codeforces.com/problemset/problem/1316/B B. String Modification"
   ]
  },
  {
   "cell_type": "markdown",
   "metadata": {},
   "source": [
    "2.18 2.38"
   ]
  },
  {
   "cell_type": "code",
   "execution_count": 106,
   "metadata": {},
   "outputs": [
    {
     "name": "stdout",
     "output_type": "stream",
     "text": [
      "6\n",
      "qwerty\n",
      "ertyqw\n",
      "3\n"
     ]
    }
   ],
   "source": [
    "import sys\n",
    "input = lambda: sys.stdin.readline().rstrip()\n",
    "\n",
    "for _ in range(int(input())):\n",
    "    n = int(input())\n",
    "    s = input()\n",
    "\n",
    "    min_r = s\n",
    "    k = 1\n",
    "    for i in range(1, n):\n",
    "        if i % 2 == n % 2:\n",
    "            temp = s[i:] + s[:i]\n",
    "        else:\n",
    "            temp = s[i:] + s[:i][::-1]\n",
    "\n",
    "        if temp < min_r:\n",
    "            min_r = temp\n",
    "            k = i + 1\n",
    "\n",
    "    print(min_r)\n",
    "    print(k)"
   ]
  },
  {
   "cell_type": "markdown",
   "metadata": {},
   "source": [
    "https://codeforces.com/problemset/problem/1292/A A. NEKO's Maze Game"
   ]
  },
  {
   "cell_type": "code",
   "execution_count": null,
   "metadata": {},
   "outputs": [],
   "source": [
    "import sys\n",
    "# input = lambda: sys.stdin.readline().rstrip()\n",
    "\n",
    "n, q = map(int, input().split())\n",
    "\n",
    "cur = [[0] * n for _ in range(2)]\n",
    "trouble_ups = set()\n",
    "\n",
    "for _ in range(q):\n",
    "    x, y = map(int, input().split())\n",
    "    x -= 1\n",
    "    y -= 1\n",
    "\n",
    "    if x == 0:\n",
    "        if cur[0][y] == 0:\n",
    "            cur[0][y] = 1\n",
    "            is_tr = False\n",
    "            if y - 1 >= 0:\n",
    "                if cur[1][y - 1]:\n",
    "                    is_tr = True\n",
    "            if cur[1][y]:\n",
    "                is_tr = True\n",
    "            if y + 1 < n:\n",
    "                if cur[1][y + 1]:\n",
    "                    is_tr = True\n",
    "            if is_tr:\n",
    "                trouble_ups.add(y)\n",
    "        else:\n",
    "            cur[0][y] = 0\n",
    "            trouble_ups.discard(y)\n",
    "    else:\n",
    "        if cur[1][y] == 0:\n",
    "            cur[1][y] = 1\n",
    "            for ny in range(y - 1, y + 2):\n",
    "                if 0 <= ny < n:\n",
    "                    if cur[0][ny]:\n",
    "                        trouble_ups.add(ny)\n",
    "        else:\n",
    "            cur[1][y] = 0\n",
    "            for ny in range(y - 1, y + 2):\n",
    "                if 0 <= ny < n:\n",
    "                    is_freed = True\n",
    "                    if cur[0][ny]:\n",
    "                        for nny in range(ny - 1, ny + 2):\n",
    "                            if 0 <= nny < n:\n",
    "                                if cur[1][nny]:\n",
    "                                    is_freed = False\n",
    "                    if is_freed:\n",
    "                        trouble_ups.discard(ny)\n",
    "\n",
    "    if trouble_ups:\n",
    "        print('No')\n",
    "    else:\n",
    "        print('Yes')"
   ]
  },
  {
   "cell_type": "code",
   "execution_count": 110,
   "metadata": {},
   "outputs": [
    {
     "name": "stdout",
     "output_type": "stream",
     "text": [
      "5 5\n",
      "2 3\n",
      "Yes\n",
      "1 4\n",
      "No\n",
      "2 4\n",
      "No\n",
      "2 3\n",
      "No\n",
      "1 4\n",
      "Yes\n"
     ]
    }
   ],
   "source": [
    "import sys\n",
    "input = lambda: sys.stdin.readline().rstrip()\n",
    "\n",
    "get_value = lambda x: int(x) - 1\n",
    "\n",
    "n, q = map(int, input().split())\n",
    "\n",
    "cur = [[0] * n for _ in range(2)]\n",
    "blocked_c = 0\n",
    "for _ in range(q):\n",
    "    x, y = map(get_value, input().split())\n",
    "    \n",
    "    nx = x ^ 1\n",
    "    if cur[x][y] == 0:\n",
    "        delta = 1\n",
    "    else:\n",
    "        delta = -1\n",
    "    cur[x][y] ^= 1\n",
    "    \n",
    "    for ny in range(y - 1, y + 2):\n",
    "        if 0 <= ny < n:\n",
    "            if cur[nx][ny] == 1:\n",
    "                blocked_c += delta\n",
    "                \n",
    "    if blocked_c:\n",
    "        print('No')\n",
    "    else:\n",
    "        print('Yes')"
   ]
  },
  {
   "cell_type": "markdown",
   "metadata": {},
   "source": [
    "https://codeforces.com/problemset/problem/1284/B B. New Year and Ascent Sequence"
   ]
  },
  {
   "cell_type": "markdown",
   "metadata": {},
   "source": [
    "4.18 4.37"
   ]
  },
  {
   "cell_type": "code",
   "execution_count": null,
   "metadata": {},
   "outputs": [],
   "source": [
    "이미 ascent가 있으면 모든 조합 다 가능함"
   ]
  },
  {
   "cell_type": "code",
   "execution_count": 124,
   "metadata": {},
   "outputs": [
    {
     "name": "stdout",
     "output_type": "stream",
     "text": [
      "3\n",
      "4 2 0 2 0\n",
      "6 9 9 8 8 7 7\n",
      "1 6\n",
      "7\n"
     ]
    }
   ],
   "source": [
    "from bisect import bisect_left\n",
    "import sys\n",
    "input = lambda: sys.stdin.readline().rstrip()\n",
    "\n",
    "n = int(input())\n",
    "li = []\n",
    "for _ in range(n):\n",
    "    _, *temp = map(int, input().split())\n",
    "    li.append(temp)\n",
    "\n",
    "asc_c = 0\n",
    "no_asc_c = 0\n",
    "\n",
    "no_asc_maxes = []\n",
    "no_asc_mins = []\n",
    "for temp in li:\n",
    "    cur_min = temp[0]\n",
    "    min_v = temp[0]\n",
    "    max_v = temp[0]\n",
    "    is_asc = False\n",
    "    for i in range(1, len(temp)):\n",
    "        min_v = min(min_v, temp[i])\n",
    "        max_v = max(max_v, temp[i])\n",
    "        if cur_min < temp[i]:\n",
    "            is_asc = True\n",
    "            break\n",
    "        cur_min = min(cur_min, temp[i])\n",
    "    \n",
    "    if is_asc:\n",
    "        asc_c += 1\n",
    "    else:\n",
    "        no_asc_c += 1\n",
    "        no_asc_maxes.append(max_v)\n",
    "        no_asc_mins.append(min_v)\n",
    "        \n",
    "total = n * asc_c + asc_c * no_asc_c\n",
    "        \n",
    "no_asc_maxes_len = len(no_asc_maxes)\n",
    "no_asc_maxes.sort()\n",
    "for min_v in no_asc_mins:\n",
    "    total += no_asc_maxes_len - bisect_left(no_asc_maxes, min_v + 0.1)\n",
    "    \n",
    "print(total)"
   ]
  },
  {
   "cell_type": "markdown",
   "metadata": {},
   "source": [
    "https://codeforces.com/problemset/problem/1282/B1 B1. K for the Price of One (Easy Version)"
   ]
  },
  {
   "cell_type": "markdown",
   "metadata": {},
   "source": [
    "5.09 5.20 -1"
   ]
  },
  {
   "cell_type": "code",
   "execution_count": 129,
   "metadata": {},
   "outputs": [
    {
     "name": "stdout",
     "output_type": "stream",
     "text": [
      "1\n",
      "5 3 2\n",
      "1 1 1 1 2\n",
      "4\n"
     ]
    }
   ],
   "source": [
    "import sys\n",
    "# input = lambda: sys.stdin.readline().rstrip()\n",
    "\n",
    "for _ in range(int(input())):\n",
    "    n, p, k = map(int, input().split())\n",
    "    li = sorted(map(int, input().split()))\n",
    "\n",
    "    t1 = 0\n",
    "    cur_p = p\n",
    "    for i in range(1, n, 2):\n",
    "        if li[i] <= cur_p:\n",
    "            cur_p -= li[i]\n",
    "            t1 += 2\n",
    "        else:\n",
    "            break\n",
    "\n",
    "    t2 = 0\n",
    "    cur_p = p\n",
    "    if li[0] <= cur_p:\n",
    "        cur_p -= li[0]\n",
    "        t2 = 1\n",
    "        for i in range(2, n, 2):\n",
    "            if li[i] <= cur_p:\n",
    "                cur_p -= li[i]\n",
    "                t2 += 2\n",
    "            else:\n",
    "                break\n",
    "\n",
    "    r = max(t1, t2)\n",
    "\n",
    "    print(r)"
   ]
  },
  {
   "cell_type": "markdown",
   "metadata": {},
   "source": [
    "https://codeforces.com/problemset/problem/1270/C C. Make Good"
   ]
  },
  {
   "cell_type": "markdown",
   "metadata": {},
   "source": [
    "5.21 포기"
   ]
  },
  {
   "cell_type": "code",
   "execution_count": null,
   "metadata": {},
   "outputs": [],
   "source": [
    "xor이 0인 위치 -1 자리의 합이 1이면 해당 자리의 수의 비트가 1인 것이 더해져야함\n",
    "(xor 0, 합 1)\n",
    "\n",
    "합이 2로 안나눠지면 1은 더해야함"
   ]
  },
  {
   "cell_type": "code",
   "execution_count": 134,
   "metadata": {},
   "outputs": [
    {
     "data": {
      "text/plain": [
       "2"
      ]
     },
     "execution_count": 134,
     "metadata": {},
     "output_type": "execute_result"
    }
   ],
   "source": [
    "1 + 1"
   ]
  },
  {
   "cell_type": "code",
   "execution_count": 135,
   "metadata": {},
   "outputs": [
    {
     "data": {
      "text/plain": [
       "0"
      ]
     },
     "execution_count": 135,
     "metadata": {},
     "output_type": "execute_result"
    }
   ],
   "source": [
    "1 ^ 1"
   ]
  },
  {
   "cell_type": "code",
   "execution_count": null,
   "metadata": {},
   "outputs": [],
   "source": [
    "1 1 2 2 6"
   ]
  },
  {
   "cell_type": "code",
   "execution_count": 136,
   "metadata": {},
   "outputs": [
    {
     "data": {
      "text/plain": [
       "11"
      ]
     },
     "execution_count": 136,
     "metadata": {},
     "output_type": "execute_result"
    }
   ],
   "source": [
    "1 1 + 2 + 2 + 6"
   ]
  },
  {
   "cell_type": "code",
   "execution_count": 137,
   "metadata": {},
   "outputs": [
    {
     "data": {
      "text/plain": [
       "7"
      ]
     },
     "execution_count": 137,
     "metadata": {},
     "output_type": "execute_result"
    }
   ],
   "source": [
    "1 ^ 2 ^ 2 ^ 6"
   ]
  },
  {
   "cell_type": "code",
   "execution_count": 147,
   "metadata": {},
   "outputs": [
    {
     "data": {
      "text/plain": [
       "15"
      ]
     },
     "execution_count": 147,
     "metadata": {},
     "output_type": "execute_result"
    }
   ],
   "source": [
    "3 + 4 + 8"
   ]
  },
  {
   "cell_type": "code",
   "execution_count": 148,
   "metadata": {},
   "outputs": [
    {
     "data": {
      "text/plain": [
       "15"
      ]
     },
     "execution_count": 148,
     "metadata": {},
     "output_type": "execute_result"
    }
   ],
   "source": [
    "3 ^ 4 ^ 8"
   ]
  },
  {
   "cell_type": "code",
   "execution_count": 149,
   "metadata": {},
   "outputs": [
    {
     "data": {
      "text/plain": [
       "('0b1111', '0b1111')"
      ]
     },
     "execution_count": 149,
     "metadata": {},
     "output_type": "execute_result"
    }
   ],
   "source": [
    "bin(15), bin(15)"
   ]
  },
  {
   "cell_type": "code",
   "execution_count": 154,
   "metadata": {},
   "outputs": [
    {
     "name": "stdout",
     "output_type": "stream",
     "text": [
      "2\n",
      "1 1\n",
      "[0, 1, 0, 0, 0, 0, 0, 0, 0, 0, 0, 0, 0, 0, 0, 0, 0, 0, 0, 0, 0, 0, 0, 0, 0, 0, 0, 0, 0, 0] [0, 0, 0, 0, 0, 0, 0, 0, 0, 0, 0, 0, 0, 0, 0, 0, 0, 0, 0, 0, 0, 0, 0, 0, 0, 0, 0, 0, 0, 0]\n"
     ]
    }
   ],
   "source": []
  },
  {
   "cell_type": "code",
   "execution_count": null,
   "metadata": {},
   "outputs": [],
   "source": [
    "import sys\n",
    "input = lambda: sys.stdin.readline().rstrip()\n",
    "\n",
    "for _ in range(int(input())):\n",
    "    n = int(input())\n",
    "    li = list(map(int, input().split()))\n",
    "\n",
    "    sv = 0\n",
    "    xor = 0\n",
    "    for v in li:\n",
    "        sv += v\n",
    "        xor ^= v\n",
    "\n",
    "    print(2)\n",
    "    print(xor, sv + xor)"
   ]
  },
  {
   "cell_type": "markdown",
   "metadata": {},
   "source": [
    "https://codeforces.com/problemset/problem/1418/C C. Mortal Kombat Tower"
   ]
  },
  {
   "cell_type": "code",
   "execution_count": 8,
   "metadata": {},
   "outputs": [
    {
     "name": "stdout",
     "output_type": "stream",
     "text": [
      "1\n",
      "5\n",
      "1 1 1 1 1\n",
      "1\n"
     ]
    }
   ],
   "source": [
    "import sys\n",
    "# input = lambda: sys.stdin.readline().rstrip()\n",
    "\n",
    "for _ in range(int(input())):\n",
    "    n = int(input())\n",
    "    li = list(map(int, input().split()))\n",
    "\n",
    "    cont_1 = 0\n",
    "    start = 0\n",
    "    total = 0\n",
    "    for i in range(n):\n",
    "        if li[i] == 1:\n",
    "            if cont_1 == 0:\n",
    "                start = i\n",
    "            cont_1 += 1\n",
    "        else:\n",
    "            if cont_1 and start == 0:\n",
    "                cont_1 -= 1\n",
    "                total += 1\n",
    "                \n",
    "            total += cont_1 // 3\n",
    "            cont_1 = 0\n",
    "\n",
    "    if cont_1 and start == 0:\n",
    "        cont_1 -= 1\n",
    "        total += 1\n",
    "\n",
    "    total += cont_1 // 3\n",
    "    cont_1 = 0\n",
    "\n",
    "    print(total)"
   ]
  },
  {
   "cell_type": "markdown",
   "metadata": {},
   "source": [
    "https://codeforces.com/problemset/problem/1416/A A. k-Amazing Numbers"
   ]
  },
  {
   "cell_type": "code",
   "execution_count": 12,
   "metadata": {},
   "outputs": [
    {
     "name": "stdout",
     "output_type": "stream",
     "text": [
      "5\n",
      "1 2 3 4 5\n",
      "-1 -1 3 2 1\n"
     ]
    }
   ],
   "source": [
    "from collections import defaultdict as dd\n",
    "import sys\n",
    "input = lambda: sys.stdin.readline().rstrip()\n",
    "\n",
    "for _ in range(int(input())):\n",
    "    n = int(input())\n",
    "    li = list(map(int, input().split()))\n",
    "\n",
    "    d = dd(list)\n",
    "    for i in range(n):\n",
    "        s = str(li[i])\n",
    "\n",
    "        if not d[s]:\n",
    "            d[s].append(-1)    \n",
    "        d[s].append(i)\n",
    "\n",
    "    covered_from = []\n",
    "    for key in d:\n",
    "        d[key].append(n)\n",
    "\n",
    "        max_diff = 0\n",
    "        for i in range(len(d[key]) - 1):\n",
    "            diff = d[key][i + 1] - d[key][i]\n",
    "            max_diff = max(max_diff, diff)\n",
    "\n",
    "        covered_from.append((int(key), max_diff))\n",
    "\n",
    "    covered_from.sort(key=lambda x: -x[1])\n",
    "\n",
    "    cur = 500000\n",
    "    result = [-1] * n\n",
    "    for num in range(1, n + 1):\n",
    "        while covered_from and covered_from[-1][1] == num:\n",
    "            cur = min(cur, covered_from.pop()[0])\n",
    "\n",
    "        if cur < 500000:\n",
    "            result[num - 1] = cur\n",
    "\n",
    "    print(*result)"
   ]
  },
  {
   "cell_type": "markdown",
   "metadata": {},
   "source": [
    "https://codeforces.com/problemset/problem/1409/D D. Decrease the Sum of Digits "
   ]
  },
  {
   "cell_type": "code",
   "execution_count": 22,
   "metadata": {},
   "outputs": [
    {
     "name": "stdout",
     "output_type": "stream",
     "text": [
      "100000000000000001 1\n",
      "899999999999999999\n"
     ]
    }
   ],
   "source": [
    "import sys\n",
    "input = lambda: sys.stdin.readline().rstrip()\n",
    "\n",
    "inf = float('inf')\n",
    "\n",
    "for _ in range(int(input())):\n",
    "    n, s = map(int, input().split())\n",
    "\n",
    "    sn = str(n)\n",
    "\n",
    "    temp = 0\n",
    "    for v in sn:\n",
    "        temp += int(v)\n",
    "    if temp <= s:\n",
    "        print(0)\n",
    "    else:\n",
    "        for i in range(len(sn)):\n",
    "            to_add = 10 ** (i + 1) - n % (10 ** (i + 1))\n",
    "\n",
    "            nn = n + to_add\n",
    "\n",
    "            temp = 0\n",
    "            for v in str(nn):\n",
    "                temp += int(v)\n",
    "\n",
    "            if temp <= s:\n",
    "                print(to_add)\n",
    "                break"
   ]
  },
  {
   "cell_type": "markdown",
   "metadata": {},
   "source": [
    "https://codeforces.com/problemset/problem/1408/C C. Discrete Acceleration"
   ]
  },
  {
   "cell_type": "markdown",
   "metadata": {},
   "source": [
    "2.27 2.59"
   ]
  },
  {
   "cell_type": "code",
   "execution_count": 46,
   "metadata": {},
   "outputs": [
    {
     "name": "stdout",
     "output_type": "stream",
     "text": [
      "5 7\n",
      "1 2 3 4 6\n",
      "2.04761905\n"
     ]
    }
   ],
   "source": [
    "import sys\n",
    "input = lambda: sys.stdin.readline().rstrip()\n",
    "\n",
    "inf = float('inf')\n",
    "\n",
    "for _ in range(int(input())):\n",
    "    n, l = map(int, input().split())\n",
    "    li = [0] + list(map(int, input().split())) + [l]\n",
    "\n",
    "    start = 0\n",
    "    end = int(1e22)\n",
    "    result = inf\n",
    "    while start <= end:\n",
    "        mid = (start + end) // 2\n",
    "\n",
    "        tm = mid / 100000000\n",
    "\n",
    "        cur_i = 1\n",
    "        cur_loc = 0\n",
    "        speed = 1\n",
    "        cur_tm_left = tm\n",
    "        while True:\n",
    "            nxt = li[cur_i] - cur_loc\n",
    "            if nxt / speed <= cur_tm_left:\n",
    "                cur_tm_left -= nxt / speed\n",
    "                speed += 1\n",
    "                cur_loc = li[cur_i]\n",
    "                cur_i += 1\n",
    "            else:\n",
    "                cur_loc += cur_tm_left * speed\n",
    "                break\n",
    "\n",
    "            if cur_loc == l:\n",
    "                break\n",
    "\n",
    "        max_left = cur_loc\n",
    "\n",
    "        cur_i = n\n",
    "        cur_loc = l\n",
    "        speed = 1\n",
    "        cur_tm_left = tm\n",
    "        while True:\n",
    "            nxt = abs(li[cur_i] - cur_loc)\n",
    "            if nxt / speed <= cur_tm_left:\n",
    "                cur_tm_left -= nxt / speed\n",
    "                speed += 1\n",
    "                cur_loc = li[cur_i]\n",
    "                cur_i -= 1\n",
    "            else:\n",
    "                cur_loc -= cur_tm_left * speed\n",
    "                break\n",
    "\n",
    "            if cur_loc == 0:\n",
    "                break    \n",
    "\n",
    "        min_right = cur_loc\n",
    "\n",
    "        if max_left >= min_right:\n",
    "            result = tm\n",
    "            end = mid - 1\n",
    "        else:\n",
    "            start = mid + 1\n",
    "\n",
    "    print(result)"
   ]
  },
  {
   "cell_type": "markdown",
   "metadata": {},
   "source": [
    "https://codeforces.com/problemset/problem/1404/A A. Balanced Bitstring"
   ]
  },
  {
   "cell_type": "code",
   "execution_count": 50,
   "metadata": {},
   "outputs": [
    {
     "name": "stdout",
     "output_type": "stream",
     "text": [
      "4 4\n",
      "?0?0\n",
      "YES\n"
     ]
    }
   ],
   "source": [
    "import sys\n",
    "input = lambda: sys.stdin.readline().rstrip()\n",
    "\n",
    "for _ in range(int(input())):\n",
    "    n, k = map(int, input().split())\n",
    "    li = list(input())\n",
    "\n",
    "    fixed = [-1] * k\n",
    "    ip = True\n",
    "    c1 = 0\n",
    "    c0 = 0\n",
    "    for start in range(k):\n",
    "        st = set()\n",
    "        for i in range(start, n, k):\n",
    "            st.add(li[i])\n",
    "\n",
    "        if '1' in st and '0' in st:\n",
    "            ip = False\n",
    "            break\n",
    "\n",
    "        if '1' in st:\n",
    "            c1 += 1\n",
    "            fixed[start] = 1\n",
    "        elif '0' in st:\n",
    "            c0 += 1\n",
    "            fixed[start] = 0\n",
    "\n",
    "    if c1 > k // 2 or c0 > k // 2:\n",
    "        ip = False\n",
    "\n",
    "    if not ip:\n",
    "        print('NO')\n",
    "    else:\n",
    "        print('YES')"
   ]
  },
  {
   "cell_type": "markdown",
   "metadata": {},
   "source": [
    "https://codeforces.com/problemset/problem/1400/C C. Binary String Reconstruction"
   ]
  },
  {
   "cell_type": "markdown",
   "metadata": {},
   "source": [
    "3.51 4.21 -1"
   ]
  },
  {
   "cell_type": "code",
   "execution_count": null,
   "metadata": {},
   "outputs": [],
   "source": [
    "import sys\n",
    "# input = lambda: sys.stdin.readline().rstrip()\n",
    "\n",
    "for _ in range(int(input())):\n",
    "    li = list(map(int, input()))\n",
    "    n = len(li)\n",
    "    k = int(input())\n",
    "\n",
    "    result = [-1] * n\n",
    "    \n",
    "\n",
    "    ip = True\n",
    "    for i in range(n):\n",
    "        if i - k < 0 and i + k >= n:\n",
    "            if li[i] != 0:\n",
    "                ip = False\n",
    "                break\n",
    "            else:\n",
    "                result[i] = 0\n",
    "                \n",
    "    if ip:\n",
    "        for i in range(n):\n",
    "            if i - k < 0 and i + k < n:\n",
    "                result[i + k] = li[i]\n",
    "            else:\n",
    "                break\n",
    "        for i in range(n - 1, -1, -1):\n",
    "            if i + k >= n and i - k >= 0:\n",
    "                if result[i - k] == li[i] ^ 1:\n",
    "                    ip = False\n",
    "                    break\n",
    "                else:\n",
    "                    result[i - k] = li[i]\n",
    "\n",
    "    if ip:\n",
    "        for i in range(n):\n",
    "            if i - k >= 0 and i + k < n and li[i] == 0:\n",
    "                if result[i - k] == 1 or result[i + k] == 1:\n",
    "                    ip = False\n",
    "                    break\n",
    "                else:\n",
    "                    result[i - k] = 0\n",
    "                    result[i + k] = 0\n",
    "\n",
    "    if ip:\n",
    "        for i in range(n):\n",
    "            if i - k >= 0 and i + k < n and li[i] == 1:\n",
    "                if result[i - k] == 0 and result[i + k] == 0:\n",
    "                    ip = False\n",
    "                    break\n",
    "                else:\n",
    "                    if result[i - k] == -1:\n",
    "                        result[i - k] = 1\n",
    "                    if result[i + k] == -1:\n",
    "                        result[i + k] = 1\n",
    "                        \n",
    "\n",
    "    if ip:\n",
    "        print(''.join(map(str, result)))\n",
    "    else:\n",
    "        print(-1)"
   ]
  },
  {
   "cell_type": "code",
   "execution_count": 70,
   "metadata": {},
   "outputs": [
    {
     "name": "stdout",
     "output_type": "stream",
     "text": [
      "101110\n",
      "2\n",
      "111011\n"
     ]
    }
   ],
   "source": [
    "import sys\n",
    "input = lambda: sys.stdin.readline().rstrip()\n",
    "\n",
    "for _ in range(int(input())):\n",
    "    li = list(map(int, input()))\n",
    "    n = len(li)\n",
    "    k = int(input())\n",
    "\n",
    "    result = [1] * n\n",
    "    for i in range(n):\n",
    "        if li[i] == 0:\n",
    "            if i - k >= 0:\n",
    "                result[i - k] = 0\n",
    "            if i + k < n:\n",
    "                result[i + k] = 0\n",
    "\n",
    "    ip = True\n",
    "    for i in range(n):\n",
    "        if li[i] == 1:\n",
    "            is1 = False\n",
    "            if i - k >= 0 and result[i - k] == 1:\n",
    "                is1 = True\n",
    "            if i + k < n and result[i + k] == 1:\n",
    "                is1 = True\n",
    "\n",
    "            if not is1:\n",
    "                ip = False\n",
    "                break\n",
    "\n",
    "    if ip:\n",
    "        print(''.join(map(str, result)))\n",
    "    else:\n",
    "        print(-1)"
   ]
  },
  {
   "cell_type": "markdown",
   "metadata": {},
   "source": [
    "https://codeforces.com/problemset/problem/1391/C C. Cyclic Permutations"
   ]
  },
  {
   "cell_type": "markdown",
   "metadata": {},
   "source": [
    "4.31 5.11"
   ]
  },
  {
   "cell_type": "code",
   "execution_count": 81,
   "metadata": {},
   "outputs": [
    {
     "name": "stdout",
     "output_type": "stream",
     "text": [
      "583291\n",
      "135712853\n"
     ]
    }
   ],
   "source": [
    "mod = int(1e9) + 7\n",
    "\n",
    "n = int(input())\n",
    "\n",
    "cur = 1\n",
    "for num in range(1, n + 1):\n",
    "    cur *= num\n",
    "    cur %= mod\n",
    "    \n",
    "r = cur - pow(2, n - 1, mod)\n",
    "r %= mod\n",
    "\n",
    "print(r)"
   ]
  },
  {
   "cell_type": "code",
   "execution_count": null,
   "metadata": {},
   "outputs": [],
   "source": [
    "(1, 2, 3, 4) x\n",
    "(1, 2, 4, 3) x\n",
    "(1, 3, 2, 4) \n",
    "(1, 3, 4, 2) x\n",
    "(1, 4, 2, 3) \n",
    "(1, 4, 3, 2) x\n",
    "(2, 1, 3, 4) \n",
    "(2, 1, 4, 3)\n",
    "(2, 3, 1, 4)\n",
    "(2, 3, 4, 1) x\n",
    "(2, 4, 1, 3)\n",
    "(2, 4, 3, 1) x\n",
    "(3, 1, 2, 4)\n",
    "(3, 1, 4, 2)\n",
    "(3, 2, 1, 4)\n",
    "(3, 2, 4, 1)\n",
    "(3, 4, 1, 2)\n",
    "(3, 4, 2, 1) x\n",
    "(4, 1, 2, 3)\n",
    "(4, 1, 3, 2)\n",
    "(4, 2, 1, 3)\n",
    "(4, 2, 3, 1)\n",
    "(4, 3, 1, 2)\n",
    "(4, 3, 2, 1) x"
   ]
  },
  {
   "cell_type": "markdown",
   "metadata": {},
   "source": [
    "https://codeforces.com/problemset/problem/1385/D D. a-Good String"
   ]
  },
  {
   "cell_type": "markdown",
   "metadata": {},
   "source": [
    "5.14 5.43"
   ]
  },
  {
   "cell_type": "code",
   "execution_count": 101,
   "metadata": {},
   "outputs": [
    {
     "name": "stdout",
     "output_type": "stream",
     "text": [
      "8\n",
      "ceaaaabb\n",
      "4\n"
     ]
    }
   ],
   "source": [
    "import sys\n",
    "input = lambda: sys.stdin.readline().rstrip()\n",
    "\n",
    "def recur(start, end, is_all_check, cur_level):\n",
    "    if is_all_check:\n",
    "        c = 0\n",
    "        for i in range(start, end + 1):\n",
    "            if li[i] != cur_level:\n",
    "                c += 1\n",
    "                \n",
    "        return c\n",
    "    else:\n",
    "        if start == end:\n",
    "            if li[start] != cur_level:\n",
    "                return 1\n",
    "            else:\n",
    "                return 0\n",
    "        else:\n",
    "            mid = (start + end) // 2\n",
    "            \n",
    "            t1 = recur(start, mid, True, cur_level) + recur(mid + 1, end, False, cur_level + 1)\n",
    "            t2 = recur(start, mid, False, cur_level + 1) + recur(mid + 1, end, True, cur_level)\n",
    "            \n",
    "            return min(t1, t2)\n",
    "\n",
    "for _ in range(int(input())):\n",
    "    n = int(input())\n",
    "    s = input()\n",
    "    li = [ord(v) - 97 for v in s]\n",
    "\n",
    "    r = recur(0, n - 1, False, 0)\n",
    "\n",
    "    print(r)"
   ]
  },
  {
   "cell_type": "markdown",
   "metadata": {},
   "source": [
    "https://codeforces.com/problemset/problem/1379/B B. Dubious Cyrpto"
   ]
  },
  {
   "cell_type": "markdown",
   "metadata": {},
   "source": [
    "5.47 6.13 반례"
   ]
  },
  {
   "cell_type": "code",
   "execution_count": 142,
   "metadata": {},
   "outputs": [
    {
     "name": "stdout",
     "output_type": "stream",
     "text": [
      "2 3 1\n",
      "2 2 3\n"
     ]
    }
   ],
   "source": [
    "import sys\n",
    "input = lambda: sys.stdin.readline().rstrip()\n",
    "\n",
    "for _ in range(int(input())):\n",
    "    l, r, m = map(int, input().split())\n",
    "\n",
    "    min_p = m - (r - l)\n",
    "    max_p = m + (r - l)\n",
    "\n",
    "    for a in range(l, r + 1):\n",
    "        n_cand = min_p // a\n",
    "        n_cand = max(1, n_cand)\n",
    "\n",
    "        if n_cand >= 1:\n",
    "            temp = n_cand * a\n",
    "            if min_p <= temp <= max_p:\n",
    "                if temp == m:\n",
    "                    b = l\n",
    "                    c = l\n",
    "                elif temp < m:\n",
    "                    b = r\n",
    "                    c = r - (m - temp)\n",
    "                else:\n",
    "                    b = l\n",
    "                    c = l + (temp - m)\n",
    "                break\n",
    "\n",
    "        n_cand += 1\n",
    "        temp = n_cand * a\n",
    "        if min_p <= temp <= max_p:\n",
    "            if temp == m:\n",
    "                b = l\n",
    "                c = l\n",
    "            elif temp < m:\n",
    "                b = r\n",
    "                c = r - (m - temp)\n",
    "            else:\n",
    "                b = l\n",
    "                c = l + (temp - m)\n",
    "            break\n",
    "\n",
    "    print(a, b, c)"
   ]
  },
  {
   "cell_type": "markdown",
   "metadata": {},
   "source": [
    "https://codeforces.com/problemset/problem/1147/A A. Hide and Seek"
   ]
  },
  {
   "cell_type": "code",
   "execution_count": null,
   "metadata": {},
   "outputs": [],
   "source": [
    "n, k = map(int, input().split())\n",
    "li = list(map(int, input().split()))\n",
    "\n",
    "cases = set()\n",
    "for i in range(1, n):\n",
    "    cases.add((i, i))\n",
    "    cases.add((i, i + 1))\n",
    "    cases.add((i + 1, i))\n",
    "cases.add((n, n))\n",
    "\n",
    "st = set()\n",
    "for i in range(k):\n",
    "    cases.discard((li[i], li[i]))\n",
    "    \n",
    "    if li[i] - 1 in st:\n",
    "        cases.discard((li[i] - 1, li[i]))\n",
    "    if li[i] + 1 in st:\n",
    "        cases.discard((li[i] + 1, li[i]))\n",
    "    st.add(li[i])\n",
    "    \n",
    "print(len(cases))"
   ]
  },
  {
   "cell_type": "markdown",
   "metadata": {},
   "source": [
    "https://codeforces.com/problemset/problem/1141/D D. Colored Boots"
   ]
  },
  {
   "cell_type": "code",
   "execution_count": 6,
   "metadata": {},
   "outputs": [
    {
     "name": "stdout",
     "output_type": "stream",
     "text": [
      "7\n",
      "???????\n",
      "????aaa\n",
      "7\n",
      "7 4\n",
      "6 3\n",
      "5 2\n",
      "4 1\n",
      "3 7\n",
      "2 6\n",
      "1 5\n"
     ]
    }
   ],
   "source": [
    "from collections import defaultdict as dd\n",
    "import sys\n",
    "input = lambda: sys.stdin.readline().rstrip()\n",
    "\n",
    "n = int(input())\n",
    "a = input()\n",
    "b = input()\n",
    "\n",
    "a_ct = dd(list)\n",
    "b_ct = dd(list)\n",
    "\n",
    "for i in range(n):\n",
    "    a_ct[a[i]].append(i)\n",
    "    b_ct[b[i]].append(i)\n",
    "    \n",
    "result = []\n",
    "for key in a_ct:\n",
    "    while key != '?' and a_ct[key] and b_ct[key]:\n",
    "        result.append((a_ct[key].pop() + 1, b_ct[key].pop() + 1))\n",
    "        \n",
    "for key in b_ct:\n",
    "    while key != '?' and a_ct['?'] and b_ct[key]:\n",
    "        result.append((a_ct['?'].pop() + 1, b_ct[key].pop() + 1))\n",
    "\n",
    "for key in a_ct:\n",
    "    while key != '?' and b_ct['?'] and a_ct[key]:\n",
    "        result.append((a_ct[key].pop() + 1, b_ct['?'].pop() + 1))\n",
    "            \n",
    "while a_ct['?'] and b_ct['?']:\n",
    "    result.append((a_ct['?'].pop() + 1, b_ct['?'].pop() + 1))\n",
    "    \n",
    "print(len(result))\n",
    "for v in result:\n",
    "    print(*v)"
   ]
  },
  {
   "cell_type": "markdown",
   "metadata": {},
   "source": [
    "https://codeforces.com/problemset/problem/1141/C C. Polycarp Restores Permutation"
   ]
  },
  {
   "cell_type": "code",
   "execution_count": 16,
   "metadata": {},
   "outputs": [
    {
     "name": "stdout",
     "output_type": "stream",
     "text": [
      "5\n",
      "1 1 1 1\n",
      "1 2 3 4 5\n"
     ]
    }
   ],
   "source": [
    "n = int(input())\n",
    "li = list(map(int, input().split()))\n",
    "\n",
    "n_loc = -1\n",
    "cumul = 0\n",
    "for i in range(n - 1):\n",
    "    cumul += li[i]\n",
    "    if cumul == n - 1:\n",
    "        n_loc = i + 1\n",
    "        break\n",
    "        \n",
    "    if cumul < 0:\n",
    "        cumul = 0\n",
    "        \n",
    "if n_loc == -1:\n",
    "    cumul = 0\n",
    "    for i in range(n - 2, -1, -1):\n",
    "        cumul += li[i]\n",
    "        if cumul == -(n - 1):\n",
    "            n_loc = i\n",
    "            break\n",
    "        if cumul > 0:\n",
    "            cumul = 0\n",
    "            \n",
    "if n_loc == -1:\n",
    "    print(-1)\n",
    "else:\n",
    "    result = [0] * n\n",
    "    result[n_loc] = n\n",
    "    for i in range(n_loc - 1, -1, -1):\n",
    "        result[i] = result[i + 1] - li[i]\n",
    "        \n",
    "    for i in range(n_loc + 1, n):\n",
    "        result[i] = result[i - 1] + li[i - 1]\n",
    "        \n",
    "    if sorted(result) != list(range(1, n + 1)):\n",
    "        print(-1)\n",
    "    else:\n",
    "        print(*result)"
   ]
  },
  {
   "cell_type": "markdown",
   "metadata": {},
   "source": [
    "https://codeforces.com/problemset/problem/1139/C C. Edgy Trees"
   ]
  },
  {
   "cell_type": "code",
   "execution_count": 24,
   "metadata": {},
   "outputs": [
    {
     "name": "stdout",
     "output_type": "stream",
     "text": [
      "4 4\n",
      "1 2 0\n",
      "2 3 1\n",
      "3 4 0\n",
      "114\n"
     ]
    }
   ],
   "source": [
    "# 문제 해석을 잘못하였음\n",
    "mod = int(1e9) + 7\n",
    "\n",
    "n, k = map(int, input().split())\n",
    "li = [[] for _ in range(n + 1)]\n",
    "for _ in range(n - 1):\n",
    "    u, v, x = map(int, input().split())\n",
    "    li[u].append((v, x))\n",
    "    li[v].append((u, x))\n",
    "    \n",
    "dp = [[[0] * 2 for _ in range(n + 1)] for _ in range(k + 1)]\n",
    "for i in range(1, n + 1):\n",
    "    dp[0][i][0] = 1\n",
    "\n",
    "for cur_k in range(1, k + 1):\n",
    "    for value in range(1, n + 1):\n",
    "        c0 = c1 = 0\n",
    "        for v, x in li[value]:\n",
    "            if x == 0:\n",
    "                c0 += dp[cur_k - 1][v][0]\n",
    "                c0 %= mod\n",
    "                c1 += dp[cur_k - 1][v][1]\n",
    "                c1 %= mod\n",
    "            else:\n",
    "                c1 += dp[cur_k - 1][v][0] + dp[cur_k - 1][v][1]\n",
    "                c1 %= mod\n",
    "        \n",
    "        c0 += dp[cur_k - 1][value][0]\n",
    "        c0 %= mod\n",
    "        c1 += dp[cur_k - 1][value][1]\n",
    "        c1 %= mod\n",
    "        \n",
    "        dp[cur_k][value][0] = c0\n",
    "        dp[cur_k][value][1] = c1\n",
    "\n",
    "total = 0\n",
    "for i in range(1, n + 1):\n",
    "    total += dp[k][i][1]\n",
    "    total %= mod\n",
    "    \n",
    "print(total)"
   ]
  },
  {
   "cell_type": "code",
   "execution_count": null,
   "metadata": {},
   "outputs": [],
   "source": [
    "가능한 것을 전부 구하는 대신에 불가능한 경우를 전부 구해서 전체 경우에서 빼면 어떨까?"
   ]
  },
  {
   "cell_type": "code",
   "execution_count": 90,
   "metadata": {},
   "outputs": [
    {
     "name": "stdout",
     "output_type": "stream",
     "text": [
      "4 6\n",
      "1 2 0\n",
      "1 3 0\n",
      "1 4 0\n",
      "0\n"
     ]
    }
   ],
   "source": [
    "from collections import deque\n",
    "import sys\n",
    "input = lambda: sys.stdin.readline().rstrip()\n",
    "\n",
    "mod = int(1e9) + 7\n",
    "\n",
    "n, k = map(int, input().split())\n",
    "li = [[] for _ in range(n + 1)]\n",
    "\n",
    "total = pow(n, k, mod)\n",
    "for _ in range(n - 1):\n",
    "    u, v, x = map(int, input().split())\n",
    "    \n",
    "    if x == 0:\n",
    "        li[u].append(v)\n",
    "        li[v].append(u)\n",
    "    \n",
    "vt = [False] * (n + 1)\n",
    "for i in range(1, n + 1):\n",
    "    if vt[i]:\n",
    "        continue\n",
    "    vt[i] = True\n",
    "    c = 1\n",
    "    \n",
    "    queue = deque()\n",
    "    queue.append(i)\n",
    "    while queue:\n",
    "        value = queue.popleft()\n",
    "        \n",
    "        for v in li[value]:\n",
    "            if vt[v]:\n",
    "                continue\n",
    "            vt[v] = True\n",
    "            c += 1\n",
    "            queue.append(v)\n",
    "            \n",
    "    total -= pow(c, k, mod)\n",
    "    total %= mod\n",
    "    \n",
    "    \n",
    "print(total)"
   ]
  },
  {
   "cell_type": "code",
   "execution_count": 85,
   "metadata": {},
   "outputs": [
    {
     "data": {
      "text/plain": [
       "([[], [], [3], [2]], 3)"
      ]
     },
     "execution_count": 85,
     "metadata": {},
     "output_type": "execute_result"
    }
   ],
   "source": [
    "li, c"
   ]
  },
  {
   "cell_type": "markdown",
   "metadata": {},
   "source": [
    "https://codeforces.com/problemset/problem/1136/C C. Nastya Is Transposing Matrices"
   ]
  },
  {
   "cell_type": "code",
   "execution_count": 28,
   "metadata": {},
   "outputs": [
    {
     "name": "stdout",
     "output_type": "stream",
     "text": [
      "3 3\n",
      "1 2 3\n",
      "4 5 6\n",
      "7 8 9\n",
      "1 4 7\n",
      "2 5 6\n",
      "3 8 9\n",
      "YES\n"
     ]
    }
   ],
   "source": [
    "from collections import defaultdict as dd\n",
    "import sys\n",
    "input = lambda: sys.stdin.readline().rstrip()\n",
    "\n",
    "n, m = map(int, input().split())\n",
    "a = [list(map(int, input().split())) for _ in range(n)]\n",
    "b = [list(map(int, input().split())) for _ in range(n)]\n",
    "\n",
    "ip = True\n",
    "for j in range(m):\n",
    "    a_ct = dd(int)\n",
    "    b_ct = dd(int)\n",
    "    \n",
    "    ni = 0\n",
    "    nj = j\n",
    "    while True:\n",
    "        a_ct[str(a[ni][nj])] += 1\n",
    "        b_ct[str(b[ni][nj])] += 1\n",
    "\n",
    "        ni += 1\n",
    "        nj -= 1\n",
    "        if ni >= n or nj < 0:\n",
    "            break\n",
    "    \n",
    "    for key in a_ct:\n",
    "        if a_ct[key] != b_ct[key]:\n",
    "            ip = False\n",
    "            break\n",
    "            \n",
    "if ip:\n",
    "    for i in range(n):\n",
    "        a_ct = dd(int)\n",
    "        b_ct = dd(int)\n",
    "\n",
    "        ni = i\n",
    "        nj = m - 1\n",
    "        while True:\n",
    "            a_ct[str(a[ni][nj])] += 1\n",
    "            b_ct[str(b[ni][nj])] += 1\n",
    "\n",
    "            ni += 1\n",
    "            nj -= 1\n",
    "            if ni >= n or nj < 0:\n",
    "                break\n",
    "                \n",
    "        for key in a_ct:\n",
    "            if a_ct[key] != b_ct[key]:\n",
    "                ip = False\n",
    "                break\n",
    "                \n",
    "if ip:\n",
    "    print('YES')\n",
    "else:\n",
    "    print('NO')"
   ]
  },
  {
   "cell_type": "markdown",
   "metadata": {},
   "source": [
    "https://codeforces.com/problemset/problem/1133/D D. Zero Quantity Maximization"
   ]
  },
  {
   "cell_type": "code",
   "execution_count": 72,
   "metadata": {},
   "outputs": [
    {
     "name": "stdout",
     "output_type": "stream",
     "text": [
      "3\n",
      "1 2 -1\n",
      "-6 -12 6\n",
      "3\n"
     ]
    }
   ],
   "source": [
    "from math import gcd\n",
    "from collections import defaultdict as dd\n",
    "\n",
    "n = int(input())\n",
    "a = list(map(int, input().split()))\n",
    "b = list(map(int, input().split()))\n",
    "\n",
    "total = 0\n",
    "d = dd(int)\n",
    "for i in range(n):\n",
    "    if a[i] == 0:\n",
    "        if b[i] == 0:\n",
    "            total += 1\n",
    "    else:\n",
    "        g = gcd(a[i], b[i])\n",
    "        \n",
    "        aa = a[i] // g\n",
    "        bb = b[i] // g\n",
    "        \n",
    "        is_minus = 0\n",
    "        if aa < 0:\n",
    "            is_minus ^= 1\n",
    "        if bb < 0:\n",
    "            is_minus ^= 1\n",
    "            \n",
    "        if bb == 0:\n",
    "            is_minus = 0\n",
    "        \n",
    "        d[(abs(aa), abs(bb), is_minus)] += 1\n",
    "        \n",
    "total += max(d.values()) if d.values() else 0\n",
    "\n",
    "print(total)"
   ]
  },
  {
   "cell_type": "code",
   "execution_count": 71,
   "metadata": {},
   "outputs": [
    {
     "data": {
      "text/plain": [
       "defaultdict(int, {(1, -6, False): 2, (-1, 6, False): 1})"
      ]
     },
     "execution_count": 71,
     "metadata": {},
     "output_type": "execute_result"
    }
   ],
   "source": [
    "d"
   ]
  },
  {
   "cell_type": "code",
   "execution_count": null,
   "metadata": {},
   "outputs": [],
   "source": [
    "d * a + b = 0\n",
    "\n",
    "d * a = -b\n",
    "d = -b / a"
   ]
  },
  {
   "cell_type": "markdown",
   "metadata": {},
   "source": [
    "https://codeforces.com/problemset/problem/1119/C C. Ramesses and Corner Inversion"
   ]
  },
  {
   "cell_type": "markdown",
   "metadata": {},
   "source": [
    "4.52 5.06"
   ]
  },
  {
   "cell_type": "code",
   "execution_count": 77,
   "metadata": {},
   "outputs": [
    {
     "name": "stdout",
     "output_type": "stream",
     "text": [
      "3 3\n",
      "0 1 0\n",
      "0 1 0\n",
      "1 0 0\n",
      "1 0 0\n",
      "1 0 0\n",
      "1 0 0\n",
      "Yes\n"
     ]
    }
   ],
   "source": [
    "import sys\n",
    "input = lambda: sys.stdin.readline().rstrip()\n",
    "\n",
    "n, m = map(int, input().split())\n",
    "a = [list(map(int, input().split())) for _ in range(n)]\n",
    "b = [list(map(int, input().split())) for _ in range(n)]\n",
    "\n",
    "ip = True\n",
    "for i in range(n):\n",
    "    diff = 0\n",
    "    for j in range(m):\n",
    "        if a[i][j] != b[i][j]:\n",
    "            diff += 1\n",
    "    if diff % 2 == 1:\n",
    "        ip = False\n",
    "        break\n",
    "        \n",
    "if ip:\n",
    "    for j in range(m):\n",
    "        for i in range(n):\n",
    "            if a[i][j] != b[i][j]:\n",
    "                diff += 1\n",
    "        if diff % 2 == 1:\n",
    "            ip = False\n",
    "            break\n",
    "            \n",
    "if ip:\n",
    "    print('Yes')\n",
    "else:\n",
    "    print('No')"
   ]
  },
  {
   "cell_type": "code",
   "execution_count": 76,
   "metadata": {},
   "outputs": [
    {
     "data": {
      "text/plain": [
       "([[10], [10], [100]], [[100], [100], [100]])"
      ]
     },
     "execution_count": 76,
     "metadata": {},
     "output_type": "execute_result"
    }
   ],
   "source": [
    "a, b"
   ]
  },
  {
   "cell_type": "markdown",
   "metadata": {},
   "source": [
    "https://codeforces.com/problemset/problem/1114/B B. Yet Another Array Partitioning Task"
   ]
  },
  {
   "cell_type": "markdown",
   "metadata": {},
   "source": [
    "5.29 5.57 - 1"
   ]
  },
  {
   "cell_type": "code",
   "execution_count": 104,
   "metadata": {},
   "outputs": [
    {
     "name": "stdout",
     "output_type": "stream",
     "text": [
      "9 2 3\n",
      "1 2 3 4 5 6 7 8 9\n",
      "39\n",
      "5 7\n"
     ]
    }
   ],
   "source": [
    "n, m, k = map(int, input().split())\n",
    "li = list(map(int, input().split()))\n",
    "\n",
    "nli = [[v, i] for i, v in enumerate(li)]\n",
    "nli.sort(key=lambda x: -x[0])\n",
    "to_include = set()\n",
    "total = 0\n",
    "for i in range(m * k):\n",
    "    total += nli[i][0]\n",
    "    to_include.add(nli[i][1])\n",
    "    \n",
    "result = []\n",
    "cur = 0\n",
    "is_once_fulfilled = False\n",
    "for i in range(n):\n",
    "    if i in to_include:\n",
    "        cur += 1\n",
    "        if cur == 1 and is_once_fulfilled:\n",
    "            result.append(i)\n",
    "        \n",
    "    if cur == m:\n",
    "        is_once_fulfilled = True\n",
    "        cur = 0\n",
    "\n",
    "print(total)\n",
    "print(*result)"
   ]
  },
  {
   "cell_type": "code",
   "execution_count": null,
   "metadata": {},
   "outputs": [],
   "source": [
    "9 2 3\n",
    "1 2 3 4 5 6 7 8 9\n",
    "39\n",
    "3 5 7"
   ]
  },
  {
   "cell_type": "code",
   "execution_count": null,
   "metadata": {},
   "outputs": [],
   "source": [
    "9 2 3\n",
    "9 8 7 6 5 4 3 2 1\n",
    "39\n",
    "2 4"
   ]
  },
  {
   "cell_type": "markdown",
   "metadata": {},
   "source": [
    "https://codeforces.com/problemset/problem/1718/A2 A2. Burenka and Traditions (hard version)"
   ]
  },
  {
   "cell_type": "code",
   "execution_count": null,
   "metadata": {},
   "outputs": [],
   "source": [
    "1: 1\n",
    "2: 1\n",
    "3: 2\n",
    "4: 2\n",
    "5: 3\n",
    "6: 3\n",
    "7: 4\n",
    "8: 4\n",
    "9: 5\n",
    "10: 5"
   ]
  },
  {
   "cell_type": "code",
   "execution_count": null,
   "metadata": {},
   "outputs": [],
   "source": [
    "from math import ceil\n",
    "import sys\n",
    "# input = lambda: sys.stdin.readline().rstrip()\n",
    "\n",
    "for _ in range(int(input())):\n",
    "    n = int(input())\n",
    "    li = list(map(int, input().split()))\n",
    "\n",
    "    if n == 1:\n",
    "        if li[0] == 0:\n",
    "            print(0)\n",
    "        else:\n",
    "            print(1)\n",
    "    else:\n",
    "        fv = li[0]\n",
    "        cont = 0\n",
    "        total = 0\n",
    "        for i in range(n - 2):\n",
    "            if li[i] == 0:\n",
    "                continue\n",
    "\n",
    "            a = li[i]\n",
    "            b = li[i + 1]\n",
    "            c = li[i + 2]\n",
    "\n",
    "            if a == b:\n",
    "                b = 0\n",
    "            elif b != c:\n",
    "                b ^= a\n",
    "\n",
    "            li[i + 1] = b\n",
    "            total += 1\n",
    "\n",
    "        if li[n - 2] == li[n - 1]:\n",
    "            if li[n - 2] != 0:\n",
    "                total += 1\n",
    "        else:\n",
    "            if li[n - 1] == 0 and li[n - 2] == 0:\n",
    "                pass\n",
    "            elif li[n - 1] == 0 or li[n - 2] == 0:\n",
    "                total += 1\n",
    "            else:\n",
    "                total += 2\n",
    "\n",
    "        print(total)"
   ]
  },
  {
   "cell_type": "code",
   "execution_count": null,
   "metadata": {},
   "outputs": [],
   "source": [
    "첫 번째 꺼를 두 번째 꺼에 xor할 것인가 말 것인가?"
   ]
  },
  {
   "cell_type": "code",
   "execution_count": 80,
   "metadata": {},
   "outputs": [
    {
     "name": "stdout",
     "output_type": "stream",
     "text": [
      "1\n",
      "5\n",
      "1822 1799 57 23 55\n",
      "5\n"
     ]
    }
   ],
   "source": [
    "for _ in range(int(input())):\n",
    "    n = int(input())\n",
    "    li = list(map(int, input().split()))\n",
    "\n",
    "    total = 0\n",
    "    used = [False] * n\n",
    "    for i in range(n):\n",
    "        if li[i] >= 1:\n",
    "            total += 1\n",
    "        else:\n",
    "            used[i] = True\n",
    "    \n",
    "    for i in range(1, n - 1):\n",
    "        if used[i]:\n",
    "            continue\n",
    "\n",
    "        if not used[i - 1] and li[i - 1] == li[i]:\n",
    "            used[i - 1] = True\n",
    "            total -= 1\n",
    "        elif not used[i + 1] and li[i] == li[i + 1]:\n",
    "            used[i + 1] = True\n",
    "            total -= 1\n",
    "        elif not used[i - 1] and not used[i + 1] and li[i - 1] ^ li[i + 1] == li[i]:\n",
    "            used[i - 1] = used[i + 1] = True\n",
    "            total -= 1\n",
    "\n",
    "    print(total)"
   ]
  },
  {
   "cell_type": "code",
   "execution_count": 81,
   "metadata": {},
   "outputs": [
    {
     "data": {
      "text/plain": [
       "['11100011110', '11100000111', '00000111001', '00000010111', '00000110111']"
      ]
     },
     "execution_count": 81,
     "metadata": {},
     "output_type": "execute_result"
    }
   ],
   "source": [
    "[bin(v)[2:].rjust(11, '0') for v in li]"
   ]
  },
  {
   "cell_type": "code",
   "execution_count": 99,
   "metadata": {},
   "outputs": [
    {
     "name": "stdout",
     "output_type": "stream",
     "text": [
      "3\n",
      "1 0 1\n",
      "2\n"
     ]
    }
   ],
   "source": [
    "import sys\n",
    "input = lambda: sys.stdin.readline().rstrip()\n",
    "\n",
    "for _ in range(int(input())):\n",
    "    n = int(input())\n",
    "    li = list(map(int, input().split()))\n",
    "\n",
    "    total = n\n",
    "    st = {0}\n",
    "    cur = 0\n",
    "    for v in li:\n",
    "        cur ^= v\n",
    "\n",
    "        if cur in st:\n",
    "            cur = 0\n",
    "            st = {0}\n",
    "            total -= 1\n",
    "        else:\n",
    "            st.add(cur)\n",
    "\n",
    "    print(total)"
   ]
  },
  {
   "cell_type": "markdown",
   "metadata": {},
   "source": [
    "https://codeforces.com/problemset/problem/1713/D D. Tournament Countdown"
   ]
  },
  {
   "cell_type": "code",
   "execution_count": 7,
   "metadata": {},
   "outputs": [
    {
     "name": "stdout",
     "output_type": "stream",
     "text": [
      "1\n",
      "3\n",
      "? 1 3\n",
      "\n",
      "1\n",
      "? 1 4\n",
      "\n",
      "1\n",
      "? 5 7\n",
      "\n",
      "1\n",
      "? 5 8\n",
      "\n",
      "1\n",
      "? 1 5\n",
      "\n",
      "1\n",
      "! 1\n",
      "\n"
     ]
    }
   ],
   "source": [
    "from collections import deque\n",
    "import io, os, sys\n",
    "from io import BytesIO, IOBase\n",
    " \n",
    "BUFSIZE = 8192\n",
    "\n",
    "class FastIO(IOBase):\n",
    "    newlines = 0\n",
    " \n",
    "    def __init__(self, file):\n",
    "        self._fd = file.fileno()\n",
    "        self.buffer = BytesIO()\n",
    "        self.writable = \"x\" in file.mode or \"r\" not in file.mode\n",
    "        self.write = self.buffer.write if self.writable else None\n",
    " \n",
    "    def read(self):\n",
    "        while True:\n",
    "            b = os.read(self._fd, max(os.fstat(self._fd).st_size, BUFSIZE))\n",
    "            if not b:\n",
    "                break\n",
    "            ptr = self.buffer.tell()\n",
    "            self.buffer.seek(0, 2), self.buffer.write(b), self.buffer.seek(ptr)\n",
    "        self.newlines = 0\n",
    "        return self.buffer.read()\n",
    " \n",
    "    def readline(self):\n",
    "        while self.newlines == 0:\n",
    "            b = os.read(self._fd, max(os.fstat(self._fd).st_size, BUFSIZE))\n",
    "            self.newlines = b.count(b\"\\n\") + (not b)\n",
    "            ptr = self.buffer.tell()\n",
    "            self.buffer.seek(0, 2), self.buffer.write(b), self.buffer.seek(ptr)\n",
    "        self.newlines -= 1\n",
    "        return self.buffer.readline()\n",
    " \n",
    "    def flush(self):\n",
    "        if self.writable:\n",
    "            os.write(self._fd, self.buffer.getvalue())\n",
    "            self.buffer.truncate(0), self.buffer.seek(0)\n",
    " \n",
    " \n",
    "class IOWrapper(IOBase):\n",
    "    def __init__(self, file):\n",
    "        self.buffer = FastIO(file)\n",
    "        self.flush = self.buffer.flush\n",
    "        self.writable = self.buffer.writable\n",
    "        self.write = lambda s: self.buffer.write(s.encode(\"ascii\"))\n",
    "        self.read = lambda: self.buffer.read().decode(\"ascii\")\n",
    "        self.readline = lambda: self.buffer.readline().decode(\"ascii\")\n",
    "\n",
    "sys.stdin, sys.stdout = IOWrapper(sys.stdin), IOWrapper(sys.stdout)\n",
    "input = lambda: sys.stdin.readline().rstrip()\n",
    "print = sys.stdout.write\n",
    "\n",
    "for _ in range(int(input())):\n",
    "    n = int(input())\n",
    "    \n",
    "    queue = deque()\n",
    "    for i in range(1, 2 ** n + 1, 4):\n",
    "        print(f'? {i} {i + 2}' + '\\n')\n",
    "        sys.stdout.flush()\n",
    "\n",
    "        a = b = -1\n",
    "        temp = int(input())\n",
    "        if temp == 0:\n",
    "            a = i + 1\n",
    "            b = i + 3\n",
    "        elif temp == 1:\n",
    "            a = i\n",
    "            b = i + 3\n",
    "        elif temp == 2:\n",
    "            a = i + 1\n",
    "            b = i + 2\n",
    "\n",
    "        print(f'? {a} {b}' + '\\n')\n",
    "        sys.stdout.flush()\n",
    "\n",
    "        temp = int(input())\n",
    "        if temp == 1:\n",
    "            queue.append(a)\n",
    "        else:\n",
    "            queue.append(b)\n",
    "\n",
    "    while len(queue) >= 2:\n",
    "        a = queue.popleft()\n",
    "        b = queue.popleft()\n",
    "\n",
    "        print(f'? {a} {b}' + '\\n')\n",
    "        sys.stdout.flush()\n",
    "\n",
    "        temp = int(input())\n",
    "\n",
    "        if temp == 1:\n",
    "            queue.append(a)\n",
    "        else:\n",
    "            queue.append(b)\n",
    "\n",
    "    print(f'! {queue[0]}' + '\\n')\n",
    "    sys.stdout.flush()"
   ]
  },
  {
   "cell_type": "markdown",
   "metadata": {},
   "source": [
    "https://codeforces.com/problemset/problem/1714/F F. Build a Tree and That Is It"
   ]
  },
  {
   "cell_type": "code",
   "execution_count": 14,
   "metadata": {},
   "outputs": [
    {
     "name": "stdout",
     "output_type": "stream",
     "text": [
      "1\n",
      "5 1 2 1\n",
      "YES\n",
      "1 2\n",
      "1 3\n",
      "3 4\n",
      "4 5\n"
     ]
    }
   ],
   "source": [
    "for _ in range(int(input())):\n",
    "    n, d12, d23, d13 = map(int, input().split())\n",
    "\n",
    "    if (d12 + d23 + d13) % 2 == 1:\n",
    "        print('NO')\n",
    "    else:\n",
    "        c1 = (d12 == 1) + (d23 == 1) + (d13 == 1)\n",
    "\n",
    "        if c1 == 2:\n",
    "            if 2 not in {d12, d23, d13}:\n",
    "                print('NO')\n",
    "            else:\n",
    "                print('YES')\n",
    "                if d12 == 2:\n",
    "                    print(1, 3)\n",
    "                    print(2, 3)\n",
    "                elif d23 == 2:\n",
    "                    print(1, 2)\n",
    "                    print(1, 3)\n",
    "                elif d13 == 2:\n",
    "                    print(1, 2)\n",
    "                    print(2, 3)\n",
    "                for i in range(4, n + 1):\n",
    "                    print(i - 1, i)\n",
    "        elif c1 == 1:\n",
    "            temp = []\n",
    "\n",
    "            if d12 == 1:\n",
    "                if d23 > d13:\n",
    "                    temp = [2, 1]\n",
    "                else:\n",
    "                    temp = [1, 2]\n",
    "            elif d23 == 1:\n",
    "                if d12 > d13:\n",
    "                    temp = [2, 3]\n",
    "                else:\n",
    "                    temp = [3, 2]\n",
    "            elif d13 == 1:\n",
    "                if d12 > d23:\n",
    "                    temp = [1, 3]\n",
    "                else:\n",
    "                    temp = [3, 1]\n",
    "\n",
    "            remained = n - 3\n",
    "\n",
    "            li = [d12, d23, d13]\n",
    "            li.sort()\n",
    "\n",
    "            if li[2] - li[1] != 1:\n",
    "                print('NO')\n",
    "                continue\n",
    "            needed = li[1] - 1\n",
    "            if needed > remained:\n",
    "                print('NO')\n",
    "                continue\n",
    "\n",
    "            cur = 4\n",
    "            for i in range(needed):\n",
    "                temp.append(cur)\n",
    "                cur += 1\n",
    "\n",
    "            st = {1, 2, 3}\n",
    "            st.discard(li[0])\n",
    "            st.discard(li[1])\n",
    "            to_add = st.pop()\n",
    "            temp.append(to_add)\n",
    "            for ncur in range(cur, n + 1):\n",
    "                temp.append(ncur)\n",
    "        else:\n",
    "            pass"
   ]
  },
  {
   "cell_type": "markdown",
   "metadata": {},
   "source": [
    "https://codeforces.com/contest/1744/problem/E1 E1. Divisible Numbers (easy version) "
   ]
  },
  {
   "cell_type": "code",
   "execution_count": 7,
   "metadata": {},
   "outputs": [
    {
     "name": "stdout",
     "output_type": "stream",
     "text": [
      "8 9 15 18\n",
      "9 16\n"
     ]
    }
   ],
   "source": [
    "from math import gcd\n",
    "import sys, os, io\n",
    "input = io.BytesIO(os.read(0,os.fstat(0).st_size)).readline\n",
    "\n",
    "for _ in range(int(input())):\n",
    "    a, b, c, d = map(int, input().split())\n",
    "\n",
    "    rx = ry = -1\n",
    "    ab = a * b\n",
    "    for x in range(a + 1, c + 1):\n",
    "        g = gcd(ab, x)\n",
    "\n",
    "        nab = ab // g\n",
    "\n",
    "        needed = (b + 1) // nab\n",
    "        if (b + 1) % nab:\n",
    "            needed += 1\n",
    "\n",
    "        y_cand = nab * needed\n",
    "        if y_cand <= d:\n",
    "            rx, ry = x, y_cand\n",
    "            break\n",
    "\n",
    "    print(rx, ry)"
   ]
  }
 ],
 "metadata": {
  "kernelspec": {
   "display_name": "Python 3",
   "language": "python",
   "name": "python3"
  },
  "language_info": {
   "codemirror_mode": {
    "name": "ipython",
    "version": 3
   },
   "file_extension": ".py",
   "mimetype": "text/x-python",
   "name": "python",
   "nbconvert_exporter": "python",
   "pygments_lexer": "ipython3",
   "version": "3.8.3"
  }
 },
 "nbformat": 4,
 "nbformat_minor": 4
}
