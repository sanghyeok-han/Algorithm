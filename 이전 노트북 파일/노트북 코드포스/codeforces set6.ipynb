{
 "cells": [
  {
   "cell_type": "code",
   "execution_count": 13,
   "metadata": {},
   "outputs": [
    {
     "name": "stdout",
     "output_type": "stream",
     "text": [
      "1\n",
      "9\n",
      "1\n"
     ]
    }
   ],
   "source": [
    "import sys\n",
    "input = lambda: sys.stdin.readline().rstrip()\n",
    "\n",
    "def get_divisors(num):\n",
    "    divisors = set()\n",
    "    for mod in range(1, int(num ** 0.5) + 1):\n",
    "        if num % mod == 0:\n",
    "            divisors.add(mod)\n",
    "            divisors.add(num // mod)\n",
    "            \n",
    "    divisors.discard(num)\n",
    "    \n",
    "    return divisors\n",
    "\n",
    "for _ in range(int(input())):\n",
    "    n = int(input())\n",
    "    s = list(map(int, input().split()))\n",
    "    cs = [1] * n\n",
    "    for i in range(1, n):\n",
    "        num = i + 1\n",
    "        fnums = get_divisors(num)\n",
    "\n",
    "        for fnum in fnums:\n",
    "            if s[fnum - 1] < s[i]:\n",
    "                 cs[i] = max(cs[i], cs[fnum - 1] + 1)\n",
    "\n",
    "    r = max(cs)\n",
    "\n",
    "    print(r)"
   ]
  },
  {
   "cell_type": "markdown",
   "metadata": {},
   "source": [
    "F"
   ]
  },
  {
   "cell_type": "code",
   "execution_count": 35,
   "metadata": {},
   "outputs": [
    {
     "name": "stdout",
     "output_type": "stream",
     "text": [
      "3\n",
      "11111\n",
      "4 5\n",
      "0\n",
      "111111\n",
      "6 5\n",
      "0\n",
      "123\n",
      "2 1\n",
      "1\n"
     ]
    }
   ],
   "source": [
    "from collections import Counter\n",
    "import sys\n",
    "input = lambda: sys.stdin.readline().rstrip()\n",
    "\n",
    "for _ in range(int(input())):\n",
    "    li = list(map(int, input()))\n",
    "    n = len(li)\n",
    "    \n",
    "    ct = Counter(li)\n",
    "    max_odd_case = ct.most_common()[0][1]\n",
    "    if max_odd_case % 2 == 0:\n",
    "        max_odd_case -= 1\n",
    "\n",
    "    max_even_case = 0\n",
    "    for i in range(10):\n",
    "        for j in range(10):\n",
    "            cycled= [i, j]\n",
    "\n",
    "            cur_index = 0\n",
    "            count = 0\n",
    "            for k in range(n):\n",
    "                if li[k] == cycled[cur_index]:\n",
    "                    count += 1\n",
    "                    cur_index ^= 1\n",
    "            if count % 2 == 1:\n",
    "                count -= 1\n",
    "            max_even_case = max(max_even_case, count)\n",
    "\n",
    "    r = n - max(max_odd_case, max_even_case)\n",
    "\n",
    "    print(r)"
   ]
  },
  {
   "cell_type": "markdown",
   "metadata": {},
   "source": [
    "C"
   ]
  },
  {
   "cell_type": "code",
   "execution_count": null,
   "metadata": {},
   "outputs": [],
   "source": [
    "1, 1겹치면 on_stack 최적화"
   ]
  },
  {
   "cell_type": "code",
   "execution_count": 66,
   "metadata": {
    "scrolled": true
   },
   "outputs": [
    {
     "name": "stdout",
     "output_type": "stream",
     "text": [
      "2 3 2\n",
      "1 2\n",
      "1 2 4\n",
      "1 3\n",
      "17\n"
     ]
    }
   ],
   "source": [
    "from heapq import heappush, heappop\n",
    "from collections import defaultdict as dd\n",
    "\n",
    "r, g, b = map(int, input().split())\n",
    "rr = sorted(map(int, input().split()), reverse=True)\n",
    "gg = sorted(map(int, input().split()), reverse=True)\n",
    "bb = sorted(map(int, input().split()), reverse=True)\n",
    "\n",
    "dp = [[0] * (g + 1) for _ in range(r + 1)]\n",
    "heap = []\n",
    "heappush(heap, (0, 0, 0, 0))\n",
    "max_result = 0\n",
    "counts = dd(int)\n",
    "while heap:\n",
    "    sv, ri, gi, bi = heappop(heap)\n",
    "    if counts[(ri, gi)] >= 2:\n",
    "        counts[(ri, gi)] -= 1\n",
    "        continue\n",
    "    \n",
    "    if ri < r and gi < g:\n",
    "        temp = rr[ri] * gg[gi]\n",
    "        if dp[ri][gi] + temp > dp[ri + 1][gi + 1]:\n",
    "            dp[ri + 1][gi + 1] = dp[ri][gi] + temp\n",
    "            max_result = max(max_result, dp[ri + 1][gi + 1])\n",
    "            counts[(ri + 1, gi + 1)] += 1\n",
    "            heappush(heap, (sv + 2, ri + 1, gi + 1, bi))\n",
    "    if ri < r and bi < b:\n",
    "        temp = rr[ri] * bb[bi]\n",
    "        if dp[ri][gi] + temp > dp[ri + 1][gi]:\n",
    "            dp[ri + 1][gi] = dp[ri][gi] + temp\n",
    "            max_result = max(max_result, dp[ri + 1][gi])\n",
    "            counts[(ri + 1, gi)] += 1\n",
    "            heappush(heap, (sv + 1, ri + 1, gi, bi + 1))\n",
    "    if gi < g and bi < b:\n",
    "        temp = gg[gi] * bb[bi] \n",
    "        if dp[ri][gi] + temp > dp[ri][gi + 1]:\n",
    "            dp[ri][gi + 1] = dp[ri][gi] + temp\n",
    "            max_result = max(max_result, dp[ri][gi + 1])\n",
    "            counts[(ri, gi + 1)] += 1\n",
    "            heappush(heap, (sv + 1, ri, gi + 1, bi + 1))\n",
    "            \n",
    "print(max_result)"
   ]
  },
  {
   "cell_type": "code",
   "execution_count": 67,
   "metadata": {},
   "outputs": [
    {
     "data": {
      "text/plain": [
       "4"
      ]
     },
     "execution_count": 67,
     "metadata": {},
     "output_type": "execute_result"
    }
   ],
   "source": [
    "n, k\n",
    "10000 9999\n",
    "\n"
   ]
  },
  {
   "cell_type": "code",
   "execution_count": null,
   "metadata": {},
   "outputs": [],
   "source": []
  }
 ],
 "metadata": {
  "kernelspec": {
   "display_name": "Python 3",
   "language": "python",
   "name": "python3"
  },
  "language_info": {
   "codemirror_mode": {
    "name": "ipython",
    "version": 3
   },
   "file_extension": ".py",
   "mimetype": "text/x-python",
   "name": "python",
   "nbconvert_exporter": "python",
   "pygments_lexer": "ipython3",
   "version": "3.8.3"
  }
 },
 "nbformat": 4,
 "nbformat_minor": 4
}
