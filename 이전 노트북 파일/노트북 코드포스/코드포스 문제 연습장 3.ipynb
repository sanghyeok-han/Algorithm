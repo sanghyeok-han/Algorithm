{
 "cells": [
  {
   "cell_type": "markdown",
   "metadata": {},
   "source": [
    "https://codeforces.com/problemset/problem/1648/B\n",
    "B. Integral Array"
   ]
  },
  {
   "cell_type": "code",
   "execution_count": null,
   "metadata": {},
   "outputs": [],
   "source": [
    "1 없으면 자기 자신으로 나눴을 때 1이므로 불가능할 수밖에 없음\n"
   ]
  },
  {
   "cell_type": "code",
   "execution_count": null,
   "metadata": {},
   "outputs": [],
   "source": [
    "1이 있으면 일단 다음에 모든 수가 가능함\n",
    "다음에 3이 있으면 [3*2, 3*3)은 불가능함\n",
    "다음에 4가 있으면 [4*2, 4*4)은\n",
    "            \n",
    "            불가능함\n",
    "       \n",
    "            \n",
    "1, 4라고 가정하면 현재 [6, 12)는 불가능함\n",
    "\n",
    "다음에 5라고 가정하면 현재 [5*2, 5*4)은 불가능함\n",
    "\n",
    "1, 3이면 모든 2의 배수는 사용 불가능한가? - 1, 3, 4가 가능함\n",
    "\n"
   ]
  },
  {
   "cell_type": "code",
   "execution_count": 45,
   "metadata": {},
   "outputs": [
    {
     "name": "stdout",
     "output_type": "stream",
     "text": [
      "3 5\n",
      "1 2 5\n",
      "Yes\n"
     ]
    }
   ],
   "source": [
    "import sys\n",
    "input = lambda: sys.stdin.readline().rstrip()\n",
    "\n",
    "for _ in range(int(input())):\n",
    "    n, c = map(int, input().split())\n",
    "    li = list(map(int, input().split()))\n",
    "\n",
    "    cs = [0] * (c + 1)\n",
    "    cand_y = set()\n",
    "    for i in range(n):\n",
    "        if li[i]:\n",
    "            cs[li[i]] += 1\n",
    "            cand_y.add(li[i])\n",
    "\n",
    "    cand_r = set(range(1, c + 1)) - cand_y\n",
    "\n",
    "    cand_y = sorted(cand_y)\n",
    "    cand_r = sorted(cand_r)\n",
    "\n",
    "    ncs = [0] * (c + 2)\n",
    "    cumul = 0\n",
    "    for i in range(c + 1):\n",
    "        cumul += cs[i]\n",
    "        ncs[i + 1] = cumul\n",
    "\n",
    "    ip = True\n",
    "    for r in cand_r:\n",
    "        for y in cand_y:\n",
    "            if y * r > c:\n",
    "                break\n",
    "            x_min = r * y\n",
    "            x_max = min(c, y * (r + 1) - 1)\n",
    "\n",
    "            if ncs[x_max + 1] - ncs[x_min] >= 1:\n",
    "                ip = False\n",
    "                break\n",
    "        if not ip:\n",
    "            break\n",
    "\n",
    "    if ip:\n",
    "        print('Yes')\n",
    "    else:\n",
    "        print('No')"
   ]
  },
  {
   "cell_type": "markdown",
   "metadata": {},
   "source": [
    "https://codeforces.com/problemset/problem/1635/D D. Infinite Set"
   ]
  },
  {
   "cell_type": "code",
   "execution_count": null,
   "metadata": {},
   "outputs": [],
   "source": [
    "n, p = map(int, input().split())\n",
    "\n"
   ]
  },
  {
   "cell_type": "code",
   "execution_count": 50,
   "metadata": {},
   "outputs": [
    {
     "data": {
      "text/plain": [
       "2"
      ]
     },
     "execution_count": 50,
     "metadata": {},
     "output_type": "execute_result"
    }
   ],
   "source": [
    "from math import log2\n",
    "\n",
    "int(log2(5))"
   ]
  },
  {
   "cell_type": "code",
   "execution_count": 71,
   "metadata": {},
   "outputs": [
    {
     "name": "stdout",
     "output_type": "stream",
     "text": [
      "2 4\n",
      "6 1\n",
      "9\n"
     ]
    }
   ],
   "source": [
    "from math import log2\n",
    "\n",
    "n, p = map(int, input().split())\n",
    "li = list(map(int, input().split()))\n",
    "\n",
    "st = set(li)\n",
    "nli = []\n",
    "for v in li:\n",
    "    nv = v\n",
    "    ip = True\n",
    "    while nv >= 1:\n",
    "        if nv % 4 == 0:\n",
    "            nv //= 4\n",
    "        elif nv % 2 == 1:\n",
    "            nv -= 1\n",
    "            nv //= 2\n",
    "        else:\n",
    "            break\n",
    "            \n",
    "        if nv in st:\n",
    "            ip = False\n",
    "            break\n",
    "    if ip:\n",
    "        nli.append(int(log2(v)))\n",
    "\n",
    "mod = int(1e9) + 7\n",
    "\n",
    "dp = [0] * (p + 1)\n",
    "dp[0] = 1\n",
    "dp[1] = 1\n",
    "sdp = [0] * (p + 1)\n",
    "sdp[0] = 1\n",
    "sdp[1] = 2\n",
    "for i in range(2, p + 1):\n",
    "    dp[i] = dp[i - 1] + dp[i - 2]\n",
    "    dp[i] %= mod\n",
    "    sdp[i] = sdp[i - 1] + dp[i]\n",
    "    sdp[i] %= mod\n",
    "    \n",
    "total = 0\n",
    "for v in nli:\n",
    "    cur = p - 1 - v\n",
    "    if cur >= 0:\n",
    "        total += sdp[cur]\n",
    "    total %= mod\n",
    "    \n",
    "print(total)"
   ]
  },
  {
   "cell_type": "markdown",
   "metadata": {},
   "source": [
    "https://codeforces.com/problemset/problem/1525/D D. Armchairs"
   ]
  },
  {
   "cell_type": "code",
   "execution_count": 14,
   "metadata": {},
   "outputs": [
    {
     "name": "stdout",
     "output_type": "stream",
     "text": [
      "5\n",
      "0 0 0 1 1\n",
      "4\n"
     ]
    }
   ],
   "source": [
    "from collections import deque\n",
    "\n",
    "n = int(input())\n",
    "li = list(map(int, input().split()))\n",
    "\n",
    "to_move = deque(i for (i, v) in enumerate(li) if v == 1)\n",
    "\n",
    "c1 = 0\n",
    "c0 = 0\n",
    "if to_move:\n",
    "    for i in range(to_move[0], n):\n",
    "        if li[i] == 1:\n",
    "            c1 += 1\n",
    "        else:\n",
    "            c0 += 1\n",
    "\n",
    "total = 0\n",
    "if c1 > c0:\n",
    "    to_left = c1 - c0\n",
    "    \n",
    "    cur = to_move[0] - to_left\n",
    "    for _ in range(to_left):\n",
    "        li[cur] = 1\n",
    "        total += abs(cur - to_move.popleft())\n",
    "        cur += 1\n",
    "    \n",
    "for index in to_move:\n",
    "    t1 = 999999\n",
    "    for i in range(index - 1, -1, -1):\n",
    "        if li[i] == 0:\n",
    "            t1 = i\n",
    "            break\n",
    "    t2 = 999999\n",
    "    for i in range(index + 1, n):\n",
    "        if li[i] == 0:\n",
    "            t2 = i\n",
    "            break\n",
    "            \n",
    "    t1_tm = abs(index - t1)\n",
    "    t2_tm = abs(index - t2)\n",
    "    \n",
    "    if t1_tm <= t2_tm:\n",
    "        total += t1_tm\n",
    "        li[t1] = 1\n",
    "    else:\n",
    "        total += t2_tm\n",
    "        li[t2] = 1\n",
    "        \n",
    "print(total)"
   ]
  },
  {
   "cell_type": "code",
   "execution_count": 20,
   "metadata": {},
   "outputs": [
    {
     "name": "stdout",
     "output_type": "stream",
     "text": [
      "5\n",
      "0 0 0 0 0\n",
      "0\n"
     ]
    }
   ],
   "source": [
    "inf = float('inf')\n",
    "\n",
    "n = int(input())\n",
    "li = list(map(int, input().split()))\n",
    "\n",
    "inits = []\n",
    "empties = []\n",
    "dp = [[0] * n for _ in range(n)]\n",
    "for i in range(n):\n",
    "    if li[i]:\n",
    "        inits.append(i)\n",
    "    else:\n",
    "        empties.append(i)\n",
    "        \n",
    "init_len = len(inits)\n",
    "empty_len = len(empties)\n",
    "        \n",
    "if not inits:\n",
    "    print(0)\n",
    "else:\n",
    "    dp = [[inf] * empty_len for _ in range(init_len)]\n",
    "    for ei in range(empty_len):\n",
    "        dp[0][ei] = abs(empties[ei] - inits[0])\n",
    "        if ei >= 1:\n",
    "            dp[0][ei] = min(dp[0][ei - 1], dp[0][ei])\n",
    "            \n",
    "    for ii in range(1, init_len):\n",
    "        for ei in range(ii, empty_len):\n",
    "            dp[ii][ei] = dp[ii - 1][ei - 1] + abs(empties[ei] - inits[ii])\n",
    "            dp[ii][ei] = min(dp[ii][ei - 1], dp[ii][ei])\n",
    "            \n",
    "    print(dp[-1][-1])"
   ]
  },
  {
   "cell_type": "markdown",
   "metadata": {},
   "source": [
    "https://codeforces.com/problemset/problem/1517/D D. Explorer Space"
   ]
  },
  {
   "cell_type": "code",
   "execution_count": null,
   "metadata": {},
   "outputs": [],
   "source": [
    "k가 홀수면 돌아갈 수 없음\n",
    "최선의 경로를 찾았다면 그 경로로 그대로 다시 돌아오는게 최선임\n",
    "즉 k // 2번 이동했을 때의 boredness의 최솟값에 2를 곱하면 됨\n",
    "\n",
    "다만 시간 복잡도를 위해서는 만약 두 칸 이동시 드는 br가 전체 최소라면\n",
    "그 두 칸만 계속 이동하는 식으로 하면 된다는걸 고려하면 될거 같음"
   ]
  },
  {
   "cell_type": "code",
   "execution_count": 30,
   "metadata": {},
   "outputs": [
    {
     "name": "stdout",
     "output_type": "stream",
     "text": [
      "3 3 10\n",
      "1 1\n",
      "1 1\n",
      "1 1\n",
      "1 1 1\n",
      "1 1 1\n",
      "10 10 10\n",
      "10 10 10\n",
      "10 10 10\n"
     ]
    }
   ],
   "source": [
    "import sys\n",
    "input = lambda: sys.stdin.readline().rstrip()\n",
    "\n",
    "inf = float('inf')\n",
    "\n",
    "def to_reduce(x, y):\n",
    "    return x * m + y\n",
    "\n",
    "def recur(rc, k):\n",
    "    if dp[rc][k] != inf:\n",
    "        return dp[rc][k]\n",
    "    \n",
    "    temp = inf\n",
    "    for nrc, cost in li[rc]:\n",
    "        temp = min(temp, recur(nrc, k - 1) + cost)\n",
    "        \n",
    "    dp[rc][k] = temp\n",
    "    return temp\n",
    "\n",
    "n, m, k = map(int, input().split())\n",
    "\n",
    "li = [[] for _ in range(n * m)]\n",
    "for x in range(n):\n",
    "    temp = list(map(int, input().split()))\n",
    "\n",
    "    for y in range(m - 1):\n",
    "        _from = to_reduce(x, y)\n",
    "        _to = to_reduce(x, y + 1)  \n",
    "        \n",
    "        li[_from].append((_to, temp[y]))\n",
    "        li[_to].append((_from, temp[y]))\n",
    "        \n",
    "for x in range(n - 1):\n",
    "    temp = list(map(int, input().split()))\n",
    "    \n",
    "    for y in range(m):\n",
    "        _from = to_reduce(x, y)\n",
    "        _to = to_reduce(x + 1, y)\n",
    "        \n",
    "        li[_from].append((_to, temp[y]))\n",
    "        li[_to].append((_from, temp[y]))\n",
    "\n",
    "if k % 2 == 1:\n",
    "    to_print = [-1] * m\n",
    "    for i in range(n):\n",
    "        print(*to_print)\n",
    "else:\n",
    "    k //= 2\n",
    "    dp = [[inf] * (k + 1) for _ in range(n * m)]\n",
    "    for rc in range(n * m):\n",
    "        dp[rc][0] = 0\n",
    "\n",
    "    r = []\n",
    "    for rc in range(n * m):\n",
    "        r.append(recur(rc, k) * 2)\n",
    "\n",
    "    for start in range(0, n * m, m):\n",
    "        print(*r[start:start + m])"
   ]
  },
  {
   "cell_type": "markdown",
   "metadata": {},
   "source": [
    "https://codeforces.com/problemset/problem/1509/C C. The Sports Festival"
   ]
  },
  {
   "cell_type": "code",
   "execution_count": null,
   "metadata": {},
   "outputs": [],
   "source": [
    "    1 3 5 5\n",
    "mi  1 1 1 1\n",
    "ma  1 3 5 5\n",
    "sv  0+2+4+4 = 10\n",
    "\n",
    "    5 5 1 3\n",
    "mi  5 5 1 1\n",
    "ma  5 5 5 5\n",
    "sv  0+0+4+4 = 8\n",
    "\n",
    "    5 5 3 1\n",
    "mi  5 5 3 1\n",
    "ma  5 5 5 5\n",
    "sv  0+0+2+4 = 6\n",
    "\n",
    "    3 5 5 1\n",
    "mi  3 3 3 1\n",
    "ma  3 5 5 5\n",
    "sv  0+2+2+4 = 8\n",
    "\n",
    "    3 3 1 5\n",
    "mi  3 3 1 1\n",
    "ma  3 3 3 5\n",
    "sv  0+0+2+4 = 6"
   ]
  },
  {
   "cell_type": "code",
   "execution_count": null,
   "metadata": {},
   "outputs": [],
   "source": [
    "    5 3 7 7\n",
    "mi  5 3 3 3\n",
    "ma  5 5 7 7\n",
    "sv  0+2+4+4 = 10\n",
    "\n",
    "    5 7 7 3\n",
    "mi  5 5 5 3\n",
    "ma  5 7 7 7\n",
    "sv  0+2+2+4 = 8\n",
    "\n",
    "    7 7 5 3\n",
    "mi  7 7 5 3\n",
    "ma  7 7 7 7\n",
    "sv  0+0+2+4 = 6\n",
    "\n",
    "\n",
    "    3 3 3 6 6 1\n",
    "mi  3 3 3 3 3 1\n",
    "ma  3 3 3 6 6 6\n",
    "sv  0+0+0+3+3+5 11"
   ]
  },
  {
   "cell_type": "code",
   "execution_count": 39,
   "metadata": {},
   "outputs": [
    {
     "name": "stdout",
     "output_type": "stream",
     "text": [
      "6\n",
      "1 6 3 3 6 3\n",
      "3\n",
      "3\n",
      "3\n",
      "6\n",
      "1\n",
      "6\n",
      "13\n"
     ]
    }
   ],
   "source": [
    "inf = float('inf')\n",
    "\n",
    "n = int(input())\n",
    "li = sorted(map(int, input().split()))\n",
    "\n",
    "cur_min = inf\n",
    "cur_max = -inf\n",
    "total = 0\n",
    "while li:\n",
    "    mid = (len(li) - 1) // 2\n",
    "    \n",
    "    cur = li[mid]\n",
    "    print(cur)\n",
    "    del li[mid]\n",
    "    \n",
    "    cur_min = min(cur_min, cur)\n",
    "    cur_max = max(cur_max, cur)\n",
    "    \n",
    "    total += cur_max - cur_min\n",
    "    \n",
    "print(total)"
   ]
  },
  {
   "cell_type": "code",
   "execution_count": null,
   "metadata": {},
   "outputs": [],
   "source": [
    "1 3 3 3 6 6\n",
    "1 3 3 6 6\n",
    "1 3 6 6\n",
    "1 6 6\n"
   ]
  },
  {
   "cell_type": "code",
   "execution_count": null,
   "metadata": {},
   "outputs": [],
   "source": [
    "0 1 2 3 4\n"
   ]
  },
  {
   "cell_type": "code",
   "execution_count": null,
   "metadata": {},
   "outputs": [],
   "source": [
    "0 1 2 3 4 5"
   ]
  },
  {
   "cell_type": "code",
   "execution_count": 37,
   "metadata": {},
   "outputs": [
    {
     "data": {
      "text/plain": [
       "2"
      ]
     },
     "execution_count": 37,
     "metadata": {},
     "output_type": "execute_result"
    }
   ],
   "source": [
    "(5 - 1) // 2"
   ]
  },
  {
   "cell_type": "code",
   "execution_count": 46,
   "metadata": {},
   "outputs": [
    {
     "name": "stdout",
     "output_type": "stream",
     "text": [
      "6\n",
      "104 943872923 6589 889921234 1000000000 69\n",
      "2833800505\n"
     ]
    }
   ],
   "source": [
    "import sys\n",
    "sys.setrecursionlimit(5000)\n",
    "input = lambda: sys.stdin.readline().rstrip()\n",
    "\n",
    "inf = float('inf')\n",
    "\n",
    "def recur(start, end):\n",
    "    if dp[start][end] != inf:\n",
    "        return dp[start][end]\n",
    "    \n",
    "    t1 = recur(start + 1, end)\n",
    "    t2 = recur(start, end - 1)\n",
    "    \n",
    "    diff = li[end] - li[start]\n",
    "    r = min(t1, t2) + diff\n",
    "    dp[start][end] = r\n",
    "    \n",
    "    return r\n",
    "\n",
    "n = int(input())\n",
    "li = sorted(map(int, input().split()))\n",
    "\n",
    "dp = [[inf] * n for _ in range(n)]\n",
    "for i in range(n):\n",
    "    dp[i][i] = 0\n",
    "    \n",
    "r = recur(0, n - 1)\n",
    "\n",
    "print(r)"
   ]
  },
  {
   "cell_type": "code",
   "execution_count": 49,
   "metadata": {},
   "outputs": [
    {
     "name": "stdout",
     "output_type": "stream",
     "text": [
      "6\n",
      "1 6 3 3 6 3\n",
      "11\n"
     ]
    }
   ],
   "source": [
    "import sys\n",
    "# input = lambda: sys.stdin.readline().rstrip()\n",
    "\n",
    "inf = float('inf')\n",
    "\n",
    "n = int(input())\n",
    "li = sorted(map(int, input().split()))\n",
    "\n",
    "dp = [[inf] * n for _ in range(n)]\n",
    "for i in range(n):\n",
    "    dp[i][i] = 0\n",
    "    \n",
    "for term in range(1, n):\n",
    "    for end in range(term, n):\n",
    "        start = end - term\n",
    "        \n",
    "        diff = li[end] - li[start]\n",
    "        dp[start][end] = diff + min(dp[start + 1][end], dp[start][end - 1])\n",
    "        \n",
    "print(dp[0][n - 1])"
   ]
  },
  {
   "cell_type": "code",
   "execution_count": 48,
   "metadata": {},
   "outputs": [
    {
     "data": {
      "text/plain": [
       "[[0, 2, 2, 2, 7, inf],\n",
       " [inf, 0, 0, 0, 3, 6],\n",
       " [inf, inf, 0, 0, 3, 6],\n",
       " [inf, inf, inf, 0, 3, 3],\n",
       " [inf, inf, inf, inf, 0, 0],\n",
       " [inf, inf, inf, inf, inf, 0]]"
      ]
     },
     "execution_count": 48,
     "metadata": {},
     "output_type": "execute_result"
    }
   ],
   "source": [
    "dp"
   ]
  }
 ],
 "metadata": {
  "kernelspec": {
   "display_name": "Python 3",
   "language": "python",
   "name": "python3"
  },
  "language_info": {
   "codemirror_mode": {
    "name": "ipython",
    "version": 3
   },
   "file_extension": ".py",
   "mimetype": "text/x-python",
   "name": "python",
   "nbconvert_exporter": "python",
   "pygments_lexer": "ipython3",
   "version": "3.8.3"
  }
 },
 "nbformat": 4,
 "nbformat_minor": 4
}
