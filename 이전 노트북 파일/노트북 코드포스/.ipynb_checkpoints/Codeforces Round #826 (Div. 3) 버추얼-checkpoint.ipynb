{
 "cells": [
  {
   "cell_type": "markdown",
   "metadata": {},
   "source": [
    "A"
   ]
  },
  {
   "cell_type": "code",
   "execution_count": 3,
   "metadata": {},
   "outputs": [
    {
     "name": "stdout",
     "output_type": "stream",
     "text": [
      "XXXS XS\n",
      "<\n"
     ]
    }
   ],
   "source": [
    "import sys\n",
    "input = lambda: sys.stdin.readline().rstrip()\n",
    "\n",
    "for _ in range(int(input())):\n",
    "    a, b = input().split()\n",
    "\n",
    "    if a == 'M' and b == 'M':\n",
    "        print('=')\n",
    "    elif a == 'M' and b[-1] == 'S':\n",
    "        print('>')\n",
    "    elif a == 'M' and b[-1] == 'L':\n",
    "        print('<')\n",
    "    elif a[-1] == 'S' and b == 'M':\n",
    "        print('<')\n",
    "    elif a[-1] == 'L' and b == 'M':\n",
    "        print('>')\n",
    "    elif a[-1] == 'L' and b[-1] == 'S':\n",
    "        print('>')\n",
    "    elif a[-1] == 'S' and b[-1] == 'L':\n",
    "        print('<')\n",
    "    elif a[-1] == 'S' and b[-1] == 'S':\n",
    "        if len(a) > len(b):\n",
    "            print('<')\n",
    "        elif len(a) < len(b):\n",
    "            print('>')\n",
    "        else:\n",
    "            print('=')\n",
    "    elif a[-1] == 'L' and b[-1] == 'L':\n",
    "        if len(a) > len(b):\n",
    "            print('>')\n",
    "        elif len(a) < len(b):\n",
    "            print('<')\n",
    "        else:\n",
    "            print('=')"
   ]
  },
  {
   "cell_type": "markdown",
   "metadata": {},
   "source": [
    "B"
   ]
  },
  {
   "cell_type": "code",
   "execution_count": 7,
   "metadata": {},
   "outputs": [
    {
     "name": "stdout",
     "output_type": "stream",
     "text": [
      "7\n",
      "7 6 1 2 3 4 5\n"
     ]
    }
   ],
   "source": [
    "import sys, os, io\n",
    "input = io.BytesIO(os.read(0,os.fstat(0).st_size)).readline\n",
    "\n",
    "for _ in range(int(input())):\n",
    "    n = int(input())\n",
    "\n",
    "    if n == 3:\n",
    "        print(-1)\n",
    "    elif n % 2 == 0:\n",
    "        result = list(range(n, 0, -1))\n",
    "        print(*result)\n",
    "    else:\n",
    "        result = [n, n - 1] + list(range(1, n - 1))\n",
    "        print(*result)"
   ]
  },
  {
   "cell_type": "markdown",
   "metadata": {},
   "source": [
    "C"
   ]
  },
  {
   "cell_type": "code",
   "execution_count": null,
   "metadata": {},
   "outputs": [],
   "source": [
    "분할이 가능한 가장 작은 수를 찾으면 됨"
   ]
  },
  {
   "cell_type": "code",
   "execution_count": null,
   "metadata": {},
   "outputs": [],
   "source": [
    "20 20 20 20\n",
    "\n",
    "20 20   20 20\n",
    "\n",
    "20   20   20   20"
   ]
  },
  {
   "cell_type": "code",
   "execution_count": 17,
   "metadata": {},
   "outputs": [
    {
     "name": "stdout",
     "output_type": "stream",
     "text": [
      "1\n",
      "4\n",
      "10 23 7 13\n",
      "53\n",
      "4\n"
     ]
    }
   ],
   "source": [
    "import sys, os, io\n",
    "input = io.BytesIO(os.read(0,os.fstat(0).st_size)).readline\n",
    "\n",
    "inf = float('inf')\n",
    "\n",
    "for _ in range(int(input())):\n",
    "    n = int(input())\n",
    "    li = list(map(int, input().split()))\n",
    "\n",
    "    min_max_len = n\n",
    "    \n",
    "    prefix = [0] * n\n",
    "    cumul = 0\n",
    "    for i in range(n):\n",
    "        cumul += li[i]\n",
    "        prefix[i] = cumul\n",
    "\n",
    "    last = prefix[-1]\n",
    "    prefix_st = set(prefix)\n",
    "\n",
    "    to_use = -1\n",
    "    for cand in prefix:\n",
    "        if last % cand == 0:\n",
    "            ip = True\n",
    "            for ncand in range(cand, last + 1, cand):\n",
    "                if ncand not in prefix_st:\n",
    "                    ip = False\n",
    "                    break\n",
    "            if ip:\n",
    "                cur_cumul = 0\n",
    "                max_len = 0\n",
    "                cur_len = 0\n",
    "                for i in range(n):\n",
    "                    cur_cumul += li[i]\n",
    "                    cur_len += 1\n",
    "\n",
    "                    if cur_cumul == cand:\n",
    "                        max_len = max(max_len, cur_len)\n",
    "                        cur_cumul = 0\n",
    "                        cur_len = 0\n",
    "\n",
    "                min_max_len = min(min_max_len, max_len)\n",
    "                \n",
    "    print(min_max_len)"
   ]
  },
  {
   "cell_type": "markdown",
   "metadata": {},
   "source": [
    "D"
   ]
  },
  {
   "cell_type": "code",
   "execution_count": null,
   "metadata": {},
   "outputs": [],
   "source": [
    "각 과정은 독립적임\n",
    "\n"
   ]
  },
  {
   "cell_type": "code",
   "execution_count": 31,
   "metadata": {},
   "outputs": [
    {
     "name": "stdout",
     "output_type": "stream",
     "text": [
      "8\n",
      "7 8 4 3 1 2 6 5\n",
      "-1\n"
     ]
    }
   ],
   "source": [
    "import sys, os, io\n",
    "input = io.BytesIO(os.read(0,os.fstat(0).st_size)).readline\n",
    "\n",
    "def merge(li, start, end):\n",
    "    global c\n",
    "    global ip\n",
    "    \n",
    "    if start == end:\n",
    "        return\n",
    "    \n",
    "    left_end = (start + end) // 2\n",
    "    \n",
    "    left = li[:len(li) // 2]\n",
    "    right = li[len(li) // 2:]\n",
    "    \n",
    "    to_find_st = set(range(start, left_end + 1))\n",
    "    for v in left:\n",
    "        if v in to_find_st:\n",
    "            to_find_st.discard(v)\n",
    "            \n",
    "    to_find_st_len = len(to_find_st)\n",
    "    \n",
    "    if to_find_st_len == len(left):\n",
    "        c += 1\n",
    "        left, right = right[:], left[:]\n",
    "    elif to_find_st_len != 0:\n",
    "        ip = False\n",
    "        \n",
    "    merge(left, start, left_end)\n",
    "    merge(right, left_end + 1, end)\n",
    "\n",
    "get_value = lambda x: int(x) - 1\n",
    "\n",
    "for _ in range(int(input())):\n",
    "    n = int(input())\n",
    "    li = list(map(get_value, input().split()))\n",
    "\n",
    "    c = 0\n",
    "    ip = True\n",
    "    merge(li, 0, n - 1)\n",
    "\n",
    "    if not ip:\n",
    "        print(-1)\n",
    "    else:\n",
    "        print(c)"
   ]
  },
  {
   "cell_type": "markdown",
   "metadata": {},
   "source": [
    "E"
   ]
  },
  {
   "cell_type": "code",
   "execution_count": 39,
   "metadata": {},
   "outputs": [
    {
     "name": "stdout",
     "output_type": "stream",
     "text": [
      "1\n",
      "1\n",
      "NO\n"
     ]
    }
   ],
   "source": [
    "import sys, os, io\n",
    "input = io.BytesIO(os.read(0,os.fstat(0).st_size)).readline\n",
    "\n",
    "for _ in range(int(input())):\n",
    "    n = int(input())\n",
    "    li = list(map(int, input().split()))\n",
    "\n",
    "    dp = [False] * n\n",
    "    for i in range(n):\n",
    "        v = li[i]\n",
    "\n",
    "        fi = i - v\n",
    "        if fi == 0 or fi >= 1 and dp[fi - 1]:\n",
    "            dp[i] = True\n",
    "\n",
    "        ni = i + v\n",
    "        if (i == 0 or i > 0 and dp[i - 1]) and ni < n:\n",
    "            dp[ni] = True\n",
    "\n",
    "    if dp[n - 1]:\n",
    "        print('YES')\n",
    "    else:\n",
    "        print('NO')"
   ]
  },
  {
   "cell_type": "markdown",
   "metadata": {},
   "source": [
    "F"
   ]
  },
  {
   "cell_type": "code",
   "execution_count": null,
   "metadata": {},
   "outputs": [],
   "source": [
    "시작점이 빠른 순으로 기존 인덱스 추가 후 정렬\n",
    "\n",
    "딕셔너리에 사용된 색깔: (시작점, 끝점, 기존 인덱스)로 추가\n",
    "    \n",
    "새로운 세그먼트 순회 시 먼저 딕셔너리 키들을 보면서 색깔이 다르면\n",
    "전부 result로 추가함\n",
    "\n",
    "마지막 세그먼트는 브루트포스로 찾음"
   ]
  },
  {
   "cell_type": "code",
   "execution_count": 51,
   "metadata": {},
   "outputs": [
    {
     "name": "stdout",
     "output_type": "stream",
     "text": [
      "5\n",
      "1 5 1\n",
      "4 9 2\n",
      "1 2 1\n",
      "8 9 2\n",
      "5 7 3\n",
      "[2, 0, 5, 1, 0]\n"
     ]
    }
   ],
   "source": [
    "inf = float('inf')\n",
    "\n",
    "# https://github.com/tatyam-prime/SortedSet/blob/main/SortedSet.py\n",
    "import math\n",
    "from bisect import bisect_left, bisect_right\n",
    "from typing import Generic, Iterable, Iterator, TypeVar, Union, List\n",
    "T = TypeVar('T')\n",
    "\n",
    "class SortedSet(Generic[T]):\n",
    "    BUCKET_RATIO = 50\n",
    "    REBUILD_RATIO = 170\n",
    "\n",
    "    def _build(self, a=None) -> None:\n",
    "        \"Evenly divide `a` into buckets.\"\n",
    "        if a is None: a = list(self)\n",
    "        size = self.size = len(a)\n",
    "        bucket_size = int(math.ceil(math.sqrt(size / self.BUCKET_RATIO)))\n",
    "        self.a = [a[size * i // bucket_size : size * (i + 1) // bucket_size] for i in range(bucket_size)]\n",
    "    \n",
    "    def __init__(self, a: Iterable[T] = []) -> None:\n",
    "        \"Make a new SortedSet from iterable. / O(N) if sorted and unique / O(N log N)\"\n",
    "        a = list(a)\n",
    "        if not all(a[i] < a[i + 1] for i in range(len(a) - 1)):\n",
    "            a = sorted(set(a))\n",
    "        self._build(a)\n",
    "\n",
    "    def __iter__(self) -> Iterator[T]:\n",
    "        for i in self.a:\n",
    "            for j in i: yield j\n",
    "\n",
    "    def __reversed__(self) -> Iterator[T]:\n",
    "        for i in reversed(self.a):\n",
    "            for j in reversed(i): yield j\n",
    "    \n",
    "    def __len__(self) -> int:\n",
    "        return self.size\n",
    "    \n",
    "    def __repr__(self) -> str:\n",
    "        return \"SortedSet\" + str(self.a)\n",
    "    \n",
    "    def __str__(self) -> str:\n",
    "        s = str(list(self))\n",
    "        return \"{\" + s[1 : len(s) - 1] + \"}\"\n",
    "\n",
    "    def _find_bucket(self, x: T) -> List[T]:\n",
    "        \"Find the bucket which should contain x. self must not be empty.\"\n",
    "        for a in self.a:\n",
    "            if x <= a[-1]: return a\n",
    "        return a\n",
    "\n",
    "    def __contains__(self, x: T) -> bool:\n",
    "        if self.size == 0: return False\n",
    "        a = self._find_bucket(x)\n",
    "        i = bisect_left(a, x)\n",
    "        return i != len(a) and a[i] == x\n",
    "\n",
    "    def add(self, x: T) -> bool:\n",
    "        \"Add an element and return True if added. / O(√N)\"\n",
    "        if self.size == 0:\n",
    "            self.a = [[x]]\n",
    "            self.size = 1\n",
    "            return True\n",
    "        a = self._find_bucket(x)\n",
    "        i = bisect_left(a, x)\n",
    "        if i != len(a) and a[i] == x: return False\n",
    "        a.insert(i, x)\n",
    "        self.size += 1\n",
    "        if len(a) > len(self.a) * self.REBUILD_RATIO:\n",
    "            self._build()\n",
    "        return True\n",
    "\n",
    "    def discard(self, x: T) -> bool:\n",
    "        \"Remove an element and return True if removed. / O(√N)\"\n",
    "        if self.size == 0: return False\n",
    "        a = self._find_bucket(x)\n",
    "        i = bisect_left(a, x)\n",
    "        if i == len(a) or a[i] != x: return False\n",
    "        a.pop(i)\n",
    "        self.size -= 1\n",
    "        if len(a) == 0: self._build()\n",
    "        return True\n",
    "    \n",
    "    def lt(self, x: T) -> Union[T, None]:\n",
    "        \"Find the largest element < x, or None if it doesn't exist.\"\n",
    "        for a in reversed(self.a):\n",
    "            if a[0] < x:\n",
    "                return a[bisect_left(a, x) - 1]\n",
    "\n",
    "    def le(self, x: T) -> Union[T, None]:\n",
    "        \"Find the largest element <= x, or None if it doesn't exist.\"\n",
    "        for a in reversed(self.a):\n",
    "            if a[0] <= x:\n",
    "                return a[bisect_right(a, x) - 1]\n",
    "\n",
    "    def gt(self, x: T) -> Union[T, None]:\n",
    "        \"Find the smallest element > x, or None if it doesn't exist.\"\n",
    "        for a in self.a:\n",
    "            if a[-1] > x:\n",
    "                return a[bisect_right(a, x)]\n",
    "\n",
    "    def ge(self, x: T) -> Union[T, None]:\n",
    "        \"Find the smallest element >= x, or None if it doesn't exist.\"\n",
    "        for a in self.a:\n",
    "            if a[-1] >= x:\n",
    "                return a[bisect_left(a, x)]\n",
    "    \n",
    "    def __getitem__(self, x: int) -> T:\n",
    "        \"Return the x-th element, or IndexError if it doesn't exist.\"\n",
    "        if x < 0: x += self.size\n",
    "        if x < 0: raise IndexError\n",
    "        for a in self.a:\n",
    "            if x < len(a): return a[x]\n",
    "            x -= len(a)\n",
    "        raise IndexError\n",
    "    \n",
    "    def index(self, x: T) -> int:\n",
    "        \"Count the number of elements < x.\"\n",
    "        ans = 0\n",
    "        for a in self.a:\n",
    "            if a[-1] >= x:\n",
    "                return ans + bisect_left(a, x)\n",
    "            ans += len(a)\n",
    "        return ans\n",
    "\n",
    "    def index_right(self, x: T) -> int:\n",
    "        \"Count the number of elements <= x.\"\n",
    "        ans = 0\n",
    "        for a in self.a:\n",
    "            if a[-1] > x:\n",
    "                return ans + bisect_right(a, x)\n",
    "            ans += len(a)\n",
    "        return \n",
    "\n",
    "n = int(input())\n",
    "li = [list(map(int, input().split())) + [i] for i in range(n)]\n",
    "\n",
    "result = [inf] * n\n",
    "\n",
    "li.sort(key=lambda x: (x[1], x[2]))\n",
    "last_rs_by_color = SortedSet()\n",
    "for l, r, c, index in li:\n",
    "    fr = -1\n",
    "    if last_rs_by_color and last_rs_by_color[-1][1] != c:\n",
    "        fr = last_rs_by_color[-1][0]\n",
    "    elif len(last_rs_by_color) >= 2 and last_rs_by_color[-2][1] != c:\n",
    "        fr = last_rs_by_color[-2][0]\n",
    "    \n",
    "    if fr != -1:\n",
    "        if l <= fr:\n",
    "            dist = 0\n",
    "        else:\n",
    "            dist = l - fr\n",
    "            \n",
    "        result[index] = min(result[index], dist)\n",
    "    \n",
    "    last_rs_by_color.add((r, c)) \n",
    "    \n",
    "li.sort(key=lambda x: (-x[0], -x[2]))\n",
    "first_ls_by_color = SortedSet()\n",
    "for l, r, c, index in li:\n",
    "    fl = -1\n",
    "    if first_ls_by_color and first_ls_by_color[0][1] != c:\n",
    "        fl = first_ls_by_color[0][0]\n",
    "    elif len(first_ls_by_color) >= 2 and first_ls_by_color[1][1] != c:\n",
    "        fl = first_ls_by_color[1][0]\n",
    "    \n",
    "    if fl != -1:\n",
    "        if fl <= r:\n",
    "            dist = 0\n",
    "        else:\n",
    "            dist = fl - r\n",
    "            \n",
    "        result[index] = min(result[index], dist)\n",
    "    \n",
    "    first_ls_by_color.add((r, c))   \n",
    "        \n",
    "print(result)"
   ]
  }
 ],
 "metadata": {
  "kernelspec": {
   "display_name": "Python 3",
   "language": "python",
   "name": "python3"
  },
  "language_info": {
   "codemirror_mode": {
    "name": "ipython",
    "version": 3
   },
   "file_extension": ".py",
   "mimetype": "text/x-python",
   "name": "python",
   "nbconvert_exporter": "python",
   "pygments_lexer": "ipython3",
   "version": "3.8.3"
  }
 },
 "nbformat": 4,
 "nbformat_minor": 4
}
