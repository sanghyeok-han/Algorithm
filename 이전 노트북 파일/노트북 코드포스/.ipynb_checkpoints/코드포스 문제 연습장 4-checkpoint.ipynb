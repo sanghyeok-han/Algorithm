{
 "cells": [
  {
   "cell_type": "markdown",
   "metadata": {},
   "source": [
    "https://codeforces.com/problemset/problem/1463/C C. Busy Robot"
   ]
  },
  {
   "cell_type": "code",
   "execution_count": 2,
   "metadata": {},
   "outputs": [
    {
     "name": "stdout",
     "output_type": "stream",
     "text": [
      "3\n",
      "1 5\n",
      "3 0\n",
      "6 4\n",
      "1\n"
     ]
    }
   ],
   "source": [
    "import sys\n",
    "input = lambda: sys.stdin.readline().rstrip()\n",
    "\n",
    "inf = float('inf')\n",
    "\n",
    "for _ in range(int(input())):\n",
    "    n = int(input())\n",
    "    li = [list(map(int, input().split())) for _ in range(n)] + [[inf, inf]]\n",
    "\n",
    "    total = 0\n",
    "    cur_loc = 0\n",
    "    cur_target = 0\n",
    "    is_pending = False\n",
    "    for i in range(n):\n",
    "        if not is_pending:\n",
    "            cur_target = li[i][1]\n",
    "            is_pending = True\n",
    "\n",
    "        can_spent = li[i + 1][0] - li[i][0]\n",
    "\n",
    "        a = cur_loc\n",
    "\n",
    "        needed = abs(cur_loc - cur_target)\n",
    "        if needed <= can_spent:\n",
    "            cur_loc = cur_target\n",
    "            is_pending = False\n",
    "            b = cur_loc\n",
    "        else:\n",
    "            if cur_loc <= cur_target:\n",
    "                cur_loc += can_spent\n",
    "            else:\n",
    "                cur_loc -= can_spent\n",
    "            b = cur_loc\n",
    "\n",
    "        if a > b:\n",
    "            a, b = b, a\n",
    "\n",
    "        if a <= li[i][1] <= b:\n",
    "            total += 1\n",
    "\n",
    "    print(total) "
   ]
  },
  {
   "cell_type": "markdown",
   "metadata": {},
   "source": [
    "https://codeforces.com/problemset/problem/1450/D D. Rating Compression"
   ]
  },
  {
   "cell_type": "code",
   "execution_count": null,
   "metadata": {},
   "outputs": [],
   "source": [
    "n = int(input())\n",
    "\n",
    "print(n, )"
   ]
  },
  {
   "cell_type": "code",
   "execution_count": null,
   "metadata": {},
   "outputs": [],
   "source": [
    "1~9     9\n",
    "\n",
    "10 ~ 99   90\n",
    "\n",
    "100 ~ 999   900"
   ]
  },
  {
   "cell_type": "code",
   "execution_count": 5,
   "metadata": {},
   "outputs": [
    {
     "name": "stdout",
     "output_type": "stream",
     "text": [
      "11\n",
      "6 5 2 7 8 6 8 3 5 6 7\n",
      "24\n"
     ]
    }
   ],
   "source": [
    "n = int(input())\n",
    "li = list(map(int, input().split())) + [-1]\n",
    "\n",
    "max_r = 0\n",
    "stack = [[li[0], 1]]\n",
    "for i in range(1, n + 1):\n",
    "    w = 0\n",
    "    while stack and stack[-1][0] >= li[i]:\n",
    "        fv, fw = stack.pop()\n",
    "\n",
    "        w += fw\n",
    "        max_r = max(max_r, fv * w)\n",
    "\n",
    "    stack.append([li[i], w + 1])\n",
    "\n",
    "print(max_r)"
   ]
  },
  {
   "cell_type": "markdown",
   "metadata": {},
   "source": [
    "https://codeforces.com/problemset/problem/1450/D D. Rating Compression"
   ]
  },
  {
   "cell_type": "code",
   "execution_count": 34,
   "metadata": {},
   "outputs": [
    {
     "name": "stdout",
     "output_type": "stream",
     "text": [
      "3\n",
      "3 3 2\n",
      "2 [3, 2] {1}\n",
      "3 [2] {1}\n",
      "000\n"
     ]
    }
   ],
   "source": [
    "from collections import deque\n",
    "import sys\n",
    "input = lambda: sys.stdin.readline().rstrip()\n",
    "\n",
    "def check(intv_len):\n",
    "    to_check = []\n",
    "    st = set(range(1, n - intv_len + 2)) \n",
    "    \n",
    "    min_deq = deque()\n",
    "    for i in range(n):\n",
    "        while min_deq:\n",
    "            if min_deq[0][1] <= i - intv_len:\n",
    "                min_deq.popleft()\n",
    "            else:\n",
    "                break\n",
    "\n",
    "        while min_deq:\n",
    "            if min_deq[-1][0] >= li[i]:\n",
    "                min_deq.pop()\n",
    "            else:\n",
    "                break\n",
    "\n",
    "        min_deq.append((li[i], i))\n",
    "        \n",
    "        if i >= intv_len - 1:\n",
    "            to_check.append(min_deq[0][0])\n",
    "            st.discard(min_deq[0][0])\n",
    "            \n",
    "    if not st:\n",
    "        return True\n",
    "    return False\n",
    "    \n",
    "for _ in range(int(input())):\n",
    "    n = int(input())\n",
    "    li = list(map(int, input().split()))\n",
    "\n",
    "    r = [0] * n\n",
    "    if sorted(li) == list(range(1, n + 1)):\n",
    "        r[0] = 1\n",
    "\n",
    "    max_not_po = 0\n",
    "    start = 2\n",
    "    end = n\n",
    "    while start <= end:\n",
    "        mid = (start + end) // 2\n",
    "\n",
    "        if not check(mid):\n",
    "            max_not_po = mid\n",
    "            start = mid + 1\n",
    "        else:\n",
    "            end = mid - 1\n",
    "            \n",
    "    if max_not_po == 0:\n",
    "        for i in range(1, n):\n",
    "            r[i] = 1\n",
    "    else:\n",
    "        for i in range(max_not_po, n):\n",
    "            r[i] = 1\n",
    "\n",
    "    print(''.join(map(str, r)))"
   ]
  },
  {
   "cell_type": "code",
   "execution_count": null,
   "metadata": {},
   "outputs": [],
   "source": [
    "1 2 3 4 5\n",
    "F F T T T"
   ]
  },
  {
   "cell_type": "code",
   "execution_count": null,
   "metadata": {},
   "outputs": [],
   "source": []
  },
  {
   "cell_type": "code",
   "execution_count": null,
   "metadata": {},
   "outputs": [],
   "source": []
  },
  {
   "cell_type": "code",
   "execution_count": null,
   "metadata": {},
   "outputs": [],
   "source": [
    "1 3 3 3 2\n",
    "1 3 3 2\n",
    "1 3 2\n",
    "1 2\n",
    "1"
   ]
  },
  {
   "cell_type": "code",
   "execution_count": null,
   "metadata": {},
   "outputs": [],
   "source": [
    "1 5 3 2 1 3 2\n",
    "\n",
    "1 5 3 2 1 3 2\n",
    "1 3 2 1 1 2\n",
    "1 2 1 1 1\n",
    "1 1 1 1\n",
    "1 1 1\n",
    "1 1\n",
    "1"
   ]
  },
  {
   "cell_type": "code",
   "execution_count": null,
   "metadata": {},
   "outputs": [],
   "source": [
    "\n",
    "1 5 3 4 2\n"
   ]
  },
  {
   "cell_type": "code",
   "execution_count": null,
   "metadata": {},
   "outputs": [],
   "source": [
    "1 5 3 4 2"
   ]
  },
  {
   "cell_type": "code",
   "execution_count": null,
   "metadata": {},
   "outputs": [],
   "source": [
    "1 0 1 1 1 1 1 1 1\n",
    "\n",
    "1 1 1 1 1 1 1 0 1"
   ]
  },
  {
   "cell_type": "code",
   "execution_count": null,
   "metadata": {},
   "outputs": [],
   "source": [
    "k가 1이면 그대로 perm인지 확인\n",
    "k가 n이면 min이 1인지 확인\n",
    "k가 2 <= k < n 이면 1이 하나만 있어야 하고 양끝이 아닌 곳에 1이 있으면 1이 2개 이상이 되어버림"
   ]
  },
  {
   "cell_type": "code",
   "execution_count": null,
   "metadata": {},
   "outputs": [],
   "source": [
    "n이 n - 1이면 1이 양쪽 끝 중 하나만 있어야 하고 나머지 구간의 최소는 2여야 함\n",
    "n이 n - 2이면 2이 양쪽 끝 중 하나만 있어야 하고 나머지 구간의 최소는 3이여야 함"
   ]
  },
  {
   "cell_type": "code",
   "execution_count": 31,
   "metadata": {},
   "outputs": [
    {
     "name": "stdout",
     "output_type": "stream",
     "text": [
      "3\n",
      "3 3 2\n",
      "000\n"
     ]
    }
   ],
   "source": [
    "import sys\n",
    "input = lambda: sys.stdin.readline().rstrip()\n",
    "\n",
    "inf = float('inf')\n",
    "\n",
    "class SegmentTree:\n",
    "    def __init__(self, data, default=10**15, func=lambda a, b: max(a,b)):\n",
    "        \"\"\"initialize the segment tree with data\"\"\"\n",
    "        self._default = default\n",
    "        self._func = func\n",
    "        self._len = len(data)\n",
    "        self._size = _size = 1 << (self._len - 1).bit_length()\n",
    " \n",
    "        self.data = [default] * (2 * _size)\n",
    "        self.data[_size:_size + self._len] = data\n",
    "        for i in reversed(range(_size)):\n",
    "            self.data[i] = func(self.data[i + i], self.data[i + i + 1])\n",
    " \n",
    "    def __delitem__(self, idx):\n",
    "        self[idx] = self._default\n",
    " \n",
    "    def __getitem__(self, idx):\n",
    "        return self.data[idx + self._size]\n",
    " \n",
    "    def __setitem__(self, idx, value):\n",
    "        idx += self._size\n",
    "        self.data[idx] = value\n",
    "        idx >>= 1\n",
    "        while idx:\n",
    "            self.data[idx] = self._func(self.data[2 * idx], self.data[2 * idx + 1])\n",
    "            idx >>= 1\n",
    " \n",
    "    def __len__(self):\n",
    "        return self._len\n",
    " \n",
    "    def query(self, start, stop):\n",
    "        if start == stop:\n",
    "            return self.__getitem__(start)\n",
    "        stop += 1\n",
    "        start += self._size\n",
    "        stop += self._size\n",
    " \n",
    "        res = self._default\n",
    "        while start < stop:\n",
    "            if start & 1:\n",
    "                res = self._func(res, self.data[start])\n",
    "                start += 1\n",
    "            if stop & 1:\n",
    "                stop -= 1\n",
    "                res = self._func(res, self.data[stop])\n",
    "            start >>= 1\n",
    "            stop >>= 1\n",
    "        return res\n",
    " \n",
    "    def __repr__(self):\n",
    "        return \"SegmentTree({0})\".format(self.data)\n",
    "\n",
    "\n",
    "func = lambda a, b: min(a, b)\n",
    "for _ in range(int(input())):\n",
    "    n = int(input())\n",
    "    li = list(map(int, input().split()))\n",
    "\n",
    "    segtree = SegmentTree(li, inf, func=func)\n",
    "\n",
    "    r = [0] * n\n",
    "    if segtree.query(0, n - 1) == 1:\n",
    "        r[n - 1] = 1\n",
    "    if sorted(li) == list(range(1, n + 1)):\n",
    "        r[0] = 1\n",
    "\n",
    "    ctc_end = 1 # cur_to_check_end\n",
    "    ctc_min_mid = 2 # cur_to_check_min_mid\n",
    "    s = 0\n",
    "    e = n - 1\n",
    "    ip = True\n",
    "    for intv_len in range(n - 1, 1, -1):\n",
    "        if not ip:\n",
    "            r[intv_len - 1] = 0\n",
    "            continue\n",
    "\n",
    "        checked = False\n",
    "        if li[s] == ctc_end and segtree.query(s + 1, e) == ctc_min_mid:\n",
    "            checked = True\n",
    "            r[intv_len - 1] = 1\n",
    "            s += 1\n",
    "        if li[e] == ctc_end and segtree.query(s, e - 1) == ctc_min_mid:\n",
    "            checked = True\n",
    "            r[intv_len - 1] = 1\n",
    "            e -= 1\n",
    "\n",
    "        if not checked:\n",
    "            ip = False\n",
    "        else:\n",
    "            ctc_end += 1\n",
    "            ctc_min_mid += 1\n",
    "\n",
    "    print(''.join(map(str, r)))"
   ]
  },
  {
   "cell_type": "markdown",
   "metadata": {},
   "source": [
    "https://codeforces.com/problemset/problem/1446/B B. Catching Cheaters"
   ]
  },
  {
   "cell_type": "code",
   "execution_count": 39,
   "metadata": {},
   "outputs": [
    {
     "name": "stdout",
     "output_type": "stream",
     "text": [
      "7 7\n",
      "uiibwws\n",
      "qhtkxcn\n",
      "0\n"
     ]
    }
   ],
   "source": [
    "n, m = map(int, input().split())\n",
    "a = input()\n",
    "b = input()\n",
    "\n",
    "dp = [[0] * (m + 1) for _ in range(n + 1)]\n",
    "max_r = 0\n",
    "for i in range(n):\n",
    "    for j in range(m):\n",
    "        if a[i] == b[j]:\n",
    "            dp[i + 1][j + 1] = max(dp[i][j + 1] - 1, dp[i + 1][j] - 1, dp[i][j] + 2)\n",
    "        else:\n",
    "            dp[i + 1][j + 1] = max(0, dp[i][j + 1] - 1, dp[i + 1][j] - 1)\n",
    "            \n",
    "        max_r = max(max_r, dp[i + 1][j + 1])\n",
    "        \n",
    "print(max_r)"
   ]
  },
  {
   "cell_type": "code",
   "execution_count": 36,
   "metadata": {},
   "outputs": [
    {
     "data": {
      "text/plain": [
       "[[0, 0, 0, 0, 0, 0],\n",
       " [0, 0, 2, 1, 2, 1],\n",
       " [0, 2, 1, 4, 3, 4],\n",
       " [0, 2, 1, 3, 2, 5],\n",
       " [0, 1, 4, 3, 5, 4]]"
      ]
     },
     "execution_count": 36,
     "metadata": {},
     "output_type": "execute_result"
    }
   ],
   "source": [
    "n, m = map(int, input().split())\n",
    "a = input()\n",
    "b = input()\n",
    "\n",
    "dp = [[0] * (m + 1) for _ in range(n + 1)]\n",
    "max_r = 0\n",
    "for i in range(n):\n",
    "    for j in range(m):\n",
    "        if a[i] == b[j]:\n",
    "            dp[i + 1][j + 1] = dp[i][j] + 2\n",
    "        else:\n",
    "            dp[i + 1][j + 1] = max(0, dp[i][j + 1] - 1, dp[i + 1][j] - 1)\n",
    "            \n",
    "        max_r = max(max_r, dp[i + 1][j + 1])\n",
    "        \n",
    "print(max_r)"
   ]
  },
  {
   "cell_type": "markdown",
   "metadata": {},
   "source": [
    "https://codeforces.com/problemset/problem/1442/B B. Identify the Operations"
   ]
  },
  {
   "cell_type": "code",
   "execution_count": null,
   "metadata": {},
   "outputs": [],
   "source": [
    "1 2 3 4 5\n",
    "-> 3 2 5"
   ]
  },
  {
   "cell_type": "code",
   "execution_count": null,
   "metadata": {},
   "outputs": [],
   "source": [
    "[3, 2, 5]\n",
    "\n",
    "  x x   x\n",
    "1 2 3 4 5  에서 3 얻어야함\n",
    "\n",
    "  x   x\n",
    "1 2 3 5  에서 2 얻어야함\n",
    "    x\n",
    "1 2 5 에서 5 얻어야함\n",
    "\n"
   ]
  },
  {
   "cell_type": "code",
   "execution_count": null,
   "metadata": {},
   "outputs": [],
   "source": [
    "    x   x\n",
    "1 2 3 4 5  에서 3 얻어야함"
   ]
  },
  {
   "cell_type": "code",
   "execution_count": null,
   "metadata": {},
   "outputs": [],
   "source": [
    "mod = 998244353\n",
    "\n",
    "n, k = map(int, input().split())\n",
    "a = list(map(int, input().split()))\n",
    "b = list(map(int, input().split()))\n",
    "\n",
    "\n",
    "cant_remove = set(b)\n"
   ]
  },
  {
   "cell_type": "markdown",
   "metadata": {},
   "source": [
    "https://codeforces.com/problemset/problem/1689/D D. Lena and Matrix"
   ]
  },
  {
   "cell_type": "code",
   "execution_count": 6,
   "metadata": {},
   "outputs": [
    {
     "name": "stdout",
     "output_type": "stream",
     "text": [
      "5 5\n",
      "BWBWB\n",
      "WBWBW\n",
      "BWBWB\n",
      "WBWBW\n",
      "BWBWB\n",
      "3 3\n"
     ]
    }
   ],
   "source": [
    "import sys\n",
    "input = lambda: sys.stdin.readline().rstrip()\n",
    "\n",
    "inf = float('inf')\n",
    "\n",
    "def get_dist(ax, ay, bx, by):\n",
    "    return abs(ax - bx) + abs(ay - by)\n",
    "\n",
    "for _ in range(int(input())):\n",
    "    n, m = map(int, input().split())\n",
    "    li = [input() for _ in range(n)]\n",
    "\n",
    "    # min(i - j), max(i - j), min(i + j), max(i + j)\n",
    "    impos = [[inf, -inf], [-inf, inf], [inf, inf], [-inf, -inf]]\n",
    "\n",
    "    for i in range(n):\n",
    "        for j in range(m):\n",
    "            if li[i][j] == 'B':\n",
    "                if i - j < impos[0][0] - impos[0][1]:\n",
    "                    impos[0] = [i, j]\n",
    "                if i - j > impos[1][0] - impos[1][1]:\n",
    "                    impos[1] = [i, j]\n",
    "                if i + j < impos[2][0] + impos[2][1]:\n",
    "                    impos[2] = [i, j]\n",
    "                if i + j > impos[3][0] + impos[3][1]:\n",
    "                    impos[3] = [i, j]\n",
    "\n",
    "    min_r = inf\n",
    "    rx, ry = 0, 0\n",
    "    for i in range(n):\n",
    "        for j in range(m):\n",
    "            temp_max = 0\n",
    "            for k in range(4):\n",
    "                temp_max = max(temp_max, get_dist(i, j, *impos[k]))\n",
    "\n",
    "            if temp_max < min_r:\n",
    "                min_r = temp_max\n",
    "                rx = i\n",
    "                ry = j\n",
    "\n",
    "    print(rx + 1, ry + 1)"
   ]
  },
  {
   "cell_type": "markdown",
   "metadata": {},
   "source": [
    "https://codeforces.com/problemset/problem/1442/A A. Extreme Subtraction"
   ]
  },
  {
   "cell_type": "code",
   "execution_count": 33,
   "metadata": {},
   "outputs": [
    {
     "name": "stdout",
     "output_type": "stream",
     "text": [
      "7\n",
      "3 1 2 3 2 1 3\n",
      "NO\n"
     ]
    }
   ],
   "source": [
    "import sys\n",
    "input = lambda: sys.stdin.readline().rstrip()\n",
    "\n",
    "for _ in range(int(input())):\n",
    "    n = int(input())\n",
    "    li = list(map(int, input().split()))\n",
    "\n",
    "    remained = [0] * n\n",
    "\n",
    "    left_rightest_nip_start = n + 1\n",
    "    for i in range(n - 1):\n",
    "        if li[i] < li[i + 1]:\n",
    "            left_rightest_nip_start = i + 1\n",
    "            break\n",
    "\n",
    "    if left_rightest_nip_start < n:    \n",
    "        to_add = li[left_rightest_nip_start - 1]\n",
    "        for i in range(left_rightest_nip_start, n):\n",
    "            remained[i] += to_add\n",
    "            to_add = min(to_add, li[i])\n",
    "\n",
    "    right_leftest_nip_start = -1\n",
    "    for i in range(n - 1, 0, -1):\n",
    "        if li[i - 1] > li[i]:\n",
    "            right_leftest_nip_start = i - 1\n",
    "            break\n",
    "\n",
    "    if left_rightest_nip_start > right_leftest_nip_start:\n",
    "        print('YES')\n",
    "    else:\n",
    "        ip = True\n",
    "        left_min_to_use = 0\n",
    "        for i in range(right_leftest_nip_start, left_rightest_nip_start - 1, -1):\n",
    "            left_max_can_use = remained[i]\n",
    "            tsost = li[i + 1] # to same or smaller than\n",
    "            li[i] -= left_min_to_use\n",
    "            used = left_min_to_use\n",
    "            if li[i] <= tsost:\n",
    "                pass\n",
    "            else:\n",
    "                diff = li[i] - tsost\n",
    "                used += diff\n",
    "\n",
    "                if used > left_max_can_use:\n",
    "                    ip = False\n",
    "                    break\n",
    "                left_min_to_use += diff\n",
    "                li[i] -= diff\n",
    "\n",
    "        if ip:\n",
    "            print('YES')\n",
    "        else:\n",
    "            print('NO')"
   ]
  },
  {
   "cell_type": "code",
   "execution_count": 38,
   "metadata": {},
   "outputs": [
    {
     "name": "stdout",
     "output_type": "stream",
     "text": [
      "5\n",
      "1 3 1 3 1\n",
      "[1, 1, -1, -1, -3] [0, 2, 2, 4, 4]\n"
     ]
    }
   ],
   "source": [
    "import sys\n",
    "input = lambda: sys.stdin.readline().rstrip()\n",
    "\n",
    "for _ in range(int(input())):\n",
    "    n = int(input())\n",
    "    li = list(map(int, input().split()))\n",
    "\n",
    "    a = [0] * n\n",
    "    b = [0] * n\n",
    "    a[0] = li[0]\n",
    "    for i in range(1, n):\n",
    "        a[i] = min(a[i - 1], li[i] - b[i - 1])\n",
    "        b[i] = li[i] - a[i]\n",
    "\n",
    "    ip = True\n",
    "    for i in range(n - 1):\n",
    "        if a[i] < a[i + 1] or a[i] < 0:\n",
    "            ip = False\n",
    "            break\n",
    "\n",
    "    if a[-1] < 0:\n",
    "        ip = False\n",
    "\n",
    "    if ip:\n",
    "        print('YES')\n",
    "    else:\n",
    "        print('NO')"
   ]
  },
  {
   "cell_type": "code",
   "execution_count": 42,
   "metadata": {},
   "outputs": [
    {
     "name": "stdout",
     "output_type": "stream",
     "text": [
      "1\n",
      "5\n",
      "1 3 1 3 1\n",
      "NO\n"
     ]
    }
   ],
   "source": [
    "import sys\n",
    "# input = lambda: sys.stdin.readline().rstrip()\n",
    "\n",
    "for _ in range(int(input())):\n",
    "    n = int(input())\n",
    "    li = list(map(int, input().split()))\n",
    "\n",
    "    a = [0] * n\n",
    "    b = [0] * n\n",
    "    a[0] = li[0]\n",
    "    for i in range(1, n):\n",
    "        a[i] = min(a[i - 1], li[i] - b[i - 1])\n",
    "        b[i] = li[i] - a[i]\n",
    "\n",
    "    ip = True\n",
    "    for i in range(n):\n",
    "        if a[i] < 0:\n",
    "            ip = False\n",
    "            break\n",
    "\n",
    "    if ip:\n",
    "        print('YES')\n",
    "    else:\n",
    "        print('NO')"
   ]
  },
  {
   "cell_type": "markdown",
   "metadata": {},
   "source": [
    "https://codeforces.com/problemset/problem/1437/C C. Chef Monocarp"
   ]
  },
  {
   "cell_type": "code",
   "execution_count": null,
   "metadata": {},
   "outputs": [],
   "source": [
    "7 7 7 7 7 7 7    4 5 6 7 8 9 10\n",
    "\n",
    "6 6 6 6 6 6   3 4 5 6 7 8\n",
    "\n",
    "5 5 5 5 5     3 4 5 6 7\n",
    "\n"
   ]
  },
  {
   "cell_type": "code",
   "execution_count": 44,
   "metadata": {},
   "outputs": [
    {
     "data": {
      "text/plain": [
       "64000000"
      ]
     },
     "execution_count": 44,
     "metadata": {},
     "output_type": "execute_result"
    }
   ],
   "source": [
    "400 * 400 * 400"
   ]
  },
  {
   "cell_type": "code",
   "execution_count": null,
   "metadata": {},
   "outputs": [],
   "source": [
    "dp[n][cur] = 현재까지 가능한 최소 불만"
   ]
  },
  {
   "cell_type": "code",
   "execution_count": null,
   "metadata": {},
   "outputs": [],
   "source": [
    "dp[4][2] = min(dp[3][1]) + 현재 불만\n",
    "dp[4][3] = min(dp[3][1], dp[3][2]) + 현재 불만"
   ]
  },
  {
   "cell_type": "code",
   "execution_count": 68,
   "metadata": {},
   "outputs": [
    {
     "name": "stdout",
     "output_type": "stream",
     "text": [
      "21\n",
      "21 8 1 4 1 5 21 1 8 21 11 21 11 3 12 8 19 15 9 11 13\n",
      "21\n"
     ]
    }
   ],
   "source": [
    "import sys\n",
    "input = lambda: sys.stdin.readline().rstrip()\n",
    "\n",
    "inf = float('inf')\n",
    "\n",
    "for _ in range(int(input())):\n",
    "    n = int(input())\n",
    "    mpn = n * 2 # max possible num\n",
    "    li = sorted(map(int, input().split()))\n",
    "\n",
    "    dp = [[inf] * (mpn + 1) for _ in range(n)]\n",
    "\n",
    "    for t in range(1, mpn + 1):\n",
    "        dp[0][t] = abs(li[0] - t)\n",
    "\n",
    "    for i in range(1, n):\n",
    "        cur_min = inf\n",
    "        for t in range(1, mpn + 1):\n",
    "            cur_min = min(cur_min, dp[i - 1][t - 1])\n",
    "            dp[i][t] = cur_min + abs(li[i] - t)\n",
    "\n",
    "    r = min(dp[n - 1])\n",
    "\n",
    "    print(r)"
   ]
  },
  {
   "cell_type": "code",
   "execution_count": null,
   "metadata": {},
   "outputs": [],
   "source": [
    "1 2 3 4 5 6 7 8 9 10 11 12 13 14 15 16 18 19 20"
   ]
  },
  {
   "cell_type": "code",
   "execution_count": 66,
   "metadata": {},
   "outputs": [
    {
     "name": "stdout",
     "output_type": "stream",
     "text": [
      "[1, 0, 1, 2, 3, 4, 5]\n",
      "[inf, 1, 1, 2, 3, 4, 5]\n",
      "[inf, inf, 2, 3, 4, 5, 6]\n"
     ]
    }
   ],
   "source": [
    "for v in dp:\n",
    "    print(v)"
   ]
  }
 ],
 "metadata": {
  "kernelspec": {
   "display_name": "Python 3",
   "language": "python",
   "name": "python3"
  },
  "language_info": {
   "codemirror_mode": {
    "name": "ipython",
    "version": 3
   },
   "file_extension": ".py",
   "mimetype": "text/x-python",
   "name": "python",
   "nbconvert_exporter": "python",
   "pygments_lexer": "ipython3",
   "version": "3.8.3"
  }
 },
 "nbformat": 4,
 "nbformat_minor": 4
}
