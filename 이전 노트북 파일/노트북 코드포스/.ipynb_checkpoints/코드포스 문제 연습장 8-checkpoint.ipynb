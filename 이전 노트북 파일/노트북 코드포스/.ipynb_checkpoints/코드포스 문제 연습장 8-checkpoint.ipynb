{
 "cells": [
  {
   "cell_type": "markdown",
   "metadata": {},
   "source": [
    "A"
   ]
  },
  {
   "cell_type": "code",
   "execution_count": null,
   "metadata": {},
   "outputs": [],
   "source": [
    "import sys\n",
    "input = lambda: sys.stdin.readline().rstrip()\n",
    "\n",
    "for _ in range(int(input())):\n",
    "    n, m = map(int, input().split())\n",
    "    li = list(map(int, input().split()))\n",
    "\n",
    "    if 1 in li:\n",
    "        print('YES')\n",
    "    else:\n",
    "        print('NO')"
   ]
  },
  {
   "cell_type": "markdown",
   "metadata": {},
   "source": [
    "B"
   ]
  },
  {
   "cell_type": "code",
   "execution_count": 8,
   "metadata": {},
   "outputs": [
    {
     "name": "stdout",
     "output_type": "stream",
     "text": [
      "8\n",
      "0 0 1 1 1 1 1 1\n",
      "0\n"
     ]
    }
   ],
   "source": [
    "from collections import deque\n",
    "import sys\n",
    "input = lambda: sys.stdin.readline().rstrip()\n",
    "\n",
    "for _ in range(int(input())):\n",
    "    n = int(input())\n",
    "    deq = deque(map(int, input().split()))\n",
    "\n",
    "    c = 0\n",
    "    while deq:\n",
    "        if deq[0] == 0:\n",
    "            deq.popleft()\n",
    "            continue\n",
    "        if deq[-1] == 1:\n",
    "            deq.pop()\n",
    "            continue\n",
    "        deq.popleft()\n",
    "        deq.pop()\n",
    "        c += 1\n",
    "\n",
    "    print(c)"
   ]
  },
  {
   "cell_type": "markdown",
   "metadata": {},
   "source": [
    "C"
   ]
  },
  {
   "cell_type": "code",
   "execution_count": 11,
   "metadata": {},
   "outputs": [
    {
     "name": "stdout",
     "output_type": "stream",
     "text": [
      "5\n",
      "1 3 2 4 5\n",
      "1 1 1 1 3\n"
     ]
    }
   ],
   "source": [
    "import sys\n",
    "input = lambda: sys.stdin.readline().rstrip()\n",
    "\n",
    "for _ in range(int(input())):\n",
    "    n = int(input())\n",
    "    li = list(map(int, input().split()))\n",
    "\n",
    "    diffs = []\n",
    "    for i in range(n - 1):\n",
    "        diff = li[i] - li[i + 1]\n",
    "\n",
    "        if diff >= 1:\n",
    "            diffs.append((diff, i + 1))\n",
    "\n",
    "    diffs.sort(key=lambda x: -x[0])\n",
    "\n",
    "    result = [1] * n\n",
    "    cur_to_use = n - 1\n",
    "    for _, index in diffs:\n",
    "        result[cur_to_use] = index + 1\n",
    "        cur_to_use -= 1\n",
    "\n",
    "    print(*result)"
   ]
  },
  {
   "cell_type": "markdown",
   "metadata": {},
   "source": [
    "D"
   ]
  },
  {
   "cell_type": "code",
   "execution_count": null,
   "metadata": {},
   "outputs": [],
   "source": [
    "리프노드 개수 구하기\n",
    "\n",
    "리프노드 별로 루트에서 해당 리프까지 균등하게 분배\n",
    "\n",
    "남은 개수는 값이 큰 것부터 차례대로 분배함"
   ]
  },
  {
   "cell_type": "code",
   "execution_count": 24,
   "metadata": {},
   "outputs": [
    {
     "name": "stdout",
     "output_type": "stream",
     "text": [
      "1\n",
      "4 5\n",
      "1 1 1\n",
      "0 1 2 3\n",
      "11\n"
     ]
    }
   ],
   "source": [
    "import sys\n",
    "# input = lambda: sys.stdin.readline().rstrip()\n",
    "\n",
    "## PYRIVAL BOOTSTRAP\n",
    "# https://github.com/cheran-senthil/PyRival/blob/master/pyrival/misc/bootstrap.py\n",
    "# This decorator allows for recursion without actually doing recursion\n",
    "## @bootstrap, yield when getting and returning value in recursive functions, end of functions\n",
    "from types import GeneratorType\n",
    "\n",
    "def bootstrap(f, stack=[]):\n",
    "    def wrappedfunc(*args, **kwargs):\n",
    "        if stack:\n",
    "            return f(*args, **kwargs)\n",
    "        else:\n",
    "            to = f(*args, **kwargs)\n",
    "            while True:\n",
    "                if type(to) is GeneratorType:\n",
    "                    stack.append(to)\n",
    "                    to = next(to)\n",
    "                else:\n",
    "                    stack.pop()\n",
    "                    if not stack:\n",
    "                        break\n",
    "                    to = stack[-1].send(to)\n",
    "            return to\n",
    "    return wrappedfunc\n",
    "\n",
    "@bootstrap\n",
    "def dfs(value, cumul):\n",
    "    cumul += scs[value]\n",
    "    \n",
    "    if not nli[value]:\n",
    "        leaf_vs.append(cumul)\n",
    "    else: \n",
    "        for v in nli[value]:\n",
    "            yield dfs(v, cumul)\n",
    "    yield\n",
    "\n",
    "for _ in range(int(input())):\n",
    "    n, k = map(int, input().split())\n",
    "    li = list(map(int, input().split()))\n",
    "    scs = [0] + list(map(int, input().split()))\n",
    "\n",
    "    nli = [[] for _ in range(n + 1)]\n",
    "    for i in range(n - 1):\n",
    "        c = i + 2\n",
    "\n",
    "        p = li[i]\n",
    "        nli[p].append(c)\n",
    "\n",
    "    leaf_vs = []\n",
    "    dfs(1, 0)\n",
    "    leaf_c = len(leaf_vs)\n",
    "\n",
    "    leaf_vs.sort(reverse=True)\n",
    "    all_c = k // leaf_c\n",
    "\n",
    "    total = all_c * sum(leaf_vs)\n",
    "\n",
    "    remained = k % leaf_c\n",
    "    total += sum(leaf_vs[:remained])\n",
    "\n",
    "    print(total)"
   ]
  },
  {
   "cell_type": "markdown",
   "metadata": {},
   "source": [
    "https://codeforces.com/problemset/problem/1753/B B. Factorial Divisibility"
   ]
  },
  {
   "cell_type": "code",
   "execution_count": null,
   "metadata": {},
   "outputs": [],
   "source": [
    "1*2*3 + 1*2 + 1*2 + 1*2 + 1*2*3 + 1*2*3\n",
    "\n",
    "\n",
    "3 * (1*2) + 3 * (1*2*3)      1*2*3*4\n",
    "\n"
   ]
  },
  {
   "cell_type": "code",
   "execution_count": 2,
   "metadata": {},
   "outputs": [
    {
     "data": {
      "text/plain": [
       "32"
      ]
     },
     "execution_count": 2,
     "metadata": {},
     "output_type": "execute_result"
    }
   ],
   "source": [
    "1 2 6 24 120"
   ]
  },
  {
   "cell_type": "code",
   "execution_count": null,
   "metadata": {},
   "outputs": [],
   "source": [
    "1*2*3*4*5*6*7가 8개면\n",
    "\n",
    "1*2*3*4*5*6*7*8"
   ]
  },
  {
   "cell_type": "code",
   "execution_count": null,
   "metadata": {},
   "outputs": [],
   "source": [
    "divisible 조건:\n",
    "    \n",
    "주어진 팩토리얼의 합: a * (1*2*3*4*5*6*...*x)"
   ]
  },
  {
   "cell_type": "code",
   "execution_count": 8,
   "metadata": {},
   "outputs": [
    {
     "name": "stdout",
     "output_type": "stream",
     "text": [
      "2 500000\n",
      "499999 499999\n",
      "No\n"
     ]
    }
   ],
   "source": [
    "n, x = map(int, input().split())\n",
    "li = list(map(int, input().split()))\n",
    "\n",
    "ct = [0] * (x + 1)\n",
    "for v in li:\n",
    "    ct[v] += 1\n",
    "    \n",
    "ip = True\n",
    "for i in range(1, x):\n",
    "    if ct[i] % (i + 1):\n",
    "        ip = False\n",
    "        break\n",
    "    \n",
    "    promoted_c = ct[i] // (i + 1)\n",
    "    ct[i + 1] += promoted_c\n",
    "    \n",
    "if ip:\n",
    "    print('Yes')\n",
    "else:\n",
    "    print('No')"
   ]
  },
  {
   "cell_type": "markdown",
   "metadata": {},
   "source": [
    "https://codeforces.com/problemset/problem/1753/C C. Wish I Knew How to Sort"
   ]
  },
  {
   "cell_type": "code",
   "execution_count": null,
   "metadata": {},
   "outputs": [],
   "source": [
    "0 0 0 1 1 1\n",
    "\n",
    "1 1 0 0 1 1 0 0 1 1 0 0 to 0 0 0 0 0 0 1 1 1 1 1 1\n",
    "\n",
    "앞쪽의 1을 최종적으로 0이어야 하는 곳으로 옮겨봤자 안옮긴거랑 다를게 없음\n",
    "앞쪽의 1을 최종적으로 1이어야 하는 어느 곳에 옮겨도 다를게 없음"
   ]
  },
  {
   "cell_type": "code",
   "execution_count": null,
   "metadata": {},
   "outputs": [],
   "source": [
    "1 1 1 0 0 0\n",
    "\n"
   ]
  },
  {
   "cell_type": "code",
   "execution_count": null,
   "metadata": {},
   "outputs": [],
   "source": [
    "전체에서 옮겨야 할 조합이 걸릴 확률은 얼마인가?\n",
    "\n",
    "걸렸다면 조합 수가 1 줄어들게 된다."
   ]
  },
  {
   "cell_type": "code",
   "execution_count": null,
   "metadata": {},
   "outputs": [],
   "source": [
    "1 1 1 0 0\n",
    "\n",
    "n이 5라면 전체 가능 조합: 5C2\n",
    "    \n",
    "최종 1 위치의 0이 x개라면 x * x개가 옮기는 의미가 있음"
   ]
  },
  {
   "cell_type": "code",
   "execution_count": null,
   "metadata": {},
   "outputs": [],
   "source": [
    "x*x / 5C2"
   ]
  },
  {
   "cell_type": "code",
   "execution_count": 12,
   "metadata": {},
   "outputs": [
    {
     "name": "stdout",
     "output_type": "stream",
     "text": [
      "6\n",
      "1 1 1 0 0 1\n",
      "249561107\n"
     ]
    }
   ],
   "source": [
    "import sys, os, io\n",
    "input = io.BytesIO(os.read(0,os.fstat(0).st_size)).readline\n",
    "\n",
    "mod = 998244353\n",
    "\n",
    "for _ in range(int(input())):\n",
    "    n = int(input())\n",
    "    li = list(map(int, input().split()))\n",
    "\n",
    "    c = 0\n",
    "    nli = sorted(li)\n",
    "    for i in range(n):\n",
    "        if nli[i] == 1 and li[i] == 0:\n",
    "            c += 1\n",
    "\n",
    "    if c == 0:\n",
    "        print(0)\n",
    "    else:\n",
    "        denom = n * (n - 1) // 2\n",
    "        to_mul = pow(denom, mod - 2, mod) % mod\n",
    "\n",
    "        ps = [0] * (c + 1)\n",
    "        rs = [0] * (c + 1)\n",
    "\n",
    "        for cur_c in range(1, c + 1):\n",
    "            ps[cur_c] = cur_c * cur_c * to_mul % mod\n",
    "\n",
    "        rs[1] = 1 * pow(ps[1], mod - 2, mod)\n",
    "        for cur_c in range(2, c + 1):\n",
    "            rs[cur_c] = (ps[cur_c] * rs[cur_c - 1] + 1) * pow(ps[cur_c], mod - 2, mod) % mod\n",
    "\n",
    "        print(rs[c])"
   ]
  },
  {
   "cell_type": "markdown",
   "metadata": {},
   "source": [
    "https://codeforces.com/problemset/problem/1750/D D. Count GCD"
   ]
  },
  {
   "cell_type": "code",
   "execution_count": null,
   "metadata": {},
   "outputs": [],
   "source": [
    "주어진 것 a1 a2 a3 a4 a5\n",
    "\n",
    "          b1 b2 b3 b4 b5\n",
    "\n",
    "gcd(b1, b2) = a2"
   ]
  },
  {
   "cell_type": "code",
   "execution_count": null,
   "metadata": {},
   "outputs": [],
   "source": [
    "소인수분해시 이전에 쓰였던 값들로만 확인해보면 됨"
   ]
  },
  {
   "cell_type": "code",
   "execution_count": 99,
   "metadata": {},
   "outputs": [
    {
     "name": "stdout",
     "output_type": "stream",
     "text": [
      "5 50\n",
      "2 3 5 2 3\n",
      "0\n"
     ]
    }
   ],
   "source": [
    "from itertools import combinations as comb\n",
    "import sys, os, io\n",
    "input = io.BytesIO(os.read(0,os.fstat(0).st_size)).readline\n",
    "\n",
    "mod_r = 998244353\n",
    "\n",
    "for _ in range(int(input())):\n",
    "    n, m = map(int, input().split())\n",
    "    a = list(map(int, input().split()))\n",
    "\n",
    "    ip = True\n",
    "    for i in range(n - 1):\n",
    "        if a[i] % a[i + 1] != 0:\n",
    "            ip = False\n",
    "            break\n",
    "\n",
    "    if not ip:\n",
    "        print(0)\n",
    "    else:\n",
    "        num = a[0]\n",
    "        cs = {}\n",
    "        for mod in range(2, int(num ** 0.5) + 1):\n",
    "            c = 0\n",
    "            while num % mod == 0:\n",
    "                num //= mod\n",
    "                c += 1\n",
    "            if c >= 1:\n",
    "                cs[mod] = c\n",
    "\n",
    "        if num != 1:\n",
    "            cs[num] = 1\n",
    "\n",
    "        result = 1\n",
    "        for i in range(1, n):\n",
    "            v = a[i]\n",
    "            ncs = {}\n",
    "            for mod in cs.keys():\n",
    "                c = 0\n",
    "                while v % mod == 0:\n",
    "                    v //= mod\n",
    "                    c += 1\n",
    "                if c >= 1:\n",
    "                    ncs[mod] = c\n",
    "\n",
    "            if v != 1:\n",
    "                ncs[v] = 1\n",
    "\n",
    "            to_ex = []\n",
    "            for key in cs:\n",
    "                if key not in ncs:\n",
    "                    to_ex.append(key)\n",
    "                elif cs[key] > ncs[key]:\n",
    "                    to_ex.append(key)\n",
    "\n",
    "            r = m // a[i]\n",
    "            for selected_c in range(1, len(to_ex) + 1):\n",
    "                for case in comb(to_ex, selected_c):\n",
    "                    cur = 1\n",
    "                    for v in case:\n",
    "                        cur *= v\n",
    "\n",
    "                    c = m // a[i] // cur\n",
    "\n",
    "                    if selected_c % 2 == 1:\n",
    "                        r -= c\n",
    "                    else:\n",
    "                        r += c\n",
    "                    r %= mod_r\n",
    "\n",
    "            result *= r\n",
    "            result %= mod_r\n",
    "\n",
    "            cs = ncs.copy()\n",
    "\n",
    "        print(result)"
   ]
  },
  {
   "cell_type": "markdown",
   "metadata": {},
   "source": [
    "https://codeforces.com/problemset/problem/1748/D D. ConstructOR"
   ]
  },
  {
   "cell_type": "code",
   "execution_count": null,
   "metadata": {},
   "outputs": [],
   "source": [
    "11 10 9  8  7 6 5 4 3 2 1 0\n",
    "?  ?  ?  ?  0 1 0 1 1 0 0 0\n",
    "?  ?  ?  ?  1 0 0 0 0 1 1 1\n",
    "\n",
    "각각의 현재의 나머지를 구함\n",
    "\n",
    "자릿수별로 나머지의 결과"
   ]
  },
  {
   "cell_type": "code",
   "execution_count": 108,
   "metadata": {},
   "outputs": [
    {
     "data": {
      "text/plain": [
       "('0b110001', '0b111')"
      ]
     },
     "execution_count": 108,
     "metadata": {},
     "output_type": "execute_result"
    }
   ],
   "source": [
    "bin(49), bin(7)"
   ]
  },
  {
   "cell_type": "code",
   "execution_count": null,
   "metadata": {},
   "outputs": [],
   "source": [
    "1010101 가 1010101\n",
    "1010101"
   ]
  },
  {
   "cell_type": "markdown",
   "metadata": {},
   "source": [
    "https://codeforces.com/problemset/problem/1746/D D. Paths on the Tree"
   ]
  },
  {
   "cell_type": "code",
   "execution_count": 153,
   "metadata": {},
   "outputs": [
    {
     "name": "stdout",
     "output_type": "stream",
     "text": [
      "56\n"
     ]
    }
   ],
   "source": [
    "import sys, os, io\n",
    "input = io.BytesIO(os.read(0,os.fstat(0).st_size)).readline\n",
    "\n",
    "## PYRIVAL BOOTSTRAP\n",
    "# https://github.com/cheran-senthil/PyRival/blob/master/pyrival/misc/bootstrap.py\n",
    "# This decorator allows for recursion without actually doing recursion\n",
    "## @bootstrap, yield when getting and returning value in recursive functions, end of functions\n",
    "from types import GeneratorType\n",
    "\n",
    "def bootstrap(f, stack=[]):\n",
    "    def wrappedfunc(*args, **kwargs):\n",
    "        if stack:\n",
    "            return f(*args, **kwargs)\n",
    "        else:\n",
    "            to = f(*args, **kwargs)\n",
    "            while True:\n",
    "                if type(to) is GeneratorType:\n",
    "                    stack.append(to)\n",
    "                    to = next(to)\n",
    "                else:\n",
    "                    stack.pop()\n",
    "                    if not stack:\n",
    "                        break\n",
    "                    to = stack[-1].send(to)\n",
    "            return to\n",
    "    return wrappedfunc\n",
    "\n",
    "@bootstrap\n",
    "def dfs(value, cs, cl):\n",
    "    children_c = len(li[value])\n",
    "    \n",
    "    ncs = -1\n",
    "    ncl = -1\n",
    "    if children_c >= 1:\n",
    "        if cs == cl:\n",
    "            if cl % children_c == 0:\n",
    "                ncs = ncl = cl // children_c\n",
    "            else:\n",
    "                ncs = cl // children_c\n",
    "                ncl = ncs + 1\n",
    "        else:\n",
    "            ncs = cs // children_c\n",
    "            ncl = cl // children_c\n",
    "            if ncl % children_c != 0:\n",
    "                ncl += 1\n",
    "    \n",
    "    svs = []\n",
    "    for v in li[value]:\n",
    "        yield dfs(v, ncs, ncl)\n",
    "        svs.append(dp[v])\n",
    "        \n",
    "    svs.sort(key=lambda x: -(x[1] - x[0]))\n",
    "    \n",
    "    s_case = cs * scs[value]\n",
    "    l_case = cl * scs[value]\n",
    "    if children_c >= 1:\n",
    "        can_use_upper = cs % children_c\n",
    "        for i in range(can_use_upper):\n",
    "            s_case += svs[i][1]\n",
    "        for i in range(can_use_upper, children_c):\n",
    "            s_case += svs[i][0]\n",
    "\n",
    "        can_use_upper = cl % children_c\n",
    "        if can_use_upper == 0:\n",
    "            can_use_upper = children_c\n",
    "        for i in range(can_use_upper):\n",
    "            l_case += svs[i][1]\n",
    "        for i in range(can_use_upper, children_c):\n",
    "            l_case += svs[i][0]\n",
    "    \n",
    "    dp[value] = [s_case, l_case]\n",
    "    \n",
    "    yield\n",
    "    \n",
    "for _ in range(int(input())):\n",
    "    n, k = map(int, input().split())\n",
    "    ps = list(map(int, input().split()))\n",
    "    scs = [0] + list(map(int, input().split()))\n",
    "\n",
    "    dp = [[0] * 2 for _ in range(n + 1)]\n",
    "\n",
    "    li = [[] for _ in range(n + 1)]\n",
    "    for i in range(n - 1):\n",
    "        p = ps[i]\n",
    "        c = i + 2\n",
    "\n",
    "        li[p].append(c)\n",
    "\n",
    "    dfs(1, k, k)\n",
    "\n",
    "    result = max(dp[1])\n",
    "\n",
    "    print(result)"
   ]
  },
  {
   "cell_type": "markdown",
   "metadata": {},
   "source": [
    "https://codeforces.com/problemset/problem/1761/A A. Two Permutations"
   ]
  },
  {
   "cell_type": "code",
   "execution_count": 4,
   "metadata": {},
   "outputs": [
    {
     "name": "stdout",
     "output_type": "stream",
     "text": [
      "4 1 1\n",
      "Yes\n"
     ]
    }
   ],
   "source": [
    "import sys, os, io\n",
    "input = io.BytesIO(os.read(0,os.fstat(0).st_size)).readline\n",
    "\n",
    "for _ in range(int(input())):\n",
    "    n, a, b = map(int, input().split())\n",
    "\n",
    "    if n == a == b:\n",
    "        print('Yes')\n",
    "    else:\n",
    "        left = n - (a + b)\n",
    "\n",
    "        if left < 2:\n",
    "            print('No')\n",
    "        else:\n",
    "            print('Yes')"
   ]
  },
  {
   "cell_type": "markdown",
   "metadata": {},
   "source": [
    "https://codeforces.com/problemset/problem/1761/B B. Elimination of a Ring"
   ]
  },
  {
   "cell_type": "code",
   "execution_count": 8,
   "metadata": {},
   "outputs": [
    {
     "name": "stdout",
     "output_type": "stream",
     "text": [
      "2\n",
      "1 2\n",
      "2\n"
     ]
    }
   ],
   "source": [
    "import sys, os, io\n",
    "input = io.BytesIO(os.read(0,os.fstat(0).st_size)).readline\n",
    "\n",
    "for _ in range(int(input())):\n",
    "    n = int(input())\n",
    "    li = list(map(int, input().split()))\n",
    "\n",
    "    if n % 2 == 1:\n",
    "        print(n)\n",
    "    else:\n",
    "        if li == [li[0], li[1]] * (n // 2):\n",
    "            r = n - (n // 2 - 1)\n",
    "        else:\n",
    "            r = n\n",
    "\n",
    "        print(r)"
   ]
  },
  {
   "cell_type": "markdown",
   "metadata": {},
   "source": [
    "https://codeforces.com/contest/1783/problem/E E. Game of the Year"
   ]
  },
  {
   "cell_type": "code",
   "execution_count": null,
   "metadata": {},
   "outputs": [],
   "source": [
    "ceil(b / k) < x <= ceil(a / k)\n",
    "\n",
    "b < xk <= a\n",
    "\n",
    "b < 3x <= a\n",
    "\n",
    "1 2 3 4 5 6 7 8 9\n",
    "1 1 1 2 2 2 3 3 3\n",
    "\n",
    "ceil(1 / 3) < x <= ceil(3 / 3)\n",
    "\n",
    "1 < 3x <= 3\n",
    "\n"
   ]
  },
  {
   "cell_type": "code",
   "execution_count": null,
   "metadata": {},
   "outputs": [],
   "source": [
    "10 8\n",
    "\n",
    "       <<= <=<\n",
    "10 8 1  O   O\n",
    "5 4 2   O   O\n",
    "4 3 3   O   O\n",
    "3 2 4   X   O\n",
    "2 2 5   O   X\n",
    "2 2 6   X   X\n",
    "2 2 7   X   X\n",
    "2 1 8   X   O\n",
    "\n",
    "8 < kx <= 10\n",
    "\n",
    "-> 8 <= kx < 10\n",
    "   주어진 k가 불가능할 조건: 주어진 식을 만족하는 kx가 있음"
   ]
  },
  {
   "cell_type": "code",
   "execution_count": null,
   "metadata": {},
   "outputs": [],
   "source": [
    "8 9 10 11 12 \n",
    "2 3 3  3  3\n",
    "\n",
    "7 8 9\n",
    "2 2 3\n",
    "\n",
    "7 <= 4x < 9"
   ]
  },
  {
   "cell_type": "code",
   "execution_count": 5,
   "metadata": {},
   "outputs": [
    {
     "name": "stdout",
     "output_type": "stream",
     "text": [
      "4\n",
      "1 4 3 2\n",
      "3 3 4 1\n",
      "2\n",
      "2 4\n"
     ]
    }
   ],
   "source": [
    "import io, os, sys\n",
    "input = io.BytesIO(os.read(0,os.fstat(0).st_size)).readline\n",
    "\n",
    "for _ in range(int(input())):\n",
    "    n = int(input())\n",
    "    a = list(map(int, input().split()))\n",
    "    b = list(map(int, input().split()))\n",
    "\n",
    "    deltas = [0] * (n + 1)\n",
    "    for i in range(n):\n",
    "        av = a[i]\n",
    "        bv = b[i]\n",
    "\n",
    "        if av <= bv:\n",
    "            continue\n",
    "\n",
    "        deltas[bv] += 1\n",
    "        deltas[av] -= 1\n",
    "\n",
    "    cs = [0] * (n + 1)\n",
    "    cumul = 0\n",
    "    for i in range(n):\n",
    "        cumul += deltas[i]\n",
    "        cs[i] = cumul\n",
    "\n",
    "    result = []\n",
    "    for k in range(1, n + 1):\n",
    "        ip = True\n",
    "        for kx in range(k, n + 1, k):\n",
    "            if cs[kx] >= 1:\n",
    "                ip = False\n",
    "                break\n",
    "\n",
    "        if ip:\n",
    "            result.append(k)\n",
    "\n",
    "    print(len(result))\n",
    "    print(*result)"
   ]
  },
  {
   "cell_type": "markdown",
   "metadata": {},
   "source": [
    "https://codeforces.com/contest/1731/problem/E E. Graph Cost"
   ]
  },
  {
   "cell_type": "code",
   "execution_count": null,
   "metadata": {},
   "outputs": [],
   "source": [
    "dp[n] = n의 배수끼리의 조합의 수 - n을 제외한 dp[n의 배수]들의 합"
   ]
  },
  {
   "cell_type": "code",
   "execution_count": 14,
   "metadata": {},
   "outputs": [
    {
     "name": "stdout",
     "output_type": "stream",
     "text": [
      "10 11\n",
      "21\n"
     ]
    }
   ],
   "source": [
    "import io, os, sys\n",
    "input = io.BytesIO(os.read(0,os.fstat(0).st_size)).readline\n",
    "\n",
    "for _ in range(int(input())):\n",
    "    n, m = map(int, input().split())\n",
    "\n",
    "    dp = [0] * (n + 1)\n",
    "    for num in range(n, 0, -1):\n",
    "        multiples_pair_c = (n // num) * (n // num - 1) // 2\n",
    "\n",
    "        for nnum in range(num + num, n + 1, num):\n",
    "            multiples_pair_c -= dp[nnum]\n",
    "\n",
    "        dp[num] = multiples_pair_c\n",
    "\n",
    "    total_cost = 0\n",
    "\n",
    "    needed = m\n",
    "    for k in range(n - 1, 0, -1):\n",
    "        weight = k + 1\n",
    "        to_add = k\n",
    "\n",
    "        can_use = dp[weight] // to_add\n",
    "\n",
    "        to_use = needed // to_add\n",
    "        to_use = min(can_use, to_use)\n",
    "\n",
    "        total_cost += (k + 1) * to_use\n",
    "        needed -= to_add * to_use\n",
    "\n",
    "    if needed != 0:\n",
    "        print(-1)\n",
    "    else:\n",
    "        print(total_cost)"
   ]
  },
  {
   "cell_type": "markdown",
   "metadata": {},
   "source": [
    "https://codeforces.com/contest/1741/problem/F F. Multi-Colored Segments"
   ]
  },
  {
   "cell_type": "code",
   "execution_count": null,
   "metadata": {},
   "outputs": [],
   "source": [
    "from heapq import heappush, heappop\n",
    "\n",
    "inf = float('inf')\n",
    "\n",
    "n = int(input())\n",
    "li = [list(map(int, input().split())) + [i] for i in range(n)]\n",
    "\n",
    "result = [inf] * n\n",
    "\n",
    "li.sort(key=lambda x: x[0])\n",
    "\n",
    "heap = []\n",
    "for l, r, c, index in li:\n",
    "    if not rightests:\n",
    "        heappush(heap, (-r, c))\n",
    "    elif len(rightests) == 1:\n",
    "        fr1, fc1 = heap[0]\n",
    "        \n",
    "        if c != fc1:\n",
    "            if l <= fr1:\n",
    "                result[index] = 0\n",
    "            else:\n",
    "                dist = l - fr1"
   ]
  },
  {
   "cell_type": "markdown",
   "metadata": {},
   "source": [
    "https://codeforces.com/contest/1780/problem/F F. Three Chairs"
   ]
  },
  {
   "cell_type": "code",
   "execution_count": 46,
   "metadata": {},
   "outputs": [
    {
     "name": "stdout",
     "output_type": "stream",
     "text": [
      "10\n",
      "10 1 6 7 9 8 4 3 5 2\n",
      "77\n"
     ]
    }
   ],
   "source": [
    "from itertools import combinations as comb\n",
    "\n",
    "def nCk(n, k):\n",
    "    if n < k:\n",
    "        return 0\n",
    "    if k < 0:\n",
    "        return 0\n",
    "    \n",
    "    if n - k < k:\n",
    "        k = n - k\n",
    "        \n",
    "    num = 1\n",
    "    for i in range(n, n - k, -1):\n",
    "        num *= i\n",
    "    \n",
    "    denom = 1\n",
    "    for i in range(2, k + 1):\n",
    "        denom *= i\n",
    "        \n",
    "    return num // denom\n",
    "\n",
    "def get_sum_v(li):\n",
    "    if len(li) <= 1:\n",
    "        return 0\n",
    "    \n",
    "    diff = li[1] - li[0]\n",
    "    \n",
    "    cur = diff - 1\n",
    "    cumul = cur\n",
    "    \n",
    "    for i in range(2, len(li)):\n",
    "        diff = li[i] - li[i - 1]\n",
    "        \n",
    "        cur = cur + (i - 1) * diff + diff - 1\n",
    "        cumul += cur\n",
    "        \n",
    "    return cumul\n",
    "\n",
    "max_num = 300001\n",
    "sp = [0] * (max_num + 1)\n",
    "primes = []\n",
    "for i in range(2, max_num + 1):\n",
    "    if sp[i] == 0:\n",
    "        sp[i] = i\n",
    "        primes.append(i)\n",
    "        \n",
    "    j = 0\n",
    "    while j < len(primes) and i * primes[j] <= max_num and primes[j] <= sp[i]:\n",
    "        sp[i * primes[j]] = primes[j]\n",
    "        j += 1\n",
    "\n",
    "n = int(input())\n",
    "li = sorted(map(int, input().split()))\n",
    "   \n",
    "lens = [dict() for _ in range(7)]\n",
    "for i in range(n):\n",
    "    v = li[i]\n",
    "    \n",
    "    r = set()\n",
    "    while v > 1:\n",
    "        r.add(sp[v])\n",
    "        v //= sp[v]\n",
    "\n",
    "    for cur_len in range(1, len(r) + 1):\n",
    "        for case in comb(r, cur_len):\n",
    "            cur = 1\n",
    "            for v in case:\n",
    "                cur *= v\n",
    "            \n",
    "            if cur in lens[cur_len]:\n",
    "                lens[cur_len][cur].append(i)\n",
    "            else:\n",
    "                lens[cur_len][cur] = [i]\n",
    "    \n",
    "not_coprime_case_c = 0\n",
    "for cur_len in range(1, 7):\n",
    "    temp = 0\n",
    "    for indices in lens[cur_len].values():\n",
    "        temp += get_sum_v(indices)\n",
    "        \n",
    "    if cur_len % 2 == 1:\n",
    "        not_coprime_case_c += temp\n",
    "    else:\n",
    "        not_coprime_case_c -= temp\n",
    "        \n",
    "all_case_c = nCk(n, 3)\n",
    "\n",
    "result = all_case_c - not_coprime_case_c\n",
    "\n",
    "print(result)"
   ]
  },
  {
   "cell_type": "code",
   "execution_count": null,
   "metadata": {},
   "outputs": [],
   "source": [
    "0 2,5\n",
    "2 2,3\n",
    "3 7\n",
    "4 3\n",
    "5 2\n",
    "6 2\n",
    "7 3\n",
    "8 5\n",
    "9 2"
   ]
  },
  {
   "cell_type": "markdown",
   "metadata": {},
   "source": [
    "https://codeforces.com/problemset/problem/1777/E E. Edge Reverse"
   ]
  },
  {
   "cell_type": "code",
   "execution_count": 15,
   "metadata": {},
   "outputs": [
    {
     "name": "stdout",
     "output_type": "stream",
     "text": [
      "5 4\n"
     ]
    },
    {
     "ename": "ValueError",
     "evalue": "invalid literal for int() with base 10: '5 4'",
     "output_type": "error",
     "traceback": [
      "\u001b[1;31m---------------------------------------------------------------------------\u001b[0m",
      "\u001b[1;31mValueError\u001b[0m                                Traceback (most recent call last)",
      "\u001b[1;32m<ipython-input-15-aaa78e05e3e7>\u001b[0m in \u001b[0;36m<module>\u001b[1;34m\u001b[0m\n\u001b[0;32m     65\u001b[0m     \u001b[1;32myield\u001b[0m \u001b[0mmin_id\u001b[0m\u001b[1;33m\u001b[0m\u001b[1;33m\u001b[0m\u001b[0m\n\u001b[0;32m     66\u001b[0m \u001b[1;33m\u001b[0m\u001b[0m\n\u001b[1;32m---> 67\u001b[1;33m \u001b[1;32mfor\u001b[0m \u001b[0m_\u001b[0m \u001b[1;32min\u001b[0m \u001b[0mrange\u001b[0m\u001b[1;33m(\u001b[0m\u001b[0mint\u001b[0m\u001b[1;33m(\u001b[0m\u001b[0minput\u001b[0m\u001b[1;33m(\u001b[0m\u001b[1;33m)\u001b[0m\u001b[1;33m)\u001b[0m\u001b[1;33m)\u001b[0m\u001b[1;33m:\u001b[0m\u001b[1;33m\u001b[0m\u001b[1;33m\u001b[0m\u001b[0m\n\u001b[0m\u001b[0;32m     68\u001b[0m     \u001b[0mn\u001b[0m\u001b[1;33m,\u001b[0m \u001b[0mm\u001b[0m \u001b[1;33m=\u001b[0m \u001b[0mmap\u001b[0m\u001b[1;33m(\u001b[0m\u001b[0mint\u001b[0m\u001b[1;33m,\u001b[0m \u001b[0minput\u001b[0m\u001b[1;33m(\u001b[0m\u001b[1;33m)\u001b[0m\u001b[1;33m.\u001b[0m\u001b[0msplit\u001b[0m\u001b[1;33m(\u001b[0m\u001b[1;33m)\u001b[0m\u001b[1;33m)\u001b[0m\u001b[1;33m\u001b[0m\u001b[1;33m\u001b[0m\u001b[0m\n\u001b[0;32m     69\u001b[0m     \u001b[0medges\u001b[0m \u001b[1;33m=\u001b[0m \u001b[1;33m[\u001b[0m\u001b[0mlist\u001b[0m\u001b[1;33m(\u001b[0m\u001b[0mmap\u001b[0m\u001b[1;33m(\u001b[0m\u001b[0mint\u001b[0m\u001b[1;33m,\u001b[0m \u001b[0minput\u001b[0m\u001b[1;33m(\u001b[0m\u001b[1;33m)\u001b[0m\u001b[1;33m.\u001b[0m\u001b[0msplit\u001b[0m\u001b[1;33m(\u001b[0m\u001b[1;33m)\u001b[0m\u001b[1;33m)\u001b[0m\u001b[1;33m)\u001b[0m \u001b[1;32mfor\u001b[0m \u001b[0m_\u001b[0m \u001b[1;32min\u001b[0m \u001b[0mrange\u001b[0m\u001b[1;33m(\u001b[0m\u001b[0mm\u001b[0m\u001b[1;33m)\u001b[0m\u001b[1;33m]\u001b[0m\u001b[1;33m\u001b[0m\u001b[1;33m\u001b[0m\u001b[0m\n",
      "\u001b[1;31mValueError\u001b[0m: invalid literal for int() with base 10: '5 4'"
     ]
    }
   ],
   "source": [
    "from collections import deque\n",
    "import io, os, sys\n",
    "sys.setrecursionlimit(210000)\n",
    "input = io.BytesIO(os.read(0,os.fstat(0).st_size)).readline\n",
    "\n",
    "def dfs(value, mid):\n",
    "    global next_id\n",
    "    \n",
    "    stack.append(value)\n",
    "    on_stack[value] = True\n",
    "    min_id = ids[value]\n",
    "    \n",
    "    for v, w in li[value]:\n",
    "        if w > mid:\n",
    "            continue\n",
    "        \n",
    "        if ids[v] != 0:\n",
    "            if not on_stack[v]:\n",
    "                continue\n",
    "            min_id = min(min_id, low_ids[v])\n",
    "        else:\n",
    "            ids[v] = next_id\n",
    "            low_ids[v] = next_id\n",
    "            next_id += 1\n",
    "            temp = dfs(v, mid)\n",
    "            min_id = min(min_id, temp)\n",
    "        \n",
    "    low_ids[value] = min_id\n",
    "         \n",
    "    if ids[value] == low_ids[value]:\n",
    "        temp_r = []\n",
    "        while True:\n",
    "            v = stack.pop()\n",
    "            temp_r.append(v)\n",
    "            on_stack[v] = False\n",
    "            \n",
    "            if value == v:\n",
    "                break\n",
    "        scc.append(temp_r)\n",
    "        \n",
    "    return min_id\n",
    "    \n",
    "for _ in range(int(input())):\n",
    "    n, m = map(int, input().split())\n",
    "    \n",
    "    li = [[] for _ in range(n + 1)]\n",
    "    for _ in range(m):\n",
    "        a, b, w = map(int, input().split())\n",
    "\n",
    "        li[a].append((b, 0))\n",
    "        li[b].append((a, w))\n",
    "    \n",
    "    result = -1\n",
    "    start = 0\n",
    "    end = int(1e9)\n",
    "    while start <= end:\n",
    "        mid = (start + end) // 2\n",
    "\n",
    "        ids = [0] * (n + 1)\n",
    "        low_ids = [0] * (n + 1)\n",
    "        on_stack = [False] * (n + 1)\n",
    "        stack = []\n",
    "        scc = []\n",
    "        next_id = 1\n",
    "\n",
    "        for i in range(1, n + 1):\n",
    "            if ids[i] == 0:\n",
    "                ids[i] = next_id\n",
    "                low_ids[i] = next_id\n",
    "                next_id += 1\n",
    "                dfs(i, mid)\n",
    "\n",
    "        sp = scc[-1][-1]\n",
    "        \n",
    "        queue = deque()\n",
    "        queue.append(sp)\n",
    "        \n",
    "        vt = [False] * (n + 1)\n",
    "        vt[sp] = True\n",
    "        \n",
    "        vt_c = 1\n",
    "\n",
    "        while queue:\n",
    "            value = queue.popleft()\n",
    "\n",
    "            for v, w in li[value]:\n",
    "                if w > mid:\n",
    "                    continue\n",
    "                if vt[v]:\n",
    "                    continue\n",
    "                vt[v] = True\n",
    "                vt_c += 1\n",
    "                \n",
    "                queue.append(v)\n",
    "\n",
    "        if vt_c == n:\n",
    "            result = mid\n",
    "            end = mid - 1 \n",
    "        else:\n",
    "            start = mid + 1\n",
    "\n",
    "    print(result)"
   ]
  },
  {
   "cell_type": "code",
   "execution_count": 12,
   "metadata": {},
   "outputs": [],
   "source": [
    "del input"
   ]
  },
  {
   "cell_type": "code",
   "execution_count": 3,
   "metadata": {},
   "outputs": [],
   "source": [
    "def UnitFormats(a, b, word_break=False, plural_decider=False, aliases=False):\n",
    "    pass\n",
    "\n",
    "d =  {\n",
    "            \"liter\": UnitFormats(\"l\", \"litr\", word_break=False),\n",
    "            \"milliliter\": UnitFormats(\"ml\", \"mililitr\", word_break=False),\n",
    "            \"gallon\": UnitFormats(\"gal\", \"galon\", word_break=False),\n",
    "            \"square kilometer\": UnitFormats(\n",
    "                \"km²\", \"kilometr kwadratow\", plural_decider=lambda num: num > 1, word_break=False\n",
    "            ),\n",
    "            \"kilometer per hour\": UnitFormats(\"km/h\", \"kilometr na godzinę\", aliases=[\"kmph\"], word_break=False),\n",
    "            \"kilometer\": UnitFormats(\"km\", \"kilometr\", word_break=False),\n",
    "            \"gram\": UnitFormats(\"g\", \"gram\", word_break=False),\n",
    "            \"milligram\": UnitFormats(\"mg\", \"miligram\", word_break=False),\n",
    "            \"kilogram\": UnitFormats(\"kg\", \"kilogram\", aliases=[\"kilo\"], word_break=False),\n",
    "            \"tonne\": UnitFormats(\"t\", \"ton\", word_break=False),  # \"ton\" is used instead of the original form \"tona\"\n",
    "            # \"kwadratow\" is used instead of the original form \"kwadratowy\"\n",
    "            \"square meter\": UnitFormats(\"m²\", \"metr kwadratow\", plural_decider=lambda num: num > 1, word_break=False),\n",
    "            \"square millimeter\": UnitFormats(\n",
    "                \"mm²\", \"milimetr kwadratow\", plural_decider=lambda num: num > 1, word_break=False\n",
    "            ),\n",
    "            \"square centimeter\": UnitFormats(\n",
    "                \"cm²\", \"centymetr kwadratow\", plural_decider=lambda num: num > 1, word_break=False\n",
    "            ),\n",
    "            \"hectare\": UnitFormats(\"ha\", \"hektar\", word_break=False),\n",
    "            \"millimeter\": UnitFormats(\"mm\", \"milimetr\", word_break=False),\n",
    "            \"centimeter\": UnitFormats(\"cm\", \"centymetr\", word_break=False),\n",
    "            \"decimeter\": UnitFormats(\"dm\", \"decymetr\", word_break=False),\n",
    "            \"meter\": UnitFormats(\"m\", \"metr\", word_break=False),\n",
    "            \"yard\": UnitFormats(\"yd\", \"jard\", word_break=False),\n",
    "            \"celsius\": UnitFormats(\"°C\", \"stopień Celsjusza\", aliases=[\"stopni Celsjusza\"], word_break=False),\n",
    "            \"fahrenheit\": UnitFormats(\"°F\", \"stopień Fahrenheita\", aliases=[\"stopni Fahrenheita\"], word_break=False),\n",
    "        },"
   ]
  },
  {
   "cell_type": "code",
   "execution_count": 6,
   "metadata": {},
   "outputs": [
    {
     "data": {
      "text/plain": [
       "({'liter': None,\n",
       "  'milliliter': None,\n",
       "  'gallon': None,\n",
       "  'square kilometer': None,\n",
       "  'kilometer per hour': None,\n",
       "  'kilometer': None,\n",
       "  'gram': None,\n",
       "  'milligram': None,\n",
       "  'kilogram': None,\n",
       "  'tonne': None,\n",
       "  'square meter': None,\n",
       "  'square millimeter': None,\n",
       "  'square centimeter': None,\n",
       "  'hectare': None,\n",
       "  'millimeter': None,\n",
       "  'centimeter': None,\n",
       "  'decimeter': None,\n",
       "  'meter': None,\n",
       "  'yard': None,\n",
       "  'celsius': None,\n",
       "  'fahrenheit': None},)"
      ]
     },
     "execution_count": 6,
     "metadata": {},
     "output_type": "execute_result"
    }
   ],
   "source": [
    "d"
   ]
  }
 ],
 "metadata": {
  "kernelspec": {
   "display_name": "Python 3",
   "language": "python",
   "name": "python3"
  },
  "language_info": {
   "codemirror_mode": {
    "name": "ipython",
    "version": 3
   },
   "file_extension": ".py",
   "mimetype": "text/x-python",
   "name": "python",
   "nbconvert_exporter": "python",
   "pygments_lexer": "ipython3",
   "version": "3.8.3"
  }
 },
 "nbformat": 4,
 "nbformat_minor": 4
}
