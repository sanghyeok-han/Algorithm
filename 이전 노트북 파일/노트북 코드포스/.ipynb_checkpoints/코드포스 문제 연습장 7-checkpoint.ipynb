{
 "cells": [
  {
   "cell_type": "markdown",
   "metadata": {},
   "source": [
    "https://codeforces.com/contest/1762/problem/D D. GCD Queries"
   ]
  },
  {
   "cell_type": "code",
   "execution_count": null,
   "metadata": {},
   "outputs": [],
   "source": [
    "from collections import deque\n",
    "import sys\n",
    "input = lambda: sys.stdin.readline().rstrip()\n",
    "\n",
    "for _ in range(int(input())):\n",
    "    n = int(input())\n",
    "    \n",
    "    deq = deque(range(1, n + 1))\n",
    "    \n",
    "    while len(deq) >= 3:\n",
    "        x = deq.popleft()\n",
    "        y = deq.popleft()\n",
    "        z = deq.popleft()\n",
    "\n",
    "        print('?', x, y)\n",
    "        sys.stdout.flush()\n",
    "        r1 = int(input())   \n",
    "        \n",
    "        print('?', x, z)\n",
    "        sys.stdout.flush()\n",
    "        r2 = int(input())          \n",
    "        \n",
    "        if r1 == r2:\n",
    "            deq.appendleft(y)\n",
    "            deq.appendleft(z)\n",
    "        elif r1 > r2:\n",
    "            deq.appendleft(x)\n",
    "            deq.appendleft(y)\n",
    "        else:\n",
    "            deq.appendleft(x)\n",
    "            deq.appendleft(z)\n",
    "\n",
    "    print('!', deq[0], deq[1])\n",
    "    sys.stdout.flush()\n",
    "    result = int(input())\n",
    "    \n",
    "    if result == -1:\n",
    "        break"
   ]
  },
  {
   "cell_type": "markdown",
   "metadata": {},
   "source": [
    "https://codeforces.com/problemset/problem/1771/D D. Hossam and (sub-)palindromic tree"
   ]
  },
  {
   "cell_type": "code",
   "execution_count": 68,
   "metadata": {
    "scrolled": true
   },
   "outputs": [
    {
     "name": "stdout",
     "output_type": "stream",
     "text": [
      "1\n",
      "5\n",
      "aaaaa\n",
      "1 2\n",
      "2 3\n",
      "3 4\n",
      "4 5\n",
      "0 1 0\n",
      "0 0 1\n",
      "0 2 1\n",
      "0 1 1\n",
      "0 3 1\n",
      "0 2 1\n",
      "0 4 1\n",
      "0 3 1\n",
      "1 0 1\n",
      "1 1 0\n",
      "1 2 1\n",
      "1 1 2\n",
      "1 3 2\n",
      "1 2 2\n",
      "1 4 2\n",
      "1 3 2\n",
      "2 1 2\n",
      "2 0 1\n",
      "2 1 1\n",
      "2 2 1\n",
      "2 3 2\n",
      "2 2 3\n",
      "2 4 3\n",
      "2 3 3\n",
      "3 2 3\n",
      "3 1 2\n",
      "3 0 2\n",
      "3 1 2\n",
      "3 2 2\n",
      "3 3 2\n",
      "3 4 3\n",
      "3 3 4\n",
      "4 3 4\n",
      "4 2 3\n",
      "4 1 3\n",
      "4 0 3\n",
      "4 1 3\n",
      "4 2 3\n",
      "4 3 3\n",
      "4 4 3\n",
      "2 0 2 1 1\n",
      "2 1 3 2 2\n",
      "2 2 4 3 3\n",
      "3 0 3 1 2\n",
      "3 1 4 2 3\n",
      "4 0 4 1 3\n",
      "5\n"
     ]
    }
   ],
   "source": [
    "import io, os, sys\n",
    "sys.setrecursionlimit(3000)\n",
    "# input = io.BytesIO(os.read(0,os.fstat(0).st_size)).readline\n",
    "\n",
    "def dfs(value, cri, depth):\n",
    "    depths[value] = depth\n",
    "    \n",
    "    if cri == root:\n",
    "        cri = value\n",
    "        \n",
    "    for v in li[value]:\n",
    "        if depths[v] == -1:\n",
    "            to[root][v] = cri\n",
    "            dfs(v, cri, depth + 1)\n",
    "\n",
    "            if root < v:\n",
    "                dists[depths[v]].add((root, v))\n",
    "\n",
    "for _ in range(int(input())):\n",
    "    n = int(input())\n",
    "    s = input()\n",
    "\n",
    "    get_v = lambda x: int(x) - 1\n",
    "    li = [[] for _ in range(n)]\n",
    "    for _ in range(n - 1):\n",
    "        a, b = map(get_v, input().split())\n",
    "\n",
    "        li[a].append(b)\n",
    "        li[b].append(a)\n",
    "        \n",
    "    if n == 1:\n",
    "        print(1)\n",
    "    else:\n",
    "        to = [[-1] * n for _ in range(n)]\n",
    "\n",
    "        dists = [set() for _ in range(n)]\n",
    "        for root in range(n):\n",
    "            depths = [-1] * n\n",
    "            depths[root] = 0\n",
    "            dfs(root, root, 0)\n",
    "\n",
    "        dp = [[0] * n for _ in range(n)]\n",
    "        for i in range(n):\n",
    "            dp[i][i] = 1\n",
    "\n",
    "        max_r = 1\n",
    "\n",
    "        for a, b in dists[1]:\n",
    "            if s[a] == s[b]:\n",
    "                dp[a][b] = 2\n",
    "                max_r = 2\n",
    "            else:\n",
    "                dp[a][b] = 1\n",
    "\n",
    "        for dist in range(2, n):\n",
    "            for a, b in dists[dist]:\n",
    "                t1 = dp[to[a][b]][b]\n",
    "                t2 = dp[a][to[b][a]]\n",
    "                t3 = dp[to[a][b]][to[b][a]]\n",
    "                \n",
    "                if s[a] == s[b]:\n",
    "                    t3 += 2\n",
    "\n",
    "                dp[a][b] = max(t1, t2, t3)\n",
    "                max_r = max(max_r, dp[a][b])\n",
    "\n",
    "        print(max_r)"
   ]
  },
  {
   "cell_type": "code",
   "execution_count": 69,
   "metadata": {},
   "outputs": [
    {
     "data": {
      "text/plain": [
       "[[1], [0, 2], [1, 3], [2, 4], [3]]"
      ]
     },
     "execution_count": 69,
     "metadata": {},
     "output_type": "execute_result"
    }
   ],
   "source": [
    "li"
   ]
  }
 ],
 "metadata": {
  "kernelspec": {
   "display_name": "Python 3",
   "language": "python",
   "name": "python3"
  },
  "language_info": {
   "codemirror_mode": {
    "name": "ipython",
    "version": 3
   },
   "file_extension": ".py",
   "mimetype": "text/x-python",
   "name": "python",
   "nbconvert_exporter": "python",
   "pygments_lexer": "ipython3",
   "version": "3.8.3"
  }
 },
 "nbformat": 4,
 "nbformat_minor": 4
}
