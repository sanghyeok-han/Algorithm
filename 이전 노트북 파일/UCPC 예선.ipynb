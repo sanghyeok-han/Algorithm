{
 "cells": [
  {
   "cell_type": "markdown",
   "metadata": {},
   "source": [
    "### C"
   ]
  },
  {
   "cell_type": "code",
   "execution_count": null,
   "metadata": {},
   "outputs": [],
   "source": [
    "n = int(input())\n",
    "li = [[] for _ in range(n + 1)]\n",
    "\n",
    "for _ in range(n - 1):\n",
    "    s, e = map(int, input().split())\n",
    "    li[s].append(e)\n",
    "    li[e].append(s)\n",
    "    \n"
   ]
  },
  {
   "cell_type": "markdown",
   "metadata": {},
   "source": [
    "### I"
   ]
  },
  {
   "cell_type": "code",
   "execution_count": null,
   "metadata": {},
   "outputs": [],
   "source": [
    "n, m = map(int, input().split())\n",
    "xs = list(map(int, input().split()))\n",
    "mails = [list(map(int, input().split())) for _ in range(m)]\n",
    "\n"
   ]
  },
  {
   "cell_type": "code",
   "execution_count": null,
   "metadata": {},
   "outputs": [],
   "source": [
    "돌아가야 되는 사람은 자유 아닌가?`"
   ]
  },
  {
   "cell_type": "markdown",
   "metadata": {},
   "source": [
    "### J"
   ]
  },
  {
   "cell_type": "code",
   "execution_count": 10,
   "metadata": {},
   "outputs": [
    {
     "name": "stdout",
     "output_type": "stream",
     "text": [
      "2\n",
      "2 1\n",
      "NO\n"
     ]
    }
   ],
   "source": [
    "n = int(input())\n",
    "\n",
    "li = list(map(int, input().split()))\n",
    "sli = sorted(li)\n",
    "\n",
    "ip = True\n",
    "for i in range(n):\n",
    "    temp = li[i] * sli[i]\n",
    "    if temp ** 0.5 != int(round(temp ** 0.5, 5)):\n",
    "        ip = False\n",
    "        break\n",
    "        \n",
    "if ip:\n",
    "    print('YES')\n",
    "else:\n",
    "    print('NO')"
   ]
  },
  {
   "cell_type": "markdown",
   "metadata": {},
   "source": [
    "F"
   ]
  },
  {
   "cell_type": "code",
   "execution_count": null,
   "metadata": {},
   "outputs": [],
   "source": [
    "끊임없이 돌면서 가능한거 있으면 가져감\n",
    "\n",
    "하나 가져가려면 최대 100이 필요함\n"
   ]
  },
  {
   "cell_type": "code",
   "execution_count": 20,
   "metadata": {},
   "outputs": [
    {
     "name": "stdout",
     "output_type": "stream",
     "text": [
      "3 3 4\n",
      "icp\n",
      "cuc\n",
      "pci\n",
      "ucpc\n",
      "1 12\n",
      "DRPDPLPURRPD\n"
     ]
    }
   ],
   "source": [
    "from collections import defaultdict as dd\n",
    "import sys\n",
    "input = lambda: sys.stdin.readline().rstrip()\n",
    "\n",
    "n, m, s_len = map(int, input().split())\n",
    "li = [input() for _ in range(n)]\n",
    "\n",
    "d = dd(list)\n",
    "for i in range(n):\n",
    "    for j in range(m):\n",
    "        d[li[i][j]].append([i, j])\n",
    "    \n",
    "s = input()\n",
    "\n",
    "r = []\n",
    "temp = []\n",
    "si = 0\n",
    "rein = 0\n",
    "sx, sy = 0, 0\n",
    "x, y = 0, 0\n",
    "while True:\n",
    "    to_find = s[si]\n",
    "    if not d[to_find]:\n",
    "        nx, ny = n - 1, m - 1\n",
    "        x, y = sx, sy\n",
    "\n",
    "        while x > nx:\n",
    "            x -= 1\n",
    "            r.append('U')\n",
    "        while x < nx:\n",
    "            x += 1\n",
    "            r.append('D')\n",
    "        while y > ny:\n",
    "            y -= 1\n",
    "            r.append('L')\n",
    "        while y < ny:\n",
    "            y += 1\n",
    "            r.append('R')\n",
    "        break\n",
    "        \n",
    "    nx, ny = d[to_find].pop()\n",
    "    \n",
    "    while x > nx:\n",
    "        x -= 1\n",
    "        temp.append('U')\n",
    "    while x < nx:\n",
    "        x += 1\n",
    "        temp.append('D')\n",
    "    while y > ny:\n",
    "        y -= 1\n",
    "        temp.append('L')\n",
    "    while y < ny:\n",
    "        y += 1\n",
    "        temp.append('R')\n",
    "    temp.append('P')\n",
    "    \n",
    "    si += 1\n",
    "    if si == s_len:\n",
    "        rein += 1\n",
    "        r.extend(temp)\n",
    "        temp = []\n",
    "        sx, sy = x, y\n",
    "        si = 0\n",
    "    \n",
    "print(rein, len(r))\n",
    "print(''.join(r))"
   ]
  },
  {
   "cell_type": "markdown",
   "metadata": {},
   "source": [
    "G"
   ]
  },
  {
   "cell_type": "code",
   "execution_count": null,
   "metadata": {},
   "outputs": [],
   "source": [
    "1 ~ 2 * n까지 block이든 chain이든 있어야함\n",
    "\n",
    "같은 로봇의 block이 두 번 연속 있는 경우 그 사이에 다른 로봇의\n",
    "체인 연산이 무조건 있어야함\n",
    "\n",
    "각 로봇은 n개씩의 블록을 가지고 있음\n",
    "\n",
    "다른 로봇의 체인 연산 부분에 가장 작은 셋에 현재 넣을 수 있는 가장 작은 수를 찾아서 넣음?"
   ]
  },
  {
   "cell_type": "code",
   "execution_count": 25,
   "metadata": {},
   "outputs": [
    {
     "name": "stdout",
     "output_type": "stream",
     "text": [
      "sdf\n"
     ]
    },
    {
     "ename": "ValueError",
     "evalue": "invalid literal for int() with base 10: 'sdf'",
     "output_type": "error",
     "traceback": [
      "\u001b[1;31m---------------------------------------------------------------------------\u001b[0m",
      "\u001b[1;31mValueError\u001b[0m                                Traceback (most recent call last)",
      "\u001b[1;32m<ipython-input-25-adbd24cbb12b>\u001b[0m in \u001b[0;36m<module>\u001b[1;34m\u001b[0m\n\u001b[1;32m----> 1\u001b[1;33m \u001b[0mn\u001b[0m\u001b[1;33m,\u001b[0m \u001b[0mm\u001b[0m \u001b[1;33m=\u001b[0m \u001b[0mmap\u001b[0m\u001b[1;33m(\u001b[0m\u001b[0mint\u001b[0m\u001b[1;33m,\u001b[0m \u001b[0minput\u001b[0m\u001b[1;33m(\u001b[0m\u001b[1;33m)\u001b[0m\u001b[1;33m.\u001b[0m\u001b[0msplit\u001b[0m\u001b[1;33m(\u001b[0m\u001b[1;33m)\u001b[0m\u001b[1;33m)\u001b[0m\u001b[1;33m\u001b[0m\u001b[1;33m\u001b[0m\u001b[0m\n\u001b[0m\u001b[0;32m      2\u001b[0m \u001b[1;33m\u001b[0m\u001b[0m\n\u001b[0;32m      3\u001b[0m \u001b[0mnot_vt\u001b[0m \u001b[1;33m=\u001b[0m \u001b[0mset\u001b[0m\u001b[1;33m(\u001b[0m\u001b[0mrange\u001b[0m\u001b[1;33m(\u001b[0m\u001b[1;36m1\u001b[0m\u001b[1;33m,\u001b[0m \u001b[0mn\u001b[0m \u001b[1;33m*\u001b[0m \u001b[1;36m2\u001b[0m \u001b[1;33m+\u001b[0m \u001b[1;36m1\u001b[0m\u001b[1;33m)\u001b[0m\u001b[1;33m)\u001b[0m\u001b[1;33m\u001b[0m\u001b[1;33m\u001b[0m\u001b[0m\n\u001b[0;32m      4\u001b[0m \u001b[0mli\u001b[0m \u001b[1;33m=\u001b[0m \u001b[1;33m[\u001b[0m\u001b[1;33m]\u001b[0m\u001b[1;33m\u001b[0m\u001b[1;33m\u001b[0m\u001b[0m\n\u001b[0;32m      5\u001b[0m \u001b[0mfv\u001b[0m \u001b[1;33m=\u001b[0m \u001b[1;36m1\u001b[0m\u001b[1;33m\u001b[0m\u001b[1;33m\u001b[0m\u001b[0m\n",
      "\u001b[1;31mValueError\u001b[0m: invalid literal for int() with base 10: 'sdf'"
     ]
    }
   ],
   "source": [
    "# https://github.com/tatyam-prime/SortedSet/blob/main/SortedMultiset.py\n",
    "import math\n",
    "from bisect import bisect_left, bisect_right, insort\n",
    "from typing import Generic, Iterable, Iterator, TypeVar, Union, List\n",
    "T = TypeVar('T')\n",
    "\n",
    "class SortedMultiset(Generic[T]):\n",
    "    BUCKET_RATIO = 50\n",
    "    REBUILD_RATIO = 170\n",
    "\n",
    "    def _build(self, a=None) -> None:\n",
    "        \"Evenly divide `a` into buckets.\"\n",
    "        if a is None: a = list(self)\n",
    "        size = self.size = len(a)\n",
    "        bucket_size = int(math.ceil(math.sqrt(size / self.BUCKET_RATIO)))\n",
    "        self.a = [a[size * i // bucket_size : size * (i + 1) // bucket_size] for i in range(bucket_size)]\n",
    "    \n",
    "    def __init__(self, a: Iterable[T] = []) -> None:\n",
    "        \"Make a new SortedMultiset from iterable. / O(N) if sorted / O(N log N)\"\n",
    "        a = list(a)\n",
    "        if not all(a[i] <= a[i + 1] for i in range(len(a) - 1)):\n",
    "            a = sorted(a)\n",
    "        self._build(a)\n",
    "\n",
    "    def __iter__(self) -> Iterator[T]:\n",
    "        for i in self.a:\n",
    "            for j in i: yield j\n",
    "\n",
    "    def __reversed__(self) -> Iterator[T]:\n",
    "        for i in reversed(self.a):\n",
    "            for j in reversed(i): yield j\n",
    "    \n",
    "    def __len__(self) -> int:\n",
    "        return self.size\n",
    "    \n",
    "    def __repr__(self) -> str:\n",
    "        return \"SortedMultiset\" + str(self.a)\n",
    "    \n",
    "    def __str__(self) -> str:\n",
    "        s = str(list(self))\n",
    "        return \"{\" + s[1 : len(s) - 1] + \"}\"\n",
    "\n",
    "    def _find_bucket(self, x: T) -> List[T]:\n",
    "        \"Find the bucket which should contain x. self must not be empty.\"\n",
    "        for a in self.a:\n",
    "            if x <= a[-1]: return a\n",
    "        return a\n",
    "\n",
    "    def __contains__(self, x: T) -> bool:\n",
    "        if self.size == 0: return False\n",
    "        a = self._find_bucket(x)\n",
    "        i = bisect_left(a, x)\n",
    "        return i != len(a) and a[i] == x\n",
    "\n",
    "    def count(self, x: T) -> int:\n",
    "        \"Count the number of x.\"\n",
    "        return self.index_right(x) - self.index(x)\n",
    "\n",
    "    def add(self, x: T) -> None:\n",
    "        \"Add an element. / O(√N)\"\n",
    "        if self.size == 0:\n",
    "            self.a = [[x]]\n",
    "            self.size = 1\n",
    "            return\n",
    "        a = self._find_bucket(x)\n",
    "        insort(a, x)\n",
    "        self.size += 1\n",
    "        if len(a) > len(self.a) * self.REBUILD_RATIO:\n",
    "            self._build()\n",
    "\n",
    "    def discard(self, x: T) -> bool:\n",
    "        \"Remove an element and return True if removed. / O(√N)\"\n",
    "        if self.size == 0: return False\n",
    "        a = self._find_bucket(x)\n",
    "        i = bisect_left(a, x)\n",
    "        if i == len(a) or a[i] != x: return False\n",
    "        a.pop(i)\n",
    "        self.size -= 1\n",
    "        if len(a) == 0: self._build()\n",
    "        return True\n",
    "\n",
    "    def lt(self, x: T) -> Union[T, None]:\n",
    "        \"Find the largest element < x, or None if it doesn't exist.\"\n",
    "        for a in reversed(self.a):\n",
    "            if a[0] < x:\n",
    "                return a[bisect_left(a, x) - 1]\n",
    "\n",
    "    def le(self, x: T) -> Union[T, None]:\n",
    "        \"Find the largest element <= x, or None if it doesn't exist.\"\n",
    "        for a in reversed(self.a):\n",
    "            if a[0] <= x:\n",
    "                return a[bisect_right(a, x) - 1]\n",
    "\n",
    "    def gt(self, x: T) -> Union[T, None]:\n",
    "        \"Find the smallest element > x, or None if it doesn't exist.\"\n",
    "        for a in self.a:\n",
    "            if a[-1] > x:\n",
    "                return a[bisect_right(a, x)]\n",
    "\n",
    "    def ge(self, x: T) -> Union[T, None]:\n",
    "        \"Find the smallest element >= x, or None if it doesn't exist.\"\n",
    "        for a in self.a:\n",
    "            if a[-1] >= x:\n",
    "                return a[bisect_left(a, x)]\n",
    "    \n",
    "    def __getitem__(self, x: int) -> T:\n",
    "        \"Return the x-th element, or IndexError if it doesn't exist.\"\n",
    "        if x < 0: x += self.size\n",
    "        if x < 0: raise IndexError\n",
    "        for a in self.a:\n",
    "            if x < len(a): return a[x]\n",
    "            x -= len(a)\n",
    "        raise IndexError\n",
    "\n",
    "    def index(self, x: T) -> int:\n",
    "        \"Count the number of elements < x.\"\n",
    "        ans = 0\n",
    "        for a in self.a:\n",
    "            if a[-1] >= x:\n",
    "                return ans + bisect_left(a, x)\n",
    "            ans += len(a)\n",
    "        return ans\n",
    "\n",
    "    def index_right(self, x: T) -> int:\n",
    "        \"Count the number of elements <= x.\"\n",
    "        ans = 0\n",
    "        for a in self.a:\n",
    "            if a[-1] > x:\n",
    "                return ans + bisect_right(a, x)\n",
    "            ans += len(a)\n",
    "        return ans\n",
    "\n",
    "n, m = map(int, input().split())\n",
    "\n",
    "not_vt = SortedMultiset()\n",
    "for i in range(1, n * 2 + 1):\n",
    "    not_vt.add(i)\n",
    "    \n",
    "stacks = SortedMultiset()\n",
    "\n",
    "li = []\n",
    "fv = 1\n",
    "for _ in range(m):\n",
    "    tp, _, b_num = input().split()\n",
    "    if tp == 'A':\n",
    "        r_num = 0\n",
    "    else:\n",
    "        r_num = 1\n",
    "    \n",
    "    b_num = int(b_num)\n",
    "    not_vt.discard(b_num)\n",
    "    if r_num == fv:\n",
    "        li.append([r_num ^ 1, '?'])\n",
    "        li.append([r_num, b_num])\n",
    "    else:\n",
    "        li.append([r_num, b_num])\n",
    "        fv = r_num\n",
    "\n",
    "for i in range(len(li)):\n",
    "    \n",
    "    if li[i][1] != '?':\n",
    "        stacks.add(li[i][1])\n",
    "    else:\n",
    "        stacks[0] 위에 올릴 수 있는 가장 작은게 뭘까?"
   ]
  },
  {
   "cell_type": "code",
   "execution_count": null,
   "metadata": {},
   "outputs": [],
   "source": [
    "from bisect import bisect_left\n",
    "\n",
    "li = [2, 4, 6]\n",
    "bisect_left(li, )"
   ]
  },
  {
   "cell_type": "code",
   "execution_count": null,
   "metadata": {},
   "outputs": [],
   "source": []
  },
  {
   "cell_type": "code",
   "execution_count": null,
   "metadata": {},
   "outputs": [],
   "source": [
    "A8 A1 B3 B6 A4\n",
    "A8 B? A1 B3 A? B6 A4\n",
    " \n",
    "A8 B9 A1 B3 A    \n",
    "\n",
    "8, 1, 3, 6, 4\n",
    "\n"
   ]
  },
  {
   "cell_type": "code",
   "execution_count": null,
   "metadata": {},
   "outputs": [],
   "source": [
    "2, 5, 7, 9, 10, 11, 12"
   ]
  },
  {
   "cell_type": "code",
   "execution_count": null,
   "metadata": {},
   "outputs": [],
   "source": []
  }
 ],
 "metadata": {
  "kernelspec": {
   "display_name": "Python 3",
   "language": "python",
   "name": "python3"
  },
  "language_info": {
   "codemirror_mode": {
    "name": "ipython",
    "version": 3
   },
   "file_extension": ".py",
   "mimetype": "text/x-python",
   "name": "python",
   "nbconvert_exporter": "python",
   "pygments_lexer": "ipython3",
   "version": "3.8.3"
  }
 },
 "nbformat": 4,
 "nbformat_minor": 4
}
