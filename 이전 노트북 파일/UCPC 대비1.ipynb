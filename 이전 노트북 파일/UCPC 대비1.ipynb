{
 "cells": [
  {
   "cell_type": "code",
   "execution_count": 21,
   "metadata": {},
   "outputs": [
    {
     "name": "stdout",
     "output_type": "stream",
     "text": [
      "15 3 7\n",
      "226.33446923960295\n"
     ]
    }
   ],
   "source": [
    "a, d, k = map(int, input().split())\n",
    "\n",
    "result = 0\n",
    "w = 1\n",
    "cur = d * 0.01\n",
    "tried = 1\n",
    "while True:\n",
    "    result += tried * w * cur\n",
    "    if cur == 1:\n",
    "        break\n",
    "    w *= (1 - cur)\n",
    "    cur = min(1, cur + (k / 100) * cur)\n",
    "    \n",
    "    tried += 1\n",
    "\n",
    "    \n",
    "result *= a\n",
    "print(result)"
   ]
  },
  {
   "cell_type": "code",
   "execution_count": null,
   "metadata": {},
   "outputs": [],
   "source": [
    " 첫 번째 (50%)  두 번째 (75%)   100%\n",
    "    1              2             3\n",
    "    "
   ]
  },
  {
   "cell_type": "code",
   "execution_count": 5,
   "metadata": {},
   "outputs": [
    {
     "data": {
      "text/plain": [
       "1.625"
      ]
     },
     "execution_count": 5,
     "metadata": {},
     "output_type": "execute_result"
    }
   ],
   "source": [
    "1 * 0.5 + 2 * 0.5 * 0.75 + 3 * 0.5 * 0.25"
   ]
  },
  {
   "cell_type": "code",
   "execution_count": null,
   "metadata": {},
   "outputs": [],
   "source": [
    "새 레이팅 계산\n",
    "min(1, cur + (k / 100) * cur)"
   ]
  },
  {
   "cell_type": "code",
   "execution_count": 6,
   "metadata": {},
   "outputs": [
    {
     "data": {
      "text/plain": [
       "0.5"
      ]
     },
     "execution_count": 6,
     "metadata": {},
     "output_type": "execute_result"
    }
   ],
   "source": [
    "cur = 50\n",
    "cur * 0.01"
   ]
  },
  {
   "cell_type": "code",
   "execution_count": 2,
   "metadata": {},
   "outputs": [
    {
     "data": {
      "text/plain": [
       "0.75"
      ]
     },
     "execution_count": 2,
     "metadata": {},
     "output_type": "execute_result"
    }
   ],
   "source": [
    "cur = 0.5\n",
    "\n",
    "cur + cur / 2"
   ]
  },
  {
   "cell_type": "markdown",
   "metadata": {},
   "source": [
    "https://www.acmicpc.net/problem/22355"
   ]
  },
  {
   "cell_type": "code",
   "execution_count": null,
   "metadata": {},
   "outputs": [],
   "source": [
    "1      3\n",
    "4,1   1,3\n",
    "\n",
    "올,박\n",
    "4,1   1,3   "
   ]
  },
  {
   "cell_type": "code",
   "execution_count": null,
   "metadata": {},
   "outputs": [],
   "source": [
    "맞출 높이별 삼분탐색, 각 말뚝별로 해당 높이로 맞추기 위해 필요한 최소 힘의 양,\n",
    "슬라이딩 윈도우를 통해서 k개를 연속으로 해당 높이를 맞추기 위해 필요한 최소 힘의 양\n"
   ]
  },
  {
   "cell_type": "code",
   "execution_count": 82,
   "metadata": {},
   "outputs": [
    {
     "name": "stdout",
     "output_type": "stream",
     "text": [
      "5 3\n",
      "1 2 3 2 1\n",
      "1 3 1 3 4\n",
      "1 3 5 3 1\n",
      "5\n"
     ]
    }
   ],
   "source": [
    "import sys\n",
    "# input = lambda: sys.stdin.readline().rstrip()\n",
    "\n",
    "inf = float('inf')\n",
    "\n",
    "def get_value(s, e, th):\n",
    "    total = 0\n",
    "    for i in range(s, e + 1):\n",
    "        diff = abs(li[i] - th)\n",
    "        if li[i] > th:\n",
    "            total += to_down[i] * diff\n",
    "        elif li[i] < th:\n",
    "            total += to_up[i] * diff\n",
    "\n",
    "    return total\n",
    "\n",
    "n, k = map(int, input().split())\n",
    "li = list(map(int, input().split()))\n",
    "to_up = list(map(int, input().split()))\n",
    "to_down = list(map(int, input().split()))\n",
    "   \n",
    "min_r = float('inf')\n",
    "for e in range(k - 1, n):\n",
    "    s = e - (k - 1)\n",
    "    \n",
    "    start = 1\n",
    "    end = 100000\n",
    "    while start <= end:\n",
    "        mid1 = (start * 2 + end) // 3\n",
    "        mid2 = (start + end * 2) // 3\n",
    "\n",
    "        t1 = get_value(s, e, mid1)\n",
    "        t2 = get_value(s, e, mid2)\n",
    "\n",
    "        min_r = min(min_r, t1, t2)\n",
    "\n",
    "        if end - start <= 4:\n",
    "            for mid in range(start, end + 1):\n",
    "                min_r = min(min_r, get_value(s, e, mid))\n",
    "            break\n",
    "\n",
    "        if t1 >= t2:\n",
    "            start = mid1\n",
    "        else:\n",
    "            end = mid2\n",
    "            \n",
    "print(min_r)"
   ]
  },
  {
   "cell_type": "code",
   "execution_count": 83,
   "metadata": {},
   "outputs": [
    {
     "data": {
      "text/plain": [
       "1980000000"
      ]
     },
     "execution_count": 83,
     "metadata": {},
     "output_type": "execute_result"
    }
   ],
   "source": []
  },
  {
   "cell_type": "code",
   "execution_count": 65,
   "metadata": {},
   "outputs": [
    {
     "data": {
      "text/plain": [
       "(2, 2)"
      ]
     },
     "execution_count": 65,
     "metadata": {},
     "output_type": "execute_result"
    }
   ],
   "source": [
    "4 2\n",
    "1 2 3 4\n",
    "4 3 2 1\n",
    "1 2 3 4\n",
    "1 2\n",
    "2 3\n",
    "3 3\n",
    "4 2\n",
    "\n",
    "4 3\n",
    "1 2 3 4\n",
    "4 3 2 1\n",
    "1 2 3 4\n",
    "1 8\n",
    "2 7\n",
    "3 7\n",
    "4 8\n",
    "\n",
    "4 4\n",
    "1 2 3 4\n",
    "4 3 2 1\n",
    "1 2 3 4\n",
    "1 20\n",
    "2 15\n",
    "3 15\n",
    "4 20"
   ]
  },
  {
   "cell_type": "code",
   "execution_count": null,
   "metadata": {},
   "outputs": [],
   "source": [
    "가장 낮은 애를 절대 높이면 안되는 경우도 가능함"
   ]
  },
  {
   "cell_type": "code",
   "execution_count": null,
   "metadata": {},
   "outputs": [],
   "source": [
    "8 4\n",
    "h    1 2 3 4 5 6 7 8\n",
    "up   8 7 6 5 4 3 2 1\n",
    "down 1 2 3 4 5 6 7 8\n",
    "\n"
   ]
  },
  {
   "cell_type": "code",
   "execution_count": 47,
   "metadata": {},
   "outputs": [],
   "source": [
    "def get_value(th):\n",
    "    nli = [0] * n\n",
    "    for i in range(n):\n",
    "        diff = abs(li[i] - th)\n",
    "        if li[i] > th:\n",
    "            nli[i] = to_down[i] * diff\n",
    "        elif li[i] < th:\n",
    "            nli[i] = to_up[i] * diff\n",
    "    \n",
    "    min_v = inf\n",
    "    cur = 0\n",
    "    for i in range(k):\n",
    "        cur += nli[i]\n",
    "        \n",
    "    min_v = cur\n",
    "    for i in range(k, n):\n",
    "        cur -= nli[i - k]\n",
    "        cur += nli[i]\n",
    "        min_v = min(min_v, cur)\n",
    "        \n",
    "    return min_v"
   ]
  },
  {
   "cell_type": "markdown",
   "metadata": {},
   "source": [
    "H"
   ]
  },
  {
   "cell_type": "markdown",
   "metadata": {},
   "source": [
    "1\n",
    "2\n",
    "3\n",
    "4\n",
    "N"
   ]
  },
  {
   "cell_type": "code",
   "execution_count": 96,
   "metadata": {},
   "outputs": [
    {
     "name": "stdout",
     "output_type": "stream",
     "text": [
      "3 3 1 1 3\n",
      "1 2 10\n",
      "2 3 5\n",
      "1 3 1\n",
      "30\n"
     ]
    }
   ],
   "source": [
    "from heapq import heappush, heappop\n",
    "import sys\n",
    "# input = lambda: sys.stdin.readline().rstrip()\n",
    "\n",
    "n, m, k, s, dest = map(int, input().split())\n",
    "\n",
    "li = [[] for _ in range(n + 1)]\n",
    "for _ in range(m):\n",
    "    a, b, t = map(int, input().split())\n",
    "    li[a].append((b, t))\n",
    "    li[b].append((a, t))\n",
    "    \n",
    "dp = [[-1] * (k + 1) for _ in range(n + 1)]\n",
    "dp[s][k] = 0\n",
    "heap = [(0, s, k)]\n",
    "while heap:\n",
    "    sc, value, rd, = heappop(heap)\n",
    "    sc = -sc\n",
    "    if sc < dp[value][rd]:\n",
    "        continue\n",
    "    \n",
    "    for v, t in li[value]:\n",
    "        if value < v:\n",
    "            nsc = sc + t\n",
    "            if nsc > dp[v][rd]:\n",
    "                dp[v][rd] = nsc\n",
    "                heappush(heap, (-nsc, v, rd))\n",
    "        elif rd:\n",
    "            nrd = rd - 1\n",
    "            if sc > dp[v][nrd]:\n",
    "                dp[v][nrd] = sc\n",
    "                heappush(heap, (-sc, v, nrd))\n",
    "    \n",
    "max_r = -1\n",
    "for rd in range(k + 1):\n",
    "    max_r = max(max_r, dp[dest][rd])\n",
    "    \n",
    "print(max_r)"
   ]
  },
  {
   "cell_type": "markdown",
   "metadata": {},
   "source": [
    "## 그리디 연습"
   ]
  },
  {
   "cell_type": "markdown",
   "metadata": {},
   "source": [
    "### 버스 노선 10165"
   ]
  },
  {
   "cell_type": "code",
   "execution_count": null,
   "metadata": {},
   "outputs": [],
   "source": [
    "9, 0 부분을 포함하는 것하고 그렇지 않은 것하고 구분해서 나눠 풀면 어떨까?"
   ]
  },
  {
   "cell_type": "code",
   "execution_count": 105,
   "metadata": {},
   "outputs": [
    {
     "name": "stdout",
     "output_type": "stream",
     "text": [
      "20\n",
      "4\n",
      "14 17\n",
      "18 3\n",
      "8 6\n",
      "9 13\n",
      "14 [(9, 13, 3)]\n",
      "3 4\n"
     ]
    }
   ],
   "source": [
    "from heapq import heappush, heappop\n",
    "import sys\n",
    "input = lambda: sys.stdin.readline().rstrip()\n",
    "\n",
    "inf = float('inf')\n",
    "\n",
    "n = int(input())\n",
    "m = int(input())\n",
    "\n",
    "no_90 = []\n",
    "yes_90 = []\n",
    "for num in range(m):\n",
    "    a, b = map(int, input().split())\n",
    "    \n",
    "    if a < b:\n",
    "        no_90.append((a, b, num))\n",
    "    else:\n",
    "        yes_90.append((a, b, num))\n",
    "    \n",
    "no_90.sort(key=lambda x: (x[0], -x[1]))\n",
    "\n",
    "cur_start = -1\n",
    "max_end = -1\n",
    "n_no_90 = []\n",
    "for s, e, num in no_90:\n",
    "    if cur_start == s:\n",
    "        continue\n",
    "    cur_start = s\n",
    "    if e > max_end:\n",
    "        max_end = e\n",
    "        n_no_90.append((s, e, num))\n",
    "\n",
    "max_e = -1\n",
    "min_s = inf\n",
    "for s, e, _ in yes_90:\n",
    "    max_e = max(max_e, e)\n",
    "    min_s = min(min_s, s)\n",
    "    \n",
    "n_no_90.sort(key=lambda x: -x[1])\n",
    "while n_no_90:\n",
    "    if n_no_90[-1][1] <= max_e:\n",
    "        n_no_90.pop()\n",
    "    else:\n",
    "        break\n",
    "        \n",
    "n_no_90.sort(key=lambda x: x[0])\n",
    "while n_no_90:\n",
    "    if n_no_90[-1][0] >= min_s:\n",
    "        n_no_90.pop()\n",
    "    else:\n",
    "        break\n",
    "        \n",
    "heap = [] # (e, num)\n",
    "yes_90.sort(key=lambda x: (-x[0], -x[1]))\n",
    "cur_s = -1\n",
    "for s, e, num in yes_90:\n",
    "    if cur_s == s:\n",
    "        continue\n",
    "    cur_s = s\n",
    "    \n",
    "    while heap:\n",
    "        if e >= heap[0][0]:\n",
    "            heappop(heap)\n",
    "        else:\n",
    "            break\n",
    "            \n",
    "    heappush(heap, (e, num))\n",
    "    \n",
    "result = [v[2] + 1 for v in n_no_90]\n",
    "for _, num in heap:\n",
    "    result.append(num + 1)\n",
    "    \n",
    "result.sort()\n",
    "\n",
    "print(*result)"
   ]
  },
  {
   "cell_type": "code",
   "execution_count": 104,
   "metadata": {},
   "outputs": [
    {
     "data": {
      "text/plain": [
       "([(0, 4, 0), (2, 6, 1), (7, 9, 3)], [(9, 4, 4), (5, 0, 2)])"
      ]
     },
     "execution_count": 104,
     "metadata": {},
     "output_type": "execute_result"
    }
   ],
   "source": [
    "n_no_90에서 시작점이 큰 애들도 필요 없을 수 있음"
   ]
  },
  {
   "cell_type": "code",
   "execution_count": null,
   "metadata": {},
   "outputs": [],
   "source": [
    "n = int(input())\n",
    "li = list(map(int, input().split()))\n",
    "\n",
    "for _ in range(n):\n"
   ]
  },
  {
   "cell_type": "code",
   "execution_count": null,
   "metadata": {},
   "outputs": [],
   "source": [
    "[9, 5]는 [9, 3]를 포함\n",
    "\n",
    "[8, 5]는 [9, 5]를 포함"
   ]
  },
  {
   "cell_type": "code",
   "execution_count": null,
   "metadata": {},
   "outputs": [],
   "source": [
    "[8, 0], [9, 8]\n",
    "\n"
   ]
  },
  {
   "cell_type": "code",
   "execution_count": null,
   "metadata": {},
   "outputs": [],
   "source": [
    "8, 9, 0\n",
    "9, 0, 1, 2, 3, 4, 5, 6, 7, 8\n",
    "9, 0, 1, 2\n",
    "7, 8, 9, 0, 1\n",
    "\n"
   ]
  },
  {
   "cell_type": "markdown",
   "metadata": {},
   "source": [
    "### 스터디 그룹 14572"
   ]
  },
  {
   "cell_type": "code",
   "execution_count": null,
   "metadata": {},
   "outputs": [],
   "source": [
    "모든 학생을 사용하는 것이 유리함\n",
    "카운트만 세는 식으로 두 포인터를 함"
   ]
  },
  {
   "cell_type": "code",
   "execution_count": null,
   "metadata": {},
   "outputs": [],
   "source": [
    "from collections import defaultdict as dd\n",
    "import sys\n",
    "input = lambda: sys.stdin.readline().rstrip()\n",
    "\n",
    "n, k, d = map(int, input().split())\n",
    "li = []\n",
    "for _ in range(n):\n",
    "    _, abil = map(int, input().split())\n",
    "    algos = list(map(int, input().split()))\n",
    "    li.append([abil, algos])\n",
    "    \n",
    "li.sort(key=lambda x: x[0])\n",
    "\n",
    "s = 0\n",
    "e = -1\n",
    "ct = dd(int)\n",
    "all_kc = 0\n",
    "    \n",
    "max_r = 0\n",
    "while True:\n",
    "    if e + 1 == n:\n",
    "        break\n",
    "    if li[e + 1][0] - li[s][0] > d:\n",
    "        for v in li[s][1]:\n",
    "            ct[v] -= 1\n",
    "            if ct[v] == 0:\n",
    "                all_kc -= 1\n",
    "        s += 1\n",
    "    else:\n",
    "        e += 1\n",
    "        common_kc = 0\n",
    "        for v in li[e][1]:\n",
    "            ct[v] += 1\n",
    "            if ct[v] == 1:\n",
    "                all_kc += 1\n",
    "            if ct[v] == e - s + 1:\n",
    "                common_kc += 1\n",
    "                \n",
    "        max_r = max(max_r, (all_kc - common_kc) * (e - s + 1))\n",
    "        \n",
    "print(max_r)"
   ]
  },
  {
   "cell_type": "markdown",
   "metadata": {},
   "source": [
    "### Escaping 20041"
   ]
  },
  {
   "cell_type": "code",
   "execution_count": null,
   "metadata": {},
   "outputs": [],
   "source": [
    "도둑이 4방향 중 한 방향으로 계속 갔을 때 과연 잡을 수 있는 경찰이 각 방향마다 있는가를\n",
    "보면 됨"
   ]
  },
  {
   "cell_type": "code",
   "execution_count": 108,
   "metadata": {},
   "outputs": [
    {
     "name": "stdout",
     "output_type": "stream",
     "text": [
      "2\n",
      "1 5\n",
      "5 1\n",
      "3 3\n",
      "NO\n"
     ]
    }
   ],
   "source": [
    "import sys\n",
    "input = lambda: sys.stdin.readline().rstrip()\n",
    "\n",
    "n = int(input())\n",
    "li = [list(map(int, input().split())) for _ in range(n)]\n",
    "sx, sy = map(int, input().split())\n",
    "\n",
    "can_esc = False\n",
    "\n",
    "# to up\n",
    "can_catch = False\n",
    "for x, y in li:\n",
    "    if y <= sy:\n",
    "        continue\n",
    "    \n",
    "    x_diff = abs(sx - x)\n",
    "    y_diff = abs(sy - y)\n",
    "    \n",
    "    x_diff = max(0, x_diff - y_diff)\n",
    "    if x_diff == 0:\n",
    "        can_catch = True\n",
    "        break\n",
    "        \n",
    "if not can_catch:\n",
    "    can_esc = True\n",
    "    \n",
    "# to down\n",
    "can_catch = False\n",
    "for x, y in li:\n",
    "    if y >= sy:\n",
    "        continue\n",
    "    \n",
    "    x_diff = abs(sx - x)\n",
    "    y_diff = abs(sy - y)\n",
    "    \n",
    "    x_diff = max(0, x_diff - y_diff)\n",
    "    if x_diff == 0:\n",
    "        can_catch = True\n",
    "        break\n",
    "        \n",
    "if not can_catch:\n",
    "    can_esc = True\n",
    "    \n",
    "# to right\n",
    "can_catch = False\n",
    "for x, y in li:\n",
    "    if x <= sx:\n",
    "        continue\n",
    "    \n",
    "    y_diff = abs(sy - y)\n",
    "    x_diff = abs(sx - x)\n",
    "    \n",
    "    y_diff = max(0, y_diff - x_diff)\n",
    "    if y_diff == 0:\n",
    "        can_catch = True\n",
    "        break\n",
    "        \n",
    "if not can_catch:\n",
    "    can_esc = True\n",
    "       \n",
    "# to left\n",
    "can_catch = False\n",
    "for x, y in li:\n",
    "    if x >= sx:\n",
    "        continue\n",
    "    \n",
    "    y_diff = abs(sy - y)\n",
    "    x_diff = abs(sx - x)\n",
    "    \n",
    "    y_diff = max(0, y_diff - x_diff)\n",
    "    if y_diff == 0:\n",
    "        can_catch = True\n",
    "        break\n",
    "        \n",
    "if not can_catch:\n",
    "    can_esc = True\n",
    "    \n",
    "if can_esc:\n",
    "    print('YES')\n",
    "else:\n",
    "    print('NO')"
   ]
  },
  {
   "cell_type": "markdown",
   "metadata": {},
   "source": [
    "### 미네크래프트 15708"
   ]
  },
  {
   "cell_type": "code",
   "execution_count": 109,
   "metadata": {},
   "outputs": [
    {
     "name": "stdout",
     "output_type": "stream",
     "text": [
      "6 17 1\n",
      "3 5 2 6 9 1\n",
      "4\n"
     ]
    }
   ],
   "source": [
    "from heapq import heappush, heappop\n",
    "\n",
    "n, t, p = map(int, input().split())\n",
    "li = list(map(int, input().split()))\n",
    "\n",
    "heap = []\n",
    "sv = 0\n",
    "max_r = 0\n",
    "t += p\n",
    "for i in range(n):\n",
    "    t -= p\n",
    "    heappush(heap, -li[i])\n",
    "    sv += li[i]\n",
    "    \n",
    "    while heap and sv > t:\n",
    "        v = heappop(heap)\n",
    "        v = -v\n",
    "        sv -= v\n",
    "        \n",
    "    max_r = max(max_r, len(heap))\n",
    "    \n",
    "print(max_r)"
   ]
  },
  {
   "cell_type": "markdown",
   "metadata": {},
   "source": [
    "### 소방서의 고민 2180"
   ]
  },
  {
   "cell_type": "code",
   "execution_count": 131,
   "metadata": {},
   "outputs": [
    {
     "data": {
      "text/plain": [
       "1"
      ]
     },
     "execution_count": 131,
     "metadata": {},
     "output_type": "execute_result"
    }
   ],
   "source": [
    "from random import randint\n",
    "li = [1, 2, 4]\n",
    "randint(0, len(li) - 1)"
   ]
  },
  {
   "cell_type": "code",
   "execution_count": null,
   "metadata": {},
   "outputs": [],
   "source": [
    "ua + ub + va * (ua + ub) + vb, va + vb + ua * (va + vb) + ub\n",
    "\n",
    "ua + va * ub\n",
    "va + ua * vb"
   ]
  },
  {
   "cell_type": "code",
   "execution_count": 146,
   "metadata": {},
   "outputs": [
    {
     "name": "stdout",
     "output_type": "stream",
     "text": [
      "3\n",
      "2 0\n",
      "1 2\n",
      "0 3\n",
      "5\n"
     ]
    }
   ],
   "source": [
    "import functools\n",
    "import sys\n",
    "# input = lambda: sys.stdin.readline().rstrip()\n",
    "\n",
    "def compare(u, v):\n",
    "    ua, ub = u\n",
    "    va, vb = v\n",
    "    \n",
    "    r1 = va * ub\n",
    "    r2 = ua * vb\n",
    "    \n",
    "    if ua == 0:\n",
    "        return 1\n",
    "    elif va == 0:\n",
    "        return -1\n",
    "    elif ub == vb == 0:\n",
    "        if ua > va:\n",
    "            return 1\n",
    "        else:\n",
    "            return -1\n",
    "    else:\n",
    "        return r1 - r2\n",
    "\n",
    "n = int(input())\n",
    "li = [list(map(int, input().split())) for _ in range(n)]\n",
    "\n",
    "li.sort(key=functools.cmp_to_key(compare))\n",
    "\n",
    "mod = 40000\n",
    "t = 0\n",
    "for a, b in li:\n",
    "    cur = a * t + b\n",
    "    cur %= mod\n",
    "    t += cur\n",
    "    t %= mod\n",
    "    \n",
    "print(t)"
   ]
  },
  {
   "cell_type": "markdown",
   "metadata": {},
   "source": [
    "### 전화 복구 2911"
   ]
  },
  {
   "cell_type": "code",
   "execution_count": 150,
   "metadata": {},
   "outputs": [
    {
     "name": "stdout",
     "output_type": "stream",
     "text": [
      "3 9\n",
      "7 2\n",
      "8 3\n",
      "3 4\n",
      "5\n"
     ]
    }
   ],
   "source": [
    "import sys\n",
    "input = lambda: sys.stdin.readline().rstrip()\n",
    "\n",
    "n, m = map(int, input().split())\n",
    "li = [list(map(int, input().split())) for _ in range(n)]\n",
    "li.sort(key=lambda x: x[0])\n",
    "\n",
    "total = 0\n",
    "cur = 0\n",
    "for _, v in li:\n",
    "    if v <= cur:\n",
    "        cur = v\n",
    "    else:\n",
    "        total += v - cur\n",
    "        cur = v\n",
    "        \n",
    "print(total)"
   ]
  },
  {
   "cell_type": "markdown",
   "metadata": {},
   "source": [
    "### 마스크가 필요해 19580"
   ]
  },
  {
   "cell_type": "code",
   "execution_count": null,
   "metadata": {},
   "outputs": [],
   "source": [
    "작은 금액의 마스크일 수록 R이 더 작은 사람이 가져야 하나?\n",
    "\n",
    "L이 커버 가능한 사람 중에서 R이 가장 작은 사람이 가져가야 하나?"
   ]
  },
  {
   "cell_type": "code",
   "execution_count": 155,
   "metadata": {},
   "outputs": [
    {
     "name": "stdout",
     "output_type": "stream",
     "text": [
      "3 3\n",
      "3 5\n",
      "10 15\n",
      "5 10\n",
      "4 1\n",
      "5 1\n",
      "16 3\n",
      "2\n"
     ]
    }
   ],
   "source": [
    "from heapq import heappush, heappop\n",
    "import sys\n",
    "input = lambda: sys.stdin.readline().rstrip()\n",
    "\n",
    "n, m = map(int, input().split())\n",
    "li = [list(map(int, input().split())) for _ in range(n)]\n",
    "price = [list(map(int, input().split())) for _ in range(m)]\n",
    "\n",
    "li.sort(key=lambda x: x[0])\n",
    "price.sort(key=lambda x: x[0])\n",
    "\n",
    "heap = []\n",
    "total = 0\n",
    "i = 0\n",
    "for pi in range(m):\n",
    "    while i < n and li[i][0] <= price[pi][0]:\n",
    "        heappush(heap, li[i][1])\n",
    "        i += 1        \n",
    "\n",
    "    while heap and price[pi][1]:\n",
    "        if heap[0] < price[pi][0]:\n",
    "            heappop(heap)\n",
    "        else:\n",
    "            heappop(heap)\n",
    "            price[pi][1] -= 1\n",
    "            total += 1\n",
    "            \n",
    "print(total)"
   ]
  }
 ],
 "metadata": {
  "kernelspec": {
   "display_name": "Python 3",
   "language": "python",
   "name": "python3"
  },
  "language_info": {
   "codemirror_mode": {
    "name": "ipython",
    "version": 3
   },
   "file_extension": ".py",
   "mimetype": "text/x-python",
   "name": "python",
   "nbconvert_exporter": "python",
   "pygments_lexer": "ipython3",
   "version": "3.8.3"
  }
 },
 "nbformat": 4,
 "nbformat_minor": 4
}
