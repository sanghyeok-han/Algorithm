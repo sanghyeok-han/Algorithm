{
 "cells": [
  {
   "cell_type": "markdown",
   "metadata": {},
   "source": [
    "### 숫자 빈도수 14912"
   ]
  },
  {
   "cell_type": "code",
   "execution_count": 2,
   "metadata": {},
   "outputs": [
    {
     "name": "stdout",
     "output_type": "stream",
     "text": [
      "100 3\n",
      "20\n"
     ]
    }
   ],
   "source": [
    "n, d = map(int, input().split())\n",
    "d = str(d)\n",
    "\n",
    "total = 0\n",
    "for i in range(1, n + 1):\n",
    "    total += str(i).count(d)\n",
    "print(total)"
   ]
  },
  {
   "cell_type": "markdown",
   "metadata": {},
   "source": [
    "### LCA 11437"
   ]
  },
  {
   "cell_type": "code",
   "execution_count": 8,
   "metadata": {},
   "outputs": [
    {
     "name": "stdout",
     "output_type": "stream",
     "text": [
      "[0, 0, 1, 1, 2, 2, 2, 3, 3, 4, 4, 5, 5, 7, 7, 11]\n"
     ]
    }
   ],
   "source": [
    "from collections import deque\n",
    "import sys\n",
    "# input = lambda: sys.stdin.readline().rstrip()\n",
    "# print = sys.stdout.write\n",
    "\n",
    "n = int(input())\n",
    "li = [[] for _ in range(n + 1)]\n",
    "for _ in range(n - 1):\n",
    "    a, b = map(int, input().split())\n",
    "    li[a].append(b)\n",
    "    li[b].append(a)\n",
    "    \n",
    "parent = [0] * (n + 1)\n",
    "visited = [False] * (n + 1)\n",
    "visited[1] = True\n",
    "\n",
    "queue = deque()\n",
    "queue.append(1)\n",
    "while queue:\n",
    "    value = queue.popleft()\n",
    "    for v in li[value]:\n",
    "        if not visited[v]:\n",
    "            visited[v] = True\n",
    "            parent[v] = value\n",
    "            queue.append(v)\n",
    "    \n",
    "m = int(input())\n",
    "for _ in range(m):\n",
    "    a, b = map(int, input().split())\n",
    "    \n",
    "    visited = [False] * (n + 1)\n",
    "    while a:\n",
    "        visited[a] = True\n",
    "        a = parent[a]\n",
    "\n",
    "    while True:\n",
    "        if visited[b]:\n",
    "            print(str(b) + '\\n')\n",
    "            break\n",
    "        b = parent[b]"
   ]
  },
  {
   "cell_type": "markdown",
   "metadata": {},
   "source": [
    "### 좋은 구간 1059"
   ]
  },
  {
   "cell_type": "code",
   "execution_count": 51,
   "metadata": {},
   "outputs": [
    {
     "name": "stdout",
     "output_type": "stream",
     "text": [
      "1\n",
      "3\n",
      "1\n",
      "1\n"
     ]
    }
   ],
   "source": [
    "l = int(input())\n",
    "li = list(map(int, input().split()))\n",
    "li.append(0)\n",
    "li.sort()\n",
    "n = int(input())\n",
    "\n",
    "if n in li:\n",
    "    print(0)\n",
    "else:\n",
    "    start = end = float('inf')\n",
    "    for i in range(1, l + 1):\n",
    "        if li[i - 1] < n < li[i]:\n",
    "            start = li[i - 1] + 1\n",
    "            end = li[i] - 1\n",
    "            break\n",
    "    result = (n - start) * (end - n) + end - start\n",
    "    print(result)"
   ]
  },
  {
   "cell_type": "markdown",
   "metadata": {},
   "source": [
    "### -2진수 2089"
   ]
  },
  {
   "cell_type": "code",
   "execution_count": 126,
   "metadata": {},
   "outputs": [
    {
     "name": "stdout",
     "output_type": "stream",
     "text": [
      "9\n",
      "11110\n"
     ]
    }
   ],
   "source": [
    "# 반례: 9\n",
    "n = int(input())\n",
    "abs_n = abs(n)\n",
    "\n",
    "li = []\n",
    "over_count = 0\n",
    "i = 0\n",
    "while True:\n",
    "    value = (-2) ** i\n",
    "    if abs(value) >= abs_n:\n",
    "        over_count += 1\n",
    "        if over_count == 3:\n",
    "            break\n",
    "    li.append(a ** i)\n",
    "    i += 1\n",
    "    \n",
    "li.reverse()\n",
    "\n",
    "if n in li:\n",
    "    result = [1] + [0] * (len(li) - li.index(n) - 1)\n",
    "else:\n",
    "    result = [1]\n",
    "    current = li[0]\n",
    "    for value in li[1:]:\n",
    "        if current < n and value > 0:\n",
    "            current += value\n",
    "            result.append(1)\n",
    "            continue\n",
    "        if current > n and value < 0:\n",
    "            current += value\n",
    "            result.append(1)\n",
    "            continue\n",
    "        result.append(0)\n",
    "        continue\n",
    "        \n",
    "    if current != n:\n",
    "        result = [1]\n",
    "        current = li[1]\n",
    "        for value in li[2:]:\n",
    "            if current < n and value > 0:\n",
    "                current += value\n",
    "                result.append(1)\n",
    "                continue\n",
    "            if current > n and value < 0:\n",
    "                current += value\n",
    "                result.append(1)\n",
    "                continue\n",
    "            result.append(0)\n",
    "            continue\n",
    "\n",
    "print(''.join(map(str, result)))"
   ]
  },
  {
   "cell_type": "code",
   "execution_count": 167,
   "metadata": {},
   "outputs": [
    {
     "name": "stdout",
     "output_type": "stream",
     "text": [
      "0\n",
      "0\n"
     ]
    }
   ],
   "source": [
    "n = int(input())\n",
    "\n",
    "if n == 0:\n",
    "    print(0)\n",
    "else:\n",
    "    result = []\n",
    "    while n != 0:\n",
    "        remainder = n % (-2)\n",
    "        n = n // (-2)\n",
    "        if remainder == -1:\n",
    "            remainder = 1\n",
    "            n += 1\n",
    "        result.append(remainder)\n",
    "\n",
    "    print(''.join(map(str, result[::-1])))"
   ]
  },
  {
   "cell_type": "markdown",
   "metadata": {},
   "source": [
    "### 소-난다! 19699"
   ]
  },
  {
   "cell_type": "code",
   "execution_count": 170,
   "metadata": {},
   "outputs": [
    {
     "name": "stdout",
     "output_type": "stream",
     "text": [
      "5 3\n",
      "2 4 10 5 8\n",
      "11 17 19 23\n"
     ]
    }
   ],
   "source": [
    "from itertools import combinations\n",
    "\n",
    "n, m = map(int, input().split())\n",
    "li = list(map(int, input().split()))\n",
    "\n",
    "max_num = 1000 * m\n",
    "primes = [False, False] + [True] * (max_num - 1) \n",
    "for mod in range(2, int(max_num ** 0.5) + 1):\n",
    "    if primes[mod]:\n",
    "        for value in range(mod * mod, max_num + 1, mod):\n",
    "            primes[value] = False\n",
    "            \n",
    "c = combinations(li, m)\n",
    "st = set()\n",
    "for case in c:\n",
    "    sum_value = sum(case)\n",
    "    if primes[sum_value]:\n",
    "        st.add(sum_value)\n",
    "        \n",
    "if not st:\n",
    "    print(-1)\n",
    "else:\n",
    "    print(*sorted(st))"
   ]
  },
  {
   "cell_type": "markdown",
   "metadata": {},
   "source": [
    "### 소수 쌍 1017"
   ]
  },
  {
   "cell_type": "code",
   "execution_count": null,
   "metadata": {},
   "outputs": [],
   "source": [
    "첫 번째 것 빼고 전부 연결해놓음\n",
    "마지막에 첫 번째 것을 각각의 것과 확인하면서 가능하지 카운트를 셈\n",
    "같은 것과 연결 못하게 함\n",
    "\n",
    "첫 번째 수를 제외한 나머지는 첫 번째 수와 연결되는 것을 원하지 않으며 자신보다 큰 수하고만 연결할 수 있음\n",
    "\n",
    "마지막의 assigned를 고정시킨 후에 첫 번째 수와 다른 나머지를 차례대로 돌려보면서 가능한 케이스를 확인함"
   ]
  },
  {
   "cell_type": "code",
   "execution_count": null,
   "metadata": {},
   "outputs": [],
   "source": [
    "1  1\n",
    "4  4\n",
    "7  7\n",
    "10 10\n",
    "11 11\n",
    "12 12"
   ]
  },
  {
   "cell_type": "code",
   "execution_count": null,
   "metadata": {},
   "outputs": [],
   "source": [
    "### 각각은 d:인덱스: 값으로 관리함"
   ]
  },
  {
   "cell_type": "code",
   "execution_count": 177,
   "metadata": {},
   "outputs": [
    {
     "name": "stdout",
     "output_type": "stream",
     "text": [
      "[[1, 3, 5], [2], [1, 3, 5], [2], [5], [2, 4]]\n"
     ]
    }
   ],
   "source": [
    "max_num = 2000\n",
    "is_prime = [False, False] + [True] * (max_num - 1)\n",
    "for mod in range(2, int(max_num ** 0.5) + 1):\n",
    "    if is_prime[mod]:\n",
    "        for value in range(mod * mod, max_num + 1, mod):\n",
    "            is_prime[value] = False\n",
    "\n",
    "# n = int(input())\n",
    "# values = list(map(int, input().split()))\n",
    "\n",
    "possibles = [[] for _ in range(n)]\n",
    "for _from in range(n):\n",
    "    for cand in range(n):\n",
    "        if _from == cand:\n",
    "            continue\n",
    "        if cand == 0:\n",
    "            continue\n",
    "        if is_prime[values[_from] + values[cand]]:\n",
    "            possibles[_from].append(cand)\n",
    "            \n",
    "print(possibles)"
   ]
  },
  {
   "cell_type": "code",
   "execution_count": 180,
   "metadata": {},
   "outputs": [
    {
     "data": {
      "text/plain": [
       "[[1, 3, 5], [2], [1, 3, 5], [2], [5], [2, 4]]"
      ]
     },
     "execution_count": 180,
     "metadata": {},
     "output_type": "execute_result"
    }
   ],
   "source": [
    "possibles"
   ]
  },
  {
   "cell_type": "code",
   "execution_count": 196,
   "metadata": {},
   "outputs": [
    {
     "name": "stdout",
     "output_type": "stream",
     "text": [
      "-1\n"
     ]
    }
   ],
   "source": [
    "max_num = 2000\n",
    "is_prime = [False, False] + [True] * (max_num - 1)\n",
    "for mod in range(2, int(max_num ** 0.5) + 1):\n",
    "    if is_prime[mod]:\n",
    "        for value in range(mod * mod, max_num + 1, mod):\n",
    "            is_prime[value] = False\n",
    "\n",
    "# n = int(input())\n",
    "# values = list(map(int, input().split()))\n",
    "\n",
    "possibles = [[] for _ in range(n)]\n",
    "for _from in range(n):\n",
    "    for cand in range(n):\n",
    "        if _from == cand:\n",
    "            continue\n",
    "        if cand == 0:\n",
    "            continue\n",
    "        if is_prime[values[_from] + values[cand]]:\n",
    "            possibles[_from].append(cand)\n",
    "\n",
    "def dfs(value):\n",
    "    for v in possibles[value]:\n",
    "        if visited[v]:\n",
    "            continue\n",
    "        visited[v] = True\n",
    "        if assigned[v] == -1 or dfs(v):\n",
    "            assigned[v] = value\n",
    "            return True\n",
    "    return False\n",
    "\n",
    "assigned = [-1] * n\n",
    "count = 0\n",
    "for value in range(1, n):\n",
    "    if assigned[value] != -1:\n",
    "        continue\n",
    "    visited = [False] * n\n",
    "    visited[value] = True\n",
    "    if dfs(value):\n",
    "        count += 1\n",
    "        \n",
    "if count != n // 2 - 1:\n",
    "    print(-1)\n",
    "else:\n",
    "    o_assigned = assigned[:]\n",
    "    value = 0\n",
    "\n",
    "    result = set()\n",
    "    for v in possibles[value]:\n",
    "        visited[value] = True\n",
    "        visited = [False] * n\n",
    "        assigned = o_assigned[:]\n",
    "        visited[v] = True\n",
    "        if assigned[v] == -1 or dfs(v):\n",
    "            result.add(values[v])\n",
    "    print(result)"
   ]
  },
  {
   "cell_type": "markdown",
   "metadata": {},
   "source": [
    "### 컨닝 1014"
   ]
  },
  {
   "cell_type": "code",
   "execution_count": 21,
   "metadata": {},
   "outputs": [
    {
     "data": {
      "text/plain": [
       "['...', '...']"
      ]
     },
     "execution_count": 21,
     "metadata": {},
     "output_type": "execute_result"
    }
   ],
   "source": [
    "# n, m = map(int, input().split())\n",
    "# li = [input() for _ in range(n)]\n",
    "\n",
    "n, m = 2, 3\n",
    "s = '''...\n",
    "...'''\n",
    "li = [v for v in s.split('\\n')]"
   ]
  },
  {
   "cell_type": "code",
   "execution_count": 47,
   "metadata": {},
   "outputs": [
    {
     "data": {
      "text/plain": [
       "512"
      ]
     },
     "execution_count": 47,
     "metadata": {},
     "output_type": "execute_result"
    }
   ],
   "source": [
    "1 << 9"
   ]
  },
  {
   "cell_type": "code",
   "execution_count": null,
   "metadata": {},
   "outputs": [],
   "source": []
  },
  {
   "cell_type": "code",
   "execution_count": 89,
   "metadata": {},
   "outputs": [
    {
     "name": "stdout",
     "output_type": "stream",
     "text": [
      "1\n",
      "3 3\n",
      "x..\n",
      "x..\n",
      "x..\n",
      "3\n"
     ]
    }
   ],
   "source": [
    "def update_row_init(i):\n",
    "    dp[i].update({0: 0})\n",
    "    for j in range(m):\n",
    "        if li[i][j] == 'x':\n",
    "            continue\n",
    "        else:\n",
    "            temp = dict()\n",
    "            temp[1 << j] = 1\n",
    "            for key, value in dp[i].items():\n",
    "                if j >= 1 and (key & (1 << (j - 1))):\n",
    "                    continue\n",
    "                nkey = key | (1 << j)\n",
    "                nvalue = value + 1\n",
    "                temp[nkey] = nvalue\n",
    "            dp[i].update(temp)\n",
    "\n",
    "def get_impossible_coord(key):\n",
    "    result = 0\n",
    "    for j in range(m):\n",
    "        if key & (1 << j):\n",
    "            for nj in (j - 1, j + 1):\n",
    "                if nj < 0 or nj >= m:\n",
    "                    continue\n",
    "                result |= 1 << nj\n",
    "    return result\n",
    "\n",
    "for _ in range(int(input())):\n",
    "    n, m = map(int, input().split())\n",
    "    li = [input() for _ in range(n)]\n",
    "\n",
    "    dp = [dict() for _ in range(n)]\n",
    "\n",
    "    update_row_init(0)\n",
    "    for i in range(1, n):\n",
    "        update_row_init(i)\n",
    "        for key in dp[i].keys():\n",
    "            max_added = 0\n",
    "            for former_key in dp[i - 1].keys():\n",
    "                if get_impossible_coord(key) & former_key:\n",
    "                    continue\n",
    "                max_added = max(max_added, dp[i - 1][former_key])\n",
    "            dp[i][key] += max_added\n",
    "\n",
    "    print(max(dp[n - 1].values()))"
   ]
  },
  {
   "cell_type": "code",
   "execution_count": 79,
   "metadata": {},
   "outputs": [
    {
     "data": {
      "text/plain": [
       "{1: 1, 2: 1, 4: 1, 5: 2}"
      ]
     },
     "execution_count": 79,
     "metadata": {},
     "output_type": "execute_result"
    }
   ],
   "source": [
    "dp[i - 1]"
   ]
  },
  {
   "cell_type": "code",
   "execution_count": 77,
   "metadata": {},
   "outputs": [
    {
     "data": {
      "text/plain": [
       "'0b111'"
      ]
     },
     "execution_count": 77,
     "metadata": {},
     "output_type": "execute_result"
    }
   ],
   "source": [
    "def get_impossible_coord(key):\n",
    "    result = 0\n",
    "    for j in range(m):\n",
    "        if key & (1 << j):\n",
    "            for nj in (j - 1, j + 1):\n",
    "                if nj < 0 or nj >= m:\n",
    "                    continue\n",
    "                result |= 1 << nj\n",
    "    return result\n",
    "\n"
   ]
  },
  {
   "cell_type": "code",
   "execution_count": null,
   "metadata": {},
   "outputs": [],
   "source": []
  },
  {
   "cell_type": "code",
   "execution_count": 70,
   "metadata": {},
   "outputs": [
    {
     "name": "stdout",
     "output_type": "stream",
     "text": [
      "0b1\n",
      "0b10\n",
      "0b100\n",
      "0b101\n"
     ]
    }
   ],
   "source": [
    "for v in dp[0]:\n",
    "    print(bin(v))"
   ]
  },
  {
   "cell_type": "code",
   "execution_count": null,
   "metadata": {},
   "outputs": [],
   "source": [
    "001\n",
    "010\n",
    "100\n",
    "101"
   ]
  },
  {
   "cell_type": "code",
   "execution_count": 58,
   "metadata": {},
   "outputs": [],
   "source": [
    "dp = [dict() for _ in range(n)]"
   ]
  },
  {
   "cell_type": "code",
   "execution_count": 59,
   "metadata": {},
   "outputs": [
    {
     "data": {
      "text/plain": [
       "[{}, {}]"
      ]
     },
     "execution_count": 59,
     "metadata": {},
     "output_type": "execute_result"
    }
   ],
   "source": [
    "dp"
   ]
  },
  {
   "cell_type": "code",
   "execution_count": 31,
   "metadata": {},
   "outputs": [
    {
     "data": {
      "text/plain": [
       "{1101: 3, 11011: 3, 11101: 4, 11010: 1, 111011: 3}"
      ]
     },
     "execution_count": 31,
     "metadata": {},
     "output_type": "execute_result"
    }
   ],
   "source": [
    "{1101: 3, 11011: 3, 11101: 4, 11010: 1, 111011: 3}"
   ]
  },
  {
   "cell_type": "code",
   "execution_count": 55,
   "metadata": {},
   "outputs": [
    {
     "name": "stdout",
     "output_type": "stream",
     "text": [
      "10\n",
      "1\n"
     ]
    }
   ],
   "source": [
    "s = input()\n",
    "seq = list(s)\n",
    "\n",
    "cnt = 0\n",
    "tp = [i for i in range(1, len(seq)) if seq[i] != seq[i - 1]]\n",
    "\n",
    "odd = len(tp)%2  # odd means seq[0] != seq[-1]\n",
    "seq0=0\n",
    "seq1=0\n",
    "\n",
    "if seq[0] == '0':\n",
    "    if odd:\n",
    "        seq0 = len(tp) // 2 + 1\n",
    "        seq1 = len(tp) // 2 + 1\n",
    "    else:\n",
    "        seq0 = len(tp) // 2 + 1\n",
    "        seq1 = len(tp) // 2\n",
    "else:\n",
    "    if odd:\n",
    "        seq0 = len(tp) // 2 + 1\n",
    "        seq1 = len(tp) // 2 + 1\n",
    "    else:\n",
    "        seq0 = len(tp) // 2\n",
    "        seq1 = len(tp) // 2 + 1\n",
    "\n",
    "tp = [i for i in range(1, len(seq)) if seq[i] != seq[i-1]]\n",
    "\n",
    "print(min(seq0, seq1))\n"
   ]
  },
  {
   "cell_type": "markdown",
   "metadata": {},
   "source": [
    "### 달리기 16930"
   ]
  },
  {
   "cell_type": "code",
   "execution_count": 36,
   "metadata": {},
   "outputs": [
    {
     "name": "stdout",
     "output_type": "stream",
     "text": [
      "3 4 1\n",
      "....\n",
      "###.\n",
      "....\n",
      "1 1 3 1\n",
      "8\n"
     ]
    }
   ],
   "source": [
    "from collections import deque\n",
    "import sys\n",
    "# input = lambda: sys.stdin.readline().rstrip()\n",
    "\n",
    "n, m, k = map(int, input().split())\n",
    "li = [input() for _ in range(n)]\n",
    "get_value = lambda x: int(x) - 1\n",
    "sx, sy, ex, ey = map(get_value, input().split())\n",
    "\n",
    "# 하우상좌\n",
    "dx = [1, 0, -1, 0]\n",
    "dy = [0, 1, 0, -1]\n",
    "\n",
    "def bfs():\n",
    "    dists = [[-1] * m for _ in range(n)]\n",
    "    dists[sx][sy] = 0\n",
    "\n",
    "    queue = deque()\n",
    "    queue.append((sx, sy, -1, False))\n",
    "    while queue:\n",
    "        x, y, d, is_ended = queue.popleft()\n",
    "\n",
    "        for nd in range(4):\n",
    "            if d != -1 and (d + 2) % 4 == nd:\n",
    "                continue\n",
    "            if not is_ended and d == nd:\n",
    "                continue\n",
    "\n",
    "            n_is_ended = False\n",
    "            nx = x + dx[nd]\n",
    "            ny = y + dy[nd]\n",
    "            for added in range(k):\n",
    "                if added == k - 1:\n",
    "                    n_is_ended = True\n",
    "                if nx < 0 or nx >= n or ny < 0 or ny >= m:\n",
    "                    break\n",
    "                if li[nx][ny] == '#':\n",
    "                    break\n",
    "                if dists[nx][ny] != -1:\n",
    "                    if dists[nx][ny] <= dists[x][y]:\n",
    "                        break\n",
    "                else:\n",
    "                    dists[nx][ny] = dists[x][y] + 1\n",
    "                    if nx == ex and ny == ey:\n",
    "                        return dists[nx][ny]\n",
    "                    \n",
    "                    queue.append((nx, ny, nd, n_is_ended))\n",
    "                    \n",
    "                nx += dx[nd]\n",
    "                ny += dy[nd]\n",
    "                    \n",
    "    return -1\n",
    "\n",
    "print(bfs())"
   ]
  },
  {
   "cell_type": "markdown",
   "metadata": {},
   "source": [
    "### 늑대와 양 16956"
   ]
  },
  {
   "cell_type": "code",
   "execution_count": 38,
   "metadata": {},
   "outputs": [
    {
     "name": "stdout",
     "output_type": "stream",
     "text": [
      "DDSDDD\n",
      "DDSDWD\n",
      "DSDDDD\n",
      "DDWDDD\n",
      "DDDWDD\n",
      "DDDDDD\n"
     ]
    }
   ],
   "source": [
    "r, c = map(int, input().split())\n",
    "li = [list(input()) for _ in range(r)]\n",
    "\n",
    "def check():\n",
    "    di = [-1, 1, 0, 0]\n",
    "    dj = [0, 0, -1, 1]\n",
    "    \n",
    "    for i in range(r):\n",
    "        for j in range(c):\n",
    "            if li[i][j] == '.':\n",
    "                li[i][j] = 'D'\n",
    "            elif li[i][j] == 'S':\n",
    "                for k in range(4):\n",
    "                    ni = i + di[k]\n",
    "                    nj = j + dj[k]\n",
    "                    \n",
    "                    if ni < 0 or ni >= r or nj < 0 or nj >= c:\n",
    "                        continue\n",
    "                    if li[ni][nj] == 'W':\n",
    "                        return False\n",
    "    return True\n",
    "\n",
    "if not check():\n",
    "    print(0)\n",
    "else:\n",
    "    print(1)\n",
    "    for v in li:\n",
    "        print(''.join(v))"
   ]
  },
  {
   "cell_type": "markdown",
   "metadata": {},
   "source": [
    "### 바이러스 2606"
   ]
  },
  {
   "cell_type": "code",
   "execution_count": 41,
   "metadata": {},
   "outputs": [
    {
     "name": "stdout",
     "output_type": "stream",
     "text": [
      "7\n",
      "6\n",
      "1 2\n",
      "2 3\n",
      "1 5\n",
      "5 2\n",
      "5 6\n",
      "4 7\n",
      "4\n"
     ]
    }
   ],
   "source": [
    "from collections import deque\n",
    "import sys\n",
    "input = lambda: sys.stdin.readline().rstrip()\n",
    "\n",
    "n = int(input())\n",
    "m = int(input())\n",
    "\n",
    "li = [[] for _ in range(n + 1)]\n",
    "for _ in range(m):\n",
    "    a, b = map(int, input().split())\n",
    "    li[a].append(b)\n",
    "    li[b].append(a)\n",
    "    \n",
    "visited = [False] * (n + 1)\n",
    "visited[1] = True\n",
    "\n",
    "queue = deque()\n",
    "queue.append(1)\n",
    "\n",
    "while queue:\n",
    "    value = queue.popleft()\n",
    "    for v in li[value]:\n",
    "        if not visited[v]:\n",
    "            visited[v] = True\n",
    "            queue.append(v)\n",
    "            \n",
    "result = visited.count(True) - 1\n",
    "\n",
    "print(result)"
   ]
  },
  {
   "cell_type": "markdown",
   "metadata": {},
   "source": [
    "### DFS와 BFS 1260"
   ]
  },
  {
   "cell_type": "code",
   "execution_count": 43,
   "metadata": {},
   "outputs": [
    {
     "name": "stdout",
     "output_type": "stream",
     "text": [
      "4 5 1\n",
      "1 2\n",
      "1 3\n",
      "1 4\n",
      "2 4\n",
      "3 4\n",
      "1 2 4 3\n",
      "1 2 3 4\n"
     ]
    }
   ],
   "source": [
    "from collections import deque\n",
    "import sys\n",
    "# input = lambda: sys.stdin.readline().rstrip()\n",
    "\n",
    "n, m, s = map(int, input().split())\n",
    "li = [[] for _ in range(n + 1)]\n",
    "\n",
    "for _ in range(m):\n",
    "    a, b = map(int, input().split())\n",
    "    li[a].append(b)\n",
    "    li[b].append(a)\n",
    "    \n",
    "for i in range(1, n + 1):\n",
    "    li[i].sort()\n",
    "    \n",
    "def dfs(value):\n",
    "    route.append(value)\n",
    "    for v in li[value]:\n",
    "        if not visited[v]:\n",
    "            visited[v] = True\n",
    "            dfs(v)\n",
    "            \n",
    "visited = [False] * (n + 1)\n",
    "visited[s] = True\n",
    "route = []\n",
    "dfs(s)\n",
    "print(*route)\n",
    "\n",
    "def bfs(value):\n",
    "    queue = deque()\n",
    "    queue.append(s)\n",
    "    while queue:\n",
    "        value = queue.popleft()\n",
    "        route.append(value)\n",
    "        for v in li[value]:\n",
    "            if not visited[v]:\n",
    "                visited[v] = True\n",
    "                queue.append(v)           \n",
    "        \n",
    "visited = [False] * (n + 1)\n",
    "visited[s] = True\n",
    "route = []\n",
    "bfs(s)\n",
    "print(*route)"
   ]
  },
  {
   "cell_type": "markdown",
   "metadata": {},
   "source": [
    "### 유기농 배추 1012"
   ]
  },
  {
   "cell_type": "code",
   "execution_count": null,
   "metadata": {},
   "outputs": [],
   "source": [
    "from collections import deque\n",
    "import sys\n",
    "# input = lambda: sys.stdin.readline().rstrip()\n",
    "    \n",
    "dx = [-1, 1, 0, 0]\n",
    "dy = [0, 0, -1, 1]\n",
    "\n",
    "for _ in range(int(input())):\n",
    "    m, n, k = map(int, input().split())\n",
    "    li = [[0] * m for _ in range(n)]\n",
    "\n",
    "    for _ in range(k):\n",
    "        y, x = map(int, input().split())\n",
    "        li[x][y] = 1\n",
    "    \n",
    "    count = 0\n",
    "    visited = [[False] * m for _ in range(n)]\n",
    "    for i in range(n):\n",
    "        for j in range(m):\n",
    "            if li[i][j] == 0:\n",
    "                continue\n",
    "            if visited[i][j]:\n",
    "                continue\n",
    "            visited[i][j] = True\n",
    "            count += 1\n",
    "\n",
    "            queue = deque()\n",
    "            queue.append((i, j))\n",
    "\n",
    "            while queue:\n",
    "                x, y = queue.popleft()\n",
    "\n",
    "                for d in range(4):\n",
    "                    nx = x + dx[d]\n",
    "                    ny = y + dy[d]\n",
    "\n",
    "                    if nx < 0 or nx >= n or ny < 0 or ny >= m:\n",
    "                        continue\n",
    "                    if li[nx][ny] == 0:\n",
    "                        continue\n",
    "                    if visited[nx][ny]:\n",
    "                        continue\n",
    "                    visited[nx][ny] = True\n",
    "                    queue.append((nx, ny))\n",
    "\n",
    "    print(count)"
   ]
  },
  {
   "cell_type": "markdown",
   "metadata": {},
   "source": [
    "### 효율적인 해킹 1325"
   ]
  },
  {
   "cell_type": "code",
   "execution_count": 54,
   "metadata": {},
   "outputs": [
    {
     "name": "stdout",
     "output_type": "stream",
     "text": [
      "1 2\n"
     ]
    }
   ],
   "source": [
    "from collections import deque\n",
    "import sys\n",
    "input = lambda: sys.stdin.readline().rstrip()\n",
    "\n",
    "n, m = map(int, input().split())\n",
    "li = [[] for _ in range(n + 1)]\n",
    "\n",
    "for _ in range(m):\n",
    "    a, b = map(int, input().split())\n",
    "    li[b].append(a)\n",
    "\n",
    "def gicc(s):\n",
    "    \"\"\"get infected computers count\"\"\"\n",
    "  \n",
    "    visited = [False] * (n + 1)\n",
    "    visited[s] = True\n",
    "\n",
    "    queue = deque()\n",
    "    queue.append(s)\n",
    "    count = 1\n",
    "    while queue:\n",
    "        value = queue.popleft()\n",
    "        \n",
    "        for v in li[value]:\n",
    "            if not visited[v]:\n",
    "                visited[v] = True\n",
    "                count += 1\n",
    "                queue.append(v)\n",
    "                \n",
    "    return count\n",
    "                \n",
    "max_nums = []\n",
    "max_count = 0\n",
    "for s in range(1, n + 1):\n",
    "    count = gicc(s)\n",
    "    if count == max_count:\n",
    "        max_nums.append(s)\n",
    "    elif count > max_count:\n",
    "        max_count = count\n",
    "        max_nums = [s]\n",
    "        \n",
    "print(*sorted(max_nums))"
   ]
  },
  {
   "cell_type": "markdown",
   "metadata": {},
   "source": [
    "### 특정 거리의 도시 찾기 18352"
   ]
  },
  {
   "cell_type": "code",
   "execution_count": null,
   "metadata": {},
   "outputs": [],
   "source": [
    "n, m, k, x = map(int, input().split())\n",
    "li = []\n",
    "\n",
    "for _ in range(m):\n",
    "    a, b = map(int, input().split())\n",
    "    li[a].append(b)\n",
    "    \n",
    "def bfs():\n",
    "    queue = deque()\n",
    "    queue.append(x)\n",
    "    \n",
    "    visited = [False] * n"
   ]
  },
  {
   "cell_type": "markdown",
   "metadata": {},
   "source": [
    "### 수 지우기 1467"
   ]
  },
  {
   "cell_type": "code",
   "execution_count": 62,
   "metadata": {},
   "outputs": [
    {
     "name": "stdout",
     "output_type": "stream",
     "text": [
      "47124712\n",
      "4712\n",
      "7412\n"
     ]
    }
   ],
   "source": [
    "s = list(map(int, input()))\n",
    "to_delete = list(map(int, input()))\n",
    "\n",
    "tc = [0] * 10 # total counts\n",
    "for v in s:\n",
    "    tc[v] += 1\n",
    "dc = [0] * 10 # delete counts\n",
    "for v in to_delete:\n",
    "    dc[v] += 1\n",
    "sc = [0] * 10 # save counts\n",
    "for i in range(10):\n",
    "    sc[i] = tc[i] - dc[i]\n",
    "\n",
    "cur = []\n",
    "for v in s:\n",
    "    if sc[v]:\n",
    "        cur.append(v)\n",
    "        sc[v] -= 1\n",
    "        \n",
    "        for i in range(len(cur) - 2, -1, -1):\n",
    "            if cur[i] < v and dc[cur[i]]:\n",
    "                dc[cur[i]] -= 1\n",
    "                sc[cur[i]] += 1\n",
    "                del cur[i]\n",
    "            else:\n",
    "                break\n",
    "    else:\n",
    "        dc[v] -= 1\n",
    "        \n",
    "print(''.join(map(str, cur)))"
   ]
  },
  {
   "cell_type": "markdown",
   "metadata": {},
   "source": [
    "### 감시 피하기 18428"
   ]
  },
  {
   "cell_type": "code",
   "execution_count": 66,
   "metadata": {},
   "outputs": [
    {
     "name": "stdout",
     "output_type": "stream",
     "text": [
      "5\n",
      "X S X X T\n",
      "T X S X X\n",
      "X X X X X\n",
      "X T X X X\n",
      "X X T X X\n",
      "YES\n"
     ]
    }
   ],
   "source": [
    "from itertools import combinations as comb\n",
    "\n",
    "n = int(input())\n",
    "li = [input().split() for _ in range(n)]\n",
    "\n",
    "ts = [] # teachers\n",
    "bs = [] # blanks\n",
    "for i in range(n):\n",
    "    for j in range(n):\n",
    "        if li[i][j] == 'T':\n",
    "            ts.append((i, j))\n",
    "        elif li[i][j] == 'X':\n",
    "            bs.append((i, j))\n",
    "            \n",
    "def check():\n",
    "    for x, y in ts:\n",
    "        for i in range(4):\n",
    "            nx, ny = x, y\n",
    "            while True:\n",
    "                nx += dx[i]\n",
    "                ny += dy[i]\n",
    "                if nx < 0 or nx >= n or ny < 0 or ny >= n:\n",
    "                    break\n",
    "                if li[nx][ny] == 'S':\n",
    "                    return False\n",
    "                if li[nx][ny] != 'X':\n",
    "                    break\n",
    "\n",
    "    return True\n",
    "\n",
    "dx = [-1, 1, 0, 0]\n",
    "dy = [0, 0, -1, 1]\n",
    "\n",
    "cases = comb(bs, 3)\n",
    "for case in cases:\n",
    "    for x, y in case:\n",
    "        li[x][y] = 'O' # obstacle\n",
    "    if check():\n",
    "        print('YES')\n",
    "        break\n",
    "    for x, y in case:\n",
    "        li[x][y] = 'X'\n",
    "else:\n",
    "    print('NO')"
   ]
  },
  {
   "cell_type": "markdown",
   "metadata": {},
   "source": [
    "### 빵집 3109"
   ]
  },
  {
   "cell_type": "code",
   "execution_count": 110,
   "metadata": {},
   "outputs": [
    {
     "name": "stdout",
     "output_type": "stream",
     "text": [
      "0 3 4 31\n"
     ]
    }
   ],
   "source": [
    "from collections import defaultdict\n",
    "import sys\n",
    "# input = lambda: sys.stdin.readline().rstrip()\n",
    "\n",
    "# n, m = map(int, input().split())\n",
    "# li = [list(input()) for _ in range(n)]\n",
    "\n",
    "n, m = 5, 5\n",
    "s = '''.xx..\n",
    "..x..\n",
    ".....\n",
    "...x.\n",
    "...x.'''\n",
    "li = [list(v) for v in s.split('\\n')]\n",
    "\n",
    "def dfs(x, y):\n",
    "    global is_connected\n",
    "    global count\n",
    "    \n",
    "    dx = [-1, 0, 1]\n",
    "    \n",
    "    if is_connected:\n",
    "        return\n",
    "    if y == m - 1:\n",
    "        count += 1\n",
    "        is_connected = True\n",
    "        return\n",
    "    \n",
    "    ny = y + 1\n",
    "    for i in range(3):\n",
    "        count += 1\n",
    "        nx = x + dx[i]\n",
    "        if nx < 0 or nx >= n:\n",
    "            continue\n",
    "        if li[nx][ny] == 'x':\n",
    "            continue\n",
    "        if vt[nx][ny]:\n",
    "            continue\n",
    "        vt[nx][ny] = True\n",
    "        rns[nx] += 1\n",
    "        dfs(nx, ny)\n",
    "        if is_connected:\n",
    "            return\n",
    "        vt[nx][ny] = False\n",
    "        rns[nx] -= 1\n",
    "        \n",
    "vt = [[False] * m for _ in range(n)]\n",
    "rns = defaultdict(int) # row nums\n",
    "count = 0\n",
    "for i in range(n):\n",
    "    if rns[i]:\n",
    "        continue\n",
    "    print(i, end=' ')\n",
    "    if li[i][0] == '.':\n",
    "        is_connected = False\n",
    "        vt[i][0] = True\n",
    "        rns[i] += 1\n",
    "        dfs(i, 0)\n",
    "        if is_connected:\n",
    "            continue\n",
    "        vt[i][0] = False\n",
    "        rns[i] -= 1\n",
    "        \n",
    "print(count)"
   ]
  },
  {
   "cell_type": "markdown",
   "metadata": {},
   "source": [
    "### 용돈 관리 6236"
   ]
  },
  {
   "cell_type": "code",
   "execution_count": 9,
   "metadata": {},
   "outputs": [
    {
     "name": "stdout",
     "output_type": "stream",
     "text": [
      "500\n"
     ]
    }
   ],
   "source": [
    "import sys\n",
    "input = lambda: sys.stdin.readline().rstrip()\n",
    "\n",
    "n, m = map(int, input().split())\n",
    "li = [int(input()) for _ in range(n)]\n",
    "\n",
    "def get_count(k):\n",
    "    count = 0\n",
    "    cur = 0\n",
    "    for v in li:\n",
    "        if cur < v:\n",
    "            count += 1\n",
    "            cur = k - v\n",
    "        else:\n",
    "            cur -= v\n",
    "            \n",
    "    return count\n",
    "\n",
    "start = max(li)\n",
    "end = 10000 * 100000\n",
    "result = float('inf')\n",
    "while start <= end:\n",
    "    k = (start + end) // 2\n",
    "    \n",
    "    count = get_count(k)\n",
    "    if count <= m:\n",
    "        result = k\n",
    "        end = k - 1\n",
    "    else:\n",
    "        start = k + 1\n",
    "        \n",
    "print(result)"
   ]
  },
  {
   "cell_type": "markdown",
   "metadata": {},
   "source": [
    "### 마인크래프트 18111"
   ]
  },
  {
   "cell_type": "code",
   "execution_count": null,
   "metadata": {},
   "outputs": [],
   "source": [
    "deque를 복사하는 대신 인덱스로 계산해봄"
   ]
  },
  {
   "cell_type": "code",
   "execution_count": null,
   "metadata": {},
   "outputs": [],
   "source": [
    "이분탐색으로 가능한 최대 높이를 구함\n",
    "\n",
    "거기서 하나씩 낮추다가 시간이 같거나 늘어나면 종료함"
   ]
  },
  {
   "cell_type": "code",
   "execution_count": 19,
   "metadata": {},
   "outputs": [
    {
     "name": "stdout",
     "output_type": "stream",
     "text": [
      "3 4 0\n",
      "64 64 64 64\n",
      "64 64 64 64\n",
      "64 64 64 63\n",
      "22 63\n"
     ]
    }
   ],
   "source": [
    "import sys\n",
    "# input = lambda: sys.stdin.readline().rstrip()\n",
    "\n",
    "n, m, b = map(int, input().split())\n",
    "li = []\n",
    "for _ in range(n):\n",
    "    li.extend(map(int, input().split()))\n",
    "    \n",
    "li.sort()\n",
    "    \n",
    "def get_value(th, b):\n",
    "    '''th: target height'''\n",
    "    \n",
    "    t = 0\n",
    "    e = len(li) - 1\n",
    "    while 0 <= e:\n",
    "        v = li[e]\n",
    "        if v > th:\n",
    "            removed = v - th\n",
    "            b += removed\n",
    "            t += removed * 2\n",
    "            e -= 1\n",
    "        else:\n",
    "            e += 1\n",
    "            break\n",
    "            \n",
    "    s = 0\n",
    "    while s < e:\n",
    "        v = li[s]\n",
    "        added = th - v\n",
    "        b -= added\n",
    "        if b < 0:\n",
    "            return float('inf')\n",
    "        t += added\n",
    "        s += 1\n",
    "        \n",
    "    return t\n",
    "    \n",
    "rt = float('inf') # result time\n",
    "rh = float('inf') # result height\n",
    "\n",
    "for h in range(257):\n",
    "    cur_b = b\n",
    "    t = get_value(h, cur_b)\n",
    "    if t > rt:\n",
    "        continue\n",
    "    if t < rt or rh < h:\n",
    "        rt = t\n",
    "        rh = h\n",
    "        \n",
    "print(rt, rh)"
   ]
  },
  {
   "cell_type": "markdown",
   "metadata": {},
   "source": [
    "### 완전제곱수 1977"
   ]
  },
  {
   "cell_type": "code",
   "execution_count": 21,
   "metadata": {},
   "outputs": [
    {
     "name": "stdout",
     "output_type": "stream",
     "text": [
      "60\n",
      "100\n"
     ]
    }
   ],
   "source": [
    "m = int(input())\n",
    "n = int(input())\n",
    "\n",
    "li = []\n",
    "for v in range(m, n + 1):\n",
    "    if v ** 0.5 == int(v ** 0.5):\n",
    "        li.append(v)\n",
    "\n",
    "print(sum(li))\n",
    "print(li[0])"
   ]
  },
  {
   "cell_type": "markdown",
   "metadata": {},
   "source": [
    "### 피카츄 14405"
   ]
  },
  {
   "cell_type": "code",
   "execution_count": 5,
   "metadata": {},
   "outputs": [
    {
     "name": "stdout",
     "output_type": "stream",
     "text": [
      "chupikachupipichu\n",
      "YES\n"
     ]
    }
   ],
   "source": [
    "st = {'pi', 'ka', 'chu'}\n",
    "\n",
    "s = input()\n",
    "\n",
    "temp = ''\n",
    "for v in s:\n",
    "    temp += v\n",
    "    if temp in st:\n",
    "        temp = ''\n",
    "        \n",
    "if temp:\n",
    "    print('NO')\n",
    "else:\n",
    "    print('YES')"
   ]
  }
 ],
 "metadata": {
  "kernelspec": {
   "display_name": "Python 3",
   "language": "python",
   "name": "python3"
  },
  "language_info": {
   "codemirror_mode": {
    "name": "ipython",
    "version": 3
   },
   "file_extension": ".py",
   "mimetype": "text/x-python",
   "name": "python",
   "nbconvert_exporter": "python",
   "pygments_lexer": "ipython3",
   "version": "3.8.3"
  }
 },
 "nbformat": 4,
 "nbformat_minor": 4
}
