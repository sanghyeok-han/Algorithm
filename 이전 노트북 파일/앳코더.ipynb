{
 "cells": [
  {
   "cell_type": "markdown",
   "metadata": {},
   "source": [
    "A"
   ]
  },
  {
   "cell_type": "code",
   "execution_count": null,
   "metadata": {},
   "outputs": [],
   "source": [
    "mod = 998244353"
   ]
  },
  {
   "cell_type": "code",
   "execution_count": 1,
   "metadata": {},
   "outputs": [
    {
     "data": {
      "text/plain": [
       "286"
      ]
     },
     "execution_count": 1,
     "metadata": {},
     "output_type": "execute_result"
    }
   ],
   "source": [
    "13 * 22"
   ]
  },
  {
   "cell_type": "code",
   "execution_count": 3,
   "metadata": {},
   "outputs": [
    {
     "data": {
      "text/plain": [
       "276"
      ]
     },
     "execution_count": 3,
     "metadata": {},
     "output_type": "execute_result"
    }
   ],
   "source": [
    "12 * 23"
   ]
  },
  {
   "cell_type": "code",
   "execution_count": 10,
   "metadata": {},
   "outputs": [
    {
     "name": "stdout",
     "output_type": "stream",
     "text": [
      "2\n",
      "13\n",
      "22\n",
      "276\n"
     ]
    }
   ],
   "source": [
    "mod = 998244353\n",
    "\n",
    "n = int(input())\n",
    "a = list(map(int, input()))\n",
    "b = list(map(int, input()))\n",
    "\n",
    "for i in range(n):\n",
    "    if a[i] < b[i]:\n",
    "        a[i], b[i] = b[i], a[i]\n",
    "        \n",
    "na = ''.join(map(str, a))\n",
    "nb = ''.join(map(str, b))\n",
    "\n",
    "na = int(na)\n",
    "nb = int(nb)\n",
    "\n",
    "r = na * nb % mod\n",
    "\n",
    "print(r)"
   ]
  },
  {
   "cell_type": "markdown",
   "metadata": {},
   "source": [
    "B"
   ]
  },
  {
   "cell_type": "code",
   "execution_count": 20,
   "metadata": {},
   "outputs": [
    {
     "name": "stdout",
     "output_type": "stream",
     "text": [
      "3\n",
      "arc\n",
      "cra\n",
      "2\n"
     ]
    }
   ],
   "source": [
    "from collections import Counter\n",
    "\n",
    "def check(mid):\n",
    "    temp = dict()\n",
    "    \n",
    "    for i in range(mid + 1):\n",
    "        sv = s[i]\n",
    "        if sv in temp:\n",
    "            temp[sv] += 1 \n",
    "        else:\n",
    "            temp[sv] = 1\n",
    "            \n",
    "    si = mid + 1\n",
    "    for ti in range(n):\n",
    "        tv = t[ti]\n",
    "\n",
    "        if si < n and s[si] == tv:\n",
    "            si += 1\n",
    "        else:\n",
    "            if tv in temp:\n",
    "                temp[tv] -= 1\n",
    "                if temp[tv] == 0:\n",
    "                    del temp[tv]\n",
    "            else:\n",
    "                return False\n",
    "                \n",
    "    return True\n",
    "        \n",
    "n = int(input())\n",
    "s = input()\n",
    "t = input()\n",
    "\n",
    "if Counter(s) != Counter(t):\n",
    "    print(-1)\n",
    "elif s == t:\n",
    "    print(0)\n",
    "else:\n",
    "    start = 0\n",
    "    end = n\n",
    "    r = n\n",
    "    while start <= end:\n",
    "        mid = (start + end) // 2\n",
    "        \n",
    "        if check(mid):\n",
    "            r = mid + 1\n",
    "            end = mid - 1\n",
    "        else:\n",
    "            start = mid + 1\n",
    "            \n",
    "    print(r)"
   ]
  },
  {
   "cell_type": "markdown",
   "metadata": {},
   "source": [
    "C"
   ]
  },
  {
   "cell_type": "code",
   "execution_count": 29,
   "metadata": {},
   "outputs": [
    {
     "name": "stdout",
     "output_type": "stream",
     "text": [
      "3\n",
      "2\n",
      "1 2\n",
      "2 2\n",
      "Yes\n",
      "4\n",
      "2 3 1 1\n",
      "2 1 1 2\n",
      "Yes\n",
      "2\n",
      "1 1\n",
      "2 2\n",
      "No\n"
     ]
    }
   ],
   "source": [
    "import io, os, sys\n",
    "input = io.BytesIO(os.read(0,os.fstat(0).st_size)).readline\n",
    "\n",
    "def check(start):\n",
    "    cur_i = start\n",
    "    end_i = start + n - 1\n",
    "    for bi in range(B_len):\n",
    "        bv = B[bi]\n",
    "\n",
    "        while True:\n",
    "            ai = cur_i % n\n",
    "            av = A[ai]\n",
    "\n",
    "            if av != bv:\n",
    "                cur_i += 1\n",
    "                if cur_i > end_i:\n",
    "                    return False\n",
    "            else:\n",
    "                break\n",
    "                \n",
    "    return True      \n",
    "\n",
    "for _ in range(int(input())):\n",
    "    n = int(input())\n",
    "    A = list(map(int, input().split()))\n",
    "    B = list(map(int, input().split()))\n",
    "\n",
    "    is_same_a = False\n",
    "    for i in range(n):\n",
    "        if A[i] == A[i - 1]:\n",
    "            is_same_a = True\n",
    "            break\n",
    "\n",
    "    is_same_b = False\n",
    "    for i in range(n):\n",
    "        if B[i] == B[i - 1]:\n",
    "            is_same_b = True\n",
    "            break\n",
    "\n",
    "    if A == B:\n",
    "        print('Yes')\n",
    "    elif not is_same_a and not is_same_b:\n",
    "        print('No')\n",
    "    else:\n",
    "        while len(B) >= 2 and B[0] == B[-1]:\n",
    "            B.pop()\n",
    "\n",
    "        B_len = len(B)\n",
    "\n",
    "        ip = False\n",
    "        for start in range(n):\n",
    "            if A[start] == B[0]:   \n",
    "                if check(start):\n",
    "                    ip = True\n",
    "                    break\n",
    "\n",
    "        if ip:\n",
    "            print('Yes')\n",
    "        else:\n",
    "            print('No')"
   ]
  },
  {
   "cell_type": "markdown",
   "metadata": {},
   "source": [
    "D"
   ]
  },
  {
   "cell_type": "code",
   "execution_count": null,
   "metadata": {},
   "outputs": [],
   "source": []
  }
 ],
 "metadata": {
  "kernelspec": {
   "display_name": "Python 3",
   "language": "python",
   "name": "python3"
  },
  "language_info": {
   "codemirror_mode": {
    "name": "ipython",
    "version": 3
   },
   "file_extension": ".py",
   "mimetype": "text/x-python",
   "name": "python",
   "nbconvert_exporter": "python",
   "pygments_lexer": "ipython3",
   "version": "3.8.3"
  }
 },
 "nbformat": 4,
 "nbformat_minor": 4
}
