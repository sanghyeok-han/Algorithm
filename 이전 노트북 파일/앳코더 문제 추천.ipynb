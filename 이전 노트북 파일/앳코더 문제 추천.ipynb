{
 "cells": [
  {
   "cell_type": "markdown",
   "metadata": {},
   "source": [
    "### 문제 난이도 범위를 통해 랜덤으로 추천해줌 (시작, 끝, 개수)"
   ]
  },
  {
   "cell_type": "code",
   "execution_count": 13,
   "metadata": {},
   "outputs": [
    {
     "name": "stdout",
     "output_type": "stream",
     "text": [
      "1300 1400 5\n",
      "1. https://atcoder.jp/contests/abc187/tasks/abc187_e   E. Through Path\n",
      "\n",
      "2. https://atcoder.jp/contests/abc029/tasks/abc029_d   D. 1\n",
      "\n",
      "3. https://atcoder.jp/contests/agc053/tasks/agc053_a   A. >< again\n",
      "\n",
      "4. https://atcoder.jp/contests/arc119/tasks/arc119_c   C. ARC Wrecker 2\n",
      "\n",
      "5. https://atcoder.jp/contests/abc073/tasks/abc073_d   D. joisino's travel\n",
      "\n"
     ]
    }
   ],
   "source": [
    "import pandas as pd\n",
    "\n",
    "start, end, count = map(int, input().split())\n",
    "\n",
    "problems_df = pd.read_csv(\"problems.csv\")\n",
    "solved_by_me_df = pd.read_csv(\"solved_by_me.csv\")\n",
    "to_exclude_df = pd.read_csv(\"to_exclude.csv\")\n",
    "\n",
    "to_exclude = set(solved_by_me_df['id']) | set(to_exclude_df['id'])\n",
    "problems_df2 = problems_df.loc[~problems_df['id'].isin(to_exclude), :]\n",
    "problems_df2 = problems_df2.loc[start <= problems_df2['difficulty'], :]\n",
    "problems_df2 = problems_df2.loc[problems_df2['difficulty'] <= end, :]\n",
    "\n",
    "count = min(len(problems_df2), count)\n",
    "r = problems_df2.sample(count)\n",
    "\n",
    "for i, v in enumerate(r.loc[:, ['url', 'title']].values):\n",
    "    print(f'{i + 1}. {v[0]}   {v[1]}')\n",
    "    print()"
   ]
  },
  {
   "cell_type": "markdown",
   "metadata": {},
   "source": [
    "### 문제 푼 비율 범위를 통해 랜덤으로 추천해줌 (시작, 끝, 개수)"
   ]
  },
  {
   "cell_type": "code",
   "execution_count": 5,
   "metadata": {},
   "outputs": [
    {
     "name": "stdout",
     "output_type": "stream",
     "text": [
      "1 1 1\n",
      "https://atcoder.jp/contests/tenka1-2017/tasks/tenka1_2017_f     F. ModularPowerEquation!!\n",
      "\n"
     ]
    }
   ],
   "source": [
    "import pandas as pd\n",
    "\n",
    "start, end, count = map(int, input().split())\n",
    "\n",
    "problems_df = pd.read_csv(\"problems.csv\")\n",
    "solved_by_me_df = pd.read_csv(\"solved_by_me.csv\")\n",
    "to_exclude_df = pd.read_csv(\"to_exclude.csv\")\n",
    "\n",
    "to_exclude = set(solved_by_me_df['id']) | set(to_exclude_df['id'])\n",
    "problems_df2 = problems_df.loc[~problems_df['id'].isin(to_exclude), :]\n",
    "problems_df2 = problems_df2.loc[start <= problems_df2['solve_prob'], :]\n",
    "problems_df2 = problems_df2.loc[problems_df2['solve_prob'] <= end, :]\n",
    "\n",
    "count = min(len(problems_df2), count)\n",
    "r = problems_df2.sample(count)\n",
    "\n",
    "for v in r.loc[:, ['url', 'title']].values:\n",
    "    print(*v, sep='     ')\n",
    "    print()"
   ]
  },
  {
   "cell_type": "markdown",
   "metadata": {},
   "source": [
    "### 문제 url 또는 id를 통해 난이도와 풀이 비율을 알려줌"
   ]
  },
  {
   "cell_type": "code",
   "execution_count": 14,
   "metadata": {},
   "outputs": [
    {
     "name": "stdout",
     "output_type": "stream",
     "text": [
      "https://atcoder.jp/contests/abc187/tasks/abc187_e\n",
      "solve_prob    difficulty\n",
      "   38%            1358\n"
     ]
    }
   ],
   "source": [
    "import pandas as pd\n",
    "\n",
    "s = input().strip()\n",
    "\n",
    "problems_df = pd.read_csv(\"problems.csv\")\n",
    "\n",
    "if '/' in s:\n",
    "    r = problems_df.loc[problems_df['url'] == s, ['solve_prob', 'difficulty']]\n",
    "\n",
    "else:\n",
    "    r = problems_df.loc[problems_df['id'] == s, ['solve_prob', 'difficulty']]\n",
    "\n",
    "r = r.values[0]\n",
    "\n",
    "sp = str(r[0]) + '%'\n",
    "diffy = r[1]    \n",
    "\n",
    "print('solve_prob    difficulty')\n",
    "print(f'   {sp}            {diffy}')    "
   ]
  },
  {
   "cell_type": "markdown",
   "metadata": {},
   "source": [
    "### 새로 푼 문제를 현재 날짜, 난이도, 풀이 비율과 함께 추가함"
   ]
  },
  {
   "cell_type": "code",
   "execution_count": 85,
   "metadata": {},
   "outputs": [
    {
     "name": "stdout",
     "output_type": "stream",
     "text": [
      "123\n",
      "다시 입력해 주세요.\n"
     ]
    },
    {
     "data": {
      "text/html": [
       "<div>\n",
       "<style scoped>\n",
       "    .dataframe tbody tr th:only-of-type {\n",
       "        vertical-align: middle;\n",
       "    }\n",
       "\n",
       "    .dataframe tbody tr th {\n",
       "        vertical-align: top;\n",
       "    }\n",
       "\n",
       "    .dataframe thead th {\n",
       "        text-align: right;\n",
       "    }\n",
       "</style>\n",
       "<table border=\"1\" class=\"dataframe\">\n",
       "  <thead>\n",
       "    <tr style=\"text-align: right;\">\n",
       "      <th></th>\n",
       "      <th>id</th>\n",
       "      <th>date</th>\n",
       "    </tr>\n",
       "  </thead>\n",
       "  <tbody>\n",
       "    <tr>\n",
       "      <td>133</td>\n",
       "      <td>abc048_b</td>\n",
       "      <td>2021-12-24</td>\n",
       "    </tr>\n",
       "    <tr>\n",
       "      <td>134</td>\n",
       "      <td>codefestival_2016_qualB_b</td>\n",
       "      <td>2021-12-20</td>\n",
       "    </tr>\n",
       "    <tr>\n",
       "      <td>135</td>\n",
       "      <td>abc238_c</td>\n",
       "      <td>2022-02-13</td>\n",
       "    </tr>\n",
       "  </tbody>\n",
       "</table>\n",
       "</div>"
      ],
      "text/plain": [
       "                            id        date\n",
       "133                   abc048_b  2021-12-24\n",
       "134  codefestival_2016_qualB_b  2021-12-20\n",
       "135                   abc238_c  2022-02-13"
      ]
     },
     "execution_count": 85,
     "metadata": {},
     "output_type": "execute_result"
    }
   ],
   "source": [
    "from datetime import datetime, timezone, timedelta\n",
    "import pandas as pd\n",
    "\n",
    "s = input().strip()\n",
    "\n",
    "problems_df = pd.read_csv(\"problems.csv\")\n",
    "\n",
    "if '/' in s:\n",
    "    p_id = problems_df.loc[problems_df['url'] == s, 'id'].values[0]\n",
    "else:\n",
    "    p_id = s\n",
    "    \n",
    "if p_id not in problems_df['id'].values:\n",
    "    print('다시 입력해 주세요.')\n",
    "else:\n",
    "    now = datetime.now()\n",
    "    KST = timezone(timedelta(hours=9))\n",
    "\n",
    "    today = datetime.strftime(datetime.now().astimezone(tz=KST), \"%Y-%m-%d\")\n",
    "\n",
    "    solve_diffy = problems_df.loc[problems_df['id'] == p_id, ['solve_prob', 'difficulty']]\n",
    "    solve_diffy = solve_diffy.values[0]\n",
    "    \n",
    "    temp = pd.DataFrame({\"id\": [p_id], \"date\": [today]}, 'solve_prob': [solve_diffy[0]], 'difficulty': [solve_diffy[1]])\n",
    "    solved_by_me_df = pd.read_csv(\"solved_by_me.csv\")\n",
    "    solved_by_me_df = solved_by_me_df.append(temp, ignore_index=True)\n",
    "    solved_by_me_df.to_csv(\"solved_by_me.csv\", index=False, encoding=\"utf-8-sig\")\n",
    "    \n",
    "    print('성공적으로 추가되었습니다.')\n",
    "    \n",
    "solved_by_me_df.tail(3)"
   ]
  },
  {
   "cell_type": "markdown",
   "metadata": {},
   "source": [
    "### 풀지 않을 문제를 새로 추가해줌"
   ]
  },
  {
   "cell_type": "code",
   "execution_count": 8,
   "metadata": {},
   "outputs": [],
   "source": [
    "p_id = 'digitalarts_2'\n",
    "reason = 'no_english'\n",
    "\n",
    "temp_df = pd.DataFrame({\"id\": [p_id],\n",
    "                        \"reason\": [reason]})\n",
    "\n",
    "to_exclude_df = pd.read_csv(\"to_exclude.csv\")\n",
    "to_exclude_df = to_exclude_df.append(temp_df, ignore_index = True)"
   ]
  },
  {
   "cell_type": "code",
   "execution_count": 9,
   "metadata": {},
   "outputs": [],
   "source": [
    "to_exclude_df.to_csv(\"to_exclude.csv\", index=False, encoding=\"utf-8-sig\")"
   ]
  }
 ],
 "metadata": {
  "kernelspec": {
   "display_name": "Python 3",
   "language": "python",
   "name": "python3"
  },
  "language_info": {
   "codemirror_mode": {
    "name": "ipython",
    "version": 3
   },
   "file_extension": ".py",
   "mimetype": "text/x-python",
   "name": "python",
   "nbconvert_exporter": "python",
   "pygments_lexer": "ipython3",
   "version": "3.8.3"
  }
 },
 "nbformat": 4,
 "nbformat_minor": 2
}
