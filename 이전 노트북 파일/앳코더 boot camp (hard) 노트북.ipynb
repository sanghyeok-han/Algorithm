{
 "cells": [
  {
   "cell_type": "markdown",
   "metadata": {},
   "source": [
    "18. C. Back and Forth"
   ]
  },
  {
   "cell_type": "code",
   "execution_count": 2,
   "metadata": {},
   "outputs": [
    {
     "data": {
      "text/plain": [
       "20"
      ]
     },
     "execution_count": 2,
     "metadata": {},
     "output_type": "execute_result"
    }
   ],
   "source": [
    "len('UURDDLLUUURRDRDDDLLU')"
   ]
  },
  {
   "cell_type": "code",
   "execution_count": 10,
   "metadata": {},
   "outputs": [
    {
     "name": "stdout",
     "output_type": "stream",
     "text": [
      "-2 -2 1 1\n"
     ]
    }
   ],
   "source": []
  },
  {
   "cell_type": "code",
   "execution_count": 11,
   "metadata": {},
   "outputs": [],
   "source": []
  },
  {
   "cell_type": "code",
   "execution_count": 5,
   "metadata": {},
   "outputs": [
    {
     "data": {
      "text/plain": [
       "(1, 2)"
      ]
     },
     "execution_count": 5,
     "metadata": {},
     "output_type": "execute_result"
    }
   ],
   "source": [
    "xdiff, ydiff"
   ]
  },
  {
   "cell_type": "code",
   "execution_count": 19,
   "metadata": {},
   "outputs": [
    {
     "name": "stdout",
     "output_type": "stream",
     "text": [
      "-2 -2 1 1\n",
      "UUURRRDDDLLLLUUUURRRRDRDDDDLLLLU\n"
     ]
    }
   ],
   "source": [
    "sx, sy, tx, ty = map(int, input().split())\n",
    "\n",
    "xdiff, ydiff = tx - sx, ty - sy\n",
    "t1 = 'U' * ydiff + 'R' * xdiff + 'D' * ydiff + 'L' * xdiff\n",
    "t2 = 'L' + 'U' * (ydiff + 1) + 'R' * (xdiff + 1) + 'D' + 'R' + 'D' * (ydiff + 1) + 'L' * (xdiff + 1) + 'U'\n",
    "r = t1 + t2\n",
    "\n",
    "print(r)"
   ]
  },
  {
   "cell_type": "code",
   "execution_count": 13,
   "metadata": {},
   "outputs": [
    {
     "data": {
      "text/plain": [
       "32"
      ]
     },
     "execution_count": 13,
     "metadata": {},
     "output_type": "execute_result"
    }
   ],
   "source": [
    "len('UURRURRDDDLLDLLULUUURRURRDDDLLDL')"
   ]
  },
  {
   "cell_type": "code",
   "execution_count": 9,
   "metadata": {},
   "outputs": [
    {
     "name": "stdout",
     "output_type": "stream",
     "text": [
      "5 2 10\n",
      "2 1\n",
      "2 1\n",
      "2 1\n",
      "5 2\n",
      "5 2\n",
      "5\n"
     ]
    }
   ],
   "source": [
    "from heapq import heappush, heappop\n",
    "import sys\n",
    "# input = lambda: sys.stdin.readline().rstrip()\n",
    "\n",
    "n, k, m = map(int, input().split())\n",
    "li = [list(map(int, input().split())) for _ in range(n)]\n",
    "nli = [(v[0], v[1], i) for i, v in enumerate(li)]\n",
    "nli.sort(key=lambda x: (x[1], -x[0]))\n",
    "\n",
    "total = 0\n",
    "price = 0\n",
    "st = set()\n",
    "heap = []\n",
    "for i in range(min(n, k)):\n",
    "    if price + nli[i][1] <= m:\n",
    "        price += nli[i][1]\n",
    "        total += 1\n",
    "        st.add(nli[i][2])\n",
    "        heappush(heap, (nli[i][0] - nli[i][1], nli[i][2]))\n",
    "        \n",
    "nli.sort(key=lambda x: x[0])\n",
    "for i in range(n):\n",
    "    p1, p2, num = nli[i]\n",
    "    if num in st:\n",
    "        continue\n",
    "    \n",
    "    if heap:\n",
    "        fdiff, fnum = heappop(heap)\n",
    "        \n",
    "        diff = p1 - p2\n",
    "        if diff > fdiff and price + fdiff + p2 <= m:\n",
    "            total += 1\n",
    "            st.add(num)\n",
    "            heappush(heap, (diff, num))\n",
    "            price = price + fdiff + p2\n",
    "            continue\n",
    "        else:\n",
    "            heappush(heap, (fdiff, fnum))\n",
    "            \n",
    "    if price + p1 <= m:\n",
    "        price += p1\n",
    "        total += 1 \n",
    "        st.add(num)\n",
    "        \n",
    "print(total)"
   ]
  },
  {
   "cell_type": "code",
   "execution_count": null,
   "metadata": {},
   "outputs": [],
   "source": [
    "5 2 10\n",
    "2 1\n",
    "2 1\n",
    "2 1\n",
    "5 2\n",
    "5 2"
   ]
  },
  {
   "cell_type": "code",
   "execution_count": 6,
   "metadata": {},
   "outputs": [
    {
     "data": {
      "text/plain": [
       "9"
      ]
     },
     "execution_count": 6,
     "metadata": {},
     "output_type": "execute_result"
    }
   ],
   "source": [
    "price"
   ]
  },
  {
   "cell_type": "code",
   "execution_count": null,
   "metadata": {},
   "outputs": [],
   "source": [
    "쿠폰 써서 쿠폰 기준 싼 것들부터 가능한 것 전부 구매\n",
    "\n",
    "쿠폰 안써서 싼 것들부터 가능한 것 전부 구매 (중복 구매 X)\n",
    "\n",
    "못사게 된다면 (쿠폰 기준 )"
   ]
  },
  {
   "cell_type": "code",
   "execution_count": null,
   "metadata": {},
   "outputs": [],
   "source": []
  },
  {
   "cell_type": "code",
   "execution_count": 48,
   "metadata": {},
   "outputs": [
    {
     "data": {
      "text/plain": [
       "{0, 1}"
      ]
     },
     "execution_count": 48,
     "metadata": {},
     "output_type": "execute_result"
    }
   ],
   "source": [
    "li = [(v[1], v[0], v[2]) for v in li]\n",
    "heapify(li)\n",
    "\n",
    "while True:\n",
    "    p1, p2, num = heappop(li)\n",
    "    if num in st:\n",
    "        continue\n",
    "    if k:\n",
    "        if price + p2 <= m:\n",
    "            price += p2\n",
    "            total += 1\n",
    "            st.add(num)\n",
    "            k -= 1\n",
    "            continue\n",
    "        fdiff, fnum = heappop(heap)\n",
    "        fdiff = -fdiff\n",
    "        \n",
    "        \n",
    "        \n",
    "\n",
    "    "
   ]
  },
  {
   "cell_type": "code",
   "execution_count": 44,
   "metadata": {},
   "outputs": [
    {
     "data": {
      "text/plain": [
       "[[2, 2], [3, 2], [4, 3], [8, 1]]"
      ]
     },
     "execution_count": 44,
     "metadata": {},
     "output_type": "execute_result"
    }
   ],
   "source": [
    "li"
   ]
  },
  {
   "cell_type": "code",
   "execution_count": null,
   "metadata": {},
   "outputs": [],
   "source": []
  },
  {
   "cell_type": "code",
   "execution_count": null,
   "metadata": {},
   "outputs": [],
   "source": [
    "2, 3"
   ]
  }
 ],
 "metadata": {
  "kernelspec": {
   "display_name": "Python 3",
   "language": "python",
   "name": "python3"
  },
  "language_info": {
   "codemirror_mode": {
    "name": "ipython",
    "version": 3
   },
   "file_extension": ".py",
   "mimetype": "text/x-python",
   "name": "python",
   "nbconvert_exporter": "python",
   "pygments_lexer": "ipython3",
   "version": "3.8.3"
  }
 },
 "nbformat": 4,
 "nbformat_minor": 4
}
