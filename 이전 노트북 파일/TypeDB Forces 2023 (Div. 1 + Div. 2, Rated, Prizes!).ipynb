{
 "cells": [
  {
   "cell_type": "markdown",
   "metadata": {},
   "source": [
    "A"
   ]
  },
  {
   "cell_type": "code",
   "execution_count": 21,
   "metadata": {},
   "outputs": [
    {
     "name": "stdout",
     "output_type": "stream",
     "text": [
      "5\n",
      "3\n",
      "-1\n",
      "7\n",
      "-1\n",
      "42\n",
      "1 21\n",
      "-1\n",
      "1\n",
      "-1\n",
      "2\n",
      "1 1\n",
      "-1\n"
     ]
    }
   ],
   "source": [
    "import io, os, sys\n",
    "input = io.BytesIO(os.read(0, os.fstat(0).st_size)).readline\n",
    "\n",
    "for _ in range(int(input())):\n",
    "    n = int(input())\n",
    "\n",
    "    if n % 2 == 0:\n",
    "        print(1, n // 2)\n",
    "    else:\n",
    "        rx = ry = -1\n",
    "        for x in range(1, 31):\n",
    "            for y in range(1, 11):\n",
    "                if (x ** y) * y + (y ** x) * x == n:\n",
    "                    rx = x\n",
    "                    ry = y\n",
    "                    break\n",
    "            if rx != -1:\n",
    "                break\n",
    "    \n",
    "        if rx == -1:\n",
    "            print(-1)\n",
    "        else:\n",
    "            print(rx, ry)"
   ]
  },
  {
   "cell_type": "markdown",
   "metadata": {},
   "source": [
    "B"
   ]
  },
  {
   "cell_type": "code",
   "execution_count": 28,
   "metadata": {},
   "outputs": [
    {
     "data": {
      "text/plain": [
       "31622.776601683792"
      ]
     },
     "execution_count": 28,
     "metadata": {},
     "output_type": "execute_result"
    }
   ],
   "source": [
    "1e9 ** 0.5"
   ]
  },
  {
   "cell_type": "code",
   "execution_count": 84,
   "metadata": {},
   "outputs": [
    {
     "name": "stdout",
     "output_type": "stream",
     "text": [
      "999999018\n",
      "333333009\n"
     ]
    }
   ],
   "source": [
    "import io, os, sys\n",
    "input = io.BytesIO(os.read(0, os.fstat(0).st_size)).readline\n",
    "\n",
    "max_num = 32000\n",
    "ip = [True] * (max_num + 1)\n",
    "ip[0] = ip[1] = False\n",
    "for mod1 in range(2, int((max_num + 1) ** 0.5) + 1):\n",
    "    if ip[mod1]:\n",
    "        for v in range(mod1 * mod1, max_num + 1, mod1):\n",
    "            ip[v] = False\n",
    "            \n",
    "primes = [i for i, v in enumerate(ip) if v]\n",
    "\n",
    "for _ in range(int(input())):\n",
    "    n = int(input())\n",
    "\n",
    "    num = n\n",
    "\n",
    "    r = []\n",
    "    cri = int(num ** 0.5) + 1\n",
    "    for mod in primes:\n",
    "        if mod > cri:\n",
    "            break\n",
    "\n",
    "        c = 0\n",
    "        while num % mod == 0:\n",
    "            num //= mod\n",
    "            c += 1\n",
    "\n",
    "        if c >= 1:\n",
    "            r.append([mod, c])\n",
    "\n",
    "    if num != 1:\n",
    "        r.append([num, 1])\n",
    "\n",
    "    r.sort(key=lambda x: -x[1])\n",
    "\n",
    "    total = 0\n",
    "    while r:\n",
    "        to_use = r[-1][-1]\n",
    "\n",
    "        cur = 1\n",
    "        for i in range(len(r) - 1, -1, -1):\n",
    "            cur *= r[i][0]\n",
    "            r[i][1] -= to_use\n",
    "            if r[i][1] == 0:\n",
    "                r.pop()\n",
    "\n",
    "        total += cur * to_use\n",
    "\n",
    "    print(total)"
   ]
  },
  {
   "cell_type": "markdown",
   "metadata": {},
   "source": [
    "D"
   ]
  },
  {
   "cell_type": "code",
   "execution_count": null,
   "metadata": {},
   "outputs": [],
   "source": [
    "2\n",
    "-1 0\n",
    "1\n",
    "\n",
    "cur = 0\n",
    "\n",
    "a0이 -1 또는 -2이면 바로 게임 종료 가능\n",
    "\n",
    "a0이 1이면 무한으로 돌음\n",
    "\n",
    "a0에서 바로 종료되므로 a2는 전부 가능"
   ]
  },
  {
   "cell_type": "code",
   "execution_count": null,
   "metadata": {},
   "outputs": [],
   "source": [
    "만약 처음 가는 루트에서 종료가 되면, 방문 안하는 노드는 모든 값으로 수정 가능하고\n",
    "방문 하는 노드들은 바로 종료시키거나 종료 가능한 노드들로 변경 가능함\n",
    "\n",
    "처음 가는 루트에서 종료가 되지 않으면 해당 루트에 속한 노드들에서만 값 변경을 해야됨\n",
    "이때 방문 하는 노드들은 바로 종료시키거나 종료 가능한 노드들로 변경 가능함"
   ]
  },
  {
   "cell_type": "code",
   "execution_count": 159,
   "metadata": {},
   "outputs": [
    {
     "name": "stdout",
     "output_type": "stream",
     "text": [
      "4\n",
      "-1 4 -2 1\n",
      "34\n"
     ]
    }
   ],
   "source": [
    "from collections import deque\n",
    "import io, os, sys\n",
    "input = io.BytesIO(os.read(0, os.fstat(0).st_size)).readline\n",
    "\n",
    "for _ in range(int(input())):\n",
    "    n = int(input())\n",
    "    li = list(map(int, input().split()))\n",
    "\n",
    "    cur = 0\n",
    "    init_vt = {cur}\n",
    "\n",
    "    init_can_exit = False\n",
    "    while True:\n",
    "        cur += li[cur]\n",
    "\n",
    "        if not (0 <= cur < n):\n",
    "            init_can_exit = True\n",
    "            break\n",
    "\n",
    "        if cur in init_vt:\n",
    "            break\n",
    "        init_vt.add(cur)\n",
    "\n",
    "    result = 0\n",
    "    if init_can_exit:\n",
    "        not_vt_c = n - len(init_vt)\n",
    "        result += not_vt_c * (2 * n + 1)\n",
    "\n",
    "    can_exits = [False] * n\n",
    "    vt = [False] * n\n",
    "    G = [[] for _ in range(n)]\n",
    "    ing = [0] * n\n",
    "    can_go_to_0s = {0}\n",
    "    for i in range(n):\n",
    "        ni = i + li[i]\n",
    "        if 0 <= ni < n:\n",
    "            G[i].append(ni)\n",
    "            ing[ni] += 1\n",
    "\n",
    "        if vt[i]:\n",
    "            continue\n",
    "        vt[i] = True\n",
    "\n",
    "        cur = i\n",
    "        in_route = {i}\n",
    "        can_exit = False\n",
    "        can_go_to_0 = False\n",
    "        while True:\n",
    "            cur += li[cur]\n",
    "\n",
    "            if not (0 <= cur < n):\n",
    "                can_exit = True\n",
    "                break\n",
    "\n",
    "            if vt[cur]:\n",
    "                if cur in can_go_to_0s:\n",
    "                    can_go_to_0 = True\n",
    "\n",
    "                if can_exits[cur]:\n",
    "                    can_exit = True\n",
    "                else:\n",
    "                    can_exit = False\n",
    "                break\n",
    "            vt[cur] = True\n",
    "            in_route.add(cur)\n",
    "\n",
    "        for v in in_route:\n",
    "            can_exits[v] = can_exit\n",
    "\n",
    "            if can_go_to_0:\n",
    "                can_go_to_0s.add(v)\n",
    "\n",
    "    for v in init_vt:\n",
    "        can_go_to_0s.add(v)\n",
    "\n",
    "    cant_exit_c = n - sum(can_exits)\n",
    "    can_exit_c = (2 * n + 1) - cant_exit_c\n",
    "\n",
    "    if not init_can_exit:\n",
    "        to_add = len(init_vt) * can_exit_c\n",
    "        result += to_add\n",
    "    else:\n",
    "        to_add = len(init_vt) * can_exit_c\n",
    "\n",
    "        queue = deque()\n",
    "        former_cs = [0] * n\n",
    "        for i in range(n):\n",
    "            if ing[i] == 0:\n",
    "                queue.append(i)\n",
    "\n",
    "        while queue:\n",
    "            value = queue.popleft()\n",
    "\n",
    "            for v in G[value]:\n",
    "                ing[v] -= 1\n",
    "                former_cs[v] += former_cs[value] + 1\n",
    "\n",
    "                if ing[v] == 0:\n",
    "                    queue.append(v)  \n",
    "\n",
    "        for v in init_vt:\n",
    "            to_add -= former_cs[v] + 1\n",
    "\n",
    "        result += to_add\n",
    "\n",
    "    print(result)"
   ]
  },
  {
   "cell_type": "markdown",
   "metadata": {},
   "source": [
    "C"
   ]
  },
  {
   "cell_type": "code",
   "execution_count": null,
   "metadata": {},
   "outputs": [],
   "source": [
    "x, y는 음이 아닌 정수\n",
    "\n",
    "a1      a2       a3        a4       a5\n",
    "\n",
    "x1+y1  x2+y2   x3+y3    ...\n",
    "\n",
    "a1 * x2 + y2 * x3 + y3 * x5"
   ]
  },
  {
   "cell_type": "code",
   "execution_count": null,
   "metadata": {},
   "outputs": [],
   "source": [
    "(xi - s) * (yi - s) >= 0라면\n",
    "\n",
    "(xi - s), (yi - s)가 둘 다 양수 또는 둘 다 음수이면 됨. 둘 중 0이 있어도 됨."
   ]
  },
  {
   "cell_type": "code",
   "execution_count": null,
   "metadata": {},
   "outputs": [],
   "source": [
    "s = 0\n",
    "\n",
    "2      0     1   3     4\n",
    "\n",
    "2+0  0+0   0+1  0+3   0+4\n",
    "\n",
    "\n",
    "s = 1\n",
    "\n",
    "5     3     4    3      5\n",
    "\n",
    "4+1  1+2   1+3  1+2  1+4\n",
    "\n",
    "4+1  1+2   1+3  2+1  1+4\n",
    "\n",
    "\n",
    "s = 100000\n",
    "\n",
    "5       3      4     3      5\n",
    "\n",
    "5+0   0+3    0+4   3+0    0+5"
   ]
  },
  {
   "cell_type": "code",
   "execution_count": 25,
   "metadata": {},
   "outputs": [
    {
     "data": {
      "text/plain": [
       "5"
      ]
     },
     "execution_count": 25,
     "metadata": {},
     "output_type": "execute_result"
    }
   ],
   "source": [
    "s = 5\n",
    "\n",
    "def get_fixed_v(num):\n",
    "    if num <= s:\n",
    "        return 0\n",
    "    else:\n",
    "        return s\n",
    "    \n",
    "get_fixed_v(7)"
   ]
  },
  {
   "cell_type": "code",
   "execution_count": null,
   "metadata": {},
   "outputs": [],
   "source": [
    "s = 5\n",
    "\n",
    "num = -> 5, 2\n",
    "\n"
   ]
  },
  {
   "cell_type": "code",
   "execution_count": null,
   "metadata": {},
   "outputs": [],
   "source": [
    "9\n",
    "s=4\n"
   ]
  },
  {
   "cell_type": "code",
   "execution_count": null,
   "metadata": {},
   "outputs": [],
   "source": [
    "import io, os, sys\n",
    "# input = io.BytesIO(os.read(0, os.fstat(0).st_size)).readline\n",
    "\n",
    "def get_fixed_v(num):\n",
    "    f num <= s:\n",
    "        return 0\n",
    "    else:\n",
    "        return s\n",
    "\n",
    "for _ in range(int(input())):\n",
    "    n, s = map(int, input().split())\n",
    "    li = list(map(int, input().split()))\n",
    "\n",
    "    r = [[0] * 2 for _ in range(n)]\n",
    "\n",
    "    x = get_fixed_v(li[0])\n",
    "    y = li[0] - x\n",
    "\n",
    "    r[0] = [max(x, y), min(x, y)]\n",
    "\n",
    "    x = get_fixed_v(li[-1])\n",
    "    y = li[-1] - x\n",
    "\n",
    "    r[-1] = [min(x, y), max(x, y)]\n",
    "\n",
    "    for i in range(n - 1, 0, -1):\n",
    "        x = get_fixed_v(li[i])\n",
    "        y = li[i] - x\n",
    "\n",
    "        min_v = min(x, y)\n",
    "        max_v = max(x, y)\n",
    "\n",
    "        r[i] = [min_v, max_v]\n",
    "\n",
    "    init_total = li[0] * r[1][0]\n",
    "    for i in range(1, n - 2):\n",
    "        init_total += r[i][1] * r[i + 1][0]\n",
    "\n",
    "    init_total += r[-2][1] * li[-1]\n",
    "\n",
    "    min_total = init_total\n",
    "    cur = init_total\n",
    "    for i in range(n - 2, 0, -1):\n",
    "        min_v, max_v = r[i]\n",
    "\n",
    "        if i + 1 == n - 1 and i - 1 == 0:\n",
    "            before = li[i - 1] * min_v + max_v * li[i + 1]\n",
    "            after = li[i - 1] * max_v + min_v * li[i + 1]\n",
    "        elif i + 1 == n - 1:\n",
    "            before =  r[i - 1][1] * min_v + max_v * li[i + 1]\n",
    "            after = r[i - 1][1] * max_v + min_v * li[i + 1]\n",
    "        elif i - 1 == 0:\n",
    "            before = li[i - 1] * min_v + max_v * r[i + 1][0]\n",
    "            after = li[i - 1] * max_v + min_v * r[i + 1][0]\n",
    "        else:\n",
    "            before = r[i - 1][1] * min_v + max_v * r[i + 1][0]\n",
    "            after = r[i - 1][1] * max_v + min_v * r[i + 1][0]\n",
    "\n",
    "        cur = cur - before + after\n",
    "\n",
    "        min_total = min(min_total, cur)\n",
    "\n",
    "        r[i] = [max_v, min_v]\n",
    "\n",
    "    print(min_total)"
   ]
  },
  {
   "cell_type": "code",
   "execution_count": null,
   "metadata": {},
   "outputs": [],
   "source": [
    "max_v min_v    min_v max_v    min_v max_v   min_v, max_v    min_v max_v    min_v max_v\n",
    "\n",
    "max_v min_v    min_v max_v    min_v max_v   min_v, max_v    max_v min_v    min_v max_v"
   ]
  },
  {
   "cell_type": "code",
   "execution_count": null,
   "metadata": {},
   "outputs": [],
   "source": [
    "ai = 8\n",
    "s = 3\n",
    "\n",
    "3 5\n",
    "\n",
    "ai = 7\n",
    "s = 3\n",
    "\n",
    "3 4\n",
    "\n",
    "ai = 6\n",
    "s = 3\n",
    "\n",
    "3 3\n",
    "\n",
    "ai = 5\n",
    "s = 3\n",
    "\n",
    "2 3   \n",
    "\n",
    "ai = 4\n",
    "s = 3\n",
    "\n",
    "1 3\n",
    "\n",
    "ai = 3\n",
    "s = 3\n",
    "\n",
    "0 3\n",
    "\n",
    "ai = 2\n",
    "s = 3\n",
    "\n",
    "0 2"
   ]
  },
  {
   "cell_type": "code",
   "execution_count": 36,
   "metadata": {},
   "outputs": [
    {
     "name": "stdout",
     "output_type": "stream",
     "text": [
      "1\n",
      "6 8139\n",
      "7976 129785 12984 78561 173685 15480\n",
      "2700826806\n"
     ]
    }
   ],
   "source": [
    "import io, os, sys\n",
    "input = io.BytesIO(os.read(0, os.fstat(0).st_size)).readline\n",
    "\n",
    "def get_fixed_v(num):\n",
    "    if num <= s:\n",
    "        a, b = 0, num\n",
    "    else:\n",
    "        a, b = s, num - s\n",
    "        \n",
    "    if a > b:\n",
    "        a, b = b, a\n",
    "        \n",
    "    return a, b\n",
    "\n",
    "for _ in range(int(input())):\n",
    "    n, s = map(int, input().split())\n",
    "    li = list(map(int, input().split()))\n",
    "\n",
    "    r = [[0] * 2 for _ in range(n)]\n",
    "\n",
    "    fab = 0\n",
    "    fba = 0\n",
    "    fa = li[0]\n",
    "    fb = li[0]\n",
    "    \n",
    "    for i in range(1, n - 1):\n",
    "        a, b = get_fixed_v(li[i])\n",
    "\n",
    "        fab_to_ab = fab + fb * a\n",
    "        fab_to_ba = fab + fb * b\n",
    "        fba_to_ab = fba + fa * a\n",
    "        fba_to_ba = fba + fa * b\n",
    "        \n",
    "        fab = min(fab_to_ab, fba_to_ab)\n",
    "        fba = min(fab_to_ba, fba_to_ba)\n",
    "        fa = a\n",
    "        fb = b\n",
    "        \n",
    "    result = min(fab + fb * li[-1], fba + fa * li[-1])\n",
    "    \n",
    "    print(result)"
   ]
  },
  {
   "cell_type": "code",
   "execution_count": 37,
   "metadata": {},
   "outputs": [
    {
     "data": {
      "text/plain": [
       "89442719.09999159"
      ]
     },
     "execution_count": 37,
     "metadata": {},
     "output_type": "execute_result"
    }
   ],
   "source": []
  }
 ],
 "metadata": {
  "kernelspec": {
   "display_name": "Python 3",
   "language": "python",
   "name": "python3"
  },
  "language_info": {
   "codemirror_mode": {
    "name": "ipython",
    "version": 3
   },
   "file_extension": ".py",
   "mimetype": "text/x-python",
   "name": "python",
   "nbconvert_exporter": "python",
   "pygments_lexer": "ipython3",
   "version": "3.8.3"
  }
 },
 "nbformat": 4,
 "nbformat_minor": 2
}
