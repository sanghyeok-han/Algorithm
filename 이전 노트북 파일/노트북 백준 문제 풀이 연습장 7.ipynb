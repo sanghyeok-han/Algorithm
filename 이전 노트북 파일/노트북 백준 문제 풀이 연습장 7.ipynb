{
 "cells": [
  {
   "cell_type": "markdown",
   "metadata": {},
   "source": [
    "### 동전 문제 1398"
   ]
  },
  {
   "cell_type": "code",
   "execution_count": 2,
   "metadata": {},
   "outputs": [
    {
     "name": "stdout",
     "output_type": "stream",
     "text": [
      "2\n",
      "47\n",
      "5\n",
      "9\n",
      "9\n"
     ]
    }
   ],
   "source": [
    "import sys\n",
    "input = lambda: sys.stdin.readline().rstrip()\n",
    "\n",
    "dp = [0] + [float('inf')] * 99\n",
    "\n",
    "for i in range(1, 100):\n",
    "    dp[i] = dp[i - 1] + 1\n",
    "for i in range(10, 100):\n",
    "    dp[i] = min(dp[i], dp[i - 10] + 1)\n",
    "for i in range(25, 100):\n",
    "    dp[i] = min(dp[i], dp[i - 25] + 1)\n",
    "    \n",
    "for _ in range(int(input())):\n",
    "    s = input()\n",
    "    if len(s) % 2 == 1:\n",
    "        s = '0' + s\n",
    "    n = len(s)\n",
    "    \n",
    "    count = 0\n",
    "    for i in range(n - 1, -1, -2):\n",
    "        num = int(s[i - 1] + s[i])\n",
    "        count += dp[num]\n",
    "        \n",
    "    print(count)"
   ]
  },
  {
   "cell_type": "markdown",
   "metadata": {},
   "source": [
    "### 팰린드롬 분할 1509"
   ]
  },
  {
   "cell_type": "code",
   "execution_count": null,
   "metadata": {},
   "outputs": [],
   "source": [
    "# 시간 초과, c언어로도 시간 초과\n",
    "import sys\n",
    "sys.setrecursionlimit(30000)\n",
    "\n",
    "s = input()\n",
    "\n",
    "n = len(s)\n",
    "dp = [[False] * n for _ in range(n)]\n",
    "for i in range(n):\n",
    "    dp[i][i] = True\n",
    "    \n",
    "for term in range(1, n):\n",
    "    for start in range(n - term):\n",
    "        if s[start] != s[start + term]:\n",
    "            continue\n",
    "        if term >= 2 and not dp[start + 1][start + term - 1]:\n",
    "            continue\n",
    "        dp[start][start + term] = True\n",
    "        \n",
    "count_dp = [float('inf')] * (n + 1)\n",
    "count_dp[0] = 0\n",
    "\n",
    "def ucd(index, c):\n",
    "    \"\"\"update count dp\"\"\"\n",
    "    \n",
    "    if index == n:\n",
    "        return\n",
    "    \n",
    "    print(index, c)\n",
    "    \n",
    "    for i in range(index, n):\n",
    "        if dp[index][i] and c + 1 < count_dp[i + 1]:\n",
    "            count_dp[i + 1] = count_dp[index] + 1\n",
    "            ucd(i + 1, c + 1)\n",
    "            \n",
    "ucd(0, 0)\n",
    "print(count_dp[-1])"
   ]
  },
  {
   "cell_type": "code",
   "execution_count": 31,
   "metadata": {},
   "outputs": [
    {
     "name": "stdout",
     "output_type": "stream",
     "text": [
      "abcba\n",
      "1\n"
     ]
    }
   ],
   "source": [
    "# 맞았음\n",
    "s = input()\n",
    "\n",
    "n = len(s)\n",
    "dp = [[False] * n for _ in range(n)]\n",
    "for i in range(n):\n",
    "    dp[i][i] = True\n",
    "    \n",
    "for term in range(1, n):\n",
    "    for start in range(n - term):\n",
    "        if s[start] != s[start + term]:\n",
    "            continue\n",
    "        if term >= 2 and not dp[start + 1][start + term - 1]:\n",
    "            continue\n",
    "        dp[start][start + term] = True\n",
    "        \n",
    "count_dp = [float('inf')] * (n + 1)\n",
    "count_dp[0] = 0\n",
    "\n",
    "for end in range(n):\n",
    "    for start in range(end + 1):\n",
    "        if dp[start][end]:\n",
    "            count_dp[end + 1] = min(count_dp[end + 1], count_dp[start] + 1)\n",
    "            \n",
    "print(count_dp[-1])"
   ]
  },
  {
   "cell_type": "markdown",
   "metadata": {},
   "source": [
    "### 찾기 1786"
   ]
  },
  {
   "cell_type": "code",
   "execution_count": 53,
   "metadata": {
    "scrolled": true
   },
   "outputs": [
    {
     "name": "stdout",
     "output_type": "stream",
     "text": [
      "ABC ABCDAB ABCDABCDABDE\n",
      "ABCDABD\n",
      "1\n",
      "16\n"
     ]
    }
   ],
   "source": [
    "from collections import deque\n",
    "\n",
    "t = input()\n",
    "p = input()\n",
    "\n",
    "n, m = len(t), len(p)\n",
    "\n",
    "ct = hash(str(deque(p))) # criteria\n",
    "count = 0\n",
    "locs = []\n",
    "deq = deque(t[:m - 1])\n",
    "for i in range(m - 1, n):\n",
    "    deq.append(t[i])\n",
    "    value = hash(str(deq))\n",
    "    if ct == value:\n",
    "        count += 1\n",
    "        locs.append(i - m + 2)\n",
    "    deq.popleft()\n",
    "\n",
    "print(count)\n",
    "print(*locs)"
   ]
  },
  {
   "cell_type": "markdown",
   "metadata": {},
   "source": [
    "### 다리 만들기 2 17472 (다시 풀음)"
   ]
  },
  {
   "cell_type": "code",
   "execution_count": 10,
   "metadata": {},
   "outputs": [
    {
     "name": "stdout",
     "output_type": "stream",
     "text": [
      "6\n"
     ]
    }
   ],
   "source": [
    "from collections import deque\n",
    "\n",
    "# n, m = 10, 10\n",
    "# s = '''1 1 1 1 0 1 1 1 1 1\n",
    "# 1 0 0 0 0 0 0 0 0 1\n",
    "# 1 0 0 0 0 0 0 0 0 1\n",
    "# 1 0 0 0 0 0 0 0 0 1\n",
    "# 1 0 0 1 0 0 1 0 0 1\n",
    "# 1 0 0 0 0 0 0 0 0 1\n",
    "# 1 0 0 0 0 0 0 0 0 1\n",
    "# 1 0 0 0 0 0 0 0 0 1\n",
    "# 1 0 0 0 0 0 0 0 0 1\n",
    "# 1 1 1 1 0 1 1 1 1 1'''\n",
    "# li = [list(map(int, v.split())) for v in s.split('\\n')]\n",
    "\n",
    "n, m = map(int, input().split())\n",
    "li = [list(map(int, input().split())) for _ in range(n)]\n",
    "\n",
    "dx = [-1, 1, 0, 0]\n",
    "dy = [0, 0, -1, 1]\n",
    "\n",
    "cur = 1\n",
    "vt = [[False] * m for _ in range(n)]\n",
    "for i in range(n):\n",
    "    for j in range(m):\n",
    "        if not li[i][j]:\n",
    "            continue\n",
    "        if vt[i][j]:\n",
    "            continue\n",
    "        vt[i][j] = True\n",
    "        li[i][j] = cur\n",
    "        \n",
    "        queue = deque()\n",
    "        queue.append((i, j))\n",
    "        while queue:\n",
    "            x, y = queue.popleft()\n",
    "\n",
    "            for k in range(4):\n",
    "                nx = x + dx[k]\n",
    "                ny = y + dy[k]\n",
    "\n",
    "                if nx < 0 or nx >= n or ny < 0 or ny >= m:\n",
    "                    continue\n",
    "                if li[nx][ny] == 1:\n",
    "                    if not vt[nx][ny]:\n",
    "                        vt[nx][ny] = True\n",
    "                        li[nx][ny] = cur\n",
    "                        queue.append((nx, ny))\n",
    "                            \n",
    "        cur += 1\n",
    "        \n",
    "edges = []\n",
    "for i in range(n):\n",
    "    for j in range(m):\n",
    "        if li[i][j]:\n",
    "            dist = 0\n",
    "            ni = i + 1\n",
    "            while ni < n:\n",
    "                if not li[ni][j]:\n",
    "                    dist += 1\n",
    "                elif li[ni][j] == li[i][j]:\n",
    "                    break\n",
    "                else:\n",
    "                    if dist >= 2:\n",
    "                        edges.append((li[i][j], li[ni][j], dist))\n",
    "                        break\n",
    "                    else:\n",
    "                        break\n",
    "                ni += 1\n",
    "        \n",
    "            dist = 0\n",
    "            nj= j + 1\n",
    "            while nj < m:\n",
    "                if not li[i][nj]:\n",
    "                    dist += 1\n",
    "                elif li[i][nj] == li[i][j]:\n",
    "                    break\n",
    "                else:\n",
    "                    if dist >= 2:\n",
    "                        edges.append((li[i][j], li[i][nj], dist))\n",
    "                        break\n",
    "                    else:\n",
    "                        break\n",
    "                nj += 1\n",
    "\n",
    "def find(v):\n",
    "    if parent[v] == v:\n",
    "        return v\n",
    "    else:\n",
    "        parent[v] = find(parent[v])\n",
    "        return parent[v]\n",
    "    \n",
    "def union(a, b):\n",
    "    if rank[a] >= rank[b]:\n",
    "        parent[b] = a\n",
    "        if rank[a] == rank[b]:\n",
    "            rank[a] += 1\n",
    "    else:\n",
    "        parent[a] = b\n",
    "        \n",
    "parent = list(range(cur))\n",
    "rank = [0] * cur\n",
    "edges.sort(key=lambda x: x[2])\n",
    "min_result = 0\n",
    "\n",
    "if not edges:\n",
    "    print(-1)\n",
    "else:\n",
    "    for a, b, v in edges:\n",
    "        ra, rb = find(a), find(b)\n",
    "        if ra != rb:\n",
    "            union(ra, rb)\n",
    "            min_result += v\n",
    "\n",
    "    for i in range(1, cur):\n",
    "        find(i)\n",
    "        \n",
    "    if len(set(parent[1:])) != 1:\n",
    "        print(-1)\n",
    "    else:\n",
    "        print(min_result)"
   ]
  },
  {
   "cell_type": "markdown",
   "metadata": {},
   "source": [
    "### 반지 5555"
   ]
  },
  {
   "cell_type": "code",
   "execution_count": 14,
   "metadata": {},
   "outputs": [
    {
     "name": "stdout",
     "output_type": "stream",
     "text": [
      "PQR\n",
      "3\n",
      "PQRAAAAPQR\n",
      "BBPQRBBBBB\n",
      "CCCCCCCCCC\n",
      "2\n"
     ]
    }
   ],
   "source": [
    "s = input()\n",
    "n = int(input())\n",
    "\n",
    "count = 0\n",
    "for _ in range(n):\n",
    "    cand = input()\n",
    "    cand += cand[:-1]\n",
    "    if s in cand:\n",
    "        count += 1\n",
    "        \n",
    "print(count)"
   ]
  },
  {
   "cell_type": "markdown",
   "metadata": {},
   "source": [
    "### 경사로 14890"
   ]
  },
  {
   "cell_type": "code",
   "execution_count": 27,
   "metadata": {},
   "outputs": [
    {
     "name": "stdout",
     "output_type": "stream",
     "text": [
      "[3, 3, 3, 3, 3, 3]\n",
      "[2, 3, 3, 3, 3, 3]\n",
      "[2, 2, 2, 3, 2, 3]\n",
      "[1, 1, 1, 2, 2, 2]\n",
      "[1, 1, 1, 3, 3, 1]\n",
      "[1, 1, 2, 3, 3, 2]\n",
      "(3, 2, 2, 1, 1, 1)\n",
      "(3, 3, 2, 1, 1, 1)\n",
      "(3, 3, 2, 1, 1, 2)\n",
      "(3, 3, 3, 2, 3, 3)\n",
      "(3, 3, 2, 2, 3, 3)\n",
      "(3, 3, 3, 2, 1, 2)\n",
      "12\n"
     ]
    }
   ],
   "source": [
    "def check(part):\n",
    "    cont_count = 1\n",
    "    in_cont_count_check = False\n",
    "    for i in range(1, n):\n",
    "        if not in_cont_count_check:\n",
    "            if part[i - 1] == part[i]:\n",
    "                cont_count += 1\n",
    "            elif part[i - 1] + 1 == part[i]:\n",
    "                if cont_count >= l:\n",
    "                    cont_count = 0\n",
    "            elif part[i - 1] == part[i] + 1:\n",
    "                if l == 1:\n",
    "                    cont_count = 0\n",
    "                else:\n",
    "                    in_cont_count_check = True\n",
    "            else:\n",
    "                return False\n",
    "        else:\n",
    "            if part[i - 1] == part[i]:\n",
    "                cont_count += 1\n",
    "                if cont_count == l:\n",
    "                    cont_count = 0\n",
    "                    in_cont_count_check = False\n",
    "            else:\n",
    "                return False\n",
    "\n",
    "        return True\n",
    "\n",
    "\n",
    "# n, l = map(int, input().split())\n",
    "# li = [list(map(int, input().split())) for _ in range(n)]\n",
    "\n",
    "n, l = 6, 2\n",
    "s = '''3 3 3 3 3 3\n",
    "2 3 3 3 3 3\n",
    "2 2 2 3 2 3\n",
    "1 1 1 2 2 2\n",
    "1 1 1 3 3 1\n",
    "1 1 2 3 3 2'''\n",
    "li = [list(map(int, v.split())) for v in s.split('\\n')]\n",
    "\n",
    "count = 0\n",
    "for v in li:\n",
    "    if check(v):\n",
    "        print(v)\n",
    "        count += 1\n",
    "        \n",
    "for v in zip(*li):\n",
    "    if check(v):\n",
    "        print(v)\n",
    "        count += 1\n",
    "        \n",
    "print(count)"
   ]
  },
  {
   "cell_type": "code",
   "execution_count": 23,
   "metadata": {},
   "outputs": [
    {
     "data": {
      "text/plain": [
       "[(3, 2, 2, 1, 1, 1),\n",
       " (3, 3, 2, 1, 1, 1),\n",
       " (3, 3, 2, 1, 1, 2),\n",
       " (3, 3, 3, 2, 3, 3),\n",
       " (3, 3, 2, 2, 3, 3),\n",
       " (3, 3, 3, 2, 1, 2)]"
      ]
     },
     "execution_count": 23,
     "metadata": {},
     "output_type": "execute_result"
    }
   ],
   "source": [
    "list(zip(*li))"
   ]
  },
  {
   "cell_type": "code",
   "execution_count": 21,
   "metadata": {},
   "outputs": [
    {
     "data": {
      "text/plain": [
       "True"
      ]
     },
     "execution_count": 21,
     "metadata": {},
     "output_type": "execute_result"
    }
   ],
   "source": [
    "part = [2, 2, 3, 2, 2, 1, 1]\n",
    "\n",
    "def check(part):\n",
    "    cont_count = 1\n",
    "    in_cont_count_check = False\n",
    "    for i in range(1, n):\n",
    "        if not in_cont_count_check:\n",
    "            if part[i - 1] == part[i]:\n",
    "                cont_count += 1\n",
    "            elif part[i - 1] + 1 == part[i]:\n",
    "                if cont_count >= l:\n",
    "                    cont_count = 0\n",
    "            elif part[i - 1] == part[i] + 1:\n",
    "                if l == 1:\n",
    "                    cont_count = 0\n",
    "                else:\n",
    "                    in_cont_count_check = True\n",
    "            else:\n",
    "                return False\n",
    "        else:\n",
    "            if part[i - 1] == part[i]:\n",
    "                cont_count += 1\n",
    "                if cont_count == l:\n",
    "                    cont_count = 0\n",
    "                    in_cont_count_check = False\n",
    "            else:\n",
    "                return False\n",
    "\n",
    "        return True\n",
    "    \n",
    "check(part)"
   ]
  },
  {
   "cell_type": "markdown",
   "metadata": {},
   "source": [
    "### 신용카드 판별 14726"
   ]
  },
  {
   "cell_type": "code",
   "execution_count": 33,
   "metadata": {},
   "outputs": [
    {
     "name": "stdout",
     "output_type": "stream",
     "text": [
      "3\n",
      "2720992711828767\n",
      "T\n",
      "3444063910462763\n",
      "F\n",
      "6011733895106094\n",
      "T\n"
     ]
    }
   ],
   "source": [
    "n = int(input())\n",
    "for _ in range(n):\n",
    "    li = list(map(int, input()))\n",
    "    li.reverse()\n",
    "    nli = []\n",
    "    for i in range(16):\n",
    "        if i % 2 == 0:\n",
    "            nli.append(li[i])\n",
    "        else:\n",
    "            value = li[i] * 2\n",
    "            if value < 10:\n",
    "                nli.append(value)\n",
    "            else:\n",
    "                nvalue = 0\n",
    "                for v in str(value):\n",
    "                    nvalue += int(v)\n",
    "                nli.append(nvalue)\n",
    "\n",
    "    if sum(nli) % 10 == 0:\n",
    "        print('T')\n",
    "    else:\n",
    "        print('F')"
   ]
  },
  {
   "cell_type": "markdown",
   "metadata": {},
   "source": [
    "### Parcel 16287"
   ]
  },
  {
   "cell_type": "code",
   "execution_count": 88,
   "metadata": {},
   "outputs": [
    {
     "name": "stdout",
     "output_type": "stream",
     "text": [
      "21 7\n",
      "10 1 4 6 2 8 5\n",
      "YES\n"
     ]
    }
   ],
   "source": [
    "# 시간 초과, 이중 for문으로 set에 추가하는 부분부터 시간 초과됨\n",
    "w, n = map(int, input().split())\n",
    "li = list(map(int, input().split()))\n",
    "\n",
    "cases = [0] * 799995\n",
    "st = set()\n",
    "for i in range(n):\n",
    "    for j in range(i + 1, n):\n",
    "        sv = li[i] + li[j]\n",
    "        \n",
    "        if sv < 799994:\n",
    "            st.add(sv)\n",
    "            \n",
    "            if not cases[sv]:\n",
    "                cases[sv] = {i, j}\n",
    "            else:\n",
    "                cases[sv].add(i)\n",
    "                cases[sv].add(j)\n",
    "                \n",
    "def check():\n",
    "    while st:\n",
    "        value = st.pop()\n",
    "        ovalue = w - value\n",
    "        \n",
    "        if ovalue in st:\n",
    "            if len(cases[value] - cases[ovalue]) >= 2 and len(cases[ovalue] - cases[value]) >= 2:\n",
    "                return True\n",
    "            \n",
    "    return False\n",
    "\n",
    "if check():\n",
    "    print('YES')\n",
    "else:\n",
    "    print('NO')"
   ]
  },
  {
   "cell_type": "markdown",
   "metadata": {},
   "source": [
    "### MVP 다이아몬드 (Normal) 20414"
   ]
  },
  {
   "cell_type": "code",
   "execution_count": 108,
   "metadata": {},
   "outputs": [
    {
     "data": {
      "text/plain": [
       "648000"
      ]
     },
     "execution_count": 108,
     "metadata": {},
     "output_type": "execute_result"
    }
   ],
   "source": [
    "500 * 36 * 36"
   ]
  },
  {
   "cell_type": "code",
   "execution_count": null,
   "metadata": {},
   "outputs": [],
   "source": [
    "(1, 1), (2, 2)\n",
    "\n",
    "(최근 2개월 합, 현재값) = 누적값"
   ]
  },
  {
   "cell_type": "code",
   "execution_count": null,
   "metadata": {},
   "outputs": [],
   "source": [
    "dp[i][(저번 달의 값, 현재 값)] = 누적 값\n"
   ]
  },
  {
   "cell_type": "code",
   "execution_count": null,
   "metadata": {},
   "outputs": [],
   "source": [
    "dp[i][i번 달의 현재 값] = 누적 값"
   ]
  },
  {
   "cell_type": "code",
   "execution_count": null,
   "metadata": {},
   "outputs": [],
   "source": [
    "### 한달 최대 과금액 500 이하"
   ]
  },
  {
   "cell_type": "code",
   "execution_count": 17,
   "metadata": {},
   "outputs": [
    {
     "name": "stdout",
     "output_type": "stream",
     "text": [
      "8\n",
      "30 60 90 150\n",
      "BSDDPGSG\n",
      "506\n"
     ]
    }
   ],
   "source": [
    "from collections import defaultdict as dd\n",
    "\n",
    "n = int(input())\n",
    "s, g, p, d = map(int, input().split())\n",
    "grades = input()\n",
    "    \n",
    "di = {'B': 0, 'S': s, 'G': g, 'P': p, 'D': d}\n",
    "limits_di = {'B': s - 1, 'S': g - 1, 'G': p - 1, 'P': d - 1, 'D': float('inf')}\n",
    "limits = [0] * n\n",
    "for i in range(n):   \n",
    "    limits[i] = limits_di[grades[i]]\n",
    "\n",
    "dp = [dd(int) for _ in range(n)]\n",
    "for cur in range(di[grades[0]], min(d, limits[0]) + 1):\n",
    "    dp[0][cur] = cur\n",
    "    \n",
    "for num in range(1, n):\n",
    "    for f, sv in dp[num - 1].items():\n",
    "        for cur in range(max(0, di[grades[num]] - f), min(limits[num] - f, d) + 1):\n",
    "            nsv = sv + cur\n",
    "            dp[num][cur] = max(dp[num][cur], nsv)\n",
    "        \n",
    "print(max(dp[-1].values()))"
   ]
  }
 ],
 "metadata": {
  "kernelspec": {
   "display_name": "Python 3",
   "language": "python",
   "name": "python3"
  },
  "language_info": {
   "codemirror_mode": {
    "name": "ipython",
    "version": 3
   },
   "file_extension": ".py",
   "mimetype": "text/x-python",
   "name": "python",
   "nbconvert_exporter": "python",
   "pygments_lexer": "ipython3",
   "version": "3.8.3"
  }
 },
 "nbformat": 4,
 "nbformat_minor": 4
}
