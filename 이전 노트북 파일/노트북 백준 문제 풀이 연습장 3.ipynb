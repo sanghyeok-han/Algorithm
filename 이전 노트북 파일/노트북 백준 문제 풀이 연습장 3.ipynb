{
 "cells": [
  {
   "cell_type": "markdown",
   "metadata": {},
   "source": [
    "### 팰린드롬 파티션 2705"
   ]
  },
  {
   "cell_type": "markdown",
   "metadata": {},
   "source": [
    "### A. Arithmetic Array"
   ]
  },
  {
   "cell_type": "code",
   "execution_count": 6,
   "metadata": {},
   "outputs": [
    {
     "name": "stdout",
     "output_type": "stream",
     "text": [
      "4\n",
      "3\n",
      "1 1 1\n",
      "0\n",
      "2\n",
      "1 2\n",
      "1\n",
      "4\n",
      "8 4 6 2\n",
      "16\n",
      "1\n",
      "-2\n",
      "1\n"
     ]
    }
   ],
   "source": [
    "t = int(input())\n",
    "for _ in range(t):\n",
    "    n = int(input())\n",
    "    li = list(map(int, input().split()))\n",
    " \n",
    "    count = 0\n",
    "    sum_value = sum(li)\n",
    "    if sum_value / n == 1:\n",
    "        print(0)\n",
    "    elif sum_value / n < 1:\n",
    "        print(1)\n",
    "    else:\n",
    "        count = sum_value - n\n",
    "        print(count)"
   ]
  },
  {
   "cell_type": "code",
   "execution_count": null,
   "metadata": {},
   "outputs": [],
   "source": [
    "sum_value / n == 1"
   ]
  },
  {
   "cell_type": "code",
   "execution_count": null,
   "metadata": {},
   "outputs": [],
   "source": [
    "sum_value = n"
   ]
  },
  {
   "cell_type": "code",
   "execution_count": null,
   "metadata": {},
   "outputs": [],
   "source": [
    "4\n",
    "10000 10000 10000 10000 10000 10000"
   ]
  },
  {
   "cell_type": "code",
   "execution_count": null,
   "metadata": {},
   "outputs": [],
   "source": [
    "50 * 10000\n",
    "500000"
   ]
  },
  {
   "cell_type": "markdown",
   "metadata": {},
   "source": [
    "### C. Stable Groups"
   ]
  },
  {
   "cell_type": "code",
   "execution_count": 28,
   "metadata": {},
   "outputs": [
    {
     "name": "stdout",
     "output_type": "stream",
     "text": [
      "13 0 37\n",
      "20 20 80 70 70 70 420 5 1 5 1 60 90\n",
      "3\n"
     ]
    }
   ],
   "source": [
    "n, k, x = map(int, input().split())\n",
    "li = list(map(int, input().split()))\n",
    "li.sort()\n",
    "diff_li = []\n",
    " \n",
    "for i in range(1, n):\n",
    "    diff_li.append(li[i] - li[i - 1])\n",
    "    \n",
    "diff_li = [v for v in diff_li if v > x]\n",
    "diff_li.sort()\n",
    " \n",
    "deleted_diff_element_count = 0\n",
    "for diff_value in diff_li:\n",
    "    needed = (diff_value - 1) // x\n",
    "    \n",
    "    if k >= needed:\n",
    "        deleted_diff_element_count += 1\n",
    "        k -= needed\n",
    "    else:\n",
    "        break\n",
    "        \n",
    "print(len(diff_li) - deleted_diff_element_count + 1)"
   ]
  },
  {
   "cell_type": "code",
   "execution_count": null,
   "metadata": {},
   "outputs": [],
   "source": [
    "3\n",
    "1"
   ]
  },
  {
   "cell_type": "code",
   "execution_count": null,
   "metadata": {},
   "outputs": [],
   "source": [
    "9  4  4   4 "
   ]
  },
  {
   "cell_type": "code",
   "execution_count": null,
   "metadata": {},
   "outputs": [],
   "source": [
    "13 0 37\n",
    "20 20 80 70 70 70 420 5 1 5 1 60 90"
   ]
  },
  {
   "cell_type": "code",
   "execution_count": 19,
   "metadata": {},
   "outputs": [
    {
     "data": {
      "text/plain": [
       "(2, 0)"
      ]
     },
     "execution_count": 19,
     "metadata": {},
     "output_type": "execute_result"
    }
   ],
   "source": [
    "len(diff_li), deleted_diff_element_count"
   ]
  },
  {
   "cell_type": "code",
   "execution_count": 9,
   "metadata": {},
   "outputs": [
    {
     "name": "stdout",
     "output_type": "stream",
     "text": [
      "13 0 37\n",
      "20 20 80 70 70 70 420 5 1 5 1 60 90\n",
      "3\n"
     ]
    }
   ],
   "source": [
    "n, k, x = map(int, input().split())\n",
    "li = list(map(int, input().split()))\n",
    "li.sort()\n",
    "\n",
    "needed_li = []\n",
    "for i in range(1, n):\n",
    "    value = li[i] - li[i - 1]\n",
    "    if value <= x:\n",
    "        continue\n",
    "    else:\n",
    "        needed_li.append((value - 1) // x)    \n",
    "needed_li.sort()\n",
    " \n",
    "deleted_diff_element_count = 0\n",
    "for needed in needed_li:\n",
    "    if needed <= k:\n",
    "        deleted_diff_element_count += 1\n",
    "        k -= needed\n",
    "    else:\n",
    "        break\n",
    "        \n",
    "print(len(needed_li) - deleted_diff_element_count + 1)"
   ]
  },
  {
   "cell_type": "code",
   "execution_count": 7,
   "metadata": {},
   "outputs": [
    {
     "data": {
      "text/plain": [
       "[1, 1, 2]"
      ]
     },
     "execution_count": 7,
     "metadata": {},
     "output_type": "execute_result"
    }
   ],
   "source": [
    "import os\n",
    "import sys\n",
    "from io import BytesIO, IOBase\n",
    "\n",
    "\n",
    "def main():\n",
    "    n, k, x = map(int, input().split())\n",
    "    li = list(map(int, input().split()))\n",
    "    li.sort()\n",
    "\n",
    "    needed_li = []\n",
    "    for i in range(1, n):\n",
    "        value = li[i] - li[i - 1]\n",
    "        if value <= x:\n",
    "            continue\n",
    "        else:\n",
    "            needed_li.append((value - 1) // x)    \n",
    "    needed_li.sort()\n",
    "\n",
    "    deleted_diff_element_count = 0\n",
    "    for needed in needed_li:\n",
    "        if needed <= k:\n",
    "            deleted_diff_element_count += 1\n",
    "            k -= needed\n",
    "        else:\n",
    "            break\n",
    "\n",
    "    print(len(needed_li) - deleted_diff_element_count + 1)\n",
    "\n",
    "\n",
    "# region fastio\n",
    "\n",
    "BUFSIZE = 8192\n",
    "\n",
    "\n",
    "class FastIO(IOBase):\n",
    "    newlines = 0\n",
    "\n",
    "    def __init__(self, file):\n",
    "        self._fd = file.fileno()\n",
    "        self.buffer = BytesIO()\n",
    "        self.writable = \"x\" in file.mode or \"r\" not in file.mode\n",
    "        self.write = self.buffer.write if self.writable else None\n",
    "\n",
    "    def read(self):\n",
    "        while True:\n",
    "            b = os.read(self._fd, max(os.fstat(self._fd).st_size, BUFSIZE))\n",
    "            if not b:\n",
    "                break\n",
    "            ptr = self.buffer.tell()\n",
    "            self.buffer.seek(0, 2), self.buffer.write(b), self.buffer.seek(ptr)\n",
    "        self.newlines = 0\n",
    "        return self.buffer.read()\n",
    "\n",
    "    def readline(self):\n",
    "        while self.newlines == 0:\n",
    "            b = os.read(self._fd, max(os.fstat(self._fd).st_size, BUFSIZE))\n",
    "            self.newlines = b.count(b\"\\n\") + (not b)\n",
    "            ptr = self.buffer.tell()\n",
    "            self.buffer.seek(0, 2), self.buffer.write(b), self.buffer.seek(ptr)\n",
    "        self.newlines -= 1\n",
    "        return self.buffer.readline()\n",
    "\n",
    "    def flush(self):\n",
    "        if self.writable:\n",
    "            os.write(self._fd, self.buffer.getvalue())\n",
    "            self.buffer.truncate(0), self.buffer.seek(0)\n",
    "\n",
    "\n",
    "class IOWrapper(IOBase):\n",
    "    def __init__(self, file):\n",
    "        self.buffer = FastIO(file)\n",
    "        self.flush = self.buffer.flush\n",
    "        self.writable = self.buffer.writable\n",
    "        self.write = lambda s: self.buffer.write(s.encode(\"ascii\"))\n",
    "        self.read = lambda: self.buffer.read().decode(\"ascii\")\n",
    "        self.readline = lambda: self.buffer.readline().decode(\"ascii\")\n",
    "\n",
    "\n",
    "sys.stdin, sys.stdout = IOWrapper(sys.stdin), IOWrapper(sys.stdout)\n",
    "input = lambda: sys.stdin.readline().rstrip(\"\\r\\n\")\n",
    "\n",
    "# endregion\n",
    "\n",
    "if __name__ == \"__main__\":\n",
    "    main()"
   ]
  },
  {
   "cell_type": "code",
   "execution_count": null,
   "metadata": {},
   "outputs": [],
   "source": [
    "2 3 2\n",
    "1 17"
   ]
  },
  {
   "cell_type": "code",
   "execution_count": null,
   "metadata": {},
   "outputs": [],
   "source": [
    "diff / 추가 개수 <= x\n",
    "\n",
    "diff <= 추가 개수 * x"
   ]
  },
  {
   "cell_type": "code",
   "execution_count": null,
   "metadata": {},
   "outputs": [],
   "source": [
    "1 10\n",
    "  9\n",
    "    \n",
    "1 4 7 10"
   ]
  },
  {
   "cell_type": "code",
   "execution_count": null,
   "metadata": {},
   "outputs": [],
   "source": [
    "get_remained"
   ]
  },
  {
   "cell_type": "code",
   "execution_count": 21,
   "metadata": {},
   "outputs": [
    {
     "data": {
      "text/plain": [
       "(1, 0)"
      ]
     },
     "execution_count": 21,
     "metadata": {},
     "output_type": "execute_result"
    }
   ],
   "source": [
    "diff_count, deleted_diff_element_count"
   ]
  },
  {
   "cell_type": "code",
   "execution_count": null,
   "metadata": {},
   "outputs": [],
   "source": [
    "while value > 5:\n",
    "    value = get_remained(value)\n",
    "    k -= 1"
   ]
  },
  {
   "cell_type": "code",
   "execution_count": null,
   "metadata": {},
   "outputs": [],
   "source": [
    "2 3 2\n",
    "1 17"
   ]
  },
  {
   "cell_type": "code",
   "execution_count": null,
   "metadata": {},
   "outputs": [],
   "source": [
    "1      17\n",
    "\n",
    "8\n",
    "\n",
    "16 8 4 2"
   ]
  },
  {
   "cell_type": "code",
   "execution_count": null,
   "metadata": {},
   "outputs": [],
   "source": [
    "### pypy를 위한 템플릿"
   ]
  },
  {
   "cell_type": "code",
   "execution_count": null,
   "metadata": {},
   "outputs": [],
   "source": [
    "import os\n",
    "import sys\n",
    "from io import BytesIO, IOBase\n",
    "\n",
    "\n",
    "def main():\n",
    "    pass\n",
    "\n",
    "\n",
    "# region fastio\n",
    "\n",
    "BUFSIZE = 8192\n",
    "\n",
    "\n",
    "class FastIO(IOBase):\n",
    "    newlines = 0\n",
    "\n",
    "    def __init__(self, file):\n",
    "        self._fd = file.fileno()\n",
    "        self.buffer = BytesIO()\n",
    "        self.writable = \"x\" in file.mode or \"r\" not in file.mode\n",
    "        self.write = self.buffer.write if self.writable else None\n",
    "\n",
    "    def read(self):\n",
    "        while True:\n",
    "            b = os.read(self._fd, max(os.fstat(self._fd).st_size, BUFSIZE))\n",
    "            if not b:\n",
    "                break\n",
    "            ptr = self.buffer.tell()\n",
    "            self.buffer.seek(0, 2), self.buffer.write(b), self.buffer.seek(ptr)\n",
    "        self.newlines = 0\n",
    "        return self.buffer.read()\n",
    "\n",
    "    def readline(self):\n",
    "        while self.newlines == 0:\n",
    "            b = os.read(self._fd, max(os.fstat(self._fd).st_size, BUFSIZE))\n",
    "            self.newlines = b.count(b\"\\n\") + (not b)\n",
    "            ptr = self.buffer.tell()\n",
    "            self.buffer.seek(0, 2), self.buffer.write(b), self.buffer.seek(ptr)\n",
    "        self.newlines -= 1\n",
    "        return self.buffer.readline()\n",
    "\n",
    "    def flush(self):\n",
    "        if self.writable:\n",
    "            os.write(self._fd, self.buffer.getvalue())\n",
    "            self.buffer.truncate(0), self.buffer.seek(0)\n",
    "\n",
    "\n",
    "class IOWrapper(IOBase):\n",
    "    def __init__(self, file):\n",
    "        self.buffer = FastIO(file)\n",
    "        self.flush = self.buffer.flush\n",
    "        self.writable = self.buffer.writable\n",
    "        self.write = lambda s: self.buffer.write(s.encode(\"ascii\"))\n",
    "        self.read = lambda: self.buffer.read().decode(\"ascii\")\n",
    "        self.readline = lambda: self.buffer.readline().decode(\"ascii\")\n",
    "\n",
    "\n",
    "sys.stdin, sys.stdout = IOWrapper(sys.stdin), IOWrapper(sys.stdout)\n",
    "input = lambda: sys.stdin.readline().rstrip(\"\\r\\n\")\n",
    "\n",
    "# endregion\n",
    "\n",
    "if __name__ == \"__main__\":\n",
    "    main()"
   ]
  },
  {
   "cell_type": "code",
   "execution_count": null,
   "metadata": {},
   "outputs": [],
   "source": [
    "import os\n",
    "import sys\n",
    "from io import BytesIO, IOBase\n",
    "\n",
    "def main():\n",
    "    from collections import deque\n",
    "\n",
    "    n = int(input().rstrip())\n",
    "    li = [list(map(int, input().rstrip().split())) for _ in range(n)]\n",
    "    li.sort(key=lambda x: x[1])\n",
    "\n",
    "    deq = deque(li)\n",
    "\n",
    "    total = 0\n",
    "    cumul_count = 0\n",
    "    while deq:\n",
    "        if cumul_count >= deq[0][1]:\n",
    "            amount, _ = deq.popleft()\n",
    "            total += amount\n",
    "            cumul_count += amount\n",
    "            continue\n",
    "        if deq[0][1] >= cumul_count + deq[-1][0]:\n",
    "            amount, limit = deq.pop()\n",
    "            total += amount * 2\n",
    "            cumul_count += amount\n",
    "        else:\n",
    "            to_buy = deq[0][1] - cumul_count\n",
    "            amount, limit = deq.pop()\n",
    "            deq.append((amount - to_buy, limit))\n",
    "            total += to_buy * 2\n",
    "            cumul_count += to_buy\n",
    "\n",
    "    print(total)\n",
    "\n",
    "\n",
    "# region fastio\n",
    "\n",
    "BUFSIZE = 8192\n",
    "\n",
    "\n",
    "class FastIO(IOBase):\n",
    "    newlines = 0\n",
    "\n",
    "    def __init__(self, file):\n",
    "        self._fd = file.fileno()\n",
    "        self.buffer = BytesIO()\n",
    "        self.writable = \"x\" in file.mode or \"r\" not in file.mode\n",
    "        self.write = self.buffer.write if self.writable else None\n",
    "\n",
    "    def read(self):\n",
    "        while True:\n",
    "            b = os.read(self._fd, max(os.fstat(self._fd).st_size, BUFSIZE))\n",
    "            if not b:\n",
    "                break\n",
    "            ptr = self.buffer.tell()\n",
    "            self.buffer.seek(0, 2), self.buffer.write(b), self.buffer.seek(ptr)\n",
    "        self.newlines = 0\n",
    "        return self.buffer.read()\n",
    "\n",
    "    def readline(self):\n",
    "        while self.newlines == 0:\n",
    "            b = os.read(self._fd, max(os.fstat(self._fd).st_size, BUFSIZE))\n",
    "            self.newlines = b.count(b\"\\n\") + (not b)\n",
    "            ptr = self.buffer.tell()\n",
    "            self.buffer.seek(0, 2), self.buffer.write(b), self.buffer.seek(ptr)\n",
    "        self.newlines -= 1\n",
    "        return self.buffer.readline()\n",
    "\n",
    "    def flush(self):\n",
    "        if self.writable:\n",
    "            os.write(self._fd, self.buffer.getvalue())\n",
    "            self.buffer.truncate(0), self.buffer.seek(0)\n",
    "\n",
    "\n",
    "class IOWrapper(IOBase):\n",
    "    def __init__(self, file):\n",
    "        self.buffer = FastIO(file)\n",
    "        self.flush = self.buffer.flush\n",
    "        self.writable = self.buffer.writable\n",
    "        self.write = lambda s: self.buffer.write(s.encode(\"ascii\"))\n",
    "        self.read = lambda: self.buffer.read().decode(\"ascii\")\n",
    "        self.readline = lambda: self.buffer.readline().decode(\"ascii\")\n",
    "\n",
    "\n",
    "sys.stdin, sys.stdout = IOWrapper(sys.stdin), IOWrapper(sys.stdout)\n",
    "input = lambda: sys.stdin.readline().rstrip(\"\\r\\n\")\n",
    "\n",
    "# endregion\n",
    "\n",
    "if __name__ == \"__main__\":\n",
    "    main()"
   ]
  },
  {
   "cell_type": "code",
   "execution_count": null,
   "metadata": {},
   "outputs": [],
   "source": [
    "우유도시\n",
    "\n",
    "쉬운 격자상의 dp\n",
    "\n",
    "개업\n",
    "\n",
    "1개, 2개 모든 경우 구함\n",
    "동전1과 같이 해결함\n",
    "\n",
    "BOJ 거리\n",
    "\n",
    "처음부터 끝까지 거기까지 가는데 드는 가장 적은 에너지의 양을 적어놓음\n",
    "예로 J면 이전의 모든 O를 후보로 함\n",
    "\n",
    "민균이의 계략\n",
    "\n",
    "Lis O(n^2)\n",
    "\n",
    "간식 파티\n",
    "\n",
    "처음부터 차례대로 이전에 있는 값들 중 현재 평점보다 적은 평점을 가지고 있는 간식들을 후보로 해서 가장 큰 누적값을 가지고 있는 경우를 선발함\n",
    "\n",
    "Maximum Subarray\n",
    "\n",
    "처음부터 차례대로 이전값까지의 누적값이 양수면 끌고가고 누적값이 음수면 그 수부터 다시 시작함\n",
    "그 후로 dp테이블에서 최댓값을 구함\n",
    "\n",
    "주지수\n",
    "\n",
    "격자상의 dp + 누적합\n",
    "누적합 먼저 구하고 누적합끼리의 연산을 이용\n",
    "\n",
    "동전 바꿔주기\n",
    "20\n",
    "3\n",
    "5 3\n",
    "10 2\n",
    "1 5\n",
    "\n",
    "0                                                               20\n",
    "1 0 0 0 0 0 0 0 0 0 0 0 0 0 0 0 0 0 0 0 0\n",
    "1              1               1              1              1\n",
    "1              1               2              2\n",
    "\n",
    "처음부터 경우의 수를 더해나가되 기존에 추가되는 것과 새로 추가되는 것을 구분해줘서 있는 개수의 동전만 쓸 수 있게함\n",
    "\n",
    "새로 추가할 때는 기존과 새로 추가하는 것을 분리해줌 (시간초과?)\n",
    "\n",
    "곡예 비행\n",
    "\n",
    "모든 칸에서 dp 배열을 [상승시, 하강시]로 구축함\n",
    "앞으로 나아가며 가장 아래부터 위까지 상승시를 갱신해주고 가장 위에부터 아래까지 하강시를 갱신해준다.\n",
    "\n",
    "진우의 달 여행 (Large) \n",
    "\n",
    "가장 위는 초기값으로 하고 그 밑부터 차례대로 내려가면서 rbg 거리 같이 풀음\n",
    "\n",
    "# 수도배관공사\n",
    "\n",
    "7 6\n",
    "4 5\n",
    "3 6\n",
    "2 7\n",
    "1 4\n",
    "6 7\n",
    "1 5\n",
    "\n",
    "4: 5\n",
    "4: 5, 3: 6, 7: 5\n",
    "\n",
    "파이프 차례대로 보면서 해당 파이프 값, 이전 모든 값 별로 해당 파이프 값을 더한 값을 딕셔너리로 (누적 길이: 최소 부피) 식으로 구축함.\n",
    "겹치게 되는 경우 최소 부피가 큰 것을 우선함, L보다 커지는 값은 무시함\n",
    "\n",
    "다 끝나고 key L에 해당하는 value를 확인함\n",
    "\n",
    "함께 블록 쌓기\n",
    "\n",
    "[1, 0, 0, 0, 0, 0, .......] (0부터 h까지)\n",
    "\n",
    "1번 학생: 2, 3, 5\n",
    "2번 학생: 3, 5\n",
    "3번 학생: 1, 2, 3\n",
    "\n",
    "[1, 0, 1, 1, 0, 1, 0, 0, 0, 0, ...]\n",
    "\n",
    "학생별로 차례대로 돌리면서\n",
    "    가진 블록별로 차례대로 돌리면서 [0, 0, 0, ]으로 초기화된 새 리스트에 가능한 경우를 전부 추가해줌\n",
    "    가장 최근 dp테이블 요소 리스트(-1번째)와 블록별로 차례대로 돌린 리스트들의 합을 구하여 새로운 번째의 dp테이블 요소로 만듦\n",
    "\n",
    "수확\n",
    "\n",
    "5\n",
    "1 3 1 5 2\n",
    "1 3 4 5 2\n",
    "1*1 + 2*2 + 3*3 + 1*4 + 5*5 가 최댓값\n",
    "\n",
    "dp = 2차원으로 dp[i][j] 리스트에서 인덱스 i에서 j까지 아직 남아있음을 의미\n",
    "맨 마지막에는 남아있는게 없으므로 dp로 저장하는 대신에 후보로 비교함\n",
    "\n",
    "\n",
    "dp[1][4] = 1 * 1   dp[0][3] = 2 * 1\n",
    "((1, 4), 1*1), (((0, 3), 2 * 1))\n",
    "((2, 4, ..), ( 만약 (2, 4) 계산할 때 dp[2][4]에 더 높은 값이 있으면 추가 안함. 아니면 추가하고 dp값도 갱신해줌)\n",
    "맨 마지막에 [2][2], [3][3]와 같은 상황일 때 후보로 두고 서로 값을 비교해서 최댓값을 구함\n",
    "\n",
    "꿈틀꿈틀 호석 애벌레 - 효율성 \n",
    "\n",
    "1 5 4 4 2 3 10 3 5\n",
    "\n",
    "처음부터 끝으로 가면서 dp를 갱신하는 방식을 사용할 것으로 추정됨\n",
    "\n",
    "(0, 0)\n",
    "(1, 0) # current, energy\n",
    "(5, 0), (0, 0)\n",
    "(4, 0), (0, 3)\n",
    "\n",
    "로또\n",
    "\n",
    "2^n\n",
    "처음에 2^n하고 m 최대까지 [0, 0, 0, 0, 1, 1, 1, 1, 1]\n",
    "그 후에 1인 것들 전부 []"
   ]
  },
  {
   "cell_type": "markdown",
   "metadata": {},
   "source": [
    "### 함께 블록 쌓기 18427"
   ]
  },
  {
   "cell_type": "code",
   "execution_count": 32,
   "metadata": {},
   "outputs": [
    {
     "name": "stdout",
     "output_type": "stream",
     "text": [
      "2 2 4\n",
      "2 2\n",
      "2 2\n",
      "4\n"
     ]
    }
   ],
   "source": [
    "n, m, h = map(int, input().split())\n",
    "mod = 10007\n",
    "\n",
    "dp = [[1] + [0] * h for _ in range(n + 1)]\n",
    "for i in range(1, n + 1):\n",
    "    for new_height in map(int, input().split()):\n",
    "        for j in range(1, h + 1):\n",
    "            if j - new_height >= 0:\n",
    "                dp[i][j] += dp[i - 1][j - new_height] % mod\n",
    "        \n",
    "    for j in range(1, h + 1):\n",
    "        dp[i][j] += dp[i - 1][j]\n",
    "        dp[i][j] %= mod\n",
    "                \n",
    "print(dp[-1][-1])"
   ]
  },
  {
   "cell_type": "code",
   "execution_count": 33,
   "metadata": {},
   "outputs": [
    {
     "name": "stdout",
     "output_type": "stream",
     "text": [
      "[1, 0, 0, 0, 0]\n",
      "[1, 0, 2, 0, 0]\n",
      "[1, 0, 4, 0, 4]\n"
     ]
    }
   ],
   "source": [
    "for v in dp:\n",
    "    print(v)"
   ]
  },
  {
   "cell_type": "code",
   "execution_count": null,
   "metadata": {},
   "outputs": [],
   "source": [
    "[2, 3, 5]\n",
    "[3, 5]\n",
    "[1, 2, 3]\n",
    "\n",
    "\n",
    "[1, 0, 0, 0, 0, 0]\n",
    "[1, 0, 1, 1, 0, 1]\n",
    "[1, 0, 1, 2, 0, 2]\n",
    "[1, 1, ]"
   ]
  },
  {
   "cell_type": "markdown",
   "metadata": {},
   "source": [
    "### 수확 1823"
   ]
  },
  {
   "cell_type": "code",
   "execution_count": 16,
   "metadata": {},
   "outputs": [
    {
     "name": "stdout",
     "output_type": "stream",
     "text": [
      "5\n",
      "1\n",
      "3\n",
      "1\n",
      "5\n",
      "2\n",
      "43\n"
     ]
    }
   ],
   "source": [
    "from collections import deque\n",
    "import sys\n",
    "# input = sys.stdin.readline\n",
    "\n",
    "n = int(input().rstrip())\n",
    "li = [int(input().rstrip()) for _ in range(n)]\n",
    "dp = [[0] * n for _ in range(n)] # dp[i][j]는 인덱스 i에서 인덱스 j까지 벼가 남아있는 상태에서의 최댓값을 의미\n",
    "\n",
    "queue = deque()\n",
    "queue.append((0, n - 1))\n",
    "\n",
    "max_result = 0\n",
    "while queue:\n",
    "    a, b = queue.popleft()\n",
    "    \n",
    "    if a == b:\n",
    "        max_result = max(max_result, dp[a][b] + li[a] * n)\n",
    "        continue\n",
    "    \n",
    "    na, nb = a + 1, b\n",
    "    value = dp[a][b] + li[a] * (n - (b - a))\n",
    "    if value > dp[na][nb]:\n",
    "        dp[na][nb] = value\n",
    "        queue.append((na, nb))\n",
    "        \n",
    "    na, nb = a, b - 1\n",
    "    value = dp[a][b] + li[b] * (n - (b - a))\n",
    "    if value > dp[na][nb]:\n",
    "        dp[na][nb] = value\n",
    "        queue.append((na, nb))\n",
    "        \n",
    "print(max_result)"
   ]
  },
  {
   "cell_type": "code",
   "execution_count": null,
   "metadata": {},
   "outputs": [],
   "source": [
    "from collections import deque\n",
    "import sys\n",
    "# input = sys.stdin.readline\n",
    "\n",
    "n = int(input().rstrip())\n",
    "li = [int(input().rstrip()) for _ in range(n)]\n",
    "dp = [[0] * n for _ in range(n)] # dp[i][j]는 인덱스 i에서 인덱스 j까지 벼가 남아있는 상태에서의 최댓값을 의미 \n",
    "\n",
    "max_result = 0\n",
    "while queue:\n",
    "    a, b = queue.popleft()\n",
    "    \n",
    "    if a == b:\n",
    "        max_result = max(max_result, dp[a][b] + li[a] * n)\n",
    "        continue\n",
    "    \n",
    "    na, nb = a + 1, b\n",
    "    value = dp[a][b] + li[a] * (n - (b - a))\n",
    "    if value > dp[na][nb]:\n",
    "        dp[na][nb] = value\n",
    "        queue.append((na, nb))\n",
    "        \n",
    "    na, nb = a, b - 1\n",
    "    value = dp[a][b] + li[b] * (n - (b - a))\n",
    "    if value > dp[na][nb]:\n",
    "        dp[na][nb] = value\n",
    "        queue.append((na, nb))\n",
    "        \n",
    "print(max_result)"
   ]
  },
  {
   "cell_type": "code",
   "execution_count": 12,
   "metadata": {},
   "outputs": [
    {
     "name": "stdout",
     "output_type": "stream",
     "text": [
      "[0, 15, 12, 2, 0]\n",
      "[0, 0, 20, 5, 1]\n",
      "[0, 0, 0, 14, 7]\n",
      "[0, 0, 0, 0, 10]\n",
      "[0, 0, 0, 0, 0]\n"
     ]
    }
   ],
   "source": [
    "for v in dp:\n",
    "    print(v)"
   ]
  },
  {
   "cell_type": "markdown",
   "metadata": {},
   "source": [
    "### N과 M (1) 15649"
   ]
  },
  {
   "cell_type": "code",
   "execution_count": 24,
   "metadata": {},
   "outputs": [
    {
     "name": "stdout",
     "output_type": "stream",
     "text": [
      "4 2\n",
      "1 2\n",
      "1 3\n",
      "1 4\n",
      "2 1\n",
      "2 3\n",
      "2 4\n",
      "3 1\n",
      "3 2\n",
      "3 4\n",
      "4 1\n",
      "4 2\n",
      "4 3\n"
     ]
    }
   ],
   "source": [
    "n, m = map(int, input().split())\n",
    "\n",
    "def backtrack(li):\n",
    "    st = set(li)\n",
    "    \n",
    "    if len(li) == m:\n",
    "        print(*li)\n",
    "    \n",
    "    for i in range(1, n + 1):\n",
    "        if i not in st:\n",
    "            backtrack(li + [i]) \n",
    "            \n",
    "backtrack(list())"
   ]
  },
  {
   "cell_type": "markdown",
   "metadata": {},
   "source": [
    "### 로또 2758"
   ]
  },
  {
   "cell_type": "code",
   "execution_count": null,
   "metadata": {},
   "outputs": [],
   "source": [
    "n, m = map(int, input().split())\n",
    "\n"
   ]
  },
  {
   "cell_type": "markdown",
   "metadata": {},
   "source": [
    "### 섬 1109"
   ]
  },
  {
   "cell_type": "code",
   "execution_count": null,
   "metadata": {},
   "outputs": [],
   "source": [
    "먼저 육지만 돌려서 섬들을 구하고 넘버링함\n",
    "\n",
    "섬 개수를 k로 해서 모든 넘버링을 포함할 수 있는 parents 리스트를 만들음\n",
    "만약 parents가 비어있으면 -1 출력후 종료\n",
    "\n",
    "각 섬의 parent(바깥 섬)는 없거나 하나일 수밖에 없으므로 섬이 3개라면 [-1, -1, 0] 같이 만들음(-1은 바깥 섬이 없다는 의미, 그 이상은 해당 넘버를 가진 섬이 바깥에 있다는 의미)\n",
    "그리고 후에 재귀 방식을 활용하여 답을 계산함\n",
    "\n",
    "가장 테두리의 육지에 해당하거나 가장 테두리의 바다로 만나는 것은 parent가 없음\n",
    "\n",
    "테두리를 밖에서부터 한 칸씩 줄여나가면서 차례대로 바다들만 탐색하며 인접한 섬 번호들을 저장해둠. 그 후로 기존에 parent가 결정된 섬을 parent로 함\n",
    "parent가 결정되지 않은 섬들의 parent는 parent가 결정된 섬의 번호"
   ]
  },
  {
   "cell_type": "code",
   "execution_count": 89,
   "metadata": {},
   "outputs": [
    {
     "name": "stdout",
     "output_type": "stream",
     "text": [
      "3 3\n",
      "...\n",
      "...\n",
      "...\n",
      "-1\n"
     ]
    }
   ],
   "source": [
    "from collections import deque\n",
    "\n",
    "n, m = map(int, input().split())\n",
    "li = [list(input()) for _ in range(n)]\n",
    "\n",
    "# s = '''xxx.x...xxxxx\n",
    "# xxxx....x...x\n",
    "# ........x.x.x\n",
    "# ..xxxxx.x...x\n",
    "# ..x...x.xxx.x\n",
    "# ..x.x.x...x..\n",
    "# ..x...x...xxx\n",
    "# ...xxxxxx....\n",
    "# x............'''\n",
    "# li = [list(v) for v in s.split('\\n')]\n",
    "\n",
    "dx1 = [-1, -1, -1, 0, 0, 1, 1, 1]\n",
    "dy1 = [-1, 0, 1, -1, 1, -1, 0, 1]\n",
    "\n",
    "dx2 = [-1, 1, 0, 0]\n",
    "dy2 = [0, 0, -1, 1]\n",
    "\n",
    "def bfs_to_numbering(sx, sy, current_island_num):\n",
    "    queue = deque()\n",
    "    queue.append((sx, sy))\n",
    "    \n",
    "    visited[sx][sy] = True\n",
    "    li[sx][sy] = current_island_num\n",
    "    \n",
    "    while queue:\n",
    "        x, y = queue.popleft()\n",
    "        \n",
    "        for i in range(8):\n",
    "            nx = x + dx1[i]\n",
    "            ny = y + dy1[i]       \n",
    "            if nx < 0 or nx >= n or ny < 0 or ny >= m:\n",
    "                continue\n",
    "            if li[nx][ny] != 'x':\n",
    "                continue\n",
    "            if visited[nx][ny]:\n",
    "                continue\n",
    "            visited[nx][ny] = True\n",
    "            li[nx][ny] = current_island_num\n",
    "            queue.append((nx, ny))\n",
    "\n",
    "def bfs_to_find_outermost_islands(sx, sy):\n",
    "    queue = deque()\n",
    "    queue.append((sx, sy))\n",
    "    \n",
    "    while queue:\n",
    "        x, y = queue.popleft()\n",
    "        \n",
    "        for i in range(4):\n",
    "            nx = x + dx2[i]\n",
    "            ny = y + dy2[i]\n",
    "            if nx < 0 or nx >= n or ny < 0 or ny >= m:\n",
    "                continue\n",
    " \n",
    "            if li[nx][ny] >= 0:\n",
    "                children[0].add(li[nx][ny])\n",
    "                parent[li[nx][ny]] = -1\n",
    "            else:\n",
    "                if visited[nx][ny]:\n",
    "                    continue\n",
    "                visited[nx][ny] = True \n",
    "                queue.append((nx, ny))\n",
    "                \n",
    "def bfs_to_get_adjacent_islands(sx, sy):\n",
    "    if li[sx][sy] >= 0:\n",
    "        return []\n",
    "    if visited[sx][sy]:\n",
    "        return []\n",
    "    visited[sx][sy] = True\n",
    "    \n",
    "    islands = set()\n",
    "    queue = deque()\n",
    "    queue.append((sx, sy))\n",
    "    \n",
    "    while queue:\n",
    "        x, y = queue.popleft()\n",
    "        \n",
    "        for i in range(4):\n",
    "            nx = x + dx2[i]\n",
    "            ny = y + dy2[i]\n",
    "            if nx < 0 or nx >= n or ny < 0 or ny >= m:\n",
    "                return []\n",
    "            if li[nx][ny] >= 0:\n",
    "                islands.add(li[nx][ny])\n",
    "            else:\n",
    "                if visited[nx][ny]:\n",
    "                    continue\n",
    "                visited[nx][ny] = True\n",
    "                queue.append((nx, ny))\n",
    "            \n",
    "    return islands\n",
    "       \n",
    "def update_islands_info(islands):\n",
    "    if islands:\n",
    "        has_info = -1\n",
    "        no_info = []\n",
    "        for value in islands:\n",
    "            if parent[value] == float('inf'):\n",
    "                no_info.append(value)\n",
    "            else:\n",
    "                has_info = value\n",
    "        if no_info:\n",
    "             for value in no_info:\n",
    "                parent[value] = has_info\n",
    "                children[has_info + 1].add(value)\n",
    "    \n",
    "visited = [[False] * m for _ in range(n)]\n",
    "current_island_num = 0\n",
    "for i in range(n):\n",
    "    for j in range(m):\n",
    "        if li[i][j] == '.':\n",
    "            li[i][j] = -1\n",
    "            continue\n",
    "        if li[i][j] == 'x':\n",
    "            bfs_to_numbering(i, j, current_island_num)   \n",
    "            current_island_num += 1\n",
    "            \n",
    "if current_island_num == 0:\n",
    "    print(-1)\n",
    "else:\n",
    "    # 가장 테두리를 확인하여 가장 바깥의 섬들을 지정해둠\n",
    "    # 가장 바깥 테두리의 육지에 해당하거나 가장 바깥 테두리의 바다와 만나는 육지인 경우 parent는 -1\n",
    "    children = [set() for _ in range(current_island_num + 1)] # 0: parent가 없는 경우(-1), 1~: parent의 섬 번호 + 1\n",
    "    parent = [float('inf')] * current_island_num\n",
    "    visited = [[False] * m for _ in range(n)]\n",
    "    for i in range(n):\n",
    "        for j in range(m):\n",
    "            if i == 0 or j == 0 or i == n - 1 or j == m - 1:\n",
    "                if visited[i][j]:\n",
    "                    continue\n",
    "                visited[i][j] = True\n",
    "\n",
    "                if li[i][j] >= 0:\n",
    "                    children[0].add(li[i][j])\n",
    "                    parent[li[i][j]] = -1\n",
    "                else:\n",
    "                    bfs_to_find_outermost_islands(i, j)\n",
    "\n",
    "    # 테두리를 밖에서부터 한 칸씩 줄여나가면서 차례대로 바다들만 탐색하며 인접한 섬 번호들을 저장해둠.\n",
    "    # 그 후로 parent가 결정되지 않은 섬들의 parent로 기존에 parent가 결정된 섬의 번호를 지정함\n",
    "    visited = [[False] * m for _ in range(n)]\n",
    "    sx = 0\n",
    "    sy = 0\n",
    "    ex = n - 1\n",
    "    ey = m - 1\n",
    "    while True:\n",
    "        x = sx\n",
    "        for y in range(sy, ey + 1):\n",
    "            islands = bfs_to_get_adjacent_islands(x, y)\n",
    "            update_islands_info(islands)\n",
    "\n",
    "        y = sy\n",
    "        for x in range(sx + 1, ex):\n",
    "            islands = bfs_to_get_adjacent_islands(x, y)\n",
    "            update_islands_info(islands)\n",
    "\n",
    "        y = ey\n",
    "        for x in range(sx + 1, ex):\n",
    "            islands = bfs_to_get_adjacent_islands(x, y)\n",
    "            update_islands_info(islands)\n",
    "\n",
    "        x = ex\n",
    "        for y in range(sy, ey + 1):\n",
    "            islands = bfs_to_get_adjacent_islands(x, y)\n",
    "            update_islands_info(islands)\n",
    "\n",
    "        if ey - sy <= 1 or ex - sx <= 1:\n",
    "            break\n",
    "\n",
    "        ex -= 1\n",
    "        ey -= 1\n",
    "        sx += 1\n",
    "        sy += 1\n",
    "\n",
    "    heights = [-1] * current_island_num\n",
    "\n",
    "    def recur(node):\n",
    "        max_value = 0\n",
    "        for c in children[node + 1]:\n",
    "            max_value = max(max_value, recur(c))\n",
    "\n",
    "        if node != -1:\n",
    "            heights[node] = max_value\n",
    "\n",
    "        return max_value + 1\n",
    "\n",
    "    recur(-1)\n",
    "\n",
    "    result = [0] * (max(heights) + 1)\n",
    "    for h in heights:\n",
    "        result[h] += 1\n",
    "\n",
    "    print(*result)"
   ]
  },
  {
   "cell_type": "code",
   "execution_count": null,
   "metadata": {},
   "outputs": [],
   "source": [
    "xxx.x...xxxxx\n",
    "xxxx....x...x\n",
    "........x.x.x\n",
    "..xxxxx.x...x\n",
    "..x...x.xxx.x\n",
    "..x.x.x...x..\n",
    "..x...x...xxx\n",
    "...xxxxxx....\n",
    "x............"
   ]
  },
  {
   "cell_type": "code",
   "execution_count": 81,
   "metadata": {},
   "outputs": [
    {
     "data": {
      "text/plain": [
       "[-1, -1, 1, -1, 3, -1]"
      ]
     },
     "execution_count": 81,
     "metadata": {},
     "output_type": "execute_result"
    }
   ],
   "source": [
    "parent"
   ]
  },
  {
   "cell_type": "code",
   "execution_count": 82,
   "metadata": {},
   "outputs": [
    {
     "data": {
      "text/plain": [
       "[{0, 1, 2, 3, 5}, set(), {2}, set(), {4}, set(), set()]"
      ]
     },
     "execution_count": 82,
     "metadata": {},
     "output_type": "execute_result"
    }
   ],
   "source": [
    "children"
   ]
  },
  {
   "cell_type": "code",
   "execution_count": 80,
   "metadata": {},
   "outputs": [
    {
     "data": {
      "text/plain": [
       "[0, 1, 0, 1, 0, 0]"
      ]
     },
     "execution_count": 80,
     "metadata": {},
     "output_type": "execute_result"
    }
   ],
   "source": [
    "heights"
   ]
  },
  {
   "cell_type": "code",
   "execution_count": null,
   "metadata": {},
   "outputs": [],
   "source": [
    "9 13\n",
    "xxx.x...xxxxx\n",
    "xxxx....x...x\n",
    "........x.x.x\n",
    "..xxxxx.x...x\n",
    "..x...x.xxx.x\n",
    "..x.x.x...x..\n",
    "..x...x...xxx\n",
    "...xxxxxx....\n",
    "x............"
   ]
  },
  {
   "cell_type": "code",
   "execution_count": 71,
   "metadata": {},
   "outputs": [
    {
     "name": "stdout",
     "output_type": "stream",
     "text": [
      "2 1\n"
     ]
    }
   ],
   "source": [
    "result = [0] * (max(heights) + 1)\n",
    "for h in heights:\n",
    "    result[h] += 1\n",
    "\n",
    "print(*result)"
   ]
  },
  {
   "cell_type": "code",
   "execution_count": 68,
   "metadata": {},
   "outputs": [
    {
     "data": {
      "text/plain": [
       "[1, 0, 0]"
      ]
     },
     "execution_count": 68,
     "metadata": {},
     "output_type": "execute_result"
    }
   ],
   "source": [
    "heights"
   ]
  },
  {
   "cell_type": "markdown",
   "metadata": {},
   "source": [
    "### 비용 2463"
   ]
  },
  {
   "cell_type": "code",
   "execution_count": 99,
   "metadata": {},
   "outputs": [
    {
     "name": "stdout",
     "output_type": "stream",
     "text": [
      "6 7\n",
      "15 1\n",
      "10 1\n",
      "6 3\n",
      "5 4\n",
      "4 5\n",
      "83\n"
     ]
    }
   ],
   "source": [
    "import sys\n",
    "# input = sys.stdin.readline\n",
    "\n",
    "n, m = map(int, input().rstrip().split())\n",
    "# li = [list(map(int, input().rstrip().split())) for _ in range(m)]\n",
    "li.sort(key=lambda x: -x[2])\n",
    "\n",
    "parent = list(range(n))\n",
    "including_count = [0] * n\n",
    "\n",
    "def find(v):\n",
    "    if v == parent[v]:\n",
    "        return v\n",
    "    parent[v] = find(parent[v])\n",
    "    return parent[v]\n",
    "\n",
    "def union_and_return_new_total(a, b, total, w):\n",
    "    if including_count[a] >= including_count[b]:\n",
    "        including_count[a] += including_count[b] + 1\n",
    "        total += including_count[a] * w\n",
    "        print(w, including_count[a])\n",
    "        parent[b] = a\n",
    "    else:\n",
    "        including_count[b] += including_count[a] + 1\n",
    "        total += including_count[b] * w\n",
    "        print(w, including_count[b])\n",
    "        parent[a] = b\n",
    "    return total\n",
    "\n",
    "total = 0\n",
    "for a, b, w in li:\n",
    "    f_total = total\n",
    "    a -= 1\n",
    "    b -= 1\n",
    "    \n",
    "    a = find(a)\n",
    "    b = find(b)\n",
    "    if a != b:\n",
    "        total = union_and_return_new_total(a, b, total, w)\n",
    "print(total)"
   ]
  },
  {
   "cell_type": "code",
   "execution_count": null,
   "metadata": {},
   "outputs": [],
   "source": [
    "관여하는 곳들에서 다 까버린다."
   ]
  },
  {
   "cell_type": "code",
   "execution_count": 100,
   "metadata": {},
   "outputs": [
    {
     "data": {
      "text/plain": [
       "256"
      ]
     },
     "execution_count": 100,
     "metadata": {},
     "output_type": "execute_result"
    }
   ],
   "source": [
    "2 * 15 + 3 * 15 + 4 * 15 + 5 * 10 + 6 * 6 + 10 * 2 + 15"
   ]
  },
  {
   "cell_type": "code",
   "execution_count": 95,
   "metadata": {},
   "outputs": [
    {
     "data": {
      "text/plain": [
       "256"
      ]
     },
     "execution_count": 95,
     "metadata": {},
     "output_type": "execute_result"
    }
   ],
   "source": [
    "2+3+4+5+6+10+2+3+4+5+6+2+3+4+5+2+3+4+2+3+4+5+6+2+3+4+5+6+2+3+4+5+2+3+4+2+3+4+5+6+2+3+4+5+2+3+4+2+3+4+5+6+10+15+2+3+4+2+3+4+5+2+3+4"
   ]
  },
  {
   "cell_type": "code",
   "execution_count": 101,
   "metadata": {},
   "outputs": [
    {
     "data": {
      "text/plain": [
       "246"
      ]
     },
     "execution_count": 101,
     "metadata": {},
     "output_type": "execute_result"
    }
   ],
   "source": [
    "2 * 15 + 3 * 15 + 4 * 15 + 5 * 10 + 6 * 6 + 10 + 15"
   ]
  },
  {
   "cell_type": "code",
   "execution_count": null,
   "metadata": {},
   "outputs": [],
   "source": [
    "### 무서운 아르바이트"
   ]
  },
  {
   "cell_type": "code",
   "execution_count": 108,
   "metadata": {},
   "outputs": [
    {
     "name": "stdout",
     "output_type": "stream",
     "text": [
      "5\n",
      "10 20 30 20 10\n",
      "60\n"
     ]
    }
   ],
   "source": [
    "n = int(input())\n",
    "li = list(map(int, input().split()))\n",
    "\n",
    "if n == 1:\n",
    "    print(li[0])\n",
    "else:\n",
    "    stack = [[li[0], 0]] # value, deleted_count\n",
    "    li = li[1:]\n",
    "    max_result = 0\n",
    "\n",
    "    for value in li:\n",
    "        weight = 1\n",
    "        total_deleted_count = 0\n",
    "        while stack:\n",
    "            if stack[-1][0] <= value:\n",
    "                break\n",
    "            else:\n",
    "                v, deleted_count = stack.pop()\n",
    "                total_deleted_count += deleted_count + 1\n",
    "                weight += deleted_count\n",
    "                max_result = max(max_result, weight * v)\n",
    "                weight += 1\n",
    "\n",
    "        stack.append([value, total_deleted_count])\n",
    "\n",
    "    weight = 1\n",
    "    while stack:\n",
    "        v, deleted_count = stack.pop()\n",
    "        weight += deleted_count\n",
    "        max_result = max(max_result, weight * v)\n",
    "        weight += 1\n",
    "\n",
    "    print(max_result)"
   ]
  },
  {
   "cell_type": "markdown",
   "metadata": {},
   "source": [
    "### 부분배열 고르기 2104"
   ]
  },
  {
   "cell_type": "raw",
   "metadata": {},
   "source": [
    "이전 값보다 큰 값이 들어오면 현재값이 반영된 최댓값을 구한 후 바로 추가하면 될거 같음\n",
    "이전 값보다 작은 값이 들어오면 이전 값은 개수로만 남을 뿐 높이는 의미없어짐\n",
    "\n",
    "(현재 값, 먹은 값과 현재 값의 합, 먹은 값의 수)"
   ]
  },
  {
   "cell_type": "code",
   "execution_count": 1,
   "metadata": {},
   "outputs": [
    {
     "name": "stdout",
     "output_type": "stream",
     "text": [
      "2\n",
      "5 4 2\n",
      "1 2 3\n",
      "1 2 6\n",
      "2 3 2\n",
      "3 4 4\n",
      "3 5 3\n",
      "5\n",
      "4\n",
      "4 5\n",
      "6 9 2\n",
      "2 3 1\n",
      "1 2 1\n",
      "1 3 3\n",
      "2 4 4\n",
      "2 5 5\n",
      "3 4 3\n",
      "3 6 2\n",
      "4 5 4\n",
      "4 6 3\n",
      "5 6 7\n",
      "5\n",
      "6\n",
      "6\n"
     ]
    }
   ],
   "source": [
    "from heapq import heappush, heappop\n",
    "import sys\n",
    "# input = sys.stdin.readline\n",
    "\n",
    "def dij(s):\n",
    "    heap = []\n",
    "    distances = [float('inf')] * n\n",
    "    distances[s] = 0\n",
    "\n",
    "    heappush(heap, (0, s)) # 해당 노드까지 걸린 거리, 노드 번호\n",
    "    while heap:\n",
    "        dist, value = heappop(heap)\n",
    "\n",
    "        for v, d in li[value]:\n",
    "            ndist = dist + d\n",
    "            if ndist < distances[v]:\n",
    "                distances[v] = ndist\n",
    "                heappush(heap, (ndist, v))\n",
    "    return distances        \n",
    "        \n",
    "\n",
    "for _ in range(int(input().rstrip())):\n",
    "    n, m, t = map(int, input().rstrip().split())\n",
    "    s, g, h = map(lambda x: int(x) - 1, input().rstrip().split())\n",
    "    li = [[] for _ in range(n)]\n",
    "    for _ in range(m):\n",
    "        a, b, d = map(int, input().rstrip().split())\n",
    "        a -= 1\n",
    "        b -= 1\n",
    "\n",
    "        li[a].append((b, d))\n",
    "        li[b].append((a, d))\n",
    "      \n",
    "    dests = [] # destinations\n",
    "    for _ in range(t):\n",
    "        dests.append(int(input().rstrip()) - 1)\n",
    "    dests.sort()\n",
    "    result = []\n",
    "    \n",
    "    s_dists = dij(s)\n",
    "    g_dists = dij(g)\n",
    "    h_dists = dij(h)\n",
    "    \n",
    "    for dest in dests:\n",
    "        dist_without_cond = s_dists[dest]\n",
    "        dist_with_cond = min(s_dists[g] + g_dists[h] + h_dists[dest], s_dists[h] + h_dists[g] + g_dists[dest])\n",
    "        if dist_without_cond != float('inf') and dist_without_cond == dist_with_cond:\n",
    "            result.append(dest + 1)\n",
    "\n",
    "    print(*result)"
   ]
  },
  {
   "cell_type": "markdown",
   "metadata": {},
   "source": [
    "### KCM Travel 10217"
   ]
  },
  {
   "cell_type": "raw",
   "metadata": {},
   "source": [
    "dp[노드 번호][소요 자원 비용] = 가능한 최소 소요 시간"
   ]
  },
  {
   "cell_type": "code",
   "execution_count": null,
   "metadata": {},
   "outputs": [],
   "source": []
  },
  {
   "cell_type": "code",
   "execution_count": null,
   "metadata": {},
   "outputs": [
    {
     "name": "stdout",
     "output_type": "stream",
     "text": [
      "2\n",
      "3 100 3\n",
      "1 2 1 1\n",
      "2 3 1 1\n",
      "1 3 3 30\n",
      "30\n"
     ]
    }
   ],
   "source": [
    "from deque import heappush, heappop\n",
    "import sys\n",
    "# input = sys.stdin.readline\n",
    "\n",
    "for _ in range(int(input().rstrip())):\n",
    "    n, m, k = map(int, input().rstrip().split())\n",
    "    li = [[] for _ in range(n)]\n",
    "    for _ in range(k):\n",
    "        u, v, c, d = map(int, input().rstrip().split())\n",
    "        u -= 1\n",
    "        v -= 1\n",
    "\n",
    "        li[u].append((v, c, d))\n",
    "\n",
    "    dp = [[float('inf')] * (m + 1) for _ in range(n)]\n",
    "    dp[0][0] = 0\n",
    "    deque = \n",
    "    heappush(heap, (0, 0, 0)) # 소요 시간, 소요 비용, 노드 번호, 소요 비용 접근 가능 케이스\n",
    "    while heap:\n",
    "        time_spent, value, cost = heappop(heap)\n",
    "        \n",
    "        if time_spent > dp[value][cost]:\n",
    "            continue\n",
    "\n",
    "        for v, c, d in li[value]:\n",
    "            n_time_spent = time_spent + d \n",
    "            ncost = cost + c\n",
    "            if ncost <= m:\n",
    "                if n_time_spent < dp[v][ncost]:\n",
    "                    dp[v][ncost] = n_time_spent\n",
    "                    heappush(heap, (n_time_spent, v, ncost))\n",
    "\n",
    "    min_result = float('inf')\n",
    "    for i in range(m):\n",
    "        min_result = min(min_result, dp[n - 1][i])\n",
    "\n",
    "    if min_result == float('inf'):\n",
    "        print('Poor KCM')\n",
    "    else:\n",
    "        print(min_result)"
   ]
  },
  {
   "cell_type": "code",
   "execution_count": 42,
   "metadata": {},
   "outputs": [
    {
     "name": "stdout",
     "output_type": "stream",
     "text": [
      "[0, inf, inf, inf, inf, inf, inf, inf, inf, inf, inf]\n",
      "[inf, inf, inf, inf, inf, 3, inf, inf, inf, inf, inf]\n",
      "[inf, inf, inf, inf, inf, 7, inf, inf, inf, inf, 6]\n",
      "[inf, 11, inf, inf, inf, inf, 12, inf, inf, inf, inf]\n"
     ]
    }
   ],
   "source": [
    "for v in dp:\n",
    "    print(v)"
   ]
  },
  {
   "cell_type": "code",
   "execution_count": 36,
   "metadata": {},
   "outputs": [
    {
     "name": "stdout",
     "output_type": "stream",
     "text": [
      "Poor KCM\n"
     ]
    }
   ],
   "source": [
    "from heapq import heappush, heappop\n",
    "import sys\n",
    "# input = sys.stdin.readline\n",
    "\n",
    "# n, m, k = map(int, input().rstrip().split())\n",
    "# li = [[] for _ in range(n)]\n",
    "# for _ in range(k):\n",
    "#     u, v, c, d = map(int, input().rstrip().split())\n",
    "#     u -= 1\n",
    "#     v -= 1\n",
    "\n",
    "#     li[u].append((v, c, d))\n",
    "\n",
    "dp = [[float('inf')] * (m + 1) for _ in range(n)]\n",
    "dp[0][0] = 0\n",
    "heap = []\n",
    "heappush(heap, (0, 0, 0)) # 소요 시간, 소요 비용, 노드 번호\n",
    "while heap:\n",
    "    time_spent, cost, value = heappop(heap)\n",
    "\n",
    "    for v, c, d in li[value]:\n",
    "        n_time_spent = time_spent + d\n",
    "        ncost = cost + c\n",
    "        n_time_spent\n",
    "        if ncost <= m:\n",
    "            for i in range(m - ncost + 1):\n",
    "                if n_time_spent < dp[v][ncost]:\n",
    "                    dp[v][ncost] = n_time_spent\n",
    "                    heappush(heap, (n_time_spent, ncost, v))\n",
    "\n",
    "min_result = float('inf')\n",
    "for i in range(m):\n",
    "    min_result = min(min_result, dp[n - 1][i])\n",
    "\n",
    "if min_result == float('inf'):\n",
    "    print('Poor KCM')\n",
    "else:\n",
    "    print(min_result)"
   ]
  },
  {
   "cell_type": "markdown",
   "metadata": {},
   "source": [
    "### 그룹 단어 체커 1316"
   ]
  },
  {
   "cell_type": "code",
   "execution_count": 5,
   "metadata": {},
   "outputs": [
    {
     "name": "stdout",
     "output_type": "stream",
     "text": [
      "4\n",
      "aba\n",
      "abab\n",
      "abcabc\n",
      "a\n",
      "1\n"
     ]
    }
   ],
   "source": [
    "n = int(input())\n",
    "\n",
    "def check(s):\n",
    "    if len(s) == 1:\n",
    "        return 1\n",
    "    st = {s[0]}\n",
    "    for i in range(1, len(s)):\n",
    "        if s[i] in st and s[i - 1] != s[i]:\n",
    "            return 0\n",
    "        st.add(s[i])\n",
    "    return 1\n",
    "\n",
    "total = 0\n",
    "for _ in range(n):\n",
    "    s = input()\n",
    "    total += check(s)\n",
    "print(total)"
   ]
  },
  {
   "cell_type": "markdown",
   "metadata": {},
   "source": [
    "### 개근상 1563"
   ]
  },
  {
   "cell_type": "code",
   "execution_count": null,
   "metadata": {},
   "outputs": [],
   "source": [
    "되는 경우가 아니라 전체 경우에서 안되는 경우들을 빼면 어떨까?\n",
    "2. LL\n",
    "3. LLO, LLA, LOL, LAL, ALL, OLL, LLL, AAA\n",
    "\n",
    "3 ** 2 - 1\n",
    "3 ** 3 - 8\n",
    "\n",
    "\n",
    "\n",
    "n=6\n",
    "\n",
    "AAA의 경우:\n",
    "\n",
    "AAAOOO\n",
    "OAAAOO\n",
    "OOAAAO\n",
    "OOOAAA\n",
    "\n",
    "\n",
    "AAA 바로 뒤에만 A가 없으면 됨\n",
    "\n",
    "(n - 2)번 돌리는데\n",
    "그 중 (n - 3)번은 3 ** (n - 4) * 2\n",
    "1번은 3 ** (n - 3)\n",
    "\n",
    "L의 경우:\n",
    "nc2 + nc3 + nc4 + nc5 + .. ncn\n",
    "\n",
    "AAA과 LL 케이스에 모두 해당하는 경우\n",
    "(r최소: n - )\n",
    "(n - 2) * ((n - 3)c2 + (n - 3)c3 + (n - 3)c4 + .. (n - 3)c(n - 3))"
   ]
  },
  {
   "cell_type": "code",
   "execution_count": 63,
   "metadata": {},
   "outputs": [
    {
     "name": "stdout",
     "output_type": "stream",
     "text": [
      "6\n",
      "191\n"
     ]
    }
   ],
   "source": [
    "from math import factorial\n",
    "\n",
    "n = int(input())\n",
    "\n",
    "def nCr(n, r):\n",
    "    numerator = 1\n",
    "    for i in range(n, n - r, -1):\n",
    "        numerator *= i\n",
    "        \n",
    "    denominator = factorial(r)\n",
    "    \n",
    "    return numerator // denominator\n",
    "\n",
    "mod = 1000000\n",
    "\n",
    "if n == 1:\n",
    "    print(3)\n",
    "elif n == 2:\n",
    "    print(3 ** 2 - 1)\n",
    "elif n == 3:\n",
    "    print(3 ** 3 - 8)\n",
    "else:\n",
    "    all_case = 3 ** n % mod \n",
    "\n",
    "    L_case = 0\n",
    "    for r in range(2, n + 1):\n",
    "        L_case += nCr(n, r) * 2 ** (n - r)\n",
    "    L_case %= mod\n",
    "\n",
    "    A_case = (n - 3) * (3 ** (n - 4) * 2) + 3 ** (n - 3)\n",
    "    A_case %= mod\n",
    "\n",
    "    temp = 0\n",
    "    for r in range(2, n - 2):\n",
    "        temp += nCr(n - 3, r) % mod\n",
    "    AL_case = (n - 2) * temp % mod\n",
    "\n",
    "    print((all_case - L_case - A_case + AL_case) % mod)"
   ]
  },
  {
   "cell_type": "code",
   "execution_count": 66,
   "metadata": {},
   "outputs": [
    {
     "data": {
      "text/plain": [
       "16"
      ]
     },
     "execution_count": 66,
     "metadata": {},
     "output_type": "execute_result"
    }
   ],
   "source": [
    "AL_case"
   ]
  },
  {
   "cell_type": "code",
   "execution_count": 33,
   "metadata": {},
   "outputs": [
    {
     "data": {
      "text/plain": [
       "33"
      ]
     },
     "execution_count": 33,
     "metadata": {},
     "output_type": "execute_result"
    }
   ],
   "source": [
    "4 * 6 + 2 * 4 + 1"
   ]
  },
  {
   "cell_type": "code",
   "execution_count": 65,
   "metadata": {},
   "outputs": [
    {
     "ename": "NameError",
     "evalue": "name 'al_case' is not defined",
     "output_type": "error",
     "traceback": [
      "\u001b[1;31m---------------------------------------------------------------------------\u001b[0m",
      "\u001b[1;31mNameError\u001b[0m                                 Traceback (most recent call last)",
      "\u001b[1;32m<ipython-input-65-dcea7ebdb074>\u001b[0m in \u001b[0;36m<module>\u001b[1;34m\u001b[0m\n\u001b[1;32m----> 1\u001b[1;33m \u001b[0mal_case\u001b[0m\u001b[1;33m\u001b[0m\u001b[1;33m\u001b[0m\u001b[0m\n\u001b[0m",
      "\u001b[1;31mNameError\u001b[0m: name 'al_case' is not defined"
     ]
    }
   ],
   "source": [
    "al_case"
   ]
  },
  {
   "cell_type": "code",
   "execution_count": null,
   "metadata": {},
   "outputs": [],
   "source": [
    "n == 6의 경우\n",
    "AL 케이스:\n",
    "    \n",
    "AAAALL\n",
    "LAAAAL\n",
    "LLAAAA\n",
    "\n",
    "AAALLO\n",
    "AAALLA\n",
    "AAALLL\n",
    "AAALOL\n",
    "AAALAL\n",
    "AAAOLL\n",
    "\n",
    "LAAALO\n",
    "LAAALA\n",
    "LAAAOL\n",
    "OAAALL\n",
    "\n",
    "\n",
    "\n",
    "\n"
   ]
  },
  {
   "cell_type": "code",
   "execution_count": null,
   "metadata": {},
   "outputs": [],
   "source": [
    "n == 5의 경우\n",
    "AL 케이스:\n",
    "    \n",
    "AAALL\n",
    "LAAAL\n",
    "LLAAA"
   ]
  },
  {
   "cell_type": "code",
   "execution_count": null,
   "metadata": {},
   "outputs": [],
   "source": [
    "n == 4의 경우\n",
    "\n",
    "AAAO\n",
    "AAAL\n",
    "OAAA\n",
    "LAAA\n",
    "AAAA\n",
    "\n",
    "LLOO\n",
    "LLOA\n",
    "LLAO\n",
    "LLAA\n",
    "세트 6개\n",
    "\n",
    "LLLA\n",
    "LLLO\n",
    "세트 4개\n",
    "\n",
    "LLLL\n",
    "세트 1개\n",
    "\n",
    "4 * 6 + 2 * 4 + 1"
   ]
  },
  {
   "cell_type": "markdown",
   "metadata": {},
   "source": [
    "### 알고스팟어 2848"
   ]
  },
  {
   "cell_type": "code",
   "execution_count": null,
   "metadata": {},
   "outputs": [],
   "source": [
    "비록 초반에 indegree가 0인 것이 여러 개가 있어도 불가능한 값이 있게 되는 경우 ?가 아니라 !가 되는 경우가 있을 수 있음\n",
    "\n",
    "ab\n",
    "cb\n",
    "bk\n",
    "kb\n",
    "bkk"
   ]
  },
  {
   "cell_type": "code",
   "execution_count": 177,
   "metadata": {},
   "outputs": [
    {
     "name": "stdout",
     "output_type": "stream",
     "text": [
      "2\n",
      "ab\n",
      "a\n",
      "!\n"
     ]
    }
   ],
   "source": [
    "from collections import defaultdict, deque\n",
    "\n",
    "n = int(input())\n",
    "li = [input() for _ in range(n)]\n",
    "\n",
    "if n == 1:\n",
    "    if len(set(li[0])) == 1:\n",
    "        print(li[0][0])\n",
    "    else:\n",
    "        print('?')\n",
    "else:\n",
    "    has_one_answer = True\n",
    "    is_wrong = False\n",
    "    \n",
    "    letters = set()\n",
    "    for value in li:\n",
    "        letters |= set(value)\n",
    "    \n",
    "    indegree = defaultdict(int)\n",
    "    pres = defaultdict(list)\n",
    "    posts = defaultdict(list)\n",
    "\n",
    "    for i in range(1, n):\n",
    "        for j in range(min(len(li[i - 1]), len(li[i]))):\n",
    "            if li[i - 1][j] == li[i][j]:\n",
    "                if li[i - 1][j + 1:] and not li[i][j + 1:]:\n",
    "                    is_wrong = True\n",
    "                continue\n",
    "            if li[i - 1][j] != li[i][j]:\n",
    "                posts[li[i - 1][j]].append(li[i][j])\n",
    "                pres[li[i][j]].append(li[i - 1][j])\n",
    "                indegree[li[i][j]] += 1\n",
    "                break    \n",
    "\n",
    "    result = []\n",
    "    queue = deque(letters - set(indegree.keys()))\n",
    "\n",
    "    if len(queue) == 0:\n",
    "        print('!')\n",
    "    else:\n",
    "        for key in queue:\n",
    "            indegree[key] = 0\n",
    "            result.append(key) \n",
    "        \n",
    "        if len(queue) >= 2:\n",
    "            has_one_answer = False\n",
    "                   \n",
    "        while True:\n",
    "            new_queue = deque()\n",
    "            while queue:\n",
    "                value = queue.popleft()\n",
    "\n",
    "                for v in posts[value]:\n",
    "                    indegree[v] -= 1\n",
    "                    if indegree[v] < 0:\n",
    "                        is_wrong = True\n",
    "\n",
    "                    if indegree[v] == 0:\n",
    "                        result.append(v)\n",
    "                        new_queue.append(v)      \n",
    "            if is_wrong:\n",
    "                break\n",
    "            if len(new_queue) >= 2:\n",
    "                has_one_answer = False\n",
    "            if not new_queue:\n",
    "                break\n",
    "            queue = new_queue.copy()\n",
    "\n",
    "        if len(result) < len(letters):\n",
    "            is_wrong = True\n",
    "            \n",
    "        if is_wrong:\n",
    "            print('!')\n",
    "        elif not has_one_answer:\n",
    "            print('?')\n",
    "        else:\n",
    "            print(''.join(result))"
   ]
  },
  {
   "cell_type": "code",
   "execution_count": 183,
   "metadata": {},
   "outputs": [
    {
     "name": "stdout",
     "output_type": "stream",
     "text": [
      "1\n",
      "aaaa\n",
      "?\n"
     ]
    }
   ],
   "source": [
    "from collections import defaultdict, deque\n",
    "\n",
    "n = int(input())\n",
    "li = [input() for _ in range(n)]\n",
    "\n",
    "if n == 1:\n",
    "    if len(li[0]) == 1:\n",
    "        print(li[0][0])\n",
    "    else:\n",
    "        print('?')\n",
    "else:\n",
    "    has_one_answer = True\n",
    "    is_wrong = False\n",
    "    \n",
    "    letters = set()\n",
    "    for value in li:\n",
    "        letters |= set(value)\n",
    "    \n",
    "    indegree = defaultdict(int)\n",
    "    pres = defaultdict(list)\n",
    "    posts = defaultdict(list)\n",
    "\n",
    "    for i in range(1, n):\n",
    "        for j in range(min(len(li[i - 1]), len(li[i]))):\n",
    "            if li[i - 1][j] == li[i][j]:\n",
    "                if li[i - 1][j + 1:] and not li[i][j + 1:]:\n",
    "                    is_wrong = True\n",
    "                continue\n",
    "            if li[i - 1][j] != li[i][j]:\n",
    "                posts[li[i - 1][j]].append(li[i][j])\n",
    "                pres[li[i][j]].append(li[i - 1][j])\n",
    "                indegree[li[i][j]] += 1\n",
    "                break    \n",
    "\n",
    "    result = []\n",
    "    queue = deque(letters - set(indegree.keys()))\n",
    "\n",
    "    if len(queue) == 0:\n",
    "        print('!')\n",
    "    else:\n",
    "        for key in queue:\n",
    "            indegree[key] = 0\n",
    "            result.append(key) \n",
    "        \n",
    "        if len(queue) >= 2:\n",
    "            has_one_answer = False\n",
    "                   \n",
    "        while True:\n",
    "            new_queue = deque()\n",
    "            while queue:\n",
    "                value = queue.popleft()\n",
    "\n",
    "                for v in posts[value]:\n",
    "                    indegree[v] -= 1\n",
    "                    if indegree[v] < 0:\n",
    "                        is_wrong = True\n",
    "\n",
    "                    if indegree[v] == 0:\n",
    "                        result.append(v)\n",
    "                        new_queue.append(v)      \n",
    "            if is_wrong:\n",
    "                break\n",
    "            if len(new_queue) >= 2:\n",
    "                has_one_answer = False\n",
    "            if not new_queue:\n",
    "                break\n",
    "            queue = new_queue.copy()\n",
    "\n",
    "        if len(result) < len(letters):\n",
    "            is_wrong = True\n",
    "            \n",
    "        if is_wrong:\n",
    "            print('!')\n",
    "        elif not has_one_answer:\n",
    "            print('?')\n",
    "        else:\n",
    "            print(''.join(result))"
   ]
  },
  {
   "cell_type": "code",
   "execution_count": null,
   "metadata": {},
   "outputs": [],
   "source": [
    "### 개선 케이스\n",
    "n = 1\n",
    "aaaaa"
   ]
  },
  {
   "cell_type": "code",
   "execution_count": 132,
   "metadata": {},
   "outputs": [
    {
     "data": {
      "text/plain": [
       "['o', 'r', 'm', 'k', 'a', 'd', 'z']"
      ]
     },
     "execution_count": 132,
     "metadata": {},
     "output_type": "execute_result"
    }
   ],
   "source": [
    "result"
   ]
  },
  {
   "cell_type": "code",
   "execution_count": 128,
   "metadata": {},
   "outputs": [
    {
     "data": {
      "text/plain": [
       "defaultdict(int, {'k': 0, 'u': 0, 'a': 0, 'l': 0})"
      ]
     },
     "execution_count": 128,
     "metadata": {},
     "output_type": "execute_result"
    }
   ],
   "source": [
    "indegree"
   ]
  },
  {
   "cell_type": "code",
   "execution_count": 110,
   "metadata": {},
   "outputs": [
    {
     "data": {
      "text/plain": [
       "['d', 'z']"
      ]
     },
     "execution_count": 110,
     "metadata": {},
     "output_type": "execute_result"
    }
   ],
   "source": [
    "result"
   ]
  },
  {
   "cell_type": "code",
   "execution_count": 115,
   "metadata": {},
   "outputs": [
    {
     "data": {
      "text/plain": [
       "defaultdict(int, {'d': 0, 'z': 0})"
      ]
     },
     "execution_count": 115,
     "metadata": {},
     "output_type": "execute_result"
    }
   ],
   "source": [
    "indegree"
   ]
  },
  {
   "cell_type": "code",
   "execution_count": 118,
   "metadata": {},
   "outputs": [],
   "source": [
    "queue = deque(letters - set(indegree.keys()))"
   ]
  },
  {
   "cell_type": "code",
   "execution_count": 120,
   "metadata": {},
   "outputs": [
    {
     "data": {
      "text/plain": [
       "{'a', 'd', 'k', 'm', 'o', 'r', 'z'}"
      ]
     },
     "execution_count": 120,
     "metadata": {},
     "output_type": "execute_result"
    }
   ],
   "source": [
    "letters"
   ]
  },
  {
   "cell_type": "code",
   "execution_count": 121,
   "metadata": {},
   "outputs": [
    {
     "data": {
      "text/plain": [
       "{'d', 'z'}"
      ]
     },
     "execution_count": 121,
     "metadata": {},
     "output_type": "execute_result"
    }
   ],
   "source": [
    "set(indegree.keys())"
   ]
  },
  {
   "cell_type": "code",
   "execution_count": 122,
   "metadata": {},
   "outputs": [
    {
     "data": {
      "text/plain": [
       "deque(['o', 'r', 'm', 'k', 'a'])"
      ]
     },
     "execution_count": 122,
     "metadata": {},
     "output_type": "execute_result"
    }
   ],
   "source": [
    "deque(letters - set(indegree.keys()))"
   ]
  },
  {
   "cell_type": "code",
   "execution_count": null,
   "metadata": {},
   "outputs": [],
   "source": []
  },
  {
   "cell_type": "code",
   "execution_count": 114,
   "metadata": {},
   "outputs": [
    {
     "data": {
      "text/plain": [
       "['d', 'z']"
      ]
     },
     "execution_count": 114,
     "metadata": {},
     "output_type": "execute_result"
    }
   ],
   "source": [
    "result"
   ]
  },
  {
   "cell_type": "code",
   "execution_count": null,
   "metadata": {},
   "outputs": [],
   "source": [
    "abcd"
   ]
  },
  {
   "cell_type": "code",
   "execution_count": 94,
   "metadata": {},
   "outputs": [
    {
     "data": {
      "text/plain": [
       "defaultdict(int, {'b': 0, 'c': 0, 'd': 0})"
      ]
     },
     "execution_count": 94,
     "metadata": {},
     "output_type": "execute_result"
    }
   ],
   "source": [
    "indegree"
   ]
  },
  {
   "cell_type": "code",
   "execution_count": null,
   "metadata": {},
   "outputs": [],
   "source": [
    "? 케이스\n",
    "abc\n",
    "abd\n",
    "bc\n",
    "bd"
   ]
  },
  {
   "cell_type": "markdown",
   "metadata": {},
   "source": [
    "### 벽장문의 이동 2666 (다시 풀음)"
   ]
  },
  {
   "cell_type": "code",
   "execution_count": null,
   "metadata": {},
   "outputs": [],
   "source": [
    "         2 5\n",
    "    2 4        4 5\n",
    "  3 4  2 3  3 4  3 5    "
   ]
  },
  {
   "cell_type": "code",
   "execution_count": 2,
   "metadata": {},
   "outputs": [
    {
     "name": "stdout",
     "output_type": "stream",
     "text": [
      "7\n",
      "2 5\n",
      "4\n",
      "3\n",
      "1\n",
      "6\n",
      "5\n"
     ]
    }
   ],
   "source": [
    "n = int(input())\n",
    "a, b = map(lambda x: int(x) - 1, input().split())\n",
    "k = int(input())\n",
    "to_uses = [int(input()) - 1 for _ in range(k)]\n",
    "\n",
    "dp = [[[float('inf')] * n for _ in range(n)] for _ in range(k)]"
   ]
  },
  {
   "cell_type": "code",
   "execution_count": 11,
   "metadata": {},
   "outputs": [
    {
     "name": "stdout",
     "output_type": "stream",
     "text": [
      "7\n",
      "2 5\n",
      "4\n",
      "3\n",
      "1\n",
      "6\n",
      "5\n",
      "5\n"
     ]
    }
   ],
   "source": [
    "n = int(input())\n",
    "a, b = map(lambda x: int(x) - 1, input().split())\n",
    "k = int(input())\n",
    "to_uses = [int(input()) - 1 for _ in range(k)]\n",
    "\n",
    "def get_sorted(a, b):\n",
    "    if a < b:\n",
    "        return a, b\n",
    "    else:\n",
    "        return b, a\n",
    "\n",
    "def get_count(current, target):\n",
    "    return abs(current - target)\n",
    "    \n",
    "d = dict()\n",
    "d[get_sorted(a, b)] = 0\n",
    "\n",
    "for to_use in to_uses:\n",
    "    new_d = dict()\n",
    "    \n",
    "    for case, count in d.items():\n",
    "        a, b = case\n",
    "        \n",
    "        if a == to_use or b == to_use:\n",
    "            if case in new_d:\n",
    "                new_d[case] = min(new_d[case], count)\n",
    "                continue\n",
    "            else:\n",
    "                new_d[case] = count\n",
    "            \n",
    "            \n",
    "        ncount = count + get_count(a, to_use)\n",
    "        ncase = get_sorted(to_use, b)\n",
    "        if ncase in new_d:\n",
    "            new_d[ncase] = min(new_d[ncase], ncount)\n",
    "        else:\n",
    "            new_d[ncase] = ncount\n",
    "        \n",
    "        ncount = count + get_count(b, to_use)\n",
    "        ncase = get_sorted(to_use, a)\n",
    "        if ncase in new_d:\n",
    "            new_d[ncase] = min(new_d[ncase], ncount)\n",
    "        else:\n",
    "            new_d[ncase] = ncount\n",
    "    \n",
    "    d = new_d.copy()\n",
    "        \n",
    "min_value = float('inf')\n",
    "for value in d.values():\n",
    "    min_value = min(min_value, value)\n",
    "    \n",
    "print(min_value)"
   ]
  },
  {
   "cell_type": "markdown",
   "metadata": {},
   "source": [
    "### 트리플렛 3042"
   ]
  },
  {
   "cell_type": "code",
   "execution_count": 77,
   "metadata": {},
   "outputs": [
    {
     "data": {
      "text/plain": [
       "3"
      ]
     },
     "execution_count": 77,
     "metadata": {},
     "output_type": "execute_result"
    }
   ],
   "source": [
    "from math import gcd\n",
    "gcd(3,6)"
   ]
  },
  {
   "cell_type": "code",
   "execution_count": 80,
   "metadata": {
    "scrolled": true
   },
   "outputs": [
    {
     "name": "stdout",
     "output_type": "stream",
     "text": [
      "3\n",
      "aaa\n",
      "aaa\n",
      "aaa\n",
      "8\n"
     ]
    }
   ],
   "source": [
    "from math import gcd\n",
    "\n",
    "n = int(input())\n",
    "li = [input() for _ in range(n)]\n",
    "\n",
    "def nC3(n):\n",
    "    temp = 1\n",
    "    for i in range(3):\n",
    "        temp *= (n - i)\n",
    "    return temp // 6\n",
    "\n",
    "total_count = 0\n",
    "for dx in range(n // 2 + 1):\n",
    "    for dy in range(-(n // 2), n // 2 + 1):\n",
    "        if gcd(dx, dy) >= 2:\n",
    "            continue\n",
    "        if dx == 0 and dy <= 0:\n",
    "            continue\n",
    "        \n",
    "        visited = set()\n",
    "        for sx in range(n):\n",
    "            if sx + 2 * dx < 0 or sx + 2 * dx >= n:\n",
    "                continue\n",
    "\n",
    "            for sy in range(n):\n",
    "                if sy + 2 * dy < 0 or sy + 2 * dy >= n:\n",
    "                    continue\n",
    "                if not li[sx][sy].isalpha():\n",
    "                    continue\n",
    "                if (sx, sy) in visited:\n",
    "                    continue\n",
    "                visited.add((sx, sy))                    \n",
    "                    \n",
    "                count = 1\n",
    "                x, y = sx, sy\n",
    "                while True:\n",
    "                    nx = x + dx\n",
    "                    ny = y + dy\n",
    "\n",
    "                    if nx >= n or ny < 0 or ny >= n:\n",
    "                        break\n",
    "                    if (nx, ny) in visited:\n",
    "                        break\n",
    "                        \n",
    "                    if li[nx][ny].isalpha():\n",
    "                        count += 1\n",
    "                    visited.add((nx, ny))\n",
    "                    x, y = nx, ny\n",
    "                if count >= 3:\n",
    "                    total_count += nC3(count)\n",
    "\n",
    "print(total_count)"
   ]
  },
  {
   "cell_type": "code",
   "execution_count": null,
   "metadata": {},
   "outputs": [],
   "source": [
    "ABC\n",
    "EFG\n",
    "HIJ"
   ]
  },
  {
   "cell_type": "code",
   "execution_count": null,
   "metadata": {},
   "outputs": [],
   "source": [
    "sx sy dx dy count\n",
    "0 2 2 -1 1\n",
    "2 1 0 1 1"
   ]
  },
  {
   "cell_type": "code",
   "execution_count": null,
   "metadata": {},
   "outputs": [],
   "source": [
    "sx + 2 * dx\n",
    "sy + 2 * dy"
   ]
  },
  {
   "cell_type": "code",
   "execution_count": 32,
   "metadata": {},
   "outputs": [],
   "source": [
    "sx, sy, dx, dy = 0, 2, 2, -1"
   ]
  },
  {
   "cell_type": "code",
   "execution_count": 33,
   "metadata": {},
   "outputs": [
    {
     "data": {
      "text/plain": [
       "4"
      ]
     },
     "execution_count": 33,
     "metadata": {},
     "output_type": "execute_result"
    }
   ],
   "source": [
    "sx + 2 * dx"
   ]
  },
  {
   "cell_type": "markdown",
   "metadata": {},
   "source": [
    "### 중량제한 1939"
   ]
  },
  {
   "cell_type": "code",
   "execution_count": 82,
   "metadata": {},
   "outputs": [
    {
     "name": "stdout",
     "output_type": "stream",
     "text": [
      "3 3\n",
      "1 2 2\n",
      "3 1 3\n",
      "2 3 2\n",
      "1 3\n"
     ]
    }
   ],
   "source": [
    "n, m = map(int, input().split())\n",
    "li = [[] for _ in range(n)]\n",
    "for _ in range(m):\n",
    "    a, b, c = map(int, input().split())\n",
    "    a -= 1\n",
    "    b -= 1\n",
    "    li[a].append((b, c))\n",
    "    li[b].append((a, c))\n",
    "s, e = map(lambda x: int(x) - 1, input().split())"
   ]
  },
  {
   "cell_type": "raw",
   "metadata": {},
   "source": [
    "경로에서 가장 작은 값을 가지고 다니기\n",
    "dp[노드 번호] = 해당 노드까지 도착할 수 있는 가장 큰 중량"
   ]
  },
  {
   "cell_type": "code",
   "execution_count": 85,
   "metadata": {},
   "outputs": [
    {
     "name": "stdout",
     "output_type": "stream",
     "text": [
      "3 3\n",
      "1 2 2\n",
      "3 1 3\n",
      "2 3 2\n",
      "1 3\n",
      "3\n"
     ]
    }
   ],
   "source": [
    "from heapq import heappush, heappop\n",
    "import sys\n",
    "# input = sys.stdin.readline\n",
    "\n",
    "n, m = map(int, input().rstrip().split())\n",
    "li = [[] for _ in range(n)]\n",
    "for _ in range(m):\n",
    "    a, b, c = map(int, input().rstrip().split())\n",
    "    a -= 1\n",
    "    b -= 1\n",
    "    li[a].append((b, c))\n",
    "    li[b].append((a, c))\n",
    "s, e = map(lambda x: int(x) - 1, input().rstrip().split())\n",
    "\n",
    "dp = [0] * n\n",
    "dp[s] = float('inf')\n",
    "\n",
    "heap = []\n",
    "heappush(heap, (-float('inf'), s)) # -최대중량, 노드 번호\n",
    "while heap:\n",
    "    weight, value = heappop(heap)\n",
    "    weight = -weight\n",
    "    \n",
    "    if weight < dp[value]:\n",
    "        continue\n",
    "    \n",
    "    for v, w in li[value]:\n",
    "        nweight = min(weight, w)\n",
    "        \n",
    "        if nweight > dp[v]:\n",
    "            dp[v] = nweight\n",
    "            heappush(heap, (-nweight, v))\n",
    "            \n",
    "print(dp[e])"
   ]
  },
  {
   "cell_type": "code",
   "execution_count": 4,
   "metadata": {},
   "outputs": [
    {
     "name": "stdout",
     "output_type": "stream",
     "text": [
      "3 3\n",
      "1 2 2\n",
      "3 1 3\n",
      "2 3 2\n",
      "1 3\n",
      "3\n"
     ]
    }
   ],
   "source": [
    "import sys\n",
    "# input = sys.stdin.readline\n",
    "\n",
    "n, m = map(int, input().rstrip().split())\n",
    "li = [list(map(int, input().rstrip().split())) for _ in range(m)]\n",
    "li.sort(key= lambda x: -x[2])\n",
    "s, e = map(lambda x: int(x) - 1, input().rstrip().split())\n",
    "\n",
    "parent = list(range(n))\n",
    "rank = [0] * n\n",
    "\n",
    "def find(v):\n",
    "    if v == parent[v]:\n",
    "        return v\n",
    "    parent[v] = find(parent[v])\n",
    "    return parent[v]\n",
    "\n",
    "def union(a, b):\n",
    "    if rank[a] >= rank[b]:\n",
    "        if rank[a] == rank[b]:\n",
    "            rank[a] += 1\n",
    "        parent[b] = a\n",
    "    else:\n",
    "        parent[a] = b\n",
    "\n",
    "for a, b, c in li:\n",
    "    a -= 1\n",
    "    b -= 1\n",
    "    \n",
    "    a = find(a)\n",
    "    b = find(b)\n",
    "    \n",
    "    if a != b:\n",
    "        union(a, b)\n",
    "        \n",
    "        if find(s) == find(e):\n",
    "            print(c)\n",
    "            break"
   ]
  },
  {
   "cell_type": "markdown",
   "metadata": {},
   "source": [
    "### 풍선 맞추기 11509"
   ]
  },
  {
   "cell_type": "code",
   "execution_count": 14,
   "metadata": {},
   "outputs": [
    {
     "name": "stdout",
     "output_type": "stream",
     "text": [
      "5\n",
      "4 2 3 2 1 1\n",
      "2\n"
     ]
    }
   ],
   "source": [
    "from collections import defaultdict\n",
    "\n",
    "n = int(input())\n",
    "li = list(map(int, input().split()))\n",
    "\n",
    "d = defaultdict(int)\n",
    "count = 0\n",
    "for i in range(n):\n",
    "    if d[li[i]]:\n",
    "        d[li[i]] -= 1\n",
    "        d[li[i] - 1] += 1\n",
    "    else:\n",
    "        count += 1\n",
    "        d[li[i] - 1] += 1\n",
    "        \n",
    "print(count)"
   ]
  },
  {
   "cell_type": "markdown",
   "metadata": {},
   "source": [
    "### 키 순서  2458"
   ]
  },
  {
   "cell_type": "code",
   "execution_count": 19,
   "metadata": {},
   "outputs": [
    {
     "name": "stdout",
     "output_type": "stream",
     "text": [
      "6 3\n",
      "1 2\n",
      "2 3\n",
      "4 5\n",
      "0\n"
     ]
    }
   ],
   "source": [
    "from collections import deque\n",
    "import sys\n",
    "# input = sys.stdin.readlnie\n",
    "\n",
    "n, m = map(int, input().rstrip().split())\n",
    "pres = [[] for _ in range(n)]\n",
    "posts = [[] for _ in range(n)]\n",
    "\n",
    "for _ in range(m):\n",
    "    a, b = map(int, input().rstrip().split())\n",
    "    a -= 1 \n",
    "    b -= 1\n",
    "    \n",
    "    pres[b].append(a)\n",
    "    posts[a].append(b)  \n",
    "\n",
    "def bfs(s, li):\n",
    "    queue = deque()\n",
    "    queue.append(s)\n",
    "    \n",
    "    visited = [False] * n\n",
    "    visited[s] = True\n",
    "    count = 0\n",
    "    \n",
    "    while queue:\n",
    "        value = queue.popleft()\n",
    "        \n",
    "        for v in li[value]:\n",
    "            if visited[v]:\n",
    "                continue\n",
    "            visited[v] = True\n",
    "            count += 1\n",
    "            queue.append(v)\n",
    "        \n",
    "    return count\n",
    "    \n",
    "result = 0\n",
    "for i in range(n):\n",
    "    visited_count = 1\n",
    "    visited_count += bfs(i, pres)\n",
    "    visited_count += bfs(i, posts)\n",
    "    \n",
    "    if visited_count == n:\n",
    "        result += 1\n",
    "        \n",
    "print(result)"
   ]
  },
  {
   "cell_type": "markdown",
   "metadata": {},
   "source": [
    "### 구슬 찾기 2617"
   ]
  },
  {
   "cell_type": "code",
   "execution_count": 22,
   "metadata": {},
   "outputs": [
    {
     "name": "stdout",
     "output_type": "stream",
     "text": [
      "3\n",
      "1\n",
      "1\n",
      "3\n",
      "1\n",
      "0\n"
     ]
    }
   ],
   "source": [
    "from collections import deque\n",
    "import sys\n",
    "# input = sys.stdin.readlnie\n",
    "\n",
    "# n, m = map(int, input().rstrip().split())\n",
    "# pres = [[] for _ in range(n)]\n",
    "# posts = [[] for _ in range(n)]\n",
    "\n",
    "# for _ in range(m):\n",
    "#     a, b = map(int, input().rstrip().split())\n",
    "#     a -= 1 \n",
    "#     b -= 1\n",
    "    \n",
    "#     pres[b].append(a)\n",
    "#     posts[a].append(b)  \n",
    "\n",
    "def bfs(s, li):\n",
    "    queue = deque()\n",
    "    queue.append(s)\n",
    "    \n",
    "    visited = [False] * n\n",
    "    visited[s] = True\n",
    "    count = 0\n",
    "    \n",
    "    while queue:\n",
    "        value = queue.popleft()\n",
    "        \n",
    "        for v in li[value]:\n",
    "            if visited[v]:\n",
    "                continue\n",
    "            visited[v] = True\n",
    "            count += 1\n",
    "            queue.append(v)\n",
    "        \n",
    "    return count\n",
    "    \n",
    "result = 0\n",
    "for i in range(n):\n",
    "    count =  max(bfs(i, pres), bfs(i, posts))\n",
    "    if count == n - 1:\n",
    "        result += 1\n",
    "        \n",
    "    print(count)\n",
    "        \n",
    "print(result)"
   ]
  },
  {
   "cell_type": "code",
   "execution_count": null,
   "metadata": {},
   "outputs": [],
   "source": []
  }
 ],
 "metadata": {
  "kernelspec": {
   "display_name": "Python 3",
   "language": "python",
   "name": "python3"
  },
  "language_info": {
   "codemirror_mode": {
    "name": "ipython",
    "version": 3
   },
   "file_extension": ".py",
   "mimetype": "text/x-python",
   "name": "python",
   "nbconvert_exporter": "python",
   "pygments_lexer": "ipython3",
   "version": "3.8.3"
  }
 },
 "nbformat": 4,
 "nbformat_minor": 4
}
