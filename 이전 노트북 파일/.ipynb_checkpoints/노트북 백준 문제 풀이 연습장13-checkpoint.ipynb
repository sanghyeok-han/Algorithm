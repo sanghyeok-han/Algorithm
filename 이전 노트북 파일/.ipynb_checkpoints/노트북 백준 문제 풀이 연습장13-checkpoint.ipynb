{
 "cells": [
  {
   "cell_type": "code",
   "execution_count": 3,
   "metadata": {},
   "outputs": [
    {
     "name": "stdout",
     "output_type": "stream",
     "text": [
      "2000003\n"
     ]
    }
   ],
   "source": [
    "max_num = 3000000\n",
    "ip = [True] * (max_num + 1)\n",
    "ip[0] = ip[1] = False\n",
    "for mod in range(2, int(max_num ** 0.5) + 1):\n",
    "    if ip[mod]:\n",
    "        for v in range(mod * mod, max_num + 1, mod):\n",
    "            ip[v] = False\n",
    "            \n",
    "primes = [i for i, v in enumerate(ip) if v]\n",
    "\n",
    "for v in primes:\n",
    "    if v >= 2000000:\n",
    "        print(v)\n",
    "        break"
   ]
  },
  {
   "cell_type": "code",
   "execution_count": null,
   "metadata": {},
   "outputs": [],
   "source": [
    "2000003"
   ]
  },
  {
   "cell_type": "markdown",
   "metadata": {},
   "source": [
    "https://www.acmicpc.net/problem/23820 MEX"
   ]
  },
  {
   "cell_type": "code",
   "execution_count": 16,
   "metadata": {},
   "outputs": [
    {
     "name": "stdout",
     "output_type": "stream",
     "text": [
      "3\n",
      "0 1 2\n",
      "3\n"
     ]
    }
   ],
   "source": [
    "from collections import Counter\n",
    "\n",
    "n = int(input())\n",
    "ct = Counter(map(int, input().split()))\n",
    "\n",
    "if ct[0] == 0:\n",
    "    print(0)\n",
    "else:\n",
    "    ip = [False] * 2000004\n",
    "    ip[0] = True\n",
    "    \n",
    "    for num in range(1, 2000004):\n",
    "        if ct[num]:\n",
    "            cur_needed = 0\n",
    "            for nnum in range(num, 2000004, num):\n",
    "                cur_needed += 1\n",
    "                \n",
    "                if ct[cur_needed]:\n",
    "                    ip[nnum] = True\n",
    "                        \n",
    "    for num in range(2000004):\n",
    "        if not ip[num]:\n",
    "            print(num)\n",
    "            break"
   ]
  },
  {
   "cell_type": "markdown",
   "metadata": {},
   "source": [
    "https://www.acmicpc.net/problem/13343 Block Game"
   ]
  },
  {
   "cell_type": "code",
   "execution_count": 36,
   "metadata": {},
   "outputs": [
    {
     "name": "stdout",
     "output_type": "stream",
     "text": [
      "1 1 True\n",
      "1 2 True\n",
      "1 3 True\n",
      "1 4 True\n",
      "1 5 True\n",
      "1 6 True\n",
      "1 7 True\n",
      "1 8 True\n",
      "1 9 True\n",
      "1 10 True\n",
      "1 11 True\n",
      "1 12 True\n",
      "1 13 True\n",
      "1 14 True\n",
      "1 15 True\n",
      "1 16 True\n",
      "1 17 True\n",
      "1 18 True\n",
      "1 19 True\n",
      "2 2 True\n",
      "2 3 False\n",
      "2 4 True\n",
      "2 5 True\n",
      "2 6 True\n",
      "2 7 True\n",
      "2 8 True\n",
      "2 9 True\n",
      "2 10 True\n",
      "2 11 True\n",
      "2 12 True\n",
      "2 13 True\n",
      "2 14 True\n",
      "2 15 True\n",
      "2 16 True\n",
      "2 17 True\n",
      "2 18 True\n",
      "2 19 True\n",
      "3 3 True\n",
      "3 4 False\n",
      "3 5 True\n",
      "3 6 True\n",
      "3 7 True\n",
      "3 8 True\n",
      "3 9 True\n",
      "3 10 True\n",
      "3 11 True\n",
      "3 12 True\n",
      "3 13 True\n",
      "3 14 True\n",
      "3 15 True\n",
      "3 16 True\n",
      "3 17 True\n",
      "3 18 True\n",
      "3 19 True\n",
      "4 4 True\n",
      "4 5 False\n",
      "4 6 False\n",
      "4 7 True\n",
      "4 8 True\n",
      "4 9 True\n",
      "4 10 True\n",
      "4 11 True\n",
      "4 12 True\n",
      "4 13 True\n",
      "4 14 True\n",
      "4 15 True\n",
      "4 16 True\n",
      "4 17 True\n",
      "4 18 True\n",
      "4 19 True\n",
      "5 5 True\n",
      "5 6 False\n",
      "5 7 False\n",
      "5 8 False\n",
      "5 9 True\n",
      "5 10 True\n",
      "5 11 True\n",
      "5 12 True\n",
      "5 13 True\n",
      "5 14 True\n",
      "5 15 True\n",
      "5 16 True\n",
      "5 17 True\n",
      "5 18 True\n",
      "5 19 True\n",
      "6 6 True\n",
      "6 7 False\n",
      "6 8 False\n",
      "6 9 False\n",
      "6 10 True\n",
      "6 11 True\n",
      "6 12 True\n",
      "6 13 True\n",
      "6 14 True\n",
      "6 15 True\n",
      "6 16 True\n",
      "6 17 True\n",
      "6 18 True\n",
      "6 19 True\n",
      "7 7 True\n",
      "7 8 False\n",
      "7 9 False\n",
      "7 10 False\n",
      "7 11 False\n",
      "7 12 True\n",
      "7 13 True\n",
      "7 14 True\n",
      "7 15 True\n",
      "7 16 True\n",
      "7 17 True\n",
      "7 18 True\n",
      "7 19 True\n",
      "8 8 True\n",
      "8 9 False\n",
      "8 10 False\n",
      "8 11 False\n",
      "8 12 False\n",
      "8 13 True\n",
      "8 14 True\n",
      "8 15 True\n",
      "8 16 True\n",
      "8 17 True\n",
      "8 18 True\n",
      "8 19 True\n",
      "9 9 True\n",
      "9 10 False\n",
      "9 11 False\n",
      "9 12 False\n",
      "9 13 False\n",
      "9 14 False\n",
      "9 15 True\n",
      "9 16 True\n",
      "9 17 True\n",
      "9 18 True\n",
      "9 19 True\n",
      "10 10 True\n",
      "10 11 False\n",
      "10 12 False\n",
      "10 13 False\n",
      "10 14 False\n",
      "10 15 False\n",
      "10 16 False\n",
      "10 17 True\n",
      "10 18 True\n",
      "10 19 True\n",
      "11 11 True\n",
      "11 12 False\n",
      "11 13 False\n",
      "11 14 False\n",
      "11 15 False\n",
      "11 16 False\n",
      "11 17 False\n",
      "11 18 True\n",
      "11 19 True\n",
      "12 12 True\n",
      "12 13 False\n",
      "12 14 False\n",
      "12 15 False\n",
      "12 16 False\n",
      "12 17 False\n",
      "12 18 False\n",
      "12 19 False\n",
      "13 13 True\n",
      "13 14 False\n",
      "13 15 False\n",
      "13 16 False\n",
      "13 17 False\n",
      "13 18 False\n",
      "13 19 False\n",
      "14 14 True\n",
      "14 15 False\n",
      "14 16 False\n",
      "14 17 False\n",
      "14 18 False\n",
      "14 19 False\n",
      "15 15 True\n",
      "15 16 False\n",
      "15 17 False\n",
      "15 18 False\n",
      "15 19 False\n",
      "16 16 True\n",
      "16 17 False\n",
      "16 18 False\n",
      "16 19 False\n",
      "17 17 True\n",
      "17 18 False\n",
      "17 19 False\n",
      "18 18 True\n",
      "18 19 False\n",
      "19 19 True\n"
     ]
    }
   ],
   "source": [
    "# n, m = map(int, input().split())\n",
    "\n",
    "def recur(n, m):\n",
    "    can_win = False\n",
    "    smaller = min(n, m)\n",
    "    larger = max(n, m)\n",
    "\n",
    "    cur = 1\n",
    "    while True:\n",
    "        to_remove = smaller * cur\n",
    "        if to_remove > larger:\n",
    "            break\n",
    "        elif to_remove == larger:\n",
    "            can_win = True\n",
    "        else:\n",
    "            temp = recur(larger - to_remove, smaller)\n",
    "            if not temp:\n",
    "                can_win = True\n",
    "        cur += 1\n",
    "        \n",
    "    return can_win\n",
    "\n",
    "for i in range(1, 20):\n",
    "    for j in range(i, 20):\n",
    "        print(i, j, recur(i, j))"
   ]
  },
  {
   "cell_type": "code",
   "execution_count": null,
   "metadata": {},
   "outputs": [],
   "source": [
    "2 3\n",
    "3 4\n",
    "4 6\n",
    "5 8\n",
    "6 9\n",
    "7 11\n",
    "8 12\n",
    "9 14\n",
    "10 16\n",
    "11 17\n",
    "12 19"
   ]
  },
  {
   "cell_type": "markdown",
   "metadata": {},
   "source": [
    "https://www.acmicpc.net/problem/14941 호기심"
   ]
  },
  {
   "cell_type": "code",
   "execution_count": 70,
   "metadata": {},
   "outputs": [],
   "source": []
  },
  {
   "cell_type": "code",
   "execution_count": 104,
   "metadata": {},
   "outputs": [
    {
     "name": "stdout",
     "output_type": "stream",
     "text": [
      "2\n",
      "3 7\n",
      "25\n",
      "5 7\n",
      "8\n"
     ]
    }
   ],
   "source": [
    "from bisect import bisect_left\n",
    "import sys\n",
    "input = lambda: sys.stdin.readline().rstrip()\n",
    "\n",
    "max_num = 100001\n",
    "ip = [True] * (max_num + 1)\n",
    "ip[0] = ip[1] = False\n",
    "for mod in range(2, int(max_num ** 0.5) + 1):\n",
    "    if ip[mod]:\n",
    "        for v in range(mod * mod, max_num + 1, mod):\n",
    "            ip[v] = False\n",
    "            \n",
    "primes = [i for i, v in enumerate(ip) if v]\n",
    "\n",
    "evens = [primes[i] for i in range(0, len(primes), 2)] # 0, 2, 4, 6\n",
    "odds = [primes[i] for i in range(1, len(primes), 2)] # 1, 3, 5 ,7\n",
    "\n",
    "evens_len = len(evens)\n",
    "odds_len = len(odds)\n",
    "\n",
    "s_evens = [0]\n",
    "cumul = 0\n",
    "for i in range(evens_len):\n",
    "    cumul += evens[i]\n",
    "    s_evens.append(cumul)\n",
    "    \n",
    "s_odds = [0]\n",
    "cumul = 0\n",
    "for i in range(odds_len):\n",
    "    cumul += odds[i]\n",
    "    s_odds.append(cumul)\n",
    "\n",
    "for _ in range(int(input())):\n",
    "    a, b = map(int, input().split())\n",
    "\n",
    "    even_s = bisect_left(evens, a)\n",
    "    index = bisect_left(evens, b)\n",
    "    if evens[index] != b:\n",
    "        index -= 1    \n",
    "    even_e = index\n",
    "\n",
    "    odds_s = bisect_left(odds, a)\n",
    "    index = bisect_left(odds, b)\n",
    "    if odds[index] != b:\n",
    "        index -= 1    \n",
    "    odds_e = index\n",
    "\n",
    "    all_s = bisect_left(primes, a)\n",
    "\n",
    "    t1 = s_evens[even_e + 1] - s_evens[even_s]\n",
    "    t2 = s_odds[odds_e + 1] - s_odds[odds_s]\n",
    "\n",
    "    r = -1\n",
    "    if all_s % 2 == 0:\n",
    "        r = t1 * 3 - t2\n",
    "    else:\n",
    "        r = t2 * 3 - t1\n",
    "\n",
    "    print(r)"
   ]
  },
  {
   "cell_type": "markdown",
   "metadata": {},
   "source": [
    "https://www.acmicpc.net/problem/23074 자연수 색칠하기 2"
   ]
  },
  {
   "cell_type": "code",
   "execution_count": 122,
   "metadata": {},
   "outputs": [
    {
     "name": "stdout",
     "output_type": "stream",
     "text": [
      "50\n",
      "25\n",
      "1 1 1 2 1 3 1 4 2 5 1 6 1 7 3 8 1 9 1 10 4 11 1 12 2 13 5 14 1 15 1 16 6 17 3 18 1 19 7 20 1 21 1 22 8 23 1 24 2 25\n"
     ]
    }
   ],
   "source": [
    "n = int(input())\n",
    "color = [1] * (n + 1)\n",
    "\n",
    "for num in range(2, n + 1):\n",
    "    cur_color = color[num]\n",
    "    nxt_color = cur_color + 1\n",
    "    for nnum in range(num + num, n + 1, num):\n",
    "        if cur_color == color[nnum]:\n",
    "            color[nnum] = nxt_color\n",
    "            nxt_color += 1\n",
    "        \n",
    "print(nxt_color - 1)\n",
    "print(*color[1:])"
   ]
  },
  {
   "cell_type": "markdown",
   "metadata": {},
   "source": [
    "https://www.acmicpc.net/problem/2494 숫자 맞추기"
   ]
  },
  {
   "cell_type": "code",
   "execution_count": null,
   "metadata": {},
   "outputs": [],
   "source": [
    "왼쪽으로 한 칸 돌리면 +1\n",
    "오른쪽으로 한 칸 돌리면 -1"
   ]
  },
  {
   "cell_type": "code",
   "execution_count": 18,
   "metadata": {},
   "outputs": [
    {
     "name": "stdout",
     "output_type": "stream",
     "text": [
      "3\n",
      "326\n",
      "446\n",
      "4\n",
      "1 1\n",
      "2 1\n",
      "3 -2\n"
     ]
    }
   ],
   "source": [
    "inf = float('inf')\n",
    "\n",
    "n = int(input())\n",
    "a = list(map(int, input()))\n",
    "b = list(map(int, input()))\n",
    "\n",
    "dp = [[inf] * 10 for _ in range(n)]\n",
    "route = [[[-1] * 2 for _ in range(10)] for _ in range(n)]\n",
    "\n",
    "lc = (b[0] - a[0]) % 10\n",
    "rc = (10 - lc) % 10\n",
    "\n",
    "dp[0][lc] = lc\n",
    "route[0][lc] = [0, 1]\n",
    "\n",
    "dp[0][0] = rc\n",
    "route[0][0] = [0, -1]\n",
    "\n",
    "for i in range(n - 1):\n",
    "    o_lc = (b[i + 1] - a[i + 1]) % 10\n",
    "    o_rc = (10 - o_lc) % 10\n",
    "    \n",
    "    for f_lc in range(10):\n",
    "        c1 = (o_lc - f_lc) % 10\n",
    "        c2 = (o_rc + f_lc) % 10\n",
    "        \n",
    "        lc1 = (f_lc + c1) % 10\n",
    "        lc2 = f_lc\n",
    "        \n",
    "        t1 = dp[i][f_lc] + c1\n",
    "        if t1 < dp[i + 1][lc1]:\n",
    "            dp[i + 1][lc1] = t1\n",
    "            route[i + 1][lc1] = [f_lc, 1]\n",
    "            \n",
    "        t2 = dp[i][f_lc] + c2\n",
    "        if t2 < dp[i + 1][lc2]:\n",
    "            dp[i + 1][lc2] = t2\n",
    "            route[i + 1][lc2] = [f_lc, -1]\n",
    "    \n",
    "min_r = inf\n",
    "min_r_lc = -1\n",
    "for lc in range(10):\n",
    "    if dp[n - 1][lc] < min_r:\n",
    "        min_r = dp[n - 1][lc]\n",
    "        min_r_lc = lc\n",
    "        \n",
    "result = []\n",
    "\n",
    "lc = min_r_lc\n",
    "for i in range(n - 1, 0, -1):\n",
    "    flc, d = route[i][lc]\n",
    "    \n",
    "    moved = dp[i][lc] - dp[i - 1][flc]\n",
    "    result.append((i + 1, moved * d))\n",
    "    lc = flc\n",
    "    \n",
    "result.append((1, dp[0][lc] * route[0][lc][1]))\n",
    "result.reverse()\n",
    "\n",
    "print(min_r)\n",
    "for v in result:\n",
    "    print(*v)"
   ]
  },
  {
   "cell_type": "markdown",
   "metadata": {},
   "source": [
    "https://www.acmicpc.net/problem/1086 박성원"
   ]
  },
  {
   "cell_type": "code",
   "execution_count": 78,
   "metadata": {},
   "outputs": [
    {
     "data": {
      "text/plain": [
       "8"
      ]
     },
     "execution_count": 78,
     "metadata": {},
     "output_type": "execute_result"
    }
   ],
   "source": [
    "dp[사용된 수][나머지들]"
   ]
  },
  {
   "cell_type": "code",
   "execution_count": 77,
   "metadata": {},
   "outputs": [
    {
     "data": {
      "text/plain": [
       "65"
      ]
     },
     "execution_count": 77,
     "metadata": {},
     "output_type": "execute_result"
    }
   ],
   "source": [
    "5922344 % 99"
   ]
  },
  {
   "cell_type": "code",
   "execution_count": 80,
   "metadata": {},
   "outputs": [
    {
     "data": {
      "text/plain": [
       "2349154"
      ]
     },
     "execution_count": 80,
     "metadata": {},
     "output_type": "execute_result"
    }
   ],
   "source": [
    "2349154"
   ]
  },
  {
   "cell_type": "code",
   "execution_count": null,
   "metadata": {},
   "outputs": [],
   "source": [
    "ㅋ"
   ]
  },
  {
   "cell_type": "code",
   "execution_count": 21,
   "metadata": {},
   "outputs": [
    {
     "name": "stdout",
     "output_type": "stream",
     "text": [
      "3\n",
      "3\n",
      "2\n",
      "1\n"
     ]
    }
   ],
   "source": [
    "n = int(input())\n",
    "li = [int(input()) for _ in range(n)]\n",
    "k = int(input())\n",
    "\n",
    "li = [v % k for v in li]\n",
    "\n",
    "dp = [[0] * k for _ in range(1 << n)]\n",
    "\n"
   ]
  },
  {
   "cell_type": "code",
   "execution_count": 76,
   "metadata": {},
   "outputs": [
    {
     "data": {
      "text/plain": [
       "74"
      ]
     },
     "execution_count": 76,
     "metadata": {},
     "output_type": "execute_result"
    }
   ],
   "source": [
    "n = int(input())"
   ]
  },
  {
   "cell_type": "markdown",
   "metadata": {},
   "source": [
    "https://www.acmicpc.net/problem/2842 집배원 한상덕"
   ]
  },
  {
   "cell_type": "code",
   "execution_count": null,
   "metadata": {},
   "outputs": [],
   "source": [
    "from collections import deque\n",
    "\n",
    "inf = float('inf')\n",
    "\n",
    "dx = [-1, -1, -1, 0, 0, 1, 1, 1]\n",
    "dy = [-1, 0, 1, -1, 1, -1, 0, 1]\n",
    "\n",
    "def check(min_h, max_h):\n",
    "    queue = deque()\n",
    "    queue.append((sx, sy))\n",
    "    \n",
    "    vt = [[False] * n for _ in range(n)]\n",
    "    vt[sx][sy] = True\n",
    "    while queue:\n",
    "        x, y = queue.popleft()\n",
    "\n",
    "        for d in range(8):\n",
    "            nx = x + dx[d]\n",
    "            ny = y + dy[d]\n",
    "            if nx < 0 or nx >= n or ny < 0 or ny >= n:\n",
    "                continue\n",
    "            if als[nx][ny] < min_h or als[nx][ny] > max_h:\n",
    "                continue\n",
    "            if not vt[nx][ny]:\n",
    "                vt[nx][ny] = True\n",
    "                queue.append((nx, ny))\n",
    "                \n",
    "    for x, y in ks:\n",
    "        if not vt[x][y]:\n",
    "            return False\n",
    "    return True\n",
    "             \n",
    "n = int(input())\n",
    "li = [input() for _ in range(n)]\n",
    "als = [list(map(int, input().split())) for _ in range(n)]\n",
    "\n",
    "st = set()\n",
    "sx = sy = -1\n",
    "ks = set()\n",
    "for i in range(n):\n",
    "    for j in range(n):\n",
    "        st.add(als[i][j])\n",
    "        \n",
    "        if li[i][j] == 'P':\n",
    "            sx = i\n",
    "            sy = j\n",
    "        elif li[i][j] == 'K':\n",
    "            ks.add((i, j))\n",
    "              \n",
    "hs = sorted(st)\n",
    "\n",
    "min_r = inf\n",
    "start_h = als[sx][sy]\n",
    "for max_hi in range(len(hs)):\n",
    "    if hs[max_hi] < start_h:\n",
    "        continue\n",
    "    \n",
    "    start = 0\n",
    "    end = start_h\n",
    "    while start <= end:\n",
    "        mid = (start + end) // 2\n",
    "        \n",
    "        if check(hs[mid], hs[max_hi]):\n",
    "            min_r = min(min_r, hs[max_hi] - hs[mid])\n",
    "            start = mid + 1\n",
    "        else:\n",
    "            end = mid - 1\n",
    "            \n",
    "print(min_r)"
   ]
  },
  {
   "cell_type": "markdown",
   "metadata": {},
   "source": [
    "### 0과 1 - 2 8112"
   ]
  },
  {
   "cell_type": "code",
   "execution_count": 115,
   "metadata": {},
   "outputs": [
    {
     "name": "stdout",
     "output_type": "stream",
     "text": [
      "1\n",
      "17\n",
      "11101\n"
     ]
    }
   ],
   "source": [
    "from collections import deque\n",
    "\n",
    "for _ in range(int(input())):\n",
    "    n = int(input())\n",
    "\n",
    "    if n == 1:\n",
    "        print(1)\n",
    "    else:\n",
    "        from_ = [() for _ in range(n)]\n",
    "        from_[1] = (-1, 1)\n",
    "        \n",
    "        queue = deque()\n",
    "        queue.append(1)\n",
    "        \n",
    "        while queue:\n",
    "            value = queue.popleft()\n",
    "\n",
    "            v1 = value * 10\n",
    "            v1 %= n\n",
    "\n",
    "            if not from_[v1]:\n",
    "                from_[v1] = (value, 0)\n",
    "                queue.append(v1)\n",
    "\n",
    "            v2 = value * 10 + 1\n",
    "            v2 %= n\n",
    "\n",
    "            if not from_[v2]:\n",
    "                from_[v2] = (value, 1)\n",
    "                queue.append(v2)\n",
    "\n",
    "        if not from_[0]:\n",
    "            print('BRAK')\n",
    "        else:\n",
    "            result = []\n",
    "            cur = 0\n",
    "            while True:\n",
    "                result.append(from_[cur][1])\n",
    "                cur = from_[cur][0]\n",
    "                if cur == -1:\n",
    "                    break\n",
    "\n",
    "            result.reverse()\n",
    "            result = ''.join(map(str, result))\n",
    "\n",
    "            print(result)"
   ]
  },
  {
   "cell_type": "markdown",
   "metadata": {},
   "source": [
    "https://www.acmicpc.net/problem/13308 주유소"
   ]
  },
  {
   "cell_type": "code",
   "execution_count": null,
   "metadata": {},
   "outputs": [],
   "source": [
    "현재까지 소요된 비용\n",
    "현재 가능한 최소 리터당 가격\n",
    "\n"
   ]
  },
  {
   "cell_type": "code",
   "execution_count": 118,
   "metadata": {},
   "outputs": [
    {
     "name": "stdout",
     "output_type": "stream",
     "text": [
      "28\n"
     ]
    }
   ],
   "source": [
    "from heapq import heappush, heappop\n",
    "import sys\n",
    "input = lambda: sys.stdin.readline().rstrip()\n",
    "\n",
    "inf = float('inf')\n",
    "\n",
    "n, m = map(int, input().split())\n",
    "prices = list(map(int, input().split()))\n",
    "li = [[] for _ in range(n)]\n",
    "for _ in range(m):\n",
    "    a, b, d = map(int, input().split())\n",
    "    a -= 1\n",
    "    b -= 1\n",
    "    li[a].append((b, d))\n",
    "    li[b].append((a, d))\n",
    "    \n",
    "dp = [[inf] * 2501 for _ in range(n)]\n",
    "dp[0][prices[0]] = 0\n",
    "\n",
    "heap = []\n",
    "heappush(heap, (prices[0], 0, 0)) # (최소 기름 비용, 누적 비용, 노드 번호)\n",
    "\n",
    "while heap:\n",
    "    min_cost, cumul_cost, value = heappop(heap)\n",
    "    \n",
    "    if dp[value][min_cost] < cumul_cost:\n",
    "        continue\n",
    "    \n",
    "    for v, d in li[value]:\n",
    "        n_cumul_cost = cumul_cost + min_cost * d\n",
    "        n_min_cost = min(prices[v], min_cost)\n",
    "        \n",
    "        if n_cumul_cost < dp[v][n_min_cost]:\n",
    "            dp[v][n_min_cost] = n_cumul_cost\n",
    "            heappush(heap, (n_min_cost, n_cumul_cost, v))\n",
    "\n",
    "print(min(dp[-1]))"
   ]
  },
  {
   "cell_type": "markdown",
   "metadata": {},
   "source": [
    "https://www.acmicpc.net/problem/9202 Boggle"
   ]
  },
  {
   "cell_type": "code",
   "execution_count": 143,
   "metadata": {},
   "outputs": [
    {
     "name": "stdout",
     "output_type": "stream",
     "text": [
      "ICPC\n",
      "GCPC\n",
      "ICPC\n",
      "GCPC\n"
     ]
    }
   ],
   "source": [
    "import sys\n",
    "input = lambda: sys.stdin.readline().rstrip()\n",
    "\n",
    "class Node():\n",
    "    def __init__(self, value, is_on=False):\n",
    "        self.value = value\n",
    "        self.children = {}\n",
    "        self.is_on = is_on\n",
    "        \n",
    "    def append_child_node(self, value):\n",
    "        if value in self.children:\n",
    "            return self.children[value]\n",
    "        else:\n",
    "            self.children[value] = Node(value)\n",
    "            return self.children[value]\n",
    "\n",
    "dx = [-1, -1, -1, 0, 0, 1, 1, 1]\n",
    "dy = [-1, 0, 1, -1, 1, -1, 0, 1]\n",
    "        \n",
    "def dfs(i, j, p_node):\n",
    "    if li[i][j] in p_node.children:\n",
    "        node = p_node.children[li[i][j]]\n",
    "    else:\n",
    "        return\n",
    "\n",
    "    stack.append(li[i][j])\n",
    "    on_stack[i][j] = True\n",
    "    if node.is_on:\n",
    "        st.add(''.join(stack))\n",
    "        \n",
    "    if len(stack) == 8:\n",
    "        stack.pop()\n",
    "        on_stack[i][j] = False\n",
    "        return\n",
    "        \n",
    "    for d in range(8):\n",
    "        ni = i + dx[d]\n",
    "        nj = j + dy[d]\n",
    "        \n",
    "        if ni < 0 or ni >= 4 or nj < 0 or nj >= 4:\n",
    "            continue\n",
    "        dfs(ni, nj, node)\n",
    "\n",
    "    stack.pop()\n",
    "    on_stack[i][j] = False\n",
    "    return\n",
    "  \n",
    "len_to_sc = [0, 0, 0, 1, 1, 2, 3, 5, 11]\n",
    "    \n",
    "n = int(input())\n",
    "words = [input() for _ in range(n)]\n",
    "\n",
    "root = Node('')\n",
    "for word in words:\n",
    "    cur = root\n",
    "    for alpha in word:\n",
    "        cur = cur.append_child_node(alpha)\n",
    "        \n",
    "    cur.is_on = True\n",
    "    \n",
    "input()\n",
    "\n",
    "t = int(input())\n",
    "for ti in range(t):\n",
    "    li = [input() for _ in range(4)]\n",
    "\n",
    "    st = set()\n",
    "    on_stack = [[False] * 4 for _ in range(4)]\n",
    "    stack = []\n",
    "    for i in range(4):\n",
    "        for j in range(4):\n",
    "            dfs(i, j, root)\n",
    "\n",
    "    r = list(st)\n",
    "    r.sort(key=lambda x: (-len(x), x))\n",
    "\n",
    "    max_sc = sum(len_to_sc[len(v)] for v in r)\n",
    "    max_len_word = r[0]\n",
    "    count = len(r)\n",
    "\n",
    "    print(max_sc, max_len_word, count)\n",
    "    \n",
    "    if ti + 1 < t:\n",
    "        input()"
   ]
  },
  {
   "cell_type": "markdown",
   "metadata": {},
   "source": [
    "https://www.acmicpc.net/problem/2505 두 번 뒤집기"
   ]
  },
  {
   "cell_type": "code",
   "execution_count": null,
   "metadata": {},
   "outputs": [],
   "source": [
    "1 2 3 4 5 6 7\n",
    "1 6 5 4 3 2 7\n",
    "1 6 3 4 5 2 7\n",
    "\n",
    "1 2 3 4 5 6 7\n",
    "1 2 5 4 3 6 7\n",
    "1 6 3 4 5 2 7\n",
    "\n",
    "1 2 3 4 5 6 7\n",
    "3 2 1 4 5 6 7\n",
    "3 4 1 2 5 6 7\n",
    "\n",
    "1 2 3 4 5 6 7\n",
    "1 4 3 2 5 6 7\n",
    "3 4 1 2 5 6 7\n",
    "\n",
    "2-5\n",
    "4-7\n",
    "1 2 3 4 5 6 7\n",
    "1 5 4 3 2 6 7\n",
    "1 5 4 7 6 2 3\n",
    "\n",
    "1 2 3 4 5 6 7\n",
    "1 2 3 7 6 5 4\n",
    "1 6 7 3 2 5 4"
   ]
  },
  {
   "cell_type": "code",
   "execution_count": 187,
   "metadata": {},
   "outputs": [
    {
     "name": "stdout",
     "output_type": "stream",
     "text": [
      "10\n",
      "6 7 8 2 1 5 4 3 9 10\n",
      "3 8\n",
      "1 5\n"
     ]
    }
   ],
   "source": [
    "from itertools import product as prod\n",
    "from itertools import permutations as perm\n",
    "\n",
    "n = int(input())\n",
    "li = list(map(int, input().split()))\n",
    "    \n",
    "cands = set()\n",
    "if li[0] != 1:\n",
    "    cands.add(0)\n",
    "if li[n - 1] != n:\n",
    "    cands.add(n - 1)\n",
    "\n",
    "for i in range(n - 1):\n",
    "    diff = abs(li[i] - li[i + 1])\n",
    "    if diff >= 2:\n",
    "        cands.add(i)\n",
    "        cands.add(i + 1)\n",
    "\n",
    "if not cands:\n",
    "    print(1, 1)\n",
    "    print(1, 1)\n",
    "else:\n",
    "    cur = list(range(1, n + 1))\n",
    "    for case in prod(*[cands] * 2):\n",
    "        a, b = case\n",
    "        if a > b:\n",
    "            continue\n",
    "            \n",
    "        cur[a:b + 1] = cur[a:b + 1][::-1]\n",
    "\n",
    "        na = -1\n",
    "        for i in range(n):\n",
    "            if cur[i] != li[i]:\n",
    "                na = i\n",
    "                break\n",
    "                \n",
    "        nb = -1\n",
    "        for i in range(n - 1, -1, -1):\n",
    "            if cur[i] != li[i]:\n",
    "                nb = i\n",
    "                break\n",
    "                \n",
    "        if na == -1:\n",
    "            print(a + 1, b + 1)\n",
    "            print(1, 1)\n",
    "            break\n",
    "        else:\n",
    "            cur[na:nb + 1] = cur[na:nb + 1][::-1]\n",
    "            \n",
    "            if cur == li:\n",
    "                print(a + 1, b + 1)\n",
    "                print(na + 1, nb + 1)\n",
    "                break\n",
    "            \n",
    "            cur[na:nb + 1] = cur[na:nb + 1][::-1]\n",
    "            \n",
    "        cur[a:b + 1] = cur[a:b + 1][::-1]"
   ]
  },
  {
   "cell_type": "code",
   "execution_count": 177,
   "metadata": {},
   "outputs": [],
   "source": [
    "from itertools import product as prod\n",
    "from itertools import permutations as perm\n",
    "\n",
    "# n = int(input())\n",
    "# li = list(map(int, input().split()))\n",
    "\n",
    "n = 6\n",
    "cant_makes = set()\n",
    "for li in perm(range(1, 7)):\n",
    "    cands = set()\n",
    "    if li[0] != 1:\n",
    "        cands.add(0)\n",
    "\n",
    "    if li[n - 1] != n:\n",
    "        cands.add(n - 1)\n",
    "\n",
    "    for i in range(n - 1):\n",
    "        diff = abs(li[i] - li[i + 1])\n",
    "        if diff >= 2:\n",
    "            cands.add(i)\n",
    "            cands.add(i + 1)\n",
    "\n",
    "    is_r = False\n",
    "    if not cands:\n",
    "        is_r = True\n",
    "    else:\n",
    "        for case in prod(*[cands] * 4):\n",
    "            if case[0] > case[1] or case[2] > case[3]:\n",
    "                continue\n",
    "\n",
    "            cur = list(range(1, n + 1))\n",
    "            a, b = case[0], case[1]\n",
    "            cur[a:b + 1] = cur[a:b + 1][::-1]\n",
    "\n",
    "            c, d = case[2], case[3]\n",
    "            cur[c:d + 1] = cur[c:d + 1][::-1]\n",
    "\n",
    "            if list(li) == cur:\n",
    "                is_r = True\n",
    "                break\n",
    "                \n",
    "    if not is_r:\n",
    "        cant_makes.add(li)"
   ]
  },
  {
   "cell_type": "code",
   "execution_count": 180,
   "metadata": {},
   "outputs": [
    {
     "name": "stdout",
     "output_type": "stream",
     "text": [
      "(1, 4, 2, 5) [1, 5, 6, 2, 3, 4]\n",
      "(1, 4, 2, 6) [1, 5, 6, 2, 3, 4]\n",
      "(2, 5, 1, 4) [1, 4, 5, 6, 2, 3]\n",
      "(2, 6, 1, 4) [1, 4, 5, 6, 2, 3]\n"
     ]
    }
   ],
   "source": [
    "for case in prod(*[range(1, 7)] * 4):\n",
    "    if case[0] > case[1] or case[2] > case[3]:\n",
    "        continue\n",
    "        \n",
    "    cur = list(range(1, n + 1))\n",
    "    a, b = case[0], case[1]\n",
    "    cur[a:b + 1] = cur[a:b + 1][::-1]\n",
    "\n",
    "    c, d = case[2], case[3]\n",
    "    cur[c:d + 1] = cur[c:d + 1][::-1]  \n",
    "    \n",
    "    if tuple(cur) in cant_makes:\n",
    "        print(case, cur)"
   ]
  },
  {
   "cell_type": "markdown",
   "metadata": {},
   "source": [
    "https://www.acmicpc.net/problem/8271 Rooks"
   ]
  },
  {
   "cell_type": "code",
   "execution_count": null,
   "metadata": {},
   "outputs": [],
   "source": [
    "n = int(input())\n",
    "li = [list(input()) for _ in range(n)]\n",
    "\n",
    "x_cands = set(range(n))\n",
    "y_cands = set(range(n))\n",
    "for i in range(n):\n",
    "    for j in range(n):\n",
    "        if li[i][j] == 'W':\n",
    "            x_cands.discard(i)\n",
    "            y_cands.discard(j)\n",
    "            \n",
    "for _ in range(len(x_cands)):\n",
    "    x = x_cands.pop()\n",
    "    y = y_cands.pop()\n",
    "    \n",
    "    li[x][y] = 'W'\n",
    "    \n",
    "for v in li:\n",
    "    print(''.join(v))"
   ]
  },
  {
   "cell_type": "markdown",
   "metadata": {},
   "source": [
    "https://www.acmicpc.net/problem/11773 ESEJ"
   ]
  },
  {
   "cell_type": "code",
   "execution_count": 11,
   "metadata": {},
   "outputs": [
    {
     "name": "stdout",
     "output_type": "stream",
     "text": [
      "2 7\n",
      "a b c d e f g\n"
     ]
    }
   ],
   "source": [
    "from itertools import permutations as perm\n",
    "\n",
    "a, b = map(int, input().split())\n",
    "\n",
    "ls = [chr(i) for i in range(97, 123)]\n",
    "\n",
    "li = []\n",
    "for num in range(1, 5):\n",
    "    li.extend(list(perm(ls, num)))\n",
    "\n",
    "for i in range(len(li)):\n",
    "    li[i] = ''.join(li[i])\n",
    "    \n",
    "print(' '.join(li[:b]))"
   ]
  },
  {
   "cell_type": "markdown",
   "metadata": {},
   "source": [
    "https://www.acmicpc.net/problem/18649 Lowest Unique"
   ]
  },
  {
   "cell_type": "code",
   "execution_count": null,
   "metadata": {},
   "outputs": [],
   "source": [
    "import sys\n",
    "input = lambda: sys.stdin.readline().rstrip()\n",
    "\n",
    "n, k, m = map(int, input().split())\n",
    "\n",
    "to_print = list(range(1, k + 1))\n",
    "\n",
    "for _ in range(m):\n",
    "    print(*to_print)\n",
    "    sys.stdout.flush()\n",
    "    \n",
    "    input()"
   ]
  },
  {
   "cell_type": "markdown",
   "metadata": {},
   "source": [
    "https://www.acmicpc.net/problem/21554 마법의 돌 장난감"
   ]
  },
  {
   "cell_type": "code",
   "execution_count": 28,
   "metadata": {},
   "outputs": [
    {
     "name": "stdout",
     "output_type": "stream",
     "text": [
      "5\n",
      "1 3 2 5 4\n",
      "2\n",
      "2 3\n",
      "4 5\n"
     ]
    }
   ],
   "source": [
    "n = int(input())\n",
    "li = list(map(int, input().split()))\n",
    "\n",
    "r = []\n",
    "for i in range(n):\n",
    "    if li[i] != i + 1:\n",
    "        index = li.index(i + 1)\n",
    "        r.append((i + 1, index + 1))\n",
    "        li[i:index + 1] = li[i:index + 1][::-1]\n",
    "        \n",
    "print(len(r))\n",
    "for v in r:\n",
    "    print(*v)"
   ]
  },
  {
   "cell_type": "markdown",
   "metadata": {},
   "source": [
    "https://www.acmicpc.net/problem/21027 Presidential Game"
   ]
  },
  {
   "cell_type": "code",
   "execution_count": 31,
   "metadata": {},
   "outputs": [
    {
     "name": "stdout",
     "output_type": "stream",
     "text": [
      "3 2\n",
      "1 2 1\n",
      "Preston\n"
     ]
    }
   ],
   "source": [
    "n, k = map(int, input().split())\n",
    "li = list(map(int, input().split()))\n",
    "\n",
    "if sum(li) % 2 == 1:\n",
    "    print('John')\n",
    "else:\n",
    "    print('Preston')"
   ]
  },
  {
   "cell_type": "markdown",
   "metadata": {},
   "source": [
    "https://www.acmicpc.net/problem/21604 겹강 찾기"
   ]
  },
  {
   "cell_type": "code",
   "execution_count": 42,
   "metadata": {},
   "outputs": [
    {
     "name": "stdout",
     "output_type": "stream",
     "text": [
      "3 3\n",
      "1 1 1\n",
      "2 2 2\n",
      "3 3 3\n",
      "3\n",
      "2 1 1\n",
      "3 2 2\n",
      "1 3 3\n"
     ]
    }
   ],
   "source": [
    "import sys\n",
    "# input = lambda: sys.stdin.readline().rstrip()\n",
    "\n",
    "n, m = map(int, input().split())\n",
    "li = [list(map(int, input().split())) for _ in range(m)]\n",
    "\n",
    "j = 0\n",
    "temp = []\n",
    "for i in range(m):\n",
    "    temp.append(li[i][j])\n",
    "    \n",
    "temp.append(temp[0])\n",
    "temp.pop(0)\n",
    "\n",
    "j = 0\n",
    "for i in range(m):\n",
    "    li[i][j] = temp[i]\n",
    "    \n",
    "print(m)\n",
    "for v in li:\n",
    "    print(*v)"
   ]
  },
  {
   "cell_type": "markdown",
   "metadata": {},
   "source": [
    "https://www.acmicpc.net/problem/21616 Modern Art"
   ]
  },
  {
   "cell_type": "code",
   "execution_count": null,
   "metadata": {},
   "outputs": [],
   "source": [
    "import sys\n",
    "input = lambda: sys.stdin.readline().rstrip()\n",
    "\n",
    "m = int(input())\n",
    "n = int(input())\n",
    "k = int(input())\n",
    "\n",
    "rs = set()\n",
    "cs = set()\n",
    "for _ in range(k):\n",
    "    tp, v = input().split()\n",
    "    v = int(v)\n",
    "    \n",
    "    if tp == 'R':\n",
    "        if v in rs:\n",
    "            rs.discard(v)\n",
    "        else:\n",
    "            rs.add(v)\n",
    "    else:\n",
    "        if v in cs:\n",
    "            cs.discard(v)\n",
    "        else:\n",
    "            cs.add(v)\n",
    "            \n",
    "result = len(rs) * n + len(cs) * m - 2 * len(rs) * len(cs)\n",
    "\n",
    "print(result)"
   ]
  },
  {
   "cell_type": "markdown",
   "metadata": {},
   "source": [
    "https://www.acmicpc.net/problem/25562 차의 개수"
   ]
  },
  {
   "cell_type": "code",
   "execution_count": 45,
   "metadata": {},
   "outputs": [
    {
     "name": "stdout",
     "output_type": "stream",
     "text": [
      "5\n",
      "10\n",
      "1 2 4 8 16\n",
      "4\n",
      "1 2 3 4 5\n"
     ]
    }
   ],
   "source": [
    "def get_sum(num):\n",
    "    return num * (num + 1) // 2\n",
    "\n",
    "n = int(input())\n",
    "\n",
    "maxes = []\n",
    "cur = 1\n",
    "for _ in range(n):\n",
    "    maxes.append(cur)\n",
    "    cur *= 2\n",
    "    \n",
    "mins = list(range(1, n + 1))\n",
    "\n",
    "max_v = get_sum(n - 1)\n",
    "\n",
    "diffs = set()\n",
    "for i in range(n):\n",
    "    for j in range(i + 1, n):\n",
    "        diffs.add(abs(mins[i] - mins[j]))\n",
    "        \n",
    "min_v = len(diffs)\n",
    "\n",
    "print(max_v)\n",
    "print(*maxes)\n",
    "print(min_v)\n",
    "print(*mins)"
   ]
  },
  {
   "cell_type": "markdown",
   "metadata": {},
   "source": [
    "https://www.acmicpc.net/problem/19155 Copying Homework"
   ]
  },
  {
   "cell_type": "code",
   "execution_count": 47,
   "metadata": {},
   "outputs": [
    {
     "name": "stdout",
     "output_type": "stream",
     "text": [
      "2\n",
      "2 1\n",
      "1 2\n"
     ]
    }
   ],
   "source": [
    "n = int(input())\n",
    "li = list(map(int, input().split()))\n",
    "\n",
    "result = []\n",
    "for v in li:\n",
    "    if v == n:\n",
    "        result.append(1)\n",
    "    else:\n",
    "        result.append(v + 1)\n",
    "        \n",
    "print(*result)"
   ]
  },
  {
   "cell_type": "markdown",
   "metadata": {},
   "source": [
    "https://www.acmicpc.net/problem/16189 Repetitive Palindrome"
   ]
  },
  {
   "cell_type": "code",
   "execution_count": 50,
   "metadata": {},
   "outputs": [
    {
     "name": "stdout",
     "output_type": "stream",
     "text": [
      "aaa\n",
      "3\n",
      "YES\n"
     ]
    }
   ],
   "source": [
    "s = input()\n",
    "k = int(input())\n",
    "\n",
    "n = len(s)\n",
    "ip = True\n",
    "for i in range(n // 2):\n",
    "    if s[i] != s[n - 1 - i]:\n",
    "        ip = False\n",
    "        break\n",
    "        \n",
    "if ip:\n",
    "    print('YES')\n",
    "else:\n",
    "    print('NO')"
   ]
  },
  {
   "cell_type": "markdown",
   "metadata": {},
   "source": [
    "https://www.acmicpc.net/problem/16103 Drawn and Quartered"
   ]
  },
  {
   "cell_type": "code",
   "execution_count": null,
   "metadata": {},
   "outputs": [],
   "source": [
    "abcd 0\n",
    "adbc 1\n",
    "acdb 2\n",
    "abcd 3\n",
    "adbc 4"
   ]
  },
  {
   "cell_type": "code",
   "execution_count": 64,
   "metadata": {},
   "outputs": [
    {
     "name": "stdout",
     "output_type": "stream",
     "text": [
      "8 2\n",
      "aabbccdd\n",
      "aaccddbb\n"
     ]
    }
   ],
   "source": [
    "n, k = map(int, input().split())\n",
    "s = input()\n",
    "\n",
    "k %= 3\n",
    "\n",
    "if k == 0:\n",
    "    print(s)\n",
    "else:\n",
    "    a = s[:n // 4]\n",
    "    b = s[n // 4:n // 2]\n",
    "    c = s[n // 2:n * 3 // 4]\n",
    "    d = s[n * 3 // 4:]\n",
    "    \n",
    "    if k == 1:\n",
    "        print(a + d + b + c)\n",
    "    elif k == 2:\n",
    "        print(a + c + d + b)"
   ]
  },
  {
   "cell_type": "markdown",
   "metadata": {},
   "source": [
    "https://www.acmicpc.net/problem/12109 Hindeks"
   ]
  },
  {
   "cell_type": "code",
   "execution_count": 67,
   "metadata": {},
   "outputs": [
    {
     "name": "stdout",
     "output_type": "stream",
     "text": [
      "5\n",
      "7\n",
      "1\n",
      "2\n",
      "1\n",
      "5\n",
      "2\n"
     ]
    }
   ],
   "source": [
    "import sys\n",
    "input = lambda: sys.stdin.readline().rstrip()\n",
    "\n",
    "n = int(input())\n",
    "li = [int(input()) for _ in range(n)]\n",
    "\n",
    "li.sort(reverse=True)\n",
    "\n",
    "r = 0\n",
    "for i in range(n):\n",
    "    if li[i] < i + 1:\n",
    "        r = i\n",
    "        break\n",
    "else:\n",
    "    r = n\n",
    "    \n",
    "print(r)"
   ]
  },
  {
   "cell_type": "markdown",
   "metadata": {},
   "source": [
    "https://www.acmicpc.net/problem/17039 Sleepy Cow Herding (Bronze)"
   ]
  },
  {
   "cell_type": "code",
   "execution_count": 68,
   "metadata": {},
   "outputs": [
    {
     "name": "stdout",
     "output_type": "stream",
     "text": [
      "4 7 9\n",
      "1 2\n"
     ]
    }
   ],
   "source": [
    "a, b, c = map(int, input().split())\n",
    "\n",
    "a, b, c = sorted([a, b, c])\n",
    "\n",
    "diff1 = b - a\n",
    "diff2 = c - b\n",
    "\n",
    "if max(diff1, diff2) == 1:\n",
    "    min_r = 0\n",
    "elif diff1 == 2 or diff2 == 2:\n",
    "    min_r = 1\n",
    "else:\n",
    "    min_r = 2\n",
    "    \n",
    "max_r = max(diff1, diff2) - 1\n",
    "\n",
    "print(min_r)\n",
    "print(max_r)"
   ]
  },
  {
   "cell_type": "code",
   "execution_count": null,
   "metadata": {},
   "outputs": [],
   "source": [
    "1 4 10\n",
    "\n",
    "4 5 10\n",
    "5 6 10\n",
    "6 7 10\n",
    "7 8 10\n",
    "8 9 10"
   ]
  },
  {
   "cell_type": "markdown",
   "metadata": {},
   "source": [
    "https://www.acmicpc.net/problem/17817 Trol"
   ]
  },
  {
   "cell_type": "code",
   "execution_count": null,
   "metadata": {},
   "outputs": [],
   "source": [
    "1 1\n",
    "9 9\n",
    "10 1\n",
    "11 2\n",
    "12 3\n",
    "13 4\n",
    "18 9\n",
    "19 1\n",
    "20 2\n",
    "21 3\n",
    "27 9\n",
    "28 1\n",
    "29 2\n",
    "30 3\n",
    "37 1\n",
    "38 2\n",
    "\n",
    "99 18 9\n",
    "100 1"
   ]
  },
  {
   "cell_type": "code",
   "execution_count": null,
   "metadata": {},
   "outputs": [],
   "source": [
    "import sys\n",
    "# input = lambda: sys.stdin.readline().rstrip()\n",
    "\n",
    "for _ in range(int(input())):\n",
    "    l, r = map(int, input().split())\n",
    "\n",
    "    num1 = (l - 1) % 9 + 1\n",
    "    num2 = (r - 1) % 9 + 1\n",
    "\n",
    "    result = 0\n",
    "    while l < r and num1 != num2:\n",
    "        result += num1\n",
    "        l += 1\n",
    "        num1 += 1\n",
    "        if num1 == 10:\n",
    "            num1 = 1\n",
    "\n",
    "    diff = r - l\n",
    "\n",
    "    result += (diff // 9) * 45 + num1\n",
    "\n",
    "    print(result)"
   ]
  },
  {
   "cell_type": "markdown",
   "metadata": {},
   "source": [
    "https://www.acmicpc.net/problem/23335 Aliquot Sum"
   ]
  },
  {
   "cell_type": "code",
   "execution_count": 98,
   "metadata": {},
   "outputs": [
    {
     "name": "stdout",
     "output_type": "stream",
     "text": [
      "3\n",
      "12 21 28\n",
      "abundant\n",
      "deficient\n",
      "perfect\n"
     ]
    }
   ],
   "source": [
    "import sys\n",
    "print = sys.stdout.write\n",
    "\n",
    "max_num = 1000001\n",
    "sp = [0] * (max_num + 1)\n",
    "primes = []\n",
    "for i in range(2, max_num + 1):\n",
    "    if sp[i] == 0:\n",
    "        sp[i] = i\n",
    "        primes.append(i)\n",
    "        \n",
    "    j = 0\n",
    "    while j < len(primes) and i * primes[j] <= max_num and primes[j] <= sp[i]:\n",
    "        sp[i * primes[j]] = primes[j]\n",
    "        j += 1\n",
    "\n",
    "def get_geo_sum(a, r, length):\n",
    "    return a * (r ** length - 1) // (r - 1)\n",
    "        \n",
    "def get_divisors_sum(o_num):\n",
    "    num = o_num\n",
    "    ct = {}\n",
    "    while num > 1:\n",
    "        s_num = sp[num]\n",
    "        \n",
    "        if s_num in ct:\n",
    "            ct[s_num] += 1\n",
    "        else:\n",
    "            ct[s_num] = 1\n",
    "            \n",
    "        num //= s_num\n",
    "        \n",
    "    cur = 1\n",
    "    for key in ct:\n",
    "        a = 1\n",
    "        r = key\n",
    "        length = ct[key] + 1\n",
    "        cur *= get_geo_sum(a, r, length)\n",
    "        \n",
    "    cur -= o_num\n",
    "    \n",
    "    return cur\n",
    "\n",
    "n = int(input())\n",
    "li = list(map(int, input().split()))\n",
    "\n",
    "for v in li:\n",
    "    sv = get_divisors_sum(v)\n",
    "    \n",
    "    if sv > v:\n",
    "        print('abundant\\n')\n",
    "    elif sv < v:\n",
    "        print('deficient\\n')\n",
    "    else:\n",
    "        print('perfect\\n')"
   ]
  },
  {
   "cell_type": "markdown",
   "metadata": {},
   "source": [
    "https://www.acmicpc.net/problem/19805 Attractive Flowers"
   ]
  },
  {
   "cell_type": "code",
   "execution_count": 100,
   "metadata": {},
   "outputs": [
    {
     "name": "stdout",
     "output_type": "stream",
     "text": [
      "3\n",
      "1 1 1\n",
      "3\n"
     ]
    }
   ],
   "source": [
    "n = int(input())\n",
    "li = list(map(int, input().split()))\n",
    "\n",
    "for i in range(n):\n",
    "    if li[i] % 2 == 0:\n",
    "        li[i] -= 1\n",
    "        \n",
    "li.sort(reverse=True)\n",
    "\n",
    "if n % 2 == 0:\n",
    "    li.pop()\n",
    "    \n",
    "r = sum(li)\n",
    "\n",
    "print(r)"
   ]
  },
  {
   "cell_type": "markdown",
   "metadata": {},
   "source": [
    "https://www.acmicpc.net/problem/19100 Shuffle"
   ]
  },
  {
   "cell_type": "code",
   "execution_count": null,
   "metadata": {},
   "outputs": [],
   "source": [
    "1 2 3 4\n",
    "\n",
    "1 2   3 4\n",
    "2 1   4 3\n",
    "\n",
    "4 3 2 1\n",
    "\n",
    "1 2 3 4 5 6 7 8\n",
    "\n",
    "1 2 3 4   5 6 7 8\n",
    "\n",
    "1 2   3 4   5 6   7 8\n",
    "\n",
    "2 1   4 3   6 5   8 7\n",
    "\n",
    "4 3 2 1   8 7 6 5\n",
    "\n",
    "8 7 6 5 4 3 2 1"
   ]
  },
  {
   "cell_type": "code",
   "execution_count": 102,
   "metadata": {},
   "outputs": [
    {
     "name": "stdout",
     "output_type": "stream",
     "text": [
      "2 1\n",
      "2 4 1 5\n",
      "5 1 4 2\n"
     ]
    }
   ],
   "source": [
    "n, t = map(int, input().split())\n",
    "li = list(map(int, input().split()))\n",
    "\n",
    "if t % 2 == 0:\n",
    "    print(*li)\n",
    "else:\n",
    "    print(*reversed(li))"
   ]
  },
  {
   "cell_type": "markdown",
   "metadata": {},
   "source": [
    "https://www.acmicpc.net/problem/13226 Divisors Again"
   ]
  },
  {
   "cell_type": "code",
   "execution_count": null,
   "metadata": {},
   "outputs": [],
   "source": [
    "max_num = 10000001\n",
    "sp = [0] * (max_num + 1)\n",
    "primes = []\n",
    "for i in range(2, max_num + 1):\n",
    "    if sp[i] == 0:\n",
    "        sp[i] = i\n",
    "        primes.append(i)\n",
    "        \n",
    "    j = 0\n",
    "    while j < len(primes) and i * primes[j] <= max_num and primes[j] <= sp[i]:\n",
    "        sp[i * primes[j]] = primes[j]\n",
    "        j += 1\n",
    "        \n",
    "def get_divisors_c(num):\n",
    "    ct = {}\n",
    "    while num > 1:\n",
    "        s_num = sp[num]\n",
    "        \n",
    "        if s_num in ct:\n",
    "            ct[s_num] += 1\n",
    "        else:\n",
    "            ct[s_num] = 1\n",
    "            \n",
    "        num //= s_num\n",
    "        \n",
    "    cur = 1\n",
    "    for v in ct.values():\n",
    "        cur *= (v + 1)\n",
    "    \n",
    "    return cur\n",
    "\n",
    "for _ in range(int(input())):\n",
    "    l, u = map(int, input().split())\n",
    "\n",
    "    max_c = 0\n",
    "    for v in range(l, u + 1):\n",
    "        c = get_divisors_c(v)\n",
    "        max_c = max(max_c, c)\n",
    "\n",
    "    print(max_c)"
   ]
  },
  {
   "cell_type": "markdown",
   "metadata": {},
   "source": [
    "https://www.acmicpc.net/problem/2790 F7"
   ]
  },
  {
   "cell_type": "code",
   "execution_count": null,
   "metadata": {},
   "outputs": [],
   "source": [
    "n = 3\n",
    "\n",
    "8 9 10\n",
    "1 2 3\n",
    "2 3 1\n",
    "3 2 1\n",
    "\n",
    "1 5 7 8\n",
    "1 2 3 4\n",
    "    4 1\n",
    "  4 2 1\n",
    "4 3 2 1"
   ]
  },
  {
   "cell_type": "code",
   "execution_count": 111,
   "metadata": {},
   "outputs": [
    {
     "name": "stdout",
     "output_type": "stream",
     "text": [
      "5\n",
      "15\n",
      "14\n",
      "15\n",
      "12\n",
      "14\n",
      "4\n"
     ]
    }
   ],
   "source": [
    "import sys\n",
    "# input = lambda: sys.stdin.readline().rstrip()\n",
    "\n",
    "n = int(input())\n",
    "li = [int(input()) for _ in range(n)]\n",
    "li.sort(reverse=True)\n",
    "\n",
    "cur_to_add = 1\n",
    "max_fv = -1\n",
    "result = 0\n",
    "for v in li:\n",
    "    if v + n >= max_fv:\n",
    "        result += 1\n",
    "        \n",
    "    temp = v + cur_to_add\n",
    "    max_fv = max(max_fv, temp)\n",
    "    cur_to_add += 1\n",
    "    \n",
    "print(result)"
   ]
  },
  {
   "cell_type": "markdown",
   "metadata": {},
   "source": [
    "https://www.acmicpc.net/problem/12993 이동3"
   ]
  },
  {
   "cell_type": "code",
   "execution_count": 127,
   "metadata": {},
   "outputs": [
    {
     "name": "stdout",
     "output_type": "stream",
     "text": [
      "3 10\n",
      "1\n"
     ]
    }
   ],
   "source": [
    "x, y = map(int, input().split())\n",
    "\n",
    "if x == y == 0:\n",
    "    print(1)\n",
    "else:\n",
    "    max_v = max(x, y)\n",
    "    cur = 1\n",
    "    while cur * 3 <= max_v:\n",
    "        cur *= 3\n",
    "    \n",
    "    while cur >= 1:\n",
    "        if x >= y:\n",
    "            x -= cur\n",
    "        else:\n",
    "            y -= cur\n",
    "        cur //= 3\n",
    "        \n",
    "    if x == y == 0:\n",
    "        print(1)\n",
    "    else:\n",
    "        print(0)"
   ]
  },
  {
   "cell_type": "markdown",
   "metadata": {},
   "source": [
    "https://www.acmicpc.net/problem/21395 연속한 소수 만들기"
   ]
  },
  {
   "cell_type": "code",
   "execution_count": 128,
   "metadata": {},
   "outputs": [
    {
     "name": "stdout",
     "output_type": "stream",
     "text": [
      "3\n",
      "2 2 2\n"
     ]
    },
    {
     "data": {
      "text/plain": [
       "[2, 2, 2]"
      ]
     },
     "execution_count": 128,
     "metadata": {},
     "output_type": "execute_result"
    }
   ],
   "source": [
    "n = int(input())\n",
    "li = sorted(map(int, input().split()))\n",
    "\n",
    "li"
   ]
  },
  {
   "cell_type": "code",
   "execution_count": 150,
   "metadata": {},
   "outputs": [
    {
     "name": "stdout",
     "output_type": "stream",
     "text": [
      "7\n",
      "3\n",
      "1 1 1\n",
      "7\n",
      "5\n",
      "1 1 1 1 1\n",
      "23\n",
      "5\n",
      "2 2 2 2 2\n",
      "18\n",
      "5\n",
      "3 3 3 3 3\n",
      "15\n",
      "5\n",
      "4 4 4 4 4\n",
      "14\n",
      "5\n",
      "5 5 5 5 5\n",
      "13\n",
      "5\n",
      "100000 100000 100000 100000 100000\n",
      "71\n"
     ]
    }
   ],
   "source": [
    "def get_value(mid):\n",
    "    cur = mid\n",
    "    sv = 0\n",
    "    for i in range(n):\n",
    "        sv += abs(li[i] - primes[cur])\n",
    "        cur += 1\n",
    "        \n",
    "    return sv\n",
    "\n",
    "max_num = 200000\n",
    "ip = [True] * (max_num + 1)\n",
    "ip[0] = ip[1] = False\n",
    "for mod in range(2, int(max_num ** 0.5) + 1):\n",
    "    if ip[mod]:\n",
    "        for v in range(mod * mod, max_num + 1, mod):\n",
    "            ip[v] = False\n",
    "            \n",
    "primes = [i for i, v in enumerate(ip) if v]\n",
    "\n",
    "for _ in range(int(input())):\n",
    "    n = int(input())\n",
    "    li = sorted(map(int, input().split()))\n",
    "\n",
    "    start = 0\n",
    "    end = len(primes) - n\n",
    "    result = float('inf')\n",
    "    while start <= end:\n",
    "        mid1 = (start * 2 + end) // 3\n",
    "        mid2 = (start + end * 2) // 3\n",
    "\n",
    "        t1 = get_value(mid1)\n",
    "        t2 = get_value(mid2)\n",
    "\n",
    "        result = min(result, t1, t2)\n",
    "\n",
    "        if end - start <= 5:\n",
    "            for mid in range(start, end + 1):\n",
    "                result = min(result, get_value(mid))\n",
    "            break\n",
    "\n",
    "        if t1 >= t2:\n",
    "            start = mid1\n",
    "        else:\n",
    "            end = mid2\n",
    "\n",
    "    print(result)"
   ]
  },
  {
   "cell_type": "code",
   "execution_count": 156,
   "metadata": {},
   "outputs": [
    {
     "data": {
      "text/plain": [
       "[98953,\n",
       " 98963,\n",
       " 98981,\n",
       " 98993,\n",
       " 98999,\n",
       " 99013,\n",
       " 99017,\n",
       " 99023,\n",
       " 99041,\n",
       " 99053,\n",
       " 99079,\n",
       " 99083,\n",
       " 99089,\n",
       " 99103,\n",
       " 99109,\n",
       " 99119,\n",
       " 99131,\n",
       " 99133,\n",
       " 99137,\n",
       " 99139,\n",
       " 99149,\n",
       " 99173,\n",
       " 99181,\n",
       " 99191,\n",
       " 99223,\n",
       " 99233,\n",
       " 99241,\n",
       " 99251,\n",
       " 99257,\n",
       " 99259,\n",
       " 99277,\n",
       " 99289,\n",
       " 99317,\n",
       " 99347,\n",
       " 99349,\n",
       " 99367,\n",
       " 99371,\n",
       " 99377,\n",
       " 99391,\n",
       " 99397,\n",
       " 99401,\n",
       " 99409,\n",
       " 99431,\n",
       " 99439,\n",
       " 99469,\n",
       " 99487,\n",
       " 99497,\n",
       " 99523,\n",
       " 99527,\n",
       " 99529,\n",
       " 99551,\n",
       " 99559,\n",
       " 99563,\n",
       " 99571,\n",
       " 99577,\n",
       " 99581,\n",
       " 99607,\n",
       " 99611,\n",
       " 99623,\n",
       " 99643,\n",
       " 99661,\n",
       " 99667,\n",
       " 99679,\n",
       " 99689,\n",
       " 99707,\n",
       " 99709,\n",
       " 99713,\n",
       " 99719,\n",
       " 99721,\n",
       " 99733,\n",
       " 99761,\n",
       " 99767,\n",
       " 99787,\n",
       " 99793,\n",
       " 99809,\n",
       " 99817,\n",
       " 99823,\n",
       " 99829,\n",
       " 99833,\n",
       " 99839,\n",
       " 99859,\n",
       " 99871,\n",
       " 99877,\n",
       " 99881,\n",
       " 99901,\n",
       " 99907,\n",
       " 99923,\n",
       " 99929,\n",
       " 99961,\n",
       " 99971,\n",
       " 99989,\n",
       " 99991,\n",
       " 100003,\n",
       " 100019,\n",
       " 100043,\n",
       " 100049,\n",
       " 100057,\n",
       " 100069,\n",
       " 100103,\n",
       " 100109]"
      ]
     },
     "execution_count": 156,
     "metadata": {},
     "output_type": "execute_result"
    }
   ],
   "source": [
    "primes[9500:9600]"
   ]
  },
  {
   "cell_type": "code",
   "execution_count": 157,
   "metadata": {},
   "outputs": [
    {
     "data": {
      "text/plain": [
       "500045"
      ]
     },
     "execution_count": 157,
     "metadata": {},
     "output_type": "execute_result"
    }
   ],
   "source": [
    "99989 + 99991 + 100003 + 100019 + 100043"
   ]
  },
  {
   "cell_type": "code",
   "execution_count": null,
   "metadata": {},
   "outputs": [],
   "source": [
    "2 3 5 7 11 13 17\n",
    "4 4 4 4 4\n",
    "5 5 5 5 5"
   ]
  }
 ],
 "metadata": {
  "kernelspec": {
   "display_name": "Python 3",
   "language": "python",
   "name": "python3"
  },
  "language_info": {
   "codemirror_mode": {
    "name": "ipython",
    "version": 3
   },
   "file_extension": ".py",
   "mimetype": "text/x-python",
   "name": "python",
   "nbconvert_exporter": "python",
   "pygments_lexer": "ipython3",
   "version": "3.8.3"
  }
 },
 "nbformat": 4,
 "nbformat_minor": 4
}
