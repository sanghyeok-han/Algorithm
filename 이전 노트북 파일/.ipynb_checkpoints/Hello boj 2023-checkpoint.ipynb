{
 "cells": [
  {
   "cell_type": "markdown",
   "metadata": {},
   "source": [
    "SortedSet"
   ]
  },
  {
   "cell_type": "code",
   "execution_count": 9,
   "metadata": {},
   "outputs": [
    {
     "data": {
      "text/plain": [
       "True"
      ]
     },
     "execution_count": 9,
     "metadata": {},
     "output_type": "execute_result"
    }
   ],
   "source": [
    "import math\n",
    "from bisect import bisect_left, bisect_right\n",
    "from typing import Generic, Iterable, Iterable, Iterator, TypeVar, Union, List\n",
    "T = TypeVar('T')\n",
    "\n",
    "class SortedSet(Generic[T]):\n",
    "    BUCKET_RATIO = 50\n",
    "    REBUILD_RATIO = 170\n",
    "    \n",
    "    def _build(self, a=None) -> None:\n",
    "        if a is None: a = list(self)\n",
    "        size = self.size = len(a)\n",
    "        bucket_size = int(math.ceil(math.sqrt(size / self.BUCKET_RATIO)))\n",
    "        self.a = [a[size * i // bucket_size : size * (i + 1) // bucket_size] for i in range(bucket_size)]\n",
    "            \n",
    "    def __init__(self, a: Iterable[T] = []) -> None:\n",
    "        a = list(a)\n",
    "        if not all(a[i] < a[i + 1] for i in range(len(a) - 1)):\n",
    "            a = sorted(set(a))\n",
    "        self._build(a)\n",
    "        \n",
    "    def __iter__(self) -> Iterator[T]:\n",
    "        for i in self.a:\n",
    "            for j in i: yield j\n",
    "                \n",
    "    def __len__(self) -> int:\n",
    "        return self.size\n",
    "    \n",
    "    def __repr__(self) -> str:\n",
    "        return \"SortedSet\" + str(self.a)\n",
    "    \n",
    "    def __str__(self) -> str:\n",
    "        s = str(list(self))\n",
    "        return \"{\" + s[1 : len(s) - 1] + \"}\"\n",
    "    \n",
    "    def _find_bucket(self, x: T) -> List[T]:\n",
    "        for a in self.a:\n",
    "            if x <= a[-1]: return a\n",
    "        return a\n",
    "    \n",
    "    def __contains__(self, x: T) -> bool:\n",
    "        if self.size == 0: return False\n",
    "        a = self._find_bucket(x)\n",
    "        i = bisect_left(a, x)\n",
    "        return i != len(a) and a[i] == x\n",
    "    \n",
    "    def add(self, x: T) -> bool:\n",
    "        if self.size == 0:\n",
    "            self.a = [[x]]\n",
    "            self.size = 1\n",
    "            return True\n",
    "        a = self._find_bucket(x)\n",
    "        i = bisect_left(a, x)\n",
    "        if i != len(a) and a[i] == x:\n",
    "            return False\n",
    "        a.insert(i, x)\n",
    "        self.size += 1\n",
    "        if len(a) > len(self.a) * self.REBUILD_RATIO:\n",
    "            self_build()\n",
    "        return True\n",
    "    \n",
    "    def discard(self, x: T) -> bool:\n",
    "        if self.size == 0: return False\n",
    "        a = self._find_bucket(x)\n",
    "        i = bisect_left(a, x)\n",
    "        if i == len(a) or a[i] != x: return Fale\n",
    "        a.pop(i)\n",
    "        self.size -= 1\n",
    "        if len(a) == 0: self._build()\n",
    "        return True\n",
    "    \n",
    "    def lt(self, x: T) -> Union[T, None]:\n",
    "        for a in reversed(self.a):\n",
    "            if a[0] < x:\n",
    "                return a[bisect_left(a, x) - 1]\n",
    "        \n",
    "    def le(self, x: T) -> Union[T, None]:\n",
    "        for a in reversed(self.a):\n",
    "            if a[0] <= x:\n",
    "                return a[bisect_right(a, x) - 1]\n",
    "    \n",
    "    def gt(self, x: T) -> Union[T, None]:\n",
    "        for a in self.a:\n",
    "            if a[-1] > x:\n",
    "                return a[bisect_right(a, x)]\n",
    "    \n",
    "    def ge(self, x: T) -> Union[T, None]:\n",
    "        for a in self.a:\n",
    "            if a[-1] >= x:\n",
    "                return a[bisect_left(a, x)]\n",
    "    \n",
    "    def __getitem__(self, x: int) -> T:\n",
    "        if x < 0: x += self.size\n",
    "        if x < 0: raise IndexError\n",
    "        for a in self.a:\n",
    "            if x < len(a): return a[x]\n",
    "            x -= len(a)\n",
    "        raise IndexError\n",
    "    \n",
    "    def index(self, x: T) -> int:\n",
    "        ans = 0\n",
    "        for a in self.a:\n",
    "            if a[-1] >= x:\n",
    "                return ans + bisect_left(a, x)\n",
    "            ans += len(a)\n",
    "        return ans\n",
    "    \n",
    "sst = SortedSet()\n",
    "\n"
   ]
  },
  {
   "cell_type": "code",
   "execution_count": 13,
   "metadata": {},
   "outputs": [
    {
     "data": {
      "text/plain": [
       "3"
      ]
     },
     "execution_count": 13,
     "metadata": {},
     "output_type": "execute_result"
    }
   ],
   "source": [
    "sst[0]"
   ]
  },
  {
   "cell_type": "markdown",
   "metadata": {},
   "source": [
    "A"
   ]
  },
  {
   "cell_type": "code",
   "execution_count": 6,
   "metadata": {},
   "outputs": [
    {
     "data": {
      "text/plain": [
       "256"
      ]
     },
     "execution_count": 6,
     "metadata": {},
     "output_type": "execute_result"
    }
   ],
   "source": [
    "1하고 0으로만 이루어져 있으면 제곱을 아무리 해도 결과가 같음"
   ]
  },
  {
   "cell_type": "code",
   "execution_count": 20,
   "metadata": {},
   "outputs": [
    {
     "name": "stdout",
     "output_type": "stream",
     "text": [
      "1000000000\n",
      "Hello, BOJ 2023!\n"
     ]
    }
   ],
   "source": [
    "from itertools import product as prod\n",
    "import sys\n",
    "input = lambda: sys.stdin.readline().rstrip()\n",
    "\n",
    "for _ in range(int(input())):\n",
    "    n = int(input())\n",
    "\n",
    "    li = list(map(int, str(n)))\n",
    "\n",
    "    st = set(li)\n",
    "    st.discard(0)\n",
    "    st.discard(1)\n",
    "\n",
    "    if len(st) == 0:\n",
    "        print('Hello, BOJ 2023!')\n",
    "    else:\n",
    "        total = 0\n",
    "        m = 1\n",
    "        while True:\n",
    "            cumul = 0\n",
    "            for v in li:\n",
    "                cumul += v ** m\n",
    "\n",
    "            if cumul > n:\n",
    "                break\n",
    "\n",
    "            ip = False\n",
    "            for case in prod(*[range(2)] * (len(li) - 1)):\n",
    "                to_check = 0\n",
    "                temp = [li[0]]\n",
    "                for ci in range(len(case)):\n",
    "                    # 더하기\n",
    "                    if case[ci] == 0:\n",
    "                        to_check += int(''.join(map(str, temp)))\n",
    "                        temp = [li[ci + 1]]\n",
    "                    # 병합\n",
    "                    else:\n",
    "                        temp.append(li[ci + 1])\n",
    "\n",
    "                to_check += int(''.join(map(str, temp)))\n",
    "\n",
    "                if to_check == cumul:\n",
    "                    ip = True\n",
    "                    break\n",
    "\n",
    "            if ip:\n",
    "                total += 1\n",
    "\n",
    "            m += 1\n",
    "\n",
    "        print(total)"
   ]
  },
  {
   "cell_type": "code",
   "execution_count": 8,
   "metadata": {},
   "outputs": [
    {
     "data": {
      "text/plain": [
       "512000"
      ]
     },
     "execution_count": 8,
     "metadata": {},
     "output_type": "execute_result"
    }
   ],
   "source": [
    "2 ** 9 * 1000"
   ]
  },
  {
   "cell_type": "markdown",
   "metadata": {},
   "source": [
    "B"
   ]
  },
  {
   "cell_type": "code",
   "execution_count": null,
   "metadata": {},
   "outputs": [],
   "source": [
    "먼저 전부 (값, 인덱스) 형식으로 만들어 놓음\n",
    "\n",
    "그 후 먼저 k개부터 추가한 후 이동 거리를 구함\n",
    "\n",
    "그 후 슬라이딩 윈도우로 한 칸씩 이동해야 하는데\n",
    "이때 빠질 것을 빼야하고 추가할 것을 추가해야함\n",
    "\n",
    "뺄 때는 양 옆을 보고 거리를 조정하고\n",
    "추가할 때도 양 옆을 보고 거리를 조정할 수 있음"
   ]
  },
  {
   "cell_type": "code",
   "execution_count": 31,
   "metadata": {},
   "outputs": [
    {
     "data": {
      "text/plain": [
       "1"
      ]
     },
     "execution_count": 31,
     "metadata": {},
     "output_type": "execute_result"
    }
   ],
   "source": [
    "sst = SortedSet()\n",
    "\n",
    "sst.add((0, 4))\n",
    "sst.add((2, 2))\n",
    "\n",
    "sst.index((2, 1))"
   ]
  },
  {
   "cell_type": "code",
   "execution_count": 54,
   "metadata": {},
   "outputs": [
    {
     "name": "stdout",
     "output_type": "stream",
     "text": [
      "3 1\n",
      "1 2 3\n",
      "1\n"
     ]
    }
   ],
   "source": [
    "import math\n",
    "from bisect import bisect_left, bisect_right\n",
    "from typing import Generic, Iterable, Iterable, Iterator, TypeVar, Union, List\n",
    "T = TypeVar('T')\n",
    "\n",
    "inf = float('inf')\n",
    "\n",
    "class SortedSet(Generic[T]):\n",
    "    BUCKET_RATIO = 50\n",
    "    REBUILD_RATIO = 170\n",
    "    \n",
    "    def _build(self, a=None) -> None:\n",
    "        if a is None: a = list(self)\n",
    "        size = self.size = len(a)\n",
    "        bucket_size = int(math.ceil(math.sqrt(size / self.BUCKET_RATIO)))\n",
    "        self.a = [a[size * i // bucket_size : size * (i + 1) // bucket_size] for i in range(bucket_size)]\n",
    "            \n",
    "    def __init__(self, a: Iterable[T] = []) -> None:\n",
    "        a = list(a)\n",
    "        if not all(a[i] < a[i + 1] for i in range(len(a) - 1)):\n",
    "            a = sorted(set(a))\n",
    "        self._build(a)\n",
    "        \n",
    "    def __iter__(self) -> Iterator[T]:\n",
    "        for i in self.a:\n",
    "            for j in i: yield j\n",
    "                \n",
    "    def __len__(self) -> int:\n",
    "        return self.size\n",
    "    \n",
    "    def __repr__(self) -> str:\n",
    "        return \"SortedSet\" + str(self.a)\n",
    "    \n",
    "    def __str__(self) -> str:\n",
    "        s = str(list(self))\n",
    "        return \"{\" + s[1 : len(s) - 1] + \"}\"\n",
    "    \n",
    "    def _find_bucket(self, x: T) -> List[T]:\n",
    "        for a in self.a:\n",
    "            if x <= a[-1]: return a\n",
    "        return a\n",
    "    \n",
    "    def __contains__(self, x: T) -> bool:\n",
    "        if self.size == 0: return False\n",
    "        a = self._find_bucket(x)\n",
    "        i = bisect_left(a, x)\n",
    "        return i != len(a) and a[i] == x\n",
    "    \n",
    "    def add(self, x: T) -> bool:\n",
    "        if self.size == 0:\n",
    "            self.a = [[x]]\n",
    "            self.size = 1\n",
    "            return True\n",
    "        a = self._find_bucket(x)\n",
    "        i = bisect_left(a, x)\n",
    "        if i != len(a) and a[i] == x:\n",
    "            return False\n",
    "        a.insert(i, x)\n",
    "        self.size += 1\n",
    "        if len(a) > len(self.a) * self.REBUILD_RATIO:\n",
    "            self._build()\n",
    "        return True\n",
    "    \n",
    "    def discard(self, x: T) -> bool:\n",
    "        if self.size == 0: return False\n",
    "        a = self._find_bucket(x)\n",
    "        i = bisect_left(a, x)\n",
    "        if i == len(a) or a[i] != x: return Fale\n",
    "        a.pop(i)\n",
    "        self.size -= 1\n",
    "        if len(a) == 0: self._build()\n",
    "        return True\n",
    "    \n",
    "    def lt(self, x: T) -> Union[T, None]:\n",
    "        for a in reversed(self.a):\n",
    "            if a[0] < x:\n",
    "                return a[bisect_left(a, x) - 1]\n",
    "        \n",
    "    def le(self, x: T) -> Union[T, None]:\n",
    "        for a in reversed(self.a):\n",
    "            if a[0] <= x:\n",
    "                return a[bisect_right(a, x) - 1]\n",
    "    \n",
    "    def gt(self, x: T) -> Union[T, None]:\n",
    "        for a in self.a:\n",
    "            if a[-1] > x:\n",
    "                return a[bisect_right(a, x)]\n",
    "    \n",
    "    def ge(self, x: T) -> Union[T, None]:\n",
    "        for a in self.a:\n",
    "            if a[-1] >= x:\n",
    "                return a[bisect_left(a, x)]\n",
    "    \n",
    "    def __getitem__(self, x: int) -> T:\n",
    "        if x < 0: x += self.size\n",
    "        if x < 0: raise IndexError\n",
    "        for a in self.a:\n",
    "            if x < len(a): return a[x]\n",
    "            x -= len(a)\n",
    "        raise IndexError\n",
    "    \n",
    "    def index(self, x: T) -> int:\n",
    "        ans = 0\n",
    "        for a in self.a:\n",
    "            if a[-1] >= x:\n",
    "                return ans + bisect_left(a, x)\n",
    "            ans += len(a)\n",
    "        return ans\n",
    "\n",
    "n, k = map(int, input().split())\n",
    "li = list(map(int, input().split()))\n",
    "\n",
    "if k == 1:\n",
    "    print(0)\n",
    "else:\n",
    "    sst = SortedSet()\n",
    "    \n",
    "    for i in range(k):\n",
    "        sst.add((-li[i], i))\n",
    "\n",
    "    min_r = inf\n",
    "    cur = 0\n",
    "    for i in range(k - 1):\n",
    "        cur += abs(sst[i][1] - sst[i + 1][1])\n",
    "\n",
    "    min_r = min(min_r, cur)\n",
    "\n",
    "    for i in range(k, n):\n",
    "        to_del_i = i - k\n",
    "        to_del = (-li[to_del_i], to_del_i)\n",
    "        sst_index = sst.index(to_del)\n",
    "        \n",
    "        assert sst[sst_index] == to_del\n",
    "\n",
    "        if sst_index == len(sst) - 1:\n",
    "            ai = sst[sst_index - 1][1]\n",
    "            bi = sst[sst_index][1]\n",
    "            \n",
    "            cur -= abs(ai - bi)\n",
    "        elif sst_index == 0:\n",
    "            bi = sst[sst_index][1]\n",
    "            ci = sst[sst_index + 1][1]\n",
    "            \n",
    "            cur -= abs(bi - ci)\n",
    "        else:\n",
    "            ai = sst[sst_index - 1][1]\n",
    "            bi = sst[sst_index][1]\n",
    "            ci = sst[sst_index + 1][1]\n",
    "            \n",
    "            if ai < bi < ci or ci < bi < ai:\n",
    "                pass\n",
    "            else:\n",
    "                before = abs(ai - bi) + abs(bi - ci)\n",
    "                after = abs(ai - ci)\n",
    "                \n",
    "                cur = cur - before + after\n",
    "                \n",
    "        sst.discard(to_del)\n",
    "            \n",
    "        to_add_i = i\n",
    "        to_add = (-li[to_add_i], to_add_i)\n",
    "        sst_index = sst.index(to_add)\n",
    "        \n",
    "        # 마지막에 추가하는 경우\n",
    "        if sst_index == len(sst):\n",
    "            ai = sst[-1][1]\n",
    "            bi = i\n",
    "            \n",
    "            cur += abs(ai - bi)\n",
    "        # 처음에 추가하는 경우\n",
    "        elif sst_index == 0:\n",
    "            bi = i\n",
    "            ci = sst[0][1]\n",
    "            \n",
    "            cur += abs(bi - ci)\n",
    "        else:\n",
    "            ai = sst[sst_index - 1][1]\n",
    "            bi = i\n",
    "            ci = sst[sst_index][1]\n",
    "            \n",
    "            if ai < bi < ci or ci < bi < ai:\n",
    "                pass\n",
    "            else:\n",
    "                before = abs(ai - ci)\n",
    "                after = abs(ai - bi) + abs(bi - ci)\n",
    "\n",
    "                cur = cur - before + after\n",
    "                    \n",
    "        sst.add(to_add)\n",
    "        \n",
    "        min_r = min(min_r, cur)\n",
    "        \n",
    "    print(min_r)"
   ]
  },
  {
   "cell_type": "code",
   "execution_count": 53,
   "metadata": {},
   "outputs": [
    {
     "data": {
      "text/plain": [
       "(9, 10, [1, 9, 2, 3, 4, 5, 6, 7, 10], 9)"
      ]
     },
     "execution_count": 53,
     "metadata": {},
     "output_type": "execute_result"
    }
   ],
   "source": [
    "i, n, li, len(li)"
   ]
  },
  {
   "cell_type": "code",
   "execution_count": 4,
   "metadata": {},
   "outputs": [
    {
     "data": {
      "text/plain": [
       "[1, 2, 7, 5, 9, 8, 3, 10, 4, 6]"
      ]
     },
     "execution_count": 4,
     "metadata": {},
     "output_type": "execute_result"
    }
   ],
   "source": [
    "from random import shuffle\n",
    "\n",
    "n = 10\n",
    "li = list(range(1,  n + 1))\n",
    "shuffle(li)\n",
    "\n",
    "li"
   ]
  },
  {
   "cell_type": "code",
   "execution_count": 32,
   "metadata": {},
   "outputs": [
    {
     "data": {
      "text/plain": [
       "(3, SortedSet[[(-4, 2), (-3, 0), (-2, 1)]])"
      ]
     },
     "execution_count": 32,
     "metadata": {},
     "output_type": "execute_result"
    }
   ],
   "source": [
    "sst_index + 1, sst"
   ]
  },
  {
   "cell_type": "code",
   "execution_count": 28,
   "metadata": {},
   "outputs": [
    {
     "data": {
      "text/plain": [
       "2"
      ]
     },
     "execution_count": 28,
     "metadata": {},
     "output_type": "execute_result"
    }
   ],
   "source": [
    "sst_index"
   ]
  },
  {
   "cell_type": "code",
   "execution_count": 25,
   "metadata": {},
   "outputs": [
    {
     "data": {
      "text/plain": [
       "(SortedSet[[(-4, 2), (-3, 0), (-2, 1)]], 1)"
      ]
     },
     "execution_count": 25,
     "metadata": {},
     "output_type": "execute_result"
    }
   ],
   "source": [
    "sst, bi"
   ]
  },
  {
   "cell_type": "code",
   "execution_count": 22,
   "metadata": {},
   "outputs": [
    {
     "data": {
      "text/plain": [
       "SortedSet[[(-4, 2), (-3, 0), (-2, 1)]]"
      ]
     },
     "execution_count": 22,
     "metadata": {},
     "output_type": "execute_result"
    }
   ],
   "source": [
    "sst"
   ]
  },
  {
   "cell_type": "code",
   "execution_count": 16,
   "metadata": {},
   "outputs": [
    {
     "data": {
      "text/plain": [
       "3"
      ]
     },
     "execution_count": 16,
     "metadata": {},
     "output_type": "execute_result"
    }
   ],
   "source": [
    "from bisect import bisect_left\n",
    "\n",
    "bisect_left([1, 3, 5], 7)"
   ]
  },
  {
   "cell_type": "markdown",
   "metadata": {},
   "source": [
    "C"
   ]
  },
  {
   "cell_type": "code",
   "execution_count": null,
   "metadata": {},
   "outputs": [],
   "source": [
    "이미 정렬된 부분은 다시 나눌 필요가 전혀 없을 것임"
   ]
  },
  {
   "cell_type": "code",
   "execution_count": null,
   "metadata": {},
   "outputs": [],
   "source": [
    "n = int(input())\n",
    "\n"
   ]
  },
  {
   "cell_type": "code",
   "execution_count": null,
   "metadata": {},
   "outputs": [],
   "source": [
    "1 2 3 4 5\n",
    "2 3 5 1 4\n"
   ]
  },
  {
   "cell_type": "code",
   "execution_count": null,
   "metadata": {},
   "outputs": [],
   "source": [
    "1 2 3 4 5\n",
    "\n",
    "1 2 3 4   5\n",
    "5 1 2 3 4\n",
    "\n",
    "5 1 2 3    4\n",
    "4 5 1 2 3\n",
    "\n",
    "4   5 1 2     3\n",
    "3 5 1 2 4\n",
    "\n",
    "3 5 1  2   4\n",
    "4 2 3 5 1\n",
    "\n",
    "4    2 3 5 1\n",
    "2 3 5 1 4"
   ]
  },
  {
   "cell_type": "code",
   "execution_count": null,
   "metadata": {},
   "outputs": [],
   "source": [
    "1 2 3 4 5\n",
    "\n",
    "1 2    3    4 5\n",
    "\n",
    "4 5  3  1 2"
   ]
  },
  {
   "cell_type": "code",
   "execution_count": null,
   "metadata": {},
   "outputs": [],
   "source": [
    "1   2 3   4  5\n",
    "\n",
    "1 . . . 5 -> 5 1\n",
    "\n",
    "1 . 2 3 . 5 -> . 5 2 3 1 .\n",
    "\n",
    "\n",
    "2 3 5 1 4"
   ]
  },
  {
   "cell_type": "code",
   "execution_count": 56,
   "metadata": {},
   "outputs": [
    {
     "name": "stdout",
     "output_type": "stream",
     "text": [
      "5\n",
      "2 3 5 1 4\n"
     ]
    },
    {
     "data": {
      "text/plain": [
       "{(1, 4), (2, 3), (3, 5), (5, 1)}"
      ]
     },
     "execution_count": 56,
     "metadata": {},
     "output_type": "execute_result"
    }
   ],
   "source": [
    "n = int(input())\n",
    "target = list(map(int, input().split()))\n",
    "\n",
    "adjs = set()\n",
    "for i in range(n - 1):\n",
    "    adjs.add((target[i], target[i + 1]))\n",
    "    \n",
    "adjs"
   ]
  },
  {
   "cell_type": "code",
   "execution_count": 86,
   "metadata": {},
   "outputs": [
    {
     "name": "stdout",
     "output_type": "stream",
     "text": [
      "5\n",
      "2 3 5 1 4\n",
      "3\n",
      "2 1\n",
      "3 2 3\n",
      "2 3\n"
     ]
    }
   ],
   "source": [
    "n = int(input())\n",
    "target = list(map(int, input().split()))\n",
    "\n",
    "li = list(range(1, n + 1))\n",
    "\n",
    "adjs = set()\n",
    "for i in range(n - 1):\n",
    "    adjs.add((target[i], target[i + 1]))\n",
    "    \n",
    "result = []\n",
    "for _ in range(n + 5):\n",
    "    cur_s = 0\n",
    "    cur_e = 0\n",
    "    i = 0\n",
    "    while i <= n - 2:\n",
    "        if (li[i], li[i + 1]) in adjs:\n",
    "            cur_e += 1\n",
    "            i += 1\n",
    "        else:\n",
    "            if (li[n - 1], li[0]) in adjs:\n",
    "                li = li[cur_e + 1:] + li[:cur_e + 1]\n",
    "                result.append(f\"2 {cur_e + 1}\")\n",
    "                break\n",
    "\n",
    "            if cur_s > 0:\n",
    "                if (li[-1], li[cur_s]) in adjs or (li[cur_e], li[0]) in adjs:\n",
    "                    li = li[cur_e + 1:] + li[cur_s:cur_e + 1] + li[:cur_s]\n",
    "                    result.append(f\"3 {cur_s - 1 + 1} {cur_e + 1}\")\n",
    "                    break\n",
    "\n",
    "            i += 1\n",
    "            cur_s = i\n",
    "            cur_e = i\n",
    "    \n",
    "    if li == target:\n",
    "        break\n",
    "        \n",
    "assert li == target\n",
    "# assert len(result) <= n - 1\n",
    "        \n",
    "print(len(result))\n",
    "for v in result:\n",
    "    print(v)"
   ]
  },
  {
   "cell_type": "code",
   "execution_count": 81,
   "metadata": {},
   "outputs": [
    {
     "data": {
      "text/plain": [
       "[2, 3, 4, 5]"
      ]
     },
     "execution_count": 81,
     "metadata": {},
     "output_type": "execute_result"
    }
   ],
   "source": [
    "1 2 3 4 5\n",
    "1   2 3 4 5\n",
    "\n",
    "2 3 4 5 1\n",
    "2 3   4   5 1\n",
    "\n",
    "5 1 4 2 3\n",
    "5 1 4   2 3\n",
    "\n",
    "2 3 5 1 4"
   ]
  },
  {
   "cell_type": "code",
   "execution_count": 66,
   "metadata": {},
   "outputs": [
    {
     "data": {
      "text/plain": [
       "(3, 4)"
      ]
     },
     "execution_count": 66,
     "metadata": {},
     "output_type": "execute_result"
    }
   ],
   "source": [
    "1 2 3 4 5\n",
    "\n",
    "1 2 3 4    5\n",
    "5 1 2 3 4\n",
    "\n",
    "1 2 3    4 5\n",
    "\n",
    "4 5    1 2 3"
   ]
  },
  {
   "cell_type": "code",
   "execution_count": null,
   "metadata": {},
   "outputs": [],
   "source": [
    "5 1 2 3 4\n",
    "\n",
    "5 1 2 3 4\n",
    "5 1   2 3    4\n",
    "\n",
    "4  2 3  5 1\n",
    "\n",
    "2 3 5 1 4\n",
    "\n"
   ]
  },
  {
   "cell_type": "code",
   "execution_count": null,
   "metadata": {},
   "outputs": [],
   "source": [
    "1 . 2 3 . 5 -> . 5 2 3 1 ."
   ]
  }
 ],
 "metadata": {
  "kernelspec": {
   "display_name": "Python 3",
   "language": "python",
   "name": "python3"
  },
  "language_info": {
   "codemirror_mode": {
    "name": "ipython",
    "version": 3
   },
   "file_extension": ".py",
   "mimetype": "text/x-python",
   "name": "python",
   "nbconvert_exporter": "python",
   "pygments_lexer": "ipython3",
   "version": "3.8.3"
  }
 },
 "nbformat": 4,
 "nbformat_minor": 4
}
