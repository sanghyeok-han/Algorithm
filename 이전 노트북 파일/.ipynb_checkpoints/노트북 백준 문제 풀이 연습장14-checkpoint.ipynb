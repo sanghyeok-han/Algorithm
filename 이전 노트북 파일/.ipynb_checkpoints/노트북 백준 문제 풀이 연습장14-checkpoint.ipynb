{
 "cells": [
  {
   "cell_type": "markdown",
   "metadata": {},
   "source": [
    "### 숫자 연결하기 1323"
   ]
  },
  {
   "cell_type": "code",
   "execution_count": 39,
   "metadata": {},
   "outputs": [
    {
     "name": "stdout",
     "output_type": "stream",
     "text": [
      "2 9\n",
      "9\n"
     ]
    }
   ],
   "source": [
    "n, k = map(int, input().split())\n",
    "\n",
    "n_len = len(str(n))\n",
    "to_mul = 10 ** n_len % k\n",
    "\n",
    "nn = n % k\n",
    "st = {nn}\n",
    "\n",
    "c = 1\n",
    "ip = False\n",
    "while True:\n",
    "    if nn == 0:\n",
    "        ip = True\n",
    "        break\n",
    "        \n",
    "    c += 1\n",
    "    nn = nn * to_mul + n\n",
    "    nn %= k\n",
    "    \n",
    "    if nn in st:\n",
    "        break\n",
    "    st.add(nn)\n",
    "        \n",
    "if ip:\n",
    "    print(c)\n",
    "else:\n",
    "    print(-1)"
   ]
  },
  {
   "cell_type": "markdown",
   "metadata": {},
   "source": [
    "https://www.acmicpc.net/problem/5527 전구 장식"
   ]
  },
  {
   "cell_type": "code",
   "execution_count": 54,
   "metadata": {},
   "outputs": [
    {
     "name": "stdout",
     "output_type": "stream",
     "text": [
      "3\n",
      "1 1 1\n",
      "3\n"
     ]
    }
   ],
   "source": [
    "n = int(input())\n",
    "li = list(map(int, input().split()))\n",
    "\n",
    "cur_s = 0\n",
    "cur = li[0] ^ 1\n",
    "max_r = 0\n",
    "past_2_length = 0\n",
    "past_length = 0\n",
    "for cur_e in range(n):\n",
    "    if li[cur_e] == cur ^ 1:\n",
    "        cur ^= 1\n",
    "    else:\n",
    "        s = cur_s\n",
    "        e = cur_e - 1\n",
    "        \n",
    "        length = e - s + 1\n",
    "        max_r = max(max_r, past_2_length + past_length + length)\n",
    "        \n",
    "        past_2_length = past_length\n",
    "        past_length = length\n",
    "        \n",
    "        cur_s = cur_e\n",
    "        cur = li[cur_e]\n",
    "        \n",
    "s = cur_s\n",
    "e = cur_e\n",
    "\n",
    "length = e - s + 1\n",
    "max_r = max(max_r, past_2_length + past_length + length)\n",
    "\n",
    "print(max_r)"
   ]
  },
  {
   "cell_type": "code",
   "execution_count": null,
   "metadata": {},
   "outputs": [],
   "source": [
    "1 0 1 0 1 0 0 1 0 1\n",
    "\n",
    "1 0 1 0 1 0 1 0 1 0"
   ]
  },
  {
   "cell_type": "markdown",
   "metadata": {},
   "source": [
    "https://www.acmicpc.net/problem/20947 습격받은 도시"
   ]
  },
  {
   "cell_type": "code",
   "execution_count": 56,
   "metadata": {},
   "outputs": [
    {
     "name": "stdout",
     "output_type": "stream",
     "text": [
      "5\n",
      "...XO\n",
      "..XOO\n",
      "...XO\n",
      "O....\n",
      "OXX..\n",
      ".BBXO\n",
      ".BXOO\n",
      ".BBXO\n",
      "O....\n",
      "OXXB.\n"
     ]
    }
   ],
   "source": [
    "import sys\n",
    "input = lambda: sys.stdin.readline().rstrip()\n",
    "\n",
    "n = int(input())\n",
    "li = [list(input()) for _ in range(n)]\n",
    "\n",
    "checked_O= [[False] * n for _ in range(n)]\n",
    "\n",
    "for i in range(n):\n",
    "    is_checked = False\n",
    "    for j in range(n):\n",
    "        if li[i][j] == 'O':\n",
    "            is_checked = True\n",
    "        elif li[i][j] == 'X':\n",
    "            is_checked = False\n",
    "        \n",
    "        if li[i][j] == '.' and is_checked:\n",
    "            checked_O[i][j] = True\n",
    "            \n",
    "for i in range(n):\n",
    "    is_checked = False\n",
    "    for j in range(n - 1, -1, -1):\n",
    "        if li[i][j] == 'O':\n",
    "            is_checked = True\n",
    "        elif li[i][j] == 'X':\n",
    "            is_checked = False\n",
    "        \n",
    "        if li[i][j] == '.' and is_checked:\n",
    "            checked_O[i][j] = True\n",
    "            \n",
    "for j in range(n):\n",
    "    is_checked = False\n",
    "    for i in range(n):\n",
    "        if li[i][j] == 'O':\n",
    "            is_checked = True\n",
    "        elif li[i][j] == 'X':\n",
    "            is_checked = False\n",
    "        \n",
    "        if li[i][j] == '.' and is_checked:\n",
    "            checked_O[i][j] = True\n",
    "            \n",
    "for j in range(n):\n",
    "    is_checked = False\n",
    "    for i in range(n - 1 , -1, -1):\n",
    "        if li[i][j] == 'O':\n",
    "            is_checked = True\n",
    "        elif li[i][j] == 'X':\n",
    "            is_checked = False\n",
    "        \n",
    "        if li[i][j] == '.' and is_checked:\n",
    "            checked_O[i][j] = True\n",
    "            \n",
    "for i in range(n):\n",
    "    for j in range(n):\n",
    "        if li[i][j] == '.' and not checked_O[i][j]:\n",
    "            li[i][j] = 'B'\n",
    "\n",
    "    li[i] = ''.join(li[i])\n",
    "    print(li[i])"
   ]
  },
  {
   "cell_type": "markdown",
   "metadata": {},
   "source": [
    "https://www.acmicpc.net/problem/3130 붙인드롬"
   ]
  },
  {
   "cell_type": "code",
   "execution_count": 20,
   "metadata": {},
   "outputs": [
    {
     "name": "stdout",
     "output_type": "stream",
     "text": [
      "6 123\n",
      "71\n"
     ]
    }
   ],
   "source": [
    "n, m = map(int, input().split())\n",
    "\n",
    "to_mul = 10 ** (n // 2)\n",
    "to_mul %= m\n",
    "\n",
    "li = [[] for _ in range(n + 2)]\n",
    "li_zero_s = [[] for _ in range(n + 2)]\n",
    "\n",
    "li[1] = list(map(str, range(1, 10)))\n",
    "li[2] = list(map(lambda x: str(x) + str(x), range(1, 10)))\n",
    "li_zero_s[1].append('0')\n",
    "li_zero_s[2].append('00')\n",
    "\n",
    "for c in range(3, n // 2 + 1):\n",
    "    for fv in li[c - 2]:\n",
    "        for num in range(1, 10):\n",
    "            v = str(num) + fv + str(num)\n",
    "            li[c].append(v)\n",
    "        v0 = '0' + fv + '0'\n",
    "        li_zero_s[c].append(v0)\n",
    "        \n",
    "    for fv in li_zero_s[c - 2]:\n",
    "        for num in range(1, 10):\n",
    "            v = str(num) + fv + str(num)\n",
    "            li[c].append(v)\n",
    "        v0 = '0' + fv + '0'\n",
    "        li_zero_s[c].append(v0)\n",
    "        \n",
    "ct_front = [0] * m\n",
    "ct_back = [0] * m\n",
    "for v in li[n // 2]:\n",
    "    rm = int(v) * to_mul % m\n",
    "    ct_front[rm] += 1\n",
    "    \n",
    "    rm = int(v) % m\n",
    "    ct_back[rm] +=1 \n",
    "\n",
    "for v in li_zero_s[n // 2]:\n",
    "    rm = int(v) % m\n",
    "    ct_back[rm] += 1\n",
    "    \n",
    "result = 0\n",
    "for rm in range(m):\n",
    "    if ct_front[rm]:\n",
    "        to_find = m - rm\n",
    "        if to_find == m:\n",
    "            to_find = 0\n",
    "            \n",
    "        result += ct_front[rm] * ct_back[to_find]\n",
    "        \n",
    "print(result)"
   ]
  },
  {
   "cell_type": "markdown",
   "metadata": {},
   "source": [
    "https://www.acmicpc.net/problem/24553 팰린드롬 게임"
   ]
  },
  {
   "cell_type": "code",
   "execution_count": null,
   "metadata": {},
   "outputs": [],
   "source": [
    "1~9 선 승\n",
    "10 후 승\n",
    "11 선 승\n",
    "12~19 10으로 만들어서 선 승\n",
    "20 후 승\n",
    "21 후 승 X"
   ]
  },
  {
   "cell_type": "code",
   "execution_count": null,
   "metadata": {},
   "outputs": [],
   "source": [
    "from collections import deque\n",
    "\n",
    "queue = deque(map(str, range(10)))\n",
    "for i in range(len(queue)):\n",
    "    queue.append(queue[i])\n",
    "\n",
    "st = set()\n",
    "for _ in range(2):\n",
    "    for _ in range(len(queue)):\n",
    "        value = queue.popleft()\n",
    "        \n",
    "        if value[0] != '0':\n",
    "            st.add(int(value))\n",
    "        \n",
    "        for num in range(10):\n",
    "            v = str(num) + value + str(num)\n",
    "            queue.append(v)"
   ]
  },
  {
   "cell_type": "code",
   "execution_count": 35,
   "metadata": {},
   "outputs": [
    {
     "name": "stdout",
     "output_type": "stream",
     "text": [
      "10\n",
      "20\n",
      "30\n",
      "40\n",
      "50\n",
      "60\n",
      "70\n",
      "80\n",
      "90\n"
     ]
    }
   ],
   "source": [
    "# n = int(input())\n",
    "\n",
    "dp = [-1] * 1000\n",
    "\n",
    "def recur(n):\n",
    "    if dp[n] != -1:\n",
    "        return dp[n]\n",
    "    \n",
    "    if n in st:\n",
    "        dp[n] = True\n",
    "        return True\n",
    "    \n",
    "    can_win = False\n",
    "    \n",
    "    for v in st:\n",
    "        if n > v:\n",
    "            temp = recur(n - v)\n",
    "            if temp == 0:\n",
    "                can_win = True\n",
    "                \n",
    "    dp[n] = can_win\n",
    "    return can_win\n",
    "    \n",
    "recur(100)\n",
    "\n",
    "for i in range(100):\n",
    "    if dp[i] == False:\n",
    "        print(i)"
   ]
  },
  {
   "cell_type": "code",
   "execution_count": 37,
   "metadata": {},
   "outputs": [
    {
     "name": "stdout",
     "output_type": "stream",
     "text": [
      "10\n",
      "1\n"
     ]
    }
   ],
   "source": [
    "import sys\n",
    "input = lambda: sys.stdin.readline().rstrip()\n",
    "\n",
    "for _ in range(int(input())):\n",
    "    n = int(input())\n",
    "\n",
    "    if n % 10 == 0:\n",
    "        print(1)\n",
    "    else:\n",
    "        print(0)"
   ]
  },
  {
   "cell_type": "markdown",
   "metadata": {},
   "source": [
    "https://www.acmicpc.net/problem/14370 전화번호 수수께끼 (Large)"
   ]
  },
  {
   "cell_type": "code",
   "execution_count": null,
   "metadata": {},
   "outputs": [],
   "source": [
    "ZERO           Z\n",
    "ONE        나머지 전부 없앤 후 O\n",
    "TWO            W\n",
    "THREE       ZERO, FOUR 없앤 후 R  \n",
    "FOUR           U\n",
    "FIVE        FOUR 없앤 후 F \n",
    "SIX            X\n",
    "SEVEN       SIX 없앤 후 S\n",
    "EIGHT          G\n",
    "NINE       두 단계 없앤 후 I  "
   ]
  },
  {
   "cell_type": "code",
   "execution_count": 54,
   "metadata": {},
   "outputs": [
    {
     "name": "stdout",
     "output_type": "stream",
     "text": [
      "1\n",
      "OZONETOWER\n",
      "Case #1: 012\n"
     ]
    }
   ],
   "source": [
    "from collections import Counter\n",
    "import sys\n",
    "input = lambda: sys.stdin.readline().rstrip()\n",
    "\n",
    "for tn in range(int(input())):\n",
    "    s = input()\n",
    "\n",
    "    ct = Counter(s)\n",
    "\n",
    "    result = [0] * 10\n",
    "\n",
    "    # first\n",
    "    c = ct['Z']\n",
    "    result[0] = c\n",
    "    for v in 'ZERO':\n",
    "        ct[v] -= c\n",
    "\n",
    "    c = ct['W']\n",
    "    result[2] = c\n",
    "    for v in 'TWO':\n",
    "        ct[v] -= c\n",
    "\n",
    "    c = ct['U']\n",
    "    result[4] = c\n",
    "    for v in 'FOUR':\n",
    "        ct[v] -= c\n",
    "\n",
    "    c = ct['X']\n",
    "    result[6] = c\n",
    "    for v in 'SIX':\n",
    "        ct[v] -= c\n",
    "\n",
    "    c = ct['G']\n",
    "    result[8] = c\n",
    "    for v in 'EIGHT':\n",
    "        ct[v] -= c\n",
    "\n",
    "    # second\n",
    "    c = ct['R']\n",
    "    result[3] = c\n",
    "    for v in 'THREE':\n",
    "        ct[v] -= c\n",
    "\n",
    "    c = ct['F']\n",
    "    result[5] = c\n",
    "    for v in 'FIVE':\n",
    "        ct[v] -= c\n",
    "\n",
    "    c = ct['S']\n",
    "    result[7] = c\n",
    "    for v in 'SEVEN':\n",
    "        ct[v] -= c\n",
    "\n",
    "    # third\n",
    "    c = ct['I']\n",
    "    result[9] = c\n",
    "    for v in 'NINE':\n",
    "        ct[v] -= c\n",
    "\n",
    "    # last\n",
    "    result[1] = ct['O']\n",
    "\n",
    "    nresult = []\n",
    "    for num in range(10):\n",
    "        nresult.extend([num] * result[num])\n",
    "\n",
    "    nresult = ''.join(map(str, nresult))\n",
    "\n",
    "    print(f'Case #{tn + 1}: {nresult}')"
   ]
  },
  {
   "cell_type": "markdown",
   "metadata": {},
   "source": [
    "https://www.acmicpc.net/problem/22965 k개의 부분 배열"
   ]
  },
  {
   "cell_type": "code",
   "execution_count": null,
   "metadata": {},
   "outputs": [],
   "source": [
    "주어지 배열이 1~n까지 있으면 답은 1\n",
    "주어진 배열이 1~n까지의 수가 rotate된 것이라면 답은 2\n",
    "나머지 경우라면 답은 3"
   ]
  },
  {
   "cell_type": "code",
   "execution_count": null,
   "metadata": {},
   "outputs": [],
   "source": [
    "1 2 3 5 4\n",
    "\n",
    "1 2 3  5  4\n",
    "1 2 3  4  5\n",
    "\n",
    "1 2 4 3 5\n",
    "\n",
    "1 2   4   3 5\n",
    "\n",
    "1 2   3 5   4"
   ]
  },
  {
   "cell_type": "code",
   "execution_count": null,
   "metadata": {},
   "outputs": [],
   "source": [
    "4 3 2 1\n",
    "\n",
    "4  3 2   1\n",
    "\n",
    "1  3 2  4\n",
    "\n",
    "1  3  2 4\n",
    "\n",
    "1  2 4   3\n",
    "\n",
    "1 2   4   3\n",
    "\n",
    "1 2  3   4"
   ]
  },
  {
   "cell_type": "code",
   "execution_count": 58,
   "metadata": {},
   "outputs": [
    {
     "name": "stdout",
     "output_type": "stream",
     "text": [
      "5\n",
      "4 6 1 2 3\n",
      "2\n"
     ]
    }
   ],
   "source": [
    "n = int(input())\n",
    "li = list(map(int, input().split()))\n",
    "\n",
    "cri = sorted(li)\n",
    "\n",
    "if li == cri:\n",
    "    print(1)\n",
    "else:\n",
    "    index_min = li.index(min(li))\n",
    "    \n",
    "    nli = li[index_min:] + li[:index_min]\n",
    "    if nli == cri:\n",
    "        print(2)\n",
    "    else:\n",
    "        print(3)"
   ]
  },
  {
   "cell_type": "markdown",
   "metadata": {},
   "source": [
    "https://www.acmicpc.net/problem/3221 개미의 이동"
   ]
  },
  {
   "cell_type": "code",
   "execution_count": null,
   "metadata": {},
   "outputs": [],
   "source": [
    "1    2    3    4    5    6    7    8    9\n",
    "r    r    l         l         r    r\n",
    "\n",
    "     rl   r"
   ]
  },
  {
   "cell_type": "code",
   "execution_count": null,
   "metadata": {},
   "outputs": [],
   "source": [
    "1    2    3    4    5    6    7    8    9\n",
    "     r         l\n",
    "    \n",
    "1    2    3    4    5    6    7    8    9\n",
    "          lr\n",
    "    \n",
    "1    2    3    4    5    6    7    8    9\n",
    "     l         r"
   ]
  },
  {
   "cell_type": "code",
   "execution_count": null,
   "metadata": {},
   "outputs": [],
   "source": [
    "import sys\n",
    "input = lambda: sys.stdin.readline().rstrip()\n",
    "\n",
    "l, t = map(int, input().split())\n",
    "\n",
    "to_right_iterred = list(range(l + 1)) + list(range(l - 1, 0, -1))\n",
    "to_left_iterred = list(range(l, -1, -1)) + list(range(1, l))\n",
    "\n",
    "n = int(input())\n",
    "ants = []\n",
    "for _ in range(n):\n",
    "    loc, direction = input().split()\n",
    "    loc = int(loc)\n",
    "    \n",
    "    if direction == 'D':\n",
    "        moved = loc\n",
    "        moved += t\n",
    "        moved %= l * 2\n",
    "        \n",
    "        ants.append(to_right_iterred[moved])\n",
    "    elif direction == 'L':\n",
    "        moved = l - loc\n",
    "        moved += t\n",
    "        moved %= l * 2\n",
    "        \n",
    "        ants.append(to_left_iterred[moved])\n",
    "        \n",
    "ants.sort()\n",
    "\n",
    "print(*ants)"
   ]
  },
  {
   "cell_type": "code",
   "execution_count": 83,
   "metadata": {},
   "outputs": [
    {
     "data": {
      "text/plain": [
       "[4, 3, 2, 1, 0, 1, 2, 3]"
      ]
     },
     "execution_count": 83,
     "metadata": {},
     "output_type": "execute_result"
    }
   ],
   "source": [
    "to_right_iterred = list(range(l + 1)) + list(range(l - 1, 0, -1))\n",
    "to_left_iterred = list(range(l, -1, -1)) + list(range(1, l))\n",
    "\n",
    "to_left_iterred"
   ]
  },
  {
   "cell_type": "markdown",
   "metadata": {},
   "source": [
    "https://www.acmicpc.net/problem/1699 제곱수의 합"
   ]
  },
  {
   "cell_type": "code",
   "execution_count": 26,
   "metadata": {},
   "outputs": [
    {
     "name": "stdout",
     "output_type": "stream",
     "text": [
      "13\n",
      "2\n"
     ]
    }
   ],
   "source": [
    "n = int(input())\n",
    "\n",
    "dp = list(range(n + 1))\n",
    "\n",
    "cur = 2\n",
    "while True:\n",
    "    cur_s = cur ** 2\n",
    "    if cur_s > n:\n",
    "        break\n",
    "        \n",
    "    for v in range(cur_s, n + 1):\n",
    "        dp[v] = min(dp[v], dp[v - cur_s] + 1)\n",
    "        \n",
    "    cur += 1\n",
    "        \n",
    "r = dp[n]\n",
    "\n",
    "print(r)"
   ]
  },
  {
   "cell_type": "code",
   "execution_count": 40,
   "metadata": {},
   "outputs": [
    {
     "name": "stdout",
     "output_type": "stream",
     "text": [
      "7\n",
      "1\n",
      "4\n",
      "2\n",
      "5\n",
      "3\n",
      "7\n",
      "1\n",
      "4\n",
      "2\n"
     ]
    }
   ],
   "source": [
    "import sys\n",
    "input = lambda: sys.stdin.readline().rstrip()\n",
    "\n",
    "n = int(input())\n",
    "\n",
    "inc_c = 0\n",
    "inc_v = 0\n",
    "dec_cont_c = 0\n",
    "dec_stack = []\n",
    "\n",
    "for _ in range(n):\n",
    "    v = int(input())\n",
    "    \n",
    "    if inc_v < v:\n",
    "        inc_c += 1 \n",
    "        inc_v = v\n",
    "        \n",
    "    while dec_stack and dec_stack[-1] <= v:\n",
    "        dec_stack.pop()\n",
    "    dec_stack.append(v)\n",
    "    \n",
    "print(inc_c)\n",
    "print(len(dec_stack))"
   ]
  },
  {
   "cell_type": "markdown",
   "metadata": {},
   "source": [
    "https://www.acmicpc.net/problem/16161 가장 긴 증가하는 팰린드롬 부분수열"
   ]
  },
  {
   "cell_type": "code",
   "execution_count": 46,
   "metadata": {},
   "outputs": [
    {
     "name": "stdout",
     "output_type": "stream",
     "text": [
      "6\n",
      "1 2 3 2 1 6\n",
      "5\n"
     ]
    }
   ],
   "source": [
    "n = int(input())\n",
    "li = list(map(int, input().split()))\n",
    "\n",
    "max_r = 1\n",
    "for mid in range(n):\n",
    "    cur = li[mid]\n",
    "    for delta in range(1, n):\n",
    "        a = mid - delta\n",
    "        b = mid + delta\n",
    "        \n",
    "        if a < 0 or b >= n or li[a] != li[b] or li[a] >= cur:\n",
    "            break\n",
    "        cur = li[a]\n",
    "        max_r = max(max_r, 1 + delta * 2)\n",
    "        \n",
    "for mid in range(n - 1):\n",
    "    if li[mid] != li[mid + 1]:\n",
    "        continue\n",
    "    max_r = max(max_r, 2)\n",
    "    \n",
    "    cur = li[mid]\n",
    "    for delta in range(1, n):\n",
    "        a = mid - delta\n",
    "        b = mid + 1 + delta\n",
    "        \n",
    "        if a < 0 or b >= n or li[a] != li[b] or li[a] >= cur:\n",
    "            break\n",
    "        cur = li[a]\n",
    "        max_r = max(max_r, 2 + delta * 2)\n",
    "        \n",
    "print(max_r)"
   ]
  },
  {
   "cell_type": "markdown",
   "metadata": {},
   "source": [
    "https://www.acmicpc.net/problem/19576 약수"
   ]
  },
  {
   "cell_type": "code",
   "execution_count": 82,
   "metadata": {},
   "outputs": [
    {
     "name": "stdout",
     "output_type": "stream",
     "text": [
      "4\n",
      "2 2 2 2\n",
      "0\n"
     ]
    }
   ],
   "source": [
    "from collections import Counter\n",
    "\n",
    "def dfs(value):\n",
    "    max_temp = 0\n",
    "    for v in nli[value]:\n",
    "        if dp[v] == -1:\n",
    "            dfs(v)\n",
    "        max_temp = max(max_temp, dp[v])\n",
    "        \n",
    "    dp[value] = max_temp + ws[value]\n",
    "\n",
    "n = int(input())\n",
    "ct = Counter(map(int, input().split()))\n",
    "    \n",
    "li = []\n",
    "ws = []\n",
    "for key in ct:\n",
    "    li.append(key)\n",
    "    ws.append(ct[key])\n",
    "nn = len(li)\n",
    "\n",
    "nli = [[] for _ in range(nn)]\n",
    "for i in range(nn):\n",
    "    for j in range(i + 1, nn):\n",
    "        if li[i] % li[j] == 0:\n",
    "            nli[i].append(j)\n",
    "        elif li[j] % li[i] == 0:\n",
    "            nli[j].append(i)\n",
    "\n",
    "max_r = 0\n",
    "dp = [-1] * nn\n",
    "for i in range(nn):\n",
    "    if dp[i] == -1:\n",
    "        dfs(i)\n",
    "    max_r = max(max_r, dp[i])\n",
    "    \n",
    "result = n - max_r\n",
    "\n",
    "print(result)"
   ]
  },
  {
   "cell_type": "code",
   "execution_count": 94,
   "metadata": {},
   "outputs": [
    {
     "name": "stdout",
     "output_type": "stream",
     "text": [
      "5\n",
      "1 2 4 8 16\n",
      "0\n"
     ]
    }
   ],
   "source": [
    "from collections import Counter\n",
    "\n",
    "n = int(input())\n",
    "ct = Counter(map(int, input().split()))\n",
    "    \n",
    "li = []\n",
    "ws = []\n",
    "for key in sorted(ct.keys()):\n",
    "    li.append(key)\n",
    "    ws.append(ct[key])\n",
    "nn = len(li)\n",
    "\n",
    "dp = [0] * nn\n",
    "dp[0] = ws[0]\n",
    "max_r = dp[0]\n",
    "for i in range(1, nn):\n",
    "    temp = 0\n",
    "    for j in range(i):\n",
    "        if li[i] % li[j] == 0:\n",
    "            temp = max(temp, dp[j])\n",
    "            \n",
    "    dp[i] = temp + ws[i]\n",
    "    max_r = max(max_r, dp[i])\n",
    "    \n",
    "result = n - max_r\n",
    "\n",
    "print(result)"
   ]
  },
  {
   "cell_type": "markdown",
   "metadata": {},
   "source": [
    "https://www.acmicpc.net/problem/13206 Professor KCM"
   ]
  },
  {
   "cell_type": "code",
   "execution_count": 99,
   "metadata": {},
   "outputs": [
    {
     "name": "stdout",
     "output_type": "stream",
     "text": [
      "5\n",
      "1 30 3 20 8\n",
      "120\n"
     ]
    }
   ],
   "source": [
    "from math import gcd\n",
    "from collections import defaultdict as dd\n",
    "import sys\n",
    "input = lambda: sys.stdin.readline().rstrip()\n",
    "\n",
    "lcm = lambda a, b: a * b // gcd(a, b)\n",
    "\n",
    "mod_g = 1000000007\n",
    "\n",
    "for _ in range(int(input())):\n",
    "    n = int(input())\n",
    "    li = list(map(int, input().split()))\n",
    "\n",
    "    ct = dd(int)\n",
    "    for num in li:\n",
    "        for mod in range(2, int(num ** 0.5) + 1):\n",
    "            c = 0\n",
    "            while num % mod == 0:\n",
    "                c += 1\n",
    "                num //= mod\n",
    "\n",
    "            ct[mod] = max(ct[mod], c)\n",
    "\n",
    "        if num != 1:\n",
    "            ct[num] = max(ct[num], 1)\n",
    "\n",
    "    cur = 1\n",
    "    for key in ct:\n",
    "        c = ct[key]\n",
    "        cur *= key ** c   \n",
    "        cur %= mod_g\n",
    "    \n",
    "    print(cur)"
   ]
  },
  {
   "cell_type": "code",
   "execution_count": null,
   "metadata": {},
   "outputs": [],
   "source": [
    "from math import gcd\n",
    "import sys\n",
    "# input = lambda: sys.stdin.readline().rstrip()\n",
    "\n",
    "lcm = lambda a, b: a * b // gcd(a, b)\n",
    "\n",
    "mod_g = 1000000007\n",
    "\n",
    "for _ in range(int(input())):\n",
    "    n = int(input())\n",
    "    li = list(map(int, input().split()))\n",
    "    \n",
    "    cur = 1\n",
    "    for v in li:\n",
    "        cur = lcm(cur, v)\n",
    "    cur %= mod_g\n",
    "    \n",
    "    print(cur)"
   ]
  },
  {
   "cell_type": "markdown",
   "metadata": {},
   "source": [
    "https://www.acmicpc.net/problem/1565 수학"
   ]
  },
  {
   "cell_type": "code",
   "execution_count": null,
   "metadata": {},
   "outputs": [],
   "source": [
    "2**3 * 3**4  3**2\n",
    "\n",
    "D에 있는 모든 수의 배수 -> D의 lcm의 배수\n",
    "\n",
    "\n",
    "2**3 * 3**4  3**2\n",
    "\n",
    "M의 gcd의 약수"
   ]
  },
  {
   "cell_type": "code",
   "execution_count": 109,
   "metadata": {},
   "outputs": [
    {
     "name": "stdout",
     "output_type": "stream",
     "text": [
      "3 1\n",
      "1000 10000 100000\n",
      "1000000000\n",
      "25\n"
     ]
    }
   ],
   "source": [
    "from math import gcd\n",
    "\n",
    "lcm = lambda a, b: a * b // gcd(a, b)\n",
    "\n",
    "def get_divisors(num):\n",
    "    divisors = set()\n",
    "    for mod in range(1, int(num ** 0.5) + 1):\n",
    "        if num % mod == 0:\n",
    "            divisors.add(mod)\n",
    "            divisors.add(num // mod)\n",
    "            \n",
    "    return divisors\n",
    "\n",
    "n, m = map(int, input().split())\n",
    "\n",
    "ds = list(map(int, input().split()))\n",
    "ms = list(map(int, input().split()))\n",
    "\n",
    "d_lcm = 1\n",
    "for v in ds:\n",
    "    d_lcm = lcm(d_lcm, v)\n",
    "    \n",
    "m_gcd = ms[0]\n",
    "for i in range(1, m):\n",
    "    m_gcd = gcd(m_gcd, ms[i])\n",
    "\n",
    "c = 0\n",
    "for div in get_divisors(m_gcd):\n",
    "    if div % d_lcm == 0:\n",
    "        c += 1\n",
    "        \n",
    "print(c)"
   ]
  },
  {
   "cell_type": "markdown",
   "metadata": {},
   "source": [
    "https://www.acmicpc.net/problem/10258 스위치 배열 (다시 풀음)"
   ]
  },
  {
   "cell_type": "code",
   "execution_count": null,
   "metadata": {},
   "outputs": [],
   "source": [
    "000 0 000\n",
    "001 1 000\n",
    "011 2 010\n",
    "010 3 011\n",
    "110 4 100\n",
    "111 5 101\n",
    "101 6 110\n",
    "100 7 111\n",
    "1100 8 1000\n"
   ]
  },
  {
   "cell_type": "code",
   "execution_count": 10,
   "metadata": {},
   "outputs": [
    {
     "name": "stdout",
     "output_type": "stream",
     "text": [
      "4\n",
      "1111\n",
      "10\n",
      "11111\n",
      "21\n",
      "1010101010\n",
      "819\n",
      "000\n",
      "0\n"
     ]
    }
   ],
   "source": [
    "import sys\n",
    "input = lambda: sys.stdin.readline().rstrip()\n",
    "\n",
    "for _ in range(int(input())):\n",
    "    li = list(map(int, input()))\n",
    "    n = len(li)\n",
    "    \n",
    "    msb_i = -1\n",
    "    for i in range(n):\n",
    "        if li[i] == 1:\n",
    "            msb_i = i\n",
    "            break\n",
    "\n",
    "    if msb_i == -1:\n",
    "        print(0)\n",
    "    else:\n",
    "        r = [0] * n\n",
    "        r[msb_i] = 1\n",
    "\n",
    "        cur = 1\n",
    "        for i in range(msb_i + 1, n):\n",
    "            cur ^= li[i]\n",
    "            r[i] = cur\n",
    "\n",
    "        r = int(''.join(map(str, r)), 2)\n",
    "\n",
    "        print(r)"
   ]
  },
  {
   "cell_type": "code",
   "execution_count": null,
   "metadata": {},
   "outputs": [],
   "source": [
    "1001000100\n",
    "1001000110 만들어야 함\n",
    "1001100000 만들어야 함\n",
    "1100000000 만들어야 함"
   ]
  },
  {
   "cell_type": "code",
   "execution_count": 3,
   "metadata": {},
   "outputs": [
    {
     "data": {
      "text/plain": [
       "819"
      ]
     },
     "execution_count": 3,
     "metadata": {},
     "output_type": "execute_result"
    }
   ],
   "source": [
    "int('1100110011', 2)"
   ]
  },
  {
   "cell_type": "markdown",
   "metadata": {},
   "source": [
    "https://www.acmicpc.net/problem/25323 수 정렬하기, 근데 이제 제곱수를 곁들인"
   ]
  },
  {
   "cell_type": "code",
   "execution_count": null,
   "metadata": {},
   "outputs": [],
   "source": [
    "1 27 3 12\n",
    "\n",
    "1 3 12 27"
   ]
  },
  {
   "cell_type": "code",
   "execution_count": 17,
   "metadata": {},
   "outputs": [
    {
     "name": "stdout",
     "output_type": "stream",
     "text": [
      "4\n",
      "1 27 3 12\n",
      "YES\n"
     ]
    }
   ],
   "source": [
    "from math import isqrt\n",
    "\n",
    "n = int(input())\n",
    "li = list(map(int, input().split()))\n",
    "\n",
    "sli = sorted(li)\n",
    "\n",
    "ip = True\n",
    "for i in range(n):\n",
    "    if li[i] != sli[i]:\n",
    "        a = li[i]\n",
    "        b = sli[i]\n",
    "        \n",
    "        to_check = a * b\n",
    "        \n",
    "        ro = isqrt(to_check)\n",
    "        if ro ** 2 != to_check:\n",
    "            ip = False\n",
    "            break\n",
    "            \n",
    "if ip:\n",
    "    print('YES')\n",
    "else:\n",
    "    print('NO')"
   ]
  },
  {
   "cell_type": "code",
   "execution_count": null,
   "metadata": {},
   "outputs": [],
   "source": [
    "1 3 12 27\n",
    "\n",
    "1 27 3 12"
   ]
  },
  {
   "cell_type": "code",
   "execution_count": null,
   "metadata": {},
   "outputs": [],
   "source": [
    "a * b가 제곱수여야 함"
   ]
  },
  {
   "cell_type": "markdown",
   "metadata": {},
   "source": [
    "https://www.acmicpc.net/problem/11414 LCM"
   ]
  },
  {
   "cell_type": "code",
   "execution_count": null,
   "metadata": {},
   "outputs": [],
   "source": [
    "4 10\n",
    "2*2 2*5"
   ]
  },
  {
   "cell_type": "code",
   "execution_count": null,
   "metadata": {},
   "outputs": [],
   "source": [
    "6 12\n",
    "\n",
    "2*3 2*3*2"
   ]
  },
  {
   "cell_type": "code",
   "execution_count": null,
   "metadata": {},
   "outputs": [],
   "source": [
    "from math import gcd\n",
    "\n",
    "lcm = lambda a, b: a * b // gcd(a, b)\n",
    "\n",
    "a, b = 3, 11\n",
    "for d in range(30):\n",
    "    print(a + d, b + d, lcm(a + d, b + d))"
   ]
  },
  {
   "cell_type": "code",
   "execution_count": 7,
   "metadata": {},
   "outputs": [
    {
     "name": "stdout",
     "output_type": "stream",
     "text": [
      "4 10\n",
      "12 12\n"
     ]
    }
   ],
   "source": [
    "from math import gcd\n",
    "\n",
    "lcm = lambda a, b: a * b // gcd(a, b)\n",
    "\n",
    "a, b = map(int, input().split())\n",
    "\n",
    "if a < b:\n",
    "    a, b = b, a\n",
    "    \n",
    "diff = a - b\n",
    "if diff == 0:\n",
    "    r = 1\n",
    "else:\n",
    "    remained = a % diff\n",
    "    needed = diff - remained\n",
    "    \n",
    "    r = lcm(a + needed, b + needed)\n",
    "    \n",
    "min_r = r\n",
    "for d in range(1, 1000):\n",
    "    min_r = min(min_r, lcm(a + d, b + d))\n",
    "    \n",
    "print(min_r, r)"
   ]
  },
  {
   "cell_type": "code",
   "execution_count": null,
   "metadata": {},
   "outputs": [],
   "source": [
    "from math import gcd\n",
    "\n",
    "lcm = lambda a, b: a * b // gcd(a, b)\n",
    "\n",
    "def get_divisors(num):\n",
    "    divisors = set()\n",
    "    for mod in range(1, int(num ** 0.5) + 1):\n",
    "        if num % mod == 0:\n",
    "            divisors.add(mod)\n",
    "            divisors.add(num // mod)\n",
    "            \n",
    "    return sorted(divisors)\n",
    "\n",
    "inf = float('inf')\n",
    "\n",
    "a, b = map(int, input().split())\n",
    "\n",
    "if a < b:\n",
    "    a, b = b, a\n",
    "diff = a - b\n",
    "\n",
    "if diff == 0:\n",
    "    print(1)\n",
    "else:\n",
    "    min_needed = inf\n",
    "    min_r = inf\n",
    "    for div in get_divisors(diff):\n",
    "        remained = a % div\n",
    "        needed = div - remained\n",
    "        temp_r = lcm(a + needed, b + needed)\n",
    "        \n",
    "        if temp_r < min_r:\n",
    "            min_r = temp_r\n",
    "            min_needed = needed\n",
    "            \n",
    "    print(min_needed)"
   ]
  },
  {
   "cell_type": "markdown",
   "metadata": {},
   "source": [
    "https://www.acmicpc.net/problem/15311 약 팔기"
   ]
  },
  {
   "cell_type": "code",
   "execution_count": null,
   "metadata": {},
   "outputs": [],
   "source": [
    "1 4 3 2\n",
    "\n",
    "1 3 2\n",
    "\n",
    "1 2 2 2 2 2 2 2 2 2 2 2 2 2 2 2 2 2 2 2"
   ]
  },
  {
   "cell_type": "code",
   "execution_count": null,
   "metadata": {},
   "outputs": [],
   "source": [
    "1 1 2 2 3 3 3 3 3 3 3 3 3 3 3\n",
    "\n",
    "1\n",
    "  2\n",
    "      3\n",
    "   2 2\n",
    "1 2 2\n",
    "      3 3\n",
    "  2 2 3\n",
    "1 2 2 3\n",
    "  "
   ]
  },
  {
   "cell_type": "code",
   "execution_count": null,
   "metadata": {},
   "outputs": [],
   "source": [
    "1 1 2 2 3 3 4 4 5 5"
   ]
  },
  {
   "cell_type": "code",
   "execution_count": 16,
   "metadata": {},
   "outputs": [
    {
     "data": {
      "text/plain": [
       "1001000"
      ]
     },
     "execution_count": 16,
     "metadata": {},
     "output_type": "execute_result"
    }
   ],
   "source": [
    "1000 * 1001 // 2 * 2"
   ]
  },
  {
   "cell_type": "code",
   "execution_count": 9,
   "metadata": {},
   "outputs": [
    {
     "data": {
      "text/plain": [
       "12"
      ]
     },
     "execution_count": 9,
     "metadata": {},
     "output_type": "execute_result"
    }
   ],
   "source": [
    "1+1+2+2+3+3"
   ]
  },
  {
   "cell_type": "code",
   "execution_count": 12,
   "metadata": {},
   "outputs": [
    {
     "data": {
      "text/plain": [
       "14"
      ]
     },
     "execution_count": 12,
     "metadata": {},
     "output_type": "execute_result"
    }
   ],
   "source": [
    "3+3+4+4"
   ]
  },
  {
   "cell_type": "code",
   "execution_count": 13,
   "metadata": {},
   "outputs": [
    {
     "data": {
      "text/plain": [
       "13"
      ]
     },
     "execution_count": 13,
     "metadata": {},
     "output_type": "execute_result"
    }
   ],
   "source": [
    "5+4+4"
   ]
  },
  {
   "cell_type": "code",
   "execution_count": 22,
   "metadata": {},
   "outputs": [
    {
     "name": "stdout",
     "output_type": "stream",
     "text": [
      "10\n",
      "6\n",
      "1 1 2 2 3 3\n"
     ]
    }
   ],
   "source": [
    "n = int(input())\n",
    "\n",
    "cur_sum = 0\n",
    "\n",
    "r = []\n",
    "for num in range(1, 1001):\n",
    "    r.append(num)\n",
    "    cur_sum += num\n",
    "    if cur_sum >= n:\n",
    "        break\n",
    "    r.append(num)\n",
    "    cur_sum += num\n",
    "    if cur_sum >= n:\n",
    "        break\n",
    "    \n",
    "print(len(r))\n",
    "print(*r)"
   ]
  },
  {
   "cell_type": "markdown",
   "metadata": {},
   "source": [
    "https://www.acmicpc.net/problem/15311 약 팔기"
   ]
  },
  {
   "cell_type": "code",
   "execution_count": null,
   "metadata": {},
   "outputs": [],
   "source": [
    "print(2000)\n",
    "\n",
    "r = [1] * 1000 + [1001] * 1000\n",
    "\n",
    "print(*r)"
   ]
  },
  {
   "cell_type": "markdown",
   "metadata": {},
   "source": [
    "https://www.acmicpc.net/problem/2505 두 번 뒤집기"
   ]
  },
  {
   "cell_type": "code",
   "execution_count": 38,
   "metadata": {},
   "outputs": [
    {
     "name": "stdout",
     "output_type": "stream",
     "text": [
      "3\n",
      "1 2 3\n",
      "1 1\n",
      "1 1\n"
     ]
    }
   ],
   "source": [
    "n = int(input())\n",
    "li = list(map(int, input().split()))\n",
    "\n",
    "nli = li.copy()\n",
    "r = []\n",
    "for i in range(n):\n",
    "    if nli[i] != i + 1:\n",
    "        if len(r) >= 2:\n",
    "            break\n",
    "        \n",
    "        index = nli.index(i + 1)\n",
    "        r.append([i + 1, index + 1])\n",
    "        \n",
    "        nli[i:index + 1] = nli[i:index + 1][::-1]\n",
    "        \n",
    "if len(r) <= 2 and nli == list(range(1, n + 1)):\n",
    "    while len(r) < 2:\n",
    "        r.append([1, 1])\n",
    "    for v in r:\n",
    "        print(*v)\n",
    "else:\n",
    "    nli = li.copy()\n",
    "    r = []\n",
    "    for i in range(n - 1, -1, -1):\n",
    "        if nli[i] != i + 1:\n",
    "            index = nli.index(i + 1)\n",
    "            r.append([index + 1, i + 1])\n",
    "\n",
    "            nli[index:i + 1] = nli[index:i + 1][::-1]    \n",
    "\n",
    "    while len(r) < 2:\n",
    "        r.append([1, 1])\n",
    "    for v in r:\n",
    "        print(*v)"
   ]
  },
  {
   "cell_type": "markdown",
   "metadata": {},
   "source": [
    "https://www.acmicpc.net/problem/2136 개미"
   ]
  },
  {
   "cell_type": "code",
   "execution_count": null,
   "metadata": {},
   "outputs": [],
   "source": [
    "1 2 3 4 5 6 7 8\n",
    "  r   l   l   r\n",
    "    rl  l\n",
    "  l   rl\n",
    "l   l   r\n"
   ]
  },
  {
   "cell_type": "code",
   "execution_count": null,
   "metadata": {},
   "outputs": [],
   "source": [
    "r l l l r r r r l l l\n",
    "                  r l"
   ]
  },
  {
   "cell_type": "code",
   "execution_count": null,
   "metadata": {},
   "outputs": [],
   "source": [
    " l l l l r      l r r r r r"
   ]
  },
  {
   "cell_type": "markdown",
   "metadata": {},
   "source": [
    "https://www.acmicpc.net/problem/2305 자리 배치"
   ]
  },
  {
   "cell_type": "code",
   "execution_count": 46,
   "metadata": {},
   "outputs": [
    {
     "name": "stdout",
     "output_type": "stream",
     "text": [
      "10\n",
      "5\n",
      "[-1, 1, 2, 3] [[1, 1, 0], [2, 1, -1], [3, 2, -1], [5, 3, -1]]\n",
      "[5, 6, 7, 8, 9] [[1, 1, 0], [2, 1, -1], [3, 2, -1], [5, 3, -1], [8, 5, -1]]\n",
      "[0, -1, 2, 3] [[1, 1, 0], [2, 1, -1], [3, 2, -1], [5, 3, -1]]\n",
      "[5, 6, 7, 8, 9] [[1, 1, 0], [2, 1, -1], [3, 2, -1], [5, 3, -1], [8, 5, -1]]\n",
      "[0, 1, -1, 3] [[1, 1, 0], [2, 1, 1], [4, 2, -1], [6, 4, -1]]\n",
      "[5, 6, 7, 8, 9] [[1, 1, 0], [2, 1, -1], [3, 2, -1], [5, 3, -1], [8, 5, -1]]\n",
      "[0, 1, 2, -1] [[1, 1, 0], [2, 1, 1], [3, 2, 2], [7, 3, -1]]\n",
      "[5, 6, 7, 8, 9] [[1, 1, 0], [2, 1, -1], [3, 2, -1], [5, 3, -1], [8, 5, -1]]\n",
      "[0, 1, 2, 3] [[1, 1, 0], [2, 1, -1], [3, 2, -1], [5, 3, -1]]\n",
      "[5, 6, 7, 8, 9] [[1, 1, 0], [2, 1, -1], [3, 2, -1], [5, 3, -1], [8, 5, -1]]\n",
      "[0, 1, 2, 3] [[1, 1, 0], [2, 1, -1], [3, 2, -1], [5, 3, -1]]\n",
      "[-1, 6, 7, 8, 9] [[1, 1, 0], [2, 1, -1], [3, 2, -1], [5, 3, -1], [8, 5, -1]]\n",
      "[0, 1, 2, 3] [[1, 1, 0], [2, 1, -1], [3, 2, -1], [5, 3, -1]]\n",
      "[5, -1, 7, 8, 9] [[1, 1, 0], [2, 1, -1], [3, 2, -1], [5, 3, -1], [8, 5, -1]]\n",
      "[0, 1, 2, 3] [[1, 1, 0], [2, 1, -1], [3, 2, -1], [5, 3, -1]]\n",
      "[5, 6, -1, 8, 9] [[1, 1, 0], [2, 1, 1], [4, 2, -1], [6, 4, -1], [10, 6, -1]]\n",
      "[0, 1, 2, 3] [[1, 1, 0], [2, 1, -1], [3, 2, -1], [5, 3, -1]]\n",
      "[5, 6, 7, -1, 9] [[1, 1, 0], [2, 1, 1], [3, 2, 2], [7, 3, -1], [10, 7, -1]]\n",
      "[0, 1, 2, 3] [[1, 1, 0], [2, 1, -1], [3, 2, -1], [5, 3, -1]]\n",
      "[5, 6, 7, 8, -1] [[1, 1, 0], [2, 1, 1], [3, 2, 2], [5, 3, 4], [12, 5, -1]]\n",
      "464\n"
     ]
    }
   ],
   "source": [
    "# 틀렸음\n",
    "\n",
    "def get_value(li):\n",
    "    n = len(li)\n",
    "    \n",
    "    if n <= 1:\n",
    "        return 1\n",
    "    \n",
    "    space_i = -1\n",
    "    for i in range(n):\n",
    "        if li[i] == -1:\n",
    "            space_i = i\n",
    "            break\n",
    "            \n",
    "    dp = [[-1] * 3 for _ in range(n)]\n",
    "    dp[0] = [1, 1, 0]\n",
    "    \n",
    "    for i in range(1, n):\n",
    "        if i < space_i:\n",
    "            dp[i][0] = dp[i - 1][0] + dp[i - 1][1]\n",
    "            dp[i][1] = dp[i - 1][0]\n",
    "            dp[i][2] = dp[i - 1][2] + dp[i - 1][1]\n",
    "        else:\n",
    "            dp[i][0] = dp[i - 1][0] + dp[i - 1][1]\n",
    "            dp[i][1] = dp[i - 1][0]\n",
    "        \n",
    "        if i == space_i:\n",
    "            dp[i][0] += dp[i - 1][2]\n",
    "            \n",
    "    print(li, dp)\n",
    "            \n",
    "    return dp[n - 1][0]\n",
    "\n",
    "n = int(input())\n",
    "free = int(input())\n",
    "free -= 1\n",
    "\n",
    "total = 0\n",
    "for to_free in range(n):\n",
    "    li = list(range(n))\n",
    "    \n",
    "    li[to_free] = -1\n",
    "    \n",
    "    a = li[:free]\n",
    "    b = li[free + 1:]\n",
    "    \n",
    "    total += get_value(a) * get_value(b)\n",
    "    \n",
    "print(total)"
   ]
  },
  {
   "cell_type": "code",
   "execution_count": null,
   "metadata": {},
   "outputs": [],
   "source": [
    "123s\n",
    "213s\n",
    "132s\n",
    "12s3\n",
    "21s3\n"
   ]
  },
  {
   "cell_type": "code",
   "execution_count": null,
   "metadata": {},
   "outputs": [],
   "source": [
    "-1, 1, 2, 3\n",
    "\n",
    "s123  1234\n",
    "s213  1324\n",
    "s132  1243\n",
    "1s23  2134\n",
    "12s3  2143\n",
    "123s"
   ]
  },
  {
   "cell_type": "code",
   "execution_count": 35,
   "metadata": {},
   "outputs": [
    {
     "data": {
      "text/plain": [
       "False"
      ]
     },
     "execution_count": 35,
     "metadata": {},
     "output_type": "execute_result"
    }
   ],
   "source": [
    "1 2 3 4 5 6 s\n",
    "\n",
    "  1 2 3 4 5 6\n",
    "\n",
    "2 1 s 3 4 5 6"
   ]
  },
  {
   "cell_type": "code",
   "execution_count": null,
   "metadata": {},
   "outputs": [],
   "source": [
    "1769906896896\n",
    "5497558138880"
   ]
  },
  {
   "cell_type": "code",
   "execution_count": 42,
   "metadata": {},
   "outputs": [
    {
     "data": {
      "text/plain": [
       "(2147483648, 4050512760)"
      ]
     },
     "execution_count": 42,
     "metadata": {},
     "output_type": "execute_result"
    }
   ],
   "source": [
    "2 ** 31, 4050512760"
   ]
  },
  {
   "cell_type": "code",
   "execution_count": 43,
   "metadata": {},
   "outputs": [
    {
     "data": {
      "text/plain": [
       "True"
      ]
     },
     "execution_count": 43,
     "metadata": {},
     "output_type": "execute_result"
    }
   ],
   "source": [
    "2147483648 < 4050512760"
   ]
  },
  {
   "cell_type": "code",
   "execution_count": null,
   "metadata": {},
   "outputs": [],
   "source": [
    "[-1, 1, 2]\n",
    "[0, -1, 2]\n",
    "[0, 1, -1]\n",
    "\n",
    "[] [1, 2]\n",
    "[] [-1, 2]\n",
    "[] [1, -1]\n",
    "\n",
    "[-1, 1, 2]\n",
    "[0, -1, 2]\n",
    "[0, 1, -1]\n",
    "\n",
    "[-1] [2]\n",
    "[0] [2]\n",
    "[0] [-1]"
   ]
  },
  {
   "cell_type": "code",
   "execution_count": null,
   "metadata": {},
   "outputs": [],
   "source": [
    "1 2 3\n",
    "  2 3\n",
    "\n",
    "  2 3\n",
    "  3 2  \n",
    "2 3\n",
    "2   3\n",
    "3 2\n",
    "3   2"
   ]
  },
  {
   "cell_type": "code",
   "execution_count": null,
   "metadata": {},
   "outputs": [],
   "source": [
    "1 2 3\n",
    "1   3\n",
    "\n"
   ]
  },
  {
   "cell_type": "code",
   "execution_count": null,
   "metadata": {},
   "outputs": [],
   "source": [
    "0 1 2 3 4 5 6 7\n",
    "0   2 3 4 5 6 7\n",
    "\n",
    "0 4 2 3   5 6 7\n",
    "fixed  space\n",
    "    \n",
    "       s\n",
    "1 2 3  5\n",
    "1 1 2  3\n",
    "0 1 2 "
   ]
  },
  {
   "cell_type": "code",
   "execution_count": null,
   "metadata": {},
   "outputs": [],
   "source": [
    "0 1 2 s\n",
    "\n",
    "1 2 4 8\n",
    "1 2 4"
   ]
  },
  {
   "cell_type": "code",
   "execution_count": null,
   "metadata": {},
   "outputs": [],
   "source": [
    "s123"
   ]
  },
  {
   "cell_type": "code",
   "execution_count": null,
   "metadata": {},
   "outputs": [],
   "source": [
    "012s\n",
    "102s\n",
    "021s\n",
    "01s2\n",
    "10s2\n",
    "0s12\n",
    "s012"
   ]
  },
  {
   "cell_type": "code",
   "execution_count": null,
   "metadata": {},
   "outputs": [],
   "source": [
    "0 1 2 3 4 5 6 7 8\n",
    "\n",
    "1 2 3 5\n",
    "1 1 2 3"
   ]
  },
  {
   "cell_type": "code",
   "execution_count": 30,
   "metadata": {},
   "outputs": [
    {
     "data": {
      "text/plain": [
       "267914296"
      ]
     },
     "execution_count": 30,
     "metadata": {},
     "output_type": "execute_result"
    }
   ],
   "source": [
    "a, b = 1, 2\n",
    "\n",
    "for _ in range(39):\n",
    "    a, b = b, a + b\n",
    "    \n",
    "b"
   ]
  },
  {
   "cell_type": "code",
   "execution_count": 31,
   "metadata": {},
   "outputs": [
    {
     "data": {
      "text/plain": [
       "2147483648"
      ]
     },
     "execution_count": 31,
     "metadata": {},
     "output_type": "execute_result"
    }
   ],
   "source": [
    "2 ** 31"
   ]
  },
  {
   "cell_type": "markdown",
   "metadata": {},
   "source": [
    "https://www.acmicpc.net/problem/17398 통신망 분할"
   ]
  },
  {
   "cell_type": "code",
   "execution_count": 2,
   "metadata": {},
   "outputs": [
    {
     "name": "stdout",
     "output_type": "stream",
     "text": [
      "4 4 3\n",
      "1 2\n",
      "2 3\n",
      "3 4\n",
      "1 4\n",
      "4\n",
      "2\n",
      "3\n",
      "5\n"
     ]
    }
   ],
   "source": [
    "import sys\n",
    "sys.setrecursionlimit(110000)\n",
    "input = lambda: sys.stdin.readline().rstrip()\n",
    "\n",
    "def find(v):\n",
    "    if v != pa[v]:\n",
    "        pa[v] = find(pa[v])\n",
    "    \n",
    "    return pa[v]\n",
    "\n",
    "def union(a, b):\n",
    "    if cs[a] < cs[b]:\n",
    "        a, b = b, a\n",
    "    pa[b] = a\n",
    "        \n",
    "    cost = cs[a] * cs[b]\n",
    "    cs[a] += cs[b]\n",
    "    \n",
    "    return cost\n",
    "    \n",
    "n, m, q = map(int, input().split())\n",
    "edges = [list(map(int, input().split())) for _ in range(m)]\n",
    "\n",
    "to_dels = [int(input()) - 1 for _ in range(q)]\n",
    "\n",
    "cs = [1] * (n + 1)\n",
    "pa = list(range(n + 1))\n",
    "to_dels_st = set(to_dels)\n",
    "for mi in range(m):\n",
    "    if mi not in to_dels_st:\n",
    "        a, b = edges[mi]\n",
    "        \n",
    "        ra = find(a)\n",
    "        rb = find(b)\n",
    "        if ra != rb:\n",
    "            union(ra, rb)\n",
    "\n",
    "total_cost = 0\n",
    "for qi in range(q - 1, -1, -1):\n",
    "    mi = to_dels[qi]\n",
    "    a, b = edges[mi]\n",
    "    \n",
    "    ra = find(a)\n",
    "    rb = find(b)\n",
    "    if ra != rb:\n",
    "        total_cost += union(ra, rb)\n",
    "        \n",
    "print(total_cost)"
   ]
  },
  {
   "cell_type": "markdown",
   "metadata": {},
   "source": [
    "https://www.acmicpc.net/problem/3117 YouTube"
   ]
  },
  {
   "cell_type": "code",
   "execution_count": 22,
   "metadata": {
    "scrolled": true
   },
   "outputs": [
    {
     "name": "stdout",
     "output_type": "stream",
     "text": [
      "4 5 1\n",
      "1 2 4 3\n",
      "5 5 1 2 3\n",
      "1 2 4 3\n"
     ]
    }
   ],
   "source": [
    "from math import log2\n",
    "\n",
    "int_m1 = lambda x: int(x) - 1\n",
    "\n",
    "n, k, m = map(int, input().split())\n",
    "m -= 1\n",
    "\n",
    "qus = list(map(int_m1, input().split()))\n",
    "li = list(map(int_m1, input().split()))\n",
    "\n",
    "max_tms = int(log2(m + 1))\n",
    "values = [[0] * k for _ in range(max_tms + 1)]\n",
    "values[0] = li\n",
    "\n",
    "for cur_tms in range(1, max_tms + 1):\n",
    "    for i in range(k):\n",
    "        v = values[cur_tms - 1][i]\n",
    "        values[cur_tms][i] = values[cur_tms - 1][v]\n",
    "        \n",
    "result = [0] * n\n",
    "for i in range(n):\n",
    "    cur = qus[i]\n",
    "    \n",
    "    cur_m = m\n",
    "    for cur_tms in range(max_tms, -1, -1):\n",
    "        if cur_m >= 2 ** cur_tms:\n",
    "            cur_m -= 2 ** cur_tms\n",
    "            cur = values[cur_tms][cur]\n",
    "    \n",
    "    result[i] = cur + 1\n",
    "    \n",
    "print(*result)"
   ]
  },
  {
   "cell_type": "markdown",
   "metadata": {},
   "source": [
    "https://www.acmicpc.net/problem/9359 서로소"
   ]
  },
  {
   "cell_type": "code",
   "execution_count": 58,
   "metadata": {},
   "outputs": [
    {
     "name": "stdout",
     "output_type": "stream",
     "text": [
      "2\n",
      "1 10 2\n",
      "Case #1: 5\n",
      "3 15 5\n",
      "Case #2: 10\n"
     ]
    }
   ],
   "source": [
    "from itertools import combinations as comb\n",
    "\n",
    "max_num =  32000\n",
    "ip = [True] * (max_num + 1)\n",
    "ip[0] = ip[1] = False\n",
    "for mod in range(2, int(max_num ** 0.5) + 1):\n",
    "    for v in range(mod * mod, max_num + 1, mod):\n",
    "        ip[v] = False      \n",
    "primes = [i for i, v in enumerate(ip) if v]\n",
    "\n",
    "def mul(case):\n",
    "    cur = case[0]\n",
    "    for i in range(1, len(case)):\n",
    "        cur *= case[i]\n",
    "    return cur\n",
    "\n",
    "def get_v(num):\n",
    "    return total - (b // num - (a - 1) // num)\n",
    "\n",
    "for tm in range(int(input())):\n",
    "    a, b, n = map(int, input().split())\n",
    "\n",
    "    total = b - a + 1\n",
    "    if n == 1:\n",
    "        r = total\n",
    "    else:\n",
    "        factors = set()\n",
    "        num = n\n",
    "        cri = int(n ** 0.5) + 1\n",
    "        for mod in primes:\n",
    "            if mod > cri:\n",
    "                break\n",
    "                \n",
    "            while num % mod == 0:\n",
    "                num //= mod\n",
    "                factors.add(mod)\n",
    "\n",
    "        if num != 1:\n",
    "            factors.add(num)\n",
    "\n",
    "        r = 0\n",
    "        for c in range(1, len(factors) + 1):\n",
    "            temp = 0\n",
    "            for case in comb(factors, c):\n",
    "                temp += get_v(mul(case))\n",
    "\n",
    "            if c % 2 == 1:\n",
    "                r += temp\n",
    "            else:\n",
    "                r -= temp\n",
    "\n",
    "    print(f'Case #{tm + 1}:', r)"
   ]
  },
  {
   "cell_type": "code",
   "execution_count": null,
   "metadata": {},
   "outputs": [],
   "source": [
    "n이 2, 3, 5로 이루어져 있으면\n",
    "\n",
    "2의 서로소 + 3의 서로소 + 5의 서로소 - 2*3의 서로소 - 2*5 ...."
   ]
  },
  {
   "cell_type": "markdown",
   "metadata": {},
   "source": [
    "https://www.acmicpc.net/problem/6988 타일 밟기"
   ]
  },
  {
   "cell_type": "code",
   "execution_count": 65,
   "metadata": {},
   "outputs": [
    {
     "name": "stdout",
     "output_type": "stream",
     "text": [
      "11\n",
      "1 2 6 7 11 12 13 15 17 20 23\n",
      "60\n"
     ]
    }
   ],
   "source": [
    "# 메모리 초과\n",
    "n = int(input())\n",
    "li = list(map(int, input().split()))\n",
    "\n",
    "dp = {}\n",
    "dp[(li[1] - li[0]) * 5000 + 1] = (li[0] + li[1]) * 5000 + 2\n",
    "for i in range(2, n):\n",
    "    for j in range(i - 1, -1, -1):\n",
    "        inc = li[i] - li[j]\n",
    "        if inc <= 0:\n",
    "            continue\n",
    "        \n",
    "        key = inc * 5000 + j\n",
    "        nkey = inc * 5000 + i\n",
    "        \n",
    "        if key in dp:\n",
    "            info = dp[key]\n",
    "            sv, c = info // 5000, info % 5000\n",
    "            del dp[key]\n",
    "        \n",
    "            nc = c + 1\n",
    "            sv += li[i]            \n",
    "            \n",
    "            dp[nkey] = sv * 5000 + nc\n",
    "        else:\n",
    "            dp[nkey] = (li[i] + li[j]) * 5000 + 2\n",
    "        \n",
    "max_sv = 0\n",
    "for info in dp.values():\n",
    "    sv, c = info // 5000, info % 5000\n",
    "    \n",
    "    if c >= 3:\n",
    "        max_sv = max(max_sv, sv)\n",
    "        \n",
    "print(max_sv)"
   ]
  },
  {
   "cell_type": "markdown",
   "metadata": {},
   "source": [
    "https://www.acmicpc.net/problem/4198 열차정렬"
   ]
  },
  {
   "cell_type": "code",
   "execution_count": 79,
   "metadata": {},
   "outputs": [
    {
     "name": "stdout",
     "output_type": "stream",
     "text": [
      "0\n",
      "0\n"
     ]
    }
   ],
   "source": [
    "from bisect import bisect_left\n",
    "import sys\n",
    "input = lambda: sys.stdin.readline().rstrip()\n",
    "\n",
    "n = int(input())\n",
    "li = [int(input()) for _ in range(n)]\n",
    "\n",
    "max_r = 0\n",
    "for i in range(n):\n",
    "    cri = li[i]\n",
    "    \n",
    "    lis_inc = []\n",
    "    lis_dec = []\n",
    "    for j in range(i + 1, n):\n",
    "        if li[j] > cri:\n",
    "            index = bisect_left(lis_inc, li[j])\n",
    "            \n",
    "            if index >= len(lis_inc):\n",
    "                lis_inc.append(li[j])\n",
    "            else:\n",
    "                lis_inc[index] = li[j]\n",
    "        else:\n",
    "            v = -li[j]\n",
    "            \n",
    "            index = bisect_left(lis_dec, v)\n",
    "            \n",
    "            if index >= len(lis_dec):\n",
    "                lis_dec.append(v)\n",
    "            else:\n",
    "                lis_dec[index] = v \n",
    "                \n",
    "    length = len(lis_inc) + len(lis_dec) + 1\n",
    "    max_r = max(max_r, length)\n",
    "    \n",
    "print(max_r)"
   ]
  },
  {
   "cell_type": "markdown",
   "metadata": {},
   "source": [
    "https://www.acmicpc.net/problem/15459 Haybale Feast"
   ]
  },
  {
   "cell_type": "code",
   "execution_count": 85,
   "metadata": {},
   "outputs": [
    {
     "name": "stdout",
     "output_type": "stream",
     "text": [
      "1 4\n",
      "5 123\n",
      "123\n"
     ]
    }
   ],
   "source": [
    "from collections import defaultdict as dd\n",
    "import sys\n",
    "sys.setrecursionlimit(110000)\n",
    "# input = lambda: sys.stdin.readline().rstrip()\n",
    "\n",
    "inf = float('inf')\n",
    "\n",
    "def find(v):\n",
    "    if v != pa[v]:\n",
    "        pa[v] = find(pa[v])\n",
    "    return pa[v]\n",
    "\n",
    "def union(a, b):\n",
    "    if flavors[a] < flavors[b]:\n",
    "        a, b = b, a\n",
    "    \n",
    "    pa[b] = a\n",
    "    flavors[a] += flavors[b]\n",
    "    return flavors[a]\n",
    "\n",
    "n, m = map(int, input().split())\n",
    "li = [list(map(int, input().split())) for _ in range(n)]\n",
    "\n",
    "pa = list(range(n))\n",
    "flavors = [0] * n\n",
    "\n",
    "sps = dd(list)\n",
    "r = inf\n",
    "for i in range(n):\n",
    "    flv, sp = li[i]\n",
    "    \n",
    "    flavors[i] = flv\n",
    "    sps[sp].append(i)\n",
    "    \n",
    "    if flv >= m:\n",
    "        r = min(r, sp)\n",
    "    \n",
    "for cur_sp in sorted(sps.keys()):\n",
    "    flv = 0\n",
    "    for index in sps[cur_sp]:\n",
    "        for nindex in [index - 1, index + 1]:\n",
    "            if nindex >= 0 and nindex < n and li[nindex][1] <= cur_sp:\n",
    "                a = index\n",
    "                b = nindex\n",
    "\n",
    "                ra = find(a)\n",
    "                rb = find(b)\n",
    "\n",
    "                if ra != rb:\n",
    "                    temp_flv = union(ra, rb)\n",
    "                    flv = max(flv, temp_flv)\n",
    "                    \n",
    "    if flv >= m:\n",
    "        r = min(r, cur_sp)\n",
    "        break\n",
    "        \n",
    "print(r)"
   ]
  },
  {
   "cell_type": "markdown",
   "metadata": {},
   "source": [
    "https://www.acmicpc.net/problem/6988 타일 밟기"
   ]
  },
  {
   "cell_type": "code",
   "execution_count": 3,
   "metadata": {},
   "outputs": [
    {
     "name": "stdout",
     "output_type": "stream",
     "text": [
      "11\n",
      "1 2 6 7 11 12 13 15 17 20 23\n",
      "60\n"
     ]
    }
   ],
   "source": [
    "n = int(input())\n",
    "li = list(map(int, input().split()))\n",
    "\n",
    "dp = [{} for _ in range(n)] # dp[n][diff] = 가능한 최댓값\n",
    "r = 0\n",
    "for i in range(1, n):\n",
    "    for j in range(i):\n",
    "        diff = li[i] - li[j]\n",
    "        if diff <= 0 :\n",
    "            continue\n",
    "        \n",
    "        if diff in dp[j]:\n",
    "            temp = dp[j][diff] + li[i]\n",
    "            \n",
    "            if diff in dp[i]:\n",
    "                dp[i][diff] = max(dp[i][diff], temp)\n",
    "            else:\n",
    "                dp[i][diff] = temp\n",
    "            \n",
    "            r = max(r, temp)\n",
    "        else:\n",
    "            dp[i][diff] = li[j] + li[i]\n",
    "            \n",
    "print(r)"
   ]
  },
  {
   "cell_type": "markdown",
   "metadata": {},
   "source": [
    "https://www.acmicpc.net/problem/1898 이전 수열은 어떤 수열일까"
   ]
  },
  {
   "cell_type": "code",
   "execution_count": 30,
   "metadata": {},
   "outputs": [
    {
     "name": "stdout",
     "output_type": "stream",
     "text": [
      "8\n",
      "8\n",
      "5\n",
      "7\n",
      "3\n",
      "6\n",
      "4\n",
      "2\n",
      "1\n",
      "7\n",
      "4\n",
      "8\n",
      "2\n",
      "6\n",
      "5\n",
      "3\n",
      "1\n"
     ]
    }
   ],
   "source": [
    "import sys\n",
    "input = lambda: sys.stdin.readline().rstrip()\n",
    "\n",
    "n = int(input())\n",
    "li = [int(input()) - 1 for _ in range(n)]\n",
    "\n",
    "locs = [-1] * n\n",
    "for i in range(n):\n",
    "    locs[li[i]] = i\n",
    "    \n",
    "is_swapped = [False] * n\n",
    "for i in range(n):\n",
    "    v = li[i]\n",
    "    for cand_v in range(v - 1, v + 2):\n",
    "        if cand_v < 0 or cand_v >= n:\n",
    "            continue\n",
    "        if is_swapped[v] or is_swapped[cand_v]:\n",
    "            continue\n",
    "            \n",
    "        if locs[cand_v] >= i:\n",
    "            li[i], li[locs[cand_v]] = li[locs[cand_v]], li[i]\n",
    "            locs[v], locs[cand_v] = locs[cand_v], locs[v]\n",
    "            is_swapped[v] = is_swapped[cand_v] = True\n",
    "            break\n",
    "            \n",
    "for v in li:\n",
    "    print(v + 1)"
   ]
  },
  {
   "cell_type": "markdown",
   "metadata": {},
   "source": [
    "https://www.acmicpc.net/problem/25759 들판 건너가기"
   ]
  },
  {
   "cell_type": "code",
   "execution_count": 45,
   "metadata": {},
   "outputs": [
    {
     "name": "stdout",
     "output_type": "stream",
     "text": [
      "3\n",
      "1 2 3\n",
      "4\n"
     ]
    }
   ],
   "source": [
    "n = int(input())\n",
    "li = list(map(int, input().split()))\n",
    "\n",
    "dp = [-1] * 101\n",
    "\n",
    "for i in range(n):\n",
    "    max_temp = 0\n",
    "    for dp_i in range(1, 101):\n",
    "        if dp[dp_i] != -1:\n",
    "            max_temp = max(max_temp, dp[dp_i] + (li[i] - dp_i) ** 2)\n",
    "    dp[li[i]] = max_temp\n",
    "    \n",
    "r = max(dp)\n",
    "\n",
    "print(r)"
   ]
  },
  {
   "cell_type": "markdown",
   "metadata": {},
   "source": [
    "https://www.acmicpc.net/problem/2672 여러 직사각형의 전체 면적 구하기"
   ]
  },
  {
   "cell_type": "code",
   "execution_count": 54,
   "metadata": {},
   "outputs": [
    {
     "name": "stdout",
     "output_type": "stream",
     "text": [
      "3\n",
      "1.0 3.0 1.0 3.0\n",
      "1.0 3.0 1.0 3.0\n",
      "1.0 3.0 1.0 3.0\n",
      "3\n"
     ]
    }
   ],
   "source": [
    "def to_int(s):\n",
    "    if '.' in s:\n",
    "        num = s[:-2] + s[-1]\n",
    "    else:\n",
    "        num = s + '0'\n",
    "        \n",
    "    return int(num)\n",
    "    \n",
    "n = int(input())\n",
    "li = [list(map(to_int, input().split())) for _ in range(n)]\n",
    "\n",
    "max_x = -1   \n",
    "for i in range(n):\n",
    "    li[i] = [li[i][0], li[i][0] + li[i][2] - 1, li[i][1], li[i][1] + li[i][3] - 1]\n",
    "    max_x = max(max_x, li[i][1])\n",
    "    \n",
    "total = 0\n",
    "for cur_x in range(1, max_x + 1):\n",
    "    ys = []\n",
    "    for i in range(n):\n",
    "        if li[i][0] <= cur_x <= li[i][1]:\n",
    "            ys.append([li[i][2], li[i][3]])\n",
    "    \n",
    "    ys.sort()\n",
    "    stack = []\n",
    "    for sy, ey in ys:\n",
    "        if stack and sy <= stack[-1][1]:\n",
    "            ney = max(ey, stack[-1][1])\n",
    "            stack[-1][1] = ney\n",
    "        else:\n",
    "            stack.append([sy, ey])\n",
    "            \n",
    "    for sy, ey in stack:\n",
    "        total += ey - sy + 1\n",
    "        \n",
    "if total % 100 == 0:\n",
    "    print(total // 100)\n",
    "else:\n",
    "    left = total // 100\n",
    "    right = total % 100\n",
    "\n",
    "    right = str(right).rjust(2, '0')\n",
    "    \n",
    "    r = f'{left}.{right}'\n",
    "    \n",
    "    print(r)"
   ]
  },
  {
   "cell_type": "code",
   "execution_count": 105,
   "metadata": {},
   "outputs": [
    {
     "name": "stdout",
     "output_type": "stream",
     "text": [
      "4\n",
      "3\n",
      "8\n"
     ]
    }
   ],
   "source": [
    "n = int(input())\n",
    "k = int(int(input()))\n",
    "k -= 1\n",
    "\n",
    "dp_full = [0] * (n + 1)\n",
    "dp_full[0] = dp_full[1] = 1\n",
    "\n",
    "dp_s = [[0] * n for _ in range(n + 1)]\n",
    "dp_s[1][0] = 1\n",
    "\n",
    "dp_full_temp = [[0] * 2 for _ in range(n + 1)]\n",
    "dp_full_temp[1] = [1, 1]\n",
    "for i in range(2, n + 1):\n",
    "    dp_full_temp[i][0] = sum(dp_full_temp[i - 1])\n",
    "    dp_full_temp[i][1] = dp_full_temp[i - 1][0]\n",
    "    \n",
    "    dp_full[i] = dp_full_temp[i][0]\n",
    "    \n",
    "for cur_n in range(2, n + 1):\n",
    "    for j in range(cur_n):\n",
    "        left_c = j\n",
    "        right_c = cur_n - j - 1\n",
    "        \n",
    "        temp = 0\n",
    "        for i in range(left_c + 1):\n",
    "            temp += dp_full[i] * dp_full[right_c]\n",
    "            \n",
    "        for i in range(right_c):\n",
    "            temp += dp_full[i] * dp_full[left_c]\n",
    "            \n",
    "        dp_s[cur_n][j] = temp\n",
    "        \n",
    "total = 0\n",
    "\n",
    "left_c = k\n",
    "right_c = n - k - 1\n",
    "\n",
    "total += dp_full[left_c] * dp_full[right_c]\n",
    "for i in range(k):\n",
    "    total += dp_s[left_c][i] * dp_full[right_c]\n",
    "    \n",
    "for i in range(k + 1, n):\n",
    "    total += dp_full[left_c] * dp_s[right_c][i - (k + 1)]\n",
    "    \n",
    "print(total)"
   ]
  },
  {
   "cell_type": "code",
   "execution_count": 103,
   "metadata": {},
   "outputs": [
    {
     "data": {
      "text/plain": [
       "8"
      ]
     },
     "execution_count": 103,
     "metadata": {},
     "output_type": "execute_result"
    }
   ],
   "source": [
    "total"
   ]
  },
  {
   "cell_type": "code",
   "execution_count": null,
   "metadata": {},
   "outputs": [],
   "source": [
    "s 1\n",
    "\n",
    "s 1\n",
    "1 s\n",
    "\n",
    "1 2 3 4 6 7 8 s dp_full[4] dp_full[0]\n",
    "1 2 3 4 6 7 s 8 dp_full[4] dp_full[1]\n",
    "1 2 3 4 6 s 7 8 dp_full[4] dp_full[2]\n",
    "\n",
    "1 2 3 4 s 6 7 8  dp_full[4] dp_full[3]\n",
    "\n",
    "1 2 3 s 4 6 7 8  dp_full[3] dp_full[3]\n",
    "1 2 s 3 4 6 7 8  dp_full[2] dp_full[3]\n",
    "1 s 2 3 4 6 7 8  dp_full[1] dp_full[3]\n",
    "s 1 2 3 4 6 7 8  dp_full[0] dp_full[3]"
   ]
  },
  {
   "cell_type": "code",
   "execution_count": 99,
   "metadata": {},
   "outputs": [
    {
     "data": {
      "text/plain": [
       "6"
      ]
     },
     "execution_count": 99,
     "metadata": {},
     "output_type": "execute_result"
    }
   ],
   "source": [
    "1 s 3\n",
    "\n",
    "\n",
    "1 2 s\n",
    "1 s 2\n",
    "2 1 s\n",
    "s 1 2"
   ]
  },
  {
   "cell_type": "code",
   "execution_count": null,
   "metadata": {},
   "outputs": [],
   "source": [
    "0 1    f    3\n",
    "\n",
    "s 1    x    3\n",
    "0 s    x    3\n",
    "0 1         3\n",
    "0 1    x    "
   ]
  },
  {
   "cell_type": "code",
   "execution_count": null,
   "metadata": {},
   "outputs": [],
   "source": [
    "0 1 2 3   f   5 6 7\n",
    "0 1 s 3   f   5 6 7\n",
    "\n",
    "0 1 2 3 4 5      s    7 8\n",
    "\n",
    "0 1 2 3 4 s 5        7 8\n",
    "\n",
    "0 1 2 3 s 4 5"
   ]
  },
  {
   "cell_type": "markdown",
   "metadata": {},
   "source": [
    "https://www.acmicpc.net/problem/2040 수 게임"
   ]
  },
  {
   "cell_type": "code",
   "execution_count": null,
   "metadata": {},
   "outputs": [],
   "source": [
    "1 100 1 100 1 100\n",
    "100 1 100 1 100 1\n",
    "\n",
    "8 7 6 5 4 3 2 1"
   ]
  },
  {
   "cell_type": "code",
   "execution_count": null,
   "metadata": {},
   "outputs": [],
   "source": [
    "101 1 100"
   ]
  },
  {
   "cell_type": "code",
   "execution_count": null,
   "metadata": {},
   "outputs": [],
   "source": [
    "10 7 2 4 2\n",
    "\n"
   ]
  },
  {
   "cell_type": "code",
   "execution_count": null,
   "metadata": {},
   "outputs": [],
   "source": [
    "10\n",
    "\n",
    "A"
   ]
  },
  {
   "cell_type": "code",
   "execution_count": null,
   "metadata": {},
   "outputs": [],
   "source": [
    "10     4         1\n",
    "10m  10o 4m    "
   ]
  },
  {
   "cell_type": "code",
   "execution_count": 117,
   "metadata": {},
   "outputs": [
    {
     "name": "stdout",
     "output_type": "stream",
     "text": [
      "5\n",
      "10 7 2 4 2\n",
      "A\n",
      "-5 1 1 1 3\n",
      "B\n",
      "1 1 1 1 0\n",
      "D\n"
     ]
    }
   ],
   "source": [
    "inf = float('inf')\n",
    "\n",
    "n = int(input())\n",
    "for _ in range(3):\n",
    "    li = list(map(int, input().split()))\n",
    "\n",
    "    dp = [0] * n\n",
    "    dp[0] = li[0]\n",
    "\n",
    "    for i in range(1, n):\n",
    "        cur = 0\n",
    "        min_p = inf\n",
    "        for j in range(i, -1, -1):\n",
    "            cur += li[j]\n",
    "\n",
    "            if j - 1 >= 0:\n",
    "                more = cur - dp[j - 1]\n",
    "            else:\n",
    "                more = cur\n",
    "\n",
    "            min_p = min(min_p, more)\n",
    "\n",
    "        dp[i] = min_p\n",
    "\n",
    "    r = ''\n",
    "    if dp[n - 1] > 0:\n",
    "        r = 'B'\n",
    "    elif dp[n - 1] < 0:\n",
    "        r = 'A'\n",
    "    else:\n",
    "        r = 'D'\n",
    "\n",
    "    print(r)"
   ]
  }
 ],
 "metadata": {
  "kernelspec": {
   "display_name": "Python 3",
   "language": "python",
   "name": "python3"
  },
  "language_info": {
   "codemirror_mode": {
    "name": "ipython",
    "version": 3
   },
   "file_extension": ".py",
   "mimetype": "text/x-python",
   "name": "python",
   "nbconvert_exporter": "python",
   "pygments_lexer": "ipython3",
   "version": "3.8.3"
  }
 },
 "nbformat": 4,
 "nbformat_minor": 4
}
