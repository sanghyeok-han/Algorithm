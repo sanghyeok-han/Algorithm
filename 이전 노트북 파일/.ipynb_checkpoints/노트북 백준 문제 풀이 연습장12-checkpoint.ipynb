{
 "cells": [
  {
   "cell_type": "markdown",
   "metadata": {},
   "source": [
    "https://www.acmicpc.net/problem/5463 건포도"
   ]
  },
  {
   "cell_type": "code",
   "execution_count": 27,
   "metadata": {},
   "outputs": [
    {
     "name": "stdout",
     "output_type": "stream",
     "text": [
      "1 1\n",
      "3\n",
      "0\n"
     ]
    }
   ],
   "source": [
    "inf = float('inf')\n",
    "\n",
    "def get_cumul(x1, y1, x2, y2):\n",
    "    temp = cumuls[x2 + 1][y2 + 1]\n",
    "    temp -= cumuls[x1][y2 + 1]\n",
    "    temp -= cumuls[x2 + 1][y1]\n",
    "    temp += cumuls[x1][y1]\n",
    "    \n",
    "    return temp\n",
    "\n",
    "n, m = map(int, input().split())\n",
    "li = [list(map(int, input().split())) for _ in range(n)]\n",
    "\n",
    "cumuls = [[0] * (m + 1) for _ in range(n + 1)]\n",
    "\n",
    "for i in range(n):\n",
    "    cumul = 0\n",
    "    for j in range(m):\n",
    "        cumul += li[i][j]\n",
    "        cumuls[i + 1][j + 1] = cumul + cumuls[i][j + 1]\n",
    "        \n",
    "dp = [[[[inf] * m for _ in range(n)] for _ in range(m)] for _ in range(n)] # dp[x1][y1][x2][y2]\n",
    "for i in range(n):\n",
    "    for j in range(m):\n",
    "        dp[i][j][i][j] = 0\n",
    "\n",
    "for x_len in range(1, n + 1):\n",
    "    for y_len in range(1, m + 1):\n",
    "        if x_len == 1 and y_len == 1:\n",
    "            continue\n",
    "        for x1 in range(0, n - x_len + 1):\n",
    "            x2 = x1 + x_len - 1\n",
    "            for y1 in range(0, m - y_len + 1):\n",
    "                y2 = y1 + y_len - 1\n",
    "                \n",
    "                t1 = get_cumul(x1, y1, x2, y2)\n",
    "                \n",
    "                t2 = inf\n",
    "                if x_len >= 2:\n",
    "                    for upper_end in range(x1, x2):\n",
    "                        temp = dp[x1][y1][upper_end][y2] + dp[upper_end + 1][y1][x2][y2]\n",
    "                        t2 = min(t2, temp)\n",
    "                if y_len >= 2:\n",
    "                    for left_end in range(y1, y2):\n",
    "                        temp = dp[x1][y1][x2][left_end] + dp[x1][left_end + 1][x2][y2]\n",
    "                        t2 = min(t2, temp)\n",
    "                        \n",
    "                dp[x1][y1][x2][y2] = t1 + t2\n",
    "                \n",
    "r = dp[0][0][n - 1][m - 1]\n",
    "\n",
    "print(r)"
   ]
  },
  {
   "cell_type": "markdown",
   "metadata": {},
   "source": [
    "https://www.acmicpc.net/problem/20181 꿈틀꿈틀 호석 애벌레 - 효율성"
   ]
  },
  {
   "cell_type": "code",
   "execution_count": 34,
   "metadata": {},
   "outputs": [
    {
     "name": "stdout",
     "output_type": "stream",
     "text": [
      "9 6\n",
      "1 5 4 4 2 3 10 3 5\n",
      "14\n"
     ]
    }
   ],
   "source": [
    "n, k = map(int, input().split())\n",
    "li = list(map(int, input().split()))\n",
    "\n",
    "sli = [0] * (n + 1)\n",
    "cumul = 0\n",
    "for i in range(n):\n",
    "    cumul += li[i]\n",
    "    sli[i + 1] = cumul\n",
    "\n",
    "eat_to = [-1] * n\n",
    "end = 0\n",
    "cur = li[0]\n",
    "for start in range(n):\n",
    "    if start >= 1:\n",
    "        cur -= li[start - 1]\n",
    "        \n",
    "    while end < n - 1 and cur < k:\n",
    "        cur += li[end + 1]\n",
    "        end += 1\n",
    "        \n",
    "    if cur < k:\n",
    "        eat_to[start] = -1\n",
    "    else:\n",
    "        eat_to[start] = end\n",
    "        \n",
    "dp = [0] * n\n",
    "max_dp = [0] * (n + 1)\n",
    "cumul = 0\n",
    "for i in range(n - 1, -1, -1):\n",
    "    if eat_to[i] == -1:\n",
    "        continue\n",
    "        \n",
    "    dp[i] = max_dp[eat_to[i] + 1] + sli[eat_to[i] + 1] - sli[i] - k\n",
    "    max_dp[i] = max(max_dp[i + 1], dp[i])\n",
    "        \n",
    "print(max_dp[0])"
   ]
  },
  {
   "cell_type": "markdown",
   "metadata": {},
   "source": [
    "https://www.acmicpc.net/problem/15560 구간 합 최대? 1"
   ]
  },
  {
   "cell_type": "code",
   "execution_count": 38,
   "metadata": {},
   "outputs": [
    {
     "data": {
      "text/plain": [
       "250000000"
      ]
     },
     "execution_count": 38,
     "metadata": {},
     "output_type": "execute_result"
    }
   ],
   "source": [
    "       1 1 1 1 1\n",
    "0 1 5"
   ]
  },
  {
   "cell_type": "code",
   "execution_count": null,
   "metadata": {},
   "outputs": [],
   "source": [
    "4개 1 4개\n",
    "\n",
    "5 * 5"
   ]
  },
  {
   "cell_type": "code",
   "execution_count": 40,
   "metadata": {},
   "outputs": [
    {
     "data": {
      "text/plain": [
       "1000000"
      ]
     },
     "execution_count": 40,
     "metadata": {},
     "output_type": "execute_result"
    }
   ],
   "source": [
    "구간 max 구하는데 O(n), 바꾸는 과정에서 O(1)\n",
    "\n",
    "구간 max 구하는데 O(1), 바꾸는 과정에서 O(n)\n",
    "\n",
    "구간 max 구하는데 O(n), 바꾸는 과정에서 O(n)\n",
    "\n"
   ]
  },
  {
   "cell_type": "code",
   "execution_count": null,
   "metadata": {},
   "outputs": [],
   "source": [
    "max(U * (ki + k(i + 1)))"
   ]
  },
  {
   "cell_type": "code",
   "execution_count": 45,
   "metadata": {},
   "outputs": [
    {
     "name": "stdout",
     "output_type": "stream",
     "text": [
      "5 3 2 4\n",
      "1 1 1 1 1\n",
      "0 1 5\n",
      "26\n",
      "1 3 -2\n",
      "0 1 5\n",
      "20\n"
     ]
    }
   ],
   "source": [
    "import sys\n",
    "input = lambda: sys.stdin.readline().rstrip()\n",
    "\n",
    "n, q, u, v = map(int, input().split())\n",
    "li = list(map(int, input().split()))\n",
    "\n",
    "nli = [u * vv + v for vv in li]\n",
    "\n",
    "for _ in range(q):\n",
    "    c, a, b = map(int, input().split())\n",
    "\n",
    "    if c == 0:\n",
    "        a -= 1\n",
    "        b -= 1\n",
    "        \n",
    "        start = a\n",
    "        end = a\n",
    "        max_temp = nli[start]\n",
    "        cur = nli[start]\n",
    "        while True:\n",
    "            max_temp = max(max_temp, cur)\n",
    "            \n",
    "            if cur < 0:\n",
    "                start = end + 1\n",
    "                end = start\n",
    "                if end > b:\n",
    "                    break\n",
    "                cur = nli[start]\n",
    "            else:\n",
    "                end += 1\n",
    "                if end > b:\n",
    "                    break\n",
    "                cur += nli[end]\n",
    "        r = max_temp - v\n",
    "        \n",
    "        print(r)\n",
    "    else:\n",
    "        a -= 1\n",
    "        nli[a] = u * b + v"
   ]
  },
  {
   "cell_type": "markdown",
   "metadata": {},
   "source": [
    "https://www.acmicpc.net/problem/11333 4×n 타일링"
   ]
  },
  {
   "cell_type": "code",
   "execution_count": 46,
   "metadata": {},
   "outputs": [
    {
     "data": {
      "text/plain": [
       "3333"
      ]
     },
     "execution_count": 46,
     "metadata": {},
     "output_type": "execute_result"
    }
   ],
   "source": [
    "10000 // 3"
   ]
  },
  {
   "cell_type": "code",
   "execution_count": 58,
   "metadata": {},
   "outputs": [
    {
     "name": "stdout",
     "output_type": "stream",
     "text": [
      "3333\n",
      "524313417\n"
     ]
    }
   ],
   "source": [
    "import sys\n",
    "input = lambda: sys.stdin.readline().rstrip()\n",
    "\n",
    "mod = 1000000007\n",
    "\n",
    "dp_t = [0] * 3334\n",
    "dp_t[0] = 1\n",
    "dp_t[1] = 3\n",
    "\n",
    "dp_c = [0] * 3334\n",
    "dp_c[1] = 3\n",
    "for i in range(2, 3334):\n",
    "    dp_c[i] = i * 2\n",
    "\n",
    "for i in range(2, 3334):\n",
    "    temp = 0\n",
    "    for con in range(i, 0, -1):\n",
    "        tot = i - con\n",
    "        temp += dp_c[con] * dp_t[tot]\n",
    "        temp %= mod\n",
    "    dp_t[i] = temp\n",
    "\n",
    "for _ in range(int(input())):\n",
    "    n = int(input())\n",
    "    if n % 3 != 0:\n",
    "        print(0)\n",
    "    else:\n",
    "        n //= 3\n",
    "\n",
    "        r = dp_t[n]\n",
    "        print(r)"
   ]
  },
  {
   "cell_type": "code",
   "execution_count": 53,
   "metadata": {},
   "outputs": [
    {
     "data": {
      "text/plain": [
       "[3, 0, 4, 6, 8]"
      ]
     },
     "execution_count": 53,
     "metadata": {},
     "output_type": "execute_result"
    }
   ],
   "source": [
    "dp_c"
   ]
  },
  {
   "cell_type": "code",
   "execution_count": 52,
   "metadata": {},
   "outputs": [
    {
     "data": {
      "text/plain": [
       "[1, 3, 4, 18, 42]"
      ]
     },
     "execution_count": 52,
     "metadata": {},
     "output_type": "execute_result"
    }
   ],
   "source": [
    "dp_t"
   ]
  },
  {
   "cell_type": "code",
   "execution_count": null,
   "metadata": {},
   "outputs": [],
   "source": [
    "세로선을 긋는다면 해당 y에 가로선은 위쪽이나 아래쪽 중 한b 곳에만 그을 수 있음"
   ]
  },
  {
   "cell_type": "code",
   "execution_count": 25,
   "metadata": {},
   "outputs": [
    {
     "data": {
      "text/plain": [
       "[[1, 2, 3, 4],\n",
       " [1, 2, 4, 3],\n",
       " [1, 3, 2, 4],\n",
       " [1, 3, 4, 2],\n",
       " [1, 4, 2, 3],\n",
       " [1, 4, 3, 2],\n",
       " [2, 1, 3, 4],\n",
       " [2, 1, 4, 3],\n",
       " [2, 3, 1, 4],\n",
       " [2, 3, 4, 1],\n",
       " [2, 4, 1, 3],\n",
       " [2, 4, 3, 1],\n",
       " [3, 1, 2, 4],\n",
       " [3, 1, 4, 2],\n",
       " [3, 2, 1, 4],\n",
       " [3, 2, 4, 1],\n",
       " [3, 4, 1, 2],\n",
       " [3, 4, 2, 1],\n",
       " [4, 1, 2, 3],\n",
       " [4, 1, 3, 2],\n",
       " [4, 2, 1, 3],\n",
       " [4, 2, 3, 1],\n",
       " [4, 3, 1, 2],\n",
       " [4, 3, 2, 1]]"
      ]
     },
     "execution_count": 25,
     "metadata": {},
     "output_type": "execute_result"
    }
   ],
   "source": [
    "def perm(li):\n",
    "    global result\n",
    "    \n",
    "    if len(li) == n:\n",
    "        result.append(li.copy())\n",
    "    else: \n",
    "        for i in range(n):\n",
    "            \n",
    "\n",
    "        \n",
    "        \n",
    "        \n",
    "\n",
    "n = 4\n",
    "st = {1, 2, 3, 4}\n",
    "\n",
    "result = []\n",
    "perm([], st)\n",
    "result"
   ]
  },
  {
   "cell_type": "markdown",
   "metadata": {},
   "source": [
    "https://www.acmicpc.net/problem/2765 자전거 속도"
   ]
  },
  {
   "cell_type": "code",
   "execution_count": null,
   "metadata": {},
   "outputs": [],
   "source": [
    "import sys\n",
    "# input = lambda: sys.stdin.readline().rstrip()\n",
    "\n",
    "pi = 3.1415927\n",
    "\n",
    "tn = 0\n",
    "while True:\n",
    "    d, rot_c, tm = input().split()\n",
    "    rot_c = int(rot_c)\n",
    "    if rot_c == 0:\n",
    "        break\n",
    "    \n",
    "    d = float(d) / 12 / 5280\n",
    "    tm = float(tm)\n",
    "\n",
    "    r1 = d * rot_c * pi\n",
    "    r2 = r1 / (tm / 3600)\n",
    "\n",
    "    r1 = '{:.2f}'.format(r1)\n",
    "    r2 = '{:.2f}'.format(r2)\n",
    "\n",
    "    print(f'Trip #{tn + 1}: {r1} {r2}')\n",
    "    tn += 1"
   ]
  },
  {
   "cell_type": "markdown",
   "metadata": {},
   "source": [
    "https://www.acmicpc.net/problem/14582 오늘도 졌다"
   ]
  },
  {
   "cell_type": "code",
   "execution_count": 60,
   "metadata": {},
   "outputs": [
    {
     "name": "stdout",
     "output_type": "stream",
     "text": [
      "0 0 0 0 0 0 0 1 0\n",
      "1 0 0 0 0 0 0 4 0\n",
      "No\n"
     ]
    }
   ],
   "source": [
    "a = list(map(int, input().split()))\n",
    "b = list(map(int, input().split()))\n",
    "\n",
    "cumul_a = 0\n",
    "cumul_b = 0\n",
    "ip = False\n",
    "for i in range(9):\n",
    "    cumul_a += a[i]\n",
    "\n",
    "    if cumul_a > cumul_b:\n",
    "        ip = True\n",
    "        break\n",
    "    \n",
    "    cumul_b += b[i]\n",
    "    \n",
    "    if cumul_a > cumul_b:\n",
    "        ip = True\n",
    "        break\n",
    "        \n",
    "if ip:\n",
    "    print('Yes')\n",
    "else:\n",
    "    print('No')"
   ]
  },
  {
   "cell_type": "markdown",
   "metadata": {},
   "source": [
    "https://www.acmicpc.net/problem/11536 줄 세우기"
   ]
  },
  {
   "cell_type": "code",
   "execution_count": 61,
   "metadata": {},
   "outputs": [
    {
     "name": "stdout",
     "output_type": "stream",
     "text": [
      "5\n",
      "joe\n",
      "bob\n",
      "andy\n",
      "al\n",
      "adam\n",
      "DECREASING\n"
     ]
    }
   ],
   "source": [
    "n = int(input())\n",
    "li = [input() for _ in range(n)]\n",
    "\n",
    "if li == sorted(li):\n",
    "    print('INCREASING')\n",
    "elif li == sorted(li, reverse=True):\n",
    "    print('DECREASING')\n",
    "else:\n",
    "    print('NEITHER')"
   ]
  },
  {
   "cell_type": "markdown",
   "metadata": {},
   "source": [
    "https://www.acmicpc.net/problem/15739 매직스퀘어"
   ]
  },
  {
   "cell_type": "code",
   "execution_count": 63,
   "metadata": {},
   "outputs": [
    {
     "name": "stdout",
     "output_type": "stream",
     "text": [
      "3\n",
      "2 7 7\n",
      "9 5 1\n",
      "4 3 8\n",
      "FAlSE\n"
     ]
    }
   ],
   "source": [
    "n = int(input())\n",
    "li = [list(map(int, input().split())) for _ in range(n)]\n",
    "\n",
    "ip = True\n",
    "\n",
    "st = set()\n",
    "for v in li:\n",
    "    st |= set(v)\n",
    "    \n",
    "if len(st) < n * n:\n",
    "    ip = False\n",
    "    \n",
    "if ip:\n",
    "    cri = sum(li[0])\n",
    "    \n",
    "    for i in range(n):\n",
    "        if sum(li[i]) != cri:\n",
    "            ip = False\n",
    "            break\n",
    "            \n",
    "    for j in range(n):\n",
    "        temp = 0\n",
    "        for i in range(n):\n",
    "            temp += li[i][j]\n",
    "            \n",
    "        if temp != cri:\n",
    "            ip = False\n",
    "            break\n",
    "            \n",
    "    temp = 0\n",
    "    for i in range(n):\n",
    "        temp += li[i][i]\n",
    "        \n",
    "    if temp != cri:\n",
    "        ip = False\n",
    "        \n",
    "    temp = 0\n",
    "    for i in range(n):\n",
    "        temp += li[i][n - 1 - i]\n",
    "        \n",
    "    if temp != cri:\n",
    "        ip = False\n",
    "    \n",
    "if ip:\n",
    "    print('TRUE')\n",
    "else:\n",
    "    print('FALSE')"
   ]
  },
  {
   "cell_type": "code",
   "execution_count": 66,
   "metadata": {},
   "outputs": [
    {
     "name": "stdout",
     "output_type": "stream",
     "text": [
      "afaa\n",
      "0\n"
     ]
    }
   ],
   "source": [
    "s = input()\n",
    "n = len(s)\n",
    "\n",
    "ip = True\n",
    "for i in range(n // 2):\n",
    "    if s[i] != s[n - 1 - i]:\n",
    "        ip = False\n",
    "        break\n",
    "        \n",
    "if ip:\n",
    "    print(1)\n",
    "else:\n",
    "    print(0)"
   ]
  },
  {
   "cell_type": "markdown",
   "metadata": {},
   "source": [
    "https://www.acmicpc.net/problem/9626 크로스워드 퍼즐"
   ]
  },
  {
   "cell_type": "code",
   "execution_count": 79,
   "metadata": {},
   "outputs": [
    {
     "name": "stdout",
     "output_type": "stream",
     "text": [
      "2 4\n",
      "1 0 3 1\n",
      "rima\n",
      "mama\n",
      "#.#.#.#\n",
      "rima.##\n",
      "mama#.#\n",
      ".#.#.##\n"
     ]
    }
   ],
   "source": [
    "n, m = map(int, input().split())\n",
    "u, l, r, d = map(int, input().split())\n",
    "\n",
    "li = [input() for _ in range(n)]\n",
    "\n",
    "col_len = l + m + r\n",
    "row_len = u + n + d\n",
    "\n",
    "base1 = ['#', '.']\n",
    "base_row1 = base1 * (col_len // 2)\n",
    "if col_len % 2:\n",
    "    base_row1.append('#')\n",
    "\n",
    "base2 = ['.', '#']\n",
    "base_row2 = base2 * (col_len // 2)\n",
    "if col_len % 2:\n",
    "    base_row2.append('.')\n",
    "    \n",
    "result = []\n",
    "for i in range(row_len):\n",
    "    if i % 2 == 0:\n",
    "        result.append(base_row1.copy())\n",
    "    else:\n",
    "        result.append(base_row2.copy())\n",
    "        \n",
    "si = u\n",
    "sj = l\n",
    "\n",
    "cur_x = 0\n",
    "for i in range(si, si + n):\n",
    "    cur_y = 0\n",
    "    for j in range(sj, sj + m):\n",
    "        result[i][j] = li[cur_x][cur_y]\n",
    "        cur_y += 1\n",
    "    cur_x += 1\n",
    "    \n",
    "for v in result:\n",
    "    print(''.join(v))"
   ]
  },
  {
   "cell_type": "markdown",
   "metadata": {},
   "source": [
    "https://www.acmicpc.net/problem/11008 복붙의 달인"
   ]
  },
  {
   "cell_type": "code",
   "execution_count": 86,
   "metadata": {},
   "outputs": [
    {
     "name": "stdout",
     "output_type": "stream",
     "text": [
      "asakusa sa\n",
      "5\n"
     ]
    }
   ],
   "source": [
    "import sys\n",
    "input = lambda: sys.stdin.readline().rstrip()\n",
    "\n",
    "for _ in range(int(input())):\n",
    "    s, p = input().split()\n",
    "\n",
    "    s_len = len(s)\n",
    "    p_len = len(p)\n",
    "\n",
    "    total = 0\n",
    "    i = 0\n",
    "    while i < s_len:\n",
    "        if s[i:i + p_len] == p:\n",
    "            total += 1\n",
    "            i += p_len\n",
    "        else:\n",
    "            total += 1\n",
    "            i += 1\n",
    "\n",
    "    print(total)"
   ]
  },
  {
   "cell_type": "markdown",
   "metadata": {},
   "source": [
    "https://www.acmicpc.net/problem/21739 펭귄 네비게이터"
   ]
  },
  {
   "cell_type": "code",
   "execution_count": 93,
   "metadata": {},
   "outputs": [
    {
     "name": "stdout",
     "output_type": "stream",
     "text": [
      "10\n",
      "1524\n"
     ]
    }
   ],
   "source": [
    "mod = int(1e9) + 7\n",
    "\n",
    "n = int(input())\n",
    "\n",
    "dp = [0] * (n + 1)\n",
    "dp[1] = 1\n",
    "dp[2] = 2\n",
    "for i in range(3, n + 1):\n",
    "    dp[i] = dp[i - 1] * 2 + i\n",
    "    dp[i] %= mod\n",
    "    \n",
    "print(dp[n])"
   ]
  },
  {
   "cell_type": "code",
   "execution_count": 94,
   "metadata": {},
   "outputs": [
    {
     "data": {
      "text/plain": [
       "[0, 1, 2, 7, 18, 41, 88, 183, 374, 757]"
      ]
     },
     "execution_count": 94,
     "metadata": {},
     "output_type": "execute_result"
    }
   ],
   "source": [
    "1 2 5"
   ]
  },
  {
   "cell_type": "code",
   "execution_count": null,
   "metadata": {},
   "outputs": [],
   "source": [
    "1 2\n",
    "3 4\n",
    "\n",
    "1 3\n",
    "2 4"
   ]
  },
  {
   "cell_type": "code",
   "execution_count": 92,
   "metadata": {},
   "outputs": [
    {
     "data": {
      "text/plain": [
       "[0, 1, 4, 11, 26, 57, 120, 247, 502, 1013]"
      ]
     },
     "execution_count": 92,
     "metadata": {},
     "output_type": "execute_result"
    }
   ],
   "source": [
    "dp[:10]"
   ]
  },
  {
   "cell_type": "code",
   "execution_count": null,
   "metadata": {},
   "outputs": [],
   "source": [
    "def recur()"
   ]
  },
  {
   "cell_type": "code",
   "execution_count": null,
   "metadata": {},
   "outputs": [],
   "source": [
    "    2\n",
    "   1 2\n",
    "\n",
    "   dp[2][2]\n",
    "  dp[1][1] dp[1][2]\n",
    "\n",
    "        3\n",
    "      2    3\n",
    "     1 2  1 2 3\n",
    "    \n",
    "      dp[3][3]\n",
    "  dp[2][2]    dp[2][3]\n",
    " dp[1][1] dp[1][2]   dp[2][2] dp[1][3]\n",
    "\n",
    "\n",
    "           4\n",
    "    3               4\n",
    "   2 3            2 3 4\n",
    "1 2  1 2 3   1 2  1 2 3  1 2 3 4 \n",
    "\n",
    "\n",
    "            dp[4][4]\n",
    "          dp[3][3]  dp[3][4]\n",
    "     dp[2][2] dp[2][3]  dp[3][3]               dp[2][4]\n",
    "                                 dp[1][1], dp[1][2], dp[1][3], dp[1][4]\n",
    "    \n",
    "\n",
    "\n",
    "\n",
    "\n",
    "                5\n",
    "         4               5\n",
    "        3  4           3 4 5\n",
    "     2 3   2 3 4     2 3  2 3 4  2 3 4 5\n",
    " 1:2 1:3  1:2 1:3 1:4    ...    1:2 1:3 1:4 1:5\n",
    "                                    \n",
    "                                    \n",
    "                                    \n",
    "             6\n",
    "            5    6\n",
    "               4  5      6\n",
    "                      3 4 5 6\n",
    "                     2:3 2:4 2:5 2:6\n",
    "                   1:2 1:3"
   ]
  },
  {
   "cell_type": "code",
   "execution_count": null,
   "metadata": {},
   "outputs": [],
   "source": [
    "3\n",
    "3\n",
    "3\n",
    "\n",
    "4\n",
    "4\n",
    "4\n",
    "1 2 3 4\n",
    "\n",
    "5\n",
    "5\n",
    "5\n",
    "2 3 4 5\n"
   ]
  },
  {
   "cell_type": "markdown",
   "metadata": {},
   "source": [
    "https://www.acmicpc.net/problem/14428"
   ]
  },
  {
   "cell_type": "code",
   "execution_count": 14,
   "metadata": {},
   "outputs": [
    {
     "name": "stdout",
     "output_type": "stream",
     "text": [
      "5\n",
      "5 4 3 2 1\n",
      "6\n",
      "2 1 3\n",
      "3\n",
      "2 1 4\n",
      "4\n",
      "1 5 3\n",
      "2 3 5\n",
      "4\n",
      "1 4 3\n",
      "2 3 5\n",
      "3\n"
     ]
    }
   ],
   "source": [
    "import sys\n",
    "input = lambda: sys.stdin.readline().rstrip()\n",
    "\n",
    "inf = float('inf')\n",
    "\n",
    "class SegmentTree:\n",
    "    def __init__(self, data, default=10**15, func=lambda a, b: max(a,b)):\n",
    "        \"\"\"initialize the segment tree with data\"\"\"\n",
    "        self._default = default\n",
    "        self._func = func\n",
    "        self._len = len(data)\n",
    "        self._size = _size = 1 << (self._len - 1).bit_length()\n",
    " \n",
    "        self.data = [default] * (2 * _size)\n",
    "        self.data[_size:_size + self._len] = data\n",
    "        for i in reversed(range(_size)):\n",
    "            self.data[i] = func(self.data[i + i], self.data[i + i + 1])\n",
    " \n",
    "    def __delitem__(self, idx):\n",
    "        self[idx] = self._default\n",
    " \n",
    "    def __getitem__(self, idx):\n",
    "        return self.data[idx + self._size]\n",
    " \n",
    "    def __setitem__(self, idx, value):\n",
    "        idx += self._size\n",
    "        self.data[idx] = value\n",
    "        idx >>= 1\n",
    "        while idx:\n",
    "            self.data[idx] = self._func(self.data[2 * idx], self.data[2 * idx + 1])\n",
    "            idx >>= 1\n",
    " \n",
    "    def __len__(self):\n",
    "        return self._len\n",
    " \n",
    "    def query(self, start, stop):\n",
    "        if start == stop:\n",
    "            return self.__getitem__(start)\n",
    "        stop += 1\n",
    "        start += self._size\n",
    "        stop += self._size\n",
    " \n",
    "        res = self._default\n",
    "        while start < stop:\n",
    "            if start & 1:\n",
    "                res = self._func(res, self.data[start])\n",
    "                start += 1\n",
    "            if stop & 1:\n",
    "                stop -= 1\n",
    "                res = self._func(res, self.data[stop])\n",
    "            start >>= 1\n",
    "            stop >>= 1\n",
    "        return res\n",
    " \n",
    "    def __repr__(self):\n",
    "        return \"SegmentTree({0})\".format(self.data)\n",
    "    \n",
    "n = int(input())\n",
    "li = list(map(int, input().split()))\n",
    "li = [(v, i) for i, v in enumerate(li)]\n",
    "    \n",
    "def func(a, b):\n",
    "    av, ai = a\n",
    "    bv, bi = b\n",
    "    \n",
    "    if av < bv:\n",
    "        return (av, ai)\n",
    "    elif bv < av:\n",
    "        return (bv, bi)\n",
    "    else:\n",
    "        return (av, min(ai, bi))\n",
    "    \n",
    "seg = SegmentTree(li, (inf, inf), func=func)\n",
    "for _ in range(int(input())):\n",
    "    qu = list(map(int, input().split()))\n",
    "    \n",
    "    tp = qu[0]\n",
    "    if tp == 1:\n",
    "        i = qu[1] - 1\n",
    "        v = qu[2]\n",
    "        seg[i] = (v, i)\n",
    "    else:\n",
    "        i = qu[1] - 1\n",
    "        j = qu[2] - 1\n",
    "        r = seg.query(i, j)\n",
    "        \n",
    "        print(r[1] + 1)"
   ]
  },
  {
   "cell_type": "markdown",
   "metadata": {},
   "source": [
    "https://www.acmicpc.net/problem/25588 푸앙이와 계단 수열"
   ]
  },
  {
   "cell_type": "code",
   "execution_count": 39,
   "metadata": {},
   "outputs": [
    {
     "name": "stdout",
     "output_type": "stream",
     "text": [
      "5 3\n",
      "1 3 9 2 1\n",
      "2\n"
     ]
    }
   ],
   "source": [
    "inf = float('inf')\n",
    "\n",
    "n, k = map(int, input().split())\n",
    "li = list(map(int, input().split()))\n",
    "\n",
    "is_stairs = [False] * n\n",
    "start = 0\n",
    "end = 0\n",
    "for i in range(n):\n",
    "    if end < i:\n",
    "        start = i\n",
    "        end = i\n",
    "    \n",
    "    while end + 1 < n:\n",
    "        if abs(li[end] - li[end + 1]) == 1:\n",
    "            end += 1\n",
    "        else:\n",
    "            break\n",
    "    \n",
    "    if end >= i and i - start + 1 >= k:\n",
    "        is_stairs[i] = True\n",
    "        \n",
    "dp = [inf] * n\n",
    "for i in range(3):\n",
    "    dp[i] = 1\n",
    "\n",
    "for i in range(3, n):\n",
    "    temp = inf\n",
    "    for d in range(1, 4):\n",
    "        if i - d < 0:\n",
    "            break\n",
    "        temp = min(temp, dp[i - d] + 1)\n",
    "        \n",
    "    if is_stairs[i]:\n",
    "        if i - k >= 0:\n",
    "            temp = min(temp, dp[i - k] + 1)\n",
    "        else:\n",
    "            temp = 1\n",
    "        \n",
    "    dp[i] = temp\n",
    "    \n",
    "print(dp[n - 1])"
   ]
  },
  {
   "cell_type": "markdown",
   "metadata": {},
   "source": [
    "https://www.acmicpc.net/problem/25552 잔디 예측하기"
   ]
  },
  {
   "cell_type": "code",
   "execution_count": 64,
   "metadata": {},
   "outputs": [
    {
     "name": "stdout",
     "output_type": "stream",
     "text": [
      "1 10\n",
      "OXXXXXXXXO\n",
      "2\n",
      "OXOXXXXOXX\n",
      "NO\n"
     ]
    }
   ],
   "source": [
    "from collections import deque\n",
    "import sys\n",
    "# input = lambda: sys.stdin.readline().rstrip()\n",
    "\n",
    "dx = [-1, 1, 0, 0]\n",
    "dy = [0, 0, -1, 1]\n",
    "\n",
    "def check():\n",
    "    for i in range(n):\n",
    "        for j in range(m):\n",
    "            if li[i][j] != target[i][j]:\n",
    "                return False\n",
    "    return True\n",
    "\n",
    "n, m = map(int, input().split())\n",
    "li = [list(input()) for _ in range(n)]\n",
    "d = int(input())\n",
    "target = [list(input()) for _ in range(n)]\n",
    "\n",
    "vt = [[False] * m for _ in range(n)]\n",
    "for i in range(n):\n",
    "    for j in range(m):\n",
    "        if li[i][j] == 'X':\n",
    "            continue\n",
    "        if vt[i][j]:\n",
    "            continue\n",
    "        vt[i][j] = True\n",
    "        \n",
    "        queue = deque()\n",
    "        queue.append((i, j))\n",
    "        while queue:\n",
    "            x, y = queue.popleft()\n",
    "            \n",
    "            for di in range(4):     \n",
    "                nx, ny = x, y  \n",
    "                for _ in range(d):\n",
    "                    nx += dx[di]\n",
    "                    ny += dy[di]\n",
    "\n",
    "                    if nx < 0 or nx >= n or ny < 0 or ny >= m:\n",
    "                        break\n",
    "                    if target[nx][ny] == 'X':\n",
    "                        continue\n",
    "                    if not vt[nx][ny]:\n",
    "                        vt[nx][ny] = True\n",
    "                        li[nx][ny] = 'O'\n",
    "                        queue.append((nx, ny))\n",
    "                \n",
    "if check():\n",
    "    print('YES')\n",
    "else:\n",
    "    print('NO')"
   ]
  },
  {
   "cell_type": "markdown",
   "metadata": {},
   "source": [
    "https://www.acmicpc.net/problem/10293 Ranks in groups"
   ]
  },
  {
   "cell_type": "code",
   "execution_count": null,
   "metadata": {},
   "outputs": [],
   "source": [
    "import sys\n",
    "# input = lambda: sys.stdin.readline().rstrip()\n",
    "\n",
    "## PYRIVAL BOOTSTRAP\n",
    "# https://github.com/cheran-senthil/PyRival/blob/master/pyrival/misc/bootstrap.py\n",
    "# This decorator allows for recursion without actually doing recursion\n",
    "## @bootstrap, yield when getting and returning value in recursive functions, end of functions\n",
    "from types import GeneratorType\n",
    "\n",
    "def bootstrap(f, stack=[]):\n",
    "    def wrappedfunc(*args, **kwargs):\n",
    "        if stack:\n",
    "            return f(*args, **kwargs)\n",
    "        else:\n",
    "            to = f(*args, **kwargs)\n",
    "            while True:\n",
    "                if type(to) is GeneratorType:\n",
    "                    stack.append(to)\n",
    "                    to = next(to)\n",
    "                else:\n",
    "                    stack.pop()\n",
    "                    if not stack:\n",
    "                        break\n",
    "                    to = stack[-1].send(to)\n",
    "            return to\n",
    "    return wrappedfunc\n",
    "\n",
    "# https://github.com/tatyam-prime/SortedSet/blob/main/SortedMultiset.py\n",
    "import math\n",
    "from bisect import bisect_left, bisect_right, insort\n",
    "from typing import Generic, Iterable, Iterator, TypeVar, Union, List\n",
    "T = TypeVar('T')\n",
    "\n",
    "class SortedMultiset(Generic[T]):\n",
    "    BUCKET_RATIO = 50\n",
    "    REBUILD_RATIO = 170\n",
    "\n",
    "    def _build(self, a=None) -> None:\n",
    "        \"Evenly divide `a` into buckets.\"\n",
    "        if a is None: a = list(self)\n",
    "        size = self.size = len(a)\n",
    "        bucket_size = int(math.ceil(math.sqrt(size / self.BUCKET_RATIO)))\n",
    "        self.a = [a[size * i // bucket_size : size * (i + 1) // bucket_size] for i in range(bucket_size)]\n",
    "    \n",
    "    def __init__(self, a: Iterable[T] = []) -> None:\n",
    "        \"Make a new SortedMultiset from iterable. / O(N) if sorted / O(N log N)\"\n",
    "        a = list(a)\n",
    "        if not all(a[i] <= a[i + 1] for i in range(len(a) - 1)):\n",
    "            a = sorted(a)\n",
    "        self._build(a)\n",
    "\n",
    "    def __iter__(self) -> Iterator[T]:\n",
    "        for i in self.a:\n",
    "            for j in i: yield j\n",
    "\n",
    "    def __reversed__(self) -> Iterator[T]:\n",
    "        for i in reversed(self.a):\n",
    "            for j in reversed(i): yield j\n",
    "    \n",
    "    def __len__(self) -> int:\n",
    "        return self.size\n",
    "    \n",
    "    def __repr__(self) -> str:\n",
    "        return \"SortedMultiset\" + str(self.a)\n",
    "    \n",
    "    def __str__(self) -> str:\n",
    "        s = str(list(self))\n",
    "        return \"{\" + s[1 : len(s) - 1] + \"}\"\n",
    "\n",
    "    def _find_bucket(self, x: T) -> List[T]:\n",
    "        \"Find the bucket which should contain x. self must not be empty.\"\n",
    "        for a in self.a:\n",
    "            if x <= a[-1]: return a\n",
    "        return a\n",
    "\n",
    "    def __contains__(self, x: T) -> bool:\n",
    "        if self.size == 0: return False\n",
    "        a = self._find_bucket(x)\n",
    "        i = bisect_left(a, x)\n",
    "        return i != len(a) and a[i] == x\n",
    "\n",
    "    def count(self, x: T) -> int:\n",
    "        \"Count the number of x.\"\n",
    "        return self.index_right(x) - self.index(x)\n",
    "\n",
    "    def add(self, x: T) -> None:\n",
    "        \"Add an element. / O(√N)\"\n",
    "        if self.size == 0:\n",
    "            self.a = [[x]]\n",
    "            self.size = 1\n",
    "            return\n",
    "        a = self._find_bucket(x)\n",
    "        insort(a, x)\n",
    "        self.size += 1\n",
    "        if len(a) > len(self.a) * self.REBUILD_RATIO:\n",
    "            self._build()\n",
    "\n",
    "    def discard(self, x: T) -> bool:\n",
    "        \"Remove an element and return True if removed. / O(√N)\"\n",
    "        if self.size == 0: return False\n",
    "        a = self._find_bucket(x)\n",
    "        i = bisect_left(a, x)\n",
    "        if i == len(a) or a[i] != x: return False\n",
    "        a.pop(i)\n",
    "        self.size -= 1\n",
    "        if len(a) == 0: self._build()\n",
    "        return True\n",
    "\n",
    "    def lt(self, x: T) -> Union[T, None]:\n",
    "        \"Find the largest element < x, or None if it doesn't exist.\"\n",
    "        for a in reversed(self.a):\n",
    "            if a[0] < x:\n",
    "                return a[bisect_left(a, x) - 1]\n",
    "\n",
    "    def le(self, x: T) -> Union[T, None]:\n",
    "        \"Find the largest element <= x, or None if it doesn't exist.\"\n",
    "        for a in reversed(self.a):\n",
    "            if a[0] <= x:\n",
    "                return a[bisect_right(a, x) - 1]\n",
    "\n",
    "    def gt(self, x: T) -> Union[T, None]:\n",
    "        \"Find the smallest element > x, or None if it doesn't exist.\"\n",
    "        for a in self.a:\n",
    "            if a[-1] > x:\n",
    "                return a[bisect_right(a, x)]\n",
    "\n",
    "    def ge(self, x: T) -> Union[T, None]:\n",
    "        \"Find the smallest element >= x, or None if it doesn't exist.\"\n",
    "        for a in self.a:\n",
    "            if a[-1] >= x:\n",
    "                return a[bisect_left(a, x)]\n",
    "    \n",
    "    def __getitem__(self, x: int) -> T:\n",
    "        \"Return the x-th element, or IndexError if it doesn't exist.\"\n",
    "        if x < 0: x += self.size\n",
    "        if x < 0: raise IndexError\n",
    "        for a in self.a:\n",
    "            if x < len(a): return a[x]\n",
    "            x -= len(a)\n",
    "        raise IndexError\n",
    "\n",
    "    def index(self, x: T) -> int:\n",
    "        \"Count the number of elements < x.\"\n",
    "        ans = 0\n",
    "        for a in self.a:\n",
    "            if a[-1] >= x:\n",
    "                return ans + bisect_left(a, x)\n",
    "            ans += len(a)\n",
    "        return ans\n",
    "\n",
    "    def index_right(self, x: T) -> int:\n",
    "        \"Count the number of elements <= x.\"\n",
    "        ans = 0\n",
    "        for a in self.a:\n",
    "            if a[-1] > x:\n",
    "                return ans + bisect_right(a, x)\n",
    "            ans += len(a)\n",
    "        return ans\n",
    "    \n",
    "@bootstrap\n",
    "def find(v):\n",
    "    if v != parent[v]:\n",
    "        parent[v] = (yield find(parent[v]))\n",
    "    yield parent[v]\n",
    "\n",
    "def union(a, b):\n",
    "    if len(mss[a]) < len(mss[b]):\n",
    "        a, b = b, a\n",
    "        \n",
    "    parent[b] = a\n",
    "    for v in mss[b]:\n",
    "        mss[a].add(v)\n",
    "    mss[b] = None\n",
    "\n",
    "for _ in range(int(input())):\n",
    "    n, l = map(int, input().split())\n",
    "    mss = [SortedMultiset() for _ in range(n + 1)]\n",
    "    for i in range(n):\n",
    "        mss[i].add(i)\n",
    "\n",
    "    parent = list(range(n))\n",
    "    for _ in range(l):\n",
    "        qu = list(map(int, input().split()))\n",
    "\n",
    "        tp = qu[0]\n",
    "        if tp == 1:\n",
    "            a = qu[1] - 1 \n",
    "            b = qu[2] - 1\n",
    "\n",
    "            ra = find(a)\n",
    "            rb = find(b)\n",
    "\n",
    "            union(ra, rb)\n",
    "        else:\n",
    "            j = qu[1] - 1\n",
    "\n",
    "            rj = find(j)\n",
    "            index = mss[rj].index(j)\n",
    "\n",
    "            r = len(mss[rj]) - index\n",
    "            print(r)"
   ]
  },
  {
   "cell_type": "markdown",
   "metadata": {},
   "source": [
    "https://www.acmicpc.net/problem/11438 LCA 2"
   ]
  },
  {
   "cell_type": "code",
   "execution_count": 18,
   "metadata": {},
   "outputs": [
    {
     "name": "stdout",
     "output_type": "stream",
     "text": [
      "4 4 2 2\n"
     ]
    },
    {
     "data": {
      "text/plain": [
       "4"
      ]
     },
     "execution_count": 18,
     "metadata": {},
     "output_type": "execute_result"
    }
   ],
   "source": [
    "import sys\n",
    "sys.setrecursionlimit(110000)\n",
    "input = lambda: sys.stdin.readline().rstrip()\n",
    "\n",
    "def dfs(value, depth):\n",
    "    vt[value] = True\n",
    "    depths[value] = depth\n",
    "    \n",
    "    for v in li[value]:\n",
    "        if not vt[v]:\n",
    "            dp[0][v] = value\n",
    "            dfs(v, depth + 1)    \n",
    "\n",
    "def lca(a, b, max_times):\n",
    "    if depths[a] < depths[b]:\n",
    "        a, b = b, a\n",
    "        \n",
    "    na = a\n",
    "    for cur_times in range(max_times, -1, -1):\n",
    "        if depths[na] - 2 ** cur_times >= depths[b]:\n",
    "            na = dp[cur_times][na]\n",
    "            \n",
    "    nb = b\n",
    "    for cur_times in range(max_times, -1, -1):\n",
    "        if dp[cur_times][na] != dp[cur_times][nb]:\n",
    "            na = dp[cur_times][na]\n",
    "            nb = dp[cur_times][nb]\n",
    "            \n",
    "    if na != nb:\n",
    "        na = dp[0][na]\n",
    "        nb = dp[0][nb]\n",
    "        \n",
    "    r = na  \n",
    "    return r\n",
    "            \n",
    "n = int(input())\n",
    "\n",
    "li = [[] for _ in range(n + 1)]\n",
    "for _ in range(n - 1):\n",
    "    u, v = map(int, input().split())\n",
    "    \n",
    "    li[u].append(v)\n",
    "    li[v].append(u)\n",
    "    \n",
    "dp = [[0] * (n + 1) for _ in range(17)]\n",
    "\n",
    "vt = [False] * (n + 1)\n",
    "depths = [0] * (n + 1)\n",
    "dfs(1, 0)\n",
    "\n",
    "for cur_times in range(1, 17):\n",
    "    for i in range(1, n + 1):\n",
    "        temp = dp[cur_times - 1][i]\n",
    "        temp = dp[cur_times - 1][temp]\n",
    "        dp[cur_times][i] = temp\n",
    "        \n",
    "for _ in range(int(input())):\n",
    "    a, b = map(int, input().split())\n",
    "    \n",
    "    r = lca(a, b, 16)\n",
    "    print(r)"
   ]
  },
  {
   "cell_type": "markdown",
   "metadata": {},
   "source": [
    "https://www.acmicpc.net/problem/1761 정점들의 거리"
   ]
  },
  {
   "cell_type": "code",
   "execution_count": 35,
   "metadata": {},
   "outputs": [
    {
     "name": "stdout",
     "output_type": "stream",
     "text": [
      "7\n",
      "1 6 13\n",
      "6 3 9\n",
      "3 5 7\n",
      "4 1 3\n",
      "2 4 20\n",
      "4 7 2\n",
      "3\n",
      "1 6\n",
      "13\n",
      "1 4\n",
      "3\n",
      "2 6\n",
      "36\n"
     ]
    }
   ],
   "source": [
    "import sys\n",
    "sys.setrecursionlimit(45000)\n",
    "# input = lambda: sys.stdin.readline().rstrip()\n",
    "\n",
    "def dfs(value, depth):\n",
    "    vt[value] = True\n",
    "    depths[value] = depth\n",
    "    \n",
    "    for v, d in li[value]:\n",
    "        if not vt[v]:    \n",
    "            parents[v][0] = value\n",
    "            dists[v][0] = d\n",
    "            dfs(v, depth + 1)\n",
    "\n",
    "def lca(a, b, max_times):\n",
    "    if depths[a] < depths[b]:\n",
    "        a, b = b, a\n",
    "    \n",
    "    total = 0\n",
    "    \n",
    "    for cur_times in range(max_times, -1, -1):\n",
    "        if depths[a] - 2 ** cur_times >= depths[b]:\n",
    "            total += dists[a][cur_times]\n",
    "            a = parents[a][cur_times]\n",
    "        \n",
    "    for cur_times in range(max_times, -1, -1):\n",
    "        if parents[a][cur_times] != parents[b][cur_times]:\n",
    "            total += dists[a][cur_times] + dists[b][cur_times]\n",
    "            a = parents[a][cur_times]\n",
    "            b = parents[b][cur_times]\n",
    "    \n",
    "    if a != b:\n",
    "        total += dists[a][0] + dists[b][0]\n",
    "        a = parents[a][0]\n",
    "        b = parents[b][0]\n",
    "        \n",
    "    return total\n",
    "\n",
    "n = int(input())\n",
    "\n",
    "li = [[] for _ in range(n + 1)]\n",
    "for _ in range(n - 1):\n",
    "    u, v, d = map(int, input().split())\n",
    "    \n",
    "    li[u].append((v, d))\n",
    "    li[v].append((u, d))\n",
    "    \n",
    "depths = [-1] * (n + 1)\n",
    "vt = [False] * (n + 1)\n",
    "\n",
    "max_times = 15\n",
    "parents = [[0] * (max_times + 1) for _ in range(n + 1)] \n",
    "dists = [[0] * (max_times + 1) for _ in range(n + 1)]\n",
    "\n",
    "root = 1\n",
    "dfs(root, 0)\n",
    "\n",
    "for cur_times in range(1, max_times + 1):\n",
    "    for i in range(1, n + 1):\n",
    "        p1 = parents[i][cur_times - 1]\n",
    "        p2 = parents[p1][cur_times - 1]\n",
    "        parents[i][cur_times] = p2\n",
    "        \n",
    "        d1 = dists[i][cur_times - 1]\n",
    "        d2 = dists[p1][cur_times - 1]\n",
    "        dists[i][cur_times] = d1 + d2\n",
    "        \n",
    "for _ in range(int(input())):\n",
    "    u, v = map(int, input().split())\n",
    "    \n",
    "    r = lca(u, v, max_times)\n",
    "    \n",
    "    print(r)"
   ]
  },
  {
   "cell_type": "markdown",
   "metadata": {},
   "source": [
    "https://www.acmicpc.net/problem/3176 도로 네트워크"
   ]
  },
  {
   "cell_type": "code",
   "execution_count": null,
   "metadata": {},
   "outputs": [],
   "source": [
    "import sys\n",
    "sys.setrecursionlimit(110000)\n",
    "input = lambda: sys.stdin.readline().rstrip()\n",
    "\n",
    "inf = float('inf')\n",
    "\n",
    "def dfs(value, depth):\n",
    "    depths[value] = depth\n",
    "    \n",
    "    for v, d in li[value]:\n",
    "        if depths[v] == -1:\n",
    "            parents[v][0] = value\n",
    "            min_dists[v][0] = d\n",
    "            max_dists[v][0] = d\n",
    "            dfs(v, depth + 1)\n",
    "\n",
    "def lca(a, b, max_times):\n",
    "    if depths[a] < depths[b]:\n",
    "        a, b = b, a\n",
    "        \n",
    "    min_r = inf\n",
    "    max_r = -inf\n",
    "    for cur_tms in range(max_times, -1, -1):\n",
    "        if depths[a] - 2 ** cur_tms >= depths[b]:\n",
    "            min_r = min(min_r, min_dists[a][cur_tms])\n",
    "            max_r = max(max_r, max_dists[a][cur_tms])\n",
    "            a = parents[a][cur_tms]\n",
    "            \n",
    "    for cur_tms in range(max_times, -1, -1):\n",
    "        if parents[a][cur_tms] != parents[b][cur_tms]:\n",
    "            min_r = min(min_r, min_dists[a][cur_tms])\n",
    "            min_r = min(min_r, min_dists[b][cur_tms])\n",
    "            max_r = max(max_r, max_dists[a][cur_tms])\n",
    "            max_r = max(max_r, max_dists[b][cur_tms])\n",
    "            a = parents[a][cur_tms]\n",
    "            b = parents[b][cur_tms]\n",
    "            \n",
    "    if a != b:\n",
    "        min_r = min(min_r, min_dists[a][0])\n",
    "        min_r = min(min_r, min_dists[b][0])\n",
    "        max_r = max(max_r, max_dists[a][0])\n",
    "        max_r = max(max_r, max_dists[b][0])\n",
    "        a = parents[a][0]\n",
    "        b = parents[b][0]\n",
    "        \n",
    "    return min_r, max_r\n",
    "                 \n",
    "n = int(input())\n",
    "\n",
    "li = [[] for _ in range(n + 1)]\n",
    "for _ in range(n - 1):\n",
    "    u, v, d = map(int, input().split())\n",
    "    \n",
    "    li[u].append((v, d))\n",
    "    li[v].append((u, d))\n",
    "    \n",
    "max_times = 16\n",
    "    \n",
    "parents = [[0] * (max_times + 1) for _ in range(n + 1)]\n",
    "min_dists = [[inf] * (max_times + 1) for _ in range(n + 1)]\n",
    "max_dists = [[-inf] * (max_times + 1) for _ in range(n + 1)]\n",
    "\n",
    "depths = [-1] * (n + 1)\n",
    "\n",
    "root = 1\n",
    "dfs(root, 0)\n",
    "\n",
    "for cur_times in range(1, max_times + 1):\n",
    "    for i in range(1, n + 1):\n",
    "        p1 = parents[i][cur_times - 1]\n",
    "        p2 = parents[p1][cur_times - 1]\n",
    "        \n",
    "        min_d1 = min_dists[i][cur_times - 1]\n",
    "        min_d2 = min_dists[p1][cur_times - 1]\n",
    "        max_d1 = max_dists[i][cur_times - 1]\n",
    "        max_d2 = max_dists[p1][cur_times - 1]\n",
    "        \n",
    "        parents[i][cur_times] = p2\n",
    "        min_dists[i][cur_times] = min(min_d1, min_d2)\n",
    "        max_dists[i][cur_times] = max(max_d1, max_d2)\n",
    "\n",
    "for _ in range(int(input())):\n",
    "    u, v = map(int, input().split())\n",
    "    \n",
    "    print(*lca(u, v, max_times))"
   ]
  },
  {
   "cell_type": "markdown",
   "metadata": {},
   "source": [
    "https://www.acmicpc.net/problem/13511 트리와 쿼리 2"
   ]
  },
  {
   "cell_type": "code",
   "execution_count": 59,
   "metadata": {},
   "outputs": [
    {
     "name": "stdout",
     "output_type": "stream",
     "text": [
      "2\n",
      "1 4 6\n",
      "5\n",
      "2 4 6 4\n",
      "3\n"
     ]
    }
   ],
   "source": [
    "import sys\n",
    "sys.setrecursionlimit(110000)\n",
    "input = lambda: sys.stdin.readline().rstrip()\n",
    "\n",
    "def dfs(value, depth):\n",
    "    depths[value] = depth\n",
    "    \n",
    "    for v, c in li[value]:\n",
    "        if depths[v] == -1:\n",
    "            parents[v][0] = value\n",
    "            costs[v][0] = c\n",
    "            dists[v][0] = 1\n",
    "            dfs(v, depth + 1)\n",
    "            \n",
    "def lca(oa, ob, k, max_times):\n",
    "    a, b = oa, ob\n",
    "    \n",
    "    a_dist = 0\n",
    "    b_dist = 0\n",
    "    cost = 0\n",
    "    \n",
    "    for cur_tms in range(max_times, -1, -1):\n",
    "        if depths[a] - 2 ** cur_tms >= depths[b]:\n",
    "            a_dist += dists[a][cur_tms]\n",
    "            cost += costs[a][cur_tms]\n",
    "            a = parents[a][cur_tms]\n",
    "        if depths[b] - 2 ** cur_tms >= depths[a]:\n",
    "            b_dist += dists[b][cur_tms]\n",
    "            cost += costs[b][cur_tms]\n",
    "            b = parents[b][cur_tms]\n",
    "\n",
    "    for cur_tms in range(max_times, -1, -1):\n",
    "        if parents[a][cur_tms] != parents[b][cur_tms]:\n",
    "            a_dist += dists[a][cur_tms]\n",
    "            cost += costs[a][cur_tms]\n",
    "            a = parents[a][cur_tms]            \n",
    "            b_dist += dists[b][cur_tms]\n",
    "            cost += costs[b][cur_tms]\n",
    "            b = parents[b][cur_tms]\n",
    "            \n",
    "    if a != b:\n",
    "        a_dist += dists[a][0]\n",
    "        cost += costs[a][0]\n",
    "        a = parents[a][0]            \n",
    "        b_dist += dists[b][0]\n",
    "        cost += costs[b][0]\n",
    "        b = parents[b][0]\n",
    "    \n",
    "    if k == -1:\n",
    "        return cost\n",
    "    else:\n",
    "        a, b = oa, ob\n",
    "        \n",
    "        if k == 1:\n",
    "            return a\n",
    "        elif k <= a_dist + 1:\n",
    "            to_up = k - 1\n",
    "            for cur_tms in range(max_times, -1, -1):\n",
    "                if 2 ** cur_tms <= to_up:\n",
    "                    to_up -= 2 ** cur_tms\n",
    "                    a = parents[a][cur_tms]\n",
    "            return a\n",
    "        else:\n",
    "            to_up = (a_dist + b_dist + 1) - k\n",
    "            for cur_tms in range(max_times, -1, -1):\n",
    "                if 2 ** cur_tms <= to_up:\n",
    "                    to_up -= 2 ** cur_tms\n",
    "                    b = parents[b][cur_tms]\n",
    "            return b\n",
    "\n",
    "n = int(input())\n",
    "li = [[] for _ in range(n + 1)]\n",
    "\n",
    "for _ in range(n - 1):\n",
    "    u, v, c = map(int, input().split())\n",
    "    li[u].append((v, c))\n",
    "    li[v].append((u, c))\n",
    "    \n",
    "max_times = 16\n",
    "parents = [[0] * (max_times + 1) for _ in range(n + 1)]\n",
    "costs = [[0] * (max_times + 1) for _ in range(n + 1)]\n",
    "dists = [[0] * (max_times + 1) for _ in range(n + 1)]\n",
    "\n",
    "depths = [-1] * (n + 1)\n",
    "root = 1\n",
    "dfs(root, 0)\n",
    "\n",
    "for cur_tms in range(1, max_times + 1):\n",
    "    for i in range(1, n + 1):\n",
    "        p1 = parents[i][cur_tms - 1]\n",
    "        p2 = parents[p1][cur_tms - 1]\n",
    "        parents[i][cur_tms] = p2\n",
    "        \n",
    "        c1 = costs[i][cur_tms - 1]\n",
    "        c2 = costs[p1][cur_tms - 1]\n",
    "        costs[i][cur_tms] = c1 + c2\n",
    "        \n",
    "        d1 = dists[i][cur_tms - 1]\n",
    "        d2 = dists[p1][cur_tms - 1]\n",
    "        dists[i][cur_tms] = d1 + d2\n",
    "\n",
    "for _ in range(int(input())):\n",
    "    qu = list(map(int, input().split()))\n",
    "    \n",
    "    tp = qu[0]\n",
    "    if tp == 1:\n",
    "        r = lca(qu[1], qu[2], -1, max_times)\n",
    "    else:\n",
    "        r = lca(qu[1], qu[2], qu[3], max_times)\n",
    "        \n",
    "    print(r)"
   ]
  },
  {
   "cell_type": "markdown",
   "metadata": {},
   "source": [
    "https://www.acmicpc.net/problem/7015 Millennium "
   ]
  },
  {
   "cell_type": "code",
   "execution_count": 78,
   "metadata": {},
   "outputs": [
    {
     "name": "stdout",
     "output_type": "stream",
     "text": [
      "696 4 19\n",
      "59712\n"
     ]
    }
   ],
   "source": [
    "for _ in range(int(input())):\n",
    "    y, m, d = map(int, input().split())\n",
    "\n",
    "    total = 0\n",
    "    while y < 1000:\n",
    "        total += 1\n",
    "        d += 1\n",
    "\n",
    "        if d == 20 and y % 3 != 0 and m % 2 == 0:\n",
    "            m += 1\n",
    "            d = 1\n",
    "\n",
    "            if m == 11:\n",
    "                m = 1\n",
    "                y += 1\n",
    "        elif d == 21:\n",
    "            m += 1\n",
    "            d = 1\n",
    "\n",
    "            if m == 11:\n",
    "                m = 1\n",
    "                y += 1\n",
    "\n",
    "    print(total)"
   ]
  },
  {
   "cell_type": "markdown",
   "metadata": {},
   "source": [
    "https://www.acmicpc.net/problem/1693 트리 색칠하기"
   ]
  },
  {
   "cell_type": "code",
   "execution_count": 16,
   "metadata": {},
   "outputs": [
    {
     "name": "stdout",
     "output_type": "stream",
     "text": [
      "8\n",
      "4 2\n",
      "3 1\n",
      "1 4\n",
      "5 6\n",
      "1 5\n",
      "5 7\n",
      "5 8\n",
      "11\n"
     ]
    }
   ],
   "source": [
    "import sys\n",
    "sys.setrecursionlimit(110000)\n",
    "# input = lambda: sys.stdin.readline().rstrip()\n",
    "\n",
    "inf = float('inf')\n",
    "\n",
    "def dfs(value):\n",
    "    vt[value] = True\n",
    "\n",
    "    min_costs = list(range(20))\n",
    "    min_costs[0] = inf\n",
    "    for v in li[value]:\n",
    "        if not vt[v]:\n",
    "            dfs(v)\n",
    "            \n",
    "            for cur_num in range(1, 20):\n",
    "                min_v = inf\n",
    "                for f_num in range(1, 20):\n",
    "                    if cur_num != f_num:\n",
    "                        min_v = min(min_v, dp[v][f_num])\n",
    "                min_costs[cur_num] += min_v\n",
    "                        \n",
    "    for cur_num in range(1, 20):\n",
    "        dp[value][cur_num] = min_costs[cur_num]\n",
    "\n",
    "n = int(input())\n",
    "li = [[] for _ in range(n + 1)]\n",
    "for _ in range(n - 1):\n",
    "    a, b = map(int, input().split())\n",
    "    \n",
    "    li[a].append(b)\n",
    "    li[b].append(a)\n",
    "    \n",
    "dp = [[inf] * 20 for _ in range(n + 1)]\n",
    "vt = [False] * (n + 1)\n",
    "dfs(1)\n",
    "\n",
    "print(min(dp[1]))"
   ]
  },
  {
   "cell_type": "markdown",
   "metadata": {},
   "source": [
    "https://www.acmicpc.net/problem/1814 지붕 색칠하기 "
   ]
  },
  {
   "cell_type": "code",
   "execution_count": 23,
   "metadata": {},
   "outputs": [
    {
     "name": "stdout",
     "output_type": "stream",
     "text": [
      "8\n",
      "4 2\n",
      "3 1\n",
      "1 4\n",
      "5 6\n",
      "1 5\n",
      "5 7\n",
      "5 8\n",
      "5\n",
      "2 8 7 1 4\n",
      "11\n"
     ]
    }
   ],
   "source": [
    "import sys\n",
    "sys.setrecursionlimit(110000)\n",
    "# input = lambda: sys.stdin.readline().rstrip()\n",
    "\n",
    "inf = float('inf')\n",
    "\n",
    "def dfs(value):\n",
    "    vt[value] = True\n",
    "\n",
    "    min_costs = costs.copy()\n",
    "    for v in li[value]:\n",
    "        if not vt[v]:\n",
    "            dfs(v)\n",
    "            \n",
    "            for cur_i in range(costs_len):\n",
    "                min_v = inf\n",
    "                for f_i in range(costs_len):\n",
    "                    if cur_i != f_i:\n",
    "                        min_v = min(min_v, dp[v][f_i])\n",
    "                min_costs[cur_i] += min_v\n",
    "                        \n",
    "    for cur_i in range(costs_len):\n",
    "        dp[value][cur_i] = min_costs[cur_i]\n",
    "\n",
    "n = int(input())\n",
    "li = [[] for _ in range(n + 1)]\n",
    "for _ in range(n - 1):\n",
    "    a, b = map(int, input().split())\n",
    "    \n",
    "    li[a].append(b)\n",
    "    li[b].append(a)\n",
    "    \n",
    "m = int(input())\n",
    "costs = sorted(map(int, input().split()))\n",
    "\n",
    "costs = costs[:20]\n",
    "costs_len = len(costs)\n",
    "    \n",
    "dp = [[inf] * 20 for _ in range(n + 1)]\n",
    "vt = [False] * (n + 1)\n",
    "dfs(1)\n",
    "\n",
    "print(min(dp[1]))"
   ]
  },
  {
   "cell_type": "code",
   "execution_count": 24,
   "metadata": {},
   "outputs": [
    {
     "name": "stdout",
     "output_type": "stream",
     "text": [
      "8\n",
      "1 2\n",
      "3 1\n",
      "1 4\n",
      "5 6\n",
      "1 5\n",
      "5 7\n",
      "5 8\n",
      "11\n"
     ]
    }
   ],
   "source": [
    "import sys\n",
    "sys.setrecursionlimit(11000)\n",
    "# input = lambda: sys.stdin.readline().rstrip()\n",
    "\n",
    "inf = float('inf')\n",
    "\n",
    "def dfs(value):\n",
    "    vt[value] = True\n",
    "\n",
    "    min_costs = list(range(20))\n",
    "    min_costs[0] = inf\n",
    "    for v in li[value]:\n",
    "        if not vt[v]:\n",
    "            dfs(v)\n",
    "            \n",
    "            for cur_num in range(1, 20):\n",
    "                min_v = inf\n",
    "                for f_num in range(1, 20):\n",
    "                    if cur_num != f_num:\n",
    "                        min_v = min(min_v, dp[v][f_num])\n",
    "                min_costs[cur_num] += min_v\n",
    "                        \n",
    "    for cur_num in range(1, 20):\n",
    "        dp[value][cur_num] = min_costs[cur_num]\n",
    "\n",
    "n = int(input())\n",
    "li = [[] for _ in range(n + 1)]\n",
    "for _ in range(n - 1):\n",
    "    a, b = map(int, input().split())\n",
    "    \n",
    "    li[a].append(b)\n",
    "    li[b].append(a)\n",
    "    \n",
    "dp = [[inf] * 20 for _ in range(n + 1)]\n",
    "vt = [False] * (n + 1)\n",
    "dfs(1)\n",
    "\n",
    "print(min(dp[1]))"
   ]
  },
  {
   "cell_type": "markdown",
   "metadata": {},
   "source": [
    "https://www.acmicpc.net/problem/22748 Greedy, Greedy."
   ]
  },
  {
   "cell_type": "code",
   "execution_count": null,
   "metadata": {},
   "outputs": [],
   "source": [
    "1이 없으면 1을 못만들고 1이 있으면 dp든 그리디든 시도는 가능함"
   ]
  },
  {
   "cell_type": "code",
   "execution_count": 53,
   "metadata": {},
   "outputs": [
    {
     "name": "stdout",
     "output_type": "stream",
     "text": [
      "4 1 3 7 18\n",
      "Case #1: OK\n",
      "4 1 3 8 18\n",
      "Case #2: OK\n",
      "4 1 3 9 18\n",
      "Case #3: OK\n",
      "4 1 3 17 18\n",
      "Case #4: Cannot use greedy algorithm\n",
      "4 1 3 16 18\n",
      "Case #5: Cannot use greedy algorithm\n",
      "4 1 3 15 18\n",
      "Case #6: Cannot use greedy algorithm\n",
      "4 1 3 14 18\n",
      "Case #7: Cannot use greedy algorithm\n",
      "4 1 3 13 18\n",
      "Case #8: Cannot use greedy algorithm\n",
      "4 1 3 12 18\n",
      "Case #9: Cannot use greedy algorithm\n",
      "4 1 3 11 18\n",
      "Case #10: Cannot use greedy algorithm\n",
      "4 1 3 10 18\n",
      "Case #11: Cannot use greedy algorithm\n",
      "4 1 3 9 18\n",
      "Case #12: OK\n",
      "4 1 3 8 18\n",
      "Case #13: OK\n",
      "4 1 3 7 18\n",
      "Case #14: OK\n",
      "4 1 3 6 18\n",
      "Case #15: OK\n",
      "4 1 3 5 18\n",
      "Case #16: OK\n",
      "4 1 3 4 18\n",
      "Case #17: Cannot use greedy algorithm\n",
      "0\n"
     ]
    }
   ],
   "source": [
    "import sys\n",
    "# input = lambda: sys.stdin.readline().rstrip()\n",
    "\n",
    "inf = float('inf')\n",
    "\n",
    "tn = 1\n",
    "while True:\n",
    "    n, *li = map(int, input().split())\n",
    "    if n == 0:\n",
    "        break\n",
    "\n",
    "    max_num = li[-1] * 4\n",
    "\n",
    "    r = ''\n",
    "    if li[0] != 1:\n",
    "        r = 'Cannot pay some amount'\n",
    "    else:\n",
    "        dp = [inf] * (max_num + 1)\n",
    "        dp[0] = 0\n",
    "        for v in li:\n",
    "            for j in range(v, max_num + 1):\n",
    "                dp[j] = min(dp[j], dp[j - v] + 1)\n",
    "\n",
    "        gre = [0] * (max_num + 1)\n",
    "        for num in range(max_num, 0, -1):\n",
    "            nnum = num\n",
    "            total = 0\n",
    "            for i in range(n - 1, -1, -1):\n",
    "                total += nnum // li[i]\n",
    "                nnum %= li[i]\n",
    "\n",
    "            gre[num] = total\n",
    "\n",
    "        if dp == gre:\n",
    "            r = 'OK'\n",
    "        else:\n",
    "            r = 'Cannot use greedy algorithm'\n",
    "\n",
    "    print(f'Case #{tn}: {r}')\n",
    "    tn += 1"
   ]
  },
  {
   "cell_type": "code",
   "execution_count": 9,
   "metadata": {},
   "outputs": [
    {
     "name": "stdout",
     "output_type": "stream",
     "text": [
      "2\n",
      "1 3\n",
      "5\n",
      "holsoon win at 14\n"
     ]
    }
   ],
   "source": [
    "inf = float('inf')\n",
    "\n",
    "n = int(input())\n",
    "li = list(map(int, input().split()))\n",
    "k = int(input())\n",
    "\n",
    "dp = [inf] * 50001\n",
    "dp[0] = 0\n",
    "\n",
    "r = 0\n",
    "for cur_num in range(50001):\n",
    "    if dp[cur_num] > k:\n",
    "        r = cur_num\n",
    "        break\n",
    "    \n",
    "    if dp[cur_num] < k:\n",
    "        for i in range(n):\n",
    "            n_num = cur_num + li[i]\n",
    "            dp[n_num] = min(dp[n_num], dp[cur_num] + 1)\n",
    "            \n",
    "if r % 2 == 0:\n",
    "    print('holsoon win at', r)\n",
    "else:\n",
    "    print('jjaksoon win at', r)"
   ]
  },
  {
   "cell_type": "markdown",
   "metadata": {},
   "source": [
    "https://www.acmicpc.net/problem/10453 문자열 변환"
   ]
  },
  {
   "cell_type": "code",
   "execution_count": 17,
   "metadata": {},
   "outputs": [
    {
     "name": "stdout",
     "output_type": "stream",
     "text": [
      "1\n",
      "aabbab abaabb\n",
      "2\n"
     ]
    }
   ],
   "source": [
    "import sys\n",
    "input = lambda: sys.stdin.readline().rstrip()\n",
    "\n",
    "n = int(input())\n",
    "for _ in range(n):\n",
    "    s, t = input().split()\n",
    "\n",
    "    if len(s) != len(t) or s.count('a') != t.count('a'):\n",
    "        print(-1)\n",
    "    else:\n",
    "        nn = len(s)\n",
    "\n",
    "        s_ais = [] # s a indices\n",
    "        t_ais = [] # t a indices\n",
    "        for i in range(nn):\n",
    "            if s[i] == 'a':\n",
    "                s_ais.append(i)\n",
    "            if t[i] == 'a':\n",
    "                t_ais.append(i)\n",
    "\n",
    "    r = 0\n",
    "    for i in range(len(s_ais)):\n",
    "        r += abs(s_ais[i] - t_ais[i])\n",
    "\n",
    "    print(r)"
   ]
  },
  {
   "cell_type": "markdown",
   "metadata": {},
   "source": [
    "https://www.acmicpc.net/problem/16564 히오스 프로게이머"
   ]
  },
  {
   "cell_type": "code",
   "execution_count": 19,
   "metadata": {},
   "outputs": [
    {
     "name": "stdout",
     "output_type": "stream",
     "text": [
      "3 10\n",
      "10\n",
      "20\n",
      "15\n",
      "17\n"
     ]
    }
   ],
   "source": [
    "import sys\n",
    "input = lambda: sys.stdin.readline().rstrip()\n",
    "\n",
    "def check(mid):\n",
    "    needed_k = 0\n",
    "    for i in range(n):\n",
    "        if li[i] < mid:\n",
    "            needed_k += mid - li[i]\n",
    "        \n",
    "    if needed_k > k:\n",
    "        return False\n",
    "    return True\n",
    "            \n",
    "n, k = map(int, input().split())\n",
    "li = [int(input()) for _ in range(n)]\n",
    "\n",
    "start = 1\n",
    "end = 2000000000\n",
    "r = 1\n",
    "while start <= end:\n",
    "    mid = (start + end) // 2\n",
    "    \n",
    "    if check(mid):\n",
    "        r = mid\n",
    "        start = mid + 1\n",
    "    else:\n",
    "        end = mid - 1\n",
    "        \n",
    "print(r)"
   ]
  },
  {
   "cell_type": "markdown",
   "metadata": {},
   "source": [
    "https://www.acmicpc.net/problem/1911 흙길 보수하기"
   ]
  },
  {
   "cell_type": "code",
   "execution_count": 24,
   "metadata": {},
   "outputs": [
    {
     "name": "stdout",
     "output_type": "stream",
     "text": [
      "3 3\n",
      "1 6\n",
      "13 17\n",
      "8 12\n",
      "5\n"
     ]
    }
   ],
   "source": [
    "import sys\n",
    "input = lambda: sys.stdin.readline().rstrip()\n",
    "\n",
    "n, l = map(int, input().split())\n",
    "li = [list(map(int, input().split())) for _ in range(n)]\n",
    "li.sort(key=lambda x: x[0])\n",
    "\n",
    "cur_end = -5\n",
    "r = 0\n",
    "\n",
    "fe = -5\n",
    "for s, e in li:\n",
    "    e -= 1\n",
    "    \n",
    "    assert fe <= s\n",
    "    fe = e\n",
    "    \n",
    "    if e <= cur_end:\n",
    "        continue\n",
    "    \n",
    "    s = max(cur_end + 1, s)\n",
    "    \n",
    "    length = e - s + 1\n",
    "    c = length // l\n",
    "    if length % l == 0:\n",
    "        cur_end = e\n",
    "    else:\n",
    "        c += 1\n",
    "        cur_end = s + l * c - 1\n",
    "        \n",
    "    r += c\n",
    "    \n",
    "print(r)"
   ]
  },
  {
   "cell_type": "markdown",
   "metadata": {},
   "source": [
    "https://www.acmicpc.net/problem/3019 테트리스"
   ]
  },
  {
   "cell_type": "code",
   "execution_count": 28,
   "metadata": {},
   "outputs": [
    {
     "name": "stdout",
     "output_type": "stream",
     "text": [
      "9 4\n",
      "4 3 5 4 6 5 7 6 6\n",
      "1\n"
     ]
    }
   ],
   "source": [
    "req = [\n",
    "    [],\n",
    "    [[0], [0, 0, 0, 0]],\n",
    "    [[0, 0]],\n",
    "    [[0, 0, 1], [1, 0]],\n",
    "    [[1, 0, 0], [0, 1]],\n",
    "    [[0, 0, 0], [1, 0, 1], [1, 0], [0, 1]],\n",
    "    [[0, 0, 0], [0, 0], [0, 1, 1], [2, 0]],\n",
    "    [[0, 0, 0], [0, 0], [1, 1, 0], [0, 2]]\n",
    "]\n",
    "\n",
    "c, p = map(int, input().split())\n",
    "li = list(map(int, input().split()))\n",
    "\n",
    "r = 0\n",
    "for ca in req[p]:\n",
    "    length = len(ca)\n",
    "    for start in range(c - length + 1):\n",
    "        end = start + length - 1\n",
    "        \n",
    "        diffs = set()\n",
    "        for i in range(start, end + 1):\n",
    "            diffs.add(ca[i - start] - li[i])\n",
    "            \n",
    "        if len(diffs) == 1:\n",
    "            r += 1\n",
    "            \n",
    "print(r)"
   ]
  },
  {
   "cell_type": "markdown",
   "metadata": {},
   "source": [
    "https://www.acmicpc.net/problem/13700 완전 범죄"
   ]
  },
  {
   "cell_type": "code",
   "execution_count": 34,
   "metadata": {},
   "outputs": [
    {
     "name": "stdout",
     "output_type": "stream",
     "text": [
      "20 1 20 2 1 3\n",
      "5 6 9\n",
      "BUG FOUND\n"
     ]
    }
   ],
   "source": [
    "from collections import deque\n",
    "\n",
    "inf = float('inf')\n",
    "\n",
    "n, s, d, f, b, k = map(int, input().split())\n",
    "\n",
    "st = set()\n",
    "if k > 0:\n",
    "    st = set(map(int, input().split()))\n",
    "\n",
    "moves = [inf] * (n + 1)\n",
    "moves[s] = 0\n",
    "\n",
    "queue = deque()\n",
    "queue.append(s)\n",
    "while queue:\n",
    "    value = queue.popleft()\n",
    "    \n",
    "    v = value + f\n",
    "    if v not in st and v <= n and moves[v] == inf:\n",
    "        moves[v] = moves[value] + 1\n",
    "        queue.append(v)\n",
    " \n",
    "    v = value - b\n",
    "    if v not in st and 0 <= v and moves[v] == inf:\n",
    "        moves[v] = moves[value] + 1\n",
    "        queue.append(v)\n",
    "        \n",
    "if moves[d] == inf:\n",
    "    print('BUG FOUND')\n",
    "else:\n",
    "    print(moves[d])"
   ]
  },
  {
   "cell_type": "code",
   "execution_count": 39,
   "metadata": {},
   "outputs": [
    {
     "name": "stdout",
     "output_type": "stream",
     "text": [
      "5 3\n",
      "2 4\n",
      "3 2\n",
      "1\n",
      "3 5\n",
      "2\n",
      "4 5\n",
      "1\n"
     ]
    }
   ],
   "source": [
    "from collections import deque\n",
    "import sys\n",
    "input = lambda: sys.stdin.readline().rstrip()\n",
    "\n",
    "inf = float('inf')\n",
    "\n",
    "get_value = lambda x: int(x) - 1\n",
    "\n",
    "dx = [-2, -2, -1, -1, 1, 1, 2, 2]\n",
    "dy = [-1, 1, -2, 2, -2, 2, -1, 1]\n",
    "\n",
    "n, m = map(int, input().split())\n",
    "x, y = map(get_value, input().split())\n",
    "\n",
    "dists = [[inf] * n for _ in range(n)]\n",
    "dists[x][y] = 0\n",
    "\n",
    "queue = deque()\n",
    "queue.append((x, y))\n",
    "while queue:\n",
    "    x, y = queue.popleft()\n",
    "    \n",
    "    for d in range(8):\n",
    "        nx = x + dx[d]\n",
    "        ny = y + dy[d]\n",
    "        \n",
    "        if nx < 0 or nx >= n or ny < 0 or ny >= n:\n",
    "            continue\n",
    "        if dists[nx][ny] == inf:\n",
    "            dists[nx][ny] = dists[x][y] + 1\n",
    "            queue.append((nx, ny))\n",
    "result = []      \n",
    "for _ in range(m):\n",
    "    a, b = map(get_value, input().split())\n",
    "    \n",
    "    r = dists[a][b]\n",
    "    result.append(r)\n",
    "    \n",
    "print(*result)"
   ]
  },
  {
   "cell_type": "markdown",
   "metadata": {},
   "source": [
    "https://www.acmicpc.net/problem/17391 무한부스터"
   ]
  },
  {
   "cell_type": "code",
   "execution_count": null,
   "metadata": {},
   "outputs": [],
   "source": [
    "from collections import deque\n",
    "import sys\n",
    "input = lambda: sys.stdin.readline().rstrip()\n",
    "\n",
    "inf = float('inf')\n",
    "\n",
    "n, m = map(int, input().split())\n",
    "li = [list(map(int, input().split())) for _ in range(n)]\n",
    "\n",
    "queue = deque()\n",
    "queue.append((0, 0))\n",
    "\n",
    "dists = [[inf] * m for _ in range(n)]\n",
    "dists[0][0] = 0\n",
    "\n",
    "while queue:\n",
    "    x, y = queue.popleft()\n",
    "    \n",
    "    for d in range(1, li[x][y] + 1):\n",
    "        nx, ny = x + d, y\n",
    "        \n",
    "        if nx < n and dists[x][y] + 1 < dists[nx][ny]:\n",
    "            dists[nx][ny] = dists[x][y] + 1\n",
    "            queue.append((nx, ny))\n",
    "        \n",
    "        nx, ny = x, y + d\n",
    "        \n",
    "        if ny < m and dists[x][y] + 1 < dists[nx][ny]:\n",
    "            dists[nx][ny] = dists[x][y] + 1\n",
    "            queue.append((nx, ny))\n",
    "            \n",
    "print(dists[n - 1][m - 1])"
   ]
  },
  {
   "cell_type": "markdown",
   "metadata": {},
   "source": [
    "https://www.acmicpc.net/problem/23337 Drunk Passenger"
   ]
  },
  {
   "cell_type": "code",
   "execution_count": 12,
   "metadata": {},
   "outputs": [
    {
     "name": "stdout",
     "output_type": "stream",
     "text": [
      "3\n",
      "0.75\n"
     ]
    }
   ],
   "source": [
    "n = int(input())\n",
    "\n",
    "dp = [0] * n\n",
    "\n",
    "for i in range(1, n):\n",
    "    temp = 0\n",
    "    for j in range(i):\n",
    "        temp += \n",
    "        \n",
    "    dp[i] = temp\n",
    "    \n",
    "print(dp[n - 1])"
   ]
  },
  {
   "cell_type": "markdown",
   "metadata": {},
   "source": [
    "### ABC 12969"
   ]
  },
  {
   "cell_type": "code",
   "execution_count": 19,
   "metadata": {},
   "outputs": [
    {
     "data": {
      "text/plain": [
       "defaultdict(list,\n",
       "            {(0, 0): [(0, 0, 0, 0, 0, 0, 0)],\n",
       "             (6, 1): [(0, 0, 0, 0, 0, 0, 1)],\n",
       "             (5, 1): [(0, 0, 0, 0, 0, 1, 0)],\n",
       "             (10, 2): [(0, 0, 0, 0, 0, 1, 1)],\n",
       "             (4, 1): [(0, 0, 0, 0, 1, 0, 0)],\n",
       "             (9, 2): [(0, 0, 0, 0, 1, 0, 1)],\n",
       "             (8, 2): [(0, 0, 0, 0, 1, 1, 0), (0, 0, 0, 1, 0, 0, 1)],\n",
       "             (12, 3): [(0, 0, 0, 0, 1, 1, 1)],\n",
       "             (3, 1): [(0, 0, 0, 1, 0, 0, 0)],\n",
       "             (7, 2): [(0, 0, 0, 1, 0, 1, 0), (0, 0, 1, 0, 0, 0, 1)],\n",
       "             (11, 3): [(0, 0, 0, 1, 0, 1, 1)],\n",
       "             (6, 2): [(0, 0, 0, 1, 1, 0, 0),\n",
       "              (0, 0, 1, 0, 0, 1, 0),\n",
       "              (0, 1, 0, 0, 0, 0, 1)],\n",
       "             (10, 3): [(0, 0, 0, 1, 1, 0, 1), (0, 0, 1, 0, 0, 1, 1)],\n",
       "             (9, 3): [(0, 0, 0, 1, 1, 1, 0),\n",
       "              (0, 0, 1, 0, 1, 0, 1),\n",
       "              (0, 1, 0, 0, 0, 1, 1)],\n",
       "             (12, 4): [(0, 0, 0, 1, 1, 1, 1)],\n",
       "             (2, 1): [(0, 0, 1, 0, 0, 0, 0)],\n",
       "             (5, 2): [(0, 0, 1, 0, 1, 0, 0),\n",
       "              (0, 1, 0, 0, 0, 1, 0),\n",
       "              (1, 0, 0, 0, 0, 0, 1)],\n",
       "             (8, 3): [(0, 0, 1, 0, 1, 1, 0),\n",
       "              (0, 0, 1, 1, 0, 0, 1),\n",
       "              (0, 1, 0, 0, 1, 0, 1),\n",
       "              (1, 0, 0, 0, 0, 1, 1)],\n",
       "             (11, 4): [(0, 0, 1, 0, 1, 1, 1)],\n",
       "             (4, 2): [(0, 0, 1, 1, 0, 0, 0),\n",
       "              (0, 1, 0, 0, 1, 0, 0),\n",
       "              (1, 0, 0, 0, 0, 1, 0)],\n",
       "             (7, 3): [(0, 0, 1, 1, 0, 1, 0),\n",
       "              (0, 1, 0, 0, 1, 1, 0),\n",
       "              (0, 1, 0, 1, 0, 0, 1),\n",
       "              (1, 0, 0, 0, 1, 0, 1)],\n",
       "             (10, 4): [(0, 0, 1, 1, 0, 1, 1), (0, 1, 0, 0, 1, 1, 1)],\n",
       "             (6, 3): [(0, 0, 1, 1, 1, 0, 0),\n",
       "              (0, 1, 0, 1, 0, 1, 0),\n",
       "              (0, 1, 1, 0, 0, 0, 1),\n",
       "              (1, 0, 0, 0, 1, 1, 0),\n",
       "              (1, 0, 0, 1, 0, 0, 1)],\n",
       "             (9, 4): [(0, 0, 1, 1, 1, 0, 1),\n",
       "              (0, 1, 0, 1, 0, 1, 1),\n",
       "              (1, 0, 0, 0, 1, 1, 1)],\n",
       "             (8, 4): [(0, 0, 1, 1, 1, 1, 0),\n",
       "              (0, 1, 0, 1, 1, 0, 1),\n",
       "              (0, 1, 1, 0, 0, 1, 1),\n",
       "              (1, 0, 0, 1, 0, 1, 1)],\n",
       "             (10, 5): [(0, 0, 1, 1, 1, 1, 1)],\n",
       "             (1, 1): [(0, 1, 0, 0, 0, 0, 0)],\n",
       "             (3, 2): [(0, 1, 0, 1, 0, 0, 0), (1, 0, 0, 0, 1, 0, 0)],\n",
       "             (5, 3): [(0, 1, 0, 1, 1, 0, 0),\n",
       "              (0, 1, 1, 0, 0, 1, 0),\n",
       "              (1, 0, 0, 1, 0, 1, 0),\n",
       "              (1, 0, 1, 0, 0, 0, 1)],\n",
       "             (7, 4): [(0, 1, 0, 1, 1, 1, 0),\n",
       "              (0, 1, 1, 0, 1, 0, 1),\n",
       "              (1, 0, 0, 1, 1, 0, 1),\n",
       "              (1, 0, 1, 0, 0, 1, 1)],\n",
       "             (9, 5): [(0, 1, 0, 1, 1, 1, 1)],\n",
       "             (2, 2): [(0, 1, 1, 0, 0, 0, 0), (1, 0, 0, 1, 0, 0, 0)],\n",
       "             (4, 3): [(0, 1, 1, 0, 1, 0, 0),\n",
       "              (1, 0, 0, 1, 1, 0, 0),\n",
       "              (1, 0, 1, 0, 0, 1, 0),\n",
       "              (1, 1, 0, 0, 0, 0, 1)],\n",
       "             (6, 4): [(0, 1, 1, 0, 1, 1, 0),\n",
       "              (0, 1, 1, 1, 0, 0, 1),\n",
       "              (1, 0, 0, 1, 1, 1, 0),\n",
       "              (1, 0, 1, 0, 1, 0, 1),\n",
       "              (1, 1, 0, 0, 0, 1, 1)],\n",
       "             (8, 5): [(0, 1, 1, 0, 1, 1, 1), (1, 0, 0, 1, 1, 1, 1)],\n",
       "             (3, 3): [(0, 1, 1, 1, 0, 0, 0),\n",
       "              (1, 0, 1, 0, 1, 0, 0),\n",
       "              (1, 1, 0, 0, 0, 1, 0)],\n",
       "             (5, 4): [(0, 1, 1, 1, 0, 1, 0),\n",
       "              (1, 0, 1, 0, 1, 1, 0),\n",
       "              (1, 0, 1, 1, 0, 0, 1),\n",
       "              (1, 1, 0, 0, 1, 0, 1)],\n",
       "             (7, 5): [(0, 1, 1, 1, 0, 1, 1), (1, 0, 1, 0, 1, 1, 1)],\n",
       "             (4, 4): [(0, 1, 1, 1, 1, 0, 0),\n",
       "              (1, 0, 1, 1, 0, 1, 0),\n",
       "              (1, 1, 0, 0, 1, 1, 0),\n",
       "              (1, 1, 0, 1, 0, 0, 1)],\n",
       "             (6, 5): [(0, 1, 1, 1, 1, 0, 1),\n",
       "              (1, 0, 1, 1, 0, 1, 1),\n",
       "              (1, 1, 0, 0, 1, 1, 1)],\n",
       "             (5, 5): [(0, 1, 1, 1, 1, 1, 0),\n",
       "              (1, 0, 1, 1, 1, 0, 1),\n",
       "              (1, 1, 0, 1, 0, 1, 1)],\n",
       "             (6, 6): [(0, 1, 1, 1, 1, 1, 1)],\n",
       "             (0, 1): [(1, 0, 0, 0, 0, 0, 0)],\n",
       "             (1, 2): [(1, 0, 1, 0, 0, 0, 0)],\n",
       "             (2, 3): [(1, 0, 1, 1, 0, 0, 0), (1, 1, 0, 0, 1, 0, 0)],\n",
       "             (3, 4): [(1, 0, 1, 1, 1, 0, 0),\n",
       "              (1, 1, 0, 1, 0, 1, 0),\n",
       "              (1, 1, 1, 0, 0, 0, 1)],\n",
       "             (4, 5): [(1, 0, 1, 1, 1, 1, 0),\n",
       "              (1, 1, 0, 1, 1, 0, 1),\n",
       "              (1, 1, 1, 0, 0, 1, 1)],\n",
       "             (5, 6): [(1, 0, 1, 1, 1, 1, 1)],\n",
       "             (0, 2): [(1, 1, 0, 0, 0, 0, 0)],\n",
       "             (1, 3): [(1, 1, 0, 1, 0, 0, 0)],\n",
       "             (2, 4): [(1, 1, 0, 1, 1, 0, 0), (1, 1, 1, 0, 0, 1, 0)],\n",
       "             (3, 5): [(1, 1, 0, 1, 1, 1, 0), (1, 1, 1, 0, 1, 0, 1)],\n",
       "             (4, 6): [(1, 1, 0, 1, 1, 1, 1)],\n",
       "             (0, 3): [(1, 1, 1, 0, 0, 0, 0)],\n",
       "             (1, 4): [(1, 1, 1, 0, 1, 0, 0)],\n",
       "             (2, 5): [(1, 1, 1, 0, 1, 1, 0), (1, 1, 1, 1, 0, 0, 1)],\n",
       "             (3, 6): [(1, 1, 1, 0, 1, 1, 1)],\n",
       "             (0, 4): [(1, 1, 1, 1, 0, 0, 0)],\n",
       "             (1, 5): [(1, 1, 1, 1, 0, 1, 0)],\n",
       "             (2, 6): [(1, 1, 1, 1, 0, 1, 1)],\n",
       "             (0, 5): [(1, 1, 1, 1, 1, 0, 0)],\n",
       "             (1, 6): [(1, 1, 1, 1, 1, 0, 1)],\n",
       "             (0, 6): [(1, 1, 1, 1, 1, 1, 0)],\n",
       "             (0, 7): [(1, 1, 1, 1, 1, 1, 1)]})"
      ]
     },
     "execution_count": 19,
     "metadata": {},
     "output_type": "execute_result"
    }
   ],
   "source": [
    "from itertools import product\n",
    "from collections import defaultdict as dd\n",
    "\n",
    "n = 7\n",
    "d = dd(list)\n",
    "for case in product(*[range(2)] * n):\n",
    "    c = 0\n",
    "    for i in range(n):\n",
    "        for j in range(i, n):\n",
    "            if case[i] < case[j]:\n",
    "                c += 1\n",
    "                \n",
    "    c1 = case.count(1)\n",
    "    d[(c, c1)].append(case)\n",
    "    \n",
    "d"
   ]
  },
  {
   "cell_type": "code",
   "execution_count": 5,
   "metadata": {},
   "outputs": [
    {
     "name": "stdout",
     "output_type": "stream",
     "text": [
      "3 3\n",
      "ABC\n"
     ]
    }
   ],
   "source": [
    "def dfs(n, c, c1):\n",
    "    if (n, c, c1) in dp:\n",
    "        return\n",
    "    dp[(n, c, c1)] = case.copy()\n",
    "    if n > on:\n",
    "        return\n",
    "    \n",
    "    nn = n + 1\n",
    "    nc = c\n",
    "    nc1 = c1\n",
    "    case.append(0)\n",
    "    dfs(nn, nc, nc1)\n",
    "    case.pop()\n",
    "    \n",
    "    nc = c + (n - c1)\n",
    "    nc1 = c1 + 1\n",
    "    case.append(1)\n",
    "    dfs(nn, nc, nc1)\n",
    "    case.pop()\n",
    "\n",
    "def check():\n",
    "    for cur_k in range(k + 1):\n",
    "        for cur_c1 in range(on + 1):\n",
    "            temp = (on, cur_k, cur_c1)\n",
    "            if temp in dp:\n",
    "                for n_c1 in range(cur_c1 + 1):\n",
    "                    ntemp = (cur_c1, k - cur_k, n_c1)\n",
    "                    if ntemp in dp:\n",
    "                        case1 = dp[temp]\n",
    "                        case2 = dp[ntemp]\n",
    "\n",
    "                        result = case1.copy()\n",
    "                        indices_1 = []\n",
    "                        for i in range(on):\n",
    "                            if case1[i] == 1:\n",
    "                                indices_1.append(i)\n",
    "\n",
    "                        for j in range(cur_c1):\n",
    "                            if case2[j] == 1:\n",
    "                                result[indices_1[j]] = 2\n",
    "\n",
    "                        return result\n",
    "    return []\n",
    "\n",
    "on, k = map(int, input().split())\n",
    "    \n",
    "dp = {}\n",
    "    \n",
    "case = [0]\n",
    "dfs(1, 0, 0)\n",
    "case = [1]\n",
    "dfs(1, 0, 1)\n",
    "\n",
    "r = check()\n",
    "\n",
    "if not r:\n",
    "    print(-1)\n",
    "else:\n",
    "    result = []\n",
    "    for v in r:\n",
    "        if v == 0:\n",
    "            result.append('A')\n",
    "        elif v == 1:\n",
    "            result.append('B')\n",
    "        else:\n",
    "            result.append('C')\n",
    "            \n",
    "    result = ''.join(result)\n",
    "    print(result)"
   ]
  },
  {
   "cell_type": "markdown",
   "metadata": {},
   "source": [
    "https://www.acmicpc.net/problem/1184 귀농"
   ]
  },
  {
   "cell_type": "code",
   "execution_count": 35,
   "metadata": {},
   "outputs": [
    {
     "name": "stdout",
     "output_type": "stream",
     "text": [
      "3\n",
      "1 2 3\n",
      "2 3 4\n",
      "3 4 8\n",
      "7\n"
     ]
    }
   ],
   "source": [
    "from collections import defaultdict as dd\n",
    "\n",
    "def get_sum(x1, x2, y1, y2):\n",
    "    return sli[x2 + 1][y2 + 1] - sli[x2 + 1][y1] - sli[x1][y2 + 1] + sli[x1][y1]\n",
    "\n",
    "n = int(input())\n",
    "li = [list(map(int, input().split())) for _ in range(n)]\n",
    "\n",
    "sli = [[0] * (n + 1) for _ in range(n + 1)]\n",
    "for i in range(n):\n",
    "    temp = 0\n",
    "    for j in range(n):\n",
    "        temp += li[i][j]\n",
    "        sli[i + 1][j + 1] = temp\n",
    "        if i >= 1:\n",
    "            sli[i + 1][j + 1] += sli[i][j + 1]\n",
    "            \n",
    "total = 0\n",
    "for i in range(n):\n",
    "    for j in range(n):\n",
    "        # (i, j) is bottom right case\n",
    "        d1 = dd(int)\n",
    "        for ni in range(i + 1):\n",
    "            for nj in range(j + 1):\n",
    "                sv = get_sum(ni, i, nj, j)\n",
    "                d1[str(sv)] += 1\n",
    "                \n",
    "        # (i + 1, j + 1) is top left case\n",
    "        for ni in range(i + 1, n):\n",
    "            for nj in range(j + 1, n):\n",
    "                sv = get_sum(i + 1, ni, j + 1, nj)\n",
    "                total += d1[str(sv)]\n",
    "                \n",
    "        # (i, j) is bottom left case\n",
    "        d2 = dd(int)\n",
    "        for ni in range(i + 1):\n",
    "            for nj in range(j, n):\n",
    "                sv = get_sum(ni, i, j, nj)\n",
    "                d2[str(sv)] += 1\n",
    "        \n",
    "        # (i + 1, j - 1) is top right case\n",
    "        for ni in range(i + 1, n):\n",
    "            for nj in range(j):\n",
    "                sv = get_sum(i + 1, ni, nj, j - 1)\n",
    "                total += d2[str(sv)]\n",
    "                \n",
    "print(total)"
   ]
  },
  {
   "cell_type": "markdown",
   "metadata": {},
   "source": [
    "https://www.acmicpc.net/problem/18319 Berry Picking"
   ]
  },
  {
   "cell_type": "code",
   "execution_count": null,
   "metadata": {},
   "outputs": [],
   "source": [
    "5 4\n",
    "3 6 8 4 2\n",
    "\n",
    "2 3 4 6 8"
   ]
  },
  {
   "cell_type": "code",
   "execution_count": null,
   "metadata": {},
   "outputs": [],
   "source": [
    "4 6 4 4\n",
    "4 6 3 5"
   ]
  },
  {
   "cell_type": "code",
   "execution_count": null,
   "metadata": {},
   "outputs": [],
   "source": [
    "6 8\n",
    "\n",
    "3 3 4 4\n"
   ]
  },
  {
   "cell_type": "code",
   "execution_count": null,
   "metadata": {},
   "outputs": [],
   "source": [
    "0 2\n",
    "1 1"
   ]
  },
  {
   "cell_type": "code",
   "execution_count": null,
   "metadata": {},
   "outputs": [],
   "source": [
    "나무 4개 사용 3 4 6 8\n",
    "나무 3개 사용 4 6 4 4\n",
    "나무 2개 사용"
   ]
  },
  {
   "cell_type": "code",
   "execution_count": null,
   "metadata": {},
   "outputs": [],
   "source": [
    "? 4 5 5\n",
    "\n",
    "1 4 5 4\n",
    "2 4 5 3\n",
    "3 4 5 2\n",
    "4 4 5 1"
   ]
  },
  {
   "cell_type": "code",
   "execution_count": null,
   "metadata": {},
   "outputs": [],
   "source": [
    "? 4 5 5\n",
    "\n",
    "1 4 5 4\n",
    "2 4 5 3 -> 2 3 4 5\n",
    "3 4 5 2 -> 2 3 4 5\n",
    "4 4 5 1 -> 1 4 4 5"
   ]
  },
  {
   "cell_type": "code",
   "execution_count": 36,
   "metadata": {},
   "outputs": [
    {
     "data": {
      "text/plain": [
       "88"
      ]
     },
     "execution_count": 36,
     "metadata": {},
     "output_type": "execute_result"
    }
   ],
   "source": [
    "100 - 12"
   ]
  },
  {
   "cell_type": "code",
   "execution_count": null,
   "metadata": {},
   "outputs": [],
   "source": [
    "6 6 6 6\n",
    "\n",
    "? ? 10 10 10 10\n",
    "\n",
    "1 1 9 9 10 10"
   ]
  },
  {
   "cell_type": "code",
   "execution_count": null,
   "metadata": {},
   "outputs": [],
   "source": [
    "1 1 1 1 1 1 4 100\n",
    "? ? ? ? ? ? ? 100\n",
    "        4를 뒤 처음의 기준으로 잡으면 뒤 4개는 무조건 4 이상\n",
    "\n",
    "\n",
    "? ? ? ? 4 4 4 88\n",
    "4 4 4 4 4 4 4 72\n",
    "\n",
    "? ? ? ? 5 5 5 85\n",
    "5 5 5 5 5 5 5 65\n",
    "\n",
    "? ? ? ? 20 20 20 28\n",
    "2 2 2 2 20 20 20 20\n",
    "\n",
    "\n",
    "삼분탐색"
   ]
  },
  {
   "cell_type": "code",
   "execution_count": null,
   "metadata": {},
   "outputs": [],
   "source": [
    "? ? ? ? ? ? 90 100\n",
    "\n",
    "? ? ? ?  4 4 ! !\n",
    "\n"
   ]
  },
  {
   "cell_type": "code",
   "execution_count": 50,
   "metadata": {},
   "outputs": [
    {
     "name": "stdout",
     "output_type": "stream",
     "text": [
      "5 4\n",
      "3 6 8 4 2\n",
      "8\n"
     ]
    }
   ],
   "source": [
    "n, k = map(int, input().split())\n",
    "li = sorted(map(int, input().split()))\n",
    "\n",
    "max_r = 0\n",
    "half_k = k // 2\n",
    "for upper_cri in range(1, 1001):\n",
    "    cri_c = 0\n",
    "    remained = []\n",
    "    for v in li:\n",
    "        cri_c += v // upper_cri\n",
    "        remained.append(v % upper_cri)\n",
    "    \n",
    "    if cri_c >= half_k:\n",
    "        temp_r = 0\n",
    "\n",
    "        cri_c -= half_k\n",
    "        can_fill = half_k\n",
    "        \n",
    "        used = min(cri_c, can_fill)\n",
    "        temp_r += used * upper_cri\n",
    "        \n",
    "        can_fill -= used\n",
    "        if can_fill:\n",
    "            remained.sort()\n",
    "            \n",
    "            while can_fill and remained:\n",
    "                temp_r += remained.pop()\n",
    "                can_fill -= 1\n",
    "                \n",
    "        max_r = max(max_r, temp_r)\n",
    "        \n",
    "print(max_r)"
   ]
  },
  {
   "cell_type": "markdown",
   "metadata": {},
   "source": [
    "https://www.acmicpc.net/problem/10160 암호"
   ]
  },
  {
   "cell_type": "code",
   "execution_count": 51,
   "metadata": {},
   "outputs": [
    {
     "data": {
      "text/plain": [
       "11881376"
      ]
     },
     "execution_count": 51,
     "metadata": {},
     "output_type": "execute_result"
    }
   ],
   "source": [
    "ABCBC A\n",
    "      B\n",
    "      C\n",
    "\n",
    "ABC 다음 BC 조심\n",
    "AB 다음 ABC 조심"
   ]
  },
  {
   "cell_type": "code",
   "execution_count": null,
   "metadata": {},
   "outputs": [],
   "source": [
    "암호가 되기 불가능한 것의 개수를 먼저 세면 어떨까?"
   ]
  },
  {
   "cell_type": "code",
   "execution_count": null,
   "metadata": {},
   "outputs": [],
   "source": [
    "ABCBC\n",
    "ABABC\n",
    "\n",
    "AB ABC BC"
   ]
  },
  {
   "cell_type": "code",
   "execution_count": null,
   "metadata": {},
   "outputs": [],
   "source": [
    "ABABC ABCBC\n",
    "\n",
    "ABABCBC ABABC ABCBC"
   ]
  },
  {
   "cell_type": "code",
   "execution_count": null,
   "metadata": {},
   "outputs": [],
   "source": [
    "ABCBC 또는 ABABC가 처음 들어가는 위치부터 시작해서 그 이후는 자유"
   ]
  },
  {
   "cell_type": "code",
   "execution_count": null,
   "metadata": {},
   "outputs": [],
   "source": [
    "xxxxxxABABCoooooooo\n",
    "\n",
    "현재 안되는 경우의 수 = k ** n - (dp[x 길이] * (k ** o) * 2)"
   ]
  },
  {
   "cell_type": "code",
   "execution_count": null,
   "metadata": {},
   "outputs": [],
   "source": [
    "ABCBC\n",
    "ABABC\n",
    "\n",
    "ABCBC*\n",
    "ABABC*\n",
    "*ABCBC\n",
    "*ABABC\n",
    "\n",
    "**ABCBC\n",
    "*ABCBC*\n",
    "ABCBC**\n",
    "\n",
    "*****ABCBC*****\n",
    "양쪽 별 개수\n",
    "10 0\n",
    "9 1\n",
    "8 2\n",
    "7 3\n",
    "6 4\n",
    "5 5\n",
    "..."
   ]
  },
  {
   "cell_type": "code",
   "execution_count": null,
   "metadata": {},
   "outputs": [],
   "source": [
    "ABCBC\n",
    "ABABC"
   ]
  },
  {
   "cell_type": "code",
   "execution_count": null,
   "metadata": {},
   "outputs": [],
   "source": [
    "ABC로 끝나는 안전한 것의 개수\n",
    "AB로 끝나는 안전한 것의 개수\n",
    "전체 개수"
   ]
  },
  {
   "cell_type": "code",
   "execution_count": null,
   "metadata": {},
   "outputs": [],
   "source": [
    "dp[n], dp_abc[n], dp_ab[n]\n",
    "\n"
   ]
  },
  {
   "cell_type": "markdown",
   "metadata": {},
   "source": [
    "acmicpc.net/problem/17420 깊콘이 넘쳐흘러"
   ]
  },
  {
   "cell_type": "code",
   "execution_count": 12,
   "metadata": {},
   "outputs": [
    {
     "name": "stdout",
     "output_type": "stream",
     "text": [
      "3\n",
      "10 5 4\n",
      "10 100 30\n",
      "5\n"
     ]
    }
   ],
   "source": [
    "n = int(input())\n",
    "a = list(map(int, input().split()))\n",
    "b = list(map(int, input().split()))\n",
    "\n",
    "total = 0\n",
    "for i in range(n):\n",
    "    if a[i] < b[i]:\n",
    "        diff = b[i] - a[i]\n",
    "        \n",
    "        c = diff // 30\n",
    "        if diff % 30:\n",
    "            c += 1\n",
    "            \n",
    "        total += c\n",
    "        a[i] += c * 30\n",
    "        \n",
    "li = [[a[i], b[i]] for i in range(n)]\n",
    "li.sort(key=lambda x: x[1])\n",
    "\n",
    "min_needed = 0\n",
    "nxt_min_needed = 0\n",
    "f_date = 0\n",
    "for i in range(n):\n",
    "    if f_date != li[i][1]:\n",
    "        f_date = li[i][1]\n",
    "        min_needed = nxt_min_needed       \n",
    "    \n",
    "    if li[i][0] < min_needed:\n",
    "        diff = min_needed - li[i][0]\n",
    "        \n",
    "        c = diff // 30\n",
    "        if diff % 30:\n",
    "            c += 1\n",
    "            \n",
    "        total += c\n",
    "        li[i][0] += c * 30\n",
    "        \n",
    "    nxt_min_needed = max(nxt_min_needed, li[i][0])\n",
    "    \n",
    "print(total)"
   ]
  },
  {
   "cell_type": "markdown",
   "metadata": {},
   "source": [
    "acmicpc.net/problem/1036 36진수"
   ]
  },
  {
   "cell_type": "code",
   "execution_count": 15,
   "metadata": {},
   "outputs": [
    {
     "data": {
      "text/plain": [
       "65"
      ]
     },
     "execution_count": 15,
     "metadata": {},
     "output_type": "execute_result"
    }
   ],
   "source": [
    "ord('A')"
   ]
  },
  {
   "cell_type": "code",
   "execution_count": 17,
   "metadata": {},
   "outputs": [
    {
     "data": {
      "text/plain": [
       "{'0': 0,\n",
       " '1': 1,\n",
       " '2': 2,\n",
       " '3': 3,\n",
       " '4': 4,\n",
       " '5': 5,\n",
       " '6': 6,\n",
       " '7': 7,\n",
       " '8': 8,\n",
       " '9': 9,\n",
       " 'A': 10,\n",
       " 'B': 11,\n",
       " 'C': 12,\n",
       " 'D': 13,\n",
       " 'E': 14,\n",
       " 'F': 15,\n",
       " 'G': 16,\n",
       " 'H': 17,\n",
       " 'I': 18,\n",
       " 'J': 19,\n",
       " 'K': 20,\n",
       " 'L': 21,\n",
       " 'M': 22,\n",
       " 'N': 23,\n",
       " 'O': 24,\n",
       " 'P': 25,\n",
       " 'Q': 26,\n",
       " 'R': 27,\n",
       " 'S': 28,\n",
       " 'T': 29,\n",
       " 'U': 30,\n",
       " 'V': 31,\n",
       " 'W': 32,\n",
       " 'X': 33,\n",
       " 'Y': 34,\n",
       " 'Z': 35}"
      ]
     },
     "execution_count": 17,
     "metadata": {},
     "output_type": "execute_result"
    }
   ],
   "source": [
    "d = {str(i): i for i in range(10)}\n",
    "for i in range(26):\n",
    "    d[chr(i + 65)] = i + 10\n",
    "    \n",
    "d"
   ]
  },
  {
   "cell_type": "code",
   "execution_count": 42,
   "metadata": {},
   "outputs": [
    {
     "name": "stdout",
     "output_type": "stream",
     "text": [
      "5\n",
      "GOOD\n",
      "LUCK\n",
      "AND\n",
      "HAVE\n",
      "FUN\n",
      "7\n",
      "31YUB\n"
     ]
    }
   ],
   "source": [
    "to_num = {str(i): i for i in range(10)}\n",
    "for i in range(26):\n",
    "    to_num[chr(i + 65)] = i + 10\n",
    "    \n",
    "to_chr = {}\n",
    "for key, v in to_num.items():\n",
    "    to_chr[v] = key\n",
    "\n",
    "n = int(input())\n",
    "li = [[to_num[v] for v in input()] for _ in range(n)]\n",
    "k = int(input())\n",
    "\n",
    "ws = [0] * 36\n",
    "for i in range(n):\n",
    "    cur_w = 1\n",
    "    for j in range(len(li[i]) - 1, -1, -1):\n",
    "        ws[li[i][j]] += cur_w\n",
    "        cur_w *= 36\n",
    "        \n",
    "for i in range(36):\n",
    "    ws[i] *= (35 - i)\n",
    "    \n",
    "ws = [(ws[i], i) for i in range(36)]\n",
    "ws.sort(key=lambda x: -x[0])\n",
    "\n",
    "to_select_c = min(len(ws), k)\n",
    "selected = ws[:to_select_c]\n",
    "selected = {selected[i][1] for i in range(to_select_c)}\n",
    "\n",
    "total = 0\n",
    "for i in range(n):\n",
    "    cur_w = 1\n",
    "    for j in range(len(li[i]) - 1, -1, -1):\n",
    "        if li[i][j] in selected:\n",
    "            li[i][j] = 35\n",
    "            \n",
    "        total += li[i][j] * cur_w\n",
    "        cur_w *= 36\n",
    "        \n",
    "result = []\n",
    "while total:\n",
    "    remained = total % 36\n",
    "    result.append(to_chr[remained])\n",
    "    total //= 36\n",
    "    \n",
    "result = ''.join(reversed(result))\n",
    "\n",
    "if not result:\n",
    "    result = '0'\n",
    "    \n",
    "print(result)"
   ]
  },
  {
   "cell_type": "markdown",
   "metadata": {},
   "source": [
    "https://www.acmicpc.net/problem/1114 통나무 자르기"
   ]
  },
  {
   "cell_type": "code",
   "execution_count": 72,
   "metadata": {},
   "outputs": [
    {
     "name": "stdout",
     "output_type": "stream",
     "text": [
      "5 2 1\n",
      "4 5\n",
      "4 4\n"
     ]
    }
   ],
   "source": [
    "def get_value(mid):\n",
    "    first_cut_loc = -1\n",
    "    cut_c = 0\n",
    "    \n",
    "    cur_len = li[0]\n",
    "    for i in range(1, k):\n",
    "        cur_len += li[i] - li[i - 1]\n",
    "        \n",
    "        if cur_len > mid:\n",
    "            cur_len = li[i] - li[i - 1]\n",
    "            cut_c += 1\n",
    "                \n",
    "    return cut_c\n",
    "  \n",
    "def check(mid):\n",
    "    cut_c = 1\n",
    "    f_len = li[mid]\n",
    "    \n",
    "    if f_len > r_length:\n",
    "        return True\n",
    "    \n",
    "    cur_len = 0\n",
    "    for i in range(mid + 1, k):\n",
    "        cur_len += li[i] - li[i - 1]\n",
    "        \n",
    "        if cur_len > r_length:\n",
    "            cur_len = li[i] - li[i - 1]\n",
    "            cut_c += 1\n",
    "            \n",
    "    if cut_c > c:\n",
    "        return False\n",
    "    return True\n",
    "    \n",
    "l, k, c = map(int, input().split())\n",
    "li = sorted(map(int, input().split()))\n",
    "\n",
    "li.append(l)\n",
    "start = li[0]\n",
    "end = l\n",
    "for i in range(k):\n",
    "    diff = li[i + 1] - li[i]\n",
    "    start = max(start, diff)\n",
    "k += 1\n",
    "\n",
    "r_length = -1\n",
    "while start <= end:\n",
    "    mid = (start + end) // 2\n",
    "    \n",
    "    cut_c = get_value(mid)\n",
    "    \n",
    "    if cut_c <= c:\n",
    "        r_length = mid\n",
    "        end = mid - 1\n",
    "    else:\n",
    "        start = mid + 1\n",
    "\n",
    "start = 0\n",
    "end = k - 2\n",
    "min_fc_index = k - 2 # min first cut index\n",
    "while start <= end:\n",
    "    mid = (start + end) // 2\n",
    "    \n",
    "    if check(mid):\n",
    "        min_fc_index = mid\n",
    "        end = mid - 1\n",
    "    else:\n",
    "        start = mid + 1\n",
    "        \n",
    "print(r_length, li[min_fc_index])"
   ]
  },
  {
   "cell_type": "markdown",
   "metadata": {},
   "source": [
    "https://www.acmicpc.net/problem/21761 초직사각형"
   ]
  },
  {
   "cell_type": "code",
   "execution_count": 73,
   "metadata": {},
   "outputs": [
    {
     "name": "stdout",
     "output_type": "stream",
     "text": [
      "4 3\n",
      "1 1 1 1\n",
      "A 1\n",
      "A 1\n",
      "A 2\n",
      "A 2\n",
      "A 2\n",
      "A 2\n",
      "A 1\n"
     ]
    }
   ],
   "source": [
    "import sys\n",
    "input = lambda: sys.stdin.readline().rstrip()\n",
    "\n",
    "n, k = map(int, input().split())\n",
    "cur = list(map(int, input().split()))\n",
    "\n",
    "alphas = 'ABCD'\n",
    "li = [[] for _ in range(4)]\n",
    "for _ in range(n):\n",
    "    t, u = input().split()\n",
    "    u = int(u)\n",
    "    \n",
    "    al_i = alphas.index(t)\n",
    "    li[al_i].append(u)\n",
    "    \n",
    "for al_i in range(4):\n",
    "    li[al_i].sort()\n",
    "    \n",
    "result = []\n",
    "for _ in range(k):\n",
    "    max_r = -1\n",
    "    max_r_al_i = -1\n",
    "    for al_i in range(4):\n",
    "        if li[al_i]:\n",
    "            v = li[al_i][-1]\n",
    "            \n",
    "            temp_r = 1\n",
    "            for f_al_i in range(4):\n",
    "                if al_i == f_al_i:\n",
    "                    temp_r *= cur[f_al_i] + v\n",
    "                else:\n",
    "                    temp_r *= cur[f_al_i]\n",
    "            \n",
    "            if temp_r > max_r:\n",
    "                max_r = temp_r\n",
    "                max_r_al_i = al_i\n",
    "                \n",
    "    max_r_v = li[max_r_al_i].pop()\n",
    "    result.append(f'{alphas[max_r_al_i]} {max_r_v}')\n",
    "    cur[max_r_al_i] += max_r_v\n",
    "    \n",
    "for v in result:\n",
    "    print(v)"
   ]
  },
  {
   "cell_type": "markdown",
   "metadata": {},
   "source": [
    "https://www.acmicpc.net/problem/1045 도로"
   ]
  },
  {
   "cell_type": "code",
   "execution_count": null,
   "metadata": {},
   "outputs": [],
   "source": [
    "from heapq import heappush, heappop\n",
    "\n",
    "n, m = map(int, input().split())\n",
    "li = [input() for _ in range(n)]\n",
    "\n",
    "nli = [[] for _ in range(n)]\n",
    "all_edges = set()\n",
    "for i in range(n):\n",
    "    for j in range(i + 1, n):\n",
    "        if li[i][j] == 'Y':\n",
    "            nli[i].append(j)\n",
    "            nli[j].append(i)\n",
    "            all_edges.add((i, j))\n",
    "    \n",
    "vt_edges = set()\n",
    "used = [False] * n\n",
    "used[0] = True\n",
    "used_edges = set()\n",
    "heap = []\n",
    "\n",
    "for v in nli[0]:\n",
    "    edge = (0, v)\n",
    "    vt_edges.add(edge)\n",
    "    heappush(heap, (edge, v))\n",
    "    \n",
    "r = [0] * n\n",
    "while heap:\n",
    "    (a, b), value = heappop(heap)\n",
    "    \n",
    "    if not used[value]:\n",
    "        used[value] = True\n",
    "        used_edges.add((a, b))\n",
    "        r[a] += 1\n",
    "        r[b] += 1\n",
    "\n",
    "    for v in nli[value]:\n",
    "        na = value\n",
    "        nb = v\n",
    "\n",
    "        if na > nb:\n",
    "            na, nb = nb, na\n",
    "        edge = (na, nb)\n",
    "        if edge not in vt_edges:\n",
    "            vt_edges.add(edge)\n",
    "            heappush(heap, (edge, v))\n",
    "\n",
    "if len(used_edges) != n - 1:\n",
    "    print(-1)\n",
    "else:\n",
    "    left_edges = all_edges - used_edges\n",
    "    remained = m - (n - 1)\n",
    "    \n",
    "    if remained > len(left_edges):\n",
    "        print(-1)\n",
    "    else:\n",
    "        left_edges = sorted(left_edges)\n",
    "        for i in range(remained):\n",
    "            a, b = left_edges[i]\n",
    "            r[a] += 1\n",
    "            r[b] += 1\n",
    "            \n",
    "        print(*r)"
   ]
  },
  {
   "cell_type": "code",
   "execution_count": null,
   "metadata": {},
   "outputs": [],
   "source": [
    "import sys\n",
    "input = lambda: sys.stdin.readline().rstrip()\n",
    "\n",
    "def find(v):\n",
    "    if parent[v] != v:\n",
    "        parent[v] = find(parent[v])\n",
    "    return parent[v]\n",
    "\n",
    "def union(a, b):\n",
    "    parent[b] = a\n",
    "\n",
    "n, m = map(int, input().split())\n",
    "li = [input() for _ in range(n)]\n",
    "\n",
    "edges = []\n",
    "for i in range(n):\n",
    "    for j in range(i + 1, n):\n",
    "        if li[i][j] == 'Y':\n",
    "            edges.append((i, j))\n",
    "edges.sort()\n",
    "edges_len = len(edges)\n",
    "\n",
    "used = [False] * edges_len\n",
    "used_c = 0\n",
    "parent = list(range(n))\n",
    "for _ in range(n):\n",
    "    for i in range(edges_len):\n",
    "        a, b = edges[i]\n",
    "        \n",
    "        ra = find(a)\n",
    "        rb = find(b)\n",
    "        if ra > rb:\n",
    "            ra, rb = rb, ra\n",
    "            \n",
    "        if ra != rb and ra == 0:\n",
    "            union(ra, rb)\n",
    "            used[i] = True\n",
    "            used_c += 1\n",
    "            break\n",
    "            \n",
    "if used_c < n - 1 or edges_len < m:\n",
    "    print(-1)\n",
    "else:\n",
    "    remained = m - used_c\n",
    "    for i in range(edges_len):\n",
    "        if remained and not used[i]:\n",
    "            remained -= 1\n",
    "            used[i] = True\n",
    "            \n",
    "    result = [0] * n\n",
    "    for i in range(edges_len):\n",
    "        if used[i]:\n",
    "            a, b = edges[i]\n",
    "            result[a] += 1\n",
    "            result[b] += 1\n",
    "            \n",
    "    print(*result)"
   ]
  },
  {
   "cell_type": "markdown",
   "metadata": {},
   "source": [
    "https://www.acmicpc.net/contest/problem/880/1 A번 - 거울반사"
   ]
  },
  {
   "cell_type": "code",
   "execution_count": 4,
   "metadata": {},
   "outputs": [
    {
     "name": "stdout",
     "output_type": "stream",
     "text": [
      "R 3\n",
      "1 2 3\n",
      "4 5 6\n",
      "7 8 9\n",
      "? 5 1\n",
      "? 2 ?\n",
      "? 8 ?\n"
     ]
    }
   ],
   "source": [
    "w, n = input().split()\n",
    "n = int(n)\n",
    "\n",
    "li = [list(map(int, input().split())) for _ in range(n)]\n",
    "\n",
    "result = []\n",
    "if w in ['U', 'D']:\n",
    "    for i in range(n - 1, -1, -1):\n",
    "        temp = []\n",
    "        for j in range(n):\n",
    "            if li[i][j] == 2:\n",
    "                temp.append(5)\n",
    "            elif li[i][j] == 5:\n",
    "                temp.append(2)\n",
    "            elif li[i][j] in [1, 8]:\n",
    "                temp.append(li[i][j])\n",
    "            else:\n",
    "                temp.append('?')\n",
    "        result.append(temp)\n",
    "else:\n",
    "    for i in range(n):\n",
    "        temp = []\n",
    "        for j in range(n - 1, -1, -1):\n",
    "            if li[i][j] == 2:\n",
    "                temp.append(5)\n",
    "            elif li[i][j] == 5:\n",
    "                temp.append(2)\n",
    "            elif li[i][j] in [1, 8]:\n",
    "                temp.append(li[i][j])\n",
    "            else:\n",
    "                temp.append('?')\n",
    "        result.append(temp)            \n",
    "        \n",
    "for v in result:\n",
    "    print(*v)"
   ]
  },
  {
   "cell_type": "markdown",
   "metadata": {},
   "source": [
    "https://www.acmicpc.net/contest/problem/880/2 B번 - 방어율 무시 계산하기"
   ]
  },
  {
   "cell_type": "code",
   "execution_count": 8,
   "metadata": {},
   "outputs": [
    {
     "name": "stdout",
     "output_type": "stream",
     "text": [
      "5\n",
      "20 20 20 20 20\n",
      "19.999999999999996\n",
      "35.999999999999986\n",
      "48.79999999999999\n",
      "59.03999999999998\n",
      "67.23199999999999\n"
     ]
    }
   ],
   "source": [
    "import sys\n",
    "input = lambda: sys.stdin.readline().rstrip()\n",
    "\n",
    "n = int(input())\n",
    "li = list(map(int, input().split()))\n",
    "\n",
    "result = []\n",
    "v = 0\n",
    "for av in li:\n",
    "    v = 1 - (1 - v / 100) * (1 - av / 100)\n",
    "    v *= 100\n",
    "    print(v)"
   ]
  },
  {
   "cell_type": "code",
   "execution_count": null,
   "metadata": {},
   "outputs": [],
   "source": [
    "import sys\n",
    "input = lambda: sys.stdin.readline().rstrip()\n",
    "\n",
    "n, tp = input().split()\n",
    "n = int(n)\n",
    "\n",
    "st = {input() for _ in range(n)}\n",
    "\n",
    "w = -1\n",
    "if tp == 'Y':\n",
    "    w = 1\n",
    "elif tp == 'F':\n",
    "    w = 2\n",
    "else:\n",
    "    w = 3\n",
    "    \n",
    "r = len(st) // w\n",
    "\n",
    "print(r)"
   ]
  },
  {
   "cell_type": "markdown",
   "metadata": {},
   "source": [
    "https://www.acmicpc.net/contest/problem/880/4 D번 - 유전자 조합"
   ]
  },
  {
   "cell_type": "code",
   "execution_count": 20,
   "metadata": {},
   "outputs": [
    {
     "name": "stdout",
     "output_type": "stream",
     "text": [
      "3\n",
      "AB DC XP\n",
      "4\n",
      "C D P X\n"
     ]
    }
   ],
   "source": [
    "n = int(input())\n",
    "li = input().split()\n",
    "\n",
    "a = [[] for _ in range(26)]\n",
    "b = [[] for _ in range(26)]\n",
    "\n",
    "for i in range(n):\n",
    "    v = li[i]\n",
    "    \n",
    "    aa = ord(v[0]) - 65\n",
    "    bb = ord(v[1]) - 65\n",
    "    \n",
    "    if len(a[aa]) <= 1:\n",
    "        a[aa].append(i)\n",
    "    if len(b[bb]) <= 1:\n",
    "        b[bb].append(i)\n",
    "        \n",
    "r = set()\n",
    "for ai in range(26):\n",
    "    for bi in range(26):\n",
    "        ip = False\n",
    "        if len(a[ai]) == 2 and b[bi] or len(b[bi]) == 2 and a[ai]:\n",
    "            ip = True\n",
    "        if a[ai] and b[bi] and a[ai][0] != b[bi][0]:\n",
    "            ip = True\n",
    "            \n",
    "        if ip:\n",
    "            r.add(max(ai, bi))\n",
    "            \n",
    "result = []\n",
    "for v in sorted(r):\n",
    "    result.append(chr(v + 65))\n",
    "    \n",
    "print(len(result))\n",
    "print(*result)"
   ]
  },
  {
   "cell_type": "markdown",
   "metadata": {},
   "source": [
    "https://www.acmicpc.net/contest/problem/880/5 E번 - 들판 건너가기"
   ]
  },
  {
   "cell_type": "code",
   "execution_count": 31,
   "metadata": {},
   "outputs": [
    {
     "name": "stdout",
     "output_type": "stream",
     "text": [
      "5\n",
      "1 3 5 4 6\n",
      "21\n"
     ]
    }
   ],
   "source": [
    "# 틀렸음\n",
    "n = int(input())\n",
    "li = list(map(int, input().split()))\n",
    "\n",
    "cur = li[0]\n",
    "r = 0\n",
    "for i in range(1, n - 1):\n",
    "    if li[i - 1] <= li[i] >= li[i + 1] or li[i - 1] >= li[i] <= li[i + 1]:\n",
    "        r += (cur - li[i]) ** 2\n",
    "        cur = li[i]\n",
    "        \n",
    "r += (cur - li[-1]) ** 2\n",
    "\n",
    "print(r)"
   ]
  },
  {
   "cell_type": "markdown",
   "metadata": {},
   "source": [
    "https://www.acmicpc.net/contest/problem/880/7 G번 - 축사 건설"
   ]
  },
  {
   "cell_type": "code",
   "execution_count": 42,
   "metadata": {},
   "outputs": [
    {
     "name": "stdout",
     "output_type": "stream",
     "text": [
      "3\n",
      "5 1\n",
      "YES\n",
      "3 3\n",
      "YES\n",
      "4 3\n",
      "NO\n"
     ]
    }
   ],
   "source": [
    "import sys\n",
    "input = lambda: sys.stdin.readline().rstrip()\n",
    "\n",
    "n, m = map(int, input().split())\n",
    "li = [input() for _ in range(n)]\n",
    "\n",
    "prefix = [[0] * (m + 1) for _ in range(n)]\n",
    "for j in range(m):\n",
    "    cumul = 0\n",
    "    for i in range(n):\n",
    "        if li[i][j] == '.':\n",
    "            cumul += 1\n",
    "        else:\n",
    "            cumul = 0\n",
    "        prefix[i][j] = cumul\n",
    "\n",
    "max_w_by_hs = [0] * (n + 1)\n",
    "for row in range(n):\n",
    "    prefix[row][m] = -1\n",
    "    stack = [[prefix[row][0], 1]]\n",
    "    for j in range(1, m + 1):\n",
    "        v = prefix[row][j]\n",
    "        w = 0\n",
    "        while stack and stack[-1][0] >= v:\n",
    "            fv, fw = stack.pop()\n",
    "\n",
    "            w += fw\n",
    "            max_w_by_hs[fv] = max(max_w_by_hs[fv], w)\n",
    "\n",
    "        stack.append([v, w + 1])\n",
    "\n",
    "s_max_w_by_hs = [0] * (n + 1)\n",
    "cur_max = -1\n",
    "for h in range(n, 0, -1):\n",
    "    cur_max = max(cur_max, max_w_by_hs[h])\n",
    "    s_max_w_by_hs[h] = cur_max\n",
    "    \n",
    "q = int(input())\n",
    "for _ in range(q):\n",
    "    h, w = map(int, input().split())\n",
    "    \n",
    "    if w <= s_max_w_by_hs[h]:\n",
    "        print('YES')\n",
    "    else:\n",
    "        print('NO')"
   ]
  },
  {
   "cell_type": "markdown",
   "metadata": {},
   "source": [
    "https://www.acmicpc.net/contest/problem/880/6 F번 - 귀경길 교통상황을 알려드립니다"
   ]
  },
  {
   "cell_type": "code",
   "execution_count": null,
   "metadata": {},
   "outputs": [],
   "source": [
    "1 4  2 8 3 9"
   ]
  },
  {
   "cell_type": "code",
   "execution_count": null,
   "metadata": {},
   "outputs": [],
   "source": [
    "1 4  2 6"
   ]
  },
  {
   "cell_type": "code",
   "execution_count": null,
   "metadata": {},
   "outputs": [],
   "source": [
    "2 6  3 5\n",
    "\n",
    "2 3 4 5 6\n",
    "  3 4 5\n",
    "    \n",
    "2 6  3 8\n",
    "\n",
    "2 3 4 5 6\n",
    "  3 4 5 6 7 8"
   ]
  },
  {
   "cell_type": "code",
   "execution_count": 65,
   "metadata": {},
   "outputs": [
    {
     "name": "stdout",
     "output_type": "stream",
     "text": [
      "3\n",
      "1 2\n",
      "1 3\n",
      "0 0 1\n",
      "2\n"
     ]
    }
   ],
   "source": [
    "from heapq import heappush, heappop\n",
    "import sys, os, io\n",
    "sys.setrecursionlimit(210000)\n",
    "# input = io.BytesIO(os.read(0,os.fstat(0).st_size)).readline\n",
    "\n",
    "def dfs(value):\n",
    "    vt[value] = True\n",
    "    \n",
    "    info = []\n",
    "    \n",
    "    for v in li[value]:\n",
    "        if not vt[v]:\n",
    "            if not info:\n",
    "                info = dfs(v)\n",
    "            else:\n",
    "                info.extend(dfs(v))\n",
    "        \n",
    "    info.sort(key=lambda x: x[0])\n",
    "    \n",
    "    ninfo = []\n",
    "    for s, e in info:\n",
    "        s += 1\n",
    "        e += 1\n",
    "        if ninfo and s <= ninfo[-1][1] + 1:\n",
    "            fe = ninfo[-1][1]\n",
    "            added = min(fe, e) - s + 1\n",
    "            ne = max(fe, e) + added\n",
    "            ninfo[-1][1] = ne\n",
    "        else:\n",
    "            ninfo.append([s, e])\n",
    "            \n",
    "    if cs[value]:\n",
    "        ninfo.append([0] * 2)\n",
    "        \n",
    "    return ninfo\n",
    "            \n",
    "n = int(input())\n",
    "\n",
    "li = [[] for _ in range(n + 1)]\n",
    "for _ in range(n - 1):\n",
    "    u, v = map(int, input().split())\n",
    "    li[u].append(v)\n",
    "    li[v].append(u)\n",
    "    \n",
    "cs = [0] + list(map(int, input().split()))\n",
    "vt = [False] * (n + 1)\n",
    "info = dfs(1)\n",
    "\n",
    "info.sort(key=lambda x: x[0])\n",
    "\n",
    "ninfo = []\n",
    "for s, e in info:\n",
    "    s += 1\n",
    "    e += 1\n",
    "    if ninfo and s <= ninfo[-1][1] + 1:\n",
    "        fe = ninfo[-1][1]\n",
    "        added = min(fe, e) - s + 1\n",
    "        ne = max(fe, e) + added\n",
    "        ninfo[-1][1] = ne\n",
    "    else:\n",
    "        ninfo.append([s, e])\n",
    "        \n",
    "print(ninfo[-1][1])"
   ]
  },
  {
   "cell_type": "code",
   "execution_count": null,
   "metadata": {},
   "outputs": [],
   "source": [
    "7\n",
    "1 2\n",
    "2 3\n",
    "3 4\n",
    "1 5\n",
    "5 6\n",
    "6 7\n",
    "1 0 1 1 0 1 1"
   ]
  },
  {
   "cell_type": "code",
   "execution_count": null,
   "metadata": {},
   "outputs": [],
   "source": [
    "5\n",
    "1 2\n",
    "2 3\n",
    "1 4\n",
    "4 5\n",
    "1 0 1 0 1"
   ]
  }
 ],
 "metadata": {
  "kernelspec": {
   "display_name": "Python 3",
   "language": "python",
   "name": "python3"
  },
  "language_info": {
   "codemirror_mode": {
    "name": "ipython",
    "version": 3
   },
   "file_extension": ".py",
   "mimetype": "text/x-python",
   "name": "python",
   "nbconvert_exporter": "python",
   "pygments_lexer": "ipython3",
   "version": "3.8.3"
  }
 },
 "nbformat": 4,
 "nbformat_minor": 4
}
