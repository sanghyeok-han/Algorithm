{
 "cells": [
  {
   "cell_type": "markdown",
   "metadata": {},
   "source": [
    "### 단어 정렬 1181"
   ]
  },
  {
   "cell_type": "code",
   "execution_count": 3,
   "metadata": {},
   "outputs": [
    {
     "name": "stdout",
     "output_type": "stream",
     "text": [
      "2\n",
      "i\n",
      "i\n",
      "i\n"
     ]
    }
   ],
   "source": [
    "import sys\n",
    "# input = lambda: sys.stdin.readline().rstrip()\n",
    "\n",
    "n = int(input())\n",
    "st = {input() for _ in range(n)}\n",
    "\n",
    "li = sorted(st, key=lambda x: (len(x), x))\n",
    "\n",
    "print('\\n'.join(li))"
   ]
  },
  {
   "cell_type": "markdown",
   "metadata": {},
   "source": [
    "### 게으른 백곰 10025"
   ]
  },
  {
   "cell_type": "code",
   "execution_count": 10,
   "metadata": {},
   "outputs": [
    {
     "name": "stdout",
     "output_type": "stream",
     "text": [
      "4 3\n",
      "10 15\n",
      "2 2\n",
      "5 1\n",
      "4 7\n",
      "11\n"
     ]
    }
   ],
   "source": [
    "import sys\n",
    "input = lambda: sys.stdin.readline().rstrip()\n",
    "\n",
    "n, k = map(int, input().split())\n",
    "\n",
    "xs = [0] * 1000001\n",
    "for _ in range(n):\n",
    "    g, x = map(int, input().split())\n",
    "    \n",
    "    xs[x] = g\n",
    "    \n",
    "k = k * 2 + 1\n",
    "k = min(k, 1000000)\n",
    "\n",
    "s = 0\n",
    "for i in range(k):\n",
    "    s += xs[i]\n",
    "    \n",
    "max_s = s\n",
    "for i in range(k, 1000001):\n",
    "    s -= xs[i - k]\n",
    "    s += xs[i]\n",
    "    \n",
    "    max_s = max(max_s, s)\n",
    "    \n",
    "print(max_s)"
   ]
  },
  {
   "cell_type": "markdown",
   "metadata": {},
   "source": [
    "### 무한이진트리 2078"
   ]
  },
  {
   "cell_type": "code",
   "execution_count": 33,
   "metadata": {},
   "outputs": [
    {
     "name": "stdout",
     "output_type": "stream",
     "text": [
      "1 1\n",
      "0 0\n"
     ]
    }
   ],
   "source": [
    "a, b = map(int, input().split())\n",
    "\n",
    "lc = rc = 0\n",
    "while a > 1 and b > 1:\n",
    "    if a < b:\n",
    "        temp = (b - a) // a\n",
    "        if (b - a) % a:\n",
    "            temp += 1\n",
    "        rc += temp\n",
    "        \n",
    "        b -= temp * a\n",
    "    else:\n",
    "        temp = (a - b) // b\n",
    "        if (a - b) % b:\n",
    "            temp += 1\n",
    "        lc += temp\n",
    "        \n",
    "        a -= temp * b\n",
    "\n",
    "lc += a - 1\n",
    "rc += b - 1\n",
    "\n",
    "print(lc, rc)"
   ]
  },
  {
   "cell_type": "markdown",
   "metadata": {},
   "source": [
    "### K보다 큰 구간 14246"
   ]
  },
  {
   "cell_type": "code",
   "execution_count": 54,
   "metadata": {},
   "outputs": [
    {
     "name": "stdout",
     "output_type": "stream",
     "text": [
      "5\n",
      "1 2 3 2 1\n",
      "7\n",
      "3\n"
     ]
    }
   ],
   "source": [
    "n = int(input())\n",
    "li = list(map(int, input().split()))\n",
    "k = int(input())\n",
    "\n",
    "total = 0\n",
    "s = e = 0\n",
    "cumul = li[s]\n",
    "while s <= e < n:\n",
    "    while e < n and cumul <= k:\n",
    "        e += 1\n",
    "        if e == n:\n",
    "            break\n",
    "        cumul += li[e]\n",
    "    if e == n:\n",
    "        break\n",
    "    \n",
    "    total += n - e\n",
    "    cumul -= li[s]\n",
    "    s += 1\n",
    "    \n",
    "    if s == n:\n",
    "        break\n",
    "    \n",
    "print(total)"
   ]
  },
  {
   "cell_type": "code",
   "execution_count": 65,
   "metadata": {},
   "outputs": [
    {
     "name": "stdout",
     "output_type": "stream",
     "text": [
      "3 2 1\n",
      "1 2 4\n",
      "2 3 3\n",
      "3\n"
     ]
    }
   ],
   "source": [
    "# nhk9503 코드 수정\n",
    "\n",
    "import heapq\n",
    "import sys\n",
    "# input = sys.stdin.readline\n",
    "\n",
    "n, m, k = map(int, input().split())\n",
    "\n",
    "edge = [[] for _ in range(n+1)]\n",
    "inf = int(1e9)\n",
    "\n",
    "for i in range(m):\n",
    "    a, b, c = map(int, input().split())\n",
    "    edge[a].append((b, c))\n",
    "    edge[b].append((a, c))\n",
    "    \n",
    "distance = [[inf] * (k+1) for _ in range(n+1)]  \n",
    "\n",
    "def dijk(start):\n",
    "    queue = []\n",
    "    \n",
    "    count = 0\n",
    "    heapq.heappush(queue, (0, start, count))\n",
    "    \n",
    "    distance[start] = [0] * (k + 1)\n",
    "    \n",
    "    while queue:\n",
    "        dist, node, count = heapq.heappop(queue)\n",
    "        \n",
    "        if distance[node][count] < dist:\n",
    "            continue\n",
    "            \n",
    "        for nxt, w in edge[node]:\n",
    "            cost = dist + w\n",
    "            \n",
    "            if cost < distance[nxt][count]:\n",
    "                distance[nxt][count] = cost\n",
    "                heapq.heappush(queue, (cost, nxt, count))\n",
    "                \n",
    "            if count < k and dist < distance[nxt][count + 1]:\n",
    "                distance[nxt][count + 1] = dist\n",
    "                heapq.heappush(queue, (dist, nxt, count + 1))\n",
    "                \n",
    "        \n",
    "dijk(1)\n",
    "print(min(distance[n]))"
   ]
  },
  {
   "cell_type": "markdown",
   "metadata": {},
   "source": [
    "### 넷이 놀기 2121"
   ]
  },
  {
   "cell_type": "code",
   "execution_count": 67,
   "metadata": {},
   "outputs": [
    {
     "name": "stdout",
     "output_type": "stream",
     "text": [
      "6\n",
      "2 3\n",
      "0 0\n",
      "2 0\n",
      "2 3\n",
      "0 3\n",
      "4 0\n",
      "4 3\n",
      "2\n"
     ]
    }
   ],
   "source": [
    "import sys\n",
    "# input = lambda: sys.stdin.readline().rstrip()\n",
    "\n",
    "n = int(input())\n",
    "a, b = map(int, input().split())\n",
    "st = {tuple(map(int, input().split())) for _ in range(n)}\n",
    "    \n",
    "total = 0\n",
    "for x, y in st:\n",
    "    if (x + a, y) in st and (x, y + b) in st and (x + a, y + b) in st:\n",
    "        total += 1\n",
    "        \n",
    "print(total)"
   ]
  },
  {
   "cell_type": "markdown",
   "metadata": {},
   "source": [
    "### 접두사 찾기 14426"
   ]
  },
  {
   "cell_type": "code",
   "execution_count": 71,
   "metadata": {},
   "outputs": [
    {
     "name": "stdout",
     "output_type": "stream",
     "text": [
      "2 2\n",
      "abb\n",
      "cbb\n",
      "ab\n",
      "cb\n",
      "2\n"
     ]
    }
   ],
   "source": [
    "import sys\n",
    "# input = lambda: sys.stdin.readline().rstrip()\n",
    "\n",
    "n, m = map(int, input().split())\n",
    "\n",
    "st = set()\n",
    "for _ in range(n):\n",
    "    s = input()\n",
    "\n",
    "    cumul = ''\n",
    "    for i in range(min(500, len(s))):\n",
    "        cumul += s[i]\n",
    "        st.add(cumul)\n",
    "    \n",
    "total = 0\n",
    "for _ in range(m):\n",
    "    v = input()\n",
    "    if v in st:\n",
    "        total += 1\n",
    "    \n",
    "print(total)"
   ]
  },
  {
   "cell_type": "markdown",
   "metadata": {},
   "source": [
    "### 회문 17609"
   ]
  },
  {
   "cell_type": "code",
   "execution_count": 83,
   "metadata": {},
   "outputs": [
    {
     "name": "stdout",
     "output_type": "stream",
     "text": [
      "2\n",
      "a\n",
      "0\n",
      "ba\n",
      "1\n"
     ]
    }
   ],
   "source": [
    "def check(s):\n",
    "    start = 0\n",
    "    end = len(s) - 1\n",
    "    \n",
    "    while start < end:\n",
    "        if s[start] == s[end]:\n",
    "            start += 1\n",
    "            end -= 1\n",
    "        else:\n",
    "            nstart = start + 1\n",
    "            nend = end\n",
    "            while nstart < nend:\n",
    "                if s[nstart] == s[nend]:\n",
    "                    nstart += 1\n",
    "                    nend -= 1\n",
    "                else:  \n",
    "                    nstart = start\n",
    "                    nend = end - 1\n",
    "                    while nstart < nend:\n",
    "                        if s[nstart] == s[nend]:\n",
    "                            nstart += 1\n",
    "                            nend -= 1\n",
    "                        else:\n",
    "                            return 2\n",
    "                    break\n",
    "            return 1  \n",
    "    return 0\n",
    "            \n",
    "for _ in range(int(input())):\n",
    "    s = input()\n",
    "    \n",
    "    print(check(s))        "
   ]
  },
  {
   "cell_type": "markdown",
   "metadata": {},
   "source": [
    "### Dance Dance Revolution 2342"
   ]
  },
  {
   "cell_type": "code",
   "execution_count": 17,
   "metadata": {},
   "outputs": [
    {
     "name": "stdout",
     "output_type": "stream",
     "text": [
      "8\n"
     ]
    }
   ],
   "source": [
    "li = list(map(int, input().split()))\n",
    "li.pop()\n",
    "\n",
    "n = len(li)\n",
    "\n",
    "dp = [[[float('inf')] * 5 for _ in range(5)] for _ in range(n + 1)]\n",
    "dp[0][0][0] = 0\n",
    "\n",
    "def get_needed(f, t):\n",
    "    if f == 0:\n",
    "        return 2\n",
    "    if abs(f - t) == 2:\n",
    "        return 4\n",
    "    if f == t:\n",
    "        return 1\n",
    "    else:\n",
    "        return 3\n",
    "\n",
    "for i in range(1, n + 1):\n",
    "    target = li[i - 1]\n",
    "    for other in range(5):\n",
    "        if other == target:\n",
    "            continue\n",
    "        mv1 = float('inf')\n",
    "        mv2 = float('inf')\n",
    "        for from_ in range(5):\n",
    "            needed = get_needed(from_, target)\n",
    "            v1 = dp[i - 1][from_][other] + needed\n",
    "            v2 = dp[i - 1][other][from_] + needed\n",
    "\n",
    "            mv1 = min(mv1, v1)\n",
    "            mv2 = min(mv2, v2)\n",
    "            \n",
    "        dp[i][target][other] = mv1\n",
    "        dp[i][other][target] = mv2\n",
    "        \n",
    "min_result = float('inf')\n",
    "for i in range(5):\n",
    "    for j in range(5):\n",
    "        min_result = min(min_result, dp[-1][i][j])\n",
    "        \n",
    "print(min_result)"
   ]
  },
  {
   "cell_type": "markdown",
   "metadata": {},
   "source": [
    "### 교환 1039"
   ]
  },
  {
   "cell_type": "code",
   "execution_count": 140,
   "metadata": {},
   "outputs": [
    {
     "name": "stdout",
     "output_type": "stream",
     "text": [
      "432 1\n",
      "423\n"
     ]
    }
   ],
   "source": [
    "from itertools import combinations as comb\n",
    "from collections import deque\n",
    "\n",
    "n, k = input().split()\n",
    "k = int(k)\n",
    "\n",
    "def solve():\n",
    "    li = list(map(int, n))\n",
    "    li_len = len(li)\n",
    "    \n",
    "    if li_len == 1 or (li.count(0) == li_len - 1 and li_len == 2):\n",
    "        return [-1]\n",
    "    else:\n",
    "        cases = list(comb(range(li_len), 2))\n",
    "        for _ in range(k):\n",
    "            cands = []\n",
    "            for a, b in cases:\n",
    "                v = li.copy()\n",
    "                v[a], v[b] = v[b], v[a]\n",
    "                if v[0] == 0:\n",
    "                    continue\n",
    "                cands.append(int(''.join(map(str, v))))\n",
    "            cands.sort()\n",
    "            li = list(map(int, str(cands[-1])))\n",
    "            \n",
    "        return li\n",
    "    \n",
    "print(''.join(map(str, solve())))"
   ]
  },
  {
   "cell_type": "markdown",
   "metadata": {},
   "source": [
    "https://codeforces.com/contest/1604/problem/B"
   ]
  },
  {
   "cell_type": "code",
   "execution_count": 2,
   "metadata": {},
   "outputs": [
    {
     "data": {
      "text/plain": [
       "0"
      ]
     },
     "execution_count": 2,
     "metadata": {},
     "output_type": "execute_result"
    }
   ],
   "source": [
    "01 10 11"
   ]
  },
  {
   "cell_type": "code",
   "execution_count": 3,
   "metadata": {},
   "outputs": [
    {
     "data": {
      "text/plain": [
       "3"
      ]
     },
     "execution_count": 3,
     "metadata": {},
     "output_type": "execute_result"
    }
   ],
   "source": [
    "2   5 3 1 4 3 2 2 5 1"
   ]
  },
  {
   "cell_type": "code",
   "execution_count": 9,
   "metadata": {},
   "outputs": [
    {
     "data": {
      "text/plain": [
       "0"
      ]
     },
     "execution_count": 9,
     "metadata": {},
     "output_type": "execute_result"
    }
   ],
   "source": [
    "1 3 4"
   ]
  },
  {
   "cell_type": "code",
   "execution_count": 10,
   "metadata": {},
   "outputs": [
    {
     "data": {
      "text/plain": [
       "1"
      ]
     },
     "execution_count": 10,
     "metadata": {},
     "output_type": "execute_result"
    }
   ],
   "source": [
    "1^1^1"
   ]
  },
  {
   "cell_type": "code",
   "execution_count": 12,
   "metadata": {},
   "outputs": [
    {
     "data": {
      "text/plain": [
       "11"
      ]
     },
     "execution_count": 12,
     "metadata": {},
     "output_type": "execute_result"
    }
   ],
   "source": [
    "5 4 3 2 1\n",
    "\n",
    "1 3 2b"
   ]
  },
  {
   "cell_type": "code",
   "execution_count": 53,
   "metadata": {},
   "outputs": [],
   "source": [
    "del input"
   ]
  },
  {
   "cell_type": "code",
   "execution_count": 56,
   "metadata": {},
   "outputs": [
    {
     "name": "stdout",
     "output_type": "stream",
     "text": [
      "1\n",
      "3\n",
      "1 1 1\n",
      "NO\n"
     ]
    }
   ],
   "source": [
    "import sys\n",
    "input = lambda: sys.stdin.readline().rstrip()\n",
    "\n",
    "for _ in range(int(input())):\n",
    "    n = int(input())\n",
    "    li = list(map(int, input().split()))\n",
    "    \n",
    "    if n % 2 == 0:\n",
    "        print('YES')\n",
    "    else:\n",
    "        if li == sorted(li) and len(set(li)) == n:\n",
    "            print('NO')\n",
    "        else:\n",
    "            print('YES')"
   ]
  },
  {
   "cell_type": "code",
   "execution_count": null,
   "metadata": {},
   "outputs": [],
   "source": [
    "1 2 3\n",
    "\n",
    "1 2 3"
   ]
  },
  {
   "cell_type": "code",
   "execution_count": null,
   "metadata": {},
   "outputs": [],
   "source": [
    "1 1 1"
   ]
  },
  {
   "cell_type": "code",
   "execution_count": 51,
   "metadata": {},
   "outputs": [
    {
     "data": {
      "text/plain": [
       "0"
      ]
     },
     "execution_count": 51,
     "metadata": {},
     "output_type": "execute_result"
    }
   ],
   "source": [
    "1 ^ 1"
   ]
  },
  {
   "cell_type": "code",
   "execution_count": null,
   "metadata": {},
   "outputs": [],
   "source": [
    "1 2 3\n",
    "\n",
    "1 3 2\n",
    "\n",
    "1 2 3 4 5\n",
    "\n",
    "\n",
    "1 2 3 4 5 6 7\n",
    "\n",
    "1 1 2 2"
   ]
  },
  {
   "cell_type": "code",
   "execution_count": 41,
   "metadata": {},
   "outputs": [
    {
     "data": {
      "text/plain": [
       "1"
      ]
     },
     "execution_count": 41,
     "metadata": {},
     "output_type": "execute_result"
    }
   ],
   "source": [
    "1 2 3 4 5\n",
    "\n",
    "1 2 4 5 3\n",
    "\n",
    "2 2 1"
   ]
  },
  {
   "cell_type": "code",
   "execution_count": null,
   "metadata": {},
   "outputs": [],
   "source": [
    "1 3 2\n",
    "\n",
    "\n",
    "1 1"
   ]
  },
  {
   "cell_type": "code",
   "execution_count": 50,
   "metadata": {},
   "outputs": [
    {
     "data": {
      "text/plain": [
       "1"
      ]
     },
     "execution_count": 50,
     "metadata": {},
     "output_type": "execute_result"
    }
   ],
   "source": [
    "2^2^1"
   ]
  },
  {
   "cell_type": "code",
   "execution_count": 33,
   "metadata": {},
   "outputs": [
    {
     "data": {
      "text/plain": [
       "0"
      ]
     },
     "execution_count": 33,
     "metadata": {},
     "output_type": "execute_result"
    }
   ],
   "source": [
    "1 2 3"
   ]
  },
  {
   "cell_type": "code",
   "execution_count": 35,
   "metadata": {},
   "outputs": [
    {
     "data": {
      "text/plain": [
       "1"
      ]
     },
     "execution_count": 35,
     "metadata": {},
     "output_type": "execute_result"
    }
   ],
   "source": [
    "1^1^1"
   ]
  },
  {
   "cell_type": "code",
   "execution_count": null,
   "metadata": {},
   "outputs": [],
   "source": [
    "1 3 2 4 2"
   ]
  },
  {
   "cell_type": "code",
   "execution_count": null,
   "metadata": {},
   "outputs": [],
   "source": [
    "1 2 3 4 5\n",
    "\n",
    "2^3"
   ]
  },
  {
   "cell_type": "code",
   "execution_count": 43,
   "metadata": {},
   "outputs": [
    {
     "name": "stdout",
     "output_type": "stream",
     "text": [
      "6 7\n",
      "3 6\n",
      "4 3\n",
      "3 2\n",
      "1 3\n",
      "1 2\n",
      "2 4\n",
      "5 2\n",
      "4 2 3\n"
     ]
    }
   ],
   "source": [
    "# your code goes here# your code goes \n",
    "import sys\n",
    "\n",
    "N, M = map(int, input().split())\n",
    "INF = int(1e9)\n",
    "graph = [[] for i in range(N+1)]\n",
    "dist = [INF] * (N+1)\n",
    "cnt = 0\n",
    "\n",
    "for line in range(M):\n",
    "    a, b = map(int, input().split())\n",
    "    graph[a].append(b)\n",
    "    graph[b].append(a)\n",
    "\n",
    "dist[1] = 0\n",
    "for v in graph[1]:\n",
    "    dist[v] = 1\n",
    "\n",
    "for i in range(2, N+1):\n",
    "    K = len(graph[i])\n",
    "\n",
    "    for j in range(K):\n",
    "        dist[graph[i][j]] = min(dist[graph[i][j]], dist[i]+1)\n",
    "\n",
    "for i in range(N+1):\n",
    "    if dist[i] == INF:\n",
    "        dist[i] = 0\n",
    "\n",
    "    if dist[i] == max(dist):\n",
    "        cnt+=1\n",
    "        \n",
    "idx = dist.index(max(dist))\n",
    "print(idx, dist[idx], cnt)"
   ]
  },
  {
   "cell_type": "code",
   "execution_count": null,
   "metadata": {},
   "outputs": [],
   "source": [
    "n + m\n",
    "\n",
    "  3     3\n",
    "1 1 1  1 1 1"
   ]
  },
  {
   "cell_type": "code",
   "execution_count": null,
   "metadata": {},
   "outputs": [],
   "source": [
    "1 6 5 4 3 3 2 1"
   ]
  },
  {
   "cell_type": "code",
   "execution_count": 48,
   "metadata": {},
   "outputs": [
    {
     "name": "stdout",
     "output_type": "stream",
     "text": [
      "4 2 3\n"
     ]
    }
   ],
   "source": [
    "from collections import deque\n",
    "import sys\n",
    "input = lambda: sys.stdin.readline().rstrip()\n",
    "\n",
    "n, m = map(int, input().split())\n",
    "li = [[] for _ in range(n + 1)]\n",
    "\n",
    "dists = [float('inf')] * (n + 1)\n",
    "dists[1] = 0\n",
    "for _ in range(m):\n",
    "    a, b = map(int, input().split())\n",
    "    \n",
    "    li[a].append(b)\n",
    "    li[b].append(a)\n",
    "    \n",
    "queue = deque()\n",
    "queue.append(1)\n",
    "while queue:\n",
    "    value = queue.popleft()\n",
    "    \n",
    "    for v in li[value]:\n",
    "        if dists[v] == float('inf'):\n",
    "            dists[v] = dists[value] + 1\n",
    "            queue.append(v)\n",
    "            \n",
    "mv = max(dists[1:]) # max value\n",
    "\n",
    "print(dists.index(mv), mv, dists.count(mv))"
   ]
  },
  {
   "cell_type": "code",
   "execution_count": 8,
   "metadata": {},
   "outputs": [
    {
     "name": "stdout",
     "output_type": "stream",
     "text": [
      "12 3\n",
      "1 5 2 3 6 2 3 7 3 5 2 6\n",
      "1 1 1 2 2 2 2 2 3 3 2 2 "
     ]
    }
   ],
   "source": [
    "from heapq import heappush, heappop\n",
    "\n",
    "n, l = map(int, input().split())\n",
    "li = list(map(int, input().split()))\n",
    "\n",
    "heap = []\n",
    "for i in range(n):\n",
    "    heappush(heap, (li[i], i))\n",
    "    while heap:\n",
    "        temp = heappop(heap)\n",
    "        if temp[1] <= i - l:\n",
    "            continue\n",
    "        else:\n",
    "            print(temp[0], end = ' ')\n",
    "            heappush(heap, temp)\n",
    "            break"
   ]
  },
  {
   "cell_type": "markdown",
   "metadata": {},
   "source": [
    "### 회장뽑기 2660"
   ]
  },
  {
   "cell_type": "code",
   "execution_count": 4,
   "metadata": {},
   "outputs": [
    {
     "name": "stdout",
     "output_type": "stream",
     "text": [
      "5\n",
      "1 2\n",
      "2 3\n",
      "3 4\n",
      "4 5\n",
      "2 4\n",
      "5 3\n",
      "-1 -1\n",
      "2 3\n",
      "2 3 4\n"
     ]
    }
   ],
   "source": [
    "import sys\n",
    "input = lambda: sys.stdin.readline().rstrip()\n",
    "\n",
    "n = int(input())\n",
    "\n",
    "get_value = lambda x: int(x) -1\n",
    "dists = [[float('inf')] * n for _ in range(n)]\n",
    "for i in range(n):\n",
    "    dists[i][i] = 0\n",
    "\n",
    "while True:\n",
    "    a, b = map(get_value, input().split())\n",
    "    if a == -2:\n",
    "        break\n",
    "    \n",
    "    dists[a][b] = 1\n",
    "    dists[b][a] = 1\n",
    "    \n",
    "for mid in range(n):\n",
    "    for i in range(n):\n",
    "        for j in range(n):\n",
    "            \n",
    "            if dists[i][mid] + dists[mid][j] < dists[i][j]:\n",
    "                dists[i][j] = dists[i][mid] + dists[mid][j]\n",
    "                \n",
    "mv = float('inf') # min value\n",
    "mvs = []\n",
    "for i in range(n):\n",
    "    v = max(dists[i])\n",
    "    \n",
    "    if v < mv:\n",
    "        mv = v\n",
    "        mvs = [i + 1]\n",
    "    elif v == mv:\n",
    "        mvs.append(i + 1)\n",
    "        \n",
    "print(mv, len(mvs))\n",
    "print(*mvs)"
   ]
  },
  {
   "cell_type": "markdown",
   "metadata": {},
   "source": [
    "### 부분수열의 합 2 1208"
   ]
  },
  {
   "cell_type": "code",
   "execution_count": 5,
   "metadata": {},
   "outputs": [
    {
     "name": "stdout",
     "output_type": "stream",
     "text": [
      "5 0\n",
      "-7 -3 -2 5 8\n"
     ]
    }
   ],
   "source": [
    "n, s = map(int, input().split())\n",
    "li = list(map(int, input().split()))\n",
    "\n"
   ]
  },
  {
   "cell_type": "code",
   "execution_count": 8,
   "metadata": {},
   "outputs": [],
   "source": [
    "cumul = 0\n",
    "sum_li = [0]\n",
    "for v in li:\n",
    "    cumul += v\n",
    "    sum_li.append(cumul)"
   ]
  },
  {
   "cell_type": "code",
   "execution_count": 22,
   "metadata": {},
   "outputs": [
    {
     "name": "stdout",
     "output_type": "stream",
     "text": [
      "5 0\n",
      "-7 -3 -2 5 8\n",
      "1\n"
     ]
    }
   ],
   "source": [
    "from collections import defaultdict as dd\n",
    "\n",
    "n, s = map(int, input().split())\n",
    "li = list(map(int, input().split()))\n",
    "\n",
    "cumul = 0\n",
    "sum_li = [0]\n",
    "for v in li:\n",
    "    cumul += v\n",
    "    sum_li.append(cumul)\n",
    "\n",
    "total = 0\n",
    "d = dd(int)\n",
    "for v in sum_li:\n",
    "    to_find = v - s\n",
    "    total += d[to_find]\n",
    "    d[v] += 1\n",
    "    \n",
    "print(total)"
   ]
  },
  {
   "cell_type": "markdown",
   "metadata": {},
   "source": [
    "### 물탱크 15972"
   ]
  },
  {
   "cell_type": "code",
   "execution_count": null,
   "metadata": {},
   "outputs": [],
   "source": [
    "1 3 3\n",
    "3 3 2\n",
    "\n",
    "12 3\n",
    "\n",
    "일단 가로 세로 테두리를 추가함\n",
    "추가한 칸의 수위는 0이 됨\n",
    "\n",
    "그리고 각 칸을 연결하는 것을 간선화시킴\n",
    "1번 칸 -> 2번 칸\n",
    "2번 칸 -> 1번 칸\n",
    "\n",
    "그 후로 가장 바깥과 이어진 것부터 전부 우선순위 큐에 넣음\n",
    "\n",
    "새로 갈 방에서 기존 방를 고려하여 조정함\n",
    "\n",
    "다익스트라 과정에서 새로 갈 칸에 기존 칸의 수위와 같거나 낮은 수위가 남아있다면 패스함\n",
    "\n",
    "v칸의 수위가 value칸의 수위보다 높을 때 v칸의 수위는 max(value 칸의 수위, 구멍의 위치)로 변함\n",
    "\n",
    "이전, 전후 비교\n",
    "1 3 5\n",
    "1 3 3\n",
    "\n",
    "1 5 3\n",
    "1 5 3\n",
    "\n",
    "4 3 5\n",
    "4 3 5\n",
    "\n",
    "3 1 5\n",
    "3 1 3"
   ]
  },
  {
   "cell_type": "code",
   "execution_count": 32,
   "metadata": {},
   "outputs": [
    {
     "name": "stdout",
     "output_type": "stream",
     "text": [
      "2 3 5\n",
      "1 -1 -1\n",
      "3 2 -1\n",
      "4 -1 2\n",
      "-1 -1 4 3\n",
      "-1 -1 -1 -1\n",
      "17\n"
     ]
    }
   ],
   "source": [
    "from heapq import heappush, heappop\n",
    "import sys\n",
    "# input = lambda: sys.stdin.readline().rstrip()\n",
    "\n",
    "# n, m, h = map(int, input().split())\n",
    "# n += 2\n",
    "# m += 2\n",
    "\n",
    "# waters = [[h] * m for _ in range(n)]\n",
    "# for j in range(m):\n",
    "#     waters[0][j] = 0\n",
    "#     waters[n - 1][j] = 0\n",
    "    \n",
    "# for i in range(n):\n",
    "#     waters[i][0] = 0\n",
    "#     waters[i][m - 1] = 0\n",
    "\n",
    "# ct = [[[] for _ in range(m)] for _ in range(n)] # connected\n",
    "\n",
    "# for i in range(n - 1):\n",
    "#     temp = list(map(int, input().split()))\n",
    "    \n",
    "#     for j in range(m - 2):\n",
    "#         if temp[j] != -1:\n",
    "#             ct[i][j + 1].append((temp[j], i + 1, j + 1))\n",
    "#             ct[i + 1][j + 1].append((temp[j], i, j + 1))\n",
    "\n",
    "# for i in range(n - 2):\n",
    "#     temp = list(map(int, input().split()))\n",
    "    \n",
    "#     for j in range(m - 1):\n",
    "#         if temp[j] != -1:\n",
    "#             ct[i + 1][j].append((temp[j], i + 1, j + 1))\n",
    "#             ct[i + 1][j + 1].append((temp[j], i + 1 , j))\n",
    "    \n",
    "heap = []\n",
    "\n",
    "for j in range(m):\n",
    "    for v, x2, y2 in ct[0][j]:\n",
    "        heappush(heap, (v, 0, j, x2, y2))\n",
    "    \n",
    "    for v, x2, y2 in ct[n - 1][j]:\n",
    "        heappush(heap, (v, n - 1, j, x2, y2))\n",
    "    \n",
    "for i in range(n):\n",
    "    for v, x2, y2 in ct[i][0]:\n",
    "        heappush(heap, (v, i, 0, x2, y2))\n",
    "        \n",
    "    for v, x2, y2 in ct[i][m - 1]:\n",
    "        heappush(heap, (v, i, m - 1, x2, y2))\n",
    "    \n",
    "while heap:\n",
    "    value, x1, y1, x2, y2 = heappop(heap)\n",
    "    \n",
    "    if waters[x1][y1] >= waters[x2][y2] or value >= waters[x2][y2]:\n",
    "        continue\n",
    "        \n",
    "    nwater = max(waters[x1][y1], value)\n",
    "    waters[x2][y2] = nwater\n",
    "    for v, x3, y3 in ct[x2][y2]:\n",
    "        heappush(heap, (v, x2, y2, x3, y3))\n",
    "    \n",
    "total = 0\n",
    "for i in range(n):\n",
    "    total += sum(waters[i])\n",
    "    \n",
    "print(total)"
   ]
  },
  {
   "cell_type": "code",
   "execution_count": 33,
   "metadata": {},
   "outputs": [
    {
     "name": "stdout",
     "output_type": "stream",
     "text": [
      "[(2, 2), (3, 3), (4, 1)]\n",
      "[(3, 3), (4, 1)]\n",
      "[(4, 1)]\n",
      "[]\n",
      "17\n"
     ]
    }
   ],
   "source": [
    "from heapq import heappush, heappop\n",
    "import sys\n",
    "# input = lambda: sys.stdin.readline().rstrip()\n",
    "\n",
    "n, m, h = map(int, input().split())\n",
    "n += 2\n",
    "m += 2\n",
    "\n",
    "waters = [[h] * m for _ in range(n)]\n",
    "for j in range(m):\n",
    "    waters[0][j] = 0\n",
    "    waters[n - 1][j] = 0\n",
    "    \n",
    "for i in range(n):\n",
    "    waters[i][0] = 0\n",
    "    waters[i][m - 1] = 0\n",
    "\n",
    "ct = [[[] for _ in range(m)] for _ in range(n)] # connected\n",
    "\n",
    "for i in range(n - 1):\n",
    "    temp = list(map(int, input().split()))\n",
    "    \n",
    "    for j in range(m - 2):\n",
    "        if temp[j] != -1:\n",
    "            ct[i][j + 1].append((temp[j], i + 1, j + 1))\n",
    "            ct[i + 1][j + 1].append((temp[j], i, j + 1))\n",
    "\n",
    "for i in range(n - 2):\n",
    "    temp = list(map(int, input().split()))\n",
    "    \n",
    "    for j in range(m - 1):\n",
    "        if temp[j] != -1:\n",
    "            ct[i + 1][j].append((temp[j], i + 1, j + 1))\n",
    "            ct[i + 1][j + 1].append((temp[j], i + 1 , j))\n",
    "    \n",
    "heap = []\n",
    "cur = 0\n",
    "curs = {}\n",
    "\n",
    "for j in range(m):\n",
    "    for v, x2, y2 in ct[0][j]:\n",
    "        curs[cur] = (0, j, x2, y2)\n",
    "        heappush(heap, (v, cur))\n",
    "        cur += 1\n",
    "\n",
    "    \n",
    "    for v, x2, y2 in ct[n - 1][j]:\n",
    "        curs[cur] = (n - 1, j, x2, y2)\n",
    "        heappush(heap, (v, cur))\n",
    "        cur += 1\n",
    "\n",
    "    \n",
    "for i in range(n):\n",
    "    for v, x2, y2 in ct[i][0]:\n",
    "        curs[cur] = (i, 0, x2, y2)\n",
    "        heappush(heap, (v, cur))\n",
    "        cur += 1        \n",
    "\n",
    "        \n",
    "    for v, x2, y2 in ct[i][m - 1]:\n",
    "        curs[cur] = (i, m - 1, x2, y2)\n",
    "        heappush(heap, (v, cur))\n",
    "        cur += 1\n",
    "\n",
    "while heap:\n",
    "    value, num = heappop(heap)\n",
    "    print(heap)\n",
    "    \n",
    "    x1, y1, x2, y2 = curs[num]\n",
    "    del curs[num]\n",
    "    if waters[x1][y1] >= waters[x2][y2] or value >= waters[x2][y2]:\n",
    "        continue\n",
    "        \n",
    "    nwater = max(waters[x1][y1], value)\n",
    "    waters[x2][y2] = nwater\n",
    "    for v, x3, y3 in ct[x2][y2]:\n",
    "        curs[cur] = (x2, y2, x3, y3)\n",
    "        heappush(heap, (v, cur))\n",
    "        cur += 1\n",
    "\n",
    "total = 0\n",
    "for i in range(n):\n",
    "    total += sum(waters[i])\n",
    "    \n",
    "print(total)"
   ]
  },
  {
   "cell_type": "markdown",
   "metadata": {},
   "source": [
    "### 어드벤처 게임 2310"
   ]
  },
  {
   "cell_type": "code",
   "execution_count": 4,
   "metadata": {},
   "outputs": [
    {
     "name": "stdout",
     "output_type": "stream",
     "text": [
      "3\n",
      "E 0 2 0\n",
      "L 10 3 0\n",
      "T 15 1 2 0\n",
      "['E', 'L', 'T'] [0, 10, 15] [{2}, {3}, {1, 2}]\n"
     ]
    }
   ],
   "source": [
    "n = int(input())\n",
    "\n",
    "tps = [] # types\n",
    "ats = [] # amounts\n",
    "cts = [set() for _ in range(n)] # connecteds\n",
    "for i in range(n):\n",
    "    temp = input().split()\n",
    "\n",
    "    tp = temp[0]\n",
    "    at = int(temp[1])\n",
    "    \n",
    "    tps.append(tp)\n",
    "    ats.append(at)\n",
    "    for j in range(2, len(temp) - 1):\n",
    "        cts[i].add(int(temp[j]) - 1)\n",
    "        \n",
    "print(tps, ats, cts)"
   ]
  },
  {
   "cell_type": "code",
   "execution_count": null,
   "metadata": {},
   "outputs": [],
   "source": [
    "from collections import deque\n",
    "\n",
    "while True:\n",
    "    n = int(input())\n",
    "    if n == 0:\n",
    "        break\n",
    "    \n",
    "    tps = [] # types\n",
    "    ats = [] # amounts\n",
    "    cts = [set() for _ in range(n)] # connecteds\n",
    "    for i in range(n):\n",
    "        temp = input().split()\n",
    "\n",
    "        tp = temp[0]\n",
    "        at = int(temp[1])\n",
    "\n",
    "        tps.append(tp)\n",
    "        ats.append(at)\n",
    "        for j in range(2, len(temp) - 1):\n",
    "            cts[i].add(int(temp[j]) - 1)\n",
    "\n",
    "    queue = deque()\n",
    "    queue.append((0, 0, {0})) # (room num, amount, visited) \n",
    "    result = False\n",
    "    while queue:\n",
    "        rn, at, visited = queue.popleft()\n",
    "\n",
    "        if tps[rn] == 'L':\n",
    "            nat = max(at, ats[rn])\n",
    "        elif tps[rn] == 'T':\n",
    "            nat = at - ats[rn]\n",
    "        else:\n",
    "            nat = at\n",
    "\n",
    "        if nat < 0:\n",
    "            continue\n",
    "        else:\n",
    "            if rn == n - 1:\n",
    "                result = True\n",
    "                break\n",
    "\n",
    "            for v in cts[rn]:\n",
    "                if v in visited:\n",
    "                    continue\n",
    "                nvisited = visited | {v}\n",
    "                queue.append((v, nat, nvisited))\n",
    "\n",
    "    if result:\n",
    "        print('YES')\n",
    "    else:\n",
    "        print('NO')"
   ]
  },
  {
   "cell_type": "code",
   "execution_count": null,
   "metadata": {},
   "outputs": [
    {
     "name": "stdout",
     "output_type": "stream",
     "text": [
      "3\n",
      "d\n"
     ]
    }
   ],
   "source": [
    "from collections import deque\n",
    "\n",
    "while True:\n",
    "    n = int(input())\n",
    "    if n == 0:\n",
    "        break\n",
    "    \n",
    "    tps = [] # types\n",
    "    ats = [] # amounts\n",
    "    cts = [set() for _ in range(n)] # connecteds\n",
    "    mats = [-1] * n # max amounts\n",
    "    for i in range(n):\n",
    "        temp = input().split()\n",
    "\n",
    "        tp = temp[0]\n",
    "        at = int(temp[1])\n",
    "\n",
    "        tps.append(tp)\n",
    "        ats.append(at)\n",
    "        for j in range(2, len(temp) - 1):\n",
    "            cts[i].add(int(temp[j]) - 1)\n",
    "\n",
    "    queue = deque()\n",
    "    queue.append((0, 0)) # (room num, amount) \n",
    "    result = False\n",
    "    while queue:\n",
    "        rn, at = queue.popleft()\n",
    "        \n",
    "        if mats[rn] < at:\n",
    "            mats[rn] = at\n",
    "        else:\n",
    "            continue\n",
    "            \n",
    "        if tps[rn] == 'L':\n",
    "            nat = max(at, ats[rn])\n",
    "        elif tps[rn] == 'T':\n",
    "            nat = at - ats[rn]\n",
    "        else:\n",
    "            nat = at\n",
    "\n",
    "        if nat < 0:\n",
    "            continue\n",
    "        else:\n",
    "            if rn == n - 1:\n",
    "                result = True\n",
    "                break\n",
    "\n",
    "            for v in cts[rn]:\n",
    "                queue.append((v, nat))\n",
    "\n",
    "    if result:\n",
    "        print('YES')\n",
    "    else:\n",
    "        print('NO')"
   ]
  },
  {
   "cell_type": "code",
   "execution_count": 17,
   "metadata": {},
   "outputs": [
    {
     "data": {
      "text/plain": [
       "(['E', 'L', 'L', 'T'], [{1, 2}, {1, 2}, {3}, {0, 1, 2}], [0, 201, 10, 15])"
      ]
     },
     "execution_count": 17,
     "metadata": {},
     "output_type": "execute_result"
    }
   ],
   "source": [
    "3\n",
    "T 10 1 2\n",
    "L 30 0 2\n",
    "L 10 0 1"
   ]
  },
  {
   "cell_type": "code",
   "execution_count": null,
   "metadata": {},
   "outputs": [],
   "source": [
    "import sys\n",
    "sys.setrecursionlimit(250000)\n",
    "\n",
    "n = int(input())\n",
    "seq = list(map(int, input().split()))\n",
    "\n",
    "x = 0\n",
    "y = 0\n",
    "\n",
    "def sol(start, end):\n",
    "    global x, y, left, right\n",
    "    \n",
    "    if start == end:\n",
    "        x = start\n",
    "        y = start\n",
    "        return seq[start] * seq[start]\n",
    "    \n",
    "    mid = (start + end) // 2\n",
    "\n",
    "    l_sum = sol(start, mid)\n",
    "    r_sum = sol(mid+1, end)\n",
    "    \n",
    "    result = max(l_sum, r_sum)\n",
    "    \n",
    "    left = mid\n",
    "    right = mid + 1\n",
    "    \n",
    "    x = left\n",
    "    y = right\n",
    "    \n",
    "    hab = seq[left] + seq[right]\n",
    "    mini = min(seq[left], seq[right])\n",
    "    \n",
    "    if result < hab * mini:\n",
    "        x = left\n",
    "        y = right\n",
    "        result = hab * mini\n",
    "    \n",
    "    while start < left or right < end:\n",
    "        if right < end and (start == left or seq[left - 1] < seq[right + 1]):\n",
    "            \n",
    "            right += 1\n",
    "            hab += seq[right]\n",
    "            mini = min(mini, seq[right])\n",
    "            \n",
    "        else:\n",
    "            \n",
    "            left -= 1\n",
    "            hab += seq[left]\n",
    "            mini = min(mini, seq[left])\n",
    "            \n",
    "        \n",
    "        if result < hab * mini:\n",
    "            x = left\n",
    "            y = right\n",
    "            result = hab * mini\n",
    "   \n",
    "        \n",
    "    return result\n",
    "\n",
    "\n",
    "print(sol(0, n-1))\n",
    "print(x+1, y+1)"
   ]
  },
  {
   "cell_type": "code",
   "execution_count": 4,
   "metadata": {},
   "outputs": [
    {
     "name": "stdout",
     "output_type": "stream",
     "text": [
      "4\n",
      "1 2 3 4\n"
     ]
    }
   ],
   "source": [
    "from collections import defaultdict\n",
    "\n",
    "n = int(input())\n",
    "seq = list(map(int, input().split()))\n",
    "\n",
    "dct = defaultdict(list)\n",
    "\n",
    "def sol(start, end):\n",
    "    \n",
    "    if start == end:\n",
    "        dct[seq[start] * seq[start]] = [start, start]\n",
    "        return\n",
    "        \n",
    "    \n",
    "    mid = (start + end) // 2\n",
    "    \n",
    "    l_sum = sol(start, mid)\n",
    "    r_sum = sol(mid+1, end)\n",
    "       \n",
    "    left = mid\n",
    "    right = mid + 1\n",
    "    \n",
    "    hab = seq[left] + seq[right]\n",
    "    mini = min(seq[left], seq[right])\n",
    "    \n",
    "    dct[hab * mini] = [left, right]\n",
    "    \n",
    "    while start < left or right < end:\n",
    "        if right < end and (start == left or seq[left - 1] < seq[right + 1]):\n",
    "            right += 1\n",
    "            hab += seq[right]\n",
    "            mini = min(mini, seq[right])\n",
    "            \n",
    "        else:\n",
    "            left -= 1\n",
    "            hab += seq[left]\n",
    "            mini = min(mini, seq[left])\n",
    "            \n",
    "        dct[hab * mini] = [left, right]\n",
    "\n",
    "sol(0, n-1)"
   ]
  },
  {
   "cell_type": "markdown",
   "metadata": {},
   "source": [
    "### 2번 - 가희와 탑 https://www.acmicpc.net/contest/problem/755/2"
   ]
  },
  {
   "cell_type": "code",
   "execution_count": 18,
   "metadata": {},
   "outputs": [
    {
     "name": "stdout",
     "output_type": "stream",
     "text": [
      "4 1 4\n",
      "4 3 2 1\n"
     ]
    }
   ],
   "source": [
    "n, a, b = map(int, input().split())\n",
    "\n",
    "if a + b > n + 1:\n",
    "    print(-1)\n",
    "else:\n",
    "    if a > b:\n",
    "        right = list(range(b - 1, 0, -1))\n",
    "        mid = list(range(1, a + 1))\n",
    "        remained = n - (len(mid) + len(right))\n",
    "        \n",
    "        left = [1] * remained\n",
    "    elif a <= b:\n",
    "        right = list(range(b, 0, -1))\n",
    "        mid = list(range(1, a))\n",
    "        remained = n - (len(mid) + len(right))\n",
    "        \n",
    "        if remained:\n",
    "            if a > 1:\n",
    "                left = [1] * remained\n",
    "            else:\n",
    "                left = [right[0]] + [1] * (remained - 1)\n",
    "                right[0] = 1\n",
    "        else:\n",
    "            left = []\n",
    "            \n",
    "    r = left + mid + right\n",
    "    \n",
    "    print(*r)"
   ]
  },
  {
   "cell_type": "markdown",
   "metadata": {},
   "source": [
    "https://atcoder.jp/contests/arc133/tasks/arc133_b"
   ]
  },
  {
   "cell_type": "code",
   "execution_count": 22,
   "metadata": {},
   "outputs": [
    {
     "name": "stdout",
     "output_type": "stream",
     "text": [
      "4\n",
      "3 1 4 2\n",
      "4 2 1 3\n"
     ]
    },
    {
     "data": {
      "text/plain": [
       "[(0, 3), (1, 2), (1, 1), (1, 3), (1, 0), (2, 0), (3, 1), (3, 0)]"
      ]
     },
     "execution_count": 22,
     "metadata": {},
     "output_type": "execute_result"
    }
   ],
   "source": [
    "from bisect import bisect_left\n",
    "\n",
    "n = int(input())\n",
    "a = list(map(int, input().split()))\n",
    "b = list(map(int, input().split()))\n",
    "\n",
    "d = dict()\n",
    "for i in range(n):\n",
    "    d[b[i]] = i\n",
    "    \n",
    "a_to_b = []\n",
    "for i in range(n):\n",
    "    cur = a[i]\n",
    "    while cur <= n:\n",
    "        a_to_b.append((i, d[cur]))\n",
    "        cur += a[i]\n",
    "    \n",
    "a_to_b.sort(key=lambda x: (x[0], -x[1]))\n",
    "li = [v[1] for v in a_to_b]\n",
    "\n"
   ]
  },
  {
   "cell_type": "code",
   "execution_count": 39,
   "metadata": {},
   "outputs": [
    {
     "name": "stdout",
     "output_type": "stream",
     "text": [
      "5\n",
      "1 2 3 4 5\n",
      "5 4 3 2 1\n",
      "[4, 3, 2, 1, 0, 3, 1, 2, 1, 0]\n",
      "[3]\n",
      "[2]\n",
      "[1]\n",
      "[0]\n",
      "[0, 3]\n",
      "[0, 1]\n",
      "[0, 1, 2]\n",
      "[0, 1, 2]\n",
      "[0, 1, 2]\n",
      "3\n"
     ]
    }
   ],
   "source": [
    "from bisect import bisect_left\n",
    "\n",
    "from bisect import bisect_left\n",
    "\n",
    "n = int(input())\n",
    "a = list(map(int, input().split()))\n",
    "b = list(map(int, input().split()))\n",
    "\n",
    "d = dict()\n",
    "for i in range(n):\n",
    "    d[b[i]] = i\n",
    "    \n",
    "a_to_b = []\n",
    "for i in range(n):\n",
    "    cur = a[i]\n",
    "    while cur <= n:\n",
    "        a_to_b.append((i, d[cur]))\n",
    "        cur += a[i]\n",
    "    \n",
    "a_to_b.sort(key=lambda x: (x[0], -x[1]))\n",
    "li = [v[1] for v in a_to_b]\n",
    "\n",
    "print(li)\n",
    "\n",
    "nli = [li[0]]\n",
    "for i in range(1, len(li)):\n",
    "    index = bisect_left(nli, li[i])\n",
    "    \n",
    "    if index == len(nli):\n",
    "        nli.append(li[i])\n",
    "    else:\n",
    "        nli[index] = li[i]\n",
    "        \n",
    "    print(nli)\n",
    "        \n",
    "r = len(nli)\n",
    "\n",
    "print(r)"
   ]
  },
  {
   "cell_type": "code",
   "execution_count": 34,
   "metadata": {},
   "outputs": [
    {
     "data": {
      "text/plain": [
       "[0]"
      ]
     },
     "execution_count": 34,
     "metadata": {},
     "output_type": "execute_result"
    }
   ],
   "source": [
    "nli"
   ]
  },
  {
   "cell_type": "code",
   "execution_count": 33,
   "metadata": {},
   "outputs": [
    {
     "data": {
      "text/plain": [
       "[0]"
      ]
     },
     "execution_count": 33,
     "metadata": {},
     "output_type": "execute_result"
    }
   ],
   "source": [
    "nli"
   ]
  }
 ],
 "metadata": {
  "kernelspec": {
   "display_name": "Python 3",
   "language": "python",
   "name": "python3"
  }
 },
 "nbformat": 4,
 "nbformat_minor": 4
}
