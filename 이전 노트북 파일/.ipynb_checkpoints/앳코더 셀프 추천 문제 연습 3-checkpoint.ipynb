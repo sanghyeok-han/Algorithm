{
 "cells": [
  {
   "cell_type": "code",
   "execution_count": null,
   "metadata": {},
   "outputs": [],
   "source": [
    "1300 1400 5\n",
    "1. https://atcoder.jp/contests/abc187/tasks/abc187_e   E. Through Path\n",
    "\n",
    "2. https://atcoder.jp/contests/abc029/tasks/abc029_d   D. 1\n",
    "\n",
    "3. https://atcoder.jp/contests/agc053/tasks/agc053_a   A. >< again\n",
    "\n",
    "4. https://atcoder.jp/contests/arc119/tasks/arc119_c   C. ARC Wrecker 2\n",
    "\n",
    "5. https://atcoder.jp/contests/abc073/tasks/abc073_d   D. joisino's travel"
   ]
  },
  {
   "cell_type": "markdown",
   "metadata": {},
   "source": [
    "1"
   ]
  },
  {
   "cell_type": "code",
   "execution_count": 23,
   "metadata": {},
   "outputs": [
    {
     "name": "stdout",
     "output_type": "stream",
     "text": [
      "11\n",
      "110\n",
      "1110\n",
      "110\n",
      "100\n"
     ]
    }
   ],
   "source": [
    "from collections import defaultdict as dd\n",
    "import sys\n",
    "input = lambda: sys.stdin.readline().rstrip()\n",
    "\n",
    "## PYRIVAL BOOTSTRAP\n",
    "# https://github.com/cheran-senthil/PyRival/blob/master/pyrival/misc/bootstrap.py\n",
    "# This decorator allows for recursion without actually doing recursion\n",
    "## @bootstrap, yield when getting and returning value in recursive functions, end of functions\n",
    "from types import GeneratorType\n",
    "\n",
    "def bootstrap(f, stack=[]):\n",
    "    def wrappedfunc(*args, **kwargs):\n",
    "        if stack:\n",
    "            return f(*args, **kwargs)\n",
    "        else:\n",
    "            to = f(*args, **kwargs)\n",
    "            while True:\n",
    "                if type(to) is GeneratorType:\n",
    "                    stack.append(to)\n",
    "                    to = next(to)\n",
    "                else:\n",
    "                    stack.pop()\n",
    "                    if not stack:\n",
    "                        break\n",
    "                    to = stack[-1].send(to)\n",
    "            return to\n",
    "    return wrappedfunc\n",
    "\n",
    "@bootstrap\n",
    "def dfs(value, cumul):\n",
    "    global to_plus\n",
    "    vt[value] = True\n",
    "    \n",
    "    r[value] = cumul\n",
    "    for v in li[value]:\n",
    "        temp = cumul\n",
    "\n",
    "        if not vt[v]:       \n",
    "            if (value, v) in d:\n",
    "                temp += d[(value, v)]\n",
    "            if (v, value) in d:\n",
    "                temp -= d[(v, value)]\n",
    "                to_plus += d[(v, value)]\n",
    "            \n",
    "            yield dfs(v, temp)\n",
    "    yield\n",
    "             \n",
    "n = int(input())\n",
    "li = [[] for _ in range(n + 1)]\n",
    "edges = []\n",
    "for _ in range(n - 1):\n",
    "    a, b = map(int, input().split())\n",
    "    \n",
    "    edges.append((a, b))\n",
    "    li[a].append(b)\n",
    "    li[b].append(a)\n",
    "    \n",
    "q = int(input())\n",
    "\n",
    "d = dd(int)\n",
    "for _ in range(q):\n",
    "    t, e, x = map(int, input().split())\n",
    "    e -= 1\n",
    "    \n",
    "    a, b = edges[e][0], edges[e][1]\n",
    "    \n",
    "    if t == 2:\n",
    "        d[(a, b)] += x\n",
    "    else:\n",
    "        d[(b, a)] += x\n",
    "    \n",
    "r = [0] * (n + 1)\n",
    "to_plus = 0\n",
    "vt = [False] * (n + 1)\n",
    "dfs(1, 0)\n",
    "\n",
    "for i in range(1, n + 1):\n",
    "    print(r[i] + to_plus)"
   ]
  },
  {
   "cell_type": "markdown",
   "metadata": {},
   "source": [
    "2 (일본어라 패스)"
   ]
  },
  {
   "cell_type": "markdown",
   "metadata": {},
   "source": [
    "3"
   ]
  },
  {
   "cell_type": "code",
   "execution_count": 34,
   "metadata": {},
   "outputs": [
    {
     "name": "stdout",
     "output_type": "stream",
     "text": [
      "5\n",
      "<<>>>\n",
      "[2, 3, 2, 2, 1, 0]\n"
     ]
    }
   ],
   "source": [
    "n = int(input())\n",
    "s = input()\n",
    "mins = [0] * (n + 1)\n",
    "\n",
    "for i in range(n):\n",
    "    if s[i] == '<':\n",
    "        mins[i + 1] = mins[i] + 1\n",
    "    else:\n",
    "        if mins[i] == 0:\n",
    "            for j in range(i + 1):\n",
    "                mins[j] += 1\n",
    "        else:\n",
    "            mins[i] = 0\n",
    "            \n",
    "print(mins)"
   ]
  },
  {
   "cell_type": "code",
   "execution_count": null,
   "metadata": {},
   "outputs": [],
   "source": []
  }
 ],
 "metadata": {
  "kernelspec": {
   "display_name": "Python 3",
   "language": "python",
   "name": "python3"
  },
  "language_info": {
   "codemirror_mode": {
    "name": "ipython",
    "version": 3
   },
   "file_extension": ".py",
   "mimetype": "text/x-python",
   "name": "python",
   "nbconvert_exporter": "python",
   "pygments_lexer": "ipython3",
   "version": "3.8.3"
  }
 },
 "nbformat": 4,
 "nbformat_minor": 4
}
