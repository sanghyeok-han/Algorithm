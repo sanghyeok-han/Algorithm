{
 "cells": [
  {
   "cell_type": "markdown",
   "metadata": {},
   "source": [
    "A"
   ]
  },
  {
   "cell_type": "code",
   "execution_count": 9,
   "metadata": {},
   "outputs": [
    {
     "name": "stdout",
     "output_type": "stream",
     "text": [
      "5 3\n",
      "927291536 144432154 222251432 846751354 648975123\n",
      "105423157 28465 1354216\n",
      "2316212175\n"
     ]
    }
   ],
   "source": [
    "n, m = map(int, input().split())\n",
    "a = sorted(map(int, input().split()), reverse=True)\n",
    "b = sorted(map(int, input().split()))\n",
    "\n",
    "r = 0\n",
    "for i in range(min(n, m)):\n",
    "    diff = a[i] - b[i]\n",
    "    if diff > 0:\n",
    "        r += diff\n",
    "    else:\n",
    "        break\n",
    "        \n",
    "print(r)"
   ]
  },
  {
   "cell_type": "markdown",
   "metadata": {},
   "source": [
    "https://codeforces.com/gym/378521/problem/E E. Sequence Pair Weight"
   ]
  },
  {
   "cell_type": "code",
   "execution_count": 32,
   "metadata": {},
   "outputs": [
    {
     "name": "stdout",
     "output_type": "stream",
     "text": [
      "4\n",
      "1 2 1 1\n"
     ]
    }
   ],
   "source": [
    "n = int(input())\n",
    "li = list(map(int, input().split()))"
   ]
  },
  {
   "cell_type": "code",
   "execution_count": null,
   "metadata": {},
   "outputs": [],
   "source": [
    "두 포인터는 아닐 것\n",
    "세그 트리도 아닐 것 같음\n",
    "\n",
    "이중 포문은 못돌림\n",
    "조합론은 사용될 수 있음"
   ]
  },
  {
   "cell_type": "code",
   "execution_count": 9,
   "metadata": {},
   "outputs": [
    {
     "name": "stdout",
     "output_type": "stream",
     "text": [
      "4\n",
      "1 7\n",
      "2 6\n",
      "3 8\n",
      "4 9\n",
      "1\n"
     ]
    }
   ],
   "source": [
    "from itertools import combinations as comb\n",
    "\n",
    "n = int(input())\n",
    "li = [list(map(int, input().split())) for _ in range(n)]\n",
    "\n",
    "min_diff = float('inf')\n",
    "for num in range(1, n + 1):\n",
    "    for case in comb(range(n), num):\n",
    "        cumul_s, cumul_b = li[case[0]]\n",
    "        \n",
    "        for i in range(1, num):\n",
    "            s, b = li[case[i]]\n",
    "            \n",
    "            cumul_s *= s\n",
    "            cumul_b += b\n",
    "            \n",
    "        diff = abs(cumul_s - cumul_b)\n",
    "        min_diff = min(min_diff, diff)\n",
    "        \n",
    "print(min_diff)"
   ]
  },
  {
   "cell_type": "markdown",
   "metadata": {},
   "source": [
    "https://codeforces.com/gym/380541/problem/D"
   ]
  },
  {
   "cell_type": "code",
   "execution_count": 11,
   "metadata": {},
   "outputs": [
    {
     "name": "stdout",
     "output_type": "stream",
     "text": [
      "36 48 2\n",
      "Yes\n"
     ]
    }
   ],
   "source": [
    "import sys\n",
    "input = lambda: sys.stdin.readline().rstrip()\n",
    "\n",
    "def p_facto(num):\n",
    "    c = 0\n",
    "    for mod in range(2, int(num ** 0.5) + 1):\n",
    "        while num % mod == 0:\n",
    "            num //= mod\n",
    "            c += 1\n",
    "    \n",
    "    if num != 1:\n",
    "        c += 1\n",
    "        \n",
    "    return c\n",
    "        \n",
    "for _ in range(int(input())):\n",
    "    a, b, k = map(int, input().split())\n",
    "    if a > b:\n",
    "        a, b = b, a\n",
    "\n",
    "    if b == 1:\n",
    "        print('No')\n",
    "    elif k == 1:\n",
    "        if a == b:\n",
    "            print('No')\n",
    "        elif b % a == 0:\n",
    "            print('Yes')\n",
    "        else:\n",
    "            print('No')\n",
    "    else:\n",
    "        value = p_facto(a) + p_facto(b)\n",
    "\n",
    "        if k <= value:\n",
    "            print('Yes')\n",
    "        else:\n",
    "            print('No')"
   ]
  },
  {
   "cell_type": "markdown",
   "metadata": {},
   "source": [
    "https://codeforces.com/gym/380541/problem/E"
   ]
  },
  {
   "cell_type": "code",
   "execution_count": 40,
   "metadata": {},
   "outputs": [
    {
     "name": "stdout",
     "output_type": "stream",
     "text": [
      "6 2\n",
      "aaabba\n",
      "ddddcc\n",
      "Yes\n"
     ]
    }
   ],
   "source": [
    "import sys\n",
    "input = lambda: sys.stdin.readline().rstrip()\n",
    "\n",
    "for _ in range(int(input())):\n",
    "    n, k = map(int, input().split())\n",
    "    a = input()\n",
    "    b = input()\n",
    "\n",
    "    a_ct = [0] * 27\n",
    "    b_ct = [0] * 27\n",
    "    for i in range(n):\n",
    "        a_ct[ord(a[i]) - 97] += 1\n",
    "        b_ct[ord(b[i]) - 97] += 1\n",
    "\n",
    "    ip = True\n",
    "    for i in range(26):\n",
    "        if a_ct[i] == b_ct[i]:\n",
    "            continue\n",
    "        if a_ct[i] < b_ct[i]:\n",
    "            ip = False\n",
    "            break\n",
    "        diff = a_ct[i] - b_ct[i]\n",
    "        if diff % k != 0:\n",
    "            ip = False\n",
    "            break\n",
    "\n",
    "        c = diff // k\n",
    "        a_ct[i] -= c * k\n",
    "        a_ct[i + 1] += c * k\n",
    "\n",
    "    if ip:\n",
    "        if a_ct[-1] != b_ct[-1]:\n",
    "            ip = False\n",
    "\n",
    "    if ip:\n",
    "        print('Yes')\n",
    "    else:\n",
    "        print('No')"
   ]
  },
  {
   "cell_type": "markdown",
   "metadata": {},
   "source": [
    "A"
   ]
  },
  {
   "cell_type": "code",
   "execution_count": 7,
   "metadata": {},
   "outputs": [
    {
     "name": "stdout",
     "output_type": "stream",
     "text": [
      "10\n",
      "anzufutaba\n",
      "1\n"
     ]
    }
   ],
   "source": [
    "vowels = 'yuiophjklbnm'\n",
    "\n",
    "n = int(input())\n",
    "s = input()\n",
    "if s[-1] in vowels:\n",
    "    print(0)\n",
    "else:\n",
    "    print(1)"
   ]
  },
  {
   "cell_type": "markdown",
   "metadata": {},
   "source": [
    "E"
   ]
  },
  {
   "cell_type": "code",
   "execution_count": null,
   "metadata": {},
   "outputs": [],
   "source": [
    "  바닥, 앞, 왼, 뒤, 오, 위\n",
    "cur = [0, 1, 2, 3, 4, 5]\n"
   ]
  },
  {
   "cell_type": "code",
   "execution_count": null,
   "metadata": {},
   "outputs": [],
   "source": [
    "오른쪽 이동시\n",
    "cur = [4, 1, 0, 3, 5, 2]\n",
    "\n",
    "왼쪽 이동시\n",
    "cur = [2, 1, 5, 3, 0, 4]\n",
    "\n",
    "위쪽 이동시\n",
    "cur = [3, 0, 2, 5, 4, 1]\n",
    "\n",
    "아래쪽 이동시\n",
    "cur = [1, 5, 2, 0, 4, 3]\n"
   ]
  },
  {
   "cell_type": "code",
   "execution_count": null,
   "metadata": {},
   "outputs": [],
   "source": []
  },
  {
   "cell_type": "code",
   "execution_count": 56,
   "metadata": {},
   "outputs": [
    {
     "name": "stdout",
     "output_type": "stream",
     "text": [
      "7\n"
     ]
    }
   ],
   "source": [
    "from collections import deque, defaultdict as dd\n",
    "import sys\n",
    "# input = lambda: sys.stdin.readline().rstrip()\n",
    "\n",
    "def to_num(cur):\n",
    "    w = 1\n",
    "    total = 0\n",
    "    for i in range(6):\n",
    "        total += cur[i] * w\n",
    "        w *= 10\n",
    "        \n",
    "    total += w\n",
    "        \n",
    "    return total\n",
    "\n",
    "# r, l, u, d\n",
    "changed = [[4, 1, 0, 3, 5, 2], [2, 1, 5, 3, 0, 4], [3, 0, 2, 5, 4, 1], [1, 5, 2, 0, 4, 3]]\n",
    "for d in range(4):\n",
    "    temp = [0] * 6\n",
    "    for i in range(6):\n",
    "        temp[i] = changed[d].index(i)\n",
    "    changed[d] = temp.copy()\n",
    "\n",
    "# n, m = map(int, input().split())\n",
    "# li = [input() for _ in range(n)]\n",
    "\n",
    "sx, sy = -1, -1\n",
    "ex, ey = -1, -1\n",
    "for i in range(n):\n",
    "    for j in range(m):\n",
    "        if li[i][j] == 'D':\n",
    "            sx, sy = i, j\n",
    "        elif li[i][j] == 'R':\n",
    "            ex, ey = i, j\n",
    "\n",
    "inf = float('inf')\n",
    "\n",
    "cur = [0, 1, 2, 3, 4, 5]\n",
    "\n",
    "dists = [[dd(lambda: inf) for _ in range(m)] for _ in range(n)]\n",
    "dists[sx][sy][to_num(cur)] = 0\n",
    "\n",
    "queue = deque()\n",
    "queue.append([sx, sy, cur])\n",
    "\n",
    "dx = [0, 0, -1, 1]\n",
    "dy = [1, -1, 0, 0]\n",
    "while queue:\n",
    "    x, y, cur = queue.popleft()\n",
    "    num = to_num(cur)\n",
    "    \n",
    "    for d in range(4):\n",
    "        nx = x + dx[d]\n",
    "        ny = y + dy[d]\n",
    "        \n",
    "        if nx < 0 or nx >= n or ny < 0 or ny >= m or li[nx][ny] == '#':\n",
    "            continue\n",
    "        ncur = cur[:]\n",
    "        \n",
    "        for i in range(6):\n",
    "            ncur[changed[d][i]] = cur[i]\n",
    "            \n",
    "        nnum = to_num(ncur)\n",
    "\n",
    "        if dists[x][y][num] + 1 < dists[nx][ny][nnum]:\n",
    "            dists[nx][ny][nnum] = dists[x][y][num] + 1\n",
    "            queue.append([nx, ny, ncur])\n",
    "            \n",
    "r = inf\n",
    "for key in dists[ex][ey].keys():\n",
    "    if key % 10 == 0:\n",
    "        r = min(r, dists[ex][ey][key])\n",
    "\n",
    "if r == inf:\n",
    "    print(-1)\n",
    "else:\n",
    "    print(r)"
   ]
  },
  {
   "cell_type": "code",
   "execution_count": 54,
   "metadata": {},
   "outputs": [],
   "source": [
    "changed = [[4, 1, 0, 3, 5, 2], [2, 1, 5, 3, 0, 4], [3, 0, 2, 5, 4, 1], [1, 5, 2, 0, 4, 3]]\n",
    "for d in range(4):\n",
    "    temp = [0] * 6\n",
    "    for i in range(6):\n",
    "        temp[i] = changed[d].index(i)\n",
    "    changed[d] = temp.copy()"
   ]
  },
  {
   "cell_type": "markdown",
   "metadata": {},
   "source": [
    "### temp"
   ]
  },
  {
   "cell_type": "code",
   "execution_count": null,
   "metadata": {},
   "outputs": [],
   "source": [
    "li = [2, 5, 3, 1, 4]\n",
    "n = len(li)\n",
    "\n",
    "result = [0] * n\n",
    "for i in range(n - 1):\n",
    "    min_v = n + 1\n",
    "    min_v_index = -1\n",
    "    for j in range(i + 1, n):\n",
    "        if li[j] < min_v:\n",
    "            min_v = li[j]\n",
    "            min_v_index = j\n",
    "            \n",
    "    if min_v < li[i]:\n",
    "        result[i] += 1\n",
    "        result[min_v_index] += 1\n",
    "        li[i], li[min_v_index] = li[min_v_index], li[i]\n",
    "        \n",
    "print(result)"
   ]
  },
  {
   "cell_type": "markdown",
   "metadata": {},
   "source": [
    "### temp4"
   ]
  },
  {
   "cell_type": "code",
   "execution_count": null,
   "metadata": {},
   "outputs": [],
   "source": [
    "from collections import deque\n",
    "\n",
    "inf = float('inf')\n",
    "\n",
    "li = [\".F.FFFFF.F\", \".########.\", \".########F\",\n",
    "      \"...######F\", \"##.######F\", \"...######F\",\n",
    "      \".########F\", \".########.\", \".#...####F\",\n",
    "      \"...#......\"]\n",
    "k = 6\n",
    "n, m = len(li), len(li[0])\n",
    "\n",
    "needed = [[[inf] * (k + 1) for _ in range(m)] for _ in range(n)]\n",
    "needed[0][0][k] = 0\n",
    "\n",
    "dx = [-1, 1, 0, 0]\n",
    "dy = [0, 0, -1, 1]\n",
    "\n",
    "queue = deque()\n",
    "queue.append((0, 0, k, 0)) # x, y, remained_k, spent_days\n",
    "while queue:\n",
    "    x, y, remained_k, spent_days = queue.popleft()\n",
    "    \n",
    "    if remained_k >= 1:\n",
    "        for i in range(4):\n",
    "            nx = x + dx[i]\n",
    "            ny = y + dy[i]\n",
    "            \n",
    "            if nx < 0 or nx >= n or ny < 0 or ny >= m:\n",
    "                continue\n",
    "            if li[nx][ny] == '#':\n",
    "                continue\n",
    "            if spent_days < needed[nx][ny][remained_k - 1]:\n",
    "                needed[nx][ny][remained_k - 1] = spent_days\n",
    "                queue.append((nx, ny, remained_k - 1, spent_days))\n",
    "                \n",
    "    if li[x][y] == '.' and remained_k < k:\n",
    "        if spent_days + 1 < needed[x][y][k]:\n",
    "            needed[x][y][k] = spent_days + 1\n",
    "            queue.append((x, y, k, spent_days + 1))\n",
    "            \n",
    "r = inf\n",
    "for remained_k in range(k + 1):\n",
    "    r = min(r, needed[-1][-1][remained_k])\n",
    "    \n",
    "print(r)"
   ]
  },
  {
   "cell_type": "code",
   "execution_count": 9,
   "metadata": {},
   "outputs": [
    {
     "name": "stdout",
     "output_type": "stream",
     "text": [
      "5\n",
      "? 1\n",
      "0 4 1 3 2\n",
      "? 3\n",
      "1 3 0 2 1\n",
      "? 4\n",
      "3 1 2 0 1\n",
      "!\n",
      "4 5\n",
      "2 4\n",
      "1 3\n",
      "3 5\n"
     ]
    }
   ],
   "source": [
    "from collections import deque\n",
    "import sys\n",
    "# input = lambda: sys.stdin.readline().rstrip()\n",
    " \n",
    "n = int(input())\n",
    " \n",
    "c = 1\n",
    "r = set()\n",
    "\n",
    "print('?', 1)\n",
    "sys.stdout.flush()\n",
    "li = list(map(int, input().split()))\n",
    "\n",
    "to_visit1 = []\n",
    "to_visit2 = []\n",
    "for i in range(1, n):\n",
    "    if li[i] % 2 == 0:\n",
    "        to_visit1.append(i + 1)\n",
    "    else:\n",
    "        to_visit2.append(i + 1)\n",
    "    if li[i] == 1:\n",
    "        r.add((1, i + 1))\n",
    "        \n",
    "if len(to_visit1) < len(to_visit2):\n",
    "    to_visit = to_visit1\n",
    "else:\n",
    "    to_visit = to_visit2\n",
    "\n",
    "for value in to_visit:\n",
    "    print('?', value)\n",
    "    sys.stdout.flush()\n",
    "    \n",
    "    li = list(map(int, input().split()))\n",
    "    for i in range(n):\n",
    "        if li[i] == 1:\n",
    "            r.add(tuple(sorted((value, i + 1))))\n",
    "    \n",
    "print('!')\n",
    "sys.stdout.flush()\n",
    "for a, b in r:\n",
    "    print(a, b)\n",
    "    sys.stdout.flush()"
   ]
  },
  {
   "cell_type": "markdown",
   "metadata": {},
   "source": [
    "외벽 점검 디버깅"
   ]
  },
  {
   "cell_type": "code",
   "execution_count": null,
   "metadata": {},
   "outputs": [],
   "source": []
  },
  {
   "cell_type": "code",
   "execution_count": 1,
   "metadata": {},
   "outputs": [
    {
     "data": {
      "text/plain": [
       "(1, 2)"
      ]
     },
     "execution_count": 1,
     "metadata": {},
     "output_type": "execute_result"
    }
   ],
   "source": [
    "from itertools import permutations\n",
    "\n",
    "def solution1(n, weak, dist):\n",
    "    answer = int(1e9)\n",
    "    \n",
    "    w_len = len(weak)\n",
    "    weakpoint = weak + [i + n for i in weak]\n",
    "    \n",
    "    for i in range(w_len):\n",
    "        start = [weakpoint[j] for j in range(i, i + w_len)]\n",
    "        for case in permutations(dist):\n",
    "            count = 1\n",
    "            cover = start[0]\n",
    "            idx = 0\n",
    "            \n",
    "            for k in range(w_len):\n",
    "                cover += case[idx]\n",
    "                \n",
    "                if cover < start[k]:\n",
    "                    count += 1\n",
    "                    idx += 1\n",
    "                    cover = start[k]\n",
    "                    \n",
    "                    if count > len(case):\n",
    "                        break\n",
    "                    \n",
    "                    \n",
    "            answer = min(answer, count)\n",
    "                    \n",
    "    answer = -1 if answer == int(1e9) else answer\n",
    "    \n",
    "    return answer\n",
    "\n",
    "\n",
    "def solution2(n, weak, dist):\n",
    "    from itertools import permutations\n",
    "    answer = len(dist) + 1 # 점검이 불가능한 경우 가정\n",
    "    weak_length = len(weak)\n",
    "\n",
    "    #1. 길이를 두배로 늘리면 방향을 고려할 필요가 없음\n",
    "    for i in range(weak_length):\n",
    "        weak.append(weak[i] + n)\n",
    "\n",
    "    dist_combin = list(map(list,permutations(dist,len(dist)))) #2. dist의 모든 경우의 수를 구한다.\n",
    "\n",
    "    for i in range(weak_length):\n",
    "        start = [weak[j] for j in range(i, i+weak_length)] #시작점을 하나씩 바꾸면서, weak의 길이만큼 잘라서 사용한다.\n",
    "        for dist_p in dist_combin:\n",
    "            result = 1 # dist 친구 활용 개수\n",
    "            dist_distance = 0 #거리\n",
    "            check_len = start[0] + dist_p[0] # dist의 친구가 확인할 수 있는 최대 거리\n",
    "\n",
    "            for k in range(weak_length):\n",
    "                if start[k] > check_len: #확인 가능한 최대 거리를 넘었을 경우\n",
    "                    result += 1 # 활용되는 dist의 친구 수 추가\n",
    "                    # 더이상 투입 인원이 없을 경우\n",
    "                    if result > len(dist_p):\n",
    "                        break\n",
    "                    dist_distance += 1 #다음친구를 투입\n",
    "                    check_len = start[k] + dist_p[dist_distance] #친구가 확인할 수 있는 거리 업데이트\n",
    "\n",
    "            answer = min(answer,result) #작은 값을 선택한다.\n",
    "\n",
    "    if answer > len(dist): #만약 weak를 다 체크하지 못하면 -1 리턴\n",
    "         return -1\n",
    "    return answer\n",
    "\n",
    "n = 12\n",
    "weak = [1, 5, 6, 10]\n",
    "dist = [1, 2, 3, 4]\n",
    "\n",
    "solution1(n, weak, dist), solution2(n, weak, dist)"
   ]
  },
  {
   "cell_type": "markdown",
   "metadata": {},
   "source": [
    "1"
   ]
  },
  {
   "cell_type": "code",
   "execution_count": null,
   "metadata": {},
   "outputs": [],
   "source": [
    "def get_divisors(num):\n",
    "    divisors = set()\n",
    "    for mod in range(1, int(num ** 0.5) + 1):\n",
    "        if num % mod == 0:\n",
    "            divisors.add(mod)\n",
    "            divisors.add(num // mod)\n",
    "            \n",
    "    return len(divisors)\n",
    "\n",
    "n = 3\n",
    "m = 3000\n",
    "\n",
    "max_num = 30000\n",
    "ip = [True] * (max_num + 1)\n",
    "ip[0] = ip[1] = False\n",
    "for mod in range(2, int(max_num ** 0.5) + 1):\n",
    "    if ip[mod]:\n",
    "        for v in range(mod * mod, max_num + 1, mod):\n",
    "            ip[v] = False\n",
    "            \n",
    "primes = [i for i, v in enumerate(ip) if v]\n",
    "\n",
    "\n",
    "if n == 4:\n",
    "    c = 0\n",
    "    cur = 1\n",
    "    while True:\n",
    "        if get_divisors(cur) == 4:\n",
    "            c += 1\n",
    "\n",
    "            if c == m:\n",
    "                break\n",
    "\n",
    "        cur += 1\n",
    "\n",
    "    print(cur)\n",
    "elif n == 2:\n",
    "    r = primes[m - 1]\n",
    "    \n",
    "    print(r)\n",
    "elif n == 3:\n",
    "    r = primes[m - 1] ** 2\n",
    "    \n",
    "    print(r)"
   ]
  },
  {
   "cell_type": "code",
   "execution_count": 18,
   "metadata": {},
   "outputs": [
    {
     "name": "stdout",
     "output_type": "stream",
     "text": [
      "3\n",
      "82\n",
      "591\n"
     ]
    }
   ],
   "source": [
    "n = 3\n",
    "li = ['5', '98', '123']\n",
    "direction = -1 # -1이면 반시계, 1이면 시계\n",
    "\n",
    "def rotate(li):\n",
    "    new_li = [[-1] * n for _ in range(n)]\n",
    "    \n",
    "    for i in range(n):\n",
    "        for j in range(n):\n",
    "            new_li[i][j] = li[j][n - 1 - i]\n",
    "            \n",
    "    return new_li\n",
    "\n",
    "nli = []\n",
    "for temp in li:\n",
    "    ntemp = list(map(int, temp))\n",
    "    ntemp.extend([-1] * (n - len(temp)))\n",
    "    nli.append(ntemp)\n",
    "\n",
    "if direction == -1:\n",
    "    nli = rotate(nli)\n",
    "else:\n",
    "    for _ in range(3):\n",
    "        nli = rotate(nli)\n",
    "        \n",
    "for v in nli:\n",
    "    to_merge = []\n",
    "    for w in v:\n",
    "        if w != -1:\n",
    "            to_merge.append(str(w))\n",
    "    r = ''.join(to_merge)\n",
    "    \n",
    "    print(r)"
   ]
  },
  {
   "cell_type": "code",
   "execution_count": null,
   "metadata": {},
   "outputs": [],
   "source": [
    "n = 6\n",
    "li = [1, 1, 10, 10, 100, 100]\n",
    "\n",
    "cur = []\n",
    "total = 0\n",
    "for v in li:\n",
    "    if len(cur) < 2:\n",
    "        cur.append(v)\n",
    "        continue\n",
    "        \n",
    "    if min(cur) < v:\n",
    "        total += v - min(cur)\n",
    "        cur.remove()"
   ]
  },
  {
   "cell_type": "code",
   "execution_count": 5,
   "metadata": {},
   "outputs": [
    {
     "name": "stdout",
     "output_type": "stream",
     "text": [
      "7\n",
      "2 2 1 3 3 4 2 \n",
      "YES\n"
     ]
    }
   ],
   "source": [
    "n = int(input())\n",
    "li = list(map(int, input().split()))\n",
    "\n",
    "cases = ['r', 'rr', 'rrr', 'l', 'lr', 'rl', 'lrr', 'rlr', 'rrl']\n",
    "\n",
    "result = False\n",
    "for case in cases:\n",
    "    cur = 0\n",
    "    for direction in case:\n",
    "        if direction == 'r':\n",
    "            cur += li[cur]\n",
    "        else:\n",
    "            cur -= li[cur]\n",
    "            \n",
    "        if cur < 0 or cur >= n:\n",
    "            break\n",
    "            \n",
    "    if cur == n - 1:\n",
    "        result = True\n",
    "        break\n",
    "        \n",
    "if result:\n",
    "    print('YES')\n",
    "else:\n",
    "    print('NO')"
   ]
  },
  {
   "cell_type": "code",
   "execution_count": null,
   "metadata": {},
   "outputs": [],
   "source": [
    "6\n",
    "3 3 3 1 7 4\n",
    "'YES'\n",
    "\n",
    "9\n",
    "8 8 8 8 8 8 8 8 8\n",
    "'YES'\n",
    "\n",
    "2\n",
    "1 1\n",
    "'YES'\n",
    "\n",
    "2\n",
    "2 1\n",
    "'NO'\n",
    "\n"
   ]
  },
  {
   "cell_type": "code",
   "execution_count": 306,
   "metadata": {},
   "outputs": [],
   "source": [
    "from random import randint\n",
    "\n",
    "test_cases = [[6, [3, 3, 3, 1, 7, 4]], [9, [8, 8, 8, 8, 8, 8, 8, 8, 8]], [2, [1, 1]], [2, [2, 1]]]\n",
    "answers = ['YES', 'YES', 'YES', 'NO']\n",
    "\n",
    "for _ in range(100):\n",
    "    n = randint(5, 10)\n",
    "    arr = [randint(1, n) for _ in range(n)]\n",
    "\n",
    "    cases = ['r', 'rr', 'rrr', 'l', 'lr', 'rl', 'lrr', 'rlr', 'rrl']\n",
    "    \n",
    "    result = 'NO'\n",
    "    for case in cases:\n",
    "        cur = 0\n",
    "        for direction in case:\n",
    "            if direction == 'r':\n",
    "                cur += arr[cur]\n",
    "            else:\n",
    "                cur -= arr[cur]\n",
    "\n",
    "            if cur < 0 or cur >= n:\n",
    "                break\n",
    "\n",
    "        if cur == n - 1:\n",
    "            result = 'YES'\n",
    "            break\n",
    "\n",
    "    test_cases.append([n, arr])\n",
    "    answers.append(result)"
   ]
  },
  {
   "cell_type": "code",
   "execution_count": 307,
   "metadata": {},
   "outputs": [
    {
     "data": {
      "text/plain": [
       "[[6, [3, 3, 3, 1, 7, 4]],\n",
       " [9, [8, 8, 8, 8, 8, 8, 8, 8, 8]],\n",
       " [2, [1, 1]],\n",
       " [2, [2, 1]],\n",
       " [7, [7, 4, 7, 6, 6, 2, 6]],\n",
       " [6, [3, 5, 5, 3, 3, 6]],\n",
       " [8, [8, 7, 4, 2, 2, 1, 2, 7]],\n",
       " [9, [6, 7, 4, 3, 5, 7, 3, 6, 6]],\n",
       " [6, [6, 2, 3, 1, 3, 5]],\n",
       " [5, [2, 1, 3, 5, 2]],\n",
       " [7, [2, 4, 1, 1, 7, 2, 7]],\n",
       " [9, [5, 6, 1, 4, 4, 7, 9, 8, 8]],\n",
       " [7, [4, 7, 2, 3, 4, 5, 3]],\n",
       " [8, [5, 6, 8, 3, 8, 4, 8, 4]],\n",
       " [5, [2, 5, 2, 5, 3]],\n",
       " [6, [4, 2, 3, 1, 5, 5]],\n",
       " [7, [7, 7, 4, 6, 5, 2, 5]],\n",
       " [8, [8, 1, 7, 2, 6, 3, 6, 1]],\n",
       " [7, [4, 1, 6, 4, 7, 1, 4]],\n",
       " [6, [1, 2, 2, 2, 4, 6]],\n",
       " [10, [1, 5, 8, 9, 4, 6, 4, 7, 5, 4]],\n",
       " [10, [10, 3, 8, 3, 7, 3, 6, 1, 7, 4]],\n",
       " [9, [8, 7, 6, 2, 2, 1, 9, 7, 9]],\n",
       " [8, [1, 5, 4, 3, 3, 6, 4, 5]],\n",
       " [8, [2, 8, 1, 4, 3, 1, 4, 8]],\n",
       " [6, [2, 2, 6, 3, 5, 2]],\n",
       " [9, [2, 2, 7, 8, 8, 2, 6, 3, 3]],\n",
       " [7, [4, 4, 5, 5, 4, 6, 5]],\n",
       " [5, [2, 4, 1, 1, 5]],\n",
       " [9, [7, 3, 5, 4, 6, 9, 7, 4, 3]],\n",
       " [7, [7, 6, 7, 7, 4, 5, 3]],\n",
       " [5, [3, 2, 5, 5, 3]],\n",
       " [5, [2, 4, 1, 4, 5]],\n",
       " [8, [7, 2, 6, 1, 6, 1, 3, 8]],\n",
       " [7, [2, 3, 2, 5, 7, 2, 4]],\n",
       " [6, [5, 6, 3, 4, 5, 1]],\n",
       " [7, [2, 6, 5, 7, 4, 3, 3]],\n",
       " [10, [4, 3, 6, 6, 1, 4, 7, 9, 1, 7]],\n",
       " [9, [5, 5, 2, 8, 2, 8, 6, 4, 1]],\n",
       " [6, [2, 1, 1, 5, 1, 4]],\n",
       " [9, [2, 3, 8, 4, 9, 5, 2, 8, 3]],\n",
       " [8, [7, 6, 1, 6, 3, 8, 5, 6]],\n",
       " [10, [6, 5, 10, 1, 1, 3, 6, 8, 6, 9]],\n",
       " [6, [3, 4, 5, 1, 2, 6]],\n",
       " [8, [1, 2, 7, 3, 5, 2, 6, 3]],\n",
       " [10, [6, 7, 9, 6, 8, 9, 2, 5, 6, 3]],\n",
       " [5, [4, 5, 4, 1, 5]],\n",
       " [7, [7, 4, 6, 2, 3, 7, 6]],\n",
       " [6, [4, 3, 4, 2, 4, 1]],\n",
       " [5, [5, 4, 5, 2, 3]],\n",
       " [10, [8, 8, 1, 8, 5, 4, 7, 5, 3, 3]],\n",
       " [6, [1, 3, 6, 4, 5, 6]],\n",
       " [10, [4, 5, 4, 5, 5, 2, 4, 3, 3, 5]],\n",
       " [10, [4, 9, 1, 9, 2, 7, 2, 7, 2, 5]],\n",
       " [9, [9, 2, 4, 1, 2, 1, 8, 6, 4]],\n",
       " [7, [5, 1, 3, 5, 7, 3, 3]],\n",
       " [5, [2, 3, 5, 2, 3]],\n",
       " [8, [5, 2, 7, 8, 6, 4, 7, 2]],\n",
       " [8, [7, 4, 8, 1, 2, 5, 2, 8]],\n",
       " [9, [4, 4, 1, 8, 7, 1, 1, 8, 9]],\n",
       " [7, [6, 5, 1, 2, 2, 1, 5]],\n",
       " [10, [8, 6, 5, 3, 10, 9, 4, 10, 6, 1]],\n",
       " [7, [4, 6, 1, 6, 4, 6, 5]],\n",
       " [10, [4, 1, 2, 6, 4, 6, 7, 4, 3, 4]],\n",
       " [6, [2, 6, 2, 4, 5, 6]],\n",
       " [10, [7, 1, 1, 6, 7, 3, 5, 3, 3, 9]],\n",
       " [5, [2, 1, 3, 5, 2]],\n",
       " [8, [6, 6, 8, 4, 7, 4, 3, 5]],\n",
       " [6, [1, 6, 2, 6, 5, 3]],\n",
       " [6, [6, 3, 5, 5, 4, 4]],\n",
       " [10, [8, 5, 1, 1, 5, 8, 4, 4, 5, 4]],\n",
       " [5, [5, 2, 3, 1, 5]],\n",
       " [6, [2, 6, 2, 2, 3, 3]],\n",
       " [10, [6, 8, 6, 3, 7, 7, 4, 3, 2, 8]],\n",
       " [5, [5, 2, 3, 4, 1]],\n",
       " [6, [6, 5, 4, 1, 2, 3]],\n",
       " [10, [3, 4, 8, 8, 7, 3, 7, 8, 4, 4]],\n",
       " [10, [2, 3, 5, 5, 5, 3, 5, 10, 6, 10]],\n",
       " [9, [4, 6, 1, 5, 4, 2, 4, 4, 1]],\n",
       " [10, [1, 5, 2, 2, 8, 8, 9, 7, 10, 4]],\n",
       " [6, [3, 1, 1, 6, 3, 5]],\n",
       " [6, [4, 5, 6, 3, 6, 4]],\n",
       " [8, [2, 7, 8, 6, 1, 7, 3, 8]],\n",
       " [7, [5, 3, 3, 3, 7, 3, 6]],\n",
       " [5, [2, 3, 1, 1, 4]],\n",
       " [10, [6, 3, 10, 4, 2, 2, 4, 4, 9, 7]],\n",
       " [8, [2, 5, 1, 1, 7, 2, 7, 8]],\n",
       " [10, [6, 1, 2, 4, 9, 3, 10, 5, 6, 10]],\n",
       " [5, [4, 3, 3, 3, 1]],\n",
       " [9, [3, 3, 9, 7, 4, 1, 9, 6, 7]],\n",
       " [10, [8, 3, 4, 1, 6, 9, 10, 7, 7, 5]],\n",
       " [6, [2, 5, 2, 3, 1, 1]],\n",
       " [8, [1, 6, 4, 5, 6, 5, 6, 8]],\n",
       " [6, [1, 3, 1, 1, 4, 2]],\n",
       " [9, [5, 4, 1, 8, 8, 3, 5, 4, 5]],\n",
       " [7, [5, 5, 4, 1, 6, 6, 5]],\n",
       " [8, [8, 7, 4, 8, 4, 7, 3, 2]],\n",
       " [7, [7, 4, 3, 3, 7, 4, 5]],\n",
       " [6, [3, 5, 3, 4, 2, 3]],\n",
       " [7, [3, 1, 1, 5, 4, 1, 7]],\n",
       " [8, [1, 7, 8, 5, 3, 5, 2, 2]],\n",
       " [7, [4, 1, 2, 1, 4, 6, 3]],\n",
       " [5, [1, 2, 5, 5, 3]],\n",
       " [7, [6, 4, 6, 1, 6, 2, 2]]]"
      ]
     },
     "execution_count": 307,
     "metadata": {},
     "output_type": "execute_result"
    }
   ],
   "source": [
    "test_cases"
   ]
  },
  {
   "cell_type": "code",
   "execution_count": 310,
   "metadata": {},
   "outputs": [
    {
     "name": "stdout",
     "output_type": "stream",
     "text": [
      "['YES', 'YES', 'YES', 'NO', 'NO', 'NO', 'NO', 'NO', 'NO', 'NO', 'NO', 'NO', 'NO', 'YES', 'YES', 'NO', 'NO', 'NO', 'NO', 'YES', 'NO', 'NO', 'YES', 'NO', 'YES', 'NO', 'NO', 'NO', 'YES', 'NO', 'NO', 'NO', 'NO', 'YES', 'NO', 'YES', 'NO', 'YES', 'NO', 'NO', 'NO', 'YES', 'NO', 'NO', 'NO', 'NO', 'YES', 'NO', 'NO', 'NO', 'YES', 'NO', 'YES', 'NO', 'NO', 'NO', 'NO', 'NO', 'YES', 'NO', 'YES', 'NO', 'NO', 'NO', 'NO', 'NO', 'NO', 'YES', 'NO', 'NO', 'NO', 'NO', 'NO', 'NO', 'NO', 'NO', 'NO', 'NO', 'YES', 'NO', 'NO', 'NO', 'NO', 'NO', 'YES', 'NO', 'NO', 'NO', 'YES', 'NO', 'NO', 'YES', 'YES', 'NO', 'YES', 'NO', 'NO', 'NO', 'NO', 'NO', 'NO', 'NO', 'NO', 'YES']\n"
     ]
    }
   ],
   "source": [
    "print(answers)"
   ]
  },
  {
   "cell_type": "code",
   "execution_count": null,
   "metadata": {},
   "outputs": [],
   "source": [
    "10\n",
    "[8, 1, 4, 4, 10, 4, 4, 7, 1, 1]\n",
    "YES\n",
    "\n",
    "10\n",
    "[8, 1, 4, 4, 10, 4, 4, 7, 1, 1]\n",
    "YES\n",
    "\n",
    "10\n",
    "[10, 4, 6, 2, 7, 2, 10, 9, 8, 8]\n",
    "NO\n",
    "\n",
    "10\n",
    "[2, 1, 10, 9, 8, 2, 1, 7, 2, 4]\n",
    "NO\n",
    "\n",
    "10\n",
    "[7, 4, 9, 3, 6, 4, 7, 8, 2, 8]\n",
    "NO"
   ]
  },
  {
   "cell_type": "code",
   "execution_count": 603,
   "metadata": {},
   "outputs": [],
   "source": [
    "def solution(n, m, arr):\n",
    "    sum_counts = {}\n",
    "\n",
    "    for i in range(n):\n",
    "        sum_value = sum(arr[i])\n",
    "\n",
    "        if sum_value in sum_counts:\n",
    "            sum_counts[sum_value] += 1\n",
    "        else:\n",
    "            sum_counts[sum_value] = 1\n",
    "\n",
    "    for j in range(m):\n",
    "        sum_value = 0\n",
    "        for i in range(n):\n",
    "            sum_value += arr[i][j]\n",
    "\n",
    "        if sum_value in sum_counts:\n",
    "            sum_counts[sum_value] += 1\n",
    "        else:\n",
    "            sum_counts[sum_value] = 1    \n",
    "\n",
    "    a = max(sum_counts.values())\n",
    "\n",
    "    counts = {}\n",
    "    for i in range(n):\n",
    "        for j in range(m):\n",
    "            if arr[i][j] in counts:\n",
    "                counts[arr[i][j]] += 1\n",
    "            else:\n",
    "                counts[arr[i][j]] = 1\n",
    "\n",
    "    b = max(counts.values())\n",
    "\n",
    "    result = ''\n",
    "    if a + b >= 5:\n",
    "        result = 'YES'\n",
    "    else:\n",
    "        result = 'NO'\n",
    "        \n",
    "    return result"
   ]
  },
  {
   "cell_type": "code",
   "execution_count": 737,
   "metadata": {},
   "outputs": [],
   "source": [
    "from random import randint\n",
    "\n",
    "test_cases = []\n",
    "ans = []\n",
    "\n",
    "for _ in range(100):\n",
    "    n = randint(2, 5)\n",
    "    m = randint(2, 5)\n",
    "    arr = [[0] * m for _ in range(n)]\n",
    "    for i in range(n):\n",
    "        for j in range(m):\n",
    "            arr[i][j] = randint(1, 10)\n",
    "\n",
    "    test_cases.append([n, m, arr])\n",
    "    ans = solution(n, m, arr)\n",
    "    answers.append(ans)"
   ]
  }
 ],
 "metadata": {
  "kernelspec": {
   "display_name": "Python 3",
   "language": "python",
   "name": "python3"
  },
  "language_info": {
   "codemirror_mode": {
    "name": "ipython",
    "version": 3
   },
   "file_extension": ".py",
   "mimetype": "text/x-python",
   "name": "python",
   "nbconvert_exporter": "python",
   "pygments_lexer": "ipython3",
   "version": "3.8.3"
  }
 },
 "nbformat": 4,
 "nbformat_minor": 4
}
