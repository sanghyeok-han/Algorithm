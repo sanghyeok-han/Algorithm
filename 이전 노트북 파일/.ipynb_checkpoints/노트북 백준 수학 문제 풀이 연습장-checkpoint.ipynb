{
 "cells": [
  {
   "cell_type": "markdown",
   "metadata": {},
   "source": [
    "tag:math tier:s5..g1 (solved_by:sangyoon9|solved_by:silvester71|solved_by:smsm8111|solved_by:qilip|solved_by:define_chan) - solved_by:hsh8086"
   ]
  },
  {
   "cell_type": "markdown",
   "metadata": {},
   "source": [
    "### MooBuzz 18265"
   ]
  },
  {
   "cell_type": "code",
   "execution_count": null,
   "metadata": {},
   "outputs": [],
   "source": [
    "n = int(input())"
   ]
  },
  {
   "cell_type": "code",
   "execution_count": null,
   "metadata": {},
   "outputs": [],
   "source": [
    "cur = n\n",
    "\n",
    "cur까지 moo가 3개 들어감 cur - moo 개수가 n보다 a만큼 작음\n",
    "\n",
    "cur = n + a 만듦"
   ]
  },
  {
   "cell_type": "code",
   "execution_count": 3,
   "metadata": {},
   "outputs": [
    {
     "name": "stdout",
     "output_type": "stream",
     "text": [
      "200\n",
      "374\n"
     ]
    }
   ],
   "source": [
    "def get_moo_count(num):\n",
    "    return num // 3 + num // 5 - num // 15\n",
    "\n",
    "n = int(input())\n",
    "\n",
    "cur = n\n",
    "while True:\n",
    "    mc = get_moo_count(cur)\n",
    "    \n",
    "    remain = cur - mc\n",
    "    if remain < n:\n",
    "        cur += n - remain\n",
    "    else:\n",
    "        break\n",
    "        \n",
    "print(cur)"
   ]
  },
  {
   "cell_type": "markdown",
   "metadata": {},
   "source": [
    "### Game of Lines 6165"
   ]
  },
  {
   "cell_type": "code",
   "execution_count": null,
   "metadata": {},
   "outputs": [],
   "source": []
  }
 ],
 "metadata": {
  "kernelspec": {
   "display_name": "Python 3",
   "language": "python",
   "name": "python3"
  },
  "language_info": {
   "codemirror_mode": {
    "name": "ipython",
    "version": 3
   },
   "file_extension": ".py",
   "mimetype": "text/x-python",
   "name": "python",
   "nbconvert_exporter": "python",
   "pygments_lexer": "ipython3",
   "version": "3.8.3"
  }
 },
 "nbformat": 4,
 "nbformat_minor": 4
}
