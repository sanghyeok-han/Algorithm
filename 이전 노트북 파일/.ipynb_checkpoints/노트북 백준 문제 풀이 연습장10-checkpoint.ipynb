{
 "cells": [
  {
   "cell_type": "code",
   "execution_count": 10,
   "metadata": {},
   "outputs": [
    {
     "name": "stdout",
     "output_type": "stream",
     "text": [
      "40 5\n",
      "41 6\n",
      "50 30 6\n",
      "4014000\n"
     ]
    }
   ],
   "source": [
    "vk, jk = map(int, input().split()) \n",
    "vg, jg = map(int, input().split())\n",
    "vh, dh, jh = map(int, input().split())\n",
    "\n",
    "temp = vh * dh * jh\n",
    "r = vk * jk * temp + vg * jg * temp\n",
    "\n",
    "print(r)"
   ]
  },
  {
   "cell_type": "code",
   "execution_count": 1,
   "metadata": {},
   "outputs": [
    {
     "data": {
      "text/plain": [
       "442800000"
      ]
     },
     "execution_count": 1,
     "metadata": {},
     "output_type": "execute_result"
    }
   ],
   "source": [
    "40*5*41*6*50*30*6"
   ]
  },
  {
   "cell_type": "code",
   "execution_count": 4,
   "metadata": {},
   "outputs": [
    {
     "data": {
      "text/plain": [
       "2214000"
      ]
     },
     "execution_count": 4,
     "metadata": {},
     "output_type": "execute_result"
    }
   ],
   "source": [
    "50 * 30 * 6 * 41 * 6"
   ]
  },
  {
   "cell_type": "code",
   "execution_count": 5,
   "metadata": {},
   "outputs": [
    {
     "data": {
      "text/plain": [
       "1800000"
      ]
     },
     "execution_count": 5,
     "metadata": {},
     "output_type": "execute_result"
    }
   ],
   "source": [
    "50 * 30 * 6 * 40 * 5"
   ]
  },
  {
   "cell_type": "code",
   "execution_count": 6,
   "metadata": {},
   "outputs": [
    {
     "data": {
      "text/plain": [
       "2214000"
      ]
     },
     "execution_count": 6,
     "metadata": {},
     "output_type": "execute_result"
    }
   ],
   "source": [
    "50 * 30 * 6 * 41 * 6"
   ]
  },
  {
   "cell_type": "code",
   "execution_count": 7,
   "metadata": {},
   "outputs": [
    {
     "data": {
      "text/plain": [
       "4014000"
      ]
     },
     "execution_count": 7,
     "metadata": {},
     "output_type": "execute_result"
    }
   ],
   "source": [
    "50 * 30 * 6 * 40 * 5 + 50 * 30 * 6 * 41 * 6"
   ]
  },
  {
   "cell_type": "markdown",
   "metadata": {},
   "source": [
    "### 팰린드롬 개수 구하기 (Small) 14505"
   ]
  },
  {
   "cell_type": "code",
   "execution_count": 33,
   "metadata": {},
   "outputs": [
    {
     "name": "stdout",
     "output_type": "stream",
     "text": [
      "aabbab\n",
      "22\n"
     ]
    }
   ],
   "source": [
    "s = input()\n",
    "n = len(s)\n",
    "\n",
    "dp = [[0] * n for _ in range(n)]\n",
    "for i in range(n):\n",
    "    dp[i][i] = 1\n",
    "    \n",
    "for i in range(n - 1):\n",
    "    temp = 2\n",
    "    if s[i] == s[i + 1]:\n",
    "        temp += 1\n",
    "    \n",
    "    dp[i][i + 1] = temp\n",
    "    \n",
    "for term in range(2, n):\n",
    "    for start in range(n - term):\n",
    "        end = start + term\n",
    "        \n",
    "        t1 = dp[start][end - 1]\n",
    "        t2 = dp[start + 1][end]\n",
    "        t3 = dp[start + 1][end - 1]\n",
    "        \n",
    "        temp = t1 + t2\n",
    "        if s[start] != s[end]:\n",
    "            temp -= t3\n",
    "        else:\n",
    "            temp += 1\n",
    "            \n",
    "        dp[start][end] = temp\n",
    "        \n",
    "print(dp[0][n - 1])"
   ]
  },
  {
   "cell_type": "code",
   "execution_count": null,
   "metadata": {},
   "outputs": [],
   "source": [
    "a b c a\n",
    "aa aba aca"
   ]
  },
  {
   "cell_type": "code",
   "execution_count": 30,
   "metadata": {},
   "outputs": [
    {
     "data": {
      "text/plain": [
       "(3, 3)"
      ]
     },
     "execution_count": 30,
     "metadata": {},
     "output_type": "execute_result"
    }
   ],
   "source": [
    "dp[0][2], dp[1][3]"
   ]
  },
  {
   "cell_type": "code",
   "execution_count": null,
   "metadata": {},
   "outputs": [],
   "source": [
    "a b d a g h a\n",
    "aa aa aa\n",
    "aaa"
   ]
  },
  {
   "cell_type": "code",
   "execution_count": null,
   "metadata": {},
   "outputs": [],
   "source": [
    "aabbab\n",
    "6 a a b b a b \n",
    "6 aa aa aa bb bb bb\n",
    "8 aaa bbb aba aba aba aba bab bab\n",
    "2 abba abba\n",
    "\n",
    "12 + 10"
   ]
  },
  {
   "cell_type": "markdown",
   "metadata": {},
   "source": [
    "### 알고리즘 수업 - 피보나치 수 1"
   ]
  },
  {
   "cell_type": "code",
   "execution_count": 39,
   "metadata": {},
   "outputs": [
    {
     "name": "stdout",
     "output_type": "stream",
     "text": [
      "5 9\n",
      "6 15\n",
      "7 25\n",
      "8 41\n",
      "9 67\n",
      "10 109\n",
      "11 177\n",
      "12 287\n",
      "13 465\n",
      "14 753\n",
      "15 1219\n",
      "16 1973\n",
      "17 3193\n",
      "18 5167\n",
      "19 8361\n",
      "20 13529\n",
      "21 21891\n",
      "22 35421\n",
      "23 57313\n",
      "24 92735\n",
      "25 150049\n",
      "26 242785\n",
      "27 392835\n",
      "28 635621\n",
      "29 1028457\n",
      "30 1664079\n"
     ]
    }
   ],
   "source": [
    "def fib(n):\n",
    "    global c\n",
    "    \n",
    "    c += 1\n",
    "    if n == 1 or n == 2:\n",
    "        return 1\n",
    "    else:\n",
    "        return (fib(n - 1) + fib(n - 2))\n",
    "\n",
    "for i in range(5, 31):\n",
    "    \n",
    "    c = 0\n",
    "    fib(i)\n",
    "    print(i, c)"
   ]
  },
  {
   "cell_type": "code",
   "execution_count": 47,
   "metadata": {},
   "outputs": [
    {
     "name": "stdout",
     "output_type": "stream",
     "text": [
      "0 8 0\n",
      "1 9 0\n",
      "0\n"
     ]
    }
   ],
   "source": [
    "inf = float('inf')\n",
    "\n",
    "n = 10\n",
    "k = 9\n",
    "a = [1, 2, 3, 4, 5, 4, 3, 2, 1, 2]\n",
    "\n",
    "pre_max = [-inf] * n\n",
    "pre_min = [inf] * n\n",
    "post_max = [-inf] * n\n",
    "post_min = [inf] * n\n",
    "\n",
    "cumul_max = -inf\n",
    "cumul_min = inf\n",
    "for i in range(n):\n",
    "    cumul_max = max(cumul_max, a[i])\n",
    "    cumul_min = min(cumul_min, a[i])\n",
    "    \n",
    "    pre_max[i] = cumul_max\n",
    "    pre_min[i] = cumul_min\n",
    "    \n",
    "cumul_max = -inf\n",
    "cumul_min = inf\n",
    "for i in range(n - 1, -1, -1):\n",
    "    cumul_max = max(cumul_max, a[i])\n",
    "    cumul_min = min(cumul_min, a[i])\n",
    "    \n",
    "    post_max[i] = cumul_max\n",
    "    post_min[i] = cumul_min\n",
    "    \n",
    "min_r = inf\n",
    "for mid_start in range(n - k + 1):\n",
    "    mid_end = mid_start + k - 1\n",
    "    \n",
    "    remained_max = -inf\n",
    "    remained_min = inf\n",
    "    if mid_start > 0:\n",
    "        remained_max = max(remained_max, pre_max[mid_start - 1])\n",
    "        remained_min = min(remained_min, pre_min[mid_start - 1])\n",
    "    if mid_end < n - 1:\n",
    "        remained_max = max(remained_max, post_max[mid_end + 1])\n",
    "        remained_min = min(remained_min, post_min[mid_end + 1])\n",
    "        \n",
    "    temp = remained_max - remained_min\n",
    "    \n",
    "    print(mid_start, mid_end, temp)\n",
    "    \n",
    "    min_r = min(min_r, temp)\n",
    "    \n",
    "print(min_r)"
   ]
  },
  {
   "cell_type": "code",
   "execution_count": 54,
   "metadata": {},
   "outputs": [
    {
     "data": {
      "text/plain": [
       "0"
      ]
     },
     "execution_count": 54,
     "metadata": {},
     "output_type": "execute_result"
    }
   ],
   "source": [
    "def solution(A):\n",
    "    n = len(A)\n",
    "    i = n - 1\n",
    "    result = -1\n",
    "    maximal = 0\n",
    "    k = 0\n",
    "    while (i > 0):\n",
    "        if (A[i] == 1):\n",
    "            k = k + 1\n",
    "            if (k >= maximal):\n",
    "                maximal = k\n",
    "                result = i\n",
    "        else:\n",
    "            k = 0\n",
    "        i = i - 1\n",
    "    if (A[i] == 1 and k + 1 > maximal):\n",
    "        result = 0\n",
    "    return result\n",
    "\n",
    "solution([1, 1, 1, 1])"
   ]
  },
  {
   "cell_type": "code",
   "execution_count": 59,
   "metadata": {},
   "outputs": [
    {
     "data": {
      "text/plain": [
       "0"
      ]
     },
     "execution_count": 59,
     "metadata": {},
     "output_type": "execute_result"
    }
   ],
   "source": [
    "def solution(A):\n",
    "    n = len(A)\n",
    "    i = n - 1\n",
    "    result = -1\n",
    "    maximal = 0\n",
    "    k = 0\n",
    "    while (i > 0):\n",
    "        if (A[i] == 1):\n",
    "            k = k + 1\n",
    "            if (k >= maximal):\n",
    "                maximal = k\n",
    "                result = i\n",
    "        else:\n",
    "            k = 0\n",
    "        i = i - 1\n",
    "    if (A[i] == 1 and k + 1 >= maximal):\n",
    "        result = 0\n",
    "    return result\n",
    "\n",
    "solution([1, 1, 1, 0, 1, 1, 1])"
   ]
  },
  {
   "cell_type": "code",
   "execution_count": null,
   "metadata": {},
   "outputs": [],
   "source": [
    "def solution(A):\n",
    "    n = len(A)\n",
    "    i = n - 1\n",
    "    result = -1\n",
    "    maximal = 0\n",
    "    k = 0\n",
    "    while (i >= 0):\n",
    "        if (A[i] == 1):\n",
    "            k = k + 1\n",
    "            if (k >= maximal):\n",
    "                maximal = k\n",
    "                result = i\n",
    "        else:\n",
    "            k = 1\n",
    "        i = i - 1\n",
    "    return result\n",
    "\n",
    "solution([1, 1, 1, 1])"
   ]
  },
  {
   "cell_type": "code",
   "execution_count": 75,
   "metadata": {},
   "outputs": [
    {
     "data": {
      "text/plain": [
       "0"
      ]
     },
     "execution_count": 75,
     "metadata": {},
     "output_type": "execute_result"
    }
   ],
   "source": [
    "def solution(A):\n",
    "    n = len(A)\n",
    "    i = n - 1\n",
    "    result = -1\n",
    "    maximal = 0\n",
    "    k = 0\n",
    "    while (i > 0):\n",
    "        if (A[i] == 1):\n",
    "            k = k + 1\n",
    "            if (k >= maximal):\n",
    "                maximal = k\n",
    "                result = i\n",
    "        else:\n",
    "            k = 0\n",
    "        i = i - 1\n",
    "    if (A[i] == 1 and k + 1 >= maximal):\n",
    "        result = 0\n",
    "    return result\n",
    "\n",
    "solution([1, 1, 0, 1, 1])"
   ]
  },
  {
   "cell_type": "markdown",
   "metadata": {},
   "source": [
    "### 서로소의 개수 1750"
   ]
  },
  {
   "cell_type": "code",
   "execution_count": 125,
   "metadata": {},
   "outputs": [
    {
     "name": "stdout",
     "output_type": "stream",
     "text": [
      "6\n",
      "2\n",
      "5\n",
      "98872\n",
      "23298\n",
      "32872\n",
      "23111\n",
      "45\n"
     ]
    }
   ],
   "source": [
    "from math import gcd\n",
    "\n",
    "mod = 10000003\n",
    "\n",
    "n = int(input())\n",
    "li = [int(input()) for _ in range(n)]\n",
    "\n",
    "dp = [[0] * 100001]\n",
    "dp[0][li[0]] = 1\n",
    "for i in range(1, n):\n",
    "    num = li[i]\n",
    "    dp.append(dp[-1].copy())\n",
    "    for fnum in range(1, 100001):\n",
    "        g = gcd(fnum, num)\n",
    "        \n",
    "        dp[i][g] += dp[i - 1][fnum]\n",
    "        dp[i][g] %= mod\n",
    "        \n",
    "    dp[i][num] += 1\n",
    "        \n",
    "r = dp[n - 1][1]\n",
    "\n",
    "print(r)"
   ]
  },
  {
   "cell_type": "markdown",
   "metadata": {},
   "source": [
    "### 보드게임 2572"
   ]
  },
  {
   "cell_type": "code",
   "execution_count": 140,
   "metadata": {},
   "outputs": [
    {
     "name": "stdout",
     "output_type": "stream",
     "text": [
      "3\n",
      "R R R\n",
      "4 5\n",
      "1 2 G\n",
      "1 3 R\n",
      "2 3 G\n",
      "1 4 G\n",
      "4 3 B\n",
      "30\n"
     ]
    }
   ],
   "source": [
    "import sys\n",
    "# input = lambda: sys.stdin.readline().rstrip()\n",
    "\n",
    "inf = float('inf')\n",
    "\n",
    "n = int(input())\n",
    "cards = input().split()\n",
    "m, k = map(int, input().split())\n",
    "\n",
    "li = [[] for _ in range(m + 1)]\n",
    "for _ in range(k):\n",
    "    a, b, c = input().split()\n",
    "    a = int(a)\n",
    "    b = int(b)\n",
    "\n",
    "    li[a].append((b, c))\n",
    "    li[b].append((a, c))\n",
    "\n",
    "dp = [[-inf] * (m + 1) for _ in range(n + 1)]\n",
    "dp[0][1] = 0\n",
    "\n",
    "for i in range(n):\n",
    "    color = cards[i]\n",
    "\n",
    "    for num in range(1, m + 1):\n",
    "        for fnum, c in li[num]:\n",
    "            temp = dp[i][fnum]\n",
    "\n",
    "            if c == color:\n",
    "                temp += 10        \n",
    "            dp[i + 1][num] = max(dp[i + 1][num], temp)\n",
    "\n",
    "r = max(0, max(dp[n]))\n",
    "\n",
    "print(r)"
   ]
  },
  {
   "cell_type": "markdown",
   "metadata": {},
   "source": [
    "### 치즈 2636"
   ]
  },
  {
   "cell_type": "code",
   "execution_count": null,
   "metadata": {},
   "outputs": [],
   "source": [
    "from collections import deque\n",
    "\n",
    "n, m = map(int, input().split())\n",
    "li = [list(map(int, input().split())) for _ in range(n)]\n",
    "\n",
    "total = 0\n",
    "for i in range(n):\n",
    "    for j in range(m):\n",
    "        if li[i][j]:\n",
    "            total += 1\n",
    "\n",
    "dx = [-1, 1, 0, 0]\n",
    "dy = [0, 0, -1, 1]\n",
    "\n",
    "vt = [[False] * m for _ in range(n)]\n",
    "vt[0][0] = True\n",
    "\n",
    "queue = deque()\n",
    "queue.append((0, 0))\n",
    "ftotal = total\n",
    "tm = 0\n",
    "while True:\n",
    "    if total == 0:\n",
    "        break\n",
    "    ftotal = total\n",
    "    tm += 1\n",
    "    \n",
    "    nqueue = deque()\n",
    "    while queue:\n",
    "        x, y = queue.popleft()\n",
    "        \n",
    "        for d in range(4):\n",
    "            nx = x + dx[d]\n",
    "            ny = y + dy[d]\n",
    "            \n",
    "            if nx < 0 or nx >= n or ny < 0 or ny >= m:\n",
    "                continue\n",
    "            if not vt[nx][ny]:\n",
    "                vt[nx][ny] = True\n",
    "                if li[nx][ny] == 0:\n",
    "                    queue.append((nx, ny))\n",
    "                else:\n",
    "                    nqueue.append((nx, ny))\n",
    "                    \n",
    "    for x, y in nqueue:\n",
    "        li[x][y] = 0\n",
    "        total -= 1\n",
    "        \n",
    "    queue = nqueue.copy()\n",
    "                \n",
    "print(tm)\n",
    "print(ftotal)"
   ]
  },
  {
   "cell_type": "markdown",
   "metadata": {},
   "source": [
    "### 미팅의 저주 17268"
   ]
  },
  {
   "cell_type": "code",
   "execution_count": 148,
   "metadata": {},
   "outputs": [
    {
     "name": "stdout",
     "output_type": "stream",
     "text": [
      "6\n",
      "5\n"
     ]
    }
   ],
   "source": [
    "mod = 987654321\n",
    "\n",
    "dp = [0] * 5001\n",
    "dp[0] = 1\n",
    "dp[1] = 1\n",
    "dp[2] = 2\n",
    "\n",
    "for i in range(3, 5001):\n",
    "    temp = 0\n",
    "    sv = i - 1\n",
    "    for a in range(i):\n",
    "        b = sv - a\n",
    "        temp += dp[a] * dp[b]\n",
    "        temp %= mod\n",
    "        \n",
    "    dp[i] = temp % mod\n",
    "        \n",
    "n = int(input())\n",
    "n //= 2\n",
    "\n",
    "print(dp[n])"
   ]
  },
  {
   "cell_type": "code",
   "execution_count": null,
   "metadata": {},
   "outputs": [],
   "source": []
  },
  {
   "cell_type": "code",
   "execution_count": 158,
   "metadata": {},
   "outputs": [
    {
     "name": "stdout",
     "output_type": "stream",
     "text": [
      ".*.*.\n",
      "4\n",
      "s...\n",
      "e..\n",
      "f.se\n",
      "sf.\n"
     ]
    }
   ],
   "source": [
    "p = input()\n",
    "p_length = len(p)\n",
    "\n",
    "for _ in range(int(input())):\n",
    "    s = input()\n",
    "    s_length = len(s)\n",
    "\n",
    "    last_star_index = -1\n",
    "    p_index = 0\n",
    "    s_index = 0\n",
    "    result = False\n",
    "    while True:\n",
    "        if p_index == p_length:\n",
    "            if last_star_index != -1:\n",
    "                p_index = last_star_index\n",
    "            else:\n",
    "                break\n",
    "\n",
    "        if p[p_index] == '*':\n",
    "            last_star_index = p_index\n",
    "            if p_index < p_length - 1:\n",
    "                p_index += 1\n",
    "                continue\n",
    "\n",
    "        if s[s_index] != p[p_index]:\n",
    "            if last_star_index == '-1':\n",
    "                break\n",
    "            if last_star_index < p_length - 1:\n",
    "                if s[s_index] == p[last_star_index + 1]:\n",
    "                    p_index = last_star_index + 2\n",
    "                else:\n",
    "                    p_index = last_star_index + 1\n",
    "            else:\n",
    "                p_index = last_star_index + 1\n",
    "            s_index += 1\n",
    "        else:\n",
    "            p_index += 1\n",
    "            s_index += 1\n",
    "\n",
    "        if s_index == s_length:\n",
    "            if p_index == p_length:\n",
    "                result = True\n",
    "            else:\n",
    "                st = set(p[p_index:])\n",
    "                if len(st) == 1 and st.pop() == '*':\n",
    "                    result = True\n",
    "            break\n",
    "            \n",
    "    if p[0] != '*' and p[0] != s[0]:\n",
    "        result = False\n",
    "\n",
    "    if result:\n",
    "        print(s)"
   ]
  },
  {
   "cell_type": "markdown",
   "metadata": {},
   "source": [
    "### 전생했더니 슬라임 연구자였던 건에 대하여 (Hard) 14698"
   ]
  },
  {
   "cell_type": "code",
   "execution_count": null,
   "metadata": {},
   "outputs": [],
   "source": [
    "2, 3, 10, 12\n",
    "\n",
    "2*3  6 10 12\n",
    "10*12 6 120\n",
    "6*120  720"
   ]
  },
  {
   "cell_type": "code",
   "execution_count": 1,
   "metadata": {},
   "outputs": [
    {
     "data": {
      "text/plain": [
       "846"
      ]
     },
     "execution_count": 1,
     "metadata": {},
     "output_type": "execute_result"
    }
   ],
   "source": [
    "6 + 120 + 720"
   ]
  },
  {
   "cell_type": "code",
   "execution_count": null,
   "metadata": {},
   "outputs": [],
   "source": [
    "2 3 10 12\n",
    "\n",
    "2*12 3 10 24\n",
    "3*10 24 30\n",
    "24*30"
   ]
  },
  {
   "cell_type": "code",
   "execution_count": 2,
   "metadata": {},
   "outputs": [
    {
     "data": {
      "text/plain": [
       "774"
      ]
     },
     "execution_count": 2,
     "metadata": {},
     "output_type": "execute_result"
    }
   ],
   "source": [
    "24 + 30 + 24*30"
   ]
  },
  {
   "cell_type": "code",
   "execution_count": 5,
   "metadata": {},
   "outputs": [
    {
     "name": "stdout",
     "output_type": "stream",
     "text": [
      "5\n",
      "3 10 2 8 14\n",
      "270950400\n"
     ]
    }
   ],
   "source": [
    "from heapq import heapify, heappush, heappop\n",
    "import sys\n",
    "input = lambda: sys.stdin.readline().rstrip()\n",
    "\n",
    "mod = 1000000007\n",
    "\n",
    "for _ in range(int(input())):\n",
    "    n = int(input())\n",
    "    heap = list(map(int, input().split()))\n",
    "    heapify(heap)\n",
    "\n",
    "    r = 1\n",
    "    while len(heap) >= 2:\n",
    "        a = heappop(heap)\n",
    "        b = heappop(heap)\n",
    "        r *= a * b\n",
    "        r %= mod\n",
    "\n",
    "        heappush(heap, a * b)\n",
    "\n",
    "    print(r)"
   ]
  },
  {
   "cell_type": "markdown",
   "metadata": {},
   "source": [
    "### 색종이 2590"
   ]
  },
  {
   "cell_type": "code",
   "execution_count": null,
   "metadata": {},
   "outputs": [],
   "source": [
    "1 2 3 4 5 6\n",
    "5 3 0 1 1 0"
   ]
  },
  {
   "cell_type": "code",
   "execution_count": 21,
   "metadata": {},
   "outputs": [
    {
     "name": "stdout",
     "output_type": "stream",
     "text": [
      "0\n",
      "0\n",
      "5\n",
      "0\n",
      "0\n",
      "0\n",
      "2\n"
     ]
    }
   ],
   "source": [
    "li = [0] + [int(input()) for _ in range(6)]\n",
    "\n",
    "total = 0\n",
    "c = li[3] // 4\n",
    "total += c\n",
    "li[3] -= c * 4\n",
    "\n",
    "while True:\n",
    "    if sum(li) == 0:\n",
    "        break\n",
    "    total += 1\n",
    " \n",
    "    avail = [0] * 7\n",
    "    avail[6] = 1\n",
    "\n",
    "    if li[3]:\n",
    "        avail[6] -= 1\n",
    "        if li[3] == 1:\n",
    "            li[3] = 0\n",
    "            avail[2] += 5\n",
    "            avail[1] += 7\n",
    "        elif li[3] == 2:\n",
    "            li[3] = 0\n",
    "            avail[2] += 3\n",
    "            avail[1] += 6\n",
    "        elif li[3] == 3:\n",
    "            li[3] = 0\n",
    "            avail[2] += 1\n",
    "            avail[1] += 5\n",
    "\n",
    "    for i in range(6, 0, -1):\n",
    "        while li[i] >= 1:\n",
    "            is_used = False\n",
    "            if i == 6:\n",
    "                if avail[6]:\n",
    "                    is_used = True\n",
    "                    avail[6] -= 1\n",
    "            elif i == 5:\n",
    "                if avail[6]:\n",
    "                    is_used = True\n",
    "                    avail[6] -= 1\n",
    "                    avail[1] += 11\n",
    "            elif i == 4:\n",
    "                if avail[6]:\n",
    "                    is_used = True\n",
    "                    avail[6] -= 1\n",
    "                    avail[2] += 5\n",
    "            elif i == 2:\n",
    "                if avail[6]:\n",
    "                    is_used = True\n",
    "                    avail[6] -= 1\n",
    "                    avail[2] += 8\n",
    "                elif avail[2]:\n",
    "                    is_used = True\n",
    "                    avail[2] -= 1\n",
    "            elif i == 1:\n",
    "                if avail[6]:\n",
    "                    is_used = True\n",
    "                    avail[6] -= 1\n",
    "                    avail[1] += 35\n",
    "                elif avail[2]:\n",
    "                    is_used = True\n",
    "                    avail[2] -= 1\n",
    "                    avail[1] += 3\n",
    "                elif avail[1]:\n",
    "                    is_used = True\n",
    "                    avail[1] -= 1\n",
    "            if is_used:\n",
    "                li[i] -= 1\n",
    "            else:\n",
    "                break\n",
    "                \n",
    "print(total)"
   ]
  },
  {
   "cell_type": "code",
   "execution_count": null,
   "metadata": {},
   "outputs": [],
   "source": [
    "3 3\n",
    "2 3"
   ]
  },
  {
   "cell_type": "code",
   "execution_count": null,
   "metadata": {},
   "outputs": [],
   "source": [
    "1 27\n",
    "2 0\n",
    "3 1\n",
    "4 0\n",
    "5 0\n",
    "6 0"
   ]
  },
  {
   "cell_type": "code",
   "execution_count": null,
   "metadata": {},
   "outputs": [],
   "source": [
    "1 20\n",
    "2 "
   ]
  },
  {
   "cell_type": "code",
   "execution_count": 9,
   "metadata": {},
   "outputs": [
    {
     "data": {
      "text/plain": [
       "2"
      ]
     },
     "execution_count": 9,
     "metadata": {},
     "output_type": "execute_result"
    }
   ],
   "source": [
    "total"
   ]
  },
  {
   "cell_type": "code",
   "execution_count": null,
   "metadata": {},
   "outputs": [],
   "source": [
    "6에 5 -> 1이 11개\n",
    "6에 4 -> 2가 5개\n",
    "6에 3 -> 3이 3개\n",
    "6에 2 -> 2가 8개\n",
    "6에 1 -> 1이 35개\n",
    "\n",
    "3에 2 -> 1이 5개\n",
    "3에 1 -> 2가 1개, 1이 4개 -> 1이 8개\n",
    "\n",
    "2에 1 -> 1이 3개"
   ]
  },
  {
   "cell_type": "markdown",
   "metadata": {},
   "source": [
    "### 문자열 생성 6137"
   ]
  },
  {
   "cell_type": "code",
   "execution_count": null,
   "metadata": {},
   "outputs": [],
   "source": [
    "ZDFAZ\n",
    "\n"
   ]
  },
  {
   "cell_type": "code",
   "execution_count": 24,
   "metadata": {},
   "outputs": [
    {
     "name": "stdout",
     "output_type": "stream",
     "text": [
      "AAAAAAAAAAAAAAAAAAAAAAAAAAAAAAAAAAAAAAAAAAAAAAAAAAAAAAAAAAAAAAAAAAAAAAAAAAAAAAAA\n",
      "AAAAAAAAAAAAAAAAAAAAAAAAAAAAAAAAAAAAAAAAAAAAAAAAAAAAAAAAAAAAAAAAAAAAAAAAAAAAAAAA\n",
      "AAAAAAAAAA\n"
     ]
    }
   ],
   "source": [
    "from collections import deque\n",
    "import sys\n",
    "input = lambda: sys.stdin.readline().rstrip()\n",
    "\n",
    "n = int(input())\n",
    "li = [input() for _ in range(n)]\n",
    "\n",
    "deq = deque(li)\n",
    "r = []\n",
    "while len(deq) >= 2:\n",
    "    if deq[0] > deq[-1]:\n",
    "        r.append(deq.pop())\n",
    "    elif deq[0] < deq[-1]:\n",
    "        r.append(deq.popleft())\n",
    "    else:\n",
    "        s = 0\n",
    "        e = len(deq) - 1\n",
    "        while True:\n",
    "            s += 1\n",
    "            e -= 1\n",
    "            if s >= e:\n",
    "                r.append(deq.pop())\n",
    "                break\n",
    "            if deq[s] < deq[e]:\n",
    "                r.append(deq.popleft())\n",
    "                break\n",
    "            elif deq[s] > deq[e]:\n",
    "                r.append(deq.pop())\n",
    "                break\n",
    "            \n",
    "if deq:\n",
    "    r.append(deq[0])\n",
    "    \n",
    "for i in range(0, n, 80):\n",
    "    print(''.join(r[i:i+80]))"
   ]
  },
  {
   "cell_type": "markdown",
   "metadata": {},
   "source": [
    "### 200년간 폐관수련했더니 PS 최강자가 된 건에 대하여 19582"
   ]
  },
  {
   "cell_type": "code",
   "execution_count": null,
   "metadata": {},
   "outputs": [],
   "source": [
    "4\n",
    "10 1\n",
    "2 5\n",
    "3 4\n",
    "5 10"
   ]
  },
  {
   "cell_type": "code",
   "execution_count": 33,
   "metadata": {},
   "outputs": [
    {
     "name": "stdout",
     "output_type": "stream",
     "text": [
      "4\n",
      "10 5\n",
      "10 5\n",
      "4 1\n",
      "4 1\n",
      "Zzz\n"
     ]
    }
   ],
   "source": [
    "import sys\n",
    "input = lambda: sys.stdin.readline().rstrip()\n",
    "\n",
    "inf = float('inf')\n",
    "\n",
    "n = int(input())\n",
    "li = [list(map(int, input().split())) for _ in range(n)]\n",
    "\n",
    "cumul = 0\n",
    "cur_max = 0\n",
    "excluded = False\n",
    "ip = True\n",
    "for i in range(n):\n",
    "    x, p = li[i]\n",
    "    \n",
    "    if cumul <= x:\n",
    "        cumul += p\n",
    "    else:\n",
    "        if excluded:\n",
    "            ip = False\n",
    "            break\n",
    "        excluded = True\n",
    "        \n",
    "        ncumul1 = inf\n",
    "        if cumul - cur_max <= x:\n",
    "            ncumul1 = cumul - cur_max + p\n",
    "            \n",
    "        ncumul2 = cumul\n",
    "        \n",
    "        cumul = min(ncumul1, ncumul2)\n",
    "        \n",
    "    cur_max = max(cur_max, p)\n",
    "    \n",
    "if ip:\n",
    "    print('Kkeo-eok')\n",
    "else:\n",
    "    print('Zzz')"
   ]
  },
  {
   "cell_type": "markdown",
   "metadata": {},
   "source": [
    "### 수 분해 1437"
   ]
  },
  {
   "cell_type": "code",
   "execution_count": 54,
   "metadata": {},
   "outputs": [
    {
     "name": "stdout",
     "output_type": "stream",
     "text": [
      "7\n",
      "12\n"
     ]
    }
   ],
   "source": [
    "mod = 10007\n",
    "\n",
    "n = int(input())\n",
    "\n",
    "if n <= 3:\n",
    "    print(n)\n",
    "else:\n",
    "    if n % 3 == 0:\n",
    "        c3 = n // 3\n",
    "        r = pow(3, c3, mod)\n",
    "    elif n % 3 == 1:\n",
    "        n -= 4\n",
    "        r = 4\n",
    "        c3 = n // 3\n",
    "        r *= pow(3, c3, mod)\n",
    "        r %= mod\n",
    "    else:\n",
    "        n -= 2\n",
    "        r = 2\n",
    "        c3 = n // 3\n",
    "        r *= pow(3, c3, mod)\n",
    "        r %= mod\n",
    "        \n",
    "    print(r)"
   ]
  },
  {
   "cell_type": "code",
   "execution_count": null,
   "metadata": {},
   "outputs": [],
   "source": [
    "2\n",
    "2\n",
    "\n",
    "3\n",
    "3\n",
    "\n",
    "4\n",
    "2 2\n",
    "\n",
    "5\n",
    "2 3\n",
    "\n",
    "6\n",
    "3 3\n",
    "\n",
    "7\n",
    "2 2 3\n",
    "\n",
    "8\n",
    "3 3 2\n",
    "\n",
    "9\n",
    "3 3 3\n",
    "\n",
    "10\n",
    "3 3 2 2"
   ]
  },
  {
   "cell_type": "markdown",
   "metadata": {},
   "source": [
    "### 세 수, 두 M 2405"
   ]
  },
  {
   "cell_type": "code",
   "execution_count": 70,
   "metadata": {},
   "outputs": [
    {
     "name": "stdout",
     "output_type": "stream",
     "text": [
      "5\n",
      "100\n",
      "234\n",
      "430\n",
      "120\n",
      "489\n",
      "349\n"
     ]
    }
   ],
   "source": [
    "import sys\n",
    "input = lambda: sys.stdin.readline().rstrip()\n",
    "\n",
    "n = int(input())\n",
    "li = [int(input()) for _ in range(n)]\n",
    "\n",
    "li.sort()\n",
    "\n",
    "max_r = 0\n",
    "for i in range(1, n - 1):\n",
    "    midi3 = li[i] * 3\n",
    "    \n",
    "    avg3_1 = li[i - 1] + li[i] + li[-1]\n",
    "    avg3_2 = li[0] + li[i] + li[i + 1]\n",
    "    \n",
    "    temp = max(abs(midi3 - avg3_1), abs(midi3 - avg3_2))\n",
    "    max_r = max(max_r, temp)\n",
    "    \n",
    "print(max_r)"
   ]
  },
  {
   "cell_type": "markdown",
   "metadata": {},
   "source": [
    "### 사탕 배달 17305"
   ]
  },
  {
   "cell_type": "code",
   "execution_count": null,
   "metadata": {},
   "outputs": [],
   "source": [
    "import sys\n",
    "# input = lambda: sys.stdin.readline().rstrip()\n",
    "\n",
    "n, w = map(int, input().split())\n",
    "\n",
    "li3 = []\n",
    "li5 = []\n",
    "for _ in range(n):\n",
    "    tp, s = map(int, input().split())\n",
    "    if tp == 3:\n",
    "        li3.append(s)\n",
    "    else:\n",
    "        li5.append(s)\n",
    "        \n",
    "li3.sort(reverse=True)\n",
    "li5.sort(reverse=True)\n",
    "\n",
    "li3_len = len(li3)\n",
    "li5_len = len(li5)\n",
    "\n",
    "sli3 = [0] * (li3_len + 1)\n",
    "cumul = 0\n",
    "for i in range(li3_len):\n",
    "    cumul += li3[i]\n",
    "    sli3[i + 1] = cumul\n",
    "    \n",
    "sli5 = [0] * (li5_len + 1)\n",
    "cumul = 0\n",
    "for i in range(li5_len):\n",
    "    cumul += li5[i]\n",
    "    sli5[i + 1] = cumul\n",
    "\n",
    "max_r = 0\n",
    "for c5 in range(min(len(li5), w // 5) + 1):\n",
    "    nw = w - 5 * c5\n",
    "    temp = sli5[c5]\n",
    "    \n",
    "    c3 = min(nw // 3, li3_len)\n",
    "    temp += sli3[c3]\n",
    "    \n",
    "    max_r = max(max_r, temp)\n",
    "    \n",
    "print(max_r)"
   ]
  },
  {
   "cell_type": "markdown",
   "metadata": {},
   "source": [
    "### 타일 뒤집기 (Easy) 14711"
   ]
  },
  {
   "cell_type": "code",
   "execution_count": 81,
   "metadata": {},
   "outputs": [
    {
     "name": "stdout",
     "output_type": "stream",
     "text": [
      "1\n",
      "#\n",
      "#\n"
     ]
    }
   ],
   "source": [
    "import sys\n",
    "input = lambda: sys.stdin.readline().rstrip()\n",
    "\n",
    "n = int(input())\n",
    "li = input()\n",
    "\n",
    "r = [['.'] * n for _ in range(n)]\n",
    "for i in range(n):\n",
    "    if li[i] == '#':\n",
    "        r[0][i] = '#'\n",
    "\n",
    "affected = [[0] * n for _ in range(n)]\n",
    "\n",
    "i = 0\n",
    "for j in range(n):\n",
    "    if li[j] == '#':\n",
    "        if j >= 1:\n",
    "            affected[i][j - 1] ^= 1\n",
    "        if j < n - 1:\n",
    "            affected[i][j + 1] ^= 1\n",
    "        if i < n - 1:\n",
    "            affected[i + 1][j] ^= 1\n",
    "\n",
    "for i in range(1, n):\n",
    "    to_check = r[-1].copy()\n",
    "    for j in range(n):\n",
    "        if affected[i - 1][j]:\n",
    "            if to_check[j] == '.':\n",
    "                to_check[j] = '#'\n",
    "            else:\n",
    "                to_check[j] = '.'\n",
    "    \n",
    "    for j in range(n):\n",
    "        if to_check[j] == '#':\n",
    "            r[i][j] = '#'\n",
    "            \n",
    "            if j >= 1:\n",
    "                affected[i][j - 1] ^= 1\n",
    "            if j < n - 1:\n",
    "                affected[i][j + 1] ^= 1\n",
    "            if i < n - 1:\n",
    "                affected[i + 1][j] ^= 1\n",
    "\n",
    "for v in r:\n",
    "    print(''.join(v))"
   ]
  },
  {
   "cell_type": "markdown",
   "metadata": {},
   "source": [
    "### 고득점 3663"
   ]
  },
  {
   "cell_type": "code",
   "execution_count": 82,
   "metadata": {},
   "outputs": [
    {
     "data": {
      "text/plain": [
       "100000000"
      ]
     },
     "execution_count": 82,
     "metadata": {},
     "output_type": "execute_result"
    }
   ],
   "source": [
    "ABAAAAAAAAAAAAAAAAAB\n",
    "AABAAAAAAAAAAAAAABAA\n",
    "AABAAAAAAAABAAAAABAA\n",
    "\n",
    "\n",
    "ABAAAABBBBBBBBBBBBAA\n",
    "\n",
    "ABAAAABBBBBBBBBBBBAA"
   ]
  },
  {
   "cell_type": "code",
   "execution_count": null,
   "metadata": {},
   "outputs": [],
   "source": [
    "# 틀렸음\n",
    "from collections import deque\n",
    "import sys\n",
    "# input = lambda: sys.stdin.readline().rstrip()\n",
    "\n",
    "for _ in range(int(input())):\n",
    "    s = input()\n",
    "    n = len(s)\n",
    "\n",
    "    deq = deque()\n",
    "    r = 0\n",
    "    for i in range(n):\n",
    "        num = ord(s[i])\n",
    "\n",
    "        t1 = num - 65\n",
    "        t2 = 91 - num\n",
    "\n",
    "        r += min(t1, t2)    \n",
    "\n",
    "        if s[i] != 'A':\n",
    "            deq.append(i)\n",
    "\n",
    "    cur = 0\n",
    "    while deq:\n",
    "        t1 = deq[0] - cur\n",
    "        t2 = cur + n - deq[-1]\n",
    "\n",
    "        if t1 <= t2:\n",
    "            r += t1\n",
    "            cur = deq.popleft()\n",
    "        else:\n",
    "            r += t2\n",
    "            cur = deq.pop()\n",
    "\n",
    "    print(r)"
   ]
  },
  {
   "cell_type": "code",
   "execution_count": null,
   "metadata": {},
   "outputs": [],
   "source": [
    "1000\n",
    "0000\n",
    "0000\n",
    "\n",
    "012\n",
    "123\n",
    "\n"
   ]
  },
  {
   "cell_type": "code",
   "execution_count": null,
   "metadata": {},
   "outputs": [],
   "source": [
    "from math import log2, ceil\n",
    "import sys\n",
    "input = lambda: sys.stdin.readline().rstrip()\n",
    " \n",
    "inf = float('inf')\n",
    " \n",
    "class SegmentTree:\n",
    "    def __init__(self, data, default=10**15, func=lambda a, b: max(a,b)):\n",
    "        \"\"\"initialize the segment tree with data\"\"\"\n",
    "        self._default = default\n",
    "        self._func = func\n",
    "        self._len = len(data)\n",
    "        self._size = _size = 1 << (self._len - 1).bit_length()\n",
    " \n",
    "        self.data = [default] * (2 * _size)\n",
    "        self.data[_size:_size + self._len] = data\n",
    "        for i in reversed(range(_size)):\n",
    "            self.data[i] = func(self.data[i + i], self.data[i + i + 1])\n",
    " \n",
    "    def __delitem__(self, idx):\n",
    "        self[idx] = self._default\n",
    " \n",
    "    def __getitem__(self, idx):\n",
    "        return self.data[idx + self._size]\n",
    " \n",
    "    def __setitem__(self, idx, value):\n",
    "        idx += self._size\n",
    "        self.data[idx] = value\n",
    "        idx >>= 1\n",
    "        while idx:\n",
    "            self.data[idx] = self._func(self.data[2 * idx], self.data[2 * idx + 1])\n",
    "            idx >>= 1\n",
    " \n",
    "    def __len__(self):\n",
    "        return self._len\n",
    " \n",
    "    def query(self, start, stop):\n",
    "        if start == stop:\n",
    "            return self.__getitem__(start)\n",
    "        stop += 1\n",
    "        start += self._size\n",
    "        stop += self._size\n",
    " \n",
    "        res = self._default\n",
    "        while start < stop:\n",
    "            if start & 1:\n",
    "                res = self._func(res, self.data[start])\n",
    "                start += 1\n",
    "            if stop & 1:\n",
    "                stop -= 1\n",
    "                res = self._func(res, self.data[stop])\n",
    "            start >>= 1\n",
    "            stop >>= 1\n",
    "        return res\n",
    " \n",
    "    def __repr__(self):\n",
    "        return \"SegmentTree({0})\".format(self.data)"
   ]
  },
  {
   "cell_type": "code",
   "execution_count": null,
   "metadata": {},
   "outputs": [],
   "source": [
    "\n",
    "\n",
    "SegmentTree(to_right_sum, -inf)\n",
    "SegmentTree(to_left_sum, -inf)\n"
   ]
  }
 ],
 "metadata": {
  "kernelspec": {
   "display_name": "Python 3",
   "language": "python",
   "name": "python3"
  },
  "language_info": {
   "codemirror_mode": {
    "name": "ipython",
    "version": 3
   },
   "file_extension": ".py",
   "mimetype": "text/x-python",
   "name": "python",
   "nbconvert_exporter": "python",
   "pygments_lexer": "ipython3",
   "version": "3.8.3"
  }
 },
 "nbformat": 4,
 "nbformat_minor": 4
}
