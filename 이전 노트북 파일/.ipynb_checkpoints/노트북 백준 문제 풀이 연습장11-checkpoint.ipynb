{
 "cells": [
  {
   "cell_type": "markdown",
   "metadata": {},
   "source": [
    "### 수학은 체육과목 입니다 3 22351"
   ]
  },
  {
   "cell_type": "code",
   "execution_count": 13,
   "metadata": {},
   "outputs": [
    {
     "name": "stdout",
     "output_type": "stream",
     "text": [
      "456789101112131415161718192021\n",
      "4 21\n"
     ]
    }
   ],
   "source": [
    "s = input()\n",
    "\n",
    "cands = []\n",
    "for i in range(3):\n",
    "    start = s[:i + 1]\n",
    "    \n",
    "    start = int(start)\n",
    "    cur_num = start + 1\n",
    "    tm = str(cur_num) # to match\n",
    "    tmi = 0 # to match index\n",
    "    \n",
    "    ip = True\n",
    "    for index in range(i + 1, len(s)):\n",
    "        if s[index] != tm[tmi]:\n",
    "            ip = False\n",
    "            break\n",
    "        tmi += 1\n",
    "        if tmi >= len(tm):\n",
    "            tmi = 0\n",
    "            cur_num += 1\n",
    "            tm = str(cur_num)\n",
    "            \n",
    "    if tmi != 0:\n",
    "        ip = False\n",
    "        \n",
    "    if ip:\n",
    "        cands.append([start, cur_num - 1])\n",
    "        \n",
    "cands.sort(key=lambda x: x[0])\n",
    "\n",
    "print(*cands[0])"
   ]
  },
  {
   "cell_type": "code",
   "execution_count": 14,
   "metadata": {},
   "outputs": [
    {
     "name": "stdout",
     "output_type": "stream",
     "text": [
      "3 3 2\n",
      "2000 3000 2500\n",
      "800 1300 1000\n",
      "500 1000\n",
      "12100\n",
      "11170\n"
     ]
    }
   ],
   "source": [
    "n, m, k = map(int, input().split())\n",
    "a = sorted(map(int, input().split()))\n",
    "b = sorted(map(int, input().split()))\n",
    "c = sorted(map(int, input().split()))\n",
    "\n",
    "r1 = sum(a) + sum(b) + sum(c)\n",
    "r2 = 0\n",
    "while a and b and c:\n",
    "    temp = a.pop() + b.pop() + c.pop()\n",
    "    temp = temp // 100 * 90\n",
    "    r2 += temp\n",
    "    \n",
    "r2 += sum(a) + sum(b) + sum(c)\n",
    "\n",
    "print(r1)\n",
    "print(r2)"
   ]
  },
  {
   "cell_type": "markdown",
   "metadata": {},
   "source": [
    "### 수면 장애 12755"
   ]
  },
  {
   "cell_type": "code",
   "execution_count": null,
   "metadata": {},
   "outputs": [],
   "source": [
    "1~9 9 * 1\n",
    "10~99 90 * 2\n",
    "100~999 900 * 3\n",
    "1000~9999 9000 * 4"
   ]
  },
  {
   "cell_type": "code",
   "execution_count": 4,
   "metadata": {},
   "outputs": [
    {
     "data": {
      "text/plain": [
       "20000000"
      ]
     },
     "execution_count": 4,
     "metadata": {},
     "output_type": "execute_result"
    }
   ],
   "source": [
    "100000000 // 5"
   ]
  },
  {
   "cell_type": "code",
   "execution_count": 73,
   "metadata": {},
   "outputs": [
    {
     "name": "stdout",
     "output_type": "stream",
     "text": [
      "18\n",
      "1\n"
     ]
    }
   ],
   "source": [
    "n = int(input())\n",
    "\n",
    "cur = 1\n",
    "cumul_len = 0\n",
    "while True:\n",
    "    ncumul_len = cumul_len\n",
    "    \n",
    "    if cur <= 9:\n",
    "        ncumul_len += 1\n",
    "    elif cur <= 99:\n",
    "        ncumul_len += 2\n",
    "    elif cur <= 999:\n",
    "        ncumul_len += 3\n",
    "    elif cur <= 9999:\n",
    "        ncumul_len += 4\n",
    "    elif cur <= 99999:\n",
    "        ncumul_len += 5\n",
    "    elif cur <= 999999:\n",
    "        ncumul_len += 6\n",
    "    elif cur <= 9999999:\n",
    "        ncumul_len += 7\n",
    "    elif cur <= 99999999:\n",
    "        ncumul_len += 8\n",
    "        \n",
    "    if ncumul_len >= n:\n",
    "        break\n",
    "    cumul_len = ncumul_len\n",
    "    cur += 1\n",
    "        \n",
    "r = int(str(cur)[n - cumul_len - 1])\n",
    "\n",
    "print(r)"
   ]
  },
  {
   "cell_type": "markdown",
   "metadata": {},
   "source": [
    "### 연금술사 19857"
   ]
  },
  {
   "cell_type": "code",
   "execution_count": 100,
   "metadata": {},
   "outputs": [
    {
     "name": "stdout",
     "output_type": "stream",
     "text": [
      "2\n",
      "0 1\n",
      "1\n"
     ]
    }
   ],
   "source": [
    "n = int(input())\n",
    "li = list(map(int, input().split()))\n",
    "\n",
    "sli = [0] * (n + 1)\n",
    "cumul = 0\n",
    "for i in range(n):\n",
    "    cumul += li[i]\n",
    "    sli[i] = cumul\n",
    "sli[-1] = sli[-2]\n",
    "\n",
    "if sli[-1] == 1:\n",
    "    r = 1\n",
    "    for i in range(n - 1, -1, -1):\n",
    "        if li[i] == 1:\n",
    "            r = max(i, r)\n",
    "            break\n",
    "    print(r)\n",
    "else:\n",
    "    start = 1\n",
    "    end = n\n",
    "    max_r = 1\n",
    "    while start <= end:\n",
    "        mid = (start + end) // 2\n",
    "        nli = li.copy()\n",
    "\n",
    "        nli[0] += sli[-1] - sli[mid - 1]\n",
    "\n",
    "        per_needed = 0\n",
    "        for i in range(mid - 1, 0, -1):\n",
    "            nli[i] -= per_needed\n",
    "            if nli[i] < 1:\n",
    "                per_needed += 1 - nli[i]\n",
    "                nli[i] = 1\n",
    "            else:\n",
    "                nli[0] += nli[i] - 1\n",
    "                nli[i] = 1\n",
    "\n",
    "        nli[0] -= per_needed\n",
    "\n",
    "        if nli[0] >= 1:\n",
    "            max_r = mid\n",
    "            start = mid + 1\n",
    "        else:\n",
    "            end = mid - 1 \n",
    "\n",
    "    print(max_r)"
   ]
  },
  {
   "cell_type": "code",
   "execution_count": 52,
   "metadata": {},
   "outputs": [
    {
     "data": {
      "text/plain": [
       "[1, 1, 1, 1, 1, 2, 0]"
      ]
     },
     "execution_count": 52,
     "metadata": {},
     "output_type": "execute_result"
    }
   ],
   "source": [
    "4\n",
    "0 0 0 1\n",
    "3"
   ]
  },
  {
   "cell_type": "markdown",
   "metadata": {},
   "source": [
    "### 대회 17364"
   ]
  },
  {
   "cell_type": "code",
   "execution_count": null,
   "metadata": {},
   "outputs": [],
   "source": [
    "나머지가 최대한 다 가져간 다음에 형섭이가 가져갈 수 있는 최대한을 가져가면?"
   ]
  },
  {
   "cell_type": "code",
   "execution_count": 106,
   "metadata": {},
   "outputs": [
    {
     "name": "stdout",
     "output_type": "stream",
     "text": [
      "7 2\n",
      "1 2\n",
      "2 3\n",
      "3 4\n",
      "4 5\n",
      "5 6\n",
      "6 7\n",
      "7 8\n",
      "1\n"
     ]
    }
   ],
   "source": [
    "from collections import deque\n",
    "\n",
    "n, k = map(int, input().split())\n",
    "li = [list(map(int, input().split())) for _ in range(n)]\n",
    "\n",
    "li.sort(key=lambda x: (x[1], x[0]))\n",
    "is_covered = set()\n",
    "\n",
    "if k > 1:\n",
    "    queue = deque()\n",
    "    nxt = 1\n",
    "    wait = -1\n",
    "    for i in range(n):\n",
    "        s, e = li[i]\n",
    "\n",
    "        if not queue:\n",
    "            queue.append((e, nxt))\n",
    "            is_covered.add(i)\n",
    "            nxt += 1\n",
    "        else:\n",
    "            if queue[0][0] < s:\n",
    "                wait = queue.popleft()[1]\n",
    "                \n",
    "            if wait != -1:\n",
    "                queue.append((e, wait))\n",
    "                is_covered.add(i)\n",
    "            else:\n",
    "                if nxt < k:\n",
    "                    queue.append((e, nxt))\n",
    "                    is_covered.add(i)\n",
    "                    nxt += 1\n",
    "                    \n",
    "nli = []\n",
    "for i in range(n):\n",
    "    if i not in is_covered:\n",
    "        nli.append(li[i])\n",
    "        \n",
    "total = 0\n",
    "cur_e = -1\n",
    "for s, e in nli:\n",
    "    if cur_e < s:\n",
    "        cur_e = e\n",
    "        total += 1\n",
    "        \n",
    "print(total)"
   ]
  },
  {
   "cell_type": "markdown",
   "metadata": {},
   "source": [
    "### 200% Mixed Juice! 25312"
   ]
  },
  {
   "cell_type": "code",
   "execution_count": null,
   "metadata": {},
   "outputs": [],
   "source": [
    "설탕량 += (쓸거 * v/w)"
   ]
  },
  {
   "cell_type": "code",
   "execution_count": 4,
   "metadata": {},
   "outputs": [
    {
     "name": "stdout",
     "output_type": "stream",
     "text": [
      "3 6\n",
      "2 3\n",
      "3 5\n",
      "5 8\n",
      "49/5\n"
     ]
    }
   ],
   "source": [
    "from math import gcd\n",
    "import sys\n",
    "input = lambda: sys.stdin.readline().rstrip()\n",
    "\n",
    "n, m = map(int, input().split())\n",
    "li = [list(map(int, input().split())) for _ in range(n)]\n",
    "li.sort(key=lambda x: -(x[1] / x[0]))\n",
    "\n",
    "nums = []\n",
    "denoms = []\n",
    "for i in range(n):\n",
    "    to_use = min(li[i][0], m)\n",
    "    m -= to_use\n",
    "    \n",
    "    nums.append(to_use * li[i][1])\n",
    "    denoms.append(li[i][0])\n",
    "    \n",
    "cur_num = nums[0]\n",
    "cur_denom = denoms[0]\n",
    "\n",
    "g = gcd(cur_num, cur_denom)\n",
    "cur_num //= g\n",
    "cur_denom //= g\n",
    "\n",
    "for i in range(1, n):\n",
    "    cur_num = cur_num * denoms[i] + nums[i] * cur_denom\n",
    "    cur_denom *= denoms[i]\n",
    "    \n",
    "    g = gcd(cur_num, cur_denom)\n",
    "    cur_num //= g\n",
    "    cur_denom //= g\n",
    "    \n",
    "print(f'{cur_num}/{cur_denom}')"
   ]
  },
  {
   "cell_type": "markdown",
   "metadata": {},
   "source": [
    "### Hello World! 13140"
   ]
  },
  {
   "cell_type": "code",
   "execution_count": null,
   "metadata": {},
   "outputs": [],
   "source": [
    "0 1 2 3 4 5 6 7 8 9\n",
    "\n",
    "1 2 3 4 5 6 7"
   ]
  },
  {
   "cell_type": "code",
   "execution_count": null,
   "metadata": {},
   "outputs": [],
   "source": [
    "h e l o w r d"
   ]
  },
  {
   "cell_type": "code",
   "execution_count": 10,
   "metadata": {},
   "outputs": [
    {
     "name": "stdout",
     "output_type": "stream",
     "text": [
      "199991\n",
      "No Answer\n"
     ]
    }
   ],
   "source": [
    "from itertools import permutations as perm\n",
    "\n",
    "n = int(input())\n",
    "\n",
    "for case in perm(range(10), 7):\n",
    "    h, e, l, o, w, r, d = case\n",
    "    if h == 0 or w == 0:\n",
    "        continue\n",
    "    \n",
    "    value = (h + w) * 10000 + (e + o) * 1000 + (l + r) * 100 + l * 20 + (o + d)\n",
    "    \n",
    "    if value == n:\n",
    "        print(f'  {h}{e}{l}{l}{o}')\n",
    "        print(f'+ {w}{o}{r}{l}{d}')\n",
    "        print('-------')\n",
    "        \n",
    "        if n >= 100000:\n",
    "            print(f' {n}')\n",
    "        else:\n",
    "            print(f'  {n}')\n",
    "        break\n",
    "else:\n",
    "    print('No Answer')"
   ]
  },
  {
   "cell_type": "code",
   "execution_count": 11,
   "metadata": {},
   "outputs": [
    {
     "data": {
      "text/plain": [
       "184009"
      ]
     },
     "execution_count": 11,
     "metadata": {},
     "output_type": "execute_result"
    }
   ],
   "source": [
    "97556 + 86453"
   ]
  },
  {
   "cell_type": "markdown",
   "metadata": {},
   "source": [
    "### 아우으 우아으이야!! 15922"
   ]
  },
  {
   "cell_type": "code",
   "execution_count": 13,
   "metadata": {},
   "outputs": [
    {
     "name": "stdout",
     "output_type": "stream",
     "text": [
      "2\n",
      "-10000 10000\n",
      "-1 1\n",
      "20000\n"
     ]
    }
   ],
   "source": [
    "import sys\n",
    "input = lambda: sys.stdin.readline().rstrip()\n",
    "\n",
    "n = int(input())\n",
    "li = [list(map(int, input().split())) for _ in range(n)]\n",
    "\n",
    "total = 0\n",
    "cur_s = li[0][0]\n",
    "cur_e = li[0][1]\n",
    "for s, e in li:\n",
    "    if s <= cur_e:\n",
    "        cur_e = max(cur_e, e)\n",
    "    else:\n",
    "        total += cur_e - cur_s\n",
    "        cur_s = s\n",
    "        cur_e = e\n",
    "        \n",
    "total += cur_e - cur_s\n",
    "\n",
    "print(total)"
   ]
  },
  {
   "cell_type": "code",
   "execution_count": 17,
   "metadata": {},
   "outputs": [
    {
     "name": "stdout",
     "output_type": "stream",
     "text": [
      "2\n",
      "-1000 1000\n",
      "-1 1\n",
      "2000\n"
     ]
    }
   ],
   "source": [
    "import sys\n",
    "# input = lambda: sys.stdin.readline().rstrip()\n",
    "\n",
    "n = int(input())\n",
    "ss = []\n",
    "es = []\n",
    "for _ in range(n):\n",
    "    s, e = map(int, input().split())\n",
    "    ss.append(s)\n",
    "    es.append(e)\n",
    "\n",
    "total = 0\n",
    "cur_s = ss[0]\n",
    "cur_e = es[0]\n",
    "for i in range(1, n):\n",
    "    s = ss[i]\n",
    "    e = es[i]\n",
    "    \n",
    "    if s <= cur_e:\n",
    "        cur_e = max(cur_e, e)\n",
    "    else:\n",
    "        total += cur_e - cur_s\n",
    "        cur_s = s\n",
    "        cur_e = e\n",
    "        \n",
    "total += cur_e - cur_s\n",
    "\n",
    "print(total)"
   ]
  },
  {
   "cell_type": "markdown",
   "metadata": {},
   "source": [
    "### 군인 1321"
   ]
  },
  {
   "cell_type": "code",
   "execution_count": 1,
   "metadata": {},
   "outputs": [
    {
     "name": "stdout",
     "output_type": "stream",
     "text": [
      "5\n",
      "1 4 3 5 2\n",
      "5\n",
      "1 2 -3\n",
      "1 4 2\n",
      "2 5\n",
      "3\n",
      "1 2 4\n",
      "2 5\n",
      "2\n"
     ]
    }
   ],
   "source": [
    "import sys\n",
    "input = lambda: sys.stdin.readline().rstrip()\n",
    "\n",
    "inf = float('inf')\n",
    "\n",
    "class SegmentTree:\n",
    "    def __init__(self, data, default=10**15, func=lambda a, b: max(a,b)):\n",
    "        \"\"\"initialize the segment tree with data\"\"\"\n",
    "        self._default = default\n",
    "        self._func = func\n",
    "        self._len = len(data)\n",
    "        self._size = _size = 1 << (self._len - 1).bit_length()\n",
    " \n",
    "        self.data = [default] * (2 * _size)\n",
    "        self.data[_size:_size + self._len] = data\n",
    "        for i in reversed(range(_size)):\n",
    "            self.data[i] = func(self.data[i + i], self.data[i + i + 1])\n",
    " \n",
    "    def __delitem__(self, idx):\n",
    "        self[idx] = self._default\n",
    " \n",
    "    def __getitem__(self, idx):\n",
    "        return self.data[idx + self._size]\n",
    " \n",
    "    def __setitem__(self, idx, value):\n",
    "        idx += self._size\n",
    "        self.data[idx] = value\n",
    "        idx >>= 1\n",
    "        while idx:\n",
    "            self.data[idx] = self._func(self.data[2 * idx], self.data[2 * idx + 1])\n",
    "            idx >>= 1\n",
    " \n",
    "    def __len__(self):\n",
    "        return self._len\n",
    " \n",
    "    def query(self, start, stop):\n",
    "        if start == stop:\n",
    "            return self.__getitem__(start)\n",
    "        stop += 1\n",
    "        start += self._size\n",
    "        stop += self._size\n",
    " \n",
    "        res = self._default\n",
    "        while start < stop:\n",
    "            if start & 1:\n",
    "                res = self._func(res, self.data[start])\n",
    "                start += 1\n",
    "            if stop & 1:\n",
    "                stop -= 1\n",
    "                res = self._func(res, self.data[stop])\n",
    "            start >>= 1\n",
    "            stop >>= 1\n",
    "        return res\n",
    " \n",
    "    def __repr__(self):\n",
    "        return \"SegmentTree({0})\".format(self.data)\n",
    "    \n",
    "func = lambda a, b: a + b\n",
    "\n",
    "n = int(input())\n",
    "li = list(map(int, input().split()))\n",
    "\n",
    "seg = SegmentTree(li, 0, func=func)\n",
    "for _ in range(int(input())):\n",
    "    qu = list(map(int, input().split()))\n",
    "    \n",
    "    tp = qu[0]\n",
    "    if tp == 1:\n",
    "        seg[qu[1] - 1] += qu[2]\n",
    "    else:\n",
    "        num = qu[1]\n",
    "        \n",
    "        result = inf\n",
    "        start = 0\n",
    "        end = n - 1\n",
    "        while start <= end:\n",
    "            mid = (start + end) // 2\n",
    "            \n",
    "            if num <= seg.query(0, mid):\n",
    "                result = mid\n",
    "                end = mid - 1\n",
    "            else:\n",
    "                start = mid + 1\n",
    "                \n",
    "        print(result + 1)"
   ]
  },
  {
   "cell_type": "markdown",
   "metadata": {},
   "source": [
    "### 나무 심기 1280"
   ]
  },
  {
   "cell_type": "code",
   "execution_count": 2,
   "metadata": {},
   "outputs": [
    {
     "name": "stdout",
     "output_type": "stream",
     "text": [
      "5\n",
      "3\n",
      "4\n",
      "5\n",
      "6\n",
      "7\n",
      "180\n"
     ]
    }
   ],
   "source": [
    "import sys\n",
    "input = lambda: sys.stdin.readline().rstrip()\n",
    "\n",
    "inf = float('inf')\n",
    "\n",
    "mod = 1000000007\n",
    "\n",
    "class SegmentTree:\n",
    "    def __init__(self, data, default=10**15, func=lambda a, b: max(a,b)):\n",
    "        \"\"\"initialize the segment tree with data\"\"\"\n",
    "        self._default = default\n",
    "        self._func = func\n",
    "        self._len = len(data)\n",
    "        self._size = _size = 1 << (self._len - 1).bit_length()\n",
    " \n",
    "        self.data = [default] * (2 * _size)\n",
    "        self.data[_size:_size + self._len] = data\n",
    "        for i in reversed(range(_size)):\n",
    "            self.data[i] = func(self.data[i + i], self.data[i + i + 1])\n",
    " \n",
    "    def __delitem__(self, idx):\n",
    "        self[idx] = self._default\n",
    " \n",
    "    def __getitem__(self, idx):\n",
    "        return self.data[idx + self._size]\n",
    " \n",
    "    def __setitem__(self, idx, value):\n",
    "        idx += self._size\n",
    "        self.data[idx] = value\n",
    "        idx >>= 1\n",
    "        while idx:\n",
    "            self.data[idx] = self._func(self.data[2 * idx], self.data[2 * idx + 1])\n",
    "            idx >>= 1\n",
    " \n",
    "    def __len__(self):\n",
    "        return self._len\n",
    " \n",
    "    def query(self, start, stop):\n",
    "        if start == stop:\n",
    "            return self.__getitem__(start)\n",
    "        stop += 1\n",
    "        start += self._size\n",
    "        stop += self._size\n",
    " \n",
    "        res = self._default\n",
    "        while start < stop:\n",
    "            if start & 1:\n",
    "                res = self._func(res, self.data[start])\n",
    "                start += 1\n",
    "            if stop & 1:\n",
    "                stop -= 1\n",
    "                res = self._func(res, self.data[stop])\n",
    "            start >>= 1\n",
    "            stop >>= 1\n",
    "        return res\n",
    " \n",
    "    def __repr__(self):\n",
    "        return \"SegmentTree({0})\".format(self.data)\n",
    "    \n",
    "func = lambda a, b: a + b\n",
    "\n",
    "n = int(input())\n",
    "li = [0] * 200001\n",
    "\n",
    "seg_sum = SegmentTree(li, 0, func=func)\n",
    "seg_ct_sum = SegmentTree(li, 0, func=func)\n",
    "\n",
    "init = int(input())\n",
    "\n",
    "seg_sum[init] += init\n",
    "seg_ct_sum[init] += 1\n",
    "\n",
    "cur = 1 \n",
    "for _ in range(n - 1):\n",
    "    num = int(input())\n",
    "    \n",
    "    t1 = num * seg_ct_sum.query(0, num) - seg_sum.query(0, num)\n",
    "    t2 = seg_sum.query(num, 200000) - num * seg_ct_sum.query(num, 200000)\n",
    "    \n",
    "    value = t1 + t2\n",
    "    cur *= value\n",
    "    cur %= mod\n",
    "    \n",
    "    seg_sum[num] += num\n",
    "    seg_ct_sum[num] += 1\n",
    "    \n",
    "print(cur)"
   ]
  },
  {
   "cell_type": "code",
   "execution_count": 6,
   "metadata": {},
   "outputs": [
    {
     "name": "stdout",
     "output_type": "stream",
     "text": [
      "5\n",
      "1 11\n",
      "1 29\n",
      "1 89\n",
      "2 2\n",
      "29\n",
      "2 2\n",
      "89\n"
     ]
    }
   ],
   "source": [
    "import sys\n",
    "input = lambda: sys.stdin.readline().rstrip()\n",
    "\n",
    "inf = float('inf')\n",
    "\n",
    "class SegmentTree:\n",
    "    def __init__(self, data, default=10**15, func=lambda a, b: max(a,b)):\n",
    "        \"\"\"initialize the segment tree with data\"\"\"\n",
    "        self._default = default\n",
    "        self._func = func\n",
    "        self._len = len(data)\n",
    "        self._size = _size = 1 << (self._len - 1).bit_length()\n",
    " \n",
    "        self.data = [default] * (2 * _size)\n",
    "        self.data[_size:_size + self._len] = data\n",
    "        for i in reversed(range(_size)):\n",
    "            self.data[i] = func(self.data[i + i], self.data[i + i + 1])\n",
    " \n",
    "    def __delitem__(self, idx):\n",
    "        self[idx] = self._default\n",
    " \n",
    "    def __getitem__(self, idx):\n",
    "        return self.data[idx + self._size]\n",
    " \n",
    "    def __setitem__(self, idx, value):\n",
    "        idx += self._size\n",
    "        self.data[idx] = value\n",
    "        idx >>= 1\n",
    "        while idx:\n",
    "            self.data[idx] = self._func(self.data[2 * idx], self.data[2 * idx + 1])\n",
    "            idx >>= 1\n",
    " \n",
    "    def __len__(self):\n",
    "        return self._len\n",
    " \n",
    "    def query(self, start, stop):\n",
    "        if start == stop:\n",
    "            return self.__getitem__(start)\n",
    "        stop += 1\n",
    "        start += self._size\n",
    "        stop += self._size\n",
    " \n",
    "        res = self._default\n",
    "        while start < stop:\n",
    "            if start & 1:\n",
    "                res = self._func(res, self.data[start])\n",
    "                start += 1\n",
    "            if stop & 1:\n",
    "                stop -= 1\n",
    "                res = self._func(res, self.data[stop])\n",
    "            start >>= 1\n",
    "            stop >>= 1\n",
    "        return res\n",
    " \n",
    "    def __repr__(self):\n",
    "        return \"SegmentTree({0})\".format(self.data)\n",
    "    \n",
    "func = lambda a, b: a + b\n",
    "li = [0] * 2000001\n",
    "seg = SegmentTree(li, 0, func=func)\n",
    "\n",
    "n = int(input())\n",
    "for _ in range(n):\n",
    "    tp, x = map(int, input().split())\n",
    "    \n",
    "    if tp == 1:\n",
    "        seg[x] += 1\n",
    "    else:\n",
    "        start = 0\n",
    "        end = 2000000\n",
    "        result = inf\n",
    "        while start <= end:\n",
    "            mid = (start + end) // 2\n",
    "            \n",
    "            value = seg.query(0, mid)\n",
    "            \n",
    "            if x <= value:\n",
    "                result = mid\n",
    "                end = mid - 1\n",
    "            else:\n",
    "                start = mid + 1\n",
    "                \n",
    "        print(result)\n",
    "        seg[result] -= 1"
   ]
  },
  {
   "cell_type": "markdown",
   "metadata": {},
   "source": [
    "### 크게 만들기 2812"
   ]
  },
  {
   "cell_type": "code",
   "execution_count": 5,
   "metadata": {},
   "outputs": [
    {
     "name": "stdout",
     "output_type": "stream",
     "text": [
      "10 4\n",
      "4177252841\n",
      "775841\n"
     ]
    }
   ],
   "source": [
    "n, k = map(int, input().split())\n",
    "li = list(map(int, input()))\n",
    "\n",
    "stack = []\n",
    "for v in li:\n",
    "    while stack and k and stack[-1] < v:\n",
    "        stack.pop()\n",
    "        k -= 1\n",
    "    stack.append(v)\n",
    "        \n",
    "for _ in range(k):\n",
    "    stack.pop()\n",
    "    \n",
    "r = int(''.join(map(str, stack)))\n",
    "\n",
    "print(r)"
   ]
  },
  {
   "cell_type": "markdown",
   "metadata": {},
   "source": [
    "### Sequences 5101"
   ]
  },
  {
   "cell_type": "code",
   "execution_count": 8,
   "metadata": {},
   "outputs": [
    {
     "name": "stdout",
     "output_type": "stream",
     "text": [
      "-1 -3 -8\n",
      "X\n"
     ]
    }
   ],
   "source": [
    "import sys\n",
    "input = lambda: sys.stdin.readline().rstrip()\n",
    "\n",
    "while True:\n",
    "    init, inc, to_test = map(int, input().split())\n",
    "    if init == inc == to_test == 0:\n",
    "        break\n",
    "\n",
    "    diff = to_test - init\n",
    "    if diff % inc != 0:\n",
    "        print('X')\n",
    "    else:\n",
    "        if diff // inc < 0:\n",
    "            print('X')\n",
    "        else:\n",
    "            print(diff // inc + 1)"
   ]
  },
  {
   "cell_type": "markdown",
   "metadata": {},
   "source": [
    "### 스피카 21316"
   ]
  },
  {
   "cell_type": "code",
   "execution_count": null,
   "metadata": {},
   "outputs": [],
   "source": [
    "1 3 2\n",
    "\n",
    "2 3 2\n",
    "1 3 3\n",
    "3 2 2"
   ]
  },
  {
   "cell_type": "code",
   "execution_count": 1,
   "metadata": {},
   "outputs": [
    {
     "name": "stdout",
     "output_type": "stream",
     "text": [
      "1 2\n",
      "2 3\n",
      "3 4\n",
      "4 5\n",
      "3 7\n",
      "4 9\n",
      "6 7\n",
      "7 8\n",
      "9 8\n",
      "9 10\n",
      "10 11\n",
      "12 11\n",
      "7\n"
     ]
    }
   ],
   "source": [
    "li = [[] for _ in range(13)]\n",
    "for _ in range(12):\n",
    "    x, y = map(int, input().split())\n",
    "    li[x].append(y)\n",
    "    li[y].append(x)\n",
    "    \n",
    "r = -1\n",
    "for num in range(1, 13):\n",
    "    if len(li[num]) == 3:\n",
    "        temp = []\n",
    "        for v in li[num]:\n",
    "            temp.append(len(li[v]))\n",
    "        temp.sort()\n",
    "        \n",
    "        if temp == [1, 2, 3]:\n",
    "            r = num\n",
    "            break\n",
    "            \n",
    "print(r)"
   ]
  },
  {
   "cell_type": "markdown",
   "metadata": {},
   "source": [
    "2"
   ]
  },
  {
   "cell_type": "code",
   "execution_count": 31,
   "metadata": {},
   "outputs": [
    {
     "name": "stdout",
     "output_type": "stream",
     "text": [
      "17321\n"
     ]
    }
   ],
   "source": [
    "from collections import deque\n",
    "\n",
    "li = list(range(1, 301))\n",
    "n = len(li)\n",
    "\n",
    "r = 0\n",
    "for start in range(n):\n",
    "    for end in range(start, n):\n",
    "        deq = deque(li[start:end + 1])\n",
    "\n",
    "        ip = False\n",
    "        while len(deq) >= 2:\n",
    "            if deq[0] == deq[-1]:\n",
    "                ip = True\n",
    "                break\n",
    "\n",
    "            if deq[0] < deq[-1]:\n",
    "                a = deq.popleft()\n",
    "                b = deq.popleft()\n",
    "                deq.appendleft(a + b)\n",
    "            elif deq[0] > deq[-1]:\n",
    "                a = deq.pop()\n",
    "                b = deq.pop()\n",
    "                deq.append(a + b)\n",
    "\n",
    "        if ip:\n",
    "            r += 1\n",
    "            \n",
    "print(r)"
   ]
  },
  {
   "cell_type": "code",
   "execution_count": null,
   "metadata": {},
   "outputs": [],
   "source": [
    "def solution(arr):\n",
    "    cnt = 0\n",
    "    n = len(arr)\n",
    "\n",
    "    # 모든 숫자가 같은 경우\n",
    "    if arr.count(arr[0]) == n:\n",
    "        return n * (n-1) / 2\n",
    "\n",
    "    # 랜덤하게 연속된 문자열 선택\n",
    "    for i in range(n-1):\n",
    "        for j in range(i+1, n+1):\n",
    "            tmp = arr[i:j]\n",
    "\n",
    "            # 이미 팰린드롬인 경우\n",
    "            if len(tmp) >= 2:\n",
    "                if tmp == tmp[::-1]:\n",
    "                    cnt += 1\n",
    "                    continue\n",
    "            \n",
    "            # 덧셈 팰린드롬 수행\n",
    "            while len(tmp) >= 3:\n",
    "                for k in range(len(tmp)-1):\n",
    "                    new_tmp = tmp[:k] + [sum(tmp[k:k+2])] + tmp[k+2:]\n",
    "\n",
    "                    if len(new_tmp) >= 2:\n",
    "                        if new_tmp == new_tmp[::-1]:\n",
    "                            cnt += 1\n",
    "                            break\n",
    "                tmp = new_tmp\n",
    "\n",
    "    return cnt\n",
    "\n",
    "arr = list(range(1, 301))\n",
    "res = solution(arr)\n",
    "res"
   ]
  },
  {
   "cell_type": "code",
   "execution_count": 9,
   "metadata": {},
   "outputs": [
    {
     "name": "stdout",
     "output_type": "stream",
     "text": [
      "6 3\n",
      "6 1 3\n",
      "5 5 5\n",
      "deque([(0, 5), (2, 7), (5, 10)])\n",
      "5 6 5 6 6 5\n"
     ]
    }
   ],
   "source": [
    "from collections import deque\n",
    "import sys\n",
    "input = lambda: sys.stdin.readline().rstrip()\n",
    "\n",
    "inf = float('inf')\n",
    "\n",
    "for _ in range(int(input())):\n",
    "    input()\n",
    "    \n",
    "    n, k = map(int, input().split())\n",
    "    a = list(map(int, input().split()))\n",
    "    t = list(map(int, input().split()))\n",
    "\n",
    "    li = [(a[i], t[i]) for i in range(k)]\n",
    "    li.sort(key=lambda x: x[0])\n",
    "\n",
    "    a = []\n",
    "    t = []\n",
    "    for v in li:\n",
    "        a.append(v[0])\n",
    "        t.append(v[1])\n",
    "\n",
    "    rights = deque()\n",
    "    for ai in range(k):\n",
    "        affected = t[ai] + a[ai] - 1\n",
    "\n",
    "        while rights and affected <= rights[-1][-1]:\n",
    "            rights.pop()\n",
    "\n",
    "        rights.append((a[ai] - 1, affected))\n",
    "\n",
    "    left_min = inf\n",
    "    result = [0] * n\n",
    "    to_minus = 0\n",
    "    for i in range(n):\n",
    "        left_min += 1\n",
    "        if rights and rights[0][0] == i - 1:\n",
    "            index, affected = rights.popleft()\n",
    "            affected -= to_minus\n",
    "            affected += 2\n",
    "            if affected < left_min:\n",
    "                left_min = affected\n",
    "\n",
    "        min_r = left_min\n",
    "        if rights:\n",
    "            affected = rights[0][1] - to_minus\n",
    "            min_r = min(min_r, affected)\n",
    "\n",
    "        result[i] = min_r\n",
    "\n",
    "        to_minus += 1\n",
    "\n",
    "    print(*result)"
   ]
  },
  {
   "cell_type": "code",
   "execution_count": 13,
   "metadata": {},
   "outputs": [
    {
     "name": "stdout",
     "output_type": "stream",
     "text": [
      "6 3\n",
      "6 1 3\n",
      "5 5 5\n",
      "5 6 5 6 6 5\n"
     ]
    }
   ],
   "source": [
    "import sys\n",
    "input = lambda: sys.stdin.readline().rstrip()\n",
    "\n",
    "inf = float('inf')\n",
    "\n",
    "for _ in range(int(input())):\n",
    "    input()\n",
    "    \n",
    "    n, k = map(int, input().split())\n",
    "    a = list(map(int, input().split()))\n",
    "    t = list(map(int, input().split()))\n",
    "\n",
    "    d = {a[i] - 1: t[i] for i in range(k)}\n",
    "\n",
    "    dp_to_right = [inf] * n\n",
    "    if 0 in d:\n",
    "        dp_to_right[0] = d[0]\n",
    "    for i in range(1, n):\n",
    "        if i in d:\n",
    "            dp_to_right[i] = min(dp_to_right[i - 1] + 1, d[i])\n",
    "        else:\n",
    "            dp_to_right[i] = dp_to_right[i - 1] + 1\n",
    "\n",
    "    dp_to_left = [inf] * n\n",
    "    if n - 1 in d:\n",
    "        dp_to_left[n - 1] = d[n - 1]\n",
    "    for i in range(n - 2, -1, -1):\n",
    "        if i in d:\n",
    "            dp_to_left[i] = min(dp_to_left[i + 1] + 1, d[i])\n",
    "        else:\n",
    "            dp_to_left[i] = dp_to_left[i + 1] + 1\n",
    "\n",
    "    result = [0] * n\n",
    "    for i in range(n):\n",
    "        result[i] = min(dp_to_right[i], dp_to_left[i])\n",
    "\n",
    "    print(*result)"
   ]
  },
  {
   "cell_type": "markdown",
   "metadata": {},
   "source": [
    "https://codeforces.com/problemset/problem/1545/A A. AquaMoon and Strange Sort"
   ]
  },
  {
   "cell_type": "code",
   "execution_count": null,
   "metadata": {},
   "outputs": [],
   "source": [
    "4 3 2 5\n",
    "2 3 4 5\n"
   ]
  },
  {
   "cell_type": "code",
   "execution_count": null,
   "metadata": {},
   "outputs": [],
   "source": [
    "2 3 3 3 1\n",
    "1 2 3 3 3\n",
    "\n",
    "3 3 3 2\n",
    "2 3 3 3\n",
    "\n",
    "3 3 3 3 2\n",
    "2 3 3 3 3\n",
    "  l l l l\n",
    "  r r r r\n",
    "\n",
    "3 3 3 5 5 5 2\n",
    "2 3 3 3 5 5 5\n",
    "  l l l r r r\n",
    "    \n",
    "   r r l\n",
    "   r l r"
   ]
  },
  {
   "cell_type": "code",
   "execution_count": null,
   "metadata": {},
   "outputs": [],
   "source": [
    "3 2 3 2\n",
    "\n",
    "2 2 3 3"
   ]
  },
  {
   "cell_type": "code",
   "execution_count": null,
   "metadata": {},
   "outputs": [],
   "source": [
    "3 2 1\n",
    "2 3 3"
   ]
  },
  {
   "cell_type": "code",
   "execution_count": null,
   "metadata": {},
   "outputs": [],
   "source": [
    "7 1 8 1\n",
    "\n",
    "개수: 짝수, 홀수 문제 없음\n",
    "    \n",
    "홀 홀\n",
    "개수: 짝수 문제 없음"
   ]
  },
  {
   "cell_type": "code",
   "execution_count": null,
   "metadata": {},
   "outputs": [],
   "source": [
    "1 1\n",
    "l r\n",
    "안됨\n",
    "\n",
    "1 1\n",
    "l l\n",
    "됨\n",
    "\n",
    "1 1 1\n",
    "l l r\n",
    "됨\n",
    "\n",
    "1 1 1 1\n",
    "l l r r\n",
    "됨\n",
    "\n",
    "1 1 1\n",
    "r r l\n",
    "안됨\n",
    "\n",
    "1 1 1 1 1\n",
    "r r r l l\n",
    "r r r r r\n",
    "됨\n",
    "\n",
    "l이 홀수개 있으면 안됨"
   ]
  },
  {
   "cell_type": "code",
   "execution_count": 117,
   "metadata": {},
   "outputs": [
    {
     "name": "stdout",
     "output_type": "stream",
     "text": [
      "1\n",
      "6\n",
      "2 1 2 1 2 1\n",
      "NO\n"
     ]
    }
   ],
   "source": [
    "import sys\n",
    "# input = lambda: sys.stdin.readline().rstrip()\n",
    "\n",
    "def check(temp):\n",
    "    while temp:\n",
    "        if temp[-1] == 0:\n",
    "            temp.pop()\n",
    "        else:\n",
    "            if len(temp) <= 1:\n",
    "                return False\n",
    "            else:\n",
    "                if temp[-2] == 1:\n",
    "                    temp.pop()\n",
    "                    temp.pop()\n",
    "                else:\n",
    "                    return False\n",
    "                \n",
    "    return True\n",
    "    \n",
    "\n",
    "for _ in range(int(input())):\n",
    "    n = int(input())\n",
    "    li = list(map(int, input().split()))\n",
    "\n",
    "    li = [(i, v) for i, v in enumerate(li)]\n",
    "    li.sort(key=lambda x: (x[1], x[0]))\n",
    "\n",
    "    ip = True\n",
    "    temp = []\n",
    "    fv = -1\n",
    "    for i in range(n):\n",
    "        if li[i][1] != fv:\n",
    "            if not check(temp):\n",
    "                ip = False\n",
    "                break\n",
    "                \n",
    "            fv = li[i][1]\n",
    "            temp = []\n",
    "\n",
    "        if (li[i][0] - i) % 2 == 0:\n",
    "            temp.append(0)\n",
    "        else:\n",
    "            temp.append(1)\n",
    "        \n",
    "    if not check(temp):\n",
    "        ip = False\n",
    "\n",
    "    if ip:\n",
    "        print('YES')\n",
    "    else:\n",
    "        print('NO')"
   ]
  },
  {
   "cell_type": "code",
   "execution_count": null,
   "metadata": {},
   "outputs": [],
   "source": [
    "l l l r r r\n"
   ]
  },
  {
   "cell_type": "code",
   "execution_count": null,
   "metadata": {},
   "outputs": [],
   "source": [
    "r l l\n",
    "\n",
    "r r r"
   ]
  },
  {
   "cell_type": "code",
   "execution_count": null,
   "metadata": {},
   "outputs": [],
   "source": [
    "2 1 2 1 2 1\n",
    "\n",
    "1 1 1 2 2 2\n",
    "l r l l r l"
   ]
  },
  {
   "cell_type": "code",
   "execution_count": null,
   "metadata": {},
   "outputs": [],
   "source": [
    "1 1 1\n",
    "l r l\n",
    "\n",
    "1 1 1\n",
    "r l l\n",
    "r r r"
   ]
  },
  {
   "cell_type": "code",
   "execution_count": null,
   "metadata": {},
   "outputs": [],
   "source": [
    "3 3 3 5\n",
    "r r l r\n",
    "\n",
    "3 3 3 5\n",
    "l l l r\n",
    "\n",
    "3 3 5 3\n",
    "l l l r"
   ]
  },
  {
   "cell_type": "code",
   "execution_count": null,
   "metadata": {},
   "outputs": [],
   "source": [
    "11\n",
    "1 2 3 1 2 3\n",
    "1 1 2 2 3 3"
   ]
  },
  {
   "cell_type": "code",
   "execution_count": null,
   "metadata": {},
   "outputs": [],
   "source": [
    "2 1 2 1 2 1\n",
    "r r r r r r\n",
    "\n",
    "1 2 2 1 2 1\n",
    "l l r r r r\n",
    "\n",
    "1 2 1 2 2 1\n",
    "l l l l r r\n",
    "\n",
    "1 1 2 2 2 1\n",
    "l r r l r r\n",
    "\n",
    "1 1 2 2 1 2\n",
    "l r r l l l\n",
    "\n",
    "1 1 2 1 2 2\n",
    "l r r r r l\n",
    "\n",
    "1 1 1 2 2 2\n",
    "l r l l r l\n",
    "\n",
    "1 1 1 2 2 2\n",
    "l r l l r l"
   ]
  },
  {
   "cell_type": "markdown",
   "metadata": {},
   "source": [
    "https://codeforces.com/problemset/problem/1538/F F. Interesting Function"
   ]
  },
  {
   "cell_type": "code",
   "execution_count": null,
   "metadata": {},
   "outputs": [],
   "source": [
    "a1 = 0 -> 10  11 = 10 -> 20\n",
    "a2 = 0 -> 10, .., 80 -> 90, 90 -> 100 10a1 + 1\n",
    "a3 = 10a2 + 1\n",
    "\n",
    "0 -> l + l -> r == 0 -> r"
   ]
  },
  {
   "cell_type": "code",
   "execution_count": 39,
   "metadata": {},
   "outputs": [
    {
     "name": "stdout",
     "output_type": "stream",
     "text": [
      "1\n",
      "9 10\n",
      "2\n"
     ]
    }
   ],
   "source": [
    "import sys\n",
    "input = lambda: sys.stdin.readline().rstrip()\n",
    "\n",
    "def get_value(v):\n",
    "    total = 0\n",
    "    w = 1\n",
    "    while v:\n",
    "        remained = v % 10\n",
    "        total += w * remained\n",
    "        w *= 10\n",
    "        w += 1\n",
    "        v //= 10\n",
    "        \n",
    "    return total\n",
    "\n",
    "for _ in range(int(input())):\n",
    "    l, r = map(int, input().split())\n",
    "\n",
    "    result = get_value(r) - get_value(l)\n",
    "\n",
    "    print(result)"
   ]
  },
  {
   "cell_type": "code",
   "execution_count": null,
   "metadata": {},
   "outputs": [],
   "source": [
    "from collections import defaultdict as dd\n",
    "from math import gcd\n",
    "import sys\n",
    "input = lambda: sys.stdin.readline().rstrip()\n",
    "\n",
    "for _ in range(int(input())):\n",
    "    n = int(input())\n",
    "    s = input()\n",
    "\n",
    "    cd = 0\n",
    "    ck = 0\n",
    "    ct = dd(int)\n",
    "    result = [1] * n\n",
    "    for i in range(n):\n",
    "        if s[i] == 'D':\n",
    "            cd += 1\n",
    "        else:\n",
    "            ck += 1\n",
    "\n",
    "        g = gcd(cd, ck)\n",
    "\n",
    "        ncd = cd // g\n",
    "        nck = ck // g\n",
    "\n",
    "        cur = (ncd, nck)\n",
    "        result[i] += ct[cur]\n",
    "        ct[cur] += 1\n",
    "\n",
    "    print(*result)"
   ]
  },
  {
   "cell_type": "markdown",
   "metadata": {},
   "source": [
    "https://codeforces.com/problemset/problem/1526/C1 C1. Potions (Easy Version)"
   ]
  },
  {
   "cell_type": "markdown",
   "metadata": {},
   "source": [
    "3.53 4.14"
   ]
  },
  {
   "cell_type": "code",
   "execution_count": 48,
   "metadata": {},
   "outputs": [
    {
     "name": "stdout",
     "output_type": "stream",
     "text": [
      "6\n",
      "4 -4 1 -3 1 -3\n",
      "5\n"
     ]
    }
   ],
   "source": [
    "from heapq import heappush, heappop\n",
    "\n",
    "n = int(input())\n",
    "li = list(map(int, input().split()))\n",
    "\n",
    "heap = []\n",
    "total = 0\n",
    "cur = 0\n",
    "for v in li:\n",
    "    if v >= 0:\n",
    "        total += 1\n",
    "        cur += v\n",
    "    else:\n",
    "        if cur + v >= 0:\n",
    "            cur += v\n",
    "            heappush(heap, v)\n",
    "            total += 1\n",
    "        else:\n",
    "            if heap and heap[0] < v:\n",
    "                cur = cur - heap[0] + v\n",
    "                heappop(heap)\n",
    "                heappush(heap, v)\n",
    "                \n",
    "print(total)"
   ]
  },
  {
   "cell_type": "markdown",
   "metadata": {},
   "source": [
    "https://codeforces.com/problemset/problem/1516/B B. AGAGA XOOORRR"
   ]
  },
  {
   "cell_type": "markdown",
   "metadata": {},
   "source": [
    "4.15 4.47 -2"
   ]
  },
  {
   "cell_type": "code",
   "execution_count": null,
   "metadata": {},
   "outputs": [],
   "source": [
    "000 101 111 101 101"
   ]
  },
  {
   "cell_type": "code",
   "execution_count": 51,
   "metadata": {},
   "outputs": [
    {
     "data": {
      "text/plain": [
       "0"
      ]
     },
     "execution_count": 51,
     "metadata": {},
     "output_type": "execute_result"
    }
   ],
   "source": [
    "1 ^ 2 ^ 3"
   ]
  },
  {
   "cell_type": "code",
   "execution_count": 52,
   "metadata": {},
   "outputs": [
    {
     "data": {
      "text/plain": [
       "3"
      ]
     },
     "execution_count": 52,
     "metadata": {},
     "output_type": "execute_result"
    }
   ],
   "source": [
    "1 ^ 2"
   ]
  },
  {
   "cell_type": "code",
   "execution_count": 55,
   "metadata": {},
   "outputs": [
    {
     "name": "stdout",
     "output_type": "stream",
     "text": [
      "3\n",
      "0 2 2\n",
      "YES\n"
     ]
    }
   ],
   "source": [
    "import sys\n",
    "input = lambda: sys.stdin.readline().rstrip()\n",
    "\n",
    "for _ in range(int(input())):\n",
    "    n = int(input())\n",
    "    li = list(map(int, input().split()))\n",
    "\n",
    "    cur = li[0]\n",
    "    for i in range(1, n):\n",
    "        cur ^= li[i]\n",
    "\n",
    "    if cur == 0:\n",
    "        print('YES')\n",
    "    else:\n",
    "        print('NO')"
   ]
  },
  {
   "cell_type": "code",
   "execution_count": 84,
   "metadata": {},
   "outputs": [
    {
     "name": "stdout",
     "output_type": "stream",
     "text": [
      "1\n",
      "3\n",
      "0 2 2\n",
      "YES\n"
     ]
    }
   ],
   "source": [
    "import sys\n",
    "# input = lambda: sys.stdin.readline().rstrip()\n",
    "\n",
    "for _ in range(int(input())):\n",
    "    n = int(input())\n",
    "    li = list(map(int, input().split()))\n",
    "\n",
    "    to_right = [0] * n\n",
    "    cur = li[0]\n",
    "    to_right[0] = cur\n",
    "    for i in range(1, n):\n",
    "        cur ^= li[i]\n",
    "        to_right[i] = cur\n",
    "\n",
    "    to_left = [0] * n\n",
    "    cur = li[n - 1]\n",
    "    to_left[n - 1] = cur\n",
    "    for i in range(n - 2, -1, -1):\n",
    "        cur ^= li[i]\n",
    "        to_left[i] = cur\n",
    "\n",
    "    ip = False\n",
    "    for i in range(n - 1):\n",
    "        if to_right[i] == to_left[i + 1]:\n",
    "            ip = True\n",
    "            break\n",
    "\n",
    "    for l in range(n):\n",
    "        for r in range(l + 2, n):\n",
    "            a = to_right[l]\n",
    "            b = to_left[r]\n",
    "            \n",
    "            start = l + 1\n",
    "            end = r - 1\n",
    "            c = to_right[end] ^ to_right[start - 1]\n",
    "            \n",
    "            if a == b == c:\n",
    "                ip = True\n",
    "                break\n",
    "        if ip:\n",
    "            break\n",
    "\n",
    "    if ip:\n",
    "        print('YES')\n",
    "    else:\n",
    "        print('NO')"
   ]
  },
  {
   "cell_type": "markdown",
   "metadata": {},
   "source": [
    "https://codeforces.com/problemset/problem/1515/D D. Phoenix and Socks"
   ]
  },
  {
   "cell_type": "markdown",
   "metadata": {},
   "source": [
    "5.42 6.04"
   ]
  },
  {
   "cell_type": "code",
   "execution_count": null,
   "metadata": {},
   "outputs": [],
   "source": [
    "먼저, 매칭 가능한건 전부 매칭시킴\n",
    "\n",
    "많은 곳에서 적은 곳으로 옮겨야 함\n",
    "많은 곳에서 매칭 가능한 것들부터 옮김"
   ]
  },
  {
   "cell_type": "code",
   "execution_count": 121,
   "metadata": {},
   "outputs": [
    {
     "name": "stdout",
     "output_type": "stream",
     "text": [
      "4 0 4\n",
      "4 4 4 3\n",
      "3\n"
     ]
    }
   ],
   "source": [
    "from collections import defaultdict as dd\n",
    "import sys\n",
    "input = lambda: sys.stdin.readline().rstrip()\n",
    "\n",
    "for _ in range(int(input())):\n",
    "    n, l, r = map(int, input().split())\n",
    "    li = list(map(int, input().split()))\n",
    "\n",
    "    ct_l = dd(int)\n",
    "    ct_r = dd(int)\n",
    "\n",
    "    for i in range(l):\n",
    "        ct_l[str(li[i])] += 1\n",
    "\n",
    "    for i in range(l, n):\n",
    "        ct_r[str(li[i])] += 1\n",
    "\n",
    "    for key in ct_l:\n",
    "        can_reduce = min(ct_l[key], ct_r[key])\n",
    "        ct_l[key] -= can_reduce\n",
    "        ct_r[key] -= can_reduce\n",
    "        l -= can_reduce\n",
    "        r -= can_reduce\n",
    "\n",
    "    total = 0\n",
    "    if l < r:\n",
    "        diff = r - l\n",
    "        to_move = diff // 2\n",
    "        for key in ct_r:\n",
    "            while ct_r[key] >= 2:\n",
    "                ct_r[key] -= 2\n",
    "                to_move -= 1\n",
    "                total += 1\n",
    "\n",
    "                if to_move == 0:\n",
    "                    break\n",
    "            if to_move == 0:\n",
    "                break\n",
    "\n",
    "        total += to_move * 2\n",
    "        r -= diff\n",
    "        total += r\n",
    "    elif r < l:\n",
    "        diff = l - r\n",
    "        to_move = diff // 2\n",
    "        for key in ct_l:\n",
    "            while ct_l[key] >= 2:\n",
    "                ct_l[key] -= 2\n",
    "                to_move -= 1\n",
    "                total += 1\n",
    "\n",
    "                if to_move == 0:\n",
    "                    break\n",
    "            if to_move == 0:\n",
    "                break\n",
    "\n",
    "        total += to_move * 2\n",
    "        l -= diff\n",
    "        total += l    \n",
    "    else:\n",
    "        total = l\n",
    "\n",
    "    print(total)"
   ]
  },
  {
   "cell_type": "markdown",
   "metadata": {},
   "source": [
    "https://codeforces.com/problemset/problem/1506/E E. Restoring the Permutation"
   ]
  },
  {
   "cell_type": "markdown",
   "metadata": {},
   "source": [
    "6.06 6.20"
   ]
  },
  {
   "cell_type": "code",
   "execution_count": 132,
   "metadata": {},
   "outputs": [
    {
     "name": "stdout",
     "output_type": "stream",
     "text": [
      "1\n",
      "1\n",
      "1\n",
      "1\n"
     ]
    }
   ],
   "source": [
    "import sys\n",
    "input = lambda: sys.stdin.readline().rstrip()\n",
    "\n",
    "# https://github.com/tatyam-prime/SortedSet/blob/main/SortedMultiset.py\n",
    "import math\n",
    "from bisect import bisect_left, bisect_right, insort\n",
    "from typing import Generic, Iterable, Iterator, TypeVar, Union, List\n",
    "T = TypeVar('T')\n",
    "\n",
    "class SortedMultiset(Generic[T]):\n",
    "    BUCKET_RATIO = 50\n",
    "    REBUILD_RATIO = 170\n",
    "\n",
    "    def _build(self, a=None) -> None:\n",
    "        \"Evenly divide `a` into buckets.\"\n",
    "        if a is None: a = list(self)\n",
    "        size = self.size = len(a)\n",
    "        bucket_size = int(math.ceil(math.sqrt(size / self.BUCKET_RATIO)))\n",
    "        self.a = [a[size * i // bucket_size : size * (i + 1) // bucket_size] for i in range(bucket_size)]\n",
    "    \n",
    "    def __init__(self, a: Iterable[T] = []) -> None:\n",
    "        \"Make a new SortedMultiset from iterable. / O(N) if sorted / O(N log N)\"\n",
    "        a = list(a)\n",
    "        if not all(a[i] <= a[i + 1] for i in range(len(a) - 1)):\n",
    "            a = sorted(a)\n",
    "        self._build(a)\n",
    "\n",
    "    def __iter__(self) -> Iterator[T]:\n",
    "        for i in self.a:\n",
    "            for j in i: yield j\n",
    "\n",
    "    def __reversed__(self) -> Iterator[T]:\n",
    "        for i in reversed(self.a):\n",
    "            for j in reversed(i): yield j\n",
    "    \n",
    "    def __len__(self) -> int:\n",
    "        return self.size\n",
    "    \n",
    "    def __repr__(self) -> str:\n",
    "        return \"SortedMultiset\" + str(self.a)\n",
    "    \n",
    "    def __str__(self) -> str:\n",
    "        s = str(list(self))\n",
    "        return \"{\" + s[1 : len(s) - 1] + \"}\"\n",
    "\n",
    "    def _find_bucket(self, x: T) -> List[T]:\n",
    "        \"Find the bucket which should contain x. self must not be empty.\"\n",
    "        for a in self.a:\n",
    "            if x <= a[-1]: return a\n",
    "        return a\n",
    "\n",
    "    def __contains__(self, x: T) -> bool:\n",
    "        if self.size == 0: return False\n",
    "        a = self._find_bucket(x)\n",
    "        i = bisect_left(a, x)\n",
    "        return i != len(a) and a[i] == x\n",
    "\n",
    "    def count(self, x: T) -> int:\n",
    "        \"Count the number of x.\"\n",
    "        return self.index_right(x) - self.index(x)\n",
    "\n",
    "    def add(self, x: T) -> None:\n",
    "        \"Add an element. / O(√N)\"\n",
    "        if self.size == 0:\n",
    "            self.a = [[x]]\n",
    "            self.size = 1\n",
    "            return\n",
    "        a = self._find_bucket(x)\n",
    "        insort(a, x)\n",
    "        self.size += 1\n",
    "        if len(a) > len(self.a) * self.REBUILD_RATIO:\n",
    "            self._build()\n",
    "\n",
    "    def discard(self, x: T) -> bool:\n",
    "        \"Remove an element and return True if removed. / O(√N)\"\n",
    "        if self.size == 0: return False\n",
    "        a = self._find_bucket(x)\n",
    "        i = bisect_left(a, x)\n",
    "        if i == len(a) or a[i] != x: return False\n",
    "        a.pop(i)\n",
    "        self.size -= 1\n",
    "        if len(a) == 0: self._build()\n",
    "        return True\n",
    "\n",
    "    def lt(self, x: T) -> Union[T, None]:\n",
    "        \"Find the largest element < x, or None if it doesn't exist.\"\n",
    "        for a in reversed(self.a):\n",
    "            if a[0] < x:\n",
    "                return a[bisect_left(a, x) - 1]\n",
    "\n",
    "    def le(self, x: T) -> Union[T, None]:\n",
    "        \"Find the largest element <= x, or None if it doesn't exist.\"\n",
    "        for a in reversed(self.a):\n",
    "            if a[0] <= x:\n",
    "                return a[bisect_right(a, x) - 1]\n",
    "\n",
    "    def gt(self, x: T) -> Union[T, None]:\n",
    "        \"Find the smallest element > x, or None if it doesn't exist.\"\n",
    "        for a in self.a:\n",
    "            if a[-1] > x:\n",
    "                return a[bisect_right(a, x)]\n",
    "\n",
    "    def ge(self, x: T) -> Union[T, None]:\n",
    "        \"Find the smallest element >= x, or None if it doesn't exist.\"\n",
    "        for a in self.a:\n",
    "            if a[-1] >= x:\n",
    "                return a[bisect_left(a, x)]\n",
    "    \n",
    "    def __getitem__(self, x: int) -> T:\n",
    "        \"Return the x-th element, or IndexError if it doesn't exist.\"\n",
    "        if x < 0: x += self.size\n",
    "        if x < 0: raise IndexError\n",
    "        for a in self.a:\n",
    "            if x < len(a): return a[x]\n",
    "            x -= len(a)\n",
    "        raise IndexError\n",
    "\n",
    "    def index(self, x: T) -> int:\n",
    "        \"Count the number of elements < x.\"\n",
    "        ans = 0\n",
    "        for a in self.a:\n",
    "            if a[-1] >= x:\n",
    "                return ans + bisect_left(a, x)\n",
    "            ans += len(a)\n",
    "        return ans\n",
    "\n",
    "    def index_right(self, x: T) -> int:\n",
    "        \"Count the number of elements <= x.\"\n",
    "        ans = 0\n",
    "        for a in self.a:\n",
    "            if a[-1] > x:\n",
    "                return ans + bisect_right(a, x)\n",
    "            ans += len(a)\n",
    "        return ans\n",
    "\n",
    "for _ in range(int(input())):\n",
    "    n = int(input())\n",
    "    li = list(map(int, input().split()))\n",
    "\n",
    "    st = set(li)\n",
    "    left = set(range(1, n + 1)) - st\n",
    "    nleft = sorted(left)\n",
    "\n",
    "    min_r = [-1] * n\n",
    "    min_r[0] = li[0]\n",
    "    left_i = 0\n",
    "    for i in range(1, n):\n",
    "        if li[i - 1] != li[i]:\n",
    "            min_r[i] = li[i]\n",
    "        else:\n",
    "            min_r[i] = nleft[left_i]\n",
    "            left_i += 1\n",
    "\n",
    "    ms = SortedMultiset()    \n",
    "    for v in left:\n",
    "        ms.add(v)\n",
    "\n",
    "    max_r = [-1] * n\n",
    "    max_r[0] = li[0]\n",
    "    cur_max = li[0]\n",
    "    for i in range(1, n):\n",
    "        if li[i - 1] != li[i]:\n",
    "            max_r[i] = li[i]\n",
    "            cur_max = li[i]\n",
    "        else:\n",
    "            index = ms.index(cur_max) - 1\n",
    "            v = ms[index]\n",
    "            ms.discard(v)\n",
    "            max_r[i] = v\n",
    "\n",
    "    print(*min_r)\n",
    "    print(*max_r)"
   ]
  },
  {
   "cell_type": "code",
   "execution_count": null,
   "metadata": {},
   "outputs": [],
   "source": [
    "import sys\n",
    "from bisect import bisect_left\n",
    "input = lambda: sys.stdin.readline().rstrip()\n",
    "\n",
    "for _ in range(int(input())):\n",
    "    n = int(input())\n",
    "    li = list(map(int, input().split()))\n",
    "\n",
    "    st = set(li)\n",
    "    left = set(range(1, n + 1)) - st\n",
    "    nleft = sorted(left)\n",
    "\n",
    "    min_r = [-1] * n\n",
    "    min_r[0] = li[0]\n",
    "    left_i = 0\n",
    "    for i in range(1, n):\n",
    "        if li[i - 1] != li[i]:\n",
    "            min_r[i] = li[i]\n",
    "        else:\n",
    "            min_r[i] = nleft[left_i]\n",
    "            left_i += 1\n",
    "\n",
    "    max_r = [-1] * n\n",
    "    max_r[0] = li[0]\n",
    "    for i in range(1, n):\n",
    "        if li[i - 1] != li[i]:\n",
    "            max_r[i] = li[i]\n",
    "        else:\n",
    "            \n",
    "            v = ms[index]\n",
    "            ms.discard(v)\n",
    "            max_r[i] = v\n",
    "\n",
    "    print(*min_r)\n",
    "    print(*max_r)"
   ]
  },
  {
   "cell_type": "markdown",
   "metadata": {},
   "source": [
    "https://www.acmicpc.net/problem/1813 논리학 교수"
   ]
  },
  {
   "cell_type": "code",
   "execution_count": 4,
   "metadata": {},
   "outputs": [
    {
     "name": "stdout",
     "output_type": "stream",
     "text": [
      "4\n",
      "0 1 2 3\n",
      "1\n"
     ]
    }
   ],
   "source": [
    "n = int(input())\n",
    "li = list(map(int, input().split()))\n",
    "\n",
    "r = 0\n",
    "for num in range(1, 51):\n",
    "    if li.count(num) == num:\n",
    "        r = num\n",
    "        \n",
    "if r == 0 and 0 in li:\n",
    "    r = -1\n",
    "    \n",
    "print(r)"
   ]
  },
  {
   "cell_type": "code",
   "execution_count": 18,
   "metadata": {},
   "outputs": [
    {
     "name": "stdout",
     "output_type": "stream",
     "text": [
      "5 3\n",
      "5 1 4\n",
      "9\n"
     ]
    }
   ],
   "source": [
    "n, k = map(int, input().split())\n",
    "li = list(map(int, input().split()))\n",
    "\n",
    "cases = set()\n",
    "for i in range(1, n):\n",
    "    cases.add((i, i))\n",
    "    cases.add((i, i + 1))\n",
    "    cases.add((i + 1, i))\n",
    "cases.add((n, n))\n",
    "\n",
    "st = set()\n",
    "for i in range(k):\n",
    "    cases.discard((li[i], li[i]))\n",
    "    \n",
    "    if li[i] - 1 in st:\n",
    "        cases.discard((li[i] - 1, li[i]))\n",
    "    if li[i] + 1 in st:\n",
    "        cases.discard((li[i] + 1, li[i]))\n",
    "    st.add(li[i])\n",
    "    \n",
    "print(len(cases))"
   ]
  },
  {
   "cell_type": "code",
   "execution_count": null,
   "metadata": {},
   "outputs": [],
   "source": [
    "import sys\n",
    "input = lambda: sys.stdin.readline().rstrip()\n",
    "\n",
    "for tn in range(int(input())):\n",
    "    print(f'Scenario #{tn + 1}:')\n",
    "\n",
    "    m = int(input())\n",
    "    li = [input() for _ in range(m)]\n",
    "\n",
    "    n = int(input())\n",
    "    for _ in range(n):\n",
    "        _, *indices = map(int, input().split())\n",
    "\n",
    "        r = []\n",
    "        for index in indices:\n",
    "            r.append(li[index])\n",
    "\n",
    "        print(''.join(r))\n",
    "    print()"
   ]
  },
  {
   "cell_type": "code",
   "execution_count": 9,
   "metadata": {},
   "outputs": [
    {
     "name": "stdout",
     "output_type": "stream",
     "text": [
      "1 1\n",
      "-1\n"
     ]
    }
   ],
   "source": [
    "A, B = map(int, input().split())\n",
    "\n",
    "a = 1\n",
    "b = 2 * A\n",
    "c = B\n",
    "\n",
    "\n",
    "x1 = (-b + int((b ** 2 - 4 * a * c) ** 0.5)) // (2 * a)\n",
    "x2 = (-b - int((b ** 2 - 4 * a * c) ** 0.5)) // (2 * a)\n",
    "\n",
    "if x1 == x2:\n",
    "    print(x1)\n",
    "else:\n",
    "    print(*sorted([x1, x2]))"
   ]
  },
  {
   "cell_type": "markdown",
   "metadata": {},
   "source": [
    "https://www.acmicpc.net/problem/1983 숫자 박스"
   ]
  },
  {
   "cell_type": "code",
   "execution_count": null,
   "metadata": {},
   "outputs": [],
   "source": [
    "0이 없는 a, b 배열과 a, b 각각의 0 개수를 센다.\n",
    "\n",
    "처음 인덱스부터 순회하면서 a, b가 해당 인덱스 + 1개가 있는 경우까지 순회한다."
   ]
  },
  {
   "cell_type": "code",
   "execution_count": null,
   "metadata": {},
   "outputs": [],
   "source": [
    "0,0 -> 0, 0\n",
    "\n",
    "2, 4   3, 3   3, 4 -> 3, 4"
   ]
  },
  {
   "cell_type": "code",
   "execution_count": 8,
   "metadata": {},
   "outputs": [
    {
     "name": "stdout",
     "output_type": "stream",
     "text": [
      "36\n"
     ]
    }
   ],
   "source": [
    "inf = float('inf')\n",
    "\n",
    "n = int(input())\n",
    "a = list(map(int, input().split()))\n",
    "b = list(map(int, input().split()))\n",
    "\n",
    "aa = []\n",
    "bb = []\n",
    "a0c = 0\n",
    "b0c = 0\n",
    "for i in range(n):\n",
    "    if a[i] == 0:\n",
    "        a0c += 1\n",
    "    else:\n",
    "        aa.append(a[i])\n",
    "        \n",
    "    if b[i] == 0:\n",
    "        b0c += 1\n",
    "    else:\n",
    "        bb.append(b[i])\n",
    "        \n",
    "aa_len = len(aa)\n",
    "bb_len = len(bb)\n",
    "\n",
    "dp = [[[0] * (b0c + 1) for _ in range(a0c + 1)] for _ in range(n)] # dp[n][a0c][b0c]\n",
    "dp[0][0][0] = aa[0] * bb[0]\n",
    "\n",
    "for i in range(1, n):\n",
    "    for cur_a0c in range(min(i + 1, a0c + 1)):\n",
    "        for cur_b0c in range(min(i + 1, b0c + 1)):    \n",
    "            t1 = -inf\n",
    "            if cur_a0c - 1 >= 0:\n",
    "                t1 = dp[i - 1][cur_a0c - 1][cur_b0c]\n",
    "            \n",
    "            t2 = -inf\n",
    "            if cur_b0c - 1 >= 0:\n",
    "                t2 = dp[i - 1][cur_a0c][cur_b0c - 1]\n",
    "                \n",
    "            t3 = -inf\n",
    "            if cur_a0c - 1 >= 0 and cur_b0c - 1 >= 0:\n",
    "                t3 = dp[i - 1][cur_a0c - 1][cur_b0c - 1]\n",
    "                \n",
    "            t4 = -inf\n",
    "            aai = i - cur_a0c\n",
    "            bbi = i - cur_b0c\n",
    "            \n",
    "            if aai < aa_len and bbi < bb_len:\n",
    "                t4 = dp[i - 1][cur_a0c][cur_b0c] + (aa[aai] * bb[bbi])\n",
    "                \n",
    "            dp[i][cur_a0c][cur_b0c] = max(t1, t2, t3, t4)\n",
    "            \n",
    "r = dp[n - 1][a0c][b0c]\n",
    "\n",
    "print(r)"
   ]
  },
  {
   "cell_type": "code",
   "execution_count": 7,
   "metadata": {},
   "outputs": [
    {
     "data": {
      "text/plain": [
       "(2, 0, 2, 2, [-3, -1, -2, 5, -1], [-3, 2, 4, 5, -2], 0, 2)"
      ]
     },
     "execution_count": 7,
     "metadata": {},
     "output_type": "execute_result"
    }
   ],
   "source": [
    "cur_a0c, cur_b0c, a0c, b0c, aa, bb, aai, bbi"
   ]
  },
  {
   "cell_type": "code",
   "execution_count": null,
   "metadata": {},
   "outputs": [],
   "source": [
    "0304 5\n",
    "0234 6"
   ]
  },
  {
   "cell_type": "code",
   "execution_count": null,
   "metadata": {},
   "outputs": [],
   "source": [
    "원래는 4이지만 0 개수 2를 빼서 2가 됨"
   ]
  },
  {
   "cell_type": "markdown",
   "metadata": {},
   "source": [
    "https://www.acmicpc.net/problem/2266 금고 테스트"
   ]
  },
  {
   "cell_type": "code",
   "execution_count": null,
   "metadata": {},
   "outputs": [],
   "source": [
    "7\n",
    "6\n",
    "5\n",
    "4\n",
    "3\n",
    "2\n",
    "1"
   ]
  },
  {
   "cell_type": "code",
   "execution_count": null,
   "metadata": {},
   "outputs": [],
   "source": [
    "dp[1][1] = 1\n",
    "dp[2][1] = 2\n",
    "dp[3][1] = 3\n",
    "dp[4][1] = 4\n",
    "dp[5][1] = 5\n",
    "dp[n][1] = n\n",
    "\n",
    "\n",
    "7, 3\n",
    "\n",
    "dp[0][2] or dp[7 - 1][3], dp[1][2] or dp[7 - 2][3],  dp[2][2] or dp[7 - 3][3], dp[3][2] or dp[7 - 4][3], ...,\n",
    "dp[7 - 1][2] or dp[0][3]"
   ]
  },
  {
   "cell_type": "code",
   "execution_count": 29,
   "metadata": {},
   "outputs": [
    {
     "name": "stdout",
     "output_type": "stream",
     "text": [
      "7 2\n",
      "4\n"
     ]
    }
   ],
   "source": [
    "inf = float('inf')\n",
    "\n",
    "n, k = map(int, input().split())\n",
    "\n",
    "dp = [[-1] * (k + 1) for _ in range(n + 1)]\n",
    "\n",
    "cur_n = 0\n",
    "for cur_k in range(k + 1):\n",
    "    dp[cur_n][cur_k] = 0\n",
    "    \n",
    "cur_k = 1\n",
    "for cur_n in range(n + 1):\n",
    "    dp[cur_n][cur_k] = cur_n\n",
    "    \n",
    "for cur_k in range(2, k + 1):\n",
    "    for cur_n in range(1, n + 1):\n",
    "        min_temp = float('inf')\n",
    "        for fall_h in range(1, cur_n + 1):\n",
    "            temp = 1 + max(dp[fall_h - 1][cur_k - 1], dp[cur_n - fall_h][cur_k])\n",
    "            min_temp = min(min_temp, temp)\n",
    "        dp[cur_n][cur_k] = min_temp\n",
    "        \n",
    "r = dp[n][k]\n",
    "\n",
    "print(r)"
   ]
  },
  {
   "cell_type": "markdown",
   "metadata": {},
   "source": [
    "https://www.acmicpc.net/problem/10978 기숙사 재배정"
   ]
  },
  {
   "cell_type": "code",
   "execution_count": 33,
   "metadata": {},
   "outputs": [
    {
     "name": "stdout",
     "output_type": "stream",
     "text": [
      "2\n",
      "3\n",
      "2\n",
      "4\n",
      "9\n"
     ]
    }
   ],
   "source": [
    "import sys\n",
    "input = lambda: sys.stdin.readline().rstrip()\n",
    "\n",
    "dp = [0] * 21\n",
    "dp[:4] = [1, 0, 1, 2]\n",
    "for i in range(4, 21):\n",
    "    dp[i] = (dp[i - 2] + dp[i - 1]) * (i - 1)\n",
    "    \n",
    "for _ in range(int(input())):\n",
    "    n = int(input())\n",
    "    \n",
    "    print(dp[n])"
   ]
  },
  {
   "cell_type": "markdown",
   "metadata": {},
   "source": [
    "https://www.acmicpc.net/problem/2291 Sequence"
   ]
  },
  {
   "cell_type": "code",
   "execution_count": 12,
   "metadata": {},
   "outputs": [
    {
     "name": "stdout",
     "output_type": "stream",
     "text": [
      "4 9 3\n"
     ]
    }
   ],
   "source": [
    "n, m, k = map(int, input().split())\n",
    "\n",
    "dp = [[0] * (m + 1) for _ in range(n + 1)]\n",
    "\n",
    "cur_n = 1\n",
    "for cur_m in range(1, m + 1):\n",
    "    dp[cur_n][cur_m] = 1\n",
    "    \n",
    "for cur_n in range(2, n + 1):\n",
    "    for cur_m in range(cur_n, m + 1):\n",
    "        dp[cur_n][cur_m]\n",
    "        \n",
    "        first_num = 1\n",
    "        while True:\n",
    "            n_cur_m = cur_m - first_num - (cur_n - 1) * (first_num - 1)\n",
    "            if n_cur_m < cur_n - 1:\n",
    "                break\n",
    "            dp[cur_n][cur_m] += dp[cur_n - 1][n_cur_m]\n",
    "            \n",
    "            first_num += 1"
   ]
  },
  {
   "cell_type": "code",
   "execution_count": 13,
   "metadata": {},
   "outputs": [
    {
     "name": "stdout",
     "output_type": "stream",
     "text": [
      "7 3\n",
      "10 3\n",
      "8 3\n"
     ]
    }
   ],
   "source": [
    "result = []\n",
    "cur_m = m\n",
    "for cur_n in range(n - 1, 0, -1):\n",
    "    cumul = 0\n",
    "    r_cur_num = -1\n",
    "    r_cumul = -1\n",
    "    \n",
    "    to_del = 0\n",
    "    for first_num in range(1, m + 1):\n",
    "        n_cur_m = cur_m - first_num - (cur_n - 1) * (first_num - 1)\n",
    "        if n_cur_m < 0:\n",
    "            break\n",
    "        \n",
    "        cumul += dp[cur_n][n_cur_m]\n",
    "        if cumul <= k:\n",
    "            r_cur_num = first_num\n",
    "            r_cumul = cumul\n",
    "        if cumul < k:\n",
    "            to_del += cumul\n",
    "            \n",
    "    print(cumul, k)\n",
    "            \n",
    "    k -= to_del\n",
    "    \n",
    "    result.append(r_cur_num)\n",
    "    "
   ]
  },
  {
   "cell_type": "markdown",
   "metadata": {},
   "source": [
    "https://www.acmicpc.net/problem/9023 연습시즌"
   ]
  },
  {
   "cell_type": "code",
   "execution_count": 10,
   "metadata": {},
   "outputs": [
    {
     "name": "stdout",
     "output_type": "stream",
     "text": [
      "1\n",
      "2\n"
     ]
    },
    {
     "ename": "ValueError",
     "evalue": "not enough values to unpack (expected 3, got 1)",
     "output_type": "error",
     "traceback": [
      "\u001b[1;31m---------------------------------------------------------------------------\u001b[0m",
      "\u001b[1;31mValueError\u001b[0m                                Traceback (most recent call last)",
      "\u001b[1;32m<ipython-input-10-061be0c43fd9>\u001b[0m in \u001b[0;36m<module>\u001b[1;34m\u001b[0m\n\u001b[0;32m     14\u001b[0m \u001b[1;33m\u001b[0m\u001b[0m\n\u001b[0;32m     15\u001b[0m \u001b[1;32mfor\u001b[0m \u001b[0m_\u001b[0m \u001b[1;32min\u001b[0m \u001b[0mrange\u001b[0m\u001b[1;33m(\u001b[0m\u001b[0mint\u001b[0m\u001b[1;33m(\u001b[0m\u001b[0minput\u001b[0m\u001b[1;33m(\u001b[0m\u001b[1;33m)\u001b[0m\u001b[1;33m)\u001b[0m\u001b[1;33m)\u001b[0m\u001b[1;33m:\u001b[0m\u001b[1;33m\u001b[0m\u001b[1;33m\u001b[0m\u001b[0m\n\u001b[1;32m---> 16\u001b[1;33m     \u001b[0mC\u001b[0m\u001b[1;33m,\u001b[0m \u001b[0mD\u001b[0m\u001b[1;33m,\u001b[0m \u001b[0md\u001b[0m \u001b[1;33m=\u001b[0m \u001b[0mmap\u001b[0m\u001b[1;33m(\u001b[0m\u001b[0mint\u001b[0m\u001b[1;33m,\u001b[0m \u001b[0minput\u001b[0m\u001b[1;33m(\u001b[0m\u001b[1;33m)\u001b[0m\u001b[1;33m.\u001b[0m\u001b[0msplit\u001b[0m\u001b[1;33m(\u001b[0m\u001b[1;33m)\u001b[0m\u001b[1;33m)\u001b[0m\u001b[1;33m\u001b[0m\u001b[1;33m\u001b[0m\u001b[0m\n\u001b[0m\u001b[0;32m     17\u001b[0m     \u001b[0ma\u001b[0m \u001b[1;33m=\u001b[0m \u001b[0mlist\u001b[0m\u001b[1;33m(\u001b[0m\u001b[0mmap\u001b[0m\u001b[1;33m(\u001b[0m\u001b[0mint\u001b[0m\u001b[1;33m,\u001b[0m \u001b[0minput\u001b[0m\u001b[1;33m(\u001b[0m\u001b[1;33m)\u001b[0m\u001b[1;33m.\u001b[0m\u001b[0msplit\u001b[0m\u001b[1;33m(\u001b[0m\u001b[1;33m)\u001b[0m\u001b[1;33m)\u001b[0m\u001b[1;33m)\u001b[0m\u001b[1;33m\u001b[0m\u001b[1;33m\u001b[0m\u001b[0m\n\u001b[0;32m     18\u001b[0m     \u001b[0mb\u001b[0m \u001b[1;33m=\u001b[0m \u001b[0mlist\u001b[0m\u001b[1;33m(\u001b[0m\u001b[0mmap\u001b[0m\u001b[1;33m(\u001b[0m\u001b[0mint\u001b[0m\u001b[1;33m,\u001b[0m \u001b[0minput\u001b[0m\u001b[1;33m(\u001b[0m\u001b[1;33m)\u001b[0m\u001b[1;33m.\u001b[0m\u001b[0msplit\u001b[0m\u001b[1;33m(\u001b[0m\u001b[1;33m)\u001b[0m\u001b[1;33m)\u001b[0m\u001b[1;33m)\u001b[0m\u001b[1;33m\u001b[0m\u001b[1;33m\u001b[0m\u001b[0m\n",
      "\u001b[1;31mValueError\u001b[0m: not enough values to unpack (expected 3, got 1)"
     ]
    }
   ],
   "source": [
    "import sys\n",
    "# input = lambda: sys.stdin.readline().rstrip()\n",
    "\n",
    "def get_to_add(diff):\n",
    "    if diff == 0:\n",
    "        return 0\n",
    "    \n",
    "    to_add = C * diff\n",
    "    to_add += D + d * diff\n",
    "    \n",
    "    return to_add\n",
    "\n",
    "inf = float('inf')\n",
    "\n",
    "for _ in range(int(input())):\n",
    "    C, D, d = map(int, input().split())\n",
    "    a = list(map(int, input().split()))\n",
    "    b = list(map(int, input().split()))\n",
    "\n",
    "    a.pop()\n",
    "    b.pop()\n",
    "\n",
    "    a_len = len(a)\n",
    "    b_len = len(b)\n",
    "\n",
    "    dp = [[inf] * b_len for _ in range(a_len)]\n",
    "\n",
    "    ai = 0\n",
    "    for bi in range(b_len):\n",
    "        diff = bi - ai\n",
    "        to_add = get_to_add(diff)\n",
    "\n",
    "        if bi == b_len - 1:\n",
    "            diff = a_len - 1 - ai\n",
    "            to_add += get_to_add(diff)  \n",
    "\n",
    "        if a[ai] == b[bi]:\n",
    "            dp[ai][bi] = to_add + C\n",
    "        else:\n",
    "            dp[ai][bi] = to_add + C * 2\n",
    "\n",
    "    bi = 0\n",
    "    for ai in range(1, a_len):\n",
    "        diff = ai - bi\n",
    "        to_add = get_to_add(diff)\n",
    "\n",
    "        if ai == a_len - 1:\n",
    "            diff = b_len - 1 - bi\n",
    "            to_add += get_to_add(diff)\n",
    "\n",
    "        if a[ai] == b[bi]:\n",
    "            dp[ai][bi] = to_add + C\n",
    "        else:\n",
    "            dp[ai][bi] = to_add + C * 2\n",
    "\n",
    "    for ai in range(1, a_len):\n",
    "        for bi in range(1, b_len):\n",
    "            min_temp = inf\n",
    "\n",
    "            fai = ai - 1\n",
    "            for fbi in range(bi):\n",
    "                base = dp[fai][fbi]\n",
    "\n",
    "                diff = bi - 1 - fbi\n",
    "                to_add = get_to_add(diff)\n",
    "\n",
    "                if a[ai] == b[bi]:\n",
    "                    to_add += C\n",
    "                else:\n",
    "                    to_add += C * 2\n",
    "\n",
    "    #             print(111, ai, bi, fai, fbi, temp)\n",
    "\n",
    "                temp = base + to_add\n",
    "                min_temp = min(min_temp, temp)\n",
    "\n",
    "            fbi = bi - 1\n",
    "            for fai in range(ai):\n",
    "                base = dp[fai][fbi]\n",
    "\n",
    "                diff = ai - 1 - fai\n",
    "                to_add = get_to_add(diff)\n",
    "\n",
    "                if a[ai] == b[bi]:\n",
    "                    to_add += C\n",
    "                else:\n",
    "                    to_add += C * 2\n",
    "\n",
    "    #             print(222, ai, bi, fai, fbi, temp)\n",
    "\n",
    "                temp = base + to_add\n",
    "                min_temp = min(min_temp, temp)\n",
    "\n",
    "            diff1 = 0\n",
    "            if ai == a_len - 1:\n",
    "                diff1 = b_len - 1 - bi\n",
    "                to_add = get_to_add(diff1)\n",
    "                min_temp += to_add\n",
    "\n",
    "            diff2 = 0\n",
    "            if bi == b_len - 1:\n",
    "                diff2 = a_len - 1 - ai\n",
    "                to_add = get_to_add(diff2)\n",
    "                min_temp += to_add\n",
    "\n",
    "            dp[ai][bi] = min_temp\n",
    "\n",
    "    min_r = inf\n",
    "\n",
    "    ai = a_len - 1\n",
    "    for bi in range(b_len):\n",
    "        min_r = min(min_r, dp[ai][bi])\n",
    "\n",
    "    bi = b_len - 1\n",
    "    for ai in range(a_len):\n",
    "        min_r = min(min_r, dp[ai][bi])\n",
    "\n",
    "    print(min_r)"
   ]
  },
  {
   "cell_type": "code",
   "execution_count": 2,
   "metadata": {},
   "outputs": [],
   "source": [
    "del input"
   ]
  }
 ],
 "metadata": {
  "kernelspec": {
   "display_name": "Python 3",
   "language": "python",
   "name": "python3"
  },
  "language_info": {
   "codemirror_mode": {
    "name": "ipython",
    "version": 3
   },
   "file_extension": ".py",
   "mimetype": "text/x-python",
   "name": "python",
   "nbconvert_exporter": "python",
   "pygments_lexer": "ipython3",
   "version": "3.8.3"
  }
 },
 "nbformat": 4,
 "nbformat_minor": 4
}
