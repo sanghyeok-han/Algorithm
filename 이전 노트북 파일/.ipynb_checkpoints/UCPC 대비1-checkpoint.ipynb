{
 "cells": [
  {
   "cell_type": "code",
   "execution_count": 21,
   "metadata": {},
   "outputs": [
    {
     "name": "stdout",
     "output_type": "stream",
     "text": [
      "15 3 7\n",
      "226.33446923960295\n"
     ]
    }
   ],
   "source": [
    "a, d, k = map(int, input().split())\n",
    "\n",
    "result = 0\n",
    "w = 1\n",
    "cur = d * 0.01\n",
    "tried = 1\n",
    "while True:\n",
    "    result += tried * w * cur\n",
    "    if cur == 1:\n",
    "        break\n",
    "    w *= (1 - cur)\n",
    "    cur = min(1, cur + (k / 100) * cur)\n",
    "    \n",
    "    tried += 1\n",
    "\n",
    "    \n",
    "result *= a\n",
    "print(result)"
   ]
  },
  {
   "cell_type": "code",
   "execution_count": null,
   "metadata": {},
   "outputs": [],
   "source": [
    " 첫 번째 (50%)  두 번째 (75%)   100%\n",
    "    1              2             3\n",
    "    "
   ]
  },
  {
   "cell_type": "code",
   "execution_count": 5,
   "metadata": {},
   "outputs": [
    {
     "data": {
      "text/plain": [
       "1.625"
      ]
     },
     "execution_count": 5,
     "metadata": {},
     "output_type": "execute_result"
    }
   ],
   "source": [
    "1 * 0.5 + 2 * 0.5 * 0.75 + 3 * 0.5 * 0.25"
   ]
  },
  {
   "cell_type": "code",
   "execution_count": null,
   "metadata": {},
   "outputs": [],
   "source": [
    "새 레이팅 계산\n",
    "min(1, cur + (k / 100) * cur)"
   ]
  },
  {
   "cell_type": "code",
   "execution_count": 6,
   "metadata": {},
   "outputs": [
    {
     "data": {
      "text/plain": [
       "0.5"
      ]
     },
     "execution_count": 6,
     "metadata": {},
     "output_type": "execute_result"
    }
   ],
   "source": [
    "cur = 50\n",
    "cur * 0.01"
   ]
  },
  {
   "cell_type": "code",
   "execution_count": 2,
   "metadata": {},
   "outputs": [
    {
     "data": {
      "text/plain": [
       "0.75"
      ]
     },
     "execution_count": 2,
     "metadata": {},
     "output_type": "execute_result"
    }
   ],
   "source": [
    "cur = 0.5\n",
    "\n",
    "cur + cur / 2"
   ]
  },
  {
   "cell_type": "markdown",
   "metadata": {},
   "source": [
    "https://www.acmicpc.net/problem/22355"
   ]
  },
  {
   "cell_type": "code",
   "execution_count": null,
   "metadata": {},
   "outputs": [],
   "source": [
    "1      3\n",
    "4,1   1,3\n",
    "\n",
    "올,박\n",
    "4,1   1,3   "
   ]
  },
  {
   "cell_type": "code",
   "execution_count": null,
   "metadata": {},
   "outputs": [],
   "source": [
    "맞출 높이별 삼분탐색, 각 말뚝별로 해당 높이로 맞추기 위해 필요한 최소 힘의 양,\n",
    "슬라이딩 윈도우를 통해서 k개를 연속으로 해당 높이를 맞추기 위해 필요한 최소 힘의 양\n"
   ]
  },
  {
   "cell_type": "code",
   "execution_count": 82,
   "metadata": {},
   "outputs": [
    {
     "name": "stdout",
     "output_type": "stream",
     "text": [
      "5 3\n",
      "1 2 3 2 1\n",
      "1 3 1 3 4\n",
      "1 3 5 3 1\n",
      "5\n"
     ]
    }
   ],
   "source": [
    "import sys\n",
    "# input = lambda: sys.stdin.readline().rstrip()\n",
    "\n",
    "inf = float('inf')\n",
    "\n",
    "def get_value(s, e, th):\n",
    "    total = 0\n",
    "    for i in range(s, e + 1):\n",
    "        diff = abs(li[i] - th)\n",
    "        if li[i] > th:\n",
    "            total += to_down[i] * diff\n",
    "        elif li[i] < th:\n",
    "            total += to_up[i] * diff\n",
    "\n",
    "    return total\n",
    "\n",
    "n, k = map(int, input().split())\n",
    "li = list(map(int, input().split()))\n",
    "to_up = list(map(int, input().split()))\n",
    "to_down = list(map(int, input().split()))\n",
    "   \n",
    "min_r = float('inf')\n",
    "for e in range(k - 1, n):\n",
    "    s = e - (k - 1)\n",
    "    \n",
    "    start = 1\n",
    "    end = 100000\n",
    "    while start <= end:\n",
    "        mid1 = (start * 2 + end) // 3\n",
    "        mid2 = (start + end * 2) // 3\n",
    "\n",
    "        t1 = get_value(s, e, mid1)\n",
    "        t2 = get_value(s, e, mid2)\n",
    "\n",
    "        min_r = min(min_r, t1, t2)\n",
    "\n",
    "        if end - start <= 4:\n",
    "            for mid in range(start, end + 1):\n",
    "                min_r = min(min_r, get_value(s, e, mid))\n",
    "            break\n",
    "\n",
    "        if t1 >= t2:\n",
    "            start = mid1\n",
    "        else:\n",
    "            end = mid2\n",
    "            \n",
    "print(min_r)"
   ]
  },
  {
   "cell_type": "code",
   "execution_count": 83,
   "metadata": {},
   "outputs": [
    {
     "data": {
      "text/plain": [
       "1980000000"
      ]
     },
     "execution_count": 83,
     "metadata": {},
     "output_type": "execute_result"
    }
   ],
   "source": []
  },
  {
   "cell_type": "code",
   "execution_count": 65,
   "metadata": {},
   "outputs": [
    {
     "data": {
      "text/plain": [
       "(2, 2)"
      ]
     },
     "execution_count": 65,
     "metadata": {},
     "output_type": "execute_result"
    }
   ],
   "source": [
    "4 2\n",
    "1 2 3 4\n",
    "4 3 2 1\n",
    "1 2 3 4\n",
    "1 2\n",
    "2 3\n",
    "3 3\n",
    "4 2\n",
    "\n",
    "4 3\n",
    "1 2 3 4\n",
    "4 3 2 1\n",
    "1 2 3 4\n",
    "1 8\n",
    "2 7\n",
    "3 7\n",
    "4 8\n",
    "\n",
    "4 4\n",
    "1 2 3 4\n",
    "4 3 2 1\n",
    "1 2 3 4\n",
    "1 20\n",
    "2 15\n",
    "3 15\n",
    "4 20"
   ]
  },
  {
   "cell_type": "code",
   "execution_count": null,
   "metadata": {},
   "outputs": [],
   "source": [
    "가장 낮은 애를 절대 높이면 안되는 경우도 가능함"
   ]
  },
  {
   "cell_type": "code",
   "execution_count": null,
   "metadata": {},
   "outputs": [],
   "source": [
    "8 4\n",
    "h    1 2 3 4 5 6 7 8\n",
    "up   8 7 6 5 4 3 2 1\n",
    "down 1 2 3 4 5 6 7 8\n",
    "\n"
   ]
  },
  {
   "cell_type": "code",
   "execution_count": 47,
   "metadata": {},
   "outputs": [],
   "source": [
    "def get_value(th):\n",
    "    nli = [0] * n\n",
    "    for i in range(n):\n",
    "        diff = abs(li[i] - th)\n",
    "        if li[i] > th:\n",
    "            nli[i] = to_down[i] * diff\n",
    "        elif li[i] < th:\n",
    "            nli[i] = to_up[i] * diff\n",
    "    \n",
    "    min_v = inf\n",
    "    cur = 0\n",
    "    for i in range(k):\n",
    "        cur += nli[i]\n",
    "        \n",
    "    min_v = cur\n",
    "    for i in range(k, n):\n",
    "        cur -= nli[i - k]\n",
    "        cur += nli[i]\n",
    "        min_v = min(min_v, cur)\n",
    "        \n",
    "    return min_v"
   ]
  },
  {
   "cell_type": "markdown",
   "metadata": {},
   "source": [
    "H"
   ]
  },
  {
   "cell_type": "markdown",
   "metadata": {},
   "source": [
    "1\n",
    "2\n",
    "3\n",
    "4\n",
    "N"
   ]
  },
  {
   "cell_type": "code",
   "execution_count": 96,
   "metadata": {},
   "outputs": [
    {
     "name": "stdout",
     "output_type": "stream",
     "text": [
      "3 3 1 1 3\n",
      "1 2 10\n",
      "2 3 5\n",
      "1 3 1\n",
      "30\n"
     ]
    }
   ],
   "source": [
    "from heapq import heappush, heappop\n",
    "import sys\n",
    "# input = lambda: sys.stdin.readline().rstrip()\n",
    "\n",
    "n, m, k, s, dest = map(int, input().split())\n",
    "\n",
    "li = [[] for _ in range(n + 1)]\n",
    "for _ in range(m):\n",
    "    a, b, t = map(int, input().split())\n",
    "    li[a].append((b, t))\n",
    "    li[b].append((a, t))\n",
    "    \n",
    "dp = [[-1] * (k + 1) for _ in range(n + 1)]\n",
    "dp[s][k] = 0\n",
    "heap = [(0, s, k)]\n",
    "while heap:\n",
    "    sc, value, rd, = heappop(heap)\n",
    "    sc = -sc\n",
    "    if sc < dp[value][rd]:\n",
    "        continue\n",
    "    \n",
    "    for v, t in li[value]:\n",
    "        if value < v:\n",
    "            nsc = sc + t\n",
    "            if nsc > dp[v][rd]:\n",
    "                dp[v][rd] = nsc\n",
    "                heappush(heap, (-nsc, v, rd))\n",
    "        elif rd:\n",
    "            nrd = rd - 1\n",
    "            if sc > dp[v][nrd]:\n",
    "                dp[v][nrd] = sc\n",
    "                heappush(heap, (-sc, v, nrd))\n",
    "    \n",
    "max_r = -1\n",
    "for rd in range(k + 1):\n",
    "    max_r = max(max_r, dp[dest][rd])\n",
    "    \n",
    "print(max_r)"
   ]
  }
 ],
 "metadata": {
  "kernelspec": {
   "display_name": "Python 3",
   "language": "python",
   "name": "python3"
  },
  "language_info": {
   "codemirror_mode": {
    "name": "ipython",
    "version": 3
   },
   "file_extension": ".py",
   "mimetype": "text/x-python",
   "name": "python",
   "nbconvert_exporter": "python",
   "pygments_lexer": "ipython3",
   "version": "3.8.3"
  }
 },
 "nbformat": 4,
 "nbformat_minor": 4
}
