{
 "cells": [
  {
   "cell_type": "code",
   "execution_count": 1,
   "metadata": {},
   "outputs": [],
   "source": [
    "# 시간 제한(초 단위)\n",
    "time_limit_sec = 10\n",
    "\n",
    "# 테스트 케이스 입력\n",
    "test_cases = [[[1, 5, 5, 7]], [[1, 8, 4, 9]], [[3, 4, 5, 6]], [['a', 3]], [[8]]]\n",
    "\n",
    "# 테스트 케이스별 출력\n",
    "ans = [5, 0, 4, 0, 9]"
   ]
  },
  {
   "cell_type": "code",
   "execution_count": 2,
   "metadata": {},
   "outputs": [],
   "source": [
    "def solution(lst):\n",
    "    while lst[-1] == 9:\n",
    "        continue\n",
    "        \n",
    "    n = len(lst)\n",
    "    lst.sort()\n",
    "    return lst[(n-1) // 2]"
   ]
  },
  {
   "cell_type": "code",
   "execution_count": 15,
   "metadata": {},
   "outputs": [
    {
     "name": "stdout",
     "output_type": "stream",
     "text": [
      "테스트 1: 통과           Time elapsed: 0ms\n",
      "테스트 2: Fail         시간 초과!\n",
      "테스트 3: 통과           Time elapsed: 1ms\n",
      "테스트 4: Fail         '<' not supported between instances of 'int' and 'str'\n",
      "테스트 5: Fail         잘못된 답: 8, 원래 정답: 9\n",
      "\n",
      "\n",
      "결과: 테스트 5개 중 2개 통과\n"
     ]
    }
   ],
   "source": [
    "from contextlib import contextmanager\n",
    "import threading\n",
    "import _thread\n",
    "import time\n",
    "\n",
    "class TimeoutException(Exception):\n",
    "    def __init__(self, msg=''):\n",
    "        self.msg = msg\n",
    "\n",
    "@contextmanager\n",
    "def time_limit(seconds, msg=''):\n",
    "    timer = threading.Timer(seconds, lambda: _thread.interrupt_main())\n",
    "    timer.start()\n",
    "    try:\n",
    "        yield\n",
    "    except KeyboardInterrupt:\n",
    "        raise TimeoutException(\"Timed out for operation {}\".format(msg))\n",
    "    finally:\n",
    "        # if the action ends in specified time, timer is canceled\n",
    "        timer.cancel()\n",
    "\n",
    "passed_c = 0\n",
    "for test_case_id in range(len(test_cases)):\n",
    "    test_case = test_cases[test_case_id]\n",
    "    \n",
    "    time_start = time.time()\n",
    "    is_time_over = False\n",
    "    error = ''\n",
    "    \n",
    "    try:\n",
    "        result = time_result = -1\n",
    "        with time_limit(time_limit_sec, 'sleep'):\n",
    "            result = solution(*test_case)\n",
    "        time_result = round((time.time() - time_start) * 1000)\n",
    "    except BaseException as error_m:\n",
    "        error = str(error_m)\n",
    "        if error == 'Timed out for operation sleep':\n",
    "            is_time_over = True\n",
    "\n",
    "    if error:\n",
    "        if is_time_over:\n",
    "            error = '시간 초과!'\n",
    "        to_print = f'테스트 {test_case_id + 1}: Fail'.ljust(20, ' ')\n",
    "        to_print += f'{error}'\n",
    "    elif result != ans[test_case_id]:\n",
    "        to_print = f'테스트 {test_case_id + 1}: Fail'.ljust(20, ' ')\n",
    "        to_print += f'잘못된 답: {result}, 원래 정답: {ans[test_case_id]}'\n",
    "    else:\n",
    "        passed_c += 1\n",
    "        time_result = str(time_result) + 'ms'\n",
    "        to_print = f'테스트 {test_case_id + 1}: 통과'.ljust(20, ' ')\n",
    "        to_print += f'Time elapsed: {time_result}'\n",
    "\n",
    "    print(to_print)\n",
    "    \n",
    "print('\\n')\n",
    "print(f'결과: 테스트 {len(test_cases)}개 중 {passed_c}개 통과')"
   ]
  }
 ],
 "metadata": {
  "kernelspec": {
   "display_name": "Python 3",
   "language": "python",
   "name": "python3"
  },
  "language_info": {
   "codemirror_mode": {
    "name": "ipython",
    "version": 3
   },
   "file_extension": ".py",
   "mimetype": "text/x-python",
   "name": "python",
   "nbconvert_exporter": "python",
   "pygments_lexer": "ipython3",
   "version": "3.8.3"
  }
 },
 "nbformat": 4,
 "nbformat_minor": 4
}
