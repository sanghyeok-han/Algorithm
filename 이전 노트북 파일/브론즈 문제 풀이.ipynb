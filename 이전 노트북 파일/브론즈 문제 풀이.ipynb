{
 "cells": [
  {
   "cell_type": "markdown",
   "metadata": {},
   "source": [
    "### 스물셋 23251"
   ]
  },
  {
   "cell_type": "code",
   "execution_count": 8,
   "metadata": {},
   "outputs": [
    {
     "name": "stdout",
     "output_type": "stream",
     "text": [
      "3\n",
      "2\n",
      "46\n",
      "3\n",
      "69\n",
      "123456\n",
      "2839488\n"
     ]
    }
   ],
   "source": [
    "import sys\n",
    "input = lambda: sys.stdin.readline().rstrip()\n",
    "\n",
    "for _ in range(int(input())):\n",
    "    n = int(input())\n",
    "    \n",
    "    print(n * 23)"
   ]
  },
  {
   "cell_type": "markdown",
   "metadata": {},
   "source": [
    "### Zero or One 13623"
   ]
  },
  {
   "cell_type": "code",
   "execution_count": 14,
   "metadata": {},
   "outputs": [
    {
     "name": "stdout",
     "output_type": "stream",
     "text": [
      "1 0 0\n",
      "A\n"
     ]
    }
   ],
   "source": [
    "a, b, c = map(int, input().split())\n",
    "\n",
    "if len(set([a, b, c])) == 1:\n",
    "    print('*')\n",
    "else:\n",
    "    li = [a, b, c]\n",
    "    if li.count(0) == 1:\n",
    "        index = li.index(0)\n",
    "    else:\n",
    "        index = li.index(1)\n",
    "        \n",
    "    r = chr(index + 65)\n",
    "    \n",
    "    print(r)\n",
    "        "
   ]
  },
  {
   "cell_type": "markdown",
   "metadata": {},
   "source": [
    "### Shifty Sum 14682"
   ]
  },
  {
   "cell_type": "code",
   "execution_count": 15,
   "metadata": {},
   "outputs": [
    {
     "name": "stdout",
     "output_type": "stream",
     "text": [
      "12\n",
      "3\n",
      "13332\n"
     ]
    }
   ],
   "source": [
    "n = int(input())\n",
    "k = int(input())\n",
    "\n",
    "total = n\n",
    "cur = n\n",
    "for _ in range(k):\n",
    "    cur *= 10\n",
    "    total += cur\n",
    "    \n",
    "print(total)"
   ]
  },
  {
   "cell_type": "markdown",
   "metadata": {},
   "source": [
    "### 모르고리즘 회장님 추천 받습니다 20124"
   ]
  },
  {
   "cell_type": "code",
   "execution_count": 17,
   "metadata": {},
   "outputs": [
    {
     "name": "stdout",
     "output_type": "stream",
     "text": [
      "3\n",
      "ins 10\n",
      "guk 10\n",
      "jun 10\n",
      "guk\n"
     ]
    }
   ],
   "source": [
    "n = int(input())\n",
    "li = []\n",
    "\n",
    "for _ in range(n):\n",
    "    temp = input().split()\n",
    "    temp[1] = int(temp[1])\n",
    "    \n",
    "    li.append(temp)\n",
    "    \n",
    "li.sort(key=lambda x: (-x[1], x[0]))\n",
    "\n",
    "print(li[0][0])"
   ]
  },
  {
   "cell_type": "markdown",
   "metadata": {},
   "source": [
    "### 이상한 나라의 암호 18245"
   ]
  },
  {
   "cell_type": "code",
   "execution_count": 23,
   "metadata": {},
   "outputs": [
    {
     "name": "stdout",
     "output_type": "stream",
     "text": [
      "RAEBDCVDEELFVGEHT\n",
      "REDVELVET\n",
      "SIJEKLUMNLOPGQRI\n",
      "SEULGI\n",
      "Was it a cat I saw?\n"
     ]
    }
   ],
   "source": [
    "cur = 2\n",
    "while True:\n",
    "    s = input()\n",
    "    if s == 'Was it a cat I saw?':\n",
    "        break\n",
    "    \n",
    "    print(s[::cur])\n",
    "    cur += 1"
   ]
  },
  {
   "cell_type": "markdown",
   "metadata": {},
   "source": [
    "### Sequences 5101"
   ]
  },
  {
   "cell_type": "code",
   "execution_count": 24,
   "metadata": {},
   "outputs": [
    {
     "name": "stdout",
     "output_type": "stream",
     "text": [
      "3 2 11\n",
      "5\n",
      "-1 -3 -8\n",
      "X\n",
      "0 0 0\n"
     ]
    }
   ],
   "source": [
    "import sys\n",
    "# input = lambda: sys.stdin.readline().rstrip()\n",
    "\n",
    "while True:\n",
    "    s, d, v = map(int, input().split())\n",
    "    \n",
    "    if s == d == v:\n",
    "        break\n",
    "        \n",
    "    if d == 0:\n",
    "        if s != v:\n",
    "            print('X')\n",
    "        else:\n",
    "            print(1)\n",
    "    else:\n",
    "        li = [s]\n",
    "        st = {s}\n",
    "        cur = s\n",
    "        while True:\n",
    "            cur += d\n",
    "            if cur < -6000000 or cur > 6000000:\n",
    "                break\n",
    "            li.append(cur)\n",
    "            st.add(cur)\n",
    "        \n",
    "        if v not in st:\n",
    "            print('X')\n",
    "        else:\n",
    "            print(li.index(v) + 1)"
   ]
  },
  {
   "cell_type": "markdown",
   "metadata": {},
   "source": [
    "### 가계부 (Easy) 12836"
   ]
  },
  {
   "cell_type": "code",
   "execution_count": null,
   "metadata": {},
   "outputs": [],
   "source": [
    "n, q = map(int, input().split())\n",
    "\n",
    "li = [0] * (n + 1)\n",
    "for _ in range(q):\n",
    "    tp, p, x = map(int, input().split())\n",
    "    \n",
    "    if tp == 1:\n",
    "        li[p] += x\n",
    "    else:\n",
    "        print(sum(li[p:x + 1]))"
   ]
  },
  {
   "cell_type": "markdown",
   "metadata": {},
   "source": [
    "### Lunacy 4714"
   ]
  },
  {
   "cell_type": "code",
   "execution_count": null,
   "metadata": {},
   "outputs": [],
   "source": [
    "import sys\n",
    "input = lambda: sys.stdin.readline().rstrip()\n",
    "\n",
    "w = 0.167\n",
    "while True:\n",
    "    n = float(input())\n",
    "    if n < 0:\n",
    "        break\n",
    "    \n",
    "    r = n * w\n",
    "    r = '{:.2f}'.format(r)\n",
    "    nn = '{:.2f}'.format(n)\n",
    "    r = f'Objects weighing {nn} on Earth will weigh {r} on the moon.'    \n",
    "    print(r)"
   ]
  },
  {
   "cell_type": "markdown",
   "metadata": {},
   "source": [
    "### 문어 21313"
   ]
  },
  {
   "cell_type": "code",
   "execution_count": 38,
   "metadata": {},
   "outputs": [
    {
     "name": "stdout",
     "output_type": "stream",
     "text": [
      "3\n",
      "1 2 3\n"
     ]
    }
   ],
   "source": [
    "n = int(input())\n",
    "\n",
    "if n % 2 == 0:\n",
    "    r = [1, 2] * (n // 2)\n",
    "else:\n",
    "    r = [1, 2] * (n // 2)\n",
    "    r.append(3)\n",
    "    \n",
    "print(*r)"
   ]
  },
  {
   "cell_type": "markdown",
   "metadata": {},
   "source": [
    "### Triangles 7595"
   ]
  },
  {
   "cell_type": "code",
   "execution_count": 40,
   "metadata": {},
   "outputs": [
    {
     "name": "stdout",
     "output_type": "stream",
     "text": [
      "1\n",
      "*\n",
      "1\n",
      "*\n",
      "0\n"
     ]
    }
   ],
   "source": [
    "while True:\n",
    "    n = int(input())\n",
    "    if n == 0:\n",
    "        break\n",
    "    \n",
    "    for i in range(1, n + 1):\n",
    "        print('*' * i)"
   ]
  },
  {
   "cell_type": "markdown",
   "metadata": {},
   "source": [
    "### FizzBuzz 14761"
   ]
  },
  {
   "cell_type": "code",
   "execution_count": 43,
   "metadata": {},
   "outputs": [
    {
     "name": "stdout",
     "output_type": "stream",
     "text": [
      "3 5 7\n",
      "1\n",
      "2\n",
      "Fizz\n",
      "4\n",
      "Buzz\n",
      "Fizz\n",
      "7\n"
     ]
    }
   ],
   "source": [
    "x, y, n = map(int, input().split())\n",
    "\n",
    "for num in range(1, n + 1):\n",
    "    if num % x == 0 and num % y == 0:\n",
    "        print('FizzBuzz')\n",
    "    elif num % x == 0:\n",
    "        print('Fizz')\n",
    "    elif num % y == 0:\n",
    "        print('Buzz')\n",
    "    else:\n",
    "        print(num)"
   ]
  },
  {
   "cell_type": "markdown",
   "metadata": {},
   "source": [
    "### Chessboard 13240"
   ]
  },
  {
   "cell_type": "code",
   "execution_count": 55,
   "metadata": {},
   "outputs": [
    {
     "name": "stdout",
     "output_type": "stream",
     "text": [
      "8 8\n",
      "*.*.*.*.\n",
      ".*.*.*.*\n",
      "*.*.*.*.\n",
      ".*.*.*.*\n",
      "*.*.*.*.\n",
      ".*.*.*.*\n",
      "*.*.*.*.\n",
      ".*.*.*.*\n"
     ]
    }
   ],
   "source": [
    "n, m = map(int, input().split())\n",
    "\n",
    "li1 = ['*', '.'] * (m // 2)\n",
    "if m % 2 == 1:\n",
    "    li1.append('*')\n",
    "s1 = ''.join(li1)\n",
    "    \n",
    "li2 = ['.', '*'] * (m // 2)\n",
    "if m % 2 == 1:\n",
    "    li2.append('.')\n",
    "s2 = ''.join(li2)\n",
    "    \n",
    "for i in range(n):\n",
    "    if i % 2 == 0:\n",
    "        print(s1)\n",
    "    else:\n",
    "        print(s2)"
   ]
  },
  {
   "cell_type": "markdown",
   "metadata": {},
   "source": [
    "### 1번부터 문제의 상태가…? 23027"
   ]
  },
  {
   "cell_type": "code",
   "execution_count": 76,
   "metadata": {},
   "outputs": [
    {
     "name": "stdout",
     "output_type": "stream",
     "text": [
      "ILIKEHIPHOP\n",
      "AAAAAAAAAAA\n"
     ]
    }
   ],
   "source": [
    "s = input()\n",
    "\n",
    "if 'A' in s:\n",
    "    s = s.replace('B', 'A')\n",
    "    s = s.replace('C', 'A')    \n",
    "    s = s.replace('D', 'A')    \n",
    "    s = s.replace('F', 'A') \n",
    "elif 'B' in s:\n",
    "    s = s.replace('C', 'B')    \n",
    "    s = s.replace('D', 'B')    \n",
    "    s = s.replace('F', 'B') \n",
    "elif 'C' in s:\n",
    "    s = s.replace('D', 'C')    \n",
    "    s = s.replace('F', 'C')\n",
    "else:\n",
    "    for i in range(68, 91):\n",
    "        s = s.replace(chr(i), 'A')\n",
    "    \n",
    "print(s)"
   ]
  },
  {
   "cell_type": "markdown",
   "metadata": {},
   "source": [
    "### Missing Runners 16546"
   ]
  },
  {
   "cell_type": "code",
   "execution_count": 78,
   "metadata": {},
   "outputs": [
    {
     "name": "stdout",
     "output_type": "stream",
     "text": [
      "5\n",
      "1 5 2 3\n",
      "4\n"
     ]
    }
   ],
   "source": [
    "n = int(input())\n",
    "\n",
    "li = list(map(int, input().split()))\n",
    "st = set(range(1, n + 1))\n",
    "\n",
    "left = st - set(li)\n",
    "r = left.pop()\n",
    "\n",
    "print(r)"
   ]
  },
  {
   "cell_type": "markdown",
   "metadata": {},
   "source": [
    "### 문홍안 14649"
   ]
  },
  {
   "cell_type": "code",
   "execution_count": 83,
   "metadata": {},
   "outputs": [
    {
     "name": "stdout",
     "output_type": "stream",
     "text": [
      "100000\n",
      "3\n",
      "60 R\n",
      "25 L\n",
      "50 R\n",
      "[26, 34, 40]\n"
     ]
    }
   ],
   "source": [
    "# python으로 제출해보기 (맞은 사람 상위 도전)\n",
    "p = int(input())\n",
    "n = int(input())\n",
    "\n",
    "deltas = [0] * 102\n",
    "for _ in range(n):\n",
    "    loc, d = input().split()\n",
    "    loc = int(loc)\n",
    "    \n",
    "    if d == 'L':\n",
    "        deltas[1] += 1\n",
    "        deltas[loc] -= 1\n",
    "    else:\n",
    "        deltas[loc + 1] += 1\n",
    "    \n",
    "delta = 0\n",
    "counts = [0] * 102\n",
    "rs = [0, 0, 0]\n",
    "for i in range(1, 101):\n",
    "    delta += deltas[i]\n",
    "    counts[i] = delta\n",
    "    rs[counts[i] % 3] += 1 \n",
    "    \n",
    "total = sum(rs)\n",
    "for i in range(3):\n",
    "    r = p * (rs[i] / total)\n",
    "    r = '{:.2f}'.format(r)\n",
    "    \n",
    "    print(r)"
   ]
  },
  {
   "cell_type": "markdown",
   "metadata": {},
   "source": [
    "### 주사위 게임 10262"
   ]
  },
  {
   "cell_type": "code",
   "execution_count": 122,
   "metadata": {},
   "outputs": [
    {
     "name": "stdout",
     "output_type": "stream",
     "text": [
      "1 8 1 8\n",
      "1 10 2 5\n",
      "Tie\n"
     ]
    }
   ],
   "source": [
    "from bisect import bisect_left\n",
    "\n",
    "a1, b1, a2, b2 = map(int, input().split())\n",
    "\n",
    "li1 = []\n",
    "for aa in range(a1, b1 + 1):\n",
    "    for bb in range(a2, b2 + 1):\n",
    "        li1.append(aa + bb)\n",
    "        \n",
    "li1.sort()\n",
    "\n",
    "a1, b1, a2, b2 = map(int, input().split())\n",
    "\n",
    "li2 = []\n",
    "for aa in range(a1, b1 + 1):\n",
    "    for bb in range(a2, b2 + 1):\n",
    "        li2.append(aa + bb)\n",
    "        \n",
    "li2.sort()\n",
    "\n",
    "li2_len = len(li2)\n",
    "\n",
    "smaller = 0\n",
    "larger = 0\n",
    "for a in li1:\n",
    "    smaller += bisect_left(li2, a)\n",
    "    larger += li2_len - bisect_left(li2, a + 0.1)\n",
    "\n",
    "if smaller == larger:\n",
    "    print('Tie')\n",
    "elif smaller < larger:\n",
    "    print('Emma')\n",
    "else:\n",
    "    print('Gunnar')"
   ]
  },
  {
   "cell_type": "markdown",
   "metadata": {},
   "source": [
    "### 숫자의 개수 2 21567"
   ]
  },
  {
   "cell_type": "code",
   "execution_count": null,
   "metadata": {},
   "outputs": [],
   "source": [
    "a = int(input())\n",
    "b = int(input())\n",
    "c = int(input())\n",
    "\n",
    "temp = a * b * c\n",
    "temp = map(int, str(temp))\n",
    "ct = [0] * 10\n",
    "for v in temp:\n",
    "    ct[v] += 1\n",
    "    \n",
    "for v in ct:\n",
    "    print(v)"
   ]
  },
  {
   "cell_type": "markdown",
   "metadata": {},
   "source": [
    "### Block Game 14174"
   ]
  },
  {
   "cell_type": "code",
   "execution_count": null,
   "metadata": {},
   "outputs": [],
   "source": [
    "n = int(input())\n",
    "ct = [0] * 26\n",
    "for _ in range(n):\n",
    "    a, b = input().split()\n",
    "    \n",
    "    temp_ct1 = [0] * 26\n",
    "    for v in a:\n",
    "        temp_ct1[ord(v) - 97] += 1\n",
    "    \n",
    "    temp_ct2 = [0] * 26\n",
    "    for v in b:\n",
    "        temp_ct2[ord(v) - 97] += 1\n",
    "        \n",
    "    for i in range(26):\n",
    "        ct[i] += max(temp_ct1[i], temp_ct2[i])\n",
    "        \n",
    "for v in ct:\n",
    "    print(v)"
   ]
  },
  {
   "cell_type": "markdown",
   "metadata": {},
   "source": [
    "### 회문 14561"
   ]
  },
  {
   "cell_type": "code",
   "execution_count": 140,
   "metadata": {},
   "outputs": [
    {
     "name": "stdout",
     "output_type": "stream",
     "text": [
      "5\n",
      "100 3\n",
      "1\n",
      "30 2\n",
      "0\n",
      "25 4\n",
      "1\n",
      "58 8\n",
      "0\n",
      "342633 16\n",
      "0\n"
     ]
    }
   ],
   "source": [
    "import sys\n",
    "# input = lambda: sys.stdin.readline().rstrip()\n",
    "\n",
    "def check(li):\n",
    "    n = len(li)\n",
    "    \n",
    "    for i in range(n // 2):\n",
    "        if li[i] != li[n - 1 - i]:\n",
    "            return False\n",
    "    return True\n",
    "\n",
    "for _ in range(int(input())):\n",
    "    a, n = map(int, input().split())\n",
    "\n",
    "    r = []\n",
    "    while a != 0:\n",
    "        r.append(a % n)\n",
    "        a //= n\n",
    "\n",
    "    if not r:\n",
    "        r.append(0)\n",
    "\n",
    "    r.reverse()\n",
    "    if check(r):\n",
    "        print(1)\n",
    "    else:\n",
    "        print(0)"
   ]
  }
 ],
 "metadata": {
  "kernelspec": {
   "display_name": "Python 3",
   "language": "python",
   "name": "python3"
  },
  "language_info": {
   "codemirror_mode": {
    "name": "ipython",
    "version": 3
   },
   "file_extension": ".py",
   "mimetype": "text/x-python",
   "name": "python",
   "nbconvert_exporter": "python",
   "pygments_lexer": "ipython3",
   "version": "3.8.3"
  }
 },
 "nbformat": 4,
 "nbformat_minor": 4
}
