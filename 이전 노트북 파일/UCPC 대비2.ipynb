{
 "cells": [
  {
   "cell_type": "markdown",
   "metadata": {},
   "source": [
    "https://www.acmicpc.net/problem/15900"
   ]
  },
  {
   "cell_type": "code",
   "execution_count": null,
   "metadata": {},
   "outputs": [],
   "source": [
    "import sys\n",
    "sys.setrecursionlimit(500010)\n",
    "input = lambda: sys.stdin.readline().rstrip()\n",
    "\n",
    "def dfs(value, d):\n",
    "    global total\n",
    "    \n",
    "    vt[value] = True\n",
    "    \n",
    "    is_child = False\n",
    "    for v in li[value]:\n",
    "        if vt[v]:\n",
    "            continue\n",
    "        dfs(v, d + 1)\n",
    "        is_child = True\n",
    "    \n",
    "    if not is_child:\n",
    "        total += d\n",
    "\n",
    "n = int(input())\n",
    "\n",
    "li = [[] for _ in range(n + 1)]\n",
    "for _ in range(n - 1):\n",
    "    a, b = map(int, input().split())\n",
    "    li[a].append(b)\n",
    "    li[b].append(a)\n",
    "    \n",
    "total = 0\n",
    "vt = [False] * (n + 1)\n",
    "dfs(1, 0)\n",
    "\n",
    "if total % 2 == 0:\n",
    "    print('No')\n",
    "else:\n",
    "    print('Yes')"
   ]
  },
  {
   "cell_type": "markdown",
   "metadata": {},
   "source": [
    "### 피아의 아틀리에 ~신비한 대회의 연금술사~ 15898"
   ]
  },
  {
   "cell_type": "code",
   "execution_count": null,
   "metadata": {},
   "outputs": [],
   "source": [
    "모든 재료 중 3개를 고르는 순열 경우의 수 * 각 재료를 회전시키는 4가지 경우의 수\n",
    "* 각 재료를 배치하는 4가지 경우의 수 * 최종 점수를 계산하는 경우의 수"
   ]
  },
  {
   "cell_type": "code",
   "execution_count": null,
   "metadata": {},
   "outputs": [],
   "source": [
    "from itertools import permutations as perm\n",
    "from copy import deepcopy\n",
    "\n",
    "def rotate(li):\n",
    "    new_li = [[0] * n for _ in range(n)]\n",
    "    \n",
    "    for i in range(n):\n",
    "        for j in range(n):\n",
    "            new_li[i][j] = li[j][n - 1 - i]\n",
    "    return new_li\n",
    "\n",
    "n = int(input())\n",
    "effects = []\n",
    "colors = []\n",
    "\n",
    "ch_color = {'W': 0, 'R': 1, 'B': 2, 'G': 3, 'Y': 4}\n",
    "for _ in range(n):\n",
    "    effect = [list(map(int, input().split())) for _ in range(4)]\n",
    "    color = [input().split() for _ in range(4)]\n",
    "    \n",
    "    ncolor = [[0] * 4 for _ in range(4)]\n",
    "    for i in range(4):\n",
    "        for j in range(4):\n",
    "            ncolor[i][j] = ch_color[color[i][j]]\n",
    "    \n",
    "    effects.append(effect)\n",
    "    colors.append(ncolor)\n",
    "    \n",
    "effects_ro = []\n",
    "colors_ro = []\n",
    "for i in range(n):\n",
    "    temp_e = [effects[i]]\n",
    "    temp_c = [colors[i]]\n",
    "    for _ in range(3):\n",
    "        temp_e.append(rotate(temp_e[-1]))\n",
    "        temp_c.append(rotate(temp_c[-1]))\n",
    "        \n",
    "    effects_ro.append(temp_e)\n",
    "    colors_ro.append(temp_c)\n",
    "\n",
    "e_ro1 = effects_ro[0]\n",
    "c_ro1 = colors_ro[0]\n",
    "e_ro2 = effects_ro[1]\n",
    "c_ro2 = colors_ro[1]\n",
    "e_ro3 = effects_ro[2]\n",
    "c_ro3 = colors_ro[2]\n",
    "e_ro4 = effects_ro[3]\n",
    "c_ro4 = colors_ro[3] \n",
    "for ings in perm(range(n), 3):\n",
    "    for a_ro in range(4):\n",
    "        for b_ro in range(4):\n",
    "            for c_ro in range(4):\n",
    "                for a_s in range(4):\n",
    "                    for b_s in range(4):\n",
    "                        for c_s in range(4):\n",
    "                            cur_grade = [[0] * 5 for _ in range(5)]\n",
    "                            cur_color = [[0] * 5 for _ in range(5)]\n",
    "                            \n",
    "print(effects)                            "
   ]
  },
  {
   "cell_type": "code",
   "execution_count": null,
   "metadata": {},
   "outputs": [],
   "source": [
    "# 재료선택  돌리기  4군데배치  반영\n",
    "   10*9*8 * 4*4*4 * 4*4*4  *  (4*4) * 3  \n",
    "\n"
   ]
  },
  {
   "cell_type": "code",
   "execution_count": 9,
   "metadata": {},
   "outputs": [
    {
     "data": {
      "text/plain": [
       "141557760"
      ]
     },
     "execution_count": 9,
     "metadata": {},
     "output_type": "execute_result"
    }
   ],
   "source": [
    "10*9*8 * 4*4*4 * 4*4*4  *   4*4 *3"
   ]
  },
  {
   "cell_type": "code",
   "execution_count": null,
   "metadata": {},
   "outputs": [],
   "source": [
    "# 뒤집은 상태 미리 전처리\n"
   ]
  },
  {
   "cell_type": "markdown",
   "metadata": {},
   "source": [
    "### Split and Merge 15898"
   ]
  },
  {
   "cell_type": "code",
   "execution_count": null,
   "metadata": {},
   "outputs": [],
   "source": [
    "쪼개야 하는 2와 그렇지 않은 2를 초기에 구분해줌?\n"
   ]
  },
  {
   "cell_type": "code",
   "execution_count": null,
   "metadata": {},
   "outputs": [],
   "source": [
    "1 2 1 1 1 2 1 2 1 1\n",
    "1 1 1 1 2 1 1 1 2 2\n",
    "\n",
    "1 2 2 1\n",
    "\n",
    "1 1 1 2 1\n",
    "\n",
    "2 1 1 2\n",
    "\n",
    "\n",
    "1 2 2 1\n",
    "2 2 2\n",
    "\n",
    "1 1 1 2 1\n",
    "\n",
    "2 1 2 1\n",
    "2 1 1 1 1\n",
    "\n",
    "2 2 2\n",
    "\n",
    "\n",
    "1 1 1 2 1\n",
    "2 2 2"
   ]
  }
 ],
 "metadata": {
  "kernelspec": {
   "display_name": "Python 3",
   "language": "python",
   "name": "python3"
  },
  "language_info": {
   "codemirror_mode": {
    "name": "ipython",
    "version": 3
   },
   "file_extension": ".py",
   "mimetype": "text/x-python",
   "name": "python",
   "nbconvert_exporter": "python",
   "pygments_lexer": "ipython3",
   "version": "3.8.3"
  }
 },
 "nbformat": 4,
 "nbformat_minor": 4
}
