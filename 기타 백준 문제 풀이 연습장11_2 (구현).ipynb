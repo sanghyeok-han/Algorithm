{
 "cells": [
  {
   "cell_type": "markdown",
   "metadata": {},
   "source": [
    "### 상어 중학교 21609"
   ]
  },
  {
   "cell_type": "code",
   "execution_count": null,
   "metadata": {},
   "outputs": [],
   "source": [
    "9.38"
   ]
  },
  {
   "cell_type": "code",
   "execution_count": null,
   "metadata": {},
   "outputs": [],
   "source": [
    "탐색시 일반 블록 기준으로만 탐색함.\n",
    "상하좌우 이동\n",
    "\n",
    "일반 블록이면서 행의 번호가 가장 작고 열의 번호가 가장 작은게 기준 블록\n",
    "블록 그룹 찾을 때 블록 그룹의 크기, 전체 블록의 좌표, 무지개 블록의 수, 기준 블록의 좌표를 저장함\n",
    "블록 그룹 찾을 때 기준 블록도 같이 찾음\n",
    "\n",
    "지워진 블록은 -2로 표시함\n",
    "\n",
    "중력 작용과 회전 부분은 함수를 따로 만듦\n",
    "검은색 블록은 중력의 영향을 받지 않음\n",
    "\n",
    "지울 블록그룹이 없다면 종료함"
   ]
  },
  {
   "cell_type": "code",
   "execution_count": null,
   "metadata": {},
   "outputs": [],
   "source": [
    "n, m = map(int, input().split())\n",
    "li = [list(int, input().split()) for _ in range(n)]\n",
    "\n",
    "def get_target_block_group():\n",
    "    \n",
    "    \n",
    "    \n",
    "    return blocks"
   ]
  }
 ],
 "metadata": {
  "kernelspec": {
   "display_name": "Python 3",
   "language": "python",
   "name": "python3"
  },
  "language_info": {
   "codemirror_mode": {
    "name": "ipython",
    "version": 3
   },
   "file_extension": ".py",
   "mimetype": "text/x-python",
   "name": "python",
   "nbconvert_exporter": "python",
   "pygments_lexer": "ipython3",
   "version": "3.7.3"
  }
 },
 "nbformat": 4,
 "nbformat_minor": 4
}
