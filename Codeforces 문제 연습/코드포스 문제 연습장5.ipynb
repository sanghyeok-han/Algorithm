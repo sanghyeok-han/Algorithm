{
 "cells": [
  {
   "cell_type": "markdown",
   "metadata": {},
   "source": [
    "https://codeforces.com/contest/1680/problem/A"
   ]
  },
  {
   "cell_type": "code",
   "execution_count": 3,
   "metadata": {},
   "outputs": [
    {
     "name": "stdout",
     "output_type": "stream",
     "text": [
      "5 8 5 5\n",
      "5\n"
     ]
    }
   ],
   "source": [
    "import sys\n",
    "input = lambda: sys.stdin.readline().rstrip()\n",
    "\n",
    "for _ in range(int(input())):\n",
    "    l1, r1, l2, r2 = map(int, input().split())\n",
    "\n",
    "    st1 = set(range(l1, r1 + 1))\n",
    "    st2 = set(range(l2, r2 + 1))\n",
    "\n",
    "    st = st1 & st2\n",
    "    if not st:\n",
    "        print(l1 + l2)\n",
    "    else:\n",
    "        print(min(st))"
   ]
  },
  {
   "cell_type": "markdown",
   "metadata": {},
   "source": [
    "https://codeforces.com/contest/1680/problem/B"
   ]
  },
  {
   "cell_type": "code",
   "execution_count": 4,
   "metadata": {},
   "outputs": [
    {
     "data": {
      "text/plain": [
       "3125000"
      ]
     },
     "execution_count": 4,
     "metadata": {},
     "output_type": "execute_result"
    }
   ],
   "source": [
    "import sys\n",
    "input = lambda: sys.stdin.readline().rstrip()\n",
    "\n",
    "for _ in range(int(input())):\n",
    "    n, m = map(int, input().split())\n",
    "    li = [input() for _ in range(n)]\n",
    "\n",
    "    xs = []\n",
    "    ys = []\n",
    "    for i in range(n):\n",
    "        for j in range(m):\n",
    "            if li[i][j] == 'R':\n",
    "                xs.append(i)\n",
    "                ys.append(j)\n",
    "\n",
    "    min_xs = min(xs)\n",
    "    xs = [x - min_xs for x in xs]\n",
    "\n",
    "    min_ys = min(ys)\n",
    "    ys = [y - min_ys for y in ys]\n",
    "\n",
    "    ip = False\n",
    "    for i in range(len(xs)):\n",
    "        if xs[i] == ys[i] == 0:\n",
    "            ip = True\n",
    "            break\n",
    "\n",
    "    if ip:\n",
    "        print('YES')\n",
    "    else:\n",
    "        print('NO')"
   ]
  },
  {
   "cell_type": "markdown",
   "metadata": {},
   "source": [
    "https://codeforces.com/contest/1680/problem/C"
   ]
  },
  {
   "cell_type": "code",
   "execution_count": null,
   "metadata": {},
   "outputs": [],
   "source": [
    "구간에 남은 0의 개수를 삼분 탐색 돌리면서 최적값을 찾음\n",
    "\n",
    "삼분 탐색 내부에서는 두 포인터를 사용해서 0의 값을 맞춰줌"
   ]
  },
  {
   "cell_type": "code",
   "execution_count": 33,
   "metadata": {},
   "outputs": [
    {
     "name": "stdout",
     "output_type": "stream",
     "text": [
      "1001001001001\n",
      "[4, 4, 3, 3, 4, 5, 6, 7, 8, inf, inf, inf, inf, inf, inf, inf, inf, inf, inf, inf]\n"
     ]
    }
   ],
   "source": [
    "li = list(map(int, input()))\n",
    "n = len(li)\n",
    "\n",
    "ct = [float('inf')] * 20\n",
    "for l in range(n):\n",
    "    for r in range(l, n):\n",
    "        t1 = li[:l].count(1) + li[r + 1:].count(1)\n",
    "        t2 = li[l:r + 1].count(0)\n",
    "        \n",
    "        ct[t2] = min(ct[t2], max(t1, t2))\n",
    "        \n",
    "print(ct)"
   ]
  },
  {
   "cell_type": "code",
   "execution_count": 75,
   "metadata": {},
   "outputs": [
    {
     "name": "stdout",
     "output_type": "stream",
     "text": [
      "1001001001001\n",
      "3\n"
     ]
    }
   ],
   "source": [
    "import sys\n",
    "input = lambda: sys.stdin.readline().rstrip()\n",
    "\n",
    "inf = float('inf')\n",
    "\n",
    "def get_zero_c_in_interval(s, e):\n",
    "    return s_zeros[e + 1] - s_zeros[s]\n",
    "\n",
    "def get_one_c_in_outer(s, e):\n",
    "    return s_ones[s] + s_ones[n] - s_ones[e + 1]\n",
    "\n",
    "def get_value(zero_needed):\n",
    "    start = 0\n",
    "    end = 0\n",
    "    min_value = inf\n",
    "    while start <= end < n:\n",
    "        zero_c = get_zero_c_in_interval(start, end)\n",
    "        \n",
    "        if zero_c < zero_needed:\n",
    "            end += 1\n",
    "            continue\n",
    "        elif zero_c > zero_needed:\n",
    "            start += 1\n",
    "            if start > end:\n",
    "                end = start\n",
    "            continue\n",
    "        else:\n",
    "            value = max(get_zero_c_in_interval(start, end), get_one_c_in_outer(start, end))\n",
    "            min_value = min(min_value, value)\n",
    "            end += 1\n",
    "\n",
    "    return min_value\n",
    "\n",
    "for _ in range(int(input())):\n",
    "    li = list(map(int, input()))\n",
    "    n = len(li)\n",
    "\n",
    "    s_zeros = [0] * (n + 1)\n",
    "    s_ones = [0] * (n + 1)\n",
    "    zero_cumul = 0\n",
    "    one_cumul = 0\n",
    "    for i in range(n):\n",
    "        if li[i] == 0:\n",
    "            zero_cumul += 1\n",
    "        else:\n",
    "            one_cumul += 1\n",
    "\n",
    "        s_zeros[i + 1] = zero_cumul\n",
    "        s_ones[i + 1] = one_cumul\n",
    "\n",
    "    if s_zeros[-1] == n:\n",
    "        print(0)\n",
    "    else:\n",
    "        start = 0\n",
    "        end = s_zeros[-1]\n",
    "        result = inf\n",
    "        while start <= end:\n",
    "            mid1 = (start * 2 + end) // 3\n",
    "            mid2 = (start + end * 2) // 3\n",
    "\n",
    "            t1 = get_value(mid1)\n",
    "            t2 = get_value(mid2)\n",
    "\n",
    "            result = min(result, t1, t2)\n",
    "\n",
    "            if end - start <= 5:\n",
    "                for mid in range(start, end + 1):\n",
    "                    result = min(result, get_value(mid))\n",
    "                break\n",
    "\n",
    "            if t1 >= t2:\n",
    "                start = mid1\n",
    "            else:\n",
    "                end = mid2\n",
    "\n",
    "        print(result)"
   ]
  },
  {
   "cell_type": "markdown",
   "metadata": {},
   "source": [
    "https://codeforces.com/contest/1679/problem/A"
   ]
  },
  {
   "cell_type": "code",
   "execution_count": null,
   "metadata": {},
   "outputs": [],
   "source": [
    "import sys\n",
    "# input = lambda: sys.stdin.readline().rstrip()\n",
    "\n",
    "inf = float('inf')\n",
    "\n",
    "for _ in range(int(input())):\n",
    "    n = int(input())\n",
    "\n",
    "    min_r = inf\n",
    "    c4 = 0\n",
    "    c6 = 0\n",
    "    st = set()\n",
    "    while True:\n",
    "        if n - c4 * 4 < 0:\n",
    "            break\n",
    "        v = (n - c4 * 4) % 6\n",
    "        if v in st:\n",
    "            break\n",
    "        st.add(v)\n",
    "        if v == 0:\n",
    "            c6 = (n - c4 * 4) // 6\n",
    "            min_r = c6 + c4\n",
    "            break\n",
    "        c4 += 1\n",
    "\n",
    "    max_r = -inf\n",
    "    c4 = 0\n",
    "    c6 = 0\n",
    "    st = set()\n",
    "    while True:\n",
    "        if n - c6 * 6 < 0:\n",
    "            break\n",
    "        v = (n - c6 * 6) % 4\n",
    "        if v in st:\n",
    "            break\n",
    "        st.add(v)\n",
    "        if v == 0:\n",
    "            c4 = (n - c6 * 6) // 4\n",
    "            max_r = c6 + c4\n",
    "            break\n",
    "        c6 += 1\n",
    "\n",
    "    if min_r == inf or max_r == -inf:\n",
    "        print(-1)\n",
    "    else:\n",
    "        print(min_r, max_r)"
   ]
  },
  {
   "cell_type": "markdown",
   "metadata": {},
   "source": [
    "https://codeforces.com/contest/1679/problem/B"
   ]
  },
  {
   "cell_type": "code",
   "execution_count": null,
   "metadata": {},
   "outputs": [],
   "source": [
    "import sys\n",
    "input = lambda: sys.stdin.readline().rstrip()\n",
    "\n",
    "n, q = map(int, input().split())\n",
    "li = list(map(int, input().split()))\n",
    "\n",
    "nli = [[-1, v] for v in li]\n",
    "ltp2qn = -1 # latest type 2 qnum\n",
    "cur_v = -1\n",
    "cur_total = sum(li)\n",
    "for qnum in range(q):\n",
    "    qu = list(map(int, input().split()))\n",
    "    if qu[0] == 2:\n",
    "        ltp2qn = qnum\n",
    "        cur_v = qu[1]\n",
    "        cur_total = qu[1] * n\n",
    "        print(cur_total)\n",
    "    else:\n",
    "        qu[1] -= 1\n",
    "        if nli[qu[1]][0] < ltp2qn:\n",
    "            nli[qu[1]][0] = ltp2qn\n",
    "            nli[qu[1]][1] = cur_v\n",
    "\n",
    "        diff = qu[2] - nli[qu[1]][1]\n",
    "        nli[qu[1]][0] = qnum\n",
    "        nli[qu[1]][1] = qu[2]\n",
    "        cur_total += diff\n",
    "\n",
    "        print(cur_total)"
   ]
  },
  {
   "cell_type": "markdown",
   "metadata": {},
   "source": [
    "https://codeforces.com/contest/1679/problem/C"
   ]
  },
  {
   "cell_type": "code",
   "execution_count": null,
   "metadata": {},
   "outputs": [],
   "source": [
    "멀티셋 사용으로 추정됨"
   ]
  },
  {
   "cell_type": "code",
   "execution_count": 79,
   "metadata": {},
   "outputs": [
    {
     "data": {
      "text/plain": [
       "1"
      ]
     },
     "execution_count": 79,
     "metadata": {},
     "output_type": "execute_result"
    }
   ],
   "source": [
    "from bisect import bisect_left\n",
    "\n",
    "\n",
    "s = 2\n",
    "e = 2\n",
    "bisect_left([1, 2, 3, 4, 5], 2)"
   ]
  },
  {
   "cell_type": "code",
   "execution_count": null,
   "metadata": {},
   "outputs": [],
   "source": [
    "import sys\n",
    "# input = lambda: sys.stdin.readline().rstrip()\n",
    "\n",
    "def get_sum_x(i):\n",
    "    total = 0\n",
    "    while i > 0:\n",
    "        total += tree_xs[i]\n",
    "        i -= i & (-i)\n",
    "        \n",
    "    return total\n",
    "\n",
    "def update_x(i, diff):\n",
    "    while i < n + 1:\n",
    "        tree_xs[i] += diff\n",
    "        i += i & (-i)\n",
    "        \n",
    "def get_sum_y(i):\n",
    "    total = 0\n",
    "    while i > 0:\n",
    "        total += tree_ys[i]\n",
    "        i -= i & (-i)\n",
    "        \n",
    "    return total\n",
    "\n",
    "def update_y(i, diff):\n",
    "    while i < n + 1:\n",
    "        tree_ys[i] += diff\n",
    "        i += i & (-i)\n",
    "\n",
    "n, q = map(int, input().split())\n",
    "\n",
    "x_ct = [0] * (n + 1)\n",
    "y_ct = [0] * (n + 1)\n",
    "xs = [0] * (n + 1)\n",
    "ys = [0] * (n + 1)\n",
    "tree_xs = [0] * (n + 1)\n",
    "tree_ys = [0] * (n + 1)\n",
    "\n",
    "for _ in range(q):\n",
    "    query = list(map(int, input().split()))\n",
    "    tp = query[0]\n",
    "    \n",
    "    if tp == 1:\n",
    "        x = query[1]\n",
    "        y = query[2]\n",
    "        \n",
    "        x_ct[x] += 1\n",
    "        if x_ct[x] == 1:\n",
    "            diff = 1 - xs[x] \n",
    "            xs[x] = 1\n",
    "            update_x(x, diff)\n",
    "            \n",
    "        y_ct[y] += 1\n",
    "        if y_ct[y] == 1:\n",
    "            diff = 1 - ys[y]\n",
    "            ys[y] = 1\n",
    "            update_y(y, diff)\n",
    "    elif tp == 2:\n",
    "        x = query[1]\n",
    "        y = query[2]\n",
    "\n",
    "        x_ct[x] -= 1\n",
    "        if x_ct[x] == 0:\n",
    "            diff = 0 - xs[x]\n",
    "            xs[x] = 0\n",
    "            update_x(x, diff)\n",
    "            \n",
    "        y_ct[y] -= 1\n",
    "        if y_ct[y] == 0:\n",
    "            diff = 0 - ys[y]\n",
    "            ys[y] = 0\n",
    "            update_y(y, diff)\n",
    "    else:\n",
    "        x1 = query[1]\n",
    "        y1 = query[2]\n",
    "        x2 = query[3]\n",
    "        y2 = query[4]\n",
    "\n",
    "        all_attacked = False\n",
    "        \n",
    "        sv = get_sum_x(x2) - get_sum_x(x1 - 1)\n",
    "         \n",
    "        if sv == x2 - x1 + 1:\n",
    "            all_attacked = True\n",
    "            \n",
    "        sv = get_sum_y(y2) - get_sum_y(y1 - 1)\n",
    "\n",
    "        if sv == y2 - y1 + 1:\n",
    "            all_attacked = True\n",
    "            \n",
    "        if all_attacked:\n",
    "            print('Yes')\n",
    "        else:\n",
    "            print('No')"
   ]
  },
  {
   "cell_type": "markdown",
   "metadata": {},
   "source": [
    "https://codeforces.com/problemset/problem/1678/B2"
   ]
  },
  {
   "cell_type": "code",
   "execution_count": 6,
   "metadata": {},
   "outputs": [
    {
     "name": "stdout",
     "output_type": "stream",
     "text": [
      "1\n",
      "6\n",
      "100110\n",
      "3 0\n"
     ]
    }
   ],
   "source": [
    "import sys\n",
    "# input = lambda: sys.stdin.readline().rstrip()\n",
    "\n",
    "for _ in range(int(input())):\n",
    "    n = int(input())\n",
    "    s = input()\n",
    "\n",
    "    tps = []\n",
    "    for i in range(0, n, 2):\n",
    "        v = int(s[i:i + 2])\n",
    "\n",
    "        if v == 0:\n",
    "            tps.append(0)\n",
    "        elif v == 1 or v == 10:\n",
    "            tps.append(2)\n",
    "        elif v == 11:\n",
    "            tps.append(1)\n",
    "\n",
    "    needed = 0\n",
    "    c = 0\n",
    "    f_same = ''\n",
    "    for v in tps:\n",
    "        if v == 2:\n",
    "            needed += 1\n",
    "            continue\n",
    "\n",
    "        if v != f_same:\n",
    "            f_same = v\n",
    "            c += 1\n",
    "\n",
    "    r = 0\n",
    "    if c <= 1:\n",
    "        r = 1\n",
    "    else:\n",
    "        r = c\n",
    "\n",
    "    print(needed, r)"
   ]
  },
  {
   "cell_type": "markdown",
   "metadata": {},
   "source": [
    "https://codeforces.com/contest/1642/problem/A"
   ]
  },
  {
   "cell_type": "code",
   "execution_count": 1,
   "metadata": {},
   "outputs": [
    {
     "name": "stdout",
     "output_type": "stream",
     "text": [
      "8 10\n",
      "10 4\n",
      "6 2\n",
      "0\n"
     ]
    }
   ],
   "source": [
    "import sys\n",
    "# input = lambda: sys.stdin.readline().rstrip()\n",
    "\n",
    "for _ in range(int(input())):\n",
    "    li = [list(map(int, input().split())) for _ in range(3)]\n",
    "    li.sort(key=lambda x: x[1])\n",
    "\n",
    "    r = 0\n",
    "    if li[1][1] == li[2][1]:\n",
    "        a, b = li[1][0], li[2][0]\n",
    "\n",
    "        if a > b:\n",
    "            a, b = b, a\n",
    "\n",
    "        r = b - a\n",
    "\n",
    "    print(r)"
   ]
  },
  {
   "cell_type": "markdown",
   "metadata": {},
   "source": [
    "https://codeforces.com/contest/1642/problem/B"
   ]
  },
  {
   "cell_type": "code",
   "execution_count": 6,
   "metadata": {},
   "outputs": [
    {
     "name": "stdout",
     "output_type": "stream",
     "text": [
      "1\n",
      "1\n",
      "3\n",
      "1\n"
     ]
    }
   ],
   "source": [
    "import sys\n",
    "# input = lambda: sys.stdin.readline().rstrip()\n",
    "\n",
    "for _ in range(int(input())):\n",
    "    n = int(input())\n",
    "    st = set(map(int, input().split()))\n",
    "\n",
    "    r = [0] * n\n",
    "    st_len = len(st)\n",
    "    for i in range(st_len):\n",
    "        r[i] = st_len\n",
    "\n",
    "    for i in range(st_len, n):\n",
    "        r[i] = r[i - 1] + 1\n",
    "\n",
    "    print(*r)"
   ]
  },
  {
   "cell_type": "markdown",
   "metadata": {},
   "source": [
    "https://codeforces.com/contest/1642/problem/C"
   ]
  },
  {
   "cell_type": "code",
   "execution_count": 11,
   "metadata": {},
   "outputs": [
    {
     "name": "stdout",
     "output_type": "stream",
     "text": [
      "9 10\n",
      "10 10 10 20 1 100 200 2000 3\n",
      "3\n"
     ]
    }
   ],
   "source": [
    "from collections import Counter\n",
    "import sys\n",
    "input = lambda: sys.stdin.readline().rstrip()\n",
    "\n",
    "for _ in range(int(input())):\n",
    "    n, x = map(int, input().split())\n",
    "    ct = Counter(map(int, input().split()))\n",
    "\n",
    "    needed = n\n",
    "    li = sorted(ct.keys())\n",
    "    nn = len(li)\n",
    "    for i in range(nn):\n",
    "        v = li[i]\n",
    "        nv = v * x\n",
    "\n",
    "        can_match = min(ct[v], ct[nv])\n",
    "        ct[v] -= can_match\n",
    "        ct[nv] -= can_match\n",
    "        needed -= can_match * 2\n",
    "\n",
    "    print(needed)"
   ]
  },
  {
   "cell_type": "markdown",
   "metadata": {},
   "source": [
    "https://codeforces.com/contest/1642/problem/D"
   ]
  },
  {
   "cell_type": "code",
   "execution_count": 4,
   "metadata": {},
   "outputs": [
    {
     "name": "stdout",
     "output_type": "stream",
     "text": [
      "6\n",
      "3 2 1 1 2 3\n",
      "[3, 2, 1, 1, 2, 1, 1, 3, 2, 1, 1, 2, 1, 1]\n"
     ]
    }
   ],
   "source": [
    "n = int(input())\n",
    "li = list(map(int, input().split()))\n",
    "\n",
    "def recur(l, r):\n",
    "    global ip\n",
    "    \n",
    "    if r < l:\n",
    "        return [], []\n",
    "    \n",
    "    added = []\n",
    "    \n",
    "    cri = li[l]\n",
    "    for i in range(l + 1, r + 1):\n",
    "        if li[i] == cri:\n",
    "            left, added_l = recur(l + 1, i - 1)\n",
    "            right, added_r = recur(i + 1, r)\n",
    "            break\n",
    "    else:\n",
    "        ip = False\n",
    "        return []\n",
    "    \n",
    "    return [cri] + left + right + [cri] + left + right, added\n",
    "    \n",
    "    \n",
    "ip = True\n",
    "r = recur(0, n - 1)\n",
    "\n",
    "if not ip:\n",
    "    print(-1)\n",
    "else:\n",
    "    pass"
   ]
  },
  {
   "cell_type": "markdown",
   "metadata": {},
   "source": [
    "https://codeforces.com/problemset/problem/1684/D"
   ]
  },
  {
   "cell_type": "code",
   "execution_count": null,
   "metadata": {},
   "outputs": [],
   "source": [
    "k를 다 사용하는게 이득임\n",
    "\n",
    "최소 뒤에서부터 k를 전부 사용할 수 있음\n",
    "\n",
    "선택에 있어 어디까지가 독립인가?"
   ]
  },
  {
   "cell_type": "code",
   "execution_count": null,
   "metadata": {},
   "outputs": [],
   "source": [
    "5 10 11 5\n",
    "      0\n",
    "    \n",
    "9 8 7 6 5\n",
    "\n",
    "0 0 9 8 7\n",
    "\n",
    "9 8 7 0 0\n",
    "\n",
    "0 9 8 7 0\n"
   ]
  },
  {
   "cell_type": "code",
   "execution_count": 14,
   "metadata": {},
   "outputs": [
    {
     "name": "stdout",
     "output_type": "stream",
     "text": [
      "7 5\n",
      "8 2 5 15 11 2 8\n",
      "9\n"
     ]
    }
   ],
   "source": [
    "import sys\n",
    "input = lambda: sys.stdin.readline().rstrip()\n",
    "\n",
    "for _ in range(int(input())):\n",
    "    n, k = map(int, input().split())\n",
    "    li = list(map(int, input().split()))\n",
    "\n",
    "    values = [[i, 0] for i in range(n)]\n",
    "    cri = li[-1]\n",
    "    cur_minus = 0\n",
    "    for i in range(n - 1, -1, -1):\n",
    "        values[i][1] = li[i] - cri - cur_minus\n",
    "        cur_minus += 1\n",
    "\n",
    "    values.sort(key=lambda x: -x[1])\n",
    "\n",
    "    not_used = set()\n",
    "    for i in range(k):\n",
    "        not_used.add(values[i][0])\n",
    "\n",
    "    w = 0\n",
    "    total = 0\n",
    "    for i in range(n):\n",
    "        if i in not_used:\n",
    "            w += 1\n",
    "        else:\n",
    "            total += w + li[i]\n",
    "\n",
    "    print(total)"
   ]
  },
  {
   "cell_type": "markdown",
   "metadata": {},
   "source": [
    "https://codeforces.com/problemset/problem/1677/B"
   ]
  },
  {
   "cell_type": "code",
   "execution_count": null,
   "metadata": {},
   "outputs": [],
   "source": [
    "열의 경우 몇 번째로 들어갔는지를 열의 수로 나눠주면 될 것"
   ]
  },
  {
   "cell_type": "code",
   "execution_count": 28,
   "metadata": {},
   "outputs": [
    {
     "name": "stdout",
     "output_type": "stream",
     "text": [
      "0 1\n",
      "1 1\n",
      "2 1\n",
      "3 1\n",
      "4 2\n",
      "5 2\n",
      "6 2\n",
      "7 2\n",
      "8 3\n",
      "9 3\n",
      "10 3\n",
      "11 2\n",
      "12 3\n",
      "13 3\n",
      "14 4\n",
      "15 3\n"
     ]
    }
   ],
   "source": [
    "from collections import deque\n",
    "\n",
    "n, m = 4, 4\n",
    "s = '1100000000000000'\n",
    "s = '1111011100000011'\n",
    "li = list(map(int, s))\n",
    "\n",
    "deq = deque([0] * (n * m))\n",
    "for i in range(n * m):\n",
    "    deq.rotate(1)\n",
    "    deq[0] = li[i]\n",
    "    \n",
    "    c = 0\n",
    "    for j in range(0, n * m, m):\n",
    "        nli = list(deq)\n",
    "        c += any(nli[j:j+m])\n",
    "        \n",
    "    print(i, c)"
   ]
  },
  {
   "cell_type": "code",
   "execution_count": 33,
   "metadata": {},
   "outputs": [
    {
     "name": "stdout",
     "output_type": "stream",
     "text": [
      "2 4\n",
      "11001101\n",
      "2 3 3 3 4 4 4 5\n"
     ]
    }
   ],
   "source": [
    "import sys\n",
    "input = lambda: sys.stdin.readline().rstrip()\n",
    "\n",
    "inf = float('inf')\n",
    "\n",
    "for _ in range(int(input())):\n",
    "    n, m = map(int, input().split())\n",
    "    s = input()\n",
    "\n",
    "    cur_col_tp = 0\n",
    "    col_tp_st = set()\n",
    "\n",
    "    rows = [0] * (n * m + m)\n",
    "    row_last_added = inf\n",
    "\n",
    "    r = []\n",
    "    for i in range(n * m):\n",
    "        if s[i] == '1':\n",
    "            col_tp_st.add(cur_col_tp)\n",
    "            row_last_added = 0\n",
    "        else:\n",
    "            row_last_added += 1\n",
    "\n",
    "        cur_col_tp += 1\n",
    "        if cur_col_tp == m:\n",
    "            cur_col_tp = 0\n",
    "\n",
    "        rows[i + m] = rows[i]\n",
    "        if row_last_added < m:\n",
    "            rows[i + m] += 1\n",
    "\n",
    "        r.append(rows[i + m] + len(col_tp_st))\n",
    "\n",
    "    print(*r)"
   ]
  },
  {
   "cell_type": "markdown",
   "metadata": {},
   "source": [
    "https://codeforces.com/problemset/problem/1660/F1"
   ]
  },
  {
   "cell_type": "code",
   "execution_count": null,
   "metadata": {},
   "outputs": [],
   "source": [
    "--+\n",
    "++\n",
    "\n",
    "-+\n",
    "-+\n",
    "\n",
    "-++\n",
    "\n",
    "--\n",
    "+\n",
    "\n",
    "---\n",
    "+-\n",
    "\n",
    "------++\n",
    "----+++\n",
    "--++++\n",
    "\n",
    "----+"
   ]
  },
  {
   "cell_type": "code",
   "execution_count": null,
   "metadata": {},
   "outputs": [],
   "source": [
    "이미 같은 경우 가능"
   ]
  },
  {
   "cell_type": "code",
   "execution_count": 43,
   "metadata": {},
   "outputs": [],
   "source": [
    "cases = []\n",
    "for cp in range(14):\n",
    "    for cm in range(14):\n",
    "        cur_cp = cp\n",
    "        cur_cm = cm\n",
    "        if cur_cp == cur_cm:\n",
    "            continue\n",
    "        \n",
    "        while cur_cm >= 2 and cur_cm > cur_cp:\n",
    "            cur_cm -= 2\n",
    "            cur_cp += 1\n",
    "            \n",
    "        if cur_cm == cur_cp:\n",
    "            cases.append((cp, cm))\n",
    "            \n",
    "cases.sort()"
   ]
  },
  {
   "cell_type": "code",
   "execution_count": 44,
   "metadata": {},
   "outputs": [
    {
     "data": {
      "text/plain": [
       "[(0, 3),\n",
       " (0, 6),\n",
       " (0, 9),\n",
       " (0, 12),\n",
       " (1, 4),\n",
       " (1, 7),\n",
       " (1, 10),\n",
       " (1, 13),\n",
       " (2, 5),\n",
       " (2, 8),\n",
       " (2, 11),\n",
       " (3, 6),\n",
       " (3, 9),\n",
       " (3, 12),\n",
       " (4, 7),\n",
       " (4, 10),\n",
       " (4, 13),\n",
       " (5, 8),\n",
       " (5, 11),\n",
       " (6, 9),\n",
       " (6, 12),\n",
       " (7, 10),\n",
       " (7, 13),\n",
       " (8, 11),\n",
       " (9, 12),\n",
       " (10, 13)]"
      ]
     },
     "execution_count": 44,
     "metadata": {},
     "output_type": "execute_result"
    }
   ],
   "source": [
    "cases"
   ]
  },
  {
   "cell_type": "code",
   "execution_count": null,
   "metadata": {},
   "outputs": [],
   "source": [
    "주어진 서브스트링에서 cm이 cp보다 3의 배수만큼 더 많아야 함"
   ]
  },
  {
   "cell_type": "code",
   "execution_count": 53,
   "metadata": {},
   "outputs": [
    {
     "name": "stdout",
     "output_type": "stream",
     "text": [
      "5\n",
      "-+---\n",
      "4\n"
     ]
    }
   ],
   "source": [
    "import sys\n",
    "input = lambda: sys.stdin.readline().rstrip()\n",
    "\n",
    "for _ in range(int(input())):\n",
    "    n = int(input())\n",
    "    s = input()\n",
    "\n",
    "    scp = [0] * (n + 1)\n",
    "    scm = [0] * (n + 1)\n",
    "    cp_cumul = 0\n",
    "    cm_cumul = 0\n",
    "    for i in range(n):\n",
    "        if s[i] == '+':\n",
    "            cp_cumul += 1\n",
    "        else:\n",
    "            cm_cumul += 1\n",
    "\n",
    "        scp[i + 1] = cp_cumul\n",
    "        scm[i + 1] = cm_cumul\n",
    "\n",
    "    r = 0\n",
    "    for s in range(n):\n",
    "        for e in range(s, n):\n",
    "            cp = scp[e + 1] - scp[s]\n",
    "            cm = scm[e + 1] - scm[s]\n",
    "\n",
    "            if cm >= cp:\n",
    "                diff = cm - cp\n",
    "\n",
    "                if diff % 3 == 0:\n",
    "                    r += 1\n",
    "\n",
    "    print(r)"
   ]
  },
  {
   "cell_type": "markdown",
   "metadata": {},
   "source": [
    "https://codeforces.com/problemset/problem/1679/D"
   ]
  },
  {
   "cell_type": "code",
   "execution_count": null,
   "metadata": {},
   "outputs": [],
   "source": [
    "# 시간 초과\n",
    "from collections import defaultdict as dd, deque\n",
    "import sys\n",
    "input = lambda: sys.stdin.readline().rstrip()\n",
    "\n",
    "## PYRIVAL BOOTSTRAP\n",
    "# https://github.com/cheran-senthil/PyRival/blob/master/pyrival/misc/bootstrap.py\n",
    "# This decorator allows for recursion without actually doing recursion\n",
    "## @bootstrap, yield when getting and returning value in recursive functions, end of functions\n",
    "from types import GeneratorType\n",
    "\n",
    "def bootstrap(f, stack=[]):\n",
    "    def wrappedfunc(*args, **kwargs):\n",
    "        if stack:\n",
    "            return f(*args, **kwargs)\n",
    "        else:\n",
    "            to = f(*args, **kwargs)\n",
    "            while True:\n",
    "                if type(to) is GeneratorType:\n",
    "                    stack.append(to)\n",
    "                    to = next(to)\n",
    "                else:\n",
    "                    stack.pop()\n",
    "                    if not stack:\n",
    "                        break\n",
    "                    to = stack[-1].send(to)\n",
    "            return to\n",
    "    return wrappedfunc\n",
    "\n",
    "@bootstrap\n",
    "def dfs(value):\n",
    "    global is_cycled, vt, on_route, posts\n",
    "    \n",
    "    vt.add(value)\n",
    "    on_route.add(value) \n",
    "    for v in posts[value]:\n",
    "        if v in on_route:\n",
    "            is_cycled = True\n",
    "            yield\n",
    "        if v in vt:\n",
    "            continue\n",
    "        yield dfs(v)\n",
    "            \n",
    "        if is_cycled:\n",
    "            yield\n",
    "        \n",
    "    on_route.discard(value)\n",
    "    yield\n",
    "    \n",
    "def check(cri):\n",
    "    global is_cycled, vt, on_route, posts\n",
    "    \n",
    "    included = {i for i in range(1, n + 1) if a[i - 1] <= cri}\n",
    "    \n",
    "    posts = dd(list)\n",
    "    pres = dd(list)\n",
    "    indegree = dd(int)\n",
    "    for value in included:\n",
    "        for v in li[value]:\n",
    "            if v in included:\n",
    "                posts[value].append(v)\n",
    "                pres[v].append(value)\n",
    "                indegree[v] += 1\n",
    "                \n",
    "    vt = set()\n",
    "    is_cycled = False\n",
    "    for value in included:\n",
    "        if value in vt:\n",
    "            continue\n",
    "    \n",
    "        on_route = set()\n",
    "        dfs(value)\n",
    "        \n",
    "        if is_cycled:\n",
    "            break\n",
    "            \n",
    "    if is_cycled:\n",
    "        return True\n",
    "    \n",
    "    queue = deque()\n",
    "    for value in included:\n",
    "        if indegree[value] == 0:       \n",
    "            queue.append(value)\n",
    "    \n",
    "    max_pres = dd(int)\n",
    "    while queue:\n",
    "        value = queue.popleft()\n",
    "        \n",
    "        max_pre = 0\n",
    "        for v in pres[value]:\n",
    "            max_pre = max(max_pre, max_pres[v])\n",
    "            \n",
    "        max_pres[value] = max_pre + 1\n",
    "        \n",
    "        for v in posts[value]:\n",
    "            indegree[v] -= 1\n",
    "            if indegree[v] == 0:\n",
    "                queue.append(v)\n",
    "               \n",
    "    if not max_pres:\n",
    "        max_can_move = 0\n",
    "    else:\n",
    "        max_can_move = max(max_pres.values()) - 1\n",
    "    \n",
    "    if k <= max_can_move:\n",
    "        return True\n",
    "    return False\n",
    "\n",
    "n, m, k = map(int, input().split())\n",
    "k -= 1\n",
    "a = list(map(int, input().split()))\n",
    "li = [[] for _ in range(n + 1)]\n",
    "for _ in range(m):\n",
    "    u, v = map(int, input().split())\n",
    "    li[u].append(v)    \n",
    "    \n",
    "cands = sorted(set(a))\n",
    "\n",
    "vt = set()\n",
    "on_route = set()\n",
    "posts = dd(list)\n",
    "start = 0\n",
    "end = len(cands) - 1\n",
    "r = -1\n",
    "while start <= end:\n",
    "    mid = (start + end) // 2\n",
    "    \n",
    "    is_cycled = False\n",
    "    cri = cands[mid]\n",
    "    if check(cri):\n",
    "        r = cri\n",
    "        end = mid - 1\n",
    "    else:\n",
    "        start = mid + 1\n",
    "        \n",
    "print(r)"
   ]
  },
  {
   "cell_type": "code",
   "execution_count": null,
   "metadata": {},
   "outputs": [],
   "source": [
    "https://codeforces.com/contest/1679/submission/157415128 코드 참고하기"
   ]
  },
  {
   "cell_type": "code",
   "execution_count": 3,
   "metadata": {},
   "outputs": [
    {
     "name": "stdout",
     "output_type": "stream",
     "text": [
      "1 0 1\n",
      "12334\n",
      "12334\n"
     ]
    }
   ],
   "source": [
    "# 맞았음, 초반 노드 위치 재배치, dp 테이블 없는 위상정렬 한번으로 사이클 여부 및 가장 긴 path의 길이 찾을 수 있음\n",
    "from collections import deque\n",
    "\n",
    "import os\n",
    "import sys\n",
    "from io import BytesIO, IOBase\n",
    " \n",
    "BUFSIZE = 8192\n",
    "\n",
    "class FastIO(IOBase):\n",
    "    newlines = 0\n",
    " \n",
    "    def __init__(self, file):\n",
    "        self._fd = file.fileno()\n",
    "        self.buffer = BytesIO()\n",
    "        self.writable = \"x\" in file.mode or \"r\" not in file.mode\n",
    "        self.write = self.buffer.write if self.writable else None\n",
    " \n",
    "    def read(self):\n",
    "        while True:\n",
    "            b = os.read(self._fd, max(os.fstat(self._fd).st_size, BUFSIZE))\n",
    "            if not b:\n",
    "                break\n",
    "            ptr = self.buffer.tell()\n",
    "            self.buffer.seek(0, 2), self.buffer.write(b), self.buffer.seek(ptr)\n",
    "        self.newlines = 0\n",
    "        return self.buffer.read()\n",
    " \n",
    "    def readline(self):\n",
    "        while self.newlines == 0:\n",
    "            b = os.read(self._fd, max(os.fstat(self._fd).st_size, BUFSIZE))\n",
    "            self.newlines = b.count(b\"\\n\") + (not b)\n",
    "            ptr = self.buffer.tell()\n",
    "            self.buffer.seek(0, 2), self.buffer.write(b), self.buffer.seek(ptr)\n",
    "        self.newlines -= 1\n",
    "        return self.buffer.readline()\n",
    " \n",
    "    def flush(self):\n",
    "        if self.writable:\n",
    "            os.write(self._fd, self.buffer.getvalue())\n",
    "            self.buffer.truncate(0), self.buffer.seek(0)\n",
    " \n",
    " \n",
    "class IOWrapper(IOBase):\n",
    "    def __init__(self, file):\n",
    "        self.buffer = FastIO(file)\n",
    "        self.flush = self.buffer.flush\n",
    "        self.writable = self.buffer.writable\n",
    "        self.write = lambda s: self.buffer.write(s.encode(\"ascii\"))\n",
    "        self.read = lambda: self.buffer.read().decode(\"ascii\")\n",
    "        self.readline = lambda: self.buffer.readline().decode(\"ascii\")\n",
    "\n",
    "sys.stdin, sys.stdout = IOWrapper(sys.stdin), IOWrapper(sys.stdout)\n",
    "input = lambda: sys.stdin.readline().rstrip(\"\\r\\n\")\n",
    "\n",
    "def check(mid):\n",
    "    indegree = [0] * (mid + 1)\n",
    "    posts = [[] for _ in range(mid + 1)]\n",
    "    for i in range(mid + 1):\n",
    "        for u, v in edges[i]:\n",
    "            posts[u].append(v)\n",
    "            indegree[v] += 1\n",
    "            \n",
    "    queue = deque()\n",
    "    for i in range(mid + 1):\n",
    "        if indegree[i] == 0:\n",
    "            queue.append((i, 0))\n",
    "    \n",
    "    vt_c = 0\n",
    "    pre_c = 0\n",
    "    while queue:\n",
    "        value, pre_c = queue.popleft()\n",
    "        vt_c += 1\n",
    "        \n",
    "        for v in posts[value]:\n",
    "            indegree[v] -= 1\n",
    "            if indegree[v] == 0:\n",
    "                queue.append((v, pre_c + 1))\n",
    "                \n",
    "    if vt_c < mid + 1:\n",
    "        return True\n",
    "    \n",
    "    if k <= pre_c:\n",
    "        return True\n",
    "    return False\n",
    "\n",
    "n, m, k = map(int, input().split())\n",
    "k -= 1\n",
    "a = list(map(int, input().split()))\n",
    "na = [[a[i], i] for i in range(n)]\n",
    "na.sort(key=lambda x: x[0])\n",
    "new_nums = [0] * n\n",
    "for i in range(n):\n",
    "    new_nums[na[i][1]] = i\n",
    "\n",
    "get_value = lambda x: new_nums[int(x) - 1]\n",
    "edges = [[] for _ in range(n + 1)]\n",
    "for _ in range(m):\n",
    "    u, v = map(get_value, input().split())\n",
    "    \n",
    "    edges[max(u, v)].append((u, v))\n",
    "    \n",
    "start = 0\n",
    "end = n - 1\n",
    "r = -1\n",
    "while start <= end:\n",
    "    mid = (start + end) // 2\n",
    "    \n",
    "    if check(mid):\n",
    "        r = mid\n",
    "        end = mid - 1\n",
    "    else:\n",
    "        start = mid + 1\n",
    "        \n",
    "if r == -1:\n",
    "    print(-1)\n",
    "else:\n",
    "    print(na[r][0])"
   ]
  },
  {
   "cell_type": "code",
   "execution_count": null,
   "metadata": {},
   "outputs": [],
   "source": [
    "https://codeforces.com/problemset/problem/1684/C"
   ]
  },
  {
   "cell_type": "code",
   "execution_count": null,
   "metadata": {},
   "outputs": [],
   "source": [
    "import sys\n",
    "# input = lambda: sys.stdin.readline().rstrip()\n",
    "\n",
    "for _ in range(int(input())):\n",
    "    n, m = map(int, input().split())\n",
    "    li = [list(map(int, input().split())) for _ in range(n)]\n",
    "\n",
    "    if m == 1:\n",
    "        print(1, 1)\n",
    "    else:\n",
    "        ip = True\n",
    "        cris = []\n",
    "        diffs = []\n",
    "        for i in range(n):\n",
    "            cri = sorted(li[i])\n",
    "            cris.append(cri)\n",
    "\n",
    "            if len(diffs) == 2:\n",
    "                continue\n",
    "            \n",
    "            diffs = []\n",
    "            for j in range(m):\n",
    "                if cri[j] != li[i][j]:\n",
    "                    diffs.append(j)\n",
    "                    \n",
    "            if len(diffs) > 2:\n",
    "                ip = False\n",
    "                \n",
    "        if not ip:\n",
    "            print(-1)\n",
    "        elif not diffs:\n",
    "            print(1, 1)\n",
    "        else:\n",
    "            ip = True\n",
    "            for i in range(n):\n",
    "                li[i][diffs[0]], li[i][diffs[1]] = li[i][diffs[1]], li[i][diffs[0]]\n",
    "                if li[i] != cris[i]:\n",
    "                    ip = False\n",
    "                    break\n",
    "\n",
    "            if ip:\n",
    "                print(diffs[0] + 1, diffs[1] + 1)\n",
    "            else:\n",
    "                print(-1)"
   ]
  },
  {
   "cell_type": "code",
   "execution_count": null,
   "metadata": {},
   "outputs": [],
   "source": [
    "https://codeforces.com/contest/1644/problem/D"
   ]
  },
  {
   "cell_type": "code",
   "execution_count": null,
   "metadata": {},
   "outputs": [],
   "source": [
    "import sys\n",
    "input = lambda: sys.stdin.readline().rstrip()\n",
    "\n",
    "mod = 998244353\n",
    "\n",
    "for _ in range(int(input())):\n",
    "    n, m, k, q = map(int, input().split())\n",
    "    li = [list(map(int, input().split())) for _ in range(q)]\n",
    "    im = [[True] * 2 for _ in range(q)] # is meaningful\n",
    "\n",
    "    if q == 1:\n",
    "        print(k)\n",
    "    else:\n",
    "        st0 = set()\n",
    "        st1 = set()\n",
    "        for i in range(q - 1, -1, -1):\n",
    "            if li[i][0] not in st0:\n",
    "                st0.add(li[i][0])\n",
    "            else:\n",
    "                im[i][0] = False\n",
    "\n",
    "            if li[i][1] not in st1:\n",
    "                st1.add(li[i][1])\n",
    "            else:\n",
    "                im[i][1] = False\n",
    "\n",
    "        ct1 = dict()\n",
    "        cci0 = 0 # cur check index\n",
    "        td_c1 = 0 # total distinct count\n",
    "        \n",
    "        ct0 = dict()\n",
    "        cci1 = 0\n",
    "        td_c0 = 0\n",
    "        \n",
    "        for i in range(1, q):\n",
    "            v1 = li[i][1]\n",
    "            if v1 not in ct1:\n",
    "                ct1[v1] = 1\n",
    "            else:\n",
    "                ct1[v1] += 1\n",
    "                \n",
    "            if ct1[v1] == 1:\n",
    "                td_c1 += 1\n",
    "\n",
    "            while td_c1 == m:\n",
    "                im[cci0][0] = False\n",
    "                cci0 += 1\n",
    "                ct1[li[cci0][1]] -= 1\n",
    "                if ct1[li[cci0][1]] == 0:\n",
    "                    td_c1 -= 1        \n",
    "                    \n",
    "            v2 = li[i][0]\n",
    "            if v2 not in ct0:\n",
    "                ct0[v2] = 1\n",
    "            else:\n",
    "                ct0[v2] += 1\n",
    "                \n",
    "            if ct0[v2] == 1:\n",
    "                td_c0 += 1\n",
    "\n",
    "            while td_c0 == n:\n",
    "                im[cci1][1] = False\n",
    "                cci1 += 1\n",
    "                ct0[li[cci1][0]] -= 1\n",
    "                if ct0[li[cci1][0]] == 0:\n",
    "                    td_c0 -= 1\n",
    "\n",
    "        c = 0\n",
    "        for i in range(q):\n",
    "            if any(im[i]):\n",
    "                c += 1\n",
    "\n",
    "        r = pow(k, c, mod)\n",
    "\n",
    "        print(r)"
   ]
  },
  {
   "cell_type": "code",
   "execution_count": null,
   "metadata": {},
   "outputs": [],
   "source": [
    "https://codeforces.com/problemset/problem/1635/D"
   ]
  },
  {
   "cell_type": "code",
   "execution_count": null,
   "metadata": {},
   "outputs": [],
   "source": [
    "정렬함\n",
    "작은 수로 큰 수를 만들 수 있다면 그 큰 수는 필요 없음"
   ]
  },
  {
   "cell_type": "code",
   "execution_count": null,
   "metadata": {},
   "outputs": [],
   "source": [
    "li = [1]\n",
    "x = 1\n",
    "for i in range(30):\n",
    "    x = 2 * x + 1\n",
    "    li.append(x)\n",
    "    \n",
    "print(li)"
   ]
  },
  {
   "cell_type": "code",
   "execution_count": null,
   "metadata": {},
   "outputs": [],
   "source": [
    "li2 = [2]\n",
    "x = 2\n",
    "for i in range(30):\n",
    "    x = 2 * x + 1\n",
    "    li2.append(x)\n",
    "    \n",
    "print(li2)"
   ]
  },
  {
   "cell_type": "code",
   "execution_count": 1,
   "metadata": {},
   "outputs": [
    {
     "name": "stdout",
     "output_type": "stream",
     "text": [
      "[3.0, 4.087462841250339, 5.129283016944966, 6.149747119504682, 7.159871336778389, 8.164906926675688, 9.167418145831737, 10.16867211813223, 11.169298695792845, 12.169611882604212]\n"
     ]
    }
   ],
   "source": [
    "from math import log2\n",
    "\n",
    "x = 8\n",
    "\n",
    "li = []\n",
    "for i in range(10):\n",
    "    li.append(log2(x))\n",
    "    x = 2 * x + 1\n",
    "    \n",
    "print(li)"
   ]
  },
  {
   "cell_type": "code",
   "execution_count": null,
   "metadata": {},
   "outputs": [],
   "source": [
    "ans = p - int(log2(x))"
   ]
  },
  {
   "cell_type": "code",
   "execution_count": null,
   "metadata": {},
   "outputs": [],
   "source": [
    "4y 조건 검사"
   ]
  },
  {
   "cell_type": "code",
   "execution_count": 2,
   "metadata": {},
   "outputs": [
    {
     "name": "stdout",
     "output_type": "stream",
     "text": [
      "2\n",
      "[2.0, 4.0, 6.0, 8.0, 10.0, 12.0, 14.0, 16.0, 18.0, 20.0]\n"
     ]
    }
   ],
   "source": [
    "from math import log2\n",
    "\n",
    "x = 4\n",
    "print(int(log2(x)))\n",
    "\n",
    "li = []\n",
    "for i in range(10):\n",
    "    li.append(log2(x))\n",
    "    x = 4 * x\n",
    "    \n",
    "print(li)"
   ]
  },
  {
   "cell_type": "code",
   "execution_count": null,
   "metadata": {},
   "outputs": [],
   "source": [
    "ans = (p + 1 - int(log2(x))) // 2"
   ]
  },
  {
   "cell_type": "code",
   "execution_count": 26,
   "metadata": {},
   "outputs": [
    {
     "name": "stdout",
     "output_type": "stream",
     "text": [
      "[1, 3, 4, 7, 9, 12, 15, 16, 19, 25, 28, 31, 33, 36, 39, 48, 51, 57, 60, 63, 64, 67, 73, 76, 79, 97, 100, 103, 112, 115, 121, 124, 127, 129, 132, 135, 144, 147, 153, 156, 159, 192, 195, 201, 204, 207, 225, 228, 231, 240, 243, 249, 252, 255, 256, 259, 265, 268, 271, 289, 292, 295, 304, 307, 313, 316, 319, 385, 388, 391, 400, 403, 409, 412, 415, 448, 451, 457, 460, 463, 481, 484, 487, 496, 499, 505, 508, 513, 516, 519, 528, 531, 537, 540, 576, 579, 585, 588, 609, 612, 615, 624, 627, 633, 636, 768, 771, 777, 780, 783, 801, 804, 807, 816, 819, 825, 828, 897, 900, 903, 912, 915, 921, 924, 960, 963, 969, 972, 993, 996, 1008, 1024, 1027, 1033, 1036, 1057, 1060, 1072, 1153, 1156, 1168, 1216, 1228, 1249, 1252, 1264, 1537, 1540, 1543, 1552, 1555, 1561, 1564, 1600, 1603, 1609, 1612, 1633, 1636, 1648, 1792, 1795, 1801, 1804, 1825, 1828, 1840, 1921, 1924, 1936, 1984, 2049, 2052, 2064, 2112, 2304, 2496, 3072, 3075, 3081, 3084, 3105, 3108, 3120, 3201, 3204, 3216, 3264, 3585, 3588, 3600, 3648, 3840, 4096, 6145, 6148, 6160, 6208, 6400, 7168, 12288]\n"
     ]
    }
   ],
   "source": [
    "from collections import deque\n",
    "\n",
    "st = {1}\n",
    "queue = deque()\n",
    "queue.append(1)\n",
    "for _ in range(100):\n",
    "    value = queue.popleft()\n",
    "    \n",
    "    v = value * 2 + 1\n",
    "    if v not in st:\n",
    "        st.add(v)\n",
    "        queue.append(v)\n",
    "        \n",
    "    v = value * 4\n",
    "    if v not in st:\n",
    "        st.add(v)\n",
    "        queue.append(v)\n",
    "        \n",
    "print(sorted(st))"
   ]
  },
  {
   "cell_type": "code",
   "execution_count": null,
   "metadata": {},
   "outputs": [],
   "source": [
    "1 4 16 64\n",
    "2 8 48 \n",
    "3 12\n",
    "4 16\n",
    "5 20"
   ]
  },
  {
   "cell_type": "code",
   "execution_count": 11,
   "metadata": {},
   "outputs": [
    {
     "name": "stdout",
     "output_type": "stream",
     "text": [
      "4 7\n",
      "20 39 5 200\n",
      "200 7.643856189774724 0 0\n",
      "5 2.321928094887362 5 3\n",
      "39 5.285402218862249 2 1\n",
      "11\n"
     ]
    }
   ],
   "source": [
    "from math import log2\n",
    "\n",
    "n, p = map(int, input().split())\n",
    "li = sorted(map(int, input().split()))\n",
    "\n",
    "st = set(li)\n",
    "cri = 1e9 + 1\n",
    "for v in li:\n",
    "    if v not in st:\n",
    "        continue\n",
    "        \n",
    "    w = v\n",
    "    while w < cri:\n",
    "        w = 2 * w + 1\n",
    "        if w in st:\n",
    "            st.discard(w)\n",
    "            \n",
    "    w = v\n",
    "    while w < cri:\n",
    "        w = 4 * w\n",
    "        if w in st:\n",
    "            st.discard(w)\n",
    "            \n",
    "total = 0\n",
    "for v in st:\n",
    "    total += max(0, p - int(log2(v)))  \n",
    "    \n",
    "st.add(min(st) * 2 + 1)\n",
    "\n",
    "remaineder = [-1] * 4\n",
    "for v in st:\n",
    "    remaineder[v % 4] = min(remaineder[v % 4], v)\n",
    "    \n",
    "for v in remainder:\n",
    "    if v != -1:\n",
    "        total += max(0, (p + 1 - int(log2(v))) // 2)"
   ]
  },
  {
   "cell_type": "code",
   "execution_count": null,
   "metadata": {},
   "outputs": [],
   "source": [
    "p - int(log2(v))"
   ]
  },
  {
   "cell_type": "code",
   "execution_count": 21,
   "metadata": {},
   "outputs": [
    {
     "name": "stdout",
     "output_type": "stream",
     "text": [
      "3\n",
      "3\n",
      "3\n"
     ]
    }
   ],
   "source": [
    "y = 3\n",
    "x = 2 * y + 1\n",
    "\n",
    "print(x % 4)\n",
    "\n",
    "xx = 2 * x + 1\n",
    "print(xx % 4)\n",
    "\n",
    "xxx = 2 * xx + 1\n",
    "print(xxx % 4)"
   ]
  },
  {
   "cell_type": "code",
   "execution_count": null,
   "metadata": {},
   "outputs": [],
   "source": [
    "for v in range(1, 5):\n",
    "    for p in range(1, 5):\n",
    "        print(v, p, max(0, p - int(log2(v))))"
   ]
  }
 ],
 "metadata": {
  "kernelspec": {
   "display_name": "Python 3",
   "language": "python",
   "name": "python3"
  },
  "language_info": {
   "codemirror_mode": {
    "name": "ipython",
    "version": 3
   },
   "file_extension": ".py",
   "mimetype": "text/x-python",
   "name": "python",
   "nbconvert_exporter": "python",
   "pygments_lexer": "ipython3",
   "version": "3.7.4"
  }
 },
 "nbformat": 4,
 "nbformat_minor": 4
}
