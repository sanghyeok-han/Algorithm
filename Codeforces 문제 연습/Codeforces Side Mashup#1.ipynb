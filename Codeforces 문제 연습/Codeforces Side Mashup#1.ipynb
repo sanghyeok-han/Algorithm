{
 "cells": [
  {
   "cell_type": "markdown",
   "metadata": {},
   "source": [
    "https://codeforces.com/gym/383637/problem/A"
   ]
  },
  {
   "cell_type": "code",
   "execution_count": 30,
   "metadata": {},
   "outputs": [
    {
     "name": "stdout",
     "output_type": "stream",
     "text": [
      "10\n",
      "5 1 6 2 8 3 4 10 9 7\n",
      "28\n"
     ]
    }
   ],
   "source": [
    "import sys\n",
    "input = lambda: sys.stdin.readline().rstrip()\n",
    "\n",
    "for _ in range(int(input())):\n",
    "    n = int(input())\n",
    "    li = list(map(int, input().split()))\n",
    "\n",
    "    sum_sms = [[0] * (n + 1) for _ in range(n)] # sum smallers\n",
    "    for ti in range(n):\n",
    "        cumul = 0\n",
    "        for i in range(ti + 1):\n",
    "            if li[i] < li[ti]:\n",
    "                cumul += 1\n",
    "            sum_sms[ti][i + 1] = cumul\n",
    "\n",
    "    r = 0\n",
    "    for b in range(1, n - 2):\n",
    "        cumul = 0\n",
    "        for d in range(b + 2, n):\n",
    "            cur_c = d - 1\n",
    "\n",
    "            cumul += sum_sms[cur_c][b]\n",
    "\n",
    "            if li[b] > li[d]:\n",
    "                r += cumul\n",
    "\n",
    "    print(r)"
   ]
  },
  {
   "cell_type": "markdown",
   "metadata": {},
   "source": [
    "https://codeforces.com/gym/383637/problem/B"
   ]
  },
  {
   "cell_type": "code",
   "execution_count": null,
   "metadata": {},
   "outputs": [],
   "source": [
    "from collections import defaultdict as dd\n",
    "import sys\n",
    "input = lambda: sys.stdin.readline().rstrip()\n",
    "\n",
    "inf = int(1e10)\n",
    "\n",
    "for _ in range(int(input())):\n",
    "    n = int(input())\n",
    "\n",
    "    mins_s = dd(lambda: inf)\n",
    "    mins_e = dd(lambda: inf)\n",
    "    mins_all = dd(lambda: inf)\n",
    "\n",
    "    min_l = inf\n",
    "    max_r = -inf\n",
    "\n",
    "    for _ in range(n):\n",
    "        l, r, c = map(int, input().split())\n",
    "\n",
    "        min_l = min(min_l, l)\n",
    "        max_r = max(max_r, r)\n",
    "\n",
    "        mins_s[l] = min(mins_s[l], c)\n",
    "        mins_e[r] = min(mins_e[r], c)\n",
    "        mins_all[(l, r)] = min(mins_all[(l, r)], c)\n",
    "\n",
    "        t1 = mins_s[min_l] + mins_e[max_r]\n",
    "        t2 = mins_all[(min_l, max_r)]\n",
    "\n",
    "        result = min(t1, t2)\n",
    "\n",
    "        print(result)"
   ]
  },
  {
   "cell_type": "markdown",
   "metadata": {},
   "source": [
    "https://codeforces.com/gym/383637/problem/C"
   ]
  },
  {
   "cell_type": "code",
   "execution_count": null,
   "metadata": {},
   "outputs": [],
   "source": [
    "....\n",
    "....\n",
    "\n",
    ". ..\n",
    ".. .\n",
    ".  .\n",
    "\n"
   ]
  },
  {
   "cell_type": "code",
   "execution_count": 32,
   "metadata": {},
   "outputs": [
    {
     "name": "stdout",
     "output_type": "stream",
     "text": [
      "4 10 0\n",
      "0 3 4 8\n",
      "5 8 3 6\n",
      "47\n"
     ]
    }
   ],
   "source": [
    "inf = float('inf')\n",
    "\n",
    "n, l, k = map(int, input().split())\n",
    "coords = list(map(int, input().split())) + [l]\n",
    "limits = list(map(int, input().split())) + [0]\n",
    "\n",
    "# dp[어디까지][k를 몇 개까지 쓴] = 가능한 최솟값\n",
    "\n",
    "dp = [[inf] * (k + 1) for _ in range(n + 1)]\n",
    "\n",
    "dp[0][0] = 0\n",
    "dp[1][0] = coords[1] * limits[0]\n",
    "\n",
    "for i in range(2, n + 1):\n",
    "    for j in range(i):\n",
    "        added_used = i - j - 1\n",
    "        for used in range(k + 1):\n",
    "            f_used = used - added_used # formerly used\n",
    "            if f_used < 0:\n",
    "                continue\n",
    "            dp[i][used] = min(dp[i][used], dp[j][f_used] + limits[j] * (coords[i] - coords[j]))       \n",
    "\n",
    "r = min(dp[n])\n",
    "\n",
    "print(r)"
   ]
  },
  {
   "cell_type": "markdown",
   "metadata": {},
   "source": [
    "https://codeforces.com/gym/383637/problem/F"
   ]
  },
  {
   "cell_type": "code",
   "execution_count": null,
   "metadata": {},
   "outputs": [],
   "source": [
    "import sys\n",
    "input = lambda: sys.stdin.readline().rstrip()\n",
    "\n",
    "inf = float('inf')\n",
    "\n",
    "for _ in range(int(input())):\n",
    "    n, k = map(int, input().split())\n",
    "    li = list(map(int, input().split()))\n",
    "\n",
    "    ct = [0] * (n + 1)\n",
    "    for v in li:\n",
    "        ct[v] += 1\n",
    "\n",
    "    s = 0\n",
    "    e = 0\n",
    "    cid = ct[e] # cur included\n",
    "\n",
    "    min_intv = float('inf') # min interval\n",
    "    mv_s = 0\n",
    "    mv_e = 0\n",
    "    while True:\n",
    "        cnid = n - cid # cur not included\n",
    "        diff = cid - cnid\n",
    "\n",
    "        if diff >= k:\n",
    "            intv = e - s + 1\n",
    "            if intv < min_intv:\n",
    "                min_intv = intv\n",
    "                mv_s = s\n",
    "                mv_e = e\n",
    "            cid -= ct[s]\n",
    "            s += 1\n",
    "            if s > e:\n",
    "                break\n",
    "        else:\n",
    "            e += 1\n",
    "            if e > n:\n",
    "                break\n",
    "            cid += ct[e]\n",
    "\n",
    "    print(mv_s, mv_e)\n",
    "\n",
    "    pc = 0 # partition count\n",
    "    pts = [] # parts\n",
    "    cid = 0\n",
    "    cnid = 0\n",
    "    temp = [1]\n",
    "    for i in range(n):\n",
    "        if mv_s <= li[i] <= mv_e:\n",
    "            cid += 1\n",
    "        else:\n",
    "            cnid += 1\n",
    "\n",
    "        if cid > cnid:\n",
    "            pc += 1\n",
    "            if pc == k:\n",
    "                temp.append(n)\n",
    "                print(*temp)\n",
    "                break\n",
    "            else:\n",
    "                temp.append(i + 1)\n",
    "                print(*temp)\n",
    "                temp = [i + 2]\n",
    "                cid = cnid = 0"
   ]
  },
  {
   "cell_type": "markdown",
   "metadata": {},
   "source": [
    "https://codeforces.com/gym/383637/problem/D"
   ]
  },
  {
   "cell_type": "code",
   "execution_count": null,
   "metadata": {},
   "outputs": [],
   "source": [
    "import sys\n",
    "input = lambda: sys.stdin.readline().rstrip()\n",
    "\n",
    "inf = float('inf')\n",
    "\n",
    "def check(mid):\n",
    "    nli = li.copy()\n",
    "    \n",
    "    for i in range(n - 1, 1, -1):\n",
    "        remained = nli[i] - mid\n",
    "        if remained < 0:\n",
    "            return False\n",
    "        \n",
    "        remained_3 = remained // 3\n",
    "        remained_3 = min(remained_3, li[i] // 3)\n",
    "        \n",
    "        nli[i - 1] += remained_3\n",
    "        nli[i - 2] += remained_3 * 2\n",
    "        \n",
    "        nli[i] -= remained_3 * 3\n",
    "            \n",
    "    if nli[1] < mid or nli[0] < mid:\n",
    "        return False\n",
    "    \n",
    "    return True\n",
    "\n",
    "for _ in range(int(input())):\n",
    "    n = int(input())\n",
    "    li = list(map(int, input().split()))\n",
    "\n",
    "    start = 0\n",
    "    end = max(li)\n",
    "    result = -1\n",
    "    while start <= end:\n",
    "        mid = (start + end) // 2\n",
    "\n",
    "        if check(mid):\n",
    "            result = mid\n",
    "            start = mid + 1\n",
    "        else:\n",
    "            end = mid - 1\n",
    "\n",
    "    print(result)"
   ]
  },
  {
   "cell_type": "markdown",
   "metadata": {},
   "source": [
    "https://codeforces.com/gym/383637/problem/E"
   ]
  },
  {
   "cell_type": "code",
   "execution_count": 22,
   "metadata": {},
   "outputs": [
    {
     "data": {
      "text/plain": [
       "False"
      ]
     },
     "execution_count": 22,
     "metadata": {},
     "output_type": "execute_result"
    }
   ],
   "source": [
    "li = [10, 13, 16, 20]\n",
    "n = len(li)\n",
    "\n",
    "def check():\n",
    "    for i in range(n):\n",
    "        for j in range(i + 1, n):\n",
    "            t1 = sum(li[i:j + 1]) * 2\n",
    "            t2 = (li[i] + li[j]) * (j - i + 1)\n",
    "            \n",
    "            if t1 != t2:\n",
    "                return False\n",
    "            \n",
    "    return True\n",
    "\n",
    "check()"
   ]
  },
  {
   "cell_type": "code",
   "execution_count": 35,
   "metadata": {},
   "outputs": [
    {
     "name": "stdout",
     "output_type": "stream",
     "text": [
      "6\n",
      "3 -2 4 -1 -4 0\n",
      "4\n"
     ]
    }
   ],
   "source": [
    "# d가 분수가 될 수 있다는 것을 간과함\n",
    "n = int(input())\n",
    "li = list(map(int, input().split()))\n",
    "\n",
    "if n <= 2:\n",
    "    print(0)\n",
    "else:\n",
    "    min_needed = n - 1\n",
    "    for i in range(n):\n",
    "        for j in range(i + 1, n):\n",
    "            diff = j - i\n",
    "            if (li[j] - li[i]) % diff != 0:\n",
    "                continue\n",
    "            d = (li[j] - li[i]) // diff\n",
    "\n",
    "            needed = 0\n",
    "            for k in range(n):\n",
    "                w = k - i\n",
    "                target = li[i] + d * w\n",
    "                if li[k] != target:\n",
    "                    needed += 1\n",
    "                    \n",
    "                    \n",
    "            min_needed = min(min_needed, needed)\n",
    "            \n",
    "    print(min_needed)"
   ]
  },
  {
   "cell_type": "code",
   "execution_count": null,
   "metadata": {},
   "outputs": [],
   "source": [
    "li[i] + (li[j] - li[i]) / diff * w == li[k]   ?"
   ]
  },
  {
   "cell_type": "code",
   "execution_count": null,
   "metadata": {},
   "outputs": [],
   "source": [
    "(li[j] - li[i]) / diff * w == li[k] - li[i]\n",
    "\n",
    "(li[j] - li[i]) * w == (li[k] - li[i]) * diff"
   ]
  },
  {
   "cell_type": "code",
   "execution_count": 41,
   "metadata": {},
   "outputs": [
    {
     "name": "stdout",
     "output_type": "stream",
     "text": [
      "6\n",
      "3 -2 4 -1 -4 0\n",
      "3\n"
     ]
    }
   ],
   "source": [
    "# 실수 오차 가능성이 있으므로 이항 후 확인\n",
    "import sys\n",
    "# input = lambda: sys.stdin.readline().rstrip()\n",
    "\n",
    "for _ in range(int(input())):\n",
    "    n = int(input())\n",
    "    li = list(map(int, input().split()))\n",
    "\n",
    "    if n <= 2:\n",
    "        print(0)\n",
    "    else:\n",
    "        min_needed = n - 1\n",
    "        for i in range(n):\n",
    "            for j in range(i + 1, n):\n",
    "                diff = j - i\n",
    "\n",
    "                needed = 0\n",
    "                for k in range(n):\n",
    "                    w = k - i\n",
    "\n",
    "                    if (li[j] - li[i]) * w != (li[k] - li[i]) * diff:\n",
    "                        needed += 1\n",
    "\n",
    "                min_needed = min(min_needed, needed)\n",
    "\n",
    "        print(min_needed)"
   ]
  },
  {
   "cell_type": "markdown",
   "metadata": {},
   "source": [
    "https://codeforces.com/gym/383637/problem/G"
   ]
  },
  {
   "cell_type": "code",
   "execution_count": null,
   "metadata": {},
   "outputs": [],
   "source": [
    "가장 작은 수만 그대로 쓰거나 줄인 후에 가장 큰 수부터 바꿔나가면 됨"
   ]
  },
  {
   "cell_type": "code",
   "execution_count": 42,
   "metadata": {},
   "outputs": [
    {
     "name": "stdout",
     "output_type": "stream",
     "text": [
      "1 10\n",
      "20\n"
     ]
    }
   ],
   "source": [
    "n, k = map(int, input().split())\n",
    "li = sorted(map(int, input().split()), reverse=True)\n",
    "\n",
    "cur_sum = sum(li)\n",
    "to_reduce = cur_sum - k\n",
    "\n",
    "if to_reduce <= 0:\n",
    "    print(0)\n",
    "elif n == 1:\n",
    "    print(to_reduce)\n",
    "else:\n",
    "    min_v = li.pop()\n",
    "    \n",
    "    start = 0\n",
    "    end = to_reduce\n",
    "    "
   ]
  },
  {
   "cell_type": "code",
   "execution_count": 48,
   "metadata": {},
   "outputs": [
    {
     "data": {
      "text/plain": [
       "(39, 1)"
      ]
     },
     "execution_count": 48,
     "metadata": {},
     "output_type": "execute_result"
    }
   ],
   "source": [
    "# 브루트포스 코드\n",
    "n, k = 10, 1\n",
    "li = [1, 2, 3, 1, 2, 6, 1, 6, 8, 10]\n",
    "li.sort(reverse=True)\n",
    "\n",
    "cur_sum = sum(li)\n",
    "to_reduce = cur_sum - k\n",
    "min_v = li.pop()\n",
    "\n",
    "to_reduce, min_v"
   ]
  },
  {
   "cell_type": "code",
   "execution_count": null,
   "metadata": {},
   "outputs": [],
   "source": [
    "for minused in range(0, 40):\n",
    "    used = minused\n",
    "    reduced = minused\n",
    "    cur_min_v = min_v - minused\n",
    "    \n",
    "    if reduced >= to_reduce:\n",
    "        print(minused, used)\n",
    "        continue\n",
    "    else:\n",
    "        for v in li:\n",
    "            if v == cur_min_v:\n",
    "                continue\n",
    "            \n",
    "            used += 1\n",
    "            reduced += v - cur_min_v\n",
    "            if reduced >= to_reduce:\n",
    "                print(minused, used)\n",
    "                break\n",
    "        else:\n",
    "            print(reduced)\n",
    "            print(minused, to_reduce, reduced, 'inf')"
   ]
  },
  {
   "cell_type": "code",
   "execution_count": null,
   "metadata": {},
   "outputs": [],
   "source": [
    "삼분탐색 실행"
   ]
  },
  {
   "cell_type": "code",
   "execution_count": 61,
   "metadata": {},
   "outputs": [
    {
     "name": "stdout",
     "output_type": "stream",
     "text": [
      "1\n",
      "2 100\n",
      "300 400\n",
      "251\n"
     ]
    }
   ],
   "source": [
    "import sys\n",
    "# input = lambda: sys.stdin.readline().rstrip()\n",
    "\n",
    "inf = float('inf')\n",
    "\n",
    "def check(minused):\n",
    "    reduced = minused\n",
    "    cur_min_v = min_v - minused\n",
    "    \n",
    "    for v in li:\n",
    "        reduced += v - cur_min_v\n",
    "        \n",
    "        if reduced >= to_reduce:\n",
    "            return True\n",
    "        \n",
    "    return False\n",
    "\n",
    "def get_value(minused):\n",
    "    used = minused\n",
    "    reduced = minused\n",
    "    cur_min_v = min_v - minused\n",
    "    \n",
    "    if reduced >= to_reduce:\n",
    "        return used\n",
    "    else:\n",
    "        for v in li:\n",
    "            if v == cur_min_v:\n",
    "                continue\n",
    "            \n",
    "            used += 1\n",
    "            reduced += v - cur_min_v\n",
    "            if reduced >= to_reduce:\n",
    "                return used\n",
    "        else:\n",
    "            return inf  \n",
    "    \n",
    "for _ in range(int(input())):\n",
    "    n, k = map(int, input().split())\n",
    "    li = sorted(map(int, input().split()), reverse=True)\n",
    "\n",
    "    cur_sum = sum(li)\n",
    "    to_reduce = cur_sum - k\n",
    "\n",
    "    if to_reduce <= 0:\n",
    "        print(0)\n",
    "    elif n == 1:\n",
    "        print(to_reduce)\n",
    "    else:\n",
    "        min_v = li.pop()\n",
    "\n",
    "        start = 0\n",
    "        end = to_reduce\n",
    "        ter_start = to_reduce\n",
    "        while start <= end:\n",
    "            mid = (start + end) // 2\n",
    "\n",
    "            if check(mid):\n",
    "                ter_start = mid\n",
    "                end = mid - 1\n",
    "            else:\n",
    "                start = mid + 1\n",
    "        \n",
    "        start = ter_start\n",
    "        end = to_reduce\n",
    "        result = inf\n",
    "        while start <= end:\n",
    "            mid1 = (start * 2 + end) // 3\n",
    "            mid2 = (start + end * 2) // 3\n",
    "\n",
    "            t1 = get_value(mid1)\n",
    "            t2 = get_value(mid2)\n",
    "\n",
    "            result = min(result, t1, t2)\n",
    "\n",
    "            if end - start <= 300:\n",
    "                for mid in range(start, end + 1):\n",
    "                    result = min(result, get_value(mid))\n",
    "                break\n",
    "\n",
    "            if t1 >= t2:\n",
    "                start = mid1\n",
    "            else:\n",
    "                end = mid2\n",
    "\n",
    "        print(result)"
   ]
  },
  {
   "cell_type": "code",
   "execution_count": null,
   "metadata": {},
   "outputs": [],
   "source": [
    "import sys\n",
    "input = lambda: sys.stdin.readline().rstrip()\n",
    "\n",
    "inf = float('inf')\n",
    "\n",
    "for _ in range(int(input())):\n",
    "    n, k = map(int, input().split())\n",
    "    li = sorted(map(int, input().split()), reverse=True)\n",
    "\n",
    "    cur_sum = sum(li)\n",
    "    to_reduce = cur_sum - k\n",
    "\n",
    "    if to_reduce <= 0:\n",
    "        print(0)\n",
    "    elif n == 1:\n",
    "        print(to_reduce)\n",
    "    else:\n",
    "        min_v = li.pop()\n",
    "        \n",
    "        min_used = to_reduce\n",
    "        cumul = 0\n",
    "        for i in range(n - 1):\n",
    "            used = i + 1\n",
    "            cumul += li[i]\n",
    "            \n",
    "            cur_to_reduce = to_reduce - (cumul - min_v * (i + 1))\n",
    "            \n",
    "            if cur_to_reduce <= 0:\n",
    "                min_used = min(min_used, used)\n",
    "            else:\n",
    "                w = i + 2\n",
    "                used += cur_to_reduce // w\n",
    "                if cur_to_reduce % w != 0:\n",
    "                    used += 1\n",
    "                \n",
    "                min_used = min(min_used, used)\n",
    "                \n",
    "        print(min_used)"
   ]
  },
  {
   "cell_type": "markdown",
   "metadata": {},
   "source": [
    "https://codeforces.com/gym/383637/problem/H"
   ]
  },
  {
   "cell_type": "code",
   "execution_count": 7,
   "metadata": {},
   "outputs": [
    {
     "name": "stdout",
     "output_type": "stream",
     "text": [
      "2 1\n"
     ]
    }
   ],
   "source": [
    "n = 4\n",
    "a = [2, 3, 3, 3]\n",
    "\n",
    "t1 = a[0]\n",
    "for i in range(1, n):\n",
    "    t1 &= a[i]\n",
    "    \n",
    "t2 = a[0]\n",
    "for i in range(1, n):\n",
    "    t2 ^= a[i]\n",
    "    \n",
    "print(t1, t2)"
   ]
  },
  {
   "cell_type": "code",
   "execution_count": 29,
   "metadata": {},
   "outputs": [
    {
     "name": "stdout",
     "output_type": "stream",
     "text": [
      "3\n",
      "3 1\n",
      "5\n",
      "2 1\n",
      "2\n",
      "4 0\n",
      "1\n"
     ]
    }
   ],
   "source": [
    "mod = 1000000007\n",
    "\n",
    "max_num = int(2e5) + 1\n",
    "\n",
    "factos = [0] * (max_num + 1)\n",
    "factos[0] = 1\n",
    "invs = [0] * (max_num + 1)\n",
    "cur = 1\n",
    "for i in range(1, max_num + 1):\n",
    "    cur *= i\n",
    "    cur %= mod\n",
    "    factos[i] = cur\n",
    "\n",
    "invs[max_num] = pow(factos[max_num], mod - 2, mod)\n",
    "for i in range(max_num - 1, -1, -1):\n",
    "    invs[i] = (i + 1) * invs[i + 1] % mod\n",
    "    \n",
    "for _ in range(int(input())):\n",
    "    n, k = map(int, input().split())\n",
    "\n",
    "    if k == 0:\n",
    "        print(1)\n",
    "    else:\n",
    "        if n % 2 == 0:\n",
    "            contested = 0\n",
    "            for i in range(0, n, 2):\n",
    "                contested += factos[n] * invs[i] % mod * invs[n - i] % mod\n",
    "                contested %= mod\n",
    "\n",
    "            dp = [0] * k\n",
    "            dp[0] = contested + 1\n",
    "\n",
    "            base = pow(2, n, mod)\n",
    "            cur = base\n",
    "            for i in range(1, k):\n",
    "                v = contested * dp[i - 1] + cur\n",
    "                cur *= base\n",
    "                cur %= mod\n",
    "                \n",
    "                v %= mod\n",
    "                dp[i] = v\n",
    "        else:\n",
    "            contested = 0\n",
    "            for i in range(0, n, 2):\n",
    "                contested += factos[n] * invs[i] % mod * invs[n - i] % mod\n",
    "                contested %= mod\n",
    "            contested += 1\n",
    "            contested %= mod\n",
    "\n",
    "            dp = [0] * k\n",
    "            dp[0] = contested\n",
    "\n",
    "            for i in range(1, k):\n",
    "                v = contested * dp[i - 1]\n",
    "                v %= mod\n",
    "                dp[i] = v\n",
    "\n",
    "        print(dp[-1])"
   ]
  },
  {
   "cell_type": "markdown",
   "metadata": {},
   "source": [
    "https://codeforces.com/gym/383637/problem/I"
   ]
  },
  {
   "cell_type": "code",
   "execution_count": 40,
   "metadata": {},
   "outputs": [
    {
     "data": {
      "text/plain": [
       "[1, 5]"
      ]
     },
     "execution_count": 40,
     "metadata": {},
     "output_type": "execute_result"
    }
   ],
   "source": [
    "def get_divisors(num):\n",
    "    divisors = set()\n",
    "    for mod in range(1, int(num ** 0.5) + 1):\n",
    "        if num % mod == 0:\n",
    "            divisors.add(mod)\n",
    "            divisors.add(num // mod)\n",
    "            \n",
    "    return sorted(divisors)\n",
    "\n",
    "get_divisors(5)"
   ]
  },
  {
   "cell_type": "code",
   "execution_count": null,
   "metadata": {},
   "outputs": [],
   "source": [
    "1 2 3 4 5 6 7 8 9 10\n",
    "1 1 1 1 1 1 1 1  1 1\n",
    "  2   2   2   2    2 \n",
    "          3          \n",
    "                     \n",
    "        "
   ]
  },
  {
   "cell_type": "code",
   "execution_count": null,
   "metadata": {},
   "outputs": [],
   "source": [
    "from math import gcd\n",
    "import sys\n",
    "# input = lambda: sys.stdin.readline().rstrip()\n",
    "\n",
    "mod = int(1e9) + 7\n",
    "lcm = lambda a, b: a * b // gcd(a, b)\n",
    "\n",
    "cumul_lcms = [0]\n",
    "cumul = 1\n",
    "for i in range(1, 42):\n",
    "    cumul = lcm(cumul, i)\n",
    "    cumul_lcms.append(cumul)\n",
    "\n",
    "for _ in range(int(input())):\n",
    "    n = int(input())\n",
    "\n",
    "    cur = 1\n",
    "    i = 1\n",
    "    while True:\n",
    "        cur = cumul_lcms[i]\n",
    "        if cur > n:\n",
    "            i -= 1\n",
    "            break\n",
    "        i += 1\n",
    "\n",
    "    max_num = i\n",
    "    cumul = 0\n",
    "    total = 0\n",
    "    for i in range(max_num, 0, -1):\n",
    "        cur = n // cumul_lcms[i]\n",
    "        count = cur - cumul\n",
    "\n",
    "        total += count * (i + 1)\n",
    "        total %= mod\n",
    "        cumul += count\n",
    "        cumul %= mod\n",
    "\n",
    "    print(total)"
   ]
  }
 ],
 "metadata": {
  "kernelspec": {
   "display_name": "Python 3",
   "language": "python",
   "name": "python3"
  },
  "language_info": {
   "codemirror_mode": {
    "name": "ipython",
    "version": 3
   },
   "file_extension": ".py",
   "mimetype": "text/x-python",
   "name": "python",
   "nbconvert_exporter": "python",
   "pygments_lexer": "ipython3",
   "version": "3.7.4"
  }
 },
 "nbformat": 4,
 "nbformat_minor": 4
}
