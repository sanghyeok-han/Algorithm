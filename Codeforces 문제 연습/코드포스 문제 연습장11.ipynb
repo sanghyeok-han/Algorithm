{
 "cells": [
  {
   "cell_type": "markdown",
   "metadata": {},
   "source": [
    "https://codeforces.com/problemset/problem/1551/C C. Interesting Story"
   ]
  },
  {
   "cell_type": "markdown",
   "metadata": {},
   "source": [
    "3.55 4.05"
   ]
  },
  {
   "cell_type": "code",
   "execution_count": 7,
   "metadata": {},
   "outputs": [
    {
     "name": "stdout",
     "output_type": "stream",
     "text": [
      "3\n"
     ]
    }
   ],
   "source": [
    "import sys\n",
    "input = lambda: sys.stdin.readline().rstrip()\n",
    "\n",
    "for _ in range(int(input())):\n",
    "    n = int(input())\n",
    "    li = [input() for _ in range(n)]\n",
    "\n",
    "    cts = [[0] * 5 for _ in range(n)]\n",
    "    for i in range(n):\n",
    "        for j in range(len(li[i])):\n",
    "            cts[i][ord(li[i][j]) - 97] += 1\n",
    "\n",
    "    max_r = 0\n",
    "    for tj in range(5):\n",
    "        ncts = []\n",
    "        for i in range(n):\n",
    "            c_target = 0\n",
    "            c_others = 0\n",
    "            for j in range(5):\n",
    "                if j == tj:\n",
    "                    c_target = cts[i][j]\n",
    "                else:\n",
    "                    c_others += cts[i][j]\n",
    "            ncts.append((c_target, c_others))\n",
    "\n",
    "        ncts.sort(key=lambda x: -(x[0] - x[1]))\n",
    "\n",
    "        c = 0\n",
    "        t_mores = 0\n",
    "        for ct, co in ncts:\n",
    "            diff = ct - co\n",
    "            if t_mores + diff <= 0:\n",
    "                break\n",
    "            c += 1\n",
    "            t_mores += diff\n",
    "\n",
    "        max_r = max(max_r, c)\n",
    "\n",
    "    print(max_r)"
   ]
  },
  {
   "cell_type": "markdown",
   "metadata": {},
   "source": [
    "https://codeforces.com/problemset/problem/1545/A A. AquaMoon and Strange Sort"
   ]
  },
  {
   "cell_type": "code",
   "execution_count": 6,
   "metadata": {},
   "outputs": [
    {
     "name": "stdout",
     "output_type": "stream",
     "text": [
      "5\n",
      "1 2 3 5 4\n",
      "NO\n"
     ]
    }
   ],
   "source": [
    "from collections import defaultdict as dd\n",
    "import sys\n",
    "input = lambda: sys.stdin.readline().rstrip()\n",
    "\n",
    "for _ in range(int(input())):\n",
    "    n = int(input())\n",
    "    li = list(map(int, input().split()))\n",
    "\n",
    "    ct_evens = dd(int)\n",
    "    for i in range(n):\n",
    "        if i % 2 == 0:\n",
    "            ct_evens[str(li[i])] += 1\n",
    "\n",
    "    li.sort()\n",
    "    sct_evens = dd(int)\n",
    "    for i in range(n):\n",
    "        if i % 2 == 0:\n",
    "            sct_evens[str(li[i])] += 1\n",
    "\n",
    "    ip = True\n",
    "    for key in sct_evens:\n",
    "        if ct_evens[key] != sct_evens[key]:\n",
    "            ip = False\n",
    "\n",
    "    if ip:\n",
    "        print('YES')\n",
    "    else:\n",
    "        print('NO')"
   ]
  },
  {
   "cell_type": "markdown",
   "metadata": {},
   "source": [
    "https://codeforces.com/problemset/problem/1499/C C. Minimum Grid Path"
   ]
  },
  {
   "cell_type": "code",
   "execution_count": 9,
   "metadata": {},
   "outputs": [
    {
     "name": "stdout",
     "output_type": "stream",
     "text": [
      "5\n",
      "4 3 2 1 4\n",
      "19\n"
     ]
    }
   ],
   "source": [
    "from heapq import heappush, heappop\n",
    "import sys\n",
    "input = lambda: sys.stdin.readline().rstrip()\n",
    "\n",
    "inf = float('inf')\n",
    "\n",
    "for _ in range(int(input())):\n",
    "    n = int(input())\n",
    "    cs = list(map(int, input().split()))\n",
    "\n",
    "    heap1 = [cs[0]]\n",
    "    heap2 = [cs[1]]\n",
    "    total1 = cs[0]\n",
    "    total2 = cs[1]\n",
    "\n",
    "    cost1 = cs[0] * n\n",
    "    cost2 = cs[1] * n\n",
    "    min_r = cost1 + cost2\n",
    "    for i in range(2, n):\n",
    "        if i % 2 == 0:\n",
    "            total1 += cs[i]\n",
    "            heappush(heap1, cs[i])     \n",
    "            cost1 = (total1 - heap1[0]) + heap1[0] * (n - (len(heap1) - 1))\n",
    "        else:\n",
    "            total2 += cs[i]\n",
    "            heappush(heap2, cs[i])      \n",
    "            cost2 = (total2 - heap2[0]) + heap2[0] * (n - (len(heap2) - 1))\n",
    "\n",
    "        min_r = min(min_r, cost1 + cost2)\n",
    "\n",
    "    print(min_r)"
   ]
  },
  {
   "cell_type": "markdown",
   "metadata": {},
   "source": [
    "https://codeforces.com/problemset/problem/1492/C C. Maximum width"
   ]
  },
  {
   "cell_type": "code",
   "execution_count": 16,
   "metadata": {},
   "outputs": [
    {
     "name": "stdout",
     "output_type": "stream",
     "text": [
      "2 2\n",
      "ab\n",
      "ab\n",
      "1\n"
     ]
    }
   ],
   "source": [
    "from collections import deque\n",
    "import sys\n",
    "input = lambda: sys.stdin.readline().rstrip()\n",
    "\n",
    "n, m = map(int, input().split())\n",
    "\n",
    "s = input()\n",
    "t = input()\n",
    "\n",
    "left_most = []\n",
    "si = 0\n",
    "for ti in range(m):\n",
    "    while s[si] != t[ti]:\n",
    "        si += 1\n",
    "    left_most.append(si)\n",
    "    si += 1\n",
    "\n",
    "right_most = deque()\n",
    "si = n - 1\n",
    "for ti in range(m - 1, -1, -1):\n",
    "    while s[si] != t[ti]:\n",
    "        si -= 1\n",
    "    right_most.appendleft(si)\n",
    "    si -= 1\n",
    "    \n",
    "max_r = 0\n",
    "for i in range(m - 1):\n",
    "    max_r = max(max_r, right_most[i + 1] - left_most[i])\n",
    "    \n",
    "print(max_r)"
   ]
  },
  {
   "cell_type": "code",
   "execution_count": null,
   "metadata": {},
   "outputs": [],
   "source": [
    "0 1 4\n",
    "0 3 4"
   ]
  },
  {
   "cell_type": "markdown",
   "metadata": {},
   "source": [
    "https://codeforces.com/problemset/problem/1490/F F. Equalize the Array"
   ]
  },
  {
   "cell_type": "code",
   "execution_count": 24,
   "metadata": {},
   "outputs": [
    {
     "name": "stdout",
     "output_type": "stream",
     "text": [
      "2\n",
      "1 2\n",
      "0\n"
     ]
    }
   ],
   "source": [
    "from collections import defaultdict as dd\n",
    "import sys\n",
    "input = lambda: sys.stdin.readline().rstrip()\n",
    "\n",
    "inf = float('inf')\n",
    "\n",
    "for _ in range(int(input())):\n",
    "    n = int(input())\n",
    "    li = list(map(int, input().split()))\n",
    "\n",
    "    d = dd(int)\n",
    "    for v in li:\n",
    "        d[str(v)] += 1\n",
    "\n",
    "    cts = sorted(d.values())\n",
    "    nn = len(cts)\n",
    "\n",
    "    s_cts = [0]\n",
    "    cumul = 0\n",
    "    for v in cts:\n",
    "        cumul += v\n",
    "        s_cts.append(cumul)\n",
    "\n",
    "    start = 0\n",
    "    end = 0\n",
    "    min_r = inf\n",
    "\n",
    "    while True:\n",
    "        while end + 1 < nn and cts[end + 1] == cts[start]:\n",
    "            end += 1\n",
    "\n",
    "        t1 = s_cts[start]\n",
    "        t2 = 0\n",
    "        if end + 1 < n:\n",
    "            t2 = (s_cts[-1] - s_cts[end + 1]) - cts[start] * (nn - 1 - end)\n",
    "\n",
    "        min_r = min(min_r, t1 + t2)\n",
    "\n",
    "        start = end + 1\n",
    "        if start == nn:\n",
    "            break\n",
    "\n",
    "    print(min_r)"
   ]
  },
  {
   "cell_type": "code",
   "execution_count": null,
   "metadata": {},
   "outputs": [],
   "source": [
    "2 4 4 5 6 6\n",
    "\n",
    "end\n",
    " 4   5  6"
   ]
  },
  {
   "cell_type": "markdown",
   "metadata": {},
   "source": [
    "https://codeforces.com/problemset/problem/1487/D D. Pythagorean Triples"
   ]
  },
  {
   "cell_type": "markdown",
   "metadata": {},
   "source": [
    "11.19 11.39"
   ]
  },
  {
   "cell_type": "code",
   "execution_count": null,
   "metadata": {},
   "outputs": [],
   "source": [
    "a ** 2 + b ** 2 "
   ]
  },
  {
   "cell_type": "code",
   "execution_count": 39,
   "metadata": {},
   "outputs": [
    {
     "name": "stdout",
     "output_type": "stream",
     "text": [
      "3\n",
      "3\n",
      "0\n",
      "6\n",
      "1\n",
      "9\n",
      "1\n"
     ]
    }
   ],
   "source": [
    "from bisect import bisect_left\n",
    "import sys\n",
    "input = lambda: sys.stdin.readline().rstrip()\n",
    "\n",
    "cri = int(1e9) + 1\n",
    "c_possibles = []\n",
    "a = 3\n",
    "while True:\n",
    "    a_s = a ** 2\n",
    "    b = (a_s - 1) // 2\n",
    "    c = b + 1\n",
    "    \n",
    "    if c > cri:\n",
    "        break\n",
    "    \n",
    "    c_possibles.append(c)\n",
    "    a += 2\n",
    "    \n",
    "for _ in range(int(input())):\n",
    "    n = int(input())\n",
    "\n",
    "    result = bisect_left(c_possibles, n + 0.5)\n",
    "\n",
    "    print(result)"
   ]
  },
  {
   "cell_type": "code",
   "execution_count": 34,
   "metadata": {},
   "outputs": [
    {
     "data": {
      "text/plain": [
       "[5, 13, 25, 41, 61, 85, 113, 145, 181, 221]"
      ]
     },
     "execution_count": 34,
     "metadata": {},
     "output_type": "execute_result"
    }
   ],
   "source": [
    "from bisect import bisect_left\n",
    "\n",
    "c_possibles[:10]"
   ]
  },
  {
   "cell_type": "code",
   "execution_count": 38,
   "metadata": {},
   "outputs": [
    {
     "data": {
      "text/plain": [
       "2"
      ]
     },
     "execution_count": 38,
     "metadata": {},
     "output_type": "execute_result"
    }
   ],
   "source": [
    "bisect_left(c_possibles, 13 + 0.5)"
   ]
  },
  {
   "cell_type": "markdown",
   "metadata": {},
   "source": [
    "https://codeforces.com/problemset/problem/1487/C C. Minimum Ties"
   ]
  },
  {
   "cell_type": "markdown",
   "metadata": {},
   "source": [
    "11.58 12.30"
   ]
  },
  {
   "cell_type": "code",
   "execution_count": 45,
   "metadata": {},
   "outputs": [],
   "source": [
    "def get_sum(num):\n",
    "    return num * (num + 1) // 2"
   ]
  },
  {
   "cell_type": "code",
   "execution_count": null,
   "metadata": {},
   "outputs": [],
   "source": [
    "(num - 1) * num // 2 가 num으로 나눠지나?"
   ]
  },
  {
   "cell_type": "code",
   "execution_count": 47,
   "metadata": {},
   "outputs": [
    {
     "data": {
      "text/plain": [
       "1.0"
      ]
     },
     "execution_count": 47,
     "metadata": {},
     "output_type": "execute_result"
    }
   ],
   "source": [
    "num - 1이 2로 나눠지나?\n",
    "num이 홀수여야 함 "
   ]
  },
  {
   "cell_type": "code",
   "execution_count": 55,
   "metadata": {},
   "outputs": [
    {
     "name": "stdout",
     "output_type": "stream",
     "text": [
      "2\n",
      "2\n",
      "0\n",
      "3\n",
      "1 -1 1\n"
     ]
    }
   ],
   "source": [
    "import sys\n",
    "input = lambda: sys.stdin.readline().rstrip()\n",
    "\n",
    "def get_sum(num):\n",
    "    return num * (num + 1) // 2\n",
    "\n",
    "for _ in range(int(input())):\n",
    "    n = int(input())\n",
    "\n",
    "    if n % 2 == 1:\n",
    "        cur = 1\n",
    "        result = []\n",
    "        for _ in range(get_sum(n - 1)):\n",
    "            result.append(cur)\n",
    "            cur = -cur\n",
    "\n",
    "        print(*result)\n",
    "    else:\n",
    "        result = []\n",
    "        cur = 1\n",
    "        for num in range(n - 1, 0, -1):\n",
    "            if num % 2 == 1:\n",
    "                result.append(0)\n",
    "                for _ in range(num - 1):\n",
    "                    result.append(cur)\n",
    "                    cur = -cur\n",
    "            else:\n",
    "                for _ in range(num):\n",
    "                    result.append(cur)\n",
    "                    cur = -cur\n",
    "            cur = -cur\n",
    "\n",
    "        print(*result)"
   ]
  },
  {
   "cell_type": "markdown",
   "metadata": {},
   "source": [
    "https://codeforces.com/problemset/problem/1486/B B. Eastern Exhibition"
   ]
  },
  {
   "cell_type": "markdown",
   "metadata": {},
   "source": [
    "1.19 1.23"
   ]
  },
  {
   "cell_type": "code",
   "execution_count": null,
   "metadata": {},
   "outputs": [],
   "source": [
    "import sys\n",
    "input = lambda: sys.stdin.readline().rstrip()\n",
    "\n",
    "for _ in range(int(input())):\n",
    "    n = int(input())\n",
    "    xs = []\n",
    "    ys = []\n",
    "    for _ in range(n):\n",
    "        x, y = map(int, input().split())\n",
    "\n",
    "        xs.append(x)\n",
    "        ys.append(y)\n",
    "\n",
    "    xs.sort()\n",
    "    ys.sort()\n",
    "\n",
    "    if n % 2 == 1:\n",
    "        print(1)\n",
    "    else:\n",
    "        x_len = xs[n // 2] - xs[n // 2 - 1] + 1\n",
    "        y_len = ys[n // 2] - ys[n // 2 - 1] + 1\n",
    "\n",
    "        print(x_len * y_len)"
   ]
  },
  {
   "cell_type": "markdown",
   "metadata": {},
   "source": [
    "https://codeforces.com/problemset/problem/1482/B B. Restore Modulo"
   ]
  },
  {
   "cell_type": "markdown",
   "metadata": {},
   "source": [
    "1.38 2.14"
   ]
  },
  {
   "cell_type": "code",
   "execution_count": null,
   "metadata": {},
   "outputs": [],
   "source": [
    "모두 같으면 0 추정\n",
    "값이 올라가기만 하면 c 유추 후 -1 아니면 0\n",
    "값이 내려가기만 하면 공차 확인 후 -1 아니면 0\n",
    "두 구간 모두 있으면 올라가는 구간에서 c 유추 후 내려가는 구간 하나 잡아서 m 유추\n",
    "재생성 및 원래 수열과 다르면 X"
   ]
  },
  {
   "cell_type": "code",
   "execution_count": 68,
   "metadata": {},
   "outputs": [
    {
     "name": "stdout",
     "output_type": "stream",
     "text": [
      "3\n",
      "7 3 4\n",
      "-1\n"
     ]
    }
   ],
   "source": [
    "import sys\n",
    "input = lambda: sys.stdin.readline().rstrip()\n",
    "\n",
    "for _ in range(int(input())):\n",
    "    n = int(input())\n",
    "    li = list(map(int, input().split()))\n",
    "\n",
    "    is_inc = False\n",
    "    is_dec = False\n",
    "    is_same = False\n",
    "    inc_num = -1\n",
    "    dec_num = -1\n",
    "    dec_intv = [-1, -1]\n",
    "    ip = True\n",
    "    for i in range(n - 1):\n",
    "        if li[i] < li[i + 1]:\n",
    "            is_inc = True\n",
    "            temp = li[i + 1] - li[i]\n",
    "            if inc_num != -1 and temp != inc_num:\n",
    "                ip = False\n",
    "                break\n",
    "            inc_num = temp\n",
    "        elif li[i] > li[i + 1]:\n",
    "            is_dec = True\n",
    "            temp = li[i] - li[i + 1]\n",
    "            if dec_num != -1 and temp != dec_num:\n",
    "                ip = False\n",
    "                break\n",
    "            dec_num = temp\n",
    "            dec_intv = [li[i], li[i + 1]]\n",
    "        else:\n",
    "            is_same = True\n",
    "\n",
    "    if not ip:\n",
    "        print(-1)\n",
    "    elif n == 1:\n",
    "        print(0)\n",
    "    elif is_same and (is_inc or is_dec):\n",
    "        print(-1)\n",
    "    elif is_same:\n",
    "        print(0)\n",
    "    elif not is_inc or not is_dec:\n",
    "        print(0)\n",
    "    else:\n",
    "        c = inc_num\n",
    "        m = dec_intv[0] + c - dec_intv[1]\n",
    "\n",
    "        cur = li[0]\n",
    "        ip = True\n",
    "        for i in range(1, n):\n",
    "            cur = (cur + c) % m\n",
    "            if cur != li[i]:\n",
    "                ip = False\n",
    "                break\n",
    "\n",
    "        if m <= max(li):\n",
    "            ip = False\n",
    "\n",
    "        if ip:\n",
    "            print(m, c)\n",
    "        else:\n",
    "            print(-1)"
   ]
  },
  {
   "cell_type": "markdown",
   "metadata": {},
   "source": [
    "https://codeforces.com/problemset/problem/1473/C C. No More Inversions"
   ]
  },
  {
   "cell_type": "markdown",
   "metadata": {},
   "source": [
    "2.55 3.05,  3.18 3.50"
   ]
  },
  {
   "cell_type": "code",
   "execution_count": null,
   "metadata": {},
   "outputs": [],
   "source": [
    "1 2 3 2\n",
    "\n"
   ]
  },
  {
   "cell_type": "code",
   "execution_count": null,
   "metadata": {},
   "outputs": [],
   "source": [
    "a = 1 2 3 2\n",
    "p = 1 3 2"
   ]
  },
  {
   "cell_type": "code",
   "execution_count": null,
   "metadata": {},
   "outputs": [],
   "source": [
    "b[1] = p[1]\n",
    "b[2] = p[2]\n",
    "\n",
    "b[4] = p[a[4]]"
   ]
  },
  {
   "cell_type": "code",
   "execution_count": null,
   "metadata": {},
   "outputs": [],
   "source": [
    "1 2 3 4 3 2   1+3\n",
    "\n",
    "1 4 2 3 2 4   1+1+2\n",
    "\n",
    "2 1 3 4 3 1   1+1+4\n",
    "\n"
   ]
  },
  {
   "cell_type": "code",
   "execution_count": 13,
   "metadata": {},
   "outputs": [
    {
     "name": "stdout",
     "output_type": "stream",
     "text": [
      "1\n",
      "4 3\n",
      "1 3 2\n"
     ]
    }
   ],
   "source": [
    "import sys\n",
    "input = lambda: sys.stdin.readline().rstrip()\n",
    "\n",
    "for _ in range(int(input())):\n",
    "    n, k = map(int, input().split())\n",
    "\n",
    "    a = []\n",
    "    cur = 1\n",
    "    delta = 1\n",
    "    for _ in range(n):\n",
    "        a.append(cur)\n",
    "        cur += delta\n",
    "        if cur > k:\n",
    "            cur = k - 1\n",
    "            delta = -1\n",
    "\n",
    "    p = list(range(1, k + 1))\n",
    "\n",
    "    to_check = k\n",
    "    for i in range(n - 1, -1, -1):\n",
    "        if a[i] < to_check:\n",
    "            p[a[i] - 1], p[to_check - 1] = p[to_check - 1], p[a[i] - 1]\n",
    "            to_check -= 1\n",
    "        else:\n",
    "            break\n",
    "\n",
    "    print(*p)"
   ]
  },
  {
   "cell_type": "code",
   "execution_count": 4,
   "metadata": {},
   "outputs": [
    {
     "data": {
      "text/plain": [
       "25"
      ]
     },
     "execution_count": 4,
     "metadata": {},
     "output_type": "execute_result"
    }
   ],
   "source": [
    "1+3+5+7+9"
   ]
  },
  {
   "cell_type": "code",
   "execution_count": 5,
   "metadata": {},
   "outputs": [
    {
     "data": {
      "text/plain": [
       "25"
      ]
     },
     "execution_count": 5,
     "metadata": {},
     "output_type": "execute_result"
    }
   ],
   "source": [
    "1+1+1+1+5+1+3+5+7"
   ]
  },
  {
   "cell_type": "code",
   "execution_count": 6,
   "metadata": {},
   "outputs": [
    {
     "data": {
      "text/plain": [
       "20"
      ]
     },
     "execution_count": 6,
     "metadata": {},
     "output_type": "execute_result"
    }
   ],
   "source": [
    "1+2+2+4+4+2+4+1"
   ]
  },
  {
   "cell_type": "markdown",
   "metadata": {},
   "source": [
    "https://codeforces.com/problemset/problem/1466/D D. 13th Labour of Heracles"
   ]
  },
  {
   "cell_type": "markdown",
   "metadata": {},
   "source": [
    "4.26 4.46"
   ]
  },
  {
   "cell_type": "code",
   "execution_count": 20,
   "metadata": {},
   "outputs": [
    {
     "name": "stdout",
     "output_type": "stream",
     "text": [
      "4\n",
      "10 6 6 6\n",
      "1 2\n",
      "2 3\n",
      "4 1\n",
      "28 38 44\n"
     ]
    }
   ],
   "source": [
    "from heapq import heappush, heappop\n",
    "import sys\n",
    "input = lambda: sys.stdin.readline().rstrip()\n",
    "\n",
    "for _ in range(int(input())):\n",
    "    n = int(input())\n",
    "    ws = [0] + list(map(int, input().split()))\n",
    "\n",
    "    li = [0] * (n + 1)\n",
    "    for _ in range(n - 1):\n",
    "        u, v = map(int, input().split())\n",
    "        li[u] += 1\n",
    "        li[v] += 1\n",
    "\n",
    "    heap = []\n",
    "    for i in range(1, n + 1):\n",
    "        heappush(heap, (-ws[i], li[i] - 1))\n",
    "\n",
    "    result = [0] * (n - 1)\n",
    "\n",
    "    cur = sum(ws)\n",
    "    result[0] = cur\n",
    "    for i in range(1, n - 1):\n",
    "        while heap and heap[0][1] == 0:\n",
    "            heappop(heap)\n",
    "\n",
    "        w, c = heappop(heap)\n",
    "        w = -w\n",
    "\n",
    "        cur += w\n",
    "        result[i] = cur\n",
    "        c -= 1\n",
    "        if c >= 1:\n",
    "            heappush(heap, (-w, c))\n",
    "\n",
    "    print(*result)"
   ]
  },
  {
   "cell_type": "markdown",
   "metadata": {},
   "source": [
    "https://codeforces.com/problemset/problem/1462/E1 E1. Close Tuples (easy version)"
   ]
  },
  {
   "cell_type": "code",
   "execution_count": 2,
   "metadata": {},
   "outputs": [
    {
     "name": "stdout",
     "output_type": "stream",
     "text": [
      "1\n",
      "10\n",
      "5 6 1 3 2 9 8 1 2 4\n",
      "15\n"
     ]
    }
   ],
   "source": [
    "from collections import defaultdict as dd\n",
    "import sys\n",
    "# input = lambda: sys.stdin.readline().rstrip()\n",
    "\n",
    "cri = 200001\n",
    "\n",
    "dp = [[0] * 4 for _ in range(cri)]\n",
    "for nn in range(200001):\n",
    "    dp[nn][0] = 1\n",
    "    cur = 1\n",
    "    for kk in range(1, 4):\n",
    "        if kk > nn:\n",
    "            break\n",
    "        cur = cur * (nn - (kk - 1)) // kk\n",
    "        dp[nn][kk] = cur\n",
    "\n",
    "nCk = lambda n, k: dp[n][k]\n",
    "\n",
    "for _ in range(int(input())):\n",
    "    n = int(input())\n",
    "    li = list(map(int, input().split()))\n",
    "\n",
    "    d = dd(int)\n",
    "    for v in li:\n",
    "        d[str(v)] += 1\n",
    "\n",
    "    total = 0\n",
    "    for i in range(1, n + 1):\n",
    "        total += nCk(d[str(i)], 3)\n",
    "        total += nCk(d[str(i)], 2) * nCk(d[str(i + 1)], 1)\n",
    "        total += nCk(d[str(i)], 2) * nCk(d[str(i + 2)], 1)\n",
    "        total += nCk(d[str(i)], 1) * nCk(d[str(i + 1)], 2)\n",
    "        total += nCk(d[str(i)], 1) * nCk(d[str(i + 1)], 1) * nCk(d[str(i + 2)], 1)\n",
    "        total += nCk(d[str(i)], 1) * nCk(d[str(i + 2)], 2)\n",
    "\n",
    "    print(total)"
   ]
  },
  {
   "cell_type": "markdown",
   "metadata": {},
   "source": [
    "https://codeforces.com/problemset/problem/1461/C C. Random Events"
   ]
  },
  {
   "cell_type": "markdown",
   "metadata": {},
   "source": [
    "7.08 7.23"
   ]
  },
  {
   "cell_type": "code",
   "execution_count": null,
   "metadata": {},
   "outputs": [],
   "source": [
    "import sys\n",
    "# input = lambda: sys.stdin.readline().rstrip()\n",
    "\n",
    "for _ in range(int(input())):\n",
    "    n, m = map(int, input().split())\n",
    "    li = list(map(int, input().split()))\n",
    "\n",
    "    can_sort_cri = n\n",
    "    for i in range(n - 1, -1, -1):\n",
    "        if li[i] == i + 1:\n",
    "            can_sort_cri -= 1\n",
    "        else:\n",
    "            break\n",
    "\n",
    "    total = 0\n",
    "    left = 1\n",
    "    for _ in range(m):\n",
    "        temp = input().split()\n",
    "\n",
    "        r = int(temp[0])\n",
    "        p = float(temp[1])\n",
    "\n",
    "        if r >= can_sort_cri:\n",
    "            prob = left * p\n",
    "            total += prob\n",
    "            left -= prob\n",
    "\n",
    "    if can_sort_cri == 0:\n",
    "        print(1)\n",
    "    else:\n",
    "        print(total)"
   ]
  },
  {
   "cell_type": "markdown",
   "metadata": {},
   "source": [
    "https://codeforces.com/problemset/problem/1439/A1 A1. Binary Table (Easy Version)"
   ]
  },
  {
   "cell_type": "markdown",
   "metadata": {},
   "source": [
    "7.24 8.04, 8.10 8.11"
   ]
  },
  {
   "cell_type": "code",
   "execution_count": 23,
   "metadata": {},
   "outputs": [
    {
     "name": "stdout",
     "output_type": "stream",
     "text": [
      "1\n",
      "2 3\n",
      "011\n",
      "101\n",
      "4\n",
      "1 2 1 1 2 2\n",
      "2 1 1 1 2 2\n",
      "1 2 2 2 1 3\n",
      "1 2 2 2 2 3\n"
     ]
    }
   ],
   "source": [
    "import sys\n",
    "# input = lambda: sys.stdin.readline().rstrip()\n",
    "\n",
    "def get_coords(xs, xe, ys, ye, i, j):\n",
    "    temp = set()\n",
    "    for x in range(xs, xe + 1):\n",
    "        for y in range(ys, ye + 1):\n",
    "            temp.add((x, y))\n",
    "            \n",
    "    if i == xs:\n",
    "        to_del_x = xe\n",
    "    else:\n",
    "        to_del_x = xs\n",
    "        \n",
    "    if j == ys:\n",
    "        to_del_y = ye\n",
    "    else:\n",
    "        to_del_y = ys\n",
    "        \n",
    "    temp.discard((to_del_x, to_del_y))\n",
    "    \n",
    "    ntemp = []\n",
    "    for x, y in temp:\n",
    "        ntemp.append(x + 1)\n",
    "        ntemp.append(y + 1)\n",
    "        \n",
    "    return ntemp\n",
    "\n",
    "def add(xs, xe, ys, ye):\n",
    "    global result\n",
    "    \n",
    "    c = 0\n",
    "    ones = []\n",
    "    zeros = []\n",
    "    for x in range(xs, xe + 1):\n",
    "        for y in range(ys, ye + 1):\n",
    "            if li[x][y] == 1:\n",
    "                c += 1\n",
    "                ones.append((x, y))\n",
    "            else:\n",
    "                zeros.append((x, y))\n",
    "    \n",
    "    if c == 4:\n",
    "        for x, y in ones:\n",
    "            result.append(get_coords(xs, xe, ys, ye, x, y))\n",
    "    elif c == 2:\n",
    "        if ones[0][0] != ones[1][0] and ones[0][1] != ones[1][1]:\n",
    "            for x, y in ones:\n",
    "                result.append(get_coords(xs, xe, ys, ye, x, y))\n",
    "        else:\n",
    "            for x, y in zeros:\n",
    "                result.append(get_coords(xs, xe, ys, ye, x, y))\n",
    "    elif c == 1:\n",
    "        if ones[0][0] == xs:\n",
    "            to_ex_x = xe\n",
    "        else:\n",
    "            to_ex_x = xs\n",
    "            \n",
    "        if ones[0][1] == ys:\n",
    "            to_ex_y = ye\n",
    "        else:\n",
    "            to_ex_y = ys\n",
    "            \n",
    "        for x in range(xs, xe + 1):\n",
    "            for y in range(ys, ye + 1):\n",
    "                if x == to_ex_x and y == to_ex_y:\n",
    "                    continue\n",
    "                result.append(get_coords(xs, xe, ys, ye, x, y))\n",
    "    elif c == 3:\n",
    "        if zeros[0][0] == xs:\n",
    "            to_use_x = xe\n",
    "        else:\n",
    "            to_use_x = xs\n",
    "            \n",
    "        if zeros[0][1] == ys:\n",
    "            to_use_y = ye\n",
    "        else:\n",
    "            to_use_y = ys\n",
    "            \n",
    "        result.append(get_coords(xs, xe, ys, ye, to_use_x, to_use_y))\n",
    "\n",
    "for _ in range(int(input())):\n",
    "    n, m = map(int, input().split())\n",
    "    li = [list(map(int, input())) for _ in range(n)]\n",
    "\n",
    "    needed = 0\n",
    "    result = []\n",
    "    for i in range(0, n - 1, 2):\n",
    "        for j in range(0, m - 1, 2):\n",
    "            add(i, i + 1, j, j + 1)\n",
    "\n",
    "            li[i][j] = 0\n",
    "            li[i][j + 1] = 0\n",
    "            li[i + 1][j] = 0\n",
    "            li[i + 1][j + 1] = 0\n",
    "\n",
    "    i = n - 2\n",
    "    for j in range(0, m - 1, 2):\n",
    "        add(i, i + 1, j, j + 1)\n",
    "\n",
    "        li[i][j] = 0\n",
    "        li[i][j + 1] = 0\n",
    "        li[i + 1][j] = 0\n",
    "        li[i + 1][j + 1] = 0\n",
    "\n",
    "    j = m - 2\n",
    "    for i in range(0, n - 1, 2):\n",
    "        add(i, i + 1, j, j + 1)\n",
    "\n",
    "        li[i][j] = 0\n",
    "        li[i][j + 1] = 0\n",
    "        li[i + 1][j] = 0\n",
    "        li[i + 1][j + 1] = 0\n",
    "\n",
    "    add(n - 2, n - 1, m - 2, m - 1)\n",
    "\n",
    "    print(len(result))\n",
    "    for v in result:\n",
    "        print(*v)"
   ]
  },
  {
   "cell_type": "markdown",
   "metadata": {},
   "source": [
    "https://codeforces.com/problemset/problem/1444/A A. Division"
   ]
  },
  {
   "cell_type": "markdown",
   "metadata": {},
   "source": [
    "9.46 10.16"
   ]
  },
  {
   "cell_type": "code",
   "execution_count": 51,
   "metadata": {},
   "outputs": [
    {
     "name": "stdout",
     "output_type": "stream",
     "text": [
      "8 8\n",
      "4\n"
     ]
    }
   ],
   "source": [
    "import sys\n",
    "input = lambda: sys.stdin.readline().rstrip()\n",
    "\n",
    "for _ in range(int(input())):\n",
    "    p, q = map(int, input().split())\n",
    "\n",
    "    if p % q != 0:\n",
    "        print(p)\n",
    "    else:\n",
    "        max_r = 0\n",
    "        for mod in range(2, int(q ** 0.5) + 1):\n",
    "            c = 0\n",
    "            while q % mod == 0:\n",
    "                q //= mod\n",
    "                c += 1\n",
    "\n",
    "            if c >= 1:\n",
    "                np = p\n",
    "                nc = 0\n",
    "                while np % mod == 0:\n",
    "                    np //= mod\n",
    "                    nc += 1\n",
    "\n",
    "                diff = nc - (c - 1)\n",
    "                max_r = max(max_r, p // mod ** diff)\n",
    "\n",
    "        if q != 1:\n",
    "            c = 1\n",
    "\n",
    "            np = p\n",
    "            nc = 0\n",
    "            while np % q == 0:\n",
    "                np //= q\n",
    "                nc += 1\n",
    "\n",
    "            diff = nc - (c - 1)\n",
    "            max_r = max(max_r, p // q ** diff)        \n",
    "\n",
    "        print(max_r)"
   ]
  },
  {
   "cell_type": "markdown",
   "metadata": {},
   "source": [
    "https://codeforces.com/problemset/problem/1436/C C. Binary Search"
   ]
  },
  {
   "cell_type": "markdown",
   "metadata": {},
   "source": [
    "10.25 10.57"
   ]
  },
  {
   "cell_type": "code",
   "execution_count": 89,
   "metadata": {},
   "outputs": [
    {
     "name": "stdout",
     "output_type": "stream",
     "text": [
      "824071958\n"
     ]
    }
   ],
   "source": [
    "mod = int(1e9) + 7\n",
    "\n",
    "def nPk(n, k, mod):\n",
    "    cur = 1\n",
    "    for num in range(n, n - k, -1):\n",
    "        cur *= num\n",
    "        cur %= mod\n",
    "        \n",
    "    return cur\n",
    "\n",
    "n, x, pos = map(int, input().split())\n",
    "\n",
    "left = 0\n",
    "right = n\n",
    "large_case = 0\n",
    "small_case = 0\n",
    "while left < right:\n",
    "    mid = (left + right) // 2\n",
    "    \n",
    "    if pos < mid:\n",
    "        large_case += 1\n",
    "        right = mid\n",
    "    else:\n",
    "        if mid < pos:\n",
    "            small_case += 1\n",
    "        left = mid + 1\n",
    "\n",
    "large_num = n - x\n",
    "small_num = x - 1\n",
    "\n",
    "if small_case > small_num or large_case > large_num:\n",
    "    print(0)\n",
    "else:\n",
    "    left = small_num - small_case + large_num - large_case\n",
    "    result = nPk(small_num, small_case, mod) * nPk(large_num, large_case, mod) * nPk(left, n - small_case - large_case - 1, mod)\n",
    "    result %= mod\n",
    "    \n",
    "    print(result)"
   ]
  },
  {
   "cell_type": "markdown",
   "metadata": {},
   "source": [
    "https://codeforces.com/problemset/problem/1426/D D. Non-zero Segments"
   ]
  },
  {
   "cell_type": "markdown",
   "metadata": {},
   "source": [
    "11.39 12.14"
   ]
  },
  {
   "cell_type": "code",
   "execution_count": 128,
   "metadata": {},
   "outputs": [
    {
     "data": {
      "text/plain": [
       "35"
      ]
     },
     "execution_count": 128,
     "metadata": {},
     "output_type": "execute_result"
    }
   ],
   "source": [
    "74 - 39"
   ]
  },
  {
   "cell_type": "code",
   "execution_count": null,
   "metadata": {},
   "outputs": [],
   "source": [
    "1 -4 -1 1"
   ]
  },
  {
   "cell_type": "code",
   "execution_count": null,
   "metadata": {},
   "outputs": [],
   "source": [
    "-2 1 1 -2 1 1 -2 1 1\n",
    "\n",
    "-2 -1 0 -2 -1 0 -2 -1 0\n",
    "\n",
    "\n",
    "-1 99 -1 1 -1 1\n",
    "-1 0 -1 0 -1 0"
   ]
  },
  {
   "cell_type": "code",
   "execution_count": 127,
   "metadata": {},
   "outputs": [
    {
     "name": "stdout",
     "output_type": "stream",
     "text": [
      "4\n",
      "1 -5 3 2\n",
      "1\n"
     ]
    }
   ],
   "source": [
    "import sys\n",
    "input = lambda: sys.stdin.readline().rstrip()\n",
    "\n",
    "n = int(input())\n",
    "li = list(map(int, input().split()))\n",
    "\n",
    "total = 0\n",
    "cumul = 0\n",
    "\n",
    "st = {0}\n",
    "for i in range(n):\n",
    "    cumul += li[i]\n",
    "    \n",
    "    if cumul in st:\n",
    "        total += 1\n",
    "        cumul = li[i]\n",
    "        st = {0, li[i]}\n",
    "    else:\n",
    "        st.add(cumul)\n",
    "        \n",
    "print(total)"
   ]
  },
  {
   "cell_type": "markdown",
   "metadata": {},
   "source": [
    "https://codeforces.com/problemset/problem/1419/D2 D2. Sage's Birthday (hard version)"
   ]
  },
  {
   "cell_type": "markdown",
   "metadata": {},
   "source": [
    "12.33 12.56 - 1"
   ]
  },
  {
   "cell_type": "code",
   "execution_count": 135,
   "metadata": {},
   "outputs": [
    {
     "name": "stdout",
     "output_type": "stream",
     "text": [
      "4\n",
      "2 2 2 2\n",
      "0\n",
      "2 2 2 2\n"
     ]
    }
   ],
   "source": [
    "import sys\n",
    "# input = lambda: sys.stdin.readline().rstrip()\n",
    "\n",
    "n = int(input())\n",
    "li = list(map(int, input().split()))\n",
    "\n",
    "stack = sorted(li)\n",
    "result = [-1] * n\n",
    "for i in range(0, n, 2):\n",
    "    result[i] = stack.pop()\n",
    "    \n",
    "not_used = []\n",
    "total = 0\n",
    "for i in range(1, n, 2):\n",
    "    if i - 1 < 0 or i + 1 >= n:\n",
    "        cri = -1\n",
    "    else:\n",
    "        cri = min(result[i - 1], result[i + 1]) - 1\n",
    "    while stack and stack[-1] > cri:\n",
    "        not_used.append(stack.pop())\n",
    "    \n",
    "    if stack:\n",
    "        total += 1\n",
    "        result[i] = stack.pop()\n",
    "    \n",
    "for i in range(1, n, 2):\n",
    "    if result[i] == -1:\n",
    "        result[i] = not_used.pop()\n",
    "        \n",
    "print(total)\n",
    "print(*result)"
   ]
  },
  {
   "cell_type": "markdown",
   "metadata": {},
   "source": [
    "https://codeforces.com/problemset/problem/1419/C C. Killjoy"
   ]
  },
  {
   "cell_type": "markdown",
   "metadata": {},
   "source": [
    "2.20 2.38 - 1"
   ]
  },
  {
   "cell_type": "code",
   "execution_count": null,
   "metadata": {},
   "outputs": [],
   "source": [
    "이미 다 같으면 0\n",
    "감염된게 2개 이상이면 1\n",
    "\n",
    "한번에 전부 참여했을 때 그 합이 x * n과 같으면 1\n",
    "아니면 2"
   ]
  },
  {
   "cell_type": "code",
   "execution_count": 136,
   "metadata": {},
   "outputs": [
    {
     "name": "stdout",
     "output_type": "stream",
     "text": [
      "9 38\n",
      "-21 83 50 -59 -77 15 -71 -78 20\n",
      "2\n"
     ]
    }
   ],
   "source": [
    "import sys\n",
    "input = lambda: sys.stdin.readline().rstrip()\n",
    "\n",
    "for _ in range(int(input())):\n",
    "    n, x = map(int, input().split())\n",
    "    a = list(map(int, input().split()))\n",
    "\n",
    "    a_st = set(a)\n",
    "    if len(a_st) == 1 and a[0] == x:\n",
    "        print(0)\n",
    "    elif sum(a) == n * x:\n",
    "        print(1)\n",
    "    elif x in a_st:\n",
    "        print(1)\n",
    "    else:\n",
    "        print(2)"
   ]
  },
  {
   "cell_type": "markdown",
   "metadata": {},
   "source": [
    "https://codeforces.com/problemset/problem/1366/C C. Palindromic Paths"
   ]
  },
  {
   "cell_type": "code",
   "execution_count": 27,
   "metadata": {},
   "outputs": [
    {
     "name": "stdout",
     "output_type": "stream",
     "text": [
      "2 3\n",
      "1 1 0\n",
      "1 0 0\n",
      "3\n"
     ]
    }
   ],
   "source": [
    "from collections import deque, defaultdict as dd\n",
    "import sys\n",
    "input = lambda: sys.stdin.readline().rstrip()\n",
    "\n",
    "inf = float('inf')\n",
    "\n",
    "dx = [0, 1]\n",
    "dy = [1, 0]\n",
    "\n",
    "for _ in range(int(input())):\n",
    "    n, m = map(int, input().split())\n",
    "    li = [list(map(int, input().split())) for _ in range(n)]\n",
    "\n",
    "    path_len = (n - 1) + (m - 1)\n",
    "    cri = path_len // 2\n",
    "\n",
    "    cts = [dd(int), dd(int)]\n",
    "    cts[li[0][0]][0] += 1\n",
    "\n",
    "    dists = [[inf] * m for _ in range(n)]\n",
    "    dists[0][0] = 0\n",
    "\n",
    "    queue = deque()\n",
    "    queue.append((0, 0))\n",
    "    while queue:\n",
    "        x, y = queue.popleft()\n",
    "\n",
    "        for d in range(2):\n",
    "            nx = x + dx[d]\n",
    "            ny = y + dy[d]\n",
    "\n",
    "            if nx >= n or ny >= m:\n",
    "                continue\n",
    "            if dists[nx][ny] == inf:\n",
    "                dists[nx][ny] = dists[x][y] + 1\n",
    "\n",
    "                dist = dists[nx][ny]\n",
    "                if dist > cri:\n",
    "                    dist = path_len - dist\n",
    "\n",
    "                cts[li[nx][ny]][dist] += 1\n",
    "\n",
    "                queue.append((nx, ny))\n",
    "\n",
    "    total = 0\n",
    "    is_path_len_even = (path_len % 2) ^ 1\n",
    "    for dist in range(cri + 1):\n",
    "        if is_path_len_even and path_len // 2 == dist:\n",
    "            continue\n",
    "        total += min(cts[0][dist], cts[1][dist])\n",
    "\n",
    "    print(total)"
   ]
  },
  {
   "cell_type": "code",
   "execution_count": null,
   "metadata": {},
   "outputs": [],
   "source": [
    "0 1 2 3 4 5\n",
    "0 1 2 3 4 5 6"
   ]
  },
  {
   "cell_type": "markdown",
   "metadata": {},
   "source": [
    "https://codeforces.com/problemset/problem/1338/A A. Powered Addition"
   ]
  },
  {
   "cell_type": "code",
   "execution_count": 30,
   "metadata": {},
   "outputs": [
    {
     "name": "stdout",
     "output_type": "stream",
     "text": [
      "2\n",
      "0 -4\n",
      "3\n"
     ]
    }
   ],
   "source": [
    "import sys\n",
    "input = lambda: sys.stdin.readline().rstrip()\n",
    "\n",
    "for _ in range(int(input())):\n",
    "    n = int(input())\n",
    "    li = list(map(int, input().split()))\n",
    "\n",
    "    to_make = li[0]\n",
    "    max_c = 0\n",
    "    for v in li:\n",
    "        if v > to_make:\n",
    "            to_make = v\n",
    "        elif v < to_make:\n",
    "            diff = to_make - v\n",
    "\n",
    "            c = 1\n",
    "            cur = 1\n",
    "            while True:\n",
    "                diff -= cur\n",
    "                if diff <= 0:\n",
    "                    break\n",
    "                cur *= 2\n",
    "                c += 1\n",
    "\n",
    "            max_c = max(max_c, c)\n",
    "\n",
    "    print(max_c)"
   ]
  },
  {
   "cell_type": "markdown",
   "metadata": {},
   "source": [
    "https://codeforces.com/problemset/problem/1332/C C. K-Complete Word"
   ]
  },
  {
   "cell_type": "code",
   "execution_count": 39,
   "metadata": {},
   "outputs": [
    {
     "name": "stdout",
     "output_type": "stream",
     "text": [
      "21 7\n",
      "wudixiaoxingxingheclp\n",
      "16\n"
     ]
    }
   ],
   "source": [
    "from collections import defaultdict as dd\n",
    "import sys\n",
    "input = lambda: sys.stdin.readline().rstrip()\n",
    "\n",
    "## PYRIVAL BOOTSTRAP\n",
    "# https://github.com/cheran-senthil/PyRival/blob/master/pyrival/misc/bootstrap.py\n",
    "# This decorator allows for recursion without actually doing recursion\n",
    "## @bootstrap, yield when getting and returning value in recursive functions, end of functions\n",
    "from types import GeneratorType\n",
    "\n",
    "def bootstrap(f, stack=[]):\n",
    "    def wrappedfunc(*args, **kwargs):\n",
    "        if stack:\n",
    "            return f(*args, **kwargs)\n",
    "        else:\n",
    "            to = f(*args, **kwargs)\n",
    "            while True:\n",
    "                if type(to) is GeneratorType:\n",
    "                    stack.append(to)\n",
    "                    to = next(to)\n",
    "                else:\n",
    "                    stack.pop()\n",
    "                    if not stack:\n",
    "                        break\n",
    "                    to = stack[-1].send(to)\n",
    "            return to\n",
    "    return wrappedfunc\n",
    "\n",
    "@bootstrap\n",
    "def find(v):\n",
    "    if v != parent[v]:\n",
    "        parent[v] = yield find(parent[v])\n",
    "    yield parent[v]\n",
    "\n",
    "def union(a, b):\n",
    "    if a > b:\n",
    "        a, b = b, a\n",
    "    parent[b] = a\n",
    "    \n",
    "for _ in range(int(input())):\n",
    "    n, k = map(int, input().split())\n",
    "    s = input()\n",
    "\n",
    "    parent = list(range(n))\n",
    "\n",
    "    for start in range(k):\n",
    "        for i in range(start, n, k):\n",
    "            if i + k < n:\n",
    "                union(find(i), find(i + k))\n",
    "            else:\n",
    "                break\n",
    "\n",
    "    for i in range(n // 2):\n",
    "        union(find(i), find(n - 1 - i))\n",
    "\n",
    "    cts = dd(lambda: dd(int))\n",
    "    for i in range(n):\n",
    "        cts[find(i)][s[i]] += 1\n",
    "\n",
    "    total = 0\n",
    "    for key in cts:\n",
    "        key_total = 0\n",
    "        max_ct = 0\n",
    "        for ct in cts[key].values():\n",
    "            key_total += ct\n",
    "            max_ct = max(max_ct, ct)\n",
    "\n",
    "        total += key_total - max_ct\n",
    "\n",
    "    print(total)"
   ]
  },
  {
   "cell_type": "markdown",
   "metadata": {},
   "source": [
    "https://codeforces.com/problemset/problem/1326/D1 D1. Prefix-Suffix Palindrome (Easy version)"
   ]
  },
  {
   "cell_type": "code",
   "execution_count": null,
   "metadata": {},
   "outputs": [],
   "source": [
    "start  end\n",
    "0       5"
   ]
  },
  {
   "cell_type": "code",
   "execution_count": null,
   "metadata": {},
   "outputs": [],
   "source": [
    "0 1 2 3 4 5"
   ]
  },
  {
   "cell_type": "code",
   "execution_count": 86,
   "metadata": {},
   "outputs": [
    {
     "name": "stdout",
     "output_type": "stream",
     "text": [
      "10\n",
      "aaaaabbb\n",
      "aaaaa\n",
      "aaabbaaa\n",
      "aaabbaaa\n",
      "abbbbaa\n",
      "abbbba\n",
      "abbbba\n",
      "abbbba\n",
      "aba\n",
      "aba\n",
      "aabbaa\n",
      "aabbaa\n",
      "aaccaa\n",
      "aaccaa\n",
      "aasdddssaa\n",
      "aasdddsaa\n",
      "sdf\n",
      "s\n",
      "ewe\n",
      "ewe\n"
     ]
    }
   ],
   "source": [
    "import sys\n",
    "# input = lambda: sys.stdin.readline().rstrip()\n",
    "\n",
    "def check(end):\n",
    "    length = end + 1\n",
    "    for i in range(length // 2):\n",
    "        if ss[i] != ss[length - 1 - i]:\n",
    "            return False\n",
    "    return True\n",
    "\n",
    "for _ in range(int(input())):\n",
    "    s = input()\n",
    "    n = len(s)\n",
    "\n",
    "    total = 0\n",
    "    start = 0\n",
    "    end = n - 1\n",
    "    for i in range(n // 2):\n",
    "        if s[i] == s[n - 1 - i]:\n",
    "            total += 2\n",
    "            start += 1\n",
    "            end -= 1\n",
    "        else:\n",
    "            break\n",
    "\n",
    "    max_r = 0\n",
    "    is_reversed = False\n",
    "    ss = ''\n",
    "    if start <= end:\n",
    "        ss = s[start:end + 1]\n",
    "        nn = len(ss)\n",
    "\n",
    "        max_r = 0\n",
    "        for i in range(nn):\n",
    "            if check(i):\n",
    "                max_r = i + 1\n",
    "\n",
    "        ss = ss[::-1]\n",
    "        for i in range(max_r, nn):\n",
    "            if check(i):\n",
    "                is_reversed = True\n",
    "                max_r = i + 1\n",
    "\n",
    "\n",
    "    if is_reversed:\n",
    "        result = s[:total // 2] + ss[:max_r] + s[n - total // 2:]\n",
    "    else:\n",
    "        ss = ss[::-1]\n",
    "        result = s[:total // 2] + ss[:max_r] + s[n - total // 2:]\n",
    "\n",
    "    print(result)"
   ]
  },
  {
   "cell_type": "code",
   "execution_count": 87,
   "metadata": {},
   "outputs": [
    {
     "data": {
      "text/plain": [
       "''"
      ]
     },
     "execution_count": 87,
     "metadata": {},
     "output_type": "execute_result"
    }
   ],
   "source": [
    "ss = ''\n",
    "ss[:0]"
   ]
  },
  {
   "cell_type": "markdown",
   "metadata": {},
   "source": [
    "https://codeforces.com/problemset/problem/1323/B B. Count Subrectangles"
   ]
  },
  {
   "cell_type": "code",
   "execution_count": 97,
   "metadata": {},
   "outputs": [
    {
     "name": "stdout",
     "output_type": "stream",
     "text": [
      "3 5 4\n",
      "1 1 1\n",
      "1 1 1 1 1\n",
      "14\n"
     ]
    }
   ],
   "source": [
    "from collections import defaultdict as dd\n",
    "import sys\n",
    "input = lambda: sys.stdin.readline().rstrip()\n",
    "\n",
    "n, m, k = map(int, input().split())\n",
    "a = list(map(int, input().split()))\n",
    "b = list(map(int, input().split()))\n",
    "\n",
    "a_conts1 = []\n",
    "b_conts1 = []\n",
    "\n",
    "cont1 = 0\n",
    "for i in range(n):\n",
    "    if a[i] == 1:\n",
    "        cont1 += 1\n",
    "    else:\n",
    "        if cont1:\n",
    "            a_conts1.append(cont1)\n",
    "            cont1 = 0\n",
    "if cont1:\n",
    "    a_conts1.append(cont1)\n",
    "    cont1 = 0            \n",
    "\n",
    "cont1 = 0\n",
    "for i in range(m):\n",
    "    if b[i] == 1:\n",
    "        cont1 += 1\n",
    "    else:\n",
    "        if cont1:\n",
    "            b_conts1.append(cont1)\n",
    "            cont1 = 0\n",
    "if cont1:\n",
    "    b_conts1.append(cont1)\n",
    "    cont1 = 0\n",
    "\n",
    "a_ct = dd(int)\n",
    "b_ct = dd(int)\n",
    "\n",
    "for v in a_conts1:\n",
    "    a_ct[v] += 1\n",
    "    \n",
    "for v in b_conts1:\n",
    "    b_ct[v] += 1\n",
    "    \n",
    "recs = []\n",
    "for akey in a_ct:\n",
    "    for bkey in b_ct:\n",
    "         recs.append((akey, bkey, a_ct[akey] * b_ct[bkey]))\n",
    "            \n",
    "total = 0\n",
    "for mod in range(1, int(k ** 0.5) + 1):\n",
    "    if k % mod == 0:\n",
    "        a = mod\n",
    "        b = k // mod\n",
    "        \n",
    "        for ak, bk, c in recs:\n",
    "            a_diff = ak - a\n",
    "            b_diff = bk - b\n",
    "            if a_diff >= 0 and b_diff >= 0:\n",
    "                total += (a_diff + 1) * (b_diff + 1) * c \n",
    "                \n",
    "            if a != b:                \n",
    "                a_diff = ak - b\n",
    "                b_diff = bk - a\n",
    "                if a_diff >= 0 and b_diff >= 0:\n",
    "                    total += (a_diff + 1) * (b_diff + 1) * c\n",
    "    \n",
    "print(total)"
   ]
  },
  {
   "cell_type": "code",
   "execution_count": null,
   "metadata": {},
   "outputs": [],
   "source": [
    "(3, 5)에 (1, 4) 6\n",
    "(3, 5)에 (2, 2) 8\n",
    "(3, 5)에 (4, 1) 0"
   ]
  },
  {
   "cell_type": "markdown",
   "metadata": {},
   "source": [
    "https://codeforces.com/problemset/problem/1313/C1 C1. Skyscrapers (easy version)"
   ]
  },
  {
   "cell_type": "code",
   "execution_count": 4,
   "metadata": {},
   "outputs": [
    {
     "name": "stdout",
     "output_type": "stream",
     "text": [
      "3\n",
      "10 6 8\n",
      "10 6 6\n"
     ]
    }
   ],
   "source": [
    "import sys\n",
    "input = lambda: sys.stdin.readline().rstrip()\n",
    "\n",
    "n = int(input())\n",
    "li = list(map(int, input().split()))\n",
    "\n",
    "max_r = -1\n",
    "max_r_mid = -1\n",
    "for mid in range(n):\n",
    "    temp_r = 0\n",
    "    temp_r += li[mid]\n",
    "\n",
    "    max_pv = li[mid]\n",
    "    cur_i = mid\n",
    "    while True:\n",
    "        cur_i -= 1\n",
    "        if cur_i < 0:\n",
    "            break\n",
    "        max_pv = min(li[cur_i], max_pv)\n",
    "        temp_r += max_pv\n",
    "\n",
    "    max_pv = li[mid]\n",
    "    cur_i = mid\n",
    "    while True:\n",
    "        cur_i += 1\n",
    "        if cur_i >= n:\n",
    "            break\n",
    "        max_pv = min(li[cur_i], max_pv)\n",
    "        temp_r += max_pv\n",
    "\n",
    "    if temp_r > max_r:\n",
    "        max_r = temp_r\n",
    "        max_r_mid = mid\n",
    "\n",
    "result = [0] * n\n",
    "result[max_r_mid] = li[max_r_mid]\n",
    "for i in range(max_r_mid - 1, -1, -1):\n",
    "    result[i] = min(result[i + 1], li[i])\n",
    "\n",
    "for i in range(max_r_mid + 1, n):\n",
    "    result[i] = min(result[i - 1], li[i])\n",
    "\n",
    "print(*result)"
   ]
  },
  {
   "cell_type": "markdown",
   "metadata": {},
   "source": [
    "https://codeforces.com/problemset/problem/1299/A A. Anu Has a Function"
   ]
  },
  {
   "cell_type": "code",
   "execution_count": 26,
   "metadata": {},
   "outputs": [
    {
     "name": "stdout",
     "output_type": "stream",
     "text": [
      "4\n",
      "4 4 4 4\n",
      "4 4 4 4\n"
     ]
    }
   ],
   "source": [
    "import sys\n",
    "# input = lambda: sys.stdin.readline().rstrip()\n",
    "\n",
    "n = int(input())\n",
    "li = list(map(int, input().split()))\n",
    "\n",
    "total_cts = [0] * 31\n",
    "cts = [[0] * 31 for _ in range(n)]\n",
    "for i in range(n):\n",
    "    v = li[i]\n",
    "    bv = bin(v)\n",
    "    \n",
    "    cur = 0\n",
    "    for j in range(len(bv) - 1, 1, -1):\n",
    "        if bv[j] == '1':\n",
    "            cts[i][cur] = 1\n",
    "            total_cts[cur] += 1\n",
    "        cur += 1\n",
    "        \n",
    "to_save = -1\n",
    "for i in range(30, -1, -1):\n",
    "    if total_cts[i] == 1:\n",
    "        to_save = i\n",
    "        break\n",
    "        \n",
    "if to_save == -1:\n",
    "    print(*li)\n",
    "else:\n",
    "    target_i = -1\n",
    "    for i in range(n):\n",
    "        if cts[i][to_save] == 1:\n",
    "            target_i = i\n",
    "            break\n",
    "            \n",
    "    result = [li[target_i]]\n",
    "    for i in range(n):\n",
    "        if i != target_i:\n",
    "            result.append(li[i])\n",
    "            \n",
    "    print(*result)"
   ]
  },
  {
   "cell_type": "markdown",
   "metadata": {},
   "source": [
    "https://codeforces.com/problemset/problem/1296/C C. Yet Another Walking Robot"
   ]
  },
  {
   "cell_type": "markdown",
   "metadata": {},
   "source": [
    "12.46 12.58"
   ]
  },
  {
   "cell_type": "code",
   "execution_count": 33,
   "metadata": {},
   "outputs": [
    {
     "name": "stdout",
     "output_type": "stream",
     "text": [
      "5\n",
      "LLDDR\n",
      "-1\n"
     ]
    }
   ],
   "source": [
    "from collections import defaultdict as dd\n",
    "import sys\n",
    "input = lambda: sys.stdin.readline().rstrip()\n",
    "\n",
    "inf = float('inf')\n",
    "\n",
    "for _ in range(int(input())):\n",
    "    n = int(input())\n",
    "    s = input()\n",
    "\n",
    "    recents = dd(int)\n",
    "    x, y = 0, 0\n",
    "    recents[(x, y)] = -1\n",
    "    min_dist = inf\n",
    "    min_dist_intv = [-1, -1]\n",
    "    for i in range(n):\n",
    "        if s[i] == 'L':\n",
    "            x -= 1\n",
    "        elif s[i] == 'R':\n",
    "            x += 1\n",
    "        elif s[i] == 'U':\n",
    "            y -= 1\n",
    "        else:\n",
    "            y += 1\n",
    "\n",
    "        if (x, y) in recents:\n",
    "            dist = i - recents[(x, y)]\n",
    "            if dist < min_dist:\n",
    "                min_dist = dist\n",
    "                min_dist_intv = [recents[(x, y)] + 2, i + 1]\n",
    "\n",
    "        recents[(x, y)] = i\n",
    "\n",
    "    if min_dist == inf:\n",
    "        print(-1)\n",
    "    else:\n",
    "        print(*min_dist_intv)"
   ]
  },
  {
   "cell_type": "markdown",
   "metadata": {},
   "source": [
    "https://codeforces.com/problemset/problem/1272/D D. Remove One Element"
   ]
  },
  {
   "cell_type": "code",
   "execution_count": null,
   "metadata": {},
   "outputs": [],
   "source": [
    "         1 2 5 3 4\n",
    "비사용   1 2 3 1 2\n",
    "사용함   0 1 2 3 1\n",
    "         0 "
   ]
  },
  {
   "cell_type": "code",
   "execution_count": null,
   "metadata": {},
   "outputs": [],
   "source": [
    "   1   2   5   3   4\n",
    "     증 증   증x  증\n",
    "            효력ㅇ"
   ]
  },
  {
   "cell_type": "code",
   "execution_count": 71,
   "metadata": {},
   "outputs": [
    {
     "name": "stdout",
     "output_type": "stream",
     "text": [
      "9\n",
      "1 2 9 3 4 10 5 6 11\n",
      "5\n"
     ]
    }
   ],
   "source": [
    "### WA\n",
    "import sys\n",
    "# input = lambda: sys.stdin.readline().rstrip()\n",
    "\n",
    "n = int(input())\n",
    "li = list(map(int, input().split()))\n",
    "\n",
    "status = []\n",
    "for i in range(n - 1):\n",
    "    if li[i] < li[i + 1]:\n",
    "        if status and status[-1][0] >= 1:\n",
    "            status[-1][0] += 1\n",
    "        else:\n",
    "            status.append([1])\n",
    "    else:\n",
    "        if i == 0 or i == n - 2:\n",
    "            status.append([0, False])\n",
    "        else:\n",
    "            if li[i - 1] < li[i + 1]:\n",
    "                status.append([0, True])\n",
    "            else:\n",
    "                status.append([0, False])\n",
    "    \n",
    "max_r = 1\n",
    "for i in range(len(status)):\n",
    "    if status[i][0] >= 1:\n",
    "        max_r = max(max_r, status[i][0] + 1)\n",
    "    else:\n",
    "        if status[i][1] and i - 1 >= 0 and i + 1 < len(status) and status[i - 1][0] and status[i + 1][0]:\n",
    "            max_r = max(max_r, status[i - 1][0] + status[i + 1][0] + 1)\n",
    "            \n",
    "print(max_r)"
   ]
  },
  {
   "cell_type": "code",
   "execution_count": 56,
   "metadata": {},
   "outputs": [
    {
     "data": {
      "text/plain": [
       "[[1], [0, True], [1], [0, True]]"
      ]
     },
     "execution_count": 56,
     "metadata": {},
     "output_type": "execute_result"
    }
   ],
   "source": [
    " 1 2 5 3 4\n",
    " 1 2 3 1 2\n",
    " 1 2 3 3 4"
   ]
  },
  {
   "cell_type": "code",
   "execution_count": 77,
   "metadata": {},
   "outputs": [
    {
     "name": "stdout",
     "output_type": "stream",
     "text": [
      "4\n",
      "1 2 3 1\n",
      "3\n"
     ]
    }
   ],
   "source": [
    "### AC\n",
    "import sys\n",
    "input = lambda: sys.stdin.readline().rstrip()\n",
    "\n",
    "n = int(input())\n",
    "li = list(map(int, input().split()))\n",
    "\n",
    "dp = [[0] * 2 for _ in range(n)]\n",
    "dp[0][0] = 1\n",
    "dp[0][1] = 0\n",
    "dp[1][1] = 1\n",
    "if li[0] < li[1]:\n",
    "    dp[1][0] = 2\n",
    "else:\n",
    "    dp[1][0] = 1\n",
    "    \n",
    "for i in range(2, n):\n",
    "    if li[i - 1] < li[i]:\n",
    "        dp[i][0] = dp[i - 1][0] + 1\n",
    "    else:\n",
    "        dp[i][0] = 1\n",
    "    \n",
    "    t1 = 1\n",
    "    if li[i - 1] < li[i]:\n",
    "        t1 = dp[i - 1][1] + 1\n",
    "        \n",
    "    t2 = 1\n",
    "    if li[i - 2] < li[i]:\n",
    "        t2 = dp[i - 2][0] + 1\n",
    "        \n",
    "    dp[i][1] = max(t1, t2)\n",
    "    \n",
    "max_r = 0\n",
    "for v in dp:\n",
    "    max_r = max(max_r, max(v))\n",
    "    \n",
    "print(max_r)"
   ]
  },
  {
   "cell_type": "code",
   "execution_count": 80,
   "metadata": {},
   "outputs": [
    {
     "name": "stdout",
     "output_type": "stream",
     "text": [
      "7\n",
      "6 5 4 3 2 4 3\n",
      "2\n"
     ]
    }
   ],
   "source": [
    "### AC\n",
    "import sys\n",
    "input = lambda: sys.stdin.readline().rstrip()\n",
    "\n",
    "n = int(input())\n",
    "li = list(map(int, input().split()))\n",
    "\n",
    "to_right = [1] * n\n",
    "to_left = [1] * n\n",
    "\n",
    "for i in range(1, n):\n",
    "    if li[i - 1] < li[i]:\n",
    "        to_right[i] = to_right[i - 1] + 1\n",
    "    else:\n",
    "        to_right[i] = 1\n",
    "\n",
    "for i in range(n - 2, -1, -1):\n",
    "    if li[i] < li[i + 1]:\n",
    "        to_left[i] = to_left[i + 1] + 1\n",
    "    else:\n",
    "        to_left[i] = 1\n",
    "\n",
    "max_r = max(to_right)\n",
    "for i in range(1, n - 1):\n",
    "    if li[i - 1] < li[i + 1]:\n",
    "        max_r = max(max_r, to_right[i - 1] + to_left[i + 1])\n",
    "\n",
    "print(max_r)"
   ]
  },
  {
   "cell_type": "markdown",
   "metadata": {},
   "source": [
    "https://codeforces.com/problemset/problem/1269/B B. Modulo Equality"
   ]
  },
  {
   "cell_type": "markdown",
   "metadata": {},
   "source": [
    "3.05 3.26"
   ]
  },
  {
   "cell_type": "code",
   "execution_count": 6,
   "metadata": {},
   "outputs": [
    {
     "name": "stdout",
     "output_type": "stream",
     "text": [
      "5 10\n",
      "0 0 0 1 2\n",
      "2 1 0 0 0\n",
      "0 3 [0]\n",
      "0\n"
     ]
    }
   ],
   "source": [
    "from collections import defaultdict as dd\n",
    "import sys\n",
    "input = lambda: sys.stdin.readline().rstrip()\n",
    "\n",
    "inf = float('inf')\n",
    "\n",
    "n, m = map(int, input().split())\n",
    "a = list(map(int, input().split()))\n",
    "b = sorted(map(int, input().split()))\n",
    "\n",
    "a_ct = dd(int)\n",
    "b_ct = dd(int)\n",
    "\n",
    "for v in a:\n",
    "    a_ct[str(v)] += 1\n",
    "    \n",
    "for v in b:\n",
    "    b_ct[str(v)] += 1\n",
    "    \n",
    "target = a[0]\n",
    "target_c = a_ct[str(a[0])]\n",
    "to_checks = []\n",
    "for key in b_ct:\n",
    "    if b_ct[key] == target_c:\n",
    "        to_checks.append(int(key))\n",
    "\n",
    "cands = []\n",
    "for bv in to_checks:\n",
    "    if target <= bv:\n",
    "        cands.append(bv - target)\n",
    "    else:\n",
    "        cands.append(m - target + bv)\n",
    "        \n",
    "min_r = inf\n",
    "for cand in cands:\n",
    "    nb = [0] * n\n",
    "    for i in range(n):\n",
    "        nb[i] = (a[i] + cand) % m\n",
    "        \n",
    "    if sorted(nb) == b:\n",
    "        min_r = min(min_r, cand)\n",
    "        \n",
    "print(min_r)"
   ]
  },
  {
   "cell_type": "code",
   "execution_count": 8,
   "metadata": {},
   "outputs": [
    {
     "name": "stdout",
     "output_type": "stream",
     "text": [
      "4 3\n",
      "0 0 2 1\n",
      "2 0 1 1\n",
      "1\n"
     ]
    }
   ],
   "source": [
    "import sys\n",
    "input = lambda: sys.stdin.readline().rstrip()\n",
    "\n",
    "inf = float('inf')\n",
    "\n",
    "n, m = map(int, input().split())\n",
    "a = list(map(int, input().split()))\n",
    "b = sorted(map(int, input().split()))\n",
    "\n",
    "cands = set()\n",
    "target = b[0]\n",
    "for av in a:\n",
    "    if av <= target:\n",
    "        cand = target - av\n",
    "    else:\n",
    "        cand = m - av + target\n",
    "        \n",
    "    cands.add(cand)\n",
    "    \n",
    "min_r = inf\n",
    "for cand in cands:\n",
    "    nb = [0] * n\n",
    "    for i in range(n):\n",
    "        nb[i] = (a[i] + cand) % m\n",
    "        \n",
    "    if sorted(nb) == b:\n",
    "        min_r = min(min_r, cand)\n",
    "        \n",
    "print(min_r)"
   ]
  },
  {
   "cell_type": "markdown",
   "metadata": {},
   "source": [
    "https://codeforces.com/problemset/problem/1264/A A. Beautiful Regional Contest"
   ]
  },
  {
   "cell_type": "markdown",
   "metadata": {},
   "source": [
    "3.31 3.52 -1"
   ]
  },
  {
   "cell_type": "code",
   "execution_count": null,
   "metadata": {},
   "outputs": [],
   "source": [
    "골드 1명 줌, 실버 1명 줌\n",
    "이분 탐색"
   ]
  },
  {
   "cell_type": "code",
   "execution_count": 25,
   "metadata": {},
   "outputs": [
    {
     "name": "stdout",
     "output_type": "stream",
     "text": [
      "1\n",
      "8\n",
      "8 7 6 5 4 3 2 1\n",
      "1 2 1\n"
     ]
    }
   ],
   "source": [
    "import sys\n",
    "# input = lambda: sys.stdin.readline().rstrip()\n",
    "\n",
    "for _ in range(int(input())):\n",
    "    n = int(input())\n",
    "    li = list(map(int, input().split()))\n",
    "\n",
    "    max_p = n // 2\n",
    "\n",
    "    gc = 0\n",
    "    cri = li[0]\n",
    "    silver_start = -1\n",
    "    ip = True\n",
    "    for i in range(n):\n",
    "        if li[i] == cri:\n",
    "            gc += 1\n",
    "        else:\n",
    "            silver_start = i\n",
    "            break\n",
    "\n",
    "    if silver_start == -1:\n",
    "        ip = False\n",
    "\n",
    "    if ip:\n",
    "        sc = 0\n",
    "        cri = li[silver_start]\n",
    "        bronze_start = -1\n",
    "        for i in range(silver_start, n):\n",
    "            if li[i] == cri:\n",
    "                sc += 1\n",
    "            else:\n",
    "                if gc < sc:\n",
    "                    bronze_start = i\n",
    "                    break\n",
    "                else:\n",
    "                    cri = li[i]\n",
    "                    sc += 1\n",
    "\n",
    "        if sc == 0:\n",
    "            ip = False\n",
    "        if bronze_start == -1:\n",
    "            ip = False\n",
    "        if gc + sc > max_p:\n",
    "            ip = False\n",
    "\n",
    "    if ip:\n",
    "        max_p_bc = 0\n",
    "        bc = 0\n",
    "        cri = li[bronze_start]\n",
    "        for i in range(bronze_start, n):\n",
    "            if li[i] == cri:\n",
    "                bc += 1\n",
    "            else:\n",
    "                if gc + sc + bc > max_p:\n",
    "                    break\n",
    "                else:\n",
    "                    max_p_bc = bc\n",
    "                    cri = li[i]\n",
    "                    bc += 1\n",
    "\n",
    "        if gc + sc + bc <= max_p:\n",
    "            max_p_bc = bc\n",
    "            \n",
    "        if max_p_bc == 0:\n",
    "            ip = False\n",
    "        else:\n",
    "            bc = max_p_bc\n",
    "            \n",
    "            if gc >= bc:\n",
    "                ip = False\n",
    "\n",
    "    if not ip:\n",
    "        print(0, 0, 0)\n",
    "    else:\n",
    "        print(gc, sc, bc)"
   ]
  },
  {
   "cell_type": "markdown",
   "metadata": {},
   "source": [
    "https://codeforces.com/problemset/problem/1256/D D. Binary String Minimizing"
   ]
  },
  {
   "cell_type": "markdown",
   "metadata": {},
   "source": [
    "6.53 7.01 -1"
   ]
  },
  {
   "cell_type": "code",
   "execution_count": 37,
   "metadata": {},
   "outputs": [
    {
     "name": "stdout",
     "output_type": "stream",
     "text": [
      "1\n",
      "4 1\n",
      "0000\n",
      "0000\n"
     ]
    }
   ],
   "source": [
    "from collections import deque\n",
    "import sys\n",
    "input = lambda: sys.stdin.readline().rstrip()\n",
    "\n",
    "for _ in range(int(input())):\n",
    "    n, k = map(int, input().split())\n",
    "    li = list(map(int, input()))\n",
    "\n",
    "    zeros = deque()\n",
    "    for i in range(n):\n",
    "        if li[i] == 0:\n",
    "            zeros.append(i)\n",
    "\n",
    "    result = [1] * n\n",
    "    cur_target = 0\n",
    "    while zeros:\n",
    "        zero = zeros.popleft()\n",
    "        if zero == cur_target:\n",
    "            result[zero] = 0\n",
    "            cur_target += 1\n",
    "            continue\n",
    "\n",
    "        diff = zero - cur_target\n",
    "        to_move = min(diff, k)\n",
    "        k -= to_move\n",
    "        zero -= to_move\n",
    "        cur_target = zero + 1\n",
    "\n",
    "        result[zero] = 0\n",
    "\n",
    "    print(''.join(map(str, result)))"
   ]
  },
  {
   "cell_type": "markdown",
   "metadata": {},
   "source": [
    "https://codeforces.com/problemset/problem/1253/C C. Sweets Eating"
   ]
  },
  {
   "cell_type": "markdown",
   "metadata": {},
   "source": [
    "7.01 7.21"
   ]
  },
  {
   "cell_type": "code",
   "execution_count": null,
   "metadata": {},
   "outputs": [],
   "source": [
    "9 2\n",
    "6 19 3 4 4 2 6 7 8"
   ]
  },
  {
   "cell_type": "code",
   "execution_count": null,
   "metadata": {},
   "outputs": [],
   "source": [
    "2\n",
    "2,3\n",
    "\n",
    "0     1     2    3    4\n",
    "     19,8, 8,7, 3,2, 2,2\n",
    "\n",
    "0     1     2    3    4\n",
    "19   8,8   7,3  2,2   2\n"
   ]
  },
  {
   "cell_type": "code",
   "execution_count": null,
   "metadata": {},
   "outputs": [],
   "source": [
    "19,8, 8,7, 3,2, 2,2\n",
    "\n",
    "19    8    3    2\n",
    "8     7    2    2"
   ]
  },
  {
   "cell_type": "code",
   "execution_count": 43,
   "metadata": {},
   "outputs": [
    {
     "name": "stdout",
     "output_type": "stream",
     "text": [
      "1 1\n",
      "7\n",
      "7\n"
     ]
    }
   ],
   "source": [
    "import sys\n",
    "input = lambda: sys.stdin.readline().rstrip()\n",
    "\n",
    "n, m = map(int, input().split())\n",
    "li = sorted(map(int, input().split()), reverse=True)\n",
    "\n",
    "sums = []\n",
    "for start in range(m):\n",
    "    temp = 0\n",
    "    for i in range(start, n, m):\n",
    "        temp += li[i]\n",
    "        \n",
    "    sums.append(temp)\n",
    "    \n",
    "d = 1\n",
    "cur = 1\n",
    "init = 0\n",
    "for i in range(n):\n",
    "    init += li[i] * d\n",
    "    cur += 1\n",
    "    if cur > m:\n",
    "        d += 1\n",
    "        cur = 1\n",
    "        \n",
    "result = [0] * n\n",
    "result[n - 1] = init\n",
    "cur_sums_i = 0\n",
    "nxt_del = 0\n",
    "cur = init\n",
    "for i in range(n - 2, -1, -1):\n",
    "    cur -= sums[cur_sums_i]\n",
    "    result[i] = cur\n",
    "    \n",
    "    sums[cur_sums_i] -= li[nxt_del]\n",
    "    nxt_del += 1\n",
    "    \n",
    "    cur_sums_i += 1\n",
    "    if cur_sums_i == m:\n",
    "        cur_sums_i = 0\n",
    "        \n",
    "print(*result)"
   ]
  },
  {
   "cell_type": "code",
   "execution_count": 45,
   "metadata": {},
   "outputs": [
    {
     "name": "stdout",
     "output_type": "stream",
     "text": [
      "9 2\n",
      "1 2 3 4 5 6 7 8 9\n",
      "1 3 7 13 22 34 50 70 95\n"
     ]
    }
   ],
   "source": [
    "n, m = map(int, input().split())\n",
    "li = sorted(map(int, input().split()))\n",
    "\n",
    "sli = [0] * n\n",
    "cumul = 0\n",
    "for i in range(n):\n",
    "    cumul += li[i]\n",
    "    sli[i] = cumul\n",
    "\n",
    "dp = [0] * n\n",
    "for i in range(m):\n",
    "    dp[i] = sli[i]\n",
    "    \n",
    "for i in range(m, n):\n",
    "    dp[i] = dp[i - m] + sli[i]\n",
    "    \n",
    "print(*dp)"
   ]
  },
  {
   "cell_type": "markdown",
   "metadata": {},
   "source": [
    "https://codeforces.com/problemset/problem/1250/L L. Divide The Students"
   ]
  },
  {
   "cell_type": "markdown",
   "metadata": {},
   "source": [
    "8.06 8.21"
   ]
  },
  {
   "cell_type": "code",
   "execution_count": 72,
   "metadata": {},
   "outputs": [
    {
     "name": "stdout",
     "output_type": "stream",
     "text": [
      "3 5 7\n",
      "5\n"
     ]
    }
   ],
   "source": [
    "import sys\n",
    "input = lambda: sys.stdin.readline().rstrip()\n",
    "\n",
    "for _ in range(int(input())):\n",
    "    a, b, c = map(int, input().split())\n",
    "    if a < c:\n",
    "        a, c = c, a\n",
    "    \n",
    "    g1, g2, g3 = 0, 0, 0\n",
    "\n",
    "    g1 = a // 2\n",
    "    g2 = a // 2\n",
    "    if a % 2 != 0:\n",
    "        g2 += 1\n",
    "    g3 = c\n",
    "\n",
    "    sv = g1 + g2 + g3\n",
    "    max_v = max(g1, g2, g3)\n",
    "\n",
    "    can_use = min(b, max_v * 3 - sv)\n",
    "    b -= can_use\n",
    "\n",
    "    r = max_v\n",
    "    if b > 0:\n",
    "        temp = b // 3\n",
    "        r += temp\n",
    "        if b % 3 != 0:\n",
    "            r += 1\n",
    "\n",
    "    print(r)"
   ]
  }
 ],
 "metadata": {
  "kernelspec": {
   "display_name": "Python 3",
   "language": "python",
   "name": "python3"
  },
  "language_info": {
   "codemirror_mode": {
    "name": "ipython",
    "version": 3
   },
   "file_extension": ".py",
   "mimetype": "text/x-python",
   "name": "python",
   "nbconvert_exporter": "python",
   "pygments_lexer": "ipython3",
   "version": "3.7.4"
  }
 },
 "nbformat": 4,
 "nbformat_minor": 2
}
