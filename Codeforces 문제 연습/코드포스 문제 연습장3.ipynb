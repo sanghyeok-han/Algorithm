{
 "cells": [
  {
   "cell_type": "markdown",
   "metadata": {},
   "source": [
    "https://codeforces.com/contest/1672"
   ]
  },
  {
   "cell_type": "markdown",
   "metadata": {},
   "source": [
    "D"
   ]
  },
  {
   "cell_type": "code",
   "execution_count": 26,
   "metadata": {},
   "outputs": [
    {
     "name": "stdout",
     "output_type": "stream",
     "text": [
      "1\n",
      "9\n",
      "3 1 1 1 2 2 1 2 3\n",
      "2 2 1 1 1 1 2 3 3\n",
      "8 3 3\n",
      "7 2 2\n",
      "6 1 1\n",
      "5 2 2\n",
      "4 2 2\n",
      "3 1 2\n",
      "2 1 2\n",
      "1 1 2\n",
      "0 3 2\n",
      "YES\n"
     ]
    }
   ],
   "source": [
    "from collections import defaultdict as dd\n",
    "import sys\n",
    "# input = lambda: sys.stdin.readline().rstrip()\n",
    "\n",
    "for _ in range(int(input())):\n",
    "    n = int(input())\n",
    "    a = list(map(int, input().split()))\n",
    "    b = list(map(int, input().split()))\n",
    "\n",
    "    counts = dd(int)\n",
    "    ai = n - 1\n",
    "    bi = n - 1\n",
    "    cur = -1\n",
    "    ip = True\n",
    "    while ai >= 0:\n",
    "        if bi >= 0:\n",
    "            cur = b[bi]\n",
    "            bi -= 1\n",
    "            while bi >= 0:\n",
    "                if b[bi] == cur:\n",
    "                    counts[b[bi]] += 1\n",
    "                    bi -= 1\n",
    "                else:\n",
    "                    break\n",
    "        else:\n",
    "            cur = -1\n",
    "\n",
    "        if cur != -1: \n",
    "            while ai >= 0:\n",
    "                if a[ai] == cur:\n",
    "                    ai -= 1\n",
    "                    break\n",
    "                else:\n",
    "                    if counts[a[ai]]:\n",
    "                        counts[a[ai]] -= 1\n",
    "                        ai -= 1\n",
    "                    else:\n",
    "                        ip = False\n",
    "                        break\n",
    "        else:\n",
    "            while ai >= 0:\n",
    "                if counts[a[ai]]:\n",
    "                    counts[a[ai]] -= 1\n",
    "                    ai -= 1\n",
    "                else:\n",
    "                    ip = False\n",
    "                    break                \n",
    "                        \n",
    "        if not ip:\n",
    "            break\n",
    "\n",
    "    if ip:\n",
    "        print('YES')\n",
    "    else:\n",
    "        print('NO')"
   ]
  },
  {
   "cell_type": "code",
   "execution_count": 25,
   "metadata": {},
   "outputs": [
    {
     "data": {
      "text/plain": [
       "2"
      ]
     },
     "execution_count": 25,
     "metadata": {},
     "output_type": "execute_result"
    }
   ],
   "source": [
    "cur"
   ]
  },
  {
   "cell_type": "code",
   "execution_count": 21,
   "metadata": {},
   "outputs": [
    {
     "data": {
      "text/plain": [
       "2"
      ]
     },
     "execution_count": 21,
     "metadata": {},
     "output_type": "execute_result"
    }
   ],
   "source": [
    "1\n",
    "9\n",
    "3 1 1 1 2 2 1 2 3\n",
    "2 2 1 1 1 1 2 3 3\n",
    "YES"
   ]
  },
  {
   "cell_type": "code",
   "execution_count": 19,
   "metadata": {},
   "outputs": [
    {
     "name": "stdout",
     "output_type": "stream",
     "text": [
      "6\n",
      "1 2 1 3 1 2\n",
      "3 1 1 1 2 2\n",
      "YES\n"
     ]
    }
   ],
   "source": [
    "from collections import defaultdict as dd\n",
    "import sys\n",
    "input = lambda: sys.stdin.readline().rstrip()\n",
    "\n",
    "for _ in range(int(input())):\n",
    "    n = int(input())\n",
    "    a = list(map(int, input().split()))\n",
    "    b = list(map(int, input().split()))\n",
    "\n",
    "    counts = dd(int)\n",
    "    ai = n - 1\n",
    "    bi = n - 1\n",
    "    cur = -1\n",
    "    ip = True\n",
    "    while ai >= 0:\n",
    "        if bi >= 0:\n",
    "            cur = b[bi]\n",
    "            bi -= 1\n",
    "            while bi >= 0:\n",
    "                if b[bi] == cur:\n",
    "                    counts[b[bi]] += 1\n",
    "                    bi -= 1\n",
    "                else:\n",
    "                    break\n",
    "\n",
    "        while ai >= 0:\n",
    "            if a[ai] == cur:\n",
    "                ai -= 1\n",
    "                break\n",
    "            else:\n",
    "                if counts[a[ai]]:\n",
    "                    counts[a[ai]] -= 1\n",
    "                    ai -= 1\n",
    "                    break\n",
    "                else:\n",
    "                    ip = False\n",
    "                    break\n",
    "\n",
    "        if not ip:\n",
    "            break\n",
    "\n",
    "    if ip:\n",
    "        print('YES')\n",
    "    else:\n",
    "        print('NO')"
   ]
  },
  {
   "cell_type": "markdown",
   "metadata": {},
   "source": [
    "https://codeforces.com/contest/466/problem/B"
   ]
  },
  {
   "cell_type": "code",
   "execution_count": null,
   "metadata": {},
   "outputs": [],
   "source": [
    "# 일단 포기함\n",
    "\n",
    "n, a, b = map(int, input().split())\n",
    "\n",
    "if a * b >= 6 * n:\n",
    "    print(a * b)\n",
    "    print(a, b)\n",
    "else:\n",
    "    min_r = float('inf')\n",
    "    for na in range(a, a + 10):\n",
    "        for nb in range(b, b + 10):\n",
    "            if na * nb >= 6 * n:\n",
    "                min_r = min(min_r, na * nb)"
   ]
  },
  {
   "cell_type": "markdown",
   "metadata": {},
   "source": [
    "https://codeforces.com/contest/1661 8:08 ~"
   ]
  },
  {
   "cell_type": "markdown",
   "metadata": {},
   "source": [
    "A"
   ]
  },
  {
   "cell_type": "code",
   "execution_count": 4,
   "metadata": {},
   "outputs": [
    {
     "name": "stdout",
     "output_type": "stream",
     "text": [
      "4\n",
      "3 3 10 10\n",
      "10 10 3 3\n",
      "0\n"
     ]
    }
   ],
   "source": [
    "import sys\n",
    "input = lambda: sys.stdin.readline().rstrip()\n",
    "\n",
    "for _ in range(int(input())):\n",
    "    n = int(input())\n",
    "    a = list(map(int, input().split()))\n",
    "    b = list(map(int, input().split()))\n",
    "\n",
    "    for i in range(n):\n",
    "        if a[i] > b[i]:\n",
    "            b[i], a[i] = a[i], b[i]\n",
    "\n",
    "    r = 0\n",
    "    for i in range(n - 1):\n",
    "        r += abs(a[i] - a[i + 1]) + abs(b[i] - b[i + 1])\n",
    "\n",
    "    print(r)"
   ]
  },
  {
   "cell_type": "markdown",
   "metadata": {},
   "source": [
    "B"
   ]
  },
  {
   "cell_type": "code",
   "execution_count": null,
   "metadata": {},
   "outputs": [],
   "source": [
    "from collections import deque\n",
    "\n",
    "mod = 32768\n",
    "inf = float('inf')\n",
    "\n",
    "n = int(input())\n",
    "li = list(map(int, input().split()))\n",
    "\n",
    "needed = [inf] * (mod + 1)\n",
    "needed[mod] = 0\n",
    "\n",
    "queue = deque()\n",
    "queue.append(mod)\n",
    "while queue:\n",
    "    value = queue.popleft()\n",
    "    \n",
    "    if value >= 1:\n",
    "        v = value - 1\n",
    "        if needed[v] == inf:\n",
    "            needed[v] = needed[value] + 1\n",
    "            queue.append(v)\n",
    "        \n",
    "    if value >= 2 and value % 2 == 0:\n",
    "        v = value // 2\n",
    "        if needed[v] == inf:\n",
    "            needed[v] = needed[value] + 1\n",
    "            queue.append(v)\n",
    "            \n",
    "    if (value + mod) % 2 == 0:\n",
    "        v = (value + mod) // 2\n",
    "        if needed[v] == inf:\n",
    "            needed[v] = needed[value] + 1\n",
    "            queue.append(v)\n",
    "            \n",
    "needed[0] = 0\n",
    "\n",
    "r = [needed[v] for v in li]\n",
    "\n",
    "print(*r)"
   ]
  },
  {
   "cell_type": "markdown",
   "metadata": {},
   "source": [
    "C"
   ]
  },
  {
   "cell_type": "code",
   "execution_count": 21,
   "metadata": {},
   "outputs": [
    {
     "name": "stdout",
     "output_type": "stream",
     "text": [
      "7\n",
      "2 5 4 8 3 7 4\n",
      "16\n"
     ]
    }
   ],
   "source": [
    "import sys\n",
    "input = lambda: sys.stdin.readline().rstrip()\n",
    "\n",
    "for _ in range(int(input())):\n",
    "    n = int(input())\n",
    "    li = list(map(int, input().split()))\n",
    "\n",
    "    max_value = max(li)\n",
    "    sv = 0\n",
    "    for v in li:\n",
    "        sv += max_value - v\n",
    "\n",
    "    r = 0\n",
    "    if sv % 3 != 2:\n",
    "        r = sv // 3 * 2 + sv % 3\n",
    "    else:\n",
    "        r = 2 + sv // 3 * 2\n",
    "\n",
    "    print(r)"
   ]
  },
  {
   "cell_type": "code",
   "execution_count": 52,
   "metadata": {},
   "outputs": [
    {
     "name": "stdout",
     "output_type": "stream",
     "text": [
      "4\n",
      "1 1 3 4\n",
      "5\n"
     ]
    }
   ],
   "source": [
    "n = int(input())\n",
    "li = list(map(int, input().split()))\n",
    "\n",
    "max_value = max(li)\n",
    "sv = 0\n",
    "for v in li:\n",
    "    sv += max_value - v\n",
    "    \n",
    "r = 0\n",
    "if sv % 3 != 2:\n",
    "    r = sv // 3 * 2 + sv % 3\n",
    "else:\n",
    "    r = 2 + sv // 3 * 2\n",
    "\n",
    "print(r)5"
   ]
  },
  {
   "cell_type": "code",
   "execution_count": 62,
   "metadata": {},
   "outputs": [
    {
     "name": "stdout",
     "output_type": "stream",
     "text": [
      "5\n",
      "4 4 3 5 5\n",
      "3\n"
     ]
    }
   ],
   "source": [
    "import sys\n",
    "input = lambda: sys.stdin.readline().rstrip()\n",
    "\n",
    "def calcul(c1, c2):\n",
    "    if c2 > c1:\n",
    "        base = (c1 + 1) * 2 - 1\n",
    "        diff = c2 - c1\n",
    "        needed = base + diff\n",
    "        diff -= 1\n",
    "        diff //= 3\n",
    "        needed += diff\n",
    "    elif c1 == c2:\n",
    "        needed = 2 * c1\n",
    "    elif c1 > c2:\n",
    "        needed = 2 * c1 - 1\n",
    "        \n",
    "    return needed\n",
    "\n",
    "for _ in range(int(input())):\n",
    "    n = int(input())\n",
    "    li = list(map(int, input().split()))\n",
    "\n",
    "    c1 = 0\n",
    "    c2 = 0\n",
    "    max_value = max(li)\n",
    "    for i in range(n):\n",
    "        diff = max_value - li[i]\n",
    "        c2 += diff // 2    \n",
    "        if diff % 2:\n",
    "            c1 += 1\n",
    "\n",
    "    t1 = calcul(c1, c2)\n",
    "\n",
    "    c1 = 0\n",
    "    c2 = 0\n",
    "    max_value += 1\n",
    "    for i in range(n):\n",
    "        diff = max_value - li[i]\n",
    "        c2 += diff // 2    \n",
    "        if diff % 2:\n",
    "            c1 += 1\n",
    "\n",
    "    t2 = calcul(c1, c2)\n",
    "\n",
    "    r = t1 # test\n",
    "\n",
    "    print(r)"
   ]
  },
  {
   "cell_type": "markdown",
   "metadata": {},
   "source": [
    "https://codeforces.com/contest/1659/problem/C"
   ]
  },
  {
   "cell_type": "code",
   "execution_count": 5,
   "metadata": {},
   "outputs": [
    {
     "name": "stdout",
     "output_type": "stream",
     "text": [
      "11 27182 31415\n",
      "16 18 33 98 874 989 4848 20458 34365 38117 72030\n",
      "3298918744\n"
     ]
    }
   ],
   "source": [
    "import sys\n",
    "input = lambda: sys.stdin.readline().rstrip()\n",
    "\n",
    "def get_value(mid):\n",
    "    cur_loc = 0\n",
    "    sv = 0\n",
    "    for i in range(n):\n",
    "        sv += (li[i] - cur_loc) * b\n",
    "        if i <= mid:\n",
    "            sv += (li[i] - cur_loc) * a\n",
    "            cur_loc = li[i]\n",
    "        \n",
    "    return sv\n",
    "\n",
    "for _ in range(int(input())):\n",
    "    n, a, b = map(int, input().split())\n",
    "    li = list(map(int, input().split()))\n",
    "\n",
    "    start = -1\n",
    "    end = max(-1, n - 2)\n",
    "    result = float('inf')\n",
    "    while start <= end:\n",
    "        mid1 = (start * 2 + end) // 3\n",
    "        mid2 = (start + end * 2) // 3\n",
    "\n",
    "        t1 = get_value(mid1)\n",
    "        t2 = get_value(mid2)\n",
    "\n",
    "        result = min(result, t1, t2)\n",
    "\n",
    "        if end - start <= 5:\n",
    "            for mid in range(start, end + 1):\n",
    "                result = min(result, get_value(mid))\n",
    "            break\n",
    "\n",
    "        if t1 >= t2:\n",
    "            start = mid1\n",
    "        else:\n",
    "            end = mid2\n",
    "\n",
    "    print(result)"
   ]
  },
  {
   "cell_type": "markdown",
   "metadata": {},
   "source": [
    "https://codeforces.com/contest/1659/problem/D"
   ]
  },
  {
   "cell_type": "code",
   "execution_count": null,
   "metadata": {},
   "outputs": [],
   "source": [
    "배열의 총합을 n으로 나누면 a의 1의 개수를 알 수 있음"
   ]
  },
  {
   "cell_type": "code",
   "execution_count": 71,
   "metadata": {},
   "outputs": [
    {
     "name": "stdout",
     "output_type": "stream",
     "text": [
      "4\n",
      "4 4 4 4\n",
      "1 1 1 1\n"
     ]
    }
   ],
   "source": [
    "import sys\n",
    "input = lambda: sys.stdin.readline().rstrip()\n",
    "\n",
    "def solve():\n",
    "    cur_index = n - 1\n",
    "    cur_included = sum(li) // n\n",
    "    cur_needed = 1\n",
    "\n",
    "    a = [0] * n\n",
    "    for i in range(n - 1, -1, -1):\n",
    "        if cur_included > cur_index:\n",
    "            for j in range(cur_index, -1, -1):\n",
    "                a[j] = 1\n",
    "            return a\n",
    "        while cur_included < cur_needed:\n",
    "            cur_included -= a[cur_index]\n",
    "            cur_index -= 1\n",
    "            cur_needed -= 1\n",
    "            \n",
    "            if cur_included > cur_index:\n",
    "                for j in range(cur_index, -1, -1):\n",
    "                    a[j] = 1\n",
    "                return a\n",
    "\n",
    "        value = cur_index - i + 1\n",
    "        if value < li[i]:\n",
    "            a[i] = 1\n",
    "\n",
    "        while cur_index < i:\n",
    "            cur_index += 1\n",
    "            cur_included += a[cur_index]\n",
    "            cur_needed += 1\n",
    "            \n",
    "            if cur_included > cur_index:\n",
    "                for j in range(cur_index, -1, -1):\n",
    "                    a[j] = 1\n",
    "                return a\n",
    "\n",
    "        cur_needed += 1\n",
    "\n",
    "    return a\n",
    "\n",
    "for _ in range(int(input())):\n",
    "    n = int(input())\n",
    "    li = list(map(int, input().split()))\n",
    "\n",
    "    print(*solve())"
   ]
  },
  {
   "cell_type": "code",
   "execution_count": 49,
   "metadata": {},
   "outputs": [
    {
     "name": "stdout",
     "output_type": "stream",
     "text": [
      "[0, 1, 0, 1, 1, 1] [0, 2, 4, 6, 6, 6] [0, 1, 1, 1, 1, 1]\n",
      "[1, 0, 0, 1, 1, 1] [1, 1, 4, 6, 6, 6] [1, 0, 1, 1, 1, 1]\n",
      "[1, 0, 1, 1, 0, 0] [1, 3, 5, 6, 2, 1] [1, 1, 1, 1, 0, 0]\n",
      "[1, 0, 1, 1, 0, 1] [1, 3, 6, 6, 2, 6] [1, 1, 1, 1, 0, 1]\n",
      "[1, 0, 1, 1, 1, 0] [1, 4, 6, 6, 6, 1] [1, 1, 1, 1, 1, 0]\n",
      "[1, 0, 1, 1, 1, 1] [1, 5, 6, 6, 6, 6] [1, 1, 1, 1, 1, 1]\n"
     ]
    }
   ],
   "source": [
    "from itertools import product as prod\n",
    "\n",
    "n = 6\n",
    "for oa in prod(*[range(2)] * n):\n",
    "    oa = list(oa)\n",
    "    \n",
    "    oli = [0] * n\n",
    "    for i in range(n):\n",
    "        noa = sorted(oa[:i + 1]) + oa[i + 1:]\n",
    "        for j in range(n):\n",
    "            oli[j] += noa[j]\n",
    "\n",
    "    li = oli.copy()\n",
    "    a = [0] * n\n",
    "    cumul = 0\n",
    "    for i in range(n):\n",
    "        if li[i] == n:\n",
    "            a[i] = 1\n",
    "            cumul += 1\n",
    "            continue\n",
    "\n",
    "        li[i] -= cumul\n",
    "        if li[i] >= i + 1:\n",
    "            a[i] = 1\n",
    "            cumul += 1\n",
    "\n",
    "    if oa != a:\n",
    "        print(oa, oli, a)"
   ]
  },
  {
   "cell_type": "markdown",
   "metadata": {},
   "source": [
    "https://codeforces.com/contest/1665/problem/A"
   ]
  },
  {
   "cell_type": "code",
   "execution_count": 78,
   "metadata": {},
   "outputs": [
    {
     "name": "stdout",
     "output_type": "stream",
     "text": [
      "5\n",
      "4\n",
      "1 1 1 1\n",
      "5\n",
      "1 2 1 1\n",
      "6\n",
      "1 3 1 1\n",
      "7\n",
      "1 4 1 1\n",
      "8\n",
      "1 5 1 1\n"
     ]
    }
   ],
   "source": [
    "import sys\n",
    "# input = lambda: sys.stdin.readline().rstrip()\n",
    "\n",
    "for _ in range(int(input())):\n",
    "    n = int(input())\n",
    "    \n",
    "    n -= 3\n",
    "    print(1, n, 1, 1)"
   ]
  },
  {
   "cell_type": "markdown",
   "metadata": {},
   "source": [
    "https://codeforces.com/contest/1665/problem/B"
   ]
  },
  {
   "cell_type": "code",
   "execution_count": 94,
   "metadata": {},
   "outputs": [
    {
     "name": "stdout",
     "output_type": "stream",
     "text": [
      "1\n",
      "10\n",
      "1 2 3 4 5 6 7 8 9 10\n",
      "13\n"
     ]
    }
   ],
   "source": [
    "import sys\n",
    "input = lambda: sys.stdin.readline().rstrip()\n",
    "\n",
    "from random import randint\n",
    " \n",
    "RANDOM = randint(1, 10 ** 9)\n",
    "\n",
    "for _ in range(int(input())):\n",
    "    n = int(input())\n",
    "    li = list(map(int, input().split()))\n",
    "\n",
    "    d = dict()\n",
    "    max_count = 1\n",
    "    for v in li:\n",
    "        v ^= RANDOM\n",
    "        if v not in d:\n",
    "            d[v] = 1\n",
    "        else:\n",
    "            d[v] += 1\n",
    "            max_count = max(max_count, d[v])\n",
    "\n",
    "    cur = max_count\n",
    "    to_fill = n - cur\n",
    "\n",
    "    r = to_fill\n",
    "    while to_fill > 0:\n",
    "        to_fill -= cur\n",
    "        cur *= 2\n",
    "        r += 1\n",
    "\n",
    "    print(r)"
   ]
  },
  {
   "cell_type": "markdown",
   "metadata": {},
   "source": [
    "https://codeforces.com/contest/1665/problem/C"
   ]
  },
  {
   "cell_type": "code",
   "execution_count": 20,
   "metadata": {},
   "outputs": [
    {
     "name": "stdout",
     "output_type": "stream",
     "text": [
      "6\n",
      "1 1 1 1 1\n",
      "4\n"
     ]
    }
   ],
   "source": [
    "from collections import Counter\n",
    "import sys\n",
    "input = lambda: sys.stdin.readline().rstrip()\n",
    "\n",
    "for _ in range(int(input())):\n",
    "    n = int(input())\n",
    "    li = list(map(int, input().split()))\n",
    "\n",
    "    ct = Counter(li)\n",
    "    ct = sorted(ct.values(), reverse=True)\n",
    "    ct.append(1)\n",
    "\n",
    "    nct = []\n",
    "    base_needed = len(ct)\n",
    "    infected_c = len(ct)\n",
    "    for i in range(len(ct)):\n",
    "        ct[i] -= infected_c\n",
    "        if ct[i] > 0:\n",
    "            nct.append(ct[i])\n",
    "\n",
    "        infected_c -= 1\n",
    "\n",
    "    start = 0\n",
    "    end = 200010\n",
    "    min_added_needed = 0\n",
    "    while start <= end:\n",
    "        mid = (start + end) // 2\n",
    "\n",
    "        remained = 0\n",
    "        for v in nct:\n",
    "            remained += max(0, v - mid)\n",
    "\n",
    "        if remained <= mid:\n",
    "            min_added_needed = mid\n",
    "            end = mid - 1\n",
    "        else:\n",
    "            start = mid + 1\n",
    "\n",
    "    r = base_needed + min_added_needed\n",
    "\n",
    "    print(r)"
   ]
  },
  {
   "cell_type": "markdown",
   "metadata": {},
   "source": [
    "https://codeforces.com/contest/1673/problem/A"
   ]
  },
  {
   "cell_type": "code",
   "execution_count": null,
   "metadata": {},
   "outputs": [],
   "source": [
    "짝수면 Alice가 다 가져감\n",
    "홀수면 Alice가 양쪽에서 하나는 가져가지 못함, Bob이 남은 하나를 가져감"
   ]
  },
  {
   "cell_type": "code",
   "execution_count": null,
   "metadata": {},
   "outputs": [],
   "source": [
    "import sys\n",
    "input = lambda: sys.stdin.readline().rstrip()\n",
    "\n",
    "def get_score(s):\n",
    "    sc = 0\n",
    "    for v in s:\n",
    "        sc += ord(v) - 96\n",
    "        \n",
    "    return sc\n",
    "\n",
    "for _ in range(int(input())):\n",
    "    s = input()\n",
    "\n",
    "    if len(s) % 2 == 0:\n",
    "        print('Alice', get_score(s))\n",
    "    elif len(s) == 1:\n",
    "        print('Bob', get_score(s))\n",
    "    else:\n",
    "        sa = 0\n",
    "        sb = 0\n",
    "\n",
    "        if s[0] > s[-1]:\n",
    "            sa += get_score(s[:-1])\n",
    "            sb = get_score(s[-1])\n",
    "        else:\n",
    "            sa += get_score(s[1:])\n",
    "            sb = get_score(s[0])\n",
    "\n",
    "        abs_diff = abs(sa - sb)\n",
    "        if sa > sb:\n",
    "            print('Alice', abs_diff)\n",
    "        else:\n",
    "            print('Bob', abs_diff)"
   ]
  },
  {
   "cell_type": "markdown",
   "metadata": {},
   "source": [
    "https://codeforces.com/contest/1673/problem/B"
   ]
  },
  {
   "cell_type": "code",
   "execution_count": 12,
   "metadata": {},
   "outputs": [
    {
     "name": "stdout",
     "output_type": "stream",
     "text": [
      "abcab\n",
      "YES\n"
     ]
    }
   ],
   "source": [
    "import sys\n",
    "input = lambda: sys.stdin.readline().rstrip()\n",
    "\n",
    "for _ in range(int(input())):\n",
    "    s = input()\n",
    "\n",
    "    st = set()\n",
    "    li = []\n",
    "    for v in s:\n",
    "        if v not in st:\n",
    "            st.add(v)\n",
    "            li.append(v)\n",
    "        else:\n",
    "            break\n",
    "\n",
    "    li_len = len(li)\n",
    "    ip = True\n",
    "    cur_i = 0\n",
    "    for v in s:\n",
    "        if v != li[cur_i]:\n",
    "            ip = False\n",
    "            break\n",
    "        cur_i += 1\n",
    "        if cur_i == li_len:\n",
    "            cur_i = 0\n",
    "\n",
    "    if ip:\n",
    "        print('YES')\n",
    "    else:\n",
    "        print('NO')"
   ]
  },
  {
   "cell_type": "markdown",
   "metadata": {},
   "source": [
    "https://codeforces.com/contest/1673/problem/C"
   ]
  },
  {
   "cell_type": "code",
   "execution_count": 17,
   "metadata": {},
   "outputs": [
    {
     "name": "stdout",
     "output_type": "stream",
     "text": [
      "2\n",
      "5\n",
      "7\n",
      "12\n",
      "74\n"
     ]
    }
   ],
   "source": [
    "import sys\n",
    "input = lambda: sys.stdin.readline().rstrip()\n",
    "\n",
    "mod = int(1e9) + 7\n",
    "\n",
    "def check(num):\n",
    "    s = str(num)\n",
    "    \n",
    "    slen = len(s)\n",
    "    for i in range(slen // 2):\n",
    "        if s[i] != s[slen - 1 - i]:\n",
    "            return False\n",
    "    return True\n",
    "\n",
    "max_n = 40000\n",
    "\n",
    "li = []\n",
    "for num in range(1, max_n + 1):\n",
    "    if check(num):\n",
    "        li.append(num)\n",
    "    \n",
    "dp = [0] * (max_n + 1)\n",
    "dp[0] = 1\n",
    "\n",
    "for num in li:\n",
    "    for i in range(num, max_n + 1):\n",
    "        dp[i] += dp[i - num]\n",
    "        dp[i] %= mod\n",
    "        \n",
    "for _ in range(int(input())):\n",
    "    n = int(input())\n",
    "    \n",
    "    r = dp[n]\n",
    "    \n",
    "    print(r)"
   ]
  },
  {
   "cell_type": "markdown",
   "metadata": {},
   "source": [
    "https://codeforces.com/contest/1673/problem/D"
   ]
  },
  {
   "cell_type": "code",
   "execution_count": null,
   "metadata": {},
   "outputs": [],
   "source": [
    "c의 term의 경우 a의 term과 b의 term의 최소공배수가 됨"
   ]
  },
  {
   "cell_type": "code",
   "execution_count": null,
   "metadata": {},
   "outputs": [],
   "source": [
    "from math import gcd\n",
    "\n",
    "mod = int(1e9) + 7\n",
    "\n",
    "lcm = lambda a * b // gcd(a, b)"
   ]
  }
 ],
 "metadata": {
  "kernelspec": {
   "display_name": "Python 3",
   "language": "python",
   "name": "python3"
  },
  "language_info": {
   "codemirror_mode": {
    "name": "ipython",
    "version": 3
   },
   "file_extension": ".py",
   "mimetype": "text/x-python",
   "name": "python",
   "nbconvert_exporter": "python",
   "pygments_lexer": "ipython3",
   "version": "3.7.4"
  }
 },
 "nbformat": 4,
 "nbformat_minor": 4
}
