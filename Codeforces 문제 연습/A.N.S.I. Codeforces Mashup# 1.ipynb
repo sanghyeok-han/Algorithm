{
 "cells": [
  {
   "cell_type": "markdown",
   "metadata": {},
   "source": [
    "A. Grid-00100"
   ]
  },
  {
   "cell_type": "code",
   "execution_count": null,
   "metadata": {},
   "outputs": [],
   "source": [
    "한번 최대로 채워진 곳이 있으면 다른 곳도 최대까지는 전부 채워놓을 수 있음"
   ]
  },
  {
   "cell_type": "code",
   "execution_count": 27,
   "metadata": {},
   "outputs": [
    {
     "name": "stdout",
     "output_type": "stream",
     "text": [
      "0\n"
     ]
    }
   ],
   "source": [
    "import sys\n",
    "input = lambda: sys.stdin.readline().rstrip()\n",
    "\n",
    "for _ in range(int(input())):\n",
    "    n, k = map(int, input().split())\n",
    "\n",
    "    li = [[0] * n for _ in range(n)]\n",
    "\n",
    "    y_start = 0\n",
    "    x, y = 0, 0\n",
    "    for _ in range(k):\n",
    "        li[x][y] = 1\n",
    "        x += 1\n",
    "        if x == n:\n",
    "            y_start += 1\n",
    "            y = y_start\n",
    "            x = 0\n",
    "            continue\n",
    "\n",
    "        y += 1\n",
    "        y %= n\n",
    "        \n",
    "    min_r_sum = float('inf')\n",
    "    max_r_sum = 0\n",
    "    min_c_sum = float('inf')\n",
    "    max_c_sum = 0\n",
    "    \n",
    "    for i in range(n):\n",
    "        min_r_sum = min(min_r_sum, sum(li[i]))\n",
    "        max_r_sum = max(max_r_sum, sum(li[i]))\n",
    "        temp = 0\n",
    "        for j in range(n):\n",
    "            temp += li[j][i]\n",
    "            \n",
    "        min_c_sum = min(min_c_sum, temp)        \n",
    "        max_c_sum = max(max_c_sum, temp)\n",
    "\n",
    "    r = (max_r_sum - min_r_sum) ** 2 + (max_c_sum - min_c_sum) ** 2\n",
    "    \n",
    "    print(r)\n",
    "    for v in li:\n",
    "        print(''.join(map(str, v)))"
   ]
  },
  {
   "cell_type": "markdown",
   "metadata": {},
   "source": [
    "B. A Cookie for You"
   ]
  },
  {
   "cell_type": "code",
   "execution_count": null,
   "metadata": {},
   "outputs": [],
   "source": [
    "2번째 타입이 선택할 과자를 1번째 타입의 우선적인 선택으로 바꿔서 2번째 타입의 수요을 충족시키기 위해\n",
    "노력하는 것이 의미가 있는지를 중점적으로 확인한 결과 불가능함을 발견하였음\n",
    "\n",
    "2번째 타입이 선택할 과자를 1번째 타입이 바꾸려고 노력해도\n",
    "결국 2번째가 더 적어진 다른 과자를 계속 선택하게 되면서 바꾸는 의미가 무색해진다."
   ]
  },
  {
   "cell_type": "code",
   "execution_count": 9,
   "metadata": {},
   "outputs": [
    {
     "name": "stdout",
     "output_type": "stream",
     "text": [
      "1\n",
      "2 2 1 2\n",
      "Yes\n"
     ]
    }
   ],
   "source": [
    "import sys\n",
    "input = lambda: sys.stdin.readline().rstrip()\n",
    "\n",
    "for _ in range(int(input())):\n",
    "    a, b, n, m = map(int, input().split())\n",
    "\n",
    "    if a + b < n + m:\n",
    "        print('No')\n",
    "    elif min(a, b) < m:\n",
    "        print('No')\n",
    "    else:\n",
    "        print('Yes')"
   ]
  },
  {
   "cell_type": "markdown",
   "metadata": {},
   "source": [
    "C. Magical Calendar"
   ]
  },
  {
   "cell_type": "code",
   "execution_count": 32,
   "metadata": {},
   "outputs": [
    {
     "name": "stdout",
     "output_type": "stream",
     "text": [
      "1\n",
      "3 4\n",
      "4\n"
     ]
    }
   ],
   "source": [
    "import sys\n",
    "input = lambda: sys.stdin.readline().rstrip()\n",
    "\n",
    "get_sum = lambda x: x * (x + 1) // 2\n",
    "\n",
    "for _ in range(int(input())):\n",
    "    n, r = map(int, input().split())\n",
    "\n",
    "    result = get_sum(min(n - 1, r))\n",
    "    if r >= n:\n",
    "        result += 1\n",
    "\n",
    "    print(result)"
   ]
  },
  {
   "cell_type": "markdown",
   "metadata": {},
   "source": [
    "D. Number Game"
   ]
  },
  {
   "cell_type": "code",
   "execution_count": null,
   "metadata": {},
   "outputs": [],
   "source": [
    "1: Fa\n",
    "elif 1을 제외한 모든 홀수로 시작: Ash\n",
    "\n",
    "\n",
    "    \n",
    "2, 2 * 3, 2 * 3 * 3 * 3 같이 숫자를 소인수의 곱으로 표현해서 생각해봄\n",
    "\n",
    "2 * 3 * 3 * 3 * 3 * 3을 전략적으로 바로 2 * 3로 만드는 등 기회만 되면 바로 숫자를\n",
    "이기는 최소까지 줄일 수 있음"
   ]
  },
  {
   "cell_type": "code",
   "execution_count": 46,
   "metadata": {},
   "outputs": [
    {
     "name": "stdout",
     "output_type": "stream",
     "text": [
      "7\n",
      "1\n",
      "FastestFinger\n",
      "2\n",
      "Ashishgup\n",
      "3\n",
      "Ashishgup\n",
      "4\n",
      "FastestFinger\n",
      "5\n",
      "Ashishgup\n",
      "6\n",
      "FastestFinger\n",
      "12\n",
      "Ashishgup\n"
     ]
    }
   ],
   "source": [
    "import sys\n",
    "input = lambda: sys.stdin.readline().rstrip()\n",
    "\n",
    "def solve(n):\n",
    "    if n == 1:\n",
    "        return 1\n",
    "    if n % 2 == 1:\n",
    "        return 0\n",
    "    \n",
    "    c2 = 0\n",
    "    while True:\n",
    "        if n % 2 == 0:\n",
    "            c2 += 1\n",
    "            n //= 2\n",
    "        else:\n",
    "            break\n",
    "          \n",
    "    oc = 0 # odd count: 0: 0, 1: 0, 2: more than 1\n",
    "    if n != 1:\n",
    "        oc = 1\n",
    "    \n",
    "    for mod in range(3, int(n ** 0.5) + 1, 2):\n",
    "        if n % mod == 0:\n",
    "            oc = 2\n",
    "            \n",
    "    if c2 == 1:\n",
    "        if oc == 1:\n",
    "            return 1\n",
    "        else:\n",
    "            return 0\n",
    "    else:\n",
    "        if oc == 0:\n",
    "            return 1\n",
    "        else:\n",
    "            return 0\n",
    "\n",
    "for _ in range(int(input())):\n",
    "    n = int(input())\n",
    "    r = solve(n)\n",
    "\n",
    "    if r == 0:\n",
    "        print('Ashishgup')\n",
    "    else:\n",
    "        print('FastestFinger')"
   ]
  },
  {
   "cell_type": "code",
   "execution_count": null,
   "metadata": {},
   "outputs": [],
   "source": [
    "2 * 어떤 홀수 = 짝수\n",
    "2 * 어떤 짝수 = 짝수\n",
    "\n",
    "짝수 / 어떤 홀수 == 2"
   ]
  },
  {
   "cell_type": "code",
   "execution_count": 39,
   "metadata": {},
   "outputs": [
    {
     "data": {
      "text/plain": [
       "41.0"
      ]
     },
     "execution_count": 39,
     "metadata": {},
     "output_type": "execute_result"
    }
   ],
   "source": [
    "82 / 2"
   ]
  },
  {
   "cell_type": "code",
   "execution_count": 40,
   "metadata": {},
   "outputs": [
    {
     "data": {
      "text/plain": [
       "5.0"
      ]
     },
     "execution_count": 40,
     "metadata": {},
     "output_type": "execute_result"
    }
   ],
   "source": [
    "10 / 2"
   ]
  },
  {
   "cell_type": "code",
   "execution_count": 42,
   "metadata": {},
   "outputs": [
    {
     "data": {
      "text/plain": [
       "6.0"
      ]
     },
     "execution_count": 42,
     "metadata": {},
     "output_type": "execute_result"
    }
   ],
   "source": [
    "12 / 2"
   ]
  },
  {
   "cell_type": "code",
   "execution_count": 38,
   "metadata": {},
   "outputs": [
    {
     "data": {
      "text/plain": [
       "31622.776601683792"
      ]
     },
     "execution_count": 38,
     "metadata": {},
     "output_type": "execute_result"
    }
   ],
   "source": [
    "(10 ** 9) ** 0.5"
   ]
  },
  {
   "cell_type": "code",
   "execution_count": null,
   "metadata": {},
   "outputs": [],
   "source": [
    "모든 짝수는 2의 배수"
   ]
  },
  {
   "cell_type": "markdown",
   "metadata": {},
   "source": [
    "### E. AccurateLee"
   ]
  },
  {
   "cell_type": "code",
   "execution_count": 25,
   "metadata": {},
   "outputs": [
    {
     "name": "stdout",
     "output_type": "stream",
     "text": [
      "1\n",
      "3\n",
      "101\n",
      "01\n"
     ]
    }
   ],
   "source": [
    "import sys\n",
    "# input = lambda: sys.stdin.readline().rstrip()\n",
    "\n",
    "for _ in range(int(input())):\n",
    "    n = int(input())\n",
    "    s = input()\n",
    "\n",
    "    r = []\n",
    "    lzi = -1 # last zero index\n",
    "    foi = -1 # first one index\n",
    "    for i in range(n):\n",
    "        if foi == -1 and s[i] == '1':\n",
    "            foi = i\n",
    "        if s[i] == '0':\n",
    "            lzi = i\n",
    "\n",
    "    if lzi == -1:\n",
    "        print(s)\n",
    "    elif foi == -1:\n",
    "        print(s)\n",
    "    elif lzi < foi:\n",
    "        print(s)\n",
    "    else:\n",
    "        ns = '0' * foi\n",
    "        for i in range(lzi, n):\n",
    "            ns += s[i]\n",
    "\n",
    "        print(ns)"
   ]
  },
  {
   "cell_type": "markdown",
   "metadata": {},
   "source": [
    "### F. RationalLee"
   ]
  },
  {
   "cell_type": "code",
   "execution_count": null,
   "metadata": {},
   "outputs": [],
   "source": [
    "하나만 가지는 친구들한테는 가장 높은 값을 줌 (최댓값 == 최솟값이 성립하므로)\n",
    "\n",
    "그 후로는 가장 많은걸 가져가는 친구가 작은 값부터 차례대로 가져다가\n",
    "마지막에 가져가야 할 것이 하나만 남으면 가장 큰 값을 가져가는 식으로 함"
   ]
  },
  {
   "cell_type": "code",
   "execution_count": 39,
   "metadata": {},
   "outputs": [
    {
     "name": "stdout",
     "output_type": "stream",
     "text": [
      "1\n",
      "4 4\n",
      "100 100 100 100\n",
      "1 1 1 1\n",
      "800\n"
     ]
    }
   ],
   "source": [
    "from collections import deque\n",
    "import sys\n",
    "input = lambda: sys.stdin.readline().rstrip()\n",
    "\n",
    "for _ in range(int(input())):\n",
    "    n, k = map(int, input().split())\n",
    "    a = deque(sorted(map(int, input().split())))\n",
    "    ws = deque(sorted(map(int, input().split())))\n",
    "\n",
    "    total = 0\n",
    "\n",
    "    while ws:\n",
    "        if ws[0] == 1:\n",
    "            total += a.pop() * 2\n",
    "            ws.popleft()\n",
    "        else:\n",
    "            break\n",
    "\n",
    "    for i in range(len(ws) -1, -1, -1):\n",
    "        ws[i] -= 1\n",
    "        total += a.popleft()\n",
    "        for _ in range(ws[i] - 1):\n",
    "            a.popleft()\n",
    "\n",
    "    total += sum(a)\n",
    "\n",
    "    print(total)"
   ]
  },
  {
   "cell_type": "code",
   "execution_count": 27,
   "metadata": {},
   "outputs": [
    {
     "data": {
      "text/plain": [
       "48"
      ]
     },
     "execution_count": 27,
     "metadata": {},
     "output_type": "execute_result"
    }
   ],
   "source": [
    "10 10 10   10 10\n",
    "10 11 11   10 11\n",
    "\n",
    "10 10 11   10 11\n",
    "10 10 11   10 11"
   ]
  },
  {
   "cell_type": "code",
   "execution_count": null,
   "metadata": {},
   "outputs": [],
   "source": [
    "1 2 3 4 5 6\n",
    "3 3\n",
    "\n",
    "1 2 3   1 3\n",
    "4 5 6   4 6\n",
    "        14\n",
    "\n",
    "1 2 6   1 6\n",
    "3 4 5   3 5\n",
    "        15"
   ]
  },
  {
   "cell_type": "code",
   "execution_count": 32,
   "metadata": {},
   "outputs": [
    {
     "data": {
      "text/plain": [
       "35"
      ]
     },
     "execution_count": 32,
     "metadata": {},
     "output_type": "execute_result"
    }
   ],
   "source": [
    "9 3\n",
    "9 2 3 4 5 6 7 8 1\n",
    "3 2 4\n",
    "35\n",
    "\n",
    "10 4\n",
    "9 2 3 4 5 6 7 8 1 10\n",
    "3 2 4 1\n",
    "55"
   ]
  },
  {
   "cell_type": "markdown",
   "metadata": {},
   "source": [
    "### G. Trouble Sort"
   ]
  },
  {
   "cell_type": "code",
   "execution_count": null,
   "metadata": {},
   "outputs": [],
   "source": [
    "import sys\n",
    "input = lambda: sys.stdin.readline().rstrip()\n",
    "\n",
    "for _ in range(int(input())):\n",
    "    n = int(input())\n",
    "    a = list(map(int, input().split()))\n",
    "    b = list(map(int, input().split()))\n",
    "\n",
    "    if sorted(a) == a:\n",
    "        print('Yes')\n",
    "    else:\n",
    "        sv = sum(b)\n",
    "        if sv == 0 or sv == n:\n",
    "            print('No')\n",
    "        else:\n",
    "            print('Yes')"
   ]
  },
  {
   "cell_type": "markdown",
   "metadata": {},
   "source": [
    "### H. Rotation Matching"
   ]
  },
  {
   "cell_type": "code",
   "execution_count": 48,
   "metadata": {},
   "outputs": [
    {
     "name": "stdout",
     "output_type": "stream",
     "text": [
      "5\n",
      "1 2 3 4 5\n",
      "5 4 3 1 2\n",
      "3\n"
     ]
    }
   ],
   "source": [
    "from collections import defaultdict as dd\n",
    "\n",
    "n = int(input())\n",
    "a = list(map(int, input().split()))\n",
    "b = list(map(int, input().split()))\n",
    "\n",
    "na = [(v, i) for i, v in enumerate(a)]\n",
    "na.sort(key=lambda x: x[0])\n",
    "\n",
    "nb = [(v, i) for i, v in enumerate(b)]\n",
    "nb.sort(key=lambda x: x[0])\n",
    "\n",
    "d = dd(int)\n",
    "for i in range(n):\n",
    "    temp = (na[i][1] - nb[i][1]) % n\n",
    "    d[temp] += 1\n",
    "    \n",
    "r = max(d.values())\n",
    "\n",
    "print(r)"
   ]
  },
  {
   "cell_type": "markdown",
   "metadata": {},
   "source": [
    "### I. XXXXX"
   ]
  },
  {
   "cell_type": "code",
   "execution_count": null,
   "metadata": {},
   "outputs": [],
   "source": [
    "x로 나눠지는 수를 양 옆에서 아무리 지워도 소용 없음\n"
   ]
  },
  {
   "cell_type": "code",
   "execution_count": 60,
   "metadata": {},
   "outputs": [
    {
     "name": "stdout",
     "output_type": "stream",
     "text": [
      "1\n",
      "8 3\n",
      "3 3 3 1 1 1 3 3\n",
      "5\n"
     ]
    }
   ],
   "source": [
    "import sys\n",
    "input = lambda: sys.stdin.readline().rstrip()\n",
    "\n",
    "for _ in range(int(input())):\n",
    "    n, x = map(int, input().split())\n",
    "    li = list(map(int, input().split()))\n",
    "\n",
    "    sv = sum(li)\n",
    "    if sv % x != 0:\n",
    "        print(n)\n",
    "    else:\n",
    "        td1 = float('inf') # to delete 1\n",
    "        for i in range(n):\n",
    "            if li[i] % x != 0:\n",
    "                td1 = i + 1\n",
    "                break\n",
    "        cand1 = n - td1\n",
    "\n",
    "        cand2 = -float('inf')\n",
    "        for i in range(n - 1, -1, -1):\n",
    "            if li[i] % x != 0:\n",
    "                cand2 = i\n",
    "                break\n",
    "\n",
    "        r = max(cand1, cand2)\n",
    "\n",
    "        if r <= 0:\n",
    "            print(-1)\n",
    "        else:\n",
    "            print(r)"
   ]
  },
  {
   "cell_type": "markdown",
   "metadata": {},
   "source": [
    "### J. Most socially-distanced subsequence"
   ]
  },
  {
   "cell_type": "code",
   "execution_count": 74,
   "metadata": {},
   "outputs": [
    {
     "name": "stdout",
     "output_type": "stream",
     "text": [
      "1\n",
      "3\n",
      "3 2 1\n",
      "2\n",
      "3 1\n"
     ]
    }
   ],
   "source": [
    "import sys\n",
    "input = lambda: sys.stdin.readline().rstrip()\n",
    "\n",
    "for _ in range(int(input())):\n",
    "    n = int(input())\n",
    "    li = list(map(int, input().split()))\n",
    "\n",
    "    tds = set() # to deletes\n",
    "    for i in range(n - 2):\n",
    "        if li[i] < li[i + 1] < li[i + 2] or li[i] > li[i + 1] > li[i + 2]:\n",
    "            tds.add(i + 1)\n",
    "\n",
    "    r = [v for i, v in enumerate(li) if i not in tds]\n",
    "\n",
    "    print(len(r))\n",
    "    print(*r)"
   ]
  },
  {
   "cell_type": "markdown",
   "metadata": {},
   "source": [
    "### K. Ehab and Prefix MEXs"
   ]
  },
  {
   "cell_type": "code",
   "execution_count": null,
   "metadata": {},
   "outputs": [],
   "source": [
    "최선의 방법으로 b를 먼저 만든 후 해당 b를 통해서 a를 만들 수 있는지 확인하였음"
   ]
  },
  {
   "cell_type": "code",
   "execution_count": 104,
   "metadata": {},
   "outputs": [
    {
     "name": "stdout",
     "output_type": "stream",
     "text": [
      "4\n",
      "0 0 0 0\n",
      "1 2 3 4\n"
     ]
    }
   ],
   "source": [
    "from heapq import heapify, heappush, heappop\n",
    "\n",
    "n = int(input())\n",
    "li = list(map(int, input().split()))\n",
    "\n",
    "st = set(li)\n",
    "cands = list(st)\n",
    "heapify(cands)\n",
    "\n",
    "c = 0\n",
    "cur = 0\n",
    "heap = []\n",
    "while True:\n",
    "    if cur in st:\n",
    "        cur += 1\n",
    "        continue\n",
    "    c += 1\n",
    "    heappush(heap, cur)\n",
    "    cur += 1\n",
    "    if c == n:\n",
    "        break\n",
    "\n",
    "b = []\n",
    "for i in range(n):\n",
    "    while cands:\n",
    "        if cands[0] < li[i]:\n",
    "            heappush(heap, heappop(cands))\n",
    "        else:\n",
    "            break\n",
    "\n",
    "    b.append(heappop(heap))\n",
    "\n",
    "cur_check = 0\n",
    "heap = []\n",
    "ip = True\n",
    "for i in range(n):\n",
    "    heappush(heap, b[i])\n",
    "    \n",
    "    while heap:\n",
    "        if heap[0] == cur_check:\n",
    "            cur_check += 1\n",
    "            heappop(heap)\n",
    "        else:\n",
    "            break\n",
    "    if li[i] != cur_check:\n",
    "        ip = False\n",
    "        break\n",
    "        \n",
    "if ip:\n",
    "    print(*b)\n",
    "else:\n",
    "    print(-1)"
   ]
  },
  {
   "cell_type": "markdown",
   "metadata": {},
   "source": [
    "### L. Sequence with Digits"
   ]
  },
  {
   "cell_type": "code",
   "execution_count": 122,
   "metadata": {},
   "outputs": [
    {
     "name": "stdout",
     "output_type": "stream",
     "text": [
      "1\n",
      "1 200\n",
      "50\n"
     ]
    }
   ],
   "source": [
    "import sys\n",
    "input = lambda: sys.stdin.readline().rstrip()\n",
    "\n",
    "for _ in range(int(input())):\n",
    "    a, k = map(int, input().split())\n",
    "\n",
    "    for _ in range(k - 1):\n",
    "        temp = list(map(int, str(a)))\n",
    "        mav = max(temp)\n",
    "        miv = min(temp)\n",
    "\n",
    "        na = a + mav * miv\n",
    "        if a == na:\n",
    "            break\n",
    "        a = na\n",
    "\n",
    "    print(a)"
   ]
  },
  {
   "cell_type": "markdown",
   "metadata": {},
   "source": [
    "### M. Vasya and Public Transport"
   ]
  },
  {
   "cell_type": "code",
   "execution_count": null,
   "metadata": {},
   "outputs": [],
   "source": [
    "c4 한번으로 모든걸 전부 커버 가능함\n",
    "c3 두번으로 모든걸 전부 커버 가능함\n",
    "c3을 버스에 쓸 수도, 트롤리에 쓸 수도, 안 쓸수도 있음\n",
    "\n",
    "만약 c2의 가격이 c1 가격의 3.5배라면 같은 종류의 같은 번호를 4번 이상 타게 되면 c2를, 아니면 c1를 타는 것이 이득임"
   ]
  },
  {
   "cell_type": "code",
   "execution_count": 145,
   "metadata": {},
   "outputs": [
    {
     "name": "stdout",
     "output_type": "stream",
     "text": [
      "4 3 2 1\n",
      "1 3\n",
      "798\n",
      "1 2 3\n"
     ]
    }
   ],
   "source": [
    "c1, c2, c3, c4 = map(int, input().split())\n",
    "n, m = map(int, input().split())\n",
    "a = list(map(int, input().split()))\n",
    "b = list(map(int, input().split()))"
   ]
  },
  {
   "cell_type": "code",
   "execution_count": 147,
   "metadata": {},
   "outputs": [
    {
     "name": "stdout",
     "output_type": "stream",
     "text": [
      "1 3 7 19\n",
      "2 3\n",
      "2 5\n",
      "4 4 4\n",
      "12\n"
     ]
    }
   ],
   "source": [
    "import sys\n",
    "# input = lambda: sys.stdin.readline().rstrip()\n",
    "\n",
    "c1, c2, c3, c4 = map(int, input().split())\n",
    "n, m = map(int, input().split())\n",
    "a = list(map(int, input().split()))\n",
    "b = list(map(int, input().split()))\n",
    "\n",
    "ratio = round(c2 / c1, 10)\n",
    "if ratio > int(ratio):\n",
    "    ratio = int(ratio) + 1\n",
    "    \n",
    "ratio = int(ratio)\n",
    "\n",
    "temp = 0\n",
    "for v in a:\n",
    "    if v >= ratio:\n",
    "        temp += c2\n",
    "    else:\n",
    "        temp += v * c1\n",
    "        \n",
    "min_cost1 = min(c3, temp)\n",
    "\n",
    "temp = 0\n",
    "for v in b:\n",
    "    if v >= ratio:\n",
    "        temp += c2\n",
    "    else:\n",
    "        temp += v * c1\n",
    "        \n",
    "min_cost2 = min(c3, temp)\n",
    "\n",
    "min_cost = min(c4, min_cost1 + min_cost2)\n",
    "\n",
    "print(min_cost)"
   ]
  },
  {
   "cell_type": "markdown",
   "metadata": {},
   "source": [
    "### N. Game With Array"
   ]
  },
  {
   "cell_type": "code",
   "execution_count": null,
   "metadata": {},
   "outputs": [],
   "source": [
    "k가 s // 2일 때까지만 확인해보면 됨, k가 0이면 Vasya는 모든 원소를 선택하면 이기게 됨\n",
    "n이 1이면 k가 1일때만 Vasya가 이김\n",
    "n과 k가 같으면 Vasya가 이김"
   ]
  },
  {
   "cell_type": "code",
   "execution_count": 180,
   "metadata": {},
   "outputs": [
    {
     "name": "stdout",
     "output_type": "stream",
     "text": [
      "3 6\n",
      "YES\n",
      "1 4 1\n",
      "3\n"
     ]
    }
   ],
   "source": [
    "n, s = map(int, input().split())\n",
    "\n",
    "mid_num = s - n + 1\n",
    "all_side_count = s - mid_num\n",
    "max_one_side_count = (all_side_count + 1) // 2\n",
    "\n",
    "k = s // 2\n",
    "ok = s - k\n",
    "\n",
    "if max_one_side_count < k and ok < mid_num:\n",
    "    print('YES')\n",
    "    r = [1] * max_one_side_count + [mid_num] + [1] * (s - mid_num - max_one_side_count)\n",
    "    print(*r)\n",
    "    print(k)\n",
    "else:\n",
    "    print('NO')"
   ]
  },
  {
   "cell_type": "markdown",
   "metadata": {},
   "source": [
    "### O. Special Elements"
   ]
  },
  {
   "cell_type": "code",
   "execution_count": 181,
   "metadata": {},
   "outputs": [
    {
     "data": {
      "text/plain": [
       "64000000"
      ]
     },
     "execution_count": 181,
     "metadata": {},
     "output_type": "execute_result"
    }
   ],
   "source": [
    "시간복잡도는 O(n ^ 2)로 추정됨\n",
    "단 배열에서의 원소의 수를 64000000만큼 사용하면 메모리가 초과될 것으로 보여짐\n",
    "해당 원소 좌우에서 별도로 두 포인터 이용? -> 안해도 됨"
   ]
  },
  {
   "cell_type": "code",
   "execution_count": 2,
   "metadata": {},
   "outputs": [
    {
     "name": "stdout",
     "output_type": "stream",
     "text": [
      "5\n",
      "9\n",
      "3 1 4 1 5 9 2 6 5\n",
      "5\n",
      "3\n",
      "1 1 2\n",
      "1\n",
      "5\n",
      "1 1 1 1 1\n",
      "0\n",
      "8\n",
      "8 7 6 5 4 3 2 1\n",
      "4\n",
      "1\n",
      "1\n",
      "0\n"
     ]
    }
   ],
   "source": [
    "import sys\n",
    "# input = lambda: sys.stdin.readline().rstrip()\n",
    "\n",
    "for _ in range(int(input())):\n",
    "    n = int(input())\n",
    "    li = list(map(int, input().split()))\n",
    "\n",
    "    sli = [0] * (n + 1)\n",
    "    cumul = 0\n",
    "    for i in range(n):\n",
    "        cumul += li[i]\n",
    "        sli[i + 1] = cumul\n",
    "\n",
    "    count = 0\n",
    "    for ti in range(n):\n",
    "        target = li[ti]\n",
    "\n",
    "        si = 0\n",
    "        ei = 0\n",
    "        ip = False\n",
    "        while True:\n",
    "            if ei == n:\n",
    "                break\n",
    "            v = sli[ei + 1] - sli[si]\n",
    "            if v < target:\n",
    "                ei += 1\n",
    "            elif v > target:\n",
    "                si += 1\n",
    "                if si > ei:\n",
    "                    ei += 1\n",
    "            else:\n",
    "                if si == ei:\n",
    "                    si += 1\n",
    "                    ei += 1\n",
    "                else:\n",
    "                    ip = True\n",
    "                    break\n",
    "\n",
    "        if ip:\n",
    "            count += 1\n",
    "\n",
    "    print(count)"
   ]
  }
 ],
 "metadata": {
  "kernelspec": {
   "display_name": "Python 3",
   "language": "python",
   "name": "python3"
  },
  "language_info": {
   "codemirror_mode": {
    "name": "ipython",
    "version": 3
   },
   "file_extension": ".py",
   "mimetype": "text/x-python",
   "name": "python",
   "nbconvert_exporter": "python",
   "pygments_lexer": "ipython3",
   "version": "3.7.4"
  }
 },
 "nbformat": 4,
 "nbformat_minor": 2
}
