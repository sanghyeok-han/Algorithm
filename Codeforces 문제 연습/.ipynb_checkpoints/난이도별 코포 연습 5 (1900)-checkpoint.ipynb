{
 "cells": [
  {
   "cell_type": "markdown",
   "metadata": {},
   "source": [
    "https://codeforces.com/problemset/problem/1648/C C. Tyler and Strings"
   ]
  },
  {
   "cell_type": "code",
   "execution_count": 34,
   "metadata": {},
   "outputs": [
    {
     "name": "stdout",
     "output_type": "stream",
     "text": [
      "3 3\n",
      "1 1 1\n",
      "2 2 2\n",
      "1\n"
     ]
    }
   ],
   "source": [
    "import sys\n",
    "# input = lambda: sys.stdin.readline().rstrip()\n",
    "\n",
    "mod = 998244353\n",
    "\n",
    "max_num = 200000\n",
    "\n",
    "factos = [0] * (max_num + 1)\n",
    "factos[0] = 1\n",
    "invs = [0] * (max_num + 1)\n",
    "cur = 1\n",
    "for i in range(1, max_num + 1):\n",
    "    cur *= i\n",
    "    cur %= mod\n",
    "    factos[i] = cur\n",
    "    \n",
    "invs[max_num] = pow(factos[max_num], mod - 2, mod)\n",
    "for i in range(max_num - 1, -1, -1):\n",
    "    invs[i] = (i + 1) * invs[i + 1] % mod\n",
    "\n",
    "class SegmentTree:\n",
    "    def __init__(self, data, default=10**15, func=lambda a, b: max(a,b)):\n",
    "        \"\"\"initialize the segment tree with data\"\"\"\n",
    "        self._default = default\n",
    "        self._func = func\n",
    "        self._len = len(data)\n",
    "        self._size = _size = 1 << (self._len - 1).bit_length()\n",
    " \n",
    "        self.data = [default] * (2 * _size)\n",
    "        self.data[_size:_size + self._len] = data\n",
    "        for i in reversed(range(_size)):\n",
    "            self.data[i] = func(self.data[i + i], self.data[i + i + 1])\n",
    " \n",
    "    def __delitem__(self, idx):\n",
    "        self[idx] = self._default\n",
    " \n",
    "    def __getitem__(self, idx):\n",
    "        return self.data[idx + self._size]\n",
    " \n",
    "    def __setitem__(self, idx, value):\n",
    "        idx += self._size\n",
    "        self.data[idx] = value\n",
    "        idx >>= 1\n",
    "        while idx:\n",
    "            self.data[idx] = self._func(self.data[2 * idx], self.data[2 * idx + 1])\n",
    "            idx >>= 1\n",
    " \n",
    "    def __len__(self):\n",
    "        return self._len\n",
    " \n",
    "    def query(self, start, stop):\n",
    "        if start == stop:\n",
    "            return self.__getitem__(start)\n",
    "        stop += 1\n",
    "        start += self._size\n",
    "        stop += self._size\n",
    " \n",
    "        res = self._default\n",
    "        while start < stop:\n",
    "            if start & 1:\n",
    "                res = self._func(res, self.data[start])\n",
    "                start += 1\n",
    "            if stop & 1:\n",
    "                stop -= 1\n",
    "                res = self._func(res, self.data[stop])\n",
    "            start >>= 1\n",
    "            stop >>= 1\n",
    "        return res\n",
    " \n",
    "    def __repr__(self):\n",
    "        return \"SegmentTree({0})\".format(self.data)\n",
    "\n",
    "n, m = map(int, input().split())\n",
    "s = list(map(int, input().split()))\n",
    "t = list(map(int, input().split()))\n",
    "\n",
    "cs = [0] * 200001\n",
    "for v in s:\n",
    "    cs[v] += 1\n",
    "\n",
    "func = lambda a, b: a + b\n",
    "segtree = SegmentTree(cs, 0, func=func)\n",
    "\n",
    "w = factos[n - 1]\n",
    "for i in range(200001):\n",
    "    w *= invs[cs[i]]\n",
    "    w %= mod\n",
    "\n",
    "last = min(n, m)\n",
    "total = 0\n",
    "for i in range(last):\n",
    "    total += w * segtree.query(1, t[i] - 1)\n",
    "    total %= mod\n",
    "    \n",
    "    if cs[t[i]] == 0:\n",
    "        break\n",
    "    elif i == last - 1 and n < m:\n",
    "        total += 1\n",
    "        total %= mod\n",
    "    \n",
    "    segtree[t[i]] -= 1\n",
    "    \n",
    "    w *= cs[t[i]] * pow(n - i - 1, mod - 2, mod)\n",
    "    w %= mod\n",
    "    \n",
    "    cs[t[i]] -= 1\n",
    "    \n",
    "print(total)"
   ]
  },
  {
   "cell_type": "code",
   "execution_count": null,
   "metadata": {},
   "outputs": [],
   "source": [
    "3 3\n",
    "2 1 1\n",
    "2 2 2"
   ]
  },
  {
   "cell_type": "markdown",
   "metadata": {},
   "source": [
    "https://codeforces.com/problemset/problem/1627/D D. Not Adding"
   ]
  },
  {
   "cell_type": "code",
   "execution_count": 43,
   "metadata": {},
   "outputs": [
    {
     "name": "stdout",
     "output_type": "stream",
     "text": [
      "13970034\n"
     ]
    }
   ],
   "source": [
    "c = 0\n",
    "for num in range(max_num, 0, -1):\n",
    "    nnum = num\n",
    "    while True:\n",
    "        nnum += num\n",
    "        c += 1\n",
    "        if nnum > max_num:\n",
    "            break\n",
    "            \n",
    "print(c)"
   ]
  },
  {
   "cell_type": "code",
   "execution_count": 44,
   "metadata": {},
   "outputs": [
    {
     "name": "stdout",
     "output_type": "stream",
     "text": [
      "13970034\n"
     ]
    }
   ],
   "source": [
    "cc = 0\n",
    "for num in range(max_num, 0, -1):\n",
    "    cc += max_num // num\n",
    "    \n",
    "print(cc)"
   ]
  },
  {
   "cell_type": "code",
   "execution_count": 48,
   "metadata": {},
   "outputs": [
    {
     "name": "stdout",
     "output_type": "stream",
     "text": [
      "3\n",
      "6 10 15\n",
      "4\n"
     ]
    }
   ],
   "source": [
    "from math import gcd\n",
    "\n",
    "n = int(input())\n",
    "li = list(map(int, input().split()))\n",
    "\n",
    "max_num = int(1e6)\n",
    "\n",
    "is_exist = [False] * (max_num + 1)\n",
    "for v in li:\n",
    "    is_exist[v] = True\n",
    "    \n",
    "added = 0\n",
    "for num in range(max_num, 0, -1):\n",
    "    if not is_exist[num]:\n",
    "        init = -1\n",
    "        nnum = num\n",
    "        is_added = False\n",
    "        while True:\n",
    "            nnum += num\n",
    "            if nnum > max_num:\n",
    "                break\n",
    "            if is_exist[nnum]:\n",
    "                if init == -1:\n",
    "                    init = nnum\n",
    "                else:\n",
    "                    if gcd(init, nnum) == num:\n",
    "                        is_added = True\n",
    "                        break\n",
    "        if is_added:\n",
    "            is_exist[num] = True\n",
    "            added += 1\n",
    "        \n",
    "print(added)"
   ]
  },
  {
   "cell_type": "markdown",
   "metadata": {},
   "source": [
    "https://codeforces.com/problemset/problem/1624/G G. MinOr Tree"
   ]
  },
  {
   "cell_type": "code",
   "execution_count": null,
   "metadata": {},
   "outputs": [],
   "source": [
    "import os\n",
    "import sys\n",
    "from io import BytesIO, IOBase\n",
    " \n",
    "BUFSIZE = 8192\n",
    "\n",
    "class FastIO(IOBase):\n",
    "    newlines = 0\n",
    " \n",
    "    def __init__(self, file):\n",
    "        self._fd = file.fileno()\n",
    "        self.buffer = BytesIO()\n",
    "        self.writable = \"x\" in file.mode or \"r\" not in file.mode\n",
    "        self.write = self.buffer.write if self.writable else None\n",
    " \n",
    "    def read(self):\n",
    "        while True:\n",
    "            b = os.read(self._fd, max(os.fstat(self._fd).st_size, BUFSIZE))\n",
    "            if not b:\n",
    "                break\n",
    "            ptr = self.buffer.tell()\n",
    "            self.buffer.seek(0, 2), self.buffer.write(b), self.buffer.seek(ptr)\n",
    "        self.newlines = 0\n",
    "        return self.buffer.read()\n",
    " \n",
    "    def readline(self):\n",
    "        while self.newlines == 0:\n",
    "            b = os.read(self._fd, max(os.fstat(self._fd).st_size, BUFSIZE))\n",
    "            self.newlines = b.count(b\"\\n\") + (not b)\n",
    "            ptr = self.buffer.tell()\n",
    "            self.buffer.seek(0, 2), self.buffer.write(b), self.buffer.seek(ptr)\n",
    "        self.newlines -= 1\n",
    "        return self.buffer.readline()\n",
    " \n",
    "    def flush(self):\n",
    "        if self.writable:\n",
    "            os.write(self._fd, self.buffer.getvalue())\n",
    "            self.buffer.truncate(0), self.buffer.seek(0)\n",
    " \n",
    " \n",
    "class IOWrapper(IOBase):\n",
    "    def __init__(self, file):\n",
    "        self.buffer = FastIO(file)\n",
    "        self.flush = self.buffer.flush\n",
    "        self.writable = self.buffer.writable\n",
    "        self.write = lambda s: self.buffer.write(s.encode(\"ascii\"))\n",
    "        self.read = lambda: self.buffer.read().decode(\"ascii\")\n",
    "        self.readline = lambda: self.buffer.readline().decode(\"ascii\")\n",
    "\n",
    "sys.stdin, sys.stdout = IOWrapper(sys.stdin), IOWrapper(sys.stdout)\n",
    "input = lambda: sys.stdin.readline().rstrip(\"\\r\\n\")\n",
    "\n",
    "## PYRIVAL BOOTSTRAP\n",
    "# https://github.com/cheran-senthil/PyRival/blob/master/pyrival/misc/bootstrap.py\n",
    "# This decorator allows for recursion without actually doing recursion\n",
    "## @bootstrap, yield when getting and returning value in recursive functions, end of functions\n",
    "from types import GeneratorType\n",
    "\n",
    "def bootstrap(f, stack=[]):\n",
    "    def wrappedfunc(*args, **kwargs):\n",
    "        if stack:\n",
    "            return f(*args, **kwargs)\n",
    "        else:\n",
    "            to = f(*args, **kwargs)\n",
    "            while True:\n",
    "                if type(to) is GeneratorType:\n",
    "                    stack.append(to)\n",
    "                    to = next(to)\n",
    "                else:\n",
    "                    stack.pop()\n",
    "                    if not stack:\n",
    "                        break\n",
    "                    to = stack[-1].send(to)\n",
    "            return to\n",
    "    return wrappedfunc\n",
    "\n",
    "@bootstrap\n",
    "def find(v):\n",
    "    if v != parent[v]:\n",
    "        parent[v] = yield find(parent[v])\n",
    "    yield parent[v]\n",
    "\n",
    "def union(a, b):\n",
    "    if rank[a] < rank[b]:\n",
    "        parent[a] = b\n",
    "    else:\n",
    "        if rank[a] == rank[b]:\n",
    "            rank[a] += 1\n",
    "        parent[b] = a\n",
    "\n",
    "for _ in range(int(input())):\n",
    "    input()\n",
    "    \n",
    "    n, m = map(int, input().split())\n",
    "    li = [list(map(int, input().split())) for _ in range(m)]\n",
    "\n",
    "    edges = []\n",
    "    bits = [[0] * 31 for _ in range(m)]\n",
    "    for i, (a, b, w) in enumerate(li):\n",
    "        edges.append((a, b))\n",
    "        bw = bin(w)\n",
    "        cur = 0\n",
    "        for j in range(len(bw) - 1, 1, -1):\n",
    "            if bw[j] == '1':\n",
    "                bits[i][cur] = 1\n",
    "            cur += 1\n",
    "\n",
    "    added = 0\n",
    "    edge_is = set(range(m))\n",
    "    for bit in range(30, -1, -1):\n",
    "        parent = list(range(n + 1))\n",
    "        rank = [0] * (n + 1)\n",
    "\n",
    "        unioned_c = 0\n",
    "        tds = set()\n",
    "        for index in edge_is:          \n",
    "            if bits[index][bit]:\n",
    "                tds.add(index)\n",
    "                continue\n",
    "            ra = find(edges[index][0])\n",
    "            rb = find(edges[index][1])\n",
    "\n",
    "            if ra != rb:\n",
    "                union(ra, rb)\n",
    "                unioned_c += 1\n",
    "\n",
    "        if unioned_c == n - 1:\n",
    "            edge_is -= tds\n",
    "        else:\n",
    "            added += 2 ** bit\n",
    "\n",
    "    print(added)"
   ]
  },
  {
   "cell_type": "code",
   "execution_count": 80,
   "metadata": {},
   "outputs": [
    {
     "data": {
      "text/plain": [
       "1073741824"
      ]
     },
     "execution_count": 80,
     "metadata": {},
     "output_type": "execute_result"
    }
   ],
   "source": [
    "2 ** 30"
   ]
  },
  {
   "cell_type": "code",
   "execution_count": 66,
   "metadata": {},
   "outputs": [
    {
     "data": {
      "text/plain": [
       "'0b110'"
      ]
     },
     "execution_count": 66,
     "metadata": {},
     "output_type": "execute_result"
    }
   ],
   "source": [
    "bin(6)"
   ]
  },
  {
   "cell_type": "code",
   "execution_count": 67,
   "metadata": {},
   "outputs": [
    {
     "data": {
      "text/plain": [
       "4"
      ]
     },
     "execution_count": 67,
     "metadata": {},
     "output_type": "execute_result"
    }
   ],
   "source": [
    "2 ** (len(bin(6)) - 3)"
   ]
  },
  {
   "cell_type": "markdown",
   "metadata": {},
   "source": [
    "https://codeforces.com/problemset/problem/1613/D D. MEX Sequences"
   ]
  },
  {
   "cell_type": "code",
   "execution_count": null,
   "metadata": {},
   "outputs": [],
   "source": [
    "mod = 998244353\n",
    "\n",
    "n = int(input())\n",
    "li = list(map(int, input().split()))\n",
    "\n",
    "n = max(n, 3)\n",
    "iwm = [0] * (n + 1) # iter with mex\n",
    "alive = [0] * (n + 1)\n",
    "for v in li:\n",
    "    if v == 0:\n",
    "        iwm[1] *= 2\n",
    "        alive[0] *= 2\n",
    "        \n",
    "        total %= mod\n",
    "    else:\n",
    "        total += iwm[0]\n",
    "        iwm[0] += 1\n",
    "        total += iwm[2]\n",
    "        iwm[2] += 1\n",
    "        total += alive[0]\n",
    "        total += alive[1]"
   ]
  }
 ],
 "metadata": {
  "kernelspec": {
   "display_name": "Python 3",
   "language": "python",
   "name": "python3"
  },
  "language_info": {
   "codemirror_mode": {
    "name": "ipython",
    "version": 3
   },
   "file_extension": ".py",
   "mimetype": "text/x-python",
   "name": "python",
   "nbconvert_exporter": "python",
   "pygments_lexer": "ipython3",
   "version": "3.7.4"
  }
 },
 "nbformat": 4,
 "nbformat_minor": 2
}
