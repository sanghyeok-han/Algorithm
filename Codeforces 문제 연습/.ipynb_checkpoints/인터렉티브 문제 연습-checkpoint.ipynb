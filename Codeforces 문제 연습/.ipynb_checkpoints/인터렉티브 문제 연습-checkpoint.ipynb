{
 "cells": [
  {
   "cell_type": "markdown",
   "metadata": {},
   "source": [
    "### 1. Guess the Number"
   ]
  },
  {
   "cell_type": "code",
   "execution_count": null,
   "metadata": {},
   "outputs": [],
   "source": [
    "import sys\n",
    "\n",
    "start = 1\n",
    "end = 1000000\n",
    "\n",
    "while start != end:\n",
    "    mid = (start + end + 1) // 2\n",
    "    \n",
    "    print(mid)\n",
    "    sys.stdout.flush()\n",
    "    \n",
    "    feedback = input()\n",
    "    \n",
    "    if feedback == '<':\n",
    "        end = mid - 1\n",
    "    else:\n",
    "        start = mid\n",
    "        \n",
    "result = f\"! {start}\"\n",
    "print(result)\n",
    "sys.stdout.flush()"
   ]
  },
  {
   "cell_type": "code",
   "execution_count": null,
   "metadata": {},
   "outputs": [],
   "source": [
    "import sys\n",
    "\n",
    "start = 1\n",
    "end = 1000000\n",
    "\n",
    "result = 0\n",
    "st = set()\n",
    "while start <= end:\n",
    "    mid = (start + end + 1) // 2\n",
    "    \n",
    "    print(mid)\n",
    "    sys.stdout.flush()\n",
    "    \n",
    "    feedback = input()\n",
    "    \n",
    "    if feedback == '<':\n",
    "        end = mid - 1\n",
    "    else:\n",
    "        start = mid\n",
    "        if mid in st:\n",
    "            break\n",
    "        st.add(mid)\n",
    "        \n",
    "result = f\"! {mid}\"\n",
    "print(result)\n",
    "sys.stdout.flush()"
   ]
  },
  {
   "cell_type": "code",
   "execution_count": null,
   "metadata": {},
   "outputs": [],
   "source": [
    "sys.stdin.readline"
   ]
  },
  {
   "cell_type": "code",
   "execution_count": 1,
   "metadata": {},
   "outputs": [],
   "source": [
    "result = f\"! {3}\""
   ]
  },
  {
   "cell_type": "code",
   "execution_count": 2,
   "metadata": {},
   "outputs": [
    {
     "data": {
      "text/plain": [
       "'! 3'"
      ]
     },
     "execution_count": 2,
     "metadata": {},
     "output_type": "execute_result"
    }
   ],
   "source": [
    "result"
   ]
  }
 ],
 "metadata": {
  "kernelspec": {
   "display_name": "Python 3",
   "language": "python",
   "name": "python3"
  },
  "language_info": {
   "codemirror_mode": {
    "name": "ipython",
    "version": 3
   },
   "file_extension": ".py",
   "mimetype": "text/x-python",
   "name": "python",
   "nbconvert_exporter": "python",
   "pygments_lexer": "ipython3",
   "version": "3.7.3"
  }
 },
 "nbformat": 4,
 "nbformat_minor": 4
}
