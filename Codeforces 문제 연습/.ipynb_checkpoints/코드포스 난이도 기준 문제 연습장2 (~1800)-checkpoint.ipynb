{
 "cells": [
  {
   "cell_type": "code",
   "execution_count": 1,
   "metadata": {},
   "outputs": [],
   "source": [
    "ip = lambda: input()\n",
    "iip = lambda: int(input())\n",
    "miip = lambda: map(int, input().split())\n",
    "liip = lambda: list(map(int, input().split()))\n",
    "sip = lambda: input().split() # splitted input\n",
    "lip = lambda: list(input())"
   ]
  },
  {
   "cell_type": "markdown",
   "metadata": {},
   "source": [
    "https://codeforces.com/problemset/problem/1603/A"
   ]
  },
  {
   "cell_type": "code",
   "execution_count": 10,
   "metadata": {},
   "outputs": [
    {
     "name": "stdout",
     "output_type": "stream",
     "text": [
      "1\n",
      "3\n",
      "1 2 3\n",
      "YES\n"
     ]
    }
   ],
   "source": [
    "from math import gcd\n",
    "\n",
    "cur = 2\n",
    "nxt_num = 3\n",
    "to_check = [2]\n",
    "while cur <= 1e9:\n",
    "    cur = cur * nxt_num // gcd(cur, nxt_num)\n",
    "    to_check.append(cur)\n",
    "    nxt_num += 1\n",
    "    \n",
    "def check():\n",
    "    for i in range(min(n, len(to_check))):\n",
    "        if li[i] % to_check[i] == 0:\n",
    "            return False\n",
    "        \n",
    "    return True\n",
    "\n",
    "for _ in range(iip()):\n",
    "    n = iip()\n",
    "    li = liip()\n",
    "\n",
    "    if check():\n",
    "        print('YES')\n",
    "    else:\n",
    "        print('NO')    "
   ]
  },
  {
   "cell_type": "markdown",
   "metadata": {},
   "source": [
    "https://codeforces.com/problemset/problem/1594/C"
   ]
  },
  {
   "cell_type": "code",
   "execution_count": null,
   "metadata": {},
   "outputs": [],
   "source": [
    "만약 아무 것도 바꿀게 없으면 0 출력\n",
    "만약 끝에 꺼를 바꿀 필요가 없으면\n",
    "1\n",
    "n\n",
    "출력\n",
    "\n",
    "만약 끝에 꺼를 바꿀 필요가 있으면"
   ]
  },
  {
   "cell_type": "code",
   "execution_count": 23,
   "metadata": {},
   "outputs": [
    {
     "name": "stdout",
     "output_type": "stream",
     "text": [
      "4 b\n",
      "bzyx\n",
      "2\n",
      "5 4\n"
     ]
    }
   ],
   "source": [
    "n, c = sip()\n",
    "n = int(n) + 1\n",
    "\n",
    "s = c + ip()\n",
    "to_check = -1\n",
    "for i in range(n - 1, -1, -1):\n",
    "    if s[i] == c:\n",
    "        to_check = i\n",
    "        break\n",
    "        \n",
    "if len(set(s)) == 1 and s[1] == c:\n",
    "    print(0)\n",
    "elif to_check == 0:\n",
    "    print(2)\n",
    "    print(n, n - 1)\n",
    "else:\n",
    "    if to_check * 2 >= n:\n",
    "        print(1)\n",
    "        print(to_check)\n",
    "    else:\n",
    "        r = True\n",
    "        for i in range(to_check, n, to_check):\n",
    "            if s[i] != c:\n",
    "                r = False\n",
    "                break\n",
    "                \n",
    "        if r:\n",
    "            print(1)\n",
    "            print(to_check)\n",
    "        else:\n",
    "            print(2)\n",
    "            print(n, n - 1)"
   ]
  },
  {
   "cell_type": "code",
   "execution_count": 24,
   "metadata": {},
   "outputs": [
    {
     "name": "stdout",
     "output_type": "stream",
     "text": [
      "3\n",
      "4 a\n",
      "aaaa\n",
      "0\n",
      "4 a\n",
      "baaa\n",
      "1\n",
      "4\n",
      "4 b\n",
      "bzyx\n",
      "2\n",
      "5 4\n"
     ]
    }
   ],
   "source": [
    "for _ in range(iip()):\n",
    "    n, c = sip()\n",
    "    n = int(n) + 1\n",
    "\n",
    "    s = c + ip()\n",
    "    to_check = -1\n",
    "    for i in range(n - 1, -1, -1):\n",
    "        if s[i] == c:\n",
    "            to_check = i\n",
    "            break\n",
    "\n",
    "    if len(set(s)) == 1 and s[1] == c:\n",
    "        print(0)\n",
    "    else:\n",
    "        if to_check * 2 >= n:\n",
    "            print(1)\n",
    "            print(to_check)\n",
    "        else:\n",
    "            print(2)\n",
    "            print(n - 1, n - 2)    "
   ]
  },
  {
   "cell_type": "markdown",
   "metadata": {},
   "source": [
    "https://codeforces.com/problemset/problem/1594/B"
   ]
  },
  {
   "cell_type": "code",
   "execution_count": 40,
   "metadata": {},
   "outputs": [
    {
     "name": "stdout",
     "output_type": "stream",
     "text": [
      "1\n",
      "3 4\n",
      "9\n"
     ]
    }
   ],
   "source": [
    "mod = 10 ** 9 + 7\n",
    "\n",
    "for _ in range(iip()):\n",
    "    n, k = miip()\n",
    "    \n",
    "    cur = 1\n",
    "    to_check = [1]\n",
    "    while cur <= k:\n",
    "        cur *= 2\n",
    "        to_check.append(cur)\n",
    "\n",
    "    to_adds = []\n",
    "    for i in range(len(to_check) -1, -1, -1):\n",
    "        if k >= to_check[i]:\n",
    "            to_adds.append(i)\n",
    "            k -= to_check[i]\n",
    "\n",
    "    total = 0\n",
    "    for v in to_adds:\n",
    "        total += pow(n, v, mod)\n",
    "        total %= mod\n",
    "\n",
    "    print(total)"
   ]
  },
  {
   "cell_type": "markdown",
   "metadata": {},
   "source": [
    "https://codeforces.com/problemset/problem/1584/C"
   ]
  },
  {
   "cell_type": "code",
   "execution_count": 5,
   "metadata": {},
   "outputs": [
    {
     "name": "stdout",
     "output_type": "stream",
     "text": [
      "3\n",
      "3\n",
      "-1 1 0\n",
      "0 0 2\n",
      "YES\n",
      "1\n",
      "0\n",
      "2\n",
      "NO\n",
      "5\n",
      "1 2 3 4 5\n",
      "1 2 3 4 5\n",
      "YES\n"
     ]
    }
   ],
   "source": [
    "def check():\n",
    "    for i in range(n):\n",
    "        diff = b[i] - a[i]\n",
    "        if diff != 0 and diff != 1:\n",
    "            return False\n",
    "    return True\n",
    "\n",
    "for _ in range(iip()):\n",
    "    n = iip()\n",
    "    a = sorted(miip())\n",
    "    b = sorted(miip())\n",
    "\n",
    "    if check():\n",
    "        print('YES')\n",
    "    else:\n",
    "        print('NO')    "
   ]
  },
  {
   "cell_type": "markdown",
   "metadata": {},
   "source": [
    "https://codeforces.com/problemset/problem/1584/B"
   ]
  },
  {
   "cell_type": "code",
   "execution_count": null,
   "metadata": {},
   "outputs": [],
   "source": []
  },
  {
   "cell_type": "markdown",
   "metadata": {},
   "source": [
    "### 제출본"
   ]
  },
  {
   "cell_type": "code",
   "execution_count": null,
   "metadata": {},
   "outputs": [],
   "source": [
    "import os\n",
    "import sys\n",
    "from io import BytesIO, IOBase\n",
    " \n",
    "## PYRIVAL BOOTSTRAP\n",
    "# https://github.com/cheran-senthil/PyRival/blob/master/pyrival/misc/bootstrap.py\n",
    "# This decorator allows for recursion without actually doing recursion\n",
    "from types import GeneratorType\n",
    "## @bootstrap, yield when getting and returning value in recursive functions\n",
    " \n",
    "\n",
    "def main():\n",
    "    def check():\n",
    "        for i in range(n):\n",
    "            diff = b[i] - a[i]\n",
    "            if diff != 0 and diff != 1:\n",
    "                return False\n",
    "        return True\n",
    "\n",
    "    for _ in range(iip()):\n",
    "        n = iip()\n",
    "        a = sorted(miip())\n",
    "        b = sorted(miip())\n",
    "\n",
    "        if check():\n",
    "            print('YES')\n",
    "        else:\n",
    "            print('NO')    \n",
    " \n",
    " \n",
    "    \n",
    "# region fastio\n",
    " \n",
    "BUFSIZE = 8192\n",
    " \n",
    "\n",
    "class FastIO(IOBase):\n",
    "    newlines = 0\n",
    " \n",
    "    def __init__(self, file):\n",
    "        self._fd = file.fileno()\n",
    "        self.buffer = BytesIO()\n",
    "        self.writable = \"x\" in file.mode or \"r\" not in file.mode\n",
    "        self.write = self.buffer.write if self.writable else None\n",
    " \n",
    "    def read(self):\n",
    "        while True:\n",
    "            b = os.read(self._fd, max(os.fstat(self._fd).st_size, BUFSIZE))\n",
    "            if not b:\n",
    "                break\n",
    "            ptr = self.buffer.tell()\n",
    "            self.buffer.seek(0, 2), self.buffer.write(b), self.buffer.seek(ptr)\n",
    "        self.newlines = 0\n",
    "        return self.buffer.read()\n",
    " \n",
    "    def readline(self):\n",
    "        while self.newlines == 0:\n",
    "            b = os.read(self._fd, max(os.fstat(self._fd).st_size, BUFSIZE))\n",
    "            self.newlines = b.count(b\"\\n\") + (not b)\n",
    "            ptr = self.buffer.tell()\n",
    "            self.buffer.seek(0, 2), self.buffer.write(b), self.buffer.seek(ptr)\n",
    "        self.newlines -= 1\n",
    "        return self.buffer.readline()\n",
    " \n",
    "    def flush(self):\n",
    "        if self.writable:\n",
    "            os.write(self._fd, self.buffer.getvalue())\n",
    "            self.buffer.truncate(0), self.buffer.seek(0)\n",
    " \n",
    " \n",
    "class IOWrapper(IOBase):\n",
    "    def __init__(self, file):\n",
    "        self.buffer = FastIO(file)\n",
    "        self.flush = self.buffer.flush\n",
    "        self.writable = self.buffer.writable\n",
    "        self.write = lambda s: self.buffer.write(s.encode(\"ascii\"))\n",
    "        self.read = lambda: self.buffer.read().decode(\"ascii\")\n",
    "        self.readline = lambda: self.buffer.readline().decode(\"ascii\")\n",
    " \n",
    " \n",
    "sys.stdin, sys.stdout = IOWrapper(sys.stdin), IOWrapper(sys.stdout)\n",
    "input = lambda: sys.stdin.readline().rstrip(\"\\r\\n\")\n",
    " \n",
    "# endregion\n",
    " \n",
    "if __name__ == \"__main__\":\n",
    "    def bootstrap(f, stack=[]):\n",
    "        def wrappedfunc(*args, **kwargs):\n",
    "            if stack:\n",
    "                return f(*args, **kwargs)\n",
    "            else:\n",
    "                to = f(*args, **kwargs)\n",
    "                while True:\n",
    "                    if type(to) is GeneratorType:\n",
    "                        stack.append(to)\n",
    "                        to = next(to)\n",
    "                    else:\n",
    "                        stack.pop()\n",
    "                        if not stack:\n",
    "                            break\n",
    "                        to = stack[-1].send(to)\n",
    "                return to\n",
    "        return wrappedfunc\n",
    "    \n",
    "    ip = lambda: input()\n",
    "    iip = lambda: int(input())\n",
    "    miip = lambda: map(int, input().split())\n",
    "    liip = lambda: list(map(int, input().split()))\n",
    "    sip = lambda: input().split() # splitted input\n",
    "    lip = lambda: list(input())\n",
    "    \n",
    "    main()"
   ]
  }
 ],
 "metadata": {
  "kernelspec": {
   "display_name": "Python 3",
   "language": "python",
   "name": "python3"
  },
  "language_info": {
   "codemirror_mode": {
    "name": "ipython",
    "version": 3
   },
   "file_extension": ".py",
   "mimetype": "text/x-python",
   "name": "python",
   "nbconvert_exporter": "python",
   "pygments_lexer": "ipython3",
   "version": "3.7.3"
  }
 },
 "nbformat": 4,
 "nbformat_minor": 4
}
