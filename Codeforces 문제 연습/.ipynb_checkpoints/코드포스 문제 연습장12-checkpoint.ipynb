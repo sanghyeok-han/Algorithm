{
 "cells": [
  {
   "cell_type": "markdown",
   "metadata": {},
   "source": [
    "https://codeforces.com/problemset/problem/1250/H H. Happy Birthday"
   ]
  },
  {
   "cell_type": "markdown",
   "metadata": {},
   "source": [
    "4.11 4.24"
   ]
  },
  {
   "cell_type": "code",
   "execution_count": 11,
   "metadata": {},
   "outputs": [
    {
     "name": "stdout",
     "output_type": "stream",
     "text": [
      "1\n",
      "1 2 2 2 2 2 2 2 2 2\n",
      "100\n"
     ]
    }
   ],
   "source": [
    "import sys\n",
    "input = lambda: sys.stdin.readline().rstrip()\n",
    "\n",
    "for _ in range(int(input())):\n",
    "    li = list(map(int, input().split()))\n",
    "    li.append(li.pop(0))\n",
    "\n",
    "    min_v = min(li)\n",
    "    for i in range(10):\n",
    "        if li[i] == min_v:\n",
    "            if i < 9:\n",
    "                r = str(i + 1) * (min_v + 1)\n",
    "            else:\n",
    "                r = '1' + '0' * (min_v + 1)\n",
    "            break\n",
    "\n",
    "    print(r)"
   ]
  },
  {
   "cell_type": "markdown",
   "metadata": {},
   "source": [
    "https://codeforces.com/problemset/problem/1242/A A. Tile Painting"
   ]
  },
  {
   "cell_type": "markdown",
   "metadata": {},
   "source": [
    "4.46 4.56"
   ]
  },
  {
   "cell_type": "code",
   "execution_count": null,
   "metadata": {},
   "outputs": [],
   "source": [
    "12\n",
    "2 3 4 6 12\n",
    "\n",
    "1 2 3 4 5 6 7 8 9 0 1 2\n",
    "1   1   1   1   1   1\n",
    "  2   2   2   2   2   2\n",
    "1     1"
   ]
  },
  {
   "cell_type": "code",
   "execution_count": null,
   "metadata": {},
   "outputs": [],
   "source": [
    "8\n",
    "1 2 4 8\n"
   ]
  },
  {
   "cell_type": "code",
   "execution_count": 20,
   "metadata": {},
   "outputs": [
    {
     "name": "stdout",
     "output_type": "stream",
     "text": [
      "4\n",
      "2\n"
     ]
    }
   ],
   "source": [
    "def p_facto(num):\n",
    "    r = set()\n",
    "    for mod in range(2, int(num ** 0.5) + 1):\n",
    "        while num % mod == 0:\n",
    "            num //= mod\n",
    "            r.add(mod)\n",
    "    \n",
    "    if num != 1:\n",
    "        r.add(num)\n",
    "        \n",
    "    return r\n",
    "\n",
    "n = int(input())\n",
    "\n",
    "p = p_facto(n)\n",
    "\n",
    "if len(p) == 1:\n",
    "    print(p.pop())\n",
    "else:\n",
    "    print(1)"
   ]
  },
  {
   "cell_type": "markdown",
   "metadata": {},
   "source": [
    "https://codeforces.com/problemset/problem/1236/B B. Alice and the List of Presents"
   ]
  },
  {
   "cell_type": "markdown",
   "metadata": {},
   "source": [
    "9.14 9.34 풀이"
   ]
  },
  {
   "cell_type": "code",
   "execution_count": 23,
   "metadata": {},
   "outputs": [
    {
     "name": "stdout",
     "output_type": "stream",
     "text": [
      "2 2\n",
      "9\n"
     ]
    }
   ],
   "source": [
    "mod = int(1e9) + 7\n",
    "\n",
    "n, m = map(int, input().split())\n",
    "\n",
    "temp = pow(2, m, mod) - 1\n",
    "r = pow(temp, n, mod)\n",
    "\n",
    "print(r)"
   ]
  },
  {
   "cell_type": "markdown",
   "metadata": {},
   "source": [
    "https://codeforces.com/problemset/problem/1234/C C. Pipes"
   ]
  },
  {
   "cell_type": "code",
   "execution_count": 31,
   "metadata": {},
   "outputs": [
    {
     "name": "stdout",
     "output_type": "stream",
     "text": [
      "1\n",
      "1\n",
      "3\n",
      "4\n",
      "YES\n"
     ]
    }
   ],
   "source": [
    "import sys\n",
    "input = lambda: sys.stdin.readline().rstrip()\n",
    "\n",
    "for _ in range(int(input())):\n",
    "    n = int(input())\n",
    "    li = [input() for _ in range(2)]\n",
    "\n",
    "    nli = []\n",
    "    for temp in li:\n",
    "        ntemp = []\n",
    "        for v in temp:\n",
    "            if v == '1' or v == '2':\n",
    "                ntemp.append(1)\n",
    "            else:\n",
    "                ntemp.append(3)\n",
    "\n",
    "        nli.append(ntemp)\n",
    "\n",
    "    x, y = 0, 0\n",
    "    path = []\n",
    "    ip = True\n",
    "    while True:\n",
    "        if nli[x][y] == 1:\n",
    "            if path and path[-1] == 3:\n",
    "                if len(path) == 1 or path[-2] != 3:\n",
    "                    ip = False\n",
    "                    break\n",
    "            path.append(nli[x][y])        \n",
    "            y += 1\n",
    "        else:\n",
    "            if path and path[-1] == 3:\n",
    "                path = []\n",
    "                y += 1\n",
    "            else:\n",
    "                path.append(nli[x][y])\n",
    "                x ^= 1\n",
    "\n",
    "        if y >= n:\n",
    "            break\n",
    "\n",
    "    if not (x == 1 and y == n):\n",
    "        ip = False\n",
    "\n",
    "    if ip:\n",
    "        print('YES')\n",
    "    else:\n",
    "        print('NO')"
   ]
  },
  {
   "cell_type": "markdown",
   "metadata": {},
   "source": [
    "https://codeforces.com/problemset/problem/1218/F F. Workout plan"
   ]
  },
  {
   "cell_type": "markdown",
   "metadata": {},
   "source": [
    "11.08 11.17"
   ]
  },
  {
   "cell_type": "code",
   "execution_count": 36,
   "metadata": {},
   "outputs": [
    {
     "name": "stdout",
     "output_type": "stream",
     "text": [
      "5 10000\n",
      "10000 40000 30000 30000 20000\n",
      "10000\n",
      "5 2 8 3 6\n",
      "-1\n"
     ]
    }
   ],
   "source": [
    "from heapq import heappush, heappop\n",
    "import sys\n",
    "input = lambda: sys.stdin.readline().rstrip()\n",
    "\n",
    "n, k = map(int, input().split())\n",
    "xs = list(map(int, input().split()))\n",
    "a = int(input())\n",
    "cs = list(map(int, input().split()))\n",
    "\n",
    "heap = []\n",
    "total = 0\n",
    "ip = True\n",
    "cur = k\n",
    "for i in range(n):\n",
    "    heappush(heap, cs[i])\n",
    "    \n",
    "    if xs[i] <= cur:\n",
    "        continue\n",
    "    diff = xs[i] - cur\n",
    "    needed = diff // a\n",
    "    if diff % a:\n",
    "        needed += 1\n",
    "    \n",
    "    if len(heap) < needed:\n",
    "        ip = False\n",
    "        break\n",
    "        \n",
    "    for _ in range(needed):\n",
    "        total += heappop(heap)\n",
    "    cur += needed * a\n",
    "    \n",
    "if not ip:\n",
    "    print(-1)\n",
    "else:\n",
    "    print(total)"
   ]
  },
  {
   "cell_type": "markdown",
   "metadata": {},
   "source": [
    "https://codeforces.com/problemset/problem/1215/C C. Swap Letters"
   ]
  },
  {
   "cell_type": "markdown",
   "metadata": {},
   "source": [
    "11.17 11.31"
   ]
  },
  {
   "cell_type": "code",
   "execution_count": 43,
   "metadata": {},
   "outputs": [
    {
     "name": "stdout",
     "output_type": "stream",
     "text": [
      "4\n",
      "abab\n",
      "aabb\n",
      "2\n",
      "3 3\n",
      "3 2\n"
     ]
    }
   ],
   "source": [
    "n = int(input())\n",
    "s = input()\n",
    "t = input()\n",
    "\n",
    "ab = []\n",
    "ba = []\n",
    "for i in range(n):\n",
    "    if s[i] == 'a' and t[i] == 'b':\n",
    "        ab.append(i)\n",
    "    elif s[i] == 'b' and t[i] == 'a':\n",
    "        ba.append(i)\n",
    "        \n",
    "if (len(ab) + len(ba)) % 2 == 1:\n",
    "    print(-1)\n",
    "else:\n",
    "    result = []\n",
    "    if len(ab) % 2 == 1:\n",
    "        i = ab.pop()\n",
    "        j = ba.pop()\n",
    "        \n",
    "        result.append((i + 1, i + 1))\n",
    "        result.append((i + 1, j + 1))\n",
    "    \n",
    "    while ab:\n",
    "        i = ab.pop()\n",
    "        j = ab.pop()\n",
    "        result.append((i + 1, j + 1))\n",
    "    \n",
    "    while ba:\n",
    "        i = ba.pop()\n",
    "        j = ba.pop()\n",
    "        result.append((i + 1, j + 1))\n",
    "        \n",
    "    print(len(result))\n",
    "    for v in result:\n",
    "        print(*v)"
   ]
  },
  {
   "cell_type": "markdown",
   "metadata": {},
   "source": [
    "https://codeforces.com/problemset/problem/1213/D1 D1. Equalizing by Division (easy version)"
   ]
  },
  {
   "cell_type": "markdown",
   "metadata": {},
   "source": [
    "3.12 3.23"
   ]
  },
  {
   "cell_type": "code",
   "execution_count": 53,
   "metadata": {},
   "outputs": [
    {
     "name": "stdout",
     "output_type": "stream",
     "text": [
      "5 3\n",
      "1 2 2 4 5\n",
      "1\n"
     ]
    }
   ],
   "source": [
    "import sys\n",
    "input = lambda: sys.stdin.readline().rstrip()\n",
    "\n",
    "inf = float('inf')\n",
    "\n",
    "n, k = map(int, input().split())\n",
    "li = list(map(int, input().split()))\n",
    "\n",
    "min_r = inf\n",
    "for target in range(200001):\n",
    "    needed = []\n",
    "    for v in li:\n",
    "        if v > target:\n",
    "            nv = v\n",
    "            c = 0\n",
    "            while nv > target:\n",
    "                nv //= 2\n",
    "                c += 1\n",
    "                \n",
    "                if nv == target:\n",
    "                    needed.append(c)\n",
    "                    break\n",
    "        elif v == target: \n",
    "            needed.append(0)\n",
    "            \n",
    "    if len(needed) >= k:\n",
    "        needed.sort()\n",
    "        sv = 0\n",
    "        for i in range(k):\n",
    "            sv += needed[i]\n",
    "            \n",
    "        min_r = min(min_r, sv)\n",
    "\n",
    "        \n",
    "print(min_r)"
   ]
  },
  {
   "cell_type": "markdown",
   "metadata": {},
   "source": [
    "https://codeforces.com/problemset/problem/1209/C C. Paint the Digits"
   ]
  },
  {
   "cell_type": "markdown",
   "metadata": {},
   "source": [
    "3.24 3.48"
   ]
  },
  {
   "cell_type": "code",
   "execution_count": null,
   "metadata": {},
   "outputs": [],
   "source": [
    "040425524644\n",
    "\n",
    "04042552"
   ]
  },
  {
   "cell_type": "code",
   "execution_count": 65,
   "metadata": {},
   "outputs": [
    {
     "name": "stdout",
     "output_type": "stream",
     "text": [
      "3\n",
      "987\n",
      "-\n"
     ]
    }
   ],
   "source": [
    "from collections import deque\n",
    "import sys\n",
    "input = lambda: sys.stdin.readline().rstrip()\n",
    "\n",
    "for _ in range(int(input())):\n",
    "    n = int(input())\n",
    "    li = list(map(int, input()))\n",
    "\n",
    "    left = deque()\n",
    "    right = deque()\n",
    "    cur_max = -1\n",
    "    cur_l_max = -1\n",
    "    for i in range(n):\n",
    "        if li[i] < cur_max:\n",
    "            cur_l_max = max(cur_l_max, li[i])\n",
    "            left.append(i)\n",
    "        else:\n",
    "            cur_max = li[i]\n",
    "            right.append(i)\n",
    "\n",
    "    while right and li[right[0]] < cur_l_max:\n",
    "        left.append(right.popleft())\n",
    "\n",
    "    cand = [1] * n\n",
    "    for index in right:\n",
    "        cand[index] = 2\n",
    "\n",
    "    cur_l_max = -1\n",
    "    cur_r_max = -1\n",
    "    ip = True\n",
    "    for i in range(n):\n",
    "        if cand[i] == 1:\n",
    "            if li[i] < cur_l_max:\n",
    "                ip = False\n",
    "                break\n",
    "            cur_l_max = max(cur_l_max, li[i])\n",
    "        else:\n",
    "            if li[i] < cur_r_max:\n",
    "                ip = False\n",
    "                break\n",
    "            cur_r_max = max(cur_r_max, li[i])\n",
    "\n",
    "    if right and cur_l_max > li[right[0]]:\n",
    "        ip = False\n",
    "\n",
    "    nleft = []\n",
    "    for i in range(n):\n",
    "        if cand[i] == 1:\n",
    "            nleft.append(li[i])\n",
    "\n",
    "    if nleft != sorted(nleft):\n",
    "        ip = False\n",
    "\n",
    "    if not ip:\n",
    "        print('-')\n",
    "    else:\n",
    "        print(''.join(map(str, cand)))"
   ]
  },
  {
   "cell_type": "code",
   "execution_count": null,
   "metadata": {},
   "outputs": [],
   "source": [
    "import sys\n",
    "input = lambda: sys.stdin.readline().rstrip()\n",
    "\n",
    "for _ in range(int(input())):\n",
    "    n = int(input())\n",
    "    li = list(map(int, input()))\n",
    "\n",
    "    for x in range(10):\n",
    "        to_check = [2] * n\n",
    "        cur_max = -1\n",
    "        for i in range(n):\n",
    "            cur_max = max(li[i], cur_max)\n",
    "            if li[i] < x:\n",
    "                to_check[i] = 1\n",
    "            elif li[i] == x:\n",
    "                if li[i] < cur_max:\n",
    "                    to_check[i] = 1\n",
    "\n",
    "        cur_l_max = -1\n",
    "        cur_r_max = -1\n",
    "        ip = True\n",
    "        for i in range(n):\n",
    "            if to_check[i] == 1:\n",
    "                if li[i] < cur_l_max:\n",
    "                    ip = False\n",
    "                    break\n",
    "                cur_l_max = max(cur_l_max, li[i])\n",
    "            else:\n",
    "                if li[i] < cur_r_max:\n",
    "                    ip = False\n",
    "                    break\n",
    "                cur_r_max = max(cur_r_max, li[i])  \n",
    "\n",
    "        if ip:\n",
    "            print(''.join(map(str, to_check)))\n",
    "            break\n",
    "    else:\n",
    "        print('-')"
   ]
  },
  {
   "cell_type": "markdown",
   "metadata": {},
   "source": [
    "https://codeforces.com/problemset/problem/1207/C C. Gas Pipeline"
   ]
  },
  {
   "cell_type": "markdown",
   "metadata": {},
   "source": [
    "4.04 4.20 포기, 다음날 4.23 4.46"
   ]
  },
  {
   "cell_type": "code",
   "execution_count": null,
   "metadata": {},
   "outputs": [],
   "source": [
    "n, a, b = map(int, input().split())\n",
    "li = list(map(int, input()))\n",
    "\n",
    "# t1 = a * 3 + b\n",
    "# t2 = a + b * 2\n",
    "\n",
    "# if t1 < t2:\n",
    "#     needed_bc = 2\n",
    "#     for i in range(n - 1):\n",
    "#         if li[i] == li[i + 1] == 0:\n",
    "#             needed_bc += 1\n",
    "#         else:\n",
    "#             needed_bc += 2\n",
    "            \n",
    " --------\n",
    " |       |\n",
    "\n",
    "  -      -\n",
    "| |______| |"
   ]
  },
  {
   "cell_type": "code",
   "execution_count": 13,
   "metadata": {},
   "outputs": [
    {
     "name": "stdout",
     "output_type": "stream",
     "text": [
      "2 5 1\n",
      "00\n",
      "13\n"
     ]
    }
   ],
   "source": [
    "import sys\n",
    "input = lambda: sys.stdin.readline().rstrip()\n",
    "\n",
    "for _ in range(int(input())):\n",
    "    n, a, b = map(int, input().split())\n",
    "    li = list(map(int, input()))\n",
    "\n",
    "    one_before = False\n",
    "    zero_cont = 0\n",
    "    zero_conts = []\n",
    "    for i in range(n):\n",
    "        if li[i] == 0:\n",
    "            zero_cont += 1\n",
    "        else:\n",
    "            if zero_cont >= 2 and one_before:\n",
    "                zero_conts.append(zero_cont)\n",
    "\n",
    "            one_before = True\n",
    "            zero_cont = 0\n",
    "\n",
    "    total = a * n + b * (n + 1)\n",
    "    if one_before:\n",
    "        total += a * 2\n",
    "\n",
    "    for i in range(n - 1):\n",
    "        if li[i] or li[i + 1]:\n",
    "            total += b\n",
    "\n",
    "    for v in zero_conts:\n",
    "        ta = 2 * a\n",
    "        tb = (v - 1) * b\n",
    "\n",
    "        if ta < tb:\n",
    "            total += ta\n",
    "        else:\n",
    "            total += tb\n",
    "\n",
    "    print(total)"
   ]
  },
  {
   "cell_type": "markdown",
   "metadata": {},
   "source": [
    "https://codeforces.com/contest/1207/problem/D D. Number Of Permutations"
   ]
  },
  {
   "cell_type": "markdown",
   "metadata": {},
   "source": [
    "7.31 7.56"
   ]
  },
  {
   "cell_type": "code",
   "execution_count": 22,
   "metadata": {},
   "outputs": [
    {
     "name": "stdout",
     "output_type": "stream",
     "text": [
      "3\n",
      "1 1\n",
      "1 1\n",
      "2 3\n",
      "4\n"
     ]
    }
   ],
   "source": [
    "import sys, os, io\n",
    "input = io.BytesIO(os.read(0,os.fstat(0).st_size)).readline\n",
    "\n",
    "mod = 998244353\n",
    "\n",
    "factos = [1, 1]\n",
    "for num in range(2, 300001):\n",
    "    temp = factos[-1] * num\n",
    "    temp %= mod\n",
    "    factos.append(temp)\n",
    "\n",
    "n = int(input())\n",
    "li = [list(map(int, input().split())) for _ in range(n)]\n",
    "\n",
    "li.sort(key=lambda x: (x[0], x[1]))\n",
    "\n",
    "t1 = 1\n",
    "t12 = 1\n",
    "cont = 0\n",
    "cur_max = -1\n",
    "temp = []\n",
    "fv = li[0][0]\n",
    "for i in range(n):\n",
    "    if li[i][0] == fv:\n",
    "        temp.append(li[i][1])\n",
    "        cont += 1\n",
    "    else:\n",
    "        t1 *= factos[cont]\n",
    "        t1 %= mod\n",
    "        fv = li[i][0]\n",
    "        cont = 1\n",
    "        \n",
    "        if temp[0] < cur_max:\n",
    "            t12 *= 0\n",
    "        cur_max = temp[-1]\n",
    "        \n",
    "        temp.append(999999999999)\n",
    "        b_cont = 0\n",
    "        b_fv = -1\n",
    "        for j in range(len(temp)):\n",
    "            if temp[j] == b_fv:\n",
    "                b_cont += 1\n",
    "            else:\n",
    "                t12 *= factos[b_cont]\n",
    "                t12 %= mod\n",
    "                b_fv = temp[j]\n",
    "                b_cont = 1\n",
    "        temp = [li[i][1]]\n",
    "                \n",
    "t1 *= factos[cont]\n",
    "t1 %= mod\n",
    "\n",
    "if temp[0] < cur_max:\n",
    "    t12 *= 0\n",
    "cur_max = temp[-1]\n",
    "\n",
    "temp.append(999999999999)\n",
    "b_cont = 0\n",
    "b_fv = -1\n",
    "for j in range(len(temp)):\n",
    "    if temp[j] == b_fv:\n",
    "        b_cont += 1\n",
    "    else:\n",
    "        t12 *= factos[b_cont]\n",
    "        t12 %= mod\n",
    "        b_fv = temp[j]\n",
    "        b_cont = 1\n",
    "\n",
    "li.sort(key=lambda x: x[1])\n",
    "\n",
    "t2 = 1\n",
    "cont = 0\n",
    "cur_max = -1\n",
    "fv = li[0][1]\n",
    "for i in range(n):\n",
    "    if li[i][1] == fv:\n",
    "        cont += 1\n",
    "    else:\n",
    "        t2 *= factos[cont]\n",
    "        t2 %= mod\n",
    "        fv = li[i][1]\n",
    "        cont = 1\n",
    "        \n",
    "t2 *= factos[cont]\n",
    "t2 %= mod\n",
    "\n",
    "r = factos[n] - t1 - t2 + t12\n",
    "r %= mod\n",
    "\n",
    "print(r)"
   ]
  },
  {
   "cell_type": "markdown",
   "metadata": {},
   "source": [
    "https://codeforces.com/problemset/problem/1203/E E. Boxers"
   ]
  },
  {
   "cell_type": "markdown",
   "metadata": {},
   "source": [
    "9.08 9.16"
   ]
  },
  {
   "cell_type": "code",
   "execution_count": null,
   "metadata": {},
   "outputs": [],
   "source": [
    "1 1 2 3 4 5"
   ]
  },
  {
   "cell_type": "code",
   "execution_count": 4,
   "metadata": {},
   "outputs": [
    {
     "name": "stdout",
     "output_type": "stream",
     "text": [
      "5\n",
      "1 1 1 1 1\n",
      "2\n"
     ]
    }
   ],
   "source": [
    "n = int(input())\n",
    "li = sorted(map(int, input().split()))\n",
    "\n",
    "total = 1\n",
    "cur_used_min = li[n - 1] + 1\n",
    "for i in range(n - 2, -1, -1):\n",
    "    if li[i] + 1 < cur_used_min:\n",
    "        total += 1\n",
    "        cur_used_min = li[i] + 1\n",
    "    elif li[i] + 1 == cur_used_min:\n",
    "        total += 1\n",
    "        cur_used_min = li[i]\n",
    "    elif li[i] == cur_used_min and li[i] - 1 >= 1:\n",
    "        total += 1\n",
    "        cur_used_min = li[i] - 1\n",
    "    \n",
    "print(total)"
   ]
  },
  {
   "cell_type": "markdown",
   "metadata": {},
   "source": [
    "https://codeforces.com/problemset/problem/1201/B B. Zero Array"
   ]
  },
  {
   "cell_type": "markdown",
   "metadata": {},
   "source": [
    "10.08 10.11"
   ]
  },
  {
   "cell_type": "code",
   "execution_count": 2,
   "metadata": {},
   "outputs": [
    {
     "name": "stdout",
     "output_type": "stream",
     "text": [
      "6\n",
      "1 2 3 4 5 6\n",
      "NO\n"
     ]
    }
   ],
   "source": [
    "n = int(input())\n",
    "li = list(map(int, input().split()))\n",
    "\n",
    "sv = sum(li)\n",
    "max_v = max(li)\n",
    "\n",
    "ip = True\n",
    "if sv % 2 == 1:\n",
    "    ip = False\n",
    "if sv - max_v < max_v:\n",
    "    ip = False\n",
    "    \n",
    "if ip:\n",
    "    print('YES')\n",
    "else:\n",
    "    print('NO')"
   ]
  },
  {
   "cell_type": "markdown",
   "metadata": {},
   "source": [
    "https://codeforces.com/problemset/problem/1196/D1"
   ]
  },
  {
   "cell_type": "markdown",
   "metadata": {},
   "source": [
    "10.11 10.19"
   ]
  },
  {
   "cell_type": "code",
   "execution_count": 8,
   "metadata": {},
   "outputs": [
    {
     "name": "stdout",
     "output_type": "stream",
     "text": [
      "5 5\n",
      "BBBRR\n",
      "3\n"
     ]
    }
   ],
   "source": [
    "import sys\n",
    "input = lambda: sys.stdin.readline().rstrip()\n",
    "\n",
    "def get_nxt(v):\n",
    "    if v == 'R':\n",
    "        return 'G'\n",
    "    elif v == 'G':\n",
    "        return 'B'\n",
    "    else:\n",
    "        return 'R'\n",
    "\n",
    "inf = float('inf')\n",
    "\n",
    "for _ in range(int(input())):\n",
    "    n, k = map(int, input().split())\n",
    "    s = input()\n",
    "\n",
    "    min_r = inf\n",
    "    for start in range(n - k + 1):\n",
    "        end = start + k - 1\n",
    "\n",
    "        tr = 0\n",
    "        cur = 'R'\n",
    "        for i in range(start, end + 1):\n",
    "            if s[i] != cur:\n",
    "                tr += 1\n",
    "            cur = get_nxt(cur)\n",
    "\n",
    "        tg = 0\n",
    "        cur = 'G'\n",
    "        for i in range(start, end + 1):\n",
    "            if s[i] != cur:\n",
    "                tg += 1\n",
    "            cur = get_nxt(cur)  \n",
    "\n",
    "        tb = 0\n",
    "        cur = 'B'\n",
    "        for i in range(start, end + 1):\n",
    "            if s[i] != cur:\n",
    "                tb += 1\n",
    "            cur = get_nxt(cur)    \n",
    "\n",
    "        min_r = min(min_r, min(tr, tg, tb))\n",
    "\n",
    "    print(min_r)"
   ]
  },
  {
   "cell_type": "markdown",
   "metadata": {},
   "source": [
    "https://codeforces.com/problemset/problem/1196/C C. Robot Breakout"
   ]
  },
  {
   "cell_type": "markdown",
   "metadata": {},
   "source": [
    "10.23 10.53 포기, 풀이"
   ]
  },
  {
   "cell_type": "code",
   "execution_count": null,
   "metadata": {},
   "outputs": [],
   "source": [
    "import sys\n",
    "# input = lambda: sys.stdin.readline().rstrip()\n",
    "\n",
    "inf = float('inf')\n",
    "\n",
    "for _ in range(int(input())):\n",
    "    n = int(input())\n",
    "    li = [list(map(int, input().split())) for _ in range(n)]\n",
    "\n",
    "    ip = True\n",
    "    \n",
    "    # 0: x, 1: y, 2: left, 3: up, 4: right, 5: down\n",
    "    \n",
    "    li.sort(key=lambda x: x[0])\n",
    "    can_right_max = inf\n",
    "    to_check_start = -1\n",
    "    for i in range(n):\n",
    "        if li[i][4] == 0:\n",
    "            can_right_max = li[i][0]\n",
    "            to_check_start = i + 1\n",
    "            break\n",
    "\n",
    "    if can_right_max != inf:\n",
    "        for i in range(to_check_start, n):\n",
    "            if li[i][0] != can_right_max and li[i][2] == 0:\n",
    "                ip = False\n",
    "                break\n",
    "    else:\n",
    "        can_right_max = li[n - 1][0]\n",
    "\n",
    "    li.sort(key=lambda x: x[1])\n",
    "    can_up_max = inf\n",
    "    to_check_start = -1\n",
    "    for i in range(n):\n",
    "        if li[i][3] == 0:\n",
    "            can_up_max = li[i][1]\n",
    "            to_check_start = i + 1\n",
    "            break\n",
    "\n",
    "    if can_up_max != inf:\n",
    "        for i in range(to_check_start, n):\n",
    "            if li[i][1] != can_up_max and li[i][5] == 0:\n",
    "                ip = False\n",
    "                break\n",
    "    else:\n",
    "        can_up_max = li[n - 1][1]\n",
    "\n",
    "    if not ip:\n",
    "        print(0)\n",
    "    else:\n",
    "        print(1, can_right_max, can_up_max)"
   ]
  },
  {
   "cell_type": "markdown",
   "metadata": {},
   "source": [
    "https://codeforces.com/problemset/problem/1719/C C. Fighting Tournament"
   ]
  },
  {
   "cell_type": "markdown",
   "metadata": {},
   "source": [
    "6.42 7.07"
   ]
  },
  {
   "cell_type": "code",
   "execution_count": 12,
   "metadata": {},
   "outputs": [
    {
     "data": {
      "text/plain": [
       "25"
      ]
     },
     "execution_count": 12,
     "metadata": {},
     "output_type": "execute_result"
    }
   ],
   "source": [
    "67 - 42"
   ]
  },
  {
   "cell_type": "code",
   "execution_count": 11,
   "metadata": {},
   "outputs": [
    {
     "name": "stdout",
     "output_type": "stream",
     "text": [
      "5 2\n",
      "1 2 3 5 4\n",
      "5 100000000\n",
      "4 6\n",
      "0\n",
      "4\n"
     ]
    }
   ],
   "source": [
    "from collections import deque\n",
    "import sys\n",
    "input = lambda: sys.stdin.readline().rstrip()\n",
    "\n",
    "for _ in range(int(input())):\n",
    "    n, q = map(int, input().split())\n",
    "    deq = deque(map(int, input().split()))\n",
    "    qus = [list(map(int, input().split())) + [i] for i in range(q)]\n",
    "\n",
    "    qus.sort(key=lambda x: x[1])\n",
    "\n",
    "    id_to_pow = [0] * n\n",
    "    for i in range(n):\n",
    "        id_to_pow[i] = deq[i]\n",
    "\n",
    "    win_cs = [0] * (n + 1)\n",
    "    qu_i = 0\n",
    "    result = [0] * q\n",
    "    for i in range(n):\n",
    "        to_c = i + 1\n",
    "\n",
    "        a_pow = deq.popleft()\n",
    "        b_pow = deq.popleft()\n",
    "\n",
    "        max_v = max(a_pow, b_pow)\n",
    "        min_v = min(a_pow, b_pow)\n",
    "\n",
    "        win_cs[max_v] += 1\n",
    "        deq.appendleft(max_v)\n",
    "        deq.append(min_v)\n",
    "\n",
    "        while qu_i < q and qus[qu_i][1] == to_c:\n",
    "            p_id = qus[qu_i][0] - 1\n",
    "            p_pow = id_to_pow[p_id]\n",
    "\n",
    "            qu_id = qus[qu_i][2]\n",
    "            result[qu_id] = win_cs[p_pow]\n",
    "            qu_i += 1\n",
    "\n",
    "    while qu_i < q:\n",
    "        p_id = qus[qu_i][0] - 1\n",
    "        p_pow = id_to_pow[p_id]\n",
    "\n",
    "        qu_id = qus[qu_i][2]    \n",
    "\n",
    "        if p_pow != n:\n",
    "            result[qu_id] = win_cs[p_pow]\n",
    "        else:\n",
    "            diff = qus[qu_i][1] - n\n",
    "            result[qu_id] = win_cs[p_pow] + diff\n",
    "        qu_i += 1\n",
    "\n",
    "    for v in result:\n",
    "        print(v)"
   ]
  },
  {
   "cell_type": "markdown",
   "metadata": {},
   "source": [
    "https://codeforces.com/problemset/problem/1195/D1 D1. Submarine in the Rybinsk Sea (easy edition)"
   ]
  },
  {
   "cell_type": "code",
   "execution_count": 26,
   "metadata": {},
   "outputs": [
    {
     "name": "stdout",
     "output_type": "stream",
     "text": [
      "5\n",
      "1000000000 1000000000 1000000000 1000000000 1000000000\n",
      "265359409\n"
     ]
    }
   ],
   "source": [
    "mod = 998244353\n",
    "\n",
    "n = int(input())\n",
    "li = input().split()\n",
    "\n",
    "m = len(li[0])\n",
    "total = 0\n",
    "for v in li:\n",
    "    cur = 0\n",
    "    for j in range(m - 1, -1, -1):\n",
    "        num = int(v[j])\n",
    "        total += (num * 10 ** cur) * n\n",
    "        total += (num * 10 ** (cur + 1)) * n\n",
    "        cur += 2\n",
    "    total %= mod\n",
    "\n",
    "print(total)"
   ]
  },
  {
   "cell_type": "markdown",
   "metadata": {},
   "source": [
    "https://codeforces.com/problemset/problem/1186/D D. Vus the Cossack and Numbers"
   ]
  },
  {
   "cell_type": "markdown",
   "metadata": {},
   "source": [
    "7.37 7.48"
   ]
  },
  {
   "cell_type": "code",
   "execution_count": 32,
   "metadata": {},
   "outputs": [
    {
     "name": "stdout",
     "output_type": "stream",
     "text": [
      "4\n",
      "4.5\n",
      "1.2\n",
      "-2.1\n",
      "-3.2\n",
      "5\n",
      "2\n",
      "-3\n",
      "-4\n"
     ]
    }
   ],
   "source": [
    "from math import ceil, floor\n",
    "import sys\n",
    "input = lambda: sys.stdin.readline().rstrip()\n",
    "\n",
    "n = int(input())\n",
    "\n",
    "total = 0\n",
    "unfixed = []\n",
    "result = [0] * n\n",
    "for i in range(n):\n",
    "    num = float(input())\n",
    "    \n",
    "    cn = ceil(num)\n",
    "    fn = floor(num)\n",
    "    \n",
    "    if cn == fn:\n",
    "        total += num\n",
    "        result[i] = cn\n",
    "    else:\n",
    "        total += cn\n",
    "        unfixed.append((i, cn))\n",
    "        \n",
    "while total > 0:\n",
    "    index, cn = unfixed.pop()\n",
    "    result[index] = cn - 1\n",
    "    total -= 1\n",
    "    \n",
    "for index, cn in unfixed:\n",
    "    result[index] = cn\n",
    "    \n",
    "for v in result:\n",
    "    print(v)"
   ]
  },
  {
   "cell_type": "markdown",
   "metadata": {},
   "source": [
    "https://codeforces.com/problemset/problem/1181/B B. Split a Number"
   ]
  },
  {
   "cell_type": "markdown",
   "metadata": {},
   "source": [
    "10.13 10.26"
   ]
  },
  {
   "cell_type": "code",
   "execution_count": null,
   "metadata": {},
   "outputs": [],
   "source": [
    "12345678\n",
    "    4\n",
    "\n",
    "1234567\n",
    "   34"
   ]
  },
  {
   "cell_type": "code",
   "execution_count": 39,
   "metadata": {},
   "outputs": [
    {
     "name": "stdout",
     "output_type": "stream",
     "text": [
      "3\n",
      "101\n",
      "11\n"
     ]
    }
   ],
   "source": [
    "inf = float('inf')\n",
    "\n",
    "n = int(input())\n",
    "s = input()\n",
    "\n",
    "if n % 2 == 0:\n",
    "    cur = n // 2\n",
    "    delta = 0\n",
    "    while True:\n",
    "        t1 = cur - delta\n",
    "        t2 = cur + delta\n",
    "        \n",
    "        if s[t1] != '0' or s[t2] != '0':\n",
    "            break\n",
    "        \n",
    "        delta += 1\n",
    "else:\n",
    "    cur = n // 2\n",
    "    delta = 0\n",
    "    while True:\n",
    "        t1 = cur - delta\n",
    "        t2 = cur + 1 + delta\n",
    "        \n",
    "        if s[t1] != '0' or s[t2] != '0':\n",
    "            break\n",
    "        \n",
    "        delta += 1\n",
    "        \n",
    "min_r = inf\n",
    "if s[t1] != '0':\n",
    "    min_r = min(min_r, int(s[:t1]) + int(s[t1:]))\n",
    "if s[t2] != '0':\n",
    "    min_r = min(min_r, int(s[:t2]) + int(s[t2:]))\n",
    "\n",
    "print(min_r)"
   ]
  },
  {
   "cell_type": "markdown",
   "metadata": {},
   "source": [
    "https://codeforces.com/problemset/problem/1180/B B. Nick and Array"
   ]
  },
  {
   "cell_type": "code",
   "execution_count": 148,
   "metadata": {},
   "outputs": [
    {
     "data": {
      "text/plain": [
       "0"
      ]
     },
     "execution_count": 148,
     "metadata": {},
     "output_type": "execute_result"
    }
   ],
   "source": [
    "get_nv = lambda x: -x - 1\n",
    "\n",
    "v = -1\n",
    "get_nv(v)"
   ]
  },
  {
   "cell_type": "code",
   "execution_count": null,
   "metadata": {},
   "outputs": [],
   "source": [
    "만약 n이 2의 배수면 모두 음수로 만들 수 있음\n",
    "만약 n이 2의 배수가 아니면 양수로 만들었을 때 가장 작은 값 하나만 양수로 두고 모두 음수로 만들 수 있음\n",
    "n이 2 이상이면 0은 "
   ]
  },
  {
   "cell_type": "code",
   "execution_count": 130,
   "metadata": {},
   "outputs": [
    {
     "name": "stdout",
     "output_type": "stream",
     "text": [
      "5\n",
      "-2 -3 -4 -2 -3\n",
      "-2 -3 -4 1 -3\n"
     ]
    }
   ],
   "source": [
    "n = int(input())\n",
    "li = list(map(int, input().split()))\n",
    "\n",
    "get_nv = lambda x: -x - 1\n",
    "\n",
    "if n % 2 == 0:\n",
    "    result = []\n",
    "    for v in li:\n",
    "        if v >= 0:\n",
    "            v = get_nv(v)\n",
    "        result.append(v)\n",
    "else:\n",
    "    temp = []\n",
    "    c0 = 0\n",
    "    for i, v in enumerate(li):\n",
    "        if v < 0:\n",
    "            v = get_nv(v)\n",
    "            \n",
    "        if v > 0:\n",
    "            temp.append((v, i))\n",
    "        else:\n",
    "            c0 += 1\n",
    "            \n",
    "    if c0 == n:\n",
    "        result = [0] * n\n",
    "    else:\n",
    "        result = [-1] * n\n",
    "        temp.sort(key=lambda x: x[0])\n",
    "        max_r, max_r_index = temp.pop()\n",
    "        result[max_r_index] = max_r\n",
    "        for v, index in temp:\n",
    "            v = get_nv(v)\n",
    "            result[index] = v\n",
    "        \n",
    "print(*result)"
   ]
  },
  {
   "cell_type": "code",
   "execution_count": null,
   "metadata": {},
   "outputs": [],
   "source": [
    "0 0 2 3 4\n",
    "-1 -1 -3 -4 -5\n",
    "\n",
    "-1 -1 2 -4 -5\n",
    "-1 -1 -3 -4 4"
   ]
  },
  {
   "cell_type": "code",
   "execution_count": 149,
   "metadata": {},
   "outputs": [
    {
     "data": {
      "text/plain": [
       "(40, 48)"
      ]
     },
     "execution_count": 149,
     "metadata": {},
     "output_type": "execute_result"
    }
   ],
   "source": [
    "2*4*5, 3*4*4"
   ]
  },
  {
   "cell_type": "code",
   "execution_count": null,
   "metadata": {},
   "outputs": [],
   "source": [
    "0 0 0 0 -1"
   ]
  },
  {
   "cell_type": "code",
   "execution_count": null,
   "metadata": {},
   "outputs": [],
   "source": [
    "4 3 2 1 0"
   ]
  },
  {
   "cell_type": "markdown",
   "metadata": {},
   "source": [
    "https://codeforces.com/problemset/problem/1179/A A. Valeriy and Deque"
   ]
  },
  {
   "cell_type": "markdown",
   "metadata": {},
   "source": [
    "4.55 5.17 -1"
   ]
  },
  {
   "cell_type": "code",
   "execution_count": null,
   "metadata": {},
   "outputs": [
    {
     "name": "stdout",
     "output_type": "stream",
     "text": [
      "2 0\n",
      "0 0\n"
     ]
    }
   ],
   "source": [
    "from collections import deque\n",
    "import sys\n",
    "input = lambda: sys.stdin.readline().rstrip()\n",
    "\n",
    "n, q = map(int, input().split())\n",
    "deq = deque(map(int, input().split()))\n",
    "\n",
    "qus = [[int(input()), i] for i in range(q)]\n",
    "qus.sort(key=lambda x: x[0])\n",
    "\n",
    "result = [[0] * 2 for _ in range(q)]\n",
    "qi = 0\n",
    "cur = 0\n",
    "for _ in range(n):\n",
    "    cur += 1\n",
    "    a = deq.popleft()\n",
    "    b = deq.popleft()\n",
    "    \n",
    "    while qi < q and qus[qi][0] == cur:\n",
    "        qid = qus[qi][1]\n",
    "        result[qid] = [a, b]\n",
    "        qi += 1\n",
    "        \n",
    "    deq.appendleft(max(a, b))\n",
    "    deq.append(min(a, b))\n",
    "    \n",
    "fixed_a = deq.popleft()\n",
    "while qi < q:\n",
    "    value, qid = qus[qi]\n",
    "    value -= 1\n",
    "    \n",
    "    diff = value - cur\n",
    "    temp = diff % (n - 1)\n",
    "    b = deq[temp]\n",
    "    \n",
    "    result[qid][0] = fixed_a\n",
    "    result[qid][1] = b\n",
    "    qi += 1\n",
    "    \n",
    "for a, b in result:\n",
    "    print(a, b)"
   ]
  },
  {
   "cell_type": "code",
   "execution_count": 11,
   "metadata": {},
   "outputs": [
    {
     "data": {
      "text/plain": [
       "-7"
      ]
     },
     "execution_count": 11,
     "metadata": {},
     "output_type": "execute_result"
    }
   ],
   "source": [
    "value"
   ]
  },
  {
   "cell_type": "code",
   "execution_count": 5,
   "metadata": {},
   "outputs": [
    {
     "data": {
      "text/plain": [
       "deque([1, 2, 3, 4])"
      ]
     },
     "execution_count": 5,
     "metadata": {},
     "output_type": "execute_result"
    }
   ],
   "source": [
    "deq"
   ]
  },
  {
   "cell_type": "code",
   "execution_count": 4,
   "metadata": {},
   "outputs": [
    {
     "data": {
      "text/plain": [
       "4"
      ]
     },
     "execution_count": 4,
     "metadata": {},
     "output_type": "execute_result"
    }
   ],
   "source": [
    "cur"
   ]
  },
  {
   "cell_type": "code",
   "execution_count": null,
   "metadata": {},
   "outputs": [],
   "source": [
    "1 2 3 4\n",
    "\n",
    "2 3 4 1 1\n",
    "3 4 1 2 2\n",
    "4 1 2 3 3\n",
    "\n",
    "4 2 3 1 4\n",
    "4 3 1 2 5\n",
    "4 1 2 3 6"
   ]
  },
  {
   "cell_type": "code",
   "execution_count": null,
   "metadata": {},
   "outputs": [],
   "source": [
    "1 4 2 3\n",
    "\n",
    "2 3 1 cur\n",
    "3 1 2 cur + 1\n",
    "1 3 2 cur + 2\n",
    "2 3 1 cur + 3"
   ]
  },
  {
   "cell_type": "markdown",
   "metadata": {},
   "source": [
    "https://codeforces.com/problemset/problem/1178/D D. Prime Graph"
   ]
  },
  {
   "cell_type": "markdown",
   "metadata": {},
   "source": [
    "5.23 5.43 풀이"
   ]
  },
  {
   "cell_type": "code",
   "execution_count": 8,
   "metadata": {},
   "outputs": [
    {
     "name": "stdout",
     "output_type": "stream",
     "text": [
      "4\n",
      "5\n",
      "1 2\n",
      "2 3\n",
      "3 4\n",
      "1 4\n",
      "1 3\n"
     ]
    }
   ],
   "source": [
    "max_num = 1500\n",
    "ip = [True] * (max_num + 1)\n",
    "ip[0] = ip[1] = False\n",
    "for mod in range(2, int(max_num ** 0.5) + 1):\n",
    "    if ip[mod]:\n",
    "        for v in range(mod * mod, max_num + 1, mod):\n",
    "            ip[v] = False\n",
    "            \n",
    "primes = [i for i, v in enumerate(ip) if v]\n",
    "\n",
    "n = int(input())\n",
    "\n",
    "target = -1\n",
    "for v in primes:\n",
    "    if v >= n:\n",
    "        target = v\n",
    "        break\n",
    "\n",
    "result = []\n",
    "for i in range(1, n):\n",
    "    result.append([i, i + 1])\n",
    "result.append([1, n])\n",
    "\n",
    "diff = target - n\n",
    "\n",
    "cur_end = n - 1\n",
    "for i in range(1, n - 1):\n",
    "    if not diff:\n",
    "        break\n",
    "    diff -= 1\n",
    "    \n",
    "    result.append([i, cur_end])\n",
    "    cur_end -= 1\n",
    "    \n",
    "print(len(result))\n",
    "for v in result:\n",
    "    print(*v)"
   ]
  },
  {
   "cell_type": "markdown",
   "metadata": {},
   "source": [
    "https://codeforces.com/problemset/problem/1169/B B. Pairs"
   ]
  },
  {
   "cell_type": "markdown",
   "metadata": {},
   "source": [
    "5.43 5.53"
   ]
  },
  {
   "cell_type": "code",
   "execution_count": 12,
   "metadata": {},
   "outputs": [
    {
     "name": "stdout",
     "output_type": "stream",
     "text": [
      "5 1\n",
      "1 2\n",
      "YES\n"
     ]
    }
   ],
   "source": [
    "import sys\n",
    "input = lambda: sys.stdin.readline().rstrip()\n",
    "\n",
    "n, m = map(int, input().split())\n",
    "li = [set(map(int, input().split())) for _ in range(m)]\n",
    "\n",
    "ip = False\n",
    "for x in li[0]:\n",
    "    y_cands = []\n",
    "    for i in range(1, m):\n",
    "        if x not in li[i]:\n",
    "            y_cands = li[i]\n",
    "            break\n",
    "    \n",
    "    if not y_cands:\n",
    "        ip = True\n",
    "        break\n",
    "        \n",
    "    for y in y_cands:\n",
    "        check = True\n",
    "        for i in range(1, m):\n",
    "            if x not in li[i] and y not in li[i]:\n",
    "                check = False\n",
    "                break\n",
    "        if check:\n",
    "            ip = True\n",
    "            break\n",
    "    \n",
    "    if ip:\n",
    "        break\n",
    "        \n",
    "if ip:\n",
    "    print('YES')\n",
    "else:\n",
    "    print('NO')"
   ]
  },
  {
   "cell_type": "markdown",
   "metadata": {},
   "source": [
    "https://codeforces.com/problemset/problem/1167/D D. Bicolored RBS"
   ]
  },
  {
   "cell_type": "markdown",
   "metadata": {},
   "source": [
    "5.59 6.12 -1"
   ]
  },
  {
   "cell_type": "code",
   "execution_count": 20,
   "metadata": {},
   "outputs": [
    {
     "name": "stdout",
     "output_type": "stream",
     "text": [
      "10\n",
      "((((()))))\n",
      "0101001010\n"
     ]
    }
   ],
   "source": [
    "n = int(input())\n",
    "s = input()\n",
    "\n",
    "result = [0] * n\n",
    "cur_open = 0\n",
    "cur_close = 0\n",
    "for i in range(n):\n",
    "    if s[i] == '(':\n",
    "        result[i] = cur_open\n",
    "        cur_open ^= 1\n",
    "    else:\n",
    "        result[i] = cur_close\n",
    "        cur_close ^= 1\n",
    "        \n",
    "print(''.join(map(str, result)))"
   ]
  },
  {
   "cell_type": "markdown",
   "metadata": {},
   "source": [
    "https://codeforces.com/problemset/problem/1166/C C. A Tale of Two Lands"
   ]
  },
  {
   "cell_type": "markdown",
   "metadata": {},
   "source": [
    "6.13 6.35"
   ]
  },
  {
   "cell_type": "code",
   "execution_count": null,
   "metadata": {},
   "outputs": [],
   "source": [
    "for x in range(-10, -1):\n",
    "    for y in range(-10, -1):\n",
    "        print(x, y, abs(x - y), x + y)"
   ]
  },
  {
   "cell_type": "code",
   "execution_count": null,
   "metadata": {},
   "outputs": [],
   "source": [
    "x, y 둘 다 양수면 둘을 더한 값은 x, y 둘보다 커질 수밖에 없음\n",
    "x, y 중 큰 수에서 작은 수를 뺀 값이 작은 수보다 작아야함.\n",
    "즉 x, y 중에서 작은 수는 큰 수의 절반값 이상이어야 함\n",
    "\n",
    "절댓값은 상관 없음\n",
    "x, y 순서도 상관 없음"
   ]
  },
  {
   "cell_type": "code",
   "execution_count": null,
   "metadata": {},
   "outputs": [],
   "source": [
    "-4, -2"
   ]
  },
  {
   "cell_type": "code",
   "execution_count": 57,
   "metadata": {},
   "outputs": [
    {
     "name": "stdout",
     "output_type": "stream",
     "text": [
      "8 2\n"
     ]
    }
   ],
   "source": [
    "x, y = 5, -3\n",
    "\n",
    "print(abs(x - y), abs(x + y))"
   ]
  },
  {
   "cell_type": "code",
   "execution_count": 34,
   "metadata": {},
   "outputs": [
    {
     "data": {
      "text/plain": [
       "(-2, -6)"
      ]
     },
     "execution_count": 34,
     "metadata": {},
     "output_type": "execute_result"
    }
   ],
   "source": [
    "-4+2, -4-2"
   ]
  },
  {
   "cell_type": "code",
   "execution_count": 76,
   "metadata": {},
   "outputs": [
    {
     "name": "stdout",
     "output_type": "stream",
     "text": [
      "2\n",
      "3 6\n",
      "1\n"
     ]
    }
   ],
   "source": [
    "from bisect import bisect_left\n",
    "\n",
    "n = int(input())\n",
    "li = list(set(map(int, input().split())))\n",
    "\n",
    "for i in range(n):\n",
    "    if li[i] < 0:\n",
    "        li[i] = -li[i]\n",
    "        \n",
    "li.sort()\n",
    "\n",
    "total = 0\n",
    "for i in range(1, n):\n",
    "    c = i - bisect_left(li, (li[i] + 1) // 2)\n",
    "    total += c\n",
    "    \n",
    "print(total)"
   ]
  },
  {
   "cell_type": "code",
   "execution_count": 56,
   "metadata": {},
   "outputs": [
    {
     "data": {
      "text/plain": [
       "[2, 3, 5]"
      ]
     },
     "execution_count": 56,
     "metadata": {},
     "output_type": "execute_result"
    }
   ],
   "source": [
    "2 3 5"
   ]
  },
  {
   "cell_type": "code",
   "execution_count": 73,
   "metadata": {},
   "outputs": [
    {
     "data": {
      "text/plain": [
       "0"
      ]
     },
     "execution_count": 73,
     "metadata": {},
     "output_type": "execute_result"
    }
   ],
   "source": [
    "from bisect import bisect_left\n",
    "\n",
    "bisect_left([2, 3, 5], (4 + 1) // 2)"
   ]
  },
  {
   "cell_type": "code",
   "execution_count": 67,
   "metadata": {},
   "outputs": [
    {
     "data": {
      "text/plain": [
       "2"
      ]
     },
     "execution_count": 67,
     "metadata": {},
     "output_type": "execute_result"
    }
   ],
   "source": [
    "5 // 2"
   ]
  },
  {
   "cell_type": "markdown",
   "metadata": {},
   "source": [
    "https://codeforces.com/problemset/problem/1163/B1 B1. Cat Party (Easy Edition)"
   ]
  },
  {
   "cell_type": "markdown",
   "metadata": {},
   "source": [
    "7.40 7.50"
   ]
  },
  {
   "cell_type": "code",
   "execution_count": 84,
   "metadata": {},
   "outputs": [
    {
     "name": "stdout",
     "output_type": "stream",
     "text": [
      "6\n",
      "1 1 1 2 2 2\n",
      "5\n"
     ]
    }
   ],
   "source": [
    "n = int(input())\n",
    "li = list(map(int, input().split()))\n",
    "\n",
    "cts = [0] * 11\n",
    "max_r = 0\n",
    "for i in range(n):\n",
    "    cts[li[i]] += 1\n",
    "    \n",
    "    temp = cts[1:]\n",
    "    temp = [v for v in cts if v >= 1]\n",
    "    temp.sort(reverse=True)\n",
    "    \n",
    "    if len(temp) == 1:\n",
    "        max_r = i + 1\n",
    "    else: \n",
    "        l = len(set(temp))\n",
    "        if l == 1:\n",
    "            if temp[-1] == 1:\n",
    "                max_r = i + 1\n",
    "        elif l == 2:\n",
    "            if temp[0] != temp[1]:\n",
    "                if temp[0] == temp[1] + 1:\n",
    "                    max_r = i + 1\n",
    "            elif temp[-2] != temp[-1]:\n",
    "                if temp[-1] == 1:\n",
    "                    max_r = i + 1\n",
    "\n",
    "print(max_r)"
   ]
  },
  {
   "cell_type": "markdown",
   "metadata": {},
   "source": [
    "https://codeforces.com/problemset/problem/1158/A A. The Party and Sweets"
   ]
  },
  {
   "cell_type": "markdown",
   "metadata": {},
   "source": [
    "7.55 8.09"
   ]
  },
  {
   "cell_type": "code",
   "execution_count": null,
   "metadata": {},
   "outputs": [],
   "source": [
    "1 2 1\n",
    "3 4"
   ]
  },
  {
   "cell_type": "code",
   "execution_count": 91,
   "metadata": {},
   "outputs": [
    {
     "data": {
      "text/plain": [
       "8"
      ]
     },
     "execution_count": 91,
     "metadata": {},
     "output_type": "execute_result"
    }
   ],
   "source": [
    "(1 + 2 + 1) * 2"
   ]
  },
  {
   "cell_type": "code",
   "execution_count": 93,
   "metadata": {},
   "outputs": [
    {
     "data": {
      "text/plain": [
       "4"
      ]
     },
     "execution_count": 93,
     "metadata": {},
     "output_type": "execute_result"
    }
   ],
   "source": [
    "2 + 2"
   ]
  },
  {
   "cell_type": "code",
   "execution_count": 106,
   "metadata": {},
   "outputs": [
    {
     "name": "stdout",
     "output_type": "stream",
     "text": [
      "3 2\n",
      "1 2 1\n",
      "3 4\n",
      "12\n"
     ]
    }
   ],
   "source": [
    "n, m = map(int, input().split())\n",
    "bs = sorted(map(int, input().split()))\n",
    "gs = sorted(map(int, input().split()))\n",
    "\n",
    "total = sum(bs) * m\n",
    "\n",
    "if min(gs) < max(bs):\n",
    "    print(-1)\n",
    "else:\n",
    "    for i in range(m - 1, 0, -1):\n",
    "        if gs[i] > bs[-1]:\n",
    "            total += gs[i] - bs[-1]\n",
    "    \n",
    "    if gs[0] > bs[-1]:\n",
    "        total += gs[0] - bs[-2]\n",
    "        \n",
    "    print(total)"
   ]
  },
  {
   "cell_type": "markdown",
   "metadata": {},
   "source": [
    "https://codeforces.com/problemset/problem/1154/D D. Walking Robot"
   ]
  },
  {
   "cell_type": "markdown",
   "metadata": {},
   "source": [
    "10.01 10.16"
   ]
  },
  {
   "cell_type": "code",
   "execution_count": 2,
   "metadata": {},
   "outputs": [
    {
     "name": "stdout",
     "output_type": "stream",
     "text": [
      "5 2 1\n",
      "0 1 0 1 0\n",
      "5\n"
     ]
    }
   ],
   "source": [
    "n, b, a = map(int, input().split())\n",
    "li = list(map(int, input().split()))\n",
    "\n",
    "cur_a = a\n",
    "r = n\n",
    "for i in range(n):\n",
    "    v = li[i]\n",
    "    \n",
    "    if v == 0:\n",
    "        if cur_a:\n",
    "            cur_a -= 1\n",
    "        elif b:\n",
    "            b -= 1\n",
    "        else:\n",
    "            r = i\n",
    "            break\n",
    "    else:\n",
    "        if cur_a < a and b:\n",
    "            b -= 1\n",
    "            cur_a += 1\n",
    "        elif cur_a:\n",
    "            cur_a -= 1\n",
    "        elif b:\n",
    "            b -= 1\n",
    "        else:\n",
    "            r = i\n",
    "            break\n",
    "            \n",
    "print(r)"
   ]
  },
  {
   "cell_type": "markdown",
   "metadata": {},
   "source": [
    "https://codeforces.com/problemset/problem/1110/C C. Meaningless Operations"
   ]
  },
  {
   "cell_type": "code",
   "execution_count": null,
   "metadata": {},
   "outputs": [],
   "source": [
    "from bisect import bisect_left\n",
    "import sys\n",
    "# input = lambda: sys.stdin.readline().rstrip()\n",
    "\n",
    "cri = 133554431\n",
    "cur = 1\n",
    "sqs_m = []\n",
    "while True:\n",
    "    cur *= 2\n",
    "    if cur > cri:\n",
    "        break\n",
    "    sqs_m.append(cur - 1)\n",
    "\n",
    "for _ in range(int(input())):\n",
    "    n = int(input())\n",
    "\n",
    "    index = bisect_left(sqs_m, n)\n",
    "\n",
    "    if sqs_m[index] == n:\n",
    "        if index <= 2 or index % 2 == 0:\n",
    "            print(1)\n",
    "        else:\n",
    "            temp = list(bin(n))\n",
    "            for i in range(2, len(temp), 2):\n",
    "                temp[i] = '0'\n",
    "            r = int(''.join(temp), 2)\n",
    "            print(r)\n",
    "    else:\n",
    "        print(sqs_m[index])"
   ]
  },
  {
   "cell_type": "code",
   "execution_count": 49,
   "metadata": {},
   "outputs": [
    {
     "data": {
      "text/plain": [
       "['0', 'b', 0, '1', 0, '1']"
      ]
     },
     "execution_count": 49,
     "metadata": {},
     "output_type": "execute_result"
    }
   ],
   "source": [
    "temp"
   ]
  },
  {
   "cell_type": "code",
   "execution_count": 62,
   "metadata": {},
   "outputs": [],
   "source": [
    "from math import gcd\n",
    "\n",
    "results = []\n",
    "for a in range(2, 1000):\n",
    "    r = 0\n",
    "    for b in range(1, a):\n",
    "        r = max(r, gcd(a ^ b, a & b))\n",
    "    results.append(r)"
   ]
  },
  {
   "cell_type": "code",
   "execution_count": 63,
   "metadata": {},
   "outputs": [],
   "source": [
    "results2 = []\n",
    "for n in range(2, 1000):\n",
    "    index = bisect_left(sqs_m, n)\n",
    "\n",
    "    if sqs_m[index] == n:\n",
    "        if index <= 2 or index % 2 == 0:\n",
    "            results2.append(1)\n",
    "        else:\n",
    "            temp = list(bin(n))\n",
    "            for i in range(2, len(temp), 2):\n",
    "                temp[i] = '0'\n",
    "            r = int(''.join(temp), 2)\n",
    "            results2.append(r)\n",
    "    else:\n",
    "        results2.append(sqs_m[index])"
   ]
  },
  {
   "cell_type": "code",
   "execution_count": 66,
   "metadata": {},
   "outputs": [
    {
     "name": "stdout",
     "output_type": "stream",
     "text": [
      "509 73 1\n"
     ]
    }
   ],
   "source": [
    "for i in range(len(results)):\n",
    "    if results[i] != results2[i]:\n",
    "        print(i, results[i], results2[i])"
   ]
  },
  {
   "cell_type": "code",
   "execution_count": 85,
   "metadata": {},
   "outputs": [
    {
     "name": "stdout",
     "output_type": "stream",
     "text": [
      "1\n",
      "2\n",
      "3\n"
     ]
    }
   ],
   "source": [
    "from bisect import bisect_left\n",
    "import sys\n",
    "# input = lambda: sys.stdin.readline().rstrip()\n",
    "\n",
    "def get_value(num):\n",
    "    max_divisor = 1\n",
    "    for mod in range(2, int(num ** 0.5) + 1):\n",
    "        if num % mod == 0:\n",
    "            max_divisor = num // mod\n",
    "            break\n",
    "            \n",
    "    return max_divisor\n",
    "\n",
    "cri = 133554431\n",
    "cur = 1\n",
    "sqs_m = []\n",
    "while True:\n",
    "    cur *= 2\n",
    "    if cur > cri:\n",
    "        break\n",
    "    sqs_m.append(cur - 1)\n",
    "\n",
    "for _ in range(int(input())):\n",
    "    n = int(input())\n",
    "\n",
    "    index = bisect_left(sqs_m, n)\n",
    "\n",
    "    if sqs_m[index] == n:\n",
    "        print(get_value(n))\n",
    "    else:\n",
    "        print(sqs_m[index])"
   ]
  },
  {
   "cell_type": "code",
   "execution_count": null,
   "metadata": {},
   "outputs": [],
   "source": []
  }
 ],
 "metadata": {
  "kernelspec": {
   "display_name": "Python 3",
   "language": "python",
   "name": "python3"
  },
  "language_info": {
   "codemirror_mode": {
    "name": "ipython",
    "version": 3
   },
   "file_extension": ".py",
   "mimetype": "text/x-python",
   "name": "python",
   "nbconvert_exporter": "python",
   "pygments_lexer": "ipython3",
   "version": "3.7.4"
  }
 },
 "nbformat": 4,
 "nbformat_minor": 2
}
