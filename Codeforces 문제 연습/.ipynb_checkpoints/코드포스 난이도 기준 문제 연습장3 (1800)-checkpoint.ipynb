{
 "cells": [
  {
   "cell_type": "markdown",
   "metadata": {},
   "source": [
    "https://codeforces.com/problemset?tags=1800-1800"
   ]
  },
  {
   "cell_type": "markdown",
   "metadata": {},
   "source": [
    "https://codeforces.com/problemset/problem/1666/L"
   ]
  },
  {
   "cell_type": "code",
   "execution_count": null,
   "metadata": {},
   "outputs": [],
   "source": [
    "import sys\n",
    "# input = lambda: sys.stdin.readline().rstrip()\n",
    "\n",
    "## PYRIVAL BOOTSTRAP\n",
    "# https://github.com/cheran-senthil/PyRival/blob/master/pyrival/misc/bootstrap.py\n",
    "# This decorator allows for recursion without actually doing recursion\n",
    "## @bootstrap, yield when getting and returning value in recursive functions, end of functions\n",
    "from types import GeneratorType\n",
    "\n",
    "def bootstrap(f, stack=[]):\n",
    "    def wrappedfunc(*args, **kwargs):\n",
    "        if stack:\n",
    "            return f(*args, **kwargs)\n",
    "        else:\n",
    "            to = f(*args, **kwargs)\n",
    "            while True:\n",
    "                if type(to) is GeneratorType:\n",
    "                    stack.append(to)\n",
    "                    to = next(to)\n",
    "                else:\n",
    "                    stack.pop()\n",
    "                    if not stack:\n",
    "                        break\n",
    "                    to = stack[-1].send(to)\n",
    "            return to\n",
    "    return wrappedfunc\n",
    "\n",
    "inf = float('inf')\n",
    "\n",
    "n, m, s = map(int, input().split())\n",
    "li = [[] for _ in range(n + 1)]\n",
    "for _ in range(m):\n",
    "    a, b = map(int, input().split())\n",
    "    \n",
    "    li[a].append(b)\n",
    "    \n",
    "@bootstrap\n",
    "def dfs(value):\n",
    "    global t, c1, c2\n",
    "    \n",
    "    if nums[value] != 0 and nums[value] != num and nums[value] != inf:\n",
    "        t = value\n",
    "        c1 = num\n",
    "        c2 = nums[value]\n",
    "        yield\n",
    "    nums[value] = num\n",
    "    \n",
    "    for v in li[value]:\n",
    "        if nums[v] == inf or nums[v] == num:\n",
    "            continue\n",
    "        yield dfs(v)\n",
    "        if t != -1:\n",
    "            yield\n",
    "    yield\n",
    "\n",
    "@bootstrap\n",
    "def dfs2(value):\n",
    "    global is_found, num\n",
    "    \n",
    "    vt[value] = True\n",
    "    temp.append(value)\n",
    "    \n",
    "    if value == t:\n",
    "        is_found = True\n",
    "        yield\n",
    "    \n",
    "    for v in li[value]:\n",
    "        if vt[v]:\n",
    "            continue\n",
    "    \n",
    "        if v != t and nums[v] != num:\n",
    "            yield\n",
    "        \n",
    "        yield dfs2(v)\n",
    "        if is_found:\n",
    "            yield\n",
    "        \n",
    "    temp.pop()  \n",
    "    yield\n",
    "    \n",
    "nums = [0] * (n + 1)\n",
    "nums[s] = inf\n",
    "t = -1\n",
    "\n",
    "num = 1\n",
    "for ss in li[s]:\n",
    "    dfs(ss)\n",
    "    \n",
    "    if t != -1:\n",
    "        break\n",
    "    num += 1\n",
    "    \n",
    "if t == -1:\n",
    "    print('Impossible')\n",
    "else:\n",
    "    print('Possible')\n",
    "    num = 1\n",
    "    for ss in li[s]:\n",
    "        if num == c1 or num == c2:\n",
    "            is_found = False\n",
    "            temp = [s]\n",
    "            vt = [False] * (n + 1)\n",
    "            vt[s] = True\n",
    "            dfs2(ss)\n",
    "            \n",
    "            print(len(temp))\n",
    "            print(*temp)\n",
    "        num += 1"
   ]
  },
  {
   "cell_type": "markdown",
   "metadata": {},
   "source": [
    "https://codeforces.com/problemset/problem/1637/D"
   ]
  },
  {
   "cell_type": "code",
   "execution_count": null,
   "metadata": {},
   "outputs": [],
   "source": [
    "큰 꺼끼리 있고 작은 것끼리 따로 있는 식이면 cost가 높아짐"
   ]
  },
  {
   "cell_type": "code",
   "execution_count": 25,
   "metadata": {},
   "outputs": [
    {
     "name": "stdout",
     "output_type": "stream",
     "text": [
      "1\n",
      "4\n",
      "6 6 6 3\n",
      "4 7 2 1\n",
      "987\n"
     ]
    }
   ],
   "source": [
    "import sys\n",
    "# input = lambda: sys.stdin.readline().rstrip()\n",
    "\n",
    "for _ in range(int(input())):\n",
    "    n = int(input())\n",
    "    a = list(map(int, input().split()))\n",
    "    b = list(map(int, input().split()))\n",
    "\n",
    "    if n == 1:\n",
    "        print(0)\n",
    "    else:\n",
    "        for _ in range(n):\n",
    "            for ti in range(n):\n",
    "                asv1 = bsv1 = asv2 = bsv2 = 0\n",
    "                for i in range(n):\n",
    "                    if i == ti:\n",
    "                        continue\n",
    "\n",
    "                    asv1 += (a[i] + a[ti]) ** 2\n",
    "                    bsv1 += (b[i] + b[ti]) ** 2\n",
    "\n",
    "                    asv2 += (a[i] + b[ti]) ** 2\n",
    "                    bsv2 += (b[i] + a[ti]) ** 2\n",
    "\n",
    "                if asv1 + bsv1 > asv2 + bsv2:\n",
    "                    a[ti], b[ti] = b[ti], a[ti]\n",
    "\n",
    "        sv = 0\n",
    "        for i in range(n):\n",
    "            for j in range(i + 1, n):\n",
    "                sv += (a[i] + a[j]) ** 2 + (b[i] + b[j]) ** 2\n",
    "\n",
    "        print(sv)"
   ]
  },
  {
   "cell_type": "code",
   "execution_count": null,
   "metadata": {},
   "outputs": [],
   "source": [
    "1 1 5 5 \n",
    "3 3 3 3\n",
    "\n",
    "1+1 1+5 1+5 1+5 1+5 5+5     2 6 6 6 6 10    4 36 36 36 36 100\n",
    "3+3 3+3 3+3 3+3 3+3 3+3     6 6 6 6 6 6     36 36 36 36 36 36"
   ]
  },
  {
   "cell_type": "code",
   "execution_count": null,
   "metadata": {},
   "outputs": [],
   "source": [
    "서로 바꾼 숫자를 제외한 나머지 수들의 각각의 합이 모두 같으면 바꾸는 의미가 없어짐"
   ]
  },
  {
   "cell_type": "code",
   "execution_count": 135,
   "metadata": {
    "scrolled": true
   },
   "outputs": [
    {
     "name": "stdout",
     "output_type": "stream",
     "text": [
      "[4, 2, -1, -1]\n"
     ]
    }
   ],
   "source": [
    "n = 4\n",
    "a = [6, 7, 2, 4]\n",
    "b = [2, 5, 3, 5]\n",
    "\n",
    "sv = 0\n",
    "for i in range(n):\n",
    "    for j in range(i + 1, n):\n",
    "        sv += (a[i] + a[j]) ** 2 + (b[i] + b[j]) ** 2\n",
    "\n",
    "diffs = [0] * n\n",
    "for i in range(n):\n",
    "    diffs[i] = a[i] - b[i]\n",
    "    \n",
    "print(diffs)\n",
    "\n",
    "abs_total = 0\n",
    "for v in diffs:\n",
    "    abs_total += abs(v)\n",
    "    \n"
   ]
  },
  {
   "cell_type": "code",
   "execution_count": 136,
   "metadata": {},
   "outputs": [
    {
     "data": {
      "text/plain": [
       "8"
      ]
     },
     "execution_count": 136,
     "metadata": {},
     "output_type": "execute_result"
    }
   ],
   "source": [
    "abs_total"
   ]
  },
  {
   "cell_type": "code",
   "execution_count": 139,
   "metadata": {},
   "outputs": [
    {
     "name": "stdout",
     "output_type": "stream",
     "text": [
      "4\n",
      "2\n",
      "1\n",
      "1\n"
     ]
    }
   ],
   "source": [
    "dp = [-1] * (abs_total + 1)\n",
    "\n",
    "for i in range(n):\n",
    "    v = abs(diffs[i])\n",
    "    print(v)\n",
    "    \n",
    "    for j in range(abs_total, v - 1, -1):\n",
    "        if dp[j] != -1:\n",
    "            continue\n",
    "        if j - v == 0 or dp[j - v] != -1:\n",
    "            dp[j] = i\n",
    "    \n",
    "    tp = 1\n",
    "    if diffs[i] < 0:\n",
    "        tp = -1"
   ]
  },
  {
   "cell_type": "code",
   "execution_count": 141,
   "metadata": {},
   "outputs": [
    {
     "data": {
      "text/plain": [
       "[-1, 2, 1, 2, 0, 2, 1, 2, 3]"
      ]
     },
     "execution_count": 141,
     "metadata": {},
     "output_type": "execute_result"
    }
   ],
   "source": [
    "dp"
   ]
  },
  {
   "cell_type": "code",
   "execution_count": 152,
   "metadata": {},
   "outputs": [],
   "source": [
    "min_diff = float('inf')\n",
    "mdi = -1 # min diff indcx\n",
    "for i in range(abs_total + 1):\n",
    "    if dp[i] == -1:\n",
    "        continue\n",
    "    \n",
    "    other = abs_total - i\n",
    "    diff = abs(i - other)\n",
    "    \n",
    "    if diff < min_diff:\n",
    "        min_diff = diff\n",
    "        mdi = i"
   ]
  },
  {
   "cell_type": "code",
   "execution_count": 154,
   "metadata": {},
   "outputs": [],
   "source": [
    "used = set()\n",
    "\n",
    "cur = mdi\n",
    "while True:\n",
    "    used.add(dp[cur])\n",
    "    cur -= abs(diffs[dp[cur]])\n",
    "    if cur == 0:\n",
    "        break"
   ]
  },
  {
   "cell_type": "code",
   "execution_count": 156,
   "metadata": {},
   "outputs": [
    {
     "data": {
      "text/plain": [
       "{0}"
      ]
     },
     "execution_count": 156,
     "metadata": {},
     "output_type": "execute_result"
    }
   ],
   "source": [
    "used"
   ]
  },
  {
   "cell_type": "code",
   "execution_count": 159,
   "metadata": {},
   "outputs": [
    {
     "data": {
      "text/plain": [
       "[4, 2, -1, -1]"
      ]
     },
     "execution_count": 159,
     "metadata": {},
     "output_type": "execute_result"
    }
   ],
   "source": [
    "diffs"
   ]
  },
  {
   "cell_type": "code",
   "execution_count": 166,
   "metadata": {},
   "outputs": [
    {
     "name": "stdout",
     "output_type": "stream",
     "text": [
      "1\n",
      "1\n",
      "3\n",
      "6\n",
      "0\n"
     ]
    }
   ],
   "source": [
    "import sys\n",
    "input = lambda: sys.stdin.readline().rstrip()\n",
    "\n",
    "for _ in range(int(input())):\n",
    "    n = int(input())\n",
    "    a = list(map(int, input().split()))\n",
    "    b = list(map(int, input().split()))\n",
    "\n",
    "    if n == 1:\n",
    "        print(0)\n",
    "    else:\n",
    "        diffs = [0] * n\n",
    "        for i in range(n):\n",
    "            diffs[i] = a[i] - b[i]\n",
    "\n",
    "        abs_total = 0\n",
    "        for v in diffs:\n",
    "            abs_total += abs(v)\n",
    "\n",
    "        dp = [-1] * (abs_total + 1)\n",
    "\n",
    "        for i in range(n):\n",
    "            v = abs(diffs[i])\n",
    "            for j in range(abs_total, v - 1, -1):\n",
    "                if dp[j] != -1:\n",
    "                    continue\n",
    "                if j - v == 0 or dp[j - v] != -1:\n",
    "                    dp[j] = i\n",
    "\n",
    "        min_diff = float('inf')\n",
    "        mdi = -1 # min diff indcx\n",
    "        for i in range(abs_total + 1):\n",
    "            if dp[i] == -1:\n",
    "                continue\n",
    "\n",
    "            other = abs_total - i\n",
    "            diff = abs(i - other)\n",
    "\n",
    "            if diff < min_diff:\n",
    "                min_diff = diff\n",
    "                mdi = i\n",
    "\n",
    "        used = set()\n",
    "        cur = mdi\n",
    "        while True:\n",
    "            used.add(dp[cur])\n",
    "            cur -= abs(diffs[dp[cur]])\n",
    "            if cur == 0:\n",
    "                break\n",
    "\n",
    "        to_changes = set()\n",
    "        for i in used:\n",
    "            if diffs[i] < 0:\n",
    "                to_changes.add(i)\n",
    "\n",
    "        unused = set(range(n)) - used\n",
    "        for i in unused:\n",
    "            if diffs[i] > 0:\n",
    "                to_changes.add(i)\n",
    "\n",
    "        for i in to_changes:\n",
    "            a[i], b[i] = b[i], a[i]\n",
    "\n",
    "        sv = 0\n",
    "        for i in range(n):\n",
    "            for j in range(i + 1, n):\n",
    "                sv += (a[i] + a[j]) ** 2 + (b[i] + b[j]) ** 2\n",
    "\n",
    "        print(sv)"
   ]
  },
  {
   "cell_type": "markdown",
   "metadata": {},
   "source": [
    "https://codeforces.com/problemset/problem/1630/B"
   ]
  },
  {
   "cell_type": "code",
   "execution_count": null,
   "metadata": {},
   "outputs": [],
   "source": []
  }
 ],
 "metadata": {
  "kernelspec": {
   "display_name": "Python 3",
   "language": "python",
   "name": "python3"
  },
  "language_info": {
   "codemirror_mode": {
    "name": "ipython",
    "version": 3
   },
   "file_extension": ".py",
   "mimetype": "text/x-python",
   "name": "python",
   "nbconvert_exporter": "python",
   "pygments_lexer": "ipython3",
   "version": "3.7.4"
  }
 },
 "nbformat": 4,
 "nbformat_minor": 4
}
