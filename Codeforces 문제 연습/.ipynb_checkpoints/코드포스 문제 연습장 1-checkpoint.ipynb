{
 "cells": [
  {
   "cell_type": "markdown",
   "metadata": {},
   "source": [
    "https://codeforces.com/contest/1573/problem/B 1400"
   ]
  },
  {
   "cell_type": "code",
   "execution_count": 19,
   "metadata": {},
   "outputs": [
    {
     "name": "stdout",
     "output_type": "stream",
     "text": [
      "3\n",
      "2\n",
      "3 1\n",
      "4 2\n",
      "0\n",
      "3\n",
      "5 3 1\n",
      "2 4 6\n",
      "2\n",
      "5\n",
      "7 5 9 1 3\n",
      "2 4 6 10 8\n",
      "3\n"
     ]
    }
   ],
   "source": [
    "for _ in range(int(input())):\n",
    "    n = int(input())\n",
    "    a = list(map(int, input().split()))\n",
    "    b = list(map(int, input().split()))\n",
    "    \n",
    "    a = [(i, v) for i, v in enumerate(a)]\n",
    "    b = [(i, v) for i, v in enumerate(b)]\n",
    "    \n",
    "    a.sort(key=lambda x: x[1])\n",
    "    b.sort(key=lambda x: x[1])\n",
    "    \n",
    "    a = [v[0] for v in a]\n",
    "    b = [v[0] for v in b]\n",
    "    \n",
    "    cur_min_b = float('inf')\n",
    "    min_result = float('inf')\n",
    "    for i in range(n - 1, -1, -1):\n",
    "        cur_min_b = min(cur_min_b, b[i])\n",
    "        min_result = min(min_result, a[i] + cur_min_b)\n",
    "\n",
    "    print(min_result)"
   ]
  },
  {
   "cell_type": "markdown",
   "metadata": {},
   "source": [
    "https://codeforces.com/problemset/problem/489/C 1400"
   ]
  },
  {
   "cell_type": "code",
   "execution_count": 24,
   "metadata": {},
   "outputs": [
    {
     "name": "stdout",
     "output_type": "stream",
     "text": [
      "1 9\n",
      "9 9\n"
     ]
    }
   ],
   "source": [
    "m, s = map(int, input().split())\n",
    "\n",
    "if m == 1:\n",
    "    if s >= 10:\n",
    "        print(-1, -1)\n",
    "    else:\n",
    "        print(s, s)\n",
    "else:\n",
    "    if s < 1 or s > m * 9:\n",
    "        print(-1, -1)\n",
    "    else:\n",
    "        min_value = [0] * m\n",
    "        min_value[0] = 1\n",
    "        remain = s - 1\n",
    "        for i in range(m - 1, -1, -1):\n",
    "            if remain >= 9:\n",
    "                remain -= 9\n",
    "                min_value[i] = 9\n",
    "            else:\n",
    "                min_value[i] += remain\n",
    "                break\n",
    "                \n",
    "        max_value = [0] * m\n",
    "        remain = s\n",
    "        for i in range(m):\n",
    "            if remain >= 9:\n",
    "                remain -= 9\n",
    "                max_value[i] = 9\n",
    "            else:\n",
    "                max_value[i] = remain\n",
    "                break\n",
    "        \n",
    "        min_value = ''.join(map(str, min_value))\n",
    "        max_value = ''.join(map(str, max_value))\n",
    "        \n",
    "        print(min_value, max_value)"
   ]
  },
  {
   "cell_type": "markdown",
   "metadata": {},
   "source": [
    "https://codeforces.com/problemset/problem/520/B 1400"
   ]
  },
  {
   "cell_type": "code",
   "execution_count": 37,
   "metadata": {},
   "outputs": [
    {
     "name": "stdout",
     "output_type": "stream",
     "text": [
      "4 16\n",
      "2\n"
     ]
    }
   ],
   "source": [
    "from collections import deque\n",
    "\n",
    "n, m = map(int, input().split())\n",
    "\n",
    "if n >= m:\n",
    "    print(n - m)\n",
    "else:\n",
    "    vt = [False] * m * 2\n",
    "    vt[n] = True\n",
    "    queue = deque()\n",
    "    queue.append((n, 0)) # num, count\n",
    "    while queue:\n",
    "        value, count = queue.popleft()\n",
    "        \n",
    "        if value == m:\n",
    "            print(count)\n",
    "            break\n",
    "        \n",
    "        ncount = count + 1\n",
    "        \n",
    "        v = value * 2\n",
    "        if v < m * 2:\n",
    "            if not vt[v]:\n",
    "                vt[v] = True\n",
    "                queue.append((v, ncount))\n",
    "        \n",
    "        v = value - 1\n",
    "        if 1 <= v:\n",
    "            if not vt[v]:\n",
    "                vt[v] = True\n",
    "                queue.append((v, ncount))"
   ]
  },
  {
   "cell_type": "markdown",
   "metadata": {},
   "source": [
    "https://codeforces.com/problemset/problem/431/C 1600"
   ]
  },
  {
   "cell_type": "code",
   "execution_count": null,
   "metadata": {},
   "outputs": [],
   "source": [
    "n, k, d = map(int, input().split())\n",
    "\n",
    "mod = 1000000007\n",
    "dp = [[0] * 2 for _ in range(n + 1)]\n",
    "dp[0][0] = 1\n",
    "\n",
    "for i in range(1, n + 1):\n",
    "    # dp[i][0] 구함\n",
    "    cur_d = 0\n",
    "    temp = 0\n",
    "    while True:\n",
    "        cur_d += 1\n",
    "        if cur_d >= d or cur_d > k or i - cur_d < 0:\n",
    "            break\n",
    "        temp += dp[i - cur_d][0]\n",
    "        \n",
    "    dp[i][0] = temp % mod\n",
    "    \n",
    "    # dp[i][1] 구함\n",
    "    cur_d = 0\n",
    "    temp = 0\n",
    "    while True:\n",
    "        cur_d += 1\n",
    "        if cur_d > k or i - cur_d < 0:\n",
    "            break\n",
    "        temp += dp[i - cur_d][1]\n",
    "    \n",
    "    cur_d = d - 1\n",
    "    while True:\n",
    "        cur_d += 1\n",
    "        if cur_d > k or i - cur_d < 0:\n",
    "            break\n",
    "        temp += dp[i - cur_d][0]\n",
    "        \n",
    "    dp[i][1] = temp % mod\n",
    "        \n",
    "print(dp[n][1] % mod)"
   ]
  },
  {
   "cell_type": "markdown",
   "metadata": {},
   "source": [
    "https://codeforces.com/problemset/problem/1/B 1600"
   ]
  },
  {
   "cell_type": "code",
   "execution_count": null,
   "metadata": {},
   "outputs": [],
   "source": [
    "# 틀렸음\n",
    "import re\n",
    "\n",
    "t = int(input())\n",
    "for _ in range(t):\n",
    "    s = input()\n",
    "    if s[0] == 'R':\n",
    "        r, c = map(int, re.findall(\"\\d+\", s))\n",
    "\n",
    "        other_r = str(r)\n",
    "\n",
    "        alpha_len = 1\n",
    "        f_cumul = 0\n",
    "        cumul = 26\n",
    "        weight = 2\n",
    "        while cumul < c:\n",
    "            alpha_len += 1\n",
    "            f_cumul = cumul\n",
    "            cumul += 26 ** weight\n",
    "            weight += 1\n",
    "\n",
    "        c -= f_cumul + 1\n",
    "\n",
    "        changed_c = []\n",
    "        while c != 0:\n",
    "            changed_c.append(c % 26)\n",
    "            c //= 26\n",
    "\n",
    "        changed_c.reverse()\n",
    "        changed_c = [chr(v + 65) for v in changed_c]\n",
    "        other_c = ''.join(changed_c).rjust(alpha_len, 'A')\n",
    "\n",
    "        print(other_c + other_r)\n",
    "\n",
    "    else:\n",
    "        c = []\n",
    "        r = ''\n",
    "        for v in s:\n",
    "            if v.isdigit():\n",
    "                r += v\n",
    "            else:\n",
    "                c.append(v)\n",
    "\n",
    "        other_r = r\n",
    "\n",
    "        alpha_len = len(c)\n",
    "        w = 26\n",
    "        cumul = 0\n",
    "        for i in range(alpha_len - 1):\n",
    "            cumul += w\n",
    "            w *= 26\n",
    "\n",
    "        other_c = cumul\n",
    "\n",
    "        changed_c = 0\n",
    "        c_len = len(c)\n",
    "        weight = 1\n",
    "        for i in range(c_len - 1, -1, -1):\n",
    "            changed_c += (ord(c[i]) - 65) * weight\n",
    "            weight *= 26\n",
    "        other_c += changed_c + 1\n",
    "\n",
    "        print(f'R{other_r}C{other_c}')"
   ]
  },
  {
   "cell_type": "markdown",
   "metadata": {},
   "source": [
    "https://codeforces.com/problemset/problem/377/A"
   ]
  },
  {
   "cell_type": "code",
   "execution_count": 123,
   "metadata": {},
   "outputs": [
    {
     "name": "stdout",
     "output_type": "stream",
     "text": [
      "5 4 5\n",
      "#...\n",
      "#.#.\n",
      ".#..\n",
      "...#\n",
      ".#.#\n",
      "#XXX\n",
      "#X#.\n",
      ".#..\n",
      "...#\n",
      "X#.#\n"
     ]
    }
   ],
   "source": [
    "from collections import deque\n",
    "\n",
    "n, m, k = map(int, input().split())\n",
    "li = [list(input()) for _ in range(n)]\n",
    "\n",
    "def solve():\n",
    "    dx = [-1, 1, 0, 0]\n",
    "    dy = [0, 0, -1, 1]\n",
    "    \n",
    "    seq = []\n",
    "    for i in range(n):\n",
    "        for j in range(m):\n",
    "            if li[i][j] == '.':\n",
    "                seq.append((i, j))\n",
    "                \n",
    "                vt = [[False] * m for _ in range(n)]\n",
    "                vt[i][j] = True\n",
    "                \n",
    "                queue = deque()\n",
    "                queue.append((i, j))\n",
    "                while queue:\n",
    "                    x, y = queue.popleft()\n",
    "                    for d in range(4):\n",
    "                        nx, ny = x + dx[d], y + dy[d]\n",
    "                        if nx < 0 or nx >= n or ny < 0 or ny >= m:\n",
    "                            continue\n",
    "                        if li[nx][ny] == '#':\n",
    "                            continue\n",
    "                        if not vt[nx][ny]:\n",
    "                            vt[nx][ny] = True\n",
    "                            seq.append((nx, ny))\n",
    "                            queue.append((nx, ny))\n",
    "    for i in range(len(seq) - 1, len(seq) - k - 1, -1):\n",
    "        x, y = seq[i]\n",
    "        li[x][y] = 'X'\n",
    "        \n",
    "    for v in li:\n",
    "        print(''.join(v))\n",
    "\n",
    "solve()"
   ]
  },
  {
   "cell_type": "markdown",
   "metadata": {},
   "source": [
    "https://codeforces.com/problemset/problem/282/A 800"
   ]
  },
  {
   "cell_type": "code",
   "execution_count": 1,
   "metadata": {},
   "outputs": [
    {
     "name": "stdout",
     "output_type": "stream",
     "text": [
      "2\n",
      "x++\n",
      "--x\n",
      "0\n"
     ]
    }
   ],
   "source": [
    "n = int(input())\n",
    "\n",
    "cur = 0\n",
    "for _ in range(n):\n",
    "    s = input()\n",
    "    if '+' in s:\n",
    "        cur += 1\n",
    "    else:\n",
    "        cur -= 1\n",
    "        \n",
    "print(cur)"
   ]
  },
  {
   "cell_type": "markdown",
   "metadata": {},
   "source": [
    "https://codeforces.com/problemset/problem/263/A 800"
   ]
  },
  {
   "cell_type": "code",
   "execution_count": 2,
   "metadata": {},
   "outputs": [
    {
     "name": "stdout",
     "output_type": "stream",
     "text": [
      "0 0 0 0 0\n",
      "0 0 0 0 1\n",
      "0 0 0 0 0\n",
      "0 0 0 0 0\n",
      "0 0 0 0 0\n",
      "3\n"
     ]
    }
   ],
   "source": [
    "li = [list(map(int, input().split())) for _ in range(5)]\n",
    "\n",
    "def find_one():\n",
    "    for i in range(5):\n",
    "        for j in range(5):\n",
    "            if li[i][j] == 1:\n",
    "                return i, j\n",
    "\n",
    "x, y = find_one()\n",
    "\n",
    "print(abs(2 - x) + abs(2 - y))"
   ]
  },
  {
   "cell_type": "markdown",
   "metadata": {},
   "source": [
    "https://codeforces.com/problemset/problem/96/A 900"
   ]
  },
  {
   "cell_type": "code",
   "execution_count": 5,
   "metadata": {},
   "outputs": [
    {
     "name": "stdout",
     "output_type": "stream",
     "text": [
      "00100110111111101\n",
      "YES\n"
     ]
    }
   ],
   "source": [
    "s = input()\n",
    "\n",
    "def check():\n",
    "    cur = 1\n",
    "    for i in range(1, len(s)):\n",
    "        if s[i] == s[i - 1]:\n",
    "            cur += 1\n",
    "            if cur == 7:\n",
    "                return True\n",
    "        else:\n",
    "            cur = 1\n",
    "            \n",
    "    return False\n",
    "\n",
    "if check():\n",
    "    print('YES')\n",
    "else:\n",
    "    print('NO')"
   ]
  },
  {
   "cell_type": "markdown",
   "metadata": {},
   "source": [
    "https://codeforces.com/problemset/problem/160/A 900"
   ]
  },
  {
   "cell_type": "code",
   "execution_count": 8,
   "metadata": {},
   "outputs": [
    {
     "name": "stdout",
     "output_type": "stream",
     "text": [
      "1\n",
      "1\n",
      "1\n"
     ]
    }
   ],
   "source": [
    "n = int(input())\n",
    "coins = sorted(map(int, input().split()), reverse=True)\n",
    "\n",
    "total = sum(coins)\n",
    "\n",
    "cumul = 0\n",
    "for i in range(n):\n",
    "    cumul += coins[i]\n",
    "    remain = total - cumul\n",
    "    if cumul > remain:\n",
    "        break\n",
    "        \n",
    "print(i + 1)"
   ]
  },
  {
   "cell_type": "markdown",
   "metadata": {},
   "source": [
    "https://codeforces.com/problemset/problem/118/A 1000"
   ]
  },
  {
   "cell_type": "code",
   "execution_count": 10,
   "metadata": {},
   "outputs": [
    {
     "name": "stdout",
     "output_type": "stream",
     "text": [
      "Codeforces\n",
      ".c.d.f.r.c.s\n"
     ]
    }
   ],
   "source": [
    "s = input().lower()\n",
    "\n",
    "vowels = ['a', 'o', 'y', 'e', 'u', 'i']\n",
    "for v in vowels:\n",
    "    s = s.replace(v, '')\n",
    "    \n",
    "result = ''\n",
    "for v in s:\n",
    "    result += '.'\n",
    "    result += v\n",
    "    \n",
    "print(result)"
   ]
  },
  {
   "cell_type": "markdown",
   "metadata": {},
   "source": [
    "https://codeforces.com/problemset/problem/69/A 1000"
   ]
  },
  {
   "cell_type": "code",
   "execution_count": 11,
   "metadata": {},
   "outputs": [
    {
     "name": "stdout",
     "output_type": "stream",
     "text": [
      "3\n",
      "4 1 7\n",
      "-2 4 -1\n",
      "1 -5 -3\n",
      "NO\n"
     ]
    }
   ],
   "source": [
    "n = int(input())\n",
    "\n",
    "ac = bc = cc = 0\n",
    "for _ in range(n):\n",
    "    a, b, c = map(int, input().split())\n",
    "    \n",
    "    ac += a\n",
    "    bc += b\n",
    "    cc += c\n",
    "    \n",
    "if ac == 0 and bc == 0 and cc == 0:\n",
    "    print('YES')\n",
    "else:\n",
    "    print('NO')"
   ]
  },
  {
   "cell_type": "markdown",
   "metadata": {},
   "source": [
    "https://codeforces.com/problemset/problem/158/B 1100"
   ]
  },
  {
   "cell_type": "code",
   "execution_count": 13,
   "metadata": {},
   "outputs": [
    {
     "name": "stdout",
     "output_type": "stream",
     "text": [
      "8\n",
      "2 3 4 4 2 1 3 1\n",
      "5\n"
     ]
    }
   ],
   "source": [
    "n = int(input())\n",
    "li = list(map(int, input().split()))\n",
    "\n",
    "counts = [0, 0, 0, 0, 0]\n",
    "for v in li:\n",
    "    counts[v] += 1\n",
    "    \n",
    "total = counts[4]\n",
    "counts[4] = 0\n",
    "\n",
    "counts[1] = max(0, counts[1] - counts[3])\n",
    "total += counts[3]\n",
    "\n",
    "total += counts[2] // 2\n",
    "counts[2] -= 2 * (counts[2] // 2)\n",
    "\n",
    "counts[1] = max(0, counts[1] - counts[2] * 2)\n",
    "total += counts[2]\n",
    "\n",
    "total += counts[1] // 4\n",
    "counts[1] -= 4 * (counts[1] // 4)\n",
    "\n",
    "if counts[1]:\n",
    "    total += 1\n",
    "    \n",
    "print(total)"
   ]
  },
  {
   "cell_type": "markdown",
   "metadata": {},
   "source": [
    "https://codeforces.com/problemset/problem/706/B 1100"
   ]
  },
  {
   "cell_type": "code",
   "execution_count": 27,
   "metadata": {},
   "outputs": [
    {
     "name": "stdout",
     "output_type": "stream",
     "text": [
      "5\n",
      "3 10 8 6 11\n",
      "4\n",
      "1\n",
      "0\n",
      "10\n",
      "4\n",
      "3\n",
      "1\n",
      "11\n",
      "5\n"
     ]
    }
   ],
   "source": [
    "from bisect import bisect\n",
    "\n",
    "n = int(input())\n",
    "li = sorted(map(int, input().split()))\n",
    "    \n",
    "q = int(input())\n",
    "for _ in range(q):\n",
    "    v = int(input())\n",
    "    \n",
    "    print(bisect(li, v))"
   ]
  },
  {
   "cell_type": "markdown",
   "metadata": {},
   "source": [
    "https://codeforces.com/problemset/problem/466/A"
   ]
  },
  {
   "cell_type": "code",
   "execution_count": 36,
   "metadata": {},
   "outputs": [
    {
     "name": "stdout",
     "output_type": "stream",
     "text": [
      "6 2 1 2\n",
      "6\n"
     ]
    }
   ],
   "source": [
    "n, m, a, b = map(int, input().split())\n",
    "\n",
    "if a * m <= b:\n",
    "    print(a * n)\n",
    "else:\n",
    "    p_count = n // m # package count\n",
    "    total = b * p_count\n",
    "    n -= p_count * m\n",
    "    \n",
    "    if n:\n",
    "        if b < a * n:\n",
    "            total += b\n",
    "        else:\n",
    "            total += a * n\n",
    "    \n",
    "    print(total)"
   ]
  },
  {
   "cell_type": "markdown",
   "metadata": {},
   "source": [
    "https://codeforces.com/problemset/problem/489/B"
   ]
  },
  {
   "cell_type": "code",
   "execution_count": 41,
   "metadata": {},
   "outputs": [
    {
     "name": "stdout",
     "output_type": "stream",
     "text": [
      "4\n",
      "1 2 3 4\n",
      "4\n",
      "10 11 12 13\n",
      "0\n"
     ]
    }
   ],
   "source": [
    "n = int(input())\n",
    "a = sorted(map(int, input().split()))\n",
    "m = int(input())\n",
    "b = sorted(map(int, input().split()))\n",
    "\n",
    "ai = bi = 0\n",
    "count = 0\n",
    "while ai < n and bi < m:\n",
    "    if abs(a[ai] - b[bi]) <= 1:\n",
    "        count += 1\n",
    "        ai += 1\n",
    "        bi += 1\n",
    "    elif a[ai] < b[bi]:\n",
    "        ai += 1\n",
    "    else:\n",
    "        bi += 1\n",
    "        \n",
    "print(count)"
   ]
  },
  {
   "cell_type": "markdown",
   "metadata": {},
   "source": [
    "https://codeforces.com/problemset/problem/25/A"
   ]
  },
  {
   "cell_type": "code",
   "execution_count": 43,
   "metadata": {},
   "outputs": [
    {
     "name": "stdout",
     "output_type": "stream",
     "text": [
      "4\n",
      "1 2 1 1\n",
      "2\n"
     ]
    }
   ],
   "source": [
    "n = int(input())\n",
    "li = list(map(int, input().split()))\n",
    "\n",
    "even_c, odd_c = 0, 0\n",
    "even_i, odd_i = 0, 0\n",
    "for i in range(n):\n",
    "    if li[i] % 2 == 0:\n",
    "        even_c += 1\n",
    "        even_i = i\n",
    "    else:\n",
    "        odd_c += 1\n",
    "        odd_i = i\n",
    "        \n",
    "if even_c == 1:\n",
    "    print(even_i + 1)\n",
    "else:\n",
    "    print(odd_i + 1)"
   ]
  },
  {
   "cell_type": "markdown",
   "metadata": {},
   "source": [
    "https://codeforces.com/problemset/problem/4/C"
   ]
  },
  {
   "cell_type": "code",
   "execution_count": 45,
   "metadata": {},
   "outputs": [
    {
     "name": "stdout",
     "output_type": "stream",
     "text": [
      "6\n",
      "f\n",
      "OK\n",
      "f\n",
      "f1\n",
      "s\n",
      "OK\n",
      "s\n",
      "s1\n",
      "t\n",
      "OK\n",
      "t\n",
      "t1\n"
     ]
    }
   ],
   "source": [
    "from collections import defaultdict as dd\n",
    "\n",
    "n = int(input())\n",
    "\n",
    "d = dd(int)\n",
    "for _ in range(n):\n",
    "    v = input()\n",
    "    \n",
    "    if v not in d:\n",
    "        print('OK')\n",
    "    else:\n",
    "        print(v + str(d[v]))\n",
    "        \n",
    "    d[v] += 1"
   ]
  },
  {
   "cell_type": "markdown",
   "metadata": {},
   "source": [
    "https://codeforces.com/problemset/problem/1594/E1"
   ]
  },
  {
   "cell_type": "code",
   "execution_count": 131,
   "metadata": {},
   "outputs": [
    {
     "name": "stdout",
     "output_type": "stream",
     "text": [
      "60\n",
      "550193677\n"
     ]
    }
   ],
   "source": [
    "# 1e9 대신 10e9를 사용해서 디버깅에 오래 걸렸음\n",
    "\n",
    "def recur(ftm):\n",
    "    if ftm == 1:\n",
    "        return 4\n",
    "    \n",
    "    if ftm % 2 == 0:\n",
    "        return (recur(ftm // 2) % mod) ** 2 % mod\n",
    "    else:\n",
    "        return (recur(ftm // 2) % mod) ** 2 * 4 % mod\n",
    "\n",
    "mod =  int(1e9 + 7)\n",
    "\n",
    "k = int(input())\n",
    "\n",
    "count = 6\n",
    "ftm = 0 # four to multi\n",
    "w = 2\n",
    "for _ in range(k - 1):\n",
    "    ftm += w\n",
    "    w *= 2\n",
    "\n",
    "if ftm == 0:\n",
    "    print(6)\n",
    "else:\n",
    "    result = recur(ftm) * 6 % mod\n",
    "    \n",
    "    print(int(result))"
   ]
  },
  {
   "cell_type": "markdown",
   "metadata": {},
   "source": [
    "https://codeforces.com/problemset/problem/1574/C"
   ]
  },
  {
   "cell_type": "code",
   "execution_count": 148,
   "metadata": {},
   "outputs": [
    {
     "name": "stdout",
     "output_type": "stream",
     "text": [
      "4\n",
      "3 6 2 3\n",
      "5\n",
      "4 14\n",
      "4\n",
      "1 10\n",
      "0\n",
      "8 7\n",
      "2\n",
      "1 1\n",
      "0\n",
      "14 14\n",
      "14\n"
     ]
    }
   ],
   "source": [
    "from bisect import bisect_left\n",
    "\n",
    "n = int(input())\n",
    "a = sorted(map(int, input().split()))\n",
    "m = int(input())\n",
    "\n",
    "total = sum(a)\n",
    "for _ in range(m):\n",
    "    x, y = map(int, input().split())\n",
    "    \n",
    "    # without additional strength\n",
    "    to_send = bisect_left(a, x)\n",
    "    cand1 = cand2 = float('inf')\n",
    "    \n",
    "    if to_send < n:\n",
    "        defense = total - a[to_send]\n",
    "        cand1 = max(0, y - defense)\n",
    "    \n",
    "    if to_send >= 1:\n",
    "        to_send -= 1\n",
    "        \n",
    "        cand2 = max(0, x - a[to_send])\n",
    "        defense = total - a[to_send]\n",
    "        cand2 += max(0, y - defense)\n",
    "        \n",
    "    print(min(cand1, cand2))"
   ]
  },
  {
   "cell_type": "markdown",
   "metadata": {},
   "source": [
    "https://codeforces.com/problemset/problem/1600/J"
   ]
  },
  {
   "cell_type": "code",
   "execution_count": 165,
   "metadata": {},
   "outputs": [
    {
     "name": "stdout",
     "output_type": "stream",
     "text": [
      "9 4 4 2 1 "
     ]
    }
   ],
   "source": [
    "from collections import deque\n",
    "\n",
    "# North, East, South, West\n",
    "dx = [-1, 0, 1, 0]\n",
    "dy = [0, 1, 0, -1]\n",
    "\n",
    "n, m = map(int, input().split())\n",
    "\n",
    "get_value = lambda x: bin(int(x))[2:].rjust(4, '0')\n",
    "li = [list(map(get_value, input().split())) for _ in range(n)]\n",
    "\n",
    "rzs = [] # room sizes\n",
    "vt = [[False] * m for _ in range(n)]\n",
    "for i in range(n):\n",
    "    for j in range(m):\n",
    "        if vt[i][j]:\n",
    "            continue\n",
    "        vt[i][j] = True\n",
    "        rz = 1\n",
    "        \n",
    "        queue = deque()\n",
    "        queue.append((i, j))\n",
    "        while queue:\n",
    "            x, y = queue.popleft()\n",
    "\n",
    "            dirs = li[x][y]\n",
    "            for k in range(4):\n",
    "                if dirs[k] == '0':\n",
    "                    nx = x + dx[k]\n",
    "                    ny = y + dy[k]\n",
    "                    \n",
    "                    if not vt[nx][ny]:\n",
    "                        vt[nx][ny] = True\n",
    "                        rz += 1\n",
    "                        queue.append((nx, ny))   \n",
    "        rzs.append(rz)\n",
    "    \n",
    "rzs.sort(reverse=True)\n",
    "\n",
    "for v in rzs:\n",
    "    print(v, end=' ')"
   ]
  },
  {
   "cell_type": "markdown",
   "metadata": {},
   "source": [
    "https://codeforces.com/problemset/problem/1548/A"
   ]
  },
  {
   "cell_type": "code",
   "execution_count": 2,
   "metadata": {},
   "outputs": [
    {
     "name": "stdout",
     "output_type": "stream",
     "text": [
      "4 3\n",
      "2 3\n",
      "3 4\n",
      "4 1\n",
      "1\n",
      "3\n",
      "1\n"
     ]
    }
   ],
   "source": [
    "from heapq import heappush, heappop\n",
    "\n",
    "n, m = map(int, input().split())\n",
    "\n",
    "li = [[[], set()] for _ in range(n + 1)]\n",
    "for _ in range(m):\n",
    "    a, b = map(int, input().split())\n",
    "    \n",
    "    heappush(li[a][0], -b)\n",
    "    heappush(li[b][0], -a)\n",
    "    li[a][1].add(b)\n",
    "    li[b][1].add(a)\n",
    "\n",
    "ac = 0 # alive count\n",
    "is_alive = [True] * (n + 1)\n",
    "for i in range(1, n + 1):\n",
    "    if not li[i][1]:\n",
    "        ac += 1\n",
    "        continue\n",
    "        \n",
    "    value = -heappop(li[i][0])\n",
    "    if value < i:\n",
    "        ac += 1\n",
    "    else:\n",
    "        is_alive[i] = False\n",
    "        \n",
    "    heappush(li[i][0], -value)\n",
    "    \n",
    "    \n",
    "q = int(input())\n",
    "for _ in range(q):\n",
    "    temp = list(map(int, input().split()))\n",
    "    \n",
    "    if temp[0] == 3:\n",
    "        print(ac)\n",
    "    else:\n",
    "        tp, a, b = temp\n",
    "        \n",
    "        if tp == 1:\n",
    "            if is_alive[a] and a < b:\n",
    "                is_alive[a] = False\n",
    "                ac -= 1      \n",
    "            heappush(li[a][0], -b)\n",
    "            li[a][1].add(b)\n",
    "            \n",
    "\n",
    "            if is_alive[b] and b < a:\n",
    "                is_alive[b] = False\n",
    "                ac -= 1                  \n",
    "            heappush(li[b][0], -a)        \n",
    "            li[b][1].add(a) \n",
    "        else:\n",
    "            li[a][1].discard(b)\n",
    "            li[b][1].discard(a)\n",
    "\n",
    "            while li[a][0]:\n",
    "                value = -heappop(li[a][0])\n",
    "\n",
    "                if value in li[a][1]:\n",
    "                    heappush(li[a][0], -value)\n",
    "                    break\n",
    "                    \n",
    "            if not is_alive[a]:\n",
    "                if not li[a][0]:\n",
    "                    is_alive[a] = True\n",
    "                    ac += 1\n",
    "                else:\n",
    "                    value = -heappop(li[a][0])\n",
    "                    if value < a:\n",
    "                        is_alive[a] = True\n",
    "                        ac += 1                        \n",
    "                    heappush(li[a][0], -value)\n",
    "           \n",
    "            while li[b][0]:\n",
    "                value = -heappop(li[b][0])\n",
    "\n",
    "                if value in li[b][1]:\n",
    "                    heappush(li[b][0], -value)\n",
    "                    break\n",
    "                    \n",
    "            if not is_alive[b]:\n",
    "                if not li[b][0]:\n",
    "                    is_alive[b] = True\n",
    "                    ac += 1\n",
    "                else:\n",
    "                    value = -heappop(li[b][0])\n",
    "                    if value < b:\n",
    "                        is_alive[b] = True\n",
    "                        ac += 1                        \n",
    "                    heappush(li[b][0], -value)"
   ]
  },
  {
   "cell_type": "code",
   "execution_count": 4,
   "metadata": {},
   "outputs": [
    {
     "name": "stdout",
     "output_type": "stream",
     "text": [
      "4 3\n",
      "2 3\n",
      "3 4\n",
      "4 1\n",
      "1\n",
      "3\n",
      "1\n"
     ]
    }
   ],
   "source": [
    "# 자신보다 더 강한 노드의 개수만 관리함\n",
    "n, m = map(int, input().split())\n",
    "\n",
    "strongers = [set() for _ in range(n + 1)]\n",
    "for _ in range(m):\n",
    "    a, b = map(int, input().split())\n",
    "    \n",
    "    if a < b:\n",
    "        strongers[a].add(b)\n",
    "    else:\n",
    "        strongers[b].add(a)\n",
    "        \n",
    "ac = 0 # alive count\n",
    "for i in range(1, n + 1):\n",
    "    if not strongers[i]:\n",
    "        ac += 1\n",
    "        \n",
    "q = int(input())\n",
    "for _ in range(q):\n",
    "    temp = list(map(int, input().split()))\n",
    "    \n",
    "    tp = temp[0]\n",
    "    if tp == 3:\n",
    "        print(ac)\n",
    "    else:\n",
    "        a, b = temp[1], temp[2]\n",
    "        if b < a:\n",
    "            a, b = b, a\n",
    "        \n",
    "        if tp == 1:\n",
    "            strongers[a].add(b)\n",
    "            if len(strongers[a]) == 1:\n",
    "                ac -= 1\n",
    "        else:\n",
    "            strongers[a].discard(b)\n",
    "            if not strongers[a]:\n",
    "                ac += 1"
   ]
  },
  {
   "cell_type": "markdown",
   "metadata": {},
   "source": [
    "https://codeforces.com/problemset/problem/1575/J"
   ]
  },
  {
   "cell_type": "code",
   "execution_count": 10,
   "metadata": {},
   "outputs": [
    {
     "name": "stdout",
     "output_type": "stream",
     "text": [
      "1 2 2\n",
      "1 3\n",
      "1 2\n",
      "1 2\n"
     ]
    }
   ],
   "source": [
    "n, m, k = map(int, input().split())\n",
    "\n",
    "# s = '''1 3'''\n",
    "# li = [list(map(int, v.split())) for v in s.split('\\n')]\n",
    "\n",
    "li = [list(map(int, input().split())) for _ in range(n)]\n",
    "\n",
    "get_value = lambda x: int(x) - 1\n",
    "qs = list(map(get_value, input().split()))\n",
    "\n",
    "tbc = [0] * m # to bottom counts\n",
    "\n",
    "for i in range(n):\n",
    "    for j in range(m):\n",
    "        if li[i][j] == 2:\n",
    "            tbc[j] += 1\n",
    "    \n",
    "dx = [0, 0, 1, 0]\n",
    "dy = [0, 1, 0, -1]\n",
    "    \n",
    "result = []\n",
    "for q in qs:\n",
    "    x, y = 0, q\n",
    "    while x < n:\n",
    "        if tbc[y] == n:\n",
    "            result.append(y + 1)\n",
    "            break\n",
    "        d = li[x][y]\n",
    "        if d != 2:\n",
    "            tbc[y] += 1\n",
    "            li[x][y] = 2\n",
    "        \n",
    "        x += dx[d]\n",
    "        y += dy[d]\n",
    "    else:\n",
    "        result.append(y + 1)\n",
    "        \n",
    "print(*result)"
   ]
  },
  {
   "cell_type": "markdown",
   "metadata": {},
   "source": [
    "https://codeforces.com/problemset/problem/1569/C"
   ]
  },
  {
   "cell_type": "code",
   "execution_count": 17,
   "metadata": {},
   "outputs": [
    {
     "name": "stdout",
     "output_type": "stream",
     "text": [
      "6\n",
      "3 4 2 1 3 3\n"
     ]
    }
   ],
   "source": [
    "n = int(input())\n",
    "li = sorted(map(int, input().split()), reverse=True)"
   ]
  },
  {
   "cell_type": "code",
   "execution_count": 22,
   "metadata": {},
   "outputs": [],
   "source": [
    "max_num = li[0]\n",
    "max_num_count = 0\n",
    "second_max_num = -1\n",
    "second_max_num_count = 0\n",
    "remain_num_count = 0\n",
    "\n",
    "for v in li:\n",
    "    if v == max_num:\n",
    "        max_num_count += 1\n",
    "    else:\n",
    "        if second_max_num == -1:\n",
    "            second_max_num = v\n",
    "            second_max_num_count += 1\n",
    "        else:\n",
    "            if v == second_max_num:\n",
    "                second_max_num_count += 1\n",
    "            else:\n",
    "                remain_num_count += 1"
   ]
  },
  {
   "cell_type": "code",
   "execution_count": 23,
   "metadata": {},
   "outputs": [
    {
     "name": "stdout",
     "output_type": "stream",
     "text": [
      "4 1 3 3 2\n"
     ]
    }
   ],
   "source": [
    "print(max_num, max_num_count, second_max_num, second_max_num_count, remain_num_count)"
   ]
  },
  {
   "cell_type": "code",
   "execution_count": null,
   "metadata": {},
   "outputs": [],
   "source": [
    "먼저 2등 숫자가 1등 숫자보다 2 이상 적으면 안됨\n",
    "\n",
    "1등 숫자는 최소 하나의 2등 숫자의 앞에 있어야됨."
   ]
  },
  {
   "cell_type": "code",
   "execution_count": 26,
   "metadata": {},
   "outputs": [
    {
     "name": "stdout",
     "output_type": "stream",
     "text": [
      "4\n",
      "2\n",
      "1 2\n",
      "1\n",
      "3\n",
      "5 5 5\n",
      "6\n",
      "4\n",
      "1 3 3 7\n",
      "0\n",
      "6\n",
      "3 4 2 1 3 3\n",
      "540\n"
     ]
    }
   ],
   "source": [
    "def facto(num):\n",
    "    count = 1\n",
    "    for i in range(1, num + 1):\n",
    "        count = count * i % mod    \n",
    "    return count\n",
    "\n",
    "for _ in range(int(input())):\n",
    "    n = int(input())\n",
    "    li = sorted(map(int, input().split()), reverse=True)\n",
    "\n",
    "    max_num = li[0]\n",
    "    max_num_count = 0\n",
    "    second_max_num = -1\n",
    "    second_max_num_count = 0\n",
    "    remain_num_count = 0\n",
    "\n",
    "    for v in li:\n",
    "        if v == max_num:\n",
    "            max_num_count += 1\n",
    "        else:\n",
    "            if second_max_num == -1:\n",
    "                second_max_num = v\n",
    "                second_max_num_count += 1\n",
    "            else:\n",
    "                if v == second_max_num:\n",
    "                    second_max_num_count += 1\n",
    "                else:\n",
    "                    remain_num_count += 1\n",
    "\n",
    "    mod = 998244353\n",
    "\n",
    "    total = facto(n)\n",
    "\n",
    "    if max_num_count >= 2:\n",
    "        print(total)\n",
    "    elif max_num >= second_max_num + 2:\n",
    "        print(0)\n",
    "    else:\n",
    "        to_subtract = facto(second_max_num_count)\n",
    "        cur = second_max_num_count + 2\n",
    "        for _ in range(remain_num_count):\n",
    "            to_subtract = to_subtract * cur % mod\n",
    "            cur += 1\n",
    "\n",
    "        if total < to_subtract:\n",
    "            total += mod\n",
    "\n",
    "        print(total - to_subtract)"
   ]
  },
  {
   "cell_type": "markdown",
   "metadata": {},
   "source": [
    "https://codeforces.com/problemset/problem/1553/D"
   ]
  },
  {
   "cell_type": "code",
   "execution_count": 28,
   "metadata": {},
   "outputs": [
    {
     "name": "stdout",
     "output_type": "stream",
     "text": [
      "4\n",
      "ababa\n",
      "ba\n",
      "YES\n",
      "ababa\n",
      "bb\n",
      "NO\n",
      "aaa\n",
      "aaaa\n",
      "NO\n",
      "aababa\n",
      "ababa\n",
      "YES\n"
     ]
    }
   ],
   "source": [
    "for _ in range(int(input())):\n",
    "    s = input()\n",
    "    t = input()\n",
    "\n",
    "    instd = [False] * len(s) # in_s_to_delete\n",
    "\n",
    "    result = False\n",
    "    ti = len(t) - 1\n",
    "    for si in range(len(s) - 1, -1, -1):\n",
    "        if instd[si]:\n",
    "            continue\n",
    "\n",
    "        if s[si] != t[ti]:\n",
    "            instd[si] = True\n",
    "\n",
    "            if si >= 1:\n",
    "                instd[si - 1] = True\n",
    "        else:\n",
    "            ti -= 1\n",
    "            if ti == -1:\n",
    "                result = True\n",
    "                break\n",
    "\n",
    "    if result:\n",
    "        print('YES')\n",
    "    else:\n",
    "        print('NO')"
   ]
  },
  {
   "cell_type": "markdown",
   "metadata": {},
   "source": [
    "https://codeforces.com/contest/1586/problem/A"
   ]
  },
  {
   "cell_type": "code",
   "execution_count": 6,
   "metadata": {},
   "outputs": [
    {
     "name": "stdout",
     "output_type": "stream",
     "text": [
      "3\n",
      "8 1 2\n",
      "3\n",
      "1 2 3\n"
     ]
    }
   ],
   "source": [
    "max_num = 100 * 200\n",
    "ip = [True] * (max_num + 1)\n",
    "ip[0] = ip[1] = False\n",
    "for mod in range(2, int(max_num ** 0.5) + 1):\n",
    "    if ip[mod]:\n",
    "        for v in range(mod * mod, max_num + 1, mod):\n",
    "            ip[v] = False\n",
    "\n",
    "n = int(input())\n",
    "li = list(map(int, input().split()))\n",
    "\n",
    "total = sum(li)\n",
    "if not ip[total]:\n",
    "    print(n)\n",
    "    print(*range(1, n + 1))\n",
    "else:\n",
    "    nums = set(range(1, n + 1))\n",
    "    for i in range(n):\n",
    "        if not ip[total - li[i]]:\n",
    "            nums.discard(i + 1)\n",
    "            print(n - 1)\n",
    "            print(*nums)"
   ]
  },
  {
   "cell_type": "code",
   "execution_count": 9,
   "metadata": {},
   "outputs": [
    {
     "name": "stdout",
     "output_type": "stream",
     "text": [
      "4\n",
      "3\n",
      "8 1 2\n",
      "2\n",
      "1 3\n",
      "4\n",
      "6 9 4 2\n",
      "4\n",
      "1 2 3 4\n",
      "9\n",
      "1 2 3 4 5 6 7 8 9\n",
      "9\n",
      "1 2 3 4 5 6 7 8 9\n",
      "3\n",
      "200 199 198\n",
      "3\n",
      "1 2 3\n"
     ]
    }
   ],
   "source": [
    "# 짝수만 있으면 합이 짝수가 되고 합이 홀수라면 홀수를 하나만 지워도 짝수가 됨\n",
    "# n이 3 이상이어서 2, 5 같은 케이스는 나오지 않음\n",
    "\n",
    "max_num = 100 * 200\n",
    "ip = [True] * (max_num + 1)\n",
    "ip[0] = ip[1] = False\n",
    "for mod in range(2, int(max_num ** 0.5) + 1):\n",
    "    if ip[mod]:\n",
    "        for v in range(mod * mod, max_num + 1, mod):\n",
    "            ip[v] = False\n",
    "\n",
    "for _ in range(int(input())):\n",
    "    n = int(input())\n",
    "    li = list(map(int, input().split()))\n",
    "\n",
    "    total = sum(li)\n",
    "    if not ip[total]:\n",
    "        print(n)\n",
    "        print(*range(1, n + 1))\n",
    "    else:\n",
    "        nums = set(range(1, n + 1))\n",
    "        for i in range(n):\n",
    "            if not ip[total - li[i]]:\n",
    "                nums.discard(i + 1)\n",
    "                print(n - 1)\n",
    "                print(*nums)\n",
    "                break"
   ]
  },
  {
   "cell_type": "markdown",
   "metadata": {},
   "source": [
    "https://codeforces.com/problemset/problem/1567/C"
   ]
  },
  {
   "cell_type": "code",
   "execution_count": null,
   "metadata": {},
   "outputs": [],
   "source": [
    "최종 = sum(dp[0]) - 2"
   ]
  },
  {
   "cell_type": "code",
   "execution_count": 26,
   "metadata": {},
   "outputs": [
    {
     "name": "stdout",
     "output_type": "stream",
     "text": [
      "5\n",
      "100\n",
      "9\n",
      "12\n",
      "4\n",
      "8\n",
      "7\n",
      "2021\n",
      "44\n",
      "10000\n",
      "99\n"
     ]
    }
   ],
   "source": [
    "for _ in range(int(input())):\n",
    "    li = list(map(int, input()))\n",
    "    n = len(li)\n",
    "\n",
    "    if n == 1:\n",
    "        print(li[0] + 1 - 2)\n",
    "    else:\n",
    "        dp = [[0, 0] for _ in range(n)] # dp[i] = [no carring case, carrying case]\n",
    "\n",
    "        dp[n - 1][0] = li[n - 1] + 1\n",
    "        if n - 3 >= 0:\n",
    "            dp[n - 1][1] = 9 - li[n - 1]\n",
    "        dp[n - 2][0] = li[n - 2] + 1\n",
    "        if n - 4 >= 0:\n",
    "            dp[n - 2][1] = 9 - li[n - 2]\n",
    "\n",
    "        for i in range(n - 3, -1, -1):     \n",
    "            dp[i][0] = dp[i + 2][0] * (li[i] + 1) + dp[i + 2][1] * (li[i])\n",
    "            if i - 2 >= 0:   \n",
    "                dp[i][1] = dp[i + 2][0] * (9 - li[i]) + dp[i + 2][1] * (9 - (li[i] - 1))\n",
    "\n",
    "        print(sum(dp[0]) * sum(dp[1]) - 2)"
   ]
  },
  {
   "cell_type": "code",
   "execution_count": 33,
   "metadata": {},
   "outputs": [
    {
     "name": "stdout",
     "output_type": "stream",
     "text": [
      "5\n",
      "100\n",
      "9\n",
      "12\n",
      "4\n",
      "8\n",
      "7\n",
      "2021\n",
      "44\n",
      "10000\n",
      "99\n"
     ]
    }
   ],
   "source": [
    "# 수를 두 부분으로 나누어 구했음\n",
    "for _ in range(int(input())):\n",
    "    s = input()\n",
    "    n = len(s)\n",
    "    \n",
    "    if n == 1:\n",
    "        print(int(s[0]) + 1 - 2)\n",
    "    else:\n",
    "        a = ''\n",
    "        b = ''\n",
    "        for i in range(n):\n",
    "            if i % 2 == 0:\n",
    "                a += s[i]\n",
    "            else:\n",
    "                b += s[i]\n",
    "\n",
    "        print((int(a) + 1) * (int(b) + 1) - 2)"
   ]
  },
  {
   "cell_type": "markdown",
   "metadata": {},
   "source": [
    "https://codeforces.com/contest/1567/problem/B"
   ]
  },
  {
   "cell_type": "code",
   "execution_count": 61,
   "metadata": {},
   "outputs": [
    {
     "name": "stdout",
     "output_type": "stream",
     "text": [
      "5\n",
      "1 1\n",
      "3\n",
      "2 1\n",
      "2\n",
      "2 0\n",
      "3\n",
      "1 10000\n",
      "2\n",
      "2 10000\n",
      "3\n"
     ]
    }
   ],
   "source": [
    "ops = [lambda x: x, lambda x: 1, lambda x: x + 1, lambda x: 0]\n",
    "\n",
    "t = int(input())\n",
    "for _ in range(t):\n",
    "    a, b = map(int, input().split())\n",
    "    \n",
    "    result = a\n",
    "    init_xor = ops[(a - 1) % 4](a - 1)\n",
    "    if init_xor == b:\n",
    "        print(result)\n",
    "    else:\n",
    "        if init_xor ^ a == b:\n",
    "            print(result + 2)\n",
    "        else:\n",
    "            print(result + 1)"
   ]
  },
  {
   "cell_type": "code",
   "execution_count": null,
   "metadata": {},
   "outputs": [],
   "source": [
    "[lambda x: x, lambda x: 1, lambda x: x + 1, lambda x: 0]"
   ]
  },
  {
   "cell_type": "code",
   "execution_count": 64,
   "metadata": {},
   "outputs": [
    {
     "name": "stdout",
     "output_type": "stream",
     "text": [
      "1 1\n",
      "2 3\n",
      "3 0\n",
      "4 4\n",
      "5 1\n",
      "6 7\n",
      "7 0\n",
      "8 8\n",
      "9 1\n",
      "10 11\n",
      "11 0\n"
     ]
    }
   ],
   "source": [
    "cur = 0\n",
    "for i in range(1, 12):\n",
    "    cur ^= i\n",
    "    print(i, cur)\n",
    "    \n",
    "# 같음 1, +1, 0"
   ]
  },
  {
   "cell_type": "markdown",
   "metadata": {},
   "source": [
    "https://codeforces.com/contest/1567/problem/A"
   ]
  },
  {
   "cell_type": "code",
   "execution_count": null,
   "metadata": {},
   "outputs": [],
   "source": [
    "for _ in range(int(input())):\n",
    "    n = int(input())\n",
    "    upper = input()\n",
    "\n",
    "    lower = [''] * n\n",
    "    for i in range(n):\n",
    "        if upper[i] == 'U':\n",
    "            lower[i] = 'D'\n",
    "        elif upper[i] == 'D':\n",
    "            lower[i] = 'U'\n",
    "\n",
    "    for i in range(n - 1):\n",
    "        if not lower[i]:\n",
    "            lower[i] = 'L'\n",
    "            lower[i + 1] = 'R'\n",
    "        else:\n",
    "            continue\n",
    "\n",
    "    print(''.join(lower))"
   ]
  },
  {
   "cell_type": "markdown",
   "metadata": {},
   "source": [
    "https://codeforces.com/problemset/problem/1555/D"
   ]
  },
  {
   "cell_type": "code",
   "execution_count": null,
   "metadata": {},
   "outputs": [],
   "source": [
    "같은 알파벳 연속 안됨\n",
    "abcabcabc 같은 순이어야됨"
   ]
  },
  {
   "cell_type": "code",
   "execution_count": 14,
   "metadata": {},
   "outputs": [
    {
     "name": "stdout",
     "output_type": "stream",
     "text": [
      "5 4\n",
      "baacb\n",
      "1 3\n",
      "1\n",
      "1 5\n",
      "2\n",
      "4 5\n",
      "0\n",
      "2 3\n",
      "1\n"
     ]
    }
   ],
   "source": [
    "from itertools import cycle\n",
    "\n",
    "n, m = map(int, input().split())\n",
    "s = input()\n",
    "\n",
    "diff_cases = ['abc', 'acb', 'bac', 'bca', 'cab', 'cba']\n",
    "diff_cases = [cycle(v) for v in diff_cases]\n",
    "\n",
    "sum_diffs = [[] for _ in range(6)]\n",
    "# cn: case num\n",
    "for cn in range(6):\n",
    "    cumul = 0\n",
    "    for v in s:\n",
    "        to_compare = next(diff_cases[cn])\n",
    "        if v != to_compare:\n",
    "            cumul += 1\n",
    "        sum_diffs[cn].append(cumul)\n",
    "        \n",
    "for _ in range(m):\n",
    "    l, r = map(int, input().split())\n",
    "\n",
    "    l -= 1\n",
    "    r -= 1\n",
    "    \n",
    "    min_result = float('inf')\n",
    "    if l == 0:\n",
    "        for cn in range(6):\n",
    "            min_result = min(min_result, sum_diffs[cn][r])\n",
    "    else:\n",
    "        for cn in range(6):\n",
    "            min_result = min(min_result, sum_diffs[cn][r] - sum_diffs[cn][l - 1])\n",
    "            \n",
    "    print(min_result)"
   ]
  },
  {
   "cell_type": "markdown",
   "metadata": {},
   "source": [
    "https://codeforces.com/problemset/problem/1398/C"
   ]
  },
  {
   "cell_type": "code",
   "execution_count": 10,
   "metadata": {},
   "outputs": [
    {
     "name": "stdout",
     "output_type": "stream",
     "text": [
      "3\n",
      "120\n",
      "3\n"
     ]
    }
   ],
   "source": [
    "from collections import defaultdict as dd\n",
    "\n",
    "for _ in range(int(input())):\n",
    "    n = int(input())\n",
    "    li = list(map(int, input()))\n",
    "\n",
    "    sum_li = [0]\n",
    "    cumul = 0\n",
    "    for v in li:\n",
    "        cumul += v\n",
    "        sum_li.append(cumul)\n",
    "\n",
    "    d = dd(int)\n",
    "    for i in range(n + 1):\n",
    "        value = sum_li[i] - i\n",
    "        d[value] += 1\n",
    "\n",
    "    result = 0\n",
    "    for v in d.values():\n",
    "        if v >= 2:\n",
    "            result += v * (v - 1) // 2\n",
    "\n",
    "    print(result)"
   ]
  },
  {
   "cell_type": "markdown",
   "metadata": {},
   "source": [
    "https://codeforces.com/contest/1582/problem/E\n",
    "\n",
    "https://codeforces.com/blog/entry/96267"
   ]
  },
  {
   "cell_type": "code",
   "execution_count": null,
   "metadata": {},
   "outputs": [],
   "source": []
  },
  {
   "cell_type": "markdown",
   "metadata": {},
   "source": [
    "### 제출본"
   ]
  },
  {
   "cell_type": "code",
   "execution_count": null,
   "metadata": {},
   "outputs": [],
   "source": [
    "import os\n",
    "import sys\n",
    "from io import BytesIO, IOBase\n",
    " \n",
    "\n",
    "def main():\n",
    "    from collections import defaultdict as dd\n",
    "\n",
    "    for _ in range(int(input())):\n",
    "        n = int(input())\n",
    "        li = list(map(int, input()))\n",
    "\n",
    "        sum_li = [0]\n",
    "        cumul = 0\n",
    "        for v in li:\n",
    "            cumul += v\n",
    "            sum_li.append(cumul)\n",
    "\n",
    "        d = dd(int)\n",
    "        for i in range(n + 1):\n",
    "            value = sum_li[i] - i\n",
    "            d[value] += 1\n",
    "\n",
    "        result = 0\n",
    "        for v in d.values():\n",
    "            if v >= 2:\n",
    "                result += v * (v - 1) // 2\n",
    "\n",
    "        print(result)\n",
    "    \n",
    "    \n",
    "    \n",
    "    \n",
    "    \n",
    "    \n",
    "\n",
    "# region fastio\n",
    " \n",
    "BUFSIZE = 8192\n",
    " \n",
    "\n",
    "class FastIO(IOBase):\n",
    "    newlines = 0\n",
    " \n",
    "    def __init__(self, file):\n",
    "        self._fd = file.fileno()\n",
    "        self.buffer = BytesIO()\n",
    "        self.writable = \"x\" in file.mode or \"r\" not in file.mode\n",
    "        self.write = self.buffer.write if self.writable else None\n",
    " \n",
    "    def read(self):\n",
    "        while True:\n",
    "            b = os.read(self._fd, max(os.fstat(self._fd).st_size, BUFSIZE))\n",
    "            if not b:\n",
    "                break\n",
    "            ptr = self.buffer.tell()\n",
    "            self.buffer.seek(0, 2), self.buffer.write(b), self.buffer.seek(ptr)\n",
    "        self.newlines = 0\n",
    "        return self.buffer.read()\n",
    " \n",
    "    def readline(self):\n",
    "        while self.newlines == 0:\n",
    "            b = os.read(self._fd, max(os.fstat(self._fd).st_size, BUFSIZE))\n",
    "            self.newlines = b.count(b\"\\n\") + (not b)\n",
    "            ptr = self.buffer.tell()\n",
    "            self.buffer.seek(0, 2), self.buffer.write(b), self.buffer.seek(ptr)\n",
    "        self.newlines -= 1\n",
    "        return self.buffer.readline()\n",
    " \n",
    "    def flush(self):\n",
    "        if self.writable:\n",
    "            os.write(self._fd, self.buffer.getvalue())\n",
    "            self.buffer.truncate(0), self.buffer.seek(0)\n",
    " \n",
    " \n",
    "class IOWrapper(IOBase):\n",
    "    def __init__(self, file):\n",
    "        self.buffer = FastIO(file)\n",
    "        self.flush = self.buffer.flush\n",
    "        self.writable = self.buffer.writable\n",
    "        self.write = lambda s: self.buffer.write(s.encode(\"ascii\"))\n",
    "        self.read = lambda: self.buffer.read().decode(\"ascii\")\n",
    "        self.readline = lambda: self.buffer.readline().decode(\"ascii\")\n",
    " \n",
    " \n",
    "sys.stdin, sys.stdout = IOWrapper(sys.stdin), IOWrapper(sys.stdout)\n",
    "input = lambda: sys.stdin.readline().rstrip(\"\\r\\n\")\n",
    " \n",
    "# endregion\n",
    " \n",
    "if __name__ == \"__main__\":\n",
    "    main()"
   ]
  }
 ],
 "metadata": {
  "kernelspec": {
   "display_name": "Python 3",
   "language": "python",
   "name": "python3"
  },
  "language_info": {
   "codemirror_mode": {
    "name": "ipython",
    "version": 3
   },
   "file_extension": ".py",
   "mimetype": "text/x-python",
   "name": "python",
   "nbconvert_exporter": "python",
   "pygments_lexer": "ipython3",
   "version": "3.7.3"
  }
 },
 "nbformat": 4,
 "nbformat_minor": 4
}
