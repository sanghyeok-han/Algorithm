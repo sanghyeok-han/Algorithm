{
 "cells": [
  {
   "cell_type": "code",
   "execution_count": null,
   "metadata": {},
   "outputs": [],
   "source": [
    "import sys\n",
    "input = lambda: sys.stdin.readline().rstrip()"
   ]
  },
  {
   "cell_type": "markdown",
   "metadata": {},
   "source": [
    "A"
   ]
  },
  {
   "cell_type": "code",
   "execution_count": 9,
   "metadata": {},
   "outputs": [
    {
     "name": "stdout",
     "output_type": "stream",
     "text": [
      "1\n",
      "3 111\n",
      "1 1 1\n",
      "0\n"
     ]
    }
   ],
   "source": [
    "from heapq import heappush, heappop\n",
    "import sys\n",
    "input = lambda: sys.stdin.readline().rstrip()\n",
    "\n",
    "for _ in range(int(input())):\n",
    "    n, s = map(int, input().split())\n",
    "    li = list(map(int, input().split()))\n",
    "\n",
    "    heap = []\n",
    "    cumul = 0\n",
    "    mvi = -1 # max_value index\n",
    "    cur_count = 0\n",
    "    for i in range(n):\n",
    "        heappush(heap, (-li[i], i))\n",
    "        cumul += li[i]\n",
    "\n",
    "        if cumul > s:\n",
    "            temp = -heap[0][0]\n",
    "            if cumul - temp <= s:\n",
    "                mvi = heap[0][1]\n",
    "            else:\n",
    "                break\n",
    "\n",
    "    print(mvi + 1)"
   ]
  },
  {
   "cell_type": "markdown",
   "metadata": {},
   "source": [
    "B"
   ]
  },
  {
   "cell_type": "code",
   "execution_count": 17,
   "metadata": {},
   "outputs": [
    {
     "name": "stdout",
     "output_type": "stream",
     "text": [
      "30 20\n",
      "4\n"
     ]
    }
   ],
   "source": [
    "import sys\n",
    "input = lambda: sys.stdin.readline().rstrip()\n",
    "\n",
    "def get_sum(num):\n",
    "    return num * (num + 1) // 2\n",
    "\n",
    "for _ in range(int(input())):\n",
    "    a, b = map(int, input().split())\n",
    "    abs_diff = abs(a - b)\n",
    "    tp = abs_diff % 2\n",
    "    cur = 0\n",
    "    while True:\n",
    "        sv = get_sum(cur)\n",
    "        if abs_diff <= sv and sv % 2 == tp:\n",
    "            break\n",
    "        cur += 1\n",
    "\n",
    "    print(cur)"
   ]
  },
  {
   "cell_type": "markdown",
   "metadata": {},
   "source": [
    "C"
   ]
  },
  {
   "cell_type": "code",
   "execution_count": 20,
   "metadata": {},
   "outputs": [
    {
     "name": "stdout",
     "output_type": "stream",
     "text": [
      "1\n",
      "1 1\n",
      "2\n"
     ]
    }
   ],
   "source": [
    "import sys\n",
    "input = lambda: sys.stdin.readline().rstrip()\n",
    "\n",
    "for _ in range(int(input())):\n",
    "    n = int(input())\n",
    "    li = list(map(int, input().split()))\n",
    "\n",
    "    for i in range(n * 2):\n",
    "        if li[i] == 2:\n",
    "            li[i] = -1\n",
    "\n",
    "    d = dict()\n",
    "    d[0] = n\n",
    "    cur_to_empty = n\n",
    "    cumul = 0\n",
    "    for i in range(n * 2 - 1, n - 1, -1):\n",
    "        cur_to_empty -= 1\n",
    "        cumul += li[i]\n",
    "        d[cumul] = cur_to_empty\n",
    "\n",
    "    cur_to_empty = n\n",
    "    min_to_empty = n + d[0]\n",
    "    cumul = 0\n",
    "    for i in range(n):\n",
    "        cur_to_empty -= 1\n",
    "        cumul += li[i]\n",
    "        if -cumul in d:\n",
    "            min_to_empty = min(min_to_empty, cur_to_empty + d[-cumul])\n",
    "\n",
    "    print(min_to_empty)"
   ]
  },
  {
   "cell_type": "markdown",
   "metadata": {},
   "source": [
    "D"
   ]
  },
  {
   "cell_type": "code",
   "execution_count": 19,
   "metadata": {},
   "outputs": [
    {
     "name": "stdout",
     "output_type": "stream",
     "text": [
      "onetwonetwooneooonetwooo\n",
      "6\n",
      "1 5 9 12 17 20\n"
     ]
    }
   ],
   "source": [
    "import sys\n",
    "input = lambda: sys.stdin.readline().rstrip()\n",
    "\n",
    "for _ in range(int(input())):\n",
    "    s = input()\n",
    "    n = len(s)\n",
    "\n",
    "    r = []\n",
    "    i = 0\n",
    "    while True:\n",
    "        temp = s[i:i + 3]\n",
    "        if temp == 'two':\n",
    "            if s[i + 3:i + 5] == 'ne':\n",
    "                r.append(i + 2 + 1)\n",
    "                i += 5\n",
    "            else:\n",
    "                r.append(i + 1 + 1)\n",
    "                i += 3\n",
    "        elif temp == 'one':\n",
    "            r.append(i + 1 + 1)\n",
    "            i += 3\n",
    "        else:\n",
    "            i += 1\n",
    "\n",
    "        if i >= n:\n",
    "            break\n",
    "\n",
    "    print(len(r))\n",
    "    print(*r)"
   ]
  },
  {
   "cell_type": "markdown",
   "metadata": {},
   "source": [
    "E"
   ]
  },
  {
   "cell_type": "code",
   "execution_count": 40,
   "metadata": {},
   "outputs": [
    {
     "name": "stdout",
     "output_type": "stream",
     "text": [
      "2\n",
      "5\n",
      "4\n",
      "0 1 2 5\n",
      "11\n",
      "6\n",
      "0 1 2 3 5 11\n"
     ]
    }
   ],
   "source": [
    "import sys\n",
    "input = lambda: sys.stdin.readline().rstrip()\n",
    "\n",
    "for _ in range(int(input())):\n",
    "    n = int(input())\n",
    "    \n",
    "    r = [n]\n",
    "    for mod in range(2, n + 1):\n",
    "        v = n // mod\n",
    "        if v == r[-1]:\n",
    "            break\n",
    "        r.append(v)\n",
    "\n",
    "    r = list(range(r[-1])) + r[::-1]\n",
    "\n",
    "    print(len(r))\n",
    "    print(*r)"
   ]
  },
  {
   "cell_type": "markdown",
   "metadata": {},
   "source": [
    "F"
   ]
  },
  {
   "cell_type": "code",
   "execution_count": 69,
   "metadata": {},
   "outputs": [
    {
     "name": "stdout",
     "output_type": "stream",
     "text": [
      "500050040\n"
     ]
    }
   ],
   "source": [
    "from collections import deque\n",
    "\n",
    "# n, k, z = map(int, input().split())\n",
    "# li = list(map(int, input().split()))\n",
    "\n",
    "n = int(1e5)\n",
    "k = n - 1\n",
    "z = 5\n",
    "li = list(range(1, int(1e4) + 1)) * 10\n",
    "\n",
    "queue = deque()\n",
    "queue.append([0, 0, li[0], z, False]) # (index, count, total, left, is_last_left)\n",
    "max_value = 0\n",
    "dp_fl = [[0] * (z + 1) for _ in range(n + 1)] # dp former left\n",
    "dp_fr = [[0] * (z + 1) for _ in range(n + 1)] # dp former right\n",
    "dp_fr[0][z] = li[0]\n",
    "while queue:\n",
    "    index, count, total, left, is_last_left = queue.popleft()\n",
    "    \n",
    "    if count == k:\n",
    "        max_value = max(max_value, total)\n",
    "        continue\n",
    "    if index < n - 1:\n",
    "        ntotal = total + li[index + 1]\n",
    "        if ntotal > dp_fr[index + 1][left]:\n",
    "            dp_fr[index + 1][left] = ntotal\n",
    "            queue.append([index + 1, count + 1, total + li[index + 1], left, False])\n",
    "    if not is_last_left and left and index >= 1:\n",
    "        ntotal = total + li[index - 1]\n",
    "        if ntotal > dp_fl[index - 1][left - 1]:\n",
    "            dp_fl[index - 1][left - 1] = ntotal\n",
    "            queue.append([index - 1, count + 1, total + li[index - 1], left - 1, True])\n",
    "        \n",
    "print(max_value)"
   ]
  },
  {
   "cell_type": "code",
   "execution_count": null,
   "metadata": {},
   "outputs": [],
   "source": [
    "from collections import deque\n",
    "import sys\n",
    "input = lambda: sys.stdin.readline().rstrip()\n",
    "\n",
    "for _ in range(int(input())):\n",
    "    n, k, z = map(int, input().split())\n",
    "    li = list(map(int, input().split()))\n",
    "\n",
    "    queue = deque()\n",
    "    queue.append([0, 0, li[0], z, False]) # (index, count, total, left, is_last_left)\n",
    "    max_value = 0\n",
    "    dp_fl = [[0] * (z + 1) for _ in range(n + 1)] # dp former left\n",
    "    dp_fr = [[0] * (z + 1) for _ in range(n + 1)] # dp former right\n",
    "    dp_fr[0][z] = li[0]\n",
    "    while queue:\n",
    "        index, count, total, left, is_last_left = queue.popleft()\n",
    "\n",
    "        if count == k:\n",
    "            max_value = max(max_value, total)\n",
    "            continue\n",
    "        if index < n - 1:\n",
    "            ntotal = total + li[index + 1]\n",
    "            if ntotal > dp_fr[index + 1][left]:\n",
    "                dp_fr[index + 1][left] = ntotal\n",
    "                queue.append([index + 1, count + 1, total + li[index + 1], left, False])\n",
    "        if not is_last_left and left and index >= 1:\n",
    "            ntotal = total + li[index - 1]\n",
    "            if ntotal > dp_fl[index - 1][left - 1]:\n",
    "                dp_fl[index - 1][left - 1] = ntotal\n",
    "                queue.append([index - 1, count + 1, total + li[index - 1], left - 1, True])\n",
    "\n",
    "    print(max_value)"
   ]
  },
  {
   "cell_type": "markdown",
   "metadata": {},
   "source": [
    "G"
   ]
  },
  {
   "cell_type": "code",
   "execution_count": 39,
   "metadata": {},
   "outputs": [
    {
     "name": "stdout",
     "output_type": "stream",
     "text": [
      "4\n",
      "1 3 2 4\n",
      "1 4\n",
      "8 0 4 0\n",
      "1 3\n",
      "-9 -3 -6 \n",
      "4 4\n",
      "-4\n"
     ]
    }
   ],
   "source": [
    "n = int(input())\n",
    "li = list(map(int, input().split()))\n",
    "\n",
    "if n == 1:\n",
    "    print(1, 1)\n",
    "    print(1)\n",
    "    print(1, 1)\n",
    "    print(-1)\n",
    "    print(1, 1)\n",
    "    print(-li[0])\n",
    "elif n == 2:\n",
    "    print(1, 1)\n",
    "    print(1)\n",
    "    print(1, 1)\n",
    "    print(-(li[0] + 1))\n",
    "    print(2, 2)\n",
    "    print(-li[1])\n",
    "elif n == 3:\n",
    "    for i in range(n):\n",
    "        print(i + 1, i + 1)\n",
    "        print(-li[i])\n",
    "else:\n",
    "    print(1, n)\n",
    "    temp = [0] * n\n",
    "    for i in range(n - 1):\n",
    "        to_check = li[i] % (n - 1)\n",
    "        to_increase = 0\n",
    "        if to_check:\n",
    "            to_increase = n - 1 - (li[i] % (n - 1))\n",
    "        temp[i] = n * to_increase\n",
    "        li[i] += temp[i]    \n",
    "    print(*temp)\n",
    "\n",
    "    print(1, n - 1)\n",
    "    for i in range(n - 1):\n",
    "        print(-li[i], end=' ')\n",
    "    print()\n",
    "\n",
    "    print(n, n)\n",
    "    print(-li[n - 1])"
   ]
  },
  {
   "cell_type": "code",
   "execution_count": 8,
   "metadata": {},
   "outputs": [
    {
     "data": {
      "text/plain": [
       "0"
      ]
     },
     "execution_count": 8,
     "metadata": {},
     "output_type": "execute_result"
    }
   ],
   "source": [
    "1 % 3\n",
    "(1 + 4) % 3\n",
    "(1 + 4 + 4) % 3"
   ]
  }
 ],
 "metadata": {
  "kernelspec": {
   "display_name": "Python 3",
   "language": "python",
   "name": "python3"
  },
  "language_info": {
   "codemirror_mode": {
    "name": "ipython",
    "version": 3
   },
   "file_extension": ".py",
   "mimetype": "text/x-python",
   "name": "python",
   "nbconvert_exporter": "python",
   "pygments_lexer": "ipython3",
   "version": "3.7.4"
  }
 },
 "nbformat": 4,
 "nbformat_minor": 2
}
