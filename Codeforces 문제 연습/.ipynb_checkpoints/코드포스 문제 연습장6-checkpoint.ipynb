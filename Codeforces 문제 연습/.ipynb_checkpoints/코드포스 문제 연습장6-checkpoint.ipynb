{
 "cells": [
  {
   "cell_type": "markdown",
   "metadata": {},
   "source": [
    "https://codeforces.com/problemset/problem/1628/B"
   ]
  },
  {
   "cell_type": "code",
   "execution_count": null,
   "metadata": {},
   "outputs": [],
   "source": [
    "한 글자 짜리가 하나라도 있으면 그것만 쓰면 되므로 무조건 가능함"
   ]
  },
  {
   "cell_type": "code",
   "execution_count": null,
   "metadata": {},
   "outputs": [],
   "source": [
    "import sys\n",
    "# input = lambda: sys.stdin.readline().rstrip()\n",
    "\n",
    "def check(s):\n",
    "    ls = len(s)\n",
    "    for i in range(ls // 2):\n",
    "        if s[i] != s[ls - 1 - i]:\n",
    "            return False\n",
    "    return True\n",
    "\n",
    "for _ in range(int(input())):\n",
    "    n = int(input())\n",
    "    li = [input() for _ in range(n)]\n",
    "\n",
    "    ip = False\n",
    "    for s in li:\n",
    "        if check(s):\n",
    "            ip = True\n",
    "            break\n",
    "\n",
    "    if ip:\n",
    "        print('YES')\n",
    "    else:\n",
    "        ip = False\n",
    "        st2 = set()\n",
    "        st2_all = set()\n",
    "        st3 = set()\n",
    "\n",
    "        for s in li:\n",
    "            if len(s) == 2:\n",
    "                rs = s[::-1]\n",
    "                if rs in st2_all:\n",
    "                    ip = True\n",
    "                    break\n",
    "\n",
    "                st2.add(s)\n",
    "                st2_all.add(s)\n",
    "            else:\n",
    "                rs3 = s[::-1]\n",
    "                if rs3 in st3:\n",
    "                    ip = True\n",
    "                    break\n",
    "\n",
    "                rs2 = s[1:][::-1]\n",
    "                if rs2 in st2:\n",
    "                    ip = True\n",
    "                    break\n",
    "\n",
    "                st3.add(s)\n",
    "                st2_all.add(s[:-1])\n",
    "\n",
    "        if ip:\n",
    "            print('YES')\n",
    "        else:\n",
    "            print('NO')"
   ]
  },
  {
   "cell_type": "code",
   "execution_count": null,
   "metadata": {},
   "outputs": [],
   "source": [
    "bb\n",
    "\n",
    "aba\n",
    "\n",
    "ab ba\n",
    "\n",
    "abc ba\n",
    "\n",
    "ab  cba\n",
    "\n",
    "abc cba"
   ]
  },
  {
   "cell_type": "code",
   "execution_count": null,
   "metadata": {},
   "outputs": [],
   "source": [
    "2 - 2, 3\n",
    "3 - 2\n",
    "3 - 3"
   ]
  },
  {
   "cell_type": "code",
   "execution_count": 38,
   "metadata": {},
   "outputs": [
    {
     "name": "stdout",
     "output_type": "stream",
     "text": [
      "2\n",
      "abc\n",
      "dba\n",
      "NO\n"
     ]
    }
   ],
   "source": [
    "import sys\n",
    "# input = lambda: sys.stdin.readline().rstrip()\n",
    "\n",
    "def check(s):\n",
    "    ls = len(s)\n",
    "    for i in range(ls // 2):\n",
    "        if s[i] != s[ls - 1 - i]:\n",
    "            return False\n",
    "    return True\n",
    "\n",
    "n = int(input())\n",
    "li = [input() for _ in range(n)]\n",
    "\n",
    "ip = False\n",
    "for s in li:\n",
    "    if check(s):\n",
    "        ip = True\n",
    "        break\n",
    "\n",
    "if ip:\n",
    "    print('YES')\n",
    "else:\n",
    "    ip = False\n",
    "    st2 = set()\n",
    "    st2_all = set()\n",
    "    st3 = set()\n",
    "\n",
    "    for s in li:\n",
    "        if len(s) == 2:\n",
    "            rs = s[::-1]\n",
    "            if rs in st2_all:\n",
    "                ip = True\n",
    "                break\n",
    "\n",
    "            st2.add(s)\n",
    "            st2_all.add(s)\n",
    "        else:\n",
    "            rs3 = s[::-1]\n",
    "            if rs3 in st3:\n",
    "                ip = True\n",
    "                break\n",
    "\n",
    "            rs2 = s[1:][::-1]\n",
    "            if rs2 in st2:\n",
    "                ip = True\n",
    "                break\n",
    "\n",
    "            st3.add(s)\n",
    "            st2_all.add(s[:-1])\n",
    "\n",
    "    if ip:\n",
    "        print('YES')\n",
    "    else:\n",
    "        print('NO')"
   ]
  },
  {
   "cell_type": "code",
   "execution_count": null,
   "metadata": {},
   "outputs": [],
   "source": [
    "2\n",
    "abc\n",
    "dba\n",
    "YES"
   ]
  },
  {
   "cell_type": "code",
   "execution_count": null,
   "metadata": {},
   "outputs": [],
   "source": [
    "ab ba\n",
    "\n",
    "abc ba\n",
    "\n",
    "ab  cba\n",
    "\n",
    "abc cba"
   ]
  },
  {
   "cell_type": "code",
   "execution_count": 24,
   "metadata": {},
   "outputs": [
    {
     "data": {
      "text/plain": [
       "True"
      ]
     },
     "execution_count": 24,
     "metadata": {},
     "output_type": "execute_result"
    }
   ],
   "source": [
    "check('a')"
   ]
  },
  {
   "cell_type": "markdown",
   "metadata": {},
   "source": [
    "https://codeforces.com/problemset/problem/1618/E"
   ]
  },
  {
   "cell_type": "code",
   "execution_count": 14,
   "metadata": {},
   "outputs": [
    {
     "name": "stdout",
     "output_type": "stream",
     "text": [
      "1\n",
      "3\n",
      "1 2 3\n",
      "YES\n",
      "1 0 0\n"
     ]
    }
   ],
   "source": [
    "import sys\n",
    "# input = lambda: sys.stdin.readline().rstrip()\n",
    "\n",
    "def get_sum(num):\n",
    "    return num * (num + 1) // 2\n",
    "\n",
    "for _ in range(int(input())):\n",
    "    n = int(input())\n",
    "    b = list(map(int, input().split()))\n",
    "\n",
    "    sum_b = sum(b)\n",
    "    if sum_b % get_sum(n) != 0:\n",
    "        print('NO')\n",
    "    else:\n",
    "        a = [0] * n\n",
    "        sum_a = sum_b // get_sum(n)\n",
    "\n",
    "        ip = True\n",
    "        for i in range(n):\n",
    "            diff = b[i] - b[i - 1]\n",
    "\n",
    "            temp = sum_a - diff\n",
    "            if temp % n != 0:\n",
    "                ip = False\n",
    "                break\n",
    "            else:\n",
    "                a[i] = temp // n\n",
    "                if a[i] <= 0:\n",
    "                    ip = False\n",
    "                    break\n",
    "            \n",
    "        if not ip:\n",
    "            print('NO')\n",
    "        else:\n",
    "            print('YES')\n",
    "            print(*a)"
   ]
  },
  {
   "cell_type": "code",
   "execution_count": null,
   "metadata": {},
   "outputs": [],
   "source": []
  },
  {
   "cell_type": "code",
   "execution_count": 13,
   "metadata": {},
   "outputs": [
    {
     "data": {
      "text/plain": [
       "6"
      ]
     },
     "execution_count": 13,
     "metadata": {},
     "output_type": "execute_result"
    }
   ],
   "source": [
    "1+2+3"
   ]
  },
  {
   "cell_type": "code",
   "execution_count": null,
   "metadata": {},
   "outputs": [],
   "source": [
    "b1,                       b2,               b3\n",
    "\n",
    "a1*1 + a2*3 + a3*2   a1*2 + a2*1 + a3*3  a1*3 + a2*2 + a3*1\n",
    "\n"
   ]
  },
  {
   "cell_type": "code",
   "execution_count": null,
   "metadata": {},
   "outputs": [],
   "source": []
  },
  {
   "cell_type": "code",
   "execution_count": null,
   "metadata": {},
   "outputs": [],
   "source": [
    "a1 + a2 + a3 = (b1 + b2 + b3) / (1 + 2 + 3)\n",
    "a1 - 2a2 + a3 = b2 - b1\n",
    "\n",
    "3 * a2 = (b1 + b2 + b3) / (1 + 2 + 3) - (b2 - b1)"
   ]
  },
  {
   "cell_type": "code",
   "execution_count": null,
   "metadata": {},
   "outputs": [],
   "source": [
    "a1 * 2 - a2 - a3"
   ]
  },
  {
   "cell_type": "code",
   "execution_count": null,
   "metadata": {},
   "outputs": [],
   "source": [
    "6a1 + 6a2 + 6a3  = b1 + b2 + b3\n",
    "\n",
    "a1 + a2 + a3 = (b1 + b2 + b3) / (1 + 2 + 3)"
   ]
  },
  {
   "cell_type": "code",
   "execution_count": 2,
   "metadata": {},
   "outputs": [
    {
     "data": {
      "text/plain": [
       "7.0"
      ]
     },
     "execution_count": 2,
     "metadata": {},
     "output_type": "execute_result"
    }
   ],
   "source": [
    "a2 * 2 + a3 = b1\n",
    "a1 + a3 * 2 = b2\n",
    "a1 * 2 + a2 = b3\n",
    "\n",
    "\n"
   ]
  },
  {
   "cell_type": "code",
   "execution_count": null,
   "metadata": {},
   "outputs": [],
   "source": [
    "a2 * 2 - a3 "
   ]
  },
  {
   "cell_type": "code",
   "execution_count": null,
   "metadata": {},
   "outputs": [],
   "source": [
    "7"
   ]
  },
  {
   "cell_type": "code",
   "execution_count": 3,
   "metadata": {},
   "outputs": [
    {
     "name": "stdout",
     "output_type": "stream",
     "text": [
      "81 75 75 93 93 87\n"
     ]
    }
   ],
   "source": [
    "li = list(map(int, input().split()))"
   ]
  },
  {
   "cell_type": "code",
   "execution_count": 4,
   "metadata": {},
   "outputs": [
    {
     "data": {
      "text/plain": [
       "504"
      ]
     },
     "execution_count": 4,
     "metadata": {},
     "output_type": "execute_result"
    }
   ],
   "source": [
    "sum(li)"
   ]
  },
  {
   "cell_type": "markdown",
   "metadata": {},
   "source": [
    "https://codeforces.com/contest/1692/problem/A"
   ]
  },
  {
   "cell_type": "code",
   "execution_count": 6,
   "metadata": {},
   "outputs": [
    {
     "name": "stdout",
     "output_type": "stream",
     "text": [
      "2\n",
      "500 600 400 300\n",
      "1\n",
      "0 9999 10000 9998\n",
      "3\n"
     ]
    }
   ],
   "source": [
    "import sys\n",
    "input = lambda: sys.stdin.readline().rstrip()\n",
    "\n",
    "for _ in range(int(input())):\n",
    "    a, b, c, d = map(int, input().split())\n",
    "\n",
    "    total = (a < b) + (a < c) + (a < d)\n",
    "\n",
    "    print(total)"
   ]
  },
  {
   "cell_type": "markdown",
   "metadata": {},
   "source": [
    "https://codeforces.com/contest/1692/problem/B"
   ]
  },
  {
   "cell_type": "code",
   "execution_count": 11,
   "metadata": {},
   "outputs": [
    {
     "name": "stdout",
     "output_type": "stream",
     "text": [
      "6\n",
      "2 2 2 3 3 3\n",
      "2\n"
     ]
    }
   ],
   "source": [
    "from collections import Counter\n",
    "import sys\n",
    "input = lambda: sys.stdin.readline().rstrip()\n",
    "\n",
    "for _ in range(int(input())):\n",
    "    n = int(input())\n",
    "    li = list(map(int, input().split()))\n",
    "\n",
    "    ct = Counter(li)\n",
    "\n",
    "    c1 = len(ct)\n",
    "    c2 = 0\n",
    "    for v in ct.values():\n",
    "        v -= 1\n",
    "        c2 += v\n",
    "\n",
    "    to_remove = c2 // 2 \n",
    "    if c2 % 2:\n",
    "        to_remove += 1\n",
    "\n",
    "    r = n - to_remove * 2\n",
    "\n",
    "    print(r)"
   ]
  },
  {
   "cell_type": "markdown",
   "metadata": {},
   "source": [
    "https://codeforces.com/contest/1692/problem/C"
   ]
  },
  {
   "cell_type": "code",
   "execution_count": null,
   "metadata": {},
   "outputs": [],
   "source": [
    "import sys\n",
    "input = lambda: sys.stdin.readline().rstrip()\n",
    "\n",
    "def get_coord():\n",
    "    for i in range(1, 7):\n",
    "        for j in range(1, 7):\n",
    "            if li[i - 1][j - 1] == '#' and li[i - 1][j + 1] == '#' and li[i + 1][j - 1] == '#' and li[i + 1][j + 1] == '#':\n",
    "                return i + 1, j + 1\n",
    "    \n",
    "\n",
    "for _ in range(int(input())):\n",
    "    input()\n",
    "    li = [input() for _ in range(8)]\n",
    "    \n",
    "    print(*get_coord())"
   ]
  },
  {
   "cell_type": "markdown",
   "metadata": {},
   "source": [
    "https://codeforces.com/contest/1692/problem/D"
   ]
  },
  {
   "cell_type": "code",
   "execution_count": 16,
   "metadata": {},
   "outputs": [
    {
     "name": "stdout",
     "output_type": "stream",
     "text": [
      "00:00 1\n",
      "16\n"
     ]
    }
   ],
   "source": [
    "import sys\n",
    "input = lambda: sys.stdin.readline().rstrip()\n",
    "\n",
    "def check(s):\n",
    "    n = len(s)\n",
    "    for i in range(n // 2):\n",
    "        if s[i] != s[n - 1 - i]:\n",
    "            return False\n",
    "    return True\n",
    "\n",
    "for _ in range(int(input())):\n",
    "    tm, x = input().split()\n",
    "\n",
    "    h, m = map(int, tm.split(':'))\n",
    "    x = int(x)\n",
    "\n",
    "    cur = h * 60 + m\n",
    "    st = {cur}\n",
    "    while True:\n",
    "        cur += x\n",
    "        cur %= 1440\n",
    "\n",
    "        if cur in st:\n",
    "            break\n",
    "        st.add(cur)\n",
    "\n",
    "    total = 0\n",
    "    for v in st:\n",
    "        h = v // 60\n",
    "        m = v % 60\n",
    "\n",
    "        h = str(h).rjust(2, '0')\n",
    "        m = str(m).rjust(2, '0')\n",
    "\n",
    "        temp = f'{h}:{m}'\n",
    "        if check(temp):\n",
    "            total += 1\n",
    "\n",
    "    print(total)"
   ]
  },
  {
   "cell_type": "markdown",
   "metadata": {},
   "source": [
    "https://codeforces.com/contest/1692/problem/E"
   ]
  },
  {
   "cell_type": "code",
   "execution_count": 29,
   "metadata": {},
   "outputs": [
    {
     "name": "stdout",
     "output_type": "stream",
     "text": [
      "5 1\n",
      "1 0 0 0 0\n",
      "0 0 1 1\n",
      "0 1 1 1\n",
      "0 2 1 1\n",
      "0 3 1 1\n",
      "0 4 1 1\n",
      "0\n"
     ]
    }
   ],
   "source": [
    "import sys\n",
    "input = lambda: sys.stdin.readline().rstrip()\n",
    "\n",
    "inf = float('inf')\n",
    "\n",
    "for _ in range(int(input())):\n",
    "    n, s = map(int, input().split())\n",
    "    li = list(map(int, input().split()))\n",
    "\n",
    "    max_v = sum(li)\n",
    "\n",
    "    if max_v < s:\n",
    "        print(-1)\n",
    "    else:\n",
    "        start = 0\n",
    "        end = 0\n",
    "        cur = li[0]\n",
    "        min_r = inf\n",
    "        while start <= end:\n",
    "            if cur < s:\n",
    "                end += 1\n",
    "                if end >= n:\n",
    "                    break\n",
    "                cur += li[end]\n",
    "            elif cur > s:\n",
    "                cur -= li[start]\n",
    "                start += 1\n",
    "            else:\n",
    "                temp = start + (n - 1 - end)\n",
    "                min_r = min(min_r, temp)\n",
    "                end += 1\n",
    "                if end >= n:\n",
    "                    break\n",
    "                cur += li[end]\n",
    "\n",
    "        print(min_r)"
   ]
  },
  {
   "cell_type": "markdown",
   "metadata": {},
   "source": [
    "https://codeforces.com/contest/1692/problem/F"
   ]
  },
  {
   "cell_type": "code",
   "execution_count": 37,
   "metadata": {},
   "outputs": [
    {
     "name": "stdout",
     "output_type": "stream",
     "text": [
      "5\n",
      "12 34 56 78 90\n",
      "NO\n"
     ]
    }
   ],
   "source": [
    "import sys\n",
    "input = lambda: sys.stdin.readline().rstrip()\n",
    "\n",
    "cases = [(0, 0, 3), (0, 1, 2), (0, 2, 1), (0, 3, 0), (0, 4, 9), (0, 5, 8), (0, 6, 7), (0, 7, 6), (0, 8, 5), (0, 9, 4), (1, 0, 2), (1, 1, 1), (1, 2, 0), (1, 3, 9), (1, 4, 8), (1, 5, 7), (1, 6, 6), (1, 7, 5), (1, 8, 4), (1, 9, 3), (2, 0, 1), (2, 1, 0), (2, 2, 9), (2, 3, 8), (2, 4, 7), (2, 5, 6), (2, 6, 5), (2, 7, 4), (2, 8, 3), (2, 9, 2), (3, 0, 0), (3, 1, 9), (3, 2, 8), (3, 3, 7), (3, 4, 6), (3, 5, 5), (3, 6, 4), (3, 7, 3), (3, 8, 2), (3, 9, 1), (4, 0, 9), (4, 1, 8), (4, 2, 7), (4, 3, 6), (4, 4, 5), (4, 5, 4), (4, 6, 3), (4, 7, 2), (4, 8, 1), (4, 9, 0), (5, 0, 8), (5, 1, 7), (5, 2, 6), (5, 3, 5), (5, 4, 4), (5, 5, 3), (5, 6, 2), (5, 7, 1), (5, 8, 0), (5, 9, 9), (6, 0, 7), (6, 1, 6), (6, 2, 5), (6, 3, 4), (6, 4, 3), (6, 5, 2), (6, 6, 1), (6, 7, 0), (6, 8, 9), (6, 9, 8), (7, 0, 6), (7, 1, 5), (7, 2, 4), (7, 3, 3), (7, 4, 2), (7, 5, 1), (7, 6, 0), (7, 7, 9), (7, 8, 8), (7, 9, 7), (8, 0, 5), (8, 1, 4), (8, 2, 3), (8, 3, 2), (8, 4, 1), (8, 5, 0), (8, 6, 9), (8, 7, 8), (8, 8, 7), (8, 9, 6), (9, 0, 4), (9, 1, 3), (9, 2, 2), (9, 3, 1), (9, 4, 0), (9, 5, 9), (9, 6, 8), (9, 7, 7), (9, 8, 6), (9, 9, 5)]\n",
    "\n",
    "get_value = lambda x: int(x[-1])\n",
    "for _ in range(int(input())):\n",
    "    n = int(input())\n",
    "    li = map(get_value, input().split())\n",
    "\n",
    "    ct = [0] * 10\n",
    "    for v in li:\n",
    "        ct[v] += 1\n",
    "\n",
    "    for case in cases:\n",
    "        ip = True\n",
    "        for v in case:\n",
    "            ct[v] -= 1\n",
    "            if ct[v] < 0:\n",
    "                ip = False\n",
    "\n",
    "        for v in case:\n",
    "            ct[v] += 1\n",
    "\n",
    "        if ip:\n",
    "            break\n",
    "\n",
    "    if ip:\n",
    "        print('YES')\n",
    "    else:\n",
    "        print('NO')"
   ]
  },
  {
   "cell_type": "markdown",
   "metadata": {},
   "source": [
    "https://codeforces.com/contest/1692/problem/G"
   ]
  },
  {
   "cell_type": "code",
   "execution_count": null,
   "metadata": {},
   "outputs": [],
   "source": [
    "li[i + 1] * 2가 li[i]보다 커야함"
   ]
  },
  {
   "cell_type": "code",
   "execution_count": null,
   "metadata": {},
   "outputs": [],
   "source": [
    "False: 1, True: 0"
   ]
  },
  {
   "cell_type": "code",
   "execution_count": 39,
   "metadata": {},
   "outputs": [
    {
     "name": "stdout",
     "output_type": "stream",
     "text": [
      "7 3\n",
      "22 12 16 4 3 22 12\n",
      "1\n"
     ]
    }
   ],
   "source": [
    "import sys\n",
    "input = lambda: sys.stdin.readline().rstrip()\n",
    "\n",
    "for _ in range(int(input())):\n",
    "    n, k = map(int, input().split())\n",
    "    li = list(map(int, input().split()))\n",
    "    iip = [] # is impossible\n",
    "    for i in range(n - 1):\n",
    "        # possible case\n",
    "        if li[i] < li[i + 1] * 2:\n",
    "            iip.append(0)\n",
    "        else:\n",
    "            iip.append(1)\n",
    "\n",
    "    siip = [0]\n",
    "    cumul = 0\n",
    "    for i in range(n - 1):\n",
    "        cumul += iip[i]\n",
    "        siip.append(cumul)\n",
    "\n",
    "    total = 0\n",
    "    start = 0\n",
    "    while True:\n",
    "        end = start + k - 1\n",
    "        if end >= n - 1:\n",
    "            break\n",
    "\n",
    "        temp = siip[end + 1] - siip[start]\n",
    "        if temp == 0:\n",
    "            total += 1\n",
    "\n",
    "        start += 1\n",
    "\n",
    "    print(total)"
   ]
  },
  {
   "cell_type": "markdown",
   "metadata": {},
   "source": [
    "https://codeforces.com/contest/1692/problem/H"
   ]
  },
  {
   "cell_type": "code",
   "execution_count": 108,
   "metadata": {},
   "outputs": [
    {
     "name": "stdout",
     "output_type": "stream",
     "text": [
      "1\n",
      "1\n",
      "3\n",
      "3 1 1\n"
     ]
    }
   ],
   "source": [
    "from random import randint\n",
    "from collections import defaultdict as dd\n",
    "import sys\n",
    "input = lambda: sys.stdin.readline().rstrip()\n",
    "\n",
    "for _ in range(int(input())):\n",
    "    n = int(input())\n",
    "    li = list(map(int, input().split()))\n",
    "\n",
    "    d = dd(list)\n",
    "    for i, v in enumerate(li):\n",
    "        d[v].append(i)\n",
    "\n",
    "    max_r = 1\n",
    "    max_r_num = li[0]\n",
    "    max_r_intv = [1, 1]\n",
    "    for key in d:\n",
    "        cur_len = len(d[key])\n",
    "\n",
    "        start = 0\n",
    "        end = 0\n",
    "        cur = 1\n",
    "        while start <= end:\n",
    "            if cur <= 0:\n",
    "                start = end\n",
    "                cur = 1\n",
    "            else:\n",
    "                end += 1\n",
    "                if end >= cur_len:\n",
    "                    break\n",
    "                diff = d[key][end] - d[key][end - 1]\n",
    "                reduced = diff - 1\n",
    "                cur -= reduced\n",
    "                cur += 1\n",
    "\n",
    "                if cur > max_r:\n",
    "                    max_r = cur\n",
    "                    max_r_num = key\n",
    "                    max_r_intv = [d[key][start] + 1, d[key][end] + 1]\n",
    "\n",
    "    print(max_r_num, max_r_intv[0], max_r_intv[1])"
   ]
  }
 ],
 "metadata": {
  "kernelspec": {
   "display_name": "Python 3",
   "language": "python",
   "name": "python3"
  },
  "language_info": {
   "codemirror_mode": {
    "name": "ipython",
    "version": 3
   },
   "file_extension": ".py",
   "mimetype": "text/x-python",
   "name": "python",
   "nbconvert_exporter": "python",
   "pygments_lexer": "ipython3",
   "version": "3.7.4"
  }
 },
 "nbformat": 4,
 "nbformat_minor": 2
}
