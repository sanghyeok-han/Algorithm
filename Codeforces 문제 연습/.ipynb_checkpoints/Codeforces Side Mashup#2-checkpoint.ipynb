{
 "cells": [
  {
   "cell_type": "markdown",
   "metadata": {},
   "source": [
    "https://codeforces.com/gym/384129"
   ]
  },
  {
   "cell_type": "markdown",
   "metadata": {},
   "source": [
    "A"
   ]
  },
  {
   "cell_type": "raw",
   "metadata": {},
   "source": [
    "같은 값이 2개 있으면 1은 꼭 있어야함"
   ]
  },
  {
   "cell_type": "code",
   "execution_count": 60,
   "metadata": {},
   "outputs": [
    {
     "name": "stdout",
     "output_type": "stream",
     "text": [
      "1\n",
      "3 5\n",
      "1 2 5\n",
      "Yes\n"
     ]
    }
   ],
   "source": [
    "import sys\n",
    "# input = lambda: sys.stdin.readline().rstrip()\n",
    "\n",
    "for _ in range(int(input())):\n",
    "    n, c = map(int, input().split())\n",
    "    li = sorted(set(map(int, input().split())))\n",
    "    n = len(li)\n",
    "    \n",
    "    if li[0] != 1:\n",
    "        print('No')\n",
    "    else:\n",
    "        ip = [True] * (c + 1)\n",
    "\n",
    "        cur_to_find = 1\n",
    "        r = True\n",
    "        for i in range(n):\n",
    "            if not ip[li[i]]:\n",
    "                r = False\n",
    "                break\n",
    "\n",
    "            if li[i] == cur_to_find:\n",
    "                cur_to_find = li[i] + 1\n",
    "                continue\n",
    "\n",
    "            former_max = 0\n",
    "            for j in range(n):\n",
    "                for num in range(max(former_max + 1, li[j] * cur_to_find), li[j] * li[i]):\n",
    "                    if num > c:\n",
    "                        break\n",
    "                    former_max = num\n",
    "                    ip[num] = False\n",
    "                    \n",
    "            if not ip[li[i]]:\n",
    "                r = False\n",
    "                break\n",
    "                    \n",
    "            cur_to_find = li[i] + 1\n",
    "\n",
    "        if r:\n",
    "            print('Yes')\n",
    "        else:\n",
    "            print('No')"
   ]
  },
  {
   "cell_type": "code",
   "execution_count": 55,
   "metadata": {},
   "outputs": [
    {
     "name": "stdout",
     "output_type": "stream",
     "text": [
      "5 20\n",
      "1 2 3 5 8\n",
      "8\n",
      "No\n"
     ]
    }
   ],
   "source": [
    "n, c = map(int, input().split())\n",
    "li = sorted(set(map(int, input().split())))\n",
    "n = len(li)\n",
    "\n",
    "if li[0] != 1:\n",
    "    print('No')\n",
    "else:\n",
    "    ip = [True] * (c + 1)\n",
    "\n",
    "    cur_to_find = 1\n",
    "    r = True\n",
    "    for i in range(n):\n",
    "        if not ip[li[i]]:\n",
    "            r = False\n",
    "            break\n",
    "\n",
    "        if li[i] == cur_to_find:\n",
    "            cur_to_find = li[i] + 1\n",
    "            continue\n",
    "\n",
    "        for j in range(n):\n",
    "            for num in range(li[j] * cur_to_find, li[j] * li[i]):\n",
    "                if num > c:\n",
    "                    break\n",
    "                ip[num] = False\n",
    "        \n",
    "        if not ip[li[i]]:\n",
    "            r = False\n",
    "            break\n",
    "                \n",
    "        cur_to_find = li[i] + 1\n",
    "\n",
    "    if r:\n",
    "        print('Yes')\n",
    "    else:\n",
    "        print('No')"
   ]
  },
  {
   "cell_type": "code",
   "execution_count": 58,
   "metadata": {},
   "outputs": [],
   "source": [
    "def check():\n",
    "    for i in range(n):\n",
    "        for j in range(i, n):\n",
    "            if li[j] // li[i] not in st:\n",
    "                return False\n",
    "    return True\n",
    "\n",
    "n = 5\n",
    "c = 20\n",
    "for va in range(2, 15):\n",
    "    for vb in range(va + 1, 15):\n",
    "        for vc in range(vb + 1, 15):\n",
    "            for vd in range(vc + 1, 15):\n",
    "                li = [1, va, vb, vc, vd]\n",
    "                st = set(li)\n",
    "                \n",
    "                ip = [True] * (c + 1)\n",
    "\n",
    "                cur_to_find = 1\n",
    "                r = True\n",
    "                for i in range(n):\n",
    "                    if not ip[li[i]]:\n",
    "                        r = False\n",
    "                        break\n",
    "\n",
    "                    if li[i] == cur_to_find:\n",
    "                        cur_to_find = li[i] + 1\n",
    "                        continue\n",
    "\n",
    "                    former_max = 0\n",
    "                    for j in range(n):\n",
    "                        for num in range(max(former_max + 1, li[j] * cur_to_find), li[j] * li[i]):\n",
    "                            if num > c:\n",
    "                                break\n",
    "                            former_max = num\n",
    "                            ip[num] = False\n",
    "\n",
    "                    if not ip[li[i]]:\n",
    "                        r = False\n",
    "                        break\n",
    "\n",
    "                    cur_to_find = li[i] + 1\n",
    "\n",
    "                if r != check():\n",
    "                    print(li, r, check())"
   ]
  },
  {
   "cell_type": "markdown",
   "metadata": {},
   "source": [
    "B"
   ]
  },
  {
   "cell_type": "code",
   "execution_count": 1,
   "metadata": {},
   "outputs": [
    {
     "data": {
      "text/plain": [
       "131072"
      ]
     },
     "execution_count": 1,
     "metadata": {},
     "output_type": "execute_result"
    }
   ],
   "source": [
    "3 8\n",
    "\n",
    "3 4 5 6 7 8"
   ]
  },
  {
   "cell_type": "code",
   "execution_count": null,
   "metadata": {},
   "outputs": [],
   "source": [
    "4 7 6 5"
   ]
  },
  {
   "cell_type": "code",
   "execution_count": 2,
   "metadata": {},
   "outputs": [
    {
     "data": {
      "text/plain": [
       "0"
      ]
     },
     "execution_count": 2,
     "metadata": {},
     "output_type": "execute_result"
    }
   ],
   "source": [
    "4 ^ 4"
   ]
  },
  {
   "cell_type": "code",
   "execution_count": 3,
   "metadata": {},
   "outputs": [
    {
     "data": {
      "text/plain": [
       "3"
      ]
     },
     "execution_count": 3,
     "metadata": {},
     "output_type": "execute_result"
    }
   ],
   "source": [
    "0 1 2 3\n",
    "4 7 6 5"
   ]
  },
  {
   "cell_type": "code",
   "execution_count": null,
   "metadata": {},
   "outputs": [],
   "source": [
    "0 1 2 3\n",
    "000  001  010  011\n",
    "\n",
    "4 5 6 7\n",
    "\n",
    "100  101  110  111"
   ]
  },
  {
   "cell_type": "code",
   "execution_count": 35,
   "metadata": {},
   "outputs": [
    {
     "name": "stdout",
     "output_type": "stream",
     "text": [
      "1\n",
      "1 4\n",
      "2 3 0 5\n",
      "0\n"
     ]
    }
   ],
   "source": [
    "import sys\n",
    "# input = lambda: sys.stdin.readline().rstrip()\n",
    "\n",
    "for _ in range(int(input())):\n",
    "    l, r = map(int, input().split())\n",
    "    li = list(map(int, input().split()))\n",
    "\n",
    "    ct = [0] * 17\n",
    "    for v in range(l, r + 1):\n",
    "        bv = bin(v)\n",
    "        cur = 0\n",
    "        for i in range(len(bv) - 1, 1, -1):\n",
    "            if bv[i] == '1':\n",
    "                ct[cur] += 1\n",
    "            cur += 1\n",
    "\n",
    "    ct2 = [0] * 17\n",
    "    for v in li:\n",
    "        bv = bin(v)\n",
    "        cur = 0\n",
    "        for i in range(len(bv) - 1, 1, -1):\n",
    "            if bv[i] == '1':\n",
    "                ct2[cur] += 1\n",
    "            cur += 1\n",
    "\n",
    "    r = 0\n",
    "    for i in range(17):\n",
    "        if ct[i] != ct2[i]:\n",
    "            r += 2 ** i\n",
    "\n",
    "    print(r)"
   ]
  },
  {
   "cell_type": "markdown",
   "metadata": {},
   "source": [
    "C"
   ]
  },
  {
   "cell_type": "code",
   "execution_count": null,
   "metadata": {},
   "outputs": [],
   "source": [
    "aa, 3, aaa, 5, aaaaaaaaaaaaaa, 234, aaaa, 234234, aaa , 2323, aa, 232, aaa, 2323,aaa ,23232344"
   ]
  },
  {
   "cell_type": "code",
   "execution_count": 45,
   "metadata": {},
   "outputs": [],
   "source": [
    "for i in range(len(bs) - 2, -1, -1):\n",
    "    bs[i] *= bs[i + 1]"
   ]
  },
  {
   "cell_type": "code",
   "execution_count": 54,
   "metadata": {},
   "outputs": [
    {
     "data": {
      "text/plain": [
       "[70, 10]"
      ]
     },
     "execution_count": 54,
     "metadata": {},
     "output_type": "execute_result"
    }
   ],
   "source": [
    "bs"
   ]
  },
  {
   "cell_type": "code",
   "execution_count": 111,
   "metadata": {},
   "outputs": [
    {
     "name": "stdout",
     "output_type": "stream",
     "text": [
      "1\n",
      "3 4 5\n",
      "a*a\n",
      "abbbba\n"
     ]
    }
   ],
   "source": [
    "import sys\n",
    "# input = lambda: sys.stdin.readline().rstrip()\n",
    "\n",
    "for _ in range(int(input())):\n",
    "    n, k, x = map(int, input().split())\n",
    "    s = input()\n",
    "\n",
    "    li = []\n",
    "    bs = []\n",
    "    fv = s[0]\n",
    "    cont = 0\n",
    "    cur_i = 0\n",
    "    is_a = False\n",
    "    for v in s:\n",
    "        if v == fv:\n",
    "            cont += 1\n",
    "        else:\n",
    "            if fv == 'a':\n",
    "                is_a = True\n",
    "                li.append(['a', cont])\n",
    "            else:\n",
    "                li.append(['b', cur_i])\n",
    "                cur_i += 1\n",
    "                bs.append(cont * k + 1)\n",
    "            fv = v\n",
    "            cont = 1\n",
    "\n",
    "    if fv == 'a':\n",
    "        is_a = True\n",
    "        li.append(['a', cont])\n",
    "    else:\n",
    "        li.append(['b', cur_i])\n",
    "        bs.append(cont * k + 1)\n",
    "\n",
    "    if not bs:\n",
    "        print(s)\n",
    "    elif not is_a:\n",
    "        print('b' * x)\n",
    "    else:\n",
    "        for i in range(len(bs) - 2, -1, -1):\n",
    "            bs[i] *= bs[i + 1]\n",
    "\n",
    "        x -= 1\n",
    "        assigned = [0] * len(bs)\n",
    "        for i in range(1, len(bs)):\n",
    "            assigned[i - 1] = x // bs[i]\n",
    "            x %= bs[i]\n",
    "\n",
    "        assigned[-1] = x % bs[-1]\n",
    "\n",
    "        r = []\n",
    "        cur_i = 0\n",
    "        for alpha, status in li:\n",
    "            if alpha == 'a':\n",
    "                r.append('a' * status)\n",
    "            else:\n",
    "                r.append('b' * assigned[cur_i])\n",
    "                cur_i += 1\n",
    "\n",
    "        print(''.join(r))"
   ]
  },
  {
   "cell_type": "code",
   "execution_count": null,
   "metadata": {},
   "outputs": [],
   "source": [
    "3 4 4\n",
    "\n"
   ]
  },
  {
   "cell_type": "code",
   "execution_count": 79,
   "metadata": {},
   "outputs": [
    {
     "data": {
      "text/plain": [
       "3"
      ]
     },
     "execution_count": 79,
     "metadata": {},
     "output_type": "execute_result"
    }
   ],
   "source": [
    "1 1 1\n",
    "*\n"
   ]
  },
  {
   "cell_type": "code",
   "execution_count": null,
   "metadata": {},
   "outputs": [],
   "source": [
    "2"
   ]
  },
  {
   "cell_type": "code",
   "execution_count": 71,
   "metadata": {},
   "outputs": [
    {
     "data": {
      "text/plain": [
       "[1, 9]"
      ]
     },
     "execution_count": 71,
     "metadata": {},
     "output_type": "execute_result"
    }
   ],
   "source": [
    "assigned"
   ]
  },
  {
   "cell_type": "code",
   "execution_count": 50,
   "metadata": {},
   "outputs": [
    {
     "data": {
      "text/plain": [
       "[70, 10]"
      ]
     },
     "execution_count": 50,
     "metadata": {},
     "output_type": "execute_result"
    }
   ],
   "source": [
    "a\n",
    "ab\n",
    "abb\n",
    "abbb\n",
    "abbbb\n",
    "abbbbb\n",
    "abbbbbb\n",
    "abbbbbbb\n",
    "abbbbbbbb\n",
    "abbbbbbbbb\n",
    "\n",
    "ba\n",
    "bab\n",
    "babb\n",
    "babbb\n",
    "babbbb\n",
    "babbbbb\n",
    "babbbbbb\n",
    "babbbbbbb\n",
    "babbbbbbbb\n",
    "babbbbbbbbb"
   ]
  },
  {
   "cell_type": "markdown",
   "metadata": {},
   "source": [
    "https://codeforces.com/gym/384129/problem/D"
   ]
  },
  {
   "cell_type": "code",
   "execution_count": 118,
   "metadata": {},
   "outputs": [
    {
     "name": "stdout",
     "output_type": "stream",
     "text": [
      "3 2\n",
      "0 1 0\n",
      "1\n"
     ]
    }
   ],
   "source": [
    "import sys\n",
    "input = lambda: sys.stdin.readline().rstrip()\n",
    "\n",
    "inf = float('inf')\n",
    "\n",
    "for _ in range(int(input())):\n",
    "    n, d = map(int, input().split())\n",
    "    li = list(map(int, input().split()))\n",
    "\n",
    "    ip = True\n",
    "    needed = [inf] * n\n",
    "    for i in range(n):\n",
    "        if li[i] == 0:\n",
    "            needed[i] = 0\n",
    "            continue\n",
    "        if needed[i] != inf:\n",
    "            continue\n",
    "        temp = [i]\n",
    "        ni = i\n",
    "        init = 1\n",
    "        while True:\n",
    "            ni = (ni - d) % n\n",
    "            if li[ni] == 0:\n",
    "                break\n",
    "            if ni == i:\n",
    "                ip = False\n",
    "                break\n",
    "            if needed[ni] != inf:\n",
    "                init = needed[ni] + 1\n",
    "                break\n",
    "            else:\n",
    "                temp.append(ni)  \n",
    "        if not ip:\n",
    "            break\n",
    "\n",
    "        while temp:\n",
    "            v = temp.pop()\n",
    "            needed[v] = init\n",
    "            init += 1\n",
    "\n",
    "    if not ip:\n",
    "        print(-1)\n",
    "    else:\n",
    "        print(max(needed))"
   ]
  },
  {
   "cell_type": "markdown",
   "metadata": {},
   "source": [
    "E"
   ]
  },
  {
   "cell_type": "code",
   "execution_count": 127,
   "metadata": {},
   "outputs": [
    {
     "name": "stdout",
     "output_type": "stream",
     "text": [
      "5\n",
      "1 3 1 3 2\n",
      "2\n"
     ]
    }
   ],
   "source": [
    "import sys\n",
    "# input = lambda: sys.stdin.readline().rstrip()\n",
    "\n",
    "# https://github.com/tatyam-prime/SortedSet/blob/main/SortedMultiset.py\n",
    "import math\n",
    "from bisect import bisect_left, bisect_right, insort\n",
    "from typing import Generic, Iterable, Iterator, TypeVar, Union, List\n",
    "T = TypeVar('T')\n",
    "\n",
    "class SortedMultiset(Generic[T]):\n",
    "    BUCKET_RATIO = 50\n",
    "    REBUILD_RATIO = 170\n",
    "\n",
    "    def _build(self, a=None) -> None:\n",
    "        \"Evenly divide `a` into buckets.\"\n",
    "        if a is None: a = list(self)\n",
    "        size = self.size = len(a)\n",
    "        bucket_size = int(math.ceil(math.sqrt(size / self.BUCKET_RATIO)))\n",
    "        self.a = [a[size * i // bucket_size : size * (i + 1) // bucket_size] for i in range(bucket_size)]\n",
    "    \n",
    "    def __init__(self, a: Iterable[T] = []) -> None:\n",
    "        \"Make a new SortedMultiset from iterable. / O(N) if sorted / O(N log N)\"\n",
    "        a = list(a)\n",
    "        if not all(a[i] <= a[i + 1] for i in range(len(a) - 1)):\n",
    "            a = sorted(a)\n",
    "        self._build(a)\n",
    "\n",
    "    def __iter__(self) -> Iterator[T]:\n",
    "        for i in self.a:\n",
    "            for j in i: yield j\n",
    "\n",
    "    def __reversed__(self) -> Iterator[T]:\n",
    "        for i in reversed(self.a):\n",
    "            for j in reversed(i): yield j\n",
    "    \n",
    "    def __len__(self) -> int:\n",
    "        return self.size\n",
    "    \n",
    "    def __repr__(self) -> str:\n",
    "        return \"SortedMultiset\" + str(self.a)\n",
    "    \n",
    "    def __str__(self) -> str:\n",
    "        s = str(list(self))\n",
    "        return \"{\" + s[1 : len(s) - 1] + \"}\"\n",
    "\n",
    "    def _find_bucket(self, x: T) -> List[T]:\n",
    "        \"Find the bucket which should contain x. self must not be empty.\"\n",
    "        for a in self.a:\n",
    "            if x <= a[-1]: return a\n",
    "        return a\n",
    "\n",
    "    def __contains__(self, x: T) -> bool:\n",
    "        if self.size == 0: return False\n",
    "        a = self._find_bucket(x)\n",
    "        i = bisect_left(a, x)\n",
    "        return i != len(a) and a[i] == x\n",
    "\n",
    "    def count(self, x: T) -> int:\n",
    "        \"Count the number of x.\"\n",
    "        return self.index_right(x) - self.index(x)\n",
    "\n",
    "    def add(self, x: T) -> None:\n",
    "        \"Add an element. / O(√N)\"\n",
    "        if self.size == 0:\n",
    "            self.a = [[x]]\n",
    "            self.size = 1\n",
    "            return\n",
    "        a = self._find_bucket(x)\n",
    "        insort(a, x)\n",
    "        self.size += 1\n",
    "        if len(a) > len(self.a) * self.REBUILD_RATIO:\n",
    "            self._build()\n",
    "\n",
    "    def discard(self, x: T) -> bool:\n",
    "        \"Remove an element and return True if removed. / O(√N)\"\n",
    "        if self.size == 0: return False\n",
    "        a = self._find_bucket(x)\n",
    "        i = bisect_left(a, x)\n",
    "        if i == len(a) or a[i] != x: return False\n",
    "        a.pop(i)\n",
    "        self.size -= 1\n",
    "        if len(a) == 0: self._build()\n",
    "        return True\n",
    "\n",
    "    def lt(self, x: T) -> Union[T, None]:\n",
    "        \"Find the largest element < x, or None if it doesn't exist.\"\n",
    "        for a in reversed(self.a):\n",
    "            if a[0] < x:\n",
    "                return a[bisect_left(a, x) - 1]\n",
    "\n",
    "    def le(self, x: T) -> Union[T, None]:\n",
    "        \"Find the largest element <= x, or None if it doesn't exist.\"\n",
    "        for a in reversed(self.a):\n",
    "            if a[0] <= x:\n",
    "                return a[bisect_right(a, x) - 1]\n",
    "\n",
    "    def gt(self, x: T) -> Union[T, None]:\n",
    "        \"Find the smallest element > x, or None if it doesn't exist.\"\n",
    "        for a in self.a:\n",
    "            if a[-1] > x:\n",
    "                return a[bisect_right(a, x)]\n",
    "\n",
    "    def ge(self, x: T) -> Union[T, None]:\n",
    "        \"Find the smallest element >= x, or None if it doesn't exist.\"\n",
    "        for a in self.a:\n",
    "            if a[-1] >= x:\n",
    "                return a[bisect_left(a, x)]\n",
    "    \n",
    "    def __getitem__(self, x: int) -> T:\n",
    "        \"Return the x-th element, or IndexError if it doesn't exist.\"\n",
    "        if x < 0: x += self.size\n",
    "        if x < 0: raise IndexError\n",
    "        for a in self.a:\n",
    "            if x < len(a): return a[x]\n",
    "            x -= len(a)\n",
    "        raise IndexError\n",
    "\n",
    "    def index(self, x: T) -> int:\n",
    "        \"Count the number of elements < x.\"\n",
    "        ans = 0\n",
    "        for a in self.a:\n",
    "            if a[-1] >= x:\n",
    "                return ans + bisect_left(a, x)\n",
    "            ans += len(a)\n",
    "        return ans\n",
    "\n",
    "    def index_right(self, x: T) -> int:\n",
    "        \"Count the number of elements <= x.\"\n",
    "        ans = 0\n",
    "        for a in self.a:\n",
    "            if a[-1] > x:\n",
    "                return ans + bisect_right(a, x)\n",
    "            ans += len(a)\n",
    "        return ans\n",
    "\n",
    "for _ in range(int(input())):\n",
    "    n = int(input())\n",
    "    li = list(map(int, input().split()))\n",
    "    \n",
    "    sli = sorted(li)\n",
    "    ms = SortedMultiset()\n",
    "    for v in sli:\n",
    "        ms.add(v)\n",
    "\n",
    "    cur_n = n\n",
    "    r = 0\n",
    "    for i in range(n - 1, -1, -1):\n",
    "        v = li[i]\n",
    "\n",
    "        ms.discard(v)\n",
    "        cur_n -= 1\n",
    "        sc = ms.index(v) # smaller count\n",
    "        bc = cur_n - ms.index_right(v + 0.1)\n",
    "\n",
    "        r += min(sc, bc)\n",
    "\n",
    "    print(r)"
   ]
  },
  {
   "cell_type": "code",
   "execution_count": 122,
   "metadata": {},
   "outputs": [
    {
     "data": {
      "text/plain": [
       "2"
      ]
     },
     "execution_count": 122,
     "metadata": {},
     "output_type": "execute_result"
    }
   ],
   "source": [
    "from bisect import bisect_left\n",
    "\n",
    "bisect_left([0, 0, 1, 1, 2, 2, 2], 1) # smaller\n"
   ]
  },
  {
   "cell_type": "code",
   "execution_count": 125,
   "metadata": {},
   "outputs": [
    {
     "data": {
      "text/plain": [
       "3"
      ]
     },
     "execution_count": 125,
     "metadata": {},
     "output_type": "execute_result"
    }
   ],
   "source": [
    "n = 7\n",
    " \n",
    "7 - bisect_left([0, 0, 1, 1, 2, 2, 2], 1 + 0.1) # bigger"
   ]
  },
  {
   "cell_type": "markdown",
   "metadata": {},
   "source": [
    "https://codeforces.com/gym/384129/problem/F"
   ]
  },
  {
   "cell_type": "code",
   "execution_count": 129,
   "metadata": {
    "scrolled": true
   },
   "outputs": [
    {
     "data": {
      "text/plain": [
       "19230.76923076923"
      ]
     },
     "execution_count": 129,
     "metadata": {},
     "output_type": "execute_result"
    }
   ],
   "source": [
    "abacabaaacaac\n",
    "\n",
    "연속된 c 제거\n",
    "abacabaaacaa  c\n",
    "\n",
    "연속된 c 또는 a 제거\n",
    "abacab\n",
    "\n",
    "연속된 c, a, b 제거\n",
    "''"
   ]
  },
  {
   "cell_type": "code",
   "execution_count": null,
   "metadata": {},
   "outputs": [],
   "source": [
    "b있는 가장 마지막부터 시작\n",
    "\n",
    "abacab\n",
    "abc \n",
    "321\n",
    "\n"
   ]
  },
  {
   "cell_type": "code",
   "execution_count": null,
   "metadata": {},
   "outputs": [],
   "source": [
    "3+2+1 + 3+1 + 3+2\n",
    "\n",
    "원본의 개수와 맞는 것을 찾음\n",
    "\n",
    "그 후 원본 재구성 시도해서 같으면 정답임"
   ]
  },
  {
   "cell_type": "code",
   "execution_count": 140,
   "metadata": {},
   "outputs": [
    {
     "name": "stdout",
     "output_type": "stream",
     "text": [
      "abacaba bac\n"
     ]
    }
   ],
   "source": [
    "from collections import defaultdict as dd\n",
    "import sys\n",
    "input = lambda: sys.stdin.readline().rstrip()\n",
    "\n",
    "for _ in range(int(input())):\n",
    "    s = input()\n",
    "    n = len(s)\n",
    "\n",
    "    st = set()\n",
    "    deleted = []\n",
    "    for i in range(n - 1, -1, -1):\n",
    "        if s[i] not in st:\n",
    "            st.add(s[i])\n",
    "            deleted.append(s[i])\n",
    "        else:\n",
    "            continue\n",
    "\n",
    "    deleted.reverse()\n",
    "\n",
    "    last_included = 0\n",
    "    for i in range(n):\n",
    "        if s[i] == deleted[0]:\n",
    "            last_included = i\n",
    "\n",
    "    ct = dd(int)\n",
    "    for i in range(last_included):\n",
    "        ct[s[i]] += 1\n",
    "\n",
    "    cand = ''\n",
    "    for i in range(last_included, n):\n",
    "        ct[s[i]] += 1\n",
    "\n",
    "        temp = 0\n",
    "        w = 1\n",
    "        for v in deleted:\n",
    "            temp += ct[v] * w\n",
    "            w += 1\n",
    "\n",
    "        if temp == n:\n",
    "            cand = s[:i + 1]\n",
    "            break\n",
    "\n",
    "    if not cand:\n",
    "        print(-1)\n",
    "    else:\n",
    "        ncand = cand[:]\n",
    "        to_check = [ncand]\n",
    "        for v in deleted:\n",
    "            ncand = ncand.replace(v, '')\n",
    "            to_check.append(ncand)\n",
    "\n",
    "        to_check = ''.join(to_check)\n",
    "        if to_check == s:\n",
    "            print(cand, ''.join(deleted))\n",
    "        else:\n",
    "            print(-1)"
   ]
  },
  {
   "cell_type": "markdown",
   "metadata": {},
   "source": [
    "https://codeforces.com/gym/384129/problem/G"
   ]
  },
  {
   "cell_type": "code",
   "execution_count": 157,
   "metadata": {},
   "outputs": [
    {
     "name": "stdout",
     "output_type": "stream",
     "text": [
      "7\n",
      "6 4 6 2 4 5 6\n",
      "4\n",
      "6 4 7 2 1 5 3\n"
     ]
    }
   ],
   "source": [
    "import sys\n",
    "input = lambda: sys.stdin.readline().rstrip()\n",
    "\n",
    "get_value = lambda x: int(x) - 1\n",
    "\n",
    "for _ in range(int(input())):\n",
    "    n = int(input())\n",
    "    a = list(map(get_value, input().split()))\n",
    "\n",
    "    to_given = set(a)\n",
    "    given = set()\n",
    "\n",
    "    k = len(to_given)\n",
    "\n",
    "    r = [-1] * n\n",
    "    for i in range(n):\n",
    "        if a[i] not in given and i not in to_given:\n",
    "            r[i] = a[i] + 1\n",
    "            given.add(a[i])\n",
    "\n",
    "\n",
    "    for i in range(n):\n",
    "        if r[i] != -1:\n",
    "            continue\n",
    "\n",
    "        if a[i] not in given:\n",
    "            given.add(a[i])\n",
    "            r[i] = a[i] + 1\n",
    "\n",
    "    not_given_st = set(range(n)) - given\n",
    "    not_give_st = {i for i, v in enumerate(r) if v == -1}\n",
    "\n",
    "    sames = not_given_st & not_give_st\n",
    "    not_given_st -= sames\n",
    "    not_give_st -= sames\n",
    "\n",
    "    while len(sames) >= 2:\n",
    "        a = sames.pop()\n",
    "        b = sames.pop()\n",
    "\n",
    "        r[a] = b + 1\n",
    "        r[b] = a + 1\n",
    "\n",
    "    if sames:\n",
    "        a = sames.pop()\n",
    "\n",
    "        b = not_given_st.pop()\n",
    "        c = not_give_st.pop()\n",
    "\n",
    "        r[c] = a + 1\n",
    "        r[a] = b + 1\n",
    "\n",
    "    while not_given_st:\n",
    "        a = not_give_st.pop()\n",
    "        b = not_given_st.pop()\n",
    "\n",
    "        r[a] = b + 1\n",
    "\n",
    "    print(k)\n",
    "    print(*r)"
   ]
  }
 ],
 "metadata": {
  "kernelspec": {
   "display_name": "Python 3",
   "language": "python",
   "name": "python3"
  },
  "language_info": {
   "codemirror_mode": {
    "name": "ipython",
    "version": 3
   },
   "file_extension": ".py",
   "mimetype": "text/x-python",
   "name": "python",
   "nbconvert_exporter": "python",
   "pygments_lexer": "ipython3",
   "version": "3.7.4"
  }
 },
 "nbformat": 4,
 "nbformat_minor": 2
}
