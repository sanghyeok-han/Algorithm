{
 "cells": [
  {
   "cell_type": "markdown",
   "metadata": {},
   "source": [
    "https://codeforces.com/problemset/problem/1380/C C. Create The Teams"
   ]
  },
  {
   "cell_type": "markdown",
   "metadata": {},
   "source": [
    "2.50 2.56"
   ]
  },
  {
   "cell_type": "code",
   "execution_count": 3,
   "metadata": {},
   "outputs": [
    {
     "name": "stdout",
     "output_type": "stream",
     "text": [
      "5 10\n",
      "7 11 2 9 5\n",
      "2\n"
     ]
    }
   ],
   "source": [
    "import sys\n",
    "input = lambda: sys.stdin.readline().rstrip()\n",
    "\n",
    "for _ in range(int(input())):\n",
    "    n, x = map(int, input().split())\n",
    "    li = sorted(map(int, input().split()))\n",
    "\n",
    "    total = 0\n",
    "    cont = 0\n",
    "    for i in range(n - 1, -1, -1):\n",
    "        cont += 1\n",
    "        if cont * li[i] >= x:\n",
    "            total += 1\n",
    "            cont = 0\n",
    "\n",
    "    print(total)"
   ]
  },
  {
   "cell_type": "markdown",
   "metadata": {},
   "source": [
    "https://codeforces.com/problemset/problem/1380/B B. Universal Solution"
   ]
  },
  {
   "cell_type": "markdown",
   "metadata": {},
   "source": [
    "8.41 8.54"
   ]
  },
  {
   "cell_type": "code",
   "execution_count": 5,
   "metadata": {},
   "outputs": [
    {
     "name": "stdout",
     "output_type": "stream",
     "text": [
      "1\n",
      "S\n",
      "S\n",
      "0 0 1\n"
     ]
    }
   ],
   "source": [
    "import sys\n",
    "# input = lambda: sys.stdin.readline().rstrip()\n",
    "\n",
    "for _ in range(int(input())):\n",
    "    s = input()\n",
    "    n = len(s)\n",
    "\n",
    "    cr = cs = cp = 0\n",
    "    for v in s:\n",
    "        if v == 'R':\n",
    "            cr += 1\n",
    "        elif v == 'S':\n",
    "            cs += 1\n",
    "        else:\n",
    "            cp += 1\n",
    "\n",
    "    max_v = max(cr, cs, cp)\n",
    "\n",
    "    if cr == max_v:\n",
    "        print('P' * n)\n",
    "    elif cs == max_v:\n",
    "        print('R' * n)\n",
    "    else:\n",
    "        print('S' * n)"
   ]
  },
  {
   "cell_type": "markdown",
   "metadata": {},
   "source": [
    "https://codeforces.com/problemset/problem/1374/D D. Zero Remainder Array"
   ]
  },
  {
   "cell_type": "markdown",
   "metadata": {},
   "source": [
    "8.55 9.13"
   ]
  },
  {
   "cell_type": "code",
   "execution_count": 17,
   "metadata": {},
   "outputs": [
    {
     "name": "stdout",
     "output_type": "stream",
     "text": [
      "10 25\n",
      "24 24 24 24 24 24 24 24 24 24\n",
      "10 1\n",
      "227\n"
     ]
    }
   ],
   "source": [
    "import sys\n",
    "input = lambda: sys.stdin.readline().rstrip()\n",
    "\n",
    "for _ in range(int(input())):\n",
    "    n, k = map(int, input().split())\n",
    "    li = list(map(int, input().split()))\n",
    "\n",
    "    nli = [k - v % k for v in li]\n",
    "    nli.sort()\n",
    "\n",
    "    cont = 0\n",
    "    max_cont = -1\n",
    "    max_cont_num = -1\n",
    "    fv = -1\n",
    "    for v in nli:\n",
    "        if v == k:\n",
    "            continue\n",
    "        if v != fv:\n",
    "            cont = 1\n",
    "            fv = v\n",
    "            if cont >= max_cont:\n",
    "                max_cont = cont\n",
    "                max_cont_num = v\n",
    "        else:\n",
    "            cont += 1\n",
    "            if cont >= max_cont:\n",
    "                max_cont = cont\n",
    "                max_cont_num = v\n",
    "\n",
    "    if max_cont_num == -1:\n",
    "        print(0)\n",
    "    else:\n",
    "        r = (max_cont - 1) * k + max_cont_num + 1\n",
    "\n",
    "        print(r)"
   ]
  },
  {
   "cell_type": "markdown",
   "metadata": {},
   "source": [
    "https://codeforces.com/problemset/problem/1363/B B. Subsequence Hate"
   ]
  },
  {
   "cell_type": "markdown",
   "metadata": {},
   "source": [
    "10.27 10.35"
   ]
  },
  {
   "cell_type": "code",
   "execution_count": null,
   "metadata": {},
   "outputs": [],
   "source": [
    "import sys\n",
    "input = lambda: sys.stdin.readline().rstrip()\n",
    "\n",
    "for _ in range(int(input())):\n",
    "    li = list(map(int, input()))\n",
    "    n = len(li)\n",
    "\n",
    "    sli = [0] * (n + 1)\n",
    "    cumul = 0\n",
    "    for i in range(n):\n",
    "        cumul += li[i]\n",
    "        sli[i + 1] = cumul\n",
    "\n",
    "    min_r = min(sli[-1], n - sli[-1])\n",
    "    for other_start in range(1, n):\n",
    "        t1 = sli[other_start] + n - other_start - (sli[n] - sli[other_start])\n",
    "        t2 = other_start - sli[other_start] + (sli[n] - sli[other_start])\n",
    "\n",
    "        min_r = min(min_r, t1, t2)\n",
    "\n",
    "    print(min_r)"
   ]
  },
  {
   "cell_type": "markdown",
   "metadata": {},
   "source": [
    "https://codeforces.com/problemset/problem/1362/C C. Johnny and Another Rating Drop"
   ]
  },
  {
   "cell_type": "markdown",
   "metadata": {},
   "source": [
    "10.36 10.57"
   ]
  },
  {
   "cell_type": "code",
   "execution_count": null,
   "metadata": {},
   "outputs": [],
   "source": [
    "0000 0\n",
    "0001 1\n",
    "0010 2\n",
    "0011 1\n",
    "0100 3\n",
    "0101 1\n",
    "0110 2\n",
    "0111 1\n",
    "1000 4\n",
    "1001 1 \n",
    "1010 2\n",
    "1011 1\n",
    "1100 3\n",
    "1101 1\n",
    "1110 2\n",
    "1111 1\n",
    "10000 5"
   ]
  },
  {
   "cell_type": "code",
   "execution_count": null,
   "metadata": {},
   "outputs": [],
   "source": [
    "1 2 1 3 1 2 1 4 1 2 1 3 1 2 1 5"
   ]
  },
  {
   "cell_type": "code",
   "execution_count": null,
   "metadata": {},
   "outputs": [],
   "source": [
    "1 3 4 7 8 10"
   ]
  },
  {
   "cell_type": "code",
   "execution_count": 62,
   "metadata": {},
   "outputs": [
    {
     "name": "stdout",
     "output_type": "stream",
     "text": [
      "1\n",
      "5\n",
      "8\n"
     ]
    }
   ],
   "source": [
    "import sys\n",
    "# input = lambda: sys.stdin.readline().rstrip()\n",
    "\n",
    "svs = [1]\n",
    "sizes = [1]\n",
    "cri = int(1e18)\n",
    "while True:\n",
    "    f_sv = svs[-1]\n",
    "    f_size = sizes[-1]\n",
    "    added = len(svs) + 1\n",
    "    \n",
    "    sv = f_sv * 2 + added\n",
    "    size = sizes[-1] * 2 + 1\n",
    "    \n",
    "    if size > cri:\n",
    "        break\n",
    "        \n",
    "    svs.append(sv)\n",
    "    sizes.append(size)\n",
    "\n",
    "for _ in range(int(input())):\n",
    "    n = int(input())\n",
    "    \n",
    "    total = 0\n",
    "    for i in range(len(svs) - 1, -1, -1):\n",
    "        if sizes[i] <= n:\n",
    "            if n == sizes[i]:\n",
    "                total += svs[i]\n",
    "                break\n",
    "            elif n == sizes[i] + 1:\n",
    "                total += svs[i] + i + 2\n",
    "                break\n",
    "            else:\n",
    "                total += svs[i] + i + 2\n",
    "                n -= sizes[i] + 1\n",
    "\n",
    "    print(total)"
   ]
  },
  {
   "cell_type": "code",
   "execution_count": 68,
   "metadata": {},
   "outputs": [
    {
     "data": {
      "text/plain": [
       "10"
      ]
     },
     "execution_count": 68,
     "metadata": {},
     "output_type": "execute_result"
    }
   ],
   "source": [
    "import sys\n",
    "input = lambda: sys.stdin.readline().rstrip()\n",
    "\n",
    "def recur(n):\n",
    "    if n == 0:\n",
    "        return 0\n",
    "    else:\n",
    "        return recur(n // 2) + n\n",
    "    \n",
    "for _ in range(int(input())):\n",
    "    n = int(input())\n",
    "    \n",
    "    r = recur(n)\n",
    "    \n",
    "    print(r)"
   ]
  },
  {
   "cell_type": "markdown",
   "metadata": {},
   "source": [
    "https://codeforces.com/problemset/problem/1354/C1 C1. Simple Polygon Embedding"
   ]
  },
  {
   "cell_type": "markdown",
   "metadata": {},
   "source": [
    "11.04"
   ]
  },
  {
   "cell_type": "code",
   "execution_count": 70,
   "metadata": {},
   "outputs": [
    {
     "name": "stdout",
     "output_type": "stream",
     "text": [
      "3\n",
      "2\n",
      "1\n",
      "4\n",
      "2.414213562373095\n",
      "200\n",
      "4831.464784286297\n"
     ]
    }
   ],
   "source": [
    "dp = [1]\n",
    "for _ in range(105):\n",
    "    a = dp[-1]\n",
    "    dp.append((a / 2) ** 0.5 * 2 + a)\n",
    "    \n",
    "for _ in range(int(input())):\n",
    "    n = int(input())\n",
    "    n //= 2\n",
    "    n -= 1\n",
    "\n",
    "    print(dp[n])"
   ]
  },
  {
   "cell_type": "markdown",
   "metadata": {},
   "source": [
    "https://codeforces.com/problemset/problem/1266/C C. Diverse Matrix"
   ]
  },
  {
   "cell_type": "code",
   "execution_count": 32,
   "metadata": {},
   "outputs": [
    {
     "name": "stdout",
     "output_type": "stream",
     "text": [
      "3 3\n",
      "2 10 12\n",
      "3 15 18\n",
      "4 20 24\n"
     ]
    }
   ],
   "source": [
    "r, c = map(int, input().split())\n",
    "\n",
    "if r == 1 and c == 1:\n",
    "    print(0)\n",
    "else:\n",
    "    is_r1 = False\n",
    "    if r == 1:\n",
    "        is_r1 = True\n",
    "        r, c = c, r\n",
    "    \n",
    "    rs = list(range(2, r + 2))\n",
    "    cs = [1] + list(range(r + 2, r + 2 + c - 1))\n",
    "    \n",
    "    result = [[0] * c for _ in range(r)]\n",
    "\n",
    "    for i in range(r):\n",
    "        for j in range(c):\n",
    "            result[i][j] = rs[i] * cs[j]\n",
    "    \n",
    "    if is_r1:\n",
    "        result = [[v[0] for v in result]]\n",
    "        \n",
    "    for v in result:\n",
    "        print(*v)"
   ]
  },
  {
   "cell_type": "code",
   "execution_count": 13,
   "metadata": {},
   "outputs": [
    {
     "data": {
      "text/plain": [
       "501000"
      ]
     },
     "execution_count": 13,
     "metadata": {},
     "output_type": "execute_result"
    }
   ],
   "source": [
    "result[-1][-1]"
   ]
  },
  {
   "cell_type": "markdown",
   "metadata": {},
   "source": [
    "https://codeforces.com/problemset/problem/1263/B B. PIN Codes"
   ]
  },
  {
   "cell_type": "code",
   "execution_count": 34,
   "metadata": {},
   "outputs": [
    {
     "name": "stdout",
     "output_type": "stream",
     "text": [
      "4\n",
      "1234\n",
      "1234\n",
      "1234\n",
      "1234\n",
      "3\n",
      "1234\n",
      "2234\n",
      "6234\n",
      "7234\n"
     ]
    }
   ],
   "source": [
    "from collections import defaultdict as dd\n",
    "import sys\n",
    "input = lambda: sys.stdin.readline().rstrip()\n",
    "\n",
    "for _ in range(int(input())):\n",
    "    n = int(input())\n",
    "    li = [input() for _ in range(n)]\n",
    "\n",
    "    not_ins = {str(v) for v in range(0, 10)}\n",
    "    d = dd(list)\n",
    "    for i in range(n):\n",
    "        d[li[i]].append(i)\n",
    "        not_ins.discard(li[i][0])\n",
    "\n",
    "    c = 0\n",
    "    for key in d:\n",
    "        while len(d[key]) >= 2:\n",
    "            index = d[key].pop()\n",
    "            new_first = not_ins.pop()\n",
    "\n",
    "            c += 1\n",
    "            nv = new_first + li[index][1:]\n",
    "            li[index] = nv\n",
    "\n",
    "    print(c)\n",
    "    for v in li:\n",
    "        print(v)"
   ]
  },
  {
   "cell_type": "markdown",
   "metadata": {},
   "source": [
    "https://codeforces.com/problemset/problem/1256/B B. Minimize the Permutation"
   ]
  },
  {
   "cell_type": "code",
   "execution_count": 60,
   "metadata": {},
   "outputs": [
    {
     "name": "stdout",
     "output_type": "stream",
     "text": [
      "6\n",
      "6 5 4 3 2 1\n",
      "0 5\n",
      "0 4\n",
      "0 3\n",
      "0 2\n",
      "0 1\n",
      "1 6 5 4 3 2\n"
     ]
    }
   ],
   "source": [
    "import sys\n",
    "input = lambda: sys.stdin.readline().rstrip()\n",
    "\n",
    "get_value = lambda x: int(x) - 1\n",
    "\n",
    "for _ in range(int(input())):\n",
    "    n = int(input())\n",
    "    li = list(map(get_value, input().split()))\n",
    "\n",
    "    locs = [0] * n\n",
    "    for i in range(n):\n",
    "        locs[li[i]] = i\n",
    "\n",
    "    ops = set(range(n - 1)) # operations\n",
    "\n",
    "    for num in range(n):\n",
    "        while num < locs[num]:\n",
    "            if locs[num] - 1 in ops:\n",
    "                left_v = li[locs[num] - 1]\n",
    "                right_v = num\n",
    "\n",
    "                if left_v < right_v:\n",
    "                    break\n",
    "\n",
    "                ops.discard(locs[num] - 1)\n",
    "\n",
    "                left_i = locs[num] - 1\n",
    "                right_i = locs[num]\n",
    "\n",
    "                li[left_i], li[right_i] = li[right_i], li[left_i]\n",
    "                locs[left_v] =  right_i\n",
    "                locs[right_v] = left_i         \n",
    "            else:\n",
    "                break\n",
    "\n",
    "    result = [v + 1 for v in li]\n",
    "\n",
    "    print(*result)"
   ]
  },
  {
   "cell_type": "code",
   "execution_count": 70,
   "metadata": {},
   "outputs": [
    {
     "name": "stdout",
     "output_type": "stream",
     "text": [
      "[0, 4, 2, 1, 3]\n"
     ]
    }
   ],
   "source": [
    "from itertools import permutations as perm\n",
    "\n",
    "def solve_t(n, li):\n",
    "    get_value = lambda x: int(x) - 1\n",
    "\n",
    "    locs = [0] * n\n",
    "    for i in range(n):\n",
    "        locs[li[i]] = i\n",
    "\n",
    "    ops = set(range(n - 1)) # operations\n",
    "\n",
    "    for num in range(n):\n",
    "        while num < locs[num]:\n",
    "            if locs[num] - 1 in ops:\n",
    "                left_v = li[locs[num] - 1]\n",
    "                right_v = num\n",
    "\n",
    "                if left_v < right_v:\n",
    "                    break\n",
    "\n",
    "                ops.discard(locs[num] - 1)\n",
    "\n",
    "                left_i = locs[num] - 1\n",
    "                right_i = locs[num]\n",
    "\n",
    "                li[left_i], li[right_i] = li[right_i], li[left_i]\n",
    "                locs[left_v] =  right_i\n",
    "                locs[right_v] = left_i         \n",
    "            else:\n",
    "                break\n",
    "\n",
    "    result = [v + 1 for v in li]\n",
    "\n",
    "    return result\n",
    "\n",
    "\n",
    "def solve_f(n, li):\n",
    "    get_value = lambda x: int(x) - 1\n",
    "\n",
    "    locs = [0] * n\n",
    "    for i in range(n):\n",
    "        locs[li[i]] = i\n",
    "\n",
    "    ops = set(range(n - 1)) # operations\n",
    "\n",
    "    for num in range(n):\n",
    "        while num < locs[num]:\n",
    "            if locs[num] - 1 in ops:\n",
    "                ops.discard(locs[num] - 1)\n",
    "\n",
    "                left_v = li[locs[num] - 1]\n",
    "                right_v = num\n",
    "                left_i = locs[num] - 1\n",
    "                right_i = locs[num]\n",
    "\n",
    "                li[left_i], li[right_i] = li[right_i], li[left_i]\n",
    "                locs[left_v] =  right_i\n",
    "                locs[right_v] = left_i         \n",
    "            else:\n",
    "                break\n",
    "\n",
    "    result = [v + 1 for v in li]\n",
    "\n",
    "    return result\n",
    "\n",
    "n = \n",
    "for oli in perm(range(5)):\n",
    "    oli = list(oli)\n",
    "    if solve_t(n, oli.copy()) != solve_f(n, oli.copy()):\n",
    "        print(oli)\n",
    "        break"
   ]
  },
  {
   "cell_type": "markdown",
   "metadata": {},
   "source": [
    "https://codeforces.com/problemset/problem/1253/B B. Silly Mistake"
   ]
  },
  {
   "cell_type": "code",
   "execution_count": 74,
   "metadata": {},
   "outputs": [
    {
     "name": "stdout",
     "output_type": "stream",
     "text": [
      "3\n",
      "-8 1 1\n",
      "-1\n"
     ]
    }
   ],
   "source": [
    "n = int(input())\n",
    "li = list(map(int, input().split()))\n",
    "\n",
    "date = 0\n",
    "result = []\n",
    "st = set()\n",
    "vt = set()\n",
    "ip = True\n",
    "for v in li:\n",
    "    if v > 0:\n",
    "        if v in vt:\n",
    "            ip = False\n",
    "            break\n",
    "        st.add(v)\n",
    "        vt.add(v)\n",
    "    else:\n",
    "        if -v not in st:\n",
    "            ip = False\n",
    "            break\n",
    "        st.remove(-v)\n",
    "        \n",
    "        if not st:\n",
    "            result.append(len(vt) * 2)\n",
    "            st = set()\n",
    "            vt = set()\n",
    "            date += 1\n",
    "        \n",
    "if st:\n",
    "    ip = False\n",
    "    \n",
    "if not ip:\n",
    "    print(-1)\n",
    "else:\n",
    "    print(date)\n",
    "    print(*result)"
   ]
  },
  {
   "cell_type": "code",
   "execution_count": 76,
   "metadata": {},
   "outputs": [
    {
     "name": "stdout",
     "output_type": "stream",
     "text": [
      "3\n",
      "1110\n",
      "100110\n",
      "010101\n",
      "2\n"
     ]
    }
   ],
   "source": [
    "import sys\n",
    "input = lambda: sys.stdin.readline().rstrip()\n",
    "\n",
    "for _ in range(int(input())):\n",
    "    n = int(input())\n",
    "\n",
    "    parities = set()\n",
    "    c0 = 0\n",
    "    c1 = 0\n",
    "    for _ in range(n):\n",
    "        s = input()\n",
    "\n",
    "        parities.add(len(s) % 2)\n",
    "\n",
    "        temp_c0 = s.count('0')\n",
    "        temp_c1 = len(s) - temp_c0\n",
    "\n",
    "        c0 += temp_c0\n",
    "        c1 += temp_c1\n",
    "\n",
    "    if 1 not in parities and c0 % 2 == 1:\n",
    "        print(n - 1)\n",
    "    else:\n",
    "        print(n)"
   ]
  },
  {
   "cell_type": "markdown",
   "metadata": {},
   "source": [
    "https://codeforces.com/problemset/problem/1250/A A. Berstagram"
   ]
  },
  {
   "cell_type": "code",
   "execution_count": 91,
   "metadata": {},
   "outputs": [
    {
     "name": "stdout",
     "output_type": "stream",
     "text": [
      "10 6\n",
      "7 3 5 7 3 6\n",
      "1 2\n",
      "2 3\n",
      "1 3\n",
      "4 7\n",
      "4 5\n",
      "6 7\n",
      "5 7\n",
      "8 8\n",
      "9 9\n",
      "10 10\n"
     ]
    }
   ],
   "source": [
    "import sys\n",
    "input = lambda: sys.stdin.readline().rstrip()\n",
    "\n",
    "get_value = lambda x: int(x) - 1\n",
    "\n",
    "n, m = map(int, input().split())\n",
    "likes = list(map(get_value, input().split()))\n",
    "\n",
    "li = list(range(n))\n",
    "locs = list(range(n))\n",
    "mins = list(range(n))\n",
    "maxes = list(range(n))\n",
    "\n",
    "for value in likes:\n",
    "    right_loc = locs[value]  \n",
    "\n",
    "    if right_loc == 0:\n",
    "        continue\n",
    "\n",
    "    left_loc = right_loc - 1\n",
    "    left_v = li[left_loc]\n",
    "    right_v = value\n",
    "\n",
    "    li[left_loc], li[right_loc] = li[right_loc], li[left_loc]\n",
    "    locs[left_v], locs[right_v] = locs[right_v], locs[left_v]\n",
    "\n",
    "    mins[right_v] = min(mins[right_v], left_loc)\n",
    "    maxes[left_v] = max(maxes[left_v], right_loc)\n",
    "\n",
    "for num in range(n):\n",
    "    print(mins[num] + 1, maxes[num] + 1)"
   ]
  },
  {
   "cell_type": "markdown",
   "metadata": {},
   "source": [
    "https://codeforces.com/problemset/problem/1245/C C. Constanze's Machine"
   ]
  },
  {
   "cell_type": "markdown",
   "metadata": {},
   "source": [
    "12.45 1.00 -1"
   ]
  },
  {
   "cell_type": "code",
   "execution_count": 100,
   "metadata": {},
   "outputs": [
    {
     "name": "stdout",
     "output_type": "stream",
     "text": [
      "nnnannn\n",
      "9\n"
     ]
    }
   ],
   "source": [
    "mod = int(1e9) + 7\n",
    "\n",
    "max_num = 110000\n",
    "\n",
    "factos = [0] * (max_num + 1)\n",
    "factos[0] = 1\n",
    "invs = [0] * (max_num + 1)\n",
    "cur = 1\n",
    "for i in range(1, max_num + 1):\n",
    "    cur *= i\n",
    "    cur %= mod\n",
    "    factos[i] = cur\n",
    "    \n",
    "invs[max_num] = pow(factos[max_num], mod - 2, mod)\n",
    "for i in range(max_num - 1, -1, -1):\n",
    "    invs[i] = (i + 1) * invs[i + 1] % mod\n",
    "\n",
    "def nCk(n, k, mod):\n",
    "    if n < k:\n",
    "        return 0\n",
    "    return factos[n] * invs[k] * invs[n - k] % mod\n",
    "\n",
    "s = input() + 'z'\n",
    "\n",
    "ip = True\n",
    "for v in s:\n",
    "    if v == 'w' or v == 'm':\n",
    "        ip = False\n",
    "        break\n",
    "        \n",
    "if not ip:\n",
    "    print(0)\n",
    "else:\n",
    "    total = 1\n",
    "    fv = ''\n",
    "    cont = 0\n",
    "    for v in s:\n",
    "        if v == fv:\n",
    "            cont += 1\n",
    "        else:\n",
    "            if fv == 'n' or fv == 'u':\n",
    "                v_n = cont\n",
    "                v_k = 0\n",
    "                temp = 0\n",
    "                while v_n >= v_k:\n",
    "                    temp += nCk(v_n, v_k, mod)\n",
    "                    temp %= mod\n",
    "                    v_n -= 1\n",
    "                    v_k += 1\n",
    "                    \n",
    "                total *= temp\n",
    "                total %= mod\n",
    "            cont = 1\n",
    "            fv = v\n",
    "            \n",
    "    print(total)"
   ]
  },
  {
   "cell_type": "markdown",
   "metadata": {},
   "source": [
    "https://codeforces.com/problemset/problem/1228/B B. Filling the Grid"
   ]
  },
  {
   "cell_type": "markdown",
   "metadata": {},
   "source": [
    "1.13 1.24"
   ]
  },
  {
   "cell_type": "code",
   "execution_count": 114,
   "metadata": {},
   "outputs": [
    {
     "name": "stdout",
     "output_type": "stream",
     "text": [
      "2\n"
     ]
    }
   ],
   "source": [
    "import sys\n",
    "input = lambda: sys.stdin.readline().rstrip()\n",
    "\n",
    "mod = 1000000007\n",
    "\n",
    "h, w = map(int, input().split())\n",
    "rs = list(map(int, input().split()))\n",
    "cs = list(map(int, input().split()))\n",
    "\n",
    "li = [[-1] * w for _ in range(h)]\n",
    "\n",
    "for i in range(h):\n",
    "    j = -1\n",
    "    for j in range(rs[i]):\n",
    "        li[i][j] = 1\n",
    "    if j + 1 < w:\n",
    "        li[i][j + 1] = 0\n",
    "        \n",
    "ip = True\n",
    "for j in range(w):\n",
    "    i = -1\n",
    "    for i in range(cs[j]):\n",
    "        if li[i][j] != 0:\n",
    "            li[i][j] = 1\n",
    "        else:\n",
    "            ip = False\n",
    "            break\n",
    "    if i + 1 < h:\n",
    "        if li[i + 1][j] != 1:\n",
    "            li[i + 1][j] = 0\n",
    "        else:\n",
    "            ip = False\n",
    "            break\n",
    "            \n",
    "    if not ip:\n",
    "        break\n",
    "        \n",
    "if not ip:\n",
    "    print(0)\n",
    "else:\n",
    "    total = 1\n",
    "    for i in range(h):\n",
    "        for j in range(w):\n",
    "            if li[i][j] == -1:\n",
    "                total *= 2\n",
    "                total %= mod\n",
    "                \n",
    "    print(total)"
   ]
  },
  {
   "cell_type": "markdown",
   "metadata": {},
   "source": [
    "https://codeforces.com/problemset/problem/1215/B B. The Number of Products"
   ]
  },
  {
   "cell_type": "markdown",
   "metadata": {},
   "source": [
    "1.26 1.40"
   ]
  },
  {
   "cell_type": "code",
   "execution_count": 126,
   "metadata": {},
   "outputs": [
    {
     "name": "stdout",
     "output_type": "stream",
     "text": [
      "5\n",
      "-1 -2 -3 -4 -5\n",
      "9 6\n"
     ]
    }
   ],
   "source": [
    "def get_sum(num):\n",
    "    return num * (num + 1) // 2\n",
    "\n",
    "n = int(input())\n",
    "li = list(map(int, input().split()))\n",
    "\n",
    "sli = [0] * (n + 1)\n",
    "cm = 0\n",
    "for i in range(n):\n",
    "    if li[i] < 0:\n",
    "        cm += 1\n",
    "    sli[i + 1] = cm\n",
    "    \n",
    "posi_c = 0\n",
    "ct_even = 0\n",
    "ct_odd = 0\n",
    "for i in range(n + 1):\n",
    "    if sli[i] % 2 == 0:\n",
    "        posi_c += ct_even\n",
    "        ct_even += 1\n",
    "    else:\n",
    "        posi_c += ct_odd\n",
    "        ct_odd += 1\n",
    "\n",
    "all_c = get_sum(n)\n",
    "nega_c = all_c - posi_c\n",
    "\n",
    "print(nega_c, posi_c)"
   ]
  },
  {
   "cell_type": "markdown",
   "metadata": {},
   "source": [
    "https://codeforces.com/problemset/problem/1214/A A. Optimal Currency Exchange"
   ]
  },
  {
   "cell_type": "markdown",
   "metadata": {},
   "source": [
    "1.45~1.50 1.56 2.19 반례"
   ]
  },
  {
   "cell_type": "code",
   "execution_count": null,
   "metadata": {},
   "outputs": [],
   "source": [
    "1달러 짜리 또는 5유로 짜리로 계속 바꾸면 됨"
   ]
  },
  {
   "cell_type": "code",
   "execution_count": null,
   "metadata": {},
   "outputs": [],
   "source": [
    "n = int(input())\n",
    "d = int(input())\n",
    "e = int(input())\n",
    "\n",
    "e *= 5\n",
    "\n",
    "max_d_use = n // d\n",
    "\n",
    "min_left = n\n",
    "for d_used in range(0, max_d_use + 1):\n",
    "    nn = n\n",
    "    nn -= d_used * d\n",
    "    left = nn % e\n",
    "    min_left = min(min_left, left)\n",
    "    \n",
    "print(min_left)"
   ]
  },
  {
   "cell_type": "markdown",
   "metadata": {},
   "source": [
    "https://codeforces.com/problemset/problem/1201/C C. Maximum Median"
   ]
  },
  {
   "cell_type": "markdown",
   "metadata": {},
   "source": [
    "2.22 2.32"
   ]
  },
  {
   "cell_type": "code",
   "execution_count": 160,
   "metadata": {},
   "outputs": [
    {
     "name": "stdout",
     "output_type": "stream",
     "text": [
      "7 7\n",
      "4 1 2 4 3 4 4\n",
      "5\n"
     ]
    }
   ],
   "source": [
    "n, k = map(int, input().split())\n",
    "li = sorted(map(int, input().split()), reverse=True)\n",
    "\n",
    "for _ in range(n // 2):\n",
    "    li.pop()\n",
    "    \n",
    "cur = li.pop()\n",
    "cur_c = 1\n",
    "if li:\n",
    "    nxt = li.pop()\n",
    "else:\n",
    "    nxt = -1\n",
    "    \n",
    "while True:\n",
    "    if nxt != -1:\n",
    "        diff = nxt - cur\n",
    "        \n",
    "        to_use = min(k, diff * cur_c)\n",
    "        cur += to_use // cur_c\n",
    "        k -= to_use\n",
    "        \n",
    "        if cur == nxt:\n",
    "            cur_c += 1\n",
    "            if li:\n",
    "                nxt = li.pop()\n",
    "            else:\n",
    "                nxt = -1\n",
    "        else:\n",
    "            break\n",
    "    else:\n",
    "        cur += k // cur_c\n",
    "        break\n",
    "        \n",
    "print(cur)"
   ]
  },
  {
   "cell_type": "markdown",
   "metadata": {},
   "source": [
    "https://codeforces.com/problemset/problem/1200/C C. Round Corridor"
   ]
  },
  {
   "cell_type": "markdown",
   "metadata": {},
   "source": [
    "1.32 1.54"
   ]
  },
  {
   "cell_type": "code",
   "execution_count": 24,
   "metadata": {},
   "outputs": [
    {
     "name": "stdout",
     "output_type": "stream",
     "text": [
      "4 6 3\n",
      "1 1 2 3\n",
      "YES\n",
      "2 6 1 2\n",
      "NO\n",
      "2 6 2 4\n",
      "YES\n"
     ]
    }
   ],
   "source": [
    "from math import gcd\n",
    "import sys\n",
    "input = lambda: sys.stdin.readline().rstrip()\n",
    "\n",
    "n, m, q = map(int, input().split())\n",
    "\n",
    "g = gcd(n, m)\n",
    "\n",
    "intv_n = n // g\n",
    "intv_m = m // g\n",
    "\n",
    "for _ in range(q):\n",
    "    sx, sy, ex, ey = map(int, input().split())\n",
    "    \n",
    "    if sx == ex:\n",
    "        if sx == 1:\n",
    "            if (sy - 1) // intv_n != (ey - 1) // intv_n:\n",
    "                print('NO')\n",
    "            else:\n",
    "                print('YES')\n",
    "        else:\n",
    "            if (sy - 1) // intv_m != (ey - 1) // intv_m:\n",
    "                print('NO')\n",
    "            else:\n",
    "                print('YES')            \n",
    "    else:\n",
    "        if sx == 2 and ex == 1:\n",
    "            sx, ex = ex, sx\n",
    "            sy, ey = ey, sy\n",
    "            \n",
    "        if (sy - 1) // intv_n != (ey - 1) // intv_m:\n",
    "            print('NO')\n",
    "        else:\n",
    "            print('YES')"
   ]
  },
  {
   "cell_type": "code",
   "execution_count": 19,
   "metadata": {},
   "outputs": [
    {
     "data": {
      "text/plain": [
       "(2, 3)"
      ]
     },
     "execution_count": 19,
     "metadata": {},
     "output_type": "execute_result"
    }
   ],
   "source": [
    "intv_n, intv_m"
   ]
  },
  {
   "cell_type": "code",
   "execution_count": 23,
   "metadata": {},
   "outputs": [
    {
     "name": "stdout",
     "output_type": "stream",
     "text": [
      "0\n",
      "0\n",
      "0\n",
      "1\n",
      "1\n",
      "1\n"
     ]
    }
   ],
   "source": [
    "for i in range(1, 7):\n",
    "    print((i - 1) // intv_m)"
   ]
  },
  {
   "cell_type": "code",
   "execution_count": 3,
   "metadata": {},
   "outputs": [],
   "source": [
    "intv_n = 4 // 2\n",
    "intv_m = 6 // 2"
   ]
  },
  {
   "cell_type": "code",
   "execution_count": 4,
   "metadata": {},
   "outputs": [
    {
     "data": {
      "text/plain": [
       "(2, 3)"
      ]
     },
     "execution_count": 4,
     "metadata": {},
     "output_type": "execute_result"
    }
   ],
   "source": [
    "intv_n, intv_m"
   ]
  },
  {
   "cell_type": "code",
   "execution_count": 14,
   "metadata": {},
   "outputs": [
    {
     "data": {
      "text/plain": [
       "1"
      ]
     },
     "execution_count": 14,
     "metadata": {},
     "output_type": "execute_result"
    }
   ],
   "source": [
    "(1 + 1) // intv_n"
   ]
  },
  {
   "cell_type": "code",
   "execution_count": 15,
   "metadata": {},
   "outputs": [
    {
     "data": {
      "text/plain": [
       "1"
      ]
     },
     "execution_count": 15,
     "metadata": {},
     "output_type": "execute_result"
    }
   ],
   "source": [
    "(2 + 1) // intv_n"
   ]
  },
  {
   "cell_type": "code",
   "execution_count": 16,
   "metadata": {},
   "outputs": [
    {
     "data": {
      "text/plain": [
       "2"
      ]
     },
     "execution_count": 16,
     "metadata": {},
     "output_type": "execute_result"
    }
   ],
   "source": [
    "(3 + 1) // intv_n"
   ]
  },
  {
   "cell_type": "markdown",
   "metadata": {},
   "source": [
    "https://codeforces.com/problemset/problem/1197/C C. Array Splitting"
   ]
  },
  {
   "cell_type": "markdown",
   "metadata": {},
   "source": [
    "2.03 2.09"
   ]
  },
  {
   "cell_type": "code",
   "execution_count": 29,
   "metadata": {},
   "outputs": [
    {
     "name": "stdout",
     "output_type": "stream",
     "text": [
      "8 1\n",
      "1 1 2 3 5 8 13 21\n",
      "20\n"
     ]
    }
   ],
   "source": [
    "n, k = map(int, input().split())\n",
    "li = list(map(int, input().split()))\n",
    "\n",
    "diffs = []\n",
    "for i in range(n - 1):\n",
    "    diffs.append(li[i + 1] - li[i])\n",
    "diffs.sort()\n",
    "\n",
    "can_remove = k - 1\n",
    "for _ in range(can_remove):\n",
    "    diffs.pop()\n",
    "    \n",
    "r = sum(diffs)\n",
    "\n",
    "print(r)"
   ]
  },
  {
   "cell_type": "markdown",
   "metadata": {},
   "source": [
    "https://codeforces.com/problemset/problem/1195/C C. Basketball Exercise"
   ]
  },
  {
   "cell_type": "markdown",
   "metadata": {},
   "source": [
    "2.11 2.22"
   ]
  },
  {
   "cell_type": "code",
   "execution_count": 39,
   "metadata": {},
   "outputs": [
    {
     "name": "stdout",
     "output_type": "stream",
     "text": [
      "1\n",
      "7\n",
      "4\n",
      "7\n"
     ]
    }
   ],
   "source": [
    "import sys\n",
    "input = lambda: sys.stdin.readline().rstrip()\n",
    "\n",
    "n = int(input())\n",
    "li = [list(map(int, input().split())) for _ in range(2)]\n",
    "\n",
    "dp = [[0] * n for _ in range(2)]\n",
    "dp[0][0] = li[0][0]\n",
    "dp[1][0] = li[1][0]\n",
    "\n",
    "if n >= 2:\n",
    "    dp[0][1] = dp[1][0] + li[0][1]\n",
    "    dp[1][1] = dp[0][0] + li[1][1]\n",
    "    \n",
    "for j in range(2, n):\n",
    "    dp[0][j] = max(dp[1][j - 2], dp[1][j - 1]) + li[0][j]\n",
    "    dp[1][j] = max(dp[0][j - 2], dp[0][j - 1]) + li[1][j]\n",
    "    \n",
    "r = 0\n",
    "for i in range(2):\n",
    "    r = max(r, max(dp[i]))\n",
    "\n",
    "print(r)"
   ]
  },
  {
   "cell_type": "markdown",
   "metadata": {},
   "source": [
    "https://codeforces.com/problemset/problem/1190/A A. Tokitsukaze and Discard Items"
   ]
  },
  {
   "cell_type": "markdown",
   "metadata": {},
   "source": [
    "3.36 3.48"
   ]
  },
  {
   "cell_type": "code",
   "execution_count": 47,
   "metadata": {},
   "outputs": [
    {
     "name": "stdout",
     "output_type": "stream",
     "text": [
      "13 4 5\n",
      "7 8 9 10\n",
      "1\n"
     ]
    }
   ],
   "source": [
    "get_value = lambda x: int(x) - 1\n",
    "\n",
    "n, m, k = map(int, input().split())\n",
    "li = list(map(get_value, input().split()))\n",
    "\n",
    "total = 0\n",
    "to_minus = 0\n",
    "cur_c = 0\n",
    "cur_group = -1\n",
    "for v in li:\n",
    "    v -= to_minus\n",
    "    if v // k == cur_group:\n",
    "        cur_c += 1\n",
    "    else:\n",
    "        total += 1\n",
    "        to_minus += cur_c        \n",
    "        v -= cur_c\n",
    "        \n",
    "        cur_group = v // k\n",
    "        cur_c = 1\n",
    "        \n",
    "print(total)"
   ]
  },
  {
   "cell_type": "markdown",
   "metadata": {},
   "source": [
    "https://codeforces.com/problemset/problem/1189/C C. Candies!"
   ]
  },
  {
   "cell_type": "markdown",
   "metadata": {},
   "source": [
    "7.47 7.54"
   ]
  },
  {
   "cell_type": "code",
   "execution_count": 50,
   "metadata": {},
   "outputs": [
    {
     "name": "stdout",
     "output_type": "stream",
     "text": [
      "6\n",
      "0 1 2 3 3 5\n",
      "3\n",
      "1 2\n",
      "0\n",
      "1 4\n",
      "0\n",
      "3 6\n",
      "1\n"
     ]
    }
   ],
   "source": [
    "import sys\n",
    "input = lambda: sys.stdin.readline().rstrip()\n",
    "\n",
    "n = int(input())\n",
    "li = list(map(int, input().split()))\n",
    "q = int(input())\n",
    "\n",
    "sli = [0] * (n + 1)\n",
    "cumul = 0\n",
    "for i in range(n):\n",
    "    cumul += li[i]\n",
    "    sli[i + 1] = cumul\n",
    "\n",
    "for _ in range(q):\n",
    "    l, r = map(int, input().split())\n",
    "    l -= 1\n",
    "    r -= 1\n",
    "    \n",
    "    result = sli[r + 1] - sli[l]\n",
    "    result //= 10\n",
    "    \n",
    "    print(result)"
   ]
  },
  {
   "cell_type": "markdown",
   "metadata": {},
   "source": [
    "https://codeforces.com/problemset/problem/1184/B1 B1. The Doctor Meets Vader (Easy)"
   ]
  },
  {
   "cell_type": "markdown",
   "metadata": {},
   "source": [
    "7.56 8.03"
   ]
  },
  {
   "cell_type": "code",
   "execution_count": 59,
   "metadata": {},
   "outputs": [
    {
     "name": "stdout",
     "output_type": "stream",
     "text": [
      "5 4\n",
      "1 3 5 2 4\n",
      "0 1\n",
      "4 2\n",
      "2 8\n",
      "9 4\n",
      "1 9 11 9 11\n"
     ]
    }
   ],
   "source": [
    "from bisect import bisect_right\n",
    "import sys\n",
    "input = lambda: sys.stdin.readline().rstrip()\n",
    "\n",
    "s, b = map(int, input().split())\n",
    "a = list(map(int, input().split()))\n",
    "base = [list(map(int, input().split())) for _ in range(b)]\n",
    "\n",
    "base.sort(key=lambda x: x[0])\n",
    "ds = []\n",
    "gs = []\n",
    "for d, g in base:\n",
    "    ds.append(d)\n",
    "    gs.append(g)\n",
    "    \n",
    "ngs = [0] * b\n",
    "cumul = 0\n",
    "for i in range(b):\n",
    "    cumul += gs[i]\n",
    "    ngs[i] = cumul\n",
    "    \n",
    "result = [0] * s\n",
    "for i in range(s):\n",
    "    index = bisect_right(ds, a[i]) - 1\n",
    "    \n",
    "    if index == -1:\n",
    "        result[i] = 0\n",
    "    else:\n",
    "        result[i] = ngs[index]\n",
    "\n",
    "print(*result)"
   ]
  },
  {
   "cell_type": "markdown",
   "metadata": {},
   "source": [
    "https://codeforces.com/problemset/problem/1183/D D. Candy Box (easy version)"
   ]
  },
  {
   "cell_type": "markdown",
   "metadata": {},
   "source": [
    "8.05 8.12"
   ]
  },
  {
   "cell_type": "code",
   "execution_count": 62,
   "metadata": {},
   "outputs": [
    {
     "name": "stdout",
     "output_type": "stream",
     "text": [
      "16\n",
      "2 1 3 3 4 3 4 4 1 3 2 2 2 4 1 1\n",
      "10\n"
     ]
    }
   ],
   "source": [
    "from collections import defaultdict as dd\n",
    "import sys\n",
    "input = lambda: sys.stdin.readline().rstrip()\n",
    "\n",
    "for _ in range(int(input())):\n",
    "    n = int(input())\n",
    "    li = list(map(int, input().split()))\n",
    "\n",
    "    d = dd(int)\n",
    "    for v in li:\n",
    "        d[str(v)] += 1\n",
    "\n",
    "    cts = sorted(d.values(), reverse=True)\n",
    "\n",
    "    total = 0\n",
    "    to_check = 300000\n",
    "    for v in cts:\n",
    "        po = min(to_check, v)\n",
    "        total += po\n",
    "\n",
    "        to_check = po - 1\n",
    "        if to_check == 0:\n",
    "            break\n",
    "\n",
    "    print(total)"
   ]
  },
  {
   "cell_type": "markdown",
   "metadata": {},
   "source": [
    "https://codeforces.com/problemset/problem/1183/C C. Computer Game"
   ]
  },
  {
   "cell_type": "markdown",
   "metadata": {},
   "source": [
    "8.13 8.24"
   ]
  },
  {
   "cell_type": "code",
   "execution_count": 68,
   "metadata": {},
   "outputs": [
    {
     "name": "stdout",
     "output_type": "stream",
     "text": [
      "15 5 3 2\n",
      "4\n"
     ]
    }
   ],
   "source": [
    "import sys\n",
    "input = lambda: sys.stdin.readline().rstrip()\n",
    "\n",
    "for _ in range(int(input())):\n",
    "    k, n, a, b = map(int, input().split())\n",
    "\n",
    "    can_use = k - 1\n",
    "    can_use -= b * n\n",
    "\n",
    "    if can_use < 0:\n",
    "        print(-1)\n",
    "    else:\n",
    "        diff = a - b\n",
    "\n",
    "        a_to_use = can_use // diff\n",
    "        a_to_use = min(n, a_to_use)\n",
    "\n",
    "        print(a_to_use)"
   ]
  },
  {
   "cell_type": "markdown",
   "metadata": {},
   "source": [
    "https://codeforces.com/problemset/problem/1167/C C. News Distribution"
   ]
  },
  {
   "cell_type": "markdown",
   "metadata": {},
   "source": [
    "8.24 8.51 풀이"
   ]
  },
  {
   "cell_type": "code",
   "execution_count": 69,
   "metadata": {},
   "outputs": [
    {
     "name": "stdout",
     "output_type": "stream",
     "text": [
      "7 5\n",
      "3 2 5 4\n",
      "0\n",
      "2 1 2\n",
      "1 1\n",
      "2 6 7\n",
      "4 4 1 4 4 2 2\n"
     ]
    }
   ],
   "source": [
    "import sys\n",
    "input = lambda: sys.stdin.readline().rstrip()\n",
    "\n",
    "def find(v):\n",
    "    while v != parent[v]:\n",
    "        parent[v] = parent[parent[v]]\n",
    "        v = parent[v]\n",
    "        \n",
    "    return v\n",
    "\n",
    "def union(a, b):\n",
    "    if a > b:\n",
    "        a, b = b, a\n",
    "    \n",
    "    parent[b] = a\n",
    "    cts[a] += cts[b]\n",
    "    \n",
    "n, m = map(int, input().split())\n",
    "\n",
    "parent = list(range(n + 1))\n",
    "cts = [1] * (n + 1)\n",
    "for _ in range(m):\n",
    "    li_len, *li = map(int, input().split())\n",
    "    \n",
    "    for i in range(li_len - 1):\n",
    "        a = li[i]\n",
    "        b = li[i + 1]\n",
    "        \n",
    "        ra = find(a)\n",
    "        rb = find(b)\n",
    "        \n",
    "        if ra != rb:\n",
    "            union(find(a), find(b))\n",
    "        \n",
    "result = [0] * (n + 1)\n",
    "for i in range(1, n + 1):\n",
    "    result[i] = cts[find(i)]\n",
    "    \n",
    "print(*result[1:])"
   ]
  },
  {
   "cell_type": "markdown",
   "metadata": {},
   "source": [
    "https://codeforces.com/problemset/problem/1167/B B. Lost Numbers"
   ]
  },
  {
   "cell_type": "code",
   "execution_count": null,
   "metadata": {},
   "outputs": [],
   "source": [
    "import sys\n",
    "\n",
    "li = [4, 8, 15, 16, 23, 42]\n",
    "\n",
    "d = dict()\n",
    "for i in range(6):\n",
    "    for j in range(i + 1, 6):\n",
    "        d[li[i] * li[j]] = {li[i], li[j]}\n",
    "\n",
    "print('?', 1, 2)\n",
    "sys.stdout.flush()\n",
    "a12 = int(input())\n",
    "print('?', 1, 3)\n",
    "sys.stdout.flush()\n",
    "a13 = int(input())\n",
    "\n",
    "a1 = (d[a12] & d[a13]).pop()\n",
    "\n",
    "d[a12].discard(a1)\n",
    "a2 = d[a12].pop()\n",
    "d[a13].discard(a1)\n",
    "a3 = d[a13].pop()\n",
    "\n",
    "print('?', 4, 5)\n",
    "sys.stdout.flush()\n",
    "a45 = int(input())\n",
    "print('?', 4, 6)\n",
    "sys.stdout.flush()\n",
    "a46 = int(input())\n",
    "\n",
    "a4 = (d[a45] & d[a46]).pop()\n",
    "\n",
    "d[a45].discard(a4)\n",
    "a5 = d[a45].pop()\n",
    "d[a46].discard(a4)\n",
    "a6 = d[a46].pop()\n",
    "\n",
    "print('!', a1, a2, a3, a4, a5, a6)\n",
    "sys.stdout.flush()"
   ]
  },
  {
   "cell_type": "markdown",
   "metadata": {},
   "source": [
    "https://codeforces.com/problemset/problem/1162/B B. Double Matrix"
   ]
  },
  {
   "cell_type": "markdown",
   "metadata": {},
   "source": [
    "5.55 6.02"
   ]
  },
  {
   "cell_type": "code",
   "execution_count": 14,
   "metadata": {},
   "outputs": [
    {
     "name": "stdout",
     "output_type": "stream",
     "text": [
      "2 2\n",
      "2 10\n",
      "11 5\n",
      "9 4\n",
      "3 12\n",
      "Possible\n"
     ]
    }
   ],
   "source": [
    "import sys\n",
    "input = lambda: sys.stdin.readline().rstrip()\n",
    "\n",
    "def check():\n",
    "    for i in range(n):\n",
    "        for j in range(m - 1):\n",
    "            if a[i][j] >= a[i][j + 1]:\n",
    "                return False\n",
    "            if b[i][j] >= b[i][j + 1]:\n",
    "                return False\n",
    "            \n",
    "    for j in range(m):\n",
    "        for i in range(n - 1):\n",
    "            if a[i][j] >= a[i + 1][j]:\n",
    "                return False\n",
    "            if b[i][j] >= b[i + 1][j]:\n",
    "                return False\n",
    "            \n",
    "    return True\n",
    "\n",
    "n, m = map(int, input().split())\n",
    "\n",
    "a = [list(map(int, input().split())) for _ in range(n)]\n",
    "b = [list(map(int, input().split())) for _ in range(n)]\n",
    "\n",
    "for i in range(n):\n",
    "    for j in range(m):\n",
    "        if a[i][j] > b[i][j]:\n",
    "            a[i][j], b[i][j] = b[i][j], a[i][j]\n",
    "            \n",
    "if check():\n",
    "    print('Possible')\n",
    "else:\n",
    "    print('Impossible')"
   ]
  },
  {
   "cell_type": "markdown",
   "metadata": {},
   "source": [
    "https://codeforces.com/problemset/problem/1154/C C. Gourmet Cat"
   ]
  },
  {
   "cell_type": "markdown",
   "metadata": {},
   "source": [
    "6.04 6.13"
   ]
  },
  {
   "cell_type": "code",
   "execution_count": null,
   "metadata": {},
   "outputs": [],
   "source": [
    "월 화 수 목 금 토 일\n",
    "1  2  3  1  3  2  1"
   ]
  },
  {
   "cell_type": "code",
   "execution_count": null,
   "metadata": {},
   "outputs": [],
   "source": [
    "1 3개\n",
    "2 2개\n",
    "3 2개"
   ]
  },
  {
   "cell_type": "code",
   "execution_count": 20,
   "metadata": {},
   "outputs": [
    {
     "name": "stdout",
     "output_type": "stream",
     "text": [
      "1 100 1\n",
      "3\n"
     ]
    }
   ],
   "source": [
    "from collections import deque\n",
    "\n",
    "a, b, c = map(int, input().split())\n",
    "\n",
    "init = min(a // 3, b // 2, c // 2)\n",
    "\n",
    "a -= 3 * init\n",
    "b -= 2 * init\n",
    "c -= 2 * init\n",
    "\n",
    "deq = deque([1, 2, 3, 1, 3, 2, 1])\n",
    "\n",
    "max_added = 0\n",
    "for _ in range(9):\n",
    "    na, nb, nc = a, b, c\n",
    "    added = 0\n",
    "    for i in range(7):\n",
    "        if deq[i] == 1:\n",
    "            na -= 1\n",
    "            if na < 0:\n",
    "                break\n",
    "            added += 1\n",
    "        elif deq[i] == 2:\n",
    "            nb -= 1\n",
    "            if nb < 0:\n",
    "                break\n",
    "            added += 1\n",
    "        elif deq[i] == 3:\n",
    "            nc -= 1\n",
    "            if nc < 0:\n",
    "                break\n",
    "            added += 1\n",
    "            \n",
    "    max_added = max(max_added, added)\n",
    "    deq.rotate()\n",
    "    \n",
    "r = init * 7 + max_added\n",
    "\n",
    "print(r)"
   ]
  },
  {
   "cell_type": "markdown",
   "metadata": {},
   "source": [
    "https://codeforces.com/problemset/problem/1144/D D. Equalize Them All"
   ]
  },
  {
   "cell_type": "code",
   "execution_count": 43,
   "metadata": {},
   "outputs": [
    {
     "name": "stdout",
     "output_type": "stream",
     "text": [
      "2\n",
      "9 1\n",
      "1\n",
      "2 1 2\n"
     ]
    }
   ],
   "source": [
    "from collections import deque\n",
    "import sys\n",
    "# input = lambda: sys.stdin.readline().rstrip()\n",
    "\n",
    "n = int(input())\n",
    "li = list(map(int, input().split()))\n",
    "\n",
    "cts = [0] * 200001\n",
    "for v in li:\n",
    "    cts[v] += 1\n",
    "    \n",
    "max_ct = -1\n",
    "max_ct_num = -1\n",
    "for num in range(200001):\n",
    "    if cts[num] > max_ct:\n",
    "        max_ct = cts[num]\n",
    "        max_ct_num = num\n",
    "\n",
    "vt = [False] * (n + 1)\n",
    "queue = deque()\n",
    "for i in range(n):\n",
    "    if li[i] == max_ct_num:\n",
    "        queue.append(i)\n",
    "        vt[i] = True\n",
    "    \n",
    "di = [-1, 1]\n",
    "result = []\n",
    "while queue:\n",
    "    i = queue.popleft()\n",
    "    \n",
    "    for d in range(2):\n",
    "        ni = i + di[d]\n",
    "        \n",
    "        if ni < 0 or ni >= n:\n",
    "            continue\n",
    "        if not vt[ni]:\n",
    "            vt[ni] = True\n",
    "            \n",
    "            if li[ni] > max_ct_num:\n",
    "                result.append((2, ni + 1, i + 1))\n",
    "            elif li[ni] < max_ct_num:\n",
    "                result.append((1, ni + 1, i + 1))\n",
    "\n",
    "            queue.append(ni)\n",
    "\n",
    "print(len(result))\n",
    "for v in result:\n",
    "    print(*v)"
   ]
  },
  {
   "cell_type": "code",
   "execution_count": 50,
   "metadata": {},
   "outputs": [
    {
     "name": "stdout",
     "output_type": "stream",
     "text": [
      "3\n",
      "1 2 3\n",
      "2\n",
      "2 2 1\n",
      "2 3 2\n"
     ]
    }
   ],
   "source": [
    "import sys\n",
    "# input = lambda: sys.stdin.readline().rstrip()\n",
    "\n",
    "n = int(input())\n",
    "li = list(map(int, input().split()))\n",
    "\n",
    "cts = [0] * 200001\n",
    "for v in li:\n",
    "    cts[v] += 1\n",
    "    \n",
    "max_ct = -1\n",
    "max_ct_num = -1\n",
    "for num in range(200001):\n",
    "    if cts[num] > max_ct:\n",
    "        max_ct = cts[num]\n",
    "        max_ct_num = num\n",
    "\n",
    "\n",
    "max_ct_num_i = -1\n",
    "for i in range(n):\n",
    "    if li[i] == max_ct_num:\n",
    "        max_ct_num_i = i\n",
    "        break\n",
    "        \n",
    "result = []\n",
    "for i in range(max_ct_num_i - 1, -1, -1):\n",
    "    if li[i] != max_ct_num:\n",
    "        if li[i] < max_ct_num:\n",
    "            result.append((1, i + 1, i + 2))\n",
    "        elif li[i] > max_ct_num:\n",
    "            result.append((2, i + 1, i + 2))\n",
    "            \n",
    "for i in range(max_ct_num_i + 1, n):\n",
    "    if li[i] != max_ct_num:\n",
    "        if li[i] < max_ct_num:\n",
    "            result.append((1, i + 1, i))\n",
    "        elif li[i] > max_ct_num:\n",
    "            result.append((2, i + 1, i))\n",
    "\n",
    "print(len(result))\n",
    "for v in result:\n",
    "    print(*v)"
   ]
  },
  {
   "cell_type": "markdown",
   "metadata": {},
   "source": [
    "https://codeforces.com/problemset/problem/1143/C C. Queen "
   ]
  },
  {
   "cell_type": "markdown",
   "metadata": {},
   "source": [
    "6.43 7.03"
   ]
  },
  {
   "cell_type": "code",
   "execution_count": 61,
   "metadata": {},
   "outputs": [
    {
     "name": "stdout",
     "output_type": "stream",
     "text": [
      "1 2 4\n"
     ]
    }
   ],
   "source": [
    "import sys\n",
    "input = lambda: sys.stdin.readline().rstrip()\n",
    "\n",
    "## PYRIVAL BOOTSTRAP\n",
    "# https://github.com/cheran-senthil/PyRival/blob/master/pyrival/misc/bootstrap.py\n",
    "# This decorator allows for recursion without actually doing recursion\n",
    "## @bootstrap, yield when getting and returning value in recursive functions, end of functions\n",
    "from types import GeneratorType\n",
    "\n",
    "def bootstrap(f, stack=[]):\n",
    "    def wrappedfunc(*args, **kwargs):\n",
    "        if stack:\n",
    "            return f(*args, **kwargs)\n",
    "        else:\n",
    "            to = f(*args, **kwargs)\n",
    "            while True:\n",
    "                if type(to) is GeneratorType:\n",
    "                    stack.append(to)\n",
    "                    to = next(to)\n",
    "                else:\n",
    "                    stack.pop()\n",
    "                    if not stack:\n",
    "                        break\n",
    "                    to = stack[-1].send(to)\n",
    "            return to\n",
    "    return wrappedfunc\n",
    "\n",
    "@bootstrap\n",
    "def dfs(value):\n",
    "    global to_dels\n",
    "    \n",
    "    is_all_c_1 = True\n",
    "    for v in li[value]:\n",
    "        if (yield dfs(v)) == 0:\n",
    "            is_all_c_1 = False\n",
    "    \n",
    "    if is_all_c_1 and cs[value] == 1:\n",
    "        to_dels.append(value)\n",
    "        \n",
    "    if cs[value] == 1:\n",
    "        yield 1\n",
    "    else:\n",
    "        yield 0\n",
    "\n",
    "n = int(input())\n",
    "\n",
    "li = [[] for _ in range(n + 1)]\n",
    "cs = [0] * (n + 1)\n",
    "root = -1\n",
    "for i in range(n):\n",
    "    p, c = map(int, input().split())\n",
    "    \n",
    "    cs[i + 1] = c\n",
    "    if p == -1:\n",
    "        root = i + 1\n",
    "    else:\n",
    "        li[p].append((i + 1))\n",
    "        \n",
    "to_dels = []\n",
    "dfs(root)\n",
    "\n",
    "to_dels.sort()\n",
    "\n",
    "if not to_dels:\n",
    "    print(-1)\n",
    "else:\n",
    "    print(*to_dels)"
   ]
  },
  {
   "cell_type": "markdown",
   "metadata": {},
   "source": [
    "https://codeforces.com/problemset/problem/1131/B B. Draw!"
   ]
  },
  {
   "cell_type": "markdown",
   "metadata": {},
   "source": [
    "7.20 7.53 -2"
   ]
  },
  {
   "cell_type": "code",
   "execution_count": null,
   "metadata": {},
   "outputs": [],
   "source": [
    "0 0\n",
    "\n",
    "1 10\n",
    "100 100"
   ]
  },
  {
   "cell_type": "code",
   "execution_count": null,
   "metadata": {},
   "outputs": [],
   "source": [
    "2 0  0  2\n",
    "3 1  1  3\n",
    "3 4  3  4"
   ]
  },
  {
   "cell_type": "code",
   "execution_count": 105,
   "metadata": {},
   "outputs": [
    {
     "name": "stdout",
     "output_type": "stream",
     "text": [
      "3\n",
      "1 1\n",
      "1 9\n",
      "1 15\n",
      "2\n"
     ]
    }
   ],
   "source": [
    "import sys\n",
    "# input = lambda: sys.stdin.readline().rstrip()\n",
    "\n",
    "n = int(input())\n",
    "li = [list(map(int, input().split())) for _ in range(n)]\n",
    "\n",
    "min_can = 0\n",
    "total = 0\n",
    "for x, y in li:\n",
    "    min_v = min(x, y)\n",
    "    if min_can <= min_v:\n",
    "        total += min_v - min_can + 1\n",
    "    \n",
    "    if x != y:\n",
    "        min_can = max(x, y)\n",
    "    else:\n",
    "        min_can = x + 1\n",
    "    \n",
    "print(total)"
   ]
  },
  {
   "cell_type": "markdown",
   "metadata": {},
   "source": [
    "https://codeforces.com/problemset/problem/1130/C C. Connect"
   ]
  },
  {
   "cell_type": "code",
   "execution_count": 109,
   "metadata": {},
   "outputs": [
    {
     "name": "stdout",
     "output_type": "stream",
     "text": [
      "5\n",
      "1 1\n",
      "5 5\n",
      "00001\n",
      "11111\n",
      "00111\n",
      "00110\n",
      "00110\n",
      "10\n"
     ]
    }
   ],
   "source": [
    "from collections import deque\n",
    "import sys\n",
    "input = lambda: sys.stdin.readline().rstrip()\n",
    "\n",
    "inf = float('inf')\n",
    "get_dist = lambda x1, y1, x2, y2: (x1 - x2) ** 2 + (y1 - y2) ** 2\n",
    "\n",
    "dx = [-1, 1, 0, 0]\n",
    "dy = [0, 0, -1, 1]\n",
    "\n",
    "n = int(input())\n",
    "\n",
    "get_value = lambda x: int(x) - 1\n",
    "sx, sy = map(get_value, input().split())\n",
    "ex, ey = map(get_value, input().split())\n",
    "li = [list(map(int, input())) for _ in range(n)]\n",
    "\n",
    "ss = {(sx, sy)}\n",
    "queue = deque()\n",
    "queue.append((sx, sy))\n",
    "while queue:\n",
    "    x, y = queue.popleft()\n",
    "    \n",
    "    for d in range(4):\n",
    "        nx = x + dx[d]\n",
    "        ny = y + dy[d]\n",
    "        \n",
    "        if nx < 0 or nx >= n or ny < 0 or ny >= n:\n",
    "            continue\n",
    "        if li[nx][ny] == 1:\n",
    "            continue\n",
    "        if (nx, ny) in ss:\n",
    "            continue\n",
    "        ss.add((nx, ny))\n",
    "        queue.append((nx, ny))\n",
    "        \n",
    "if (ex, ey) in ss:\n",
    "    print(0)\n",
    "else:\n",
    "    es = {(ex, ey)}\n",
    "    queue = deque()\n",
    "    queue.append((ex, ey))\n",
    "    while queue:\n",
    "        x, y = queue.popleft()\n",
    "\n",
    "        for d in range(4):\n",
    "            nx = x + dx[d]\n",
    "            ny = y + dy[d]\n",
    "\n",
    "            if nx < 0 or nx >= n or ny < 0 or ny >= n:\n",
    "                continue\n",
    "            if li[nx][ny] == 1:\n",
    "                continue\n",
    "            if (nx, ny) in es:\n",
    "                continue\n",
    "            es.add((nx, ny))\n",
    "            queue.append((nx, ny))\n",
    "\n",
    "    min_r = inf\n",
    "    for nsx, nsy in ss:\n",
    "        for nex, ney in es:\n",
    "            cost = get_dist(nsx, nsy, nex, ney)\n",
    "            min_r = min(min_r, cost)\n",
    "\n",
    "    print(min_r)"
   ]
  },
  {
   "cell_type": "markdown",
   "metadata": {},
   "source": [
    "https://codeforces.com/problemset/problem/1110/B B. Tape"
   ]
  },
  {
   "cell_type": "markdown",
   "metadata": {},
   "source": [
    "9.30 9.38"
   ]
  },
  {
   "cell_type": "code",
   "execution_count": 112,
   "metadata": {},
   "outputs": [
    {
     "name": "stdout",
     "output_type": "stream",
     "text": [
      "1 100 1\n",
      "3\n",
      "1\n"
     ]
    }
   ],
   "source": [
    "n, m, k = map(int, input().split())\n",
    "b = list(map(int, input().split()))\n",
    "\n",
    "diffs = []\n",
    "for i in range(n - 1):\n",
    "    diffs.append(b[i + 1] - b[i])\n",
    "    \n",
    "diffs.sort()\n",
    "for _ in range(k - 1):\n",
    "    diffs.pop()\n",
    "    \n",
    "total = k + sum(diffs)\n",
    "\n",
    "print(total)"
   ]
  },
  {
   "cell_type": "markdown",
   "metadata": {},
   "source": [
    "https://codeforces.com/problemset/problem/1108/D D. Diverse Garland"
   ]
  },
  {
   "cell_type": "markdown",
   "metadata": {},
   "source": [
    "9.52 9.59"
   ]
  },
  {
   "cell_type": "code",
   "execution_count": 118,
   "metadata": {},
   "outputs": [
    {
     "name": "stdout",
     "output_type": "stream",
     "text": [
      "13\n",
      "BBRRRRGGGGGRR\n",
      "6\n",
      "BGRGRBGRGRGRG\n"
     ]
    }
   ],
   "source": [
    "n = int(input())\n",
    "li = list(input())\n",
    "\n",
    "rgb = {'R', 'G', 'B'}\n",
    "total = 0\n",
    "for i in range(1, n):\n",
    "    if li[i] == li[i - 1]:\n",
    "        n_rgb = rgb.copy()\n",
    "        \n",
    "        n_rgb.discard(li[i - 1])\n",
    "        if i + 1 < n:\n",
    "            n_rgb.discard(li[i + 1])\n",
    "        \n",
    "        total += 1\n",
    "        li[i] = n_rgb.pop()\n",
    "        \n",
    "print(total)\n",
    "print(''.join(li))"
   ]
  },
  {
   "cell_type": "markdown",
   "metadata": {},
   "source": [
    "https://codeforces.com/problemset/problem/1103/A A. Grid game"
   ]
  },
  {
   "cell_type": "markdown",
   "metadata": {},
   "source": [
    "10.00 10.09"
   ]
  },
  {
   "cell_type": "code",
   "execution_count": null,
   "metadata": {},
   "outputs": [],
   "source": [
    "0 case 1, 1     3, 1\n",
    "1 case 4, 3     4, 1"
   ]
  },
  {
   "cell_type": "code",
   "execution_count": 119,
   "metadata": {},
   "outputs": [
    {
     "name": "stdout",
     "output_type": "stream",
     "text": [
      "010\n",
      "1 1\n",
      "4 3\n",
      "3 1\n"
     ]
    }
   ],
   "source": [
    "import sys\n",
    "input = lambda: sys.stdin.readline().rstrip()\n",
    "\n",
    "s = input()\n",
    "\n",
    "is_0 = False\n",
    "is_1 = False\n",
    "for v in s:\n",
    "    if v == '0':\n",
    "        if is_0:\n",
    "            print(3, 1)\n",
    "            is_0 = False\n",
    "        else:\n",
    "            print(1, 1)\n",
    "            is_0 = True\n",
    "    else:\n",
    "        if is_1:\n",
    "            print(4, 1)\n",
    "            is_1 = False\n",
    "        else:\n",
    "            print(4, 3)\n",
    "            is_1 = True"
   ]
  }
 ],
 "metadata": {
  "kernelspec": {
   "display_name": "Python 3",
   "language": "python",
   "name": "python3"
  },
  "language_info": {
   "codemirror_mode": {
    "name": "ipython",
    "version": 3
   },
   "file_extension": ".py",
   "mimetype": "text/x-python",
   "name": "python",
   "nbconvert_exporter": "python",
   "pygments_lexer": "ipython3",
   "version": "3.7.4"
  }
 },
 "nbformat": 4,
 "nbformat_minor": 2
}
