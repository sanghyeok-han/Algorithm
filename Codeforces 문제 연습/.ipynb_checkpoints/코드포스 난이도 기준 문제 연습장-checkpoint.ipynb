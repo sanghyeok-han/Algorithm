{
 "cells": [
  {
   "cell_type": "markdown",
   "metadata": {},
   "source": [
    "https://codeforces.com/problemset?tags=1500-1700"
   ]
  },
  {
   "cell_type": "code",
   "execution_count": 17,
   "metadata": {},
   "outputs": [
    {
     "name": "stdout",
     "output_type": "stream",
     "text": [
      "3 1000\n",
      "-100000 -100000 -100000\n"
     ]
    }
   ],
   "source": [
    "n, s = map(int, input().split())\n",
    "li = list(map(int, input().split()))"
   ]
  },
  {
   "cell_type": "code",
   "execution_count": 18,
   "metadata": {},
   "outputs": [
    {
     "name": "stdout",
     "output_type": "stream",
     "text": [
      "-1\n"
     ]
    }
   ],
   "source": [
    "max_count = 0\n",
    "mci = [-1, -1] # max count interval\n",
    "start = 0\n",
    "end = 0\n",
    "cur_sum = s + li[0]\n",
    "while start <= end < n:\n",
    "    if cur_sum < 0:\n",
    "        cur_sum -= li[start]\n",
    "        start += 1\n",
    "        if start == n:\n",
    "            break\n",
    "        if start > end:\n",
    "            end = start\n",
    "            cur_sum += li[end]\n",
    "    else:\n",
    "        if end - start + 1 > max_count:\n",
    "            max_count = end - start + 1\n",
    "            mci = [start + 1, end + 1]\n",
    "            \n",
    "        end += 1\n",
    "        if end == n:\n",
    "            break\n",
    "        cur_sum += li[end]\n",
    "            \n",
    "if mci[0] == -1:\n",
    "    print(-1)\n",
    "else:\n",
    "    print(*mci)"
   ]
  },
  {
   "cell_type": "code",
   "execution_count": 19,
   "metadata": {},
   "outputs": [
    {
     "name": "stdout",
     "output_type": "stream",
     "text": [
      "1\n",
      "3 1000\n",
      "-1 -1 -1\n",
      "1 3\n"
     ]
    }
   ],
   "source": [
    "for _ in range(int(input())):\n",
    "    n, s = map(int, input().split())\n",
    "    li = list(map(int, input().split()))   \n",
    "    \n",
    "    max_count = 0\n",
    "    mci = [-1, -1] # max count interval\n",
    "    start = 0\n",
    "    end = 0\n",
    "    cur_sum = s + li[0]\n",
    "    while start <= end < n:\n",
    "        if cur_sum < 0:\n",
    "            cur_sum -= li[start]\n",
    "            start += 1\n",
    "            if start == n:\n",
    "                break\n",
    "            if start > end:\n",
    "                end = start\n",
    "                cur_sum += li[end]\n",
    "        else:\n",
    "            if end - start + 1 > max_count:\n",
    "                max_count = end - start + 1\n",
    "                mci = [start + 1, end + 1]\n",
    "\n",
    "            end += 1\n",
    "            if end == n:\n",
    "                break\n",
    "            cur_sum += li[end]\n",
    "\n",
    "    if mci[0] == -1:\n",
    "        print(-1)\n",
    "    else:\n",
    "        print(*mci)    "
   ]
  },
  {
   "cell_type": "markdown",
   "metadata": {},
   "source": [
    "https://codeforces.com/problemset/problem/1611/E1"
   ]
  },
  {
   "cell_type": "code",
   "execution_count": 32,
   "metadata": {},
   "outputs": [
    {
     "name": "stdout",
     "output_type": "stream",
     "text": [
      "8 2\n",
      "5 3\n",
      "4 7\n",
      "2 5\n",
      "1 6\n",
      "3 6\n",
      "7 2\n",
      "1 7\n",
      "6 8\n"
     ]
    }
   ],
   "source": [
    "n, k = map(int, input().split())\n",
    "fs = set(map(int, input().split()))\n",
    "\n",
    "li = [[] for _ in range(n + 1)]\n",
    "for _ in range(n - 1):\n",
    "    a, b = map(int, input().split())\n",
    "    li[a].append(b)\n",
    "    li[b].append(a)"
   ]
  },
  {
   "cell_type": "code",
   "execution_count": 29,
   "metadata": {},
   "outputs": [
    {
     "name": "stdout",
     "output_type": "stream",
     "text": [
      "NO\n"
     ]
    }
   ],
   "source": [
    "# 문제 이해를 잘못했음\n",
    "from collections import deque\n",
    "\n",
    "r = False\n",
    "vt = [False] * (n + 1)\n",
    "is_possible = [True] * (n + 1)\n",
    "for node in li[1]:\n",
    "    vt[node] = True\n",
    "    if node in fs:\n",
    "        continue\n",
    "    \n",
    "    queue = deque()\n",
    "    queue.append((node, 0))\n",
    "    check = True\n",
    "    while queue:\n",
    "        value, dist = queue.popleft()\n",
    "        for v in li[value]:\n",
    "            if vt[v]:\n",
    "                continue\n",
    "            vt[v] = True\n",
    "            \n",
    "            if v in fs:\n",
    "                if dist == 1:\n",
    "                    check = False\n",
    "                    break\n",
    "                else:\n",
    "                    is_possible[value] = False\n",
    "                    is_possible[v] = False\n",
    "                    continue\n",
    "                    \n",
    "            if dist + 1 == 3:\n",
    "                if is_possible[value] and is_possible[v]:\n",
    "                    r = True\n",
    "                    break\n",
    "            else:\n",
    "                queue.append((v, dist + 1))\n",
    "        if not check:\n",
    "            break\n",
    "            \n",
    "if r:\n",
    "    print('YES')\n",
    "else:\n",
    "    print('NO')"
   ]
  },
  {
   "cell_type": "code",
   "execution_count": 6,
   "metadata": {},
   "outputs": [
    {
     "name": "stdout",
     "output_type": "stream",
     "text": [
      "NO\n"
     ]
    }
   ],
   "source": [
    "# 디버깅용\n",
    "\n",
    "import sys\n",
    "# input = lambda: sys.stdin.readline().rstrip()\n",
    "\n",
    "def dfs(value, dist):\n",
    "    med = float('inf') # min encounted dist\n",
    "    for v in li[value]:\n",
    "        if vt[v]:\n",
    "            continue\n",
    "        vt[v] = True\n",
    "\n",
    "        if v in fs:\n",
    "            ips[v] = False\n",
    "            med = dist + 1\n",
    "        else:\n",
    "            ed = dfs(v, dist + 1)\n",
    "            med = min(med, ed)\n",
    "\n",
    "    if med <= dist * 2:\n",
    "        ips[value] = False\n",
    "    return med\n",
    "\n",
    "def dfs_to_exit(value):\n",
    "    global result\n",
    "\n",
    "    c = 0\n",
    "    for v in li[value]:\n",
    "        if vt[v]:\n",
    "            continue\n",
    "        vt[v] = True\n",
    "        c += 1\n",
    "        if not ips[v]:\n",
    "            continue\n",
    "        dfs_to_exit(v)\n",
    "\n",
    "    if c == 0:\n",
    "        result = True\n",
    "\n",
    "n, k = 3, 2\n",
    "s = '2 3'\n",
    "fs = set(map(int, s.split()))\n",
    "s = '''3 1\n",
    "1 2'''\n",
    "s = s.split('\\n')\n",
    "\n",
    "li = [[] for _ in range(n + 1)]\n",
    "for i in range(n - 1):\n",
    "    a, b = map(int, s[i].split())\n",
    "    li[a].append(b)\n",
    "    li[b].append(a)\n",
    "\n",
    "ips = [True] * (n + 1) # is possibles\n",
    "root = 1\n",
    "\n",
    "vt = [False] * (n + 1)\n",
    "vt[1] = True\n",
    "dfs(root, 0)\n",
    "\n",
    "vt = [False] * (n + 1)\n",
    "vt[1] = True\n",
    "result = False\n",
    "dfs_to_exit(root)\n",
    "\n",
    "if result:\n",
    "    print('YES')\n",
    "else:\n",
    "    print('NO')"
   ]
  },
  {
   "cell_type": "code",
   "execution_count": 5,
   "metadata": {},
   "outputs": [
    {
     "data": {
      "text/plain": [
       "[True, True, True, False]"
      ]
     },
     "execution_count": 5,
     "metadata": {},
     "output_type": "execute_result"
    }
   ],
   "source": [
    "ips"
   ]
  },
  {
   "cell_type": "code",
   "execution_count": 7,
   "metadata": {},
   "outputs": [
    {
     "name": "stdout",
     "output_type": "stream",
     "text": [
      "1\n",
      "\n",
      "3 2\n",
      "2 3\n",
      "3 1\n",
      "1 2\n",
      "NO\n"
     ]
    }
   ],
   "source": [
    "import sys\n",
    "input = lambda: sys.stdin.readline().rstrip()\n",
    "\n",
    "def dfs(value, dist):\n",
    "    med = float('inf') # min encounted dist\n",
    "    for v in li[value]:\n",
    "        if vt[v]:\n",
    "            continue\n",
    "        vt[v] = True\n",
    "\n",
    "        if v in fs:\n",
    "            ips[v] = False\n",
    "            med = dist + 1\n",
    "        else:\n",
    "            ed = dfs(v, dist + 1)\n",
    "            med = min(med, ed)\n",
    "\n",
    "    if med <= dist * 2:\n",
    "        ips[value] = False\n",
    "    return med\n",
    "\n",
    "def dfs_to_exit(value):\n",
    "    global result\n",
    "\n",
    "    c = 0\n",
    "    for v in li[value]:\n",
    "        if vt[v]:\n",
    "            continue\n",
    "        vt[v] = True\n",
    "        c += 1\n",
    "        if not ips[v]:\n",
    "            continue\n",
    "        dfs_to_exit(v)\n",
    "\n",
    "    if c == 0:\n",
    "        result = True\n",
    "\n",
    "for _ in range(int(input())):\n",
    "    input()\n",
    "    n, k = map(int, input().split())\n",
    "    fs = set(map(int, input().split()))\n",
    "\n",
    "    li = [[] for _ in range(n + 1)]\n",
    "    for _ in range(n - 1):\n",
    "        a, b = map(int, input().split())\n",
    "        li[a].append(b)\n",
    "        li[b].append(a)\n",
    "\n",
    "    ips = [True] * (n + 1) # is possibles\n",
    "    root = 1\n",
    "\n",
    "    vt = [False] * (n + 1)\n",
    "    vt[1] = True\n",
    "    dfs(root, 0)\n",
    "\n",
    "    vt = [False] * (n + 1)\n",
    "    vt[1] = True\n",
    "    result = False\n",
    "    dfs_to_exit(root)\n",
    "\n",
    "    if result:\n",
    "        print('YES')\n",
    "    else:\n",
    "        print('NO')"
   ]
  },
  {
   "cell_type": "markdown",
   "metadata": {},
   "source": [
    "https://codeforces.com/problemset/problem/1611/D"
   ]
  },
  {
   "cell_type": "code",
   "execution_count": null,
   "metadata": {},
   "outputs": [],
   "source": [
    "from collections import deque\n",
    "import sys\n",
    "input = lambda: sys.stdin.readline().rstrip()\n",
    "\n",
    "get_value = lambda x: int(x) - 1\n",
    "\n",
    "for _ in range(int(input())):\n",
    "    n = int(input())\n",
    "    b = list(map(get_value, input().split()))\n",
    "    p = deque(map(get_value, input().split()))\n",
    "\n",
    "    if n == 1:\n",
    "        print(0)\n",
    "    else:\n",
    "        li = [set() for _ in range(n)]\n",
    "        root = -1\n",
    "        for child_node in range(n):\n",
    "            if b[child_node] == child_node:\n",
    "                root = child_node\n",
    "            else:\n",
    "                li[b[child_node]].add(child_node)\n",
    "\n",
    "        if root != p[0]:\n",
    "            print(-1)\n",
    "        else:\n",
    "            p.popleft()\n",
    "\n",
    "            ws = [0] * n\n",
    "            dists = [0] * n\n",
    "            dist_to_make = 1\n",
    "            available = set()\n",
    "\n",
    "            queue = deque()\n",
    "            queue.append(root)\n",
    "            while queue:\n",
    "                value = queue.popleft()\n",
    "\n",
    "                for v in li[value]:\n",
    "                    available.add(v)\n",
    "\n",
    "                while p:\n",
    "                    if p[0] in available:\n",
    "                        target = p.popleft()\n",
    "                        available.discard(target)\n",
    "                        queue.append(target)\n",
    "\n",
    "                        dist = max(dists[b[target]] + 1, dist_to_make)\n",
    "                        dists[target] = dist\n",
    "                        ws[target] = dist - dists[b[target]]\n",
    "                        dist_to_make = dist + 1\n",
    "                    else:\n",
    "                        break\n",
    "            if p:\n",
    "                print(-1)\n",
    "            else:\n",
    "                print(*ws)    "
   ]
  },
  {
   "cell_type": "markdown",
   "metadata": {},
   "source": [
    "https://codeforces.com/problemset/problem/1598/D\n",
    "\n",
    "https://codeforces.com/blog/entry/95890"
   ]
  },
  {
   "cell_type": "code",
   "execution_count": 4,
   "metadata": {},
   "outputs": [
    {
     "name": "stdout",
     "output_type": "stream",
     "text": [
      "5\n",
      "1 5\n",
      "2 4\n",
      "3 3\n",
      "4 2\n",
      "5 1\n"
     ]
    }
   ],
   "source": [
    "n = int(input())\n",
    "\n",
    "ca = dict()\n",
    "cb = dict()\n",
    "li = []\n",
    "for _ in range(n):\n",
    "    a, b = map(int, input().split())\n",
    "    li.append((a, b))\n",
    "    \n",
    "    if a in ca:\n",
    "        ca[a] += 1\n",
    "    else:\n",
    "        ca[a] = 1\n",
    "        \n",
    "    if b in cb:\n",
    "        cb[b] += 1\n",
    "    else:\n",
    "        cb[b] = 1\n",
    "        \n",
    "total = n * (n - 1) * (n - 2) // 6\n",
    "\n",
    "to_subtract = 0\n",
    "for a, b in li:\n",
    "    to_subtract += (ca[a] - 1) * (cb[b] - 1)\n",
    "    \n",
    "print(total - to_subtract)"
   ]
  },
  {
   "cell_type": "code",
   "execution_count": null,
   "metadata": {},
   "outputs": [],
   "source": [
    "for _ in range(int(input())):\n",
    "    n = int(input())\n",
    "\n",
    "    ca = dict()\n",
    "    cb = dict()\n",
    "    li = []\n",
    "    for _ in range(n):\n",
    "        a, b = map(int, input().split())\n",
    "        li.append((a, b))\n",
    "\n",
    "        if a in ca:\n",
    "            ca[a] += 1\n",
    "        else:\n",
    "            ca[a] = 1\n",
    "\n",
    "        if b in cb:\n",
    "            cb[b] += 1\n",
    "        else:\n",
    "            cb[b] = 1\n",
    "\n",
    "    total = n * (n - 1) * (n - 2) // 6\n",
    "\n",
    "    to_subtract = 0\n",
    "    for a, b in li:\n",
    "        to_subtract += (ca[a] - 1) * (cb[b] - 1)\n",
    "\n",
    "    print(total - to_subtract)"
   ]
  },
  {
   "cell_type": "markdown",
   "metadata": {},
   "source": [
    "https://codeforces.com/problemset/problem/1594/D\n",
    "\n",
    "https://codeforces.com/blog/entry/95525"
   ]
  },
  {
   "cell_type": "code",
   "execution_count": 8,
   "metadata": {},
   "outputs": [
    {
     "name": "stdout",
     "output_type": "stream",
     "text": [
      "5 0\n",
      "5\n"
     ]
    }
   ],
   "source": [
    "from collections import deque\n",
    "\n",
    "n, m = map(int, input().split())\n",
    "\n",
    "status = [-1] * n\n",
    "li = [[] for _ in range(n)]\n",
    "for _ in range(m):\n",
    "    i, j, c = input().split()\n",
    "    i = int(i) - 1\n",
    "    j = int(j) - 1\n",
    "    \n",
    "    if c[0] == 'c':\n",
    "        li[i].append((j, 0))\n",
    "        li[j].append((i, 0))\n",
    "    else:\n",
    "        li[i].append((j, 1))\n",
    "        li[j].append((i, 1))\n",
    "        \n",
    "def bfs():\n",
    "    total = [0, 0] # [total impo, total crew]\n",
    "    \n",
    "    for num in range(n):\n",
    "        if status[num] != -1:\n",
    "            continue\n",
    "        status[num] = 1\n",
    "        \n",
    "        counts = [0, 1]\n",
    "        \n",
    "        queue = deque()\n",
    "        queue.append(num)\n",
    "        while queue:\n",
    "            value = queue.popleft()\n",
    "            \n",
    "            for v, rela in li[value]:\n",
    "                nstat = status[value] ^ rela                 \n",
    "                if status[v] == -1:\n",
    "                    counts[nstat] += 1\n",
    "                    status[v] = nstat\n",
    "                    queue.append(v)\n",
    "                else:\n",
    "                    if status[v] != nstat:\n",
    "                        return [-1, -1]\n",
    "                    \n",
    "        if counts[0] > counts[1]:\n",
    "            counts[1], counts[0] = counts[0], counts[1]\n",
    "            \n",
    "        total[0] += counts[0]\n",
    "        total[1] += counts[1]\n",
    "        \n",
    "    return total\n",
    "\n",
    "result = bfs()\n",
    "\n",
    "print(result[1])"
   ]
  },
  {
   "cell_type": "code",
   "execution_count": 10,
   "metadata": {},
   "outputs": [
    {
     "name": "stdout",
     "output_type": "stream",
     "text": [
      "1\n",
      "3 2\n",
      "1 2 i\n",
      "2 3 c\n",
      "2\n"
     ]
    }
   ],
   "source": [
    "from collections import deque\n",
    "\n",
    "def bfs():\n",
    "    total = [0, 0] # [total impo, total crew]\n",
    "    \n",
    "    for num in range(n):\n",
    "        if status[num] != -1:\n",
    "            continue\n",
    "        status[num] = 1\n",
    "        \n",
    "        counts = [0, 1]\n",
    "        \n",
    "        queue = deque()\n",
    "        queue.append(num)\n",
    "        while queue:\n",
    "            value = queue.popleft()\n",
    "            \n",
    "            for v, rela in li[value]:\n",
    "                nstat = status[value] ^ rela                 \n",
    "                if status[v] == -1:\n",
    "                    counts[nstat] += 1\n",
    "                    status[v] = nstat\n",
    "                    queue.append(v)\n",
    "                else:\n",
    "                    if status[v] != nstat:\n",
    "                        return [-1, -1]\n",
    "                    \n",
    "        if counts[0] > counts[1]:\n",
    "            counts[1], counts[0] = counts[0], counts[1]\n",
    "            \n",
    "        total[0] += counts[0]\n",
    "        total[1] += counts[1]\n",
    "        \n",
    "    return total\n",
    "\n",
    "for _ in range(int(input())):\n",
    "    n, m = map(int, input().split())\n",
    "\n",
    "    status = [-1] * n\n",
    "    li = [[] for _ in range(n)]\n",
    "    for _ in range(m):\n",
    "        i, j, c = input().split()\n",
    "        i = int(i) - 1\n",
    "        j = int(j) - 1\n",
    "\n",
    "        if c[0] == 'c':\n",
    "            li[i].append((j, 0))\n",
    "            li[j].append((i, 0))\n",
    "        else:\n",
    "            li[i].append((j, 1))\n",
    "            li[j].append((i, 1))\n",
    "            \n",
    "    result = bfs()\n",
    "\n",
    "    print(result[1])"
   ]
  },
  {
   "cell_type": "markdown",
   "metadata": {},
   "source": [
    "https://codeforces.com/problemset/problem/1592/C\n",
    "    \n",
    "https://codeforces.com/blog/entry/95583"
   ]
  },
  {
   "cell_type": "code",
   "execution_count": 63,
   "metadata": {},
   "outputs": [
    {
     "name": "stdout",
     "output_type": "stream",
     "text": [
      "2 3\n",
      "1 3\n",
      "1 2\n",
      "NO\n"
     ]
    }
   ],
   "source": [
    "n, k = map(int, input().split())\n",
    "k -= 1\n",
    "\n",
    "a = list(map(int, input().split()))\n",
    "\n",
    "li = [[] for _ in range(n)]\n",
    "get_value = lambda x: int(x) - 1\n",
    "for _ in range(n - 1):\n",
    "    u, v = map(get_value, input().split())\n",
    "    li[u].append(v)\n",
    "    li[v].append(u)\n",
    "    \n",
    "cur = a[0]\n",
    "for i in range(1, n):\n",
    "    cur ^= a[i]\n",
    "    \n",
    "if cur == 0:\n",
    "    print('YES')\n",
    "else:\n",
    "    if k <= 1:\n",
    "        print('NO')\n",
    "    else:\n",
    "        def dfs(value):\n",
    "            check_count = 0\n",
    "            \n",
    "            cur = 0\n",
    "            for v in li[value]:\n",
    "                if vt[v]:\n",
    "                    continue\n",
    "                vt[v] = True\n",
    "                \n",
    "                temp, temp_check_count = dfs(v)\n",
    "                check_count += temp_check_count\n",
    "                if not is_met_target[v]:\n",
    "                    cur ^= temp\n",
    "\n",
    "            cur ^= a[value]\n",
    "            if cur == 0 or cur == target:\n",
    "                is_met_target[value] = True\n",
    "                if cur == target:\n",
    "                    check_count += 1\n",
    "                    \n",
    "            return cur, check_count\n",
    "\n",
    "        target = cur\n",
    "        is_met_target = [False] * n\n",
    "\n",
    "        vt = [False] * n\n",
    "        vt[0] = True\n",
    "\n",
    "        _, check_count = dfs(0)\n",
    "        if is_met_target[0] and check_count >= 3:\n",
    "            print('YES')\n",
    "        else:\n",
    "            print('NO')"
   ]
  },
  {
   "cell_type": "code",
   "execution_count": null,
   "metadata": {},
   "outputs": [],
   "source": [
    "2 3\n",
    "1 3\n",
    "1 2\n",
    "NO"
   ]
  },
  {
   "cell_type": "code",
   "execution_count": null,
   "metadata": {},
   "outputs": [],
   "source": [
    "for _ in range(int(input())):\n",
    "    n, k = map(int, input().split())\n",
    "    k -= 1\n",
    "\n",
    "    a = list(map(int, input().split()))\n",
    "\n",
    "    li = [[] for _ in range(n)]\n",
    "    get_value = lambda x: int(x) - 1\n",
    "    for _ in range(n - 1):\n",
    "        u, v = map(get_value, input().split())\n",
    "        li[u].append(v)\n",
    "        li[v].append(u)\n",
    "\n",
    "    cur = a[0]\n",
    "    for i in range(1, n):\n",
    "        cur ^= a[i]\n",
    "\n",
    "    if cur == 0:\n",
    "        print('YES')\n",
    "    else:\n",
    "        if k <= 1:\n",
    "            print('NO')\n",
    "        else:\n",
    "            def dfs(value):\n",
    "                check_count = 0\n",
    "\n",
    "                cur = 0\n",
    "                for v in li[value]:\n",
    "                    if vt[v]:\n",
    "                        continue\n",
    "                    vt[v] = True\n",
    "\n",
    "                    temp, temp_check_count = dfs(v)\n",
    "                    check_count += temp_check_count\n",
    "                    if not is_met_target[v]:\n",
    "                        cur ^= temp\n",
    "\n",
    "                cur ^= a[value]\n",
    "                if cur == 0 or cur == target:\n",
    "                    is_met_target[value] = True\n",
    "                    if cur == target:\n",
    "                        check_count += 1\n",
    "\n",
    "                return cur, check_count\n",
    "\n",
    "            target = cur\n",
    "            is_met_target = [False] * n\n",
    "\n",
    "            vt = [False] * n\n",
    "            vt[0] = True\n",
    "\n",
    "            _, check_count = dfs(0)\n",
    "            if is_met_target[0] and check_count >= 3:\n",
    "                print('YES')\n",
    "            else:\n",
    "                print('NO')"
   ]
  },
  {
   "cell_type": "code",
   "execution_count": 58,
   "metadata": {},
   "outputs": [
    {
     "data": {
      "text/plain": [
       "0"
      ]
     },
     "execution_count": 58,
     "metadata": {},
     "output_type": "execute_result"
    }
   ],
   "source": [
    "1^6^4^1^2"
   ]
  },
  {
   "cell_type": "code",
   "execution_count": 60,
   "metadata": {},
   "outputs": [
    {
     "data": {
      "text/plain": [
       "[True, True, True, True, True]"
      ]
     },
     "execution_count": 60,
     "metadata": {},
     "output_type": "execute_result"
    }
   ],
   "source": [
    "is_met_target"
   ]
  },
  {
   "cell_type": "code",
   "execution_count": 38,
   "metadata": {},
   "outputs": [
    {
     "data": {
      "text/plain": [
       "0"
      ]
     },
     "execution_count": 38,
     "metadata": {},
     "output_type": "execute_result"
    }
   ],
   "source": [
    "2^7^2^7^2^2"
   ]
  },
  {
   "cell_type": "code",
   "execution_count": 39,
   "metadata": {},
   "outputs": [
    {
     "data": {
      "text/plain": [
       "4"
      ]
     },
     "execution_count": 39,
     "metadata": {},
     "output_type": "execute_result"
    }
   ],
   "source": [
    "3^4^3"
   ]
  },
  {
   "cell_type": "code",
   "execution_count": 34,
   "metadata": {},
   "outputs": [
    {
     "data": {
      "text/plain": [
       "0"
      ]
     },
     "execution_count": 34,
     "metadata": {},
     "output_type": "execute_result"
    }
   ],
   "source": [
    "2^2"
   ]
  },
  {
   "cell_type": "markdown",
   "metadata": {},
   "source": [
    "### 제출본"
   ]
  },
  {
   "cell_type": "code",
   "execution_count": null,
   "metadata": {},
   "outputs": [],
   "source": [
    "import os\n",
    "import sys\n",
    "from io import BytesIO, IOBase\n",
    "import threading\n",
    "threading.stack_size(2**26)\n",
    " \n",
    "\n",
    "def main():\n",
    "    for _ in range(int(input())):\n",
    "        n, k = map(int, input().split())\n",
    "        k -= 1\n",
    "\n",
    "        a = list(map(int, input().split()))\n",
    "\n",
    "        li = [[] for _ in range(n)]\n",
    "        get_value = lambda x: int(x) - 1\n",
    "        for _ in range(n - 1):\n",
    "            u, v = map(get_value, input().split())\n",
    "            li[u].append(v)\n",
    "            li[v].append(u)\n",
    "\n",
    "        cur = a[0]\n",
    "        for i in range(1, n):\n",
    "            cur ^= a[i]\n",
    "\n",
    "        if cur == 0:\n",
    "            print('YES')\n",
    "        else:\n",
    "            if k <= 1:\n",
    "                print('NO')\n",
    "            else:\n",
    "                def dfs(value):\n",
    "                    check_count = 0\n",
    "\n",
    "                    cur = 0\n",
    "                    for v in li[value]:\n",
    "                        if vt[v]:\n",
    "                            continue\n",
    "                        vt[v] = True\n",
    "\n",
    "                        temp, temp_check_count = dfs(v)\n",
    "                        check_count += temp_check_count\n",
    "                        if not is_met_target[v]:\n",
    "                            cur ^= temp\n",
    "\n",
    "                    cur ^= a[value]\n",
    "                    if cur == 0 or cur == target:\n",
    "                        is_met_target[value] = True\n",
    "                        if cur == target:\n",
    "                            check_count += 1\n",
    "\n",
    "                    return cur, check_count\n",
    "\n",
    "                target = cur\n",
    "                is_met_target = [False] * n\n",
    "\n",
    "                vt = [False] * n\n",
    "                vt[0] = True\n",
    "\n",
    "                _, check_count = dfs(0)\n",
    "                if is_met_target[0] and check_count >= 3:\n",
    "                    print('YES')\n",
    "                else:\n",
    "                    print('NO')\n",
    "\n",
    "    \n",
    "    \n",
    "\n",
    "# region fastio\n",
    " \n",
    "BUFSIZE = 8192\n",
    " \n",
    "\n",
    "class FastIO(IOBase):\n",
    "    newlines = 0\n",
    " \n",
    "    def __init__(self, file):\n",
    "        self._fd = file.fileno()\n",
    "        self.buffer = BytesIO()\n",
    "        self.writable = \"x\" in file.mode or \"r\" not in file.mode\n",
    "        self.write = self.buffer.write if self.writable else None\n",
    " \n",
    "    def read(self):\n",
    "        while True:\n",
    "            b = os.read(self._fd, max(os.fstat(self._fd).st_size, BUFSIZE))\n",
    "            if not b:\n",
    "                break\n",
    "            ptr = self.buffer.tell()\n",
    "            self.buffer.seek(0, 2), self.buffer.write(b), self.buffer.seek(ptr)\n",
    "        self.newlines = 0\n",
    "        return self.buffer.read()\n",
    " \n",
    "    def readline(self):\n",
    "        while self.newlines == 0:\n",
    "            b = os.read(self._fd, max(os.fstat(self._fd).st_size, BUFSIZE))\n",
    "            self.newlines = b.count(b\"\\n\") + (not b)\n",
    "            ptr = self.buffer.tell()\n",
    "            self.buffer.seek(0, 2), self.buffer.write(b), self.buffer.seek(ptr)\n",
    "        self.newlines -= 1\n",
    "        return self.buffer.readline()\n",
    " \n",
    "    def flush(self):\n",
    "        if self.writable:\n",
    "            os.write(self._fd, self.buffer.getvalue())\n",
    "            self.buffer.truncate(0), self.buffer.seek(0)\n",
    " \n",
    " \n",
    "class IOWrapper(IOBase):\n",
    "    def __init__(self, file):\n",
    "        self.buffer = FastIO(file)\n",
    "        self.flush = self.buffer.flush\n",
    "        self.writable = self.buffer.writable\n",
    "        self.write = lambda s: self.buffer.write(s.encode(\"ascii\"))\n",
    "        self.read = lambda: self.buffer.read().decode(\"ascii\")\n",
    "        self.readline = lambda: self.buffer.readline().decode(\"ascii\")\n",
    " \n",
    " \n",
    "sys.stdin, sys.stdout = IOWrapper(sys.stdin), IOWrapper(sys.stdout)\n",
    "input = lambda: sys.stdin.readline().rstrip(\"\\r\\n\")\n",
    " \n",
    "# endregion\n",
    " \n",
    "if __name__ == \"__main__\":\n",
    "    threading.Thread(target=main).start()"
   ]
  }
 ],
 "metadata": {
  "kernelspec": {
   "display_name": "Python 3",
   "language": "python",
   "name": "python3"
  },
  "language_info": {
   "codemirror_mode": {
    "name": "ipython",
    "version": 3
   },
   "file_extension": ".py",
   "mimetype": "text/x-python",
   "name": "python",
   "nbconvert_exporter": "python",
   "pygments_lexer": "ipython3",
   "version": "3.7.3"
  }
 },
 "nbformat": 4,
 "nbformat_minor": 4
}
