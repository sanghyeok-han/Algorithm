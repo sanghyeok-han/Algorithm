{
 "cells": [
  {
   "cell_type": "markdown",
   "metadata": {},
   "source": [
    "https://codeforces.com/gym/383472/problem/A"
   ]
  },
  {
   "cell_type": "code",
   "execution_count": 13,
   "metadata": {},
   "outputs": [
    {
     "name": "stdout",
     "output_type": "stream",
     "text": [
      "1\n",
      "3 2\n",
      "cba\n",
      "aaa\n"
     ]
    }
   ],
   "source": [
    "import sys\n",
    "input = lambda: sys.stdin.readline().rstrip()\n",
    "\n",
    "def find(v):\n",
    "    if v == parent[v]:\n",
    "        return v\n",
    "    parent[v] = find(parent[v])\n",
    "    return parent[v]\n",
    "\n",
    "def union(a, b):\n",
    "    if a > b:\n",
    "        a, b = b, a\n",
    "    parent[b] = a\n",
    "\n",
    "for _ in range(int(input())):\n",
    "    n, k = map(int, input().split())\n",
    "    s = input()\n",
    "\n",
    "    parent = list(range(26))\n",
    "    for v in s:\n",
    "        ord_v = ord(v) - 97\n",
    "        while k and ord_v > 0:\n",
    "            ord_v = find(ord_v)\n",
    "            if ord_v == 0:\n",
    "                break\n",
    "\n",
    "            k -= 1\n",
    "            ra = ord_v\n",
    "            rb = find(ord_v - 1)\n",
    "            union(ra, rb)\n",
    "\n",
    "            ord_v = find(rb)\n",
    "\n",
    "    r = []\n",
    "    for v in s:\n",
    "        ord_v = ord(v) - 97\n",
    "        ord_v = find(ord_v)\n",
    "        rv = chr(ord_v + 97)\n",
    "\n",
    "        r.append(rv)\n",
    "\n",
    "    print(''.join(r))"
   ]
  },
  {
   "cell_type": "markdown",
   "metadata": {},
   "source": [
    "https://codeforces.com/gym/383472/problem/B"
   ]
  },
  {
   "cell_type": "code",
   "execution_count": 18,
   "metadata": {},
   "outputs": [
    {
     "name": "stdout",
     "output_type": "stream",
     "text": [
      "5 1 0\n",
      "2 1 1\n",
      "6 0 1\n",
      "7 1 0\n",
      "3 1 2\n",
      "4 1 0\n",
      "1 4 3\n",
      "1\n"
     ]
    }
   ],
   "source": [
    "import sys\n",
    "input = lambda: sys.stdin.readline().rstrip()\n",
    "\n",
    "## PYRIVAL BOOTSTRAP\n",
    "# https://github.com/cheran-senthil/PyRival/blob/master/pyrival/misc/bootstrap.py\n",
    "# This decorator allows for recursion without actually doing recursion\n",
    "## @bootstrap, yield when getting and returning value in recursive functions, end of functions\n",
    "from types import GeneratorType\n",
    "\n",
    "def bootstrap(f, stack=[]):\n",
    "    def wrappedfunc(*args, **kwargs):\n",
    "        if stack:\n",
    "            return f(*args, **kwargs)\n",
    "        else:\n",
    "            to = f(*args, **kwargs)\n",
    "            while True:\n",
    "                if type(to) is GeneratorType:\n",
    "                    stack.append(to)\n",
    "                    to = next(to)\n",
    "                else:\n",
    "                    stack.pop()\n",
    "                    if not stack:\n",
    "                        break\n",
    "                    to = stack[-1].send(to)\n",
    "            return to\n",
    "    return wrappedfunc\n",
    "\n",
    "@bootstrap\n",
    "def dfs(value):\n",
    "    global count\n",
    "    \n",
    "    cw = 0\n",
    "    cb = 0\n",
    "    if colors[value - 1] == 'W':\n",
    "        cw += 1\n",
    "    else:\n",
    "        cb += 1\n",
    "        \n",
    "    for v in li[value]:\n",
    "        tcw, tcb = yield dfs(v)\n",
    "        \n",
    "        cw += tcw\n",
    "        cb += tcb\n",
    "        \n",
    "    if cw == cb:\n",
    "        count += 1\n",
    "        \n",
    "    yield cw, cb\n",
    "    \n",
    "for _ in range(int(input())):\n",
    "    n = int(input())\n",
    "    a = list(map(int, input().split()))\n",
    "    colors = input()\n",
    "\n",
    "    li = [[] for _ in range(n + 1)]\n",
    "    for i in range(n - 1):\n",
    "        node_num = i + 2\n",
    "\n",
    "        li[a[i]].append(node_num)\n",
    "\n",
    "    count = 0\n",
    "    dfs(1)\n",
    "\n",
    "    print(count)"
   ]
  },
  {
   "cell_type": "markdown",
   "metadata": {},
   "source": [
    "C"
   ]
  },
  {
   "cell_type": "code",
   "execution_count": null,
   "metadata": {},
   "outputs": [],
   "source": [
    "0의 인덱스들을 기준으로 구간 시작과 끝을 구분해줌\n",
    "그 후 구간별 가능한 최댓값을 구해야함\n",
    "\n",
    "구간 전체가 양수면 그냥 출력함\n",
    "구간 전체가 음수면 왼쪽에서부터 가장 빠른 음수를 제거하거나 오른쪽에서부터 가장 빠른 음수를 제거해야함\n",
    "\n",
    "과정에서는 수가 2의 제곱수로 늘어나서 매우 커질 수 있으므로 직접 곱하는 대신 2의 개수만 세면 됨\n",
    "\n",
    "위의 결과가 1보다 작으면 전부 지우는게 답이 됨"
   ]
  },
  {
   "cell_type": "code",
   "execution_count": 66,
   "metadata": {},
   "outputs": [
    {
     "name": "stdout",
     "output_type": "stream",
     "text": [
      "1\n",
      "4\n",
      "-2 -2 0 2\n",
      "0 2\n"
     ]
    }
   ],
   "source": [
    "import sys\n",
    "# input = lambda: sys.stdin.readline().rstrip()\n",
    "\n",
    "for _ in range(int(input())):\n",
    "    n = int(input())\n",
    "    li = list(map(int, input().split()))\n",
    "\n",
    "    zero_indexes = []\n",
    "    for i in range(n):\n",
    "        if li[i] == 0:\n",
    "            zero_indexes.append(i)\n",
    "\n",
    "    intervals = []\n",
    "    for i in range(len(zero_indexes) - 1):\n",
    "        s = zero_indexes[i] + 1\n",
    "        e = zero_indexes[i + 1] - 1\n",
    "\n",
    "        if e - s < 0:\n",
    "            continue\n",
    "        intervals.append((s, e))\n",
    "\n",
    "    if zero_indexes:\n",
    "        s = 0\n",
    "        e = zero_indexes[0] - 1\n",
    "        if e - s >= 0:\n",
    "            intervals.append((s, e))\n",
    "\n",
    "        s = zero_indexes[-1] + 1\n",
    "        e = n - 1  \n",
    "        if e - s >= 0:\n",
    "            intervals.append((s, e))\n",
    "    else:\n",
    "        intervals.append((0, n - 1))\n",
    "\n",
    "    max_c2 = 0\n",
    "    max_c2_interval = [-1, -1]\n",
    "    for s, e in intervals:\n",
    "        minus_c = 0\n",
    "        c2 = 0\n",
    "        for i in range(s, e + 1):\n",
    "            v = li[i]\n",
    "\n",
    "            if v < 0:\n",
    "                minus_c += 1\n",
    "\n",
    "            if v == 2 or v == -2:\n",
    "                c2 += 1\n",
    "        \n",
    "        if minus_c % 2 == 0:\n",
    "            if c2 > max_c2:\n",
    "                max_c2 = c2\n",
    "                max_c2_interval = [s, e]\n",
    "            continue\n",
    "\n",
    "        tc2_1 = c2\n",
    "        ts1 = s\n",
    "        te1 = e\n",
    "        while ts1 <= te1:\n",
    "            ts1 += 1\n",
    "\n",
    "            if li[ts1 - 1] == 2 or li[ts1 - 1] == -2:\n",
    "                tc2_1 -= 1\n",
    "            if li[ts1 - 1] < 0:\n",
    "                break\n",
    "\n",
    "        tc2_2 = c2\n",
    "        ts2 = s\n",
    "        te2 = e\n",
    "        while ts2 <= te2:\n",
    "            te2 -= 1\n",
    "\n",
    "            if li[te2 + 1] == 2 or li[te2 + 1] == -2:\n",
    "                tc2_2 -= 1\n",
    "            if li[te2 + 1] < 0:\n",
    "                break\n",
    "\n",
    "        if tc2_1 >= tc2_2:\n",
    "            c2 = tc2_1\n",
    "            s = ts1\n",
    "            e = te1\n",
    "        else:\n",
    "            c2 = tc2_2\n",
    "            s = ts2\n",
    "            e = te2\n",
    "\n",
    "        if c2 > max_c2:\n",
    "            max_c2 = c2\n",
    "            max_c2_interval = [s, e]\n",
    "\n",
    "    s, e = max_c2_interval\n",
    "    if max_c2 >= 1:\n",
    "        print(s, n - 1 - e)\n",
    "    else:\n",
    "        print(0, n)"
   ]
  },
  {
   "cell_type": "markdown",
   "metadata": {},
   "source": [
    "D"
   ]
  },
  {
   "cell_type": "markdown",
   "metadata": {},
   "source": [
    "https://codeforces.com/gym/383472/problem/D"
   ]
  },
  {
   "cell_type": "code",
   "execution_count": 67,
   "metadata": {},
   "outputs": [
    {
     "name": "stdout",
     "output_type": "stream",
     "text": [
      "6\n",
      "1 1 1 1 1 1\n",
      "NO\n"
     ]
    }
   ],
   "source": [
    "# 잘못되었음\n",
    "from heapq import heapify, heappush, heappop\n",
    "import sys\n",
    "# input = lambda: sys.stdin.readline().rstrip()\n",
    "\n",
    "for _ in range(int(input())):\n",
    "    n = int(input())\n",
    "    heap = list(map(int, input().split()))\n",
    "\n",
    "    heapify(heap)\n",
    "\n",
    "    ip = True\n",
    "    for _ in range(n - 1):\n",
    "        a = heappop(heap)\n",
    "        b = heappop(heap)\n",
    "\n",
    "        if b - a >= 2:\n",
    "            ip = False\n",
    "            break\n",
    "\n",
    "        heappush(heap, a + b)\n",
    "\n",
    "    if ip:\n",
    "        print('YES')\n",
    "    else:\n",
    "        print('NO')"
   ]
  },
  {
   "cell_type": "code",
   "execution_count": 77,
   "metadata": {},
   "outputs": [
    {
     "name": "stdout",
     "output_type": "stream",
     "text": [
      "6\n",
      "1 1 1 1 1 1\n",
      "YES\n"
     ]
    }
   ],
   "source": [
    "from collections import Counter\n",
    "import sys\n",
    "input = lambda: sys.stdin.readline().rstrip()\n",
    "\n",
    "## PYRIVAL BOOTSTRAP\n",
    "# https://github.com/cheran-senthil/PyRival/blob/master/pyrival/misc/bootstrap.py\n",
    "# This decorator allows for recursion without actually doing recursion\n",
    "## @bootstrap, yield when getting and returning value in recursive functions, end of functions\n",
    "from types import GeneratorType\n",
    "\n",
    "def bootstrap(f, stack=[]):\n",
    "    def wrappedfunc(*args, **kwargs):\n",
    "        if stack:\n",
    "            return f(*args, **kwargs)\n",
    "        else:\n",
    "            to = f(*args, **kwargs)\n",
    "            while True:\n",
    "                if type(to) is GeneratorType:\n",
    "                    stack.append(to)\n",
    "                    to = next(to)\n",
    "                else:\n",
    "                    stack.pop()\n",
    "                    if not stack:\n",
    "                        break\n",
    "                    to = stack[-1].send(to)\n",
    "            return to\n",
    "    return wrappedfunc\n",
    "\n",
    "@bootstrap\n",
    "def dfs(value):\n",
    "    global c\n",
    "    \n",
    "    c += 1\n",
    "    if c >= n:\n",
    "        yield\n",
    "\n",
    "    if value % 2 == 0:\n",
    "        up = down = value // 2\n",
    "    else:\n",
    "        up = value // 2 + 1\n",
    "        down = value // 2\n",
    "        \n",
    "    if up in ct and ct[up] >= 1:\n",
    "        ct[up] -= 1  \n",
    "    else:\n",
    "        yield dfs(up)\n",
    "\n",
    "    if down in ct and ct[down] >= 1:\n",
    "        ct[down] -= 1\n",
    "    else:\n",
    "        yield dfs(down)\n",
    "        \n",
    "    yield\n",
    "\n",
    "for _ in range(int(input())):\n",
    "    n = int(input())\n",
    "    li = sorted(map(int, input().split()))\n",
    "\n",
    "    if n == 1:\n",
    "        print('YES')\n",
    "    else:\n",
    "\n",
    "        ct = Counter(li)\n",
    "        sv = sum(li)\n",
    "        c = 0\n",
    "        dfs(sv)\n",
    "\n",
    "        if sum(ct.values()) == 0:\n",
    "            print('YES')\n",
    "        else:\n",
    "            print('NO')"
   ]
  },
  {
   "cell_type": "code",
   "execution_count": 78,
   "metadata": {},
   "outputs": [
    {
     "data": {
      "text/plain": [
       "True"
      ]
     },
     "execution_count": 78,
     "metadata": {},
     "output_type": "execute_result"
    }
   ],
   "source": [
    "s1 = '''YES\n",
    "NO\n",
    "YES\n",
    "YES\n",
    "NO\n",
    "YES\n",
    "NO\n",
    "YES\n",
    "YES\n",
    "YES\n",
    "YES\n",
    "NO\n",
    "NO\n",
    "YES'''\n",
    "\n",
    "s2 = '''YES\n",
    "NO\n",
    "YES\n",
    "YES\n",
    "NO\n",
    "YES\n",
    "NO\n",
    "YES\n",
    "YES\n",
    "YES\n",
    "YES\n",
    "NO\n",
    "NO\n",
    "YES'''\n",
    "\n",
    "s1 == s2"
   ]
  },
  {
   "cell_type": "code",
   "execution_count": 8,
   "metadata": {},
   "outputs": [
    {
     "name": "stdout",
     "output_type": "stream",
     "text": [
      "6\n",
      "1 1 1 1 1 1\n",
      "YES\n"
     ]
    }
   ],
   "source": [
    "from heapq import heappush, heappop, heapify\n",
    "import sys\n",
    "input = lambda: sys.stdin.readline().rstrip()\n",
    "\n",
    "get_value = lambda x: -int(x)\n",
    "for _ in range(int(input())):\n",
    "    n = int(input())\n",
    "    heap = list(map(get_value, input().split()))\n",
    "\n",
    "    heapify(heap)\n",
    "    heap2 = [sum(heap)]\n",
    "\n",
    "    ip = True\n",
    "    while heap2:\n",
    "        value = -heappop(heap2)\n",
    "\n",
    "        if value == -heap[0]:\n",
    "            heappop(heap)\n",
    "            continue\n",
    "        elif value < -heap[0]:\n",
    "            ip = False\n",
    "            break\n",
    "        else:\n",
    "            v1 = v2 = value // 2\n",
    "\n",
    "            if value % 2 != 0:\n",
    "                v2 += 1\n",
    "\n",
    "            heappush(heap2, -v1)\n",
    "            heappush(heap2, -v2)\n",
    "\n",
    "    if ip:\n",
    "        print('YES')\n",
    "    else:\n",
    "        print('NO')"
   ]
  },
  {
   "cell_type": "markdown",
   "metadata": {},
   "source": [
    "https://codeforces.com/gym/383472/problem/E"
   ]
  },
  {
   "cell_type": "code",
   "execution_count": 91,
   "metadata": {},
   "outputs": [
    {
     "name": "stdout",
     "output_type": "stream",
     "text": [
      "4\n",
      "0 0 1 0\n",
      "1 2\n",
      "1 3\n",
      "1 4\n",
      "0 -1 1 -1\n"
     ]
    }
   ],
   "source": [
    "import sys\n",
    "input = lambda: sys.stdin.readline().rstrip()\n",
    "\n",
    "## PYRIVAL BOOTSTRAP\n",
    "# https://github.com/cheran-senthil/PyRival/blob/master/pyrival/misc/bootstrap.py\n",
    "# This decorator allows for recursion without actually doing recursion\n",
    "## @bootstrap, yield when getting and returning value in recursive functions, end of functions\n",
    "from types import GeneratorType\n",
    "\n",
    "def bootstrap(f, stack=[]):\n",
    "    def wrappedfunc(*args, **kwargs):\n",
    "        if stack:\n",
    "            return f(*args, **kwargs)\n",
    "        else:\n",
    "            to = f(*args, **kwargs)\n",
    "            while True:\n",
    "                if type(to) is GeneratorType:\n",
    "                    stack.append(to)\n",
    "                    to = next(to)\n",
    "                else:\n",
    "                    stack.pop()\n",
    "                    if not stack:\n",
    "                        break\n",
    "                    to = stack[-1].send(to)\n",
    "            return to\n",
    "    return wrappedfunc\n",
    "\n",
    "@bootstrap\n",
    "def dfs_from_b(value):\n",
    "    vt[value] = True\n",
    "    \n",
    "    c = 0\n",
    "    for v in li[value]:\n",
    "        if vt[v]:\n",
    "            continue\n",
    "        vt[v] = True\n",
    "        \n",
    "        tc = yield dfs_from_b(v)\n",
    "        if tc >= 1:\n",
    "            c += tc\n",
    "    \n",
    "    c += colors[value]\n",
    "    fbc[value] = c\n",
    "    yield c\n",
    "\n",
    "@bootstrap\n",
    "def dfs_from_top(value, granted):\n",
    "    vt[value] = True\n",
    "    \n",
    "    maxes[value] = granted + fbc[value]\n",
    "    \n",
    "    for v in li[value]:\n",
    "        if vt[v]:\n",
    "            continue\n",
    "        vt[v] = True\n",
    "        \n",
    "        to_grant = max(0, granted + fbc[value] - max(0, fbc[v]))\n",
    "        \n",
    "        yield dfs_from_top(v, to_grant)\n",
    "        \n",
    "    yield\n",
    "\n",
    "n = int(input())\n",
    "colors = list(map(int, input().split()))\n",
    "for i in range(n):\n",
    "    if colors[i] == 0:\n",
    "        colors[i] = -1\n",
    "    \n",
    "li = [[] for _ in range(n)]\n",
    "get_value = lambda x: int(x) - 1\n",
    "for _ in range(n - 1):\n",
    "    a, b = map(get_value, input().split())\n",
    "    li[a].append(b)\n",
    "    li[b].append(a)\n",
    "        \n",
    "fbc = [0] * n # from bottom and cur\n",
    "vt = [False] * n\n",
    "dfs_from_b(0)\n",
    "\n",
    "maxes = [0] * n\n",
    "vt = [False] * n\n",
    "dfs_from_top(0, 0)\n",
    "\n",
    "print(*maxes)"
   ]
  },
  {
   "cell_type": "markdown",
   "metadata": {},
   "source": [
    "리루팅 방식으로 풀어봄"
   ]
  },
  {
   "cell_type": "code",
   "execution_count": 12,
   "metadata": {},
   "outputs": [
    {
     "name": "stdout",
     "output_type": "stream",
     "text": [
      "0 -1 1 -1\n"
     ]
    }
   ],
   "source": [
    "import sys\n",
    "# input = lambda: sys.stdin.readline().rstrip()\n",
    "\n",
    "## PYRIVAL BOOTSTRAP\n",
    "# https://github.com/cheran-senthil/PyRival/blob/master/pyrival/misc/bootstrap.py\n",
    "# This decorator allows for recursion without actually doing recursion\n",
    "## @bootstrap, yield when getting and returning value in recursive functions, end of functions\n",
    "from types import GeneratorType\n",
    "\n",
    "def bootstrap(f, stack=[]):\n",
    "    def wrappedfunc(*args, **kwargs):\n",
    "        if stack:\n",
    "            return f(*args, **kwargs)\n",
    "        else:\n",
    "            to = f(*args, **kwargs)\n",
    "            while True:\n",
    "                if type(to) is GeneratorType:\n",
    "                    stack.append(to)\n",
    "                    to = next(to)\n",
    "                else:\n",
    "                    stack.pop()\n",
    "                    if not stack:\n",
    "                        break\n",
    "                    to = stack[-1].send(to)\n",
    "            return to\n",
    "    return wrappedfunc\n",
    "\n",
    "@bootstrap\n",
    "def dfs_from_b(value):\n",
    "    vt[value] = True\n",
    "    \n",
    "    c = 0\n",
    "    for v in li[value]:\n",
    "        if vt[v]:\n",
    "            continue\n",
    "        vt[v] = True\n",
    "        \n",
    "        tc = yield dfs_from_b(v)\n",
    "        if tc >= 1:\n",
    "            c += tc\n",
    "    \n",
    "    c += colors[value]\n",
    "    fbc[value] = c\n",
    "    yield c\n",
    "\n",
    "@bootstrap\n",
    "def rerooting(value):\n",
    "    vt[value] = True\n",
    "   \n",
    "    for v in li[value]:\n",
    "        if vt[v]:\n",
    "            continue\n",
    "        vt[v] = True\n",
    "        \n",
    "        temp = maxes[value] - max(0, fbc[v])\n",
    "        maxes[v] = fbc[v] + max(0, temp)\n",
    "        yield rerooting(v)\n",
    "        \n",
    "    yield\n",
    "    \n",
    "n = int(input())\n",
    "colors = list(map(int, input().split()))\n",
    "for i in range(n):\n",
    "    if colors[i] == 0:\n",
    "        colors[i] = -1\n",
    "    \n",
    "li = [[] for _ in range(n)]\n",
    "get_value = lambda x: int(x) - 1\n",
    "for _ in range(n - 1):\n",
    "    a, b = map(get_value, input().split())\n",
    "    li[a].append(b)\n",
    "    li[b].append(a)\n",
    "        \n",
    "fbc = [0] * n # from bottom and cur\n",
    "vt = [False] * n\n",
    "dfs_from_b(0)\n",
    "\n",
    "maxes = [0] * n\n",
    "maxes[0] = fbc[0]\n",
    "\n",
    "vt = [False] * n\n",
    "rerooting(0)\n",
    "\n",
    "print(*maxes)"
   ]
  },
  {
   "cell_type": "markdown",
   "metadata": {},
   "source": [
    "F"
   ]
  },
  {
   "cell_type": "code",
   "execution_count": 103,
   "metadata": {},
   "outputs": [
    {
     "name": "stdout",
     "output_type": "stream",
     "text": [
      "2\n",
      "abc\n",
      "cb\n",
      "NO\n"
     ]
    }
   ],
   "source": [
    "import sys\n",
    "input = lambda: sys.stdin.readline().rstrip()\n",
    "\n",
    "def check(s):\n",
    "    for i in range(len(s) // 2):\n",
    "        if s[i] != s[len(s) - 1 - i]:\n",
    "            return False\n",
    "    return True\n",
    "\n",
    "for _ in range(int(input())):\n",
    "    n = int(input())\n",
    "    li = [input() for _ in range(n)]\n",
    "\n",
    "    ip = False\n",
    "    for s in li:\n",
    "        if check(s):\n",
    "            ip = True\n",
    "            break\n",
    "\n",
    "    if ip:\n",
    "        print('YES')\n",
    "    else:\n",
    "        st2_all = set()\n",
    "        st2 = set()\n",
    "        st3 = set()\n",
    "        ip = False\n",
    "        for s in li:\n",
    "            if len(s) == 2:\n",
    "                rs = s[::-1]\n",
    "\n",
    "                if rs in st2_all:\n",
    "                    ip = True\n",
    "                    break\n",
    "                st2.add(s)\n",
    "                st2_all.add(s)\n",
    "            else:\n",
    "                rs_3 = s[::-1]\n",
    "                rs_2 = s[1:][::-1]\n",
    "\n",
    "                if rs_3 in st3:\n",
    "                    ip = True\n",
    "                    break\n",
    "                if rs_2 in st2:\n",
    "                    ip = True\n",
    "                    break\n",
    "\n",
    "                st2_all.add(s[:2])\n",
    "                st3.add(s)\n",
    "\n",
    "        if ip:\n",
    "            print('YES')\n",
    "        else:\n",
    "            print('NO')"
   ]
  },
  {
   "cell_type": "markdown",
   "metadata": {},
   "source": [
    "G"
   ]
  },
  {
   "cell_type": "code",
   "execution_count": 109,
   "metadata": {},
   "outputs": [
    {
     "data": {
      "text/plain": [
       "1"
      ]
     },
     "execution_count": 109,
     "metadata": {},
     "output_type": "execute_result"
    }
   ],
   "source": [
    "11100\n",
    "11100\n",
    "11100\n",
    "11100\n",
    "\n",
    "\n",
    "0001\n",
    "0100\n",
    "0000\n",
    "0000"
   ]
  },
  {
   "cell_type": "code",
   "execution_count": null,
   "metadata": {},
   "outputs": [],
   "source": [
    "0001\n",
    "1000\n",
    "0100\n",
    "0010"
   ]
  },
  {
   "cell_type": "code",
   "execution_count": null,
   "metadata": {},
   "outputs": [],
   "source": [
    "0010\n",
    "0001\n",
    "1000\n",
    "0100"
   ]
  },
  {
   "cell_type": "code",
   "execution_count": null,
   "metadata": {},
   "outputs": [],
   "source": [
    "0001\n",
    "1000\n",
    "0100\n",
    "0010"
   ]
  },
  {
   "cell_type": "code",
   "execution_count": null,
   "metadata": {},
   "outputs": [],
   "source": [
    "1001\n",
    "1100\n",
    "0100\n",
    "0010"
   ]
  },
  {
   "cell_type": "code",
   "execution_count": null,
   "metadata": {},
   "outputs": [],
   "source": [
    "1100\n",
    "0100\n",
    "0010\n",
    "1001"
   ]
  },
  {
   "cell_type": "code",
   "execution_count": 110,
   "metadata": {},
   "outputs": [
    {
     "name": "stdout",
     "output_type": "stream",
     "text": [
      "2\n",
      "10\n",
      "10\n"
     ]
    }
   ],
   "source": [
    "from collections import deque\n",
    "\n",
    "n = int(input())\n",
    "\n",
    "deq = deque(input() for _ in range(n))"
   ]
  },
  {
   "cell_type": "code",
   "execution_count": 121,
   "metadata": {},
   "outputs": [
    {
     "name": "stdout",
     "output_type": "stream",
     "text": [
      "0\n"
     ]
    }
   ],
   "source": [
    "from collections import deque\n",
    "import sys\n",
    "input = lambda: sys.stdin.readline().rstrip()\n",
    "\n",
    "inf = float('inf')\n",
    "\n",
    "for _ in range(int(input())):\n",
    "    input()\n",
    "    n = int(input())\n",
    "    deq = deque(input() for _ in range(n))\n",
    "\n",
    "    c1 = 0\n",
    "    for i in range(n):\n",
    "        for j in range(n):\n",
    "            if deq[i][j] == '1':\n",
    "                c1 += 1\n",
    "\n",
    "    min_needed = inf\n",
    "    for _ in range(n):\n",
    "        dc1 = 0 # diagonal c1\n",
    "        for i in range(n):\n",
    "            if deq[i][i] == '1':\n",
    "                dc1 += 1\n",
    "\n",
    "        needed = n - dc1 # to 1\n",
    "        needed += c1 - dc1 # to 0\n",
    "        min_needed = min(min_needed, needed)\n",
    "\n",
    "        deq.rotate()\n",
    "\n",
    "    print(min_needed)"
   ]
  },
  {
   "cell_type": "code",
   "execution_count": 114,
   "metadata": {},
   "outputs": [
    {
     "data": {
      "text/plain": [
       "5"
      ]
     },
     "execution_count": 114,
     "metadata": {},
     "output_type": "execute_result"
    }
   ],
   "source": [
    "c1"
   ]
  },
  {
   "cell_type": "code",
   "execution_count": null,
   "metadata": {},
   "outputs": [],
   "source": [
    "00011\n",
    "00001\n",
    "10001\n",
    "01001\n",
    "00101"
   ]
  },
  {
   "cell_type": "code",
   "execution_count": null,
   "metadata": {},
   "outputs": [],
   "source": [
    "0101\n",
    "0000\n",
    "1000\n",
    "1000"
   ]
  },
  {
   "cell_type": "code",
   "execution_count": null,
   "metadata": {},
   "outputs": [],
   "source": [
    "1000\n",
    "1000\n",
    "0000\n",
    "0101"
   ]
  },
  {
   "cell_type": "code",
   "execution_count": null,
   "metadata": {},
   "outputs": [],
   "source": [
    "0001\n",
    "0001\n",
    "0000\n",
    "1010"
   ]
  },
  {
   "cell_type": "code",
   "execution_count": null,
   "metadata": {},
   "outputs": [],
   "source": [
    "1010\n",
    "0000\n",
    "0001\n",
    "0001"
   ]
  }
 ],
 "metadata": {
  "kernelspec": {
   "display_name": "Python 3",
   "language": "python",
   "name": "python3"
  },
  "language_info": {
   "codemirror_mode": {
    "name": "ipython",
    "version": 3
   },
   "file_extension": ".py",
   "mimetype": "text/x-python",
   "name": "python",
   "nbconvert_exporter": "python",
   "pygments_lexer": "ipython3",
   "version": "3.7.4"
  }
 },
 "nbformat": 4,
 "nbformat_minor": 2
}
