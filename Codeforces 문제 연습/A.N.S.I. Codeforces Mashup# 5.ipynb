{
 "cells": [
  {
   "cell_type": "code",
   "execution_count": null,
   "metadata": {},
   "outputs": [],
   "source": [
    "import sys\n",
    "input = lambda: sys.stdin.readline().rstrip()"
   ]
  },
  {
   "cell_type": "markdown",
   "metadata": {},
   "source": [
    "A"
   ]
  },
  {
   "cell_type": "code",
   "execution_count": 7,
   "metadata": {},
   "outputs": [
    {
     "name": "stdout",
     "output_type": "stream",
     "text": [
      "4\n",
      "2 1 3 4\n",
      "YES\n"
     ]
    }
   ],
   "source": [
    "import sys\n",
    "input = lambda: sys.stdin.readline().rstrip()\n",
    "\n",
    "for _ in range(int(input())):\n",
    "    n = int(input())\n",
    "    li = list(map(int, input().split()))\n",
    "\n",
    "    init = li[0]\n",
    "    stack = []\n",
    "    for i in range(1, n):\n",
    "        while stack and stack[-1] < li[i]:\n",
    "            stack.pop()\n",
    "\n",
    "        if not stack and init < li[i]:\n",
    "            continue\n",
    "        else:\n",
    "            stack.append(li[i])\n",
    "\n",
    "    if stack:\n",
    "        print('NO')\n",
    "    else:\n",
    "        print('YES')"
   ]
  },
  {
   "cell_type": "markdown",
   "metadata": {},
   "source": [
    "C"
   ]
  },
  {
   "cell_type": "code",
   "execution_count": 15,
   "metadata": {},
   "outputs": [
    {
     "name": "stdout",
     "output_type": "stream",
     "text": [
      "4\n",
      "8 7 6 5 4 3 2 1\n"
     ]
    }
   ],
   "source": [
    "import sys\n",
    "input = lambda: sys.stdin.readline().rstrip()\n",
    "\n",
    "for _ in range(int(input())):\n",
    "    n = int(input())\n",
    "    n *= 2\n",
    "    li = list(map(int, input().split()))\n",
    "\n",
    "    nli = [(v, i) for i, v in enumerate(li)]\n",
    "    nli.sort(key=lambda x: -x[0])\n",
    "\n",
    "    cur_left = n\n",
    "    groups = []\n",
    "    for value, index in nli:\n",
    "        if index > cur_left:\n",
    "            continue\n",
    "        groups.append(cur_left - index)\n",
    "        cur_left = index\n",
    "\n",
    "    n_half = n // 2\n",
    "    dp = [False] * (n_half + 1)\n",
    "    dp[0] = True\n",
    "    for v in groups:\n",
    "        if v > n_half:\n",
    "            continue\n",
    "        for i in range(n_half, v - 1, -1):\n",
    "            if dp[i - v]:\n",
    "                dp[i] = True\n",
    "\n",
    "    if dp[n_half]:\n",
    "        print('YES')\n",
    "    else:\n",
    "        print('NO')"
   ]
  },
  {
   "cell_type": "markdown",
   "metadata": {},
   "source": [
    "B"
   ]
  },
  {
   "cell_type": "code",
   "execution_count": 39,
   "metadata": {},
   "outputs": [
    {
     "name": "stdout",
     "output_type": "stream",
     "text": [
      "1\n",
      "5 6\n",
      "1 2 1 2 1\n",
      "1 12 2 13\n",
      "2 13 1 12\n",
      "1 12 2 13\n",
      "2 13 1 12\n",
      "YES\n"
     ]
    }
   ],
   "source": [
    "import sys\n",
    "# input = lambda: sys.stdin.readline().rstrip()\n",
    "\n",
    "for _ in range(int(input())):\n",
    "    n, k = map(int, input().split())\n",
    "    li = list(map(int, input().split()))\n",
    "\n",
    "    ip = True\n",
    "    l, h = li[0], li[0] + k - 1 + k\n",
    "    for i in range(1, n):\n",
    "        nl = li[i]\n",
    "        nh = li[i] + k - 1 + k\n",
    "        if i == n - 1:\n",
    "            nh = li[i] + k\n",
    "        \n",
    "        nl = max(nl, l + 1 - k)\n",
    "        nh = min(nh, h - 1 + k)\n",
    "        \n",
    "        if nh - nl < k:\n",
    "            ip = False\n",
    "            break\n",
    "            \n",
    "        l, h = nl, nh\n",
    "\n",
    "    if ip:\n",
    "        print('YES')\n",
    "    else:\n",
    "        print('NO')"
   ]
  },
  {
   "cell_type": "markdown",
   "metadata": {},
   "source": [
    "D"
   ]
  },
  {
   "cell_type": "code",
   "execution_count": null,
   "metadata": {},
   "outputs": [],
   "source": [
    "v^k는 v^0 + ... + v^(k - 1)보다 더 큼\n",
    "\n",
    "그러므로 필요한 k가 서로 중복되면 안됨"
   ]
  },
  {
   "cell_type": "code",
   "execution_count": 50,
   "metadata": {},
   "outputs": [
    {
     "data": {
      "text/plain": [
       "17412"
      ]
     },
     "execution_count": 50,
     "metadata": {},
     "output_type": "execute_result"
    }
   ],
   "source": [
    "4 ** 5 + 4 ** 7 + 4 + 1"
   ]
  },
  {
   "cell_type": "code",
   "execution_count": 59,
   "metadata": {},
   "outputs": [
    {
     "name": "stdout",
     "output_type": "stream",
     "text": [
      "3 9\n",
      "59049 0 810\n",
      "NO\n"
     ]
    }
   ],
   "source": [
    "import sys\n",
    "input = lambda: sys.stdin.readline().rstrip()\n",
    "\n",
    "for _ in range(int(input())):\n",
    "    n, k = map(int, input().split())\n",
    "    li = list(map(int, input().split()))\n",
    "\n",
    "    st = set()\n",
    "    ip = True\n",
    "    for v in li:\n",
    "        count = 0\n",
    "        while v:\n",
    "            temp = v % k\n",
    "            if temp == 1:\n",
    "                if count in st:\n",
    "                    ip = False\n",
    "                    break\n",
    "                st.add(count)\n",
    "                v -= temp\n",
    "            elif temp:\n",
    "                ip = False\n",
    "                break\n",
    "            v //= k\n",
    "            count += 1\n",
    "        if not ip:\n",
    "            break\n",
    "\n",
    "    if ip:\n",
    "        print('YES')\n",
    "    else:\n",
    "        print('NO')"
   ]
  },
  {
   "cell_type": "code",
   "execution_count": 64,
   "metadata": {},
   "outputs": [
    {
     "name": "stdout",
     "output_type": "stream",
     "text": [
      "1\n",
      "2\n"
     ]
    },
    {
     "data": {
      "text/plain": [
       "{0}"
      ]
     },
     "execution_count": 64,
     "metadata": {},
     "output_type": "execute_result"
    }
   ],
   "source": [
    "v = 59049\n",
    "k = 9\n",
    "st = set()\n",
    "\n",
    "count = 0\n",
    "while v:\n",
    "    temp = v % 4\n",
    "    if temp == 1:\n",
    "        if count in st:\n",
    "            ip = False\n",
    "            break\n",
    "        st.add(count)\n",
    "        v -= temp\n",
    "    elif temp:\n",
    "        ip = False\n",
    "        break\n",
    "    v //= 4\n",
    "    count += 1\n",
    "    \n",
    "st"
   ]
  },
  {
   "cell_type": "markdown",
   "metadata": {},
   "source": [
    "E"
   ]
  },
  {
   "cell_type": "code",
   "execution_count": 66,
   "metadata": {},
   "outputs": [
    {
     "name": "stdout",
     "output_type": "stream",
     "text": [
      "7\n",
      "3 2 4 5 1 6 7\n",
      "2\n"
     ]
    }
   ],
   "source": [
    "import sys\n",
    "input = lambda: sys.stdin.readline().rstrip()\n",
    "\n",
    "for _ in range(int(input())):\n",
    "    n = int(input())\n",
    "    li = list(map(int, input().split()))\n",
    "\n",
    "    diffs = []\n",
    "    for i in range(n):\n",
    "        if li[i] != i + 1:\n",
    "            diffs.append(i)\n",
    "\n",
    "    if not diffs:\n",
    "        print(0)\n",
    "    else:\n",
    "        r = 1\n",
    "        for i in range(len(diffs) - 1):\n",
    "            if diffs[i] + 1 != diffs[i + 1]:\n",
    "                r = 2\n",
    "                break\n",
    "        print(r)"
   ]
  },
  {
   "cell_type": "markdown",
   "metadata": {},
   "source": [
    "F"
   ]
  },
  {
   "cell_type": "code",
   "execution_count": null,
   "metadata": {},
   "outputs": [],
   "source": [
    "import sys\n",
    "input = lambda: sys.stdin.readline().rstrip()\n",
    "\n",
    "## PYRIVAL BOOTSTRAP\n",
    "# https://github.com/cheran-senthil/PyRival/blob/master/pyrival/misc/bootstrap.py\n",
    "# This decorator allows for recursion without actually doing recursion\n",
    "## @bootstrap, yield when getting and returning value in recursive functions, end of functions\n",
    "from types import GeneratorType\n",
    "\n",
    "def bootstrap(f, stack=[]):\n",
    "    def wrappedfunc(*args, **kwargs):\n",
    "        if stack:\n",
    "            return f(*args, **kwargs)\n",
    "        else:\n",
    "            to = f(*args, **kwargs)\n",
    "            while True:\n",
    "                if type(to) is GeneratorType:\n",
    "                    stack.append(to)\n",
    "                    to = next(to)\n",
    "                else:\n",
    "                    stack.pop()\n",
    "                    if not stack:\n",
    "                        break\n",
    "                    to = stack[-1].send(to)\n",
    "            return to\n",
    "    return wrappedfunc\n",
    "\n",
    "@bootstrap\n",
    "def dfs(value):\n",
    "    global min_count\n",
    "    global min_count_values\n",
    "    \n",
    "    vt[value] = True\n",
    "    \n",
    "    cumul = 0\n",
    "    max_c = 0\n",
    "    for v in li[value]:\n",
    "        if vt[v]:\n",
    "            continue\n",
    "        c = yield dfs(v)\n",
    "        cumul += c\n",
    "        max_c = max(max_c, c)\n",
    "    max_c = max(max_c, n - 1 - cumul)\n",
    "    \n",
    "    if max_c < min_count:\n",
    "        min_count = max_c\n",
    "        min_count_values = [value]\n",
    "    elif max_c == min_count:\n",
    "        min_count_values.append(value)\n",
    "        \n",
    "    yield cumul + 1\n",
    "\n",
    "@bootstrap    \n",
    "def dfs_to_find_leaf(value):\n",
    "    global to_delete\n",
    "    \n",
    "    vt[value] = True\n",
    "    \n",
    "    count = 0\n",
    "    for v in li[value]:\n",
    "        if vt[v]:\n",
    "            continue\n",
    "        c = yield dfs_to_find_leaf(v)\n",
    "        if c == 1:\n",
    "            if not to_delete:\n",
    "                to_delete = [value, v]\n",
    "        count += c\n",
    "    yield count + 1\n",
    "\n",
    "for _ in range(int(input())):\n",
    "    n = int(input())\n",
    "    li = [[] for _ in range(n + 1)]\n",
    "    for _ in range(n - 1):\n",
    "        x, y = map(int, input().split())\n",
    "        li[x].append(y)\n",
    "        li[y].append(x)\n",
    "\n",
    "    min_count = float('inf')\n",
    "    min_count_values = []\n",
    "    vt = [False] * (n + 1)\n",
    "    dfs(1)\n",
    "\n",
    "    if len(min_count_values) == 1:\n",
    "        print(1, li[1][0])\n",
    "        print(1, li[1][0])\n",
    "    else:   \n",
    "        vt = [False] * (n + 1)\n",
    "        vt[min_count_values[1]] = True\n",
    "        to_delete = []\n",
    "        dfs_to_find_leaf(min_count_values[0])\n",
    "        print(*to_delete)\n",
    "        print(to_delete[1], min_count_values[1])"
   ]
  },
  {
   "cell_type": "markdown",
   "metadata": {},
   "source": [
    "G"
   ]
  },
  {
   "cell_type": "code",
   "execution_count": null,
   "metadata": {},
   "outputs": [],
   "source": [
    "x의 값은 커질 수만 있을뿐 작아질 수는 없다.\n",
    "a[i]의 값은 작아질 수만 있을뿐 커질 수는 없다.\n",
    "\n"
   ]
  },
  {
   "cell_type": "code",
   "execution_count": null,
   "metadata": {},
   "outputs": [],
   "source": [
    "바꿀 수 있으면 무조건 바꾸고 정렬된 상태면 중단?"
   ]
  },
  {
   "cell_type": "code",
   "execution_count": 49,
   "metadata": {},
   "outputs": [
    {
     "name": "stdout",
     "output_type": "stream",
     "text": [
      "5 18\n",
      "81 324 218 413 324\n",
      "3\n"
     ]
    }
   ],
   "source": [
    "import sys\n",
    "input = lambda: sys.stdin.readline().rstrip()\n",
    "\n",
    "for _ in range(int(input())):\n",
    "    n, x = map(int, input().split())\n",
    "    li = list(map(int, input().split()))\n",
    "\n",
    "    if li == sorted(li):\n",
    "        print(0)\n",
    "    else:\n",
    "        c = 0\n",
    "        ip = False\n",
    "        for i in range(n):\n",
    "            if li[i] > x:\n",
    "                li[i], x = x, li[i]\n",
    "                c += 1\n",
    "            if li == sorted(li):\n",
    "                ip = True\n",
    "                break\n",
    "\n",
    "        if ip:\n",
    "            print(c)\n",
    "        else:\n",
    "            print(-1)"
   ]
  },
  {
   "cell_type": "code",
   "execution_count": 43,
   "metadata": {},
   "outputs": [
    {
     "data": {
      "text/plain": [
       "[2, 3, 4, 5]"
      ]
     },
     "execution_count": 43,
     "metadata": {},
     "output_type": "execute_result"
    }
   ],
   "source": [
    "target"
   ]
  }
 ],
 "metadata": {
  "kernelspec": {
   "display_name": "Python 3",
   "language": "python",
   "name": "python3"
  },
  "language_info": {
   "codemirror_mode": {
    "name": "ipython",
    "version": 3
   },
   "file_extension": ".py",
   "mimetype": "text/x-python",
   "name": "python",
   "nbconvert_exporter": "python",
   "pygments_lexer": "ipython3",
   "version": "3.7.4"
  }
 },
 "nbformat": 4,
 "nbformat_minor": 2
}
