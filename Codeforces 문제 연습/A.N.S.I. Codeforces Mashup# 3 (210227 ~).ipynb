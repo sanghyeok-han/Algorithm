{
 "cells": [
  {
   "cell_type": "markdown",
   "metadata": {},
   "source": [
    "A"
   ]
  },
  {
   "cell_type": "code",
   "execution_count": 16,
   "metadata": {},
   "outputs": [
    {
     "name": "stdout",
     "output_type": "stream",
     "text": [
      "lol\n",
      "2\n"
     ]
    }
   ],
   "source": [
    "from collections import Counter\n",
    "\n",
    "s = input()\n",
    "n = len(s)\n",
    "\n",
    "cs = Counter(s)\n",
    "max_value = cs.most_common()[0][1]\n",
    "\n",
    "d = dict()\n",
    "for i in range(97, 123):\n",
    "    for j in range(97, 123):\n",
    "        temp = chr(i) + chr(j)\n",
    "        d[temp] = 0\n",
    "        \n",
    "cumuls = {chr(i) : 0 for i in range(97, 123)}\n",
    "cumuls[s[0]] += 1\n",
    "for i in range(1, n):\n",
    "    for j in range(97, 123):\n",
    "        temp = chr(j) + s[i]\n",
    "        d[temp] += cumuls[chr(j)]\n",
    "    cumuls[s[i]] += 1\n",
    "    \n",
    "r = max(max_value, max(d.values()))\n",
    "\n",
    "print(r)"
   ]
  },
  {
   "cell_type": "markdown",
   "metadata": {},
   "source": [
    "B"
   ]
  },
  {
   "cell_type": "code",
   "execution_count": 9,
   "metadata": {},
   "outputs": [
    {
     "name": "stdout",
     "output_type": "stream",
     "text": [
      "2\n",
      "2 10\n",
      "15 4\n",
      "2\n",
      "1 1\n",
      "10\n",
      "2\n"
     ]
    }
   ],
   "source": [
    "import sys\n",
    "input = lambda: sys.stdin.readline().rstrip()\n",
    "\n",
    "for _ in range(int(input())):\n",
    "    n, x = map(int, input().split())\n",
    "    li = sorted(map(int, input().split()))\n",
    "\n",
    "    if x in li:\n",
    "        print(1)\n",
    "    else:\n",
    "        max_num = li[-1]\n",
    "        \n",
    "        if max_num > x:\n",
    "            print(2)\n",
    "        else:\n",
    "            count = x // max_num\n",
    "            if x % max_num:\n",
    "                count += 1\n",
    "\n",
    "            print(count)"
   ]
  },
  {
   "cell_type": "markdown",
   "metadata": {},
   "source": [
    "C"
   ]
  },
  {
   "cell_type": "code",
   "execution_count": 47,
   "metadata": {},
   "outputs": [
    {
     "name": "stdout",
     "output_type": "stream",
     "text": [
      "1\n",
      "2 1\n",
      "1 1\n",
      "0\n"
     ]
    }
   ],
   "source": [
    "import sys\n",
    "input = lambda: sys.stdin.readline().rstrip()\n",
    "\n",
    "for _ in range(int(input())):\n",
    "    n, k = map(int, input().split())\n",
    "    li = list(map(int, input().split()))\n",
    "\n",
    "    min_2 = 2\n",
    "    max_2 = 2 * k\n",
    "\n",
    "    deltas = [0] * (k * 2 + 2)\n",
    "    for i in range(n // 2):\n",
    "        a = li[i]\n",
    "        b = li[n - 1 - i]\n",
    "\n",
    "        min_1 = min(a, b) + 1\n",
    "        zero = a + b\n",
    "        max_1 = max(a, b) + k\n",
    "\n",
    "        deltas[min_2] += 2\n",
    "        deltas[min_1] -= 1\n",
    "        deltas[zero] -= 1\n",
    "        deltas[zero + 1] += 1\n",
    "        deltas[max_1 + 1] += 1\n",
    "\n",
    "    sli = [0] * (k * 2 + 1)\n",
    "    sli[0] = float('inf')\n",
    "    sli[1] = float('inf')\n",
    "    delta = 0\n",
    "    for i in range(2, k * 2 + 1):\n",
    "        delta += deltas[i]\n",
    "        sli[i] = delta\n",
    "\n",
    "    r = min(sli)\n",
    "\n",
    "    print(r)"
   ]
  },
  {
   "cell_type": "markdown",
   "metadata": {},
   "source": [
    "D"
   ]
  },
  {
   "cell_type": "code",
   "execution_count": 12,
   "metadata": {},
   "outputs": [
    {
     "name": "stdout",
     "output_type": "stream",
     "text": [
      "3 0\n",
      "5 1 2\n",
      "7 3 5\n",
      "10 -1 0\n",
      "YES\n"
     ]
    }
   ],
   "source": [
    "import sys\n",
    "input = lambda: sys.stdin.readline().rstrip()\n",
    "\n",
    "for _ in range(int(input())):\n",
    "    n, m = map(int, input().split())\n",
    "\n",
    "    cmintp = m # cur min possible temperature\n",
    "    cmaxtp = m # cur max possible temperature\n",
    "    ft = 0 # former time\n",
    "    ip = True\n",
    "    for _ in range(n):\n",
    "        t, l, h = map(int, input().split())\n",
    "        if not ip:\n",
    "            continue\n",
    "\n",
    "        diff = t - ft\n",
    "        cmintp -= diff\n",
    "        cmaxtp += diff\n",
    "        ft = t\n",
    "\n",
    "        if h < cmintp or l > cmaxtp:\n",
    "            ip = False\n",
    "\n",
    "        if ip:\n",
    "            cmintp = max(cmintp, l)\n",
    "            cmaxtp = min(cmaxtp, h)\n",
    "\n",
    "    if ip:\n",
    "        print('YES')\n",
    "    else:\n",
    "        print('NO')"
   ]
  },
  {
   "cell_type": "markdown",
   "metadata": {},
   "source": [
    "E"
   ]
  },
  {
   "cell_type": "code",
   "execution_count": 25,
   "metadata": {},
   "outputs": [
    {
     "name": "stdout",
     "output_type": "stream",
     "text": [
      "24\n",
      "3 8\n"
     ]
    }
   ],
   "source": [
    "from math import gcd\n",
    "\n",
    "lcm = lambda a, b: a * b // gcd(a, b)\n",
    "\n",
    "x = int(input())\n",
    "\n",
    "if x == 1:\n",
    "    print(1, 1)\n",
    "else:\n",
    "    ra, rb = -1, -1\n",
    "    for mod in range(1, int(x ** 0.5) + 1):\n",
    "        if x % mod == 0:\n",
    "            a, b = mod, x // mod\n",
    "            if lcm(a, b) == x:\n",
    "                if a < b:\n",
    "                    ra, rb = a, b\n",
    "\n",
    "    print(ra, rb)"
   ]
  },
  {
   "cell_type": "markdown",
   "metadata": {},
   "source": [
    "F"
   ]
  },
  {
   "cell_type": "code",
   "execution_count": 27,
   "metadata": {},
   "outputs": [
    {
     "name": "stdout",
     "output_type": "stream",
     "text": [
      "5\n",
      "3 50 2 1 10\n",
      "3\n",
      "1 2 0\n",
      "2 8\n",
      "1 3 20\n",
      "8 8 20 8 10\n"
     ]
    }
   ],
   "source": [
    "import sys\n",
    "input = lambda: sys.stdin.readline().rstrip()\n",
    "\n",
    "n = int(input())\n",
    "li = list(map(int, input().split()))\n",
    "q = int(input())\n",
    "qs = [list(map(int, input().split())) for _ in range(q)]\n",
    "\n",
    "cmm = 0 # cur max min\n",
    "for i in range(q - 1, -1, -1):\n",
    "    if qs[i][0] == 2:\n",
    "        if qs[i][1] > cmm:\n",
    "            cmm = qs[i][1]\n",
    "    else:\n",
    "        if qs[i][2] < cmm:\n",
    "            qs[i][2] = cmm\n",
    "            \n",
    "for i in range(n):\n",
    "    if li[i] < cmm:\n",
    "        li[i] = cmm\n",
    "        \n",
    "for i in range(q):\n",
    "    if qs[i][0] == 1:\n",
    "        li[qs[i][1] - 1] = qs[i][2]\n",
    "        \n",
    "print(*li)"
   ]
  },
  {
   "cell_type": "markdown",
   "metadata": {},
   "source": [
    "G"
   ]
  },
  {
   "cell_type": "code",
   "execution_count": null,
   "metadata": {},
   "outputs": [],
   "source": [
    "import sys\n",
    "input = lambda: sys.stdin.readline().rstrip()\n",
    "\n",
    "for _ in range(int(input())):\n",
    "    n = int(input())\n",
    "    li = list(map(int, input().split()))\n",
    "\n",
    "    temp = []\n",
    "    for i in range(1, n):\n",
    "        if li[i - 1] == -1 and li[i] == -1:\n",
    "            continue\n",
    "        if li[i - 1] == -1:\n",
    "            temp.append(li[i])\n",
    "        elif li[i] == -1:\n",
    "            temp.append(li[i - 1])\n",
    "\n",
    "    temp.sort()\n",
    "\n",
    "    if not temp:\n",
    "        k = 0\n",
    "    elif len(temp) == 1:\n",
    "        k = temp[0]\n",
    "    else:\n",
    "        k = (temp[0] + temp[-1]) // 2\n",
    "\n",
    "    for i in range(n):\n",
    "        if li[i] == -1:\n",
    "            li[i] = k\n",
    "\n",
    "    m = 0\n",
    "    for i in range(1, n):\n",
    "        m = max(m, abs(li[i] - li[i - 1]))\n",
    "\n",
    "    print(m, k)"
   ]
  },
  {
   "cell_type": "markdown",
   "metadata": {},
   "source": [
    "I"
   ]
  },
  {
   "cell_type": "code",
   "execution_count": 5,
   "metadata": {},
   "outputs": [
    {
     "name": "stdout",
     "output_type": "stream",
     "text": [
      "3\n",
      "5 -5 5\n",
      "NO\n"
     ]
    }
   ],
   "source": [
    "import sys\n",
    "input = lambda: sys.stdin.readline().rstrip()\n",
    "\n",
    "for _ in range(int(input())):\n",
    "    n = int(input())\n",
    "    li = list(map(int, input().split()))\n",
    "\n",
    "    a = sum(li)\n",
    "\n",
    "    start = 0\n",
    "    end = 0\n",
    "    cur = li[start]\n",
    "    mv = -float('inf') # max value\n",
    "    while start <= end:\n",
    "        mv = max(mv, cur)\n",
    "\n",
    "        if cur < 0:\n",
    "            start = end + 1\n",
    "            end = start\n",
    "            if end >= n:\n",
    "                break\n",
    "            cur = li[start]\n",
    "        else:\n",
    "            end += 1\n",
    "            if end >= n:\n",
    "                break\n",
    "            if start == 0 and end == n - 1:\n",
    "                break\n",
    "            cur += li[end]\n",
    "\n",
    "    cumul = 0\n",
    "    for i in range(n - 1, 0, -1):\n",
    "        cumul += li[i]\n",
    "        mv = max(mv, cumul)\n",
    "\n",
    "    b = mv\n",
    "\n",
    "    if a > b:\n",
    "        print('YES')\n",
    "    else:\n",
    "        print('NO')"
   ]
  },
  {
   "cell_type": "markdown",
   "metadata": {},
   "source": [
    "H"
   ]
  },
  {
   "cell_type": "code",
   "execution_count": null,
   "metadata": {},
   "outputs": [],
   "source": []
  },
  {
   "cell_type": "code",
   "execution_count": null,
   "metadata": {},
   "outputs": [],
   "source": []
  },
  {
   "cell_type": "code",
   "execution_count": null,
   "metadata": {},
   "outputs": [],
   "source": []
  },
  {
   "cell_type": "code",
   "execution_count": null,
   "metadata": {},
   "outputs": [],
   "source": []
  },
  {
   "cell_type": "code",
   "execution_count": null,
   "metadata": {},
   "outputs": [],
   "source": []
  },
  {
   "cell_type": "code",
   "execution_count": null,
   "metadata": {},
   "outputs": [],
   "source": []
  },
  {
   "cell_type": "code",
   "execution_count": null,
   "metadata": {},
   "outputs": [],
   "source": []
  },
  {
   "cell_type": "code",
   "execution_count": null,
   "metadata": {},
   "outputs": [],
   "source": []
  },
  {
   "cell_type": "code",
   "execution_count": null,
   "metadata": {},
   "outputs": [],
   "source": []
  },
  {
   "cell_type": "markdown",
   "metadata": {},
   "source": [
    "J"
   ]
  },
  {
   "cell_type": "code",
   "execution_count": 8,
   "metadata": {},
   "outputs": [
    {
     "name": "stdout",
     "output_type": "stream",
     "text": [
      "7 4 2 1\n",
      "1 3 5 4 2 7 6\n",
      "6\n"
     ]
    }
   ],
   "source": [
    "n, a, b, k = map(int, input().split())\n",
    "li = list(map(int, input().split()))\n",
    "\n",
    "point = 0\n",
    "remained = []\n",
    "for i in range(n):\n",
    "    rd = li[i] % (a + b) # remainder\n",
    "    if rd == 0:\n",
    "        li[i] = a + b\n",
    "    else:\n",
    "        li[i] = rd\n",
    "        \n",
    "    li[i] -= a\n",
    "    if li[i] <= 0:\n",
    "        point += 1\n",
    "    else:\n",
    "        remained.append(li[i])\n",
    "        \n",
    "remained.sort()\n",
    "\n",
    "for v in remained:\n",
    "    needed = v // a\n",
    "    \n",
    "    if v % a:\n",
    "        needed += 1\n",
    "        \n",
    "    if needed > k:\n",
    "        break\n",
    "    k -= needed\n",
    "    point += 1\n",
    "    \n",
    "print(point)"
   ]
  },
  {
   "cell_type": "markdown",
   "metadata": {},
   "source": [
    "K"
   ]
  },
  {
   "cell_type": "code",
   "execution_count": 18,
   "metadata": {},
   "outputs": [
    {
     "name": "stdout",
     "output_type": "stream",
     "text": [
      "2\n",
      "3 3\n",
      "3 1 2\n",
      "3 2 1\n",
      "5\n",
      "7 2\n",
      "2 1 7 3 4 5 6\n",
      "3 1\n",
      "8\n"
     ]
    }
   ],
   "source": [
    "import sys\n",
    "# input = lambda: sys.stdin.readline().rstrip()\n",
    "\n",
    "for _ in range(int(input())):\n",
    "    n, m = map(int, input().split())\n",
    "    a = list(map(int, input().split()))\n",
    "    b = list(map(int, input().split()))\n",
    "\n",
    "    cur_check = 0\n",
    "    st = set()\n",
    "    count = 0\n",
    "    for v in b:\n",
    "        if v in st:\n",
    "            count += 1\n",
    "            st.discard(v)\n",
    "        else:\n",
    "            while True:\n",
    "                if a[cur_check] == v:\n",
    "                    count += len(st) * 2 + 1\n",
    "                    cur_check += 1\n",
    "                    break\n",
    "                else:\n",
    "                    st.add(a[cur_check])\n",
    "                    cur_check += 1\n",
    "\n",
    "    print(count)"
   ]
  },
  {
   "cell_type": "markdown",
   "metadata": {},
   "source": [
    "L"
   ]
  },
  {
   "cell_type": "code",
   "execution_count": 37,
   "metadata": {},
   "outputs": [
    {
     "name": "stdout",
     "output_type": "stream",
     "text": [
      "1\n",
      "codeforces\n",
      "1\n"
     ]
    }
   ],
   "source": [
    "import sys\n",
    "input = lambda: sys.stdin.readline().rstrip()\n",
    "\n",
    "def find(v):\n",
    "    if v == parent[v]:\n",
    "        return v\n",
    "    parent[v] = find(parent[v])\n",
    "    return parent[v]\n",
    "\n",
    "def union(a, b):\n",
    "    if a < b:\n",
    "        parent[b] = a\n",
    "    else:\n",
    "        parent[a] = b\n",
    "\n",
    "n = int(input())\n",
    "li = [set(input()) for _ in range(n)]\n",
    "\n",
    "to_check = set(range(n))\n",
    "parent = list(range(26))\n",
    "total_alphas = set()\n",
    "for v in li:\n",
    "    total_alphas |= v\n",
    "\n",
    "for alpha in total_alphas:\n",
    "    alpha_num = ord(alpha) - 97\n",
    "    td = [] # to delete\n",
    "    for i in to_check:\n",
    "        if alpha in li[i]:\n",
    "            for v in li[i]:\n",
    "                num = ord(v) - 97\n",
    "                \n",
    "                ra = find(alpha_num)\n",
    "                rb = find(num)\n",
    "                \n",
    "                if ra != rb:\n",
    "                    union(ra, rb)\n",
    "                td.append(i)\n",
    "    for i in td:\n",
    "        to_check.discard(i)\n",
    "          \n",
    "st = set()\n",
    "for alpha in total_alphas:\n",
    "    alpha_num = ord(alpha) - 97\n",
    "\n",
    "    st.add(find(alpha_num))\n",
    "    \n",
    "r = len(st)\n",
    "\n",
    "print(r)"
   ]
  },
  {
   "cell_type": "markdown",
   "metadata": {},
   "source": [
    "H"
   ]
  },
  {
   "cell_type": "code",
   "execution_count": 320,
   "metadata": {},
   "outputs": [
    {
     "name": "stdout",
     "output_type": "stream",
     "text": [
      "10\n",
      "0110011011\n",
      "1000110100\n",
      "7 1 10 8 7 1 2 1\n"
     ]
    }
   ],
   "source": [
    "import sys\n",
    "input = lambda: sys.stdin.readline().rstrip()\n",
    "\n",
    "for _ in range(int(input())):\n",
    "    n = int(input())\n",
    "    a = list(map(int, input()))\n",
    "    b = list(map(int, input()))\n",
    "\n",
    "    r = []\n",
    "    cumul = 0\n",
    "    cur_sign = 1\n",
    "    is_inversed = 0\n",
    "    for i in range(n - 1, -1, -1):   \n",
    "        t1 = cumul + cur_sign * i\n",
    "        to_check1 = a[t1] ^ is_inversed\n",
    "\n",
    "        if to_check1 == b[i]:\n",
    "            continue\n",
    "\n",
    "        if i == 0:\n",
    "            r.append(1)\n",
    "            break\n",
    "\n",
    "        if cur_sign == 1:\n",
    "            cumul = i + cumul\n",
    "        else:\n",
    "            cumul -= i\n",
    "        cur_sign *= -1\n",
    "        is_inversed ^= 1\n",
    "\n",
    "        t2 = cumul + cur_sign * i\n",
    "\n",
    "        to_check2 = a[t2] ^ is_inversed\n",
    "\n",
    "        if to_check2 != b[i]:\n",
    "            r.append(1)\n",
    "        r.append(i + 1)\n",
    "\n",
    "    print(len(r), *r)"
   ]
  },
  {
   "cell_type": "code",
   "execution_count": null,
   "metadata": {},
   "outputs": [],
   "source": [
    "현재 1이 초기 배열에서는 뭐?"
   ]
  },
  {
   "cell_type": "code",
   "execution_count": 297,
   "metadata": {},
   "outputs": [],
   "source": [
    "def inverse_and_reverse(right_end):\n",
    "    for i in range(right_end):\n",
    "        a[i] ^= 1\n",
    "        \n",
    "    a[:right_end] = a[:right_end][::-1]\n",
    "    \n",
    "    print(a)"
   ]
  },
  {
   "cell_type": "code",
   "execution_count": 300,
   "metadata": {},
   "outputs": [
    {
     "data": {
      "text/plain": [
       "[1, 5, 1, 3, 2]"
      ]
     },
     "execution_count": 300,
     "metadata": {},
     "output_type": "execute_result"
    }
   ],
   "source": [
    "r"
   ]
  }
 ],
 "metadata": {
  "kernelspec": {
   "display_name": "Python 3",
   "language": "python",
   "name": "python3"
  },
  "language_info": {
   "codemirror_mode": {
    "name": "ipython",
    "version": 3
   },
   "file_extension": ".py",
   "mimetype": "text/x-python",
   "name": "python",
   "nbconvert_exporter": "python",
   "pygments_lexer": "ipython3",
   "version": "3.7.4"
  }
 },
 "nbformat": 4,
 "nbformat_minor": 2
}
