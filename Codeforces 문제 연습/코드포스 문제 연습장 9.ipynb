{
 "cells": [
  {
   "cell_type": "markdown",
   "metadata": {},
   "source": [
    "https://codeforces.com/problemset/problem/1470/A A. Strange Birthday Party"
   ]
  },
  {
   "cell_type": "markdown",
   "metadata": {},
   "source": [
    "10.21 10.30"
   ]
  },
  {
   "cell_type": "code",
   "execution_count": 9,
   "metadata": {},
   "outputs": [
    {
     "name": "stdout",
     "output_type": "stream",
     "text": [
      "1 1\n",
      "1\n",
      "1\n",
      "1\n"
     ]
    }
   ],
   "source": [
    "import sys\n",
    "input = lambda: sys.stdin.readline().rstrip()\n",
    "\n",
    "for _ in range(int(input())):\n",
    "    n, m = map(int, input().split())\n",
    "    ks = sorted(map(int, input().split()))\n",
    "    cs = list(map(int, input().split()))\n",
    "\n",
    "    total = 0\n",
    "    cur = 0\n",
    "    for ki in range(n - 1, -1, -1):\n",
    "        ks[ki] -= 1\n",
    "\n",
    "        if cur < ks[ki]:\n",
    "            total += cs[cur]\n",
    "            cur += 1\n",
    "        else:\n",
    "            total += cs[ks[ki]]\n",
    "\n",
    "    print(total)"
   ]
  },
  {
   "cell_type": "markdown",
   "metadata": {},
   "source": [
    "https://codeforces.com/problemset/problem/1466/C C. Canine poetry"
   ]
  },
  {
   "cell_type": "markdown",
   "metadata": {},
   "source": [
    "10.31 11.01 -2"
   ]
  },
  {
   "cell_type": "code",
   "execution_count": null,
   "metadata": {},
   "outputs": [],
   "source": [
    "import sys\n",
    "input = lambda: sys.stdin.readline().rstrip()\n",
    "\n",
    "st = {'a', 'b', 'c', 'd', 'e', 'f'}\n",
    "\n",
    "for _ in range(int(input())):\n",
    "    li = list(input())\n",
    "    n = len(li)\n",
    "\n",
    "    total = 0\n",
    "    for i in range(n):\n",
    "        if i - 1 >= 0 and li[i - 1] == li[i]:\n",
    "            total += 1\n",
    "            nst = st.copy()\n",
    "            li[i] = (nst - set(li[max(0, i - 2):i + 3])).pop()\n",
    "        elif i - 2 >= 0 and li[i - 2] == li[i]:\n",
    "            total += 1\n",
    "            nst = st.copy()\n",
    "            li[i] = (nst - set(li[max(0, i - 2):i + 3])).pop()\n",
    "\n",
    "    print(total)"
   ]
  },
  {
   "cell_type": "markdown",
   "metadata": {},
   "source": [
    "https://codeforces.com/problemset/problem/1459/B B. Move and Turn"
   ]
  },
  {
   "cell_type": "markdown",
   "metadata": {},
   "source": [
    "11.14 11.59 -2"
   ]
  },
  {
   "cell_type": "code",
   "execution_count": 131,
   "metadata": {},
   "outputs": [
    {
     "name": "stdout",
     "output_type": "stream",
     "text": [
      "9\n",
      "60\n"
     ]
    }
   ],
   "source": [
    "n = int(input())\n",
    "\n",
    "dp = [1, 4, 4, 12, 9]\n",
    "for v in range(5, 1001):\n",
    "    r = 1 + ( 3 * v * (v + 4) + 2 - (-1) ** v * (v * (v + 4) + 2)) // 8\n",
    "    dp.append(r)\n",
    "    \n",
    "print(dp[n])"
   ]
  },
  {
   "cell_type": "code",
   "execution_count": 130,
   "metadata": {},
   "outputs": [
    {
     "name": "stdout",
     "output_type": "stream",
     "text": [
      "9\n",
      "60\n"
     ]
    }
   ],
   "source": [
    "dp = [1, 4, 4, 12]\n",
    "even_cur = 3\n",
    "odd_cur = 3\n",
    "for i in range(4, 1001):\n",
    "    if i % 2 == 0:\n",
    "        temp = even_cur ** 2\n",
    "        dp.append(temp)\n",
    "        even_cur += 1\n",
    "    else:\n",
    "        temp = (odd_cur * 2 + 1) * odd_cur + odd_cur\n",
    "        dp.append(temp)\n",
    "        odd_cur += 1\n",
    "\n",
    "n = int(input())\n",
    "        \n",
    "print(dp[n])"
   ]
  },
  {
   "cell_type": "markdown",
   "metadata": {},
   "source": [
    "https://codeforces.com/problemset/problem/1454/D D. Number into Sequence"
   ]
  },
  {
   "cell_type": "markdown",
   "metadata": {},
   "source": [
    "2.47 2.57"
   ]
  },
  {
   "cell_type": "code",
   "execution_count": null,
   "metadata": {},
   "outputs": [],
   "source": [
    "import sys\n",
    "input = lambda: sys.stdin.readline().rstrip()\n",
    "\n",
    "for _ in range(int(input())):\n",
    "    n = int(input())\n",
    "\n",
    "    max_cand = -1\n",
    "    max_cand_c = 0\n",
    "    num = n\n",
    "    for mod in range(2, int(n ** 0.5) + 1):\n",
    "        c = 0\n",
    "        while num % mod == 0:\n",
    "            num //= mod\n",
    "            c += 1\n",
    "\n",
    "        if c >= 2 and c > max_cand_c:\n",
    "            max_cand_c = c\n",
    "            max_cand = mod\n",
    "\n",
    "    if max_cand == -1:\n",
    "        print(1)\n",
    "        print(n)\n",
    "    else:\n",
    "        remained = n // (max_cand ** (max_cand_c - 1))\n",
    "        r = [max_cand] * (max_cand_c - 1) + [remained]\n",
    "\n",
    "        print(len(r))\n",
    "        print(*r)"
   ]
  },
  {
   "cell_type": "markdown",
   "metadata": {},
   "source": [
    "https://codeforces.com/problemset/problem/1446/A A. Knapsack"
   ]
  },
  {
   "cell_type": "markdown",
   "metadata": {},
   "source": [
    "6.49 7.00 (임시)"
   ]
  },
  {
   "cell_type": "code",
   "execution_count": 37,
   "metadata": {},
   "outputs": [
    {
     "name": "stdout",
     "output_type": "stream",
     "text": [
      "4 4\n",
      "1 2 3 4\n",
      "1\n",
      "2\n"
     ]
    }
   ],
   "source": [
    "import sys\n",
    "# input = lambda: sys.stdin.readline().rstrip()\n",
    "\n",
    "# for _ in range(int(input())):\n",
    "\n",
    "n, w = map(int, input().split())\n",
    "li = list(map(int, input().split()))\n",
    "\n",
    "li = [(v, i + 1) for i, v in enumerate(li)]\n",
    "li.sort(key=lambda x: x[0])\n",
    "\n",
    "cri = w // 2\n",
    "if w % 2:\n",
    "    cri += 1\n",
    "\n",
    "last = 0\n",
    "ip = False\n",
    "start = 0\n",
    "end = 0\n",
    "cur = li[start][0]\n",
    "\n",
    "while li:\n",
    "    if li[-1][0] > w:\n",
    "        li.pop()\n",
    "    else:\n",
    "        break\n",
    "for v in li:\n",
    "    if cri <= v[0] <= w:\n",
    "        print(1)\n",
    "        print(v[1])\n",
    "        break\n",
    "else:       \n",
    "    for v in li:\n",
    "        if cri <= cur <= w:\n",
    "            ip = True\n",
    "            break\n",
    "\n",
    "        if cur < cri:\n",
    "            end += 1\n",
    "            if end == n:\n",
    "                break\n",
    "            cur += li[end][0]\n",
    "        elif w < cur:\n",
    "            cur -= li[start][0]\n",
    "            start += 1\n",
    "            if start > end:\n",
    "                end = start\n",
    "                if end == n:\n",
    "                    break\n",
    "                cur += li[end][0]\n",
    "\n",
    "    if ip:\n",
    "        print(end - start + 1)\n",
    "        r = []\n",
    "        for i in range(start, end + 1):\n",
    "            r.append(li[i][1])\n",
    "\n",
    "        print(*r)\n",
    "    else:\n",
    "        print(-1)"
   ]
  },
  {
   "cell_type": "code",
   "execution_count": 34,
   "metadata": {},
   "outputs": [
    {
     "name": "stdout",
     "output_type": "stream",
     "text": [
      "7 12\n",
      "30 30 30 30 30 30 7\n",
      "1\n",
      "7\n"
     ]
    }
   ],
   "source": [
    "import sys\n",
    "input = lambda: sys.stdin.readline().rstrip()\n",
    "\n",
    "for _ in range(int(input())):\n",
    "    n, w = map(int, input().split())\n",
    "    li = list(map(int, input().split()))\n",
    "\n",
    "    li = [(v, i + 1) for i, v in enumerate(li)]\n",
    "    li.sort(key=lambda x: x[0])\n",
    "\n",
    "    cri = w // 2\n",
    "    if w % 2:\n",
    "        cri += 1\n",
    "\n",
    "    last = 0\n",
    "    ip = False\n",
    "    start = 0\n",
    "    end = 0\n",
    "    cur = li[start][0]\n",
    "    while start <= end:\n",
    "        if cri <= cur <= w:\n",
    "            ip = True\n",
    "            break\n",
    "\n",
    "        if cur < cri:\n",
    "            end += 1\n",
    "            if end == n:\n",
    "                break\n",
    "            cur += li[end][0]\n",
    "        elif w < cur:\n",
    "            cur -= li[start][0]\n",
    "            start += 1\n",
    "            if start > end:\n",
    "                end = start\n",
    "                if end == n:\n",
    "                    break\n",
    "                cur += li[end][0]\n",
    "\n",
    "    if ip:\n",
    "        print(end - start + 1)\n",
    "        r = []\n",
    "        for i in range(start, end + 1):\n",
    "            r.append(li[i][1])\n",
    "\n",
    "        print(*r)\n",
    "    else:\n",
    "        print(-1)"
   ]
  },
  {
   "cell_type": "markdown",
   "metadata": {},
   "source": [
    "https://codeforces.com/problemset/problem/1443/B B. Saving the City"
   ]
  },
  {
   "cell_type": "markdown",
   "metadata": {},
   "source": [
    "1.14 1.26"
   ]
  },
  {
   "cell_type": "code",
   "execution_count": 8,
   "metadata": {},
   "outputs": [
    {
     "name": "stdout",
     "output_type": "stream",
     "text": [
      "1 1\n",
      "0\n",
      "0\n"
     ]
    }
   ],
   "source": [
    "import sys\n",
    "input = lambda: sys.stdin.readline().rstrip()\n",
    "\n",
    "for _ in range(int(input())):\n",
    "    a, b = map(int, input().split())\n",
    "    li = list(map(int, input()))\n",
    "    n = len(li)\n",
    "\n",
    "    cont = 1\n",
    "    fv = li[0]\n",
    "    info = []\n",
    "    for i in range(1, n):\n",
    "        if li[i] != fv:\n",
    "            info.append([cont, fv])\n",
    "            cont = 1\n",
    "            fv = li[i]\n",
    "        else:\n",
    "            cont += 1\n",
    "\n",
    "    info.append([cont, fv])\n",
    "\n",
    "    if info[-1][-1] == 0:\n",
    "        info.pop()\n",
    "\n",
    "    if not info:\n",
    "        print(0)\n",
    "    else:\n",
    "        start = 0\n",
    "        if info[0][1] == 0:\n",
    "            start = 1\n",
    "\n",
    "        nn = len(info)\n",
    "        c1 = 0\n",
    "        zeros = []\n",
    "        for i in range(start, nn):\n",
    "            if info[i][1] == 1:\n",
    "                c1 += 1\n",
    "            else:\n",
    "                zeros.append(info[i][0])\n",
    "\n",
    "        zeros.sort()\n",
    "        zi = 0\n",
    "\n",
    "        cur = c1 * a\n",
    "        while c1 >= 2:\n",
    "            ncur = cur + zeros[zi] * b - a\n",
    "            if ncur < cur:\n",
    "                cur = ncur\n",
    "                zi += 1\n",
    "                c1 -= 1\n",
    "            else:\n",
    "                break\n",
    "\n",
    "        print(cur)"
   ]
  },
  {
   "cell_type": "markdown",
   "metadata": {},
   "source": [
    "https://codeforces.com/problemset/problem/1433/E E. Two Round Dances"
   ]
  },
  {
   "cell_type": "markdown",
   "metadata": {},
   "source": [
    "1.51 1.56"
   ]
  },
  {
   "cell_type": "code",
   "execution_count": null,
   "metadata": {},
   "outputs": [],
   "source": [
    "(2*n + 1)!/(n + 1)"
   ]
  },
  {
   "cell_type": "code",
   "execution_count": 26,
   "metadata": {},
   "outputs": [
    {
     "name": "stdout",
     "output_type": "stream",
     "text": [
      "6\n",
      "40\n"
     ]
    }
   ],
   "source": [
    "from math import factorial as fact\n",
    "\n",
    "n = int(input())\n",
    "\n",
    "n //= 2\n",
    "n -= 1\n",
    "\n",
    "r = fact(2 * n + 1) // (n + 1)\n",
    "\n",
    "print(r)"
   ]
  },
  {
   "cell_type": "code",
   "execution_count": 29,
   "metadata": {},
   "outputs": [
    {
     "name": "stdout",
     "output_type": "stream",
     "text": [
      "8\n",
      "1260\n"
     ]
    }
   ],
   "source": [
    "from math import factorial as fact\n",
    "\n",
    "def nCr(n, r):\n",
    "    if n - r < r:\n",
    "        r = n - r\n",
    "        \n",
    "    num = 1\n",
    "    for i in range(n, n - r, -1):\n",
    "        num *= i\n",
    "    \n",
    "    denom = 1\n",
    "    for i in range(2, r + 1):\n",
    "        denom *= i\n",
    "        \n",
    "    return num // denom\n",
    "\n",
    "n = int(input())\n",
    "\n",
    "half = n // 2\n",
    "\n",
    "r = nCr(n, half) * fact(half - 1) ** 2 // 2\n",
    "\n",
    "print(r)"
   ]
  },
  {
   "cell_type": "markdown",
   "metadata": {},
   "source": [
    "https://codeforces.com/problemset/problem/1425/H H. Huge Boxes of Animal Toys"
   ]
  },
  {
   "cell_type": "markdown",
   "metadata": {},
   "source": [
    "2.26 2.34"
   ]
  },
  {
   "cell_type": "code",
   "execution_count": null,
   "metadata": {},
   "outputs": [],
   "source": [
    "음수의 개수에 따라 최종 결과가 음수 또는 양수로 결정될 수밖에 없음\n",
    "\n",
    "-1,0  0,1이 하나라도 있으면 그걸 마지막에 곱해서 그렇게 만들 수 있고 다른 구간들도 똑같음"
   ]
  },
  {
   "cell_type": "code",
   "execution_count": 31,
   "metadata": {},
   "outputs": [
    {
     "name": "stdout",
     "output_type": "stream",
     "text": [
      "0 1 0 0\n",
      "Tidak Ya Tidak Tidak\n"
     ]
    }
   ],
   "source": [
    "import sys\n",
    "input = lambda: sys.stdin.readline().rstrip()\n",
    "\n",
    "for _ in range(int(input())):\n",
    "    a, b, c, d = map(int, input().split())\n",
    "\n",
    "    r = [True] * 4\n",
    "\n",
    "    if a == 0 and d == 0:\n",
    "        r[0] = r[3] = False\n",
    "    if b == 0 and c == 0:\n",
    "        r[1] = r[2] = False\n",
    "\n",
    "    if (a + b) % 2 == 1:\n",
    "        r[2] = r[3] = False\n",
    "    else:\n",
    "        r[0] = r[1] = False\n",
    "\n",
    "    for i in range(4):\n",
    "        if r[i]:\n",
    "            r[i] = 'Ya'\n",
    "        else:\n",
    "            r[i] = 'Tidak'\n",
    "\n",
    "    print(*r)"
   ]
  },
  {
   "cell_type": "markdown",
   "metadata": {},
   "source": [
    "https://codeforces.com/problemset/problem/1424/G G. Years"
   ]
  },
  {
   "cell_type": "markdown",
   "metadata": {},
   "source": [
    "2.35 2.44"
   ]
  },
  {
   "cell_type": "code",
   "execution_count": null,
   "metadata": {},
   "outputs": [],
   "source": [
    "from heapq import heappush, heappop\n",
    "import sys\n",
    "input = lambda: sys.stdin.readline().rstrip()\n",
    "\n",
    "n = int(input())\n",
    "li = [list(map(int, input().split())) for _ in range(n)]\n",
    "li.sort(key=lambda x: x[0])\n",
    "\n",
    "heap = []\n",
    "max_p = 0\n",
    "max_p_year = 0\n",
    "for s, e in li:\n",
    "    while heap and heap[0] <= s:\n",
    "        heappop(heap)\n",
    "\n",
    "    heappush(heap, e)\n",
    "\n",
    "    p = len(heap)\n",
    "    if p > max_p:\n",
    "        max_p = p\n",
    "        max_p_year = s\n",
    "\n",
    "print(max_p_year, max_p)"
   ]
  },
  {
   "cell_type": "markdown",
   "metadata": {},
   "source": [
    "https://codeforces.com/problemset/problem/1422/B B. Nice Matrix"
   ]
  },
  {
   "cell_type": "markdown",
   "metadata": {},
   "source": [
    "2.45 2.57"
   ]
  },
  {
   "cell_type": "code",
   "execution_count": 44,
   "metadata": {},
   "outputs": [
    {
     "name": "stdout",
     "output_type": "stream",
     "text": [
      "3 4\n",
      "1 2 3 4\n",
      "5 6 7 8\n",
      "9 10 11 18\n",
      "42\n"
     ]
    }
   ],
   "source": [
    "import sys\n",
    "input = lambda: sys.stdin.readline().rstrip()\n",
    "\n",
    "for _ in range(int(input())):\n",
    "    n, m = map(int, input().split())\n",
    "    li = [list(map(int, input().split())) for _ in range(n)]\n",
    "\n",
    "    vt = [[False] * m for _ in range(n)]\n",
    "\n",
    "    total = 0\n",
    "    for i in range(n):\n",
    "        for j in range(m):\n",
    "            if vt[i][j]:\n",
    "                continue\n",
    "\n",
    "            to_checks = {(i, j), (n - 1 - i, j), (n - 1 - i, m - 1 - j), (i, m - 1 - j)}\n",
    "            values = []\n",
    "            for ni, nj in to_checks:\n",
    "                vt[ni][nj] = True\n",
    "                values.append(li[ni][nj])\n",
    "\n",
    "            values.sort()\n",
    "            v_len = len(values)\n",
    "\n",
    "            mid = values[v_len // 2]\n",
    "            for v in values:\n",
    "                diff = abs(v - mid)\n",
    "                total += diff\n",
    "\n",
    "    print(total)"
   ]
  },
  {
   "cell_type": "markdown",
   "metadata": {},
   "source": [
    "https://codeforces.com/problemset/problem/1420/C1 C1. Pokémon Army (easy version)"
   ]
  },
  {
   "cell_type": "code",
   "execution_count": 48,
   "metadata": {},
   "outputs": [
    {
     "name": "stdout",
     "output_type": "stream",
     "text": [
      "7 0\n",
      "1 2 5 4 3 6 7\n",
      "9\n"
     ]
    }
   ],
   "source": [
    "import sys\n",
    "input = lambda: sys.stdin.readline().rstrip()\n",
    "\n",
    "for _ in range(int(input())):\n",
    "    n, q = map(int, input().split())\n",
    "    li = list(map(int, input().split()))\n",
    "\n",
    "    i = 0\n",
    "    cur = 0\n",
    "    max_r = 0\n",
    "    is_to_add = True\n",
    "    while True:\n",
    "        if is_to_add:\n",
    "            if i + 1 == n:\n",
    "                cur += li[i]\n",
    "                max_r = max(max_r, cur)\n",
    "                break\n",
    "            elif li[i] > li[i + 1]:\n",
    "                cur += li[i]\n",
    "                max_r = max(max_r, cur)\n",
    "                is_to_add = False\n",
    "                i += 1\n",
    "            elif li[i] <= li[i + 1]:\n",
    "                i += 1\n",
    "        else:\n",
    "            if i + 1 == n:\n",
    "                break\n",
    "            elif li[i] < li[i + 1]:\n",
    "                cur -= li[i]\n",
    "                is_to_add = True\n",
    "                i += 1\n",
    "            elif li[i] >= li[i + 1]:\n",
    "                i += 1\n",
    "\n",
    "    print(max_r)"
   ]
  },
  {
   "cell_type": "markdown",
   "metadata": {},
   "source": [
    "https://codeforces.com/problemset/problem/1418/B B. Negative Prefixes"
   ]
  },
  {
   "cell_type": "code",
   "execution_count": null,
   "metadata": {},
   "outputs": [],
   "source": [
    "import sys\n",
    "input = lambda: sys.stdin.readline().rstrip()\n",
    "\n",
    "for _ in range(int(input())):\n",
    "    n = int(input())\n",
    "    li = list(map(int, input().split()))\n",
    "    ls = list(map(int, input().split()))\n",
    "\n",
    "    temp = []\n",
    "    for i in range(n):\n",
    "        if ls[i] == 0:\n",
    "            temp.append(li[i])\n",
    "\n",
    "    temp.sort(reverse=True)\n",
    "\n",
    "    for i in range(n - 1, -1, -1):\n",
    "        if ls[i] == 0:\n",
    "            li[i] = temp.pop()\n",
    "\n",
    "    print(*li)"
   ]
  },
  {
   "cell_type": "markdown",
   "metadata": {},
   "source": [
    "https://codeforces.com/problemset/problem/1407/B B. Big Vova"
   ]
  },
  {
   "cell_type": "markdown",
   "metadata": {},
   "source": [
    "9.36"
   ]
  },
  {
   "cell_type": "code",
   "execution_count": 59,
   "metadata": {},
   "outputs": [
    {
     "name": "stdout",
     "output_type": "stream",
     "text": [
      "5\n",
      "2 4 8 16 17\n",
      "17 2 4 8 16\n"
     ]
    }
   ],
   "source": [
    "from math import gcd\n",
    "import \n",
    "\n",
    "for _ in range(int(input())):\n",
    "    n = int(input())\n",
    "    li = list(map(int, input().split()))\n",
    "\n",
    "    ct = [0] * 1001\n",
    "    for v in li:\n",
    "        ct[v] += 1\n",
    "\n",
    "    init = max(li)\n",
    "    ct[init] -= 1\n",
    "    result = [init]\n",
    "    cur = init\n",
    "    for _ in range(n - 1):\n",
    "        max_g = 0\n",
    "        max_g_num = -1\n",
    "        for num in range(1, 1001):\n",
    "            if ct[num]:\n",
    "                g = gcd(num, cur)\n",
    "\n",
    "                if g > max_g:\n",
    "                    max_g = g\n",
    "                    max_g_num = num\n",
    "\n",
    "        result.append(max_g_num)\n",
    "        ct[max_g_num] -= 1\n",
    "        cur = max_g\n",
    "\n",
    "    print(*result)"
   ]
  },
  {
   "cell_type": "markdown",
   "metadata": {},
   "source": [
    "https://codeforces.com/problemset/problem/1401/C C. Mere Array"
   ]
  },
  {
   "cell_type": "markdown",
   "metadata": {},
   "source": [
    "10:31 10:41 -1"
   ]
  },
  {
   "cell_type": "code",
   "execution_count": 5,
   "metadata": {},
   "outputs": [
    {
     "name": "stdout",
     "output_type": "stream",
     "text": [
      "6\n",
      "4 3 6 6 2 9\n",
      "YES\n"
     ]
    }
   ],
   "source": [
    "from math import gcd\n",
    "import sys\n",
    "input = lambda: sys.stdin.readline().rstrip()\n",
    "\n",
    "for _ in range(int(input())):\n",
    "    n = int(input())\n",
    "    li = list(map(int, input().split()))\n",
    "\n",
    "    min_v = min(li)\n",
    "\n",
    "    temp = []\n",
    "    for i in range(n):\n",
    "        if gcd(li[i], min_v) == min_v:\n",
    "            temp.append(li[i])\n",
    "\n",
    "    temp.sort()\n",
    "\n",
    "    for i in range(n - 1, -1, -1):\n",
    "        if gcd(li[i], min_v) == min_v:\n",
    "            li[i] = temp.pop()\n",
    "\n",
    "    if li == sorted(li):\n",
    "        print('YES')\n",
    "    else:\n",
    "        print('NO')"
   ]
  },
  {
   "cell_type": "markdown",
   "metadata": {},
   "source": [
    "https://codeforces.com/problemset/problem/1373/C C. Pluses and Minuses"
   ]
  },
  {
   "cell_type": "markdown",
   "metadata": {},
   "source": [
    "10.42 10.51"
   ]
  },
  {
   "cell_type": "code",
   "execution_count": 8,
   "metadata": {},
   "outputs": [
    {
     "name": "stdout",
     "output_type": "stream",
     "text": [
      "--+-\n",
      "7\n"
     ]
    }
   ],
   "source": [
    "import sys\n",
    "input = lambda: sys.stdin.readline().rstrip()\n",
    "\n",
    "for _ in range(int(input())):\n",
    "    s = input()\n",
    "    n = len(s)\n",
    "\n",
    "    total = 0\n",
    "    cur = 0\n",
    "    cur_min = 0\n",
    "    for i in range(n):\n",
    "        if s[i] == '-':\n",
    "            cur -= 1\n",
    "        else:\n",
    "            cur += 1\n",
    "\n",
    "        if cur < cur_min:\n",
    "            total += i + 1\n",
    "            cur_min = cur\n",
    "\n",
    "    total += n\n",
    "\n",
    "    print(total)"
   ]
  },
  {
   "cell_type": "markdown",
   "metadata": {},
   "source": [
    "https://codeforces.com/problemset/problem/1366/B B. Shuffle"
   ]
  },
  {
   "cell_type": "code",
   "execution_count": 9,
   "metadata": {},
   "outputs": [
    {
     "name": "stdout",
     "output_type": "stream",
     "text": [
      "3 3 2\n",
      "2 3\n",
      "1 2\n",
      "3\n"
     ]
    }
   ],
   "source": [
    "import sys\n",
    "input = lambda: sys.stdin.readline().rstrip()\n",
    "\n",
    "for _ in range(int(input())):\n",
    "    n, x, m = map(int, input().split())\n",
    "\n",
    "    cur_l = x\n",
    "    cur_r = x\n",
    "    for _ in range(m):\n",
    "        l, r = map(int, input().split())\n",
    "\n",
    "        if l <= cur_l <= r:\n",
    "            cur_l = min(cur_l, l)\n",
    "\n",
    "        if l <= cur_r <= r:\n",
    "            cur_r = max(cur_r, r)\n",
    "\n",
    "    print(cur_r - cur_l + 1)"
   ]
  },
  {
   "cell_type": "markdown",
   "metadata": {},
   "source": [
    "https://codeforces.com/problemset/problem/1360/E E. Polygon"
   ]
  },
  {
   "cell_type": "code",
   "execution_count": 13,
   "metadata": {},
   "outputs": [
    {
     "name": "stdout",
     "output_type": "stream",
     "text": [
      "2\n",
      "00\n",
      "00\n",
      "YES\n"
     ]
    }
   ],
   "source": [
    "import sys\n",
    "input = lambda: sys.stdin.readline().rstrip()\n",
    "\n",
    "def solve():\n",
    "    for i in range(n - 1):\n",
    "        for j in range(n - 1):\n",
    "            if li[i][j] and li[i + 1][j] == 0 and li[i][j + 1] == 0:\n",
    "                return False\n",
    "    return True\n",
    "\n",
    "for _ in range(int(input())):\n",
    "    n = int(input())\n",
    "    li = [list(map(int, input())) for _ in range(n)]\n",
    "\n",
    "    r = solve()\n",
    "\n",
    "    if r:\n",
    "        print('YES')\n",
    "    else:\n",
    "        print('NO')"
   ]
  },
  {
   "cell_type": "markdown",
   "metadata": {},
   "source": [
    "https://codeforces.com/problemset/problem/1360/D D. Buying Shovels"
   ]
  },
  {
   "cell_type": "code",
   "execution_count": 28,
   "metadata": {},
   "outputs": [
    {
     "name": "stdout",
     "output_type": "stream",
     "text": [
      "1\n",
      "10 2\n",
      "5\n"
     ]
    }
   ],
   "source": [
    "import sys\n",
    "# input = lambda: sys.stdin.readline().rstrip()\n",
    "\n",
    "for _ in range(int(input())):\n",
    "    n, k = map(int, input().split())\n",
    "\n",
    "    if n <= k:\n",
    "        print(1)\n",
    "    else:\n",
    "        min_r = n\n",
    "        for mod in range(1, int(n ** 0.5) + 1):\n",
    "            if n % mod == 0:\n",
    "                if n // mod <= k:\n",
    "                    min_r = min(min_r, mod)\n",
    "                if mod <= k:\n",
    "                    min_r = min(min_r, n // mod)\n",
    "\n",
    "        print(min_r)"
   ]
  },
  {
   "cell_type": "markdown",
   "metadata": {},
   "source": [
    "https://codeforces.com/problemset/problem/1341/B B. Nastya and Door"
   ]
  },
  {
   "cell_type": "code",
   "execution_count": 4,
   "metadata": {},
   "outputs": [
    {
     "name": "stdout",
     "output_type": "stream",
     "text": [
      "7 5\n",
      "1 2 3 4 5 6 1\n",
      "2 3\n"
     ]
    }
   ],
   "source": [
    "import sys\n",
    "input = lambda: sys.stdin.readline().rstrip()\n",
    "\n",
    "for _ in range(int(input())):\n",
    "    n, k = map(int, input().split())\n",
    "    li = list(map(int, input().split()))\n",
    "\n",
    "    is_peak = [False] * n\n",
    "    for i in range(1, n - 1):\n",
    "        if li[i - 1] < li[i] and li[i + 1] < li[i]:\n",
    "            is_peak[i] = True\n",
    "\n",
    "    s_is_peak = [0] * (n + 1)\n",
    "    cumul = 0\n",
    "    for i in range(n):\n",
    "        cumul += is_peak[i]\n",
    "        s_is_peak[i + 1] = cumul\n",
    "\n",
    "    max_r = -1\n",
    "    max_r_i = -1\n",
    "    for start in range(n - k + 1):\n",
    "        end = start + k - 1\n",
    "\n",
    "        start += 1\n",
    "        end -= 1\n",
    "\n",
    "        temp = s_is_peak[end + 1] - s_is_peak[start]\n",
    "        if temp > max_r:\n",
    "            max_r = temp\n",
    "            max_r_i = start - 1\n",
    "\n",
    "    print(max_r + 1, max_r_i + 1)"
   ]
  },
  {
   "cell_type": "markdown",
   "metadata": {},
   "source": [
    "https://codeforces.com/problemset/problem/1335/D D. Anti-Sudoku"
   ]
  },
  {
   "cell_type": "code",
   "execution_count": null,
   "metadata": {},
   "outputs": [],
   "source": [
    "import sys\n",
    "input = lambda: sys.stdin.readline().rstrip()\n",
    "\n",
    "for _ in range(int(input())):\n",
    "    li = [list(map(int, input())) for _ in range(9)]\n",
    "\n",
    "    li[0][0] = li[0][1]\n",
    "    li[1][3] = li[1][4]\n",
    "    li[2][6] = li[2][7]\n",
    "\n",
    "    li[3][1] = li[3][2]\n",
    "    li[4][4] = li[4][5]\n",
    "    li[5][7] = li[5][8]\n",
    "\n",
    "    li[6][2] = li[6][1]\n",
    "    li[7][5] = li[7][4]\n",
    "    li[8][8] = li[8][7]\n",
    "\n",
    "    for v in li:\n",
    "        print(''.join(map(str, v)))"
   ]
  },
  {
   "cell_type": "markdown",
   "metadata": {},
   "source": [
    "https://codeforces.com/problemset/problem/1328/B B. K-th Beautiful String"
   ]
  },
  {
   "cell_type": "code",
   "execution_count": 12,
   "metadata": {},
   "outputs": [
    {
     "name": "stdout",
     "output_type": "stream",
     "text": [
      "5 1\n",
      "aaabb\n"
     ]
    }
   ],
   "source": [
    "import sys\n",
    "input = lambda: sys.stdin.readline().rstrip()\n",
    "\n",
    "for _ in range(int(input())):\n",
    "    n, k = map(int, input().split())\n",
    "\n",
    "    r = ['a'] * n\n",
    "\n",
    "    left_b = 1\n",
    "    cumul = 0\n",
    "    while True:\n",
    "        cumul += left_b\n",
    "\n",
    "        if k <= cumul:\n",
    "            right_b = cumul - k\n",
    "            break\n",
    "\n",
    "        left_b += 1\n",
    "\n",
    "    left_po = n - (left_b + 1) \n",
    "    r[left_po] = 'b'\n",
    "\n",
    "    right_po = left_po + right_b + 1\n",
    "    r[right_po] = 'b'\n",
    "\n",
    "    print(''.join(r))"
   ]
  },
  {
   "cell_type": "markdown",
   "metadata": {},
   "source": [
    "https://codeforces.com/problemset/problem/1326/C C. Permutation Partitions"
   ]
  },
  {
   "cell_type": "code",
   "execution_count": 17,
   "metadata": {},
   "outputs": [
    {
     "name": "stdout",
     "output_type": "stream",
     "text": [
      "7 3\n",
      "2 7 3 1 5 4 6\n",
      "18 6\n"
     ]
    }
   ],
   "source": [
    "mod = 998244353\n",
    "\n",
    "n, k = map(int, input().split())\n",
    "li = list(map(int, input().split()))\n",
    "\n",
    "max_r = 0\n",
    "for num in range(n, n - k, -1):\n",
    "    max_r += num\n",
    "\n",
    "cris = []\n",
    "for i in range(n):\n",
    "    if li[i] > n - k:\n",
    "        cris.append(i)\n",
    "        \n",
    "case_r = 1\n",
    "for i in range(len(cris) - 1):\n",
    "    diff = cris[i + 1] - cris[i]\n",
    "    \n",
    "    if diff >= 2:\n",
    "        case_r *= diff\n",
    "        case_r %= mod\n",
    "        \n",
    "print(max_r, case_r)"
   ]
  },
  {
   "cell_type": "markdown",
   "metadata": {},
   "source": [
    "https://codeforces.com/problemset/problem/1322/A A. Unusual Competitions"
   ]
  },
  {
   "cell_type": "markdown",
   "metadata": {},
   "source": [
    "6.30 6.42"
   ]
  },
  {
   "cell_type": "code",
   "execution_count": 32,
   "metadata": {},
   "outputs": [
    {
     "name": "stdout",
     "output_type": "stream",
     "text": [
      "8\n",
      "))((())(\n",
      "6\n"
     ]
    }
   ],
   "source": [
    "n = int(input())\n",
    "s = input()\n",
    "\n",
    "open_c = 0\n",
    "close_c = 0\n",
    "seq_len = 0\n",
    "total = 0\n",
    "for v in s:\n",
    "    if v == '(':\n",
    "        open_c += 1\n",
    "    else:\n",
    "        close_c += 1\n",
    "            \n",
    "    if open_c < close_c:\n",
    "        seq_len += 1\n",
    "    elif open_c == close_c:\n",
    "        if seq_len >= 1:\n",
    "            total += seq_len + 1\n",
    "        seq_len = 0\n",
    "        \n",
    "if open_c != close_c:\n",
    "    print(-1)\n",
    "else:\n",
    "    print(total)"
   ]
  },
  {
   "cell_type": "markdown",
   "metadata": {},
   "source": [
    "https://codeforces.com/problemset/problem/1315/B B. Homecoming"
   ]
  },
  {
   "cell_type": "markdown",
   "metadata": {},
   "source": [
    "2.47 2.57"
   ]
  },
  {
   "cell_type": "code",
   "execution_count": 5,
   "metadata": {},
   "outputs": [
    {
     "name": "stdout",
     "output_type": "stream",
     "text": [
      "2 1 1\n",
      "ABABAB\n",
      "6\n"
     ]
    }
   ],
   "source": [
    "import sys\n",
    "input = lambda: sys.stdin.readline().rstrip()\n",
    "\n",
    "for _ in range(int(input())):\n",
    "    a, b, p = map(int, input().split())\n",
    "    s = input()\n",
    "\n",
    "    s_len = len(s)\n",
    "\n",
    "    result = 1\n",
    "    f_used = ''\n",
    "    for i in range(s_len - 1, 0, -1):\n",
    "        if s[i - 1] == f_used:\n",
    "            continue\n",
    "        else:\n",
    "            f_used = s[i - 1]\n",
    "            if s[i - 1] == 'A':\n",
    "                p -= a\n",
    "            else:\n",
    "                p -= b\n",
    "\n",
    "            if p < 0:\n",
    "                result = i + 1\n",
    "                break\n",
    "\n",
    "    print(result)"
   ]
  },
  {
   "cell_type": "markdown",
   "metadata": {},
   "source": [
    "https://codeforces.com/problemset/problem/1294/C C. Product of Three Numbers"
   ]
  },
  {
   "cell_type": "markdown",
   "metadata": {},
   "source": [
    "2.58 3.23 반례"
   ]
  },
  {
   "cell_type": "code",
   "execution_count": null,
   "metadata": {},
   "outputs": [],
   "source": [
    "2 ** 2 3 ** 2 5 ** 2 o\n",
    "2 3 5 o\n",
    "\n",
    "2 3 x\n",
    "2 ** 2 3 x\n",
    "2 ** 2 3 ** 2 o\n",
    "2 ** 3 3 o\n",
    "\n",
    "2 x\n",
    "2 ** 2 x\n",
    "2 ** 3 x\n",
    "2 ** 4 x\n",
    "2 ** 5 x\n",
    "2 ** 6 == 2 ** 1 * 2 ** 2 * 2 ** 3 o"
   ]
  },
  {
   "cell_type": "code",
   "execution_count": 35,
   "metadata": {},
   "outputs": [
    {
     "name": "stdout",
     "output_type": "stream",
     "text": [
      "YES\n",
      "4 2 3 24 24\n",
      "YES\n",
      "2 3 5 30 30\n",
      "YES\n",
      "2 3 6 36 36\n",
      "YES\n",
      "4 2 5 40 40\n",
      "YES\n",
      "2 3 7 42 42\n",
      "YES\n",
      "4 2 6 48 48\n",
      "YES\n",
      "9 3 2 54 54\n",
      "YES\n",
      "4 2 7 56 56\n",
      "YES\n",
      "2 3 10 60 60\n",
      "YES\n",
      "2 4 8 64 64\n",
      "YES\n",
      "2 3 11 66 66\n",
      "YES\n",
      "2 5 7 70 70\n",
      "YES\n",
      "4 2 9 72 72\n",
      "YES\n",
      "2 3 13 78 78\n",
      "YES\n",
      "4 2 10 80 80\n",
      "YES\n",
      "2 3 14 84 84\n",
      "YES\n",
      "4 2 11 88 88\n",
      "YES\n",
      "3 2 15 90 90\n",
      "YES\n",
      "4 2 12 96 96\n",
      "YES\n",
      "2 5 10 100 100\n",
      "YES\n",
      "2 3 17 102 102\n",
      "YES\n",
      "4 2 13 104 104\n",
      "YES\n",
      "3 5 7 105 105\n",
      "YES\n",
      "9 3 4 108 108\n",
      "YES\n",
      "2 5 11 110 110\n",
      "YES\n",
      "4 2 14 112 112\n",
      "YES\n",
      "2 3 19 114 114\n",
      "YES\n",
      "2 3 20 120 120\n",
      "YES\n",
      "3 2 21 126 126\n",
      "YES\n",
      "2 4 16 128 128\n",
      "YES\n",
      "2 5 13 130 130\n",
      "YES\n",
      "2 3 22 132 132\n",
      "YES\n",
      "9 3 5 135 135\n",
      "YES\n",
      "4 2 17 136 136\n",
      "YES\n",
      "2 3 23 138 138\n",
      "YES\n",
      "2 5 14 140 140\n",
      "YES\n",
      "4 2 18 144 144\n",
      "YES\n",
      "5 2 15 150 150\n",
      "YES\n",
      "4 2 19 152 152\n",
      "YES\n",
      "2 7 11 154 154\n",
      "YES\n",
      "2 3 26 156 156\n",
      "YES\n",
      "4 2 20 160 160\n",
      "YES\n",
      "9 3 6 162 162\n",
      "YES\n",
      "3 5 11 165 165\n",
      "YES\n",
      "2 3 28 168 168\n",
      "YES\n",
      "2 5 17 170 170\n",
      "YES\n",
      "2 3 29 174 174\n",
      "YES\n",
      "4 2 22 176 176\n",
      "YES\n",
      "2 3 30 180 180\n",
      "YES\n",
      "2 7 13 182 182\n",
      "YES\n",
      "4 2 23 184 184\n",
      "YES\n",
      "2 3 31 186 186\n",
      "YES\n",
      "9 3 7 189 189\n",
      "YES\n",
      "2 5 19 190 190\n",
      "YES\n",
      "4 2 24 192 192\n",
      "YES\n",
      "3 5 13 195 195\n",
      "YES\n",
      "2 7 14 196 196\n",
      "YES\n",
      "3 2 33 198 198\n"
     ]
    }
   ],
   "source": [
    "import sys\n",
    "# input = lambda: sys.stdin.readline().rstrip()\n",
    "\n",
    "for n in range(2, 200):\n",
    "#     n = int(input())\n",
    "\n",
    "    ct = []\n",
    "    num = n\n",
    "    for mod in range(2, int(num ** 0.5) + 1):\n",
    "        c = 0\n",
    "        while num % mod == 0:\n",
    "            num //= mod\n",
    "            c += 1\n",
    "\n",
    "        if c:\n",
    "            ct.append((c, mod))\n",
    "\n",
    "    if num != 1:\n",
    "        ct.append((1, num))\n",
    "\n",
    "    ct.sort(key=lambda x: -x[0])\n",
    "\n",
    "    if len(ct) >= 3:\n",
    "        print('YES')\n",
    "        a = ct[0][1]\n",
    "        b = ct[1][1]\n",
    "        c = n // (a * b)\n",
    "\n",
    "        print(a, b, c, n, a * b * c)\n",
    "    elif len(ct) == 2:\n",
    "        if ct[0][0] >= 3:\n",
    "            print('YES')\n",
    "            a = ct[0][1] ** 2\n",
    "            b = ct[0][1]\n",
    "            c = n // (a * b)\n",
    "\n",
    "            print(a, b, c, n, a * b * c)\n",
    "        elif ct[0][0] >= 2 and ct[1][0] >= 2:\n",
    "            print('YES')\n",
    "            a = ct[0][1]\n",
    "            b = ct[1][1]\n",
    "            c = n // (a * b)\n",
    "\n",
    "            print(a, b, c, n, a * b * c)\n",
    "#         else:\n",
    "#             print('NO')\n",
    "    elif len(ct) == 1:\n",
    "        if ct[0][0] >= 6:\n",
    "            print('YES')\n",
    "            a = ct[0][1]\n",
    "            b = ct[0][1] ** 2\n",
    "            c = n // (a * b)\n",
    "\n",
    "            print(a, b, c, n, a * b * c)\n",
    "#         else:\n",
    "#             print('NO')"
   ]
  },
  {
   "cell_type": "markdown",
   "metadata": {},
   "source": [
    "https://codeforces.com/problemset/problem/1291/B B. Array Sharpening"
   ]
  },
  {
   "cell_type": "markdown",
   "metadata": {},
   "source": [
    "3.27 3.39"
   ]
  },
  {
   "cell_type": "code",
   "execution_count": null,
   "metadata": {},
   "outputs": [],
   "source": [
    "1 1 5 1 5\n",
    "\n",
    "0 1 2 3 4\n",
    "0 1 2 1 0\n",
    "4 3 2 1 0\n",
    "\n",
    "0 1 2 3 4 5\n",
    "5 4 3 2 1 0\n",
    "0 1 2 3 1 0\n",
    "0 1 3 2 1 0"
   ]
  },
  {
   "cell_type": "code",
   "execution_count": 37,
   "metadata": {},
   "outputs": [
    {
     "name": "stdout",
     "output_type": "stream",
     "text": [
      "2\n",
      "1 1\n",
      "Yes\n"
     ]
    }
   ],
   "source": [
    "import sys\n",
    "input = lambda: sys.stdin.readline().rstrip()\n",
    "\n",
    "for _ in range(int(input())):\n",
    "    n = int(input())\n",
    "    li = list(map(int, input().split()))\n",
    "\n",
    "    if n % 2 == 1:\n",
    "        ip = True\n",
    "        for i in range(n // 2):\n",
    "            if li[i] < i or li[n - 1 - i] < i:\n",
    "                ip = False\n",
    "                break\n",
    "        if li[n // 2] < n // 2:\n",
    "            ip = False\n",
    "\n",
    "        if ip:\n",
    "            print('Yes')\n",
    "        else:\n",
    "            print('No')\n",
    "    else:\n",
    "        ip = True\n",
    "        for i in range(n // 2):\n",
    "            if li[i] < i or li[n - 1 - i] < i:\n",
    "                ip = False\n",
    "                break\n",
    "\n",
    "        mid_left = n // 2 - 1\n",
    "        mid_right = mid_left + 1\n",
    "\n",
    "        min_cri = n // 2 - 1\n",
    "\n",
    "        if not (li[mid_left] >= min_cri and li[mid_right] >= min_cri + 1 or li[mid_left] >= min_cri + 1 and li[mid_right] >= min_cri):\n",
    "            ip = False\n",
    "\n",
    "        if ip:\n",
    "            print('Yes')\n",
    "        else:\n",
    "            print('No')"
   ]
  },
  {
   "cell_type": "markdown",
   "metadata": {},
   "source": [
    "https://codeforces.com/problemset/problem/1535/C C. Unstable String"
   ]
  },
  {
   "cell_type": "code",
   "execution_count": 16,
   "metadata": {},
   "outputs": [
    {
     "name": "stdout",
     "output_type": "stream",
     "text": [
      "0?10\n",
      "8\n"
     ]
    }
   ],
   "source": [
    "from collections import defaultdict as dd\n",
    "import sys\n",
    "input = lambda: sys.stdin.readline().rstrip()\n",
    "\n",
    "for _ in range(int(input())):\n",
    "    s = input()\n",
    "    n = len(s)\n",
    "\n",
    "    total = 0\n",
    "    end = -1\n",
    "    sts = [set(), set()]\n",
    "    cts = [dd(int), dd(int)]\n",
    "    for start in range(n):\n",
    "        while end + 1 < n:\n",
    "            n_end = end + 1\n",
    "\n",
    "            tp = n_end % 2\n",
    "            cts[tp][s[n_end]] += 1\n",
    "            if cts[tp][s[n_end]] == 1:\n",
    "                sts[tp].add(s[n_end])\n",
    "\n",
    "            if '0' in sts[tp] and '1' in sts[tp] or (s[n_end] != '?' and s[n_end] in sts[tp ^ 1]):\n",
    "                cts[tp][s[n_end]] -= 1\n",
    "                if cts[tp][s[n_end]] == 0:\n",
    "                    sts[tp].discard(s[n_end])\n",
    "                break\n",
    "            end = n_end\n",
    "\n",
    "        total += end - start + 1\n",
    "        stp = start % 2\n",
    "        cts[stp][s[start]] -= 1\n",
    "        if cts[stp][s[start]] == 0:\n",
    "            sts[stp].discard(s[start])\n",
    "\n",
    "    print(total)"
   ]
  },
  {
   "cell_type": "markdown",
   "metadata": {},
   "source": [
    "https://codeforces.com/problemset/problem/1526/B B. I Hate 1111"
   ]
  },
  {
   "cell_type": "code",
   "execution_count": 38,
   "metadata": {},
   "outputs": [
    {
     "data": {
      "text/plain": [
       "True"
      ]
     },
     "execution_count": 38,
     "metadata": {},
     "output_type": "execute_result"
    }
   ],
   "source": [
    "1111 == 11 * 100 + 11"
   ]
  },
  {
   "cell_type": "code",
   "execution_count": 31,
   "metadata": {},
   "outputs": [
    {
     "data": {
      "text/plain": [
       "True"
      ]
     },
     "execution_count": 31,
     "metadata": {},
     "output_type": "execute_result"
    }
   ],
   "source": [
    "11111 == 111 * 100 + 11"
   ]
  },
  {
   "cell_type": "code",
   "execution_count": 37,
   "metadata": {},
   "outputs": [
    {
     "data": {
      "text/plain": [
       "True"
      ]
     },
     "execution_count": 37,
     "metadata": {},
     "output_type": "execute_result"
    }
   ],
   "source": [
    "111111 == 1111 * 100 + 11"
   ]
  },
  {
   "cell_type": "code",
   "execution_count": null,
   "metadata": {},
   "outputs": [],
   "source": [
    "11x + 111y == n"
   ]
  },
  {
   "cell_type": "code",
   "execution_count": 64,
   "metadata": {},
   "outputs": [
    {
     "name": "stdout",
     "output_type": "stream",
     "text": [
      "YES\n"
     ]
    }
   ],
   "source": [
    "import sys\n",
    "input = lambda: sys.stdin.readline().rstrip()\n",
    "\n",
    "for _ in range(int(input())):\n",
    "    n = int(input())\n",
    "\n",
    "    ip = False\n",
    "    for y in range(20):\n",
    "        if 111 * y > n:\n",
    "            break\n",
    "        remained = n - 111 * y\n",
    "        if remained % 11 == 0:\n",
    "            ip = True\n",
    "            break\n",
    "\n",
    "    if ip:\n",
    "        print('YES')\n",
    "    else:\n",
    "        print('NO')"
   ]
  },
  {
   "cell_type": "markdown",
   "metadata": {},
   "source": [
    "https://codeforces.com/problemset/problem/1519/C C. Berland Regional"
   ]
  },
  {
   "cell_type": "code",
   "execution_count": 1,
   "metadata": {},
   "outputs": [
    {
     "name": "stdout",
     "output_type": "stream",
     "text": [
      "7\n",
      "1 2 1 2 1 2 1\n",
      "6 8 3 1 5 1 5\n",
      "29 28 26 19 0 0 0\n"
     ]
    }
   ],
   "source": [
    "from collections import defaultdict as dd\n",
    "import sys\n",
    "input = lambda: sys.stdin.readline().rstrip()\n",
    "\n",
    "for _ in range(int(input())):\n",
    "    n = int(input())\n",
    "    us = list(map(int, input().split()))\n",
    "    ss = list(map(int, input().split()))\n",
    "\n",
    "    d = dd(list)\n",
    "    for i in range(n):\n",
    "        d[us[i]].append(ss[i])\n",
    "\n",
    "    result = [0] * n\n",
    "    for key in d:\n",
    "        d[key].sort()\n",
    "\n",
    "        length = len(d[key])\n",
    "        prefix = [0] * length\n",
    "        cumul = 0\n",
    "        for i in range(length):\n",
    "            cumul += d[key][i]\n",
    "            prefix[i] = cumul\n",
    "\n",
    "        sv = prefix[-1]\n",
    "        for size in range(1, length + 1):\n",
    "            remained = length % size\n",
    "            if remained == 0:\n",
    "                result[size - 1] += sv\n",
    "            else:\n",
    "                result[size - 1] += sv - prefix[remained - 1]\n",
    "\n",
    "    print(*result)"
   ]
  },
  {
   "cell_type": "markdown",
   "metadata": {},
   "source": [
    "https://codeforces.com/problemset/problem/1515/C C. Phoenix and Towers"
   ]
  },
  {
   "cell_type": "code",
   "execution_count": 4,
   "metadata": {},
   "outputs": [
    {
     "name": "stdout",
     "output_type": "stream",
     "text": [
      "4 3 3\n",
      "1 1 2 3\n",
      "YES\n",
      "1 2 3 1\n"
     ]
    }
   ],
   "source": [
    "import sys\n",
    "input = lambda: sys.stdin.readline().rstrip()\n",
    "\n",
    "for _ in range(int(input())):\n",
    "    n, m, x = map(int, input().split())\n",
    "    li = list(map(int, input().split()))\n",
    "\n",
    "    li = [(v, i) for i, v in enumerate(li)]\n",
    "    li.sort(key=lambda x: x[0])\n",
    "\n",
    "    result = [0] * n\n",
    "\n",
    "    for i in range(n):\n",
    "        cur_tow = i % m + 1\n",
    "\n",
    "        result[li[i][1]] = cur_tow\n",
    "\n",
    "    print('YES')\n",
    "    print(*result)"
   ]
  },
  {
   "cell_type": "code",
   "execution_count": null,
   "metadata": {},
   "outputs": [],
   "source": [
    "a b c d e\n",
    "\n",
    "1 1 2 "
   ]
  },
  {
   "cell_type": "markdown",
   "metadata": {},
   "source": [
    "https://codeforces.com/problemset/problem/1513/B B. AND Sequences"
   ]
  },
  {
   "cell_type": "code",
   "execution_count": 79,
   "metadata": {},
   "outputs": [
    {
     "name": "stdout",
     "output_type": "stream",
     "text": [
      "3\n",
      "1 1 1\n",
      "6\n"
     ]
    }
   ],
   "source": [
    "import sys\n",
    "input = lambda: sys.stdin.readline().rstrip()\n",
    "\n",
    "mod = int(1e9) + 7\n",
    "\n",
    "for _ in range(int(input())):\n",
    "    n = int(input())\n",
    "    li = list(map(int, input().split()))\n",
    "\n",
    "    cur = li[0]\n",
    "    for i in range(1, n):\n",
    "        cur &= li[i]\n",
    "\n",
    "    c0 = 0\n",
    "    c1 = 0\n",
    "    for i in range(n):\n",
    "        li[i] -= cur\n",
    "        if li[i] == 0:\n",
    "            c0 += 1\n",
    "        else:\n",
    "            c1 += 1\n",
    "\n",
    "    if c0 <= 1:\n",
    "        print(0)\n",
    "    else:\n",
    "        r = c0 * (c0 - 1) % mod\n",
    "        for num in range(1, n - 1):\n",
    "            r *= num\n",
    "            r %= mod\n",
    "\n",
    "        print(r)"
   ]
  },
  {
   "cell_type": "code",
   "execution_count": 71,
   "metadata": {},
   "outputs": [
    {
     "data": {
      "text/plain": [
       "0"
      ]
     },
     "execution_count": 71,
     "metadata": {},
     "output_type": "execute_result"
    }
   ],
   "source": [
    "1 & 12320"
   ]
  },
  {
   "cell_type": "code",
   "execution_count": 65,
   "metadata": {},
   "outputs": [
    {
     "data": {
      "text/plain": [
       "1073741824"
      ]
     },
     "execution_count": 65,
     "metadata": {},
     "output_type": "execute_result"
    }
   ],
   "source": [
    "2 ** 30"
   ]
  },
  {
   "cell_type": "code",
   "execution_count": 66,
   "metadata": {},
   "outputs": [
    {
     "data": {
      "text/plain": [
       "1000000000.0"
      ]
     },
     "execution_count": 66,
     "metadata": {},
     "output_type": "execute_result"
    }
   ],
   "source": [
    "1e9"
   ]
  },
  {
   "cell_type": "markdown",
   "metadata": {},
   "source": [
    "https://codeforces.com/problemset/problem/1506/D D. Epic Transformation"
   ]
  },
  {
   "cell_type": "markdown",
   "metadata": {},
   "source": [
    "12.25 12.31"
   ]
  },
  {
   "cell_type": "code",
   "execution_count": 85,
   "metadata": {},
   "outputs": [
    {
     "name": "stdout",
     "output_type": "stream",
     "text": [
      "6\n",
      "1 6 1 1 4 4\n",
      "0\n"
     ]
    }
   ],
   "source": [
    "from collections import defaultdict as dd\n",
    "import sys\n",
    "input = lambda: sys.stdin.readline().rstrip()\n",
    "\n",
    "for _ in range(int(input())):\n",
    "    n = int(input())\n",
    "    li = list(map(int, input().split()))\n",
    "\n",
    "    d = dd(int)\n",
    "    for v in li:\n",
    "        d[str(v)] += 1\n",
    "\n",
    "    cts = sorted(d.values())\n",
    "\n",
    "    max_ct = cts.pop()\n",
    "    if not cts:\n",
    "        print(max_ct)\n",
    "    else:\n",
    "        left = sum(cts)\n",
    "\n",
    "        if max_ct <= left:\n",
    "            if n % 2 == 0:\n",
    "                print(0)\n",
    "            else:\n",
    "                print(1)\n",
    "        else:\n",
    "            diff = max_ct - left\n",
    "\n",
    "            print(diff)"
   ]
  },
  {
   "cell_type": "markdown",
   "metadata": {},
   "source": [
    "https://codeforces.com/problemset/problem/1494/B B. Berland Crossword"
   ]
  },
  {
   "cell_type": "markdown",
   "metadata": {},
   "source": [
    "12.32 12.57"
   ]
  },
  {
   "cell_type": "code",
   "execution_count": 90,
   "metadata": {},
   "outputs": [
    {
     "name": "stdout",
     "output_type": "stream",
     "text": [
      "5 2 5 3 1\n",
      "YES\n"
     ]
    }
   ],
   "source": [
    "from itertools import product\n",
    "import sys\n",
    "input = lambda: sys.stdin.readline().rstrip()\n",
    "\n",
    "def check(u, r, d, l, case):\n",
    "    if case[0] == 1:\n",
    "        u -= 1\n",
    "        l -= 1\n",
    "    if case[1] == 1:\n",
    "        u -= 1\n",
    "        r -= 1\n",
    "    if case[2] == 1:\n",
    "        d -= 1\n",
    "        l -= 1\n",
    "    if case[3] == 1:\n",
    "        d -= 1\n",
    "        r -= 1\n",
    "        \n",
    "    if u < 0 or d < 0 or l < 0 or r < 0:\n",
    "        return False\n",
    "    if u > n - 2 or d > n - 2 or l > n - 2 or r > n - 2:\n",
    "        return False\n",
    "    return True\n",
    "\n",
    "for _ in range(int(input())):\n",
    "    n, u, r, d, l = map(int, input().split())\n",
    "\n",
    "    ip = False\n",
    "    for case in product(*[range(2)] * 4):\n",
    "        if check(u, r, d, l, case):\n",
    "            ip = True\n",
    "            break\n",
    "\n",
    "    if ip:\n",
    "        print('YES')\n",
    "    else:\n",
    "        print('NO')"
   ]
  },
  {
   "cell_type": "markdown",
   "metadata": {},
   "source": [
    "https://codeforces.com/problemset/problem/1490/E E. Accidental Victory"
   ]
  },
  {
   "cell_type": "markdown",
   "metadata": {},
   "source": [
    "12.58 1.15 - 1"
   ]
  },
  {
   "cell_type": "code",
   "execution_count": 100,
   "metadata": {},
   "outputs": [
    {
     "name": "stdout",
     "output_type": "stream",
     "text": [
      "1\n",
      "4\n",
      "1 2 4 3\n",
      "3\n",
      "2 3 4\n"
     ]
    }
   ],
   "source": [
    "import sys\n",
    "input = lambda: sys.stdin.readline().rstrip()\n",
    "\n",
    "for _ in range(int(input())):\n",
    "    n = int(input())\n",
    "    li = list(map(int, input().split()))\n",
    "\n",
    "    li = [(v, i) for i, v in enumerate(li)]\n",
    "    li.sort(key=lambda x: x[0])\n",
    "\n",
    "    can_win = [False] * n\n",
    "    can_win[n - 1] = True\n",
    "\n",
    "    cumul = 0\n",
    "    for i in range(n - 1):\n",
    "        cumul += li[i][0]\n",
    "        if cumul >= li[i + 1][0]:\n",
    "            can_win[i] = True\n",
    "\n",
    "    cur_num = -1\n",
    "    winners = []\n",
    "    for i in range(n - 1, -1, -1):\n",
    "        if can_win[i]:\n",
    "            cur_win_num = li[i][0]\n",
    "            winners.append(li[i][1] + 1)\n",
    "        else:\n",
    "            if li[i][0] == cur_win_num:\n",
    "                winners.append(li[i][1] + 1)\n",
    "            else:\n",
    "                break\n",
    "\n",
    "    winners.sort()\n",
    "\n",
    "    print(len(winners))\n",
    "    print(*winners)"
   ]
  },
  {
   "cell_type": "markdown",
   "metadata": {},
   "source": [
    "https://codeforces.com/problemset/problem/1475/C C. Ball in Berland"
   ]
  },
  {
   "cell_type": "markdown",
   "metadata": {},
   "source": [
    "2.31 2.41"
   ]
  },
  {
   "cell_type": "code",
   "execution_count": null,
   "metadata": {},
   "outputs": [],
   "source": [
    "남자 번호1, 여자 번호 2면 답 += 전체 경우 - 해당 쌍 제외 남자 번호 1인 경우 - 해당 쌍 제외 여자 번호 2인 경우\n",
    "\n",
    "답 //= 2"
   ]
  },
  {
   "cell_type": "code",
   "execution_count": 104,
   "metadata": {},
   "outputs": [
    {
     "name": "stdout",
     "output_type": "stream",
     "text": [
      "1 1 1\n",
      "1\n",
      "1\n",
      "0\n"
     ]
    }
   ],
   "source": [
    "from collections import defaultdict as dd\n",
    "import sys\n",
    "input = lambda: sys.stdin.readline().rstrip()\n",
    "\n",
    "for _ in range(int(input())):\n",
    "    a, b, k = map(int, input().split())\n",
    "    aa = list(map(int, input().split()))\n",
    "    bb = list(map(int, input().split()))\n",
    "\n",
    "    if k == 1:\n",
    "        print(0)\n",
    "    else:\n",
    "        act = dd(int)\n",
    "        bct = dd(int)\n",
    "\n",
    "        for v in aa:\n",
    "            act[str(v)] += 1\n",
    "\n",
    "        for v in bb:\n",
    "            bct[str(v)] += 1\n",
    "\n",
    "        total = 0\n",
    "        for i in range(k):\n",
    "            temp = k - 1\n",
    "\n",
    "            same_a = act[str(aa[i])] - 1\n",
    "            same_b = bct[str(bb[i])] - 1\n",
    "\n",
    "            total += temp - same_a - same_b\n",
    "\n",
    "        total //= 2\n",
    "\n",
    "        print(total)"
   ]
  },
  {
   "cell_type": "markdown",
   "metadata": {},
   "source": [
    "https://codeforces.com/problemset/problem/1468/C C. Berpizza"
   ]
  },
  {
   "cell_type": "markdown",
   "metadata": {},
   "source": [
    "2.42 2.52"
   ]
  },
  {
   "cell_type": "code",
   "execution_count": 107,
   "metadata": {},
   "outputs": [
    {
     "name": "stdout",
     "output_type": "stream",
     "text": [
      "8\n",
      "1 8\n",
      "1 10\n",
      "1 6\n",
      "3\n",
      "2\n",
      "2\n",
      "1\n",
      "1 9\n",
      "2\n",
      "3\n",
      "3\n",
      "4\n"
     ]
    }
   ],
   "source": [
    "from heapq import heappush, heappop\n",
    "from collections import deque\n",
    "import sys\n",
    "input = lambda: sys.stdin.readline().rstrip()\n",
    "\n",
    "q = int(input())\n",
    "\n",
    "vt = set()\n",
    "mono = deque()\n",
    "poly = []\n",
    "nxt = 1\n",
    "result = []\n",
    "for _ in range(q):\n",
    "    qu = list(map(int, input().split()))\n",
    "    \n",
    "    tp = qu[0]\n",
    "    if tp == 1:\n",
    "        money = qu[1]\n",
    "        mono.append(nxt)\n",
    "        heappush(poly, (-money, nxt))\n",
    "        nxt += 1\n",
    "    elif tp == 2:\n",
    "        while mono:\n",
    "            if mono[0] in vt:\n",
    "                mono.popleft()\n",
    "            else:\n",
    "                cur = mono.popleft()\n",
    "                vt.add(cur)\n",
    "                \n",
    "                result.append(cur)\n",
    "                break\n",
    "    else:\n",
    "        while poly:\n",
    "            if poly[0][1] in vt:\n",
    "                heappop(poly)\n",
    "            else:\n",
    "                m, cur = heappop(poly)\n",
    "                vt.add(cur)\n",
    "                \n",
    "                result.append(cur)\n",
    "                break\n",
    "                \n",
    "print(*result)"
   ]
  },
  {
   "cell_type": "markdown",
   "metadata": {},
   "source": [
    "https://codeforces.com/problemset/problem/1463/B B. Find The Array"
   ]
  },
  {
   "cell_type": "markdown",
   "metadata": {},
   "source": [
    "1.01 1.42"
   ]
  },
  {
   "cell_type": "code",
   "execution_count": 50,
   "metadata": {},
   "outputs": [
    {
     "name": "stdout",
     "output_type": "stream",
     "text": [
      "6\n",
      "3 4 8 1 2 3\n",
      "1 4 1 1 1 3\n"
     ]
    }
   ],
   "source": [
    "import sys\n",
    "input = lambda: sys.stdin.readline().rstrip()\n",
    "\n",
    "def solve():\n",
    "    asv = sum(a)\n",
    "\n",
    "    b = [0] * n\n",
    "    for i in range(n):\n",
    "        if i % 2 == 0:\n",
    "            b[i] = 1\n",
    "        else:\n",
    "            b[i] = a[i]\n",
    "\n",
    "    sdiff = 0\n",
    "    for i in range(n):\n",
    "        sdiff += 2 * abs(a[i] - b[i])\n",
    "\n",
    "    if sdiff <= asv:\n",
    "        return b\n",
    "    \n",
    "    b = [0] * n\n",
    "    for i in range(n):\n",
    "        if i % 2 == 1:\n",
    "            b[i] = 1\n",
    "        else:\n",
    "            b[i] = a[i]\n",
    "\n",
    "    sdiff = 0\n",
    "    for i in range(n):\n",
    "        sdiff += 2 * abs(a[i] - b[i])\n",
    "        \n",
    "    return b\n",
    "\n",
    "for _ in range(int(input())):\n",
    "    n = int(input())\n",
    "    a = list(map(int, input().split()))\n",
    "\n",
    "    b = solve()\n",
    "\n",
    "    print(*b)"
   ]
  },
  {
   "cell_type": "markdown",
   "metadata": {},
   "source": [
    "https://codeforces.com/problemset/problem/1462/D D. Add to Neighbour and Remove"
   ]
  },
  {
   "cell_type": "markdown",
   "metadata": {},
   "source": [
    "7.33 7.45"
   ]
  },
  {
   "cell_type": "code",
   "execution_count": 61,
   "metadata": {},
   "outputs": [
    {
     "name": "stdout",
     "output_type": "stream",
     "text": [
      "4\n",
      "6 3 2 1\n",
      "2\n"
     ]
    }
   ],
   "source": [
    "import sys\n",
    "input = lambda: sys.stdin.readline().rstrip()\n",
    "\n",
    "def get_divisors(num):\n",
    "    divisors = set()\n",
    "    for mod in range(1, int(num ** 0.5) + 1):\n",
    "        if num % mod == 0:\n",
    "            divisors.add(mod)\n",
    "            divisors.add(num // mod)\n",
    "            \n",
    "    return divisors\n",
    "\n",
    "for _ in range(int(input())):\n",
    "    n = int(input())\n",
    "    li = list(map(int, input().split()))\n",
    "\n",
    "    min_r = n + 5\n",
    "    for cand in get_divisors(sum(li)):\n",
    "        cur_sum = 0\n",
    "        c = 0\n",
    "        ip = True\n",
    "        for v in li:\n",
    "            if cur_sum != 0:\n",
    "                c += 1\n",
    "            cur_sum += v\n",
    "            if cur_sum == cand:\n",
    "                cur_sum = 0\n",
    "            elif cur_sum > cand:\n",
    "                ip = False\n",
    "                break\n",
    "        if cur_sum != 0:\n",
    "            ip = False\n",
    "\n",
    "        if ip:\n",
    "            min_r = min(min_r, c)\n",
    "\n",
    "    print(min_r)"
   ]
  },
  {
   "cell_type": "markdown",
   "metadata": {},
   "source": [
    "https://codeforces.com/problemset/problem/1461/B B. Find the Spruce"
   ]
  },
  {
   "cell_type": "markdown",
   "metadata": {},
   "source": [
    "7.54 8.25"
   ]
  },
  {
   "cell_type": "code",
   "execution_count": 11,
   "metadata": {},
   "outputs": [
    {
     "name": "stdout",
     "output_type": "stream",
     "text": [
      "1\n",
      "3 3\n",
      "***\n",
      "***\n",
      "***\n",
      "11\n"
     ]
    }
   ],
   "source": [
    "import sys\n",
    "# input = lambda: sys.stdin.readline().rstrip()\n",
    "\n",
    "for _ in range(int(input())):\n",
    "    n, m = map(int, input().split())\n",
    "    li = [input() for _ in range(n)]\n",
    "\n",
    "    to_right = [[0] * m for _ in range(n)]\n",
    "    to_left = [[0] * m for _ in range(n)]\n",
    "\n",
    "    for i in range(n):\n",
    "        for j in range(m):\n",
    "            if li[i][j] == '*':\n",
    "                if j - 1 >= 0 and li[i][j - 1] == '*':\n",
    "                    to_right[i][j] = to_right[i][j - 1] + 1\n",
    "                else:\n",
    "                    to_right[i][j] = 1\n",
    "\n",
    "    for i in range(n):\n",
    "        for j in range(m - 1, -1, -1):\n",
    "            if li[i][j] == '*':\n",
    "                if j + 1 < m and li[i][j + 1] == '*':\n",
    "                    to_left[i][j] = to_left[i][j + 1] + 1\n",
    "                else:\n",
    "                    to_left[i][j] = 1\n",
    "\n",
    "    united = [[0] * m for _ in range(n)]\n",
    "    for i in range(n):\n",
    "        for j in range(m):\n",
    "            united[i][j] = min(to_right[i][j] - 1, to_left[i][j] - 1) + 1\n",
    "\n",
    "    total = 0\n",
    "    for j in range(m):\n",
    "        cur_k = 0\n",
    "        for i in range(n):\n",
    "            cur_k = min(united[i][j], cur_k + 1)\n",
    "            total += cur_k\n",
    "\n",
    "    print(total)"
   ]
  },
  {
   "cell_type": "markdown",
   "metadata": {},
   "source": [
    "B. Toy Blocks https://codeforces.com/problemset/problem/1452/B"
   ]
  },
  {
   "cell_type": "code",
   "execution_count": 3,
   "metadata": {},
   "outputs": [
    {
     "name": "stdout",
     "output_type": "stream",
     "text": [
      "3\n",
      "0 3 0\n",
      "3\n"
     ]
    }
   ],
   "source": [
    "import sys\n",
    "input = lambda: sys.stdin.readline().rstrip()\n",
    "\n",
    "for _ in range(int(input())):\n",
    "    n = int(input())\n",
    "    li = list(map(int, input().split()))\n",
    "\n",
    "    max_v = max(li)\n",
    "    sv = sum(li)\n",
    "\n",
    "    remained = sv % (n - 1)\n",
    "    t1 = 0\n",
    "    if remained > 0:\n",
    "        t1 = n - 1 - remained\n",
    "\n",
    "    t2 = max_v * (n - 1) - sv\n",
    "\n",
    "    r = max(t1, t2)\n",
    "\n",
    "    print(r)"
   ]
  },
  {
   "cell_type": "markdown",
   "metadata": {},
   "source": [
    "https://codeforces.com/problemset/problem/1421/C C. Palindromifier"
   ]
  },
  {
   "cell_type": "markdown",
   "metadata": {},
   "source": [
    "1.10 2.04"
   ]
  },
  {
   "cell_type": "code",
   "execution_count": 9,
   "metadata": {},
   "outputs": [
    {
     "name": "stdout",
     "output_type": "stream",
     "text": [
      "abac\n",
      "4\n",
      "R 2\n",
      "L 4\n",
      "R 2\n",
      "R 17\n"
     ]
    }
   ],
   "source": [
    "s = input()\n",
    "\n",
    "n = len(s)\n",
    "\n",
    "print(4)\n",
    "print('L', 2)\n",
    "n += 1\n",
    "print('L', 2)\n",
    "n += 1\n",
    "print('R', 2)\n",
    "n += n - 2\n",
    "print('R', n - 1)"
   ]
  },
  {
   "cell_type": "markdown",
   "metadata": {},
   "source": [
    "https://codeforces.com/problemset/problem/1415/C C. Bouncing Ball"
   ]
  },
  {
   "cell_type": "markdown",
   "metadata": {},
   "source": [
    "3.24 3.50"
   ]
  },
  {
   "cell_type": "code",
   "execution_count": 40,
   "metadata": {},
   "outputs": [
    {
     "name": "stdout",
     "output_type": "stream",
     "text": [
      "11 2 3\n",
      "10110011000\n",
      "4 3\n",
      "10\n"
     ]
    }
   ],
   "source": [
    "import sys\n",
    "input = lambda: sys.stdin.readline().rstrip()\n",
    "\n",
    "inf = float('inf')\n",
    "\n",
    "for _ in range(int(input())):\n",
    "    n, p, k = map(int, input().split())\n",
    "    li = list(map(int, input()))\n",
    "    x, y = map(int, input().split())\n",
    "\n",
    "    prefix = [0] * n\n",
    "    c_prefix = [0] * n\n",
    "    lasts = []\n",
    "\n",
    "    for cur_start in range(k):\n",
    "        cumul = 0\n",
    "        c_cumul = 0\n",
    "        for i in range(cur_start, n, k):\n",
    "            cumul += li[i]\n",
    "            prefix[i] = cumul\n",
    "\n",
    "            c_cumul += 1\n",
    "            c_prefix[i] = c_cumul\n",
    "\n",
    "        lasts.append(i)\n",
    "\n",
    "    min_r = inf\n",
    "    y_used = 0\n",
    "    for i in range(n):\n",
    "        start = i + p - 1\n",
    "        if start >= n:\n",
    "            break\n",
    "\n",
    "        tp = start % k\n",
    "\n",
    "        last = lasts[tp]\n",
    "        if start - k >= 0:\n",
    "            cur = prefix[last] - prefix[start - k]\n",
    "            needed = c_prefix[last] - c_prefix[start - k]\n",
    "        else:\n",
    "            cur = prefix[last]\n",
    "            needed = c_prefix[last]\n",
    "\n",
    "        temp = (needed - cur) * x + y_used * y\n",
    "        min_r = min(min_r, temp)\n",
    "        y_used += 1\n",
    "\n",
    "    print(min_r)"
   ]
  },
  {
   "cell_type": "markdown",
   "metadata": {},
   "source": [
    "https://codeforces.com/problemset/problem/1408/B B. Arrays Sum"
   ]
  },
  {
   "cell_type": "markdown",
   "metadata": {},
   "source": [
    "3.51 4.34 풀이"
   ]
  },
  {
   "cell_type": "code",
   "execution_count": 54,
   "metadata": {},
   "outputs": [
    {
     "name": "stdout",
     "output_type": "stream",
     "text": [
      "1\n",
      "4 4\n",
      "1 1 1 1\n",
      "0\n"
     ]
    }
   ],
   "source": [
    "from math import ceil\n",
    "import sys\n",
    "# input = lambda: sys.stdin.readline().rstrip()\n",
    "\n",
    "for _ in range(int(input())):\n",
    "    n, k = map(int, input().split())\n",
    "    li = list(map(int, input().split()))\n",
    "\n",
    "    changed_c = 0\n",
    "    for i in range(n - 1):\n",
    "        if li[i] != li[i + 1]:\n",
    "            changed_c += 1\n",
    "\n",
    "    if k == 1:\n",
    "        if changed_c >= 1:\n",
    "            print(-1)\n",
    "        else:\n",
    "            print(1)\n",
    "    else:\n",
    "        can_change = k - 1\n",
    "\n",
    "        total = changed_c // can_change\n",
    "        if changed_c % can_change:\n",
    "            total += 1\n",
    "\n",
    "        print(max(1, total))"
   ]
  }
 ],
 "metadata": {
  "kernelspec": {
   "display_name": "Python 3",
   "language": "python",
   "name": "python3"
  },
  "language_info": {
   "codemirror_mode": {
    "name": "ipython",
    "version": 3
   },
   "file_extension": ".py",
   "mimetype": "text/x-python",
   "name": "python",
   "nbconvert_exporter": "python",
   "pygments_lexer": "ipython3",
   "version": "3.7.4"
  }
 },
 "nbformat": 4,
 "nbformat_minor": 2
}
