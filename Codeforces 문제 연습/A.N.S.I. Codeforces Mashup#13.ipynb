{
 "cells": [
  {
   "cell_type": "markdown",
   "metadata": {},
   "source": [
    "https://codeforces.com/gym/385989/problem/A"
   ]
  },
  {
   "cell_type": "code",
   "execution_count": null,
   "metadata": {},
   "outputs": [],
   "source": [
    "8 2 5 15 11 2 8\n",
    "    - -  -  - -\n"
   ]
  },
  {
   "cell_type": "code",
   "execution_count": null,
   "metadata": {},
   "outputs": [],
   "source": [
    "1 2 3 4 5 6\n",
    "      - - -\n",
    "\n",
    "먼저, 몇 개를 쓰든 남은게 있다면 전부 최대한 오른쪽으로 붙이면 되므로 남길 필요는 없음\n",
    "여기서 가능한 하나를 왼쪽으로 한칸씩 옮길 때마다 데미지를 추가로 1씩 더 얻음"
   ]
  },
  {
   "cell_type": "code",
   "execution_count": 4,
   "metadata": {},
   "outputs": [
    {
     "name": "stdout",
     "output_type": "stream",
     "text": [
      "7 5\n",
      "8 2 5 15 11 2 8\n",
      "9\n"
     ]
    }
   ],
   "source": [
    "import sys\n",
    "input = lambda: sys.stdin.readline().rstrip()\n",
    "\n",
    "for _ in range(int(input())):\n",
    "    n, k = map(int, input().split())\n",
    "    li = list(map(int, input().split()))\n",
    "\n",
    "    nli = [[i, v] for i, v in enumerate(li)]\n",
    "    cur = 0\n",
    "    for i in range(n - 1, -1, -1):\n",
    "        nli[i][1] -= cur\n",
    "        cur += 1\n",
    "\n",
    "    nli.sort(key=lambda x: -x[1])\n",
    "    st = set()\n",
    "    for i in range(k):\n",
    "        st.add(nli[i][0])\n",
    "\n",
    "    w = 0\n",
    "    total = 0\n",
    "    for i in range(n):\n",
    "        if i in st:\n",
    "            w += 1\n",
    "        else:\n",
    "            total += li[i] + w\n",
    "\n",
    "    print(total)"
   ]
  },
  {
   "cell_type": "markdown",
   "metadata": {},
   "source": [
    "https://codeforces.com/gym/385989/problem/B"
   ]
  },
  {
   "cell_type": "code",
   "execution_count": null,
   "metadata": {},
   "outputs": [],
   "source": [
    "2 5 6\n",
    "\n",
    "2 8"
   ]
  },
  {
   "cell_type": "code",
   "execution_count": 13,
   "metadata": {},
   "outputs": [
    {
     "data": {
      "text/plain": [
       "2"
      ]
     },
     "execution_count": 13,
     "metadata": {},
     "output_type": "execute_result"
    }
   ],
   "source": [
    "from bisect import bisect_left\n",
    "\n",
    "bisect_left([1, 2, 3, 4, 5, 6], 3)"
   ]
  },
  {
   "cell_type": "code",
   "execution_count": 17,
   "metadata": {},
   "outputs": [
    {
     "data": {
      "text/plain": [
       "4"
      ]
     },
     "execution_count": 17,
     "metadata": {},
     "output_type": "execute_result"
    }
   ],
   "source": [
    "bisect_left([1, 2, 3, 4, 5, 6], 5)"
   ]
  },
  {
   "cell_type": "code",
   "execution_count": null,
   "metadata": {},
   "outputs": [],
   "source": [
    "import sys\n",
    "input = lambda: sys.stdin.readline().rstrip()\n",
    "\n",
    "def get_sum(tree, i):\n",
    "    total = 0\n",
    "    while i > 0:\n",
    "        total += tree[i]\n",
    "        i -= i & (-i)\n",
    "        \n",
    "    return total\n",
    "\n",
    "def update(tree, i, diff):\n",
    "    while i < n + 1:\n",
    "        tree[i] += diff\n",
    "        i += i & (-i)\n",
    "\n",
    "n, q = map(int, input().split())\n",
    "\n",
    "xs = [0] * (n + 1)\n",
    "ys = [0] * (n + 1)\n",
    "ct_x = [0] * (n + 1)\n",
    "ct_y = [0] * (n + 1)\n",
    "for _ in range(q):\n",
    "    qu = list(map(int, input().split()))\n",
    "    tp = qu[0]\n",
    "    \n",
    "    if tp == 1:\n",
    "        x = qu[1]\n",
    "        y = qu[2]\n",
    "        \n",
    "        ct_x[x] += 1\n",
    "        if ct_x[x] == 1:\n",
    "            update(xs, x, 1)\n",
    "            \n",
    "        ct_y[y] += 1\n",
    "        if ct_y[y] == 1:\n",
    "            update(ys, y, 1)\n",
    "    elif tp == 2:\n",
    "        x = qu[1]\n",
    "        y = qu[2]\n",
    "        \n",
    "        ct_x[x] -= 1\n",
    "        if ct_x[x] == 0: \n",
    "            update(xs, x, -1)\n",
    "            \n",
    "        ct_y[y] -= 1\n",
    "        if ct_y[y] == 0:\n",
    "            update(ys, y, -1)\n",
    "    else:\n",
    "        x1 = qu[1]\n",
    "        y1 = qu[2]\n",
    "        x2 = qu[3]\n",
    "        y2 = qu[4]\n",
    "        \n",
    "        iaa = False # is all attacked\n",
    "        \n",
    "        if get_sum(xs, x2) - get_sum(xs, x1 - 1) == x2 - x1 + 1:\n",
    "            iaa = True\n",
    "        if get_sum(ys, y2) - get_sum(ys, y1 - 1) == y2 - y1 + 1:\n",
    "            iaa = True            \n",
    "        \n",
    "        if iaa:\n",
    "            print('Yes')\n",
    "        else:\n",
    "            print('No')"
   ]
  },
  {
   "cell_type": "code",
   "execution_count": null,
   "metadata": {},
   "outputs": [],
   "source": [
    "2 3 4\n",
    "1 1 1\n",
    "\n",
    "4 - 2 + 1"
   ]
  },
  {
   "cell_type": "markdown",
   "metadata": {},
   "source": [
    "https://codeforces.com/gym/385989/problem/C"
   ]
  },
  {
   "cell_type": "code",
   "execution_count": null,
   "metadata": {},
   "outputs": [],
   "source": [
    "import os\n",
    "import sys\n",
    "from io import BytesIO, IOBase\n",
    " \n",
    "BUFSIZE = 8192\n",
    "\n",
    "class FastIO(IOBase):\n",
    "    newlines = 0\n",
    " \n",
    "    def __init__(self, file):\n",
    "        self._fd = file.fileno()\n",
    "        self.buffer = BytesIO()\n",
    "        self.writable = \"x\" in file.mode or \"r\" not in file.mode\n",
    "        self.write = self.buffer.write if self.writable else None\n",
    " \n",
    "    def read(self):\n",
    "        while True:\n",
    "            b = os.read(self._fd, max(os.fstat(self._fd).st_size, BUFSIZE))\n",
    "            if not b:\n",
    "                break\n",
    "            ptr = self.buffer.tell()\n",
    "            self.buffer.seek(0, 2), self.buffer.write(b), self.buffer.seek(ptr)\n",
    "        self.newlines = 0\n",
    "        return self.buffer.read()\n",
    " \n",
    "    def readline(self):\n",
    "        while self.newlines == 0:\n",
    "            b = os.read(self._fd, max(os.fstat(self._fd).st_size, BUFSIZE))\n",
    "            self.newlines = b.count(b\"\\n\") + (not b)\n",
    "            ptr = self.buffer.tell()\n",
    "            self.buffer.seek(0, 2), self.buffer.write(b), self.buffer.seek(ptr)\n",
    "        self.newlines -= 1\n",
    "        return self.buffer.readline()\n",
    " \n",
    "    def flush(self):\n",
    "        if self.writable:\n",
    "            os.write(self._fd, self.buffer.getvalue())\n",
    "            self.buffer.truncate(0), self.buffer.seek(0)\n",
    " \n",
    " \n",
    "class IOWrapper(IOBase):\n",
    "    def __init__(self, file):\n",
    "        self.buffer = FastIO(file)\n",
    "        self.flush = self.buffer.flush\n",
    "        self.writable = self.buffer.writable\n",
    "        self.write = lambda s: self.buffer.write(s.encode(\"ascii\"))\n",
    "        self.read = lambda: self.buffer.read().decode(\"ascii\")\n",
    "        self.readline = lambda: self.buffer.readline().decode(\"ascii\")\n",
    "\n",
    "sys.stdin, sys.stdout = IOWrapper(sys.stdin), IOWrapper(sys.stdout)\n",
    "input = lambda: sys.stdin.readline().rstrip(\"\\r\\n\")\n",
    "\n",
    "## PYRIVAL BOOTSTRAP\n",
    "# https://github.com/cheran-senthil/PyRival/blob/master/pyrival/misc/bootstrap.py\n",
    "# This decorator allows for recursion without actually doing recursion\n",
    "## @bootstrap, yield when getting and returning value in recursive functions, end of functions\n",
    "from types import GeneratorType\n",
    "\n",
    "def bootstrap(f, stack=[]):\n",
    "    def wrappedfunc(*args, **kwargs):\n",
    "        if stack:\n",
    "            return f(*args, **kwargs)\n",
    "        else:\n",
    "            to = f(*args, **kwargs)\n",
    "            while True:\n",
    "                if type(to) is GeneratorType:\n",
    "                    stack.append(to)\n",
    "                    to = next(to)\n",
    "                else:\n",
    "                    stack.pop()\n",
    "                    if not stack:\n",
    "                        break\n",
    "                    to = stack[-1].send(to)\n",
    "            return to\n",
    "    return wrappedfunc\n",
    "\n",
    "@bootstrap\n",
    "def dfs(value):\n",
    "    vt[value] = True\n",
    "    \n",
    "    l = lrs[value][0]\n",
    "    r = lrs[value][1]\n",
    "    \n",
    "    lt = 0\n",
    "    rt = 0\n",
    "    for v in li[value]:\n",
    "        if not vt[v]:\n",
    "            temp_lt, temp_rt = yield dfs(v)\n",
    "            \n",
    "            lt1 = abs(l - lrs[v][0]) + temp_lt\n",
    "            lt2 = abs(l - lrs[v][1]) + temp_rt\n",
    "            lt += max(lt1, lt2)\n",
    "            \n",
    "            rt1 = abs(r - lrs[v][0]) + temp_lt\n",
    "            rt2 = abs(r - lrs[v][1]) + temp_rt\n",
    "            rt += max(rt1, rt2)\n",
    "    \n",
    "    yield (lt, rt)\n",
    "    \n",
    "for _ in range(int(input())):\n",
    "    n = int(input())\n",
    "    lrs = [list(map(int, input().split())) for _ in range(n)]\n",
    "\n",
    "    li = [[] for _ in range(n)]\n",
    "    get_value = lambda x: int(x) - 1\n",
    "    for _ in range(n - 1):\n",
    "        u, v = map(get_value, input().split())\n",
    "        li[u].append(v)\n",
    "        li[v].append(u)\n",
    "\n",
    "    vt = [False] * n\n",
    "    r = max(dfs(0))\n",
    "\n",
    "    print(r)"
   ]
  },
  {
   "cell_type": "markdown",
   "metadata": {},
   "source": [
    "https://codeforces.com/gym/385989/problem/D"
   ]
  },
  {
   "cell_type": "code",
   "execution_count": 13,
   "metadata": {},
   "outputs": [
    {
     "name": "stdout",
     "output_type": "stream",
     "text": [
      "1 30\n",
      "0\n",
      "2147483646\n"
     ]
    }
   ],
   "source": [
    "import sys\n",
    "input = lambda: sys.stdin.readline().rstrip()\n",
    "\n",
    "sq2 = [0] * 31\n",
    "for i in range(31):\n",
    "    sq2[i] = 2 ** i\n",
    "\n",
    "for _ in range(int(input())):\n",
    "    n, k = map(int, input().split())\n",
    "    li = list(map(int, input().split()))\n",
    "\n",
    "    c1 = [0] * 31\n",
    "    for v in li:\n",
    "        bv = bin(v)\n",
    "        cur = 0\n",
    "        for i in range(len(bv) - 1, 1, -1):\n",
    "            if bv[i] == '1':\n",
    "                c1[cur] += 1\n",
    "            cur += 1\n",
    "\n",
    "\n",
    "    c0 = [0] * 31\n",
    "    for i in range(31):\n",
    "        c0[i] = n - c1[i]\n",
    "\n",
    "\n",
    "    total = 0    \n",
    "    for i in range(30, -1, -1):\n",
    "        if c0[i] <= k:\n",
    "            k -= c0[i]\n",
    "            total += sq2[i]\n",
    "\n",
    "    print(total)"
   ]
  },
  {
   "cell_type": "markdown",
   "metadata": {},
   "source": [
    "https://codeforces.com/gym/385989/problem/E"
   ]
  },
  {
   "cell_type": "code",
   "execution_count": null,
   "metadata": {},
   "outputs": [],
   "source": [
    "n의 가능한 최댓값은 1e7 미만"
   ]
  },
  {
   "cell_type": "code",
   "execution_count": null,
   "metadata": {},
   "outputs": [],
   "source": [
    "12\n",
    "\n",
    "1 2 3 2*2 2*3 2*2*3\n",
    "\n"
   ]
  },
  {
   "cell_type": "code",
   "execution_count": 14,
   "metadata": {},
   "outputs": [
    {
     "data": {
      "text/plain": [
       "28"
      ]
     },
     "execution_count": 14,
     "metadata": {},
     "output_type": "execute_result"
    }
   ],
   "source": [
    "1+2+3+2*2+2*3+2*2*3"
   ]
  },
  {
   "cell_type": "code",
   "execution_count": null,
   "metadata": {},
   "outputs": [],
   "source": [
    "2^2, 3^1"
   ]
  },
  {
   "cell_type": "code",
   "execution_count": null,
   "metadata": {},
   "outputs": [],
   "source": [
    "3(1 + 2 + 2*2)"
   ]
  },
  {
   "cell_type": "code",
   "execution_count": 18,
   "metadata": {},
   "outputs": [
    {
     "data": {
      "text/plain": [
       "5"
      ]
     },
     "execution_count": 18,
     "metadata": {},
     "output_type": "execute_result"
    }
   ],
   "source": [
    "def get_sum(r, n):\n",
    "    return (r ** (n + 1) - 1) // (r - 1)\n",
    "\n",
    "get_sum(4, 1)"
   ]
  },
  {
   "cell_type": "code",
   "execution_count": null,
   "metadata": {},
   "outputs": [],
   "source": [
    "import sys\n",
    "# input = lambda: sys.stdin.readline().rstrip()\n",
    "\n",
    "def get_sum(r, n):\n",
    "    return (r ** (n + 1) - 1) // (r - 1)\n",
    "\n",
    "max_num = 100 # int(1e7)\n",
    "sp = [0] * (max_num + 1)\n",
    "primes = []\n",
    "for i in range(2, max_num + 1):\n",
    "    if sp[i] == 0:\n",
    "        sp[i] = i\n",
    "        primes.append(i)\n",
    "        \n",
    "    j = 0\n",
    "    while j < len(primes) and i * primes[j] <= max_num and primes[j] <= sp[i]:\n",
    "        sp[i * primes[j]] = primes[j]\n",
    "        j += 1\n",
    "    \n",
    "d = [0] * (max_num + 1)\n",
    "for num in range(max_num + 1):\n",
    "    nnum = num\n",
    "    fv = sp[nnum]\n",
    "    cont = 0\n",
    "    while nnum > 1:\n",
    "        v = sp[nnum]\n",
    "        if v == fv:\n",
    "            cont += 1\n",
    "            nnum //= v\n",
    "        else:\n",
    "            d[num] = get_sum(v, cont) * d[nnum]\n",
    "            break\n",
    "    else:\n",
    "        d[num] = get_sum(v, cont) * d[nnum]\n",
    "\n",
    "r = [-1] * (max_num + 1)\n",
    "for num in range(max_num, -1, -1):\n",
    "    if d[num] <= max_num:\n",
    "        r[d[num]] = num\n",
    "        \n",
    "for _ in range(int(input())):\n",
    "    c = int(input())\n",
    "    \n",
    "    print(r[c])"
   ]
  },
  {
   "cell_type": "markdown",
   "metadata": {},
   "source": [
    "https://codeforces.com/gym/385989/problem/F"
   ]
  },
  {
   "cell_type": "code",
   "execution_count": null,
   "metadata": {},
   "outputs": [],
   "source": [
    "n 10\n",
    "1 1 1 -10000 1 1 -1 1 1 1 -100000 1 1 1 1 "
   ]
  },
  {
   "cell_type": "code",
   "execution_count": 11,
   "metadata": {},
   "outputs": [
    {
     "name": "stdout",
     "output_type": "stream",
     "text": [
      "6 0\n",
      "2 6 -164 1 -1 -6543\n",
      "1 2\n"
     ]
    }
   ],
   "source": [
    "import sys\n",
    "input = lambda: sys.stdin.readline().rstrip()\n",
    "\n",
    "for _ in range(int(input())):\n",
    "    n, s = map(int, input().split())\n",
    "    li = list(map(int, input().split()))\n",
    "\n",
    "    mil = 0 # max intv len\n",
    "    mi_s = mi_e = -1\n",
    "\n",
    "    start = 0\n",
    "    end = 0\n",
    "    cur = s + li[0]\n",
    "    while start <= end:\n",
    "        if cur >= 0:\n",
    "            itv_len = end - start + 1\n",
    "            if itv_len > mil:\n",
    "                mil = itv_len\n",
    "                mi_s = start\n",
    "                mi_e = end\n",
    "            end += 1\n",
    "            if end >= n:\n",
    "                break\n",
    "            cur += li[end]\n",
    "        else:\n",
    "            while cur < 0:\n",
    "                cur -= li[start]\n",
    "                start += 1\n",
    "\n",
    "            if end < start:\n",
    "                end = start\n",
    "\n",
    "                if end >= n:\n",
    "                    break\n",
    "                cur += li[end]\n",
    "\n",
    "    if mil == 0:\n",
    "        print(-1)\n",
    "    else:\n",
    "        print(mi_s + 1, mi_e + 1)"
   ]
  },
  {
   "cell_type": "markdown",
   "metadata": {},
   "source": [
    "https://codeforces.com/gym/385989/problem/G"
   ]
  },
  {
   "cell_type": "code",
   "execution_count": 8,
   "metadata": {},
   "outputs": [
    {
     "name": "stdout",
     "output_type": "stream",
     "text": [
      "11 27182 31415\n",
      "16 18 33 98 874 989 4848 20458 34365 38117 72030\n",
      "-1 5398542090\n",
      "0 5393950602\n",
      "1 5393439496\n",
      "2 5390077426\n",
      "3 5377550431\n",
      "4 5252375423\n",
      "5 5237437728\n",
      "6 4857411126\n",
      "7 3810557696\n",
      "8 3314800960\n",
      "9 3298918744\n"
     ]
    }
   ],
   "source": [
    "def get_value(mid):\n",
    "    # move until mid\n",
    "    \n",
    "    total = 0\n",
    "    cur = 0\n",
    "    for i in range(n):\n",
    "        diff = li[i] - cur\n",
    "        total += b * diff\n",
    "        if i <= mid:\n",
    "            total += a * diff\n",
    "            cur = li[i]\n",
    "    return total\n",
    "    \n",
    "\n",
    "n, a, b = map(int, input().split())\n",
    "li = list(map(int, input().split()))\n",
    "\n",
    "for i in range(-1, n - 1):\n",
    "    print(i, get_value(i))\n",
    "    \n",
    "    \n"
   ]
  },
  {
   "cell_type": "code",
   "execution_count": 9,
   "metadata": {},
   "outputs": [
    {
     "name": "stdout",
     "output_type": "stream",
     "text": [
      "11 27182 31415\n",
      "16 18 33 98 874 989 4848 20458 34365 38117 72030\n",
      "3298918744\n"
     ]
    }
   ],
   "source": [
    "import sys\n",
    "input = lambda: sys.stdin.readline().rstrip()\n",
    "\n",
    "inf = float('inf')\n",
    "\n",
    "def get_value(mid):\n",
    "    # move until mid\n",
    "    \n",
    "    total = 0\n",
    "    cur = 0\n",
    "    for i in range(n):\n",
    "        diff = li[i] - cur\n",
    "        total += b * diff\n",
    "        if i <= mid:\n",
    "            total += a * diff\n",
    "            cur = li[i]\n",
    "    return total\n",
    "\n",
    "for _ in range(int(input())):\n",
    "    n, a, b = map(int, input().split())\n",
    "    li = list(map(int, input().split()))\n",
    "\n",
    "    start = -1\n",
    "    end = n - 1\n",
    "    result = inf\n",
    "    while start <= end:\n",
    "        mid1 = (start * 2 + end) // 3\n",
    "        mid2 = (start + end * 2) // 3\n",
    "\n",
    "        t1 = get_value(mid1)\n",
    "        t2 = get_value(mid2)\n",
    "\n",
    "        result = min(result, t1, t2)\n",
    "\n",
    "        if end - start <= 10:\n",
    "            for mid in range(start, end + 1):\n",
    "                result = min(result, get_value(mid))\n",
    "            break\n",
    "\n",
    "        if t1 >= t2:\n",
    "            start = mid1\n",
    "        else:\n",
    "            end = mid2\n",
    "\n",
    "    print(result)"
   ]
  }
 ],
 "metadata": {
  "kernelspec": {
   "display_name": "Python 3",
   "language": "python",
   "name": "python3"
  },
  "language_info": {
   "codemirror_mode": {
    "name": "ipython",
    "version": 3
   },
   "file_extension": ".py",
   "mimetype": "text/x-python",
   "name": "python",
   "nbconvert_exporter": "python",
   "pygments_lexer": "ipython3",
   "version": "3.7.4"
  }
 },
 "nbformat": 4,
 "nbformat_minor": 2
}
