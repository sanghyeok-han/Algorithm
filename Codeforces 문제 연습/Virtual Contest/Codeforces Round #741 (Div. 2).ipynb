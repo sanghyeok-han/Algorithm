{
 "cells": [
  {
   "cell_type": "markdown",
   "metadata": {},
   "source": [
    "A"
   ]
  },
  {
   "cell_type": "code",
   "execution_count": 32,
   "metadata": {},
   "outputs": [
    {
     "name": "stdout",
     "output_type": "stream",
     "text": [
      "1 999999999\n"
     ]
    }
   ],
   "source": [
    "l, r = map(int, input().split())\n"
   ]
  },
  {
   "cell_type": "code",
   "execution_count": 77,
   "metadata": {},
   "outputs": [
    {
     "name": "stdout",
     "output_type": "stream",
     "text": [
      "1\n",
      "1 999999999\n",
      "499999999\n"
     ]
    }
   ],
   "source": [
    "for _ in range(int(input())):\n",
    "    l, r = map(int, input().split())\n",
    "\n",
    "    temp = (r + 1) // 2\n",
    "    if l <= temp:\n",
    "        print((temp * 2 - 1) % temp)\n",
    "    else:\n",
    "        print(r % l)"
   ]
  },
  {
   "cell_type": "code",
   "execution_count": 45,
   "metadata": {},
   "outputs": [
    {
     "name": "stdout",
     "output_type": "stream",
     "text": [
      "8 8 0\n",
      "9 8 1\n",
      "10 8 2\n",
      "11 8 3\n",
      "12 8 4\n",
      "13 8 5\n",
      "14 8 6\n",
      "15 8 7\n",
      "16 8 0\n",
      "17 8 1\n",
      "18 8 2\n",
      "19 8 3\n",
      "20 8 4\n",
      "21 8 5\n",
      "22 8 6\n",
      "23 8 7\n",
      "24 8 0\n",
      "25 8 1\n",
      "9 9 0\n",
      "10 9 1\n",
      "11 9 2\n",
      "12 9 3\n",
      "13 9 4\n",
      "14 9 5\n",
      "15 9 6\n",
      "16 9 7\n",
      "17 9 8\n",
      "18 9 0\n",
      "19 9 1\n",
      "20 9 2\n",
      "21 9 3\n",
      "22 9 4\n",
      "23 9 5\n",
      "24 9 6\n",
      "25 9 7\n",
      "10 10 0\n",
      "11 10 1\n",
      "12 10 2\n",
      "13 10 3\n",
      "14 10 4\n",
      "15 10 5\n",
      "16 10 6\n",
      "17 10 7\n",
      "18 10 8\n",
      "19 10 9\n",
      "20 10 0\n",
      "21 10 1\n",
      "22 10 2\n",
      "23 10 3\n",
      "24 10 4\n",
      "25 10 5\n",
      "11 11 0\n",
      "12 11 1\n",
      "13 11 2\n",
      "14 11 3\n",
      "15 11 4\n",
      "16 11 5\n",
      "17 11 6\n",
      "18 11 7\n",
      "19 11 8\n",
      "20 11 9\n",
      "21 11 10\n",
      "22 11 0\n",
      "23 11 1\n",
      "24 11 2\n",
      "25 11 3\n",
      "12 12 0\n",
      "13 12 1\n",
      "14 12 2\n",
      "15 12 3\n",
      "16 12 4\n",
      "17 12 5\n",
      "18 12 6\n",
      "19 12 7\n",
      "20 12 8\n",
      "21 12 9\n",
      "22 12 10\n",
      "23 12 11\n",
      "24 12 0\n",
      "25 12 1\n",
      "13 13 0\n",
      "14 13 1\n",
      "15 13 2\n",
      "16 13 3\n",
      "17 13 4\n",
      "18 13 5\n",
      "19 13 6\n",
      "20 13 7\n",
      "21 13 8\n",
      "22 13 9\n",
      "23 13 10\n",
      "24 13 11\n",
      "25 13 12\n",
      "14 14 0\n",
      "15 14 1\n",
      "16 14 2\n",
      "17 14 3\n",
      "18 14 4\n",
      "19 14 5\n",
      "20 14 6\n",
      "21 14 7\n",
      "22 14 8\n",
      "23 14 9\n",
      "24 14 10\n",
      "25 14 11\n",
      "15 15 0\n",
      "16 15 1\n",
      "17 15 2\n",
      "18 15 3\n",
      "19 15 4\n",
      "20 15 5\n",
      "21 15 6\n",
      "22 15 7\n",
      "23 15 8\n",
      "24 15 9\n",
      "25 15 10\n",
      "16 16 0\n",
      "17 16 1\n",
      "18 16 2\n",
      "19 16 3\n",
      "20 16 4\n",
      "21 16 5\n",
      "22 16 6\n",
      "23 16 7\n",
      "24 16 8\n",
      "25 16 9\n",
      "17 17 0\n",
      "18 17 1\n",
      "19 17 2\n",
      "20 17 3\n",
      "21 17 4\n",
      "22 17 5\n",
      "23 17 6\n",
      "24 17 7\n",
      "25 17 8\n",
      "18 18 0\n",
      "19 18 1\n",
      "20 18 2\n",
      "21 18 3\n",
      "22 18 4\n",
      "23 18 5\n",
      "24 18 6\n",
      "25 18 7\n",
      "19 19 0\n",
      "20 19 1\n",
      "21 19 2\n",
      "22 19 3\n",
      "23 19 4\n",
      "24 19 5\n",
      "25 19 6\n",
      "20 20 0\n",
      "21 20 1\n",
      "22 20 2\n",
      "23 20 3\n",
      "24 20 4\n",
      "25 20 5\n",
      "21 21 0\n",
      "22 21 1\n",
      "23 21 2\n",
      "24 21 3\n",
      "25 21 4\n",
      "22 22 0\n",
      "23 22 1\n",
      "24 22 2\n",
      "25 22 3\n",
      "23 23 0\n",
      "24 23 1\n",
      "25 23 2\n",
      "24 24 0\n",
      "25 24 1\n",
      "25 25 0\n"
     ]
    }
   ],
   "source": [
    "for b in range(l, r + 1):\n",
    "    for a in range(b, r + 1):\n",
    "        print(a, b, a % b)"
   ]
  },
  {
   "cell_type": "code",
   "execution_count": 28,
   "metadata": {},
   "outputs": [
    {
     "data": {
      "text/plain": [
       "5"
      ]
     },
     "execution_count": 28,
     "metadata": {},
     "output_type": "execute_result"
    }
   ],
   "source": [
    "17 % 12"
   ]
  },
  {
   "cell_type": "code",
   "execution_count": 20,
   "metadata": {},
   "outputs": [
    {
     "data": {
      "text/plain": [
       "6"
      ]
     },
     "execution_count": 20,
     "metadata": {},
     "output_type": "execute_result"
    }
   ],
   "source": [
    "26 % 20"
   ]
  },
  {
   "cell_type": "markdown",
   "metadata": {},
   "source": [
    "B"
   ]
  },
  {
   "cell_type": "code",
   "execution_count": 80,
   "metadata": {},
   "outputs": [
    {
     "name": "stdout",
     "output_type": "stream",
     "text": [
      "3\n",
      "237\n",
      "2\n",
      "27\n"
     ]
    }
   ],
   "source": [
    "n = int(input())\n",
    "s = input()\n",
    "\n",
    "for v in ['1', '4', '6', '8', '9']:\n",
    "    if v in s:\n",
    "        print(1)\n",
    "        print(v)\n",
    "        break\n",
    "else:\n",
    "    if '2' in s[1:]:\n",
    "        print(2)\n",
    "        r = s[0] + '2'\n",
    "        print(r)\n",
    "    elif '5' in s[1:]:\n",
    "        print(2)\n",
    "        r = s[0] + '5'\n",
    "    elif s.count('3') >= 2:\n",
    "        print(2)\n",
    "        print(33)\n",
    "    elif s.count('7') >= 2:\n",
    "        print(2)\n",
    "        print(77)\n",
    "    elif s[0] == '2' and '7' in s[1:]:\n",
    "        print(2)\n",
    "        print(27)\n",
    "    elif s[0] == '5' and '7' in s[1:]:\n",
    "        print(2)\n",
    "        print(57)"
   ]
  },
  {
   "cell_type": "code",
   "execution_count": 84,
   "metadata": {},
   "outputs": [
    {
     "name": "stdout",
     "output_type": "stream",
     "text": [
      "1\n",
      "2\n",
      "35\n",
      "2\n",
      "35\n"
     ]
    }
   ],
   "source": [
    "for _ in range(int(input())):\n",
    "    n = int(input())\n",
    "    s = input()\n",
    "\n",
    "    for v in ['1', '4', '6', '8', '9']:\n",
    "        if v in s:\n",
    "            print(1)\n",
    "            print(v)\n",
    "            break\n",
    "    else:\n",
    "        if '2' in s[1:]:\n",
    "            print(2)\n",
    "            r = s[0] + '2'\n",
    "            print(r)\n",
    "        elif '5' in s[1:]:\n",
    "            print(2)\n",
    "            r = s[0] + '5'\n",
    "            print(r)\n",
    "        elif s.count('3') >= 2:\n",
    "            print(2)\n",
    "            print(33)\n",
    "        elif s.count('7') >= 2:\n",
    "            print(2)\n",
    "            print(77)\n",
    "        elif s[0] == '2' and '7' in s[1:]:\n",
    "            print(2)\n",
    "            print(27)\n",
    "        elif s[0] == '5' and '7' in s[1:]:\n",
    "            print(2)\n",
    "            print(57)"
   ]
  },
  {
   "cell_type": "markdown",
   "metadata": {},
   "source": [
    "C"
   ]
  },
  {
   "cell_type": "code",
   "execution_count": 99,
   "metadata": {},
   "outputs": [
    {
     "name": "stdout",
     "output_type": "stream",
     "text": [
      "8\n",
      "11110000\n"
     ]
    },
    {
     "data": {
      "text/plain": [
       "3"
      ]
     },
     "execution_count": 99,
     "metadata": {},
     "output_type": "execute_result"
    }
   ],
   "source": [
    "n = int(input())\n",
    "s = input()\n",
    "\n",
    "cri = n // 2 - 1\n",
    "cri"
   ]
  },
  {
   "cell_type": "code",
   "execution_count": 100,
   "metadata": {},
   "outputs": [],
   "source": [
    "f = lambda num: int(num, 2)"
   ]
  },
  {
   "cell_type": "code",
   "execution_count": 125,
   "metadata": {},
   "outputs": [],
   "source": [
    "zindex = -1\n",
    "for v in s:\n",
    "    if v == '0':\n",
    "        zindex = v"
   ]
  },
  {
   "cell_type": "code",
   "execution_count": 176,
   "metadata": {},
   "outputs": [
    {
     "name": "stdout",
     "output_type": "stream",
     "text": [
      "5\n",
      "11111\n",
      "2 5 1 4\n",
      "1 4 4\n",
      "15\n",
      "15\n"
     ]
    }
   ],
   "source": [
    "n = int(input())\n",
    "s = input()\n",
    "\n",
    "cri = n // 2 - 1\n",
    "\n",
    "def solve():   \n",
    "    zindex = -1\n",
    "    for i in range(n):\n",
    "        if s[i] == '0':\n",
    "            zindex = i\n",
    "    \n",
    "    if zindex >= 1:\n",
    "        l1, r1 = 0, zindex - 1    \n",
    "        if r1 - l1 >= cri:\n",
    "            l2, r2 = 0, zindex\n",
    "            return l1 + 1, r1 + 1, l2 + 1, r2 + 1\n",
    "        \n",
    "    if '0' not in s:\n",
    "        return 1, n - 1, 2, n\n",
    "    \n",
    "    zindex2 = float('inf')\n",
    "    for i in range(n):\n",
    "        if s[i] == '0':\n",
    "            zindex2 = i\n",
    "            break\n",
    "            \n",
    "    if zindex2 < n - 1:\n",
    "        l1, r1 = zindex2, n - 1\n",
    "        l2, r2 = zindex2 + 1, n - 1      \n",
    "        if r2 - l2 >= cri:\n",
    "            return l1 + 1, r1 + 1, l2 + 1, r2 + 1\n",
    "        \n",
    "    \n",
    "        \n",
    "        \n",
    "l1, r1, l2, r2 = solve()\n",
    "print(l2, r2, l1, r1)\n",
    "\n",
    "l1 -= 1\n",
    "l2 -= 1\n",
    "\n",
    "print(cri, r1 - l1, r2 - l2)\n",
    "print(f(s[l1:r1]))\n",
    "print(f(s[l2:r2]))"
   ]
  },
  {
   "cell_type": "code",
   "execution_count": null,
   "metadata": {},
   "outputs": [],
   "source": [
    "for _ in range(int(input())):\n",
    "    n = int(input())\n",
    "    s = input()\n",
    "\n",
    "    cri = n // 2 - 1\n",
    "\n",
    "    def solve():   \n",
    "        zindex = -1\n",
    "        for i in range(n):\n",
    "            if s[i] == '0':\n",
    "                zindex = i\n",
    "\n",
    "        if zindex >= 1:\n",
    "            l1, r1 = 0, zindex - 1    \n",
    "            if r1 - l1 >= cri:\n",
    "                l2, r2 = 0, zindex\n",
    "                return l1 + 1, r1 + 1, l2 + 1, r2 + 1\n",
    "\n",
    "        if '0' not in s:\n",
    "            return 1, n - 1, 2, n\n",
    "\n",
    "        zindex2 = float('inf')\n",
    "        for i in range(n):\n",
    "            if s[i] == '0':\n",
    "                zindex2 = i\n",
    "                break\n",
    "\n",
    "        if zindex2 < n - 1:\n",
    "            l1, r1 = zindex2, n - 1\n",
    "            l2, r2 = zindex2 + 1, n - 1      \n",
    "            if r2 - l2 >= cri:\n",
    "                return l1 + 1, r1 + 1, l2 + 1, r2 + 1\n",
    "\n",
    "\n",
    "\n",
    "\n",
    "    l1, r1, l2, r2 = solve()\n",
    "    print(l2, r2, l1, r1)"
   ]
  },
  {
   "cell_type": "code",
   "execution_count": 130,
   "metadata": {},
   "outputs": [
    {
     "data": {
      "text/plain": [
       "15"
      ]
     },
     "execution_count": 130,
     "metadata": {},
     "output_type": "execute_result"
    }
   ],
   "source": [
    "f('1111')"
   ]
  },
  {
   "cell_type": "code",
   "execution_count": 132,
   "metadata": {},
   "outputs": [
    {
     "data": {
      "text/plain": [
       "63"
      ]
     },
     "execution_count": 132,
     "metadata": {},
     "output_type": "execute_result"
    }
   ],
   "source": [
    "f('111111')"
   ]
  },
  {
   "cell_type": "code",
   "execution_count": 131,
   "metadata": {},
   "outputs": [
    {
     "data": {
      "text/plain": [
       "31"
      ]
     },
     "execution_count": 131,
     "metadata": {},
     "output_type": "execute_result"
    }
   ],
   "source": [
    "f('11111')"
   ]
  },
  {
   "cell_type": "code",
   "execution_count": 118,
   "metadata": {},
   "outputs": [
    {
     "data": {
      "text/plain": [
       "14"
      ]
     },
     "execution_count": 118,
     "metadata": {},
     "output_type": "execute_result"
    }
   ],
   "source": [
    "f('1110')"
   ]
  },
  {
   "cell_type": "code",
   "execution_count": 119,
   "metadata": {},
   "outputs": [
    {
     "data": {
      "text/plain": [
       "28"
      ]
     },
     "execution_count": 119,
     "metadata": {},
     "output_type": "execute_result"
    }
   ],
   "source": [
    "f('11100')"
   ]
  },
  {
   "cell_type": "code",
   "execution_count": 124,
   "metadata": {},
   "outputs": [
    {
     "data": {
      "text/plain": [
       "11"
      ]
     },
     "execution_count": 124,
     "metadata": {},
     "output_type": "execute_result"
    }
   ],
   "source": [
    "f('1011')"
   ]
  },
  {
   "cell_type": "code",
   "execution_count": 123,
   "metadata": {},
   "outputs": [
    {
     "data": {
      "text/plain": [
       "22"
      ]
     },
     "execution_count": 123,
     "metadata": {},
     "output_type": "execute_result"
    }
   ],
   "source": [
    "f('10110')"
   ]
  },
  {
   "cell_type": "markdown",
   "metadata": {},
   "source": [
    "D1"
   ]
  },
  {
   "cell_type": "code",
   "execution_count": null,
   "metadata": {},
   "outputs": [],
   "source": [
    "짝수번째에서 시작할 때하고 홀수번째에서 시작할 때를 구분함\n",
    "누적합"
   ]
  },
  {
   "cell_type": "code",
   "execution_count": 181,
   "metadata": {},
   "outputs": [
    {
     "name": "stdout",
     "output_type": "stream",
     "text": [
      "14 3\n",
      "+--++---+++---\n",
      "1 14\n",
      "4\n",
      "6 12\n",
      "-3\n",
      "3 10\n",
      "0\n"
     ]
    }
   ],
   "source": [
    "n, q = map(int, input().split())\n",
    "li = list(input())\n",
    "\n",
    "for i in range(n):\n",
    "    if li[i] == '+':\n",
    "        li[i] = 1\n",
    "    else:\n",
    "        li[i] = -1\n",
    "\n",
    "# even index start\n",
    "ps1 = [0]\n",
    "# odd index start\n",
    "ps2 = [0, 0]\n",
    "\n",
    "cumul = 0\n",
    "for i in range(n):\n",
    "    if i % 2 == 0:\n",
    "        w = 1\n",
    "    else:\n",
    "        w = -1\n",
    "    \n",
    "    cumul += li[i] * w\n",
    "    ps1.append(cumul)\n",
    "    \n",
    "cumul = 0\n",
    "for i in range(1, n):\n",
    "    if i % 2 == 1:\n",
    "        w = 1\n",
    "    else:\n",
    "        w = -1\n",
    "        \n",
    "    cumul += li[i] * 2\n",
    "    ps2.append(cumul)\n",
    "\n",
    "for _ in range(q):\n",
    "    l, r = map(int, input().split())\n",
    "    l -= 1\n",
    "    r -= 1\n",
    "    \n",
    "    if l % 2 == 0:\n",
    "        result = ps1[r + 1] - ps1[l]\n",
    "    else:\n",
    "        result = ps2[r + 1] - ps1[l]\n",
    "        \n",
    "    print(result)"
   ]
  },
  {
   "cell_type": "code",
   "execution_count": 193,
   "metadata": {},
   "outputs": [
    {
     "name": "stdout",
     "output_type": "stream",
     "text": [
      "4 10\n",
      "+-+-\n",
      "1 1\n",
      "1\n",
      "1 2\n",
      "2\n",
      "1 3\n",
      "3\n",
      "1 4\n",
      "4\n",
      "2 2\n",
      "-1\n",
      "2 3\n",
      "-2\n",
      "2 4\n",
      "-3\n",
      "3 3\n",
      "1\n",
      "3 4\n",
      "2\n",
      "4 4\n",
      "-1\n"
     ]
    }
   ],
   "source": [
    "n, q = map(int, input().split())\n",
    "li = list(input())\n",
    "\n",
    "for i in range(n):\n",
    "    if li[i] == '+':\n",
    "        li[i] = 1\n",
    "    else:\n",
    "        li[i] = -1\n",
    "\n",
    "# even index start\n",
    "ps1 = [0]\n",
    "# odd index start\n",
    "ps2 = [0, 0]\n",
    "\n",
    "cumul = 0\n",
    "for i in range(n):\n",
    "    if i % 2 == 0:\n",
    "        w = 1\n",
    "    else:\n",
    "        w = -1\n",
    "    \n",
    "    cumul += li[i] * w\n",
    "    ps1.append(cumul)\n",
    "    \n",
    "cumul = 0\n",
    "for i in range(1, n):\n",
    "    if i % 2 == 1:\n",
    "        w = 1\n",
    "    else:\n",
    "        w = -1\n",
    "        \n",
    "    cumul += li[i] * w\n",
    "    ps2.append(cumul)\n",
    "\n",
    "for _ in range(q):\n",
    "    l, r = map(int, input().split())\n",
    "    l -= 1\n",
    "    r -= 1\n",
    "    \n",
    "    if l % 2 == 0:\n",
    "        result = ps1[r + 1] - ps1[l]\n",
    "    else:\n",
    "        result = ps2[r + 1] - ps2[l]\n",
    "        \n",
    "    if result == 0:\n",
    "        print(0)\n",
    "    elif result % 2 == 1:\n",
    "        print(1)\n",
    "    else:\n",
    "        print(2)"
   ]
  },
  {
   "cell_type": "code",
   "execution_count": null,
   "metadata": {},
   "outputs": [],
   "source": [
    "for _ in range(int(input())):\n",
    "    n, q = map(int, input().split())\n",
    "    li = list(input())\n",
    "\n",
    "    for i in range(n):\n",
    "        if li[i] == '+':\n",
    "            li[i] = 1\n",
    "        else:\n",
    "            li[i] = -1\n",
    "\n",
    "    # even index start\n",
    "    ps1 = [0]\n",
    "    # odd index start\n",
    "    ps2 = [0, 0]\n",
    "\n",
    "    cumul = 0\n",
    "    for i in range(n):\n",
    "        if i % 2 == 0:\n",
    "            w = 1\n",
    "        else:\n",
    "            w = -1\n",
    "\n",
    "        cumul += li[i] * w\n",
    "        ps1.append(cumul)\n",
    "\n",
    "    cumul = 0\n",
    "    for i in range(1, n):\n",
    "        if i % 2 == 1:\n",
    "            w = 1\n",
    "        else:\n",
    "            w = -1\n",
    "\n",
    "        cumul += li[i] * w\n",
    "        ps2.append(cumul)\n",
    "\n",
    "    for _ in range(q):\n",
    "        l, r = map(int, input().split())\n",
    "        l -= 1\n",
    "        r -= 1\n",
    "\n",
    "        if l % 2 == 0:\n",
    "            result = ps1[r + 1] - ps1[l]\n",
    "        else:\n",
    "            result = ps2[r + 1] - ps2[l]\n",
    "\n",
    "        if result == 0:\n",
    "            print(0)\n",
    "        elif result % 2 == 1:\n",
    "            print(1)\n",
    "        else:\n",
    "            print(2)"
   ]
  },
  {
   "cell_type": "code",
   "execution_count": 195,
   "metadata": {},
   "outputs": [
    {
     "data": {
      "text/plain": [
       "0"
      ]
     },
     "execution_count": 195,
     "metadata": {},
     "output_type": "execute_result"
    }
   ],
   "source": []
  },
  {
   "cell_type": "code",
   "execution_count": 190,
   "metadata": {},
   "outputs": [
    {
     "data": {
      "text/plain": [
       "[0, 1, 2, 3, 4]"
      ]
     },
     "execution_count": 190,
     "metadata": {},
     "output_type": "execute_result"
    }
   ],
   "source": [
    "ps1"
   ]
  },
  {
   "cell_type": "code",
   "execution_count": 191,
   "metadata": {},
   "outputs": [
    {
     "data": {
      "text/plain": [
       "[0, 0, -2, 0, -2]"
      ]
     },
     "execution_count": 191,
     "metadata": {},
     "output_type": "execute_result"
    }
   ],
   "source": [
    "ps2"
   ]
  },
  {
   "cell_type": "code",
   "execution_count": null,
   "metadata": {},
   "outputs": [],
   "source": [
    "ps2[r + 1] - ps1[l]"
   ]
  },
  {
   "cell_type": "markdown",
   "metadata": {},
   "source": [
    "### 제출본"
   ]
  },
  {
   "cell_type": "code",
   "execution_count": null,
   "metadata": {},
   "outputs": [],
   "source": [
    "import os\n",
    "import sys\n",
    "from io import BytesIO, IOBase\n",
    " \n",
    "\n",
    "def main():\n",
    "    for _ in range(int(input())):\n",
    "        n, q = map(int, input().split())\n",
    "        li = list(input())\n",
    "\n",
    "        for i in range(n):\n",
    "            if li[i] == '+':\n",
    "                li[i] = 1\n",
    "            else:\n",
    "                li[i] = -1\n",
    "\n",
    "        # even index start\n",
    "        ps1 = [0]\n",
    "        # odd index start\n",
    "        ps2 = [0, 0]\n",
    "\n",
    "        cumul = 0\n",
    "        for i in range(n):\n",
    "            if i % 2 == 0:\n",
    "                w = 1\n",
    "            else:\n",
    "                w = -1\n",
    "\n",
    "            cumul += li[i] * w\n",
    "            ps1.append(cumul)\n",
    "\n",
    "        cumul = 0\n",
    "        for i in range(1, n):\n",
    "            if i % 2 == 1:\n",
    "                w = 1\n",
    "            else:\n",
    "                w = -1\n",
    "\n",
    "            cumul += li[i] * w\n",
    "            ps2.append(cumul)\n",
    "\n",
    "        for _ in range(q):\n",
    "            l, r = map(int, input().split())\n",
    "            l -= 1\n",
    "            r -= 1\n",
    "\n",
    "            if l % 2 == 0:\n",
    "                result = ps1[r + 1] - ps1[l]\n",
    "            else:\n",
    "                result = ps2[r + 1] - ps2[l]\n",
    "\n",
    "            if result == 0:\n",
    "                print(0)\n",
    "            elif result % 2 == 1:\n",
    "                print(1)\n",
    "            else:\n",
    "                print(2)\n",
    "\n",
    "    \n",
    "    \n",
    "\n",
    "# region fastio\n",
    " \n",
    "BUFSIZE = 8192\n",
    " \n",
    "\n",
    "class FastIO(IOBase):\n",
    "    newlines = 0\n",
    " \n",
    "    def __init__(self, file):\n",
    "        self._fd = file.fileno()\n",
    "        self.buffer = BytesIO()\n",
    "        self.writable = \"x\" in file.mode or \"r\" not in file.mode\n",
    "        self.write = self.buffer.write if self.writable else None\n",
    " \n",
    "    def read(self):\n",
    "        while True:\n",
    "            b = os.read(self._fd, max(os.fstat(self._fd).st_size, BUFSIZE))\n",
    "            if not b:\n",
    "                break\n",
    "            ptr = self.buffer.tell()\n",
    "            self.buffer.seek(0, 2), self.buffer.write(b), self.buffer.seek(ptr)\n",
    "        self.newlines = 0\n",
    "        return self.buffer.read()\n",
    " \n",
    "    def readline(self):\n",
    "        while self.newlines == 0:\n",
    "            b = os.read(self._fd, max(os.fstat(self._fd).st_size, BUFSIZE))\n",
    "            self.newlines = b.count(b\"\\n\") + (not b)\n",
    "            ptr = self.buffer.tell()\n",
    "            self.buffer.seek(0, 2), self.buffer.write(b), self.buffer.seek(ptr)\n",
    "        self.newlines -= 1\n",
    "        return self.buffer.readline()\n",
    " \n",
    "    def flush(self):\n",
    "        if self.writable:\n",
    "            os.write(self._fd, self.buffer.getvalue())\n",
    "            self.buffer.truncate(0), self.buffer.seek(0)\n",
    " \n",
    " \n",
    "class IOWrapper(IOBase):\n",
    "    def __init__(self, file):\n",
    "        self.buffer = FastIO(file)\n",
    "        self.flush = self.buffer.flush\n",
    "        self.writable = self.buffer.writable\n",
    "        self.write = lambda s: self.buffer.write(s.encode(\"ascii\"))\n",
    "        self.read = lambda: self.buffer.read().decode(\"ascii\")\n",
    "        self.readline = lambda: self.buffer.readline().decode(\"ascii\")\n",
    " \n",
    " \n",
    "sys.stdin, sys.stdout = IOWrapper(sys.stdin), IOWrapper(sys.stdout)\n",
    "input = lambda: sys.stdin.readline().rstrip(\"\\r\\n\")\n",
    " \n",
    "# endregion\n",
    " \n",
    "if __name__ == \"__main__\":\n",
    "    main()"
   ]
  }
 ],
 "metadata": {
  "kernelspec": {
   "display_name": "Python 3",
   "language": "python",
   "name": "python3"
  },
  "language_info": {
   "codemirror_mode": {
    "name": "ipython",
    "version": 3
   },
   "file_extension": ".py",
   "mimetype": "text/x-python",
   "name": "python",
   "nbconvert_exporter": "python",
   "pygments_lexer": "ipython3",
   "version": "3.7.3"
  }
 },
 "nbformat": 4,
 "nbformat_minor": 4
}
