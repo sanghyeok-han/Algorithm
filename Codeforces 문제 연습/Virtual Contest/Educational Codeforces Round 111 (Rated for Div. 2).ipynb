{
 "cells": [
  {
   "cell_type": "code",
   "execution_count": null,
   "metadata": {},
   "outputs": [],
   "source": [
    "n = int(input())\n",
    "li = list(map(int, input().split()))"
   ]
  },
  {
   "cell_type": "markdown",
   "metadata": {},
   "source": [
    "A"
   ]
  },
  {
   "cell_type": "code",
   "execution_count": 5,
   "metadata": {},
   "outputs": [
    {
     "name": "stdout",
     "output_type": "stream",
     "text": [
      "4\n",
      "2\n"
     ]
    }
   ],
   "source": [
    "s = int(input())\n",
    "\n",
    "cumul = 1\n",
    "w = 1\n",
    "count = 1\n",
    "while True:\n",
    "    if s <= cumul:\n",
    "        break\n",
    "        \n",
    "    w += 2\n",
    "    cumul += w\n",
    "    count += 1\n",
    "    \n",
    "print(count)"
   ]
  },
  {
   "cell_type": "code",
   "execution_count": null,
   "metadata": {},
   "outputs": [],
   "source": [
    "for _ in range(int(input())):\n",
    "    s = int(input())\n",
    "\n",
    "    cumul = 1\n",
    "    w = 1\n",
    "    count = 1\n",
    "    while True:\n",
    "        if s <= cumul:\n",
    "            break\n",
    "\n",
    "        w += 2\n",
    "        cumul += w\n",
    "        count += 1\n",
    "\n",
    "    print(count)"
   ]
  },
  {
   "cell_type": "markdown",
   "metadata": {},
   "source": [
    "B"
   ]
  },
  {
   "cell_type": "code",
   "execution_count": 18,
   "metadata": {},
   "outputs": [
    {
     "name": "stdout",
     "output_type": "stream",
     "text": [
      "6 1 -4\n",
      "100111\n",
      "-2\n"
     ]
    }
   ],
   "source": [
    "n, a, b = map(int, input().split())\n",
    "s = input()\n",
    "\n",
    "total = 0\n",
    "if b >= 0:\n",
    "    total = a * n + b * n\n",
    "else:\n",
    "    total = a * n\n",
    "    \n",
    "    ns = [s[0]]\n",
    "    for v in s[1:]:\n",
    "        if v != ns[-1]:\n",
    "            ns.append(v)\n",
    "            \n",
    "    nn = len(ns)\n",
    "    temp = (nn + 2) // 2\n",
    "    total += temp * b\n",
    "    \n",
    "print(total)"
   ]
  },
  {
   "cell_type": "code",
   "execution_count": null,
   "metadata": {},
   "outputs": [],
   "source": [
    "for _ in range(int(input())):\n",
    "    n, a, b = map(int, input().split())\n",
    "    s = input()\n",
    "\n",
    "    total = 0\n",
    "    if b >= 0:\n",
    "        total = a * n + b * n\n",
    "    else:\n",
    "        total = a * n\n",
    "\n",
    "        ns = [s[0]]\n",
    "        for v in s[1:]:\n",
    "            if v != ns[-1]:\n",
    "                ns.append(v)\n",
    "\n",
    "        nn = len(ns)\n",
    "        temp = (nn + 2) // 2\n",
    "        total += temp * b\n",
    "\n",
    "    print(total)"
   ]
  },
  {
   "cell_type": "code",
   "execution_count": null,
   "metadata": {},
   "outputs": [],
   "source": [
    "0000111110000"
   ]
  },
  {
   "cell_type": "code",
   "execution_count": null,
   "metadata": {},
   "outputs": [],
   "source": [
    "만약 b가 양수면 최대한 많이\n",
    "b가 음수면 최대한 적게"
   ]
  },
  {
   "cell_type": "markdown",
   "metadata": {},
   "source": [
    "C"
   ]
  },
  {
   "cell_type": "markdown",
   "metadata": {},
   "source": [
    "길이가 1, 2인 경우는 무조건 좋음\n",
    "세 수가 >= >= 거나 <= <=면 안됨"
   ]
  },
  {
   "cell_type": "code",
   "execution_count": 47,
   "metadata": {},
   "outputs": [
    {
     "name": "stdout",
     "output_type": "stream",
     "text": [
      "2\n",
      "13 37\n",
      "3\n"
     ]
    }
   ],
   "source": [
    "def gd(a, b):\n",
    "    '''get dist'''\n",
    "    \n",
    "    x1, y1 = a\n",
    "    x2, y2 = b\n",
    "    return abs(x1 - x2) + abs(y1 - y2)\n",
    "\n",
    "def check(a, b, c):\n",
    "    temp = [gd(a, b), gd(b, c), gd(a, c)]\n",
    "    temp.sort()\n",
    "    if temp[0] + temp[1] != temp[2]:\n",
    "        return 1\n",
    "    else:\n",
    "        return 0\n",
    "    \n",
    "def check2(t):\n",
    "    c = 0\n",
    "    for i in range(4):\n",
    "        for j in range(i + 1, 4):\n",
    "            for k in range(j + 1, 4):\n",
    "                temp = [gd(t[i], t[j]), gd(t[j], t[k]), gd(t[i], t[k])]\n",
    "                temp.sort()\n",
    "                if temp[0] + temp[1] != temp[2]:\n",
    "                    c += 1\n",
    "    if c == 4:\n",
    "        return 1\n",
    "    else:\n",
    "        return 0\n",
    "        \n",
    "n = int(input())\n",
    "li = list(map(int, input().split()))\n",
    "li = [(v, i + 1) for i, v in enumerate(li)]\n",
    "\n",
    "total = n + n - 1\n",
    "\n",
    "for i in range(n - 2):\n",
    "    total += check(li[i], li[i + 1], li[i + 2])\n",
    "\n",
    "for i in range(n - 3):\n",
    "    temp = li[i:i+4]\n",
    "    total += check2(temp)\n",
    "    \n",
    "print(total)"
   ]
  },
  {
   "cell_type": "code",
   "execution_count": 48,
   "metadata": {},
   "outputs": [
    {
     "name": "stdout",
     "output_type": "stream",
     "text": [
      "1\n",
      "4\n",
      "2 4 1 3\n",
      "10\n"
     ]
    }
   ],
   "source": [
    "for _ in range(int(input())):\n",
    "    def gd(a, b):\n",
    "        '''get dist'''\n",
    "\n",
    "        x1, y1 = a\n",
    "        x2, y2 = b\n",
    "        return abs(x1 - x2) + abs(y1 - y2)\n",
    "\n",
    "    def check(a, b, c):\n",
    "        temp = [gd(a, b), gd(b, c), gd(a, c)]\n",
    "        temp.sort()\n",
    "        if temp[0] + temp[1] != temp[2]:\n",
    "            return 1\n",
    "        else:\n",
    "            return 0\n",
    "\n",
    "    def check2(t):\n",
    "        c = 0\n",
    "        for i in range(4):\n",
    "            for j in range(i + 1, 4):\n",
    "                for k in range(j + 1, 4):\n",
    "                    temp = [gd(t[i], t[j]), gd(t[j], t[k]), gd(t[i], t[k])]\n",
    "                    temp.sort()\n",
    "                    if temp[0] + temp[1] != temp[2]:\n",
    "                        c += 1\n",
    "        if c == 4:\n",
    "            return 1\n",
    "        else:\n",
    "            return 0\n",
    "\n",
    "    n = int(input())\n",
    "    li = list(map(int, input().split()))\n",
    "    li = [(v, i + 1) for i, v in enumerate(li)]\n",
    "\n",
    "    total = n + n - 1\n",
    "\n",
    "    for i in range(n - 2):\n",
    "        total += check(li[i], li[i + 1], li[i + 2])\n",
    "\n",
    "    for i in range(n - 3):\n",
    "        temp = li[i:i+4]\n",
    "        total += check2(temp)\n",
    "\n",
    "    print(total)"
   ]
  },
  {
   "cell_type": "markdown",
   "metadata": {},
   "source": [
    "### 제출본"
   ]
  },
  {
   "cell_type": "code",
   "execution_count": null,
   "metadata": {},
   "outputs": [],
   "source": [
    "import os\n",
    "import sys\n",
    "from io import BytesIO, IOBase\n",
    " \n",
    "\n",
    "def main():\n",
    "    for _ in range(int(input())):\n",
    "        def gd(a, b):\n",
    "            '''get dist'''\n",
    "\n",
    "            x1, y1 = a\n",
    "            x2, y2 = b\n",
    "            return abs(x1 - x2) + abs(y1 - y2)\n",
    "\n",
    "        def check(a, b, c):\n",
    "            temp = [gd(a, b), gd(b, c), gd(a, c)]\n",
    "            temp.sort()\n",
    "            if temp[0] + temp[1] != temp[2]:\n",
    "                return 1\n",
    "            else:\n",
    "                return 0\n",
    "\n",
    "        def check2(t):\n",
    "            c = 0\n",
    "            for i in range(4):\n",
    "                for j in range(i + 1, 4):\n",
    "                    for k in range(j + 1, 4):\n",
    "                        temp = [gd(t[i], t[j]), gd(t[j], t[k]), gd(t[i], t[k])]\n",
    "                        temp.sort()\n",
    "                        if temp[0] + temp[1] != temp[2]:\n",
    "                            c += 1\n",
    "            if c == 4:\n",
    "                return 1\n",
    "            else:\n",
    "                return 0\n",
    "\n",
    "        n = int(input())\n",
    "        li = list(map(int, input().split()))\n",
    "        li = [(v, i + 1) for i, v in enumerate(li)]\n",
    "\n",
    "        total = n + n - 1\n",
    "\n",
    "        for i in range(n - 2):\n",
    "            total += check(li[i], li[i + 1], li[i + 2])\n",
    "\n",
    "        for i in range(n - 3):\n",
    "            temp = li[i:i+4]\n",
    "            total += check2(temp)\n",
    "\n",
    "        print(total)\n",
    "    \n",
    "    \n",
    "    \n",
    "\n",
    "# region fastio\n",
    " \n",
    "BUFSIZE = 8192\n",
    " \n",
    "\n",
    "class FastIO(IOBase):\n",
    "    newlines = 0\n",
    " \n",
    "    def __init__(self, file):\n",
    "        self._fd = file.fileno()\n",
    "        self.buffer = BytesIO()\n",
    "        self.writable = \"x\" in file.mode or \"r\" not in file.mode\n",
    "        self.write = self.buffer.write if self.writable else None\n",
    " \n",
    "    def read(self):\n",
    "        while True:\n",
    "            b = os.read(self._fd, max(os.fstat(self._fd).st_size, BUFSIZE))\n",
    "            if not b:\n",
    "                break\n",
    "            ptr = self.buffer.tell()\n",
    "            self.buffer.seek(0, 2), self.buffer.write(b), self.buffer.seek(ptr)\n",
    "        self.newlines = 0\n",
    "        return self.buffer.read()\n",
    " \n",
    "    def readline(self):\n",
    "        while self.newlines == 0:\n",
    "            b = os.read(self._fd, max(os.fstat(self._fd).st_size, BUFSIZE))\n",
    "            self.newlines = b.count(b\"\\n\") + (not b)\n",
    "            ptr = self.buffer.tell()\n",
    "            self.buffer.seek(0, 2), self.buffer.write(b), self.buffer.seek(ptr)\n",
    "        self.newlines -= 1\n",
    "        return self.buffer.readline()\n",
    " \n",
    "    def flush(self):\n",
    "        if self.writable:\n",
    "            os.write(self._fd, self.buffer.getvalue())\n",
    "            self.buffer.truncate(0), self.buffer.seek(0)\n",
    " \n",
    " \n",
    "class IOWrapper(IOBase):\n",
    "    def __init__(self, file):\n",
    "        self.buffer = FastIO(file)\n",
    "        self.flush = self.buffer.flush\n",
    "        self.writable = self.buffer.writable\n",
    "        self.write = lambda s: self.buffer.write(s.encode(\"ascii\"))\n",
    "        self.read = lambda: self.buffer.read().decode(\"ascii\")\n",
    "        self.readline = lambda: self.buffer.readline().decode(\"ascii\")\n",
    " \n",
    " \n",
    "sys.stdin, sys.stdout = IOWrapper(sys.stdin), IOWrapper(sys.stdout)\n",
    "input = lambda: sys.stdin.readline().rstrip(\"\\r\\n\")\n",
    " \n",
    "# endregion\n",
    " \n",
    "if __name__ == \"__main__\":\n",
    "    main()"
   ]
  },
  {
   "cell_type": "code",
   "execution_count": null,
   "metadata": {},
   "outputs": [],
   "source": []
  },
  {
   "cell_type": "code",
   "execution_count": null,
   "metadata": {},
   "outputs": [],
   "source": [
    "get_dist()"
   ]
  }
 ],
 "metadata": {
  "kernelspec": {
   "display_name": "Python 3",
   "language": "python",
   "name": "python3"
  },
  "language_info": {
   "codemirror_mode": {
    "name": "ipython",
    "version": 3
   },
   "file_extension": ".py",
   "mimetype": "text/x-python",
   "name": "python",
   "nbconvert_exporter": "python",
   "pygments_lexer": "ipython3",
   "version": "3.7.3"
  }
 },
 "nbformat": 4,
 "nbformat_minor": 4
}
