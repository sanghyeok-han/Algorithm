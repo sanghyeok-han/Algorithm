{
 "cells": [
  {
   "cell_type": "code",
   "execution_count": null,
   "metadata": {},
   "outputs": [],
   "source": [
    "n = int(input())\n",
    "li = list(map(int, input().split()))"
   ]
  },
  {
   "cell_type": "markdown",
   "metadata": {},
   "source": [
    "A"
   ]
  },
  {
   "cell_type": "raw",
   "metadata": {},
   "source": [
    "아이디어 발견 및 연산 순서에 따라 다른 값이 나오는 것 때문에 오래 걸렸음"
   ]
  },
  {
   "cell_type": "code",
   "execution_count": null,
   "metadata": {},
   "outputs": [],
   "source": [
    "나머지를 사용하는 문제일 때 나머지 연산 이후에 나누기 연산을 사용하면 안됨"
   ]
  },
  {
   "cell_type": "code",
   "execution_count": null,
   "metadata": {},
   "outputs": [],
   "source": [
    "n = int(input())\n",
    "n *= 2\n",
    "\n",
    "mod = 1000000007\n",
    "\n",
    "if n == 1:\n",
    "    print(1)\n",
    "else:\n",
    "    cur = 1\n",
    "    for i in range(1, n + 1):\n",
    "        if i == 2:\n",
    "            continue\n",
    "        cur *= i\n",
    "        cur %= mod\n",
    "\n",
    "    print(cur)"
   ]
  },
  {
   "cell_type": "code",
   "execution_count": 39,
   "metadata": {},
   "outputs": [
    {
     "name": "stdout",
     "output_type": "stream",
     "text": [
      "9\n",
      "660911389\n",
      "330455694\n"
     ]
    }
   ],
   "source": [
    "n = int(input())\n",
    "n *= 2\n",
    "\n",
    "mod = 1000000007\n",
    "\n",
    "cur = 1\n",
    "for i in range(1, n + 1):\n",
    "    cur *= i\n",
    "    cur %= mod\n",
    "\n",
    "print(cur)\n",
    "print(cur // 2)"
   ]
  },
  {
   "cell_type": "code",
   "execution_count": 40,
   "metadata": {},
   "outputs": [
    {
     "name": "stdout",
     "output_type": "stream",
     "text": [
      "9\n",
      "660911389\n",
      "330455694\n"
     ]
    }
   ],
   "source": [
    "n = int(input())\n",
    "n *= 2\n",
    "\n",
    "mod = 1000000007\n",
    "\n",
    "cur = 1\n",
    "for i in range(1, n + 1):\n",
    "    cur *= i\n",
    "    cur %= mod\n",
    "\n",
    "print(cur)\n",
    "print(cur // 2)"
   ]
  },
  {
   "cell_type": "code",
   "execution_count": 60,
   "metadata": {},
   "outputs": [
    {
     "data": {
      "text/plain": [
       "4.5"
      ]
     },
     "execution_count": 60,
     "metadata": {},
     "output_type": "execute_result"
    }
   ],
   "source": [
    "2*3*7 % 11 / 2"
   ]
  },
  {
   "cell_type": "code",
   "execution_count": 61,
   "metadata": {},
   "outputs": [
    {
     "data": {
      "text/plain": [
       "10"
      ]
     },
     "execution_count": 61,
     "metadata": {},
     "output_type": "execute_result"
    }
   ],
   "source": [
    "3*7 % 11"
   ]
  },
  {
   "cell_type": "code",
   "execution_count": 56,
   "metadata": {},
   "outputs": [
    {
     "data": {
      "text/plain": [
       "10"
      ]
     },
     "execution_count": 56,
     "metadata": {},
     "output_type": "execute_result"
    }
   ],
   "source": [
    "3*7 % 11"
   ]
  },
  {
   "cell_type": "code",
   "execution_count": null,
   "metadata": {},
   "outputs": [],
   "source": [
    "123*3*4*5%11//2"
   ]
  },
  {
   "cell_type": "code",
   "execution_count": null,
   "metadata": {},
   "outputs": [],
   "source": [
    "123*3*4//2*5%11"
   ]
  },
  {
   "cell_type": "code",
   "execution_count": null,
   "metadata": {},
   "outputs": [],
   "source": [
    "for _ in range(int(input())):\n",
    "    n = int(input())\n",
    "    n *= 2\n",
    "\n",
    "    mod = 1000000007\n",
    "\n",
    "    if n == 1:\n",
    "        print(1)\n",
    "    else:\n",
    "        cur = 1\n",
    "        for i in range(1, n + 1):\n",
    "            if i == 2:\n",
    "                continue\n",
    "            cur *= i\n",
    "            cur %= mod\n",
    "\n",
    "        print(cur)"
   ]
  },
  {
   "cell_type": "markdown",
   "metadata": {},
   "source": [
    "B"
   ]
  },
  {
   "cell_type": "raw",
   "metadata": {},
   "source": [
    "1+2+3하고 1*2*3를 헷갈려서 오래 걸렸음"
   ]
  },
  {
   "cell_type": "code",
   "execution_count": null,
   "metadata": {},
   "outputs": [],
   "source": [
    "def get_value(n):\n",
    "    return (n - 1) * n // 2\n",
    "\n",
    "for _ in range(int(input())):\n",
    "    n, m, k = map(int, input().split())\n",
    "    k -= 1\n",
    "\n",
    "    if n == 1:\n",
    "        if m == 0 and k >= 1:\n",
    "            print('YES')\n",
    "        else:\n",
    "            print('NO')\n",
    "    elif get_value(n) < m:\n",
    "        print('NO')\n",
    "    elif k <= 1:\n",
    "        print('NO')\n",
    "    elif k == 2:\n",
    "        f = get_value(n)\n",
    "        if m == f:\n",
    "            print('YES')\n",
    "        else:\n",
    "            print('NO')\n",
    "    else:\n",
    "        if m >= n - 1:\n",
    "            print('YES')\n",
    "        else:\n",
    "            print('NO')"
   ]
  },
  {
   "cell_type": "markdown",
   "metadata": {},
   "source": [
    "C"
   ]
  },
  {
   "cell_type": "code",
   "execution_count": null,
   "metadata": {},
   "outputs": [],
   "source": [
    "최대 16개를 바꾸게 됨 그 이상이 필요하면 그냥 새로 만들면 되므로"
   ]
  },
  {
   "cell_type": "code",
   "execution_count": 63,
   "metadata": {},
   "outputs": [
    {
     "data": {
      "text/plain": [
       "63200000"
      ]
     },
     "execution_count": 63,
     "metadata": {},
     "output_type": "execute_result"
    }
   ],
   "source": [
    "1 개수의 가로 누적합과 세로 누적합을 구함\n",
    "0 개수의 범위 누적합을 구함\n",
    "\n",
    "가능한 모든 구간에서 5*4부터 하나씩 넓혀서 확인해보며, 최대 16개 이상을 바꾸게 되는 경우에는 백트랙함"
   ]
  },
  {
   "cell_type": "markdown",
   "metadata": {},
   "source": [
    "11:37"
   ]
  },
  {
   "cell_type": "code",
   "execution_count": 33,
   "metadata": {},
   "outputs": [
    {
     "name": "stdout",
     "output_type": "stream",
     "text": [
      "0 0 4 5\n",
      "1 1 1 2 1\n",
      "0 0 4 6\n",
      "1 1 1 3 2\n",
      "0 0 4 7\n",
      "1 2 1 4 3\n",
      "0 0 4 8\n",
      "1 0 2 5 3\n",
      "0 0 5 5\n",
      "2 2 1 1 2\n",
      "0 0 5 6\n",
      "2 2 1 1 3\n",
      "0 0 5 7\n",
      "2 3 1 2 4\n",
      "0 0 5 8\n",
      "2 0 2 3 4\n",
      "0 0 6 5\n",
      "2 2 1 3 4\n",
      "0 0 6 6\n",
      "2 3 1 4 6\n",
      "0 0 7 5\n",
      "3 3 1 2 4\n",
      "0 0 7 6\n",
      "3 3 1 2 6\n",
      "0 0 7 7\n",
      "3 4 1 2 8\n",
      "0 0 8 5\n",
      "4 3 1 2 5\n",
      "0 0 8 6\n",
      "4 3 1 3 8\n",
      "0 1 4 5\n",
      "1 1 3 1 2\n",
      "0 1 4 6\n",
      "1 2 4 1 3\n",
      "0 1 4 7\n",
      "1 2 4 2 3\n",
      "0 1 4 8\n",
      "1 0 5 3 3\n",
      "0 1 5 5\n",
      "1 1 3 3 4\n",
      "0 1 5 6\n",
      "1 3 4 4 6\n",
      "0 1 6 5\n",
      "2 2 3 2 4\n",
      "0 1 6 6\n",
      "2 3 4 2 6\n",
      "0 1 7 5\n",
      "3 2 3 2 5\n",
      "0 2 4 5\n",
      "1 1 2 3 3\n",
      "0 2 4 6\n",
      "1 2 2 4 4\n",
      "0 2 5 5\n",
      "2 2 2 2 3\n",
      "0 2 5 6\n",
      "2 2 2 2 4\n",
      "0 2 5 7\n",
      "2 2 3 2 5\n",
      "0 2 5 8\n",
      "2 2 4 2 6\n",
      "0 2 6 5\n",
      "3 2 2 2 4\n",
      "0 2 6 6\n",
      "3 2 2 3 6\n",
      "0 3 4 5\n",
      "1 1 2 2 2\n",
      "0 3 4 6\n",
      "1 1 3 2 3\n",
      "0 3 4 7\n",
      "1 1 4 2 4\n",
      "0 3 4 8\n",
      "1 2 5 2 5\n",
      "0 3 5 5\n",
      "2 1 2 2 3\n",
      "0 3 5 6\n",
      "2 1 3 3 5\n",
      "0 4 4 5\n",
      "2 1 1 2 1\n",
      "0 4 4 6\n",
      "2 0 1 3 2\n",
      "0 4 4 7\n",
      "2 0 2 3 4\n",
      "0 4 4 8\n",
      "2 2 3 3 6\n",
      "0 5 4 5\n",
      "2 1 3 1 2\n",
      "0 5 4 6\n",
      "2 0 4 1 3\n",
      "0 5 4 7\n",
      "2 0 4 1 5\n",
      "0 5 4 8\n",
      "2 2 4 1 7\n",
      "1 0 4 5\n",
      "1 1 1 3 1\n",
      "1 0 4 6\n",
      "1 2 1 4 2\n",
      "1 0 4 7\n",
      "1 0 2 5 2\n",
      "1 0 5 5\n",
      "1 2 1 1 1\n",
      "1 0 5 6\n",
      "1 3 1 2 2\n",
      "1 0 5 7\n",
      "1 0 2 3 2\n",
      "1 0 6 5\n",
      "1 3 1 3 3\n",
      "1 0 6 6\n",
      "1 4 1 3 4\n",
      "1 0 6 7\n",
      "1 1 2 3 4\n",
      "1 0 7 5\n",
      "2 3 1 2 3\n",
      "1 0 7 6\n",
      "2 4 1 2 5\n",
      "1 0 7 7\n",
      "2 2 2 2 6\n",
      "1 0 8 5\n",
      "2 3 1 2 4\n",
      "1 0 8 6\n",
      "2 4 1 2 7\n",
      "1 0 8 7\n",
      "2 3 2 2 9\n",
      "1 1 4 5\n",
      "0 2 3 1 1\n",
      "1 1 4 6\n",
      "0 2 3 2 1\n",
      "1 1 4 7\n",
      "0 0 4 3 1\n",
      "1 1 5 5\n",
      "0 3 3 3 3\n",
      "1 1 5 6\n",
      "0 3 3 3 3\n",
      "1 1 5 7\n",
      "0 1 4 3 3\n",
      "1 1 6 5\n",
      "1 3 3 2 3\n",
      "1 1 6 6\n",
      "1 3 3 2 4\n",
      "1 1 6 7\n",
      "1 2 4 2 5\n",
      "1 1 7 5\n",
      "1 3 3 2 4\n",
      "1 1 7 6\n",
      "1 3 3 2 6\n",
      "1 1 7 7\n",
      "1 3 4 2 8\n",
      "1 2 4 5\n",
      "0 2 2 3 2\n",
      "1 2 4 6\n",
      "0 2 3 3 2\n",
      "1 2 4 7\n",
      "0 1 4 3 2\n",
      "1 2 5 5\n",
      "1 2 2 2 2\n",
      "1 2 5 6\n",
      "1 2 3 2 3\n",
      "1 2 5 7\n",
      "1 2 4 2 4\n",
      "1 2 6 5\n",
      "1 2 2 2 3\n",
      "1 2 6 6\n",
      "1 2 3 2 5\n",
      "1 2 6 7\n",
      "1 3 4 2 7\n",
      "1 3 4 5\n",
      "1 1 3 2 2\n",
      "1 3 4 6\n",
      "1 1 4 2 3\n",
      "1 3 4 7\n",
      "1 2 5 2 4\n",
      "1 3 5 5\n",
      "1 1 3 2 3\n",
      "1 3 5 6\n",
      "1 1 4 2 5\n",
      "1 3 5 7\n",
      "1 3 5 2 7\n",
      "1 4 4 5\n",
      "1 0 1 2 1\n",
      "1 4 4 6\n",
      "1 0 2 2 3\n",
      "1 4 4 7\n",
      "1 2 3 2 5\n",
      "1 5 4 5\n",
      "1 0 3 0 2\n",
      "1 5 4 6\n",
      "1 0 3 0 4\n",
      "1 5 4 7\n",
      "1 2 3 0 6\n",
      "2 0 4 5\n",
      "2 2 0 3 2\n",
      "2 0 4 6\n",
      "2 0 1 4 2\n",
      "2 0 5 5\n",
      "3 3 0 2 2\n",
      "2 0 5 6\n",
      "3 0 1 3 2\n",
      "2 0 6 5\n",
      "3 4 0 2 3\n",
      "2 0 6 6\n",
      "3 1 1 2 3\n",
      "2 0 7 5\n",
      "4 4 0 1 4\n",
      "2 0 7 6\n",
      "4 2 1 1 5\n",
      "2 0 8 5\n",
      "5 4 0 2 6\n",
      "2 1 4 5\n",
      "2 2 2 2 1\n",
      "2 1 4 6\n",
      "2 0 3 3 1\n",
      "2 1 5 5\n",
      "2 3 2 2 2\n",
      "2 1 5 6\n",
      "2 1 3 2 2\n",
      "2 1 6 5\n",
      "3 3 2 1 3\n",
      "2 1 6 6\n",
      "3 2 3 1 4\n",
      "2 1 7 5\n",
      "4 3 2 2 5\n",
      "2 2 4 5\n",
      "1 2 2 2 1\n",
      "2 2 4 6\n",
      "1 1 3 2 1\n",
      "2 2 5 5\n",
      "2 2 2 1 2\n",
      "2 2 5 6\n",
      "2 2 3 1 3\n",
      "2 2 6 5\n",
      "3 2 2 2 4\n",
      "2 3 4 5\n",
      "1 1 3 1 2\n",
      "2 3 4 6\n",
      "1 2 4 1 3\n",
      "2 3 5 5\n",
      "2 1 3 2 4\n",
      "2 4 4 5\n",
      "2 0 2 2 3\n",
      "2 4 4 6\n",
      "2 2 3 2 5\n",
      "2 5 4 5\n",
      "1 0 2 0 3\n",
      "2 5 4 6\n",
      "1 2 2 0 5\n",
      "3 0 4 5\n",
      "2 0 1 3 2\n",
      "3 0 5 5\n",
      "3 0 1 2 2\n",
      "3 0 6 5\n",
      "4 1 1 1 3\n",
      "3 0 7 5\n",
      "5 2 1 0 5\n",
      "3 0 8 5\n",
      "6 3 1 1 8\n",
      "3 1 4 5\n",
      "2 0 2 2 1\n",
      "3 1 5 5\n",
      "3 1 2 1 2\n",
      "3 1 6 5\n",
      "4 2 2 0 4\n",
      "3 1 7 5\n",
      "5 3 2 1 7\n",
      "3 2 4 5\n",
      "2 1 2 1 1\n",
      "3 2 5 5\n",
      "3 2 2 0 3\n",
      "3 2 6 5\n",
      "4 3 2 1 6\n",
      "3 3 4 5\n",
      "2 2 3 0 3\n",
      "3 3 5 5\n",
      "3 3 3 1 6\n",
      "3 4 4 5\n",
      "2 2 2 1 5\n",
      "3 5 4 5\n",
      "2 2 1 0 5\n",
      "4 0 4 5\n",
      "1 2 1 2 3\n",
      "4 0 5 5\n",
      "2 2 1 3 4\n",
      "4 0 6 5\n",
      "2 2 1 1 4\n",
      "4 0 7 5\n",
      "3 3 1 1 6\n",
      "4 0 8 5\n",
      "3 4 1 1 8\n",
      "4 1 4 5\n",
      "1 1 1 3 2\n",
      "4 1 5 5\n",
      "1 1 1 1 2\n",
      "4 1 6 5\n",
      "2 2 1 1 4\n",
      "4 1 7 5\n",
      "2 3 1 1 6\n",
      "4 2 4 5\n",
      "1 0 2 1 1\n",
      "4 2 5 5\n",
      "2 1 2 1 3\n",
      "4 2 6 5\n",
      "2 2 2 1 5\n",
      "4 3 4 5\n",
      "1 1 2 1 2\n",
      "4 3 5 5\n",
      "1 2 2 1 4\n",
      "4 4 4 5\n",
      "1 2 3 1 4\n",
      "4 5 4 5\n",
      "1 2 1 1 4\n",
      "5\n"
     ]
    }
   ],
   "source": [
    "def get_needed(x, y, r, c):\n",
    "    print(x, y, r, c)\n",
    "    t1 = rw[x][y + r - 1] - rw[x][y + 1]\n",
    "    t2 = rw[x + c - 1][y + r - 1] - rw[x + c - 1][y + 1]\n",
    "    t3 = cw[x + c - 1][y] - cw[x + 1][y]\n",
    "    t4 = cw[x + c - 1][y + r - 1] - cw[x + 1][y + r - 1]\n",
    "    t5 = b[x + c - 1][y + r - 1] - b[x + 1][y + r - 1] - b[x + c - 1][y + 1] + b[x + 1][y + 1]\n",
    "    \n",
    "    print(t1, t2, t3, t4, t5)\n",
    "    return t1 + t2 + t3 + t4 + t5\n",
    "\n",
    "# n, m = map(int, input().split())\n",
    "# li = [list(map(int, input())) for _ in range(n)]\n",
    "\n",
    "n, m = 9, 9\n",
    "s = '''001010001\n",
    "101110100\n",
    "000010011\n",
    "100000001\n",
    "101010101\n",
    "110001111\n",
    "000001111\n",
    "111100000\n",
    "000110000'''\n",
    "li = [list(map(int, v)) for v in s.split('\\n')]\n",
    "\n",
    "rw = [[0] * (m + 1) for _ in range(n)]\n",
    "cw = [[0] * m for _ in range(n + 1)]\n",
    "b = [[0] * (m + 1) for _ in range(n + 1)]\n",
    "\n",
    "for j in range(m):\n",
    "    cumul = 0\n",
    "    for i in range(n):\n",
    "        if li[i][j] == 0:\n",
    "            cumul += 1\n",
    "        cw[i + 1][j] = cumul\n",
    "            \n",
    "for i in range(n):\n",
    "    cumul = 0\n",
    "    for j in range(m):\n",
    "        if li[i][j] == 0:\n",
    "            cumul += 1\n",
    "        rw[i][j + 1] = cumul\n",
    "    \n",
    "\n",
    "for i in range(n):\n",
    "    for j in range(m):\n",
    "        b[i + 1][j + 1] = b[i][j + 1] + b[i + 1][j] - b[i][j]\n",
    "        if li[i][j] == 1:\n",
    "            b[i + 1][j + 1] += 1\n",
    "        \n",
    "\n",
    "mr = 16 # min_result\n",
    "for i in range(n - 4):\n",
    "    for j in range(m - 3):\n",
    "        row_len = 4\n",
    "        while True:\n",
    "            col_len = 5\n",
    "            while True:\n",
    "                needed = get_needed(i, j, row_len, col_len)\n",
    "                if needed > mr + row_len - 2 + col_len - 2:\n",
    "                    break\n",
    "                if needed < mr:\n",
    "                    mr = needed\n",
    "                col_len += 1\n",
    "                if i + col_len >= n:\n",
    "                    break\n",
    "                    \n",
    "            row_len += 1\n",
    "            if j + row_len >= m:\n",
    "                break\n",
    "                \n",
    "print(mr)"
   ]
  },
  {
   "cell_type": "code",
   "execution_count": 34,
   "metadata": {},
   "outputs": [
    {
     "name": "stdout",
     "output_type": "stream",
     "text": [
      "1\n",
      "5 4\n",
      "1000\n",
      "0000\n",
      "0110\n",
      "0000\n",
      "0001\n",
      "12\n"
     ]
    }
   ],
   "source": [
    "def get_needed(x, y, r, c):\n",
    "    t1 = rw[x][y + r - 1] - rw[x][y + 1]\n",
    "    t2 = rw[x + c - 1][y + r - 1] - rw[x + c - 1][y + 1]\n",
    "    t3 = cw[x + c - 1][y] - cw[x + 1][y]\n",
    "    t4 = cw[x + c - 1][y + r - 1] - cw[x + 1][y + r - 1]\n",
    "    t5 = b[x + c - 1][y + r - 1] - b[x + 1][y + r - 1] - b[x + c - 1][y + 1] + b[x + 1][y + 1]\n",
    "    \n",
    "    return t1 + t2 + t3 + t4 + t5\n",
    "\n",
    "for _ in range(int(input())):\n",
    "    n, m = map(int, input().split())\n",
    "    li = [list(map(int, input())) for _ in range(n)]\n",
    "\n",
    "    rw = [[0] * (m + 1) for _ in range(n)]\n",
    "    cw = [[0] * m for _ in range(n + 1)]\n",
    "    b = [[0] * (m + 1) for _ in range(n + 1)]\n",
    "\n",
    "    for j in range(m):\n",
    "        cumul = 0\n",
    "        for i in range(n):\n",
    "            if li[i][j] == 0:\n",
    "                cumul += 1\n",
    "            cw[i + 1][j] = cumul\n",
    "\n",
    "    for i in range(n):\n",
    "        cumul = 0\n",
    "        for j in range(m):\n",
    "            if li[i][j] == 0:\n",
    "                cumul += 1\n",
    "            rw[i][j + 1] = cumul\n",
    "\n",
    "\n",
    "    for i in range(n):\n",
    "        for j in range(m):\n",
    "            b[i + 1][j + 1] = b[i][j + 1] + b[i + 1][j] - b[i][j]\n",
    "            if li[i][j] == 1:\n",
    "                b[i + 1][j + 1] += 1\n",
    "\n",
    "\n",
    "    mr = 16 # min_result\n",
    "    for i in range(n - 4):\n",
    "        for j in range(m - 3):\n",
    "            row_len = 4\n",
    "            while True:\n",
    "                col_len = 5\n",
    "                while True:\n",
    "                    needed = get_needed(i, j, row_len, col_len)\n",
    "                    if needed > mr + row_len - 2 + col_len - 2:\n",
    "                        break\n",
    "                    if needed < mr:\n",
    "                        mr = needed\n",
    "                    col_len += 1\n",
    "                    if i + col_len >= n:\n",
    "                        break\n",
    "\n",
    "                row_len += 1\n",
    "                if j + row_len >= m:\n",
    "                    break\n",
    "\n",
    "    print(mr)"
   ]
  },
  {
   "cell_type": "code",
   "execution_count": 26,
   "metadata": {},
   "outputs": [
    {
     "data": {
      "text/plain": [
       "-1"
      ]
     },
     "execution_count": 26,
     "metadata": {},
     "output_type": "execute_result"
    }
   ],
   "source": [
    "x, y, r, c = 0, 0, 4, 5\n",
    "rw[x][y + r - 1] - rw[x][y + 1]"
   ]
  },
  {
   "cell_type": "code",
   "execution_count": 27,
   "metadata": {},
   "outputs": [
    {
     "data": {
      "text/plain": [
       "[[0, 1, 2, 0, 3, 0, 4, 5, 6, 0],\n",
       " [0, 0, 1, 0, 0, 0, 2, 0, 3, 4],\n",
       " [0, 1, 2, 3, 4, 0, 5, 6, 0, 0],\n",
       " [0, 0, 1, 2, 3, 4, 5, 6, 7, 0],\n",
       " [0, 0, 1, 0, 2, 0, 3, 0, 4, 0],\n",
       " [0, 0, 0, 1, 2, 3, 0, 0, 0, 0],\n",
       " [0, 1, 2, 3, 4, 5, 0, 0, 0, 0],\n",
       " [0, 0, 0, 0, 0, 1, 2, 3, 4, 5],\n",
       " [0, 1, 2, 3, 0, 0, 4, 5, 6, 7]]"
      ]
     },
     "execution_count": 27,
     "metadata": {},
     "output_type": "execute_result"
    }
   ],
   "source": [
    "rw"
   ]
  },
  {
   "cell_type": "code",
   "execution_count": 28,
   "metadata": {},
   "outputs": [
    {
     "data": {
      "text/plain": [
       "[0, 1, 2, 0, 3, 0, 4, 5, 6, 0]"
      ]
     },
     "execution_count": 28,
     "metadata": {},
     "output_type": "execute_result"
    }
   ],
   "source": [
    "rw[x]"
   ]
  },
  {
   "cell_type": "code",
   "execution_count": 29,
   "metadata": {},
   "outputs": [
    {
     "data": {
      "text/plain": [
       "3"
      ]
     },
     "execution_count": 29,
     "metadata": {},
     "output_type": "execute_result"
    }
   ],
   "source": [
    "y + r - 1"
   ]
  },
  {
   "cell_type": "code",
   "execution_count": 30,
   "metadata": {},
   "outputs": [
    {
     "data": {
      "text/plain": [
       "1"
      ]
     },
     "execution_count": 30,
     "metadata": {},
     "output_type": "execute_result"
    }
   ],
   "source": [
    "y + 1"
   ]
  },
  {
   "cell_type": "code",
   "execution_count": 32,
   "metadata": {},
   "outputs": [
    {
     "data": {
      "text/plain": [
       "0"
      ]
     },
     "execution_count": 32,
     "metadata": {},
     "output_type": "execute_result"
    }
   ],
   "source": [
    "rw[x][3]"
   ]
  },
  {
   "cell_type": "code",
   "execution_count": null,
   "metadata": {},
   "outputs": [],
   "source": []
  },
  {
   "cell_type": "code",
   "execution_count": 10,
   "metadata": {},
   "outputs": [
    {
     "ename": "NameError",
     "evalue": "name 'x' is not defined",
     "output_type": "error",
     "traceback": [
      "\u001b[1;31m---------------------------------------------------------------------------\u001b[0m",
      "\u001b[1;31mNameError\u001b[0m                                 Traceback (most recent call last)",
      "\u001b[1;32m<ipython-input-10-c17eba52291f>\u001b[0m in \u001b[0;36m<module>\u001b[1;34m\u001b[0m\n\u001b[1;32m----> 1\u001b[1;33m \u001b[0mx\u001b[0m\u001b[1;33m,\u001b[0m \u001b[0my\u001b[0m \u001b[1;33m+\u001b[0m \u001b[0mr\u001b[0m \u001b[1;33m-\u001b[0m \u001b[1;36m1\u001b[0m\u001b[1;33m\u001b[0m\u001b[1;33m\u001b[0m\u001b[0m\n\u001b[0m",
      "\u001b[1;31mNameError\u001b[0m: name 'x' is not defined"
     ]
    }
   ],
   "source": [
    "x, y + r - 1"
   ]
  },
  {
   "cell_type": "code",
   "execution_count": 4,
   "metadata": {},
   "outputs": [
    {
     "data": {
      "text/plain": [
       "[[0, 1, 0, 0, 0],\n",
       " [0, 0, 0, 0, 0],\n",
       " [0, 0, 1, 2, 0],\n",
       " [0, 0, 0, 0, 0],\n",
       " [0, 0, 0, 0, 1]]"
      ]
     },
     "execution_count": 4,
     "metadata": {},
     "output_type": "execute_result"
    }
   ],
   "source": [
    "rb"
   ]
  },
  {
   "cell_type": "code",
   "execution_count": 5,
   "metadata": {},
   "outputs": [
    {
     "data": {
      "text/plain": [
       "[[0, 0, 0, 0, 0],\n",
       " [0, 0, 1, 2, 3],\n",
       " [0, 1, 3, 5, 7],\n",
       " [0, 2, 4, 6, 9],\n",
       " [0, 3, 6, 9, 13],\n",
       " [0, 4, 8, 12, 16]]"
      ]
     },
     "execution_count": 5,
     "metadata": {},
     "output_type": "execute_result"
    }
   ],
   "source": [
    "w"
   ]
  },
  {
   "cell_type": "markdown",
   "metadata": {},
   "source": [
    "### 제출본"
   ]
  },
  {
   "cell_type": "code",
   "execution_count": null,
   "metadata": {},
   "outputs": [],
   "source": [
    "import os\n",
    "import sys\n",
    "from io import BytesIO, IOBase\n",
    " \n",
    "\n",
    "def main():\n",
    "    def get_needed(x, y, r, c):\n",
    "        t1 = rw[x][y + r - 1] - rw[x][y + 1]\n",
    "        t2 = rw[x + c - 1][y + r - 1] - rw[x + c - 1][y + 1]\n",
    "        t3 = cw[x + c - 1][y] - cw[x + 1][y]\n",
    "        t4 = cw[x + c - 1][y + r - 1] - cw[x + 1][y + r - 1]\n",
    "        t5 = b[x + c - 1][y + r - 1] - b[x + 1][y + r - 1] - b[x + c - 1][y + 1] + b[x + 1][y + 1]\n",
    "\n",
    "        return t1 + t2 + t3 + t4 + t5\n",
    "\n",
    "    for _ in range(int(input())):\n",
    "        n, m = map(int, input().split())\n",
    "        li = [list(map(int, input())) for _ in range(n)]\n",
    "\n",
    "        rw = [[0] * (m + 1) for _ in range(n)]\n",
    "        cw = [[0] * m for _ in range(n + 1)]\n",
    "        b = [[0] * (m + 1) for _ in range(n + 1)]\n",
    "\n",
    "        for j in range(m):\n",
    "            cumul = 0\n",
    "            for i in range(n):\n",
    "                if li[i][j] == 0:\n",
    "                    cumul += 1\n",
    "                cw[i + 1][j] = cumul\n",
    "\n",
    "        for i in range(n):\n",
    "            cumul = 0\n",
    "            for j in range(m):\n",
    "                if li[i][j] == 0:\n",
    "                    cumul += 1\n",
    "                rw[i][j + 1] = cumul\n",
    "\n",
    "\n",
    "        for i in range(n):\n",
    "            for j in range(m):\n",
    "                b[i + 1][j + 1] = b[i][j + 1] + b[i + 1][j] - b[i][j]\n",
    "                if li[i][j] == 1:\n",
    "                    b[i + 1][j + 1] += 1\n",
    "\n",
    "\n",
    "        mr = 16 # min_result\n",
    "        for i in range(n - 4):\n",
    "            for j in range(m - 3):\n",
    "                row_len = 4\n",
    "                while True:\n",
    "                    col_len = 5\n",
    "                    while True:\n",
    "                        needed = get_needed(i, j, row_len, col_len)\n",
    "                        if needed > mr + row_len + col_len - 2:\n",
    "                            break\n",
    "                        if needed < mr:\n",
    "                            mr = needed\n",
    "                        col_len += 1\n",
    "                        if i + col_len >= n:\n",
    "                            break\n",
    "\n",
    "                    row_len += 1\n",
    "                    if j + row_len >= m:\n",
    "                        break\n",
    "\n",
    "        print(mr)\n",
    "\n",
    "    \n",
    "    \n",
    "    \n",
    "\n",
    "# region fastio\n",
    " \n",
    "BUFSIZE = 8192\n",
    " \n",
    "\n",
    "class FastIO(IOBase):\n",
    "    newlines = 0\n",
    " \n",
    "    def __init__(self, file):\n",
    "        self._fd = file.fileno()\n",
    "        self.buffer = BytesIO()\n",
    "        self.writable = \"x\" in file.mode or \"r\" not in file.mode\n",
    "        self.write = self.buffer.write if self.writable else None\n",
    " \n",
    "    def read(self):\n",
    "        while True:\n",
    "            b = os.read(self._fd, max(os.fstat(self._fd).st_size, BUFSIZE))\n",
    "            if not b:\n",
    "                break\n",
    "            ptr = self.buffer.tell()\n",
    "            self.buffer.seek(0, 2), self.buffer.write(b), self.buffer.seek(ptr)\n",
    "        self.newlines = 0\n",
    "        return self.buffer.read()\n",
    " \n",
    "    def readline(self):\n",
    "        while self.newlines == 0:\n",
    "            b = os.read(self._fd, max(os.fstat(self._fd).st_size, BUFSIZE))\n",
    "            self.newlines = b.count(b\"\\n\") + (not b)\n",
    "            ptr = self.buffer.tell()\n",
    "            self.buffer.seek(0, 2), self.buffer.write(b), self.buffer.seek(ptr)\n",
    "        self.newlines -= 1\n",
    "        return self.buffer.readline()\n",
    " \n",
    "    def flush(self):\n",
    "        if self.writable:\n",
    "            os.write(self._fd, self.buffer.getvalue())\n",
    "            self.buffer.truncate(0), self.buffer.seek(0)\n",
    " \n",
    " \n",
    "class IOWrapper(IOBase):\n",
    "    def __init__(self, file):\n",
    "        self.buffer = FastIO(file)\n",
    "        self.flush = self.buffer.flush\n",
    "        self.writable = self.buffer.writable\n",
    "        self.write = lambda s: self.buffer.write(s.encode(\"ascii\"))\n",
    "        self.read = lambda: self.buffer.read().decode(\"ascii\")\n",
    "        self.readline = lambda: self.buffer.readline().decode(\"ascii\")\n",
    " \n",
    " \n",
    "sys.stdin, sys.stdout = IOWrapper(sys.stdin), IOWrapper(sys.stdout)\n",
    "input = lambda: sys.stdin.readline().rstrip(\"\\r\\n\")\n",
    " \n",
    "# endregion\n",
    " \n",
    "if __name__ == \"__main__\":\n",
    "    main()"
   ]
  }
 ],
 "metadata": {
  "kernelspec": {
   "display_name": "Python 3",
   "language": "python",
   "name": "python3"
  },
  "language_info": {
   "codemirror_mode": {
    "name": "ipython",
    "version": 3
   },
   "file_extension": ".py",
   "mimetype": "text/x-python",
   "name": "python",
   "nbconvert_exporter": "python",
   "pygments_lexer": "ipython3",
   "version": "3.7.3"
  }
 },
 "nbformat": 4,
 "nbformat_minor": 4
}
