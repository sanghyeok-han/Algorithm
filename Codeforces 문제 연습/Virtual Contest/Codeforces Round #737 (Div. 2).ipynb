{
 "cells": [
  {
   "cell_type": "markdown",
   "metadata": {},
   "source": [
    "A"
   ]
  },
  {
   "cell_type": "code",
   "execution_count": 1,
   "metadata": {},
   "outputs": [
    {
     "name": "stdout",
     "output_type": "stream",
     "text": [
      "3\n",
      "2 2 2\n",
      "4.0\n"
     ]
    }
   ],
   "source": [
    "n = int(input())\n",
    "li = sorted(map(int, input().split()))\n",
    "\n",
    "r = sum(li[:-1]) / (n - 1) + li[-1]\n",
    "print(r)"
   ]
  },
  {
   "cell_type": "code",
   "execution_count": null,
   "metadata": {},
   "outputs": [],
   "source": [
    "for _ in range(int(input())):\n",
    "    n = int(input())\n",
    "    li = sorted(map(int, input().split()))\n",
    "\n",
    "    r = sum(li[:-1]) / (n - 1) + li[-1]\n",
    "    print(r)"
   ]
  },
  {
   "cell_type": "markdown",
   "metadata": {},
   "source": [
    "B"
   ]
  },
  {
   "cell_type": "raw",
   "metadata": {},
   "source": [
    "각 수가 모두 distinct 하다는 것을 쓸데없는 구현 후에 깨달았음\n",
    "~번 자르는 것하고 ~개의 구간이 생기는 경우의 ~가 서로 다르다는 것을 간과했다는 것을 파악하는데 오래 걸렸음"
   ]
  },
  {
   "cell_type": "code",
   "execution_count": null,
   "metadata": {},
   "outputs": [],
   "source": [
    "정렬 후 같은 숫자가 아닌데 인덱스가 차례대로가 아니거나 내려가면 잘라야함"
   ]
  },
  {
   "cell_type": "code",
   "execution_count": 32,
   "metadata": {},
   "outputs": [
    {
     "name": "stdout",
     "output_type": "stream",
     "text": [
      "5 4\n",
      "6 3 4 2 1\n",
      "YES\n"
     ]
    }
   ],
   "source": [
    "n, k = map(int, input().split())\n",
    "li = list(map(int, input().split()))\n",
    "\n",
    "nli = [(v, i) for i, v in enumerate(li)]\n",
    "nli.sort(key=lambda x: x[0])\n",
    "\n",
    "places = [0] * n\n",
    "for i in range(n):\n",
    "    places[nli[i][1]] = i\n",
    "\n",
    "c = 0\n",
    "for i in range(n - 1):\n",
    "    av = li[i]\n",
    "    bv = li[i + 1]\n",
    "    \n",
    "    if av > bv:\n",
    "        c += 1\n",
    "        continue\n",
    "        \n",
    "    if places[i] + 1 != places[i + 1]:\n",
    "        c += 1\n",
    "        \n",
    "if k - 1 < c:\n",
    "    print('NO')\n",
    "else:\n",
    "    print('YES')"
   ]
  },
  {
   "cell_type": "code",
   "execution_count": 31,
   "metadata": {},
   "outputs": [
    {
     "data": {
      "text/plain": [
       "[(1, 4), (2, 2), (2, 3), (5, 1), (6, 0)]"
      ]
     },
     "execution_count": 31,
     "metadata": {},
     "output_type": "execute_result"
    }
   ],
   "source": [
    "nli"
   ]
  },
  {
   "cell_type": "code",
   "execution_count": 28,
   "metadata": {},
   "outputs": [
    {
     "data": {
      "text/plain": [
       "[4, 2, 3, 1, 0]"
      ]
     },
     "execution_count": 28,
     "metadata": {},
     "output_type": "execute_result"
    }
   ],
   "source": [
    "places"
   ]
  },
  {
   "cell_type": "code",
   "execution_count": 15,
   "metadata": {},
   "outputs": [
    {
     "name": "stdout",
     "output_type": "stream",
     "text": [
      "1\n",
      "5 4\n",
      "1 2 3 4 5\n",
      "YES\n"
     ]
    }
   ],
   "source": [
    "for _ in range(int(input())):\n",
    "    n, k = map(int, input().split())\n",
    "    li = list(map(int, input().split()))\n",
    "\n",
    "    nli = [(v, i) for i, v in enumerate(li)]\n",
    "    nli.sort(key=lambda x: x[0])\n",
    "\n",
    "    places = [0] * n\n",
    "    for i in range(n):\n",
    "        places[nli[i][1]] = i\n",
    "\n",
    "    c = 0\n",
    "    for i in range(n - 1):\n",
    "        av = li[i]\n",
    "        bv = li[i + 1]\n",
    "\n",
    "        if av > bv:\n",
    "            c += 1\n",
    "            continue\n",
    "\n",
    "        if places[i] + 1 != places[i + 1]:\n",
    "            c += 1\n",
    "\n",
    "    if k - 1 < c:\n",
    "        print('NO')\n",
    "    else:\n",
    "        print('YES')"
   ]
  },
  {
   "cell_type": "code",
   "execution_count": 4,
   "metadata": {},
   "outputs": [
    {
     "data": {
      "text/plain": [
       "[4, 2, 3, 1, 0]"
      ]
     },
     "execution_count": 4,
     "metadata": {},
     "output_type": "execute_result"
    }
   ],
   "source": [
    "places"
   ]
  },
  {
   "cell_type": "markdown",
   "metadata": {},
   "source": [
    "C"
   ]
  },
  {
   "cell_type": "raw",
   "metadata": {},
   "source": [
    "xor의 결과가 and의 결과와 같은게 아닌 더 작은 경우를 생각하지 못했음"
   ]
  },
  {
   "cell_type": "code",
   "execution_count": null,
   "metadata": {},
   "outputs": [],
   "source": [
    "k는 마지막에 곱해줌"
   ]
  },
  {
   "cell_type": "code",
   "execution_count": 73,
   "metadata": {},
   "outputs": [
    {
     "name": "stdout",
     "output_type": "stream",
     "text": [
      "4 0\n",
      "8\n",
      "0\n"
     ]
    }
   ],
   "source": [
    "def nCr(n, r):\n",
    "    if r > n - r:\n",
    "        r = n - r\n",
    "        \n",
    "    nu = 1\n",
    "    for i in range(n, n - r, -1):\n",
    "        nu *= i\n",
    "        nu %= mod\n",
    "        \n",
    "    denom = 1\n",
    "    for i in range(2, r + 1):\n",
    "        denom *= i\n",
    "        denom %= mod\n",
    "        \n",
    "    return (nu // denom) % mod\n",
    "\n",
    "n, k = map(int, input().split())\n",
    "\n",
    "if k == 0:\n",
    "    print(1)\n",
    "else:\n",
    "    mod = 1000000007\n",
    "    total = 0\n",
    "    for i in range(0, n + 1, 2):\n",
    "        total += nCr(n, i)\n",
    "        total %= mod\n",
    "        \n",
    "    if n % 2 == 1:\n",
    "        total += nCr(n, n)\n",
    "\n",
    "    r = total * k % mod\n",
    "\n",
    "    print(r)"
   ]
  },
  {
   "cell_type": "code",
   "execution_count": 127,
   "metadata": {},
   "outputs": [
    {
     "name": "stdout",
     "output_type": "stream",
     "text": [
      "2 2\n",
      "4\n"
     ]
    }
   ],
   "source": [
    "n, k = map(int, input().split())\n",
    "\n",
    "if k == 0:\n",
    "    print(1)\n",
    "else:\n",
    "    mod = 1000000007\n",
    "    total = 1\n",
    "    for i in range(n - 1):\n",
    "        total *= 2\n",
    "        total %= mod\n",
    "        \n",
    "    if n % 2 == 1:\n",
    "        total += 1\n",
    "\n",
    "    r = total * k % mod\n",
    "\n",
    "    print(r)"
   ]
  },
  {
   "cell_type": "code",
   "execution_count": 10,
   "metadata": {},
   "outputs": [
    {
     "name": "stdout",
     "output_type": "stream",
     "text": [
      "200000 200000\n",
      "834761820\n"
     ]
    }
   ],
   "source": [
    "n, k = map(int, input().split())\n",
    "\n",
    "if k == 0:\n",
    "    print(1)\n",
    "else:\n",
    "    mod = 1000000007\n",
    "    temp = 1\n",
    "    for i in range(n - 1):\n",
    "        temp *= 2\n",
    "        temp %= mod\n",
    "\n",
    "    if n % 2 == 1:\n",
    "        temp += 1\n",
    "\n",
    "    total = 1\n",
    "    for i in range(k):\n",
    "        total *= temp\n",
    "        total %= mod\n",
    "        \n",
    "    if n % 2 == 0:\n",
    "        temp *= 2\n",
    "        temp %= mod\n",
    "        \n",
    "        total += 1\n",
    "        cur = 1\n",
    "        for i in range(k - 1):\n",
    "            cur *= temp\n",
    "            cur %= mod\n",
    "            \n",
    "            total += cur\n",
    "            total %= mod\n",
    "\n",
    "    print(total % mod)"
   ]
  },
  {
   "cell_type": "code",
   "execution_count": 7,
   "metadata": {},
   "outputs": [],
   "source": []
  },
  {
   "cell_type": "code",
   "execution_count": null,
   "metadata": {},
   "outputs": [],
   "source": [
    "()"
   ]
  },
  {
   "cell_type": "code",
   "execution_count": 118,
   "metadata": {},
   "outputs": [
    {
     "name": "stdout",
     "output_type": "stream",
     "text": [
      "1\n",
      "2 2\n",
      "4\n"
     ]
    }
   ],
   "source": [
    "for _ in range(int(input())):\n",
    "    n, k = map(int, input().split())\n",
    "\n",
    "    if k == 0:\n",
    "        print(1)\n",
    "    else:\n",
    "        mod = 1000000007\n",
    "        temp = 1\n",
    "        for i in range(n - 1):\n",
    "            temp *= 2\n",
    "            temp %= mod\n",
    "\n",
    "        if n % 2 == 1:\n",
    "            temp += 1\n",
    "\n",
    "        total = 1\n",
    "        for i in range(k):\n",
    "            total *= temp\n",
    "            total %= mod\n",
    "\n",
    "        print(total)"
   ]
  },
  {
   "cell_type": "code",
   "execution_count": 125,
   "metadata": {},
   "outputs": [
    {
     "name": "stdout",
     "output_type": "stream",
     "text": [
      "0b0 0b0\n",
      "0b1 0b1\n",
      "0b10 0b10\n",
      "0b10 0b11\n",
      "0b11 0b10\n",
      "0b11 0b11\n"
     ]
    }
   ],
   "source": [
    "for i in range(4):\n",
    "    for j in range(4):\n",
    "        if i & j >= i ^ j:\n",
    "            print(bin(i), bin(j))"
   ]
  },
  {
   "cell_type": "code",
   "execution_count": 65,
   "metadata": {},
   "outputs": [
    {
     "data": {
      "text/plain": [
       "15"
      ]
     },
     "execution_count": 65,
     "metadata": {},
     "output_type": "execute_result"
    }
   ],
   "source": [
    "def nCr(n, r):\n",
    "    if r > n - r:\n",
    "        r = n - r\n",
    "        \n",
    "    nu = 1\n",
    "    for i in range(n, n - r, -1):\n",
    "        nu *= i\n",
    "        \n",
    "    denom = 1\n",
    "    for i in range(2, r + 1):\n",
    "        denom *= i\n",
    "        \n",
    "    return nu // denom\n",
    "\n",
    "nCr(6, 2)"
   ]
  },
  {
   "cell_type": "code",
   "execution_count": 95,
   "metadata": {},
   "outputs": [
    {
     "data": {
      "text/plain": [
       "256"
      ]
     },
     "execution_count": 95,
     "metadata": {},
     "output_type": "execute_result"
    }
   ],
   "source": [
    "n = 8\n",
    "2 ** n"
   ]
  },
  {
   "cell_type": "code",
   "execution_count": 100,
   "metadata": {},
   "outputs": [
    {
     "name": "stdout",
     "output_type": "stream",
     "text": [
      "0\n",
      "2\n",
      "4\n",
      "8 8\n"
     ]
    }
   ],
   "source": [
    "evens = 0\n",
    "odds = 0\n",
    "for i in range(n + 1):\n",
    "    temp = nCr(n, i)\n",
    "    \n",
    "    if i % 2 == 0:\n",
    "        evens += temp\n",
    "        print(i)\n",
    "    else:\n",
    "        odds += temp\n",
    "        \n",
    "print(evens, odds)"
   ]
  },
  {
   "cell_type": "markdown",
   "metadata": {},
   "source": [
    "### 제출본"
   ]
  },
  {
   "cell_type": "code",
   "execution_count": null,
   "metadata": {},
   "outputs": [],
   "source": [
    "import os\n",
    "import sys\n",
    "from io import BytesIO, IOBase\n",
    " \n",
    "\n",
    "def main():\n",
    "    for _ in range(int(input())):\n",
    "        n, k = map(int, input().split())\n",
    "\n",
    "        if k == 0:\n",
    "            print(1)\n",
    "        else:\n",
    "            mod = 1000000007\n",
    "            temp = 1\n",
    "            for i in range(n - 1):\n",
    "                temp *= 2\n",
    "                temp %= mod\n",
    "\n",
    "            if n % 2 == 1:\n",
    "                temp += 1\n",
    "\n",
    "            total = 1\n",
    "            for i in range(k):\n",
    "                total *= temp\n",
    "                total %= mod\n",
    "\n",
    "            print(total)\n",
    "\n",
    "    \n",
    "    \n",
    "    \n",
    "\n",
    "# region fastio\n",
    " \n",
    "BUFSIZE = 8192\n",
    " \n",
    "\n",
    "class FastIO(IOBase):\n",
    "    newlines = 0\n",
    " \n",
    "    def __init__(self, file):\n",
    "        self._fd = file.fileno()\n",
    "        self.buffer = BytesIO()\n",
    "        self.writable = \"x\" in file.mode or \"r\" not in file.mode\n",
    "        self.write = self.buffer.write if self.writable else None\n",
    " \n",
    "    def read(self):\n",
    "        while True:\n",
    "            b = os.read(self._fd, max(os.fstat(self._fd).st_size, BUFSIZE))\n",
    "            if not b:\n",
    "                break\n",
    "            ptr = self.buffer.tell()\n",
    "            self.buffer.seek(0, 2), self.buffer.write(b), self.buffer.seek(ptr)\n",
    "        self.newlines = 0\n",
    "        return self.buffer.read()\n",
    " \n",
    "    def readline(self):\n",
    "        while self.newlines == 0:\n",
    "            b = os.read(self._fd, max(os.fstat(self._fd).st_size, BUFSIZE))\n",
    "            self.newlines = b.count(b\"\\n\") + (not b)\n",
    "            ptr = self.buffer.tell()\n",
    "            self.buffer.seek(0, 2), self.buffer.write(b), self.buffer.seek(ptr)\n",
    "        self.newlines -= 1\n",
    "        return self.buffer.readline()\n",
    " \n",
    "    def flush(self):\n",
    "        if self.writable:\n",
    "            os.write(self._fd, self.buffer.getvalue())\n",
    "            self.buffer.truncate(0), self.buffer.seek(0)\n",
    " \n",
    " \n",
    "class IOWrapper(IOBase):\n",
    "    def __init__(self, file):\n",
    "        self.buffer = FastIO(file)\n",
    "        self.flush = self.buffer.flush\n",
    "        self.writable = self.buffer.writable\n",
    "        self.write = lambda s: self.buffer.write(s.encode(\"ascii\"))\n",
    "        self.read = lambda: self.buffer.read().decode(\"ascii\")\n",
    "        self.readline = lambda: self.buffer.readline().decode(\"ascii\")\n",
    " \n",
    " \n",
    "sys.stdin, sys.stdout = IOWrapper(sys.stdin), IOWrapper(sys.stdout)\n",
    "input = lambda: sys.stdin.readline().rstrip(\"\\r\\n\")\n",
    " \n",
    "# endregion\n",
    " \n",
    "if __name__ == \"__main__\":\n",
    "    main()"
   ]
  },
  {
   "cell_type": "code",
   "execution_count": null,
   "metadata": {},
   "outputs": [],
   "source": [
    "import os\n",
    "import sys\n",
    "from io import BytesIO, IOBase\n",
    " \n",
    "\n",
    "def main():\n",
    "\n",
    "\n",
    "    \n",
    "    \n",
    "    \n",
    "\n",
    "# region fastio\n",
    " \n",
    "BUFSIZE = 8192\n",
    " \n",
    "\n",
    "class FastIO(IOBase):\n",
    "    newlines = 0\n",
    " \n",
    "    def __init__(self, file):\n",
    "        self._fd = file.fileno()\n",
    "        self.buffer = BytesIO()\n",
    "        self.writable = \"x\" in file.mode or \"r\" not in file.mode\n",
    "        self.write = self.buffer.write if self.writable else None\n",
    " \n",
    "    def read(self):\n",
    "        while True:\n",
    "            b = os.read(self._fd, max(os.fstat(self._fd).st_size, BUFSIZE))\n",
    "            if not b:\n",
    "                break\n",
    "            ptr = self.buffer.tell()\n",
    "            self.buffer.seek(0, 2), self.buffer.write(b), self.buffer.seek(ptr)\n",
    "        self.newlines = 0\n",
    "        return self.buffer.read()\n",
    " \n",
    "    def readline(self):\n",
    "        while self.newlines == 0:\n",
    "            b = os.read(self._fd, max(os.fstat(self._fd).st_size, BUFSIZE))\n",
    "            self.newlines = b.count(b\"\\n\") + (not b)\n",
    "            ptr = self.buffer.tell()\n",
    "            self.buffer.seek(0, 2), self.buffer.write(b), self.buffer.seek(ptr)\n",
    "        self.newlines -= 1\n",
    "        return self.buffer.readline()\n",
    " \n",
    "    def flush(self):\n",
    "        if self.writable:\n",
    "            os.write(self._fd, self.buffer.getvalue())\n",
    "            self.buffer.truncate(0), self.buffer.seek(0)\n",
    " \n",
    " \n",
    "class IOWrapper(IOBase):\n",
    "    def __init__(self, file):\n",
    "        self.buffer = FastIO(file)\n",
    "        self.flush = self.buffer.flush\n",
    "        self.writable = self.buffer.writable\n",
    "        self.write = lambda s: self.buffer.write(s.encode(\"ascii\"))\n",
    "        self.read = lambda: self.buffer.read().decode(\"ascii\")\n",
    "        self.readline = lambda: self.buffer.readline().decode(\"ascii\")\n",
    " \n",
    " \n",
    "sys.stdin, sys.stdout = IOWrapper(sys.stdin), IOWrapper(sys.stdout)\n",
    "input = lambda: sys.stdin.readline().rstrip(\"\\r\\n\")\n",
    " \n",
    "# endregion\n",
    " \n",
    "if __name__ == \"__main__\":\n",
    "    main()"
   ]
  }
 ],
 "metadata": {
  "kernelspec": {
   "display_name": "Python 3",
   "language": "python",
   "name": "python3"
  },
  "language_info": {
   "codemirror_mode": {
    "name": "ipython",
    "version": 3
   },
   "file_extension": ".py",
   "mimetype": "text/x-python",
   "name": "python",
   "nbconvert_exporter": "python",
   "pygments_lexer": "ipython3",
   "version": "3.7.3"
  }
 },
 "nbformat": 4,
 "nbformat_minor": 4
}
