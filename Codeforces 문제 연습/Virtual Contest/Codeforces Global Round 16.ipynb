{
 "cells": [
  {
   "cell_type": "markdown",
   "metadata": {},
   "source": [
    "global 사용시 fast io 모드 해제하기"
   ]
  },
  {
   "cell_type": "markdown",
   "metadata": {},
   "source": [
    "A"
   ]
  },
  {
   "cell_type": "code",
   "execution_count": null,
   "metadata": {},
   "outputs": [],
   "source": [
    "n, s = map(int, input()).split()\n",
    "\n",
    "s - (n - 1) // 2\n",
    "remained = (n - (n - 1) // 2)\n",
    "print(s // remained)"
   ]
  },
  {
   "cell_type": "code",
   "execution_count": 18,
   "metadata": {},
   "outputs": [
    {
     "name": "stdout",
     "output_type": "stream",
     "text": [
      "1\n",
      "1 1000000000\n",
      "1000000000\n"
     ]
    }
   ],
   "source": [
    "for _ in range(int(input())):\n",
    "    n, s = map(int, input().split())\n",
    "\n",
    "    s - (n - 1) // 2\n",
    "    remained = (n - (n - 1) // 2)\n",
    "    \n",
    "    print(s // remained)"
   ]
  },
  {
   "cell_type": "markdown",
   "metadata": {},
   "source": [
    "B"
   ]
  },
  {
   "cell_type": "code",
   "execution_count": null,
   "metadata": {},
   "outputs": [],
   "source": [
    "전체는 2\n",
    "010 2\n",
    "111 0\n"
   ]
  },
  {
   "cell_type": "code",
   "execution_count": 31,
   "metadata": {},
   "outputs": [
    {
     "name": "stdout",
     "output_type": "stream",
     "text": [
      "1\n",
      "101\n",
      "1\n"
     ]
    }
   ],
   "source": [
    "for _ in range(int(input())):\n",
    "    s = input()\n",
    "\n",
    "    ns = s[0]\n",
    "    fv = s[0]\n",
    "    for i in range(1, len(s)):\n",
    "        if s[i] != fv:\n",
    "            ns += s[i]\n",
    "            fv = s[i]\n",
    "    \n",
    "    if ns[-1] == '1':\n",
    "        ns = ns[:-1]\n",
    "    \n",
    "    changed_count = 0\n",
    "    zero_count = 0\n",
    "    fv = ''\n",
    "    for v in ns:\n",
    "        if v == '0':\n",
    "            zero_count += 1\n",
    "        if fv and v != fv:\n",
    "            changed_count += 1\n",
    "        fv = v\n",
    "\n",
    "    if changed_count >= 2:\n",
    "        print(2)\n",
    "    elif zero_count >= 1:\n",
    "        print(1)\n",
    "    else:\n",
    "        print(0)"
   ]
  },
  {
   "cell_type": "markdown",
   "metadata": {},
   "source": [
    "C"
   ]
  },
  {
   "cell_type": "code",
   "execution_count": 34,
   "metadata": {},
   "outputs": [
    {
     "name": "stdout",
     "output_type": "stream",
     "text": [
      "7\n",
      "0101000\n",
      "1101100\n"
     ]
    }
   ],
   "source": [
    "n = 2\n",
    "m = int(input())\n",
    "li = [list(map(int, input())) for _ in range(2)]"
   ]
  },
  {
   "cell_type": "code",
   "execution_count": 40,
   "metadata": {},
   "outputs": [
    {
     "name": "stdout",
     "output_type": "stream",
     "text": [
      "3\n",
      "001\n",
      "000\n",
      "3\n"
     ]
    }
   ],
   "source": [
    "n = 2\n",
    "m = int(input())\n",
    "li = [list(map(int, input())) for _ in range(2)]\n",
    "\n",
    "total = 0\n",
    "ready11 = False\n",
    "ready00 = False\n",
    "for j in range(m):\n",
    "    if li[0][j] != li[1][j]:\n",
    "        total += 2\n",
    "        ready11 = False\n",
    "        \n",
    "        if ready00:\n",
    "            total += 1\n",
    "            ready00 = False\n",
    "        continue\n",
    "    \n",
    "    if ready11:\n",
    "        if li[0][j] == 0:\n",
    "            total += 2\n",
    "            ready11 = False\n",
    "    elif ready00:\n",
    "        if li[0][j] == 1:\n",
    "            total += 2\n",
    "            ready00 = False\n",
    "        else:\n",
    "            total += 1\n",
    "    else:\n",
    "        if li[0][j] == 0:\n",
    "            ready00 = True\n",
    "        else:\n",
    "            ready11 = True\n",
    "            \n",
    "if ready00:\n",
    "    total += 1\n",
    "    \n",
    "print(total)"
   ]
  },
  {
   "cell_type": "code",
   "execution_count": null,
   "metadata": {},
   "outputs": [],
   "source": [
    "n = 2\n",
    "for _ in range(int(input())):\n",
    "    m = int(input())\n",
    "    li = [list(map(int, input())) for _ in range(2)]\n",
    "\n",
    "    total = 0\n",
    "    ready11 = False\n",
    "    ready00 = False\n",
    "    for j in range(m):\n",
    "        if li[0][j] != li[1][j]:\n",
    "            total += 2\n",
    "            ready11 = False\n",
    "\n",
    "            if ready00:\n",
    "                total += 1\n",
    "                ready00 = False\n",
    "            continue\n",
    "\n",
    "        if ready11:\n",
    "            if li[0][j] == 0:\n",
    "                total += 2\n",
    "                ready11 = False\n",
    "        elif ready00:\n",
    "            if li[0][j] == 1:\n",
    "                total += 2\n",
    "                ready00 = False\n",
    "            else:\n",
    "                total += 1\n",
    "        else:\n",
    "            if li[0][j] == 0:\n",
    "                ready00 = True\n",
    "            else:\n",
    "                ready11 = True\n",
    "\n",
    "    if ready00:\n",
    "        total += 1\n",
    "\n",
    "    print(total)"
   ]
  },
  {
   "cell_type": "code",
   "execution_count": null,
   "metadata": {},
   "outputs": [],
   "source": [
    "0   1 0  0 1\n",
    "1   1 0  0 1\n",
    "\n",
    "2    2    2"
   ]
  },
  {
   "cell_type": "markdown",
   "metadata": {},
   "source": [
    "D1"
   ]
  },
  {
   "cell_type": "code",
   "execution_count": 56,
   "metadata": {},
   "outputs": [
    {
     "name": "stdout",
     "output_type": "stream",
     "text": [
      "1 6\n",
      "2 3 2 1 1 1\n",
      "1\n"
     ]
    }
   ],
   "source": [
    "n, m = map(int, input().split())\n",
    "li = list(map(int, input().split()))\n",
    "\n",
    "li = [(v, i) for i, v in enumerate(li)]\n",
    "li.sort(key=lambda x: (x[0], -x[1]))\n",
    "\n",
    "places = [v[1] for v in li]\n",
    "placed = [False] * m\n",
    "total = 0\n",
    "for i in range(m):\n",
    "    loc = places.index(i)\n",
    "    for j in range(loc):\n",
    "        if placed[j]:\n",
    "            total += 1\n",
    "    placed[loc] = True\n",
    "    \n",
    "print(total)"
   ]
  },
  {
   "cell_type": "code",
   "execution_count": 52,
   "metadata": {},
   "outputs": [
    {
     "data": {
      "text/plain": [
       "[0, 1, 2]"
      ]
     },
     "execution_count": 52,
     "metadata": {},
     "output_type": "execute_result"
    }
   ],
   "source": [
    "for _ in range(int(input())):\n",
    "    n, m = map(int, input().split())\n",
    "    li = list(map(int, input().split()))\n",
    "\n",
    "    li = [(v, i) for i, v in enumerate(li)]\n",
    "    li.sort(key=lambda x: (x[0], -x[1]))\n",
    "\n",
    "    places = [v[1] for v in li]\n",
    "    placed = [False] * m\n",
    "    total = 0\n",
    "    for i in range(m):\n",
    "        loc = places.index(i)\n",
    "        for j in range(loc):\n",
    "            if placed[j]:\n",
    "                total += 1\n",
    "        placed[loc] = True\n",
    "\n",
    "    print(total)"
   ]
  },
  {
   "cell_type": "markdown",
   "metadata": {},
   "source": [
    "D2"
   ]
  },
  {
   "cell_type": "code",
   "execution_count": 81,
   "metadata": {},
   "outputs": [
    {
     "name": "stdout",
     "output_type": "stream",
     "text": [
      "2 2\n",
      "1 1 2 1\n",
      "0\n"
     ]
    }
   ],
   "source": [
    "n, m = map(int, input().split())\n",
    "li = list(map(int, input().split()))\n",
    "\n",
    "li = [(v, i) for i, v in enumerate(li)]\n",
    "li.sort(key=lambda x: (x[0], x[1]))\n",
    "\n",
    "total = 0\n",
    "for i in range(0, n * m, m):\n",
    "    targets = []\n",
    "    for j in range(i, i + m):\n",
    "        targets.append(li[j])\n",
    "        \n",
    "    targets.sort(key=lambda x: x[1])\n",
    "    occupied = []\n",
    "    for t in targets:\n",
    "        fo = [v for v in occupied if v < t[0]] # formerly occupied\n",
    "        total += len(fo)\n",
    "        occupied.append(t[0])\n",
    "        \n",
    "print(total)"
   ]
  },
  {
   "cell_type": "code",
   "execution_count": null,
   "metadata": {},
   "outputs": [],
   "source": [
    "for _ in range(int(input())):\n",
    "    n, m = map(int, input().split())\n",
    "    li = list(map(int, input().split()))\n",
    "\n",
    "    li = [(v, i) for i, v in enumerate(li)]\n",
    "    li.sort(key=lambda x: (x[0], x[1]))\n",
    "\n",
    "    total = 0\n",
    "    for i in range(0, n * m, m):\n",
    "        targets = []\n",
    "        for j in range(i, i + m):\n",
    "            targets.append(li[j])\n",
    "\n",
    "        targets.sort(key=lambda x: x[1])\n",
    "        occupied = []\n",
    "        for t in targets:\n",
    "            fo = [v for v in occupied if v < t[0]] # formerly occupied\n",
    "            total += len(fo)\n",
    "            occupied.append(t[0])\n",
    "\n",
    "    print(total)"
   ]
  },
  {
   "cell_type": "markdown",
   "metadata": {},
   "source": [
    "E"
   ]
  },
  {
   "cell_type": "code",
   "execution_count": null,
   "metadata": {},
   "outputs": [],
   "source": [
    "모든 리프 수 - (루트와 연결된 노드의 수 - 1)"
   ]
  },
  {
   "cell_type": "code",
   "execution_count": 82,
   "metadata": {},
   "outputs": [
    {
     "name": "stdout",
     "output_type": "stream",
     "text": [
      "7\n",
      "1 2\n",
      "1 3\n",
      "1 4\n",
      "2 5\n",
      "2 6\n",
      "4 7\n"
     ]
    }
   ],
   "source": [
    "n = int(input())\n",
    "li = [[] for _ in range(n + 1)]\n",
    "\n",
    "for _ in range(n - 1):\n",
    "    a, b = map(int, input().split())\n",
    "    li[a].append(b)\n",
    "    li[b].append(a)\n",
    "    \n"
   ]
  },
  {
   "cell_type": "code",
   "execution_count": 130,
   "metadata": {},
   "outputs": [
    {
     "name": "stdout",
     "output_type": "stream",
     "text": [
      "3\n",
      "1 2\n",
      "1 3\n",
      "2\n"
     ]
    }
   ],
   "source": [
    "n = int(input())\n",
    "li = [[] for _ in range(n + 1)]\n",
    "\n",
    "for _ in range(n - 1):\n",
    "    a, b = map(int, input().split())\n",
    "    li[a].append(b)\n",
    "    li[b].append(a)\n",
    "\n",
    "info = []\n",
    "vt = [False] * (n + 1)\n",
    "rc = 0\n",
    "\n",
    "def dfs(value, level):\n",
    "    global rc\n",
    "\n",
    "    count = 0\n",
    "\n",
    "    r = 0\n",
    "    for v in li[value]:\n",
    "        if vt[v]:\n",
    "            continue\n",
    "        vt[v] = True\n",
    "        r = any((r, dfs(v, level + 1)))\n",
    "        count += 1\n",
    "\n",
    "    if count == 0:\n",
    "        if level == 1:\n",
    "            rc += 1\n",
    "        return False\n",
    "\n",
    "    # each child has no children\n",
    "    if r == 0:\n",
    "        info.append([level, count])\n",
    "    return True\n",
    "\n",
    "vt[1] = True\n",
    "dfs(1, 0)\n",
    "\n",
    "total = 0\n",
    "ninfo = []\n",
    "for v in info:\n",
    "    if v[0] == 0:\n",
    "        result = v[1]\n",
    "        break\n",
    "    else:\n",
    "        total += v[1]\n",
    "        ninfo.append(v)\n",
    "\n",
    "if result:\n",
    "    print(result)\n",
    "else:\n",
    "    total += rc\n",
    "    if rc == 0:\n",
    "        result = total - (len(ninfo) - 1)\n",
    "    else:\n",
    "        result = total - len(ninfo)\n",
    "\n",
    "    print(result)"
   ]
  },
  {
   "cell_type": "code",
   "execution_count": 106,
   "metadata": {},
   "outputs": [
    {
     "data": {
      "text/plain": [
       "1"
      ]
     },
     "execution_count": 106,
     "metadata": {},
     "output_type": "execute_result"
    }
   ],
   "source": [
    "nrc"
   ]
  },
  {
   "cell_type": "code",
   "execution_count": 108,
   "metadata": {},
   "outputs": [
    {
     "data": {
      "text/plain": [
       "[[3, 1]]"
      ]
     },
     "execution_count": 108,
     "metadata": {},
     "output_type": "execute_result"
    }
   ],
   "source": [
    "info"
   ]
  },
  {
   "cell_type": "code",
   "execution_count": 96,
   "metadata": {},
   "outputs": [
    {
     "data": {
      "text/plain": [
       "[[], [2], [1, 3], [2, 4, 6], [5, 3], [4], [3]]"
      ]
     },
     "execution_count": 96,
     "metadata": {},
     "output_type": "execute_result"
    }
   ],
   "source": [
    "li"
   ]
  },
  {
   "cell_type": "code",
   "execution_count": null,
   "metadata": {},
   "outputs": [],
   "source": []
  },
  {
   "cell_type": "markdown",
   "metadata": {},
   "source": [
    "### 제출본"
   ]
  },
  {
   "cell_type": "code",
   "execution_count": null,
   "metadata": {},
   "outputs": [],
   "source": [
    "import os\n",
    "import sys\n",
    "from io import BytesIO, IOBase\n",
    " \n",
    "\n",
    "def main():\n",
    "    import sys\n",
    "    sys.setrecursionlimit(2 * int(1e5) + 10)\n",
    "\n",
    "    for _ in range(int(input())):\n",
    "        n = int(input())\n",
    "        li = [[] for _ in range(n + 1)]\n",
    "\n",
    "        for _ in range(n - 1):\n",
    "            a, b = map(int, input().split())\n",
    "            li[a].append(b)\n",
    "            li[b].append(a)\n",
    "\n",
    "        info = []\n",
    "        vt = [False] * (n + 1)\n",
    "        rc = 0\n",
    "\n",
    "        def dfs(value, level):\n",
    "            global rc\n",
    "\n",
    "            count = 0\n",
    "\n",
    "            r = 0\n",
    "            for v in li[value]:\n",
    "                if vt[v]:\n",
    "                    continue\n",
    "                vt[v] = True\n",
    "                r = any((r, dfs(v, level + 1)))\n",
    "                count += 1\n",
    "\n",
    "            if count == 0:\n",
    "                if level == 1:\n",
    "                    rc += 1\n",
    "                return False\n",
    "\n",
    "            # each child has no children\n",
    "            if r == 0:\n",
    "                info.append([level, count])\n",
    "            return True\n",
    "\n",
    "        vt[1] = True\n",
    "        dfs(1, 0)\n",
    "\n",
    "        total = 0\n",
    "        ninfo = []\n",
    "        for v in info:\n",
    "            if v[0] == 0:\n",
    "                continue\n",
    "            else:\n",
    "                total += v[1]\n",
    "                ninfo.append(v)\n",
    "\n",
    "        total += rc\n",
    "        if rc == 0:\n",
    "            result = total - (len(ninfo) - 1)\n",
    "        else:\n",
    "            result = total - len(ninfo)\n",
    "\n",
    "        print(result)\n",
    "\n",
    "    \n",
    "    \n",
    "\n",
    "# region fastio\n",
    " \n",
    "BUFSIZE = 8192\n",
    " \n",
    "\n",
    "class FastIO(IOBase):\n",
    "    newlines = 0\n",
    " \n",
    "    def __init__(self, file):\n",
    "        self._fd = file.fileno()\n",
    "        self.buffer = BytesIO()\n",
    "        self.writable = \"x\" in file.mode or \"r\" not in file.mode\n",
    "        self.write = self.buffer.write if self.writable else None\n",
    " \n",
    "    def read(self):\n",
    "        while True:\n",
    "            b = os.read(self._fd, max(os.fstat(self._fd).st_size, BUFSIZE))\n",
    "            if not b:\n",
    "                break\n",
    "            ptr = self.buffer.tell()\n",
    "            self.buffer.seek(0, 2), self.buffer.write(b), self.buffer.seek(ptr)\n",
    "        self.newlines = 0\n",
    "        return self.buffer.read()\n",
    " \n",
    "    def readline(self):\n",
    "        while self.newlines == 0:\n",
    "            b = os.read(self._fd, max(os.fstat(self._fd).st_size, BUFSIZE))\n",
    "            self.newlines = b.count(b\"\\n\") + (not b)\n",
    "            ptr = self.buffer.tell()\n",
    "            self.buffer.seek(0, 2), self.buffer.write(b), self.buffer.seek(ptr)\n",
    "        self.newlines -= 1\n",
    "        return self.buffer.readline()\n",
    " \n",
    "    def flush(self):\n",
    "        if self.writable:\n",
    "            os.write(self._fd, self.buffer.getvalue())\n",
    "            self.buffer.truncate(0), self.buffer.seek(0)\n",
    " \n",
    " \n",
    "class IOWrapper(IOBase):\n",
    "    def __init__(self, file):\n",
    "        self.buffer = FastIO(file)\n",
    "        self.flush = self.buffer.flush\n",
    "        self.writable = self.buffer.writable\n",
    "        self.write = lambda s: self.buffer.write(s.encode(\"ascii\"))\n",
    "        self.read = lambda: self.buffer.read().decode(\"ascii\")\n",
    "        self.readline = lambda: self.buffer.readline().decode(\"ascii\")\n",
    " \n",
    " \n",
    "sys.stdin, sys.stdout = IOWrapper(sys.stdin), IOWrapper(sys.stdout)\n",
    "input = lambda: sys.stdin.readline().rstrip(\"\\r\\n\")\n",
    " \n",
    "# endregion\n",
    " \n",
    "if __name__ == \"__main__\":\n",
    "    main()"
   ]
  },
  {
   "cell_type": "code",
   "execution_count": 131,
   "metadata": {},
   "outputs": [
    {
     "name": "stdout",
     "output_type": "stream",
     "text": [
      "3\n",
      "3\n",
      "1 2\n",
      "2 3\n",
      "2\n",
      "4\n",
      "1 2\n",
      "1 3\n",
      "1 4\n",
      "3\n",
      "3\n",
      "1 2\n",
      "1 3\n",
      "2\n"
     ]
    }
   ],
   "source": [
    "import sys\n",
    "# input = lambda: sys.stdin.readline().rstrip()\n",
    "\n",
    "for _ in range(int(input())):\n",
    "    n = int(input())\n",
    "    li = [[] for _ in range(n + 1)]\n",
    "\n",
    "    for _ in range(n - 1):\n",
    "        a, b = map(int, input().split())\n",
    "        li[a].append(b)\n",
    "        li[b].append(a)\n",
    "\n",
    "    info = []\n",
    "    vt = [False] * (n + 1)\n",
    "    rc = 0\n",
    "\n",
    "    def dfs(value, level):\n",
    "        global rc\n",
    "\n",
    "        count = 0\n",
    "\n",
    "        r = 0\n",
    "        for v in li[value]:\n",
    "            if vt[v]:\n",
    "                continue\n",
    "            vt[v] = True\n",
    "            r = any((r, dfs(v, level + 1)))\n",
    "            count += 1\n",
    "\n",
    "        if count == 0:\n",
    "            if level == 1:\n",
    "                rc += 1\n",
    "            return False\n",
    "\n",
    "        # each child has no children\n",
    "        if r == 0:\n",
    "            info.append([level, count])\n",
    "        return True\n",
    "\n",
    "    vt[1] = True\n",
    "    dfs(1, 0)\n",
    "\n",
    "    total = 0\n",
    "    ninfo = []\n",
    "    for v in info:\n",
    "        if v[0] == 0:\n",
    "            result = v[1]\n",
    "            break\n",
    "        else:\n",
    "            total += v[1]\n",
    "            ninfo.append(v)\n",
    "\n",
    "    if result:\n",
    "        print(result)\n",
    "    else:\n",
    "        total += rc\n",
    "        if rc == 0:\n",
    "            result = total - (len(ninfo) - 1)\n",
    "        else:\n",
    "            result = total - len(ninfo)\n",
    "\n",
    "        print(result)"
   ]
  }
 ],
 "metadata": {
  "kernelspec": {
   "display_name": "Python 3",
   "language": "python",
   "name": "python3"
  },
  "language_info": {
   "codemirror_mode": {
    "name": "ipython",
    "version": 3
   },
   "file_extension": ".py",
   "mimetype": "text/x-python",
   "name": "python",
   "nbconvert_exporter": "python",
   "pygments_lexer": "ipython3",
   "version": "3.7.3"
  }
 },
 "nbformat": 4,
 "nbformat_minor": 4
}
