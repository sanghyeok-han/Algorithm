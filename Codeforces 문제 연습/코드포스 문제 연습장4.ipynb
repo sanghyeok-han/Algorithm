{
 "cells": [
  {
   "cell_type": "markdown",
   "metadata": {},
   "source": [
    "https://codeforces.com/contest/1670/problem/A"
   ]
  },
  {
   "cell_type": "code",
   "execution_count": 9,
   "metadata": {},
   "outputs": [
    {
     "name": "stdout",
     "output_type": "stream",
     "text": [
      "7\n",
      "7 3 2 -11 -13 -17 -23\n",
      "NO\n"
     ]
    }
   ],
   "source": [
    "import sys\n",
    "input = lambda: sys.stdin.readline().rstrip()\n",
    "\n",
    "for _ in range(int(input())):\n",
    "    n = int(input())\n",
    "    li = list(map(int, input().split()))\n",
    "\n",
    "    minus_c = 0\n",
    "    for i in range(n):\n",
    "        if li[i] < 0:\n",
    "            minus_c += 1\n",
    "            li[i] = -li[i]\n",
    "\n",
    "    for i in range(n):\n",
    "        if not minus_c:\n",
    "            break\n",
    "        minus_c -= 1\n",
    "        li[i] = -li[i]\n",
    "\n",
    "    ip = True\n",
    "    for i in range(n - 1):\n",
    "        if li[i] > li[i + 1]:\n",
    "            ip = False\n",
    "            break\n",
    "\n",
    "    if ip:\n",
    "        print('YES')\n",
    "    else:\n",
    "        print('NO')"
   ]
  },
  {
   "cell_type": "markdown",
   "metadata": {},
   "source": [
    "https://codeforces.com/contest/1670/problem/B"
   ]
  },
  {
   "cell_type": "code",
   "execution_count": null,
   "metadata": {},
   "outputs": [],
   "source": [
    "import sys\n",
    "input = lambda: sys.stdin.readline().rstrip()\n",
    "\n",
    "for _ in range(int(input())):\n",
    "    n = int(input())\n",
    "    s = input()\n",
    "    specials = input().split()\n",
    "    specials = set(specials[1:])\n",
    "\n",
    "    max_cont = 0\n",
    "    cur_cont = 0\n",
    "    for v in s:\n",
    "        if v in specials:\n",
    "            max_cont = max(max_cont, cur_cont)\n",
    "            cur_cont = 1\n",
    "        else:\n",
    "            cur_cont += 1\n",
    "\n",
    "    print(max_cont)"
   ]
  },
  {
   "cell_type": "markdown",
   "metadata": {},
   "source": [
    "https://codeforces.com/contest/1670/problem/C"
   ]
  },
  {
   "cell_type": "code",
   "execution_count": null,
   "metadata": {},
   "outputs": [],
   "source": [
    "import sys\n",
    "input = lambda: sys.stdin.readline().rstrip()\n",
    "\n",
    "for _ in range(int(input())):\n",
    "    n = int(input())\n",
    "    a = list(map(int, input().split()))\n",
    "    b = list(map(int, input().split()))\n",
    "    c = set(map(int, input().split()))\n",
    "\n",
    "    d = {a[i]: b[i] for i in range(n)}\n",
    "\n",
    "    vt = [False] * (n + 1)\n",
    "    unfixed_c = 0\n",
    "    for num in range(1, n + 1):\n",
    "        if vt[num]:\n",
    "            continue\n",
    "        if d[num] == num:\n",
    "            vt[num] = True\n",
    "            continue\n",
    "\n",
    "        fixed = False\n",
    "        while True:\n",
    "            if num in c:\n",
    "                fixed = True\n",
    "            num = d[num]\n",
    "            if vt[num]:\n",
    "                break\n",
    "            vt[num] = True\n",
    "\n",
    "        if not fixed:\n",
    "            unfixed_c += 1\n",
    "\n",
    "    mod = int(1e9) + 7\n",
    "    r = pow(2, unfixed_c, mod)\n",
    "\n",
    "    print(r)"
   ]
  },
  {
   "cell_type": "markdown",
   "metadata": {},
   "source": [
    "https://codeforces.com/contest/1670/problem/D"
   ]
  },
  {
   "cell_type": "code",
   "execution_count": 21,
   "metadata": {},
   "outputs": [
    {
     "name": "stdout",
     "output_type": "stream",
     "text": [
      "3\n",
      "3\n",
      "3\n",
      "2\n",
      "2\n",
      "4\n",
      "3\n"
     ]
    }
   ],
   "source": [
    "from bisect import bisect_left\n",
    "import sys\n",
    "input = lambda: sys.stdin.readline().rstrip()\n",
    "\n",
    "lines_c = [0, 0, 0]\n",
    "cs = [0]\n",
    "\n",
    "i = 1\n",
    "total = 0\n",
    "cri = int(1e9)\n",
    "while True:\n",
    "    cur = i % 3\n",
    "    lines_c[cur] += 1\n",
    "    \n",
    "    if cur == 0:\n",
    "        total += (lines_c[1] + lines_c[2]) * 2\n",
    "    elif cur == 1:\n",
    "        total += (lines_c[0] + lines_c[2]) * 2\n",
    "    else:\n",
    "        total += (lines_c[0] + lines_c[1]) * 2\n",
    "\n",
    "    cs.append(total)\n",
    "    if total > cri:\n",
    "        break\n",
    "        \n",
    "    i += 1\n",
    "    \n",
    "for _ in range(int(input())):\n",
    "    n = int(input())\n",
    "    \n",
    "    r = bisect_left(cs, n)\n",
    "    \n",
    "    print(r)"
   ]
  },
  {
   "cell_type": "markdown",
   "metadata": {},
   "source": [
    "https://codeforces.com/contest/1678/problem/A"
   ]
  },
  {
   "cell_type": "code",
   "execution_count": null,
   "metadata": {},
   "outputs": [],
   "source": [
    "0 있는 경우 분기\n",
    "같은 수가 하나라도 있는 경우 분기\n",
    "같은 수가 없는 경우 분기"
   ]
  },
  {
   "cell_type": "code",
   "execution_count": 25,
   "metadata": {},
   "outputs": [
    {
     "name": "stdout",
     "output_type": "stream",
     "text": [
      "3\n",
      "0 0 0\n",
      "0\n"
     ]
    }
   ],
   "source": [
    "import sys\n",
    "input = lambda: sys.stdin.readline().rstrip()\n",
    "\n",
    "for _ in range(int(input())):\n",
    "    n = int(input())\n",
    "    li = list(map(int, input().split()))\n",
    "\n",
    "    c0 = li.count(0)\n",
    "\n",
    "    if c0 >= 1:\n",
    "        r = n - c0\n",
    "    elif len(set(li)) < n:\n",
    "        r = n\n",
    "    else:\n",
    "        r = n + 1\n",
    "\n",
    "    print(r)"
   ]
  },
  {
   "cell_type": "markdown",
   "metadata": {},
   "source": [
    "https://codeforces.com/contest/1678/problem/B1"
   ]
  },
  {
   "cell_type": "code",
   "execution_count": 33,
   "metadata": {},
   "outputs": [
    {
     "name": "stdout",
     "output_type": "stream",
     "text": [
      "6\n",
      "111000\n",
      "1\n"
     ]
    }
   ],
   "source": [
    "import sys\n",
    "input = lambda: sys.stdin.readline().rstrip()\n",
    "\n",
    "for _ in range(int(input())):\n",
    "    n = int(input())\n",
    "    s = input()\n",
    "\n",
    "    conts = []\n",
    "    fv = s[0]\n",
    "    cur_cont = 0\n",
    "    for v in s:\n",
    "        if v == fv:\n",
    "            cur_cont += 1\n",
    "        else:\n",
    "            conts.append(cur_cont)\n",
    "            cur_cont = 1\n",
    "            fv = v\n",
    "    conts.append(cur_cont)\n",
    "\n",
    "    r = 0\n",
    "    for i in range(len(conts) - 1):\n",
    "        if conts[i] % 2 == 1:\n",
    "            r += 1\n",
    "            conts[i] -= 1\n",
    "            conts[i + 1] += 1\n",
    "\n",
    "    print(r)"
   ]
  },
  {
   "cell_type": "markdown",
   "metadata": {},
   "source": [
    "https://codeforces.com/contest/1678/problem/B2"
   ]
  },
  {
   "cell_type": "code",
   "execution_count": 71,
   "metadata": {},
   "outputs": [
    {
     "name": "stdout",
     "output_type": "stream",
     "text": [
      "6\n",
      "100110\n",
      "3 1\n"
     ]
    }
   ],
   "source": [
    "n = int(input())\n",
    "s = input()\n",
    "\n",
    "conts = []\n",
    "fv = s[0]\n",
    "cur_cont = 0\n",
    "for v in s:\n",
    "    if v == fv:\n",
    "        cur_cont += 1\n",
    "    else:\n",
    "        conts.append(cur_cont)\n",
    "        cur_cont = 1\n",
    "        fv = v\n",
    "conts.append(cur_cont)\n",
    "\n",
    "conts_len = len(conts)\n",
    "r1 = 0\n",
    "r2 = 0\n",
    "for i in range(len(conts) - 1):\n",
    "    if conts[i] % 2 == 1:\n",
    "        r1 += 1\n",
    "\n",
    "        if conts[i] == 1:\n",
    "            if i == 0:\n",
    "                if conts[i + 1] == 2 and i + 2 < conts_len and conts[i + 2] == 1:\n",
    "                    conts[i + 1] += 1\n",
    "                    conts[i] -= 1\n",
    "                elif conts[i + 1] == 2 and i + 2 < conts_len and conts[i + 2] % 2 == 1:\n",
    "                    conts[i + 1] -= 1\n",
    "                    conts[i] += 1\n",
    "                elif conts[i + 1] == 1:\n",
    "                    conts[i + 1] -= 1\n",
    "                    conts[i] += 1\n",
    "                else:\n",
    "                    conts[i + 1] += 1\n",
    "                    conts[i] -= 1\n",
    "            elif i >= 1 and conts[i - 1] == 0:\n",
    "                conts[i] += 1\n",
    "                conts[i + 1] -= 1\n",
    "            else:        \n",
    "                conts[i] -= 1\n",
    "                conts[i + 1] += 1\n",
    "        else:\n",
    "            conts[i] += 1\n",
    "            conts[i + 1] -= 1\n",
    "\n",
    "free = False\n",
    "r2 = 0\n",
    "for i in range(len(conts)):\n",
    "    if conts[i] == 0:\n",
    "        if i == 0:\n",
    "            continue\n",
    "\n",
    "        if not free:\n",
    "            free = True\n",
    "        else:\n",
    "            free = False\n",
    "    else:\n",
    "        if free:\n",
    "            free = False\n",
    "        else:\n",
    "            r2 += 1\n",
    "\n",
    "print(r1, r2)"
   ]
  },
  {
   "cell_type": "code",
   "execution_count": null,
   "metadata": {},
   "outputs": [],
   "source": [
    "import sys\n",
    "input = lambda: sys.stdin.readline().rstrip()\n",
    "\n",
    "for _ in range(int(input())):\n",
    "    n = int(input())\n",
    "    s = input()\n",
    "\n",
    "    conts = []\n",
    "    fv = s[0]\n",
    "    cur_cont = 0\n",
    "    for v in s:\n",
    "        if v == fv:\n",
    "            cur_cont += 1\n",
    "        else:\n",
    "            conts.append(cur_cont)\n",
    "            cur_cont = 1\n",
    "            fv = v\n",
    "    conts.append(cur_cont)\n",
    "\n",
    "    conts_len = len(conts)\n",
    "    r1 = 0\n",
    "    r2 = 0\n",
    "    for i in range(len(conts) - 1):\n",
    "        if conts[i] % 2 == 1:\n",
    "            r1 += 1\n",
    "\n",
    "            if conts[i] == 1:\n",
    "                if i == 0:\n",
    "                    if conts[i + 1] == 2 and i + 2 < conts_len and conts[i + 2] == 1:\n",
    "                        conts[i + 1] += 1\n",
    "                        conts[i] -= 1\n",
    "                    elif conts[i + 1] == 2 and i + 2 < conts_len and conts[i + 2] % 2 == 1:\n",
    "                        conts[i + 1] -= 1\n",
    "                        conts[i] += 1\n",
    "                    elif conts[i + 1] == 1:\n",
    "                        conts[i + 1] -= 1\n",
    "                        conts[i] += 1\n",
    "                    else:\n",
    "                        conts[i + 1] += 1\n",
    "                        conts[i] -= 1\n",
    "                elif i >= 1 and conts[i - 1] == 0:\n",
    "                    conts[i] += 1\n",
    "                    conts[i + 1] -= 1\n",
    "                else:        \n",
    "                    conts[i] -= 1\n",
    "                    conts[i + 1] += 1\n",
    "            else:\n",
    "                conts[i] += 1\n",
    "                conts[i + 1] -= 1\n",
    "\n",
    "    free = False\n",
    "    r2 = 0\n",
    "    for i in range(len(conts)):\n",
    "        if conts[i] == 0:\n",
    "            if i == 0:\n",
    "                continue\n",
    "\n",
    "            if not free:\n",
    "                free = True\n",
    "            else:\n",
    "                free = False\n",
    "        else:\n",
    "            if free:\n",
    "                free = False\n",
    "            else:\n",
    "                r2 += 1\n",
    "\n",
    "    print(r1, r2)"
   ]
  },
  {
   "cell_type": "markdown",
   "metadata": {},
   "source": [
    "https://codeforces.com/contest/1658/problem/A"
   ]
  },
  {
   "cell_type": "code",
   "execution_count": 17,
   "metadata": {},
   "outputs": [
    {
     "name": "stdout",
     "output_type": "stream",
     "text": [
      "1\n",
      "3\n",
      "010\n",
      "3\n"
     ]
    }
   ],
   "source": [
    "import sys\n",
    "input = lambda: sys.stdin.readline().rstrip()\n",
    "\n",
    "for _ in range(int(input())):\n",
    "    n = int(input())\n",
    "    li = list(map(int, input()))\n",
    "\n",
    "    zeros = []\n",
    "    for i in range(n):\n",
    "        if li[i] == 0:\n",
    "            zeros.append(i)\n",
    "\n",
    "    r = 0\n",
    "    for i in range(len(zeros) - 1):\n",
    "        c1 = 0\n",
    "        for index in range(zeros[i], zeros[i + 1]):\n",
    "            if li[index] == 1:\n",
    "                c1 += 1\n",
    "        if c1 <= 1:\n",
    "            r += 2 - c1\n",
    "\n",
    "    print(r)"
   ]
  },
  {
   "cell_type": "markdown",
   "metadata": {},
   "source": [
    "https://codeforces.com/contest/1676/problem/H2"
   ]
  },
  {
   "cell_type": "code",
   "execution_count": 16,
   "metadata": {},
   "outputs": [
    {
     "name": "stdout",
     "output_type": "stream",
     "text": [
      "1\n",
      "3\n",
      "2 2 2\n",
      "3\n"
     ]
    }
   ],
   "source": [
    "import sys\n",
    "sys.setrecursionlimit(50000)\n",
    "# input = lambda: sys.stdin.readline().rstrip()\n",
    "\n",
    "def merge_sort(li):\n",
    "    global count\n",
    "    \n",
    "    if len(li) == 1:\n",
    "        return li\n",
    "    \n",
    "    left = merge_sort(li[:len(li) // 2])\n",
    "    right = merge_sort(li[len(li) // 2:])\n",
    "    \n",
    "    nl = len(left)\n",
    "    nr = len(right)\n",
    "    \n",
    "    nli = []\n",
    "    l_i = r_i = 0\n",
    "    while True:\n",
    "        if left[l_i] < right[r_i]:\n",
    "            nli.append(left[l_i])\n",
    "            count += r_i\n",
    "            l_i += 1\n",
    "            \n",
    "            if l_i == nl:\n",
    "                while r_i < nr:\n",
    "                    nli.append(right[r_i])\n",
    "                    r_i += 1\n",
    "                break    \n",
    "        else:\n",
    "            nli.append(right[r_i])\n",
    "            r_i += 1\n",
    "            \n",
    "            if r_i == nr:\n",
    "                while l_i < nl:\n",
    "                    nli.append(left[l_i])\n",
    "                    count += r_i\n",
    "                    l_i += 1\n",
    "                break\n",
    "    return nli \n",
    "    \n",
    "for _ in range(int(input())):\n",
    "    n = int(input())\n",
    "    li = list(map(int, input().split()))\n",
    "\n",
    "    count = 0\n",
    "    merge_sort(li)\n",
    "\n",
    "    print(count)"
   ]
  },
  {
   "cell_type": "markdown",
   "metadata": {},
   "source": [
    "https://codeforces.com/contest/1657/problem/A"
   ]
  },
  {
   "cell_type": "code",
   "execution_count": 3,
   "metadata": {},
   "outputs": [
    {
     "name": "stdout",
     "output_type": "stream",
     "text": [
      "9 15\n",
      "2\n"
     ]
    }
   ],
   "source": [
    "import sys\n",
    "input = lambda: sys.stdin.readline().rstrip()\n",
    "\n",
    "for _ in range(int(input())):\n",
    "    x, y = map(int, input().split())\n",
    "\n",
    "    if x == 0 and y == 0:\n",
    "        print(0)\n",
    "    else:\n",
    "        temp = (x ** 2 + y ** 2) ** 0.5\n",
    "        temp = round(temp, 10)\n",
    "\n",
    "        if temp == int(temp):\n",
    "            print(1)\n",
    "        else:\n",
    "            print(2)"
   ]
  },
  {
   "cell_type": "markdown",
   "metadata": {},
   "source": [
    "https://codeforces.com/contest/1657/problem/B"
   ]
  },
  {
   "cell_type": "code",
   "execution_count": 6,
   "metadata": {},
   "outputs": [
    {
     "name": "stdout",
     "output_type": "stream",
     "text": [
      "4 1 7 3\n",
      "-10\n"
     ]
    }
   ],
   "source": [
    "import sys\n",
    "input = lambda: sys.stdin.readline().rstrip()\n",
    "\n",
    "for _ in range(int(input())):\n",
    "    n, B, x, y = map(int, input().split())\n",
    "\n",
    "    cur = 0\n",
    "    cumul = 0\n",
    "    for _ in range(n):\n",
    "        if cur + x > B:\n",
    "            cur -= y\n",
    "        else:\n",
    "            cur += x\n",
    "\n",
    "        cumul += cur\n",
    "\n",
    "    print(cumul)"
   ]
  },
  {
   "cell_type": "markdown",
   "metadata": {},
   "source": [
    "https://codeforces.com/contest/1657/problem/C"
   ]
  },
  {
   "cell_type": "code",
   "execution_count": 14,
   "metadata": {},
   "outputs": [
    {
     "name": "stdout",
     "output_type": "stream",
     "text": [
      "6\n",
      ")((()(\n",
      "1 1\n"
     ]
    }
   ],
   "source": [
    "import sys\n",
    "input = lambda: sys.stdin.readline().rstrip()\n",
    "\n",
    "for _ in range(int(input())):\n",
    "    n = int(input())\n",
    "    s = input()\n",
    "\n",
    "    c = 0\n",
    "    temp = []\n",
    "    for i in range(n):\n",
    "        temp.append(s[i])\n",
    "        if len(temp) >= 2:\n",
    "            if temp[0] == '(':\n",
    "                temp = []\n",
    "                c += 1\n",
    "            else:\n",
    "                if temp[-1] == ')':\n",
    "                    temp = []\n",
    "                    c += 1\n",
    "\n",
    "    r = len(temp)\n",
    "\n",
    "    print(c, r)"
   ]
  },
  {
   "cell_type": "markdown",
   "metadata": {},
   "source": [
    "https://codeforces.com/contest/1657/problem/D"
   ]
  },
  {
   "cell_type": "code",
   "execution_count": null,
   "metadata": {},
   "outputs": [],
   "source": [
    "코인으로 데미지는 높일 수 있지만 체력은 못 높이게 되는 식이 된다.\n",
    "주어진 타입에서 데미지와 체력이 서로 값이 바뀌어도 같은 코인을 썼을 때의 결과는 같다."
   ]
  },
  {
   "cell_type": "code",
   "execution_count": null,
   "metadata": {},
   "outputs": [],
   "source": [
    "1~C까지 각각 약수들 구해서 각각의 약수들 별로 최적값 확인해서 가장 큰 최적값 가진 것을 사용하게 됨\n",
    "참고로 i-1의 최적값하고도 비교할 필요 있음\n",
    "\n",
    "\n",
    "몬스터별로 코인을 이분탐색 돌려서 확인해봄"
   ]
  },
  {
   "cell_type": "code",
   "execution_count": 48,
   "metadata": {
    "scrolled": true
   },
   "outputs": [
    {
     "name": "stdout",
     "output_type": "stream",
     "text": [
      "3 10\n",
      "3 4 6\n",
      "5 5 5\n",
      "10 3 4\n",
      "3\n",
      "8 3\n",
      "5 4\n",
      "10 15\n",
      "5 3 -1\n"
     ]
    }
   ],
   "source": [
    "from bisect import bisect_left\n",
    "import sys\n",
    "input = lambda: sys.stdin.readline().rstrip()\n",
    "\n",
    "n, C = map(int, input().split())\n",
    "\n",
    "li = [0] * (C + 1)\n",
    "optis = [0] * (C + 1)\n",
    "for _ in range(n):\n",
    "    c, d, h = map(int, input().split())\n",
    "    li[c] = max(li[c], d * h)\n",
    "    \n",
    "for coin in range(1, C + 1):\n",
    "    if li[coin] >= 1:\n",
    "        ncoin = coin\n",
    "        count = 1\n",
    "        while ncoin <= C:\n",
    "            optis[ncoin] = max(optis[ncoin], li[coin] * count)\n",
    "            ncoin += coin\n",
    "            count += 1\n",
    "            \n",
    "    optis[coin] = max(optis[coin - 1], optis[coin])\n",
    "    \n",
    "m = int(input())\n",
    "result = []\n",
    "for _ in range(m):\n",
    "    d, h = map(int, input().split())\n",
    "    \n",
    "    min_needed = bisect_left(optis, d * h + 1)\n",
    "    if min_needed > C:\n",
    "        result.append(-1)\n",
    "    else:\n",
    "        result.append(min_needed)\n",
    "        \n",
    "print(*result)"
   ]
  },
  {
   "cell_type": "code",
   "execution_count": 47,
   "metadata": {},
   "outputs": [
    {
     "data": {
      "text/plain": [
       "13036701"
      ]
     },
     "execution_count": 47,
     "metadata": {},
     "output_type": "execute_result"
    }
   ],
   "source": [
    "total = 0\n",
    "for i in range(1, 300001):\n",
    "    total += 1000000 // i\n",
    "    \n",
    "total"
   ]
  },
  {
   "cell_type": "code",
   "execution_count": null,
   "metadata": {},
   "outputs": [],
   "source": [
    "1~300000"
   ]
  },
  {
   "cell_type": "code",
   "execution_count": 46,
   "metadata": {},
   "outputs": [
    {
     "data": {
      "text/plain": [
       "164316767.25154984"
      ]
     },
     "execution_count": 46,
     "metadata": {},
     "output_type": "execute_result"
    }
   ],
   "source": [
    "300000 * 300000 ** 0.5"
   ]
  },
  {
   "cell_type": "markdown",
   "metadata": {},
   "source": [
    "https://codeforces.com/contest/1647/problem/A"
   ]
  },
  {
   "cell_type": "code",
   "execution_count": null,
   "metadata": {},
   "outputs": [],
   "source": [
    "1\n",
    "1\n",
    "\n",
    "2\n",
    "2\n",
    "\n",
    "3\n",
    "21\n",
    "\n",
    "4\n",
    "121\n",
    "\n",
    "5\n",
    "212\n",
    "\n",
    "6\n",
    "2121\n",
    "\n",
    "7\n",
    "12121\n",
    "\n",
    "8\n",
    "21212"
   ]
  },
  {
   "cell_type": "code",
   "execution_count": 3,
   "metadata": {},
   "outputs": [
    {
     "name": "stdout",
     "output_type": "stream",
     "text": [
      "5\n",
      "1\n",
      "1\n",
      "2\n",
      "2\n",
      "3\n",
      "21\n",
      "4\n",
      "121\n",
      "5\n",
      "212\n"
     ]
    }
   ],
   "source": [
    "from collections import deque\n",
    "import sys\n",
    "input = lambda: sys.stdin.readline().rstrip()\n",
    "\n",
    "r = ['0', '1', '2', '21', '121', '212']\n",
    "\n",
    "deq = deque(['2', '1', '2'])\n",
    "for i in range(6, 1001):\n",
    "    if len(deq) % 2 == 0:\n",
    "        deq.appendleft('1')\n",
    "    else:\n",
    "        if deq[0] == '1':\n",
    "            deq.append('2')\n",
    "            deq.popleft()\n",
    "        else:\n",
    "            deq.append('1')\n",
    "    r.append(''.join(deq))\n",
    "    \n",
    "for _ in range(int(input())):\n",
    "    n = int(input())\n",
    "    \n",
    "    print(r[n])"
   ]
  },
  {
   "cell_type": "markdown",
   "metadata": {},
   "source": [
    "https://codeforces.com/contest/1647/problem/B"
   ]
  },
  {
   "cell_type": "code",
   "execution_count": 18,
   "metadata": {},
   "outputs": [
    {
     "name": "stdout",
     "output_type": "stream",
     "text": [
      "1\n",
      "4 4\n",
      "1100\n",
      "0011\n",
      "1111\n",
      "0000\n",
      "NO\n"
     ]
    }
   ],
   "source": [
    "import sys\n",
    "# input = lambda: sys.stdin.readline().rstrip()\n",
    "\n",
    "def check():\n",
    "    vt = [[False] * m for _ in range(n)]\n",
    "    for i in range(n):\n",
    "        for j in range(m):\n",
    "            if vt[i][j]:\n",
    "                continue\n",
    "            vt[i][j] = True\n",
    "\n",
    "            if li[i][j] == 0:\n",
    "                continue\n",
    "\n",
    "            down = 0\n",
    "            for ni in range(i + 1, n):\n",
    "                if li[ni][j] == 0:\n",
    "                    break\n",
    "                else:\n",
    "                    down += 1\n",
    "                    \n",
    "            right = 0\n",
    "            for nj in range(j + 1, m):\n",
    "                if li[i][nj] == 0:\n",
    "                    break\n",
    "                else:\n",
    "                    right += 1\n",
    "                    \n",
    "            for ni in range(i, i + down + 1):\n",
    "                for nj in range(j, j + right + 1):\n",
    "                    vt[ni][nj] = True\n",
    "                    if li[ni][nj] == 0:\n",
    "                        return False\n",
    "                \n",
    "            temp = j - 1\n",
    "            if temp >= 0:\n",
    "                for ni in range(i, i + down + 1):\n",
    "                    if li[ni][temp] == 1:\n",
    "                        return False\n",
    "                    \n",
    "            temp = i - 1\n",
    "            if temp >= 0:\n",
    "                for nj in range(j, j + right + 1):\n",
    "                    if li[temp][nj] == 1:\n",
    "                        return False\n",
    "                \n",
    "            temp = j + right + 1\n",
    "            if temp < m:\n",
    "                for ni in range(i, i + down + 1):\n",
    "                    if li[ni][temp] == 1:\n",
    "                        return False\n",
    "                    \n",
    "            temp = i + down + 1\n",
    "            if temp < n:\n",
    "                for nj in range(j, j + right + 1):\n",
    "                    if li[temp][nj] == 1:\n",
    "                        return False\n",
    "                    \n",
    "    return True\n",
    "\n",
    "for _ in range(int(input())):\n",
    "    n, m = map(int, input().split())\n",
    "    li = [list(map(int, input())) for _ in range(n)]\n",
    "\n",
    "    if check():\n",
    "        print('YES')\n",
    "    else:\n",
    "        print('NO')"
   ]
  },
  {
   "cell_type": "markdown",
   "metadata": {},
   "source": [
    "https://codeforces.com/contest/1647/problem/C"
   ]
  },
  {
   "cell_type": "code",
   "execution_count": 28,
   "metadata": {},
   "outputs": [
    {
     "name": "stdout",
     "output_type": "stream",
     "text": [
      "1\n",
      "3 1\n",
      "0\n",
      "1\n",
      "1\n",
      "2\n",
      "2 1 3 1\n",
      "1 1 2 1\n"
     ]
    }
   ],
   "source": [
    "import sys\n",
    "# input = lambda: sys.stdin.readline().rstrip()\n",
    "\n",
    "for _ in range(int(input())):\n",
    "    n, m = map(int, input().split())\n",
    "    target = [list(map(int, input())) for _ in range(n)]\n",
    "\n",
    "    li = [[0] * m for _ in range(n)]\n",
    "    if target[0][0] == 1:\n",
    "        print(-1)\n",
    "    else:\n",
    "        r = []\n",
    "        for i in range(n):\n",
    "            for j in range(m - 1, 0, -1):\n",
    "                if target[i][j] == 1:\n",
    "                    r.append((i + 1, j, i + 1, j + 1))\n",
    "                    li[i][j] = 1\n",
    "\n",
    "        for i in range(n - 1, 0, -1):\n",
    "            if target[i][0] == 1:\n",
    "                r.append((i, 1, i + 1, 1))\n",
    "                li[i][0] = 1\n",
    "\n",
    "        print(len(r))\n",
    "        for v in r:\n",
    "            print(*v)"
   ]
  },
  {
   "cell_type": "markdown",
   "metadata": {},
   "source": [
    "https://codeforces.com/contest/1647/problem/D"
   ]
  },
  {
   "cell_type": "code",
   "execution_count": 30,
   "metadata": {},
   "outputs": [
    {
     "data": {
      "text/plain": [
       "3162277.660168379"
      ]
     },
     "execution_count": 30,
     "metadata": {},
     "output_type": "execute_result"
    }
   ],
   "source": [
    "1e9 ** 0.5 * 100"
   ]
  },
  {
   "cell_type": "code",
   "execution_count": 96,
   "metadata": {},
   "outputs": [
    {
     "name": "stdout",
     "output_type": "stream",
     "text": [
      "1\n",
      "16384 4\n",
      "YES\n"
     ]
    }
   ],
   "source": [
    "import sys\n",
    "input = lambda: sys.stdin.readline().rstrip()\n",
    "\n",
    "def p_facto(num):\n",
    "    r = []\n",
    "    for mod in range(2, int(num ** 0.5) + 1):\n",
    "        while num % mod == 0:\n",
    "            num //= mod\n",
    "            r.append(mod)\n",
    "    \n",
    "    if num != 1:\n",
    "        r.append(num)\n",
    "        \n",
    "    return r\n",
    "\n",
    "for _ in range(int(input())):\n",
    "    x, d = map(int, input().split())\n",
    "\n",
    "    c = 0\n",
    "    num = x\n",
    "    while num % d == 0:\n",
    "        c += 1\n",
    "        num //= d\n",
    "\n",
    "    ps = p_facto(num)\n",
    "\n",
    "    if c <= 1:\n",
    "        print('NO')\n",
    "    else:\n",
    "        if len(ps) >= 2:\n",
    "            print('YES')\n",
    "        elif len(ps) == 0:\n",
    "            if c == 2:\n",
    "                print('NO')\n",
    "            else:\n",
    "                if len(p_facto(d)) >= 2:\n",
    "                    print('YES')\n",
    "                else:\n",
    "                    print('NO')\n",
    "        else:\n",
    "            if c == 2:\n",
    "                print('NO')\n",
    "            else:\n",
    "                temp = p_facto(d)\n",
    "                if len(p_facto(d)) < 2:\n",
    "                    print('NO')\n",
    "                elif c >= 4:\n",
    "                    print('YES')\n",
    "                else:\n",
    "                    d_s = d ** 2\n",
    "                    ps.extend(temp)\n",
    "                    to_check = [d, d]\n",
    "\n",
    "                    ip = True\n",
    "                    for v in ps:\n",
    "                        if to_check[0] * v % d_s == 0:\n",
    "                            pass\n",
    "                        else:\n",
    "                            to_check[0] *= v\n",
    "                            continue\n",
    "\n",
    "                        if to_check[1] * v % d_s == 0:\n",
    "                            ip = False\n",
    "                            break\n",
    "                        else:\n",
    "                            to_check[1] *= v\n",
    "\n",
    "                    if ip:\n",
    "                        print('YES')\n",
    "                    else:\n",
    "                        print('NO')"
   ]
  },
  {
   "cell_type": "markdown",
   "metadata": {},
   "source": [
    "https://codeforces.com/contest/1658/problem/B"
   ]
  },
  {
   "cell_type": "code",
   "execution_count": 11,
   "metadata": {},
   "outputs": [],
   "source": [
    "from itertools import permutations as perm\n",
    "from math import gcd\n",
    "\n",
    "n = 5\n",
    "for case in perm(range(1, n + 1)):\n",
    "    cur = case[0]\n",
    "    for i in range(1, n):\n",
    "        w = i + 1\n",
    "        \n",
    "        cur = gcd(cur, case[i] * w)\n",
    "        \n",
    "    if cur > 1:\n",
    "        print(case)"
   ]
  },
  {
   "cell_type": "code",
   "execution_count": 20,
   "metadata": {},
   "outputs": [
    {
     "name": "stdout",
     "output_type": "stream",
     "text": [
      "1000\n",
      "665702330\n"
     ]
    }
   ],
   "source": [
    "import sys\n",
    "input = lambda: sys.stdin.readline().rstrip()\n",
    "\n",
    "mod = 998244353\n",
    "\n",
    "facts = [1]\n",
    "cur = 1\n",
    "w = 1\n",
    "for _ in range(1010):\n",
    "    cur *= w\n",
    "    cur %= mod\n",
    "    facts.append(cur)\n",
    "    \n",
    "    w += 1\n",
    "\n",
    "for _ in range(int(input())):\n",
    "    n = int(input())\n",
    "\n",
    "    if n % 2 == 1:\n",
    "        r = 0\n",
    "    else:\n",
    "        r = facts[n // 2] * facts[n // 2] % mod\n",
    "\n",
    "    print(r)"
   ]
  },
  {
   "cell_type": "markdown",
   "metadata": {},
   "source": [
    "https://codeforces.com/contest/1658/problem/C"
   ]
  },
  {
   "cell_type": "code",
   "execution_count": 14,
   "metadata": {},
   "outputs": [
    {
     "name": "stdout",
     "output_type": "stream",
     "text": [
      "42\n",
      "(1, 2, 2, 2, 2, 2)\n",
      "(1, 2, 2, 2, 2, 3)\n",
      "(1, 2, 2, 2, 3, 2)\n",
      "(1, 2, 2, 2, 3, 3)\n",
      "(1, 2, 2, 2, 3, 4)\n",
      "(1, 2, 2, 3, 2, 2)\n",
      "(1, 2, 2, 3, 2, 3)\n",
      "(1, 2, 2, 3, 3, 2)\n",
      "(1, 2, 2, 3, 3, 3)\n",
      "(1, 2, 2, 3, 3, 4)\n",
      "(1, 2, 2, 3, 4, 2)\n",
      "(1, 2, 2, 3, 4, 3)\n",
      "(1, 2, 2, 3, 4, 4)\n",
      "(1, 2, 2, 3, 4, 5)\n",
      "(1, 2, 3, 2, 2, 2)\n",
      "(1, 2, 3, 2, 2, 3)\n",
      "(1, 2, 3, 2, 3, 2)\n",
      "(1, 2, 3, 2, 3, 3)\n",
      "(1, 2, 3, 2, 3, 4)\n",
      "(1, 2, 3, 3, 2, 2)\n",
      "(1, 2, 3, 3, 2, 3)\n",
      "(1, 2, 3, 3, 3, 2)\n",
      "(1, 2, 3, 3, 3, 3)\n",
      "(1, 2, 3, 3, 3, 4)\n",
      "(1, 2, 3, 3, 4, 2)\n",
      "(1, 2, 3, 3, 4, 3)\n",
      "(1, 2, 3, 3, 4, 4)\n",
      "(1, 2, 3, 3, 4, 5)\n",
      "(1, 2, 3, 4, 2, 2)\n",
      "(1, 2, 3, 4, 2, 3)\n",
      "(1, 2, 3, 4, 3, 2)\n",
      "(1, 2, 3, 4, 3, 3)\n",
      "(1, 2, 3, 4, 3, 4)\n",
      "(1, 2, 3, 4, 4, 2)\n",
      "(1, 2, 3, 4, 4, 3)\n",
      "(1, 2, 3, 4, 4, 4)\n",
      "(1, 2, 3, 4, 4, 5)\n",
      "(1, 2, 3, 4, 5, 2)\n",
      "(1, 2, 3, 4, 5, 3)\n",
      "(1, 2, 3, 4, 5, 4)\n",
      "(1, 2, 3, 4, 5, 5)\n",
      "(1, 2, 3, 4, 5, 6)\n"
     ]
    }
   ],
   "source": [
    "from itertools import permutations as perm\n",
    "from collections import deque\n",
    "\n",
    "n = 6\n",
    "r = []\n",
    "for case in perm(range(1, n + 1)):\n",
    "    if case[0] != n:\n",
    "        continue\n",
    "    deq = deque(case)\n",
    "    \n",
    "    b = [0] * n\n",
    "    for i in range(n):\n",
    "        st = set()\n",
    "        max_v = deq[0]\n",
    "        for v in deq:\n",
    "            max_v = max(max_v, v)\n",
    "            st.add(max_v)\n",
    "            \n",
    "        b[i] = len(st)\n",
    "        deq.rotate(1)\n",
    "\n",
    "#     print(case, b)\n",
    "    r.append(tuple(b))\n",
    "\n",
    "nr = set(r)\n",
    "\n",
    "print(len(nr))\n",
    "for tp in r:\n",
    "    if tp not in nr:\n",
    "        continue\n",
    "        \n",
    "    deq = deque(tp)\n",
    "    \n",
    "    for i in range(n - 1):\n",
    "        deq.rotate(1)\n",
    "        if tuple(deq) in nr:\n",
    "            nr.discard(tuple(deq))\n",
    "            \n",
    "nr = sorted(nr)\n",
    "            \n",
    "for v in nr:\n",
    "    print(v)"
   ]
  },
  {
   "cell_type": "code",
   "execution_count": 11,
   "metadata": {},
   "outputs": [
    {
     "name": "stdout",
     "output_type": "stream",
     "text": [
      "(1, 2, 2, 2, 2)\n",
      "(1, 2, 2, 2, 3)\n",
      "(1, 2, 2, 3, 2)\n",
      "(1, 2, 2, 3, 3)\n",
      "(1, 2, 2, 3, 4)\n",
      "(1, 2, 3, 2, 2)\n",
      "(1, 2, 3, 2, 3)\n",
      "(1, 2, 3, 3, 2)\n",
      "(1, 2, 3, 3, 3)\n",
      "(1, 2, 3, 3, 4)\n",
      "(1, 2, 3, 4, 2)\n",
      "(1, 2, 3, 4, 3)\n",
      "(1, 2, 3, 4, 4)\n",
      "(1, 2, 3, 4, 5)\n"
     ]
    }
   ],
   "source": [
    "for v in nr:\n",
    "    print(v)"
   ]
  },
  {
   "cell_type": "code",
   "execution_count": null,
   "metadata": {},
   "outputs": [],
   "source": [
    "1 2 2~3 2~전+1"
   ]
  },
  {
   "cell_type": "code",
   "execution_count": null,
   "metadata": {},
   "outputs": [],
   "source": []
  },
  {
   "cell_type": "code",
   "execution_count": null,
   "metadata": {},
   "outputs": [],
   "source": [
    "6\n",
    "[(2, 2, 1), (3, 1, 2)]\n",
    "2"
   ]
  },
  {
   "cell_type": "code",
   "execution_count": null,
   "metadata": {},
   "outputs": [],
   "source": [
    "n=4\n",
    "20\n",
    "[(2, 2, 2, 1), (3, 1, 2, 2), (3, 2, 1, 2), (3, 3, 1, 2), (4, 1, 2, 3)]\n",
    "5"
   ]
  },
  {
   "cell_type": "code",
   "execution_count": 50,
   "metadata": {},
   "outputs": [
    {
     "name": "stdout",
     "output_type": "stream",
     "text": [
      "[(2, 2, 2, 2, 1), (3, 1, 2, 2, 2), (3, 2, 1, 2, 2), (3, 2, 2, 1, 2), (3, 2, 3, 1, 2), (3, 3, 1, 2, 2), (3, 3, 2, 1, 2), (3, 3, 3, 1, 2), (4, 1, 2, 2, 3), (4, 1, 2, 3, 3), (4, 2, 1, 2, 3), (4, 3, 1, 2, 3), (4, 4, 1, 2, 3), (5, 1, 2, 3, 4)]\n"
     ]
    }
   ],
   "source": [
    "print([(2, 2, 2, 2, 1), (3, 1, 2, 2, 2), (3, 2, 1, 2, 2), (3, 2, 2, 1, 2), (3, 2, 3, 1, 2), (3, 3, 1, 2, 2), (3, 3, 2, 1, 2), (3, 3, 3, 1, 2), (4, 1, 2, 2, 3), (4, 1, 2, 3, 3), (4, 2, 1, 2, 3), (4, 3, 1, 2, 3), (4, 4, 1, 2, 3), (5, 1, 2, 3, 4)])"
   ]
  },
  {
   "cell_type": "code",
   "execution_count": null,
   "metadata": {},
   "outputs": [],
   "source": [
    "1 2 2 2 2\n",
    "1 2 2 2 3\n",
    "1 2 2 3 2\n",
    "1 2 2 3 3\n",
    "1 2 2 3 4\n",
    "1 2 3 2 2\n",
    "1 2 3 2 3\n",
    "1 2 3 3 2\n",
    "1 2 3 3 3\n",
    "1 2 3 3 4\n",
    "1 2 3 4 2\n",
    "1 2 3 4 3\n",
    "1 2 3 4 4\n",
    "1 2 3 4 5"
   ]
  },
  {
   "cell_type": "code",
   "execution_count": 51,
   "metadata": {},
   "outputs": [
    {
     "name": "stdout",
     "output_type": "stream",
     "text": [
      "deque([6, 1, 2, 3, 4, 5])\n",
      "deque([5, 6, 1, 2, 3, 4])\n",
      "deque([4, 5, 6, 1, 2, 3])\n",
      "deque([3, 4, 5, 6, 1, 2])\n",
      "deque([2, 3, 4, 5, 6, 1])\n"
     ]
    }
   ],
   "source": [
    "li = [1, 2, 3, 4, 5 ,6]\n",
    "n = 6\n",
    "deq = deque(li)\n",
    "print(li\n",
    "     )\n",
    "for i in range(n - 1):\n",
    "    deq.rotate(1)\n",
    "    print(deq)"
   ]
  },
  {
   "cell_type": "code",
   "execution_count": null,
   "metadata": {},
   "outputs": [],
   "source": [
    "from collections import deque\n",
    "import sys\n",
    "input = lambda: sys.stdin.readline().rstrip()\n",
    "\n",
    "for _ in range(int(input())):\n",
    "    n = int(input())\n",
    "    deq = deque(map(int, input().split()))\n",
    "\n",
    "    if n == 1:\n",
    "        if deq[0] != 1:\n",
    "            print('NO')\n",
    "        else:\n",
    "            print('YES')\n",
    "    else:\n",
    "        ip = True\n",
    "        for _ in range(n):\n",
    "            if deq[0] == 1:\n",
    "                break\n",
    "            deq.rotate(1)\n",
    "        else:\n",
    "            ip = False\n",
    "\n",
    "        if not ip:\n",
    "            print('NO')\n",
    "        else:\n",
    "            if deq[0] != 1 or deq[1] != 2:\n",
    "                print('NO')\n",
    "            else:\n",
    "                ip = True\n",
    "                for i in range(3, n):\n",
    "                    if not (2 <= deq[i] <= deq[i - 1] + 1):\n",
    "                        ip = False\n",
    "                        break\n",
    "\n",
    "                if ip:\n",
    "                    print('YES')\n",
    "                else:\n",
    "                    print('NO')"
   ]
  },
  {
   "cell_type": "code",
   "execution_count": null,
   "metadata": {},
   "outputs": [],
   "source": [
    "from collections import deque\n",
    "import sys\n",
    "input = lambda: sys.stdin.readline().rstrip()\n",
    "\n",
    "for _ in range(int(input())):\n",
    "    n = int(input())\n",
    "    deq = deque(map(int, input().split()))\n",
    "\n",
    "    if n == 1:\n",
    "        if deq[0] != 1:\n",
    "            print('NO')\n",
    "        else:\n",
    "            print('YES')\n",
    "    else:\n",
    "        ip = True\n",
    "        for _ in range(n):\n",
    "            if deq[0] == 1:\n",
    "                break\n",
    "            deq.rotate(1)\n",
    "        else:\n",
    "            ip = False\n",
    "\n",
    "        if not ip:\n",
    "            print('NO')\n",
    "        else:\n",
    "            if deq[0] != 1 or deq[1] != 2:\n",
    "                print('NO')\n",
    "            else:\n",
    "                ip = True\n",
    "                for i in range(2, n):\n",
    "                    if not (2 <= deq[i] <= deq[i - 1] + 1):\n",
    "                        ip = False\n",
    "                        break\n",
    "\n",
    "                if ip:\n",
    "                    print('YES')\n",
    "                else:\n",
    "                    print('NO')"
   ]
  },
  {
   "cell_type": "code",
   "execution_count": 24,
   "metadata": {},
   "outputs": [
    {
     "name": "stdout",
     "output_type": "stream",
     "text": [
      "4\n",
      "1 1 2 3\n",
      "NO\n"
     ]
    }
   ],
   "source": [
    "n = int(input())\n",
    "deq = deque(map(int, input().split()))\n",
    "\n",
    "if n == 1:\n",
    "    if deq[0] != 1:\n",
    "        print('NO')\n",
    "    else:\n",
    "        print('YES')\n",
    "else:\n",
    "    ip = True\n",
    "    for _ in range(n):\n",
    "        if deq[0] == 1:\n",
    "            break\n",
    "        deq.rotate(1)\n",
    "    else:\n",
    "        ip = False\n",
    "\n",
    "    if not ip:\n",
    "        print('NO')\n",
    "    else:\n",
    "        if deq[0] != 1 or deq[1] != 2:\n",
    "            print('NO')\n",
    "        else:\n",
    "            ip = True\n",
    "            for i in range(2, n):\n",
    "                if not (2 <= deq[i] <= deq[i - 1] + 1):\n",
    "                    ip = False\n",
    "                    break\n",
    "\n",
    "            if ip:\n",
    "                print('YES')\n",
    "            else:\n",
    "                print('NO')"
   ]
  },
  {
   "cell_type": "code",
   "execution_count": null,
   "metadata": {},
   "outputs": [],
   "source": [
    "1, 2, 3, 4, 5, 4"
   ]
  }
 ],
 "metadata": {
  "kernelspec": {
   "display_name": "Python 3",
   "language": "python",
   "name": "python3"
  },
  "language_info": {
   "codemirror_mode": {
    "name": "ipython",
    "version": 3
   },
   "file_extension": ".py",
   "mimetype": "text/x-python",
   "name": "python",
   "nbconvert_exporter": "python",
   "pygments_lexer": "ipython3",
   "version": "3.7.4"
  }
 },
 "nbformat": 4,
 "nbformat_minor": 4
}
