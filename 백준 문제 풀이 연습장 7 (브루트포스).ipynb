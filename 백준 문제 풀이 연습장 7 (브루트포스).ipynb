{
 "cells": [
  {
   "cell_type": "markdown",
   "metadata": {},
   "source": [
    "### 추첨상 사수 대작전! (Easy) 20410"
   ]
  },
  {
   "cell_type": "code",
   "execution_count": 2,
   "metadata": {},
   "outputs": [
    {
     "name": "stdout",
     "output_type": "stream",
     "text": [
      "13 5 2 9\n"
     ]
    }
   ],
   "source": [
    "m, seed, x1, x2 = map(int, input().split())"
   ]
  },
  {
   "cell_type": "code",
   "execution_count": 3,
   "metadata": {},
   "outputs": [
    {
     "data": {
      "text/plain": [
       "13"
      ]
     },
     "execution_count": 3,
     "metadata": {},
     "output_type": "execute_result"
    }
   ],
   "source": [
    "2 = (b + 5) % 13"
   ]
  },
  {
   "cell_type": "code",
   "execution_count": 22,
   "metadata": {},
   "outputs": [
    {
     "name": "stdout",
     "output_type": "stream",
     "text": [
      "13 5 2 9\n",
      "2 5\n"
     ]
    }
   ],
   "source": [
    "m, seed, x1, x2 = map(int, input().split())\n",
    "\n",
    "candidates1 = set()\n",
    "for a in range(0, m):\n",
    "    for c in range(0, m):\n",
    "        if (a * seed + c) % m == x1:\n",
    "            candidates1.add((a, c))\n",
    "\n",
    "candidates2 = set()\n",
    "for a in range(0, m):\n",
    "    for c in range(0, m):\n",
    "        if (a * x1 + c) % m == x2:\n",
    "            candidates2.add((a, c))\n",
    "        \n",
    "candidates = candidates1 & candidates2\n",
    "\n",
    "print(\" \".join(map(str, candidates.pop())))"
   ]
  },
  {
   "cell_type": "markdown",
   "metadata": {},
   "source": [
    "### 기숙사 바닥 2858"
   ]
  },
  {
   "cell_type": "code",
   "execution_count": 38,
   "metadata": {},
   "outputs": [
    {
     "name": "stdout",
     "output_type": "stream",
     "text": [
      "10 2\n",
      "4 3\n"
     ]
    }
   ],
   "source": [
    "r, b = map(int, input().split())\n",
    "for w in range(1, 2502):\n",
    "    for l in range(w, 2502):\n",
    "        if l + l + w + w - 4 == r and (l - 2) * (w - 2) == b:\n",
    "            print(l, w)\n",
    "            break"
   ]
  },
  {
   "cell_type": "markdown",
   "metadata": {},
   "source": [
    "### 찍기 2966"
   ]
  },
  {
   "cell_type": "code",
   "execution_count": 39,
   "metadata": {},
   "outputs": [],
   "source": [
    "from itertools import cycle"
   ]
  },
  {
   "cell_type": "code",
   "execution_count": 40,
   "metadata": {},
   "outputs": [
    {
     "name": "stdout",
     "output_type": "stream",
     "text": [
      "5\n",
      "BAACC\n"
     ]
    }
   ],
   "source": [
    "n = int(input())\n",
    "s = input()"
   ]
  },
  {
   "cell_type": "code",
   "execution_count": 41,
   "metadata": {},
   "outputs": [
    {
     "data": {
      "text/plain": [
       "'A'"
      ]
     },
     "execution_count": 41,
     "metadata": {},
     "output_type": "execute_result"
    }
   ],
   "source": [
    "a = cycle(['A', 'B', 'C'])\n",
    "next(a)"
   ]
  },
  {
   "cell_type": "code",
   "execution_count": 43,
   "metadata": {},
   "outputs": [
    {
     "name": "stdout",
     "output_type": "stream",
     "text": [
      "9\n",
      "AAAABBBBB\n",
      "4\n",
      "Adrian\n",
      "Bruno\n",
      "Goran\n"
     ]
    }
   ],
   "source": [
    "from itertools import cycle\n",
    "\n",
    "n = int(input())\n",
    "s = input()\n",
    "\n",
    "a = cycle(['A', 'B', 'C'])\n",
    "b = cycle(['B', 'A', 'B', 'C'])\n",
    "c = cycle(['C', 'C', 'A', 'A', 'B', 'B'])\n",
    "\n",
    "score_li = [['Adrian', 0], ['Bruno', 0], ['Goran', 0]]\n",
    "for i in range(n):\n",
    "    if next(a) == s[i]:\n",
    "        score_li[0][1] += 1\n",
    "    if next(b) == s[i]:\n",
    "        score_li[1][1] += 1\n",
    "    if next(c) == s[i]:\n",
    "        score_li[2][1] += 1\n",
    "\n",
    "max_score = max(score_li[0][1], score_li[1][1], score_li[2][1])\n",
    "result = [v[0] for v in score_li if v[1] == max_score]\n",
    "result.sort()\n",
    "\n",
    "print(max_score)\n",
    "print(\"\\n\".join(result))"
   ]
  },
  {
   "cell_type": "markdown",
   "metadata": {},
   "source": [
    "### 알람시계 3154"
   ]
  },
  {
   "cell_type": "code",
   "execution_count": 44,
   "metadata": {},
   "outputs": [],
   "source": [
    "coords = {1: (0, 0), 2: (0, 1), 3: (0, 2), 4: (1, 0), 5: (1, 1), 6: (1, 2), 7: (2, 0), 8: (2, 1), 9: (2, 2), 0: (3, 1)}"
   ]
  },
  {
   "cell_type": "code",
   "execution_count": 52,
   "metadata": {},
   "outputs": [],
   "source": [
    "def get_effort(a, b):\n",
    "    x_a, y_a = a\n",
    "    x_b, y_b = b\n",
    "    return abs(x_a - x_b) + abs(y_a - y_b)"
   ]
  },
  {
   "cell_type": "code",
   "execution_count": 57,
   "metadata": {},
   "outputs": [
    {
     "name": "stdout",
     "output_type": "stream",
     "text": [
      "14:19\n",
      "14:79\n"
     ]
    }
   ],
   "source": [
    "s = input()\n",
    "\n",
    "coords = {1: (0, 0), 2: (0, 1), 3: (0, 2), 4: (1, 0), 5: (1, 1), 6: (1, 2), 7: (2, 0), 8: (2, 1), 9: (2, 2), 0: (3, 1)}\n",
    "\n",
    "def get_effort(a, b):\n",
    "    x_a, y_a = a\n",
    "    x_b, y_b = b\n",
    "    return abs(x_a - x_b) + abs(y_a - y_b)\n",
    "\n",
    "h1, h2, _, m1, m2 = s\n",
    "\n",
    "min_effort = float('inf')\n",
    "min_effort_case = (0, 0, 0, 0)\n",
    "\n",
    "for ah1 in range(9, -1, -1):\n",
    "    for ah2 in range(9, -1, -1):\n",
    "        if int(str(ah1) + str(ah2)) % 24 != int(h1 + h2):\n",
    "            continue\n",
    "        for am1 in range(9, -1, -1):\n",
    "            for am2 in range(9, -1, -1):\n",
    "                if int(str(am1) + str(am2)) % 60 != int(m1 + m2):\n",
    "                    continue\n",
    "                total_effort = get_effort(coords[ah1], coords[ah2]) + get_effort(coords[ah2], coords[am1]) + get_effort(coords[am1], coords[am2])\n",
    "                if total_effort <= min_effort:\n",
    "                    if total_effort < min_effort:\n",
    "                        min_effort = total_effort\n",
    "                    min_effort_case = (ah1, ah2, am1, am2)\n",
    "\n",
    "print(f'{min_effort_case[0]}{min_effort_case[1]}:{min_effort_case[2]}{min_effort_case[3]}')"
   ]
  },
  {
   "cell_type": "markdown",
   "metadata": {},
   "source": [
    "### 유레카 이론 10448"
   ]
  },
  {
   "cell_type": "code",
   "execution_count": 64,
   "metadata": {},
   "outputs": [],
   "source": [
    "ts = []\n",
    "num = 1\n",
    "while True:\n",
    "    t = num * (num + 1) // 2\n",
    "    if t < 1000:\n",
    "        ts.append(t)\n",
    "    else:\n",
    "        break\n",
    "    \n",
    "    num += 1"
   ]
  },
  {
   "cell_type": "code",
   "execution_count": 68,
   "metadata": {},
   "outputs": [
    {
     "name": "stdout",
     "output_type": "stream",
     "text": [
      "3\n",
      "10\n",
      "1\n",
      "20\n",
      "0\n",
      "1000\n",
      "1\n"
     ]
    }
   ],
   "source": [
    "ts = []\n",
    "num = 1\n",
    "while True:\n",
    "    t = num * (num + 1) // 2\n",
    "    if t < 1000:\n",
    "        ts.append(t)\n",
    "    else:\n",
    "        break\n",
    "    \n",
    "    num += 1\n",
    "\n",
    "def checker(n):\n",
    "    for a in ts:\n",
    "        for b in ts:\n",
    "            for c in ts:\n",
    "                if a + b + c == n:\n",
    "                    return 1\n",
    "    return 0\n",
    "\n",
    "T = int(input())\n",
    "for _ in range(T):\n",
    "    n = int(input())\n",
    "    print(checker(n))"
   ]
  },
  {
   "cell_type": "markdown",
   "metadata": {},
   "source": [
    "### 거꾸로 구구단 13410"
   ]
  },
  {
   "cell_type": "code",
   "execution_count": 70,
   "metadata": {},
   "outputs": [
    {
     "name": "stdout",
     "output_type": "stream",
     "text": [
      "84\n"
     ]
    }
   ],
   "source": [
    "n, k = map(int, input().split())\n",
    "\n",
    "max_num = 0\n",
    "for i in range(1, k + 1):\n",
    "    temp = int(str(n * i)[::-1])\n",
    "    if max_num < temp:\n",
    "        max_num = temp\n",
    "        \n",
    "print(max_num)"
   ]
  },
  {
   "cell_type": "markdown",
   "metadata": {},
   "source": [
    "### 방 배정하기 14697"
   ]
  },
  {
   "cell_type": "code",
   "execution_count": 7,
   "metadata": {},
   "outputs": [
    {
     "name": "stdout",
     "output_type": "stream",
     "text": [
      "3 6 9 112\n"
     ]
    }
   ],
   "source": [
    "a, b, c, n = map(int, input().split())"
   ]
  },
  {
   "cell_type": "code",
   "execution_count": 8,
   "metadata": {},
   "outputs": [
    {
     "name": "stdout",
     "output_type": "stream",
     "text": [
      "0\n"
     ]
    }
   ],
   "source": [
    "a, b, c, n = map(int, input().split())\n",
    "\n",
    "a_max = n // a\n",
    "b_max = n // b\n",
    "c_max = n // c\n",
    "\n",
    "result = 0\n",
    "for i in range(a_max + 1):\n",
    "    for j in range(b_max + 1):\n",
    "        for k in range(c_max + 1):\n",
    "            if a * i + b * j + c * k == n:\n",
    "                result = 1\n",
    "                break\n",
    "                \n",
    "print(result)"
   ]
  },
  {
   "cell_type": "markdown",
   "metadata": {},
   "source": [
    "### 수학은 비대면강의입니다 19532"
   ]
  },
  {
   "cell_type": "code",
   "execution_count": 10,
   "metadata": {},
   "outputs": [
    {
     "name": "stdout",
     "output_type": "stream",
     "text": [
      "2 5 8 3 -4 -11\n",
      "-1 2\n"
     ]
    }
   ],
   "source": [
    "a, b, c, d, e, f = map(int, input().split())\n",
    "\n",
    "for x in range(-999, 1000):\n",
    "    for y in range(-999, 1000):\n",
    "        if a * x + b * y == c and d * x + e * y == f:\n",
    "            print(x, y)\n",
    "            break"
   ]
  },
  {
   "cell_type": "markdown",
   "metadata": {},
   "source": [
    "### 점프 점프 18512"
   ]
  },
  {
   "cell_type": "code",
   "execution_count": 11,
   "metadata": {},
   "outputs": [
    {
     "name": "stdout",
     "output_type": "stream",
     "text": [
      "10 12 30 8\n"
     ]
    }
   ],
   "source": [
    "x, y, p1, p2 = map(int, input().split())"
   ]
  },
  {
   "cell_type": "code",
   "execution_count": 4,
   "metadata": {},
   "outputs": [
    {
     "name": "stdout",
     "output_type": "stream",
     "text": [
      "7 7 2 1\n",
      "-1\n"
     ]
    }
   ],
   "source": [
    "from collections import defaultdict\n",
    "\n",
    "x, y, p1, p2 = map(int, input().split())\n",
    "\n",
    "if max(x, y) % min(x, y) == 0 and p1 != p2 and (max(p1, p2) - min(p1, p2)) % min(x, y) != 0:\n",
    "    print(-1)\n",
    "else:\n",
    "    diff = defaultdict(int)\n",
    "    current_a = p1\n",
    "    current_b = p2\n",
    "    diff[current_a - current_b] += 1\n",
    "    while True:\n",
    "        if current_a > current_b:\n",
    "            current_b += y\n",
    "        elif current_a < current_b:\n",
    "            current_a += x\n",
    "        else:\n",
    "            print(current_a)\n",
    "            break\n",
    "            \n",
    "        if diff[current_a - current_b] == 1:\n",
    "            print(-1)\n",
    "            break\n",
    "        else:\n",
    "            diff[current_a - current_b] += 1"
   ]
  },
  {
   "cell_type": "markdown",
   "metadata": {},
   "source": [
    "### 번데기 15721"
   ]
  },
  {
   "cell_type": "code",
   "execution_count": 17,
   "metadata": {},
   "outputs": [
    {
     "name": "stdout",
     "output_type": "stream",
     "text": [
      "10\n",
      "1\n",
      "1\n",
      "1\n"
     ]
    }
   ],
   "source": [
    "from itertools import cycle\n",
    "\n",
    "people_num = int(input())\n",
    "t = int(input())\n",
    "target_word = int(input()) # 0: 뻔, 1: 데기\n",
    "\n",
    "people_cycle = cycle(range(people_num))\n",
    "current_person_num = next(people_cycle)\n",
    "\n",
    "count_0 = 0\n",
    "count_1 = 0\n",
    "\n",
    "def make_sentence(x):\n",
    "    sentence = \"0101\" + \"0\" * (x + 1) + \"1\" * (x + 1)\n",
    "    for v in sentence:\n",
    "        yield int(v)\n",
    "\n",
    "current_sentence_num = 1\n",
    "while True:\n",
    "    is_ended = False\n",
    "    for word in make_sentence(current_sentence_num):\n",
    "        if word == 0:\n",
    "            count_0 += 1\n",
    "        else:\n",
    "            count_1 += 1\n",
    "        \n",
    "        if (target_word == 0 and count_0 == t) or (target_word == 1 and count_1 == t):\n",
    "            print(current_person_num)\n",
    "            is_ended = True\n",
    "            break\n",
    "            \n",
    "        current_person_num = next(people_cycle)\n",
    "        \n",
    "    if is_ended:\n",
    "        break\n",
    "        \n",
    "    current_sentence_num += 1"
   ]
  },
  {
   "cell_type": "markdown",
   "metadata": {},
   "source": [
    "### 숫자 게임 2303"
   ]
  },
  {
   "cell_type": "code",
   "execution_count": 18,
   "metadata": {},
   "outputs": [
    {
     "name": "stdout",
     "output_type": "stream",
     "text": [
      "3\n"
     ]
    }
   ],
   "source": [
    "n = int(input())"
   ]
  },
  {
   "cell_type": "code",
   "execution_count": 23,
   "metadata": {},
   "outputs": [
    {
     "name": "stdout",
     "output_type": "stream",
     "text": [
      "7 5 5 4 9\n",
      "1 1 1 1 1\n",
      "2 3 3 2 10\n",
      "1\n"
     ]
    }
   ],
   "source": [
    "from itertools import combinations\n",
    "\n",
    "n = int(input())\n",
    "\n",
    "max_result = 0\n",
    "current_person = 0\n",
    "\n",
    "for i in range(1, n + 1):\n",
    "    tp = tuple(map(int, input().split()))\n",
    "    \n",
    "    c = combinations(tp, 3)\n",
    "    result = max((int(str(sum(v))[-1]) for v in c))\n",
    "    \n",
    "    if result >= max_result:\n",
    "        if result > max_result:\n",
    "            max_result = result\n",
    "        current_person = i\n",
    "        \n",
    "print(current_person)"
   ]
  },
  {
   "cell_type": "markdown",
   "metadata": {},
   "source": [
    "### 숫자 야구 2503"
   ]
  },
  {
   "cell_type": "code",
   "execution_count": 35,
   "metadata": {},
   "outputs": [
    {
     "name": "stdout",
     "output_type": "stream",
     "text": [
      "2\n"
     ]
    }
   ],
   "source": [
    "from itertools import permutations\n",
    "\n",
    "n = int(input())\n",
    "\n",
    "li = []\n",
    "for _ in range(n): \n",
    "    li.append(tuple(map(int, input().split())))\n",
    "\n",
    "def get_strike_and_ball(answer, prediction):\n",
    "    prediction = str(prediction)\n",
    "    strike_count = 0\n",
    "    ball_count = 0\n",
    "    \n",
    "    for i, v in enumerate(prediction):\n",
    "        if answer[i] == v:\n",
    "            strike_count += 1\n",
    "        elif v in answer:\n",
    "            ball_count += 1\n",
    "            \n",
    "    return (strike_count, ball_count)\n",
    "\n",
    "p = permutations(range(1, 10), 3)\n",
    "possible_case_num = 0\n",
    "for answer in p:\n",
    "    answer = \"\".join(map(str, answer))\n",
    "    is_possible = True\n",
    "    for case in li:\n",
    "        if get_strike_and_ball(answer, case[0]) != case[1:]:\n",
    "            is_possible = False\n",
    "            break\n",
    "            \n",
    "    if is_possible:\n",
    "        possible_case_num += 1\n",
    "        \n",
    "print(possible_case_num)"
   ]
  },
  {
   "cell_type": "markdown",
   "metadata": {},
   "source": [
    "### 팰린드롬 8892"
   ]
  },
  {
   "cell_type": "code",
   "execution_count": 37,
   "metadata": {},
   "outputs": [
    {
     "name": "stdout",
     "output_type": "stream",
     "text": [
      "5\n",
      "aaba\n",
      "ba\n",
      "ababa\n",
      "bbaa\n",
      "baaba\n"
     ]
    }
   ],
   "source": [
    "n = int(input())\n",
    "li = []\n",
    "for _ in range(n):\n",
    "    li.append(input())"
   ]
  },
  {
   "cell_type": "code",
   "execution_count": 49,
   "metadata": {},
   "outputs": [
    {
     "name": "stdout",
     "output_type": "stream",
     "text": [
      "2\n",
      "5\n",
      "aaba\n",
      "ba\n",
      "ababa\n",
      "bbaa\n",
      "baaba\n",
      "abababa\n",
      "3\n",
      "abc\n",
      "bcd\n",
      "cde\n",
      "0\n"
     ]
    }
   ],
   "source": [
    "from itertools import permutations\n",
    "\n",
    "T = int(input())\n",
    "for _ in range(T):\n",
    "    n = int(input())\n",
    "    \n",
    "    li = []\n",
    "    for _ in range(n):\n",
    "        li.append(input())\n",
    "    \n",
    "    p = permutations(li, 2)\n",
    "    p = [\"\".join(v) for v in p]\n",
    "\n",
    "    def check(s):\n",
    "        if len(s) % 2 == 1:\n",
    "            s_li = list(s)\n",
    "            del s_li[len(s) // 2]\n",
    "            s = \"\".join(s_li)\n",
    "\n",
    "        if s[:len(s) // 2] == s[len(s) // 2:][::-1]:\n",
    "            return s\n",
    "        else:\n",
    "            return False\n",
    "\n",
    "    for s in p:\n",
    "        if check(s):\n",
    "            print(s)\n",
    "            break\n",
    "    else:\n",
    "        print(0)"
   ]
  },
  {
   "cell_type": "markdown",
   "metadata": {},
   "source": [
    "### 화살표 그리기 15970"
   ]
  },
  {
   "cell_type": "code",
   "execution_count": 54,
   "metadata": {},
   "outputs": [
    {
     "name": "stdout",
     "output_type": "stream",
     "text": [
      "5\n",
      "0 1\n",
      "1 2\n",
      "3 1\n",
      "4 2\n",
      "5 1\n"
     ]
    }
   ],
   "source": [
    "n = int(input())\n",
    "\n",
    "li = []\n",
    "for _ in range(n):\n",
    "    li.append(tuple(map(int, input().split())))"
   ]
  },
  {
   "cell_type": "code",
   "execution_count": 53,
   "metadata": {},
   "outputs": [
    {
     "data": {
      "text/plain": [
       "[3, 5]"
      ]
     },
     "execution_count": 53,
     "metadata": {},
     "output_type": "execute_result"
    }
   ],
   "source": [
    "li"
   ]
  },
  {
   "cell_type": "code",
   "execution_count": 55,
   "metadata": {},
   "outputs": [
    {
     "name": "stdout",
     "output_type": "stream",
     "text": [
      "13\n"
     ]
    }
   ],
   "source": [
    "n = int(input())\n",
    "\n",
    "li = []\n",
    "for _ in range(n):\n",
    "    li.append(tuple(map(int, input().split())))\n",
    "\n",
    "total = 0\n",
    "for i in range(n):\n",
    "    coord, color = li[i]\n",
    "    total += min((abs(coord - v[0]) for v in li if v[0] != coord and v[1] == color))\n",
    "    \n",
    "print(total)"
   ]
  },
  {
   "cell_type": "code",
   "execution_count": 61,
   "metadata": {},
   "outputs": [
    {
     "name": "stdout",
     "output_type": "stream",
     "text": [
      "5\n",
      "0 1\n",
      "1 2\n",
      "3 1\n",
      "4 2\n",
      "5 1\n",
      "13\n"
     ]
    }
   ],
   "source": [
    "# 숏코딩\n",
    "n=int(input());l=[list(map(int,input().split()))for _ in range(n)];t=0\n",
    "for i in range(n):t+=min((abs(l[i][0]-v[0])for v in l if v[0]!=l[i][0]and v[1]==l[i][1]))\n",
    "print(t)"
   ]
  },
  {
   "cell_type": "markdown",
   "metadata": {},
   "source": [
    "### 오목 2615"
   ]
  },
  {
   "cell_type": "code",
   "execution_count": 54,
   "metadata": {},
   "outputs": [
    {
     "name": "stdout",
     "output_type": "stream",
     "text": [
      "0\n"
     ]
    }
   ],
   "source": [
    "li = []\n",
    "for _ in range(19):\n",
    "    li.append(tuple(map(int, input().split())))\n",
    "\n",
    "result = 0\n",
    "result_coord = (0, 0)\n",
    "for j in range(19):\n",
    "    for i in range(19):\n",
    "        is_ended = False\n",
    "        \n",
    "        # 가로줄의 경우\n",
    "        try:\n",
    "            temp = li[i][j:j + 5]\n",
    "            if len(temp) == 5:\n",
    "                temp = set(temp)\n",
    "                if len(temp) == 1:\n",
    "                    value = temp.pop()\n",
    "                    if value != 0:\n",
    "                        is_ended = True\n",
    "        except:\n",
    "            pass\n",
    "        else:\n",
    "            if is_ended:    \n",
    "                try:\n",
    "                    if li[i][j + 5] == value:\n",
    "                        is_ended = False\n",
    "                except:\n",
    "                    pass\n",
    "                \n",
    "                try:\n",
    "                    if li[i][j - 1] == value:\n",
    "                        is_ended = False\n",
    "                except:\n",
    "                    pass\n",
    "                \n",
    "        if is_ended:\n",
    "            result_coord = (i, j)\n",
    "            result = value\n",
    "            break\n",
    "            \n",
    "        # 세로줄의 경우\n",
    "        try:\n",
    "            temp = set()\n",
    "            for k in range(5):\n",
    "                temp.add(li[i + k][j])\n",
    "            if len(temp) == 1:\n",
    "                value = temp.pop()\n",
    "                if value != 0:\n",
    "                    is_ended = True\n",
    "        except:\n",
    "            pass\n",
    "        else:\n",
    "            if is_ended:\n",
    "                try:\n",
    "                    if li[i + 5][j] == value:\n",
    "                        is_ended = False\n",
    "                except:\n",
    "                    pass\n",
    "                \n",
    "                try:\n",
    "                    if li[i - 1][j] == value:\n",
    "                        is_ended = False\n",
    "                except:\n",
    "                    pass            \n",
    "\n",
    "        if is_ended:\n",
    "            result_coord = (i, j)\n",
    "            result = value\n",
    "            break\n",
    "            \n",
    "        # 왼쪽 대각선의 경우\n",
    "        try:\n",
    "            temp = set()\n",
    "            for k in range(5):\n",
    "                temp.add(li[i + k][j + k])\n",
    "            if len(temp) == 1:\n",
    "                value = temp.pop()\n",
    "                if value != 0:\n",
    "                    is_ended = True\n",
    "        except:\n",
    "            pass\n",
    "        else:\n",
    "            if is_ended:\n",
    "                try:\n",
    "                    if li[i + 5][j + 5] == value:\n",
    "                        is_ended = False\n",
    "                except:\n",
    "                    pass\n",
    "\n",
    "                try:\n",
    "                    if li[i - 1][j - 1] == value:\n",
    "                        is_ended = False\n",
    "                except:\n",
    "                    pass\n",
    " \n",
    "        if is_ended:\n",
    "            result_coord = (i, j)\n",
    "            result = value\n",
    "            break\n",
    "        # 오른쪽 대각선의 경우\n",
    "        try:\n",
    "            temp = set()wa\n",
    "            for k in range(5):\n",
    "                temp.add(li[i - k][j + k])\n",
    "            if len(temp) == 1:\n",
    "                value = temp.pop()\n",
    "                if value != 0:\n",
    "                    is_ended = True\n",
    "        except:\n",
    "            pass\n",
    "        else:\n",
    "            if is_ended:\n",
    "                try:\n",
    "                    if li[i - 5][j + 5] == value:\n",
    "                        is_ended = False\n",
    "                except:\n",
    "                    pass\n",
    "\n",
    "                try:\n",
    "                    if li[i + 1][j - 1] == value:\n",
    "                        is_ended = False\n",
    "                except:\n",
    "                    pass\n",
    "        \n",
    "        if is_ended:\n",
    "            result_coord = (i, j)\n",
    "            result = value\n",
    "            break\n",
    "    if is_ended:\n",
    "        break\n",
    "             \n",
    "if result == 0:\n",
    "    print(0)\n",
    "else:\n",
    "    print(result)\n",
    "    print(result_coord[0] + 1, result_coord[1] + 1)"
   ]
  },
  {
   "cell_type": "markdown",
   "metadata": {},
   "source": [
    "### 리모컨 1107"
   ]
  },
  {
   "cell_type": "code",
   "execution_count": 44,
   "metadata": {},
   "outputs": [
    {
     "name": "stdout",
     "output_type": "stream",
     "text": [
      "500000\n",
      "8\n",
      "0 2 3 4 6 7 8 9\n",
      "11117\n"
     ]
    }
   ],
   "source": [
    "from collections import deque\n",
    "\n",
    "n = int(input())\n",
    "broken_count = int(input())\n",
    "if broken_count >= 1:\n",
    "    broken = list(map(int, input().split()))\n",
    "else:\n",
    "    broken = []\n",
    "    \n",
    "possible_nums = list(range(10))\n",
    "for v in broken:\n",
    "    possible_nums.remove(v)\n",
    "        \n",
    "min_result = abs(n - 100)\n",
    "        \n",
    "n = str(n)\n",
    "queue = deque()\n",
    "queue.extend([('', 0, False)]) # (value, count, is_minus_or_plus_start)\n",
    "\n",
    "result = float('inf')\n",
    "visited = [False] * 1000000\n",
    "while queue:\n",
    "    value, count, is_minus_or_plus_start = queue.popleft()\n",
    "    \n",
    "    if value == n:\n",
    "        result = count\n",
    "        break\n",
    "\n",
    "    if len(value) <= len(n):\n",
    "        if value:\n",
    "            if int(value) < int(n):\n",
    "                if not visited[int(value) + 1]:\n",
    "                    visited[int(value) + 1] = True\n",
    "                    queue.append((str(int(value) + 1), count + 1, True))\n",
    "\n",
    "    if len(value) >= len(n):\n",
    "        if int(value) > int(n):\n",
    "            if not visited[int(value) - 1]:\n",
    "                visited[int(value) - 1] = True\n",
    "                queue.append((str(int(value) - 1), count + 1, True))\n",
    "\n",
    "    if not is_minus_or_plus_start:\n",
    "        if len(value) <= len(n) and len(value) != 6:\n",
    "            for i in possible_nums:\n",
    "                if value == '0':\n",
    "                    continue\n",
    "                    \n",
    "                new_value = value + str(i)\n",
    "                if not visited[int(new_value)]:\n",
    "                    visited[int(new_value)] = True\n",
    "                    queue.append((new_value, count + 1, False))\n",
    "\n",
    "if result < min_result:\n",
    "    min_result = result\n",
    "\n",
    "print(min_result)"
   ]
  },
  {
   "cell_type": "markdown",
   "metadata": {},
   "source": [
    "### 테트로미노 14500"
   ]
  },
  {
   "cell_type": "code",
   "execution_count": 6,
   "metadata": {},
   "outputs": [
    {
     "name": "stdout",
     "output_type": "stream",
     "text": [
      "4 5\n",
      "1 2 3 4 5\n",
      "1 2 3 4 5\n",
      "1 2 3 4 5\n",
      "1 2 3 4 5\n",
      "20\n"
     ]
    }
   ],
   "source": [
    "n, m = map(int, input().split())\n",
    "li = [tuple(map(int, input().split())) for _ in range(n)]\n",
    "\n",
    "max_score = 0\n",
    "for i in range(n - 2):\n",
    "    for j in range(m - 1):\n",
    "        max_score = max(max_score, li[i][j] + li[i + 1][j] + li[i + 2][j] + li[i + 2][j + 1])\n",
    "        max_score = max(max_score, li[i + 2][j] + li[i][j + 1] + li[i + 1][j + 1] + li[i + 2][j + 1])\n",
    "        max_score = max(max_score, li[i][j] + li[i + 1][j] + li[i + 1][j + 1] + li[i + 2][j + 1])\n",
    "        max_score = max(max_score, li[i + 1][j] + li[i + 2][j] + li[i][j + 1] + li[i + 1][j + 1])\n",
    "        max_score = max(max_score, li[i][j] + li[i][j + 1] + li[i + 1][j + 1] + li[i + 2][j + 1])\n",
    "        max_score = max(max_score, li[i][j] + li[i + 1][j] + li[i + 2][j] + li[i][j + 1])\n",
    "        max_score = max(max_score, li[i + 1][j] + li[i][j + 1] + li[i + 1][j + 1] + li[i + 2][j + 1])\n",
    "        max_score = max(max_score, li[i][j] + li[i + 1][j] + li[i + 2][j] + li[i + 1][j + 1])\n",
    "        \n",
    "for i in range(n - 1):\n",
    "    for j in range(m - 2):\n",
    "        max_score = max(max_score, li[i][j] + li[i + 1][j] + li[i][j + 1] + li[i][j + 2])\n",
    "        max_score = max(max_score, li[i][j] + li[i + 1][j] + li[i + 1][j + 1] + li[i + 1][j + 2])\n",
    "        max_score = max(max_score, li[i + 1][j] + li[i][j + 1] + li[i + 1][j + 1] + li[i][j + 2])\n",
    "        max_score = max(max_score, li[i][j] + li[i][j + 1] + li[i + 1][j + 1] + li[i + 1][j + 2])\n",
    "        max_score = max(max_score, li[i][j] + li[i][j + 1] + li[i + 1][j + 1] + li[i][j + 2])\n",
    "        max_score = max(max_score, li[i + 1][j] + li[i][j + 1] + li[i + 1][j + 1] + li[i + 1][j + 2])\n",
    "        max_score = max(max_score, li[i + 1][j] + li[i + 1][j + 1] + li[i][j + 2] + li[i + 1][j + 2]) \n",
    "        max_score = max(max_score, li[i][j] + li[i][j + 1] + li[i][j + 2] + li[i + 1][j + 2])\n",
    "        \n",
    "for i in range(n - 1):\n",
    "    for j in range(m - 1):\n",
    "        max_score = max(max_score, li[i][j] + li[i + 1][j] + li[i][j + 1] + li[i + 1][j + 1])\n",
    "        \n",
    "for i in range(n):\n",
    "    for j in range(m - 3):\n",
    "        max_score = max(max_score, li[i][j] + li[i][j + 1] + li[i][j + 2] + li[i][j + 3])\n",
    "        \n",
    "for i in range(n - 3):\n",
    "    for j in range(m):\n",
    "        max_score = max(max_score, li[i][j] + li[i + 1][j] + li[i + 2][j] + li[i + 3][j])\n",
    "        \n",
    "print(max_score)"
   ]
  },
  {
   "cell_type": "markdown",
   "metadata": {},
   "source": [
    "### 큰 수 구성하기 18511"
   ]
  },
  {
   "cell_type": "code",
   "execution_count": null,
   "metadata": {},
   "outputs": [],
   "source": [
    "# 맞았음\n",
    "n, k = map(int, input().split())\n",
    "li = input().split()\n",
    "li.sort(reverse=True)\n",
    "\n",
    "sn = str(n)\n",
    "sn_len = len(str(n))\n",
    "\n",
    "# n보다 하나 낮은 자릿수가 정답인 경우\n",
    "if ''.join(li[-1] * sn_len) > sn:\n",
    "    result = max(li) * (sn_len - 1)\n",
    "    result = ''.join(result)\n",
    "    \n",
    "    print(result)\n",
    "# n과 같은 자릿수가 정답인 경우\n",
    "else:\n",
    "    li_indices = [0] * sn_len\n",
    "    location = 0\n",
    "    while location < sn_len:\n",
    "        if sn[location] < li[li_indices[location]]:\n",
    "            if li_indices[location] == k - 1:\n",
    "                location -= 1\n",
    "                li_indices[location] += 1\n",
    "                continue\n",
    "            li_indices[location] += 1\n",
    "        elif sn[location] == li[li_indices[location]]:\n",
    "            location += 1\n",
    "        else:\n",
    "            for i in range(location + 1, k):\n",
    "                li_indices[i] = 0\n",
    "            break\n",
    "        \n",
    "    result = ''\n",
    "    for index in li_indices:\n",
    "        result += li[index]\n",
    "        \n",
    "    print(result)"
   ]
  },
  {
   "cell_type": "code",
   "execution_count": 22,
   "metadata": {},
   "outputs": [
    {
     "name": "stdout",
     "output_type": "stream",
     "text": [
      "6722 3\n",
      "6 7 3\n",
      "6677\n"
     ]
    }
   ],
   "source": [
    "# 맞았음\n",
    "n, k = map(int, input().split())\n",
    "li = input().split()\n",
    "li.sort(reverse=True)\n",
    "\n",
    "sn_len = len(str(n))\n",
    "\n",
    "result = 0\n",
    "def recur(current):\n",
    "    global result\n",
    "\n",
    "    if len(current) >= sn_len - 1 and current:\n",
    "        icurrent = int(current)\n",
    "        if icurrent <= n:\n",
    "            result = max(result, icurrent)\n",
    "    if len(current) == sn_len:\n",
    "        return\n",
    "    \n",
    "    for value in li:\n",
    "        ncurrent = current + value\n",
    "        recur(ncurrent)\n",
    "    \n",
    "recur('')\n",
    "print(result)"
   ]
  },
  {
   "cell_type": "markdown",
   "metadata": {},
   "source": [
    "### 회문인 수\n",
    "- 수학"
   ]
  },
  {
   "cell_type": "code",
   "execution_count": 53,
   "metadata": {},
   "outputs": [
    {
     "name": "stdout",
     "output_type": "stream",
     "text": [
      "10\n",
      "444\n",
      "1\n",
      "466\n",
      "0\n",
      "347\n",
      "0\n",
      "236\n",
      "1\n",
      "356\n",
      "0\n",
      "356\n",
      "0\n",
      "256\n",
      "1\n",
      "123\n",
      "1\n",
      "145\n",
      "1\n",
      "531\n",
      "1\n"
     ]
    }
   ],
   "source": [
    "from collections import deque\n",
    "\n",
    "def check(cand):\n",
    "    while len(cand) >= 2:\n",
    "        if cand[0] == cand[-1]:\n",
    "            cand.popleft()\n",
    "            cand.pop()\n",
    "        else:\n",
    "            break\n",
    "    return True if len(cand) <= 1 else False\n",
    "\n",
    "for _ in range(int(input())):\n",
    "    o_n = int(input())\n",
    "    for i in range(2, 65):\n",
    "        n = o_n\n",
    "        cand = deque()\n",
    "        while True:\n",
    "            cand.append(n % i)\n",
    "            n -= n % i\n",
    "            if n == 0:\n",
    "                break\n",
    "            n //= i\n",
    "\n",
    "        if check(cand):\n",
    "            print(1)\n",
    "            break\n",
    "    else:\n",
    "        print(0)"
   ]
  },
  {
   "cell_type": "markdown",
   "metadata": {},
   "source": [
    "### 틱택토 이기기 9290"
   ]
  },
  {
   "cell_type": "code",
   "execution_count": 54,
   "metadata": {},
   "outputs": [
    {
     "data": {
      "text/plain": [
       "['-', 'x']"
      ]
     },
     "execution_count": 54,
     "metadata": {},
     "output_type": "execute_result"
    }
   ],
   "source": [
    "sorted('x-')"
   ]
  },
  {
   "cell_type": "code",
   "execution_count": 55,
   "metadata": {},
   "outputs": [
    {
     "name": "stdout",
     "output_type": "stream",
     "text": [
      "3\n",
      "o--\n",
      "-o-\n",
      "xx-\n",
      "x\n",
      "o--\n",
      "-o-\n",
      "xxx\n",
      "o-x\n",
      "--o\n",
      "x--\n",
      "x\n",
      "o-x\n",
      "-xo\n",
      "x--\n",
      "xx-\n",
      "o-o\n",
      "---\n",
      "o\n",
      "xx-\n",
      "ooo\n",
      "---\n"
     ]
    }
   ],
   "source": [
    "def get_coord(piece): \n",
    "    for i in range(3):\n",
    "        if sorted(li[i]) == ['-', piece, piece]:\n",
    "            return i, li[i].index('-')\n",
    "        \n",
    "    for j in range(3):\n",
    "        temp = []\n",
    "        for i in range(3):\n",
    "            temp.append(li[i][j])\n",
    "        if sorted(temp) == ['-', piece, piece]:\n",
    "            return temp.index('-'), j\n",
    "      \n",
    "    temp = [li[0][0], li[1][1], li[2][2]]\n",
    "    if sorted(temp) == ['-', piece, piece]:\n",
    "        return temp.index('-'), temp.index('-')\n",
    "    \n",
    "    temp = [li[0][2], li[1][1], li[2][0]]\n",
    "    if sorted(temp) == ['-', piece, piece]:\n",
    "        return temp.index('-'), 2 - temp.index('-')\n",
    "            \n",
    "for t in range(int(input())):\n",
    "    print(f'Case {t + 1}:')\n",
    "    li = [list(input()) for _ in range(3)]\n",
    "    piece = input()\n",
    "    x, y = get_coord(piece)\n",
    "    li[x][y] = piece\n",
    "    \n",
    "    for v in li:\n",
    "        print(''.join(v))"
   ]
  },
  {
   "cell_type": "markdown",
   "metadata": {},
   "source": [
    "### 사과와 바나나 나눠주기 14914\n",
    "- 수학, 정수론"
   ]
  },
  {
   "cell_type": "code",
   "execution_count": 59,
   "metadata": {},
   "outputs": [
    {
     "name": "stdout",
     "output_type": "stream",
     "text": [
      "1 1\n",
      "1 1 1\n"
     ]
    }
   ],
   "source": [
    "a, b = map(int, input().split())\n",
    "\n",
    "for i in range(1, min(a, b) + 1):\n",
    "    if a % i == 0 and b % i == 0:\n",
    "        print(i, a // i, b // i)"
   ]
  },
  {
   "cell_type": "code",
   "execution_count": 79,
   "metadata": {},
   "outputs": [
    {
     "name": "stdout",
     "output_type": "stream",
     "text": [
      "50000\n",
      "[1, 4, 9, 16, 25, 36, 49, 64, 81, 100, 121, 144, 169, 196, 225, 256, 289, 324, 361, 400, 441, 484, 529, 576, 625, 676, 729, 784, 841, 900, 961, 1024, 1089, 1156, 1225, 1296, 1369, 1444, 1521, 1600, 1681, 1764, 1849, 1936, 2025, 2116, 2209, 2304, 2401, 2500, 2601, 2704, 2809, 2916, 3025, 3136, 3249, 3364, 3481, 3600, 3721, 3844, 3969, 4096, 4225, 4356, 4489, 4624, 4761, 4900, 5041, 5184, 5329, 5476, 5625, 5776, 5929, 6084, 6241, 6400, 6561, 6724, 6889, 7056, 7225, 7396, 7569, 7744, 7921, 8100, 8281, 8464, 8649, 8836, 9025, 9216, 9409, 9604, 9801, 10000, 10201, 10404, 10609, 10816, 11025, 11236, 11449, 11664, 11881, 12100, 12321, 12544, 12769, 12996, 13225, 13456, 13689, 13924, 14161, 14400, 14641, 14884, 15129, 15376, 15625, 15876, 16129, 16384, 16641, 16900, 17161, 17424, 17689, 17956, 18225, 18496, 18769, 19044, 19321, 19600, 19881, 20164, 20449, 20736, 21025, 21316, 21609, 21904, 22201, 22500, 22801, 23104, 23409, 23716, 24025, 24336, 24649, 24964, 25281, 25600, 25921, 26244, 26569, 26896, 27225, 27556, 27889, 28224, 28561, 28900, 29241, 29584, 29929, 30276, 30625, 30976, 31329, 31684, 32041, 32400, 32761, 33124, 33489, 33856, 34225, 34596, 34969, 35344, 35721, 36100, 36481, 36864, 37249, 37636, 38025, 38416, 38809, 39204, 39601, 40000, 40401, 40804, 41209, 41616, 42025, 42436, 42849, 43264, 43681, 44100, 44521, 44944, 45369, 45796, 46225, 46656, 47089, 47524, 47961, 48400, 48841, 49284, 49729]\n"
     ]
    }
   ],
   "source": [
    "n = int(input())\n",
    "\n",
    "squares = []\n",
    "current = 1\n",
    "while True:\n",
    "    if current ** 2 <= n:\n",
    "        squares.append(current ** 2)\n",
    "        current += 1\n",
    "    else:\n",
    "        break\n",
    "        \n",
    "print(squares)"
   ]
  },
  {
   "cell_type": "code",
   "execution_count": 80,
   "metadata": {},
   "outputs": [
    {
     "data": {
      "text/plain": [
       "223"
      ]
     },
     "execution_count": 80,
     "metadata": {},
     "output_type": "execute_result"
    }
   ],
   "source": [
    "len(squares)"
   ]
  },
  {
   "cell_type": "markdown",
   "metadata": {},
   "source": [
    "### Four Squares 17626\n",
    "- 다이나믹 프로그래밍"
   ]
  },
  {
   "cell_type": "code",
   "execution_count": 89,
   "metadata": {},
   "outputs": [
    {
     "name": "stdout",
     "output_type": "stream",
     "text": [
      "50000\n",
      "2\n"
     ]
    }
   ],
   "source": [
    "n = int(input())\n",
    "\n",
    "squares = []\n",
    "current = 1\n",
    "while True:\n",
    "    if current ** 2 <= n:\n",
    "        squares.append(current ** 2)\n",
    "        current += 1\n",
    "    else:\n",
    "        break\n",
    "        \n",
    "dp = [50000] * (n + 1)\n",
    "dp[0] = 0\n",
    "\n",
    "for square in squares:\n",
    "    for i in range(n - square + 1):\n",
    "        if dp[i] + 1 < dp[i + square]:\n",
    "            dp[i + square] = dp[i] + 1\n",
    "            \n",
    "print(dp[-1])"
   ]
  },
  {
   "cell_type": "markdown",
   "metadata": {},
   "source": [
    "모든 자연수는 넷 혹은 그 이하의 제곱수의 합으로 표현할 수 있다는 것을 이용"
   ]
  },
  {
   "cell_type": "code",
   "execution_count": 93,
   "metadata": {
    "scrolled": true
   },
   "outputs": [
    {
     "name": "stdout",
     "output_type": "stream",
     "text": [
      "34567\n",
      "4\n"
     ]
    }
   ],
   "source": [
    "n = int(input())\n",
    "\n",
    "squares = []\n",
    "current = 1\n",
    "while True:\n",
    "    if current ** 2 <= n:\n",
    "        squares.append(current ** 2)\n",
    "        current += 1\n",
    "    else:\n",
    "        break\n",
    "        \n",
    "dp = [4] * (n + 1)\n",
    "dp[0] = 0\n",
    "\n",
    "for square in squares:\n",
    "    for i in range(n - square + 1):\n",
    "        if dp[i] + 1 < dp[i + square]:\n",
    "            dp[i + square] = dp[i] + 1\n",
    "            \n",
    "print(dp[-1])"
   ]
  },
  {
   "cell_type": "markdown",
   "metadata": {},
   "source": [
    "### 데이터 스트림의 섬 10432, Islands in the Data Stream 9468"
   ]
  },
  {
   "cell_type": "code",
   "execution_count": 109,
   "metadata": {},
   "outputs": [
    {
     "name": "stdout",
     "output_type": "stream",
     "text": [
      "1\n",
      "1 0 0 1 1 2 2 1 1 0 1 2 0\n",
      "1 4\n"
     ]
    }
   ],
   "source": [
    "for _ in range(int(input())):\n",
    "    li = list(map(int, input().split()))\n",
    "    stack = [0]\n",
    "    count = 0\n",
    "    for value in li[2:]:\n",
    "        current_island_height = float('inf')\n",
    "        while True:\n",
    "            if value < stack[-1]:\n",
    "                island_height = stack.pop()\n",
    "                if island_height < current_island_height:\n",
    "                    count += 1\n",
    "                    current_island_height = island_height\n",
    "            else:\n",
    "                break\n",
    "        stack.append(value)\n",
    "\n",
    "    print(li[0], count)"
   ]
  },
  {
   "cell_type": "markdown",
   "metadata": {},
   "source": [
    "### 행운의 티켓 1639\n",
    "- 누적 합"
   ]
  },
  {
   "cell_type": "code",
   "execution_count": 130,
   "metadata": {},
   "outputs": [
    {
     "name": "stdout",
     "output_type": "stream",
     "text": [
      "74233285\n",
      "4\n"
     ]
    }
   ],
   "source": [
    "def check(start, end):\n",
    "    mid = (start + end) // 2\n",
    "    left = n[start:mid + 1]\n",
    "    right = n[mid + 1:end + 1]\n",
    "    if sum(map(int, left)) == sum(map(int, right)):\n",
    "        return True\n",
    "    return False\n",
    "\n",
    "def solve():\n",
    "    for length in range(init, 1, -2):\n",
    "        start = 0\n",
    "        while True:\n",
    "            if start + length <= n_len:\n",
    "                if check(start, start + length - 1):\n",
    "                    return length\n",
    "                start += 1\n",
    "            else:\n",
    "                break\n",
    "    return 0\n",
    "\n",
    "n = input()\n",
    "n_len = len(n)\n",
    "if n_len % 2 == 1:\n",
    "    init = n_len - 1\n",
    "else:\n",
    "    init = n_len\n",
    "    \n",
    "print(solve())"
   ]
  },
  {
   "cell_type": "markdown",
   "metadata": {},
   "source": [
    "### 세 수 고르기 1503"
   ]
  },
  {
   "cell_type": "code",
   "execution_count": 131,
   "metadata": {},
   "outputs": [
    {
     "data": {
      "text/plain": [
       "1000000000"
      ]
     },
     "execution_count": 131,
     "metadata": {},
     "output_type": "execute_result"
    }
   ],
   "source": [
    "x, y, z\n",
    "\n",
    "초기에 x, y, z를 가능한 최솟값으로 설정함\n",
    "\n",
    "z 계속 높여나감(불가능한 값은 패스)\n",
    "절댓값에서 손해보기 시작하면 종료\n",
    "\n",
    "y 계속 높여나감"
   ]
  },
  {
   "cell_type": "code",
   "execution_count": 150,
   "metadata": {},
   "outputs": [
    {
     "name": "stdout",
     "output_type": "stream",
     "text": [
      "10 3\n",
      "1 2 3\n",
      "4 4 4\n",
      "4 4 5\n",
      "4 5 4\n",
      "5 4 5\n",
      "54\n"
     ]
    }
   ],
   "source": [
    "# 틀렸음, y가 더 올라갈 기회를 주지 못하는 경우가 생김\n",
    "\n",
    "n, m = map(int, input().split())\n",
    "if m > 0:\n",
    "    st = set(map(int, input().split()))\n",
    "else:\n",
    "    st = set()\n",
    "\n",
    "start = 0\n",
    "for i in range(1, 51):\n",
    "    if i not in st:\n",
    "        start = i\n",
    "        break\n",
    "    \n",
    "min_result = float('inf')\n",
    "x = y = z = start\n",
    "count1 = count2 = 0\n",
    "while True:\n",
    "    count1 = 0\n",
    "    while True:\n",
    "        count2 = 0\n",
    "        while True:\n",
    "            print(x, y, z)\n",
    "            value = abs(n - x * y * z)\n",
    "            if value < min_result:\n",
    "                min_result = value\n",
    "            else:\n",
    "                z = y\n",
    "                break\n",
    "            while True:\n",
    "                z += 1\n",
    "                if z in st:\n",
    "                    continue\n",
    "                else:\n",
    "                    break\n",
    "            count2 += 1\n",
    "        if count2 == 0:\n",
    "            y = x\n",
    "            break\n",
    "        while True:\n",
    "            y += 1\n",
    "            if y in st:\n",
    "                continue\n",
    "            else:\n",
    "                break\n",
    "        count1 += 1\n",
    "    if count1 == 0:\n",
    "        break\n",
    "    while True:\n",
    "        x += 1\n",
    "        if x in st:\n",
    "            continue\n",
    "        else:\n",
    "            break\n",
    "        \n",
    "print(min_result)"
   ]
  },
  {
   "cell_type": "code",
   "execution_count": 175,
   "metadata": {},
   "outputs": [
    {
     "name": "stdout",
     "output_type": "stream",
     "text": [
      "10 2\n",
      "1 2\n",
      "17\n"
     ]
    }
   ],
   "source": [
    "# 맞았음, for문을 어디까지 돌려야 하는지가 불명확함\n",
    "n, m = map(int, input().split())\n",
    "if m > 0:\n",
    "    st = set(map(int, input().split()))\n",
    "else:\n",
    "    st = set()\n",
    "        \n",
    "max_possible = 132651\n",
    "min_result = float('inf')\n",
    "\n",
    "for x in range(1, 1002):\n",
    "    if x in st:\n",
    "        continue\n",
    "    \n",
    "    for y in range(x, 1002):\n",
    "        if y in st:\n",
    "            continue\n",
    "        \n",
    "        for z in range(y, 1002):\n",
    "            if z in st:\n",
    "                continue\n",
    "                \n",
    "            value = abs(n - x * y * z)\n",
    "            if value > max_possible:\n",
    "                break\n",
    "            if value < min_result:\n",
    "                min_result = value\n",
    "                \n",
    "print(min_result)"
   ]
  },
  {
   "cell_type": "markdown",
   "metadata": {},
   "source": [
    "### 한동이는 공부가 하기 싫어! 3182\n",
    "- 그래프 이론, 그래프 탐색"
   ]
  },
  {
   "cell_type": "code",
   "execution_count": 188,
   "metadata": {},
   "outputs": [
    {
     "name": "stdout",
     "output_type": "stream",
     "text": [
      "2\n",
      "2\n",
      "1\n",
      "1\n"
     ]
    }
   ],
   "source": [
    "from collections import deque\n",
    "\n",
    "n = int(input())\n",
    "\n",
    "li = [[] for _ in range(n)]\n",
    "for i in range(n):\n",
    "    value = int(input())\n",
    "    value -= 1\n",
    "    \n",
    "    li[i].append(value)\n",
    "    \n",
    "max_visited_count = 0\n",
    "result = 0\n",
    "for start in range(n - 1, -1, -1):\n",
    "    queue = deque()\n",
    "    queue.append(start)\n",
    "    \n",
    "    visited = [False] * n\n",
    "    visited[start] = True\n",
    "    visited_count = 1\n",
    "    while queue:\n",
    "        value = queue.popleft()\n",
    "        \n",
    "        for v in li[value]:\n",
    "            if visited[v]:\n",
    "                continue\n",
    "            visited[v] = True\n",
    "            visited_count += 1\n",
    "            queue.append(v)\n",
    "            \n",
    "    if visited_count >= max_visited_count:\n",
    "        max_visited_count = visited_count\n",
    "        result = start + 1\n",
    "        \n",
    "print(result)"
   ]
  },
  {
   "cell_type": "markdown",
   "metadata": {},
   "source": [
    "### 1 4375\n",
    "- 수학, 정수론"
   ]
  },
  {
   "cell_type": "code",
   "execution_count": null,
   "metadata": {},
   "outputs": [],
   "source": [
    "# 맞았음\n",
    "while True:\n",
    "    try:\n",
    "        n = int(input())\n",
    "        current = '1'\n",
    "        while True:\n",
    "            if int(current) % n == 0:\n",
    "                print(len(current))\n",
    "                break\n",
    "            current += '1'\n",
    "    except:\n",
    "        break"
   ]
  },
  {
   "cell_type": "code",
   "execution_count": null,
   "metadata": {},
   "outputs": [],
   "source": [
    "# 맞았음\n",
    "while True:\n",
    "    try:\n",
    "        n = int(input())\n",
    "    except:\n",
    "        break\n",
    "        \n",
    "    current = 1\n",
    "    count = 1\n",
    "    while True:\n",
    "        if current % n == 0:\n",
    "            print(count)\n",
    "            break\n",
    "        current = current * 10 + 1\n",
    "        count += 1"
   ]
  },
  {
   "cell_type": "markdown",
   "metadata": {},
   "source": [
    "### 대표 자연수 2548"
   ]
  },
  {
   "cell_type": "code",
   "execution_count": 19,
   "metadata": {},
   "outputs": [
    {
     "name": "stdout",
     "output_type": "stream",
     "text": [
      "6\n",
      "4 3 2 2 9 10\n",
      "3\n"
     ]
    }
   ],
   "source": [
    "# 맞았음\n",
    "n = int(input())\n",
    "li = list(map(int, input().split()))\n",
    "li.sort()\n",
    "print(li[(n - 1) // 2])"
   ]
  },
  {
   "cell_type": "code",
   "execution_count": 20,
   "metadata": {},
   "outputs": [
    {
     "name": "stdout",
     "output_type": "stream",
     "text": [
      "6\n",
      "4 3 2 2 9 10\n",
      "3\n"
     ]
    }
   ],
   "source": [
    "# 맞았음\n",
    "n = int(input())\n",
    "print(sorted(map(int, input().split()))[(n - 1) // 2])"
   ]
  },
  {
   "cell_type": "markdown",
   "metadata": {},
   "source": [
    "### 한국이 그리울 땐 서버에 접속하지 9996\n",
    "- 문자열, 정규 표현식"
   ]
  },
  {
   "cell_type": "code",
   "execution_count": 27,
   "metadata": {},
   "outputs": [
    {
     "name": "stdout",
     "output_type": "stream",
     "text": [
      "5\n",
      "aa*aa\n",
      "aaa\n",
      "NE\n",
      "aaaa\n",
      "DA\n",
      "aaaaa\n",
      "DA\n",
      "aaaaaa\n",
      "DA\n",
      "aaaaaa\n",
      "DA\n"
     ]
    }
   ],
   "source": [
    "n = int(input())\n",
    "s = input()\n",
    "star = s.index('*')\n",
    "left = s[:star]\n",
    "right = s[star + 1:]\n",
    "right = right[::-1]\n",
    "\n",
    "def check(value):\n",
    "    if len(value) < len(s) - 1:\n",
    "        return False\n",
    "    \n",
    "    for i in range(len(left)):\n",
    "        if value[i] != left[i]:\n",
    "            return False\n",
    "           \n",
    "    for i in range(len(right)):\n",
    "        if value[-(i + 1)] != right[i]:\n",
    "            return False\n",
    "\n",
    "    return True\n",
    "\n",
    "for _ in range(n):\n",
    "    value = input()\n",
    "    if check(value):\n",
    "        print('DA')\n",
    "    else:\n",
    "        print('NE')"
   ]
  },
  {
   "cell_type": "markdown",
   "metadata": {},
   "source": [
    "### 정제헌을 팔자! 9273\n",
    "- 수학, 정수론"
   ]
  },
  {
   "cell_type": "code",
   "execution_count": 64,
   "metadata": {},
   "outputs": [
    {
     "name": "stdout",
     "output_type": "stream",
     "text": [
      "1/5000\n",
      "32\n"
     ]
    }
   ],
   "source": [
    "import sys\n",
    "# input = sys.stdin.readline\n",
    "\n",
    "while True:\n",
    "    try:\n",
    "        s = input().rstrip()\n",
    "        s = s[s.index('/') + 1:]\n",
    "        n = int(s)\n",
    "\n",
    "        count = 0\n",
    "        x = n + 1\n",
    "        while True:\n",
    "            y = (n * x) / (x - n)\n",
    "            if x > y:\n",
    "                break\n",
    "            if y == int(y):\n",
    "                count += 1\n",
    "            x += 1\n",
    "\n",
    "        print(count)\n",
    "    except:\n",
    "        break"
   ]
  },
  {
   "cell_type": "markdown",
   "metadata": {},
   "source": [
    "### 치킨치킨치킨 16439"
   ]
  },
  {
   "cell_type": "code",
   "execution_count": 73,
   "metadata": {},
   "outputs": [
    {
     "name": "stdout",
     "output_type": "stream",
     "text": [
      "3 3\n",
      "3 1 1\n",
      "1 4 1\n",
      "1 1 9\n",
      "16\n"
     ]
    }
   ],
   "source": [
    "from itertools import combinations\n",
    "\n",
    "n, m = map(int, input().split())\n",
    "li = [list(map(int, input().split())) for _ in range(n)]\n",
    "\n",
    "c = combinations(range(m), 3)\n",
    "\n",
    "max_total_sf = 0\n",
    "for case in c:\n",
    "    total_sf = 0\n",
    "    for i in range(n):\n",
    "        total_sf += max(li[i][case[0]], li[i][case[1]], li[i][case[2]])\n",
    "    max_total_sf = max(max_total_sf, total_sf)\n",
    "    \n",
    "print(max_total_sf)"
   ]
  },
  {
   "cell_type": "markdown",
   "metadata": {},
   "source": [
    "### 수열 11747"
   ]
  },
  {
   "cell_type": "code",
   "execution_count": null,
   "metadata": {},
   "outputs": [],
   "source": []
  }
 ],
 "metadata": {
  "kernelspec": {
   "display_name": "Python 3",
   "language": "python",
   "name": "python3"
  },
  "language_info": {
   "codemirror_mode": {
    "name": "ipython",
    "version": 3
   },
   "file_extension": ".py",
   "mimetype": "text/x-python",
   "name": "python",
   "nbconvert_exporter": "python",
   "pygments_lexer": "ipython3",
   "version": "3.7.3"
  }
 },
 "nbformat": 4,
 "nbformat_minor": 4
}
