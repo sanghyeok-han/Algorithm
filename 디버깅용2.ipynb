{
 "cells": [
  {
   "cell_type": "code",
   "execution_count": 29,
   "metadata": {},
   "outputs": [
    {
     "name": "stdout",
     "output_type": "stream",
     "text": [
      "5\n",
      "RRFRF\n",
      "..\n",
      ".#\n"
     ]
    }
   ],
   "source": [
    "n = int(input())\n",
    "s = input()\n",
    "\n",
    "m = 101\n",
    "maze = [['#'] * m for _ in range(m)]\n",
    "maze[50][50] = '.'\n",
    "\n",
    "x, y = 50, 50\n",
    "\n",
    "# 남, 서, 북, 동\n",
    "dx = [1, 0, -1, 0]\n",
    "dy = [0, -1, 0, 1]\n",
    "\n",
    "direction = 0\n",
    "\n",
    "for c in s:\n",
    "    if c == 'R':\n",
    "        direction += 1\n",
    "    elif c == 'L':\n",
    "        direction -= 1\n",
    "    else:\n",
    "        x = x + dx[direction % 4]\n",
    "        y = y + dy[direction % 4]\n",
    "        maze[x][y] = '.'\n",
    "        \n",
    "c_start = float('inf')\n",
    "r_start = float('inf')\n",
    "c_end = -1\n",
    "r_end = -1\n",
    "for i in range(101):\n",
    "    for j in range(101):\n",
    "        if maze[i][j] == '.':\n",
    "            r_start = min(i, r_start)\n",
    "            r_end = max(i, r_end)\n",
    "            c_start = min(j, c_start)\n",
    "            c_end = max(j, c_end)\n",
    "    \n",
    "result = []\n",
    "for i in range(r_start, r_end + 1):\n",
    "    result.append(maze[i][c_start:c_end + 1])\n",
    "    \n",
    "for v in result:\n",
    "    print(''.join(v))    "
   ]
  },
  {
   "cell_type": "code",
   "execution_count": 28,
   "metadata": {},
   "outputs": [
    {
     "name": "stdout",
     "output_type": "stream",
     "text": [
      "5\n",
      "RRFRF\n",
      ". .\n",
      ". #\n"
     ]
    }
   ],
   "source": [
    "n = int(input())\n",
    "s = input()\n",
    "\n",
    "m = 101\n",
    "maze = [['#'] * m for _ in range(m)]\n",
    "maze[50][50] = '.'\n",
    "\n",
    "x, y = 50, 50\n",
    "\n",
    "# 남, 서, 북, 동\n",
    "dx = [1, 0, -1, 0]\n",
    "dy = [0, -1, 0, 1]\n",
    "\n",
    "direction = 0\n",
    "\n",
    "for c in s:\n",
    "    if c == 'R':\n",
    "        direction += 1\n",
    "    elif c == 'L':\n",
    "        direction -= 1\n",
    "    else:\n",
    "        x = x + dx[direction % 4]\n",
    "        y = y + dy[direction % 4]\n",
    "        maze[x][y] = '.'\n",
    "        \n",
    "c_start = -1\n",
    "r_start = -1\n",
    "c_end = -1\n",
    "r_end = float('inf')\n",
    "for i in range(101):\n",
    "    is_dot_found = False\n",
    "    for j in range(101):\n",
    "        if maze[i][j] == '.':\n",
    "            if c_start == -1 and r_start == -1:\n",
    "                r_start = i\n",
    "                c_start = j\n",
    "            c_end = max(j, c_end)\n",
    "            is_dot_found = True\n",
    "    if is_dot_found:\n",
    "        r_end = i\n",
    "    \n",
    "result = []\n",
    "for i in range(r_start, r_end + 1):\n",
    "    result.append(maze[i][c_start:c_end + 1])\n",
    "    \n",
    "for v in result:\n",
    "    print(*v)    "
   ]
  },
  {
   "cell_type": "code",
   "execution_count": 20,
   "metadata": {},
   "outputs": [],
   "source": [
    "n = 4\n",
    "oli = [1, 2, 3, 4]"
   ]
  },
  {
   "cell_type": "code",
   "execution_count": 21,
   "metadata": {},
   "outputs": [
    {
     "name": "stdout",
     "output_type": "stream",
     "text": [
      "21\n",
      "3 4\n"
     ]
    }
   ],
   "source": [
    "li = oli.copy()\n",
    "\n",
    "if n == 1:\n",
    "    print(li[0] * li[0])\n",
    "    print(1, 1)\n",
    "else:\n",
    "    start_end_location = [0, 0]\n",
    "    # stack[i] = [현재 값, 현재 값 바로 전부터 현재 값 보다 크거나 같은 값들의 누적, '' 카운트, 현재 위치]\n",
    "    stack = [[li[0], 0, 0, 1]] \n",
    "    max_value = 0\n",
    "    for i in range(1, n):\n",
    "        sum_value = 0\n",
    "        new_values_count = 0\n",
    "        while stack:\n",
    "            if li[i] > stack[-1][0]:\n",
    "                break\n",
    "            former_value, former_sum_value, former_values_count, _ = stack.pop()\n",
    "            new_values_count += 1 + former_values_count\n",
    "            sum_value += former_value + former_sum_value\n",
    "            if max_value < sum_value * former_value:\n",
    "                max_value = sum_value * former_value\n",
    "                start_end_location[0] = i - new_values_count + 1\n",
    "                start_end_location[1] = i\n",
    "                  \n",
    "        stack.append([li[i], sum_value, new_values_count, i + 1])\n",
    "\n",
    "    cumul_sum_value = 0\n",
    "    cumul_values_count = 0\n",
    "    if stack:\n",
    "        end_location = stack[-1][-1]\n",
    "        while stack:\n",
    "            value, sum_value, values_count, current_location = stack.pop()\n",
    "            cumul_sum_value += value + sum_value\n",
    "            cumul_values_count += values_count\n",
    "            if max_value < value * cumul_sum_value:\n",
    "                max_value = value * cumul_sum_value\n",
    "                start_end_location[0] = current_location - cumul_values_count\n",
    "                start_end_location[1] = end_location\n",
    "        \n",
    "    print(max_value)\n",
    "    \n",
    "    if start_end_location[0] == 0:\n",
    "        print(1, 1)\n",
    "    else:\n",
    "        print(*start_end_location)"
   ]
  },
  {
   "cell_type": "code",
   "execution_count": 22,
   "metadata": {},
   "outputs": [
    {
     "name": "stdout",
     "output_type": "stream",
     "text": [
      "21\n",
      "2 3\n"
     ]
    }
   ],
   "source": [
    "import sys\n",
    "sys.setrecursionlimit(250000)\n",
    "\n",
    "seq = oli.copy()\n",
    "\n",
    "x = 0\n",
    "y = 0\n",
    "\n",
    "def sol(start, end):\n",
    "    global x, y, left, right\n",
    "    \n",
    "    if start == end:\n",
    "        x = start\n",
    "        y = start\n",
    "        return seq[start] * seq[start]\n",
    "    \n",
    "    mid = (start + end) // 2\n",
    "\n",
    "    l_sum = sol(start, mid)\n",
    "    r_sum = sol(mid+1, end)\n",
    "    \n",
    "    result = max(l_sum, r_sum)\n",
    "    \n",
    "    left = mid\n",
    "    right = mid + 1\n",
    "    \n",
    "    x = left\n",
    "    y = right\n",
    "    \n",
    "    hab = seq[left] + seq[right]\n",
    "    mini = min(seq[left], seq[right])\n",
    "    \n",
    "    if result < hab * mini:\n",
    "        x = left\n",
    "        y = right\n",
    "        result = hab * mini\n",
    "    \n",
    "    while start < left or right < end:\n",
    "        if right < end and (start == left or seq[left - 1] < seq[right + 1]):\n",
    "            \n",
    "            right += 1\n",
    "            hab += seq[right]\n",
    "            mini = min(mini, seq[right])\n",
    "            \n",
    "        else:\n",
    "            \n",
    "            left -= 1\n",
    "            hab += seq[left]\n",
    "            mini = min(mini, seq[left])\n",
    "            \n",
    "        \n",
    "        if result < hab * mini:\n",
    "            x = left\n",
    "            y = right\n",
    "            result = hab * mini\n",
    "   \n",
    "        \n",
    "    return result\n",
    "\n",
    "\n",
    "print(sol(0, n-1))\n",
    "print(x+1, y+1)"
   ]
  },
  {
   "cell_type": "code",
   "execution_count": null,
   "metadata": {},
   "outputs": [],
   "source": [
    "25 24 8 6 2 1"
   ]
  },
  {
   "cell_type": "code",
   "execution_count": 8,
   "metadata": {},
   "outputs": [
    {
     "name": "stdout",
     "output_type": "stream",
     "text": [
      "6 3\n",
      "0\n",
      "2\n"
     ]
    }
   ],
   "source": [
    "n, k = map(int, input().split())\n",
    "\n",
    "result = 0\n",
    "\n",
    "while True:\n",
    "    target = (n // k) * k\n",
    "    result += (n - target)\n",
    "    n = target\n",
    "    \n",
    "    if n < k:\n",
    "        break\n",
    "        \n",
    "    result += 1\n",
    "    n //= k\n",
    "    \n",
    "print(n)\n",
    "result += (n - 1)\n",
    "print(result)"
   ]
  },
  {
   "cell_type": "code",
   "execution_count": 9,
   "metadata": {},
   "outputs": [
    {
     "data": {
      "text/plain": [
       "3"
      ]
     },
     "execution_count": 9,
     "metadata": {},
     "output_type": "execute_result"
    }
   ],
   "source": [
    "5 // 3 * k"
   ]
  }
 ],
 "metadata": {
  "kernelspec": {
   "display_name": "Python 3",
   "language": "python",
   "name": "python3"
  },
  "language_info": {
   "codemirror_mode": {
    "name": "ipython",
    "version": 3
   },
   "file_extension": ".py",
   "mimetype": "text/x-python",
   "name": "python",
   "nbconvert_exporter": "python",
   "pygments_lexer": "ipython3",
   "version": "3.7.4"
  }
 },
 "nbformat": 4,
 "nbformat_minor": 4
}
