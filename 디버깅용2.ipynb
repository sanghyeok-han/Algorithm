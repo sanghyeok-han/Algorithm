{
 "cells": [
  {
   "cell_type": "code",
   "execution_count": 29,
   "metadata": {},
   "outputs": [
    {
     "name": "stdout",
     "output_type": "stream",
     "text": [
      "5\n",
      "RRFRF\n",
      "..\n",
      ".#\n"
     ]
    }
   ],
   "source": [
    "n = int(input())\n",
    "s = input()\n",
    "\n",
    "m = 101\n",
    "maze = [['#'] * m for _ in range(m)]\n",
    "maze[50][50] = '.'\n",
    "\n",
    "x, y = 50, 50\n",
    "\n",
    "# 남, 서, 북, 동\n",
    "dx = [1, 0, -1, 0]\n",
    "dy = [0, -1, 0, 1]\n",
    "\n",
    "direction = 0\n",
    "\n",
    "for c in s:\n",
    "    if c == 'R':\n",
    "        direction += 1\n",
    "    elif c == 'L':\n",
    "        direction -= 1\n",
    "    else:\n",
    "        x = x + dx[direction % 4]\n",
    "        y = y + dy[direction % 4]\n",
    "        maze[x][y] = '.'\n",
    "        \n",
    "c_start = float('inf')\n",
    "r_start = float('inf')\n",
    "c_end = -1\n",
    "r_end = -1\n",
    "for i in range(101):\n",
    "    for j in range(101):\n",
    "        if maze[i][j] == '.':\n",
    "            r_start = min(i, r_start)\n",
    "            r_end = max(i, r_end)\n",
    "            c_start = min(j, c_start)\n",
    "            c_end = max(j, c_end)\n",
    "    \n",
    "result = []\n",
    "for i in range(r_start, r_end + 1):\n",
    "    result.append(maze[i][c_start:c_end + 1])\n",
    "    \n",
    "for v in result:\n",
    "    print(''.join(v))    "
   ]
  },
  {
   "cell_type": "code",
   "execution_count": 28,
   "metadata": {},
   "outputs": [
    {
     "name": "stdout",
     "output_type": "stream",
     "text": [
      "5\n",
      "RRFRF\n",
      ". .\n",
      ". #\n"
     ]
    }
   ],
   "source": [
    "n = int(input())\n",
    "s = input()\n",
    "\n",
    "m = 101\n",
    "maze = [['#'] * m for _ in range(m)]\n",
    "maze[50][50] = '.'\n",
    "\n",
    "x, y = 50, 50\n",
    "\n",
    "# 남, 서, 북, 동\n",
    "dx = [1, 0, -1, 0]\n",
    "dy = [0, -1, 0, 1]\n",
    "\n",
    "direction = 0\n",
    "\n",
    "for c in s:\n",
    "    if c == 'R':\n",
    "        direction += 1\n",
    "    elif c == 'L':\n",
    "        direction -= 1\n",
    "    else:\n",
    "        x = x + dx[direction % 4]\n",
    "        y = y + dy[direction % 4]\n",
    "        maze[x][y] = '.'\n",
    "        \n",
    "c_start = -1\n",
    "r_start = -1\n",
    "c_end = -1\n",
    "r_end = float('inf')\n",
    "for i in range(101):\n",
    "    is_dot_found = False\n",
    "    for j in range(101):\n",
    "        if maze[i][j] == '.':\n",
    "            if c_start == -1 and r_start == -1:\n",
    "                r_start = i\n",
    "                c_start = j\n",
    "            c_end = max(j, c_end)\n",
    "            is_dot_found = True\n",
    "    if is_dot_found:\n",
    "        r_end = i\n",
    "    \n",
    "result = []\n",
    "for i in range(r_start, r_end + 1):\n",
    "    result.append(maze[i][c_start:c_end + 1])\n",
    "    \n",
    "for v in result:\n",
    "    print(*v)    "
   ]
  }
 ],
 "metadata": {
  "kernelspec": {
   "display_name": "Python 3",
   "language": "python",
   "name": "python3"
  },
  "language_info": {
   "codemirror_mode": {
    "name": "ipython",
    "version": 3
   },
   "file_extension": ".py",
   "mimetype": "text/x-python",
   "name": "python",
   "nbconvert_exporter": "python",
   "pygments_lexer": "ipython3",
   "version": "3.7.3"
  }
 },
 "nbformat": 4,
 "nbformat_minor": 4
}
