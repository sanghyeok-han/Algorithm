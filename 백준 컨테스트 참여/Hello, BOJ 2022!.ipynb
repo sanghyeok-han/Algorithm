{
 "cells": [
  {
   "cell_type": "markdown",
   "metadata": {},
   "source": [
    "A"
   ]
  },
  {
   "cell_type": "code",
   "execution_count": 44,
   "metadata": {},
   "outputs": [
    {
     "name": "stdout",
     "output_type": "stream",
     "text": [
      "2022 5\n",
      "2054\n"
     ]
    }
   ],
   "source": [
    "from itertools import permutations as perm\n",
    "\n",
    "n, d = map(int, input().split())\n",
    "\n",
    "result = []\n",
    "while True:\n",
    "    result.append(n % d)\n",
    "    n //= d\n",
    "    if n == 0:\n",
    "        break\n",
    "\n",
    "result.reverse()\n",
    "cri = int(''.join(map(str, result)))\n",
    "\n",
    "cases = perm(range(d))\n",
    "cur = float('inf')\n",
    "for case in cases:\n",
    "    if case[0] == 0:\n",
    "        continue\n",
    "    \n",
    "    tc = int(''.join(map(str, case))) # to compare\n",
    "    \n",
    "    if tc > cri:\n",
    "        if tc < cur:\n",
    "            cur = tc\n",
    "            \n",
    "if cur != float('inf'):           \n",
    "    print(int(str(cur), d))\n",
    "else:\n",
    "    print(-1)"
   ]
  }
 ],
 "metadata": {
  "kernelspec": {
   "display_name": "Python 3",
   "language": "python",
   "name": "python3"
  },
  "language_info": {
   "codemirror_mode": {
    "name": "ipython",
    "version": 3
   },
   "file_extension": ".py",
   "mimetype": "text/x-python",
   "name": "python",
   "nbconvert_exporter": "python",
   "pygments_lexer": "ipython3",
   "version": "3.7.4"
  }
 },
 "nbformat": 4,
 "nbformat_minor": 2
}
