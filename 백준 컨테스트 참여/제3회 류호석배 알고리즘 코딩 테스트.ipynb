{
 "cells": [
  {
   "cell_type": "markdown",
   "metadata": {},
   "source": [
    "### 1번 - 빌런 호석"
   ]
  },
  {
   "cell_type": "code",
   "execution_count": 66,
   "metadata": {},
   "outputs": [
    {
     "name": "stdout",
     "output_type": "stream",
     "text": [
      "48 2 5 35\n",
      "30\n"
     ]
    }
   ],
   "source": [
    "n, k, p, real = map(int, input().split())\n",
    "d = {\n",
    "    '0': 247,\n",
    "    '1': 146,\n",
    "    '2': 221,\n",
    "    '3': 219,\n",
    "    '4': 186,\n",
    "    '5': 235,\n",
    "    '6': 239,\n",
    "    '7': 210,\n",
    "    '8': 255,\n",
    "    '9': 251\n",
    "}\n",
    "\n",
    "total = 0\n",
    "real = str(real).rjust(k, '0')\n",
    "# 각 케이스별로 만들 수 있으면 count += 1\n",
    "for case in range(1, n + 1):\n",
    "    case = str(case).rjust(k, '0')\n",
    "    count = 0\n",
    "    for i in range(k):\n",
    "        count += bin(d[real[i]] ^ d[case[i]]).count('1')\n",
    "        if count > p:\n",
    "            break\n",
    "    if count <= p:\n",
    "        total += 1\n",
    "print(total - 1)"
   ]
  },
  {
   "cell_type": "code",
   "execution_count": null,
   "metadata": {},
   "outputs": [],
   "source": [
    "d = {\n",
    "    0: {1, 2, 3, 5, 6, 7},\n",
    "    1: {3, 6},\n",
    "    2: {1, 3, 4, 5, 7},\n",
    "    3: {1, 3, 4, 6, 7},\n",
    "    4: {2, 3, 4, 6},\n",
    "    5: {1, 2, 4, 6, 7},\n",
    "    6: {1, 2, 4, 5, 6, 7},\n",
    "    7: {1, 3, 6},\n",
    "    8: {1, 2, 3, 4, 5, 6, 7},\n",
    "    9: {1, 2, 3, 4, 6, 7}\n",
    "}"
   ]
  },
  {
   "cell_type": "markdown",
   "metadata": {},
   "source": [
    "### 2번 - 정보 상인 호석"
   ]
  },
  {
   "cell_type": "code",
   "execution_count": 12,
   "metadata": {},
   "outputs": [
    {
     "name": "stdout",
     "output_type": "stream",
     "text": [
      "7\n",
      "1 c 5 10 4 2 8 4\n",
      "1 j 2 8 2\n",
      "2 c 2\n",
      "1 c 2 10 3\n",
      "2 c 3\n",
      "2 j 1\n",
      "2 p 10\n",
      "44\n"
     ]
    }
   ],
   "source": [
    "from heapq import heappush, heappop\n",
    "from collections import defaultdict\n",
    "import sys\n",
    "# input = lambda: sys.stdin.readline().rstrip()\n",
    "\n",
    "d = defaultdict(list)\n",
    "q = int(input())\n",
    "total_value = 0\n",
    "for _ in range(q):\n",
    "    query = input().split()\n",
    "    if query[0] == '1':\n",
    "        for i in range(3, len(query)):\n",
    "            heappush(d[query[1]], -int(query[i]))\n",
    "    else:\n",
    "        name, amount = query[1], int(query[2])\n",
    "        \n",
    "        while amount and d[name]:\n",
    "            value = heappop(d[name])\n",
    "            value = -value\n",
    "            amount -= 1\n",
    "            total_value += value\n",
    "print(total_value)"
   ]
  },
  {
   "cell_type": "markdown",
   "metadata": {},
   "source": [
    "### 3번 - 트리 디자이너 호석"
   ]
  },
  {
   "cell_type": "code",
   "execution_count": null,
   "metadata": {},
   "outputs": [],
   "source": [
    "n = int(input())\n"
   ]
  },
  {
   "cell_type": "markdown",
   "metadata": {},
   "source": [
    "### 4번 - 공정 컨설턴트 호석"
   ]
  },
  {
   "cell_type": "code",
   "execution_count": 17,
   "metadata": {},
   "outputs": [
    {
     "name": "stdout",
     "output_type": "stream",
     "text": [
      "3\n"
     ]
    }
   ],
   "source": [
    "from heapq import heappush, heappop\n",
    "\n",
    "n, x = map(int, input().split())\n",
    "li = list(map(int, input().split()))\n",
    "\n",
    "def check():\n",
    "    heap = []\n",
    "    max_value = 0\n",
    "    for i in range(n):\n",
    "        if len(heap) < mid:\n",
    "            max_value = max(max_value, li[i])\n",
    "            heappush(heap, li[i])\n",
    "        else:\n",
    "            value = heappop(heap) + li[i]\n",
    "            max_value = max(max_value, value)\n",
    "            heappush(heap, value)\n",
    "    if max_value <= x:\n",
    "        return True\n",
    "    else:\n",
    "        return False\n",
    "\n",
    "start = 1\n",
    "end = n\n",
    "result = 0\n",
    "while start <= end:\n",
    "    mid = (start + end) // 2 # 공정 라인 수\n",
    "    if check():\n",
    "        result = mid\n",
    "        end = mid - 1\n",
    "    else:\n",
    "        start = mid + 1\n",
    "print(result)"
   ]
  },
  {
   "cell_type": "markdown",
   "metadata": {},
   "source": [
    "### 5번 - 호석사우루스"
   ]
  },
  {
   "cell_type": "code",
   "execution_count": 89,
   "metadata": {},
   "outputs": [
    {
     "name": "stdout",
     "output_type": "stream",
     "text": [
      "1\n"
     ]
    }
   ],
   "source": [
    "# 연습용\n",
    "from collections import deque\n",
    "\n",
    "n, m = map(int, input().split())\n",
    "sx, sy, ex, ey = map(lambda x: int(x) - 1, input().split())\n",
    "li = [list(map(int, input())) for _ in range(n)]\n",
    "\n",
    "n, m = 4, 2\n",
    "sx, sy, ex, ey = 3, 1, 1, 1\n",
    "sx -= 1\n",
    "sy -= 1\n",
    "ex -= 1\n",
    "ey -= 1\n",
    "s = '''0 -1\n",
    "1 0\n",
    "0 0\n",
    "0 0'''\n",
    "li = [list(map(int, v.split())) for v in s.split('\\n')]\n",
    "\n",
    "dx = [[-1, 1, 0, 0], [-1, 1], [0, 0]]\n",
    "dy = [[0, 0, -1, 1], [0, 0], [-1, 1]]\n",
    "d = {0: 4, 1: 2, 2: 2}\n",
    "\n",
    "damaged = [[[float('inf')] * m for _ in range(n)] for _ in range(3)] # damaged[move_count][x][y]\n",
    "damaged[0][sx][sy] = 0\n",
    "queue = deque()\n",
    "queue.append((sx, sy, 0))\n",
    "while queue:\n",
    "    x, y, move_count = queue.popleft()\n",
    "    n_move_count = move_count + 1\n",
    "    if n_move_count == 3:\n",
    "        n_move_count = 0\n",
    "    \n",
    "    for i in range(d[n_move_count]):\n",
    "        nx = x + dx[n_move_count][i]\n",
    "        ny = y + dy[n_move_count][i]\n",
    "        if nx < 0 or nx >= n or ny < 0 or ny >= m:\n",
    "            continue\n",
    "        if li[nx][ny] == -1:\n",
    "            continue\n",
    "        \n",
    "        n_damaged = damaged[move_count][x][y] + li[nx][ny]\n",
    "        \n",
    "        if n_damaged < damaged[n_move_count][nx][ny]:\n",
    "            damaged[n_move_count][nx][ny] = n_damaged\n",
    "            queue.append((nx, ny, n_move_count))\n",
    "\n",
    "result = min(damaged[0][ex][ey], damaged[1][ex][ey],  damaged[2][ex][ey])\n",
    "if result == float('inf'):\n",
    "    print(-1)\n",
    "else:\n",
    "    print(result)"
   ]
  },
  {
   "cell_type": "code",
   "execution_count": 91,
   "metadata": {},
   "outputs": [
    {
     "name": "stdout",
     "output_type": "stream",
     "text": [
      "4 2\n",
      "3 1 1 1\n",
      "0 -1\n",
      "1 0\n",
      "0 0\n",
      "0 0\n",
      "1\n"
     ]
    }
   ],
   "source": [
    "from collections import deque\n",
    "\n",
    "n, m = map(int, input().split())\n",
    "sx, sy, ex, ey = map(lambda x: int(x) - 1, input().split())\n",
    "li = [list(map(int, input().split())) for _ in range(n)]\n",
    "\n",
    "dx = [[-1, 1, 0, 0], [-1, 1], [0, 0]]\n",
    "dy = [[0, 0, -1, 1], [0, 0], [-1, 1]]\n",
    "d = {0: 4, 1: 2, 2: 2}\n",
    "\n",
    "damaged = [[[float('inf')] * m for _ in range(n)] for _ in range(3)] # damaged[move_count][x][y]\n",
    "damaged[0][sx][sy] = 0\n",
    "queue = deque()\n",
    "queue.append((sx, sy, 0))\n",
    "while queue:\n",
    "    x, y, move_count = queue.popleft()\n",
    "    n_move_count = move_count + 1\n",
    "    if n_move_count == 3:\n",
    "        n_move_count = 0\n",
    "    \n",
    "    for i in range(d[n_move_count]):\n",
    "        nx = x + dx[n_move_count][i]\n",
    "        ny = y + dy[n_move_count][i]\n",
    "        if nx < 0 or nx >= n or ny < 0 or ny >= m:\n",
    "            continue\n",
    "        if li[nx][ny] == -1:\n",
    "            continue\n",
    "        \n",
    "        n_damaged = damaged[move_count][x][y] + li[nx][ny]\n",
    "        \n",
    "        if n_damaged < damaged[n_move_count][nx][ny]:\n",
    "            damaged[n_move_count][nx][ny] = n_damaged\n",
    "            queue.append((nx, ny, n_move_count))\n",
    "\n",
    "result = min(damaged[0][ex][ey], damaged[1][ex][ey],  damaged[2][ex][ey])\n",
    "if result == float('inf'):\n",
    "    print(-1)\n",
    "else:\n",
    "    print(result)"
   ]
  }
 ],
 "metadata": {
  "kernelspec": {
   "display_name": "Python 3",
   "language": "python",
   "name": "python3"
  },
  "language_info": {
   "codemirror_mode": {
    "name": "ipython",
    "version": 3
   },
   "file_extension": ".py",
   "mimetype": "text/x-python",
   "name": "python",
   "nbconvert_exporter": "python",
   "pygments_lexer": "ipython3",
   "version": "3.7.3"
  }
 },
 "nbformat": 4,
 "nbformat_minor": 4
}
