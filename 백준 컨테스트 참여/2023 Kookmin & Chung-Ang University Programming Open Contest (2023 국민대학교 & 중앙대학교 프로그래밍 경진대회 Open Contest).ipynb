{
 "cells": [
  {
   "cell_type": "markdown",
   "metadata": {},
   "source": [
    "A"
   ]
  },
  {
   "cell_type": "code",
   "execution_count": 1,
   "metadata": {},
   "outputs": [
    {
     "name": "stdout",
     "output_type": "stream",
     "text": [
      "1 1\n",
      "0.5\n"
     ]
    }
   ],
   "source": [
    "w, h = map(int, input().split())\n",
    "\n",
    "r = w * h / 2\n",
    "\n",
    "print('{:.1f}'.format(r))"
   ]
  },
  {
   "cell_type": "markdown",
   "metadata": {},
   "source": [
    "B"
   ]
  },
  {
   "cell_type": "code",
   "execution_count": 2,
   "metadata": {},
   "outputs": [
    {
     "name": "stdout",
     "output_type": "stream",
     "text": [
      "4\n",
      "1 4 0 1\n",
      "2\n"
     ]
    }
   ],
   "source": [
    "n = int(input())\n",
    "li = list(map(int, input().split()))\n",
    "\n",
    "cur = 0\n",
    "max_cur = 0\n",
    "for v in li:\n",
    "    if v >= 1:\n",
    "        cur += 1\n",
    "        max_cur = max(max_cur, cur)\n",
    "    else:\n",
    "        cur = 0\n",
    "        \n",
    "print(max_cur)"
   ]
  },
  {
   "cell_type": "markdown",
   "metadata": {},
   "source": [
    "C"
   ]
  },
  {
   "cell_type": "code",
   "execution_count": null,
   "metadata": {},
   "outputs": [],
   "source": [
    "s1 = 'A+\tA0\tB+\tB0\tC+\tC0\tD+\tD0\tF'\n",
    "s2 = '450\t400\t350\t300\t250\t200\t150\t100\t000'\n",
    "\n",
    "li1 = s1.split()\n",
    "li2 = list(map(lambda x: int(x) * 100, s2.split()))\n",
    "\n",
    "li1.reverse()\n",
    "li2.reverse()\n",
    "\n",
    "gr_to_sc = {li1[i]: li2[i] for i in range(len(li1))} # grade to score\n",
    "# sc_to_gr = {li2[i]: li1[i] for i in range(len(li1))}\n",
    "\n",
    "n, x = input().split()\n",
    "n = int(n)\n",
    "x = int(x.replace('.', '')) * 100\n",
    "\n",
    "total_c = 0\n",
    "total = 0\n",
    "for _ in range(n - 1):\n",
    "    c, g = input().split()\n",
    "    c = int(c)\n",
    "    \n",
    "    total_c += c\n",
    "    total += c * gr_to_sc[g]\n",
    "    \n",
    "l = int(input())\n",
    "total_c += l\n",
    "\n",
    "result = ''\n",
    "for i, last_sc in enumerate(li2):\n",
    "    temp = (total + last_sc * l)  / total_c\n",
    "    \n",
    "    temp //= 100\n",
    "    temp *= 100\n",
    "    \n",
    "#     print(last_sc, temp)\n",
    "    if temp > x:\n",
    "        result = li1[i]\n",
    "        break\n",
    "        \n",
    "if not result:\n",
    "    print('impossible')\n",
    "else:\n",
    "    print(result)"
   ]
  },
  {
   "cell_type": "markdown",
   "metadata": {},
   "source": [
    "D"
   ]
  },
  {
   "cell_type": "code",
   "execution_count": null,
   "metadata": {},
   "outputs": [],
   "source": [
    "from collections import defaultdict as dd\n",
    "import sys\n",
    "input = lambda: sys.stdin.readline().rstrip()\n",
    "\n",
    "def get_total_m(hm):\n",
    "    h, m = map(int, hm.split(':'))\n",
    "    \n",
    "    return h * 60 + m\n",
    "\n",
    "n, m = map(int, input().split())\n",
    "\n",
    "max_p = (m - 1) // 7\n",
    "weeks = [[dd(int), dd(int)] for _ in range(max_p + 1)] # day_d, tm_d\n",
    "for _ in range(n):\n",
    "    name, day, start, end = input().split()\n",
    "    day = int(day)\n",
    "    \n",
    "    total_m = get_total_m(end) - get_total_m(start)\n",
    "    \n",
    "    temp = (day - 1) // 7\n",
    "    weeks[temp][0][name] += 1\n",
    "    weeks[temp][1][name] += total_m\n",
    "    \n",
    "reals = set()\n",
    "for name in weeks[0][0]:\n",
    "    if weeks[0][0][name] >= 5 and weeks[0][1][name] >= 60 * 60:\n",
    "        reals.add(name)\n",
    "\n",
    "for week in range(1, max_p + 1):\n",
    "    temp1 = set(weeks[week][0].keys())\n",
    "    temp2 = list(reals)\n",
    "    for name in temp2:\n",
    "        if name not in temp1:\n",
    "            reals.discard(name)\n",
    "\n",
    "    for name in weeks[week][0]:\n",
    "        if weeks[week][0][name] < 5 or weeks[week][1][name] < 60 * 60:\n",
    "            reals.discard(name)\n",
    "        \n",
    "reals = sorted(reals)\n",
    "if reals:\n",
    "    for v in reals:\n",
    "        print(v)\n",
    "else:\n",
    "    print(-1)"
   ]
  },
  {
   "cell_type": "markdown",
   "metadata": {},
   "source": [
    "E"
   ]
  },
  {
   "cell_type": "code",
   "execution_count": 9,
   "metadata": {},
   "outputs": [
    {
     "name": "stdout",
     "output_type": "stream",
     "text": [
      "2 3\n",
      "1 5\n",
      "2 3\n",
      "7 1\n",
      "4 2\n",
      "4\n",
      "2\n",
      "3\n",
      "3\n"
     ]
    }
   ],
   "source": [
    "import io, os, sys\n",
    "input = io.BytesIO(os.read(0, os.fstat(0).st_size)).readline\n",
    "\n",
    "inf = float('inf')\n",
    "\n",
    "def check(p):\n",
    "    possibles = [0] * 2000001\n",
    "    \n",
    "    closest = -inf\n",
    "    for x in range(2000001):\n",
    "        if B[x]:\n",
    "            closest = x\n",
    "            continue\n",
    "            \n",
    "        possibles[x] = p / abs(x - closest)\n",
    "        \n",
    "    closest = inf\n",
    "    for x in range(2000000, -1, -1):\n",
    "        if B[x]:\n",
    "            closest = x\n",
    "            continue\n",
    "            \n",
    "        possible = max(p / abs(x - closest), possibles[x])\n",
    "        \n",
    "        if A[x] > possible:\n",
    "            return False\n",
    "                       \n",
    "    return True            \n",
    "            \n",
    "n, m = map(int, input().split())\n",
    "temp_B = set(map(int, input().split()))\n",
    "\n",
    "B = [False] * 2000001\n",
    "for v in temp_B:\n",
    "    v += 1000000\n",
    "    B[v] = True\n",
    "\n",
    "A = [0] * 2000001\n",
    "for _ in range(m):\n",
    "    a, w = map(int, input().split())\n",
    "    a += 1000000\n",
    "    \n",
    "    A[a] = w\n",
    "    \n",
    "start = 1\n",
    "end = int(1e9)\n",
    "result = end\n",
    "while start <= end:\n",
    "    mid = (start + end) // 2\n",
    "    \n",
    "    if check(mid):\n",
    "        result = mid\n",
    "        end = mid - 1\n",
    "    else:\n",
    "        start = mid + 1\n",
    "        \n",
    "print(result)"
   ]
  },
  {
   "cell_type": "markdown",
   "metadata": {},
   "source": [
    "F"
   ]
  },
  {
   "cell_type": "code",
   "execution_count": 11,
   "metadata": {},
   "outputs": [
    {
     "name": "stdout",
     "output_type": "stream",
     "text": [
      "5 10\n",
      "70 90 80 100 60\n",
      "60 60 60 60 60\n",
      "190\n"
     ]
    }
   ],
   "source": [
    "inf = float('inf')\n",
    "\n",
    "n, k = map(int, input().split())\n",
    "S = list(map(int, input().split()))\n",
    "H = list(map(int, input().split()))\n",
    "\n",
    "dp = [-inf] * 101\n",
    "dp[100] = 0\n",
    "\n",
    "for i in range(n):\n",
    "    ndp = [-inf] * 101\n",
    "    for fh in range(101):\n",
    "        h = min(100, (fh + k))\n",
    "        ndp[h] = max(ndp[h], dp[fh])\n",
    "        \n",
    "        if h >= H[i]:\n",
    "            nh = h - H[i]\n",
    "            \n",
    "            ns = dp[fh] + S[i]\n",
    "            ndp[nh] = max(ndp[nh], ns)\n",
    "            \n",
    "    dp = ndp.copy()\n",
    "            \n",
    "result = max(dp)\n",
    "\n",
    "print(result)"
   ]
  },
  {
   "cell_type": "markdown",
   "metadata": {},
   "source": [
    "G"
   ]
  },
  {
   "cell_type": "code",
   "execution_count": 13,
   "metadata": {},
   "outputs": [
    {
     "name": "stdout",
     "output_type": "stream",
     "text": [
      "4\n",
      "0 0\n",
      "-1 0\n",
      "1 1\n",
      "1 -1\n",
      "2 1\n",
      "1 4\n",
      "4 3\n"
     ]
    }
   ],
   "source": [
    "import io, os, sys\n",
    "input = io.BytesIO(os.read(0, os.fstat(0).st_size)).readline\n",
    "\n",
    "n = int(input())\n",
    "li = [list(map(int, input().split())) + [i + 1] for i in range(n)]\n",
    "\n",
    "li.sort(key=lambda x: [x[0], x[1]])\n",
    "for i in range(n - 1):\n",
    "    print(li[i][2], li[i + 1][2])"
   ]
  },
  {
   "cell_type": "markdown",
   "metadata": {},
   "source": [
    "H"
   ]
  },
  {
   "cell_type": "code",
   "execution_count": 16,
   "metadata": {},
   "outputs": [
    {
     "name": "stdout",
     "output_type": "stream",
     "text": [
      "70000\n",
      "264\n",
      "16\n",
      "4\n",
      "2\n",
      "1\n",
      "1\n",
      "1\n",
      "1\n",
      "1\n"
     ]
    }
   ],
   "source": [
    "cur = 70000\n",
    "for i in range(10):\n",
    "    print(cur)\n",
    "    cur = int(cur ** 0.5)"
   ]
  },
  {
   "cell_type": "code",
   "execution_count": 8,
   "metadata": {},
   "outputs": [
    {
     "data": {
      "text/plain": [
       "16.24807680927192"
      ]
     },
     "execution_count": 8,
     "metadata": {},
     "output_type": "execute_result"
    }
   ],
   "source": [
    "264 ** 0.5"
   ]
  },
  {
   "cell_type": "code",
   "execution_count": null,
   "metadata": {},
   "outputs": [],
   "source": [
    "70000, 264, 16, 3, 1"
   ]
  },
  {
   "cell_type": "code",
   "execution_count": 9,
   "metadata": {},
   "outputs": [
    {
     "name": "stdout",
     "output_type": "stream",
     "text": [
      "1\n",
      "1 1\n",
      "0\n"
     ]
    }
   ],
   "source": [
    "def get_root(x):\n",
    "    rt = int(x ** 0.5)\n",
    "    if rt ** 2 == x:\n",
    "        rt -= 1\n",
    "        \n",
    "    return rt\n",
    "\n",
    "for _ in range(int(input())):\n",
    "    n, l = map(int, input().split())\n",
    "\n",
    "    if l >= 7:\n",
    "        print(0)\n",
    "    elif l == 1 and n != 1:\n",
    "        print(0)\n",
    "    elif l == 1 and n == 1:\n",
    "        print(1)\n",
    "    else:\n",
    "        rt = get_root(n)\n",
    "\n",
    "        dp = [1] * (rt + 1)\n",
    "\n",
    "        for _ in range(l - 2):\n",
    "            ndp = [0] * (get_root(len(dp)) + 2)\n",
    "            for num in range(1, len(dp)):\n",
    "                rt = get_root(num)\n",
    "\n",
    "                for nnum in range(1, rt + 1):\n",
    "                    ndp[nnum] += dp[num]\n",
    "\n",
    "            dp = ndp.copy()\n",
    "\n",
    "        if len(dp) >= 2:\n",
    "            print(dp[1])\n",
    "        else:\n",
    "            print(0)"
   ]
  },
  {
   "cell_type": "markdown",
   "metadata": {},
   "source": [
    "J"
   ]
  },
  {
   "cell_type": "code",
   "execution_count": null,
   "metadata": {},
   "outputs": [],
   "source": [
    "층 호\n",
    "1  1\n",
    "1  9\n",
    "4  2\n",
    "6  4"
   ]
  },
  {
   "cell_type": "code",
   "execution_count": 13,
   "metadata": {},
   "outputs": [
    {
     "name": "stdout",
     "output_type": "stream",
     "text": [
      "517\n"
     ]
    }
   ],
   "source": [
    "import io, os, sys\n",
    "input = io.BytesIO(os.read(0, os.fstat(0).st_size)).readline\n",
    "\n",
    "inf = float('inf')\n",
    "\n",
    "n, h, w = map(int, input().split())\n",
    "\n",
    "min_max = [[inf, -inf] for _ in range(h + 1)]\n",
    "min_max[1][0] = min_max[1][1] = 1\n",
    "\n",
    "max_h_to_vt = 1\n",
    "for i in range(n):\n",
    "    x, y = map(int, input().split())\n",
    "    \n",
    "    min_max[x][0] = min(min_max[x][0], y)\n",
    "    min_max[x][1] = max(min_max[x][1], y)\n",
    "    \n",
    "    max_h_to_vt = max(max_h_to_vt, x)\n",
    "    \n",
    "result = (max_h_to_vt - 1) * 100\n",
    "\n",
    "li = []\n",
    "for i in range(1, h + 1):\n",
    "    if min_max[i][0] != inf:\n",
    "        li.append(min_max[i])\n",
    "\n",
    "nn = len(li)\n",
    "dp = [[inf] * 2 for _ in range(nn)]\n",
    "dp[0][1] = li[0][1] - 1\n",
    "\n",
    "for i in range(1, nn):\n",
    "    diff = li[i][1] - li[i][0]\n",
    "    \n",
    "    t1 = dp[i - 1][0] + abs(li[i - 1][0] - li[i][1]) + diff\n",
    "    t2 = dp[i - 1][1] + abs(li[i - 1][1] - li[i][1]) + diff\n",
    "    dp[i][0] = min(t1, t2)\n",
    "    \n",
    "    t1 = dp[i - 1][0] + abs(li[i - 1][0] - li[i][0]) + diff\n",
    "    t2 = dp[i - 1][1] + abs(li[i - 1][1] - li[i][0]) + diff\n",
    "    dp[i][1] = min(t1, t2)\n",
    "    \n",
    "result += min(dp[-1])\n",
    "\n",
    "print(result)"
   ]
  },
  {
   "cell_type": "markdown",
   "metadata": {},
   "source": [
    "I"
   ]
  },
  {
   "cell_type": "code",
   "execution_count": null,
   "metadata": {},
   "outputs": [],
   "source": [
    "possibles = primes[:101]"
   ]
  },
  {
   "cell_type": "code",
   "execution_count": 23,
   "metadata": {},
   "outputs": [
    {
     "name": "stdout",
     "output_type": "stream",
     "text": [
      "2\n",
      "0 0 0 0\n",
      "0 0 0 0\n",
      "0 0 0 0\n",
      "0 0 0 0\n",
      "2 3 5 7\n",
      "5 7 2 3\n",
      "3 2 7 5\n",
      "7 5 3 2\n"
     ]
    }
   ],
   "source": [
    "max_num = 1000001\n",
    "sp = [0] * (max_num + 1)\n",
    "primes = []\n",
    "for i in range(2, max_num + 1):\n",
    "    if sp[i] == 0:\n",
    "        sp[i] = i\n",
    "        primes.append(i)\n",
    "        \n",
    "    j = 0\n",
    "    while j < len(primes) and i * primes[j] <= max_num and primes[j] <= sp[i]:\n",
    "        sp[i * primes[j]] = primes[j]\n",
    "        j += 1\n",
    "\n",
    "def get_block(i, j):\n",
    "    return (i // n) * n + (j // n)\n",
    "\n",
    "n = int(input())\n",
    "nn = n ** 2\n",
    "\n",
    "li = [list(map(int, input().split())) for i in range(nn)]\n",
    "rows = [set() for _ in range(nn)]\n",
    "cols = [set() for _ in range(nn)]\n",
    "blocks = [set() for _ in range(nn)]\n",
    "\n",
    "for i in range(nn):\n",
    "    for j in range(nn):\n",
    "        if li[i][j] != 0:\n",
    "            num = li[i][j]\n",
    "            while num > 1:\n",
    "                to_add = sp[num]\n",
    "                rows[i].add(to_add)\n",
    "                cols[j].add(to_add)\n",
    "                blocks[get_block(i, j)].add(to_add)\n",
    "                \n",
    "                num //= sp[num]\n",
    "                \n",
    "possibles = primes[:1001]\n",
    "                \n",
    "for i in range(nn):\n",
    "    for j in range(nn):\n",
    "        if li[i][j] == 0:\n",
    "            pp = set(possibles)\n",
    "            \n",
    "            pp -= rows[i]\n",
    "            pp -= cols[j]\n",
    "            pp -= blocks[get_block(i, j)]\n",
    "            \n",
    "            assert pp\n",
    "            \n",
    "            to_use = pp.pop()\n",
    "            li[i][j] = to_use\n",
    "            \n",
    "            rows[i].add(to_use)\n",
    "            cols[j].add(to_use)\n",
    "            blocks[get_block(i, j)].add(to_use)\n",
    "            \n",
    "for v in li:\n",
    "    print(*v)"
   ]
  }
 ],
 "metadata": {
  "kernelspec": {
   "display_name": "Python 3",
   "language": "python",
   "name": "python3"
  },
  "language_info": {
   "codemirror_mode": {
    "name": "ipython",
    "version": 3
   },
   "file_extension": ".py",
   "mimetype": "text/x-python",
   "name": "python",
   "nbconvert_exporter": "python",
   "pygments_lexer": "ipython3",
   "version": "3.8.3"
  }
 },
 "nbformat": 4,
 "nbformat_minor": 4
}
