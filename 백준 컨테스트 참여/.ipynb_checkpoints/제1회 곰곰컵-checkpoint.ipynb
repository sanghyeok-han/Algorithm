{
 "cells": [
  {
   "cell_type": "markdown",
   "metadata": {},
   "source": [
    "A"
   ]
  },
  {
   "cell_type": "code",
   "execution_count": null,
   "metadata": {},
   "outputs": [],
   "source": [
    "n = int(input())\n",
    "a, b = map(int, input().split())\n",
    "\n",
    "r = min(n, b + a // 2)\n",
    "\n",
    "print(r)"
   ]
  },
  {
   "cell_type": "markdown",
   "metadata": {},
   "source": [
    "B"
   ]
  },
  {
   "cell_type": "code",
   "execution_count": 2,
   "metadata": {},
   "outputs": [
    {
     "name": "stdout",
     "output_type": "stream",
     "text": [
      "3\n",
      "ENTER\n",
      "i\n",
      "i\n",
      "1\n"
     ]
    }
   ],
   "source": [
    "import sys\n",
    "input = lambda: sys.stdin.readline().rstrip()\n",
    "\n",
    "n = int(input())\n",
    "\n",
    "st = set()\n",
    "r = 0\n",
    "for _ in range(n):\n",
    "    s = input()\n",
    "    \n",
    "    if s == 'ENTER':\n",
    "        st = set()\n",
    "    else:\n",
    "        if s not in st:\n",
    "            st.add(s)\n",
    "            r += 1\n",
    "    \n",
    "print(r)"
   ]
  },
  {
   "cell_type": "markdown",
   "metadata": {},
   "source": [
    "C"
   ]
  },
  {
   "cell_type": "code",
   "execution_count": 4,
   "metadata": {},
   "outputs": [
    {
     "name": "stdout",
     "output_type": "stream",
     "text": [
      "7\n",
      "CCHCCCK\n",
      "2\n"
     ]
    }
   ],
   "source": [
    "n = int(input())\n",
    "s = input()\n",
    "\n",
    "cc = s.count('C') # chicken count\n",
    "oc = n - cc # other count\n",
    "\n",
    "if cc == 0:\n",
    "    print(0)\n",
    "else:\n",
    "    r = cc\n",
    "    start = 1\n",
    "    end = cc\n",
    "    while start <= end:\n",
    "        mid = (start + end) // 2\n",
    "\n",
    "        needed_oc = 0\n",
    "        cur_used_cc = mid\n",
    "        while cur_used_cc < cc:\n",
    "            needed_oc += 1\n",
    "            cur_used_cc += mid\n",
    "\n",
    "        if needed_oc <= oc:\n",
    "            r = mid\n",
    "            end = mid - 1\n",
    "        else:\n",
    "            start = mid + 1\n",
    "\n",
    "    print(r)"
   ]
  },
  {
   "cell_type": "markdown",
   "metadata": {},
   "source": [
    "D"
   ]
  },
  {
   "cell_type": "code",
   "execution_count": null,
   "metadata": {},
   "outputs": [],
   "source": [
    "월 = 0\n",
    "금 = 4\n",
    "\n"
   ]
  },
  {
   "cell_type": "code",
   "execution_count": null,
   "metadata": {},
   "outputs": [],
   "source": [
    "0 1 2 3 4 5 6"
   ]
  },
  {
   "cell_type": "code",
   "execution_count": null,
   "metadata": {},
   "outputs": [],
   "source": [
    "7로 나눴을 때의 나머지가 4가 되어야 함"
   ]
  },
  {
   "cell_type": "code",
   "execution_count": 5,
   "metadata": {},
   "outputs": [
    {
     "data": {
      "text/plain": [
       "4"
      ]
     },
     "execution_count": 5,
     "metadata": {},
     "output_type": "execute_result"
    }
   ],
   "source": [
    "25 % 7"
   ]
  },
  {
   "cell_type": "code",
   "execution_count": null,
   "metadata": {},
   "outputs": [],
   "source": [
    "0 1 2 3 4 5 6"
   ]
  },
  {
   "cell_type": "code",
   "execution_count": 14,
   "metadata": {},
   "outputs": [
    {
     "data": {
      "text/plain": [
       "4"
      ]
     },
     "execution_count": 14,
     "metadata": {},
     "output_type": "execute_result"
    }
   ],
   "source": [
    "(1 * 4) % 7"
   ]
  },
  {
   "cell_type": "code",
   "execution_count": 15,
   "metadata": {},
   "outputs": [
    {
     "data": {
      "text/plain": [
       "4"
      ]
     },
     "execution_count": 15,
     "metadata": {},
     "output_type": "execute_result"
    }
   ],
   "source": [
    "(2 * 2) % 7"
   ]
  },
  {
   "cell_type": "code",
   "execution_count": 17,
   "metadata": {},
   "outputs": [
    {
     "data": {
      "text/plain": [
       "4"
      ]
     },
     "execution_count": 17,
     "metadata": {},
     "output_type": "execute_result"
    }
   ],
   "source": [
    "(3 * 6) % 7"
   ]
  },
  {
   "cell_type": "code",
   "execution_count": 16,
   "metadata": {},
   "outputs": [
    {
     "data": {
      "text/plain": [
       "4"
      ]
     },
     "execution_count": 16,
     "metadata": {},
     "output_type": "execute_result"
    }
   ],
   "source": [
    "(4 * 1) % 7"
   ]
  },
  {
   "cell_type": "code",
   "execution_count": 22,
   "metadata": {},
   "outputs": [
    {
     "data": {
      "text/plain": [
       "4"
      ]
     },
     "execution_count": 22,
     "metadata": {},
     "output_type": "execute_result"
    }
   ],
   "source": [
    "(5 * 5) % 7"
   ]
  },
  {
   "cell_type": "code",
   "execution_count": 24,
   "metadata": {},
   "outputs": [
    {
     "data": {
      "text/plain": [
       "4"
      ]
     },
     "execution_count": 24,
     "metadata": {},
     "output_type": "execute_result"
    }
   ],
   "source": [
    "(6 * 3) % 7"
   ]
  },
  {
   "cell_type": "code",
   "execution_count": 25,
   "metadata": {},
   "outputs": [
    {
     "data": {
      "text/plain": [
       "20"
      ]
     },
     "execution_count": 25,
     "metadata": {},
     "output_type": "execute_result"
    }
   ],
   "source": [
    "4 + 2 + 6 + 5+ 3"
   ]
  },
  {
   "cell_type": "code",
   "execution_count": 26,
   "metadata": {},
   "outputs": [
    {
     "data": {
      "text/plain": [
       "1048576"
      ]
     },
     "execution_count": 26,
     "metadata": {},
     "output_type": "execute_result"
    }
   ],
   "source": [
    "2 ** 20"
   ]
  },
  {
   "cell_type": "code",
   "execution_count": null,
   "metadata": {},
   "outputs": [],
   "source": [
    "needed = [4, 2, 6, 1, 5, 3]"
   ]
  },
  {
   "cell_type": "code",
   "execution_count": 39,
   "metadata": {},
   "outputs": [
    {
     "name": "stdout",
     "output_type": "stream",
     "text": [
      "2\n",
      "1 5\n",
      "NO\n"
     ]
    }
   ],
   "source": [
    "from itertools import combinations as comb\n",
    "\n",
    "def check():\n",
    "    nn = len(nli)\n",
    "    ip = False\n",
    "    for c in range(1, nn + 1):\n",
    "        for case in comb(nli, c):\n",
    "            if sum(case) % 7 == 4:\n",
    "                return True\n",
    "    return False\n",
    "\n",
    "n = int(input())\n",
    "li = list(map(int, input().split()))\n",
    "\n",
    "ct = [0] * 7\n",
    "for v in li:\n",
    "    ct[v % 7] += 1\n",
    "\n",
    "needed = [float('inf'), 4, 2, 6, 1, 5, 3]\n",
    "ip = False\n",
    "for num in range(7):\n",
    "    if ct[num] >= needed[num]:\n",
    "        ip = True\n",
    "        break\n",
    "        \n",
    "if ip:\n",
    "    print('YES')\n",
    "else:\n",
    "    nli = []\n",
    "    for num in range(1, 7):\n",
    "        nli.extend([num] * ct[num])\n",
    "        \n",
    "    if check():\n",
    "        print('YES')\n",
    "    else:\n",
    "        print('NO')"
   ]
  },
  {
   "cell_type": "markdown",
   "metadata": {},
   "source": [
    "E"
   ]
  },
  {
   "cell_type": "code",
   "execution_count": 41,
   "metadata": {},
   "outputs": [
    {
     "name": "stdout",
     "output_type": "stream",
     "text": [
      "7 7\n",
      "1 2\n",
      "2 3\n",
      "2 4\n",
      "3 4\n",
      "1 5\n",
      "5 7\n",
      "6 7\n",
      "3\n",
      "4 3 5\n",
      "Yes\n"
     ]
    }
   ],
   "source": [
    "import sys\n",
    "sys.setrecursionlimit(110000)\n",
    "input = lambda: sys.stdin.readline().rstrip()\n",
    "\n",
    "def dfs(value, is_met):\n",
    "    global ip\n",
    "    \n",
    "    if value in to_check:\n",
    "        is_met = True\n",
    "        \n",
    "    if not li[value]:\n",
    "        if not is_met:\n",
    "            ip = False\n",
    "        return\n",
    "    for v in li[value]:\n",
    "        dfs(v, is_met)\n",
    "\n",
    "n, m = map(int, input().split())\n",
    "li = [[] for _ in range(n + 1)]\n",
    "\n",
    "for _ in range(m):\n",
    "    a, b = map(int, input().split())\n",
    "    li[a].append(b)\n",
    "    \n",
    "s = int(input())\n",
    "to_check = set(map(int, input().split()))\n",
    "\n",
    "ip = True\n",
    "dfs(1, False)\n",
    "\n",
    "if ip:\n",
    "    print('Yes')\n",
    "else:\n",
    "    print('yes')"
   ]
  },
  {
   "cell_type": "markdown",
   "metadata": {},
   "source": [
    "F"
   ]
  },
  {
   "cell_type": "code",
   "execution_count": null,
   "metadata": {},
   "outputs": [],
   "source": [
    "Av, As, Ae = map(int, input().split())\n",
    "Av, As, Ae = map(int, input().split())\n",
    "Av, As, Ae = map(int, input().split())"
   ]
  },
  {
   "cell_type": "markdown",
   "metadata": {},
   "source": [
    "G"
   ]
  },
  {
   "cell_type": "code",
   "execution_count": 43,
   "metadata": {},
   "outputs": [],
   "source": [
    "from itertools import product as prod"
   ]
  },
  {
   "cell_type": "code",
   "execution_count": 119,
   "metadata": {},
   "outputs": [
    {
     "name": "stdout",
     "output_type": "stream",
     "text": [
      "2 1 1 1 1.0 1.0\n",
      "2 2 2 4 0.5 0.5\n",
      "2 3 3 9 0.3333333333333333 0.3333333333333333\n",
      "2 4 4 16 0.25 0.25\n",
      "2 5 5 25 0.2 0.2\n",
      "2 6 6 36 0.16666666666666666 0.16666666666666666\n",
      "3 1 3 1 3.0 3.0\n",
      "3 2 12 8 1.5 1.5\n",
      "3 3 27 27 1.0 1.0\n",
      "3 4 48 64 0.75 0.75\n",
      "3 5 75 125 0.6 0.6\n",
      "3 6 108 216 0.5 0.5\n",
      "4 1 6 1 6.0 6.0\n",
      "4 2 48 16 3.0 3.0\n",
      "4 3 162 81 2.0 2.0\n",
      "4 4 384 256 1.5 1.5\n",
      "4 5 750 625 1.2 1.2\n",
      "4 6 1296 1296 1.0 1.0\n",
      "5 1 10 1 10.0 10.0\n",
      "5 2 160 32 5.0 5.0\n",
      "5 3 810 243 3.3333333333333335 3.3333333333333335\n",
      "5 4 2560 1024 2.5 2.5\n",
      "5 5 6250 3125 2.0 2.0\n",
      "5 6 12960 7776 1.6666666666666667 1.6666666666666667\n",
      "6 1 15 1 15.0 15.0\n",
      "6 2 480 64 7.5 7.5\n",
      "6 3 3645 729 5.0 5.0\n",
      "6 4 15360 4096 3.75 3.75\n",
      "6 5 46875 15625 3.0 3.0\n",
      "6 6 116640 46656 2.5 2.5\n"
     ]
    }
   ],
   "source": [
    "from collections import Counter\n",
    "\n",
    "def get_sum(num):\n",
    "    return num * (num + 1) // 2\n",
    "\n",
    "# n, k = map(int, input().split())\n",
    "\n",
    "for n in range(2, 7):\n",
    "    for k in range(1, 7):\n",
    "        total_ct = [0] * (n + 1)\n",
    "        for case in prod(*[range(k)] * n):\n",
    "            ct = Counter(case)\n",
    "\n",
    "            for v in ct.values():\n",
    "                total_ct[v] += 1\n",
    "\n",
    "        all_case = k ** n\n",
    "\n",
    "        total_meeting = 0\n",
    "        for i in range(2, n + 1):\n",
    "            total_meeting += get_sum(i - 1) * total_ct[i]    \n",
    "\n",
    "        print(n, k, total_meeting, all_case, total_meeting / all_case, get_sum(n - 1) / k)"
   ]
  },
  {
   "cell_type": "code",
   "execution_count": 95,
   "metadata": {},
   "outputs": [],
   "source": [
    "li = [15.0, 7.5, 5.0, 3.75, 3.0, 2.5]"
   ]
  },
  {
   "cell_type": "code",
   "execution_count": 97,
   "metadata": {},
   "outputs": [
    {
     "data": {
      "text/plain": [
       "[60.0, 30.0, 20.0, 15.0, 12.0, 10.0]"
      ]
     },
     "execution_count": 97,
     "metadata": {},
     "output_type": "execute_result"
    }
   ],
   "source": [
    "nli = [v * 4 for v in li]\n",
    "nli"
   ]
  },
  {
   "cell_type": "code",
   "execution_count": 53,
   "metadata": {},
   "outputs": [
    {
     "name": "stdout",
     "output_type": "stream",
     "text": [
      "12 8 1.5\n"
     ]
    }
   ],
   "source": [
    "def get_sum(num):\n",
    "    return num * (num + 1) // 2\n",
    "\n",
    "total = 0\n",
    "for i in range(2, n + 1):\n",
    "    total += get_sum(i - 1) * total_ct[i]\n",
    "    \n",
    "print(total, all_case, total / all_case)"
   ]
  },
  {
   "cell_type": "markdown",
   "metadata": {},
   "source": [
    "H"
   ]
  },
  {
   "cell_type": "code",
   "execution_count": 142,
   "metadata": {},
   "outputs": [
    {
     "name": "stdout",
     "output_type": "stream",
     "text": [
      "5\n",
      "1 5 4\n",
      "1 2\n",
      "2 3\n",
      "3 4\n",
      "3 5\n",
      "11\n"
     ]
    }
   ],
   "source": [
    "import sys\n",
    "sys.setrecursionlimit(110000)\n",
    "input = lambda: sys.stdin.readline().rstrip()\n",
    "\n",
    "def dfs(value):\n",
    "    global to_find\n",
    "    global route\n",
    "    \n",
    "    vt[value] = True\n",
    "    temp.append(value)\n",
    "    \n",
    "    if value == to_find:\n",
    "        route = temp.copy()\n",
    "        return\n",
    "    \n",
    "    for v in li[value]:\n",
    "        if vt[v]:\n",
    "            continue\n",
    "        dfs(v)\n",
    "    \n",
    "    temp.pop()\n",
    "\n",
    "n = int(input())\n",
    "s, c, h = map(int, input().split())\n",
    "\n",
    "li = [[] for _ in range(n + 1)]\n",
    "for _ in range(n - 1):\n",
    "    a, b = map(int, input().split())\n",
    "    li[a].append(b)\n",
    "    li[b].append(a)\n",
    "    \n",
    "to_find = c\n",
    "route = []\n",
    "vt = [False] * (n + 1)\n",
    "temp = []\n",
    "dfs(s)\n",
    "\n",
    "route.pop()\n",
    "routes = []\n",
    "routes.extend(route)\n",
    "\n",
    "to_find = h\n",
    "route = []\n",
    "vt = [False] * (n + 1)\n",
    "temp = []\n",
    "dfs(c)\n",
    "\n",
    "routes.extend(route)\n",
    "\n",
    "ct = [0] * (n + 1)\n",
    "cumul2 = 0\n",
    "for v in routes:\n",
    "    ct[v] += 1\n",
    "    if ct[v] == 2:\n",
    "        cumul2 += 1\n",
    "\n",
    "r = 0\n",
    "routes_len = len(routes)\n",
    "vt = [False] * (n + 1)\n",
    "for i in range(routes_len - 1):\n",
    "    value = routes[i]\n",
    "    \n",
    "    ct[value] -= 1\n",
    "    if ct[value] == 1:\n",
    "        cumul2 -= 1\n",
    "        \n",
    "    if vt[value]:\n",
    "        continue\n",
    "    vt[value] = True\n",
    "        \n",
    "    temp = routes_len - i - 1\n",
    "    temp -= cumul2 + ct[value]\n",
    "    \n",
    "    r += temp\n",
    "    \n",
    "print(r)"
   ]
  },
  {
   "cell_type": "markdown",
   "metadata": {},
   "source": [
    "I"
   ]
  },
  {
   "cell_type": "code",
   "execution_count": 163,
   "metadata": {},
   "outputs": [
    {
     "name": "stdout",
     "output_type": "stream",
     "text": [
      "5 4\n",
      "1 3\n",
      "3 2\n",
      "4 3\n",
      "2 4\n",
      "3 3 3 3 5\n"
     ]
    }
   ],
   "source": [
    "def find(v):\n",
    "    if v == parent[v]:\n",
    "        return v\n",
    "    parent[v] = find(parent[v])\n",
    "    return parent[v]\n",
    "\n",
    "def union(a, b):\n",
    "    parent[b] = a\n",
    "\n",
    "n, m = map(int, input().split())\n",
    "# qs = [list(map(int, input().split())) for _ in range(m)]\n",
    "\n",
    "parent = list(range(n + 1))\n",
    "dests = list(range(n + 1))\n",
    "for _ in range(m):\n",
    "    a, b = map(int, input().split())\n",
    "    \n",
    "    ra = find(a)\n",
    "    \n",
    "    \n",
    "    if ra > rb:\n",
    "        ra, rb = rb, ra\n",
    "    if ra != rb:\n",
    "        union(ra, rb)  \n",
    "    dests[ra] = b\n",
    "    \n",
    "for i in range(1, n + 1):\n",
    "    ri = find(i)\n",
    "    dests[i] = dests[ri]\n",
    "    \n",
    "print(*dests[1:])"
   ]
  },
  {
   "cell_type": "code",
   "execution_count": 160,
   "metadata": {},
   "outputs": [
    {
     "data": {
      "text/plain": [
       "[0, 1, 1, 1, 1, 5]"
      ]
     },
     "execution_count": 160,
     "metadata": {},
     "output_type": "execute_result"
    }
   ],
   "source": [
    "parent"
   ]
  },
  {
   "cell_type": "code",
   "execution_count": 155,
   "metadata": {},
   "outputs": [
    {
     "name": "stdout",
     "output_type": "stream",
     "text": [
      "5 4\n",
      "1 3\n",
      "[[0], [3], [2], [3], [4], [5]]\n",
      "3 2\n",
      "[[0], [3], [2], [2], [4], [5]]\n",
      "4 3\n",
      "[[0], [3], [2], [2], [2], [5]]\n",
      "2 4\n",
      "[[0], [3], [2], [2], [2], [5]]\n",
      "[[0], [3], [2], [2], [2], [5]]\n"
     ]
    }
   ],
   "source": [
    "n, m = map(int, input().split())\n",
    "dests = [[i] for i in range(n + 1)]\n",
    "\n",
    "for _ in range(m):\n",
    "    a, b = map(int, input().split())\n",
    "    \n",
    "    dests[a] = dests[b]\n",
    "    \n",
    "    print(dests)\n",
    "    \n",
    "print(dests)"
   ]
  }
 ],
 "metadata": {
  "kernelspec": {
   "display_name": "Python 3",
   "language": "python",
   "name": "python3"
  },
  "language_info": {
   "codemirror_mode": {
    "name": "ipython",
    "version": 3
   },
   "file_extension": ".py",
   "mimetype": "text/x-python",
   "name": "python",
   "nbconvert_exporter": "python",
   "pygments_lexer": "ipython3",
   "version": "3.7.4"
  }
 },
 "nbformat": 4,
 "nbformat_minor": 2
}
