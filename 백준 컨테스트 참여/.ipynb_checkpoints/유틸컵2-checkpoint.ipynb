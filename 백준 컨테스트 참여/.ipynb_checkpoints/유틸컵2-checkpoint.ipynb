{
 "cells": [
  {
   "cell_type": "markdown",
   "metadata": {},
   "source": [
    "R"
   ]
  },
  {
   "cell_type": "code",
   "execution_count": 1,
   "metadata": {},
   "outputs": [
    {
     "name": "stdout",
     "output_type": "stream",
     "text": [
      "5\n",
      "5 6 7 8 9\n",
      "5 5 5 10 10\n",
      "3\n"
     ]
    }
   ],
   "source": [
    "n = int(input())\n",
    "A = list(map(int, input().split()))\n",
    "B = list(map(int, input().split()))\n",
    "\n",
    "c = 0\n",
    "for i in range(n):\n",
    "    if A[i] <= B[i]:\n",
    "        c += 1\n",
    "        \n",
    "print(c)"
   ]
  },
  {
   "cell_type": "markdown",
   "metadata": {},
   "source": [
    "S"
   ]
  },
  {
   "cell_type": "code",
   "execution_count": 8,
   "metadata": {},
   "outputs": [
    {
     "name": "stdout",
     "output_type": "stream",
     "text": [
      "3\n",
      "b c d\n",
      "1\n",
      "1\n",
      "1\n",
      "e\n",
      "6\n",
      "abcde1\n",
      "a\n",
      "e\n"
     ]
    }
   ],
   "source": [
    "n = int(input())\n",
    "sep = set(input().split())\n",
    "m = int(input())\n",
    "sep |= set(input().split())\n",
    "k = int(input())\n",
    "sep -= set(input().split())\n",
    "s_len = input()\n",
    "s = input()\n",
    "\n",
    "sep.add(' ')\n",
    "\n",
    "temp = ''\n",
    "result = []\n",
    "for v in s:\n",
    "    if v in sep:\n",
    "        if temp:\n",
    "            result.append(temp)\n",
    "            temp = ''\n",
    "    else:\n",
    "        temp += v\n",
    "        \n",
    "if temp:\n",
    "    result.append(temp)\n",
    "        \n",
    "print('\\n'.join(result))"
   ]
  },
  {
   "cell_type": "markdown",
   "metadata": {},
   "source": [
    "I"
   ]
  },
  {
   "cell_type": "code",
   "execution_count": null,
   "metadata": {},
   "outputs": [],
   "source": [
    "import sys\n",
    "input = lambda: sys.stdin.readline().rstrip()\n",
    "\n",
    "dx = [-1, 1, 0, 0]\n",
    "dy = [0, 0, -1, 1]\n",
    "moves = 'UDLR'\n",
    "\n",
    "ink_c, n, k = map(int, input().split())\n",
    "ink = input()\n",
    "li = [list(input()) for _ in range(n)]\n",
    "com = input()\n",
    "\n",
    "x = y = -1\n",
    "for i in range(n):\n",
    "    for j in range(n):\n",
    "        if li[i][j] == '@':\n",
    "            li[i][j] = '.'\n",
    "            x, y = i, j\n",
    "            break\n",
    "    if x != -1:\n",
    "        break\n",
    "\n",
    "amount = 0\n",
    "cur_jump = 0\n",
    "for v in com:\n",
    "    if v == 'j':\n",
    "        amount += 1\n",
    "    elif v in moves:\n",
    "        d = moves.index(v)\n",
    "        nx = x + dx[d]\n",
    "        ny = y + dy[d]\n",
    "        \n",
    "        if nx < 0 or nx >= n or ny < 0 or ny >= n:\n",
    "            continue\n",
    "        if li[nx][ny] != '.':\n",
    "            continue\n",
    "        x, y = nx, ny\n",
    "    elif v == 'J':\n",
    "        color = ink[cur_jump % ink_c]\n",
    "        cur_jump += 1\n",
    "        \n",
    "        for i in range(n):\n",
    "            for j in range(n):\n",
    "                if abs(x - i) + abs(y - j) <= amount:\n",
    "                    if li[i][j] != '.':\n",
    "                        li[i][j] = color      \n",
    "        amount = 0\n",
    "        \n",
    "li[x][y] = '@'\n",
    "        \n",
    "for v in li:\n",
    "    print(''.join(v))"
   ]
  },
  {
   "cell_type": "markdown",
   "metadata": {},
   "source": [
    "K"
   ]
  },
  {
   "cell_type": "code",
   "execution_count": 11,
   "metadata": {},
   "outputs": [
    {
     "data": {
      "text/plain": [
       "250000"
      ]
     },
     "execution_count": 11,
     "metadata": {},
     "output_type": "execute_result"
    }
   ],
   "source": [
    "5000 * 50"
   ]
  },
  {
   "cell_type": "code",
   "execution_count": null,
   "metadata": {},
   "outputs": [],
   "source": [
    "of Korea 규칙을 먼저 전부 적용한 후에 Korea 규칙을 적용하기 시작하기"
   ]
  },
  {
   "cell_type": "code",
   "execution_count": 31,
   "metadata": {},
   "outputs": [
    {
     "name": "stdout",
     "output_type": "stream",
     "text": [
      "korea Korea! koRea Of Korea of Korea oF kORea.\n",
      "korea Korea! koRea Of K-Korea oF kORea.\n"
     ]
    }
   ],
   "source": [
    "import sys\n",
    "input = lambda: sys.stdin.readline().rstrip()\n",
    "\n",
    "for _ in range(int(input())):\n",
    "    li = input().split()\n",
    "\n",
    "    korea_ends = ['Korea!', 'Korea?', 'Korea,', 'Korea.']\n",
    "    ends = '!?,.'\n",
    "\n",
    "    stack = []\n",
    "    for v in li:\n",
    "        to_add = True\n",
    "        if v in korea_ends:\n",
    "            end = v[-1]\n",
    "\n",
    "            if len(stack) >= 2:\n",
    "                if stack[-1] == 'of' and stack[-2][-1] not in ends:\n",
    "                    stack.pop()\n",
    "                    word = stack.pop()\n",
    "                    word = word[0].upper() + word[1:]\n",
    "\n",
    "                    word += end\n",
    "\n",
    "                    word = f'K-{word}'\n",
    "                    stack.append(word)\n",
    "                    to_add = False\n",
    "        elif v == 'Korea':\n",
    "            if len(stack) >= 2:\n",
    "                if stack[-1] == 'of' and stack[-2][-1] not in ends:\n",
    "                    stack.pop()\n",
    "                    word = stack.pop()\n",
    "                    word = word[0].upper() + word[1:]\n",
    "\n",
    "                    word = f'K-{word}'\n",
    "                    stack.append(word)\n",
    "                    to_add = False\n",
    "\n",
    "        if to_add:\n",
    "            stack.append(v)\n",
    "\n",
    "    li = stack.copy()\n",
    "    stack = []\n",
    "    for i in range(len(li) - 1, -1, -1):\n",
    "        v = li[i]\n",
    "        to_add = True\n",
    "\n",
    "        if v == 'Korea':\n",
    "            if stack:\n",
    "                word = stack.pop()\n",
    "\n",
    "                word = word[0].upper() + word[1:]\n",
    "                word = f'K-{word}'\n",
    "                stack.append(word)\n",
    "                to_add = False\n",
    "\n",
    "        if to_add:\n",
    "            stack.append(v)\n",
    "\n",
    "    print(' '.join(reversed(stack)))"
   ]
  },
  {
   "cell_type": "markdown",
   "metadata": {},
   "source": [
    "T"
   ]
  },
  {
   "cell_type": "code",
   "execution_count": 45,
   "metadata": {},
   "outputs": [
    {
     "name": "stdout",
     "output_type": "stream",
     "text": [
      "111 11 55\n",
      "47 55\n"
     ]
    }
   ],
   "source": [
    "import sys\n",
    "input = lambda: sys.stdin.readline().rstrip()\n",
    "\n",
    "n, t = map(int, input().split())\n",
    "li = [input().split() for _ in range(t)]\n",
    "tier = input()\n",
    "\n",
    "sub_tier = ''\n",
    "if tier[-1] in ['1', '2', '3', '4']:\n",
    "    sub_tier = int(tier[-1])\n",
    "    tier = tier[:-1]\n",
    "\n",
    "left = n\n",
    "is_last_same = False\n",
    "min_rank = -1\n",
    "max_rank = -1\n",
    "for name, num in li:\n",
    "    if name == tier:\n",
    "        covered = n - left\n",
    "        min_rank = covered + 1\n",
    "        is_last_same = True\n",
    "    \n",
    "    if num[-1] == '%':\n",
    "        percent = int(num[:-1])\n",
    "        \n",
    "        can_cover = left * percent // 100\n",
    "        left -= can_cover\n",
    "    else:\n",
    "        num = int(num)\n",
    "        left -= num\n",
    "            \n",
    "    left = max(left, 0)\n",
    "    if is_last_same:\n",
    "        is_last_same = False\n",
    "        covered = n - left\n",
    "        max_rank = covered\n",
    "            \n",
    "    if left <= 0:\n",
    "        break\n",
    "    \n",
    "if left >= 1:\n",
    "    print('Invalid System')\n",
    "elif min_rank == -1 or min_rank > max_rank:\n",
    "    print('Liar')\n",
    "else:\n",
    "    if not sub_tier:\n",
    "        print(min_rank, max_rank)\n",
    "    else:\n",
    "        ip = True\n",
    "        popul = max_rank - min_rank + 1\n",
    "        \n",
    "        qt = popul // 4\n",
    "        if popul % 4:\n",
    "            qt += 1\n",
    "        \n",
    "        t1 = min(qt, popul)\n",
    "        popul -= t1\n",
    "        \n",
    "        if sub_tier == 1:\n",
    "            if t1 == 0:\n",
    "                ip = False\n",
    "            else:\n",
    "                max_rank = min_rank + t1 - 1\n",
    "        \n",
    "        t2 = min(qt, popul)\n",
    "        popul -= t2\n",
    "        \n",
    "        if sub_tier == 2:\n",
    "            if t2 == 0:\n",
    "                ip = False\n",
    "            else:\n",
    "                max_rank = min_rank + t1 + t2 - 1\n",
    "                min_rank += t1\n",
    "        \n",
    "        t3 = min(qt, popul)\n",
    "        popul -= t3\n",
    "        \n",
    "        if sub_tier == 3:\n",
    "            if t3 == 0:\n",
    "                ip = False\n",
    "            else:\n",
    "                max_rank = min_rank + t1 + t2 + t3 - 1\n",
    "                min_rank += t1 + t2\n",
    "        \n",
    "        t4 = min(qt, popul)\n",
    "        popul -= t4\n",
    "        \n",
    "        if sub_tier == 4:\n",
    "            if t4 == 0:\n",
    "                ip = False\n",
    "            else:\n",
    "                max_rank = min_rank + t1 + t2 + t3 + t4 - 1\n",
    "                min_rank += t1 + t2 + t3\n",
    "                \n",
    "        if not ip:\n",
    "            print('Liar')\n",
    "        else:\n",
    "            print(min_rank, max_rank)"
   ]
  }
 ],
 "metadata": {
  "kernelspec": {
   "display_name": "Python 3",
   "language": "python",
   "name": "python3"
  },
  "language_info": {
   "codemirror_mode": {
    "name": "ipython",
    "version": 3
   },
   "file_extension": ".py",
   "mimetype": "text/x-python",
   "name": "python",
   "nbconvert_exporter": "python",
   "pygments_lexer": "ipython3",
   "version": "3.8.3"
  }
 },
 "nbformat": 4,
 "nbformat_minor": 4
}
