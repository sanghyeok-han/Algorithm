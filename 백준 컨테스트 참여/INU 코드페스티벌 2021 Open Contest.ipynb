{
 "cells": [
  {
   "cell_type": "markdown",
   "metadata": {},
   "source": [
    "A"
   ]
  },
  {
   "cell_type": "code",
   "execution_count": 2,
   "metadata": {},
   "outputs": [
    {
     "name": "stdout",
     "output_type": "stream",
     "text": [
      "3 6\n",
      "G..R..\n",
      "..B...\n",
      "Y.....\n",
      "G.RR.G\n",
      "..BB..\n",
      "Y....Y\n"
     ]
    }
   ],
   "source": [
    "n, m = map(int, input().split())\n",
    "li = [list(input()) for _ in range(n)]\n",
    "\n",
    "for i in range(n):\n",
    "    for j in range(m // 2):\n",
    "        if li[i][j] != li[i][m - 1 - j]:\n",
    "            if li[i][j] == '.':\n",
    "                li[i][j] = li[i][m - 1 - j]\n",
    "            else:\n",
    "                li[i][m - 1 - j] = li[i][j]\n",
    "                \n",
    "for v in li:\n",
    "    print(''.join(v))"
   ]
  },
  {
   "cell_type": "markdown",
   "metadata": {},
   "source": [
    "B"
   ]
  },
  {
   "cell_type": "code",
   "execution_count": 8,
   "metadata": {},
   "outputs": [
    {
     "name": "stdout",
     "output_type": "stream",
     "text": [
      "10\n",
      "impossible\n"
     ]
    }
   ],
   "source": [
    "n = int(input())\n",
    "n -= 4\n",
    "\n",
    "nd = [6, 2, 5, 5, 4, 5, 6, 3, 7, 6] # needed\n",
    "\n",
    "r = 'impossible'\n",
    "for i in range(10):\n",
    "    for j in range(10):\n",
    "        for k in range(10):\n",
    "            for l in range(10):\n",
    "                for a in range(10):\n",
    "                    for b in range(10):\n",
    "                        if nd[i] + nd[j] + nd[k] + nd[l] + nd[a] + nd[b] == n:\n",
    "                            if i * 10 + j + k * 10 + l == a * 10 + b:\n",
    "                               r = f'{i}{j}+{k}{l}={a}{b}'\n",
    "                                \n",
    "print(r)"
   ]
  },
  {
   "cell_type": "markdown",
   "metadata": {},
   "source": [
    "C"
   ]
  },
  {
   "cell_type": "code",
   "execution_count": 13,
   "metadata": {},
   "outputs": [
    {
     "name": "stdout",
     "output_type": "stream",
     "text": [
      "9\n"
     ]
    }
   ],
   "source": [
    "n, m = map(int, input().split())\n",
    "li = sorted(map(int, input().split()))\n",
    "\n",
    "cons = [0] * m\n",
    "cur_index = 0\n",
    "total = 0\n",
    "while li:\n",
    "    value = li.pop()\n",
    "    \n",
    "    if cur_index == 0:\n",
    "        total += value\n",
    "        cons[0] = value\n",
    "        cur_index += 1\n",
    "    else:\n",
    "        if cons[cur_index - 1] > cons[cur_index]:\n",
    "            cons[cur_index] += value\n",
    "            if cons[cur_index - 1] == cons[cur_index]:\n",
    "                cur_index += 1\n",
    "        \n",
    "    if cur_index == m:\n",
    "        cons = [0] * m\n",
    "        cur_index = 0\n",
    "        \n",
    "print(total)"
   ]
  },
  {
   "cell_type": "code",
   "execution_count": 15,
   "metadata": {},
   "outputs": [
    {
     "name": "stdout",
     "output_type": "stream",
     "text": [
      "5 2\n",
      "1 3\n",
      "1 4\n",
      "1 5\n",
      "5 2\n"
     ]
    },
    {
     "data": {
      "text/plain": [
       "5"
      ]
     },
     "execution_count": 15,
     "metadata": {},
     "output_type": "execute_result"
    }
   ],
   "source": [
    "n, k = map(int, input().split())\n",
    "\n",
    "tree = [[] for _ in range(n + 1)]\n",
    "for _ in range(n - 1):\n",
    "    a, b = map(int, input().split())\n",
    "    \n",
    "    tree[a].append(b)\n",
    "    tree[b].append(a)\n",
    "    \n",
    "haves = [0] * (n + 1)\n",
    "ncbl = [0] * (n + 1) # node counts by level\n",
    "\n",
    "def dfs(value, level):\n",
    "    total = 0\n",
    "    for v in tree[value]:\n",
    "        if vt[v]:\n",
    "            continue\n",
    "        vt[v] = True\n",
    "        \n",
    "        total += dfs(v, level + 1)\n",
    "        \n",
    "    haves[value] = total + 1\n",
    "    ncbl[level] += 1\n",
    "    return total + 1\n",
    "    \n",
    "    \n",
    "vt = [False] * (n + 1)\n",
    "vt[1] = True\n",
    "dfs(1, 0)\n",
    "\n"
   ]
  },
  {
   "cell_type": "code",
   "execution_count": 16,
   "metadata": {},
   "outputs": [
    {
     "data": {
      "text/plain": [
       "[0, 5, 1, 1, 1, 2]"
      ]
     },
     "execution_count": 16,
     "metadata": {},
     "output_type": "execute_result"
    }
   ],
   "source": [
    "haves"
   ]
  },
  {
   "cell_type": "code",
   "execution_count": null,
   "metadata": {},
   "outputs": [],
   "source": []
  }
 ],
 "metadata": {
  "kernelspec": {
   "display_name": "Python 3",
   "language": "python",
   "name": "python3"
  },
  "language_info": {
   "codemirror_mode": {
    "name": "ipython",
    "version": 3
   },
   "file_extension": ".py",
   "mimetype": "text/x-python",
   "name": "python",
   "nbconvert_exporter": "python",
   "pygments_lexer": "ipython3",
   "version": "3.7.3"
  }
 },
 "nbformat": 4,
 "nbformat_minor": 4
}
