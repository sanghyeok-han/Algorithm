{
 "cells": [
  {
   "cell_type": "markdown",
   "metadata": {},
   "source": [
    "A"
   ]
  },
  {
   "cell_type": "code",
   "execution_count": 14,
   "metadata": {},
   "outputs": [
    {
     "name": "stdout",
     "output_type": "stream",
     "text": [
      "10000\n",
      "10403\n"
     ]
    }
   ],
   "source": [
    "max_num = 110\n",
    "\n",
    "ip = [True] * (max_num + 1)\n",
    "ip[0] = ip[1] = False\n",
    "for mod in range(2, int(max_num ** 0.5) + 1):\n",
    "    if ip[mod]:\n",
    "        for v in range(mod * mod, max_num + 1, mod):\n",
    "            ip[v] = False\n",
    "            \n",
    "ps = [i for i, v in enumerate(ip) if v]\n",
    "\n",
    "n = int(input())\n",
    "\n",
    "li = []\n",
    "for i in range(len(ps) - 1):\n",
    "    li.append(ps[i] * ps[i + 1])\n",
    "    \n",
    "for i in range(len(li)):\n",
    "    if li[i] > n:\n",
    "        print(li[i])\n",
    "        break"
   ]
  },
  {
   "cell_type": "markdown",
   "metadata": {},
   "source": [
    "B"
   ]
  },
  {
   "cell_type": "code",
   "execution_count": null,
   "metadata": {},
   "outputs": [],
   "source": [
    "n = int(input())\n",
    "\n",
    "def solve():\n",
    "    "
   ]
  },
  {
   "cell_type": "code",
   "execution_count": null,
   "metadata": {},
   "outputs": [],
   "source": [
    "가로와 세로를 더하면 3의 배수여야 함\n",
    "가로와 세로를 곱하면 n이 되어야 하고 둘은 n의 약수여야 함"
   ]
  },
  {
   "cell_type": "code",
   "execution_count": null,
   "metadata": {},
   "outputs": [],
   "source": [
    "a * b = n\n",
    "(a + b) % 3 = 0"
   ]
  },
  {
   "cell_type": "code",
   "execution_count": 35,
   "metadata": {},
   "outputs": [
    {
     "name": "stdout",
     "output_type": "stream",
     "text": [
      "1 104\n",
      "2 52\n",
      "4 26\n",
      "8 13\n",
      "13 8\n",
      "26 4\n",
      "52 2\n",
      "104 1\n"
     ]
    }
   ],
   "source": [
    "n = 104\n",
    "\n",
    "for i in range(n + 1):\n",
    "    for j in range(n + 1):\n",
    "        if (i * j) == n and (i + j) % 3 == 0:\n",
    "            print(i, j)"
   ]
  }
 ],
 "metadata": {
  "kernelspec": {
   "display_name": "Python 3",
   "language": "python",
   "name": "python3"
  },
  "language_info": {
   "codemirror_mode": {
    "name": "ipython",
    "version": 3
   },
   "file_extension": ".py",
   "mimetype": "text/x-python",
   "name": "python",
   "nbconvert_exporter": "python",
   "pygments_lexer": "ipython3",
   "version": "3.7.4"
  }
 },
 "nbformat": 4,
 "nbformat_minor": 2
}
