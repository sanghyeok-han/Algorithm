{
 "cells": [
  {
   "cell_type": "markdown",
   "metadata": {},
   "source": [
    "A"
   ]
  },
  {
   "cell_type": "code",
   "execution_count": 2,
   "metadata": {},
   "outputs": [
    {
     "name": "stdout",
     "output_type": "stream",
     "text": [
      "3 4\n",
      "5 6 7\n",
      "0\n"
     ]
    }
   ],
   "source": [
    "n, x = map(int, input().split())\n",
    "li = list(map(int, input().split()))\n",
    "\n",
    "sv = sum(li)\n",
    "\n",
    "if sv % x == 0:\n",
    "    print(1)\n",
    "else:\n",
    "    print(0)"
   ]
  },
  {
   "cell_type": "markdown",
   "metadata": {},
   "source": [
    "B"
   ]
  },
  {
   "cell_type": "code",
   "execution_count": null,
   "metadata": {},
   "outputs": [],
   "source": [
    "import io, os, sys\n",
    "input = io.BytesIO(os.read(0, os.fstat(0).st_size)).readline\n",
    "\n",
    "n, m, p = map(int, input().split())\n",
    "li = [list(map(int, input().split())) for _ in range(n)]\n",
    "\n",
    "ip = True\n",
    "for info in li:\n",
    "    info.sort()\n",
    "    \n",
    "    item_c = 0\n",
    "    for v in info:\n",
    "        if v == -1:\n",
    "            item_c +=1\n",
    "        else:\n",
    "            while p < v:\n",
    "                if item_c:\n",
    "                    item_c -= 1\n",
    "                    p *= 2\n",
    "                else:\n",
    "                    ip = False\n",
    "                    break\n",
    "            \n",
    "            if not ip:\n",
    "                break\n",
    "            p += v\n",
    "            \n",
    "    while item_c:\n",
    "        item_c -= 1\n",
    "        p *= 2\n",
    "            \n",
    "if ip:\n",
    "    print(1)\n",
    "else:\n",
    "    print(0)"
   ]
  },
  {
   "cell_type": "markdown",
   "metadata": {},
   "source": [
    "C"
   ]
  },
  {
   "cell_type": "code",
   "execution_count": 1,
   "metadata": {},
   "outputs": [
    {
     "name": "stdout",
     "output_type": "stream",
     "text": [
      "3 2\n",
      "1 2\n",
      "2 3\n",
      "7\n"
     ]
    }
   ],
   "source": [
    "from collections import deque\n",
    "import io, os, sys\n",
    "input = io.BytesIO(os.read(0, os.fstat(0).st_size)).readline\n",
    "\n",
    "mod = 1000000007\n",
    "\n",
    "def bfs():\n",
    "    global max_depth\n",
    "    \n",
    "    vt[0] = True\n",
    "    \n",
    "    queue = deque()\n",
    "    queue.append((0, 0))\n",
    "    while queue:\n",
    "        value, depth = queue.popleft()\n",
    "    \n",
    "        max_depth = max(max_depth, depth)\n",
    "        depth_cs[depth] += 1\n",
    "\n",
    "        for v in li[value]:\n",
    "            if vt[v]:\n",
    "                continue\n",
    "            vt[v] = True\n",
    "            queue.append((v, depth + 1))\n",
    "\n",
    "n, m = map(int, input().split())\n",
    "\n",
    "li = [[] for _ in range(n)]\n",
    "\n",
    "get_v = lambda x: int(x) - 1\n",
    "for _ in range(m):\n",
    "    u, v = map(get_v, input().split())\n",
    "    \n",
    "    li[u].append(v)\n",
    "    li[v].append(u)\n",
    "    \n",
    "\n",
    "        \n",
    "vt = [False] * n\n",
    "depth_cs = [0] * n\n",
    "\n",
    "max_depth = 0\n",
    "bfs()\n",
    "\n",
    "result = 1\n",
    "for depth in range(max_depth + 1):\n",
    "    v = depth_cs[depth]\n",
    "    \n",
    "    result *= (v + 1)\n",
    "    result %= mod\n",
    "        \n",
    "result -= 1\n",
    "result %= mod\n",
    "        \n",
    "print(result)"
   ]
  },
  {
   "cell_type": "markdown",
   "metadata": {},
   "source": [
    "E"
   ]
  },
  {
   "cell_type": "code",
   "execution_count": 33,
   "metadata": {},
   "outputs": [
    {
     "name": "stdout",
     "output_type": "stream",
     "text": [
      "5\n",
      "5 3 7 4 3\n",
      "5\n",
      "2 4\n",
      "3 2\n",
      "4 1\n",
      "6 4\n",
      "11 5\n",
      "1 [5, 4, 7, 5, 4]\n",
      "2 [6, 5, 7, 5, 5]\n",
      "3 [6, 6, 7, 6, 6]\n",
      "4 [7, 7, 7, 7, 6]\n",
      "5 [8, 8, 7, 7, 7]\n",
      "1\n",
      "3\n",
      "2\n",
      "4\n",
      "8\n"
     ]
    }
   ],
   "source": [
    "from heapq import heappush, heappop\n",
    "import io, os, sys\n",
    "# input = io.BytesIO(os.read(0, os.fstat(0).st_size)).readline\n",
    "\n",
    "n = int(input())\n",
    "init_cs = list(map(int, input().split()))\n",
    "q = int(input())\n",
    "qs = [list(map(int, input().split())) + [i] for i in range(q)]\n",
    "\n",
    "cs = init_cs.copy()\n",
    "\n",
    "qs.sort(key=lambda x: x[0])\n",
    "result = [0] * q\n",
    "\n",
    "heap = []\n",
    "for i in range(n):\n",
    "    heappush(heap, (cs[i], i))\n",
    "    \n",
    "cur_q = 0\n",
    "for cur_d in range(1, 500000):\n",
    "    c1, n1 = heappop(heap)\n",
    "    c2, n2 = heappop(heap)    \n",
    "    c3, n3 = heappop(heap) \n",
    "    \n",
    "    cs[n1] += 1\n",
    "    cs[n2] += 1\n",
    "    cs[n3] += 1\n",
    "    \n",
    "    heappush(heap, (c1 + 1, n1))\n",
    "    heappush(heap, (c2 + 1, n2))    \n",
    "    heappush(heap, (c3 + 1, n3))\n",
    "    \n",
    "    while cur_q < q and qs[cur_q][0] == cur_d:\n",
    "        num = qs[cur_q][1] - 1\n",
    "        \n",
    "        result[qs[cur_q][2]] = cs[num] - init_cs[num]\n",
    "        cur_q += 1\n",
    "        \n",
    "frontier_v = cs[0]\n",
    "cur_frontier = n - 1\n",
    "for i in range(n):\n",
    "    if cs[i] < frontier_v:\n",
    "        cur_frontier = i - 1\n",
    "        break\n",
    "\n",
    "while cur_q < q:\n",
    "    d, num, qi = qs[cur_q]\n",
    "    num -= 1\n",
    "    \n",
    "    diff = d - cur_d\n",
    "    cur_d = d\n",
    "    \n",
    "    cur_frontier += diff * 3\n",
    "    added = cur_frontier // n\n",
    "    cur_frontier %= n\n",
    "    \n",
    "    frontier_v += added\n",
    "    \n",
    "    if num <= cur_frontier:\n",
    "        result[qi] = frontier_v - init_cs[num]\n",
    "    else:\n",
    "        result[qi] = frontier_v - 1 - init_cs[num]\n",
    "        \n",
    "    cur_q += 1\n",
    "        \n",
    "print('\\n'.join(map(str, result)))"
   ]
  },
  {
   "cell_type": "code",
   "execution_count": 31,
   "metadata": {},
   "outputs": [
    {
     "data": {
      "text/plain": [
       "[120004, 120004, 120004, 120004, 120003]"
      ]
     },
     "execution_count": 31,
     "metadata": {},
     "output_type": "execute_result"
    }
   ],
   "source": [
    "cs"
   ]
  },
  {
   "cell_type": "code",
   "execution_count": 7,
   "metadata": {},
   "outputs": [
    {
     "data": {
      "text/plain": [
       "3"
      ]
     },
     "execution_count": 7,
     "metadata": {},
     "output_type": "execute_result"
    }
   ],
   "source": [
    "init"
   ]
  }
 ],
 "metadata": {
  "kernelspec": {
   "display_name": "Python 3",
   "language": "python",
   "name": "python3"
  },
  "language_info": {
   "codemirror_mode": {
    "name": "ipython",
    "version": 3
   },
   "file_extension": ".py",
   "mimetype": "text/x-python",
   "name": "python",
   "nbconvert_exporter": "python",
   "pygments_lexer": "ipython3",
   "version": "3.8.3"
  }
 },
 "nbformat": 4,
 "nbformat_minor": 4
}
