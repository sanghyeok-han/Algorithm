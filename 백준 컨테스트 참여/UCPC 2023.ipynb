{
 "cells": [
  {
   "cell_type": "markdown",
   "metadata": {},
   "source": [
    "D"
   ]
  },
  {
   "cell_type": "code",
   "execution_count": 26,
   "metadata": {},
   "outputs": [
    {
     "name": "stdout",
     "output_type": "stream",
     "text": [
      "11\n",
      "ABABAB\n",
      "BBBBBB\n",
      "ABABAB\n",
      "BBBBBB\n"
     ]
    }
   ],
   "source": [
    "from collections import defaultdict as dd  \n",
    "import sys\n",
    "input = lambda: sys.stdin.readline().rstrip()\n",
    "\n",
    "n, m, k = map(int, input().split())\n",
    "li = [input() for _ in range(n)]\n",
    "\n",
    "total_tile_c = (n // k) * (m // k)\n",
    "x_start = 0\n",
    "colors = [dd(int) for _ in range(k * k)]\n",
    "while True:\n",
    "    y_start = 0\n",
    "    while True:\n",
    "        cur_num = 0\n",
    "        for i in range(x_start, x_start + k):\n",
    "            for j in range(y_start, y_start + k):\n",
    "                colors[cur_num][li[i][j]] += 1\n",
    "                cur_num += 1\n",
    "                \n",
    "        y_start += k\n",
    "        if y_start >= m:\n",
    "            break\n",
    "    x_start += k\n",
    "    if x_start >= n:\n",
    "        break\n",
    "        \n",
    "\n",
    "tile = [[''] * k for _ in range(k)]\n",
    "cur_tile_x = 0\n",
    "cur_tile_y = 0\n",
    "result_c = 0\n",
    "for i in range(len(colors)):\n",
    "    max_c = 0\n",
    "    max_c_color = -1\n",
    "    for color, c in colors[i].items():\n",
    "        if c > max_c:\n",
    "            max_c = c\n",
    "            max_c_color = color\n",
    "            \n",
    "    tile[cur_tile_x][cur_tile_y] = max_c_color\n",
    "    result_c += total_tile_c - max_c\n",
    "    \n",
    "    cur_tile_y += 1\n",
    "    if cur_tile_y == k:\n",
    "        cur_tile_y = 0\n",
    "        cur_tile_x += 1\n",
    "        \n",
    "print(result_c)\n",
    "\n",
    "for i in range(k):\n",
    "    tile[i] = tile[i] * (m // k)\n",
    "\n",
    "for _ in range(n // k):\n",
    "    for v in tile:\n",
    "        print(''.join(v))"
   ]
  },
  {
   "cell_type": "markdown",
   "metadata": {},
   "source": [
    "K번 - 세미나 배정"
   ]
  },
  {
   "cell_type": "code",
   "execution_count": 71,
   "metadata": {},
   "outputs": [
    {
     "name": "stdout",
     "output_type": "stream",
     "text": [
      "5 3\n",
      "4 6 3 5 7\n",
      "2\n"
     ]
    }
   ],
   "source": [
    "from collections import deque\n",
    "\n",
    "n, t = map(int, input().split())\n",
    "li = sorted(map(int, input().split()), reverse=True)\n",
    "\n",
    "start = 1\n",
    "end = n + 1\n",
    "result = n + 1\n",
    "while start <= end:\n",
    "    mid = (start + end) // 2\n",
    "    \n",
    "    deq = deque()\n",
    "    ip = True\n",
    "    for i in range(n):\n",
    "        if len(deq) < mid:\n",
    "            deq.appendleft(li[i])\n",
    "        else:\n",
    "            cri = deq[mid - 1]\n",
    "\n",
    "            start_rightest_limit = cri - t\n",
    "            if start_rightest_limit < 1:\n",
    "                ip = False\n",
    "                break\n",
    "\n",
    "            start_possible_leftest = li[i] - t + 1\n",
    "            if start_rightest_limit < start_possible_leftest:\n",
    "                ip = False\n",
    "                break\n",
    "\n",
    "            deq.appendleft(min(li[i], start_rightest_limit))\n",
    "\n",
    "    if ip:\n",
    "        result = mid\n",
    "        end = mid - 1\n",
    "    else:\n",
    "        start = mid + 1\n",
    "        \n",
    "print(result)"
   ]
  },
  {
   "cell_type": "markdown",
   "metadata": {},
   "source": [
    "I 자석"
   ]
  },
  {
   "cell_type": "code",
   "execution_count": null,
   "metadata": {},
   "outputs": [],
   "source": [
    "inf = float('inf')\n",
    "\n",
    "n, k = map(int input().split())\n",
    "li = list(map(int, input().split()))\n",
    "\n",
    "# less to more case\n",
    "cur_best = li[0]\n",
    "to_plus = 0\n",
    "max_r = -inf\n",
    "for i in range(1, n):\n",
    "    li[i]\n",
    "    \n",
    "    max_r = max(max_r, r)\n",
    "    \n",
    "    to_minus"
   ]
  }
 ],
 "metadata": {
  "kernelspec": {
   "display_name": "Python 3",
   "language": "python",
   "name": "python3"
  },
  "language_info": {
   "codemirror_mode": {
    "name": "ipython",
    "version": 3
   },
   "file_extension": ".py",
   "mimetype": "text/x-python",
   "name": "python",
   "nbconvert_exporter": "python",
   "pygments_lexer": "ipython3",
   "version": "3.8.3"
  }
 },
 "nbformat": 4,
 "nbformat_minor": 4
}
