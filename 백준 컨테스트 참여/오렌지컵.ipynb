{
 "cells": [
  {
   "cell_type": "markdown",
   "metadata": {},
   "source": [
    "### A번 - 오렌지컵 출제하기 "
   ]
  },
  {
   "cell_type": "raw",
   "metadata": {},
   "source": [
    "### 최대힙 구현\n",
    "출제할 수보다 heap의 길이가 커지면 같아질 때까지 계속 숫자를 빼냄"
   ]
  },
  {
   "cell_type": "code",
   "execution_count": 13,
   "metadata": {},
   "outputs": [
    {
     "name": "stdout",
     "output_type": "stream",
     "text": [
      "6 3\n",
      "1 1 1 2 2 2\n",
      "1 2 3 7 8 9\n",
      "-1 10 6 6 6 6 "
     ]
    }
   ],
   "source": [
    "from heapq import heapify, heappush, heappop\n",
    "import sys\n",
    "# input = lambda: sys.stdin.readline().rstrip()\n",
    "\n",
    "n, k = map(int, input().split()) # n: 문제 아이디어 수, k: 출제할 문제의 수\n",
    "# L은 1, 2, ..., n\n",
    "\n",
    "made_by = list(map(int, input().split()))\n",
    "spents = list(map(int, input().split()))\n",
    "\n",
    "heap = list(zip(spents, made_by))\n",
    "heapify(heap)\n",
    "\n",
    "cands = [[] for _ in range(n + 1)] # 각 L별로 출제 가능한 문제들\n",
    "counts = [0] * (n + 1) # 각 출제자가 출제한 문제의 수\n",
    "while heap:\n",
    "    spent, num = heappop(heap)\n",
    "    \n",
    "    cands[counts[num] + 1].append((spent, num))\n",
    "    counts[num] += 1\n",
    "    \n",
    "cur_result = 0\n",
    "for L in range(1, n + 1):\n",
    "    for spent, num in cands[L]:\n",
    "        heappush(heap, -spent)\n",
    "        cur_result += spent\n",
    "        \n",
    "    if len(heap) < k:\n",
    "        print(-1, end=' ')\n",
    "    else:\n",
    "        while len(heap) > k:\n",
    "            cur_result += heappop(heap)\n",
    "        print(cur_result, end=' ')"
   ]
  }
 ],
 "metadata": {
  "kernelspec": {
   "display_name": "Python 3",
   "language": "python",
   "name": "python3"
  },
  "language_info": {
   "codemirror_mode": {
    "name": "ipython",
    "version": 3
   },
   "file_extension": ".py",
   "mimetype": "text/x-python",
   "name": "python",
   "nbconvert_exporter": "python",
   "pygments_lexer": "ipython3",
   "version": "3.7.3"
  }
 },
 "nbformat": 4,
 "nbformat_minor": 4
}
