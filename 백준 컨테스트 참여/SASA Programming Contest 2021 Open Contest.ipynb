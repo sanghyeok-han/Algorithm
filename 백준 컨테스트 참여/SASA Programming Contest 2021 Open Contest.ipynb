{
 "cells": [
  {
   "cell_type": "markdown",
   "metadata": {},
   "source": [
    "A"
   ]
  },
  {
   "cell_type": "code",
   "execution_count": 4,
   "metadata": {},
   "outputs": [
    {
     "name": "stdout",
     "output_type": "stream",
     "text": [
      "3 4\n",
      "1\n"
     ]
    }
   ],
   "source": [
    "n, m = map(int, input().split())\n",
    "\n",
    "print(min(n, m) // 2)"
   ]
  },
  {
   "cell_type": "markdown",
   "metadata": {},
   "source": [
    "B"
   ]
  },
  {
   "cell_type": "code",
   "execution_count": 8,
   "metadata": {},
   "outputs": [
    {
     "name": "stdout",
     "output_type": "stream",
     "text": [
      "1\n",
      "1 4 15\n",
      "13 5 4\n",
      "IMPOSSIBLE\n"
     ]
    }
   ],
   "source": [
    "import sys\n",
    "input = lambda: sys.stdin.readline().rstrip()\n",
    "\n",
    "n = int(input())\n",
    "li = [list(map(int, input().split())) for _ in range(n + 1)]\n",
    "\n",
    "get_dist = lambda x1, y1, x2, y2: abs(x1 - x2) + abs(y1 - y2)\n",
    "x0, y0, e0 = li[0]\n",
    "speeds = [0] * (n + 1)\n",
    "max_speed = 0\n",
    "for i in range(1, n + 1):\n",
    "    x1, y1, _ = li[i]\n",
    "    \n",
    "    init_power = max(0, e0 - get_dist(x1, y1, x0, y0))\n",
    "    \n",
    "    to_sub = 0\n",
    "    for j in range(1, n + 1):\n",
    "        x2, y2, e2 = li[j]\n",
    "        \n",
    "        power = max(0, e2 - get_dist(x1, y1, x2, y2))\n",
    "        to_sub += power\n",
    "        \n",
    "    max_speed = max(max_speed, init_power - to_sub)\n",
    "    \n",
    "if max_speed == 0:\n",
    "    print('IMPOSSIBLE')\n",
    "else:\n",
    "    print(max_speed)"
   ]
  },
  {
   "cell_type": "markdown",
   "metadata": {},
   "source": [
    "C1"
   ]
  },
  {
   "cell_type": "code",
   "execution_count": 11,
   "metadata": {},
   "outputs": [
    {
     "name": "stdout",
     "output_type": "stream",
     "text": [
      "11\n"
     ]
    }
   ],
   "source": [
    "n = int(input())\n",
    "li = list(map(int, input().split()))\n",
    "\n",
    "mod = 1000000007\n",
    "\n",
    "s = sum(li)\n",
    "total = 0\n",
    "for i in range(n):\n",
    "    s -= li[i]\n",
    "    total += li[i] * s\n",
    "    total %= mod\n",
    "    \n",
    "print(total)"
   ]
  },
  {
   "cell_type": "markdown",
   "metadata": {},
   "source": [
    "C2"
   ]
  },
  {
   "cell_type": "code",
   "execution_count": 67,
   "metadata": {},
   "outputs": [
    {
     "name": "stdout",
     "output_type": "stream",
     "text": [
      "4 3\n",
      "3 1 1 2\n"
     ]
    }
   ],
   "source": [
    "from collections import Counter\n",
    "\n",
    "mod = 1000000007\n",
    "\n",
    "n, m = map(int, input().split())\n",
    "c = Counter(map(int, input().split()))"
   ]
  },
  {
   "cell_type": "code",
   "execution_count": 82,
   "metadata": {},
   "outputs": [
    {
     "data": {
      "text/plain": [
       "[3, 2, 2]"
      ]
     },
     "execution_count": 82,
     "metadata": {},
     "output_type": "execute_result"
    }
   ],
   "source": [
    "li = []\n",
    "for key, v in c.items():\n",
    "    li.append(key * v)\n",
    "    \n",
    "li"
   ]
  },
  {
   "cell_type": "code",
   "execution_count": 75,
   "metadata": {},
   "outputs": [
    {
     "name": "stdout",
     "output_type": "stream",
     "text": [
      "0 1 2\n",
      "0 1 3\n",
      "0 1 4\n",
      "0 1 5\n",
      "0 2 3\n",
      "0 2 4\n",
      "0 2 5\n",
      "0 3 4\n",
      "0 3 5\n",
      "0 4 5\n",
      "1 2 3\n",
      "1 2 4\n",
      "1 2 5\n",
      "1 3 4\n",
      "1 3 5\n",
      "1 4 5\n",
      "2 3 4\n",
      "2 3 5\n",
      "2 4 5\n",
      "3 4 5\n"
     ]
    }
   ],
   "source": [
    "for i in range(6):\n",
    "    for j in range(i + 1, 6):\n",
    "        for k in range(j + 1, 6):\n",
    "            print(i, j, k)"
   ]
  },
  {
   "cell_type": "code",
   "execution_count": 86,
   "metadata": {},
   "outputs": [
    {
     "name": "stdout",
     "output_type": "stream",
     "text": [
      "4 3\n",
      "3 1 1 2\n",
      "12\n"
     ]
    }
   ],
   "source": [
    "from collections import Counter\n",
    "\n",
    "mod = 1000000007\n",
    "\n",
    "n, m = map(int, input().split())\n",
    "c = Counter(map(int, input().split()))\n",
    "\n",
    "li = []\n",
    "for key, v in c.items():\n",
    "    li.append(key * v)\n",
    "n = len(li)\n",
    "    \n",
    "dp = [[0] * n for _ in range(m + 1)] # dp[현재 몇 개의 인자들의 곱의 합인지][시작 인덱스]\n",
    "\n",
    "cumul = 0\n",
    "for i in range(n - 1, -1, -1):\n",
    "    cumul += li[i]\n",
    "    cumul %= mod\n",
    "    dp[1][i] = cumul\n",
    "    \n",
    "for i in range(2, m + 1):\n",
    "    cumul = 0\n",
    "    for j in range(n - i, -1, -1):\n",
    "        cumul += li[j] * dp[i - 1][j + 1]\n",
    "        cumul %= mod\n",
    "        dp[i][j] = cumul\n",
    "        \n",
    "print(dp[m][0])"
   ]
  },
  {
   "cell_type": "code",
   "execution_count": null,
   "metadata": {},
   "outputs": [],
   "source": [
    "### 다른 사람 코드 수정본 (https://www.acmicpc.net/source/36259519)\n",
    "import sys\n",
    "input = sys.stdin.readline\n",
    "\n",
    "P = 1000000007\n",
    "n, m = map(int, input().split())\n",
    "L = list(map(int, input().split()))\n",
    "\n",
    "M = [0] * 100001\n",
    "for k in L:\n",
    "    M[k] += 1\n",
    "    \n",
    "S = []\n",
    "for i in range(100001):\n",
    "    if M[i] != 0:\n",
    "        S.append(i * M[i] % P)\n",
    "\n",
    "k = len(S)\n",
    "DP = [[1] * (k+1) for _ in range(m+1)]\n",
    "for r in range(1, m+1):\n",
    "    for c in range(k+1):\n",
    "        if r > c:\n",
    "            DP[r][c] = 0\n",
    "        else:\n",
    "            DP[r][c] = (DP[r][c-1] + DP[r-1][c-1] * S[c-1]) % P\n",
    "            \n",
    "print(DP[-1][-1] % P)"
   ]
  },
  {
   "cell_type": "markdown",
   "metadata": {},
   "source": [
    "D"
   ]
  },
  {
   "cell_type": "code",
   "execution_count": 35,
   "metadata": {},
   "outputs": [
    {
     "name": "stdout",
     "output_type": "stream",
     "text": [
      "5 2\n",
      "1 3 7 9 10\n"
     ]
    }
   ],
   "source": [
    "n, q = map(int, input().split())\n",
    "ps = sorted(map(int, input().split()))\n",
    "\n",
    "left_counts = [0] * 101\n",
    "\n",
    "for i in range(1, n):\n",
    "    for j in range(ps[i - 1] + 1, ps[i] + 1):\n",
    "        left_counts[j] = i\n",
    "        \n",
    "for j in range(ps[i] + 1, 101):\n",
    "    left_counts[j] = i + 1"
   ]
  },
  {
   "cell_type": "code",
   "execution_count": 20,
   "metadata": {},
   "outputs": [],
   "source": [
    "sum_ps = [0]\n",
    "cumul = 0\n",
    "for i in range(n):\n",
    "    cumul += ps[i]\n",
    "    sum_ps.append(cumul)"
   ]
  },
  {
   "cell_type": "code",
   "execution_count": 28,
   "metadata": {},
   "outputs": [
    {
     "data": {
      "text/plain": [
       "30"
      ]
     },
     "execution_count": 28,
     "metadata": {},
     "output_type": "execute_result"
    }
   ],
   "source": [
    "1 + 3 + 7 + 9 + 10"
   ]
  },
  {
   "cell_type": "code",
   "execution_count": 30,
   "metadata": {},
   "outputs": [
    {
     "data": {
      "text/plain": [
       "30"
      ]
     },
     "execution_count": 30,
     "metadata": {},
     "output_type": "execute_result"
    }
   ],
   "source": [
    "12 * 5 - (1 + 3 + 7 + 9 + 10)"
   ]
  },
  {
   "cell_type": "code",
   "execution_count": 38,
   "metadata": {},
   "outputs": [
    {
     "name": "stdout",
     "output_type": "stream",
     "text": [
      "18\n"
     ]
    }
   ],
   "source": [
    "x = 4\n",
    "\n",
    "left_counts[x]\n",
    "\n",
    "t1 = x * left_counts[x] - sum_ps[left_counts[x]]\n",
    "t2 = sum_ps[-1] - sum_ps[left_counts[x]] - x * (n - left_counts[x])\n",
    "\n",
    "print(t1 + t2)"
   ]
  },
  {
   "cell_type": "code",
   "execution_count": 44,
   "metadata": {},
   "outputs": [
    {
     "name": "stdout",
     "output_type": "stream",
     "text": [
      "1 3\n",
      "4\n",
      "4\n",
      "0\n",
      "12\n",
      "8\n",
      "5\n",
      "1\n"
     ]
    }
   ],
   "source": [
    "import sys\n",
    "# input = lambda: sys.stdin.readline().rstrip()\n",
    "\n",
    "n, q = map(int, input().split())\n",
    "ps = sorted(map(int, input().split()))\n",
    "\n",
    "left_counts = [0] * 10000001\n",
    "i = 0\n",
    "for i in range(1, n):\n",
    "    for j in range(ps[i - 1] + 1, ps[i] + 1):\n",
    "        left_counts[j] = i\n",
    "        \n",
    "for j in range(ps[i] + 1, 10000001):\n",
    "    left_counts[j] = i + 1\n",
    "    \n",
    "sum_ps = [0]\n",
    "cumul = 0\n",
    "for i in range(n):\n",
    "    cumul += ps[i]\n",
    "    sum_ps.append(cumul)\n",
    "\n",
    "for _ in range(q):\n",
    "    x = int(input())\n",
    "    \n",
    "    t1 = x * left_counts[x] - sum_ps[left_counts[x]]\n",
    "    t2 = sum_ps[-1] - sum_ps[left_counts[x]] - x * (n - left_counts[x])\n",
    "\n",
    "    print(t1 + t2)"
   ]
  },
  {
   "cell_type": "markdown",
   "metadata": {},
   "source": [
    "E"
   ]
  },
  {
   "cell_type": "code",
   "execution_count": 57,
   "metadata": {},
   "outputs": [
    {
     "name": "stdout",
     "output_type": "stream",
     "text": [
      "5\n",
      "3 6 10 1 12\n",
      "1 2 3 34\n"
     ]
    }
   ],
   "source": [
    "n = int(input())\n",
    "li = list(map(int, input().split()))\n",
    "p, q, r, S = map(int, input().split())\n",
    "\n"
   ]
  },
  {
   "cell_type": "code",
   "execution_count": 63,
   "metadata": {},
   "outputs": [
    {
     "name": "stdout",
     "output_type": "stream",
     "text": [
      "3\n",
      "2 5 8\n",
      "1 4 6 29\n",
      "inf\n"
     ]
    }
   ],
   "source": [
    "n = int(input())\n",
    "li = list(map(int, input().split()))\n",
    "p, q, r, S = map(int, input().split())\n",
    "\n",
    "start = 1\n",
    "end = int(2*1e12)\n",
    "\n",
    "result = float('inf')\n",
    "while start <= end:\n",
    "    k = (start + end) // 2\n",
    "    \n",
    "    total = 0\n",
    "    for v in li:\n",
    "        if v > k + r:\n",
    "            total += v - p\n",
    "        elif v < k:\n",
    "            total += v + q\n",
    "        else:\n",
    "            total += v\n",
    "            \n",
    "    if total < S:\n",
    "        start = k + 1\n",
    "    else:\n",
    "        result = k\n",
    "        end = k - 1\n",
    "        \n",
    "if result == float('inf'):\n",
    "    print(-1)\n",
    "else:\n",
    "    print(result)"
   ]
  },
  {
   "cell_type": "markdown",
   "metadata": {},
   "source": [
    "F"
   ]
  },
  {
   "cell_type": "code",
   "execution_count": 64,
   "metadata": {},
   "outputs": [
    {
     "name": "stdout",
     "output_type": "stream",
     "text": [
      "2\n",
      "1 1\n",
      "32 91 100 100\n",
      "57 8 68 71\n"
     ]
    }
   ],
   "source": [
    "n = int(input())\n",
    "a, b = map(int, input().split())\n",
    "li = [list(map(int, input().split())) for _ in range(n)]"
   ]
  },
  {
   "cell_type": "code",
   "execution_count": 65,
   "metadata": {},
   "outputs": [
    {
     "name": "stdout",
     "output_type": "stream",
     "text": [
      "162\n"
     ]
    }
   ],
   "source": [
    "from collections import deque\n",
    "\n",
    "n = int(input())\n",
    "a, b = map(int, input().split())\n",
    "li = [list(map(int, input().split())) for _ in range(n)]\n",
    "\n",
    "queue = deque()\n",
    "queue.append((0, 0, 0, False)) # (현재 만족도, 정독실 또는 소학습실 자습 횟수, 요양 횟수, 바로 전 휴게실 자습 여부)\n",
    "for i in range(n):\n",
    "    p, q, r, s = li[i]\n",
    "    \n",
    "    cur_len = len(queue)\n",
    "    for _ in range(cur_len):\n",
    "        cs, fc, ac, ir = queue.popleft() # consent, formal count, absent count, is former\n",
    "        \n",
    "        if fc + n - i < b:\n",
    "            continue\n",
    "        \n",
    "        # 정독실 또는 소학습실\n",
    "        n_cs = cs + max(p, q)\n",
    "        queue.append((n_cs, fc + 1, ac, False))\n",
    "        \n",
    "        # 요양\n",
    "        if ac + 1 <= a:\n",
    "            n_cs = cs + s\n",
    "            queue.append((n_cs, fc, ac + 1, False))\n",
    "        \n",
    "        # 휴게실\n",
    "        if not ir:\n",
    "            n_cs = cs + r\n",
    "            queue.append((n_cs, fc, ac, True))\n",
    "    \n",
    "max_cs = 0\n",
    "while queue:\n",
    "    cs, fc, _, _ = queue.popleft()\n",
    "    if fc >= b:\n",
    "        max_cs = max(max_cs, cs)\n",
    "        \n",
    "print(max_cs)"
   ]
  },
  {
   "cell_type": "code",
   "execution_count": 66,
   "metadata": {},
   "outputs": [
    {
     "data": {
      "text/plain": [
       "[[[[0, 0], [0, 0]], [[0, 0], [0, 0]]],\n",
       " [[[0, 0], [0, 0]], [[0, 0], [0, 0]]],\n",
       " [[[0, 0], [0, 0]], [[0, 0], [0, 0]]]]"
      ]
     },
     "execution_count": 66,
     "metadata": {},
     "output_type": "execute_result"
    }
   ],
   "source": [
    "dp = [[[[0] * 2 for _ in range(n)] for _ in range(n)] for _ in range(n + 1)] # dp[n일][정독, 소학습 횟수][요양 신청 횟수][이전 휴게실 자습 여부]\n",
    "\n",
    "for i in range(n):\n",
    "    p, q, r, s = li[i]\n",
    "    \n",
    "    dp[]"
   ]
  },
  {
   "cell_type": "markdown",
   "metadata": {},
   "source": [
    "G"
   ]
  },
  {
   "cell_type": "code",
   "execution_count": 45,
   "metadata": {},
   "outputs": [
    {
     "name": "stdout",
     "output_type": "stream",
     "text": [
      "4\n"
     ]
    }
   ],
   "source": [
    "n = int(input())"
   ]
  },
  {
   "cell_type": "code",
   "execution_count": 53,
   "metadata": {},
   "outputs": [],
   "source": [
    "from math import gcd\n",
    "\n",
    "counts = []\n",
    "for n in range(2, 50):\n",
    "    count = 0\n",
    "    for i in range(1, n + 1):\n",
    "        for j in range(i + 1, n + 1):\n",
    "            if gcd(i, j) == 1:\n",
    "                count += 1\n",
    "    counts.append(count)"
   ]
  },
  {
   "cell_type": "code",
   "execution_count": 54,
   "metadata": {},
   "outputs": [],
   "source": [
    "diffs = []\n",
    "for i in range(len(counts) - 1):\n",
    "    diffs.append(counts[i + 1] - counts[i])"
   ]
  },
  {
   "cell_type": "code",
   "execution_count": 56,
   "metadata": {
    "scrolled": true
   },
   "outputs": [
    {
     "name": "stdout",
     "output_type": "stream",
     "text": [
      "[2, 2, 4, 2, 6, 4, 6, 4, 10, 4, 12, 6, 8, 8, 16, 6, 18, 8, 12, 10, 22, 8, 20, 12, 18, 12, 28, 8, 30, 16, 20, 16, 24, 12, 36, 18, 24, 16, 40, 12, 42, 20, 24, 22, 46, 16, 42]\n"
     ]
    }
   ],
   "source": [
    "print(diffs)"
   ]
  },
  {
   "cell_type": "markdown",
   "metadata": {},
   "source": [
    "#### 이하는 오일러 피 함수 공식을 익혀서 재시도"
   ]
  },
  {
   "cell_type": "code",
   "execution_count": 107,
   "metadata": {},
   "outputs": [
    {
     "name": "stdout",
     "output_type": "stream",
     "text": [
      "2\n",
      "1\n"
     ]
    }
   ],
   "source": [
    "def get_divisors(n):\n",
    "    divisors = set()\n",
    "    \n",
    "    for mod in range(2, int(n ** 0.5) + 1):\n",
    "        while n % mod == 0:\n",
    "            n //= mod\n",
    "            divisors.add(mod)\n",
    "            \n",
    "        if n == 1:\n",
    "            break\n",
    "    \n",
    "    if n != 1:\n",
    "        divisors.add(n)\n",
    "            \n",
    "    return divisors\n",
    "    \n",
    "n = int(input())\n",
    "\n",
    "total = 0\n",
    "for i in range(2, n + 1):\n",
    "    dvs = get_divisors(i)\n",
    "\n",
    "    temp = i\n",
    "    for v in dvs:\n",
    "        temp *= (1 - 1 / v)\n",
    "\n",
    "    total += int(round(temp, 10))\n",
    "\n",
    "print(total)"
   ]
  }
 ],
 "metadata": {
  "kernelspec": {
   "display_name": "Python 3",
   "language": "python",
   "name": "python3"
  },
  "language_info": {
   "codemirror_mode": {
    "name": "ipython",
    "version": 3
   },
   "file_extension": ".py",
   "mimetype": "text/x-python",
   "name": "python",
   "nbconvert_exporter": "python",
   "pygments_lexer": "ipython3",
   "version": "3.7.3"
  }
 },
 "nbformat": 4,
 "nbformat_minor": 4
}
