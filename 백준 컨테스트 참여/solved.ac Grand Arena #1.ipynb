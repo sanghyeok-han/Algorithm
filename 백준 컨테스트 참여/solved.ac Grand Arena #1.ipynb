{
 "cells": [
  {
   "cell_type": "markdown",
   "metadata": {},
   "source": [
    "### A"
   ]
  },
  {
   "cell_type": "code",
   "execution_count": 3,
   "metadata": {},
   "outputs": [
    {
     "name": "stdout",
     "output_type": "stream",
     "text": [
      "9\n",
      "9\n",
      "9\n",
      "0\n",
      "0\n",
      "9\n"
     ]
    }
   ],
   "source": [
    "from collections import Counter\n",
    "\n",
    "li = [int(input()) for _ in range(5)]\n",
    "\n",
    "ct = Counter(li)\n",
    "\n",
    "for key in ct:\n",
    "    if ct[key] == 1 or ct[key] == 3 or ct[key] == 5:\n",
    "        print(key)\n",
    "        break"
   ]
  },
  {
   "cell_type": "markdown",
   "metadata": {},
   "source": [
    "### B"
   ]
  },
  {
   "cell_type": "code",
   "execution_count": 4,
   "metadata": {},
   "outputs": [
    {
     "name": "stdout",
     "output_type": "stream",
     "text": [
      "5\n",
      "charlie\n",
      "echo\n",
      "?\n",
      "romeo\n",
      "oscar\n",
      "3\n",
      "alfa\n",
      "oscar\n",
      "or\n",
      "or\n"
     ]
    }
   ],
   "source": [
    "import sys\n",
    "input = lambda: sys.stdin.readline().rstrip()\n",
    "\n",
    "n = int(input())\n",
    "li = [input() for _ in range(n)]\n",
    "\n",
    "to_find = li.index('?')\n",
    "\n",
    "start = ''\n",
    "end = '' \n",
    "if to_find - 1 >= 0:\n",
    "    start = li[to_find - 1][-1]\n",
    "\n",
    "if to_find + 1 < n:\n",
    "    end = li[to_find + 1][0]\n",
    "    \n",
    "st = set(li)\n",
    "\n",
    "m = int(input())\n",
    "result = ''\n",
    "for _ in range(m):\n",
    "    a = input()\n",
    "    \n",
    "    if start and a[0] != start:\n",
    "        continue\n",
    "    if end and a[-1] != end:\n",
    "        continue\n",
    "    if a in st:\n",
    "        continue\n",
    "        \n",
    "    print(a)\n",
    "    break"
   ]
  },
  {
   "cell_type": "markdown",
   "metadata": {},
   "source": [
    "### H"
   ]
  },
  {
   "cell_type": "code",
   "execution_count": 6,
   "metadata": {},
   "outputs": [
    {
     "name": "stdout",
     "output_type": "stream",
     "text": [
      "2 3 3\n",
      "2 2 1\n",
      "1 2 2\n",
      "2 3 -3\n",
      "0 1 -3\n",
      "2 3 -1\n"
     ]
    }
   ],
   "source": [
    "from collections import defaultdict as dd\n",
    "import io, os, sys\n",
    "input = io.BytesIO(os.read(0, os.fstat(0).st_size)).readline\n",
    "\n",
    "r_to_adds = dd(int)\n",
    "c_to_adds = dd(int)\n",
    "\n",
    "n, m, q = map(int, input().split())\n",
    "li = [[0] * m for _ in range(n)]\n",
    "\n",
    "for i in range(q):\n",
    "    tp, u, v = map(int, input().split())\n",
    "    \n",
    "    if tp == 1:\n",
    "        r_to_adds[u - 1] += v\n",
    "    else:\n",
    "        c_to_adds[u - 1] += v\n",
    "        \n",
    "for i in range(n):\n",
    "    for j in range(m):\n",
    "        if i in r_to_adds:\n",
    "            li[i][j] += r_to_adds[i]\n",
    "        if j in c_to_adds:\n",
    "            li[i][j] += c_to_adds[j]\n",
    "            \n",
    "for v in li:\n",
    "    print(*v)"
   ]
  },
  {
   "cell_type": "markdown",
   "metadata": {},
   "source": [
    "### E"
   ]
  },
  {
   "cell_type": "code",
   "execution_count": 12,
   "metadata": {},
   "outputs": [
    {
     "name": "stdout",
     "output_type": "stream",
     "text": [
      "5 6\n",
      "1 2 3 4 5\n",
      "12\n"
     ]
    }
   ],
   "source": [
    "from collections import Counter\n",
    "\n",
    "mod = 1000000007\n",
    "\n",
    "n, k = map(int, input().split())\n",
    "li = list(map(int, input().split()))\n",
    "\n",
    "nli = [v % k for v in li]\n",
    "\n",
    "ct = Counter(nli)\n",
    "\n",
    "cur = 1\n",
    "if k % 2 == 1:\n",
    "    for a in range(1, k // 2 + 1):\n",
    "        b = k - a\n",
    "        \n",
    "        to_mul = pow(2, ct[a], mod) + pow(2, ct[b], mod) - 1\n",
    "        to_mul %= mod\n",
    "        \n",
    "        cur *= to_mul\n",
    "        cur %= mod\n",
    "        \n",
    "    cur *= (1 + ct[0])\n",
    "    cur %= mod\n",
    "else:\n",
    "    for a in range(1, k // 2):\n",
    "        b = k - a\n",
    "        \n",
    "        to_mul = pow(2, ct[a], mod) + pow(2, ct[b], mod) - 1\n",
    "        to_mul %= mod\n",
    "        \n",
    "        cur *= to_mul\n",
    "        cur %= mod\n",
    "        \n",
    "    cur *= (1 + ct[0])\n",
    "    cur %= mod    \n",
    "    \n",
    "    cur *= (1 + ct[k // 2])\n",
    "    cur %= mod    \n",
    "\n",
    "cur -= (n + 1)\n",
    "cur %= mod\n",
    "\n",
    "print(cur)"
   ]
  },
  {
   "cell_type": "markdown",
   "metadata": {},
   "source": [
    "### G"
   ]
  },
  {
   "cell_type": "code",
   "execution_count": 1,
   "metadata": {},
   "outputs": [
    {
     "name": "stdout",
     "output_type": "stream",
     "text": [
      "5\n",
      "1 2 3 4 5\n",
      "6\n",
      "1 2 3 4 5 6\n",
      "1 2 2 4 2 5\n"
     ]
    }
   ],
   "source": [
    "import io, os, sys\n",
    "input = io.BytesIO(os.read(0, os.fstat(0).st_size)).readline\n",
    "\n",
    "def get_divisors(num):\n",
    "    divisors = []\n",
    "    for mod in range(1, int(num ** 0.5)):\n",
    "        if num % mod == 0:\n",
    "            divisors.append(mod)\n",
    "            divisors.append(num // mod)\n",
    "            \n",
    "    mod = int(num ** 0.5)\n",
    "    if num % mod == 0:\n",
    "        divisors.append(mod)\n",
    "        if num // mod != mod:\n",
    "            divisors.append(num // mod)\n",
    "            \n",
    "    return divisors\n",
    "\n",
    "dp = [0] * 100001\n",
    "\n",
    "dp[1] = 1\n",
    "for num in range(2, 100001):\n",
    "    c = 0\n",
    "    for div in get_divisors(num):\n",
    "        if div == num:\n",
    "            continue\n",
    "        c += dp[div]\n",
    "        \n",
    "    dp[num] = c\n",
    "\n",
    "n = int(input())\n",
    "st = set(map(int, input().split()))\n",
    "\n",
    "q = int(input())\n",
    "nums = list(map(int, input().split()))\n",
    "\n",
    "def get_result(num):\n",
    "    result = 0\n",
    "    for div in get_divisors(num):\n",
    "        if div in st:\n",
    "            to_mul = num // div\n",
    "            result += dp[to_mul]\n",
    "    return result\n",
    "        \n",
    "result = [get_result(v) for v in nums]\n",
    "print(*result)"
   ]
  },
  {
   "cell_type": "markdown",
   "metadata": {},
   "source": [
    "### I"
   ]
  },
  {
   "cell_type": "code",
   "execution_count": 40,
   "metadata": {},
   "outputs": [
    {
     "name": "stdout",
     "output_type": "stream",
     "text": [
      "4 1\n",
      "1\n",
      "1\n",
      "1\n",
      "1\n",
      "1\n",
      "2 1 1\n"
     ]
    }
   ],
   "source": [
    "from collections import Counter\n",
    "import io, os, sys\n",
    "# input = io.BytesIO(os.read(0, os.fstat(0).st_size)).readline\n",
    "\n",
    "n, m = map(int, input().split())\n",
    "li = [list(map(int, input().split())) for _ in range(n)]\n",
    "\n",
    "r_to_adds = [0] * n\n",
    "\n",
    "for i in range(n):\n",
    "    cri = li[i][0]\n",
    "    r_to_adds[i] = cri\n",
    "    for j in range(m):\n",
    "        li[i][j] -= cri\n",
    "        \n",
    "ip = True\n",
    "for i in range(1, n):\n",
    "    if li[i] != li[0]:\n",
    "        ip = False\n",
    "        break\n",
    "        \n",
    "if not ip:\n",
    "    print(-1)\n",
    "else:\n",
    "    c_to_adds = li[0]\n",
    "    \n",
    "    rs = Counter(r_to_adds)\n",
    "    cs = Counter(c_to_adds)\n",
    "    \n",
    "    max_c = 0\n",
    "    max_c_r_key = 0\n",
    "    for r_key in rs:\n",
    "        c_key = -r_key\n",
    "        \n",
    "        c = rs[r_key] + cs[c_key]\n",
    "        if c > max_c:\n",
    "            max_c = c\n",
    "            max_c_r_key = r_key\n",
    "            \n",
    "    for c_key in cs:\n",
    "        r_key = -c_key\n",
    "        \n",
    "        c = rs[r_key] + cs[c_key]\n",
    "        if c > max_c:\n",
    "            max_c = c\n",
    "            max_c_r_key = r_key        \n",
    "    \n",
    "    result = []\n",
    "    for i in range(n):\n",
    "        r_to_adds[i] -= max_c_r_key\n",
    "        if r_to_adds[i] != 0:\n",
    "            result.append(f'1 {i + 1} {r_to_adds[i]}')\n",
    "        \n",
    "    for j in range(m):\n",
    "        c_to_adds[j] += max_c_r_key\n",
    "        if c_to_adds[j] != 0:\n",
    "            result.append(f'2 {j + 1} {c_to_adds[j]}')\n",
    "        \n",
    "    print(len(result))\n",
    "    print('\\n'.join(result))"
   ]
  },
  {
   "cell_type": "code",
   "execution_count": null,
   "metadata": {},
   "outputs": [],
   "source": [
    "1 4\n",
    "1 1 1 1\n",
    "4\n",
    "2 1 1\n",
    "2 2 1\n",
    "2 3 1\n",
    "2 4 1"
   ]
  },
  {
   "cell_type": "code",
   "execution_count": 27,
   "metadata": {},
   "outputs": [
    {
     "data": {
      "text/plain": [
       "(Counter({0: 1, 2: 1}), Counter({0: 1, 1: 1, -3: 1}))"
      ]
     },
     "execution_count": 27,
     "metadata": {},
     "output_type": "execute_result"
    }
   ],
   "source": [
    "rs, cs"
   ]
  },
  {
   "cell_type": "code",
   "execution_count": 29,
   "metadata": {},
   "outputs": [
    {
     "data": {
      "text/plain": [
       "([-2, 0], [2, 3, -1])"
      ]
     },
     "execution_count": 29,
     "metadata": {},
     "output_type": "execute_result"
    }
   ],
   "source": [
    "r_to_adds, c_to_adds"
   ]
  },
  {
   "cell_type": "code",
   "execution_count": 23,
   "metadata": {},
   "outputs": [
    {
     "data": {
      "text/plain": [
       "[[0, 1, -3], [0, 1, -3]]"
      ]
     },
     "execution_count": 23,
     "metadata": {},
     "output_type": "execute_result"
    }
   ],
   "source": [
    "li"
   ]
  },
  {
   "cell_type": "markdown",
   "metadata": {},
   "source": [
    "### C"
   ]
  },
  {
   "cell_type": "markdown",
   "metadata": {},
   "source": [
    "음수가 진행 중이고 양수를 만났을 때 양수가 커버 가능하면 커버하고 아니면 분리함\n",
    "양수가 있고 그 후로 음수면 양수가 커버 가능하면 커버함"
   ]
  },
  {
   "cell_type": "code",
   "execution_count": 8,
   "metadata": {},
   "outputs": [
    {
     "name": "stdout",
     "output_type": "stream",
     "text": [
      "5\n",
      "5\n",
      "-5 -5 -5 -5 5\n",
      "NO\n",
      "5\n",
      "-5 -5 -5 5 5\n",
      "YES\n",
      "5\n",
      "0 0 5 0 0\n",
      "YES\n",
      "5\n",
      "0 0 -5 0 0\n",
      "NO\n",
      "asdf\n"
     ]
    },
    {
     "ename": "ValueError",
     "evalue": "invalid literal for int() with base 10: 'asdf'",
     "output_type": "error",
     "traceback": [
      "\u001b[1;31m---------------------------------------------------------------------------\u001b[0m",
      "\u001b[1;31mValueError\u001b[0m                                Traceback (most recent call last)",
      "\u001b[1;32m<ipython-input-8-4fa7dbff852c>\u001b[0m in \u001b[0;36m<module>\u001b[1;34m\u001b[0m\n\u001b[0;32m      4\u001b[0m \u001b[0mt\u001b[0m \u001b[1;33m=\u001b[0m \u001b[0mint\u001b[0m\u001b[1;33m(\u001b[0m\u001b[0minput\u001b[0m\u001b[1;33m(\u001b[0m\u001b[1;33m)\u001b[0m\u001b[1;33m)\u001b[0m\u001b[1;33m\u001b[0m\u001b[1;33m\u001b[0m\u001b[0m\n\u001b[0;32m      5\u001b[0m \u001b[1;32mfor\u001b[0m \u001b[0m_\u001b[0m \u001b[1;32min\u001b[0m \u001b[0mrange\u001b[0m\u001b[1;33m(\u001b[0m\u001b[0mt\u001b[0m\u001b[1;33m)\u001b[0m\u001b[1;33m:\u001b[0m\u001b[1;33m\u001b[0m\u001b[1;33m\u001b[0m\u001b[0m\n\u001b[1;32m----> 6\u001b[1;33m     \u001b[0mn\u001b[0m \u001b[1;33m=\u001b[0m \u001b[0mint\u001b[0m\u001b[1;33m(\u001b[0m\u001b[0minput\u001b[0m\u001b[1;33m(\u001b[0m\u001b[1;33m)\u001b[0m\u001b[1;33m)\u001b[0m\u001b[1;33m\u001b[0m\u001b[1;33m\u001b[0m\u001b[0m\n\u001b[0m\u001b[0;32m      7\u001b[0m     \u001b[0mli\u001b[0m \u001b[1;33m=\u001b[0m \u001b[0mlist\u001b[0m\u001b[1;33m(\u001b[0m\u001b[0mmap\u001b[0m\u001b[1;33m(\u001b[0m\u001b[0mint\u001b[0m\u001b[1;33m,\u001b[0m \u001b[0minput\u001b[0m\u001b[1;33m(\u001b[0m\u001b[1;33m)\u001b[0m\u001b[1;33m.\u001b[0m\u001b[0msplit\u001b[0m\u001b[1;33m(\u001b[0m\u001b[1;33m)\u001b[0m\u001b[1;33m)\u001b[0m\u001b[1;33m)\u001b[0m\u001b[1;33m\u001b[0m\u001b[1;33m\u001b[0m\u001b[0m\n\u001b[0;32m      8\u001b[0m \u001b[1;33m\u001b[0m\u001b[0m\n",
      "\u001b[1;31mValueError\u001b[0m: invalid literal for int() with base 10: 'asdf'"
     ]
    }
   ],
   "source": [
    "import io, os, sys\n",
    "# input = io.BytesIO(os.read(0, os.fstat(0).st_size)).readline\n",
    "\n",
    "t = int(input())\n",
    "for _ in range(t):\n",
    "    n = int(input())\n",
    "    li = list(map(int, input().split()))\n",
    "\n",
    "    delta = 0\n",
    "    cur = li[0]\n",
    "    for i in range(1, n):\n",
    "        if cur < 0:\n",
    "            if li[i] <= 0:\n",
    "                cur += li[i]\n",
    "            else:\n",
    "                if abs(cur) < li[i]:\n",
    "                    li[i] -= abs(cur)\n",
    "                    cur = li[i]\n",
    "                else:\n",
    "                    delta -= 1\n",
    "                    cur = li[i]\n",
    "        elif cur == 0:\n",
    "            cur = li[i]\n",
    "        elif cur > 0:\n",
    "            if li[i] > 0:\n",
    "                delta += 1\n",
    "                cur = li[i]\n",
    "            else:\n",
    "                if cur - abs(li[i]) > 0:\n",
    "                    cur -= abs(li[i])\n",
    "                else:\n",
    "                    delta += 1\n",
    "                    cur = li[i]\n",
    "\n",
    "    if cur > 0:\n",
    "        delta += 1\n",
    "    elif cur < 0:\n",
    "        delta -= 1\n",
    "\n",
    "    if delta >= 1:\n",
    "        print('YES')\n",
    "    else:\n",
    "        print('NO')"
   ]
  }
 ],
 "metadata": {
  "kernelspec": {
   "display_name": "Python 3",
   "language": "python",
   "name": "python3"
  },
  "language_info": {
   "codemirror_mode": {
    "name": "ipython",
    "version": 3
   },
   "file_extension": ".py",
   "mimetype": "text/x-python",
   "name": "python",
   "nbconvert_exporter": "python",
   "pygments_lexer": "ipython3",
   "version": "3.8.3"
  }
 },
 "nbformat": 4,
 "nbformat_minor": 4
}
