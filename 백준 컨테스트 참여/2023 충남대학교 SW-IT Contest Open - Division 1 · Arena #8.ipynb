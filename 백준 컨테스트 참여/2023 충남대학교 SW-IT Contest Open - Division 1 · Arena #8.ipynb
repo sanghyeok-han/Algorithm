{
 "cells": [
  {
   "cell_type": "markdown",
   "metadata": {},
   "source": [
    "A"
   ]
  },
  {
   "cell_type": "code",
   "execution_count": 2,
   "metadata": {},
   "outputs": [
    {
     "name": "stdout",
     "output_type": "stream",
     "text": [
      "4 5\n",
      "7\n"
     ]
    }
   ],
   "source": [
    "a, b = map(int, input().split())\n",
    "\n",
    "r = min(a - 1, b)\n",
    "\n",
    "result = r * 2 + 1\n",
    "\n",
    "print(result)"
   ]
  },
  {
   "cell_type": "markdown",
   "metadata": {},
   "source": [
    "B"
   ]
  },
  {
   "cell_type": "code",
   "execution_count": 6,
   "metadata": {},
   "outputs": [
    {
     "name": "stdout",
     "output_type": "stream",
     "text": [
      "2\n",
      "2 1\n",
      "2 1\n",
      "0\n"
     ]
    }
   ],
   "source": [
    "n = int(input())\n",
    "A = list(map(int, input().split()))\n",
    "B = list(map(int, input().split()))\n",
    "\n",
    "diffs = [A[i] - B[i] for i in range(n)]\n",
    "\n",
    "posis = [v for v in diffs if v >= 1]\n",
    "\n",
    "r = sum(posis)\n",
    "\n",
    "print(r)"
   ]
  },
  {
   "cell_type": "markdown",
   "metadata": {},
   "source": [
    "C"
   ]
  },
  {
   "cell_type": "code",
   "execution_count": 7,
   "metadata": {},
   "outputs": [
    {
     "name": "stdout",
     "output_type": "stream",
     "text": [
      "1 3\n",
      "1 2 3\n",
      "YES\n",
      "1 3 5\n",
      "YES\n",
      "1 4 6\n",
      "NO\n"
     ]
    }
   ],
   "source": [
    "import io, os, sys\n",
    "input = io.BytesIO(os.read(0, os.fstat(0).st_size)).readline\n",
    "\n",
    "n, m = map(int, input().split())\n",
    "\n",
    "ends = [-1] * (n + 1)\n",
    "for _ in range(m):\n",
    "    k, s, e = map(int, input().split())\n",
    "    \n",
    "    if ends[k] <= s:\n",
    "        ends[k] = e\n",
    "        print('YES')\n",
    "    else:\n",
    "        print('NO')"
   ]
  },
  {
   "cell_type": "markdown",
   "metadata": {},
   "source": [
    "D"
   ]
  },
  {
   "cell_type": "code",
   "execution_count": 19,
   "metadata": {},
   "outputs": [
    {
     "name": "stdout",
     "output_type": "stream",
     "text": [
      "3 1\n",
      "YES\n",
      "2\n",
      "aba\n",
      "a\n"
     ]
    }
   ],
   "source": [
    "a, b = map(int, input().split())\n",
    "\n",
    "result = []\n",
    "while a > b + 1 and a >= 2 and b >= 1:\n",
    "    result.append('aba')\n",
    "    a -= 2\n",
    "    b -= 1\n",
    "    \n",
    "if a != b + 1 or (a == 1 and b == 0):\n",
    "    print('NO')\n",
    "else:\n",
    "    temp = 'ab' * b + 'a'\n",
    "    \n",
    "    result.append(temp)\n",
    "    \n",
    "    print('YES')\n",
    "    print(len(result))\n",
    "    for v in result:\n",
    "        print(v)"
   ]
  },
  {
   "cell_type": "markdown",
   "metadata": {},
   "source": [
    "E"
   ]
  },
  {
   "cell_type": "code",
   "execution_count": 22,
   "metadata": {},
   "outputs": [
    {
     "data": {
      "text/plain": [
       "49"
      ]
     },
     "execution_count": 22,
     "metadata": {},
     "output_type": "execute_result"
    }
   ],
   "source": [
    "1 + 3 + 5 + 7 + 9 + 11 + 13"
   ]
  },
  {
   "cell_type": "code",
   "execution_count": null,
   "metadata": {},
   "outputs": [],
   "source": [
    "9 7 5 3 1 11 .. 2 4 6 8 ... 13\n",
    "\n"
   ]
  },
  {
   "cell_type": "code",
   "execution_count": null,
   "metadata": {},
   "outputs": [],
   "source": [
    "13, 17, 21이면 마지막에 더하고 확인하기"
   ]
  },
  {
   "cell_type": "code",
   "execution_count": 23,
   "metadata": {},
   "outputs": [
    {
     "data": {
      "text/plain": [
       "28"
      ]
     },
     "execution_count": 23,
     "metadata": {},
     "output_type": "execute_result"
    }
   ],
   "source": [
    "21 + 7"
   ]
  },
  {
   "cell_type": "code",
   "execution_count": 32,
   "metadata": {},
   "outputs": [
    {
     "data": {
      "text/plain": [
       "120"
      ]
     },
     "execution_count": 32,
     "metadata": {},
     "output_type": "execute_result"
    }
   ],
   "source": [
    "1+2+3+4+5+6+7+8+9+10+11+12+13+14+15\n"
   ]
  },
  {
   "cell_type": "code",
   "execution_count": null,
   "metadata": {},
   "outputs": [],
   "source": [
    "(n * n + 1) // 2"
   ]
  },
  {
   "cell_type": "code",
   "execution_count": 36,
   "metadata": {},
   "outputs": [
    {
     "name": "stdout",
     "output_type": "stream",
     "text": [
      "10\n",
      "YES\n",
      "4 2 3 1 5 6 7 8 9 10\n"
     ]
    }
   ],
   "source": [
    "n = int(input())\n",
    "\n",
    "if n == 1:\n",
    "    print('YES')\n",
    "    print(1)\n",
    "elif n == 2:\n",
    "    print('NO')\n",
    "elif n == 3:\n",
    "    print('YES')\n",
    "    print('1 3 2')\n",
    "elif n == 4:\n",
    "    print('YES')\n",
    "    print('4 2 3 1')\n",
    "elif n == 5:\n",
    "    print('YES')\n",
    "    print('4 2 3 1 5')\n",
    "elif n == 6:\n",
    "    print('YES')\n",
    "    print('4 2 3 1 5 6')\n",
    "else:\n",
    "    result = [4, 2, 3, 1, 5, 6] + list(range(7, n + 1))\n",
    "    print('YES')\n",
    "    print(*result)"
   ]
  },
  {
   "cell_type": "markdown",
   "metadata": {},
   "source": [
    "F"
   ]
  },
  {
   "cell_type": "code",
   "execution_count": 38,
   "metadata": {},
   "outputs": [
    {
     "name": "stdout",
     "output_type": "stream",
     "text": [
      "2 1 1\n",
      "2 1\n",
      "3 4\n",
      "4\n"
     ]
    }
   ],
   "source": [
    "import io, os, sys\n",
    "input = io.BytesIO(os.read(0, os.fstat(0).st_size)).readline\n",
    "\n",
    "n, a, b = map(int, input().split())\n",
    "li = [list(map(int, input().split())) for _ in range(n)]\n",
    "\n",
    "li.sort(key=lambda x: (x[0] - x[1]))\n",
    "\n",
    "result = 0\n",
    "for _ in range(b):\n",
    "    p, q = li.pop()\n",
    "    result += q\n",
    "\n",
    "for _ in range(a):\n",
    "    p, q = li.pop()\n",
    "    result += p\n",
    "    \n",
    "print(result)"
   ]
  },
  {
   "cell_type": "markdown",
   "metadata": {},
   "source": [
    "G"
   ]
  },
  {
   "cell_type": "code",
   "execution_count": 41,
   "metadata": {},
   "outputs": [
    {
     "name": "stdout",
     "output_type": "stream",
     "text": [
      "3\n",
      "BRR\n",
      "-1\n"
     ]
    }
   ],
   "source": [
    "inf = float('inf')\n",
    "\n",
    "def change(i):\n",
    "    for j in range(i, i + 3):\n",
    "        nli[j] += 1\n",
    "        nli[j] %= 3\n",
    "\n",
    "n = int(input())\n",
    "s = input()\n",
    "\n",
    "li = []\n",
    "for v in s:\n",
    "    if v == 'R':\n",
    "        li.append(0)\n",
    "    elif v == 'G':\n",
    "        li.append(1)\n",
    "    else:\n",
    "        li.append(2)\n",
    "        \n",
    "to_0 = 0\n",
    "nli = li.copy()\n",
    "for i in range(n - 2):\n",
    "    while nli[i] != 0:\n",
    "        to_0 += 1\n",
    "        change(i)\n",
    "        \n",
    "if nli[-2] != 0 or nli[-1] != 0:\n",
    "    to_0 = inf\n",
    "    \n",
    "\n",
    "to_1 = 0\n",
    "nli = li.copy()\n",
    "for i in range(n - 2):\n",
    "    while nli[i] != 1:\n",
    "        to_1 += 1\n",
    "        change(i)\n",
    "        \n",
    "if nli[-2] != 1 or nli[-1] != 1:\n",
    "    to_1 = inf\n",
    "    \n",
    "\n",
    "to_2 = 0\n",
    "nli = li.copy()\n",
    "for i in range(n - 2):\n",
    "    while nli[i] != 2:\n",
    "        to_2 += 1\n",
    "        change(i)\n",
    "        \n",
    "if nli[-2] != 2 or nli[-1] != 2:\n",
    "    to_2 = inf\n",
    "    \n",
    "r = min(to_0, to_1, to_2)\n",
    "\n",
    "if r == inf:\n",
    "    print(-1)\n",
    "else:\n",
    "    print(r)"
   ]
  },
  {
   "cell_type": "markdown",
   "metadata": {},
   "source": [
    "H"
   ]
  },
  {
   "cell_type": "code",
   "execution_count": null,
   "metadata": {},
   "outputs": [],
   "source": [
    "from heapq import heappush, heappop\n",
    "import io, os, sys\n",
    "input = io.BytesIO(os.read(0, os.fstat(0).st_size)).readline\n",
    "\n",
    "dx = [0, 0, -1, 1]\n",
    "dy = [-1, 1, 0, 0]\n",
    "\n",
    "n, m = map(int, input().split())\n",
    "li = [list(map(int, input().split())) for _ in range(n)]\n",
    "k = int(input())\n",
    "\n",
    "vt = [[False] * m for _ in range(n)]\n",
    "\n",
    "heap = []\n",
    "for i in range(n):\n",
    "    for j in range(m):\n",
    "        if i == 0 or i == n - 1 or j == 0 or j == m - 1:\n",
    "            vt[i][j] = True\n",
    "            heappush(heap, (-li[i][j], i, j))\n",
    "            \n",
    "while heap:\n",
    "    value, x, y = heappop(heap)\n",
    "    print(x + 1, y + 1)\n",
    "    k -= 1\n",
    "    \n",
    "    if k == 0:\n",
    "        break\n",
    "    \n",
    "    for d in range(4):\n",
    "        nx = x + dx[d]\n",
    "        ny = y + dy[d]\n",
    "        \n",
    "        if nx < 0 or nx >= n or ny < 0 or ny >= m:\n",
    "            continue\n",
    "        if vt[nx][ny]:\n",
    "            continue\n",
    "        vt[nx][ny] = True\n",
    "        heappush(heap, (-li[nx][ny], nx, ny))"
   ]
  },
  {
   "cell_type": "markdown",
   "metadata": {},
   "source": [
    "I"
   ]
  },
  {
   "cell_type": "code",
   "execution_count": 46,
   "metadata": {},
   "outputs": [
    {
     "name": "stdout",
     "output_type": "stream",
     "text": [
      "2 30 2\n",
      "2 4\n",
      "73741817\n"
     ]
    }
   ],
   "source": [
    "mod = int(1e9) + 7\n",
    "\n",
    "n, m, k = map(int, input().split())\n",
    "A = list(map(int, input().split()))\n",
    "\n",
    "pre = [[0] * 10 for _ in range(m)]\n",
    "dp = [[0] * k for _ in range(m)]\n",
    "\n",
    "for num in range(1, 10):\n",
    "    cur = num % k\n",
    "    pre[m - 1][num] = cur\n",
    "    for i in range(m - 2, -1, -1):\n",
    "        cur *= 10\n",
    "        cur %= k\n",
    "        pre[i][num] = cur\n",
    "        \n",
    "for num in A:\n",
    "    if num == 0:\n",
    "        continue\n",
    "    \n",
    "    cur = pre[0][num]\n",
    "    dp[0][cur] += 1\n",
    "    \n",
    "for i in range(m - 1):\n",
    "    for num in A:\n",
    "        for fv in range(k):\n",
    "            v = fv + pre[i + 1][num]\n",
    "            v %= k\n",
    "            \n",
    "            dp[i + 1][v] += dp[i][fv]\n",
    "            dp[i + 1][v] %= mod\n",
    "            \n",
    "result = dp[m - 1][0]\n",
    "\n",
    "print(result)"
   ]
  },
  {
   "cell_type": "markdown",
   "metadata": {},
   "source": [
    "J"
   ]
  },
  {
   "cell_type": "code",
   "execution_count": 5,
   "metadata": {},
   "outputs": [
    {
     "name": "stdout",
     "output_type": "stream",
     "text": [
      "3\n",
      "1 3 2\n",
      "1 1\n",
      "1 3\n"
     ]
    }
   ],
   "source": [
    "import io, os, sys\n",
    "input = io.BytesIO(os.read(0, os.fstat(0).st_size)).readline\n",
    "\n",
    "def union(a, b):\n",
    "    if a > b:\n",
    "        a, b = b, a\n",
    "    \n",
    "    pa[b] = a\n",
    "    \n",
    "def find(v):\n",
    "    while v != pa[v]:\n",
    "        pa[v] = pa[pa[v]]\n",
    "        v = pa[v]\n",
    "        \n",
    "    return v\n",
    "\n",
    "get_v = lambda x: int(x) - 1\n",
    "\n",
    "n = int(input())\n",
    "li = list(map(get_v, input().split()))\n",
    "\n",
    "locs = [0] * n\n",
    "for i in range(n):\n",
    "    locs[li[i]] = i\n",
    "\n",
    "vt = [False] * n\n",
    "included = [0] * n\n",
    "cycle_num = 0\n",
    "for cur in range(n):\n",
    "    if vt[cur]:\n",
    "        continue\n",
    "        \n",
    "    included[cur] = cycle_num\n",
    "    vt[cur] = True\n",
    "    \n",
    "    while True:\n",
    "        cur = li[cur]\n",
    "        if vt[cur]:\n",
    "            break\n",
    "        vt[cur] = True\n",
    "\n",
    "        included[cur] = cycle_num\n",
    "    \n",
    "    cycle_num += 1\n",
    "    \n",
    "result = []\n",
    "mana = 0\n",
    "\n",
    "pa = list(range(n))\n",
    "for i in range(n - 1):\n",
    "    a = included[i]\n",
    "    b = included[i + 1]\n",
    "\n",
    "    ra = find(a)\n",
    "    rb = find(b)\n",
    "\n",
    "    if ra != rb:\n",
    "        union(ra, rb)\n",
    "        mana += 1\n",
    "\n",
    "        result.append((locs[i] + 1, locs[i + 1] + 1))\n",
    "\n",
    "        locs[i], locs[i + 1] = locs[i + 1], locs[i]\n",
    "\n",
    "print(mana, mana)\n",
    "for v in result:\n",
    "    print(*v)"
   ]
  },
  {
   "cell_type": "markdown",
   "metadata": {},
   "source": [
    "L"
   ]
  },
  {
   "cell_type": "code",
   "execution_count": 12,
   "metadata": {},
   "outputs": [
    {
     "name": "stdout",
     "output_type": "stream",
     "text": [
      "4\n",
      "1 2\n",
      "1 3\n",
      "1 4\n",
      "2\n",
      "2 3\n",
      "4 1\n"
     ]
    }
   ],
   "source": [
    "import io, os, sys\n",
    "# input = io.BytesIO(os.read(0, os.fstat(0).st_size)).readline\n",
    "\n",
    "n = int(input())\n",
    "\n",
    "con = [0] * (n + 1)\n",
    "for _ in range(n - 1):\n",
    "    u, v = map(int, input().split())\n",
    "    \n",
    "    con[u] += 1\n",
    "    con[v] += 1\n",
    "    \n",
    "to_con = []\n",
    "for i in range(1, n + 1):\n",
    "    if con[i] == 1:\n",
    "        to_con.append(i)\n",
    "        \n",
    "c = len(to_con) // 2\n",
    "if c % 2 == 1:\n",
    "    c += 1\n",
    "    \n",
    "print(c)\n",
    "for i in range(0, len(to_con), 2):\n",
    "    if i + 1 < len(to_con):\n",
    "        print(to_con[i], to_con[i + 1])\n",
    "    \n",
    "if len(to_con) % 2 == 1:\n",
    "    if to_con[-1] == 1:\n",
    "        print(to_con[-1], 2)\n",
    "    else:\n",
    "        print(to_con[-1], 1)"
   ]
  }
 ],
 "metadata": {
  "kernelspec": {
   "display_name": "Python 3",
   "language": "python",
   "name": "python3"
  },
  "language_info": {
   "codemirror_mode": {
    "name": "ipython",
    "version": 3
   },
   "file_extension": ".py",
   "mimetype": "text/x-python",
   "name": "python",
   "nbconvert_exporter": "python",
   "pygments_lexer": "ipython3",
   "version": "3.8.3"
  }
 },
 "nbformat": 4,
 "nbformat_minor": 4
}
