{
 "cells": [
  {
   "cell_type": "markdown",
   "metadata": {},
   "source": [
    "### A번 - 이진수 나눗셈"
   ]
  },
  {
   "cell_type": "code",
   "execution_count": 17,
   "metadata": {},
   "outputs": [
    {
     "name": "stdout",
     "output_type": "stream",
     "text": [
      "8\n",
      "10000000\n",
      "100000000\n",
      "NO\n"
     ]
    }
   ],
   "source": [
    "n = int(input())\n",
    "m = input()\n",
    "k = int(input())\n",
    "\n",
    "result = 'YES'\n",
    "for i in range(n - 1, max(-1, n - 1 - k), -1):\n",
    "    if m[i] == '1':\n",
    "        result = 'NO'\n",
    "        \n",
    "print(result)"
   ]
  }
 ],
 "metadata": {
  "kernelspec": {
   "display_name": "Python 3",
   "language": "python",
   "name": "python3"
  },
  "language_info": {
   "codemirror_mode": {
    "name": "ipython",
    "version": 3
   },
   "file_extension": ".py",
   "mimetype": "text/x-python",
   "name": "python",
   "nbconvert_exporter": "python",
   "pygments_lexer": "ipython3",
   "version": "3.7.3"
  }
 },
 "nbformat": 4,
 "nbformat_minor": 4
}
