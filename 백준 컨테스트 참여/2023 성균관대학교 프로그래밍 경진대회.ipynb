{
 "cells": [
  {
   "cell_type": "markdown",
   "metadata": {},
   "source": [
    "C"
   ]
  },
  {
   "cell_type": "code",
   "execution_count": 27,
   "metadata": {},
   "outputs": [
    {
     "name": "stdout",
     "output_type": "stream",
     "text": [
      "5\n",
      "? 3\n",
      "0\n",
      "? 2\n",
      "0\n",
      "! 2\n"
     ]
    }
   ],
   "source": [
    "import sys\n",
    "# input = lambda: sys.stdin.readline().rstrip()\n",
    "\n",
    "n = int(input())\n",
    "\n",
    "max_num = n\n",
    "ip = [True] * (max_num + 1)\n",
    "ip[0] = ip[1] = False\n",
    "for mod1 in range(2, int((max_num + 1) ** 0.5) + 1):\n",
    "    if ip[mod1]:\n",
    "        for v in range(mod1 * mod1, max_num + 1, mod1):\n",
    "            ip[v] = False\n",
    "            \n",
    "primes = [i for i, v in enumerate(ip) if v]\n",
    "\n",
    "result = 0\n",
    "start = 0\n",
    "end = len(primes) - 1\n",
    "while start <= end:\n",
    "    mid = (start + end) // 2\n",
    "    \n",
    "    print(\"?\", primes[mid])\n",
    "    sys.stdout.flush()\n",
    "    \n",
    "    r = int(input())\n",
    "    \n",
    "    if r == 1:\n",
    "        start = mid + 1\n",
    "    else:\n",
    "        result = primes[mid]\n",
    "        end = mid - 1\n",
    "        \n",
    "print(\"!\", result)\n",
    "sys.stdout.flush()"
   ]
  },
  {
   "cell_type": "code",
   "execution_count": 25,
   "metadata": {},
   "outputs": [
    {
     "name": "stdout",
     "output_type": "stream",
     "text": [
      "348513\n"
     ]
    }
   ],
   "source": [
    "max_num = 5000001\n",
    "ip = [True] * (max_num + 1)\n",
    "ip[0] = ip[1] = False\n",
    "for mod1 in range(2, int((max_num + 1) ** 0.5) + 1):\n",
    "    if ip[mod1]:\n",
    "        for v in range(mod1 * mod1, max_num + 1, mod1):\n",
    "            ip[v] = False\n",
    "            \n",
    "primes = [i for i, v in enumerate(ip) if v]"
   ]
  },
  {
   "cell_type": "markdown",
   "metadata": {},
   "source": [
    "D"
   ]
  },
  {
   "cell_type": "code",
   "execution_count": 12,
   "metadata": {},
   "outputs": [
    {
     "name": "stdout",
     "output_type": "stream",
     "text": [
      "5\n",
      "3 4 12 1 8\n",
      "4\n"
     ]
    }
   ],
   "source": [
    "n = int(input())\n",
    "li = list(map(int, input().split()))\n",
    "\n",
    "prefix = [0] * (n + 1)\n",
    "cumul = 0\n",
    "for i in range(n):\n",
    "    cumul += li[i]\n",
    "    prefix[i + 1] = cumul\n",
    "    \n",
    "result = 0\n",
    "for a_rightest in range(n - 2):\n",
    "    av = prefix[a_rightest + 1]\n",
    "    \n",
    "    start = a_rightest + 1\n",
    "    end = n - 2\n",
    "    \n",
    "    cri_leftest = -1\n",
    "    while start <= end:\n",
    "        mid = (start + end) // 2\n",
    "        \n",
    "        if prefix[mid + 1] - av > av:\n",
    "            cri_leftest = mid\n",
    "            end = mid - 1\n",
    "        else:\n",
    "            start = mid + 1\n",
    "   \n",
    "    start = a_rightest + 1\n",
    "    end = n - 2\n",
    "\n",
    "    cri_rightest = -1\n",
    "    while start <= end:\n",
    "        mid = (start + end) // 2\n",
    "        \n",
    "        if prefix[n] - prefix[mid + 1] > av:\n",
    "            cri_rightest = mid\n",
    "            start = mid + 1\n",
    "        else:\n",
    "            end = mid - 1\n",
    "            \n",
    "    if cri_leftest == -1 or cri_rightest == -1 or cri_leftest > cri_rightest:\n",
    "        pass\n",
    "    else:           \n",
    "        start = cri_leftest\n",
    "        end = cri_rightest\n",
    "        max_can = -1\n",
    "        while start <= end:\n",
    "            mid = (start + end) // 2\n",
    "            \n",
    "            if prefix[mid + 1] - av > prefix[n] - prefix[mid + 1]:\n",
    "                max_can = mid\n",
    "                end = mid - 1\n",
    "            else:\n",
    "                start = mid + 1\n",
    "                \n",
    "        if max_can != -1:\n",
    "            result += cri_rightest - max_can + 1\n",
    "            \n",
    "print(result)"
   ]
  },
  {
   "cell_type": "markdown",
   "metadata": {},
   "source": [
    "A"
   ]
  },
  {
   "cell_type": "code",
   "execution_count": 16,
   "metadata": {},
   "outputs": [
    {
     "name": "stdout",
     "output_type": "stream",
     "text": [
      "3 5 15\n",
      "YES\n",
      "1 2 3 4 5\n",
      "2 3 4 5 6\n",
      "3 4 5 6 7\n"
     ]
    }
   ],
   "source": [
    "n, m, k = map(int, input().split())\n",
    "\n",
    "if k < n + m - 1:\n",
    "    print('NO')\n",
    "else:\n",
    "    print('YES')\n",
    "    start = 1\n",
    "    for i in range(n):\n",
    "        print(*range(start, start + m))\n",
    "        start += 1"
   ]
  },
  {
   "cell_type": "markdown",
   "metadata": {},
   "source": [
    "B"
   ]
  },
  {
   "cell_type": "code",
   "execution_count": 24,
   "metadata": {},
   "outputs": [
    {
     "name": "stdout",
     "output_type": "stream",
     "text": [
      "grep Wall <Makefile|| echo NotSetCflagsWall>outfile\n",
      "grep Wall < Makefile || echo NotSetCflagsWall > outfile\n"
     ]
    }
   ],
   "source": [
    "li = list(input())\n",
    "\n",
    "result = []\n",
    "for v in li:\n",
    "    if v == '<' or v == '>' or v == '(' or v == ')':\n",
    "        if result and result[-1] != ' ':\n",
    "            result.append(' ')\n",
    "            result.append(v)\n",
    "            result.append(' ')\n",
    "        else:\n",
    "            result.append(v)\n",
    "            result.append(' ')\n",
    "    elif v == '&' or v == '|':\n",
    "        if result and result[-1] == v:\n",
    "            result.append(v)\n",
    "            result.append(' ')\n",
    "        elif result and result[-1] == ' ':\n",
    "            result.append(v)\n",
    "        else:\n",
    "            result.append(' ')\n",
    "            result.append(v)\n",
    "    elif v == ' ':\n",
    "        if result and result[-1] == ' ':\n",
    "            pass\n",
    "        else:\n",
    "            result.append(' ')\n",
    "    else:\n",
    "        result.append(v)\n",
    "        \n",
    "if result and result[0] == ' ':\n",
    "    result.pop(0)\n",
    "if result and result[-1] == ' ':\n",
    "    result.pop()\n",
    "result = ''.join(result)\n",
    "    \n",
    "print(result)"
   ]
  }
 ],
 "metadata": {
  "kernelspec": {
   "display_name": "Python 3",
   "language": "python",
   "name": "python3"
  },
  "language_info": {
   "codemirror_mode": {
    "name": "ipython",
    "version": 3
   },
   "file_extension": ".py",
   "mimetype": "text/x-python",
   "name": "python",
   "nbconvert_exporter": "python",
   "pygments_lexer": "ipython3",
   "version": "3.8.3"
  }
 },
 "nbformat": 4,
 "nbformat_minor": 4
}
