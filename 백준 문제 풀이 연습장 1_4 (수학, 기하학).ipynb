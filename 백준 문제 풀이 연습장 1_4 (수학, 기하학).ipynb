{
 "cells": [
  {
   "cell_type": "markdown",
   "metadata": {},
   "source": [
    "### 캠프 준비 16938"
   ]
  },
  {
   "cell_type": "code",
   "execution_count": null,
   "metadata": {},
   "outputs": [],
   "source": [
    "난이도 차 조건은 윈도우 설정하는 식으로 가능해보임\n",
    "\n",
    "-> 2 ** n 브루트포스"
   ]
  },
  {
   "cell_type": "code",
   "execution_count": null,
   "metadata": {},
   "outputs": [],
   "source": [
    "from itertools import product\n",
    "\n",
    "n, l, r, x = map(int, input().split())\n",
    "li = sorted(map(int, input().split()))\n",
    "\n",
    "c = 0\n",
    "for case in product(*[range(2)] * n):\n",
    "    nli = []\n",
    "    for i in range(n):\n",
    "        if case[i]:\n",
    "            nli.append(li[i])\n",
    "    \n",
    "    if len(nli) <= 1:\n",
    "        continue\n",
    "    if nli[-1] - nli[0] < x:\n",
    "        continue\n",
    "    sv = sum(nli)\n",
    "    if l <= sv <= r:\n",
    "        c += 1\n",
    "\n",
    "print(c)"
   ]
  },
  {
   "cell_type": "markdown",
   "metadata": {},
   "source": [
    "### 나3곱 16936"
   ]
  },
  {
   "cell_type": "code",
   "execution_count": null,
   "metadata": {},
   "outputs": [],
   "source": [
    "3의 배수가 아닌 수에 2를 계속 곱해도 3의 배수가 될 수 없음\n",
    "\n",
    "\n",
    "3이 얼마나 들어가 있는지를 파악하면 됨"
   ]
  },
  {
   "cell_type": "code",
   "execution_count": null,
   "metadata": {},
   "outputs": [],
   "source": [
    "n = int(input())\n",
    "li = list(map(int, input().split()))\n",
    "\n",
    "nli = []\n",
    "for value in li:\n",
    "    c = 0\n",
    "    v = value\n",
    "    while True:\n",
    "        if v % 3 == 0:\n",
    "            c += 1\n",
    "            v //= 3\n",
    "        else:\n",
    "            break\n",
    "    nli.append((value, c))\n",
    "    \n",
    "nli.sort(key=lambda x: (-x[1], x[0]))\n",
    "\n",
    "r = [v[0] for v in nli]\n",
    "\n",
    "print(*r)"
   ]
  },
  {
   "cell_type": "markdown",
   "metadata": {},
   "source": [
    "### Ezreal 여눈부터 가네 ㅈㅈ 20500"
   ]
  },
  {
   "cell_type": "code",
   "execution_count": null,
   "metadata": {},
   "outputs": [],
   "source": [
    "3의 배수이면서 5의 배수여야 함\n",
    "\n",
    "5의 배수려면 끝이 5여야 함\n",
    "3의 배수려면 총합이 3이어야함\n",
    "\n",
    "맨 끝은 5로 고정됨"
   ]
  },
  {
   "cell_type": "code",
   "execution_count": null,
   "metadata": {},
   "outputs": [],
   "source": [
    "mod = 1000000007\n",
    "\n",
    "max_num = 1515\n",
    "\n",
    "factos = [0] * (max_num + 1)\n",
    "factos[0] = 1\n",
    "invs = [0] * (max_num + 1)\n",
    "cur = 1\n",
    "for i in range(1, max_num + 1):\n",
    "    cur *= i\n",
    "    cur %= mod\n",
    "    factos[i] = cur\n",
    "    \n",
    "invs[max_num] = pow(factos[max_num], mod - 2, mod)\n",
    "for i in range(max_num - 1, -1, -1):\n",
    "    invs[i] = (i + 1) * invs[i + 1] % mod\n",
    "\n",
    "n = int(input())\n",
    "\n",
    "n -= 1\n",
    "r = 0\n",
    "for c1 in range(n + 1):\n",
    "    c5 = n - c1\n",
    "    \n",
    "    if (c1 + c5 * 5 + 5) % 3 == 0:\n",
    "        r += factos[n] * invs[c5] * invs[n - c5] % mod\n",
    "        r %= mod\n",
    "        \n",
    "print(r)"
   ]
  },
  {
   "cell_type": "code",
   "execution_count": null,
   "metadata": {},
   "outputs": [],
   "source": [
    "n = 0\n",
    "for _ in range(50000):\n",
    "    n += 15\n",
    "    \n",
    "    st = set(str(n))\n",
    "    if '1' in st and '5' in st and len(st) == 2:\n",
    "        print(n)"
   ]
  },
  {
   "cell_type": "markdown",
   "metadata": {},
   "source": [
    "### 애너그램 6443"
   ]
  },
  {
   "cell_type": "code",
   "execution_count": 54,
   "metadata": {},
   "outputs": [
    {
     "name": "stdout",
     "output_type": "stream",
     "text": [
      "1\n",
      "aaa\n",
      "aaa\n"
     ]
    }
   ],
   "source": [
    "from collections import Counter, defaultdict as dd\n",
    "import sys\n",
    "input = lambda: sys.stdin.readline().rstrip()\n",
    "\n",
    "def recur(cur):\n",
    "    if len(cur) == n:\n",
    "        r.append(''.join(cur))\n",
    "        return\n",
    "    \n",
    "    needed = []\n",
    "    for key in ct:\n",
    "        if counts[key] < ct[key]:\n",
    "            needed.append(key)\n",
    "\n",
    "    for v in needed:\n",
    "        cur.append(v)\n",
    "        counts[v] += 1\n",
    "        recur(cur)\n",
    "        cur.pop()\n",
    "        counts[v] -= 1\n",
    "            \n",
    "for _ in range(int(input())):\n",
    "    s = input()\n",
    "    ct = Counter(s)\n",
    "    n = len(s)\n",
    "\n",
    "    li = list(set(s))\n",
    "\n",
    "    r = []\n",
    "    counts = dd(int)\n",
    "    recur([])\n",
    "\n",
    "    print('\\n'.join(sorted(r)))"
   ]
  },
  {
   "cell_type": "markdown",
   "metadata": {},
   "source": [
    "### ATM놀이 7481"
   ]
  },
  {
   "cell_type": "code",
   "execution_count": null,
   "metadata": {},
   "outputs": [],
   "source": [
    "import sys\n",
    "input = lambda: sys.stdin.readline().rstrip()\n",
    "\n",
    "for _ in range(int(input())):\n",
    "    a, b, s = map(int, input().split())\n",
    "\n",
    "    is_reversed = False\n",
    "    if b < a:\n",
    "        is_reversed = True\n",
    "        a, b = b, a\n",
    "\n",
    "    rac = rbc = -1\n",
    "    for ac in range(10002):\n",
    "        temp = s - a * ac\n",
    "        if temp < 0:\n",
    "            break\n",
    "        if temp % b == 0:\n",
    "            rac = ac\n",
    "            rbc = temp // b\n",
    "            break\n",
    "\n",
    "    if rac == -1:\n",
    "        print('Impossible')\n",
    "    else:\n",
    "        if is_reversed:\n",
    "            rac, rbc = rbc, rac\n",
    "\n",
    "        print(rac, rbc)"
   ]
  },
  {
   "cell_type": "markdown",
   "metadata": {},
   "source": [
    "### 자리수의 제곱 4881"
   ]
  },
  {
   "cell_type": "code",
   "execution_count": 11,
   "metadata": {},
   "outputs": [
    {
     "name": "stdout",
     "output_type": "stream",
     "text": [
      "89 89\n",
      "89 89 2\n",
      "19 100\n",
      "19 100 5\n",
      "61 19\n",
      "61 19 0\n",
      "0 0\n"
     ]
    }
   ],
   "source": [
    "import sys\n",
    "# input = lambda: sys.stdin.readline().rstrip()\n",
    "\n",
    "def calcul(num):\n",
    "    sv = 0\n",
    "    for v in str(num):\n",
    "        sv += int(v) ** 2\n",
    "    return sv\n",
    "\n",
    "while True:\n",
    "    oa,ob = map(int, input().split())\n",
    "    if oa == 0 and ob == 0:\n",
    "        break\n",
    "\n",
    "    a = oa\n",
    "    a_st = set()\n",
    "    a_li = list()\n",
    "    while True:\n",
    "        if a in a_st:\n",
    "            break\n",
    "        a_st.add(a)\n",
    "        a_li.append(a)\n",
    "\n",
    "        a = calcul(a)\n",
    "\n",
    "    b = ob\n",
    "    b_st = set()\n",
    "    b_li = list()\n",
    "    while True:\n",
    "        if b in b_st:\n",
    "            break\n",
    "        b_st.add(b)    \n",
    "        b_li.append(b)\n",
    "\n",
    "        b = calcul(b)\n",
    "\n",
    "    r = float('inf')\n",
    "    for ai in range(len(a_li)):\n",
    "        if a_li[ai] in b_st:\n",
    "            r = min(r, ai + b_li.index(a_li[ai]) + 2)\n",
    "    \n",
    "    if r == float('inf'):\n",
    "        r = 0\n",
    "        \n",
    "    print(oa, ob, r)"
   ]
  },
  {
   "cell_type": "markdown",
   "metadata": {},
   "source": [
    "### Ax+Bsin(x)=C 14786"
   ]
  },
  {
   "cell_type": "code",
   "execution_count": 16,
   "metadata": {},
   "outputs": [
    {
     "name": "stdout",
     "output_type": "stream",
     "text": [
      "100000 100000 100000\n",
      "0.51097342938856908539408015201832569118778337724506855010986328125\n"
     ]
    }
   ],
   "source": [
    "import math\n",
    "from decimal import getcontext, Decimal\n",
    "getcontext().prec = 100\n",
    "\n",
    "a, b, c = input().split()\n",
    "c = Decimal(c)\n",
    "\n",
    "start = Decimal(\"0\")\n",
    "end = Decimal(\"100000\")\n",
    "diff = Decimal(\"0.00000000001\")\n",
    "\n",
    "while True:\n",
    "    x = (start + end) / Decimal(\"2\")\n",
    "    \n",
    "    left = Decimal(a) * Decimal(x) + Decimal(b) * Decimal(math.sin(x)) \n",
    "    \n",
    "    if left - diff <= c <= left + diff:\n",
    "        break\n",
    "    elif left < c:\n",
    "        start = x\n",
    "    else:\n",
    "        end = x\n",
    "        \n",
    "print(x)"
   ]
  },
  {
   "cell_type": "markdown",
   "metadata": {},
   "source": [
    "### Equations 4341"
   ]
  },
  {
   "cell_type": "code",
   "execution_count": 119,
   "metadata": {},
   "outputs": [
    {
     "name": "stdout",
     "output_type": "stream",
     "text": [
      "x = 1\n",
      "3x = 6y\n",
      "1\n",
      "1/2\n"
     ]
    }
   ],
   "source": [
    "from math import gcd\n",
    "import sys\n",
    "input = lambda: sys.stdin.readline().rstrip()\n",
    "\n",
    "def get_info(li):\n",
    "    info = [0, 0, 0]\n",
    "    \n",
    "    for i in range(1, len(li), 2):\n",
    "        if li[i] == '+':\n",
    "            li[i] = 1\n",
    "        else:\n",
    "            li[i] = -1\n",
    "\n",
    "    for i in range(0, len(li), 2):\n",
    "        cur_o = 1\n",
    "        if i >= 1:\n",
    "            cur_o = li[i - 1]\n",
    "        \n",
    "        if '-' in li[i]:\n",
    "            cur_o = -cur_o\n",
    "            \n",
    "        digit = []\n",
    "        va = ''\n",
    "        for v in li[i]:\n",
    "            if v.isdigit():\n",
    "                digit.append(v)\n",
    "            else:\n",
    "                if v != '-':\n",
    "                    va = v\n",
    "                \n",
    "        digit = ''.join(digit)      \n",
    "        if not digit:\n",
    "            digit = '1'\n",
    "            \n",
    "        digit = int(digit)\n",
    "        digit *= cur_o\n",
    "        \n",
    "        if va == 'x':\n",
    "            info[0] += digit\n",
    "        elif va == 'y':\n",
    "            info[1] += digit\n",
    "        else:\n",
    "            info[2] += digit\n",
    "            \n",
    "    return info\n",
    "\n",
    "def grv(var):\n",
    "    '''get result var'''\n",
    "    \n",
    "    state = 1\n",
    "    if var[0] < 0:\n",
    "        var[0] = -var[0]\n",
    "        state = -state\n",
    "    if var[1] < 0:\n",
    "        var[1] = -var[1]\n",
    "        state = -state\n",
    "    g = gcd(var[0], var[1])\n",
    "    for i in range(2):\n",
    "        var[i] //= g\n",
    "    if var[1] == 1:\n",
    "        return var[0] * state\n",
    "    else:            \n",
    "        return f'{var[0] * state}/{var[1]}'\n",
    "    \n",
    "def minus_frac(r, to_minus):\n",
    "    rr = [r * to_minus[1], to_minus[1]]\n",
    "    return [rr[0] - to_minus[0], rr[1]]\n",
    "\n",
    "t = int(input())\n",
    "for tn in range(t):\n",
    "    a = input()\n",
    "    b = input()\n",
    "\n",
    "    a_left, a_right = a.split(' = ')\n",
    "\n",
    "    a_left = a_left.split()\n",
    "    a_right = a_right.split()\n",
    "\n",
    "    al= get_info(a_left)\n",
    "    ar = get_info(a_right)\n",
    "\n",
    "    for i in range(2):\n",
    "        al[i] -= ar[i]\n",
    "        ar[i] = 0\n",
    "\n",
    "    ar[2] -= al[2]\n",
    "    al[2] = 0\n",
    "\n",
    "    al.pop()\n",
    "    ar = ar[2]\n",
    "\n",
    "\n",
    "    b_left, b_right = b.split(' = ')\n",
    "\n",
    "    b_left = b_left.split()\n",
    "    b_right = b_right.split()\n",
    "\n",
    "    bl= get_info(b_left)\n",
    "    br = get_info(b_right)\n",
    "\n",
    "    for i in range(2):\n",
    "        bl[i] -= br[i]\n",
    "        br[i] = 0\n",
    "\n",
    "    br[2] -= bl[2]\n",
    "    bl[2] = 0\n",
    "\n",
    "    bl.pop()\n",
    "    br = br[2]\n",
    "\n",
    "    dn = \"don't know\"\n",
    "    rx = ''\n",
    "    ry = ''\n",
    "    if al[0] == 0 and al[1] == 0 and ar or bl[0] == 0 and bl[1] == 0 and br:\n",
    "        rx = ry = dn\n",
    "    elif al[0] and al[1] and bl[0] and bl[1]:\n",
    "        nal = al.copy()\n",
    "        nar = ar\n",
    "        nbl = bl.copy()\n",
    "        nbr = br\n",
    "\n",
    "        for i in range(2):\n",
    "            nal[i] *= bl[0]\n",
    "        nar *= bl[0]\n",
    "\n",
    "        for i in range(2):\n",
    "            nbl[i] *= al[0]\n",
    "        nbr *= al[0]\n",
    "\n",
    "        dl = [0, 0]\n",
    "        for i in range(2):\n",
    "            dl[i] = nal[i] - nbl[i]\n",
    "        dr = nar - nbr\n",
    "\n",
    "        if dl[1] == 0:\n",
    "            rx = ry = dn\n",
    "        else:\n",
    "            y = [dr, dl[1]]\n",
    "            temp = y.copy()\n",
    "            temp[0] *= al[1]\n",
    "            temp = minus_frac(ar, temp)\n",
    "            temp[1] *= al[0]\n",
    "            x = temp\n",
    "            rx, ry = grv(x), grv(y)\n",
    "    else:\n",
    "        if al[0] == 0 and al[1] == 0 and bl[0] == 0 and bl[1] == 0:\n",
    "            rx = ry = dn\n",
    "        elif al[0] == 0 and al[1] == 0:\n",
    "            if bl[0] and bl[1]:\n",
    "                rx = ry = dn\n",
    "            elif bl[0] and bl[1] == 0:\n",
    "                x = [br, bl[0]]\n",
    "                rx, ry = grv(x), dn\n",
    "            elif bl[0] == 0 and bl[1]:\n",
    "                y = [br, bl[1]]\n",
    "                rx, ry = dn, grv(y)\n",
    "        elif bl[0] == 0 and bl[1] == 0:\n",
    "            if al[0] and al[1]:\n",
    "                rx, ry = dn, dn\n",
    "            elif al[0] and al[1] == 0:\n",
    "                x = [ar, al[0]]\n",
    "                rx, ry = grv(x), dn       \n",
    "            elif al[0] == 0 and al[1]:\n",
    "                y = [ar, al[1]]\n",
    "                rx, ry = dn, grv(y)\n",
    "        elif al[0] and al[1]:\n",
    "            if bl[0]:\n",
    "                x = [br, bl[0]]\n",
    "                temp = x.copy()\n",
    "                temp[0] *= al[0]\n",
    "                temp = minus_frac(ar, temp)\n",
    "                temp[1] *= al[1]\n",
    "                y = temp\n",
    "                rx, ry = grv(x) ,grv(y)\n",
    "            elif bl[1]:\n",
    "                y = [br, bl[1]]\n",
    "                temp = y.copy()\n",
    "                temp[0] *= al[1]\n",
    "                temp = minus_frac(ar, temp)\n",
    "                temp[1] *= al[0]\n",
    "                x = temp\n",
    "                rx, ry = grv(x) ,grv(y)\n",
    "        elif bl[0] and bl[1]:\n",
    "            if al[0]:\n",
    "                x = [ar, al[0]]\n",
    "                temp = x.copy() \n",
    "                temp[0] *= bl[0]\n",
    "                temp = minus_frac(br, temp)\n",
    "                temp[1] *= bl[1]\n",
    "                y = temp\n",
    "                rx, ry = grv(x) ,grv(y)\n",
    "            elif al[1]:\n",
    "                y = [ar, al[1]]\n",
    "                temp = y.copy()\n",
    "                temp[0] *= bl[1]\n",
    "                temp = minus_frac(br, temp)\n",
    "                temp[1] *= bl[0]\n",
    "                x = temp\n",
    "                rx, ry = grv(x) ,grv(y)\n",
    "        elif al[0] and bl[0]:\n",
    "            x1 = [ar, al[0]]\n",
    "            x1 = grv(x1)\n",
    "            x2 = [br, bl[0]]\n",
    "            x2 = grv(x2)    \n",
    "            if x1 != x2:\n",
    "                rx, ry = dn, dn\n",
    "            else:\n",
    "                rx, ry = x1, dn\n",
    "        elif al[1] and bl[1]:\n",
    "            y1 = [ar, al[1]]\n",
    "            y1 = grv(y1)\n",
    "            y2 = [br, bl[1]]\n",
    "            y2 = grv(y2)    \n",
    "            if y1 != y2:\n",
    "                rx, ry = dn, dn\n",
    "            else:\n",
    "                rx, ry = dn, y1\n",
    "        elif al[0] and bl[1]:\n",
    "            x = [ar, al[0]]\n",
    "            x = grv(x)\n",
    "            y = [br, bl[1]]\n",
    "            y = grv(y)\n",
    "            rx, ry = x, y\n",
    "        elif al[1] and bl[0]:\n",
    "            x = [br, bl[0]]\n",
    "            x = grv(x)\n",
    "            y = [ar, al[1]]\n",
    "            y = grv(y)\n",
    "            rx, ry = x, y\n",
    "            \n",
    "    print(rx)\n",
    "    print(ry)\n",
    "            \n",
    "    if tn != t - 1:\n",
    "        print()\n",
    "        input()"
   ]
  },
  {
   "cell_type": "code",
   "execution_count": null,
   "metadata": {},
   "outputs": [],
   "source": [
    "3x + 3y = 6\n",
    "3x = 3"
   ]
  },
  {
   "cell_type": "code",
   "execution_count": null,
   "metadata": {},
   "outputs": [],
   "source": [
    "3x + 3y = 6\n",
    "3y = 3"
   ]
  },
  {
   "cell_type": "code",
   "execution_count": 101,
   "metadata": {},
   "outputs": [
    {
     "data": {
      "text/plain": [
       "[3, 3]"
      ]
     },
     "execution_count": 101,
     "metadata": {},
     "output_type": "execute_result"
    }
   ],
   "source": [
    "al"
   ]
  },
  {
   "cell_type": "code",
   "execution_count": 103,
   "metadata": {},
   "outputs": [
    {
     "data": {
      "text/plain": [
       "[3, 0]"
      ]
     },
     "execution_count": 103,
     "metadata": {},
     "output_type": "execute_result"
    }
   ],
   "source": [
    "bl"
   ]
  },
  {
   "cell_type": "code",
   "execution_count": 99,
   "metadata": {},
   "outputs": [
    {
     "data": {
      "text/plain": [
       "[8, 3]"
      ]
     },
     "execution_count": 99,
     "metadata": {},
     "output_type": "execute_result"
    }
   ],
   "source": [
    "def minus_frac(r, to_minus):\n",
    "    rr = [r * to_minus[1], to_minus[1]]\n",
    "    return [rr[0] - to_minus[0], rr[1]]\n",
    "\n",
    "minus_frac(3, [1, 3])"
   ]
  },
  {
   "cell_type": "code",
   "execution_count": null,
   "metadata": {},
   "outputs": [],
   "source": [
    "-3 - -4y - -5x + 5 = 1"
   ]
  },
  {
   "cell_type": "code",
   "execution_count": 74,
   "metadata": {},
   "outputs": [
    {
     "data": {
      "text/plain": [
       "([5, 4, 0], [0, 0, -1])"
      ]
     },
     "execution_count": 74,
     "metadata": {},
     "output_type": "execute_result"
    }
   ],
   "source": [
    "for i in range(2):\n",
    "    al_info[i] -= ar_info[i]\n",
    "    ar_info[i] = 0\n",
    "    \n",
    "ar_info[2] -= al_info[2]\n",
    "al_info[2] = 0\n",
    "\n",
    "al_info, ar_info\n",
    "\n",
    "\n",
    "al_info.pop()\n",
    "ar_info = ar_info[2]"
   ]
  },
  {
   "cell_type": "code",
   "execution_count": 76,
   "metadata": {},
   "outputs": [
    {
     "data": {
      "text/plain": [
       "([5, 4], -1)"
      ]
     },
     "execution_count": 76,
     "metadata": {},
     "output_type": "execute_result"
    }
   ],
   "source": [
    "al_info, ar_info"
   ]
  },
  {
   "cell_type": "markdown",
   "metadata": {},
   "source": [
    "### K-세준수 1418"
   ]
  },
  {
   "cell_type": "code",
   "execution_count": 11,
   "metadata": {},
   "outputs": [
    {
     "name": "stdout",
     "output_type": "stream",
     "text": [
      "100000\n",
      "100\n",
      "17442\n"
     ]
    }
   ],
   "source": [
    "n = int(input())\n",
    "k = int(input())\n",
    "\n",
    "def p_facto(num):\n",
    "    r = []\n",
    "    for mod in range(2, int(num ** 0.5) + 1):\n",
    "        while num % mod == 0:\n",
    "            num //= mod\n",
    "            r.append(mod)\n",
    "    \n",
    "    if num != 1:\n",
    "        r.append(num)\n",
    "        \n",
    "    if not r:\n",
    "        r = [1]\n",
    "        \n",
    "    return r\n",
    "\n",
    "r = 0\n",
    "for i in range(1, n + 1):\n",
    "    if p_facto(i)[-1] <= k:\n",
    "        r += 1\n",
    "        \n",
    "print(r)"
   ]
  },
  {
   "cell_type": "markdown",
   "metadata": {},
   "source": [
    "### 귀찮아 (SIB) 14929"
   ]
  },
  {
   "cell_type": "code",
   "execution_count": 1,
   "metadata": {},
   "outputs": [
    {
     "name": "stdout",
     "output_type": "stream",
     "text": [
      "3\n",
      "1 -2 3\n",
      "-5\n"
     ]
    }
   ],
   "source": [
    "n = int(input())\n",
    "li = list(map(int, input().split()))\n",
    "\n",
    "sli = [0] * n\n",
    "cumul = 0\n",
    "for i in range(n):\n",
    "    cumul += li[i]\n",
    "    sli[i] = cumul\n",
    "    \n",
    "total = 0\n",
    "for i in range(n - 1, 0, -1):\n",
    "    total += li[i] * sli[i - 1]\n",
    "    \n",
    "print(total)"
   ]
  },
  {
   "cell_type": "markdown",
   "metadata": {},
   "source": [
    "### 제곱 ㄴㄴ 수 1016"
   ]
  },
  {
   "cell_type": "code",
   "execution_count": null,
   "metadata": {},
   "outputs": [],
   "source": [
    "n, m = map(int, input().split())"
   ]
  },
  {
   "cell_type": "code",
   "execution_count": 2,
   "metadata": {},
   "outputs": [
    {
     "data": {
      "text/plain": [
       "1000000.499999875"
      ]
     },
     "execution_count": 2,
     "metadata": {},
     "output_type": "execute_result"
    }
   ],
   "source": [
    "1000001000000 ** 0.5"
   ]
  },
  {
   "cell_type": "code",
   "execution_count": null,
   "metadata": {},
   "outputs": [],
   "source": [
    "1100000"
   ]
  },
  {
   "cell_type": "code",
   "execution_count": 7,
   "metadata": {},
   "outputs": [],
   "source": [
    "max_num = 1100000\n",
    "sp = [0] * (max_num + 1)\n",
    "primes = []\n",
    "for i in range(2, max_num + 1):\n",
    "    if sp[i] == 0:\n",
    "        sp[i] = i\n",
    "        primes.append(i)\n",
    "        \n",
    "    j = 0\n",
    "    while j < len(primes) and i * primes[j] <= max_num and primes[j] <= sp[i]:\n",
    "        sp[i * primes[j]] = primes[j]\n",
    "        j += 1"
   ]
  },
  {
   "cell_type": "code",
   "execution_count": 39,
   "metadata": {},
   "outputs": [
    {
     "name": "stdout",
     "output_type": "stream",
     "text": [
      "100000 110000\n",
      "415064\n",
      "6086\n"
     ]
    }
   ],
   "source": [
    "max_num = 1000001\n",
    "sp = [0] * (max_num + 1)\n",
    "primes = []\n",
    "for i in range(2, max_num + 1):\n",
    "    if sp[i] == 0:\n",
    "        sp[i] = i\n",
    "        primes.append(i)\n",
    "        \n",
    "    j = 0\n",
    "    while j < len(primes) and i * primes[j] <= max_num and primes[j] <= sp[i]:\n",
    "        sp[i * primes[j]] = primes[j]\n",
    "        j += 1\n",
    "\n",
    "primes_s = [v ** 2 for v in primes]\n",
    "        \n",
    "a, b = map(int, input().split())\n",
    "\n",
    "total = 0\n",
    "used = 0\n",
    "for num in range(a, b + 1):\n",
    "    ip = True\n",
    "    for p in primes_s:\n",
    "        used += 1\n",
    "        if p > num:\n",
    "            break\n",
    "        if num % p == 0:\n",
    "            ip = False\n",
    "            break\n",
    "                \n",
    "    if ip:\n",
    "        total += 1\n",
    "        \n",
    "print(used)\n",
    "print(total)"
   ]
  },
  {
   "cell_type": "code",
   "execution_count": 42,
   "metadata": {},
   "outputs": [
    {
     "data": {
      "text/plain": [
       "85714"
      ]
     },
     "execution_count": 42,
     "metadata": {},
     "output_type": "execute_result"
    }
   ],
   "source": [
    "len(primes_s)"
   ]
  },
  {
   "cell_type": "code",
   "execution_count": 67,
   "metadata": {},
   "outputs": [
    {
     "name": "stdout",
     "output_type": "stream",
     "text": [
      "1 10\n",
      "7\n"
     ]
    }
   ],
   "source": [
    "max_num = 1000005\n",
    "sp = [0] * (max_num + 1)\n",
    "primes = []\n",
    "for i in range(2, max_num + 1):\n",
    "    if sp[i] == 0:\n",
    "        sp[i] = i\n",
    "        primes.append(i)\n",
    "        \n",
    "    j = 0\n",
    "    while j < len(primes) and i * primes[j] <= max_num and primes[j] <= sp[i]:\n",
    "        sp[i * primes[j]] = primes[j]\n",
    "        j += 1\n",
    "\n",
    "a, b = map(int, input().split())\n",
    "\n",
    "intv_len = b - a + 1\n",
    "rs = [True] * intv_len\n",
    "for p in primes:\n",
    "    p_s = p ** 2\n",
    "    \n",
    "    remained = a % p_s\n",
    "    \n",
    "    if not remained:\n",
    "        cur = 0\n",
    "    else:\n",
    "        lacks = p_s - remained\n",
    "        cur = lacks\n",
    "    \n",
    "    while cur < intv_len:\n",
    "        rs[cur] = False\n",
    "        cur += p_s\n",
    "        \n",
    "print(sum(rs))"
   ]
  }
 ],
 "metadata": {
  "kernelspec": {
   "display_name": "Python 3",
   "language": "python",
   "name": "python3"
  },
  "language_info": {
   "codemirror_mode": {
    "name": "ipython",
    "version": 3
   },
   "file_extension": ".py",
   "mimetype": "text/x-python",
   "name": "python",
   "nbconvert_exporter": "python",
   "pygments_lexer": "ipython3",
   "version": "3.7.4"
  }
 },
 "nbformat": 4,
 "nbformat_minor": 4
}
