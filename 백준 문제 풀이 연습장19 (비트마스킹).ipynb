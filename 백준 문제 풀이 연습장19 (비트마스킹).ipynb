{
 "cells": [
  {
   "cell_type": "markdown",
   "metadata": {},
   "source": [
    "### 이진수 연산 12813\n",
    "- 문자열"
   ]
  },
  {
   "cell_type": "code",
   "execution_count": null,
   "metadata": {},
   "outputs": [],
   "source": [
    "s1 = input()\n",
    "s2 = input()\n",
    "\n",
    "a = int(s1, 2)\n",
    "b = int(s2, 2)\n",
    "\n",
    "print(\"{:0>100000}\".format(bin(a & b)[2:]))\n",
    "print(\"{:0>100000}\".format(bin(a | b)[2:]))\n",
    "print(\"{:0>100000}\".format(bin(a ^ b)[2:]))\n",
    "\n",
    "bin_a = \"{:0>100000}\".format(bin(a)[2:])\n",
    "bin_b = \"{:0>100000}\".format(bin(b)[2:])\n",
    "\n",
    "result_bin_a = \"\"\n",
    "for v in bin_a:\n",
    "    result_bin_a += str(1 ^ int(v))\n",
    "    \n",
    "result_bin_b = \"\"\n",
    "for v in bin_b:\n",
    "    result_bin_b += str(1 ^ int(v))\n",
    "    \n",
    "print(result_bin_a)\n",
    "print(result_bin_b)"
   ]
  },
  {
   "cell_type": "code",
   "execution_count": null,
   "metadata": {},
   "outputs": [],
   "source": [
    "# 다른 사람 코드 (hijae, https://www.acmicpc.net/source/27629312)\n",
    "a=int(input(),2)\n",
    "b=int(input(),2)\n",
    "\n",
    "n = 100000\n",
    "mask=2**n-1\n",
    "\n",
    "print(format(a&b,'b').zfill(n))\n",
    "print(format(a|b,'b').zfill(n))\n",
    "print(format(a^b,'b').zfill(n))\n",
    "print(format(a^mask,'b').zfill(n))\n",
    "print(format(b^mask,'b').zfill(n))"
   ]
  },
  {
   "cell_type": "markdown",
   "metadata": {},
   "source": [
    "### 집합 11723 (다시 풀음)"
   ]
  },
  {
   "cell_type": "code",
   "execution_count": null,
   "metadata": {},
   "outputs": [],
   "source": [
    "import sys\n",
    "sys.stdin.readline"
   ]
  },
  {
   "cell_type": "code",
   "execution_count": 58,
   "metadata": {},
   "outputs": [],
   "source": [
    "from sys import stdin\n"
   ]
  },
  {
   "cell_type": "code",
   "execution_count": 61,
   "metadata": {},
   "outputs": [],
   "source": [
    "from sys import stdin, stdout"
   ]
  },
  {
   "cell_type": "code",
   "execution_count": null,
   "metadata": {},
   "outputs": [],
   "source": [
    "import sys\n",
    "input = lambda: sys.stdin.readline().rstrip()\n",
    "print = sys.stdout.write\n",
    "\n",
    "m = int(input())\n",
    "\n",
    "st = 1048576 # 1 << 20\n",
    "for _ in range(m):\n",
    "    q = input().split()\n",
    "    if q[0] == 'all':\n",
    "        st = 2097151 # 1 << 21 - 1\n",
    "    elif q[0] == 'empty':\n",
    "        st = 1048576 # 1 << 20\n",
    "    else:\n",
    "        value = int(q[1])\n",
    "        if q[0] == 'add':\n",
    "            st |= 1 << (value - 1)\n",
    "        elif q[0] == 'remove':\n",
    "            st &= 2097151 ^ (1 << (value - 1))\n",
    "        elif q[0] == 'check':\n",
    "            if st & (1 << (value - 1)):\n",
    "                print('1\\n')\n",
    "            else:\n",
    "                print('0\\n')\n",
    "        else:\n",
    "            st ^= 1 << (value - 1)"
   ]
  },
  {
   "cell_type": "code",
   "execution_count": 65,
   "metadata": {},
   "outputs": [
    {
     "data": {
      "text/plain": [
       "'0b100'"
      ]
     },
     "execution_count": 65,
     "metadata": {},
     "output_type": "execute_result"
    }
   ],
   "source": [
    "bin(0b11111 - 0b11011)"
   ]
  }
 ],
 "metadata": {
  "kernelspec": {
   "display_name": "Python 3",
   "language": "python",
   "name": "python3"
  },
  "language_info": {
   "codemirror_mode": {
    "name": "ipython",
    "version": 3
   },
   "file_extension": ".py",
   "mimetype": "text/x-python",
   "name": "python",
   "nbconvert_exporter": "python",
   "pygments_lexer": "ipython3",
   "version": "3.7.3"
  }
 },
 "nbformat": 4,
 "nbformat_minor": 4
}
