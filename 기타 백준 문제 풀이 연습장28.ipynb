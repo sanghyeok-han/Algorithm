{
 "cells": [
  {
   "cell_type": "markdown",
   "metadata": {},
   "source": [
    "https://www.acmicpc.net/problem/14394 9-퍼즐"
   ]
  },
  {
   "cell_type": "code",
   "execution_count": 3,
   "metadata": {},
   "outputs": [
    {
     "name": "stdout",
     "output_type": "stream",
     "text": [
      "RRBR*BRBBB\n",
      "BBRB*RBRRR\n",
      "1\n"
     ]
    }
   ],
   "source": [
    "alphas = 'RGYB'\n",
    "\n",
    "A = input()\n",
    "B = input()\n",
    "\n",
    "A_cs = [0] * 4\n",
    "B_cs = [0] * 4\n",
    "\n",
    "for v in A:\n",
    "    if v in alphas:\n",
    "        A_cs[alphas.index(v)] += 1\n",
    "        \n",
    "for v in B:\n",
    "    if v in alphas:\n",
    "        B_cs[alphas.index(v)] += 1\n",
    "        \n",
    "diffs = [A_cs[i] - B_cs[i] for i in range(4)]\n",
    "result = sum([v for v in diffs if v >= 1])\n",
    "\n",
    "print(result)"
   ]
  },
  {
   "cell_type": "markdown",
   "metadata": {},
   "source": [
    "https://www.acmicpc.net/problem/24928 Magical Runes"
   ]
  },
  {
   "cell_type": "code",
   "execution_count": 6,
   "metadata": {},
   "outputs": [
    {
     "name": "stdout",
     "output_type": "stream",
     "text": [
      "ABBABBABBABBABBABBABBABBABBABA 536870912\n",
      "ABBABBABBABBABBABBABBABBABBABB\n"
     ]
    }
   ],
   "source": [
    "s, d = input().split()\n",
    "d = int(d)\n",
    "\n",
    "li = list(s)\n",
    "for i in range(len(s)):\n",
    "    if d % 2 == 1:\n",
    "        if li[i] == 'A':\n",
    "            li[i] = 'B'\n",
    "            nd = d // 2\n",
    "        else:\n",
    "            li[i] = 'A'\n",
    "            nd = (d // 2) + 1\n",
    "    elif d % 2 == 0:\n",
    "        nd = d // 2\n",
    "        \n",
    "    d = nd\n",
    "    \n",
    "result = ''.join(li)\n",
    "\n",
    "print(result)"
   ]
  },
  {
   "cell_type": "markdown",
   "metadata": {},
   "source": [
    "https://www.acmicpc.net/problem/30089 새로운 문자열 만들기"
   ]
  },
  {
   "cell_type": "code",
   "execution_count": 8,
   "metadata": {},
   "outputs": [
    {
     "name": "stdout",
     "output_type": "stream",
     "text": [
      "ra\n",
      "rar\n"
     ]
    }
   ],
   "source": [
    "def check(ns):\n",
    "    if ns[:len(s)] == s and ns[-len(s):][::-1] == s:\n",
    "        return True\n",
    "    return False\n",
    "\n",
    "for _ in range(int(input())):\n",
    "    s = input()\n",
    "\n",
    "    if check(s):\n",
    "        print(s)\n",
    "    else:\n",
    "        for i in range(1, len(s) + 1):\n",
    "            ns = s + s[::-1][-i:]\n",
    "\n",
    "            if check(ns):\n",
    "                print(ns)\n",
    "                break"
   ]
  },
  {
   "cell_type": "markdown",
   "metadata": {},
   "source": [
    "https://www.acmicpc.net/problem/30090 백신 개발"
   ]
  },
  {
   "cell_type": "code",
   "execution_count": 24,
   "metadata": {},
   "outputs": [
    {
     "name": "stdout",
     "output_type": "stream",
     "text": [
      "8\n"
     ]
    }
   ],
   "source": [
    "from itertools import permutations as perm\n",
    "\n",
    "# n = int(input())\n",
    "# li = [input() for _ in range(n)]\n",
    "\n",
    "total_len = 0\n",
    "for v in li:\n",
    "    total_len += len(v)\n",
    "\n",
    "min_r = total_len\n",
    "for case in perm(li):\n",
    "    ip = True\n",
    "    \n",
    "    cur = case[0]\n",
    "    for i in range(1, n):\n",
    "        s = case[i]\n",
    "    \n",
    "        min_len = min(len(cur), len(s))\n",
    "        for j in range(min_len - 1, -1, -1):\n",
    "            if cur[-(j + 1):] == s[:j + 1]:\n",
    "                cur = cur[:-(j + 1)] + s\n",
    "                break\n",
    "        else:\n",
    "            ip = False\n",
    "            break\n",
    "    \n",
    "    if ip:\n",
    "        min_r = min(min_r, len(cur))\n",
    "    \n",
    "print(min_r)"
   ]
  },
  {
   "cell_type": "code",
   "execution_count": null,
   "metadata": {},
   "outputs": [],
   "source": [
    "AABCDEFGH"
   ]
  },
  {
   "cell_type": "code",
   "execution_count": null,
   "metadata": {},
   "outputs": [],
   "source": [
    "aa aa aa abcde defg bcdefgh\n",
    "\n",
    "\n",
    "6\n",
    "AA\n",
    "AA\n",
    "AA\n",
    "ABCDE\n",
    "DEFG\n",
    "BCDEFGH"
   ]
  },
  {
   "cell_type": "code",
   "execution_count": null,
   "metadata": {},
   "outputs": [],
   "source": [
    "3\n",
    "ABCDE\n",
    "DEFG\n",
    "BCDEFGH"
   ]
  },
  {
   "cell_type": "code",
   "execution_count": null,
   "metadata": {},
   "outputs": [],
   "source": [
    "66896740번"
   ]
  },
  {
   "cell_type": "code",
   "execution_count": 26,
   "metadata": {},
   "outputs": [
    {
     "name": "stdout",
     "output_type": "stream",
     "text": [
      "16\n"
     ]
    }
   ],
   "source": [
    "from itertools import permutations as perm\n",
    "\n",
    "# n = int(input())\n",
    "# li = [input() for _ in range(n)]\n",
    "\n",
    "total_len = 0\n",
    "for v in li:\n",
    "    total_len += len(v)\n",
    "\n",
    "max_same_c = 0\n",
    "for case in perm(li):\n",
    "    same_c = 0\n",
    "    \n",
    "    ip = True\n",
    "    for i in range(n - 1):\n",
    "        a = case[i]\n",
    "        b = case[i + 1]\n",
    "    \n",
    "        min_len = min(len(a), len(b))\n",
    "        for j in range(min_len - 1, -1, -1):\n",
    "            if a[-(j + 1):] == b[:j + 1]:\n",
    "                same_c += j + 1\n",
    "                break\n",
    "        else:\n",
    "            ip = False\n",
    "            break\n",
    "    \n",
    "    if ip:\n",
    "        max_same_c = max(max_same_c, same_c)\n",
    "    \n",
    "result = total_len - max_same_c\n",
    "\n",
    "print(result)"
   ]
  },
  {
   "cell_type": "markdown",
   "metadata": {},
   "source": [
    "https://www.acmicpc.net/contest/problem/1124/3 C번 - 함수 문자열"
   ]
  },
  {
   "cell_type": "code",
   "execution_count": 33,
   "metadata": {},
   "outputs": [
    {
     "name": "stdout",
     "output_type": "stream",
     "text": [
      "gggx\n",
      "3\n"
     ]
    }
   ],
   "source": [
    "s = input()\n",
    "\n",
    "values = []\n",
    "ip = True\n",
    "for v in s[::-1]:\n",
    "    if v == 'x':\n",
    "        values.append(0)\n",
    "    elif v == 'g':\n",
    "        if not values:\n",
    "            ip = False\n",
    "            break\n",
    "        values[-1] += 1\n",
    "    else:\n",
    "        if len(values) < 2:\n",
    "            ip = False\n",
    "            break\n",
    "\n",
    "        a = values.pop()    \n",
    "        b = values.pop()    \n",
    "        values.append(min(a, b))\n",
    "    \n",
    "if len(values) >= 2 or not values:\n",
    "    ip = False\n",
    "\n",
    "if ip:\n",
    "    print(values[0])\n",
    "else:\n",
    "    print(-1)"
   ]
  },
  {
   "cell_type": "markdown",
   "metadata": {},
   "source": [
    "https://www.acmicpc.net/contest/problem/1124/1 A번 - ZOAC 6"
   ]
  },
  {
   "cell_type": "code",
   "execution_count": 34,
   "metadata": {},
   "outputs": [
    {
     "name": "stdout",
     "output_type": "stream",
     "text": [
      "1\n",
      "01\n",
      "1\n"
     ]
    }
   ],
   "source": [
    "n = int(input())\n",
    "\n",
    "c = 0\n",
    "for _ in range(n):\n",
    "    s = input()\n",
    "    \n",
    "    if '01' in s or 'OI' in s:\n",
    "        c += 1\n",
    "        \n",
    "print(c)"
   ]
  },
  {
   "cell_type": "markdown",
   "metadata": {},
   "source": [
    "https://www.acmicpc.net/contest/problem/1124/2 B번 - HJS"
   ]
  },
  {
   "cell_type": "code",
   "execution_count": null,
   "metadata": {},
   "outputs": [],
   "source": [
    "n = int(input())\n",
    "\n",
    "conds = set()\n",
    "li = [input() for _ in range(3)]\n",
    "cands = [(0, 1), (1, 2), (0, 2)]\n",
    "\n",
    "for a, b in cands:\n",
    "    for i in range(n):\n",
    "        if li[a][i] == li[b][i]:\n",
    "            continue\n",
    "        else:\n",
    "            conds.add((li[a][i], li[b][i]))\n",
    "            break          \n",
    "            \n",
    "ip = True\n",
    "\n",
    "if li[0] == li[1] or li[0] == li[2] or li[1] == li[2]:\n",
    "    ip = False\n",
    "else:\n",
    "    alphas = {'H', 'J', 'S'}\n",
    "    for a, b in conds:\n",
    "        c = (alphas - {a} - {b}).pop()\n",
    "\n",
    "        if (b, a) in conds or ((b, c) in conds and (c, a) in conds):\n",
    "            ip = False\n",
    "            break\n",
    "\n",
    "if ip:\n",
    "    print('HJS! HJS! HJS!')\n",
    "else:\n",
    "    print('Hmm...')"
   ]
  },
  {
   "cell_type": "markdown",
   "metadata": {},
   "source": [
    "https://www.acmicpc.net/contest/problem/1124/4 D번 - 함수 문자열이 너무 많아!!"
   ]
  },
  {
   "cell_type": "markdown",
   "metadata": {},
   "source": [
    "dp, dp[길이][점수]"
   ]
  },
  {
   "cell_type": "code",
   "execution_count": null,
   "metadata": {},
   "outputs": [],
   "source": [
    "dp[n][sc] = (n - 1)을 나눠먹은 2개의 구간 중 min 값이 sc여야됨"
   ]
  },
  {
   "cell_type": "code",
   "execution_count": null,
   "metadata": {},
   "outputs": [],
   "source": [
    "6 1:  1-1  5-4\n",
    "      2-?  5-4\n",
    "      3-?  3-?\n",
    "    \n",
    "      브루트포스"
   ]
  },
  {
   "cell_type": "code",
   "execution_count": null,
   "metadata": {},
   "outputs": [],
   "source": [
    "x gx ggx gggx ggggx ggggx"
   ]
  },
  {
   "cell_type": "code",
   "execution_count": 10,
   "metadata": {},
   "outputs": [
    {
     "name": "stdout",
     "output_type": "stream",
     "text": [
      "112 2\n",
      "41962903\n"
     ]
    }
   ],
   "source": [
    "mod = 1000000007\n",
    "\n",
    "n, e = map(int, input().split())\n",
    "\n",
    "if n <= e:\n",
    "    print(0)\n",
    "else:\n",
    "    dp = [[0] * (n + 2) for _ in range(n + 1)]\n",
    "    sdp = [[0] * (n + 2) for _ in range(n + 1)]\n",
    "\n",
    "    dp[1][0] = 1\n",
    "    for length in range(2, n + 1):\n",
    "        for sc in range(1, n + 1):\n",
    "            dp[length][sc] += dp[length - 1][sc - 1]\n",
    "            dp[length][sc] %= mod\n",
    "\n",
    "        for sc in range(n + 1):\n",
    "            for a_length in range(1, length):\n",
    "                b_length = length - 1 - a_length\n",
    "\n",
    "                t1 = dp[a_length][sc] * sdp[b_length][sc + 1]\n",
    "                t2 = sdp[a_length][sc + 1] * dp[b_length][sc]\n",
    "                t3 = dp[a_length][sc] * dp[b_length][sc]\n",
    "\n",
    "                t1 %= mod\n",
    "                t2 %= mod\n",
    "                t3 %= mod\n",
    "\n",
    "                dp[length][sc] += t1 + t2 + t3\n",
    "                dp[length][sc] %= mod\n",
    "\n",
    "        cumul = 0\n",
    "        for sc in range(n, -1, -1):\n",
    "            cumul += dp[length][sc]\n",
    "            cumul %= mod\n",
    "            sdp[length][sc] = cumul\n",
    "\n",
    "    result = dp[n][e]\n",
    "\n",
    "    print(result)"
   ]
  },
  {
   "cell_type": "markdown",
   "metadata": {},
   "source": [
    "https://www.acmicpc.net/contest/problem/1124/5 F번 - 트리와 쿼리 10^9"
   ]
  },
  {
   "cell_type": "code",
   "execution_count": null,
   "metadata": {},
   "outputs": [],
   "source": [
    "import io, os, sys\n",
    "input = io.BytesIO(os.read(0, os.fstat(0).st_size)).readline\n",
    "\n",
    "q = int(input())\n",
    "\n",
    "pa = {}\n",
    "for _ in range(q):\n",
    "    tp, a, b = map(int, input().split())\n",
    "    \n",
    "    if tp == 1:\n",
    "        pa[b] = a\n",
    "    else:\n",
    "        a_route = [a]\n",
    "        cur = a\n",
    "        while cur != 1:\n",
    "            if cur in pa:\n",
    "                cur = pa[cur]\n",
    "            else:\n",
    "                cur //= 2\n",
    "                \n",
    "            a_route.append(cur)\n",
    "            \n",
    "        b_route = [b]\n",
    "        cur = b\n",
    "        while cur != 1:\n",
    "            if cur in pa:\n",
    "                cur = pa[cur]\n",
    "            else:\n",
    "                cur //= 2\n",
    "                \n",
    "            b_route.append(cur)\n",
    "            \n",
    "        sames = []\n",
    "        while a_route and b_route and a_route[-1] == b_route[-1]:\n",
    "            sames.append(a_route[-1])\n",
    "            a_route.pop()\n",
    "            b_route.pop()\n",
    "            \n",
    "        result = sum(a_route) + sum(b_route) + sames[-1]\n",
    "        \n",
    "        print(result)"
   ]
  },
  {
   "cell_type": "markdown",
   "metadata": {},
   "source": [
    "https://www.acmicpc.net/contest/problem/1124/5 E번 - 영업의 신"
   ]
  },
  {
   "cell_type": "code",
   "execution_count": 14,
   "metadata": {},
   "outputs": [
    {
     "name": "stdout",
     "output_type": "stream",
     "text": [
      "3\n",
      "2 2 100\n",
      "1\n",
      "4 1 50\n",
      "1\n",
      "2 2 10\n",
      "1\n"
     ]
    }
   ],
   "source": [
    "import io, os, sys\n",
    "input = io.BytesIO(os.read(0, os.fstat(0).st_size)).readline\n",
    "\n",
    "# https://github.com/tatyam-prime/SortedSet/blob/main/SortedSet.py\n",
    "import math\n",
    "from bisect import bisect_left, bisect_right\n",
    "from typing import Generic, Iterable, Iterator, TypeVar, Union, List\n",
    "T = TypeVar('T')\n",
    "\n",
    "class SortedSet(Generic[T]):\n",
    "    BUCKET_RATIO = 50\n",
    "    REBUILD_RATIO = 170\n",
    "\n",
    "    def _build(self, a=None) -> None:\n",
    "        \"Evenly divide `a` into buckets.\"\n",
    "        if a is None: a = list(self)\n",
    "        size = self.size = len(a)\n",
    "        bucket_size = int(math.ceil(math.sqrt(size / self.BUCKET_RATIO)))\n",
    "        self.a = [a[size * i // bucket_size : size * (i + 1) // bucket_size] for i in range(bucket_size)]\n",
    "    \n",
    "    def __init__(self, a: Iterable[T] = []) -> None:\n",
    "        \"Make a new SortedSet from iterable. / O(N) if sorted and unique / O(N log N)\"\n",
    "        a = list(a)\n",
    "        if not all(a[i] < a[i + 1] for i in range(len(a) - 1)):\n",
    "            a = sorted(set(a))\n",
    "        self._build(a)\n",
    "\n",
    "    def __iter__(self) -> Iterator[T]:\n",
    "        for i in self.a:\n",
    "            for j in i: yield j\n",
    "\n",
    "    def __reversed__(self) -> Iterator[T]:\n",
    "        for i in reversed(self.a):\n",
    "            for j in reversed(i): yield j\n",
    "    \n",
    "    def __len__(self) -> int:\n",
    "        return self.size\n",
    "    \n",
    "    def __repr__(self) -> str:\n",
    "        return \"SortedSet\" + str(self.a)\n",
    "    \n",
    "    def __str__(self) -> str:\n",
    "        s = str(list(self))\n",
    "        return \"{\" + s[1 : len(s) - 1] + \"}\"\n",
    "\n",
    "    def _find_bucket(self, x: T) -> List[T]:\n",
    "        \"Find the bucket which should contain x. self must not be empty.\"\n",
    "        for a in self.a:\n",
    "            if x <= a[-1]: return a\n",
    "        return a\n",
    "\n",
    "    def __contains__(self, x: T) -> bool:\n",
    "        if self.size == 0: return False\n",
    "        a = self._find_bucket(x)\n",
    "        i = bisect_left(a, x)\n",
    "        return i != len(a) and a[i] == x\n",
    "\n",
    "    def add(self, x: T) -> bool:\n",
    "        \"Add an element and return True if added. / O(√N)\"\n",
    "        if self.size == 0:\n",
    "            self.a = [[x]]\n",
    "            self.size = 1\n",
    "            return True\n",
    "        a = self._find_bucket(x)\n",
    "        i = bisect_left(a, x)\n",
    "        if i != len(a) and a[i] == x: return False\n",
    "        a.insert(i, x)\n",
    "        self.size += 1\n",
    "        if len(a) > len(self.a) * self.REBUILD_RATIO:\n",
    "            self._build()\n",
    "        return True\n",
    "\n",
    "    def discard(self, x: T) -> bool:\n",
    "        \"Remove an element and return True if removed. / O(√N)\"\n",
    "        if self.size == 0: return False\n",
    "        a = self._find_bucket(x)\n",
    "        i = bisect_left(a, x)\n",
    "        if i == len(a) or a[i] != x: return False\n",
    "        a.pop(i)\n",
    "        self.size -= 1\n",
    "        if len(a) == 0: self._build()\n",
    "        return True\n",
    "    \n",
    "    def lt(self, x: T) -> Union[T, None]:\n",
    "        \"Find the largest element < x, or None if it doesn't exist.\"\n",
    "        for a in reversed(self.a):\n",
    "            if a[0] < x:\n",
    "                return a[bisect_left(a, x) - 1]\n",
    "\n",
    "    def le(self, x: T) -> Union[T, None]:\n",
    "        \"Find the largest element <= x, or None if it doesn't exist.\"\n",
    "        for a in reversed(self.a):\n",
    "            if a[0] <= x:\n",
    "                return a[bisect_right(a, x) - 1]\n",
    "\n",
    "    def gt(self, x: T) -> Union[T, None]:\n",
    "        \"Find the smallest element > x, or None if it doesn't exist.\"\n",
    "        for a in self.a:\n",
    "            if a[-1] > x:\n",
    "                return a[bisect_right(a, x)]\n",
    "\n",
    "    def ge(self, x: T) -> Union[T, None]:\n",
    "        \"Find the smallest element >= x, or None if it doesn't exist.\"\n",
    "        for a in self.a:\n",
    "            if a[-1] >= x:\n",
    "                return a[bisect_left(a, x)]\n",
    "    \n",
    "    def __getitem__(self, x: int) -> T:\n",
    "        \"Return the x-th element, or IndexError if it doesn't exist.\"\n",
    "        if x < 0: x += self.size\n",
    "        if x < 0: raise IndexError\n",
    "        for a in self.a:\n",
    "            if x < len(a): return a[x]\n",
    "            x -= len(a)\n",
    "        raise IndexError\n",
    "    \n",
    "    def index(self, x: T) -> int:\n",
    "        \"Count the number of elements < x.\"\n",
    "        ans = 0\n",
    "        for a in self.a:\n",
    "            if a[-1] >= x:\n",
    "                return ans + bisect_left(a, x)\n",
    "            ans += len(a)\n",
    "        return ans\n",
    "\n",
    "    def index_right(self, x: T) -> int:\n",
    "        \"Count the number of elements <= x.\"\n",
    "        ans = 0\n",
    "        for a in self.a:\n",
    "            if a[-1] > x:\n",
    "                return ans + bisect_right(a, x)\n",
    "            ans += len(a)\n",
    "        return\n",
    "    \n",
    "n, m, k = map(int, input().split())\n",
    "\n",
    "wins = [0] * n\n",
    "win_c = 0\n",
    "\n",
    "ssts = [SortedSet() for _ in range(m)]\n",
    "cumuls = [{} for _ in range(n)]\n",
    "\n",
    "for pn in range(n):\n",
    "    temp = list(map(int, input().split()))\n",
    "    for i in range(0, 2 * k, 2):\n",
    "        mn, t = temp[i], temp[i + 1]\n",
    "        mn -= 1\n",
    "        \n",
    "        cumuls[pn][mn] = t\n",
    "        ssts[mn].add((t, pn))\n",
    "        \n",
    "for mn in range(m):\n",
    "    if ssts[mn]:\n",
    "        winner = ssts[mn][-1][1]\n",
    "        wins[winner] += 1\n",
    "        \n",
    "for pn in range(n):\n",
    "    if wins[pn] == k:\n",
    "        win_c += 1\n",
    "        \n",
    "q = int(input())\n",
    "for _ in range(q):\n",
    "    pn, mn, v = map(int, input().split())\n",
    "    pn -= 1\n",
    "    mn -= 1\n",
    "    \n",
    "    init = cumuls[pn][mn]\n",
    "    \n",
    "    cur_winner = ssts[mn][-1][1]\n",
    "    \n",
    "    sst_index = ssts[mn].index((init, -1))\n",
    "    ssts[mn].discard(ssts[mn][sst_index])\n",
    "    \n",
    "    nxt = init + v\n",
    "    cumuls[pn][mn] = nxt\n",
    "    \n",
    "    ssts[mn].add((nxt, pn))\n",
    "    \n",
    "    nxt_winner = ssts[mn][-1][1]\n",
    "    \n",
    "    if cur_winner != nxt_winner:\n",
    "        if wins[cur_winner] == k:\n",
    "            win_c -= 1\n",
    "        wins[cur_winner] -= 1\n",
    "        \n",
    "        wins[nxt_winner] += 1\n",
    "        if wins[nxt_winner] == k:\n",
    "            win_c += 1\n",
    "            \n",
    "    print(win_c)"
   ]
  },
  {
   "cell_type": "markdown",
   "metadata": {},
   "source": [
    "https://www.acmicpc.net/contest/problem/1124/8 H번 - 거리 두기 게임"
   ]
  },
  {
   "cell_type": "code",
   "execution_count": 17,
   "metadata": {},
   "outputs": [
    {
     "name": "stdout",
     "output_type": "stream",
     "text": [
      "4 5\n",
      "7\n",
      "16\n"
     ]
    }
   ],
   "source": [
    "n, m = map(int, input().split())\n",
    "d = int(input())\n",
    "\n",
    "cs = [0] * (n * m + 1)\n",
    "for i in range(n):\n",
    "    for j in range(m):\n",
    "        t1 = i + j\n",
    "        t2 = i + (m - 1 - j)\n",
    "        t3 = (n - 1 - i) + j\n",
    "        t4 = (n - 1 - i) + (m - 1 - j)\n",
    "        \n",
    "        r = max(t1, t2, t3, t4)\n",
    "        cs[r] += 1\n",
    "        \n",
    "result = 0\n",
    "for c in range(d):\n",
    "    result += cs[c]\n",
    "    \n",
    "print(result)"
   ]
  },
  {
   "cell_type": "markdown",
   "metadata": {},
   "source": [
    "https://www.acmicpc.net/contest/problem/1124/10 J번 - 웨이팅"
   ]
  },
  {
   "cell_type": "code",
   "execution_count": 40,
   "metadata": {},
   "outputs": [
    {
     "name": "stdout",
     "output_type": "stream",
     "text": [
      "3 1\n",
      "2 2\n",
      "1 2\n",
      "4 1\n",
      "5 4\n",
      "6 3\n",
      "3\n"
     ]
    }
   ],
   "source": [
    "from heapq import heappush, heappop\n",
    "\n",
    "# n = int(input())\n",
    "\n",
    "# arrived = [[] for _ in range(200001)]\n",
    "# for _ in range(n):\n",
    "#     t1, t2 = map(int, input().split())\n",
    "    \n",
    "#     arrived[t2].append(t1)\n",
    "    \n",
    "heap = []\n",
    "max_wait = 0\n",
    "for ar in range(10):  \n",
    "    is_in = False\n",
    "    for pr in arrived[ar]:\n",
    "        if ar < pr:\n",
    "            heappush(not_lates, (pr, ar))\n",
    "        elif pr < ar:\n",
    "            heappush(lates, (ar, pr))\n",
    "        else:\n",
    "            is_in = True\n",
    "            print(pr, ar)\n",
    "            \n",
    "    if not is_in:\n",
    "        if not_lates and not_lates[0][0] <= ar:\n",
    "            fpr, far = heappop(not_lates)\n",
    "            is_in = True\n",
    "            print(fpr, far)\n",
    "            wait = ar - far\n",
    "            max_wait = max(max_wait, wait)\n",
    "        elif lates:\n",
    "            far, fpr = heappop(lates)\n",
    "            is_in = True\n",
    "            print(fpr, far)\n",
    "            wait = ar - far\n",
    "            max_wait = max(max_wait, wait)\n",
    "        elif not_lates:\n",
    "            fpr, far = heappop(not_lates)\n",
    "            is_in = True\n",
    "            print(fpr, far)\n",
    "            wait = ar - far\n",
    "            max_wait = max(max_wait, wait)\n",
    "\n",
    "        \n",
    "print(max_wait)"
   ]
  },
  {
   "cell_type": "markdown",
   "metadata": {},
   "source": [
    "https://www.acmicpc.net/contest/problem/1134/7 G번 - 돌베어 법칙"
   ]
  },
  {
   "cell_type": "code",
   "execution_count": 2,
   "metadata": {},
   "outputs": [
    {
     "name": "stdout",
     "output_type": "stream",
     "text": [
      "30\n",
      "...#####.....#####.....#####..\n",
      "3\n"
     ]
    }
   ],
   "source": [
    "from collections import deque\n",
    "\n",
    "n = int(input())\n",
    "s = input()\n",
    "\n",
    "if s == '.' * n:\n",
    "    print(0)\n",
    "else:\n",
    "    min_c = 2000\n",
    "    for term in range(1, n):\n",
    "        deq = deque()\n",
    "        c = 0\n",
    "        for i in range(n):\n",
    "            if s[i] == '#':\n",
    "                while deq and deq[0] + term < i:\n",
    "                    deq.popleft()\n",
    "                    \n",
    "                if deq and deq[0] + term == i:\n",
    "                    deq.popleft()\n",
    "                    deq.append(i)\n",
    "                else:\n",
    "                    c += 1\n",
    "                    deq.append(i)\n",
    "        min_c = min(min_c, c)\n",
    "        \n",
    "    print(min_c)"
   ]
  },
  {
   "cell_type": "markdown",
   "metadata": {},
   "source": [
    "https://www.acmicpc.net/contest/problem/1134/6 F번 - 개구리 매칭"
   ]
  },
  {
   "cell_type": "code",
   "execution_count": 11,
   "metadata": {},
   "outputs": [
    {
     "name": "stdout",
     "output_type": "stream",
     "text": [
      "5 3\n",
      "0 13 20\n",
      "2 5\n",
      "5 1\n"
     ]
    }
   ],
   "source": [
    "inf = float('inf')\n",
    "\n",
    "s, n = map(int, input().split())\n",
    "E = list(map(int, input().split()))\n",
    "k, l = map(int, input().split())\n",
    "\n",
    "min_r = inf\n",
    "min_r_i = inf\n",
    "for i in range(n):\n",
    "    e = E[i]\n",
    "    \n",
    "    diff = abs(s - e)\n",
    "    \n",
    "    if diff >= k * 2:\n",
    "        diff -= k * 2\n",
    "        needed = diff * l\n",
    "    else:\n",
    "        needed = k * 2 - diff\n",
    "        \n",
    "    if needed < min_r:\n",
    "        min_r = needed\n",
    "        min_r_i = i\n",
    "\n",
    "print(min_r, min_r_i + 1)"
   ]
  },
  {
   "cell_type": "markdown",
   "metadata": {},
   "source": [
    "https://www.acmicpc.net/contest/problem/1134/2 B번 - 준영이의 등급"
   ]
  },
  {
   "cell_type": "code",
   "execution_count": 21,
   "metadata": {},
   "outputs": [
    {
     "data": {
      "text/plain": [
       "[[0, 4],\n",
       " [4, 11],\n",
       " [11, 23],\n",
       " [23, 40],\n",
       " [40, 60],\n",
       " [60, 77],\n",
       " [77, 89],\n",
       " [89, 96],\n",
       " [96, 100]]"
      ]
     },
     "execution_count": 21,
     "metadata": {},
     "output_type": "execute_result"
    }
   ],
   "source": [
    "import re\n",
    "\n",
    "s = '''1등급\t \n",
    "$0 \\leq P \\leq 4$ \n",
    "2등급\t \n",
    "$4 < P \\leq 11$ \n",
    "3등급\t \n",
    "$11 < P \\leq 23$ \n",
    "4등급\t \n",
    "$23 < P \\leq 40$ \n",
    "5등급\t \n",
    "$40 < P \\leq 60$ \n",
    "6등급\t \n",
    "$60 < P \\leq 77$ \n",
    "7등급\t \n",
    "$77 < P \\leq 89$ \n",
    "8등급\t \n",
    "$89 < P \\leq 96$ \n",
    "9등급\t \n",
    "$96 < P \\leq 100$ '''\n",
    "\n",
    "s = s.replace('\\u200a', '')\n",
    "s = s.replace('\\\\', '')\n",
    "s = s.replace('\\t', '')\n",
    "s = s.replace('$', '')\n",
    "\n",
    "li = s.split('\\n')\n",
    "\n",
    "conds = []\n",
    "for i in range(len(li)):\n",
    "    if i % 2 == 1:\n",
    "        nums = re.findall(\"\\d+\", li[i])\n",
    "        nums = list(map(int, nums))\n",
    "        \n",
    "        conds.append(nums)\n",
    "\n",
    "conds"
   ]
  },
  {
   "cell_type": "code",
   "execution_count": 26,
   "metadata": {},
   "outputs": [
    {
     "name": "stdout",
     "output_type": "stream",
     "text": [
      "100 9\n",
      "4 11 23 40 60 77 89 96 100\n",
      "1 2 3 4 5 6 7 8 9\n"
     ]
    }
   ],
   "source": [
    "conds = [[0, 4],\n",
    " [4, 11],\n",
    " [11, 23],\n",
    " [23, 40],\n",
    " [40, 60],\n",
    " [60, 77],\n",
    " [77, 89],\n",
    " [89, 96],\n",
    " [96, 100]]\n",
    "\n",
    "n, k = map(int, input().split())\n",
    "li = list(map(int, input().split()))\n",
    "\n",
    "result = [0] * k\n",
    "for i in range(k):\n",
    "    rank = li[i]\n",
    "    \n",
    "    p = rank * 100 // n\n",
    "    if p == 0:\n",
    "        result[i] = 1\n",
    "    else:\n",
    "        for j in range(len(conds)):\n",
    "            a = conds[j][0]\n",
    "            b = conds[j][1]\n",
    "\n",
    "            if a < p <= b:\n",
    "                result[i] = j + 1\n",
    "                break\n",
    "            \n",
    "print(*result)"
   ]
  },
  {
   "cell_type": "markdown",
   "metadata": {},
   "source": [
    "https://www.acmicpc.net/contest/problem/1134/10 J번 - 학생회 뽑기"
   ]
  },
  {
   "cell_type": "code",
   "execution_count": 28,
   "metadata": {},
   "outputs": [
    {
     "name": "stdout",
     "output_type": "stream",
     "text": [
      "5 3\n",
      "96 31 27 29 15\n",
      "25\n"
     ]
    }
   ],
   "source": [
    "n, k = map(int, input().split())\n",
    "li = list(map(int, input().split()))\n",
    "\n",
    "to_uses = list(range(n))\n",
    "for x in range(19, -1, -1):\n",
    "    cur = 2 ** x\n",
    "    \n",
    "    haves = []\n",
    "    for index in to_uses:\n",
    "        v = li[index]\n",
    "        if v & cur:\n",
    "            haves.append(index)\n",
    "    \n",
    "    c = len(haves)\n",
    "        \n",
    "    if c < k:\n",
    "        continue\n",
    "    else:\n",
    "        to_uses = haves.copy()\n",
    "\n",
    "cur = 2 ** 20 - 1\n",
    "for index in to_uses:\n",
    "    cur &= li[index]\n",
    "    \n",
    "print(cur)"
   ]
  },
  {
   "cell_type": "markdown",
   "metadata": {},
   "source": [
    "https://www.acmicpc.net/contest/problem/1134/9 I번 - 공부 계획하기"
   ]
  },
  {
   "cell_type": "code",
   "execution_count": 61,
   "metadata": {},
   "outputs": [
    {
     "name": "stdout",
     "output_type": "stream",
     "text": [
      "2 4\n",
      "5 6 6 6 6\n",
      "5 6 6 6 6\n",
      "5 6 6 6 6\n",
      "6\n",
      "1 1\n"
     ]
    }
   ],
   "source": [
    "inf = float('inf')\n",
    "\n",
    "n, t = map(int, input().split())\n",
    "S = [list(map(int, input().split())) for _ in range(n)]\n",
    "D = list(map(int, input().split()))\n",
    "\n",
    "dp = [[0] * (t + 1) for _ in range(n)]\n",
    "_from = [[0] * (t + 1) for _ in range(n)]\n",
    "\n",
    "dp[0] = S[0]\n",
    "for i in range(1, n):\n",
    "    for tm in range(t + 1):\n",
    "        max_sc = -1\n",
    "        max_sc_ftm = -1\n",
    "        for ftm in range(tm + 1):\n",
    "            study_time = tm - ftm\n",
    "            sc = dp[i - 1][ftm] + S[i][study_time]\n",
    "            \n",
    "            if sc > max_sc:\n",
    "                max_sc = sc\n",
    "                max_sc_ftm = ftm\n",
    "                \n",
    "        dp[i][tm] = max_sc\n",
    "        _from[i][tm] = max_sc_ftm\n",
    "\n",
    "max_r = -inf\n",
    "max_r_tm = -1\n",
    "for tm in range(t + 1):\n",
    "    temp = dp[n - 1][tm] - D[tm]\n",
    "    if temp > max_r:\n",
    "        max_r = temp\n",
    "        max_r_tm = tm\n",
    "\n",
    "study_times = [0] * n\n",
    "cur = max_r_tm\n",
    "for i in range(n - 1, -1, -1):\n",
    "    fcur = _from[i][cur]\n",
    "    study_time = cur - fcur\n",
    "    study_times[i] = study_time\n",
    "    cur = fcur\n",
    "\n",
    "print(max_r)\n",
    "print(*study_times)"
   ]
  },
  {
   "cell_type": "markdown",
   "metadata": {},
   "source": [
    "https://www.acmicpc.net/contest/problem/1134/8 H번 - 준영이의 사랑"
   ]
  },
  {
   "cell_type": "code",
   "execution_count": 72,
   "metadata": {},
   "outputs": [
    {
     "name": "stdout",
     "output_type": "stream",
     "text": [
      "121\n",
      "[(4, 5, 7, 6), (4, 6, 7, 5), (5, 4, 6, 7), (5, 7, 6, 4), (6, 4, 5, 7), (6, 7, 5, 4), (7, 5, 4, 6), (7, 6, 4, 5)]\n"
     ]
    }
   ],
   "source": [
    "from itertools import permutations as perm\n",
    "\n",
    "li = [1, 1, 1]\n",
    "\n",
    "max_r = 0\n",
    "max_r_cases = []\n",
    "for case in perm(li):\n",
    "    temp = 0\n",
    "    for i in range(len(case)):\n",
    "        temp += case[i] * case[i - 1]\n",
    "        \n",
    "        if temp == max_r:\n",
    "            max_r = temp\n",
    "            max_r_cases.append(case)\n",
    "        elif temp > max_r:\n",
    "            max_r = temp\n",
    "            max_r_cases = [case]\n",
    "            \n",
    "print(max_r)\n",
    "print(max_r_cases)"
   ]
  },
  {
   "cell_type": "markdown",
   "metadata": {},
   "source": [
    "https://www.acmicpc.net/contest/problem/1134/8 H번 - 준영이의 사랑"
   ]
  },
  {
   "cell_type": "code",
   "execution_count": 73,
   "metadata": {},
   "outputs": [
    {
     "name": "stdout",
     "output_type": "stream",
     "text": [
      "4\n",
      "4 5 6 7\n",
      "121\n",
      "4 6 7 5\n"
     ]
    }
   ],
   "source": [
    "n = int(input())\n",
    "li = sorted(map(int, input().split()))\n",
    "\n",
    "result = []\n",
    "used = [False] * n\n",
    "for i in range(0, n, 2):\n",
    "    result.append(li[i])\n",
    "    used[i] = True\n",
    "    \n",
    "for i in range(n - 1, -1, -1):\n",
    "    if not used[i]:\n",
    "        result.append(li[i])\n",
    "        \n",
    "sc = 0\n",
    "for i in range(n):\n",
    "    sc += result[i] * result[i - 1]\n",
    "    \n",
    "print(sc)\n",
    "print(*result)"
   ]
  },
  {
   "cell_type": "markdown",
   "metadata": {},
   "source": [
    "https://www.acmicpc.net/contest/problem/1134/5 E번 - 겹다각형의 각"
   ]
  },
  {
   "cell_type": "code",
   "execution_count": 82,
   "metadata": {},
   "outputs": [
    {
     "name": "stdout",
     "output_type": "stream",
     "text": [
      "3\n",
      "4 4 3\n",
      "1620\n"
     ]
    }
   ],
   "source": [
    "n = int(input())\n",
    "li = list(map(int, input().split()))\n",
    "\n",
    "result = 180 * (li[0] - 2)\n",
    "for i in range(1, n):\n",
    "    result += 180 * li[i]\n",
    "    \n",
    "print(result)"
   ]
  },
  {
   "cell_type": "markdown",
   "metadata": {},
   "source": [
    "https://www.acmicpc.net/contest/problem/1134/3 C번 - 포지션 제로"
   ]
  },
  {
   "cell_type": "code",
   "execution_count": 86,
   "metadata": {},
   "outputs": [
    {
     "name": "stdout",
     "output_type": "stream",
     "text": [
      "3\n",
      "1 2 2\n",
      "-1\n",
      "1\n",
      "5\n",
      "1 1\n"
     ]
    }
   ],
   "source": [
    "n = int(input())\n",
    "x, y, r = map(int, input().split())\n",
    "li = [int(input()) for _ in range(n)]\n",
    "\n",
    "left = x - r\n",
    "right = x + r\n",
    "\n",
    "a = b = 0\n",
    "for v in li:\n",
    "    if v == left or v == right:\n",
    "        b += 1\n",
    "    elif left < v < right:\n",
    "        a += 1\n",
    "        \n",
    "print(a, b)"
   ]
  }
 ],
 "metadata": {
  "kernelspec": {
   "display_name": "Python 3",
   "language": "python",
   "name": "python3"
  },
  "language_info": {
   "codemirror_mode": {
    "name": "ipython",
    "version": 3
   },
   "file_extension": ".py",
   "mimetype": "text/x-python",
   "name": "python",
   "nbconvert_exporter": "python",
   "pygments_lexer": "ipython3",
   "version": "3.8.3"
  }
 },
 "nbformat": 4,
 "nbformat_minor": 4
}
