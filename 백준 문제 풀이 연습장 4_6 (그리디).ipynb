{
 "cells": [
  {
   "cell_type": "markdown",
   "metadata": {},
   "source": [
    "### 2xN 예쁜 타일링 18230"
   ]
  },
  {
   "cell_type": "code",
   "execution_count": 1,
   "metadata": {},
   "outputs": [
    {
     "name": "stdout",
     "output_type": "stream",
     "text": [
      "5 4 3\n",
      "1 2 3 4\n",
      "4 5 6\n",
      "15\n"
     ]
    }
   ],
   "source": [
    "n, a, b = map(int, input().split())\n",
    "a = sorted(map(int, input().split()))\n",
    "b = list(map(int, input().split()))\n",
    "\n",
    "total = 0\n",
    "if n % 2 == 1:\n",
    "    total += a.pop()\n",
    "    n -= 1\n",
    "    \n",
    "while len(a) >= 2:\n",
    "    b.append(a.pop() + a.pop())\n",
    "    \n",
    "b.sort()\n",
    "for _ in range(n // 2):\n",
    "    total += b.pop()\n",
    "    \n",
    "print(total)"
   ]
  },
  {
   "cell_type": "markdown",
   "metadata": {},
   "source": [
    "### 3차원 막대기 연결하기 19950"
   ]
  },
  {
   "cell_type": "code",
   "execution_count": 8,
   "metadata": {},
   "outputs": [
    {
     "name": "stdout",
     "output_type": "stream",
     "text": [
      "0 0 0 0 0 2\n",
      "3\n",
      "1 1 100\n",
      "NO\n"
     ]
    }
   ],
   "source": [
    "x1, y1, z1, x2, y2, z2 = map(int, input().split())\n",
    "n = int(input())\n",
    "li = sorted(map(int, input().split()))\n",
    "\n",
    "dist_s = (x1 - x2) ** 2 + (y1 - y2) ** 2 + (z1 - z2) ** 2\n",
    "dist = dist_s ** 0.5\n",
    "sv_s = sum(li) ** 2\n",
    "\n",
    "if n == 1:\n",
    "    if dist_s == sv_s:\n",
    "        print('YES')\n",
    "    else:\n",
    "        print('NO')\n",
    "else:\n",
    "    if dist_s <= sv_s and li[-1] <= sum(li[:-1]) + dist:\n",
    "        print('YES')\n",
    "    else:\n",
    "        print('NO')"
   ]
  },
  {
   "cell_type": "markdown",
   "metadata": {},
   "source": [
    "### A를 B로 13019"
   ]
  },
  {
   "cell_type": "code",
   "execution_count": null,
   "metadata": {},
   "outputs": [],
   "source": [
    "# 틀렸음\n",
    "from collections import Counter, deque\n",
    "\n",
    "a = input()\n",
    "b = input()\n",
    "n = len(a)\n",
    "\n",
    "ca = Counter(a)\n",
    "cb = Counter(b)\n",
    "\n",
    "if ca != cb:\n",
    "    print(-1)\n",
    "else:\n",
    "    a = deque([[v] for v in a])\n",
    "\n",
    "    total = 0\n",
    "    for bi in range(n - 1, -1, -1):\n",
    "        print(111, a, b[bi])\n",
    "        \n",
    "        temp = []\n",
    "        while b[bi] not in a[-1]:\n",
    "            total += len(a[-1])\n",
    "            temp.extend(a.pop())\n",
    "        \n",
    "        if temp:\n",
    "            a.appendleft(temp.copy())\n",
    "        \n",
    "        a[-1].remove(b[bi])\n",
    "        if not a[-1]:\n",
    "            a.pop()\n",
    "            \n",
    "        print(222, a, b[bi])\n",
    "        \n",
    "    print(total)"
   ]
  },
  {
   "cell_type": "code",
   "execution_count": 5,
   "metadata": {},
   "outputs": [
    {
     "name": "stdout",
     "output_type": "stream",
     "text": [
      "aaabbb\n",
      "ababab\n",
      "4\n"
     ]
    }
   ],
   "source": [
    "from collections import Counter\n",
    "\n",
    "a = input()\n",
    "b = input()\n",
    "n = len(a)\n",
    "\n",
    "ca = Counter(a)\n",
    "cb = Counter(b)\n",
    "\n",
    "if ca != cb:\n",
    "    print(-1)\n",
    "else:\n",
    "    bi = n - 1\n",
    "    c = 0\n",
    "    for ai in range(n - 1, -1, -1):\n",
    "        if a[ai] == b[bi]:\n",
    "            bi -= 1\n",
    "            c += 1\n",
    "            \n",
    "    print(n - c)"
   ]
  },
  {
   "cell_type": "markdown",
   "metadata": {},
   "source": [
    "### 볼 모으기 17615"
   ]
  },
  {
   "cell_type": "code",
   "execution_count": 10,
   "metadata": {},
   "outputs": [
    {
     "name": "stdout",
     "output_type": "stream",
     "text": [
      "5\n",
      "BBRBB\n",
      "1\n"
     ]
    }
   ],
   "source": [
    "n = int(input())\n",
    "s = input()\n",
    "\n",
    "cr = 0 # count r\n",
    "cb = 0 # count b\n",
    "for i in range(n):\n",
    "    if s[i] == 'B':\n",
    "        cb += 1\n",
    "    else:\n",
    "        cr += 1\n",
    "        \n",
    "r = min(cr, cb)\n",
    "\n",
    "to_check = s[0]\n",
    "cont = 0\n",
    "for i in range(n):\n",
    "    if s[i] == to_check:\n",
    "        cont += 1\n",
    "    else:\n",
    "        break\n",
    "        \n",
    "if to_check == 'B':\n",
    "    r = min(r, cb - cont)\n",
    "else:\n",
    "    r = min(r, cr - cont)\n",
    "    \n",
    "to_check = s[-1]\n",
    "cont = 0\n",
    "for i in range(n - 1, -1, -1):\n",
    "    if s[i] == to_check:\n",
    "        cont += 1\n",
    "    else:\n",
    "        break\n",
    "        \n",
    "if to_check == 'B':\n",
    "    r = min(r, cb - cont)\n",
    "else:\n",
    "    r = min(r, cr - cont)\n",
    "    \n",
    "print(r)"
   ]
  },
  {
   "cell_type": "markdown",
   "metadata": {},
   "source": [
    "### 소트 1083"
   ]
  },
  {
   "cell_type": "code",
   "execution_count": 26,
   "metadata": {
    "scrolled": true
   },
   "outputs": [
    {
     "name": "stdout",
     "output_type": "stream",
     "text": [
      "5\n",
      "1 2 3 4 5\n",
      "6\n",
      "5 3 1 2 4\n"
     ]
    }
   ],
   "source": [
    "n = int(input())\n",
    "li = list(map(int, input().split()))\n",
    "s = int(input())\n",
    "\n",
    "sli = sorted(li, reverse=True)\n",
    "for target_loc in range(n):\n",
    "    for sli_i in range(n):\n",
    "        cur_loc = li.index(sli[sli_i])\n",
    "        diff = cur_loc - target_loc\n",
    "        if diff < 0:\n",
    "            continue\n",
    "        if diff <= s:\n",
    "            s -= diff\n",
    "\n",
    "            if diff >= 1:\n",
    "                v = sli[sli_i]\n",
    "                del li[cur_loc]\n",
    "                li.insert(target_loc, v)\n",
    "            break\n",
    "            \n",
    "print(*li)"
   ]
  },
  {
   "cell_type": "markdown",
   "metadata": {},
   "source": [
    "### 피자 오븐 19940"
   ]
  },
  {
   "cell_type": "code",
   "execution_count": null,
   "metadata": {},
   "outputs": [],
   "source": [
    "ADDH, ADDT, MINT, ADDO, MINO"
   ]
  },
  {
   "cell_type": "code",
   "execution_count": null,
   "metadata": {},
   "outputs": [],
   "source": [
    "39\n",
    "\n",
    "+60 -10 -10 -1\n",
    "+10 +10 +10 +10 -1\n",
    "\n",
    "40\n",
    "+60 -10 -10\n",
    "+10 +10 +10 +10"
   ]
  },
  {
   "cell_type": "code",
   "execution_count": null,
   "metadata": {},
   "outputs": [],
   "source": [
    "1\n",
    "+1\n",
    "\n",
    "5\n",
    "+1 +1 +1 +1 +1\n",
    "+10 -1 -1 -1 -1 -1\n",
    "\n",
    "6\n",
    "+10 -1 -1 -1 -1\n",
    "+1 +1 +1 +1 +1  +1\n",
    "\n",
    "10\n",
    "+10\n",
    "\n",
    "32\n",
    "+10 +10 +10 +1 +1\n",
    "\n"
   ]
  },
  {
   "cell_type": "code",
   "execution_count": null,
   "metadata": {},
   "outputs": [],
   "source": [
    "n이 60 이상이면 먼저 60으로 나눌 수 있음\n",
    "\n",
    "일의 자리가 6 이상이면 10 -1 -1 -1 -1를 쓰는게 좋음"
   ]
  },
  {
   "cell_type": "code",
   "execution_count": null,
   "metadata": {},
   "outputs": [],
   "source": [
    "10을 4번 더하는 것 보다는 +60 - 10 - 10이 나음"
   ]
  },
  {
   "cell_type": "code",
   "execution_count": null,
   "metadata": {},
   "outputs": [],
   "source": [
    "import sys\n",
    "# input = lambda: sys.stdin.readline().rstrip()\n",
    "\n",
    "for _ in range(int(input())):\n",
    "    n = int(input())\n",
    "\n",
    "    r = [0, 0, 0, 0, 0] # ADDH ADDT MINT ADDO MINO\n",
    "    if n >= 60:\n",
    "        c = n // 60\n",
    "        r[0] += c\n",
    "        n %= 60\n",
    "        \n",
    "    if n == 45:\n",
    "        nr = [1, 0, 1, 0, 5]\n",
    "        nr[0] += r[0]\n",
    "        print(*nr)\n",
    "    elif n == 55:\n",
    "        nr = [1, 0, 0, 0, 5]\n",
    "        nr[0] += r[0]\n",
    "        print(*nr)\n",
    "    else:\n",
    "        if n % 10 >= 6:\n",
    "            r[1] += 1\n",
    "            r[4] += 10 - n % 10\n",
    "        else:\n",
    "            r[3] += n % 10\n",
    "\n",
    "        n -= n % 10\n",
    "        r[1] += n // 10\n",
    "\n",
    "        if r[1] >= 4:\n",
    "            r[2] = 6 - r[1]\n",
    "            r[1] = 0\n",
    "            r[0] += 1\n",
    "\n",
    "        print(*r)"
   ]
  },
  {
   "cell_type": "code",
   "execution_count": null,
   "metadata": {},
   "outputs": [],
   "source": [
    "+60 -10 -10 -1 -1 -1 -1       36\n",
    "\n",
    "+10 +10 +10 +10 -1 -1 -1 -1"
   ]
  },
  {
   "cell_type": "code",
   "execution_count": null,
   "metadata": {},
   "outputs": [],
   "source": [
    "35\n",
    "0 3 0 5 0"
   ]
  },
  {
   "cell_type": "code",
   "execution_count": null,
   "metadata": {},
   "outputs": [],
   "source": [
    "10 10 10 1 1 1 1 1\n",
    "60 -10 -10 -1 -1 -1 -1 -1"
   ]
  },
  {
   "cell_type": "code",
   "execution_count": null,
   "metadata": {},
   "outputs": [],
   "source": [
    "54\n",
    "60 -10 1 1 1 1\n",
    "60 -1 -1 -1 -1 -1 -1"
   ]
  },
  {
   "cell_type": "code",
   "execution_count": null,
   "metadata": {},
   "outputs": [],
   "source": [
    "55\n",
    "60 -1 -1 -1 -1 -1\n",
    "60 -10 1  1  1  1  1"
   ]
  },
  {
   "cell_type": "code",
   "execution_count": null,
   "metadata": {},
   "outputs": [],
   "source": [
    "45\n",
    "60 -10 -10 1  1  1  1  1\n",
    "60 -10 -1 -1 -1 -1 -1"
   ]
  },
  {
   "cell_type": "markdown",
   "metadata": {},
   "source": [
    "### 두 배 더하기 12931"
   ]
  },
  {
   "cell_type": "code",
   "execution_count": 55,
   "metadata": {},
   "outputs": [
    {
     "name": "stdout",
     "output_type": "stream",
     "text": [
      "5\n",
      "0 0 1 0 1\n",
      "2\n"
     ]
    }
   ],
   "source": [
    "from collections import deque\n",
    "\n",
    "inf = float('inf')\n",
    "\n",
    "def check():\n",
    "    if sum(temp) < sum(needed[v]):\n",
    "        return True\n",
    "    elif sum(temp) == sum(needed[v]):\n",
    "        if temp[0] > needed[v][0]:\n",
    "            return True\n",
    "        \n",
    "    return False\n",
    "\n",
    "needed = [[inf, inf] for _ in range(1001)]\n",
    "needed[0] = [0, 0] # [*2, +1]\n",
    "\n",
    "queue = deque()\n",
    "queue.append(0)\n",
    "while queue:\n",
    "    value = queue.popleft()\n",
    "    \n",
    "    v = value * 2\n",
    "    if v <= 1000:\n",
    "        temp = needed[value].copy()\n",
    "        temp[0] += 1\n",
    "        \n",
    "        if check():\n",
    "            needed[v] = temp.copy()\n",
    "            queue.append(v)\n",
    "            \n",
    "    v = value + 1\n",
    "    if v <= 1000:\n",
    "        temp = needed[value].copy()\n",
    "        temp[1] += 1\n",
    "        \n",
    "        if check():\n",
    "            needed[v] = temp.copy()\n",
    "            queue.append(v)\n",
    "            \n",
    "n = int(input())\n",
    "li = list(map(int, input().split()))\n",
    "\n",
    "max_2 = 0\n",
    "total = 0\n",
    "for v in li:\n",
    "    max_2 = max(max_2, needed[v][0])\n",
    "    total += needed[v][1]\n",
    "    \n",
    "total += max_2\n",
    "\n",
    "print(total)"
   ]
  },
  {
   "cell_type": "code",
   "execution_count": 57,
   "metadata": {},
   "outputs": [
    {
     "name": "stdout",
     "output_type": "stream",
     "text": [
      "3\n",
      "16 16 16\n",
      "7\n"
     ]
    }
   ],
   "source": [
    "n = int(input())\n",
    "li = list(map(int, input().split()))\n",
    "\n",
    "total = 0\n",
    "while True:\n",
    "    for i in range(n):\n",
    "        if li[i] % 2 == 1:\n",
    "            li[i] -= 1\n",
    "            total += 1\n",
    "            \n",
    "    if sum(li) == 0:\n",
    "        break\n",
    "           \n",
    "    total += 1\n",
    "    for i in range(n):\n",
    "        li[i] //= 2\n",
    "        \n",
    "print(total)"
   ]
  },
  {
   "cell_type": "markdown",
   "metadata": {},
   "source": [
    "### 모독 16678"
   ]
  },
  {
   "cell_type": "code",
   "execution_count": 64,
   "metadata": {},
   "outputs": [
    {
     "name": "stdout",
     "output_type": "stream",
     "text": [
      "3\n",
      "1\n",
      "3\n",
      "3\n",
      "1\n"
     ]
    }
   ],
   "source": [
    "from collections import deque\n",
    "import sys\n",
    "input = lambda: sys.stdin.readline().rstrip()\n",
    "\n",
    "n = int(input())\n",
    "li = sorted(int(input()) for _ in range(n))\n",
    "\n",
    "fv = -1\n",
    "diffs = deque()\n",
    "sames = deque()\n",
    "for v in li:\n",
    "    if v != fv:\n",
    "        diffs.append(v)\n",
    "        fv = v\n",
    "    else:\n",
    "        sames.append(v)\n",
    "        \n",
    "to_find = 1\n",
    "total = 0\n",
    "while True:\n",
    "    while diffs and diffs[0] < to_find:\n",
    "        diffs.popleft()\n",
    "    if not diffs:\n",
    "        break\n",
    "    \n",
    "    if diffs[0] == to_find:\n",
    "        to_find += 1\n",
    "        diffs.popleft()\n",
    "        \n",
    "        if not diffs:\n",
    "            break\n",
    "    else:\n",
    "        while sames and sames[0] < to_find:\n",
    "            sames.popleft()\n",
    "            \n",
    "        if sames:\n",
    "            v = sames.popleft()\n",
    "            total += v - to_find\n",
    "        else:\n",
    "            total += diffs.pop() - to_find\n",
    "        to_find += 1\n",
    "        \n",
    "print(total)"
   ]
  },
  {
   "cell_type": "markdown",
   "metadata": {},
   "source": [
    "### Rest Stops 15748"
   ]
  },
  {
   "cell_type": "code",
   "execution_count": 67,
   "metadata": {},
   "outputs": [
    {
     "name": "stdout",
     "output_type": "stream",
     "text": [
      "10 2 4 3\n",
      "7 2\n",
      "8 1\n",
      "15\n"
     ]
    }
   ],
   "source": [
    "import sys\n",
    "input = lambda: sys.stdin.readline().rstrip()\n",
    "\n",
    "l, n, rf, rb = map(int, input().split())\n",
    "li = [list(map(int, input().split())) for _ in range(n)]\n",
    "\n",
    "li.sort(key=lambda x: -x[1])\n",
    "total = 0\n",
    "cur_loc = 0\n",
    "diff = rf - rb\n",
    "for loc, ta in li:\n",
    "    if loc <= cur_loc:\n",
    "        continue\n",
    "    remained = (loc - cur_loc) * diff\n",
    "    total += remained * ta\n",
    "    cur_loc = loc\n",
    "    \n",
    "print(total)"
   ]
  },
  {
   "cell_type": "markdown",
   "metadata": {},
   "source": [
    "### 스카이라인 쉬운거 1863"
   ]
  },
  {
   "cell_type": "code",
   "execution_count": 80,
   "metadata": {},
   "outputs": [
    {
     "name": "stdout",
     "output_type": "stream",
     "text": [
      "10\n",
      "1 1\n",
      "2 2\n",
      "5 1\n",
      "6 3\n",
      "8 1\n",
      "11 0\n",
      "15 2\n",
      "17 3\n",
      "20 2\n",
      "22 1\n",
      "6\n"
     ]
    }
   ],
   "source": [
    "import sys\n",
    "# input = lambda: sys.stdin.readline().rstrip()\n",
    "\n",
    "n = int(input())\n",
    "li = [list(map(int, input().split())) for _ in range(n)]\n",
    "li.sort(key=lambda x: x[0])\n",
    "\n",
    "stack = []\n",
    "st = set()\n",
    "total = 0\n",
    "for _, h in li:\n",
    "    if h == 0:\n",
    "        stack = []\n",
    "        st = set()\n",
    "    else:\n",
    "        if not stack:\n",
    "            total += 1\n",
    "        else:\n",
    "            if stack[-1] < h:\n",
    "                total += 1\n",
    "            else:\n",
    "                if h not in st:\n",
    "                    total += 1\n",
    "                while stack and stack[-1] >= h:\n",
    "                    st.discard(stack.pop())\n",
    "        stack.append(h)\n",
    "        st.add(h)\n",
    "                    \n",
    "print(total)"
   ]
  },
  {
   "cell_type": "markdown",
   "metadata": {},
   "source": [
    "### 지뢰찾기 2140"
   ]
  },
  {
   "cell_type": "code",
   "execution_count": 85,
   "metadata": {},
   "outputs": [
    {
     "name": "stdout",
     "output_type": "stream",
     "text": [
      "6\n"
     ]
    }
   ],
   "source": [
    "def update(x, y):\n",
    "    blanks = []\n",
    "    needed = int(li[x][y])\n",
    "    for d in range(8):\n",
    "        nx = x + dx[d]\n",
    "        ny = y + dy[d]\n",
    "        \n",
    "        if nx < 0 or nx >= n or ny < 0 or ny >= n:\n",
    "            continue\n",
    "        if li[nx][ny] == '*':\n",
    "            needed -= 1\n",
    "        elif li[nx][ny] == '#':\n",
    "            blanks.append((nx, ny))\n",
    "           \n",
    "    if not needed:\n",
    "        for nx, ny in blanks:\n",
    "            li[nx][ny] = 'X'\n",
    "    else:\n",
    "        for nx, ny in blanks:\n",
    "            li[nx][ny] = '*'\n",
    "\n",
    "n = int(input())\n",
    "li = [list(input()) for _ in range(n)]\n",
    "\n",
    "dx = [-1, -1, -1, 0, 0, 1, 1, 1]\n",
    "dy = [-1, 0, 1, -1, 1, -1, 0, 1]\n",
    "\n",
    "x = 0\n",
    "for y in range(n):\n",
    "    update(x, y)\n",
    "            \n",
    "y = n - 1\n",
    "for x in range(n):\n",
    "    update(x, y)\n",
    "            \n",
    "x = n - 1\n",
    "for y in range(n - 1, -1, -1):\n",
    "    update(x, y)\n",
    "    \n",
    "y = 0\n",
    "for x in range(n - 1, -1, -1):\n",
    "    update(x, y)\n",
    "\n",
    "total = 0\n",
    "for i in range(n):\n",
    "    for j in range(n):\n",
    "        if li[i][j] == '*' or li[i][j] == '#':\n",
    "            total += 1\n",
    "            \n",
    "print(total)"
   ]
  },
  {
   "cell_type": "markdown",
   "metadata": {},
   "source": [
    "### 달력 20207"
   ]
  },
  {
   "cell_type": "code",
   "execution_count": 97,
   "metadata": {},
   "outputs": [
    {
     "name": "stdout",
     "output_type": "stream",
     "text": [
      "5\n",
      "1 9\n",
      "8 9\n",
      "4 6\n",
      "3 4\n",
      "2 5\n",
      "36\n"
     ]
    }
   ],
   "source": [
    "import sys\n",
    "input = lambda: sys.stdin.readline().rstrip()\n",
    "\n",
    "n = int(input())\n",
    "date = [0] * 366\n",
    "for _ in range(n):\n",
    "    s, e = map(int, input().split())\n",
    "    for i in range(s, e + 1):\n",
    "        date[i] += 1\n",
    "        \n",
    "cur_max = 0\n",
    "cont = 0\n",
    "total = 0\n",
    "for i in range(1, 366):\n",
    "    if date[i] >= 1:\n",
    "        cont += 1\n",
    "        cur_max = max(cur_max, date[i])\n",
    "    else:\n",
    "        total += cont * cur_max\n",
    "        cont = 0\n",
    "        cur_max = 0\n",
    "        \n",
    "total += cont * cur_max\n",
    "\n",
    "print(total)"
   ]
  },
  {
   "cell_type": "markdown",
   "metadata": {},
   "source": [
    "### 난로 15553"
   ]
  },
  {
   "cell_type": "code",
   "execution_count": 102,
   "metadata": {},
   "outputs": [
    {
     "name": "stdout",
     "output_type": "stream",
     "text": [
      "10 5\n",
      "1\n",
      "2\n",
      "5\n",
      "6\n",
      "8\n",
      "11\n",
      "13\n",
      "15\n",
      "16\n",
      "20\n",
      "12\n"
     ]
    }
   ],
   "source": [
    "import sys\n",
    "input = lambda: sys.stdin.readline().rstrip()\n",
    "\n",
    "n, k = map(int, input().split())\n",
    "li = [int(input()) for _ in range(n)]\n",
    "\n",
    "diff = []\n",
    "for i in range(n - 1):\n",
    "    diff.append(li[i + 1] - li[i] - 1)\n",
    "    \n",
    "diff.sort()\n",
    "total = n\n",
    "for _ in range(k - 1):\n",
    "    diff.pop()\n",
    "    \n",
    "total += sum(diff)\n",
    "\n",
    "print(total)"
   ]
  },
  {
   "cell_type": "markdown",
   "metadata": {},
   "source": [
    "### 호반우 상인의 이상한 품질 계산법 20117"
   ]
  },
  {
   "cell_type": "code",
   "execution_count": 108,
   "metadata": {},
   "outputs": [
    {
     "name": "stdout",
     "output_type": "stream",
     "text": [
      "4\n",
      "4 2 8 9\n",
      "34\n"
     ]
    }
   ],
   "source": [
    "from collections import deque\n",
    "\n",
    "n = int(input())\n",
    "li = sorted(map(int, input().split()))\n",
    "\n",
    "deq = deque(li)\n",
    "total = 0\n",
    "while len(deq) >= 2:\n",
    "    deq.popleft()\n",
    "    total += deq.pop() * 2\n",
    "    \n",
    "total += sum(deq)\n",
    "\n",
    "print(total)"
   ]
  },
  {
   "cell_type": "markdown",
   "metadata": {},
   "source": [
    "### 휴먼 파이프라인 22981"
   ]
  },
  {
   "cell_type": "code",
   "execution_count": 12,
   "metadata": {},
   "outputs": [
    {
     "name": "stdout",
     "output_type": "stream",
     "text": [
      "2 156000000\n",
      "500 1000\n",
      "104000\n"
     ]
    }
   ],
   "source": [
    "n, k = map(int, input().split())\n",
    "li = sorted(map(int, input().split()))\n",
    "\n",
    "min_r = float('inf')\n",
    "for right_start in range(1, n):\n",
    "    left_total = li[0] * right_start\n",
    "    right_total = li[right_start] * (n - right_start)\n",
    "    \n",
    "    total = left_total + right_total\n",
    "    \n",
    "    r = k // total\n",
    "    if k % total:\n",
    "        r += 1\n",
    "        \n",
    "    min_r = min(min_r, r)\n",
    "    \n",
    "print(min_r)"
   ]
  },
  {
   "cell_type": "markdown",
   "metadata": {},
   "source": [
    "### 뒤집기 3 1464"
   ]
  },
  {
   "cell_type": "code",
   "execution_count": 23,
   "metadata": {},
   "outputs": [
    {
     "name": "stdout",
     "output_type": "stream",
     "text": [
      "ABCD\n",
      "[['A', 'B', 'C', 'D'], ['B', 'A', 'C', 'D'], ['C', 'A', 'B', 'D'], ['C', 'B', 'A', 'D'], ['D', 'A', 'B', 'C'], ['D', 'B', 'A', 'C'], ['D', 'C', 'A', 'B'], ['D', 'C', 'B', 'A']]\n"
     ]
    }
   ],
   "source": [
    "from itertools import combinations as comb\n",
    "\n",
    "s = input()\n",
    "n = len(s)\n",
    "\n",
    "r = []\n",
    "for num in range(0, n + 1):\n",
    "    for case in comb(range(1, n), num):\n",
    "        li = list(s)\n",
    "        for index in case:\n",
    "            li[:index + 1] = li[:index + 1][::-1]\n",
    "\n",
    "        r.append(li)\n",
    "        \n",
    "r.sort()\n",
    "\n",
    "print(r)"
   ]
  },
  {
   "cell_type": "code",
   "execution_count": 24,
   "metadata": {},
   "outputs": [
    {
     "name": "stdout",
     "output_type": "stream",
     "text": [
      "['A', 'B', 'C', 'D']\n",
      "['B', 'A', 'C', 'D']\n",
      "['C', 'A', 'B', 'D']\n",
      "['C', 'B', 'A', 'D']\n",
      "['D', 'A', 'B', 'C']\n",
      "['D', 'B', 'A', 'C']\n",
      "['D', 'C', 'A', 'B']\n",
      "['D', 'C', 'B', 'A']\n"
     ]
    }
   ],
   "source": [
    "for v in r:\n",
    "    print(v)"
   ]
  },
  {
   "cell_type": "code",
   "execution_count": 25,
   "metadata": {},
   "outputs": [
    {
     "name": "stdout",
     "output_type": "stream",
     "text": [
      "ACAB\n",
      "AACB\n"
     ]
    }
   ],
   "source": [
    "s = input()\n",
    "n = len(s)\n",
    "\n",
    "li = sorted(s)\n",
    "\n",
    "left = []\n",
    "right = []\n",
    "for i in range(n - 1, -1, -1):\n",
    "    if li[0] == s[i]:\n",
    "        left.append(s[i])\n",
    "    else:\n",
    "        right.append(s[i])\n",
    "    li.remove(s[i])\n",
    "    \n",
    "right.reverse()\n",
    "r = left + right\n",
    "\n",
    "print(''.join(r))"
   ]
  },
  {
   "cell_type": "markdown",
   "metadata": {},
   "source": [
    "### 합성인수분해 20946"
   ]
  },
  {
   "cell_type": "code",
   "execution_count": 35,
   "metadata": {},
   "outputs": [
    {
     "name": "stdout",
     "output_type": "stream",
     "text": [
      "16\n",
      "4 4\n"
     ]
    }
   ],
   "source": [
    "max_num = int(1e6)\n",
    "sp = [0] * (max_num + 1)\n",
    "primes = []\n",
    "for i in range(2, max_num + 1):\n",
    "    if sp[i] == 0:\n",
    "        sp[i] = i\n",
    "        primes.append(i)\n",
    "        \n",
    "    j = 0\n",
    "    while j < len(primes) and i * primes[j] <= max_num and primes[j] <= sp[i]:\n",
    "        sp[i * primes[j]] = primes[j]\n",
    "        j += 1\n",
    "\n",
    "num = int(input())\n",
    "        \n",
    "r = []\n",
    "cri = int(num ** 0.5) + 1\n",
    "for mod in primes:\n",
    "    if mod > cri:\n",
    "        break\n",
    "    while num % mod == 0:\n",
    "        num //= mod\n",
    "        r.append(mod)\n",
    "\n",
    "if num != 1:\n",
    "    r.append(num)\n",
    "if not r:\n",
    "    r.append(1)\n",
    "\n",
    "if len(r) == 1:\n",
    "    print(-1)\n",
    "else:\n",
    "    r.reverse()\n",
    "    result = []\n",
    "    while len(r) >= 2:\n",
    "        result.append(r.pop() * r.pop())\n",
    "\n",
    "    if r:\n",
    "        result[-1] *= r.pop()\n",
    "\n",
    "    print(*result)"
   ]
  },
  {
   "cell_type": "markdown",
   "metadata": {},
   "source": [
    "### Paired Up 14527"
   ]
  },
  {
   "cell_type": "code",
   "execution_count": 36,
   "metadata": {},
   "outputs": [
    {
     "name": "stdout",
     "output_type": "stream",
     "text": [
      "3\n",
      "1 8\n",
      "2 5\n",
      "1 2\n",
      "10\n"
     ]
    }
   ],
   "source": [
    "from collections import defaultdict as dd\n",
    "import sys\n",
    "input = lambda: sys.stdin.readline().rstrip()\n",
    "\n",
    "n = int(input())\n",
    "\n",
    "d = dd(int)\n",
    "for _ in range(n):\n",
    "    x, y = map(int, input().split())\n",
    "    \n",
    "    d[y] += x\n",
    "    \n",
    "li = sorted(d.items(), key=lambda x: x[0])\n",
    "\n",
    "xs = []\n",
    "ys = []\n",
    "for y, x in li:\n",
    "    xs.append(x)\n",
    "    ys.append(y)\n",
    "    \n",
    "s = 0\n",
    "e = len(xs) - 1\n",
    "r = 0\n",
    "while s <= e:\n",
    "    c = min(xs[s], xs[e])\n",
    "    r = max(r, ys[s] + ys[e])\n",
    "    \n",
    "    xs[s] -= c\n",
    "    xs[e] -= c\n",
    "    \n",
    "    if xs[s] <= 0:\n",
    "        s += 1\n",
    "    if xs[e] <= 0:\n",
    "        e -= 1\n",
    "        \n",
    "print(r)"
   ]
  },
  {
   "cell_type": "markdown",
   "metadata": {},
   "source": [
    "### 배틀로얄 19639"
   ]
  },
  {
   "cell_type": "code",
   "execution_count": null,
   "metadata": {},
   "outputs": [],
   "source": [
    "체력이 절반 초과일 때 적이 있으면 싸우고 그렇지 않으면 회복 가능하면 회복시킨다."
   ]
  },
  {
   "cell_type": "code",
   "execution_count": 7,
   "metadata": {},
   "outputs": [
    {
     "name": "stdout",
     "output_type": "stream",
     "text": [
      "2 2 10\n",
      "5\n",
      "5\n",
      "5\n",
      "5\n",
      "-1\n",
      "1\n",
      "-2\n",
      "2\n"
     ]
    }
   ],
   "source": [
    "import sys\n",
    "input = lambda: sys.stdin.readline().rstrip()\n",
    "\n",
    "x, y, m = map(int, input().split())\n",
    "foes = [int(input()) for _ in range(x)]\n",
    "items = [int(input()) for _ in range(y)]\n",
    "\n",
    "foes_len = len(foes)\n",
    "items_len = len(items)\n",
    "\n",
    "cri = m // 2\n",
    "fi = 0\n",
    "ii = 0\n",
    "cur_h = m\n",
    "r = []\n",
    "while True:\n",
    "    while fi < foes_len and cur_h > cri:\n",
    "        is_changed = True\n",
    "        r.append(-(fi + 1))\n",
    "        cur_h -= foes[fi]\n",
    "        fi += 1\n",
    "    while ii < items_len and cur_h <= cri:\n",
    "        r.append(ii + 1)\n",
    "        cur_h += items[ii]\n",
    "        ii += 1\n",
    "        \n",
    "    if fi == foes_len or ii == items_len:\n",
    "        break\n",
    "        \n",
    "while ii < items_len:\n",
    "    r.append(ii + 1)\n",
    "    ii += 1\n",
    "    \n",
    "ip = True\n",
    "while fi < foes_len:\n",
    "    cur_h -= foes[fi]\n",
    "    if cur_h <= 0:\n",
    "        ip = False\n",
    "        break\n",
    "    r.append(-(fi + 1))\n",
    "    fi += 1\n",
    "    \n",
    "if not ip:\n",
    "    print(0)\n",
    "else:\n",
    "    for v in r:\n",
    "        print(v)"
   ]
  },
  {
   "cell_type": "markdown",
   "metadata": {},
   "source": [
    "### 중앙값 제거 23758"
   ]
  },
  {
   "cell_type": "code",
   "execution_count": 17,
   "metadata": {},
   "outputs": [
    {
     "name": "stdout",
     "output_type": "stream",
     "text": [
      "3\n",
      "2021 1127 1400\n",
      "21\n"
     ]
    }
   ],
   "source": [
    "n = int(input())\n",
    "li = sorted(map(int, input().split()))\n",
    "\n",
    "total = 0\n",
    "for i in range((n + 1) // 2):\n",
    "    v = li[i]\n",
    "    \n",
    "    c = 0\n",
    "    while v > 0:\n",
    "        c += 1\n",
    "        v //= 2\n",
    "    \n",
    "    c -= 1\n",
    "    total += c\n",
    "    \n",
    "total += 1\n",
    "\n",
    "print(total)"
   ]
  },
  {
   "cell_type": "markdown",
   "metadata": {},
   "source": [
    "### 러버덕을 사랑하는 모임 18233"
   ]
  },
  {
   "cell_type": "code",
   "execution_count": 23,
   "metadata": {},
   "outputs": [
    {
     "name": "stdout",
     "output_type": "stream",
     "text": [
      "5 2 20\n",
      "10 20\n",
      "15 16\n",
      "1 8\n",
      "17 22\n",
      "2 3\n",
      "19 0 1 0 0\n"
     ]
    }
   ],
   "source": [
    "from itertools import combinations as comb\n",
    "import sys\n",
    "input = lambda: sys.stdin.readline().rstrip()\n",
    "\n",
    "n, p, e = map(int, input().split())\n",
    "li = [list(map(int, input().split())) for _ in range(n)]\n",
    "\n",
    "if p > n:\n",
    "    print(-1)\n",
    "else:\n",
    "    ip = False\n",
    "    p_case = [] # possible case\n",
    "    for case in comb(range(n), p):\n",
    "        min_sum = 0\n",
    "        max_sum = 0\n",
    "        for index in case:\n",
    "            min_sum += li[index][0]\n",
    "            max_sum += li[index][1]\n",
    "            \n",
    "        if min_sum <= e <= max_sum:\n",
    "            ip = True\n",
    "            p_case = case\n",
    "            break\n",
    "\n",
    "    if not ip:\n",
    "        print(-1)\n",
    "    else:\n",
    "        r = [0] * n\n",
    "        min_sum = 0\n",
    "        for index in p_case:\n",
    "            min_sum += li[index][0]\n",
    "            r[index] = li[index][0]\n",
    "            \n",
    "        e -= min_sum\n",
    "        for index in p_case:\n",
    "            remained = li[index][1] - li[index][0]\n",
    "            used = min(e, remained)\n",
    "            e -= used\n",
    "            r[index] += used\n",
    "            \n",
    "        print(*r)"
   ]
  },
  {
   "cell_type": "markdown",
   "metadata": {},
   "source": [
    "### 또 전자레인지야? 24390"
   ]
  },
  {
   "cell_type": "code",
   "execution_count": 26,
   "metadata": {},
   "outputs": [
    {
     "name": "stdout",
     "output_type": "stream",
     "text": [
      "02:00\n",
      "3\n"
     ]
    }
   ],
   "source": [
    "m, s = map(int, input().split(':'))\n",
    "\n",
    "n = m * 60 + s\n",
    "\n",
    "if n == 30:\n",
    "    print(1)\n",
    "else:\n",
    "    li = [10, 30, 60, 600]\n",
    "\n",
    "    t1 = 0\n",
    "    nn = n\n",
    "    is_30 = False\n",
    "    for i in range(3, -1, -1):\n",
    "        c = nn // li[i]\n",
    "        t1 += c\n",
    "        nn %= li[i]\n",
    "\n",
    "        if li[i] == 30 and c > 0:\n",
    "            is_30 = True\n",
    "            \n",
    "    if not is_30:\n",
    "        t1 += 1\n",
    "\n",
    "    t2 = float('inf')\n",
    "    nn = n\n",
    "    if nn >= 30:\n",
    "        nn -= 30\n",
    "        t2 = 1\n",
    "        for i in range(3, -1, -1):\n",
    "            c = nn // li[i]\n",
    "            t2 += c\n",
    "            nn %= li[i]\n",
    "\n",
    "    r = min(t1, t2)\n",
    "\n",
    "    print(r)"
   ]
  },
  {
   "cell_type": "markdown",
   "metadata": {},
   "source": [
    "### 링고와 순열 17505"
   ]
  },
  {
   "cell_type": "code",
   "execution_count": null,
   "metadata": {},
   "outputs": [],
   "source": [
    "1 2 3 4 5\n",
    "4 1 2 3 5"
   ]
  },
  {
   "cell_type": "code",
   "execution_count": 28,
   "metadata": {},
   "outputs": [
    {
     "name": "stdout",
     "output_type": "stream",
     "text": [
      "13 78\n",
      "13 12 11 10 9 8 7 6 5 4 3 2 1\n"
     ]
    }
   ],
   "source": [
    "# https://github.com/tatyam-prime/SortedSet/blob/main/SortedMultiset.py\n",
    "import math\n",
    "from bisect import bisect_left, bisect_right, insort\n",
    "from typing import Generic, Iterable, Iterator, TypeVar, Union, List\n",
    "T = TypeVar('T')\n",
    "\n",
    "class SortedMultiset(Generic[T]):\n",
    "    BUCKET_RATIO = 50\n",
    "    REBUILD_RATIO = 170\n",
    "\n",
    "    def _build(self, a=None) -> None:\n",
    "        \"Evenly divide `a` into buckets.\"\n",
    "        if a is None: a = list(self)\n",
    "        size = self.size = len(a)\n",
    "        bucket_size = int(math.ceil(math.sqrt(size / self.BUCKET_RATIO)))\n",
    "        self.a = [a[size * i // bucket_size : size * (i + 1) // bucket_size] for i in range(bucket_size)]\n",
    "    \n",
    "    def __init__(self, a: Iterable[T] = []) -> None:\n",
    "        \"Make a new SortedMultiset from iterable. / O(N) if sorted / O(N log N)\"\n",
    "        a = list(a)\n",
    "        if not all(a[i] <= a[i + 1] for i in range(len(a) - 1)):\n",
    "            a = sorted(a)\n",
    "        self._build(a)\n",
    "\n",
    "    def __iter__(self) -> Iterator[T]:\n",
    "        for i in self.a:\n",
    "            for j in i: yield j\n",
    "\n",
    "    def __reversed__(self) -> Iterator[T]:\n",
    "        for i in reversed(self.a):\n",
    "            for j in reversed(i): yield j\n",
    "    \n",
    "    def __len__(self) -> int:\n",
    "        return self.size\n",
    "    \n",
    "    def __repr__(self) -> str:\n",
    "        return \"SortedMultiset\" + str(self.a)\n",
    "    \n",
    "    def __str__(self) -> str:\n",
    "        s = str(list(self))\n",
    "        return \"{\" + s[1 : len(s) - 1] + \"}\"\n",
    "\n",
    "    def _find_bucket(self, x: T) -> List[T]:\n",
    "        \"Find the bucket which should contain x. self must not be empty.\"\n",
    "        for a in self.a:\n",
    "            if x <= a[-1]: return a\n",
    "        return a\n",
    "\n",
    "    def __contains__(self, x: T) -> bool:\n",
    "        if self.size == 0: return False\n",
    "        a = self._find_bucket(x)\n",
    "        i = bisect_left(a, x)\n",
    "        return i != len(a) and a[i] == x\n",
    "\n",
    "    def count(self, x: T) -> int:\n",
    "        \"Count the number of x.\"\n",
    "        return self.index_right(x) - self.index(x)\n",
    "\n",
    "    def add(self, x: T) -> None:\n",
    "        \"Add an element. / O(√N)\"\n",
    "        if self.size == 0:\n",
    "            self.a = [[x]]\n",
    "            self.size = 1\n",
    "            return\n",
    "        a = self._find_bucket(x)\n",
    "        insort(a, x)\n",
    "        self.size += 1\n",
    "        if len(a) > len(self.a) * self.REBUILD_RATIO:\n",
    "            self._build()\n",
    "\n",
    "    def discard(self, x: T) -> bool:\n",
    "        \"Remove an element and return True if removed. / O(√N)\"\n",
    "        if self.size == 0: return False\n",
    "        a = self._find_bucket(x)\n",
    "        i = bisect_left(a, x)\n",
    "        if i == len(a) or a[i] != x: return False\n",
    "        a.pop(i)\n",
    "        self.size -= 1\n",
    "        if len(a) == 0: self._build()\n",
    "        return True\n",
    "\n",
    "    def lt(self, x: T) -> Union[T, None]:\n",
    "        \"Find the largest element < x, or None if it doesn't exist.\"\n",
    "        for a in reversed(self.a):\n",
    "            if a[0] < x:\n",
    "                return a[bisect_left(a, x) - 1]\n",
    "\n",
    "    def le(self, x: T) -> Union[T, None]:\n",
    "        \"Find the largest element <= x, or None if it doesn't exist.\"\n",
    "        for a in reversed(self.a):\n",
    "            if a[0] <= x:\n",
    "                return a[bisect_right(a, x) - 1]\n",
    "\n",
    "    def gt(self, x: T) -> Union[T, None]:\n",
    "        \"Find the smallest element > x, or None if it doesn't exist.\"\n",
    "        for a in self.a:\n",
    "            if a[-1] > x:\n",
    "                return a[bisect_right(a, x)]\n",
    "\n",
    "    def ge(self, x: T) -> Union[T, None]:\n",
    "        \"Find the smallest element >= x, or None if it doesn't exist.\"\n",
    "        for a in self.a:\n",
    "            if a[-1] >= x:\n",
    "                return a[bisect_left(a, x)]\n",
    "    \n",
    "    def __getitem__(self, x: int) -> T:\n",
    "        \"Return the x-th element, or IndexError if it doesn't exist.\"\n",
    "        if x < 0: x += self.size\n",
    "        if x < 0: raise IndexError\n",
    "        for a in self.a:\n",
    "            if x < len(a): return a[x]\n",
    "            x -= len(a)\n",
    "        raise IndexError\n",
    "\n",
    "    def index(self, x: T) -> int:\n",
    "        \"Count the number of elements < x.\"\n",
    "        ans = 0\n",
    "        for a in self.a:\n",
    "            if a[-1] >= x:\n",
    "                return ans + bisect_left(a, x)\n",
    "            ans += len(a)\n",
    "        return ans\n",
    "\n",
    "    def index_right(self, x: T) -> int:\n",
    "        \"Count the number of elements <= x.\"\n",
    "        ans = 0\n",
    "        for a in self.a:\n",
    "            if a[-1] > x:\n",
    "                return ans + bisect_right(a, x)\n",
    "            ans += len(a)\n",
    "        return ans\n",
    "    \n",
    "n, k = map(int, input().split())\n",
    "    \n",
    "ms = SortedMultiset()\n",
    "for num in range(1, n + 1):\n",
    "    ms.add(num)\n",
    "\n",
    "r = []\n",
    "w = n - 1\n",
    "while w and k:\n",
    "    moved = min(w, k)\n",
    "    r.append(ms[moved])\n",
    "    ms.discard(ms[moved])\n",
    "    w -= 1\n",
    "    k -= moved\n",
    "    \n",
    "if k:\n",
    "    print(-1)\n",
    "else:\n",
    "    for v in ms:\n",
    "        r.append(v)\n",
    "        \n",
    "    print(*r)"
   ]
  },
  {
   "cell_type": "markdown",
   "metadata": {},
   "source": [
    "### 이진수 변환 17395"
   ]
  },
  {
   "cell_type": "code",
   "execution_count": null,
   "metadata": {},
   "outputs": [],
   "source": [
    "10111\n",
    "\n",
    "10111 -> 00111 -> 00000\n",
    "\n",
    "23        7         0\n",
    "\n",
    "\n",
    "10111 -> 00111 -> 00011 -> 00000 \n",
    "\n",
    "23        8         4         0\n",
    "\n",
    "23        8         1        0 "
   ]
  },
  {
   "cell_type": "code",
   "execution_count": null,
   "metadata": {},
   "outputs": [],
   "source": [
    "16      7"
   ]
  },
  {
   "cell_type": "code",
   "execution_count": 37,
   "metadata": {},
   "outputs": [
    {
     "name": "stdout",
     "output_type": "stream",
     "text": [
      "28 1\n",
      "0\n"
     ]
    }
   ],
   "source": [
    "x0, n = map(int, input().split())\n",
    "\n",
    "bins = []\n",
    "for v in bin(x0)[::-1]:\n",
    "    if v == '1':\n",
    "        bins.append(1)\n",
    "    elif v == '0':\n",
    "        bins.append(0)\n",
    "    else:\n",
    "        break\n",
    "        \n",
    "if sum(bins) < n:\n",
    "    print(-1)\n",
    "else:\n",
    "    li = []\n",
    "    x = x0\n",
    "    n -= 1\n",
    "    for i in range(len(bins) - 1, -1, -1):\n",
    "        if bins[i] == 1 and n >= 1:\n",
    "            x -= 2 ** i\n",
    "            li.append(x)\n",
    "            n -= 1\n",
    "            \n",
    "    li.append(0)\n",
    "    \n",
    "    print(*li)"
   ]
  },
  {
   "cell_type": "markdown",
   "metadata": {},
   "source": [
    "### 문자열 복사 2195"
   ]
  },
  {
   "cell_type": "code",
   "execution_count": 41,
   "metadata": {},
   "outputs": [
    {
     "name": "stdout",
     "output_type": "stream",
     "text": [
      "xy0z\n",
      "zzz0yyy0xxx\n",
      "10\n"
     ]
    }
   ],
   "source": [
    "s = input()\n",
    "p = input()\n",
    "\n",
    "sn = len(s)\n",
    "pn = len(p)\n",
    "\n",
    "st = set()\n",
    "for i in range(sn):\n",
    "    for j in range(i + 1, sn + 1):\n",
    "        st.add(s[i:j])\n",
    "        \n",
    "s = 0\n",
    "e = 0\n",
    "total = 1\n",
    "while s <= e <= pn:\n",
    "    if p[s:e + 1] in st:\n",
    "        e += 1\n",
    "    else:\n",
    "        total += 1\n",
    "        s = e\n",
    "        \n",
    "print(total)"
   ]
  },
  {
   "cell_type": "markdown",
   "metadata": {},
   "source": [
    "### 나는 기말고사형 인간이야 23254"
   ]
  },
  {
   "cell_type": "code",
   "execution_count": 50,
   "metadata": {},
   "outputs": [
    {
     "name": "stdout",
     "output_type": "stream",
     "text": [
      "8 7\n",
      "30 15 70 50 40 40 50\n",
      "2 2 1 3 1 2 1\n",
      "627\n"
     ]
    }
   ],
   "source": [
    "from heapq import heapify, heappush, heappop\n",
    "\n",
    "n, m = map(int, input().split())\n",
    "n *= 24\n",
    "\n",
    "a = list(map(int, input().split()))\n",
    "b = list(map(int, input().split()))\n",
    "heap = [[-b[i], a[i]] for i in range(m)]\n",
    "heapify(heap)\n",
    "total = 0\n",
    "while heap:\n",
    "    can_inc, sc = heappop(heap)\n",
    "    can_inc = -can_inc\n",
    "    \n",
    "    remained = 100 - sc\n",
    "    used = min(n, remained // can_inc)\n",
    "    n -= used\n",
    "    nsc = sc + can_inc * used\n",
    "    \n",
    "    if n == 0:\n",
    "        total += nsc\n",
    "        break\n",
    "    elif nsc == 100:\n",
    "        total += 100\n",
    "        continue\n",
    "    else:\n",
    "        heappush(heap, [-(remained % can_inc), nsc])\n",
    "        \n",
    "for _, sc in heap:\n",
    "    total += sc\n",
    "    \n",
    "print(total)"
   ]
  },
  {
   "cell_type": "markdown",
   "metadata": {},
   "source": [
    "### 부분 삼각 수열 1548"
   ]
  },
  {
   "cell_type": "code",
   "execution_count": 55,
   "metadata": {},
   "outputs": [
    {
     "name": "stdout",
     "output_type": "stream",
     "text": [
      "1\n",
      "100\n",
      "1\n"
     ]
    }
   ],
   "source": [
    "n = int(input())\n",
    "li = sorted(map(int, input().split()))\n",
    "\n",
    "if n <= 2:\n",
    "    print(n)\n",
    "else:\n",
    "    max_len = 2\n",
    "    for right_end in range(n - 1, 1, -1):\n",
    "        for left_start in range(right_end - 1):\n",
    "            if li[left_start] + li[left_start + 1] > li[right_end]:\n",
    "                length = n - left_start - (n - 1 - right_end)\n",
    "                max_len = max(max_len, length)\n",
    "                break\n",
    "                \n",
    "    print(max_len)"
   ]
  },
  {
   "cell_type": "markdown",
   "metadata": {},
   "source": [
    "### 화학 실험 20311"
   ]
  },
  {
   "cell_type": "code",
   "execution_count": null,
   "metadata": {},
   "outputs": [],
   "source": [
    "5\n",
    "1 0 1 0 1 같은게 4개 이상이면 안됨"
   ]
  },
  {
   "cell_type": "code",
   "execution_count": null,
   "metadata": {},
   "outputs": [],
   "source": [
    "6\n",
    "1 0 1 0 1 0 같은게 4개 이상이면 안됨"
   ]
  },
  {
   "cell_type": "code",
   "execution_count": null,
   "metadata": {},
   "outputs": [],
   "source": [
    "1  2개 이상  1개 초과\n",
    "2  2개 이상  1개\n",
    "3  3개 이상  2개\n",
    "4  3개 이상  2개\n",
    "5  4개 이상  3개\n",
    "6  4개 이상  3개"
   ]
  },
  {
   "cell_type": "code",
   "execution_count": 65,
   "metadata": {},
   "outputs": [
    {
     "name": "stdout",
     "output_type": "stream",
     "text": [
      "6 3\n",
      "4 1 1\n",
      "-1\n"
     ]
    }
   ],
   "source": [
    "from heapq import heapify, heappop, heappush\n",
    "\n",
    "n, k = map(int, input().split())\n",
    "li = list(map(int, input().split()))\n",
    "\n",
    "if max(li) > (n + 1) // 2:\n",
    "    print(-1)\n",
    "else:\n",
    "    heap = [(-v, i + 1) for i, v in enumerate(li)]\n",
    "    heapify(heap)\n",
    "    \n",
    "    r = []\n",
    "    while heap:\n",
    "        a_count, a_color = heappop(heap)\n",
    "        \n",
    "        if r and a_color == r[-1]:\n",
    "            b_count, b_color = heappop(heap)\n",
    "            r.append(b_color)\n",
    "            if b_count + 1 < 0:\n",
    "                heappush(heap, (b_count + 1, b_color))\n",
    "            heappush(heap, (a_count, a_color))\n",
    "        else:\n",
    "            r.append(a_color)\n",
    "            if a_count + 1 < 0:\n",
    "                heappush(heap, (a_count + 1, a_color))\n",
    "            \n",
    "    print(*r)"
   ]
  },
  {
   "cell_type": "markdown",
   "metadata": {},
   "source": [
    "### 배열과 연산 14222"
   ]
  },
  {
   "cell_type": "code",
   "execution_count": 69,
   "metadata": {},
   "outputs": [
    {
     "name": "stdout",
     "output_type": "stream",
     "text": [
      "5 2\n",
      "5 3 3 2 1\n",
      "0\n"
     ]
    }
   ],
   "source": [
    "n, k = map(int, input().split())\n",
    "li = list(map(int, input().split()))\n",
    "\n",
    "ip = True\n",
    "for num in range(1, n + 1):\n",
    "    if num in li:\n",
    "        li.remove(num)\n",
    "        continue\n",
    "    \n",
    "    cands = [v for v in li if v < num and v % k == num % k]\n",
    "    if not cands:\n",
    "        ip = False\n",
    "        break\n",
    "    li.remove(cands.pop())\n",
    "    \n",
    "if ip:\n",
    "    print(1)\n",
    "else:\n",
    "    print(0)"
   ]
  },
  {
   "cell_type": "markdown",
   "metadata": {},
   "source": [
    "### 턴 게임 12934"
   ]
  },
  {
   "cell_type": "code",
   "execution_count": 87,
   "metadata": {},
   "outputs": [
    {
     "name": "stdout",
     "output_type": "stream",
     "text": [
      "7 13\n",
      "-1\n"
     ]
    }
   ],
   "source": [
    "x, y = map(int, input().split())\n",
    "to_find = x + y\n",
    "\n",
    "cur = 1\n",
    "end = -1\n",
    "sv = 0\n",
    "while True:\n",
    "    sv += cur\n",
    "    if sv >= to_find:\n",
    "        if sv == to_find:\n",
    "            end = cur\n",
    "        break\n",
    "    cur += 1\n",
    "        \n",
    "if end == -1:\n",
    "    print(-1)\n",
    "else:\n",
    "    total = 0\n",
    "    for num in range(end, 0, -1):\n",
    "        if num <= x:\n",
    "            x -= num\n",
    "            total += 1\n",
    "            \n",
    "    print(total)"
   ]
  },
  {
   "cell_type": "markdown",
   "metadata": {},
   "source": [
    "### Social Distancing I 18880"
   ]
  },
  {
   "cell_type": "code",
   "execution_count": 100,
   "metadata": {},
   "outputs": [
    {
     "name": "stdout",
     "output_type": "stream",
     "text": [
      "6\n",
      "000010\n",
      "2\n"
     ]
    }
   ],
   "source": [
    "n = int(input())\n",
    "li = list(map(int, input()))\n",
    "\n",
    "if 1 not in li:\n",
    "    print(n - 1)\n",
    "else:\n",
    "    ois = [] # one indices\n",
    "    for i in range(n):\n",
    "        if li[i] == 1:\n",
    "            ois.append(i)\n",
    "\n",
    "    dists = []\n",
    "    for i in range(len(ois) - 1):\n",
    "        dist = ois[i + 1] - ois[i]\n",
    "        dists.append(dist)\n",
    "    dists.sort()\n",
    "\n",
    "    ends = [ois[0], n - 1 - ois[-1]]\n",
    "      \n",
    "    min_dist = float('inf')\n",
    "    if dists:\n",
    "        min_dist = dists[0]\n",
    "\n",
    "    t1 = 0\n",
    "    if dists:\n",
    "        t1 = min(min_dist, dists[-1] // 3)\n",
    "    \n",
    "    t2 = 0\n",
    "    if len(dists) >= 2:\n",
    "        t2 = min(min_dist, dists[-1] // 2, dists[-2] // 2)\n",
    "        \n",
    "    t3 = 0\n",
    "    if dists:\n",
    "        t3 = min(min_dist, dists[-1] // 2, max(ends))\n",
    "    \n",
    "    t4 = min(min_dist, min(ends))\n",
    "    \n",
    "    t5 = min(min_dist, max(ends) // 2)\n",
    "    \n",
    "    print(max(t1, t2, t3, t4, t5))"
   ]
  }
 ],
 "metadata": {
  "kernelspec": {
   "display_name": "Python 3",
   "language": "python",
   "name": "python3"
  },
  "language_info": {
   "codemirror_mode": {
    "name": "ipython",
    "version": 3
   },
   "file_extension": ".py",
   "mimetype": "text/x-python",
   "name": "python",
   "nbconvert_exporter": "python",
   "pygments_lexer": "ipython3",
   "version": "3.7.4"
  }
 },
 "nbformat": 4,
 "nbformat_minor": 4
}
