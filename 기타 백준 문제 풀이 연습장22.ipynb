{
 "cells": [
  {
   "cell_type": "code",
   "execution_count": 19,
   "metadata": {},
   "outputs": [
    {
     "name": "stdout",
     "output_type": "stream",
     "text": [
      "8\n",
      "0 1\n",
      "0\n",
      "1 0\n",
      "0\n",
      "1 1\n",
      "0\n",
      "1 2\n",
      "1\n",
      "2 1\n",
      "0\n",
      "2 2\n",
      "0\n",
      "3 1\n",
      "1\n",
      "3 2\n",
      "2\n"
     ]
    }
   ],
   "source": [
    "import io, os, sys\n",
    "input = io.BytesIO(os.read(0, os.fstat(0).st_size)).readline\n",
    "print = sys.stdout.write\n",
    "\n",
    "n = int(input())\n",
    "\n",
    "is_cows = [[False] * 1001 for _ in range(1001)]\n",
    "is_comfs = [[False] * 1001 for _ in range(1001)]\n",
    "\n",
    "dx = [0, 0, -1, 1]\n",
    "dy = [-1, 1, 0, 0]\n",
    "\n",
    "comf_c = 0\n",
    "for _ in range(n):\n",
    "    x, y = map(int, input().split())\n",
    "    \n",
    "    is_cows[x][y] = True\n",
    "    \n",
    "    c = 0\n",
    "    to_check = []\n",
    "    for d in range(4):\n",
    "        nx = x + dx[d]\n",
    "        ny = y + dy[d]\n",
    "        \n",
    "        if nx < 0 or nx > 1000 or ny < 0 or ny > 1000:\n",
    "            continue\n",
    "        if is_cows[nx][ny]:\n",
    "            to_check.append((nx, ny))\n",
    "            c += 1\n",
    "        \n",
    "    if c == 3:\n",
    "        is_comfs[x][y] = True\n",
    "        comf_c += 1\n",
    "        \n",
    "    for x, y in to_check:\n",
    "        c = 0\n",
    "        for d in range(4):\n",
    "            nx = x + dx[d]\n",
    "            ny = y + dy[d]\n",
    "\n",
    "            if nx < 0 or nx > 1000 or ny < 0 or ny > 1000:\n",
    "                continue\n",
    "            if is_cows[nx][ny]:\n",
    "                c += 1\n",
    "        \n",
    "        if c == 3 and not is_comfs[x][y]:\n",
    "            comf_c += 1\n",
    "            is_comfs[x][y] = True\n",
    "        elif c != 3 and is_comfs[x][y]:\n",
    "            comf_c -= 1\n",
    "            is_comfs[x][y] = False\n",
    "            \n",
    "    print(str(comf_c) + '\\n')"
   ]
  },
  {
   "cell_type": "markdown",
   "metadata": {},
   "source": [
    "https://www.acmicpc.net/problem/16341 Horsemeet"
   ]
  },
  {
   "cell_type": "code",
   "execution_count": null,
   "metadata": {},
   "outputs": [],
   "source": [
    "dx = [-2, -2, -1, -1, 1, 1, 2, 2]\n",
    "dy = [-1, 1, -2, 2, -2, 2, -1, 1]\n",
    "\n",
    "a, b = map(int, input().split())\n",
    "c, d = map(int, input().split())\n",
    "\n",
    "a -= 1\n",
    "b -= 1\n",
    "c -= 1\n",
    "d -= 1\n",
    "\n",
    "A = [[0] * 8 for _ in range(8)]\n",
    "B = [[0] * 8 for _ in range(8)]\n",
    "\n",
    "A[a][b] = 1\n",
    "B[c][d] = 1\n",
    "\n",
    "a_win_p = 0\n",
    "b_win_p = 0\n",
    "\n",
    "\n",
    "for _ in range(10):\n",
    "    nA = [[0] * 8 for _ in range(8)]\n",
    "    for i in range(8):\n",
    "        for j in range(8):\n",
    "            if A[i][j] != 0:\n",
    "                for d in range(8):\n",
    "                    ni = i + dx[i]\n",
    "                    nj = j + dy[j]\n",
    "                    \n",
    "                    if ni < 0 or ni >= 8 or nj < 0 or nj >= 8:\n",
    "                        continue\n",
    "                    if B[ni][nj] != 0\n",
    "                    nA[ni][nj]\n",
    "    \n",
    "    \n",
    "    nB = [[0] * 8 for _ in range(8)]\n",
    "    \n",
    "    "
   ]
  },
  {
   "cell_type": "code",
   "execution_count": 38,
   "metadata": {},
   "outputs": [
    {
     "name": "stdout",
     "output_type": "stream",
     "text": [
      "1 1\n",
      "8 8\n",
      "black\n"
     ]
    }
   ],
   "source": [
    "from collections import deque\n",
    "\n",
    "dx = [-2, -2, -1, -1, 1, 1, 2, 2]\n",
    "dy = [-1, 1, -2, 2, -2, 2, -1, 1]\n",
    "\n",
    "get_v = lambda x: int(x) - 1\n",
    "\n",
    "sx, sy = map(get_v, input().split())\n",
    "ex, ey = map(get_v, input().split())\n",
    "\n",
    "dists = [[-1] * 8 for _ in range(8)]\n",
    "dists[sx][sy] = 0\n",
    "\n",
    "queue = deque()\n",
    "queue.append((sx, sy))\n",
    "while queue:\n",
    "    x, y = queue.popleft()\n",
    "    \n",
    "    for d in range(8):\n",
    "        nx = x + dx[d]\n",
    "        ny = y + dy[d]\n",
    "\n",
    "        if nx < 0 or nx >= 8 or ny < 0 or ny >= 8:\n",
    "            continue\n",
    "            \n",
    "        if dists[nx][ny] == -1:\n",
    "            dists[nx][ny] = dists[x][y] + 1\n",
    "            queue.append((nx, ny))\n",
    "    \n",
    "dist = dists[ex][ey]\n",
    "    \n",
    "if dist % 2 == 1:\n",
    "    print('white')\n",
    "else:\n",
    "    print('black')"
   ]
  },
  {
   "cell_type": "markdown",
   "metadata": {},
   "source": [
    "https://www.acmicpc.net/problem/24840 Challenge Nine"
   ]
  },
  {
   "cell_type": "code",
   "execution_count": 55,
   "metadata": {},
   "outputs": [
    {
     "name": "stdout",
     "output_type": "stream",
     "text": [
      "3\n",
      "5\n",
      "Case #1: 45\n",
      "33\n",
      "Case #2: 333\n",
      "12121\n",
      "Case #3: 121212\n"
     ]
    }
   ],
   "source": [
    "import sys\n",
    "input = lambda: sys.stdin.readline().rstrip()\n",
    "\n",
    "for tn in range(int(input())):\n",
    "    li = list(map(int, input()))\n",
    "\n",
    "    sv = sum(li)\n",
    "\n",
    "    temp = sv % 9\n",
    "    if temp == 0:\n",
    "        needed = 0\n",
    "    else:\n",
    "        needed = 9 - temp\n",
    "\n",
    "    target = len(li)\n",
    "    for i in range(len(li)):\n",
    "        if li[i] > needed:\n",
    "            if needed == 0 and i == 0:\n",
    "                continue\n",
    "            target = i\n",
    "            break\n",
    "\n",
    "    li.insert(target, needed)\n",
    "\n",
    "    result = ''.join(map(str, li))\n",
    "    \n",
    "    print(f'Case #{tn + 1}: {result}')"
   ]
  },
  {
   "cell_type": "markdown",
   "metadata": {},
   "source": [
    "https://www.acmicpc.net/problem/23306 binary는 호남선"
   ]
  },
  {
   "cell_type": "code",
   "execution_count": null,
   "metadata": {},
   "outputs": [],
   "source": [
    "import sys\n",
    "input = lambda: sys.stdin.readline().rstrip()\n",
    "\n",
    "n = int(input())\n",
    "\n",
    "print('?', 1)\n",
    "sys.stdout.flush()\n",
    "first = int(input())\n",
    "\n",
    "print('?', n)\n",
    "sys.stdout.flush()\n",
    "last = int(input())\n",
    "\n",
    "if first == last:\n",
    "    print('!', 0)\n",
    "    sys.stdout.flush()\n",
    "elif first == 0:\n",
    "    print('!', 1)\n",
    "    sys.stdout.flush()\n",
    "else:\n",
    "    print('!', -1)\n",
    "    sys.stdout.flush()"
   ]
  }
 ],
 "metadata": {
  "kernelspec": {
   "display_name": "Python 3",
   "language": "python",
   "name": "python3"
  },
  "language_info": {
   "codemirror_mode": {
    "name": "ipython",
    "version": 3
   },
   "file_extension": ".py",
   "mimetype": "text/x-python",
   "name": "python",
   "nbconvert_exporter": "python",
   "pygments_lexer": "ipython3",
   "version": "3.8.3"
  }
 },
 "nbformat": 4,
 "nbformat_minor": 4
}
