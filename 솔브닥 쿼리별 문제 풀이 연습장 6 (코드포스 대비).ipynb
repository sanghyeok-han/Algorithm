{
 "cells": [
  {
   "cell_type": "markdown",
   "metadata": {},
   "source": [
    "tier:s5.. solved:100.. (tag:constructive|tag:case_work|tag:number_theory|tag:combinatorics|tag:greedy|tag:bitmask|tag:two_pointer|tag:bruteforcing|tag:trees|tag:prefix_sum|tag:data_structures) - (tag:dp|tag:simulation|tag:arbitrary_precision) - solved_by:hsh8086"
   ]
  },
  {
   "cell_type": "code",
   "execution_count": null,
   "metadata": {},
   "outputs": [],
   "source": [
    "tier:s5.. solved:100.. (tag:constructive|tag:case_work|tag:ad_hoc)"
   ]
  },
  {
   "cell_type": "markdown",
   "metadata": {},
   "source": [
    "### 걷기 1459"
   ]
  },
  {
   "cell_type": "code",
   "execution_count": 21,
   "metadata": {},
   "outputs": [
    {
     "name": "stdout",
     "output_type": "stream",
     "text": [
      "0 0 0 0\n",
      "0\n"
     ]
    }
   ],
   "source": [
    "x, y, w, s = map(int, input().split())\n",
    "\n",
    "t1 = (x + y) * w\n",
    "\n",
    "temp = min(x, y)\n",
    "t2 = temp * s + (x - temp) * w + (y - temp) * w\n",
    "\n",
    "t3 = temp * s\n",
    "\n",
    "nx = (x - temp)\n",
    "ny = (y - temp)\n",
    "\n",
    "if nx:\n",
    "    c = (nx // 2) * 2\n",
    "    t3 += c * s + (nx % 2) * w\n",
    "else:\n",
    "    c = (ny // 2) * 2\n",
    "    t3 += c * s + (ny % 2) * w\n",
    "\n",
    "print(min(t1, t2, t3))"
   ]
  },
  {
   "cell_type": "markdown",
   "metadata": {},
   "source": [
    "### 세 부분 2993"
   ]
  },
  {
   "cell_type": "code",
   "execution_count": 29,
   "metadata": {},
   "outputs": [
    {
     "name": "stdout",
     "output_type": "stream",
     "text": [
      "anakonda\n",
      "aanadnok\n"
     ]
    }
   ],
   "source": [
    "s = input()\n",
    "n = len(s)\n",
    "\n",
    "min_ns = 'z' * n\n",
    "for i in range(n - 1):\n",
    "    for j in range(i + 1, n - 1):\n",
    "        a = s[:i + 1][::-1]\n",
    "        b = s[i + 1:j + 1][::-1]\n",
    "        c = s[j + 1:][::-1]\n",
    "        \n",
    "        ns = a + b + c\n",
    "        min_ns = min(min_ns, ns)\n",
    "        \n",
    "print(min_ns)"
   ]
  },
  {
   "cell_type": "markdown",
   "metadata": {},
   "source": [
    "### 학번 3711"
   ]
  },
  {
   "cell_type": "code",
   "execution_count": 36,
   "metadata": {},
   "outputs": [
    {
     "name": "stdout",
     "output_type": "stream",
     "text": [
      "1\n",
      "3\n",
      "123392\n",
      "159122\n",
      "591293\n",
      "4\n"
     ]
    }
   ],
   "source": [
    "import sys\n",
    "# input = lambda: sys.stdin.readline().rstrip()\n",
    "\n",
    "for _ in range(int(input())):\n",
    "    g = int(input())\n",
    "    li = [int(input()) for _ in range(g)]\n",
    "\n",
    "    m = g\n",
    "    while True:\n",
    "        st = {v % m for v in li}\n",
    "        if len(st) == g:\n",
    "            break\n",
    "        m += 1\n",
    "\n",
    "    print(m)"
   ]
  },
  {
   "cell_type": "markdown",
   "metadata": {},
   "source": [
    "### 가장 긴 단어 5637"
   ]
  },
  {
   "cell_type": "code",
   "execution_count": 44,
   "metadata": {},
   "outputs": [
    {
     "name": "stdout",
     "output_type": "stream",
     "text": [
      "aaa E-N-D\n",
      "aaa\n"
     ]
    }
   ],
   "source": [
    "s = ''\n",
    "\n",
    "while True:\n",
    "    t = input()\n",
    "    if t[-5:] == 'E-N-D':\n",
    "        t = t[:-5]\n",
    "        s += t + ' '\n",
    "        break\n",
    "    s += t + ' '\n",
    "\n",
    "s = s.lower()\n",
    "n = len(s)\n",
    "\n",
    "max_len = 0\n",
    "max_len_word = ''\n",
    "temp = ''\n",
    "cond = set('abcdefghijklmnopqrstuvwxyz-')\n",
    "for i in range(n - 1, -1, -1):\n",
    "    if s[i] in cond:\n",
    "        temp += s[i]\n",
    "    else:\n",
    "        if len(temp) >= max_len:\n",
    "            max_len = len(temp)\n",
    "            max_len_word = temp[::-1]\n",
    "        temp = ''\n",
    "        \n",
    "if len(temp) >= max_len:\n",
    "    max_len = len(temp)\n",
    "    max_len_word = temp[::-1]\n",
    "        \n",
    "print(max_len_word)"
   ]
  },
  {
   "cell_type": "markdown",
   "metadata": {},
   "source": [
    "### Good Grass 6124"
   ]
  },
  {
   "cell_type": "code",
   "execution_count": 4,
   "metadata": {},
   "outputs": [
    {
     "name": "stdout",
     "output_type": "stream",
     "text": [
      "71\n",
      "2 1\n"
     ]
    }
   ],
   "source": [
    "# n, m = map(int, input().split())\n",
    "# li = [list(map(int, input().split())) for _ in range(n)]\n",
    "\n",
    "max_sv = -1\n",
    "msc = [-1, -1] # max sv coords\n",
    "for i in range(n - 3, -1, -1):\n",
    "    for j in range(m - 3, -1, -1):\n",
    "        sv = 0 # sum value\n",
    "        for ni in range(i, i + 3):\n",
    "            for nj in range(j, j + 3):\n",
    "                sv += li[ni][nj]\n",
    "        if sv >= max_sv:\n",
    "            max_sv = sv\n",
    "            msc = [i + 1, j + 1]\n",
    "            \n",
    "print(max_sv)\n",
    "print(*msc)"
   ]
  },
  {
   "cell_type": "markdown",
   "metadata": {},
   "source": [
    "### 반복하지 않는 수 7696"
   ]
  },
  {
   "cell_type": "code",
   "execution_count": 11,
   "metadata": {},
   "outputs": [
    {
     "name": "stdout",
     "output_type": "stream",
     "text": [
      "100000\n",
      "541629\n"
     ]
    }
   ],
   "source": [
    "# 시간 초과\n",
    "while True:\n",
    "    n = int(input())\n",
    "    if n == 0:\n",
    "        break\n",
    "\n",
    "    count = 0\n",
    "    cur = 1\n",
    "    while count < n:\n",
    "        scur = str(cur)\n",
    "        if len(scur) == len(set(scur)):\n",
    "            count += 1\n",
    "        cur += 1\n",
    "\n",
    "    print(cur - 1)"
   ]
  },
  {
   "cell_type": "code",
   "execution_count": null,
   "metadata": {},
   "outputs": [],
   "source": [
    "# 일단 포기\n",
    "n = int(input())\n",
    "\n",
    "count = 0\n",
    "cur = 1\n",
    "while count < n:\n",
    "    scur = str(cur)\n",
    "    \n",
    "    cur_len = 2\n",
    "    cur_index = 0\n",
    "    while True:\n",
    "        if len(scur) >= cur_len and scur[cur_index] == scur[cur_index + 1]:\n",
    "            temp = 0\n",
    "            for i in range(1, cur_len):\n",
    "                temp += int(scur[i - 1]) * 10 ** (len(scur) - i)\n",
    "                \n",
    "        temp += (int(scur[cur_len]) + 1) * 10 ** (len(scur) - 2)\n",
    "    \n",
    "    \n",
    "    if len(scur) >= 2 and scur[0] == scur[1]:\n",
    "        cur = int(scur[0]) * 10 ** (len(scur) - 1) + (int(scur[1]) + 1) * 10 ** (len(scur) - 2)\n",
    "        continue\n",
    "        \n",
    "    if len(scur) >= 3 and scur[1] == scur[2]:\n",
    "        cur = int(scur[0]) * 10 ** (len(scur) - 1) + int(scur[1]) * 10 ** (len(scur) - 2) + \\\n",
    "        (int(scur[2]) + 1) * 10 ** (len(scur) - 3)\n",
    "        continue    \n",
    "        \n",
    "    if len(scur) == len(set(scur)):\n",
    "        count += 1\n",
    "    cur += 1\n",
    "\n",
    "print(cur - 1)"
   ]
  },
  {
   "cell_type": "markdown",
   "metadata": {},
   "source": [
    "### 정수 직사각형 9196"
   ]
  },
  {
   "cell_type": "code",
   "execution_count": 114,
   "metadata": {},
   "outputs": [
    {
     "name": "stdout",
     "output_type": "stream",
     "text": [
      "1 2\n",
      "1 3\n",
      "1 3\n",
      "2 3\n",
      "98 100\n",
      "3 140\n",
      "99 100\n",
      "89 109\n",
      "0 0\n"
     ]
    }
   ],
   "source": [
    "li = []\n",
    "for hh in range(1, 151):\n",
    "    for ww in range(hh + 1, 151):\n",
    "        li.append((hh, ww, (hh * hh + ww * ww) ** 0.5))\n",
    "\n",
    "li.sort(key=lambda x: (x[2], x[0]))\n",
    "\n",
    "d = dict()\n",
    "for i in range(len(li)):\n",
    "    d[(li[i][0], li[i][1])] = i\n",
    "    \n",
    "while True:\n",
    "    h, w = map(int, input().split())\n",
    "    if h == 0 and w == 0:\n",
    "        break\n",
    "\n",
    "    target = li[d[(h, w)] + 1]\n",
    "\n",
    "    print(target[0], target[1])"
   ]
  },
  {
   "cell_type": "markdown",
   "metadata": {},
   "source": [
    "### 최대 GCD 9417"
   ]
  },
  {
   "cell_type": "code",
   "execution_count": 115,
   "metadata": {},
   "outputs": [
    {
     "name": "stdout",
     "output_type": "stream",
     "text": [
      "1\n",
      "10 20 30 40\n",
      "20\n"
     ]
    }
   ],
   "source": [
    "from math import gcd\n",
    "\n",
    "n = int(input())\n",
    "for _ in range(n):\n",
    "    li = list(map(int, input().split()))\n",
    "    \n",
    "    mv = 0\n",
    "    for i in range(len(li)):\n",
    "        for j in range(i + 1, len(li)):\n",
    "            v = gcd(li[i], li[j])\n",
    "            mv = max(mv, v)\n",
    "            \n",
    "    print(mv)"
   ]
  },
  {
   "cell_type": "markdown",
   "metadata": {},
   "source": [
    "### 꿀벌 9733"
   ]
  },
  {
   "cell_type": "code",
   "execution_count": null,
   "metadata": {},
   "outputs": [],
   "source": [
    "at = ['Re', 'Pt', 'Cc', 'Ea', 'Tb', 'Cm', 'Ex']\n",
    "cs = [0] * 7\n",
    "\n",
    "li = []\n",
    "total = 0\n",
    "while True:\n",
    "    try:\n",
    "        temp = input().split()\n",
    "    except:\n",
    "        break\n",
    "    else:\n",
    "        total += len(temp)\n",
    "        li.extend(temp)\n",
    "\n",
    "for i in range(7):\n",
    "    cs[i] = li.count(at[i])\n",
    "\n",
    "for i in range(7):\n",
    "    print(at[i], cs[i], '{:.2f}'.format(cs[i] / total))\n",
    "print(f'Total {total} 1.00')"
   ]
  },
  {
   "cell_type": "markdown",
   "metadata": {},
   "source": [
    "### Judging Troubles 10527"
   ]
  },
  {
   "cell_type": "code",
   "execution_count": 125,
   "metadata": {},
   "outputs": [
    {
     "name": "stdout",
     "output_type": "stream",
     "text": [
      "5\n",
      "c\n",
      "w\n",
      "c\n",
      "c\n",
      "t\n",
      "w\n",
      "c\n",
      "t\n",
      "c\n",
      "t\n",
      "4\n"
     ]
    }
   ],
   "source": [
    "from collections import Counter\n",
    "import sys\n",
    "# input = lambda: sys.stdin.readline().rstrip()\n",
    "\n",
    "n = int(input())\n",
    "a = Counter(input() for _ in range(n))\n",
    "b = Counter(input() for _ in range(n))\n",
    "\n",
    "total = 0\n",
    "for key in a:\n",
    "    if key in b:\n",
    "        total += min(a[key], b[key])\n",
    "        \n",
    "print(total)"
   ]
  },
  {
   "cell_type": "markdown",
   "metadata": {},
   "source": [
    "### Excellence 11597"
   ]
  },
  {
   "cell_type": "code",
   "execution_count": 126,
   "metadata": {},
   "outputs": [
    {
     "name": "stdout",
     "output_type": "stream",
     "text": [
      "4\n",
      "1\n",
      "2\n",
      "3\n",
      "5\n",
      "5\n"
     ]
    }
   ],
   "source": [
    "import sys\n",
    "# input = lambda: sys.stdin.readline().rstrip()\n",
    "\n",
    "n = int(input())\n",
    "li = [int(input()) for _ in range(n)]\n",
    "li.sort()\n",
    "\n",
    "mv = float('inf') # min value\n",
    "for i in range(n // 2):\n",
    "    v = li[i] + li[n - 1 - i]\n",
    "    mv = min(mv, v)\n",
    "    \n",
    "print(mv)"
   ]
  },
  {
   "cell_type": "markdown",
   "metadata": {},
   "source": [
    "### Contaminated Milk 11972"
   ]
  },
  {
   "cell_type": "code",
   "execution_count": 134,
   "metadata": {},
   "outputs": [
    {
     "name": "stdout",
     "output_type": "stream",
     "text": [
      "3 4 7 2\n",
      "1 1 1\n",
      "1 4 1\n",
      "1 3 4\n",
      "1 2 2\n",
      "3 1 3\n",
      "2 1 5\n",
      "2 2 7\n",
      "1 3\n",
      "2 8\n",
      "3\n"
     ]
    }
   ],
   "source": [
    "n, m, d, s = map(int, input().split())\n",
    "\n",
    "li = [list(map(int, input().split())) for _ in range(d)]\n",
    "li.sort(key=lambda x: x[2])\n",
    "sc = [list(map(int, input().split())) for _ in range(s)]\n",
    "\n",
    "sets = set(range(1, m + 1))\n",
    "for s in sc:\n",
    "    temp = set()  \n",
    "    p, st = s\n",
    "    \n",
    "    for v in li:\n",
    "        if st <= v[2]:\n",
    "            break\n",
    "            \n",
    "        if v[0] == p:      \n",
    "            temp.add(v[1])\n",
    "        \n",
    "    sets &= temp\n",
    "\n",
    "max_count = 0\n",
    "for v in sets:\n",
    "    temp = set()\n",
    "    for vv in li:\n",
    "        if vv[1] == v:\n",
    "            temp.add(vv[0])\n",
    "\n",
    "    max_count = max(max_count, len(temp))\n",
    "    \n",
    "print(max_count)"
   ]
  },
  {
   "cell_type": "markdown",
   "metadata": {},
   "source": [
    "### Load Balancing (Bronze) 12001"
   ]
  },
  {
   "cell_type": "code",
   "execution_count": 138,
   "metadata": {},
   "outputs": [
    {
     "name": "stdout",
     "output_type": "stream",
     "text": [
      "2\n"
     ]
    }
   ],
   "source": [
    "n, b = map(int, input().split())\n",
    "\n",
    "li = []\n",
    "xs = set()\n",
    "ys = set()\n",
    "for _ in range(n):\n",
    "    x, y = map(int, input().split())\n",
    "    \n",
    "    xs.add(x)\n",
    "    ys.add(y)\n",
    "    li.append((x, y))\n",
    "\n",
    "xs = sorted(xs)\n",
    "ys = sorted(ys)\n",
    "\n",
    "xs.pop()\n",
    "ys.pop()\n",
    "\n",
    "if not xs and not ys:\n",
    "    print(1)\n",
    "elif not xs or not ys:\n",
    "    print((n + 1) // 2)\n",
    "else:\n",
    "    result = float('inf')\n",
    "    for x in xs:\n",
    "        nx = x + 1\n",
    "        for y in ys:\n",
    "            ny = y + 1\n",
    "            c1 = c2 = c3 = c4 = 0\n",
    "            for v in li:\n",
    "                if nx < v[0] and ny < v[1]:\n",
    "                    c1 += 1\n",
    "                elif nx < v[0] and ny > v[1]:\n",
    "                    c2 += 1\n",
    "                elif nx > v[0] and ny < v[1]:\n",
    "                    c3 += 1\n",
    "                else:\n",
    "                    c4 += 1\n",
    "                    \n",
    "            r = max(c1, c2, c3, c4)\n",
    "            result = min(result, r)\n",
    "            \n",
    "    print(result)"
   ]
  },
  {
   "cell_type": "markdown",
   "metadata": {},
   "source": [
    "### Diamond Collector (Bronze) 12005"
   ]
  },
  {
   "cell_type": "code",
   "execution_count": 140,
   "metadata": {},
   "outputs": [
    {
     "name": "stdout",
     "output_type": "stream",
     "text": [
      "5 3\n",
      "1\n",
      "6\n",
      "4\n",
      "3\n",
      "1\n",
      "4\n"
     ]
    }
   ],
   "source": [
    "import sys\n",
    "input = lambda: sys.stdin.readline().rstrip()\n",
    "\n",
    "n, k = map(int, input().split())\n",
    "\n",
    "cs = [0] * 10001\n",
    "for _ in range(n):\n",
    "    cs[int(input())] += 1\n",
    "    \n",
    "sum_cs = [0] * 10002\n",
    "cumul = 0\n",
    "for i in range(10001):\n",
    "    cumul += cs[i]\n",
    "    sum_cs[i] = cumul\n",
    "    \n",
    "mv = 0 # max value\n",
    "start = 1\n",
    "while True:\n",
    "    end = start + k\n",
    "    if end >= 10001:\n",
    "        break\n",
    "    v = sum_cs[end] - sum_cs[start - 1]\n",
    "    mv = max(mv, v)\n",
    "    start += 1\n",
    "    \n",
    "print(mv)"
   ]
  },
  {
   "cell_type": "markdown",
   "metadata": {},
   "source": [
    "### Ocean View (Small) 12354"
   ]
  },
  {
   "cell_type": "code",
   "execution_count": 144,
   "metadata": {},
   "outputs": [
    {
     "name": "stdout",
     "output_type": "stream",
     "text": [
      "1\n",
      "4\n",
      "1 4 3 3\n",
      "Case #1: 2\n"
     ]
    }
   ],
   "source": [
    "for t in range(int(input())):\n",
    "    n = int(input())\n",
    "    li = list(map(int, input().split()))\n",
    "\n",
    "    dp = []\n",
    "    mr = 0 # max result\n",
    "    for value in li:\n",
    "        cands = [v[1] for v in dp if v[0] < value]\n",
    "        nxt = 1\n",
    "        if cands:\n",
    "            nxt = max(cands) + 1\n",
    "        mr = max(mr, nxt)\n",
    "        dp.append((value, nxt))\n",
    "\n",
    "    print(f'Case #{t + 1}: {n - mr}')"
   ]
  },
  {
   "cell_type": "markdown",
   "metadata": {},
   "source": [
    "### Minimum Scalar Product (Small) 12723"
   ]
  },
  {
   "cell_type": "code",
   "execution_count": 150,
   "metadata": {},
   "outputs": [
    {
     "name": "stdout",
     "output_type": "stream",
     "text": [
      "1\n",
      "3\n",
      "1 3 -5\n",
      "-2 4 1\n",
      "Case #1: -25\n"
     ]
    }
   ],
   "source": [
    "import sys\n",
    "input = lambda: sys.stdin.readline().rstrip()\n",
    "\n",
    "for t in range(int(input())):\n",
    "    n = int(input())\n",
    "    a = list(map(int, input().split()))\n",
    "    b = list(map(int, input().split()))\n",
    "\n",
    "    am = []\n",
    "    az = []\n",
    "    ap = []\n",
    "    for v in a:\n",
    "        if v < 0:\n",
    "            am.append(v)\n",
    "        elif v > 0:\n",
    "            ap.append(v)\n",
    "        else:\n",
    "            az.append(v)\n",
    "\n",
    "    bm = []\n",
    "    bz = []\n",
    "    bp = []\n",
    "    for v in b:\n",
    "        if v < 0:\n",
    "            bm.append(v)\n",
    "        elif v > 0:\n",
    "            bp.append(v)\n",
    "        else:\n",
    "            bz.append(v)\n",
    "\n",
    "    am.sort(reverse=True)\n",
    "    ap.sort()\n",
    "\n",
    "    bm.sort(reverse=True)\n",
    "    bp.sort()\n",
    "\n",
    "    total = 0\n",
    "    while am and bp:\n",
    "        total += am.pop() * bp.pop()\n",
    "    while bm and ap:\n",
    "        total += bm.pop() * ap.pop()\n",
    "\n",
    "    a = am + az + ap\n",
    "    b = bm + bz + bp\n",
    "\n",
    "    a.sort()\n",
    "    b.sort(reverse=True)\n",
    "\n",
    "    for i in range(len(a)):\n",
    "        total += a[i] * b[i]\n",
    "\n",
    "    print(f'Case #{t + 1}: {total}')"
   ]
  },
  {
   "cell_type": "code",
   "execution_count": null,
   "metadata": {},
   "outputs": [],
   "source": []
  }
 ],
 "metadata": {
  "kernelspec": {
   "display_name": "Python 3",
   "language": "python",
   "name": "python3"
  },
  "language_info": {
   "codemirror_mode": {
    "name": "ipython",
    "version": 3
   },
   "file_extension": ".py",
   "mimetype": "text/x-python",
   "name": "python",
   "nbconvert_exporter": "python",
   "pygments_lexer": "ipython3",
   "version": "3.7.3"
  }
 },
 "nbformat": 4,
 "nbformat_minor": 4
}
