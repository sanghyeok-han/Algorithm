{
 "cells": [
  {
   "cell_type": "markdown",
   "metadata": {},
   "source": [
    "### 연세워터파크 15678"
   ]
  },
  {
   "cell_type": "code",
   "execution_count": 7,
   "metadata": {},
   "outputs": [
    {
     "name": "stdout",
     "output_type": "stream",
     "text": [
      "3 2\n",
      "-4 -2 -7\n",
      "-2\n"
     ]
    }
   ],
   "source": [
    "from collections import deque\n",
    "\n",
    "n, d = map(int, input().split())\n",
    "li = list(map(int, input().split()))\n",
    "\n",
    "dp = li.copy()\n",
    "for_max = deque()\n",
    "mr = -float('inf') # max result\n",
    "for i, v in enumerate(li):\n",
    "    while for_max:\n",
    "        if for_max[0][0] < i - d:\n",
    "            for_max.popleft()\n",
    "        else:\n",
    "            break\n",
    "            \n",
    "    if for_max:\n",
    "        dp[i] = max(dp[i], for_max[0][1] + li[i])\n",
    "    mr = max(mr, dp[i])\n",
    "    \n",
    "    while for_max:\n",
    "        if for_max[-1][1] <= dp[i]:\n",
    "            for_max.pop()\n",
    "        else:\n",
    "            break\n",
    "            \n",
    "    for_max.append((i, dp[i]))\n",
    "    \n",
    "print(mr)"
   ]
  },
  {
   "cell_type": "markdown",
   "metadata": {},
   "source": [
    "### Mowing the Lawn 5977"
   ]
  },
  {
   "cell_type": "code",
   "execution_count": 28,
   "metadata": {},
   "outputs": [
    {
     "name": "stdout",
     "output_type": "stream",
     "text": [
      "5 3\n",
      "9\n",
      "1\n",
      "9\n",
      "1\n",
      "9\n",
      "28\n"
     ]
    }
   ],
   "source": [
    "from collections import deque\n",
    "import sys\n",
    "input = lambda: sys.stdin.readline().rstrip()\n",
    "\n",
    "n, k = map(int, input().split())\n",
    "li = [int(input()) for _ in range(n)] + [0]\n",
    "n += 1\n",
    "\n",
    "total = sum(li)\n",
    "for_min = deque()\n",
    "dp = [float('inf')] * n\n",
    "for i in range(k + 1):\n",
    "    dp[i] = li[i]\n",
    "    while for_min:\n",
    "        if dp[i] <= for_min[-1][1]:\n",
    "            for_min.pop()\n",
    "        else:\n",
    "            break\n",
    "        \n",
    "    for_min.append((i, dp[i]))\n",
    "    \n",
    "for i in range(k + 1, n):\n",
    "    while for_min:\n",
    "        if for_min[0][0] < i - k - 1:\n",
    "            for_min.popleft()\n",
    "        else:\n",
    "            break\n",
    "            \n",
    "    dp[i] = for_min[0][1] + li[i]\n",
    "    \n",
    "    while for_min:\n",
    "        if dp[i] <= for_min[-1][1]:\n",
    "            for_min.pop()\n",
    "        else:\n",
    "            break\n",
    "            \n",
    "    for_min.append((i, dp[i]))\n",
    "    \n",
    "to_sub = min(dp[-(k + 1):])\n",
    "\n",
    "print(total - to_sub)"
   ]
  },
  {
   "cell_type": "markdown",
   "metadata": {},
   "source": [
    "### 앱 7579 (다시 풀음)"
   ]
  },
  {
   "cell_type": "code",
   "execution_count": 1,
   "metadata": {},
   "outputs": [
    {
     "name": "stdout",
     "output_type": "stream",
     "text": [
      "5 60\n",
      "30 10 20 35 40\n",
      "3 0 3 5 4\n",
      "6\n"
     ]
    }
   ],
   "source": [
    "n, m = map(int, input().split())\n",
    "ms = list(map(int, input().split()))\n",
    "costs = list(map(int, input().split()))\n",
    "\n",
    "dp = [[0] * 10001 for _ in range(n + 1)]\n",
    "mr = float('inf') # min result\n",
    "for i in range(n):\n",
    "    for j in range(costs[i]):\n",
    "        dp[i + 1][j] = dp[i][j]\n",
    "    \n",
    "    for j in range(costs[i], 10001):\n",
    "        temp = dp[i][j - costs[i]] + ms[i]\n",
    "        \n",
    "        if temp > dp[i][j]:\n",
    "            dp[i + 1][j] = temp\n",
    "            \n",
    "            if dp[i + 1][j] >= m:\n",
    "                mr = min(mr, j)\n",
    "        else:\n",
    "            dp[i + 1][j] = dp[i][j]\n",
    "            \n",
    "print(mr)"
   ]
  },
  {
   "cell_type": "markdown",
   "metadata": {},
   "source": [
    "### 투자의 귀재 배주형 19947"
   ]
  },
  {
   "cell_type": "code",
   "execution_count": null,
   "metadata": {},
   "outputs": [],
   "source": [
    "h, y = map(int, input().split())\n",
    "\n",
    "dp = [0] * (y + 1)\n",
    "dp[0] = h\n",
    "for i in range(1, y + 1):\n",
    "    t1 = int(dp[i - 1] * 1.05)\n",
    "    t2 = 0\n",
    "    if i - 3 >= 0:\n",
    "        t2 = int(dp[i - 3] * 1.2)\n",
    "    t3 = 0\n",
    "    if i - 5 >= 0:\n",
    "        t3 = int(dp[i - 5] * 1.35)\n",
    "    dp[i] = max(t1, t2, t3)\n",
    "    \n",
    "print(dp[-1])"
   ]
  },
  {
   "cell_type": "markdown",
   "metadata": {},
   "source": [
    "### 최솟값 찾기 11003 (다시 풀음)"
   ]
  },
  {
   "cell_type": "code",
   "execution_count": 5,
   "metadata": {},
   "outputs": [
    {
     "name": "stdout",
     "output_type": "stream",
     "text": [
      "1 1 1 2 2 2 2 2 3 3 2 2 "
     ]
    }
   ],
   "source": [
    "from collections import deque\n",
    "\n",
    "n, l = map(int, input().split())\n",
    "li = list(map(int, input().split()))\n",
    "\n",
    "min_deq = deque()\n",
    "for i in range(n):\n",
    "    while min_deq:\n",
    "        if min_deq[0][1] <= i - l:\n",
    "            min_deq.popleft()\n",
    "        else:\n",
    "            break\n",
    "            \n",
    "    while min_deq:\n",
    "        if min_deq[-1][0] >= li[i]:\n",
    "            min_deq.pop()\n",
    "        else:\n",
    "            break\n",
    "            \n",
    "    min_deq.append((li[i], i))\n",
    "    \n",
    "    print(min_deq[0][0], end = ' ')"
   ]
  },
  {
   "cell_type": "markdown",
   "metadata": {},
   "source": [
    "### 짝수 게임 23974"
   ]
  },
  {
   "cell_type": "code",
   "execution_count": null,
   "metadata": {},
   "outputs": [],
   "source": [
    "윤구가 구체적으로 얼마의 동전을 가지고 있는지는 관심 없음, 해당 상황이 짝수인지 홀수인지만 알면 됨"
   ]
  },
  {
   "cell_type": "code",
   "execution_count": null,
   "metadata": {},
   "outputs": [],
   "source": [
    "전체가 짝수일 때\n",
    "\n",
    "마지막에 한성이 짝수개 있으면 윤구는 짝수\n",
    "한성이가 가진 개수 + 게임판 개수가 짝수면 윤구는 짝수\n",
    "마지막에 한성이 홀수개 있으면 윤구는 홀수\n",
    "한성이가 가진 개수 + 게임판 개수가 홀수면 윤구는 홀수\n",
    "\n",
    "\n",
    "윤구: 짝수 도전, 한성: 홀수 도전\n",
    "\n",
    "\n",
    "전체가 홀수 일 때\n",
    "\n",
    "마지막에 한성이 짝수개 있으면 윤구는 홀수\n",
    "한성이가 가진 개수 + 게임판 개수가 짝수면 윤구는 홀수\n",
    "마지막에 한성이 홀수개 있으면 윤구는 짝수\n",
    "한성이가 가진 개수 + 게임판 개수가 홀수면 윤구는 짝수\n",
    "\n",
    "윤구: 짝수 도전, 한성: 짝수 도전"
   ]
  },
  {
   "cell_type": "code",
   "execution_count": 39,
   "metadata": {},
   "outputs": [
    {
     "name": "stdout",
     "output_type": "stream",
     "text": [
      "0 2\n",
      "YG\n"
     ]
    }
   ],
   "source": [
    "def recur(n, k, target=0):\n",
    "    if case == 1:\n",
    "        if dp[n][k] != -1:\n",
    "            return dp[n][k]\n",
    "        \n",
    "        other_n = ((n + k) % 2) ^ 1\n",
    "\n",
    "        temp = 1\n",
    "        for to_sub in range(1, 5):\n",
    "            temp &= recur(other_n, k - to_sub, 0)\n",
    "            \n",
    "        dp[n][k] = temp ^ 1\n",
    "        return temp ^ 1\n",
    "    else:\n",
    "        other_n = ((n + k) % 2)\n",
    "        \n",
    "        if target == 0:\n",
    "            if dp[n][k] != -1:\n",
    "                return dp[n][k]\n",
    "            \n",
    "            temp = 1\n",
    "            for to_sub in range(1, 5):\n",
    "                temp &= recur(other_n, k - to_sub, 1)\n",
    "                \n",
    "            dp[n][k] = temp ^ 1\n",
    "            return temp ^ 1    \n",
    "        else:\n",
    "            if dp_ot[n][k] != -1:\n",
    "                return dp_ot[n][k]\n",
    "            \n",
    "            temp = 1\n",
    "            for to_sub in range(1, 5):\n",
    "                temp &= recur(other_n, k - to_sub, 0)\n",
    "                \n",
    "            dp_ot[n][k] = temp ^ 1\n",
    "            return temp ^ 1       \n",
    "                     \n",
    "                \n",
    "n, k = map(int, input().split())\n",
    "\n",
    "case = (n + k) % 2\n",
    "\n",
    "nk = max(k, 4)\n",
    "dp = [[-1] * (nk + 1) for _ in range(2)] # dp[가지고 있음][게임판에 남음]\n",
    "dp_ot = [[-1] * (nk + 1) for _ in range(2)] # odd target\n",
    "\n",
    "temp = [[1, 0, 1, 1, 1], [0, 1, 1, 1, 1]]\n",
    "for i in range(2):\n",
    "    for j in range(5):\n",
    "        dp[i][j] = temp[i][j]\n",
    "\n",
    "temp = [[0, 1, 1, 1, 1], [1, 0, 1, 1, 1]]\n",
    "for i in range(2):\n",
    "    for j in range(5):\n",
    "        dp_ot[i][j] = temp[i][j] \n",
    "\n",
    "r = recur(n, k, 0)\n",
    "\n",
    "if r == 0:\n",
    "    print('HS')\n",
    "else:\n",
    "    print('YG')"
   ]
  },
  {
   "cell_type": "code",
   "execution_count": 156,
   "metadata": {},
   "outputs": [
    {
     "name": "stdout",
     "output_type": "stream",
     "text": [
      "1 30\n",
      "HS\n"
     ]
    }
   ],
   "source": [
    "from collections import deque\n",
    "\n",
    "n, k = map(int, input().split())\n",
    "\n",
    "nk = max(k, 4)\n",
    "dp = [[-1] * (nk + 1) for _ in range(2)] # dp[가지고 있음][게임판에 남음]\n",
    "temp = [[True, False, True, True, True, True, True, False, True, True, True], [False, True, True, True, True, False, False, True, True, True, True]]\n",
    "for i in range(2):\n",
    "    for j in range(10):\n",
    "        dp[i][j] = temp[i][j]\n",
    "\n",
    "min_deqs = []      \n",
    "cond = [(3, 7, 1), (2, 6, 0), (1, 5, 1), (0, 4, 0), (3, 7, 0), (2, 6, 1), (1, 5, 1), (0, 4, 1)]\n",
    "for l, r, i in cond:  \n",
    "    min_deq = deque()\n",
    "    for j in range(l, r):\n",
    "        while True:\n",
    "            if min_deq and dp[i][j] <= min_deq[-1][1]:\n",
    "                min_deq.pop()\n",
    "            else:\n",
    "                break\n",
    "        min_deq.append((j - l, dp[i][j]))\n",
    "    min_deqs.append(min_deq.copy())\n",
    "\n",
    "for j in range(9, k + 1):\n",
    "    cur = j - 5\n",
    "    \n",
    "    temp = False\n",
    "    for di in range(4):\n",
    "        while True:\n",
    "            while min_deqs[di] and min_deqs[di][0][0] + 4 <= cur:\n",
    "                min_deqs[di].popleft()\n",
    "            else:\n",
    "                break\n",
    "        \n",
    "        ni = (di % 2) ^ 1\n",
    "        nj = j - 2 - di\n",
    "        \n",
    "        while True:\n",
    "            while min_deqs[di] and dp[ni][nj] <= min_deqs[di][-1][1]:\n",
    "                min_deqs[di].pop()\n",
    "            else:\n",
    "                break\n",
    "        min_deqs[di].append((cur, dp[ni][nj]))\n",
    "        \n",
    "        if min_deqs[di][0][1]:\n",
    "            temp = True\n",
    "            \n",
    "    dp[0][j] = temp\n",
    "    \n",
    "    temp = False\n",
    "    for di in range(4, 8):\n",
    "        while True:\n",
    "            while min_deqs[di] and min_deqs[di][0][0] + 4 <= cur:\n",
    "                min_deqs[di].popleft()\n",
    "            else:\n",
    "                break\n",
    "        \n",
    "        ni = di % 2\n",
    "        nj = j - 2 - (di - 4)\n",
    "        \n",
    "        while True:\n",
    "            while min_deqs[di] and dp[ni][nj] <= min_deqs[di][-1][1]:\n",
    "                min_deqs[di].pop()\n",
    "            else:\n",
    "                break\n",
    "        min_deqs[di].append((cur, dp[ni][nj]))\n",
    "        \n",
    "        if min_deqs[di][0][1]:\n",
    "            temp = True\n",
    "            \n",
    "    dp[1][j] = temp\n",
    "\n",
    "if dp[n][k]:\n",
    "    print('YG')\n",
    "else:\n",
    "    print('HS')"
   ]
  },
  {
   "cell_type": "code",
   "execution_count": 149,
   "metadata": {},
   "outputs": [
    {
     "name": "stdout",
     "output_type": "stream",
     "text": [
      "0 0\n",
      "YG\n"
     ]
    }
   ],
   "source": [
    "n,k=map(int,input().split())\n",
    "r=['YG','HS']\n",
    "print([r[(k-1)%6==0],r[(k%6==0 or(k-5)%6==0)]][n])"
   ]
  },
  {
   "cell_type": "code",
   "execution_count": 157,
   "metadata": {},
   "outputs": [
    {
     "name": "stdout",
     "output_type": "stream",
     "text": [
      "[True, False, True, True, True, True, True, False, True, True, True, True, True, False, True, True, True, True, True, False, True, True, True, True, True, False, True, True, True, True, True]\n",
      "[False, True, True, True, True, False, False, True, True, True, True, False, False, True, True, True, True, False, False, True, True, True, True, False, False, True, True, True, True, False, False]\n"
     ]
    }
   ],
   "source": [
    "for v in dp:\n",
    "    print(v)"
   ]
  },
  {
   "cell_type": "markdown",
   "metadata": {},
   "source": [
    "### 카드게임 10835"
   ]
  },
  {
   "cell_type": "code",
   "execution_count": 6,
   "metadata": {},
   "outputs": [
    {
     "name": "stdout",
     "output_type": "stream",
     "text": [
      "4\n",
      "1 1 1 1\n",
      "3 3 3 3\n",
      "4 4\n",
      "3 4\n",
      "2 4\n",
      "1 4\n",
      "0 4\n",
      "0 3\n",
      "1 3\n",
      "0 2\n",
      "2 3\n",
      "1 2\n",
      "0 1\n",
      "3 3\n",
      "2 2\n",
      "1 1\n",
      "0 0\n",
      "0\n"
     ]
    }
   ],
   "source": [
    "import sys\n",
    "\n",
    "n = int(input())\n",
    "a = list(map(int, input().split()))\n",
    "b = list(map(int, input().split()))\n",
    "\n",
    "a.reverse()\n",
    "b.reverse()\n",
    "\n",
    "dp = [[-1] * (n + 1) for _ in range(n + 1)]\n",
    "dp[n][n] = 0\n",
    "\n",
    "def solve(i, j):\n",
    "    print(i ,j)\n",
    "    \n",
    "    if i == 0 or j == 0:\n",
    "        return\n",
    "    if a[i - 1] > b[j - 1]:\n",
    "        nvalue = dp[i][j] + b[j - 1]\n",
    "        if nvalue > dp[i][j - 1]:\n",
    "            dp[i][j - 1] = nvalue\n",
    "            solve(i, j - 1)\n",
    "        return\n",
    "    if dp[i][j] > dp[i - 1][j]:\n",
    "        dp[i - 1][j] = dp[i][j]\n",
    "        solve(i - 1, j)  \n",
    "    if dp[i][j] > dp[i - 1][j - 1]:\n",
    "        dp[i - 1][j - 1] = dp[i][j]\n",
    "        solve(i - 1, j - 1)\n",
    "    \n",
    "    \n",
    "solve(n, n)\n",
    "\n",
    "max_score = 0\n",
    "for i in range(n + 1):\n",
    "    max_score = max(max_score, dp[0][i], dp[i][0])\n",
    "\n",
    "print(max_score)"
   ]
  },
  {
   "cell_type": "markdown",
   "metadata": {},
   "source": [
    "### 같은 탑 1126"
   ]
  },
  {
   "cell_type": "code",
   "execution_count": 32,
   "metadata": {},
   "outputs": [
    {
     "name": "stdout",
     "output_type": "stream",
     "text": [
      "15624\n",
      "762022\n"
     ]
    }
   ],
   "source": [
    "# 시간 초과\n",
    "\n",
    "# n = int(input())\n",
    "# li = list(map(int, input().split()))\n",
    "\n",
    "n = 25\n",
    "li = [2]\n",
    "for _ in range(n - 1):\n",
    "    li.append(li[-1] + 104)\n",
    "\n",
    "c = 0\n",
    "d = dict()\n",
    "for i in range(n):\n",
    "    keys = list(d.keys())\n",
    "    for key in keys:\n",
    "        if key + li[i] not in d:\n",
    "            c += len(d[key]) + 1\n",
    "            d[key + li[i]] = d[key].copy()\n",
    "            d[key + li[i]].add(i)\n",
    "    if li[i] not in d:\n",
    "        d[li[i]] = {i}\n",
    "        \n",
    "r = -1\n",
    "keys = sorted(d.keys(), reverse=True)\n",
    "for key in keys:\n",
    "    st = set()\n",
    "    for i in range(n):\n",
    "        if i in d[key]:\n",
    "            continue\n",
    "        \n",
    "        temp = list(st)\n",
    "        for value in temp:\n",
    "            c += 1\n",
    "            if value + li[i] not in st:\n",
    "                st.add(value + li[i])\n",
    "        if li[i] not in st:\n",
    "            st.add(li[i])\n",
    "            \n",
    "    if key in st:\n",
    "        r = key\n",
    "        break\n",
    "        \n",
    "print(r)\n",
    "\n",
    "print(c)"
   ]
  },
  {
   "cell_type": "markdown",
   "metadata": {},
   "source": [
    "### 김치 배달 2184"
   ]
  },
  {
   "cell_type": "code",
   "execution_count": 33,
   "metadata": {},
   "outputs": [
    {
     "name": "stdout",
     "output_type": "stream",
     "text": [
      "4 2\n",
      "2\n",
      "5\n",
      "5\n",
      "3\n",
      "0 1 0 2\n",
      "0 2 0 0\n",
      "7\n"
     ]
    }
   ],
   "source": [
    "from bisect import insort, bisect_left, bisect\n",
    "from collections import Counter\n",
    "import sys\n",
    "sys.setrecursionlimit(10000)\n",
    "# input = lambda: sys.stdin.readline().rstrip()\n",
    "\n",
    "inf = 99999999999999\n",
    "\n",
    "on, l = map(int, input().split())\n",
    "li = [int(input()) for _ in range(on)]\n",
    "li.append(l)\n",
    "sli = sorted(li)\n",
    "on += 1\n",
    "\n",
    "ct = Counter(li)\n",
    "li = sorted(set(li))\n",
    "n = len(li)\n",
    "\n",
    "init_index = bisect_left(li, l)\n",
    "\n",
    "dp = [[[0] * 2 for _ in range(n)] for _ in range(n)] # dp[x][y][cur, cumul]\n",
    "\n",
    "def recur(start, end):\n",
    "    if dp[start][end][0]:\n",
    "        return dp[start][end]\n",
    "    \n",
    "    if start < end:\n",
    "        d = 1\n",
    "    else:\n",
    "        d = -1\n",
    "    \n",
    "    if start == end == init_index:\n",
    "        return 0, 0\n",
    "        \n",
    "    if end == init_index:\n",
    "        dp[start][end] = [inf, inf]\n",
    "        return inf, inf\n",
    "    \n",
    "    cur1, cumul1 = recur(start, end - d)\n",
    "    cur2, cumul2 = recur(end - d, start)\n",
    "        \n",
    "    cur1 += abs(li[end] - li[end - d])\n",
    "    cumul1 += cur1 * ct[li[end]]\n",
    "    \n",
    "    cur2 += abs(li[end] - li[start])\n",
    "    cumul2 += cur2 * ct[li[end]]\n",
    "    \n",
    "    to_visit = bisect_left(sli, min(li[start], li[end])) + on - bisect(sli, max(li[start], li[end]))   \n",
    "\n",
    "    if cumul1 + to_visit * cur1 < cumul2 + to_visit * cur2:\n",
    "        dp[start][end] = [cur1, cumul1]\n",
    "        return cur1, cumul1\n",
    "    else:\n",
    "        dp[start][end] = [cur2, cumul2]\n",
    "        return cur2, cumul2\n",
    "\n",
    "recur(0, n - 1)\n",
    "recur(n - 1, 0)\n",
    "\n",
    "r = min(dp[0][n - 1][1], dp[n - 1][0][1])\n",
    "\n",
    "print(r)"
   ]
  }
 ],
 "metadata": {
  "kernelspec": {
   "display_name": "Python 3",
   "language": "python",
   "name": "python3"
  },
  "language_info": {
   "codemirror_mode": {
    "name": "ipython",
    "version": 3
   },
   "file_extension": ".py",
   "mimetype": "text/x-python",
   "name": "python",
   "nbconvert_exporter": "python",
   "pygments_lexer": "ipython3",
   "version": "3.7.4"
  }
 },
 "nbformat": 4,
 "nbformat_minor": 4
}
