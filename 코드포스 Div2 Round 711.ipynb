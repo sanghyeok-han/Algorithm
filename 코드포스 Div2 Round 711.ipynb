{
 "cells": [
  {
   "cell_type": "markdown",
   "metadata": {},
   "source": [
    "A. GCD Sum"
   ]
  },
  {
   "cell_type": "code",
   "execution_count": 8,
   "metadata": {},
   "outputs": [
    {
     "name": "stdout",
     "output_type": "stream",
     "text": [
      "3\n",
      "11\n",
      "12\n",
      "31\n",
      "33\n",
      "75\n",
      "75\n"
     ]
    }
   ],
   "source": [
    "import math\n",
    "\n",
    "T = int(input())\n",
    "for _ in range(T):\n",
    "    n = int(input())\n",
    "    while True:\n",
    "        value = math.gcd(n, sum(map(int, list(str(n)))))\n",
    "        if value > 1:\n",
    "            break\n",
    "        else:\n",
    "            n += 1\n",
    "\n",
    "    print(n)"
   ]
  },
  {
   "cell_type": "markdown",
   "metadata": {},
   "source": [
    "B. Box Fitting"
   ]
  },
  {
   "cell_type": "code",
   "execution_count": 14,
   "metadata": {},
   "outputs": [
    {
     "name": "stdout",
     "output_type": "stream",
     "text": [
      "2\n",
      "5 16\n",
      "1 2 8 4 8\n",
      "2\n",
      "6 10\n",
      "2 8 8 2 2 8\n",
      "3\n"
     ]
    }
   ],
   "source": [
    "# 틀렸음\n",
    "T = int(input())\n",
    "for _ in range(T):\n",
    "    n, W = map(int, input().split())\n",
    "    li = list(map(int, input().split()))\n",
    "\n",
    "    answer = sum(li) // W\n",
    "    if sum(li) % W > 0:\n",
    "        answer += 1\n",
    "\n",
    "    print(answer)"
   ]
  },
  {
   "cell_type": "code",
   "execution_count": 42,
   "metadata": {},
   "outputs": [
    {
     "name": "stdout",
     "output_type": "stream",
     "text": [
      "2\n",
      "6 14\n",
      "8 8 4 4 2 2\n",
      "2\n",
      "6 10\n",
      "2 8 8 2 2 8\n",
      "3\n"
     ]
    }
   ],
   "source": [
    "from collections import Counter\n",
    "import math\n",
    "\n",
    "T = int(input())\n",
    "for _ in range(T):\n",
    "    n, W = map(int, input().split())\n",
    "    li = list(map(int, input().split()))\n",
    "    saved = [0] * (int(math.log2(max(li))) + 1)\n",
    "    \n",
    "    li = list(Counter(li).items())\n",
    "    for value, count in li:\n",
    "        saved[int(math.log2(value))] = count\n",
    "         \n",
    "    count = 1\n",
    "    while True:\n",
    "        current_width = 0\n",
    "        for i in range(len(saved) - 1, -1, -1):\n",
    "            while True:\n",
    "                if saved[i] >= 1:\n",
    "                    if current_width + 2 ** i <= W:\n",
    "                        current_width += 2 ** i\n",
    "                        saved[i] -= 1\n",
    "                    else:\n",
    "                        break\n",
    "                else:\n",
    "                    break\n",
    "        if len(set(saved)) == 1:\n",
    "            if list(saved)[0] == 0:\n",
    "                break\n",
    "\n",
    "        count += 1\n",
    "        \n",
    "    print(count)"
   ]
  },
  {
   "cell_type": "code",
   "execution_count": 37,
   "metadata": {},
   "outputs": [],
   "source": [
    "from collections import Counter\n",
    "import math\n",
    "\n",
    "n, W = 5, 14\n",
    "li = [4, 8, 4, 8, 4]\n",
    "saved = [0] * (int(math.log2(max(li))) + 1)\n",
    "\n",
    "li = list(Counter(li).items())\n",
    "for value, count in li:\n",
    "    saved[int(math.log2(value))] = count"
   ]
  },
  {
   "cell_type": "code",
   "execution_count": 38,
   "metadata": {},
   "outputs": [
    {
     "name": "stdout",
     "output_type": "stream",
     "text": [
      "3\n"
     ]
    }
   ],
   "source": [
    "count = 1\n",
    "while True:\n",
    "    current_width = 0\n",
    "    for i in range(len(saved) - 1, -1, -1):\n",
    "        while True:\n",
    "            if saved[i] >= 1:\n",
    "                if current_width + 2 ** i <= W:\n",
    "                    current_width += 2 ** i\n",
    "                    saved[i] -= 1\n",
    "                else:\n",
    "                    break\n",
    "            else:\n",
    "                break\n",
    "    if len(set(saved)) == 1:\n",
    "        if list(saved)[0] == 0:\n",
    "            break\n",
    "            \n",
    "    count += 1\n",
    "print(count)"
   ]
  },
  {
   "cell_type": "code",
   "execution_count": 33,
   "metadata": {},
   "outputs": [
    {
     "data": {
      "text/plain": [
       "[0, 0, 2, 1]"
      ]
     },
     "execution_count": 33,
     "metadata": {},
     "output_type": "execute_result"
    }
   ],
   "source": [
    "saved"
   ]
  },
  {
   "cell_type": "code",
   "execution_count": 29,
   "metadata": {},
   "outputs": [
    {
     "data": {
      "text/plain": [
       "3"
      ]
     },
     "execution_count": 29,
     "metadata": {},
     "output_type": "execute_result"
    }
   ],
   "source": [
    "int(math.log2(max(li)))"
   ]
  },
  {
   "cell_type": "code",
   "execution_count": null,
   "metadata": {},
   "outputs": [],
   "source": []
  },
  {
   "cell_type": "markdown",
   "metadata": {},
   "source": [
    "C. Planar Reflections"
   ]
  },
  {
   "cell_type": "code",
   "execution_count": 16,
   "metadata": {},
   "outputs": [],
   "source": [
    "dp = [[1] + [0] * 1000 for _ in range(1001)] # dp[n][k]\n",
    "dp[0][0] = 0"
   ]
  },
  {
   "cell_type": "code",
   "execution_count": 18,
   "metadata": {},
   "outputs": [],
   "source": [
    "for j in range(1, 1001):\n",
    "    for i in range(1, 1001):\n",
    "        dp[i][j] = dp[i - 2][j]"
   ]
  },
  {
   "cell_type": "code",
   "execution_count": 43,
   "metadata": {},
   "outputs": [],
   "source": [
    "n, k = 2, 3"
   ]
  },
  {
   "cell_type": "code",
   "execution_count": 66,
   "metadata": {},
   "outputs": [
    {
     "name": "stdout",
     "output_type": "stream",
     "text": [
      "4 4\n",
      "[1, 2, 3]\n",
      "21\n"
     ]
    }
   ],
   "source": [
    "from itertools import accumulate\n",
    "\n",
    "n, k = map(int, input().split())\n",
    "\n",
    "if k == 1:\n",
    "    print(1)\n",
    "elif n == 1:\n",
    "    print(2)\n",
    "elif n == 2:\n",
    "    print(1 + k)\n",
    "else:\n",
    "    result = 1 + k\n",
    "    \n",
    "    dp = list(range(1, k))\n",
    "    print(dp)\n",
    "    for i in range(n - 2):\n",
    "        result += sum(dp) % (10 ** 9 + 7)\n",
    "        dp = list(accumulate(dp))\n",
    "        dp = list(map(lambda x: x % (10 ** 9 + 7), dp))\n",
    "        \n",
    "    print(result % (10 ** 9 + 7))"
   ]
  },
  {
   "cell_type": "code",
   "execution_count": 58,
   "metadata": {},
   "outputs": [
    {
     "data": {
      "text/plain": [
       "[0, 1, 4]"
      ]
     },
     "execution_count": 58,
     "metadata": {},
     "output_type": "execute_result"
    }
   ],
   "source": [
    "dp"
   ]
  },
  {
   "cell_type": "code",
   "execution_count": null,
   "metadata": {},
   "outputs": [],
   "source": [
    "258778308564"
   ]
  },
  {
   "cell_type": "code",
   "execution_count": 44,
   "metadata": {},
   "outputs": [],
   "source": [
    "from itertools import accumulate"
   ]
  },
  {
   "cell_type": "code",
   "execution_count": 48,
   "metadata": {},
   "outputs": [
    {
     "data": {
      "text/plain": [
       "[3, 7, 12]"
      ]
     },
     "execution_count": 48,
     "metadata": {},
     "output_type": "execute_result"
    }
   ],
   "source": [
    "dp = list(accumulate([3, 4, 5]))\n",
    "dp"
   ]
  }
 ],
 "metadata": {
  "kernelspec": {
   "display_name": "Python 3",
   "language": "python",
   "name": "python3"
  },
  "language_info": {
   "codemirror_mode": {
    "name": "ipython",
    "version": 3
   },
   "file_extension": ".py",
   "mimetype": "text/x-python",
   "name": "python",
   "nbconvert_exporter": "python",
   "pygments_lexer": "ipython3",
   "version": "3.7.3"
  }
 },
 "nbformat": 4,
 "nbformat_minor": 4
}
