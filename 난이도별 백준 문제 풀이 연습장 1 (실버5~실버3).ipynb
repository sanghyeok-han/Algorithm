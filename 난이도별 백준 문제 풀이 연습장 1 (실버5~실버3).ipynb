{
 "cells": [
  {
   "cell_type": "markdown",
   "metadata": {},
   "source": [
    "### 보물 1026\n",
    "- 정렬"
   ]
  },
  {
   "cell_type": "code",
   "execution_count": 1,
   "metadata": {},
   "outputs": [
    {
     "name": "stdout",
     "output_type": "stream",
     "text": [
      "5\n",
      "1 1 1 6 0\n",
      "2 7 8 3 1\n",
      "18\n"
     ]
    }
   ],
   "source": [
    "n = int(input())\n",
    "A = list(map(int, input().split()))\n",
    "B = list(map(int, input().split()))\n",
    "\n",
    "A.sort()\n",
    "B.sort(reverse=True)\n",
    "\n",
    "total = 0\n",
    "for i in range(n):\n",
    "    total += A[i] * B[i]\n",
    "    \n",
    "print(total)"
   ]
  },
  {
   "cell_type": "markdown",
   "metadata": {},
   "source": [
    "### 방 번호 1475\n",
    "- 구현"
   ]
  },
  {
   "cell_type": "code",
   "execution_count": 54,
   "metadata": {},
   "outputs": [
    {
     "name": "stdout",
     "output_type": "stream",
     "text": [
      "666699\n",
      "3\n"
     ]
    }
   ],
   "source": [
    "from collections import Counter\n",
    "\n",
    "s = input()\n",
    "c = Counter(s)\n",
    "\n",
    "six_or_nine_count = 0\n",
    "\n",
    "if c.get(\"9\", 0) > 0:\n",
    "    six_or_nine_count += c.get(\"9\", 0)\n",
    "    del c['9']\n",
    "if c.get(\"6\", 0) > 0:\n",
    "    six_or_nine_count += c.get(\"6\", 0)\n",
    "    del c['6']\n",
    "    \n",
    "if c:\n",
    "    print(max(max(c.values()), (six_or_nine_count + 1) // 2))\n",
    "else:\n",
    "    print((six_or_nine_count + 1) // 2)"
   ]
  },
  {
   "cell_type": "markdown",
   "metadata": {},
   "source": [
    "### 막대기 1094\n",
    "- 수학, 비트마스킹"
   ]
  },
  {
   "cell_type": "code",
   "execution_count": 59,
   "metadata": {},
   "outputs": [
    {
     "name": "stdout",
     "output_type": "stream",
     "text": [
      "48\n",
      "2\n"
     ]
    }
   ],
   "source": [
    "import heapq\n",
    "\n",
    "x = int(input())\n",
    "heap = []\n",
    "heapq.heappush(heap, 64)\n",
    "while True:\n",
    "    if sum(heap) > x:\n",
    "        value = heapq.heappop(heap)\n",
    "        value //= 2\n",
    "        if sum(heap) + value >= x:\n",
    "            heapq.heappush(heap, value)\n",
    "        else:\n",
    "            heapq.heappush(heap, value)\n",
    "            heapq.heappush(heap, value)\n",
    "    else:\n",
    "        break\n",
    "\n",
    "print(len(heap))"
   ]
  },
  {
   "cell_type": "markdown",
   "metadata": {},
   "source": [
    "### 회전하는 큐 1021\n",
    "- 자료 구조, 덱"
   ]
  },
  {
   "cell_type": "code",
   "execution_count": 72,
   "metadata": {},
   "outputs": [
    {
     "name": "stdout",
     "output_type": "stream",
     "text": [
      "1 1\n",
      "1\n",
      "0\n"
     ]
    }
   ],
   "source": [
    "from collections import deque\n",
    "\n",
    "n, m = map(int, input().split())\n",
    "li = list(map(int, input().split()))\n",
    "\n",
    "queue = range(1, n + 1)\n",
    "queue = deque(queue)\n",
    "\n",
    "count = 0\n",
    "for v in li:\n",
    "    for i in range(len(queue)):\n",
    "        if queue[i] == v:\n",
    "            break\n",
    "\n",
    "    left = i\n",
    "    right = len(queue) - i\n",
    "\n",
    "    if left < right:\n",
    "        queue.rotate(-left)\n",
    "        count += left\n",
    "        queue.popleft()\n",
    "    else:\n",
    "        queue.rotate(right)\n",
    "        count += right\n",
    "        queue.popleft()\n",
    "        \n",
    "print(count)"
   ]
  },
  {
   "cell_type": "markdown",
   "metadata": {},
   "source": [
    "### 수들의 합 2 2003\n",
    "- 두 포인터"
   ]
  },
  {
   "cell_type": "code",
   "execution_count": 75,
   "metadata": {},
   "outputs": [
    {
     "name": "stdout",
     "output_type": "stream",
     "text": [
      "1 1\n",
      "1\n",
      "1\n"
     ]
    }
   ],
   "source": [
    "n, m = map(int, input().split())\n",
    "li = list(map(int, input().split()))\n",
    "\n",
    "count = 0\n",
    "start = 0\n",
    "end = 0\n",
    "while end < n:\n",
    "    value = sum(li[start: end + 1])\n",
    "    if value < m:\n",
    "        end += 1\n",
    "    else:\n",
    "        start += 1\n",
    "        if value == m:\n",
    "            count += 1\n",
    "            \n",
    "    if start > end:\n",
    "        start, end = end, start\n",
    "        \n",
    "print(count)"
   ]
  },
  {
   "cell_type": "code",
   "execution_count": 79,
   "metadata": {},
   "outputs": [
    {
     "name": "stdout",
     "output_type": "stream",
     "text": [
      "10 5\n",
      "1 2 3 4 2 5 3 1 1 2\n",
      "3\n"
     ]
    }
   ],
   "source": [
    "n, m = map(int, input().split())\n",
    "li = list(map(int, input().split()))\n",
    "\n",
    "count = 0\n",
    "start = 0\n",
    "end = 0\n",
    "sum_value = li[start]\n",
    "while True:\n",
    "    if sum_value < m:\n",
    "        end += 1\n",
    "        if n <= end:\n",
    "            break\n",
    "        sum_value += li[end]\n",
    "    else:\n",
    "        if sum_value == m:\n",
    "            count += 1\n",
    "        sum_value -= li[start]\n",
    "        start += 1\n",
    "        \n",
    "        \n",
    "print(count)"
   ]
  },
  {
   "cell_type": "markdown",
   "metadata": {},
   "source": [
    "### 집합 11723\n",
    "- 비트마스킹"
   ]
  },
  {
   "cell_type": "code",
   "execution_count": 85,
   "metadata": {},
   "outputs": [
    {
     "name": "stdout",
     "output_type": "stream",
     "text": [
      "26\n",
      "add 1\n",
      "add 2\n",
      "check 1\n",
      "1\n",
      "check 2\n",
      "1\n",
      "check 3\n",
      "0\n",
      "remove 2\n",
      "check 1\n",
      "1\n",
      "check 2\n",
      "0\n",
      "toggle 3\n",
      "check 1\n",
      "1\n",
      "check 2\n",
      "0\n",
      "check 3\n",
      "1\n",
      "check 4\n",
      "0\n",
      "all\n",
      "check 10\n",
      "1\n",
      "check 20\n",
      "1\n",
      "toggle 10\n",
      "remove 20\n",
      "check 10\n",
      "0\n",
      "check 20\n",
      "0\n",
      "empty\n",
      "check 1\n",
      "0\n",
      "toggle 1\n",
      "check 1\n",
      "1\n",
      "toggle 1\n",
      "check 1\n",
      "0\n"
     ]
    }
   ],
   "source": [
    "import sys\n",
    "# input = sys.stdin.readline\n",
    "\n",
    "st = set()\n",
    "m = int(input().rstrip())\n",
    "for _ in range(m):\n",
    "    command = input().rstrip()\n",
    "    \n",
    "    if command == 'all':\n",
    "        st = {*list(range(1, 21))}\n",
    "        continue\n",
    "        \n",
    "    if command == 'empty':\n",
    "        st = set()\n",
    "        continue\n",
    "        \n",
    "    c, v = command.split()\n",
    "    v = int(v)\n",
    "    \n",
    "    if c == 'add':\n",
    "        st.add(v)\n",
    "    elif c == 'remove':\n",
    "        if v in st:\n",
    "            st.remove(v)\n",
    "    elif c == 'check':\n",
    "        print(int(v in st))\n",
    "    elif c == 'toggle':\n",
    "        if v in st:\n",
    "            st.remove(v)\n",
    "        else:\n",
    "            st.add(v)"
   ]
  },
  {
   "cell_type": "code",
   "execution_count": 83,
   "metadata": {},
   "outputs": [
    {
     "data": {
      "text/plain": [
       "{1, 2, 3, 4, 5, 6, 7, 8, 9, 10, 11, 12, 13, 14, 15, 16, 17, 18, 19, 20}"
      ]
     },
     "execution_count": 83,
     "metadata": {},
     "output_type": "execute_result"
    }
   ],
   "source": [
    "{*list(range(1, 21))}"
   ]
  }
 ],
 "metadata": {
  "kernelspec": {
   "display_name": "Python 3",
   "language": "python",
   "name": "python3"
  },
  "language_info": {
   "codemirror_mode": {
    "name": "ipython",
    "version": 3
   },
   "file_extension": ".py",
   "mimetype": "text/x-python",
   "name": "python",
   "nbconvert_exporter": "python",
   "pygments_lexer": "ipython3",
   "version": "3.7.3"
  }
 },
 "nbformat": 4,
 "nbformat_minor": 4
}
