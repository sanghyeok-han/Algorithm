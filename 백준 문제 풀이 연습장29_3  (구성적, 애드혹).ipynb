{
 "cells": [
  {
   "cell_type": "markdown",
   "metadata": {},
   "source": [
    "## 그레이 코드 2486"
   ]
  },
  {
   "cell_type": "code",
   "execution_count": 324,
   "metadata": {},
   "outputs": [
    {
     "name": "stdout",
     "output_type": "stream",
     "text": [
      "3 2\n",
      "101 100\n",
      "110 010\n"
     ]
    }
   ],
   "source": [
    "m, k = map(int, input().split())\n",
    "li = [input().split() for _ in range(k)]\n",
    "for i in range(k):\n",
    "    for j in range(2):\n",
    "        li[i][j] = tuple(map(int, li[i][j]))"
   ]
  },
  {
   "cell_type": "code",
   "execution_count": null,
   "metadata": {},
   "outputs": [],
   "source": [
    "3 2\n",
    "000 001\n",
    "110 111"
   ]
  },
  {
   "cell_type": "code",
   "execution_count": null,
   "metadata": {},
   "outputs": [],
   "source": [
    "000 001\n",
    "101 111"
   ]
  },
  {
   "cell_type": "code",
   "execution_count": null,
   "metadata": {},
   "outputs": [],
   "source": [
    "0,  이 1차이"
   ]
  },
  {
   "cell_type": "code",
   "execution_count": null,
   "metadata": {},
   "outputs": [],
   "source": [
    "111 110\n",
    "[3]"
   ]
  },
  {
   "cell_type": "code",
   "execution_count": 110,
   "metadata": {},
   "outputs": [
    {
     "name": "stdout",
     "output_type": "stream",
     "text": [
      "(0, 0, 0)\n",
      "(0, 0, 1)\n",
      "(0, 1, 0)\n",
      "(0, 1, 1)\n",
      "(1, 0, 0)\n",
      "(1, 0, 1)\n",
      "(1, 1, 0)\n",
      "(1, 1, 1)\n"
     ]
    }
   ],
   "source": [
    "from itertools import permutations as perm, product\n",
    "\n",
    "for v in product(*[range(2)] * 3):\n",
    "    print(v)"
   ]
  },
  {
   "cell_type": "code",
   "execution_count": null,
   "metadata": {},
   "outputs": [],
   "source": [
    "ip_to_make = False\n",
    "count = 0\n",
    "st1 = set()\n",
    "st2 = set()\n",
    "for case in perm(product(*[range(2)] * 3)):\n",
    "    conds = [False] * k\n",
    "    r = []\n",
    "    for i in range(2 ** 3):\n",
    "        ip = True\n",
    "        for ii in range(k):\n",
    "            if li[ii][0] == case[i - 1] and li[ii][1] == case[i] or li[ii][0] == case[i] and li[ii][1] == case[i - 1]:\n",
    "                conds[ii] = True\n",
    "        temp = check(case[i - 1], case[i])\n",
    "        if temp == -1:\n",
    "            ip = False\n",
    "            break\n",
    "        else:       \n",
    "            r.append(temp)\n",
    "    if ip:\n",
    "        st2.add(tuple(r))\n",
    "        if all(conds):\n",
    "#             print(case)\n",
    "            ip_to_make = True\n",
    "#             count += 1\n",
    "            st1.add(tuple(r))\n",
    "        else:\n",
    "            print(case)\n",
    "        \n",
    "    \n",
    "# print(count)"
   ]
  },
  {
   "cell_type": "code",
   "execution_count": 326,
   "metadata": {},
   "outputs": [
    {
     "data": {
      "text/plain": [
       "(12, 12)"
      ]
     },
     "execution_count": 326,
     "metadata": {},
     "output_type": "execute_result"
    }
   ],
   "source": [
    "len(st1), len(st2)"
   ]
  },
  {
   "cell_type": "code",
   "execution_count": 327,
   "metadata": {},
   "outputs": [
    {
     "data": {
      "text/plain": [
       "{(0, 1, 0, 2, 0, 1, 0, 2),\n",
       " (0, 1, 2, 1, 0, 1, 2, 1),\n",
       " (0, 2, 0, 1, 0, 2, 0, 1),\n",
       " (0, 2, 1, 2, 0, 2, 1, 2),\n",
       " (1, 0, 1, 2, 1, 0, 1, 2),\n",
       " (1, 0, 2, 0, 1, 0, 2, 0),\n",
       " (1, 2, 0, 2, 1, 2, 0, 2),\n",
       " (1, 2, 1, 0, 1, 2, 1, 0),\n",
       " (2, 0, 1, 0, 2, 0, 1, 0),\n",
       " (2, 0, 2, 1, 2, 0, 2, 1),\n",
       " (2, 1, 0, 1, 2, 1, 0, 1),\n",
       " (2, 1, 2, 0, 2, 1, 2, 0)}"
      ]
     },
     "execution_count": 327,
     "metadata": {},
     "output_type": "execute_result"
    }
   ],
   "source": [
    "st1 # 가능한 것"
   ]
  },
  {
   "cell_type": "code",
   "execution_count": 328,
   "metadata": {},
   "outputs": [
    {
     "data": {
      "text/plain": [
       "set()"
      ]
     },
     "execution_count": 328,
     "metadata": {},
     "output_type": "execute_result"
    }
   ],
   "source": [
    "st2 - st1 # 불가능한 것"
   ]
  },
  {
   "cell_type": "code",
   "execution_count": null,
   "metadata": {},
   "outputs": [],
   "source": [
    "001 000\n",
    "100 101"
   ]
  },
  {
   "cell_type": "code",
   "execution_count": 142,
   "metadata": {},
   "outputs": [
    {
     "data": {
      "text/plain": [
       "12"
      ]
     },
     "execution_count": 142,
     "metadata": {},
     "output_type": "execute_result"
    }
   ],
   "source": [
    "len(st2)"
   ]
  },
  {
   "cell_type": "code",
   "execution_count": null,
   "metadata": {},
   "outputs": [],
   "source": [
    "((0, 0, 0), (0, 0, 1), (0, 1, 1), (0, 1, 0), (1, 1, 0), (1, 1, 1), (1, 0, 1), (1, 0, 0))"
   ]
  },
  {
   "cell_type": "code",
   "execution_count": 70,
   "metadata": {},
   "outputs": [],
   "source": [
    "def check(a, b):\n",
    "    diff_count = 0\n",
    "    changed = -1\n",
    "    for i in range(m):\n",
    "        if a[i] != b[i]:\n",
    "            diff_count += 1\n",
    "            changed = i\n",
    "            \n",
    "    if diff_count == 1:\n",
    "        return changed\n",
    "    return -1\n",
    "\n",
    "ip = True\n",
    "for i in range(k):\n",
    "    if check(li[i][0], li[i][1]) == -1:\n",
    "        ip = False\n",
    "        break\n",
    "\n",
    "if not ip:\n",
    "    print(-1)\n",
    "else:\n",
    "    pass"
   ]
  },
  {
   "cell_type": "code",
   "execution_count": 40,
   "metadata": {},
   "outputs": [
    {
     "data": {
      "text/plain": [
       "7372800"
      ]
     },
     "execution_count": 40,
     "metadata": {},
     "output_type": "execute_result"
    }
   ],
   "source": [
    "2 ** 15 * 15 * 15"
   ]
  },
  {
   "cell_type": "code",
   "execution_count": 215,
   "metadata": {},
   "outputs": [
    {
     "data": {
      "text/plain": [
       "[0, 1, 0, 2, 0, 1, 0, 3, 0, 1, 0, 2, 0, 1, 0, 3]"
      ]
     },
     "execution_count": 215,
     "metadata": {},
     "output_type": "execute_result"
    }
   ],
   "source": [
    "a = [0, 1, 0, 2, 0, 1, 0, 2]\n",
    "nxt = 3\n",
    "while len(a) < 2 ** m:\n",
    "    a[-1] = nxt\n",
    "    nxt += 1\n",
    "    a += a"
   ]
  },
  {
   "cell_type": "code",
   "execution_count": 329,
   "metadata": {},
   "outputs": [
    {
     "name": "stdout",
     "output_type": "stream",
     "text": [
      "4 2\n",
      "1000 1100\n",
      "0001 0011\n",
      "[100, 101, 100, 102, 100, 101, 100, 103, 100, 101, 100, 102, 100, 101, 100, 103] [0, 1, 0, 3, 0, 2]\n",
      "{0, 1, 2, 3} {0, 1, 2, 3}\n",
      "{100: 0, 101: 2, 102: 3} 100\n",
      "{100: 0, 101: 2, 102: 3} 101\n",
      "{100: 0, 101: 2, 102: 3} 100\n",
      "{100: 0, 101: 2, 102: 3} 102\n",
      "{100: 0, 101: 2, 102: 3} 100\n",
      "{100: 0, 101: 2, 102: 3} 101\n",
      "{100: 0, 101: 2, 102: 3} 100\n",
      "{100: 0, 101: 2, 102: 3} 103\n"
     ]
    },
    {
     "ename": "KeyError",
     "evalue": "'pop from an empty set'",
     "output_type": "error",
     "traceback": [
      "\u001b[1;31m---------------------------------------------------------------------------\u001b[0m",
      "\u001b[1;31mKeyError\u001b[0m                                  Traceback (most recent call last)",
      "\u001b[1;32m<ipython-input-329-932c1d46283d>\u001b[0m in \u001b[0;36m<module>\u001b[1;34m\u001b[0m\n\u001b[0;32m     87\u001b[0m                 \u001b[0ma\u001b[0m\u001b[1;33m[\u001b[0m\u001b[0mi\u001b[0m\u001b[1;33m]\u001b[0m \u001b[1;33m=\u001b[0m \u001b[0md\u001b[0m\u001b[1;33m[\u001b[0m\u001b[0ma\u001b[0m\u001b[1;33m[\u001b[0m\u001b[0mi\u001b[0m\u001b[1;33m]\u001b[0m\u001b[1;33m]\u001b[0m\u001b[1;33m\u001b[0m\u001b[1;33m\u001b[0m\u001b[0m\n\u001b[0;32m     88\u001b[0m             \u001b[1;32melse\u001b[0m\u001b[1;33m:\u001b[0m\u001b[1;33m\u001b[0m\u001b[1;33m\u001b[0m\u001b[0m\n\u001b[1;32m---> 89\u001b[1;33m                 \u001b[0md\u001b[0m\u001b[1;33m[\u001b[0m\u001b[0ma\u001b[0m\u001b[1;33m[\u001b[0m\u001b[0mi\u001b[0m\u001b[1;33m]\u001b[0m\u001b[1;33m]\u001b[0m \u001b[1;33m=\u001b[0m \u001b[0mcand\u001b[0m\u001b[1;33m.\u001b[0m\u001b[0mpop\u001b[0m\u001b[1;33m(\u001b[0m\u001b[1;33m)\u001b[0m\u001b[1;33m\u001b[0m\u001b[1;33m\u001b[0m\u001b[0m\n\u001b[0m\u001b[0;32m     90\u001b[0m                 \u001b[0ma\u001b[0m\u001b[1;33m[\u001b[0m\u001b[0mi\u001b[0m\u001b[1;33m]\u001b[0m \u001b[1;33m=\u001b[0m \u001b[0md\u001b[0m\u001b[1;33m[\u001b[0m\u001b[0ma\u001b[0m\u001b[1;33m[\u001b[0m\u001b[0mi\u001b[0m\u001b[1;33m]\u001b[0m\u001b[1;33m]\u001b[0m\u001b[1;33m\u001b[0m\u001b[1;33m\u001b[0m\u001b[0m\n\u001b[0;32m     91\u001b[0m \u001b[1;33m\u001b[0m\u001b[0m\n",
      "\u001b[1;31mKeyError\u001b[0m: 'pop from an empty set'"
     ]
    }
   ],
   "source": [
    "def check(a, b):\n",
    "    diff_count = 0\n",
    "    changed = -1\n",
    "    for i in range(m):\n",
    "        if a[i] != b[i]:\n",
    "            diff_count += 1\n",
    "            changed = i\n",
    "            \n",
    "    if diff_count == 1:\n",
    "        return changed\n",
    "    return -1\n",
    "\n",
    "m, k = map(int, input().split())\n",
    "li = [input().split() for _ in range(k)]\n",
    "for i in range(k):\n",
    "    for j in range(2):\n",
    "        li[i][j] = tuple(map(int, li[i][j]))\n",
    "\n",
    "ip = True\n",
    "for i in range(k):\n",
    "    if check(li[i][0], li[i][1]) == -1:\n",
    "        ip = False\n",
    "        break\n",
    "\n",
    "if not ip:\n",
    "    print(-1)\n",
    "else:\n",
    "    cur = li[0][0]\n",
    "    cands = [check(li[0][0], li[0][1]), check(li[1][0], li[1][1])]\n",
    "    \n",
    "    if cands[0] == cands[1]:\n",
    "        changed = cands[0]\n",
    "    else:\n",
    "        for i in range(10):\n",
    "            if i not in cands:\n",
    "                changed = i\n",
    "                break\n",
    "\n",
    "    a = [100, 101, 100, 102, 100, 101, 100, 102]\n",
    "    nxt = 103\n",
    "    while len(a) < 2 ** m:\n",
    "        a[-1] = nxt\n",
    "        nxt += 1\n",
    "        a += a\n",
    "        \n",
    "    cur = []\n",
    "    d = dict()\n",
    "    if k == 1:\n",
    "        cur = list(li[0][0])\n",
    "        d = {changed: 100, 100: changed}\n",
    "    else:\n",
    "        new = []\n",
    "        if li[0][0] == li[1][0]:\n",
    "            new = [li[0][1], li[0][0], li[1][1]]\n",
    "        elif li[0][0] == li[1][1]:\n",
    "            new = [li[0][1], li[0][0], li[1][0]]\n",
    "        elif li[0][1] == li[1][0]:\n",
    "            new = [li[0][0], li[0][1], li[1][1]]\n",
    "        elif li[0][1] == li[1][1]:\n",
    "            new = [li[0][0], li[0][1], li[1][0]]\n",
    "\n",
    "        if new:\n",
    "            cur = list(new[0])\n",
    "            temp = [check(new[0], new[1]), check(new[1], new[2])]\n",
    "        else:\n",
    "            cur = list(li[0][0])\n",
    "            temp = [changed]\n",
    "            for i in range(m):\n",
    "                if i == changed:\n",
    "                    continue\n",
    "                if li[0][1][i] != li[1][0][i]:\n",
    "                    temp.append(i)\n",
    "                    temp.append(changed)     \n",
    "            temp.append(check(li[1][0], li[1][1]))\n",
    "            \n",
    "            d = dict()\n",
    "            for i in range(len(temp)):\n",
    "                d[a[i]] = temp[i]\n",
    "\n",
    "        print(a, temp)\n",
    "                \n",
    "        cand = set(range(m)) - set(temp)\n",
    "        print(set(range(m)), set(temp))\n",
    "        for i in range(len(a)):\n",
    "            print(d, a[i])\n",
    "            if a[i] in d:\n",
    "                a[i] = d[a[i]]\n",
    "            else:\n",
    "                d[a[i]] = cand.pop()\n",
    "                a[i] = d[a[i]]\n",
    "\n",
    "    st = set()\n",
    "    st.add(tuple(cur))\n",
    "    for v in a:\n",
    "        cur[v] ^= 1\n",
    "        print(cur)\n",
    "        st.add(tuple(cur))\n",
    "\n",
    "    print(len(st))"
   ]
  },
  {
   "cell_type": "code",
   "execution_count": null,
   "metadata": {},
   "outputs": [],
   "source": [
    "4 2\n",
    "1000 1100\n",
    "0001 0011"
   ]
  },
  {
   "cell_type": "code",
   "execution_count": 51,
   "metadata": {},
   "outputs": [
    {
     "name": "stdout",
     "output_type": "stream",
     "text": [
      "5 2\n",
      "00001 00011\n",
      "00010 00110\n"
     ]
    }
   ],
   "source": [
    "m, k = map(int, input().split())\n",
    "li = [input().split() for _ in range(k)]\n",
    "for i in range(k):\n",
    "    for j in range(2):\n",
    "        li[i][j] = tuple(map(int, li[i][j]))"
   ]
  },
  {
   "cell_type": "code",
   "execution_count": null,
   "metadata": {},
   "outputs": [],
   "source": [
    "4 2\n",
    "1111 1110\n",
    "0010 0110"
   ]
  },
  {
   "cell_type": "code",
   "execution_count": 52,
   "metadata": {},
   "outputs": [
    {
     "name": "stdout",
     "output_type": "stream",
     "text": [
      "[3, 4, 3, 2]\n"
     ]
    }
   ],
   "source": [
    "def check(a, b):\n",
    "    diff_count = 0\n",
    "    changed = -1\n",
    "    for i in range(m):\n",
    "        if a[i] != b[i]:\n",
    "            diff_count += 1\n",
    "            changed = i\n",
    "            \n",
    "    if diff_count == 1:\n",
    "        return changed\n",
    "    return -1\n",
    "\n",
    "def get_diff_count(a, b):\n",
    "    diff_count = 0\n",
    "    for i in range(m):\n",
    "        if a[i] != b[i]:\n",
    "            diff_count += 1\n",
    "    return diff_count\n",
    "\n",
    "# m, k = map(int, input().split())\n",
    "# li = [input().split() for _ in range(k)]\n",
    "# for i in range(k):\n",
    "#     for j in range(2):\n",
    "#         li[i][j] = tuple(map(int, li[i][j]))\n",
    "\n",
    "ip = True\n",
    "for i in range(k):\n",
    "    if check(li[i][0], li[i][1]) == -1:\n",
    "        ip = False\n",
    "        break\n",
    "\n",
    "if not ip:\n",
    "    print(-1)\n",
    "else:\n",
    "    cur = li[0][0]\n",
    "    changed = check(li[0][0], li[0][1])\n",
    "        \n",
    "    cur = []\n",
    "    if k == 1:\n",
    "        cur = list(li[0][0])\n",
    "        pass\n",
    "    else:\n",
    "        new = []\n",
    "        if li[0][0] == li[1][0]:\n",
    "            new = [li[0][1], li[0][0], li[1][1]]\n",
    "        elif li[0][0] == li[1][1]:\n",
    "            new = [li[0][1], li[0][0], li[1][0]]\n",
    "        elif li[0][1] == li[1][0]:\n",
    "            new = [li[0][0], li[0][1], li[1][1]]\n",
    "        elif li[0][1] == li[1][1]:\n",
    "            new = [li[0][0], li[0][1], li[1][0]]\n",
    "\n",
    "        if new:\n",
    "            cur = list(new[0])\n",
    "            temp = [check(new[0], new[1]), check(new[1], new[2])]\n",
    "        else:\n",
    "            if get_diff_count(li[0][1], li[1][0]) % 2 == 0:\n",
    "                target = li[1][1]\n",
    "            else:\n",
    "                target = li[1][0]\n",
    "            \n",
    "            cur = list(li[0][0])\n",
    "            temp = [changed]\n",
    "            for i in range(m):\n",
    "                if i == changed:\n",
    "                    continue\n",
    "                if li[0][1][i] != target[i]:\n",
    "                    temp.append(i)\n",
    "                    if i != changed:\n",
    "                        temp.append(changed)  \n",
    "        \n",
    "            if check(li[1][0], li[1][1]) != changed:\n",
    "                temp.append(check(li[1][0], li[1][1]))\n",
    "            \n",
    "        print(temp)\n",
    "                \n",
    "#         cand = set(range(m)) - set(temp)\n",
    "#         print(set(range(m)), set(temp))\n",
    "#         for i in range(len(a)):\n",
    "#             print(d, a[i])\n",
    "#             if a[i] in d:\n",
    "#                 a[i] = d[a[i]]\n",
    "#             else:\n",
    "#                 d[a[i]] = cand.pop()\n",
    "#                 a[i] = d[a[i]]\n",
    "\n",
    "#     st = set()\n",
    "#     st.add(tuple(cur))\n",
    "#     for v in a:\n",
    "#         cur[v] ^= 1\n",
    "#         print(cur)\n",
    "#         st.add(tuple(cur))\n",
    "\n",
    "#     print(len(st))"
   ]
  },
  {
   "cell_type": "code",
   "execution_count": null,
   "metadata": {},
   "outputs": [],
   "source": [
    "[4, 0, 4, 1, 4, 3]\n",
    "[3, 4, 3, 2]"
   ]
  },
  {
   "cell_type": "code",
   "execution_count": null,
   "metadata": {},
   "outputs": [],
   "source": [
    "for i in range(len(seq) - 2, -1, -1):\n",
    "    ntemp = []\n",
    "    for j in range(len(temp)):\n",
    "        ntemp.append(seq[i])\n",
    "        ntemp.append(temp[j])\n",
    "    \n",
    "    temp = ntemp.copy()\n",
    "\n",
    "print(temp)"
   ]
  },
  {
   "cell_type": "code",
   "execution_count": null,
   "metadata": {},
   "outputs": [],
   "source": [
    "aaaa = []"
   ]
  },
  {
   "cell_type": "code",
   "execution_count": null,
   "metadata": {},
   "outputs": [],
   "source": [
    "0 3\n",
    "0 2 3 2\n",
    "1 0 1 2 1 3 1 2"
   ]
  },
  {
   "cell_type": "code",
   "execution_count": 805,
   "metadata": {},
   "outputs": [],
   "source": [
    "to_add = set(range(m)) - set(temp)\n",
    "for v in to_add:\n",
    "    if temp[-1] == changed:\n",
    "        temp.append(v)\n",
    "    else:\n",
    "        temp.append(changed)\n",
    "        temp.append(v)\n",
    "        \n",
    "iter_start = len(temp) - 4\n",
    "iter_point = 1\n",
    "if len(temp) < 2 ** m // 2:\n",
    "    if temp[-1] != changed:\n",
    "        temp.append(changed)\n",
    "        \n",
    "    while len(temp) < 2 ** m // 2:\n",
    "        temp.append(temp[iter_point])\n",
    "        iter_point += 1\n",
    "        \n",
    "temp *= 2"
   ]
  },
  {
   "cell_type": "code",
   "execution_count": 807,
   "metadata": {},
   "outputs": [
    {
     "data": {
      "text/plain": [
       "64"
      ]
     },
     "execution_count": 807,
     "metadata": {},
     "output_type": "execute_result"
    }
   ],
   "source": [
    "len(temp)"
   ]
  },
  {
   "cell_type": "code",
   "execution_count": null,
   "metadata": {},
   "outputs": [],
   "source": [
    "temp"
   ]
  },
  {
   "cell_type": "code",
   "execution_count": 799,
   "metadata": {},
   "outputs": [
    {
     "data": {
      "text/plain": [
       "[5, 0, 5, 1, 5, 2, 5, 3, 5, 4, 5, 1, 5, 0, 5, 2]"
      ]
     },
     "execution_count": 799,
     "metadata": {},
     "output_type": "execute_result"
    }
   ],
   "source": [
    "temp[:16]"
   ]
  },
  {
   "cell_type": "code",
   "execution_count": 1,
   "metadata": {},
   "outputs": [],
   "source": [
    "m = 4\n",
    "temp = [0, 1, 0, 2, 0, 3, 0, 1, 0, 2, 0, 3, 0, 1, 0, 2, 0, 3, 0, 1, 0, 2, 0, 3]"
   ]
  },
  {
   "cell_type": "code",
   "execution_count": 3,
   "metadata": {},
   "outputs": [
    {
     "data": {
      "text/plain": [
       "24"
      ]
     },
     "execution_count": 3,
     "metadata": {},
     "output_type": "execute_result"
    }
   ],
   "source": [
    "len(temp)"
   ]
  },
  {
   "cell_type": "code",
   "execution_count": null,
   "metadata": {},
   "outputs": [],
   "source": [
    "1 2 3 2 1 2 3 2\n",
    "0 1 0 2 0 3 0 2 0 1 0 2 0 3 0 2\n",
    "4 0 4 1 4 0 4 2 4 0 4 3 4 0 4 2 4 0 4 1 4 0 4 2 4 0 4 3 4 0 4 2\n"
   ]
  },
  {
   "cell_type": "code",
   "execution_count": 14,
   "metadata": {},
   "outputs": [],
   "source": [
    "s = '4 0 4 1 4 0 4 2 4 0 4 3 4 0 4 2 4 0 4 1 4 0 4 2 4 0 4 3 4 0 4 2'.split()"
   ]
  },
  {
   "cell_type": "code",
   "execution_count": 17,
   "metadata": {},
   "outputs": [
    {
     "name": "stdout",
     "output_type": "stream",
     "text": [
      "[4, 0, 4, 1, 4, 0, 4, 2, 4, 0, 4, 3, 4, 0, 4, 2, 4, 0, 4, 1, 4, 0, 4, 2, 4, 0, 4, 3, 4, 0, 4, 2]\n"
     ]
    }
   ],
   "source": [
    "print(list(map(int, s)))"
   ]
  },
  {
   "cell_type": "code",
   "execution_count": null,
   "metadata": {},
   "outputs": [],
   "source": [
    "앞쪽에 끼워넣기?"
   ]
  },
  {
   "cell_type": "code",
   "execution_count": null,
   "metadata": {},
   "outputs": [],
   "source": [
    "4 2\n",
    "1000 1100\n",
    "0001 0011"
   ]
  },
  {
   "cell_type": "code",
   "execution_count": null,
   "metadata": {},
   "outputs": [],
   "source": [
    "첫 번째 변화: 1\n",
    "cur: 1000"
   ]
  },
  {
   "cell_type": "code",
   "execution_count": 30,
   "metadata": {},
   "outputs": [],
   "source": []
  },
  {
   "cell_type": "code",
   "execution_count": 31,
   "metadata": {},
   "outputs": [
    {
     "name": "stdout",
     "output_type": "stream",
     "text": [
      "[1, 0, 1, 2, 1, 0, 1, 3, 1, 0, 1, 2, 1, 0, 1, 3]\n"
     ]
    }
   ],
   "source": [
    "seq = [1, 0, 2, 3]\n",
    "temp = [seq[-1], seq[-1]]\n",
    "\n",
    "for i in range(len(seq) - 2, -1, -1):\n",
    "    ntemp = []\n",
    "    for j in range(len(temp)):\n",
    "        ntemp.append(seq[i])\n",
    "        ntemp.append(temp[j])\n",
    "    \n",
    "    temp = ntemp.copy()\n",
    "\n",
    "print(temp)"
   ]
  },
  {
   "cell_type": "code",
   "execution_count": null,
   "metadata": {},
   "outputs": [],
   "source": [
    "0, 1, 0, 1"
   ]
  },
  {
   "cell_type": "code",
   "execution_count": 36,
   "metadata": {},
   "outputs": [
    {
     "name": "stdout",
     "output_type": "stream",
     "text": [
      "16\n",
      "[1, 0, 0, 0]\n",
      "[0, 0, 0, 0]\n",
      "[0, 1, 0, 0]\n",
      "[0, 1, 1, 0]\n",
      "[0, 0, 1, 0]\n",
      "[0, 0, 1, 1]\n",
      "[0, 1, 1, 1]\n",
      "[0, 1, 0, 1]\n",
      "[0, 0, 0, 1]\n",
      "[1, 0, 0, 1]\n",
      "[1, 1, 0, 1]\n",
      "[1, 1, 1, 1]\n",
      "[1, 0, 1, 1]\n",
      "[1, 0, 1, 0]\n",
      "[1, 1, 1, 0]\n",
      "[1, 1, 0, 0]\n",
      "16\n"
     ]
    }
   ],
   "source": [
    "m = 1\n",
    "temp = [0, 0]\n",
    "\n",
    "# m = 2\n",
    "# temp = [0, 1, 0, 1]\n",
    "\n",
    "m = 4\n",
    "temp = [1, 0, 1, 2, 1, 3, 1, 2, 1, 0, 1, 2, 1, 3, 1, 2]\n",
    "\n",
    "# m = 5\n",
    "# temp = [4, 0, 4, 1, 4, 0, 4, 2, 4, 0, 4, 3, 4, 0, 4, 2, 4, 0, 4, 1, 4, 0, 4, 2, 4, 0, 4, 3, 4, 0, 4, 2]\n",
    "\n",
    "# ntemp = temp.copy()\n",
    "\n",
    "print(len(temp))\n",
    "\n",
    "\n",
    "\n",
    "# cur = [0] * m\n",
    "cur = [1, 1, 0, 0]\n",
    "st = set()\n",
    "for v in temp:\n",
    "    cur[v] ^= 1\n",
    "    st.add(tuple(cur))\n",
    "    print(cur)\n",
    "    \n",
    "print(len(st))"
   ]
  },
  {
   "cell_type": "markdown",
   "metadata": {},
   "source": [
    "### 나머지를 채우는 방법을 잘 모르겠음"
   ]
  },
  {
   "cell_type": "code",
   "execution_count": 305,
   "metadata": {},
   "outputs": [
    {
     "data": {
      "text/plain": [
       "[[(1, 0, 0, 0), (1, 1, 0, 0)], [(0, 0, 0, 1), (0, 0, 1, 1)]]"
      ]
     },
     "execution_count": 305,
     "metadata": {},
     "output_type": "execute_result"
    }
   ],
   "source": [
    "4 2\n",
    "1000 1100\n",
    "0001 0011"
   ]
  },
  {
   "cell_type": "code",
   "execution_count": 308,
   "metadata": {},
   "outputs": [
    {
     "data": {
      "text/plain": [
       "([1, 0, 1, 3, 1, 2],\n",
       " [1, 2, 1, 3, 1, 2, 1, 103, 100, 101, 100, 102, 100, 101, 100, 103])"
      ]
     },
     "execution_count": 308,
     "metadata": {},
     "output_type": "execute_result"
    }
   ],
   "source": [
    "temp, a"
   ]
  },
  {
   "cell_type": "code",
   "execution_count": 298,
   "metadata": {},
   "outputs": [
    {
     "data": {
      "text/plain": [
       "[2, 0, 2, 1, 2, 3, 2]"
      ]
     },
     "execution_count": 298,
     "metadata": {},
     "output_type": "execute_result"
    }
   ],
   "source": [
    "[100, 101, 100, 102, 100, 101, 100, 102]"
   ]
  },
  {
   "cell_type": "code",
   "execution_count": 306,
   "metadata": {},
   "outputs": [
    {
     "data": {
      "text/plain": [
       "[1, 0, 1, 3, 1, 0, 1, 2, 1, 0, 1, 3, 1, 0, 1, 2]"
      ]
     },
     "execution_count": 306,
     "metadata": {},
     "output_type": "execute_result"
    }
   ],
   "source": [
    "a"
   ]
  },
  {
   "cell_type": "code",
   "execution_count": 288,
   "metadata": {},
   "outputs": [
    {
     "data": {
      "text/plain": [
       "[2, 0, 2, 1, 2, 0, 2, 103, 100, 101, 100, 102, 100, 101, 100, 103]"
      ]
     },
     "execution_count": 288,
     "metadata": {},
     "output_type": "execute_result"
    }
   ],
   "source": [
    "4 2\n",
    "0001 0011\n",
    "1100 1000"
   ]
  },
  {
   "cell_type": "code",
   "execution_count": 292,
   "metadata": {},
   "outputs": [
    {
     "data": {
      "text/plain": [
       "[2, 0, 2, 1, 2, 3, 2]"
      ]
     },
     "execution_count": 292,
     "metadata": {},
     "output_type": "execute_result"
    }
   ],
   "source": [
    "temp"
   ]
  },
  {
   "cell_type": "code",
   "execution_count": 290,
   "metadata": {},
   "outputs": [
    {
     "data": {
      "text/plain": [
       "{100: 2, 101: 0, 102: 1}"
      ]
     },
     "execution_count": 290,
     "metadata": {},
     "output_type": "execute_result"
    }
   ],
   "source": [
    "d"
   ]
  },
  {
   "cell_type": "code",
   "execution_count": null,
   "metadata": {},
   "outputs": [],
   "source": [
    "a = [100, 101, 100, 102, 100, 101, 100, 102]"
   ]
  },
  {
   "cell_type": "code",
   "execution_count": 278,
   "metadata": {},
   "outputs": [
    {
     "data": {
      "text/plain": [
       "{100: 1, 101: 0, 102: 1}"
      ]
     },
     "execution_count": 278,
     "metadata": {},
     "output_type": "execute_result"
    }
   ],
   "source": [
    "d"
   ]
  },
  {
   "cell_type": "code",
   "execution_count": 266,
   "metadata": {},
   "outputs": [
    {
     "data": {
      "text/plain": [
       "[1, 1, 1, 1, 1, 1, 1, 1]"
      ]
     },
     "execution_count": 266,
     "metadata": {},
     "output_type": "execute_result"
    }
   ],
   "source": [
    "a"
   ]
  },
  {
   "cell_type": "code",
   "execution_count": 260,
   "metadata": {},
   "outputs": [
    {
     "data": {
      "text/plain": [
       "set()"
      ]
     },
     "execution_count": 260,
     "metadata": {},
     "output_type": "execute_result"
    }
   ],
   "source": [
    "set(range(m)) - set(temp)"
   ]
  },
  {
   "cell_type": "code",
   "execution_count": 236,
   "metadata": {},
   "outputs": [
    {
     "data": {
      "text/plain": [
       "[2, 0, 2, 1, 2]"
      ]
     },
     "execution_count": 236,
     "metadata": {},
     "output_type": "execute_result"
    }
   ],
   "source": [
    "3 2\n",
    "000 001\n",
    "110 111"
   ]
  },
  {
   "cell_type": "code",
   "execution_count": 238,
   "metadata": {},
   "outputs": [
    {
     "data": {
      "text/plain": [
       "[0, 1, 0, 2, 0, 1, 0, 2]"
      ]
     },
     "execution_count": 238,
     "metadata": {},
     "output_type": "execute_result"
    }
   ],
   "source": [
    "[0, 1, 0, 2, 0, 1, 0, 2]"
   ]
  },
  {
   "cell_type": "code",
   "execution_count": null,
   "metadata": {},
   "outputs": [],
   "source": [
    "2 : 0, 0 : 1, 1: 2"
   ]
  },
  {
   "cell_type": "code",
   "execution_count": 246,
   "metadata": {},
   "outputs": [],
   "source": [
    "temp = [2, 0]\n",
    "a = [100, 101, 100, 102, 100, 101, 100, 102]\n",
    "\n",
    "d = dict()\n",
    "for i in range(len(temp)):\n",
    "    d[a[i]] = temp[i]"
   ]
  },
  {
   "cell_type": "code",
   "execution_count": 247,
   "metadata": {},
   "outputs": [
    {
     "data": {
      "text/plain": [
       "{100: 2, 101: 0}"
      ]
     },
     "execution_count": 247,
     "metadata": {},
     "output_type": "execute_result"
    }
   ],
   "source": [
    "d"
   ]
  },
  {
   "cell_type": "code",
   "execution_count": 253,
   "metadata": {},
   "outputs": [
    {
     "data": {
      "text/plain": [
       "{1}"
      ]
     },
     "execution_count": 253,
     "metadata": {},
     "output_type": "execute_result"
    }
   ],
   "source": [
    "cand = set(range(m)) - set(temp)\n",
    "cand"
   ]
  },
  {
   "cell_type": "code",
   "execution_count": 254,
   "metadata": {},
   "outputs": [
    {
     "data": {
      "text/plain": [
       "[2, 2, 2, 1, 1, 1, 1, 102]"
      ]
     },
     "execution_count": 254,
     "metadata": {},
     "output_type": "execute_result"
    }
   ],
   "source": [
    "a"
   ]
  },
  {
   "cell_type": "code",
   "execution_count": 255,
   "metadata": {},
   "outputs": [],
   "source": [
    "cand = set(range(m)) - set(temp)\n",
    "for i in range(len(a)):\n",
    "    if a[i] >= 100:\n",
    "        if a[i] in d:\n",
    "            a[i] = d[v]\n",
    "        else:\n",
    "            d[v] = cand.pop()\n",
    "            a[i] = d[v]"
   ]
  },
  {
   "cell_type": "code",
   "execution_count": 257,
   "metadata": {},
   "outputs": [
    {
     "data": {
      "text/plain": [
       "[2, 2, 2, 1, 1, 1, 1, 1]"
      ]
     },
     "execution_count": 257,
     "metadata": {},
     "output_type": "execute_result"
    }
   ],
   "source": [
    "a"
   ]
  },
  {
   "cell_type": "code",
   "execution_count": 242,
   "metadata": {},
   "outputs": [
    {
     "data": {
      "text/plain": [
       "{2: 0, 0: 2, 1: 2}"
      ]
     },
     "execution_count": 242,
     "metadata": {},
     "output_type": "execute_result"
    }
   ],
   "source": [
    "d"
   ]
  },
  {
   "cell_type": "code",
   "execution_count": 232,
   "metadata": {},
   "outputs": [
    {
     "data": {
      "text/plain": [
       "{2: 0, 0: 1}"
      ]
     },
     "execution_count": 232,
     "metadata": {},
     "output_type": "execute_result"
    }
   ],
   "source": [
    "000 001\n",
    "110 111"
   ]
  },
  {
   "cell_type": "code",
   "execution_count": null,
   "metadata": {},
   "outputs": [],
   "source": [
    "3 2\n",
    "000 001\n",
    "110 111"
   ]
  },
  {
   "cell_type": "code",
   "execution_count": null,
   "metadata": {},
   "outputs": [],
   "source": []
  },
  {
   "cell_type": "markdown",
   "metadata": {},
   "source": [
    "### 조건이 2개인 경우 해결하기"
   ]
  },
  {
   "cell_type": "markdown",
   "metadata": {},
   "source": [
    "붙어있는 경우, 떨어져있는 경우"
   ]
  },
  {
   "cell_type": "code",
   "execution_count": 223,
   "metadata": {},
   "outputs": [
    {
     "data": {
      "text/plain": [
       "[2, 0, 2, 1, 2]"
      ]
     },
     "execution_count": 223,
     "metadata": {},
     "output_type": "execute_result"
    }
   ],
   "source": [
    "new = []\n",
    "if li[0][0] == li[1][0]:\n",
    "    new = [li[0][1], li[0][0], li[1][1]]\n",
    "elif li[0][0] == li[1][1]:\n",
    "    new = [li[0][1], li[0][0], li[1][0]]\n",
    "elif li[0][1] == li[1][0]:\n",
    "    new = [li[0][0], li[0][1], li[1][1]]\n",
    "elif li[0][1] == li[1][1]:\n",
    "    new = [li[0][0], li[0][1], li[1][0]]\n",
    "    \n",
    "if new:\n",
    "    temp = [check(new[0], new[1]), check(new[1], new[2])]\n",
    "else:\n",
    "    temp = [changed]\n",
    "    for i in range(m):\n",
    "        if i == changed:\n",
    "            continue\n",
    "        if li[0][1][i] != li[1][0][i]:\n",
    "            temp.append(i)\n",
    "            temp.append(changed) \n",
    "            \n",
    "temp"
   ]
  },
  {
   "cell_type": "code",
   "execution_count": 221,
   "metadata": {},
   "outputs": [
    {
     "data": {
      "text/plain": [
       "4"
      ]
     },
     "execution_count": 221,
     "metadata": {},
     "output_type": "execute_result"
    }
   ],
   "source": [
    "m"
   ]
  },
  {
   "cell_type": "code",
   "execution_count": 217,
   "metadata": {},
   "outputs": [
    {
     "data": {
      "text/plain": [
       "[[(0, 0, 0), (0, 0, 1)], [(1, 1, 0), (1, 1, 1)]]"
      ]
     },
     "execution_count": 217,
     "metadata": {},
     "output_type": "execute_result"
    }
   ],
   "source": [
    "li"
   ]
  },
  {
   "cell_type": "code",
   "execution_count": null,
   "metadata": {},
   "outputs": [],
   "source": [
    "changed = 2\n",
    "\n",
    "temp = [changed]\n",
    "for i in range(m):\n",
    "    if aa[i] != bb[i]:\n",
    "        if i == changed:\n",
    "            continue\n",
    "        \n",
    "        temp.append(i)\n",
    "        temp.append(changed)"
   ]
  },
  {
   "cell_type": "markdown",
   "metadata": {},
   "source": [
    "### 생성 가능 경우 확인"
   ]
  },
  {
   "cell_type": "code",
   "execution_count": null,
   "metadata": {},
   "outputs": [],
   "source": [
    "4 2\n",
    "1000 1100\n",
    "0001 0011"
   ]
  },
  {
   "cell_type": "code",
   "execution_count": 312,
   "metadata": {},
   "outputs": [
    {
     "name": "stdout",
     "output_type": "stream",
     "text": [
      "4 2\n",
      "1000 1100\n",
      "0001 0011\n"
     ]
    }
   ],
   "source": [
    "m, k = map(int, input().split())\n",
    "li = [input().split() for _ in range(k)]\n",
    "for i in range(k):\n",
    "    for j in range(2):\n",
    "        li[i][j] = tuple(map(int, li[i][j]))"
   ]
  },
  {
   "cell_type": "code",
   "execution_count": 335,
   "metadata": {},
   "outputs": [
    {
     "name": "stdout",
     "output_type": "stream",
     "text": [
      "2 [False, False]\n"
     ]
    }
   ],
   "source": [
    "cur = [0, 0, 0, 0]\n",
    "a = [0, 2, 0, 3, 0, 1, 0, 1, 0, 2, 0, 3, 0, 1, 0, 1]\n",
    "case = []\n",
    "for v in a:\n",
    "    cur[v] ^= 1\n",
    "    case.append(tuple(cur))\n",
    "\n",
    "conds = [False] * k\n",
    "r = []\n",
    "for i in range(2 ** 3):\n",
    "    ip = True\n",
    "    for ii in range(k):\n",
    "        if li[ii][0] == case[i - 1] and li[ii][1] == case[i] or li[ii][0] == case[i] and li[ii][1] == case[i - 1]:\n",
    "            conds[ii] = True\n",
    "    temp = check(case[i - 1], case[i])\n",
    "    if temp == -1:\n",
    "        ip = False\n",
    "        break\n",
    "    else:       \n",
    "        r.append(temp)\n",
    "if ip:\n",
    "    if all(conds):\n",
    "        print(1)\n",
    "    else:\n",
    "        print(2, conds)\n",
    "else:\n",
    "    print(3)"
   ]
  },
  {
   "cell_type": "code",
   "execution_count": 333,
   "metadata": {},
   "outputs": [
    {
     "data": {
      "text/plain": [
       "16"
      ]
     },
     "execution_count": 333,
     "metadata": {},
     "output_type": "execute_result"
    }
   ],
   "source": [
    "a = [0, 2, 0, 3, 0, 2, 0, 4, 0, 2, 0, 3, 0, 2, 0, 4]\n",
    "len(a)"
   ]
  },
  {
   "cell_type": "markdown",
   "metadata": {},
   "source": [
    "### 4/3 재시도"
   ]
  },
  {
   "cell_type": "code",
   "execution_count": 1,
   "metadata": {},
   "outputs": [
    {
     "name": "stdout",
     "output_type": "stream",
     "text": [
      "4 2\n",
      "1111 1011\n",
      "0010 0011\n"
     ]
    }
   ],
   "source": [
    "m, k = map(int, input().split())\n",
    "li = [input().split() for _ in range(k)]\n",
    "for i in range(k):\n",
    "    for j in range(2):\n",
    "        li[i][j] = tuple(map(int, li[i][j]))"
   ]
  },
  {
   "cell_type": "code",
   "execution_count": null,
   "metadata": {},
   "outputs": [],
   "source": [
    "3 2\n",
    "111 101\n",
    "000 001\n",
    "\n",
    "4 2\n",
    "1111 1011\n",
    "0010 0011"
   ]
  },
  {
   "cell_type": "code",
   "execution_count": 5,
   "metadata": {},
   "outputs": [
    {
     "data": {
      "text/plain": [
       "[[(1, 1, 1, 1), (1, 0, 1, 1)], [(0, 0, 1, 0), (0, 0, 1, 1)]]"
      ]
     },
     "execution_count": 5,
     "metadata": {},
     "output_type": "execute_result"
    }
   ],
   "source": [
    "li"
   ]
  },
  {
   "cell_type": "code",
   "execution_count": 54,
   "metadata": {},
   "outputs": [
    {
     "name": "stdout",
     "output_type": "stream",
     "text": [
      "6 2\n",
      "100000 100001\n",
      "111101 111111\n",
      "[1, 5, 1, 5, 2, 5, 3, 4]\n",
      "[1, 1, 0, 0, 0, 0]\n"
     ]
    }
   ],
   "source": [
    "def check(a, b):\n",
    "    diff_count = 0\n",
    "    changed = -1\n",
    "    for i in range(m):\n",
    "        if a[i] != b[i]:\n",
    "            diff_count += 1\n",
    "            changed = i\n",
    "            \n",
    "    if diff_count == 1:\n",
    "        return changed\n",
    "    return -1\n",
    "\n",
    "def get_diff_count(a, b):\n",
    "    diff_count = 0\n",
    "    for i in range(m):\n",
    "        if a[i] != b[i]:\n",
    "            diff_count += 1\n",
    "    return diff_count\n",
    "\n",
    "m, k = map(int, input().split())\n",
    "li = [input().split() for _ in range(k)]\n",
    "for i in range(k):\n",
    "    for j in range(2):\n",
    "        li[i][j] = tuple(map(int, li[i][j]))\n",
    "\n",
    "ip = True\n",
    "for i in range(k):\n",
    "    if check(li[i][0], li[i][1]) == -1:\n",
    "        ip = False\n",
    "        break\n",
    "\n",
    "if not ip:\n",
    "    print(-1)\n",
    "else:\n",
    "    cur = list(li[0][0])\n",
    "    changed = check(li[0][0], li[0][1])\n",
    "\n",
    "    if k == 1:\n",
    "        temp = [changed]\n",
    "    else:\n",
    "        new = []\n",
    "        if li[0][0] == li[1][0]:\n",
    "            new = [li[0][1], li[0][0], li[1][1]]\n",
    "        elif li[0][0] == li[1][1]:\n",
    "            new = [li[0][1], li[0][0], li[1][0]]\n",
    "        elif li[0][1] == li[1][0]:\n",
    "            new = [li[0][0], li[0][1], li[1][1]]\n",
    "        elif li[0][1] == li[1][1]:\n",
    "            new = [li[0][0], li[0][1], li[1][0]]\n",
    "\n",
    "        if new:\n",
    "            cur = list(new[0])\n",
    "            temp = [check(new[0], new[1]), check(new[1], new[2])]\n",
    "        else:\n",
    "            ncur = list(cur)\n",
    "            ncur[changed] ^= 1\n",
    "            temp = [changed]\n",
    "\n",
    "            if get_diff_count(li[0][1], li[1][0]) % 2 == 1:\n",
    "                target = li[1][1]\n",
    "                other = tuple(li[1][0])\n",
    "            else:\n",
    "                target = li[1][0]\n",
    "                other = tuple(li[1][1])\n",
    "                \n",
    "            for i in range(m):\n",
    "                if i == changed:\n",
    "                    continue\n",
    "                if li[0][1][i] != target[i]:\n",
    "                    ncur[i] ^= 1\n",
    "                    temp.append(i)\n",
    "                    if i != changed:\n",
    "                        if tuple(ncur) == other:\n",
    "                            tt = check(li[1][0], li[1][1])\n",
    "                            if tt != temp[0]:\n",
    "                                temp.append(check(li[1][0], li[1][1]))\n",
    "                                cur[temp[1]] ^= 1\n",
    "                                temp = [temp[1]] + temp\n",
    "                            break\n",
    "                        ncur[changed] ^= 1\n",
    "                        temp.append(changed)\n",
    "            else:\n",
    "                if check(li[1][0], li[1][1]) != changed:\n",
    "                    temp.append(check(li[1][0], li[1][1]))\n",
    "\n",
    "print(temp)\n",
    "print(cur)"
   ]
  },
  {
   "cell_type": "code",
   "execution_count": 2,
   "metadata": {},
   "outputs": [
    {
     "name": "stdout",
     "output_type": "stream",
     "text": [
      "3 2\n",
      "000 001\n",
      "100 101\n",
      "000 001 011 111 101 100 110 010 \n"
     ]
    }
   ],
   "source": [
    "### 맞았음\n",
    "def check(a, b):\n",
    "    diff_count = 0\n",
    "    changed = -1\n",
    "    for i in range(m):\n",
    "        if a[i] != b[i]:\n",
    "            diff_count += 1\n",
    "            changed = i\n",
    "            \n",
    "    if diff_count == 1:\n",
    "        return changed\n",
    "    return -1\n",
    "\n",
    "def get_diff_count(a, b):\n",
    "    diff_count = 0\n",
    "    for i in range(m):\n",
    "        if a[i] != b[i]:\n",
    "            diff_count += 1\n",
    "    return diff_count\n",
    "\n",
    "def func(temp, ncur, check_needed):\n",
    "    st = set(range(m))\n",
    "\n",
    "    seq = []\n",
    "    for v in temp:\n",
    "        if v in st:\n",
    "            st.discard(v)\n",
    "            seq.append(v)\n",
    "\n",
    "    seq += list(st)\n",
    "\n",
    "    temp = [seq[-1], seq[-1]]\n",
    "    for i in range(len(seq) - 2, -1, -1):\n",
    "        ntemp = []\n",
    "        for j in range(len(temp)):\n",
    "            ntemp.append(seq[i])\n",
    "            ntemp.append(temp[j])\n",
    "\n",
    "        temp = ntemp.copy()\n",
    "\n",
    "    cand = []\n",
    "    for v in temp:\n",
    "        ncur[v] ^= 1\n",
    "        cand.append(''.join(map(str, ncur)))\n",
    "    cand.append(cand[-1])\n",
    "\n",
    "    if check_needed:\n",
    "        ip = False\n",
    "        to_check1 = ''.join(map(str, li[1][0]))\n",
    "        to_check2 = ''.join(map(str, li[1][1]))\n",
    "        for i in range(len(cand) - 1):\n",
    "            if cand[i] == to_check1 and cand[i + 1] == to_check2 or cand[i] == to_check2 and cand[i + 1] == to_check1:\n",
    "                ip = True\n",
    "                break\n",
    "    else:\n",
    "        ip = True\n",
    "        \n",
    "    if ip:\n",
    "        cand.pop()\n",
    "        index = 0\n",
    "        for _ in range(len(cand) // 8):\n",
    "            for _ in range(8):\n",
    "                print(cand[index], end=' ')\n",
    "                index += 1\n",
    "            print()\n",
    "        return True\n",
    "    return False\n",
    "        \n",
    "m, k = map(int, input().split())\n",
    "li = [input().split() for _ in range(k)]\n",
    "\n",
    "for i in range(k):\n",
    "    for j in range(2):\n",
    "        li[i][j] = tuple(map(int, li[i][j]))\n",
    "\n",
    "ip = True\n",
    "for i in range(k):\n",
    "    if check(li[i][0], li[i][1]) == -1:\n",
    "        ip = False\n",
    "        break\n",
    "\n",
    "if not ip:\n",
    "    print(-1)\n",
    "else:\n",
    "    cur = list(li[0][0])\n",
    "    temp = []\n",
    "    if k == 1 or sorted(li[0]) == sorted(li[1]):\n",
    "        temp = [check(li[0][0], li[0][1])]\n",
    "    else:\n",
    "        new = []\n",
    "        if li[0][0] == li[1][0]:\n",
    "            new = [li[0][1], li[0][0], li[1][1]]\n",
    "        elif li[0][0] == li[1][1]:\n",
    "            new = [li[0][1], li[0][0], li[1][0]]\n",
    "        elif li[0][1] == li[1][0]:\n",
    "            new = [li[0][0], li[0][1], li[1][1]]\n",
    "        elif li[0][1] == li[1][1]:\n",
    "            new = [li[0][0], li[0][1], li[1][0]]\n",
    "\n",
    "        if new:\n",
    "            temp = [check(new[0], new[1]), check(new[1], new[2])]\n",
    "   \n",
    "    if temp:\n",
    "        func(temp, cur, False)\n",
    "    else:        \n",
    "        init = check(li[0][0], li[0][1])\n",
    "        for changed in range(m):\n",
    "            _from = list(li[0][1])\n",
    "            ncur = cur.copy()\n",
    "            if changed != init:\n",
    "                ncur[changed] ^= 1\n",
    "                temp = [changed, init, changed]\n",
    "                _from[changed] ^= 1\n",
    "            else:\n",
    "                temp = [changed]\n",
    "\n",
    "            if get_diff_count(_from, li[1][0]) % 2 == 1:\n",
    "                target = li[1][1]\n",
    "            else:\n",
    "                target = li[1][0]\n",
    "\n",
    "            for i in range(m):\n",
    "                if i == changed:\n",
    "                    continue\n",
    "                if _from[i] != target[i]:\n",
    "                    temp.append(i)\n",
    "                    if i != changed:\n",
    "                        temp.append(changed)\n",
    "            else:\n",
    "                if check(li[1][0], li[1][1]) != changed:\n",
    "                    temp.append(check(li[1][0], li[1][1]))\n",
    "\n",
    "            if func(temp, ncur, True):\n",
    "                break"
   ]
  },
  {
   "cell_type": "code",
   "execution_count": 57,
   "metadata": {},
   "outputs": [
    {
     "data": {
      "text/plain": [
       "5"
      ]
     },
     "execution_count": 57,
     "metadata": {},
     "output_type": "execute_result"
    }
   ],
   "source": [
    "6 2\n",
    "100000 100001\n",
    "111101 111100"
   ]
  },
  {
   "cell_type": "code",
   "execution_count": null,
   "metadata": {},
   "outputs": [],
   "source": [
    "6 2\n",
    "100000 100001\n",
    "111101 111100"
   ]
  },
  {
   "cell_type": "code",
   "execution_count": 69,
   "metadata": {},
   "outputs": [
    {
     "data": {
      "text/plain": [
       "[1, 1, 1]"
      ]
     },
     "execution_count": 69,
     "metadata": {},
     "output_type": "execute_result"
    }
   ],
   "source": [
    "ncur"
   ]
  },
  {
   "cell_type": "code",
   "execution_count": 82,
   "metadata": {},
   "outputs": [
    {
     "name": "stdout",
     "output_type": "stream",
     "text": [
      "[1, 1, 1, 1, 0, 1]\n",
      "[0, 1, 1, 1, 0, 1]\n",
      "[0, 1, 1, 1, 1, 1]\n",
      "[0, 0, 1, 1, 1, 1]\n",
      "[0, 0, 1, 1, 0, 1]\n",
      "[1, 0, 1, 1, 0, 1]\n",
      "[1, 0, 1, 1, 1, 1]\n",
      "[1, 0, 1, 0, 1, 1]\n",
      "[1, 0, 1, 0, 0, 1]\n",
      "[0, 0, 1, 0, 0, 1]\n",
      "[0, 0, 1, 0, 1, 1]\n",
      "[0, 1, 1, 0, 1, 1]\n",
      "[0, 1, 1, 0, 0, 1]\n",
      "[1, 1, 1, 0, 0, 1]\n",
      "[1, 1, 1, 0, 1, 1]\n",
      "[1, 1, 1, 0, 1, 0]\n",
      "[1, 1, 1, 0, 0, 0]\n",
      "[0, 1, 1, 0, 0, 0]\n",
      "[0, 1, 1, 0, 1, 0]\n",
      "[0, 0, 1, 0, 1, 0]\n",
      "[0, 0, 1, 0, 0, 0]\n",
      "[1, 0, 1, 0, 0, 0]\n",
      "[1, 0, 1, 0, 1, 0]\n",
      "[1, 0, 1, 1, 1, 0]\n",
      "[1, 0, 1, 1, 0, 0]\n",
      "[0, 0, 1, 1, 0, 0]\n",
      "[0, 0, 1, 1, 1, 0]\n",
      "[0, 1, 1, 1, 1, 0]\n",
      "[0, 1, 1, 1, 0, 0]\n",
      "[1, 1, 1, 1, 0, 0]\n",
      "[1, 1, 1, 1, 1, 0]\n",
      "[1, 1, 0, 1, 1, 0]\n",
      "[1, 1, 0, 1, 0, 0]\n",
      "[0, 1, 0, 1, 0, 0]\n",
      "[0, 1, 0, 1, 1, 0]\n",
      "[0, 0, 0, 1, 1, 0]\n",
      "[0, 0, 0, 1, 0, 0]\n",
      "[1, 0, 0, 1, 0, 0]\n",
      "[1, 0, 0, 1, 1, 0]\n",
      "[1, 0, 0, 0, 1, 0]\n",
      "[1, 0, 0, 0, 0, 0]\n",
      "[0, 0, 0, 0, 0, 0]\n",
      "[0, 0, 0, 0, 1, 0]\n",
      "[0, 1, 0, 0, 1, 0]\n",
      "[0, 1, 0, 0, 0, 0]\n",
      "[1, 1, 0, 0, 0, 0]\n",
      "[1, 1, 0, 0, 1, 0]\n",
      "[1, 1, 0, 0, 1, 1]\n",
      "[1, 1, 0, 0, 0, 1]\n",
      "[0, 1, 0, 0, 0, 1]\n",
      "[0, 1, 0, 0, 1, 1]\n",
      "[0, 0, 0, 0, 1, 1]\n",
      "[0, 0, 0, 0, 0, 1]\n",
      "[1, 0, 0, 0, 0, 1]\n",
      "[1, 0, 0, 0, 1, 1]\n",
      "[1, 0, 0, 1, 1, 1]\n",
      "[1, 0, 0, 1, 0, 1]\n",
      "[0, 0, 0, 1, 0, 1]\n",
      "[0, 0, 0, 1, 1, 1]\n",
      "[0, 1, 0, 1, 1, 1]\n",
      "[0, 1, 0, 1, 0, 1]\n",
      "[1, 1, 0, 1, 0, 1]\n",
      "[1, 1, 0, 1, 1, 1]\n",
      "[1, 1, 1, 1, 1, 1]\n",
      "64\n"
     ]
    }
   ],
   "source": [
    "temp = [4, 0, 4, 1, 4, 3, 4, 5, 4, 2]\n",
    "cur = [1, 1, 1, 1, 1, 1]\n",
    "\n",
    "st = set(range(m))\n",
    "seq = []\n",
    "for v in temp:\n",
    "    if v in st:\n",
    "        st.discard(v)\n",
    "        seq.append(v)\n",
    "        \n",
    "seq += list(st)\n",
    "\n",
    "temp = [seq[-1], seq[-1]]\n",
    "for i in range(len(seq) - 2, -1, -1):\n",
    "    ntemp = []\n",
    "    for j in range(len(temp)):\n",
    "        ntemp.append(seq[i])\n",
    "        ntemp.append(temp[j])\n",
    "    \n",
    "    temp = ntemp.copy()\n",
    "\n",
    "st = set()\n",
    "for v in temp:\n",
    "    cur[v] ^= 1\n",
    "    st.add(tuple(cur))\n",
    "    print(cur)\n",
    "    \n",
    "print(len(st))"
   ]
  },
  {
   "cell_type": "code",
   "execution_count": null,
   "metadata": {},
   "outputs": [],
   "source": []
  },
  {
   "cell_type": "code",
   "execution_count": null,
   "metadata": {},
   "outputs": [],
   "source": [
    "[0, 0, 0, 0, 0, 0]"
   ]
  },
  {
   "cell_type": "code",
   "execution_count": null,
   "metadata": {},
   "outputs": [],
   "source": [
    "s2 = '''111111 111101\n",
    "000000 001000'''"
   ]
  },
  {
   "cell_type": "code",
   "execution_count": 28,
   "metadata": {},
   "outputs": [
    {
     "name": "stdout",
     "output_type": "stream",
     "text": [
      "[1, 1, 1, 1]\n",
      "[1, 0, 1, 1]\n",
      "[0, 0, 1, 1]\n",
      "[0, 0, 1, 0]\n",
      "[1, 0, 1, 0]\n",
      "[1, 1, 1, 0]\n",
      "[0, 1, 1, 0]\n",
      "[0, 1, 0, 0]\n",
      "[1, 1, 0, 0]\n",
      "[1, 0, 0, 0]\n",
      "[0, 0, 0, 0]\n",
      "[0, 0, 0, 1]\n",
      "[1, 0, 0, 1]\n",
      "[1, 1, 0, 1]\n",
      "[0, 1, 0, 1]\n",
      "[0, 1, 1, 1]\n",
      "16\n"
     ]
    }
   ],
   "source": [
    "# m = 1\n",
    "# temp = [0, 0]\n",
    "\n",
    "# m = 2\n",
    "# temp = [0, 1, 0, 1]\n",
    "\n",
    "m = 3\n",
    "temp = [0, 1, 0, 2, 0, 1, 0, 2]\n",
    "temp = []\n",
    "\n",
    "# m = 4\n",
    "# temp = [1, 0, 1, 3, 1, 3]\n",
    "\n",
    "# m = 5\n",
    "# temp = [3, 2, 3, 4, 3, 2, 3, 0, 3, 2, 3, 4, 3, 2, 3, 1, 3, 2, 3, 4, 3, 2, 3, 0, 3, 2, 3, 4, 3, 2, 3, 1]\n",
    "# print(len(temp))\n",
    "\n",
    "m = 4\n",
    "cur = [0, 1, 1, 1]\n",
    "temp = [0, 1, 0, 3, 0, 1, 0, 2, 0, 1, 0, 3, 0, 1, 0, 2]\n",
    "\n",
    "# cur = [0] * m\n",
    "# cur = [1, 1, 0]\n",
    "st = set()\n",
    "for v in temp:\n",
    "    cur[v] ^= 1\n",
    "    st.add(tuple(cur))\n",
    "    print(cur)\n",
    "    \n",
    "print(len(st))"
   ]
  },
  {
   "cell_type": "code",
   "execution_count": null,
   "metadata": {},
   "outputs": [],
   "source": [
    "4 2\n",
    "1111 1011\n",
    "0010 0011"
   ]
  },
  {
   "cell_type": "code",
   "execution_count": null,
   "metadata": {},
   "outputs": [],
   "source": [
    "3 2\n",
    "110 010\n",
    "000 001"
   ]
  },
  {
   "cell_type": "markdown",
   "metadata": {},
   "source": [
    "## N-Queen 2 21133"
   ]
  },
  {
   "cell_type": "code",
   "execution_count": 341,
   "metadata": {},
   "outputs": [
    {
     "name": "stdout",
     "output_type": "stream",
     "text": [
      "6\n"
     ]
    }
   ],
   "source": [
    "n = int(input())\n",
    "\n",
    "li = []\n",
    "\n",
    "column = 2\n",
    "while column <= n:\n",
    "    li.append(column)\n",
    "    column += 2\n",
    "    \n",
    "column = 1\n",
    "while column <= n:\n",
    "    li.append(column)\n",
    "    column += 2"
   ]
  },
  {
   "cell_type": "code",
   "execution_count": null,
   "metadata": {},
   "outputs": [],
   "source": [
    "8, 9, 14, 15, 20, 21"
   ]
  },
  {
   "cell_type": "code",
   "execution_count": 611,
   "metadata": {},
   "outputs": [
    {
     "name": "stdout",
     "output_type": "stream",
     "text": [
      "[3, 1, 2, 0]\n",
      "4 False 2\n",
      "[3, 1, 3, 1, -1]\n",
      "5 False 1\n",
      "[3, 5, 1, 4, 2, 0]\n",
      "6 False 2\n",
      "[3, 5, 1, 5, 3, 1, -1]\n",
      "7 False 1\n",
      "[3, 5, 7, 1, 6, 4, 2, 0]\n",
      "8 False 2\n",
      "[3, 5, 7, 1, 7, 5, 3, 1, -1]\n",
      "9 False 1\n",
      "[3, 5, 7, 9, 1, 8, 6, 4, 2, 0]\n",
      "10 False 2\n",
      "[3, 5, 7, 9, 1, 9, 7, 5, 3, 1, -1]\n",
      "11 False 1\n",
      "[3, 5, 7, 9, 11, 1, 10, 8, 6, 4, 2, 0]\n",
      "12 False 2\n",
      "[3, 5, 7, 9, 11, 1, 11, 9, 7, 5, 3, 1, -1]\n",
      "13 False 1\n",
      "[3, 5, 7, 9, 11, 13, 1, 12, 10, 8, 6, 4, 2, 0]\n",
      "14 False 2\n",
      "[3, 5, 7, 9, 11, 13, 1, 13, 11, 9, 7, 5, 3, 1, -1]\n",
      "15 False 1\n",
      "[3, 5, 7, 9, 11, 13, 15, 1, 14, 12, 10, 8, 6, 4, 2, 0]\n",
      "16 False 2\n",
      "[3, 5, 7, 9, 11, 13, 15, 1, 15, 13, 11, 9, 7, 5, 3, 1, -1]\n",
      "17 False 1\n",
      "[3, 5, 7, 9, 11, 13, 15, 17, 1, 16, 14, 12, 10, 8, 6, 4, 2, 0]\n",
      "18 False 2\n",
      "[3, 5, 7, 9, 11, 13, 15, 17, 1, 17, 15, 13, 11, 9, 7, 5, 3, 1, -1]\n",
      "19 False 1\n",
      "[3, 5, 7, 9, 11, 13, 15, 17, 19, 1, 18, 16, 14, 12, 10, 8, 6, 4, 2, 0]\n",
      "20 False 2\n",
      "[3, 5, 7, 9, 11, 13, 15, 17, 19, 1, 19, 17, 15, 13, 11, 9, 7, 5, 3, 1, -1]\n",
      "21 False 1\n",
      "[3, 5, 7, 9, 11, 13, 15, 17, 19, 21, 1, 20, 18, 16, 14, 12, 10, 8, 6, 4, 2, 0]\n",
      "22 False 2\n",
      "[3, 5, 7, 9, 11, 13, 15, 17, 19, 21, 1, 21, 19, 17, 15, 13, 11, 9, 7, 5, 3, 1, -1]\n",
      "23 False 1\n",
      "[3, 5, 7, 9, 11, 13, 15, 17, 19, 21, 23, 1, 22, 20, 18, 16, 14, 12, 10, 8, 6, 4, 2, 0]\n",
      "24 False 2\n",
      "[3, 5, 7, 9, 11, 13, 15, 17, 19, 21, 23, 1, 23, 21, 19, 17, 15, 13, 11, 9, 7, 5, 3, 1, -1]\n",
      "25 False 1\n",
      "[3, 5, 7, 9, 11, 13, 15, 17, 19, 21, 23, 25, 1, 24, 22, 20, 18, 16, 14, 12, 10, 8, 6, 4, 2, 0]\n",
      "26 False 2\n",
      "[3, 5, 7, 9, 11, 13, 15, 17, 19, 21, 23, 25, 1, 25, 23, 21, 19, 17, 15, 13, 11, 9, 7, 5, 3, 1, -1]\n",
      "27 False 1\n",
      "[3, 5, 7, 9, 11, 13, 15, 17, 19, 21, 23, 25, 27, 1, 26, 24, 22, 20, 18, 16, 14, 12, 10, 8, 6, 4, 2, 0]\n",
      "28 False 2\n",
      "[3, 5, 7, 9, 11, 13, 15, 17, 19, 21, 23, 25, 27, 1, 27, 25, 23, 21, 19, 17, 15, 13, 11, 9, 7, 5, 3, 1, -1]\n",
      "29 False 1\n",
      "[3, 5, 7, 9, 11, 13, 15, 17, 19, 21, 23, 25, 27, 29, 1, 28, 26, 24, 22, 20, 18, 16, 14, 12, 10, 8, 6, 4, 2, 0]\n",
      "30 False 2\n",
      "[3, 5, 7, 9, 11, 13, 15, 17, 19, 21, 23, 25, 27, 29, 1, 29, 27, 25, 23, 21, 19, 17, 15, 13, 11, 9, 7, 5, 3, 1, -1]\n",
      "31 False 1\n",
      "[3, 5, 7, 9, 11, 13, 15, 17, 19, 21, 23, 25, 27, 29, 31, 1, 30, 28, 26, 24, 22, 20, 18, 16, 14, 12, 10, 8, 6, 4, 2, 0]\n",
      "32 False 2\n",
      "[3, 5, 7, 9, 11, 13, 15, 17, 19, 21, 23, 25, 27, 29, 31, 1, 31, 29, 27, 25, 23, 21, 19, 17, 15, 13, 11, 9, 7, 5, 3, 1, -1]\n",
      "33 False 1\n",
      "[3, 5, 7, 9, 11, 13, 15, 17, 19, 21, 23, 25, 27, 29, 31, 33, 1, 32, 30, 28, 26, 24, 22, 20, 18, 16, 14, 12, 10, 8, 6, 4, 2, 0]\n",
      "34 False 2\n",
      "[3, 5, 7, 9, 11, 13, 15, 17, 19, 21, 23, 25, 27, 29, 31, 33, 1, 33, 31, 29, 27, 25, 23, 21, 19, 17, 15, 13, 11, 9, 7, 5, 3, 1, -1]\n",
      "35 False 1\n",
      "[3, 5, 7, 9, 11, 13, 15, 17, 19, 21, 23, 25, 27, 29, 31, 33, 35, 1, 34, 32, 30, 28, 26, 24, 22, 20, 18, 16, 14, 12, 10, 8, 6, 4, 2, 0]\n",
      "36 False 2\n",
      "[3, 5, 7, 9, 11, 13, 15, 17, 19, 21, 23, 25, 27, 29, 31, 33, 35, 1, 35, 33, 31, 29, 27, 25, 23, 21, 19, 17, 15, 13, 11, 9, 7, 5, 3, 1, -1]\n",
      "37 False 1\n",
      "[3, 5, 7, 9, 11, 13, 15, 17, 19, 21, 23, 25, 27, 29, 31, 33, 35, 37, 1, 36, 34, 32, 30, 28, 26, 24, 22, 20, 18, 16, 14, 12, 10, 8, 6, 4, 2, 0]\n",
      "38 False 2\n",
      "[3, 5, 7, 9, 11, 13, 15, 17, 19, 21, 23, 25, 27, 29, 31, 33, 35, 37, 1, 37, 35, 33, 31, 29, 27, 25, 23, 21, 19, 17, 15, 13, 11, 9, 7, 5, 3, 1, -1]\n",
      "39 False 1\n",
      "[3, 5, 7, 9, 11, 13, 15, 17, 19, 21, 23, 25, 27, 29, 31, 33, 35, 37, 39, 1, 38, 36, 34, 32, 30, 28, 26, 24, 22, 20, 18, 16, 14, 12, 10, 8, 6, 4, 2, 0]\n",
      "40 False 2\n",
      "[3, 5, 7, 9, 11, 13, 15, 17, 19, 21, 23, 25, 27, 29, 31, 33, 35, 37, 39, 1, 39, 37, 35, 33, 31, 29, 27, 25, 23, 21, 19, 17, 15, 13, 11, 9, 7, 5, 3, 1, -1]\n",
      "41 False 1\n",
      "[3, 5, 7, 9, 11, 13, 15, 17, 19, 21, 23, 25, 27, 29, 31, 33, 35, 37, 39, 41, 1, 40, 38, 36, 34, 32, 30, 28, 26, 24, 22, 20, 18, 16, 14, 12, 10, 8, 6, 4, 2, 0]\n",
      "42 False 2\n",
      "[3, 5, 7, 9, 11, 13, 15, 17, 19, 21, 23, 25, 27, 29, 31, 33, 35, 37, 39, 41, 1, 41, 39, 37, 35, 33, 31, 29, 27, 25, 23, 21, 19, 17, 15, 13, 11, 9, 7, 5, 3, 1, -1]\n",
      "43 False 1\n",
      "[3, 5, 7, 9, 11, 13, 15, 17, 19, 21, 23, 25, 27, 29, 31, 33, 35, 37, 39, 41, 43, 1, 42, 40, 38, 36, 34, 32, 30, 28, 26, 24, 22, 20, 18, 16, 14, 12, 10, 8, 6, 4, 2, 0]\n",
      "44 False 2\n",
      "[3, 5, 7, 9, 11, 13, 15, 17, 19, 21, 23, 25, 27, 29, 31, 33, 35, 37, 39, 41, 43, 1, 43, 41, 39, 37, 35, 33, 31, 29, 27, 25, 23, 21, 19, 17, 15, 13, 11, 9, 7, 5, 3, 1, -1]\n",
      "45 False 1\n",
      "[3, 5, 7, 9, 11, 13, 15, 17, 19, 21, 23, 25, 27, 29, 31, 33, 35, 37, 39, 41, 43, 45, 1, 44, 42, 40, 38, 36, 34, 32, 30, 28, 26, 24, 22, 20, 18, 16, 14, 12, 10, 8, 6, 4, 2, 0]\n",
      "46 False 2\n",
      "[3, 5, 7, 9, 11, 13, 15, 17, 19, 21, 23, 25, 27, 29, 31, 33, 35, 37, 39, 41, 43, 45, 1, 45, 43, 41, 39, 37, 35, 33, 31, 29, 27, 25, 23, 21, 19, 17, 15, 13, 11, 9, 7, 5, 3, 1, -1]\n",
      "47 False 1\n",
      "[3, 5, 7, 9, 11, 13, 15, 17, 19, 21, 23, 25, 27, 29, 31, 33, 35, 37, 39, 41, 43, 45, 47, 1, 46, 44, 42, 40, 38, 36, 34, 32, 30, 28, 26, 24, 22, 20, 18, 16, 14, 12, 10, 8, 6, 4, 2, 0]\n",
      "48 False 2\n",
      "[3, 5, 7, 9, 11, 13, 15, 17, 19, 21, 23, 25, 27, 29, 31, 33, 35, 37, 39, 41, 43, 45, 47, 1, 47, 45, 43, 41, 39, 37, 35, 33, 31, 29, 27, 25, 23, 21, 19, 17, 15, 13, 11, 9, 7, 5, 3, 1, -1]\n",
      "49 False 1\n",
      "[3, 5, 7, 9, 11, 13, 15, 17, 19, 21, 23, 25, 27, 29, 31, 33, 35, 37, 39, 41, 43, 45, 47, 49, 1, 48, 46, 44, 42, 40, 38, 36, 34, 32, 30, 28, 26, 24, 22, 20, 18, 16, 14, 12, 10, 8, 6, 4, 2, 0]\n",
      "50 False 2\n",
      "[3, 5, 7, 9, 11, 13, 15, 17, 19, 21, 23, 25, 27, 29, 31, 33, 35, 37, 39, 41, 43, 45, 47, 49, 1, 49, 47, 45, 43, 41, 39, 37, 35, 33, 31, 29, 27, 25, 23, 21, 19, 17, 15, 13, 11, 9, 7, 5, 3, 1, -1]\n",
      "51 False 1\n",
      "[3, 5, 7, 9, 11, 13, 15, 17, 19, 21, 23, 25, 27, 29, 31, 33, 35, 37, 39, 41, 43, 45, 47, 49, 51, 1, 50, 48, 46, 44, 42, 40, 38, 36, 34, 32, 30, 28, 26, 24, 22, 20, 18, 16, 14, 12, 10, 8, 6, 4, 2, 0]\n",
      "52 False 2\n",
      "[3, 5, 7, 9, 11, 13, 15, 17, 19, 21, 23, 25, 27, 29, 31, 33, 35, 37, 39, 41, 43, 45, 47, 49, 51, 1, 51, 49, 47, 45, 43, 41, 39, 37, 35, 33, 31, 29, 27, 25, 23, 21, 19, 17, 15, 13, 11, 9, 7, 5, 3, 1, -1]\n",
      "53 False 1\n",
      "[3, 5, 7, 9, 11, 13, 15, 17, 19, 21, 23, 25, 27, 29, 31, 33, 35, 37, 39, 41, 43, 45, 47, 49, 51, 53, 1, 52, 50, 48, 46, 44, 42, 40, 38, 36, 34, 32, 30, 28, 26, 24, 22, 20, 18, 16, 14, 12, 10, 8, 6, 4, 2, 0]\n",
      "54 False 2\n",
      "[3, 5, 7, 9, 11, 13, 15, 17, 19, 21, 23, 25, 27, 29, 31, 33, 35, 37, 39, 41, 43, 45, 47, 49, 51, 53, 1, 53, 51, 49, 47, 45, 43, 41, 39, 37, 35, 33, 31, 29, 27, 25, 23, 21, 19, 17, 15, 13, 11, 9, 7, 5, 3, 1, -1]\n",
      "55 False 1\n",
      "[3, 5, 7, 9, 11, 13, 15, 17, 19, 21, 23, 25, 27, 29, 31, 33, 35, 37, 39, 41, 43, 45, 47, 49, 51, 53, 55, 1, 54, 52, 50, 48, 46, 44, 42, 40, 38, 36, 34, 32, 30, 28, 26, 24, 22, 20, 18, 16, 14, 12, 10, 8, 6, 4, 2, 0]\n",
      "56 False 2\n",
      "[3, 5, 7, 9, 11, 13, 15, 17, 19, 21, 23, 25, 27, 29, 31, 33, 35, 37, 39, 41, 43, 45, 47, 49, 51, 53, 55, 1, 55, 53, 51, 49, 47, 45, 43, 41, 39, 37, 35, 33, 31, 29, 27, 25, 23, 21, 19, 17, 15, 13, 11, 9, 7, 5, 3, 1, -1]\n",
      "57 False 1\n",
      "[3, 5, 7, 9, 11, 13, 15, 17, 19, 21, 23, 25, 27, 29, 31, 33, 35, 37, 39, 41, 43, 45, 47, 49, 51, 53, 55, 57, 1, 56, 54, 52, 50, 48, 46, 44, 42, 40, 38, 36, 34, 32, 30, 28, 26, 24, 22, 20, 18, 16, 14, 12, 10, 8, 6, 4, 2, 0]\n",
      "58 False 2\n",
      "[3, 5, 7, 9, 11, 13, 15, 17, 19, 21, 23, 25, 27, 29, 31, 33, 35, 37, 39, 41, 43, 45, 47, 49, 51, 53, 55, 57, 1, 57, 55, 53, 51, 49, 47, 45, 43, 41, 39, 37, 35, 33, 31, 29, 27, 25, 23, 21, 19, 17, 15, 13, 11, 9, 7, 5, 3, 1, -1]\n",
      "59 False 1\n",
      "[3, 5, 7, 9, 11, 13, 15, 17, 19, 21, 23, 25, 27, 29, 31, 33, 35, 37, 39, 41, 43, 45, 47, 49, 51, 53, 55, 57, 59, 1, 58, 56, 54, 52, 50, 48, 46, 44, 42, 40, 38, 36, 34, 32, 30, 28, 26, 24, 22, 20, 18, 16, 14, 12, 10, 8, 6, 4, 2, 0]\n",
      "60 False 2\n",
      "[3, 5, 7, 9, 11, 13, 15, 17, 19, 21, 23, 25, 27, 29, 31, 33, 35, 37, 39, 41, 43, 45, 47, 49, 51, 53, 55, 57, 59, 1, 59, 57, 55, 53, 51, 49, 47, 45, 43, 41, 39, 37, 35, 33, 31, 29, 27, 25, 23, 21, 19, 17, 15, 13, 11, 9, 7, 5, 3, 1, -1]\n",
      "61 False 1\n",
      "[3, 5, 7, 9, 11, 13, 15, 17, 19, 21, 23, 25, 27, 29, 31, 33, 35, 37, 39, 41, 43, 45, 47, 49, 51, 53, 55, 57, 59, 61, 1, 60, 58, 56, 54, 52, 50, 48, 46, 44, 42, 40, 38, 36, 34, 32, 30, 28, 26, 24, 22, 20, 18, 16, 14, 12, 10, 8, 6, 4, 2, 0]\n",
      "62 False 2\n",
      "[3, 5, 7, 9, 11, 13, 15, 17, 19, 21, 23, 25, 27, 29, 31, 33, 35, 37, 39, 41, 43, 45, 47, 49, 51, 53, 55, 57, 59, 61, 1, 61, 59, 57, 55, 53, 51, 49, 47, 45, 43, 41, 39, 37, 35, 33, 31, 29, 27, 25, 23, 21, 19, 17, 15, 13, 11, 9, 7, 5, 3, 1, -1]\n",
      "63 False 1\n",
      "[3, 5, 7, 9, 11, 13, 15, 17, 19, 21, 23, 25, 27, 29, 31, 33, 35, 37, 39, 41, 43, 45, 47, 49, 51, 53, 55, 57, 59, 61, 63, 1, 62, 60, 58, 56, 54, 52, 50, 48, 46, 44, 42, 40, 38, 36, 34, 32, 30, 28, 26, 24, 22, 20, 18, 16, 14, 12, 10, 8, 6, 4, 2, 0]\n",
      "64 False 2\n",
      "[3, 5, 7, 9, 11, 13, 15, 17, 19, 21, 23, 25, 27, 29, 31, 33, 35, 37, 39, 41, 43, 45, 47, 49, 51, 53, 55, 57, 59, 61, 63, 1, 63, 61, 59, 57, 55, 53, 51, 49, 47, 45, 43, 41, 39, 37, 35, 33, 31, 29, 27, 25, 23, 21, 19, 17, 15, 13, 11, 9, 7, 5, 3, 1, -1]\n",
      "65 False 1\n",
      "[3, 5, 7, 9, 11, 13, 15, 17, 19, 21, 23, 25, 27, 29, 31, 33, 35, 37, 39, 41, 43, 45, 47, 49, 51, 53, 55, 57, 59, 61, 63, 65, 1, 64, 62, 60, 58, 56, 54, 52, 50, 48, 46, 44, 42, 40, 38, 36, 34, 32, 30, 28, 26, 24, 22, 20, 18, 16, 14, 12, 10, 8, 6, 4, 2, 0]\n",
      "66 False 2\n",
      "[3, 5, 7, 9, 11, 13, 15, 17, 19, 21, 23, 25, 27, 29, 31, 33, 35, 37, 39, 41, 43, 45, 47, 49, 51, 53, 55, 57, 59, 61, 63, 65, 1, 65, 63, 61, 59, 57, 55, 53, 51, 49, 47, 45, 43, 41, 39, 37, 35, 33, 31, 29, 27, 25, 23, 21, 19, 17, 15, 13, 11, 9, 7, 5, 3, 1, -1]\n",
      "67 False 1\n",
      "[3, 5, 7, 9, 11, 13, 15, 17, 19, 21, 23, 25, 27, 29, 31, 33, 35, 37, 39, 41, 43, 45, 47, 49, 51, 53, 55, 57, 59, 61, 63, 65, 67, 1, 66, 64, 62, 60, 58, 56, 54, 52, 50, 48, 46, 44, 42, 40, 38, 36, 34, 32, 30, 28, 26, 24, 22, 20, 18, 16, 14, 12, 10, 8, 6, 4, 2, 0]\n",
      "68 False 2\n",
      "[3, 5, 7, 9, 11, 13, 15, 17, 19, 21, 23, 25, 27, 29, 31, 33, 35, 37, 39, 41, 43, 45, 47, 49, 51, 53, 55, 57, 59, 61, 63, 65, 67, 1, 67, 65, 63, 61, 59, 57, 55, 53, 51, 49, 47, 45, 43, 41, 39, 37, 35, 33, 31, 29, 27, 25, 23, 21, 19, 17, 15, 13, 11, 9, 7, 5, 3, 1, -1]\n",
      "69 False 1\n",
      "[3, 5, 7, 9, 11, 13, 15, 17, 19, 21, 23, 25, 27, 29, 31, 33, 35, 37, 39, 41, 43, 45, 47, 49, 51, 53, 55, 57, 59, 61, 63, 65, 67, 69, 1, 68, 66, 64, 62, 60, 58, 56, 54, 52, 50, 48, 46, 44, 42, 40, 38, 36, 34, 32, 30, 28, 26, 24, 22, 20, 18, 16, 14, 12, 10, 8, 6, 4, 2, 0]\n",
      "70 False 2\n",
      "[3, 5, 7, 9, 11, 13, 15, 17, 19, 21, 23, 25, 27, 29, 31, 33, 35, 37, 39, 41, 43, 45, 47, 49, 51, 53, 55, 57, 59, 61, 63, 65, 67, 69, 1, 69, 67, 65, 63, 61, 59, 57, 55, 53, 51, 49, 47, 45, 43, 41, 39, 37, 35, 33, 31, 29, 27, 25, 23, 21, 19, 17, 15, 13, 11, 9, 7, 5, 3, 1, -1]\n",
      "71 False 1\n",
      "[3, 5, 7, 9, 11, 13, 15, 17, 19, 21, 23, 25, 27, 29, 31, 33, 35, 37, 39, 41, 43, 45, 47, 49, 51, 53, 55, 57, 59, 61, 63, 65, 67, 69, 71, 1, 70, 68, 66, 64, 62, 60, 58, 56, 54, 52, 50, 48, 46, 44, 42, 40, 38, 36, 34, 32, 30, 28, 26, 24, 22, 20, 18, 16, 14, 12, 10, 8, 6, 4, 2, 0]\n",
      "72 False 2\n",
      "[3, 5, 7, 9, 11, 13, 15, 17, 19, 21, 23, 25, 27, 29, 31, 33, 35, 37, 39, 41, 43, 45, 47, 49, 51, 53, 55, 57, 59, 61, 63, 65, 67, 69, 71, 1, 71, 69, 67, 65, 63, 61, 59, 57, 55, 53, 51, 49, 47, 45, 43, 41, 39, 37, 35, 33, 31, 29, 27, 25, 23, 21, 19, 17, 15, 13, 11, 9, 7, 5, 3, 1, -1]\n",
      "73 False 1\n",
      "[3, 5, 7, 9, 11, 13, 15, 17, 19, 21, 23, 25, 27, 29, 31, 33, 35, 37, 39, 41, 43, 45, 47, 49, 51, 53, 55, 57, 59, 61, 63, 65, 67, 69, 71, 73, 1, 72, 70, 68, 66, 64, 62, 60, 58, 56, 54, 52, 50, 48, 46, 44, 42, 40, 38, 36, 34, 32, 30, 28, 26, 24, 22, 20, 18, 16, 14, 12, 10, 8, 6, 4, 2, 0]\n",
      "74 False 2\n",
      "[3, 5, 7, 9, 11, 13, 15, 17, 19, 21, 23, 25, 27, 29, 31, 33, 35, 37, 39, 41, 43, 45, 47, 49, 51, 53, 55, 57, 59, 61, 63, 65, 67, 69, 71, 73, 1, 73, 71, 69, 67, 65, 63, 61, 59, 57, 55, 53, 51, 49, 47, 45, 43, 41, 39, 37, 35, 33, 31, 29, 27, 25, 23, 21, 19, 17, 15, 13, 11, 9, 7, 5, 3, 1, -1]\n",
      "75 False 1\n",
      "[3, 5, 7, 9, 11, 13, 15, 17, 19, 21, 23, 25, 27, 29, 31, 33, 35, 37, 39, 41, 43, 45, 47, 49, 51, 53, 55, 57, 59, 61, 63, 65, 67, 69, 71, 73, 75, 1, 74, 72, 70, 68, 66, 64, 62, 60, 58, 56, 54, 52, 50, 48, 46, 44, 42, 40, 38, 36, 34, 32, 30, 28, 26, 24, 22, 20, 18, 16, 14, 12, 10, 8, 6, 4, 2, 0]\n",
      "76 False 2\n",
      "[3, 5, 7, 9, 11, 13, 15, 17, 19, 21, 23, 25, 27, 29, 31, 33, 35, 37, 39, 41, 43, 45, 47, 49, 51, 53, 55, 57, 59, 61, 63, 65, 67, 69, 71, 73, 75, 1, 75, 73, 71, 69, 67, 65, 63, 61, 59, 57, 55, 53, 51, 49, 47, 45, 43, 41, 39, 37, 35, 33, 31, 29, 27, 25, 23, 21, 19, 17, 15, 13, 11, 9, 7, 5, 3, 1, -1]\n",
      "77 False 1\n",
      "[3, 5, 7, 9, 11, 13, 15, 17, 19, 21, 23, 25, 27, 29, 31, 33, 35, 37, 39, 41, 43, 45, 47, 49, 51, 53, 55, 57, 59, 61, 63, 65, 67, 69, 71, 73, 75, 77, 1, 76, 74, 72, 70, 68, 66, 64, 62, 60, 58, 56, 54, 52, 50, 48, 46, 44, 42, 40, 38, 36, 34, 32, 30, 28, 26, 24, 22, 20, 18, 16, 14, 12, 10, 8, 6, 4, 2, 0]\n",
      "78 False 2\n",
      "[3, 5, 7, 9, 11, 13, 15, 17, 19, 21, 23, 25, 27, 29, 31, 33, 35, 37, 39, 41, 43, 45, 47, 49, 51, 53, 55, 57, 59, 61, 63, 65, 67, 69, 71, 73, 75, 77, 1, 77, 75, 73, 71, 69, 67, 65, 63, 61, 59, 57, 55, 53, 51, 49, 47, 45, 43, 41, 39, 37, 35, 33, 31, 29, 27, 25, 23, 21, 19, 17, 15, 13, 11, 9, 7, 5, 3, 1, -1]\n",
      "79 False 1\n",
      "[3, 5, 7, 9, 11, 13, 15, 17, 19, 21, 23, 25, 27, 29, 31, 33, 35, 37, 39, 41, 43, 45, 47, 49, 51, 53, 55, 57, 59, 61, 63, 65, 67, 69, 71, 73, 75, 77, 79, 1, 78, 76, 74, 72, 70, 68, 66, 64, 62, 60, 58, 56, 54, 52, 50, 48, 46, 44, 42, 40, 38, 36, 34, 32, 30, 28, 26, 24, 22, 20, 18, 16, 14, 12, 10, 8, 6, 4, 2, 0]\n",
      "80 False 2\n",
      "[3, 5, 7, 9, 11, 13, 15, 17, 19, 21, 23, 25, 27, 29, 31, 33, 35, 37, 39, 41, 43, 45, 47, 49, 51, 53, 55, 57, 59, 61, 63, 65, 67, 69, 71, 73, 75, 77, 79, 1, 79, 77, 75, 73, 71, 69, 67, 65, 63, 61, 59, 57, 55, 53, 51, 49, 47, 45, 43, 41, 39, 37, 35, 33, 31, 29, 27, 25, 23, 21, 19, 17, 15, 13, 11, 9, 7, 5, 3, 1, -1]\n",
      "81 False 1\n",
      "[3, 5, 7, 9, 11, 13, 15, 17, 19, 21, 23, 25, 27, 29, 31, 33, 35, 37, 39, 41, 43, 45, 47, 49, 51, 53, 55, 57, 59, 61, 63, 65, 67, 69, 71, 73, 75, 77, 79, 81, 1, 80, 78, 76, 74, 72, 70, 68, 66, 64, 62, 60, 58, 56, 54, 52, 50, 48, 46, 44, 42, 40, 38, 36, 34, 32, 30, 28, 26, 24, 22, 20, 18, 16, 14, 12, 10, 8, 6, 4, 2, 0]\n",
      "82 False 2\n",
      "[3, 5, 7, 9, 11, 13, 15, 17, 19, 21, 23, 25, 27, 29, 31, 33, 35, 37, 39, 41, 43, 45, 47, 49, 51, 53, 55, 57, 59, 61, 63, 65, 67, 69, 71, 73, 75, 77, 79, 81, 1, 81, 79, 77, 75, 73, 71, 69, 67, 65, 63, 61, 59, 57, 55, 53, 51, 49, 47, 45, 43, 41, 39, 37, 35, 33, 31, 29, 27, 25, 23, 21, 19, 17, 15, 13, 11, 9, 7, 5, 3, 1, -1]\n",
      "83 False 1\n",
      "[3, 5, 7, 9, 11, 13, 15, 17, 19, 21, 23, 25, 27, 29, 31, 33, 35, 37, 39, 41, 43, 45, 47, 49, 51, 53, 55, 57, 59, 61, 63, 65, 67, 69, 71, 73, 75, 77, 79, 81, 83, 1, 82, 80, 78, 76, 74, 72, 70, 68, 66, 64, 62, 60, 58, 56, 54, 52, 50, 48, 46, 44, 42, 40, 38, 36, 34, 32, 30, 28, 26, 24, 22, 20, 18, 16, 14, 12, 10, 8, 6, 4, 2, 0]\n",
      "84 False 2\n",
      "[3, 5, 7, 9, 11, 13, 15, 17, 19, 21, 23, 25, 27, 29, 31, 33, 35, 37, 39, 41, 43, 45, 47, 49, 51, 53, 55, 57, 59, 61, 63, 65, 67, 69, 71, 73, 75, 77, 79, 81, 83, 1, 83, 81, 79, 77, 75, 73, 71, 69, 67, 65, 63, 61, 59, 57, 55, 53, 51, 49, 47, 45, 43, 41, 39, 37, 35, 33, 31, 29, 27, 25, 23, 21, 19, 17, 15, 13, 11, 9, 7, 5, 3, 1, -1]\n",
      "85 False 1\n",
      "[3, 5, 7, 9, 11, 13, 15, 17, 19, 21, 23, 25, 27, 29, 31, 33, 35, 37, 39, 41, 43, 45, 47, 49, 51, 53, 55, 57, 59, 61, 63, 65, 67, 69, 71, 73, 75, 77, 79, 81, 83, 85, 1, 84, 82, 80, 78, 76, 74, 72, 70, 68, 66, 64, 62, 60, 58, 56, 54, 52, 50, 48, 46, 44, 42, 40, 38, 36, 34, 32, 30, 28, 26, 24, 22, 20, 18, 16, 14, 12, 10, 8, 6, 4, 2, 0]\n",
      "86 False 2\n",
      "[3, 5, 7, 9, 11, 13, 15, 17, 19, 21, 23, 25, 27, 29, 31, 33, 35, 37, 39, 41, 43, 45, 47, 49, 51, 53, 55, 57, 59, 61, 63, 65, 67, 69, 71, 73, 75, 77, 79, 81, 83, 85, 1, 85, 83, 81, 79, 77, 75, 73, 71, 69, 67, 65, 63, 61, 59, 57, 55, 53, 51, 49, 47, 45, 43, 41, 39, 37, 35, 33, 31, 29, 27, 25, 23, 21, 19, 17, 15, 13, 11, 9, 7, 5, 3, 1, -1]\n",
      "87 False 1\n",
      "[3, 5, 7, 9, 11, 13, 15, 17, 19, 21, 23, 25, 27, 29, 31, 33, 35, 37, 39, 41, 43, 45, 47, 49, 51, 53, 55, 57, 59, 61, 63, 65, 67, 69, 71, 73, 75, 77, 79, 81, 83, 85, 87, 1, 86, 84, 82, 80, 78, 76, 74, 72, 70, 68, 66, 64, 62, 60, 58, 56, 54, 52, 50, 48, 46, 44, 42, 40, 38, 36, 34, 32, 30, 28, 26, 24, 22, 20, 18, 16, 14, 12, 10, 8, 6, 4, 2, 0]\n",
      "88 False 2\n",
      "[3, 5, 7, 9, 11, 13, 15, 17, 19, 21, 23, 25, 27, 29, 31, 33, 35, 37, 39, 41, 43, 45, 47, 49, 51, 53, 55, 57, 59, 61, 63, 65, 67, 69, 71, 73, 75, 77, 79, 81, 83, 85, 87, 1, 87, 85, 83, 81, 79, 77, 75, 73, 71, 69, 67, 65, 63, 61, 59, 57, 55, 53, 51, 49, 47, 45, 43, 41, 39, 37, 35, 33, 31, 29, 27, 25, 23, 21, 19, 17, 15, 13, 11, 9, 7, 5, 3, 1, -1]\n",
      "89 False 1\n",
      "[3, 5, 7, 9, 11, 13, 15, 17, 19, 21, 23, 25, 27, 29, 31, 33, 35, 37, 39, 41, 43, 45, 47, 49, 51, 53, 55, 57, 59, 61, 63, 65, 67, 69, 71, 73, 75, 77, 79, 81, 83, 85, 87, 89, 1, 88, 86, 84, 82, 80, 78, 76, 74, 72, 70, 68, 66, 64, 62, 60, 58, 56, 54, 52, 50, 48, 46, 44, 42, 40, 38, 36, 34, 32, 30, 28, 26, 24, 22, 20, 18, 16, 14, 12, 10, 8, 6, 4, 2, 0]\n",
      "90 False 2\n",
      "[3, 5, 7, 9, 11, 13, 15, 17, 19, 21, 23, 25, 27, 29, 31, 33, 35, 37, 39, 41, 43, 45, 47, 49, 51, 53, 55, 57, 59, 61, 63, 65, 67, 69, 71, 73, 75, 77, 79, 81, 83, 85, 87, 89, 1, 89, 87, 85, 83, 81, 79, 77, 75, 73, 71, 69, 67, 65, 63, 61, 59, 57, 55, 53, 51, 49, 47, 45, 43, 41, 39, 37, 35, 33, 31, 29, 27, 25, 23, 21, 19, 17, 15, 13, 11, 9, 7, 5, 3, 1, -1]\n",
      "91 False 1\n",
      "[3, 5, 7, 9, 11, 13, 15, 17, 19, 21, 23, 25, 27, 29, 31, 33, 35, 37, 39, 41, 43, 45, 47, 49, 51, 53, 55, 57, 59, 61, 63, 65, 67, 69, 71, 73, 75, 77, 79, 81, 83, 85, 87, 89, 91, 1, 90, 88, 86, 84, 82, 80, 78, 76, 74, 72, 70, 68, 66, 64, 62, 60, 58, 56, 54, 52, 50, 48, 46, 44, 42, 40, 38, 36, 34, 32, 30, 28, 26, 24, 22, 20, 18, 16, 14, 12, 10, 8, 6, 4, 2, 0]\n",
      "92 False 2\n",
      "[3, 5, 7, 9, 11, 13, 15, 17, 19, 21, 23, 25, 27, 29, 31, 33, 35, 37, 39, 41, 43, 45, 47, 49, 51, 53, 55, 57, 59, 61, 63, 65, 67, 69, 71, 73, 75, 77, 79, 81, 83, 85, 87, 89, 91, 1, 91, 89, 87, 85, 83, 81, 79, 77, 75, 73, 71, 69, 67, 65, 63, 61, 59, 57, 55, 53, 51, 49, 47, 45, 43, 41, 39, 37, 35, 33, 31, 29, 27, 25, 23, 21, 19, 17, 15, 13, 11, 9, 7, 5, 3, 1, -1]\n",
      "93 False 1\n",
      "[3, 5, 7, 9, 11, 13, 15, 17, 19, 21, 23, 25, 27, 29, 31, 33, 35, 37, 39, 41, 43, 45, 47, 49, 51, 53, 55, 57, 59, 61, 63, 65, 67, 69, 71, 73, 75, 77, 79, 81, 83, 85, 87, 89, 91, 93, 1, 92, 90, 88, 86, 84, 82, 80, 78, 76, 74, 72, 70, 68, 66, 64, 62, 60, 58, 56, 54, 52, 50, 48, 46, 44, 42, 40, 38, 36, 34, 32, 30, 28, 26, 24, 22, 20, 18, 16, 14, 12, 10, 8, 6, 4, 2, 0]\n",
      "94 False 2\n",
      "[3, 5, 7, 9, 11, 13, 15, 17, 19, 21, 23, 25, 27, 29, 31, 33, 35, 37, 39, 41, 43, 45, 47, 49, 51, 53, 55, 57, 59, 61, 63, 65, 67, 69, 71, 73, 75, 77, 79, 81, 83, 85, 87, 89, 91, 93, 1, 93, 91, 89, 87, 85, 83, 81, 79, 77, 75, 73, 71, 69, 67, 65, 63, 61, 59, 57, 55, 53, 51, 49, 47, 45, 43, 41, 39, 37, 35, 33, 31, 29, 27, 25, 23, 21, 19, 17, 15, 13, 11, 9, 7, 5, 3, 1, -1]\n",
      "95 False 1\n",
      "[3, 5, 7, 9, 11, 13, 15, 17, 19, 21, 23, 25, 27, 29, 31, 33, 35, 37, 39, 41, 43, 45, 47, 49, 51, 53, 55, 57, 59, 61, 63, 65, 67, 69, 71, 73, 75, 77, 79, 81, 83, 85, 87, 89, 91, 93, 95, 1, 94, 92, 90, 88, 86, 84, 82, 80, 78, 76, 74, 72, 70, 68, 66, 64, 62, 60, 58, 56, 54, 52, 50, 48, 46, 44, 42, 40, 38, 36, 34, 32, 30, 28, 26, 24, 22, 20, 18, 16, 14, 12, 10, 8, 6, 4, 2, 0]\n",
      "96 False 2\n",
      "[3, 5, 7, 9, 11, 13, 15, 17, 19, 21, 23, 25, 27, 29, 31, 33, 35, 37, 39, 41, 43, 45, 47, 49, 51, 53, 55, 57, 59, 61, 63, 65, 67, 69, 71, 73, 75, 77, 79, 81, 83, 85, 87, 89, 91, 93, 95, 1, 95, 93, 91, 89, 87, 85, 83, 81, 79, 77, 75, 73, 71, 69, 67, 65, 63, 61, 59, 57, 55, 53, 51, 49, 47, 45, 43, 41, 39, 37, 35, 33, 31, 29, 27, 25, 23, 21, 19, 17, 15, 13, 11, 9, 7, 5, 3, 1, -1]\n",
      "97 False 1\n",
      "[3, 5, 7, 9, 11, 13, 15, 17, 19, 21, 23, 25, 27, 29, 31, 33, 35, 37, 39, 41, 43, 45, 47, 49, 51, 53, 55, 57, 59, 61, 63, 65, 67, 69, 71, 73, 75, 77, 79, 81, 83, 85, 87, 89, 91, 93, 95, 97, 1, 96, 94, 92, 90, 88, 86, 84, 82, 80, 78, 76, 74, 72, 70, 68, 66, 64, 62, 60, 58, 56, 54, 52, 50, 48, 46, 44, 42, 40, 38, 36, 34, 32, 30, 28, 26, 24, 22, 20, 18, 16, 14, 12, 10, 8, 6, 4, 2, 0]\n",
      "98 False 2\n",
      "[3, 5, 7, 9, 11, 13, 15, 17, 19, 21, 23, 25, 27, 29, 31, 33, 35, 37, 39, 41, 43, 45, 47, 49, 51, 53, 55, 57, 59, 61, 63, 65, 67, 69, 71, 73, 75, 77, 79, 81, 83, 85, 87, 89, 91, 93, 95, 97, 1, 97, 95, 93, 91, 89, 87, 85, 83, 81, 79, 77, 75, 73, 71, 69, 67, 65, 63, 61, 59, 57, 55, 53, 51, 49, 47, 45, 43, 41, 39, 37, 35, 33, 31, 29, 27, 25, 23, 21, 19, 17, 15, 13, 11, 9, 7, 5, 3, 1, -1]\n",
      "99 False 1\n",
      "[3, 5, 7, 9, 11, 13, 15, 17, 19, 21, 23, 25, 27, 29, 31, 33, 35, 37, 39, 41, 43, 45, 47, 49, 51, 53, 55, 57, 59, 61, 63, 65, 67, 69, 71, 73, 75, 77, 79, 81, 83, 85, 87, 89, 91, 93, 95, 97, 99, 1, 98, 96, 94, 92, 90, 88, 86, 84, 82, 80, 78, 76, 74, 72, 70, 68, 66, 64, 62, 60, 58, 56, 54, 52, 50, 48, 46, 44, 42, 40, 38, 36, 34, 32, 30, 28, 26, 24, 22, 20, 18, 16, 14, 12, 10, 8, 6, 4, 2, 0]\n",
      "100 False 2\n",
      "[3, 5, 7, 9, 11, 13, 15, 17, 19, 21, 23, 25, 27, 29, 31, 33, 35, 37, 39, 41, 43, 45, 47, 49, 51, 53, 55, 57, 59, 61, 63, 65, 67, 69, 71, 73, 75, 77, 79, 81, 83, 85, 87, 89, 91, 93, 95, 97, 99, 1, 99, 97, 95, 93, 91, 89, 87, 85, 83, 81, 79, 77, 75, 73, 71, 69, 67, 65, 63, 61, 59, 57, 55, 53, 51, 49, 47, 45, 43, 41, 39, 37, 35, 33, 31, 29, 27, 25, 23, 21, 19, 17, 15, 13, 11, 9, 7, 5, 3, 1, -1]\n",
      "101 False 1\n",
      "[3, 5, 7, 9, 11, 13, 15, 17, 19, 21, 23, 25, 27, 29, 31, 33, 35, 37, 39, 41, 43, 45, 47, 49, 51, 53, 55, 57, 59, 61, 63, 65, 67, 69, 71, 73, 75, 77, 79, 81, 83, 85, 87, 89, 91, 93, 95, 97, 99, 101, 1, 100, 98, 96, 94, 92, 90, 88, 86, 84, 82, 80, 78, 76, 74, 72, 70, 68, 66, 64, 62, 60, 58, 56, 54, 52, 50, 48, 46, 44, 42, 40, 38, 36, 34, 32, 30, 28, 26, 24, 22, 20, 18, 16, 14, 12, 10, 8, 6, 4, 2, 0]\n",
      "102 False 2\n",
      "[3, 5, 7, 9, 11, 13, 15, 17, 19, 21, 23, 25, 27, 29, 31, 33, 35, 37, 39, 41, 43, 45, 47, 49, 51, 53, 55, 57, 59, 61, 63, 65, 67, 69, 71, 73, 75, 77, 79, 81, 83, 85, 87, 89, 91, 93, 95, 97, 99, 101, 1, 101, 99, 97, 95, 93, 91, 89, 87, 85, 83, 81, 79, 77, 75, 73, 71, 69, 67, 65, 63, 61, 59, 57, 55, 53, 51, 49, 47, 45, 43, 41, 39, 37, 35, 33, 31, 29, 27, 25, 23, 21, 19, 17, 15, 13, 11, 9, 7, 5, 3, 1, -1]\n",
      "103 False 1\n",
      "[3, 5, 7, 9, 11, 13, 15, 17, 19, 21, 23, 25, 27, 29, 31, 33, 35, 37, 39, 41, 43, 45, 47, 49, 51, 53, 55, 57, 59, 61, 63, 65, 67, 69, 71, 73, 75, 77, 79, 81, 83, 85, 87, 89, 91, 93, 95, 97, 99, 101, 103, 1, 102, 100, 98, 96, 94, 92, 90, 88, 86, 84, 82, 80, 78, 76, 74, 72, 70, 68, 66, 64, 62, 60, 58, 56, 54, 52, 50, 48, 46, 44, 42, 40, 38, 36, 34, 32, 30, 28, 26, 24, 22, 20, 18, 16, 14, 12, 10, 8, 6, 4, 2, 0]\n",
      "104 False 2\n",
      "[3, 5, 7, 9, 11, 13, 15, 17, 19, 21, 23, 25, 27, 29, 31, 33, 35, 37, 39, 41, 43, 45, 47, 49, 51, 53, 55, 57, 59, 61, 63, 65, 67, 69, 71, 73, 75, 77, 79, 81, 83, 85, 87, 89, 91, 93, 95, 97, 99, 101, 103, 1, 103, 101, 99, 97, 95, 93, 91, 89, 87, 85, 83, 81, 79, 77, 75, 73, 71, 69, 67, 65, 63, 61, 59, 57, 55, 53, 51, 49, 47, 45, 43, 41, 39, 37, 35, 33, 31, 29, 27, 25, 23, 21, 19, 17, 15, 13, 11, 9, 7, 5, 3, 1, -1]\n",
      "105 False 1\n",
      "[3, 5, 7, 9, 11, 13, 15, 17, 19, 21, 23, 25, 27, 29, 31, 33, 35, 37, 39, 41, 43, 45, 47, 49, 51, 53, 55, 57, 59, 61, 63, 65, 67, 69, 71, 73, 75, 77, 79, 81, 83, 85, 87, 89, 91, 93, 95, 97, 99, 101, 103, 105, 1, 104, 102, 100, 98, 96, 94, 92, 90, 88, 86, 84, 82, 80, 78, 76, 74, 72, 70, 68, 66, 64, 62, 60, 58, 56, 54, 52, 50, 48, 46, 44, 42, 40, 38, 36, 34, 32, 30, 28, 26, 24, 22, 20, 18, 16, 14, 12, 10, 8, 6, 4, 2, 0]\n",
      "106 False 2\n",
      "[3, 5, 7, 9, 11, 13, 15, 17, 19, 21, 23, 25, 27, 29, 31, 33, 35, 37, 39, 41, 43, 45, 47, 49, 51, 53, 55, 57, 59, 61, 63, 65, 67, 69, 71, 73, 75, 77, 79, 81, 83, 85, 87, 89, 91, 93, 95, 97, 99, 101, 103, 105, 1, 105, 103, 101, 99, 97, 95, 93, 91, 89, 87, 85, 83, 81, 79, 77, 75, 73, 71, 69, 67, 65, 63, 61, 59, 57, 55, 53, 51, 49, 47, 45, 43, 41, 39, 37, 35, 33, 31, 29, 27, 25, 23, 21, 19, 17, 15, 13, 11, 9, 7, 5, 3, 1, -1]\n",
      "107 False 1\n",
      "[3, 5, 7, 9, 11, 13, 15, 17, 19, 21, 23, 25, 27, 29, 31, 33, 35, 37, 39, 41, 43, 45, 47, 49, 51, 53, 55, 57, 59, 61, 63, 65, 67, 69, 71, 73, 75, 77, 79, 81, 83, 85, 87, 89, 91, 93, 95, 97, 99, 101, 103, 105, 107, 1, 106, 104, 102, 100, 98, 96, 94, 92, 90, 88, 86, 84, 82, 80, 78, 76, 74, 72, 70, 68, 66, 64, 62, 60, 58, 56, 54, 52, 50, 48, 46, 44, 42, 40, 38, 36, 34, 32, 30, 28, 26, 24, 22, 20, 18, 16, 14, 12, 10, 8, 6, 4, 2, 0]\n",
      "108 False 2\n",
      "[3, 5, 7, 9, 11, 13, 15, 17, 19, 21, 23, 25, 27, 29, 31, 33, 35, 37, 39, 41, 43, 45, 47, 49, 51, 53, 55, 57, 59, 61, 63, 65, 67, 69, 71, 73, 75, 77, 79, 81, 83, 85, 87, 89, 91, 93, 95, 97, 99, 101, 103, 105, 107, 1, 107, 105, 103, 101, 99, 97, 95, 93, 91, 89, 87, 85, 83, 81, 79, 77, 75, 73, 71, 69, 67, 65, 63, 61, 59, 57, 55, 53, 51, 49, 47, 45, 43, 41, 39, 37, 35, 33, 31, 29, 27, 25, 23, 21, 19, 17, 15, 13, 11, 9, 7, 5, 3, 1, -1]\n",
      "109 False 1\n",
      "[3, 5, 7, 9, 11, 13, 15, 17, 19, 21, 23, 25, 27, 29, 31, 33, 35, 37, 39, 41, 43, 45, 47, 49, 51, 53, 55, 57, 59, 61, 63, 65, 67, 69, 71, 73, 75, 77, 79, 81, 83, 85, 87, 89, 91, 93, 95, 97, 99, 101, 103, 105, 107, 109, 1, 108, 106, 104, 102, 100, 98, 96, 94, 92, 90, 88, 86, 84, 82, 80, 78, 76, 74, 72, 70, 68, 66, 64, 62, 60, 58, 56, 54, 52, 50, 48, 46, 44, 42, 40, 38, 36, 34, 32, 30, 28, 26, 24, 22, 20, 18, 16, 14, 12, 10, 8, 6, 4, 2, 0]\n",
      "110 False 2\n",
      "[3, 5, 7, 9, 11, 13, 15, 17, 19, 21, 23, 25, 27, 29, 31, 33, 35, 37, 39, 41, 43, 45, 47, 49, 51, 53, 55, 57, 59, 61, 63, 65, 67, 69, 71, 73, 75, 77, 79, 81, 83, 85, 87, 89, 91, 93, 95, 97, 99, 101, 103, 105, 107, 109, 1, 109, 107, 105, 103, 101, 99, 97, 95, 93, 91, 89, 87, 85, 83, 81, 79, 77, 75, 73, 71, 69, 67, 65, 63, 61, 59, 57, 55, 53, 51, 49, 47, 45, 43, 41, 39, 37, 35, 33, 31, 29, 27, 25, 23, 21, 19, 17, 15, 13, 11, 9, 7, 5, 3, 1, -1]\n",
      "111 False 1\n",
      "[3, 5, 7, 9, 11, 13, 15, 17, 19, 21, 23, 25, 27, 29, 31, 33, 35, 37, 39, 41, 43, 45, 47, 49, 51, 53, 55, 57, 59, 61, 63, 65, 67, 69, 71, 73, 75, 77, 79, 81, 83, 85, 87, 89, 91, 93, 95, 97, 99, 101, 103, 105, 107, 109, 111, 1, 110, 108, 106, 104, 102, 100, 98, 96, 94, 92, 90, 88, 86, 84, 82, 80, 78, 76, 74, 72, 70, 68, 66, 64, 62, 60, 58, 56, 54, 52, 50, 48, 46, 44, 42, 40, 38, 36, 34, 32, 30, 28, 26, 24, 22, 20, 18, 16, 14, 12, 10, 8, 6, 4, 2, 0]\n",
      "112 False 2\n",
      "[3, 5, 7, 9, 11, 13, 15, 17, 19, 21, 23, 25, 27, 29, 31, 33, 35, 37, 39, 41, 43, 45, 47, 49, 51, 53, 55, 57, 59, 61, 63, 65, 67, 69, 71, 73, 75, 77, 79, 81, 83, 85, 87, 89, 91, 93, 95, 97, 99, 101, 103, 105, 107, 109, 111, 1, 111, 109, 107, 105, 103, 101, 99, 97, 95, 93, 91, 89, 87, 85, 83, 81, 79, 77, 75, 73, 71, 69, 67, 65, 63, 61, 59, 57, 55, 53, 51, 49, 47, 45, 43, 41, 39, 37, 35, 33, 31, 29, 27, 25, 23, 21, 19, 17, 15, 13, 11, 9, 7, 5, 3, 1, -1]\n",
      "113 False 1\n",
      "[3, 5, 7, 9, 11, 13, 15, 17, 19, 21, 23, 25, 27, 29, 31, 33, 35, 37, 39, 41, 43, 45, 47, 49, 51, 53, 55, 57, 59, 61, 63, 65, 67, 69, 71, 73, 75, 77, 79, 81, 83, 85, 87, 89, 91, 93, 95, 97, 99, 101, 103, 105, 107, 109, 111, 113, 1, 112, 110, 108, 106, 104, 102, 100, 98, 96, 94, 92, 90, 88, 86, 84, 82, 80, 78, 76, 74, 72, 70, 68, 66, 64, 62, 60, 58, 56, 54, 52, 50, 48, 46, 44, 42, 40, 38, 36, 34, 32, 30, 28, 26, 24, 22, 20, 18, 16, 14, 12, 10, 8, 6, 4, 2, 0]\n",
      "114 False 2\n",
      "[3, 5, 7, 9, 11, 13, 15, 17, 19, 21, 23, 25, 27, 29, 31, 33, 35, 37, 39, 41, 43, 45, 47, 49, 51, 53, 55, 57, 59, 61, 63, 65, 67, 69, 71, 73, 75, 77, 79, 81, 83, 85, 87, 89, 91, 93, 95, 97, 99, 101, 103, 105, 107, 109, 111, 113, 1, 113, 111, 109, 107, 105, 103, 101, 99, 97, 95, 93, 91, 89, 87, 85, 83, 81, 79, 77, 75, 73, 71, 69, 67, 65, 63, 61, 59, 57, 55, 53, 51, 49, 47, 45, 43, 41, 39, 37, 35, 33, 31, 29, 27, 25, 23, 21, 19, 17, 15, 13, 11, 9, 7, 5, 3, 1, -1]\n",
      "115 False 1\n",
      "[3, 5, 7, 9, 11, 13, 15, 17, 19, 21, 23, 25, 27, 29, 31, 33, 35, 37, 39, 41, 43, 45, 47, 49, 51, 53, 55, 57, 59, 61, 63, 65, 67, 69, 71, 73, 75, 77, 79, 81, 83, 85, 87, 89, 91, 93, 95, 97, 99, 101, 103, 105, 107, 109, 111, 113, 115, 1, 114, 112, 110, 108, 106, 104, 102, 100, 98, 96, 94, 92, 90, 88, 86, 84, 82, 80, 78, 76, 74, 72, 70, 68, 66, 64, 62, 60, 58, 56, 54, 52, 50, 48, 46, 44, 42, 40, 38, 36, 34, 32, 30, 28, 26, 24, 22, 20, 18, 16, 14, 12, 10, 8, 6, 4, 2, 0]\n",
      "116 False 2\n",
      "[3, 5, 7, 9, 11, 13, 15, 17, 19, 21, 23, 25, 27, 29, 31, 33, 35, 37, 39, 41, 43, 45, 47, 49, 51, 53, 55, 57, 59, 61, 63, 65, 67, 69, 71, 73, 75, 77, 79, 81, 83, 85, 87, 89, 91, 93, 95, 97, 99, 101, 103, 105, 107, 109, 111, 113, 115, 1, 115, 113, 111, 109, 107, 105, 103, 101, 99, 97, 95, 93, 91, 89, 87, 85, 83, 81, 79, 77, 75, 73, 71, 69, 67, 65, 63, 61, 59, 57, 55, 53, 51, 49, 47, 45, 43, 41, 39, 37, 35, 33, 31, 29, 27, 25, 23, 21, 19, 17, 15, 13, 11, 9, 7, 5, 3, 1, -1]\n",
      "117 False 1\n",
      "[3, 5, 7, 9, 11, 13, 15, 17, 19, 21, 23, 25, 27, 29, 31, 33, 35, 37, 39, 41, 43, 45, 47, 49, 51, 53, 55, 57, 59, 61, 63, 65, 67, 69, 71, 73, 75, 77, 79, 81, 83, 85, 87, 89, 91, 93, 95, 97, 99, 101, 103, 105, 107, 109, 111, 113, 115, 117, 1, 116, 114, 112, 110, 108, 106, 104, 102, 100, 98, 96, 94, 92, 90, 88, 86, 84, 82, 80, 78, 76, 74, 72, 70, 68, 66, 64, 62, 60, 58, 56, 54, 52, 50, 48, 46, 44, 42, 40, 38, 36, 34, 32, 30, 28, 26, 24, 22, 20, 18, 16, 14, 12, 10, 8, 6, 4, 2, 0]\n",
      "118 False 2\n",
      "[3, 5, 7, 9, 11, 13, 15, 17, 19, 21, 23, 25, 27, 29, 31, 33, 35, 37, 39, 41, 43, 45, 47, 49, 51, 53, 55, 57, 59, 61, 63, 65, 67, 69, 71, 73, 75, 77, 79, 81, 83, 85, 87, 89, 91, 93, 95, 97, 99, 101, 103, 105, 107, 109, 111, 113, 115, 117, 1, 117, 115, 113, 111, 109, 107, 105, 103, 101, 99, 97, 95, 93, 91, 89, 87, 85, 83, 81, 79, 77, 75, 73, 71, 69, 67, 65, 63, 61, 59, 57, 55, 53, 51, 49, 47, 45, 43, 41, 39, 37, 35, 33, 31, 29, 27, 25, 23, 21, 19, 17, 15, 13, 11, 9, 7, 5, 3, 1, -1]\n",
      "119 False 1\n",
      "[3, 5, 7, 9, 11, 13, 15, 17, 19, 21, 23, 25, 27, 29, 31, 33, 35, 37, 39, 41, 43, 45, 47, 49, 51, 53, 55, 57, 59, 61, 63, 65, 67, 69, 71, 73, 75, 77, 79, 81, 83, 85, 87, 89, 91, 93, 95, 97, 99, 101, 103, 105, 107, 109, 111, 113, 115, 117, 119, 1, 118, 116, 114, 112, 110, 108, 106, 104, 102, 100, 98, 96, 94, 92, 90, 88, 86, 84, 82, 80, 78, 76, 74, 72, 70, 68, 66, 64, 62, 60, 58, 56, 54, 52, 50, 48, 46, 44, 42, 40, 38, 36, 34, 32, 30, 28, 26, 24, 22, 20, 18, 16, 14, 12, 10, 8, 6, 4, 2, 0]\n",
      "120 False 2\n",
      "[3, 5, 7, 9, 11, 13, 15, 17, 19, 21, 23, 25, 27, 29, 31, 33, 35, 37, 39, 41, 43, 45, 47, 49, 51, 53, 55, 57, 59, 61, 63, 65, 67, 69, 71, 73, 75, 77, 79, 81, 83, 85, 87, 89, 91, 93, 95, 97, 99, 101, 103, 105, 107, 109, 111, 113, 115, 117, 119, 1, 119, 117, 115, 113, 111, 109, 107, 105, 103, 101, 99, 97, 95, 93, 91, 89, 87, 85, 83, 81, 79, 77, 75, 73, 71, 69, 67, 65, 63, 61, 59, 57, 55, 53, 51, 49, 47, 45, 43, 41, 39, 37, 35, 33, 31, 29, 27, 25, 23, 21, 19, 17, 15, 13, 11, 9, 7, 5, 3, 1, -1]\n",
      "121 False 1\n",
      "[3, 5, 7, 9, 11, 13, 15, 17, 19, 21, 23, 25, 27, 29, 31, 33, 35, 37, 39, 41, 43, 45, 47, 49, 51, 53, 55, 57, 59, 61, 63, 65, 67, 69, 71, 73, 75, 77, 79, 81, 83, 85, 87, 89, 91, 93, 95, 97, 99, 101, 103, 105, 107, 109, 111, 113, 115, 117, 119, 121, 1, 120, 118, 116, 114, 112, 110, 108, 106, 104, 102, 100, 98, 96, 94, 92, 90, 88, 86, 84, 82, 80, 78, 76, 74, 72, 70, 68, 66, 64, 62, 60, 58, 56, 54, 52, 50, 48, 46, 44, 42, 40, 38, 36, 34, 32, 30, 28, 26, 24, 22, 20, 18, 16, 14, 12, 10, 8, 6, 4, 2, 0]\n",
      "122 False 2\n",
      "[3, 5, 7, 9, 11, 13, 15, 17, 19, 21, 23, 25, 27, 29, 31, 33, 35, 37, 39, 41, 43, 45, 47, 49, 51, 53, 55, 57, 59, 61, 63, 65, 67, 69, 71, 73, 75, 77, 79, 81, 83, 85, 87, 89, 91, 93, 95, 97, 99, 101, 103, 105, 107, 109, 111, 113, 115, 117, 119, 121, 1, 121, 119, 117, 115, 113, 111, 109, 107, 105, 103, 101, 99, 97, 95, 93, 91, 89, 87, 85, 83, 81, 79, 77, 75, 73, 71, 69, 67, 65, 63, 61, 59, 57, 55, 53, 51, 49, 47, 45, 43, 41, 39, 37, 35, 33, 31, 29, 27, 25, 23, 21, 19, 17, 15, 13, 11, 9, 7, 5, 3, 1, -1]\n",
      "123 False 1\n",
      "[3, 5, 7, 9, 11, 13, 15, 17, 19, 21, 23, 25, 27, 29, 31, 33, 35, 37, 39, 41, 43, 45, 47, 49, 51, 53, 55, 57, 59, 61, 63, 65, 67, 69, 71, 73, 75, 77, 79, 81, 83, 85, 87, 89, 91, 93, 95, 97, 99, 101, 103, 105, 107, 109, 111, 113, 115, 117, 119, 121, 123, 1, 122, 120, 118, 116, 114, 112, 110, 108, 106, 104, 102, 100, 98, 96, 94, 92, 90, 88, 86, 84, 82, 80, 78, 76, 74, 72, 70, 68, 66, 64, 62, 60, 58, 56, 54, 52, 50, 48, 46, 44, 42, 40, 38, 36, 34, 32, 30, 28, 26, 24, 22, 20, 18, 16, 14, 12, 10, 8, 6, 4, 2, 0]\n",
      "124 False 2\n",
      "[3, 5, 7, 9, 11, 13, 15, 17, 19, 21, 23, 25, 27, 29, 31, 33, 35, 37, 39, 41, 43, 45, 47, 49, 51, 53, 55, 57, 59, 61, 63, 65, 67, 69, 71, 73, 75, 77, 79, 81, 83, 85, 87, 89, 91, 93, 95, 97, 99, 101, 103, 105, 107, 109, 111, 113, 115, 117, 119, 121, 123, 1, 123, 121, 119, 117, 115, 113, 111, 109, 107, 105, 103, 101, 99, 97, 95, 93, 91, 89, 87, 85, 83, 81, 79, 77, 75, 73, 71, 69, 67, 65, 63, 61, 59, 57, 55, 53, 51, 49, 47, 45, 43, 41, 39, 37, 35, 33, 31, 29, 27, 25, 23, 21, 19, 17, 15, 13, 11, 9, 7, 5, 3, 1, -1]\n",
      "125 False 1\n",
      "[3, 5, 7, 9, 11, 13, 15, 17, 19, 21, 23, 25, 27, 29, 31, 33, 35, 37, 39, 41, 43, 45, 47, 49, 51, 53, 55, 57, 59, 61, 63, 65, 67, 69, 71, 73, 75, 77, 79, 81, 83, 85, 87, 89, 91, 93, 95, 97, 99, 101, 103, 105, 107, 109, 111, 113, 115, 117, 119, 121, 123, 125, 1, 124, 122, 120, 118, 116, 114, 112, 110, 108, 106, 104, 102, 100, 98, 96, 94, 92, 90, 88, 86, 84, 82, 80, 78, 76, 74, 72, 70, 68, 66, 64, 62, 60, 58, 56, 54, 52, 50, 48, 46, 44, 42, 40, 38, 36, 34, 32, 30, 28, 26, 24, 22, 20, 18, 16, 14, 12, 10, 8, 6, 4, 2, 0]\n",
      "126 False 2\n",
      "[3, 5, 7, 9, 11, 13, 15, 17, 19, 21, 23, 25, 27, 29, 31, 33, 35, 37, 39, 41, 43, 45, 47, 49, 51, 53, 55, 57, 59, 61, 63, 65, 67, 69, 71, 73, 75, 77, 79, 81, 83, 85, 87, 89, 91, 93, 95, 97, 99, 101, 103, 105, 107, 109, 111, 113, 115, 117, 119, 121, 123, 125, 1, 125, 123, 121, 119, 117, 115, 113, 111, 109, 107, 105, 103, 101, 99, 97, 95, 93, 91, 89, 87, 85, 83, 81, 79, 77, 75, 73, 71, 69, 67, 65, 63, 61, 59, 57, 55, 53, 51, 49, 47, 45, 43, 41, 39, 37, 35, 33, 31, 29, 27, 25, 23, 21, 19, 17, 15, 13, 11, 9, 7, 5, 3, 1, -1]\n",
      "127 False 1\n",
      "[3, 5, 7, 9, 11, 13, 15, 17, 19, 21, 23, 25, 27, 29, 31, 33, 35, 37, 39, 41, 43, 45, 47, 49, 51, 53, 55, 57, 59, 61, 63, 65, 67, 69, 71, 73, 75, 77, 79, 81, 83, 85, 87, 89, 91, 93, 95, 97, 99, 101, 103, 105, 107, 109, 111, 113, 115, 117, 119, 121, 123, 125, 127, 1, 126, 124, 122, 120, 118, 116, 114, 112, 110, 108, 106, 104, 102, 100, 98, 96, 94, 92, 90, 88, 86, 84, 82, 80, 78, 76, 74, 72, 70, 68, 66, 64, 62, 60, 58, 56, 54, 52, 50, 48, 46, 44, 42, 40, 38, 36, 34, 32, 30, 28, 26, 24, 22, 20, 18, 16, 14, 12, 10, 8, 6, 4, 2, 0]\n",
      "128 False 2\n",
      "[3, 5, 7, 9, 11, 13, 15, 17, 19, 21, 23, 25, 27, 29, 31, 33, 35, 37, 39, 41, 43, 45, 47, 49, 51, 53, 55, 57, 59, 61, 63, 65, 67, 69, 71, 73, 75, 77, 79, 81, 83, 85, 87, 89, 91, 93, 95, 97, 99, 101, 103, 105, 107, 109, 111, 113, 115, 117, 119, 121, 123, 125, 127, 1, 127, 125, 123, 121, 119, 117, 115, 113, 111, 109, 107, 105, 103, 101, 99, 97, 95, 93, 91, 89, 87, 85, 83, 81, 79, 77, 75, 73, 71, 69, 67, 65, 63, 61, 59, 57, 55, 53, 51, 49, 47, 45, 43, 41, 39, 37, 35, 33, 31, 29, 27, 25, 23, 21, 19, 17, 15, 13, 11, 9, 7, 5, 3, 1, -1]\n",
      "129 False 1\n",
      "[3, 5, 7, 9, 11, 13, 15, 17, 19, 21, 23, 25, 27, 29, 31, 33, 35, 37, 39, 41, 43, 45, 47, 49, 51, 53, 55, 57, 59, 61, 63, 65, 67, 69, 71, 73, 75, 77, 79, 81, 83, 85, 87, 89, 91, 93, 95, 97, 99, 101, 103, 105, 107, 109, 111, 113, 115, 117, 119, 121, 123, 125, 127, 129, 1, 128, 126, 124, 122, 120, 118, 116, 114, 112, 110, 108, 106, 104, 102, 100, 98, 96, 94, 92, 90, 88, 86, 84, 82, 80, 78, 76, 74, 72, 70, 68, 66, 64, 62, 60, 58, 56, 54, 52, 50, 48, 46, 44, 42, 40, 38, 36, 34, 32, 30, 28, 26, 24, 22, 20, 18, 16, 14, 12, 10, 8, 6, 4, 2, 0]\n",
      "130 False 2\n",
      "[3, 5, 7, 9, 11, 13, 15, 17, 19, 21, 23, 25, 27, 29, 31, 33, 35, 37, 39, 41, 43, 45, 47, 49, 51, 53, 55, 57, 59, 61, 63, 65, 67, 69, 71, 73, 75, 77, 79, 81, 83, 85, 87, 89, 91, 93, 95, 97, 99, 101, 103, 105, 107, 109, 111, 113, 115, 117, 119, 121, 123, 125, 127, 129, 1, 129, 127, 125, 123, 121, 119, 117, 115, 113, 111, 109, 107, 105, 103, 101, 99, 97, 95, 93, 91, 89, 87, 85, 83, 81, 79, 77, 75, 73, 71, 69, 67, 65, 63, 61, 59, 57, 55, 53, 51, 49, 47, 45, 43, 41, 39, 37, 35, 33, 31, 29, 27, 25, 23, 21, 19, 17, 15, 13, 11, 9, 7, 5, 3, 1, -1]\n",
      "131 False 1\n",
      "[3, 5, 7, 9, 11, 13, 15, 17, 19, 21, 23, 25, 27, 29, 31, 33, 35, 37, 39, 41, 43, 45, 47, 49, 51, 53, 55, 57, 59, 61, 63, 65, 67, 69, 71, 73, 75, 77, 79, 81, 83, 85, 87, 89, 91, 93, 95, 97, 99, 101, 103, 105, 107, 109, 111, 113, 115, 117, 119, 121, 123, 125, 127, 129, 131, 1, 130, 128, 126, 124, 122, 120, 118, 116, 114, 112, 110, 108, 106, 104, 102, 100, 98, 96, 94, 92, 90, 88, 86, 84, 82, 80, 78, 76, 74, 72, 70, 68, 66, 64, 62, 60, 58, 56, 54, 52, 50, 48, 46, 44, 42, 40, 38, 36, 34, 32, 30, 28, 26, 24, 22, 20, 18, 16, 14, 12, 10, 8, 6, 4, 2, 0]\n",
      "132 False 2\n",
      "[3, 5, 7, 9, 11, 13, 15, 17, 19, 21, 23, 25, 27, 29, 31, 33, 35, 37, 39, 41, 43, 45, 47, 49, 51, 53, 55, 57, 59, 61, 63, 65, 67, 69, 71, 73, 75, 77, 79, 81, 83, 85, 87, 89, 91, 93, 95, 97, 99, 101, 103, 105, 107, 109, 111, 113, 115, 117, 119, 121, 123, 125, 127, 129, 131, 1, 131, 129, 127, 125, 123, 121, 119, 117, 115, 113, 111, 109, 107, 105, 103, 101, 99, 97, 95, 93, 91, 89, 87, 85, 83, 81, 79, 77, 75, 73, 71, 69, 67, 65, 63, 61, 59, 57, 55, 53, 51, 49, 47, 45, 43, 41, 39, 37, 35, 33, 31, 29, 27, 25, 23, 21, 19, 17, 15, 13, 11, 9, 7, 5, 3, 1, -1]\n",
      "133 False 1\n",
      "[3, 5, 7, 9, 11, 13, 15, 17, 19, 21, 23, 25, 27, 29, 31, 33, 35, 37, 39, 41, 43, 45, 47, 49, 51, 53, 55, 57, 59, 61, 63, 65, 67, 69, 71, 73, 75, 77, 79, 81, 83, 85, 87, 89, 91, 93, 95, 97, 99, 101, 103, 105, 107, 109, 111, 113, 115, 117, 119, 121, 123, 125, 127, 129, 131, 133, 1, 132, 130, 128, 126, 124, 122, 120, 118, 116, 114, 112, 110, 108, 106, 104, 102, 100, 98, 96, 94, 92, 90, 88, 86, 84, 82, 80, 78, 76, 74, 72, 70, 68, 66, 64, 62, 60, 58, 56, 54, 52, 50, 48, 46, 44, 42, 40, 38, 36, 34, 32, 30, 28, 26, 24, 22, 20, 18, 16, 14, 12, 10, 8, 6, 4, 2, 0]\n",
      "134 False 2\n",
      "[3, 5, 7, 9, 11, 13, 15, 17, 19, 21, 23, 25, 27, 29, 31, 33, 35, 37, 39, 41, 43, 45, 47, 49, 51, 53, 55, 57, 59, 61, 63, 65, 67, 69, 71, 73, 75, 77, 79, 81, 83, 85, 87, 89, 91, 93, 95, 97, 99, 101, 103, 105, 107, 109, 111, 113, 115, 117, 119, 121, 123, 125, 127, 129, 131, 133, 1, 133, 131, 129, 127, 125, 123, 121, 119, 117, 115, 113, 111, 109, 107, 105, 103, 101, 99, 97, 95, 93, 91, 89, 87, 85, 83, 81, 79, 77, 75, 73, 71, 69, 67, 65, 63, 61, 59, 57, 55, 53, 51, 49, 47, 45, 43, 41, 39, 37, 35, 33, 31, 29, 27, 25, 23, 21, 19, 17, 15, 13, 11, 9, 7, 5, 3, 1, -1]\n",
      "135 False 1\n",
      "[3, 5, 7, 9, 11, 13, 15, 17, 19, 21, 23, 25, 27, 29, 31, 33, 35, 37, 39, 41, 43, 45, 47, 49, 51, 53, 55, 57, 59, 61, 63, 65, 67, 69, 71, 73, 75, 77, 79, 81, 83, 85, 87, 89, 91, 93, 95, 97, 99, 101, 103, 105, 107, 109, 111, 113, 115, 117, 119, 121, 123, 125, 127, 129, 131, 133, 135, 1, 134, 132, 130, 128, 126, 124, 122, 120, 118, 116, 114, 112, 110, 108, 106, 104, 102, 100, 98, 96, 94, 92, 90, 88, 86, 84, 82, 80, 78, 76, 74, 72, 70, 68, 66, 64, 62, 60, 58, 56, 54, 52, 50, 48, 46, 44, 42, 40, 38, 36, 34, 32, 30, 28, 26, 24, 22, 20, 18, 16, 14, 12, 10, 8, 6, 4, 2, 0]\n",
      "136 False 2\n",
      "[3, 5, 7, 9, 11, 13, 15, 17, 19, 21, 23, 25, 27, 29, 31, 33, 35, 37, 39, 41, 43, 45, 47, 49, 51, 53, 55, 57, 59, 61, 63, 65, 67, 69, 71, 73, 75, 77, 79, 81, 83, 85, 87, 89, 91, 93, 95, 97, 99, 101, 103, 105, 107, 109, 111, 113, 115, 117, 119, 121, 123, 125, 127, 129, 131, 133, 135, 1, 135, 133, 131, 129, 127, 125, 123, 121, 119, 117, 115, 113, 111, 109, 107, 105, 103, 101, 99, 97, 95, 93, 91, 89, 87, 85, 83, 81, 79, 77, 75, 73, 71, 69, 67, 65, 63, 61, 59, 57, 55, 53, 51, 49, 47, 45, 43, 41, 39, 37, 35, 33, 31, 29, 27, 25, 23, 21, 19, 17, 15, 13, 11, 9, 7, 5, 3, 1, -1]\n",
      "137 False 1\n",
      "[3, 5, 7, 9, 11, 13, 15, 17, 19, 21, 23, 25, 27, 29, 31, 33, 35, 37, 39, 41, 43, 45, 47, 49, 51, 53, 55, 57, 59, 61, 63, 65, 67, 69, 71, 73, 75, 77, 79, 81, 83, 85, 87, 89, 91, 93, 95, 97, 99, 101, 103, 105, 107, 109, 111, 113, 115, 117, 119, 121, 123, 125, 127, 129, 131, 133, 135, 137, 1, 136, 134, 132, 130, 128, 126, 124, 122, 120, 118, 116, 114, 112, 110, 108, 106, 104, 102, 100, 98, 96, 94, 92, 90, 88, 86, 84, 82, 80, 78, 76, 74, 72, 70, 68, 66, 64, 62, 60, 58, 56, 54, 52, 50, 48, 46, 44, 42, 40, 38, 36, 34, 32, 30, 28, 26, 24, 22, 20, 18, 16, 14, 12, 10, 8, 6, 4, 2, 0]\n",
      "138 False 2\n",
      "[3, 5, 7, 9, 11, 13, 15, 17, 19, 21, 23, 25, 27, 29, 31, 33, 35, 37, 39, 41, 43, 45, 47, 49, 51, 53, 55, 57, 59, 61, 63, 65, 67, 69, 71, 73, 75, 77, 79, 81, 83, 85, 87, 89, 91, 93, 95, 97, 99, 101, 103, 105, 107, 109, 111, 113, 115, 117, 119, 121, 123, 125, 127, 129, 131, 133, 135, 137, 1, 137, 135, 133, 131, 129, 127, 125, 123, 121, 119, 117, 115, 113, 111, 109, 107, 105, 103, 101, 99, 97, 95, 93, 91, 89, 87, 85, 83, 81, 79, 77, 75, 73, 71, 69, 67, 65, 63, 61, 59, 57, 55, 53, 51, 49, 47, 45, 43, 41, 39, 37, 35, 33, 31, 29, 27, 25, 23, 21, 19, 17, 15, 13, 11, 9, 7, 5, 3, 1, -1]\n",
      "139 False 1\n"
     ]
    }
   ],
   "source": [
    "for n in range(4, 140):\n",
    "    li = []\n",
    "#     column = 2\n",
    "#     while column <= n:\n",
    "#         li.append(column)\n",
    "#         column += 2\n",
    "#     column = 1\n",
    "#     while column <= n:\n",
    "#         li.append(column)\n",
    "#         column += 2\n",
    "        \n",
    "    column = 4\n",
    "    while column <= n:\n",
    "        li.append(column)\n",
    "        column += 2\n",
    "    li.append(2)\n",
    "    column = n - 1\n",
    "    while 0 <= column:\n",
    "        li.append(column)\n",
    "        column -= 2\n",
    "    \n",
    "    li = list(map(lambda x: x - 1, li))\n",
    "    \n",
    "    print(li)\n",
    "    if len(set(li)) != len(li):\n",
    "        print(n, False, 1)\n",
    "    else:\n",
    "        ip = True\n",
    "        for i in range(n):\n",
    "            for ni in range(i + 1, n):\n",
    "                if (ni - i) == abs(li[ni] - li[i]):\n",
    "                    ip = False\n",
    "                    break\n",
    "            if not ip:\n",
    "                break\n",
    "        if ip:\n",
    "            continue\n",
    "            print(n, True)\n",
    "        else:\n",
    "            print(n, False, 2)"
   ]
  },
  {
   "cell_type": "code",
   "execution_count": null,
   "metadata": {},
   "outputs": [],
   "source": [
    "(1, 3, 5, 7, 2, 0, 6, 4)"
   ]
  },
  {
   "cell_type": "code",
   "execution_count": 57,
   "metadata": {
    "scrolled": true
   },
   "outputs": [
    {
     "name": "stdout",
     "output_type": "stream",
     "text": [
      "(1, 6, 2, 5, 7, 4, 0, 3) 7 0\n",
      "8 True\n"
     ]
    }
   ],
   "source": [
    "n = 8\n",
    "\n",
    "# cur = 1\n",
    "\n",
    "# s = '2 2 -6 5 -6 2 2'\n",
    "# s = '2 2 2 -7 6 -5 6 -7 2 2 2'\n",
    "\n",
    "# diffs = list(map(int, s.split()))\n",
    "\n",
    "# diffs = [4, 3, -2, -3, 4, -5, 2]\n",
    "# diffs = [6, 5, 4, -2, -3, -4, 5, 4, -6, -5, 3]\n",
    "\n",
    "# li = [cur]\n",
    "# for v in diffs:\n",
    "#     cur += v\n",
    "#     li.append(cur)\n",
    "\n",
    "# li = (1, 3, 5, 7, 2, 0, 6, 4)\n",
    "li = (1, 6, 2, 5, 7, 4, 0, 3)\n",
    "li = (1, 2, )\n",
    "\n",
    "print(li, max(li), min(li))\n",
    "\n",
    "ip = True\n",
    "\n",
    "if max(li) != n - 1 or min(li) != 0:\n",
    "    ip = False\n",
    "\n",
    "for i in range(n):\n",
    "    for ni in range(i + 1, n):\n",
    "        if (ni - i) == abs(li[ni] - li[i]):\n",
    "            ip = False\n",
    "            break\n",
    "    if not ip:\n",
    "        break\n",
    "\n",
    "print(n, ip)"
   ]
  },
  {
   "cell_type": "code",
   "execution_count": 44,
   "metadata": {},
   "outputs": [
    {
     "name": "stdout",
     "output_type": "stream",
     "text": [
      "['O', 'O', 'O', 'O', 'O', 'O', 'O', 'O', 'O', '*', 'O', 'O', 'O']\n",
      "['*', 'O', 'O', 'O', 'O', 'O', 'O', 'O', 'O', 'O', 'O', 'O', 'O']\n",
      "['O', 'O', 'O', 'O', 'O', 'O', 'O', 'O', '*', 'O', 'O', 'O', 'O']\n",
      "['O', '*', 'O', 'O', 'O', 'O', 'O', 'O', 'O', 'O', 'O', 'O', 'O']\n",
      "['O', 'O', 'O', 'O', 'O', 'O', 'O', '*', 'O', 'O', 'O', 'O', 'O']\n",
      "['O', 'O', '*', 'O', 'O', 'O', 'O', 'O', 'O', 'O', 'O', 'O', 'O']\n",
      "['O', 'O', 'O', 'O', 'O', 'O', '*', 'O', 'O', 'O', 'O', 'O', 'O']\n",
      "['O', 'O', 'O', 'O', 'O', 'O', 'O', 'O', 'O', 'O', '*', 'O', 'O']\n",
      "['O', 'O', 'O', 'O', 'O', '*', 'O', 'O', 'O', 'O', 'O', 'O', 'O']\n",
      "['O', 'O', 'O', 'O', 'O', 'O', 'O', 'O', 'O', 'O', 'O', '*', 'O']\n",
      "['O', 'O', 'O', 'O', '*', 'O', 'O', 'O', 'O', 'O', 'O', 'O', 'O']\n",
      "['O', 'O', 'O', 'O', 'O', 'O', 'O', 'O', 'O', 'O', 'O', 'O', '*']\n",
      "['O', 'O', 'O', '*', 'O', 'O', 'O', 'O', 'O', 'O', 'O', 'O', 'O']\n"
     ]
    }
   ],
   "source": [
    "n = 13\n",
    "li = [9, 0, 8, 1, 7, 2, 6, 10, 5, 11, 4, 12, 3]\n",
    "# li = (1, )\n",
    "\n",
    "nli = [['O'] * n for _ in range(n)]\n",
    "for i in range(n):\n",
    "    nli[i][li[i]] = '*'\n",
    "for v in nli:\n",
    "    print(v)"
   ]
  },
  {
   "cell_type": "code",
   "execution_count": null,
   "metadata": {},
   "outputs": [],
   "source": [
    "2, 2, 2, -5, -2, 6, -2"
   ]
  },
  {
   "cell_type": "code",
   "execution_count": 578,
   "metadata": {},
   "outputs": [
    {
     "data": {
      "text/plain": [
       "{1, 2, 3, 4, 5, 6, 7, 8, 9, 10, 11, 12, 13}"
      ]
     },
     "execution_count": 578,
     "metadata": {},
     "output_type": "execute_result"
    }
   ],
   "source": [
    "set([1, 3, 5, 7, 9, 11, 13, 8, 6, 12, 10, 4, 2])"
   ]
  },
  {
   "cell_type": "code",
   "execution_count": null,
   "metadata": {},
   "outputs": [],
   "source": [
    "2 -3 6 -7 6 -3 2"
   ]
  },
  {
   "cell_type": "code",
   "execution_count": null,
   "metadata": {},
   "outputs": [],
   "source": [
    "2 -3 2\n",
    "2 -3 6 -7 6 -3 2\n",
    "2 -3 6 -7 10 -11 10 -7 6 -3 2"
   ]
  },
  {
   "cell_type": "code",
   "execution_count": 13,
   "metadata": {},
   "outputs": [
    {
     "name": "stdout",
     "output_type": "stream",
     "text": [
      "['*', ' ', ' ', ' ', ' ', ' ', ' ', ' ']\n",
      "[' ', ' ', ' ', ' ', '*', ' ', ' ', ' ']\n",
      "[' ', ' ', ' ', ' ', ' ', ' ', ' ', '*']\n",
      "[' ', ' ', ' ', ' ', ' ', '*', ' ', ' ']\n",
      "[' ', ' ', '*', ' ', ' ', ' ', ' ', ' ']\n",
      "[' ', ' ', ' ', ' ', ' ', ' ', '*', ' ']\n",
      "[' ', '*', ' ', ' ', ' ', ' ', ' ', ' ']\n",
      "[' ', ' ', ' ', '*', ' ', ' ', ' ', ' ']\n",
      "(0, 4, 7, 5, 2, 6, 1, 3)\n",
      "['*', ' ', ' ', ' ', ' ', ' ', ' ', ' ']\n",
      "[' ', ' ', ' ', ' ', ' ', '*', ' ', ' ']\n",
      "[' ', ' ', ' ', ' ', ' ', ' ', ' ', '*']\n",
      "[' ', ' ', '*', ' ', ' ', ' ', ' ', ' ']\n",
      "[' ', ' ', ' ', ' ', ' ', ' ', '*', ' ']\n",
      "[' ', ' ', ' ', '*', ' ', ' ', ' ', ' ']\n",
      "[' ', '*', ' ', ' ', ' ', ' ', ' ', ' ']\n",
      "[' ', ' ', ' ', ' ', '*', ' ', ' ', ' ']\n",
      "(0, 5, 7, 2, 6, 3, 1, 4)\n",
      "['*', ' ', ' ', ' ', ' ', ' ', ' ', ' ']\n",
      "[' ', ' ', ' ', ' ', ' ', ' ', '*', ' ']\n",
      "[' ', ' ', ' ', '*', ' ', ' ', ' ', ' ']\n",
      "[' ', ' ', ' ', ' ', ' ', '*', ' ', ' ']\n",
      "[' ', ' ', ' ', ' ', ' ', ' ', ' ', '*']\n",
      "[' ', '*', ' ', ' ', ' ', ' ', ' ', ' ']\n",
      "[' ', ' ', ' ', ' ', '*', ' ', ' ', ' ']\n",
      "[' ', ' ', '*', ' ', ' ', ' ', ' ', ' ']\n",
      "(0, 6, 3, 5, 7, 1, 4, 2)\n",
      "['*', ' ', ' ', ' ', ' ', ' ', ' ', ' ']\n",
      "[' ', ' ', ' ', ' ', ' ', ' ', '*', ' ']\n",
      "[' ', ' ', ' ', ' ', '*', ' ', ' ', ' ']\n",
      "[' ', ' ', ' ', ' ', ' ', ' ', ' ', '*']\n",
      "[' ', '*', ' ', ' ', ' ', ' ', ' ', ' ']\n",
      "[' ', ' ', ' ', '*', ' ', ' ', ' ', ' ']\n",
      "[' ', ' ', ' ', ' ', ' ', '*', ' ', ' ']\n",
      "[' ', ' ', '*', ' ', ' ', ' ', ' ', ' ']\n",
      "(0, 6, 4, 7, 1, 3, 5, 2)\n",
      "[' ', '*', ' ', ' ', ' ', ' ', ' ', ' ']\n",
      "[' ', ' ', ' ', '*', ' ', ' ', ' ', ' ']\n",
      "[' ', ' ', ' ', ' ', ' ', '*', ' ', ' ']\n",
      "[' ', ' ', ' ', ' ', ' ', ' ', ' ', '*']\n",
      "[' ', ' ', '*', ' ', ' ', ' ', ' ', ' ']\n",
      "['*', ' ', ' ', ' ', ' ', ' ', ' ', ' ']\n",
      "[' ', ' ', ' ', ' ', ' ', ' ', '*', ' ']\n",
      "[' ', ' ', ' ', ' ', '*', ' ', ' ', ' ']\n",
      "(1, 3, 5, 7, 2, 0, 6, 4)\n",
      "[' ', '*', ' ', ' ', ' ', ' ', ' ', ' ']\n",
      "[' ', ' ', ' ', ' ', '*', ' ', ' ', ' ']\n",
      "[' ', ' ', ' ', ' ', ' ', ' ', '*', ' ']\n",
      "['*', ' ', ' ', ' ', ' ', ' ', ' ', ' ']\n",
      "[' ', ' ', '*', ' ', ' ', ' ', ' ', ' ']\n",
      "[' ', ' ', ' ', ' ', ' ', ' ', ' ', '*']\n",
      "[' ', ' ', ' ', ' ', ' ', '*', ' ', ' ']\n",
      "[' ', ' ', ' ', '*', ' ', ' ', ' ', ' ']\n",
      "(1, 4, 6, 0, 2, 7, 5, 3)\n",
      "[' ', '*', ' ', ' ', ' ', ' ', ' ', ' ']\n",
      "[' ', ' ', ' ', ' ', '*', ' ', ' ', ' ']\n",
      "[' ', ' ', ' ', ' ', ' ', ' ', '*', ' ']\n",
      "[' ', ' ', ' ', '*', ' ', ' ', ' ', ' ']\n",
      "['*', ' ', ' ', ' ', ' ', ' ', ' ', ' ']\n",
      "[' ', ' ', ' ', ' ', ' ', ' ', ' ', '*']\n",
      "[' ', ' ', ' ', ' ', ' ', '*', ' ', ' ']\n",
      "[' ', ' ', '*', ' ', ' ', ' ', ' ', ' ']\n",
      "(1, 4, 6, 3, 0, 7, 5, 2)\n",
      "[' ', '*', ' ', ' ', ' ', ' ', ' ', ' ']\n",
      "[' ', ' ', ' ', ' ', ' ', '*', ' ', ' ']\n",
      "['*', ' ', ' ', ' ', ' ', ' ', ' ', ' ']\n",
      "[' ', ' ', ' ', ' ', ' ', ' ', '*', ' ']\n",
      "[' ', ' ', ' ', '*', ' ', ' ', ' ', ' ']\n",
      "[' ', ' ', ' ', ' ', ' ', ' ', ' ', '*']\n",
      "[' ', ' ', '*', ' ', ' ', ' ', ' ', ' ']\n",
      "[' ', ' ', ' ', ' ', '*', ' ', ' ', ' ']\n",
      "(1, 5, 0, 6, 3, 7, 2, 4)\n",
      "[' ', '*', ' ', ' ', ' ', ' ', ' ', ' ']\n",
      "[' ', ' ', ' ', ' ', ' ', '*', ' ', ' ']\n",
      "[' ', ' ', ' ', ' ', ' ', ' ', ' ', '*']\n",
      "[' ', ' ', '*', ' ', ' ', ' ', ' ', ' ']\n",
      "['*', ' ', ' ', ' ', ' ', ' ', ' ', ' ']\n",
      "[' ', ' ', ' ', '*', ' ', ' ', ' ', ' ']\n",
      "[' ', ' ', ' ', ' ', ' ', ' ', '*', ' ']\n",
      "[' ', ' ', ' ', ' ', '*', ' ', ' ', ' ']\n",
      "(1, 5, 7, 2, 0, 3, 6, 4)\n",
      "[' ', '*', ' ', ' ', ' ', ' ', ' ', ' ']\n",
      "[' ', ' ', ' ', ' ', ' ', ' ', '*', ' ']\n",
      "[' ', ' ', '*', ' ', ' ', ' ', ' ', ' ']\n",
      "[' ', ' ', ' ', ' ', ' ', '*', ' ', ' ']\n",
      "[' ', ' ', ' ', ' ', ' ', ' ', ' ', '*']\n",
      "[' ', ' ', ' ', ' ', '*', ' ', ' ', ' ']\n",
      "['*', ' ', ' ', ' ', ' ', ' ', ' ', ' ']\n",
      "[' ', ' ', ' ', '*', ' ', ' ', ' ', ' ']\n",
      "(1, 6, 2, 5, 7, 4, 0, 3)\n",
      "[' ', '*', ' ', ' ', ' ', ' ', ' ', ' ']\n",
      "[' ', ' ', ' ', ' ', ' ', ' ', '*', ' ']\n",
      "[' ', ' ', ' ', ' ', '*', ' ', ' ', ' ']\n",
      "[' ', ' ', ' ', ' ', ' ', ' ', ' ', '*']\n",
      "['*', ' ', ' ', ' ', ' ', ' ', ' ', ' ']\n",
      "[' ', ' ', ' ', '*', ' ', ' ', ' ', ' ']\n",
      "[' ', ' ', ' ', ' ', ' ', '*', ' ', ' ']\n",
      "[' ', ' ', '*', ' ', ' ', ' ', ' ', ' ']\n",
      "(1, 6, 4, 7, 0, 3, 5, 2)\n",
      "[' ', '*', ' ', ' ', ' ', ' ', ' ', ' ']\n",
      "[' ', ' ', ' ', ' ', ' ', ' ', ' ', '*']\n",
      "[' ', ' ', ' ', ' ', ' ', '*', ' ', ' ']\n",
      "['*', ' ', ' ', ' ', ' ', ' ', ' ', ' ']\n",
      "[' ', ' ', '*', ' ', ' ', ' ', ' ', ' ']\n",
      "[' ', ' ', ' ', ' ', '*', ' ', ' ', ' ']\n",
      "[' ', ' ', ' ', ' ', ' ', ' ', '*', ' ']\n",
      "[' ', ' ', ' ', '*', ' ', ' ', ' ', ' ']\n",
      "(1, 7, 5, 0, 2, 4, 6, 3)\n",
      "[' ', ' ', '*', ' ', ' ', ' ', ' ', ' ']\n",
      "['*', ' ', ' ', ' ', ' ', ' ', ' ', ' ']\n",
      "[' ', ' ', ' ', ' ', ' ', ' ', '*', ' ']\n",
      "[' ', ' ', ' ', ' ', '*', ' ', ' ', ' ']\n",
      "[' ', ' ', ' ', ' ', ' ', ' ', ' ', '*']\n",
      "[' ', '*', ' ', ' ', ' ', ' ', ' ', ' ']\n",
      "[' ', ' ', ' ', '*', ' ', ' ', ' ', ' ']\n",
      "[' ', ' ', ' ', ' ', ' ', '*', ' ', ' ']\n",
      "(2, 0, 6, 4, 7, 1, 3, 5)\n",
      "[' ', ' ', '*', ' ', ' ', ' ', ' ', ' ']\n",
      "[' ', ' ', ' ', ' ', '*', ' ', ' ', ' ']\n",
      "[' ', '*', ' ', ' ', ' ', ' ', ' ', ' ']\n",
      "[' ', ' ', ' ', ' ', ' ', ' ', ' ', '*']\n",
      "['*', ' ', ' ', ' ', ' ', ' ', ' ', ' ']\n",
      "[' ', ' ', ' ', ' ', ' ', ' ', '*', ' ']\n",
      "[' ', ' ', ' ', '*', ' ', ' ', ' ', ' ']\n",
      "[' ', ' ', ' ', ' ', ' ', '*', ' ', ' ']\n",
      "(2, 4, 1, 7, 0, 6, 3, 5)\n",
      "[' ', ' ', '*', ' ', ' ', ' ', ' ', ' ']\n",
      "[' ', ' ', ' ', ' ', '*', ' ', ' ', ' ']\n",
      "[' ', '*', ' ', ' ', ' ', ' ', ' ', ' ']\n",
      "[' ', ' ', ' ', ' ', ' ', ' ', ' ', '*']\n",
      "[' ', ' ', ' ', ' ', ' ', '*', ' ', ' ']\n",
      "[' ', ' ', ' ', '*', ' ', ' ', ' ', ' ']\n",
      "[' ', ' ', ' ', ' ', ' ', ' ', '*', ' ']\n",
      "['*', ' ', ' ', ' ', ' ', ' ', ' ', ' ']\n",
      "(2, 4, 1, 7, 5, 3, 6, 0)\n",
      "[' ', ' ', '*', ' ', ' ', ' ', ' ', ' ']\n",
      "[' ', ' ', ' ', ' ', '*', ' ', ' ', ' ']\n",
      "[' ', ' ', ' ', ' ', ' ', ' ', '*', ' ']\n",
      "['*', ' ', ' ', ' ', ' ', ' ', ' ', ' ']\n",
      "[' ', ' ', ' ', '*', ' ', ' ', ' ', ' ']\n",
      "[' ', '*', ' ', ' ', ' ', ' ', ' ', ' ']\n",
      "[' ', ' ', ' ', ' ', ' ', ' ', ' ', '*']\n",
      "[' ', ' ', ' ', ' ', ' ', '*', ' ', ' ']\n",
      "(2, 4, 6, 0, 3, 1, 7, 5)\n",
      "[' ', ' ', '*', ' ', ' ', ' ', ' ', ' ']\n",
      "[' ', ' ', ' ', ' ', '*', ' ', ' ', ' ']\n",
      "[' ', ' ', ' ', ' ', ' ', ' ', ' ', '*']\n",
      "[' ', ' ', ' ', '*', ' ', ' ', ' ', ' ']\n",
      "['*', ' ', ' ', ' ', ' ', ' ', ' ', ' ']\n",
      "[' ', ' ', ' ', ' ', ' ', ' ', '*', ' ']\n",
      "[' ', '*', ' ', ' ', ' ', ' ', ' ', ' ']\n",
      "[' ', ' ', ' ', ' ', ' ', '*', ' ', ' ']\n",
      "(2, 4, 7, 3, 0, 6, 1, 5)\n",
      "[' ', ' ', '*', ' ', ' ', ' ', ' ', ' ']\n",
      "[' ', ' ', ' ', ' ', ' ', '*', ' ', ' ']\n",
      "[' ', '*', ' ', ' ', ' ', ' ', ' ', ' ']\n",
      "[' ', ' ', ' ', ' ', '*', ' ', ' ', ' ']\n",
      "[' ', ' ', ' ', ' ', ' ', ' ', ' ', '*']\n",
      "['*', ' ', ' ', ' ', ' ', ' ', ' ', ' ']\n",
      "[' ', ' ', ' ', ' ', ' ', ' ', '*', ' ']\n",
      "[' ', ' ', ' ', '*', ' ', ' ', ' ', ' ']\n",
      "(2, 5, 1, 4, 7, 0, 6, 3)\n",
      "[' ', ' ', '*', ' ', ' ', ' ', ' ', ' ']\n",
      "[' ', ' ', ' ', ' ', ' ', '*', ' ', ' ']\n",
      "[' ', '*', ' ', ' ', ' ', ' ', ' ', ' ']\n",
      "[' ', ' ', ' ', ' ', ' ', ' ', '*', ' ']\n",
      "['*', ' ', ' ', ' ', ' ', ' ', ' ', ' ']\n",
      "[' ', ' ', ' ', '*', ' ', ' ', ' ', ' ']\n",
      "[' ', ' ', ' ', ' ', ' ', ' ', ' ', '*']\n",
      "[' ', ' ', ' ', ' ', '*', ' ', ' ', ' ']\n",
      "(2, 5, 1, 6, 0, 3, 7, 4)\n",
      "[' ', ' ', '*', ' ', ' ', ' ', ' ', ' ']\n",
      "[' ', ' ', ' ', ' ', ' ', '*', ' ', ' ']\n",
      "[' ', '*', ' ', ' ', ' ', ' ', ' ', ' ']\n",
      "[' ', ' ', ' ', ' ', ' ', ' ', '*', ' ']\n",
      "[' ', ' ', ' ', ' ', '*', ' ', ' ', ' ']\n",
      "['*', ' ', ' ', ' ', ' ', ' ', ' ', ' ']\n",
      "[' ', ' ', ' ', ' ', ' ', ' ', ' ', '*']\n",
      "[' ', ' ', ' ', '*', ' ', ' ', ' ', ' ']\n",
      "(2, 5, 1, 6, 4, 0, 7, 3)\n",
      "[' ', ' ', '*', ' ', ' ', ' ', ' ', ' ']\n",
      "[' ', ' ', ' ', ' ', ' ', '*', ' ', ' ']\n",
      "[' ', ' ', ' ', '*', ' ', ' ', ' ', ' ']\n",
      "['*', ' ', ' ', ' ', ' ', ' ', ' ', ' ']\n",
      "[' ', ' ', ' ', ' ', ' ', ' ', ' ', '*']\n",
      "[' ', ' ', ' ', ' ', '*', ' ', ' ', ' ']\n",
      "[' ', ' ', ' ', ' ', ' ', ' ', '*', ' ']\n",
      "[' ', '*', ' ', ' ', ' ', ' ', ' ', ' ']\n",
      "(2, 5, 3, 0, 7, 4, 6, 1)\n",
      "[' ', ' ', '*', ' ', ' ', ' ', ' ', ' ']\n",
      "[' ', ' ', ' ', ' ', ' ', '*', ' ', ' ']\n",
      "[' ', ' ', ' ', '*', ' ', ' ', ' ', ' ']\n",
      "[' ', '*', ' ', ' ', ' ', ' ', ' ', ' ']\n",
      "[' ', ' ', ' ', ' ', ' ', ' ', ' ', '*']\n",
      "[' ', ' ', ' ', ' ', '*', ' ', ' ', ' ']\n",
      "[' ', ' ', ' ', ' ', ' ', ' ', '*', ' ']\n",
      "['*', ' ', ' ', ' ', ' ', ' ', ' ', ' ']\n",
      "(2, 5, 3, 1, 7, 4, 6, 0)\n",
      "[' ', ' ', '*', ' ', ' ', ' ', ' ', ' ']\n",
      "[' ', ' ', ' ', ' ', ' ', '*', ' ', ' ']\n",
      "[' ', ' ', ' ', ' ', ' ', ' ', ' ', '*']\n",
      "['*', ' ', ' ', ' ', ' ', ' ', ' ', ' ']\n",
      "[' ', ' ', ' ', '*', ' ', ' ', ' ', ' ']\n",
      "[' ', ' ', ' ', ' ', ' ', ' ', '*', ' ']\n",
      "[' ', ' ', ' ', ' ', '*', ' ', ' ', ' ']\n",
      "[' ', '*', ' ', ' ', ' ', ' ', ' ', ' ']\n",
      "(2, 5, 7, 0, 3, 6, 4, 1)\n",
      "[' ', ' ', '*', ' ', ' ', ' ', ' ', ' ']\n",
      "[' ', ' ', ' ', ' ', ' ', '*', ' ', ' ']\n",
      "[' ', ' ', ' ', ' ', ' ', ' ', ' ', '*']\n",
      "['*', ' ', ' ', ' ', ' ', ' ', ' ', ' ']\n",
      "[' ', ' ', ' ', ' ', '*', ' ', ' ', ' ']\n",
      "[' ', ' ', ' ', ' ', ' ', ' ', '*', ' ']\n",
      "[' ', '*', ' ', ' ', ' ', ' ', ' ', ' ']\n",
      "[' ', ' ', ' ', '*', ' ', ' ', ' ', ' ']\n",
      "(2, 5, 7, 0, 4, 6, 1, 3)\n",
      "[' ', ' ', '*', ' ', ' ', ' ', ' ', ' ']\n",
      "[' ', ' ', ' ', ' ', ' ', '*', ' ', ' ']\n",
      "[' ', ' ', ' ', ' ', ' ', ' ', ' ', '*']\n",
      "[' ', '*', ' ', ' ', ' ', ' ', ' ', ' ']\n",
      "[' ', ' ', ' ', '*', ' ', ' ', ' ', ' ']\n",
      "['*', ' ', ' ', ' ', ' ', ' ', ' ', ' ']\n",
      "[' ', ' ', ' ', ' ', ' ', ' ', '*', ' ']\n",
      "[' ', ' ', ' ', ' ', '*', ' ', ' ', ' ']\n",
      "(2, 5, 7, 1, 3, 0, 6, 4)\n",
      "[' ', ' ', '*', ' ', ' ', ' ', ' ', ' ']\n",
      "[' ', ' ', ' ', ' ', ' ', ' ', '*', ' ']\n",
      "[' ', '*', ' ', ' ', ' ', ' ', ' ', ' ']\n",
      "[' ', ' ', ' ', ' ', ' ', ' ', ' ', '*']\n",
      "[' ', ' ', ' ', ' ', '*', ' ', ' ', ' ']\n",
      "['*', ' ', ' ', ' ', ' ', ' ', ' ', ' ']\n",
      "[' ', ' ', ' ', '*', ' ', ' ', ' ', ' ']\n",
      "[' ', ' ', ' ', ' ', ' ', '*', ' ', ' ']\n",
      "(2, 6, 1, 7, 4, 0, 3, 5)\n",
      "[' ', ' ', '*', ' ', ' ', ' ', ' ', ' ']\n",
      "[' ', ' ', ' ', ' ', ' ', ' ', '*', ' ']\n",
      "[' ', '*', ' ', ' ', ' ', ' ', ' ', ' ']\n",
      "[' ', ' ', ' ', ' ', ' ', ' ', ' ', '*']\n",
      "[' ', ' ', ' ', ' ', ' ', '*', ' ', ' ']\n",
      "[' ', ' ', ' ', '*', ' ', ' ', ' ', ' ']\n",
      "['*', ' ', ' ', ' ', ' ', ' ', ' ', ' ']\n",
      "[' ', ' ', ' ', ' ', '*', ' ', ' ', ' ']\n",
      "(2, 6, 1, 7, 5, 3, 0, 4)\n",
      "[' ', ' ', '*', ' ', ' ', ' ', ' ', ' ']\n",
      "[' ', ' ', ' ', ' ', ' ', ' ', ' ', '*']\n",
      "[' ', ' ', ' ', '*', ' ', ' ', ' ', ' ']\n",
      "[' ', ' ', ' ', ' ', ' ', ' ', '*', ' ']\n",
      "['*', ' ', ' ', ' ', ' ', ' ', ' ', ' ']\n",
      "[' ', ' ', ' ', ' ', ' ', '*', ' ', ' ']\n",
      "[' ', '*', ' ', ' ', ' ', ' ', ' ', ' ']\n",
      "[' ', ' ', ' ', ' ', '*', ' ', ' ', ' ']\n",
      "(2, 7, 3, 6, 0, 5, 1, 4)\n",
      "[' ', ' ', ' ', '*', ' ', ' ', ' ', ' ']\n",
      "['*', ' ', ' ', ' ', ' ', ' ', ' ', ' ']\n",
      "[' ', ' ', ' ', ' ', '*', ' ', ' ', ' ']\n",
      "[' ', ' ', ' ', ' ', ' ', ' ', ' ', '*']\n",
      "[' ', '*', ' ', ' ', ' ', ' ', ' ', ' ']\n",
      "[' ', ' ', ' ', ' ', ' ', ' ', '*', ' ']\n",
      "[' ', ' ', '*', ' ', ' ', ' ', ' ', ' ']\n",
      "[' ', ' ', ' ', ' ', ' ', '*', ' ', ' ']\n",
      "(3, 0, 4, 7, 1, 6, 2, 5)\n",
      "[' ', ' ', ' ', '*', ' ', ' ', ' ', ' ']\n",
      "['*', ' ', ' ', ' ', ' ', ' ', ' ', ' ']\n",
      "[' ', ' ', ' ', ' ', '*', ' ', ' ', ' ']\n",
      "[' ', ' ', ' ', ' ', ' ', ' ', ' ', '*']\n",
      "[' ', ' ', ' ', ' ', ' ', '*', ' ', ' ']\n",
      "[' ', ' ', '*', ' ', ' ', ' ', ' ', ' ']\n",
      "[' ', ' ', ' ', ' ', ' ', ' ', '*', ' ']\n",
      "[' ', '*', ' ', ' ', ' ', ' ', ' ', ' ']\n",
      "(3, 0, 4, 7, 5, 2, 6, 1)\n",
      "[' ', ' ', ' ', '*', ' ', ' ', ' ', ' ']\n",
      "[' ', '*', ' ', ' ', ' ', ' ', ' ', ' ']\n",
      "[' ', ' ', ' ', ' ', '*', ' ', ' ', ' ']\n",
      "[' ', ' ', ' ', ' ', ' ', ' ', ' ', '*']\n",
      "[' ', ' ', ' ', ' ', ' ', '*', ' ', ' ']\n",
      "['*', ' ', ' ', ' ', ' ', ' ', ' ', ' ']\n",
      "[' ', ' ', '*', ' ', ' ', ' ', ' ', ' ']\n",
      "[' ', ' ', ' ', ' ', ' ', ' ', '*', ' ']\n",
      "(3, 1, 4, 7, 5, 0, 2, 6)\n",
      "[' ', ' ', ' ', '*', ' ', ' ', ' ', ' ']\n",
      "[' ', '*', ' ', ' ', ' ', ' ', ' ', ' ']\n",
      "[' ', ' ', ' ', ' ', ' ', ' ', '*', ' ']\n",
      "[' ', ' ', '*', ' ', ' ', ' ', ' ', ' ']\n",
      "[' ', ' ', ' ', ' ', ' ', '*', ' ', ' ']\n",
      "[' ', ' ', ' ', ' ', ' ', ' ', ' ', '*']\n",
      "['*', ' ', ' ', ' ', ' ', ' ', ' ', ' ']\n",
      "[' ', ' ', ' ', ' ', '*', ' ', ' ', ' ']\n",
      "(3, 1, 6, 2, 5, 7, 0, 4)\n",
      "[' ', ' ', ' ', '*', ' ', ' ', ' ', ' ']\n",
      "[' ', '*', ' ', ' ', ' ', ' ', ' ', ' ']\n",
      "[' ', ' ', ' ', ' ', ' ', ' ', '*', ' ']\n",
      "[' ', ' ', '*', ' ', ' ', ' ', ' ', ' ']\n",
      "[' ', ' ', ' ', ' ', ' ', '*', ' ', ' ']\n",
      "[' ', ' ', ' ', ' ', ' ', ' ', ' ', '*']\n",
      "[' ', ' ', ' ', ' ', '*', ' ', ' ', ' ']\n",
      "['*', ' ', ' ', ' ', ' ', ' ', ' ', ' ']\n",
      "(3, 1, 6, 2, 5, 7, 4, 0)\n",
      "[' ', ' ', ' ', '*', ' ', ' ', ' ', ' ']\n",
      "[' ', '*', ' ', ' ', ' ', ' ', ' ', ' ']\n",
      "[' ', ' ', ' ', ' ', ' ', ' ', '*', ' ']\n",
      "[' ', ' ', ' ', ' ', '*', ' ', ' ', ' ']\n",
      "['*', ' ', ' ', ' ', ' ', ' ', ' ', ' ']\n",
      "[' ', ' ', ' ', ' ', ' ', ' ', ' ', '*']\n",
      "[' ', ' ', ' ', ' ', ' ', '*', ' ', ' ']\n",
      "[' ', ' ', '*', ' ', ' ', ' ', ' ', ' ']\n",
      "(3, 1, 6, 4, 0, 7, 5, 2)\n",
      "[' ', ' ', ' ', '*', ' ', ' ', ' ', ' ']\n",
      "[' ', '*', ' ', ' ', ' ', ' ', ' ', ' ']\n",
      "[' ', ' ', ' ', ' ', ' ', ' ', ' ', '*']\n",
      "[' ', ' ', ' ', ' ', '*', ' ', ' ', ' ']\n",
      "[' ', ' ', ' ', ' ', ' ', ' ', '*', ' ']\n",
      "['*', ' ', ' ', ' ', ' ', ' ', ' ', ' ']\n",
      "[' ', ' ', '*', ' ', ' ', ' ', ' ', ' ']\n",
      "[' ', ' ', ' ', ' ', ' ', '*', ' ', ' ']\n",
      "(3, 1, 7, 4, 6, 0, 2, 5)\n",
      "[' ', ' ', ' ', '*', ' ', ' ', ' ', ' ']\n",
      "[' ', '*', ' ', ' ', ' ', ' ', ' ', ' ']\n",
      "[' ', ' ', ' ', ' ', ' ', ' ', ' ', '*']\n",
      "[' ', ' ', ' ', ' ', ' ', '*', ' ', ' ']\n",
      "['*', ' ', ' ', ' ', ' ', ' ', ' ', ' ']\n",
      "[' ', ' ', '*', ' ', ' ', ' ', ' ', ' ']\n",
      "[' ', ' ', ' ', ' ', '*', ' ', ' ', ' ']\n",
      "[' ', ' ', ' ', ' ', ' ', ' ', '*', ' ']\n",
      "(3, 1, 7, 5, 0, 2, 4, 6)\n",
      "[' ', ' ', ' ', '*', ' ', ' ', ' ', ' ']\n",
      "[' ', ' ', ' ', ' ', ' ', '*', ' ', ' ']\n",
      "['*', ' ', ' ', ' ', ' ', ' ', ' ', ' ']\n",
      "[' ', ' ', ' ', ' ', '*', ' ', ' ', ' ']\n",
      "[' ', '*', ' ', ' ', ' ', ' ', ' ', ' ']\n",
      "[' ', ' ', ' ', ' ', ' ', ' ', ' ', '*']\n",
      "[' ', ' ', '*', ' ', ' ', ' ', ' ', ' ']\n",
      "[' ', ' ', ' ', ' ', ' ', ' ', '*', ' ']\n",
      "(3, 5, 0, 4, 1, 7, 2, 6)\n",
      "[' ', ' ', ' ', '*', ' ', ' ', ' ', ' ']\n",
      "[' ', ' ', ' ', ' ', ' ', '*', ' ', ' ']\n",
      "[' ', ' ', ' ', ' ', ' ', ' ', ' ', '*']\n",
      "[' ', '*', ' ', ' ', ' ', ' ', ' ', ' ']\n",
      "[' ', ' ', ' ', ' ', ' ', ' ', '*', ' ']\n",
      "['*', ' ', ' ', ' ', ' ', ' ', ' ', ' ']\n",
      "[' ', ' ', '*', ' ', ' ', ' ', ' ', ' ']\n",
      "[' ', ' ', ' ', ' ', '*', ' ', ' ', ' ']\n",
      "(3, 5, 7, 1, 6, 0, 2, 4)\n",
      "[' ', ' ', ' ', '*', ' ', ' ', ' ', ' ']\n",
      "[' ', ' ', ' ', ' ', ' ', '*', ' ', ' ']\n",
      "[' ', ' ', ' ', ' ', ' ', ' ', ' ', '*']\n",
      "[' ', ' ', '*', ' ', ' ', ' ', ' ', ' ']\n",
      "['*', ' ', ' ', ' ', ' ', ' ', ' ', ' ']\n",
      "[' ', ' ', ' ', ' ', ' ', ' ', '*', ' ']\n",
      "[' ', ' ', ' ', ' ', '*', ' ', ' ', ' ']\n",
      "[' ', '*', ' ', ' ', ' ', ' ', ' ', ' ']\n",
      "(3, 5, 7, 2, 0, 6, 4, 1)\n",
      "[' ', ' ', ' ', '*', ' ', ' ', ' ', ' ']\n",
      "[' ', ' ', ' ', ' ', ' ', ' ', '*', ' ']\n",
      "['*', ' ', ' ', ' ', ' ', ' ', ' ', ' ']\n",
      "[' ', ' ', ' ', ' ', ' ', ' ', ' ', '*']\n",
      "[' ', ' ', ' ', ' ', '*', ' ', ' ', ' ']\n",
      "[' ', '*', ' ', ' ', ' ', ' ', ' ', ' ']\n",
      "[' ', ' ', ' ', ' ', ' ', '*', ' ', ' ']\n",
      "[' ', ' ', '*', ' ', ' ', ' ', ' ', ' ']\n",
      "(3, 6, 0, 7, 4, 1, 5, 2)\n",
      "[' ', ' ', ' ', '*', ' ', ' ', ' ', ' ']\n",
      "[' ', ' ', ' ', ' ', ' ', ' ', '*', ' ']\n",
      "[' ', ' ', '*', ' ', ' ', ' ', ' ', ' ']\n",
      "[' ', ' ', ' ', ' ', ' ', ' ', ' ', '*']\n",
      "[' ', '*', ' ', ' ', ' ', ' ', ' ', ' ']\n",
      "[' ', ' ', ' ', ' ', '*', ' ', ' ', ' ']\n",
      "['*', ' ', ' ', ' ', ' ', ' ', ' ', ' ']\n",
      "[' ', ' ', ' ', ' ', ' ', '*', ' ', ' ']\n",
      "(3, 6, 2, 7, 1, 4, 0, 5)\n",
      "[' ', ' ', ' ', '*', ' ', ' ', ' ', ' ']\n",
      "[' ', ' ', ' ', ' ', ' ', ' ', '*', ' ']\n",
      "[' ', ' ', ' ', ' ', '*', ' ', ' ', ' ']\n",
      "[' ', '*', ' ', ' ', ' ', ' ', ' ', ' ']\n",
      "[' ', ' ', ' ', ' ', ' ', '*', ' ', ' ']\n",
      "['*', ' ', ' ', ' ', ' ', ' ', ' ', ' ']\n",
      "[' ', ' ', '*', ' ', ' ', ' ', ' ', ' ']\n",
      "[' ', ' ', ' ', ' ', ' ', ' ', ' ', '*']\n",
      "(3, 6, 4, 1, 5, 0, 2, 7)\n",
      "[' ', ' ', ' ', '*', ' ', ' ', ' ', ' ']\n",
      "[' ', ' ', ' ', ' ', ' ', ' ', '*', ' ']\n",
      "[' ', ' ', ' ', ' ', '*', ' ', ' ', ' ']\n",
      "[' ', ' ', '*', ' ', ' ', ' ', ' ', ' ']\n",
      "['*', ' ', ' ', ' ', ' ', ' ', ' ', ' ']\n",
      "[' ', ' ', ' ', ' ', ' ', '*', ' ', ' ']\n",
      "[' ', ' ', ' ', ' ', ' ', ' ', ' ', '*']\n",
      "[' ', '*', ' ', ' ', ' ', ' ', ' ', ' ']\n",
      "(3, 6, 4, 2, 0, 5, 7, 1)\n",
      "[' ', ' ', ' ', '*', ' ', ' ', ' ', ' ']\n",
      "[' ', ' ', ' ', ' ', ' ', ' ', ' ', '*']\n",
      "['*', ' ', ' ', ' ', ' ', ' ', ' ', ' ']\n",
      "[' ', ' ', '*', ' ', ' ', ' ', ' ', ' ']\n",
      "[' ', ' ', ' ', ' ', ' ', '*', ' ', ' ']\n",
      "[' ', '*', ' ', ' ', ' ', ' ', ' ', ' ']\n",
      "[' ', ' ', ' ', ' ', ' ', ' ', '*', ' ']\n",
      "[' ', ' ', ' ', ' ', '*', ' ', ' ', ' ']\n",
      "(3, 7, 0, 2, 5, 1, 6, 4)\n",
      "[' ', ' ', ' ', '*', ' ', ' ', ' ', ' ']\n",
      "[' ', ' ', ' ', ' ', ' ', ' ', ' ', '*']\n",
      "['*', ' ', ' ', ' ', ' ', ' ', ' ', ' ']\n",
      "[' ', ' ', ' ', ' ', '*', ' ', ' ', ' ']\n",
      "[' ', ' ', ' ', ' ', ' ', ' ', '*', ' ']\n",
      "[' ', '*', ' ', ' ', ' ', ' ', ' ', ' ']\n",
      "[' ', ' ', ' ', ' ', ' ', '*', ' ', ' ']\n",
      "[' ', ' ', '*', ' ', ' ', ' ', ' ', ' ']\n",
      "(3, 7, 0, 4, 6, 1, 5, 2)\n",
      "[' ', ' ', ' ', '*', ' ', ' ', ' ', ' ']\n",
      "[' ', ' ', ' ', ' ', ' ', ' ', ' ', '*']\n",
      "[' ', ' ', ' ', ' ', '*', ' ', ' ', ' ']\n",
      "[' ', ' ', '*', ' ', ' ', ' ', ' ', ' ']\n",
      "['*', ' ', ' ', ' ', ' ', ' ', ' ', ' ']\n",
      "[' ', ' ', ' ', ' ', ' ', ' ', '*', ' ']\n",
      "[' ', '*', ' ', ' ', ' ', ' ', ' ', ' ']\n",
      "[' ', ' ', ' ', ' ', ' ', '*', ' ', ' ']\n",
      "(3, 7, 4, 2, 0, 6, 1, 5)\n",
      "[' ', ' ', ' ', ' ', '*', ' ', ' ', ' ']\n",
      "['*', ' ', ' ', ' ', ' ', ' ', ' ', ' ']\n",
      "[' ', ' ', ' ', '*', ' ', ' ', ' ', ' ']\n",
      "[' ', ' ', ' ', ' ', ' ', '*', ' ', ' ']\n",
      "[' ', ' ', ' ', ' ', ' ', ' ', ' ', '*']\n",
      "[' ', '*', ' ', ' ', ' ', ' ', ' ', ' ']\n",
      "[' ', ' ', ' ', ' ', ' ', ' ', '*', ' ']\n",
      "[' ', ' ', '*', ' ', ' ', ' ', ' ', ' ']\n",
      "(4, 0, 3, 5, 7, 1, 6, 2)\n",
      "[' ', ' ', ' ', ' ', '*', ' ', ' ', ' ']\n",
      "['*', ' ', ' ', ' ', ' ', ' ', ' ', ' ']\n",
      "[' ', ' ', ' ', ' ', ' ', ' ', ' ', '*']\n",
      "[' ', ' ', ' ', '*', ' ', ' ', ' ', ' ']\n",
      "[' ', '*', ' ', ' ', ' ', ' ', ' ', ' ']\n",
      "[' ', ' ', ' ', ' ', ' ', ' ', '*', ' ']\n",
      "[' ', ' ', '*', ' ', ' ', ' ', ' ', ' ']\n",
      "[' ', ' ', ' ', ' ', ' ', '*', ' ', ' ']\n",
      "(4, 0, 7, 3, 1, 6, 2, 5)\n",
      "[' ', ' ', ' ', ' ', '*', ' ', ' ', ' ']\n",
      "['*', ' ', ' ', ' ', ' ', ' ', ' ', ' ']\n",
      "[' ', ' ', ' ', ' ', ' ', ' ', ' ', '*']\n",
      "[' ', ' ', ' ', ' ', ' ', '*', ' ', ' ']\n",
      "[' ', ' ', '*', ' ', ' ', ' ', ' ', ' ']\n",
      "[' ', ' ', ' ', ' ', ' ', ' ', '*', ' ']\n",
      "[' ', '*', ' ', ' ', ' ', ' ', ' ', ' ']\n",
      "[' ', ' ', ' ', '*', ' ', ' ', ' ', ' ']\n",
      "(4, 0, 7, 5, 2, 6, 1, 3)\n",
      "[' ', ' ', ' ', ' ', '*', ' ', ' ', ' ']\n",
      "[' ', '*', ' ', ' ', ' ', ' ', ' ', ' ']\n",
      "[' ', ' ', ' ', '*', ' ', ' ', ' ', ' ']\n",
      "[' ', ' ', ' ', ' ', ' ', '*', ' ', ' ']\n",
      "[' ', ' ', ' ', ' ', ' ', ' ', ' ', '*']\n",
      "[' ', ' ', '*', ' ', ' ', ' ', ' ', ' ']\n",
      "['*', ' ', ' ', ' ', ' ', ' ', ' ', ' ']\n",
      "[' ', ' ', ' ', ' ', ' ', ' ', '*', ' ']\n",
      "(4, 1, 3, 5, 7, 2, 0, 6)\n",
      "[' ', ' ', ' ', ' ', '*', ' ', ' ', ' ']\n",
      "[' ', '*', ' ', ' ', ' ', ' ', ' ', ' ']\n",
      "[' ', ' ', ' ', '*', ' ', ' ', ' ', ' ']\n",
      "[' ', ' ', ' ', ' ', ' ', ' ', '*', ' ']\n",
      "[' ', ' ', '*', ' ', ' ', ' ', ' ', ' ']\n",
      "[' ', ' ', ' ', ' ', ' ', ' ', ' ', '*']\n",
      "[' ', ' ', ' ', ' ', ' ', '*', ' ', ' ']\n",
      "['*', ' ', ' ', ' ', ' ', ' ', ' ', ' ']\n",
      "(4, 1, 3, 6, 2, 7, 5, 0)\n",
      "[' ', ' ', ' ', ' ', '*', ' ', ' ', ' ']\n",
      "[' ', '*', ' ', ' ', ' ', ' ', ' ', ' ']\n",
      "[' ', ' ', ' ', ' ', ' ', '*', ' ', ' ']\n",
      "['*', ' ', ' ', ' ', ' ', ' ', ' ', ' ']\n",
      "[' ', ' ', ' ', ' ', ' ', ' ', '*', ' ']\n",
      "[' ', ' ', ' ', '*', ' ', ' ', ' ', ' ']\n",
      "[' ', ' ', ' ', ' ', ' ', ' ', ' ', '*']\n",
      "[' ', ' ', '*', ' ', ' ', ' ', ' ', ' ']\n",
      "(4, 1, 5, 0, 6, 3, 7, 2)\n",
      "[' ', ' ', ' ', ' ', '*', ' ', ' ', ' ']\n",
      "[' ', '*', ' ', ' ', ' ', ' ', ' ', ' ']\n",
      "[' ', ' ', ' ', ' ', ' ', ' ', ' ', '*']\n",
      "['*', ' ', ' ', ' ', ' ', ' ', ' ', ' ']\n",
      "[' ', ' ', ' ', '*', ' ', ' ', ' ', ' ']\n",
      "[' ', ' ', ' ', ' ', ' ', ' ', '*', ' ']\n",
      "[' ', ' ', '*', ' ', ' ', ' ', ' ', ' ']\n",
      "[' ', ' ', ' ', ' ', ' ', '*', ' ', ' ']\n",
      "(4, 1, 7, 0, 3, 6, 2, 5)\n",
      "[' ', ' ', ' ', ' ', '*', ' ', ' ', ' ']\n",
      "[' ', ' ', '*', ' ', ' ', ' ', ' ', ' ']\n",
      "['*', ' ', ' ', ' ', ' ', ' ', ' ', ' ']\n",
      "[' ', ' ', ' ', ' ', ' ', '*', ' ', ' ']\n",
      "[' ', ' ', ' ', ' ', ' ', ' ', ' ', '*']\n",
      "[' ', '*', ' ', ' ', ' ', ' ', ' ', ' ']\n",
      "[' ', ' ', ' ', '*', ' ', ' ', ' ', ' ']\n",
      "[' ', ' ', ' ', ' ', ' ', ' ', '*', ' ']\n",
      "(4, 2, 0, 5, 7, 1, 3, 6)\n",
      "[' ', ' ', ' ', ' ', '*', ' ', ' ', ' ']\n",
      "[' ', ' ', '*', ' ', ' ', ' ', ' ', ' ']\n",
      "['*', ' ', ' ', ' ', ' ', ' ', ' ', ' ']\n",
      "[' ', ' ', ' ', ' ', ' ', ' ', '*', ' ']\n",
      "[' ', '*', ' ', ' ', ' ', ' ', ' ', ' ']\n",
      "[' ', ' ', ' ', ' ', ' ', ' ', ' ', '*']\n",
      "[' ', ' ', ' ', ' ', ' ', '*', ' ', ' ']\n",
      "[' ', ' ', ' ', '*', ' ', ' ', ' ', ' ']\n",
      "(4, 2, 0, 6, 1, 7, 5, 3)\n",
      "[' ', ' ', ' ', ' ', '*', ' ', ' ', ' ']\n",
      "[' ', ' ', '*', ' ', ' ', ' ', ' ', ' ']\n",
      "[' ', ' ', ' ', ' ', ' ', ' ', ' ', '*']\n",
      "[' ', ' ', ' ', '*', ' ', ' ', ' ', ' ']\n",
      "[' ', ' ', ' ', ' ', ' ', ' ', '*', ' ']\n",
      "['*', ' ', ' ', ' ', ' ', ' ', ' ', ' ']\n",
      "[' ', ' ', ' ', ' ', ' ', '*', ' ', ' ']\n",
      "[' ', '*', ' ', ' ', ' ', ' ', ' ', ' ']\n",
      "(4, 2, 7, 3, 6, 0, 5, 1)\n",
      "[' ', ' ', ' ', ' ', '*', ' ', ' ', ' ']\n",
      "[' ', ' ', ' ', ' ', ' ', ' ', '*', ' ']\n",
      "['*', ' ', ' ', ' ', ' ', ' ', ' ', ' ']\n",
      "[' ', ' ', '*', ' ', ' ', ' ', ' ', ' ']\n",
      "[' ', ' ', ' ', ' ', ' ', ' ', ' ', '*']\n",
      "[' ', ' ', ' ', ' ', ' ', '*', ' ', ' ']\n",
      "[' ', ' ', ' ', '*', ' ', ' ', ' ', ' ']\n",
      "[' ', '*', ' ', ' ', ' ', ' ', ' ', ' ']\n",
      "(4, 6, 0, 2, 7, 5, 3, 1)\n",
      "[' ', ' ', ' ', ' ', '*', ' ', ' ', ' ']\n",
      "[' ', ' ', ' ', ' ', ' ', ' ', '*', ' ']\n",
      "['*', ' ', ' ', ' ', ' ', ' ', ' ', ' ']\n",
      "[' ', ' ', ' ', '*', ' ', ' ', ' ', ' ']\n",
      "[' ', '*', ' ', ' ', ' ', ' ', ' ', ' ']\n",
      "[' ', ' ', ' ', ' ', ' ', ' ', ' ', '*']\n",
      "[' ', ' ', ' ', ' ', ' ', '*', ' ', ' ']\n",
      "[' ', ' ', '*', ' ', ' ', ' ', ' ', ' ']\n",
      "(4, 6, 0, 3, 1, 7, 5, 2)\n",
      "[' ', ' ', ' ', ' ', '*', ' ', ' ', ' ']\n",
      "[' ', ' ', ' ', ' ', ' ', ' ', '*', ' ']\n",
      "[' ', '*', ' ', ' ', ' ', ' ', ' ', ' ']\n",
      "[' ', ' ', ' ', '*', ' ', ' ', ' ', ' ']\n",
      "[' ', ' ', ' ', ' ', ' ', ' ', ' ', '*']\n",
      "['*', ' ', ' ', ' ', ' ', ' ', ' ', ' ']\n",
      "[' ', ' ', '*', ' ', ' ', ' ', ' ', ' ']\n",
      "[' ', ' ', ' ', ' ', ' ', '*', ' ', ' ']\n",
      "(4, 6, 1, 3, 7, 0, 2, 5)\n",
      "[' ', ' ', ' ', ' ', '*', ' ', ' ', ' ']\n",
      "[' ', ' ', ' ', ' ', ' ', ' ', '*', ' ']\n",
      "[' ', '*', ' ', ' ', ' ', ' ', ' ', ' ']\n",
      "[' ', ' ', ' ', ' ', ' ', '*', ' ', ' ']\n",
      "[' ', ' ', '*', ' ', ' ', ' ', ' ', ' ']\n",
      "['*', ' ', ' ', ' ', ' ', ' ', ' ', ' ']\n",
      "[' ', ' ', ' ', '*', ' ', ' ', ' ', ' ']\n",
      "[' ', ' ', ' ', ' ', ' ', ' ', ' ', '*']\n",
      "(4, 6, 1, 5, 2, 0, 3, 7)\n",
      "[' ', ' ', ' ', ' ', '*', ' ', ' ', ' ']\n",
      "[' ', ' ', ' ', ' ', ' ', ' ', '*', ' ']\n",
      "[' ', '*', ' ', ' ', ' ', ' ', ' ', ' ']\n",
      "[' ', ' ', ' ', ' ', ' ', '*', ' ', ' ']\n",
      "[' ', ' ', '*', ' ', ' ', ' ', ' ', ' ']\n",
      "['*', ' ', ' ', ' ', ' ', ' ', ' ', ' ']\n",
      "[' ', ' ', ' ', ' ', ' ', ' ', ' ', '*']\n",
      "[' ', ' ', ' ', '*', ' ', ' ', ' ', ' ']\n",
      "(4, 6, 1, 5, 2, 0, 7, 3)\n",
      "[' ', ' ', ' ', ' ', '*', ' ', ' ', ' ']\n",
      "[' ', ' ', ' ', ' ', ' ', ' ', '*', ' ']\n",
      "[' ', ' ', ' ', '*', ' ', ' ', ' ', ' ']\n",
      "['*', ' ', ' ', ' ', ' ', ' ', ' ', ' ']\n",
      "[' ', ' ', '*', ' ', ' ', ' ', ' ', ' ']\n",
      "[' ', ' ', ' ', ' ', ' ', ' ', ' ', '*']\n",
      "[' ', ' ', ' ', ' ', ' ', '*', ' ', ' ']\n",
      "[' ', '*', ' ', ' ', ' ', ' ', ' ', ' ']\n",
      "(4, 6, 3, 0, 2, 7, 5, 1)\n",
      "[' ', ' ', ' ', ' ', '*', ' ', ' ', ' ']\n",
      "[' ', ' ', ' ', ' ', ' ', ' ', ' ', '*']\n",
      "[' ', ' ', ' ', '*', ' ', ' ', ' ', ' ']\n",
      "['*', ' ', ' ', ' ', ' ', ' ', ' ', ' ']\n",
      "[' ', ' ', '*', ' ', ' ', ' ', ' ', ' ']\n",
      "[' ', ' ', ' ', ' ', ' ', '*', ' ', ' ']\n",
      "[' ', '*', ' ', ' ', ' ', ' ', ' ', ' ']\n",
      "[' ', ' ', ' ', ' ', ' ', ' ', '*', ' ']\n",
      "(4, 7, 3, 0, 2, 5, 1, 6)\n",
      "[' ', ' ', ' ', ' ', '*', ' ', ' ', ' ']\n",
      "[' ', ' ', ' ', ' ', ' ', ' ', ' ', '*']\n",
      "[' ', ' ', ' ', '*', ' ', ' ', ' ', ' ']\n",
      "['*', ' ', ' ', ' ', ' ', ' ', ' ', ' ']\n",
      "[' ', ' ', ' ', ' ', ' ', ' ', '*', ' ']\n",
      "[' ', '*', ' ', ' ', ' ', ' ', ' ', ' ']\n",
      "[' ', ' ', ' ', ' ', ' ', '*', ' ', ' ']\n",
      "[' ', ' ', '*', ' ', ' ', ' ', ' ', ' ']\n",
      "(4, 7, 3, 0, 6, 1, 5, 2)\n",
      "[' ', ' ', ' ', ' ', ' ', '*', ' ', ' ']\n",
      "['*', ' ', ' ', ' ', ' ', ' ', ' ', ' ']\n",
      "[' ', ' ', ' ', ' ', '*', ' ', ' ', ' ']\n",
      "[' ', '*', ' ', ' ', ' ', ' ', ' ', ' ']\n",
      "[' ', ' ', ' ', ' ', ' ', ' ', ' ', '*']\n",
      "[' ', ' ', '*', ' ', ' ', ' ', ' ', ' ']\n",
      "[' ', ' ', ' ', ' ', ' ', ' ', '*', ' ']\n",
      "[' ', ' ', ' ', '*', ' ', ' ', ' ', ' ']\n",
      "(5, 0, 4, 1, 7, 2, 6, 3)\n",
      "[' ', ' ', ' ', ' ', ' ', '*', ' ', ' ']\n",
      "[' ', '*', ' ', ' ', ' ', ' ', ' ', ' ']\n",
      "[' ', ' ', ' ', ' ', ' ', ' ', '*', ' ']\n",
      "['*', ' ', ' ', ' ', ' ', ' ', ' ', ' ']\n",
      "[' ', ' ', '*', ' ', ' ', ' ', ' ', ' ']\n",
      "[' ', ' ', ' ', ' ', '*', ' ', ' ', ' ']\n",
      "[' ', ' ', ' ', ' ', ' ', ' ', ' ', '*']\n",
      "[' ', ' ', ' ', '*', ' ', ' ', ' ', ' ']\n",
      "(5, 1, 6, 0, 2, 4, 7, 3)\n",
      "[' ', ' ', ' ', ' ', ' ', '*', ' ', ' ']\n",
      "[' ', '*', ' ', ' ', ' ', ' ', ' ', ' ']\n",
      "[' ', ' ', ' ', ' ', ' ', ' ', '*', ' ']\n",
      "['*', ' ', ' ', ' ', ' ', ' ', ' ', ' ']\n",
      "[' ', ' ', ' ', '*', ' ', ' ', ' ', ' ']\n",
      "[' ', ' ', ' ', ' ', ' ', ' ', ' ', '*']\n",
      "[' ', ' ', ' ', ' ', '*', ' ', ' ', ' ']\n",
      "[' ', ' ', '*', ' ', ' ', ' ', ' ', ' ']\n",
      "(5, 1, 6, 0, 3, 7, 4, 2)\n",
      "[' ', ' ', ' ', ' ', ' ', '*', ' ', ' ']\n",
      "[' ', ' ', '*', ' ', ' ', ' ', ' ', ' ']\n",
      "['*', ' ', ' ', ' ', ' ', ' ', ' ', ' ']\n",
      "[' ', ' ', ' ', ' ', ' ', ' ', '*', ' ']\n",
      "[' ', ' ', ' ', ' ', '*', ' ', ' ', ' ']\n",
      "[' ', ' ', ' ', ' ', ' ', ' ', ' ', '*']\n",
      "[' ', '*', ' ', ' ', ' ', ' ', ' ', ' ']\n",
      "[' ', ' ', ' ', '*', ' ', ' ', ' ', ' ']\n",
      "(5, 2, 0, 6, 4, 7, 1, 3)\n",
      "[' ', ' ', ' ', ' ', ' ', '*', ' ', ' ']\n",
      "[' ', ' ', '*', ' ', ' ', ' ', ' ', ' ']\n",
      "['*', ' ', ' ', ' ', ' ', ' ', ' ', ' ']\n",
      "[' ', ' ', ' ', ' ', ' ', ' ', ' ', '*']\n",
      "[' ', ' ', ' ', '*', ' ', ' ', ' ', ' ']\n",
      "[' ', '*', ' ', ' ', ' ', ' ', ' ', ' ']\n",
      "[' ', ' ', ' ', ' ', ' ', ' ', '*', ' ']\n",
      "[' ', ' ', ' ', ' ', '*', ' ', ' ', ' ']\n",
      "(5, 2, 0, 7, 3, 1, 6, 4)\n",
      "[' ', ' ', ' ', ' ', ' ', '*', ' ', ' ']\n",
      "[' ', ' ', '*', ' ', ' ', ' ', ' ', ' ']\n",
      "['*', ' ', ' ', ' ', ' ', ' ', ' ', ' ']\n",
      "[' ', ' ', ' ', ' ', ' ', ' ', ' ', '*']\n",
      "[' ', ' ', ' ', ' ', '*', ' ', ' ', ' ']\n",
      "[' ', '*', ' ', ' ', ' ', ' ', ' ', ' ']\n",
      "[' ', ' ', ' ', '*', ' ', ' ', ' ', ' ']\n",
      "[' ', ' ', ' ', ' ', ' ', ' ', '*', ' ']\n",
      "(5, 2, 0, 7, 4, 1, 3, 6)\n",
      "[' ', ' ', ' ', ' ', ' ', '*', ' ', ' ']\n",
      "[' ', ' ', '*', ' ', ' ', ' ', ' ', ' ']\n",
      "[' ', ' ', ' ', ' ', '*', ' ', ' ', ' ']\n",
      "[' ', ' ', ' ', ' ', ' ', ' ', '*', ' ']\n",
      "['*', ' ', ' ', ' ', ' ', ' ', ' ', ' ']\n",
      "[' ', ' ', ' ', '*', ' ', ' ', ' ', ' ']\n",
      "[' ', '*', ' ', ' ', ' ', ' ', ' ', ' ']\n",
      "[' ', ' ', ' ', ' ', ' ', ' ', ' ', '*']\n",
      "(5, 2, 4, 6, 0, 3, 1, 7)\n",
      "[' ', ' ', ' ', ' ', ' ', '*', ' ', ' ']\n",
      "[' ', ' ', '*', ' ', ' ', ' ', ' ', ' ']\n",
      "[' ', ' ', ' ', ' ', '*', ' ', ' ', ' ']\n",
      "[' ', ' ', ' ', ' ', ' ', ' ', ' ', '*']\n",
      "['*', ' ', ' ', ' ', ' ', ' ', ' ', ' ']\n",
      "[' ', ' ', ' ', '*', ' ', ' ', ' ', ' ']\n",
      "[' ', '*', ' ', ' ', ' ', ' ', ' ', ' ']\n",
      "[' ', ' ', ' ', ' ', ' ', ' ', '*', ' ']\n",
      "(5, 2, 4, 7, 0, 3, 1, 6)\n",
      "[' ', ' ', ' ', ' ', ' ', '*', ' ', ' ']\n",
      "[' ', ' ', '*', ' ', ' ', ' ', ' ', ' ']\n",
      "[' ', ' ', ' ', ' ', ' ', ' ', '*', ' ']\n",
      "[' ', '*', ' ', ' ', ' ', ' ', ' ', ' ']\n",
      "[' ', ' ', ' ', '*', ' ', ' ', ' ', ' ']\n",
      "[' ', ' ', ' ', ' ', ' ', ' ', ' ', '*']\n",
      "['*', ' ', ' ', ' ', ' ', ' ', ' ', ' ']\n",
      "[' ', ' ', ' ', ' ', '*', ' ', ' ', ' ']\n",
      "(5, 2, 6, 1, 3, 7, 0, 4)\n",
      "[' ', ' ', ' ', ' ', ' ', '*', ' ', ' ']\n",
      "[' ', ' ', '*', ' ', ' ', ' ', ' ', ' ']\n",
      "[' ', ' ', ' ', ' ', ' ', ' ', '*', ' ']\n",
      "[' ', '*', ' ', ' ', ' ', ' ', ' ', ' ']\n",
      "[' ', ' ', ' ', ' ', ' ', ' ', ' ', '*']\n",
      "[' ', ' ', ' ', ' ', '*', ' ', ' ', ' ']\n",
      "['*', ' ', ' ', ' ', ' ', ' ', ' ', ' ']\n",
      "[' ', ' ', ' ', '*', ' ', ' ', ' ', ' ']\n",
      "(5, 2, 6, 1, 7, 4, 0, 3)\n",
      "[' ', ' ', ' ', ' ', ' ', '*', ' ', ' ']\n",
      "[' ', ' ', '*', ' ', ' ', ' ', ' ', ' ']\n",
      "[' ', ' ', ' ', ' ', ' ', ' ', '*', ' ']\n",
      "[' ', ' ', ' ', '*', ' ', ' ', ' ', ' ']\n",
      "['*', ' ', ' ', ' ', ' ', ' ', ' ', ' ']\n",
      "[' ', ' ', ' ', ' ', ' ', ' ', ' ', '*']\n",
      "[' ', '*', ' ', ' ', ' ', ' ', ' ', ' ']\n",
      "[' ', ' ', ' ', ' ', '*', ' ', ' ', ' ']\n",
      "(5, 2, 6, 3, 0, 7, 1, 4)\n",
      "[' ', ' ', ' ', ' ', ' ', '*', ' ', ' ']\n",
      "[' ', ' ', ' ', '*', ' ', ' ', ' ', ' ']\n",
      "['*', ' ', ' ', ' ', ' ', ' ', ' ', ' ']\n",
      "[' ', ' ', ' ', ' ', '*', ' ', ' ', ' ']\n",
      "[' ', ' ', ' ', ' ', ' ', ' ', ' ', '*']\n",
      "[' ', '*', ' ', ' ', ' ', ' ', ' ', ' ']\n",
      "[' ', ' ', ' ', ' ', ' ', ' ', '*', ' ']\n",
      "[' ', ' ', '*', ' ', ' ', ' ', ' ', ' ']\n",
      "(5, 3, 0, 4, 7, 1, 6, 2)\n",
      "[' ', ' ', ' ', ' ', ' ', '*', ' ', ' ']\n",
      "[' ', ' ', ' ', '*', ' ', ' ', ' ', ' ']\n",
      "[' ', '*', ' ', ' ', ' ', ' ', ' ', ' ']\n",
      "[' ', ' ', ' ', ' ', ' ', ' ', ' ', '*']\n",
      "[' ', ' ', ' ', ' ', '*', ' ', ' ', ' ']\n",
      "[' ', ' ', ' ', ' ', ' ', ' ', '*', ' ']\n",
      "['*', ' ', ' ', ' ', ' ', ' ', ' ', ' ']\n",
      "[' ', ' ', '*', ' ', ' ', ' ', ' ', ' ']\n",
      "(5, 3, 1, 7, 4, 6, 0, 2)\n",
      "[' ', ' ', ' ', ' ', ' ', '*', ' ', ' ']\n",
      "[' ', ' ', ' ', '*', ' ', ' ', ' ', ' ']\n",
      "[' ', ' ', ' ', ' ', ' ', ' ', '*', ' ']\n",
      "['*', ' ', ' ', ' ', ' ', ' ', ' ', ' ']\n",
      "[' ', ' ', '*', ' ', ' ', ' ', ' ', ' ']\n",
      "[' ', ' ', ' ', ' ', '*', ' ', ' ', ' ']\n",
      "[' ', '*', ' ', ' ', ' ', ' ', ' ', ' ']\n",
      "[' ', ' ', ' ', ' ', ' ', ' ', ' ', '*']\n",
      "(5, 3, 6, 0, 2, 4, 1, 7)\n",
      "[' ', ' ', ' ', ' ', ' ', '*', ' ', ' ']\n",
      "[' ', ' ', ' ', '*', ' ', ' ', ' ', ' ']\n",
      "[' ', ' ', ' ', ' ', ' ', ' ', '*', ' ']\n",
      "['*', ' ', ' ', ' ', ' ', ' ', ' ', ' ']\n",
      "[' ', ' ', ' ', ' ', ' ', ' ', ' ', '*']\n",
      "[' ', '*', ' ', ' ', ' ', ' ', ' ', ' ']\n",
      "[' ', ' ', ' ', ' ', '*', ' ', ' ', ' ']\n",
      "[' ', ' ', '*', ' ', ' ', ' ', ' ', ' ']\n",
      "(5, 3, 6, 0, 7, 1, 4, 2)\n",
      "[' ', ' ', ' ', ' ', ' ', '*', ' ', ' ']\n",
      "[' ', ' ', ' ', ' ', ' ', ' ', ' ', '*']\n",
      "[' ', '*', ' ', ' ', ' ', ' ', ' ', ' ']\n",
      "[' ', ' ', ' ', '*', ' ', ' ', ' ', ' ']\n",
      "['*', ' ', ' ', ' ', ' ', ' ', ' ', ' ']\n",
      "[' ', ' ', ' ', ' ', ' ', ' ', '*', ' ']\n",
      "[' ', ' ', ' ', ' ', '*', ' ', ' ', ' ']\n",
      "[' ', ' ', '*', ' ', ' ', ' ', ' ', ' ']\n",
      "(5, 7, 1, 3, 0, 6, 4, 2)\n",
      "[' ', ' ', ' ', ' ', ' ', ' ', '*', ' ']\n",
      "['*', ' ', ' ', ' ', ' ', ' ', ' ', ' ']\n",
      "[' ', ' ', '*', ' ', ' ', ' ', ' ', ' ']\n",
      "[' ', ' ', ' ', ' ', ' ', ' ', ' ', '*']\n",
      "[' ', ' ', ' ', ' ', ' ', '*', ' ', ' ']\n",
      "[' ', ' ', ' ', '*', ' ', ' ', ' ', ' ']\n",
      "[' ', '*', ' ', ' ', ' ', ' ', ' ', ' ']\n",
      "[' ', ' ', ' ', ' ', '*', ' ', ' ', ' ']\n",
      "(6, 0, 2, 7, 5, 3, 1, 4)\n",
      "[' ', ' ', ' ', ' ', ' ', ' ', '*', ' ']\n",
      "[' ', '*', ' ', ' ', ' ', ' ', ' ', ' ']\n",
      "[' ', ' ', ' ', '*', ' ', ' ', ' ', ' ']\n",
      "['*', ' ', ' ', ' ', ' ', ' ', ' ', ' ']\n",
      "[' ', ' ', ' ', ' ', ' ', ' ', ' ', '*']\n",
      "[' ', ' ', ' ', ' ', '*', ' ', ' ', ' ']\n",
      "[' ', ' ', '*', ' ', ' ', ' ', ' ', ' ']\n",
      "[' ', ' ', ' ', ' ', ' ', '*', ' ', ' ']\n",
      "(6, 1, 3, 0, 7, 4, 2, 5)\n",
      "[' ', ' ', ' ', ' ', ' ', ' ', '*', ' ']\n",
      "[' ', '*', ' ', ' ', ' ', ' ', ' ', ' ']\n",
      "[' ', ' ', ' ', ' ', ' ', '*', ' ', ' ']\n",
      "[' ', ' ', '*', ' ', ' ', ' ', ' ', ' ']\n",
      "['*', ' ', ' ', ' ', ' ', ' ', ' ', ' ']\n",
      "[' ', ' ', ' ', '*', ' ', ' ', ' ', ' ']\n",
      "[' ', ' ', ' ', ' ', ' ', ' ', ' ', '*']\n",
      "[' ', ' ', ' ', ' ', '*', ' ', ' ', ' ']\n",
      "(6, 1, 5, 2, 0, 3, 7, 4)\n",
      "[' ', ' ', ' ', ' ', ' ', ' ', '*', ' ']\n",
      "[' ', ' ', '*', ' ', ' ', ' ', ' ', ' ']\n",
      "['*', ' ', ' ', ' ', ' ', ' ', ' ', ' ']\n",
      "[' ', ' ', ' ', ' ', ' ', '*', ' ', ' ']\n",
      "[' ', ' ', ' ', ' ', ' ', ' ', ' ', '*']\n",
      "[' ', ' ', ' ', ' ', '*', ' ', ' ', ' ']\n",
      "[' ', '*', ' ', ' ', ' ', ' ', ' ', ' ']\n",
      "[' ', ' ', ' ', '*', ' ', ' ', ' ', ' ']\n",
      "(6, 2, 0, 5, 7, 4, 1, 3)\n",
      "[' ', ' ', ' ', ' ', ' ', ' ', '*', ' ']\n",
      "[' ', ' ', '*', ' ', ' ', ' ', ' ', ' ']\n",
      "[' ', ' ', ' ', ' ', ' ', ' ', ' ', '*']\n",
      "[' ', '*', ' ', ' ', ' ', ' ', ' ', ' ']\n",
      "[' ', ' ', ' ', ' ', '*', ' ', ' ', ' ']\n",
      "['*', ' ', ' ', ' ', ' ', ' ', ' ', ' ']\n",
      "[' ', ' ', ' ', ' ', ' ', '*', ' ', ' ']\n",
      "[' ', ' ', ' ', '*', ' ', ' ', ' ', ' ']\n",
      "(6, 2, 7, 1, 4, 0, 5, 3)\n",
      "[' ', ' ', ' ', ' ', ' ', ' ', '*', ' ']\n",
      "[' ', ' ', ' ', '*', ' ', ' ', ' ', ' ']\n",
      "[' ', '*', ' ', ' ', ' ', ' ', ' ', ' ']\n",
      "[' ', ' ', ' ', ' ', '*', ' ', ' ', ' ']\n",
      "[' ', ' ', ' ', ' ', ' ', ' ', ' ', '*']\n",
      "['*', ' ', ' ', ' ', ' ', ' ', ' ', ' ']\n",
      "[' ', ' ', '*', ' ', ' ', ' ', ' ', ' ']\n",
      "[' ', ' ', ' ', ' ', ' ', '*', ' ', ' ']\n",
      "(6, 3, 1, 4, 7, 0, 2, 5)\n",
      "[' ', ' ', ' ', ' ', ' ', ' ', '*', ' ']\n",
      "[' ', ' ', ' ', '*', ' ', ' ', ' ', ' ']\n",
      "[' ', '*', ' ', ' ', ' ', ' ', ' ', ' ']\n",
      "[' ', ' ', ' ', ' ', ' ', ' ', ' ', '*']\n",
      "[' ', ' ', ' ', ' ', ' ', '*', ' ', ' ']\n",
      "['*', ' ', ' ', ' ', ' ', ' ', ' ', ' ']\n",
      "[' ', ' ', '*', ' ', ' ', ' ', ' ', ' ']\n",
      "[' ', ' ', ' ', ' ', '*', ' ', ' ', ' ']\n",
      "(6, 3, 1, 7, 5, 0, 2, 4)\n",
      "[' ', ' ', ' ', ' ', ' ', ' ', '*', ' ']\n",
      "[' ', ' ', ' ', ' ', '*', ' ', ' ', ' ']\n",
      "[' ', ' ', '*', ' ', ' ', ' ', ' ', ' ']\n",
      "['*', ' ', ' ', ' ', ' ', ' ', ' ', ' ']\n",
      "[' ', ' ', ' ', ' ', ' ', '*', ' ', ' ']\n",
      "[' ', ' ', ' ', ' ', ' ', ' ', ' ', '*']\n",
      "[' ', '*', ' ', ' ', ' ', ' ', ' ', ' ']\n",
      "[' ', ' ', ' ', '*', ' ', ' ', ' ', ' ']\n",
      "(6, 4, 2, 0, 5, 7, 1, 3)\n",
      "[' ', ' ', ' ', ' ', ' ', ' ', ' ', '*']\n",
      "[' ', '*', ' ', ' ', ' ', ' ', ' ', ' ']\n",
      "[' ', ' ', ' ', '*', ' ', ' ', ' ', ' ']\n",
      "['*', ' ', ' ', ' ', ' ', ' ', ' ', ' ']\n",
      "[' ', ' ', ' ', ' ', ' ', ' ', '*', ' ']\n",
      "[' ', ' ', ' ', ' ', '*', ' ', ' ', ' ']\n",
      "[' ', ' ', '*', ' ', ' ', ' ', ' ', ' ']\n",
      "[' ', ' ', ' ', ' ', ' ', '*', ' ', ' ']\n",
      "(7, 1, 3, 0, 6, 4, 2, 5)\n",
      "[' ', ' ', ' ', ' ', ' ', ' ', ' ', '*']\n",
      "[' ', '*', ' ', ' ', ' ', ' ', ' ', ' ']\n",
      "[' ', ' ', ' ', ' ', '*', ' ', ' ', ' ']\n",
      "[' ', ' ', '*', ' ', ' ', ' ', ' ', ' ']\n",
      "['*', ' ', ' ', ' ', ' ', ' ', ' ', ' ']\n",
      "[' ', ' ', ' ', ' ', ' ', ' ', '*', ' ']\n",
      "[' ', ' ', ' ', '*', ' ', ' ', ' ', ' ']\n",
      "[' ', ' ', ' ', ' ', ' ', '*', ' ', ' ']\n",
      "(7, 1, 4, 2, 0, 6, 3, 5)\n",
      "[' ', ' ', ' ', ' ', ' ', ' ', ' ', '*']\n",
      "[' ', ' ', '*', ' ', ' ', ' ', ' ', ' ']\n",
      "['*', ' ', ' ', ' ', ' ', ' ', ' ', ' ']\n",
      "[' ', ' ', ' ', ' ', ' ', '*', ' ', ' ']\n",
      "[' ', '*', ' ', ' ', ' ', ' ', ' ', ' ']\n",
      "[' ', ' ', ' ', ' ', '*', ' ', ' ', ' ']\n",
      "[' ', ' ', ' ', ' ', ' ', ' ', '*', ' ']\n",
      "[' ', ' ', ' ', '*', ' ', ' ', ' ', ' ']\n",
      "(7, 2, 0, 5, 1, 4, 6, 3)\n",
      "[' ', ' ', ' ', ' ', ' ', ' ', ' ', '*']\n",
      "[' ', ' ', ' ', '*', ' ', ' ', ' ', ' ']\n",
      "['*', ' ', ' ', ' ', ' ', ' ', ' ', ' ']\n",
      "[' ', ' ', '*', ' ', ' ', ' ', ' ', ' ']\n",
      "[' ', ' ', ' ', ' ', ' ', '*', ' ', ' ']\n",
      "[' ', '*', ' ', ' ', ' ', ' ', ' ', ' ']\n",
      "[' ', ' ', ' ', ' ', ' ', ' ', '*', ' ']\n",
      "[' ', ' ', ' ', ' ', '*', ' ', ' ', ' ']\n",
      "(7, 3, 0, 2, 5, 1, 6, 4)\n"
     ]
    }
   ],
   "source": [
    "from itertools import permutations as perm\n",
    "\n",
    "n = 12\n",
    "for li in perm([0, 2, 3, 4, 5, 6, 7, 8, 9, 10, 11]):\n",
    "    ip = True\n",
    "    for i in range(n):\n",
    "        if i == 0:\n",
    "            for ni in range(i, n - 1):\n",
    "                \n",
    "        \n",
    "        for ni in range(i + 1, n):\n",
    "            if (ni - i) == abs(li[ni] - li[i]):\n",
    "                ip = False\n",
    "                break\n",
    "        if not ip:\n",
    "            break  \n",
    "    if not ip:\n",
    "        continue\n",
    "        \n",
    "    temp = []\n",
    "    for i in range(1, n):\n",
    "        temp.append(li[i] - li[i - 1])\n",
    "\n",
    "#     is_d = True\n",
    "#     for i in range(n // 2):\n",
    "#         if abs(temp[i]) != abs(temp[-(i + 1)]):\n",
    "#             is_d = False\n",
    "#             break\n",
    "\n",
    "#     if is_d:\n",
    "#         print(li[0])\n",
    "#         print(*temp)\n",
    "\n",
    "#     if li[-1] == n - 1:\n",
    "    nli = [[' '] * n for _ in range(n)]\n",
    "    for i in range(n):\n",
    "        nli[i][li[i]] = '*'\n",
    "    for v in nli:\n",
    "        print(v)\n",
    "    print(li)\n",
    "#     print(temp)"
   ]
  },
  {
   "cell_type": "code",
   "execution_count": null,
   "metadata": {},
   "outputs": [],
   "source": [
    "[' ', '*', ' ', ' ', ' ', ' ', ' ', ' ']\n",
    "[' ', ' ', ' ', '*', ' ', ' ', ' ', ' ']\n",
    "[' ', ' ', ' ', ' ', ' ', '*', ' ', ' ']\n",
    "[' ', ' ', ' ', ' ', ' ', ' ', ' ', '*']\n",
    "[' ', ' ', '*', ' ', ' ', ' ', ' ', ' ']\n",
    "['*', ' ', ' ', ' ', ' ', ' ', ' ', ' ']\n",
    "[' ', ' ', ' ', ' ', ' ', ' ', '*', ' ']\n",
    "[' ', ' ', ' ', ' ', '*', ' ', ' ', ' ']\n",
    "(1, 3, 5, 7, 2, 0, 6, 4)"
   ]
  },
  {
   "cell_type": "code",
   "execution_count": null,
   "metadata": {},
   "outputs": [],
   "source": [
    "[' ', '*', '.', '.', '.', '.', '.', '.', '.', '.', '.', '.']\n",
    "['.', '.', ' ', '*', '.', '.', '.', '.', '.', '.', '.', '.']\n",
    "['.', '.', '.', '.', ' ', '*', '.', '.', '.', '.', '.', '.']\n",
    "['.', '.', '.', '.', '.', '.', '.', '*', '.', '.', '.', '.']\n",
    "['.', '.', '.', '.', '.', '.', '.', '.', '.', '*', '.', '.']\n",
    "['.', '.', '.', '.', '.', '.', '.', '.', '.', '.', '.', '*']\n",
    "['.', '.', ' ', '.', ' ', ' ', '.', '.', '.', '.', '.', '.']\n",
    "[' ', '.', '.', '.', '.', '.', '.', '.', '.', '.', '.', '.']\n",
    "['.', ' ', '.', '.', '.', '.', ' ', '.', '.', '.', '.', '.']\n",
    "['.', '.', '.', '.', ' ', '.', ' ', '.', '.', '.', ' ', '.']\n",
    "['.', '.', '.', '.', '.', '.', '.', '.', ' ', '.', ' ', '.']\n",
    "['.', '.', '.', ' ', '.', '.', ' ', '.', ' ', '.', '.', '.']"
   ]
  },
  {
   "cell_type": "code",
   "execution_count": null,
   "metadata": {},
   "outputs": [],
   "source": [
    "['*', ' ', ' ', ' ', ' ', ' ', ' ', ' ', ' ', ' ', ' ', ' ']\n",
    "[' ', ' ', '*', ' ', ' ', ' ', ' ', ' ', ' ', ' ', ' ', ' ']\n",
    "[' ', ' ', ' ', ' ', ' ', '*', ' ', ' ', ' ', ' ', ' ', ' ']\n",
    "[' ', ' ', ' ', ' ', ' ', ' ', ' ', '*', ' ', ' ', ' ', ' ']\n",
    "[' ', ' ', ' ', ' ', ' ', ' ', ' ', ' ', ' ', ' ', '*', ' ']\n",
    "[' ', ' ', ' ', ' ', '*', ' ', ' ', ' ', ' ', ' ', ' ', ' ']\n",
    "[' ', ' ', ' ', ' ', ' ', ' ', ' ', ' ', ' ', ' ', ' ', '*']\n",
    "[' ', ' ', ' ', ' ', ' ', ' ', ' ', ' ', ' ', '*', ' ', ' ']\n",
    "[' ', ' ', ' ', '*', ' ', ' ', ' ', ' ', ' ', ' ', ' ', ' ']\n",
    "[' ', ' ', ' ', ' ', ' ', ' ', '*', ' ', ' ', ' ', ' ', ' ']\n",
    "[' ', ' ', ' ', ' ', ' ', ' ', ' ', ' ', '*', ' ', ' ', ' ']\n",
    "[' ', '*', ' ', ' ', ' ', ' ', ' ', ' ', ' ', ' ', ' ', ' ']\n",
    "(0, 2, 5, 7, 10, 4, 11, 9, 3, 6, 8, 1)"
   ]
  },
  {
   "cell_type": "code",
   "execution_count": null,
   "metadata": {},
   "outputs": [],
   "source": [
    "1~11    11개\n",
    "(0, 2, 4, 7, 9, 11, 5, 10, 1, 6, 8, 3)\n",
    "\n",
    "1~7   7개\n",
    "(0, 4, 7, 5, 2, 6, 1, 3)\n",
    "(0, 5, 7, 2, 6, 3, 1, 4)\n",
    "(0, 6, 3, 5, 7, 1, 4, 2)\n",
    "(0, 6, 4, 7, 1, 3, 5, 2)\n",
    "(0, 6, 4, 7, 11, 8, 3, 1, 9, 5, 2, 10)"
   ]
  },
  {
   "cell_type": "code",
   "execution_count": null,
   "metadata": {},
   "outputs": [],
   "source": [
    "11: 1 3 6 8 10 4 9  0 5 7 2\n",
    "    9 7 4 2 0  6 1 10 5 3 8\n",
    "    \n",
    "7: 3 6 4 1 5 0 2\n",
    "   4 1 3 6 2 7 5"
   ]
  },
  {
   "cell_type": "code",
   "execution_count": null,
   "metadata": {},
   "outputs": [],
   "source": [
    "4\n",
    "['.', '*', '.', '.']\n",
    "['.', '.', '.', '*']\n",
    "['*', '.', '.', '.']\n",
    "['.', '.', '*', '.']\n",
    "(1, 3, 0, 2)\n",
    "5\n",
    "['*', '.', '.', '.', '.']\n",
    "['.', '.', '*', '.', '.']\n",
    "['.', '.', '.', '.', '*']\n",
    "['.', '*', '.', '.', '.']\n",
    "['.', '.', '.', '*', '.']\n",
    "(0, 2, 4, 1, 3)\n",
    "6\n",
    "['.', '*', '.', '.', '.', '.']\n",
    "['.', '.', '.', '*', '.', '.']\n",
    "['.', '.', '.', '.', '.', '*']\n",
    "['*', '.', '.', '.', '.', '.']\n",
    "['.', '.', '*', '.', '.', '.']\n",
    "['.', '.', '.', '.', '*', '.']\n",
    "(1, 3, 5, 0, 2, 4)\n",
    "7\n",
    "['.', '*', '.', '.', '.', '.', '.']\n",
    "['.', '.', '.', '*', '.', '.', '.']\n",
    "['*', '.', '.', '.', '.', '.', '.']\n",
    "['.', '.', '.', '.', '.', '.', '*']\n",
    "['.', '.', '.', '.', '*', '.', '.']\n",
    "['.', '.', '*', '.', '.', '.', '.']\n",
    "['.', '.', '.', '.', '.', '*', '.']\n",
    "(1, 3, 0, 6, 4, 2, 5)\n",
    "8\n",
    "['*', '.', '.', '.', '.', '.', '.', '.']\n",
    "['.', '.', '.', '.', '*', '.', '.', '.']\n",
    "['.', '.', '.', '.', '.', '.', '.', '*']\n",
    "['.', '.', '.', '.', '.', '*', '.', '.']\n",
    "['.', '.', '*', '.', '.', '.', '.', '.']\n",
    "['.', '.', '.', '.', '.', '.', '*', '.']\n",
    "['.', '*', '.', '.', '.', '.', '.', '.']\n",
    "['.', '.', '.', '*', '.', '.', '.', '.']\n",
    "(0, 4, 7, 5, 2, 6, 1, 3)\n",
    "9\n",
    "['*', '.', '.', '.', '.', '.', '.', '.', '.']\n",
    "['.', '.', '*', '.', '.', '.', '.', '.', '.']\n",
    "['.', '.', '.', '.', '.', '*', '.', '.', '.']\n",
    "['.', '.', '.', '.', '.', '.', '.', '*', '.']\n",
    "['.', '*', '.', '.', '.', '.', '.', '.', '.']\n",
    "['.', '.', '.', '*', '.', '.', '.', '.', '.']\n",
    "['.', '.', '.', '.', '.', '.', '.', '.', '*']\n",
    "['.', '.', '.', '.', '.', '.', '*', '.', '.']\n",
    "['.', '.', '.', '.', '*', '.', '.', '.', '.']\n",
    "(0, 2, 5, 7, 1, 3, 8, 6, 4)\n",
    "10\n",
    "['*', '.', '.', '.', '.', '.', '.', '.', '.', '.']\n",
    "['.', '.', '*', '.', '.', '.', '.', '.', '.', '.']\n",
    "['.', '.', '.', '.', '.', '*', '.', '.', '.', '.']\n",
    "['.', '.', '.', '.', '.', '.', '.', '*', '.', '.']\n",
    "['.', '.', '.', '.', '.', '.', '.', '.', '.', '*']\n",
    "['.', '.', '.', '.', '*', '.', '.', '.', '.', '.']\n",
    "['.', '.', '.', '.', '.', '.', '.', '.', '*', '.']\n",
    "['.', '*', '.', '.', '.', '.', '.', '.', '.', '.']\n",
    "['.', '.', '.', '*', '.', '.', '.', '.', '.', '.']\n",
    "['.', '.', '.', '.', '.', '.', '*', '.', '.', '.']\n",
    "(0, 2, 5, 7, 9, 4, 8, 1, 3, 6)\n",
    "11\n",
    "['*', '.', '.', '.', '.', '.', '.', '.', '.', '.', '.']\n",
    "['.', '.', '*', '.', '.', '.', '.', '.', '.', '.', '.']\n",
    "['.', '.', '.', '.', '*', '.', '.', '.', '.', '.', '.']\n",
    "['.', '.', '.', '.', '.', '.', '*', '.', '.', '.', '.']\n",
    "['.', '.', '.', '.', '.', '.', '.', '.', '*', '.', '.']\n",
    "['.', '.', '.', '.', '.', '.', '.', '.', '.', '.', '*']\n",
    "['.', '*', '.', '.', '.', '.', '.', '.', '.', '.', '.']\n",
    "['.', '.', '.', '*', '.', '.', '.', '.', '.', '.', '.']\n",
    "['.', '.', '.', '.', '.', '*', '.', '.', '.', '.', '.']\n",
    "['.', '.', '.', '.', '.', '.', '.', '*', '.', '.', '.']\n",
    "['.', '.', '.', '.', '.', '.', '.', '.', '.', '*', '.']\n",
    "(0, 2, 4, 6, 8, 10, 1, 3, 5, 7, 9)\n",
    "12\n",
    "['*', '.', '.', '.', '.', '.', '.', '.', '.', '.', '.', '.']\n",
    "['.', '.', '*', '.', '.', '.', '.', '.', '.', '.', '.', '.']\n",
    "['.', '.', '.', '.', '*', '.', '.', '.', '.', '.', '.', '.']\n",
    "['.', '.', '.', '.', '.', '.', '.', '*', '.', '.', '.', '.']\n",
    "['.', '.', '.', '.', '.', '.', '.', '.', '.', '*', '.', '.']\n",
    "['.', '.', '.', '.', '.', '.', '.', '.', '.', '.', '.', '*']\n",
    "['.', '.', '.', '.', '.', '*', '.', '.', '.', '.', '.', '.']\n",
    "['.', '.', '.', '.', '.', '.', '.', '.', '.', '.', '*', '.']\n",
    "['.', '*', '.', '.', '.', '.', '.', '.', '.', '.', '.', '.']\n",
    "['.', '.', '.', '.', '.', '.', '*', '.', '.', '.', '.', '.']\n",
    "['.', '.', '.', '.', '.', '.', '.', '.', '*', '.', '.', '.']\n",
    "['.', '.', '.', '*', '.', '.', '.', '.', '.', '.', '.', '.']\n",
    "(0, 2, 4, 7, 9, 11, 5, 10, 1, 6, 8, 3)"
   ]
  },
  {
   "cell_type": "code",
   "execution_count": null,
   "metadata": {},
   "outputs": [],
   "source": [
    "8\n",
    "[' ', ' ', ' ', ' ', ' ', '*', ' ', ' ']\n",
    "[' ', ' ', '*', ' ', ' ', ' ', ' ', ' ']\n",
    "[' ', ' ', ' ', ' ', ' ', ' ', '*', ' ']\n",
    "[' ', '*', ' ', ' ', ' ', ' ', ' ', ' ']\n",
    "[' ', ' ', ' ', ' ', ' ', ' ', ' ', '*']\n",
    "[' ', ' ', ' ', ' ', '*', ' ', ' ', ' ']\n",
    "['*', ' ', ' ', ' ', ' ', ' ', ' ', ' ']\n",
    "[' ', ' ', ' ', '*', ' ', ' ', ' ', ' ']\n",
    "(5, 2, 6, 1, 7, 4, 0, 3)"
   ]
  },
  {
   "cell_type": "code",
   "execution_count": null,
   "metadata": {},
   "outputs": [],
   "source": [
    "\n",
    "5\n",
    "['.', '.', '.', '*', '.']\n",
    "['*', '.', '.', '.', '.']\n",
    "['.', '.', '*', '.', '.']\n",
    "['.', '.', '.', '.', '*']\n",
    "['.', '*', '.', '.', '.']\n",
    "(3, 0, 2, 4, 1)\n",
    "\n",
    "0\n",
    "3 + 1 1\n",
    "\n",
    "7\n",
    "['.', '.', '.', '.', '*', '.', '.']\n",
    "['*', '.', '.', '.', '.', '.', '.']\n",
    "['.', '.', '.', '.', '.', '*', '.']\n",
    "['.', '.', '.', '*', '.', '.', '.']\n",
    "['.', '*', '.', '.', '.', '.', '.']\n",
    "['.', '.', '.', '.', '.', '.', '*']\n",
    "['.', '.', '*', '.', '.', '.', '.']\n",
    "(4, 0, 5, 3, 1, 6, 2)\n",
    "\n",
    "3\n",
    "3 3\n",
    "3\n",
    "\n",
    "9\n",
    "['.', '.', '.', '.', '.', '.', '*', '.', '.']\n",
    "['*', '.', '.', '.', '.', '.', '.', '.', '.']\n",
    "['.', '.', '.', '.', '.', '*', '.', '.', '.']\n",
    "['.', '*', '.', '.', '.', '.', '.', '.', '.']\n",
    "['.', '.', '.', '.', '*', '.', '.', '.', '.']\n",
    "['.', '.', '.', '.', '.', '.', '.', '*', '.']\n",
    "['.', '.', '.', '*', '.', '.', '.', '.', '.']\n",
    "['.', '.', '.', '.', '.', '.', '.', '.', '*']\n",
    "['.', '.', '*', '.', '.', '.', '.', '.', '.']\n",
    "(6, 0, 5, 1, 4, 7, 3, 8, 2)\n",
    "\n",
    "9\n",
    "2\n",
    "2 2 2 2\n",
    "2\n",
    "\n",
    "\n",
    "11\n",
    "['.', '.', '.', '.', '.', '.', '.', '*', '.', '.', '.']\n",
    "['*', '.', '.', '.', '.', '.', '.', '.', '.', '.', '.']\n",
    "['.', '.', '.', '.', '.', '.', '*', '.', '.', '.', '.']\n",
    "['.', '.', '.', '.', '.', '.', '.', '.', '*', '.', '.']\n",
    "['.', '*', '.', '.', '.', '.', '.', '.', '.', '.', '.']\n",
    "['.', '.', '.', '.', '.', '*', '.', '.', '.', '.', '.']\n",
    "['.', '.', '.', '.', '.', '.', '.', '.', '.', '*', '.']\n",
    "['.', '.', '*', '.', '.', '.', '.', '.', '.', '.', '.']\n",
    "['.', '.', '.', '.', '*', '.', '.', '.', '.', '.', '.']\n",
    "['.', '.', '.', '.', '.', '.', '.', '.', '.', '.', '*']\n",
    "['.', '.', '.', '*', '.', '.', '.', '.', '.', '.', '.']\n",
    "(7, 0, 6, 8, 1, 5, 9, 2, 4, 10, 3)\n",
    "\n",
    "11\n",
    "3 3\n",
    "2 3 3 2\n",
    "3 3\n",
    "\n",
    "13\n",
    "3 3 3\n",
    "3 3 3 3\n",
    "3 3 3\n",
    "\n",
    "15?\n",
    "3 3 3\n",
    "2 2 2 2 2 2 2\n",
    "3 3 3\n",
    "\n",
    "2 2 2 2\n",
    "2 5 5 2\n",
    "2 2 2 2"
   ]
  },
  {
   "cell_type": "code",
   "execution_count": null,
   "metadata": {},
   "outputs": [],
   "source": [
    "4\n",
    "['.', '*', '.', '.']\n",
    "['.', '.', '.', '*']\n",
    "['*', '.', '.', '.']\n",
    "['.', '.', '*', '.']"
   ]
  },
  {
   "cell_type": "code",
   "execution_count": null,
   "metadata": {},
   "outputs": [],
   "source": [
    "8\n",
    "[' ', ' ', '*', ' ', ' ', ' ', ' ', ' ']\n",
    "[' ', ' ', ' ', ' ', '*', ' ', ' ', ' ']\n",
    "[' ', '*', ' ', ' ', ' ', ' ', ' ', ' ']\n",
    "[' ', ' ', ' ', ' ', ' ', ' ', ' ', '*']\n",
    "['*', ' ', ' ', ' ', ' ', ' ', ' ', ' ']\n",
    "[' ', ' ', ' ', ' ', ' ', ' ', '*', ' ']\n",
    "[' ', ' ', ' ', '*', ' ', ' ', ' ', ' ']\n",
    "[' ', ' ', ' ', ' ', ' ', '*', ' ', ' ']\n",
    "(2, 4, 1, 7, 0, 6, 3, 5)"
   ]
  },
  {
   "cell_type": "code",
   "execution_count": null,
   "metadata": {},
   "outputs": [],
   "source": [
    "3 5 7 2 1 0 12 "
   ]
  },
  {
   "cell_type": "code",
   "execution_count": null,
   "metadata": {},
   "outputs": [],
   "source": []
  },
  {
   "cell_type": "code",
   "execution_count": null,
   "metadata": {},
   "outputs": [],
   "source": [
    "15\n",
    "  0   1    2    3     4    5    6   7     8   9    10   11   12   13   14\n",
    "[' ', ' ', ' ', ' ', ' ', ' ', ' ', ' ', ' ', ' ', ' ', ' ', ' ', ' ', ' ']\n",
    "['*', ' ', ' ', ' ', ' ', ' ', ' ', ' ', ' ', ' ', ' ', ' ', ' ', ' ', ' ']\n",
    "[' ', ' ', ' ', ' ', ' ', ' ', ' ', ' ', ' ', ' ', ' ', ' ', ' ', ' ', ' ']\n",
    "[' ', '*', ' ', ' ', ' ', ' ', ' ', ' ', ' ', ' ', ' ', ' ', ' ', ' ', ' ']\n",
    "[' ', ' ', ' ', ' ', ' ', ' ', ' ', ' ', ' ', ' ', ' ', ' ', ' ', ' ', ' ']\n",
    "[' ', ' ', '*', ' ', ' ', ' ', ' ', ' ', ' ', ' ', ' ', ' ', ' ', ' ', ' ']\n",
    "[' ', ' ', ' ', ' ', ' ', ' ', ' ', ' ', ' ', ' ', ' ', ' ', ' ', ' ', ' ']\n",
    "[' ', ' ', ' ', '*', ' ', ' ', ' ', ' ', ' ', ' ', ' ', ' ', ' ', ' ', ' ']\n",
    "[' ', ' ', ' ', ' ', ' ', ' ', ' ', ' ', ' ', ' ', ' ', ' ', ' ', ' ', ' ']\n",
    "[' ', ' ', ' ', ' ', '*', ' ', ' ', ' ', ' ', ' ', ' ', ' ', ' ', ' ', ' ']\n",
    "[' ', ' ', ' ', ' ', ' ', ' ', ' ', ' ', ' ', ' ', ' ', ' ', ' ', ' ', ' ']\n",
    "[' ', ' ', ' ', ' ', ' ', ' ', ' ', ' ', ' ', ' ', ' ', ' ', ' ', ' ', ' ']\n",
    "[' ', ' ', ' ', ' ', ' ', ' ', ' ', ' ', ' ', ' ', ' ', ' ', ' ', ' ', ' ']\n",
    "[' ', ' ', ' ', ' ', ' ', ' ', ' ', ' ', ' ', ' ', ' ', ' ', ' ', ' ', '*']\n",
    "[' ', ' ', ' ', ' ', ' ', '*', ' ', ' ', ' ', ' ', ' ', ' ', ' ', ' ', ' ']"
   ]
  },
  {
   "cell_type": "code",
   "execution_count": null,
   "metadata": {},
   "outputs": [],
   "source": [
    "13\n",
    "  0   1    2    3     4    5    6   7     8   9    10   11   12  \n",
    "[' ', ' ', ' ', ' ', ' ', ' ', ' ', ' ', '*', ' ', ' ', ' ', ' ']\n",
    "['*', ' ', ' ', ' ', ' ', ' ', ' ', ' ', ' ', ' ', ' ', ' ', ' ']\n",
    "[' ', ' ', ' ', ' ', ' ', ' ', ' ', ' ', ' ', '*', ' ', ' ', ' ']\n",
    "[' ', ' ', ' ', ' ', ' ', ' ', ' ', '*', ' ', ' ', ' ', ' ', ' ']\n",
    "[' ', '*', ' ', ' ', ' ', ' ', ' ', ' ', ' ', ' ', ' ', ' ', ' ']\n",
    "[' ', ' ', ' ', ' ', ' ', ' ', ' ', ' ', ' ', ' ', '*', ' ', ' ']\n",
    "[' ', ' ', ' ', ' ', ' ', ' ', '*', ' ', ' ', ' ', ' ', ' ', ' ']\n",
    "[' ', ' ', '*', ' ', ' ', ' ', ' ', ' ', ' ', ' ', ' ', ' ', ' ']\n",
    "[' ', ' ', ' ', ' ', ' ', ' ', ' ', ' ', ' ', ' ', ' ', '*', ' ']\n",
    "[' ', ' ', ' ', ' ', ' ', '*', ' ', ' ', ' ', ' ', ' ', ' ', ' ']\n",
    "[' ', ' ', ' ', '*', ' ', ' ', ' ', ' ', ' ', ' ', ' ', ' ', ' ']\n",
    "[' ', ' ', ' ', ' ', ' ', ' ', ' ', ' ', ' ', ' ', ' ', ' ', '*']\n",
    "[' ', ' ', ' ', ' ', '*', ' ', ' ', ' ', ' ', ' ', ' ', ' ', ' ']\n",
    "\n",
    "8, 0, 9, 7, 1, 10, 6, 2, 11, 5, 3, 12, 4"
   ]
  },
  {
   "cell_type": "code",
   "execution_count": null,
   "metadata": {},
   "outputs": [],
   "source": []
  },
  {
   "cell_type": "code",
   "execution_count": null,
   "metadata": {},
   "outputs": [],
   "source": [
    "  0   1     2   3    4     5    6   7     8    9    10   11   12\n",
    "['.', '.', '.', '.', '.', '.', '.', '.', '.', '.', '.', '.', '.']\n",
    "['*', '.', '.', '.', '.', '.', '.', '.', '.', '.', '.', '.', '.']\n",
    "['.', '.', '.', '.', '.', '.', '.', '.', '.', '.', '.', '.', '.']\n",
    "['.', '.', '.', '.', '.', '.', '.', '.', '.', '.', '.', '.', '.']\n",
    "['.', '*', '.', '.', '.', '.', '.', '.', '.', '.', '.', '.', '.']\n",
    "['.', '.', '.', '.', '.', '.', '.', '.', '.', '.', '.', '.', '.']\n",
    "['.', '.', '.', '.', '.', '.', '.', '.', '.', '.', '.', '.', '.']\n",
    "['.', '.', '*', '.', '.', '.', '.', '.', '.', '.', ' ', '.', '.']\n",
    "['.', '.', '.', '.', '.', '.', '.', '.', '.', '.', '.', '*', '.']\n",
    "['.', '.', '.', '.', '.', '.', '.', '.', '.', '.', '.', ' ', '.']\n",
    "['.', '.', '.', '*', '.', '.', '.', '.', '.', '.', '.', '.', '.']\n",
    "['.', '.', '.', '.', '.', '.', '.', '.', '.', '.', '.', '.', '*']\n",
    "['.', '.', '.', '.', '.', '.', '.', '.', '.', '.', '.', '.', '.']"
   ]
  },
  {
   "cell_type": "code",
   "execution_count": null,
   "metadata": {},
   "outputs": [],
   "source": [
    "9, 0, 8, 1, 7, 2, 6, 10, 5, 11, 4, 12, 3"
   ]
  },
  {
   "cell_type": "code",
   "execution_count": null,
   "metadata": {},
   "outputs": [],
   "source": [
    "9\n",
    "['.', '.', '.', '.', '.', '*', '.', '.', '.']\n",
    "['*', '.', '.', '.', '.', '.', '.', '.', '.']\n",
    "['.', '.', '.', '.', '*', '.', '.', '.', '.']\n",
    "['.', '*', '.', '.', '.', '.', '.', '.', '.']\n",
    "['.', '.', '.', '.', '.', '.', '.', '.', '*']\n",
    "['.', '.', '.', '.', '.', '.', '*', '.', '.']\n",
    "['.', '.', '.', '*', '.', '.', '.', '.', '.']\n",
    "['.', '.', '.', '.', '.', '.', '.', '*', '.']\n",
    "['.', '.', '*', '.', '.', '.', '.', '.', '.']\n",
    "(5, 0, 4, 1, 8, 6, 3, 7, 2)"
   ]
  },
  {
   "cell_type": "code",
   "execution_count": 25,
   "metadata": {},
   "outputs": [
    {
     "data": {
      "text/plain": [
       "(2, 8, 5, 1, 4, 6, 0, 3, 7)"
      ]
     },
     "execution_count": 25,
     "metadata": {},
     "output_type": "execute_result"
    }
   ],
   "source": [
    "4\n",
    "['.', '*', '.', '.']\n",
    "['.', '.', '.', '*']\n",
    "['*', '.', '.', '.']\n",
    "['.', '.', '*', '.']\n",
    "(1, 3, 0, 2)\n",
    "\n",
    "5\n",
    "['.', '*', '.', '.', '.']\n",
    "['.', '.', '.', '*', '.']\n",
    "['*', '.', '.', '.', '.']\n",
    "['.', '.', '*', '.', '.']\n",
    "['.', '.', '.', '.', '*']\n",
    "(1, 3, 0, 2, 4)\n",
    "6\n",
    "['.', '.', '*', '.', '.', '.']\n",
    "['.', '.', '.', '.', '.', '*']\n",
    "['.', '*', '.', '.', '.', '.']\n",
    "['.', '.', '.', '.', '*', '.']\n",
    "['*', '.', '.', '.', '.', '.']\n",
    "['.', '.', '.', '*', '.', '.']\n",
    "(2, 5, 1, 4, 0, 3)\n",
    "7\n",
    "['.', '.', '*', '.', '.', '.', '.']\n",
    "['.', '.', '.', '.', '.', '*', '.']\n",
    "['.', '*', '.', '.', '.', '.', '.']\n",
    "['.', '.', '.', '.', '*', '.', '.']\n",
    "['*', '.', '.', '.', '.', '.', '.']\n",
    "['.', '.', '.', '*', '.', '.', '.']\n",
    "['.', '.', '.', '.', '.', '.', '*']\n",
    "(2, 5, 1, 4, 0, 3, 6)\n",
    "8\n",
    "['.', '.', '.', '*', '.', '.', '.', '.']\n",
    "['.', '.', '.', '.', '.', '.', '*', '.']\n",
    "['.', '.', '*', '.', '.', '.', '.', '.']\n",
    "['.', '.', '.', '.', '.', '.', '.', '*']\n",
    "['.', '*', '.', '.', '.', '.', '.', '.']\n",
    "['.', '.', '.', '.', '*', '.', '.', '.']\n",
    "['*', '.', '.', '.', '.', '.', '.', '.']\n",
    "['.', '.', '.', '.', '.', '*', '.', '.']\n",
    "(3, 6, 2, 7, 1, 4, 0, 5)\n",
    "9\n",
    "['.', '.', '*', '.', '.', '.', '.', '.', '.']\n",
    "['.', '.', '.', '.', '.', '.', '.', '.', '*']\n",
    "['.', '.', '.', '.', '.', '*', '.', '.', '.']\n",
    "['.', '*', '.', '.', '.', '.', '.', '.', '.']\n",
    "['.', '.', '.', '.', '*', '.', '.', '.', '.']\n",
    "['.', '.', '.', '.', '.', '.', '*', '.', '.']\n",
    "['*', '.', '.', '.', '.', '.', '.', '.', '.']\n",
    "['.', '.', '.', '*', '.', '.', '.', '.', '.']\n",
    "['.', '.', '.', '.', '.', '.', '.', '*', '.']\n",
    "(2, 8, 5, 1, 4, 6, 0, 3, 7)"
   ]
  },
  {
   "cell_type": "code",
   "execution_count": null,
   "metadata": {},
   "outputs": [],
   "source": [
    "[' ', ' ', '*', ' ', ' ', ' ', ' ', ' ']\n",
    "[' ', ' ', ' ', ' ', '*', ' ', ' ', ' ']\n",
    "[' ', '*', ' ', ' ', ' ', ' ', ' ', ' ']\n",
    "[' ', ' ', ' ', ' ', ' ', ' ', ' ', '*']\n",
    "['*', ' ', ' ', ' ', ' ', '*', ' ', ' ']\n",
    "[' ', ' ', ' ', '*', ' ', ' ', ' ', ' ']\n",
    "[' ', ' ', ' ', ' ', ' ', ' ', '*', ' ']\n",
    "[' ', ' ', ' ', ' ', ' ', ' ', ' ', ' ']"
   ]
  },
  {
   "cell_type": "code",
   "execution_count": null,
   "metadata": {},
   "outputs": [],
   "source": [
    "['.', '.', '*', '.', '.', '.', '.', '.', '.']\n",
    "['.', '.', '.', '.', '*', '.', '.', '.', ',']\n",
    "['.', '.', '.', '.', '.', '.', '.', '.', '*']\n",
    "['.', '*', '.', '.', '.', '.', '.', '.', '.']\n",
    "['.', '.', '.', '*', '.', '.', '.', '.', '.']\n",
    "['.', '.', '.', '.', '.', '.', ',', '.', '.']\n",
    "['*', '.', '.', '.', '.', '.', '.', '.', '.']\n",
    "['.', '.', '.', '.', '.', '.', '.', '.', '.']\n",
    "['.', '.', '.', '.', '.', '.', '.', ',', '.']"
   ]
  },
  {
   "cell_type": "code",
   "execution_count": null,
   "metadata": {},
   "outputs": [],
   "source": [
    "['.', '.', '*', '.', '.', '.', '.', '.', '.']\n",
    "['.', '.', '.', '.', '.', '.', '.', '.', '*']\n",
    "['.', '.', '.', '.', '.', '*', '.', '.', '.']\n",
    "['.', '*', '.', '.', '.', '.', '.', '.', '.']\n",
    "['.', '.', '.', '.', '*', '.', '.', '.', '.']\n",
    "['.', '.', '.', '.', '.', '.', '*', '.', '.']\n",
    "['*', '.', '.', '.', '.', '.', '.', '.', '.']\n",
    "['.', '.', '.', '*', '.', '.', '.', '.', '.']\n",
    "['.', '.', '.', '.', '.', '.', '.', '*', '.']"
   ]
  },
  {
   "cell_type": "code",
   "execution_count": 571,
   "metadata": {},
   "outputs": [
    {
     "ename": "KeyboardInterrupt",
     "evalue": "",
     "output_type": "error",
     "traceback": [
      "\u001b[1;31m---------------------------------------------------------------------------\u001b[0m",
      "\u001b[1;31mKeyboardInterrupt\u001b[0m                         Traceback (most recent call last)",
      "\u001b[1;32m<ipython-input-571-288f3c84b20c>\u001b[0m in \u001b[0;36m<module>\u001b[1;34m\u001b[0m\n\u001b[0;32m      5\u001b[0m     \u001b[0mip\u001b[0m \u001b[1;33m=\u001b[0m \u001b[1;32mTrue\u001b[0m\u001b[1;33m\u001b[0m\u001b[1;33m\u001b[0m\u001b[0m\n\u001b[0;32m      6\u001b[0m     \u001b[1;32mfor\u001b[0m \u001b[0mi\u001b[0m \u001b[1;32min\u001b[0m \u001b[0mrange\u001b[0m\u001b[1;33m(\u001b[0m\u001b[0mn\u001b[0m\u001b[1;33m)\u001b[0m\u001b[1;33m:\u001b[0m\u001b[1;33m\u001b[0m\u001b[1;33m\u001b[0m\u001b[0m\n\u001b[1;32m----> 7\u001b[1;33m         \u001b[1;32mfor\u001b[0m \u001b[0mni\u001b[0m \u001b[1;32min\u001b[0m \u001b[0mrange\u001b[0m\u001b[1;33m(\u001b[0m\u001b[0mi\u001b[0m \u001b[1;33m+\u001b[0m \u001b[1;36m1\u001b[0m\u001b[1;33m,\u001b[0m \u001b[0mn\u001b[0m\u001b[1;33m)\u001b[0m\u001b[1;33m:\u001b[0m\u001b[1;33m\u001b[0m\u001b[1;33m\u001b[0m\u001b[0m\n\u001b[0m\u001b[0;32m      8\u001b[0m             \u001b[1;32mif\u001b[0m \u001b[1;33m(\u001b[0m\u001b[0mni\u001b[0m \u001b[1;33m-\u001b[0m \u001b[0mi\u001b[0m\u001b[1;33m)\u001b[0m \u001b[1;33m==\u001b[0m \u001b[0mabs\u001b[0m\u001b[1;33m(\u001b[0m\u001b[0mli\u001b[0m\u001b[1;33m[\u001b[0m\u001b[0mni\u001b[0m\u001b[1;33m]\u001b[0m \u001b[1;33m-\u001b[0m \u001b[0mli\u001b[0m\u001b[1;33m[\u001b[0m\u001b[0mi\u001b[0m\u001b[1;33m]\u001b[0m\u001b[1;33m)\u001b[0m\u001b[1;33m:\u001b[0m\u001b[1;33m\u001b[0m\u001b[1;33m\u001b[0m\u001b[0m\n\u001b[0;32m      9\u001b[0m                 \u001b[0mip\u001b[0m \u001b[1;33m=\u001b[0m \u001b[1;32mFalse\u001b[0m\u001b[1;33m\u001b[0m\u001b[1;33m\u001b[0m\u001b[0m\n",
      "\u001b[1;31mKeyboardInterrupt\u001b[0m: "
     ]
    }
   ],
   "source": [
    "from itertools import permutations as perm\n",
    "\n",
    "n = 13\n",
    "for li in perm(range(n)):\n",
    "    ip = True\n",
    "    for i in range(n):\n",
    "        for ni in range(i + 1, n):\n",
    "            if (ni - i) == abs(li[ni] - li[i]):\n",
    "                ip = False\n",
    "                break\n",
    "        if not ip:\n",
    "            break  \n",
    "    if not ip:\n",
    "        continue\n",
    "        \n",
    "    temp = []\n",
    "    for i in range(1, n):\n",
    "        temp.append(li[i] - li[i - 1])\n",
    "\n",
    "#     is_d = True\n",
    "#     for i in range(n // 2):\n",
    "#         if abs(temp[i]) != abs(temp[-(i + 1)]):\n",
    "#             is_d = False\n",
    "#             break\n",
    "\n",
    "#     if is_d:\n",
    "#         print(li[0])\n",
    "#         print(*temp)\n",
    "\n",
    "    print(li[0])\n",
    "    print(temp)"
   ]
  },
  {
   "cell_type": "code",
   "execution_count": null,
   "metadata": {},
   "outputs": [],
   "source": [
    "n = 6\n",
    "3\n",
    "-3 4 -3 4 -3\n",
    "\n",
    "n = 10\n",
    "5\n",
    "-5 6 -5 6 -5 6 -5 6 -5\n",
    "\n",
    "n = 14?\n",
    "7\n",
    "-7 8 -7 8 -7 8 -7 8 -7 8 -7 8 -7"
   ]
  },
  {
   "cell_type": "code",
   "execution_count": null,
   "metadata": {},
   "outputs": [],
   "source": [
    "n = 4\n",
    "\n",
    "1\n",
    "2 -3 2\n",
    "2\n",
    "-2 3 -2\n",
    "\n",
    "n = 6\n",
    "1\n",
    "2 2 -5 2 2\n",
    "2\n",
    "3 -4 3 -4 3\n",
    "3\n",
    "-3 4 -3 4 -3\n",
    "4\n",
    "-2 -2 5 -2 -2\n",
    "\n",
    "n = 8\n",
    "0\n",
    "[4, 3, -2, -3, 4, -5, 2]\n",
    "0\n",
    "[5, 2, -5, 4, -3, -2, 3]\n",
    "0\n",
    "[6, -3, 2, 2, -6, 3, -2]\n",
    "0\n",
    "[6, -2, 3, -6, 2, 2, -3]\n",
    "1\n",
    "[2, 2, 2, -5, -2, 6, -2]\n",
    "1\n",
    "[3, 2, -6, 2, 5, -2, -2]\n",
    "1\n",
    "[3, 2, -3, -3, 7, -2, -3]\n",
    "1\n",
    "[4, -5, 6, -3, 4, -5, 2]\n",
    "1\n",
    "[4, 2, -5, -2, 3, 3, -2]\n",
    "1\n",
    "[5, -4, 3, 2, -3, -4, 3]\n",
    "1\n",
    "[5, -2, 3, -7, 3, 2, -3]\n",
    "1\n",
    "[6, -2, -5, 2, 2, 2, -3]\n",
    "2\n",
    "[-2, 6, -2, 3, -6, 2, 2]\n",
    "2\n",
    "[2, -3, 6, -7, 6, -3, 2]\n",
    "2\n",
    "[2, -3, 6, -2, -2, 3, -6]\n",
    "2\n",
    "[2, 2, -6, 3, -2, 6, -2]\n",
    "2\n",
    "[2, 3, -4, -3, 6, -5, 4]\n",
    "2\n",
    "[3, -4, 3, 3, -7, 6, -3]\n",
    "2\n",
    "[3, -4, 5, -6, 3, 4, -3]\n",
    "2\n",
    "[3, -4, 5, -2, -4, 7, -4]\n",
    "2\n",
    "[3, -2, -3, 7, -3, 2, -5]\n",
    "2\n",
    "[3, -2, -2, 6, -3, 2, -6]\n",
    "2\n",
    "[3, 2, -7, 3, 3, -2, -3]\n",
    "2\n",
    "[3, 2, -7, 4, 2, -5, 2]\n",
    "2\n",
    "[3, 2, -6, 2, -3, 6, -2]\n",
    "2\n",
    "[4, -5, 6, -3, -4, 3, 2]\n",
    "2\n",
    "[4, -5, 6, -2, -2, -3, 4]\n",
    "2\n",
    "[5, -4, 3, -6, 5, -4, 3]\n",
    "3\n",
    "[-3, 4, 3, -6, 5, -4, 3]\n",
    "3\n",
    "[-3, 4, 3, -2, -3, 4, -5]\n",
    "3\n",
    "[-2, 3, 3, -2, -5, 2, 4]\n",
    "3\n",
    "[-2, 5, -4, 3, 2, -7, 4]\n",
    "3\n",
    "[-2, 5, -4, 3, 2, -3, -4]\n",
    "3\n",
    "[-2, 5, -2, -4, 7, -2, -3]\n",
    "3\n",
    "[-2, 6, -3, 2, -6, 2, 3]\n",
    "3\n",
    "[-2, 6, -2, -5, 2, 2, 2]\n",
    "3\n",
    "[2, -5, 4, -3, 6, -5, 4]\n",
    "3\n",
    "[2, 2, -6, 5, -6, 2, 2]\n",
    "3\n",
    "[2, 2, -5, -2, 6, -2, -3]\n",
    "3\n",
    "[3, -6, 7, -3, -3, 4, -3]\n",
    "3\n",
    "[3, -4, 5, -6, 3, -4, 5]\n",
    "3\n",
    "[3, -2, -3, 4, -5, 2, 5]\n",
    "3\n",
    "[3, -2, -2, -2, 5, 2, -6]\n",
    "3\n",
    "[4, -7, 2, 3, -4, 5, -2]\n",
    "3\n",
    "[4, -7, 4, 2, -5, 4, -3]\n",
    "3\n",
    "[4, -3, -2, -2, 6, -5, 4]\n",
    "4\n",
    "[-4, 3, 2, 2, -6, 5, -4]\n",
    "4\n",
    "[-4, 7, -4, -2, 5, -4, 3]\n",
    "4\n",
    "[-4, 7, -2, -3, 4, -5, 2]\n",
    "4\n",
    "[-3, 2, 2, 2, -5, -2, 6]\n",
    "4\n",
    "[-3, 2, 3, -4, 5, -2, -5]\n",
    "4\n",
    "[-3, 4, -5, 6, -3, 4, -5]\n",
    "4\n",
    "[-3, 6, -7, 3, 3, -4, 3]\n",
    "4\n",
    "[-2, -2, 5, 2, -6, 2, 3]\n",
    "4\n",
    "[-2, -2, 6, -5, 6, -2, -2]\n",
    "4\n",
    "[-2, 5, -4, 3, -6, 5, -4]\n",
    "4\n",
    "[2, -6, 2, 5, -2, -2, -2]\n",
    "4\n",
    "[2, -6, 3, -2, 6, -2, -3]\n",
    "4\n",
    "[2, -5, 2, 4, -7, 2, 3]\n",
    "4\n",
    "[2, -5, 4, -3, -2, 3, 4]\n",
    "4\n",
    "[2, -5, 4, -3, -2, 7, -4]\n",
    "4\n",
    "[2, -3, -3, 2, 5, -2, -4]\n",
    "4\n",
    "[3, -4, -3, 2, 3, -4, 5]\n",
    "4\n",
    "[3, -4, -3, 6, -5, 4, -3]\n",
    "5\n",
    "[-5, 4, -3, 6, -5, 4, -3]\n",
    "5\n",
    "[-4, 5, -6, 2, 2, 3, -4]\n",
    "5\n",
    "[-4, 5, -6, 3, 4, -3, -2]\n",
    "5\n",
    "[-3, -2, 6, -2, 3, -6, 2]\n",
    "5\n",
    "[-3, -2, 7, -4, -2, 5, -2]\n",
    "5\n",
    "[-3, -2, 7, -3, -3, 2, 3]\n",
    "5\n",
    "[-3, 2, 2, -6, 3, -2, 6]\n",
    "5\n",
    "[-3, 2, 3, -7, 3, -2, 5]\n",
    "5\n",
    "[-3, 4, -5, 2, 4, -7, 4]\n",
    "5\n",
    "[-3, 4, -5, 6, -3, -4, 3]\n",
    "5\n",
    "[-3, 4, -3, -3, 7, -6, 3]\n",
    "5\n",
    "[-2, -3, 4, 3, -6, 5, -4]\n",
    "5\n",
    "[-2, -2, 6, -3, 2, -6, 2]\n",
    "5\n",
    "[-2, 3, -6, 2, 2, -3, 6]\n",
    "5\n",
    "[-2, 3, -6, 7, -6, 3, -2]\n",
    "5\n",
    "[2, -6, 2, -3, 6, -2, -2]\n",
    "6\n",
    "[-6, 2, 5, -2, -2, -2, 3]\n",
    "6\n",
    "[-5, 2, -3, 7, -3, -2, 3]\n",
    "6\n",
    "[-5, 4, -3, -2, 3, 4, -3]\n",
    "6\n",
    "[-4, -2, 5, 2, -3, -3, 2]\n",
    "6\n",
    "[-4, 5, -6, 3, -4, 5, -2]\n",
    "6\n",
    "[-3, -2, 3, 3, -7, 2, 3]\n",
    "6\n",
    "[-3, -2, 6, -2, -5, 2, 2]\n",
    "6\n",
    "[-2, -2, -2, 5, 2, -6, 2]\n",
    "7\n",
    "[-6, 2, -3, 6, -2, -2, 3]\n",
    "7\n",
    "[-6, 3, -2, -2, 6, -3, 2]\n",
    "7\n",
    "[-5, -2, 5, -4, 3, 2, -3]\n",
    "7\n",
    "[-4, -3, 2, 3, -4, 5, -2]\n",
    "\n",
    "n = 10\n",
    "0\n",
    "5 2 2 -6 5 -6 2 2 -5\n",
    "1\n",
    "2 2 2 2 -9 2 2 2 2\n",
    "1\n",
    "5 -2 -2 6 -5 6 -2 -2 -5\n",
    "2\n",
    "3 3 -8 3 3 3 -8 3 3\n",
    "3\n",
    "4 -7 4 4 -7 4 4 -7 4\n",
    "3\n",
    "4 -3 4 -8 9 -8 4 -3 4\n",
    "4\n",
    "2 2 -8 2 5 2 -8 2 2\n",
    "4\n",
    "5 -6 5 -6 5 -6 5 -6 5\n",
    "5\n",
    "-5 6 -5 6 -5 6 -5 6 -5\n",
    "5\n",
    "-2 -2 8 -2 -5 -2 8 -2 -2\n",
    "6\n",
    "-4 3 -4 8 -9 8 -4 3 -4\n",
    "6\n",
    "-4 7 -4 -4 7 -4 -4 7 -4\n",
    "7\n",
    "-3 -3 8 -3 -3 -3 8 -3 -3\n",
    "8\n",
    "-5 2 2 -6 5 -6 2 2 5\n",
    "8\n",
    "-2 -2 -2 -2 9 -2 -2 -2 -2\n",
    "9\n",
    "-5 -2 -2 6 -5 6 -2 -2 5\n",
    "\n",
    "n = 12\n",
    "1\n",
    "2, 2, 2, 2, 2, -11, 2, 2, 2, 2, 2\n",
    "\n",
    "\n",
    "n = 7\n",
    "\n",
    "1\n",
    "3 -4 3 3 -4 3\n",
    "1\n",
    "3 2 -3 -3 2 3\n",
    "2\n",
    "-2 5 -2 -2 5 -2\n",
    "2\n",
    "4 -5 2 2 -5 4\n",
    "4\n",
    "-4 5 -2 -2 5 -4\n",
    "4\n",
    "2 -5 2 2 -5 2\n",
    "5\n",
    "-3 -2 3 3 -2 -3\n",
    "5\n",
    "-3 4 -3 -3 4 -3\n",
    "\n",
    "\n",
    "\n",
    "n = 16\n",
    "1\n",
    "2, 2, 2, 2, 2, 2, 2, -15, 2, 2, 2, 2, 2, 2, 2\n",
    "\n",
    "\n",
    "14, 18, 22"
   ]
  },
  {
   "cell_type": "code",
   "execution_count": 423,
   "metadata": {},
   "outputs": [
    {
     "name": "stdout",
     "output_type": "stream",
     "text": [
      "5\n",
      "1\n",
      "3\n",
      "2\n",
      "5\n",
      "4\n"
     ]
    }
   ],
   "source": [
    "n = int(input())\n",
    "\n",
    "if n == 4:\n",
    "    r = [1, 3, 4, 2]\n",
    "    for v in r:\n",
    "        print(v)\n",
    "else:\n",
    "    if n % 2 == 1:\n",
    "        diffs = [2, -1] + [3, -1] * (n // 2 - 1)\n",
    "    else:\n",
    "        diffs = [2, -1] + [3, -1] * (n // 2 - 3) + [3, 1, -2]\n",
    "        \n",
    "    cur = 1\n",
    "    print(cur)\n",
    "    for v in diffs:\n",
    "        cur += v\n",
    "        print(cur)"
   ]
  },
  {
   "cell_type": "code",
   "execution_count": null,
   "metadata": {},
   "outputs": [],
   "source": [
    "n=5\n",
    "0\n",
    "2 -1 3 -1\n",
    "n=7\n",
    "0\n",
    "2 -1 3 -1 3 -1\n",
    "n=9\n",
    "0\n",
    "2 -1 3 -1 3 -1 3 -1\n",
    "\n",
    "n=4\n",
    "0\n",
    "2 1 -2\n",
    "n=6\n",
    "0\n",
    "2 -1 3 1 -2\n",
    "n=8\n",
    "0\n",
    "2 -1 3 -1 3 1 -2\n",
    "n=10\n",
    "0\n",
    "2 -1 3 -1 3 -1 3 1 -2"
   ]
  },
  {
   "cell_type": "code",
   "execution_count": null,
   "metadata": {},
   "outputs": [],
   "source": [
    "cur = 0\n"
   ]
  },
  {
   "cell_type": "code",
   "execution_count": null,
   "metadata": {},
   "outputs": [],
   "source": [
    "0\n",
    "4 3 -2 -3 4 -5 2\n",
    "\n",
    "0\n",
    "2 3 2 -6 2 5 -2 -2 "
   ]
  },
  {
   "cell_type": "code",
   "execution_count": 354,
   "metadata": {},
   "outputs": [
    {
     "data": {
      "text/plain": [
       "(7, 6, 5, 4, 3, 2, 1, 0)"
      ]
     },
     "execution_count": 354,
     "metadata": {},
     "output_type": "execute_result"
    }
   ],
   "source": [
    "n == 4\n",
    "2\n",
    "-2 3 -2 \n",
    "\n",
    "n == 5:\n",
    "3\n",
    "-3 2 2 -3 \n",
    "\n",
    "n = 6\n",
    "2\n",
    "3 -4 3 -4 3\n",
    "\n",
    "n = 7\n",
    "2\n",
    "4 -5 2 2 -5 4 \n",
    "\n",
    "n = 8\n",
    "0\n",
    "6 -3 2 2 -6 3 -2 \n",
    "\n",
    "\n",
    "n = 9\n",
    "7\n",
    "-4 5 -6 2 2 -6 5 -4\n",
    "\n"
   ]
  }
 ],
 "metadata": {
  "kernelspec": {
   "display_name": "Python 3",
   "language": "python",
   "name": "python3"
  },
  "language_info": {
   "codemirror_mode": {
    "name": "ipython",
    "version": 3
   },
   "file_extension": ".py",
   "mimetype": "text/x-python",
   "name": "python",
   "nbconvert_exporter": "python",
   "pygments_lexer": "ipython3",
   "version": "3.7.4"
  }
 },
 "nbformat": 4,
 "nbformat_minor": 4
}
