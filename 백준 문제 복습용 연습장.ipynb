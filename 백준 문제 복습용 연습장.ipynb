{
 "cells": [
  {
   "cell_type": "markdown",
   "metadata": {},
   "source": [
    "### 배 1092"
   ]
  },
  {
   "cell_type": "code",
   "execution_count": 31,
   "metadata": {},
   "outputs": [
    {
     "name": "stdout",
     "output_type": "stream",
     "text": [
      "1\n",
      "4\n",
      "4\n",
      "1 2 3 4\n",
      "4\n"
     ]
    }
   ],
   "source": [
    "n = int(input())\n",
    "cranes = list(map(int, input().split()))\n",
    "m = int(input())\n",
    "boxes = list(map(int, input().split()))\n",
    "\n",
    "cranes.sort(reverse=True)\n",
    "boxes.sort()\n",
    "if boxes[-1] > cranes[0]:\n",
    "    print(-1)\n",
    "elif n == 1:\n",
    "    print(m)\n",
    "else:\n",
    "    used_counts = [0] * n\n",
    "    i = 0\n",
    "    while boxes:\n",
    "        value = boxes.pop()\n",
    "        if cranes[i] < value:\n",
    "            used_counts[0] += 1\n",
    "            i = 1\n",
    "        else:\n",
    "            used_counts[i] += 1\n",
    "            if used_counts[i] == used_counts[0]:\n",
    "                i += 1\n",
    "                if i == n:\n",
    "                    i = 0\n",
    "    print(used_counts[0])"
   ]
  },
  {
   "cell_type": "markdown",
   "metadata": {},
   "source": [
    "### 스택 수열 1874"
   ]
  },
  {
   "cell_type": "code",
   "execution_count": 34,
   "metadata": {},
   "outputs": [
    {
     "name": "stdout",
     "output_type": "stream",
     "text": [
      "5\n",
      "1\n",
      "2\n",
      "5\n",
      "3\n",
      "4\n",
      "NO\n"
     ]
    }
   ],
   "source": [
    "import sys\n",
    "input = lambda: sys.stdin.readline().rstrip()\n",
    "\n",
    "n = int(input())\n",
    "seq = [int(input()) for _ in range(n)][::-1]\n",
    "\n",
    "def solve():\n",
    "    stack = []\n",
    "    temp = []\n",
    "    for i in range(1, n + 1):\n",
    "        stack.append(i)\n",
    "        temp.append('+')\n",
    "        while seq and stack and seq[-1] == stack[-1]:\n",
    "            seq.pop()\n",
    "            stack.pop()\n",
    "            temp.append('-')\n",
    "    while stack and seq:\n",
    "        if stack[-1] == seq[-1]:\n",
    "            temp.append('-')\n",
    "            seq.pop()\n",
    "            stack.pop()\n",
    "        else:\n",
    "            return False\n",
    "    if stack or seq:\n",
    "        return False\n",
    "    return temp\n",
    "        \n",
    "result = solve()\n",
    "if not result:\n",
    "    print('NO')\n",
    "else:\n",
    "    print('\\n'.join(result))"
   ]
  },
  {
   "cell_type": "markdown",
   "metadata": {},
   "source": [
    "### 거스름돈 5585"
   ]
  },
  {
   "cell_type": "code",
   "execution_count": 30,
   "metadata": {},
   "outputs": [
    {
     "name": "stdout",
     "output_type": "stream",
     "text": [
      "1\n",
      "15\n"
     ]
    }
   ],
   "source": [
    "def add(total, n, coin):\n",
    "    total += n // coin\n",
    "    n %= coin\n",
    "    return total, n\n",
    "\n",
    "n = int(input())\n",
    "\n",
    "n = 1000 - n\n",
    "coins = [500, 100, 50, 10, 5, 1]\n",
    "total = 0\n",
    "for coin in coins:\n",
    "    total, n = add(total, n, coin)\n",
    "    \n",
    "print(total)"
   ]
  },
  {
   "cell_type": "markdown",
   "metadata": {},
   "source": [
    "### 근우의 다이어리 꾸미기 16675"
   ]
  },
  {
   "cell_type": "code",
   "execution_count": 42,
   "metadata": {},
   "outputs": [
    {
     "name": "stdout",
     "output_type": "stream",
     "text": [
      "1000000000\n",
      "9\n"
     ]
    }
   ],
   "source": [
    "n = int(input())\n",
    "\n",
    "result = 1\n",
    "cur = 11\n",
    "for _ in range(8):\n",
    "    if n >= cur:\n",
    "        result += 1\n",
    "    cur *= 10\n",
    "    cur += 1\n",
    "    \n",
    "print(result)"
   ]
  },
  {
   "cell_type": "markdown",
   "metadata": {},
   "source": [
    "### 설탕 배달 2839"
   ]
  },
  {
   "cell_type": "code",
   "execution_count": 57,
   "metadata": {},
   "outputs": [
    {
     "name": "stdout",
     "output_type": "stream",
     "text": [
      "10\n",
      "2\n"
     ]
    }
   ],
   "source": [
    "n = int(input())\n",
    "\n",
    "result = 0\n",
    "while n >= 0:\n",
    "    if n % 5 == 0:\n",
    "        result += n // 5\n",
    "        print(result)\n",
    "        break\n",
    "    n -= 3\n",
    "    result += 1\n",
    "else:\n",
    "    print(-1)"
   ]
  },
  {
   "cell_type": "markdown",
   "metadata": {},
   "source": [
    "### APC는 왜 서브태스크 대회가 되었을까? 17224"
   ]
  },
  {
   "cell_type": "code",
   "execution_count": null,
   "metadata": {},
   "outputs": [],
   "source": [
    "쉬운 문제가 쉬운 순으로 정렬함\n",
    "어려운 순으로 가능한 것들 다 가져가며 그 문제 제거함\n",
    "쉬운 난이도가 쉬운 순으로 정렬함\n"
   ]
  },
  {
   "cell_type": "code",
   "execution_count": 61,
   "metadata": {},
   "outputs": [
    {
     "name": "stdout",
     "output_type": "stream",
     "text": [
      "1 1 0\n",
      "3 4\n",
      "0\n"
     ]
    }
   ],
   "source": [
    "n, l, k = map(int, input().split())\n",
    "li = [list(map(int, input().split())) for _ in range(n)]\n",
    "li.sort(key=lambda x: x[0])\n",
    "total = 0\n",
    "if k:\n",
    "    for i in range(n - 1, -1, -1):\n",
    "        if li[i][1] <= l:\n",
    "            k -= 1\n",
    "            del li[i]\n",
    "            total += 140\n",
    "            if not k:\n",
    "                break\n",
    "            \n",
    "if k:\n",
    "    for easy, _ in li:\n",
    "        if easy <= l:\n",
    "            total += 100\n",
    "            k -= 1\n",
    "            if not k:\n",
    "                break\n",
    "print(total)"
   ]
  },
  {
   "cell_type": "markdown",
   "metadata": {},
   "source": [
    "### 뒤집기 1439"
   ]
  },
  {
   "cell_type": "code",
   "execution_count": 68,
   "metadata": {},
   "outputs": [
    {
     "name": "stdout",
     "output_type": "stream",
     "text": [
      "00110011\n",
      "2\n"
     ]
    }
   ],
   "source": [
    "s = input()\n",
    "\n",
    "c = 0\n",
    "for i in range(1, len(s)):\n",
    "    if s[i] != s[i - 1]:\n",
    "        c += 1\n",
    "        \n",
    "print((c + 1) // 2)"
   ]
  },
  {
   "cell_type": "markdown",
   "metadata": {},
   "source": [
    "### 주유소 13305"
   ]
  },
  {
   "cell_type": "code",
   "execution_count": 70,
   "metadata": {},
   "outputs": [
    {
     "name": "stdout",
     "output_type": "stream",
     "text": [
      "4\n",
      "3 3 4\n",
      "1 1 1 1\n",
      "10\n"
     ]
    }
   ],
   "source": [
    "n = int(input())\n",
    "dists = list(map(int, input().split()))\n",
    "prices = list(map(int, input().split()))\n",
    "\n",
    "total = 0\n",
    "min_price = prices[0]\n",
    "\n",
    "for i in range(n - 1):\n",
    "    total += min_price * dists[i]\n",
    "    min_price = min(min_price, prices[i + 1])\n",
    "\n",
    "print(total)"
   ]
  },
  {
   "cell_type": "markdown",
   "metadata": {},
   "source": [
    "### ATM 11399"
   ]
  },
  {
   "cell_type": "code",
   "execution_count": 81,
   "metadata": {},
   "outputs": [
    {
     "name": "stdout",
     "output_type": "stream",
     "text": [
      "5\n",
      "2 3 1 5 20\n",
      "1\n",
      "4\n",
      "10\n",
      "21\n",
      "52\n",
      "52\n"
     ]
    }
   ],
   "source": [
    "n = int(input())\n",
    "li = list(map(int, input().split()))\n",
    "\n",
    "li.sort()\n",
    "result = 0\n",
    "cumul = 0\n",
    "for v in li:\n",
    "    cumul += v\n",
    "    result += cumul\n",
    "    print(result)\n",
    "\n",
    "print(result)"
   ]
  },
  {
   "cell_type": "markdown",
   "metadata": {},
   "source": [
    "### 등수 매기기 2012"
   ]
  },
  {
   "cell_type": "code",
   "execution_count": 83,
   "metadata": {},
   "outputs": [
    {
     "name": "stdout",
     "output_type": "stream",
     "text": [
      "5\n",
      "1\n",
      "5\n",
      "3\n",
      "1\n",
      "2\n",
      "3\n"
     ]
    }
   ],
   "source": [
    "import sys\n",
    "# input = lambda: sys.stdin.readline().rstrip()\n",
    "\n",
    "n = int(input())\n",
    "li = [int(input()) for _ in range(n)]\n",
    "\n",
    "li.sort()\n",
    "total = 0\n",
    "for i, v in enumerate(li, 1):\n",
    "    total += abs(i - v)\n",
    "\n",
    "print(total)"
   ]
  },
  {
   "cell_type": "markdown",
   "metadata": {},
   "source": [
    "### 안테나 18310"
   ]
  },
  {
   "cell_type": "code",
   "execution_count": 84,
   "metadata": {},
   "outputs": [
    {
     "name": "stdout",
     "output_type": "stream",
     "text": [
      "4\n",
      "5 1 7 9\n",
      "5\n"
     ]
    }
   ],
   "source": [
    "n = int(input())\n",
    "li = list(map(int, input().split()))\n",
    "\n",
    "li.sort()\n",
    "print(li[(n - 1) // 2])"
   ]
  },
  {
   "cell_type": "markdown",
   "metadata": {},
   "source": [
    "### 회의실 배정 1931"
   ]
  },
  {
   "cell_type": "code",
   "execution_count": 88,
   "metadata": {},
   "outputs": [
    {
     "name": "stdout",
     "output_type": "stream",
     "text": [
      "4\n"
     ]
    }
   ],
   "source": [
    "import sys\n",
    "# input = lambda: sys.stdin.readline().rstrip()\n",
    "\n",
    "n = int(input())\n",
    "li = [list(map(int, input().split())) for _ in range(n)]\n",
    "\n",
    "li.sort(key=lambda x: (x[1], x[0]))\n",
    "count = 0\n",
    "current_end = -1\n",
    "for s, e in li:\n",
    "    if current_end <= s:\n",
    "        count += 1\n",
    "        current_end = e\n",
    "        \n",
    "print(count)"
   ]
  },
  {
   "cell_type": "markdown",
   "metadata": {},
   "source": [
    "### 행렬 1080"
   ]
  },
  {
   "cell_type": "code",
   "execution_count": 90,
   "metadata": {},
   "outputs": [
    {
     "name": "stdout",
     "output_type": "stream",
     "text": [
      "3 4\n",
      "0000\n",
      "0010\n",
      "0000\n",
      "1001\n",
      "1011\n",
      "1001\n",
      "2\n"
     ]
    }
   ],
   "source": [
    "n, m = map(int, input().split())\n",
    "a = [list(map(int, input())) for _ in range(n)]\n",
    "b = [list(map(int, input())) for _ in range(n)]\n",
    "\n",
    "def change_a(i, j):\n",
    "    for dx in range(3):\n",
    "        for dy in range(3):\n",
    "            a[i + dx][j + dy] ^= 1\n",
    "\n",
    "count = 0\n",
    "for i in range(n - 2):\n",
    "    for j in range(m - 2):\n",
    "        if a[i][j] != b[i][j]:\n",
    "            change_a(i, j)\n",
    "            count += 1\n",
    "if a != b:\n",
    "    print(-1)\n",
    "else:\n",
    "    print(count)"
   ]
  },
  {
   "cell_type": "markdown",
   "metadata": {},
   "source": [
    "### 동전 0 11047"
   ]
  },
  {
   "cell_type": "code",
   "execution_count": 98,
   "metadata": {},
   "outputs": [
    {
     "name": "stdout",
     "output_type": "stream",
     "text": [
      "10 4790\n",
      "1\n",
      "5\n",
      "10\n",
      "50\n",
      "100\n",
      "500\n",
      "1000\n",
      "5000\n",
      "10000\n",
      "50000\n",
      "12\n"
     ]
    }
   ],
   "source": [
    "n, k = map(int, input().split())\n",
    "li = [int(input()) for _ in range(n)]\n",
    "\n",
    "li.reverse()\n",
    "count = 0\n",
    "for v in li:\n",
    "    count += k // v\n",
    "    k %= v\n",
    "    \n",
    "print(count)"
   ]
  },
  {
   "cell_type": "markdown",
   "metadata": {},
   "source": [
    "### 잃어버린 괄호 1541"
   ]
  },
  {
   "cell_type": "code",
   "execution_count": 108,
   "metadata": {},
   "outputs": [
    {
     "name": "stdout",
     "output_type": "stream",
     "text": [
      "55-50+40\n",
      "-35\n"
     ]
    }
   ],
   "source": [
    "li = list(input())\n",
    "\n",
    "new_li = []\n",
    "for i in range(len(li)):\n",
    "    if not new_li:\n",
    "        if li[i] == '0':\n",
    "            continue\n",
    "        else:\n",
    "            new_li.append(li[i])\n",
    "    else:\n",
    "        if new_li[-1] in ['-', '+'] and li[i] == '0':\n",
    "            continue\n",
    "        else:\n",
    "            new_li.append(li[i])\n",
    "            \n",
    "s = ''.join(new_li)\n",
    "result = 0\n",
    "if '-' in s:\n",
    "    m = s.index('-')\n",
    "    a = s[:m]\n",
    "    b = s[m + 1:].replace('-', '+')\n",
    "    result = eval(a) - eval(b)\n",
    "else:\n",
    "    result = eval(s)\n",
    "    \n",
    "print(result)"
   ]
  },
  {
   "cell_type": "markdown",
   "metadata": {},
   "source": [
    "### 센서 2212"
   ]
  },
  {
   "cell_type": "code",
   "execution_count": 110,
   "metadata": {},
   "outputs": [
    {
     "name": "stdout",
     "output_type": "stream",
     "text": [
      "1\n",
      "1\n",
      "3\n",
      "0\n"
     ]
    }
   ],
   "source": [
    "n = int(input())\n",
    "k = int(input())\n",
    "li = list(map(int, input().split()))\n",
    "\n",
    "li.sort()\n",
    "diffs = [a - b for a, b in zip(li[1:], li[:-1])]\n",
    "diffs.sort()\n",
    "\n",
    "k = min(k, n)\n",
    "for _ in range(k - 1):\n",
    "    diffs.pop()\n",
    "    \n",
    "print(sum(diffs))"
   ]
  },
  {
   "cell_type": "markdown",
   "metadata": {},
   "source": [
    "### 도서관 1461"
   ]
  },
  {
   "cell_type": "code",
   "execution_count": 119,
   "metadata": {},
   "outputs": [
    {
     "name": "stdout",
     "output_type": "stream",
     "text": [
      "7 2\n",
      "-37 2 -6 -39 -29 11 -28\n",
      "131\n"
     ]
    }
   ],
   "source": [
    "from bisect import bisect_left\n",
    "\n",
    "n, m = map(int, input().split())\n",
    "li = list(map(int, input().split()))\n",
    "\n",
    "li.sort()\n",
    "plus_start = bisect_left(li, 0)\n",
    "minus = li[:plus_start]\n",
    "plus = li[plus_start:]\n",
    "plus.reverse()\n",
    "\n",
    "total = 0\n",
    "for i in range(0, len(minus), m):\n",
    "    total += -minus[i] * 2\n",
    "for i in range(0, len(plus), m):\n",
    "    total += plus[i] * 2\n",
    "\n",
    "max_abs = 0\n",
    "if minus:\n",
    "    max_abs = max(max_abs, -minus[0])\n",
    "if plus:\n",
    "    max_abs = max(max_abs, plus[0])\n",
    "total -= max_abs\n",
    "\n",
    "print(total)"
   ]
  },
  {
   "cell_type": "markdown",
   "metadata": {},
   "source": [
    "### 배 1092"
   ]
  },
  {
   "cell_type": "code",
   "execution_count": null,
   "metadata": {},
   "outputs": [],
   "source": [
    "n = int(input())\n",
    "cranes = list(map(int, input().split()))\n",
    "m = int(input())\n",
    "boxes = list(map(int, input().split()))\n",
    "\n",
    "cranes.sort(reverse=True)\n",
    "boxes.sort(reverse=True)\n",
    "if cranes[0] < boxes[0]:\n",
    "    print(-1)\n",
    "else:\n",
    "    counts = [0] * n\n",
    "    c_index = 0\n",
    "    b_index = 0\n",
    "    while b_index < m:\n",
    "        if boxes[b_index] <= cranes[c_index]:\n",
    "            b_index += 1\n",
    "            counts[c_index] += 1\n",
    "            if counts[c_index] >= counts[0]:\n",
    "                c_index += 1\n",
    "                if c_index == n:\n",
    "                    c_index = 0\n",
    "        else:\n",
    "            c_index = 0\n",
    "            \n",
    "    print(counts[0])"
   ]
  },
  {
   "cell_type": "markdown",
   "metadata": {},
   "source": [
    "### 크게 만들기 2812"
   ]
  },
  {
   "cell_type": "code",
   "execution_count": 12,
   "metadata": {},
   "outputs": [
    {
     "name": "stdout",
     "output_type": "stream",
     "text": [
      "5 2\n",
      "54321\n",
      "543\n"
     ]
    }
   ],
   "source": [
    "n, k = map(int, input().split())\n",
    "li = list(map(int, input()))\n",
    "\n",
    "stack = []\n",
    "for i in range(n):\n",
    "    while k and stack and stack[-1] < li[i]:\n",
    "        stack.pop()\n",
    "        k -= 1\n",
    "    stack.append(li[i])\n",
    "\n",
    "while k:\n",
    "    stack.pop()\n",
    "    k -= 1\n",
    "    \n",
    "print(''.join(map(str, stack)))"
   ]
  },
  {
   "cell_type": "markdown",
   "metadata": {},
   "source": [
    "### 카드 정렬하기 1715"
   ]
  },
  {
   "cell_type": "code",
   "execution_count": 15,
   "metadata": {},
   "outputs": [
    {
     "name": "stdout",
     "output_type": "stream",
     "text": [
      "3\n",
      "10\n",
      "20\n",
      "40\n",
      "100\n"
     ]
    }
   ],
   "source": [
    "from heapq import heapify, heappush, heappop\n",
    "import sys\n",
    "input = lambda: sys.stdin.readline().rstrip()\n",
    "\n",
    "n = int(input())\n",
    "heap = [int(input()) for _ in range(n)]\n",
    "heapify(heap)\n",
    "\n",
    "total = 0\n",
    "while len(heap) >= 2:\n",
    "    a, b = heappop(heap), heappop(heap)\n",
    "    total += a + b\n",
    "    heappush(heap, a + b)\n",
    "    \n",
    "print(total)"
   ]
  },
  {
   "cell_type": "markdown",
   "metadata": {},
   "source": [
    "### 수 묶기 1744"
   ]
  },
  {
   "cell_type": "code",
   "execution_count": null,
   "metadata": {},
   "outputs": [],
   "source": [
    "import sys\n",
    "input = lambda: sys.stdin.readline().rstrip()\n",
    "\n",
    "n = int(input())\n",
    "zb = [] # zero or below\n",
    "ov = [] # over one\n",
    "c1 = 0 # count 1\n",
    "for _ in range(n):\n",
    "    value = int(input())\n",
    "    if value <= 0:\n",
    "        zb.append(value)\n",
    "    elif value == 1:\n",
    "        c1 += 1\n",
    "    else:\n",
    "        ov.append(value)\n",
    "        \n",
    "zb.sort()\n",
    "ov.sort(reverse=True)\n",
    "total = 0\n",
    "\n",
    "def add(total, li):\n",
    "    for i in range(0, len(li) - 1, 2):\n",
    "        total += li[i] * li[i + 1]\n",
    "    if len(li) % 2 == 1:\n",
    "        total += li[-1]\n",
    "    return total\n",
    "\n",
    "total = add(total, zb)\n",
    "total = add(total, ov)\n",
    "total += c1\n",
    "\n",
    "print(total)"
   ]
  },
  {
   "cell_type": "markdown",
   "metadata": {},
   "source": [
    "### 저울 2437"
   ]
  },
  {
   "cell_type": "code",
   "execution_count": 18,
   "metadata": {},
   "outputs": [
    {
     "name": "stdout",
     "output_type": "stream",
     "text": [
      "3\n",
      "2 3 4\n",
      "1\n"
     ]
    }
   ],
   "source": [
    "n = int(input())\n",
    "li = sorted(map(int, input().split()))\n",
    "\n",
    "current = 0 # 0까지 만들 수 있음\n",
    "for v in li:\n",
    "    if v > current + 1:\n",
    "        print(current + 1)\n",
    "        break\n",
    "    current += v\n",
    "else:\n",
    "    print(current + 1)"
   ]
  },
  {
   "cell_type": "markdown",
   "metadata": {},
   "source": [
    "### 컵라면 1781"
   ]
  },
  {
   "cell_type": "code",
   "execution_count": 21,
   "metadata": {},
   "outputs": [
    {
     "name": "stdout",
     "output_type": "stream",
     "text": [
      "7\n",
      "1 6\n",
      "1 7\n",
      "3 2\n",
      "3 1\n",
      "2 4\n",
      "2 5\n",
      "6 1\n",
      "15\n"
     ]
    }
   ],
   "source": [
    "from heapq import heappush, heappop\n",
    "import sys\n",
    "input = lambda: sys.stdin.readline().rstrip()\n",
    "\n",
    "n = int(input())\n",
    "li = [list(map(int, input().split())) for _ in range(n)]\n",
    "\n",
    "li.sort(key=lambda x: x[0])\n",
    "heap = []\n",
    "for d, c in li:\n",
    "    heappush(heap, c)\n",
    "    if len(heap) > d:\n",
    "        heappop(heap)\n",
    "        \n",
    "print(sum(heap))"
   ]
  },
  {
   "cell_type": "markdown",
   "metadata": {},
   "source": [
    "### 소수의 곱 2014"
   ]
  },
  {
   "cell_type": "code",
   "execution_count": 31,
   "metadata": {},
   "outputs": [
    {
     "name": "stdout",
     "output_type": "stream",
     "text": [
      "4 19\n",
      "2 3 5 7\n",
      "27\n"
     ]
    }
   ],
   "source": [
    "from heapq import heapify, heappush, heappop\n",
    "\n",
    "k, n = map(int, input().split())\n",
    "primes = list(map(int, input().split()))\n",
    "criteria = 2 ** 31\n",
    "\n",
    "heap = primes[:]\n",
    "heapify(heap)\n",
    "\n",
    "st = set()\n",
    "count = 0\n",
    "while True:\n",
    "    value = heappop(heap)\n",
    "    if value in st:\n",
    "        continue\n",
    "    st.add(value)\n",
    "    count += 1\n",
    "    \n",
    "    if count == n:\n",
    "        print(value)\n",
    "        break\n",
    "    \n",
    "    for prime in primes:\n",
    "        v = value * prime\n",
    "        if v < criteria:\n",
    "            heappush(heap, v)"
   ]
  }
 ],
 "metadata": {
  "kernelspec": {
   "display_name": "Python 3",
   "language": "python",
   "name": "python3"
  }
 },
 "nbformat": 4,
 "nbformat_minor": 4
}
