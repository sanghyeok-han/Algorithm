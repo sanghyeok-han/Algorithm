{
 "cells": [
  {
   "cell_type": "markdown",
   "metadata": {},
   "source": [
    "### 우주선 만들기 15912"
   ]
  },
  {
   "cell_type": "raw",
   "metadata": {},
   "source": [
    "4 3\n",
    "3 4\n",
    "16\n",
    "\n",
    "\n",
    "1 16\n",
    "16 1\n",
    "32\n",
    "\n",
    "\n",
    "8 1 8\n",
    "1 8 8\n",
    "64\n",
    "\n",
    "1 2 1 2 1 \n",
    "2 1 2 1 2\n",
    "4"
   ]
  },
  {
   "cell_type": "markdown",
   "metadata": {},
   "source": [
    "### 피보나치 수의 개수 6571"
   ]
  },
  {
   "cell_type": "code",
   "execution_count": 106,
   "metadata": {},
   "outputs": [
    {
     "name": "stdout",
     "output_type": "stream",
     "text": [
      "10 100\n",
      "5\n",
      "0 0\n"
     ]
    }
   ],
   "source": [
    "from bisect import bisect_left, bisect_right\n",
    "\n",
    "dp = [1, 2]\n",
    "value = 2\n",
    "while value <= 1e100:\n",
    "    value = dp[-2] + dp[-1]\n",
    "    dp.append(value)\n",
    "\n",
    "while True:\n",
    "    a, b = map(int, input().split())\n",
    "    if a == b == 0:\n",
    "        break\n",
    "    print(bisect_right(dp, b) - bisect_left(dp, a))"
   ]
  },
  {
   "cell_type": "markdown",
   "metadata": {},
   "source": [
    "### 피보나치 치킨 13270"
   ]
  },
  {
   "cell_type": "code",
   "execution_count": 110,
   "metadata": {},
   "outputs": [
    {
     "name": "stdout",
     "output_type": "stream",
     "text": [
      "6\n",
      "3\n"
     ]
    }
   ],
   "source": [
    "# 일단 포기\n",
    "dp = [1, 2]\n",
    "value = 2\n",
    "while value <= 7000:\n",
    "    value = dp[-2] + dp[-1]\n",
    "    dp.append(value)\n",
    "    \n",
    "n = int(input())\n",
    "for i in range(len(dp)):\n",
    "    if dp[i] > n:\n",
    "        i -= 1\n",
    "        break\n",
    "        \n",
    "print(i)"
   ]
  },
  {
   "cell_type": "markdown",
   "metadata": {},
   "source": [
    "### 카드게임 10835"
   ]
  },
  {
   "cell_type": "code",
   "execution_count": 111,
   "metadata": {},
   "outputs": [
    {
     "name": "stdout",
     "output_type": "stream",
     "text": [
      "4\n",
      "4 5 2 1\n",
      "4 9 1 1\n"
     ]
    }
   ],
   "source": [
    "n = int(input())\n",
    "lefts = list(map(int, input().split()))\n",
    "rights = list(map(int, input().split()))"
   ]
  },
  {
   "cell_type": "code",
   "execution_count": null,
   "metadata": {},
   "outputs": [],
   "source": [
    "# 일단 포기\n",
    "current_cumul = set()\n",
    "\n",
    "for left_index in range(n):\n",
    "    current = set()\n",
    "    for right_index in range(n):\n",
    "        if lefts[left_index] > rights[right_index]:\n",
    "            current.add()"
   ]
  },
  {
   "cell_type": "markdown",
   "metadata": {},
   "source": [
    "### 계단 오르기 2579 (다시 풀음)"
   ]
  },
  {
   "cell_type": "code",
   "execution_count": 155,
   "metadata": {},
   "outputs": [
    {
     "name": "stdout",
     "output_type": "stream",
     "text": [
      "6\n",
      "10\n",
      "3\n",
      "2\n",
      "1\n",
      "100\n",
      "100\n",
      "213\n"
     ]
    }
   ],
   "source": [
    "# 두 칸 이상을 뛰어넘는 경우를 고려하지 못하는 코드라는 것을 디버깅하는 것에 오래 걸렸음\n",
    "n = int(input())\n",
    "li = [int(input()) for _ in range(n)]\n",
    "li.reverse()\n",
    "\n",
    "dp = [[0, 0, 0] for _ in range(n + 1)] # [이전과 같이 방문, 이전 방문 안하고 방문, 방문 안함]\n",
    "dp[0] = [-float('inf'), -float('inf'), 0]\n",
    "dp[1] = [-float('inf'), li[0], -float('inf')]\n",
    "for i in range(2, n + 1):\n",
    "    dp[i][0] = li[i - 2] + li[i - 1] + dp[i - 2][2]\n",
    "    dp[i][1] = li[i - 1] + dp[i - 1][2]\n",
    "    dp[i][2] = max(dp[i - 1][0], dp[i - 1][1])\n",
    "    \n",
    "print(max(dp[-1]))"
   ]
  },
  {
   "cell_type": "markdown",
   "metadata": {},
   "source": [
    "### 우유 도시 14722"
   ]
  },
  {
   "cell_type": "code",
   "execution_count": 37,
   "metadata": {},
   "outputs": [
    {
     "name": "stdout",
     "output_type": "stream",
     "text": [
      "4\n",
      "1 2 0 1\n",
      "0 0 1 0\n",
      "0 0 2 0\n",
      "0 0 0 1\n",
      "5\n"
     ]
    }
   ],
   "source": [
    "import sys\n",
    "# input = sys.stdin.readline\n",
    "\n",
    "n = int(input().rstrip())\n",
    "li = [list(map(int, input().rstrip().split())) for _ in range(n)]\n",
    "\n",
    "dp = [[[-float('inf')] * 3 for _ in range(n)] for _ in range(n)] # [0, 1, 2]\n",
    "if li[0][0] == 0:\n",
    "    dp[0][0] = [1, -float('inf'), -float('inf')]\n",
    "\n",
    "for i in range(n):\n",
    "    for j in range(n):\n",
    "        for k in range(3):\n",
    "            if i != 0:       \n",
    "                if li[i][j] != k:\n",
    "                    dp[i][j][k] = max(dp[i][j][k], dp[i - 1][j][k])\n",
    "                else:\n",
    "                    dp[i][j][k] = max(dp[i][j][k], dp[i - 1][j][k], dp[i - 1][j][(k - 1) % 3] + 1)\n",
    "                    \n",
    "                if li[i][j] == 0:\n",
    "                    dp[i][j][0] = max(dp[i][j][0], 1)\n",
    "            if j != 0:\n",
    "                if li[i][j] != k:\n",
    "                    dp[i][j][k] = max(dp[i][j][k], dp[i][j - 1][k])\n",
    "                else:\n",
    "                    dp[i][j][k] = max(dp[i][j][k], dp[i][j - 1][k], dp[i][j - 1][(k - 1) % 3] + 1)\n",
    "                    \n",
    "                if li[i][j] == 0:\n",
    "                    dp[i][j][0] = max(dp[i][j][0], 1)\n",
    "if max(dp[-1][-1]) == -float('inf'):\n",
    "    print(0)\n",
    "else:\n",
    "    print(max(dp[-1][-1]))"
   ]
  },
  {
   "cell_type": "markdown",
   "metadata": {},
   "source": [
    "### 개업 13910"
   ]
  },
  {
   "cell_type": "code",
   "execution_count": 53,
   "metadata": {},
   "outputs": [
    {
     "name": "stdout",
     "output_type": "stream",
     "text": [
      "6 2\n",
      "1 3\n",
      "2\n"
     ]
    }
   ],
   "source": [
    "n, m = map(int, input().split())\n",
    "li = list(map(int, input().split()))\n",
    "\n",
    "st = set(li)\n",
    "for i in range(m):\n",
    "    for j in range(i + 1, m):\n",
    "        st.add(li[i] + li[j])\n",
    "\n",
    "dp = [float('inf')] * (n + 1)\n",
    "dp[0] = 0\n",
    "\n",
    "for value in st:\n",
    "    for i in range(len(dp)):\n",
    "        if dp[i] != float('inf') and i + value <= n:\n",
    "            dp[i + value] = min(dp[i] + 1, dp[i + value])\n",
    "\n",
    "if dp[-1] == float('inf'):\n",
    "    print(-1)\n",
    "else:\n",
    "    print(dp[-1])"
   ]
  },
  {
   "cell_type": "code",
   "execution_count": 60,
   "metadata": {},
   "outputs": [
    {
     "name": "stdout",
     "output_type": "stream",
     "text": [
      "6 2\n",
      "1 3\n",
      "2\n"
     ]
    }
   ],
   "source": [
    "n, m = map(int, input().split())\n",
    "li = list(map(int, input().split()))\n",
    "\n",
    "st = set()\n",
    "for i in range(m):\n",
    "    st.add(li[i])\n",
    "    for j in range(i + 1, m):\n",
    "        st.add(li[i] + li[j])\n",
    "\n",
    "dp = [-1] * (n + 1)\n",
    "dp[0] = 0\n",
    "\n",
    "for value in st:\n",
    "    for i in range(n - value + 1):\n",
    "        if dp[i] != -1:\n",
    "            v = i + value\n",
    "            if dp[v] == -1 or dp[v] > dp[i] + 1:\n",
    "                dp[v] = dp[i] + 1\n",
    "\n",
    "print(dp[-1])"
   ]
  },
  {
   "cell_type": "markdown",
   "metadata": {},
   "source": [
    "### BOJ 거리 12026"
   ]
  },
  {
   "cell_type": "code",
   "execution_count": 75,
   "metadata": {},
   "outputs": [
    {
     "name": "stdout",
     "output_type": "stream",
     "text": [
      "15\n",
      "BJBOJOJOOJOBOOO\n",
      "52\n"
     ]
    }
   ],
   "source": [
    "# 맞았음\n",
    "n = int(input())\n",
    "li = list(input())\n",
    "\n",
    "d = {'B': 0, 'O': 1, 'J': 2}\n",
    "li = [d[v] for v in li]\n",
    "\n",
    "dp = [float('inf')] * n\n",
    "dp[0] = 0\n",
    "\n",
    "for i in range(1, n):\n",
    "    for j in range(i):\n",
    "        if li[i] == (li[j] + 1) % 3:\n",
    "            dp[i] = min(dp[i], dp[j] + (i - j) ** 2)\n",
    "\n",
    "if dp[-1] == float('inf'):\n",
    "    print(-1)\n",
    "else:\n",
    "    print(dp[-1])"
   ]
  },
  {
   "cell_type": "code",
   "execution_count": null,
   "metadata": {},
   "outputs": [],
   "source": [
    "# 맞았음, float('inf')로 초기화했을 때랑 동작 시간이 똑같이 걸렸음\n",
    "n = int(input())\n",
    "li = list(input())\n",
    "\n",
    "d = {'B': 0, 'O': 1, 'J': 2}\n",
    "li = [d[v] for v in li]\n",
    "\n",
    "dp = [-1] * n\n",
    "dp[0] = 0\n",
    "\n",
    "for i in range(1, n):\n",
    "    for j in range(i):\n",
    "        if li[i] == (li[j] + 1) % 3:\n",
    "            if dp[j] != -1:\n",
    "                v = dp[j] + (i - j) ** 2\n",
    "                if dp[i] == -1 or v < dp[i]:\n",
    "                    dp[i] = v\n",
    "print(dp[-1])"
   ]
  },
  {
   "cell_type": "markdown",
   "metadata": {},
   "source": [
    "### 민균이의 계략 11568"
   ]
  },
  {
   "cell_type": "code",
   "execution_count": 86,
   "metadata": {},
   "outputs": [
    {
     "name": "stdout",
     "output_type": "stream",
     "text": [
      "8\n",
      "5 4 3 2 1 6 7 8\n",
      "4\n"
     ]
    }
   ],
   "source": [
    "n = int(input())\n",
    "li = list(map(int, input().split()))\n",
    "\n",
    "dp = [(li[0], 1)]\n",
    "for value in li[1:]:\n",
    "    cands = [v[1] for v in dp if v[0] < value]\n",
    "    if not cands:\n",
    "        dp.append((value, 1))\n",
    "    else:\n",
    "        dp.append((value, max(cands) + 1))\n",
    "        \n",
    "print(max([v[1] for v in dp]))"
   ]
  },
  {
   "cell_type": "markdown",
   "metadata": {},
   "source": [
    "### 간식 파티 20162"
   ]
  },
  {
   "cell_type": "code",
   "execution_count": 119,
   "metadata": {},
   "outputs": [
    {
     "name": "stdout",
     "output_type": "stream",
     "text": [
      "3\n",
      "10\n",
      "5\n",
      "10\n",
      "10\n"
     ]
    }
   ],
   "source": [
    "# 틀렸음\n",
    "n = int(input())\n",
    "li = [int(input()) for _ in range(n)]\n",
    "dp = [0] * n\n",
    "dp[0] = li[0]\n",
    "for i in range(1, n):\n",
    "    for j in range(i):\n",
    "        if li[j] < li[i]:\n",
    "            dp[i] = max(dp[i], dp[j] + li[i])\n",
    "            \n",
    "print(max(dp))"
   ]
  },
  {
   "cell_type": "code",
   "execution_count": 120,
   "metadata": {},
   "outputs": [
    {
     "name": "stdout",
     "output_type": "stream",
     "text": [
      "3\n",
      "10\n",
      "5\n",
      "10\n",
      "15\n"
     ]
    }
   ],
   "source": [
    "# 맞았음\n",
    "n = int(input())\n",
    "li = [int(input()) for _ in range(n)]\n",
    "dp = li[:]\n",
    "for i in range(1, n):\n",
    "    for j in range(i):\n",
    "        if li[j] < li[i]:\n",
    "            dp[i] = max(dp[i], dp[j] + li[i])\n",
    "            \n",
    "print(max(dp))"
   ]
  },
  {
   "cell_type": "markdown",
   "metadata": {},
   "source": [
    "### Maximum Subarray 10211"
   ]
  },
  {
   "cell_type": "code",
   "execution_count": 122,
   "metadata": {},
   "outputs": [
    {
     "name": "stdout",
     "output_type": "stream",
     "text": [
      "5\n",
      "2 1 -2 3 -5\n",
      "4\n"
     ]
    }
   ],
   "source": [
    "for _ in range(int(input())):\n",
    "    n = int(input())\n",
    "    li = list(map(int, input().split()))\n",
    "    dp = [0] * n\n",
    "    dp[0] = li[0]\n",
    "    for i in range(1, n):\n",
    "        if dp[i - 1] >= 0:\n",
    "            dp[i] = dp[i - 1] + li[i]\n",
    "        else:\n",
    "            dp[i] = li[i]\n",
    "\n",
    "    print(max(dp))"
   ]
  },
  {
   "cell_type": "markdown",
   "metadata": {},
   "source": [
    "### 주지수 15724"
   ]
  },
  {
   "cell_type": "code",
   "execution_count": 139,
   "metadata": {},
   "outputs": [
    {
     "name": "stdout",
     "output_type": "stream",
     "text": [
      "4 4\n",
      "1 1 1 1\n",
      "1 1 1 1\n",
      "1 1 1 1\n",
      "1 1 1 1\n",
      "3\n",
      "1 1 3 2\n",
      "6\n",
      "1 1 1 4\n",
      "4\n",
      "1 1 4 4\n",
      "16\n"
     ]
    }
   ],
   "source": [
    "from copy import deepcopy\n",
    "import sys\n",
    "# input = sys.stdin.readline\n",
    "\n",
    "n, m = map(int, input().rstrip().split())\n",
    "li = [list(map(int, input().rstrip().split())) for _ in range(n)]\n",
    "\n",
    "dp = deepcopy(li)\n",
    "for i in range(n):\n",
    "    for j in range(m):\n",
    "        if i == 0 and j == 0:\n",
    "            continue\n",
    "        \n",
    "        if i == 0:\n",
    "            dp[i][j] += dp[i][j - 1]\n",
    "        elif j == 0:\n",
    "            dp[i][j] += dp[i - 1][j]\n",
    "        else:\n",
    "            dp[i][j] += dp[i][j - 1] + dp[i - 1][j] - dp[i - 1][j - 1]\n",
    "        \n",
    "k = int(input().rstrip())\n",
    "for _ in range(k):\n",
    "    x1, y1, x2, y2 = map(lambda x: int(x) - 1, input().rstrip().split())\n",
    "\n",
    "    if x1 == 0 and y1 == 0:\n",
    "        print(dp[x2][y2])\n",
    "    elif x1 == 0:\n",
    "        print(dp[x2][y2] - dp[x2][y1 - 1])\n",
    "    elif y1 == 0:\n",
    "        print(dp[x2][y2] - dp[x1 - 1][y2])\n",
    "    else:\n",
    "        print(dp[x2][y2] - dp[x1 - 1][y2] - dp[x2][y1 - 1] + dp[x1 - 1][y1 - 1])"
   ]
  },
  {
   "cell_type": "markdown",
   "metadata": {},
   "source": [
    "### 곡예 비행 21923"
   ]
  },
  {
   "cell_type": "code",
   "execution_count": 13,
   "metadata": {},
   "outputs": [
    {
     "name": "stdout",
     "output_type": "stream",
     "text": [
      "1 2\n",
      "3 1\n",
      "7\n"
     ]
    }
   ],
   "source": [
    "n, m = map(int, input().split())\n",
    "li = [list(map(int, input().split())) for _ in range(n)]\n",
    "\n",
    "dp = [[[-float('inf')] * 2 for _ in range(m)] for _ in range(n)] # dp[x][y] = [상승시, 하강시]\n",
    "\n",
    "for j in range(m):\n",
    "    # 상승시\n",
    "    for i in range(n - 1, -1, -1):\n",
    "        if j == 0 and i == n - 1:\n",
    "            dp[i][j][0] = li[i][j]\n",
    "        elif j == 0:\n",
    "            dp[i][j][0] = dp[i + 1][j][0] + li[i][j]\n",
    "        elif i == n - 1:\n",
    "            dp[i][j][0] = dp[i][j - 1][0] + li[i][j]\n",
    "        else:\n",
    "            dp[i][j][0] = max(dp[i][j - 1][0], dp[i + 1][j][0]) + li[i][j]\n",
    "    # 하강시\n",
    "    for i in range(n):\n",
    "        if i == 0 and j == 0:\n",
    "            dp[i][j][1] = dp[i][j][0] + li[i][j]\n",
    "        elif i == 0:\n",
    "            dp[i][j][1] = max(dp[i][j][0], dp[i][j - 1][1]) + li[i][j]\n",
    "        elif j == 0:\n",
    "            dp[i][j][1] = max(dp[i][j][0], dp[i - 1][j][1]) + li[i][j]\n",
    "        else:\n",
    "            dp[i][j][1] = max(dp[i][j][0], dp[i - 1][j][1], dp[i][j - 1][1]) + li[i][j]\n",
    "            \n",
    "print(dp[-1][-1][1])"
   ]
  },
  {
   "cell_type": "markdown",
   "metadata": {},
   "source": [
    "### 진우의 달 여행 (Large) 17485"
   ]
  },
  {
   "cell_type": "code",
   "execution_count": 18,
   "metadata": {},
   "outputs": [
    {
     "name": "stdout",
     "output_type": "stream",
     "text": [
      "6 4\n",
      "5 8 5 1\n",
      "3 5 8 4\n",
      "9 77 65 5\n",
      "2 1 5 2\n",
      "5 98 1 5\n",
      "4 95 67 58\n"
     ]
    }
   ],
   "source": [
    "n, m = map(int, input().split())\n",
    "li = [list(map(int, input().split())) for _ in range(n)]"
   ]
  },
  {
   "cell_type": "code",
   "execution_count": 35,
   "metadata": {},
   "outputs": [
    {
     "name": "stdout",
     "output_type": "stream",
     "text": [
      "2 2\n",
      "1 1\n",
      "1 1\n",
      "2\n"
     ]
    }
   ],
   "source": [
    "n, m = map(int, input().split())\n",
    "li = [list(map(int, input().split())) for _ in range(n)]\n",
    "inf = 100001\n",
    "\n",
    "dp = [[[inf] * 3 for _ in range(m)] for _ in range(n)] # dp[x][y] = [이전에 왼쪽 대각선, 이전에 바로 위, 이전에 오른쪽 대각선]\n",
    "for j in range(m):\n",
    "    dp[0][j] = [li[0][j]] * 3\n",
    "    \n",
    "dp[0][0][0] = dp[0][m - 1][2] = inf\n",
    "\n",
    "for i in range(1, n):\n",
    "    for j in range(m):\n",
    "        if j - 1 >= 0:\n",
    "            dp[i][j][0] = min(dp[i - 1][j - 1][1], dp[i - 1][j - 1][2]) + li[i][j]\n",
    "        dp[i][j][1] = min(dp[i - 1][j][0], dp[i - 1][j][2]) + li[i][j]\n",
    "        if j + 1 < m:\n",
    "            dp[i][j][2] = min(dp[i - 1][j + 1][0], dp[i - 1][j + 1][1]) + li[i][j]\n",
    "            \n",
    "print(min(sum(dp[-1], [])))"
   ]
  },
  {
   "cell_type": "markdown",
   "metadata": {},
   "source": [
    "### 수도배관공사 2073"
   ]
  },
  {
   "cell_type": "code",
   "execution_count": null,
   "metadata": {},
   "outputs": [],
   "source": [
    "from collections import defaultdict\n",
    "\n",
    "d, p = map(int, input().split())\n",
    "dp = defaultdict(int)\n",
    "\n",
    "for _ in range(p):\n",
    "    l, c = map(int, input().split())\n",
    "    lengths = sorted(dp.keys(), reverse=True)\n",
    "    for length in lengths:\n",
    "        if length + l <= d:\n",
    "            dp[length + l] = max(dp[length + l], min(dp[length], c))    \n",
    "    dp[l] = max(dp[l], c)\n",
    "    \n",
    "print(dp[d])"
   ]
  },
  {
   "cell_type": "code",
   "execution_count": 45,
   "metadata": {},
   "outputs": [
    {
     "name": "stdout",
     "output_type": "stream",
     "text": [
      "7 6\n",
      "4 5\n",
      "3 6\n",
      "2 7\n",
      "1 4\n",
      "6 7\n",
      "1 5\n",
      "5\n"
     ]
    }
   ],
   "source": [
    "d, p = map(int, input().split())\n",
    "dp = [-1] * (d + 1)\n",
    "st = set()\n",
    "\n",
    "for _ in range(p):\n",
    "    l, c = map(int, input().split())\n",
    "    lengths = sorted(st, reverse=True)\n",
    "    for length in lengths:\n",
    "        if length + l <= d:\n",
    "            if dp[length + l] == -1:\n",
    "                st.add(length + l)\n",
    "            dp[length + l] = max(dp[length + l], min(dp[length], c))    \n",
    "    dp[l] = max(dp[l], c)\n",
    "    st.add(l)\n",
    "    \n",
    "print(dp[d])"
   ]
  },
  {
   "cell_type": "code",
   "execution_count": 46,
   "metadata": {},
   "outputs": [
    {
     "name": "stdout",
     "output_type": "stream",
     "text": [
      "7 6\n",
      "4 5\n",
      "3 6\n",
      "2 7\n",
      "1 4\n",
      "6 7\n",
      "1 5\n",
      "5\n"
     ]
    }
   ],
   "source": [
    "d, p = map(int, input().split())\n",
    "dp = [0] * (d + 1)\n",
    "\n",
    "for _ in range(p):\n",
    "    l, c = map(int, input().split())\n",
    "    for i in range(d - l, 0, -1):\n",
    "        dp[i + l] = max(dp[i + l], min(dp[i], c))    \n",
    "    dp[l] = max(dp[l], c)\n",
    "    \n",
    "print(dp[d])"
   ]
  },
  {
   "cell_type": "code",
   "execution_count": 57,
   "metadata": {},
   "outputs": [
    {
     "name": "stdout",
     "output_type": "stream",
     "text": [
      "5\n"
     ]
    }
   ],
   "source": [
    "import sys\n",
    "input = sys.stdin.readline\n",
    "\n",
    "d, p = map(int, input().rstrip().split())\n",
    "li = [list(map(int, input().rstrip().split())) for _ in range(p)]\n",
    "li.sort(key=lambda x: -x[1])\n",
    "\n",
    "def solve():\n",
    "    st = set()\n",
    "    for l, c in li:\n",
    "        if l == d:\n",
    "            return c       \n",
    "        temp = set()\n",
    "        for length in st:\n",
    "            nl = length + l\n",
    "            if nl == d:\n",
    "                return c\n",
    "            if nl < d:\n",
    "                temp.add(nl)\n",
    "        temp.add(l)\n",
    "        st |= temp\n",
    "\n",
    "print(solve())"
   ]
  },
  {
   "cell_type": "code",
   "execution_count": null,
   "metadata": {},
   "outputs": [],
   "source": [
    "# 다른 사람 코드 https://www.acmicpc.net/source/28558286\n",
    "import sys\n",
    "input = sys.stdin.readline\n",
    "\n",
    "d,p = map(int,input().split())\n",
    "dp = [0]*(d+1)\n",
    "dp[0] = float('inf')\n",
    "for _ in range(p):\n",
    "    l,c = map(int,input().split())\n",
    "    for i in range(d,-1,-1):\n",
    "        if i-l <0: break\n",
    "        dp[i] = max(dp[i] , min(dp[i-l],c))\n",
    "print(dp[d])"
   ]
  },
  {
   "cell_type": "code",
   "execution_count": null,
   "metadata": {},
   "outputs": [],
   "source": [
    "# 다른 사람 코드 (fromecha)\n",
    "# D: 물까지의 거리 / P: 매입한 파이프 개수\n",
    "D, P = map(int, input().split())\n",
    "# L: 길이 / C: 용량\n",
    "# 목표: 수도관을 만들어 길이가 D와 같게 할 때 가능한 최대 용량을 구하는 것\n",
    "# 파이프를 합치는 건 다 가능하지만 용량은 최솟값으로\n",
    "\n",
    "# 길이, 두께는 24비트 양의 정수로 최대값: 2 ** 24\n",
    "# 2 ** 24 = 16777216 => 전체 배열로 만들어서 푸는건 메모리 초과\n",
    "# 거리에 따라 값들을 담아주기\n",
    "arr = [0] * (D + 1)\n",
    "for i in range(P):\n",
    "    # 관의 길이 / 관의 두께\n",
    "    L, C = map(int, input().split())\n",
    "    # 현재 입력받은 값과 DP 배열값을 비교해서 길이가 같지만 더 넓은 통이 있다면 큰 값을 사용\n",
    "    if C > arr[D - L]:\n",
    "        arr[D-L] = C\n",
    "    # print('입력받기전:', arr)\n",
    "    for j in range(D):\n",
    "        # 남은 길이가 관의 길이의 이상이면서 현재 값이 있는 상태면\n",
    "        if j >= L and arr[j] != 0:\n",
    "            # 현재 입력받은 관의 길이 L을 arr[j] 에 더하는 것이므로 둘 중 최솟값을 받음\n",
    "            # j-L 상태의 관과 크기를 비교해서 둘 중 더 큰 값 사용\n",
    "            arr[j-L] = max(arr[j-L], min(C, arr[j]))\n",
    "    # print('입력받은후:', arr)\n",
    "print(arr[0])"
   ]
  },
  {
   "cell_type": "code",
   "execution_count": null,
   "metadata": {},
   "outputs": [],
   "source": [
    "# 다른 사람 코드 (flyjb)\n",
    "import heapq\n",
    "from sys import stdin\n",
    "\n",
    "d, p = map(int, stdin.readline().split())\n",
    "heap = []\n",
    "for _ in range(p):\n",
    "    a, b = map(int, stdin.readline().split())\n",
    "    if a > d:\n",
    "        continue\n",
    "    heapq.heappush(heap, (-b, -a))\n",
    "\n",
    "visit = set()\n",
    "while 1:\n",
    "    c, l = heapq.heappop(heap)\n",
    "    c, l = -c, -l\n",
    "    if l == d:\n",
    "        print(c)\n",
    "        break\n",
    "\n",
    "    temp = set()\n",
    "    for pl in visit:\n",
    "        if pl + l == d:\n",
    "            print(c)\n",
    "            break\n",
    "        elif pl + l < d:\n",
    "            temp.add(pl+l)\n",
    "    else:\n",
    "        visit = visit | temp\n",
    "        visit.add(l)\n",
    "        continue\n",
    "    break"
   ]
  },
  {
   "cell_type": "markdown",
   "metadata": {},
   "source": [
    "### 경찰차 2618"
   ]
  },
  {
   "cell_type": "code",
   "execution_count": null,
   "metadata": {},
   "outputs": [],
   "source": [
    "n = int(input())\n",
    "w = int(input())\n",
    "\n",
    "def get_num(x):\n",
    "    return int(x) - 1\n",
    "\n",
    "def get_dist(coord1, coord2):\n",
    "    return abs(coord1[0] - coord2[0]) + abs(coord1[1] - coord2[1])\n",
    "\n",
    "li = [tuple(map(get_num, input().split())) for _ in range(w)]\n",
    "\n",
    "# dp[경찰차1이 현재 맡은 사건 번호][경찰차2가 현재 맡은 사건 번호], 사건 번호는 1부터 시작함\n",
    "dp = [[float('inf')] * (w + 1) for _ in range(w + 1)] # 후에 -1로 바꾸는거 고려\n",
    "dp[0][0] = 0\n",
    "_from = [[-1] * (w + 1) for _ in range(w + 1)]\n",
    "st = set()\n",
    "st.add((0, 0))\n",
    "\n",
    "cand = float('inf')\n",
    "for i in range(1, w + 1):\n",
    "    nst = set()\n",
    "    for car1_event_num, car2_event_num in st:\n",
    "        # 경찰차1이 새로운 사건 좌표로 이동하는 경우\n",
    "        nst.add((i, car2_event_num))\n",
    "        if car1_event_num == 0:\n",
    "            former_coord = (0, 0)\n",
    "        else:\n",
    "            former_coord = li[car1_event_num - 1]\n",
    "            \n",
    "        dist = get_dist(former_coord, li[i - 1])\n",
    "        if dp[car1_event_num][car2_event_num] + dist < dp[i][car2_event_num]:\n",
    "            dp[i][car2_event_num] = dp[car1_event_num][car2_event_num] + dist\n",
    "            _from[i][car2_event_num] = [car1_event_num, car2_event_num]\n",
    "        \n",
    "        # 경찰차2가 새로운 사건 좌표로 이동하는 경우\n",
    "        nst.add((car1_event_num, i))\n",
    "        if car2_event_num == 0:\n",
    "            former_coord = (n - 1, n - 1)\n",
    "        else:\n",
    "            former_coord = li[car2_event_num - 1]       \n",
    "            \n",
    "        dist = get_dist(former_coord, li[i - 1])\n",
    "        if dp[car1_event_num][car2_event_num] + dist < dp[car1_event_num][i]:\n",
    "            dp[car1_event_num][i] = dp[car1_event_num][car2_event_num] + dist\n",
    "            _from[car1_event_num][i] = [car1_event_num, car2_event_num]\n",
    "        \n",
    "    st = nst.copy()\n",
    "    \n",
    "min_dist = float('inf')\n",
    "coord = [-1, -1]\n",
    "for i in range(w):\n",
    "    if dp[i][w] < min_dist:\n",
    "        min_dist = dp[i][w]\n",
    "        coord[0] = i\n",
    "        coord[1] = w\n",
    "        \n",
    "    if dp[w][i] < min_dist:\n",
    "        min_dist = dp[w][i]\n",
    "        coord[0] = w\n",
    "        coord[1] = i\n",
    "\n",
    "result = []\n",
    "for _ in range(w):\n",
    "    if _from[coord[0]][coord[1]][0] == coord[0]:\n",
    "        result.append(2)\n",
    "    else:\n",
    "        result.append(1)\n",
    "    coord = _from[coord[0]][coord[1]]\n",
    "    \n",
    "print(min_dist)\n",
    "for i in range(w - 1, -1, -1):\n",
    "    print(result[i])"
   ]
  },
  {
   "cell_type": "code",
   "execution_count": 4,
   "metadata": {},
   "outputs": [
    {
     "name": "stdout",
     "output_type": "stream",
     "text": [
      "6\n",
      "3\n",
      "3 5\n",
      "5 5\n",
      "2 3\n",
      "9\n",
      "2\n",
      "2\n",
      "1\n"
     ]
    }
   ],
   "source": [
    "from collections import deque\n",
    "\n",
    "n = int(input())\n",
    "w = int(input())\n",
    "\n",
    "def get_num(x):\n",
    "    return int(x) - 1\n",
    "\n",
    "def get_dist(coord1, coord2):\n",
    "    return abs(coord1[0] - coord2[0]) + abs(coord1[1] - coord2[1])\n",
    "\n",
    "li = [tuple(map(get_num, input().split())) for _ in range(w)]\n",
    "\n",
    "# dp[경찰차1이 현재 맡은 사건 번호][경찰차2가 현재 맡은 사건 번호], 사건 번호는 1부터 시작함\n",
    "dp = [[float('inf')] * (w + 1) for _ in range(w + 1)]\n",
    "dp[0][0] = 0\n",
    "_from = [[-1] * (w + 1) for _ in range(w + 1)]\n",
    "\n",
    "queue = deque()\n",
    "queue.append((0, 0, 1))\n",
    "while queue:\n",
    "    car1_event_num, car2_event_num, new_event_num = queue.popleft()    \n",
    "\n",
    "    # 경찰차1이 새로운 사건 좌표로 이동하는 경우\n",
    "    if car1_event_num == 0:\n",
    "        former_coord = (0, 0)\n",
    "    else:\n",
    "        former_coord = li[car1_event_num - 1]\n",
    "\n",
    "    dist = get_dist(former_coord, li[new_event_num - 1])\n",
    "    if dp[car1_event_num][car2_event_num] + dist < dp[new_event_num][car2_event_num]:\n",
    "        dp[new_event_num][car2_event_num] = dp[car1_event_num][car2_event_num] + dist\n",
    "        _from[new_event_num][car2_event_num] = [car1_event_num, car2_event_num]\n",
    "        \n",
    "        if new_event_num < w:\n",
    "            queue.append((new_event_num, car2_event_num, new_event_num + 1))\n",
    "\n",
    "    # 경찰차2가 새로운 사건 좌표로 이동하는 경우\n",
    "    if car2_event_num == 0:\n",
    "        former_coord = (n - 1, n - 1)\n",
    "    else:\n",
    "        former_coord = li[car2_event_num - 1]       \n",
    "\n",
    "    dist = get_dist(former_coord, li[new_event_num - 1])\n",
    "    if dp[car1_event_num][car2_event_num] + dist < dp[car1_event_num][new_event_num]:\n",
    "        dp[car1_event_num][new_event_num] = dp[car1_event_num][car2_event_num] + dist\n",
    "        _from[car1_event_num][new_event_num] = [car1_event_num, car2_event_num]\n",
    "        \n",
    "        if new_event_num < w:\n",
    "            queue.append((car1_event_num, new_event_num, new_event_num + 1))\n",
    "    \n",
    "min_dist = float('inf')\n",
    "coord = [-1, -1]\n",
    "for i in range(w):\n",
    "    if dp[i][w] < min_dist:\n",
    "        min_dist = dp[i][w]\n",
    "        coord[0] = i\n",
    "        coord[1] = w\n",
    "        \n",
    "    if dp[w][i] < min_dist:\n",
    "        min_dist = dp[w][i]\n",
    "        coord[0] = w\n",
    "        coord[1] = i\n",
    "\n",
    "result = []\n",
    "for _ in range(w):\n",
    "    if _from[coord[0]][coord[1]][0] == coord[0]:\n",
    "        result.append(2)\n",
    "    else:\n",
    "        result.append(1)\n",
    "    coord = _from[coord[0]][coord[1]]\n",
    "    \n",
    "print(min_dist)\n",
    "for i in range(w - 1, -1, -1):\n",
    "    print(result[i])"
   ]
  },
  {
   "cell_type": "markdown",
   "metadata": {},
   "source": [
    "### 환상의 듀엣 11570"
   ]
  },
  {
   "cell_type": "code",
   "execution_count": 14,
   "metadata": {},
   "outputs": [
    {
     "name": "stdout",
     "output_type": "stream",
     "text": [
      "3\n",
      "3 3 5\n"
     ]
    }
   ],
   "source": [
    "n = int(input())\n",
    "li = list(map(int ,input().split()))"
   ]
  },
  {
   "cell_type": "code",
   "execution_count": 15,
   "metadata": {},
   "outputs": [
    {
     "name": "stdout",
     "output_type": "stream",
     "text": [
      "0\n"
     ]
    }
   ],
   "source": [
    "n = int(input())\n",
    "li = list(map(int ,input().split()))\n",
    "\n",
    "dp = [[float('inf')] * (n + 1) for _ in range(n + 1)] # dp[상덕이가 현재 부르는 인덱스][희원이가 현재 부르는 인덱스], 음의 인덱스는 1부터 시작\n",
    "st = set()\n",
    "st.add((0, 0))\n",
    "dp[0][0] = 0\n",
    "min_result = float('inf')\n",
    "for i in range(1, n + 1):\n",
    "    nst = set()\n",
    "    # x: 상덕이가 이전에 부른 음의 인덱스, y: 희원이가 이전에 부른 음의 인덱스\n",
    "    for x, y in st:\n",
    "        # 상덕이가 해당 음을 부르는 경우\n",
    "        if x == 0:\n",
    "            nvalue = 0\n",
    "        else:\n",
    "            nvalue = abs(li[x - 1] - li[i - 1])\n",
    "        nvalue += dp[x][y]\n",
    "        if nvalue < dp[i][y]:\n",
    "            dp[i][y] = nvalue\n",
    "            if i == n:\n",
    "                min_result = min(min_result, nvalue)\n",
    "            else:\n",
    "                nst.add((i, y))\n",
    "        # 희원이가 해당 음을 부른는 경우\n",
    "        if y == 0:\n",
    "            nvalue = 0\n",
    "        else:\n",
    "            nvalue = abs(li[y - 1] - li[i - 1])\n",
    "        nvalue += dp[x][y]\n",
    "        if nvalue < dp[x][i]:\n",
    "            dp[x][i] = nvalue\n",
    "            if i == n:\n",
    "                min_result = min(min_result, nvalue)\n",
    "            else:\n",
    "                nst.add((x, i))\n",
    "    st = nst.copy()\n",
    "    \n",
    "print(min_result)"
   ]
  },
  {
   "cell_type": "markdown",
   "metadata": {},
   "source": [
    "### 평범한 배낭 12865 (다시 풀음)"
   ]
  },
  {
   "cell_type": "code",
   "execution_count": null,
   "metadata": {},
   "outputs": [],
   "source": [
    "n, k = map(int, input().split())\n",
    "\n",
    "dp = [[0] * (k + 1) for _ in range(n + 1)]\n",
    "for i in range(1, n + 1):\n",
    "    w, v = map(int, input().split())\n",
    "\n",
    "    for j in range(k + 1):\n",
    "        if j < w:\n",
    "            dp[i][j] = max(dp[i - 1][j], dp[i][j - 1])\n",
    "        else:\n",
    "            dp[i][j] = max(dp[i - 1][j], dp[i][j - 1], dp[i - 1][j - w] + v)\n",
    "        \n",
    "print(dp[-1][-1])"
   ]
  },
  {
   "cell_type": "code",
   "execution_count": 23,
   "metadata": {},
   "outputs": [
    {
     "name": "stdout",
     "output_type": "stream",
     "text": [
      "4 5\n",
      "5 3\n",
      "5 3\n",
      "7 3\n",
      "7 4\n",
      "3\n"
     ]
    }
   ],
   "source": [
    "n, k = map(int, input().split())\n",
    "\n",
    "dp = [[0] * (k + 1) for _ in range(n + 1)]\n",
    "i = 0\n",
    "for _ in range(n):\n",
    "    w, v = map(int, input().split())\n",
    "    if w > k:\n",
    "        continue\n",
    "    i += 1\n",
    "        \n",
    "    for j in range(1, w):\n",
    "        dp[i][j] = dp[i - 1][j]\n",
    "    for j in range(w, k + 1):\n",
    "        dp[i][j] = max(dp[i - 1][j], dp[i - 1][j - w] + v)\n",
    "         \n",
    "print(dp[i][-1])"
   ]
  },
  {
   "cell_type": "markdown",
   "metadata": {},
   "source": [
    "### 평범한 배낭 2 12920"
   ]
  },
  {
   "cell_type": "code",
   "execution_count": 34,
   "metadata": {},
   "outputs": [
    {
     "name": "stdout",
     "output_type": "stream",
     "text": [
      "15 10\n",
      "2 3\n",
      "2 3\n",
      "2 3\n",
      "2 3\n",
      "2 3\n",
      "2 3\n",
      "6 10\n",
      "6 10\n",
      "1 2\n",
      "1 2\n",
      "1 2\n",
      "20 20\n",
      "20 20\n",
      "20 20\n",
      "20 20\n",
      "17\n"
     ]
    }
   ],
   "source": [
    "n, k = map(int, input().split())\n",
    "\n",
    "dp = [[0] * (k + 1) for _ in range(n + 1)]\n",
    "i = 0\n",
    "for _ in range(n):\n",
    "    w, v = map(int, input().split())\n",
    "    if w > k:\n",
    "        continue\n",
    "    i += 1\n",
    "        \n",
    "    for j in range(1, w):\n",
    "        dp[i][j] = dp[i - 1][j]\n",
    "    for j in range(w, k + 1):\n",
    "        dp[i][j] = max(dp[i - 1][j], dp[i - 1][j - w] + v)\n",
    "         \n",
    "print(dp[i][-1])"
   ]
  },
  {
   "cell_type": "code",
   "execution_count": 17,
   "metadata": {},
   "outputs": [
    {
     "name": "stdout",
     "output_type": "stream",
     "text": [
      "3 9\n",
      "8 5 1\n",
      "1 2 2\n",
      "9 4 1\n",
      "5\n"
     ]
    }
   ],
   "source": [
    "n, m = map(int, input().split())\n",
    "li = [list(map(int, input().split())) for _ in range(n)]\n",
    "li.sort(key=lambda x: x[1] / x[0])\n",
    "\n",
    "dp = [[0] * (m + 1) for _ in range(n + 1)]\n",
    "i = 0\n",
    "for w, v, k in li:\n",
    "    if w > m:\n",
    "        continue\n",
    "    i += 1\n",
    "        \n",
    "    for j in range(1, w):\n",
    "        dp[i][j] = dp[i - 1][j]\n",
    "    for j in range(w, m + 1):\n",
    "        possible_max = min(k, j // w)\n",
    "        nw = possible_max * w\n",
    "        nv = possible_max * v\n",
    "        dp[i][j] = max(dp[i - 1][j], dp[i - 1][j - nw] + nv)\n",
    "         \n",
    "print(dp[i][-1])"
   ]
  },
  {
   "cell_type": "code",
   "execution_count": 18,
   "metadata": {},
   "outputs": [
    {
     "name": "stdout",
     "output_type": "stream",
     "text": [
      "[0, 0, 0, 0, 0, 0, 0, 0, 0, 0]\n",
      "[0, 0, 0, 0, 0, 0, 0, 0, 0, 4]\n",
      "[0, 0, 0, 0, 0, 0, 0, 0, 5, 5]\n",
      "[0, 2, 4, 4, 4, 4, 4, 4, 5, 5]\n"
     ]
    }
   ],
   "source": [
    "for v in dp:\n",
    "    print(v)"
   ]
  },
  {
   "cell_type": "code",
   "execution_count": null,
   "metadata": {},
   "outputs": [],
   "source": [
    "4 10\n",
    "2 3 6\n",
    "6 10 2\n",
    "1 2 3\n",
    "20 20 4\n",
    "output: 18"
   ]
  },
  {
   "cell_type": "markdown",
   "metadata": {},
   "source": [
    "### 사탕 가게 4781 "
   ]
  },
  {
   "cell_type": "code",
   "execution_count": null,
   "metadata": {},
   "outputs": [],
   "source": [
    "### 가성비가 좋은 것들부터 돌리고 마지막 무게가 차는 즉시 종료함\n",
    "\n",
    "### 가성비가 안좋은 것들부터 돌리고 무조건 대체의 방법을 사용함"
   ]
  },
  {
   "cell_type": "code",
   "execution_count": null,
   "metadata": {},
   "outputs": [],
   "source": [
    "from collections import deque\n",
    "import sys\n",
    "from decimal import getcontext, Decimal\n",
    "getcontext().prec = 10\n",
    "# input = sys.stdin.readline\n",
    "\n",
    "def get_value(value):\n",
    "    return int(Decimal(value) * Decimal('100'))\n",
    "\n",
    "while True:\n",
    "    n, m = map(float, input().rstrip().split())\n",
    "    n = int(n)\n",
    "    if n == 0:\n",
    "        break    \n",
    "    m = get_value(m)\n",
    "\n",
    "    li = []\n",
    "    for _ in range(n):\n",
    "        c, p = map(float, input().rstrip().split())\n",
    "        c = int(c)\n",
    "        p = get_value(p)\n",
    "        li.append((c, p))\n",
    "\n",
    "    li.sort(key=lambda x: x[0] / x[1])\n",
    "    \n",
    "    base = [0] * (m + 1)\n",
    "    dp = deque()\n",
    "    dp.append(base[:])\n",
    "    for i in range(n):\n",
    "        c, p = li[i]\n",
    "        if p > m:\n",
    "            continue\n",
    "        \n",
    "        dp.append(base[:])\n",
    "        for j in range(1, p):\n",
    "            dp[1][j] = dp[0][j]\n",
    "        for j in range(p, m + 1):\n",
    "            dp[1][j] = max(dp[0][j], dp[0][j - (j // p) * p] + (j // p) * c)\n",
    "        dp.popleft()\n",
    "                \n",
    "    print(dp[-1][-1])"
   ]
  },
  {
   "cell_type": "markdown",
   "metadata": {},
   "source": [
    "### 방법을 출력하지 않는 숫자 맞추기 13392"
   ]
  },
  {
   "cell_type": "raw",
   "metadata": {},
   "source": [
    "위에서 아래의 방향으로만 영향을 끼치므로 위에서 아래로 가는 방식을 사용함\n",
    "\n",
    "현재 상황에서 왼쪽으로 돌려서 목표를 만들거나 오른쪽으로 돌려서 목표를 만드는 것이 최선임\n",
    "하지만 완전탐색으로 하면 O(2^n)의 시간복잡도가 나옴\n",
    "\n",
    "왼쪽으로 돌리는(+) 횟수의 누적을 저장함 (한 바퀴 돌리는 것은 의미가 없으므로 왼쪽으로 돌리는 횟수의 누적은 %를 써서 9 이하로 만들어줄 필요가 있음)\n",
    "\n",
    "0~9까지의 수는 -+ 연산으로 이동하며 %연산으로 셈\n",
    "\n",
    "dp 테이블의 값에는 움직인 칸 수를 채워 넣어야 하는 것으로 추정됨\n",
    "n이 10000인 것으로 보아 n이 dp 테이블의 가로나 세로가 되어야 할 것 같음\n",
    "\n",
    "i로는 n을 j로는 왼쪽으로 돌리는 횟수의 누적으로 하면 어떨까? (n * 10) dp[i][j]\n",
    "초기값은 float('inf')로 설정함\n",
    "\n",
    "현재가 목표보다 크면 목표 + 10해서 왼쪽으로 돌려야하는 횟수를 계산함\n",
    "목표가 현재보다 크면 현재 + 10해서 오른쪽으로 돌려야하는 횟수를 계산함"
   ]
  },
  {
   "cell_type": "code",
   "execution_count": 7,
   "metadata": {},
   "outputs": [
    {
     "name": "stdout",
     "output_type": "stream",
     "text": [
      "3\n",
      "194\n",
      "928\n",
      "6\n"
     ]
    }
   ],
   "source": [
    "n = int(input())\n",
    "a = list(map(int, input()))\n",
    "b = list(map(int, input()))\n",
    "\n",
    "def get_count_to_move(current, target, to_left=False):\n",
    "    if to_left:\n",
    "        if current > target:\n",
    "            target += 10\n",
    "        return target - current    \n",
    "    else:\n",
    "        if target > current:\n",
    "            current += 10\n",
    "        return current - target\n",
    "\n",
    "# dp[i][j]: 숫자나사 i - 1에서 왼쪽으로 돌려야만하는 횟수 j에 목표로 가기위해 필요한 누적 회전 수\n",
    "dp = [[float('inf')] * 10 for _ in range(n)]\n",
    "count = get_count_to_move(a[0], b[0], True) # 왼쪽 이동시\n",
    "dp[0][count] = count\n",
    "dp[0][0] = get_count_to_move(a[0], b[0], False) # 오른쪽 이동시\n",
    "\n",
    "for i in range(1, n):\n",
    "    for j in range(10):\n",
    "        if dp[i - 1][j] == float('inf'):\n",
    "            continue\n",
    "        current = (a[i] + j) % 10\n",
    "        target = b[i]\n",
    "        \n",
    "        count = get_count_to_move(current, target, True) # 왼쪽 이동시\n",
    "        nj = (j + count) % 10\n",
    "        dp[i][nj] = min(dp[i][nj], dp[i - 1][j] + count)\n",
    "        \n",
    "        count = get_count_to_move(current, target, False) # 오른쪽 이동시\n",
    "        dp[i][j] = min(dp[i][j], dp[i - 1][j] + count)\n",
    "        \n",
    "print(min(dp[-1]))"
   ]
  },
  {
   "cell_type": "markdown",
   "metadata": {},
   "source": [
    "### 햄최몇? "
   ]
  },
  {
   "cell_type": "raw",
   "metadata": {},
   "source": [
    "막내가 얻을 수 있는 최대 효용은 삼각형의 가장 짧은 변의 길이와 같이 절대 전체 총합의 1/3을 넘길 수 없다.\n",
    "하지만 이 조건만 가지고 최대치를 구하기에는 10, 11, 1000과 같은 케이스도 존재한다.\n",
    "\n",
    "n이 3보다 작으면 0밖에 답이 될 수밖에 없음\n",
    "n이 3이면 가장 작은 값이 답이 될 수밖에 없음\n"
   ]
  },
  {
   "cell_type": "code",
   "execution_count": null,
   "metadata": {},
   "outputs": [],
   "source": [
    "10 12 15 1000\n",
    "\n",
    "1000\n",
    "10 12\n",
    "15\n",
    "\n",
    "10 12 15 16\n",
    "\n",
    "10 12\n",
    "16\n",
    "15\n",
    "\n",
    "1 10 100 1000\n",
    "\n",
    "1000\n",
    "100\n",
    "10 1"
   ]
  },
  {
   "cell_type": "code",
   "execution_count": null,
   "metadata": {},
   "outputs": [],
   "source": [
    "33000"
   ]
  },
  {
   "cell_type": "markdown",
   "metadata": {},
   "source": [
    "### 두 가중치 12930"
   ]
  },
  {
   "cell_type": "raw",
   "metadata": {},
   "source": [
    "1에 도착했을 때 구해진 값을 기준으로 계속 갱신해주면 어떨까?"
   ]
  },
  {
   "cell_type": "code",
   "execution_count": null,
   "metadata": {},
   "outputs": [],
   "source": [
    "171 자체를 인덱스와 합 두 개로 이용한다면?\n",
    "\n",
    "dp[a의 합] = b의 합\n",
    "\n",
    "2: [0, 0, 0, 0, 6, 0, 0, 0, 0, 7, 0, 0, ...]\n",
    "현재 (4, 6), (9, 7)\n",
    "    \n",
    "2 -> 4에서 가중치 (1, 2) 추가시\n",
    "(5, 8), (10, 9)\n",
    "\n",
    "4: [0, 0, 0, 0, 0, min(원래 이 자리 값, 6 + 2), 0, 0, 0, 0, 7]\n",
    "    \n",
    "원래값 갱신시 다음으로 넘김\n",
    "\n",
    "\n",
    "[0, 9, f, f, f, f, f, f, f]"
   ]
  },
  {
   "cell_type": "code",
   "execution_count": 53,
   "metadata": {},
   "outputs": [
    {
     "name": "stdout",
     "output_type": "stream",
     "text": [
      "6\n",
      ".....9\n",
      "..9...\n",
      ".9.9..\n",
      "..9.9.\n",
      "...9.9\n",
      "9...9.\n",
      ".....9\n",
      "..9...\n",
      ".9.9..\n",
      "..9.9.\n",
      "...9.9\n",
      "9...9.\n",
      "2025\n"
     ]
    }
   ],
   "source": [
    "from collections import deque\n",
    "\n",
    "n = int(input())\n",
    "\n",
    "A = [input() for _ in range(n)]\n",
    "B = [input() for _ in range(n)]\n",
    "\n",
    "graph = [[] for _ in range(n)]\n",
    "for i in range(n):\n",
    "    for j in range(i, n):\n",
    "        if A[i][j] == '.':\n",
    "            continue\n",
    "        graph[i].append((j, int(A[i][j]), int(B[i][j])))\n",
    "        graph[j].append((i, int(A[i][j]), int(B[i][j])))\n",
    "\n",
    "dp = [[float('inf')] * 172 for _ in range(n)] # dp[노드 번호][a의 합] = b의 합\n",
    "dp[0][0] = 0\n",
    "queue = deque()\n",
    "queue.append(0)\n",
    "\n",
    "while queue:\n",
    "    value = queue.popleft()\n",
    "    for v, a, b in graph[value]:\n",
    "        is_updated = False\n",
    "        for former_a_sum in range(172):\n",
    "            if dp[value][former_a_sum] != float('inf') and former_a_sum + a <= 171:\n",
    "                if dp[value][former_a_sum] + b < dp[v][former_a_sum + a]:\n",
    "                    dp[v][former_a_sum + a] = dp[value][former_a_sum] + b\n",
    "                    is_updated = True\n",
    "        if is_updated:\n",
    "            queue.append(v)\n",
    "            \n",
    "min_result = float('inf')\n",
    "for a_sum in range(1, 172):\n",
    "    min_result = min(min_result, a_sum * dp[1][a_sum])\n",
    "    \n",
    "if min_result == float('inf'):\n",
    "    print(-1)\n",
    "else:\n",
    "    print(min_result)"
   ]
  },
  {
   "cell_type": "code",
   "execution_count": null,
   "metadata": {},
   "outputs": [],
   "source": [
    "만약 heap에 (a합 * b합, a합, b합, 노드 번호) 방식으로 저장하면 어떨까?\n",
    "dp 테이블은 필요시 이용함"
   ]
  },
  {
   "cell_type": "code",
   "execution_count": 9,
   "metadata": {},
   "outputs": [
    {
     "name": "stdout",
     "output_type": "stream",
     "text": [
      "2\n",
      "..\n",
      "..\n",
      "..\n",
      "..\n",
      "-1\n"
     ]
    }
   ],
   "source": [
    "from heapq import heappush, heappop\n",
    "\n",
    "n = int(input())\n",
    "\n",
    "A = [input() for _ in range(n)]\n",
    "B = [input() for _ in range(n)]\n",
    "\n",
    "graph = [[] for _ in range(n)]\n",
    "for i in range(n):\n",
    "    for j in range(i, n):\n",
    "        if A[i][j] == '.':\n",
    "            continue\n",
    "        graph[i].append((j, int(A[i][j]), int(B[i][j])))\n",
    "        graph[j].append((i, int(A[i][j]), int(B[i][j])))\n",
    "\n",
    "dp = [[float('inf')] * 172 for _ in range(n)] # dp[노드 번호][a의 합] = b의 합\n",
    "dp[0][0] = 0\n",
    "\n",
    "heap = []\n",
    "heappush(heap, (0, 0, 0, 0))\n",
    "\n",
    "while heap:\n",
    "    sum_value, sum_a, sum_b, value = heappop(heap)\n",
    "    for v, a, b in graph[value]:\n",
    "        nsum_a = sum_a + a\n",
    "        nsum_b = sum_b + b\n",
    "        if nsum_a <= 171 and dp[value][sum_a] + b < dp[v][nsum_a]:\n",
    "            dp[v][nsum_a] = dp[value][sum_a] + b\n",
    "            heappush(heap, (nsum_a * nsum_b, nsum_a, nsum_b, v))\n",
    "    \n",
    "min_result = float('inf')\n",
    "for a_sum in range(1, 172):\n",
    "    min_result = min(min_result, a_sum * dp[1][a_sum])\n",
    "    \n",
    "if min_result == float('inf'):\n",
    "    print(-1)\n",
    "else:\n",
    "    print(min_result)"
   ]
  },
  {
   "cell_type": "markdown",
   "metadata": {},
   "source": [
    "### 팰린드롬 파티션 2705"
   ]
  },
  {
   "cell_type": "code",
   "execution_count": 6,
   "metadata": {},
   "outputs": [
    {
     "name": "stdout",
     "output_type": "stream",
     "text": [
      "3\n",
      "4\n",
      "4\n",
      "5\n",
      "4\n",
      "6\n",
      "8\n"
     ]
    }
   ],
   "source": [
    "dp = [0] * 1001\n",
    "dp[0] = dp[1] = 1\n",
    "\n",
    "for i in range(2, 1001):\n",
    "    temp = 0\n",
    "    for j in range(i - 2, -1, -2):\n",
    "        temp += dp[j]\n",
    "    dp[i] = temp + 1\n",
    "\n",
    "for _ in range(int(input())):\n",
    "    print(dp[int(input())])"
   ]
  },
  {
   "cell_type": "markdown",
   "metadata": {},
   "source": [
    "### 카드게임 10835"
   ]
  },
  {
   "cell_type": "code",
   "execution_count": 58,
   "metadata": {},
   "outputs": [
    {
     "name": "stdout",
     "output_type": "stream",
     "text": [
      "5\n",
      "3 1 1 2 5\n",
      "4 1 1 1 4\n",
      "5 5\n",
      "4 4\n",
      "3 3\n",
      "2 2\n",
      "2 1\n",
      "1 0\n",
      "1 1\n",
      "1 0\n",
      "2 3\n",
      "2 2\n",
      "2 1\n",
      "1 1\n",
      "1 0\n",
      "3 4\n",
      "2 4\n",
      "2 3\n",
      "2 2\n",
      "2 1\n",
      "1 1\n",
      "1 0\n",
      "4 5\n",
      "3 5\n",
      "2 5\n",
      "1 4\n",
      "1 3\n",
      "1 2\n",
      "1 5\n",
      "1 4\n",
      "1 3\n",
      "1 2\n",
      "1 1\n",
      "1 0\n",
      "11\n"
     ]
    }
   ],
   "source": [
    "n = int(input())\n",
    "a = list(map(int, input().split()))\n",
    "b = list(map(int, input().split()))\n",
    "\n",
    "a.reverse()\n",
    "b.reverse()\n",
    "\n",
    "dp = [[-1] * (n + 1) for _ in range(n + 1)]\n",
    "dp[n][n] = 0\n",
    "\n",
    "def solve(i, j):\n",
    "    print(i, j)\n",
    "        \n",
    "    if i == 0 or j == 0:\n",
    "        return\n",
    "    if a[i - 1] > b[j - 1]:\n",
    "        nvalue = dp[i][j] + b[j - 1]\n",
    "        if nvalue > dp[i][j - 1]:\n",
    "            dp[i][j - 1] = nvalue\n",
    "            solve(i, j - 1)\n",
    "        return\n",
    "    if dp[i][j] > dp[i - 1][j - 1]:\n",
    "        dp[i - 1][j - 1] = dp[i][j]\n",
    "        solve(i - 1, j - 1)\n",
    "    if dp[i][j] > dp[i - 1][j]:\n",
    "        dp[i - 1][j] = dp[i][j]\n",
    "        solve(i - 1, j)      \n",
    "    \n",
    "solve(n, n)\n",
    "\n",
    "max_score = 0\n",
    "for i in range(n + 1):\n",
    "    max_score = max(max_score, dp[0][i], dp[i][0])\n",
    "\n",
    "print(max_score)"
   ]
  },
  {
   "cell_type": "code",
   "execution_count": null,
   "metadata": {},
   "outputs": [],
   "source": [
    "import sys\n",
    "sys.setrecursionlimit(1000000)\n",
    "\n",
    "n = int(input())\n",
    "a = list(map(int, input().split()))\n",
    "b = list(map(int, input().split()))\n",
    "\n",
    "a.reverse()\n",
    "b.reverse()\n",
    "\n",
    "dp = [[-1] * (n + 1) for _ in range(n + 1)]\n",
    "dp[n][n] = 0\n",
    "\n",
    "def solve(i, j):\n",
    "    if i == 0 or j == 0:\n",
    "        return\n",
    "    if a[i - 1] > b[j - 1]:\n",
    "        nvalue = dp[i][j] + b[j - 1]\n",
    "        if nvalue > dp[i][j - 1]:\n",
    "            dp[i][j - 1] = nvalue\n",
    "            solve(i, j - 1)\n",
    "        return\n",
    "    if dp[i][j] > dp[i - 1][j - 1]:\n",
    "        dp[i - 1][j - 1] = dp[i][j]\n",
    "        solve(i - 1, j - 1)\n",
    "    if dp[i][j] > dp[i - 1][j]:\n",
    "        dp[i - 1][j] = dp[i][j]\n",
    "        solve(i - 1, j)      \n",
    "    \n",
    "solve(n, n)\n",
    "\n",
    "max_score = 0\n",
    "for i in range(n + 1):\n",
    "    max_score = max(max_score, dp[0][i], dp[i][0])\n",
    "\n",
    "print(max_score)"
   ]
  }
 ],
 "metadata": {
  "kernelspec": {
   "display_name": "Python 3",
   "language": "python",
   "name": "python3"
  },
  "language_info": {
   "codemirror_mode": {
    "name": "ipython",
    "version": 3
   },
   "file_extension": ".py",
   "mimetype": "text/x-python",
   "name": "python",
   "nbconvert_exporter": "python",
   "pygments_lexer": "ipython3",
   "version": "3.7.3"
  }
 },
 "nbformat": 4,
 "nbformat_minor": 4
}
