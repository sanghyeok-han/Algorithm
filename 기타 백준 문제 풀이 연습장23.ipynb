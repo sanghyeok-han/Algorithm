{
 "cells": [
  {
   "cell_type": "markdown",
   "metadata": {},
   "source": [
    "### 공 포장하기 12981"
   ]
  },
  {
   "cell_type": "code",
   "execution_count": 23,
   "metadata": {},
   "outputs": [
    {
     "name": "stdout",
     "output_type": "stream",
     "text": [
      "1 9 9\n",
      "7\n"
     ]
    }
   ],
   "source": [
    "r, g, b = map(int, input().split())\n",
    "\n",
    "c = r // 3 + g // 3 + b // 3\n",
    "\n",
    "r %= 3\n",
    "g %= 3\n",
    "b %= 3\n",
    "\n",
    "while r and g and b:\n",
    "    r -= 1\n",
    "    g -= 1\n",
    "    b -= 1\n",
    "    c += 1\n",
    "    \n",
    "if r == 2:\n",
    "    r -= 2\n",
    "    c += 1\n",
    "elif g == 2:\n",
    "    g -= 2\n",
    "    c += 1\n",
    "elif b == 2:\n",
    "    b -= 2\n",
    "    c += 1\n",
    "\n",
    "c += (r or g or b)\n",
    "    \n",
    "print(c)"
   ]
  },
  {
   "cell_type": "markdown",
   "metadata": {},
   "source": [
    "https://www.acmicpc.net/problem/9869 Milk Scheduling"
   ]
  },
  {
   "cell_type": "code",
   "execution_count": 1,
   "metadata": {},
   "outputs": [
    {
     "name": "stdout",
     "output_type": "stream",
     "text": [
      "4\n",
      "10 3\n",
      "7 5\n",
      "8 1\n",
      "2 1\n",
      "25\n"
     ]
    }
   ],
   "source": [
    "from heapq import heappush, heappop\n",
    "import sys\n",
    "input = lambda: sys.stdin.readline().rstrip()\n",
    "\n",
    "n = int(input())\n",
    "li = [list(map(int, input().split())) for _ in range(n)]\n",
    "\n",
    "li.sort(key=lambda x: -x[1])\n",
    "\n",
    "heap = []\n",
    "for dl in range(1, 10001):\n",
    "    while li and li[-1][-1] == dl:  \n",
    "        heappush(heap, li.pop()[0])\n",
    "        \n",
    "    while len(heap) > dl:\n",
    "        heappop(heap)\n",
    "        \n",
    "result = sum(heap)\n",
    "\n",
    "print(result)"
   ]
  },
  {
   "cell_type": "markdown",
   "metadata": {},
   "source": [
    "A"
   ]
  },
  {
   "cell_type": "code",
   "execution_count": 1,
   "metadata": {},
   "outputs": [
    {
     "name": "stdout",
     "output_type": "stream",
     "text": [
      "MOIISB\n",
      "YES\n"
     ]
    }
   ],
   "source": [
    "s = input()\n",
    "\n",
    "word = \"MOBIS\"\n",
    "\n",
    "ip = True\n",
    "for v in word:\n",
    "    if v not in s:\n",
    "        ip = False\n",
    "        break\n",
    "        \n",
    "if ip:\n",
    "    print('YES')\n",
    "else:\n",
    "    print('NO')"
   ]
  },
  {
   "cell_type": "markdown",
   "metadata": {},
   "source": [
    "B"
   ]
  },
  {
   "cell_type": "code",
   "execution_count": 3,
   "metadata": {},
   "outputs": [
    {
     "name": "stdout",
     "output_type": "stream",
     "text": [
      "5\n",
      "8 3 6 7 5\n",
      "26\n"
     ]
    }
   ],
   "source": [
    "n = int(input())\n",
    "li = list(map(int, input().split()))\n",
    "\n",
    "sv = sum(li)\n",
    "\n",
    "if sv % 2 == 0:\n",
    "    print(sv)\n",
    "else:\n",
    "    max_r = 0\n",
    "    for v in li:\n",
    "        if (sv - v) % 2 == 0:\n",
    "            max_r = max(max_r, (sv - v))\n",
    "            \n",
    "    print(max_r)"
   ]
  },
  {
   "cell_type": "markdown",
   "metadata": {},
   "source": [
    "https://www.acmicpc.net/problem/28140 빨강~ 빨강~ 파랑! 파랑! 달콤한 솜사탕! "
   ]
  },
  {
   "cell_type": "code",
   "execution_count": 5,
   "metadata": {},
   "outputs": [
    {
     "name": "stdout",
     "output_type": "stream",
     "text": [
      "10 4\n",
      "QRSRWBRBSB\n",
      "0 7\n",
      "1 3 5 7\n",
      "1 6\n",
      "-1\n",
      "0 9\n",
      "3 6 7 9\n",
      "3 9\n",
      "3 6 7 9\n"
     ]
    }
   ],
   "source": [
    "import sys\n",
    "input = lambda: sys.stdin.readline().rstrip()\n",
    "\n",
    "n, q = map(int, input().split())\n",
    "s = input()\n",
    "\n",
    "rrs = [[] for _ in range(n)] # recent rs\n",
    "rbs = [[] for _ in range(n)] # recent bs\n",
    "\n",
    "if s[0] == 'R':\n",
    "    rrs[0].append(0)\n",
    "elif s[0] == 'B':\n",
    "    rbs[0].append(0)\n",
    "\n",
    "for i in range(1, n):\n",
    "    rrs[i] = rrs[i - 1].copy()\n",
    "    rbs[i] = rbs[i - 1].copy()\n",
    "    \n",
    "    if s[i] == 'R':\n",
    "        if len(rrs[i]) == 2:\n",
    "            rrs[i].pop(0)\n",
    "        rrs[i].append(i)\n",
    "    elif s[i] == 'B':\n",
    "        if len(rbs[i]) == 2:\n",
    "            rbs[i].pop(0)\n",
    "        rbs[i].append(i)\n",
    "\n",
    "for _ in range(q):\n",
    "    l, r = map(int, input().split())\n",
    "    \n",
    "    if len(rbs[r]) < 2:\n",
    "        print(-1)\n",
    "    elif rbs[r][0] < l:\n",
    "        print(-1)\n",
    "    else:\n",
    "        cur = rbs[r][0] - 1\n",
    "        \n",
    "        if len(rrs[cur]) < 2:\n",
    "            print(-1)\n",
    "        elif rrs[cur][0] < l:\n",
    "            print(-1)\n",
    "        else:\n",
    "            print(rrs[cur][0], rrs[cur][1], rbs[r][0], rbs[r][1])"
   ]
  },
  {
   "cell_type": "markdown",
   "metadata": {},
   "source": [
    "https://www.acmicpc.net/problem/28070 유니의 편지 쓰기"
   ]
  },
  {
   "cell_type": "code",
   "execution_count": 18,
   "metadata": {},
   "outputs": [
    {
     "name": "stdout",
     "output_type": "stream",
     "text": [
      "2023-04\n"
     ]
    }
   ],
   "source": [
    "from heapq import heappush, heappop\n",
    "import sys\n",
    "input = lambda: sys.stdin.readline().rstrip()\n",
    "\n",
    "def reduce(y, m):\n",
    "    ym = y * 12 + m\n",
    "    \n",
    "    return ym\n",
    "\n",
    "def expand(ym):\n",
    "    m = ym % 12\n",
    "    y = ym // 12\n",
    "    \n",
    "    if m == 0:\n",
    "        m = 12\n",
    "        y -= 1\n",
    "    \n",
    "    return (y, m)\n",
    "\n",
    "n = int(input())\n",
    "li = [input().split() for _ in range(n)]\n",
    "\n",
    "nli = []\n",
    "for s, e in li:\n",
    "    sy, sm = map(int, s.split('-'))\n",
    "    ey, em = map(int, e.split('-'))\n",
    "    \n",
    "    nli.append([reduce(sy, sm), reduce(ey, em)])\n",
    "    \n",
    "nli.sort(key=lambda x: (x[0], [1]))\n",
    "\n",
    "time_start = reduce(2000, 1)\n",
    "time_end = reduce(9999, 12)\n",
    "\n",
    "max_c = 0\n",
    "max_c_tm = ''\n",
    "end_ym_heap = []\n",
    "cur_i = 0\n",
    "for cur_ym in range(time_start, time_end + 1):\n",
    "    while cur_i < n and nli[cur_i][0] == cur_ym:\n",
    "        heappush(end_ym_heap, nli[cur_i][1])\n",
    "        cur_i += 1\n",
    "        \n",
    "    while end_ym_heap and end_ym_heap[0] < cur_ym:\n",
    "        heappop(end_ym_heap)\n",
    "        \n",
    "    c = len(end_ym_heap)\n",
    "    if c > max_c:\n",
    "        max_c = c\n",
    "        max_c_tm = expand(cur_ym)\n",
    "        \n",
    "result_y, result_m = max_c_tm\n",
    "result_m = str(result_m).rjust(2, '0')\n",
    "\n",
    "result = f'{result_y}-{result_m}'\n",
    "\n",
    "print(result)"
   ]
  },
  {
   "cell_type": "markdown",
   "metadata": {},
   "source": [
    "https://www.acmicpc.net/problem/28069 김밥천국의 계단"
   ]
  },
  {
   "cell_type": "code",
   "execution_count": null,
   "metadata": {},
   "outputs": [],
   "source": [
    "0\n",
    "\n",
    "0 1\n",
    "\n",
    "0 1 2\n",
    "\n",
    "0 1 2 3\n",
    "\n",
    "0 1 2 3 4\n",
    "\n",
    "0 1 2 3 4 5 6\n",
    "\n",
    "0 1 2 3 4 5 6 7 "
   ]
  },
  {
   "cell_type": "code",
   "execution_count": 3,
   "metadata": {},
   "outputs": [
    {
     "name": "stdout",
     "output_type": "stream",
     "text": [
      "1000000 1000000\n",
      "minigimbob\n"
     ]
    }
   ],
   "source": [
    "from collections import deque\n",
    "\n",
    "n, k = map(int, input().split())\n",
    "\n",
    "vt = [False] * (n + 1)\n",
    "queue = deque()\n",
    "queue.append(0)\n",
    "vt[0] = True\n",
    "\n",
    "for _ in range(k):\n",
    "    for _ in range(len(queue)):\n",
    "        value = queue.popleft()\n",
    "        \n",
    "        v1 = value + 1\n",
    "        v2 = value + value // 2\n",
    "        \n",
    "        if v1 <= n and not vt[v1]:\n",
    "            vt[v1] = True\n",
    "            queue.append(v1)\n",
    "                 \n",
    "        if v2 <= n and not vt[v2]:\n",
    "            vt[v2] = True\n",
    "            queue.append(v2)\n",
    "            \n",
    "if vt[n]:\n",
    "    print('minigimbob')\n",
    "else:\n",
    "    print('water')\n",
    "    "
   ]
  },
  {
   "cell_type": "markdown",
   "metadata": {},
   "source": [
    "https://www.acmicpc.net/problem/28242 수학 선생님의 고민(Hard)"
   ]
  },
  {
   "cell_type": "code",
   "execution_count": 6,
   "metadata": {},
   "outputs": [
    {
     "name": "stdout",
     "output_type": "stream",
     "text": [
      "1\n",
      "1 3 1 -1\n"
     ]
    }
   ],
   "source": [
    "inf = float('inf')\n",
    "\n",
    "def get_divisors(num):\n",
    "    divisors = []\n",
    "    for mod in range(1, int(num ** 0.5)):\n",
    "        if num % mod == 0:\n",
    "            divisors.append(mod)\n",
    "            divisors.append(num // mod)\n",
    "            \n",
    "    mod = int(num ** 0.5)\n",
    "    if num % mod == 0:\n",
    "        divisors.append(mod)\n",
    "        if num // mod != mod:\n",
    "            divisors.append(num // mod)\n",
    "            \n",
    "    return sorted(divisors)\n",
    "\n",
    "n = int(input())\n",
    "\n",
    "a_cands = get_divisors(n)\n",
    "b_cands = get_divisors(n + 2)\n",
    "\n",
    "ra = rb = rc = rd = inf\n",
    "for a in a_cands:\n",
    "    c = n // a\n",
    "    \n",
    "    for b in b_cands:\n",
    "        d = (n + 2) // b\n",
    "        \n",
    "        if a * d - b * c == n + 1:\n",
    "            ra = a\n",
    "            rb = -b\n",
    "            rc = c\n",
    "            rd = d\n",
    "        elif b * c - a * d == n + 1:\n",
    "            ra = a\n",
    "            rb = b\n",
    "            rc = c\n",
    "            rd = -d \n",
    "            \n",
    "if ra == inf:\n",
    "    print(-1)\n",
    "else:\n",
    "    print(ra, rb, rc, rd)"
   ]
  },
  {
   "cell_type": "markdown",
   "metadata": {},
   "source": [
    "https://www.acmicpc.net/problem/28018 시간이 겹칠까?"
   ]
  },
  {
   "cell_type": "code",
   "execution_count": 9,
   "metadata": {},
   "outputs": [
    {
     "name": "stdout",
     "output_type": "stream",
     "text": [
      "2\n",
      "1 5\n",
      "3 6\n",
      "3\n",
      "2 3 7\n",
      "1\n",
      "2\n",
      "0\n"
     ]
    }
   ],
   "source": [
    "import io, os, sys\n",
    "input = io.BytesIO(os.read(0, os.fstat(0).st_size)).readline\n",
    "\n",
    "n = int(input())\n",
    "\n",
    "deltas = [0] * 1000002\n",
    "for _ in range(n):\n",
    "    s, e = map(int, input().split())\n",
    "    \n",
    "    deltas[s] += 1\n",
    "    deltas[e + 1] -= 1\n",
    "    \n",
    "counts = [0] * 1000002\n",
    "cur_delta = 0\n",
    "for i in range(1000001):\n",
    "    cur_delta += deltas[i]\n",
    "    counts[i] = cur_delta\n",
    "    \n",
    "q = int(input())\n",
    "[print(counts[v]) for v in map(int, input().split())]"
   ]
  },
  {
   "cell_type": "markdown",
   "metadata": {},
   "source": [
    "https://www.acmicpc.net/problem/1602 도망자 원숭이"
   ]
  },
  {
   "cell_type": "code",
   "execution_count": null,
   "metadata": {},
   "outputs": [],
   "source": [
    "import io, os, sys\n",
    "input = io.BytesIO(os.read(0, os.fstat(0).st_size)).readline\n",
    "\n",
    "inf = float('inf')\n",
    "\n",
    "n, m, q = map(int, input().split())\n",
    "delays = [inf] + list(map(int, input().split()))\n",
    "\n",
    "min_dists = [[inf] * (n + 1) for _ in range(n + 1)]\n",
    "min_spents = [[inf] * (n + 1) for _ in range(n + 1)]\n",
    "max_delays = [[0] * (n + 1) for _ in range(n + 1)]\n",
    "for i in range(m):\n",
    "    a, b, d = map(int, input().split())\n",
    "    \n",
    "    min_dists[a][b] = min(min_dists[a][b], d)\n",
    "    min_dists[b][a] = min(min_dists[b][a], d)\n",
    "    \n",
    "    max_delays[a][b] = max(delays[a], delays[b])\n",
    "    max_delays[b][a] = max(delays[a], delays[b])\n",
    "    \n",
    "    min_spents[a][b] = min_dists[a][b] + max_delays[a][b]\n",
    "    min_spents[b][a] = min_dists[b][a] + max_delays[b][a]\n",
    "        \n",
    "ndelays = [[v, i] for i, v in enumerate(delays)]\n",
    "ndelays.sort(key=lambda x: x[0])\n",
    "seq = [ndelays[i][1] for i in range(n + 1)]\n",
    "\n",
    "for i in range(n + 1):\n",
    "    min_dists[i][i] = 0\n",
    "    max_delays[i][i] = delays[i]\n",
    "    min_spents[i][i] = 0\n",
    "\n",
    "for mid in seq:\n",
    "    for i in seq:\n",
    "        for j in seq:\n",
    "            dist = min_dists[i][mid] + min_dists[mid][j]\n",
    "            if dist < min_dists[i][j]:\n",
    "                min_dists[i][j] = dist\n",
    "                max_delays[i][j] = max(max_delays[i][mid], max_delays[mid][j])\n",
    "                spent = dist + max_delays[i][j]\n",
    "                min_spents[i][j] = min(min_spents[i][j], spent)\n",
    "                \n",
    "for _ in range(q):\n",
    "    s, t = map(int, input().split())\n",
    "    \n",
    "    spent = min_spents[s][t]\n",
    "    \n",
    "    if spent == inf:\n",
    "        print(-1)\n",
    "    else:\n",
    "        print(spent)"
   ]
  }
 ],
 "metadata": {
  "kernelspec": {
   "display_name": "Python 3",
   "language": "python",
   "name": "python3"
  },
  "language_info": {
   "codemirror_mode": {
    "name": "ipython",
    "version": 3
   },
   "file_extension": ".py",
   "mimetype": "text/x-python",
   "name": "python",
   "nbconvert_exporter": "python",
   "pygments_lexer": "ipython3",
   "version": "3.8.3"
  }
 },
 "nbformat": 4,
 "nbformat_minor": 4
}
