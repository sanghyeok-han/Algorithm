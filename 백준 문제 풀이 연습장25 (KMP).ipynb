{
 "cells": [
  {
   "cell_type": "markdown",
   "metadata": {},
   "source": [
    "#### KMP 기초 (nhk9503 깃헙, 코드 참고)"
   ]
  },
  {
   "cell_type": "raw",
   "metadata": {},
   "source": [
    "각 인덱스 기준으로 패턴의 길이만큼 접미사가 일치하는 최대 개수를 반환"
   ]
  },
  {
   "cell_type": "code",
   "execution_count": 33,
   "metadata": {},
   "outputs": [],
   "source": [
    "# 반례: aabaaa\n",
    "def get_mc(p):\n",
    "    '''get matched counts, p: 패턴'''\n",
    "    \n",
    "    n = len(p)\n",
    "    mcs = [0] * n # matched_counts\n",
    "    \n",
    "    for i in range(1, n):\n",
    "        if p[i] == p[mcs[i - 1]]:\n",
    "            mcs[i] = mcs[i - 1] + 1\n",
    "        elif p[i] == p[0]:\n",
    "            mcs[i] = 1\n",
    "    return mcs"
   ]
  },
  {
   "cell_type": "markdown",
   "metadata": {},
   "source": [
    "### 부분 문자열 16916"
   ]
  },
  {
   "cell_type": "code",
   "execution_count": 59,
   "metadata": {},
   "outputs": [
    {
     "name": "stdout",
     "output_type": "stream",
     "text": [
      "baekjoon\n",
      "baekjoon\n",
      "1\n"
     ]
    }
   ],
   "source": [
    "def get_mc(p):\n",
    "    '''get matched counts, p: 패턴'''\n",
    "    \n",
    "    n = len(p)\n",
    "    mcs = [0] * n # matched_counts\n",
    "    j = 0\n",
    "    for i in range(1, n):\n",
    "        while j > 0 and p[i] != p[j]:\n",
    "            j = mcs[j - 1]\n",
    "        if p[i] == p[j]:\n",
    "            j += 1\n",
    "            mcs[i] = j\n",
    "    \n",
    "    return mcs\n",
    "\n",
    "def kmp(s, p):\n",
    "    n, m = len(s), len(p)\n",
    "    mcs = get_mc(p)\n",
    "    \n",
    "    pi = 0\n",
    "    for si in range(n):\n",
    "        while pi > 0 and p[pi] != s[si]:\n",
    "            pi = mcs[pi - 1]\n",
    "        if p[pi] == s[si]:\n",
    "            pi += 1\n",
    "            if pi == m:\n",
    "                return 1\n",
    "    return 0\n",
    "\n",
    "s = input()\n",
    "p = input()\n",
    "\n",
    "print(kmp(s, p))"
   ]
  },
  {
   "cell_type": "markdown",
   "metadata": {},
   "source": [
    "### 나는 친구가 적다 (Large) 16172"
   ]
  },
  {
   "cell_type": "code",
   "execution_count": 74,
   "metadata": {},
   "outputs": [
    {
     "name": "stdout",
     "output_type": "stream",
     "text": [
      "148242\n",
      "sfs\n",
      "0\n"
     ]
    }
   ],
   "source": [
    "import re\n",
    "\n",
    "s = input()\n",
    "p = input()\n",
    "\n",
    "s = re.sub('\\d', '', s)\n",
    "\n",
    "def get_mc(p):\n",
    "    n = len(p)\n",
    "    mc = [0] * n\n",
    "    j = 0\n",
    "    for i in range(1, n):\n",
    "        while j > 0 and p[i] != p[j]:\n",
    "            j = mc[j - 1]\n",
    "        if p[i] == p[j]:\n",
    "            j += 1\n",
    "            mc[i] = j\n",
    "    return mc\n",
    "\n",
    "def kmp(s, p):\n",
    "    n, m = len(s), len(p)\n",
    "    mc = get_mc(p)\n",
    "    pi = 0\n",
    "    for si in range(n):\n",
    "        while pi > 0 and s[si] != p[pi]:\n",
    "            pi = mc[pi - 1]\n",
    "        if s[si] == p[pi]:\n",
    "            pi += 1\n",
    "            if pi == m:\n",
    "                return 1\n",
    "    return 0\n",
    "\n",
    "print(kmp(s, p))"
   ]
  },
  {
   "cell_type": "code",
   "execution_count": 76,
   "metadata": {},
   "outputs": [
    {
     "name": "stdout",
     "output_type": "stream",
     "text": [
      "1ovey0uS2\n",
      "veS\n",
      "0\n"
     ]
    }
   ],
   "source": [
    "s = input()\n",
    "p = input()\n",
    "\n",
    "def get_mc(p):\n",
    "    n = len(p)\n",
    "    mc = [0] * n\n",
    "    j = 0\n",
    "    for i in range(1, n):\n",
    "        while j > 0 and p[i] != p[j]:\n",
    "            j = mc[j - 1]\n",
    "        if p[i] == p[j]:\n",
    "            j += 1\n",
    "            mc[i] = j\n",
    "    return mc\n",
    "\n",
    "def kmp(s, p):\n",
    "    n, m = len(s), len(p)\n",
    "    mc = get_mc(p)\n",
    "    pi = 0\n",
    "    for si in range(n):\n",
    "        if s[si].isdigit():\n",
    "            continue\n",
    "        \n",
    "        while pi > 0 and s[si] != p[pi]:\n",
    "            pi = mc[pi - 1]\n",
    "        if s[si] == p[pi]:\n",
    "            pi += 1\n",
    "            if pi == m:\n",
    "                return 1\n",
    "    return 0\n",
    "\n",
    "print(kmp(s, p))"
   ]
  },
  {
   "cell_type": "markdown",
   "metadata": {},
   "source": [
    "### Cubeditor 1701"
   ]
  },
  {
   "cell_type": "code",
   "execution_count": 129,
   "metadata": {},
   "outputs": [
    {
     "name": "stdout",
     "output_type": "stream",
     "text": [
      "abcdabcabb\n",
      "3\n"
     ]
    }
   ],
   "source": [
    "from collections import deque\n",
    "\n",
    "s = input()\n",
    "\n",
    "s = deque(s)\n",
    "max_j = 0\n",
    "while s:\n",
    "    mc = [0] * len(s)\n",
    "    j = 0\n",
    "    for i in range(1, len(s)):\n",
    "        while j > 0 and s[i] != s[j]:\n",
    "            j = mc[j - 1]\n",
    "        if s[i] == s[j]:\n",
    "            j += 1\n",
    "            mc[i] = j\n",
    "            max_j = max(max_j, j)\n",
    "    s.popleft()\n",
    "\n",
    "print(max_j)"
   ]
  },
  {
   "cell_type": "markdown",
   "metadata": {},
   "source": [
    "### 찾기 1786"
   ]
  },
  {
   "cell_type": "code",
   "execution_count": 136,
   "metadata": {},
   "outputs": [
    {
     "name": "stdout",
     "output_type": "stream",
     "text": [
      "ABC ABCDAB ABCDABCDABDE\n",
      "ABCDABD\n",
      "1\n",
      "16\n"
     ]
    }
   ],
   "source": [
    "def get_mc(p):\n",
    "    n = len(p)\n",
    "    mc = [0] * n\n",
    "    j = 0\n",
    "    for i in range(1, n):\n",
    "        while j > 0 and p[i] != p[j]:\n",
    "            j = mc[j - 1]\n",
    "        if p[i] == p[j]:\n",
    "            j += 1\n",
    "            mc[i] = j\n",
    "    return mc\n",
    "\n",
    "def kmp(s, p):\n",
    "    n, m = len(s), len(p)\n",
    "    mc = get_mc(p)\n",
    "    pi = 0\n",
    "    result = []\n",
    "    for si in range(n):\n",
    "        while pi > 0 and s[si] != p[pi]:\n",
    "            pi = mc[pi - 1]\n",
    "        if s[si] == p[pi]:\n",
    "            pi += 1\n",
    "            if pi == m:\n",
    "                result.append(si - m + 2)\n",
    "                pi = mc[pi - 1]\n",
    "    return result\n",
    "\n",
    "s = input()\n",
    "p = input()\n",
    "\n",
    "r = kmp(s, p)\n",
    "print(len(r))\n",
    "print(*r)"
   ]
  },
  {
   "cell_type": "markdown",
   "metadata": {},
   "source": [
    "### 문자열 제곱 4354"
   ]
  },
  {
   "cell_type": "code",
   "execution_count": 49,
   "metadata": {},
   "outputs": [
    {
     "name": "stdout",
     "output_type": "stream",
     "text": [
      "abc\n",
      "1\n",
      ".\n"
     ]
    }
   ],
   "source": [
    "def get_mc(s):\n",
    "    n = len(s)\n",
    "    mc = [0] * n\n",
    "    j = 0\n",
    "    for i in range(1, n):\n",
    "        while j > 0 and s[i] != s[j]:\n",
    "            j = mc[j - 1]\n",
    "        if s[i] == s[j]:\n",
    "            j += 1\n",
    "            mc[i] = j\n",
    "    return mc\n",
    "\n",
    "while True:\n",
    "    s = input()\n",
    "    if s == '.':\n",
    "        break\n",
    "\n",
    "    n = len(s)\n",
    "    mc = get_mc(s)\n",
    "\n",
    "    result = 1\n",
    "    cri = mc[-1]\n",
    "    if cri > 0:\n",
    "        cand = n + 1\n",
    "        to_subtract = 1\n",
    "        for i in range(n - 2, -1, -1):\n",
    "            if mc[i] < cri - to_subtract:\n",
    "                break\n",
    "            to_subtract += 1\n",
    "            if cri == to_subtract:\n",
    "                cand = i\n",
    "                break\n",
    "\n",
    "        if n % cand == 0:\n",
    "            result = n // cand\n",
    "\n",
    "    print(result)"
   ]
  },
  {
   "cell_type": "markdown",
   "metadata": {},
   "source": [
    "### 속타는 저녁 메뉴 11585"
   ]
  },
  {
   "cell_type": "code",
   "execution_count": 67,
   "metadata": {},
   "outputs": [
    {
     "name": "stdout",
     "output_type": "stream",
     "text": [
      "6\n",
      "A A B A A B\n",
      "B A A B A A\n",
      "1/3\n"
     ]
    }
   ],
   "source": [
    "from math import gcd\n",
    "\n",
    "def get_mc(p):\n",
    "    n = len(p)\n",
    "    mc = [0] * n\n",
    "    j = 0\n",
    "    for i in range(1, n):\n",
    "        while j > 0 and p[i] != p[j]:\n",
    "            j = mc[j - 1]\n",
    "        if p[i] == p[j]:\n",
    "            j += 1\n",
    "            mc[i] = j\n",
    "    return mc\n",
    "\n",
    "def kmp(s, p):\n",
    "    n = len(s)\n",
    "    nn = len(s) * 2 - 1\n",
    "    m = len(p)\n",
    "    mc = get_mc(p)\n",
    "    pi = 0\n",
    "    \n",
    "    si = 0\n",
    "    result = 0\n",
    "    cur_count = 0\n",
    "    while cur_count < nn:\n",
    "        while pi > 0 and p[pi] != s[si]:\n",
    "            pi = mc[pi - 1]\n",
    "        if p[pi] == s[si]:\n",
    "            pi += 1\n",
    "            if pi == m:\n",
    "                result += 1\n",
    "                pi = mc[pi - 1]\n",
    "        \n",
    "        cur_count += 1\n",
    "        si += 1\n",
    "        if si == n:\n",
    "            si -= n\n",
    "            \n",
    "    return result\n",
    "\n",
    "n = int(input())\n",
    "p = input().split()\n",
    "s = input().split()\n",
    "\n",
    "nu = kmp(s, p)\n",
    "de = n\n",
    "\n",
    "g = gcd(nu, de)\n",
    "\n",
    "print(f'{nu // g}/{de // g}')"
   ]
  },
  {
   "cell_type": "markdown",
   "metadata": {},
   "source": [
    "### 광고 1305"
   ]
  },
  {
   "cell_type": "code",
   "execution_count": 73,
   "metadata": {},
   "outputs": [
    {
     "name": "stdout",
     "output_type": "stream",
     "text": [
      "3\n",
      "abc\n",
      "3\n"
     ]
    }
   ],
   "source": [
    "n = int(input())\n",
    "s = input()\n",
    "\n",
    "def get_mc(s):\n",
    "    n = len(s)\n",
    "    mc = [0] * n\n",
    "    j = 0\n",
    "    for i in range(1, n):\n",
    "        while j > 0 and s[i] != s[j]:\n",
    "            j = mc[j - 1]\n",
    "        if s[i] == s[j]:\n",
    "            j += 1\n",
    "            mc[i] = j\n",
    "\n",
    "    return mc\n",
    "\n",
    "mc = get_mc(s)\n",
    "\n",
    "print(n - mc[-1])"
   ]
  },
  {
   "cell_type": "markdown",
   "metadata": {},
   "source": [
    "### 바이러스 7575"
   ]
  },
  {
   "cell_type": "code",
   "execution_count": 89,
   "metadata": {},
   "outputs": [
    {
     "name": "stdout",
     "output_type": "stream",
     "text": [
      "YES\n"
     ]
    }
   ],
   "source": [
    "import sys\n",
    "input = lambda: sys.stdin.readline().rstrip()\n",
    "linput = lambda: list(map(int, input().split()))\n",
    "\n",
    "def get_mc(psi):\n",
    "    \"\"\"psi: p start index\"\"\"\n",
    "    mc = [0] * k\n",
    "    j = psi\n",
    "    for i in range(psi + 1, psi + k):\n",
    "        while j > psi and pin[i] != pin[j]:\n",
    "            j = mc[j - psi - 1]\n",
    "        if pin[i] == pin[j]:\n",
    "            j += 1\n",
    "            mc[i - psi] = j - psi\n",
    "    return mc\n",
    "\n",
    "def kmp(s, psi, mc, ir):\n",
    "    \"\"\"ir: is reversed\"\"\"\n",
    "    \n",
    "    n = len(s)\n",
    "    pi = psi\n",
    "    if ir:\n",
    "        r = (n - 1, -1, -1)\n",
    "    else:\n",
    "        r = (n,)\n",
    "    \n",
    "    for si in range(*r):\n",
    "        while pi > psi and pin[pi] != s[si]:\n",
    "            pi = mc[pi - psi - 1]\n",
    "        if pin[pi] == s[si]:\n",
    "            pi += 1\n",
    "            if pi == psi + k:\n",
    "                return True\n",
    "    return False\n",
    "\n",
    "def check():\n",
    "    for psi in range(len(pin) - k + 1):\n",
    "        mc = get_mc(psi)\n",
    "        for i in range(n - 1):\n",
    "            t1 = kmp(li[i], psi, mc, 0)\n",
    "            t2 = kmp(li[i], psi, mc, 1)\n",
    "            if not t1 and not t2:\n",
    "                break\n",
    "        else:\n",
    "            return True\n",
    "    return False\n",
    "\n",
    "n, k = linput()\n",
    "\n",
    "input()\n",
    "pin = linput() # p included\n",
    "li = []\n",
    "for _ in range(n - 1):\n",
    "    input()\n",
    "    li.append(linput())\n",
    "    \n",
    "if check():\n",
    "    print('YES')\n",
    "else:\n",
    "    print('NO')"
   ]
  },
  {
   "cell_type": "markdown",
   "metadata": {},
   "source": [
    "### 순환 순열 12104"
   ]
  },
  {
   "cell_type": "code",
   "execution_count": 94,
   "metadata": {},
   "outputs": [
    {
     "name": "stdout",
     "output_type": "stream",
     "text": [
      "111\n",
      "111\n",
      "3\n"
     ]
    }
   ],
   "source": [
    "p = input()\n",
    "s = input()\n",
    "\n",
    "def get_mc(p):\n",
    "    n = len(p)\n",
    "    mc = [0] * n\n",
    "    j = 0\n",
    "    for i in range(1, n):\n",
    "        while j > 0 and p[i] != p[j]:\n",
    "            j = mc[j - 1]\n",
    "        if p[i] == p[j]:\n",
    "            j += 1\n",
    "            mc[i] = j\n",
    "    return mc\n",
    "            \n",
    "def kmp(s, p):\n",
    "    n, m = len(s), len(p)\n",
    "    mc = get_mc(p)\n",
    "    pi = 0\n",
    "    \n",
    "    si = 0\n",
    "    sic = 0 # s index count\n",
    "    count = 0\n",
    "    while sic < 2 * n - 1:\n",
    "        while pi > 0 and s[si] != p[pi]:\n",
    "            pi = mc[pi - 1]\n",
    "        if s[si] == p[pi]:\n",
    "            pi += 1\n",
    "            if pi == m:\n",
    "                count += 1\n",
    "                pi = mc[pi - 1]\n",
    "            \n",
    "        sic += 1\n",
    "        si += 1\n",
    "        if si >= n:\n",
    "            si = 0\n",
    "            \n",
    "    return count\n",
    "\n",
    "print(kmp(s, p))"
   ]
  },
  {
   "cell_type": "markdown",
   "metadata": {},
   "source": [
    "### 시계 사진들 10266"
   ]
  },
  {
   "cell_type": "code",
   "execution_count": 98,
   "metadata": {},
   "outputs": [
    {
     "name": "stdout",
     "output_type": "stream",
     "text": [
      "7\n",
      "140 130 110 120 125 100 105\n",
      "235 205 215 220 225 200 240\n",
      "impossible\n"
     ]
    }
   ],
   "source": [
    "n = int(input())\n",
    "a = sorted(map(int, input().split()))\n",
    "b = sorted(map(int, input().split()))\n",
    "\n",
    "a.append(a[0] + 360000)\n",
    "b.append(b[0] + 360000)\n",
    "\n",
    "s = [0] * n\n",
    "p = [0] * n\n",
    "for i in range(n):\n",
    "    s[i] = a[i + 1] - a[i]\n",
    "    p[i] = b[i + 1] - b[i]\n",
    "    \n",
    "def get_mc(p):\n",
    "    mc = [0] * n\n",
    "    j = 0\n",
    "    for i in range(1, n):\n",
    "        while j > 0 and p[i] != p[j]:\n",
    "            j = mc[j - 1]\n",
    "        if p[i] == p[j]:\n",
    "            j += 1\n",
    "            mc[i] = j\n",
    "    return mc\n",
    "\n",
    "def kmp(s, p):\n",
    "    mc = get_mc(p)\n",
    "    pi = 0\n",
    "    for si in range(2 * n - 1):\n",
    "        si %= n\n",
    "        while pi > 0 and s[si] != p[pi]:\n",
    "            pi = mc[pi - 1]\n",
    "        if s[si] == p[pi]:\n",
    "            pi += 1\n",
    "            if pi == n:\n",
    "                return True\n",
    "    return False\n",
    "\n",
    "if kmp(s, p):\n",
    "    print('possible')\n",
    "else:\n",
    "    print('impossible')"
   ]
  },
  {
   "cell_type": "markdown",
   "metadata": {},
   "source": [
    "### 이름 정하기 16900"
   ]
  },
  {
   "cell_type": "code",
   "execution_count": 104,
   "metadata": {},
   "outputs": [
    {
     "name": "stdout",
     "output_type": "stream",
     "text": [
      "abcabcabca 3\n",
      "16 16\n"
     ]
    }
   ],
   "source": [
    "def get_mc(s):\n",
    "    n = len(s)\n",
    "    mc = [0] * n\n",
    "    j = 0\n",
    "    for i in range(1, n):\n",
    "        while j > 0 and s[i] != s[j]:\n",
    "            j = mc[j - 1]\n",
    "        if s[i] == s[j]:\n",
    "            j += 1\n",
    "            mc[i] = j\n",
    "    return mc\n",
    "\n",
    "s, k = input().split()\n",
    "k = int(k)\n",
    "\n",
    "mc = get_mc(s)\n",
    "result = (len(s) - mc[-1]) * k + mc[-1]\n",
    "\n",
    "print(result)"
   ]
  },
  {
   "cell_type": "markdown",
   "metadata": {},
   "source": [
    "### 마법의 단어 1097"
   ]
  },
  {
   "cell_type": "code",
   "execution_count": 105,
   "metadata": {},
   "outputs": [
    {
     "name": "stdout",
     "output_type": "stream",
     "text": [
      "3\n",
      "AB\n",
      "RAAB\n",
      "RA\n",
      "2\n",
      "3\n"
     ]
    }
   ],
   "source": [
    "from itertools import permutations as perm\n",
    "\n",
    "def get_mc(s):\n",
    "    n = len(s)\n",
    "    mc = [0] * n\n",
    "    j = 0\n",
    "    for i in range(1, n):\n",
    "        while j > 0 and s[i] != s[j]:\n",
    "            j = mc[j - 1]\n",
    "        if s[i] == s[j]:\n",
    "            j += 1\n",
    "            mc[i] = j\n",
    "    return mc\n",
    "\n",
    "def kmp(s):\n",
    "    n = len(s)\n",
    "    mc = get_mc(s)\n",
    "    pi = 0\n",
    "    count = 0\n",
    "    for si in range(n * 2 - 1):\n",
    "        si %= n\n",
    "        while pi > 0 and s[si] != s[pi]:\n",
    "            pi = mc[pi - 1]\n",
    "        if s[si] == s[pi]:\n",
    "            pi += 1\n",
    "            if pi == n:\n",
    "                count += 1\n",
    "                pi = mc[pi - 1]\n",
    "    return count\n",
    "\n",
    "n = int(input())\n",
    "li = [input() for _ in range(n)]\n",
    "k = int(input())\n",
    "cases = perm(li, n)\n",
    "\n",
    "result = 0\n",
    "for case in cases:\n",
    "    s = ''.join(case)\n",
    "    if kmp(s) == k:\n",
    "        result += 1\n",
    "        \n",
    "print(result)"
   ]
  },
  {
   "cell_type": "code",
   "execution_count": null,
   "metadata": {},
   "outputs": [],
   "source": [
    "t = int(input())\n",
    "for _ in range(t):\n",
    "    seq = "
   ]
  },
  {
   "cell_type": "code",
   "execution_count": null,
   "metadata": {},
   "outputs": [],
   "source": [
    "from collections import deque\n",
    "import sys\n",
    "# input = lambda: sys.stdin.readline().rstrip()\n",
    "\n",
    "def get_mc(p):\n",
    "    n = len(p)\n",
    "    mc = [0] * n\n",
    "    j = 0\n",
    "    for i in range(1, n):\n",
    "        while j > 0 and p[i] != p[j]:\n",
    "            j = mc[j - 1]\n",
    "        if p[i] == p[j]:\n",
    "            j += 1\n",
    "            mc[i] = j\n",
    "    return mc\n",
    "\n",
    "def kmp(s, p):\n",
    "    n, m = len(s), len(p)\n",
    "    mc = get_mc(p)\n",
    "    pi = 0\n",
    "    count = 0\n",
    "    for si in range(n):\n",
    "        while pi > 0 and s[si] != p[pi]:\n",
    "            pi = mc[pi - 1]\n",
    "        if s[si] == p[pi]:\n",
    "            pi += 1\n",
    "            if pi == m:\n",
    "                count += 1\n",
    "                pi = mc[pi - 1]\n",
    "                \n",
    "    return count\n",
    "\n",
    "for _ in range(int(input())):\n",
    "    seq = input()\n",
    "    n = len(seq)\n",
    "    deq = deque(seq)\n",
    "\n",
    "    origin = list(input())\n",
    "    s = input()\n",
    "\n",
    "    result = []\n",
    "    for i in range(n):\n",
    "        d = {seq[i]: deq[i] for i in range(n)}\n",
    "        p = [d[v] for v in origin]\n",
    "        c = kmp(s, p)\n",
    "        if c == 1:\n",
    "            result.append(i)\n",
    "        deq.rotate(-1)\n",
    "\n",
    "    if not result:\n",
    "        print('no solution')\n",
    "    elif len(result) == 1:\n",
    "        print(f'unique: {result[0]}')\n",
    "    else:\n",
    "        print(f'ambiguous: ', end='')\n",
    "        print(*result)"
   ]
  },
  {
   "cell_type": "code",
   "execution_count": 3,
   "metadata": {},
   "outputs": [
    {
     "name": "stdout",
     "output_type": "stream",
     "text": [
      "yeshowmuchiloveyoumydearmotherreallyicannotbelieveit\n",
      "yeaphowmuchiloveyoumydearmother\n",
      "howmuchiloveyoumydearmother\n",
      "YES\n"
     ]
    }
   ],
   "source": [
    "def get_mc(p):\n",
    "    n = len(p)\n",
    "    mc = [0] * n\n",
    "    j = 0\n",
    "    for i in range(1, n):\n",
    "        while j > 0 and p[i] != p[j]:\n",
    "            j = mc[j - 1]\n",
    "        if p[i] == p[j]:\n",
    "            j += 1\n",
    "            mc[i] = j\n",
    "    return mc\n",
    "\n",
    "def kmp(s, p):\n",
    "    n, m = len(s), len(p)\n",
    "    mc = get_mc(p)\n",
    "    pi = 0\n",
    "    for si in range(n):\n",
    "        while pi > 0 and s[si] != p[pi]:\n",
    "            pi = mc[pi - 1]\n",
    "        if s[si] == p[pi]:\n",
    "            pi += 1\n",
    "            if pi == m:\n",
    "                return True\n",
    "    return False\n",
    "\n",
    "a = input()\n",
    "b = input()\n",
    "p = input()\n",
    "\n",
    "if kmp(a, p) and kmp(b, p):\n",
    "    print('YES')\n",
    "else:\n",
    "    print('NO')"
   ]
  },
  {
   "cell_type": "code",
   "execution_count": null,
   "metadata": {},
   "outputs": [],
   "source": [
    "yeshowmuchiloveyoumydearmotherreallyicannotbelieveit\n",
    "yeaphowmuchiloveyoumydearmother\n",
    "howmuchiloveyoumydearmother"
   ]
  },
  {
   "cell_type": "markdown",
   "metadata": {},
   "source": [
    "### 카멜레온 부분 문자열 13506"
   ]
  },
  {
   "cell_type": "code",
   "execution_count": 7,
   "metadata": {},
   "outputs": [
    {
     "name": "stdout",
     "output_type": "stream",
     "text": [
      "qwertyqwertyqwerty\n",
      "-1\n"
     ]
    }
   ],
   "source": [
    "# 일단 포기\n",
    "def get_mc(s):\n",
    "    mc = [0] * n\n",
    "    j = 0\n",
    "    for i in range(1, n):\n",
    "        while j > 0 and s[i] != s[j]:\n",
    "            j = mc[j - 1]\n",
    "        if s[i] == s[j]:\n",
    "            j += 1\n",
    "            mc[i] = j\n",
    "    return mc\n",
    "\n",
    "s = input()\n",
    "n = len(s)\n",
    "\n",
    "mc = get_mc(s)\n",
    "if mc[-1] == 0:\n",
    "    c = 0\n",
    "else:\n",
    "    c = mc.count(mc[-1])\n",
    "    \n",
    "if c >= 2:\n",
    "    print(s[:mc[-1]])\n",
    "else:\n",
    "    print(-1)"
   ]
  },
  {
   "cell_type": "markdown",
   "metadata": {},
   "source": [
    "### 라디오 전송 3356"
   ]
  },
  {
   "cell_type": "code",
   "execution_count": 1,
   "metadata": {},
   "outputs": [
    {
     "name": "stdout",
     "output_type": "stream",
     "text": [
      "8\n",
      "cabcabca\n",
      "3\n"
     ]
    }
   ],
   "source": [
    "def get_mc(s):\n",
    "    mc = [0] * n\n",
    "    j = 0\n",
    "    for i in range(1, n):\n",
    "        while j > 0 and s[i] != s[j]:\n",
    "            j = mc[j - 1]\n",
    "        if s[i] == s[j]:\n",
    "            j += 1\n",
    "            mc[i] = j\n",
    "    return mc\n",
    "\n",
    "n = int(input())\n",
    "s = input()\n",
    "\n",
    "mc = get_mc(s)\n",
    "print(n - mc[-1])"
   ]
  },
  {
   "cell_type": "code",
   "execution_count": 6,
   "metadata": {},
   "outputs": [
    {
     "name": "stdout",
     "output_type": "stream",
     "text": [
      "3\n",
      "aaa\n",
      "Test case #1\n",
      "2 2\n",
      "3 3\n",
      "\n",
      "12\n",
      "aabaabaabaab\n",
      "Test case #2\n",
      "2 2\n",
      "6 2\n",
      "9 3\n",
      "12 4\n",
      "\n",
      "0\n"
     ]
    }
   ],
   "source": [
    "def get_mc(s):\n",
    "    mc = [0] * n\n",
    "    j = 0\n",
    "    for i in range(1, n):\n",
    "        while j > 0 and s[i] != s[j]:\n",
    "            j = mc[j - 1]\n",
    "        if s[i] == s[j]:\n",
    "            j += 1\n",
    "            mc[i] = j\n",
    "    return mc\n",
    "\n",
    "t = 1\n",
    "while True:\n",
    "    n = int(input())\n",
    "    if n == 0:\n",
    "        break\n",
    "    s = input()\n",
    "\n",
    "    mc = get_mc(s)\n",
    "    result = []\n",
    "    for i in range(1, n):\n",
    "        if mc[i] > 0:\n",
    "            spn = i + 1 # s part len\n",
    "            diff = (spn - mc[i])\n",
    "            if spn % diff == 0:\n",
    "                result.append((spn, spn // diff))\n",
    "\n",
    "    print(f'Test case #{t}')\n",
    "    for v in result:\n",
    "        print(*v)\n",
    "    \n",
    "    t += 1\n",
    "    print()"
   ]
  },
  {
   "cell_type": "markdown",
   "metadata": {},
   "source": [
    "### 주기문 1498"
   ]
  },
  {
   "cell_type": "code",
   "execution_count": 8,
   "metadata": {},
   "outputs": [
    {
     "name": "stdout",
     "output_type": "stream",
     "text": [
      "aabaab\n",
      "2 2\n",
      "6 2\n"
     ]
    }
   ],
   "source": [
    "def get_mc(s):\n",
    "    n = len(s)\n",
    "    mc = [0] * n\n",
    "    j = 0\n",
    "    for i in range(1, n):\n",
    "        while j > 0 and s[i] != s[j]:\n",
    "            j = mc[j - 1]\n",
    "        if s[i] == s[j]:\n",
    "            j += 1\n",
    "            mc[i] = j\n",
    "    return mc\n",
    "\n",
    "s = input()\n",
    "\n",
    "mc = get_mc(s)\n",
    "for index in range(1, len(s)):\n",
    "    if mc[index] > 0:  \n",
    "        spl = index + 1 # s part len\n",
    "        diff = spl - mc[index]\n",
    "        if spl % diff == 0:\n",
    "            print(spl, spl // diff)"
   ]
  },
  {
   "cell_type": "markdown",
   "metadata": {},
   "source": [
    "### 앞뒤가 맞는 수열 16570"
   ]
  },
  {
   "cell_type": "code",
   "execution_count": 17,
   "metadata": {},
   "outputs": [
    {
     "name": "stdout",
     "output_type": "stream",
     "text": [
      "10\n",
      "0 1 2 3 4 5 6 7 8 9\n",
      "-1\n"
     ]
    }
   ],
   "source": [
    "def get_mc(s):\n",
    "    mc = [0] * n\n",
    "    j = 0\n",
    "    for i in range(1, n):\n",
    "        while j > 0 and s[i] != s[j]:\n",
    "            j = mc[j - 1]\n",
    "        if s[i] == s[j]:\n",
    "            j += 1\n",
    "            mc[i] = j\n",
    "    return mc\n",
    "\n",
    "n = int(input())\n",
    "s = list(map(int, input().split()))\n",
    "s.reverse()\n",
    "\n",
    "mc = get_mc(s)\n",
    "max_count = 0\n",
    "case_count = 0\n",
    "for i in range(1, n):\n",
    "    if mc[i] > max_count:\n",
    "        max_count = mc[i]\n",
    "        case_count = 1\n",
    "    elif mc[i] == max_count:\n",
    "        case_count += 1\n",
    "        \n",
    "if max_count == 0:\n",
    "    print(-1)\n",
    "else:\n",
    "    print(max_count, case_count)"
   ]
  },
  {
   "cell_type": "markdown",
   "metadata": {},
   "source": [
    "### 문자열 장식 17233"
   ]
  },
  {
   "cell_type": "code",
   "execution_count": null,
   "metadata": {},
   "outputs": [],
   "source": [
    "starts =[100, 010, 001, 000]\n",
    "ends = [000, 000, 010, 000]\n",
    "같은 식으로 kmp에서 정확히 매칭되는 해당 패턴이 시작되는 인덱스하고\n",
    "끝나는 인덱스에 해당 패턴의 비트 표현을 넣음\n",
    "\n",
    "두 포인터를 사용해서 처음에는 둘 다 0에 있고\n",
    "\n",
    "->\n",
    "\n",
    "starts = [{0, 3}, {}, {}, ... (s 길이 개)]\n",
    "ends = [{}, {0}, {3}, ... (s 길이 개)]\n",
    "\n",
    "included_counts = [0, 0, 0, ... (n개)]\n",
    "included = set()\n",
    "\n",
    "si = 0\n",
    "ei = 0"
   ]
  },
  {
   "cell_type": "code",
   "execution_count": 26,
   "metadata": {},
   "outputs": [
    {
     "name": "stdout",
     "output_type": "stream",
     "text": [
      "2\n",
      "7 insider\n",
      "4 acka\n",
      "53 superduperinsiderkinggodackaemperorgeneralchungmugong\n",
      "18\n"
     ]
    }
   ],
   "source": [
    "def get_mc(p):\n",
    "    n = len(p)\n",
    "    mc = [0] * n\n",
    "    j = 0\n",
    "    for i in range(1, n):\n",
    "        while j > 0 and p[i] != p[j]:\n",
    "            j = mc[j - 1]\n",
    "        if p[i] == p[j]:\n",
    "            j += 1\n",
    "            mc[i] = j\n",
    "    return mc\n",
    "\n",
    "def kmp(spi, s, p):\n",
    "    n, m = len(s), len(p)\n",
    "    mc = get_mc(p)\n",
    "    pi = 0\n",
    "    for si in range(n):\n",
    "        while pi > 0 and s[si] != p[pi]:\n",
    "            pi = mc[pi - 1]\n",
    "        if s[si] == p[pi]:\n",
    "            pi += 1\n",
    "            if pi == m:\n",
    "                ends[si].add(spi)\n",
    "                starts[si - m + 1].add(spi)\n",
    "                pi = mc[pi - 1]\n",
    "\n",
    "n = int(input())\n",
    "\n",
    "li = []\n",
    "for _ in range(n):\n",
    "    v = input().split() # sp: s part\n",
    "    li.append(v[1])\n",
    "\n",
    "s_len, s = input().split()\n",
    "s_len = int(s_len)\n",
    "\n",
    "starts = [set() for _ in range(s_len)]\n",
    "ends = [set() for _ in range(s_len)]\n",
    "for spi in range(n):\n",
    "    kmp(spi, s, li[spi])\n",
    "\n",
    "ics = [0] * n # included counts\n",
    "cid_st = set() # current included set\n",
    "\n",
    "si = 0\n",
    "ei = 0\n",
    "for v in ends[0]:\n",
    "    ics[v] += 1\n",
    "    cid_st.add(v)\n",
    "    \n",
    "mr = float('inf') # min result\n",
    "while si <= ei and ei < s_len:\n",
    "    if len(cid_st) == n:\n",
    "        mr = min(mr, ei - si + 1)\n",
    "        si += 1\n",
    "        for v in starts[si - 1]:\n",
    "            ics[v] -= 1\n",
    "            if ics[v] == 0:\n",
    "                cid_st.discard(v)\n",
    "    else:\n",
    "        ei += 1\n",
    "        if ei == s_len:\n",
    "            break\n",
    "            \n",
    "        for v in ends[ei]:\n",
    "            ics[v] += 1\n",
    "            cid_st.add(v)\n",
    "            \n",
    "print(mr)"
   ]
  },
  {
   "cell_type": "code",
   "execution_count": 51,
   "metadata": {},
   "outputs": [
    {
     "name": "stdout",
     "output_type": "stream",
     "text": [
      "4\n",
      "2 an\n",
      "4 anab\n",
      "2 ab\n",
      "4 nana\n",
      "18 bananabananabanana\n",
      "5\n"
     ]
    }
   ],
   "source": [
    "def get_mc(p):\n",
    "    n = len(p)\n",
    "    mc = [0] * n\n",
    "    j = 0\n",
    "    for i in range(1, n):\n",
    "        while j > 0 and p[i] != p[j]:\n",
    "            j = mc[j - 1]\n",
    "        if p[i] == p[j]:\n",
    "            j += 1\n",
    "            mc[i] = j\n",
    "    return mc\n",
    "\n",
    "def kmp(spi, s, p):\n",
    "    n, m = len(s), len(p)\n",
    "    mc = get_mc(p)\n",
    "    pi = 0\n",
    "    for si in range(n):\n",
    "        while pi > 0 and s[si] != p[pi]:\n",
    "            pi = mc[pi - 1]\n",
    "        if s[si] == p[pi]:\n",
    "            pi += 1\n",
    "            if pi == m:\n",
    "                b = 1 << spi\n",
    "                ends[si] |= b\n",
    "                starts[si - m + 1] |= b\n",
    "                pi = mc[pi - 1]\n",
    "\n",
    "n = int(input())\n",
    "\n",
    "li = []\n",
    "for _ in range(n):\n",
    "    v = input().split() # sp: s part\n",
    "    li.append(v[1])\n",
    "\n",
    "s_len, s = input().split()\n",
    "s_len = int(s_len)\n",
    "\n",
    "starts = [1 << n] * s_len\n",
    "ends = [1 << n] * s_len\n",
    "for spi in range(n):\n",
    "    kmp(spi, s, li[spi])\n",
    "\n",
    "ics = [0] * n # included counts\n",
    "cid_st = set() # current included set\n",
    "\n",
    "si = 0\n",
    "ei = 0\n",
    "for i, v in enumerate(str(bin(ends[0]))):\n",
    "    if i >= 3 and v == '1':\n",
    "        ics[i - 3] += 1\n",
    "        cid_st.add(i - 3)\n",
    "    \n",
    "mr = float('inf') # min result\n",
    "while si <= ei and ei < s_len:\n",
    "    if len(cid_st) == n:\n",
    "        mr = min(mr, ei - si + 1)\n",
    "        si += 1     \n",
    "        for i, v in enumerate(str(bin(starts[si - 1]))):     \n",
    "            if i >= 3 and v == '1':\n",
    "                ni = i - 3   \n",
    "                ics[ni]  -= 1\n",
    "                if ics[ni] == 0:\n",
    "                    cid_st.discard(ni)   \n",
    "    else:\n",
    "        ei += 1\n",
    "        if ei == s_len:\n",
    "            break\n",
    "            \n",
    "        for i, v in enumerate(str(bin(ends[ei]))):\n",
    "            if i >= 3 and v == '1':\n",
    "                ni = i - 3   \n",
    "                ics[ni] += 1\n",
    "                cid_st.add(ni)\n",
    "            \n",
    "print(mr)"
   ]
  }
 ],
 "metadata": {
  "kernelspec": {
   "display_name": "Python 3",
   "language": "python",
   "name": "python3"
  },
  "language_info": {
   "codemirror_mode": {
    "name": "ipython",
    "version": 3
   },
   "file_extension": ".py",
   "mimetype": "text/x-python",
   "name": "python",
   "nbconvert_exporter": "python",
   "pygments_lexer": "ipython3",
   "version": "3.7.3"
  }
 },
 "nbformat": 4,
 "nbformat_minor": 4
}
